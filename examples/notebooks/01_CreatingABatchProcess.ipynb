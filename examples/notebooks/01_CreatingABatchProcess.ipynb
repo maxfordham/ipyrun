{
 "cells": [
  {
   "cell_type": "code",
   "execution_count": 1,
   "metadata": {},
   "outputs": [],
   "source": [
    "import os\n",
    "NBFDIR = os.path.dirname(os.path.realpath('__file__'))\n",
    "import pandas as pd\n",
    "from ipyrun.ipyrun import RunApp, RunApps\n",
    "from pprint import pprint"
   ]
  },
  {
   "cell_type": "markdown",
   "metadata": {},
   "source": [
    "# Creating a Batch Process"
   ]
  },
  {
   "cell_type": "markdown",
   "metadata": {},
   "source": [
    "In the last example we made a RunApp widget. Here we will create a batch of Widgets that can be run together."
   ]
  },
  {
   "cell_type": "markdown",
   "metadata": {},
   "source": [
    "## the previous example of 1 script:"
   ]
  },
  {
   "cell_type": "code",
   "execution_count": 2,
   "metadata": {},
   "outputs": [
    {
     "data": {
      "application/vnd.jupyter.widget-view+json": {
       "model_id": "b0d4a54b9b0d4274a155d85ad29cf655",
       "version_major": 2,
       "version_minor": 0
      },
      "text/plain": [
       "HBox(children=(Checkbox(value=False, indent=False, layout=Layout(height='30px', max_width='30px', padding='3px…"
      ]
     },
     "metadata": {},
     "output_type": "display_data"
    },
    {
     "data": {
      "application/vnd.jupyter.widget-view+json": {
       "model_id": "4d8d0a6beaeb4f9eb7016052cae7ca79",
       "version_major": 2,
       "version_minor": 0
      },
      "text/plain": [
       "Output()"
      ]
     },
     "metadata": {},
     "output_type": "display_data"
    }
   ],
   "source": [
    "\n",
    "fpth_script = r'..\\scripts\\expansion_vessel_sizing.py'\n",
    "config={\n",
    "    'fpth_script':os.path.realpath(fpth_script),\n",
    "    'fdir':NBFDIR,\n",
    "    }  \n",
    "r = RunApp(config)\n",
    "r "
   ]
  },
  {
   "cell_type": "markdown",
   "metadata": {},
   "source": [
    "## creating a batch\n",
    "\n",
    "to create a batch you simply create a list of config dicts.  \n",
    "recall the configuration that is set up when the RunApp is initiated:\n"
   ]
  },
  {
   "cell_type": "code",
   "execution_count": 3,
   "metadata": {},
   "outputs": [
    {
     "name": "stdout",
     "output_type": "stream",
     "text": [
      "{'fdir': 'C:\\\\engDev\\\\git_mf\\\\ipyrun\\\\examples\\\\notebooks',\n",
      " 'fdir_config': 'C:\\\\engDev\\\\git_mf\\\\ipyrun\\\\examples\\\\notebooks\\\\appdata\\\\config',\n",
      " 'fdir_inputs': 'C:\\\\engDev\\\\git_mf\\\\ipyrun\\\\examples\\\\notebooks\\\\appdata\\\\inputs',\n",
      " 'fdir_inputs_archive': 'C:\\\\engDev\\\\git_mf\\\\ipyrun\\\\examples\\\\notebooks\\\\appdata\\\\inputs\\\\archive',\n",
      " 'fdir_log': 'C:\\\\engDev\\\\git_mf\\\\ipyrun\\\\examples\\\\notebooks\\\\appdata\\\\log',\n",
      " 'fdir_outputs': ['C:\\\\engDev\\\\git_mf\\\\ipyrun\\\\examples\\\\notebooks'],\n",
      " 'fnm_config': 'config-expansion_vessel_sizing.json',\n",
      " 'fnm_log': 'log-expansion_vessel_sizing.csv',\n",
      " 'fpth_config': 'C:\\\\engDev\\\\git_mf\\\\ipyrun\\\\examples\\\\notebooks\\\\appdata\\\\config\\\\config-expansion_vessel_sizing.json',\n",
      " 'fpth_inputs': 'C:\\\\engDev\\\\git_mf\\\\ipyrun\\\\examples\\\\notebooks\\\\appdata\\\\inputs\\\\inputs-expansion_vessel_sizing.json',\n",
      " 'fpth_inputs_options': {'project': {'fdir': 'C:\\\\engDev\\\\git_mf\\\\ipyrun\\\\examples\\\\notebooks\\\\appdata\\\\inputs',\n",
      "                                     'fpths': ['C:\\\\engDev\\\\git_mf\\\\ipyrun\\\\examples\\\\notebooks\\\\appdata\\\\inputs\\\\inputs-expansion_vessel_sizing.json',\n",
      "                                               'C:\\\\engDev\\\\git_mf\\\\ipyrun\\\\examples\\\\notebooks\\\\appdata\\\\inputs\\\\archive\\\\20200612_1731-jg-inputs-expansion_vessel_sizing.json',\n",
      "                                               'C:\\\\engDev\\\\git_mf\\\\ipyrun\\\\examples\\\\notebooks\\\\appdata\\\\inputs\\\\archive\\\\20200612_1817-jg-inputs-expansion_vessel_sizing.json',\n",
      "                                               'C:\\\\engDev\\\\git_mf\\\\ipyrun\\\\examples\\\\notebooks\\\\appdata\\\\inputs\\\\archive\\\\20200612_1818-jg-inputs-expansion_vessel_sizing.json',\n",
      "                                               'C:\\\\engDev\\\\git_mf\\\\ipyrun\\\\examples\\\\notebooks\\\\appdata\\\\inputs\\\\archive\\\\20200612_1819-jg-inputs-expansion_vessel_sizing.json',\n",
      "                                               'C:\\\\engDev\\\\git_mf\\\\ipyrun\\\\examples\\\\notebooks\\\\appdata\\\\inputs\\\\archive\\\\20200612_1900-jg-inputs-expansion_vessel_sizing.json',\n",
      "                                               'C:\\\\engDev\\\\git_mf\\\\ipyrun\\\\examples\\\\notebooks\\\\appdata\\\\inputs\\\\archive\\\\20200615_2211-jg-inputs-expansion_vessel_sizing.json',\n",
      "                                               'C:\\\\engDev\\\\git_mf\\\\ipyrun\\\\examples\\\\notebooks\\\\appdata\\\\inputs\\\\archive\\\\20200616_1020-jg-inputs-expansion_vessel_sizing.json',\n",
      "                                               'C:\\\\engDev\\\\git_mf\\\\ipyrun\\\\examples\\\\notebooks\\\\appdata\\\\inputs\\\\archive\\\\20200616_1021-jg-inputs-expansion_vessel_sizing.json']},\n",
      "                         'template': {'fdir': 'C:\\\\engDev\\\\git_mf\\\\ipyrun\\\\examples\\\\scripts\\\\template_inputs',\n",
      "                                      'fpths': ['C:\\\\engDev\\\\git_mf\\\\ipyrun\\\\examples\\\\scripts\\\\template_inputs\\\\inputs-expansion_vessel_sizing.json']}},\n",
      " 'fpth_log': 'C:\\\\engDev\\\\git_mf\\\\ipyrun\\\\examples\\\\notebooks\\\\appdata\\\\log\\\\log-expansion_vessel_sizing.csv',\n",
      " 'fpth_script': 'C:\\\\engDev\\\\git_mf\\\\ipyrun\\\\examples\\\\scripts\\\\expansion_vessel_sizing.py',\n",
      " 'fpths_outputs': {'0': 'C:\\\\engDev\\\\git_mf\\\\ipyrun\\\\examples\\\\notebooks\\\\expansion_vessel_sizing.csv'},\n",
      " 'jobno': 'C:\\\\e',\n",
      " 'pretty_name': 'expansion_vessel_sizing',\n",
      " 'process_name': 'expansion_vessel_sizing',\n",
      " 'script_outputs': {'0': {'description': 'a simple calc for sizing expansion '\n",
      "                                         'vessels. could be expanded to size '\n",
      "                                         'many vessels.',\n",
      "                          'fdir': '.',\n",
      "                          'fnm': 'expansion_vessel_sizing.csv'}}}\n"
     ]
    }
   ],
   "source": [
    "pprint(r.config)"
   ]
  },
  {
   "cell_type": "markdown",
   "metadata": {},
   "source": [
    "the \"process_name\" variable by default is simply the filename of the script. this means that if we are creating a batch that uses the same script with different inputs, we need to manually assign different process_name's:"
   ]
  },
  {
   "cell_type": "code",
   "execution_count": 4,
   "metadata": {},
   "outputs": [],
   "source": [
    "config={\n",
    "    'fpth_script':os.path.realpath(fpth_script),\n",
    "    'fdir':NBFDIR,\n",
    "    }  \n",
    "iters = 3\n",
    "batch = []\n",
    "for n in range(0,iters):\n",
    "    tmp = config.copy()\n",
    "    tmp.update({'process_name':os.path.splitext(os.path.basename(config['fpth_script']))[0] + '_' + str(n)})\n",
    "    batch.append(tmp)"
   ]
  },
  {
   "cell_type": "code",
   "execution_count": 5,
   "metadata": {},
   "outputs": [
    {
     "data": {
      "application/vnd.jupyter.widget-view+json": {
       "model_id": "56ad852a331f4b588a4850969e01f799",
       "version_major": 2,
       "version_minor": 0
      },
      "text/plain": [
       "HBox(children=(Button(icon='eye-slash', layout=Layout(width='5%'), style=ButtonStyle(font_weight='bold'), tool…"
      ]
     },
     "metadata": {},
     "output_type": "display_data"
    },
    {
     "data": {
      "application/vnd.jupyter.widget-view+json": {
       "model_id": "499457462ca04a099fa3fdf9b43408bf",
       "version_major": 2,
       "version_minor": 0
      },
      "text/plain": [
       "Output()"
      ]
     },
     "metadata": {},
     "output_type": "display_data"
    },
    {
     "data": {
      "application/vnd.jupyter.widget-view+json": {
       "model_id": "a9a1d7200d11482c85484b88aef09268",
       "version_major": 2,
       "version_minor": 0
      },
      "text/plain": [
       "HBox(children=(Checkbox(value=False, indent=False, layout=Layout(height='30px', max_width='30px', padding='3px…"
      ]
     },
     "metadata": {},
     "output_type": "display_data"
    },
    {
     "data": {
      "application/vnd.jupyter.widget-view+json": {
       "model_id": "0dc1ef5bfdeb4c23a825babf559b0377",
       "version_major": 2,
       "version_minor": 0
      },
      "text/plain": [
       "Output()"
      ]
     },
     "metadata": {},
     "output_type": "display_data"
    },
    {
     "data": {
      "application/vnd.jupyter.widget-view+json": {
       "model_id": "a4627c921c2a4bbc8a550dee6caf1951",
       "version_major": 2,
       "version_minor": 0
      },
      "text/plain": [
       "HBox(children=(Checkbox(value=False, indent=False, layout=Layout(height='30px', max_width='30px', padding='3px…"
      ]
     },
     "metadata": {},
     "output_type": "display_data"
    },
    {
     "data": {
      "application/vnd.jupyter.widget-view+json": {
       "model_id": "d860d26aa37847aab9c8c99eaebe70ce",
       "version_major": 2,
       "version_minor": 0
      },
      "text/plain": [
       "Output()"
      ]
     },
     "metadata": {},
     "output_type": "display_data"
    },
    {
     "data": {
      "application/vnd.jupyter.widget-view+json": {
       "model_id": "5f805a7dc4654418b56246f1d3b96cbf",
       "version_major": 2,
       "version_minor": 0
      },
      "text/plain": [
       "HBox(children=(Checkbox(value=False, indent=False, layout=Layout(height='30px', max_width='30px', padding='3px…"
      ]
     },
     "metadata": {},
     "output_type": "display_data"
    },
    {
     "data": {
      "application/vnd.jupyter.widget-view+json": {
       "model_id": "f3630f4a112542d494b4e0eab79a403b",
       "version_major": 2,
       "version_minor": 0
      },
      "text/plain": [
       "Output()"
      ]
     },
     "metadata": {},
     "output_type": "display_data"
    }
   ],
   "source": [
    "RunApps(batch)"
   ]
  },
  {
   "cell_type": "markdown",
   "metadata": {},
   "source": [
    "__note__ if all the scripts are different the additional step of manually assigning the process names is not required. we should also probably "
   ]
  },
  {
   "cell_type": "code",
   "execution_count": null,
   "metadata": {},
   "outputs": [],
   "source": []
  },
  {
   "cell_type": "code",
   "execution_count": null,
   "metadata": {},
   "outputs": [],
   "source": []
  },
  {
   "cell_type": "code",
   "execution_count": null,
   "metadata": {},
   "outputs": [],
   "source": []
  },
  {
   "cell_type": "code",
   "execution_count": null,
   "metadata": {},
   "outputs": [],
   "source": []
  },
  {
   "cell_type": "code",
   "execution_count": null,
   "metadata": {},
   "outputs": [],
   "source": []
  },
  {
   "cell_type": "code",
   "execution_count": null,
   "metadata": {},
   "outputs": [],
   "source": []
  },
  {
   "cell_type": "code",
   "execution_count": null,
   "metadata": {},
   "outputs": [],
   "source": []
  },
  {
   "cell_type": "code",
   "execution_count": null,
   "metadata": {},
   "outputs": [],
   "source": [
    "# import\n",
    "import plotly.io as pio\n",
    "import plotly.graph_objs as go\n",
    "\n",
    "fig.write_json('BMSDataDrivenWaterfall.json')\n",
    "pio.read_json('BMSDataDrivenWaterfall.json')"
   ]
  },
  {
   "cell_type": "code",
   "execution_count": 38,
   "metadata": {},
   "outputs": [
    {
     "data": {
      "text/plain": [
       "'plotlyexample.plotly.json'"
      ]
     },
     "execution_count": 38,
     "metadata": {},
     "output_type": "execute_result"
    }
   ],
   "source": [
    "fpth"
   ]
  },
  {
   "cell_type": "code",
   "execution_count": 37,
   "metadata": {},
   "outputs": [
    {
     "data": {
      "application/vnd.jupyter.widget-view+json": {
       "model_id": "dfa67bfd174542149784fd80795edbc6",
       "version_major": 2,
       "version_minor": 0
      },
      "text/plain": [
       "FigureWidget({\n",
       "    'data': [{'type': 'scatter', 'uid': '52f18b50-fa60-47dd-97c2-71aede3f6e89', 'y': [1, 2, 3]}…"
      ]
     },
     "metadata": {},
     "output_type": "display_data"
    }
   ],
   "source": [
    "# import\n",
    "import plotly.io as pio\n",
    "import plotly.graph_objs as go\n",
    "\n",
    "# make a figure\n",
    "# go to the plotly docs for help: https://plot.ly/python/figurewidget/\n",
    "\n",
    "fig = go.FigureWidget()\n",
    "fig.add_scatter(y=[1,2,3])\n",
    "fig"
   ]
  },
  {
   "cell_type": "code",
   "execution_count": null,
   "metadata": {},
   "outputs": [],
   "source": []
  },
  {
   "cell_type": "code",
   "execution_count": null,
   "metadata": {},
   "outputs": [],
   "source": []
  },
  {
   "cell_type": "code",
   "execution_count": 28,
   "metadata": {},
   "outputs": [],
   "source": [
    "fpth = 'plotlyexample.plotly.json'\n",
    "with open(fpth, 'r') as f:\n",
    "    json_file = json.load(f)"
   ]
  },
  {
   "cell_type": "code",
   "execution_count": 27,
   "metadata": {},
   "outputs": [
    {
     "ename": "JSONDecodeError",
     "evalue": "Expecting value: line 1 column 1 (char 0)",
     "output_type": "error",
     "traceback": [
      "\u001b[1;31m---------------------------------------------------------------------------\u001b[0m",
      "\u001b[1;31mJSONDecodeError\u001b[0m                           Traceback (most recent call last)",
      "\u001b[1;32m<ipython-input-27-8cb0da6adfdb>\u001b[0m in \u001b[0;36m<module>\u001b[1;34m\u001b[0m\n\u001b[0;32m      2\u001b[0m \u001b[1;33m\u001b[0m\u001b[0m\n\u001b[0;32m      3\u001b[0m \u001b[1;32mwith\u001b[0m \u001b[0mopen\u001b[0m\u001b[1;33m(\u001b[0m\u001b[0mfpth\u001b[0m\u001b[1;33m,\u001b[0m \u001b[1;34m'r'\u001b[0m\u001b[1;33m)\u001b[0m \u001b[1;32mas\u001b[0m \u001b[0mf\u001b[0m\u001b[1;33m:\u001b[0m\u001b[1;33m\u001b[0m\u001b[1;33m\u001b[0m\u001b[0m\n\u001b[1;32m----> 4\u001b[1;33m     \u001b[0mjson_file\u001b[0m \u001b[1;33m=\u001b[0m \u001b[0mjson\u001b[0m\u001b[1;33m.\u001b[0m\u001b[0mloads\u001b[0m\u001b[1;33m(\u001b[0m\u001b[1;34m'plotlyexample.plotly.json'\u001b[0m\u001b[1;33m)\u001b[0m\u001b[1;33m\u001b[0m\u001b[1;33m\u001b[0m\u001b[0m\n\u001b[0m\u001b[0;32m      5\u001b[0m \u001b[1;33m\u001b[0m\u001b[0m\n\u001b[0;32m      6\u001b[0m \u001b[0mjson_file\u001b[0m\u001b[1;33m\u001b[0m\u001b[1;33m\u001b[0m\u001b[0m\n",
      "\u001b[1;32mC:\\ProgramData\\Miniconda3\\envs\\mf_main\\lib\\json\\__init__.py\u001b[0m in \u001b[0;36mloads\u001b[1;34m(s, encoding, cls, object_hook, parse_float, parse_int, parse_constant, object_pairs_hook, **kw)\u001b[0m\n\u001b[0;32m    346\u001b[0m             \u001b[0mparse_int\u001b[0m \u001b[1;32mis\u001b[0m \u001b[1;32mNone\u001b[0m \u001b[1;32mand\u001b[0m \u001b[0mparse_float\u001b[0m \u001b[1;32mis\u001b[0m \u001b[1;32mNone\u001b[0m \u001b[1;32mand\u001b[0m\u001b[1;33m\u001b[0m\u001b[1;33m\u001b[0m\u001b[0m\n\u001b[0;32m    347\u001b[0m             parse_constant is None and object_pairs_hook is None and not kw):\n\u001b[1;32m--> 348\u001b[1;33m         \u001b[1;32mreturn\u001b[0m \u001b[0m_default_decoder\u001b[0m\u001b[1;33m.\u001b[0m\u001b[0mdecode\u001b[0m\u001b[1;33m(\u001b[0m\u001b[0ms\u001b[0m\u001b[1;33m)\u001b[0m\u001b[1;33m\u001b[0m\u001b[1;33m\u001b[0m\u001b[0m\n\u001b[0m\u001b[0;32m    349\u001b[0m     \u001b[1;32mif\u001b[0m \u001b[0mcls\u001b[0m \u001b[1;32mis\u001b[0m \u001b[1;32mNone\u001b[0m\u001b[1;33m:\u001b[0m\u001b[1;33m\u001b[0m\u001b[1;33m\u001b[0m\u001b[0m\n\u001b[0;32m    350\u001b[0m         \u001b[0mcls\u001b[0m \u001b[1;33m=\u001b[0m \u001b[0mJSONDecoder\u001b[0m\u001b[1;33m\u001b[0m\u001b[1;33m\u001b[0m\u001b[0m\n",
      "\u001b[1;32mC:\\ProgramData\\Miniconda3\\envs\\mf_main\\lib\\json\\decoder.py\u001b[0m in \u001b[0;36mdecode\u001b[1;34m(self, s, _w)\u001b[0m\n\u001b[0;32m    335\u001b[0m \u001b[1;33m\u001b[0m\u001b[0m\n\u001b[0;32m    336\u001b[0m         \"\"\"\n\u001b[1;32m--> 337\u001b[1;33m         \u001b[0mobj\u001b[0m\u001b[1;33m,\u001b[0m \u001b[0mend\u001b[0m \u001b[1;33m=\u001b[0m \u001b[0mself\u001b[0m\u001b[1;33m.\u001b[0m\u001b[0mraw_decode\u001b[0m\u001b[1;33m(\u001b[0m\u001b[0ms\u001b[0m\u001b[1;33m,\u001b[0m \u001b[0midx\u001b[0m\u001b[1;33m=\u001b[0m\u001b[0m_w\u001b[0m\u001b[1;33m(\u001b[0m\u001b[0ms\u001b[0m\u001b[1;33m,\u001b[0m \u001b[1;36m0\u001b[0m\u001b[1;33m)\u001b[0m\u001b[1;33m.\u001b[0m\u001b[0mend\u001b[0m\u001b[1;33m(\u001b[0m\u001b[1;33m)\u001b[0m\u001b[1;33m)\u001b[0m\u001b[1;33m\u001b[0m\u001b[1;33m\u001b[0m\u001b[0m\n\u001b[0m\u001b[0;32m    338\u001b[0m         \u001b[0mend\u001b[0m \u001b[1;33m=\u001b[0m \u001b[0m_w\u001b[0m\u001b[1;33m(\u001b[0m\u001b[0ms\u001b[0m\u001b[1;33m,\u001b[0m \u001b[0mend\u001b[0m\u001b[1;33m)\u001b[0m\u001b[1;33m.\u001b[0m\u001b[0mend\u001b[0m\u001b[1;33m(\u001b[0m\u001b[1;33m)\u001b[0m\u001b[1;33m\u001b[0m\u001b[1;33m\u001b[0m\u001b[0m\n\u001b[0;32m    339\u001b[0m         \u001b[1;32mif\u001b[0m \u001b[0mend\u001b[0m \u001b[1;33m!=\u001b[0m \u001b[0mlen\u001b[0m\u001b[1;33m(\u001b[0m\u001b[0ms\u001b[0m\u001b[1;33m)\u001b[0m\u001b[1;33m:\u001b[0m\u001b[1;33m\u001b[0m\u001b[1;33m\u001b[0m\u001b[0m\n",
      "\u001b[1;32mC:\\ProgramData\\Miniconda3\\envs\\mf_main\\lib\\json\\decoder.py\u001b[0m in \u001b[0;36mraw_decode\u001b[1;34m(self, s, idx)\u001b[0m\n\u001b[0;32m    353\u001b[0m             \u001b[0mobj\u001b[0m\u001b[1;33m,\u001b[0m \u001b[0mend\u001b[0m \u001b[1;33m=\u001b[0m \u001b[0mself\u001b[0m\u001b[1;33m.\u001b[0m\u001b[0mscan_once\u001b[0m\u001b[1;33m(\u001b[0m\u001b[0ms\u001b[0m\u001b[1;33m,\u001b[0m \u001b[0midx\u001b[0m\u001b[1;33m)\u001b[0m\u001b[1;33m\u001b[0m\u001b[1;33m\u001b[0m\u001b[0m\n\u001b[0;32m    354\u001b[0m         \u001b[1;32mexcept\u001b[0m \u001b[0mStopIteration\u001b[0m \u001b[1;32mas\u001b[0m \u001b[0merr\u001b[0m\u001b[1;33m:\u001b[0m\u001b[1;33m\u001b[0m\u001b[1;33m\u001b[0m\u001b[0m\n\u001b[1;32m--> 355\u001b[1;33m             \u001b[1;32mraise\u001b[0m \u001b[0mJSONDecodeError\u001b[0m\u001b[1;33m(\u001b[0m\u001b[1;34m\"Expecting value\"\u001b[0m\u001b[1;33m,\u001b[0m \u001b[0ms\u001b[0m\u001b[1;33m,\u001b[0m \u001b[0merr\u001b[0m\u001b[1;33m.\u001b[0m\u001b[0mvalue\u001b[0m\u001b[1;33m)\u001b[0m \u001b[1;32mfrom\u001b[0m \u001b[1;32mNone\u001b[0m\u001b[1;33m\u001b[0m\u001b[1;33m\u001b[0m\u001b[0m\n\u001b[0m\u001b[0;32m    356\u001b[0m         \u001b[1;32mreturn\u001b[0m \u001b[0mobj\u001b[0m\u001b[1;33m,\u001b[0m \u001b[0mend\u001b[0m\u001b[1;33m\u001b[0m\u001b[1;33m\u001b[0m\u001b[0m\n",
      "\u001b[1;31mJSONDecodeError\u001b[0m: Expecting value: line 1 column 1 (char 0)"
     ]
    }
   ],
   "source": [
    "import json\n",
    "\n",
    "with open(fpth, 'r') as f:\n",
    "    json_file = json.loads()\n",
    "    \n",
    "json_file"
   ]
  },
  {
   "cell_type": "code",
   "execution_count": 34,
   "metadata": {},
   "outputs": [],
   "source": [
    "# import\n",
    "import plotly.io as pio\n",
    "import plotly.graph_objs as go"
   ]
  },
  {
   "cell_type": "code",
   "execution_count": 9,
   "metadata": {},
   "outputs": [
    {
     "ename": "TypeError",
     "evalue": "bar() got an unexpected keyword argument 'data'",
     "output_type": "error",
     "traceback": [
      "\u001b[1;31m---------------------------------------------------------------------------\u001b[0m",
      "\u001b[1;31mTypeError\u001b[0m                                 Traceback (most recent call last)",
      "\u001b[1;32m<ipython-input-9-ea1b683f4707>\u001b[0m in \u001b[0;36m<module>\u001b[1;34m\u001b[0m\n\u001b[0;32m      1\u001b[0m \u001b[1;32mfrom\u001b[0m \u001b[0mmf_modules\u001b[0m\u001b[1;33m.\u001b[0m\u001b[0mpydtype_operations\u001b[0m \u001b[1;32mimport\u001b[0m \u001b[0mread_json\u001b[0m\u001b[1;33m\u001b[0m\u001b[1;33m\u001b[0m\u001b[0m\n\u001b[0;32m      2\u001b[0m \u001b[1;32mimport\u001b[0m \u001b[0mplotly\u001b[0m\u001b[1;33m.\u001b[0m\u001b[0mexpress\u001b[0m \u001b[1;32mas\u001b[0m \u001b[0mpx\u001b[0m\u001b[1;33m\u001b[0m\u001b[1;33m\u001b[0m\u001b[0m\n\u001b[1;32m----> 3\u001b[1;33m \u001b[0mpx\u001b[0m\u001b[1;33m.\u001b[0m\u001b[0mbar\u001b[0m\u001b[1;33m(\u001b[0m\u001b[1;33m**\u001b[0m\u001b[0mread_json\u001b[0m\u001b[1;33m(\u001b[0m\u001b[1;34mr'plotlyexample.json'\u001b[0m\u001b[1;33m)\u001b[0m\u001b[1;33m)\u001b[0m\u001b[1;33m\u001b[0m\u001b[1;33m\u001b[0m\u001b[0m\n\u001b[0m",
      "\u001b[1;31mTypeError\u001b[0m: bar() got an unexpected keyword argument 'data'"
     ]
    }
   ],
   "source": [
    "from mf_modules.pydtype_operations import read_json\n",
    "import plotly.express as px\n",
    "px.bar(**read_json(r'plotlyexample.json'))\n"
   ]
  },
  {
   "cell_type": "code",
   "execution_count": 35,
   "metadata": {},
   "outputs": [
    {
     "ename": "ValueError",
     "evalue": "\n    Invalid value of type 'builtins.str' received for the 'arrowcolor' property of layout.annotation\n        Received value: ''\n\n    The 'arrowcolor' property is a color and may be specified as:\n      - A hex string (e.g. '#ff0000')\n      - An rgb/rgba string (e.g. 'rgb(255,0,0)')\n      - An hsl/hsla string (e.g. 'hsl(0,100%,50%)')\n      - An hsv/hsva string (e.g. 'hsv(0,100%,100%)')\n      - A named CSS color:\n            aliceblue, antiquewhite, aqua, aquamarine, azure,\n            beige, bisque, black, blanchedalmond, blue,\n            blueviolet, brown, burlywood, cadetblue,\n            chartreuse, chocolate, coral, cornflowerblue,\n            cornsilk, crimson, cyan, darkblue, darkcyan,\n            darkgoldenrod, darkgray, darkgrey, darkgreen,\n            darkkhaki, darkmagenta, darkolivegreen, darkorange,\n            darkorchid, darkred, darksalmon, darkseagreen,\n            darkslateblue, darkslategray, darkslategrey,\n            darkturquoise, darkviolet, deeppink, deepskyblue,\n            dimgray, dimgrey, dodgerblue, firebrick,\n            floralwhite, forestgreen, fuchsia, gainsboro,\n            ghostwhite, gold, goldenrod, gray, grey, green,\n            greenyellow, honeydew, hotpink, indianred, indigo,\n            ivory, khaki, lavender, lavenderblush, lawngreen,\n            lemonchiffon, lightblue, lightcoral, lightcyan,\n            lightgoldenrodyellow, lightgray, lightgrey,\n            lightgreen, lightpink, lightsalmon, lightseagreen,\n            lightskyblue, lightslategray, lightslategrey,\n            lightsteelblue, lightyellow, lime, limegreen,\n            linen, magenta, maroon, mediumaquamarine,\n            mediumblue, mediumorchid, mediumpurple,\n            mediumseagreen, mediumslateblue, mediumspringgreen,\n            mediumturquoise, mediumvioletred, midnightblue,\n            mintcream, mistyrose, moccasin, navajowhite, navy,\n            oldlace, olive, olivedrab, orange, orangered,\n            orchid, palegoldenrod, palegreen, paleturquoise,\n            palevioletred, papayawhip, peachpuff, peru, pink,\n            plum, powderblue, purple, red, rosybrown,\n            royalblue, rebeccapurple, saddlebrown, salmon,\n            sandybrown, seagreen, seashell, sienna, silver,\n            skyblue, slateblue, slategray, slategrey, snow,\n            springgreen, steelblue, tan, teal, thistle, tomato,\n            turquoise, violet, wheat, white, whitesmoke,\n            yellow, yellowgreen",
     "output_type": "error",
     "traceback": [
      "\u001b[1;31m---------------------------------------------------------------------------\u001b[0m",
      "\u001b[1;31mValueError\u001b[0m                                Traceback (most recent call last)",
      "\u001b[1;32m<ipython-input-35-9292c9aca16c>\u001b[0m in \u001b[0;36m<module>\u001b[1;34m\u001b[0m\n\u001b[0;32m      1\u001b[0m \u001b[1;32mimport\u001b[0m \u001b[0mplotly\u001b[0m\u001b[1;33m\u001b[0m\u001b[1;33m\u001b[0m\u001b[0m\n\u001b[0;32m      2\u001b[0m \u001b[0mfpth\u001b[0m \u001b[1;33m=\u001b[0m \u001b[1;34mr'plotlyexample.plotly.json'\u001b[0m\u001b[1;33m\u001b[0m\u001b[1;33m\u001b[0m\u001b[0m\n\u001b[1;32m----> 3\u001b[1;33m \u001b[0mfig_after_work\u001b[0m \u001b[1;33m=\u001b[0m \u001b[0mpio\u001b[0m\u001b[1;33m.\u001b[0m\u001b[0mread_json\u001b[0m\u001b[1;33m(\u001b[0m\u001b[0mfpth\u001b[0m\u001b[1;33m,\u001b[0m \u001b[0moutput_type\u001b[0m\u001b[1;33m=\u001b[0m\u001b[1;34m'FigureWidget'\u001b[0m\u001b[1;33m)\u001b[0m\u001b[1;33m\u001b[0m\u001b[1;33m\u001b[0m\u001b[0m\n\u001b[0m\u001b[0;32m      4\u001b[0m \u001b[0mfig_after_work\u001b[0m\u001b[1;33m\u001b[0m\u001b[1;33m\u001b[0m\u001b[0m\n",
      "\u001b[1;32mC:\\ProgramData\\Miniconda3\\envs\\mf_main\\lib\\site-packages\\plotly\\io\\_json.py\u001b[0m in \u001b[0;36mread_json\u001b[1;34m(file, output_type, skip_invalid)\u001b[0m\n\u001b[0;32m    194\u001b[0m     \u001b[1;31m# Construct and return figure\u001b[0m\u001b[1;33m\u001b[0m\u001b[1;33m\u001b[0m\u001b[1;33m\u001b[0m\u001b[0m\n\u001b[0;32m    195\u001b[0m     \u001b[1;31m# ---------------------------\u001b[0m\u001b[1;33m\u001b[0m\u001b[1;33m\u001b[0m\u001b[1;33m\u001b[0m\u001b[0m\n\u001b[1;32m--> 196\u001b[1;33m     \u001b[1;32mreturn\u001b[0m \u001b[0mfrom_json\u001b[0m\u001b[1;33m(\u001b[0m\u001b[0mjson_str\u001b[0m\u001b[1;33m,\u001b[0m \u001b[0mskip_invalid\u001b[0m\u001b[1;33m=\u001b[0m\u001b[0mskip_invalid\u001b[0m\u001b[1;33m,\u001b[0m \u001b[0moutput_type\u001b[0m\u001b[1;33m=\u001b[0m\u001b[0moutput_type\u001b[0m\u001b[1;33m)\u001b[0m\u001b[1;33m\u001b[0m\u001b[1;33m\u001b[0m\u001b[0m\n\u001b[0m",
      "\u001b[1;32mC:\\ProgramData\\Miniconda3\\envs\\mf_main\\lib\\site-packages\\plotly\\io\\_json.py\u001b[0m in \u001b[0;36mfrom_json\u001b[1;34m(value, output_type, skip_invalid)\u001b[0m\n\u001b[0;32m    150\u001b[0m     \u001b[1;31m# Create and return figure\u001b[0m\u001b[1;33m\u001b[0m\u001b[1;33m\u001b[0m\u001b[1;33m\u001b[0m\u001b[0m\n\u001b[0;32m    151\u001b[0m     \u001b[1;31m# ------------------------\u001b[0m\u001b[1;33m\u001b[0m\u001b[1;33m\u001b[0m\u001b[1;33m\u001b[0m\u001b[0m\n\u001b[1;32m--> 152\u001b[1;33m     \u001b[0mfig\u001b[0m \u001b[1;33m=\u001b[0m \u001b[0mcls\u001b[0m\u001b[1;33m(\u001b[0m\u001b[0mfig_dict\u001b[0m\u001b[1;33m,\u001b[0m \u001b[0mskip_invalid\u001b[0m\u001b[1;33m=\u001b[0m\u001b[0mskip_invalid\u001b[0m\u001b[1;33m)\u001b[0m\u001b[1;33m\u001b[0m\u001b[1;33m\u001b[0m\u001b[0m\n\u001b[0m\u001b[0;32m    153\u001b[0m     \u001b[1;32mreturn\u001b[0m \u001b[0mfig\u001b[0m\u001b[1;33m\u001b[0m\u001b[1;33m\u001b[0m\u001b[0m\n\u001b[0;32m    154\u001b[0m \u001b[1;33m\u001b[0m\u001b[0m\n",
      "\u001b[1;32mC:\\ProgramData\\Miniconda3\\envs\\mf_main\\lib\\site-packages\\plotly\\graph_objs\\_figurewidget.py\u001b[0m in \u001b[0;36m__init__\u001b[1;34m(self, data, layout, frames, skip_invalid, **kwargs)\u001b[0m\n\u001b[0;32m    582\u001b[0m             \u001b[1;32mis\u001b[0m \u001b[0minvalid\u001b[0m \u001b[0mAND\u001b[0m \u001b[0mskip_invalid\u001b[0m \u001b[1;32mis\u001b[0m \u001b[1;32mFalse\u001b[0m\u001b[1;33m\u001b[0m\u001b[1;33m\u001b[0m\u001b[0m\n\u001b[0;32m    583\u001b[0m         \"\"\"\n\u001b[1;32m--> 584\u001b[1;33m         \u001b[0msuper\u001b[0m\u001b[1;33m(\u001b[0m\u001b[0mFigureWidget\u001b[0m\u001b[1;33m,\u001b[0m \u001b[0mself\u001b[0m\u001b[1;33m)\u001b[0m\u001b[1;33m.\u001b[0m\u001b[0m__init__\u001b[0m\u001b[1;33m(\u001b[0m\u001b[0mdata\u001b[0m\u001b[1;33m,\u001b[0m \u001b[0mlayout\u001b[0m\u001b[1;33m,\u001b[0m \u001b[0mframes\u001b[0m\u001b[1;33m,\u001b[0m \u001b[0mskip_invalid\u001b[0m\u001b[1;33m,\u001b[0m \u001b[1;33m**\u001b[0m\u001b[0mkwargs\u001b[0m\u001b[1;33m)\u001b[0m\u001b[1;33m\u001b[0m\u001b[1;33m\u001b[0m\u001b[0m\n\u001b[0m\u001b[0;32m    585\u001b[0m \u001b[1;33m\u001b[0m\u001b[0m\n\u001b[0;32m    586\u001b[0m     def add_area(\n",
      "\u001b[1;32mC:\\ProgramData\\Miniconda3\\envs\\mf_main\\lib\\site-packages\\plotly\\basewidget.py\u001b[0m in \u001b[0;36m__init__\u001b[1;34m(self, data, layout, frames, skip_invalid, **kwargs)\u001b[0m\n\u001b[0;32m    120\u001b[0m             \u001b[0mframes\u001b[0m\u001b[1;33m=\u001b[0m\u001b[0mframes\u001b[0m\u001b[1;33m,\u001b[0m\u001b[1;33m\u001b[0m\u001b[1;33m\u001b[0m\u001b[0m\n\u001b[0;32m    121\u001b[0m             \u001b[0mskip_invalid\u001b[0m\u001b[1;33m=\u001b[0m\u001b[0mskip_invalid\u001b[0m\u001b[1;33m,\u001b[0m\u001b[1;33m\u001b[0m\u001b[1;33m\u001b[0m\u001b[0m\n\u001b[1;32m--> 122\u001b[1;33m             \u001b[1;33m**\u001b[0m\u001b[0mkwargs\u001b[0m\u001b[1;33m\u001b[0m\u001b[1;33m\u001b[0m\u001b[0m\n\u001b[0m\u001b[0;32m    123\u001b[0m         )\n\u001b[0;32m    124\u001b[0m \u001b[1;33m\u001b[0m\u001b[0m\n",
      "\u001b[1;32mC:\\ProgramData\\Miniconda3\\envs\\mf_main\\lib\\site-packages\\plotly\\basedatatypes.py\u001b[0m in \u001b[0;36m__init__\u001b[1;34m(self, data, layout_plotly, frames, skip_invalid, **kwargs)\u001b[0m\n\u001b[0;32m    188\u001b[0m         \u001b[1;31m# ### Import Layout ###\u001b[0m\u001b[1;33m\u001b[0m\u001b[1;33m\u001b[0m\u001b[1;33m\u001b[0m\u001b[0m\n\u001b[0;32m    189\u001b[0m         self._layout_obj = self._layout_validator.validate_coerce(\n\u001b[1;32m--> 190\u001b[1;33m             \u001b[0mlayout\u001b[0m\u001b[1;33m,\u001b[0m \u001b[0mskip_invalid\u001b[0m\u001b[1;33m=\u001b[0m\u001b[0mskip_invalid\u001b[0m\u001b[1;33m,\u001b[0m \u001b[0m_validate\u001b[0m\u001b[1;33m=\u001b[0m\u001b[0mself\u001b[0m\u001b[1;33m.\u001b[0m\u001b[0m_validate\u001b[0m\u001b[1;33m\u001b[0m\u001b[1;33m\u001b[0m\u001b[0m\n\u001b[0m\u001b[0;32m    191\u001b[0m         )\n\u001b[0;32m    192\u001b[0m \u001b[1;33m\u001b[0m\u001b[0m\n",
      "\u001b[1;32mC:\\ProgramData\\Miniconda3\\envs\\mf_main\\lib\\site-packages\\_plotly_utils\\basevalidators.py\u001b[0m in \u001b[0;36mvalidate_coerce\u001b[1;34m(self, v, skip_invalid, _validate)\u001b[0m\n\u001b[0;32m   2444\u001b[0m \u001b[1;33m\u001b[0m\u001b[0m\n\u001b[0;32m   2445\u001b[0m         \u001b[1;32melif\u001b[0m \u001b[0misinstance\u001b[0m\u001b[1;33m(\u001b[0m\u001b[0mv\u001b[0m\u001b[1;33m,\u001b[0m \u001b[0mdict\u001b[0m\u001b[1;33m)\u001b[0m\u001b[1;33m:\u001b[0m\u001b[1;33m\u001b[0m\u001b[1;33m\u001b[0m\u001b[0m\n\u001b[1;32m-> 2446\u001b[1;33m             \u001b[0mv\u001b[0m \u001b[1;33m=\u001b[0m \u001b[0mself\u001b[0m\u001b[1;33m.\u001b[0m\u001b[0mdata_class\u001b[0m\u001b[1;33m(\u001b[0m\u001b[0mv\u001b[0m\u001b[1;33m,\u001b[0m \u001b[0mskip_invalid\u001b[0m\u001b[1;33m=\u001b[0m\u001b[0mskip_invalid\u001b[0m\u001b[1;33m,\u001b[0m \u001b[0m_validate\u001b[0m\u001b[1;33m=\u001b[0m\u001b[0m_validate\u001b[0m\u001b[1;33m)\u001b[0m\u001b[1;33m\u001b[0m\u001b[1;33m\u001b[0m\u001b[0m\n\u001b[0m\u001b[0;32m   2447\u001b[0m \u001b[1;33m\u001b[0m\u001b[0m\n\u001b[0;32m   2448\u001b[0m         \u001b[1;32melif\u001b[0m \u001b[0misinstance\u001b[0m\u001b[1;33m(\u001b[0m\u001b[0mv\u001b[0m\u001b[1;33m,\u001b[0m \u001b[0mself\u001b[0m\u001b[1;33m.\u001b[0m\u001b[0mdata_class\u001b[0m\u001b[1;33m)\u001b[0m\u001b[1;33m:\u001b[0m\u001b[1;33m\u001b[0m\u001b[1;33m\u001b[0m\u001b[0m\n",
      "\u001b[1;32mC:\\ProgramData\\Miniconda3\\envs\\mf_main\\lib\\site-packages\\plotly\\graph_objs\\_layout.py\u001b[0m in \u001b[0;36m__init__\u001b[1;34m(self, arg, activeshape, angularaxis, annotations, annotationdefaults, autosize, bargap, bargroupgap, barmode, barnorm, boxgap, boxgroupgap, boxmode, calendar, clickmode, coloraxis, colorscale, colorway, datarevision, direction, dragmode, editrevision, extendfunnelareacolors, extendpiecolors, extendsunburstcolors, extendtreemapcolors, font, funnelareacolorway, funnelgap, funnelgroupgap, funnelmode, geo, grid, height, hiddenlabels, hiddenlabelssrc, hidesources, hoverdistance, hoverlabel, hovermode, images, imagedefaults, legend, mapbox, margin, meta, metasrc, modebar, newshape, orientation, paper_bgcolor, piecolorway, plot_bgcolor, polar, radialaxis, scene, selectdirection, selectionrevision, separators, shapes, shapedefaults, showlegend, sliders, sliderdefaults, spikedistance, sunburstcolorway, template, ternary, title, titlefont, transition, treemapcolorway, uirevision, uniformtext, updatemenus, updatemenudefaults, violingap, violingroupgap, violinmode, waterfallgap, waterfallgroupgap, waterfallmode, width, xaxis, yaxis, **kwargs)\u001b[0m\n\u001b[0;32m   5750\u001b[0m         \u001b[0m_v\u001b[0m \u001b[1;33m=\u001b[0m \u001b[0mannotations\u001b[0m \u001b[1;32mif\u001b[0m \u001b[0mannotations\u001b[0m \u001b[1;32mis\u001b[0m \u001b[1;32mnot\u001b[0m \u001b[1;32mNone\u001b[0m \u001b[1;32melse\u001b[0m \u001b[0m_v\u001b[0m\u001b[1;33m\u001b[0m\u001b[1;33m\u001b[0m\u001b[0m\n\u001b[0;32m   5751\u001b[0m         \u001b[1;32mif\u001b[0m \u001b[0m_v\u001b[0m \u001b[1;32mis\u001b[0m \u001b[1;32mnot\u001b[0m \u001b[1;32mNone\u001b[0m\u001b[1;33m:\u001b[0m\u001b[1;33m\u001b[0m\u001b[1;33m\u001b[0m\u001b[0m\n\u001b[1;32m-> 5752\u001b[1;33m             \u001b[0mself\u001b[0m\u001b[1;33m[\u001b[0m\u001b[1;34m\"annotations\"\u001b[0m\u001b[1;33m]\u001b[0m \u001b[1;33m=\u001b[0m \u001b[0m_v\u001b[0m\u001b[1;33m\u001b[0m\u001b[1;33m\u001b[0m\u001b[0m\n\u001b[0m\u001b[0;32m   5753\u001b[0m         \u001b[0m_v\u001b[0m \u001b[1;33m=\u001b[0m \u001b[0marg\u001b[0m\u001b[1;33m.\u001b[0m\u001b[0mpop\u001b[0m\u001b[1;33m(\u001b[0m\u001b[1;34m\"annotationdefaults\"\u001b[0m\u001b[1;33m,\u001b[0m \u001b[1;32mNone\u001b[0m\u001b[1;33m)\u001b[0m\u001b[1;33m\u001b[0m\u001b[1;33m\u001b[0m\u001b[0m\n\u001b[0;32m   5754\u001b[0m         \u001b[0m_v\u001b[0m \u001b[1;33m=\u001b[0m \u001b[0mannotationdefaults\u001b[0m \u001b[1;32mif\u001b[0m \u001b[0mannotationdefaults\u001b[0m \u001b[1;32mis\u001b[0m \u001b[1;32mnot\u001b[0m \u001b[1;32mNone\u001b[0m \u001b[1;32melse\u001b[0m \u001b[0m_v\u001b[0m\u001b[1;33m\u001b[0m\u001b[1;33m\u001b[0m\u001b[0m\n",
      "\u001b[1;32mC:\\ProgramData\\Miniconda3\\envs\\mf_main\\lib\\site-packages\\plotly\\basedatatypes.py\u001b[0m in \u001b[0;36m__setitem__\u001b[1;34m(self, prop, value)\u001b[0m\n\u001b[0;32m   4906\u001b[0m         \u001b[1;32mif\u001b[0m \u001b[0mmatch\u001b[0m \u001b[1;32mis\u001b[0m \u001b[1;32mNone\u001b[0m\u001b[1;33m:\u001b[0m\u001b[1;33m\u001b[0m\u001b[1;33m\u001b[0m\u001b[0m\n\u001b[0;32m   4907\u001b[0m             \u001b[1;31m# Set as ordinary property\u001b[0m\u001b[1;33m\u001b[0m\u001b[1;33m\u001b[0m\u001b[1;33m\u001b[0m\u001b[0m\n\u001b[1;32m-> 4908\u001b[1;33m             \u001b[0msuper\u001b[0m\u001b[1;33m(\u001b[0m\u001b[0mBaseLayoutHierarchyType\u001b[0m\u001b[1;33m,\u001b[0m \u001b[0mself\u001b[0m\u001b[1;33m)\u001b[0m\u001b[1;33m.\u001b[0m\u001b[0m__setitem__\u001b[0m\u001b[1;33m(\u001b[0m\u001b[0mprop\u001b[0m\u001b[1;33m,\u001b[0m \u001b[0mvalue\u001b[0m\u001b[1;33m)\u001b[0m\u001b[1;33m\u001b[0m\u001b[1;33m\u001b[0m\u001b[0m\n\u001b[0m\u001b[0;32m   4909\u001b[0m         \u001b[1;32melse\u001b[0m\u001b[1;33m:\u001b[0m\u001b[1;33m\u001b[0m\u001b[1;33m\u001b[0m\u001b[0m\n\u001b[0;32m   4910\u001b[0m             \u001b[1;31m# Set as subplotid property\u001b[0m\u001b[1;33m\u001b[0m\u001b[1;33m\u001b[0m\u001b[1;33m\u001b[0m\u001b[0m\n",
      "\u001b[1;32mC:\\ProgramData\\Miniconda3\\envs\\mf_main\\lib\\site-packages\\plotly\\basedatatypes.py\u001b[0m in \u001b[0;36m__setitem__\u001b[1;34m(self, prop, value)\u001b[0m\n\u001b[0;32m   3926\u001b[0m                 \u001b[1;31m# ### Handle compound array property ###\u001b[0m\u001b[1;33m\u001b[0m\u001b[1;33m\u001b[0m\u001b[1;33m\u001b[0m\u001b[0m\n\u001b[0;32m   3927\u001b[0m                 \u001b[1;32melif\u001b[0m \u001b[0misinstance\u001b[0m\u001b[1;33m(\u001b[0m\u001b[0mvalidator\u001b[0m\u001b[1;33m,\u001b[0m \u001b[1;33m(\u001b[0m\u001b[0mCompoundArrayValidator\u001b[0m\u001b[1;33m,\u001b[0m \u001b[0mBaseDataValidator\u001b[0m\u001b[1;33m)\u001b[0m\u001b[1;33m)\u001b[0m\u001b[1;33m:\u001b[0m\u001b[1;33m\u001b[0m\u001b[1;33m\u001b[0m\u001b[0m\n\u001b[1;32m-> 3928\u001b[1;33m                     \u001b[0mself\u001b[0m\u001b[1;33m.\u001b[0m\u001b[0m_set_array_prop\u001b[0m\u001b[1;33m(\u001b[0m\u001b[0mprop\u001b[0m\u001b[1;33m,\u001b[0m \u001b[0mvalue\u001b[0m\u001b[1;33m)\u001b[0m\u001b[1;33m\u001b[0m\u001b[1;33m\u001b[0m\u001b[0m\n\u001b[0m\u001b[0;32m   3929\u001b[0m \u001b[1;33m\u001b[0m\u001b[0m\n\u001b[0;32m   3930\u001b[0m                 \u001b[1;31m# ### Handle simple property ###\u001b[0m\u001b[1;33m\u001b[0m\u001b[1;33m\u001b[0m\u001b[1;33m\u001b[0m\u001b[0m\n",
      "\u001b[1;32mC:\\ProgramData\\Miniconda3\\envs\\mf_main\\lib\\site-packages\\plotly\\basedatatypes.py\u001b[0m in \u001b[0;36m_set_array_prop\u001b[1;34m(self, prop, val)\u001b[0m\n\u001b[0;32m   4381\u001b[0m         \u001b[1;31m# ------------\u001b[0m\u001b[1;33m\u001b[0m\u001b[1;33m\u001b[0m\u001b[1;33m\u001b[0m\u001b[0m\n\u001b[0;32m   4382\u001b[0m         \u001b[0mvalidator\u001b[0m \u001b[1;33m=\u001b[0m \u001b[0mself\u001b[0m\u001b[1;33m.\u001b[0m\u001b[0m_get_validator\u001b[0m\u001b[1;33m(\u001b[0m\u001b[0mprop\u001b[0m\u001b[1;33m)\u001b[0m\u001b[1;33m\u001b[0m\u001b[1;33m\u001b[0m\u001b[0m\n\u001b[1;32m-> 4383\u001b[1;33m         \u001b[0mval\u001b[0m \u001b[1;33m=\u001b[0m \u001b[0mvalidator\u001b[0m\u001b[1;33m.\u001b[0m\u001b[0mvalidate_coerce\u001b[0m\u001b[1;33m(\u001b[0m\u001b[0mval\u001b[0m\u001b[1;33m,\u001b[0m \u001b[0mskip_invalid\u001b[0m\u001b[1;33m=\u001b[0m\u001b[0mself\u001b[0m\u001b[1;33m.\u001b[0m\u001b[0m_skip_invalid\u001b[0m\u001b[1;33m)\u001b[0m\u001b[1;33m\u001b[0m\u001b[1;33m\u001b[0m\u001b[0m\n\u001b[0m\u001b[0;32m   4384\u001b[0m \u001b[1;33m\u001b[0m\u001b[0m\n\u001b[0;32m   4385\u001b[0m         \u001b[1;31m# Save deep copies of current and new states\u001b[0m\u001b[1;33m\u001b[0m\u001b[1;33m\u001b[0m\u001b[1;33m\u001b[0m\u001b[0m\n",
      "\u001b[1;32mC:\\ProgramData\\Miniconda3\\envs\\mf_main\\lib\\site-packages\\_plotly_utils\\basevalidators.py\u001b[0m in \u001b[0;36mvalidate_coerce\u001b[1;34m(self, v, skip_invalid)\u001b[0m\n\u001b[0;32m   2536\u001b[0m                     \u001b[0mres\u001b[0m\u001b[1;33m.\u001b[0m\u001b[0mappend\u001b[0m\u001b[1;33m(\u001b[0m\u001b[0mself\u001b[0m\u001b[1;33m.\u001b[0m\u001b[0mdata_class\u001b[0m\u001b[1;33m(\u001b[0m\u001b[0mv_el\u001b[0m\u001b[1;33m)\u001b[0m\u001b[1;33m)\u001b[0m\u001b[1;33m\u001b[0m\u001b[1;33m\u001b[0m\u001b[0m\n\u001b[0;32m   2537\u001b[0m                 \u001b[1;32melif\u001b[0m \u001b[0misinstance\u001b[0m\u001b[1;33m(\u001b[0m\u001b[0mv_el\u001b[0m\u001b[1;33m,\u001b[0m \u001b[0mdict\u001b[0m\u001b[1;33m)\u001b[0m\u001b[1;33m:\u001b[0m\u001b[1;33m\u001b[0m\u001b[1;33m\u001b[0m\u001b[0m\n\u001b[1;32m-> 2538\u001b[1;33m                     \u001b[0mres\u001b[0m\u001b[1;33m.\u001b[0m\u001b[0mappend\u001b[0m\u001b[1;33m(\u001b[0m\u001b[0mself\u001b[0m\u001b[1;33m.\u001b[0m\u001b[0mdata_class\u001b[0m\u001b[1;33m(\u001b[0m\u001b[0mv_el\u001b[0m\u001b[1;33m,\u001b[0m \u001b[0mskip_invalid\u001b[0m\u001b[1;33m=\u001b[0m\u001b[0mskip_invalid\u001b[0m\u001b[1;33m)\u001b[0m\u001b[1;33m)\u001b[0m\u001b[1;33m\u001b[0m\u001b[1;33m\u001b[0m\u001b[0m\n\u001b[0m\u001b[0;32m   2539\u001b[0m                 \u001b[1;32melse\u001b[0m\u001b[1;33m:\u001b[0m\u001b[1;33m\u001b[0m\u001b[1;33m\u001b[0m\u001b[0m\n\u001b[0;32m   2540\u001b[0m                     \u001b[1;32mif\u001b[0m \u001b[0mskip_invalid\u001b[0m\u001b[1;33m:\u001b[0m\u001b[1;33m\u001b[0m\u001b[1;33m\u001b[0m\u001b[0m\n",
      "\u001b[1;32mC:\\ProgramData\\Miniconda3\\envs\\mf_main\\lib\\site-packages\\plotly\\graph_objs\\layout\\_annotation.py\u001b[0m in \u001b[0;36m__init__\u001b[1;34m(self, arg, align, arrowcolor, arrowhead, arrowside, arrowsize, arrowwidth, ax, axref, ay, ayref, bgcolor, bordercolor, borderpad, borderwidth, captureevents, clicktoshow, font, height, hoverlabel, hovertext, name, opacity, showarrow, standoff, startarrowhead, startarrowsize, startstandoff, templateitemname, text, textangle, valign, visible, width, x, xanchor, xclick, xref, xshift, y, yanchor, yclick, yref, yshift, **kwargs)\u001b[0m\n\u001b[0;32m   1773\u001b[0m         \u001b[0m_v\u001b[0m \u001b[1;33m=\u001b[0m \u001b[0marrowcolor\u001b[0m \u001b[1;32mif\u001b[0m \u001b[0marrowcolor\u001b[0m \u001b[1;32mis\u001b[0m \u001b[1;32mnot\u001b[0m \u001b[1;32mNone\u001b[0m \u001b[1;32melse\u001b[0m \u001b[0m_v\u001b[0m\u001b[1;33m\u001b[0m\u001b[1;33m\u001b[0m\u001b[0m\n\u001b[0;32m   1774\u001b[0m         \u001b[1;32mif\u001b[0m \u001b[0m_v\u001b[0m \u001b[1;32mis\u001b[0m \u001b[1;32mnot\u001b[0m \u001b[1;32mNone\u001b[0m\u001b[1;33m:\u001b[0m\u001b[1;33m\u001b[0m\u001b[1;33m\u001b[0m\u001b[0m\n\u001b[1;32m-> 1775\u001b[1;33m             \u001b[0mself\u001b[0m\u001b[1;33m[\u001b[0m\u001b[1;34m\"arrowcolor\"\u001b[0m\u001b[1;33m]\u001b[0m \u001b[1;33m=\u001b[0m \u001b[0m_v\u001b[0m\u001b[1;33m\u001b[0m\u001b[1;33m\u001b[0m\u001b[0m\n\u001b[0m\u001b[0;32m   1776\u001b[0m         \u001b[0m_v\u001b[0m \u001b[1;33m=\u001b[0m \u001b[0marg\u001b[0m\u001b[1;33m.\u001b[0m\u001b[0mpop\u001b[0m\u001b[1;33m(\u001b[0m\u001b[1;34m\"arrowhead\"\u001b[0m\u001b[1;33m,\u001b[0m \u001b[1;32mNone\u001b[0m\u001b[1;33m)\u001b[0m\u001b[1;33m\u001b[0m\u001b[1;33m\u001b[0m\u001b[0m\n\u001b[0;32m   1777\u001b[0m         \u001b[0m_v\u001b[0m \u001b[1;33m=\u001b[0m \u001b[0marrowhead\u001b[0m \u001b[1;32mif\u001b[0m \u001b[0marrowhead\u001b[0m \u001b[1;32mis\u001b[0m \u001b[1;32mnot\u001b[0m \u001b[1;32mNone\u001b[0m \u001b[1;32melse\u001b[0m \u001b[0m_v\u001b[0m\u001b[1;33m\u001b[0m\u001b[1;33m\u001b[0m\u001b[0m\n",
      "\u001b[1;32mC:\\ProgramData\\Miniconda3\\envs\\mf_main\\lib\\site-packages\\plotly\\basedatatypes.py\u001b[0m in \u001b[0;36m__setitem__\u001b[1;34m(self, prop, value)\u001b[0m\n\u001b[0;32m   3930\u001b[0m                 \u001b[1;31m# ### Handle simple property ###\u001b[0m\u001b[1;33m\u001b[0m\u001b[1;33m\u001b[0m\u001b[1;33m\u001b[0m\u001b[0m\n\u001b[0;32m   3931\u001b[0m                 \u001b[1;32melse\u001b[0m\u001b[1;33m:\u001b[0m\u001b[1;33m\u001b[0m\u001b[1;33m\u001b[0m\u001b[0m\n\u001b[1;32m-> 3932\u001b[1;33m                     \u001b[0mself\u001b[0m\u001b[1;33m.\u001b[0m\u001b[0m_set_prop\u001b[0m\u001b[1;33m(\u001b[0m\u001b[0mprop\u001b[0m\u001b[1;33m,\u001b[0m \u001b[0mvalue\u001b[0m\u001b[1;33m)\u001b[0m\u001b[1;33m\u001b[0m\u001b[1;33m\u001b[0m\u001b[0m\n\u001b[0m\u001b[0;32m   3933\u001b[0m             \u001b[1;32melse\u001b[0m\u001b[1;33m:\u001b[0m\u001b[1;33m\u001b[0m\u001b[1;33m\u001b[0m\u001b[0m\n\u001b[0;32m   3934\u001b[0m                 \u001b[1;31m# Make sure properties dict is initialized\u001b[0m\u001b[1;33m\u001b[0m\u001b[1;33m\u001b[0m\u001b[1;33m\u001b[0m\u001b[0m\n",
      "\u001b[1;32mC:\\ProgramData\\Miniconda3\\envs\\mf_main\\lib\\site-packages\\plotly\\basedatatypes.py\u001b[0m in \u001b[0;36m_set_prop\u001b[1;34m(self, prop, val)\u001b[0m\n\u001b[0;32m   4248\u001b[0m                 \u001b[1;32mreturn\u001b[0m\u001b[1;33m\u001b[0m\u001b[1;33m\u001b[0m\u001b[0m\n\u001b[0;32m   4249\u001b[0m             \u001b[1;32melse\u001b[0m\u001b[1;33m:\u001b[0m\u001b[1;33m\u001b[0m\u001b[1;33m\u001b[0m\u001b[0m\n\u001b[1;32m-> 4250\u001b[1;33m                 \u001b[1;32mraise\u001b[0m \u001b[0merr\u001b[0m\u001b[1;33m\u001b[0m\u001b[1;33m\u001b[0m\u001b[0m\n\u001b[0m\u001b[0;32m   4251\u001b[0m \u001b[1;33m\u001b[0m\u001b[0m\n\u001b[0;32m   4252\u001b[0m         \u001b[1;31m# val is None\u001b[0m\u001b[1;33m\u001b[0m\u001b[1;33m\u001b[0m\u001b[1;33m\u001b[0m\u001b[0m\n",
      "\u001b[1;32mC:\\ProgramData\\Miniconda3\\envs\\mf_main\\lib\\site-packages\\plotly\\basedatatypes.py\u001b[0m in \u001b[0;36m_set_prop\u001b[1;34m(self, prop, val)\u001b[0m\n\u001b[0;32m   4243\u001b[0m \u001b[1;33m\u001b[0m\u001b[0m\n\u001b[0;32m   4244\u001b[0m         \u001b[1;32mtry\u001b[0m\u001b[1;33m:\u001b[0m\u001b[1;33m\u001b[0m\u001b[1;33m\u001b[0m\u001b[0m\n\u001b[1;32m-> 4245\u001b[1;33m             \u001b[0mval\u001b[0m \u001b[1;33m=\u001b[0m \u001b[0mvalidator\u001b[0m\u001b[1;33m.\u001b[0m\u001b[0mvalidate_coerce\u001b[0m\u001b[1;33m(\u001b[0m\u001b[0mval\u001b[0m\u001b[1;33m)\u001b[0m\u001b[1;33m\u001b[0m\u001b[1;33m\u001b[0m\u001b[0m\n\u001b[0m\u001b[0;32m   4246\u001b[0m         \u001b[1;32mexcept\u001b[0m \u001b[0mValueError\u001b[0m \u001b[1;32mas\u001b[0m \u001b[0merr\u001b[0m\u001b[1;33m:\u001b[0m\u001b[1;33m\u001b[0m\u001b[1;33m\u001b[0m\u001b[0m\n\u001b[0;32m   4247\u001b[0m             \u001b[1;32mif\u001b[0m \u001b[0mself\u001b[0m\u001b[1;33m.\u001b[0m\u001b[0m_skip_invalid\u001b[0m\u001b[1;33m:\u001b[0m\u001b[1;33m\u001b[0m\u001b[1;33m\u001b[0m\u001b[0m\n",
      "\u001b[1;32mC:\\ProgramData\\Miniconda3\\envs\\mf_main\\lib\\site-packages\\_plotly_utils\\basevalidators.py\u001b[0m in \u001b[0;36mvalidate_coerce\u001b[1;34m(self, v, should_raise)\u001b[0m\n\u001b[0;32m   1359\u001b[0m             \u001b[0mvalidated_v\u001b[0m \u001b[1;33m=\u001b[0m \u001b[0mself\u001b[0m\u001b[1;33m.\u001b[0m\u001b[0mvc_scalar\u001b[0m\u001b[1;33m(\u001b[0m\u001b[0mv\u001b[0m\u001b[1;33m)\u001b[0m\u001b[1;33m\u001b[0m\u001b[1;33m\u001b[0m\u001b[0m\n\u001b[0;32m   1360\u001b[0m             \u001b[1;32mif\u001b[0m \u001b[0mvalidated_v\u001b[0m \u001b[1;32mis\u001b[0m \u001b[1;32mNone\u001b[0m \u001b[1;32mand\u001b[0m \u001b[0mshould_raise\u001b[0m\u001b[1;33m:\u001b[0m\u001b[1;33m\u001b[0m\u001b[1;33m\u001b[0m\u001b[0m\n\u001b[1;32m-> 1361\u001b[1;33m                 \u001b[0mself\u001b[0m\u001b[1;33m.\u001b[0m\u001b[0mraise_invalid_val\u001b[0m\u001b[1;33m(\u001b[0m\u001b[0mv\u001b[0m\u001b[1;33m)\u001b[0m\u001b[1;33m\u001b[0m\u001b[1;33m\u001b[0m\u001b[0m\n\u001b[0m\u001b[0;32m   1362\u001b[0m \u001b[1;33m\u001b[0m\u001b[0m\n\u001b[0;32m   1363\u001b[0m             \u001b[0mv\u001b[0m \u001b[1;33m=\u001b[0m \u001b[0mvalidated_v\u001b[0m\u001b[1;33m\u001b[0m\u001b[1;33m\u001b[0m\u001b[0m\n",
      "\u001b[1;32mC:\\ProgramData\\Miniconda3\\envs\\mf_main\\lib\\site-packages\\_plotly_utils\\basevalidators.py\u001b[0m in \u001b[0;36mraise_invalid_val\u001b[1;34m(self, v, inds)\u001b[0m\n\u001b[0;32m    283\u001b[0m                 \u001b[0mtyp\u001b[0m\u001b[1;33m=\u001b[0m\u001b[0mtype_str\u001b[0m\u001b[1;33m(\u001b[0m\u001b[0mv\u001b[0m\u001b[1;33m)\u001b[0m\u001b[1;33m,\u001b[0m\u001b[1;33m\u001b[0m\u001b[1;33m\u001b[0m\u001b[0m\n\u001b[0;32m    284\u001b[0m                 \u001b[0mv\u001b[0m\u001b[1;33m=\u001b[0m\u001b[0mrepr\u001b[0m\u001b[1;33m(\u001b[0m\u001b[0mv\u001b[0m\u001b[1;33m)\u001b[0m\u001b[1;33m,\u001b[0m\u001b[1;33m\u001b[0m\u001b[1;33m\u001b[0m\u001b[0m\n\u001b[1;32m--> 285\u001b[1;33m                 \u001b[0mvalid_clr_desc\u001b[0m\u001b[1;33m=\u001b[0m\u001b[0mself\u001b[0m\u001b[1;33m.\u001b[0m\u001b[0mdescription\u001b[0m\u001b[1;33m(\u001b[0m\u001b[1;33m)\u001b[0m\u001b[1;33m,\u001b[0m\u001b[1;33m\u001b[0m\u001b[1;33m\u001b[0m\u001b[0m\n\u001b[0m\u001b[0;32m    286\u001b[0m             )\n\u001b[0;32m    287\u001b[0m         )\n",
      "\u001b[1;31mValueError\u001b[0m: \n    Invalid value of type 'builtins.str' received for the 'arrowcolor' property of layout.annotation\n        Received value: ''\n\n    The 'arrowcolor' property is a color and may be specified as:\n      - A hex string (e.g. '#ff0000')\n      - An rgb/rgba string (e.g. 'rgb(255,0,0)')\n      - An hsl/hsla string (e.g. 'hsl(0,100%,50%)')\n      - An hsv/hsva string (e.g. 'hsv(0,100%,100%)')\n      - A named CSS color:\n            aliceblue, antiquewhite, aqua, aquamarine, azure,\n            beige, bisque, black, blanchedalmond, blue,\n            blueviolet, brown, burlywood, cadetblue,\n            chartreuse, chocolate, coral, cornflowerblue,\n            cornsilk, crimson, cyan, darkblue, darkcyan,\n            darkgoldenrod, darkgray, darkgrey, darkgreen,\n            darkkhaki, darkmagenta, darkolivegreen, darkorange,\n            darkorchid, darkred, darksalmon, darkseagreen,\n            darkslateblue, darkslategray, darkslategrey,\n            darkturquoise, darkviolet, deeppink, deepskyblue,\n            dimgray, dimgrey, dodgerblue, firebrick,\n            floralwhite, forestgreen, fuchsia, gainsboro,\n            ghostwhite, gold, goldenrod, gray, grey, green,\n            greenyellow, honeydew, hotpink, indianred, indigo,\n            ivory, khaki, lavender, lavenderblush, lawngreen,\n            lemonchiffon, lightblue, lightcoral, lightcyan,\n            lightgoldenrodyellow, lightgray, lightgrey,\n            lightgreen, lightpink, lightsalmon, lightseagreen,\n            lightskyblue, lightslategray, lightslategrey,\n            lightsteelblue, lightyellow, lime, limegreen,\n            linen, magenta, maroon, mediumaquamarine,\n            mediumblue, mediumorchid, mediumpurple,\n            mediumseagreen, mediumslateblue, mediumspringgreen,\n            mediumturquoise, mediumvioletred, midnightblue,\n            mintcream, mistyrose, moccasin, navajowhite, navy,\n            oldlace, olive, olivedrab, orange, orangered,\n            orchid, palegoldenrod, palegreen, paleturquoise,\n            palevioletred, papayawhip, peachpuff, peru, pink,\n            plum, powderblue, purple, red, rosybrown,\n            royalblue, rebeccapurple, saddlebrown, salmon,\n            sandybrown, seagreen, seashell, sienna, silver,\n            skyblue, slateblue, slategray, slategrey, snow,\n            springgreen, steelblue, tan, teal, thistle, tomato,\n            turquoise, violet, wheat, white, whitesmoke,\n            yellow, yellowgreen"
     ]
    }
   ],
   "source": [
    "import plotly\n",
    "fpth = r'plotlyexample.plotly.json'\n",
    "fig_after_work = pio.read_json(fpth, output_type='FigureWidget')\n",
    "fig_after_work"
   ]
  },
  {
   "cell_type": "code",
   "execution_count": null,
   "metadata": {},
   "outputs": [],
   "source": []
  }
 ],
 "metadata": {
  "kernelspec": {
   "display_name": "Python [conda env:mf_main] *",
   "language": "python",
   "name": "conda-env-mf_main-py"
  },
  "language_info": {
   "codemirror_mode": {
    "name": "ipython",
    "version": 3
   },
   "file_extension": ".py",
   "mimetype": "text/x-python",
   "name": "python",
   "nbconvert_exporter": "python",
   "pygments_lexer": "ipython3",
   "version": "3.7.7"
  },
  "widgets": {
   "application/vnd.jupyter.widget-state+json": {
    "state": {
     "00018bcf22354c2ab1206bd28eea5774": {
      "model_module": "@jupyter-widgets/base",
      "model_module_version": "1.2.0",
      "model_name": "LayoutModel",
      "state": {}
     },
     "00bb3b5a0ba44867ba37973219bc94bd": {
      "model_module": "@jupyter-widgets/base",
      "model_module_version": "1.2.0",
      "model_name": "LayoutModel",
      "state": {
       "width": "5%"
      }
     },
     "01a87148ffea4d9d8925f4e68c2d99fe": {
      "model_module": "@jupyter-widgets/base",
      "model_module_version": "1.2.0",
      "model_name": "LayoutModel",
      "state": {
       "align_items": "stretch",
       "display": "flex",
       "flex_flow": "row",
       "grid_auto_columns": "True",
       "justify_content": "flex-end",
       "width": "90%"
      }
     },
     "02235387e2a345d9a4e509c2a4845e8f": {
      "model_module": "@jupyter-widgets/controls",
      "model_module_version": "1.5.0",
      "model_name": "ButtonStyleModel",
      "state": {
       "font_weight": "bold"
      }
     },
     "02f983ce8d214b55b1cea70a669ffdd1": {
      "model_module": "@jupyter-widgets/controls",
      "model_module_version": "1.5.0",
      "model_name": "HBoxModel",
      "state": {
       "children": [
        "IPY_MODEL_103f4a8a436e486eadf6cd8eb40edda2",
        "IPY_MODEL_cac1058eaa1c4600b28a599d11a7e0c1"
       ],
       "layout": "IPY_MODEL_b9f08ef3299741449ad6fc3523af3b4d"
      }
     },
     "037f79ab75b84b018a3c81c3f6b51b14": {
      "model_module": "@jupyter-widgets/base",
      "model_module_version": "1.2.0",
      "model_name": "LayoutModel",
      "state": {}
     },
     "03bacab8ac7f407cb8056115c6581297": {
      "model_module": "@jupyter-widgets/base",
      "model_module_version": "1.2.0",
      "model_name": "LayoutModel",
      "state": {
       "display": "flex",
       "flex_flow": "row",
       "grid_auto_columns": "False",
       "justify_content": "flex-start",
       "width": "100%"
      }
     },
     "03d6dbf850a748a6add66a8a0a7ba933": {
      "model_module": "@jupyter-widgets/controls",
      "model_module_version": "1.5.0",
      "model_name": "TextModel",
      "state": {
       "description": "inputs",
       "disabled": true,
       "layout": "IPY_MODEL_52768d54a3d944f98a6755894673e0f2",
       "style": "IPY_MODEL_1781240a20dd4d3e8c8f991c96de393f",
       "value": "C:\\engDev\\git_mf\\ipyrun\\examples\\notebooks\\appdata\\inputs\\inputs-expansion_vessel_sizing.json"
      }
     },
     "03ecd2c4b1e34dea981bfedb675361fc": {
      "model_module": "@jupyter-widgets/base",
      "model_module_version": "1.2.0",
      "model_name": "LayoutModel",
      "state": {
       "align_items": "stretch",
       "border": "dashed 0.2px green",
       "display": "flex",
       "flex_flow": "row",
       "grid_auto_columns": "True",
       "justify_content": "flex-start",
       "width": "100%"
      }
     },
     "04028e11c83f4052b464503bc1b0d179": {
      "model_module": "@jupyter-widgets/controls",
      "model_module_version": "1.5.0",
      "model_name": "VBoxModel",
      "state": {
       "children": [
        "IPY_MODEL_596d6328dad34f3fad1c46f754d3b4b8",
        "IPY_MODEL_d97a8354484442d0a5ff80976afbbe35"
       ],
       "layout": "IPY_MODEL_50f3163bb59c4d0aa8f42044c809486a"
      }
     },
     "04b348de55a74282a604c3593ca5163b": {
      "model_module": "@jupyter-widgets/base",
      "model_module_version": "1.2.0",
      "model_name": "LayoutModel",
      "state": {}
     },
     "0551f4b3226d46c598e39616c79003da": {
      "model_module": "@jupyter-widgets/output",
      "model_module_version": "1.0.0",
      "model_name": "OutputModel",
      "state": {
       "layout": "IPY_MODEL_f2f08df5d9bd4958b80ffe32a841c465"
      }
     },
     "060ccb2cef5b40bc94a51456501a4f3b": {
      "model_module": "@jupyter-widgets/controls",
      "model_module_version": "1.5.0",
      "model_name": "ButtonStyleModel",
      "state": {
       "font_weight": "bold"
      }
     },
     "06252b4230034084b4eb670da5a0b095": {
      "model_module": "@jupyter-widgets/base",
      "model_module_version": "1.2.0",
      "model_name": "LayoutModel",
      "state": {}
     },
     "0649a7a2b29048f794e21b0593dcd730": {
      "model_module": "@jupyter-widgets/base",
      "model_module_version": "1.2.0",
      "model_name": "LayoutModel",
      "state": {}
     },
     "06618e59eb904798acbf5e278211e4ce": {
      "model_module": "@jupyter-widgets/controls",
      "model_module_version": "1.5.0",
      "model_name": "ButtonStyleModel",
      "state": {
       "font_weight": "bold"
      }
     },
     "067ea40a66ae405aa1eb0316c26f78c1": {
      "model_module": "@jupyter-widgets/controls",
      "model_module_version": "1.5.0",
      "model_name": "HBoxModel",
      "state": {
       "children": [
        "IPY_MODEL_867653e351f34be7abd3263aa367d2c1",
        "IPY_MODEL_58d7999f9cf84bb685ced42f120cd935"
       ],
       "layout": "IPY_MODEL_14f7f45c7cc1475286487317c394bc0e"
      }
     },
     "06c56c59787b46fea2f21b6136b803b6": {
      "model_module": "@jupyter-widgets/controls",
      "model_module_version": "1.5.0",
      "model_name": "HBoxModel",
      "state": {
       "children": [
        "IPY_MODEL_5c1b665967c543469c51009b77675a00",
        "IPY_MODEL_fd5795250cc94cc9b8f7f82e69d41089"
       ],
       "layout": "IPY_MODEL_7b7129b16fa245f1aa3198d3456bbfb1"
      }
     },
     "07f4756098a841c7a4f5e3c38ffdeb95": {
      "model_module": "@jupyter-widgets/base",
      "model_module_version": "1.2.0",
      "model_name": "LayoutModel",
      "state": {}
     },
     "0813e1145eb34c29aff2dae461a7c567": {
      "model_module": "@jupyter-widgets/controls",
      "model_module_version": "1.5.0",
      "model_name": "HBoxModel",
      "state": {
       "children": [
        "IPY_MODEL_5276e414d04c47e6bb04c4ee9251df34",
        "IPY_MODEL_9485e6e25d764c5492cb64e711f62919"
       ],
       "layout": "IPY_MODEL_8ca48bb869ea4b36ac261b399f594ffc"
      }
     },
     "08774c7071104808b64e53edfabebc64": {
      "model_module": "@jupyter-widgets/base",
      "model_module_version": "1.2.0",
      "model_name": "LayoutModel",
      "state": {
       "align_items": "stretch",
       "display": "flex",
       "flex_flow": "row",
       "grid_auto_columns": "True",
       "justify_content": "flex-start",
       "width": "80%"
      }
     },
     "08945ea98c7b4d39a55a3fda1a16bb46": {
      "model_module": "@jupyter-widgets/base",
      "model_module_version": "1.2.0",
      "model_name": "LayoutModel",
      "state": {}
     },
     "08e5bf816e724e798cd30d5a4998fdca": {
      "model_module": "@jupyter-widgets/controls",
      "model_module_version": "1.5.0",
      "model_name": "FloatTextModel",
      "state": {
       "layout": "IPY_MODEL_4189b35869a946bcb02013e7f69b7b00",
       "step": null,
       "style": "IPY_MODEL_5222a0f239344af6acf118bbb097c85f",
       "value": 500
      }
     },
     "08ffc59a11d543a79a28ed425ba76926": {
      "model_module": "@jupyter-widgets/base",
      "model_module_version": "1.2.0",
      "model_name": "LayoutModel",
      "state": {}
     },
     "09a8f3285b49495b9f7771ad28f809ad": {
      "model_module": "@jupyter-widgets/base",
      "model_module_version": "1.2.0",
      "model_name": "LayoutModel",
      "state": {
       "height": "30px",
       "max_width": "30px",
       "padding": "3px"
      }
     },
     "0a060cb495d643339006fb13764fd536": {
      "model_module": "@jupyter-widgets/base",
      "model_module_version": "1.2.0",
      "model_name": "LayoutModel",
      "state": {}
     },
     "0a71eb41a2b14eb6842e17d5b3d3f858": {
      "model_module": "@jupyter-widgets/output",
      "model_module_version": "1.0.0",
      "model_name": "OutputModel",
      "state": {
       "layout": "IPY_MODEL_0dc310bb7eb94acc979e250cda099e3d"
      }
     },
     "0a87d15b8515438081445ddc2ed07a3e": {
      "model_module": "@jupyter-widgets/controls",
      "model_module_version": "1.5.0",
      "model_name": "HBoxModel",
      "state": {
       "children": [
        "IPY_MODEL_de389f9a5ce14e129f450b921f4b2cd6",
        "IPY_MODEL_d44c4035e09a48dd857290418074a3d0",
        "IPY_MODEL_aa285f9eb072469799996521ad4e4a11"
       ],
       "layout": "IPY_MODEL_50f5ecc44c7d4400a6db041911a1c6c1"
      }
     },
     "0aa1f4b12177478293c2623168b6e0e8": {
      "model_module": "@jupyter-widgets/base",
      "model_module_version": "1.2.0",
      "model_name": "LayoutModel",
      "state": {
       "width": "100%"
      }
     },
     "0b43a7e5557f4b03b65d26d092d5ad1c": {
      "model_module": "@jupyter-widgets/controls",
      "model_module_version": "1.5.0",
      "model_name": "ButtonStyleModel",
      "state": {
       "font_weight": "bold"
      }
     },
     "0c1b539f9aa3496d9aecd078a80b67b1": {
      "model_module": "@jupyter-widgets/controls",
      "model_module_version": "1.5.0",
      "model_name": "ButtonModel",
      "state": {
       "button_style": "warning",
       "description": "revert to last save",
       "layout": "IPY_MODEL_6668661a62bf4eb2b98bcda192be4e7a",
       "style": "IPY_MODEL_5d8d7704237940dd9bc98790dd1b2755"
      }
     },
     "0c431cb9aadb41b3a421fda1607ad477": {
      "model_module": "@jupyter-widgets/output",
      "model_module_version": "1.0.0",
      "model_name": "OutputModel",
      "state": {
       "layout": "IPY_MODEL_52425f3305d5469590a8717683b92529"
      }
     },
     "0d1040bc52584921a8361281327d7d52": {
      "model_module": "@jupyter-widgets/controls",
      "model_module_version": "1.5.0",
      "model_name": "HBoxModel",
      "state": {
       "children": [
        "IPY_MODEL_10603b82833c4c999b082b9a8b2e6021",
        "IPY_MODEL_067ea40a66ae405aa1eb0316c26f78c1"
       ],
       "layout": "IPY_MODEL_366755bb415f4bb1909df4660a8ef4b6"
      }
     },
     "0d19825528d345fa95d8560e736e7dd7": {
      "model_module": "@jupyter-widgets/base",
      "model_module_version": "1.2.0",
      "model_name": "LayoutModel",
      "state": {}
     },
     "0d2a9dc3e8d3472294f74d940ecf6712": {
      "model_module": "@jupyter-widgets/controls",
      "model_module_version": "1.5.0",
      "model_name": "ButtonStyleModel",
      "state": {
       "font_weight": "bold"
      }
     },
     "0d989d7a68f24041ae5534b3ebbc2f62": {
      "model_module": "@jupyter-widgets/output",
      "model_module_version": "1.0.0",
      "model_name": "OutputModel",
      "state": {
       "layout": "IPY_MODEL_3a10f6d169e54d59bfc690808b08be54"
      }
     },
     "0dc1ef5bfdeb4c23a825babf559b0377": {
      "model_module": "@jupyter-widgets/output",
      "model_module_version": "1.0.0",
      "model_name": "OutputModel",
      "state": {
       "layout": "IPY_MODEL_3855c031f3804265b80c6eab607d66b0"
      }
     },
     "0dc310bb7eb94acc979e250cda099e3d": {
      "model_module": "@jupyter-widgets/base",
      "model_module_version": "1.2.0",
      "model_name": "LayoutModel",
      "state": {}
     },
     "0e40038af4564105a1bc88fda3630759": {
      "model_module": "@jupyter-widgets/controls",
      "model_module_version": "1.5.0",
      "model_name": "HBoxModel",
      "state": {
       "children": [
        "IPY_MODEL_a78c7de030ae4650b9c3ce67ab4a7373"
       ],
       "layout": "IPY_MODEL_8d26d85475e44a3d9c3d5e7e918bda6a"
      }
     },
     "0f35f5ceaf39460d89430da752167083": {
      "model_module": "@jupyter-widgets/controls",
      "model_module_version": "1.5.0",
      "model_name": "FloatSliderModel",
      "state": {
       "layout": "IPY_MODEL_35b43305ba874bcba92cf0d154ce9736",
       "max": 1,
       "step": 0.1,
       "style": "IPY_MODEL_194ccf31d3264968bcb4cd358fde76fb",
       "value": 0.3
      }
     },
     "0f6203b3adcc42309baf620e5c594bb9": {
      "model_module": "@jupyter-widgets/base",
      "model_module_version": "1.2.0",
      "model_name": "LayoutModel",
      "state": {}
     },
     "103f4a8a436e486eadf6cd8eb40edda2": {
      "model_module": "@jupyter-widgets/controls",
      "model_module_version": "1.5.0",
      "model_name": "FloatSliderModel",
      "state": {
       "layout": "IPY_MODEL_416e00152665484a88a3bc2f526f403f",
       "max": 1,
       "step": 0.1,
       "style": "IPY_MODEL_3bde31196f77444cb80d465277bf0e79",
       "value": 0.3
      }
     },
     "10603b82833c4c999b082b9a8b2e6021": {
      "model_module": "@jupyter-widgets/controls",
      "model_module_version": "1.5.0",
      "model_name": "HTMLModel",
      "state": {
       "layout": "IPY_MODEL_80bf722ba002420da699dc987ca806e3",
       "style": "IPY_MODEL_e73583bb44c44343800add7f3ba28c14",
       "value": "<p>pipework_pressure_loss_pa_per_m</p>"
      }
     },
     "1062d960ee984a74b971b61fde82080f": {
      "model_module": "@jupyter-widgets/base",
      "model_module_version": "1.2.0",
      "model_name": "LayoutModel",
      "state": {}
     },
     "1129fd1811b84b41941455a08343b284": {
      "model_module": "@jupyter-widgets/base",
      "model_module_version": "1.2.0",
      "model_name": "LayoutModel",
      "state": {}
     },
     "121a8f8b2a6e40519a124ff91b7da864": {
      "model_module": "@jupyter-widgets/base",
      "model_module_version": "1.2.0",
      "model_name": "LayoutModel",
      "state": {}
     },
     "125b15ab07e3456a9f1d9e1829b68c53": {
      "model_module": "@jupyter-widgets/controls",
      "model_module_version": "1.5.0",
      "model_name": "VBoxModel",
      "state": {
       "layout": "IPY_MODEL_5506d4c0a0e14773b15e8c885a989b6d"
      }
     },
     "12db841ea27b40a8928d6b3c36f2c197": {
      "model_module": "@jupyter-widgets/controls",
      "model_module_version": "1.5.0",
      "model_name": "ButtonModel",
      "state": {
       "description": "load",
       "icon": "upload",
       "layout": "IPY_MODEL_eb1981ce8d1c4382ade08be16cb6a796",
       "style": "IPY_MODEL_ba4e26362fa540a0a35f5aa49e801f1f"
      }
     },
     "13288f0577204ba484974aa5aa9d9b5f": {
      "model_module": "@jupyter-widgets/base",
      "model_module_version": "1.2.0",
      "model_name": "LayoutModel",
      "state": {
       "width": "100%"
      }
     },
     "149014a4388d459687cd64be8187e9b2": {
      "model_module": "@jupyter-widgets/controls",
      "model_module_version": "1.5.0",
      "model_name": "DescriptionStyleModel",
      "state": {
       "description_width": ""
      }
     },
     "14f7f45c7cc1475286487317c394bc0e": {
      "model_module": "@jupyter-widgets/base",
      "model_module_version": "1.2.0",
      "model_name": "LayoutModel",
      "state": {
       "align_items": "stretch",
       "display": "flex",
       "flex_flow": "row",
       "grid_auto_columns": "True",
       "justify_content": "flex-start",
       "width": "80%"
      }
     },
     "15158af428944a9ab469c2aab8ee949a": {
      "model_module": "@jupyter-widgets/controls",
      "model_module_version": "1.5.0",
      "model_name": "DescriptionStyleModel",
      "state": {
       "description_width": ""
      }
     },
     "1695098c3cf84e57bc89d29a1a7075c4": {
      "model_module": "@jupyter-widgets/base",
      "model_module_version": "1.2.0",
      "model_name": "LayoutModel",
      "state": {}
     },
     "16ff6e3fb6ae4579a9b74b7f21f00552": {
      "model_module": "@jupyter-widgets/base",
      "model_module_version": "1.2.0",
      "model_name": "LayoutModel",
      "state": {}
     },
     "1731825b404f40f5bbec659d6f894682": {
      "model_module": "@jupyter-widgets/base",
      "model_module_version": "1.2.0",
      "model_name": "LayoutModel",
      "state": {}
     },
     "1781240a20dd4d3e8c8f991c96de393f": {
      "model_module": "@jupyter-widgets/controls",
      "model_module_version": "1.5.0",
      "model_name": "DescriptionStyleModel",
      "state": {
       "description_width": ""
      }
     },
     "17bb39e05f014f67b69c307663d3f837": {
      "model_module": "@jupyter-widgets/base",
      "model_module_version": "1.2.0",
      "model_name": "LayoutModel",
      "state": {}
     },
     "17bff3b4f66e4fc5a326b3ac01ab95e7": {
      "model_module": "@jupyter-widgets/base",
      "model_module_version": "1.2.0",
      "model_name": "LayoutModel",
      "state": {}
     },
     "17e101fea8c848bea7eec87dcdbf9903": {
      "model_module": "@jupyter-widgets/controls",
      "model_module_version": "1.5.0",
      "model_name": "DescriptionStyleModel",
      "state": {
       "description_width": ""
      }
     },
     "18d20d4a61ee4e8bb8c08c5a1d0b2241": {
      "model_module": "@jupyter-widgets/controls",
      "model_module_version": "1.5.0",
      "model_name": "HTMLModel",
      "state": {
       "layout": "IPY_MODEL_7cd6c9c454984149a5e800eb5d955a4c",
       "style": "IPY_MODEL_be79139c341548d8860f9b365a918980",
       "value": "<p>Heating system pipework length (m). Note: includes horizontal, vertical, flow and return.</p>"
      }
     },
     "18f70534664745d19d70362a2b94418d": {
      "model_module": "@jupyter-widgets/output",
      "model_module_version": "1.0.0",
      "model_name": "OutputModel",
      "state": {
       "layout": "IPY_MODEL_1695098c3cf84e57bc89d29a1a7075c4"
      }
     },
     "194ccf31d3264968bcb4cd358fde76fb": {
      "model_module": "@jupyter-widgets/controls",
      "model_module_version": "1.5.0",
      "model_name": "SliderStyleModel",
      "state": {
       "description_width": ""
      }
     },
     "194fc68579a84780b26bc493d18b0b0b": {
      "model_module": "@jupyter-widgets/controls",
      "model_module_version": "1.5.0",
      "model_name": "VBoxModel",
      "state": {
       "children": [
        "IPY_MODEL_75e77b81ecd740aeb0c6f5fdd8dd298b",
        "IPY_MODEL_6894a1a9b41b4536895c89021f28dbe7",
        "IPY_MODEL_e26ca6d90cd04f139bcfbefcb88779ef"
       ],
       "layout": "IPY_MODEL_c49912b4f0c1449190330bcf708c5661"
      }
     },
     "197d61970751402ea54997593a3ff5f9": {
      "model_module": "@jupyter-widgets/controls",
      "model_module_version": "1.5.0",
      "model_name": "HBoxModel",
      "state": {
       "children": [
        "IPY_MODEL_acb9ce681d1a46619dd31e0e078c0b8e",
        "IPY_MODEL_bf859d6c325e4ebf83eae21e9cedefe6"
       ],
       "layout": "IPY_MODEL_20399befdada440790787788368d61ca"
      }
     },
     "1a22619211f44d648a0f32b8e632dc0a": {
      "model_module": "@jupyter-widgets/base",
      "model_module_version": "1.2.0",
      "model_name": "LayoutModel",
      "state": {
       "align_items": "stretch",
       "display": "flex",
       "flex_flow": "row",
       "grid_auto_columns": "True",
       "justify_content": "flex-end",
       "width": "90%"
      }
     },
     "1a369cd04d854824bda77258ad709942": {
      "model_module": "@jupyter-widgets/controls",
      "model_module_version": "1.5.0",
      "model_name": "DescriptionStyleModel",
      "state": {
       "description_width": ""
      }
     },
     "1a8513b04cd44b708ee5339bafd08d82": {
      "model_module": "@jupyter-widgets/base",
      "model_module_version": "1.2.0",
      "model_name": "LayoutModel",
      "state": {}
     },
     "1ad87e6986144b7a87c66e478a2ca1f5": {
      "model_module": "@jupyter-widgets/controls",
      "model_module_version": "1.5.0",
      "model_name": "DescriptionStyleModel",
      "state": {
       "description_width": ""
      }
     },
     "1bfc5cf20f764159882589a248ae224c": {
      "model_module": "@jupyter-widgets/controls",
      "model_module_version": "1.5.0",
      "model_name": "DescriptionStyleModel",
      "state": {
       "description_width": ""
      }
     },
     "1c8ad50bca1943fbbba0128f1ed8138b": {
      "model_module": "@jupyter-widgets/controls",
      "model_module_version": "1.5.0",
      "model_name": "ButtonModel",
      "state": {
       "icon": "eye-slash",
       "layout": "IPY_MODEL_decc83daf148436a9e3f5ec04dff7912",
       "style": "IPY_MODEL_f030c62d72ab45438e673eb53a107b73",
       "tooltip": "removes temporary output view"
      }
     },
     "1cc0ee37a37d41f2a97fae8d13663f90": {
      "model_module": "@jupyter-widgets/base",
      "model_module_version": "1.2.0",
      "model_name": "LayoutModel",
      "state": {}
     },
     "1d269eaa7dd348bbbaac1bf446f2b2a6": {
      "model_module": "@jupyter-widgets/controls",
      "model_module_version": "1.5.0",
      "model_name": "ButtonStyleModel",
      "state": {
       "font_weight": "bold"
      }
     },
     "1d28210d7f1148f1a91a5e89dc61dc3b": {
      "model_module": "@jupyter-widgets/controls",
      "model_module_version": "1.5.0",
      "model_name": "SelectMultipleModel",
      "state": {
       "_options_labels": [
        "C:\\engDev\\git_mf\\ipyrun\\examples\\notebooks\\expansion_vessel_sizing.csv"
       ],
       "description": "outputs",
       "index": [],
       "layout": "IPY_MODEL_3f5ed199376943e295ea7c4e091c59a1",
       "rows": 4,
       "style": "IPY_MODEL_d1806522a0214fe1a056ca0f51c7178c"
      }
     },
     "1d5d981d90f44351a991fa0446ce29f1": {
      "model_module": "@jupyter-widgets/controls",
      "model_module_version": "1.5.0",
      "model_name": "ButtonStyleModel",
      "state": {
       "font_weight": "bold"
      }
     },
     "1d61c4991ad9486f9b35fa13d2aa6514": {
      "model_module": "@jupyter-widgets/base",
      "model_module_version": "1.2.0",
      "model_name": "LayoutModel",
      "state": {}
     },
     "1dbdaae7c40e4e539f5852b1ae17166f": {
      "model_module": "@jupyter-widgets/controls",
      "model_module_version": "1.5.0",
      "model_name": "HBoxModel",
      "state": {
       "children": [
        "IPY_MODEL_26ccd45fa1f54336a94a600d0c96b43a"
       ],
       "layout": "IPY_MODEL_2139ee6e569c421aa0d4fc78351c1526"
      }
     },
     "1dc5349c43374217a2bab57b94eb93d1": {
      "model_module": "@jupyter-widgets/controls",
      "model_module_version": "1.5.0",
      "model_name": "SelectMultipleModel",
      "state": {
       "_options_labels": [
        "C:\\engDev\\git_mf\\ipyrun\\examples\\notebooks\\expansion_vessel_sizing.csv"
       ],
       "description": "outputs",
       "index": [],
       "layout": "IPY_MODEL_d5c27214d1f54e35a1a11f1769fa4b87",
       "rows": 4,
       "style": "IPY_MODEL_521aea6ed576438ba1b6ddb8e1bdd438"
      }
     },
     "1e732ab6b7634516bf01fdd0f387c0d5": {
      "model_module": "@jupyter-widgets/base",
      "model_module_version": "1.2.0",
      "model_name": "LayoutModel",
      "state": {}
     },
     "1ef165072a184ec7838accec45c39313": {
      "model_module": "@jupyter-widgets/controls",
      "model_module_version": "1.5.0",
      "model_name": "ButtonModel",
      "state": {
       "button_style": "success",
       "description": "run",
       "layout": "IPY_MODEL_72833e89110243edbe62b830550ce02c",
       "style": "IPY_MODEL_4c0e7d4da0a84c26b6687b212363ee4b",
       "tooltip": "execute the script based on the user inputs"
      }
     },
     "1fe4912a2e794a07b698485a66a48d36": {
      "model_module": "@jupyter-widgets/base",
      "model_module_version": "1.2.0",
      "model_name": "LayoutModel",
      "state": {
       "height": "30px",
       "width": "auto"
      }
     },
     "2028333d11594e2b95c4847f9de4dbe8": {
      "model_module": "@jupyter-widgets/base",
      "model_module_version": "1.2.0",
      "model_name": "LayoutModel",
      "state": {}
     },
     "20399befdada440790787788368d61ca": {
      "model_module": "@jupyter-widgets/base",
      "model_module_version": "1.2.0",
      "model_name": "LayoutModel",
      "state": {
       "align_items": "stretch",
       "display": "flex",
       "flex_flow": "row",
       "grid_auto_columns": "True",
       "justify_content": "flex-start",
       "width": "80%"
      }
     },
     "203b315a082e4b4ba19ac0d7bbc812cb": {
      "model_module": "@jupyter-widgets/controls",
      "model_module_version": "1.5.0",
      "model_name": "ButtonStyleModel",
      "state": {
       "font_weight": "bold"
      }
     },
     "206dd1c28a8746728c38fe8c4abb5228": {
      "model_module": "@jupyter-widgets/base",
      "model_module_version": "1.2.0",
      "model_name": "LayoutModel",
      "state": {
       "align_items": "stretch",
       "width": "100%"
      }
     },
     "209938b8a4fd4663b13b386b9ada23c9": {
      "model_module": "@jupyter-widgets/base",
      "model_module_version": "1.2.0",
      "model_name": "LayoutModel",
      "state": {}
     },
     "20d648380f59441186e1fff91bbfd49a": {
      "model_module": "@jupyter-widgets/controls",
      "model_module_version": "1.5.0",
      "model_name": "DescriptionStyleModel",
      "state": {
       "description_width": ""
      }
     },
     "2139ee6e569c421aa0d4fc78351c1526": {
      "model_module": "@jupyter-widgets/base",
      "model_module_version": "1.2.0",
      "model_name": "LayoutModel",
      "state": {
       "align_items": "stretch",
       "border": "dashed 0.2px green",
       "display": "flex",
       "flex_flow": "row",
       "grid_auto_columns": "True",
       "justify_content": "flex-start",
       "width": "100%"
      }
     },
     "21bee4cf7b7546b6b2991992057bcf3b": {
      "model_module": "@jupyter-widgets/base",
      "model_module_version": "1.2.0",
      "model_name": "LayoutModel",
      "state": {
       "height": "30px",
       "width": "auto"
      }
     },
     "21d7c9eeda27415d8ae81bacf2f472de": {
      "model_module": "@jupyter-widgets/controls",
      "model_module_version": "1.5.0",
      "model_name": "SliderStyleModel",
      "state": {
       "description_width": ""
      }
     },
     "21dcdde0003d452da762d752a4c65e4b": {
      "model_module": "@jupyter-widgets/controls",
      "model_module_version": "1.5.0",
      "model_name": "DescriptionStyleModel",
      "state": {
       "description_width": ""
      }
     },
     "228a582be0f14c8dbfb888c338587c76": {
      "model_module": "@jupyter-widgets/controls",
      "model_module_version": "1.5.0",
      "model_name": "ButtonStyleModel",
      "state": {}
     },
     "23bda3dfb84844fcae95ac7481ea3b2a": {
      "model_module": "@jupyter-widgets/controls",
      "model_module_version": "1.5.0",
      "model_name": "DescriptionStyleModel",
      "state": {
       "description_width": ""
      }
     },
     "243c1365fef945509e1ac11082deb96b": {
      "model_module": "@jupyter-widgets/controls",
      "model_module_version": "1.5.0",
      "model_name": "DescriptionStyleModel",
      "state": {
       "description_width": ""
      }
     },
     "24d9bf945b08493f9c54830eab694e09": {
      "model_module": "@jupyter-widgets/base",
      "model_module_version": "1.2.0",
      "model_name": "LayoutModel",
      "state": {}
     },
     "251ed1e96c9e47c4ac44823684e759ec": {
      "model_module": "@jupyter-widgets/controls",
      "model_module_version": "1.5.0",
      "model_name": "DescriptionStyleModel",
      "state": {
       "description_width": ""
      }
     },
     "2532bf6b4e6f45348caff7a6d1064926": {
      "model_module": "@jupyter-widgets/controls",
      "model_module_version": "1.5.0",
      "model_name": "DescriptionStyleModel",
      "state": {
       "description_width": ""
      }
     },
     "25434b20f6664195a562dc14f1611f9d": {
      "model_module": "@jupyter-widgets/base",
      "model_module_version": "1.2.0",
      "model_name": "LayoutModel",
      "state": {
       "width": "5%"
      }
     },
     "25d9e1bac31e4dad92d4c55c4b9e1e35": {
      "model_module": "@jupyter-widgets/controls",
      "model_module_version": "1.5.0",
      "model_name": "ButtonStyleModel",
      "state": {
       "font_weight": "bold"
      }
     },
     "261794dc9f8d47ecae75b90a602a9d70": {
      "model_module": "@jupyter-widgets/base",
      "model_module_version": "1.2.0",
      "model_name": "LayoutModel",
      "state": {
       "align_items": "stretch",
       "display": "flex",
       "flex_flow": "row",
       "grid_auto_columns": "True",
       "justify_content": "flex-end",
       "width": "90%"
      }
     },
     "262d6edabc9c44ad970666717fe1ec72": {
      "model_module": "@jupyter-widgets/controls",
      "model_module_version": "1.5.0",
      "model_name": "ButtonStyleModel",
      "state": {
       "font_weight": "bold"
      }
     },
     "263f11a6a16d473f9233bf826ac2a191": {
      "model_module": "@jupyter-widgets/base",
      "model_module_version": "1.2.0",
      "model_name": "LayoutModel",
      "state": {}
     },
     "26ccd45fa1f54336a94a600d0c96b43a": {
      "model_module": "@jupyter-widgets/controls",
      "model_module_version": "1.5.0",
      "model_name": "HBoxModel",
      "state": {
       "children": [
        "IPY_MODEL_b110a0ff5ec145369ce095866b2722d1",
        "IPY_MODEL_355979b8b070494c8dd89db1164c252b"
       ],
       "layout": "IPY_MODEL_284a47bafb12454c8cad625f995fb3a0"
      }
     },
     "284a47bafb12454c8cad625f995fb3a0": {
      "model_module": "@jupyter-widgets/base",
      "model_module_version": "1.2.0",
      "model_name": "LayoutModel",
      "state": {
       "align_items": "stretch",
       "display": "flex",
       "flex_flow": "row",
       "grid_auto_columns": "True",
       "justify_content": "flex-end",
       "width": "90%"
      }
     },
     "28ca8a5c54dc4ceaaa119ab226312a8f": {
      "model_module": "@jupyter-widgets/base",
      "model_module_version": "1.2.0",
      "model_name": "LayoutModel",
      "state": {
       "align_items": "stretch",
       "border": "dashed 0.2px green",
       "display": "flex",
       "flex_flow": "row",
       "grid_auto_columns": "True",
       "justify_content": "flex-start",
       "width": "100%"
      }
     },
     "294d153e257a4da498dc0acf8dd93225": {
      "model_module": "@jupyter-widgets/controls",
      "model_module_version": "1.5.0",
      "model_name": "SliderStyleModel",
      "state": {
       "description_width": ""
      }
     },
     "2a0661a97ad341e88a3f6c08fa7b5832": {
      "model_module": "@jupyter-widgets/base",
      "model_module_version": "1.2.0",
      "model_name": "LayoutModel",
      "state": {}
     },
     "2a6c6609a22b4925becfd4f90a9d8aef": {
      "model_module": "@jupyter-widgets/controls",
      "model_module_version": "1.5.0",
      "model_name": "VBoxModel",
      "state": {
       "children": [
        "IPY_MODEL_75e77b81ecd740aeb0c6f5fdd8dd298b",
        "IPY_MODEL_6894a1a9b41b4536895c89021f28dbe7",
        "IPY_MODEL_e26ca6d90cd04f139bcfbefcb88779ef"
       ],
       "layout": "IPY_MODEL_3afff0557a944038aa69a5de91760e47"
      }
     },
     "2a7b807d66194fe8801fdd9ee0ab0397": {
      "model_module": "@jupyter-widgets/base",
      "model_module_version": "1.2.0",
      "model_name": "LayoutModel",
      "state": {}
     },
     "2a930cb25efd4c6bbfe0197c9aecd1f9": {
      "model_module": "@jupyter-widgets/controls",
      "model_module_version": "1.5.0",
      "model_name": "ButtonStyleModel",
      "state": {
       "font_weight": "bold"
      }
     },
     "2aac2bd72c2e4a84b58736f489f9b114": {
      "model_module": "@jupyter-widgets/controls",
      "model_module_version": "1.5.0",
      "model_name": "FloatTextModel",
      "state": {
       "layout": "IPY_MODEL_d3ea76e2b02945529f8c4d56abaec116",
       "step": null,
       "style": "IPY_MODEL_251ed1e96c9e47c4ac44823684e759ec",
       "value": 257
      }
     },
     "2b394aa2478042a7bf956b9979b14364": {
      "model_module": "@jupyter-widgets/controls",
      "model_module_version": "1.5.0",
      "model_name": "HBoxModel",
      "state": {
       "children": [
        "IPY_MODEL_9ca35007a717403a86350107db1af47a",
        "IPY_MODEL_83f64caa1d264357833fd0086a449614"
       ],
       "layout": "IPY_MODEL_da9a0392b763416387a38964545a5d71"
      }
     },
     "2b3b5816e0774fa98eba602e58517b2d": {
      "model_module": "@jupyter-widgets/controls",
      "model_module_version": "1.5.0",
      "model_name": "VBoxModel",
      "state": {
       "children": [
        "IPY_MODEL_0a87d15b8515438081445ddc2ed07a3e",
        "IPY_MODEL_d2e29a00e8e448c897d58014c5f978c9",
        "IPY_MODEL_bf8a1b69fc0c4e65a1a77cb90e196434"
       ],
       "layout": "IPY_MODEL_b7ad626d58354f4db19e8c1d04057927"
      }
     },
     "2b524843d61b49a9bb9bb0f2d09073b9": {
      "model_module": "@jupyter-widgets/controls",
      "model_module_version": "1.5.0",
      "model_name": "DescriptionStyleModel",
      "state": {
       "description_width": ""
      }
     },
     "2c46aa368f10432096add6fd482a3760": {
      "model_module": "@jupyter-widgets/controls",
      "model_module_version": "1.5.0",
      "model_name": "DescriptionStyleModel",
      "state": {
       "description_width": ""
      }
     },
     "2d3e129c014b47d38ce572aa5a8cd00f": {
      "model_module": "@jupyter-widgets/controls",
      "model_module_version": "1.5.0",
      "model_name": "SelectMultipleModel",
      "state": {
       "_options_labels": [
        "C:\\engDev\\git_mf\\ipyrun\\examples\\notebooks\\expansion_vessel_sizing.csv"
       ],
       "description": "outputs",
       "index": [],
       "layout": "IPY_MODEL_455a7b45eade466486b2900638de47d3",
       "rows": 4,
       "style": "IPY_MODEL_822b4d38f0e4449fa69e6fee1b06ec59"
      }
     },
     "2d8c684f03954df7bb987ded1671dac1": {
      "model_module": "@jupyter-widgets/controls",
      "model_module_version": "1.5.0",
      "model_name": "CheckboxModel",
      "state": {
       "disabled": false,
       "indent": false,
       "layout": "IPY_MODEL_09a8f3285b49495b9f7771ad28f809ad",
       "style": "IPY_MODEL_7ecf32b1b97e43c2b2034de01ffc381f",
       "value": false
      }
     },
     "2e402b2cf5ee44f884ddaa2e1f2d4bf4": {
      "model_module": "@jupyter-widgets/base",
      "model_module_version": "1.2.0",
      "model_name": "LayoutModel",
      "state": {}
     },
     "2f0948bae9e54d468f7eb972ea4f28da": {
      "model_module": "@jupyter-widgets/output",
      "model_module_version": "1.0.0",
      "model_name": "OutputModel",
      "state": {
       "layout": "IPY_MODEL_2a0661a97ad341e88a3f6c08fa7b5832"
      }
     },
     "2f35d9afb27e4e6eab1b5d437b57debc": {
      "model_module": "@jupyter-widgets/base",
      "model_module_version": "1.2.0",
      "model_name": "LayoutModel",
      "state": {}
     },
     "2f9d7d4a41244d7fa8b146ec72e2b54e": {
      "model_module": "@jupyter-widgets/controls",
      "model_module_version": "1.5.0",
      "model_name": "VBoxModel",
      "state": {
       "children": [
        "IPY_MODEL_93c8ab9f47564d8ab8c77c177563a96d",
        "IPY_MODEL_3e6e687784ec4b72b5a9acfcebb47381",
        "IPY_MODEL_afa2513ac6684608a3054b1e9a599567",
        "IPY_MODEL_1dbdaae7c40e4e539f5852b1ae17166f",
        "IPY_MODEL_5d2b9be3bc6a49169b1674e5fde9f0c4",
        "IPY_MODEL_89dc9d7a2d6f41a89d45ed035ff60f31",
        "IPY_MODEL_4260a7865f134fa0b6c49a9e117174da"
       ],
       "layout": "IPY_MODEL_e4ce171503504a46b60adf222db72c7e"
      }
     },
     "2fc08967d6604d1f88a887c3d149cd61": {
      "model_module": "@jupyter-widgets/controls",
      "model_module_version": "1.5.0",
      "model_name": "HBoxModel",
      "state": {
       "children": [
        "IPY_MODEL_08e5bf816e724e798cd30d5a4998fdca",
        "IPY_MODEL_a576e3b8428e47dfb05b3c170e440a30"
       ],
       "layout": "IPY_MODEL_5ded719980d64b4d9d65f3ce08f14b83"
      }
     },
     "2fc1840c705d42188f50e7d39cc7c8e7": {
      "model_module": "@jupyter-widgets/base",
      "model_module_version": "1.2.0",
      "model_name": "LayoutModel",
      "state": {}
     },
     "3122d6594ed3401eab640d29cea0a6b8": {
      "model_module": "@jupyter-widgets/base",
      "model_module_version": "1.2.0",
      "model_name": "LayoutModel",
      "state": {}
     },
     "31dacb1d40814d96b1d03b65bbf5e390": {
      "model_module": "@jupyter-widgets/controls",
      "model_module_version": "1.5.0",
      "model_name": "HBoxModel",
      "state": {
       "children": [
        "IPY_MODEL_4876d3926ba5499fad415f55db60a9f1",
        "IPY_MODEL_779ccfda1fe848a3a1cbe4554e30018e"
       ],
       "layout": "IPY_MODEL_c7d02c99b4da4120b45f3eeea7e65104"
      }
     },
     "32d247245c7c4416b3d1e0a7a16fc057": {
      "model_module": "@jupyter-widgets/base",
      "model_module_version": "1.2.0",
      "model_name": "LayoutModel",
      "state": {
       "align_items": "stretch",
       "width": "100%"
      }
     },
     "32ef965fc7774e4b9d48d78b1f05e64e": {
      "model_module": "@jupyter-widgets/controls",
      "model_module_version": "1.5.0",
      "model_name": "VBoxModel",
      "state": {
       "children": [
        "IPY_MODEL_0a87d15b8515438081445ddc2ed07a3e",
        "IPY_MODEL_d2e29a00e8e448c897d58014c5f978c9",
        "IPY_MODEL_bf8a1b69fc0c4e65a1a77cb90e196434"
       ],
       "layout": "IPY_MODEL_b4558ea084ff4db387bcf8e9ea769010"
      }
     },
     "3313dbd8c30346599efc37936143deac": {
      "model_module": "@jupyter-widgets/controls",
      "model_module_version": "1.5.0",
      "model_name": "ButtonModel",
      "state": {
       "button_style": "warning",
       "description": "revert to last save",
       "layout": "IPY_MODEL_53aa82a38b4d4e8faa6552418669e85f",
       "style": "IPY_MODEL_06618e59eb904798acbf5e278211e4ce"
      }
     },
     "331d946308e24c22a0a1f4cc229e1ec2": {
      "model_module": "@jupyter-widgets/controls",
      "model_module_version": "1.5.0",
      "model_name": "DescriptionStyleModel",
      "state": {
       "description_width": ""
      }
     },
     "338d4870ff3a41dcb0013bba9e330b86": {
      "model_module": "@jupyter-widgets/base",
      "model_module_version": "1.2.0",
      "model_name": "LayoutModel",
      "state": {}
     },
     "339df205ee694e4bb72bb79f92188438": {
      "model_module": "@jupyter-widgets/output",
      "model_module_version": "1.0.0",
      "model_name": "OutputModel",
      "state": {
       "layout": "IPY_MODEL_9d9ef101af3a406f9fe1619509b90eba"
      }
     },
     "33dcd5bd16b748a4a8a31b9af31a5f99": {
      "model_module": "@jupyter-widgets/output",
      "model_module_version": "1.0.0",
      "model_name": "OutputModel",
      "state": {
       "layout": "IPY_MODEL_07f4756098a841c7a4f5e3c38ffdeb95"
      }
     },
     "3413f11e712a46bcb25db0021438bea0": {
      "model_module": "@jupyter-widgets/base",
      "model_module_version": "1.2.0",
      "model_name": "LayoutModel",
      "state": {}
     },
     "350f3b5e7ddf4b6a81da229d07ea55a5": {
      "model_module": "@jupyter-widgets/controls",
      "model_module_version": "1.5.0",
      "model_name": "ButtonModel",
      "state": {
       "icon": "question-circle",
       "layout": "IPY_MODEL_502aa5adf91b4234a6456cfca256b6b0",
       "style": "IPY_MODEL_38b4c949a2424c629bd8157068634564",
       "tooltip": "describes the functionality of elements in the RunApp interface"
      }
     },
     "355979b8b070494c8dd89db1164c252b": {
      "model_module": "@jupyter-widgets/controls",
      "model_module_version": "1.5.0",
      "model_name": "HBoxModel",
      "state": {
       "children": [
        "IPY_MODEL_3c3ad20d4310486592631169ee7185ea",
        "IPY_MODEL_18d20d4a61ee4e8bb8c08c5a1d0b2241"
       ],
       "layout": "IPY_MODEL_8a7519f76c11439d82e16c72f61dc110"
      }
     },
     "35b43305ba874bcba92cf0d154ce9736": {
      "model_module": "@jupyter-widgets/base",
      "model_module_version": "1.2.0",
      "model_name": "LayoutModel",
      "state": {}
     },
     "35be7390e84d49d6a07c3248ac7378fe": {
      "model_module": "@jupyter-widgets/controls",
      "model_module_version": "1.5.0",
      "model_name": "HBoxModel",
      "state": {
       "children": [
        "IPY_MODEL_c1a158e6bca74c17b362b9d11f4c4494",
        "IPY_MODEL_a7a2441e845e47d289c91249a831fd7b"
       ],
       "layout": "IPY_MODEL_5929a55c8019441190a2fb97afa87554"
      }
     },
     "35db05d660eb4dd59ea95e6094ed69cb": {
      "model_module": "@jupyter-widgets/base",
      "model_module_version": "1.2.0",
      "model_name": "LayoutModel",
      "state": {}
     },
     "366755bb415f4bb1909df4660a8ef4b6": {
      "model_module": "@jupyter-widgets/base",
      "model_module_version": "1.2.0",
      "model_name": "LayoutModel",
      "state": {
       "align_items": "stretch",
       "display": "flex",
       "flex_flow": "row",
       "grid_auto_columns": "True",
       "justify_content": "flex-end",
       "width": "90%"
      }
     },
     "36b88df8e1b04b0aa0bbd0d803d5b867": {
      "model_module": "@jupyter-widgets/base",
      "model_module_version": "1.2.0",
      "model_name": "LayoutModel",
      "state": {}
     },
     "37142b5fe131481488b053b3343c2c4a": {
      "model_module": "@jupyter-widgets/base",
      "model_module_version": "1.2.0",
      "model_name": "LayoutModel",
      "state": {
       "align_items": "stretch",
       "display": "flex",
       "flex_flow": "row",
       "grid_auto_columns": "True",
       "justify_content": "flex-start",
       "width": "80%"
      }
     },
     "371e58fec1124303ac536a11f5a78944": {
      "model_module": "@jupyter-widgets/controls",
      "model_module_version": "1.5.0",
      "model_name": "CheckboxModel",
      "state": {
       "disabled": false,
       "indent": false,
       "layout": "IPY_MODEL_6336b80e743b4f84a9af3b7858258d89",
       "style": "IPY_MODEL_651b5fcedd9c4027b60916f37b13a388",
       "value": false
      }
     },
     "378916c819b54c1ab1fb2a5fe120a831": {
      "model_module": "@jupyter-widgets/base",
      "model_module_version": "1.2.0",
      "model_name": "LayoutModel",
      "state": {}
     },
     "3855c031f3804265b80c6eab607d66b0": {
      "model_module": "@jupyter-widgets/base",
      "model_module_version": "1.2.0",
      "model_name": "LayoutModel",
      "state": {}
     },
     "388a3cd1f40e40318f82e1897258577b": {
      "model_module": "@jupyter-widgets/base",
      "model_module_version": "1.2.0",
      "model_name": "LayoutModel",
      "state": {
       "height": "30px",
       "width": "auto"
      }
     },
     "38b4c949a2424c629bd8157068634564": {
      "model_module": "@jupyter-widgets/controls",
      "model_module_version": "1.5.0",
      "model_name": "ButtonStyleModel",
      "state": {
       "font_weight": "bold"
      }
     },
     "38b4f8891ed44ac99a7bf41038ac10fd": {
      "model_module": "@jupyter-widgets/base",
      "model_module_version": "1.2.0",
      "model_name": "LayoutModel",
      "state": {
       "align_items": "stretch",
       "border": "dashed 0.2px green",
       "display": "flex",
       "flex_flow": "row",
       "grid_auto_columns": "True",
       "justify_content": "flex-start",
       "width": "100%"
      }
     },
     "38e94c1ad73948e1913b8748dbffe355": {
      "model_module": "@jupyter-widgets/output",
      "model_module_version": "1.0.0",
      "model_name": "OutputModel",
      "state": {
       "layout": "IPY_MODEL_b4605f2354804e46b843dd4b6c44b327"
      }
     },
     "38fc3f11a0124345a639c5c29d735ac7": {
      "model_module": "@jupyter-widgets/controls",
      "model_module_version": "1.5.0",
      "model_name": "DescriptionStyleModel",
      "state": {
       "description_width": ""
      }
     },
     "395e30bd0dcf483e9ab0e9e33b29301b": {
      "model_module": "@jupyter-widgets/controls",
      "model_module_version": "1.5.0",
      "model_name": "DescriptionStyleModel",
      "state": {
       "description_width": ""
      }
     },
     "3a10f6d169e54d59bfc690808b08be54": {
      "model_module": "@jupyter-widgets/base",
      "model_module_version": "1.2.0",
      "model_name": "LayoutModel",
      "state": {}
     },
     "3a1d5bb43db543c08ea11e2dab4b7e79": {
      "model_module": "@jupyter-widgets/base",
      "model_module_version": "1.2.0",
      "model_name": "LayoutModel",
      "state": {
       "align_items": "stretch",
       "display": "flex",
       "flex_flow": "row",
       "grid_auto_columns": "True",
       "justify_content": "flex-end",
       "width": "90%"
      }
     },
     "3aeabdea3e9a460694cab0fb7d0fa724": {
      "model_module": "@jupyter-widgets/controls",
      "model_module_version": "1.5.0",
      "model_name": "DescriptionStyleModel",
      "state": {
       "description_width": ""
      }
     },
     "3afff0557a944038aa69a5de91760e47": {
      "model_module": "@jupyter-widgets/base",
      "model_module_version": "1.2.0",
      "model_name": "LayoutModel",
      "state": {}
     },
     "3b1c4b49f6e64345bf51a4fd4d882f9c": {
      "model_module": "@jupyter-widgets/base",
      "model_module_version": "1.2.0",
      "model_name": "LayoutModel",
      "state": {}
     },
     "3b7cf5bb3adb4492a98f52cb952847b3": {
      "model_module": "@jupyter-widgets/controls",
      "model_module_version": "1.5.0",
      "model_name": "DescriptionStyleModel",
      "state": {
       "description_width": ""
      }
     },
     "3b96987c3b8c4bbd850cf04d23ee73cb": {
      "model_module": "@jupyter-widgets/base",
      "model_module_version": "1.2.0",
      "model_name": "LayoutModel",
      "state": {}
     },
     "3bde31196f77444cb80d465277bf0e79": {
      "model_module": "@jupyter-widgets/controls",
      "model_module_version": "1.5.0",
      "model_name": "SliderStyleModel",
      "state": {
       "description_width": ""
      }
     },
     "3bea9d9e592748d2adc7d08a414c546e": {
      "model_module": "@jupyter-widgets/base",
      "model_module_version": "1.2.0",
      "model_name": "LayoutModel",
      "state": {
       "display": "flex",
       "flex_flow": "row",
       "grid_auto_columns": "False",
       "justify_content": "flex-start",
       "width": "100%"
      }
     },
     "3c3ad20d4310486592631169ee7185ea": {
      "model_module": "@jupyter-widgets/controls",
      "model_module_version": "1.5.0",
      "model_name": "FloatTextModel",
      "state": {
       "layout": "IPY_MODEL_6060d92999164982a3b904061e527bbb",
       "step": null,
       "style": "IPY_MODEL_331d946308e24c22a0a1f4cc229e1ec2",
       "value": 257
      }
     },
     "3c522661c0064812959095d60461fead": {
      "model_module": "@jupyter-widgets/controls",
      "model_module_version": "1.5.0",
      "model_name": "ButtonModel",
      "state": {
       "button_style": "info",
       "description": "show guide",
       "layout": "IPY_MODEL_c940ffc9c3484f89b5ca1eda7131a342",
       "style": "IPY_MODEL_25d9e1bac31e4dad92d4c55c4b9e1e35",
       "tooltip": "read the \"docstring\", ie. the documentation that was written to accompany the script"
      }
     },
     "3c9085ded6b74aca983deab235a2a2b3": {
      "model_module": "@jupyter-widgets/base",
      "model_module_version": "1.2.0",
      "model_name": "LayoutModel",
      "state": {}
     },
     "3cbe12438e45408cb00632cb5e267d93": {
      "model_module": "@jupyter-widgets/base",
      "model_module_version": "1.2.0",
      "model_name": "LayoutModel",
      "state": {
       "align_items": "stretch",
       "border": "dashed 0.2px green",
       "display": "flex",
       "flex_flow": "row",
       "grid_auto_columns": "True",
       "justify_content": "flex-start",
       "width": "100%"
      }
     },
     "3d0557ae89cb43e8bc441b3b9168c1fa": {
      "model_module": "@jupyter-widgets/controls",
      "model_module_version": "1.5.0",
      "model_name": "ButtonStyleModel",
      "state": {
       "font_weight": "bold"
      }
     },
     "3d4c8a233e5a4d21a0cdba4883c058d8": {
      "model_module": "@jupyter-widgets/controls",
      "model_module_version": "1.5.0",
      "model_name": "ButtonModel",
      "state": {
       "button_style": "success",
       "description": "save changes",
       "layout": "IPY_MODEL_41071adba9594bbcb1614d3dac287de2",
       "style": "IPY_MODEL_b77ad342d090423c93d6cce98d785682"
      }
     },
     "3d540ce564bc45cb84f32bc7ca90a18b": {
      "model_module": "@jupyter-widgets/controls",
      "model_module_version": "1.5.0",
      "model_name": "ButtonStyleModel",
      "state": {
       "font_weight": "bold"
      }
     },
     "3d8a6a36186b4418960d36ab20dbfb9e": {
      "model_module": "@jupyter-widgets/base",
      "model_module_version": "1.2.0",
      "model_name": "LayoutModel",
      "state": {
       "align_items": "stretch",
       "border": "dashed 0.2px green",
       "display": "flex",
       "flex_flow": "row",
       "grid_auto_columns": "True",
       "justify_content": "flex-start",
       "width": "100%"
      }
     },
     "3d9d775b805e46a7a6177d57fae2a3a1": {
      "model_module": "@jupyter-widgets/controls",
      "model_module_version": "1.5.0",
      "model_name": "ButtonModel",
      "state": {
       "button_style": "info",
       "description": "show guide",
       "layout": "IPY_MODEL_9e40b7d53ca44258acb272fb68737a5d",
       "style": "IPY_MODEL_d2de3da58a564990bbd1d40571e3a3d2",
       "tooltip": "read the \"docstring\", ie. the documentation that was written to accompany the script"
      }
     },
     "3e6e687784ec4b72b5a9acfcebb47381": {
      "model_module": "@jupyter-widgets/controls",
      "model_module_version": "1.5.0",
      "model_name": "HBoxModel",
      "state": {
       "children": [
        "IPY_MODEL_0813e1145eb34c29aff2dae461a7c567"
       ],
       "layout": "IPY_MODEL_41cf4e88d7e04e33b8ed0ab7dfe8fb32"
      }
     },
     "3ee8cb902eff421ba5edc8b7a32a1e32": {
      "model_module": "@jupyter-widgets/base",
      "model_module_version": "1.2.0",
      "model_name": "LayoutModel",
      "state": {}
     },
     "3f4302a95a6f4bc7be9721358cb96f2e": {
      "model_module": "@jupyter-widgets/base",
      "model_module_version": "1.2.0",
      "model_name": "LayoutModel",
      "state": {
       "height": "30px",
       "width": "auto"
      }
     },
     "3f5ed199376943e295ea7c4e091c59a1": {
      "model_module": "@jupyter-widgets/base",
      "model_module_version": "1.2.0",
      "model_name": "LayoutModel",
      "state": {
       "height": "30px",
       "width": "auto"
      }
     },
     "3fa0fae69be7489b87caa58fd9a1d924": {
      "model_module": "@jupyter-widgets/controls",
      "model_module_version": "1.5.0",
      "model_name": "HTMLModel",
      "state": {
       "layout": "IPY_MODEL_0f6203b3adcc42309baf620e5c594bb9",
       "style": "IPY_MODEL_b0eb9662b3c4420f922e3458799b7af9",
       "value": "<p>sensitivity factor</p>"
      }
     },
     "3feaf5f8cd95438e8dd5b0ec665cfb3d": {
      "model_module": "@jupyter-widgets/controls",
      "model_module_version": "1.5.0",
      "model_name": "DescriptionStyleModel",
      "state": {
       "description_width": ""
      }
     },
     "4042b144e538453093884ae73548192e": {
      "model_module": "@jupyter-widgets/base",
      "model_module_version": "1.2.0",
      "model_name": "LayoutModel",
      "state": {
       "align_items": "stretch",
       "border": "dashed 0.2px green",
       "display": "flex",
       "flex_flow": "row",
       "grid_auto_columns": "True",
       "justify_content": "flex-start",
       "width": "100%"
      }
     },
     "4078e5cc3d6348339c86405dcc7d6960": {
      "model_module": "@jupyter-widgets/controls",
      "model_module_version": "1.5.0",
      "model_name": "DescriptionStyleModel",
      "state": {
       "description_width": ""
      }
     },
     "40e69b1f435a45acb027aa3b96be1b8d": {
      "model_module": "@jupyter-widgets/controls",
      "model_module_version": "1.5.0",
      "model_name": "HBoxModel",
      "state": {
       "children": [
        "IPY_MODEL_5944d22ea6274cbd8eb89fd1d08b3e21",
        "IPY_MODEL_7e42d53df6dc438c997ee5f724ebc231"
       ],
       "layout": "IPY_MODEL_92fde1422ccb4849ad8b37ebd21430c5"
      }
     },
     "41071adba9594bbcb1614d3dac287de2": {
      "model_module": "@jupyter-widgets/base",
      "model_module_version": "1.2.0",
      "model_name": "LayoutModel",
      "state": {}
     },
     "413d03c65b9f45dfaac395a2e05a3e3d": {
      "model_module": "@jupyter-widgets/base",
      "model_module_version": "1.2.0",
      "model_name": "LayoutModel",
      "state": {
       "align_items": "stretch",
       "display": "flex",
       "flex_flow": "row",
       "grid_auto_columns": "True",
       "justify_content": "flex-start",
       "width": "80%"
      }
     },
     "416e00152665484a88a3bc2f526f403f": {
      "model_module": "@jupyter-widgets/base",
      "model_module_version": "1.2.0",
      "model_name": "LayoutModel",
      "state": {}
     },
     "4189b35869a946bcb02013e7f69b7b00": {
      "model_module": "@jupyter-widgets/base",
      "model_module_version": "1.2.0",
      "model_name": "LayoutModel",
      "state": {}
     },
     "41afed7e4ed64e41b237b28b2e7a3e57": {
      "model_module": "@jupyter-widgets/controls",
      "model_module_version": "1.5.0",
      "model_name": "ButtonModel",
      "state": {
       "button_style": "info",
       "description": "show source code",
       "layout": "IPY_MODEL_8a33564dc9344cf8986219a9faefe612",
       "style": "IPY_MODEL_228a582be0f14c8dbfb888c338587c76",
       "tooltip": "shows the raw python code in the preview window below"
      }
     },
     "41b735099929413cba25534fdbcf9047": {
      "model_module": "@jupyter-widgets/controls",
      "model_module_version": "1.5.0",
      "model_name": "ButtonModel",
      "state": {
       "button_style": "warning",
       "description": "edit inputs",
       "layout": "IPY_MODEL_f7d2853dd24d402ca8045b2e60e34edd",
       "style": "IPY_MODEL_5a327e548edc454cbdbba124b8dd74f5",
       "tooltip": "edit the user input information that is used when the script is executed"
      }
     },
     "41cf4e88d7e04e33b8ed0ab7dfe8fb32": {
      "model_module": "@jupyter-widgets/base",
      "model_module_version": "1.2.0",
      "model_name": "LayoutModel",
      "state": {
       "align_items": "stretch",
       "border": "dashed 0.2px green",
       "display": "flex",
       "flex_flow": "row",
       "grid_auto_columns": "True",
       "justify_content": "flex-start",
       "width": "100%"
      }
     },
     "41dd6b5ef85a4dd3b87bcfa8dd17f0f5": {
      "model_module": "@jupyter-widgets/controls",
      "model_module_version": "1.5.0",
      "model_name": "HTMLModel",
      "state": {
       "layout": "IPY_MODEL_f14025b138844852bbd8b8900c65af47",
       "style": "IPY_MODEL_b56895f6bb094451b57079a7a144408d",
       "value": "<p>margin_1_bar</p>"
      }
     },
     "4231a7d03fbc4db7a4fa23e16d66d338": {
      "model_module": "@jupyter-widgets/controls",
      "model_module_version": "1.5.0",
      "model_name": "DescriptionStyleModel",
      "state": {
       "description_width": ""
      }
     },
     "4260a7865f134fa0b6c49a9e117174da": {
      "model_module": "@jupyter-widgets/controls",
      "model_module_version": "1.5.0",
      "model_name": "HBoxModel",
      "state": {
       "children": [
        "IPY_MODEL_7c36862a09794c86906cb9dde2198322"
       ],
       "layout": "IPY_MODEL_79c08c3d1ea447398d84dc0ad5bcfc16"
      }
     },
     "42ea85aacf734769a4fecdff88b4a67c": {
      "model_module": "@jupyter-widgets/base",
      "model_module_version": "1.2.0",
      "model_name": "LayoutModel",
      "state": {
       "align_items": "stretch",
       "width": "100%"
      }
     },
     "43ea4eaef65c49ad8361ed3f22773008": {
      "model_module": "@jupyter-widgets/base",
      "model_module_version": "1.2.0",
      "model_name": "LayoutModel",
      "state": {
       "width": "5%"
      }
     },
     "4463b36f2ef24cc980357d628381b8c3": {
      "model_module": "@jupyter-widgets/base",
      "model_module_version": "1.2.0",
      "model_name": "LayoutModel",
      "state": {}
     },
     "448a6b13ceaa4f11a111c57fd4055b38": {
      "model_module": "@jupyter-widgets/base",
      "model_module_version": "1.2.0",
      "model_name": "LayoutModel",
      "state": {
       "align_items": "stretch",
       "display": "flex",
       "flex_flow": "row",
       "grid_auto_columns": "True",
       "justify_content": "flex-end",
       "width": "90%"
      }
     },
     "44a09a4fa5574e1c9c9b0d58381754b3": {
      "model_module": "@jupyter-widgets/base",
      "model_module_version": "1.2.0",
      "model_name": "LayoutModel",
      "state": {}
     },
     "455a7b45eade466486b2900638de47d3": {
      "model_module": "@jupyter-widgets/base",
      "model_module_version": "1.2.0",
      "model_name": "LayoutModel",
      "state": {
       "height": "30px",
       "width": "auto"
      }
     },
     "4572c3f96d66470a990121359f48ab71": {
      "model_module": "@jupyter-widgets/controls",
      "model_module_version": "1.5.0",
      "model_name": "ButtonModel",
      "state": {
       "button_style": "success",
       "description": "run",
       "layout": "IPY_MODEL_36b88df8e1b04b0aa0bbd0d803d5b867",
       "style": "IPY_MODEL_d93670f20ddb4c2096332c0a7eff37a4",
       "tooltip": "execute the script based on the user inputs"
      }
     },
     "4718ad63bd9d4c63bb256a92f4d2b6dd": {
      "model_module": "@jupyter-widgets/controls",
      "model_module_version": "1.5.0",
      "model_name": "AccordionModel",
      "state": {
       "_titles": {
        "0": "expansion_vessel_sizing_2"
       },
       "children": [
        "IPY_MODEL_d0588a21ba0d416ead0351f3609e05db"
       ],
       "layout": "IPY_MODEL_13288f0577204ba484974aa5aa9d9b5f",
       "selected_index": null
      }
     },
     "478146cb6d0244789889a96573279425": {
      "model_module": "@jupyter-widgets/controls",
      "model_module_version": "1.5.0",
      "model_name": "HBoxModel",
      "state": {
       "children": [
        "IPY_MODEL_afaa5c77103b4fe79d1da17a181dc26c",
        "IPY_MODEL_557ce013881a45a79cc66f42c39b80a4"
       ],
       "layout": "IPY_MODEL_01a87148ffea4d9d8925f4e68c2d99fe"
      }
     },
     "4876d3926ba5499fad415f55db60a9f1": {
      "model_module": "@jupyter-widgets/controls",
      "model_module_version": "1.5.0",
      "model_name": "FloatTextModel",
      "state": {
       "layout": "IPY_MODEL_fa54fbdd038048aaaf6fd9422fcb6030",
       "step": null,
       "style": "IPY_MODEL_21dcdde0003d452da762d752a4c65e4b",
       "value": 48
      }
     },
     "48e9fc3ae2354cb3ac5412d66ad9a843": {
      "model_module": "@jupyter-widgets/base",
      "model_module_version": "1.2.0",
      "model_name": "LayoutModel",
      "state": {}
     },
     "499457462ca04a099fa3fdf9b43408bf": {
      "model_module": "@jupyter-widgets/output",
      "model_module_version": "1.0.0",
      "model_name": "OutputModel",
      "state": {
       "layout": "IPY_MODEL_6fd981731f7b43cb905e545a8b71aba0"
      }
     },
     "499780a8cdcd41e3a566693a64c67f03": {
      "model_module": "@jupyter-widgets/controls",
      "model_module_version": "1.5.0",
      "model_name": "ButtonModel",
      "state": {
       "button_style": "info",
       "description": "preview outputs",
       "layout": "IPY_MODEL_17bff3b4f66e4fc5a326b3ac01ab95e7",
       "style": "IPY_MODEL_971c3aa10b004ba9ac6fb58e558626bb",
       "tooltip": "show a preview of the output files generated when the script runs"
      }
     },
     "4a387d649040426fa0f3b864474466ca": {
      "model_module": "@jupyter-widgets/controls",
      "model_module_version": "1.5.0",
      "model_name": "HBoxModel",
      "state": {
       "children": [
        "IPY_MODEL_b3f9f8ae3557409081a0fc7b58c22041"
       ],
       "layout": "IPY_MODEL_6a17f7765bf5461799679e6b1d2e3f5b"
      }
     },
     "4ac5513c0a1846c3b7795127a642929c": {
      "model_module": "@jupyter-widgets/base",
      "model_module_version": "1.2.0",
      "model_name": "LayoutModel",
      "state": {}
     },
     "4ae46bf014d2488682192eb920b2e02a": {
      "model_module": "@jupyter-widgets/controls",
      "model_module_version": "1.5.0",
      "model_name": "BoxModel",
      "state": {
       "children": [
        "IPY_MODEL_bf1ddc00ea9d43268f2d8ea4721fa5e4"
       ],
       "layout": "IPY_MODEL_a5a3572f95884de4ae950557ee48205f"
      }
     },
     "4b15b9945d694a9abe5f49e9a0e78249": {
      "model_module": "@jupyter-widgets/base",
      "model_module_version": "1.2.0",
      "model_name": "LayoutModel",
      "state": {}
     },
     "4c0e7d4da0a84c26b6687b212363ee4b": {
      "model_module": "@jupyter-widgets/controls",
      "model_module_version": "1.5.0",
      "model_name": "ButtonStyleModel",
      "state": {
       "font_weight": "bold"
      }
     },
     "4cbd52f571a54f689e4e6292e68fdb1f": {
      "model_module": "@jupyter-widgets/base",
      "model_module_version": "1.2.0",
      "model_name": "LayoutModel",
      "state": {}
     },
     "4cc7836ced394a8aa6229ef6f904bcf9": {
      "model_module": "@jupyter-widgets/controls",
      "model_module_version": "1.5.0",
      "model_name": "HBoxModel",
      "state": {
       "children": [
        "IPY_MODEL_0d1040bc52584921a8361281327d7d52"
       ],
       "layout": "IPY_MODEL_bd14aff7f2ab448b8b818e74fc7e3924"
      }
     },
     "4ce01ec274ed4c6ab3c505fc645ea53e": {
      "model_module": "@jupyter-widgets/base",
      "model_module_version": "1.2.0",
      "model_name": "LayoutModel",
      "state": {
       "align_items": "stretch",
       "display": "flex",
       "flex_flow": "row",
       "grid_auto_columns": "True",
       "justify_content": "flex-start",
       "width": "80%"
      }
     },
     "4d3d62816ba74eea9175783bab7bfd1c": {
      "buffers": [
       {
        "data": "H4sIAAAAAAACA72UTW7DIBCFrxKxtiPA8R/bdpNNL2AsiybEIbUBGXDTRrl7x3a7rFRVchYPDY8RMx8Ibqgd1BGxGzoKLxCrKiSvVminjG5G6ZzsGqc+lW5RhC7bNmjnjZYwoZjiGGcxoRuSs4SwNEWRDl23DOiJcS51+yxHzlvlm/7EubIfQ9DgX0VvO+k418bLV2PeIBTWTj1AlrbBT8ZwOKtRcj6VwhmhDckTEl/aeMmIf+l0e3FGozr6F0rBgAbT9VEKkq+PUrBd+giUYn2Uku0ecivlyiglw5iRB9xKifGaKOmGUkYIo/nKKGlDKVn12WcbghnFLMEro2QNmWr+FaWOkNJHeW0G8+6mP1qLXkJQof1kAysaRRdmq8JATkAUlIB2oBSU1fX9Z5+D6UKv53RkB3OAmi+w5XxowclhDgBBevXtnszQi27vXFjmXrRuWbD+vJ8hoM/7/QufiO31SAYAAA==",
        "encoding": "base64",
        "path": [
         "_grid_data_up"
        ]
       }
      ],
      "model_module": "ipyaggrid",
      "model_module_version": "~0.2.1",
      "model_name": "AgGridModel",
      "state": {
       "_grid_data_down": [
        {
         "datetime": "2020-06-12 17:31:55",
         "formalIssue": null,
         "fpthInputs": "C:\\engDev\\git_mf\\ipyrun\\examples\\notebooks\\appdata\\inputs\\archive\\20200612_1731-jg-inputs-expansion_vessel_sizing.json",
         "processName": "expansion_vessel_sizing",
         "tags": null,
         "user": "j.gunstone"
        },
        {
         "datetime": "2020-06-12 18:17:02",
         "formalIssue": null,
         "fpthInputs": "C:\\engDev\\git_mf\\ipyrun\\examples\\notebooks\\appdata\\inputs\\archive\\20200612_1817-jg-inputs-expansion_vessel_sizing.json",
         "processName": "expansion_vessel_sizing",
         "tags": null,
         "user": "j.gunstone"
        },
        {
         "datetime": "2020-06-12 18:18:45",
         "formalIssue": null,
         "fpthInputs": "C:\\engDev\\git_mf\\ipyrun\\examples\\notebooks\\appdata\\inputs\\archive\\20200612_1818-jg-inputs-expansion_vessel_sizing.json",
         "processName": "expansion_vessel_sizing",
         "tags": null,
         "user": "j.gunstone"
        },
        {
         "datetime": "2020-06-12 18:19:42",
         "formalIssue": null,
         "fpthInputs": "C:\\engDev\\git_mf\\ipyrun\\examples\\notebooks\\appdata\\inputs\\archive\\20200612_1819-jg-inputs-expansion_vessel_sizing.json",
         "processName": "expansion_vessel_sizing",
         "tags": null,
         "user": "j.gunstone"
        },
        {
         "datetime": "2020-06-12 19:00:15",
         "formalIssue": null,
         "fpthInputs": "C:\\engDev\\git_mf\\ipyrun\\examples\\notebooks\\appdata\\inputs\\archive\\20200612_1900-jg-inputs-expansion_vessel_sizing.json",
         "processName": "expansion_vessel_sizing",
         "tags": null,
         "user": "j.gunstone"
        },
        {
         "datetime": "2020-06-15 22:11:27",
         "formalIssue": null,
         "fpthInputs": "C:\\engDev\\git_mf\\ipyrun\\examples\\notebooks\\appdata\\inputs\\archive\\20200615_2211-jg-inputs-expansion_vessel_sizing.json",
         "processName": "expansion_vessel_sizing",
         "tags": null,
         "user": "j.gunstone"
        },
        {
         "datetime": "2020-06-16 10:20:30",
         "formalIssue": null,
         "fpthInputs": "C:\\engDev\\git_mf\\ipyrun\\examples\\notebooks\\appdata\\inputs\\archive\\20200616_1020-jg-inputs-expansion_vessel_sizing.json",
         "processName": "expansion_vessel_sizing",
         "tags": null,
         "user": "j.gunstone"
        }
       ],
       "_grid_options_mono_down": "{\"enableSorting\": true, \"enableFilter\": true, \"enableColResize\": true, \"enableRangeSelection\": true, \"columnDefs\": [{\"field\": \"processName\", \"type\": \"textColumn\", \"headerName\": \"Processname\"}, {\"field\": \"user\", \"type\": \"textColumn\", \"headerName\": \"User\"}, {\"field\": \"datetime\", \"type\": \"textColumn\", \"headerName\": \"Datetime\"}, {\"field\": \"formalIssue\", \"type\": \"numberColumn\", \"headerName\": \"Formalissue\"}, {\"field\": \"tags\", \"type\": \"numberColumn\", \"headerName\": \"Tags\"}, {\"field\": \"fpthInputs\", \"type\": \"textColumn\", \"headerName\": \"Fpthinputs\"}], \"columnTypes\": {\"numberColumn\": {\"filter\": \"agNumberColumnFilter\"}, \"textColumn\": {\"filter\": \"agTextColumnFilter\"}, \"dateColumn\": {\"valueFormatter\": \"helpers.dateFormatter\", \"filter\": \"agDateColumnFilter\", \"filterParams\": {\"comparator\": \"helpers.compareDates\"}}}}",
       "_id": 246624997,
       "_js_helpers_builtin": "helpersBuiltin = {\n    dateFormatter: function(node) {\n        // make sure date is not undefined\n        if (node && node.value) {\n            let d = new Date(node.value);\n            let h = d.getHours();\n            let m = d.getMinutes();\n            let s = d.getSeconds();\n            const offset = d.getTimezoneOffset() * 60000;\n            d = new Date(d.getTime() - offset);\n            const ymd = d.toISOString().substring(0, 10);\n            if (h === 0 && m === 0 && s === 0) {\n                return ymd;\n            }\n            if (h === 0) h = '00';\n            if (m === 0) m = '00';\n            if (s === 0) s = '00';\n            return `${ymd} ${h}:${m}:${s}`;\n        }\n        return null;\n    },\n\n    formatInt: d3.format(',.0f'),\n    formatFloat: d3.format(',.2f'),\n\n    intFormatter: function(node) {\n        return formatInt(node.value);\n    },\n\n    floatFormatter: function(node) {\n        return formatFloat(node.value);\n    },\n\n    compareDates: function(filterLocalDate, cellValue) {\n        // Assume dates are stored as iso\n        const cellDate = new Date(cellValue);\n\n        if (cellDate < filterLocalDate) {\n            return -1;\n        } else if (cellDate > filterLocalDate) {\n            return 1;\n        }\n        return 0;\n    },\n\n    sizeToFit: function(gridOptions) {\n        gridOptions.api.sizeColumnsToFit();\n    },\n\n    autoSizeAll: function(gridOptions) {\n        const allColumnIds = [];\n        gridOptions.columnApi.getAllColumns().forEach(column => {\n            allColumnIds.push(column.colId);\n        });\n        gridOptions.columnApi.autoSizeColumns(allColumnIds);\n    },\n\n    /**\n     * Exporting data to CSV using ag-Grid api.\n     * @param {Object} gridOptions\n     */\n    exportToCsv: function(gridOptions) {\n        const params = {\n            skipHeader: false,\n            columnGroups: true,\n            skipFooters: false,\n            skipGroups: false,\n            skipPinnedTop: false,\n            skipPinnedBottom: false,\n            allColumns: true,\n            onlySelected: false,\n            suppressQuotes: true,\n            fileName: 'my_file.csv',\n            sheetName: 'my_sheet',\n            shouldRowBeSkipped: () => false,\n            processCellCallback: param => param.value,\n            processHeaderCallback: null,\n        };\n        gridOptions.api.exportDataAsCsv(params);\n    },\n\n    /**\n     * Exporting data to Excel using ag-Grid api.\n     * @param {Object} gridOptions\n     */\n    exportToExcel: function(gridOptions) {\n        const params = {\n            skipHeader: false,\n            columnGroups: true,\n            skipFooters: false,\n            skipGroups: false,\n            skipPinnedTop: false,\n            skipPinnedBottom: false,\n            allColumns: true,\n            onlySelected: false,\n            suppressQuotes: true,\n            fileName: 'my_file.xls',\n            sheetName: 'my_sheet',\n            shouldRowBeSkipped: () => false, // TODO : check\n            processCellCallback: param => param.value,\n            processHeaderCallback: null,\n        };\n        gridOptions.api.exportDataAsExcel(params);\n    },\n};\n",
       "columns_fit": "size_to_fit",
       "compress_data": true,
       "export_mode": "disabled",
       "height": "350px",
       "js_helpers": "{\"dateFormatter\":\"function(node) {\\n        // make sure date is not undefined\\n        if (node && node.value) {\\n            let d = new Date(node.value);\\n            let h = d.getHours();\\n            let m = d.getMinutes();\\n            let s = d.getSeconds();\\n            const offset = d.getTimezoneOffset() * 60000;\\n            d = new Date(d.getTime() - offset);\\n            const ymd = d.toISOString().substring(0, 10);\\n            if (h === 0 && m === 0 && s === 0) {\\n                return ymd;\\n            }\\n            if (h === 0) h = '00';\\n            if (m === 0) m = '00';\\n            if (s === 0) s = '00';\\n            return `${ymd} ${h}:${m}:${s}`;\\n        }\\n        return null;\\n    }\",\"formatInt\":\" >-,.0f\",\"formatFloat\":\" >-,.2f\",\"intFormatter\":\"function(node) {\\n        return formatInt(node.value);\\n    }\",\"floatFormatter\":\"function(node) {\\n        return formatFloat(node.value);\\n    }\",\"compareDates\":\"function(filterLocalDate, cellValue) {\\n        // Assume dates are stored as iso\\n        const cellDate = new Date(cellValue);\\n\\n        if (cellDate < filterLocalDate) {\\n            return -1;\\n        } else if (cellDate > filterLocalDate) {\\n            return 1;\\n        }\\n        return 0;\\n    }\",\"sizeToFit\":\"function(gridOptions) {\\n        gridOptions.api.sizeColumnsToFit();\\n    }\",\"autoSizeAll\":\"function(gridOptions) {\\n        const allColumnIds = [];\\n        gridOptions.columnApi.getAllColumns().forEach(column => {\\n            allColumnIds.push(column.colId);\\n        });\\n        gridOptions.columnApi.autoSizeColumns(allColumnIds);\\n    }\",\"exportToCsv\":\"function(gridOptions) {\\n        const params = {\\n            skipHeader: false,\\n            columnGroups: true,\\n            skipFooters: false,\\n            skipGroups: false,\\n            skipPinnedTop: false,\\n            skipPinnedBottom: false,\\n            allColumns: true,\\n            onlySelected: false,\\n            suppressQuotes: true,\\n            fileName: 'my_file.csv',\\n            sheetName: 'my_sheet',\\n            shouldRowBeSkipped: () => false,\\n            processCellCallback: param => param.value,\\n            processHeaderCallback: null,\\n        };\\n        gridOptions.api.exportDataAsCsv(params);\\n    }\",\"exportToExcel\":\"function(gridOptions) {\\n        const params = {\\n            skipHeader: false,\\n            columnGroups: true,\\n            skipFooters: false,\\n            skipGroups: false,\\n            skipPinnedTop: false,\\n            skipPinnedBottom: false,\\n            allColumns: true,\\n            onlySelected: false,\\n            suppressQuotes: true,\\n            fileName: 'my_file.xls',\\n            sheetName: 'my_sheet',\\n            shouldRowBeSkipped: () => false, // TODO : check\\n            processCellCallback: param => param.value,\\n            processHeaderCallback: null,\\n        };\\n        gridOptions.api.exportDataAsExcel(params);\\n    }\"}",
       "layout": "IPY_MODEL_338d4870ff3a41dcb0013bba9e330b86",
       "menu": {
        "button_div_css": ".flex-button-div-246624997 {\ndisplay: flex;\njustify-content: flex-start;\nalign-items: flex-start;\nalign-content: flex-start;\nflex-flow: row wrap;\n}\n",
        "buttons": [],
        "input_div_css": ".flex-input-div-246624997 {\ndisplay: flex;\njustify-content: flex-start;\nalign-items: baseline;\nalign-content: flex-start;\nflex-flow: row wrap;\n}\n",
        "inputs": [
         {
          "css": ".flex-child-quick-filter-246624997 {\norder: 0;\nalign-self: auto;\nmargin: 5px;\nflex: 0.00 1.00 auto;\nwidth: 150px;\n}\n",
          "name": "Quick Filter"
         }
        ],
        "menu_div_css": ".flex-menu-div-246624997 {\ndisplay: flex;\njustify-content: flex-start;\nalign-items: flex-start;\nalign-content: flex-start;\nflex-flow: row wrap;\n}\n"
       },
       "theme": "ag-theme-balham",
       "width": "100%"
      }
     },
     "4d8d0a6beaeb4f9eb7016052cae7ca79": {
      "model_module": "@jupyter-widgets/output",
      "model_module_version": "1.0.0",
      "model_name": "OutputModel",
      "state": {
       "layout": "IPY_MODEL_e7cb36c92c984a84a00b922eb84a91b3"
      }
     },
     "4e23b9bf53bc41578d527267aa699aac": {
      "model_module": "@jupyter-widgets/controls",
      "model_module_version": "1.5.0",
      "model_name": "DescriptionStyleModel",
      "state": {
       "description_width": ""
      }
     },
     "4e4ee1e1b0b54180a94a609e2a67e84b": {
      "model_module": "@jupyter-widgets/base",
      "model_module_version": "1.2.0",
      "model_name": "LayoutModel",
      "state": {}
     },
     "4f1826dbb20f44c2923cfc6462854925": {
      "model_module": "@jupyter-widgets/base",
      "model_module_version": "1.2.0",
      "model_name": "LayoutModel",
      "state": {}
     },
     "4fb88b88fe5c4efbbdc135f21016aea4": {
      "model_module": "@jupyter-widgets/controls",
      "model_module_version": "1.5.0",
      "model_name": "VBoxModel",
      "state": {
       "children": [
        "IPY_MODEL_c3464b6bf1a64466a81ba5c61bc452c2",
        "IPY_MODEL_ec0de968610e4e52b5f9c14b730ca460"
       ],
       "layout": "IPY_MODEL_b7083f997b3242018317e42abfa9af8d"
      }
     },
     "4fb90ef60fb1426e96c9e7d18e903427": {
      "model_module": "@jupyter-widgets/base",
      "model_module_version": "1.2.0",
      "model_name": "LayoutModel",
      "state": {
       "align_items": "stretch",
       "display": "flex",
       "flex_flow": "row",
       "grid_auto_columns": "True",
       "justify_content": "flex-start",
       "width": "80%"
      }
     },
     "502aa5adf91b4234a6456cfca256b6b0": {
      "model_module": "@jupyter-widgets/base",
      "model_module_version": "1.2.0",
      "model_name": "LayoutModel",
      "state": {
       "width": "5%"
      }
     },
     "50f3163bb59c4d0aa8f42044c809486a": {
      "model_module": "@jupyter-widgets/base",
      "model_module_version": "1.2.0",
      "model_name": "LayoutModel",
      "state": {}
     },
     "50f5ecc44c7d4400a6db041911a1c6c1": {
      "model_module": "@jupyter-widgets/base",
      "model_module_version": "1.2.0",
      "model_name": "LayoutModel",
      "state": {}
     },
     "521aea6ed576438ba1b6ddb8e1bdd438": {
      "model_module": "@jupyter-widgets/controls",
      "model_module_version": "1.5.0",
      "model_name": "DescriptionStyleModel",
      "state": {
       "description_width": ""
      }
     },
     "5222a0f239344af6acf118bbb097c85f": {
      "model_module": "@jupyter-widgets/controls",
      "model_module_version": "1.5.0",
      "model_name": "DescriptionStyleModel",
      "state": {
       "description_width": ""
      }
     },
     "52425f3305d5469590a8717683b92529": {
      "model_module": "@jupyter-widgets/base",
      "model_module_version": "1.2.0",
      "model_name": "LayoutModel",
      "state": {}
     },
     "52768d54a3d944f98a6755894673e0f2": {
      "model_module": "@jupyter-widgets/base",
      "model_module_version": "1.2.0",
      "model_name": "LayoutModel",
      "state": {
       "height": "30px",
       "width": "auto"
      }
     },
     "5276e414d04c47e6bb04c4ee9251df34": {
      "model_module": "@jupyter-widgets/controls",
      "model_module_version": "1.5.0",
      "model_name": "HTMLModel",
      "state": {
       "layout": "IPY_MODEL_2f35d9afb27e4e6eab1b5d437b57debc",
       "style": "IPY_MODEL_86d0cc6bb8654e9fbcbf8d4e20c9d611",
       "value": "<p>height_difference_m</p>"
      }
     },
     "5399ee7b8f674401b78e6d5d7fd0ba3d": {
      "model_module": "@jupyter-widgets/controls",
      "model_module_version": "1.5.0",
      "model_name": "CheckboxModel",
      "state": {
       "disabled": false,
       "indent": false,
       "layout": "IPY_MODEL_6071d225abcb4e8893d7e6f69beb229f",
       "style": "IPY_MODEL_b7abdee501184a4ab0f47be92d339788",
       "value": false
      }
     },
     "53aa82a38b4d4e8faa6552418669e85f": {
      "model_module": "@jupyter-widgets/base",
      "model_module_version": "1.2.0",
      "model_name": "LayoutModel",
      "state": {}
     },
     "53ac038c12e14206905d10aa9a28e314": {
      "model_module": "@jupyter-widgets/base",
      "model_module_version": "1.2.0",
      "model_name": "LayoutModel",
      "state": {}
     },
     "5471c103a73c4aca93f89764b0daa276": {
      "model_module": "@jupyter-widgets/base",
      "model_module_version": "1.2.0",
      "model_name": "LayoutModel",
      "state": {
       "height": "30px",
       "width": "auto"
      }
     },
     "54bdf79c9a3140259e2f89716919656a": {
      "model_module": "@jupyter-widgets/controls",
      "model_module_version": "1.5.0",
      "model_name": "HBoxModel",
      "state": {
       "children": [
        "IPY_MODEL_68420b713a174b48a8f640c2820a2c8e"
       ],
       "layout": "IPY_MODEL_3cbe12438e45408cb00632cb5e267d93"
      }
     },
     "54c2f389f3dd4d28ad1fa3a77f123c11": {
      "model_module": "@jupyter-widgets/controls",
      "model_module_version": "1.5.0",
      "model_name": "ButtonStyleModel",
      "state": {
       "font_weight": "bold"
      }
     },
     "54c6620a918c410dacbce0a32ecc7cfc": {
      "model_module": "@jupyter-widgets/base",
      "model_module_version": "1.2.0",
      "model_name": "LayoutModel",
      "state": {
       "align_items": "stretch",
       "border": "dashed 0.2px green",
       "display": "flex",
       "flex_flow": "row",
       "grid_auto_columns": "True",
       "justify_content": "flex-start",
       "width": "100%"
      }
     },
     "5506d4c0a0e14773b15e8c885a989b6d": {
      "model_module": "@jupyter-widgets/base",
      "model_module_version": "1.2.0",
      "model_name": "LayoutModel",
      "state": {
       "display": "flex",
       "flex_flow": "row",
       "grid_auto_columns": "False",
       "justify_content": "flex-start",
       "width": "100%"
      }
     },
     "551a85cc3dbd4d94af012dcc600fb16a": {
      "model_module": "@jupyter-widgets/controls",
      "model_module_version": "1.5.0",
      "model_name": "DescriptionStyleModel",
      "state": {
       "description_width": ""
      }
     },
     "5570d24c74ef432db8266fe847495cde": {
      "model_module": "@jupyter-widgets/controls",
      "model_module_version": "1.5.0",
      "model_name": "DescriptionStyleModel",
      "state": {
       "description_width": ""
      }
     },
     "557ce013881a45a79cc66f42c39b80a4": {
      "model_module": "@jupyter-widgets/controls",
      "model_module_version": "1.5.0",
      "model_name": "HBoxModel",
      "state": {
       "children": [
        "IPY_MODEL_7b908d0259304c22ad661f5d3f3f94d8",
        "IPY_MODEL_7b352c5c76ef459caf89c3c211cd50ff"
       ],
       "layout": "IPY_MODEL_eeace573c4f64854b799d1dc6249f9fe"
      }
     },
     "55e6400ccda049e29c8a7bf4606bb11f": {
      "model_module": "@jupyter-widgets/base",
      "model_module_version": "1.2.0",
      "model_name": "LayoutModel",
      "state": {
       "height": "30px",
       "width": "auto"
      }
     },
     "562a252b240d4b0ab0872e84adf177b3": {
      "model_module": "@jupyter-widgets/controls",
      "model_module_version": "1.5.0",
      "model_name": "DescriptionStyleModel",
      "state": {
       "description_width": ""
      }
     },
     "56ad852a331f4b588a4850969e01f799": {
      "model_module": "@jupyter-widgets/controls",
      "model_module_version": "1.5.0",
      "model_name": "HBoxModel",
      "state": {
       "children": [
        "IPY_MODEL_b37390ed83a94a6e82b194d397ca8b03",
        "IPY_MODEL_bd1607c6d1ed4dddb1d7b7c1b1a27bb8",
        "IPY_MODEL_e5864eab14834c56a75236b481ece401"
       ],
       "layout": "IPY_MODEL_766706b38cfb499ab5c3bad8c14ab138"
      }
     },
     "570de58170584ec9a64ed4639739b0c5": {
      "model_module": "@jupyter-widgets/controls",
      "model_module_version": "1.5.0",
      "model_name": "HTMLModel",
      "state": {
       "layout": "IPY_MODEL_dd0672b13dcf45ce9fe5db7ab90f42db",
       "style": "IPY_MODEL_f9c757aa7c264d4fb9a7e3a39328aed4",
       "value": "<p>pipework_pressure_loss_margin_fraction</p>"
      }
     },
     "58d7999f9cf84bb685ced42f120cd935": {
      "model_module": "@jupyter-widgets/controls",
      "model_module_version": "1.5.0",
      "model_name": "HTMLModel",
      "state": {
       "layout": "IPY_MODEL_808a1a4e377d443cb3ff9846c0d08934",
       "style": "IPY_MODEL_2c46aa368f10432096add6fd482a3760",
       "value": "<p>effective pipework pressure loss (Pa/m)</p>"
      }
     },
     "5929a55c8019441190a2fb97afa87554": {
      "model_module": "@jupyter-widgets/base",
      "model_module_version": "1.2.0",
      "model_name": "LayoutModel",
      "state": {
       "align_items": "stretch",
       "display": "flex",
       "flex_flow": "row",
       "grid_auto_columns": "True",
       "justify_content": "flex-end",
       "width": "90%"
      }
     },
     "5937bbdf71c641c9a698985ca8b5f735": {
      "model_module": "@jupyter-widgets/controls",
      "model_module_version": "1.5.0",
      "model_name": "FloatSliderModel",
      "state": {
       "layout": "IPY_MODEL_f427454344c8456ca950b6a6cccfc13a",
       "max": 1,
       "step": 0.1,
       "style": "IPY_MODEL_afb880e17c5c4507ac6425733a02536b",
       "value": 0.3
      }
     },
     "5944d22ea6274cbd8eb89fd1d08b3e21": {
      "model_module": "@jupyter-widgets/controls",
      "model_module_version": "1.5.0",
      "model_name": "FloatTextModel",
      "state": {
       "layout": "IPY_MODEL_91a77c2b81954ccca629fdfc13587fb3",
       "step": null,
       "style": "IPY_MODEL_3feaf5f8cd95438e8dd5b0ec665cfb3d",
       "value": 500
      }
     },
     "596d6328dad34f3fad1c46f754d3b4b8": {
      "model_module": "@jupyter-widgets/controls",
      "model_module_version": "1.5.0",
      "model_name": "ButtonModel",
      "state": {
       "description": "load",
       "icon": "upload",
       "layout": "IPY_MODEL_7afef07d17264b9f93cf9394b00f9749",
       "style": "IPY_MODEL_6b2b0346016447049d641c7df4f5dff7"
      }
     },
     "5a327e548edc454cbdbba124b8dd74f5": {
      "model_module": "@jupyter-widgets/controls",
      "model_module_version": "1.5.0",
      "model_name": "ButtonStyleModel",
      "state": {
       "font_weight": "bold"
      }
     },
     "5a8374019ef247b1bd63eb7f3f2a502f": {
      "model_module": "@jupyter-widgets/base",
      "model_module_version": "1.2.0",
      "model_name": "LayoutModel",
      "state": {}
     },
     "5c1b665967c543469c51009b77675a00": {
      "model_module": "@jupyter-widgets/controls",
      "model_module_version": "1.5.0",
      "model_name": "FloatTextModel",
      "state": {
       "layout": "IPY_MODEL_0649a7a2b29048f794e21b0593dcd730",
       "step": null,
       "style": "IPY_MODEL_6691ea45ae4d4c1abdb25861609a766a",
       "value": 20
      }
     },
     "5d2b9be3bc6a49169b1674e5fde9f0c4": {
      "model_module": "@jupyter-widgets/controls",
      "model_module_version": "1.5.0",
      "model_name": "HBoxModel",
      "state": {
       "children": [
        "IPY_MODEL_e7dfbdcd87254055b33fab65bf0e3266"
       ],
       "layout": "IPY_MODEL_90e06a35e1ce420785b8cf61a3129d83"
      }
     },
     "5d6f1e528332417ab08f5c8375442791": {
      "model_module": "@jupyter-widgets/controls",
      "model_module_version": "1.5.0",
      "model_name": "VBoxModel",
      "state": {
       "children": [
        "IPY_MODEL_0a87d15b8515438081445ddc2ed07a3e",
        "IPY_MODEL_d2e29a00e8e448c897d58014c5f978c9",
        "IPY_MODEL_bf8a1b69fc0c4e65a1a77cb90e196434"
       ],
       "layout": "IPY_MODEL_4463b36f2ef24cc980357d628381b8c3"
      }
     },
     "5d8d7704237940dd9bc98790dd1b2755": {
      "model_module": "@jupyter-widgets/controls",
      "model_module_version": "1.5.0",
      "model_name": "ButtonStyleModel",
      "state": {
       "font_weight": "bold"
      }
     },
     "5ded719980d64b4d9d65f3ce08f14b83": {
      "model_module": "@jupyter-widgets/base",
      "model_module_version": "1.2.0",
      "model_name": "LayoutModel",
      "state": {
       "align_items": "stretch",
       "display": "flex",
       "flex_flow": "row",
       "grid_auto_columns": "True",
       "justify_content": "flex-start",
       "width": "80%"
      }
     },
     "5e5cf189d6a5479290a9c159321e7f18": {
      "model_module": "@jupyter-widgets/controls",
      "model_module_version": "1.5.0",
      "model_name": "HTMLModel",
      "state": {
       "layout": "IPY_MODEL_c5b3312084ee490da754a2e14a05cdf4",
       "style": "IPY_MODEL_c86266c849164373aa8bb85ec41a762f",
       "value": "<p>difference in height between the highest and lowest points in the system</p>"
      }
     },
     "5ec4e1c87a604fac809e9f05c2d55afa": {
      "model_module": "@jupyter-widgets/base",
      "model_module_version": "1.2.0",
      "model_name": "LayoutModel",
      "state": {}
     },
     "5ef09b8862034f1390be42f5ebf3f524": {
      "model_module": "@jupyter-widgets/controls",
      "model_module_version": "1.5.0",
      "model_name": "DescriptionStyleModel",
      "state": {
       "description_width": ""
      }
     },
     "5f02d987409c4e33bcbda604de97acd6": {
      "model_module": "@jupyter-widgets/controls",
      "model_module_version": "1.5.0",
      "model_name": "HTMLModel",
      "state": {
       "layout": "IPY_MODEL_2028333d11594e2b95c4847f9de4dbe8",
       "style": "IPY_MODEL_ff09ba5d8d714896ab43789a254fac43",
       "value": "<p>water_volume_m3</p>"
      }
     },
     "5f805a7dc4654418b56246f1d3b96cbf": {
      "model_module": "@jupyter-widgets/controls",
      "model_module_version": "1.5.0",
      "model_name": "HBoxModel",
      "state": {
       "children": [
        "IPY_MODEL_5399ee7b8f674401b78e6d5d7fd0ba3d",
        "IPY_MODEL_4718ad63bd9d4c63bb256a92f4d2b6dd"
       ],
       "layout": "IPY_MODEL_bc7bb5d1e4e64f188c389439004bb57b"
      }
     },
     "5fc527792aa94b449d20a167d57710f3": {
      "model_module": "@jupyter-widgets/controls",
      "model_module_version": "1.5.0",
      "model_name": "DescriptionStyleModel",
      "state": {
       "description_width": ""
      }
     },
     "5fde28ff3de04635a97a015ce7420f8e": {
      "model_module": "@jupyter-widgets/controls",
      "model_module_version": "1.5.0",
      "model_name": "SliderStyleModel",
      "state": {
       "description_width": ""
      }
     },
     "602025881e30400fbd4eeff906ece540": {
      "model_module": "@jupyter-widgets/controls",
      "model_module_version": "1.5.0",
      "model_name": "HBoxModel",
      "state": {
       "children": [
        "IPY_MODEL_8656e719b77d4a47b3880e5369ee62ff",
        "IPY_MODEL_cfa9ae96ad8a4002a8c575926a17dfe3"
       ],
       "layout": "IPY_MODEL_da3193eef5394aacaacc9df77f28c000"
      }
     },
     "6060d92999164982a3b904061e527bbb": {
      "model_module": "@jupyter-widgets/base",
      "model_module_version": "1.2.0",
      "model_name": "LayoutModel",
      "state": {}
     },
     "6071d225abcb4e8893d7e6f69beb229f": {
      "model_module": "@jupyter-widgets/base",
      "model_module_version": "1.2.0",
      "model_name": "LayoutModel",
      "state": {
       "height": "30px",
       "max_width": "30px",
       "padding": "3px"
      }
     },
     "60df14d3cac34844a24f2cf64e52f6ad": {
      "model_module": "@jupyter-widgets/controls",
      "model_module_version": "1.5.0",
      "model_name": "HTMLModel",
      "state": {
       "layout": "IPY_MODEL_80bcbae17b114c7fa9eb6a7653e6d73e",
       "style": "IPY_MODEL_38fc3f11a0124345a639c5c29d735ac7",
       "value": "<p>height_difference_m</p>"
      }
     },
     "612383ed78394384b924dd9b25912004": {
      "model_module": "@jupyter-widgets/output",
      "model_module_version": "1.0.0",
      "model_name": "OutputModel",
      "state": {
       "layout": "IPY_MODEL_93d38009d71a45d2a271b32cb00c06d4"
      }
     },
     "61fb3c5ad3e74802b902f063fd1ac4cb": {
      "model_module": "@jupyter-widgets/base",
      "model_module_version": "1.2.0",
      "model_name": "LayoutModel",
      "state": {}
     },
     "622bd2fcff284ef6a350de2badf80c7f": {
      "model_module": "@jupyter-widgets/base",
      "model_module_version": "1.2.0",
      "model_name": "LayoutModel",
      "state": {}
     },
     "62346972be204550bbe08e1475ac52c8": {
      "model_module": "@jupyter-widgets/base",
      "model_module_version": "1.2.0",
      "model_name": "LayoutModel",
      "state": {
       "align_items": "stretch",
       "border": "dashed 0.2px green",
       "display": "flex",
       "flex_flow": "row",
       "grid_auto_columns": "True",
       "justify_content": "flex-start",
       "width": "100%"
      }
     },
     "62491eaca8d940a5abf59c391129f298": {
      "model_module": "@jupyter-widgets/controls",
      "model_module_version": "1.5.0",
      "model_name": "ButtonModel",
      "state": {
       "button_style": "info",
       "description": "show source code",
       "layout": "IPY_MODEL_80984d7cdb3c4e82a1a602b849afaa8a",
       "style": "IPY_MODEL_b4d068cf0ee548f8b51a3831f9718f2b",
       "tooltip": "shows the raw python code in the preview window below"
      }
     },
     "6336b80e743b4f84a9af3b7858258d89": {
      "model_module": "@jupyter-widgets/base",
      "model_module_version": "1.2.0",
      "model_name": "LayoutModel",
      "state": {
       "height": "30px",
       "max_width": "30px",
       "padding": "3px"
      }
     },
     "6366563ae31e4ff59bea752939c398a2": {
      "model_module": "@jupyter-widgets/controls",
      "model_module_version": "1.5.0",
      "model_name": "HBoxModel",
      "state": {
       "children": [
        "IPY_MODEL_e416302f753f4c70a2a50f454f4efdef",
        "IPY_MODEL_f763190672864a2a88942480dc5b71c9",
        "IPY_MODEL_3c522661c0064812959095d60461fead",
        "IPY_MODEL_c9cc7df0944b4615beb5f4f54ec37dd8",
        "IPY_MODEL_6afcd155401d4f04b2eec52535530aca",
        "IPY_MODEL_f9bebb1259b446368d31176f48c42ca2",
        "IPY_MODEL_d33078dbd13a41ec81d84dc3342b6099"
       ],
       "layout": "IPY_MODEL_42ea85aacf734769a4fecdff88b4a67c"
      }
     },
     "63c4608485d64222868ae049ed3f014a": {
      "model_module": "@jupyter-widgets/controls",
      "model_module_version": "1.5.0",
      "model_name": "HTMLModel",
      "state": {
       "layout": "IPY_MODEL_7a35071cf4074006adc93d55714d63a3",
       "style": "IPY_MODEL_149014a4388d459687cd64be8187e9b2",
       "value": "<p>sensitivity factor</p>"
      }
     },
     "63ec74c2530645f8b1a6a9c950091856": {
      "model_module": "@jupyter-widgets/base",
      "model_module_version": "1.2.0",
      "model_name": "LayoutModel",
      "state": {
       "align_items": "stretch",
       "display": "flex",
       "flex_flow": "row",
       "grid_auto_columns": "True",
       "justify_content": "flex-end",
       "width": "90%"
      }
     },
     "6497e2176759472db1c199526379c55a": {
      "model_module": "@jupyter-widgets/controls",
      "model_module_version": "1.5.0",
      "model_name": "FloatTextModel",
      "state": {
       "layout": "IPY_MODEL_1062d960ee984a74b971b61fde82080f",
       "step": null,
       "style": "IPY_MODEL_5fc527792aa94b449d20a167d57710f3",
       "value": 20
      }
     },
     "64fd0e6473244c9e9c418cf61aa30855": {
      "model_module": "@jupyter-widgets/controls",
      "model_module_version": "1.5.0",
      "model_name": "HTMLModel",
      "state": {
       "layout": "IPY_MODEL_7245b02131564827a1c0d19ee340c413",
       "style": "IPY_MODEL_243c1365fef945509e1ac11082deb96b",
       "value": "<p>difference in height between the highest and lowest points in the system</p>"
      }
     },
     "651b5fcedd9c4027b60916f37b13a388": {
      "model_module": "@jupyter-widgets/controls",
      "model_module_version": "1.5.0",
      "model_name": "DescriptionStyleModel",
      "state": {
       "description_width": ""
      }
     },
     "6532e0ca487f4037b9ad29427bf1e14a": {
      "model_module": "@jupyter-widgets/base",
      "model_module_version": "1.2.0",
      "model_name": "LayoutModel",
      "state": {}
     },
     "6668661a62bf4eb2b98bcda192be4e7a": {
      "model_module": "@jupyter-widgets/base",
      "model_module_version": "1.2.0",
      "model_name": "LayoutModel",
      "state": {}
     },
     "666c0518c42e488eae3922120c6c0a33": {
      "model_module": "@jupyter-widgets/controls",
      "model_module_version": "1.5.0",
      "model_name": "DescriptionStyleModel",
      "state": {
       "description_width": ""
      }
     },
     "6691ea45ae4d4c1abdb25861609a766a": {
      "model_module": "@jupyter-widgets/controls",
      "model_module_version": "1.5.0",
      "model_name": "DescriptionStyleModel",
      "state": {
       "description_width": ""
      }
     },
     "66b8ef116f0e4132a29fb1b8c7ab90fe": {
      "model_module": "@jupyter-widgets/controls",
      "model_module_version": "1.5.0",
      "model_name": "ButtonStyleModel",
      "state": {
       "font_weight": "bold"
      }
     },
     "675afdf7acfe470fa238e4f7d3872483": {
      "model_module": "@jupyter-widgets/base",
      "model_module_version": "1.2.0",
      "model_name": "LayoutModel",
      "state": {}
     },
     "6808b8c1ee32455e8adfedd7e5fc5aef": {
      "model_module": "@jupyter-widgets/base",
      "model_module_version": "1.2.0",
      "model_name": "LayoutModel",
      "state": {}
     },
     "68420b713a174b48a8f640c2820a2c8e": {
      "model_module": "@jupyter-widgets/controls",
      "model_module_version": "1.5.0",
      "model_name": "HBoxModel",
      "state": {
       "children": [
        "IPY_MODEL_6a18d6b244fb425a91f350bebd5272fc",
        "IPY_MODEL_e21928d959134d2ab37168534588d120"
       ],
       "layout": "IPY_MODEL_d2426d11b11e49a48b978f83345d519a"
      }
     },
     "6894a1a9b41b4536895c89021f28dbe7": {
      "model_module": "@jupyter-widgets/controls",
      "model_module_version": "1.5.0",
      "model_name": "HTMLModel",
      "state": {
       "layout": "IPY_MODEL_0a060cb495d643339006fb13764fd536",
       "style": "IPY_MODEL_81e7e254de7a4cd5be77b2d782d1540e"
      }
     },
     "68dea455f59349ffa50a4a412ff917dc": {
      "model_module": "@jupyter-widgets/controls",
      "model_module_version": "1.5.0",
      "model_name": "DescriptionStyleModel",
      "state": {
       "description_width": ""
      }
     },
     "69302b185826403297075a445145f7ef": {
      "model_module": "@jupyter-widgets/base",
      "model_module_version": "1.2.0",
      "model_name": "LayoutModel",
      "state": {}
     },
     "694e6cb358ae4f75be130602b8088ee1": {
      "model_module": "@jupyter-widgets/output",
      "model_module_version": "1.0.0",
      "model_name": "OutputModel",
      "state": {
       "layout": "IPY_MODEL_5a8374019ef247b1bd63eb7f3f2a502f"
      }
     },
     "6a17f7765bf5461799679e6b1d2e3f5b": {
      "model_module": "@jupyter-widgets/base",
      "model_module_version": "1.2.0",
      "model_name": "LayoutModel",
      "state": {
       "align_items": "stretch",
       "border": "dashed 0.2px green",
       "display": "flex",
       "flex_flow": "row",
       "grid_auto_columns": "True",
       "justify_content": "flex-start",
       "width": "100%"
      }
     },
     "6a18d6b244fb425a91f350bebd5272fc": {
      "model_module": "@jupyter-widgets/controls",
      "model_module_version": "1.5.0",
      "model_name": "HTMLModel",
      "state": {
       "layout": "IPY_MODEL_ff330a6d455b468fa248fefc49013fea",
       "style": "IPY_MODEL_90aea3335d1a4648bc89804a71cde8ab",
       "value": "<p>margin_1_bar</p>"
      }
     },
     "6a5cea33a56e4371a5ca3de87f1b2da4": {
      "model_module": "@jupyter-widgets/controls",
      "model_module_version": "1.5.0",
      "model_name": "ButtonModel",
      "state": {
       "button_style": "success",
       "description": "run",
       "layout": "IPY_MODEL_90d0e34d90bf4dbba9038eecab32e01f",
       "style": "IPY_MODEL_1d269eaa7dd348bbbaac1bf446f2b2a6",
       "tooltip": "execute the script based on the user inputs"
      }
     },
     "6ab42dd862174fcf8ba6db357c57a8a7": {
      "model_module": "@jupyter-widgets/base",
      "model_module_version": "1.2.0",
      "model_name": "LayoutModel",
      "state": {}
     },
     "6afcd155401d4f04b2eec52535530aca": {
      "model_module": "@jupyter-widgets/controls",
      "model_module_version": "1.5.0",
      "model_name": "ButtonModel",
      "state": {
       "button_style": "success",
       "description": "run",
       "layout": "IPY_MODEL_8640b25d315b4791b15b33bdcc38b2b4",
       "style": "IPY_MODEL_b3407a92dc604826841bdc45b2837a81",
       "tooltip": "execute the script based on the user inputs"
      }
     },
     "6b01e4001d7e418b8e80d7cbb6892f96": {
      "model_module": "@jupyter-widgets/controls",
      "model_module_version": "1.5.0",
      "model_name": "HBoxModel",
      "state": {
       "children": [
        "IPY_MODEL_8bab2b5e80de490891e8add0d027335b"
       ],
       "layout": "IPY_MODEL_03ecd2c4b1e34dea981bfedb675361fc"
      }
     },
     "6b2b0346016447049d641c7df4f5dff7": {
      "model_module": "@jupyter-widgets/controls",
      "model_module_version": "1.5.0",
      "model_name": "ButtonStyleModel",
      "state": {
       "font_weight": "bold"
      }
     },
     "6bc0ba01597b40c9b8317b6642069b41": {
      "model_module": "@jupyter-widgets/base",
      "model_module_version": "1.2.0",
      "model_name": "LayoutModel",
      "state": {}
     },
     "6d9972f99e6248b8bf98c5b5e88415aa": {
      "model_module": "@jupyter-widgets/controls",
      "model_module_version": "1.5.0",
      "model_name": "TextModel",
      "state": {
       "description": "inputs",
       "disabled": true,
       "layout": "IPY_MODEL_bf0400317cca477a82ed5af3a79dff00",
       "style": "IPY_MODEL_f5e435d2dec74285a9030e1ebfd203e7",
       "value": "C:\\engDev\\git_mf\\ipyrun\\examples\\notebooks\\appdata\\inputs\\inputs-expansion_vessel_sizing.json"
      }
     },
     "6e285117d0bc4f29b1458b5178e6b15d": {
      "model_module": "@jupyter-widgets/base",
      "model_module_version": "1.2.0",
      "model_name": "LayoutModel",
      "state": {
       "align_items": "stretch",
       "border": "dashed 0.2px green",
       "display": "flex",
       "flex_flow": "row",
       "grid_auto_columns": "True",
       "justify_content": "flex-start",
       "width": "100%"
      }
     },
     "6e2fcb8085354433adfc5fbad6a238ae": {
      "model_module": "@jupyter-widgets/base",
      "model_module_version": "1.2.0",
      "model_name": "LayoutModel",
      "state": {
       "align_items": "stretch",
       "width": "100%"
      }
     },
     "6e50baefe2fc424aa2e6eff29146c5e4": {
      "model_module": "@jupyter-widgets/base",
      "model_module_version": "1.2.0",
      "model_name": "LayoutModel",
      "state": {
       "align_items": "stretch",
       "width": "100%"
      }
     },
     "6fd981731f7b43cb905e545a8b71aba0": {
      "model_module": "@jupyter-widgets/base",
      "model_module_version": "1.2.0",
      "model_name": "LayoutModel",
      "state": {}
     },
     "704ef309bf7d44198d8393635c6a61d6": {
      "model_module": "@jupyter-widgets/controls",
      "model_module_version": "1.5.0",
      "model_name": "HBoxModel",
      "state": {
       "children": [
        "IPY_MODEL_74ba5eeeaff9460ab5e3c0ba1d5d5fad"
       ],
       "layout": "IPY_MODEL_38b4f8891ed44ac99a7bf41038ac10fd"
      }
     },
     "70f7ae52627148f8a4374680acd97b17": {
      "model_module": "@jupyter-widgets/controls",
      "model_module_version": "1.5.0",
      "model_name": "HTMLModel",
      "state": {
       "layout": "IPY_MODEL_6bc0ba01597b40c9b8317b6642069b41",
       "style": "IPY_MODEL_ab0626ee1c9c4dd5abffb60c2df0792c",
       "value": "<p>margin_1_bar</p>"
      }
     },
     "71184d74b83d48239390f8ee6b2ce40c": {
      "model_module": "@jupyter-widgets/base",
      "model_module_version": "1.2.0",
      "model_name": "LayoutModel",
      "state": {
       "width": "5%"
      }
     },
     "717aa31ec2364064a29a2e1deb18dcb0": {
      "model_module": "@jupyter-widgets/controls",
      "model_module_version": "1.5.0",
      "model_name": "FloatTextModel",
      "state": {
       "layout": "IPY_MODEL_69302b185826403297075a445145f7ef",
       "step": null,
       "style": "IPY_MODEL_a9b69db43399495a8c7757ddbc897fcb",
       "value": 20
      }
     },
     "7192b41c7557442196c1d36f06134e45": {
      "model_module": "@jupyter-widgets/controls",
      "model_module_version": "1.5.0",
      "model_name": "ButtonModel",
      "state": {
       "button_style": "info",
       "description": "show log",
       "layout": "IPY_MODEL_7b04c8e9dbb74b81bb3a870d6db8287c",
       "style": "IPY_MODEL_b76d51918f47443f87ebbd2f63752dee",
       "tooltip": "show a log of when the script was executed to generate the outputs, and by who"
      }
     },
     "71e372b0f4364f13a4c4c5083c015819": {
      "model_module": "@jupyter-widgets/controls",
      "model_module_version": "1.5.0",
      "model_name": "HBoxModel",
      "state": {
       "children": [
        "IPY_MODEL_f178b49b0eb94051b575a7222c2a625e",
        "IPY_MODEL_2fc08967d6604d1f88a887c3d149cd61"
       ],
       "layout": "IPY_MODEL_b6f339272865411b84a8ea76eb328b39"
      }
     },
     "7200ba4ca73c4b87a74a3c2ce62226d5": {
      "model_module": "@jupyter-widgets/controls",
      "model_module_version": "1.5.0",
      "model_name": "DescriptionStyleModel",
      "state": {
       "description_width": ""
      }
     },
     "7245b02131564827a1c0d19ee340c413": {
      "model_module": "@jupyter-widgets/base",
      "model_module_version": "1.2.0",
      "model_name": "LayoutModel",
      "state": {}
     },
     "72833e89110243edbe62b830550ce02c": {
      "model_module": "@jupyter-widgets/base",
      "model_module_version": "1.2.0",
      "model_name": "LayoutModel",
      "state": {}
     },
     "72d0625fb433438eae3b5214b647383e": {
      "model_module": "@jupyter-widgets/base",
      "model_module_version": "1.2.0",
      "model_name": "LayoutModel",
      "state": {}
     },
     "7305acb9268a4c82a227532a4e27e85e": {
      "model_module": "@jupyter-widgets/controls",
      "model_module_version": "1.5.0",
      "model_name": "DescriptionStyleModel",
      "state": {
       "description_width": ""
      }
     },
     "734845d0d4bb44709e52670e91ecc7bc": {
      "model_module": "@jupyter-widgets/controls",
      "model_module_version": "1.5.0",
      "model_name": "HTMLModel",
      "state": {
       "layout": "IPY_MODEL_037f79ab75b84b018a3c81c3f6b51b14",
       "style": "IPY_MODEL_68dea455f59349ffa50a4a412ff917dc",
       "value": "<p>Expansion vessel acceptance factor (= additional volume / expansion vessel volume):</p>"
      }
     },
     "737a6f1b972b4d06874d4fbb9f194a5b": {
      "model_module": "@jupyter-widgets/controls",
      "model_module_version": "1.5.0",
      "model_name": "DescriptionStyleModel",
      "state": {
       "description_width": ""
      }
     },
     "73f145b498f44b818df064a74fe5b85c": {
      "model_module": "@jupyter-widgets/controls",
      "model_module_version": "1.5.0",
      "model_name": "VBoxModel",
      "state": {
       "children": [
        "IPY_MODEL_75e77b81ecd740aeb0c6f5fdd8dd298b",
        "IPY_MODEL_6894a1a9b41b4536895c89021f28dbe7",
        "IPY_MODEL_e26ca6d90cd04f139bcfbefcb88779ef"
       ],
       "layout": "IPY_MODEL_869ad3634b2149be8f65d196ac944472"
      }
     },
     "73f48bdcebf14c08841bdef218cb71b5": {
      "model_module": "@jupyter-widgets/output",
      "model_module_version": "1.0.0",
      "model_name": "OutputModel",
      "state": {
       "layout": "IPY_MODEL_00018bcf22354c2ab1206bd28eea5774"
      }
     },
     "740c906f0000422eb96ab588c3660a87": {
      "model_module": "@jupyter-widgets/controls",
      "model_module_version": "1.5.0",
      "model_name": "HBoxModel",
      "state": {
       "children": [
        "IPY_MODEL_5f02d987409c4e33bcbda604de97acd6",
        "IPY_MODEL_06c56c59787b46fea2f21b6136b803b6"
       ],
       "layout": "IPY_MODEL_1a22619211f44d648a0f32b8e632dc0a"
      }
     },
     "7462b3d6f712496393aa3f8ca15d44d4": {
      "model_module": "@jupyter-widgets/controls",
      "model_module_version": "1.5.0",
      "model_name": "DescriptionStyleModel",
      "state": {
       "description_width": ""
      }
     },
     "74ba5eeeaff9460ab5e3c0ba1d5d5fad": {
      "model_module": "@jupyter-widgets/controls",
      "model_module_version": "1.5.0",
      "model_name": "HBoxModel",
      "state": {
       "children": [
        "IPY_MODEL_cdcf277f4a4c445dbcd6550e50f21f81",
        "IPY_MODEL_b0a2874d5e9c40379a2bdc4164fa7b7d"
       ],
       "layout": "IPY_MODEL_261794dc9f8d47ecae75b90a602a9d70"
      }
     },
     "752b02b192804279b54275f48ef9357b": {
      "model_module": "@jupyter-widgets/base",
      "model_module_version": "1.2.0",
      "model_name": "LayoutModel",
      "state": {
       "align_items": "stretch",
       "display": "flex",
       "flex_flow": "row",
       "grid_auto_columns": "True",
       "justify_content": "flex-start",
       "width": "80%"
      }
     },
     "7538748e98be47329a6d2db3fe56dbaa": {
      "model_module": "@jupyter-widgets/controls",
      "model_module_version": "1.5.0",
      "model_name": "HBoxModel",
      "state": {
       "children": [
        "IPY_MODEL_740c906f0000422eb96ab588c3660a87"
       ],
       "layout": "IPY_MODEL_62346972be204550bbe08e1475ac52c8"
      }
     },
     "75d638b565fc4e869eb726dc936c8c41": {
      "model_module": "@jupyter-widgets/base",
      "model_module_version": "1.2.0",
      "model_name": "LayoutModel",
      "state": {
       "align_items": "stretch",
       "display": "flex",
       "flex_flow": "row",
       "grid_auto_columns": "True",
       "justify_content": "flex-start",
       "width": "80%"
      }
     },
     "75e77b81ecd740aeb0c6f5fdd8dd298b": {
      "model_module": "@jupyter-widgets/controls",
      "model_module_version": "1.5.0",
      "model_name": "HBoxModel",
      "state": {
       "children": [
        "IPY_MODEL_988b55796be2422c9ca049b5adad6790",
        "IPY_MODEL_0c1b539f9aa3496d9aecd078a80b67b1",
        "IPY_MODEL_3d4c8a233e5a4d21a0cdba4883c058d8"
       ],
       "layout": "IPY_MODEL_3ee8cb902eff421ba5edc8b7a32a1e32"
      }
     },
     "761605e904044598ad2c1a95bd534a21": {
      "model_module": "@jupyter-widgets/controls",
      "model_module_version": "1.5.0",
      "model_name": "DescriptionStyleModel",
      "state": {
       "description_width": ""
      }
     },
     "7632aafed32a477e8456248a2d06e2ca": {
      "model_module": "@jupyter-widgets/controls",
      "model_module_version": "1.5.0",
      "model_name": "AccordionModel",
      "state": {
       "_titles": {
        "0": "expansion_vessel_sizing"
       },
       "children": [
        "IPY_MODEL_4fb88b88fe5c4efbbdc135f21016aea4"
       ],
       "layout": "IPY_MODEL_0aa1f4b12177478293c2623168b6e0e8",
       "selected_index": null
      }
     },
     "7633abed1c544e529b3a057c4d0dec0e": {
      "model_module": "@jupyter-widgets/base",
      "model_module_version": "1.2.0",
      "model_name": "LayoutModel",
      "state": {
       "align_items": "stretch",
       "border": "dashed 0.2px green",
       "display": "flex",
       "flex_flow": "row",
       "grid_auto_columns": "True",
       "justify_content": "flex-start",
       "width": "100%"
      }
     },
     "766706b38cfb499ab5c3bad8c14ab138": {
      "model_module": "@jupyter-widgets/base",
      "model_module_version": "1.2.0",
      "model_name": "LayoutModel",
      "state": {
       "align_items": "stretch",
       "width": "100%"
      }
     },
     "77876f83c9cd4c619ea5eb9e106b2161": {
      "model_module": "@jupyter-widgets/base",
      "model_module_version": "1.2.0",
      "model_name": "LayoutModel",
      "state": {
       "align_items": "stretch",
       "display": "flex",
       "flex_flow": "row",
       "grid_auto_columns": "True",
       "justify_content": "flex-end",
       "width": "90%"
      }
     },
     "779ccfda1fe848a3a1cbe4554e30018e": {
      "model_module": "@jupyter-widgets/controls",
      "model_module_version": "1.5.0",
      "model_name": "HTMLModel",
      "state": {
       "layout": "IPY_MODEL_b8d625ffad724edd869b39147657dc34",
       "style": "IPY_MODEL_4e23b9bf53bc41578d527267aa699aac",
       "value": "<p>difference in height between the highest and lowest points in the system</p>"
      }
     },
     "78e1b0a3fbdb4c1583eba613724f35cd": {
      "model_module": "@jupyter-widgets/controls",
      "model_module_version": "1.5.0",
      "model_name": "HBoxModel",
      "state": {
       "children": [
        "IPY_MODEL_a44a58a6694f490293575d26baa8b8a8",
        "IPY_MODEL_3fa0fae69be7489b87caa58fd9a1d924"
       ],
       "layout": "IPY_MODEL_413d03c65b9f45dfaac395a2e05a3e3d"
      }
     },
     "790b48a588844107b330d2a95a083862": {
      "model_module": "@jupyter-widgets/base",
      "model_module_version": "1.2.0",
      "model_name": "LayoutModel",
      "state": {}
     },
     "79c08c3d1ea447398d84dc0ad5bcfc16": {
      "model_module": "@jupyter-widgets/base",
      "model_module_version": "1.2.0",
      "model_name": "LayoutModel",
      "state": {
       "align_items": "stretch",
       "border": "dashed 0.2px green",
       "display": "flex",
       "flex_flow": "row",
       "grid_auto_columns": "True",
       "justify_content": "flex-start",
       "width": "100%"
      }
     },
     "7a06206cc96f46a6a7f2005dfe08c13f": {
      "model_module": "@jupyter-widgets/base",
      "model_module_version": "1.2.0",
      "model_name": "LayoutModel",
      "state": {}
     },
     "7a35071cf4074006adc93d55714d63a3": {
      "model_module": "@jupyter-widgets/base",
      "model_module_version": "1.2.0",
      "model_name": "LayoutModel",
      "state": {}
     },
     "7a94f0d58c5946cfb15c4ca069e8646d": {
      "model_module": "@jupyter-widgets/controls",
      "model_module_version": "1.5.0",
      "model_name": "DescriptionStyleModel",
      "state": {
       "description_width": ""
      }
     },
     "7a9fa73d5c3843989cd5ac5ef690475d": {
      "model_module": "@jupyter-widgets/controls",
      "model_module_version": "1.5.0",
      "model_name": "HTMLModel",
      "state": {
       "layout": "IPY_MODEL_81cc4fdbd5bb4f30bb1a890eb998fe25",
       "style": "IPY_MODEL_1bfc5cf20f764159882589a248ae224c",
       "value": "<p>pipework_length_m</p>"
      }
     },
     "7aa6e9bf36564182895f26b7154b7db7": {
      "model_module": "@jupyter-widgets/controls",
      "model_module_version": "1.5.0",
      "model_name": "ButtonModel",
      "state": {
       "button_style": "info",
       "description": "show guide",
       "layout": "IPY_MODEL_1cc0ee37a37d41f2a97fae8d13663f90",
       "style": "IPY_MODEL_be7bb273aa7b44ffb06c182751d7deee",
       "tooltip": "read the \"docstring\", ie. the documentation that was written to accompany the script"
      }
     },
     "7aaf74ccfdc246c5996acf2703089dc0": {
      "model_module": "@jupyter-widgets/controls",
      "model_module_version": "1.5.0",
      "model_name": "HBoxModel",
      "state": {
       "children": [
        "IPY_MODEL_e2602b9255184c09b45e172b8bc415f8",
        "IPY_MODEL_350f3b5e7ddf4b6a81da229d07ea55a5",
        "IPY_MODEL_b37bd0b042f747b4a3f7140c4f4c5908",
        "IPY_MODEL_98a89a13ce2e4d3cbfad7824bd0d29d8",
        "IPY_MODEL_1ef165072a184ec7838accec45c39313",
        "IPY_MODEL_d24bf866fdb740a89dcff9bafa0691f1",
        "IPY_MODEL_998b156476f74130a7b11415077cb43b"
       ],
       "layout": "IPY_MODEL_32d247245c7c4416b3d1e0a7a16fc057"
      }
     },
     "7afef07d17264b9f93cf9394b00f9749": {
      "model_module": "@jupyter-widgets/base",
      "model_module_version": "1.2.0",
      "model_name": "LayoutModel",
      "state": {}
     },
     "7b04c8e9dbb74b81bb3a870d6db8287c": {
      "model_module": "@jupyter-widgets/base",
      "model_module_version": "1.2.0",
      "model_name": "LayoutModel",
      "state": {}
     },
     "7b352c5c76ef459caf89c3c211cd50ff": {
      "model_module": "@jupyter-widgets/controls",
      "model_module_version": "1.5.0",
      "model_name": "HTMLModel",
      "state": {
       "layout": "IPY_MODEL_87de662ef9d448a08c59ec092ca45a5f",
       "style": "IPY_MODEL_7305acb9268a4c82a227532a4e27e85e",
       "value": "<p>Heating system pipework length (m). Note: includes horizontal, vertical, flow and return.</p>"
      }
     },
     "7b7129b16fa245f1aa3198d3456bbfb1": {
      "model_module": "@jupyter-widgets/base",
      "model_module_version": "1.2.0",
      "model_name": "LayoutModel",
      "state": {
       "align_items": "stretch",
       "display": "flex",
       "flex_flow": "row",
       "grid_auto_columns": "True",
       "justify_content": "flex-start",
       "width": "80%"
      }
     },
     "7b908d0259304c22ad661f5d3f3f94d8": {
      "model_module": "@jupyter-widgets/controls",
      "model_module_version": "1.5.0",
      "model_name": "FloatTextModel",
      "state": {
       "layout": "IPY_MODEL_eb6af3bfd1224b47a21c65964e1d040e",
       "step": null,
       "style": "IPY_MODEL_1ad87e6986144b7a87c66e478a2ca1f5",
       "value": 257
      }
     },
     "7c36862a09794c86906cb9dde2198322": {
      "model_module": "@jupyter-widgets/controls",
      "model_module_version": "1.5.0",
      "model_name": "HBoxModel",
      "state": {
       "children": [
        "IPY_MODEL_70f7ae52627148f8a4374680acd97b17",
        "IPY_MODEL_197d61970751402ea54997593a3ff5f9"
       ],
       "layout": "IPY_MODEL_afe9f55adcf544559e0207154f11db52"
      }
     },
     "7c5eac5780db444f99631460df497321": {
      "model_module": "@jupyter-widgets/controls",
      "model_module_version": "1.5.0",
      "model_name": "FloatSliderModel",
      "state": {
       "layout": "IPY_MODEL_7a06206cc96f46a6a7f2005dfe08c13f",
       "max": 2,
       "step": 0.1,
       "style": "IPY_MODEL_7d2b422afb4e405eaf17524fd2872099",
       "value": 1
      }
     },
     "7cd6c9c454984149a5e800eb5d955a4c": {
      "model_module": "@jupyter-widgets/base",
      "model_module_version": "1.2.0",
      "model_name": "LayoutModel",
      "state": {}
     },
     "7d2b422afb4e405eaf17524fd2872099": {
      "model_module": "@jupyter-widgets/controls",
      "model_module_version": "1.5.0",
      "model_name": "SliderStyleModel",
      "state": {
       "description_width": ""
      }
     },
     "7da038466ff84fd18dd9128101b933af": {
      "model_module": "@jupyter-widgets/controls",
      "model_module_version": "1.5.0",
      "model_name": "VBoxModel",
      "state": {
       "children": [
        "IPY_MODEL_75e77b81ecd740aeb0c6f5fdd8dd298b",
        "IPY_MODEL_6894a1a9b41b4536895c89021f28dbe7",
        "IPY_MODEL_e26ca6d90cd04f139bcfbefcb88779ef"
       ],
       "layout": "IPY_MODEL_6532e0ca487f4037b9ad29427bf1e14a"
      }
     },
     "7dc720ce67d5490ea26708b817222f8d": {
      "model_module": "@jupyter-widgets/controls",
      "model_module_version": "1.5.0",
      "model_name": "FloatSliderModel",
      "state": {
       "layout": "IPY_MODEL_04b348de55a74282a604c3593ca5163b",
       "max": 1,
       "step": 0.1,
       "style": "IPY_MODEL_d89cfad7465c4241ba7072d13c01002f",
       "value": 0.3
      }
     },
     "7e42d53df6dc438c997ee5f724ebc231": {
      "model_module": "@jupyter-widgets/controls",
      "model_module_version": "1.5.0",
      "model_name": "HTMLModel",
      "state": {
       "layout": "IPY_MODEL_8fd223015bfa4d1b9a6879abb0cb76bc",
       "style": "IPY_MODEL_20d648380f59441186e1fff91bbfd49a",
       "value": "<p>effective pipework pressure loss (Pa/m)</p>"
      }
     },
     "7ea0ea7e6ba140af925b4ae99de50a6c": {
      "model_module": "@jupyter-widgets/base",
      "model_module_version": "1.2.0",
      "model_name": "LayoutModel",
      "state": {
       "width": "5%"
      }
     },
     "7ecf32b1b97e43c2b2034de01ffc381f": {
      "model_module": "@jupyter-widgets/controls",
      "model_module_version": "1.5.0",
      "model_name": "DescriptionStyleModel",
      "state": {
       "description_width": ""
      }
     },
     "7f04c0eea598443eaabcfb6124285db8": {
      "model_module": "@jupyter-widgets/controls",
      "model_module_version": "1.5.0",
      "model_name": "AccordionModel",
      "state": {
       "_titles": {
        "0": "expansion_vessel_sizing_1"
       },
       "children": [
        "IPY_MODEL_d943ab0ea2d2495b8004fad900497c8c"
       ],
       "layout": "IPY_MODEL_e439433125df43718fe5530622aed248",
       "selected_index": null
      }
     },
     "7f079a47c8fa405981c806690c3691e6": {
      "model_module": "@jupyter-widgets/base",
      "model_module_version": "1.2.0",
      "model_name": "LayoutModel",
      "state": {}
     },
     "7f6b901aefe14e4c9f2de87acf6284da": {
      "model_module": "@jupyter-widgets/controls",
      "model_module_version": "1.5.0",
      "model_name": "ButtonStyleModel",
      "state": {
       "font_weight": "bold"
      }
     },
     "808a1a4e377d443cb3ff9846c0d08934": {
      "model_module": "@jupyter-widgets/base",
      "model_module_version": "1.2.0",
      "model_name": "LayoutModel",
      "state": {}
     },
     "80984d7cdb3c4e82a1a602b849afaa8a": {
      "model_module": "@jupyter-widgets/base",
      "model_module_version": "1.2.0",
      "model_name": "LayoutModel",
      "state": {}
     },
     "80bcbae17b114c7fa9eb6a7653e6d73e": {
      "model_module": "@jupyter-widgets/base",
      "model_module_version": "1.2.0",
      "model_name": "LayoutModel",
      "state": {}
     },
     "80bdd5e37c4b4672835db93c9ac35dd5": {
      "model_module": "@jupyter-widgets/base",
      "model_module_version": "1.2.0",
      "model_name": "LayoutModel",
      "state": {}
     },
     "80bf722ba002420da699dc987ca806e3": {
      "model_module": "@jupyter-widgets/base",
      "model_module_version": "1.2.0",
      "model_name": "LayoutModel",
      "state": {}
     },
     "81a94bbc97224df89e505966ead4936e": {
      "model_module": "@jupyter-widgets/controls",
      "model_module_version": "1.5.0",
      "model_name": "HBoxModel",
      "state": {
       "children": [
        "IPY_MODEL_71e372b0f4364f13a4c4c5083c015819"
       ],
       "layout": "IPY_MODEL_aea2632fe460422d814682b534ac555f"
      }
     },
     "81cc4fdbd5bb4f30bb1a890eb998fe25": {
      "model_module": "@jupyter-widgets/base",
      "model_module_version": "1.2.0",
      "model_name": "LayoutModel",
      "state": {}
     },
     "81e63e40a6d14394a0e796d77ccc3e73": {
      "model_module": "@jupyter-widgets/controls",
      "model_module_version": "1.5.0",
      "model_name": "DescriptionStyleModel",
      "state": {
       "description_width": ""
      }
     },
     "81e7e254de7a4cd5be77b2d782d1540e": {
      "model_module": "@jupyter-widgets/controls",
      "model_module_version": "1.5.0",
      "model_name": "DescriptionStyleModel",
      "state": {
       "description_width": ""
      }
     },
     "81f0995dd80c4300820b8ee00abb6fd5": {
      "model_module": "@jupyter-widgets/controls",
      "model_module_version": "1.5.0",
      "model_name": "ButtonStyleModel",
      "state": {
       "font_weight": "bold"
      }
     },
     "822b4d38f0e4449fa69e6fee1b06ec59": {
      "model_module": "@jupyter-widgets/controls",
      "model_module_version": "1.5.0",
      "model_name": "DescriptionStyleModel",
      "state": {
       "description_width": ""
      }
     },
     "82ee33d874984b18b4fdb6b55486d9d4": {
      "model_module": "@jupyter-widgets/base",
      "model_module_version": "1.2.0",
      "model_name": "LayoutModel",
      "state": {}
     },
     "833aed9431754c378e07ba72bee55a63": {
      "model_module": "@jupyter-widgets/base",
      "model_module_version": "1.2.0",
      "model_name": "LayoutModel",
      "state": {
       "border": "0px",
       "margin": "0px",
       "padding": "0px"
      }
     },
     "83f64caa1d264357833fd0086a449614": {
      "model_module": "@jupyter-widgets/controls",
      "model_module_version": "1.5.0",
      "model_name": "HBoxModel",
      "state": {
       "children": [
        "IPY_MODEL_6497e2176759472db1c199526379c55a",
        "IPY_MODEL_dc23249d428c497eb5300c0c545c8ab7"
       ],
       "layout": "IPY_MODEL_8f11edbb2c43429fb1b122a99fd9da34"
      }
     },
     "8425fb68011b4bc3a00d008a3b737273": {
      "model_module": "@jupyter-widgets/controls",
      "model_module_version": "1.5.0",
      "model_name": "HTMLModel",
      "state": {
       "layout": "IPY_MODEL_0d19825528d345fa95d8560e736e7dd7",
       "style": "IPY_MODEL_15158af428944a9ab469c2aab8ee949a",
       "value": "<p>eV_acceptance_fraction</p>"
      }
     },
     "858f3d022f6146a3bc9155b33082d0ef": {
      "model_module": "@jupyter-widgets/controls",
      "model_module_version": "1.5.0",
      "model_name": "HBoxModel",
      "state": {
       "children": [
        "IPY_MODEL_ede2ba2ec8ba42bcae9a447ece19813f",
        "IPY_MODEL_b44d9c303a0c4e41a72dd20ccbe579fd"
       ],
       "layout": "IPY_MODEL_3a1d5bb43db543c08ea11e2dab4b7e79"
      }
     },
     "8640b25d315b4791b15b33bdcc38b2b4": {
      "model_module": "@jupyter-widgets/base",
      "model_module_version": "1.2.0",
      "model_name": "LayoutModel",
      "state": {}
     },
     "8656e719b77d4a47b3880e5369ee62ff": {
      "model_module": "@jupyter-widgets/controls",
      "model_module_version": "1.5.0",
      "model_name": "HTMLModel",
      "state": {
       "layout": "IPY_MODEL_622bd2fcff284ef6a350de2badf80c7f",
       "style": "IPY_MODEL_c7c1cf4d70934e46957664725f413960",
       "value": "<p>pipework_pressure_loss_margin_fraction</p>"
      }
     },
     "867653e351f34be7abd3263aa367d2c1": {
      "model_module": "@jupyter-widgets/controls",
      "model_module_version": "1.5.0",
      "model_name": "FloatTextModel",
      "state": {
       "layout": "IPY_MODEL_b3405848beca4dd7bf38814cf579bd8e",
       "step": null,
       "style": "IPY_MODEL_c503399ed7464163b376cf2e5bff4ad1",
       "value": 500
      }
     },
     "869ad3634b2149be8f65d196ac944472": {
      "model_module": "@jupyter-widgets/base",
      "model_module_version": "1.2.0",
      "model_name": "LayoutModel",
      "state": {}
     },
     "86a11615a4584d8eafe0dcc0685b51fd": {
      "model_module": "@jupyter-widgets/controls",
      "model_module_version": "1.5.0",
      "model_name": "HTMLModel",
      "state": {
       "layout": "IPY_MODEL_a8d400be62624e6ebfc3fe8b57da0188",
       "style": "IPY_MODEL_acadc49b784a464eb05b3a735920a0b2",
       "value": "<p>Expansion vessel acceptance factor (= additional volume / expansion vessel volume):</p>"
      }
     },
     "86d0cc6bb8654e9fbcbf8d4e20c9d611": {
      "model_module": "@jupyter-widgets/controls",
      "model_module_version": "1.5.0",
      "model_name": "DescriptionStyleModel",
      "state": {
       "description_width": ""
      }
     },
     "86d17d233fbd419ba302ccd61cea6bfe": {
      "model_module": "@jupyter-widgets/base",
      "model_module_version": "1.2.0",
      "model_name": "LayoutModel",
      "state": {}
     },
     "87d03d6906994c0981fb36f940ae3b07": {
      "model_module": "@jupyter-widgets/output",
      "model_module_version": "1.0.0",
      "model_name": "OutputModel",
      "state": {
       "layout": "IPY_MODEL_24d9bf945b08493f9c54830eab694e09"
      }
     },
     "87de662ef9d448a08c59ec092ca45a5f": {
      "model_module": "@jupyter-widgets/base",
      "model_module_version": "1.2.0",
      "model_name": "LayoutModel",
      "state": {}
     },
     "88ef00bb8fc245cb94664b8ef0632a9f": {
      "model_module": "@jupyter-widgets/controls",
      "model_module_version": "1.5.0",
      "model_name": "TextModel",
      "state": {
       "description": "script",
       "disabled": true,
       "layout": "IPY_MODEL_1fe4912a2e794a07b698485a66a48d36",
       "style": "IPY_MODEL_8b74b82601b848ddab54ec88dcfc2a8c",
       "value": "C:\\engDev\\git_mf\\ipyrun\\examples\\scripts\\expansion_vessel_sizing.py"
      }
     },
     "8901e88cc4624a6e81682decf9ec17c0": {
      "model_module": "@jupyter-widgets/controls",
      "model_module_version": "1.5.0",
      "model_name": "HBoxModel",
      "state": {
       "children": [
        "IPY_MODEL_0f35f5ceaf39460d89430da752167083",
        "IPY_MODEL_9aa7269d321c49718ebea49b498ecd2e"
       ],
       "layout": "IPY_MODEL_37142b5fe131481488b053b3343c2c4a"
      }
     },
     "8909bc156b754e759d159d45dce1e36a": {
      "model_module": "@jupyter-widgets/base",
      "model_module_version": "1.2.0",
      "model_name": "LayoutModel",
      "state": {
       "height": "30px",
       "max_width": "30px",
       "padding": "3px"
      }
     },
     "89547aa30d494633ad310348c5289a51": {
      "model_module": "@jupyter-widgets/controls",
      "model_module_version": "1.5.0",
      "model_name": "ButtonModel",
      "state": {
       "icon": "question-circle",
       "layout": "IPY_MODEL_43ea4eaef65c49ad8361ed3f22773008",
       "style": "IPY_MODEL_0d2a9dc3e8d3472294f74d940ecf6712",
       "tooltip": "describes the functionality of elements in the RunApp interface"
      }
     },
     "89a1823821a949c1886f54112ed2885f": {
      "model_module": "@jupyter-widgets/controls",
      "model_module_version": "1.5.0",
      "model_name": "TextModel",
      "state": {
       "description": "script",
       "disabled": true,
       "layout": "IPY_MODEL_3f4302a95a6f4bc7be9721358cb96f2e",
       "style": "IPY_MODEL_b6c06d858e7d47769d2cadcf5dec5fb8",
       "value": "C:\\engDev\\git_mf\\ipyrun\\examples\\scripts\\expansion_vessel_sizing.py"
      }
     },
     "89dc9d7a2d6f41a89d45ed035ff60f31": {
      "model_module": "@jupyter-widgets/controls",
      "model_module_version": "1.5.0",
      "model_name": "HBoxModel",
      "state": {
       "children": [
        "IPY_MODEL_a0451a2b3c1d4d58ab421dae555f2ec1"
       ],
       "layout": "IPY_MODEL_4042b144e538453093884ae73548192e"
      }
     },
     "8a1675c7c676467b87f4ddaa534bedbe": {
      "model_module": "@jupyter-widgets/controls",
      "model_module_version": "1.5.0",
      "model_name": "VBoxModel",
      "state": {
       "children": [
        "IPY_MODEL_d58537c7094e44e7bc372ac9805b778a",
        "IPY_MODEL_dec1158ff45d45ee8585efc97e658a16",
        "IPY_MODEL_abc08ce30ad44863be7791aa87e49767"
       ],
       "layout": "IPY_MODEL_fb2f2d334e9d4205aee991fafc3bee37"
      }
     },
     "8a33564dc9344cf8986219a9faefe612": {
      "model_module": "@jupyter-widgets/base",
      "model_module_version": "1.2.0",
      "model_name": "LayoutModel",
      "state": {}
     },
     "8a7519f76c11439d82e16c72f61dc110": {
      "model_module": "@jupyter-widgets/base",
      "model_module_version": "1.2.0",
      "model_name": "LayoutModel",
      "state": {
       "align_items": "stretch",
       "display": "flex",
       "flex_flow": "row",
       "grid_auto_columns": "True",
       "justify_content": "flex-start",
       "width": "80%"
      }
     },
     "8aa4530db0104029938d0b8317a4f429": {
      "model_module": "@jupyter-widgets/output",
      "model_module_version": "1.0.0",
      "model_name": "OutputModel",
      "state": {
       "layout": "IPY_MODEL_c2e231af40f8423392ed7bfeb0fdde6e"
      }
     },
     "8ae6b5226cb44a54807bde7388383aee": {
      "model_module": "@jupyter-widgets/controls",
      "model_module_version": "1.5.0",
      "model_name": "SliderStyleModel",
      "state": {
       "description_width": ""
      }
     },
     "8b1ea29779f643078c656b769516c74c": {
      "model_module": "@jupyter-widgets/controls",
      "model_module_version": "1.5.0",
      "model_name": "ButtonModel",
      "state": {
       "button_style": "success",
       "description": "save changes",
       "layout": "IPY_MODEL_1a8513b04cd44b708ee5339bafd08d82",
       "style": "IPY_MODEL_060ccb2cef5b40bc94a51456501a4f3b"
      }
     },
     "8b74b82601b848ddab54ec88dcfc2a8c": {
      "model_module": "@jupyter-widgets/controls",
      "model_module_version": "1.5.0",
      "model_name": "DescriptionStyleModel",
      "state": {
       "description_width": ""
      }
     },
     "8b8e27724c1643e2b5d1f6a79bca41ef": {
      "model_module": "@jupyter-widgets/controls",
      "model_module_version": "1.5.0",
      "model_name": "VBoxModel",
      "state": {
       "children": [
        "IPY_MODEL_ca4062d65dbe4635a05e67601a62dd93",
        "IPY_MODEL_f5c3714773e84dc49564c18112bce618",
        "IPY_MODEL_fa1c04a4f1c24da08c0fa84dfd64c304",
        "IPY_MODEL_0e40038af4564105a1bc88fda3630759",
        "IPY_MODEL_4cc7836ced394a8aa6229ef6f904bcf9",
        "IPY_MODEL_934b2023c9fe4ec287e0b829c4a20e03",
        "IPY_MODEL_c2174f86397b466d803f82c32e7c34fc"
       ],
       "layout": "IPY_MODEL_86d17d233fbd419ba302ccd61cea6bfe"
      }
     },
     "8bab2b5e80de490891e8add0d027335b": {
      "model_module": "@jupyter-widgets/controls",
      "model_module_version": "1.5.0",
      "model_name": "HBoxModel",
      "state": {
       "children": [
        "IPY_MODEL_8425fb68011b4bc3a00d008a3b737273",
        "IPY_MODEL_8901e88cc4624a6e81682decf9ec17c0"
       ],
       "layout": "IPY_MODEL_63ec74c2530645f8b1a6a9c950091856"
      }
     },
     "8c27b58893d94713ad73a9a303e686ba": {
      "model_module": "@jupyter-widgets/controls",
      "model_module_version": "1.5.0",
      "model_name": "DescriptionStyleModel",
      "state": {
       "description_width": ""
      }
     },
     "8ca48bb869ea4b36ac261b399f594ffc": {
      "model_module": "@jupyter-widgets/base",
      "model_module_version": "1.2.0",
      "model_name": "LayoutModel",
      "state": {
       "align_items": "stretch",
       "display": "flex",
       "flex_flow": "row",
       "grid_auto_columns": "True",
       "justify_content": "flex-end",
       "width": "90%"
      }
     },
     "8d26d85475e44a3d9c3d5e7e918bda6a": {
      "model_module": "@jupyter-widgets/base",
      "model_module_version": "1.2.0",
      "model_name": "LayoutModel",
      "state": {
       "align_items": "stretch",
       "border": "dashed 0.2px green",
       "display": "flex",
       "flex_flow": "row",
       "grid_auto_columns": "True",
       "justify_content": "flex-start",
       "width": "100%"
      }
     },
     "8dae44c37b524c9d918a28dc13550e5d": {
      "model_module": "@jupyter-widgets/controls",
      "model_module_version": "1.5.0",
      "model_name": "AccordionModel",
      "state": {
       "_titles": {
        "0": "expansion_vessel_sizing_0"
       },
       "children": [
        "IPY_MODEL_f4c654071291440e871e51c5c10d314b"
       ],
       "layout": "IPY_MODEL_a1e195eebceb47f180a2f6d49f5f8557",
       "selected_index": null
      }
     },
     "8efadb5f3b064e069f309932a85f7943": {
      "model_module": "@jupyter-widgets/base",
      "model_module_version": "1.2.0",
      "model_name": "LayoutModel",
      "state": {
       "align_items": "stretch",
       "display": "flex",
       "flex_flow": "row",
       "grid_auto_columns": "True",
       "justify_content": "flex-start",
       "width": "80%"
      }
     },
     "8f11edbb2c43429fb1b122a99fd9da34": {
      "model_module": "@jupyter-widgets/base",
      "model_module_version": "1.2.0",
      "model_name": "LayoutModel",
      "state": {
       "align_items": "stretch",
       "display": "flex",
       "flex_flow": "row",
       "grid_auto_columns": "True",
       "justify_content": "flex-start",
       "width": "80%"
      }
     },
     "8f291685ccf14f829217700d22e4e569": {
      "model_module": "@jupyter-widgets/controls",
      "model_module_version": "1.5.0",
      "model_name": "VBoxModel",
      "state": {
       "children": [
        "IPY_MODEL_0a87d15b8515438081445ddc2ed07a3e",
        "IPY_MODEL_d2e29a00e8e448c897d58014c5f978c9",
        "IPY_MODEL_bf8a1b69fc0c4e65a1a77cb90e196434"
       ],
       "layout": "IPY_MODEL_209938b8a4fd4663b13b386b9ada23c9"
      }
     },
     "8f2ad2739bbc4321916b30b4b162a0a4": {
      "model_module": "@jupyter-widgets/base",
      "model_module_version": "1.2.0",
      "model_name": "LayoutModel",
      "state": {
       "width": "5%"
      }
     },
     "8fa227426d0548ad8d37439ad062ba2e": {
      "model_module": "@jupyter-widgets/base",
      "model_module_version": "1.2.0",
      "model_name": "LayoutModel",
      "state": {}
     },
     "8fbb706eb13b4ef3b538bac3c2774d21": {
      "model_module": "@jupyter-widgets/base",
      "model_module_version": "1.2.0",
      "model_name": "LayoutModel",
      "state": {}
     },
     "8fc1c11cff0e44009078ea27e1c8d4cb": {
      "model_module": "@jupyter-widgets/base",
      "model_module_version": "1.2.0",
      "model_name": "LayoutModel",
      "state": {}
     },
     "8fd223015bfa4d1b9a6879abb0cb76bc": {
      "model_module": "@jupyter-widgets/base",
      "model_module_version": "1.2.0",
      "model_name": "LayoutModel",
      "state": {}
     },
     "8fde4e7adf3e439b9179ad1b56b753b6": {
      "model_module": "@jupyter-widgets/base",
      "model_module_version": "1.2.0",
      "model_name": "LayoutModel",
      "state": {
       "display": "flex",
       "flex_flow": "row",
       "grid_auto_columns": "False",
       "justify_content": "flex-start",
       "width": "100%"
      }
     },
     "90aea3335d1a4648bc89804a71cde8ab": {
      "model_module": "@jupyter-widgets/controls",
      "model_module_version": "1.5.0",
      "model_name": "DescriptionStyleModel",
      "state": {
       "description_width": ""
      }
     },
     "90b011d14067490fbe01b7e7baf2dd15": {
      "model_module": "@jupyter-widgets/controls",
      "model_module_version": "1.5.0",
      "model_name": "HBoxModel",
      "state": {
       "children": [
        "IPY_MODEL_1c8ad50bca1943fbbba0128f1ed8138b",
        "IPY_MODEL_89547aa30d494633ad310348c5289a51",
        "IPY_MODEL_3d9d775b805e46a7a6177d57fae2a3a1",
        "IPY_MODEL_c640e4b0027943bfad0ca8fa9224178b",
        "IPY_MODEL_4572c3f96d66470a990121359f48ab71",
        "IPY_MODEL_499780a8cdcd41e3a566693a64c67f03",
        "IPY_MODEL_da5d27870b464e5c882c60604ac645cf"
       ],
       "layout": "IPY_MODEL_206dd1c28a8746728c38fe8c4abb5228"
      }
     },
     "90d0e34d90bf4dbba9038eecab32e01f": {
      "model_module": "@jupyter-widgets/base",
      "model_module_version": "1.2.0",
      "model_name": "LayoutModel",
      "state": {}
     },
     "90e06a35e1ce420785b8cf61a3129d83": {
      "model_module": "@jupyter-widgets/base",
      "model_module_version": "1.2.0",
      "model_name": "LayoutModel",
      "state": {
       "align_items": "stretch",
       "border": "dashed 0.2px green",
       "display": "flex",
       "flex_flow": "row",
       "grid_auto_columns": "True",
       "justify_content": "flex-start",
       "width": "100%"
      }
     },
     "90f7c7d2f13b4fdfaf9ff6cd73846503": {
      "model_module": "@jupyter-widgets/base",
      "model_module_version": "1.2.0",
      "model_name": "LayoutModel",
      "state": {
       "align_items": "stretch",
       "display": "flex",
       "flex_flow": "row",
       "grid_auto_columns": "True",
       "justify_content": "flex-start",
       "width": "80%"
      }
     },
     "9183c253357142bb97682aefc14cf966": {
      "model_module": "@jupyter-widgets/base",
      "model_module_version": "1.2.0",
      "model_name": "LayoutModel",
      "state": {}
     },
     "91a77c2b81954ccca629fdfc13587fb3": {
      "model_module": "@jupyter-widgets/base",
      "model_module_version": "1.2.0",
      "model_name": "LayoutModel",
      "state": {}
     },
     "9215519cbb944994aa65d17389c99223": {
      "model_module": "@jupyter-widgets/controls",
      "model_module_version": "1.5.0",
      "model_name": "HTMLModel",
      "state": {
       "layout": "IPY_MODEL_d753125019d142a3aefe2f5e3b4bb763",
       "style": "IPY_MODEL_c5e5d45128b046a59641e54536613fef",
       "value": "<p>total volume of water within the closed mechanical system</p>"
      }
     },
     "922d3b2e1c974cfea26e4106447da511": {
      "model_module": "@jupyter-widgets/base",
      "model_module_version": "1.2.0",
      "model_name": "LayoutModel",
      "state": {}
     },
     "92fde1422ccb4849ad8b37ebd21430c5": {
      "model_module": "@jupyter-widgets/base",
      "model_module_version": "1.2.0",
      "model_name": "LayoutModel",
      "state": {
       "align_items": "stretch",
       "display": "flex",
       "flex_flow": "row",
       "grid_auto_columns": "True",
       "justify_content": "flex-start",
       "width": "80%"
      }
     },
     "934b2023c9fe4ec287e0b829c4a20e03": {
      "model_module": "@jupyter-widgets/controls",
      "model_module_version": "1.5.0",
      "model_name": "HBoxModel",
      "state": {
       "children": [
        "IPY_MODEL_602025881e30400fbd4eeff906ece540"
       ],
       "layout": "IPY_MODEL_6e285117d0bc4f29b1458b5178e6b15d"
      }
     },
     "93c8ab9f47564d8ab8c77c177563a96d": {
      "model_module": "@jupyter-widgets/controls",
      "model_module_version": "1.5.0",
      "model_name": "HBoxModel",
      "state": {
       "children": [
        "IPY_MODEL_35be7390e84d49d6a07c3248ac7378fe"
       ],
       "layout": "IPY_MODEL_98755430500f4bd0a9636afff00a14dc"
      }
     },
     "93d38009d71a45d2a271b32cb00c06d4": {
      "model_module": "@jupyter-widgets/base",
      "model_module_version": "1.2.0",
      "model_name": "LayoutModel",
      "state": {}
     },
     "9414f94684884082b0775038484cc8fa": {
      "model_module": "@jupyter-widgets/base",
      "model_module_version": "1.2.0",
      "model_name": "LayoutModel",
      "state": {}
     },
     "947427a659db476e84ede9bcb3b5720a": {
      "model_module": "@jupyter-widgets/output",
      "model_module_version": "1.0.0",
      "model_name": "OutputModel",
      "state": {
       "layout": "IPY_MODEL_f814333f98e341b1a1f2fe250e0723c5"
      }
     },
     "9485e6e25d764c5492cb64e711f62919": {
      "model_module": "@jupyter-widgets/controls",
      "model_module_version": "1.5.0",
      "model_name": "HBoxModel",
      "state": {
       "children": [
        "IPY_MODEL_b529bdff6d0b4dd2b522ba4c62e66205",
        "IPY_MODEL_64fd0e6473244c9e9c418cf61aa30855"
       ],
       "layout": "IPY_MODEL_90f7c7d2f13b4fdfaf9ff6cd73846503"
      }
     },
     "965391483d4745b796cd015706a35594": {
      "model_module": "@jupyter-widgets/controls",
      "model_module_version": "1.5.0",
      "model_name": "HBoxModel",
      "state": {
       "children": [
        "IPY_MODEL_fd61482aa03247fcb837b0528f5d7d69",
        "IPY_MODEL_31dacb1d40814d96b1d03b65bbf5e390"
       ],
       "layout": "IPY_MODEL_cb76180109b44b05b6fdbc33c8599293"
      }
     },
     "971c3aa10b004ba9ac6fb58e558626bb": {
      "model_module": "@jupyter-widgets/controls",
      "model_module_version": "1.5.0",
      "model_name": "ButtonStyleModel",
      "state": {
       "font_weight": "bold"
      }
     },
     "973941f8e05e41c4af0779e2fa311af6": {
      "model_module": "@jupyter-widgets/controls",
      "model_module_version": "1.5.0",
      "model_name": "DescriptionStyleModel",
      "state": {
       "description_width": ""
      }
     },
     "98755430500f4bd0a9636afff00a14dc": {
      "model_module": "@jupyter-widgets/base",
      "model_module_version": "1.2.0",
      "model_name": "LayoutModel",
      "state": {
       "align_items": "stretch",
       "border": "dashed 0.2px green",
       "display": "flex",
       "flex_flow": "row",
       "grid_auto_columns": "True",
       "justify_content": "flex-start",
       "width": "100%"
      }
     },
     "988b55796be2422c9ca049b5adad6790": {
      "model_module": "@jupyter-widgets/controls",
      "model_module_version": "1.5.0",
      "model_name": "ToggleButtonModel",
      "state": {
       "button_style": "info",
       "description": "inputs from file",
       "layout": "IPY_MODEL_378916c819b54c1ab1fb2a5fe120a831",
       "style": "IPY_MODEL_666c0518c42e488eae3922120c6c0a33"
      }
     },
     "98a89a13ce2e4d3cbfad7824bd0d29d8": {
      "model_module": "@jupyter-widgets/controls",
      "model_module_version": "1.5.0",
      "model_name": "ButtonModel",
      "state": {
       "button_style": "warning",
       "description": "edit inputs",
       "layout": "IPY_MODEL_2a7b807d66194fe8801fdd9ee0ab0397",
       "style": "IPY_MODEL_d84cefde43fa42ec9e4ab826e0e13063",
       "tooltip": "edit the user input information that is used when the script is executed"
      }
     },
     "998b156476f74130a7b11415077cb43b": {
      "model_module": "@jupyter-widgets/controls",
      "model_module_version": "1.5.0",
      "model_name": "ButtonModel",
      "state": {
       "button_style": "info",
       "description": "show log",
       "layout": "IPY_MODEL_82ee33d874984b18b4fdb6b55486d9d4",
       "style": "IPY_MODEL_e7ddf5f94e9b4385acc4889c7e9cbd2a",
       "tooltip": "show a log of when the script was executed to generate the outputs, and by who"
      }
     },
     "9a2842b4643a47c5895816e17ba2f5c5": {
      "model_module": "@jupyter-widgets/output",
      "model_module_version": "1.0.0",
      "model_name": "OutputModel",
      "state": {
       "layout": "IPY_MODEL_2e402b2cf5ee44f884ddaa2e1f2d4bf4"
      }
     },
     "9aa7269d321c49718ebea49b498ecd2e": {
      "model_module": "@jupyter-widgets/controls",
      "model_module_version": "1.5.0",
      "model_name": "HTMLModel",
      "state": {
       "layout": "IPY_MODEL_a6b78452c4c04163a131478173b334cf",
       "style": "IPY_MODEL_4231a7d03fbc4db7a4fa23e16d66d338",
       "value": "<p>Expansion vessel acceptance factor (= additional volume / expansion vessel volume):</p>"
      }
     },
     "9aad29d5d1244e83b2b3a31421275c51": {
      "model_module": "@jupyter-widgets/controls",
      "model_module_version": "1.5.0",
      "model_name": "BoxModel",
      "state": {
       "children": [
        "IPY_MODEL_7aaf74ccfdc246c5996acf2703089dc0"
       ],
       "layout": "IPY_MODEL_53ac038c12e14206905d10aa9a28e314"
      }
     },
     "9bab2215d2174645b1a54d7359c3c2da": {
      "model_module": "@jupyter-widgets/controls",
      "model_module_version": "1.5.0",
      "model_name": "VBoxModel",
      "state": {
       "children": [
        "IPY_MODEL_12db841ea27b40a8928d6b3c36f2c197",
        "IPY_MODEL_f69f4fba150d407bb53fecac39f5937e"
       ],
       "layout": "IPY_MODEL_3122d6594ed3401eab640d29cea0a6b8"
      }
     },
     "9ca35007a717403a86350107db1af47a": {
      "model_module": "@jupyter-widgets/controls",
      "model_module_version": "1.5.0",
      "model_name": "HTMLModel",
      "state": {
       "layout": "IPY_MODEL_80bdd5e37c4b4672835db93c9ac35dd5",
       "style": "IPY_MODEL_7462b3d6f712496393aa3f8ca15d44d4",
       "value": "<p>water_volume_m3</p>"
      }
     },
     "9d9ef101af3a406f9fe1619509b90eba": {
      "model_module": "@jupyter-widgets/base",
      "model_module_version": "1.2.0",
      "model_name": "LayoutModel",
      "state": {}
     },
     "9e40b7d53ca44258acb272fb68737a5d": {
      "model_module": "@jupyter-widgets/base",
      "model_module_version": "1.2.0",
      "model_name": "LayoutModel",
      "state": {}
     },
     "9eaf346f101348559543b2d384137f65": {
      "model_module": "@jupyter-widgets/base",
      "model_module_version": "1.2.0",
      "model_name": "LayoutModel",
      "state": {}
     },
     "9eb58e9e7b8f41a19f4484b37dc6d823": {
      "model_module": "@jupyter-widgets/base",
      "model_module_version": "1.2.0",
      "model_name": "LayoutModel",
      "state": {}
     },
     "9f0284edb3fb4f96b09a66a317653bc7": {
      "model_module": "@jupyter-widgets/base",
      "model_module_version": "1.2.0",
      "model_name": "LayoutModel",
      "state": {
       "align_items": "stretch",
       "display": "flex",
       "flex_flow": "row",
       "grid_auto_columns": "True",
       "justify_content": "flex-start",
       "width": "80%"
      }
     },
     "9f2c0a1631f6436282267c680a2d8613": {
      "model_module": "@jupyter-widgets/controls",
      "model_module_version": "1.5.0",
      "model_name": "TextModel",
      "state": {
       "description": "inputs",
       "disabled": true,
       "layout": "IPY_MODEL_55e6400ccda049e29c8a7bf4606bb11f",
       "style": "IPY_MODEL_562a252b240d4b0ab0872e84adf177b3",
       "value": "C:\\engDev\\git_mf\\ipyrun\\examples\\notebooks\\appdata\\inputs\\inputs-expansion_vessel_sizing.json"
      }
     },
     "a0451a2b3c1d4d58ab421dae555f2ec1": {
      "model_module": "@jupyter-widgets/controls",
      "model_module_version": "1.5.0",
      "model_name": "HBoxModel",
      "state": {
       "children": [
        "IPY_MODEL_570de58170584ec9a64ed4639739b0c5",
        "IPY_MODEL_78e1b0a3fbdb4c1583eba613724f35cd"
       ],
       "layout": "IPY_MODEL_448a6b13ceaa4f11a111c57fd4055b38"
      }
     },
     "a1e195eebceb47f180a2f6d49f5f8557": {
      "model_module": "@jupyter-widgets/base",
      "model_module_version": "1.2.0",
      "model_name": "LayoutModel",
      "state": {
       "width": "100%"
      }
     },
     "a24bc37d16b74608984577ad93235e49": {
      "model_module": "@jupyter-widgets/controls",
      "model_module_version": "1.5.0",
      "model_name": "HTMLModel",
      "state": {
       "layout": "IPY_MODEL_c37705ad92034c1db1de49eea271b29b",
       "style": "IPY_MODEL_c66778983b4940349e4dd859c0a3487c",
       "value": "<p>Heating system pipework length (m). Note: includes horizontal, vertical, flow and return.</p>"
      }
     },
     "a4090ab9cb034a9b8bdca91170bc89ef": {
      "model_module": "@jupyter-widgets/controls",
      "model_module_version": "1.5.0",
      "model_name": "VBoxModel",
      "state": {
       "children": [
        "IPY_MODEL_0a87d15b8515438081445ddc2ed07a3e",
        "IPY_MODEL_d2e29a00e8e448c897d58014c5f978c9",
        "IPY_MODEL_bf8a1b69fc0c4e65a1a77cb90e196434"
       ],
       "layout": "IPY_MODEL_2fc1840c705d42188f50e7d39cc7c8e7"
      }
     },
     "a44a58a6694f490293575d26baa8b8a8": {
      "model_module": "@jupyter-widgets/controls",
      "model_module_version": "1.5.0",
      "model_name": "FloatSliderModel",
      "state": {
       "layout": "IPY_MODEL_675afdf7acfe470fa238e4f7d3872483",
       "max": 2,
       "step": 0.1,
       "style": "IPY_MODEL_21d7c9eeda27415d8ae81bacf2f472de",
       "value": 1
      }
     },
     "a4627c921c2a4bbc8a550dee6caf1951": {
      "model_module": "@jupyter-widgets/controls",
      "model_module_version": "1.5.0",
      "model_name": "HBoxModel",
      "state": {
       "children": [
        "IPY_MODEL_2d8c684f03954df7bb987ded1671dac1",
        "IPY_MODEL_7f04c0eea598443eaabcfb6124285db8"
       ],
       "layout": "IPY_MODEL_b6b9961c7eca4bed9670512138137c6a"
      }
     },
     "a513a4bd421f48e396c4c9020d9ac022": {
      "model_module": "@jupyter-widgets/base",
      "model_module_version": "1.2.0",
      "model_name": "LayoutModel",
      "state": {}
     },
     "a576e3b8428e47dfb05b3c170e440a30": {
      "model_module": "@jupyter-widgets/controls",
      "model_module_version": "1.5.0",
      "model_name": "HTMLModel",
      "state": {
       "layout": "IPY_MODEL_4e4ee1e1b0b54180a94a609e2a67e84b",
       "style": "IPY_MODEL_8c27b58893d94713ad73a9a303e686ba",
       "value": "<p>effective pipework pressure loss (Pa/m)</p>"
      }
     },
     "a5a3572f95884de4ae950557ee48205f": {
      "model_module": "@jupyter-widgets/base",
      "model_module_version": "1.2.0",
      "model_name": "LayoutModel",
      "state": {}
     },
     "a5dde8b5da5d41c294d8a4a5e2146cd3": {
      "model_module": "@jupyter-widgets/controls",
      "model_module_version": "1.5.0",
      "model_name": "FloatTextModel",
      "state": {
       "layout": "IPY_MODEL_3413f11e712a46bcb25db0021438bea0",
       "step": null,
       "style": "IPY_MODEL_3b7cf5bb3adb4492a98f52cb952847b3",
       "value": 48
      }
     },
     "a6b757a9d1244a80934001874290470f": {
      "model_module": "@jupyter-widgets/controls",
      "model_module_version": "1.5.0",
      "model_name": "HBoxModel",
      "state": {
       "children": [
        "IPY_MODEL_a5dde8b5da5d41c294d8a4a5e2146cd3",
        "IPY_MODEL_5e5cf189d6a5479290a9c159321e7f18"
       ],
       "layout": "IPY_MODEL_08774c7071104808b64e53edfabebc64"
      }
     },
     "a6b78452c4c04163a131478173b334cf": {
      "model_module": "@jupyter-widgets/base",
      "model_module_version": "1.2.0",
      "model_name": "LayoutModel",
      "state": {}
     },
     "a6d9b5fe05294617a9dfdffb0f249895": {
      "model_module": "@jupyter-widgets/controls",
      "model_module_version": "1.5.0",
      "model_name": "ButtonStyleModel",
      "state": {
       "font_weight": "bold"
      }
     },
     "a78c7de030ae4650b9c3ce67ab4a7373": {
      "model_module": "@jupyter-widgets/controls",
      "model_module_version": "1.5.0",
      "model_name": "HBoxModel",
      "state": {
       "children": [
        "IPY_MODEL_7a9fa73d5c3843989cd5ac5ef690475d",
        "IPY_MODEL_b789a4a39fa54d37b148105052eb7669"
       ],
       "layout": "IPY_MODEL_77876f83c9cd4c619ea5eb9e106b2161"
      }
     },
     "a7a2441e845e47d289c91249a831fd7b": {
      "model_module": "@jupyter-widgets/controls",
      "model_module_version": "1.5.0",
      "model_name": "HBoxModel",
      "state": {
       "children": [
        "IPY_MODEL_717aa31ec2364064a29a2e1deb18dcb0",
        "IPY_MODEL_9215519cbb944994aa65d17389c99223"
       ],
       "layout": "IPY_MODEL_8efadb5f3b064e069f309932a85f7943"
      }
     },
     "a8d400be62624e6ebfc3fe8b57da0188": {
      "model_module": "@jupyter-widgets/base",
      "model_module_version": "1.2.0",
      "model_name": "LayoutModel",
      "state": {}
     },
     "a8fff757cfcb4c5090362d04a52ffa43": {
      "model_module": "@jupyter-widgets/base",
      "model_module_version": "1.2.0",
      "model_name": "LayoutModel",
      "state": {
       "width": "5%"
      }
     },
     "a9a1d7200d11482c85484b88aef09268": {
      "model_module": "@jupyter-widgets/controls",
      "model_module_version": "1.5.0",
      "model_name": "HBoxModel",
      "state": {
       "children": [
        "IPY_MODEL_ba7f4abcc1cb4a18bfa63b5a0c9a3fa6",
        "IPY_MODEL_8dae44c37b524c9d918a28dc13550e5d"
       ],
       "layout": "IPY_MODEL_833aed9431754c378e07ba72bee55a63"
      }
     },
     "a9b69db43399495a8c7757ddbc897fcb": {
      "model_module": "@jupyter-widgets/controls",
      "model_module_version": "1.5.0",
      "model_name": "DescriptionStyleModel",
      "state": {
       "description_width": ""
      }
     },
     "aa180333b2dc4d12a6e2da30f3b4f95d": {
      "model_module": "@jupyter-widgets/controls",
      "model_module_version": "1.5.0",
      "model_name": "HTMLModel",
      "state": {
       "layout": "IPY_MODEL_cb08e6e178ea426ab07e4b3eb20a76e0",
       "style": "IPY_MODEL_7200ba4ca73c4b87a74a3c2ce62226d5",
       "value": "<p>eV_acceptance_fraction</p>"
      }
     },
     "aa285f9eb072469799996521ad4e4a11": {
      "model_module": "@jupyter-widgets/controls",
      "model_module_version": "1.5.0",
      "model_name": "ButtonModel",
      "state": {
       "button_style": "success",
       "description": "save changes",
       "layout": "IPY_MODEL_9414f94684884082b0775038484cc8fa",
       "style": "IPY_MODEL_66b8ef116f0e4132a29fb1b8c7ab90fe"
      }
     },
     "aad3c3a2f97e489ba1ecd808512198aa": {
      "model_module": "@jupyter-widgets/base",
      "model_module_version": "1.2.0",
      "model_name": "LayoutModel",
      "state": {}
     },
     "ab0626ee1c9c4dd5abffb60c2df0792c": {
      "model_module": "@jupyter-widgets/controls",
      "model_module_version": "1.5.0",
      "model_name": "DescriptionStyleModel",
      "state": {
       "description_width": ""
      }
     },
     "abc08ce30ad44863be7791aa87e49767": {
      "model_module": "@jupyter-widgets/controls",
      "model_module_version": "1.5.0",
      "model_name": "SelectMultipleModel",
      "state": {
       "_options_labels": [
        "C:\\engDev\\git_mf\\ipyrun\\examples\\notebooks\\expansion_vessel_sizing.csv"
       ],
       "description": "outputs",
       "index": [],
       "layout": "IPY_MODEL_21bee4cf7b7546b6b2991992057bcf3b",
       "rows": 4,
       "style": "IPY_MODEL_cab6e89a50424ff9916812f81a807b3e"
      }
     },
     "ac2f6f607f624ca68849225c0aa9cb68": {
      "model_module": "@jupyter-widgets/controls",
      "model_module_version": "1.5.0",
      "model_name": "ButtonStyleModel",
      "state": {
       "font_weight": "bold"
      }
     },
     "acadc49b784a464eb05b3a735920a0b2": {
      "model_module": "@jupyter-widgets/controls",
      "model_module_version": "1.5.0",
      "model_name": "DescriptionStyleModel",
      "state": {
       "description_width": ""
      }
     },
     "acb9ce681d1a46619dd31e0e078c0b8e": {
      "model_module": "@jupyter-widgets/controls",
      "model_module_version": "1.5.0",
      "model_name": "FloatSliderModel",
      "state": {
       "layout": "IPY_MODEL_4b15b9945d694a9abe5f49e9a0e78249",
       "max": 1,
       "step": 0.1,
       "style": "IPY_MODEL_8ae6b5226cb44a54807bde7388383aee",
       "value": 0.3
      }
     },
     "ad5ee9014b454ca4a03ea5d7ee722b7f": {
      "model_module": "@jupyter-widgets/controls",
      "model_module_version": "1.5.0",
      "model_name": "HBoxModel",
      "state": {
       "children": [
        "IPY_MODEL_478146cb6d0244789889a96573279425"
       ],
       "layout": "IPY_MODEL_d5ab0adb019442fcbbf222065e7b3266"
      }
     },
     "adba9ad40dd94d999c140b75ca891c55": {
      "model_module": "@jupyter-widgets/controls",
      "model_module_version": "1.5.0",
      "model_name": "FloatSliderModel",
      "state": {
       "layout": "IPY_MODEL_08ffc59a11d543a79a28ed425ba76926",
       "max": 1,
       "step": 0.1,
       "style": "IPY_MODEL_294d153e257a4da498dc0acf8dd93225",
       "value": 0.3
      }
     },
     "ae301d163b2c4f37bdb706a5d7a1a995": {
      "model_module": "@jupyter-widgets/base",
      "model_module_version": "1.2.0",
      "model_name": "LayoutModel",
      "state": {
       "align_items": "stretch",
       "width": "100%"
      }
     },
     "aea2632fe460422d814682b534ac555f": {
      "model_module": "@jupyter-widgets/base",
      "model_module_version": "1.2.0",
      "model_name": "LayoutModel",
      "state": {
       "align_items": "stretch",
       "border": "dashed 0.2px green",
       "display": "flex",
       "flex_flow": "row",
       "grid_auto_columns": "True",
       "justify_content": "flex-start",
       "width": "100%"
      }
     },
     "af359391a95249ce8a6a3e42e4abfcb9": {
      "model_module": "@jupyter-widgets/base",
      "model_module_version": "1.2.0",
      "model_name": "LayoutModel",
      "state": {}
     },
     "afa2513ac6684608a3054b1e9a599567": {
      "model_module": "@jupyter-widgets/controls",
      "model_module_version": "1.5.0",
      "model_name": "HBoxModel",
      "state": {
       "children": [
        "IPY_MODEL_858f3d022f6146a3bc9155b33082d0ef"
       ],
       "layout": "IPY_MODEL_3d8a6a36186b4418960d36ab20dbfb9e"
      }
     },
     "afa9e310008143009d0e8c1c0fe63d08": {
      "model_module": "@jupyter-widgets/controls",
      "model_module_version": "1.5.0",
      "model_name": "DescriptionStyleModel",
      "state": {
       "description_width": ""
      }
     },
     "afaa5c77103b4fe79d1da17a181dc26c": {
      "model_module": "@jupyter-widgets/controls",
      "model_module_version": "1.5.0",
      "model_name": "HTMLModel",
      "state": {
       "layout": "IPY_MODEL_aad3c3a2f97e489ba1ecd808512198aa",
       "style": "IPY_MODEL_c696a31364974e92b56ff6f1ea81e1b1",
       "value": "<p>pipework_length_m</p>"
      }
     },
     "afb880e17c5c4507ac6425733a02536b": {
      "model_module": "@jupyter-widgets/controls",
      "model_module_version": "1.5.0",
      "model_name": "SliderStyleModel",
      "state": {
       "description_width": ""
      }
     },
     "afe9f55adcf544559e0207154f11db52": {
      "model_module": "@jupyter-widgets/base",
      "model_module_version": "1.2.0",
      "model_name": "LayoutModel",
      "state": {
       "align_items": "stretch",
       "display": "flex",
       "flex_flow": "row",
       "grid_auto_columns": "True",
       "justify_content": "flex-end",
       "width": "90%"
      }
     },
     "b0a2874d5e9c40379a2bdc4164fa7b7d": {
      "model_module": "@jupyter-widgets/controls",
      "model_module_version": "1.5.0",
      "model_name": "HBoxModel",
      "state": {
       "children": [
        "IPY_MODEL_7c5eac5780db444f99631460df497321",
        "IPY_MODEL_d18ea6b8d373409d8c7ba671ebcc9305"
       ],
       "layout": "IPY_MODEL_4fb90ef60fb1426e96c9e7d18e903427"
      }
     },
     "b0d4a54b9b0d4274a155d85ad29cf655": {
      "model_module": "@jupyter-widgets/controls",
      "model_module_version": "1.5.0",
      "model_name": "HBoxModel",
      "state": {
       "children": [
        "IPY_MODEL_371e58fec1124303ac536a11f5a78944",
        "IPY_MODEL_7632aafed32a477e8456248a2d06e2ca"
       ],
       "layout": "IPY_MODEL_b36385e6ab944323a0dcfdd0169f6419"
      }
     },
     "b0eb9662b3c4420f922e3458799b7af9": {
      "model_module": "@jupyter-widgets/controls",
      "model_module_version": "1.5.0",
      "model_name": "DescriptionStyleModel",
      "state": {
       "description_width": ""
      }
     },
     "b0edbb2af0154b849fa30f3683fad7f3": {
      "model_module": "@jupyter-widgets/base",
      "model_module_version": "1.2.0",
      "model_name": "LayoutModel",
      "state": {}
     },
     "b110a0ff5ec145369ce095866b2722d1": {
      "model_module": "@jupyter-widgets/controls",
      "model_module_version": "1.5.0",
      "model_name": "HTMLModel",
      "state": {
       "layout": "IPY_MODEL_f3091f455e104b76a16d06873916c295",
       "style": "IPY_MODEL_b61efb920d8d4ecea57f35fb21df21c6",
       "value": "<p>pipework_length_m</p>"
      }
     },
     "b1f0a7885f124ac5b12c4c165331a86f": {
      "model_module": "@jupyter-widgets/controls",
      "model_module_version": "1.5.0",
      "model_name": "HTMLModel",
      "state": {
       "layout": "IPY_MODEL_3b1c4b49f6e64345bf51a4fd4d882f9c",
       "style": "IPY_MODEL_1a369cd04d854824bda77258ad709942",
       "value": "<p>pipework_pressure_loss_pa_per_m</p>"
      }
     },
     "b24a5f87745b429faf230788164c1dfe": {
      "model_module": "@jupyter-widgets/controls",
      "model_module_version": "1.5.0",
      "model_name": "ButtonStyleModel",
      "state": {
       "font_weight": "bold"
      }
     },
     "b2787c67598b4443886a48e29a88efc8": {
      "model_module": "@jupyter-widgets/base",
      "model_module_version": "1.2.0",
      "model_name": "LayoutModel",
      "state": {}
     },
     "b2bb7dde9489466da78cbce32e7d9720": {
      "model_module": "@jupyter-widgets/controls",
      "model_module_version": "1.5.0",
      "model_name": "ButtonModel",
      "state": {
       "button_style": "info",
       "description": "show source code",
       "layout": "IPY_MODEL_3c9085ded6b74aca983deab235a2a2b3",
       "style": "IPY_MODEL_f2bdea37026b4817bf1aa6402abe68f3",
       "tooltip": "shows the raw python code in the preview window below"
      }
     },
     "b3405848beca4dd7bf38814cf579bd8e": {
      "model_module": "@jupyter-widgets/base",
      "model_module_version": "1.2.0",
      "model_name": "LayoutModel",
      "state": {}
     },
     "b3407a92dc604826841bdc45b2837a81": {
      "model_module": "@jupyter-widgets/controls",
      "model_module_version": "1.5.0",
      "model_name": "ButtonStyleModel",
      "state": {
       "font_weight": "bold"
      }
     },
     "b36385e6ab944323a0dcfdd0169f6419": {
      "model_module": "@jupyter-widgets/base",
      "model_module_version": "1.2.0",
      "model_name": "LayoutModel",
      "state": {
       "border": "0px",
       "margin": "0px",
       "padding": "0px"
      }
     },
     "b37390ed83a94a6e82b194d397ca8b03": {
      "model_module": "@jupyter-widgets/controls",
      "model_module_version": "1.5.0",
      "model_name": "ButtonModel",
      "state": {
       "icon": "eye-slash",
       "layout": "IPY_MODEL_bc7f473d7104404392fcc8e2e56969d7",
       "style": "IPY_MODEL_0b43a7e5557f4b03b65d26d092d5ad1c",
       "tooltip": "removes temporary output view"
      }
     },
     "b37bd0b042f747b4a3f7140c4f4c5908": {
      "model_module": "@jupyter-widgets/controls",
      "model_module_version": "1.5.0",
      "model_name": "ButtonModel",
      "state": {
       "button_style": "info",
       "description": "show guide",
       "layout": "IPY_MODEL_17bb39e05f014f67b69c307663d3f837",
       "style": "IPY_MODEL_81f0995dd80c4300820b8ee00abb6fd5",
       "tooltip": "read the \"docstring\", ie. the documentation that was written to accompany the script"
      }
     },
     "b3f9f8ae3557409081a0fc7b58c22041": {
      "model_module": "@jupyter-widgets/controls",
      "model_module_version": "1.5.0",
      "model_name": "HBoxModel",
      "state": {
       "children": [
        "IPY_MODEL_60df14d3cac34844a24f2cf64e52f6ad",
        "IPY_MODEL_a6b757a9d1244a80934001874290470f"
       ],
       "layout": "IPY_MODEL_f723cb61145d497bb9d598a2e7a1dc99"
      }
     },
     "b432018053d142c1bad7bd8c1e9a0769": {
      "model_module": "@jupyter-widgets/base",
      "model_module_version": "1.2.0",
      "model_name": "LayoutModel",
      "state": {}
     },
     "b44d9c303a0c4e41a72dd20ccbe579fd": {
      "model_module": "@jupyter-widgets/controls",
      "model_module_version": "1.5.0",
      "model_name": "HBoxModel",
      "state": {
       "children": [
        "IPY_MODEL_7dc720ce67d5490ea26708b817222f8d",
        "IPY_MODEL_734845d0d4bb44709e52670e91ecc7bc"
       ],
       "layout": "IPY_MODEL_75d638b565fc4e869eb726dc936c8c41"
      }
     },
     "b4558ea084ff4db387bcf8e9ea769010": {
      "model_module": "@jupyter-widgets/base",
      "model_module_version": "1.2.0",
      "model_name": "LayoutModel",
      "state": {}
     },
     "b4605f2354804e46b843dd4b6c44b327": {
      "model_module": "@jupyter-widgets/base",
      "model_module_version": "1.2.0",
      "model_name": "LayoutModel",
      "state": {}
     },
     "b4d068cf0ee548f8b51a3831f9718f2b": {
      "model_module": "@jupyter-widgets/controls",
      "model_module_version": "1.5.0",
      "model_name": "ButtonStyleModel",
      "state": {}
     },
     "b4f6b8a6862144419f81c79db7bb042a": {
      "model_module": "@jupyter-widgets/controls",
      "model_module_version": "1.5.0",
      "model_name": "FloatSliderModel",
      "state": {
       "layout": "IPY_MODEL_bea675f9010649e6949438866f2d08fc",
       "max": 2,
       "step": 0.1,
       "style": "IPY_MODEL_5fde28ff3de04635a97a015ce7420f8e",
       "value": 1
      }
     },
     "b529bdff6d0b4dd2b522ba4c62e66205": {
      "model_module": "@jupyter-widgets/controls",
      "model_module_version": "1.5.0",
      "model_name": "FloatTextModel",
      "state": {
       "layout": "IPY_MODEL_9eb58e9e7b8f41a19f4484b37dc6d823",
       "step": null,
       "style": "IPY_MODEL_2b524843d61b49a9bb9bb0f2d09073b9",
       "value": 48
      }
     },
     "b56895f6bb094451b57079a7a144408d": {
      "model_module": "@jupyter-widgets/controls",
      "model_module_version": "1.5.0",
      "model_name": "DescriptionStyleModel",
      "state": {
       "description_width": ""
      }
     },
     "b5c64698e64747cfa1f8e709f8f74d03": {
      "buffers": [
       {
        "data": "H4sIAAAAAAACA5WTz4rbMBDGX0XolELqWo6dZPdWSqE9tOTWgwll1h4rorJkJDlJWfJUfYM+WUfKbpZ1syx7+IwZ/eabP7LvuXSq5bf3vIUA/Lau+ReEoIxk/rcP2LMDBHRsb/XYI5v1f/+843Ne5FnOt/Oaf9qBkciUYTtUcheIiOflOp1+Pg5gvLKG7dF71AyaBocApkHWQROsIzbPFgme1B3UgAfrfjGNRobdg3FRrRK8eTwdHDmPDpm23rPZBj4krsrP/X0DJ6m5zroJ2Y7Ign2q0qkQq5NF56gz6jnaiPOQVrcEaP3kMbsD917CKDFVy0pRiSLBP9K+8DJ5Y7HrVKPQhDRsfp72Y9uqWAX09Q3n2fL6Cqc38XAR/3G9MqofeybBT3NEVr6QA8dLzvNR4c6TR0jT3mRiWZbVSpTFOj7fbHbZ2/qq0+RDIJ/sJQORZ6vFqw6XZJfClLf5Lmi92zlXpsXjT2cPPv4DBnqkl5p/jWGy4nvQYwrVORkLUkFakEpSRVqSVqQ16SYyCYykiKiIrCi329NjsSZehkme50hqORWilk6nf6W/e+6TAwAA",
        "encoding": "base64",
        "path": [
         "_grid_data_up"
        ]
       }
      ],
      "model_module": "ipyaggrid",
      "model_module_version": "~0.2.1",
      "model_name": "AgGridModel",
      "state": {
       "_grid_data_down": [
        {
         "index": "Heating system water volume (m³)",
         "value": "20.0"
        },
        {
         "index": "Change in height (m)",
         "value": "48"
        },
        {
         "index": "Expansion vessel acceptance factor",
         "value": "0.3"
        },
        {
         "index": "Heating system pipework length (m)",
         "value": "257"
        },
        {
         "index": "Pipework pressure loss (Pa/m)",
         "value": "500"
        },
        {
         "index": "Margin for pressure loss due to pipework fittings (fraction)",
         "value": "1"
        },
        {
         "index": "Cold fill pressure (bar-gauge)",
         "value": "5.41512"
        },
        {
         "index": "Water expansion coefficient",
         "value": "0.03"
        },
        {
         "index": "Additional water volume (m³)",
         "value": "0.6"
        },
        {
         "index": "Expansion vessel volume (m³)",
         "value": "2.0"
        },
        {
         "index": "Expansion vessel minimum gas volume (m³)",
         "value": "1.4"
        },
        {
         "index": "Expansion vessel maximum gas pressure (bar-absolute)",
         "value": "9.164457142857144"
        },
        {
         "index": "Expansion vessel maximum gas pressure (bar-gauge)",
         "value": "8.164457142857144"
        },
        {
         "index": "Heating system max. pressure (bar-gauge)",
         "value": "10.734457142857144"
        },
        {
         "index": "Heating system pressure rating",
         "value": "PN16"
        }
       ],
       "_grid_options_mono_down": "{\"enableSorting\": true, \"enableFilter\": true, \"enableColResize\": true, \"enableRangeSelection\": true, \"columnDefs\": [{\"field\": \"index\", \"type\": \"textColumn\", \"headerName\": \"Index\"}, {\"field\": \"value\", \"type\": \"textColumn\", \"headerName\": \"Value\"}], \"columnTypes\": {\"numberColumn\": {\"filter\": \"agNumberColumnFilter\"}, \"textColumn\": {\"filter\": \"agTextColumnFilter\"}, \"dateColumn\": {\"valueFormatter\": \"helpers.dateFormatter\", \"filter\": \"agDateColumnFilter\", \"filterParams\": {\"comparator\": \"helpers.compareDates\"}}}}",
       "_id": 191236612,
       "_js_helpers_builtin": "helpersBuiltin = {\n    dateFormatter: function(node) {\n        // make sure date is not undefined\n        if (node && node.value) {\n            let d = new Date(node.value);\n            let h = d.getHours();\n            let m = d.getMinutes();\n            let s = d.getSeconds();\n            const offset = d.getTimezoneOffset() * 60000;\n            d = new Date(d.getTime() - offset);\n            const ymd = d.toISOString().substring(0, 10);\n            if (h === 0 && m === 0 && s === 0) {\n                return ymd;\n            }\n            if (h === 0) h = '00';\n            if (m === 0) m = '00';\n            if (s === 0) s = '00';\n            return `${ymd} ${h}:${m}:${s}`;\n        }\n        return null;\n    },\n\n    formatInt: d3.format(',.0f'),\n    formatFloat: d3.format(',.2f'),\n\n    intFormatter: function(node) {\n        return formatInt(node.value);\n    },\n\n    floatFormatter: function(node) {\n        return formatFloat(node.value);\n    },\n\n    compareDates: function(filterLocalDate, cellValue) {\n        // Assume dates are stored as iso\n        const cellDate = new Date(cellValue);\n\n        if (cellDate < filterLocalDate) {\n            return -1;\n        } else if (cellDate > filterLocalDate) {\n            return 1;\n        }\n        return 0;\n    },\n\n    sizeToFit: function(gridOptions) {\n        gridOptions.api.sizeColumnsToFit();\n    },\n\n    autoSizeAll: function(gridOptions) {\n        const allColumnIds = [];\n        gridOptions.columnApi.getAllColumns().forEach(column => {\n            allColumnIds.push(column.colId);\n        });\n        gridOptions.columnApi.autoSizeColumns(allColumnIds);\n    },\n\n    /**\n     * Exporting data to CSV using ag-Grid api.\n     * @param {Object} gridOptions\n     */\n    exportToCsv: function(gridOptions) {\n        const params = {\n            skipHeader: false,\n            columnGroups: true,\n            skipFooters: false,\n            skipGroups: false,\n            skipPinnedTop: false,\n            skipPinnedBottom: false,\n            allColumns: true,\n            onlySelected: false,\n            suppressQuotes: true,\n            fileName: 'my_file.csv',\n            sheetName: 'my_sheet',\n            shouldRowBeSkipped: () => false,\n            processCellCallback: param => param.value,\n            processHeaderCallback: null,\n        };\n        gridOptions.api.exportDataAsCsv(params);\n    },\n\n    /**\n     * Exporting data to Excel using ag-Grid api.\n     * @param {Object} gridOptions\n     */\n    exportToExcel: function(gridOptions) {\n        const params = {\n            skipHeader: false,\n            columnGroups: true,\n            skipFooters: false,\n            skipGroups: false,\n            skipPinnedTop: false,\n            skipPinnedBottom: false,\n            allColumns: true,\n            onlySelected: false,\n            suppressQuotes: true,\n            fileName: 'my_file.xls',\n            sheetName: 'my_sheet',\n            shouldRowBeSkipped: () => false, // TODO : check\n            processCellCallback: param => param.value,\n            processHeaderCallback: null,\n        };\n        gridOptions.api.exportDataAsExcel(params);\n    },\n};\n",
       "columns_fit": "size_to_fit",
       "compress_data": true,
       "export_mode": "disabled",
       "height": "350px",
       "js_helpers": "{\"dateFormatter\":\"function(node) {\\n        // make sure date is not undefined\\n        if (node && node.value) {\\n            let d = new Date(node.value);\\n            let h = d.getHours();\\n            let m = d.getMinutes();\\n            let s = d.getSeconds();\\n            const offset = d.getTimezoneOffset() * 60000;\\n            d = new Date(d.getTime() - offset);\\n            const ymd = d.toISOString().substring(0, 10);\\n            if (h === 0 && m === 0 && s === 0) {\\n                return ymd;\\n            }\\n            if (h === 0) h = '00';\\n            if (m === 0) m = '00';\\n            if (s === 0) s = '00';\\n            return `${ymd} ${h}:${m}:${s}`;\\n        }\\n        return null;\\n    }\",\"formatInt\":\" >-,.0f\",\"formatFloat\":\" >-,.2f\",\"intFormatter\":\"function(node) {\\n        return formatInt(node.value);\\n    }\",\"floatFormatter\":\"function(node) {\\n        return formatFloat(node.value);\\n    }\",\"compareDates\":\"function(filterLocalDate, cellValue) {\\n        // Assume dates are stored as iso\\n        const cellDate = new Date(cellValue);\\n\\n        if (cellDate < filterLocalDate) {\\n            return -1;\\n        } else if (cellDate > filterLocalDate) {\\n            return 1;\\n        }\\n        return 0;\\n    }\",\"sizeToFit\":\"function(gridOptions) {\\n        gridOptions.api.sizeColumnsToFit();\\n    }\",\"autoSizeAll\":\"function(gridOptions) {\\n        const allColumnIds = [];\\n        gridOptions.columnApi.getAllColumns().forEach(column => {\\n            allColumnIds.push(column.colId);\\n        });\\n        gridOptions.columnApi.autoSizeColumns(allColumnIds);\\n    }\",\"exportToCsv\":\"function(gridOptions) {\\n        const params = {\\n            skipHeader: false,\\n            columnGroups: true,\\n            skipFooters: false,\\n            skipGroups: false,\\n            skipPinnedTop: false,\\n            skipPinnedBottom: false,\\n            allColumns: true,\\n            onlySelected: false,\\n            suppressQuotes: true,\\n            fileName: 'my_file.csv',\\n            sheetName: 'my_sheet',\\n            shouldRowBeSkipped: () => false,\\n            processCellCallback: param => param.value,\\n            processHeaderCallback: null,\\n        };\\n        gridOptions.api.exportDataAsCsv(params);\\n    }\",\"exportToExcel\":\"function(gridOptions) {\\n        const params = {\\n            skipHeader: false,\\n            columnGroups: true,\\n            skipFooters: false,\\n            skipGroups: false,\\n            skipPinnedTop: false,\\n            skipPinnedBottom: false,\\n            allColumns: true,\\n            onlySelected: false,\\n            suppressQuotes: true,\\n            fileName: 'my_file.xls',\\n            sheetName: 'my_sheet',\\n            shouldRowBeSkipped: () => false, // TODO : check\\n            processCellCallback: param => param.value,\\n            processHeaderCallback: null,\\n        };\\n        gridOptions.api.exportDataAsExcel(params);\\n    }\"}",
       "layout": "IPY_MODEL_72d0625fb433438eae3b5214b647383e",
       "menu": {
        "button_div_css": ".flex-button-div-191236612 {\ndisplay: flex;\njustify-content: flex-start;\nalign-items: flex-start;\nalign-content: flex-start;\nflex-flow: row wrap;\n}\n",
        "buttons": [],
        "input_div_css": ".flex-input-div-191236612 {\ndisplay: flex;\njustify-content: flex-start;\nalign-items: baseline;\nalign-content: flex-start;\nflex-flow: row wrap;\n}\n",
        "inputs": [
         {
          "css": ".flex-child-quick-filter-191236612 {\norder: 0;\nalign-self: auto;\nmargin: 5px;\nflex: 0.00 1.00 auto;\nwidth: 150px;\n}\n",
          "name": "Quick Filter"
         }
        ],
        "menu_div_css": ".flex-menu-div-191236612 {\ndisplay: flex;\njustify-content: flex-start;\nalign-items: flex-start;\nalign-content: flex-start;\nflex-flow: row wrap;\n}\n"
       },
       "theme": "ag-theme-balham",
       "width": "100%"
      }
     },
     "b61efb920d8d4ecea57f35fb21df21c6": {
      "model_module": "@jupyter-widgets/controls",
      "model_module_version": "1.5.0",
      "model_name": "DescriptionStyleModel",
      "state": {
       "description_width": ""
      }
     },
     "b68e93d15f974105a1ea927f960c343c": {
      "model_module": "@jupyter-widgets/controls",
      "model_module_version": "1.5.0",
      "model_name": "RadioButtonsModel",
      "state": {
       "index": null,
       "layout": "IPY_MODEL_c26ec2cfbb474f8ca18855ad03dda109",
       "style": "IPY_MODEL_5570d24c74ef432db8266fe847495cde"
      }
     },
     "b6b9961c7eca4bed9670512138137c6a": {
      "model_module": "@jupyter-widgets/base",
      "model_module_version": "1.2.0",
      "model_name": "LayoutModel",
      "state": {
       "border": "0px",
       "margin": "0px",
       "padding": "0px"
      }
     },
     "b6c06d858e7d47769d2cadcf5dec5fb8": {
      "model_module": "@jupyter-widgets/controls",
      "model_module_version": "1.5.0",
      "model_name": "DescriptionStyleModel",
      "state": {
       "description_width": ""
      }
     },
     "b6f339272865411b84a8ea76eb328b39": {
      "model_module": "@jupyter-widgets/base",
      "model_module_version": "1.2.0",
      "model_name": "LayoutModel",
      "state": {
       "align_items": "stretch",
       "display": "flex",
       "flex_flow": "row",
       "grid_auto_columns": "True",
       "justify_content": "flex-end",
       "width": "90%"
      }
     },
     "b7083f997b3242018317e42abfa9af8d": {
      "model_module": "@jupyter-widgets/base",
      "model_module_version": "1.2.0",
      "model_name": "LayoutModel",
      "state": {}
     },
     "b76d51918f47443f87ebbd2f63752dee": {
      "model_module": "@jupyter-widgets/controls",
      "model_module_version": "1.5.0",
      "model_name": "ButtonStyleModel",
      "state": {
       "font_weight": "bold"
      }
     },
     "b77ad342d090423c93d6cce98d785682": {
      "model_module": "@jupyter-widgets/controls",
      "model_module_version": "1.5.0",
      "model_name": "ButtonStyleModel",
      "state": {
       "font_weight": "bold"
      }
     },
     "b789a4a39fa54d37b148105052eb7669": {
      "model_module": "@jupyter-widgets/controls",
      "model_module_version": "1.5.0",
      "model_name": "HBoxModel",
      "state": {
       "children": [
        "IPY_MODEL_2aac2bd72c2e4a84b58736f489f9b114",
        "IPY_MODEL_a24bc37d16b74608984577ad93235e49"
       ],
       "layout": "IPY_MODEL_752b02b192804279b54275f48ef9357b"
      }
     },
     "b7a02cbae11f4aa09511acc90d830542": {
      "model_module": "@jupyter-widgets/base",
      "model_module_version": "1.2.0",
      "model_name": "LayoutModel",
      "state": {
       "align_items": "stretch",
       "display": "flex",
       "flex_flow": "row",
       "grid_auto_columns": "True",
       "justify_content": "flex-end",
       "width": "90%"
      }
     },
     "b7abdee501184a4ab0f47be92d339788": {
      "model_module": "@jupyter-widgets/controls",
      "model_module_version": "1.5.0",
      "model_name": "DescriptionStyleModel",
      "state": {
       "description_width": ""
      }
     },
     "b7ad626d58354f4db19e8c1d04057927": {
      "model_module": "@jupyter-widgets/base",
      "model_module_version": "1.2.0",
      "model_name": "LayoutModel",
      "state": {}
     },
     "b7fba35fdb9c4cdf8cedbb84fa108ab7": {
      "model_module": "@jupyter-widgets/controls",
      "model_module_version": "1.5.0",
      "model_name": "ButtonModel",
      "state": {
       "description": "load",
       "icon": "upload",
       "layout": "IPY_MODEL_d2264113ca6f4f01b26eb9b31413f3f3",
       "style": "IPY_MODEL_1d5d981d90f44351a991fa0446ce29f1"
      }
     },
     "b8d625ffad724edd869b39147657dc34": {
      "model_module": "@jupyter-widgets/base",
      "model_module_version": "1.2.0",
      "model_name": "LayoutModel",
      "state": {}
     },
     "b9607df6ce334a0fa1a2b7517c920c85": {
      "model_module": "@jupyter-widgets/output",
      "model_module_version": "1.0.0",
      "model_name": "OutputModel",
      "state": {
       "layout": "IPY_MODEL_c53c0c85a6f647a79c5bff2c517e0e05"
      }
     },
     "b9caa8351f85469580762d4603ea1890": {
      "model_module": "@jupyter-widgets/base",
      "model_module_version": "1.2.0",
      "model_name": "LayoutModel",
      "state": {}
     },
     "b9f08ef3299741449ad6fc3523af3b4d": {
      "model_module": "@jupyter-widgets/base",
      "model_module_version": "1.2.0",
      "model_name": "LayoutModel",
      "state": {
       "align_items": "stretch",
       "display": "flex",
       "flex_flow": "row",
       "grid_auto_columns": "True",
       "justify_content": "flex-start",
       "width": "80%"
      }
     },
     "ba0e3b23f2cd44f49932c450d5778fc6": {
      "model_module": "@jupyter-widgets/controls",
      "model_module_version": "1.5.0",
      "model_name": "ButtonStyleModel",
      "state": {}
     },
     "ba4e26362fa540a0a35f5aa49e801f1f": {
      "model_module": "@jupyter-widgets/controls",
      "model_module_version": "1.5.0",
      "model_name": "ButtonStyleModel",
      "state": {
       "font_weight": "bold"
      }
     },
     "ba7f4abcc1cb4a18bfa63b5a0c9a3fa6": {
      "model_module": "@jupyter-widgets/controls",
      "model_module_version": "1.5.0",
      "model_name": "CheckboxModel",
      "state": {
       "disabled": false,
       "indent": false,
       "layout": "IPY_MODEL_8909bc156b754e759d159d45dce1e36a",
       "style": "IPY_MODEL_761605e904044598ad2c1a95bd534a21",
       "value": false
      }
     },
     "babfc5ea16224a70adc05c9ef0b72977": {
      "model_module": "@jupyter-widgets/base",
      "model_module_version": "1.2.0",
      "model_name": "LayoutModel",
      "state": {
       "align_items": "stretch",
       "display": "flex",
       "flex_flow": "row",
       "grid_auto_columns": "True",
       "justify_content": "flex-start",
       "width": "80%"
      }
     },
     "bb1fb95736b64bffb05d5bdebc1bc709": {
      "model_module": "@jupyter-widgets/controls",
      "model_module_version": "1.5.0",
      "model_name": "ButtonStyleModel",
      "state": {
       "font_weight": "bold"
      }
     },
     "bb616dc24997429db9e647c3778a2631": {
      "model_module": "@jupyter-widgets/base",
      "model_module_version": "1.2.0",
      "model_name": "LayoutModel",
      "state": {}
     },
     "bc7bb5d1e4e64f188c389439004bb57b": {
      "model_module": "@jupyter-widgets/base",
      "model_module_version": "1.2.0",
      "model_name": "LayoutModel",
      "state": {
       "border": "0px",
       "margin": "0px",
       "padding": "0px"
      }
     },
     "bc7f473d7104404392fcc8e2e56969d7": {
      "model_module": "@jupyter-widgets/base",
      "model_module_version": "1.2.0",
      "model_name": "LayoutModel",
      "state": {
       "width": "5%"
      }
     },
     "bd14aff7f2ab448b8b818e74fc7e3924": {
      "model_module": "@jupyter-widgets/base",
      "model_module_version": "1.2.0",
      "model_name": "LayoutModel",
      "state": {
       "align_items": "stretch",
       "border": "dashed 0.2px green",
       "display": "flex",
       "flex_flow": "row",
       "grid_auto_columns": "True",
       "justify_content": "flex-start",
       "width": "100%"
      }
     },
     "bd1607c6d1ed4dddb1d7b7c1b1a27bb8": {
      "model_module": "@jupyter-widgets/controls",
      "model_module_version": "1.5.0",
      "model_name": "ButtonModel",
      "state": {
       "icon": "question-circle",
       "layout": "IPY_MODEL_a8fff757cfcb4c5090362d04a52ffa43",
       "style": "IPY_MODEL_fffe1778b3744718862a4604dec822d1",
       "tooltip": "describes the functionality of elements in the RunApp interface"
      }
     },
     "bd5d8eb8e060457ab2dccfc0ef5fe327": {
      "model_module": "@jupyter-widgets/controls",
      "model_module_version": "1.5.0",
      "model_name": "VBoxModel",
      "state": {
       "children": [
        "IPY_MODEL_0a87d15b8515438081445ddc2ed07a3e",
        "IPY_MODEL_d2e29a00e8e448c897d58014c5f978c9",
        "IPY_MODEL_bf8a1b69fc0c4e65a1a77cb90e196434"
       ],
       "layout": "IPY_MODEL_3b96987c3b8c4bbd850cf04d23ee73cb"
      }
     },
     "be0f705af4314959a78ea2e9c803b758": {
      "model_module": "@jupyter-widgets/controls",
      "model_module_version": "1.5.0",
      "model_name": "ButtonStyleModel",
      "state": {
       "font_weight": "bold"
      }
     },
     "be79139c341548d8860f9b365a918980": {
      "model_module": "@jupyter-widgets/controls",
      "model_module_version": "1.5.0",
      "model_name": "DescriptionStyleModel",
      "state": {
       "description_width": ""
      }
     },
     "be7bb273aa7b44ffb06c182751d7deee": {
      "model_module": "@jupyter-widgets/controls",
      "model_module_version": "1.5.0",
      "model_name": "ButtonStyleModel",
      "state": {
       "font_weight": "bold"
      }
     },
     "bea675f9010649e6949438866f2d08fc": {
      "model_module": "@jupyter-widgets/base",
      "model_module_version": "1.2.0",
      "model_name": "LayoutModel",
      "state": {}
     },
     "bf0400317cca477a82ed5af3a79dff00": {
      "model_module": "@jupyter-widgets/base",
      "model_module_version": "1.2.0",
      "model_name": "LayoutModel",
      "state": {
       "height": "30px",
       "width": "auto"
      }
     },
     "bf1ddc00ea9d43268f2d8ea4721fa5e4": {
      "model_module": "@jupyter-widgets/controls",
      "model_module_version": "1.5.0",
      "model_name": "HBoxModel",
      "state": {
       "children": [
        "IPY_MODEL_dbc9b42b54fe44d6acce00dc92fdefd9",
        "IPY_MODEL_d8c2854090ed4c6c80672284cf368b9e",
        "IPY_MODEL_7aa6e9bf36564182895f26b7154b7db7",
        "IPY_MODEL_41b735099929413cba25534fdbcf9047",
        "IPY_MODEL_6a5cea33a56e4371a5ca3de87f1b2da4",
        "IPY_MODEL_db8c75a7d69342ac947899addda6d5ce",
        "IPY_MODEL_7192b41c7557442196c1d36f06134e45"
       ],
       "layout": "IPY_MODEL_ae301d163b2c4f37bdb706a5d7a1a995"
      }
     },
     "bf859d6c325e4ebf83eae21e9cedefe6": {
      "model_module": "@jupyter-widgets/controls",
      "model_module_version": "1.5.0",
      "model_name": "HTMLModel",
      "state": {
       "layout": "IPY_MODEL_8fa227426d0548ad8d37439ad062ba2e",
       "style": "IPY_MODEL_7a94f0d58c5946cfb15c4ca069e8646d",
       "value": "<p>From BS7074. The max between this and: 0.15 * static_pressure_barg  is used (Paul Button rule of thumb)</p>"
      }
     },
     "bf8a1b69fc0c4e65a1a77cb90e196434": {
      "model_module": "@jupyter-widgets/controls",
      "model_module_version": "1.5.0",
      "model_name": "VBoxModel",
      "state": {
       "children": [
        "IPY_MODEL_b7fba35fdb9c4cdf8cedbb84fa108ab7",
        "IPY_MODEL_b68e93d15f974105a1ea927f960c343c"
       ],
       "layout": "IPY_MODEL_3bea9d9e592748d2adc7d08a414c546e"
      }
     },
     "bfd874701c97475f9902fb32679c7ed4": {
      "model_module": "@jupyter-widgets/base",
      "model_module_version": "1.2.0",
      "model_name": "LayoutModel",
      "state": {}
     },
     "c0c8d151f1a5447d954080a562c98d7f": {
      "model_module": "@jupyter-widgets/controls",
      "model_module_version": "1.5.0",
      "model_name": "TextModel",
      "state": {
       "description": "script",
       "disabled": true,
       "layout": "IPY_MODEL_f12e3f93faf94bd39aed2997a547061b",
       "style": "IPY_MODEL_2532bf6b4e6f45348caff7a6d1064926",
       "value": "C:\\engDev\\git_mf\\ipyrun\\examples\\scripts\\expansion_vessel_sizing.py"
      }
     },
     "c0d356b3a8c1498a93365a742b543a6f": {
      "model_module": "@jupyter-widgets/base",
      "model_module_version": "1.2.0",
      "model_name": "LayoutModel",
      "state": {
       "display": "flex",
       "flex_flow": "row",
       "grid_auto_columns": "False",
       "justify_content": "flex-start",
       "width": "100%"
      }
     },
     "c156f78d5d084639ab01788b5fb34043": {
      "model_module": "@jupyter-widgets/controls",
      "model_module_version": "1.5.0",
      "model_name": "HTMLModel",
      "state": {
       "layout": "IPY_MODEL_b9caa8351f85469580762d4603ea1890",
       "style": "IPY_MODEL_3aeabdea3e9a460694cab0fb7d0fa724",
       "value": "<p>edit user input form below</p>"
      }
     },
     "c1a158e6bca74c17b362b9d11f4c4494": {
      "model_module": "@jupyter-widgets/controls",
      "model_module_version": "1.5.0",
      "model_name": "HTMLModel",
      "state": {
       "layout": "IPY_MODEL_e23e0e332cae4260942b1c8197b89519",
       "style": "IPY_MODEL_23bda3dfb84844fcae95ac7481ea3b2a",
       "value": "<p>water_volume_m3</p>"
      }
     },
     "c2174f86397b466d803f82c32e7c34fc": {
      "model_module": "@jupyter-widgets/controls",
      "model_module_version": "1.5.0",
      "model_name": "HBoxModel",
      "state": {
       "children": [
        "IPY_MODEL_dc06d895ed354b03bb358d16b23ea784"
       ],
       "layout": "IPY_MODEL_c4c29273f75b40c3b78a5227ccc6aa6f"
      }
     },
     "c2433168f3b64f8487327c88fc3f9ba1": {
      "model_module": "@jupyter-widgets/base",
      "model_module_version": "1.2.0",
      "model_name": "LayoutModel",
      "state": {}
     },
     "c26ec2cfbb474f8ca18855ad03dda109": {
      "model_module": "@jupyter-widgets/base",
      "model_module_version": "1.2.0",
      "model_name": "LayoutModel",
      "state": {
       "display": "flex",
       "flex_flow": "row",
       "grid_auto_columns": "False",
       "justify_content": "flex-start",
       "width": "100%"
      }
     },
     "c2e231af40f8423392ed7bfeb0fdde6e": {
      "model_module": "@jupyter-widgets/base",
      "model_module_version": "1.2.0",
      "model_name": "LayoutModel",
      "state": {}
     },
     "c325d09d42c34676b0aa73121410a8e3": {
      "model_module": "@jupyter-widgets/controls",
      "model_module_version": "1.5.0",
      "model_name": "ButtonStyleModel",
      "state": {
       "font_weight": "bold"
      }
     },
     "c3464b6bf1a64466a81ba5c61bc452c2": {
      "model_module": "@jupyter-widgets/controls",
      "model_module_version": "1.5.0",
      "model_name": "BoxModel",
      "state": {
       "children": [
        "IPY_MODEL_6366563ae31e4ff59bea752939c398a2"
       ],
       "layout": "IPY_MODEL_5ec4e1c87a604fac809e9f05c2d55afa"
      }
     },
     "c37705ad92034c1db1de49eea271b29b": {
      "model_module": "@jupyter-widgets/base",
      "model_module_version": "1.2.0",
      "model_name": "LayoutModel",
      "state": {}
     },
     "c49912b4f0c1449190330bcf708c5661": {
      "model_module": "@jupyter-widgets/base",
      "model_module_version": "1.2.0",
      "model_name": "LayoutModel",
      "state": {}
     },
     "c4c29273f75b40c3b78a5227ccc6aa6f": {
      "model_module": "@jupyter-widgets/base",
      "model_module_version": "1.2.0",
      "model_name": "LayoutModel",
      "state": {
       "align_items": "stretch",
       "border": "dashed 0.2px green",
       "display": "flex",
       "flex_flow": "row",
       "grid_auto_columns": "True",
       "justify_content": "flex-start",
       "width": "100%"
      }
     },
     "c503399ed7464163b376cf2e5bff4ad1": {
      "model_module": "@jupyter-widgets/controls",
      "model_module_version": "1.5.0",
      "model_name": "DescriptionStyleModel",
      "state": {
       "description_width": ""
      }
     },
     "c53c0c85a6f647a79c5bff2c517e0e05": {
      "model_module": "@jupyter-widgets/base",
      "model_module_version": "1.2.0",
      "model_name": "LayoutModel",
      "state": {}
     },
     "c5b3312084ee490da754a2e14a05cdf4": {
      "model_module": "@jupyter-widgets/base",
      "model_module_version": "1.2.0",
      "model_name": "LayoutModel",
      "state": {}
     },
     "c5e5d45128b046a59641e54536613fef": {
      "model_module": "@jupyter-widgets/controls",
      "model_module_version": "1.5.0",
      "model_name": "DescriptionStyleModel",
      "state": {
       "description_width": ""
      }
     },
     "c640e4b0027943bfad0ca8fa9224178b": {
      "model_module": "@jupyter-widgets/controls",
      "model_module_version": "1.5.0",
      "model_name": "ButtonModel",
      "state": {
       "button_style": "warning",
       "description": "edit inputs",
       "layout": "IPY_MODEL_922d3b2e1c974cfea26e4106447da511",
       "style": "IPY_MODEL_c325d09d42c34676b0aa73121410a8e3",
       "tooltip": "edit the user input information that is used when the script is executed"
      }
     },
     "c66778983b4940349e4dd859c0a3487c": {
      "model_module": "@jupyter-widgets/controls",
      "model_module_version": "1.5.0",
      "model_name": "DescriptionStyleModel",
      "state": {
       "description_width": ""
      }
     },
     "c696a31364974e92b56ff6f1ea81e1b1": {
      "model_module": "@jupyter-widgets/controls",
      "model_module_version": "1.5.0",
      "model_name": "DescriptionStyleModel",
      "state": {
       "description_width": ""
      }
     },
     "c7b3ffaae0354f60bac4d0eec905b7cd": {
      "model_module": "@jupyter-widgets/base",
      "model_module_version": "1.2.0",
      "model_name": "LayoutModel",
      "state": {}
     },
     "c7c1cf4d70934e46957664725f413960": {
      "model_module": "@jupyter-widgets/controls",
      "model_module_version": "1.5.0",
      "model_name": "DescriptionStyleModel",
      "state": {
       "description_width": ""
      }
     },
     "c7d02c99b4da4120b45f3eeea7e65104": {
      "model_module": "@jupyter-widgets/base",
      "model_module_version": "1.2.0",
      "model_name": "LayoutModel",
      "state": {
       "align_items": "stretch",
       "display": "flex",
       "flex_flow": "row",
       "grid_auto_columns": "True",
       "justify_content": "flex-start",
       "width": "80%"
      }
     },
     "c7dbc405aae44779afa14d21caac0cae": {
      "model_module": "@jupyter-widgets/base",
      "model_module_version": "1.2.0",
      "model_name": "LayoutModel",
      "state": {}
     },
     "c86266c849164373aa8bb85ec41a762f": {
      "model_module": "@jupyter-widgets/controls",
      "model_module_version": "1.5.0",
      "model_name": "DescriptionStyleModel",
      "state": {
       "description_width": ""
      }
     },
     "c8b788e273d140cbbad2bc7f3fb64d05": {
      "model_module": "@jupyter-widgets/base",
      "model_module_version": "1.2.0",
      "model_name": "LayoutModel",
      "state": {
       "align_items": "stretch",
       "width": "100%"
      }
     },
     "c940ffc9c3484f89b5ca1eda7131a342": {
      "model_module": "@jupyter-widgets/base",
      "model_module_version": "1.2.0",
      "model_name": "LayoutModel",
      "state": {}
     },
     "c9cc7df0944b4615beb5f4f54ec37dd8": {
      "model_module": "@jupyter-widgets/controls",
      "model_module_version": "1.5.0",
      "model_name": "ButtonModel",
      "state": {
       "button_style": "warning",
       "description": "edit inputs",
       "layout": "IPY_MODEL_9183c253357142bb97682aefc14cf966",
       "style": "IPY_MODEL_3d540ce564bc45cb84f32bc7ca90a18b",
       "tooltip": "edit the user input information that is used when the script is executed"
      }
     },
     "ca4062d65dbe4635a05e67601a62dd93": {
      "model_module": "@jupyter-widgets/controls",
      "model_module_version": "1.5.0",
      "model_name": "HBoxModel",
      "state": {
       "children": [
        "IPY_MODEL_2b394aa2478042a7bf956b9979b14364"
       ],
       "layout": "IPY_MODEL_54c6620a918c410dacbce0a32ecc7cfc"
      }
     },
     "cab6e89a50424ff9916812f81a807b3e": {
      "model_module": "@jupyter-widgets/controls",
      "model_module_version": "1.5.0",
      "model_name": "DescriptionStyleModel",
      "state": {
       "description_width": ""
      }
     },
     "cac1058eaa1c4600b28a599d11a7e0c1": {
      "model_module": "@jupyter-widgets/controls",
      "model_module_version": "1.5.0",
      "model_name": "HTMLModel",
      "state": {
       "layout": "IPY_MODEL_7f079a47c8fa405981c806690c3691e6",
       "style": "IPY_MODEL_737a6f1b972b4d06874d4fbb9f194a5b",
       "value": "<p>From BS7074. The max between this and: 0.15 * static_pressure_barg  is used (Paul Button rule of thumb)</p>"
      }
     },
     "cb08e6e178ea426ab07e4b3eb20a76e0": {
      "model_module": "@jupyter-widgets/base",
      "model_module_version": "1.2.0",
      "model_name": "LayoutModel",
      "state": {}
     },
     "cb76180109b44b05b6fdbc33c8599293": {
      "model_module": "@jupyter-widgets/base",
      "model_module_version": "1.2.0",
      "model_name": "LayoutModel",
      "state": {
       "align_items": "stretch",
       "display": "flex",
       "flex_flow": "row",
       "grid_auto_columns": "True",
       "justify_content": "flex-end",
       "width": "90%"
      }
     },
     "ccfca2ce610e483794d4bcce3195de02": {
      "model_module": "@jupyter-widgets/controls",
      "model_module_version": "1.5.0",
      "model_name": "DescriptionStyleModel",
      "state": {
       "description_width": ""
      }
     },
     "cd568ef75dcc4a74b962ab75f0078f5d": {
      "model_module": "@jupyter-widgets/base",
      "model_module_version": "1.2.0",
      "model_name": "LayoutModel",
      "state": {}
     },
     "cdccc6f28f7046df8a1d46ef3710b2e0": {
      "model_module": "@jupyter-widgets/output",
      "model_module_version": "1.0.0",
      "model_name": "OutputModel",
      "state": {
       "layout": "IPY_MODEL_9eaf346f101348559543b2d384137f65"
      }
     },
     "cdcf277f4a4c445dbcd6550e50f21f81": {
      "model_module": "@jupyter-widgets/controls",
      "model_module_version": "1.5.0",
      "model_name": "HTMLModel",
      "state": {
       "layout": "IPY_MODEL_f7976ac482b142ab8f33ca250b948e3f",
       "style": "IPY_MODEL_551a85cc3dbd4d94af012dcc600fb16a",
       "value": "<p>pipework_pressure_loss_margin_fraction</p>"
      }
     },
     "ce68f73a987040ca99f0ff843fe2aeaf": {
      "model_module": "@jupyter-widgets/output",
      "model_module_version": "1.0.0",
      "model_name": "OutputModel",
      "state": {
       "layout": "IPY_MODEL_bfd874701c97475f9902fb32679c7ed4"
      }
     },
     "cfa9ae96ad8a4002a8c575926a17dfe3": {
      "model_module": "@jupyter-widgets/controls",
      "model_module_version": "1.5.0",
      "model_name": "HBoxModel",
      "state": {
       "children": [
        "IPY_MODEL_b4f6b8a6862144419f81c79db7bb042a",
        "IPY_MODEL_63c4608485d64222868ae049ed3f014a"
       ],
       "layout": "IPY_MODEL_4ce01ec274ed4c6ab3c505fc645ea53e"
      }
     },
     "d0588a21ba0d416ead0351f3609e05db": {
      "model_module": "@jupyter-widgets/controls",
      "model_module_version": "1.5.0",
      "model_name": "VBoxModel",
      "state": {
       "children": [
        "IPY_MODEL_4ae46bf014d2488682192eb920b2e02a",
        "IPY_MODEL_d840c286affd42b9966394c701fbf862"
       ],
       "layout": "IPY_MODEL_1d61c4991ad9486f9b35fa13d2aa6514"
      }
     },
     "d0d64671b218452280e17121499610fa": {
      "model_module": "@jupyter-widgets/base",
      "model_module_version": "1.2.0",
      "model_name": "LayoutModel",
      "state": {}
     },
     "d1806522a0214fe1a056ca0f51c7178c": {
      "model_module": "@jupyter-widgets/controls",
      "model_module_version": "1.5.0",
      "model_name": "DescriptionStyleModel",
      "state": {
       "description_width": ""
      }
     },
     "d18ea6b8d373409d8c7ba671ebcc9305": {
      "model_module": "@jupyter-widgets/controls",
      "model_module_version": "1.5.0",
      "model_name": "HTMLModel",
      "state": {
       "layout": "IPY_MODEL_35db05d660eb4dd59ea95e6094ed69cb",
       "style": "IPY_MODEL_ef941187927d476a926db47401e40c7a",
       "value": "<p>sensitivity factor</p>"
      }
     },
     "d2264113ca6f4f01b26eb9b31413f3f3": {
      "model_module": "@jupyter-widgets/base",
      "model_module_version": "1.2.0",
      "model_name": "LayoutModel",
      "state": {}
     },
     "d2426d11b11e49a48b978f83345d519a": {
      "model_module": "@jupyter-widgets/base",
      "model_module_version": "1.2.0",
      "model_name": "LayoutModel",
      "state": {
       "align_items": "stretch",
       "display": "flex",
       "flex_flow": "row",
       "grid_auto_columns": "True",
       "justify_content": "flex-end",
       "width": "90%"
      }
     },
     "d24bf866fdb740a89dcff9bafa0691f1": {
      "model_module": "@jupyter-widgets/controls",
      "model_module_version": "1.5.0",
      "model_name": "ButtonModel",
      "state": {
       "button_style": "info",
       "description": "preview outputs",
       "layout": "IPY_MODEL_263f11a6a16d473f9233bf826ac2a191",
       "style": "IPY_MODEL_262d6edabc9c44ad970666717fe1ec72",
       "tooltip": "show a preview of the output files generated when the script runs"
      }
     },
     "d2de3da58a564990bbd1d40571e3a3d2": {
      "model_module": "@jupyter-widgets/controls",
      "model_module_version": "1.5.0",
      "model_name": "ButtonStyleModel",
      "state": {
       "font_weight": "bold"
      }
     },
     "d2e29a00e8e448c897d58014c5f978c9": {
      "model_module": "@jupyter-widgets/controls",
      "model_module_version": "1.5.0",
      "model_name": "HTMLModel",
      "state": {
       "layout": "IPY_MODEL_bb616dc24997429db9e647c3778a2631",
       "style": "IPY_MODEL_ccfca2ce610e483794d4bcce3195de02",
       "value": "<p>update the user input form with data from file</p>"
      }
     },
     "d33078dbd13a41ec81d84dc3342b6099": {
      "model_module": "@jupyter-widgets/controls",
      "model_module_version": "1.5.0",
      "model_name": "ButtonModel",
      "state": {
       "button_style": "info",
       "description": "show log",
       "layout": "IPY_MODEL_b0edbb2af0154b849fa30f3683fad7f3",
       "style": "IPY_MODEL_203b315a082e4b4ba19ac0d7bbc812cb",
       "tooltip": "show a log of when the script was executed to generate the outputs, and by who"
      }
     },
     "d3c81f8d13984e9e9126955293c08a3e": {
      "model_module": "@jupyter-widgets/output",
      "model_module_version": "1.0.0",
      "model_name": "OutputModel",
      "state": {
       "layout": "IPY_MODEL_b432018053d142c1bad7bd8c1e9a0769"
      }
     },
     "d3ea76e2b02945529f8c4d56abaec116": {
      "model_module": "@jupyter-widgets/base",
      "model_module_version": "1.2.0",
      "model_name": "LayoutModel",
      "state": {}
     },
     "d44c4035e09a48dd857290418074a3d0": {
      "model_module": "@jupyter-widgets/controls",
      "model_module_version": "1.5.0",
      "model_name": "ButtonModel",
      "state": {
       "button_style": "warning",
       "description": "revert to last save",
       "layout": "IPY_MODEL_d0d64671b218452280e17121499610fa",
       "style": "IPY_MODEL_02235387e2a345d9a4e509c2a4845e8f"
      }
     },
     "d4afe5ede16c4049897a62ba4ab15d52": {
      "model_module": "@jupyter-widgets/base",
      "model_module_version": "1.2.0",
      "model_name": "LayoutModel",
      "state": {
       "align_items": "stretch",
       "display": "flex",
       "flex_flow": "row",
       "grid_auto_columns": "True",
       "justify_content": "flex-end",
       "width": "90%"
      }
     },
     "d4ddaa43ac4841c6a08ed9c7fa3e4178": {
      "model_module": "@jupyter-widgets/controls",
      "model_module_version": "1.5.0",
      "model_name": "VBoxModel",
      "state": {
       "children": [
        "IPY_MODEL_e182721281db4269bd17d9021c8f1e0f",
        "IPY_MODEL_c156f78d5d084639ab01788b5fb34043",
        "IPY_MODEL_125b15ab07e3456a9f1d9e1829b68c53"
       ],
       "layout": "IPY_MODEL_6ab42dd862174fcf8ba6db357c57a8a7"
      }
     },
     "d58537c7094e44e7bc372ac9805b778a": {
      "model_module": "@jupyter-widgets/controls",
      "model_module_version": "1.5.0",
      "model_name": "TextModel",
      "state": {
       "description": "inputs",
       "disabled": true,
       "layout": "IPY_MODEL_388a3cd1f40e40318f82e1897258577b",
       "style": "IPY_MODEL_5ef09b8862034f1390be42f5ebf3f524",
       "value": "C:\\engDev\\git_mf\\ipyrun\\examples\\notebooks\\appdata\\inputs\\inputs-expansion_vessel_sizing.json"
      }
     },
     "d5ab0adb019442fcbbf222065e7b3266": {
      "model_module": "@jupyter-widgets/base",
      "model_module_version": "1.2.0",
      "model_name": "LayoutModel",
      "state": {
       "align_items": "stretch",
       "border": "dashed 0.2px green",
       "display": "flex",
       "flex_flow": "row",
       "grid_auto_columns": "True",
       "justify_content": "flex-start",
       "width": "100%"
      }
     },
     "d5c27214d1f54e35a1a11f1769fa4b87": {
      "model_module": "@jupyter-widgets/base",
      "model_module_version": "1.2.0",
      "model_name": "LayoutModel",
      "state": {
       "height": "30px",
       "width": "auto"
      }
     },
     "d6eab315f7eb4d4fbfaf9a6520a4e0c6": {
      "model_module": "@jupyter-widgets/base",
      "model_module_version": "1.2.0",
      "model_name": "LayoutModel",
      "state": {}
     },
     "d753125019d142a3aefe2f5e3b4bb763": {
      "model_module": "@jupyter-widgets/base",
      "model_module_version": "1.2.0",
      "model_name": "LayoutModel",
      "state": {}
     },
     "d7b13f92fd5244a298d0b2e7eb0b065d": {
      "model_module": "@jupyter-widgets/base",
      "model_module_version": "1.2.0",
      "model_name": "LayoutModel",
      "state": {}
     },
     "d840c286affd42b9966394c701fbf862": {
      "model_module": "@jupyter-widgets/controls",
      "model_module_version": "1.5.0",
      "model_name": "VBoxModel",
      "state": {
       "children": [
        "IPY_MODEL_9f2c0a1631f6436282267c680a2d8613",
        "IPY_MODEL_89a1823821a949c1886f54112ed2885f",
        "IPY_MODEL_2d3e129c014b47d38ce572aa5a8cd00f"
       ],
       "layout": "IPY_MODEL_6e50baefe2fc424aa2e6eff29146c5e4"
      }
     },
     "d84cefde43fa42ec9e4ab826e0e13063": {
      "model_module": "@jupyter-widgets/controls",
      "model_module_version": "1.5.0",
      "model_name": "ButtonStyleModel",
      "state": {
       "font_weight": "bold"
      }
     },
     "d860d26aa37847aab9c8c99eaebe70ce": {
      "model_module": "@jupyter-widgets/output",
      "model_module_version": "1.0.0",
      "model_name": "OutputModel",
      "state": {
       "layout": "IPY_MODEL_d7b13f92fd5244a298d0b2e7eb0b065d"
      }
     },
     "d89cfad7465c4241ba7072d13c01002f": {
      "model_module": "@jupyter-widgets/controls",
      "model_module_version": "1.5.0",
      "model_name": "SliderStyleModel",
      "state": {
       "description_width": ""
      }
     },
     "d8c2854090ed4c6c80672284cf368b9e": {
      "model_module": "@jupyter-widgets/controls",
      "model_module_version": "1.5.0",
      "model_name": "ButtonModel",
      "state": {
       "icon": "question-circle",
       "layout": "IPY_MODEL_71184d74b83d48239390f8ee6b2ce40c",
       "style": "IPY_MODEL_bb1fb95736b64bffb05d5bdebc1bc709",
       "tooltip": "describes the functionality of elements in the RunApp interface"
      }
     },
     "d91650a0925c42579ca237ba226a77b1": {
      "model_module": "@jupyter-widgets/base",
      "model_module_version": "1.2.0",
      "model_name": "LayoutModel",
      "state": {}
     },
     "d93670f20ddb4c2096332c0a7eff37a4": {
      "model_module": "@jupyter-widgets/controls",
      "model_module_version": "1.5.0",
      "model_name": "ButtonStyleModel",
      "state": {
       "font_weight": "bold"
      }
     },
     "d943ab0ea2d2495b8004fad900497c8c": {
      "model_module": "@jupyter-widgets/controls",
      "model_module_version": "1.5.0",
      "model_name": "VBoxModel",
      "state": {
       "children": [
        "IPY_MODEL_fa40c4caaff64cc5913a5355d7b5c137",
        "IPY_MODEL_fbf2af10152f405eb592a2a37e4a1b1c"
       ],
       "layout": "IPY_MODEL_61fb3c5ad3e74802b902f063fd1ac4cb"
      }
     },
     "d97a8354484442d0a5ff80976afbbe35": {
      "model_module": "@jupyter-widgets/controls",
      "model_module_version": "1.5.0",
      "model_name": "RadioButtonsModel",
      "state": {
       "_options_labels": [
        "TEMPLATE: C:\\engDev\\git_mf\\ipyrun\\examples\\scripts\\template_inputs\\inputs-expansion_vessel_sizing.json",
        "PROJECT: C:\\engDev\\git_mf\\ipyrun\\examples\\notebooks\\appdata\\inputs\\inputs-expansion_vessel_sizing.json",
        "PROJECT: C:\\engDev\\git_mf\\ipyrun\\examples\\notebooks\\appdata\\inputs\\archive\\20200612_1731-jg-inputs-expansion_vessel_sizing.json",
        "PROJECT: C:\\engDev\\git_mf\\ipyrun\\examples\\notebooks\\appdata\\inputs\\archive\\20200612_1817-jg-inputs-expansion_vessel_sizing.json",
        "PROJECT: C:\\engDev\\git_mf\\ipyrun\\examples\\notebooks\\appdata\\inputs\\archive\\20200612_1818-jg-inputs-expansion_vessel_sizing.json",
        "PROJECT: C:\\engDev\\git_mf\\ipyrun\\examples\\notebooks\\appdata\\inputs\\archive\\20200612_1819-jg-inputs-expansion_vessel_sizing.json",
        "PROJECT: C:\\engDev\\git_mf\\ipyrun\\examples\\notebooks\\appdata\\inputs\\archive\\20200612_1900-jg-inputs-expansion_vessel_sizing.json",
        "PROJECT: C:\\engDev\\git_mf\\ipyrun\\examples\\notebooks\\appdata\\inputs\\archive\\20200615_2211-jg-inputs-expansion_vessel_sizing.json",
        "PROJECT: C:\\engDev\\git_mf\\ipyrun\\examples\\notebooks\\appdata\\inputs\\archive\\20200616_1020-jg-inputs-expansion_vessel_sizing.json",
        "PROJECT: C:\\engDev\\git_mf\\ipyrun\\examples\\notebooks\\appdata\\inputs\\archive\\20200616_1021-jg-inputs-expansion_vessel_sizing.json"
       ],
       "index": 5,
       "layout": "IPY_MODEL_8fde4e7adf3e439b9179ad1b56b753b6",
       "style": "IPY_MODEL_afa9e310008143009d0e8c1c0fe63d08"
      }
     },
     "da3193eef5394aacaacc9df77f28c000": {
      "model_module": "@jupyter-widgets/base",
      "model_module_version": "1.2.0",
      "model_name": "LayoutModel",
      "state": {
       "align_items": "stretch",
       "display": "flex",
       "flex_flow": "row",
       "grid_auto_columns": "True",
       "justify_content": "flex-end",
       "width": "90%"
      }
     },
     "da5d27870b464e5c882c60604ac645cf": {
      "model_module": "@jupyter-widgets/controls",
      "model_module_version": "1.5.0",
      "model_name": "ButtonModel",
      "state": {
       "button_style": "info",
       "description": "show log",
       "layout": "IPY_MODEL_d91650a0925c42579ca237ba226a77b1",
       "style": "IPY_MODEL_a6d9b5fe05294617a9dfdffb0f249895",
       "tooltip": "show a log of when the script was executed to generate the outputs, and by who"
      }
     },
     "da9a0392b763416387a38964545a5d71": {
      "model_module": "@jupyter-widgets/base",
      "model_module_version": "1.2.0",
      "model_name": "LayoutModel",
      "state": {
       "align_items": "stretch",
       "display": "flex",
       "flex_flow": "row",
       "grid_auto_columns": "True",
       "justify_content": "flex-end",
       "width": "90%"
      }
     },
     "dae875fa2f4147379a02fb9b23ba7ad9": {
      "buffers": [
       {
        "data": "H4sIAAAAAAACA5WTz4rbMBDGX0XolELqWo6dZPdWSqE9tOTWgwll1h4rorJkJDlJWfJUfYM+WUfKbpZ1syx7+IwZ/eabP7LvuXSq5bf3vIUA/Lau+ReEoIxk/rcP2LMDBHRsb/XYI5v1f/+843Ne5FnOt/Oaf9qBkciUYTtUcheIiOflOp1+Pg5gvLKG7dF71AyaBocApkHWQROsIzbPFgme1B3UgAfrfjGNRobdg3FRrRK8eTwdHDmPDpm23rPZBj4krsrP/X0DJ6m5zroJ2Y7Ign2q0qkQq5NF56gz6jnaiPOQVrcEaP3kMbsD917CKDFVy0pRiSLBP9K+8DJ5Y7HrVKPQhDRsfp72Y9uqWAX09Q3n2fL6Cqc38XAR/3G9MqofeybBT3NEVr6QA8dLzvNR4c6TR0jT3mRiWZbVSpTFOj7fbHbZ2/qq0+RDIJ/sJQORZ6vFqw6XZJfClLf5Lmi92zlXpsXjT2cPPv4DBnqkl5p/jWGy4nvQYwrVORkLUkFakEpSRVqSVqQ16SYyCYykiKiIrCi329NjsSZehkme50hqORWilk6nf6W/e+6TAwAA",
        "encoding": "base64",
        "path": [
         "_grid_data_up"
        ]
       }
      ],
      "model_module": "ipyaggrid",
      "model_module_version": "~0.2.1",
      "model_name": "AgGridModel",
      "state": {
       "_grid_data_down": [
        {
         "index": "Heating system water volume (m³)",
         "value": "20.0"
        },
        {
         "index": "Change in height (m)",
         "value": "48"
        },
        {
         "index": "Expansion vessel acceptance factor",
         "value": "0.3"
        },
        {
         "index": "Heating system pipework length (m)",
         "value": "257"
        },
        {
         "index": "Pipework pressure loss (Pa/m)",
         "value": "500"
        },
        {
         "index": "Margin for pressure loss due to pipework fittings (fraction)",
         "value": "1"
        },
        {
         "index": "Cold fill pressure (bar-gauge)",
         "value": "5.41512"
        },
        {
         "index": "Water expansion coefficient",
         "value": "0.03"
        },
        {
         "index": "Additional water volume (m³)",
         "value": "0.6"
        },
        {
         "index": "Expansion vessel volume (m³)",
         "value": "2.0"
        },
        {
         "index": "Expansion vessel minimum gas volume (m³)",
         "value": "1.4"
        },
        {
         "index": "Expansion vessel maximum gas pressure (bar-absolute)",
         "value": "9.164457142857144"
        },
        {
         "index": "Expansion vessel maximum gas pressure (bar-gauge)",
         "value": "8.164457142857144"
        },
        {
         "index": "Heating system max. pressure (bar-gauge)",
         "value": "10.734457142857144"
        },
        {
         "index": "Heating system pressure rating",
         "value": "PN16"
        }
       ],
       "_grid_options_mono_down": "{\"enableSorting\": true, \"enableFilter\": true, \"enableColResize\": true, \"enableRangeSelection\": true, \"columnDefs\": [{\"field\": \"index\", \"type\": \"textColumn\", \"headerName\": \"Index\"}, {\"field\": \"value\", \"type\": \"textColumn\", \"headerName\": \"Value\"}], \"columnTypes\": {\"numberColumn\": {\"filter\": \"agNumberColumnFilter\"}, \"textColumn\": {\"filter\": \"agTextColumnFilter\"}, \"dateColumn\": {\"valueFormatter\": \"helpers.dateFormatter\", \"filter\": \"agDateColumnFilter\", \"filterParams\": {\"comparator\": \"helpers.compareDates\"}}}}",
       "_id": 681533978,
       "_js_helpers_builtin": "helpersBuiltin = {\n    dateFormatter: function(node) {\n        // make sure date is not undefined\n        if (node && node.value) {\n            let d = new Date(node.value);\n            let h = d.getHours();\n            let m = d.getMinutes();\n            let s = d.getSeconds();\n            const offset = d.getTimezoneOffset() * 60000;\n            d = new Date(d.getTime() - offset);\n            const ymd = d.toISOString().substring(0, 10);\n            if (h === 0 && m === 0 && s === 0) {\n                return ymd;\n            }\n            if (h === 0) h = '00';\n            if (m === 0) m = '00';\n            if (s === 0) s = '00';\n            return `${ymd} ${h}:${m}:${s}`;\n        }\n        return null;\n    },\n\n    formatInt: d3.format(',.0f'),\n    formatFloat: d3.format(',.2f'),\n\n    intFormatter: function(node) {\n        return formatInt(node.value);\n    },\n\n    floatFormatter: function(node) {\n        return formatFloat(node.value);\n    },\n\n    compareDates: function(filterLocalDate, cellValue) {\n        // Assume dates are stored as iso\n        const cellDate = new Date(cellValue);\n\n        if (cellDate < filterLocalDate) {\n            return -1;\n        } else if (cellDate > filterLocalDate) {\n            return 1;\n        }\n        return 0;\n    },\n\n    sizeToFit: function(gridOptions) {\n        gridOptions.api.sizeColumnsToFit();\n    },\n\n    autoSizeAll: function(gridOptions) {\n        const allColumnIds = [];\n        gridOptions.columnApi.getAllColumns().forEach(column => {\n            allColumnIds.push(column.colId);\n        });\n        gridOptions.columnApi.autoSizeColumns(allColumnIds);\n    },\n\n    /**\n     * Exporting data to CSV using ag-Grid api.\n     * @param {Object} gridOptions\n     */\n    exportToCsv: function(gridOptions) {\n        const params = {\n            skipHeader: false,\n            columnGroups: true,\n            skipFooters: false,\n            skipGroups: false,\n            skipPinnedTop: false,\n            skipPinnedBottom: false,\n            allColumns: true,\n            onlySelected: false,\n            suppressQuotes: true,\n            fileName: 'my_file.csv',\n            sheetName: 'my_sheet',\n            shouldRowBeSkipped: () => false,\n            processCellCallback: param => param.value,\n            processHeaderCallback: null,\n        };\n        gridOptions.api.exportDataAsCsv(params);\n    },\n\n    /**\n     * Exporting data to Excel using ag-Grid api.\n     * @param {Object} gridOptions\n     */\n    exportToExcel: function(gridOptions) {\n        const params = {\n            skipHeader: false,\n            columnGroups: true,\n            skipFooters: false,\n            skipGroups: false,\n            skipPinnedTop: false,\n            skipPinnedBottom: false,\n            allColumns: true,\n            onlySelected: false,\n            suppressQuotes: true,\n            fileName: 'my_file.xls',\n            sheetName: 'my_sheet',\n            shouldRowBeSkipped: () => false, // TODO : check\n            processCellCallback: param => param.value,\n            processHeaderCallback: null,\n        };\n        gridOptions.api.exportDataAsExcel(params);\n    },\n};\n",
       "columns_fit": "size_to_fit",
       "compress_data": true,
       "export_mode": "disabled",
       "height": "350px",
       "js_helpers": "{\"dateFormatter\":\"function(node) {\\n        // make sure date is not undefined\\n        if (node && node.value) {\\n            let d = new Date(node.value);\\n            let h = d.getHours();\\n            let m = d.getMinutes();\\n            let s = d.getSeconds();\\n            const offset = d.getTimezoneOffset() * 60000;\\n            d = new Date(d.getTime() - offset);\\n            const ymd = d.toISOString().substring(0, 10);\\n            if (h === 0 && m === 0 && s === 0) {\\n                return ymd;\\n            }\\n            if (h === 0) h = '00';\\n            if (m === 0) m = '00';\\n            if (s === 0) s = '00';\\n            return `${ymd} ${h}:${m}:${s}`;\\n        }\\n        return null;\\n    }\",\"formatInt\":\" >-,.0f\",\"formatFloat\":\" >-,.2f\",\"intFormatter\":\"function(node) {\\n        return formatInt(node.value);\\n    }\",\"floatFormatter\":\"function(node) {\\n        return formatFloat(node.value);\\n    }\",\"compareDates\":\"function(filterLocalDate, cellValue) {\\n        // Assume dates are stored as iso\\n        const cellDate = new Date(cellValue);\\n\\n        if (cellDate < filterLocalDate) {\\n            return -1;\\n        } else if (cellDate > filterLocalDate) {\\n            return 1;\\n        }\\n        return 0;\\n    }\",\"sizeToFit\":\"function(gridOptions) {\\n        gridOptions.api.sizeColumnsToFit();\\n    }\",\"autoSizeAll\":\"function(gridOptions) {\\n        const allColumnIds = [];\\n        gridOptions.columnApi.getAllColumns().forEach(column => {\\n            allColumnIds.push(column.colId);\\n        });\\n        gridOptions.columnApi.autoSizeColumns(allColumnIds);\\n    }\",\"exportToCsv\":\"function(gridOptions) {\\n        const params = {\\n            skipHeader: false,\\n            columnGroups: true,\\n            skipFooters: false,\\n            skipGroups: false,\\n            skipPinnedTop: false,\\n            skipPinnedBottom: false,\\n            allColumns: true,\\n            onlySelected: false,\\n            suppressQuotes: true,\\n            fileName: 'my_file.csv',\\n            sheetName: 'my_sheet',\\n            shouldRowBeSkipped: () => false,\\n            processCellCallback: param => param.value,\\n            processHeaderCallback: null,\\n        };\\n        gridOptions.api.exportDataAsCsv(params);\\n    }\",\"exportToExcel\":\"function(gridOptions) {\\n        const params = {\\n            skipHeader: false,\\n            columnGroups: true,\\n            skipFooters: false,\\n            skipGroups: false,\\n            skipPinnedTop: false,\\n            skipPinnedBottom: false,\\n            allColumns: true,\\n            onlySelected: false,\\n            suppressQuotes: true,\\n            fileName: 'my_file.xls',\\n            sheetName: 'my_sheet',\\n            shouldRowBeSkipped: () => false, // TODO : check\\n            processCellCallback: param => param.value,\\n            processHeaderCallback: null,\\n        };\\n        gridOptions.api.exportDataAsExcel(params);\\n    }\"}",
       "layout": "IPY_MODEL_4f1826dbb20f44c2923cfc6462854925",
       "menu": {
        "button_div_css": ".flex-button-div-681533978 {\ndisplay: flex;\njustify-content: flex-start;\nalign-items: flex-start;\nalign-content: flex-start;\nflex-flow: row wrap;\n}\n",
        "buttons": [],
        "input_div_css": ".flex-input-div-681533978 {\ndisplay: flex;\njustify-content: flex-start;\nalign-items: baseline;\nalign-content: flex-start;\nflex-flow: row wrap;\n}\n",
        "inputs": [
         {
          "css": ".flex-child-quick-filter-681533978 {\norder: 0;\nalign-self: auto;\nmargin: 5px;\nflex: 0.00 1.00 auto;\nwidth: 150px;\n}\n",
          "name": "Quick Filter"
         }
        ],
        "menu_div_css": ".flex-menu-div-681533978 {\ndisplay: flex;\njustify-content: flex-start;\nalign-items: flex-start;\nalign-content: flex-start;\nflex-flow: row wrap;\n}\n"
       },
       "theme": "ag-theme-balham",
       "width": "100%"
      }
     },
     "db8c75a7d69342ac947899addda6d5ce": {
      "model_module": "@jupyter-widgets/controls",
      "model_module_version": "1.5.0",
      "model_name": "ButtonModel",
      "state": {
       "button_style": "info",
       "description": "preview outputs",
       "layout": "IPY_MODEL_fa2d9ca53346425788998a6101c11853",
       "style": "IPY_MODEL_be0f705af4314959a78ea2e9c803b758",
       "tooltip": "show a preview of the output files generated when the script runs"
      }
     },
     "dbc9b42b54fe44d6acce00dc92fdefd9": {
      "model_module": "@jupyter-widgets/controls",
      "model_module_version": "1.5.0",
      "model_name": "ButtonModel",
      "state": {
       "icon": "eye-slash",
       "layout": "IPY_MODEL_7ea0ea7e6ba140af925b4ae99de50a6c",
       "style": "IPY_MODEL_2a930cb25efd4c6bbfe0197c9aecd1f9",
       "tooltip": "removes temporary output view"
      }
     },
     "dbed37f2b73a46c3a27e4726a5566bb2": {
      "model_module": "@jupyter-widgets/controls",
      "model_module_version": "1.5.0",
      "model_name": "VBoxModel",
      "state": {
       "children": [
        "IPY_MODEL_b7fba35fdb9c4cdf8cedbb84fa108ab7",
        "IPY_MODEL_b68e93d15f974105a1ea927f960c343c"
       ],
       "layout": "IPY_MODEL_4cbd52f571a54f689e4e6292e68fdb1f"
      }
     },
     "dc06d895ed354b03bb358d16b23ea784": {
      "model_module": "@jupyter-widgets/controls",
      "model_module_version": "1.5.0",
      "model_name": "HBoxModel",
      "state": {
       "children": [
        "IPY_MODEL_41dd6b5ef85a4dd3b87bcfa8dd17f0f5",
        "IPY_MODEL_02f983ce8d214b55b1cea70a669ffdd1"
       ],
       "layout": "IPY_MODEL_b7a02cbae11f4aa09511acc90d830542"
      }
     },
     "dc23249d428c497eb5300c0c545c8ab7": {
      "model_module": "@jupyter-widgets/controls",
      "model_module_version": "1.5.0",
      "model_name": "HTMLModel",
      "state": {
       "layout": "IPY_MODEL_1731825b404f40f5bbec659d6f894682",
       "style": "IPY_MODEL_973941f8e05e41c4af0779e2fa311af6",
       "value": "<p>total volume of water within the closed mechanical system</p>"
      }
     },
     "dd0672b13dcf45ce9fe5db7ab90f42db": {
      "model_module": "@jupyter-widgets/base",
      "model_module_version": "1.2.0",
      "model_name": "LayoutModel",
      "state": {}
     },
     "de253838e04d436c843db8cae4e95e4f": {
      "model_module": "@jupyter-widgets/controls",
      "model_module_version": "1.5.0",
      "model_name": "VBoxModel",
      "state": {
       "children": [
        "IPY_MODEL_0a87d15b8515438081445ddc2ed07a3e",
        "IPY_MODEL_d2e29a00e8e448c897d58014c5f978c9",
        "IPY_MODEL_bf8a1b69fc0c4e65a1a77cb90e196434"
       ],
       "layout": "IPY_MODEL_6808b8c1ee32455e8adfedd7e5fc5aef"
      }
     },
     "de34f55ec493483886a84cb5bcde23b6": {
      "model_module": "@jupyter-widgets/output",
      "model_module_version": "1.0.0",
      "model_name": "OutputModel",
      "state": {
       "layout": "IPY_MODEL_48e9fc3ae2354cb3ac5412d66ad9a843"
      }
     },
     "de389f9a5ce14e129f450b921f4b2cd6": {
      "model_module": "@jupyter-widgets/controls",
      "model_module_version": "1.5.0",
      "model_name": "ToggleButtonModel",
      "state": {
       "button_style": "info",
       "description": "inputs from file",
       "layout": "IPY_MODEL_a513a4bd421f48e396c4c9020d9ac022",
       "style": "IPY_MODEL_81e63e40a6d14394a0e796d77ccc3e73",
       "value": true
      }
     },
     "dec1158ff45d45ee8585efc97e658a16": {
      "model_module": "@jupyter-widgets/controls",
      "model_module_version": "1.5.0",
      "model_name": "TextModel",
      "state": {
       "description": "script",
       "disabled": true,
       "layout": "IPY_MODEL_5471c103a73c4aca93f89764b0daa276",
       "style": "IPY_MODEL_ff132ab8636c41df870b30da6d7c0a8b",
       "value": "C:\\engDev\\git_mf\\ipyrun\\examples\\scripts\\expansion_vessel_sizing.py"
      }
     },
     "dec9bc8f7fb342f1adad2b5a8845929f": {
      "model_module": "@jupyter-widgets/base",
      "model_module_version": "1.2.0",
      "model_name": "LayoutModel",
      "state": {}
     },
     "decc83daf148436a9e3f5ec04dff7912": {
      "model_module": "@jupyter-widgets/base",
      "model_module_version": "1.2.0",
      "model_name": "LayoutModel",
      "state": {
       "width": "5%"
      }
     },
     "df6585dd49134e35a0972ec4af02cde0": {
      "model_module": "@jupyter-widgets/output",
      "model_module_version": "1.0.0",
      "model_name": "OutputModel",
      "state": {
       "layout": "IPY_MODEL_4ac5513c0a1846c3b7795127a642929c"
      }
     },
     "dfa62ca5bd95449aa3bef42a0c6733c1": {
      "model_module": "@jupyter-widgets/output",
      "model_module_version": "1.0.0",
      "model_name": "OutputModel",
      "state": {
       "layout": "IPY_MODEL_44a09a4fa5574e1c9c9b0d58381754b3"
      }
     },
     "e182721281db4269bd17d9021c8f1e0f": {
      "model_module": "@jupyter-widgets/controls",
      "model_module_version": "1.5.0",
      "model_name": "HBoxModel",
      "state": {
       "children": [
        "IPY_MODEL_e21e8a07bb824a9fa8ed4c34dda65e9b",
        "IPY_MODEL_3313dbd8c30346599efc37936143deac",
        "IPY_MODEL_8b1ea29779f643078c656b769516c74c"
       ],
       "layout": "IPY_MODEL_f0a077789ea0418c9d7371b32016aa25"
      }
     },
     "e1a6acd32e40420f9f0dd4ef19bf7319": {
      "model_module": "@jupyter-widgets/output",
      "model_module_version": "1.0.0",
      "model_name": "OutputModel",
      "state": {
       "layout": "IPY_MODEL_d6eab315f7eb4d4fbfaf9a6520a4e0c6"
      }
     },
     "e21928d959134d2ab37168534588d120": {
      "model_module": "@jupyter-widgets/controls",
      "model_module_version": "1.5.0",
      "model_name": "HBoxModel",
      "state": {
       "children": [
        "IPY_MODEL_5937bbdf71c641c9a698985ca8b5f735",
        "IPY_MODEL_ec5555c1662c4d60a81d3e57a7b9db6d"
       ],
       "layout": "IPY_MODEL_babfc5ea16224a70adc05c9ef0b72977"
      }
     },
     "e21e8a07bb824a9fa8ed4c34dda65e9b": {
      "model_module": "@jupyter-widgets/controls",
      "model_module_version": "1.5.0",
      "model_name": "ToggleButtonModel",
      "state": {
       "button_style": "info",
       "description": "inputs from file",
       "layout": "IPY_MODEL_af359391a95249ce8a6a3e42e4abfcb9",
       "style": "IPY_MODEL_ea59cf8282f94405a9e696f597ff0828"
      }
     },
     "e23e0e332cae4260942b1c8197b89519": {
      "model_module": "@jupyter-widgets/base",
      "model_module_version": "1.2.0",
      "model_name": "LayoutModel",
      "state": {}
     },
     "e2602b9255184c09b45e172b8bc415f8": {
      "model_module": "@jupyter-widgets/controls",
      "model_module_version": "1.5.0",
      "model_name": "ButtonModel",
      "state": {
       "icon": "eye-slash",
       "layout": "IPY_MODEL_8f2ad2739bbc4321916b30b4b162a0a4",
       "style": "IPY_MODEL_7f6b901aefe14e4c9f2de87acf6284da",
       "tooltip": "removes temporary output view"
      }
     },
     "e26ca6d90cd04f139bcfbefcb88779ef": {
      "model_module": "@jupyter-widgets/controls",
      "model_module_version": "1.5.0",
      "model_name": "VBoxModel",
      "state": {
       "layout": "IPY_MODEL_03bacab8ac7f407cb8056115c6581297"
      }
     },
     "e416302f753f4c70a2a50f454f4efdef": {
      "model_module": "@jupyter-widgets/controls",
      "model_module_version": "1.5.0",
      "model_name": "ButtonModel",
      "state": {
       "icon": "eye-slash",
       "layout": "IPY_MODEL_25434b20f6664195a562dc14f1611f9d",
       "style": "IPY_MODEL_ac2f6f607f624ca68849225c0aa9cb68",
       "tooltip": "removes temporary output view"
      }
     },
     "e439433125df43718fe5530622aed248": {
      "model_module": "@jupyter-widgets/base",
      "model_module_version": "1.2.0",
      "model_name": "LayoutModel",
      "state": {
       "width": "100%"
      }
     },
     "e4ce171503504a46b60adf222db72c7e": {
      "model_module": "@jupyter-widgets/base",
      "model_module_version": "1.2.0",
      "model_name": "LayoutModel",
      "state": {}
     },
     "e5864eab14834c56a75236b481ece401": {
      "model_module": "@jupyter-widgets/controls",
      "model_module_version": "1.5.0",
      "model_name": "ButtonModel",
      "state": {
       "button_style": "success",
       "description": "run batch",
       "layout": "IPY_MODEL_1e732ab6b7634516bf01fdd0f387c0d5",
       "style": "IPY_MODEL_b24a5f87745b429faf230788164c1dfe",
       "tooltip": "execute checked processes below"
      }
     },
     "e73583bb44c44343800add7f3ba28c14": {
      "model_module": "@jupyter-widgets/controls",
      "model_module_version": "1.5.0",
      "model_name": "DescriptionStyleModel",
      "state": {
       "description_width": ""
      }
     },
     "e7cb36c92c984a84a00b922eb84a91b3": {
      "model_module": "@jupyter-widgets/base",
      "model_module_version": "1.2.0",
      "model_name": "LayoutModel",
      "state": {}
     },
     "e7ddf5f94e9b4385acc4889c7e9cbd2a": {
      "model_module": "@jupyter-widgets/controls",
      "model_module_version": "1.5.0",
      "model_name": "ButtonStyleModel",
      "state": {
       "font_weight": "bold"
      }
     },
     "e7dfbdcd87254055b33fab65bf0e3266": {
      "model_module": "@jupyter-widgets/controls",
      "model_module_version": "1.5.0",
      "model_name": "HBoxModel",
      "state": {
       "children": [
        "IPY_MODEL_b1f0a7885f124ac5b12c4c165331a86f",
        "IPY_MODEL_40e69b1f435a45acb027aa3b96be1b8d"
       ],
       "layout": "IPY_MODEL_fa433a9248d646a8814a121f58ead4f4"
      }
     },
     "e8c2f8075bb4412ab99a031d5de72cde": {
      "model_module": "@jupyter-widgets/controls",
      "model_module_version": "1.5.0",
      "model_name": "HBoxModel",
      "state": {
       "children": [
        "IPY_MODEL_adba9ad40dd94d999c140b75ca891c55",
        "IPY_MODEL_86a11615a4584d8eafe0dcc0685b51fd"
       ],
       "layout": "IPY_MODEL_9f0284edb3fb4f96b09a66a317653bc7"
      }
     },
     "ea59cf8282f94405a9e696f597ff0828": {
      "model_module": "@jupyter-widgets/controls",
      "model_module_version": "1.5.0",
      "model_name": "DescriptionStyleModel",
      "state": {
       "description_width": ""
      }
     },
     "eb1981ce8d1c4382ade08be16cb6a796": {
      "model_module": "@jupyter-widgets/base",
      "model_module_version": "1.2.0",
      "model_name": "LayoutModel",
      "state": {}
     },
     "eb6af3bfd1224b47a21c65964e1d040e": {
      "model_module": "@jupyter-widgets/base",
      "model_module_version": "1.2.0",
      "model_name": "LayoutModel",
      "state": {}
     },
     "ec0de968610e4e52b5f9c14b730ca460": {
      "model_module": "@jupyter-widgets/controls",
      "model_module_version": "1.5.0",
      "model_name": "VBoxModel",
      "state": {
       "children": [
        "IPY_MODEL_6d9972f99e6248b8bf98c5b5e88415aa",
        "IPY_MODEL_c0c8d151f1a5447d954080a562c98d7f",
        "IPY_MODEL_1dc5349c43374217a2bab57b94eb93d1"
       ],
       "layout": "IPY_MODEL_6e2fcb8085354433adfc5fbad6a238ae"
      }
     },
     "ec5555c1662c4d60a81d3e57a7b9db6d": {
      "model_module": "@jupyter-widgets/controls",
      "model_module_version": "1.5.0",
      "model_name": "HTMLModel",
      "state": {
       "layout": "IPY_MODEL_cd568ef75dcc4a74b962ab75f0078f5d",
       "style": "IPY_MODEL_17e101fea8c848bea7eec87dcdbf9903",
       "value": "<p>From BS7074. The max between this and: 0.15 * static_pressure_barg  is used (Paul Button rule of thumb)</p>"
      }
     },
     "ede2ba2ec8ba42bcae9a447ece19813f": {
      "model_module": "@jupyter-widgets/controls",
      "model_module_version": "1.5.0",
      "model_name": "HTMLModel",
      "state": {
       "layout": "IPY_MODEL_1129fd1811b84b41941455a08343b284",
       "style": "IPY_MODEL_f92850197caa465b837f7147a88232e2",
       "value": "<p>eV_acceptance_fraction</p>"
      }
     },
     "eeace573c4f64854b799d1dc6249f9fe": {
      "model_module": "@jupyter-widgets/base",
      "model_module_version": "1.2.0",
      "model_name": "LayoutModel",
      "state": {
       "align_items": "stretch",
       "display": "flex",
       "flex_flow": "row",
       "grid_auto_columns": "True",
       "justify_content": "flex-start",
       "width": "80%"
      }
     },
     "eef02315a9b8406fbd4af158878cd5a7": {
      "model_module": "@jupyter-widgets/controls",
      "model_module_version": "1.5.0",
      "model_name": "ButtonModel",
      "state": {
       "button_style": "info",
       "description": "show source code",
       "layout": "IPY_MODEL_8fc1c11cff0e44009078ea27e1c8d4cb",
       "style": "IPY_MODEL_ba0e3b23f2cd44f49932c450d5778fc6",
       "tooltip": "shows the raw python code in the preview window below"
      }
     },
     "ef941187927d476a926db47401e40c7a": {
      "model_module": "@jupyter-widgets/controls",
      "model_module_version": "1.5.0",
      "model_name": "DescriptionStyleModel",
      "state": {
       "description_width": ""
      }
     },
     "f030c62d72ab45438e673eb53a107b73": {
      "model_module": "@jupyter-widgets/controls",
      "model_module_version": "1.5.0",
      "model_name": "ButtonStyleModel",
      "state": {
       "font_weight": "bold"
      }
     },
     "f0a077789ea0418c9d7371b32016aa25": {
      "model_module": "@jupyter-widgets/base",
      "model_module_version": "1.2.0",
      "model_name": "LayoutModel",
      "state": {}
     },
     "f11921cb955b4336a5014224e02aa115": {
      "model_module": "@jupyter-widgets/controls",
      "model_module_version": "1.5.0",
      "model_name": "VBoxModel",
      "state": {
       "children": [
        "IPY_MODEL_0a87d15b8515438081445ddc2ed07a3e",
        "IPY_MODEL_d2e29a00e8e448c897d58014c5f978c9",
        "IPY_MODEL_bf8a1b69fc0c4e65a1a77cb90e196434"
       ],
       "layout": "IPY_MODEL_8fbb706eb13b4ef3b538bac3c2774d21"
      }
     },
     "f12e3f93faf94bd39aed2997a547061b": {
      "model_module": "@jupyter-widgets/base",
      "model_module_version": "1.2.0",
      "model_name": "LayoutModel",
      "state": {
       "height": "30px",
       "width": "auto"
      }
     },
     "f14025b138844852bbd8b8900c65af47": {
      "model_module": "@jupyter-widgets/base",
      "model_module_version": "1.2.0",
      "model_name": "LayoutModel",
      "state": {}
     },
     "f178b49b0eb94051b575a7222c2a625e": {
      "model_module": "@jupyter-widgets/controls",
      "model_module_version": "1.5.0",
      "model_name": "HTMLModel",
      "state": {
       "layout": "IPY_MODEL_dec9bc8f7fb342f1adad2b5a8845929f",
       "style": "IPY_MODEL_f6d03517cb2e46ac8b069a14f0235c6f",
       "value": "<p>pipework_pressure_loss_pa_per_m</p>"
      }
     },
     "f2bdea37026b4817bf1aa6402abe68f3": {
      "model_module": "@jupyter-widgets/controls",
      "model_module_version": "1.5.0",
      "model_name": "ButtonStyleModel",
      "state": {}
     },
     "f2f08df5d9bd4958b80ffe32a841c465": {
      "model_module": "@jupyter-widgets/base",
      "model_module_version": "1.2.0",
      "model_name": "LayoutModel",
      "state": {}
     },
     "f3091f455e104b76a16d06873916c295": {
      "model_module": "@jupyter-widgets/base",
      "model_module_version": "1.2.0",
      "model_name": "LayoutModel",
      "state": {}
     },
     "f3630f4a112542d494b4e0eab79a403b": {
      "model_module": "@jupyter-widgets/output",
      "model_module_version": "1.0.0",
      "model_name": "OutputModel",
      "state": {
       "layout": "IPY_MODEL_790b48a588844107b330d2a95a083862"
      }
     },
     "f427454344c8456ca950b6a6cccfc13a": {
      "model_module": "@jupyter-widgets/base",
      "model_module_version": "1.2.0",
      "model_name": "LayoutModel",
      "state": {}
     },
     "f4c654071291440e871e51c5c10d314b": {
      "model_module": "@jupyter-widgets/controls",
      "model_module_version": "1.5.0",
      "model_name": "VBoxModel",
      "state": {
       "children": [
        "IPY_MODEL_9aad29d5d1244e83b2b3a31421275c51",
        "IPY_MODEL_8a1675c7c676467b87f4ddaa534bedbe"
       ],
       "layout": "IPY_MODEL_c7b3ffaae0354f60bac4d0eec905b7cd"
      }
     },
     "f54ab20a00d841cc9d7ebd223b36b820": {
      "model_module": "@jupyter-widgets/controls",
      "model_module_version": "1.5.0",
      "model_name": "VBoxModel",
      "state": {
       "children": [
        "IPY_MODEL_0a87d15b8515438081445ddc2ed07a3e",
        "IPY_MODEL_d2e29a00e8e448c897d58014c5f978c9",
        "IPY_MODEL_bf8a1b69fc0c4e65a1a77cb90e196434"
       ],
       "layout": "IPY_MODEL_b2787c67598b4443886a48e29a88efc8"
      }
     },
     "f5af9fb573d045b7aa992ccdaf49ecd7": {
      "model_module": "@jupyter-widgets/controls",
      "model_module_version": "1.5.0",
      "model_name": "DescriptionStyleModel",
      "state": {
       "description_width": ""
      }
     },
     "f5c3714773e84dc49564c18112bce618": {
      "model_module": "@jupyter-widgets/controls",
      "model_module_version": "1.5.0",
      "model_name": "HBoxModel",
      "state": {
       "children": [
        "IPY_MODEL_965391483d4745b796cd015706a35594"
       ],
       "layout": "IPY_MODEL_7633abed1c544e529b3a057c4d0dec0e"
      }
     },
     "f5e435d2dec74285a9030e1ebfd203e7": {
      "model_module": "@jupyter-widgets/controls",
      "model_module_version": "1.5.0",
      "model_name": "DescriptionStyleModel",
      "state": {
       "description_width": ""
      }
     },
     "f69f4fba150d407bb53fecac39f5937e": {
      "model_module": "@jupyter-widgets/controls",
      "model_module_version": "1.5.0",
      "model_name": "RadioButtonsModel",
      "state": {
       "index": null,
       "layout": "IPY_MODEL_c0d356b3a8c1498a93365a742b543a6f",
       "style": "IPY_MODEL_395e30bd0dcf483e9ab0e9e33b29301b"
      }
     },
     "f6d03517cb2e46ac8b069a14f0235c6f": {
      "model_module": "@jupyter-widgets/controls",
      "model_module_version": "1.5.0",
      "model_name": "DescriptionStyleModel",
      "state": {
       "description_width": ""
      }
     },
     "f723cb61145d497bb9d598a2e7a1dc99": {
      "model_module": "@jupyter-widgets/base",
      "model_module_version": "1.2.0",
      "model_name": "LayoutModel",
      "state": {
       "align_items": "stretch",
       "display": "flex",
       "flex_flow": "row",
       "grid_auto_columns": "True",
       "justify_content": "flex-end",
       "width": "90%"
      }
     },
     "f763190672864a2a88942480dc5b71c9": {
      "model_module": "@jupyter-widgets/controls",
      "model_module_version": "1.5.0",
      "model_name": "ButtonModel",
      "state": {
       "icon": "question-circle",
       "layout": "IPY_MODEL_00bb3b5a0ba44867ba37973219bc94bd",
       "style": "IPY_MODEL_3d0557ae89cb43e8bc441b3b9168c1fa",
       "tooltip": "describes the functionality of elements in the RunApp interface"
      }
     },
     "f7976ac482b142ab8f33ca250b948e3f": {
      "model_module": "@jupyter-widgets/base",
      "model_module_version": "1.2.0",
      "model_name": "LayoutModel",
      "state": {}
     },
     "f7d2853dd24d402ca8045b2e60e34edd": {
      "model_module": "@jupyter-widgets/base",
      "model_module_version": "1.2.0",
      "model_name": "LayoutModel",
      "state": {}
     },
     "f814333f98e341b1a1f2fe250e0723c5": {
      "model_module": "@jupyter-widgets/base",
      "model_module_version": "1.2.0",
      "model_name": "LayoutModel",
      "state": {}
     },
     "f92850197caa465b837f7147a88232e2": {
      "model_module": "@jupyter-widgets/controls",
      "model_module_version": "1.5.0",
      "model_name": "DescriptionStyleModel",
      "state": {
       "description_width": ""
      }
     },
     "f95bf2aa2552475ebde9128f6825b8a9": {
      "model_module": "@jupyter-widgets/controls",
      "model_module_version": "1.5.0",
      "model_name": "HBoxModel",
      "state": {
       "children": [
        "IPY_MODEL_aa180333b2dc4d12a6e2da30f3b4f95d",
        "IPY_MODEL_e8c2f8075bb4412ab99a031d5de72cde"
       ],
       "layout": "IPY_MODEL_d4afe5ede16c4049897a62ba4ab15d52"
      }
     },
     "f9bebb1259b446368d31176f48c42ca2": {
      "model_module": "@jupyter-widgets/controls",
      "model_module_version": "1.5.0",
      "model_name": "ButtonModel",
      "state": {
       "button_style": "info",
       "description": "preview outputs",
       "layout": "IPY_MODEL_08945ea98c7b4d39a55a3fda1a16bb46",
       "style": "IPY_MODEL_54c2f389f3dd4d28ad1fa3a77f123c11",
       "tooltip": "show a preview of the output files generated when the script runs"
      }
     },
     "f9c757aa7c264d4fb9a7e3a39328aed4": {
      "model_module": "@jupyter-widgets/controls",
      "model_module_version": "1.5.0",
      "model_name": "DescriptionStyleModel",
      "state": {
       "description_width": ""
      }
     },
     "fa1c04a4f1c24da08c0fa84dfd64c304": {
      "model_module": "@jupyter-widgets/controls",
      "model_module_version": "1.5.0",
      "model_name": "HBoxModel",
      "state": {
       "children": [
        "IPY_MODEL_f95bf2aa2552475ebde9128f6825b8a9"
       ],
       "layout": "IPY_MODEL_28ca8a5c54dc4ceaaa119ab226312a8f"
      }
     },
     "fa2d9ca53346425788998a6101c11853": {
      "model_module": "@jupyter-widgets/base",
      "model_module_version": "1.2.0",
      "model_name": "LayoutModel",
      "state": {}
     },
     "fa40c4caaff64cc5913a5355d7b5c137": {
      "model_module": "@jupyter-widgets/controls",
      "model_module_version": "1.5.0",
      "model_name": "BoxModel",
      "state": {
       "children": [
        "IPY_MODEL_90b011d14067490fbe01b7e7baf2dd15"
       ],
       "layout": "IPY_MODEL_c7dbc405aae44779afa14d21caac0cae"
      }
     },
     "fa433a9248d646a8814a121f58ead4f4": {
      "model_module": "@jupyter-widgets/base",
      "model_module_version": "1.2.0",
      "model_name": "LayoutModel",
      "state": {
       "align_items": "stretch",
       "display": "flex",
       "flex_flow": "row",
       "grid_auto_columns": "True",
       "justify_content": "flex-end",
       "width": "90%"
      }
     },
     "fa54fbdd038048aaaf6fd9422fcb6030": {
      "model_module": "@jupyter-widgets/base",
      "model_module_version": "1.2.0",
      "model_name": "LayoutModel",
      "state": {}
     },
     "faaef940075b4e59944838a81b9c35e2": {
      "model_module": "@jupyter-widgets/controls",
      "model_module_version": "1.5.0",
      "model_name": "VBoxModel",
      "state": {
       "children": [
        "IPY_MODEL_7538748e98be47329a6d2db3fe56dbaa",
        "IPY_MODEL_4a387d649040426fa0f3b864474466ca",
        "IPY_MODEL_6b01e4001d7e418b8e80d7cbb6892f96",
        "IPY_MODEL_ad5ee9014b454ca4a03ea5d7ee722b7f",
        "IPY_MODEL_81a94bbc97224df89e505966ead4936e",
        "IPY_MODEL_704ef309bf7d44198d8393635c6a61d6",
        "IPY_MODEL_54bdf79c9a3140259e2f89716919656a"
       ],
       "layout": "IPY_MODEL_06252b4230034084b4eb670da5a0b095"
      }
     },
     "fb2f2d334e9d4205aee991fafc3bee37": {
      "model_module": "@jupyter-widgets/base",
      "model_module_version": "1.2.0",
      "model_name": "LayoutModel",
      "state": {
       "align_items": "stretch",
       "width": "100%"
      }
     },
     "fbf2af10152f405eb592a2a37e4a1b1c": {
      "model_module": "@jupyter-widgets/controls",
      "model_module_version": "1.5.0",
      "model_name": "VBoxModel",
      "state": {
       "children": [
        "IPY_MODEL_03d6dbf850a748a6add66a8a0a7ba933",
        "IPY_MODEL_88ef00bb8fc245cb94664b8ef0632a9f",
        "IPY_MODEL_1d28210d7f1148f1a91a5e89dc61dc3b"
       ],
       "layout": "IPY_MODEL_c8b788e273d140cbbad2bc7f3fb64d05"
      }
     },
     "fd39fbac5a8f446cbbbdcff5325fe2c9": {
      "model_module": "@jupyter-widgets/controls",
      "model_module_version": "1.5.0",
      "model_name": "VBoxModel",
      "state": {
       "children": [
        "IPY_MODEL_75e77b81ecd740aeb0c6f5fdd8dd298b",
        "IPY_MODEL_6894a1a9b41b4536895c89021f28dbe7",
        "IPY_MODEL_e26ca6d90cd04f139bcfbefcb88779ef"
       ],
       "layout": "IPY_MODEL_16ff6e3fb6ae4579a9b74b7f21f00552"
      }
     },
     "fd5795250cc94cc9b8f7f82e69d41089": {
      "model_module": "@jupyter-widgets/controls",
      "model_module_version": "1.5.0",
      "model_name": "HTMLModel",
      "state": {
       "layout": "IPY_MODEL_121a8f8b2a6e40519a124ff91b7da864",
       "style": "IPY_MODEL_4078e5cc3d6348339c86405dcc7d6960",
       "value": "<p>total volume of water within the closed mechanical system</p>"
      }
     },
     "fd61482aa03247fcb837b0528f5d7d69": {
      "model_module": "@jupyter-widgets/controls",
      "model_module_version": "1.5.0",
      "model_name": "HTMLModel",
      "state": {
       "layout": "IPY_MODEL_c2433168f3b64f8487327c88fc3f9ba1",
       "style": "IPY_MODEL_f5af9fb573d045b7aa992ccdaf49ecd7",
       "value": "<p>height_difference_m</p>"
      }
     },
     "ff09ba5d8d714896ab43789a254fac43": {
      "model_module": "@jupyter-widgets/controls",
      "model_module_version": "1.5.0",
      "model_name": "DescriptionStyleModel",
      "state": {
       "description_width": ""
      }
     },
     "ff132ab8636c41df870b30da6d7c0a8b": {
      "model_module": "@jupyter-widgets/controls",
      "model_module_version": "1.5.0",
      "model_name": "DescriptionStyleModel",
      "state": {
       "description_width": ""
      }
     },
     "ff330a6d455b468fa248fefc49013fea": {
      "model_module": "@jupyter-widgets/base",
      "model_module_version": "1.2.0",
      "model_name": "LayoutModel",
      "state": {}
     },
     "fffe1778b3744718862a4604dec822d1": {
      "model_module": "@jupyter-widgets/controls",
      "model_module_version": "1.5.0",
      "model_name": "ButtonStyleModel",
      "state": {
       "font_weight": "bold"
      }
     }
    },
    "version_major": 2,
    "version_minor": 0
   }
  }
 },
 "nbformat": 4,
 "nbformat_minor": 4
}
