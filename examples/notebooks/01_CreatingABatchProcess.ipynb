{
 "cells": [
  {
   "cell_type": "code",
   "execution_count": 1,
   "metadata": {},
   "outputs": [],
   "source": [
    "import os\n",
    "NBFDIR = os.path.dirname(os.path.realpath('__file__'))\n",
    "import pandas as pd\n",
    "from ipyrun.ipyrun import RunApp, RunApps\n",
    "from pprint import pprint"
   ]
  },
  {
   "cell_type": "markdown",
   "metadata": {},
   "source": [
    "# Creating a Batch Process"
   ]
  },
  {
   "cell_type": "markdown",
   "metadata": {},
   "source": [
    "In the last example we made a RunApp widget. Here we will create a batch of Widgets that can be run together."
   ]
  },
  {
   "cell_type": "markdown",
   "metadata": {},
   "source": [
    "## the previous example of 1 script:"
   ]
  },
  {
   "cell_type": "code",
   "execution_count": 2,
   "metadata": {},
   "outputs": [
    {
     "data": {
      "application/vnd.jupyter.widget-view+json": {
       "model_id": "57b82d7b46b9428b865582af58fe59eb",
       "version_major": 2,
       "version_minor": 0
      },
      "text/plain": [
       "HBox(children=(Checkbox(value=False, indent=False, layout=Layout(height='30px', max_width='30px', padding='3px…"
      ]
     },
     "metadata": {},
     "output_type": "display_data"
    },
    {
     "data": {
      "application/vnd.jupyter.widget-view+json": {
       "model_id": "ff0869fbecbe4c81a0ba153d783f8240",
       "version_major": 2,
       "version_minor": 0
      },
      "text/plain": [
       "Output()"
      ]
     },
     "metadata": {},
     "output_type": "display_data"
    }
   ],
   "source": [
    "\n",
    "fpth_script = r'..\\scripts\\expansion_vessel_sizing.py'\n",
    "config={\n",
    "    'fpth_script':os.path.realpath(fpth_script),\n",
    "    'fdir':NBFDIR,\n",
    "    }  \n",
    "r = RunApp(config)\n",
    "r "
   ]
  },
  {
   "cell_type": "markdown",
   "metadata": {},
   "source": [
    "## creating a batch\n",
    "\n",
    "to create a batch you simply create a list of config dicts.  \n",
    "recall the configuration that is set up when the RunApp is initiated:\n"
   ]
  },
  {
   "cell_type": "code",
   "execution_count": 3,
   "metadata": {},
   "outputs": [
    {
     "name": "stdout",
     "output_type": "stream",
     "text": [
      "{'fdir': 'C:\\\\engDev\\\\git_mf\\\\ipyrun\\\\examples\\\\notebooks',\n",
      " 'fdir_config': 'C:\\\\engDev\\\\git_mf\\\\ipyrun\\\\examples\\\\notebooks\\\\appdata\\\\config',\n",
      " 'fdir_inputs': 'C:\\\\engDev\\\\git_mf\\\\ipyrun\\\\examples\\\\notebooks\\\\appdata\\\\inputs',\n",
      " 'fdir_inputs_archive': 'C:\\\\engDev\\\\git_mf\\\\ipyrun\\\\examples\\\\notebooks\\\\appdata\\\\inputs\\\\archive',\n",
      " 'fdir_log': 'C:\\\\engDev\\\\git_mf\\\\ipyrun\\\\examples\\\\notebooks\\\\appdata\\\\log',\n",
      " 'fdir_outputs': ['C:\\\\engDev\\\\git_mf\\\\ipyrun\\\\examples\\\\notebooks'],\n",
      " 'fnm_config': 'config-expansion_vessel_sizing.json',\n",
      " 'fnm_log': 'log-expansion_vessel_sizing.csv',\n",
      " 'fpth_config': 'C:\\\\engDev\\\\git_mf\\\\ipyrun\\\\examples\\\\notebooks\\\\appdata\\\\config\\\\config-expansion_vessel_sizing.json',\n",
      " 'fpth_inputs': 'C:\\\\engDev\\\\git_mf\\\\ipyrun\\\\examples\\\\notebooks\\\\appdata\\\\inputs\\\\inputs-expansion_vessel_sizing.json',\n",
      " 'fpth_inputs_options': {'project': {'fdir': 'C:\\\\engDev\\\\git_mf\\\\ipyrun\\\\examples\\\\notebooks\\\\appdata\\\\inputs',\n",
      "                                     'fpths': ['C:\\\\engDev\\\\git_mf\\\\ipyrun\\\\examples\\\\notebooks\\\\appdata\\\\inputs\\\\inputs-expansion_vessel_sizing.json',\n",
      "                                               'C:\\\\engDev\\\\git_mf\\\\ipyrun\\\\examples\\\\notebooks\\\\appdata\\\\inputs\\\\archive\\\\20200612_1731-jg-inputs-expansion_vessel_sizing.json',\n",
      "                                               'C:\\\\engDev\\\\git_mf\\\\ipyrun\\\\examples\\\\notebooks\\\\appdata\\\\inputs\\\\archive\\\\20200612_1817-jg-inputs-expansion_vessel_sizing.json',\n",
      "                                               'C:\\\\engDev\\\\git_mf\\\\ipyrun\\\\examples\\\\notebooks\\\\appdata\\\\inputs\\\\archive\\\\20200612_1818-jg-inputs-expansion_vessel_sizing.json',\n",
      "                                               'C:\\\\engDev\\\\git_mf\\\\ipyrun\\\\examples\\\\notebooks\\\\appdata\\\\inputs\\\\archive\\\\20200612_1819-jg-inputs-expansion_vessel_sizing.json',\n",
      "                                               'C:\\\\engDev\\\\git_mf\\\\ipyrun\\\\examples\\\\notebooks\\\\appdata\\\\inputs\\\\archive\\\\20200612_1900-jg-inputs-expansion_vessel_sizing.json',\n",
      "                                               'C:\\\\engDev\\\\git_mf\\\\ipyrun\\\\examples\\\\notebooks\\\\appdata\\\\inputs\\\\archive\\\\20200615_2211-jg-inputs-expansion_vessel_sizing.json',\n",
      "                                               'C:\\\\engDev\\\\git_mf\\\\ipyrun\\\\examples\\\\notebooks\\\\appdata\\\\inputs\\\\archive\\\\20200616_1020-jg-inputs-expansion_vessel_sizing.json',\n",
      "                                               'C:\\\\engDev\\\\git_mf\\\\ipyrun\\\\examples\\\\notebooks\\\\appdata\\\\inputs\\\\archive\\\\20200616_1021-jg-inputs-expansion_vessel_sizing.json',\n",
      "                                               'C:\\\\engDev\\\\git_mf\\\\ipyrun\\\\examples\\\\notebooks\\\\appdata\\\\inputs\\\\archive\\\\20200624_1101-jg-inputs-expansion_vessel_sizing.json']},\n",
      "                         'template': {'fdir': 'C:\\\\engDev\\\\git_mf\\\\ipyrun\\\\examples\\\\scripts\\\\template_inputs',\n",
      "                                      'fpths': ['C:\\\\engDev\\\\git_mf\\\\ipyrun\\\\examples\\\\scripts\\\\template_inputs\\\\inputs-expansion_vessel_sizing.json']}},\n",
      " 'fpth_log': 'C:\\\\engDev\\\\git_mf\\\\ipyrun\\\\examples\\\\notebooks\\\\appdata\\\\log\\\\log-expansion_vessel_sizing.csv',\n",
      " 'fpth_script': 'C:\\\\engDev\\\\git_mf\\\\ipyrun\\\\examples\\\\scripts\\\\expansion_vessel_sizing.py',\n",
      " 'fpths_outputs': {'0': 'C:\\\\engDev\\\\git_mf\\\\ipyrun\\\\examples\\\\notebooks\\\\expansion_vessel_sizing.csv'},\n",
      " 'jobno': 'C:\\\\e',\n",
      " 'pretty_name': 'expansion_vessel_sizing',\n",
      " 'process_name': 'expansion_vessel_sizing',\n",
      " 'script_outputs': {'0': {'description': 'a simple calc for sizing expansion '\n",
      "                                         'vessels. could be expanded to size '\n",
      "                                         'many vessels.',\n",
      "                          'fdir': '.',\n",
      "                          'fnm': 'expansion_vessel_sizing.csv'}}}\n"
     ]
    }
   ],
   "source": [
    "pprint(r.config)"
   ]
  },
  {
   "cell_type": "markdown",
   "metadata": {},
   "source": [
    "the \"process_name\" variable by default is simply the filename of the script. this means that if we are creating a batch that uses the same script with different inputs, we need to manually assign different process_name's:"
   ]
  },
  {
   "cell_type": "code",
   "execution_count": 4,
   "metadata": {},
   "outputs": [],
   "source": [
    "config={\n",
    "    'fpth_script':os.path.realpath(fpth_script),\n",
    "    'fdir':NBFDIR,\n",
    "    }  \n",
    "iters = 3\n",
    "batch = []\n",
    "for n in range(0,iters):\n",
    "    tmp = config.copy()\n",
    "    tmp.update({'process_name':os.path.splitext(os.path.basename(config['fpth_script']))[0] + '_' + str(n)})\n",
    "    batch.append(tmp)"
   ]
  },
  {
   "cell_type": "code",
   "execution_count": 5,
   "metadata": {},
   "outputs": [
    {
     "data": {
      "application/vnd.jupyter.widget-view+json": {
       "model_id": "9168f54991d74c1eb0427e62abe0303e",
       "version_major": 2,
       "version_minor": 0
      },
      "text/plain": [
       "HBox(children=(Button(icon='eye-slash', layout=Layout(width='5%'), style=ButtonStyle(font_weight='bold'), tool…"
      ]
     },
     "metadata": {},
     "output_type": "display_data"
    },
    {
     "data": {
      "application/vnd.jupyter.widget-view+json": {
       "model_id": "ba207298f34d4123b621cc90a28ea3e0",
       "version_major": 2,
       "version_minor": 0
      },
      "text/plain": [
       "Output()"
      ]
     },
     "metadata": {},
     "output_type": "display_data"
    },
    {
     "data": {
      "application/vnd.jupyter.widget-view+json": {
       "model_id": "1c69e66349f5421aaa70203a1899ad63",
       "version_major": 2,
       "version_minor": 0
      },
      "text/plain": [
       "HBox(children=(Checkbox(value=False, indent=False, layout=Layout(height='30px', max_width='30px', padding='3px…"
      ]
     },
     "metadata": {},
     "output_type": "display_data"
    },
    {
     "data": {
      "application/vnd.jupyter.widget-view+json": {
       "model_id": "626ee4d3213346e9b14d77ba9060939b",
       "version_major": 2,
       "version_minor": 0
      },
      "text/plain": [
       "Output()"
      ]
     },
     "metadata": {},
     "output_type": "display_data"
    },
    {
     "data": {
      "application/vnd.jupyter.widget-view+json": {
       "model_id": "1893dc4d23be46f4996c93bcd1b69d99",
       "version_major": 2,
       "version_minor": 0
      },
      "text/plain": [
       "HBox(children=(Checkbox(value=False, indent=False, layout=Layout(height='30px', max_width='30px', padding='3px…"
      ]
     },
     "metadata": {},
     "output_type": "display_data"
    },
    {
     "data": {
      "application/vnd.jupyter.widget-view+json": {
       "model_id": "206b49e32c494b2ebdeba32f5798a487",
       "version_major": 2,
       "version_minor": 0
      },
      "text/plain": [
       "Output()"
      ]
     },
     "metadata": {},
     "output_type": "display_data"
    },
    {
     "data": {
      "application/vnd.jupyter.widget-view+json": {
       "model_id": "d0459fe13b1e4f69a65f1ae0fb5d953e",
       "version_major": 2,
       "version_minor": 0
      },
      "text/plain": [
       "HBox(children=(Checkbox(value=False, indent=False, layout=Layout(height='30px', max_width='30px', padding='3px…"
      ]
     },
     "metadata": {},
     "output_type": "display_data"
    },
    {
     "data": {
      "application/vnd.jupyter.widget-view+json": {
       "model_id": "e47ba788f1ac4a11a7a81b8af540c4b0",
       "version_major": 2,
       "version_minor": 0
      },
      "text/plain": [
       "Output()"
      ]
     },
     "metadata": {},
     "output_type": "display_data"
    }
   ],
   "source": [
    "RunApps(batch)"
   ]
  },
  {
   "cell_type": "markdown",
   "metadata": {},
   "source": [
    "__note__ if all the scripts are different the additional step of manually assigning the process names is not required. we should also probably "
   ]
  },
  {
   "cell_type": "code",
   "execution_count": null,
   "metadata": {},
   "outputs": [],
   "source": []
  },
  {
   "cell_type": "code",
   "execution_count": null,
   "metadata": {},
   "outputs": [],
   "source": []
  },
  {
   "cell_type": "code",
   "execution_count": null,
   "metadata": {},
   "outputs": [],
   "source": []
  },
  {
   "cell_type": "markdown",
   "metadata": {},
   "source": [
    "# header\n",
    "## header1\n",
    "\n",
    "- fasdf\n",
    "- "
   ]
  },
  {
   "cell_type": "code",
   "execution_count": null,
   "metadata": {},
   "outputs": [],
   "source": []
  },
  {
   "cell_type": "code",
   "execution_count": null,
   "metadata": {},
   "outputs": [],
   "source": []
  },
  {
   "cell_type": "code",
   "execution_count": null,
   "metadata": {},
   "outputs": [],
   "source": []
  },
  {
   "cell_type": "code",
   "execution_count": null,
   "metadata": {},
   "outputs": [],
   "source": [
    "# import\n",
    "import plotly.io as pio\n",
    "import plotly.graph_objs as go\n",
    "\n",
    "fig.write_json('BMSDataDrivenWaterfall.json')\n",
    "pio.read_json('BMSDataDrivenWaterfall.json')"
   ]
  },
  {
   "cell_type": "code",
   "execution_count": 38,
   "metadata": {},
   "outputs": [
    {
     "data": {
      "text/plain": [
       "'plotlyexample.plotly.json'"
      ]
     },
     "execution_count": 38,
     "metadata": {},
     "output_type": "execute_result"
    }
   ],
   "source": [
    "fpth"
   ]
  },
  {
   "cell_type": "code",
   "execution_count": 37,
   "metadata": {},
   "outputs": [
    {
     "data": {
      "application/vnd.jupyter.widget-view+json": {
       "model_id": "dfa67bfd174542149784fd80795edbc6",
       "version_major": 2,
       "version_minor": 0
      },
      "text/plain": [
       "FigureWidget({\n",
       "    'data': [{'type': 'scatter', 'uid': '52f18b50-fa60-47dd-97c2-71aede3f6e89', 'y': [1, 2, 3]}…"
      ]
     },
     "metadata": {},
     "output_type": "display_data"
    }
   ],
   "source": [
    "# import\n",
    "import plotly.io as pio\n",
    "import plotly.graph_objs as go\n",
    "\n",
    "# make a figure\n",
    "# go to the plotly docs for help: https://plot.ly/python/figurewidget/\n",
    "\n",
    "fig = go.FigureWidget()\n",
    "fig.add_scatter(y=[1,2,3])\n",
    "fig"
   ]
  },
  {
   "cell_type": "code",
   "execution_count": null,
   "metadata": {},
   "outputs": [],
   "source": []
  },
  {
   "cell_type": "code",
   "execution_count": null,
   "metadata": {},
   "outputs": [],
   "source": []
  },
  {
   "cell_type": "code",
   "execution_count": 28,
   "metadata": {},
   "outputs": [],
   "source": [
    "fpth = 'plotlyexample.plotly.json'\n",
    "with open(fpth, 'r') as f:\n",
    "    json_file = json.load(f)"
   ]
  },
  {
   "cell_type": "code",
   "execution_count": 27,
   "metadata": {},
   "outputs": [
    {
     "ename": "JSONDecodeError",
     "evalue": "Expecting value: line 1 column 1 (char 0)",
     "output_type": "error",
     "traceback": [
      "\u001b[1;31m---------------------------------------------------------------------------\u001b[0m",
      "\u001b[1;31mJSONDecodeError\u001b[0m                           Traceback (most recent call last)",
      "\u001b[1;32m<ipython-input-27-8cb0da6adfdb>\u001b[0m in \u001b[0;36m<module>\u001b[1;34m\u001b[0m\n\u001b[0;32m      2\u001b[0m \u001b[1;33m\u001b[0m\u001b[0m\n\u001b[0;32m      3\u001b[0m \u001b[1;32mwith\u001b[0m \u001b[0mopen\u001b[0m\u001b[1;33m(\u001b[0m\u001b[0mfpth\u001b[0m\u001b[1;33m,\u001b[0m \u001b[1;34m'r'\u001b[0m\u001b[1;33m)\u001b[0m \u001b[1;32mas\u001b[0m \u001b[0mf\u001b[0m\u001b[1;33m:\u001b[0m\u001b[1;33m\u001b[0m\u001b[1;33m\u001b[0m\u001b[0m\n\u001b[1;32m----> 4\u001b[1;33m     \u001b[0mjson_file\u001b[0m \u001b[1;33m=\u001b[0m \u001b[0mjson\u001b[0m\u001b[1;33m.\u001b[0m\u001b[0mloads\u001b[0m\u001b[1;33m(\u001b[0m\u001b[1;34m'plotlyexample.plotly.json'\u001b[0m\u001b[1;33m)\u001b[0m\u001b[1;33m\u001b[0m\u001b[1;33m\u001b[0m\u001b[0m\n\u001b[0m\u001b[0;32m      5\u001b[0m \u001b[1;33m\u001b[0m\u001b[0m\n\u001b[0;32m      6\u001b[0m \u001b[0mjson_file\u001b[0m\u001b[1;33m\u001b[0m\u001b[1;33m\u001b[0m\u001b[0m\n",
      "\u001b[1;32mC:\\ProgramData\\Miniconda3\\envs\\mf_main\\lib\\json\\__init__.py\u001b[0m in \u001b[0;36mloads\u001b[1;34m(s, encoding, cls, object_hook, parse_float, parse_int, parse_constant, object_pairs_hook, **kw)\u001b[0m\n\u001b[0;32m    346\u001b[0m             \u001b[0mparse_int\u001b[0m \u001b[1;32mis\u001b[0m \u001b[1;32mNone\u001b[0m \u001b[1;32mand\u001b[0m \u001b[0mparse_float\u001b[0m \u001b[1;32mis\u001b[0m \u001b[1;32mNone\u001b[0m \u001b[1;32mand\u001b[0m\u001b[1;33m\u001b[0m\u001b[1;33m\u001b[0m\u001b[0m\n\u001b[0;32m    347\u001b[0m             parse_constant is None and object_pairs_hook is None and not kw):\n\u001b[1;32m--> 348\u001b[1;33m         \u001b[1;32mreturn\u001b[0m \u001b[0m_default_decoder\u001b[0m\u001b[1;33m.\u001b[0m\u001b[0mdecode\u001b[0m\u001b[1;33m(\u001b[0m\u001b[0ms\u001b[0m\u001b[1;33m)\u001b[0m\u001b[1;33m\u001b[0m\u001b[1;33m\u001b[0m\u001b[0m\n\u001b[0m\u001b[0;32m    349\u001b[0m     \u001b[1;32mif\u001b[0m \u001b[0mcls\u001b[0m \u001b[1;32mis\u001b[0m \u001b[1;32mNone\u001b[0m\u001b[1;33m:\u001b[0m\u001b[1;33m\u001b[0m\u001b[1;33m\u001b[0m\u001b[0m\n\u001b[0;32m    350\u001b[0m         \u001b[0mcls\u001b[0m \u001b[1;33m=\u001b[0m \u001b[0mJSONDecoder\u001b[0m\u001b[1;33m\u001b[0m\u001b[1;33m\u001b[0m\u001b[0m\n",
      "\u001b[1;32mC:\\ProgramData\\Miniconda3\\envs\\mf_main\\lib\\json\\decoder.py\u001b[0m in \u001b[0;36mdecode\u001b[1;34m(self, s, _w)\u001b[0m\n\u001b[0;32m    335\u001b[0m \u001b[1;33m\u001b[0m\u001b[0m\n\u001b[0;32m    336\u001b[0m         \"\"\"\n\u001b[1;32m--> 337\u001b[1;33m         \u001b[0mobj\u001b[0m\u001b[1;33m,\u001b[0m \u001b[0mend\u001b[0m \u001b[1;33m=\u001b[0m \u001b[0mself\u001b[0m\u001b[1;33m.\u001b[0m\u001b[0mraw_decode\u001b[0m\u001b[1;33m(\u001b[0m\u001b[0ms\u001b[0m\u001b[1;33m,\u001b[0m \u001b[0midx\u001b[0m\u001b[1;33m=\u001b[0m\u001b[0m_w\u001b[0m\u001b[1;33m(\u001b[0m\u001b[0ms\u001b[0m\u001b[1;33m,\u001b[0m \u001b[1;36m0\u001b[0m\u001b[1;33m)\u001b[0m\u001b[1;33m.\u001b[0m\u001b[0mend\u001b[0m\u001b[1;33m(\u001b[0m\u001b[1;33m)\u001b[0m\u001b[1;33m)\u001b[0m\u001b[1;33m\u001b[0m\u001b[1;33m\u001b[0m\u001b[0m\n\u001b[0m\u001b[0;32m    338\u001b[0m         \u001b[0mend\u001b[0m \u001b[1;33m=\u001b[0m \u001b[0m_w\u001b[0m\u001b[1;33m(\u001b[0m\u001b[0ms\u001b[0m\u001b[1;33m,\u001b[0m \u001b[0mend\u001b[0m\u001b[1;33m)\u001b[0m\u001b[1;33m.\u001b[0m\u001b[0mend\u001b[0m\u001b[1;33m(\u001b[0m\u001b[1;33m)\u001b[0m\u001b[1;33m\u001b[0m\u001b[1;33m\u001b[0m\u001b[0m\n\u001b[0;32m    339\u001b[0m         \u001b[1;32mif\u001b[0m \u001b[0mend\u001b[0m \u001b[1;33m!=\u001b[0m \u001b[0mlen\u001b[0m\u001b[1;33m(\u001b[0m\u001b[0ms\u001b[0m\u001b[1;33m)\u001b[0m\u001b[1;33m:\u001b[0m\u001b[1;33m\u001b[0m\u001b[1;33m\u001b[0m\u001b[0m\n",
      "\u001b[1;32mC:\\ProgramData\\Miniconda3\\envs\\mf_main\\lib\\json\\decoder.py\u001b[0m in \u001b[0;36mraw_decode\u001b[1;34m(self, s, idx)\u001b[0m\n\u001b[0;32m    353\u001b[0m             \u001b[0mobj\u001b[0m\u001b[1;33m,\u001b[0m \u001b[0mend\u001b[0m \u001b[1;33m=\u001b[0m \u001b[0mself\u001b[0m\u001b[1;33m.\u001b[0m\u001b[0mscan_once\u001b[0m\u001b[1;33m(\u001b[0m\u001b[0ms\u001b[0m\u001b[1;33m,\u001b[0m \u001b[0midx\u001b[0m\u001b[1;33m)\u001b[0m\u001b[1;33m\u001b[0m\u001b[1;33m\u001b[0m\u001b[0m\n\u001b[0;32m    354\u001b[0m         \u001b[1;32mexcept\u001b[0m \u001b[0mStopIteration\u001b[0m \u001b[1;32mas\u001b[0m \u001b[0merr\u001b[0m\u001b[1;33m:\u001b[0m\u001b[1;33m\u001b[0m\u001b[1;33m\u001b[0m\u001b[0m\n\u001b[1;32m--> 355\u001b[1;33m             \u001b[1;32mraise\u001b[0m \u001b[0mJSONDecodeError\u001b[0m\u001b[1;33m(\u001b[0m\u001b[1;34m\"Expecting value\"\u001b[0m\u001b[1;33m,\u001b[0m \u001b[0ms\u001b[0m\u001b[1;33m,\u001b[0m \u001b[0merr\u001b[0m\u001b[1;33m.\u001b[0m\u001b[0mvalue\u001b[0m\u001b[1;33m)\u001b[0m \u001b[1;32mfrom\u001b[0m \u001b[1;32mNone\u001b[0m\u001b[1;33m\u001b[0m\u001b[1;33m\u001b[0m\u001b[0m\n\u001b[0m\u001b[0;32m    356\u001b[0m         \u001b[1;32mreturn\u001b[0m \u001b[0mobj\u001b[0m\u001b[1;33m,\u001b[0m \u001b[0mend\u001b[0m\u001b[1;33m\u001b[0m\u001b[1;33m\u001b[0m\u001b[0m\n",
      "\u001b[1;31mJSONDecodeError\u001b[0m: Expecting value: line 1 column 1 (char 0)"
     ]
    }
   ],
   "source": [
    "import json\n",
    "\n",
    "with open(fpth, 'r') as f:\n",
    "    json_file = json.loads()\n",
    "    \n",
    "json_file"
   ]
  },
  {
   "cell_type": "code",
   "execution_count": 34,
   "metadata": {},
   "outputs": [],
   "source": [
    "# import\n",
    "import plotly.io as pio\n",
    "import plotly.graph_objs as go"
   ]
  },
  {
   "cell_type": "code",
   "execution_count": 9,
   "metadata": {},
   "outputs": [
    {
     "ename": "TypeError",
     "evalue": "bar() got an unexpected keyword argument 'data'",
     "output_type": "error",
     "traceback": [
      "\u001b[1;31m---------------------------------------------------------------------------\u001b[0m",
      "\u001b[1;31mTypeError\u001b[0m                                 Traceback (most recent call last)",
      "\u001b[1;32m<ipython-input-9-ea1b683f4707>\u001b[0m in \u001b[0;36m<module>\u001b[1;34m\u001b[0m\n\u001b[0;32m      1\u001b[0m \u001b[1;32mfrom\u001b[0m \u001b[0mmf_modules\u001b[0m\u001b[1;33m.\u001b[0m\u001b[0mpydtype_operations\u001b[0m \u001b[1;32mimport\u001b[0m \u001b[0mread_json\u001b[0m\u001b[1;33m\u001b[0m\u001b[1;33m\u001b[0m\u001b[0m\n\u001b[0;32m      2\u001b[0m \u001b[1;32mimport\u001b[0m \u001b[0mplotly\u001b[0m\u001b[1;33m.\u001b[0m\u001b[0mexpress\u001b[0m \u001b[1;32mas\u001b[0m \u001b[0mpx\u001b[0m\u001b[1;33m\u001b[0m\u001b[1;33m\u001b[0m\u001b[0m\n\u001b[1;32m----> 3\u001b[1;33m \u001b[0mpx\u001b[0m\u001b[1;33m.\u001b[0m\u001b[0mbar\u001b[0m\u001b[1;33m(\u001b[0m\u001b[1;33m**\u001b[0m\u001b[0mread_json\u001b[0m\u001b[1;33m(\u001b[0m\u001b[1;34mr'plotlyexample.json'\u001b[0m\u001b[1;33m)\u001b[0m\u001b[1;33m)\u001b[0m\u001b[1;33m\u001b[0m\u001b[1;33m\u001b[0m\u001b[0m\n\u001b[0m",
      "\u001b[1;31mTypeError\u001b[0m: bar() got an unexpected keyword argument 'data'"
     ]
    }
   ],
   "source": [
    "from mf_modules.pydtype_operations import read_json\n",
    "import plotly.express as px\n",
    "px.bar(**read_json(r'plotlyexample.json'))\n"
   ]
  },
  {
   "cell_type": "code",
   "execution_count": 35,
   "metadata": {},
   "outputs": [
    {
     "ename": "ValueError",
     "evalue": "\n    Invalid value of type 'builtins.str' received for the 'arrowcolor' property of layout.annotation\n        Received value: ''\n\n    The 'arrowcolor' property is a color and may be specified as:\n      - A hex string (e.g. '#ff0000')\n      - An rgb/rgba string (e.g. 'rgb(255,0,0)')\n      - An hsl/hsla string (e.g. 'hsl(0,100%,50%)')\n      - An hsv/hsva string (e.g. 'hsv(0,100%,100%)')\n      - A named CSS color:\n            aliceblue, antiquewhite, aqua, aquamarine, azure,\n            beige, bisque, black, blanchedalmond, blue,\n            blueviolet, brown, burlywood, cadetblue,\n            chartreuse, chocolate, coral, cornflowerblue,\n            cornsilk, crimson, cyan, darkblue, darkcyan,\n            darkgoldenrod, darkgray, darkgrey, darkgreen,\n            darkkhaki, darkmagenta, darkolivegreen, darkorange,\n            darkorchid, darkred, darksalmon, darkseagreen,\n            darkslateblue, darkslategray, darkslategrey,\n            darkturquoise, darkviolet, deeppink, deepskyblue,\n            dimgray, dimgrey, dodgerblue, firebrick,\n            floralwhite, forestgreen, fuchsia, gainsboro,\n            ghostwhite, gold, goldenrod, gray, grey, green,\n            greenyellow, honeydew, hotpink, indianred, indigo,\n            ivory, khaki, lavender, lavenderblush, lawngreen,\n            lemonchiffon, lightblue, lightcoral, lightcyan,\n            lightgoldenrodyellow, lightgray, lightgrey,\n            lightgreen, lightpink, lightsalmon, lightseagreen,\n            lightskyblue, lightslategray, lightslategrey,\n            lightsteelblue, lightyellow, lime, limegreen,\n            linen, magenta, maroon, mediumaquamarine,\n            mediumblue, mediumorchid, mediumpurple,\n            mediumseagreen, mediumslateblue, mediumspringgreen,\n            mediumturquoise, mediumvioletred, midnightblue,\n            mintcream, mistyrose, moccasin, navajowhite, navy,\n            oldlace, olive, olivedrab, orange, orangered,\n            orchid, palegoldenrod, palegreen, paleturquoise,\n            palevioletred, papayawhip, peachpuff, peru, pink,\n            plum, powderblue, purple, red, rosybrown,\n            royalblue, rebeccapurple, saddlebrown, salmon,\n            sandybrown, seagreen, seashell, sienna, silver,\n            skyblue, slateblue, slategray, slategrey, snow,\n            springgreen, steelblue, tan, teal, thistle, tomato,\n            turquoise, violet, wheat, white, whitesmoke,\n            yellow, yellowgreen",
     "output_type": "error",
     "traceback": [
      "\u001b[1;31m---------------------------------------------------------------------------\u001b[0m",
      "\u001b[1;31mValueError\u001b[0m                                Traceback (most recent call last)",
      "\u001b[1;32m<ipython-input-35-9292c9aca16c>\u001b[0m in \u001b[0;36m<module>\u001b[1;34m\u001b[0m\n\u001b[0;32m      1\u001b[0m \u001b[1;32mimport\u001b[0m \u001b[0mplotly\u001b[0m\u001b[1;33m\u001b[0m\u001b[1;33m\u001b[0m\u001b[0m\n\u001b[0;32m      2\u001b[0m \u001b[0mfpth\u001b[0m \u001b[1;33m=\u001b[0m \u001b[1;34mr'plotlyexample.plotly.json'\u001b[0m\u001b[1;33m\u001b[0m\u001b[1;33m\u001b[0m\u001b[0m\n\u001b[1;32m----> 3\u001b[1;33m \u001b[0mfig_after_work\u001b[0m \u001b[1;33m=\u001b[0m \u001b[0mpio\u001b[0m\u001b[1;33m.\u001b[0m\u001b[0mread_json\u001b[0m\u001b[1;33m(\u001b[0m\u001b[0mfpth\u001b[0m\u001b[1;33m,\u001b[0m \u001b[0moutput_type\u001b[0m\u001b[1;33m=\u001b[0m\u001b[1;34m'FigureWidget'\u001b[0m\u001b[1;33m)\u001b[0m\u001b[1;33m\u001b[0m\u001b[1;33m\u001b[0m\u001b[0m\n\u001b[0m\u001b[0;32m      4\u001b[0m \u001b[0mfig_after_work\u001b[0m\u001b[1;33m\u001b[0m\u001b[1;33m\u001b[0m\u001b[0m\n",
      "\u001b[1;32mC:\\ProgramData\\Miniconda3\\envs\\mf_main\\lib\\site-packages\\plotly\\io\\_json.py\u001b[0m in \u001b[0;36mread_json\u001b[1;34m(file, output_type, skip_invalid)\u001b[0m\n\u001b[0;32m    194\u001b[0m     \u001b[1;31m# Construct and return figure\u001b[0m\u001b[1;33m\u001b[0m\u001b[1;33m\u001b[0m\u001b[1;33m\u001b[0m\u001b[0m\n\u001b[0;32m    195\u001b[0m     \u001b[1;31m# ---------------------------\u001b[0m\u001b[1;33m\u001b[0m\u001b[1;33m\u001b[0m\u001b[1;33m\u001b[0m\u001b[0m\n\u001b[1;32m--> 196\u001b[1;33m     \u001b[1;32mreturn\u001b[0m \u001b[0mfrom_json\u001b[0m\u001b[1;33m(\u001b[0m\u001b[0mjson_str\u001b[0m\u001b[1;33m,\u001b[0m \u001b[0mskip_invalid\u001b[0m\u001b[1;33m=\u001b[0m\u001b[0mskip_invalid\u001b[0m\u001b[1;33m,\u001b[0m \u001b[0moutput_type\u001b[0m\u001b[1;33m=\u001b[0m\u001b[0moutput_type\u001b[0m\u001b[1;33m)\u001b[0m\u001b[1;33m\u001b[0m\u001b[1;33m\u001b[0m\u001b[0m\n\u001b[0m",
      "\u001b[1;32mC:\\ProgramData\\Miniconda3\\envs\\mf_main\\lib\\site-packages\\plotly\\io\\_json.py\u001b[0m in \u001b[0;36mfrom_json\u001b[1;34m(value, output_type, skip_invalid)\u001b[0m\n\u001b[0;32m    150\u001b[0m     \u001b[1;31m# Create and return figure\u001b[0m\u001b[1;33m\u001b[0m\u001b[1;33m\u001b[0m\u001b[1;33m\u001b[0m\u001b[0m\n\u001b[0;32m    151\u001b[0m     \u001b[1;31m# ------------------------\u001b[0m\u001b[1;33m\u001b[0m\u001b[1;33m\u001b[0m\u001b[1;33m\u001b[0m\u001b[0m\n\u001b[1;32m--> 152\u001b[1;33m     \u001b[0mfig\u001b[0m \u001b[1;33m=\u001b[0m \u001b[0mcls\u001b[0m\u001b[1;33m(\u001b[0m\u001b[0mfig_dict\u001b[0m\u001b[1;33m,\u001b[0m \u001b[0mskip_invalid\u001b[0m\u001b[1;33m=\u001b[0m\u001b[0mskip_invalid\u001b[0m\u001b[1;33m)\u001b[0m\u001b[1;33m\u001b[0m\u001b[1;33m\u001b[0m\u001b[0m\n\u001b[0m\u001b[0;32m    153\u001b[0m     \u001b[1;32mreturn\u001b[0m \u001b[0mfig\u001b[0m\u001b[1;33m\u001b[0m\u001b[1;33m\u001b[0m\u001b[0m\n\u001b[0;32m    154\u001b[0m \u001b[1;33m\u001b[0m\u001b[0m\n",
      "\u001b[1;32mC:\\ProgramData\\Miniconda3\\envs\\mf_main\\lib\\site-packages\\plotly\\graph_objs\\_figurewidget.py\u001b[0m in \u001b[0;36m__init__\u001b[1;34m(self, data, layout, frames, skip_invalid, **kwargs)\u001b[0m\n\u001b[0;32m    582\u001b[0m             \u001b[1;32mis\u001b[0m \u001b[0minvalid\u001b[0m \u001b[0mAND\u001b[0m \u001b[0mskip_invalid\u001b[0m \u001b[1;32mis\u001b[0m \u001b[1;32mFalse\u001b[0m\u001b[1;33m\u001b[0m\u001b[1;33m\u001b[0m\u001b[0m\n\u001b[0;32m    583\u001b[0m         \"\"\"\n\u001b[1;32m--> 584\u001b[1;33m         \u001b[0msuper\u001b[0m\u001b[1;33m(\u001b[0m\u001b[0mFigureWidget\u001b[0m\u001b[1;33m,\u001b[0m \u001b[0mself\u001b[0m\u001b[1;33m)\u001b[0m\u001b[1;33m.\u001b[0m\u001b[0m__init__\u001b[0m\u001b[1;33m(\u001b[0m\u001b[0mdata\u001b[0m\u001b[1;33m,\u001b[0m \u001b[0mlayout\u001b[0m\u001b[1;33m,\u001b[0m \u001b[0mframes\u001b[0m\u001b[1;33m,\u001b[0m \u001b[0mskip_invalid\u001b[0m\u001b[1;33m,\u001b[0m \u001b[1;33m**\u001b[0m\u001b[0mkwargs\u001b[0m\u001b[1;33m)\u001b[0m\u001b[1;33m\u001b[0m\u001b[1;33m\u001b[0m\u001b[0m\n\u001b[0m\u001b[0;32m    585\u001b[0m \u001b[1;33m\u001b[0m\u001b[0m\n\u001b[0;32m    586\u001b[0m     def add_area(\n",
      "\u001b[1;32mC:\\ProgramData\\Miniconda3\\envs\\mf_main\\lib\\site-packages\\plotly\\basewidget.py\u001b[0m in \u001b[0;36m__init__\u001b[1;34m(self, data, layout, frames, skip_invalid, **kwargs)\u001b[0m\n\u001b[0;32m    120\u001b[0m             \u001b[0mframes\u001b[0m\u001b[1;33m=\u001b[0m\u001b[0mframes\u001b[0m\u001b[1;33m,\u001b[0m\u001b[1;33m\u001b[0m\u001b[1;33m\u001b[0m\u001b[0m\n\u001b[0;32m    121\u001b[0m             \u001b[0mskip_invalid\u001b[0m\u001b[1;33m=\u001b[0m\u001b[0mskip_invalid\u001b[0m\u001b[1;33m,\u001b[0m\u001b[1;33m\u001b[0m\u001b[1;33m\u001b[0m\u001b[0m\n\u001b[1;32m--> 122\u001b[1;33m             \u001b[1;33m**\u001b[0m\u001b[0mkwargs\u001b[0m\u001b[1;33m\u001b[0m\u001b[1;33m\u001b[0m\u001b[0m\n\u001b[0m\u001b[0;32m    123\u001b[0m         )\n\u001b[0;32m    124\u001b[0m \u001b[1;33m\u001b[0m\u001b[0m\n",
      "\u001b[1;32mC:\\ProgramData\\Miniconda3\\envs\\mf_main\\lib\\site-packages\\plotly\\basedatatypes.py\u001b[0m in \u001b[0;36m__init__\u001b[1;34m(self, data, layout_plotly, frames, skip_invalid, **kwargs)\u001b[0m\n\u001b[0;32m    188\u001b[0m         \u001b[1;31m# ### Import Layout ###\u001b[0m\u001b[1;33m\u001b[0m\u001b[1;33m\u001b[0m\u001b[1;33m\u001b[0m\u001b[0m\n\u001b[0;32m    189\u001b[0m         self._layout_obj = self._layout_validator.validate_coerce(\n\u001b[1;32m--> 190\u001b[1;33m             \u001b[0mlayout\u001b[0m\u001b[1;33m,\u001b[0m \u001b[0mskip_invalid\u001b[0m\u001b[1;33m=\u001b[0m\u001b[0mskip_invalid\u001b[0m\u001b[1;33m,\u001b[0m \u001b[0m_validate\u001b[0m\u001b[1;33m=\u001b[0m\u001b[0mself\u001b[0m\u001b[1;33m.\u001b[0m\u001b[0m_validate\u001b[0m\u001b[1;33m\u001b[0m\u001b[1;33m\u001b[0m\u001b[0m\n\u001b[0m\u001b[0;32m    191\u001b[0m         )\n\u001b[0;32m    192\u001b[0m \u001b[1;33m\u001b[0m\u001b[0m\n",
      "\u001b[1;32mC:\\ProgramData\\Miniconda3\\envs\\mf_main\\lib\\site-packages\\_plotly_utils\\basevalidators.py\u001b[0m in \u001b[0;36mvalidate_coerce\u001b[1;34m(self, v, skip_invalid, _validate)\u001b[0m\n\u001b[0;32m   2444\u001b[0m \u001b[1;33m\u001b[0m\u001b[0m\n\u001b[0;32m   2445\u001b[0m         \u001b[1;32melif\u001b[0m \u001b[0misinstance\u001b[0m\u001b[1;33m(\u001b[0m\u001b[0mv\u001b[0m\u001b[1;33m,\u001b[0m \u001b[0mdict\u001b[0m\u001b[1;33m)\u001b[0m\u001b[1;33m:\u001b[0m\u001b[1;33m\u001b[0m\u001b[1;33m\u001b[0m\u001b[0m\n\u001b[1;32m-> 2446\u001b[1;33m             \u001b[0mv\u001b[0m \u001b[1;33m=\u001b[0m \u001b[0mself\u001b[0m\u001b[1;33m.\u001b[0m\u001b[0mdata_class\u001b[0m\u001b[1;33m(\u001b[0m\u001b[0mv\u001b[0m\u001b[1;33m,\u001b[0m \u001b[0mskip_invalid\u001b[0m\u001b[1;33m=\u001b[0m\u001b[0mskip_invalid\u001b[0m\u001b[1;33m,\u001b[0m \u001b[0m_validate\u001b[0m\u001b[1;33m=\u001b[0m\u001b[0m_validate\u001b[0m\u001b[1;33m)\u001b[0m\u001b[1;33m\u001b[0m\u001b[1;33m\u001b[0m\u001b[0m\n\u001b[0m\u001b[0;32m   2447\u001b[0m \u001b[1;33m\u001b[0m\u001b[0m\n\u001b[0;32m   2448\u001b[0m         \u001b[1;32melif\u001b[0m \u001b[0misinstance\u001b[0m\u001b[1;33m(\u001b[0m\u001b[0mv\u001b[0m\u001b[1;33m,\u001b[0m \u001b[0mself\u001b[0m\u001b[1;33m.\u001b[0m\u001b[0mdata_class\u001b[0m\u001b[1;33m)\u001b[0m\u001b[1;33m:\u001b[0m\u001b[1;33m\u001b[0m\u001b[1;33m\u001b[0m\u001b[0m\n",
      "\u001b[1;32mC:\\ProgramData\\Miniconda3\\envs\\mf_main\\lib\\site-packages\\plotly\\graph_objs\\_layout.py\u001b[0m in \u001b[0;36m__init__\u001b[1;34m(self, arg, activeshape, angularaxis, annotations, annotationdefaults, autosize, bargap, bargroupgap, barmode, barnorm, boxgap, boxgroupgap, boxmode, calendar, clickmode, coloraxis, colorscale, colorway, datarevision, direction, dragmode, editrevision, extendfunnelareacolors, extendpiecolors, extendsunburstcolors, extendtreemapcolors, font, funnelareacolorway, funnelgap, funnelgroupgap, funnelmode, geo, grid, height, hiddenlabels, hiddenlabelssrc, hidesources, hoverdistance, hoverlabel, hovermode, images, imagedefaults, legend, mapbox, margin, meta, metasrc, modebar, newshape, orientation, paper_bgcolor, piecolorway, plot_bgcolor, polar, radialaxis, scene, selectdirection, selectionrevision, separators, shapes, shapedefaults, showlegend, sliders, sliderdefaults, spikedistance, sunburstcolorway, template, ternary, title, titlefont, transition, treemapcolorway, uirevision, uniformtext, updatemenus, updatemenudefaults, violingap, violingroupgap, violinmode, waterfallgap, waterfallgroupgap, waterfallmode, width, xaxis, yaxis, **kwargs)\u001b[0m\n\u001b[0;32m   5750\u001b[0m         \u001b[0m_v\u001b[0m \u001b[1;33m=\u001b[0m \u001b[0mannotations\u001b[0m \u001b[1;32mif\u001b[0m \u001b[0mannotations\u001b[0m \u001b[1;32mis\u001b[0m \u001b[1;32mnot\u001b[0m \u001b[1;32mNone\u001b[0m \u001b[1;32melse\u001b[0m \u001b[0m_v\u001b[0m\u001b[1;33m\u001b[0m\u001b[1;33m\u001b[0m\u001b[0m\n\u001b[0;32m   5751\u001b[0m         \u001b[1;32mif\u001b[0m \u001b[0m_v\u001b[0m \u001b[1;32mis\u001b[0m \u001b[1;32mnot\u001b[0m \u001b[1;32mNone\u001b[0m\u001b[1;33m:\u001b[0m\u001b[1;33m\u001b[0m\u001b[1;33m\u001b[0m\u001b[0m\n\u001b[1;32m-> 5752\u001b[1;33m             \u001b[0mself\u001b[0m\u001b[1;33m[\u001b[0m\u001b[1;34m\"annotations\"\u001b[0m\u001b[1;33m]\u001b[0m \u001b[1;33m=\u001b[0m \u001b[0m_v\u001b[0m\u001b[1;33m\u001b[0m\u001b[1;33m\u001b[0m\u001b[0m\n\u001b[0m\u001b[0;32m   5753\u001b[0m         \u001b[0m_v\u001b[0m \u001b[1;33m=\u001b[0m \u001b[0marg\u001b[0m\u001b[1;33m.\u001b[0m\u001b[0mpop\u001b[0m\u001b[1;33m(\u001b[0m\u001b[1;34m\"annotationdefaults\"\u001b[0m\u001b[1;33m,\u001b[0m \u001b[1;32mNone\u001b[0m\u001b[1;33m)\u001b[0m\u001b[1;33m\u001b[0m\u001b[1;33m\u001b[0m\u001b[0m\n\u001b[0;32m   5754\u001b[0m         \u001b[0m_v\u001b[0m \u001b[1;33m=\u001b[0m \u001b[0mannotationdefaults\u001b[0m \u001b[1;32mif\u001b[0m \u001b[0mannotationdefaults\u001b[0m \u001b[1;32mis\u001b[0m \u001b[1;32mnot\u001b[0m \u001b[1;32mNone\u001b[0m \u001b[1;32melse\u001b[0m \u001b[0m_v\u001b[0m\u001b[1;33m\u001b[0m\u001b[1;33m\u001b[0m\u001b[0m\n",
      "\u001b[1;32mC:\\ProgramData\\Miniconda3\\envs\\mf_main\\lib\\site-packages\\plotly\\basedatatypes.py\u001b[0m in \u001b[0;36m__setitem__\u001b[1;34m(self, prop, value)\u001b[0m\n\u001b[0;32m   4906\u001b[0m         \u001b[1;32mif\u001b[0m \u001b[0mmatch\u001b[0m \u001b[1;32mis\u001b[0m \u001b[1;32mNone\u001b[0m\u001b[1;33m:\u001b[0m\u001b[1;33m\u001b[0m\u001b[1;33m\u001b[0m\u001b[0m\n\u001b[0;32m   4907\u001b[0m             \u001b[1;31m# Set as ordinary property\u001b[0m\u001b[1;33m\u001b[0m\u001b[1;33m\u001b[0m\u001b[1;33m\u001b[0m\u001b[0m\n\u001b[1;32m-> 4908\u001b[1;33m             \u001b[0msuper\u001b[0m\u001b[1;33m(\u001b[0m\u001b[0mBaseLayoutHierarchyType\u001b[0m\u001b[1;33m,\u001b[0m \u001b[0mself\u001b[0m\u001b[1;33m)\u001b[0m\u001b[1;33m.\u001b[0m\u001b[0m__setitem__\u001b[0m\u001b[1;33m(\u001b[0m\u001b[0mprop\u001b[0m\u001b[1;33m,\u001b[0m \u001b[0mvalue\u001b[0m\u001b[1;33m)\u001b[0m\u001b[1;33m\u001b[0m\u001b[1;33m\u001b[0m\u001b[0m\n\u001b[0m\u001b[0;32m   4909\u001b[0m         \u001b[1;32melse\u001b[0m\u001b[1;33m:\u001b[0m\u001b[1;33m\u001b[0m\u001b[1;33m\u001b[0m\u001b[0m\n\u001b[0;32m   4910\u001b[0m             \u001b[1;31m# Set as subplotid property\u001b[0m\u001b[1;33m\u001b[0m\u001b[1;33m\u001b[0m\u001b[1;33m\u001b[0m\u001b[0m\n",
      "\u001b[1;32mC:\\ProgramData\\Miniconda3\\envs\\mf_main\\lib\\site-packages\\plotly\\basedatatypes.py\u001b[0m in \u001b[0;36m__setitem__\u001b[1;34m(self, prop, value)\u001b[0m\n\u001b[0;32m   3926\u001b[0m                 \u001b[1;31m# ### Handle compound array property ###\u001b[0m\u001b[1;33m\u001b[0m\u001b[1;33m\u001b[0m\u001b[1;33m\u001b[0m\u001b[0m\n\u001b[0;32m   3927\u001b[0m                 \u001b[1;32melif\u001b[0m \u001b[0misinstance\u001b[0m\u001b[1;33m(\u001b[0m\u001b[0mvalidator\u001b[0m\u001b[1;33m,\u001b[0m \u001b[1;33m(\u001b[0m\u001b[0mCompoundArrayValidator\u001b[0m\u001b[1;33m,\u001b[0m \u001b[0mBaseDataValidator\u001b[0m\u001b[1;33m)\u001b[0m\u001b[1;33m)\u001b[0m\u001b[1;33m:\u001b[0m\u001b[1;33m\u001b[0m\u001b[1;33m\u001b[0m\u001b[0m\n\u001b[1;32m-> 3928\u001b[1;33m                     \u001b[0mself\u001b[0m\u001b[1;33m.\u001b[0m\u001b[0m_set_array_prop\u001b[0m\u001b[1;33m(\u001b[0m\u001b[0mprop\u001b[0m\u001b[1;33m,\u001b[0m \u001b[0mvalue\u001b[0m\u001b[1;33m)\u001b[0m\u001b[1;33m\u001b[0m\u001b[1;33m\u001b[0m\u001b[0m\n\u001b[0m\u001b[0;32m   3929\u001b[0m \u001b[1;33m\u001b[0m\u001b[0m\n\u001b[0;32m   3930\u001b[0m                 \u001b[1;31m# ### Handle simple property ###\u001b[0m\u001b[1;33m\u001b[0m\u001b[1;33m\u001b[0m\u001b[1;33m\u001b[0m\u001b[0m\n",
      "\u001b[1;32mC:\\ProgramData\\Miniconda3\\envs\\mf_main\\lib\\site-packages\\plotly\\basedatatypes.py\u001b[0m in \u001b[0;36m_set_array_prop\u001b[1;34m(self, prop, val)\u001b[0m\n\u001b[0;32m   4381\u001b[0m         \u001b[1;31m# ------------\u001b[0m\u001b[1;33m\u001b[0m\u001b[1;33m\u001b[0m\u001b[1;33m\u001b[0m\u001b[0m\n\u001b[0;32m   4382\u001b[0m         \u001b[0mvalidator\u001b[0m \u001b[1;33m=\u001b[0m \u001b[0mself\u001b[0m\u001b[1;33m.\u001b[0m\u001b[0m_get_validator\u001b[0m\u001b[1;33m(\u001b[0m\u001b[0mprop\u001b[0m\u001b[1;33m)\u001b[0m\u001b[1;33m\u001b[0m\u001b[1;33m\u001b[0m\u001b[0m\n\u001b[1;32m-> 4383\u001b[1;33m         \u001b[0mval\u001b[0m \u001b[1;33m=\u001b[0m \u001b[0mvalidator\u001b[0m\u001b[1;33m.\u001b[0m\u001b[0mvalidate_coerce\u001b[0m\u001b[1;33m(\u001b[0m\u001b[0mval\u001b[0m\u001b[1;33m,\u001b[0m \u001b[0mskip_invalid\u001b[0m\u001b[1;33m=\u001b[0m\u001b[0mself\u001b[0m\u001b[1;33m.\u001b[0m\u001b[0m_skip_invalid\u001b[0m\u001b[1;33m)\u001b[0m\u001b[1;33m\u001b[0m\u001b[1;33m\u001b[0m\u001b[0m\n\u001b[0m\u001b[0;32m   4384\u001b[0m \u001b[1;33m\u001b[0m\u001b[0m\n\u001b[0;32m   4385\u001b[0m         \u001b[1;31m# Save deep copies of current and new states\u001b[0m\u001b[1;33m\u001b[0m\u001b[1;33m\u001b[0m\u001b[1;33m\u001b[0m\u001b[0m\n",
      "\u001b[1;32mC:\\ProgramData\\Miniconda3\\envs\\mf_main\\lib\\site-packages\\_plotly_utils\\basevalidators.py\u001b[0m in \u001b[0;36mvalidate_coerce\u001b[1;34m(self, v, skip_invalid)\u001b[0m\n\u001b[0;32m   2536\u001b[0m                     \u001b[0mres\u001b[0m\u001b[1;33m.\u001b[0m\u001b[0mappend\u001b[0m\u001b[1;33m(\u001b[0m\u001b[0mself\u001b[0m\u001b[1;33m.\u001b[0m\u001b[0mdata_class\u001b[0m\u001b[1;33m(\u001b[0m\u001b[0mv_el\u001b[0m\u001b[1;33m)\u001b[0m\u001b[1;33m)\u001b[0m\u001b[1;33m\u001b[0m\u001b[1;33m\u001b[0m\u001b[0m\n\u001b[0;32m   2537\u001b[0m                 \u001b[1;32melif\u001b[0m \u001b[0misinstance\u001b[0m\u001b[1;33m(\u001b[0m\u001b[0mv_el\u001b[0m\u001b[1;33m,\u001b[0m \u001b[0mdict\u001b[0m\u001b[1;33m)\u001b[0m\u001b[1;33m:\u001b[0m\u001b[1;33m\u001b[0m\u001b[1;33m\u001b[0m\u001b[0m\n\u001b[1;32m-> 2538\u001b[1;33m                     \u001b[0mres\u001b[0m\u001b[1;33m.\u001b[0m\u001b[0mappend\u001b[0m\u001b[1;33m(\u001b[0m\u001b[0mself\u001b[0m\u001b[1;33m.\u001b[0m\u001b[0mdata_class\u001b[0m\u001b[1;33m(\u001b[0m\u001b[0mv_el\u001b[0m\u001b[1;33m,\u001b[0m \u001b[0mskip_invalid\u001b[0m\u001b[1;33m=\u001b[0m\u001b[0mskip_invalid\u001b[0m\u001b[1;33m)\u001b[0m\u001b[1;33m)\u001b[0m\u001b[1;33m\u001b[0m\u001b[1;33m\u001b[0m\u001b[0m\n\u001b[0m\u001b[0;32m   2539\u001b[0m                 \u001b[1;32melse\u001b[0m\u001b[1;33m:\u001b[0m\u001b[1;33m\u001b[0m\u001b[1;33m\u001b[0m\u001b[0m\n\u001b[0;32m   2540\u001b[0m                     \u001b[1;32mif\u001b[0m \u001b[0mskip_invalid\u001b[0m\u001b[1;33m:\u001b[0m\u001b[1;33m\u001b[0m\u001b[1;33m\u001b[0m\u001b[0m\n",
      "\u001b[1;32mC:\\ProgramData\\Miniconda3\\envs\\mf_main\\lib\\site-packages\\plotly\\graph_objs\\layout\\_annotation.py\u001b[0m in \u001b[0;36m__init__\u001b[1;34m(self, arg, align, arrowcolor, arrowhead, arrowside, arrowsize, arrowwidth, ax, axref, ay, ayref, bgcolor, bordercolor, borderpad, borderwidth, captureevents, clicktoshow, font, height, hoverlabel, hovertext, name, opacity, showarrow, standoff, startarrowhead, startarrowsize, startstandoff, templateitemname, text, textangle, valign, visible, width, x, xanchor, xclick, xref, xshift, y, yanchor, yclick, yref, yshift, **kwargs)\u001b[0m\n\u001b[0;32m   1773\u001b[0m         \u001b[0m_v\u001b[0m \u001b[1;33m=\u001b[0m \u001b[0marrowcolor\u001b[0m \u001b[1;32mif\u001b[0m \u001b[0marrowcolor\u001b[0m \u001b[1;32mis\u001b[0m \u001b[1;32mnot\u001b[0m \u001b[1;32mNone\u001b[0m \u001b[1;32melse\u001b[0m \u001b[0m_v\u001b[0m\u001b[1;33m\u001b[0m\u001b[1;33m\u001b[0m\u001b[0m\n\u001b[0;32m   1774\u001b[0m         \u001b[1;32mif\u001b[0m \u001b[0m_v\u001b[0m \u001b[1;32mis\u001b[0m \u001b[1;32mnot\u001b[0m \u001b[1;32mNone\u001b[0m\u001b[1;33m:\u001b[0m\u001b[1;33m\u001b[0m\u001b[1;33m\u001b[0m\u001b[0m\n\u001b[1;32m-> 1775\u001b[1;33m             \u001b[0mself\u001b[0m\u001b[1;33m[\u001b[0m\u001b[1;34m\"arrowcolor\"\u001b[0m\u001b[1;33m]\u001b[0m \u001b[1;33m=\u001b[0m \u001b[0m_v\u001b[0m\u001b[1;33m\u001b[0m\u001b[1;33m\u001b[0m\u001b[0m\n\u001b[0m\u001b[0;32m   1776\u001b[0m         \u001b[0m_v\u001b[0m \u001b[1;33m=\u001b[0m \u001b[0marg\u001b[0m\u001b[1;33m.\u001b[0m\u001b[0mpop\u001b[0m\u001b[1;33m(\u001b[0m\u001b[1;34m\"arrowhead\"\u001b[0m\u001b[1;33m,\u001b[0m \u001b[1;32mNone\u001b[0m\u001b[1;33m)\u001b[0m\u001b[1;33m\u001b[0m\u001b[1;33m\u001b[0m\u001b[0m\n\u001b[0;32m   1777\u001b[0m         \u001b[0m_v\u001b[0m \u001b[1;33m=\u001b[0m \u001b[0marrowhead\u001b[0m \u001b[1;32mif\u001b[0m \u001b[0marrowhead\u001b[0m \u001b[1;32mis\u001b[0m \u001b[1;32mnot\u001b[0m \u001b[1;32mNone\u001b[0m \u001b[1;32melse\u001b[0m \u001b[0m_v\u001b[0m\u001b[1;33m\u001b[0m\u001b[1;33m\u001b[0m\u001b[0m\n",
      "\u001b[1;32mC:\\ProgramData\\Miniconda3\\envs\\mf_main\\lib\\site-packages\\plotly\\basedatatypes.py\u001b[0m in \u001b[0;36m__setitem__\u001b[1;34m(self, prop, value)\u001b[0m\n\u001b[0;32m   3930\u001b[0m                 \u001b[1;31m# ### Handle simple property ###\u001b[0m\u001b[1;33m\u001b[0m\u001b[1;33m\u001b[0m\u001b[1;33m\u001b[0m\u001b[0m\n\u001b[0;32m   3931\u001b[0m                 \u001b[1;32melse\u001b[0m\u001b[1;33m:\u001b[0m\u001b[1;33m\u001b[0m\u001b[1;33m\u001b[0m\u001b[0m\n\u001b[1;32m-> 3932\u001b[1;33m                     \u001b[0mself\u001b[0m\u001b[1;33m.\u001b[0m\u001b[0m_set_prop\u001b[0m\u001b[1;33m(\u001b[0m\u001b[0mprop\u001b[0m\u001b[1;33m,\u001b[0m \u001b[0mvalue\u001b[0m\u001b[1;33m)\u001b[0m\u001b[1;33m\u001b[0m\u001b[1;33m\u001b[0m\u001b[0m\n\u001b[0m\u001b[0;32m   3933\u001b[0m             \u001b[1;32melse\u001b[0m\u001b[1;33m:\u001b[0m\u001b[1;33m\u001b[0m\u001b[1;33m\u001b[0m\u001b[0m\n\u001b[0;32m   3934\u001b[0m                 \u001b[1;31m# Make sure properties dict is initialized\u001b[0m\u001b[1;33m\u001b[0m\u001b[1;33m\u001b[0m\u001b[1;33m\u001b[0m\u001b[0m\n",
      "\u001b[1;32mC:\\ProgramData\\Miniconda3\\envs\\mf_main\\lib\\site-packages\\plotly\\basedatatypes.py\u001b[0m in \u001b[0;36m_set_prop\u001b[1;34m(self, prop, val)\u001b[0m\n\u001b[0;32m   4248\u001b[0m                 \u001b[1;32mreturn\u001b[0m\u001b[1;33m\u001b[0m\u001b[1;33m\u001b[0m\u001b[0m\n\u001b[0;32m   4249\u001b[0m             \u001b[1;32melse\u001b[0m\u001b[1;33m:\u001b[0m\u001b[1;33m\u001b[0m\u001b[1;33m\u001b[0m\u001b[0m\n\u001b[1;32m-> 4250\u001b[1;33m                 \u001b[1;32mraise\u001b[0m \u001b[0merr\u001b[0m\u001b[1;33m\u001b[0m\u001b[1;33m\u001b[0m\u001b[0m\n\u001b[0m\u001b[0;32m   4251\u001b[0m \u001b[1;33m\u001b[0m\u001b[0m\n\u001b[0;32m   4252\u001b[0m         \u001b[1;31m# val is None\u001b[0m\u001b[1;33m\u001b[0m\u001b[1;33m\u001b[0m\u001b[1;33m\u001b[0m\u001b[0m\n",
      "\u001b[1;32mC:\\ProgramData\\Miniconda3\\envs\\mf_main\\lib\\site-packages\\plotly\\basedatatypes.py\u001b[0m in \u001b[0;36m_set_prop\u001b[1;34m(self, prop, val)\u001b[0m\n\u001b[0;32m   4243\u001b[0m \u001b[1;33m\u001b[0m\u001b[0m\n\u001b[0;32m   4244\u001b[0m         \u001b[1;32mtry\u001b[0m\u001b[1;33m:\u001b[0m\u001b[1;33m\u001b[0m\u001b[1;33m\u001b[0m\u001b[0m\n\u001b[1;32m-> 4245\u001b[1;33m             \u001b[0mval\u001b[0m \u001b[1;33m=\u001b[0m \u001b[0mvalidator\u001b[0m\u001b[1;33m.\u001b[0m\u001b[0mvalidate_coerce\u001b[0m\u001b[1;33m(\u001b[0m\u001b[0mval\u001b[0m\u001b[1;33m)\u001b[0m\u001b[1;33m\u001b[0m\u001b[1;33m\u001b[0m\u001b[0m\n\u001b[0m\u001b[0;32m   4246\u001b[0m         \u001b[1;32mexcept\u001b[0m \u001b[0mValueError\u001b[0m \u001b[1;32mas\u001b[0m \u001b[0merr\u001b[0m\u001b[1;33m:\u001b[0m\u001b[1;33m\u001b[0m\u001b[1;33m\u001b[0m\u001b[0m\n\u001b[0;32m   4247\u001b[0m             \u001b[1;32mif\u001b[0m \u001b[0mself\u001b[0m\u001b[1;33m.\u001b[0m\u001b[0m_skip_invalid\u001b[0m\u001b[1;33m:\u001b[0m\u001b[1;33m\u001b[0m\u001b[1;33m\u001b[0m\u001b[0m\n",
      "\u001b[1;32mC:\\ProgramData\\Miniconda3\\envs\\mf_main\\lib\\site-packages\\_plotly_utils\\basevalidators.py\u001b[0m in \u001b[0;36mvalidate_coerce\u001b[1;34m(self, v, should_raise)\u001b[0m\n\u001b[0;32m   1359\u001b[0m             \u001b[0mvalidated_v\u001b[0m \u001b[1;33m=\u001b[0m \u001b[0mself\u001b[0m\u001b[1;33m.\u001b[0m\u001b[0mvc_scalar\u001b[0m\u001b[1;33m(\u001b[0m\u001b[0mv\u001b[0m\u001b[1;33m)\u001b[0m\u001b[1;33m\u001b[0m\u001b[1;33m\u001b[0m\u001b[0m\n\u001b[0;32m   1360\u001b[0m             \u001b[1;32mif\u001b[0m \u001b[0mvalidated_v\u001b[0m \u001b[1;32mis\u001b[0m \u001b[1;32mNone\u001b[0m \u001b[1;32mand\u001b[0m \u001b[0mshould_raise\u001b[0m\u001b[1;33m:\u001b[0m\u001b[1;33m\u001b[0m\u001b[1;33m\u001b[0m\u001b[0m\n\u001b[1;32m-> 1361\u001b[1;33m                 \u001b[0mself\u001b[0m\u001b[1;33m.\u001b[0m\u001b[0mraise_invalid_val\u001b[0m\u001b[1;33m(\u001b[0m\u001b[0mv\u001b[0m\u001b[1;33m)\u001b[0m\u001b[1;33m\u001b[0m\u001b[1;33m\u001b[0m\u001b[0m\n\u001b[0m\u001b[0;32m   1362\u001b[0m \u001b[1;33m\u001b[0m\u001b[0m\n\u001b[0;32m   1363\u001b[0m             \u001b[0mv\u001b[0m \u001b[1;33m=\u001b[0m \u001b[0mvalidated_v\u001b[0m\u001b[1;33m\u001b[0m\u001b[1;33m\u001b[0m\u001b[0m\n",
      "\u001b[1;32mC:\\ProgramData\\Miniconda3\\envs\\mf_main\\lib\\site-packages\\_plotly_utils\\basevalidators.py\u001b[0m in \u001b[0;36mraise_invalid_val\u001b[1;34m(self, v, inds)\u001b[0m\n\u001b[0;32m    283\u001b[0m                 \u001b[0mtyp\u001b[0m\u001b[1;33m=\u001b[0m\u001b[0mtype_str\u001b[0m\u001b[1;33m(\u001b[0m\u001b[0mv\u001b[0m\u001b[1;33m)\u001b[0m\u001b[1;33m,\u001b[0m\u001b[1;33m\u001b[0m\u001b[1;33m\u001b[0m\u001b[0m\n\u001b[0;32m    284\u001b[0m                 \u001b[0mv\u001b[0m\u001b[1;33m=\u001b[0m\u001b[0mrepr\u001b[0m\u001b[1;33m(\u001b[0m\u001b[0mv\u001b[0m\u001b[1;33m)\u001b[0m\u001b[1;33m,\u001b[0m\u001b[1;33m\u001b[0m\u001b[1;33m\u001b[0m\u001b[0m\n\u001b[1;32m--> 285\u001b[1;33m                 \u001b[0mvalid_clr_desc\u001b[0m\u001b[1;33m=\u001b[0m\u001b[0mself\u001b[0m\u001b[1;33m.\u001b[0m\u001b[0mdescription\u001b[0m\u001b[1;33m(\u001b[0m\u001b[1;33m)\u001b[0m\u001b[1;33m,\u001b[0m\u001b[1;33m\u001b[0m\u001b[1;33m\u001b[0m\u001b[0m\n\u001b[0m\u001b[0;32m    286\u001b[0m             )\n\u001b[0;32m    287\u001b[0m         )\n",
      "\u001b[1;31mValueError\u001b[0m: \n    Invalid value of type 'builtins.str' received for the 'arrowcolor' property of layout.annotation\n        Received value: ''\n\n    The 'arrowcolor' property is a color and may be specified as:\n      - A hex string (e.g. '#ff0000')\n      - An rgb/rgba string (e.g. 'rgb(255,0,0)')\n      - An hsl/hsla string (e.g. 'hsl(0,100%,50%)')\n      - An hsv/hsva string (e.g. 'hsv(0,100%,100%)')\n      - A named CSS color:\n            aliceblue, antiquewhite, aqua, aquamarine, azure,\n            beige, bisque, black, blanchedalmond, blue,\n            blueviolet, brown, burlywood, cadetblue,\n            chartreuse, chocolate, coral, cornflowerblue,\n            cornsilk, crimson, cyan, darkblue, darkcyan,\n            darkgoldenrod, darkgray, darkgrey, darkgreen,\n            darkkhaki, darkmagenta, darkolivegreen, darkorange,\n            darkorchid, darkred, darksalmon, darkseagreen,\n            darkslateblue, darkslategray, darkslategrey,\n            darkturquoise, darkviolet, deeppink, deepskyblue,\n            dimgray, dimgrey, dodgerblue, firebrick,\n            floralwhite, forestgreen, fuchsia, gainsboro,\n            ghostwhite, gold, goldenrod, gray, grey, green,\n            greenyellow, honeydew, hotpink, indianred, indigo,\n            ivory, khaki, lavender, lavenderblush, lawngreen,\n            lemonchiffon, lightblue, lightcoral, lightcyan,\n            lightgoldenrodyellow, lightgray, lightgrey,\n            lightgreen, lightpink, lightsalmon, lightseagreen,\n            lightskyblue, lightslategray, lightslategrey,\n            lightsteelblue, lightyellow, lime, limegreen,\n            linen, magenta, maroon, mediumaquamarine,\n            mediumblue, mediumorchid, mediumpurple,\n            mediumseagreen, mediumslateblue, mediumspringgreen,\n            mediumturquoise, mediumvioletred, midnightblue,\n            mintcream, mistyrose, moccasin, navajowhite, navy,\n            oldlace, olive, olivedrab, orange, orangered,\n            orchid, palegoldenrod, palegreen, paleturquoise,\n            palevioletred, papayawhip, peachpuff, peru, pink,\n            plum, powderblue, purple, red, rosybrown,\n            royalblue, rebeccapurple, saddlebrown, salmon,\n            sandybrown, seagreen, seashell, sienna, silver,\n            skyblue, slateblue, slategray, slategrey, snow,\n            springgreen, steelblue, tan, teal, thistle, tomato,\n            turquoise, violet, wheat, white, whitesmoke,\n            yellow, yellowgreen"
     ]
    }
   ],
   "source": [
    "import plotly\n",
    "fpth = r'plotlyexample.plotly.json'\n",
    "fig_after_work = pio.read_json(fpth, output_type='FigureWidget')\n",
    "fig_after_work"
   ]
  },
  {
   "cell_type": "code",
   "execution_count": null,
   "metadata": {},
   "outputs": [],
   "source": []
  }
 ],
 "metadata": {
  "kernelspec": {
   "display_name": "Python [conda env:mf_main] *",
   "language": "python",
   "name": "conda-env-mf_main-py"
  },
  "language_info": {
   "codemirror_mode": {
    "name": "ipython",
    "version": 3
   },
   "file_extension": ".py",
   "mimetype": "text/x-python",
   "name": "python",
   "nbconvert_exporter": "python",
   "pygments_lexer": "ipython3",
   "version": "3.7.7"
  },
  "widgets": {
   "application/vnd.jupyter.widget-state+json": {
    "state": {
     "0025e179fd224c9f85c4601255a3a175": {
      "model_module": "@jupyter-widgets/controls",
      "model_module_version": "1.5.0",
      "model_name": "DescriptionStyleModel",
      "state": {
       "description_width": ""
      }
     },
     "002e71791dc84fbea8a69e98f0cb0a32": {
      "model_module": "@jupyter-widgets/output",
      "model_module_version": "1.0.0",
      "model_name": "OutputModel",
      "state": {
       "layout": "IPY_MODEL_8ad85872d2e94afeb72b1e04a2dbf18d"
      }
     },
     "004e8e06fc6c487d8ac604a0bc165f0c": {
      "model_module": "@jupyter-widgets/controls",
      "model_module_version": "1.5.0",
      "model_name": "HTMLModel",
      "state": {
       "layout": "IPY_MODEL_f2b639a65e37423eaa3950361f2aa203",
       "style": "IPY_MODEL_157162086951408e9d2fb34441a6f580",
       "value": "<p>height_difference_m</p>"
      }
     },
     "006a8a0ccb1147f697458bf4a820f3e9": {
      "model_module": "@jupyter-widgets/controls",
      "model_module_version": "1.5.0",
      "model_name": "ButtonStyleModel",
      "state": {
       "font_weight": "bold"
      }
     },
     "00b628a139534f3992af942df8b157a8": {
      "model_module": "@jupyter-widgets/base",
      "model_module_version": "1.2.0",
      "model_name": "LayoutModel",
      "state": {
       "align_items": "stretch",
       "display": "flex",
       "flex_flow": "row",
       "grid_auto_columns": "True",
       "justify_content": "flex-start",
       "width": "80%"
      }
     },
     "00ed3fbb6710441889c0ccfddf2f897c": {
      "model_module": "@jupyter-widgets/base",
      "model_module_version": "1.2.0",
      "model_name": "LayoutModel",
      "state": {}
     },
     "012888d7bfd64340a0eecb960d9bccf4": {
      "model_module": "@jupyter-widgets/controls",
      "model_module_version": "1.5.0",
      "model_name": "HBoxModel",
      "state": {
       "children": [
        "IPY_MODEL_91ac9b700d0b4d97a9686affac85ad64"
       ],
       "layout": "IPY_MODEL_045bf49616b3428ca527f0f37b49057a"
      }
     },
     "01357f8f36904f639dca4d373eb19a36": {
      "model_module": "@jupyter-widgets/controls",
      "model_module_version": "1.5.0",
      "model_name": "SliderStyleModel",
      "state": {
       "description_width": ""
      }
     },
     "017b78871a694d068f8840377ff7357b": {
      "model_module": "@jupyter-widgets/controls",
      "model_module_version": "1.5.0",
      "model_name": "VBoxModel",
      "state": {
       "children": [
        "IPY_MODEL_180798736faa4c8086ea315069049b21",
        "IPY_MODEL_3406617dd5124d948cc9335a3c240d1e"
       ],
       "layout": "IPY_MODEL_a819fc0668984af1bf76c3d8492c363d"
      }
     },
     "01fbe4cbc1134c6e8b9c795cab7de985": {
      "model_module": "@jupyter-widgets/output",
      "model_module_version": "1.0.0",
      "model_name": "OutputModel",
      "state": {
       "layout": "IPY_MODEL_7470114858274c6dba2dc1c7998a3d6a"
      }
     },
     "025a0870987043ceb7f465f0a8bca8bf": {
      "model_module": "@jupyter-widgets/base",
      "model_module_version": "1.2.0",
      "model_name": "LayoutModel",
      "state": {
       "align_items": "stretch",
       "border": "dashed 0.2px green",
       "display": "flex",
       "flex_flow": "row",
       "grid_auto_columns": "True",
       "justify_content": "flex-start",
       "width": "100%"
      }
     },
     "0267f9c36fe848e894161a3d6b9ca117": {
      "model_module": "@jupyter-widgets/controls",
      "model_module_version": "1.5.0",
      "model_name": "HBoxModel",
      "state": {
       "children": [
        "IPY_MODEL_6c9dff308e7a409ab932a1466bf5dc73"
       ],
       "layout": "IPY_MODEL_ba18c7175e794b6a8f41104f42f4befa"
      }
     },
     "02dbe1e1d3dc4071bdc4f819e2a206eb": {
      "model_module": "@jupyter-widgets/output",
      "model_module_version": "1.0.0",
      "model_name": "OutputModel",
      "state": {
       "layout": "IPY_MODEL_b5b28611d63b4ffbace1fb309ad097f1"
      }
     },
     "032f330e002b46da86fcf6bab3c9df73": {
      "model_module": "@jupyter-widgets/controls",
      "model_module_version": "1.5.0",
      "model_name": "HTMLModel",
      "state": {
       "layout": "IPY_MODEL_34f0a9d77675457196e59a58ab91a089",
       "style": "IPY_MODEL_60cb578975c5430e84a029b7c12df829",
       "value": "<p>margin_1_bar</p>"
      }
     },
     "03e4c006ab394e37852bc5e79fabc285": {
      "model_module": "@jupyter-widgets/controls",
      "model_module_version": "1.5.0",
      "model_name": "ButtonStyleModel",
      "state": {
       "font_weight": "bold"
      }
     },
     "03f238641b57410dac9f28f6121fb7d3": {
      "model_module": "@jupyter-widgets/controls",
      "model_module_version": "1.5.0",
      "model_name": "ButtonStyleModel",
      "state": {
       "font_weight": "bold"
      }
     },
     "043151826fa84cf99a1420f5f017cff3": {
      "model_module": "@jupyter-widgets/controls",
      "model_module_version": "1.5.0",
      "model_name": "SelectMultipleModel",
      "state": {
       "_options_labels": [
        "expansion_vessel_sizing.csv"
       ],
       "index": [
        0
       ],
       "layout": "IPY_MODEL_b7bcc602feaa45ad9ba0c00f84fe9279",
       "rows": 5,
       "style": "IPY_MODEL_e41237bb7c9f4901a7c7c30e55bd06ce"
      }
     },
     "045bf49616b3428ca527f0f37b49057a": {
      "model_module": "@jupyter-widgets/base",
      "model_module_version": "1.2.0",
      "model_name": "LayoutModel",
      "state": {
       "align_items": "stretch",
       "border": "dashed 0.2px green",
       "display": "flex",
       "flex_flow": "row",
       "grid_auto_columns": "True",
       "justify_content": "flex-start",
       "width": "100%"
      }
     },
     "047f239e558b44ae8568dc546837acf4": {
      "model_module": "@jupyter-widgets/controls",
      "model_module_version": "1.5.0",
      "model_name": "ButtonModel",
      "state": {
       "button_style": "info",
       "description": "show log",
       "layout": "IPY_MODEL_ebfb4a0d14bd4aa2867f27c101bf3f3a",
       "style": "IPY_MODEL_cc459d2579c143d686020841c7ab0277",
       "tooltip": "show a log of when the script was executed to generate the outputs, and by who"
      }
     },
     "049cf8921b6b4a0e9a46bde9d4bd7fe7": {
      "model_module": "@jupyter-widgets/base",
      "model_module_version": "1.2.0",
      "model_name": "LayoutModel",
      "state": {}
     },
     "04da1fd56e3e4ace9a862cb1c9308fa1": {
      "model_module": "@jupyter-widgets/base",
      "model_module_version": "1.2.0",
      "model_name": "LayoutModel",
      "state": {
       "height": "30px",
       "width": "auto"
      }
     },
     "05a37b1369be47ca9eee7357290fd82d": {
      "model_module": "@jupyter-widgets/controls",
      "model_module_version": "1.5.0",
      "model_name": "DescriptionStyleModel",
      "state": {
       "description_width": ""
      }
     },
     "064ceebc18a442949d3decf59af9f092": {
      "model_module": "@jupyter-widgets/controls",
      "model_module_version": "1.5.0",
      "model_name": "ButtonModel",
      "state": {
       "button_style": "warning",
       "description": "revert to last save",
       "layout": "IPY_MODEL_1a7b00813640478a99b7a5f81369957f",
       "style": "IPY_MODEL_94829df7e1224d2a9d4aa9caff22a5af"
      }
     },
     "066d525c6fb64341a22265ff5ab5eeff": {
      "model_module": "@jupyter-widgets/controls",
      "model_module_version": "1.5.0",
      "model_name": "HTMLModel",
      "state": {
       "layout": "IPY_MODEL_ae0f8b5161474767900be3acbf4091ca",
       "style": "IPY_MODEL_2f0548b88a394d598ed3afe424bfc88d",
       "value": "<p>Heating system pipework length (m). Note: includes horizontal, vertical, flow and return.</p>"
      }
     },
     "06ad1d9f29294d65a29533236a3ca3f2": {
      "model_module": "@jupyter-widgets/base",
      "model_module_version": "1.2.0",
      "model_name": "LayoutModel",
      "state": {}
     },
     "07661faaac9a4d09b83f76dc55a9dec9": {
      "model_module": "@jupyter-widgets/base",
      "model_module_version": "1.2.0",
      "model_name": "LayoutModel",
      "state": {}
     },
     "079cf22b2ec7467c80c8058e24d60bd2": {
      "model_module": "@jupyter-widgets/controls",
      "model_module_version": "1.5.0",
      "model_name": "HBoxModel",
      "state": {
       "children": [
        "IPY_MODEL_56556e632a4c44ebbba14100861f6828"
       ],
       "layout": "IPY_MODEL_33b718484e874b95857851c997573030"
      }
     },
     "08ad68557f8b46cda22ec1de319ff22e": {
      "model_module": "@jupyter-widgets/controls",
      "model_module_version": "1.5.0",
      "model_name": "HBoxModel",
      "state": {
       "children": [
        "IPY_MODEL_44330c1bf2c44fde82fbbbac5500c5ae",
        "IPY_MODEL_0e032a3d4bf34427936dcc6b0cdcb0b2"
       ],
       "layout": "IPY_MODEL_35b0d8e938fa46b29a43a65c13ca0207"
      }
     },
     "0938d8e79f1c42c8b24e7925a371b2c8": {
      "model_module": "@jupyter-widgets/controls",
      "model_module_version": "1.5.0",
      "model_name": "ToggleButtonModel",
      "state": {
       "button_style": "info",
       "description": "inputs from file",
       "layout": "IPY_MODEL_8cb699b38ed84c3893b7b544274ee9e0",
       "style": "IPY_MODEL_891bee0d01574d16b5b5bbe76e983f46"
      }
     },
     "0a435152de9b475a94c2fd756300a77e": {
      "model_module": "@jupyter-widgets/controls",
      "model_module_version": "1.5.0",
      "model_name": "ButtonStyleModel",
      "state": {
       "font_weight": "bold"
      }
     },
     "0bf88b23e7ed4403aca7abad686f4564": {
      "model_module": "@jupyter-widgets/controls",
      "model_module_version": "1.5.0",
      "model_name": "FloatSliderModel",
      "state": {
       "layout": "IPY_MODEL_a16209dd1fc54f75b70ac23e8586bda1",
       "max": 1,
       "step": 0.1,
       "style": "IPY_MODEL_01357f8f36904f639dca4d373eb19a36",
       "value": 0.3
      }
     },
     "0c04b359b1ca43898628ab5f395422a1": {
      "model_module": "@jupyter-widgets/base",
      "model_module_version": "1.2.0",
      "model_name": "LayoutModel",
      "state": {
       "align_items": "stretch",
       "width": "100%"
      }
     },
     "0c66b3715f1541d78ac140fdff5a8ccf": {
      "model_module": "@jupyter-widgets/controls",
      "model_module_version": "1.5.0",
      "model_name": "ButtonStyleModel",
      "state": {
       "font_weight": "bold"
      }
     },
     "0c7733dafd904d96b8af6b0f123dd978": {
      "model_module": "@jupyter-widgets/controls",
      "model_module_version": "1.5.0",
      "model_name": "DescriptionStyleModel",
      "state": {
       "description_width": ""
      }
     },
     "0cb25f32296b45769d2beadb27564d8d": {
      "model_module": "@jupyter-widgets/controls",
      "model_module_version": "1.5.0",
      "model_name": "ButtonModel",
      "state": {
       "description": "load",
       "icon": "upload",
       "layout": "IPY_MODEL_876addd5a85f4accabbea000644a22f7",
       "style": "IPY_MODEL_64e4f2299cc047a184f7d5b50effd02a"
      }
     },
     "0d059f11591444dc9d33aedbf74b2ee3": {
      "model_module": "@jupyter-widgets/controls",
      "model_module_version": "1.5.0",
      "model_name": "HBoxModel",
      "state": {
       "children": [
        "IPY_MODEL_e9325a3ca87c4209a8976e630140c251"
       ],
       "layout": "IPY_MODEL_6d4b7fd3cfc848e1bd84a2284c00b4be"
      }
     },
     "0d40d6c17dec45af9c210e424b1c9fcb": {
      "model_module": "@jupyter-widgets/controls",
      "model_module_version": "1.5.0",
      "model_name": "DescriptionStyleModel",
      "state": {
       "description_width": ""
      }
     },
     "0d5a892ce1064f2dadf8db6850774e62": {
      "model_module": "@jupyter-widgets/base",
      "model_module_version": "1.2.0",
      "model_name": "LayoutModel",
      "state": {}
     },
     "0d986c4da6e548d484b788077097507b": {
      "model_module": "@jupyter-widgets/base",
      "model_module_version": "1.2.0",
      "model_name": "LayoutModel",
      "state": {}
     },
     "0dd3815c06034a9899dd2d15c35c7eb1": {
      "model_module": "@jupyter-widgets/controls",
      "model_module_version": "1.5.0",
      "model_name": "ButtonModel",
      "state": {
       "icon": "eye-slash",
       "layout": "IPY_MODEL_386ca8ce728049719e3ea262e616b1d2",
       "style": "IPY_MODEL_6584df45ff1a449e97594b55de45c5d0",
       "tooltip": "removes temporary output view"
      }
     },
     "0e032a3d4bf34427936dcc6b0cdcb0b2": {
      "model_module": "@jupyter-widgets/controls",
      "model_module_version": "1.5.0",
      "model_name": "HBoxModel",
      "state": {
       "children": [
        "IPY_MODEL_a307c36f195e42299c14baae6ddf2218",
        "IPY_MODEL_41c4a13ba2b74f889a4f08b996ad79f0"
       ],
       "layout": "IPY_MODEL_5299146f4928497b9ff9241c5e8fac12"
      }
     },
     "0e3accff7e3e405ab69e36ee122207e6": {
      "model_module": "@jupyter-widgets/controls",
      "model_module_version": "1.5.0",
      "model_name": "ButtonModel",
      "state": {
       "button_style": "info",
       "description": "show log",
       "layout": "IPY_MODEL_10d6d32af5e0425994e694e703d07c71",
       "style": "IPY_MODEL_03f238641b57410dac9f28f6121fb7d3",
       "tooltip": "show a log of when the script was executed to generate the outputs, and by who"
      }
     },
     "0e3d6fe6c766477e8b78594eb032c3bb": {
      "model_module": "@jupyter-widgets/controls",
      "model_module_version": "1.5.0",
      "model_name": "HTMLModel",
      "state": {
       "layout": "IPY_MODEL_ab098714e78e4f99aadb71eed378b4d9",
       "style": "IPY_MODEL_22683619944d49ed8f2269bdddf1aeb3",
       "value": "<p>From BS7074. The max between this and: 0.15 * static_pressure_barg  is used (Paul Button rule of thumb)</p>"
      }
     },
     "0e3e4d9903eb41449b1c0f53a4851c3c": {
      "model_module": "@jupyter-widgets/controls",
      "model_module_version": "1.5.0",
      "model_name": "ButtonStyleModel",
      "state": {
       "font_weight": "bold"
      }
     },
     "0e42dc1b62d34bfba0428e1901814a3f": {
      "model_module": "@jupyter-widgets/base",
      "model_module_version": "1.2.0",
      "model_name": "LayoutModel",
      "state": {
       "align_items": "stretch",
       "border": "dashed 0.2px green",
       "display": "flex",
       "flex_flow": "row",
       "grid_auto_columns": "True",
       "justify_content": "flex-start",
       "width": "100%"
      }
     },
     "0e682dc170474473b023bab90e7281f2": {
      "model_module": "@jupyter-widgets/output",
      "model_module_version": "1.0.0",
      "model_name": "OutputModel",
      "state": {
       "layout": "IPY_MODEL_a077b4faafb04adab0fad9392ba38da0"
      }
     },
     "0eceb858a5844f7595bb81bc1a8023dd": {
      "model_module": "@jupyter-widgets/controls",
      "model_module_version": "1.5.0",
      "model_name": "SliderStyleModel",
      "state": {
       "description_width": ""
      }
     },
     "0ed566288d66440d887f26a01e67122d": {
      "model_module": "@jupyter-widgets/base",
      "model_module_version": "1.2.0",
      "model_name": "LayoutModel",
      "state": {}
     },
     "0ffaa74a0f424f879d6412250afbb7df": {
      "model_module": "@jupyter-widgets/base",
      "model_module_version": "1.2.0",
      "model_name": "LayoutModel",
      "state": {}
     },
     "102ae805f06545bf99f822303e5fe5eb": {
      "model_module": "@jupyter-widgets/controls",
      "model_module_version": "1.5.0",
      "model_name": "HBoxModel",
      "state": {
       "children": [
        "IPY_MODEL_cb20ff27121441fe87b05be179e47e25"
       ],
       "layout": "IPY_MODEL_520fc8eb54a745bc86841c2ad0042c9a"
      }
     },
     "103308d268ac4f7ba768e85d026ff567": {
      "model_module": "@jupyter-widgets/base",
      "model_module_version": "1.2.0",
      "model_name": "LayoutModel",
      "state": {}
     },
     "1070807909c447ed98bd8eaa0baf7d3c": {
      "model_module": "@jupyter-widgets/controls",
      "model_module_version": "1.5.0",
      "model_name": "ButtonModel",
      "state": {
       "button_style": "warning",
       "description": "revert to last save",
       "layout": "IPY_MODEL_5368de729d384221acff084c6005b0d1",
       "style": "IPY_MODEL_d1e9abe219684f62b8a30f98bfffa46e"
      }
     },
     "1076c9b4ac0f40819af50b306279afe0": {
      "model_module": "@jupyter-widgets/controls",
      "model_module_version": "1.5.0",
      "model_name": "VBoxModel",
      "state": {
       "children": [
        "IPY_MODEL_c94d1bcd69f44df7acda8305b96e74f1",
        "IPY_MODEL_9d1a015a83fd4f53a8acfc81b2001a0f",
        "IPY_MODEL_18ec96dee5094ff8ba2f9a34f3097722"
       ],
       "layout": "IPY_MODEL_28013e109aad4f11b552ab6aafd89e24"
      }
     },
     "1096f33160fa4c5d8828bcdd7d437171": {
      "model_module": "@jupyter-widgets/base",
      "model_module_version": "1.2.0",
      "model_name": "LayoutModel",
      "state": {}
     },
     "10d6d32af5e0425994e694e703d07c71": {
      "model_module": "@jupyter-widgets/base",
      "model_module_version": "1.2.0",
      "model_name": "LayoutModel",
      "state": {}
     },
     "117197ce200f446da1baf07e86f0e976": {
      "model_module": "@jupyter-widgets/base",
      "model_module_version": "1.2.0",
      "model_name": "LayoutModel",
      "state": {}
     },
     "11af3b504e32437d99d7b28ca3d13817": {
      "model_module": "@jupyter-widgets/controls",
      "model_module_version": "1.5.0",
      "model_name": "CheckboxModel",
      "state": {
       "disabled": false,
       "indent": false,
       "layout": "IPY_MODEL_a9a62a7ce88848d381bd1f22206f3be5",
       "style": "IPY_MODEL_0c7733dafd904d96b8af6b0f123dd978",
       "value": false
      }
     },
     "12b63794fe7946cbb813d4314a0cd512": {
      "model_module": "@jupyter-widgets/controls",
      "model_module_version": "1.5.0",
      "model_name": "HBoxModel",
      "state": {
       "children": [
        "IPY_MODEL_20c2a4a5fa634dbda313ce05f8cf6308",
        "IPY_MODEL_21fc03eae6cc46e9b81dbfc5dab5fb67"
       ],
       "layout": "IPY_MODEL_51d3b3a3029e4ab596565d3528af3837"
      }
     },
     "12ce258c420648a0aa1a3d542e49e86b": {
      "model_module": "@jupyter-widgets/base",
      "model_module_version": "1.2.0",
      "model_name": "LayoutModel",
      "state": {
       "display": "flex",
       "flex_flow": "row",
       "grid_auto_columns": "False",
       "justify_content": "flex-start",
       "width": "100%"
      }
     },
     "13c7b25d66bd47929da88cddc8111d57": {
      "model_module": "@jupyter-widgets/base",
      "model_module_version": "1.2.0",
      "model_name": "LayoutModel",
      "state": {
       "height": "30px",
       "width": "auto"
      }
     },
     "141fd0ba7a8e40d19525b47052e9b2ac": {
      "model_module": "@jupyter-widgets/controls",
      "model_module_version": "1.5.0",
      "model_name": "HBoxModel",
      "state": {
       "children": [
        "IPY_MODEL_26399be09f3e4797b6fd919e632cb65a",
        "IPY_MODEL_0e3d6fe6c766477e8b78594eb032c3bb"
       ],
       "layout": "IPY_MODEL_1dd382602fa248c38607ff95d90c0184"
      }
     },
     "14441b05b312449da40529a7871ffb36": {
      "model_module": "@jupyter-widgets/base",
      "model_module_version": "1.2.0",
      "model_name": "LayoutModel",
      "state": {}
     },
     "14c64653b0e549b9b40b23087308ced7": {
      "model_module": "@jupyter-widgets/base",
      "model_module_version": "1.2.0",
      "model_name": "LayoutModel",
      "state": {
       "align_items": "stretch",
       "border": "dashed 0.2px green",
       "display": "flex",
       "flex_flow": "row",
       "grid_auto_columns": "True",
       "justify_content": "flex-start",
       "width": "100%"
      }
     },
     "151dc47d666f4c508d26a8d4a6de33d0": {
      "model_module": "@jupyter-widgets/controls",
      "model_module_version": "1.5.0",
      "model_name": "DescriptionStyleModel",
      "state": {
       "description_width": ""
      }
     },
     "1563dfe140b94839a7b71a204cf28859": {
      "model_module": "@jupyter-widgets/controls",
      "model_module_version": "1.5.0",
      "model_name": "HTMLModel",
      "state": {
       "layout": "IPY_MODEL_8b8624eab4ad43c99a8b321747212e59",
       "style": "IPY_MODEL_ef52a086fd1b49c9be12b37c8b90b478",
       "value": "<p>effective pipework pressure loss (Pa/m)</p>"
      }
     },
     "157162086951408e9d2fb34441a6f580": {
      "model_module": "@jupyter-widgets/controls",
      "model_module_version": "1.5.0",
      "model_name": "DescriptionStyleModel",
      "state": {
       "description_width": ""
      }
     },
     "15c0af449a3c4a289cf82c4f6edc7a1a": {
      "model_module": "@jupyter-widgets/controls",
      "model_module_version": "1.5.0",
      "model_name": "BoxModel",
      "state": {
       "children": [
        "IPY_MODEL_dc9a5baebe5c4111ac051cb981aa37ae"
       ],
       "layout": "IPY_MODEL_55250c3c65654c39ba15e1b153b8261d"
      }
     },
     "15c8642ed5ac4230acfb844042c6ea86": {
      "model_module": "@jupyter-widgets/base",
      "model_module_version": "1.2.0",
      "model_name": "LayoutModel",
      "state": {
       "align_items": "stretch",
       "display": "flex",
       "flex_flow": "row",
       "grid_auto_columns": "True",
       "justify_content": "flex-end",
       "width": "90%"
      }
     },
     "15eb256a1d1f4110ad35ff447e4e0e44": {
      "model_module": "@jupyter-widgets/base",
      "model_module_version": "1.2.0",
      "model_name": "LayoutModel",
      "state": {
       "align_items": "stretch",
       "display": "flex",
       "flex_flow": "row",
       "grid_auto_columns": "True",
       "justify_content": "flex-start",
       "width": "80%"
      }
     },
     "162f6e6cea6c4164936b6162e9871451": {
      "model_module": "@jupyter-widgets/controls",
      "model_module_version": "1.5.0",
      "model_name": "DescriptionStyleModel",
      "state": {
       "description_width": ""
      }
     },
     "167f6fcf19a34d309d1eb2b60af98c7d": {
      "model_module": "@jupyter-widgets/controls",
      "model_module_version": "1.5.0",
      "model_name": "HBoxModel",
      "state": {
       "children": [
        "IPY_MODEL_4298dbb9344e492bb96fc437aec1bc91"
       ],
       "layout": "IPY_MODEL_7d5ce36c462841e69f5e56e8fb098cc3"
      }
     },
     "16974a52ee9044918c9f9563e25e4aef": {
      "model_module": "@jupyter-widgets/controls",
      "model_module_version": "1.5.0",
      "model_name": "HBoxModel",
      "state": {
       "children": [
        "IPY_MODEL_26ac10ab8ec2474a98f6afc5104025c8",
        "IPY_MODEL_e66f7a640a7248848e85326bcfb801f5"
       ],
       "layout": "IPY_MODEL_533f8874cc514ce5be3077b943a97177"
      }
     },
     "16be788f49454352999863e2c0c1afde": {
      "model_module": "@jupyter-widgets/output",
      "model_module_version": "1.0.0",
      "model_name": "OutputModel",
      "state": {
       "layout": "IPY_MODEL_0d986c4da6e548d484b788077097507b"
      }
     },
     "16f347c4362e490fae9ab59249692f3c": {
      "model_module": "@jupyter-widgets/base",
      "model_module_version": "1.2.0",
      "model_name": "LayoutModel",
      "state": {
       "height": "30px",
       "width": "auto"
      }
     },
     "1741c7e9b3b14817ba921ddf61d90c9a": {
      "model_module": "@jupyter-widgets/controls",
      "model_module_version": "1.5.0",
      "model_name": "ButtonStyleModel",
      "state": {
       "font_weight": "bold"
      }
     },
     "178ca13a6a884388a7e796acaefe4f11": {
      "model_module": "@jupyter-widgets/base",
      "model_module_version": "1.2.0",
      "model_name": "LayoutModel",
      "state": {
       "width": "5%"
      }
     },
     "17a468497edc4f66ae8d2d52bbc3ed04": {
      "model_module": "@jupyter-widgets/base",
      "model_module_version": "1.2.0",
      "model_name": "LayoutModel",
      "state": {}
     },
     "17b18d1fd90d49fe93c3b7b3f8f56d7b": {
      "model_module": "@jupyter-widgets/base",
      "model_module_version": "1.2.0",
      "model_name": "LayoutModel",
      "state": {}
     },
     "17cc862ca6cb4a47841c69d6bc60d361": {
      "model_module": "@jupyter-widgets/base",
      "model_module_version": "1.2.0",
      "model_name": "LayoutModel",
      "state": {}
     },
     "17ce19c483b946ee911e00e0654d026b": {
      "model_module": "@jupyter-widgets/controls",
      "model_module_version": "1.5.0",
      "model_name": "HBoxModel",
      "state": {
       "children": [
        "IPY_MODEL_39771e75118e4e6986886715e979363a",
        "IPY_MODEL_e8f77789a66b4bc196f82e7927f88518"
       ],
       "layout": "IPY_MODEL_d450269b7a034406b71575a9722df198"
      }
     },
     "180798736faa4c8086ea315069049b21": {
      "model_module": "@jupyter-widgets/controls",
      "model_module_version": "1.5.0",
      "model_name": "ButtonModel",
      "state": {
       "description": "load",
       "icon": "upload",
       "layout": "IPY_MODEL_5536e6383e3d44eb9ec33200471c708b",
       "style": "IPY_MODEL_1a9df329948c4c3d895b9e5fde53dbf1"
      }
     },
     "180e01a5bb194372a353efe77acb5b78": {
      "model_module": "@jupyter-widgets/base",
      "model_module_version": "1.2.0",
      "model_name": "LayoutModel",
      "state": {
       "align_items": "stretch",
       "border": "dashed 0.2px green",
       "display": "flex",
       "flex_flow": "row",
       "grid_auto_columns": "True",
       "justify_content": "flex-start",
       "width": "100%"
      }
     },
     "1893dc4d23be46f4996c93bcd1b69d99": {
      "model_module": "@jupyter-widgets/controls",
      "model_module_version": "1.5.0",
      "model_name": "HBoxModel",
      "state": {
       "children": [
        "IPY_MODEL_b6f05696618948469836d976183801f8",
        "IPY_MODEL_b9f8a92cb75d4383a4cbd7895fc622f5"
       ],
       "layout": "IPY_MODEL_2a69f914c2084b6c9ad07c0a6cf49cc6"
      }
     },
     "189513a6fdb147a6b567376ab6a7a67d": {
      "model_module": "@jupyter-widgets/base",
      "model_module_version": "1.2.0",
      "model_name": "LayoutModel",
      "state": {
       "align_items": "stretch",
       "display": "flex",
       "flex_flow": "row",
       "grid_auto_columns": "True",
       "justify_content": "flex-start",
       "width": "80%"
      }
     },
     "18bb1a55e6994bbabf6df3b31b6494c0": {
      "model_module": "@jupyter-widgets/controls",
      "model_module_version": "1.5.0",
      "model_name": "VBoxModel",
      "state": {
       "children": [
        "IPY_MODEL_e828c8ba833243339a0ba38689342a46",
        "IPY_MODEL_c4ff219fe74b43e59d7edaeebf55ed63",
        "IPY_MODEL_622ae1ec7fbf4835a48655c42f29defe"
       ],
       "layout": "IPY_MODEL_17a468497edc4f66ae8d2d52bbc3ed04"
      }
     },
     "18ec96dee5094ff8ba2f9a34f3097722": {
      "model_module": "@jupyter-widgets/controls",
      "model_module_version": "1.5.0",
      "model_name": "VBoxModel",
      "state": {
       "layout": "IPY_MODEL_95c649791ae04d6a8e11f457b5be1cce"
      }
     },
     "18ed376a011a4818b2134c8eac98a54a": {
      "model_module": "@jupyter-widgets/base",
      "model_module_version": "1.2.0",
      "model_name": "LayoutModel",
      "state": {}
     },
     "19208c57d6a4454b85a5be0f4ddde81b": {
      "model_module": "@jupyter-widgets/controls",
      "model_module_version": "1.5.0",
      "model_name": "ToggleButtonModel",
      "state": {
       "button_style": "info",
       "description": "inputs from file",
       "layout": "IPY_MODEL_d51afa61696b4be7aaf1a7b04e542050",
       "style": "IPY_MODEL_0025e179fd224c9f85c4601255a3a175"
      }
     },
     "1944bf0b56a04e5f83eaa165ea85770d": {
      "model_module": "@jupyter-widgets/controls",
      "model_module_version": "1.5.0",
      "model_name": "ButtonStyleModel",
      "state": {
       "font_weight": "bold"
      }
     },
     "1a407bbcf4db4fc2b90328b66c94b997": {
      "model_module": "@jupyter-widgets/base",
      "model_module_version": "1.2.0",
      "model_name": "LayoutModel",
      "state": {
       "align_items": "stretch",
       "width": "100%"
      }
     },
     "1a56df7000a04c46911daa32d1915194": {
      "model_module": "@jupyter-widgets/controls",
      "model_module_version": "1.5.0",
      "model_name": "FloatTextModel",
      "state": {
       "layout": "IPY_MODEL_7b747510f28246ff9314d1ef8dcbdfa2",
       "step": null,
       "style": "IPY_MODEL_46cbe7780d6140cb937bfe27781cbfd2",
       "value": 257
      }
     },
     "1a7b00813640478a99b7a5f81369957f": {
      "model_module": "@jupyter-widgets/base",
      "model_module_version": "1.2.0",
      "model_name": "LayoutModel",
      "state": {}
     },
     "1a83fae43c7642f3884499b6af190bd1": {
      "model_module": "@jupyter-widgets/controls",
      "model_module_version": "1.5.0",
      "model_name": "HTMLModel",
      "state": {
       "layout": "IPY_MODEL_50eb1cf861684f2c8c7b38da0209014c",
       "style": "IPY_MODEL_232fff47cf024b1b81d21c706f48b010",
       "value": "<p>margin_1_bar</p>"
      }
     },
     "1a958e42e3a947b8a8c410fe6313c302": {
      "model_module": "@jupyter-widgets/base",
      "model_module_version": "1.2.0",
      "model_name": "LayoutModel",
      "state": {
       "width": "5%"
      }
     },
     "1a9df329948c4c3d895b9e5fde53dbf1": {
      "model_module": "@jupyter-widgets/controls",
      "model_module_version": "1.5.0",
      "model_name": "ButtonStyleModel",
      "state": {
       "font_weight": "bold"
      }
     },
     "1ac42f1011294af1ad10bf4af4975bd8": {
      "model_module": "@jupyter-widgets/controls",
      "model_module_version": "1.5.0",
      "model_name": "ButtonModel",
      "state": {
       "button_style": "success",
       "description": "save changes",
       "layout": "IPY_MODEL_7cdb3f67923d4c619a10ebbf5ff97a81",
       "style": "IPY_MODEL_fd2ebf79eed04d25b4967a17830de7ed"
      }
     },
     "1bb33e114db748c4ae5e1e63df2a7790": {
      "model_module": "@jupyter-widgets/controls",
      "model_module_version": "1.5.0",
      "model_name": "DescriptionStyleModel",
      "state": {
       "description_width": ""
      }
     },
     "1c276b2673a04ed7ac4b84776855ddb9": {
      "model_module": "@jupyter-widgets/base",
      "model_module_version": "1.2.0",
      "model_name": "LayoutModel",
      "state": {
       "align_items": "stretch",
       "display": "flex",
       "flex_flow": "row",
       "grid_auto_columns": "True",
       "justify_content": "flex-end",
       "width": "90%"
      }
     },
     "1c667f8bcd2448179295c78079829cf3": {
      "model_module": "@jupyter-widgets/controls",
      "model_module_version": "1.5.0",
      "model_name": "ButtonModel",
      "state": {
       "icon": "question-circle",
       "layout": "IPY_MODEL_178ca13a6a884388a7e796acaefe4f11",
       "style": "IPY_MODEL_56ab756d60704784abb7385b0880be14",
       "tooltip": "describes the functionality of elements in the RunApp interface"
      }
     },
     "1c69e66349f5421aaa70203a1899ad63": {
      "model_module": "@jupyter-widgets/controls",
      "model_module_version": "1.5.0",
      "model_name": "HBoxModel",
      "state": {
       "children": [
        "IPY_MODEL_eb0abb23fb674d38ba48e4ff1519b222",
        "IPY_MODEL_844e4f1e80af4a30a204bf213883df27"
       ],
       "layout": "IPY_MODEL_5617ed207deb40438882fc09308064a7"
      }
     },
     "1d49b4bce9ed41148083f86e2ff89693": {
      "buffers": [
       {
        "data": "H4sIAAAAAAACA3WPTW6EMAyFr1J5PYwClViwbTdsegGCohQ8mdDgRPmhtCPu3gDtshvr+fNz8vwA5fUIzQNGGSU0XQe4OklBWxILhoBGBP2tSQkGF5iuKlGIljA3FatYweqirJ9K1lRl85wtlIw5C7w0nCOpV1w4VzqK+ca5dl8+UearnJ3BwDnZiO/WfmQpndtTZBe5FHfgh7tekPP9K1aXtShZVRaTKk5H8U/W6xQsQd9fQNOIq/D2M+w3kpwxiw7aHUOeL9KkA3Ws77c//2BNmunA4Lwd8ttveTUvdJAC+kPkqBj1L71ZP0vThpDOPkoVzoGL9/YIm/Ns2w/nLsn9cAEAAA==",
        "encoding": "base64",
        "path": [
         "_grid_data_up"
        ]
       }
      ],
      "model_module": "ipyaggrid",
      "model_module_version": "~0.2.1",
      "model_name": "AgGridModel",
      "state": {
       "_grid_data_down": [
        {
         "datetime": "2020-06-16 10:21:30",
         "formalIssue": null,
         "fpthInputs": "C:\\engDev\\git_mf\\ipyrun\\examples\\notebooks\\appdata\\inputs\\archive\\20200616_1021-jg-inputs-expansion_vessel_sizing.json",
         "processName": "expansion_vessel_sizing_0",
         "tags": null,
         "user": "j.gunstone"
        }
       ],
       "_grid_options_mono_down": "{\"enableSorting\": true, \"enableFilter\": true, \"enableColResize\": true, \"enableRangeSelection\": true, \"columnDefs\": [{\"field\": \"processName\", \"type\": \"textColumn\", \"headerName\": \"Processname\"}, {\"field\": \"user\", \"type\": \"textColumn\", \"headerName\": \"User\"}, {\"field\": \"datetime\", \"type\": \"textColumn\", \"headerName\": \"Datetime\"}, {\"field\": \"formalIssue\", \"type\": \"numberColumn\", \"headerName\": \"Formalissue\"}, {\"field\": \"tags\", \"type\": \"numberColumn\", \"headerName\": \"Tags\"}, {\"field\": \"fpthInputs\", \"type\": \"textColumn\", \"headerName\": \"Fpthinputs\"}], \"columnTypes\": {\"numberColumn\": {\"filter\": \"agNumberColumnFilter\"}, \"textColumn\": {\"filter\": \"agTextColumnFilter\"}, \"dateColumn\": {\"valueFormatter\": \"helpers.dateFormatter\", \"filter\": \"agDateColumnFilter\", \"filterParams\": {\"comparator\": \"helpers.compareDates\"}}}}",
       "_id": 9574408,
       "_js_helpers_builtin": "helpersBuiltin = {\n    dateFormatter: function(node) {\n        // make sure date is not undefined\n        if (node && node.value) {\n            let d = new Date(node.value);\n            let h = d.getHours();\n            let m = d.getMinutes();\n            let s = d.getSeconds();\n            const offset = d.getTimezoneOffset() * 60000;\n            d = new Date(d.getTime() - offset);\n            const ymd = d.toISOString().substring(0, 10);\n            if (h === 0 && m === 0 && s === 0) {\n                return ymd;\n            }\n            if (h === 0) h = '00';\n            if (m === 0) m = '00';\n            if (s === 0) s = '00';\n            return `${ymd} ${h}:${m}:${s}`;\n        }\n        return null;\n    },\n\n    formatInt: d3.format(',.0f'),\n    formatFloat: d3.format(',.2f'),\n\n    intFormatter: function(node) {\n        return formatInt(node.value);\n    },\n\n    floatFormatter: function(node) {\n        return formatFloat(node.value);\n    },\n\n    compareDates: function(filterLocalDate, cellValue) {\n        // Assume dates are stored as iso\n        const cellDate = new Date(cellValue);\n\n        if (cellDate < filterLocalDate) {\n            return -1;\n        } else if (cellDate > filterLocalDate) {\n            return 1;\n        }\n        return 0;\n    },\n\n    sizeToFit: function(gridOptions) {\n        gridOptions.api.sizeColumnsToFit();\n    },\n\n    autoSizeAll: function(gridOptions) {\n        const allColumnIds = [];\n        gridOptions.columnApi.getAllColumns().forEach(column => {\n            allColumnIds.push(column.colId);\n        });\n        gridOptions.columnApi.autoSizeColumns(allColumnIds);\n    },\n\n    /**\n     * Exporting data to CSV using ag-Grid api.\n     * @param {Object} gridOptions\n     */\n    exportToCsv: function(gridOptions) {\n        const params = {\n            skipHeader: false,\n            columnGroups: true,\n            skipFooters: false,\n            skipGroups: false,\n            skipPinnedTop: false,\n            skipPinnedBottom: false,\n            allColumns: true,\n            onlySelected: false,\n            suppressQuotes: true,\n            fileName: 'my_file.csv',\n            sheetName: 'my_sheet',\n            shouldRowBeSkipped: () => false,\n            processCellCallback: param => param.value,\n            processHeaderCallback: null,\n        };\n        gridOptions.api.exportDataAsCsv(params);\n    },\n\n    /**\n     * Exporting data to Excel using ag-Grid api.\n     * @param {Object} gridOptions\n     */\n    exportToExcel: function(gridOptions) {\n        const params = {\n            skipHeader: false,\n            columnGroups: true,\n            skipFooters: false,\n            skipGroups: false,\n            skipPinnedTop: false,\n            skipPinnedBottom: false,\n            allColumns: true,\n            onlySelected: false,\n            suppressQuotes: true,\n            fileName: 'my_file.xls',\n            sheetName: 'my_sheet',\n            shouldRowBeSkipped: () => false, // TODO : check\n            processCellCallback: param => param.value,\n            processHeaderCallback: null,\n        };\n        gridOptions.api.exportDataAsExcel(params);\n    },\n};\n",
       "columns_fit": "size_to_fit",
       "compress_data": true,
       "export_mode": "disabled",
       "height": "350px",
       "js_helpers": "{\"dateFormatter\":\"function(node) {\\n        // make sure date is not undefined\\n        if (node && node.value) {\\n            let d = new Date(node.value);\\n            let h = d.getHours();\\n            let m = d.getMinutes();\\n            let s = d.getSeconds();\\n            const offset = d.getTimezoneOffset() * 60000;\\n            d = new Date(d.getTime() - offset);\\n            const ymd = d.toISOString().substring(0, 10);\\n            if (h === 0 && m === 0 && s === 0) {\\n                return ymd;\\n            }\\n            if (h === 0) h = '00';\\n            if (m === 0) m = '00';\\n            if (s === 0) s = '00';\\n            return `${ymd} ${h}:${m}:${s}`;\\n        }\\n        return null;\\n    }\",\"formatInt\":\" >-,.0f\",\"formatFloat\":\" >-,.2f\",\"intFormatter\":\"function(node) {\\n        return formatInt(node.value);\\n    }\",\"floatFormatter\":\"function(node) {\\n        return formatFloat(node.value);\\n    }\",\"compareDates\":\"function(filterLocalDate, cellValue) {\\n        // Assume dates are stored as iso\\n        const cellDate = new Date(cellValue);\\n\\n        if (cellDate < filterLocalDate) {\\n            return -1;\\n        } else if (cellDate > filterLocalDate) {\\n            return 1;\\n        }\\n        return 0;\\n    }\",\"sizeToFit\":\"function(gridOptions) {\\n        gridOptions.api.sizeColumnsToFit();\\n    }\",\"autoSizeAll\":\"function(gridOptions) {\\n        const allColumnIds = [];\\n        gridOptions.columnApi.getAllColumns().forEach(column => {\\n            allColumnIds.push(column.colId);\\n        });\\n        gridOptions.columnApi.autoSizeColumns(allColumnIds);\\n    }\",\"exportToCsv\":\"function(gridOptions) {\\n        const params = {\\n            skipHeader: false,\\n            columnGroups: true,\\n            skipFooters: false,\\n            skipGroups: false,\\n            skipPinnedTop: false,\\n            skipPinnedBottom: false,\\n            allColumns: true,\\n            onlySelected: false,\\n            suppressQuotes: true,\\n            fileName: 'my_file.csv',\\n            sheetName: 'my_sheet',\\n            shouldRowBeSkipped: () => false,\\n            processCellCallback: param => param.value,\\n            processHeaderCallback: null,\\n        };\\n        gridOptions.api.exportDataAsCsv(params);\\n    }\",\"exportToExcel\":\"function(gridOptions) {\\n        const params = {\\n            skipHeader: false,\\n            columnGroups: true,\\n            skipFooters: false,\\n            skipGroups: false,\\n            skipPinnedTop: false,\\n            skipPinnedBottom: false,\\n            allColumns: true,\\n            onlySelected: false,\\n            suppressQuotes: true,\\n            fileName: 'my_file.xls',\\n            sheetName: 'my_sheet',\\n            shouldRowBeSkipped: () => false, // TODO : check\\n            processCellCallback: param => param.value,\\n            processHeaderCallback: null,\\n        };\\n        gridOptions.api.exportDataAsExcel(params);\\n    }\"}",
       "layout": "IPY_MODEL_68a929d68a55454c9b65067feb3d6123",
       "menu": {
        "button_div_css": ".flex-button-div-9574408 {\ndisplay: flex;\njustify-content: flex-start;\nalign-items: flex-start;\nalign-content: flex-start;\nflex-flow: row wrap;\n}\n",
        "buttons": [],
        "input_div_css": ".flex-input-div-9574408 {\ndisplay: flex;\njustify-content: flex-start;\nalign-items: baseline;\nalign-content: flex-start;\nflex-flow: row wrap;\n}\n",
        "inputs": [
         {
          "css": ".flex-child-quick-filter-9574408 {\norder: 0;\nalign-self: auto;\nmargin: 5px;\nflex: 0.00 1.00 auto;\nwidth: 150px;\n}\n",
          "name": "Quick Filter"
         }
        ],
        "menu_div_css": ".flex-menu-div-9574408 {\ndisplay: flex;\njustify-content: flex-start;\nalign-items: flex-start;\nalign-content: flex-start;\nflex-flow: row wrap;\n}\n"
       },
       "theme": "ag-theme-balham",
       "width": "100%"
      }
     },
     "1dd382602fa248c38607ff95d90c0184": {
      "model_module": "@jupyter-widgets/base",
      "model_module_version": "1.2.0",
      "model_name": "LayoutModel",
      "state": {
       "align_items": "stretch",
       "display": "flex",
       "flex_flow": "row",
       "grid_auto_columns": "True",
       "justify_content": "flex-start",
       "width": "80%"
      }
     },
     "1e007509f3014df499f32fd703ab8be0": {
      "model_module": "@jupyter-widgets/base",
      "model_module_version": "1.2.0",
      "model_name": "LayoutModel",
      "state": {
       "align_items": "stretch",
       "width": "100%"
      }
     },
     "1e03df3826dd4c7ea27a4dd1c0ee2f16": {
      "model_module": "@jupyter-widgets/base",
      "model_module_version": "1.2.0",
      "model_name": "LayoutModel",
      "state": {
       "align_items": "stretch",
       "display": "flex",
       "flex_flow": "row",
       "grid_auto_columns": "True",
       "justify_content": "flex-start",
       "width": "80%"
      }
     },
     "1faa5fb79a1b47f6a1c1492150e92f2a": {
      "model_module": "@jupyter-widgets/base",
      "model_module_version": "1.2.0",
      "model_name": "LayoutModel",
      "state": {
       "align_items": "stretch",
       "border": "dashed 0.2px green",
       "display": "flex",
       "flex_flow": "row",
       "grid_auto_columns": "True",
       "justify_content": "flex-start",
       "width": "100%"
      }
     },
     "1fad80151c914e09b61eac7211f076b9": {
      "model_module": "@jupyter-widgets/base",
      "model_module_version": "1.2.0",
      "model_name": "LayoutModel",
      "state": {
       "align_items": "stretch",
       "display": "flex",
       "flex_flow": "row",
       "grid_auto_columns": "True",
       "justify_content": "flex-start",
       "width": "80%"
      }
     },
     "1fd22e19a5cb437ba8344da2384babc9": {
      "model_module": "@jupyter-widgets/base",
      "model_module_version": "1.2.0",
      "model_name": "LayoutModel",
      "state": {}
     },
     "1fd9a86fa21747149a92913a5baed63a": {
      "model_module": "@jupyter-widgets/controls",
      "model_module_version": "1.5.0",
      "model_name": "HBoxModel",
      "state": {
       "children": [
        "IPY_MODEL_5e9ee5f66bb54d3ba3797795a6c0d30a",
        "IPY_MODEL_f3d2327592f340d3bc6db5f399c3fbe6"
       ],
       "layout": "IPY_MODEL_ab87dc530b2b4fbf9f4a677f60cf6c98"
      }
     },
     "201b8fbc4c1348c09397b5faa53cf040": {
      "model_module": "@jupyter-widgets/controls",
      "model_module_version": "1.5.0",
      "model_name": "HBoxModel",
      "state": {
       "children": [
        "IPY_MODEL_bcf7f7420705475cab608a477f561876"
       ],
       "layout": "IPY_MODEL_f199ec701edf471b8d1848ed0b897a67"
      }
     },
     "203031ea3fe34eb79bf77e10e1efd674": {
      "model_module": "@jupyter-widgets/controls",
      "model_module_version": "1.5.0",
      "model_name": "ButtonStyleModel",
      "state": {
       "font_weight": "bold"
      }
     },
     "20647ee596c6436c81bdc5acf0793f77": {
      "model_module": "@jupyter-widgets/base",
      "model_module_version": "1.2.0",
      "model_name": "LayoutModel",
      "state": {
       "height": "30px",
       "width": "auto"
      }
     },
     "206b49e32c494b2ebdeba32f5798a487": {
      "model_module": "@jupyter-widgets/output",
      "model_module_version": "1.0.0",
      "model_name": "OutputModel",
      "state": {
       "layout": "IPY_MODEL_3b6ddd13f3624514a95be2996f15a89c"
      }
     },
     "20914c5c178c4346893ee373aae91943": {
      "model_module": "@jupyter-widgets/base",
      "model_module_version": "1.2.0",
      "model_name": "LayoutModel",
      "state": {}
     },
     "20c2a4a5fa634dbda313ce05f8cf6308": {
      "model_module": "@jupyter-widgets/controls",
      "model_module_version": "1.5.0",
      "model_name": "HTMLModel",
      "state": {
       "layout": "IPY_MODEL_41d663e8093147739befed0a19e37947",
       "style": "IPY_MODEL_f8221cc871804be8ae9f32a07b20778e",
       "value": "<p>margin_1_bar</p>"
      }
     },
     "20e925d72dc34541b537407687676efd": {
      "model_module": "@jupyter-widgets/base",
      "model_module_version": "1.2.0",
      "model_name": "LayoutModel",
      "state": {}
     },
     "214999a8cb9d4585abb6d147d858c23b": {
      "model_module": "@jupyter-widgets/controls",
      "model_module_version": "1.5.0",
      "model_name": "DescriptionStyleModel",
      "state": {
       "description_width": ""
      }
     },
     "21fc03eae6cc46e9b81dbfc5dab5fb67": {
      "model_module": "@jupyter-widgets/controls",
      "model_module_version": "1.5.0",
      "model_name": "HBoxModel",
      "state": {
       "children": [
        "IPY_MODEL_8db6638c8f2c4ebfb41c61ffdd4224b8",
        "IPY_MODEL_fa3de0214dcf4c528f0391980a36f549"
       ],
       "layout": "IPY_MODEL_aeef7ee5fd804c9e838a375455e3da46"
      }
     },
     "2215bea8a86b4a86b3db09cc28c1b429": {
      "model_module": "@jupyter-widgets/base",
      "model_module_version": "1.2.0",
      "model_name": "LayoutModel",
      "state": {}
     },
     "2227e117d3ee4c1b8dc7fc53d5c0f2ce": {
      "model_module": "@jupyter-widgets/controls",
      "model_module_version": "1.5.0",
      "model_name": "DescriptionStyleModel",
      "state": {
       "description_width": ""
      }
     },
     "225819f049e84a6192c19672f895d9d9": {
      "model_module": "@jupyter-widgets/controls",
      "model_module_version": "1.5.0",
      "model_name": "ButtonModel",
      "state": {
       "button_style": "success",
       "description": "save changes",
       "layout": "IPY_MODEL_e58a865550b5487487e33cb7aeb1cb9f",
       "style": "IPY_MODEL_e47bc99068ac4f688f7c83a5c0806c70"
      }
     },
     "22683619944d49ed8f2269bdddf1aeb3": {
      "model_module": "@jupyter-widgets/controls",
      "model_module_version": "1.5.0",
      "model_name": "DescriptionStyleModel",
      "state": {
       "description_width": ""
      }
     },
     "22d13ef1cf4f4e4b8989deb3d8bcdc26": {
      "model_module": "@jupyter-widgets/controls",
      "model_module_version": "1.5.0",
      "model_name": "DescriptionStyleModel",
      "state": {
       "description_width": ""
      }
     },
     "2306a9e397214c9c964d65c8cc08f8ac": {
      "model_module": "@jupyter-widgets/controls",
      "model_module_version": "1.5.0",
      "model_name": "VBoxModel",
      "state": {
       "children": [
        "IPY_MODEL_9d8d59cf27624045885c059e85f90019",
        "IPY_MODEL_c2e8c65eefc1424a97788ad111febe2b"
       ],
       "layout": "IPY_MODEL_25e7fe2cf7354794a248cef0f5d1322c"
      }
     },
     "232fff47cf024b1b81d21c706f48b010": {
      "model_module": "@jupyter-widgets/controls",
      "model_module_version": "1.5.0",
      "model_name": "DescriptionStyleModel",
      "state": {
       "description_width": ""
      }
     },
     "23833a6f0fe44435bbbf9c794e1b3306": {
      "model_module": "@jupyter-widgets/controls",
      "model_module_version": "1.5.0",
      "model_name": "VBoxModel",
      "state": {
       "children": [
        "IPY_MODEL_717af73aedb342b995ca1fc8b432955c",
        "IPY_MODEL_9e249e394d394d60b3e813642d0c20d4",
        "IPY_MODEL_e28b94657bda48779a275526b3386fd3"
       ],
       "layout": "IPY_MODEL_5406ef15a0484ef59826f0803cf9dacf"
      }
     },
     "23afbea71c114a9fb4a1bd69531b1a86": {
      "model_module": "@jupyter-widgets/controls",
      "model_module_version": "1.5.0",
      "model_name": "VBoxModel",
      "state": {
       "children": [
        "IPY_MODEL_fc1fa083c82c4cef99f7c64f53b1e86a",
        "IPY_MODEL_ffb81ed362014e93bd16976434b5349c",
        "IPY_MODEL_463e228c972946dda4f1e1ee2d98f42f"
       ],
       "layout": "IPY_MODEL_1e007509f3014df499f32fd703ab8be0"
      }
     },
     "23cc519f7d164fdab95f5e2e82354874": {
      "model_module": "@jupyter-widgets/base",
      "model_module_version": "1.2.0",
      "model_name": "LayoutModel",
      "state": {}
     },
     "23eb209549294212aed965655b80b034": {
      "model_module": "@jupyter-widgets/controls",
      "model_module_version": "1.5.0",
      "model_name": "VBoxModel",
      "state": {
       "layout": "IPY_MODEL_12ce258c420648a0aa1a3d542e49e86b"
      }
     },
     "240bd285a4a74845b685637ad8369751": {
      "model_module": "@jupyter-widgets/controls",
      "model_module_version": "1.5.0",
      "model_name": "HBoxModel",
      "state": {
       "children": [
        "IPY_MODEL_778de250dd054cc68ba149bd7e7c1bef",
        "IPY_MODEL_9e038739e17d44f89dbd266451bd83db"
       ],
       "layout": "IPY_MODEL_609ebbe30fe64bb6bed174af205d4d6a"
      }
     },
     "241afa8740b84bcb8a5694d1dec966eb": {
      "model_module": "@jupyter-widgets/base",
      "model_module_version": "1.2.0",
      "model_name": "LayoutModel",
      "state": {
       "align_items": "stretch",
       "display": "flex",
       "flex_flow": "row",
       "grid_auto_columns": "True",
       "justify_content": "flex-start",
       "width": "80%"
      }
     },
     "244e612aaaf843599b805ac30c409eec": {
      "model_module": "@jupyter-widgets/controls",
      "model_module_version": "1.5.0",
      "model_name": "HBoxModel",
      "state": {
       "children": [
        "IPY_MODEL_6999dcd92c084dac9e454d1d8ed50341"
       ],
       "layout": "IPY_MODEL_916506e4e7ae4113b76eeff9895fa624"
      }
     },
     "245aec72f9264ef38825557f120d8070": {
      "model_module": "@jupyter-widgets/base",
      "model_module_version": "1.2.0",
      "model_name": "LayoutModel",
      "state": {
       "align_items": "stretch",
       "border": "dashed 0.2px green",
       "display": "flex",
       "flex_flow": "row",
       "grid_auto_columns": "True",
       "justify_content": "flex-start",
       "width": "100%"
      }
     },
     "2499c7e87640486a9af051a84b593508": {
      "model_module": "@jupyter-widgets/controls",
      "model_module_version": "1.5.0",
      "model_name": "DescriptionStyleModel",
      "state": {
       "description_width": ""
      }
     },
     "24a1f51d763d4718aa07aee6285debbf": {
      "model_module": "@jupyter-widgets/base",
      "model_module_version": "1.2.0",
      "model_name": "LayoutModel",
      "state": {
       "flex_flow": "column",
       "height": "auto",
       "width": "auto"
      }
     },
     "24b8703196a64b68999c36f39387b105": {
      "model_module": "@jupyter-widgets/controls",
      "model_module_version": "1.5.0",
      "model_name": "ButtonModel",
      "state": {
       "button_style": "info",
       "description": "preview outputs",
       "layout": "IPY_MODEL_62e6a4742fa54e538ead48b83cb1544a",
       "style": "IPY_MODEL_9110c5e0d9fa406fa9a2070708dad039",
       "tooltip": "show a preview of the output files generated when the script runs"
      }
     },
     "2522c702f1f24978a4e6dd0f12628b68": {
      "model_module": "@jupyter-widgets/controls",
      "model_module_version": "1.5.0",
      "model_name": "HTMLModel",
      "state": {
       "layout": "IPY_MODEL_4d3994a4cf1e49fcaa805d5b6313e42d",
       "style": "IPY_MODEL_151dc47d666f4c508d26a8d4a6de33d0",
       "value": "<p>eV_acceptance_fraction</p>"
      }
     },
     "25330064797f46e88af075f556ac7e95": {
      "model_module": "@jupyter-widgets/base",
      "model_module_version": "1.2.0",
      "model_name": "LayoutModel",
      "state": {}
     },
     "25399cd69e3448999f2d8744a653b691": {
      "model_module": "@jupyter-widgets/base",
      "model_module_version": "1.2.0",
      "model_name": "LayoutModel",
      "state": {
       "height": "30px",
       "width": "auto"
      }
     },
     "255303382a884250bd9be555560fda2a": {
      "model_module": "@jupyter-widgets/controls",
      "model_module_version": "1.5.0",
      "model_name": "ButtonStyleModel",
      "state": {
       "font_weight": "bold"
      }
     },
     "256cc8dadbf34fbc9e1664ed651dfc67": {
      "model_module": "@jupyter-widgets/controls",
      "model_module_version": "1.5.0",
      "model_name": "ButtonModel",
      "state": {
       "button_style": "info",
       "description": "preview outputs",
       "layout": "IPY_MODEL_ff18c828e97e4684a286ac586b070710",
       "style": "IPY_MODEL_53b378f1b9e54a4c9b106c50da3c7368",
       "tooltip": "show a preview of the output files generated when the script runs"
      }
     },
     "25db733b7e3343c4b35b69ede843a9c4": {
      "model_module": "@jupyter-widgets/base",
      "model_module_version": "1.2.0",
      "model_name": "LayoutModel",
      "state": {
       "align_items": "stretch",
       "display": "flex",
       "flex_flow": "row",
       "grid_auto_columns": "True",
       "justify_content": "flex-end",
       "width": "90%"
      }
     },
     "25e7fe2cf7354794a248cef0f5d1322c": {
      "model_module": "@jupyter-widgets/base",
      "model_module_version": "1.2.0",
      "model_name": "LayoutModel",
      "state": {}
     },
     "261fc071c32e426d9e42d4e976fbb953": {
      "model_module": "@jupyter-widgets/base",
      "model_module_version": "1.2.0",
      "model_name": "LayoutModel",
      "state": {}
     },
     "26399be09f3e4797b6fd919e632cb65a": {
      "model_module": "@jupyter-widgets/controls",
      "model_module_version": "1.5.0",
      "model_name": "FloatSliderModel",
      "state": {
       "layout": "IPY_MODEL_7d8abddf48da4a9da92343f4d82f8a60",
       "max": 1,
       "step": 0.1,
       "style": "IPY_MODEL_f625819eeb4248749dd02e209788edf1",
       "value": 0.3
      }
     },
     "266e3d09523a49dfaf79ea02cdd0cc35": {
      "model_module": "@jupyter-widgets/controls",
      "model_module_version": "1.5.0",
      "model_name": "HBoxModel",
      "state": {
       "children": [
        "IPY_MODEL_a81d52b0a6854b71b4e1d58a5f73c203",
        "IPY_MODEL_977b25d9af9d4ca896dfb78daea24252"
       ],
       "layout": "IPY_MODEL_1fad80151c914e09b61eac7211f076b9"
      }
     },
     "26ac10ab8ec2474a98f6afc5104025c8": {
      "model_module": "@jupyter-widgets/controls",
      "model_module_version": "1.5.0",
      "model_name": "HTMLModel",
      "state": {
       "layout": "IPY_MODEL_8535dedd6842420fb98cfbd6733f49f1",
       "style": "IPY_MODEL_a7dde4cbf0434f8994e3b2c4bf94a52c",
       "value": "<p>pipework_pressure_loss_margin_fraction</p>"
      }
     },
     "272c08a233e846f78456309574a2cabe": {
      "model_module": "@jupyter-widgets/controls",
      "model_module_version": "1.5.0",
      "model_name": "HTMLModel",
      "state": {
       "layout": "IPY_MODEL_60633613ea884b6fa177babd19e09e2b",
       "style": "IPY_MODEL_6be6cfef7b8a4143981518d450a93a81",
       "value": "<p>edit user input form below</p>"
      }
     },
     "27cfe1e6d0a943a8b243726d85867fa2": {
      "model_module": "@jupyter-widgets/controls",
      "model_module_version": "1.5.0",
      "model_name": "FloatTextModel",
      "state": {
       "layout": "IPY_MODEL_abc9eb3532694a2c9456799e80f84dcb",
       "step": null,
       "style": "IPY_MODEL_a8c8bffec77a4ec4af2a04a0f5765f22",
       "value": 48
      }
     },
     "28013e109aad4f11b552ab6aafd89e24": {
      "model_module": "@jupyter-widgets/base",
      "model_module_version": "1.2.0",
      "model_name": "LayoutModel",
      "state": {}
     },
     "28022df400f6403f91750f145f943ff4": {
      "model_module": "@jupyter-widgets/controls",
      "model_module_version": "1.5.0",
      "model_name": "DescriptionStyleModel",
      "state": {
       "description_width": ""
      }
     },
     "280a74b4affc47a2ab2697d0f4d28ab1": {
      "model_module": "@jupyter-widgets/controls",
      "model_module_version": "1.5.0",
      "model_name": "DescriptionStyleModel",
      "state": {
       "description_width": ""
      }
     },
     "2813fe6a75d04751b1b87a5efdd42976": {
      "model_module": "@jupyter-widgets/output",
      "model_module_version": "1.0.0",
      "model_name": "OutputModel",
      "state": {
       "layout": "IPY_MODEL_17cc862ca6cb4a47841c69d6bc60d361"
      }
     },
     "28bf8e38f4c1473b8d1357479b22081b": {
      "model_module": "@jupyter-widgets/base",
      "model_module_version": "1.2.0",
      "model_name": "LayoutModel",
      "state": {}
     },
     "28ca66618e534c778ec63bfb5143d2ca": {
      "model_module": "@jupyter-widgets/controls",
      "model_module_version": "1.5.0",
      "model_name": "HTMLModel",
      "state": {
       "layout": "IPY_MODEL_7ec6b910f6cc4bb39b5cea3e80de2fe7",
       "style": "IPY_MODEL_5304223753874a3489f97c3ad549d849",
       "value": "<p>eV_acceptance_fraction</p>"
      }
     },
     "28fbda40bb50400c85bedcacf54c4c51": {
      "model_module": "@jupyter-widgets/controls",
      "model_module_version": "1.5.0",
      "model_name": "FloatTextModel",
      "state": {
       "layout": "IPY_MODEL_e247289727be4e3a970f2b874cfd8eb0",
       "step": null,
       "style": "IPY_MODEL_b85182937e734ceb90c9023ab94c5015",
       "value": 500
      }
     },
     "2905af7a8f2e4e65a33148b1d75ebff0": {
      "model_module": "@jupyter-widgets/base",
      "model_module_version": "1.2.0",
      "model_name": "LayoutModel",
      "state": {}
     },
     "2971f21defaa4161a5387ee42d286d84": {
      "model_module": "@jupyter-widgets/controls",
      "model_module_version": "1.5.0",
      "model_name": "SliderStyleModel",
      "state": {
       "description_width": ""
      }
     },
     "29d7b190f626443fa867fb81f0bd3671": {
      "model_module": "@jupyter-widgets/controls",
      "model_module_version": "1.5.0",
      "model_name": "HTMLModel",
      "state": {
       "layout": "IPY_MODEL_a0fcf6649bf347f1b1e26469a332c212",
       "style": "IPY_MODEL_8a91b2284aca4d98a2fffc656b3df1b4",
       "value": "<p>sensitivity factor</p>"
      }
     },
     "29f979b53f6c4664913862599c50a1e3": {
      "model_module": "@jupyter-widgets/controls",
      "model_module_version": "1.5.0",
      "model_name": "HTMLModel",
      "state": {
       "layout": "IPY_MODEL_d5d8c617b7f34a5196cf9d2a666ddb2e",
       "style": "IPY_MODEL_6e371f20bb464d85b5cfbd831af8721b",
       "value": "<p>water_volume_m3</p>"
      }
     },
     "2a3e3c0cc641408ea7e3859cc69aed42": {
      "model_module": "@jupyter-widgets/base",
      "model_module_version": "1.2.0",
      "model_name": "LayoutModel",
      "state": {
       "width": "5%"
      }
     },
     "2a69f914c2084b6c9ad07c0a6cf49cc6": {
      "model_module": "@jupyter-widgets/base",
      "model_module_version": "1.2.0",
      "model_name": "LayoutModel",
      "state": {
       "border": "0px",
       "margin": "0px",
       "padding": "0px"
      }
     },
     "2a715e93399643fc97e6dfa16eb68d9a": {
      "model_module": "@jupyter-widgets/controls",
      "model_module_version": "1.5.0",
      "model_name": "FloatSliderModel",
      "state": {
       "layout": "IPY_MODEL_cff4b838f86341feafa592e7a7958982",
       "max": 2,
       "step": 0.1,
       "style": "IPY_MODEL_5daca7c9dc0848bda7e01b193c978868",
       "value": 1
      }
     },
     "2ccff8009be54a7e8a7da1ffdec37576": {
      "model_module": "@jupyter-widgets/base",
      "model_module_version": "1.2.0",
      "model_name": "LayoutModel",
      "state": {}
     },
     "2d06fb6daa424f7d82bf85727ce766eb": {
      "model_module": "@jupyter-widgets/controls",
      "model_module_version": "1.5.0",
      "model_name": "HTMLModel",
      "state": {
       "layout": "IPY_MODEL_68eca0e5470648d7bc92d7138659e521",
       "style": "IPY_MODEL_bcbda6fc014c4396b1ffa04c33a875a6",
       "value": "<p>eV_acceptance_fraction</p>"
      }
     },
     "2d4cd1b710c24531b679c52785a75743": {
      "model_module": "@jupyter-widgets/controls",
      "model_module_version": "1.5.0",
      "model_name": "SliderStyleModel",
      "state": {
       "description_width": ""
      }
     },
     "2da2e8701f1549a2bbc6f3f345003b02": {
      "model_module": "@jupyter-widgets/base",
      "model_module_version": "1.2.0",
      "model_name": "LayoutModel",
      "state": {}
     },
     "2e1dfdccf9e34e66b823a192c5e166b0": {
      "model_module": "@jupyter-widgets/controls",
      "model_module_version": "1.5.0",
      "model_name": "ToggleButtonModel",
      "state": {
       "button_style": "success",
       "description": "display/hide files",
       "layout": "IPY_MODEL_366739c576f547d0935a0fad9d41b7ea",
       "style": "IPY_MODEL_dab8222a1649415b9d49f563cbf46434",
       "tooltip": "shows and hides display outputs of the files selected in the SelectMultiple dropdown menu"
      }
     },
     "2f0548b88a394d598ed3afe424bfc88d": {
      "model_module": "@jupyter-widgets/controls",
      "model_module_version": "1.5.0",
      "model_name": "DescriptionStyleModel",
      "state": {
       "description_width": ""
      }
     },
     "3033a78c00a24ad1a5edafcac97b4054": {
      "model_module": "@jupyter-widgets/base",
      "model_module_version": "1.2.0",
      "model_name": "LayoutModel",
      "state": {}
     },
     "30c83f1099024265acc36d177bcd2cdc": {
      "model_module": "@jupyter-widgets/base",
      "model_module_version": "1.2.0",
      "model_name": "LayoutModel",
      "state": {
       "display": "flex",
       "flex_flow": "row",
       "grid_auto_columns": "False",
       "justify_content": "flex-start",
       "width": "100%"
      }
     },
     "30d8560d24bd46098365e602fa607450": {
      "model_module": "@jupyter-widgets/base",
      "model_module_version": "1.2.0",
      "model_name": "LayoutModel",
      "state": {
       "align_items": "stretch",
       "display": "flex",
       "flex_flow": "row",
       "grid_auto_columns": "True",
       "justify_content": "flex-start",
       "width": "80%"
      }
     },
     "30e412d28bbd44b7a8d16ca9c00875da": {
      "model_module": "@jupyter-widgets/base",
      "model_module_version": "1.2.0",
      "model_name": "LayoutModel",
      "state": {}
     },
     "316d97751d1d48c7b74b10923e87db64": {
      "model_module": "@jupyter-widgets/base",
      "model_module_version": "1.2.0",
      "model_name": "LayoutModel",
      "state": {}
     },
     "31e9f3afd7aa4bfbbbaaedfd45a07b0b": {
      "model_module": "@jupyter-widgets/controls",
      "model_module_version": "1.5.0",
      "model_name": "VBoxModel",
      "state": {
       "children": [
        "IPY_MODEL_c7874169a085470a947da8accf30a65b",
        "IPY_MODEL_62a58709c6e440de9815f25ec5acae9a",
        "IPY_MODEL_012888d7bfd64340a0eecb960d9bccf4",
        "IPY_MODEL_832d07233c3f477c97034814566eb5af",
        "IPY_MODEL_35238c70a4ed4d269add34801a843a43",
        "IPY_MODEL_d1eb98bd38194212b6e2f8e960e5a392",
        "IPY_MODEL_6cc5b90f7d7d4529a131ad77db18a044"
       ],
       "layout": "IPY_MODEL_06ad1d9f29294d65a29533236a3ca3f2"
      }
     },
     "31fa5620af5a4ca9a15c68e0ce55aa2e": {
      "model_module": "@jupyter-widgets/controls",
      "model_module_version": "1.5.0",
      "model_name": "DescriptionStyleModel",
      "state": {
       "description_width": ""
      }
     },
     "320e043174f845d79a9006d8164307ec": {
      "model_module": "@jupyter-widgets/controls",
      "model_module_version": "1.5.0",
      "model_name": "HBoxModel",
      "state": {
       "children": [
        "IPY_MODEL_4ef7d4c878fc40fe8f06615a7fb9106d"
       ],
       "layout": "IPY_MODEL_c503cf6c17274a598b984a5b2f44b25f"
      }
     },
     "321a6f2e797e4a2995e7adea4d24ab7f": {
      "model_module": "@jupyter-widgets/base",
      "model_module_version": "1.2.0",
      "model_name": "LayoutModel",
      "state": {}
     },
     "32452f7dbbdc4f12a98cfcc2b37447de": {
      "model_module": "@jupyter-widgets/controls",
      "model_module_version": "1.5.0",
      "model_name": "DescriptionStyleModel",
      "state": {
       "description_width": ""
      }
     },
     "326f733c87e546a09de4e58f9fb0c595": {
      "model_module": "@jupyter-widgets/controls",
      "model_module_version": "1.5.0",
      "model_name": "FloatTextModel",
      "state": {
       "layout": "IPY_MODEL_aa4c3622658e44729a789791a12a92f0",
       "step": null,
       "style": "IPY_MODEL_8e3d72cdc8874021b0e1e3ae585e6994",
       "value": 20
      }
     },
     "329d2b5edf0c427bbf14a61e20cf5408": {
      "model_module": "@jupyter-widgets/controls",
      "model_module_version": "1.5.0",
      "model_name": "ButtonStyleModel",
      "state": {
       "font_weight": "bold"
      }
     },
     "32e628773d864b8886acd7e14717a11c": {
      "model_module": "@jupyter-widgets/base",
      "model_module_version": "1.2.0",
      "model_name": "LayoutModel",
      "state": {}
     },
     "336065b009404267aeab45a68f81ded1": {
      "model_module": "@jupyter-widgets/base",
      "model_module_version": "1.2.0",
      "model_name": "LayoutModel",
      "state": {}
     },
     "33b39abadc444b25abf60d31bfc409c7": {
      "model_module": "@jupyter-widgets/output",
      "model_module_version": "1.0.0",
      "model_name": "OutputModel",
      "state": {
       "layout": "IPY_MODEL_80e33c1528c64707ab66f21169236df9"
      }
     },
     "33b718484e874b95857851c997573030": {
      "model_module": "@jupyter-widgets/base",
      "model_module_version": "1.2.0",
      "model_name": "LayoutModel",
      "state": {
       "align_items": "stretch",
       "border": "dashed 0.2px green",
       "display": "flex",
       "flex_flow": "row",
       "grid_auto_columns": "True",
       "justify_content": "flex-start",
       "width": "100%"
      }
     },
     "3406617dd5124d948cc9335a3c240d1e": {
      "model_module": "@jupyter-widgets/controls",
      "model_module_version": "1.5.0",
      "model_name": "RadioButtonsModel",
      "state": {
       "_options_labels": [
        "TEMPLATE: C:\\engDev\\git_mf\\ipyrun\\examples\\scripts\\template_inputs\\inputs-expansion_vessel_sizing.json",
        "PROJECT: C:\\engDev\\git_mf\\ipyrun\\examples\\notebooks\\appdata\\inputs\\inputs-expansion_vessel_sizing.json",
        "PROJECT: C:\\engDev\\git_mf\\ipyrun\\examples\\notebooks\\appdata\\inputs\\archive\\20200612_1731-jg-inputs-expansion_vessel_sizing.json",
        "PROJECT: C:\\engDev\\git_mf\\ipyrun\\examples\\notebooks\\appdata\\inputs\\archive\\20200612_1817-jg-inputs-expansion_vessel_sizing.json",
        "PROJECT: C:\\engDev\\git_mf\\ipyrun\\examples\\notebooks\\appdata\\inputs\\archive\\20200612_1818-jg-inputs-expansion_vessel_sizing.json",
        "PROJECT: C:\\engDev\\git_mf\\ipyrun\\examples\\notebooks\\appdata\\inputs\\archive\\20200612_1819-jg-inputs-expansion_vessel_sizing.json",
        "PROJECT: C:\\engDev\\git_mf\\ipyrun\\examples\\notebooks\\appdata\\inputs\\archive\\20200612_1900-jg-inputs-expansion_vessel_sizing.json",
        "PROJECT: C:\\engDev\\git_mf\\ipyrun\\examples\\notebooks\\appdata\\inputs\\archive\\20200615_2211-jg-inputs-expansion_vessel_sizing.json",
        "PROJECT: C:\\engDev\\git_mf\\ipyrun\\examples\\notebooks\\appdata\\inputs\\archive\\20200616_1020-jg-inputs-expansion_vessel_sizing.json",
        "PROJECT: C:\\engDev\\git_mf\\ipyrun\\examples\\notebooks\\appdata\\inputs\\archive\\20200616_1021-jg-inputs-expansion_vessel_sizing.json",
        "PROJECT: C:\\engDev\\git_mf\\ipyrun\\examples\\notebooks\\appdata\\inputs\\archive\\20200624_1101-jg-inputs-expansion_vessel_sizing.json"
       ],
       "index": 0,
       "layout": "IPY_MODEL_434ca9bf4f0a4dc6a9a5534deca7f2de",
       "style": "IPY_MODEL_73dc59452920454d9baed1300d870d01"
      }
     },
     "34863ee9da3d48ca9ea1df0741e3f906": {
      "model_module": "@jupyter-widgets/base",
      "model_module_version": "1.2.0",
      "model_name": "LayoutModel",
      "state": {}
     },
     "3499d23b548e4e419918d9ca5048317c": {
      "model_module": "@jupyter-widgets/base",
      "model_module_version": "1.2.0",
      "model_name": "LayoutModel",
      "state": {
       "align_items": "stretch",
       "display": "flex",
       "flex_flow": "row",
       "grid_auto_columns": "True",
       "justify_content": "flex-end",
       "width": "90%"
      }
     },
     "34e7c37b42c44626991d90a1fe957617": {
      "model_module": "@jupyter-widgets/controls",
      "model_module_version": "1.5.0",
      "model_name": "HBoxModel",
      "state": {
       "children": [
        "IPY_MODEL_66f4f2506ae64cc49f22b69e89f87d56"
       ],
       "layout": "IPY_MODEL_245aec72f9264ef38825557f120d8070"
      }
     },
     "34f0a9d77675457196e59a58ab91a089": {
      "model_module": "@jupyter-widgets/base",
      "model_module_version": "1.2.0",
      "model_name": "LayoutModel",
      "state": {}
     },
     "35238c70a4ed4d269add34801a843a43": {
      "model_module": "@jupyter-widgets/controls",
      "model_module_version": "1.5.0",
      "model_name": "HBoxModel",
      "state": {
       "children": [
        "IPY_MODEL_457023a19754464ab127642fae2190be"
       ],
       "layout": "IPY_MODEL_180e01a5bb194372a353efe77acb5b78"
      }
     },
     "352da1921fdb4ebe9b3a9c21f03f7203": {
      "model_module": "@jupyter-widgets/controls",
      "model_module_version": "1.5.0",
      "model_name": "ButtonModel",
      "state": {
       "button_style": "warning",
       "description": "edit inputs",
       "layout": "IPY_MODEL_ce2b9484e8f746e99c1f00bd7523ce59",
       "style": "IPY_MODEL_006a8a0ccb1147f697458bf4a820f3e9",
       "tooltip": "edit the user input information that is used when the script is executed"
      }
     },
     "355c72f1f6f749d994b01b255da7e61f": {
      "model_module": "@jupyter-widgets/controls",
      "model_module_version": "1.5.0",
      "model_name": "DescriptionStyleModel",
      "state": {
       "description_width": ""
      }
     },
     "3569e147ae634fd7a5acaa9d2c6ab41b": {
      "model_module": "@jupyter-widgets/controls",
      "model_module_version": "1.5.0",
      "model_name": "HTMLModel",
      "state": {
       "layout": "IPY_MODEL_857bdaeac56a4109be72146d7a9adb7c",
       "style": "IPY_MODEL_713c2f12c67c44fbbac4a16854c7d76e",
       "value": "<p>eV_acceptance_fraction</p>"
      }
     },
     "35b0d8e938fa46b29a43a65c13ca0207": {
      "model_module": "@jupyter-widgets/base",
      "model_module_version": "1.2.0",
      "model_name": "LayoutModel",
      "state": {
       "align_items": "stretch",
       "display": "flex",
       "flex_flow": "row",
       "grid_auto_columns": "True",
       "justify_content": "flex-end",
       "width": "90%"
      }
     },
     "35b53724a9284218849a250551b891f0": {
      "model_module": "@jupyter-widgets/base",
      "model_module_version": "1.2.0",
      "model_name": "LayoutModel",
      "state": {
       "align_items": "stretch",
       "display": "flex",
       "flex_flow": "row",
       "grid_auto_columns": "True",
       "justify_content": "flex-start",
       "width": "80%"
      }
     },
     "35eff4ca6d4e46b1818a797a8b126c34": {
      "model_module": "@jupyter-widgets/base",
      "model_module_version": "1.2.0",
      "model_name": "LayoutModel",
      "state": {}
     },
     "360b176f6c4e4b6da114e5aa60678cbd": {
      "model_module": "@jupyter-widgets/controls",
      "model_module_version": "1.5.0",
      "model_name": "ButtonModel",
      "state": {
       "button_style": "warning",
       "description": "edit inputs",
       "layout": "IPY_MODEL_f83b3f86bb1b47008c7fda801852767a",
       "style": "IPY_MODEL_203031ea3fe34eb79bf77e10e1efd674",
       "tooltip": "edit the user input information that is used when the script is executed"
      }
     },
     "366739c576f547d0935a0fad9d41b7ea": {
      "model_module": "@jupyter-widgets/base",
      "model_module_version": "1.2.0",
      "model_name": "LayoutModel",
      "state": {}
     },
     "3672f75aebc14c119d24d34291e52059": {
      "model_module": "@jupyter-widgets/controls",
      "model_module_version": "1.5.0",
      "model_name": "VBoxModel",
      "state": {
       "children": [
        "IPY_MODEL_880cd929f9934e4c90f006692081e3f0",
        "IPY_MODEL_23afbea71c114a9fb4a1bd69531b1a86"
       ],
       "layout": "IPY_MODEL_92783bebb3184cdd98652b0d01ac8322"
      }
     },
     "36ecf82b65724a20a7470147eac64eb5": {
      "model_module": "@jupyter-widgets/controls",
      "model_module_version": "1.5.0",
      "model_name": "DescriptionStyleModel",
      "state": {
       "description_width": ""
      }
     },
     "37425a9c02f547d4981b8cef16a7e736": {
      "model_module": "@jupyter-widgets/base",
      "model_module_version": "1.2.0",
      "model_name": "LayoutModel",
      "state": {
       "align_items": "stretch",
       "display": "flex",
       "flex_flow": "row",
       "grid_auto_columns": "True",
       "justify_content": "flex-end",
       "width": "90%"
      }
     },
     "376417113b6347e7934f2c1d02080d21": {
      "model_module": "@jupyter-widgets/base",
      "model_module_version": "1.2.0",
      "model_name": "LayoutModel",
      "state": {
       "width": "5%"
      }
     },
     "37b4f41477a645478411478f4b5f7488": {
      "model_module": "@jupyter-widgets/base",
      "model_module_version": "1.2.0",
      "model_name": "LayoutModel",
      "state": {}
     },
     "3805b99bdecb496ca4392b0bfacb07f8": {
      "model_module": "@jupyter-widgets/controls",
      "model_module_version": "1.5.0",
      "model_name": "SliderStyleModel",
      "state": {
       "description_width": ""
      }
     },
     "3811221f009842ae9db0bb0d86c2c750": {
      "model_module": "@jupyter-widgets/controls",
      "model_module_version": "1.5.0",
      "model_name": "ButtonStyleModel",
      "state": {
       "font_weight": "bold"
      }
     },
     "38266a4653114aa49c8988114c4e7040": {
      "model_module": "@jupyter-widgets/base",
      "model_module_version": "1.2.0",
      "model_name": "LayoutModel",
      "state": {}
     },
     "386ca8ce728049719e3ea262e616b1d2": {
      "model_module": "@jupyter-widgets/base",
      "model_module_version": "1.2.0",
      "model_name": "LayoutModel",
      "state": {
       "width": "5%"
      }
     },
     "388738a6f85c4fe79404a0bb6aa890e4": {
      "model_module": "@jupyter-widgets/output",
      "model_module_version": "1.0.0",
      "model_name": "OutputModel",
      "state": {
       "layout": "IPY_MODEL_3033a78c00a24ad1a5edafcac97b4054"
      }
     },
     "38c9cb2b746a4faa958ef32271e614c4": {
      "model_module": "@jupyter-widgets/controls",
      "model_module_version": "1.5.0",
      "model_name": "HTMLModel",
      "state": {
       "layout": "IPY_MODEL_c9b9b06c7ded434b8bbc614ee070e457",
       "style": "IPY_MODEL_70868a364a094b96be81e8fdc2948a64",
       "value": "<p>sensitivity factor</p>"
      }
     },
     "3968c1fed7264341b134b1644d5f1e0c": {
      "model_module": "@jupyter-widgets/controls",
      "model_module_version": "1.5.0",
      "model_name": "HTMLModel",
      "state": {
       "layout": "IPY_MODEL_d1d1d98e3bd044018caffa644d26710f",
       "style": "IPY_MODEL_80f5b31bee354b0fa9d352d3ab5631b9",
       "value": "<p>total volume of water within the closed mechanical system</p>"
      }
     },
     "39771e75118e4e6986886715e979363a": {
      "model_module": "@jupyter-widgets/controls",
      "model_module_version": "1.5.0",
      "model_name": "FloatTextModel",
      "state": {
       "layout": "IPY_MODEL_4795e6286381435383300825a45fd400",
       "step": null,
       "style": "IPY_MODEL_162f6e6cea6c4164936b6162e9871451",
       "value": 257
      }
     },
     "3a355deef5b3467eb8d544ef850d9bd8": {
      "model_module": "@jupyter-widgets/controls",
      "model_module_version": "1.5.0",
      "model_name": "HBoxModel",
      "state": {
       "children": [
        "IPY_MODEL_b6a8e9f8780b40088ce5d91e77d54d2f",
        "IPY_MODEL_609ca6bc6d8e4810bb825b397446fbab"
       ],
       "layout": "IPY_MODEL_30d8560d24bd46098365e602fa607450"
      }
     },
     "3aa930c0e0fb4dda9d7019b61f114086": {
      "model_module": "@jupyter-widgets/base",
      "model_module_version": "1.2.0",
      "model_name": "LayoutModel",
      "state": {}
     },
     "3b62de4732ab454ab1b8c8b3ab783732": {
      "model_module": "@jupyter-widgets/controls",
      "model_module_version": "1.5.0",
      "model_name": "SelectMultipleModel",
      "state": {
       "_options_labels": [
        "C:\\engDev\\git_mf\\ipyrun\\examples\\notebooks\\expansion_vessel_sizing.csv"
       ],
       "description": "outputs",
       "index": [],
       "layout": "IPY_MODEL_20647ee596c6436c81bdc5acf0793f77",
       "rows": 4,
       "style": "IPY_MODEL_5cf95ea5cb194dee80252a41d93db771"
      }
     },
     "3b6ddd13f3624514a95be2996f15a89c": {
      "model_module": "@jupyter-widgets/base",
      "model_module_version": "1.2.0",
      "model_name": "LayoutModel",
      "state": {}
     },
     "3b987d0ccdbe4aae9ec5ab6e3f7b4cde": {
      "model_module": "@jupyter-widgets/base",
      "model_module_version": "1.2.0",
      "model_name": "LayoutModel",
      "state": {}
     },
     "3bd616c198114bcea0fcb37213e721df": {
      "model_module": "@jupyter-widgets/base",
      "model_module_version": "1.2.0",
      "model_name": "LayoutModel",
      "state": {}
     },
     "3bdc29f365ce461c9aa67b5e9c6bee6c": {
      "model_module": "@jupyter-widgets/controls",
      "model_module_version": "1.5.0",
      "model_name": "DescriptionStyleModel",
      "state": {
       "description_width": ""
      }
     },
     "3bed479c24d44bbda9a91b0945fafc7d": {
      "model_module": "@jupyter-widgets/base",
      "model_module_version": "1.2.0",
      "model_name": "LayoutModel",
      "state": {}
     },
     "3bf29e8458254a59b7f671d5b4b82de4": {
      "model_module": "@jupyter-widgets/controls",
      "model_module_version": "1.5.0",
      "model_name": "SelectMultipleModel",
      "state": {
       "_options_labels": [
        "C:\\engDev\\git_mf\\ipyrun\\examples\\notebooks\\expansion_vessel_sizing.csv"
       ],
       "description": "outputs",
       "index": [],
       "layout": "IPY_MODEL_16f347c4362e490fae9ab59249692f3c",
       "rows": 4,
       "style": "IPY_MODEL_4af03ac0bdfc436bbd5ca49c85cc38d4"
      }
     },
     "3c07f8d85746462e807fc677bcd45817": {
      "model_module": "@jupyter-widgets/controls",
      "model_module_version": "1.5.0",
      "model_name": "HBoxModel",
      "state": {
       "children": [
        "IPY_MODEL_0bf88b23e7ed4403aca7abad686f4564",
        "IPY_MODEL_e0ecab95b3ae402381fb037acd6007ef"
       ],
       "layout": "IPY_MODEL_6a2718b9ea8f4e9b953ab215bdf74c40"
      }
     },
     "3c5f4d74c2414c42b63ab58e18b0e672": {
      "model_module": "@jupyter-widgets/base",
      "model_module_version": "1.2.0",
      "model_name": "LayoutModel",
      "state": {}
     },
     "3c8ac5f8daf1456580f959e76c07ebf0": {
      "model_module": "@jupyter-widgets/controls",
      "model_module_version": "1.5.0",
      "model_name": "HTMLModel",
      "state": {
       "layout": "IPY_MODEL_67d5fd0c9d61430dad62929784af66fc",
       "style": "IPY_MODEL_e6aea32663cd4304a14086a851611f4b",
       "value": "<p>Expansion vessel acceptance factor (= additional volume / expansion vessel volume):</p>"
      }
     },
     "3c906e4fd78646c0892878726366528b": {
      "model_module": "@jupyter-widgets/base",
      "model_module_version": "1.2.0",
      "model_name": "LayoutModel",
      "state": {}
     },
     "3d375a40aeb745b3ad4871edd5c45503": {
      "model_module": "@jupyter-widgets/base",
      "model_module_version": "1.2.0",
      "model_name": "LayoutModel",
      "state": {}
     },
     "3d91c5404a6f4205a2ce2eab3b97ca14": {
      "model_module": "@jupyter-widgets/controls",
      "model_module_version": "1.5.0",
      "model_name": "BoxModel",
      "state": {
       "children": [
        "IPY_MODEL_6ce86ca56c5e4d9483c9f02f13157525"
       ],
       "layout": "IPY_MODEL_336065b009404267aeab45a68f81ded1"
      }
     },
     "3e06983192f04f1784cdf348f53a512f": {
      "model_module": "@jupyter-widgets/controls",
      "model_module_version": "1.5.0",
      "model_name": "HBoxModel",
      "state": {
       "children": [
        "IPY_MODEL_f6fff44af096499d85f57dbcc93efead",
        "IPY_MODEL_8e55caf1cf58414fb6623fd839e4133b"
       ],
       "layout": "IPY_MODEL_7f9d11514be941ba842ab302cbc9535b"
      }
     },
     "3e444a6013af48eca7890295d29014b6": {
      "model_module": "@jupyter-widgets/output",
      "model_module_version": "1.0.0",
      "model_name": "OutputModel",
      "state": {
       "layout": "IPY_MODEL_615d45fdc7b540edbe6cf3ac4f22302e"
      }
     },
     "3e691b77ee0d4c5bbb5b3b084987c18d": {
      "model_module": "@jupyter-widgets/controls",
      "model_module_version": "1.5.0",
      "model_name": "ButtonModel",
      "state": {
       "button_style": "success",
       "description": "save changes",
       "layout": "IPY_MODEL_878c5a30570045aea6cfed2cceae8d3f",
       "style": "IPY_MODEL_7b0dc7339c274ff7add125bd9d0a73d4"
      }
     },
     "3ea9063ee35a42699aeaad898d7b4076": {
      "model_module": "@jupyter-widgets/controls",
      "model_module_version": "1.5.0",
      "model_name": "DescriptionStyleModel",
      "state": {
       "description_width": ""
      }
     },
     "3f48397d64e64f0cac13b6189f4355d6": {
      "model_module": "@jupyter-widgets/base",
      "model_module_version": "1.2.0",
      "model_name": "LayoutModel",
      "state": {}
     },
     "409bf38d7787400f8145dabc993fa518": {
      "model_module": "@jupyter-widgets/controls",
      "model_module_version": "1.5.0",
      "model_name": "VBoxModel",
      "state": {
       "children": [
        "IPY_MODEL_d8981e3350e84a07a57ce2477c157d91",
        "IPY_MODEL_cd87642a136c40fd8d2dae87af80ea50",
        "IPY_MODEL_f1407b57a41740698e77d79f276484bf",
        "IPY_MODEL_fe56a18e32ad4b11bea4a379a70c8962",
        "IPY_MODEL_079cf22b2ec7467c80c8058e24d60bd2",
        "IPY_MODEL_d2a2b71ce04b4266a14bc56584370801",
        "IPY_MODEL_167f6fcf19a34d309d1eb2b60af98c7d"
       ],
       "layout": "IPY_MODEL_a33ed2be9a38441fb409e115e09f82ed"
      }
     },
     "41009f791816474081b50c6c9257893d": {
      "buffers": [
       {
        "data": "H4sIAAAAAAACA5WTz4rbMBDGX0XolELqWo6dZPdWSqE9tOTWgwll1h4rorJkJDlJWfJUfYM+WUfKbpZ1syx7+IwZ/eabP7LvuXSq5bf3vIUA/Lau+ReEoIxk/rcP2LMDBHRsb/XYI5v1f/+843Ne5FnOt/Oaf9qBkciUYTtUcheIiOflOp1+Pg5gvLKG7dF71AyaBocApkHWQROsIzbPFgme1B3UgAfrfjGNRobdg3FRrRK8eTwdHDmPDpm23rPZBj4krsrP/X0DJ6m5zroJ2Y7Ign2q0qkQq5NF56gz6jnaiPOQVrcEaP3kMbsD917CKDFVy0pRiSLBP9K+8DJ5Y7HrVKPQhDRsfp72Y9uqWAX09Q3n2fL6Cqc38XAR/3G9MqofeybBT3NEVr6QA8dLzvNR4c6TR0jT3mRiWZbVSpTFOj7fbHbZ2/qq0+RDIJ/sJQORZ6vFqw6XZJfClLf5Lmi92zlXpsXjT2cPPv4DBnqkl5p/jWGy4nvQYwrVORkLUkFakEpSRVqSVqQ16SYyCYykiKiIrCi329NjsSZehkme50hqORWilk6nf6W/e+6TAwAA",
        "encoding": "base64",
        "path": [
         "_grid_data_up"
        ]
       }
      ],
      "model_module": "ipyaggrid",
      "model_module_version": "~0.2.1",
      "model_name": "AgGridModel",
      "state": {
       "_grid_data_down": [
        {
         "index": "Heating system water volume (m³)",
         "value": "20.0"
        },
        {
         "index": "Change in height (m)",
         "value": "48"
        },
        {
         "index": "Expansion vessel acceptance factor",
         "value": "0.3"
        },
        {
         "index": "Heating system pipework length (m)",
         "value": "257"
        },
        {
         "index": "Pipework pressure loss (Pa/m)",
         "value": "500"
        },
        {
         "index": "Margin for pressure loss due to pipework fittings (fraction)",
         "value": "1"
        },
        {
         "index": "Cold fill pressure (bar-gauge)",
         "value": "5.41512"
        },
        {
         "index": "Water expansion coefficient",
         "value": "0.03"
        },
        {
         "index": "Additional water volume (m³)",
         "value": "0.6"
        },
        {
         "index": "Expansion vessel volume (m³)",
         "value": "2.0"
        },
        {
         "index": "Expansion vessel minimum gas volume (m³)",
         "value": "1.4"
        },
        {
         "index": "Expansion vessel maximum gas pressure (bar-absolute)",
         "value": "9.164457142857144"
        },
        {
         "index": "Expansion vessel maximum gas pressure (bar-gauge)",
         "value": "8.164457142857144"
        },
        {
         "index": "Heating system max. pressure (bar-gauge)",
         "value": "10.734457142857144"
        },
        {
         "index": "Heating system pressure rating",
         "value": "PN16"
        }
       ],
       "_grid_options_mono_down": "{\"enableSorting\": true, \"enableFilter\": true, \"enableColResize\": true, \"enableRangeSelection\": true, \"columnDefs\": [{\"field\": \"index\", \"type\": \"textColumn\", \"headerName\": \"Index\"}, {\"field\": \"value\", \"type\": \"textColumn\", \"headerName\": \"Value\"}], \"columnTypes\": {\"numberColumn\": {\"filter\": \"agNumberColumnFilter\"}, \"textColumn\": {\"filter\": \"agTextColumnFilter\"}, \"dateColumn\": {\"valueFormatter\": \"helpers.dateFormatter\", \"filter\": \"agDateColumnFilter\", \"filterParams\": {\"comparator\": \"helpers.compareDates\"}}}}",
       "_id": 574644650,
       "_js_helpers_builtin": "helpersBuiltin = {\n    dateFormatter: function(node) {\n        // make sure date is not undefined\n        if (node && node.value) {\n            let d = new Date(node.value);\n            let h = d.getHours();\n            let m = d.getMinutes();\n            let s = d.getSeconds();\n            const offset = d.getTimezoneOffset() * 60000;\n            d = new Date(d.getTime() - offset);\n            const ymd = d.toISOString().substring(0, 10);\n            if (h === 0 && m === 0 && s === 0) {\n                return ymd;\n            }\n            if (h === 0) h = '00';\n            if (m === 0) m = '00';\n            if (s === 0) s = '00';\n            return `${ymd} ${h}:${m}:${s}`;\n        }\n        return null;\n    },\n\n    formatInt: d3.format(',.0f'),\n    formatFloat: d3.format(',.2f'),\n\n    intFormatter: function(node) {\n        return formatInt(node.value);\n    },\n\n    floatFormatter: function(node) {\n        return formatFloat(node.value);\n    },\n\n    compareDates: function(filterLocalDate, cellValue) {\n        // Assume dates are stored as iso\n        const cellDate = new Date(cellValue);\n\n        if (cellDate < filterLocalDate) {\n            return -1;\n        } else if (cellDate > filterLocalDate) {\n            return 1;\n        }\n        return 0;\n    },\n\n    sizeToFit: function(gridOptions) {\n        gridOptions.api.sizeColumnsToFit();\n    },\n\n    autoSizeAll: function(gridOptions) {\n        const allColumnIds = [];\n        gridOptions.columnApi.getAllColumns().forEach(column => {\n            allColumnIds.push(column.colId);\n        });\n        gridOptions.columnApi.autoSizeColumns(allColumnIds);\n    },\n\n    /**\n     * Exporting data to CSV using ag-Grid api.\n     * @param {Object} gridOptions\n     */\n    exportToCsv: function(gridOptions) {\n        const params = {\n            skipHeader: false,\n            columnGroups: true,\n            skipFooters: false,\n            skipGroups: false,\n            skipPinnedTop: false,\n            skipPinnedBottom: false,\n            allColumns: true,\n            onlySelected: false,\n            suppressQuotes: true,\n            fileName: 'my_file.csv',\n            sheetName: 'my_sheet',\n            shouldRowBeSkipped: () => false,\n            processCellCallback: param => param.value,\n            processHeaderCallback: null,\n        };\n        gridOptions.api.exportDataAsCsv(params);\n    },\n\n    /**\n     * Exporting data to Excel using ag-Grid api.\n     * @param {Object} gridOptions\n     */\n    exportToExcel: function(gridOptions) {\n        const params = {\n            skipHeader: false,\n            columnGroups: true,\n            skipFooters: false,\n            skipGroups: false,\n            skipPinnedTop: false,\n            skipPinnedBottom: false,\n            allColumns: true,\n            onlySelected: false,\n            suppressQuotes: true,\n            fileName: 'my_file.xls',\n            sheetName: 'my_sheet',\n            shouldRowBeSkipped: () => false, // TODO : check\n            processCellCallback: param => param.value,\n            processHeaderCallback: null,\n        };\n        gridOptions.api.exportDataAsExcel(params);\n    },\n};\n",
       "columns_fit": "size_to_fit",
       "compress_data": true,
       "export_mode": "disabled",
       "height": "350px",
       "js_helpers": "{\"dateFormatter\":\"function(node) {\\n        // make sure date is not undefined\\n        if (node && node.value) {\\n            let d = new Date(node.value);\\n            let h = d.getHours();\\n            let m = d.getMinutes();\\n            let s = d.getSeconds();\\n            const offset = d.getTimezoneOffset() * 60000;\\n            d = new Date(d.getTime() - offset);\\n            const ymd = d.toISOString().substring(0, 10);\\n            if (h === 0 && m === 0 && s === 0) {\\n                return ymd;\\n            }\\n            if (h === 0) h = '00';\\n            if (m === 0) m = '00';\\n            if (s === 0) s = '00';\\n            return `${ymd} ${h}:${m}:${s}`;\\n        }\\n        return null;\\n    }\",\"formatInt\":\" >-,.0f\",\"formatFloat\":\" >-,.2f\",\"intFormatter\":\"function(node) {\\n        return formatInt(node.value);\\n    }\",\"floatFormatter\":\"function(node) {\\n        return formatFloat(node.value);\\n    }\",\"compareDates\":\"function(filterLocalDate, cellValue) {\\n        // Assume dates are stored as iso\\n        const cellDate = new Date(cellValue);\\n\\n        if (cellDate < filterLocalDate) {\\n            return -1;\\n        } else if (cellDate > filterLocalDate) {\\n            return 1;\\n        }\\n        return 0;\\n    }\",\"sizeToFit\":\"function(gridOptions) {\\n        gridOptions.api.sizeColumnsToFit();\\n    }\",\"autoSizeAll\":\"function(gridOptions) {\\n        const allColumnIds = [];\\n        gridOptions.columnApi.getAllColumns().forEach(column => {\\n            allColumnIds.push(column.colId);\\n        });\\n        gridOptions.columnApi.autoSizeColumns(allColumnIds);\\n    }\",\"exportToCsv\":\"function(gridOptions) {\\n        const params = {\\n            skipHeader: false,\\n            columnGroups: true,\\n            skipFooters: false,\\n            skipGroups: false,\\n            skipPinnedTop: false,\\n            skipPinnedBottom: false,\\n            allColumns: true,\\n            onlySelected: false,\\n            suppressQuotes: true,\\n            fileName: 'my_file.csv',\\n            sheetName: 'my_sheet',\\n            shouldRowBeSkipped: () => false,\\n            processCellCallback: param => param.value,\\n            processHeaderCallback: null,\\n        };\\n        gridOptions.api.exportDataAsCsv(params);\\n    }\",\"exportToExcel\":\"function(gridOptions) {\\n        const params = {\\n            skipHeader: false,\\n            columnGroups: true,\\n            skipFooters: false,\\n            skipGroups: false,\\n            skipPinnedTop: false,\\n            skipPinnedBottom: false,\\n            allColumns: true,\\n            onlySelected: false,\\n            suppressQuotes: true,\\n            fileName: 'my_file.xls',\\n            sheetName: 'my_sheet',\\n            shouldRowBeSkipped: () => false, // TODO : check\\n            processCellCallback: param => param.value,\\n            processHeaderCallback: null,\\n        };\\n        gridOptions.api.exportDataAsExcel(params);\\n    }\"}",
       "layout": "IPY_MODEL_67d1b068c13e4197957abecf8d42edfe",
       "menu": {
        "button_div_css": ".flex-button-div-574644650 {\ndisplay: flex;\njustify-content: flex-start;\nalign-items: flex-start;\nalign-content: flex-start;\nflex-flow: row wrap;\n}\n",
        "buttons": [],
        "input_div_css": ".flex-input-div-574644650 {\ndisplay: flex;\njustify-content: flex-start;\nalign-items: baseline;\nalign-content: flex-start;\nflex-flow: row wrap;\n}\n",
        "inputs": [
         {
          "css": ".flex-child-quick-filter-574644650 {\norder: 0;\nalign-self: auto;\nmargin: 5px;\nflex: 0.00 1.00 auto;\nwidth: 150px;\n}\n",
          "name": "Quick Filter"
         }
        ],
        "menu_div_css": ".flex-menu-div-574644650 {\ndisplay: flex;\njustify-content: flex-start;\nalign-items: flex-start;\nalign-content: flex-start;\nflex-flow: row wrap;\n}\n"
       },
       "theme": "ag-theme-balham",
       "width": "100%"
      }
     },
     "416ea8ba3e5144f6a884fc79ac2d7ffb": {
      "model_module": "@jupyter-widgets/base",
      "model_module_version": "1.2.0",
      "model_name": "LayoutModel",
      "state": {}
     },
     "41c4a13ba2b74f889a4f08b996ad79f0": {
      "model_module": "@jupyter-widgets/controls",
      "model_module_version": "1.5.0",
      "model_name": "HTMLModel",
      "state": {
       "layout": "IPY_MODEL_683e03cb36bd4f278960d510037aba8a",
       "style": "IPY_MODEL_a2807fb9655e4144866b8d48e0386119",
       "value": "<p>effective pipework pressure loss (Pa/m)</p>"
      }
     },
     "41d663e8093147739befed0a19e37947": {
      "model_module": "@jupyter-widgets/base",
      "model_module_version": "1.2.0",
      "model_name": "LayoutModel",
      "state": {}
     },
     "42386436154e4dc8b77afd63202f4bc5": {
      "model_module": "@jupyter-widgets/base",
      "model_module_version": "1.2.0",
      "model_name": "LayoutModel",
      "state": {}
     },
     "4298dbb9344e492bb96fc437aec1bc91": {
      "model_module": "@jupyter-widgets/controls",
      "model_module_version": "1.5.0",
      "model_name": "HBoxModel",
      "state": {
       "children": [
        "IPY_MODEL_d9e26fc8219046a49ad494d44f603a6f",
        "IPY_MODEL_240bd285a4a74845b685637ad8369751"
       ],
       "layout": "IPY_MODEL_25db733b7e3343c4b35b69ede843a9c4"
      }
     },
     "43018bad46ef40209dc4253bb75b71a0": {
      "model_module": "@jupyter-widgets/controls",
      "model_module_version": "1.5.0",
      "model_name": "DescriptionStyleModel",
      "state": {
       "description_width": ""
      }
     },
     "43145003bad143c7982b701a0da50576": {
      "model_module": "@jupyter-widgets/base",
      "model_module_version": "1.2.0",
      "model_name": "LayoutModel",
      "state": {}
     },
     "434ca9bf4f0a4dc6a9a5534deca7f2de": {
      "model_module": "@jupyter-widgets/base",
      "model_module_version": "1.2.0",
      "model_name": "LayoutModel",
      "state": {
       "display": "flex",
       "flex_flow": "row",
       "grid_auto_columns": "False",
       "justify_content": "flex-start",
       "width": "100%"
      }
     },
     "435749e4bead45d290ce80bf8710e0f6": {
      "model_module": "@jupyter-widgets/base",
      "model_module_version": "1.2.0",
      "model_name": "LayoutModel",
      "state": {
       "align_items": "stretch",
       "display": "flex",
       "flex_flow": "row",
       "grid_auto_columns": "True",
       "justify_content": "flex-end",
       "width": "90%"
      }
     },
     "438545d308af4abeac2856708b935b0a": {
      "model_module": "@jupyter-widgets/controls",
      "model_module_version": "1.5.0",
      "model_name": "ButtonModel",
      "state": {
       "button_style": "info",
       "description": "show guide",
       "layout": "IPY_MODEL_69aa7d50b0ce4975aa69b8f4302f3147",
       "style": "IPY_MODEL_d1e9e8fe60074610904a1196e36ef477",
       "tooltip": "read the \"docstring\", ie. the documentation that was written to accompany the script"
      }
     },
     "439917525f2248abbc092ab5ac7de9ed": {
      "model_module": "@jupyter-widgets/base",
      "model_module_version": "1.2.0",
      "model_name": "LayoutModel",
      "state": {}
     },
     "44330c1bf2c44fde82fbbbac5500c5ae": {
      "model_module": "@jupyter-widgets/controls",
      "model_module_version": "1.5.0",
      "model_name": "HTMLModel",
      "state": {
       "layout": "IPY_MODEL_0ed566288d66440d887f26a01e67122d",
       "style": "IPY_MODEL_6eeb6fe98c614fbdb894a2bcb43a627f",
       "value": "<p>pipework_pressure_loss_pa_per_m</p>"
      }
     },
     "447050dc07de46e3b550c664f96ffadc": {
      "model_module": "@jupyter-widgets/base",
      "model_module_version": "1.2.0",
      "model_name": "LayoutModel",
      "state": {
       "border": "0px",
       "margin": "0px",
       "padding": "0px"
      }
     },
     "45634c3eb87e4bdcb5a34e73a9970ab1": {
      "model_module": "@jupyter-widgets/controls",
      "model_module_version": "1.5.0",
      "model_name": "DescriptionStyleModel",
      "state": {
       "description_width": ""
      }
     },
     "457023a19754464ab127642fae2190be": {
      "model_module": "@jupyter-widgets/controls",
      "model_module_version": "1.5.0",
      "model_name": "HBoxModel",
      "state": {
       "children": [
        "IPY_MODEL_8fdab51e2d6b4c1a9fadf7099899a3d0",
        "IPY_MODEL_7888a9e543394f6898282ea2e137cdac"
       ],
       "layout": "IPY_MODEL_a2b4eaff874f47a58c198936949100f2"
      }
     },
     "463e228c972946dda4f1e1ee2d98f42f": {
      "model_module": "@jupyter-widgets/controls",
      "model_module_version": "1.5.0",
      "model_name": "SelectMultipleModel",
      "state": {
       "_options_labels": [
        "C:\\engDev\\git_mf\\ipyrun\\examples\\notebooks\\expansion_vessel_sizing.csv"
       ],
       "description": "outputs",
       "index": [],
       "layout": "IPY_MODEL_ee644ec59a15475f866132fe39060287",
       "rows": 4,
       "style": "IPY_MODEL_ab30aa3e58664d40b4a2c90a79dbc2ca"
      }
     },
     "465de947be444b3baf94bf415e95840e": {
      "model_module": "@jupyter-widgets/controls",
      "model_module_version": "1.5.0",
      "model_name": "DescriptionStyleModel",
      "state": {
       "description_width": ""
      }
     },
     "46cbe7780d6140cb937bfe27781cbfd2": {
      "model_module": "@jupyter-widgets/controls",
      "model_module_version": "1.5.0",
      "model_name": "DescriptionStyleModel",
      "state": {
       "description_width": ""
      }
     },
     "47334652318e455fb57b67366850eb47": {
      "model_module": "@jupyter-widgets/base",
      "model_module_version": "1.2.0",
      "model_name": "LayoutModel",
      "state": {
       "height": "30px",
       "width": "auto"
      }
     },
     "4795e6286381435383300825a45fd400": {
      "model_module": "@jupyter-widgets/base",
      "model_module_version": "1.2.0",
      "model_name": "LayoutModel",
      "state": {}
     },
     "482639c89c9241729945795975b37582": {
      "model_module": "@jupyter-widgets/controls",
      "model_module_version": "1.5.0",
      "model_name": "DescriptionStyleModel",
      "state": {
       "description_width": ""
      }
     },
     "48676627d5b84d7f8bf2fe9c8976350d": {
      "model_module": "@jupyter-widgets/controls",
      "model_module_version": "1.5.0",
      "model_name": "ButtonModel",
      "state": {
       "button_style": "success",
       "description": "run",
       "layout": "IPY_MODEL_321a6f2e797e4a2995e7adea4d24ab7f",
       "style": "IPY_MODEL_8ba65b55c2784c1fbcdae32bb2b8de45",
       "tooltip": "execute the script based on the user inputs"
      }
     },
     "48bc679a5ef649259c52576e906a619a": {
      "model_module": "@jupyter-widgets/controls",
      "model_module_version": "1.5.0",
      "model_name": "VBoxModel",
      "state": {
       "children": [
        "IPY_MODEL_524824d05b1c4f3480186d54cf501fe1",
        "IPY_MODEL_bc5048b5c4854c83845554e72fe5f419",
        "IPY_MODEL_23eb209549294212aed965655b80b034"
       ],
       "layout": "IPY_MODEL_c63e611e8b4f4f258569d8f4e9a089ce"
      }
     },
     "48f93b2649c14f3981b1ae9545dfbf9a": {
      "model_module": "@jupyter-widgets/base",
      "model_module_version": "1.2.0",
      "model_name": "LayoutModel",
      "state": {}
     },
     "4aa8cbbb825f4c8093694db29756c7d9": {
      "model_module": "@jupyter-widgets/base",
      "model_module_version": "1.2.0",
      "model_name": "LayoutModel",
      "state": {}
     },
     "4af03ac0bdfc436bbd5ca49c85cc38d4": {
      "model_module": "@jupyter-widgets/controls",
      "model_module_version": "1.5.0",
      "model_name": "DescriptionStyleModel",
      "state": {
       "description_width": ""
      }
     },
     "4b08306571b54ed5bc0d4053a331e34d": {
      "model_module": "@jupyter-widgets/controls",
      "model_module_version": "1.5.0",
      "model_name": "DescriptionStyleModel",
      "state": {
       "description_width": ""
      }
     },
     "4b35a9a4d22e47e2837247b586d9d198": {
      "model_module": "@jupyter-widgets/controls",
      "model_module_version": "1.5.0",
      "model_name": "DescriptionStyleModel",
      "state": {
       "description_width": ""
      }
     },
     "4bfb4e025e1d4079816a0b15a94b13e6": {
      "model_module": "@jupyter-widgets/controls",
      "model_module_version": "1.5.0",
      "model_name": "ButtonModel",
      "state": {
       "icon": "question-circle",
       "layout": "IPY_MODEL_2a3e3c0cc641408ea7e3859cc69aed42",
       "style": "IPY_MODEL_f0d030dbc2f342608c2e342a3cb425ae",
       "tooltip": "describes the functionality of elements in the RunApp interface"
      }
     },
     "4cbf343db98045f9bff1bcbbbc1f3cc2": {
      "model_module": "@jupyter-widgets/base",
      "model_module_version": "1.2.0",
      "model_name": "LayoutModel",
      "state": {}
     },
     "4cc762995e154a1fa879cc5dfa93724a": {
      "model_module": "@jupyter-widgets/controls",
      "model_module_version": "1.5.0",
      "model_name": "ButtonModel",
      "state": {
       "button_style": "info",
       "description": "preview outputs",
       "layout": "IPY_MODEL_6034dcbb82824866aedceed7532424b1",
       "style": "IPY_MODEL_0a435152de9b475a94c2fd756300a77e",
       "tooltip": "show a preview of the output files generated when the script runs"
      }
     },
     "4cf042a8931f4cc8b693ab1654113845": {
      "model_module": "@jupyter-widgets/controls",
      "model_module_version": "1.5.0",
      "model_name": "ButtonModel",
      "state": {
       "icon": "question-circle",
       "layout": "IPY_MODEL_b7353f55d5cb4115bdc444eb2f20dd36",
       "style": "IPY_MODEL_329d2b5edf0c427bbf14a61e20cf5408",
       "tooltip": "describes the functionality of elements in the RunApp interface"
      }
     },
     "4d3994a4cf1e49fcaa805d5b6313e42d": {
      "model_module": "@jupyter-widgets/base",
      "model_module_version": "1.2.0",
      "model_name": "LayoutModel",
      "state": {}
     },
     "4e4df597d0ac48b499b24cd84c4ae502": {
      "model_module": "@jupyter-widgets/controls",
      "model_module_version": "1.5.0",
      "model_name": "HBoxModel",
      "state": {
       "children": [
        "IPY_MODEL_836d3c54a51147a69b0184b88073d5a8",
        "IPY_MODEL_67d5fdeb7a3c4b2aa7eb6deb540d8538"
       ],
       "layout": "IPY_MODEL_99fdeb687dfb4d9485140a06763bac9c"
      }
     },
     "4e57329c4ae54352a25ae861cf1a995c": {
      "model_module": "@jupyter-widgets/controls",
      "model_module_version": "1.5.0",
      "model_name": "ButtonStyleModel",
      "state": {
       "font_weight": "bold"
      }
     },
     "4ea8df4432564ed2b83e8e6d0a00f8b5": {
      "model_module": "@jupyter-widgets/controls",
      "model_module_version": "1.5.0",
      "model_name": "VBoxModel",
      "state": {
       "layout": "IPY_MODEL_30c83f1099024265acc36d177bcd2cdc"
      }
     },
     "4ef7d4c878fc40fe8f06615a7fb9106d": {
      "model_module": "@jupyter-widgets/controls",
      "model_module_version": "1.5.0",
      "model_name": "HBoxModel",
      "state": {
       "children": [
        "IPY_MODEL_7de26027c3e6456a8a6deb5c4d15444d",
        "IPY_MODEL_17ce19c483b946ee911e00e0654d026b"
       ],
       "layout": "IPY_MODEL_8925c06eb5854c6bb3a0c1e858a65016"
      }
     },
     "4fa988a092c34953b2daeea3a52fe369": {
      "model_module": "@jupyter-widgets/controls",
      "model_module_version": "1.5.0",
      "model_name": "ButtonStyleModel",
      "state": {
       "font_weight": "bold"
      }
     },
     "505adb3cc0a7402eb4736b87a4084829": {
      "model_module": "@jupyter-widgets/base",
      "model_module_version": "1.2.0",
      "model_name": "LayoutModel",
      "state": {
       "align_items": "stretch",
       "width": "100%"
      }
     },
     "5082294e313446ac95f24504044d017c": {
      "model_module": "@jupyter-widgets/controls",
      "model_module_version": "1.5.0",
      "model_name": "HBoxModel",
      "state": {
       "children": [
        "IPY_MODEL_aa92e70b74f74a45a5ba79eac57ae96c",
        "IPY_MODEL_919c7f9c858444ca8e122214abff614c"
       ],
       "layout": "IPY_MODEL_d6581e65f44e4b5db5e135b3087912aa"
      }
     },
     "50a5a4674296405cae0d834a8316386c": {
      "model_module": "@jupyter-widgets/controls",
      "model_module_version": "1.5.0",
      "model_name": "DescriptionStyleModel",
      "state": {
       "description_width": ""
      }
     },
     "50c00eaa8ca54ae7b6da4ef57a70fafd": {
      "model_module": "@jupyter-widgets/base",
      "model_module_version": "1.2.0",
      "model_name": "LayoutModel",
      "state": {
       "align_items": "stretch",
       "display": "flex",
       "flex_flow": "row",
       "grid_auto_columns": "True",
       "justify_content": "flex-end",
       "width": "90%"
      }
     },
     "50eb1cf861684f2c8c7b38da0209014c": {
      "model_module": "@jupyter-widgets/base",
      "model_module_version": "1.2.0",
      "model_name": "LayoutModel",
      "state": {}
     },
     "51d3b3a3029e4ab596565d3528af3837": {
      "model_module": "@jupyter-widgets/base",
      "model_module_version": "1.2.0",
      "model_name": "LayoutModel",
      "state": {
       "align_items": "stretch",
       "display": "flex",
       "flex_flow": "row",
       "grid_auto_columns": "True",
       "justify_content": "flex-end",
       "width": "90%"
      }
     },
     "520fc8eb54a745bc86841c2ad0042c9a": {
      "model_module": "@jupyter-widgets/base",
      "model_module_version": "1.2.0",
      "model_name": "LayoutModel",
      "state": {
       "align_items": "stretch",
       "border": "dashed 0.2px green",
       "display": "flex",
       "flex_flow": "row",
       "grid_auto_columns": "True",
       "justify_content": "flex-start",
       "width": "100%"
      }
     },
     "524824d05b1c4f3480186d54cf501fe1": {
      "model_module": "@jupyter-widgets/controls",
      "model_module_version": "1.5.0",
      "model_name": "HBoxModel",
      "state": {
       "children": [
        "IPY_MODEL_0938d8e79f1c42c8b24e7925a371b2c8",
        "IPY_MODEL_70f88b682ab540c59d01b8e313d27b06",
        "IPY_MODEL_3e691b77ee0d4c5bbb5b3b084987c18d"
       ],
       "layout": "IPY_MODEL_79625f96b89146e2be749e5daaaed89c"
      }
     },
     "5299146f4928497b9ff9241c5e8fac12": {
      "model_module": "@jupyter-widgets/base",
      "model_module_version": "1.2.0",
      "model_name": "LayoutModel",
      "state": {
       "align_items": "stretch",
       "display": "flex",
       "flex_flow": "row",
       "grid_auto_columns": "True",
       "justify_content": "flex-start",
       "width": "80%"
      }
     },
     "52ff9815d6ce4d79952f8f2ca9570833": {
      "model_module": "@jupyter-widgets/base",
      "model_module_version": "1.2.0",
      "model_name": "LayoutModel",
      "state": {}
     },
     "5304223753874a3489f97c3ad549d849": {
      "model_module": "@jupyter-widgets/controls",
      "model_module_version": "1.5.0",
      "model_name": "DescriptionStyleModel",
      "state": {
       "description_width": ""
      }
     },
     "53073a5d9c764800936245059e586a54": {
      "model_module": "@jupyter-widgets/controls",
      "model_module_version": "1.5.0",
      "model_name": "DescriptionStyleModel",
      "state": {
       "description_width": ""
      }
     },
     "5316931988c54b87a7b6287196ce3891": {
      "model_module": "@jupyter-widgets/controls",
      "model_module_version": "1.5.0",
      "model_name": "HTMLModel",
      "state": {
       "layout": "IPY_MODEL_b4968cd5a7a74da598ce9ef80c4006ee",
       "style": "IPY_MODEL_85eee8be4e02475f99211666f4270371",
       "value": "<p>pipework_pressure_loss_margin_fraction</p>"
      }
     },
     "53207fab0ab64591938240bbc2098d7e": {
      "model_module": "@jupyter-widgets/output",
      "model_module_version": "1.0.0",
      "model_name": "OutputModel",
      "state": {
       "layout": "IPY_MODEL_23cc519f7d164fdab95f5e2e82354874"
      }
     },
     "533f8874cc514ce5be3077b943a97177": {
      "model_module": "@jupyter-widgets/base",
      "model_module_version": "1.2.0",
      "model_name": "LayoutModel",
      "state": {
       "align_items": "stretch",
       "display": "flex",
       "flex_flow": "row",
       "grid_auto_columns": "True",
       "justify_content": "flex-end",
       "width": "90%"
      }
     },
     "5352fba8e61747379dd306f4f11cb688": {
      "model_module": "@jupyter-widgets/controls",
      "model_module_version": "1.5.0",
      "model_name": "VBoxModel",
      "state": {
       "children": [
        "IPY_MODEL_763a8a02d7a94419a996ec161eabc185",
        "IPY_MODEL_594ba3ff0cb6414ea8e64b9ec114aed9",
        "IPY_MODEL_3bf29e8458254a59b7f671d5b4b82de4"
       ],
       "layout": "IPY_MODEL_63802565407e494b935192da0f862bec"
      }
     },
     "5368de729d384221acff084c6005b0d1": {
      "model_module": "@jupyter-widgets/base",
      "model_module_version": "1.2.0",
      "model_name": "LayoutModel",
      "state": {}
     },
     "53b378f1b9e54a4c9b106c50da3c7368": {
      "model_module": "@jupyter-widgets/controls",
      "model_module_version": "1.5.0",
      "model_name": "ButtonStyleModel",
      "state": {
       "font_weight": "bold"
      }
     },
     "5406ef15a0484ef59826f0803cf9dacf": {
      "model_module": "@jupyter-widgets/base",
      "model_module_version": "1.2.0",
      "model_name": "LayoutModel",
      "state": {
       "align_items": "stretch",
       "width": "100%"
      }
     },
     "54a5f735f9de48f8950f00ae060cc1cd": {
      "model_module": "@jupyter-widgets/controls",
      "model_module_version": "1.5.0",
      "model_name": "DescriptionStyleModel",
      "state": {
       "description_width": ""
      }
     },
     "55250c3c65654c39ba15e1b153b8261d": {
      "model_module": "@jupyter-widgets/base",
      "model_module_version": "1.2.0",
      "model_name": "LayoutModel",
      "state": {}
     },
     "5536e6383e3d44eb9ec33200471c708b": {
      "model_module": "@jupyter-widgets/base",
      "model_module_version": "1.2.0",
      "model_name": "LayoutModel",
      "state": {}
     },
     "55735403018c43aebc499aacfbf2a394": {
      "model_module": "@jupyter-widgets/controls",
      "model_module_version": "1.5.0",
      "model_name": "HBoxModel",
      "state": {
       "children": [
        "IPY_MODEL_9912a4791755465a9aa287f8c0a2749a",
        "IPY_MODEL_74f924f580984b03b27afd3ac3227638"
       ],
       "layout": "IPY_MODEL_c3d6b01c840b4a86b61fdd8213c970f9"
      }
     },
     "5617ed207deb40438882fc09308064a7": {
      "model_module": "@jupyter-widgets/base",
      "model_module_version": "1.2.0",
      "model_name": "LayoutModel",
      "state": {
       "border": "0px",
       "margin": "0px",
       "padding": "0px"
      }
     },
     "5637487195f54220b72917e7551292b2": {
      "model_module": "@jupyter-widgets/controls",
      "model_module_version": "1.5.0",
      "model_name": "HBoxModel",
      "state": {
       "children": [
        "IPY_MODEL_c325606cfa794f6ba623a423576801f8",
        "IPY_MODEL_4cf042a8931f4cc8b693ab1654113845",
        "IPY_MODEL_68ca581f97524fb6969655101efc240e",
        "IPY_MODEL_360b176f6c4e4b6da114e5aa60678cbd",
        "IPY_MODEL_ca571d1ec02c4188a53342b40a600381",
        "IPY_MODEL_256cc8dadbf34fbc9e1664ed651dfc67",
        "IPY_MODEL_047f239e558b44ae8568dc546837acf4"
       ],
       "layout": "IPY_MODEL_6f5e6862732c41a59a8d4c2067706a9e"
      }
     },
     "564cf191186341f3b2f8875e280612e5": {
      "model_module": "@jupyter-widgets/base",
      "model_module_version": "1.2.0",
      "model_name": "LayoutModel",
      "state": {}
     },
     "56556e632a4c44ebbba14100861f6828": {
      "model_module": "@jupyter-widgets/controls",
      "model_module_version": "1.5.0",
      "model_name": "HBoxModel",
      "state": {
       "children": [
        "IPY_MODEL_c1671961c441439b8f9cbab8bd604939",
        "IPY_MODEL_5b388e2e3f224533bc430648ed0a8884"
       ],
       "layout": "IPY_MODEL_969b1e5a26e44924863fa170607d6ec8"
      }
     },
     "56959c9191fc4903a4c4ce860a3ec1b1": {
      "model_module": "@jupyter-widgets/base",
      "model_module_version": "1.2.0",
      "model_name": "LayoutModel",
      "state": {}
     },
     "56ab756d60704784abb7385b0880be14": {
      "model_module": "@jupyter-widgets/controls",
      "model_module_version": "1.5.0",
      "model_name": "ButtonStyleModel",
      "state": {
       "font_weight": "bold"
      }
     },
     "56c39edf1cc941358b7545c3af0912ce": {
      "model_module": "@jupyter-widgets/controls",
      "model_module_version": "1.5.0",
      "model_name": "HTMLModel",
      "state": {
       "layout": "IPY_MODEL_efea47367dde4be58a8737d6ec77b0ea",
       "style": "IPY_MODEL_50a5a4674296405cae0d834a8316386c",
       "value": "<p>difference in height between the highest and lowest points in the system</p>"
      }
     },
     "56da56588ff54bba9ab27e5b4f2877a1": {
      "model_module": "@jupyter-widgets/base",
      "model_module_version": "1.2.0",
      "model_name": "LayoutModel",
      "state": {
       "align_items": "stretch",
       "border": "dashed 0.2px green",
       "display": "flex",
       "flex_flow": "row",
       "grid_auto_columns": "True",
       "justify_content": "flex-start",
       "width": "100%"
      }
     },
     "56e68d0c85d54285af19ffb961e1d60c": {
      "model_module": "@jupyter-widgets/controls",
      "model_module_version": "1.5.0",
      "model_name": "HTMLModel",
      "state": {
       "layout": "IPY_MODEL_8fc5fa6a8f8a4339ba478a4802cf3ff7",
       "style": "IPY_MODEL_b48e1456983c42a2a60a806b321774cf",
       "value": "<p>pipework_pressure_loss_margin_fraction</p>"
      }
     },
     "56f188bf21614535af6c3ad6140ab673": {
      "model_module": "@jupyter-widgets/base",
      "model_module_version": "1.2.0",
      "model_name": "LayoutModel",
      "state": {
       "align_items": "stretch",
       "display": "flex",
       "flex_flow": "row",
       "grid_auto_columns": "True",
       "justify_content": "flex-end",
       "width": "90%"
      }
     },
     "579e9de0b0ee42779e677f04b5ecb0d4": {
      "model_module": "@jupyter-widgets/controls",
      "model_module_version": "1.5.0",
      "model_name": "ButtonModel",
      "state": {
       "button_style": "success",
       "description": "run",
       "layout": "IPY_MODEL_abb36ad158ed4c978ae5d22cc1d90b29",
       "style": "IPY_MODEL_67acf8aa619543368e60f5a8719ddb5f",
       "tooltip": "execute the script based on the user inputs"
      }
     },
     "57a75b493f164952826700558c7133c2": {
      "model_module": "@jupyter-widgets/controls",
      "model_module_version": "1.5.0",
      "model_name": "SliderStyleModel",
      "state": {
       "description_width": ""
      }
     },
     "57b82d7b46b9428b865582af58fe59eb": {
      "model_module": "@jupyter-widgets/controls",
      "model_module_version": "1.5.0",
      "model_name": "HBoxModel",
      "state": {
       "children": [
        "IPY_MODEL_11af3b504e32437d99d7b28ca3d13817",
        "IPY_MODEL_a48dffac538548f9a548d33010283bc6"
       ],
       "layout": "IPY_MODEL_447050dc07de46e3b550c664f96ffadc"
      }
     },
     "594ba3ff0cb6414ea8e64b9ec114aed9": {
      "model_module": "@jupyter-widgets/controls",
      "model_module_version": "1.5.0",
      "model_name": "TextModel",
      "state": {
       "description": "script",
       "disabled": true,
       "layout": "IPY_MODEL_7aeb84cf63e6429c8e1c2ab3b050b20e",
       "style": "IPY_MODEL_43018bad46ef40209dc4253bb75b71a0",
       "value": "C:\\engDev\\git_mf\\ipyrun\\examples\\scripts\\expansion_vessel_sizing.py"
      }
     },
     "5959d82617de4fb2bc5fc26515c4eecf": {
      "model_module": "@jupyter-widgets/controls",
      "model_module_version": "1.5.0",
      "model_name": "HTMLModel",
      "state": {
       "layout": "IPY_MODEL_4aa8cbbb825f4c8093694db29756c7d9",
       "style": "IPY_MODEL_88b4d45fde07450d91121e0105de4cb4",
       "value": "<p>effective pipework pressure loss (Pa/m)</p>"
      }
     },
     "5a68cc373ad04187bc4d4904aa58634c": {
      "model_module": "@jupyter-widgets/controls",
      "model_module_version": "1.5.0",
      "model_name": "HTMLModel",
      "state": {
       "layout": "IPY_MODEL_a4f53368ef104781a68910240982bd65",
       "style": "IPY_MODEL_cb1a4ce35cf9473e980a8ce702bbe2b5",
       "value": "<p>pipework_length_m</p>"
      }
     },
     "5af052bc651d4a4eb69bd890aface14a": {
      "model_module": "@jupyter-widgets/base",
      "model_module_version": "1.2.0",
      "model_name": "LayoutModel",
      "state": {}
     },
     "5b388e2e3f224533bc430648ed0a8884": {
      "model_module": "@jupyter-widgets/controls",
      "model_module_version": "1.5.0",
      "model_name": "HBoxModel",
      "state": {
       "children": [
        "IPY_MODEL_28fbda40bb50400c85bedcacf54c4c51",
        "IPY_MODEL_5959d82617de4fb2bc5fc26515c4eecf"
       ],
       "layout": "IPY_MODEL_00b628a139534f3992af942df8b157a8"
      }
     },
     "5bf0377823fb4e96b7a2e2de95743e25": {
      "model_module": "@jupyter-widgets/controls",
      "model_module_version": "1.5.0",
      "model_name": "HBoxModel",
      "state": {
       "children": [
        "IPY_MODEL_9665e9d6c30643f2aee1acdee0083aa3",
        "IPY_MODEL_066d525c6fb64341a22265ff5ab5eeff"
       ],
       "layout": "IPY_MODEL_8eb0de5ed7624f488f4bedb6a0570e76"
      }
     },
     "5c6301d2d06a4bc09c567e1ab78add29": {
      "model_module": "@jupyter-widgets/controls",
      "model_module_version": "1.5.0",
      "model_name": "DescriptionStyleModel",
      "state": {
       "description_width": ""
      }
     },
     "5cf95ea5cb194dee80252a41d93db771": {
      "model_module": "@jupyter-widgets/controls",
      "model_module_version": "1.5.0",
      "model_name": "DescriptionStyleModel",
      "state": {
       "description_width": ""
      }
     },
     "5d2cc39fa349495e9c898c947e5b19a6": {
      "model_module": "@jupyter-widgets/controls",
      "model_module_version": "1.5.0",
      "model_name": "ButtonStyleModel",
      "state": {
       "font_weight": "bold"
      }
     },
     "5daca7c9dc0848bda7e01b193c978868": {
      "model_module": "@jupyter-widgets/controls",
      "model_module_version": "1.5.0",
      "model_name": "SliderStyleModel",
      "state": {
       "description_width": ""
      }
     },
     "5dd28f8b97d946b584bb419a57649541": {
      "model_module": "@jupyter-widgets/controls",
      "model_module_version": "1.5.0",
      "model_name": "VBoxModel",
      "state": {
       "children": [
        "IPY_MODEL_3d91c5404a6f4205a2ce2eab3b97ca14",
        "IPY_MODEL_5352fba8e61747379dd306f4f11cb688"
       ],
       "layout": "IPY_MODEL_6343de5d72014aa59dd377d4231e37bd"
      }
     },
     "5e49e93f86e24a22ad2346c799fff209": {
      "model_module": "@jupyter-widgets/controls",
      "model_module_version": "1.5.0",
      "model_name": "VBoxModel",
      "state": {
       "children": [
        "IPY_MODEL_c94d1bcd69f44df7acda8305b96e74f1",
        "IPY_MODEL_9d1a015a83fd4f53a8acfc81b2001a0f",
        "IPY_MODEL_18ec96dee5094ff8ba2f9a34f3097722"
       ],
       "layout": "IPY_MODEL_6c67de2da3054e1599049fd46e5ce959"
      }
     },
     "5e9ee5f66bb54d3ba3797795a6c0d30a": {
      "model_module": "@jupyter-widgets/controls",
      "model_module_version": "1.5.0",
      "model_name": "HTMLModel",
      "state": {
       "layout": "IPY_MODEL_25330064797f46e88af075f556ac7e95",
       "style": "IPY_MODEL_f83b05aed2964d5c9571e39767bec36f",
       "value": "<p>pipework_pressure_loss_margin_fraction</p>"
      }
     },
     "5f1172f9c531420ca5bcce7cc08345d5": {
      "model_module": "@jupyter-widgets/controls",
      "model_module_version": "1.5.0",
      "model_name": "HTMLModel",
      "state": {
       "layout": "IPY_MODEL_48f93b2649c14f3981b1ae9545dfbf9a",
       "style": "IPY_MODEL_0d40d6c17dec45af9c210e424b1c9fcb",
       "value": "<p>difference in height between the highest and lowest points in the system</p>"
      }
     },
     "5f11b091f0c7400d9fd1af27f4f45c94": {
      "model_module": "@jupyter-widgets/controls",
      "model_module_version": "1.5.0",
      "model_name": "HTMLModel",
      "state": {
       "layout": "IPY_MODEL_2ccff8009be54a7e8a7da1ffdec37576",
       "style": "IPY_MODEL_f37d8c6aa59a49059a0e2bf47642a533",
       "value": "<p>Heating system pipework length (m). Note: includes horizontal, vertical, flow and return.</p>"
      }
     },
     "5f764b53c69d40ba9e40f06e0a59ea31": {
      "model_module": "@jupyter-widgets/controls",
      "model_module_version": "1.5.0",
      "model_name": "DescriptionStyleModel",
      "state": {
       "description_width": ""
      }
     },
     "5fd4bd157e2e4106bf89ee1e9f70470f": {
      "model_module": "@jupyter-widgets/controls",
      "model_module_version": "1.5.0",
      "model_name": "HBoxModel",
      "state": {
       "children": [
        "IPY_MODEL_70d18c90ac0b4af08870d56bedb18ad4"
       ],
       "layout": "IPY_MODEL_0e42dc1b62d34bfba0428e1901814a3f"
      }
     },
     "6034dcbb82824866aedceed7532424b1": {
      "model_module": "@jupyter-widgets/base",
      "model_module_version": "1.2.0",
      "model_name": "LayoutModel",
      "state": {}
     },
     "60633613ea884b6fa177babd19e09e2b": {
      "model_module": "@jupyter-widgets/base",
      "model_module_version": "1.2.0",
      "model_name": "LayoutModel",
      "state": {}
     },
     "609ca6bc6d8e4810bb825b397446fbab": {
      "model_module": "@jupyter-widgets/controls",
      "model_module_version": "1.5.0",
      "model_name": "HTMLModel",
      "state": {
       "layout": "IPY_MODEL_dcd3e523bb494d0d9ed112c4ed94b886",
       "style": "IPY_MODEL_62d1234ef7d249dd9710694fffc8bef6",
       "value": "<p>difference in height between the highest and lowest points in the system</p>"
      }
     },
     "609ebbe30fe64bb6bed174af205d4d6a": {
      "model_module": "@jupyter-widgets/base",
      "model_module_version": "1.2.0",
      "model_name": "LayoutModel",
      "state": {
       "align_items": "stretch",
       "display": "flex",
       "flex_flow": "row",
       "grid_auto_columns": "True",
       "justify_content": "flex-start",
       "width": "80%"
      }
     },
     "60cb578975c5430e84a029b7c12df829": {
      "model_module": "@jupyter-widgets/controls",
      "model_module_version": "1.5.0",
      "model_name": "DescriptionStyleModel",
      "state": {
       "description_width": ""
      }
     },
     "61000ec045e24ffaad815bb24717d3a8": {
      "model_module": "@jupyter-widgets/controls",
      "model_module_version": "1.5.0",
      "model_name": "RadioButtonsModel",
      "state": {
       "_options_labels": [
        "TEMPLATE: C:\\engDev\\git_mf\\ipyrun\\examples\\scripts\\template_inputs\\inputs-expansion_vessel_sizing.json",
        "PROJECT: C:\\engDev\\git_mf\\ipyrun\\examples\\notebooks\\appdata\\inputs\\inputs-expansion_vessel_sizing.json",
        "PROJECT: C:\\engDev\\git_mf\\ipyrun\\examples\\notebooks\\appdata\\inputs\\archive\\20200612_1731-jg-inputs-expansion_vessel_sizing.json",
        "PROJECT: C:\\engDev\\git_mf\\ipyrun\\examples\\notebooks\\appdata\\inputs\\archive\\20200612_1817-jg-inputs-expansion_vessel_sizing.json",
        "PROJECT: C:\\engDev\\git_mf\\ipyrun\\examples\\notebooks\\appdata\\inputs\\archive\\20200612_1818-jg-inputs-expansion_vessel_sizing.json",
        "PROJECT: C:\\engDev\\git_mf\\ipyrun\\examples\\notebooks\\appdata\\inputs\\archive\\20200612_1819-jg-inputs-expansion_vessel_sizing.json",
        "PROJECT: C:\\engDev\\git_mf\\ipyrun\\examples\\notebooks\\appdata\\inputs\\archive\\20200612_1900-jg-inputs-expansion_vessel_sizing.json",
        "PROJECT: C:\\engDev\\git_mf\\ipyrun\\examples\\notebooks\\appdata\\inputs\\archive\\20200615_2211-jg-inputs-expansion_vessel_sizing.json",
        "PROJECT: C:\\engDev\\git_mf\\ipyrun\\examples\\notebooks\\appdata\\inputs\\archive\\20200616_1020-jg-inputs-expansion_vessel_sizing.json",
        "PROJECT: C:\\engDev\\git_mf\\ipyrun\\examples\\notebooks\\appdata\\inputs\\archive\\20200616_1021-jg-inputs-expansion_vessel_sizing.json",
        "PROJECT: C:\\engDev\\git_mf\\ipyrun\\examples\\notebooks\\appdata\\inputs\\archive\\20200624_1101-jg-inputs-expansion_vessel_sizing.json"
       ],
       "index": 0,
       "layout": "IPY_MODEL_a769274b20f043689d60f4bf2a047e08",
       "style": "IPY_MODEL_dff3ce8d3e6a44e899ae3795a52d6194"
      }
     },
     "615d45fdc7b540edbe6cf3ac4f22302e": {
      "model_module": "@jupyter-widgets/base",
      "model_module_version": "1.2.0",
      "model_name": "LayoutModel",
      "state": {}
     },
     "61ab90e10638469e9c8b94097ef49af6": {
      "model_module": "@jupyter-widgets/controls",
      "model_module_version": "1.5.0",
      "model_name": "VBoxModel",
      "state": {
       "children": [
        "IPY_MODEL_e24ba544027f4afca9a25da90dcaffd1",
        "IPY_MODEL_61000ec045e24ffaad815bb24717d3a8"
       ],
       "layout": "IPY_MODEL_d584a0bfe0ab4ebc9753c5fd41c4b983"
      }
     },
     "622ae1ec7fbf4835a48655c42f29defe": {
      "model_module": "@jupyter-widgets/controls",
      "model_module_version": "1.5.0",
      "model_name": "VBoxModel",
      "state": {
       "layout": "IPY_MODEL_fc462a9f3dfe4658883afc31d4905e52"
      }
     },
     "622fdf389c8946e19499b1203906ccbf": {
      "model_module": "@jupyter-widgets/base",
      "model_module_version": "1.2.0",
      "model_name": "LayoutModel",
      "state": {
       "display": "flex",
       "flex_flow": "row",
       "grid_auto_columns": "False",
       "justify_content": "flex-start",
       "width": "100%"
      }
     },
     "625e6987c26f485d936e6a487342dd73": {
      "model_module": "@jupyter-widgets/base",
      "model_module_version": "1.2.0",
      "model_name": "LayoutModel",
      "state": {}
     },
     "626ee4d3213346e9b14d77ba9060939b": {
      "model_module": "@jupyter-widgets/output",
      "model_module_version": "1.0.0",
      "model_name": "OutputModel",
      "state": {
       "layout": "IPY_MODEL_3aa930c0e0fb4dda9d7019b61f114086",
       "outputs": [
        {
         "data": {
          "application/vnd.jupyter.widget-view+json": {
           "model_id": "fa6fc79a36ee4f76b1eae16c180d04c1",
           "version_major": 2,
           "version_minor": 0
          },
          "text/plain": "Button(button_style='info', description='show source code', style=ButtonStyle(), tooltip='shows the raw python…"
         },
         "metadata": {},
         "output_type": "display_data"
        },
        {
         "data": {
          "image/jpeg": "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\n",
          "text/plain": "<IPython.core.display.Image object>"
         },
         "metadata": {},
         "output_type": "display_data"
        },
        {
         "data": {
          "text/markdown": "\r\n\r\n---\r\n\r\n\r\na simple calc for sizing expansion vessels.\r\n\r\nthis docstring becomes the user guide so add anything the user needs to know here.\r\n\r\nCalculates sizes and/or pressure ratings for heating system, including the expansion vessel and pumps.\r\n\r\n## Args\r\n* **water_volume_m3** (float) : 15, default example\r\n* **height_difference_m** (float) : height between the highest and lowest point in the system\r\n* **eV_acceptance_fraction** (float) : additional volume / expansion vessel volume)\r\n* **pipework_length_m** (float) : Heating system pipework length (m), (includes horizontal, vertical, flow and return)\r\n* **pipework_pressure_loss_pa_per_m** (float) : pressure loss factor of pipework\r\n* **pipework_pressure_loss_margin_fraction** (float) : error margin\r\n* **water_expansion_fraction** (float) : 0.03. 2.2% for 4-70°C. Have rounded up to 3% to be conservative.\r\n    Based on water densities at different temperatures. This needs to be modified based on the temperature\r\n    regime of the system.\r\n* **margin_1_bar** (float) : 0.3. BS7074...\r\n* **margin_2_bar** (float) : 0.15. Rule of Thumb from Paul Button\r\n\r\n## Returns\r\n* **df** (pd.DataFrame) : dataframe with inputs and outputs of expansion vessel calc, see example below\r\n    |    | index                                                        | value              |\r\n    |---:|:-------------------------------------------------------------|:-------------------|\r\n    |  0 | Heating system water volume (m³)                             | 20.0               |\r\n    |  1 | Change in height (m)                                         | 48                 |\r\n    |  2 | Expansion vessel acceptance factor                           | 0.3                |\r\n    |  3 | Heating system pipework length (m)                           | 257                |\r\n    |  4 | Pipework pressure loss (Pa/m)                                | 500                |\r\n    |  5 | Margin for pressure loss due to pipework fittings (fraction) | 1                  |\r\n    |  6 | Cold fill pressure (bar-gauge)                               | 5.41512            |\r\n    |  7 | Water expansion coefficient                                  | 0.03               |\r\n    |  8 | Additional water volume (m³)                                 | 0.6                |\r\n    |  9 | Expansion vessel volume (m³)                                 | 2.0                |\r\n    | 10 | Expansion vessel minimum gas volume (m³)                     | 1.4                |\r\n    | 11 | Expansion vessel maximum gas pressure (bar-absolute)         | 9.164457142857144  |\r\n    | 12 | Expansion vessel maximum gas pressure (bar-gauge)            | 8.164457142857144  |\r\n    | 13 | Heating system max. pressure (bar-gauge)                     | 10.734457142857144 |\r\n    | 14 | Heating system pressure rating                               | PN16               |\r\n\r\n---\r\n    References:\r\n        BS7074 - page?\r\n\r\nImage:\r\n    %mf_root%\\engDevSetup\\dev\\icons\\icon_png\\expansion_vessel.jpg\r\n\r\n\r\n\r\n",
          "text/plain": "<IPython.core.display.Markdown object>"
         },
         "metadata": {},
         "output_type": "display_data"
        }
       ]
      }
     },
     "62a58709c6e440de9815f25ec5acae9a": {
      "model_module": "@jupyter-widgets/controls",
      "model_module_version": "1.5.0",
      "model_name": "HBoxModel",
      "state": {
       "children": [
        "IPY_MODEL_aea6836d7a8d456ba5c8fe57cdd196e5"
       ],
       "layout": "IPY_MODEL_025a0870987043ceb7f465f0a8bca8bf"
      }
     },
     "62d1234ef7d249dd9710694fffc8bef6": {
      "model_module": "@jupyter-widgets/controls",
      "model_module_version": "1.5.0",
      "model_name": "DescriptionStyleModel",
      "state": {
       "description_width": ""
      }
     },
     "62e6a4742fa54e538ead48b83cb1544a": {
      "model_module": "@jupyter-widgets/base",
      "model_module_version": "1.2.0",
      "model_name": "LayoutModel",
      "state": {}
     },
     "6343de5d72014aa59dd377d4231e37bd": {
      "model_module": "@jupyter-widgets/base",
      "model_module_version": "1.2.0",
      "model_name": "LayoutModel",
      "state": {}
     },
     "635b83d080c6473e9cd1739bb8f1d653": {
      "model_module": "@jupyter-widgets/controls",
      "model_module_version": "1.5.0",
      "model_name": "ButtonStyleModel",
      "state": {
       "font_weight": "bold"
      }
     },
     "63802565407e494b935192da0f862bec": {
      "model_module": "@jupyter-widgets/base",
      "model_module_version": "1.2.0",
      "model_name": "LayoutModel",
      "state": {
       "align_items": "stretch",
       "width": "100%"
      }
     },
     "645324c5655246d2a0f1f7f93174b70d": {
      "model_module": "@jupyter-widgets/output",
      "model_module_version": "1.0.0",
      "model_name": "OutputModel",
      "state": {
       "layout": "IPY_MODEL_52ff9815d6ce4d79952f8f2ca9570833"
      }
     },
     "64620236c7f948f7ab2ecf1ea6694b75": {
      "model_module": "@jupyter-widgets/controls",
      "model_module_version": "1.5.0",
      "model_name": "AccordionModel",
      "state": {
       "_titles": {
        "0": "expansion_vessel_sizing_2"
       },
       "children": [
        "IPY_MODEL_3672f75aebc14c119d24d34291e52059"
       ],
       "layout": "IPY_MODEL_d3af07269fbd4d89892ff45efff2c0bf",
       "selected_index": null
      }
     },
     "64dc4d87f5aa4ed8a4963b68425549be": {
      "model_module": "@jupyter-widgets/controls",
      "model_module_version": "1.5.0",
      "model_name": "ButtonStyleModel",
      "state": {
       "font_weight": "bold"
      }
     },
     "64e4f2299cc047a184f7d5b50effd02a": {
      "model_module": "@jupyter-widgets/controls",
      "model_module_version": "1.5.0",
      "model_name": "ButtonStyleModel",
      "state": {
       "font_weight": "bold"
      }
     },
     "653883c2848941e8a30373a000a3b313": {
      "model_module": "@jupyter-widgets/controls",
      "model_module_version": "1.5.0",
      "model_name": "DescriptionStyleModel",
      "state": {
       "description_width": ""
      }
     },
     "6584df45ff1a449e97594b55de45c5d0": {
      "model_module": "@jupyter-widgets/controls",
      "model_module_version": "1.5.0",
      "model_name": "ButtonStyleModel",
      "state": {
       "font_weight": "bold"
      }
     },
     "65dc60fe27be45958a89513ba28e64bb": {
      "model_module": "@jupyter-widgets/base",
      "model_module_version": "1.2.0",
      "model_name": "LayoutModel",
      "state": {
       "width": "5%"
      }
     },
     "6656b3789fa448aebb41cc8f5d5fc8d5": {
      "model_module": "@jupyter-widgets/controls",
      "model_module_version": "1.5.0",
      "model_name": "ButtonModel",
      "state": {
       "icon": "eye-slash",
       "layout": "IPY_MODEL_65dc60fe27be45958a89513ba28e64bb",
       "style": "IPY_MODEL_894b9ee41fd74840885d5eab8796a578",
       "tooltip": "removes temporary output view"
      }
     },
     "66f4f2506ae64cc49f22b69e89f87d56": {
      "model_module": "@jupyter-widgets/controls",
      "model_module_version": "1.5.0",
      "model_name": "HBoxModel",
      "state": {
       "children": [
        "IPY_MODEL_1a83fae43c7642f3884499b6af190bd1",
        "IPY_MODEL_3c07f8d85746462e807fc677bcd45817"
       ],
       "layout": "IPY_MODEL_435749e4bead45d290ce80bf8710e0f6"
      }
     },
     "673bf730ad6442f0ba6494a20501a6b3": {
      "model_module": "@jupyter-widgets/base",
      "model_module_version": "1.2.0",
      "model_name": "LayoutModel",
      "state": {
       "align_items": "stretch",
       "display": "flex",
       "flex_flow": "row",
       "grid_auto_columns": "True",
       "justify_content": "flex-end",
       "width": "90%"
      }
     },
     "6794eef160884b69a69398f60fc9927c": {
      "model_module": "@jupyter-widgets/base",
      "model_module_version": "1.2.0",
      "model_name": "LayoutModel",
      "state": {}
     },
     "67acf8aa619543368e60f5a8719ddb5f": {
      "model_module": "@jupyter-widgets/controls",
      "model_module_version": "1.5.0",
      "model_name": "ButtonStyleModel",
      "state": {
       "font_weight": "bold"
      }
     },
     "67d1b068c13e4197957abecf8d42edfe": {
      "model_module": "@jupyter-widgets/base",
      "model_module_version": "1.2.0",
      "model_name": "LayoutModel",
      "state": {}
     },
     "67d5fd0c9d61430dad62929784af66fc": {
      "model_module": "@jupyter-widgets/base",
      "model_module_version": "1.2.0",
      "model_name": "LayoutModel",
      "state": {}
     },
     "67d5fdeb7a3c4b2aa7eb6deb540d8538": {
      "model_module": "@jupyter-widgets/controls",
      "model_module_version": "1.5.0",
      "model_name": "HBoxModel",
      "state": {
       "children": [
        "IPY_MODEL_ef4635859db04adc8ee78e954e3690b9",
        "IPY_MODEL_5f11b091f0c7400d9fd1af27f4f45c94"
       ],
       "layout": "IPY_MODEL_79a6ff1475c34b6a91245602fed954dd"
      }
     },
     "67e0c1e42f58469f98bece5300839165": {
      "model_module": "@jupyter-widgets/base",
      "model_module_version": "1.2.0",
      "model_name": "LayoutModel",
      "state": {
       "height": "30px",
       "width": "auto"
      }
     },
     "683e03cb36bd4f278960d510037aba8a": {
      "model_module": "@jupyter-widgets/base",
      "model_module_version": "1.2.0",
      "model_name": "LayoutModel",
      "state": {}
     },
     "68a929d68a55454c9b65067feb3d6123": {
      "model_module": "@jupyter-widgets/base",
      "model_module_version": "1.2.0",
      "model_name": "LayoutModel",
      "state": {}
     },
     "68ca581f97524fb6969655101efc240e": {
      "model_module": "@jupyter-widgets/controls",
      "model_module_version": "1.5.0",
      "model_name": "ButtonModel",
      "state": {
       "button_style": "info",
       "description": "show guide",
       "layout": "IPY_MODEL_20914c5c178c4346893ee373aae91943",
       "style": "IPY_MODEL_64dc4d87f5aa4ed8a4963b68425549be",
       "tooltip": "read the \"docstring\", ie. the documentation that was written to accompany the script"
      }
     },
     "68eca0e5470648d7bc92d7138659e521": {
      "model_module": "@jupyter-widgets/base",
      "model_module_version": "1.2.0",
      "model_name": "LayoutModel",
      "state": {}
     },
     "68f058ea0b4545da9221d41ec729d394": {
      "model_module": "@jupyter-widgets/controls",
      "model_module_version": "1.5.0",
      "model_name": "HTMLModel",
      "state": {
       "layout": "IPY_MODEL_8df43da0a13b43baa976ae72e45538ea",
       "style": "IPY_MODEL_4b08306571b54ed5bc0d4053a331e34d",
       "value": "<p>height_difference_m</p>"
      }
     },
     "68f577faef784c4bb1eac53a7e5e713c": {
      "model_module": "@jupyter-widgets/controls",
      "model_module_version": "1.5.0",
      "model_name": "ButtonModel",
      "state": {
       "button_style": "success",
       "description": "run",
       "layout": "IPY_MODEL_cb364050c63747ef87fe54ddd647cac2",
       "style": "IPY_MODEL_9022ca5689e648ec85b0ffacdd72aca5",
       "tooltip": "execute the script based on the user inputs"
      }
     },
     "692cb6dd800b4e96bf9de55fc2766dff": {
      "model_module": "@jupyter-widgets/controls",
      "model_module_version": "1.5.0",
      "model_name": "HBoxModel",
      "state": {
       "children": [
        "IPY_MODEL_5a68cc373ad04187bc4d4904aa58634c",
        "IPY_MODEL_5bf0377823fb4e96b7a2e2de95743e25"
       ],
       "layout": "IPY_MODEL_7cff30134b8c4d06afb0a04491bda599"
      }
     },
     "6999dcd92c084dac9e454d1d8ed50341": {
      "model_module": "@jupyter-widgets/controls",
      "model_module_version": "1.5.0",
      "model_name": "HBoxModel",
      "state": {
       "children": [
        "IPY_MODEL_2d06fb6daa424f7d82bf85727ce766eb",
        "IPY_MODEL_266e3d09523a49dfaf79ea02cdd0cc35"
       ],
       "layout": "IPY_MODEL_50c00eaa8ca54ae7b6da4ef57a70fafd"
      }
     },
     "69aa7d50b0ce4975aa69b8f4302f3147": {
      "model_module": "@jupyter-widgets/base",
      "model_module_version": "1.2.0",
      "model_name": "LayoutModel",
      "state": {}
     },
     "6a2718b9ea8f4e9b953ab215bdf74c40": {
      "model_module": "@jupyter-widgets/base",
      "model_module_version": "1.2.0",
      "model_name": "LayoutModel",
      "state": {
       "align_items": "stretch",
       "display": "flex",
       "flex_flow": "row",
       "grid_auto_columns": "True",
       "justify_content": "flex-start",
       "width": "80%"
      }
     },
     "6abd7faf2fc24b3dad5a0d3e48046130": {
      "model_module": "@jupyter-widgets/controls",
      "model_module_version": "1.5.0",
      "model_name": "DescriptionStyleModel",
      "state": {
       "description_width": ""
      }
     },
     "6bb5d860f42145b2a879add4d16014a0": {
      "model_module": "@jupyter-widgets/output",
      "model_module_version": "1.0.0",
      "model_name": "OutputModel",
      "state": {
       "layout": "IPY_MODEL_99a9e62cd9774dce9710e467022369da"
      }
     },
     "6be6cfef7b8a4143981518d450a93a81": {
      "model_module": "@jupyter-widgets/controls",
      "model_module_version": "1.5.0",
      "model_name": "DescriptionStyleModel",
      "state": {
       "description_width": ""
      }
     },
     "6c4d36ad1700454a8b3ceae98cf3f457": {
      "model_module": "@jupyter-widgets/base",
      "model_module_version": "1.2.0",
      "model_name": "LayoutModel",
      "state": {}
     },
     "6c67de2da3054e1599049fd46e5ce959": {
      "model_module": "@jupyter-widgets/base",
      "model_module_version": "1.2.0",
      "model_name": "LayoutModel",
      "state": {}
     },
     "6c9dff308e7a409ab932a1466bf5dc73": {
      "model_module": "@jupyter-widgets/controls",
      "model_module_version": "1.5.0",
      "model_name": "HBoxModel",
      "state": {
       "children": [
        "IPY_MODEL_032f330e002b46da86fcf6bab3c9df73",
        "IPY_MODEL_141fd0ba7a8e40d19525b47052e9b2ac"
       ],
       "layout": "IPY_MODEL_8e8a1465be904fea9fb3cceeff0ed995"
      }
     },
     "6cc5b90f7d7d4529a131ad77db18a044": {
      "model_module": "@jupyter-widgets/controls",
      "model_module_version": "1.5.0",
      "model_name": "HBoxModel",
      "state": {
       "children": [
        "IPY_MODEL_12b63794fe7946cbb813d4314a0cd512"
       ],
       "layout": "IPY_MODEL_ac7aca73893d4105bfe897ed1a76577b"
      }
     },
     "6ccf2eb6d4124820aa4adbceb8b7f36c": {
      "model_module": "@jupyter-widgets/base",
      "model_module_version": "1.2.0",
      "model_name": "LayoutModel",
      "state": {
       "align_items": "stretch",
       "width": "100%"
      }
     },
     "6cd9a01a02054d4b9a4fc020f6e36b41": {
      "model_module": "@jupyter-widgets/base",
      "model_module_version": "1.2.0",
      "model_name": "LayoutModel",
      "state": {
       "align_items": "stretch",
       "display": "flex",
       "flex_flow": "row",
       "grid_auto_columns": "True",
       "justify_content": "flex-end",
       "width": "90%"
      }
     },
     "6ce86ca56c5e4d9483c9f02f13157525": {
      "model_module": "@jupyter-widgets/controls",
      "model_module_version": "1.5.0",
      "model_name": "HBoxModel",
      "state": {
       "children": [
        "IPY_MODEL_73cd3c14134b403885a14efae628e6a1",
        "IPY_MODEL_4bfb4e025e1d4079816a0b15a94b13e6",
        "IPY_MODEL_c6d3e3b447944d128ddbc7f4939792f3",
        "IPY_MODEL_cc8c457c7c104bf99a302d12938b6bea",
        "IPY_MODEL_68f577faef784c4bb1eac53a7e5e713c",
        "IPY_MODEL_4cc762995e154a1fa879cc5dfa93724a",
        "IPY_MODEL_cae606a5efcb40c680ef61da9bc04d87"
       ],
       "layout": "IPY_MODEL_505adb3cc0a7402eb4736b87a4084829"
      }
     },
     "6cf1dbdd979a431eb26fd7d223c98803": {
      "model_module": "@jupyter-widgets/base",
      "model_module_version": "1.2.0",
      "model_name": "LayoutModel",
      "state": {}
     },
     "6d4b7fd3cfc848e1bd84a2284c00b4be": {
      "model_module": "@jupyter-widgets/base",
      "model_module_version": "1.2.0",
      "model_name": "LayoutModel",
      "state": {
       "align_items": "stretch",
       "border": "dashed 0.2px green",
       "display": "flex",
       "flex_flow": "row",
       "grid_auto_columns": "True",
       "justify_content": "flex-start",
       "width": "100%"
      }
     },
     "6e371f20bb464d85b5cfbd831af8721b": {
      "model_module": "@jupyter-widgets/controls",
      "model_module_version": "1.5.0",
      "model_name": "DescriptionStyleModel",
      "state": {
       "description_width": ""
      }
     },
     "6eb54fa10dc04f97b85c8ef8b11c5e65": {
      "model_module": "@jupyter-widgets/base",
      "model_module_version": "1.2.0",
      "model_name": "LayoutModel",
      "state": {
       "align_items": "stretch",
       "display": "flex",
       "flex_flow": "row",
       "grid_auto_columns": "True",
       "justify_content": "flex-start",
       "width": "80%"
      }
     },
     "6eeb6fe98c614fbdb894a2bcb43a627f": {
      "model_module": "@jupyter-widgets/controls",
      "model_module_version": "1.5.0",
      "model_name": "DescriptionStyleModel",
      "state": {
       "description_width": ""
      }
     },
     "6f5e6862732c41a59a8d4c2067706a9e": {
      "model_module": "@jupyter-widgets/base",
      "model_module_version": "1.2.0",
      "model_name": "LayoutModel",
      "state": {
       "align_items": "stretch",
       "width": "100%"
      }
     },
     "70205692dfa749fc880c5d8a2e1fabf4": {
      "model_module": "@jupyter-widgets/base",
      "model_module_version": "1.2.0",
      "model_name": "LayoutModel",
      "state": {}
     },
     "7066c39dfa374c709e81a6841c69642b": {
      "model_module": "@jupyter-widgets/base",
      "model_module_version": "1.2.0",
      "model_name": "LayoutModel",
      "state": {
       "align_items": "stretch",
       "display": "flex",
       "flex_flow": "row",
       "grid_auto_columns": "True",
       "justify_content": "flex-end",
       "width": "90%"
      }
     },
     "70868a364a094b96be81e8fdc2948a64": {
      "model_module": "@jupyter-widgets/controls",
      "model_module_version": "1.5.0",
      "model_name": "DescriptionStyleModel",
      "state": {
       "description_width": ""
      }
     },
     "70d18c90ac0b4af08870d56bedb18ad4": {
      "model_module": "@jupyter-widgets/controls",
      "model_module_version": "1.5.0",
      "model_name": "HBoxModel",
      "state": {
       "children": [
        "IPY_MODEL_56e68d0c85d54285af19ffb961e1d60c",
        "IPY_MODEL_e921e0e5344b43fdb7cbe3932c839fbd"
       ],
       "layout": "IPY_MODEL_15c8642ed5ac4230acfb844042c6ea86"
      }
     },
     "70f88b682ab540c59d01b8e313d27b06": {
      "model_module": "@jupyter-widgets/controls",
      "model_module_version": "1.5.0",
      "model_name": "ButtonModel",
      "state": {
       "button_style": "warning",
       "description": "revert to last save",
       "layout": "IPY_MODEL_c91f8803f51349cd8456745bc1320919",
       "style": "IPY_MODEL_3811221f009842ae9db0bb0d86c2c750"
      }
     },
     "713c2f12c67c44fbbac4a16854c7d76e": {
      "model_module": "@jupyter-widgets/controls",
      "model_module_version": "1.5.0",
      "model_name": "DescriptionStyleModel",
      "state": {
       "description_width": ""
      }
     },
     "717af73aedb342b995ca1fc8b432955c": {
      "model_module": "@jupyter-widgets/controls",
      "model_module_version": "1.5.0",
      "model_name": "TextModel",
      "state": {
       "description": "inputs",
       "disabled": true,
       "layout": "IPY_MODEL_25399cd69e3448999f2d8744a653b691",
       "style": "IPY_MODEL_f8058bfcb4d941dfaa9581007ffadc57",
       "value": "C:\\engDev\\git_mf\\ipyrun\\examples\\notebooks\\appdata\\inputs\\inputs-expansion_vessel_sizing.json"
      }
     },
     "71946a2a7e9743598f2afa06cea0cbfc": {
      "model_module": "@jupyter-widgets/controls",
      "model_module_version": "1.5.0",
      "model_name": "ToggleButtonModel",
      "state": {
       "button_style": "info",
       "description": "inputs from file",
       "layout": "IPY_MODEL_ee298f425c4f4a04bdfda4f7a914d233",
       "style": "IPY_MODEL_777a42d7da0b4fa390d80d4e304088cb"
      }
     },
     "71c9cd5fc2074f359cf5ec295f946e2d": {
      "model_module": "@jupyter-widgets/base",
      "model_module_version": "1.2.0",
      "model_name": "LayoutModel",
      "state": {}
     },
     "723f6d7be9964d40afbcf1d8143a7b9c": {
      "model_module": "@jupyter-widgets/base",
      "model_module_version": "1.2.0",
      "model_name": "LayoutModel",
      "state": {
       "width": "100%"
      }
     },
     "731ff104e7fc4f17a1e0c86800683963": {
      "model_module": "@jupyter-widgets/base",
      "model_module_version": "1.2.0",
      "model_name": "LayoutModel",
      "state": {}
     },
     "73cd3c14134b403885a14efae628e6a1": {
      "model_module": "@jupyter-widgets/controls",
      "model_module_version": "1.5.0",
      "model_name": "ButtonModel",
      "state": {
       "icon": "eye-slash",
       "layout": "IPY_MODEL_376417113b6347e7934f2c1d02080d21",
       "style": "IPY_MODEL_849a26e297744f4583e25be4e4528c6e",
       "tooltip": "removes temporary output view"
      }
     },
     "73dc59452920454d9baed1300d870d01": {
      "model_module": "@jupyter-widgets/controls",
      "model_module_version": "1.5.0",
      "model_name": "DescriptionStyleModel",
      "state": {
       "description_width": ""
      }
     },
     "745e0c75857c4a35aa72b66eafb2a5bc": {
      "model_module": "@jupyter-widgets/controls",
      "model_module_version": "1.5.0",
      "model_name": "FloatTextModel",
      "state": {
       "layout": "IPY_MODEL_a5bf88494b07497e9337db5b02accfac",
       "step": null,
       "style": "IPY_MODEL_990c546093fd4f4187c0d6019e7c0f49",
       "value": 20
      }
     },
     "7470114858274c6dba2dc1c7998a3d6a": {
      "model_module": "@jupyter-widgets/base",
      "model_module_version": "1.2.0",
      "model_name": "LayoutModel",
      "state": {}
     },
     "749a1e035a044c0bbb43f2d0d04a49ad": {
      "model_module": "@jupyter-widgets/controls",
      "model_module_version": "1.5.0",
      "model_name": "DescriptionStyleModel",
      "state": {
       "description_width": ""
      }
     },
     "749c708875b341ef854dfd59cbf2c1e7": {
      "model_module": "@jupyter-widgets/base",
      "model_module_version": "1.2.0",
      "model_name": "LayoutModel",
      "state": {}
     },
     "74f924f580984b03b27afd3ac3227638": {
      "model_module": "@jupyter-widgets/controls",
      "model_module_version": "1.5.0",
      "model_name": "HTMLModel",
      "state": {
       "layout": "IPY_MODEL_96320e3ab63d498da0edc90b7a2abefa",
       "style": "IPY_MODEL_c44a5388c73d492fb5c6ed4c07863514",
       "value": "<p>difference in height between the highest and lowest points in the system</p>"
      }
     },
     "75150654ec124ad9bd15d1271b774408": {
      "model_module": "@jupyter-widgets/controls",
      "model_module_version": "1.5.0",
      "model_name": "ToggleButtonModel",
      "state": {
       "button_style": "info",
       "description": "inputs from file",
       "layout": "IPY_MODEL_42386436154e4dc8b77afd63202f4bc5",
       "style": "IPY_MODEL_280a74b4affc47a2ab2697d0f4d28ab1"
      }
     },
     "75874cd547c042b1bca20538e17fd014": {
      "model_module": "@jupyter-widgets/base",
      "model_module_version": "1.2.0",
      "model_name": "LayoutModel",
      "state": {}
     },
     "75a9592bb4d24e82bd44f7ef013e7d30": {
      "model_module": "@jupyter-widgets/controls",
      "model_module_version": "1.5.0",
      "model_name": "HBoxModel",
      "state": {
       "children": [
        "IPY_MODEL_27cfe1e6d0a943a8b243726d85867fa2",
        "IPY_MODEL_5f1172f9c531420ca5bcce7cc08345d5"
       ],
       "layout": "IPY_MODEL_fc09e5ad4a1d409a98d61a46cefd38b7"
      }
     },
     "75b498696588459390cc4f1ef6588e56": {
      "model_module": "@jupyter-widgets/controls",
      "model_module_version": "1.5.0",
      "model_name": "DescriptionStyleModel",
      "state": {
       "description_width": ""
      }
     },
     "763a8a02d7a94419a996ec161eabc185": {
      "model_module": "@jupyter-widgets/controls",
      "model_module_version": "1.5.0",
      "model_name": "TextModel",
      "state": {
       "description": "inputs",
       "disabled": true,
       "layout": "IPY_MODEL_964c1e2272e14858b2a381e7a1f0f252",
       "style": "IPY_MODEL_961589f53d2d42ee982a436285655d69",
       "value": "C:\\engDev\\git_mf\\ipyrun\\examples\\notebooks\\appdata\\inputs\\inputs-expansion_vessel_sizing.json"
      }
     },
     "777a42d7da0b4fa390d80d4e304088cb": {
      "model_module": "@jupyter-widgets/controls",
      "model_module_version": "1.5.0",
      "model_name": "DescriptionStyleModel",
      "state": {
       "description_width": ""
      }
     },
     "778de250dd054cc68ba149bd7e7c1bef": {
      "model_module": "@jupyter-widgets/controls",
      "model_module_version": "1.5.0",
      "model_name": "FloatSliderModel",
      "state": {
       "layout": "IPY_MODEL_c281b7c2c25a4471b9fec9587c740875",
       "max": 1,
       "step": 0.1,
       "style": "IPY_MODEL_2d4cd1b710c24531b679c52785a75743",
       "value": 0.3
      }
     },
     "77b6e8e5ff3a4c9092aef368aa4f26a4": {
      "model_module": "@jupyter-widgets/controls",
      "model_module_version": "1.5.0",
      "model_name": "HBoxModel",
      "state": {
       "children": [
        "IPY_MODEL_3e06983192f04f1784cdf348f53a512f"
       ],
       "layout": "IPY_MODEL_e559eb46da5143dbb2e5473a044e260b"
      }
     },
     "782f8be051dc40f2bd80c50387c226e4": {
      "model_module": "@jupyter-widgets/base",
      "model_module_version": "1.2.0",
      "model_name": "LayoutModel",
      "state": {}
     },
     "7888a9e543394f6898282ea2e137cdac": {
      "model_module": "@jupyter-widgets/controls",
      "model_module_version": "1.5.0",
      "model_name": "HBoxModel",
      "state": {
       "children": [
        "IPY_MODEL_86e0fd35ce7c431eb2a1ab333cb72c43",
        "IPY_MODEL_9cf9c2108a864edabd8df00cad24c5de"
       ],
       "layout": "IPY_MODEL_7a8eb79a00124f428d1cfc40ae221b7c"
      }
     },
     "78a6e6b2a9e44c888a4c6973c3a6c918": {
      "model_module": "@jupyter-widgets/controls",
      "model_module_version": "1.5.0",
      "model_name": "ButtonStyleModel",
      "state": {
       "font_weight": "bold"
      }
     },
     "78e9ff631cd84f6fbbd2a3b3709b6bfb": {
      "model_module": "@jupyter-widgets/controls",
      "model_module_version": "1.5.0",
      "model_name": "HTMLModel",
      "state": {
       "layout": "IPY_MODEL_fc0ade17c908472a9169770ff0ce770c",
       "style": "IPY_MODEL_f27f589e1dc4479687360a09db8f41cb",
       "value": "<p>Heating system pipework length (m). Note: includes horizontal, vertical, flow and return.</p>"
      }
     },
     "7910b43ed83b40528a9b8e6eff757c2d": {
      "model_module": "@jupyter-widgets/output",
      "model_module_version": "1.0.0",
      "model_name": "OutputModel",
      "state": {
       "layout": "IPY_MODEL_2905af7a8f2e4e65a33148b1d75ebff0"
      }
     },
     "79625f96b89146e2be749e5daaaed89c": {
      "model_module": "@jupyter-widgets/base",
      "model_module_version": "1.2.0",
      "model_name": "LayoutModel",
      "state": {}
     },
     "799d58e6b92f4afab066f26f772f690d": {
      "model_module": "@jupyter-widgets/controls",
      "model_module_version": "1.5.0",
      "model_name": "HBoxModel",
      "state": {
       "children": [
        "IPY_MODEL_f60039dbd7f7437ba50027e697ffc767"
       ],
       "layout": "IPY_MODEL_b01f1efcd1a44e8ca206731adef15b4f"
      }
     },
     "799dfee525844aa994a7fe69e9bcd15b": {
      "model_module": "@jupyter-widgets/controls",
      "model_module_version": "1.5.0",
      "model_name": "HTMLModel",
      "state": {
       "layout": "IPY_MODEL_34863ee9da3d48ca9ea1df0741e3f906",
       "style": "IPY_MODEL_eaaa0b161ec343c8a2514e181607a4d1",
       "value": "<p>total volume of water within the closed mechanical system</p>"
      }
     },
     "79a6ff1475c34b6a91245602fed954dd": {
      "model_module": "@jupyter-widgets/base",
      "model_module_version": "1.2.0",
      "model_name": "LayoutModel",
      "state": {
       "align_items": "stretch",
       "display": "flex",
       "flex_flow": "row",
       "grid_auto_columns": "True",
       "justify_content": "flex-start",
       "width": "80%"
      }
     },
     "7a0d39bb3fce4fffa92a87b54643ca42": {
      "model_module": "@jupyter-widgets/controls",
      "model_module_version": "1.5.0",
      "model_name": "DescriptionStyleModel",
      "state": {
       "description_width": ""
      }
     },
     "7a8eb79a00124f428d1cfc40ae221b7c": {
      "model_module": "@jupyter-widgets/base",
      "model_module_version": "1.2.0",
      "model_name": "LayoutModel",
      "state": {
       "align_items": "stretch",
       "display": "flex",
       "flex_flow": "row",
       "grid_auto_columns": "True",
       "justify_content": "flex-start",
       "width": "80%"
      }
     },
     "7a9306b2581c45f7a939ffb2a88c2489": {
      "model_module": "@jupyter-widgets/controls",
      "model_module_version": "1.5.0",
      "model_name": "DescriptionStyleModel",
      "state": {
       "description_width": ""
      }
     },
     "7ab2ac14d5d149e1a9aceeca2e155370": {
      "model_module": "@jupyter-widgets/output",
      "model_module_version": "1.0.0",
      "model_name": "OutputModel",
      "state": {
       "layout": "IPY_MODEL_c9e7145630474b4ab075085ebb40b612"
      }
     },
     "7aeb84cf63e6429c8e1c2ab3b050b20e": {
      "model_module": "@jupyter-widgets/base",
      "model_module_version": "1.2.0",
      "model_name": "LayoutModel",
      "state": {
       "height": "30px",
       "width": "auto"
      }
     },
     "7b0dc7339c274ff7add125bd9d0a73d4": {
      "model_module": "@jupyter-widgets/controls",
      "model_module_version": "1.5.0",
      "model_name": "ButtonStyleModel",
      "state": {
       "font_weight": "bold"
      }
     },
     "7b26f702e9154893b89ff883d9b19731": {
      "model_module": "@jupyter-widgets/controls",
      "model_module_version": "1.5.0",
      "model_name": "HBoxModel",
      "state": {
       "children": [
        "IPY_MODEL_8df7a24690194293bc90963380db93d8"
       ],
       "layout": "IPY_MODEL_c98dc14a3868467cba2bcf674a8fc1c4"
      }
     },
     "7b747510f28246ff9314d1ef8dcbdfa2": {
      "model_module": "@jupyter-widgets/base",
      "model_module_version": "1.2.0",
      "model_name": "LayoutModel",
      "state": {}
     },
     "7bc6aa43c89a41c98dd48b47ecb9ea62": {
      "model_module": "@jupyter-widgets/output",
      "model_module_version": "1.0.0",
      "model_name": "OutputModel",
      "state": {
       "layout": "IPY_MODEL_a55014ce0deb4138a6ff2697f26cf7e1"
      }
     },
     "7bf9d0b28bdd4e29b7eb332b1d20d8f4": {
      "model_module": "@jupyter-widgets/base",
      "model_module_version": "1.2.0",
      "model_name": "LayoutModel",
      "state": {
       "align_items": "stretch",
       "border": "dashed 0.2px green",
       "display": "flex",
       "flex_flow": "row",
       "grid_auto_columns": "True",
       "justify_content": "flex-start",
       "width": "100%"
      }
     },
     "7c3e5cd6d0d643c2838eb1a8a8d28295": {
      "model_module": "@jupyter-widgets/controls",
      "model_module_version": "1.5.0",
      "model_name": "ButtonStyleModel",
      "state": {}
     },
     "7c663d4bffaf444fb5d4dc919bd45b27": {
      "model_module": "@jupyter-widgets/base",
      "model_module_version": "1.2.0",
      "model_name": "LayoutModel",
      "state": {
       "height": "30px",
       "max_width": "30px",
       "padding": "3px"
      }
     },
     "7c7041464ef94b77b698b328bb4eee77": {
      "model_module": "@jupyter-widgets/base",
      "model_module_version": "1.2.0",
      "model_name": "LayoutModel",
      "state": {}
     },
     "7cdb3f67923d4c619a10ebbf5ff97a81": {
      "model_module": "@jupyter-widgets/base",
      "model_module_version": "1.2.0",
      "model_name": "LayoutModel",
      "state": {}
     },
     "7cff30134b8c4d06afb0a04491bda599": {
      "model_module": "@jupyter-widgets/base",
      "model_module_version": "1.2.0",
      "model_name": "LayoutModel",
      "state": {
       "align_items": "stretch",
       "display": "flex",
       "flex_flow": "row",
       "grid_auto_columns": "True",
       "justify_content": "flex-end",
       "width": "90%"
      }
     },
     "7d5ce36c462841e69f5e56e8fb098cc3": {
      "model_module": "@jupyter-widgets/base",
      "model_module_version": "1.2.0",
      "model_name": "LayoutModel",
      "state": {
       "align_items": "stretch",
       "border": "dashed 0.2px green",
       "display": "flex",
       "flex_flow": "row",
       "grid_auto_columns": "True",
       "justify_content": "flex-start",
       "width": "100%"
      }
     },
     "7d8abddf48da4a9da92343f4d82f8a60": {
      "model_module": "@jupyter-widgets/base",
      "model_module_version": "1.2.0",
      "model_name": "LayoutModel",
      "state": {}
     },
     "7de26027c3e6456a8a6deb5c4d15444d": {
      "model_module": "@jupyter-widgets/controls",
      "model_module_version": "1.5.0",
      "model_name": "HTMLModel",
      "state": {
       "layout": "IPY_MODEL_0ffaa74a0f424f879d6412250afbb7df",
       "style": "IPY_MODEL_75b498696588459390cc4f1ef6588e56",
       "value": "<p>pipework_length_m</p>"
      }
     },
     "7e40d3de4a0b48a5b5ac2bc5d09697c4": {
      "model_module": "@jupyter-widgets/controls",
      "model_module_version": "1.5.0",
      "model_name": "HBoxModel",
      "state": {
       "children": [
        "IPY_MODEL_745e0c75857c4a35aa72b66eafb2a5bc",
        "IPY_MODEL_83f22125c7dd4704b575e24df9302e13"
       ],
       "layout": "IPY_MODEL_15eb256a1d1f4110ad35ff447e4e0e44"
      }
     },
     "7e62ebbb526145cf8634d5da0d270e58": {
      "model_module": "@jupyter-widgets/controls",
      "model_module_version": "1.5.0",
      "model_name": "DescriptionStyleModel",
      "state": {
       "description_width": ""
      }
     },
     "7ec6b910f6cc4bb39b5cea3e80de2fe7": {
      "model_module": "@jupyter-widgets/base",
      "model_module_version": "1.2.0",
      "model_name": "LayoutModel",
      "state": {}
     },
     "7f19766f1a8b4a009390bbc80ea47584": {
      "model_module": "@jupyter-widgets/controls",
      "model_module_version": "1.5.0",
      "model_name": "FloatTextModel",
      "state": {
       "layout": "IPY_MODEL_e38347615aea49b8b7b6d274866f98a9",
       "step": null,
       "style": "IPY_MODEL_8ffc4ca2d2cc46feb4be3a58782ec11a",
       "value": 20
      }
     },
     "7f551fe8c183449a93db832eb5f9d0ff": {
      "model_module": "@jupyter-widgets/base",
      "model_module_version": "1.2.0",
      "model_name": "LayoutModel",
      "state": {}
     },
     "7f9d11514be941ba842ab302cbc9535b": {
      "model_module": "@jupyter-widgets/base",
      "model_module_version": "1.2.0",
      "model_name": "LayoutModel",
      "state": {
       "align_items": "stretch",
       "display": "flex",
       "flex_flow": "row",
       "grid_auto_columns": "True",
       "justify_content": "flex-end",
       "width": "90%"
      }
     },
     "7feebf3aeaae418a8e2bd9d45360a87f": {
      "model_module": "@jupyter-widgets/controls",
      "model_module_version": "1.5.0",
      "model_name": "ButtonModel",
      "state": {
       "button_style": "success",
       "description": "run batch",
       "layout": "IPY_MODEL_ac2f2d7ea30a4e5098c0843e0bfaf0ef",
       "style": "IPY_MODEL_5d2cc39fa349495e9c898c947e5b19a6",
       "tooltip": "execute checked processes below"
      }
     },
     "801d63b20d274505818f44cd535ba2c1": {
      "model_module": "@jupyter-widgets/base",
      "model_module_version": "1.2.0",
      "model_name": "LayoutModel",
      "state": {
       "width": "5%"
      }
     },
     "80e33c1528c64707ab66f21169236df9": {
      "model_module": "@jupyter-widgets/base",
      "model_module_version": "1.2.0",
      "model_name": "LayoutModel",
      "state": {}
     },
     "80f5b31bee354b0fa9d352d3ab5631b9": {
      "model_module": "@jupyter-widgets/controls",
      "model_module_version": "1.5.0",
      "model_name": "DescriptionStyleModel",
      "state": {
       "description_width": ""
      }
     },
     "8172b911aa354886963d845b6204554c": {
      "model_module": "@jupyter-widgets/base",
      "model_module_version": "1.2.0",
      "model_name": "LayoutModel",
      "state": {}
     },
     "832d07233c3f477c97034814566eb5af": {
      "model_module": "@jupyter-widgets/controls",
      "model_module_version": "1.5.0",
      "model_name": "HBoxModel",
      "state": {
       "children": [
        "IPY_MODEL_692cb6dd800b4e96bf9de55fc2766dff"
       ],
       "layout": "IPY_MODEL_1faa5fb79a1b47f6a1c1492150e92f2a"
      }
     },
     "833fc47e81fb4ac099f4e7afb7d25397": {
      "model_module": "@jupyter-widgets/controls",
      "model_module_version": "1.5.0",
      "model_name": "ButtonStyleModel",
      "state": {}
     },
     "8351f843bca84420b41ca86a37c45f83": {
      "model_module": "@jupyter-widgets/base",
      "model_module_version": "1.2.0",
      "model_name": "LayoutModel",
      "state": {}
     },
     "836d3c54a51147a69b0184b88073d5a8": {
      "model_module": "@jupyter-widgets/controls",
      "model_module_version": "1.5.0",
      "model_name": "HTMLModel",
      "state": {
       "layout": "IPY_MODEL_9b41541702914d6fa5325c740cfd0834",
       "style": "IPY_MODEL_7a9306b2581c45f7a939ffb2a88c2489",
       "value": "<p>pipework_length_m</p>"
      }
     },
     "83e45946635346139fd159b6a6f2b543": {
      "model_module": "@jupyter-widgets/base",
      "model_module_version": "1.2.0",
      "model_name": "LayoutModel",
      "state": {}
     },
     "83f22125c7dd4704b575e24df9302e13": {
      "model_module": "@jupyter-widgets/controls",
      "model_module_version": "1.5.0",
      "model_name": "HTMLModel",
      "state": {
       "layout": "IPY_MODEL_f2a65bd29a094d1ab0f9c4d75e4a2e29",
       "style": "IPY_MODEL_32452f7dbbdc4f12a98cfcc2b37447de",
       "value": "<p>total volume of water within the closed mechanical system</p>"
      }
     },
     "844e4f1e80af4a30a204bf213883df27": {
      "model_module": "@jupyter-widgets/controls",
      "model_module_version": "1.5.0",
      "model_name": "AccordionModel",
      "state": {
       "_titles": {
        "0": "expansion_vessel_sizing_0"
       },
       "children": [
        "IPY_MODEL_cc411bf6df3e4a53be0ae5eff04d3de6"
       ],
       "layout": "IPY_MODEL_723f6d7be9964d40afbcf1d8143a7b9c"
      }
     },
     "849a26e297744f4583e25be4e4528c6e": {
      "model_module": "@jupyter-widgets/controls",
      "model_module_version": "1.5.0",
      "model_name": "ButtonStyleModel",
      "state": {
       "font_weight": "bold"
      }
     },
     "84c37261edfc43bbba13790f55390261": {
      "model_module": "@jupyter-widgets/controls",
      "model_module_version": "1.5.0",
      "model_name": "DescriptionStyleModel",
      "state": {
       "description_width": ""
      }
     },
     "84c99374309041c1afd0a04e6ee202d0": {
      "model_module": "@jupyter-widgets/controls",
      "model_module_version": "1.5.0",
      "model_name": "VBoxModel",
      "state": {
       "children": [
        "IPY_MODEL_0cb25f32296b45769d2beadb27564d8d",
        "IPY_MODEL_eb0f1d2d34ba42c5a5f82772d4a05136"
       ],
       "layout": "IPY_MODEL_20e925d72dc34541b537407687676efd"
      }
     },
     "8535dedd6842420fb98cfbd6733f49f1": {
      "model_module": "@jupyter-widgets/base",
      "model_module_version": "1.2.0",
      "model_name": "LayoutModel",
      "state": {}
     },
     "857bdaeac56a4109be72146d7a9adb7c": {
      "model_module": "@jupyter-widgets/base",
      "model_module_version": "1.2.0",
      "model_name": "LayoutModel",
      "state": {}
     },
     "85eee8be4e02475f99211666f4270371": {
      "model_module": "@jupyter-widgets/controls",
      "model_module_version": "1.5.0",
      "model_name": "DescriptionStyleModel",
      "state": {
       "description_width": ""
      }
     },
     "86e0fd35ce7c431eb2a1ab333cb72c43": {
      "model_module": "@jupyter-widgets/controls",
      "model_module_version": "1.5.0",
      "model_name": "FloatTextModel",
      "state": {
       "layout": "IPY_MODEL_1fd22e19a5cb437ba8344da2384babc9",
       "step": null,
       "style": "IPY_MODEL_8a1fe9acccf448119631f32fbc76cd3b",
       "value": 500
      }
     },
     "87333a930b6d45c9b752ebc76900f39b": {
      "model_module": "@jupyter-widgets/base",
      "model_module_version": "1.2.0",
      "model_name": "LayoutModel",
      "state": {}
     },
     "876addd5a85f4accabbea000644a22f7": {
      "model_module": "@jupyter-widgets/base",
      "model_module_version": "1.2.0",
      "model_name": "LayoutModel",
      "state": {}
     },
     "87822617b30e40c395ff64e944e5849a": {
      "model_module": "@jupyter-widgets/base",
      "model_module_version": "1.2.0",
      "model_name": "LayoutModel",
      "state": {
       "align_items": "stretch",
       "display": "flex",
       "flex_flow": "row",
       "grid_auto_columns": "True",
       "justify_content": "flex-start",
       "width": "80%"
      }
     },
     "878c5a30570045aea6cfed2cceae8d3f": {
      "model_module": "@jupyter-widgets/base",
      "model_module_version": "1.2.0",
      "model_name": "LayoutModel",
      "state": {}
     },
     "880cd929f9934e4c90f006692081e3f0": {
      "model_module": "@jupyter-widgets/controls",
      "model_module_version": "1.5.0",
      "model_name": "BoxModel",
      "state": {
       "children": [
        "IPY_MODEL_91101ac3242540579cff392a894bfcfe"
       ],
       "layout": "IPY_MODEL_df270467170d41d19dea7158659c5e61"
      }
     },
     "88240b0f45c941a58dde2b80b16319e6": {
      "model_module": "@jupyter-widgets/base",
      "model_module_version": "1.2.0",
      "model_name": "LayoutModel",
      "state": {}
     },
     "889b7816afd24f7db73b0a528bd454bc": {
      "model_module": "@jupyter-widgets/base",
      "model_module_version": "1.2.0",
      "model_name": "LayoutModel",
      "state": {}
     },
     "88b4d45fde07450d91121e0105de4cb4": {
      "model_module": "@jupyter-widgets/controls",
      "model_module_version": "1.5.0",
      "model_name": "DescriptionStyleModel",
      "state": {
       "description_width": ""
      }
     },
     "88e4c5739cd748d8be36183edbe489a9": {
      "model_module": "@jupyter-widgets/controls",
      "model_module_version": "1.5.0",
      "model_name": "ButtonStyleModel",
      "state": {
       "font_weight": "bold"
      }
     },
     "88f02f0b1d0c4de2a6b11fb60582887b": {
      "model_module": "@jupyter-widgets/controls",
      "model_module_version": "1.5.0",
      "model_name": "ButtonStyleModel",
      "state": {}
     },
     "891bee0d01574d16b5b5bbe76e983f46": {
      "model_module": "@jupyter-widgets/controls",
      "model_module_version": "1.5.0",
      "model_name": "DescriptionStyleModel",
      "state": {
       "description_width": ""
      }
     },
     "8925c06eb5854c6bb3a0c1e858a65016": {
      "model_module": "@jupyter-widgets/base",
      "model_module_version": "1.2.0",
      "model_name": "LayoutModel",
      "state": {
       "align_items": "stretch",
       "display": "flex",
       "flex_flow": "row",
       "grid_auto_columns": "True",
       "justify_content": "flex-end",
       "width": "90%"
      }
     },
     "89453788808d41c283c2490ee1bc0d49": {
      "model_module": "@jupyter-widgets/controls",
      "model_module_version": "1.5.0",
      "model_name": "FloatSliderModel",
      "state": {
       "layout": "IPY_MODEL_c9ecd58167794440866d9c13c0150908",
       "max": 2,
       "step": 0.1,
       "style": "IPY_MODEL_c92b86f4857d4d6c842d68148661e7d6",
       "value": 1
      }
     },
     "894b9ee41fd74840885d5eab8796a578": {
      "model_module": "@jupyter-widgets/controls",
      "model_module_version": "1.5.0",
      "model_name": "ButtonStyleModel",
      "state": {
       "font_weight": "bold"
      }
     },
     "8977c79425cc4461bb93b80bb5fa76bf": {
      "model_module": "@jupyter-widgets/controls",
      "model_module_version": "1.5.0",
      "model_name": "DescriptionStyleModel",
      "state": {
       "description_width": ""
      }
     },
     "89c733b8669a4c25bdf65ce126d9b416": {
      "model_module": "@jupyter-widgets/base",
      "model_module_version": "1.2.0",
      "model_name": "LayoutModel",
      "state": {
       "width": "5%"
      }
     },
     "89fa1a1d4c8c4d07be096619b08cdc6c": {
      "model_module": "@jupyter-widgets/controls",
      "model_module_version": "1.5.0",
      "model_name": "HBoxModel",
      "state": {
       "children": [
        "IPY_MODEL_28ca66618e534c778ec63bfb5143d2ca",
        "IPY_MODEL_d3d706a04f95412fae4c7b7b3b4be852"
       ],
       "layout": "IPY_MODEL_a78211f6545c4c3ba94d50a28b375732"
      }
     },
     "8a1fe9acccf448119631f32fbc76cd3b": {
      "model_module": "@jupyter-widgets/controls",
      "model_module_version": "1.5.0",
      "model_name": "DescriptionStyleModel",
      "state": {
       "description_width": ""
      }
     },
     "8a76cfef6e8a42d5ad80c9dde7d2b117": {
      "model_module": "@jupyter-widgets/controls",
      "model_module_version": "1.5.0",
      "model_name": "DescriptionStyleModel",
      "state": {
       "description_width": ""
      }
     },
     "8a91b2284aca4d98a2fffc656b3df1b4": {
      "model_module": "@jupyter-widgets/controls",
      "model_module_version": "1.5.0",
      "model_name": "DescriptionStyleModel",
      "state": {
       "description_width": ""
      }
     },
     "8ad85872d2e94afeb72b1e04a2dbf18d": {
      "model_module": "@jupyter-widgets/base",
      "model_module_version": "1.2.0",
      "model_name": "LayoutModel",
      "state": {}
     },
     "8b163ba1d85445babeb5c95e7db387a2": {
      "model_module": "@jupyter-widgets/controls",
      "model_module_version": "1.5.0",
      "model_name": "SelectMultipleModel",
      "state": {
       "_options_labels": [
        "expansion_vessel_sizing.csv"
       ],
       "index": [],
       "layout": "IPY_MODEL_24a1f51d763d4718aa07aee6285debbf",
       "rows": 5,
       "style": "IPY_MODEL_5f764b53c69d40ba9e40f06e0a59ea31"
      }
     },
     "8b8624eab4ad43c99a8b321747212e59": {
      "model_module": "@jupyter-widgets/base",
      "model_module_version": "1.2.0",
      "model_name": "LayoutModel",
      "state": {}
     },
     "8ba65b55c2784c1fbcdae32bb2b8de45": {
      "model_module": "@jupyter-widgets/controls",
      "model_module_version": "1.5.0",
      "model_name": "ButtonStyleModel",
      "state": {
       "font_weight": "bold"
      }
     },
     "8c7aa595860b4b90a1629572277f2008": {
      "model_module": "@jupyter-widgets/controls",
      "model_module_version": "1.5.0",
      "model_name": "DescriptionStyleModel",
      "state": {
       "description_width": ""
      }
     },
     "8cb699b38ed84c3893b7b544274ee9e0": {
      "model_module": "@jupyter-widgets/base",
      "model_module_version": "1.2.0",
      "model_name": "LayoutModel",
      "state": {}
     },
     "8db6638c8f2c4ebfb41c61ffdd4224b8": {
      "model_module": "@jupyter-widgets/controls",
      "model_module_version": "1.5.0",
      "model_name": "FloatSliderModel",
      "state": {
       "layout": "IPY_MODEL_30e412d28bbd44b7a8d16ca9c00875da",
       "max": 1,
       "step": 0.1,
       "style": "IPY_MODEL_c24672e9be39478284fd442568a4c50a",
       "value": 0.3
      }
     },
     "8df43da0a13b43baa976ae72e45538ea": {
      "model_module": "@jupyter-widgets/base",
      "model_module_version": "1.2.0",
      "model_name": "LayoutModel",
      "state": {}
     },
     "8df7a24690194293bc90963380db93d8": {
      "model_module": "@jupyter-widgets/controls",
      "model_module_version": "1.5.0",
      "model_name": "HBoxModel",
      "state": {
       "children": [
        "IPY_MODEL_c4101e3ab7f146b597d7c531639b232b",
        "IPY_MODEL_dbccfe0a3e5f4befab684e195e2497ff"
       ],
       "layout": "IPY_MODEL_1c276b2673a04ed7ac4b84776855ddb9"
      }
     },
     "8e1db2b954ef41fb925048bb648f957e": {
      "model_module": "@jupyter-widgets/controls",
      "model_module_version": "1.5.0",
      "model_name": "ButtonModel",
      "state": {
       "button_style": "info",
       "description": "show source code",
       "layout": "IPY_MODEL_f7a2b0b6fe2d4655a7b49e461b05104f",
       "style": "IPY_MODEL_7c3e5cd6d0d643c2838eb1a8a8d28295",
       "tooltip": "shows the raw python code in the preview window below"
      }
     },
     "8e3d72cdc8874021b0e1e3ae585e6994": {
      "model_module": "@jupyter-widgets/controls",
      "model_module_version": "1.5.0",
      "model_name": "DescriptionStyleModel",
      "state": {
       "description_width": ""
      }
     },
     "8e55caf1cf58414fb6623fd839e4133b": {
      "model_module": "@jupyter-widgets/controls",
      "model_module_version": "1.5.0",
      "model_name": "HBoxModel",
      "state": {
       "children": [
        "IPY_MODEL_7f19766f1a8b4a009390bbc80ea47584",
        "IPY_MODEL_3968c1fed7264341b134b1644d5f1e0c"
       ],
       "layout": "IPY_MODEL_189513a6fdb147a6b567376ab6a7a67d"
      }
     },
     "8e8a1465be904fea9fb3cceeff0ed995": {
      "model_module": "@jupyter-widgets/base",
      "model_module_version": "1.2.0",
      "model_name": "LayoutModel",
      "state": {
       "align_items": "stretch",
       "display": "flex",
       "flex_flow": "row",
       "grid_auto_columns": "True",
       "justify_content": "flex-end",
       "width": "90%"
      }
     },
     "8eb0de5ed7624f488f4bedb6a0570e76": {
      "model_module": "@jupyter-widgets/base",
      "model_module_version": "1.2.0",
      "model_name": "LayoutModel",
      "state": {
       "align_items": "stretch",
       "display": "flex",
       "flex_flow": "row",
       "grid_auto_columns": "True",
       "justify_content": "flex-start",
       "width": "80%"
      }
     },
     "8f140e0238bd450d9886e7c0f577fc12": {
      "model_module": "@jupyter-widgets/base",
      "model_module_version": "1.2.0",
      "model_name": "LayoutModel",
      "state": {}
     },
     "8f28a62706e14fd3bb73e00d0767290f": {
      "model_module": "@jupyter-widgets/base",
      "model_module_version": "1.2.0",
      "model_name": "LayoutModel",
      "state": {
       "width": "5%"
      }
     },
     "8fc5fa6a8f8a4339ba478a4802cf3ff7": {
      "model_module": "@jupyter-widgets/base",
      "model_module_version": "1.2.0",
      "model_name": "LayoutModel",
      "state": {}
     },
     "8fdab51e2d6b4c1a9fadf7099899a3d0": {
      "model_module": "@jupyter-widgets/controls",
      "model_module_version": "1.5.0",
      "model_name": "HTMLModel",
      "state": {
       "layout": "IPY_MODEL_0d5a892ce1064f2dadf8db6850774e62",
       "style": "IPY_MODEL_5c6301d2d06a4bc09c567e1ab78add29",
       "value": "<p>pipework_pressure_loss_pa_per_m</p>"
      }
     },
     "8ffc4ca2d2cc46feb4be3a58782ec11a": {
      "model_module": "@jupyter-widgets/controls",
      "model_module_version": "1.5.0",
      "model_name": "DescriptionStyleModel",
      "state": {
       "description_width": ""
      }
     },
     "9022ca5689e648ec85b0ffacdd72aca5": {
      "model_module": "@jupyter-widgets/controls",
      "model_module_version": "1.5.0",
      "model_name": "ButtonStyleModel",
      "state": {
       "font_weight": "bold"
      }
     },
     "91101ac3242540579cff392a894bfcfe": {
      "model_module": "@jupyter-widgets/controls",
      "model_module_version": "1.5.0",
      "model_name": "HBoxModel",
      "state": {
       "children": [
        "IPY_MODEL_0dd3815c06034a9899dd2d15c35c7eb1",
        "IPY_MODEL_c1ab2ebb6147402e9eef5f4bf39162bf",
        "IPY_MODEL_438545d308af4abeac2856708b935b0a",
        "IPY_MODEL_352da1921fdb4ebe9b3a9c21f03f7203",
        "IPY_MODEL_48676627d5b84d7f8bf2fe9c8976350d",
        "IPY_MODEL_24b8703196a64b68999c36f39387b105",
        "IPY_MODEL_0e3accff7e3e405ab69e36ee122207e6"
       ],
       "layout": "IPY_MODEL_e8a3a8771fb44d45b7859fcb0286d533"
      }
     },
     "9110c5e0d9fa406fa9a2070708dad039": {
      "model_module": "@jupyter-widgets/controls",
      "model_module_version": "1.5.0",
      "model_name": "ButtonStyleModel",
      "state": {
       "font_weight": "bold"
      }
     },
     "916506e4e7ae4113b76eeff9895fa624": {
      "model_module": "@jupyter-widgets/base",
      "model_module_version": "1.2.0",
      "model_name": "LayoutModel",
      "state": {
       "align_items": "stretch",
       "border": "dashed 0.2px green",
       "display": "flex",
       "flex_flow": "row",
       "grid_auto_columns": "True",
       "justify_content": "flex-start",
       "width": "100%"
      }
     },
     "9168f54991d74c1eb0427e62abe0303e": {
      "model_module": "@jupyter-widgets/controls",
      "model_module_version": "1.5.0",
      "model_name": "HBoxModel",
      "state": {
       "children": [
        "IPY_MODEL_ed5264c61b22428ca3d434db5a56254b",
        "IPY_MODEL_1c667f8bcd2448179295c78079829cf3",
        "IPY_MODEL_7feebf3aeaae418a8e2bd9d45360a87f"
       ],
       "layout": "IPY_MODEL_1a407bbcf4db4fc2b90328b66c94b997"
      }
     },
     "9188dfa038284561adf088e05b63775c": {
      "model_module": "@jupyter-widgets/controls",
      "model_module_version": "1.5.0",
      "model_name": "DescriptionStyleModel",
      "state": {
       "description_width": ""
      }
     },
     "919c7f9c858444ca8e122214abff614c": {
      "model_module": "@jupyter-widgets/controls",
      "model_module_version": "1.5.0",
      "model_name": "HBoxModel",
      "state": {
       "children": [
        "IPY_MODEL_986032b813c244439b3e294be9418f48",
        "IPY_MODEL_799dfee525844aa994a7fe69e9bcd15b"
       ],
       "layout": "IPY_MODEL_6eb54fa10dc04f97b85c8ef8b11c5e65"
      }
     },
     "91ac9b700d0b4d97a9686affac85ad64": {
      "model_module": "@jupyter-widgets/controls",
      "model_module_version": "1.5.0",
      "model_name": "HBoxModel",
      "state": {
       "children": [
        "IPY_MODEL_3569e147ae634fd7a5acaa9d2c6ab41b",
        "IPY_MODEL_f2647b705ff6466ab095201d7326c83e"
       ],
       "layout": "IPY_MODEL_c0c9c67192e746829d37504791809ba0"
      }
     },
     "91d6bba727cb4022b81e47efda5ab7e3": {
      "model_module": "@jupyter-widgets/base",
      "model_module_version": "1.2.0",
      "model_name": "LayoutModel",
      "state": {
       "align_items": "stretch",
       "border": "dashed 0.2px green",
       "display": "flex",
       "flex_flow": "row",
       "grid_auto_columns": "True",
       "justify_content": "flex-start",
       "width": "100%"
      }
     },
     "920ff30fb3ba4e7d98630cb146b5f43a": {
      "model_module": "@jupyter-widgets/controls",
      "model_module_version": "1.5.0",
      "model_name": "HTMLModel",
      "state": {
       "layout": "IPY_MODEL_dbe7f741ddb94a93b05b88642be73376",
       "style": "IPY_MODEL_1bb33e114db748c4ae5e1e63df2a7790",
       "value": "<p>total volume of water within the closed mechanical system</p>"
      }
     },
     "9239e0bae5b74b57917fcc75a34f83f3": {
      "model_module": "@jupyter-widgets/base",
      "model_module_version": "1.2.0",
      "model_name": "LayoutModel",
      "state": {}
     },
     "92783bebb3184cdd98652b0d01ac8322": {
      "model_module": "@jupyter-widgets/base",
      "model_module_version": "1.2.0",
      "model_name": "LayoutModel",
      "state": {}
     },
     "92a6bd4db2ac40f9a23bb86646f99336": {
      "model_module": "@jupyter-widgets/base",
      "model_module_version": "1.2.0",
      "model_name": "LayoutModel",
      "state": {}
     },
     "93607bb23c5f4ad48736abdcf490df2d": {
      "model_module": "@jupyter-widgets/base",
      "model_module_version": "1.2.0",
      "model_name": "LayoutModel",
      "state": {
       "width": "100%"
      }
     },
     "9436dd42b07845c8883230a34706082d": {
      "model_module": "@jupyter-widgets/controls",
      "model_module_version": "1.5.0",
      "model_name": "DescriptionStyleModel",
      "state": {
       "description_width": ""
      }
     },
     "94620d3608af4848816ceff98eeb73d8": {
      "model_module": "@jupyter-widgets/output",
      "model_module_version": "1.0.0",
      "model_name": "OutputModel",
      "state": {
       "layout": "IPY_MODEL_38266a4653114aa49c8988114c4e7040"
      }
     },
     "94829df7e1224d2a9d4aa9caff22a5af": {
      "model_module": "@jupyter-widgets/controls",
      "model_module_version": "1.5.0",
      "model_name": "ButtonStyleModel",
      "state": {
       "font_weight": "bold"
      }
     },
     "9526de4ad062466284e94bbaf8f8b4ac": {
      "model_module": "@jupyter-widgets/controls",
      "model_module_version": "1.5.0",
      "model_name": "VBoxModel",
      "state": {
       "children": [
        "IPY_MODEL_f206b7b47519479192d3cc613382b72e",
        "IPY_MODEL_fe5cac5e36e84e48945213af3e7117b3",
        "IPY_MODEL_3b62de4732ab454ab1b8c8b3ab783732"
       ],
       "layout": "IPY_MODEL_6ccf2eb6d4124820aa4adbceb8b7f36c"
      }
     },
     "95c649791ae04d6a8e11f457b5be1cce": {
      "model_module": "@jupyter-widgets/base",
      "model_module_version": "1.2.0",
      "model_name": "LayoutModel",
      "state": {
       "display": "flex",
       "flex_flow": "row",
       "grid_auto_columns": "False",
       "justify_content": "flex-start",
       "width": "100%"
      }
     },
     "961589f53d2d42ee982a436285655d69": {
      "model_module": "@jupyter-widgets/controls",
      "model_module_version": "1.5.0",
      "model_name": "DescriptionStyleModel",
      "state": {
       "description_width": ""
      }
     },
     "96292200abaf4eb78213a56bf654d1b9": {
      "model_module": "@jupyter-widgets/controls",
      "model_module_version": "1.5.0",
      "model_name": "ButtonModel",
      "state": {
       "button_style": "info",
       "description": "preview outputs",
       "layout": "IPY_MODEL_f969fd6f585944aaa0277d7fb829274d",
       "style": "IPY_MODEL_635b83d080c6473e9cd1739bb8f1d653",
       "tooltip": "show a preview of the output files generated when the script runs"
      }
     },
     "96320e3ab63d498da0edc90b7a2abefa": {
      "model_module": "@jupyter-widgets/base",
      "model_module_version": "1.2.0",
      "model_name": "LayoutModel",
      "state": {}
     },
     "964c1e2272e14858b2a381e7a1f0f252": {
      "model_module": "@jupyter-widgets/base",
      "model_module_version": "1.2.0",
      "model_name": "LayoutModel",
      "state": {
       "height": "30px",
       "width": "auto"
      }
     },
     "9665e9d6c30643f2aee1acdee0083aa3": {
      "model_module": "@jupyter-widgets/controls",
      "model_module_version": "1.5.0",
      "model_name": "FloatTextModel",
      "state": {
       "layout": "IPY_MODEL_cc3271b869734e5991b5f63e6b988099",
       "step": null,
       "style": "IPY_MODEL_e6747c48406d4468b3f0d1eb35a92495",
       "value": 257
      }
     },
     "969b1e5a26e44924863fa170607d6ec8": {
      "model_module": "@jupyter-widgets/base",
      "model_module_version": "1.2.0",
      "model_name": "LayoutModel",
      "state": {
       "align_items": "stretch",
       "display": "flex",
       "flex_flow": "row",
       "grid_auto_columns": "True",
       "justify_content": "flex-end",
       "width": "90%"
      }
     },
     "9776267a5fdf43d58950f9f49bc79f86": {
      "model_module": "@jupyter-widgets/base",
      "model_module_version": "1.2.0",
      "model_name": "LayoutModel",
      "state": {}
     },
     "977b25d9af9d4ca896dfb78daea24252": {
      "model_module": "@jupyter-widgets/controls",
      "model_module_version": "1.5.0",
      "model_name": "HTMLModel",
      "state": {
       "layout": "IPY_MODEL_a3eb8cbbfaf7473ca7a266c2867c15e5",
       "style": "IPY_MODEL_e3a6fb40430c4a288a01ad2e17ea9578",
       "value": "<p>Expansion vessel acceptance factor (= additional volume / expansion vessel volume):</p>"
      }
     },
     "97b9d260d99b437f8f84f7c1d5fa064c": {
      "model_module": "@jupyter-widgets/base",
      "model_module_version": "1.2.0",
      "model_name": "LayoutModel",
      "state": {}
     },
     "986032b813c244439b3e294be9418f48": {
      "model_module": "@jupyter-widgets/controls",
      "model_module_version": "1.5.0",
      "model_name": "FloatTextModel",
      "state": {
       "layout": "IPY_MODEL_117197ce200f446da1baf07e86f0e976",
       "step": null,
       "style": "IPY_MODEL_e4f042a6765840a490ce7e1254063091",
       "value": 20
      }
     },
     "987baeb2b80943a190bc3b9d9765f661": {
      "model_module": "@jupyter-widgets/controls",
      "model_module_version": "1.5.0",
      "model_name": "ButtonModel",
      "state": {
       "icon": "question-circle",
       "layout": "IPY_MODEL_89c733b8669a4c25bdf65ce126d9b416",
       "style": "IPY_MODEL_0c66b3715f1541d78ac140fdff5a8ccf",
       "tooltip": "describes the functionality of elements in the RunApp interface"
      }
     },
     "990c546093fd4f4187c0d6019e7c0f49": {
      "model_module": "@jupyter-widgets/controls",
      "model_module_version": "1.5.0",
      "model_name": "DescriptionStyleModel",
      "state": {
       "description_width": ""
      }
     },
     "9912a4791755465a9aa287f8c0a2749a": {
      "model_module": "@jupyter-widgets/controls",
      "model_module_version": "1.5.0",
      "model_name": "FloatTextModel",
      "state": {
       "layout": "IPY_MODEL_dafb0efd9b4c452789dcb7db1c3cef6a",
       "step": null,
       "style": "IPY_MODEL_6abd7faf2fc24b3dad5a0d3e48046130",
       "value": 48
      }
     },
     "9997f313825b44c9871ab4f3f1b01711": {
      "model_module": "@jupyter-widgets/controls",
      "model_module_version": "1.5.0",
      "model_name": "FloatSliderModel",
      "state": {
       "layout": "IPY_MODEL_f2dc2be0df3e4c5489ab428522548587",
       "max": 1,
       "step": 0.1,
       "style": "IPY_MODEL_3805b99bdecb496ca4392b0bfacb07f8",
       "value": 0.3
      }
     },
     "99a9e62cd9774dce9710e467022369da": {
      "model_module": "@jupyter-widgets/base",
      "model_module_version": "1.2.0",
      "model_name": "LayoutModel",
      "state": {}
     },
     "99fdeb687dfb4d9485140a06763bac9c": {
      "model_module": "@jupyter-widgets/base",
      "model_module_version": "1.2.0",
      "model_name": "LayoutModel",
      "state": {
       "align_items": "stretch",
       "display": "flex",
       "flex_flow": "row",
       "grid_auto_columns": "True",
       "justify_content": "flex-end",
       "width": "90%"
      }
     },
     "9b41541702914d6fa5325c740cfd0834": {
      "model_module": "@jupyter-widgets/base",
      "model_module_version": "1.2.0",
      "model_name": "LayoutModel",
      "state": {}
     },
     "9cf9c2108a864edabd8df00cad24c5de": {
      "model_module": "@jupyter-widgets/controls",
      "model_module_version": "1.5.0",
      "model_name": "HTMLModel",
      "state": {
       "layout": "IPY_MODEL_71c9cd5fc2074f359cf5ec295f946e2d",
       "style": "IPY_MODEL_ebe08645f75d42429f116083000f003a",
       "value": "<p>effective pipework pressure loss (Pa/m)</p>"
      }
     },
     "9d1a015a83fd4f53a8acfc81b2001a0f": {
      "model_module": "@jupyter-widgets/controls",
      "model_module_version": "1.5.0",
      "model_name": "HTMLModel",
      "state": {
       "layout": "IPY_MODEL_37b4f41477a645478411478f4b5f7488",
       "style": "IPY_MODEL_749a1e035a044c0bbb43f2d0d04a49ad"
      }
     },
     "9d8d59cf27624045885c059e85f90019": {
      "model_module": "@jupyter-widgets/controls",
      "model_module_version": "1.5.0",
      "model_name": "ButtonModel",
      "state": {
       "description": "load",
       "icon": "upload",
       "layout": "IPY_MODEL_6cf1dbdd979a431eb26fd7d223c98803",
       "style": "IPY_MODEL_255303382a884250bd9be555560fda2a"
      }
     },
     "9e038739e17d44f89dbd266451bd83db": {
      "model_module": "@jupyter-widgets/controls",
      "model_module_version": "1.5.0",
      "model_name": "HTMLModel",
      "state": {
       "layout": "IPY_MODEL_731ff104e7fc4f17a1e0c86800683963",
       "style": "IPY_MODEL_caeee585c3be49d7a588d1899e7c52d5",
       "value": "<p>From BS7074. The max between this and: 0.15 * static_pressure_barg  is used (Paul Button rule of thumb)</p>"
      }
     },
     "9e249e394d394d60b3e813642d0c20d4": {
      "model_module": "@jupyter-widgets/controls",
      "model_module_version": "1.5.0",
      "model_name": "TextModel",
      "state": {
       "description": "script",
       "disabled": true,
       "layout": "IPY_MODEL_67e0c1e42f58469f98bece5300839165",
       "style": "IPY_MODEL_54a5f735f9de48f8950f00ae060cc1cd",
       "value": "C:\\engDev\\git_mf\\ipyrun\\examples\\scripts\\expansion_vessel_sizing.py"
      }
     },
     "9e2c2a3c151f47228bb601ef2f403d18": {
      "model_module": "@jupyter-widgets/base",
      "model_module_version": "1.2.0",
      "model_name": "LayoutModel",
      "state": {}
     },
     "9fc861cc75e943a6ab87f9e5dc10e179": {
      "model_module": "@jupyter-widgets/base",
      "model_module_version": "1.2.0",
      "model_name": "LayoutModel",
      "state": {
       "height": "30px",
       "width": "auto"
      }
     },
     "a077b4faafb04adab0fad9392ba38da0": {
      "model_module": "@jupyter-widgets/base",
      "model_module_version": "1.2.0",
      "model_name": "LayoutModel",
      "state": {}
     },
     "a09654c6c0d44e7dad5fb9f651d7356f": {
      "model_module": "@jupyter-widgets/controls",
      "model_module_version": "1.5.0",
      "model_name": "VBoxModel",
      "state": {
       "children": [
        "IPY_MODEL_c94d1bcd69f44df7acda8305b96e74f1",
        "IPY_MODEL_9d1a015a83fd4f53a8acfc81b2001a0f",
        "IPY_MODEL_18ec96dee5094ff8ba2f9a34f3097722"
       ],
       "layout": "IPY_MODEL_00ed3fbb6710441889c0ccfddf2f897c"
      }
     },
     "a0fcf6649bf347f1b1e26469a332c212": {
      "model_module": "@jupyter-widgets/base",
      "model_module_version": "1.2.0",
      "model_name": "LayoutModel",
      "state": {}
     },
     "a146f4fd9ae144e89975d8fce7108918": {
      "model_module": "@jupyter-widgets/controls",
      "model_module_version": "1.5.0",
      "model_name": "FloatTextModel",
      "state": {
       "layout": "IPY_MODEL_e7d6036aaebb4651af62cdf4e4150bed",
       "step": null,
       "style": "IPY_MODEL_05a37b1369be47ca9eee7357290fd82d",
       "value": 48
      }
     },
     "a16209dd1fc54f75b70ac23e8586bda1": {
      "model_module": "@jupyter-widgets/base",
      "model_module_version": "1.2.0",
      "model_name": "LayoutModel",
      "state": {}
     },
     "a2807fb9655e4144866b8d48e0386119": {
      "model_module": "@jupyter-widgets/controls",
      "model_module_version": "1.5.0",
      "model_name": "DescriptionStyleModel",
      "state": {
       "description_width": ""
      }
     },
     "a2b4eaff874f47a58c198936949100f2": {
      "model_module": "@jupyter-widgets/base",
      "model_module_version": "1.2.0",
      "model_name": "LayoutModel",
      "state": {
       "align_items": "stretch",
       "display": "flex",
       "flex_flow": "row",
       "grid_auto_columns": "True",
       "justify_content": "flex-end",
       "width": "90%"
      }
     },
     "a2c0fb3dcfc44e55897f79b4386b336e": {
      "model_module": "@jupyter-widgets/base",
      "model_module_version": "1.2.0",
      "model_name": "LayoutModel",
      "state": {}
     },
     "a307c36f195e42299c14baae6ddf2218": {
      "model_module": "@jupyter-widgets/controls",
      "model_module_version": "1.5.0",
      "model_name": "FloatTextModel",
      "state": {
       "layout": "IPY_MODEL_3c906e4fd78646c0892878726366528b",
       "step": null,
       "style": "IPY_MODEL_e33084185a344efaa3122695b45457ad",
       "value": 500
      }
     },
     "a33ed2be9a38441fb409e115e09f82ed": {
      "model_module": "@jupyter-widgets/base",
      "model_module_version": "1.2.0",
      "model_name": "LayoutModel",
      "state": {}
     },
     "a39d50c20d2a44979a27aa89e3451804": {
      "model_module": "@jupyter-widgets/controls",
      "model_module_version": "1.5.0",
      "model_name": "DescriptionStyleModel",
      "state": {
       "description_width": ""
      }
     },
     "a3cfb80b7d2c498ab59207419053aac0": {
      "model_module": "@jupyter-widgets/controls",
      "model_module_version": "1.5.0",
      "model_name": "DescriptionStyleModel",
      "state": {
       "description_width": ""
      }
     },
     "a3eb8cbbfaf7473ca7a266c2867c15e5": {
      "model_module": "@jupyter-widgets/base",
      "model_module_version": "1.2.0",
      "model_name": "LayoutModel",
      "state": {}
     },
     "a44f81fd15844559a1bf8fd9d9059986": {
      "model_module": "@jupyter-widgets/output",
      "model_module_version": "1.0.0",
      "model_name": "OutputModel",
      "state": {
       "layout": "IPY_MODEL_c70c6654848947be8413aa081229dc11"
      }
     },
     "a48dffac538548f9a548d33010283bc6": {
      "model_module": "@jupyter-widgets/controls",
      "model_module_version": "1.5.0",
      "model_name": "AccordionModel",
      "state": {
       "_titles": {
        "0": "expansion_vessel_sizing"
       },
       "children": [
        "IPY_MODEL_5dd28f8b97d946b584bb419a57649541"
       ],
       "layout": "IPY_MODEL_ca0a9d133d904eebad50494eb9734014",
       "selected_index": null
      }
     },
     "a4f53368ef104781a68910240982bd65": {
      "model_module": "@jupyter-widgets/base",
      "model_module_version": "1.2.0",
      "model_name": "LayoutModel",
      "state": {}
     },
     "a55014ce0deb4138a6ff2697f26cf7e1": {
      "model_module": "@jupyter-widgets/base",
      "model_module_version": "1.2.0",
      "model_name": "LayoutModel",
      "state": {}
     },
     "a5bf88494b07497e9337db5b02accfac": {
      "model_module": "@jupyter-widgets/base",
      "model_module_version": "1.2.0",
      "model_name": "LayoutModel",
      "state": {}
     },
     "a6b6eddaa01f4669be1199b8441d1325": {
      "model_module": "@jupyter-widgets/base",
      "model_module_version": "1.2.0",
      "model_name": "LayoutModel",
      "state": {}
     },
     "a6f41f2502b049f0b55102682916ff98": {
      "model_module": "@jupyter-widgets/controls",
      "model_module_version": "1.5.0",
      "model_name": "ButtonStyleModel",
      "state": {
       "font_weight": "bold"
      }
     },
     "a7072f13d357481f94c86f563a318d7c": {
      "model_module": "@jupyter-widgets/base",
      "model_module_version": "1.2.0",
      "model_name": "LayoutModel",
      "state": {}
     },
     "a769274b20f043689d60f4bf2a047e08": {
      "model_module": "@jupyter-widgets/base",
      "model_module_version": "1.2.0",
      "model_name": "LayoutModel",
      "state": {
       "display": "flex",
       "flex_flow": "row",
       "grid_auto_columns": "False",
       "justify_content": "flex-start",
       "width": "100%"
      }
     },
     "a78211f6545c4c3ba94d50a28b375732": {
      "model_module": "@jupyter-widgets/base",
      "model_module_version": "1.2.0",
      "model_name": "LayoutModel",
      "state": {
       "align_items": "stretch",
       "display": "flex",
       "flex_flow": "row",
       "grid_auto_columns": "True",
       "justify_content": "flex-end",
       "width": "90%"
      }
     },
     "a7c7504fa10f47008d1672a480e0749f": {
      "model_module": "@jupyter-widgets/controls",
      "model_module_version": "1.5.0",
      "model_name": "DescriptionStyleModel",
      "state": {
       "description_width": ""
      }
     },
     "a7dde4cbf0434f8994e3b2c4bf94a52c": {
      "model_module": "@jupyter-widgets/controls",
      "model_module_version": "1.5.0",
      "model_name": "DescriptionStyleModel",
      "state": {
       "description_width": ""
      }
     },
     "a819fc0668984af1bf76c3d8492c363d": {
      "model_module": "@jupyter-widgets/base",
      "model_module_version": "1.2.0",
      "model_name": "LayoutModel",
      "state": {}
     },
     "a81d52b0a6854b71b4e1d58a5f73c203": {
      "model_module": "@jupyter-widgets/controls",
      "model_module_version": "1.5.0",
      "model_name": "FloatSliderModel",
      "state": {
       "layout": "IPY_MODEL_3bed479c24d44bbda9a91b0945fafc7d",
       "max": 1,
       "step": 0.1,
       "style": "IPY_MODEL_ba167258bf6c4cfa81a6cd2425bd8a8f",
       "value": 0.3
      }
     },
     "a86e8d99cc584cf7a05b603868ea43ff": {
      "model_module": "@jupyter-widgets/base",
      "model_module_version": "1.2.0",
      "model_name": "LayoutModel",
      "state": {}
     },
     "a8c8bffec77a4ec4af2a04a0f5765f22": {
      "model_module": "@jupyter-widgets/controls",
      "model_module_version": "1.5.0",
      "model_name": "DescriptionStyleModel",
      "state": {
       "description_width": ""
      }
     },
     "a93c336f22ee45ef8093b234d3d173ee": {
      "model_module": "@jupyter-widgets/controls",
      "model_module_version": "1.5.0",
      "model_name": "HTMLModel",
      "state": {
       "layout": "IPY_MODEL_889b7816afd24f7db73b0a528bd454bc",
       "style": "IPY_MODEL_7a0d39bb3fce4fffa92a87b54643ca42",
       "value": "<p>sensitivity factor</p>"
      }
     },
     "a9a62a7ce88848d381bd1f22206f3be5": {
      "model_module": "@jupyter-widgets/base",
      "model_module_version": "1.2.0",
      "model_name": "LayoutModel",
      "state": {
       "height": "30px",
       "max_width": "30px",
       "padding": "3px"
      }
     },
     "aa4c3622658e44729a789791a12a92f0": {
      "model_module": "@jupyter-widgets/base",
      "model_module_version": "1.2.0",
      "model_name": "LayoutModel",
      "state": {}
     },
     "aa669fb5e988405da7a5770e06bbd605": {
      "model_module": "@jupyter-widgets/output",
      "model_module_version": "1.0.0",
      "model_name": "OutputModel",
      "state": {
       "layout": "IPY_MODEL_b98df33680a64494b749a3cf490e033f"
      }
     },
     "aa92e70b74f74a45a5ba79eac57ae96c": {
      "model_module": "@jupyter-widgets/controls",
      "model_module_version": "1.5.0",
      "model_name": "HTMLModel",
      "state": {
       "layout": "IPY_MODEL_f74c92776b7849f18247aa080f68f0e3",
       "style": "IPY_MODEL_7e62ebbb526145cf8634d5da0d270e58",
       "value": "<p>water_volume_m3</p>"
      }
     },
     "ab098714e78e4f99aadb71eed378b4d9": {
      "model_module": "@jupyter-widgets/base",
      "model_module_version": "1.2.0",
      "model_name": "LayoutModel",
      "state": {}
     },
     "ab30aa3e58664d40b4a2c90a79dbc2ca": {
      "model_module": "@jupyter-widgets/controls",
      "model_module_version": "1.5.0",
      "model_name": "DescriptionStyleModel",
      "state": {
       "description_width": ""
      }
     },
     "ab87dc530b2b4fbf9f4a677f60cf6c98": {
      "model_module": "@jupyter-widgets/base",
      "model_module_version": "1.2.0",
      "model_name": "LayoutModel",
      "state": {
       "align_items": "stretch",
       "display": "flex",
       "flex_flow": "row",
       "grid_auto_columns": "True",
       "justify_content": "flex-end",
       "width": "90%"
      }
     },
     "abb36ad158ed4c978ae5d22cc1d90b29": {
      "model_module": "@jupyter-widgets/base",
      "model_module_version": "1.2.0",
      "model_name": "LayoutModel",
      "state": {}
     },
     "abc9eb3532694a2c9456799e80f84dcb": {
      "model_module": "@jupyter-widgets/base",
      "model_module_version": "1.2.0",
      "model_name": "LayoutModel",
      "state": {}
     },
     "ac2f2d7ea30a4e5098c0843e0bfaf0ef": {
      "model_module": "@jupyter-widgets/base",
      "model_module_version": "1.2.0",
      "model_name": "LayoutModel",
      "state": {}
     },
     "ac7aca73893d4105bfe897ed1a76577b": {
      "model_module": "@jupyter-widgets/base",
      "model_module_version": "1.2.0",
      "model_name": "LayoutModel",
      "state": {
       "align_items": "stretch",
       "border": "dashed 0.2px green",
       "display": "flex",
       "flex_flow": "row",
       "grid_auto_columns": "True",
       "justify_content": "flex-start",
       "width": "100%"
      }
     },
     "acc61cf7521042d1b9e810ccba5e646f": {
      "model_module": "@jupyter-widgets/controls",
      "model_module_version": "1.5.0",
      "model_name": "HTMLModel",
      "state": {
       "layout": "IPY_MODEL_8f140e0238bd450d9886e7c0f577fc12",
       "style": "IPY_MODEL_2227e117d3ee4c1b8dc7fc53d5c0f2ce",
       "value": "<p>height_difference_m</p>"
      }
     },
     "ad00b1b732db4711b327943981197b8b": {
      "model_module": "@jupyter-widgets/controls",
      "model_module_version": "1.5.0",
      "model_name": "HBoxModel",
      "state": {
       "children": [
        "IPY_MODEL_08ad68557f8b46cda22ec1de319ff22e"
       ],
       "layout": "IPY_MODEL_d42d803bd8254275821731045abbd895"
      }
     },
     "adcc04e0396e41849cdeac020fd16a14": {
      "model_module": "@jupyter-widgets/controls",
      "model_module_version": "1.5.0",
      "model_name": "FloatSliderModel",
      "state": {
       "layout": "IPY_MODEL_8172b911aa354886963d845b6204554c",
       "max": 2,
       "step": 0.1,
       "style": "IPY_MODEL_e8e43e8714984560bccd0b4018a900a3",
       "value": 1
      }
     },
     "ae0f8b5161474767900be3acbf4091ca": {
      "model_module": "@jupyter-widgets/base",
      "model_module_version": "1.2.0",
      "model_name": "LayoutModel",
      "state": {}
     },
     "ae2cee025a1d4bb9877818bb9ac3a5c9": {
      "model_module": "@jupyter-widgets/controls",
      "model_module_version": "1.5.0",
      "model_name": "HBoxModel",
      "state": {
       "children": [
        "IPY_MODEL_ebc715ac9f3b43ed82ae94f13ca948dd",
        "IPY_MODEL_3a355deef5b3467eb8d544ef850d9bd8"
       ],
       "layout": "IPY_MODEL_3499d23b548e4e419918d9ca5048317c"
      }
     },
     "ae5567913a5e44ff987778994d9dab69": {
      "model_module": "@jupyter-widgets/base",
      "model_module_version": "1.2.0",
      "model_name": "LayoutModel",
      "state": {
       "border": "0px",
       "margin": "0px",
       "padding": "0px"
      }
     },
     "ae7fcfe4d14249e4b748290239b454d9": {
      "model_module": "@jupyter-widgets/base",
      "model_module_version": "1.2.0",
      "model_name": "LayoutModel",
      "state": {
       "align_items": "stretch",
       "display": "flex",
       "flex_flow": "row",
       "grid_auto_columns": "True",
       "justify_content": "flex-start",
       "width": "80%"
      }
     },
     "aea6836d7a8d456ba5c8fe57cdd196e5": {
      "model_module": "@jupyter-widgets/controls",
      "model_module_version": "1.5.0",
      "model_name": "HBoxModel",
      "state": {
       "children": [
        "IPY_MODEL_acc61cf7521042d1b9e810ccba5e646f",
        "IPY_MODEL_ef29fbde2a4647bd9303533705235bdc"
       ],
       "layout": "IPY_MODEL_b4b20adf5e6142c3beffaaeeb1ae0452"
      }
     },
     "aeef7ee5fd804c9e838a375455e3da46": {
      "model_module": "@jupyter-widgets/base",
      "model_module_version": "1.2.0",
      "model_name": "LayoutModel",
      "state": {
       "align_items": "stretch",
       "display": "flex",
       "flex_flow": "row",
       "grid_auto_columns": "True",
       "justify_content": "flex-start",
       "width": "80%"
      }
     },
     "af8e8e9817134c138c6277123eec1536": {
      "model_module": "@jupyter-widgets/controls",
      "model_module_version": "1.5.0",
      "model_name": "ButtonModel",
      "state": {
       "button_style": "success",
       "description": "save changes",
       "layout": "IPY_MODEL_ca9b949ab17a46519f94a7c265fa46fa",
       "style": "IPY_MODEL_1944bf0b56a04e5f83eaa165ea85770d"
      }
     },
     "b01f1efcd1a44e8ca206731adef15b4f": {
      "model_module": "@jupyter-widgets/base",
      "model_module_version": "1.2.0",
      "model_name": "LayoutModel",
      "state": {
       "align_items": "stretch",
       "border": "dashed 0.2px green",
       "display": "flex",
       "flex_flow": "row",
       "grid_auto_columns": "True",
       "justify_content": "flex-start",
       "width": "100%"
      }
     },
     "b18e2113d0d54be79a6e295ab3c01db5": {
      "model_module": "@jupyter-widgets/output",
      "model_module_version": "1.0.0",
      "model_name": "OutputModel",
      "state": {
       "layout": "IPY_MODEL_7c7041464ef94b77b698b328bb4eee77"
      }
     },
     "b2a0ec5c739f4869822d5297686a7ec5": {
      "model_module": "@jupyter-widgets/base",
      "model_module_version": "1.2.0",
      "model_name": "LayoutModel",
      "state": {}
     },
     "b302a80e131c41b3af8383933de83c2a": {
      "model_module": "@jupyter-widgets/controls",
      "model_module_version": "1.5.0",
      "model_name": "VBoxModel",
      "state": {
       "children": [
        "IPY_MODEL_102ae805f06545bf99f822303e5fe5eb",
        "IPY_MODEL_799d58e6b92f4afab066f26f772f690d",
        "IPY_MODEL_244e612aaaf843599b805ac30c409eec",
        "IPY_MODEL_320e043174f845d79a9006d8164307ec",
        "IPY_MODEL_7b26f702e9154893b89ff883d9b19731",
        "IPY_MODEL_c38438775ccf4db68de79faa8dba8e2d",
        "IPY_MODEL_0267f9c36fe848e894161a3d6b9ca117"
       ],
       "layout": "IPY_MODEL_3f48397d64e64f0cac13b6189f4355d6"
      }
     },
     "b3cbd69397c14959a016d3bc16a65ece": {
      "model_module": "@jupyter-widgets/controls",
      "model_module_version": "1.5.0",
      "model_name": "HBoxModel",
      "state": {
       "children": [
        "IPY_MODEL_9997f313825b44c9871ab4f3f1b01711",
        "IPY_MODEL_dbcc5dc1d58b401fa96a31cf8967defc"
       ],
       "layout": "IPY_MODEL_ae7fcfe4d14249e4b748290239b454d9"
      }
     },
     "b3da0c1a06de479e8539d9773418bbeb": {
      "model_module": "@jupyter-widgets/controls",
      "model_module_version": "1.5.0",
      "model_name": "VBoxModel",
      "state": {
       "children": [
        "IPY_MODEL_fae09ef39c9140c0aa3e1fb4d41bdf37",
        "IPY_MODEL_272c08a233e846f78456309574a2cabe",
        "IPY_MODEL_4ea8df4432564ed2b83e8e6d0a00f8b5"
       ],
       "layout": "IPY_MODEL_a2c0fb3dcfc44e55897f79b4386b336e"
      }
     },
     "b48e1456983c42a2a60a806b321774cf": {
      "model_module": "@jupyter-widgets/controls",
      "model_module_version": "1.5.0",
      "model_name": "DescriptionStyleModel",
      "state": {
       "description_width": ""
      }
     },
     "b4968cd5a7a74da598ce9ef80c4006ee": {
      "model_module": "@jupyter-widgets/base",
      "model_module_version": "1.2.0",
      "model_name": "LayoutModel",
      "state": {}
     },
     "b4b20adf5e6142c3beffaaeeb1ae0452": {
      "model_module": "@jupyter-widgets/base",
      "model_module_version": "1.2.0",
      "model_name": "LayoutModel",
      "state": {
       "align_items": "stretch",
       "display": "flex",
       "flex_flow": "row",
       "grid_auto_columns": "True",
       "justify_content": "flex-end",
       "width": "90%"
      }
     },
     "b540a57799054c6a832c93663e86cee6": {
      "model_module": "@jupyter-widgets/base",
      "model_module_version": "1.2.0",
      "model_name": "LayoutModel",
      "state": {
       "display": "flex",
       "flex_flow": "row",
       "grid_auto_columns": "False",
       "justify_content": "flex-start",
       "width": "100%"
      }
     },
     "b58fe2da70d14c59bb646c0d67e65ab4": {
      "model_module": "@jupyter-widgets/base",
      "model_module_version": "1.2.0",
      "model_name": "LayoutModel",
      "state": {
       "align_items": "stretch",
       "border": "dashed 0.2px green",
       "display": "flex",
       "flex_flow": "row",
       "grid_auto_columns": "True",
       "justify_content": "flex-start",
       "width": "100%"
      }
     },
     "b5b28611d63b4ffbace1fb309ad097f1": {
      "model_module": "@jupyter-widgets/base",
      "model_module_version": "1.2.0",
      "model_name": "LayoutModel",
      "state": {}
     },
     "b61855290a4049989a9f12fbec74d377": {
      "model_module": "@jupyter-widgets/controls",
      "model_module_version": "1.5.0",
      "model_name": "HBoxModel",
      "state": {
       "children": [
        "IPY_MODEL_68f058ea0b4545da9221d41ec729d394",
        "IPY_MODEL_55735403018c43aebc499aacfbf2a394"
       ],
       "layout": "IPY_MODEL_56f188bf21614535af6c3ad6140ab673"
      }
     },
     "b6a8e9f8780b40088ce5d91e77d54d2f": {
      "model_module": "@jupyter-widgets/controls",
      "model_module_version": "1.5.0",
      "model_name": "FloatTextModel",
      "state": {
       "layout": "IPY_MODEL_eebb0e4a06ed47ef95dabb70cc151cbe",
       "step": null,
       "style": "IPY_MODEL_9188dfa038284561adf088e05b63775c",
       "value": 48
      }
     },
     "b6f05696618948469836d976183801f8": {
      "model_module": "@jupyter-widgets/controls",
      "model_module_version": "1.5.0",
      "model_name": "CheckboxModel",
      "state": {
       "disabled": false,
       "indent": false,
       "layout": "IPY_MODEL_f951a5f97c114df88063df38da9b393c",
       "style": "IPY_MODEL_2499c7e87640486a9af051a84b593508",
       "value": true
      }
     },
     "b72fb462dcd6465193216744f8bd0e13": {
      "model_module": "@jupyter-widgets/base",
      "model_module_version": "1.2.0",
      "model_name": "LayoutModel",
      "state": {}
     },
     "b7353f55d5cb4115bdc444eb2f20dd36": {
      "model_module": "@jupyter-widgets/base",
      "model_module_version": "1.2.0",
      "model_name": "LayoutModel",
      "state": {
       "width": "5%"
      }
     },
     "b7bcc602feaa45ad9ba0c00f84fe9279": {
      "model_module": "@jupyter-widgets/base",
      "model_module_version": "1.2.0",
      "model_name": "LayoutModel",
      "state": {
       "flex_flow": "column",
       "height": "auto",
       "width": "auto"
      }
     },
     "b826b6b1dfc64bd99871fcd33e9d673e": {
      "model_module": "@jupyter-widgets/output",
      "model_module_version": "1.0.0",
      "model_name": "OutputModel",
      "state": {
       "layout": "IPY_MODEL_3b987d0ccdbe4aae9ec5ab6e3f7b4cde"
      }
     },
     "b85182937e734ceb90c9023ab94c5015": {
      "model_module": "@jupyter-widgets/controls",
      "model_module_version": "1.5.0",
      "model_name": "DescriptionStyleModel",
      "state": {
       "description_width": ""
      }
     },
     "b9145b5f03d64ba5b9e24e68b937d7bb": {
      "model_module": "@jupyter-widgets/base",
      "model_module_version": "1.2.0",
      "model_name": "LayoutModel",
      "state": {
       "align_items": "stretch",
       "display": "flex",
       "flex_flow": "row",
       "grid_auto_columns": "True",
       "justify_content": "flex-start",
       "width": "80%"
      }
     },
     "b974ce8104304000a0188999569bded9": {
      "model_module": "@jupyter-widgets/base",
      "model_module_version": "1.2.0",
      "model_name": "LayoutModel",
      "state": {
       "align_items": "stretch",
       "border": "dashed 0.2px green",
       "display": "flex",
       "flex_flow": "row",
       "grid_auto_columns": "True",
       "justify_content": "flex-start",
       "width": "100%"
      }
     },
     "b988fa4f61cb4caf81386bef182afb6a": {
      "model_module": "@jupyter-widgets/output",
      "model_module_version": "1.0.0",
      "model_name": "OutputModel",
      "state": {
       "layout": "IPY_MODEL_97b9d260d99b437f8f84f7c1d5fa064c"
      }
     },
     "b98df33680a64494b749a3cf490e033f": {
      "model_module": "@jupyter-widgets/base",
      "model_module_version": "1.2.0",
      "model_name": "LayoutModel",
      "state": {}
     },
     "b98f67a504d64b2d829500e62859d38e": {
      "model_module": "@jupyter-widgets/controls",
      "model_module_version": "1.5.0",
      "model_name": "BoxModel",
      "state": {
       "children": [
        "IPY_MODEL_5637487195f54220b72917e7551292b2"
       ],
       "layout": "IPY_MODEL_9239e0bae5b74b57917fcc75a34f83f3"
      }
     },
     "b9db679ebd9945739563c583cc52b8ff": {
      "model_module": "@jupyter-widgets/base",
      "model_module_version": "1.2.0",
      "model_name": "LayoutModel",
      "state": {
       "align_items": "stretch",
       "display": "flex",
       "flex_flow": "row",
       "grid_auto_columns": "True",
       "justify_content": "flex-end",
       "width": "90%"
      }
     },
     "b9f8a92cb75d4383a4cbd7895fc622f5": {
      "model_module": "@jupyter-widgets/controls",
      "model_module_version": "1.5.0",
      "model_name": "AccordionModel",
      "state": {
       "_titles": {
        "0": "expansion_vessel_sizing_1"
       },
       "children": [
        "IPY_MODEL_d7ddb49bd94042b190bcb601b409a7bc"
       ],
       "layout": "IPY_MODEL_93607bb23c5f4ad48736abdcf490df2d",
       "selected_index": null
      }
     },
     "ba162c690a0d4e6f9e1d357c72d1a130": {
      "model_module": "@jupyter-widgets/controls",
      "model_module_version": "1.5.0",
      "model_name": "CheckboxModel",
      "state": {
       "disabled": false,
       "indent": false,
       "layout": "IPY_MODEL_7c663d4bffaf444fb5d4dc919bd45b27",
       "style": "IPY_MODEL_a7c7504fa10f47008d1672a480e0749f",
       "value": true
      }
     },
     "ba167258bf6c4cfa81a6cd2425bd8a8f": {
      "model_module": "@jupyter-widgets/controls",
      "model_module_version": "1.5.0",
      "model_name": "SliderStyleModel",
      "state": {
       "description_width": ""
      }
     },
     "ba18c7175e794b6a8f41104f42f4befa": {
      "model_module": "@jupyter-widgets/base",
      "model_module_version": "1.2.0",
      "model_name": "LayoutModel",
      "state": {
       "align_items": "stretch",
       "border": "dashed 0.2px green",
       "display": "flex",
       "flex_flow": "row",
       "grid_auto_columns": "True",
       "justify_content": "flex-start",
       "width": "100%"
      }
     },
     "ba207298f34d4123b621cc90a28ea3e0": {
      "model_module": "@jupyter-widgets/output",
      "model_module_version": "1.0.0",
      "model_name": "OutputModel",
      "state": {
       "layout": "IPY_MODEL_88240b0f45c941a58dde2b80b16319e6"
      }
     },
     "bac30018a44d438a88e2646571a1cdb6": {
      "model_module": "@jupyter-widgets/controls",
      "model_module_version": "1.5.0",
      "model_name": "DescriptionStyleModel",
      "state": {
       "description_width": ""
      }
     },
     "baf7d38a34064de2934bc21f7a95f388": {
      "model_module": "@jupyter-widgets/base",
      "model_module_version": "1.2.0",
      "model_name": "LayoutModel",
      "state": {}
     },
     "bb027fb683eb41c6af9789c528b48de8": {
      "model_module": "@jupyter-widgets/output",
      "model_module_version": "1.0.0",
      "model_name": "OutputModel",
      "state": {
       "layout": "IPY_MODEL_416ea8ba3e5144f6a884fc79ac2d7ffb"
      }
     },
     "bbb2956babb043c9937f0864bbf4454a": {
      "model_module": "@jupyter-widgets/base",
      "model_module_version": "1.2.0",
      "model_name": "LayoutModel",
      "state": {}
     },
     "bc5048b5c4854c83845554e72fe5f419": {
      "model_module": "@jupyter-widgets/controls",
      "model_module_version": "1.5.0",
      "model_name": "HTMLModel",
      "state": {
       "layout": "IPY_MODEL_b72fb462dcd6465193216744f8bd0e13",
       "style": "IPY_MODEL_8a76cfef6e8a42d5ad80c9dde7d2b117",
       "value": "<p>edit user input form below</p>"
      }
     },
     "bcada88ef65b4f0188322cc48a273aa9": {
      "model_module": "@jupyter-widgets/base",
      "model_module_version": "1.2.0",
      "model_name": "LayoutModel",
      "state": {
       "height": "30px",
       "width": "auto"
      }
     },
     "bcbda6fc014c4396b1ffa04c33a875a6": {
      "model_module": "@jupyter-widgets/controls",
      "model_module_version": "1.5.0",
      "model_name": "DescriptionStyleModel",
      "state": {
       "description_width": ""
      }
     },
     "bcf7f7420705475cab608a477f561876": {
      "model_module": "@jupyter-widgets/controls",
      "model_module_version": "1.5.0",
      "model_name": "HBoxModel",
      "state": {
       "children": [
        "IPY_MODEL_2522c702f1f24978a4e6dd0f12628b68",
        "IPY_MODEL_b3cbd69397c14959a016d3bc16a65ece"
       ],
       "layout": "IPY_MODEL_6cd9a01a02054d4b9a4fc020f6e36b41"
      }
     },
     "be218534608743558adfd883213422be": {
      "model_module": "@jupyter-widgets/controls",
      "model_module_version": "1.5.0",
      "model_name": "ButtonStyleModel",
      "state": {
       "font_weight": "bold"
      }
     },
     "bea01a0612044db59b44afc272b1b7a3": {
      "model_module": "@jupyter-widgets/output",
      "model_module_version": "1.0.0",
      "model_name": "OutputModel",
      "state": {
       "layout": "IPY_MODEL_75874cd547c042b1bca20538e17fd014"
      }
     },
     "c055fefd44404880bff61148aa6a93c2": {
      "model_module": "@jupyter-widgets/base",
      "model_module_version": "1.2.0",
      "model_name": "LayoutModel",
      "state": {}
     },
     "c0a614f94e5647938f439f6fef93c1c3": {
      "model_module": "@jupyter-widgets/base",
      "model_module_version": "1.2.0",
      "model_name": "LayoutModel",
      "state": {
       "align_items": "stretch",
       "border": "dashed 0.2px green",
       "display": "flex",
       "flex_flow": "row",
       "grid_auto_columns": "True",
       "justify_content": "flex-start",
       "width": "100%"
      }
     },
     "c0ae4779794847869f6e5f954e2507b4": {
      "model_module": "@jupyter-widgets/controls",
      "model_module_version": "1.5.0",
      "model_name": "ButtonStyleModel",
      "state": {
       "font_weight": "bold"
      }
     },
     "c0c9c67192e746829d37504791809ba0": {
      "model_module": "@jupyter-widgets/base",
      "model_module_version": "1.2.0",
      "model_name": "LayoutModel",
      "state": {
       "align_items": "stretch",
       "display": "flex",
       "flex_flow": "row",
       "grid_auto_columns": "True",
       "justify_content": "flex-end",
       "width": "90%"
      }
     },
     "c11edfdcca884a2282114e9ce9dc39dc": {
      "model_module": "@jupyter-widgets/controls",
      "model_module_version": "1.5.0",
      "model_name": "ButtonStyleModel",
      "state": {
       "font_weight": "bold"
      }
     },
     "c1671961c441439b8f9cbab8bd604939": {
      "model_module": "@jupyter-widgets/controls",
      "model_module_version": "1.5.0",
      "model_name": "HTMLModel",
      "state": {
       "layout": "IPY_MODEL_e4287c1ebc8a4fdbadf79c0075adecf5",
       "style": "IPY_MODEL_482639c89c9241729945795975b37582",
       "value": "<p>pipework_pressure_loss_pa_per_m</p>"
      }
     },
     "c19a5f326ea8495c892233f9af65cf7e": {
      "model_module": "@jupyter-widgets/output",
      "model_module_version": "1.0.0",
      "model_name": "OutputModel",
      "state": {
       "layout": "IPY_MODEL_8351f843bca84420b41ca86a37c45f83"
      }
     },
     "c1ab2ebb6147402e9eef5f4bf39162bf": {
      "model_module": "@jupyter-widgets/controls",
      "model_module_version": "1.5.0",
      "model_name": "ButtonModel",
      "state": {
       "icon": "question-circle",
       "layout": "IPY_MODEL_801d63b20d274505818f44cd535ba2c1",
       "style": "IPY_MODEL_1741c7e9b3b14817ba921ddf61d90c9a",
       "tooltip": "describes the functionality of elements in the RunApp interface"
      }
     },
     "c24672e9be39478284fd442568a4c50a": {
      "model_module": "@jupyter-widgets/controls",
      "model_module_version": "1.5.0",
      "model_name": "SliderStyleModel",
      "state": {
       "description_width": ""
      }
     },
     "c281b7c2c25a4471b9fec9587c740875": {
      "model_module": "@jupyter-widgets/base",
      "model_module_version": "1.2.0",
      "model_name": "LayoutModel",
      "state": {}
     },
     "c2abbd4627464c90bc5eea0a40ea1093": {
      "model_module": "@jupyter-widgets/output",
      "model_module_version": "1.0.0",
      "model_name": "OutputModel",
      "state": {
       "layout": "IPY_MODEL_a86e8d99cc584cf7a05b603868ea43ff"
      }
     },
     "c2c37b9f6558441b8cfe6d78a2f8f4ed": {
      "model_module": "@jupyter-widgets/controls",
      "model_module_version": "1.5.0",
      "model_name": "DescriptionStyleModel",
      "state": {
       "description_width": ""
      }
     },
     "c2e8c65eefc1424a97788ad111febe2b": {
      "model_module": "@jupyter-widgets/controls",
      "model_module_version": "1.5.0",
      "model_name": "RadioButtonsModel",
      "state": {
       "_options_labels": [
        "TEMPLATE: C:\\engDev\\git_mf\\ipyrun\\examples\\scripts\\template_inputs\\inputs-expansion_vessel_sizing.json",
        "PROJECT: C:\\engDev\\git_mf\\ipyrun\\examples\\notebooks\\appdata\\inputs\\inputs-expansion_vessel_sizing.json",
        "PROJECT: C:\\engDev\\git_mf\\ipyrun\\examples\\notebooks\\appdata\\inputs\\archive\\20200612_1731-jg-inputs-expansion_vessel_sizing.json",
        "PROJECT: C:\\engDev\\git_mf\\ipyrun\\examples\\notebooks\\appdata\\inputs\\archive\\20200612_1817-jg-inputs-expansion_vessel_sizing.json",
        "PROJECT: C:\\engDev\\git_mf\\ipyrun\\examples\\notebooks\\appdata\\inputs\\archive\\20200612_1818-jg-inputs-expansion_vessel_sizing.json",
        "PROJECT: C:\\engDev\\git_mf\\ipyrun\\examples\\notebooks\\appdata\\inputs\\archive\\20200612_1819-jg-inputs-expansion_vessel_sizing.json",
        "PROJECT: C:\\engDev\\git_mf\\ipyrun\\examples\\notebooks\\appdata\\inputs\\archive\\20200612_1900-jg-inputs-expansion_vessel_sizing.json",
        "PROJECT: C:\\engDev\\git_mf\\ipyrun\\examples\\notebooks\\appdata\\inputs\\archive\\20200615_2211-jg-inputs-expansion_vessel_sizing.json",
        "PROJECT: C:\\engDev\\git_mf\\ipyrun\\examples\\notebooks\\appdata\\inputs\\archive\\20200616_1020-jg-inputs-expansion_vessel_sizing.json",
        "PROJECT: C:\\engDev\\git_mf\\ipyrun\\examples\\notebooks\\appdata\\inputs\\archive\\20200616_1021-jg-inputs-expansion_vessel_sizing.json",
        "PROJECT: C:\\engDev\\git_mf\\ipyrun\\examples\\notebooks\\appdata\\inputs\\archive\\20200624_1101-jg-inputs-expansion_vessel_sizing.json"
       ],
       "index": 0,
       "layout": "IPY_MODEL_622fdf389c8946e19499b1203906ccbf",
       "style": "IPY_MODEL_653883c2848941e8a30373a000a3b313"
      }
     },
     "c2f685f97f83464382fcff0494b4e149": {
      "model_module": "@jupyter-widgets/base",
      "model_module_version": "1.2.0",
      "model_name": "LayoutModel",
      "state": {
       "align_items": "stretch",
       "display": "flex",
       "flex_flow": "row",
       "grid_auto_columns": "True",
       "justify_content": "flex-start",
       "width": "80%"
      }
     },
     "c325606cfa794f6ba623a423576801f8": {
      "model_module": "@jupyter-widgets/controls",
      "model_module_version": "1.5.0",
      "model_name": "ButtonModel",
      "state": {
       "icon": "eye-slash",
       "layout": "IPY_MODEL_1a958e42e3a947b8a8c410fe6313c302",
       "style": "IPY_MODEL_4e57329c4ae54352a25ae861cf1a995c",
       "tooltip": "removes temporary output view"
      }
     },
     "c3555500648f4a448d4dd18ae6a354e8": {
      "model_module": "@jupyter-widgets/controls",
      "model_module_version": "1.5.0",
      "model_name": "ButtonModel",
      "state": {
       "button_style": "info",
       "description": "show guide",
       "layout": "IPY_MODEL_564cf191186341f3b2f8875e280612e5",
       "style": "IPY_MODEL_78a6e6b2a9e44c888a4c6973c3a6c918",
       "tooltip": "read the \"docstring\", ie. the documentation that was written to accompany the script"
      }
     },
     "c38438775ccf4db68de79faa8dba8e2d": {
      "model_module": "@jupyter-widgets/controls",
      "model_module_version": "1.5.0",
      "model_name": "HBoxModel",
      "state": {
       "children": [
        "IPY_MODEL_1fd9a86fa21747149a92913a5baed63a"
       ],
       "layout": "IPY_MODEL_f82f392fee18490da64685eff4b157ee"
      }
     },
     "c3d6b01c840b4a86b61fdd8213c970f9": {
      "model_module": "@jupyter-widgets/base",
      "model_module_version": "1.2.0",
      "model_name": "LayoutModel",
      "state": {
       "align_items": "stretch",
       "display": "flex",
       "flex_flow": "row",
       "grid_auto_columns": "True",
       "justify_content": "flex-start",
       "width": "80%"
      }
     },
     "c4101e3ab7f146b597d7c531639b232b": {
      "model_module": "@jupyter-widgets/controls",
      "model_module_version": "1.5.0",
      "model_name": "HTMLModel",
      "state": {
       "layout": "IPY_MODEL_439917525f2248abbc092ab5ac7de9ed",
       "style": "IPY_MODEL_84c37261edfc43bbba13790f55390261",
       "value": "<p>pipework_pressure_loss_pa_per_m</p>"
      }
     },
     "c44a5388c73d492fb5c6ed4c07863514": {
      "model_module": "@jupyter-widgets/controls",
      "model_module_version": "1.5.0",
      "model_name": "DescriptionStyleModel",
      "state": {
       "description_width": ""
      }
     },
     "c470a127548841f3800d326cbc352c2a": {
      "model_module": "@jupyter-widgets/controls",
      "model_module_version": "1.5.0",
      "model_name": "HTMLModel",
      "state": {
       "layout": "IPY_MODEL_dad6d8b8c17b420bbb44ecf331fb6a02",
       "style": "IPY_MODEL_28022df400f6403f91750f145f943ff4",
       "value": "<p>pipework_length_m</p>"
      }
     },
     "c4ff219fe74b43e59d7edaeebf55ed63": {
      "model_module": "@jupyter-widgets/controls",
      "model_module_version": "1.5.0",
      "model_name": "HTMLModel",
      "state": {
       "layout": "IPY_MODEL_35eff4ca6d4e46b1818a797a8b126c34",
       "style": "IPY_MODEL_355c72f1f6f749d994b01b255da7e61f",
       "value": "<p>edit user input form below</p>"
      }
     },
     "c503cf6c17274a598b984a5b2f44b25f": {
      "model_module": "@jupyter-widgets/base",
      "model_module_version": "1.2.0",
      "model_name": "LayoutModel",
      "state": {
       "align_items": "stretch",
       "border": "dashed 0.2px green",
       "display": "flex",
       "flex_flow": "row",
       "grid_auto_columns": "True",
       "justify_content": "flex-start",
       "width": "100%"
      }
     },
     "c57e2aa6467644359c12bb66460573de": {
      "model_module": "@jupyter-widgets/controls",
      "model_module_version": "1.5.0",
      "model_name": "DescriptionStyleModel",
      "state": {
       "description_width": ""
      }
     },
     "c63e611e8b4f4f258569d8f4e9a089ce": {
      "model_module": "@jupyter-widgets/base",
      "model_module_version": "1.2.0",
      "model_name": "LayoutModel",
      "state": {}
     },
     "c6d3e3b447944d128ddbc7f4939792f3": {
      "model_module": "@jupyter-widgets/controls",
      "model_module_version": "1.5.0",
      "model_name": "ButtonModel",
      "state": {
       "button_style": "info",
       "description": "show guide",
       "layout": "IPY_MODEL_b2a0ec5c739f4869822d5297686a7ec5",
       "style": "IPY_MODEL_be218534608743558adfd883213422be",
       "tooltip": "read the \"docstring\", ie. the documentation that was written to accompany the script"
      }
     },
     "c70c6654848947be8413aa081229dc11": {
      "model_module": "@jupyter-widgets/base",
      "model_module_version": "1.2.0",
      "model_name": "LayoutModel",
      "state": {}
     },
     "c77f578ef75c4a1796bcd325b0ba0746": {
      "model_module": "@jupyter-widgets/output",
      "model_module_version": "1.0.0",
      "model_name": "OutputModel",
      "state": {
       "layout": "IPY_MODEL_4cbf343db98045f9bff1bcbbbc1f3cc2"
      }
     },
     "c7874169a085470a947da8accf30a65b": {
      "model_module": "@jupyter-widgets/controls",
      "model_module_version": "1.5.0",
      "model_name": "HBoxModel",
      "state": {
       "children": [
        "IPY_MODEL_5082294e313446ac95f24504044d017c"
       ],
       "layout": "IPY_MODEL_7bf9d0b28bdd4e29b7eb332b1d20d8f4"
      }
     },
     "c91f8803f51349cd8456745bc1320919": {
      "model_module": "@jupyter-widgets/base",
      "model_module_version": "1.2.0",
      "model_name": "LayoutModel",
      "state": {}
     },
     "c92b86f4857d4d6c842d68148661e7d6": {
      "model_module": "@jupyter-widgets/controls",
      "model_module_version": "1.5.0",
      "model_name": "SliderStyleModel",
      "state": {
       "description_width": ""
      }
     },
     "c94d1bcd69f44df7acda8305b96e74f1": {
      "model_module": "@jupyter-widgets/controls",
      "model_module_version": "1.5.0",
      "model_name": "HBoxModel",
      "state": {
       "children": [
        "IPY_MODEL_71946a2a7e9743598f2afa06cea0cbfc",
        "IPY_MODEL_1070807909c447ed98bd8eaa0baf7d3c",
        "IPY_MODEL_225819f049e84a6192c19672f895d9d9"
       ],
       "layout": "IPY_MODEL_103308d268ac4f7ba768e85d026ff567"
      }
     },
     "c98dc14a3868467cba2bcf674a8fc1c4": {
      "model_module": "@jupyter-widgets/base",
      "model_module_version": "1.2.0",
      "model_name": "LayoutModel",
      "state": {
       "align_items": "stretch",
       "border": "dashed 0.2px green",
       "display": "flex",
       "flex_flow": "row",
       "grid_auto_columns": "True",
       "justify_content": "flex-start",
       "width": "100%"
      }
     },
     "c9b9b06c7ded434b8bbc614ee070e457": {
      "model_module": "@jupyter-widgets/base",
      "model_module_version": "1.2.0",
      "model_name": "LayoutModel",
      "state": {}
     },
     "c9e7145630474b4ab075085ebb40b612": {
      "model_module": "@jupyter-widgets/base",
      "model_module_version": "1.2.0",
      "model_name": "LayoutModel",
      "state": {}
     },
     "c9ecd58167794440866d9c13c0150908": {
      "model_module": "@jupyter-widgets/base",
      "model_module_version": "1.2.0",
      "model_name": "LayoutModel",
      "state": {}
     },
     "ca0a9d133d904eebad50494eb9734014": {
      "model_module": "@jupyter-widgets/base",
      "model_module_version": "1.2.0",
      "model_name": "LayoutModel",
      "state": {
       "width": "100%"
      }
     },
     "ca571d1ec02c4188a53342b40a600381": {
      "model_module": "@jupyter-widgets/controls",
      "model_module_version": "1.5.0",
      "model_name": "ButtonModel",
      "state": {
       "button_style": "success",
       "description": "run",
       "layout": "IPY_MODEL_28bf8e38f4c1473b8d1357479b22081b",
       "style": "IPY_MODEL_a6f41f2502b049f0b55102682916ff98",
       "tooltip": "execute the script based on the user inputs"
      }
     },
     "ca9b949ab17a46519f94a7c265fa46fa": {
      "model_module": "@jupyter-widgets/base",
      "model_module_version": "1.2.0",
      "model_name": "LayoutModel",
      "state": {}
     },
     "caa9e4521fad4bb28da650de04a744fe": {
      "model_module": "@jupyter-widgets/output",
      "model_module_version": "1.0.0",
      "model_name": "OutputModel",
      "state": {
       "layout": "IPY_MODEL_18ed376a011a4818b2134c8eac98a54a"
      }
     },
     "cab7582e0ff04d75ba36218cf158643f": {
      "model_module": "@jupyter-widgets/controls",
      "model_module_version": "1.5.0",
      "model_name": "FloatSliderModel",
      "state": {
       "layout": "IPY_MODEL_316d97751d1d48c7b74b10923e87db64",
       "max": 2,
       "step": 0.1,
       "style": "IPY_MODEL_2971f21defaa4161a5387ee42d286d84",
       "value": 1
      }
     },
     "cae606a5efcb40c680ef61da9bc04d87": {
      "model_module": "@jupyter-widgets/controls",
      "model_module_version": "1.5.0",
      "model_name": "ButtonModel",
      "state": {
       "button_style": "info",
       "description": "show log",
       "layout": "IPY_MODEL_e342b74f4f644290b2ed7b0ec93237cf",
       "style": "IPY_MODEL_0e3e4d9903eb41449b1c0f53a4851c3c",
       "tooltip": "show a log of when the script was executed to generate the outputs, and by who"
      }
     },
     "caeee585c3be49d7a588d1899e7c52d5": {
      "model_module": "@jupyter-widgets/controls",
      "model_module_version": "1.5.0",
      "model_name": "DescriptionStyleModel",
      "state": {
       "description_width": ""
      }
     },
     "cb1a4ce35cf9473e980a8ce702bbe2b5": {
      "model_module": "@jupyter-widgets/controls",
      "model_module_version": "1.5.0",
      "model_name": "DescriptionStyleModel",
      "state": {
       "description_width": ""
      }
     },
     "cb20ff27121441fe87b05be179e47e25": {
      "model_module": "@jupyter-widgets/controls",
      "model_module_version": "1.5.0",
      "model_name": "HBoxModel",
      "state": {
       "children": [
        "IPY_MODEL_f6b1b147db2a4e2bb64feb7f5d846e68",
        "IPY_MODEL_ce785a3b0fa44a93832a73a845876513"
       ],
       "layout": "IPY_MODEL_37425a9c02f547d4981b8cef16a7e736"
      }
     },
     "cb364050c63747ef87fe54ddd647cac2": {
      "model_module": "@jupyter-widgets/base",
      "model_module_version": "1.2.0",
      "model_name": "LayoutModel",
      "state": {}
     },
     "cc3271b869734e5991b5f63e6b988099": {
      "model_module": "@jupyter-widgets/base",
      "model_module_version": "1.2.0",
      "model_name": "LayoutModel",
      "state": {}
     },
     "cc411bf6df3e4a53be0ae5eff04d3de6": {
      "model_module": "@jupyter-widgets/controls",
      "model_module_version": "1.5.0",
      "model_name": "VBoxModel",
      "state": {
       "children": [
        "IPY_MODEL_b98f67a504d64b2d829500e62859d38e",
        "IPY_MODEL_23833a6f0fe44435bbbf9c794e1b3306"
       ],
       "layout": "IPY_MODEL_9e2c2a3c151f47228bb601ef2f403d18"
      }
     },
     "cc459d2579c143d686020841c7ab0277": {
      "model_module": "@jupyter-widgets/controls",
      "model_module_version": "1.5.0",
      "model_name": "ButtonStyleModel",
      "state": {
       "font_weight": "bold"
      }
     },
     "cc8c457c7c104bf99a302d12938b6bea": {
      "model_module": "@jupyter-widgets/controls",
      "model_module_version": "1.5.0",
      "model_name": "ButtonModel",
      "state": {
       "button_style": "warning",
       "description": "edit inputs",
       "layout": "IPY_MODEL_625e6987c26f485d936e6a487342dd73",
       "style": "IPY_MODEL_03e4c006ab394e37852bc5e79fabc285",
       "tooltip": "edit the user input information that is used when the script is executed"
      }
     },
     "cd87642a136c40fd8d2dae87af80ea50": {
      "model_module": "@jupyter-widgets/controls",
      "model_module_version": "1.5.0",
      "model_name": "HBoxModel",
      "state": {
       "children": [
        "IPY_MODEL_ae2cee025a1d4bb9877818bb9ac3a5c9"
       ],
       "layout": "IPY_MODEL_b974ce8104304000a0188999569bded9"
      }
     },
     "ce2b9484e8f746e99c1f00bd7523ce59": {
      "model_module": "@jupyter-widgets/base",
      "model_module_version": "1.2.0",
      "model_name": "LayoutModel",
      "state": {}
     },
     "ce785a3b0fa44a93832a73a845876513": {
      "model_module": "@jupyter-widgets/controls",
      "model_module_version": "1.5.0",
      "model_name": "HBoxModel",
      "state": {
       "children": [
        "IPY_MODEL_326f733c87e546a09de4e58f9fb0c595",
        "IPY_MODEL_920ff30fb3ba4e7d98630cb146b5f43a"
       ],
       "layout": "IPY_MODEL_fe50b9913e0f4a4eb1c5e1d9300a5d84"
      }
     },
     "ce8035e6d0e7471f871e6389ba0c350d": {
      "model_module": "@jupyter-widgets/base",
      "model_module_version": "1.2.0",
      "model_name": "LayoutModel",
      "state": {
       "align_items": "stretch",
       "display": "flex",
       "flex_flow": "row",
       "grid_auto_columns": "True",
       "justify_content": "flex-end",
       "width": "90%"
      }
     },
     "cf831050453b4e0d9a36c0d6362c1c97": {
      "model_module": "@jupyter-widgets/controls",
      "model_module_version": "1.5.0",
      "model_name": "FloatSliderModel",
      "state": {
       "layout": "IPY_MODEL_fd5d17e6494e4ddbb734642dffeadaec",
       "max": 1,
       "step": 0.1,
       "style": "IPY_MODEL_57a75b493f164952826700558c7133c2",
       "value": 0.3
      }
     },
     "cfb89d32937c495190f6f60fdf2fb614": {
      "model_module": "@jupyter-widgets/base",
      "model_module_version": "1.2.0",
      "model_name": "LayoutModel",
      "state": {
       "align_items": "stretch",
       "border": "dashed 0.2px green",
       "display": "flex",
       "flex_flow": "row",
       "grid_auto_columns": "True",
       "justify_content": "flex-start",
       "width": "100%"
      }
     },
     "cff4b838f86341feafa592e7a7958982": {
      "model_module": "@jupyter-widgets/base",
      "model_module_version": "1.2.0",
      "model_name": "LayoutModel",
      "state": {}
     },
     "d015278886f04da48c253c70d47b6e81": {
      "model_module": "@jupyter-widgets/output",
      "model_module_version": "1.0.0",
      "model_name": "OutputModel",
      "state": {
       "layout": "IPY_MODEL_e70440a8405a46efbbe5c1d8c2382214"
      }
     },
     "d0459fe13b1e4f69a65f1ae0fb5d953e": {
      "model_module": "@jupyter-widgets/controls",
      "model_module_version": "1.5.0",
      "model_name": "HBoxModel",
      "state": {
       "children": [
        "IPY_MODEL_ba162c690a0d4e6f9e1d357c72d1a130",
        "IPY_MODEL_64620236c7f948f7ab2ecf1ea6694b75"
       ],
       "layout": "IPY_MODEL_ae5567913a5e44ff987778994d9dab69"
      }
     },
     "d1d1d98e3bd044018caffa644d26710f": {
      "model_module": "@jupyter-widgets/base",
      "model_module_version": "1.2.0",
      "model_name": "LayoutModel",
      "state": {}
     },
     "d1e9abe219684f62b8a30f98bfffa46e": {
      "model_module": "@jupyter-widgets/controls",
      "model_module_version": "1.5.0",
      "model_name": "ButtonStyleModel",
      "state": {
       "font_weight": "bold"
      }
     },
     "d1e9e8fe60074610904a1196e36ef477": {
      "model_module": "@jupyter-widgets/controls",
      "model_module_version": "1.5.0",
      "model_name": "ButtonStyleModel",
      "state": {
       "font_weight": "bold"
      }
     },
     "d1eb98bd38194212b6e2f8e960e5a392": {
      "model_module": "@jupyter-widgets/controls",
      "model_module_version": "1.5.0",
      "model_name": "HBoxModel",
      "state": {
       "children": [
        "IPY_MODEL_d4473d697bf141fc93fe1c2946dfe900"
       ],
       "layout": "IPY_MODEL_56da56588ff54bba9ab27e5b4f2877a1"
      }
     },
     "d1f99ed482704d8bbdb3d47102eda16d": {
      "model_module": "@jupyter-widgets/output",
      "model_module_version": "1.0.0",
      "model_name": "OutputModel",
      "state": {
       "layout": "IPY_MODEL_c055fefd44404880bff61148aa6a93c2"
      }
     },
     "d2a2b71ce04b4266a14bc56584370801": {
      "model_module": "@jupyter-widgets/controls",
      "model_module_version": "1.5.0",
      "model_name": "HBoxModel",
      "state": {
       "children": [
        "IPY_MODEL_16974a52ee9044918c9f9563e25e4aef"
       ],
       "layout": "IPY_MODEL_c0a614f94e5647938f439f6fef93c1c3"
      }
     },
     "d3af07269fbd4d89892ff45efff2c0bf": {
      "model_module": "@jupyter-widgets/base",
      "model_module_version": "1.2.0",
      "model_name": "LayoutModel",
      "state": {
       "width": "100%"
      }
     },
     "d3d706a04f95412fae4c7b7b3b4be852": {
      "model_module": "@jupyter-widgets/controls",
      "model_module_version": "1.5.0",
      "model_name": "HBoxModel",
      "state": {
       "children": [
        "IPY_MODEL_f47693b9fafc42dd859f5271643b92f2",
        "IPY_MODEL_f0ab80ac24954ffa9858f688a6b91d45"
       ],
       "layout": "IPY_MODEL_1e03df3826dd4c7ea27a4dd1c0ee2f16"
      }
     },
     "d3da93260da54bf0b7a20593c0c40876": {
      "model_module": "@jupyter-widgets/output",
      "model_module_version": "1.0.0",
      "model_name": "OutputModel",
      "state": {
       "layout": "IPY_MODEL_5af052bc651d4a4eb69bd890aface14a"
      }
     },
     "d42d803bd8254275821731045abbd895": {
      "model_module": "@jupyter-widgets/base",
      "model_module_version": "1.2.0",
      "model_name": "LayoutModel",
      "state": {
       "align_items": "stretch",
       "border": "dashed 0.2px green",
       "display": "flex",
       "flex_flow": "row",
       "grid_auto_columns": "True",
       "justify_content": "flex-start",
       "width": "100%"
      }
     },
     "d4473d697bf141fc93fe1c2946dfe900": {
      "model_module": "@jupyter-widgets/controls",
      "model_module_version": "1.5.0",
      "model_name": "HBoxModel",
      "state": {
       "children": [
        "IPY_MODEL_5316931988c54b87a7b6287196ce3891",
        "IPY_MODEL_ff9b3b4639db40af9085e6c9727a81a7"
       ],
       "layout": "IPY_MODEL_673bf730ad6442f0ba6494a20501a6b3"
      }
     },
     "d450269b7a034406b71575a9722df198": {
      "model_module": "@jupyter-widgets/base",
      "model_module_version": "1.2.0",
      "model_name": "LayoutModel",
      "state": {
       "align_items": "stretch",
       "display": "flex",
       "flex_flow": "row",
       "grid_auto_columns": "True",
       "justify_content": "flex-start",
       "width": "80%"
      }
     },
     "d47fd239c4e84b4bad519ddbb202d0aa": {
      "model_module": "@jupyter-widgets/output",
      "model_module_version": "1.0.0",
      "model_name": "OutputModel",
      "state": {
       "layout": "IPY_MODEL_3bd616c198114bcea0fcb37213e721df"
      }
     },
     "d4a91eb3266f47b38cf873f022f6458c": {
      "model_module": "@jupyter-widgets/controls",
      "model_module_version": "1.5.0",
      "model_name": "ButtonModel",
      "state": {
       "button_style": "info",
       "description": "show source code",
       "layout": "IPY_MODEL_87333a930b6d45c9b752ebc76900f39b",
       "style": "IPY_MODEL_f342d276a0214c7c9780db0fe0d1a625",
       "tooltip": "shows the raw python code in the preview window below"
      }
     },
     "d51afa61696b4be7aaf1a7b04e542050": {
      "model_module": "@jupyter-widgets/base",
      "model_module_version": "1.2.0",
      "model_name": "LayoutModel",
      "state": {}
     },
     "d584a0bfe0ab4ebc9753c5fd41c4b983": {
      "model_module": "@jupyter-widgets/base",
      "model_module_version": "1.2.0",
      "model_name": "LayoutModel",
      "state": {}
     },
     "d5bb9f2357e64fddaa5585d9f9133e59": {
      "model_module": "@jupyter-widgets/controls",
      "model_module_version": "1.5.0",
      "model_name": "ButtonModel",
      "state": {
       "button_style": "info",
       "description": "show source code",
       "layout": "IPY_MODEL_f46fe3c9e6b648f097c0e3cffd78972a",
       "style": "IPY_MODEL_833fc47e81fb4ac099f4e7afb7d25397",
       "tooltip": "shows the raw python code in the preview window below"
      }
     },
     "d5d8c617b7f34a5196cf9d2a666ddb2e": {
      "model_module": "@jupyter-widgets/base",
      "model_module_version": "1.2.0",
      "model_name": "LayoutModel",
      "state": {}
     },
     "d6581e65f44e4b5db5e135b3087912aa": {
      "model_module": "@jupyter-widgets/base",
      "model_module_version": "1.2.0",
      "model_name": "LayoutModel",
      "state": {
       "align_items": "stretch",
       "display": "flex",
       "flex_flow": "row",
       "grid_auto_columns": "True",
       "justify_content": "flex-end",
       "width": "90%"
      }
     },
     "d705b599276e484fac875650d0b6a347": {
      "model_module": "@jupyter-widgets/base",
      "model_module_version": "1.2.0",
      "model_name": "LayoutModel",
      "state": {
       "align_items": "stretch",
       "display": "flex",
       "flex_flow": "row",
       "grid_auto_columns": "True",
       "justify_content": "flex-start",
       "width": "80%"
      }
     },
     "d7ddb49bd94042b190bcb601b409a7bc": {
      "model_module": "@jupyter-widgets/controls",
      "model_module_version": "1.5.0",
      "model_name": "VBoxModel",
      "state": {
       "children": [
        "IPY_MODEL_15c0af449a3c4a289cf82c4f6edc7a1a",
        "IPY_MODEL_9526de4ad062466284e94bbaf8f8b4ac"
       ],
       "layout": "IPY_MODEL_6794eef160884b69a69398f60fc9927c"
      }
     },
     "d7ef0b3dbc5f40d093505860e326d812": {
      "model_module": "@jupyter-widgets/controls",
      "model_module_version": "1.5.0",
      "model_name": "DescriptionStyleModel",
      "state": {
       "description_width": ""
      }
     },
     "d8981e3350e84a07a57ce2477c157d91": {
      "model_module": "@jupyter-widgets/controls",
      "model_module_version": "1.5.0",
      "model_name": "HBoxModel",
      "state": {
       "children": [
        "IPY_MODEL_e3318af294c84f508c9bc2181b9510bd"
       ],
       "layout": "IPY_MODEL_cfb89d32937c495190f6f60fdf2fb614"
      }
     },
     "d96606d4126a41f6bda99dcfd0f052ff": {
      "model_module": "@jupyter-widgets/base",
      "model_module_version": "1.2.0",
      "model_name": "LayoutModel",
      "state": {}
     },
     "d99ade5e2c59425cbd82537b3941058a": {
      "model_module": "@jupyter-widgets/controls",
      "model_module_version": "1.5.0",
      "model_name": "ButtonModel",
      "state": {
       "button_style": "info",
       "description": "show log",
       "layout": "IPY_MODEL_32e628773d864b8886acd7e14717a11c",
       "style": "IPY_MODEL_eb4f0305985f4ab79af1867475be016f",
       "tooltip": "show a log of when the script was executed to generate the outputs, and by who"
      }
     },
     "d9e26fc8219046a49ad494d44f603a6f": {
      "model_module": "@jupyter-widgets/controls",
      "model_module_version": "1.5.0",
      "model_name": "HTMLModel",
      "state": {
       "layout": "IPY_MODEL_bbb2956babb043c9937f0864bbf4454a",
       "style": "IPY_MODEL_c2c37b9f6558441b8cfe6d78a2f8f4ed",
       "value": "<p>margin_1_bar</p>"
      }
     },
     "dab8222a1649415b9d49f563cbf46434": {
      "model_module": "@jupyter-widgets/controls",
      "model_module_version": "1.5.0",
      "model_name": "DescriptionStyleModel",
      "state": {
       "description_width": ""
      }
     },
     "dad6d8b8c17b420bbb44ecf331fb6a02": {
      "model_module": "@jupyter-widgets/base",
      "model_module_version": "1.2.0",
      "model_name": "LayoutModel",
      "state": {}
     },
     "dafb0efd9b4c452789dcb7db1c3cef6a": {
      "model_module": "@jupyter-widgets/base",
      "model_module_version": "1.2.0",
      "model_name": "LayoutModel",
      "state": {}
     },
     "dbc5fccdc5d644f2884ccf8ff4339ed5": {
      "model_module": "@jupyter-widgets/controls",
      "model_module_version": "1.5.0",
      "model_name": "HBoxModel",
      "state": {
       "children": [
        "IPY_MODEL_b61855290a4049989a9f12fbec74d377"
       ],
       "layout": "IPY_MODEL_91d6bba727cb4022b81e47efda5ab7e3"
      }
     },
     "dbcc5dc1d58b401fa96a31cf8967defc": {
      "model_module": "@jupyter-widgets/controls",
      "model_module_version": "1.5.0",
      "model_name": "HTMLModel",
      "state": {
       "layout": "IPY_MODEL_9776267a5fdf43d58950f9f49bc79f86",
       "style": "IPY_MODEL_bac30018a44d438a88e2646571a1cdb6",
       "value": "<p>Expansion vessel acceptance factor (= additional volume / expansion vessel volume):</p>"
      }
     },
     "dbccfe0a3e5f4befab684e195e2497ff": {
      "model_module": "@jupyter-widgets/controls",
      "model_module_version": "1.5.0",
      "model_name": "HBoxModel",
      "state": {
       "children": [
        "IPY_MODEL_f9010447ec60440eb3c58fa97e26bd9e",
        "IPY_MODEL_1563dfe140b94839a7b71a204cf28859"
       ],
       "layout": "IPY_MODEL_f90e149d7aa841c88d76f25d17b28449"
      }
     },
     "dbe7f741ddb94a93b05b88642be73376": {
      "model_module": "@jupyter-widgets/base",
      "model_module_version": "1.2.0",
      "model_name": "LayoutModel",
      "state": {}
     },
     "dc9971249fbc4bcaa23e28efe08e80ae": {
      "model_module": "@jupyter-widgets/output",
      "model_module_version": "1.0.0",
      "model_name": "OutputModel",
      "state": {
       "layout": "IPY_MODEL_07661faaac9a4d09b83f76dc55a9dec9"
      }
     },
     "dc9a5baebe5c4111ac051cb981aa37ae": {
      "model_module": "@jupyter-widgets/controls",
      "model_module_version": "1.5.0",
      "model_name": "HBoxModel",
      "state": {
       "children": [
        "IPY_MODEL_6656b3789fa448aebb41cc8f5d5fc8d5",
        "IPY_MODEL_987baeb2b80943a190bc3b9d9765f661",
        "IPY_MODEL_c3555500648f4a448d4dd18ae6a354e8",
        "IPY_MODEL_f5e4ed3269fb458ea2a3d3800bd04c98",
        "IPY_MODEL_579e9de0b0ee42779e677f04b5ecb0d4",
        "IPY_MODEL_96292200abaf4eb78213a56bf654d1b9",
        "IPY_MODEL_d99ade5e2c59425cbd82537b3941058a"
       ],
       "layout": "IPY_MODEL_0c04b359b1ca43898628ab5f395422a1"
      }
     },
     "dcd3e523bb494d0d9ed112c4ed94b886": {
      "model_module": "@jupyter-widgets/base",
      "model_module_version": "1.2.0",
      "model_name": "LayoutModel",
      "state": {}
     },
     "dcf1b5df52ea42739e8955b5728e5cbd": {
      "model_module": "@jupyter-widgets/base",
      "model_module_version": "1.2.0",
      "model_name": "LayoutModel",
      "state": {
       "height": "30px",
       "max_width": "30px",
       "padding": "3px"
      }
     },
     "df270467170d41d19dea7158659c5e61": {
      "model_module": "@jupyter-widgets/base",
      "model_module_version": "1.2.0",
      "model_name": "LayoutModel",
      "state": {}
     },
     "df88b9201f6e4e26aa7b8328421e11b7": {
      "model_module": "@jupyter-widgets/controls",
      "model_module_version": "1.5.0",
      "model_name": "ToggleButtonModel",
      "state": {
       "button_style": "success",
       "description": "display/hide files",
       "layout": "IPY_MODEL_6c4d36ad1700454a8b3ceae98cf3f457",
       "style": "IPY_MODEL_22d13ef1cf4f4e4b8989deb3d8bcdc26",
       "tooltip": "shows and hides display outputs of the files selected in the SelectMultiple dropdown menu"
      }
     },
     "dff3ce8d3e6a44e899ae3795a52d6194": {
      "model_module": "@jupyter-widgets/controls",
      "model_module_version": "1.5.0",
      "model_name": "DescriptionStyleModel",
      "state": {
       "description_width": ""
      }
     },
     "e0ec8992b7a74e6cb96c7b16dcbed729": {
      "model_module": "@jupyter-widgets/controls",
      "model_module_version": "1.5.0",
      "model_name": "ButtonModel",
      "state": {
       "button_style": "warning",
       "description": "revert to last save",
       "layout": "IPY_MODEL_261fc071c32e426d9e42d4e976fbb953",
       "style": "IPY_MODEL_c0ae4779794847869f6e5f954e2507b4"
      }
     },
     "e0ecab95b3ae402381fb037acd6007ef": {
      "model_module": "@jupyter-widgets/controls",
      "model_module_version": "1.5.0",
      "model_name": "HTMLModel",
      "state": {
       "layout": "IPY_MODEL_f39bfed7f12946b49b7c833cf67baa8f",
       "style": "IPY_MODEL_4b35a9a4d22e47e2837247b586d9d198",
       "value": "<p>From BS7074. The max between this and: 0.15 * static_pressure_barg  is used (Paul Button rule of thumb)</p>"
      }
     },
     "e22ae8f4a0f147e7904ebcf79873534e": {
      "model_module": "@jupyter-widgets/controls",
      "model_module_version": "1.5.0",
      "model_name": "DescriptionStyleModel",
      "state": {
       "description_width": ""
      }
     },
     "e23459d2b3b644d3a4ecb56fe8a46061": {
      "model_module": "@jupyter-widgets/controls",
      "model_module_version": "1.5.0",
      "model_name": "VBoxModel",
      "state": {
       "children": [
        "IPY_MODEL_c94d1bcd69f44df7acda8305b96e74f1",
        "IPY_MODEL_9d1a015a83fd4f53a8acfc81b2001a0f",
        "IPY_MODEL_18ec96dee5094ff8ba2f9a34f3097722"
       ],
       "layout": "IPY_MODEL_70205692dfa749fc880c5d8a2e1fabf4"
      }
     },
     "e247289727be4e3a970f2b874cfd8eb0": {
      "model_module": "@jupyter-widgets/base",
      "model_module_version": "1.2.0",
      "model_name": "LayoutModel",
      "state": {}
     },
     "e24ba544027f4afca9a25da90dcaffd1": {
      "model_module": "@jupyter-widgets/controls",
      "model_module_version": "1.5.0",
      "model_name": "ButtonModel",
      "state": {
       "description": "load",
       "icon": "upload",
       "layout": "IPY_MODEL_17b18d1fd90d49fe93c3b7b3f8f56d7b",
       "style": "IPY_MODEL_c11edfdcca884a2282114e9ce9dc39dc"
      }
     },
     "e28b94657bda48779a275526b3386fd3": {
      "model_module": "@jupyter-widgets/controls",
      "model_module_version": "1.5.0",
      "model_name": "SelectMultipleModel",
      "state": {
       "_options_labels": [
        "C:\\engDev\\git_mf\\ipyrun\\examples\\notebooks\\expansion_vessel_sizing.csv"
       ],
       "description": "outputs",
       "index": [],
       "layout": "IPY_MODEL_47334652318e455fb57b67366850eb47",
       "rows": 4,
       "style": "IPY_MODEL_53073a5d9c764800936245059e586a54"
      }
     },
     "e33084185a344efaa3122695b45457ad": {
      "model_module": "@jupyter-widgets/controls",
      "model_module_version": "1.5.0",
      "model_name": "DescriptionStyleModel",
      "state": {
       "description_width": ""
      }
     },
     "e3318af294c84f508c9bc2181b9510bd": {
      "model_module": "@jupyter-widgets/controls",
      "model_module_version": "1.5.0",
      "model_name": "HBoxModel",
      "state": {
       "children": [
        "IPY_MODEL_29f979b53f6c4664913862599c50a1e3",
        "IPY_MODEL_7e40d3de4a0b48a5b5ac2bc5d09697c4"
       ],
       "layout": "IPY_MODEL_7066c39dfa374c709e81a6841c69642b"
      }
     },
     "e342b74f4f644290b2ed7b0ec93237cf": {
      "model_module": "@jupyter-widgets/base",
      "model_module_version": "1.2.0",
      "model_name": "LayoutModel",
      "state": {}
     },
     "e38347615aea49b8b7b6d274866f98a9": {
      "model_module": "@jupyter-widgets/base",
      "model_module_version": "1.2.0",
      "model_name": "LayoutModel",
      "state": {}
     },
     "e3a6fb40430c4a288a01ad2e17ea9578": {
      "model_module": "@jupyter-widgets/controls",
      "model_module_version": "1.5.0",
      "model_name": "DescriptionStyleModel",
      "state": {
       "description_width": ""
      }
     },
     "e41237bb7c9f4901a7c7c30e55bd06ce": {
      "model_module": "@jupyter-widgets/controls",
      "model_module_version": "1.5.0",
      "model_name": "DescriptionStyleModel",
      "state": {
       "description_width": ""
      }
     },
     "e4287c1ebc8a4fdbadf79c0075adecf5": {
      "model_module": "@jupyter-widgets/base",
      "model_module_version": "1.2.0",
      "model_name": "LayoutModel",
      "state": {}
     },
     "e47ba788f1ac4a11a7a81b8af540c4b0": {
      "model_module": "@jupyter-widgets/output",
      "model_module_version": "1.0.0",
      "model_name": "OutputModel",
      "state": {
       "layout": "IPY_MODEL_14441b05b312449da40529a7871ffb36"
      }
     },
     "e47bc99068ac4f688f7c83a5c0806c70": {
      "model_module": "@jupyter-widgets/controls",
      "model_module_version": "1.5.0",
      "model_name": "ButtonStyleModel",
      "state": {
       "font_weight": "bold"
      }
     },
     "e48de29c58d2422a8ee783ea2d7001d8": {
      "model_module": "@jupyter-widgets/base",
      "model_module_version": "1.2.0",
      "model_name": "LayoutModel",
      "state": {}
     },
     "e4f042a6765840a490ce7e1254063091": {
      "model_module": "@jupyter-widgets/controls",
      "model_module_version": "1.5.0",
      "model_name": "DescriptionStyleModel",
      "state": {
       "description_width": ""
      }
     },
     "e559eb46da5143dbb2e5473a044e260b": {
      "model_module": "@jupyter-widgets/base",
      "model_module_version": "1.2.0",
      "model_name": "LayoutModel",
      "state": {
       "align_items": "stretch",
       "border": "dashed 0.2px green",
       "display": "flex",
       "flex_flow": "row",
       "grid_auto_columns": "True",
       "justify_content": "flex-start",
       "width": "100%"
      }
     },
     "e58a865550b5487487e33cb7aeb1cb9f": {
      "model_module": "@jupyter-widgets/base",
      "model_module_version": "1.2.0",
      "model_name": "LayoutModel",
      "state": {}
     },
     "e597677ac3b34adba754f2a95e46c2ff": {
      "model_module": "@jupyter-widgets/output",
      "model_module_version": "1.0.0",
      "model_name": "OutputModel",
      "state": {
       "layout": "IPY_MODEL_782f8be051dc40f2bd80c50387c226e4"
      }
     },
     "e66f7a640a7248848e85326bcfb801f5": {
      "model_module": "@jupyter-widgets/controls",
      "model_module_version": "1.5.0",
      "model_name": "HBoxModel",
      "state": {
       "children": [
        "IPY_MODEL_89453788808d41c283c2490ee1bc0d49",
        "IPY_MODEL_38c9cb2b746a4faa958ef32271e614c4"
       ],
       "layout": "IPY_MODEL_c2f685f97f83464382fcff0494b4e149"
      }
     },
     "e6747c48406d4468b3f0d1eb35a92495": {
      "model_module": "@jupyter-widgets/controls",
      "model_module_version": "1.5.0",
      "model_name": "DescriptionStyleModel",
      "state": {
       "description_width": ""
      }
     },
     "e6aea32663cd4304a14086a851611f4b": {
      "model_module": "@jupyter-widgets/controls",
      "model_module_version": "1.5.0",
      "model_name": "DescriptionStyleModel",
      "state": {
       "description_width": ""
      }
     },
     "e70440a8405a46efbbe5c1d8c2382214": {
      "model_module": "@jupyter-widgets/base",
      "model_module_version": "1.2.0",
      "model_name": "LayoutModel",
      "state": {}
     },
     "e730050a52e64100a0a4383c612f8cad": {
      "model_module": "@jupyter-widgets/controls",
      "model_module_version": "1.5.0",
      "model_name": "HTMLModel",
      "state": {
       "layout": "IPY_MODEL_f026c3da135c4d9b9e943a969e2a68e2",
       "style": "IPY_MODEL_c57e2aa6467644359c12bb66460573de",
       "value": "<p>sensitivity factor</p>"
      }
     },
     "e7b23ab49eaf4b8e993599fb281d40e1": {
      "model_module": "@jupyter-widgets/controls",
      "model_module_version": "1.5.0",
      "model_name": "VBoxModel",
      "state": {
       "children": [
        "IPY_MODEL_77b6e8e5ff3a4c9092aef368aa4f26a4",
        "IPY_MODEL_dbc5fccdc5d644f2884ccf8ff4339ed5",
        "IPY_MODEL_201b8fbc4c1348c09397b5faa53cf040",
        "IPY_MODEL_0d059f11591444dc9d33aedbf74b2ee3",
        "IPY_MODEL_ad00b1b732db4711b327943981197b8b",
        "IPY_MODEL_5fd4bd157e2e4106bf89ee1e9f70470f",
        "IPY_MODEL_34e7c37b42c44626991d90a1fe957617"
       ],
       "layout": "IPY_MODEL_3d375a40aeb745b3ad4871edd5c45503"
      }
     },
     "e7d6036aaebb4651af62cdf4e4150bed": {
      "model_module": "@jupyter-widgets/base",
      "model_module_version": "1.2.0",
      "model_name": "LayoutModel",
      "state": {}
     },
     "e81c4f58ac924bb9952303054de196ff": {
      "model_module": "@jupyter-widgets/controls",
      "model_module_version": "1.5.0",
      "model_name": "VBoxModel",
      "state": {
       "children": [
        "IPY_MODEL_c94d1bcd69f44df7acda8305b96e74f1",
        "IPY_MODEL_9d1a015a83fd4f53a8acfc81b2001a0f",
        "IPY_MODEL_18ec96dee5094ff8ba2f9a34f3097722"
       ],
       "layout": "IPY_MODEL_2215bea8a86b4a86b3db09cc28c1b429"
      }
     },
     "e828c8ba833243339a0ba38689342a46": {
      "model_module": "@jupyter-widgets/controls",
      "model_module_version": "1.5.0",
      "model_name": "HBoxModel",
      "state": {
       "children": [
        "IPY_MODEL_75150654ec124ad9bd15d1271b774408",
        "IPY_MODEL_e0ec8992b7a74e6cb96c7b16dcbed729",
        "IPY_MODEL_af8e8e9817134c138c6277123eec1536"
       ],
       "layout": "IPY_MODEL_1096f33160fa4c5d8828bcdd7d437171"
      }
     },
     "e8a3a8771fb44d45b7859fcb0286d533": {
      "model_module": "@jupyter-widgets/base",
      "model_module_version": "1.2.0",
      "model_name": "LayoutModel",
      "state": {
       "align_items": "stretch",
       "width": "100%"
      }
     },
     "e8e43e8714984560bccd0b4018a900a3": {
      "model_module": "@jupyter-widgets/controls",
      "model_module_version": "1.5.0",
      "model_name": "SliderStyleModel",
      "state": {
       "description_width": ""
      }
     },
     "e8f77789a66b4bc196f82e7927f88518": {
      "model_module": "@jupyter-widgets/controls",
      "model_module_version": "1.5.0",
      "model_name": "HTMLModel",
      "state": {
       "layout": "IPY_MODEL_d96606d4126a41f6bda99dcfd0f052ff",
       "style": "IPY_MODEL_31fa5620af5a4ca9a15c68e0ce55aa2e",
       "value": "<p>Heating system pipework length (m). Note: includes horizontal, vertical, flow and return.</p>"
      }
     },
     "e921e0e5344b43fdb7cbe3932c839fbd": {
      "model_module": "@jupyter-widgets/controls",
      "model_module_version": "1.5.0",
      "model_name": "HBoxModel",
      "state": {
       "children": [
        "IPY_MODEL_2a715e93399643fc97e6dfa16eb68d9a",
        "IPY_MODEL_e730050a52e64100a0a4383c612f8cad"
       ],
       "layout": "IPY_MODEL_87822617b30e40c395ff64e944e5849a"
      }
     },
     "e9325a3ca87c4209a8976e630140c251": {
      "model_module": "@jupyter-widgets/controls",
      "model_module_version": "1.5.0",
      "model_name": "HBoxModel",
      "state": {
       "children": [
        "IPY_MODEL_c470a127548841f3800d326cbc352c2a",
        "IPY_MODEL_f44cfe61479c44388c9cab86abb90090"
       ],
       "layout": "IPY_MODEL_ce8035e6d0e7471f871e6389ba0c350d"
      }
     },
     "eaaa0b161ec343c8a2514e181607a4d1": {
      "model_module": "@jupyter-widgets/controls",
      "model_module_version": "1.5.0",
      "model_name": "DescriptionStyleModel",
      "state": {
       "description_width": ""
      }
     },
     "eb0abb23fb674d38ba48e4ff1519b222": {
      "model_module": "@jupyter-widgets/controls",
      "model_module_version": "1.5.0",
      "model_name": "CheckboxModel",
      "state": {
       "disabled": false,
       "indent": false,
       "layout": "IPY_MODEL_dcf1b5df52ea42739e8955b5728e5cbd",
       "style": "IPY_MODEL_3bdc29f365ce461c9aa67b5e9c6bee6c",
       "value": true
      }
     },
     "eb0f1d2d34ba42c5a5f82772d4a05136": {
      "model_module": "@jupyter-widgets/controls",
      "model_module_version": "1.5.0",
      "model_name": "RadioButtonsModel",
      "state": {
       "_options_labels": [
        "TEMPLATE: C:\\engDev\\git_mf\\ipyrun\\examples\\scripts\\template_inputs\\inputs-expansion_vessel_sizing.json",
        "PROJECT: C:\\engDev\\git_mf\\ipyrun\\examples\\notebooks\\appdata\\inputs\\inputs-expansion_vessel_sizing.json",
        "PROJECT: C:\\engDev\\git_mf\\ipyrun\\examples\\notebooks\\appdata\\inputs\\archive\\20200612_1731-jg-inputs-expansion_vessel_sizing.json",
        "PROJECT: C:\\engDev\\git_mf\\ipyrun\\examples\\notebooks\\appdata\\inputs\\archive\\20200612_1817-jg-inputs-expansion_vessel_sizing.json",
        "PROJECT: C:\\engDev\\git_mf\\ipyrun\\examples\\notebooks\\appdata\\inputs\\archive\\20200612_1818-jg-inputs-expansion_vessel_sizing.json",
        "PROJECT: C:\\engDev\\git_mf\\ipyrun\\examples\\notebooks\\appdata\\inputs\\archive\\20200612_1819-jg-inputs-expansion_vessel_sizing.json",
        "PROJECT: C:\\engDev\\git_mf\\ipyrun\\examples\\notebooks\\appdata\\inputs\\archive\\20200612_1900-jg-inputs-expansion_vessel_sizing.json",
        "PROJECT: C:\\engDev\\git_mf\\ipyrun\\examples\\notebooks\\appdata\\inputs\\archive\\20200615_2211-jg-inputs-expansion_vessel_sizing.json",
        "PROJECT: C:\\engDev\\git_mf\\ipyrun\\examples\\notebooks\\appdata\\inputs\\archive\\20200616_1020-jg-inputs-expansion_vessel_sizing.json",
        "PROJECT: C:\\engDev\\git_mf\\ipyrun\\examples\\notebooks\\appdata\\inputs\\archive\\20200616_1021-jg-inputs-expansion_vessel_sizing.json",
        "PROJECT: C:\\engDev\\git_mf\\ipyrun\\examples\\notebooks\\appdata\\inputs\\archive\\20200624_1101-jg-inputs-expansion_vessel_sizing.json"
       ],
       "index": 0,
       "layout": "IPY_MODEL_b540a57799054c6a832c93663e86cee6",
       "style": "IPY_MODEL_a3cfb80b7d2c498ab59207419053aac0"
      }
     },
     "eb4f0305985f4ab79af1867475be016f": {
      "model_module": "@jupyter-widgets/controls",
      "model_module_version": "1.5.0",
      "model_name": "ButtonStyleModel",
      "state": {
       "font_weight": "bold"
      }
     },
     "ebc715ac9f3b43ed82ae94f13ca948dd": {
      "model_module": "@jupyter-widgets/controls",
      "model_module_version": "1.5.0",
      "model_name": "HTMLModel",
      "state": {
       "layout": "IPY_MODEL_049cf8921b6b4a0e9a46bde9d4bd7fe7",
       "style": "IPY_MODEL_e22ae8f4a0f147e7904ebcf79873534e",
       "value": "<p>height_difference_m</p>"
      }
     },
     "ebe08645f75d42429f116083000f003a": {
      "model_module": "@jupyter-widgets/controls",
      "model_module_version": "1.5.0",
      "model_name": "DescriptionStyleModel",
      "state": {
       "description_width": ""
      }
     },
     "ebfb4a0d14bd4aa2867f27c101bf3f3a": {
      "model_module": "@jupyter-widgets/base",
      "model_module_version": "1.2.0",
      "model_name": "LayoutModel",
      "state": {}
     },
     "ed5264c61b22428ca3d434db5a56254b": {
      "model_module": "@jupyter-widgets/controls",
      "model_module_version": "1.5.0",
      "model_name": "ButtonModel",
      "state": {
       "icon": "eye-slash",
       "layout": "IPY_MODEL_8f28a62706e14fd3bb73e00d0767290f",
       "style": "IPY_MODEL_88e4c5739cd748d8be36183edbe489a9",
       "tooltip": "removes temporary output view"
      }
     },
     "ee298f425c4f4a04bdfda4f7a914d233": {
      "model_module": "@jupyter-widgets/base",
      "model_module_version": "1.2.0",
      "model_name": "LayoutModel",
      "state": {}
     },
     "ee644ec59a15475f866132fe39060287": {
      "model_module": "@jupyter-widgets/base",
      "model_module_version": "1.2.0",
      "model_name": "LayoutModel",
      "state": {
       "height": "30px",
       "width": "auto"
      }
     },
     "eebb0e4a06ed47ef95dabb70cc151cbe": {
      "model_module": "@jupyter-widgets/base",
      "model_module_version": "1.2.0",
      "model_name": "LayoutModel",
      "state": {}
     },
     "ef29fbde2a4647bd9303533705235bdc": {
      "model_module": "@jupyter-widgets/controls",
      "model_module_version": "1.5.0",
      "model_name": "HBoxModel",
      "state": {
       "children": [
        "IPY_MODEL_a146f4fd9ae144e89975d8fce7108918",
        "IPY_MODEL_56c39edf1cc941358b7545c3af0912ce"
       ],
       "layout": "IPY_MODEL_d705b599276e484fac875650d0b6a347"
      }
     },
     "ef4635859db04adc8ee78e954e3690b9": {
      "model_module": "@jupyter-widgets/controls",
      "model_module_version": "1.5.0",
      "model_name": "FloatTextModel",
      "state": {
       "layout": "IPY_MODEL_749c708875b341ef854dfd59cbf2c1e7",
       "step": null,
       "style": "IPY_MODEL_a39d50c20d2a44979a27aa89e3451804",
       "value": 257
      }
     },
     "ef52a086fd1b49c9be12b37c8b90b478": {
      "model_module": "@jupyter-widgets/controls",
      "model_module_version": "1.5.0",
      "model_name": "DescriptionStyleModel",
      "state": {
       "description_width": ""
      }
     },
     "efea47367dde4be58a8737d6ec77b0ea": {
      "model_module": "@jupyter-widgets/base",
      "model_module_version": "1.2.0",
      "model_name": "LayoutModel",
      "state": {}
     },
     "f026c3da135c4d9b9e943a969e2a68e2": {
      "model_module": "@jupyter-widgets/base",
      "model_module_version": "1.2.0",
      "model_name": "LayoutModel",
      "state": {}
     },
     "f0ab80ac24954ffa9858f688a6b91d45": {
      "model_module": "@jupyter-widgets/controls",
      "model_module_version": "1.5.0",
      "model_name": "HTMLModel",
      "state": {
       "layout": "IPY_MODEL_92a6bd4db2ac40f9a23bb86646f99336",
       "style": "IPY_MODEL_36ecf82b65724a20a7470147eac64eb5",
       "value": "<p>Expansion vessel acceptance factor (= additional volume / expansion vessel volume):</p>"
      }
     },
     "f0d030dbc2f342608c2e342a3cb425ae": {
      "model_module": "@jupyter-widgets/controls",
      "model_module_version": "1.5.0",
      "model_name": "ButtonStyleModel",
      "state": {
       "font_weight": "bold"
      }
     },
     "f1407b57a41740698e77d79f276484bf": {
      "model_module": "@jupyter-widgets/controls",
      "model_module_version": "1.5.0",
      "model_name": "HBoxModel",
      "state": {
       "children": [
        "IPY_MODEL_89fa1a1d4c8c4d07be096619b08cdc6c"
       ],
       "layout": "IPY_MODEL_14c64653b0e549b9b40b23087308ced7"
      }
     },
     "f199ec701edf471b8d1848ed0b897a67": {
      "model_module": "@jupyter-widgets/base",
      "model_module_version": "1.2.0",
      "model_name": "LayoutModel",
      "state": {
       "align_items": "stretch",
       "border": "dashed 0.2px green",
       "display": "flex",
       "flex_flow": "row",
       "grid_auto_columns": "True",
       "justify_content": "flex-start",
       "width": "100%"
      }
     },
     "f206b7b47519479192d3cc613382b72e": {
      "model_module": "@jupyter-widgets/controls",
      "model_module_version": "1.5.0",
      "model_name": "TextModel",
      "state": {
       "description": "inputs",
       "disabled": true,
       "layout": "IPY_MODEL_9fc861cc75e943a6ab87f9e5dc10e179",
       "style": "IPY_MODEL_214999a8cb9d4585abb6d147d858c23b",
       "value": "C:\\engDev\\git_mf\\ipyrun\\examples\\notebooks\\appdata\\inputs\\inputs-expansion_vessel_sizing.json"
      }
     },
     "f2647b705ff6466ab095201d7326c83e": {
      "model_module": "@jupyter-widgets/controls",
      "model_module_version": "1.5.0",
      "model_name": "HBoxModel",
      "state": {
       "children": [
        "IPY_MODEL_cf831050453b4e0d9a36c0d6362c1c97",
        "IPY_MODEL_3c8ac5f8daf1456580f959e76c07ebf0"
       ],
       "layout": "IPY_MODEL_fea40a25e8744d07b927aacae2f9a824"
      }
     },
     "f27f589e1dc4479687360a09db8f41cb": {
      "model_module": "@jupyter-widgets/controls",
      "model_module_version": "1.5.0",
      "model_name": "DescriptionStyleModel",
      "state": {
       "description_width": ""
      }
     },
     "f2a65bd29a094d1ab0f9c4d75e4a2e29": {
      "model_module": "@jupyter-widgets/base",
      "model_module_version": "1.2.0",
      "model_name": "LayoutModel",
      "state": {}
     },
     "f2b639a65e37423eaa3950361f2aa203": {
      "model_module": "@jupyter-widgets/base",
      "model_module_version": "1.2.0",
      "model_name": "LayoutModel",
      "state": {}
     },
     "f2dc2be0df3e4c5489ab428522548587": {
      "model_module": "@jupyter-widgets/base",
      "model_module_version": "1.2.0",
      "model_name": "LayoutModel",
      "state": {}
     },
     "f342d276a0214c7c9780db0fe0d1a625": {
      "model_module": "@jupyter-widgets/controls",
      "model_module_version": "1.5.0",
      "model_name": "ButtonStyleModel",
      "state": {}
     },
     "f37d8c6aa59a49059a0e2bf47642a533": {
      "model_module": "@jupyter-widgets/controls",
      "model_module_version": "1.5.0",
      "model_name": "DescriptionStyleModel",
      "state": {
       "description_width": ""
      }
     },
     "f39bfed7f12946b49b7c833cf67baa8f": {
      "model_module": "@jupyter-widgets/base",
      "model_module_version": "1.2.0",
      "model_name": "LayoutModel",
      "state": {}
     },
     "f3d2327592f340d3bc6db5f399c3fbe6": {
      "model_module": "@jupyter-widgets/controls",
      "model_module_version": "1.5.0",
      "model_name": "HBoxModel",
      "state": {
       "children": [
        "IPY_MODEL_cab7582e0ff04d75ba36218cf158643f",
        "IPY_MODEL_a93c336f22ee45ef8093b234d3d173ee"
       ],
       "layout": "IPY_MODEL_241afa8740b84bcb8a5694d1dec966eb"
      }
     },
     "f44cfe61479c44388c9cab86abb90090": {
      "model_module": "@jupyter-widgets/controls",
      "model_module_version": "1.5.0",
      "model_name": "HBoxModel",
      "state": {
       "children": [
        "IPY_MODEL_1a56df7000a04c46911daa32d1915194",
        "IPY_MODEL_78e9ff631cd84f6fbbd2a3b3709b6bfb"
       ],
       "layout": "IPY_MODEL_35b53724a9284218849a250551b891f0"
      }
     },
     "f46fe3c9e6b648f097c0e3cffd78972a": {
      "model_module": "@jupyter-widgets/base",
      "model_module_version": "1.2.0",
      "model_name": "LayoutModel",
      "state": {}
     },
     "f47693b9fafc42dd859f5271643b92f2": {
      "model_module": "@jupyter-widgets/controls",
      "model_module_version": "1.5.0",
      "model_name": "FloatSliderModel",
      "state": {
       "layout": "IPY_MODEL_e48de29c58d2422a8ee783ea2d7001d8",
       "max": 1,
       "step": 0.1,
       "style": "IPY_MODEL_0eceb858a5844f7595bb81bc1a8023dd",
       "value": 0.3
      }
     },
     "f5e4ed3269fb458ea2a3d3800bd04c98": {
      "model_module": "@jupyter-widgets/controls",
      "model_module_version": "1.5.0",
      "model_name": "ButtonModel",
      "state": {
       "button_style": "warning",
       "description": "edit inputs",
       "layout": "IPY_MODEL_a6b6eddaa01f4669be1199b8441d1325",
       "style": "IPY_MODEL_4fa988a092c34953b2daeea3a52fe369",
       "tooltip": "edit the user input information that is used when the script is executed"
      }
     },
     "f60039dbd7f7437ba50027e697ffc767": {
      "model_module": "@jupyter-widgets/controls",
      "model_module_version": "1.5.0",
      "model_name": "HBoxModel",
      "state": {
       "children": [
        "IPY_MODEL_004e8e06fc6c487d8ac604a0bc165f0c",
        "IPY_MODEL_75a9592bb4d24e82bd44f7ef013e7d30"
       ],
       "layout": "IPY_MODEL_b9db679ebd9945739563c583cc52b8ff"
      }
     },
     "f625819eeb4248749dd02e209788edf1": {
      "model_module": "@jupyter-widgets/controls",
      "model_module_version": "1.5.0",
      "model_name": "SliderStyleModel",
      "state": {
       "description_width": ""
      }
     },
     "f6b1b147db2a4e2bb64feb7f5d846e68": {
      "model_module": "@jupyter-widgets/controls",
      "model_module_version": "1.5.0",
      "model_name": "HTMLModel",
      "state": {
       "layout": "IPY_MODEL_a7072f13d357481f94c86f563a318d7c",
       "style": "IPY_MODEL_3ea9063ee35a42699aeaad898d7b4076",
       "value": "<p>water_volume_m3</p>"
      }
     },
     "f6fff44af096499d85f57dbcc93efead": {
      "model_module": "@jupyter-widgets/controls",
      "model_module_version": "1.5.0",
      "model_name": "HTMLModel",
      "state": {
       "layout": "IPY_MODEL_83e45946635346139fd159b6a6f2b543",
       "style": "IPY_MODEL_465de947be444b3baf94bf415e95840e",
       "value": "<p>water_volume_m3</p>"
      }
     },
     "f74c92776b7849f18247aa080f68f0e3": {
      "model_module": "@jupyter-widgets/base",
      "model_module_version": "1.2.0",
      "model_name": "LayoutModel",
      "state": {}
     },
     "f7a2b0b6fe2d4655a7b49e461b05104f": {
      "model_module": "@jupyter-widgets/base",
      "model_module_version": "1.2.0",
      "model_name": "LayoutModel",
      "state": {}
     },
     "f8058bfcb4d941dfaa9581007ffadc57": {
      "model_module": "@jupyter-widgets/controls",
      "model_module_version": "1.5.0",
      "model_name": "DescriptionStyleModel",
      "state": {
       "description_width": ""
      }
     },
     "f8221cc871804be8ae9f32a07b20778e": {
      "model_module": "@jupyter-widgets/controls",
      "model_module_version": "1.5.0",
      "model_name": "DescriptionStyleModel",
      "state": {
       "description_width": ""
      }
     },
     "f82f392fee18490da64685eff4b157ee": {
      "model_module": "@jupyter-widgets/base",
      "model_module_version": "1.2.0",
      "model_name": "LayoutModel",
      "state": {
       "align_items": "stretch",
       "border": "dashed 0.2px green",
       "display": "flex",
       "flex_flow": "row",
       "grid_auto_columns": "True",
       "justify_content": "flex-start",
       "width": "100%"
      }
     },
     "f83b05aed2964d5c9571e39767bec36f": {
      "model_module": "@jupyter-widgets/controls",
      "model_module_version": "1.5.0",
      "model_name": "DescriptionStyleModel",
      "state": {
       "description_width": ""
      }
     },
     "f83b3f86bb1b47008c7fda801852767a": {
      "model_module": "@jupyter-widgets/base",
      "model_module_version": "1.2.0",
      "model_name": "LayoutModel",
      "state": {}
     },
     "f9010447ec60440eb3c58fa97e26bd9e": {
      "model_module": "@jupyter-widgets/controls",
      "model_module_version": "1.5.0",
      "model_name": "FloatTextModel",
      "state": {
       "layout": "IPY_MODEL_baf7d38a34064de2934bc21f7a95f388",
       "step": null,
       "style": "IPY_MODEL_9436dd42b07845c8883230a34706082d",
       "value": 500
      }
     },
     "f90e149d7aa841c88d76f25d17b28449": {
      "model_module": "@jupyter-widgets/base",
      "model_module_version": "1.2.0",
      "model_name": "LayoutModel",
      "state": {
       "align_items": "stretch",
       "display": "flex",
       "flex_flow": "row",
       "grid_auto_columns": "True",
       "justify_content": "flex-start",
       "width": "80%"
      }
     },
     "f951a5f97c114df88063df38da9b393c": {
      "model_module": "@jupyter-widgets/base",
      "model_module_version": "1.2.0",
      "model_name": "LayoutModel",
      "state": {
       "height": "30px",
       "max_width": "30px",
       "padding": "3px"
      }
     },
     "f969fd6f585944aaa0277d7fb829274d": {
      "model_module": "@jupyter-widgets/base",
      "model_module_version": "1.2.0",
      "model_name": "LayoutModel",
      "state": {}
     },
     "fa3de0214dcf4c528f0391980a36f549": {
      "model_module": "@jupyter-widgets/controls",
      "model_module_version": "1.5.0",
      "model_name": "HTMLModel",
      "state": {
       "layout": "IPY_MODEL_7f551fe8c183449a93db832eb5f9d0ff",
       "style": "IPY_MODEL_45634c3eb87e4bdcb5a34e73a9970ab1",
       "value": "<p>From BS7074. The max between this and: 0.15 * static_pressure_barg  is used (Paul Button rule of thumb)</p>"
      }
     },
     "fa6fc79a36ee4f76b1eae16c180d04c1": {
      "model_module": "@jupyter-widgets/controls",
      "model_module_version": "1.5.0",
      "model_name": "ButtonModel",
      "state": {
       "button_style": "info",
       "description": "show source code",
       "layout": "IPY_MODEL_56959c9191fc4903a4c4ce860a3ec1b1",
       "style": "IPY_MODEL_88f02f0b1d0c4de2a6b11fb60582887b",
       "tooltip": "shows the raw python code in the preview window below"
      }
     },
     "fae09ef39c9140c0aa3e1fb4d41bdf37": {
      "model_module": "@jupyter-widgets/controls",
      "model_module_version": "1.5.0",
      "model_name": "HBoxModel",
      "state": {
       "children": [
        "IPY_MODEL_19208c57d6a4454b85a5be0f4ddde81b",
        "IPY_MODEL_064ceebc18a442949d3decf59af9f092",
        "IPY_MODEL_1ac42f1011294af1ad10bf4af4975bd8"
       ],
       "layout": "IPY_MODEL_43145003bad143c7982b701a0da50576"
      }
     },
     "fc09e5ad4a1d409a98d61a46cefd38b7": {
      "model_module": "@jupyter-widgets/base",
      "model_module_version": "1.2.0",
      "model_name": "LayoutModel",
      "state": {
       "align_items": "stretch",
       "display": "flex",
       "flex_flow": "row",
       "grid_auto_columns": "True",
       "justify_content": "flex-start",
       "width": "80%"
      }
     },
     "fc0ade17c908472a9169770ff0ce770c": {
      "model_module": "@jupyter-widgets/base",
      "model_module_version": "1.2.0",
      "model_name": "LayoutModel",
      "state": {}
     },
     "fc17588ba4984a0abb4bf029f424feb7": {
      "model_module": "@jupyter-widgets/output",
      "model_module_version": "1.0.0",
      "model_name": "OutputModel",
      "state": {
       "layout": "IPY_MODEL_3c5f4d74c2414c42b63ab58e18b0e672"
      }
     },
     "fc1fa083c82c4cef99f7c64f53b1e86a": {
      "model_module": "@jupyter-widgets/controls",
      "model_module_version": "1.5.0",
      "model_name": "TextModel",
      "state": {
       "description": "inputs",
       "disabled": true,
       "layout": "IPY_MODEL_bcada88ef65b4f0188322cc48a273aa9",
       "style": "IPY_MODEL_8c7aa595860b4b90a1629572277f2008",
       "value": "C:\\engDev\\git_mf\\ipyrun\\examples\\notebooks\\appdata\\inputs\\inputs-expansion_vessel_sizing.json"
      }
     },
     "fc462a9f3dfe4658883afc31d4905e52": {
      "model_module": "@jupyter-widgets/base",
      "model_module_version": "1.2.0",
      "model_name": "LayoutModel",
      "state": {
       "display": "flex",
       "flex_flow": "row",
       "grid_auto_columns": "False",
       "justify_content": "flex-start",
       "width": "100%"
      }
     },
     "fd2ebf79eed04d25b4967a17830de7ed": {
      "model_module": "@jupyter-widgets/controls",
      "model_module_version": "1.5.0",
      "model_name": "ButtonStyleModel",
      "state": {
       "font_weight": "bold"
      }
     },
     "fd5d17e6494e4ddbb734642dffeadaec": {
      "model_module": "@jupyter-widgets/base",
      "model_module_version": "1.2.0",
      "model_name": "LayoutModel",
      "state": {}
     },
     "fe50b9913e0f4a4eb1c5e1d9300a5d84": {
      "model_module": "@jupyter-widgets/base",
      "model_module_version": "1.2.0",
      "model_name": "LayoutModel",
      "state": {
       "align_items": "stretch",
       "display": "flex",
       "flex_flow": "row",
       "grid_auto_columns": "True",
       "justify_content": "flex-start",
       "width": "80%"
      }
     },
     "fe56a18e32ad4b11bea4a379a70c8962": {
      "model_module": "@jupyter-widgets/controls",
      "model_module_version": "1.5.0",
      "model_name": "HBoxModel",
      "state": {
       "children": [
        "IPY_MODEL_4e4df597d0ac48b499b24cd84c4ae502"
       ],
       "layout": "IPY_MODEL_b58fe2da70d14c59bb646c0d67e65ab4"
      }
     },
     "fe5cac5e36e84e48945213af3e7117b3": {
      "model_module": "@jupyter-widgets/controls",
      "model_module_version": "1.5.0",
      "model_name": "TextModel",
      "state": {
       "description": "script",
       "disabled": true,
       "layout": "IPY_MODEL_13c7b25d66bd47929da88cddc8111d57",
       "style": "IPY_MODEL_d7ef0b3dbc5f40d093505860e326d812",
       "value": "C:\\engDev\\git_mf\\ipyrun\\examples\\scripts\\expansion_vessel_sizing.py"
      }
     },
     "fea40a25e8744d07b927aacae2f9a824": {
      "model_module": "@jupyter-widgets/base",
      "model_module_version": "1.2.0",
      "model_name": "LayoutModel",
      "state": {
       "align_items": "stretch",
       "display": "flex",
       "flex_flow": "row",
       "grid_auto_columns": "True",
       "justify_content": "flex-start",
       "width": "80%"
      }
     },
     "ff0869fbecbe4c81a0ba153d783f8240": {
      "model_module": "@jupyter-widgets/output",
      "model_module_version": "1.0.0",
      "model_name": "OutputModel",
      "state": {
       "layout": "IPY_MODEL_2da2e8701f1549a2bbc6f3f345003b02"
      }
     },
     "ff18c828e97e4684a286ac586b070710": {
      "model_module": "@jupyter-widgets/base",
      "model_module_version": "1.2.0",
      "model_name": "LayoutModel",
      "state": {}
     },
     "ff9b3b4639db40af9085e6c9727a81a7": {
      "model_module": "@jupyter-widgets/controls",
      "model_module_version": "1.5.0",
      "model_name": "HBoxModel",
      "state": {
       "children": [
        "IPY_MODEL_adcc04e0396e41849cdeac020fd16a14",
        "IPY_MODEL_29d7b190f626443fa867fb81f0bd3671"
       ],
       "layout": "IPY_MODEL_b9145b5f03d64ba5b9e24e68b937d7bb"
      }
     },
     "ffb81ed362014e93bd16976434b5349c": {
      "model_module": "@jupyter-widgets/controls",
      "model_module_version": "1.5.0",
      "model_name": "TextModel",
      "state": {
       "description": "script",
       "disabled": true,
       "layout": "IPY_MODEL_04da1fd56e3e4ace9a862cb1c9308fa1",
       "style": "IPY_MODEL_8977c79425cc4461bb93b80bb5fa76bf",
       "value": "C:\\engDev\\git_mf\\ipyrun\\examples\\scripts\\expansion_vessel_sizing.py"
      }
     }
    },
    "version_major": 2,
    "version_minor": 0
   }
  }
 },
 "nbformat": 4,
 "nbformat_minor": 4
}
