{
 "cells": [
  {
   "cell_type": "code",
   "execution_count": 1,
   "metadata": {},
   "outputs": [],
   "source": [
    "import os\n",
    "NBFDIR = os.path.dirname(os.path.realpath('__file__'))\n",
    "import pandas as pd\n",
    "from ipyrun.ipyrun import RunApp, RunApps\n",
    "from pprint import pprint"
   ]
  },
  {
   "cell_type": "markdown",
   "metadata": {},
   "source": [
    "# Creating a Batch Process"
   ]
  },
  {
   "cell_type": "markdown",
   "metadata": {},
   "source": [
    "In the last example we made a RunApp widget. Here we will create a batch of Widgets that can be run together."
   ]
  },
  {
   "cell_type": "markdown",
   "metadata": {},
   "source": [
    "## the previous example of 1 script:"
   ]
  },
  {
   "cell_type": "code",
   "execution_count": 2,
   "metadata": {},
   "outputs": [
    {
     "data": {
      "application/vnd.jupyter.widget-view+json": {
       "model_id": "296c885f2f7741c2ba9514d47d2b1ef8",
       "version_major": 2,
       "version_minor": 0
      },
      "text/plain": [
       "HBox(children=(Checkbox(value=False, indent=False, layout=Layout(height='30px', max_width='30px', padding='3px…"
      ]
     },
     "metadata": {},
     "output_type": "display_data"
    },
    {
     "data": {
      "application/vnd.jupyter.widget-view+json": {
       "model_id": "dfb27d8fa03f40af9d23fc3e6b970851",
       "version_major": 2,
       "version_minor": 0
      },
      "text/plain": [
       "Output()"
      ]
     },
     "metadata": {},
     "output_type": "display_data"
    }
   ],
   "source": [
    "\n",
    "fpth_script = r'..\\scripts\\expansion_vessel_sizing.py'\n",
    "config={\n",
    "    'fpth_script':os.path.realpath(fpth_script),\n",
    "    'fdir':NBFDIR,\n",
    "    }  \n",
    "r = RunApp(config)\n",
    "r "
   ]
  },
  {
   "cell_type": "markdown",
   "metadata": {},
   "source": [
    "## creating a batch\n",
    "\n",
    "to create a batch you simply create a list of config dicts.  \n",
    "recall the configuration that is set up when the RunApp is initiated:\n"
   ]
  },
  {
   "cell_type": "code",
   "execution_count": 3,
   "metadata": {},
   "outputs": [
    {
     "name": "stdout",
     "output_type": "stream",
     "text": [
      "{'fdir': 'C:\\\\engDev\\\\git_mf\\\\ipyrun\\\\examples\\\\notebooks',\n",
      " 'fdir_config': 'C:\\\\engDev\\\\git_mf\\\\ipyrun\\\\examples\\\\notebooks\\\\appdata\\\\config',\n",
      " 'fdir_inputs': 'C:\\\\engDev\\\\git_mf\\\\ipyrun\\\\examples\\\\notebooks\\\\appdata\\\\inputs',\n",
      " 'fdir_inputs_archive': 'C:\\\\engDev\\\\git_mf\\\\ipyrun\\\\examples\\\\notebooks\\\\appdata\\\\inputs\\\\archive',\n",
      " 'fdir_log': 'C:\\\\engDev\\\\git_mf\\\\ipyrun\\\\examples\\\\notebooks\\\\appdata\\\\log',\n",
      " 'fdir_outputs': ['C:\\\\engDev\\\\git_mf\\\\ipyrun\\\\examples\\\\notebooks'],\n",
      " 'fnm_config': 'config-expansion_vessel_sizing.json',\n",
      " 'fnm_log': 'log-expansion_vessel_sizing.csv',\n",
      " 'fpth_config': 'C:\\\\engDev\\\\git_mf\\\\ipyrun\\\\examples\\\\notebooks\\\\appdata\\\\config\\\\config-expansion_vessel_sizing.json',\n",
      " 'fpth_inputs': 'C:\\\\engDev\\\\git_mf\\\\ipyrun\\\\examples\\\\notebooks\\\\appdata\\\\inputs\\\\inputs-expansion_vessel_sizing.json',\n",
      " 'fpth_inputs_options': {'project': {'fdir': 'C:\\\\engDev\\\\git_mf\\\\ipyrun\\\\examples\\\\notebooks\\\\appdata\\\\inputs',\n",
      "                                     'fpths': ['C:\\\\engDev\\\\git_mf\\\\ipyrun\\\\examples\\\\notebooks\\\\appdata\\\\inputs\\\\inputs-expansion_vessel_sizing.json',\n",
      "                                               'C:\\\\engDev\\\\git_mf\\\\ipyrun\\\\examples\\\\notebooks\\\\appdata\\\\inputs\\\\archive\\\\20200612_1731-jg-inputs-expansion_vessel_sizing.json',\n",
      "                                               'C:\\\\engDev\\\\git_mf\\\\ipyrun\\\\examples\\\\notebooks\\\\appdata\\\\inputs\\\\archive\\\\20200612_1817-jg-inputs-expansion_vessel_sizing.json',\n",
      "                                               'C:\\\\engDev\\\\git_mf\\\\ipyrun\\\\examples\\\\notebooks\\\\appdata\\\\inputs\\\\archive\\\\20200612_1818-jg-inputs-expansion_vessel_sizing.json',\n",
      "                                               'C:\\\\engDev\\\\git_mf\\\\ipyrun\\\\examples\\\\notebooks\\\\appdata\\\\inputs\\\\archive\\\\20200612_1819-jg-inputs-expansion_vessel_sizing.json',\n",
      "                                               'C:\\\\engDev\\\\git_mf\\\\ipyrun\\\\examples\\\\notebooks\\\\appdata\\\\inputs\\\\archive\\\\20200612_1900-jg-inputs-expansion_vessel_sizing.json',\n",
      "                                               'C:\\\\engDev\\\\git_mf\\\\ipyrun\\\\examples\\\\notebooks\\\\appdata\\\\inputs\\\\archive\\\\20200615_2211-jg-inputs-expansion_vessel_sizing.json',\n",
      "                                               'C:\\\\engDev\\\\git_mf\\\\ipyrun\\\\examples\\\\notebooks\\\\appdata\\\\inputs\\\\archive\\\\20200616_1020-jg-inputs-expansion_vessel_sizing.json',\n",
      "                                               'C:\\\\engDev\\\\git_mf\\\\ipyrun\\\\examples\\\\notebooks\\\\appdata\\\\inputs\\\\archive\\\\20200616_1021-jg-inputs-expansion_vessel_sizing.json',\n",
      "                                               'C:\\\\engDev\\\\git_mf\\\\ipyrun\\\\examples\\\\notebooks\\\\appdata\\\\inputs\\\\archive\\\\20200624_1101-jg-inputs-expansion_vessel_sizing.json']},\n",
      "                         'template': {'fdir': 'C:\\\\engDev\\\\git_mf\\\\ipyrun\\\\examples\\\\scripts\\\\template_inputs',\n",
      "                                      'fpths': ['C:\\\\engDev\\\\git_mf\\\\ipyrun\\\\examples\\\\scripts\\\\template_inputs\\\\inputs-expansion_vessel_sizing.json']}},\n",
      " 'fpth_log': 'C:\\\\engDev\\\\git_mf\\\\ipyrun\\\\examples\\\\notebooks\\\\appdata\\\\log\\\\log-expansion_vessel_sizing.csv',\n",
      " 'fpth_script': 'C:\\\\engDev\\\\git_mf\\\\ipyrun\\\\examples\\\\scripts\\\\expansion_vessel_sizing.py',\n",
      " 'fpths_outputs': {'0': 'C:\\\\engDev\\\\git_mf\\\\ipyrun\\\\examples\\\\notebooks\\\\expansion_vessel_sizing.csv'},\n",
      " 'jobno': 'C:\\\\e',\n",
      " 'pretty_name': 'expansion_vessel_sizing',\n",
      " 'process_name': 'expansion_vessel_sizing',\n",
      " 'script_outputs': {'0': {'description': 'a simple calc for sizing expansion '\n",
      "                                         'vessels. could be expanded to size '\n",
      "                                         'many vessels.',\n",
      "                          'fdir': '.',\n",
      "                          'fnm': 'expansion_vessel_sizing.csv'}}}\n"
     ]
    }
   ],
   "source": [
    "pprint(r.config)"
   ]
  },
  {
   "cell_type": "markdown",
   "metadata": {},
   "source": [
    "the \"process_name\" variable by default is simply the filename of the script. this means that if we are creating a batch that uses the same script with different inputs, we need to manually assign different process_name's:"
   ]
  },
  {
   "cell_type": "code",
   "execution_count": 4,
   "metadata": {},
   "outputs": [],
   "source": [
    "config={\n",
    "    'fpth_script':os.path.realpath(fpth_script),\n",
    "    'fdir':NBFDIR,\n",
    "    }  \n",
    "iters = 3\n",
    "batch = []\n",
    "for n in range(0,iters):\n",
    "    tmp = config.copy()\n",
    "    tmp.update({'process_name':os.path.splitext(os.path.basename(config['fpth_script']))[0] + '_' + str(n)})\n",
    "    batch.append(tmp)"
   ]
  },
  {
   "cell_type": "code",
   "execution_count": 5,
   "metadata": {},
   "outputs": [
    {
     "data": {
      "application/vnd.jupyter.widget-view+json": {
       "model_id": "51adea456d514aae9323697e0bf6e86f",
       "version_major": 2,
       "version_minor": 0
      },
      "text/plain": [
       "HBox(children=(Button(icon='eye-slash', layout=Layout(width='5%'), style=ButtonStyle(font_weight='bold'), tool…"
      ]
     },
     "metadata": {},
     "output_type": "display_data"
    },
    {
     "data": {
      "application/vnd.jupyter.widget-view+json": {
       "model_id": "d31d5c6f514e43c791a817b3c3a5b99d",
       "version_major": 2,
       "version_minor": 0
      },
      "text/plain": [
       "Output()"
      ]
     },
     "metadata": {},
     "output_type": "display_data"
    },
    {
     "data": {
      "application/vnd.jupyter.widget-view+json": {
       "model_id": "708ee1dcf92f4ad0988008dc6b1db370",
       "version_major": 2,
       "version_minor": 0
      },
      "text/plain": [
       "HBox(children=(Checkbox(value=False, indent=False, layout=Layout(height='30px', max_width='30px', padding='3px…"
      ]
     },
     "metadata": {},
     "output_type": "display_data"
    },
    {
     "data": {
      "application/vnd.jupyter.widget-view+json": {
       "model_id": "21a95172916848c4b9e966eb899aa230",
       "version_major": 2,
       "version_minor": 0
      },
      "text/plain": [
       "Output()"
      ]
     },
     "metadata": {},
     "output_type": "display_data"
    },
    {
     "data": {
      "application/vnd.jupyter.widget-view+json": {
       "model_id": "267ee3ed5382434db0801d063e1ad72d",
       "version_major": 2,
       "version_minor": 0
      },
      "text/plain": [
       "HBox(children=(Checkbox(value=False, indent=False, layout=Layout(height='30px', max_width='30px', padding='3px…"
      ]
     },
     "metadata": {},
     "output_type": "display_data"
    },
    {
     "data": {
      "application/vnd.jupyter.widget-view+json": {
       "model_id": "10d9e634dcf74cd0b28de1b61ac0feb1",
       "version_major": 2,
       "version_minor": 0
      },
      "text/plain": [
       "Output()"
      ]
     },
     "metadata": {},
     "output_type": "display_data"
    },
    {
     "data": {
      "application/vnd.jupyter.widget-view+json": {
       "model_id": "5f2cc8a7a44c47f8a45c414ee8368e95",
       "version_major": 2,
       "version_minor": 0
      },
      "text/plain": [
       "HBox(children=(Checkbox(value=False, indent=False, layout=Layout(height='30px', max_width='30px', padding='3px…"
      ]
     },
     "metadata": {},
     "output_type": "display_data"
    },
    {
     "data": {
      "application/vnd.jupyter.widget-view+json": {
       "model_id": "7b1bcca7b4a049a996b9accc082acedc",
       "version_major": 2,
       "version_minor": 0
      },
      "text/plain": [
       "Output()"
      ]
     },
     "metadata": {},
     "output_type": "display_data"
    }
   ],
   "source": [
    "RunApps(batch)"
   ]
  },
  {
   "cell_type": "markdown",
   "metadata": {},
   "source": [
    "__note__ if all the scripts are different the additional step of manually assigning the process names is not required. we should also probably "
   ]
  },
  {
   "cell_type": "code",
   "execution_count": 7,
   "metadata": {},
   "outputs": [
    {
     "data": {
      "application/vnd.jupyter.widget-view+json": {
       "model_id": "2e65076a0d6b4e01947d1fb1498e09db",
       "version_major": 2,
       "version_minor": 0
      },
      "text/plain": [
       "VBox(children=(HBox(children=(ToggleButton(value=False, button_style='info', description='inputs from file'), …"
      ]
     },
     "metadata": {},
     "output_type": "display_data"
    },
    {
     "data": {
      "application/vnd.jupyter.widget-view+json": {
       "model_id": "43925a23214d4b399f79ee9b2f0b9780",
       "version_major": 2,
       "version_minor": 0
      },
      "text/plain": [
       "VBox(children=(HBox(children=(HBox(children=(HTML(value='<p>water_volume_m3</p>'), HBox(children=(FloatText(va…"
      ]
     },
     "metadata": {},
     "output_type": "display_data"
    },
    {
     "data": {
      "application/vnd.jupyter.widget-view+json": {
       "model_id": "512fea44b062412cb05013095cab9c62",
       "version_major": 2,
       "version_minor": 0
      },
      "text/plain": [
       "Output()"
      ]
     },
     "metadata": {},
     "output_type": "display_data"
    }
   ],
   "source": [
    "config={\n",
    "    'fpth_script':os.path.realpath(fpth_script),\n",
    "    'fdir':NBFDIR,\n",
    "    } \n",
    "from ipyrun._ipyeditjson import EditJson\n",
    "\n",
    "EditJson(config)"
   ]
  },
  {
   "cell_type": "code",
   "execution_count": null,
   "metadata": {},
   "outputs": [],
   "source": []
  },
  {
   "cell_type": "code",
   "execution_count": null,
   "metadata": {},
   "outputs": [],
   "source": []
  },
  {
   "cell_type": "markdown",
   "metadata": {},
   "source": [
    "# header\n",
    "## header1\n",
    "\n",
    "- fasdf\n",
    "- "
   ]
  },
  {
   "cell_type": "code",
   "execution_count": null,
   "metadata": {},
   "outputs": [],
   "source": []
  },
  {
   "cell_type": "code",
   "execution_count": null,
   "metadata": {},
   "outputs": [],
   "source": []
  },
  {
   "cell_type": "code",
   "execution_count": null,
   "metadata": {},
   "outputs": [],
   "source": []
  },
  {
   "cell_type": "code",
   "execution_count": null,
   "metadata": {},
   "outputs": [],
   "source": [
    "# import\n",
    "import plotly.io as pio\n",
    "import plotly.graph_objs as go\n",
    "\n",
    "fig.write_json('BMSDataDrivenWaterfall.json')\n",
    "pio.read_json('BMSDataDrivenWaterfall.json')"
   ]
  },
  {
   "cell_type": "code",
   "execution_count": 38,
   "metadata": {},
   "outputs": [
    {
     "data": {
      "text/plain": [
       "'plotlyexample.plotly.json'"
      ]
     },
     "execution_count": 38,
     "metadata": {},
     "output_type": "execute_result"
    }
   ],
   "source": [
    "fpth"
   ]
  },
  {
   "cell_type": "code",
   "execution_count": 37,
   "metadata": {},
   "outputs": [
    {
     "data": {
      "application/vnd.jupyter.widget-view+json": {
       "model_id": "dfa67bfd174542149784fd80795edbc6",
       "version_major": 2,
       "version_minor": 0
      },
      "text/plain": [
       "FigureWidget({\n",
       "    'data': [{'type': 'scatter', 'uid': '52f18b50-fa60-47dd-97c2-71aede3f6e89', 'y': [1, 2, 3]}…"
      ]
     },
     "metadata": {},
     "output_type": "display_data"
    }
   ],
   "source": [
    "# import\n",
    "import plotly.io as pio\n",
    "import plotly.graph_objs as go\n",
    "\n",
    "# make a figure\n",
    "# go to the plotly docs for help: https://plot.ly/python/figurewidget/\n",
    "\n",
    "fig = go.FigureWidget()\n",
    "fig.add_scatter(y=[1,2,3])\n",
    "fig"
   ]
  },
  {
   "cell_type": "code",
   "execution_count": null,
   "metadata": {},
   "outputs": [],
   "source": []
  },
  {
   "cell_type": "code",
   "execution_count": null,
   "metadata": {},
   "outputs": [],
   "source": []
  },
  {
   "cell_type": "code",
   "execution_count": 28,
   "metadata": {},
   "outputs": [],
   "source": [
    "fpth = 'plotlyexample.plotly.json'\n",
    "with open(fpth, 'r') as f:\n",
    "    json_file = json.load(f)"
   ]
  },
  {
   "cell_type": "code",
   "execution_count": 27,
   "metadata": {},
   "outputs": [
    {
     "ename": "JSONDecodeError",
     "evalue": "Expecting value: line 1 column 1 (char 0)",
     "output_type": "error",
     "traceback": [
      "\u001b[1;31m---------------------------------------------------------------------------\u001b[0m",
      "\u001b[1;31mJSONDecodeError\u001b[0m                           Traceback (most recent call last)",
      "\u001b[1;32m<ipython-input-27-8cb0da6adfdb>\u001b[0m in \u001b[0;36m<module>\u001b[1;34m\u001b[0m\n\u001b[0;32m      2\u001b[0m \u001b[1;33m\u001b[0m\u001b[0m\n\u001b[0;32m      3\u001b[0m \u001b[1;32mwith\u001b[0m \u001b[0mopen\u001b[0m\u001b[1;33m(\u001b[0m\u001b[0mfpth\u001b[0m\u001b[1;33m,\u001b[0m \u001b[1;34m'r'\u001b[0m\u001b[1;33m)\u001b[0m \u001b[1;32mas\u001b[0m \u001b[0mf\u001b[0m\u001b[1;33m:\u001b[0m\u001b[1;33m\u001b[0m\u001b[1;33m\u001b[0m\u001b[0m\n\u001b[1;32m----> 4\u001b[1;33m     \u001b[0mjson_file\u001b[0m \u001b[1;33m=\u001b[0m \u001b[0mjson\u001b[0m\u001b[1;33m.\u001b[0m\u001b[0mloads\u001b[0m\u001b[1;33m(\u001b[0m\u001b[1;34m'plotlyexample.plotly.json'\u001b[0m\u001b[1;33m)\u001b[0m\u001b[1;33m\u001b[0m\u001b[1;33m\u001b[0m\u001b[0m\n\u001b[0m\u001b[0;32m      5\u001b[0m \u001b[1;33m\u001b[0m\u001b[0m\n\u001b[0;32m      6\u001b[0m \u001b[0mjson_file\u001b[0m\u001b[1;33m\u001b[0m\u001b[1;33m\u001b[0m\u001b[0m\n",
      "\u001b[1;32mC:\\ProgramData\\Miniconda3\\envs\\mf_main\\lib\\json\\__init__.py\u001b[0m in \u001b[0;36mloads\u001b[1;34m(s, encoding, cls, object_hook, parse_float, parse_int, parse_constant, object_pairs_hook, **kw)\u001b[0m\n\u001b[0;32m    346\u001b[0m             \u001b[0mparse_int\u001b[0m \u001b[1;32mis\u001b[0m \u001b[1;32mNone\u001b[0m \u001b[1;32mand\u001b[0m \u001b[0mparse_float\u001b[0m \u001b[1;32mis\u001b[0m \u001b[1;32mNone\u001b[0m \u001b[1;32mand\u001b[0m\u001b[1;33m\u001b[0m\u001b[1;33m\u001b[0m\u001b[0m\n\u001b[0;32m    347\u001b[0m             parse_constant is None and object_pairs_hook is None and not kw):\n\u001b[1;32m--> 348\u001b[1;33m         \u001b[1;32mreturn\u001b[0m \u001b[0m_default_decoder\u001b[0m\u001b[1;33m.\u001b[0m\u001b[0mdecode\u001b[0m\u001b[1;33m(\u001b[0m\u001b[0ms\u001b[0m\u001b[1;33m)\u001b[0m\u001b[1;33m\u001b[0m\u001b[1;33m\u001b[0m\u001b[0m\n\u001b[0m\u001b[0;32m    349\u001b[0m     \u001b[1;32mif\u001b[0m \u001b[0mcls\u001b[0m \u001b[1;32mis\u001b[0m \u001b[1;32mNone\u001b[0m\u001b[1;33m:\u001b[0m\u001b[1;33m\u001b[0m\u001b[1;33m\u001b[0m\u001b[0m\n\u001b[0;32m    350\u001b[0m         \u001b[0mcls\u001b[0m \u001b[1;33m=\u001b[0m \u001b[0mJSONDecoder\u001b[0m\u001b[1;33m\u001b[0m\u001b[1;33m\u001b[0m\u001b[0m\n",
      "\u001b[1;32mC:\\ProgramData\\Miniconda3\\envs\\mf_main\\lib\\json\\decoder.py\u001b[0m in \u001b[0;36mdecode\u001b[1;34m(self, s, _w)\u001b[0m\n\u001b[0;32m    335\u001b[0m \u001b[1;33m\u001b[0m\u001b[0m\n\u001b[0;32m    336\u001b[0m         \"\"\"\n\u001b[1;32m--> 337\u001b[1;33m         \u001b[0mobj\u001b[0m\u001b[1;33m,\u001b[0m \u001b[0mend\u001b[0m \u001b[1;33m=\u001b[0m \u001b[0mself\u001b[0m\u001b[1;33m.\u001b[0m\u001b[0mraw_decode\u001b[0m\u001b[1;33m(\u001b[0m\u001b[0ms\u001b[0m\u001b[1;33m,\u001b[0m \u001b[0midx\u001b[0m\u001b[1;33m=\u001b[0m\u001b[0m_w\u001b[0m\u001b[1;33m(\u001b[0m\u001b[0ms\u001b[0m\u001b[1;33m,\u001b[0m \u001b[1;36m0\u001b[0m\u001b[1;33m)\u001b[0m\u001b[1;33m.\u001b[0m\u001b[0mend\u001b[0m\u001b[1;33m(\u001b[0m\u001b[1;33m)\u001b[0m\u001b[1;33m)\u001b[0m\u001b[1;33m\u001b[0m\u001b[1;33m\u001b[0m\u001b[0m\n\u001b[0m\u001b[0;32m    338\u001b[0m         \u001b[0mend\u001b[0m \u001b[1;33m=\u001b[0m \u001b[0m_w\u001b[0m\u001b[1;33m(\u001b[0m\u001b[0ms\u001b[0m\u001b[1;33m,\u001b[0m \u001b[0mend\u001b[0m\u001b[1;33m)\u001b[0m\u001b[1;33m.\u001b[0m\u001b[0mend\u001b[0m\u001b[1;33m(\u001b[0m\u001b[1;33m)\u001b[0m\u001b[1;33m\u001b[0m\u001b[1;33m\u001b[0m\u001b[0m\n\u001b[0;32m    339\u001b[0m         \u001b[1;32mif\u001b[0m \u001b[0mend\u001b[0m \u001b[1;33m!=\u001b[0m \u001b[0mlen\u001b[0m\u001b[1;33m(\u001b[0m\u001b[0ms\u001b[0m\u001b[1;33m)\u001b[0m\u001b[1;33m:\u001b[0m\u001b[1;33m\u001b[0m\u001b[1;33m\u001b[0m\u001b[0m\n",
      "\u001b[1;32mC:\\ProgramData\\Miniconda3\\envs\\mf_main\\lib\\json\\decoder.py\u001b[0m in \u001b[0;36mraw_decode\u001b[1;34m(self, s, idx)\u001b[0m\n\u001b[0;32m    353\u001b[0m             \u001b[0mobj\u001b[0m\u001b[1;33m,\u001b[0m \u001b[0mend\u001b[0m \u001b[1;33m=\u001b[0m \u001b[0mself\u001b[0m\u001b[1;33m.\u001b[0m\u001b[0mscan_once\u001b[0m\u001b[1;33m(\u001b[0m\u001b[0ms\u001b[0m\u001b[1;33m,\u001b[0m \u001b[0midx\u001b[0m\u001b[1;33m)\u001b[0m\u001b[1;33m\u001b[0m\u001b[1;33m\u001b[0m\u001b[0m\n\u001b[0;32m    354\u001b[0m         \u001b[1;32mexcept\u001b[0m \u001b[0mStopIteration\u001b[0m \u001b[1;32mas\u001b[0m \u001b[0merr\u001b[0m\u001b[1;33m:\u001b[0m\u001b[1;33m\u001b[0m\u001b[1;33m\u001b[0m\u001b[0m\n\u001b[1;32m--> 355\u001b[1;33m             \u001b[1;32mraise\u001b[0m \u001b[0mJSONDecodeError\u001b[0m\u001b[1;33m(\u001b[0m\u001b[1;34m\"Expecting value\"\u001b[0m\u001b[1;33m,\u001b[0m \u001b[0ms\u001b[0m\u001b[1;33m,\u001b[0m \u001b[0merr\u001b[0m\u001b[1;33m.\u001b[0m\u001b[0mvalue\u001b[0m\u001b[1;33m)\u001b[0m \u001b[1;32mfrom\u001b[0m \u001b[1;32mNone\u001b[0m\u001b[1;33m\u001b[0m\u001b[1;33m\u001b[0m\u001b[0m\n\u001b[0m\u001b[0;32m    356\u001b[0m         \u001b[1;32mreturn\u001b[0m \u001b[0mobj\u001b[0m\u001b[1;33m,\u001b[0m \u001b[0mend\u001b[0m\u001b[1;33m\u001b[0m\u001b[1;33m\u001b[0m\u001b[0m\n",
      "\u001b[1;31mJSONDecodeError\u001b[0m: Expecting value: line 1 column 1 (char 0)"
     ]
    }
   ],
   "source": [
    "import json\n",
    "\n",
    "with open(fpth, 'r') as f:\n",
    "    json_file = json.loads()\n",
    "    \n",
    "json_file"
   ]
  },
  {
   "cell_type": "code",
   "execution_count": 34,
   "metadata": {},
   "outputs": [],
   "source": [
    "# import\n",
    "import plotly.io as pio\n",
    "import plotly.graph_objs as go"
   ]
  },
  {
   "cell_type": "code",
   "execution_count": 9,
   "metadata": {},
   "outputs": [
    {
     "ename": "TypeError",
     "evalue": "bar() got an unexpected keyword argument 'data'",
     "output_type": "error",
     "traceback": [
      "\u001b[1;31m---------------------------------------------------------------------------\u001b[0m",
      "\u001b[1;31mTypeError\u001b[0m                                 Traceback (most recent call last)",
      "\u001b[1;32m<ipython-input-9-ea1b683f4707>\u001b[0m in \u001b[0;36m<module>\u001b[1;34m\u001b[0m\n\u001b[0;32m      1\u001b[0m \u001b[1;32mfrom\u001b[0m \u001b[0mmf_modules\u001b[0m\u001b[1;33m.\u001b[0m\u001b[0mpydtype_operations\u001b[0m \u001b[1;32mimport\u001b[0m \u001b[0mread_json\u001b[0m\u001b[1;33m\u001b[0m\u001b[1;33m\u001b[0m\u001b[0m\n\u001b[0;32m      2\u001b[0m \u001b[1;32mimport\u001b[0m \u001b[0mplotly\u001b[0m\u001b[1;33m.\u001b[0m\u001b[0mexpress\u001b[0m \u001b[1;32mas\u001b[0m \u001b[0mpx\u001b[0m\u001b[1;33m\u001b[0m\u001b[1;33m\u001b[0m\u001b[0m\n\u001b[1;32m----> 3\u001b[1;33m \u001b[0mpx\u001b[0m\u001b[1;33m.\u001b[0m\u001b[0mbar\u001b[0m\u001b[1;33m(\u001b[0m\u001b[1;33m**\u001b[0m\u001b[0mread_json\u001b[0m\u001b[1;33m(\u001b[0m\u001b[1;34mr'plotlyexample.json'\u001b[0m\u001b[1;33m)\u001b[0m\u001b[1;33m)\u001b[0m\u001b[1;33m\u001b[0m\u001b[1;33m\u001b[0m\u001b[0m\n\u001b[0m",
      "\u001b[1;31mTypeError\u001b[0m: bar() got an unexpected keyword argument 'data'"
     ]
    }
   ],
   "source": [
    "from mf_modules.pydtype_operations import read_json\n",
    "import plotly.express as px\n",
    "px.bar(**read_json(r'plotlyexample.json'))\n"
   ]
  },
  {
   "cell_type": "code",
   "execution_count": 35,
   "metadata": {},
   "outputs": [
    {
     "ename": "ValueError",
     "evalue": "\n    Invalid value of type 'builtins.str' received for the 'arrowcolor' property of layout.annotation\n        Received value: ''\n\n    The 'arrowcolor' property is a color and may be specified as:\n      - A hex string (e.g. '#ff0000')\n      - An rgb/rgba string (e.g. 'rgb(255,0,0)')\n      - An hsl/hsla string (e.g. 'hsl(0,100%,50%)')\n      - An hsv/hsva string (e.g. 'hsv(0,100%,100%)')\n      - A named CSS color:\n            aliceblue, antiquewhite, aqua, aquamarine, azure,\n            beige, bisque, black, blanchedalmond, blue,\n            blueviolet, brown, burlywood, cadetblue,\n            chartreuse, chocolate, coral, cornflowerblue,\n            cornsilk, crimson, cyan, darkblue, darkcyan,\n            darkgoldenrod, darkgray, darkgrey, darkgreen,\n            darkkhaki, darkmagenta, darkolivegreen, darkorange,\n            darkorchid, darkred, darksalmon, darkseagreen,\n            darkslateblue, darkslategray, darkslategrey,\n            darkturquoise, darkviolet, deeppink, deepskyblue,\n            dimgray, dimgrey, dodgerblue, firebrick,\n            floralwhite, forestgreen, fuchsia, gainsboro,\n            ghostwhite, gold, goldenrod, gray, grey, green,\n            greenyellow, honeydew, hotpink, indianred, indigo,\n            ivory, khaki, lavender, lavenderblush, lawngreen,\n            lemonchiffon, lightblue, lightcoral, lightcyan,\n            lightgoldenrodyellow, lightgray, lightgrey,\n            lightgreen, lightpink, lightsalmon, lightseagreen,\n            lightskyblue, lightslategray, lightslategrey,\n            lightsteelblue, lightyellow, lime, limegreen,\n            linen, magenta, maroon, mediumaquamarine,\n            mediumblue, mediumorchid, mediumpurple,\n            mediumseagreen, mediumslateblue, mediumspringgreen,\n            mediumturquoise, mediumvioletred, midnightblue,\n            mintcream, mistyrose, moccasin, navajowhite, navy,\n            oldlace, olive, olivedrab, orange, orangered,\n            orchid, palegoldenrod, palegreen, paleturquoise,\n            palevioletred, papayawhip, peachpuff, peru, pink,\n            plum, powderblue, purple, red, rosybrown,\n            royalblue, rebeccapurple, saddlebrown, salmon,\n            sandybrown, seagreen, seashell, sienna, silver,\n            skyblue, slateblue, slategray, slategrey, snow,\n            springgreen, steelblue, tan, teal, thistle, tomato,\n            turquoise, violet, wheat, white, whitesmoke,\n            yellow, yellowgreen",
     "output_type": "error",
     "traceback": [
      "\u001b[1;31m---------------------------------------------------------------------------\u001b[0m",
      "\u001b[1;31mValueError\u001b[0m                                Traceback (most recent call last)",
      "\u001b[1;32m<ipython-input-35-9292c9aca16c>\u001b[0m in \u001b[0;36m<module>\u001b[1;34m\u001b[0m\n\u001b[0;32m      1\u001b[0m \u001b[1;32mimport\u001b[0m \u001b[0mplotly\u001b[0m\u001b[1;33m\u001b[0m\u001b[1;33m\u001b[0m\u001b[0m\n\u001b[0;32m      2\u001b[0m \u001b[0mfpth\u001b[0m \u001b[1;33m=\u001b[0m \u001b[1;34mr'plotlyexample.plotly.json'\u001b[0m\u001b[1;33m\u001b[0m\u001b[1;33m\u001b[0m\u001b[0m\n\u001b[1;32m----> 3\u001b[1;33m \u001b[0mfig_after_work\u001b[0m \u001b[1;33m=\u001b[0m \u001b[0mpio\u001b[0m\u001b[1;33m.\u001b[0m\u001b[0mread_json\u001b[0m\u001b[1;33m(\u001b[0m\u001b[0mfpth\u001b[0m\u001b[1;33m,\u001b[0m \u001b[0moutput_type\u001b[0m\u001b[1;33m=\u001b[0m\u001b[1;34m'FigureWidget'\u001b[0m\u001b[1;33m)\u001b[0m\u001b[1;33m\u001b[0m\u001b[1;33m\u001b[0m\u001b[0m\n\u001b[0m\u001b[0;32m      4\u001b[0m \u001b[0mfig_after_work\u001b[0m\u001b[1;33m\u001b[0m\u001b[1;33m\u001b[0m\u001b[0m\n",
      "\u001b[1;32mC:\\ProgramData\\Miniconda3\\envs\\mf_main\\lib\\site-packages\\plotly\\io\\_json.py\u001b[0m in \u001b[0;36mread_json\u001b[1;34m(file, output_type, skip_invalid)\u001b[0m\n\u001b[0;32m    194\u001b[0m     \u001b[1;31m# Construct and return figure\u001b[0m\u001b[1;33m\u001b[0m\u001b[1;33m\u001b[0m\u001b[1;33m\u001b[0m\u001b[0m\n\u001b[0;32m    195\u001b[0m     \u001b[1;31m# ---------------------------\u001b[0m\u001b[1;33m\u001b[0m\u001b[1;33m\u001b[0m\u001b[1;33m\u001b[0m\u001b[0m\n\u001b[1;32m--> 196\u001b[1;33m     \u001b[1;32mreturn\u001b[0m \u001b[0mfrom_json\u001b[0m\u001b[1;33m(\u001b[0m\u001b[0mjson_str\u001b[0m\u001b[1;33m,\u001b[0m \u001b[0mskip_invalid\u001b[0m\u001b[1;33m=\u001b[0m\u001b[0mskip_invalid\u001b[0m\u001b[1;33m,\u001b[0m \u001b[0moutput_type\u001b[0m\u001b[1;33m=\u001b[0m\u001b[0moutput_type\u001b[0m\u001b[1;33m)\u001b[0m\u001b[1;33m\u001b[0m\u001b[1;33m\u001b[0m\u001b[0m\n\u001b[0m",
      "\u001b[1;32mC:\\ProgramData\\Miniconda3\\envs\\mf_main\\lib\\site-packages\\plotly\\io\\_json.py\u001b[0m in \u001b[0;36mfrom_json\u001b[1;34m(value, output_type, skip_invalid)\u001b[0m\n\u001b[0;32m    150\u001b[0m     \u001b[1;31m# Create and return figure\u001b[0m\u001b[1;33m\u001b[0m\u001b[1;33m\u001b[0m\u001b[1;33m\u001b[0m\u001b[0m\n\u001b[0;32m    151\u001b[0m     \u001b[1;31m# ------------------------\u001b[0m\u001b[1;33m\u001b[0m\u001b[1;33m\u001b[0m\u001b[1;33m\u001b[0m\u001b[0m\n\u001b[1;32m--> 152\u001b[1;33m     \u001b[0mfig\u001b[0m \u001b[1;33m=\u001b[0m \u001b[0mcls\u001b[0m\u001b[1;33m(\u001b[0m\u001b[0mfig_dict\u001b[0m\u001b[1;33m,\u001b[0m \u001b[0mskip_invalid\u001b[0m\u001b[1;33m=\u001b[0m\u001b[0mskip_invalid\u001b[0m\u001b[1;33m)\u001b[0m\u001b[1;33m\u001b[0m\u001b[1;33m\u001b[0m\u001b[0m\n\u001b[0m\u001b[0;32m    153\u001b[0m     \u001b[1;32mreturn\u001b[0m \u001b[0mfig\u001b[0m\u001b[1;33m\u001b[0m\u001b[1;33m\u001b[0m\u001b[0m\n\u001b[0;32m    154\u001b[0m \u001b[1;33m\u001b[0m\u001b[0m\n",
      "\u001b[1;32mC:\\ProgramData\\Miniconda3\\envs\\mf_main\\lib\\site-packages\\plotly\\graph_objs\\_figurewidget.py\u001b[0m in \u001b[0;36m__init__\u001b[1;34m(self, data, layout, frames, skip_invalid, **kwargs)\u001b[0m\n\u001b[0;32m    582\u001b[0m             \u001b[1;32mis\u001b[0m \u001b[0minvalid\u001b[0m \u001b[0mAND\u001b[0m \u001b[0mskip_invalid\u001b[0m \u001b[1;32mis\u001b[0m \u001b[1;32mFalse\u001b[0m\u001b[1;33m\u001b[0m\u001b[1;33m\u001b[0m\u001b[0m\n\u001b[0;32m    583\u001b[0m         \"\"\"\n\u001b[1;32m--> 584\u001b[1;33m         \u001b[0msuper\u001b[0m\u001b[1;33m(\u001b[0m\u001b[0mFigureWidget\u001b[0m\u001b[1;33m,\u001b[0m \u001b[0mself\u001b[0m\u001b[1;33m)\u001b[0m\u001b[1;33m.\u001b[0m\u001b[0m__init__\u001b[0m\u001b[1;33m(\u001b[0m\u001b[0mdata\u001b[0m\u001b[1;33m,\u001b[0m \u001b[0mlayout\u001b[0m\u001b[1;33m,\u001b[0m \u001b[0mframes\u001b[0m\u001b[1;33m,\u001b[0m \u001b[0mskip_invalid\u001b[0m\u001b[1;33m,\u001b[0m \u001b[1;33m**\u001b[0m\u001b[0mkwargs\u001b[0m\u001b[1;33m)\u001b[0m\u001b[1;33m\u001b[0m\u001b[1;33m\u001b[0m\u001b[0m\n\u001b[0m\u001b[0;32m    585\u001b[0m \u001b[1;33m\u001b[0m\u001b[0m\n\u001b[0;32m    586\u001b[0m     def add_area(\n",
      "\u001b[1;32mC:\\ProgramData\\Miniconda3\\envs\\mf_main\\lib\\site-packages\\plotly\\basewidget.py\u001b[0m in \u001b[0;36m__init__\u001b[1;34m(self, data, layout, frames, skip_invalid, **kwargs)\u001b[0m\n\u001b[0;32m    120\u001b[0m             \u001b[0mframes\u001b[0m\u001b[1;33m=\u001b[0m\u001b[0mframes\u001b[0m\u001b[1;33m,\u001b[0m\u001b[1;33m\u001b[0m\u001b[1;33m\u001b[0m\u001b[0m\n\u001b[0;32m    121\u001b[0m             \u001b[0mskip_invalid\u001b[0m\u001b[1;33m=\u001b[0m\u001b[0mskip_invalid\u001b[0m\u001b[1;33m,\u001b[0m\u001b[1;33m\u001b[0m\u001b[1;33m\u001b[0m\u001b[0m\n\u001b[1;32m--> 122\u001b[1;33m             \u001b[1;33m**\u001b[0m\u001b[0mkwargs\u001b[0m\u001b[1;33m\u001b[0m\u001b[1;33m\u001b[0m\u001b[0m\n\u001b[0m\u001b[0;32m    123\u001b[0m         )\n\u001b[0;32m    124\u001b[0m \u001b[1;33m\u001b[0m\u001b[0m\n",
      "\u001b[1;32mC:\\ProgramData\\Miniconda3\\envs\\mf_main\\lib\\site-packages\\plotly\\basedatatypes.py\u001b[0m in \u001b[0;36m__init__\u001b[1;34m(self, data, layout_plotly, frames, skip_invalid, **kwargs)\u001b[0m\n\u001b[0;32m    188\u001b[0m         \u001b[1;31m# ### Import Layout ###\u001b[0m\u001b[1;33m\u001b[0m\u001b[1;33m\u001b[0m\u001b[1;33m\u001b[0m\u001b[0m\n\u001b[0;32m    189\u001b[0m         self._layout_obj = self._layout_validator.validate_coerce(\n\u001b[1;32m--> 190\u001b[1;33m             \u001b[0mlayout\u001b[0m\u001b[1;33m,\u001b[0m \u001b[0mskip_invalid\u001b[0m\u001b[1;33m=\u001b[0m\u001b[0mskip_invalid\u001b[0m\u001b[1;33m,\u001b[0m \u001b[0m_validate\u001b[0m\u001b[1;33m=\u001b[0m\u001b[0mself\u001b[0m\u001b[1;33m.\u001b[0m\u001b[0m_validate\u001b[0m\u001b[1;33m\u001b[0m\u001b[1;33m\u001b[0m\u001b[0m\n\u001b[0m\u001b[0;32m    191\u001b[0m         )\n\u001b[0;32m    192\u001b[0m \u001b[1;33m\u001b[0m\u001b[0m\n",
      "\u001b[1;32mC:\\ProgramData\\Miniconda3\\envs\\mf_main\\lib\\site-packages\\_plotly_utils\\basevalidators.py\u001b[0m in \u001b[0;36mvalidate_coerce\u001b[1;34m(self, v, skip_invalid, _validate)\u001b[0m\n\u001b[0;32m   2444\u001b[0m \u001b[1;33m\u001b[0m\u001b[0m\n\u001b[0;32m   2445\u001b[0m         \u001b[1;32melif\u001b[0m \u001b[0misinstance\u001b[0m\u001b[1;33m(\u001b[0m\u001b[0mv\u001b[0m\u001b[1;33m,\u001b[0m \u001b[0mdict\u001b[0m\u001b[1;33m)\u001b[0m\u001b[1;33m:\u001b[0m\u001b[1;33m\u001b[0m\u001b[1;33m\u001b[0m\u001b[0m\n\u001b[1;32m-> 2446\u001b[1;33m             \u001b[0mv\u001b[0m \u001b[1;33m=\u001b[0m \u001b[0mself\u001b[0m\u001b[1;33m.\u001b[0m\u001b[0mdata_class\u001b[0m\u001b[1;33m(\u001b[0m\u001b[0mv\u001b[0m\u001b[1;33m,\u001b[0m \u001b[0mskip_invalid\u001b[0m\u001b[1;33m=\u001b[0m\u001b[0mskip_invalid\u001b[0m\u001b[1;33m,\u001b[0m \u001b[0m_validate\u001b[0m\u001b[1;33m=\u001b[0m\u001b[0m_validate\u001b[0m\u001b[1;33m)\u001b[0m\u001b[1;33m\u001b[0m\u001b[1;33m\u001b[0m\u001b[0m\n\u001b[0m\u001b[0;32m   2447\u001b[0m \u001b[1;33m\u001b[0m\u001b[0m\n\u001b[0;32m   2448\u001b[0m         \u001b[1;32melif\u001b[0m \u001b[0misinstance\u001b[0m\u001b[1;33m(\u001b[0m\u001b[0mv\u001b[0m\u001b[1;33m,\u001b[0m \u001b[0mself\u001b[0m\u001b[1;33m.\u001b[0m\u001b[0mdata_class\u001b[0m\u001b[1;33m)\u001b[0m\u001b[1;33m:\u001b[0m\u001b[1;33m\u001b[0m\u001b[1;33m\u001b[0m\u001b[0m\n",
      "\u001b[1;32mC:\\ProgramData\\Miniconda3\\envs\\mf_main\\lib\\site-packages\\plotly\\graph_objs\\_layout.py\u001b[0m in \u001b[0;36m__init__\u001b[1;34m(self, arg, activeshape, angularaxis, annotations, annotationdefaults, autosize, bargap, bargroupgap, barmode, barnorm, boxgap, boxgroupgap, boxmode, calendar, clickmode, coloraxis, colorscale, colorway, datarevision, direction, dragmode, editrevision, extendfunnelareacolors, extendpiecolors, extendsunburstcolors, extendtreemapcolors, font, funnelareacolorway, funnelgap, funnelgroupgap, funnelmode, geo, grid, height, hiddenlabels, hiddenlabelssrc, hidesources, hoverdistance, hoverlabel, hovermode, images, imagedefaults, legend, mapbox, margin, meta, metasrc, modebar, newshape, orientation, paper_bgcolor, piecolorway, plot_bgcolor, polar, radialaxis, scene, selectdirection, selectionrevision, separators, shapes, shapedefaults, showlegend, sliders, sliderdefaults, spikedistance, sunburstcolorway, template, ternary, title, titlefont, transition, treemapcolorway, uirevision, uniformtext, updatemenus, updatemenudefaults, violingap, violingroupgap, violinmode, waterfallgap, waterfallgroupgap, waterfallmode, width, xaxis, yaxis, **kwargs)\u001b[0m\n\u001b[0;32m   5750\u001b[0m         \u001b[0m_v\u001b[0m \u001b[1;33m=\u001b[0m \u001b[0mannotations\u001b[0m \u001b[1;32mif\u001b[0m \u001b[0mannotations\u001b[0m \u001b[1;32mis\u001b[0m \u001b[1;32mnot\u001b[0m \u001b[1;32mNone\u001b[0m \u001b[1;32melse\u001b[0m \u001b[0m_v\u001b[0m\u001b[1;33m\u001b[0m\u001b[1;33m\u001b[0m\u001b[0m\n\u001b[0;32m   5751\u001b[0m         \u001b[1;32mif\u001b[0m \u001b[0m_v\u001b[0m \u001b[1;32mis\u001b[0m \u001b[1;32mnot\u001b[0m \u001b[1;32mNone\u001b[0m\u001b[1;33m:\u001b[0m\u001b[1;33m\u001b[0m\u001b[1;33m\u001b[0m\u001b[0m\n\u001b[1;32m-> 5752\u001b[1;33m             \u001b[0mself\u001b[0m\u001b[1;33m[\u001b[0m\u001b[1;34m\"annotations\"\u001b[0m\u001b[1;33m]\u001b[0m \u001b[1;33m=\u001b[0m \u001b[0m_v\u001b[0m\u001b[1;33m\u001b[0m\u001b[1;33m\u001b[0m\u001b[0m\n\u001b[0m\u001b[0;32m   5753\u001b[0m         \u001b[0m_v\u001b[0m \u001b[1;33m=\u001b[0m \u001b[0marg\u001b[0m\u001b[1;33m.\u001b[0m\u001b[0mpop\u001b[0m\u001b[1;33m(\u001b[0m\u001b[1;34m\"annotationdefaults\"\u001b[0m\u001b[1;33m,\u001b[0m \u001b[1;32mNone\u001b[0m\u001b[1;33m)\u001b[0m\u001b[1;33m\u001b[0m\u001b[1;33m\u001b[0m\u001b[0m\n\u001b[0;32m   5754\u001b[0m         \u001b[0m_v\u001b[0m \u001b[1;33m=\u001b[0m \u001b[0mannotationdefaults\u001b[0m \u001b[1;32mif\u001b[0m \u001b[0mannotationdefaults\u001b[0m \u001b[1;32mis\u001b[0m \u001b[1;32mnot\u001b[0m \u001b[1;32mNone\u001b[0m \u001b[1;32melse\u001b[0m \u001b[0m_v\u001b[0m\u001b[1;33m\u001b[0m\u001b[1;33m\u001b[0m\u001b[0m\n",
      "\u001b[1;32mC:\\ProgramData\\Miniconda3\\envs\\mf_main\\lib\\site-packages\\plotly\\basedatatypes.py\u001b[0m in \u001b[0;36m__setitem__\u001b[1;34m(self, prop, value)\u001b[0m\n\u001b[0;32m   4906\u001b[0m         \u001b[1;32mif\u001b[0m \u001b[0mmatch\u001b[0m \u001b[1;32mis\u001b[0m \u001b[1;32mNone\u001b[0m\u001b[1;33m:\u001b[0m\u001b[1;33m\u001b[0m\u001b[1;33m\u001b[0m\u001b[0m\n\u001b[0;32m   4907\u001b[0m             \u001b[1;31m# Set as ordinary property\u001b[0m\u001b[1;33m\u001b[0m\u001b[1;33m\u001b[0m\u001b[1;33m\u001b[0m\u001b[0m\n\u001b[1;32m-> 4908\u001b[1;33m             \u001b[0msuper\u001b[0m\u001b[1;33m(\u001b[0m\u001b[0mBaseLayoutHierarchyType\u001b[0m\u001b[1;33m,\u001b[0m \u001b[0mself\u001b[0m\u001b[1;33m)\u001b[0m\u001b[1;33m.\u001b[0m\u001b[0m__setitem__\u001b[0m\u001b[1;33m(\u001b[0m\u001b[0mprop\u001b[0m\u001b[1;33m,\u001b[0m \u001b[0mvalue\u001b[0m\u001b[1;33m)\u001b[0m\u001b[1;33m\u001b[0m\u001b[1;33m\u001b[0m\u001b[0m\n\u001b[0m\u001b[0;32m   4909\u001b[0m         \u001b[1;32melse\u001b[0m\u001b[1;33m:\u001b[0m\u001b[1;33m\u001b[0m\u001b[1;33m\u001b[0m\u001b[0m\n\u001b[0;32m   4910\u001b[0m             \u001b[1;31m# Set as subplotid property\u001b[0m\u001b[1;33m\u001b[0m\u001b[1;33m\u001b[0m\u001b[1;33m\u001b[0m\u001b[0m\n",
      "\u001b[1;32mC:\\ProgramData\\Miniconda3\\envs\\mf_main\\lib\\site-packages\\plotly\\basedatatypes.py\u001b[0m in \u001b[0;36m__setitem__\u001b[1;34m(self, prop, value)\u001b[0m\n\u001b[0;32m   3926\u001b[0m                 \u001b[1;31m# ### Handle compound array property ###\u001b[0m\u001b[1;33m\u001b[0m\u001b[1;33m\u001b[0m\u001b[1;33m\u001b[0m\u001b[0m\n\u001b[0;32m   3927\u001b[0m                 \u001b[1;32melif\u001b[0m \u001b[0misinstance\u001b[0m\u001b[1;33m(\u001b[0m\u001b[0mvalidator\u001b[0m\u001b[1;33m,\u001b[0m \u001b[1;33m(\u001b[0m\u001b[0mCompoundArrayValidator\u001b[0m\u001b[1;33m,\u001b[0m \u001b[0mBaseDataValidator\u001b[0m\u001b[1;33m)\u001b[0m\u001b[1;33m)\u001b[0m\u001b[1;33m:\u001b[0m\u001b[1;33m\u001b[0m\u001b[1;33m\u001b[0m\u001b[0m\n\u001b[1;32m-> 3928\u001b[1;33m                     \u001b[0mself\u001b[0m\u001b[1;33m.\u001b[0m\u001b[0m_set_array_prop\u001b[0m\u001b[1;33m(\u001b[0m\u001b[0mprop\u001b[0m\u001b[1;33m,\u001b[0m \u001b[0mvalue\u001b[0m\u001b[1;33m)\u001b[0m\u001b[1;33m\u001b[0m\u001b[1;33m\u001b[0m\u001b[0m\n\u001b[0m\u001b[0;32m   3929\u001b[0m \u001b[1;33m\u001b[0m\u001b[0m\n\u001b[0;32m   3930\u001b[0m                 \u001b[1;31m# ### Handle simple property ###\u001b[0m\u001b[1;33m\u001b[0m\u001b[1;33m\u001b[0m\u001b[1;33m\u001b[0m\u001b[0m\n",
      "\u001b[1;32mC:\\ProgramData\\Miniconda3\\envs\\mf_main\\lib\\site-packages\\plotly\\basedatatypes.py\u001b[0m in \u001b[0;36m_set_array_prop\u001b[1;34m(self, prop, val)\u001b[0m\n\u001b[0;32m   4381\u001b[0m         \u001b[1;31m# ------------\u001b[0m\u001b[1;33m\u001b[0m\u001b[1;33m\u001b[0m\u001b[1;33m\u001b[0m\u001b[0m\n\u001b[0;32m   4382\u001b[0m         \u001b[0mvalidator\u001b[0m \u001b[1;33m=\u001b[0m \u001b[0mself\u001b[0m\u001b[1;33m.\u001b[0m\u001b[0m_get_validator\u001b[0m\u001b[1;33m(\u001b[0m\u001b[0mprop\u001b[0m\u001b[1;33m)\u001b[0m\u001b[1;33m\u001b[0m\u001b[1;33m\u001b[0m\u001b[0m\n\u001b[1;32m-> 4383\u001b[1;33m         \u001b[0mval\u001b[0m \u001b[1;33m=\u001b[0m \u001b[0mvalidator\u001b[0m\u001b[1;33m.\u001b[0m\u001b[0mvalidate_coerce\u001b[0m\u001b[1;33m(\u001b[0m\u001b[0mval\u001b[0m\u001b[1;33m,\u001b[0m \u001b[0mskip_invalid\u001b[0m\u001b[1;33m=\u001b[0m\u001b[0mself\u001b[0m\u001b[1;33m.\u001b[0m\u001b[0m_skip_invalid\u001b[0m\u001b[1;33m)\u001b[0m\u001b[1;33m\u001b[0m\u001b[1;33m\u001b[0m\u001b[0m\n\u001b[0m\u001b[0;32m   4384\u001b[0m \u001b[1;33m\u001b[0m\u001b[0m\n\u001b[0;32m   4385\u001b[0m         \u001b[1;31m# Save deep copies of current and new states\u001b[0m\u001b[1;33m\u001b[0m\u001b[1;33m\u001b[0m\u001b[1;33m\u001b[0m\u001b[0m\n",
      "\u001b[1;32mC:\\ProgramData\\Miniconda3\\envs\\mf_main\\lib\\site-packages\\_plotly_utils\\basevalidators.py\u001b[0m in \u001b[0;36mvalidate_coerce\u001b[1;34m(self, v, skip_invalid)\u001b[0m\n\u001b[0;32m   2536\u001b[0m                     \u001b[0mres\u001b[0m\u001b[1;33m.\u001b[0m\u001b[0mappend\u001b[0m\u001b[1;33m(\u001b[0m\u001b[0mself\u001b[0m\u001b[1;33m.\u001b[0m\u001b[0mdata_class\u001b[0m\u001b[1;33m(\u001b[0m\u001b[0mv_el\u001b[0m\u001b[1;33m)\u001b[0m\u001b[1;33m)\u001b[0m\u001b[1;33m\u001b[0m\u001b[1;33m\u001b[0m\u001b[0m\n\u001b[0;32m   2537\u001b[0m                 \u001b[1;32melif\u001b[0m \u001b[0misinstance\u001b[0m\u001b[1;33m(\u001b[0m\u001b[0mv_el\u001b[0m\u001b[1;33m,\u001b[0m \u001b[0mdict\u001b[0m\u001b[1;33m)\u001b[0m\u001b[1;33m:\u001b[0m\u001b[1;33m\u001b[0m\u001b[1;33m\u001b[0m\u001b[0m\n\u001b[1;32m-> 2538\u001b[1;33m                     \u001b[0mres\u001b[0m\u001b[1;33m.\u001b[0m\u001b[0mappend\u001b[0m\u001b[1;33m(\u001b[0m\u001b[0mself\u001b[0m\u001b[1;33m.\u001b[0m\u001b[0mdata_class\u001b[0m\u001b[1;33m(\u001b[0m\u001b[0mv_el\u001b[0m\u001b[1;33m,\u001b[0m \u001b[0mskip_invalid\u001b[0m\u001b[1;33m=\u001b[0m\u001b[0mskip_invalid\u001b[0m\u001b[1;33m)\u001b[0m\u001b[1;33m)\u001b[0m\u001b[1;33m\u001b[0m\u001b[1;33m\u001b[0m\u001b[0m\n\u001b[0m\u001b[0;32m   2539\u001b[0m                 \u001b[1;32melse\u001b[0m\u001b[1;33m:\u001b[0m\u001b[1;33m\u001b[0m\u001b[1;33m\u001b[0m\u001b[0m\n\u001b[0;32m   2540\u001b[0m                     \u001b[1;32mif\u001b[0m \u001b[0mskip_invalid\u001b[0m\u001b[1;33m:\u001b[0m\u001b[1;33m\u001b[0m\u001b[1;33m\u001b[0m\u001b[0m\n",
      "\u001b[1;32mC:\\ProgramData\\Miniconda3\\envs\\mf_main\\lib\\site-packages\\plotly\\graph_objs\\layout\\_annotation.py\u001b[0m in \u001b[0;36m__init__\u001b[1;34m(self, arg, align, arrowcolor, arrowhead, arrowside, arrowsize, arrowwidth, ax, axref, ay, ayref, bgcolor, bordercolor, borderpad, borderwidth, captureevents, clicktoshow, font, height, hoverlabel, hovertext, name, opacity, showarrow, standoff, startarrowhead, startarrowsize, startstandoff, templateitemname, text, textangle, valign, visible, width, x, xanchor, xclick, xref, xshift, y, yanchor, yclick, yref, yshift, **kwargs)\u001b[0m\n\u001b[0;32m   1773\u001b[0m         \u001b[0m_v\u001b[0m \u001b[1;33m=\u001b[0m \u001b[0marrowcolor\u001b[0m \u001b[1;32mif\u001b[0m \u001b[0marrowcolor\u001b[0m \u001b[1;32mis\u001b[0m \u001b[1;32mnot\u001b[0m \u001b[1;32mNone\u001b[0m \u001b[1;32melse\u001b[0m \u001b[0m_v\u001b[0m\u001b[1;33m\u001b[0m\u001b[1;33m\u001b[0m\u001b[0m\n\u001b[0;32m   1774\u001b[0m         \u001b[1;32mif\u001b[0m \u001b[0m_v\u001b[0m \u001b[1;32mis\u001b[0m \u001b[1;32mnot\u001b[0m \u001b[1;32mNone\u001b[0m\u001b[1;33m:\u001b[0m\u001b[1;33m\u001b[0m\u001b[1;33m\u001b[0m\u001b[0m\n\u001b[1;32m-> 1775\u001b[1;33m             \u001b[0mself\u001b[0m\u001b[1;33m[\u001b[0m\u001b[1;34m\"arrowcolor\"\u001b[0m\u001b[1;33m]\u001b[0m \u001b[1;33m=\u001b[0m \u001b[0m_v\u001b[0m\u001b[1;33m\u001b[0m\u001b[1;33m\u001b[0m\u001b[0m\n\u001b[0m\u001b[0;32m   1776\u001b[0m         \u001b[0m_v\u001b[0m \u001b[1;33m=\u001b[0m \u001b[0marg\u001b[0m\u001b[1;33m.\u001b[0m\u001b[0mpop\u001b[0m\u001b[1;33m(\u001b[0m\u001b[1;34m\"arrowhead\"\u001b[0m\u001b[1;33m,\u001b[0m \u001b[1;32mNone\u001b[0m\u001b[1;33m)\u001b[0m\u001b[1;33m\u001b[0m\u001b[1;33m\u001b[0m\u001b[0m\n\u001b[0;32m   1777\u001b[0m         \u001b[0m_v\u001b[0m \u001b[1;33m=\u001b[0m \u001b[0marrowhead\u001b[0m \u001b[1;32mif\u001b[0m \u001b[0marrowhead\u001b[0m \u001b[1;32mis\u001b[0m \u001b[1;32mnot\u001b[0m \u001b[1;32mNone\u001b[0m \u001b[1;32melse\u001b[0m \u001b[0m_v\u001b[0m\u001b[1;33m\u001b[0m\u001b[1;33m\u001b[0m\u001b[0m\n",
      "\u001b[1;32mC:\\ProgramData\\Miniconda3\\envs\\mf_main\\lib\\site-packages\\plotly\\basedatatypes.py\u001b[0m in \u001b[0;36m__setitem__\u001b[1;34m(self, prop, value)\u001b[0m\n\u001b[0;32m   3930\u001b[0m                 \u001b[1;31m# ### Handle simple property ###\u001b[0m\u001b[1;33m\u001b[0m\u001b[1;33m\u001b[0m\u001b[1;33m\u001b[0m\u001b[0m\n\u001b[0;32m   3931\u001b[0m                 \u001b[1;32melse\u001b[0m\u001b[1;33m:\u001b[0m\u001b[1;33m\u001b[0m\u001b[1;33m\u001b[0m\u001b[0m\n\u001b[1;32m-> 3932\u001b[1;33m                     \u001b[0mself\u001b[0m\u001b[1;33m.\u001b[0m\u001b[0m_set_prop\u001b[0m\u001b[1;33m(\u001b[0m\u001b[0mprop\u001b[0m\u001b[1;33m,\u001b[0m \u001b[0mvalue\u001b[0m\u001b[1;33m)\u001b[0m\u001b[1;33m\u001b[0m\u001b[1;33m\u001b[0m\u001b[0m\n\u001b[0m\u001b[0;32m   3933\u001b[0m             \u001b[1;32melse\u001b[0m\u001b[1;33m:\u001b[0m\u001b[1;33m\u001b[0m\u001b[1;33m\u001b[0m\u001b[0m\n\u001b[0;32m   3934\u001b[0m                 \u001b[1;31m# Make sure properties dict is initialized\u001b[0m\u001b[1;33m\u001b[0m\u001b[1;33m\u001b[0m\u001b[1;33m\u001b[0m\u001b[0m\n",
      "\u001b[1;32mC:\\ProgramData\\Miniconda3\\envs\\mf_main\\lib\\site-packages\\plotly\\basedatatypes.py\u001b[0m in \u001b[0;36m_set_prop\u001b[1;34m(self, prop, val)\u001b[0m\n\u001b[0;32m   4248\u001b[0m                 \u001b[1;32mreturn\u001b[0m\u001b[1;33m\u001b[0m\u001b[1;33m\u001b[0m\u001b[0m\n\u001b[0;32m   4249\u001b[0m             \u001b[1;32melse\u001b[0m\u001b[1;33m:\u001b[0m\u001b[1;33m\u001b[0m\u001b[1;33m\u001b[0m\u001b[0m\n\u001b[1;32m-> 4250\u001b[1;33m                 \u001b[1;32mraise\u001b[0m \u001b[0merr\u001b[0m\u001b[1;33m\u001b[0m\u001b[1;33m\u001b[0m\u001b[0m\n\u001b[0m\u001b[0;32m   4251\u001b[0m \u001b[1;33m\u001b[0m\u001b[0m\n\u001b[0;32m   4252\u001b[0m         \u001b[1;31m# val is None\u001b[0m\u001b[1;33m\u001b[0m\u001b[1;33m\u001b[0m\u001b[1;33m\u001b[0m\u001b[0m\n",
      "\u001b[1;32mC:\\ProgramData\\Miniconda3\\envs\\mf_main\\lib\\site-packages\\plotly\\basedatatypes.py\u001b[0m in \u001b[0;36m_set_prop\u001b[1;34m(self, prop, val)\u001b[0m\n\u001b[0;32m   4243\u001b[0m \u001b[1;33m\u001b[0m\u001b[0m\n\u001b[0;32m   4244\u001b[0m         \u001b[1;32mtry\u001b[0m\u001b[1;33m:\u001b[0m\u001b[1;33m\u001b[0m\u001b[1;33m\u001b[0m\u001b[0m\n\u001b[1;32m-> 4245\u001b[1;33m             \u001b[0mval\u001b[0m \u001b[1;33m=\u001b[0m \u001b[0mvalidator\u001b[0m\u001b[1;33m.\u001b[0m\u001b[0mvalidate_coerce\u001b[0m\u001b[1;33m(\u001b[0m\u001b[0mval\u001b[0m\u001b[1;33m)\u001b[0m\u001b[1;33m\u001b[0m\u001b[1;33m\u001b[0m\u001b[0m\n\u001b[0m\u001b[0;32m   4246\u001b[0m         \u001b[1;32mexcept\u001b[0m \u001b[0mValueError\u001b[0m \u001b[1;32mas\u001b[0m \u001b[0merr\u001b[0m\u001b[1;33m:\u001b[0m\u001b[1;33m\u001b[0m\u001b[1;33m\u001b[0m\u001b[0m\n\u001b[0;32m   4247\u001b[0m             \u001b[1;32mif\u001b[0m \u001b[0mself\u001b[0m\u001b[1;33m.\u001b[0m\u001b[0m_skip_invalid\u001b[0m\u001b[1;33m:\u001b[0m\u001b[1;33m\u001b[0m\u001b[1;33m\u001b[0m\u001b[0m\n",
      "\u001b[1;32mC:\\ProgramData\\Miniconda3\\envs\\mf_main\\lib\\site-packages\\_plotly_utils\\basevalidators.py\u001b[0m in \u001b[0;36mvalidate_coerce\u001b[1;34m(self, v, should_raise)\u001b[0m\n\u001b[0;32m   1359\u001b[0m             \u001b[0mvalidated_v\u001b[0m \u001b[1;33m=\u001b[0m \u001b[0mself\u001b[0m\u001b[1;33m.\u001b[0m\u001b[0mvc_scalar\u001b[0m\u001b[1;33m(\u001b[0m\u001b[0mv\u001b[0m\u001b[1;33m)\u001b[0m\u001b[1;33m\u001b[0m\u001b[1;33m\u001b[0m\u001b[0m\n\u001b[0;32m   1360\u001b[0m             \u001b[1;32mif\u001b[0m \u001b[0mvalidated_v\u001b[0m \u001b[1;32mis\u001b[0m \u001b[1;32mNone\u001b[0m \u001b[1;32mand\u001b[0m \u001b[0mshould_raise\u001b[0m\u001b[1;33m:\u001b[0m\u001b[1;33m\u001b[0m\u001b[1;33m\u001b[0m\u001b[0m\n\u001b[1;32m-> 1361\u001b[1;33m                 \u001b[0mself\u001b[0m\u001b[1;33m.\u001b[0m\u001b[0mraise_invalid_val\u001b[0m\u001b[1;33m(\u001b[0m\u001b[0mv\u001b[0m\u001b[1;33m)\u001b[0m\u001b[1;33m\u001b[0m\u001b[1;33m\u001b[0m\u001b[0m\n\u001b[0m\u001b[0;32m   1362\u001b[0m \u001b[1;33m\u001b[0m\u001b[0m\n\u001b[0;32m   1363\u001b[0m             \u001b[0mv\u001b[0m \u001b[1;33m=\u001b[0m \u001b[0mvalidated_v\u001b[0m\u001b[1;33m\u001b[0m\u001b[1;33m\u001b[0m\u001b[0m\n",
      "\u001b[1;32mC:\\ProgramData\\Miniconda3\\envs\\mf_main\\lib\\site-packages\\_plotly_utils\\basevalidators.py\u001b[0m in \u001b[0;36mraise_invalid_val\u001b[1;34m(self, v, inds)\u001b[0m\n\u001b[0;32m    283\u001b[0m                 \u001b[0mtyp\u001b[0m\u001b[1;33m=\u001b[0m\u001b[0mtype_str\u001b[0m\u001b[1;33m(\u001b[0m\u001b[0mv\u001b[0m\u001b[1;33m)\u001b[0m\u001b[1;33m,\u001b[0m\u001b[1;33m\u001b[0m\u001b[1;33m\u001b[0m\u001b[0m\n\u001b[0;32m    284\u001b[0m                 \u001b[0mv\u001b[0m\u001b[1;33m=\u001b[0m\u001b[0mrepr\u001b[0m\u001b[1;33m(\u001b[0m\u001b[0mv\u001b[0m\u001b[1;33m)\u001b[0m\u001b[1;33m,\u001b[0m\u001b[1;33m\u001b[0m\u001b[1;33m\u001b[0m\u001b[0m\n\u001b[1;32m--> 285\u001b[1;33m                 \u001b[0mvalid_clr_desc\u001b[0m\u001b[1;33m=\u001b[0m\u001b[0mself\u001b[0m\u001b[1;33m.\u001b[0m\u001b[0mdescription\u001b[0m\u001b[1;33m(\u001b[0m\u001b[1;33m)\u001b[0m\u001b[1;33m,\u001b[0m\u001b[1;33m\u001b[0m\u001b[1;33m\u001b[0m\u001b[0m\n\u001b[0m\u001b[0;32m    286\u001b[0m             )\n\u001b[0;32m    287\u001b[0m         )\n",
      "\u001b[1;31mValueError\u001b[0m: \n    Invalid value of type 'builtins.str' received for the 'arrowcolor' property of layout.annotation\n        Received value: ''\n\n    The 'arrowcolor' property is a color and may be specified as:\n      - A hex string (e.g. '#ff0000')\n      - An rgb/rgba string (e.g. 'rgb(255,0,0)')\n      - An hsl/hsla string (e.g. 'hsl(0,100%,50%)')\n      - An hsv/hsva string (e.g. 'hsv(0,100%,100%)')\n      - A named CSS color:\n            aliceblue, antiquewhite, aqua, aquamarine, azure,\n            beige, bisque, black, blanchedalmond, blue,\n            blueviolet, brown, burlywood, cadetblue,\n            chartreuse, chocolate, coral, cornflowerblue,\n            cornsilk, crimson, cyan, darkblue, darkcyan,\n            darkgoldenrod, darkgray, darkgrey, darkgreen,\n            darkkhaki, darkmagenta, darkolivegreen, darkorange,\n            darkorchid, darkred, darksalmon, darkseagreen,\n            darkslateblue, darkslategray, darkslategrey,\n            darkturquoise, darkviolet, deeppink, deepskyblue,\n            dimgray, dimgrey, dodgerblue, firebrick,\n            floralwhite, forestgreen, fuchsia, gainsboro,\n            ghostwhite, gold, goldenrod, gray, grey, green,\n            greenyellow, honeydew, hotpink, indianred, indigo,\n            ivory, khaki, lavender, lavenderblush, lawngreen,\n            lemonchiffon, lightblue, lightcoral, lightcyan,\n            lightgoldenrodyellow, lightgray, lightgrey,\n            lightgreen, lightpink, lightsalmon, lightseagreen,\n            lightskyblue, lightslategray, lightslategrey,\n            lightsteelblue, lightyellow, lime, limegreen,\n            linen, magenta, maroon, mediumaquamarine,\n            mediumblue, mediumorchid, mediumpurple,\n            mediumseagreen, mediumslateblue, mediumspringgreen,\n            mediumturquoise, mediumvioletred, midnightblue,\n            mintcream, mistyrose, moccasin, navajowhite, navy,\n            oldlace, olive, olivedrab, orange, orangered,\n            orchid, palegoldenrod, palegreen, paleturquoise,\n            palevioletred, papayawhip, peachpuff, peru, pink,\n            plum, powderblue, purple, red, rosybrown,\n            royalblue, rebeccapurple, saddlebrown, salmon,\n            sandybrown, seagreen, seashell, sienna, silver,\n            skyblue, slateblue, slategray, slategrey, snow,\n            springgreen, steelblue, tan, teal, thistle, tomato,\n            turquoise, violet, wheat, white, whitesmoke,\n            yellow, yellowgreen"
     ]
    }
   ],
   "source": [
    "import plotly\n",
    "fpth = r'plotlyexample.plotly.json'\n",
    "fig_after_work = pio.read_json(fpth, output_type='FigureWidget')\n",
    "fig_after_work"
   ]
  },
  {
   "cell_type": "code",
   "execution_count": null,
   "metadata": {},
   "outputs": [],
   "source": []
  }
 ],
 "metadata": {
  "kernelspec": {
   "display_name": "Python [conda env:mf_main] *",
   "language": "python",
   "name": "conda-env-mf_main-py"
  },
  "language_info": {
   "codemirror_mode": {
    "name": "ipython",
    "version": 3
   },
   "file_extension": ".py",
   "mimetype": "text/x-python",
   "name": "python",
   "nbconvert_exporter": "python",
   "pygments_lexer": "ipython3",
   "version": "3.7.7"
  },
  "widgets": {
   "application/vnd.jupyter.widget-state+json": {
    "state": {
     "000fbdd7ed8f4a5fad2129e2bb2d0bf2": {
      "model_module": "@jupyter-widgets/base",
      "model_module_version": "1.2.0",
      "model_name": "LayoutModel",
      "state": {}
     },
     "01035bd30a38404b814cb6be27dd33c2": {
      "model_module": "@jupyter-widgets/controls",
      "model_module_version": "1.5.0",
      "model_name": "HBoxModel",
      "state": {
       "children": [
        "IPY_MODEL_efb062f2b618463a945374f3f7a19881",
        "IPY_MODEL_b085ff28b60b4b9c8eb39843b1d37513"
       ],
       "layout": "IPY_MODEL_a24edbb5f9b34452a89ab077a08aeda3"
      }
     },
     "0129b76d10c64b8abadcc96b98fba2f5": {
      "model_module": "@jupyter-widgets/controls",
      "model_module_version": "1.5.0",
      "model_name": "HBoxModel",
      "state": {
       "children": [
        "IPY_MODEL_375d28c2efc54877aa06482dc12a055a",
        "IPY_MODEL_76dd48e9189944b889b4b3048112e55f"
       ],
       "layout": "IPY_MODEL_4ea0c28109e348fe9c2e895353159809"
      }
     },
     "0140303497f4424cb46a5b60ce172a72": {
      "model_module": "@jupyter-widgets/base",
      "model_module_version": "1.2.0",
      "model_name": "LayoutModel",
      "state": {}
     },
     "016c9384fa3e45069e28597e67a5eba4": {
      "model_module": "@jupyter-widgets/controls",
      "model_module_version": "1.5.0",
      "model_name": "ButtonStyleModel",
      "state": {
       "font_weight": "bold"
      }
     },
     "0173fac8bcdb4068acf48385e436ddc6": {
      "model_module": "@jupyter-widgets/base",
      "model_module_version": "1.2.0",
      "model_name": "LayoutModel",
      "state": {
       "align_items": "stretch",
       "display": "flex",
       "flex_flow": "row",
       "grid_auto_columns": "True",
       "justify_content": "flex-end",
       "width": "90%"
      }
     },
     "0191e5f7ee984e918458f522bf6e818f": {
      "model_module": "@jupyter-widgets/controls",
      "model_module_version": "1.5.0",
      "model_name": "ButtonModel",
      "state": {
       "icon": "question-circle",
       "layout": "IPY_MODEL_23d432e66c10425e90b7ba5689ed2650",
       "style": "IPY_MODEL_521a5e4ec8c5440f80443b72fece9ef6",
       "tooltip": "describes the functionality of elements in the RunApp interface"
      }
     },
     "0227939a36e64a4fa445d7877680ff0e": {
      "model_module": "@jupyter-widgets/base",
      "model_module_version": "1.2.0",
      "model_name": "LayoutModel",
      "state": {}
     },
     "02c45bfd0fdd4df2b05041df22457850": {
      "model_module": "@jupyter-widgets/base",
      "model_module_version": "1.2.0",
      "model_name": "LayoutModel",
      "state": {}
     },
     "02ceefd5b80f47efa76730dd6a91dddf": {
      "model_module": "@jupyter-widgets/controls",
      "model_module_version": "1.5.0",
      "model_name": "ButtonModel",
      "state": {
       "button_style": "success",
       "description": "run",
       "layout": "IPY_MODEL_2f6397b2ac114bff830e0d1e5f1ee24d",
       "style": "IPY_MODEL_afed00ea4adb4ecd96509f82316e5efe",
       "tooltip": "execute the script based on the user inputs"
      }
     },
     "0333ed9600b04a09aef4a7d5779d0025": {
      "model_module": "@jupyter-widgets/controls",
      "model_module_version": "1.5.0",
      "model_name": "ButtonModel",
      "state": {
       "button_style": "info",
       "description": "show log",
       "layout": "IPY_MODEL_78bb47d4a06845f094be96145fcd7454",
       "style": "IPY_MODEL_18ce950cb37a42c8a9f1af0d352ac486",
       "tooltip": "show a log of when the script was executed to generate the outputs, and by who"
      }
     },
     "03700f4f22494fd2ba7ba5e8a75a2fc2": {
      "model_module": "@jupyter-widgets/controls",
      "model_module_version": "1.5.0",
      "model_name": "ButtonModel",
      "state": {
       "icon": "question-circle",
       "layout": "IPY_MODEL_1634214b1547456284b6474c5c90a833",
       "style": "IPY_MODEL_3d1b9c8b1ce5435ea1b4a2d3a19c2e5a",
       "tooltip": "describes the functionality of elements in the RunApp interface"
      }
     },
     "03aa84d8607b453c812030c37efc73e1": {
      "model_module": "@jupyter-widgets/controls",
      "model_module_version": "1.5.0",
      "model_name": "DescriptionStyleModel",
      "state": {
       "description_width": ""
      }
     },
     "03b2eaba2e9e43f287628be1148fdf4f": {
      "model_module": "@jupyter-widgets/base",
      "model_module_version": "1.2.0",
      "model_name": "LayoutModel",
      "state": {
       "display": "flex",
       "flex_flow": "row",
       "grid_auto_columns": "False",
       "justify_content": "flex-start",
       "width": "100%"
      }
     },
     "03bf7ae9f87f4dfbbcdf9d1dd841eb16": {
      "model_module": "@jupyter-widgets/base",
      "model_module_version": "1.2.0",
      "model_name": "LayoutModel",
      "state": {}
     },
     "03c9c5ab1d5c41e885d67671266b9b4e": {
      "model_module": "@jupyter-widgets/base",
      "model_module_version": "1.2.0",
      "model_name": "LayoutModel",
      "state": {}
     },
     "03ec9a5e49124cf7be7e13ea504905d2": {
      "model_module": "@jupyter-widgets/base",
      "model_module_version": "1.2.0",
      "model_name": "LayoutModel",
      "state": {}
     },
     "03f5c8b749e8476cb0d276b8ad83ac6a": {
      "model_module": "@jupyter-widgets/controls",
      "model_module_version": "1.5.0",
      "model_name": "RadioButtonsModel",
      "state": {
       "index": null,
       "layout": "IPY_MODEL_230114feb8c24ef18d9f73e88dd740f8",
       "style": "IPY_MODEL_b65ec684cf50400aa43a3840b78d3517"
      }
     },
     "0407863edb954b4a9e2e5b4d2ce1e7aa": {
      "model_module": "@jupyter-widgets/controls",
      "model_module_version": "1.5.0",
      "model_name": "HTMLModel",
      "state": {
       "layout": "IPY_MODEL_2f08bb749fb94d77a6136596f5eee787",
       "style": "IPY_MODEL_3270ca4ea53240e3a16211f492cefca9",
       "value": "<p>pipework_pressure_loss_pa_per_m</p>"
      }
     },
     "0438692644b4487f8f2748893196e964": {
      "model_module": "@jupyter-widgets/base",
      "model_module_version": "1.2.0",
      "model_name": "LayoutModel",
      "state": {}
     },
     "046521aca64347479e0372625e18b6c6": {
      "model_module": "@jupyter-widgets/base",
      "model_module_version": "1.2.0",
      "model_name": "LayoutModel",
      "state": {
       "align_items": "stretch",
       "border": "dashed 0.2px green",
       "display": "flex",
       "flex_flow": "row",
       "grid_auto_columns": "True",
       "justify_content": "flex-start",
       "width": "100%"
      }
     },
     "046efb87fac844c08bf27b8fb2a75754": {
      "model_module": "@jupyter-widgets/controls",
      "model_module_version": "1.5.0",
      "model_name": "HTMLModel",
      "state": {
       "layout": "IPY_MODEL_1e5f2b78974245548cbe5919bb4cfbf9",
       "style": "IPY_MODEL_d2cad1dc0dee4a8cb9a130e703cf61ea",
       "value": "<p>Heating system pipework length (m). Note: includes horizontal, vertical, flow and return.</p>"
      }
     },
     "05644ee1a8154b6486861ec35199b9c4": {
      "model_module": "@jupyter-widgets/controls",
      "model_module_version": "1.5.0",
      "model_name": "HTMLModel",
      "state": {
       "layout": "IPY_MODEL_57d68ef357f340118403e153b79ff8ea",
       "style": "IPY_MODEL_31e457ba6dc64b7b871fb3f555a932ce",
       "value": "<p>pipework_pressure_loss_pa_per_m</p>"
      }
     },
     "056cf8dff4a145e0a3d30ea67042908e": {
      "model_module": "@jupyter-widgets/controls",
      "model_module_version": "1.5.0",
      "model_name": "HBoxModel",
      "state": {
       "children": [
        "IPY_MODEL_7a1bf12fd18a487f85d26bb7104e738b",
        "IPY_MODEL_6d8c4402581c4bbeabacb60554ef3066"
       ],
       "layout": "IPY_MODEL_f621093c5416417b96bf1643c1751ab0"
      }
     },
     "057da868a51c42a384917c8c0411d97c": {
      "model_module": "@jupyter-widgets/base",
      "model_module_version": "1.2.0",
      "model_name": "LayoutModel",
      "state": {}
     },
     "0614aab8fbf44f90b728d77506da0f15": {
      "model_module": "@jupyter-widgets/controls",
      "model_module_version": "1.5.0",
      "model_name": "ButtonStyleModel",
      "state": {
       "font_weight": "bold"
      }
     },
     "062d49aa2f2f4133a0af4806662b7d07": {
      "model_module": "@jupyter-widgets/base",
      "model_module_version": "1.2.0",
      "model_name": "LayoutModel",
      "state": {}
     },
     "062fecf14ff141189bb657bfa981c9c1": {
      "model_module": "@jupyter-widgets/controls",
      "model_module_version": "1.5.0",
      "model_name": "ButtonModel",
      "state": {
       "button_style": "warning",
       "description": "revert to last save",
       "layout": "IPY_MODEL_6d8bc26646d2426eb8e3ebbf5f3ee91e",
       "style": "IPY_MODEL_c866c89575ce471bbdf08e7adbb80f92"
      }
     },
     "06f91c908c2243dba1a67f730e184276": {
      "model_module": "@jupyter-widgets/controls",
      "model_module_version": "1.5.0",
      "model_name": "DescriptionStyleModel",
      "state": {
       "description_width": ""
      }
     },
     "071eb5b3282b4c4b86a73eb6a9cf8cc1": {
      "model_module": "@jupyter-widgets/base",
      "model_module_version": "1.2.0",
      "model_name": "LayoutModel",
      "state": {}
     },
     "072c18b1c08148c9887db8807f7b9cb4": {
      "model_module": "@jupyter-widgets/base",
      "model_module_version": "1.2.0",
      "model_name": "LayoutModel",
      "state": {}
     },
     "073a4f50ba5e4c668d4cd0d59fa6a057": {
      "model_module": "@jupyter-widgets/controls",
      "model_module_version": "1.5.0",
      "model_name": "SliderStyleModel",
      "state": {
       "description_width": ""
      }
     },
     "07ad2aaf9d494a4ea6ab1c477ad0f1a2": {
      "model_module": "@jupyter-widgets/base",
      "model_module_version": "1.2.0",
      "model_name": "LayoutModel",
      "state": {}
     },
     "07e3cdfe0711400fbd10bc32c5c68549": {
      "model_module": "@jupyter-widgets/base",
      "model_module_version": "1.2.0",
      "model_name": "LayoutModel",
      "state": {
       "align_items": "stretch",
       "border": "dashed 0.2px green",
       "display": "flex",
       "flex_flow": "row",
       "grid_auto_columns": "True",
       "justify_content": "flex-start",
       "width": "100%"
      }
     },
     "080392de5bad430bad1ece693eeb26ca": {
      "model_module": "@jupyter-widgets/controls",
      "model_module_version": "1.5.0",
      "model_name": "HBoxModel",
      "state": {
       "children": [
        "IPY_MODEL_989caec02be949b48c4806668f225f9c",
        "IPY_MODEL_ae7d15e5c2254b959dfc5a7694d20c34"
       ],
       "layout": "IPY_MODEL_427aad3489574f7ea9569a222843025e"
      }
     },
     "0883552b81a64e258f60ee594d466b60": {
      "model_module": "@jupyter-widgets/controls",
      "model_module_version": "1.5.0",
      "model_name": "ButtonModel",
      "state": {
       "icon": "eye-slash",
       "layout": "IPY_MODEL_c3d6b3d0f1384b02bbfeca2cfcf4aa76",
       "style": "IPY_MODEL_c7bf36688d974caa9cfc1b04b7ace6e5",
       "tooltip": "removes temporary output view"
      }
     },
     "089a7f2de4cc46fc9c8dbb2e8b7d90d4": {
      "model_module": "@jupyter-widgets/base",
      "model_module_version": "1.2.0",
      "model_name": "LayoutModel",
      "state": {
       "align_items": "stretch",
       "display": "flex",
       "flex_flow": "row",
       "grid_auto_columns": "True",
       "justify_content": "flex-end",
       "width": "90%"
      }
     },
     "08f40723ac604cf7bfc904ad427d141c": {
      "model_module": "@jupyter-widgets/controls",
      "model_module_version": "1.5.0",
      "model_name": "VBoxModel",
      "state": {
       "children": [
        "IPY_MODEL_e9c4faf2d4f24bea808d38a14e3e9fe6",
        "IPY_MODEL_d3e2d15d205641ae8430ac79149696bd"
       ],
       "layout": "IPY_MODEL_49a5b28719a945f0aaed00c9c5fe7697"
      }
     },
     "093a8e0d5c4c412e83aa8b8bd0ebdb61": {
      "model_module": "@jupyter-widgets/controls",
      "model_module_version": "1.5.0",
      "model_name": "HTMLModel",
      "state": {
       "layout": "IPY_MODEL_de4d3a099b304211a95be587f4f3f052",
       "style": "IPY_MODEL_3a4dace591b44304abddc79813c1c9fc",
       "value": "<p>difference in height between the highest and lowest points in the system</p>"
      }
     },
     "096b1c4f1b6849b381c546c51aad7b43": {
      "model_module": "@jupyter-widgets/output",
      "model_module_version": "1.0.0",
      "model_name": "OutputModel",
      "state": {
       "layout": "IPY_MODEL_cebbe492c666428797f038dec27ebad2"
      }
     },
     "0a0f65412e304b06aa3de4980bb45c81": {
      "model_module": "@jupyter-widgets/output",
      "model_module_version": "1.0.0",
      "model_name": "OutputModel",
      "state": {
       "layout": "IPY_MODEL_d1478ebf65ab452f997666fad66f679c"
      }
     },
     "0a3c507e9af7437683a85afe1bb6f5ac": {
      "model_module": "@jupyter-widgets/base",
      "model_module_version": "1.2.0",
      "model_name": "LayoutModel",
      "state": {
       "align_items": "stretch",
       "display": "flex",
       "flex_flow": "row",
       "grid_auto_columns": "True",
       "justify_content": "flex-end",
       "width": "90%"
      }
     },
     "0a3f3f41baf44be18fa2ea1fcbb41372": {
      "model_module": "@jupyter-widgets/base",
      "model_module_version": "1.2.0",
      "model_name": "LayoutModel",
      "state": {}
     },
     "0a4995711e694e058cc2bb37cafb7d1b": {
      "model_module": "@jupyter-widgets/controls",
      "model_module_version": "1.5.0",
      "model_name": "HTMLModel",
      "state": {
       "layout": "IPY_MODEL_d26c24c4859d40b9b6e3eaa9fddaf049",
       "style": "IPY_MODEL_1b57dcf295fd440e8711ff7e57c71c2a",
       "value": "<p>From BS7074. The max between this and: 0.15 * static_pressure_barg  is used (Paul Button rule of thumb)</p>"
      }
     },
     "0ae4f952cbdf458283bffcff262e7282": {
      "model_module": "@jupyter-widgets/controls",
      "model_module_version": "1.5.0",
      "model_name": "HTMLModel",
      "state": {
       "layout": "IPY_MODEL_48e38a98df8a4a8f87b0ae56d9083c67",
       "style": "IPY_MODEL_efa695ac52604995b2c58d722367e613",
       "value": "<p>Expansion vessel acceptance factor (= additional volume / expansion vessel volume):</p>"
      }
     },
     "0b39106095f049da924d03136f2d6d6d": {
      "model_module": "@jupyter-widgets/controls",
      "model_module_version": "1.5.0",
      "model_name": "DescriptionStyleModel",
      "state": {
       "description_width": ""
      }
     },
     "0bc44686e0144c94bda8e1c1e876e51e": {
      "model_module": "@jupyter-widgets/base",
      "model_module_version": "1.2.0",
      "model_name": "LayoutModel",
      "state": {}
     },
     "0c4bbf9c1d2c419a99ba4210333c4bca": {
      "model_module": "@jupyter-widgets/base",
      "model_module_version": "1.2.0",
      "model_name": "LayoutModel",
      "state": {}
     },
     "0c57d080e13b47bf8356f98e0472ef69": {
      "model_module": "@jupyter-widgets/controls",
      "model_module_version": "1.5.0",
      "model_name": "DescriptionStyleModel",
      "state": {
       "description_width": ""
      }
     },
     "0cab9f39869945a49a541330d6860d45": {
      "model_module": "@jupyter-widgets/controls",
      "model_module_version": "1.5.0",
      "model_name": "SliderStyleModel",
      "state": {
       "description_width": ""
      }
     },
     "0ce0d04fe3414c4b867428546a81a63c": {
      "model_module": "@jupyter-widgets/controls",
      "model_module_version": "1.5.0",
      "model_name": "ButtonStyleModel",
      "state": {
       "font_weight": "bold"
      }
     },
     "0d13c48162b446df93842c297e8f3cf8": {
      "model_module": "@jupyter-widgets/base",
      "model_module_version": "1.2.0",
      "model_name": "LayoutModel",
      "state": {}
     },
     "0d6edbd5599f438986c05ef7863dd8e3": {
      "model_module": "@jupyter-widgets/controls",
      "model_module_version": "1.5.0",
      "model_name": "ButtonModel",
      "state": {
       "button_style": "success",
       "description": "save changes",
       "layout": "IPY_MODEL_52ae6f5c2898412b87c4f5127878cfd7",
       "style": "IPY_MODEL_8c01bb6202b8491da7d78604bd19c4e9"
      }
     },
     "0d883c6189bb442f93fca8e7a46812d6": {
      "model_module": "@jupyter-widgets/controls",
      "model_module_version": "1.5.0",
      "model_name": "HTMLModel",
      "state": {
       "layout": "IPY_MODEL_b4bb071f769a406d99393a599bdd991a",
       "style": "IPY_MODEL_eb6bae1f50c740c6943977eb0a7bd45c",
       "value": "<p>pipework_length_m</p>"
      }
     },
     "0d95aff5453245bf99e3dac4f3b58f8c": {
      "model_module": "@jupyter-widgets/controls",
      "model_module_version": "1.5.0",
      "model_name": "ButtonStyleModel",
      "state": {
       "font_weight": "bold"
      }
     },
     "0daf424bec89419e98f55a66caf7e60f": {
      "model_module": "@jupyter-widgets/controls",
      "model_module_version": "1.5.0",
      "model_name": "ButtonModel",
      "state": {
       "button_style": "success",
       "description": "save changes",
       "layout": "IPY_MODEL_98dd775bbfe34411b4596c3dfdb2266b",
       "style": "IPY_MODEL_47c108def0a740c2a3fefdc584986533"
      }
     },
     "0ddcde23094943d78ec8cb761b9a6a57": {
      "model_module": "@jupyter-widgets/base",
      "model_module_version": "1.2.0",
      "model_name": "LayoutModel",
      "state": {
       "display": "flex",
       "flex_flow": "row",
       "grid_auto_columns": "False",
       "justify_content": "flex-start",
       "width": "100%"
      }
     },
     "0e0c21a1a68c494c93ddd20ab1cea879": {
      "model_module": "@jupyter-widgets/base",
      "model_module_version": "1.2.0",
      "model_name": "LayoutModel",
      "state": {
       "align_items": "stretch",
       "display": "flex",
       "flex_flow": "row",
       "grid_auto_columns": "True",
       "justify_content": "flex-end",
       "width": "90%"
      }
     },
     "0e2d5154bdd84020ae8a20cf959e0f3b": {
      "model_module": "@jupyter-widgets/base",
      "model_module_version": "1.2.0",
      "model_name": "LayoutModel",
      "state": {
       "height": "30px",
       "width": "auto"
      }
     },
     "0e5e26980d7b461f903e16cc4fd9bdce": {
      "model_module": "@jupyter-widgets/controls",
      "model_module_version": "1.5.0",
      "model_name": "HBoxModel",
      "state": {
       "children": [
        "IPY_MODEL_1eeb142f18ec41e59633a3d26ba7560e",
        "IPY_MODEL_8f41c3738d70476ab79a23ad9795f8e0"
       ],
       "layout": "IPY_MODEL_65332006cfaf4b309a9070b2bbee6c3f"
      }
     },
     "0ea4c830d7a3451a9ecf86d62bd409ff": {
      "model_module": "@jupyter-widgets/output",
      "model_module_version": "1.0.0",
      "model_name": "OutputModel",
      "state": {
       "layout": "IPY_MODEL_8738756a5ba74ede9503bd8937a8f11f"
      }
     },
     "0f2ac17859384c559366d368b661c9cc": {
      "model_module": "@jupyter-widgets/controls",
      "model_module_version": "1.5.0",
      "model_name": "ButtonModel",
      "state": {
       "button_style": "success",
       "description": "save changes",
       "layout": "IPY_MODEL_5954d6a37197454dab3daee1de6a4446",
       "style": "IPY_MODEL_c1f54bcba1144be59448b64225f36401"
      }
     },
     "0fbe4ef159584d45a415824c75c5d96a": {
      "model_module": "@jupyter-widgets/controls",
      "model_module_version": "1.5.0",
      "model_name": "HBoxModel",
      "state": {
       "children": [
        "IPY_MODEL_213c0ff769964ddd94f7dc8ad99f8a1d",
        "IPY_MODEL_b6e63279a6bf4d24b8b198111fb4675e"
       ],
       "layout": "IPY_MODEL_a0d78320b79a4ce59d98ca7376b3b7cb"
      }
     },
     "10242d6c08bf4ee8b3b2c3cb7422b063": {
      "model_module": "@jupyter-widgets/base",
      "model_module_version": "1.2.0",
      "model_name": "LayoutModel",
      "state": {}
     },
     "1041ea0d4cce4bf69930a990f5d8f2f7": {
      "model_module": "@jupyter-widgets/controls",
      "model_module_version": "1.5.0",
      "model_name": "VBoxModel",
      "state": {
       "children": [
        "IPY_MODEL_a730d05be5114380a27ec1999ddd41fc",
        "IPY_MODEL_7b759e4fa2e948ed9e1ab3a001f45558"
       ],
       "layout": "IPY_MODEL_8db3587f8ad94cc9b6468ebfe19343cf"
      }
     },
     "10a031721d14476fba609cccf5113c6e": {
      "model_module": "@jupyter-widgets/controls",
      "model_module_version": "1.5.0",
      "model_name": "DescriptionStyleModel",
      "state": {
       "description_width": ""
      }
     },
     "10cd158fccc942bea28e4c0e694126f4": {
      "model_module": "@jupyter-widgets/base",
      "model_module_version": "1.2.0",
      "model_name": "LayoutModel",
      "state": {}
     },
     "10d9e634dcf74cd0b28de1b61ac0feb1": {
      "model_module": "@jupyter-widgets/output",
      "model_module_version": "1.0.0",
      "model_name": "OutputModel",
      "state": {
       "layout": "IPY_MODEL_1844ef983e70492987fe559a891e1ffc"
      }
     },
     "11111443a85f4a73b9c34e86769db123": {
      "model_module": "@jupyter-widgets/base",
      "model_module_version": "1.2.0",
      "model_name": "LayoutModel",
      "state": {
       "align_items": "stretch",
       "width": "100%"
      }
     },
     "11459050baba4014b2f40a02925e271b": {
      "model_module": "@jupyter-widgets/output",
      "model_module_version": "1.0.0",
      "model_name": "OutputModel",
      "state": {
       "layout": "IPY_MODEL_8c5ad91e31894101a3b427c976aba672"
      }
     },
     "115c603f3a494ae590ccef065b212332": {
      "model_module": "@jupyter-widgets/controls",
      "model_module_version": "1.5.0",
      "model_name": "DescriptionStyleModel",
      "state": {
       "description_width": ""
      }
     },
     "11dd2830d4f6437e9cc7cf22d2932bfc": {
      "model_module": "@jupyter-widgets/base",
      "model_module_version": "1.2.0",
      "model_name": "LayoutModel",
      "state": {
       "align_items": "stretch",
       "display": "flex",
       "flex_flow": "row",
       "grid_auto_columns": "True",
       "justify_content": "flex-start",
       "width": "80%"
      }
     },
     "11e10d7eb50c4a74b170a2a64d2ec33d": {
      "model_module": "@jupyter-widgets/base",
      "model_module_version": "1.2.0",
      "model_name": "LayoutModel",
      "state": {
       "width": "100%"
      }
     },
     "11fb6362a56d4d8aab63b6fa5f3449fe": {
      "model_module": "@jupyter-widgets/base",
      "model_module_version": "1.2.0",
      "model_name": "LayoutModel",
      "state": {}
     },
     "123dc3bcbc55465b88e6cf965f73e3a4": {
      "model_module": "@jupyter-widgets/controls",
      "model_module_version": "1.5.0",
      "model_name": "TextModel",
      "state": {
       "description": "script",
       "disabled": true,
       "layout": "IPY_MODEL_2f72ab999df94054b43f9e56f57fc596",
       "style": "IPY_MODEL_6fad444b0046465db7da7b9c9a91f21a",
       "value": "C:\\engDev\\git_mf\\ipyrun\\examples\\scripts\\expansion_vessel_sizing.py"
      }
     },
     "13cc844e36884697a2d241190ca0e773": {
      "model_module": "@jupyter-widgets/controls",
      "model_module_version": "1.5.0",
      "model_name": "HBoxModel",
      "state": {
       "children": [
        "IPY_MODEL_748b9a438d06457cb467f75770a13315",
        "IPY_MODEL_a0adfd2855cd4398ac0a81004c6dfbf2"
       ],
       "layout": "IPY_MODEL_896c03e5c1554ccc90787cc955680985"
      }
     },
     "13f24ab5b11c444eb4347383092ca8fe": {
      "model_module": "@jupyter-widgets/controls",
      "model_module_version": "1.5.0",
      "model_name": "HBoxModel",
      "state": {
       "children": [
        "IPY_MODEL_438158e83d0b4f06989a37fbffd6567d",
        "IPY_MODEL_046efb87fac844c08bf27b8fb2a75754"
       ],
       "layout": "IPY_MODEL_69b822484cc14bc0ae607f50f230b976"
      }
     },
     "142355cb4c244d88b2d4bb6ee2eb7b4b": {
      "model_module": "@jupyter-widgets/controls",
      "model_module_version": "1.5.0",
      "model_name": "ButtonStyleModel",
      "state": {
       "font_weight": "bold"
      }
     },
     "1449155f0ebc44aba8676b980c60ad5b": {
      "model_module": "@jupyter-widgets/controls",
      "model_module_version": "1.5.0",
      "model_name": "HTMLModel",
      "state": {
       "layout": "IPY_MODEL_0438692644b4487f8f2748893196e964",
       "style": "IPY_MODEL_798bb6298bc64ec8aabb354240e8513c",
       "value": "<p>From BS7074. The max between this and: 0.15 * static_pressure_barg  is used (Paul Button rule of thumb)</p>"
      }
     },
     "14c60afdf992458384f58ed1aa139609": {
      "model_module": "@jupyter-widgets/controls",
      "model_module_version": "1.5.0",
      "model_name": "SelectMultipleModel",
      "state": {
       "_options_labels": [
        "C:\\engDev\\git_mf\\ipyrun\\examples\\notebooks\\expansion_vessel_sizing.csv"
       ],
       "description": "outputs",
       "index": [],
       "layout": "IPY_MODEL_8998470f934a4155877c85accc822d32",
       "rows": 4,
       "style": "IPY_MODEL_4a09e3f2bf514e66af5d2152056f064a"
      }
     },
     "14dd678250744ce5b7300259607a107f": {
      "model_module": "@jupyter-widgets/base",
      "model_module_version": "1.2.0",
      "model_name": "LayoutModel",
      "state": {
       "height": "30px",
       "max_width": "30px",
       "padding": "3px"
      }
     },
     "1506d98610b34d2d9d67d96f07b1f86f": {
      "model_module": "@jupyter-widgets/controls",
      "model_module_version": "1.5.0",
      "model_name": "FloatTextModel",
      "state": {
       "layout": "IPY_MODEL_a4bc9428ea2449549b4a555b4dfb0717",
       "step": null,
       "style": "IPY_MODEL_6360d6bfada04a039aae37802ff29c70",
       "value": 20
      }
     },
     "1634214b1547456284b6474c5c90a833": {
      "model_module": "@jupyter-widgets/base",
      "model_module_version": "1.2.0",
      "model_name": "LayoutModel",
      "state": {
       "width": "5%"
      }
     },
     "16f64a528b4c4c6382b399e64bca7a2c": {
      "model_module": "@jupyter-widgets/controls",
      "model_module_version": "1.5.0",
      "model_name": "ButtonStyleModel",
      "state": {
       "font_weight": "bold"
      }
     },
     "170244fa42e34c1e9b795b81b38dbe29": {
      "model_module": "@jupyter-widgets/controls",
      "model_module_version": "1.5.0",
      "model_name": "ButtonStyleModel",
      "state": {
       "font_weight": "bold"
      }
     },
     "1737c4c7b48a4e6c89b2b4196768cbf4": {
      "model_module": "@jupyter-widgets/controls",
      "model_module_version": "1.5.0",
      "model_name": "ButtonModel",
      "state": {
       "button_style": "info",
       "description": "show source code",
       "layout": "IPY_MODEL_57e634a3528c4bf48785e43f2e9b8ca8",
       "style": "IPY_MODEL_912022200a814f878b019e4bfc428d6f",
       "tooltip": "shows the raw python code in the preview window below"
      }
     },
     "1748e1c687cc489ea3cb11325b85422e": {
      "model_module": "@jupyter-widgets/controls",
      "model_module_version": "1.5.0",
      "model_name": "HBoxModel",
      "state": {
       "children": [
        "IPY_MODEL_0407863edb954b4a9e2e5b4d2ce1e7aa",
        "IPY_MODEL_5bdb6616ccaf4eff924c58be7e310aef"
       ],
       "layout": "IPY_MODEL_a2cb2f37f00b4bcb89cf6fc37e8153c3"
      }
     },
     "18341c96588e4514917b29a8b94e5104": {
      "model_module": "@jupyter-widgets/controls",
      "model_module_version": "1.5.0",
      "model_name": "HBoxModel",
      "state": {
       "children": [
        "IPY_MODEL_cf0edad94c374cd0ab1cea9566af0d4b"
       ],
       "layout": "IPY_MODEL_d8ee2cf6598e45e48f6741a052d9d318"
      }
     },
     "1844ef983e70492987fe559a891e1ffc": {
      "model_module": "@jupyter-widgets/base",
      "model_module_version": "1.2.0",
      "model_name": "LayoutModel",
      "state": {}
     },
     "186b364731604c6c96b8b98058f93302": {
      "model_module": "@jupyter-widgets/controls",
      "model_module_version": "1.5.0",
      "model_name": "HBoxModel",
      "state": {
       "children": [
        "IPY_MODEL_cfd9cba196b24f77b7e855bb5c444f2f",
        "IPY_MODEL_4a7d594fdaf14726b06a10b51575a111"
       ],
       "layout": "IPY_MODEL_94850d451d364693998a69f9c5ced977"
      }
     },
     "186be5147fb0422b8396bf332414d988": {
      "model_module": "@jupyter-widgets/base",
      "model_module_version": "1.2.0",
      "model_name": "LayoutModel",
      "state": {
       "align_items": "stretch",
       "display": "flex",
       "flex_flow": "row",
       "grid_auto_columns": "True",
       "justify_content": "flex-start",
       "width": "80%"
      }
     },
     "18ce950cb37a42c8a9f1af0d352ac486": {
      "model_module": "@jupyter-widgets/controls",
      "model_module_version": "1.5.0",
      "model_name": "ButtonStyleModel",
      "state": {
       "font_weight": "bold"
      }
     },
     "18d03510deaf4d399af355345acf7013": {
      "model_module": "@jupyter-widgets/base",
      "model_module_version": "1.2.0",
      "model_name": "LayoutModel",
      "state": {
       "width": "5%"
      }
     },
     "1955d3aa918e4d41878a0f58036b6164": {
      "model_module": "@jupyter-widgets/controls",
      "model_module_version": "1.5.0",
      "model_name": "DescriptionStyleModel",
      "state": {
       "description_width": ""
      }
     },
     "1985d283956f44a7962894d5151f59a0": {
      "model_module": "@jupyter-widgets/controls",
      "model_module_version": "1.5.0",
      "model_name": "BoxModel",
      "state": {
       "children": [
        "IPY_MODEL_d1b0511c9a4c46e38ebd9895f3da61ef"
       ],
       "layout": "IPY_MODEL_1ab06a3db6f04ab0b34eba00dbf40bb5"
      }
     },
     "19865414fab54bc8819f25619e7c9e4b": {
      "model_module": "@jupyter-widgets/controls",
      "model_module_version": "1.5.0",
      "model_name": "FloatTextModel",
      "state": {
       "layout": "IPY_MODEL_8af935d6a56448d7b6e2c7996076e341",
       "step": null,
       "style": "IPY_MODEL_1f813b05878a43a3bd81808116481609",
       "value": 48
      }
     },
     "19ae7ddfa39e4771b093c955ddfc6816": {
      "model_module": "@jupyter-widgets/output",
      "model_module_version": "1.0.0",
      "model_name": "OutputModel",
      "state": {
       "layout": "IPY_MODEL_c8711bef156148aab0c9ba8bc8e433bf"
      }
     },
     "19eddbe86f9e4d909b3c7626e9a8859f": {
      "model_module": "@jupyter-widgets/controls",
      "model_module_version": "1.5.0",
      "model_name": "VBoxModel",
      "state": {
       "children": [
        "IPY_MODEL_442bdcdb79444bfb97002c6c8c960b1f",
        "IPY_MODEL_7289529a57cc4ffc945f81737c47f9e8",
        "IPY_MODEL_5bac53a6c1fb4b24af8d10bd5b6ea9cb"
       ],
       "layout": "IPY_MODEL_7008743c1ad44fd5ae806e23d9907c7b"
      }
     },
     "1a750852857b4171ab88b06316da5239": {
      "model_module": "@jupyter-widgets/base",
      "model_module_version": "1.2.0",
      "model_name": "LayoutModel",
      "state": {}
     },
     "1a795a19df3f424c802719943bb67481": {
      "model_module": "@jupyter-widgets/base",
      "model_module_version": "1.2.0",
      "model_name": "LayoutModel",
      "state": {}
     },
     "1ab06a3db6f04ab0b34eba00dbf40bb5": {
      "model_module": "@jupyter-widgets/base",
      "model_module_version": "1.2.0",
      "model_name": "LayoutModel",
      "state": {}
     },
     "1addfd176ba64b10be3270009b2d6f12": {
      "model_module": "@jupyter-widgets/controls",
      "model_module_version": "1.5.0",
      "model_name": "SliderStyleModel",
      "state": {
       "description_width": ""
      }
     },
     "1aeac6ceb9f2411ebcc59be826061229": {
      "model_module": "@jupyter-widgets/controls",
      "model_module_version": "1.5.0",
      "model_name": "HBoxModel",
      "state": {
       "children": [
        "IPY_MODEL_1c203e2af67c45aab5f064a0a1356223"
       ],
       "layout": "IPY_MODEL_7c25a69ddb284172aafe3b9b96708617"
      }
     },
     "1b1ba307c18541ab97e14bfb99ada651": {
      "model_module": "@jupyter-widgets/controls",
      "model_module_version": "1.5.0",
      "model_name": "HTMLModel",
      "state": {
       "layout": "IPY_MODEL_f1ff3d0521c7467498a9acad064326f5",
       "style": "IPY_MODEL_23ce364122a94acdaed2d4be8887dd5b",
       "value": "<p>Expansion vessel acceptance factor (= additional volume / expansion vessel volume):</p>"
      }
     },
     "1b57dcf295fd440e8711ff7e57c71c2a": {
      "model_module": "@jupyter-widgets/controls",
      "model_module_version": "1.5.0",
      "model_name": "DescriptionStyleModel",
      "state": {
       "description_width": ""
      }
     },
     "1ba2fbfcd64d42379335b8053b38575c": {
      "model_module": "@jupyter-widgets/base",
      "model_module_version": "1.2.0",
      "model_name": "LayoutModel",
      "state": {
       "height": "30px",
       "width": "auto"
      }
     },
     "1bf27bd9601f4d828ce5358be8a74a3a": {
      "model_module": "@jupyter-widgets/controls",
      "model_module_version": "1.5.0",
      "model_name": "ButtonModel",
      "state": {
       "icon": "question-circle",
       "layout": "IPY_MODEL_e6a9e95cee5d4d4db85899da8562618e",
       "style": "IPY_MODEL_a6d5a9fd38824a53af2cec5fb5f98bd1",
       "tooltip": "describes the functionality of elements in the RunApp interface"
      }
     },
     "1c203e2af67c45aab5f064a0a1356223": {
      "model_module": "@jupyter-widgets/controls",
      "model_module_version": "1.5.0",
      "model_name": "HBoxModel",
      "state": {
       "children": [
        "IPY_MODEL_f3867fd760394a98860357350d003922",
        "IPY_MODEL_441d3b2d1d5c461299dc565a9fc19410"
       ],
       "layout": "IPY_MODEL_fbd59e9c4cd34217baacd64fafde5aa7"
      }
     },
     "1c513fe67fc84c319a6bd57242d31fe5": {
      "model_module": "@jupyter-widgets/base",
      "model_module_version": "1.2.0",
      "model_name": "LayoutModel",
      "state": {}
     },
     "1ccb44eb3580463e88c065317798f218": {
      "model_module": "@jupyter-widgets/base",
      "model_module_version": "1.2.0",
      "model_name": "LayoutModel",
      "state": {
       "border": "0px",
       "margin": "0px",
       "padding": "0px"
      }
     },
     "1cf8c1564e4c450e8eb56bf588990168": {
      "model_module": "@jupyter-widgets/controls",
      "model_module_version": "1.5.0",
      "model_name": "HBoxModel",
      "state": {
       "children": [
        "IPY_MODEL_d7773e303cad4bfea0989071d6802cae",
        "IPY_MODEL_44fa93fce35647c7824fee1a3dde592e"
       ],
       "layout": "IPY_MODEL_4dd6cc6d161943dda7dbd50bc50f5ee4"
      }
     },
     "1d1b26aec06d43f1a49a9008abac347e": {
      "model_module": "@jupyter-widgets/controls",
      "model_module_version": "1.5.0",
      "model_name": "DescriptionStyleModel",
      "state": {
       "description_width": ""
      }
     },
     "1d445762d29e40c38d4b3380572c36bb": {
      "model_module": "@jupyter-widgets/controls",
      "model_module_version": "1.5.0",
      "model_name": "ButtonModel",
      "state": {
       "button_style": "warning",
       "description": "revert to last save",
       "layout": "IPY_MODEL_e933676e135d43c1a339b10ea9d2c38a",
       "style": "IPY_MODEL_170244fa42e34c1e9b795b81b38dbe29"
      }
     },
     "1d6f007c43d9480b94120a6009e497bd": {
      "model_module": "@jupyter-widgets/base",
      "model_module_version": "1.2.0",
      "model_name": "LayoutModel",
      "state": {}
     },
     "1e5f2b78974245548cbe5919bb4cfbf9": {
      "model_module": "@jupyter-widgets/base",
      "model_module_version": "1.2.0",
      "model_name": "LayoutModel",
      "state": {}
     },
     "1e79cbde67714807bef0f28f8e1681bd": {
      "model_module": "@jupyter-widgets/controls",
      "model_module_version": "1.5.0",
      "model_name": "HBoxModel",
      "state": {
       "children": [
        "IPY_MODEL_b976c4ad44db40a4998ff3bdf7be1483",
        "IPY_MODEL_5d9e6cda25ef4860b9c445c174163351"
       ],
       "layout": "IPY_MODEL_b2cff06083df402183fdac9cfb064cba"
      }
     },
     "1ed8fcef4f8a4453bf8ba8a4dac68939": {
      "model_module": "@jupyter-widgets/base",
      "model_module_version": "1.2.0",
      "model_name": "LayoutModel",
      "state": {}
     },
     "1eeb142f18ec41e59633a3d26ba7560e": {
      "model_module": "@jupyter-widgets/controls",
      "model_module_version": "1.5.0",
      "model_name": "FloatTextModel",
      "state": {
       "layout": "IPY_MODEL_3bede8991083425ebe0bd64a73c9b809",
       "step": null,
       "style": "IPY_MODEL_c8ff8c17917047aba97db524485fa2c4",
       "value": 257
      }
     },
     "1f1f7b0e79fe428aa5f4fa6d080da23b": {
      "model_module": "@jupyter-widgets/base",
      "model_module_version": "1.2.0",
      "model_name": "LayoutModel",
      "state": {}
     },
     "1f813b05878a43a3bd81808116481609": {
      "model_module": "@jupyter-widgets/controls",
      "model_module_version": "1.5.0",
      "model_name": "DescriptionStyleModel",
      "state": {
       "description_width": ""
      }
     },
     "1fa0824d615b4d668d8dd147d0f8860b": {
      "model_module": "@jupyter-widgets/controls",
      "model_module_version": "1.5.0",
      "model_name": "ButtonModel",
      "state": {
       "button_style": "warning",
       "description": "revert to last save",
       "layout": "IPY_MODEL_e3d2f45bc2be4142b1fa9196b1922113",
       "style": "IPY_MODEL_c587b4edc7eb49f194c64409fb52c998"
      }
     },
     "1fcf5dcf76894912a743660b3638147e": {
      "model_module": "@jupyter-widgets/base",
      "model_module_version": "1.2.0",
      "model_name": "LayoutModel",
      "state": {}
     },
     "20ad3a0771e44d1da97db5cf4bb1bf1c": {
      "model_module": "@jupyter-widgets/controls",
      "model_module_version": "1.5.0",
      "model_name": "HBoxModel",
      "state": {
       "children": [
        "IPY_MODEL_9870b32f20db4628850597d5dd9bb507",
        "IPY_MODEL_dbe6e61063104db09c7f2ae863f90c97"
       ],
       "layout": "IPY_MODEL_22690567a725458484a896457becb878"
      }
     },
     "213c0ff769964ddd94f7dc8ad99f8a1d": {
      "model_module": "@jupyter-widgets/controls",
      "model_module_version": "1.5.0",
      "model_name": "HTMLModel",
      "state": {
       "layout": "IPY_MODEL_07ad2aaf9d494a4ea6ab1c477ad0f1a2",
       "style": "IPY_MODEL_50f433895aae41199007eef3d4cdefae",
       "value": "<p>pipework_pressure_loss_pa_per_m</p>"
      }
     },
     "21a95172916848c4b9e966eb899aa230": {
      "model_module": "@jupyter-widgets/output",
      "model_module_version": "1.0.0",
      "model_name": "OutputModel",
      "state": {
       "layout": "IPY_MODEL_ab8c464fc3fd40089a347bbafbea6c32",
       "outputs": [
        {
         "data": {
          "application/vnd.jupyter.widget-view+json": {
           "model_id": "900bebeb818f46ea9837d1406e0a6d80",
           "version_major": 2,
           "version_minor": 0
          },
          "text/plain": "VBox(children=(HBox(children=(ToggleButton(value=False, button_style='info', description='inputs from file'), …"
         },
         "metadata": {},
         "output_type": "display_data"
        },
        {
         "data": {
          "application/vnd.jupyter.widget-view+json": {
           "model_id": "7110c4dfb0f543cdbbfebe8142ae934e",
           "version_major": 2,
           "version_minor": 0
          },
          "text/plain": "VBox(children=(HBox(children=(HBox(children=(HTML(value='<p>water_volume_m3</p>'), HBox(children=(FloatText(va…"
         },
         "metadata": {},
         "output_type": "display_data"
        },
        {
         "data": {
          "application/vnd.jupyter.widget-view+json": {
           "model_id": "cb8af7ce364d41dc8116ef92472dbcd7",
           "version_major": 2,
           "version_minor": 0
          },
          "text/plain": "Output()"
         },
         "metadata": {},
         "output_type": "display_data"
        }
       ]
      }
     },
     "21e52f72726c49fdacb65eec79e03a66": {
      "model_module": "@jupyter-widgets/base",
      "model_module_version": "1.2.0",
      "model_name": "LayoutModel",
      "state": {}
     },
     "2207bd7956844d869e306c64543d9243": {
      "model_module": "@jupyter-widgets/output",
      "model_module_version": "1.0.0",
      "model_name": "OutputModel",
      "state": {
       "layout": "IPY_MODEL_7736f4f2c4454746835ea6a094775d58"
      }
     },
     "22690567a725458484a896457becb878": {
      "model_module": "@jupyter-widgets/base",
      "model_module_version": "1.2.0",
      "model_name": "LayoutModel",
      "state": {
       "align_items": "stretch",
       "display": "flex",
       "flex_flow": "row",
       "grid_auto_columns": "True",
       "justify_content": "flex-end",
       "width": "90%"
      }
     },
     "22ea75f4eb994cb992cf7f1fd18c8c90": {
      "model_module": "@jupyter-widgets/controls",
      "model_module_version": "1.5.0",
      "model_name": "DescriptionStyleModel",
      "state": {
       "description_width": ""
      }
     },
     "230114feb8c24ef18d9f73e88dd740f8": {
      "model_module": "@jupyter-widgets/base",
      "model_module_version": "1.2.0",
      "model_name": "LayoutModel",
      "state": {
       "display": "flex",
       "flex_flow": "row",
       "grid_auto_columns": "False",
       "justify_content": "flex-start",
       "width": "100%"
      }
     },
     "23144116bc8840f2b2b6dad67d5a9ffa": {
      "model_module": "@jupyter-widgets/controls",
      "model_module_version": "1.5.0",
      "model_name": "HTMLModel",
      "state": {
       "layout": "IPY_MODEL_334777ac3a594a1aa052b6775aafa252",
       "style": "IPY_MODEL_2659096f6ae741a183833ad929759e8b",
       "value": "<p>margin_1_bar</p>"
      }
     },
     "2344fdccf53a415fad6f376e80282fa6": {
      "model_module": "@jupyter-widgets/base",
      "model_module_version": "1.2.0",
      "model_name": "LayoutModel",
      "state": {}
     },
     "2363e2e0096c4bbcbbf7ffa34e729998": {
      "model_module": "@jupyter-widgets/controls",
      "model_module_version": "1.5.0",
      "model_name": "DescriptionStyleModel",
      "state": {
       "description_width": ""
      }
     },
     "23a5d04378d743748f8e56ba6aa1d8ea": {
      "model_module": "@jupyter-widgets/base",
      "model_module_version": "1.2.0",
      "model_name": "LayoutModel",
      "state": {
       "height": "30px",
       "width": "auto"
      }
     },
     "23aef1b187ae47f7add3f3f7ed2e2473": {
      "model_module": "@jupyter-widgets/controls",
      "model_module_version": "1.5.0",
      "model_name": "HBoxModel",
      "state": {
       "children": [
        "IPY_MODEL_a3c94508e65c4035bf1bca6a17ceac98"
       ],
       "layout": "IPY_MODEL_40ee237d047a4fec956b24ead0ffa78c"
      }
     },
     "23ce364122a94acdaed2d4be8887dd5b": {
      "model_module": "@jupyter-widgets/controls",
      "model_module_version": "1.5.0",
      "model_name": "DescriptionStyleModel",
      "state": {
       "description_width": ""
      }
     },
     "23d432e66c10425e90b7ba5689ed2650": {
      "model_module": "@jupyter-widgets/base",
      "model_module_version": "1.2.0",
      "model_name": "LayoutModel",
      "state": {
       "width": "5%"
      }
     },
     "243717641eda47cfafad38b779791e83": {
      "model_module": "@jupyter-widgets/controls",
      "model_module_version": "1.5.0",
      "model_name": "FloatTextModel",
      "state": {
       "layout": "IPY_MODEL_e5e0d0db295c4373a5f52e1e399d89b8",
       "step": null,
       "style": "IPY_MODEL_fdc9ba2497e440b4b0f8ecbbfdf9de25",
       "value": 20
      }
     },
     "249eb77c862d40fc9225e72aa6c9e595": {
      "model_module": "@jupyter-widgets/controls",
      "model_module_version": "1.5.0",
      "model_name": "DescriptionStyleModel",
      "state": {
       "description_width": ""
      }
     },
     "258b273e8bcc4af9ae2d966074ae897e": {
      "model_module": "@jupyter-widgets/base",
      "model_module_version": "1.2.0",
      "model_name": "LayoutModel",
      "state": {}
     },
     "260678b363b24e3298f2b2bbb65894c7": {
      "model_module": "@jupyter-widgets/output",
      "model_module_version": "1.0.0",
      "model_name": "OutputModel",
      "state": {
       "layout": "IPY_MODEL_4ea60ebcf696403984051b79091ebba0"
      }
     },
     "2659096f6ae741a183833ad929759e8b": {
      "model_module": "@jupyter-widgets/controls",
      "model_module_version": "1.5.0",
      "model_name": "DescriptionStyleModel",
      "state": {
       "description_width": ""
      }
     },
     "267ee3ed5382434db0801d063e1ad72d": {
      "model_module": "@jupyter-widgets/controls",
      "model_module_version": "1.5.0",
      "model_name": "HBoxModel",
      "state": {
       "children": [
        "IPY_MODEL_70227ba5e0964aacbead61fef23d1aa0",
        "IPY_MODEL_fd43ec1298c24a08bbeb73de9da78acc"
       ],
       "layout": "IPY_MODEL_b79bc55b3d7e4b328c8d9efb5fe3a2fe"
      }
     },
     "26ba49edc8834e5b8425770d66cad964": {
      "model_module": "@jupyter-widgets/base",
      "model_module_version": "1.2.0",
      "model_name": "LayoutModel",
      "state": {}
     },
     "2750e6b9752642638f5953e5711d98a5": {
      "model_module": "@jupyter-widgets/base",
      "model_module_version": "1.2.0",
      "model_name": "LayoutModel",
      "state": {
       "align_items": "stretch",
       "display": "flex",
       "flex_flow": "row",
       "grid_auto_columns": "True",
       "justify_content": "flex-start",
       "width": "80%"
      }
     },
     "2823b010c5a845c7901f1e21c3602872": {
      "model_module": "@jupyter-widgets/base",
      "model_module_version": "1.2.0",
      "model_name": "LayoutModel",
      "state": {}
     },
     "288b7d4e68154d71af093d6fa2baaea5": {
      "model_module": "@jupyter-widgets/controls",
      "model_module_version": "1.5.0",
      "model_name": "DescriptionStyleModel",
      "state": {
       "description_width": ""
      }
     },
     "296c885f2f7741c2ba9514d47d2b1ef8": {
      "model_module": "@jupyter-widgets/controls",
      "model_module_version": "1.5.0",
      "model_name": "HBoxModel",
      "state": {
       "children": [
        "IPY_MODEL_bc4c7168acfd42a887a9668f1a63f58d",
        "IPY_MODEL_d9eccbb3140a46929efff197225cc2d2"
       ],
       "layout": "IPY_MODEL_1ccb44eb3580463e88c065317798f218"
      }
     },
     "2993339d24c4404787dd7f97b85add1b": {
      "model_module": "@jupyter-widgets/base",
      "model_module_version": "1.2.0",
      "model_name": "LayoutModel",
      "state": {}
     },
     "299e05b9d9be44e2b2a81c2de95713b2": {
      "model_module": "@jupyter-widgets/base",
      "model_module_version": "1.2.0",
      "model_name": "LayoutModel",
      "state": {}
     },
     "2ac7f90c8e634de4a494a17d7f6b3cac": {
      "model_module": "@jupyter-widgets/base",
      "model_module_version": "1.2.0",
      "model_name": "LayoutModel",
      "state": {}
     },
     "2b4a60c62809475894e4c11eeb507ce2": {
      "model_module": "@jupyter-widgets/controls",
      "model_module_version": "1.5.0",
      "model_name": "ButtonStyleModel",
      "state": {}
     },
     "2b757cb07a254531b26260cfbb32d5e4": {
      "model_module": "@jupyter-widgets/controls",
      "model_module_version": "1.5.0",
      "model_name": "FloatTextModel",
      "state": {
       "layout": "IPY_MODEL_b0ecc79510754eb7a81acfbc229496d4",
       "step": null,
       "style": "IPY_MODEL_d4f5e4388b8e44459b1c2caf3da6e2db",
       "value": 257
      }
     },
     "2b77be79bab146e39e1280e610dc39d9": {
      "model_module": "@jupyter-widgets/controls",
      "model_module_version": "1.5.0",
      "model_name": "HBoxModel",
      "state": {
       "children": [
        "IPY_MODEL_d8d695309f6245e3bcd40eb176a23c35"
       ],
       "layout": "IPY_MODEL_9c9cd129266e49749eff9622a5cd8f7b"
      }
     },
     "2b8888e2e7114c9395e39babd0c9852c": {
      "model_module": "@jupyter-widgets/controls",
      "model_module_version": "1.5.0",
      "model_name": "DescriptionStyleModel",
      "state": {
       "description_width": ""
      }
     },
     "2b9e8a476e2a48ac9293477042f9094e": {
      "model_module": "@jupyter-widgets/controls",
      "model_module_version": "1.5.0",
      "model_name": "HBoxModel",
      "state": {
       "children": [
        "IPY_MODEL_cd2ab85ba0ff42ce963b03950486fd48"
       ],
       "layout": "IPY_MODEL_bfec00b11c1d40eebec841d7f06390ef"
      }
     },
     "2c2d5b9036a747669599318baf588cfe": {
      "model_module": "@jupyter-widgets/output",
      "model_module_version": "1.0.0",
      "model_name": "OutputModel",
      "state": {
       "layout": "IPY_MODEL_810f5c89a73243898b90fca908e5e74f"
      }
     },
     "2dae6a0ae2a24f0fb22994ae21552f87": {
      "model_module": "@jupyter-widgets/controls",
      "model_module_version": "1.5.0",
      "model_name": "ButtonModel",
      "state": {
       "icon": "question-circle",
       "layout": "IPY_MODEL_ddad6603e3ed4913a1787e98ddd9d6e6",
       "style": "IPY_MODEL_91d26f1e7cc24619a39bbef081a6f686",
       "tooltip": "describes the functionality of elements in the RunApp interface"
      }
     },
     "2e65076a0d6b4e01947d1fb1498e09db": {
      "model_module": "@jupyter-widgets/controls",
      "model_module_version": "1.5.0",
      "model_name": "VBoxModel",
      "state": {
       "children": [
        "IPY_MODEL_e92851f5d3d044a486e18792a3b42fe7",
        "IPY_MODEL_5ed7dfdca6814e4e99023a40e79598bd",
        "IPY_MODEL_c19544d030a148e996388ac9038702d1"
       ],
       "layout": "IPY_MODEL_8af5826e9555479b99d2f1439da81914"
      }
     },
     "2ece55e32cc841a5a58a182e0e1d8d24": {
      "model_module": "@jupyter-widgets/base",
      "model_module_version": "1.2.0",
      "model_name": "LayoutModel",
      "state": {}
     },
     "2ef9accd04c04b699aa5032ce637721a": {
      "model_module": "@jupyter-widgets/controls",
      "model_module_version": "1.5.0",
      "model_name": "FloatTextModel",
      "state": {
       "layout": "IPY_MODEL_39ed92d4831d49708017d4a7428be5bb",
       "step": null,
       "style": "IPY_MODEL_582094ac670d4d4ebf2699e0a160fa0f",
       "value": 500
      }
     },
     "2f08bb749fb94d77a6136596f5eee787": {
      "model_module": "@jupyter-widgets/base",
      "model_module_version": "1.2.0",
      "model_name": "LayoutModel",
      "state": {}
     },
     "2f6397b2ac114bff830e0d1e5f1ee24d": {
      "model_module": "@jupyter-widgets/base",
      "model_module_version": "1.2.0",
      "model_name": "LayoutModel",
      "state": {}
     },
     "2f72ab999df94054b43f9e56f57fc596": {
      "model_module": "@jupyter-widgets/base",
      "model_module_version": "1.2.0",
      "model_name": "LayoutModel",
      "state": {
       "height": "30px",
       "width": "auto"
      }
     },
     "300add98ba5d43b9a960f56b60329f49": {
      "model_module": "@jupyter-widgets/controls",
      "model_module_version": "1.5.0",
      "model_name": "VBoxModel",
      "state": {
       "layout": "IPY_MODEL_0ddcde23094943d78ec8cb761b9a6a57"
      }
     },
     "3044dc369b614c119045e0585bf71ff9": {
      "model_module": "@jupyter-widgets/controls",
      "model_module_version": "1.5.0",
      "model_name": "FloatSliderModel",
      "state": {
       "layout": "IPY_MODEL_7fc17c5f975a4fd9879a9b56103c2377",
       "max": 2,
       "step": 0.1,
       "style": "IPY_MODEL_0cab9f39869945a49a541330d6860d45",
       "value": 1
      }
     },
     "305d8098ac3c44f4b2eec26374dde941": {
      "model_module": "@jupyter-widgets/base",
      "model_module_version": "1.2.0",
      "model_name": "LayoutModel",
      "state": {}
     },
     "30cd6bd34a394ed5a828fe050bd8d6e4": {
      "model_module": "@jupyter-widgets/controls",
      "model_module_version": "1.5.0",
      "model_name": "HBoxModel",
      "state": {
       "children": [
        "IPY_MODEL_d9d199c83938449daa89b145694cf022",
        "IPY_MODEL_ffbc92333fc74eee8405c696c1a616ee"
       ],
       "layout": "IPY_MODEL_44124ac362834391b1af58f756252a9e"
      }
     },
     "31601c2d4a654278bdebf4a1a03afedc": {
      "model_module": "@jupyter-widgets/controls",
      "model_module_version": "1.5.0",
      "model_name": "ToggleButtonModel",
      "state": {
       "button_style": "info",
       "description": "inputs from file",
       "layout": "IPY_MODEL_9f3ea723a3eb493d94a1543d72e119d6",
       "style": "IPY_MODEL_3198ef5112324bafbed35ff9b05a698f"
      }
     },
     "31886dbd74a34487a20696cbd1a56053": {
      "model_module": "@jupyter-widgets/output",
      "model_module_version": "1.0.0",
      "model_name": "OutputModel",
      "state": {
       "layout": "IPY_MODEL_4d38c275b9e64b6dbb500685b174f353"
      }
     },
     "3198ef5112324bafbed35ff9b05a698f": {
      "model_module": "@jupyter-widgets/controls",
      "model_module_version": "1.5.0",
      "model_name": "DescriptionStyleModel",
      "state": {
       "description_width": ""
      }
     },
     "31e457ba6dc64b7b871fb3f555a932ce": {
      "model_module": "@jupyter-widgets/controls",
      "model_module_version": "1.5.0",
      "model_name": "DescriptionStyleModel",
      "state": {
       "description_width": ""
      }
     },
     "323e50806eb34b0a9991bca07a64b86a": {
      "model_module": "@jupyter-widgets/controls",
      "model_module_version": "1.5.0",
      "model_name": "ButtonModel",
      "state": {
       "button_style": "info",
       "description": "preview outputs",
       "layout": "IPY_MODEL_71aa647fc9ea4ed8a0cddcd34df12ae2",
       "style": "IPY_MODEL_ba18bccb4ae94e18a44c704caf718cb7",
       "tooltip": "show a preview of the output files generated when the script runs"
      }
     },
     "325fe1012921495c9a36cddc073475b4": {
      "model_module": "@jupyter-widgets/controls",
      "model_module_version": "1.5.0",
      "model_name": "ButtonStyleModel",
      "state": {
       "font_weight": "bold"
      }
     },
     "32653169c4284e32bb2f541c3bec7e14": {
      "model_module": "@jupyter-widgets/base",
      "model_module_version": "1.2.0",
      "model_name": "LayoutModel",
      "state": {}
     },
     "3270ca4ea53240e3a16211f492cefca9": {
      "model_module": "@jupyter-widgets/controls",
      "model_module_version": "1.5.0",
      "model_name": "DescriptionStyleModel",
      "state": {
       "description_width": ""
      }
     },
     "32af73e895c0406085944d5726ad71b8": {
      "model_module": "@jupyter-widgets/controls",
      "model_module_version": "1.5.0",
      "model_name": "DescriptionStyleModel",
      "state": {
       "description_width": ""
      }
     },
     "331cccebfc084cd48fbf50deb69a9d01": {
      "model_module": "@jupyter-widgets/controls",
      "model_module_version": "1.5.0",
      "model_name": "HBoxModel",
      "state": {
       "children": [
        "IPY_MODEL_75e895d730734ed3b239406b3f281a5b",
        "IPY_MODEL_ad6258c522334e1abd73fec8810338be"
       ],
       "layout": "IPY_MODEL_089a7f2de4cc46fc9c8dbb2e8b7d90d4"
      }
     },
     "334777ac3a594a1aa052b6775aafa252": {
      "model_module": "@jupyter-widgets/base",
      "model_module_version": "1.2.0",
      "model_name": "LayoutModel",
      "state": {}
     },
     "33badd1b53854216a2b513ff28624175": {
      "model_module": "@jupyter-widgets/controls",
      "model_module_version": "1.5.0",
      "model_name": "DescriptionStyleModel",
      "state": {
       "description_width": ""
      }
     },
     "33d3e279780d43aca37b97ab4d8548b1": {
      "model_module": "@jupyter-widgets/controls",
      "model_module_version": "1.5.0",
      "model_name": "CheckboxModel",
      "state": {
       "disabled": false,
       "indent": false,
       "layout": "IPY_MODEL_341833bb25714c8fba1da113b12beac8",
       "style": "IPY_MODEL_a91bfbe592e34cab81d2ca566403ff34",
       "value": false
      }
     },
     "341833bb25714c8fba1da113b12beac8": {
      "model_module": "@jupyter-widgets/base",
      "model_module_version": "1.2.0",
      "model_name": "LayoutModel",
      "state": {
       "height": "30px",
       "max_width": "30px",
       "padding": "3px"
      }
     },
     "341b936c64c548ed898119f004775ac3": {
      "model_module": "@jupyter-widgets/controls",
      "model_module_version": "1.5.0",
      "model_name": "VBoxModel",
      "state": {
       "layout": "IPY_MODEL_ae1c2018d306407cbeb22003992abe04"
      }
     },
     "343db25ca2554fa59871210a7e805f47": {
      "model_module": "@jupyter-widgets/base",
      "model_module_version": "1.2.0",
      "model_name": "LayoutModel",
      "state": {}
     },
     "34d656cc277946ccada5b4f401a00bff": {
      "model_module": "@jupyter-widgets/controls",
      "model_module_version": "1.5.0",
      "model_name": "ButtonModel",
      "state": {
       "button_style": "info",
       "description": "show log",
       "layout": "IPY_MODEL_02c45bfd0fdd4df2b05041df22457850",
       "style": "IPY_MODEL_16f64a528b4c4c6382b399e64bca7a2c",
       "tooltip": "show a log of when the script was executed to generate the outputs, and by who"
      }
     },
     "34e2d3a71cf741bd8ae565306bdd7e68": {
      "model_module": "@jupyter-widgets/base",
      "model_module_version": "1.2.0",
      "model_name": "LayoutModel",
      "state": {
       "align_items": "stretch",
       "border": "dashed 0.2px green",
       "display": "flex",
       "flex_flow": "row",
       "grid_auto_columns": "True",
       "justify_content": "flex-start",
       "width": "100%"
      }
     },
     "3514ab15614f44afba899298cfaacd7f": {
      "model_module": "@jupyter-widgets/controls",
      "model_module_version": "1.5.0",
      "model_name": "ButtonStyleModel",
      "state": {
       "font_weight": "bold"
      }
     },
     "3607b9ef9ed342989e7d03e544d943b7": {
      "model_module": "@jupyter-widgets/base",
      "model_module_version": "1.2.0",
      "model_name": "LayoutModel",
      "state": {}
     },
     "367b153869ce4b93bdfa1abd67333274": {
      "model_module": "@jupyter-widgets/controls",
      "model_module_version": "1.5.0",
      "model_name": "HBoxModel",
      "state": {
       "children": [
        "IPY_MODEL_05644ee1a8154b6486861ec35199b9c4",
        "IPY_MODEL_6cd2522809984d82aaea17eb3666d5a2"
       ],
       "layout": "IPY_MODEL_a0bc83929f64483aa68e73489a8ca39a"
      }
     },
     "36d0f71d2c094770b97aa197bb28c139": {
      "model_module": "@jupyter-widgets/base",
      "model_module_version": "1.2.0",
      "model_name": "LayoutModel",
      "state": {
       "align_items": "stretch",
       "border": "dashed 0.2px green",
       "display": "flex",
       "flex_flow": "row",
       "grid_auto_columns": "True",
       "justify_content": "flex-start",
       "width": "100%"
      }
     },
     "36ea8c52674142b49b2c1f4b6aa04335": {
      "model_module": "@jupyter-widgets/controls",
      "model_module_version": "1.5.0",
      "model_name": "ButtonModel",
      "state": {
       "button_style": "info",
       "description": "preview outputs",
       "layout": "IPY_MODEL_5c22abce3e30407d87c965b93f6b3bad",
       "style": "IPY_MODEL_ede17382c9ae464f85a45bfc0b4f9873",
       "tooltip": "show a preview of the output files generated when the script runs"
      }
     },
     "36f5f2a4bb0e4866bf377f94666daf00": {
      "model_module": "@jupyter-widgets/base",
      "model_module_version": "1.2.0",
      "model_name": "LayoutModel",
      "state": {}
     },
     "372c0e72b1e14f54b3e94484aa0ceae2": {
      "model_module": "@jupyter-widgets/controls",
      "model_module_version": "1.5.0",
      "model_name": "FloatSliderModel",
      "state": {
       "layout": "IPY_MODEL_c473194e55c342e084852a1c64f67386",
       "max": 1,
       "step": 0.1,
       "style": "IPY_MODEL_85ebd5e897b34da492bb93673cc66e8c",
       "value": 0.3
      }
     },
     "375d28c2efc54877aa06482dc12a055a": {
      "model_module": "@jupyter-widgets/controls",
      "model_module_version": "1.5.0",
      "model_name": "FloatTextModel",
      "state": {
       "layout": "IPY_MODEL_7011ab43133d47b1ae7a1fe6a1059b88",
       "step": null,
       "style": "IPY_MODEL_06f91c908c2243dba1a67f730e184276",
       "value": 500
      }
     },
     "376ede12e0904a16b6c7bb7418168e18": {
      "model_module": "@jupyter-widgets/base",
      "model_module_version": "1.2.0",
      "model_name": "LayoutModel",
      "state": {}
     },
     "37810bf0de2d47f5a6b24450df34ffcd": {
      "model_module": "@jupyter-widgets/controls",
      "model_module_version": "1.5.0",
      "model_name": "SliderStyleModel",
      "state": {
       "description_width": ""
      }
     },
     "39ed92d4831d49708017d4a7428be5bb": {
      "model_module": "@jupyter-widgets/base",
      "model_module_version": "1.2.0",
      "model_name": "LayoutModel",
      "state": {}
     },
     "3a29390b4e8e420d852d83852c732aef": {
      "model_module": "@jupyter-widgets/base",
      "model_module_version": "1.2.0",
      "model_name": "LayoutModel",
      "state": {
       "align_items": "stretch",
       "border": "dashed 0.2px green",
       "display": "flex",
       "flex_flow": "row",
       "grid_auto_columns": "True",
       "justify_content": "flex-start",
       "width": "100%"
      }
     },
     "3a4dace591b44304abddc79813c1c9fc": {
      "model_module": "@jupyter-widgets/controls",
      "model_module_version": "1.5.0",
      "model_name": "DescriptionStyleModel",
      "state": {
       "description_width": ""
      }
     },
     "3a98fe63af994ee28fb95d97b1c2b3cf": {
      "model_module": "@jupyter-widgets/controls",
      "model_module_version": "1.5.0",
      "model_name": "VBoxModel",
      "state": {
       "children": [
        "IPY_MODEL_54c00b51464e4dac92f30421ad90b67d",
        "IPY_MODEL_7022cf03141f41fe8e7dd59b05bd462f",
        "IPY_MODEL_e8ff44a18fbf45f4bfc30193dd12d8e1",
        "IPY_MODEL_c497306836b44ed3911fa7bbd908c2be",
        "IPY_MODEL_409e0efe9b7746cda3613511d3e4cf50",
        "IPY_MODEL_23aef1b187ae47f7add3f3f7ed2e2473",
        "IPY_MODEL_5f0792fb4a3c42d391b6ee958884e644"
       ],
       "layout": "IPY_MODEL_4f177dd88650434e99e0787260a9a1c8"
      }
     },
     "3ae93f16d8ff46ffb5ad520c77a0a132": {
      "model_module": "@jupyter-widgets/controls",
      "model_module_version": "1.5.0",
      "model_name": "HBoxModel",
      "state": {
       "children": [
        "IPY_MODEL_ee677072ae384e6893059fcf4aa94069",
        "IPY_MODEL_1fa0824d615b4d668d8dd147d0f8860b",
        "IPY_MODEL_0d6edbd5599f438986c05ef7863dd8e3"
       ],
       "layout": "IPY_MODEL_b48caf5daa0f4019ab6b66f17c960ed0"
      }
     },
     "3b7404f9805445b1adf13cea2716cbdf": {
      "model_module": "@jupyter-widgets/base",
      "model_module_version": "1.2.0",
      "model_name": "LayoutModel",
      "state": {
       "align_items": "stretch",
       "display": "flex",
       "flex_flow": "row",
       "grid_auto_columns": "True",
       "justify_content": "flex-end",
       "width": "90%"
      }
     },
     "3baf9efa094a4a7aa6a27d41f93b99b3": {
      "model_module": "@jupyter-widgets/controls",
      "model_module_version": "1.5.0",
      "model_name": "HBoxModel",
      "state": {
       "children": [
        "IPY_MODEL_505bf38ab93c45f3989c941e84eae28b",
        "IPY_MODEL_b49838f94cfd4f7a8aca50e566624c13"
       ],
       "layout": "IPY_MODEL_dc60bc61640b4bd1aabd79f6a7a3ac57"
      }
     },
     "3bede8991083425ebe0bd64a73c9b809": {
      "model_module": "@jupyter-widgets/base",
      "model_module_version": "1.2.0",
      "model_name": "LayoutModel",
      "state": {}
     },
     "3c0a6067111d472c86a4e563ccfb0ff0": {
      "model_module": "@jupyter-widgets/base",
      "model_module_version": "1.2.0",
      "model_name": "LayoutModel",
      "state": {}
     },
     "3c3c294d4bd04f5e82983f888928e027": {
      "model_module": "@jupyter-widgets/base",
      "model_module_version": "1.2.0",
      "model_name": "LayoutModel",
      "state": {}
     },
     "3ca136fd16cc4d59b81f89b71055ef94": {
      "model_module": "@jupyter-widgets/base",
      "model_module_version": "1.2.0",
      "model_name": "LayoutModel",
      "state": {}
     },
     "3cef690415d64e818d322a0335d0cd4c": {
      "model_module": "@jupyter-widgets/base",
      "model_module_version": "1.2.0",
      "model_name": "LayoutModel",
      "state": {
       "align_items": "stretch",
       "display": "flex",
       "flex_flow": "row",
       "grid_auto_columns": "True",
       "justify_content": "flex-end",
       "width": "90%"
      }
     },
     "3d17c5d9a5b244bcb66366db5288f631": {
      "model_module": "@jupyter-widgets/base",
      "model_module_version": "1.2.0",
      "model_name": "LayoutModel",
      "state": {}
     },
     "3d1b9c8b1ce5435ea1b4a2d3a19c2e5a": {
      "model_module": "@jupyter-widgets/controls",
      "model_module_version": "1.5.0",
      "model_name": "ButtonStyleModel",
      "state": {
       "font_weight": "bold"
      }
     },
     "3d76e67b6bda44b09023de0b0670f993": {
      "model_module": "@jupyter-widgets/base",
      "model_module_version": "1.2.0",
      "model_name": "LayoutModel",
      "state": {}
     },
     "3ee944a303d94b10bfa9dfd7a17a56a6": {
      "model_module": "@jupyter-widgets/controls",
      "model_module_version": "1.5.0",
      "model_name": "VBoxModel",
      "state": {
       "children": [
        "IPY_MODEL_2b77be79bab146e39e1280e610dc39d9",
        "IPY_MODEL_77f862bbeb364f2bbb0799f3579ca6f3",
        "IPY_MODEL_c62e672d7deb460bae5970304679d7e1",
        "IPY_MODEL_18341c96588e4514917b29a8b94e5104",
        "IPY_MODEL_d29661d76a0849ae96966cd02b729596",
        "IPY_MODEL_d98a7356a8f4438baf958c349fc2081d",
        "IPY_MODEL_71cbb44bd57746cb963db8e23bf8bc0b"
       ],
       "layout": "IPY_MODEL_72f13a2b3b8c428c8940d6fd9b795f00"
      }
     },
     "409e0efe9b7746cda3613511d3e4cf50": {
      "model_module": "@jupyter-widgets/controls",
      "model_module_version": "1.5.0",
      "model_name": "HBoxModel",
      "state": {
       "children": [
        "IPY_MODEL_367b153869ce4b93bdfa1abd67333274"
       ],
       "layout": "IPY_MODEL_8575b83811c54f10b9011e432afd6c78"
      }
     },
     "40c44b00389d4ca7af18610fb6b8cd24": {
      "model_module": "@jupyter-widgets/controls",
      "model_module_version": "1.5.0",
      "model_name": "DescriptionStyleModel",
      "state": {
       "description_width": ""
      }
     },
     "40e6cbadfb864676ae7a16a57cd20d2d": {
      "model_module": "@jupyter-widgets/base",
      "model_module_version": "1.2.0",
      "model_name": "LayoutModel",
      "state": {
       "align_items": "stretch",
       "border": "dashed 0.2px green",
       "display": "flex",
       "flex_flow": "row",
       "grid_auto_columns": "True",
       "justify_content": "flex-start",
       "width": "100%"
      }
     },
     "40ee237d047a4fec956b24ead0ffa78c": {
      "model_module": "@jupyter-widgets/base",
      "model_module_version": "1.2.0",
      "model_name": "LayoutModel",
      "state": {
       "align_items": "stretch",
       "border": "dashed 0.2px green",
       "display": "flex",
       "flex_flow": "row",
       "grid_auto_columns": "True",
       "justify_content": "flex-start",
       "width": "100%"
      }
     },
     "411d2e9b60074f4098962b6da75e99b2": {
      "model_module": "@jupyter-widgets/base",
      "model_module_version": "1.2.0",
      "model_name": "LayoutModel",
      "state": {}
     },
     "4137137e59e846988dca7eac7a1d2ad3": {
      "model_module": "@jupyter-widgets/controls",
      "model_module_version": "1.5.0",
      "model_name": "DescriptionStyleModel",
      "state": {
       "description_width": ""
      }
     },
     "4167ca93181440b5926a473f0842b37f": {
      "model_module": "@jupyter-widgets/base",
      "model_module_version": "1.2.0",
      "model_name": "LayoutModel",
      "state": {}
     },
     "416a456971eb48929bd374a6478c0c06": {
      "model_module": "@jupyter-widgets/output",
      "model_module_version": "1.0.0",
      "model_name": "OutputModel",
      "state": {
       "layout": "IPY_MODEL_7b86af99bb3740c4838ede35443b5cce"
      }
     },
     "41ad6a28e34d40abbe4830a72fb8a169": {
      "model_module": "@jupyter-widgets/controls",
      "model_module_version": "1.5.0",
      "model_name": "HTMLModel",
      "state": {
       "layout": "IPY_MODEL_574108417b0f4dee8cc481538d4a5d76",
       "style": "IPY_MODEL_46b6a893be62438dbadca5905f5d67d7",
       "value": "<p>water_volume_m3</p>"
      }
     },
     "427aad3489574f7ea9569a222843025e": {
      "model_module": "@jupyter-widgets/base",
      "model_module_version": "1.2.0",
      "model_name": "LayoutModel",
      "state": {
       "align_items": "stretch",
       "display": "flex",
       "flex_flow": "row",
       "grid_auto_columns": "True",
       "justify_content": "flex-start",
       "width": "80%"
      }
     },
     "428c1ceb65c54254b989e12763e302db": {
      "model_module": "@jupyter-widgets/controls",
      "model_module_version": "1.5.0",
      "model_name": "ButtonModel",
      "state": {
       "icon": "eye-slash",
       "layout": "IPY_MODEL_c61a933bbfb24da194771efa82dc87f1",
       "style": "IPY_MODEL_fb0504748da64f13bbeda6c8c7c30f16",
       "tooltip": "removes temporary output view"
      }
     },
     "42942c529bd542b5b9493c3f9f89d5e8": {
      "model_module": "@jupyter-widgets/base",
      "model_module_version": "1.2.0",
      "model_name": "LayoutModel",
      "state": {}
     },
     "438158e83d0b4f06989a37fbffd6567d": {
      "model_module": "@jupyter-widgets/controls",
      "model_module_version": "1.5.0",
      "model_name": "FloatTextModel",
      "state": {
       "layout": "IPY_MODEL_c5b93628f6f045faa2885c901d64860d",
       "step": null,
       "style": "IPY_MODEL_2b8888e2e7114c9395e39babd0c9852c",
       "value": 257
      }
     },
     "43925a23214d4b399f79ee9b2f0b9780": {
      "model_module": "@jupyter-widgets/controls",
      "model_module_version": "1.5.0",
      "model_name": "VBoxModel",
      "state": {
       "children": [
        "IPY_MODEL_8a45222efb60408ca9450e278df29ce5",
        "IPY_MODEL_d3944bb33f6048888fbd241b4f418077",
        "IPY_MODEL_730ef535fce8480e8dcdb3a7a2cd42cb",
        "IPY_MODEL_68655ae23e744883a2a49dd4be7607fe",
        "IPY_MODEL_9561d65102d24a27a56f26eb2d1dc8c9",
        "IPY_MODEL_1aeac6ceb9f2411ebcc59be826061229",
        "IPY_MODEL_d031e99eea4f4abb97351e4e00211ef3"
       ],
       "layout": "IPY_MODEL_85e97ea423c848448e7b6ac6b130d5a4"
      }
     },
     "43959a0f429f4df9b44491559e8222ce": {
      "model_module": "@jupyter-widgets/controls",
      "model_module_version": "1.5.0",
      "model_name": "HTMLModel",
      "state": {
       "layout": "IPY_MODEL_21e52f72726c49fdacb65eec79e03a66",
       "style": "IPY_MODEL_bd1c5371370b4293897a0dac361b0d37",
       "value": "<p>water_volume_m3</p>"
      }
     },
     "43b00c97c2264fee9ef73abf76c9d6af": {
      "model_module": "@jupyter-widgets/base",
      "model_module_version": "1.2.0",
      "model_name": "LayoutModel",
      "state": {}
     },
     "43e0d89dcbb84adeabcbe352b133a2ba": {
      "model_module": "@jupyter-widgets/controls",
      "model_module_version": "1.5.0",
      "model_name": "HTMLModel",
      "state": {
       "layout": "IPY_MODEL_a2e6fe8dfa9e41ecb8614306a0a00c63",
       "style": "IPY_MODEL_df3d9cf229524416957182be61bb4d04",
       "value": "<p>total volume of water within the closed mechanical system</p>"
      }
     },
     "44124ac362834391b1af58f756252a9e": {
      "model_module": "@jupyter-widgets/base",
      "model_module_version": "1.2.0",
      "model_name": "LayoutModel",
      "state": {
       "align_items": "stretch",
       "display": "flex",
       "flex_flow": "row",
       "grid_auto_columns": "True",
       "justify_content": "flex-start",
       "width": "80%"
      }
     },
     "441d3b2d1d5c461299dc565a9fc19410": {
      "model_module": "@jupyter-widgets/controls",
      "model_module_version": "1.5.0",
      "model_name": "HBoxModel",
      "state": {
       "children": [
        "IPY_MODEL_3044dc369b614c119045e0585bf71ff9",
        "IPY_MODEL_67784b43d9124bae8bb66710d8bf33b7"
       ],
       "layout": "IPY_MODEL_5fd4da8086694be49783ef58dfe051f8"
      }
     },
     "442bdcdb79444bfb97002c6c8c960b1f": {
      "model_module": "@jupyter-widgets/controls",
      "model_module_version": "1.5.0",
      "model_name": "TextModel",
      "state": {
       "description": "inputs",
       "disabled": true,
       "layout": "IPY_MODEL_a18971931fb94ca2abe7dc449197a815",
       "style": "IPY_MODEL_4cdb64799fde4b3093158b7bba4d572b",
       "value": "C:\\engDev\\git_mf\\ipyrun\\examples\\notebooks\\appdata\\inputs\\inputs-expansion_vessel_sizing.json"
      }
     },
     "44b79e4e7d124ff68a2001a9d9516de9": {
      "model_module": "@jupyter-widgets/controls",
      "model_module_version": "1.5.0",
      "model_name": "DescriptionStyleModel",
      "state": {
       "description_width": ""
      }
     },
     "44fa93fce35647c7824fee1a3dde592e": {
      "model_module": "@jupyter-widgets/controls",
      "model_module_version": "1.5.0",
      "model_name": "HTMLModel",
      "state": {
       "layout": "IPY_MODEL_6af5c552f1d540aa84a8af3dc2682a00",
       "style": "IPY_MODEL_85bad78f077b4506995b2cfcc253340b",
       "value": "<p>difference in height between the highest and lowest points in the system</p>"
      }
     },
     "460831aa341d454b993febb19797a653": {
      "model_module": "@jupyter-widgets/base",
      "model_module_version": "1.2.0",
      "model_name": "LayoutModel",
      "state": {}
     },
     "46b6a893be62438dbadca5905f5d67d7": {
      "model_module": "@jupyter-widgets/controls",
      "model_module_version": "1.5.0",
      "model_name": "DescriptionStyleModel",
      "state": {
       "description_width": ""
      }
     },
     "4762919c1211461e8f7c5eb9dbe555e3": {
      "model_module": "@jupyter-widgets/controls",
      "model_module_version": "1.5.0",
      "model_name": "ButtonModel",
      "state": {
       "button_style": "info",
       "description": "show log",
       "layout": "IPY_MODEL_766e3b920cc047838c7a97f79883a555",
       "style": "IPY_MODEL_0614aab8fbf44f90b728d77506da0f15",
       "tooltip": "show a log of when the script was executed to generate the outputs, and by who"
      }
     },
     "47c108def0a740c2a3fefdc584986533": {
      "model_module": "@jupyter-widgets/controls",
      "model_module_version": "1.5.0",
      "model_name": "ButtonStyleModel",
      "state": {
       "font_weight": "bold"
      }
     },
     "4859b7b7f18e4d37b38ae2985422296e": {
      "model_module": "@jupyter-widgets/controls",
      "model_module_version": "1.5.0",
      "model_name": "ButtonModel",
      "state": {
       "button_style": "warning",
       "description": "edit inputs",
       "layout": "IPY_MODEL_f8009ed5d25f49aba5ddff0a89ea0a94",
       "style": "IPY_MODEL_bab261cfafc443a999fdcd85d8c204ba",
       "tooltip": "edit the user input information that is used when the script is executed"
      }
     },
     "485ddc5e68ed4e8b867883f6f2d79a1b": {
      "model_module": "@jupyter-widgets/base",
      "model_module_version": "1.2.0",
      "model_name": "LayoutModel",
      "state": {
       "align_items": "stretch",
       "width": "100%"
      }
     },
     "486505698ca848c9a41290f4b29b239c": {
      "model_module": "@jupyter-widgets/controls",
      "model_module_version": "1.5.0",
      "model_name": "ButtonStyleModel",
      "state": {
       "font_weight": "bold"
      }
     },
     "48a1b09b5a6849d7bfe390c0ced4765f": {
      "model_module": "@jupyter-widgets/controls",
      "model_module_version": "1.5.0",
      "model_name": "SliderStyleModel",
      "state": {
       "description_width": ""
      }
     },
     "48e38a98df8a4a8f87b0ae56d9083c67": {
      "model_module": "@jupyter-widgets/base",
      "model_module_version": "1.2.0",
      "model_name": "LayoutModel",
      "state": {}
     },
     "49a5b28719a945f0aaed00c9c5fe7697": {
      "model_module": "@jupyter-widgets/base",
      "model_module_version": "1.2.0",
      "model_name": "LayoutModel",
      "state": {}
     },
     "4a09e3f2bf514e66af5d2152056f064a": {
      "model_module": "@jupyter-widgets/controls",
      "model_module_version": "1.5.0",
      "model_name": "DescriptionStyleModel",
      "state": {
       "description_width": ""
      }
     },
     "4a7d594fdaf14726b06a10b51575a111": {
      "model_module": "@jupyter-widgets/controls",
      "model_module_version": "1.5.0",
      "model_name": "HBoxModel",
      "state": {
       "children": [
        "IPY_MODEL_a78f1ac18a6543f2a993b419eb4611ed",
        "IPY_MODEL_95a56ec53c114408931312bf02b01da9"
       ],
       "layout": "IPY_MODEL_c059d71ca95344ec9450611e9e308c31"
      }
     },
     "4b455083d7aa4413a5a914da687ca1b8": {
      "model_module": "@jupyter-widgets/base",
      "model_module_version": "1.2.0",
      "model_name": "LayoutModel",
      "state": {}
     },
     "4ba6410e49b243a08710b51180fcf9d0": {
      "model_module": "@jupyter-widgets/base",
      "model_module_version": "1.2.0",
      "model_name": "LayoutModel",
      "state": {
       "align_items": "stretch",
       "display": "flex",
       "flex_flow": "row",
       "grid_auto_columns": "True",
       "justify_content": "flex-end",
       "width": "90%"
      }
     },
     "4ba7e60a8d0b4aeea107fe6589e2bbb9": {
      "model_module": "@jupyter-widgets/controls",
      "model_module_version": "1.5.0",
      "model_name": "DescriptionStyleModel",
      "state": {
       "description_width": ""
      }
     },
     "4bac1ffea899481dab79e514aa0ee848": {
      "model_module": "@jupyter-widgets/base",
      "model_module_version": "1.2.0",
      "model_name": "LayoutModel",
      "state": {
       "align_items": "stretch",
       "border": "dashed 0.2px green",
       "display": "flex",
       "flex_flow": "row",
       "grid_auto_columns": "True",
       "justify_content": "flex-start",
       "width": "100%"
      }
     },
     "4bf73c6a28e2442593751ecbc9349926": {
      "model_module": "@jupyter-widgets/controls",
      "model_module_version": "1.5.0",
      "model_name": "HTMLModel",
      "state": {
       "layout": "IPY_MODEL_3607b9ef9ed342989e7d03e544d943b7",
       "style": "IPY_MODEL_b0d9c472a6c545598d3376584f515ec8",
       "value": "<p>pipework_pressure_loss_margin_fraction</p>"
      }
     },
     "4bfabd39268d4783ba0b313554c5cd36": {
      "model_module": "@jupyter-widgets/output",
      "model_module_version": "1.0.0",
      "model_name": "OutputModel",
      "state": {
       "layout": "IPY_MODEL_9b27b5dee3994f749b5aa82da2218294"
      }
     },
     "4bfe8b6075db4f7c930be18d499fa252": {
      "model_module": "@jupyter-widgets/base",
      "model_module_version": "1.2.0",
      "model_name": "LayoutModel",
      "state": {}
     },
     "4c5fc8eab4524052b958e547c6d8ae84": {
      "model_module": "@jupyter-widgets/base",
      "model_module_version": "1.2.0",
      "model_name": "LayoutModel",
      "state": {}
     },
     "4cdb64799fde4b3093158b7bba4d572b": {
      "model_module": "@jupyter-widgets/controls",
      "model_module_version": "1.5.0",
      "model_name": "DescriptionStyleModel",
      "state": {
       "description_width": ""
      }
     },
     "4d05d614f0fd4b3087909d8fd53afac2": {
      "model_module": "@jupyter-widgets/output",
      "model_module_version": "1.0.0",
      "model_name": "OutputModel",
      "state": {
       "layout": "IPY_MODEL_9a0d7c2fab9c4620b5ab23b460e13c0e"
      }
     },
     "4d1e0d170e0c4437a90ca5263933df1a": {
      "model_module": "@jupyter-widgets/controls",
      "model_module_version": "1.5.0",
      "model_name": "ButtonStyleModel",
      "state": {
       "font_weight": "bold"
      }
     },
     "4d38c275b9e64b6dbb500685b174f353": {
      "model_module": "@jupyter-widgets/base",
      "model_module_version": "1.2.0",
      "model_name": "LayoutModel",
      "state": {}
     },
     "4dd6cc6d161943dda7dbd50bc50f5ee4": {
      "model_module": "@jupyter-widgets/base",
      "model_module_version": "1.2.0",
      "model_name": "LayoutModel",
      "state": {
       "align_items": "stretch",
       "display": "flex",
       "flex_flow": "row",
       "grid_auto_columns": "True",
       "justify_content": "flex-start",
       "width": "80%"
      }
     },
     "4e49b4116f1344c2ab33a037b31e297b": {
      "model_module": "@jupyter-widgets/controls",
      "model_module_version": "1.5.0",
      "model_name": "HBoxModel",
      "state": {
       "children": [
        "IPY_MODEL_fd6a243e0e6c47de81e4e7c5aa512ac1"
       ],
       "layout": "IPY_MODEL_4bac1ffea899481dab79e514aa0ee848"
      }
     },
     "4e793013266f4a74b60c7dd1e5bc242c": {
      "model_module": "@jupyter-widgets/controls",
      "model_module_version": "1.5.0",
      "model_name": "HTMLModel",
      "state": {
       "layout": "IPY_MODEL_762a1be6e0a4400bad28d28c602f55ab",
       "style": "IPY_MODEL_dd74fdc7a9334a509bf1a05b8baa21fd",
       "value": "<p>Expansion vessel acceptance factor (= additional volume / expansion vessel volume):</p>"
      }
     },
     "4ea0c28109e348fe9c2e895353159809": {
      "model_module": "@jupyter-widgets/base",
      "model_module_version": "1.2.0",
      "model_name": "LayoutModel",
      "state": {
       "align_items": "stretch",
       "display": "flex",
       "flex_flow": "row",
       "grid_auto_columns": "True",
       "justify_content": "flex-start",
       "width": "80%"
      }
     },
     "4ea60ebcf696403984051b79091ebba0": {
      "model_module": "@jupyter-widgets/base",
      "model_module_version": "1.2.0",
      "model_name": "LayoutModel",
      "state": {}
     },
     "4ec404fe7bac4909819106135c7b7664": {
      "model_module": "@jupyter-widgets/base",
      "model_module_version": "1.2.0",
      "model_name": "LayoutModel",
      "state": {}
     },
     "4f177dd88650434e99e0787260a9a1c8": {
      "model_module": "@jupyter-widgets/base",
      "model_module_version": "1.2.0",
      "model_name": "LayoutModel",
      "state": {}
     },
     "4f3d5b8c6b0343c2a0e6f6e29dd3858e": {
      "model_module": "@jupyter-widgets/controls",
      "model_module_version": "1.5.0",
      "model_name": "ButtonModel",
      "state": {
       "button_style": "success",
       "description": "save changes",
       "layout": "IPY_MODEL_ff0731b4edb748babb30b14852a795ce",
       "style": "IPY_MODEL_c2131cc66655467d97da41a653f3926f"
      }
     },
     "4f6a9e3cbf9c4bad8a7a08a7febc8dc9": {
      "model_module": "@jupyter-widgets/controls",
      "model_module_version": "1.5.0",
      "model_name": "VBoxModel",
      "state": {
       "children": [
        "IPY_MODEL_e4dfef262496406abcbb9737f04c434e",
        "IPY_MODEL_19eddbe86f9e4d909b3c7626e9a8859f"
       ],
       "layout": "IPY_MODEL_f5e890045cd742e4b5db9d73e22a5b27"
      }
     },
     "502da2b63c274628b9f9f63ea7bfb554": {
      "model_module": "@jupyter-widgets/base",
      "model_module_version": "1.2.0",
      "model_name": "LayoutModel",
      "state": {
       "width": "100%"
      }
     },
     "505bf38ab93c45f3989c941e84eae28b": {
      "model_module": "@jupyter-widgets/controls",
      "model_module_version": "1.5.0",
      "model_name": "HTMLModel",
      "state": {
       "layout": "IPY_MODEL_796b21f430ec49e5a4c3e1f9a3b9a76a",
       "style": "IPY_MODEL_e2009d309c4d4209b55361c1273bd1b3",
       "value": "<p>pipework_pressure_loss_margin_fraction</p>"
      }
     },
     "506f2df2c13e49388e6aecf530d431e5": {
      "model_module": "@jupyter-widgets/base",
      "model_module_version": "1.2.0",
      "model_name": "LayoutModel",
      "state": {
       "align_items": "stretch",
       "display": "flex",
       "flex_flow": "row",
       "grid_auto_columns": "True",
       "justify_content": "flex-end",
       "width": "90%"
      }
     },
     "50909422a0a34f00a8b3bce5ae71fceb": {
      "model_module": "@jupyter-widgets/controls",
      "model_module_version": "1.5.0",
      "model_name": "TextModel",
      "state": {
       "description": "script",
       "disabled": true,
       "layout": "IPY_MODEL_d0ff5c6e20374f19ab8b2808c6e5cff3",
       "style": "IPY_MODEL_0c57d080e13b47bf8356f98e0472ef69",
       "value": "C:\\engDev\\git_mf\\ipyrun\\examples\\scripts\\expansion_vessel_sizing.py"
      }
     },
     "50b70efa05884ceaae3fe2782eaa686d": {
      "model_module": "@jupyter-widgets/base",
      "model_module_version": "1.2.0",
      "model_name": "LayoutModel",
      "state": {
       "align_items": "stretch",
       "display": "flex",
       "flex_flow": "row",
       "grid_auto_columns": "True",
       "justify_content": "flex-start",
       "width": "80%"
      }
     },
     "50d5c82ee719401bb85686a6c9b17003": {
      "model_module": "@jupyter-widgets/base",
      "model_module_version": "1.2.0",
      "model_name": "LayoutModel",
      "state": {}
     },
     "50f433895aae41199007eef3d4cdefae": {
      "model_module": "@jupyter-widgets/controls",
      "model_module_version": "1.5.0",
      "model_name": "DescriptionStyleModel",
      "state": {
       "description_width": ""
      }
     },
     "510eb900e7f24ccfb7485ca8e9d96a69": {
      "model_module": "@jupyter-widgets/controls",
      "model_module_version": "1.5.0",
      "model_name": "HTMLModel",
      "state": {
       "layout": "IPY_MODEL_edbe82ca19b14f70add2e6f925429688",
       "style": "IPY_MODEL_c5a33d52d137489aba79d9c5e65b9e1c",
       "value": "<p>difference in height between the highest and lowest points in the system</p>"
      }
     },
     "512fea44b062412cb05013095cab9c62": {
      "model_module": "@jupyter-widgets/output",
      "model_module_version": "1.0.0",
      "model_name": "OutputModel",
      "state": {
       "layout": "IPY_MODEL_460831aa341d454b993febb19797a653"
      }
     },
     "51adea456d514aae9323697e0bf6e86f": {
      "model_module": "@jupyter-widgets/controls",
      "model_module_version": "1.5.0",
      "model_name": "HBoxModel",
      "state": {
       "children": [
        "IPY_MODEL_a4d2ce50436d4554b5aff3c382927c2e",
        "IPY_MODEL_d28d6566112844a8910a492b7225517e",
        "IPY_MODEL_842c06f1d2394acb99dbb5eff830a79c"
       ],
       "layout": "IPY_MODEL_578fe467e383407e9b46e79a4ca58be2"
      }
     },
     "51c6c1915c6d437596cd93e914c00955": {
      "model_module": "@jupyter-widgets/base",
      "model_module_version": "1.2.0",
      "model_name": "LayoutModel",
      "state": {}
     },
     "521a5e4ec8c5440f80443b72fece9ef6": {
      "model_module": "@jupyter-widgets/controls",
      "model_module_version": "1.5.0",
      "model_name": "ButtonStyleModel",
      "state": {
       "font_weight": "bold"
      }
     },
     "52712c989a9e44308dc2abc9566d7387": {
      "model_module": "@jupyter-widgets/base",
      "model_module_version": "1.2.0",
      "model_name": "LayoutModel",
      "state": {}
     },
     "52ae6f5c2898412b87c4f5127878cfd7": {
      "model_module": "@jupyter-widgets/base",
      "model_module_version": "1.2.0",
      "model_name": "LayoutModel",
      "state": {}
     },
     "534b8d0f5d234cb9b6b771268995fdd8": {
      "model_module": "@jupyter-widgets/controls",
      "model_module_version": "1.5.0",
      "model_name": "DescriptionStyleModel",
      "state": {
       "description_width": ""
      }
     },
     "53c6b27140be43f981a6cf718e7f06bc": {
      "model_module": "@jupyter-widgets/base",
      "model_module_version": "1.2.0",
      "model_name": "LayoutModel",
      "state": {
       "align_items": "stretch",
       "width": "100%"
      }
     },
     "54bccba37472460c8e7b166330e14afd": {
      "model_module": "@jupyter-widgets/base",
      "model_module_version": "1.2.0",
      "model_name": "LayoutModel",
      "state": {
       "align_items": "stretch",
       "border": "dashed 0.2px green",
       "display": "flex",
       "flex_flow": "row",
       "grid_auto_columns": "True",
       "justify_content": "flex-start",
       "width": "100%"
      }
     },
     "54c00b51464e4dac92f30421ad90b67d": {
      "model_module": "@jupyter-widgets/controls",
      "model_module_version": "1.5.0",
      "model_name": "HBoxModel",
      "state": {
       "children": [
        "IPY_MODEL_c90253f7ecd44b898a4b86d361518099"
       ],
       "layout": "IPY_MODEL_07e3cdfe0711400fbd10bc32c5c68549"
      }
     },
     "55275519b6ca426ebaebbaedcae33ebc": {
      "model_module": "@jupyter-widgets/base",
      "model_module_version": "1.2.0",
      "model_name": "LayoutModel",
      "state": {}
     },
     "5570bdb5d92c4bda8258cacf9e0666ca": {
      "model_module": "@jupyter-widgets/base",
      "model_module_version": "1.2.0",
      "model_name": "LayoutModel",
      "state": {}
     },
     "557a51e796b042df9a610609ed848b25": {
      "model_module": "@jupyter-widgets/controls",
      "model_module_version": "1.5.0",
      "model_name": "ButtonStyleModel",
      "state": {
       "font_weight": "bold"
      }
     },
     "5597315387324902be5c1065764e587a": {
      "model_module": "@jupyter-widgets/controls",
      "model_module_version": "1.5.0",
      "model_name": "HBoxModel",
      "state": {
       "children": [
        "IPY_MODEL_d69851d9945146858911b37359c12afe",
        "IPY_MODEL_7f3e179c2fb5422db44f582bcf38d21b"
       ],
       "layout": "IPY_MODEL_7f2cc9c8e61146e68876cda5190edb01"
      }
     },
     "560b715e1b704132a9831424199c8ebd": {
      "model_module": "@jupyter-widgets/base",
      "model_module_version": "1.2.0",
      "model_name": "LayoutModel",
      "state": {}
     },
     "56a02dd9869d4827a8a990f987ebc4ec": {
      "model_module": "@jupyter-widgets/controls",
      "model_module_version": "1.5.0",
      "model_name": "DescriptionStyleModel",
      "state": {
       "description_width": ""
      }
     },
     "574108417b0f4dee8cc481538d4a5d76": {
      "model_module": "@jupyter-widgets/base",
      "model_module_version": "1.2.0",
      "model_name": "LayoutModel",
      "state": {}
     },
     "5759498eaa3340f68e7a6907ebfc7752": {
      "model_module": "@jupyter-widgets/base",
      "model_module_version": "1.2.0",
      "model_name": "LayoutModel",
      "state": {}
     },
     "578fe467e383407e9b46e79a4ca58be2": {
      "model_module": "@jupyter-widgets/base",
      "model_module_version": "1.2.0",
      "model_name": "LayoutModel",
      "state": {
       "align_items": "stretch",
       "width": "100%"
      }
     },
     "57d68ef357f340118403e153b79ff8ea": {
      "model_module": "@jupyter-widgets/base",
      "model_module_version": "1.2.0",
      "model_name": "LayoutModel",
      "state": {}
     },
     "57e634a3528c4bf48785e43f2e9b8ca8": {
      "model_module": "@jupyter-widgets/base",
      "model_module_version": "1.2.0",
      "model_name": "LayoutModel",
      "state": {}
     },
     "57ee67911f7c4dfb888fafbca62b2099": {
      "model_module": "@jupyter-widgets/controls",
      "model_module_version": "1.5.0",
      "model_name": "ButtonModel",
      "state": {
       "button_style": "warning",
       "description": "edit inputs",
       "layout": "IPY_MODEL_940cfe68631a4e64aa4f83e64c3c38da",
       "style": "IPY_MODEL_a8c29f2b6f444344850318dab63fb725",
       "tooltip": "edit the user input information that is used when the script is executed"
      }
     },
     "582094ac670d4d4ebf2699e0a160fa0f": {
      "model_module": "@jupyter-widgets/controls",
      "model_module_version": "1.5.0",
      "model_name": "DescriptionStyleModel",
      "state": {
       "description_width": ""
      }
     },
     "585351fa13b34c11854390df43694628": {
      "model_module": "@jupyter-widgets/controls",
      "model_module_version": "1.5.0",
      "model_name": "ButtonStyleModel",
      "state": {
       "font_weight": "bold"
      }
     },
     "58676f433296401d857ff1ddff7c2237": {
      "model_module": "@jupyter-widgets/base",
      "model_module_version": "1.2.0",
      "model_name": "LayoutModel",
      "state": {}
     },
     "5954d6a37197454dab3daee1de6a4446": {
      "model_module": "@jupyter-widgets/base",
      "model_module_version": "1.2.0",
      "model_name": "LayoutModel",
      "state": {}
     },
     "5a1a323215244782872272203cc647f8": {
      "model_module": "@jupyter-widgets/base",
      "model_module_version": "1.2.0",
      "model_name": "LayoutModel",
      "state": {
       "align_items": "stretch",
       "border": "dashed 0.2px green",
       "display": "flex",
       "flex_flow": "row",
       "grid_auto_columns": "True",
       "justify_content": "flex-start",
       "width": "100%"
      }
     },
     "5a2a5129d57547f3af4993f76f39567d": {
      "model_module": "@jupyter-widgets/base",
      "model_module_version": "1.2.0",
      "model_name": "LayoutModel",
      "state": {}
     },
     "5a5906d6b59548e88d29256f591185e0": {
      "model_module": "@jupyter-widgets/base",
      "model_module_version": "1.2.0",
      "model_name": "LayoutModel",
      "state": {
       "align_items": "stretch",
       "width": "100%"
      }
     },
     "5a956ce302e6479ba9658b20e72f76ea": {
      "model_module": "@jupyter-widgets/base",
      "model_module_version": "1.2.0",
      "model_name": "LayoutModel",
      "state": {}
     },
     "5aa819f9a08e4a0aabe293dda12f3241": {
      "model_module": "@jupyter-widgets/base",
      "model_module_version": "1.2.0",
      "model_name": "LayoutModel",
      "state": {}
     },
     "5aea92a94ba3435aac1af48b2e79fc07": {
      "model_module": "@jupyter-widgets/output",
      "model_module_version": "1.0.0",
      "model_name": "OutputModel",
      "state": {
       "layout": "IPY_MODEL_90aaa5e2e53a4a2eb995a599e95eb829"
      }
     },
     "5b24f9431db245f398dbdf9ca19e8247": {
      "model_module": "@jupyter-widgets/output",
      "model_module_version": "1.0.0",
      "model_name": "OutputModel",
      "state": {
       "layout": "IPY_MODEL_4c5fc8eab4524052b958e547c6d8ae84"
      }
     },
     "5b44cc5ede6f4fc8b4227b16e1b36a2d": {
      "model_module": "@jupyter-widgets/controls",
      "model_module_version": "1.5.0",
      "model_name": "TextModel",
      "state": {
       "description": "inputs",
       "disabled": true,
       "layout": "IPY_MODEL_710e5035814f426986b85f910e7737c5",
       "style": "IPY_MODEL_03aa84d8607b453c812030c37efc73e1",
       "value": "C:\\engDev\\git_mf\\ipyrun\\examples\\notebooks\\appdata\\inputs\\inputs-expansion_vessel_sizing.json"
      }
     },
     "5b757a25a9a947b99bfa52ee8f01fff5": {
      "model_module": "@jupyter-widgets/controls",
      "model_module_version": "1.5.0",
      "model_name": "ButtonModel",
      "state": {
       "button_style": "success",
       "description": "run",
       "layout": "IPY_MODEL_1d6f007c43d9480b94120a6009e497bd",
       "style": "IPY_MODEL_0d95aff5453245bf99e3dac4f3b58f8c",
       "tooltip": "execute the script based on the user inputs"
      }
     },
     "5bac53a6c1fb4b24af8d10bd5b6ea9cb": {
      "model_module": "@jupyter-widgets/controls",
      "model_module_version": "1.5.0",
      "model_name": "SelectMultipleModel",
      "state": {
       "_options_labels": [
        "C:\\engDev\\git_mf\\ipyrun\\examples\\notebooks\\expansion_vessel_sizing.csv"
       ],
       "description": "outputs",
       "index": [],
       "layout": "IPY_MODEL_23a5d04378d743748f8e56ba6aa1d8ea",
       "rows": 4,
       "style": "IPY_MODEL_8c81dd6dcce84f2caf4db2331b0b5d51"
      }
     },
     "5bbd4b2e02c145f48378a01719a88d90": {
      "model_module": "@jupyter-widgets/controls",
      "model_module_version": "1.5.0",
      "model_name": "ButtonModel",
      "state": {
       "button_style": "warning",
       "description": "edit inputs",
       "layout": "IPY_MODEL_eddfe8848b4e4604abd334f2d3a4007a",
       "style": "IPY_MODEL_557a51e796b042df9a610609ed848b25",
       "tooltip": "edit the user input information that is used when the script is executed"
      }
     },
     "5bdb6616ccaf4eff924c58be7e310aef": {
      "model_module": "@jupyter-widgets/controls",
      "model_module_version": "1.5.0",
      "model_name": "HBoxModel",
      "state": {
       "children": [
        "IPY_MODEL_c5dd697c71844008b64c14c29b8ad069",
        "IPY_MODEL_de5ac4a1f80e40f9b5f9713292377bb7"
       ],
       "layout": "IPY_MODEL_68d89fcb408a4bee83c890b8cfbae431"
      }
     },
     "5c22abce3e30407d87c965b93f6b3bad": {
      "model_module": "@jupyter-widgets/base",
      "model_module_version": "1.2.0",
      "model_name": "LayoutModel",
      "state": {}
     },
     "5c3d489b746049c293b94f1b42aae31e": {
      "model_module": "@jupyter-widgets/controls",
      "model_module_version": "1.5.0",
      "model_name": "HTMLModel",
      "state": {
       "layout": "IPY_MODEL_3d76e67b6bda44b09023de0b0670f993",
       "style": "IPY_MODEL_bae715255c8348fe8b3306c876a57a3b",
       "value": "<p>pipework_length_m</p>"
      }
     },
     "5cd9488367ea48bfad011d2d7714f4f2": {
      "model_module": "@jupyter-widgets/base",
      "model_module_version": "1.2.0",
      "model_name": "LayoutModel",
      "state": {}
     },
     "5d45500a328042fea813cdcadcc79d5f": {
      "model_module": "@jupyter-widgets/controls",
      "model_module_version": "1.5.0",
      "model_name": "DescriptionStyleModel",
      "state": {
       "description_width": ""
      }
     },
     "5d9ca8c1efc34170906b6aaf8224f9b8": {
      "model_module": "@jupyter-widgets/base",
      "model_module_version": "1.2.0",
      "model_name": "LayoutModel",
      "state": {}
     },
     "5d9e6cda25ef4860b9c445c174163351": {
      "model_module": "@jupyter-widgets/controls",
      "model_module_version": "1.5.0",
      "model_name": "HBoxModel",
      "state": {
       "children": [
        "IPY_MODEL_5ecab4f246e745d6b2a232ed68d46d3f",
        "IPY_MODEL_093a8e0d5c4c412e83aa8b8bd0ebdb61"
       ],
       "layout": "IPY_MODEL_b5aa8e26b8c249bc84acfacd21166c13"
      }
     },
     "5d9eeb48df13468db959baa0e079ca17": {
      "model_module": "@jupyter-widgets/controls",
      "model_module_version": "1.5.0",
      "model_name": "DescriptionStyleModel",
      "state": {
       "description_width": ""
      }
     },
     "5ecab4f246e745d6b2a232ed68d46d3f": {
      "model_module": "@jupyter-widgets/controls",
      "model_module_version": "1.5.0",
      "model_name": "FloatTextModel",
      "state": {
       "layout": "IPY_MODEL_0140303497f4424cb46a5b60ce172a72",
       "step": null,
       "style": "IPY_MODEL_b0016a18edbd47f89fd71b46f094f71f",
       "value": 48
      }
     },
     "5ed7dfdca6814e4e99023a40e79598bd": {
      "model_module": "@jupyter-widgets/controls",
      "model_module_version": "1.5.0",
      "model_name": "HTMLModel",
      "state": {
       "layout": "IPY_MODEL_1fcf5dcf76894912a743660b3638147e",
       "style": "IPY_MODEL_22ea75f4eb994cb992cf7f1fd18c8c90",
       "value": "<p>edit user input form below</p>"
      }
     },
     "5f0792fb4a3c42d391b6ee958884e644": {
      "model_module": "@jupyter-widgets/controls",
      "model_module_version": "1.5.0",
      "model_name": "HBoxModel",
      "state": {
       "children": [
        "IPY_MODEL_a442b97d1f42468f8337a6624aafd424"
       ],
       "layout": "IPY_MODEL_54bccba37472460c8e7b166330e14afd"
      }
     },
     "5f2cc8a7a44c47f8a45c414ee8368e95": {
      "model_module": "@jupyter-widgets/controls",
      "model_module_version": "1.5.0",
      "model_name": "HBoxModel",
      "state": {
       "children": [
        "IPY_MODEL_881d42aa05374bf88f796d5b2d16ee74",
        "IPY_MODEL_a54e39704eaa461288d68c6bc73257e8"
       ],
       "layout": "IPY_MODEL_941c90a129134261a8b6898e5f1325b5"
      }
     },
     "5fabe07ea36e4f9f89261ae5adea1f40": {
      "model_module": "@jupyter-widgets/controls",
      "model_module_version": "1.5.0",
      "model_name": "ButtonModel",
      "state": {
       "description": "load",
       "icon": "upload",
       "layout": "IPY_MODEL_5d9ca8c1efc34170906b6aaf8224f9b8",
       "style": "IPY_MODEL_a05afccda25f453c9d5bfe1907c880a5"
      }
     },
     "5fcada082cca4e559ca0dcc9e620914b": {
      "model_module": "@jupyter-widgets/controls",
      "model_module_version": "1.5.0",
      "model_name": "HTMLModel",
      "state": {
       "layout": "IPY_MODEL_8c09378bbf234298b35c3d9bf26e8e59",
       "style": "IPY_MODEL_32af73e895c0406085944d5726ad71b8",
       "value": "<p>edit user input form below</p>"
      }
     },
     "5fd4da8086694be49783ef58dfe051f8": {
      "model_module": "@jupyter-widgets/base",
      "model_module_version": "1.2.0",
      "model_name": "LayoutModel",
      "state": {
       "align_items": "stretch",
       "display": "flex",
       "flex_flow": "row",
       "grid_auto_columns": "True",
       "justify_content": "flex-start",
       "width": "80%"
      }
     },
     "5fdc5edea73d47418c029d94a1cf8127": {
      "model_module": "@jupyter-widgets/output",
      "model_module_version": "1.0.0",
      "model_name": "OutputModel",
      "state": {
       "layout": "IPY_MODEL_4ec404fe7bac4909819106135c7b7664"
      }
     },
     "603dd8d9c911455cb848b66a7a79dff6": {
      "model_module": "@jupyter-widgets/controls",
      "model_module_version": "1.5.0",
      "model_name": "TextModel",
      "state": {
       "description": "script",
       "disabled": true,
       "layout": "IPY_MODEL_0e2d5154bdd84020ae8a20cf959e0f3b",
       "style": "IPY_MODEL_10a031721d14476fba609cccf5113c6e",
       "value": "C:\\engDev\\git_mf\\ipyrun\\examples\\scripts\\expansion_vessel_sizing.py"
      }
     },
     "60c9a867c1744fcdab8f08473932df22": {
      "model_module": "@jupyter-widgets/base",
      "model_module_version": "1.2.0",
      "model_name": "LayoutModel",
      "state": {
       "align_items": "stretch",
       "width": "100%"
      }
     },
     "60f8e8f6af9d4146bc8c110c318f913d": {
      "model_module": "@jupyter-widgets/controls",
      "model_module_version": "1.5.0",
      "model_name": "HBoxModel",
      "state": {
       "children": [
        "IPY_MODEL_4bf73c6a28e2442593751ecbc9349926",
        "IPY_MODEL_5597315387324902be5c1065764e587a"
       ],
       "layout": "IPY_MODEL_674eb2c2a2544f86b4b84c1747e306b0"
      }
     },
     "61440aedc3f84e27ac37b70d89d20d62": {
      "model_module": "@jupyter-widgets/controls",
      "model_module_version": "1.5.0",
      "model_name": "FloatSliderModel",
      "state": {
       "layout": "IPY_MODEL_ee711e1a238243ac9e22684782216250",
       "max": 1,
       "step": 0.1,
       "style": "IPY_MODEL_825ab8e23ecc49b286af95af8e977fc4",
       "value": 0.3
      }
     },
     "6242ce971c2d497182395879df0a2ddd": {
      "model_module": "@jupyter-widgets/controls",
      "model_module_version": "1.5.0",
      "model_name": "SliderStyleModel",
      "state": {
       "description_width": ""
      }
     },
     "63229d567ffb44b8b7d754abdb3912ef": {
      "model_module": "@jupyter-widgets/controls",
      "model_module_version": "1.5.0",
      "model_name": "ButtonModel",
      "state": {
       "button_style": "warning",
       "description": "revert to last save",
       "layout": "IPY_MODEL_560b715e1b704132a9831424199c8ebd",
       "style": "IPY_MODEL_486505698ca848c9a41290f4b29b239c"
      }
     },
     "633f7d32db8546fbb4c3fca6bf3189f0": {
      "model_module": "@jupyter-widgets/controls",
      "model_module_version": "1.5.0",
      "model_name": "FloatSliderModel",
      "state": {
       "layout": "IPY_MODEL_0c4bbf9c1d2c419a99ba4210333c4bca",
       "max": 1,
       "step": 0.1,
       "style": "IPY_MODEL_8d7612ddf4d84b39aebe071efda954d0",
       "value": 0.3
      }
     },
     "6360d6bfada04a039aae37802ff29c70": {
      "model_module": "@jupyter-widgets/controls",
      "model_module_version": "1.5.0",
      "model_name": "DescriptionStyleModel",
      "state": {
       "description_width": ""
      }
     },
     "63701bdd09d54fe89b07a5a1e10d47b2": {
      "model_module": "@jupyter-widgets/controls",
      "model_module_version": "1.5.0",
      "model_name": "BoxModel",
      "state": {
       "children": [
        "IPY_MODEL_66de15fa9aa040aeb1012038917b1f0f"
       ],
       "layout": "IPY_MODEL_c09406ad362343839bb14af95fb22a5b"
      }
     },
     "63c41f3f17154bd98241653e69f888ca": {
      "model_module": "@jupyter-widgets/controls",
      "model_module_version": "1.5.0",
      "model_name": "AccordionModel",
      "state": {
       "_titles": {
        "0": "expansion_vessel_sizing_0"
       },
       "children": [
        "IPY_MODEL_1041ea0d4cce4bf69930a990f5d8f2f7"
       ],
       "layout": "IPY_MODEL_9757d151dca14342aa9c6352ac2b53d4"
      }
     },
     "65332006cfaf4b309a9070b2bbee6c3f": {
      "model_module": "@jupyter-widgets/base",
      "model_module_version": "1.2.0",
      "model_name": "LayoutModel",
      "state": {
       "align_items": "stretch",
       "display": "flex",
       "flex_flow": "row",
       "grid_auto_columns": "True",
       "justify_content": "flex-start",
       "width": "80%"
      }
     },
     "653b9c13324b4b9387cfc79c522c406a": {
      "model_module": "@jupyter-widgets/base",
      "model_module_version": "1.2.0",
      "model_name": "LayoutModel",
      "state": {}
     },
     "6660fc1f28b04f608e40027a911dcfdc": {
      "model_module": "@jupyter-widgets/controls",
      "model_module_version": "1.5.0",
      "model_name": "HBoxModel",
      "state": {
       "children": [
        "IPY_MODEL_69e75b892b1743d1baf04df8aa10a527",
        "IPY_MODEL_dc7160f57ff84273b295823e1dc1297a"
       ],
       "layout": "IPY_MODEL_79ca96634b654e7eb9c5adc42a0afb3c"
      }
     },
     "66de15fa9aa040aeb1012038917b1f0f": {
      "model_module": "@jupyter-widgets/controls",
      "model_module_version": "1.5.0",
      "model_name": "HBoxModel",
      "state": {
       "children": [
        "IPY_MODEL_0883552b81a64e258f60ee594d466b60",
        "IPY_MODEL_03700f4f22494fd2ba7ba5e8a75a2fc2",
        "IPY_MODEL_fea3a7bd64364b68bce028f429250d6a",
        "IPY_MODEL_57ee67911f7c4dfb888fafbca62b2099",
        "IPY_MODEL_f55b0e0ca1e34089814d28c9edc0febf",
        "IPY_MODEL_f45f038f31a54b12af0ef36ee86aec46",
        "IPY_MODEL_4762919c1211461e8f7c5eb9dbe555e3"
       ],
       "layout": "IPY_MODEL_53c6b27140be43f981a6cf718e7f06bc"
      }
     },
     "674eb2c2a2544f86b4b84c1747e306b0": {
      "model_module": "@jupyter-widgets/base",
      "model_module_version": "1.2.0",
      "model_name": "LayoutModel",
      "state": {
       "align_items": "stretch",
       "display": "flex",
       "flex_flow": "row",
       "grid_auto_columns": "True",
       "justify_content": "flex-end",
       "width": "90%"
      }
     },
     "67784b43d9124bae8bb66710d8bf33b7": {
      "model_module": "@jupyter-widgets/controls",
      "model_module_version": "1.5.0",
      "model_name": "HTMLModel",
      "state": {
       "layout": "IPY_MODEL_fca9afa55823464c8e7d60cf02b7220b",
       "style": "IPY_MODEL_bd21ad76c69f4a41b2a32ad5c30cf599",
       "value": "<p>sensitivity factor</p>"
      }
     },
     "6778bd85e8bf4106802429397b3c4e3c": {
      "model_module": "@jupyter-widgets/controls",
      "model_module_version": "1.5.0",
      "model_name": "ToggleButtonModel",
      "state": {
       "button_style": "info",
       "description": "inputs from file",
       "layout": "IPY_MODEL_aa81c7a95c734aaea15b076492749776",
       "style": "IPY_MODEL_5d45500a328042fea813cdcadcc79d5f"
      }
     },
     "6787e88bf66247f88d34605f78ca5999": {
      "model_module": "@jupyter-widgets/controls",
      "model_module_version": "1.5.0",
      "model_name": "ButtonStyleModel",
      "state": {
       "font_weight": "bold"
      }
     },
     "68655ae23e744883a2a49dd4be7607fe": {
      "model_module": "@jupyter-widgets/controls",
      "model_module_version": "1.5.0",
      "model_name": "HBoxModel",
      "state": {
       "children": [
        "IPY_MODEL_ed1205b1fe2d42258c3d1e2e716fdee8"
       ],
       "layout": "IPY_MODEL_c385068872a24cefbf9c1735b353bde5"
      }
     },
     "68d89fcb408a4bee83c890b8cfbae431": {
      "model_module": "@jupyter-widgets/base",
      "model_module_version": "1.2.0",
      "model_name": "LayoutModel",
      "state": {
       "align_items": "stretch",
       "display": "flex",
       "flex_flow": "row",
       "grid_auto_columns": "True",
       "justify_content": "flex-start",
       "width": "80%"
      }
     },
     "69b822484cc14bc0ae607f50f230b976": {
      "model_module": "@jupyter-widgets/base",
      "model_module_version": "1.2.0",
      "model_name": "LayoutModel",
      "state": {
       "align_items": "stretch",
       "display": "flex",
       "flex_flow": "row",
       "grid_auto_columns": "True",
       "justify_content": "flex-start",
       "width": "80%"
      }
     },
     "69dd32e10eff4b37afe15b15057c97a3": {
      "model_module": "@jupyter-widgets/controls",
      "model_module_version": "1.5.0",
      "model_name": "FloatSliderModel",
      "state": {
       "layout": "IPY_MODEL_f8142797dc8445beb8114657b10f1742",
       "max": 1,
       "step": 0.1,
       "style": "IPY_MODEL_6ab96eabecb74da09d7e46fa2e9b7e3d",
       "value": 0.3
      }
     },
     "69e75b892b1743d1baf04df8aa10a527": {
      "model_module": "@jupyter-widgets/controls",
      "model_module_version": "1.5.0",
      "model_name": "FloatTextModel",
      "state": {
       "layout": "IPY_MODEL_8de613f4759a4bad8c819d1fae5f5ab1",
       "step": null,
       "style": "IPY_MODEL_2363e2e0096c4bbcbbf7ffa34e729998",
       "value": 20
      }
     },
     "6a53f90eba4847c78c50aaca45321b0f": {
      "model_module": "@jupyter-widgets/controls",
      "model_module_version": "1.5.0",
      "model_name": "VBoxModel",
      "state": {
       "children": [
        "IPY_MODEL_63701bdd09d54fe89b07a5a1e10d47b2",
        "IPY_MODEL_8f7a1c0be0664bffad9975d63e65460d"
       ],
       "layout": "IPY_MODEL_42942c529bd542b5b9493c3f9f89d5e8"
      }
     },
     "6a866c486fdc4a49af010b1e518c5749": {
      "model_module": "@jupyter-widgets/controls",
      "model_module_version": "1.5.0",
      "model_name": "ButtonModel",
      "state": {
       "button_style": "info",
       "description": "show guide",
       "layout": "IPY_MODEL_3c3c294d4bd04f5e82983f888928e027",
       "style": "IPY_MODEL_f8d531c516ba4513941ac5d170a8a526",
       "tooltip": "read the \"docstring\", ie. the documentation that was written to accompany the script"
      }
     },
     "6ab96eabecb74da09d7e46fa2e9b7e3d": {
      "model_module": "@jupyter-widgets/controls",
      "model_module_version": "1.5.0",
      "model_name": "SliderStyleModel",
      "state": {
       "description_width": ""
      }
     },
     "6ac0886612224daeb8ef47e524a36d59": {
      "model_module": "@jupyter-widgets/base",
      "model_module_version": "1.2.0",
      "model_name": "LayoutModel",
      "state": {}
     },
     "6adc38c8a6934935abec000f71db032b": {
      "model_module": "@jupyter-widgets/base",
      "model_module_version": "1.2.0",
      "model_name": "LayoutModel",
      "state": {}
     },
     "6af5c552f1d540aa84a8af3dc2682a00": {
      "model_module": "@jupyter-widgets/base",
      "model_module_version": "1.2.0",
      "model_name": "LayoutModel",
      "state": {}
     },
     "6cb30fb03a5b461bb06fd899680784fb": {
      "model_module": "@jupyter-widgets/controls",
      "model_module_version": "1.5.0",
      "model_name": "ButtonModel",
      "state": {
       "button_style": "info",
       "description": "show log",
       "layout": "IPY_MODEL_4bfe8b6075db4f7c930be18d499fa252",
       "style": "IPY_MODEL_585351fa13b34c11854390df43694628",
       "tooltip": "show a log of when the script was executed to generate the outputs, and by who"
      }
     },
     "6cd2522809984d82aaea17eb3666d5a2": {
      "model_module": "@jupyter-widgets/controls",
      "model_module_version": "1.5.0",
      "model_name": "HBoxModel",
      "state": {
       "children": [
        "IPY_MODEL_2ef9accd04c04b699aa5032ce637721a",
        "IPY_MODEL_a7c0bdb1d22447c195f38de5f3d18862"
       ],
       "layout": "IPY_MODEL_99e12bab95c94f4dac835aca7c2749e3"
      }
     },
     "6d8bc26646d2426eb8e3ebbf5f3ee91e": {
      "model_module": "@jupyter-widgets/base",
      "model_module_version": "1.2.0",
      "model_name": "LayoutModel",
      "state": {}
     },
     "6d8c4402581c4bbeabacb60554ef3066": {
      "model_module": "@jupyter-widgets/controls",
      "model_module_version": "1.5.0",
      "model_name": "HBoxModel",
      "state": {
       "children": [
        "IPY_MODEL_2b757cb07a254531b26260cfbb32d5e4",
        "IPY_MODEL_b325376d1db54a87add7f4d8358a20c1"
       ],
       "layout": "IPY_MODEL_92ea5acd1aa949f09f33611ed7517ed9"
      }
     },
     "6e0c5f055f4e41d2bbe9e6c2c0a54b61": {
      "model_module": "@jupyter-widgets/controls",
      "model_module_version": "1.5.0",
      "model_name": "ButtonModel",
      "state": {
       "icon": "eye-slash",
       "layout": "IPY_MODEL_94a357533d6747aa89a7384ebade68d3",
       "style": "IPY_MODEL_d6513f1877114ffb8781208c599153e5",
       "tooltip": "removes temporary output view"
      }
     },
     "6e241f0de1474033ad46bc22eeb56f9a": {
      "model_module": "@jupyter-widgets/controls",
      "model_module_version": "1.5.0",
      "model_name": "DescriptionStyleModel",
      "state": {
       "description_width": ""
      }
     },
     "6ebd024130ef476c8822e19fb41ae389": {
      "model_module": "@jupyter-widgets/controls",
      "model_module_version": "1.5.0",
      "model_name": "VBoxModel",
      "state": {
       "children": [
        "IPY_MODEL_5fabe07ea36e4f9f89261ae5adea1f40",
        "IPY_MODEL_83beaf4548f146d78993ad146c664284"
       ],
       "layout": "IPY_MODEL_1a750852857b4171ab88b06316da5239"
      }
     },
     "6eff12a477114a42a4cf8654bb6ccc79": {
      "model_module": "@jupyter-widgets/controls",
      "model_module_version": "1.5.0",
      "model_name": "HTMLModel",
      "state": {
       "layout": "IPY_MODEL_cb847f6577b740d383c3dce838077c8e",
       "style": "IPY_MODEL_963a9263b8d1435fba55ae5d53ad8fe4",
       "value": "<p>pipework_pressure_loss_margin_fraction</p>"
      }
     },
     "6fa0666348f3423c89ca8405b1000e7d": {
      "model_module": "@jupyter-widgets/controls",
      "model_module_version": "1.5.0",
      "model_name": "DescriptionStyleModel",
      "state": {
       "description_width": ""
      }
     },
     "6fad444b0046465db7da7b9c9a91f21a": {
      "model_module": "@jupyter-widgets/controls",
      "model_module_version": "1.5.0",
      "model_name": "DescriptionStyleModel",
      "state": {
       "description_width": ""
      }
     },
     "7008743c1ad44fd5ae806e23d9907c7b": {
      "model_module": "@jupyter-widgets/base",
      "model_module_version": "1.2.0",
      "model_name": "LayoutModel",
      "state": {
       "align_items": "stretch",
       "width": "100%"
      }
     },
     "7011ab43133d47b1ae7a1fe6a1059b88": {
      "model_module": "@jupyter-widgets/base",
      "model_module_version": "1.2.0",
      "model_name": "LayoutModel",
      "state": {}
     },
     "70227ba5e0964aacbead61fef23d1aa0": {
      "model_module": "@jupyter-widgets/controls",
      "model_module_version": "1.5.0",
      "model_name": "CheckboxModel",
      "state": {
       "disabled": false,
       "indent": false,
       "layout": "IPY_MODEL_14dd678250744ce5b7300259607a107f",
       "style": "IPY_MODEL_dfb27549411d4d5ab49acb0691b1dde0",
       "value": false
      }
     },
     "7022cf03141f41fe8e7dd59b05bd462f": {
      "model_module": "@jupyter-widgets/controls",
      "model_module_version": "1.5.0",
      "model_name": "HBoxModel",
      "state": {
       "children": [
        "IPY_MODEL_1e79cbde67714807bef0f28f8e1681bd"
       ],
       "layout": "IPY_MODEL_bebaaa1160af412788a518d4d2ea2b95"
      }
     },
     "705e916b0a1a4ebcac9a74fe7cc1bf48": {
      "model_module": "@jupyter-widgets/base",
      "model_module_version": "1.2.0",
      "model_name": "LayoutModel",
      "state": {}
     },
     "708ee1dcf92f4ad0988008dc6b1db370": {
      "model_module": "@jupyter-widgets/controls",
      "model_module_version": "1.5.0",
      "model_name": "HBoxModel",
      "state": {
       "children": [
        "IPY_MODEL_33d3e279780d43aca37b97ab4d8548b1",
        "IPY_MODEL_63c41f3f17154bd98241653e69f888ca"
       ],
       "layout": "IPY_MODEL_91d7f90d1d1f417d92902b3758580b11"
      }
     },
     "70dbd1d3a30a48559ee1bc645d7d0f7c": {
      "model_module": "@jupyter-widgets/controls",
      "model_module_version": "1.5.0",
      "model_name": "ButtonStyleModel",
      "state": {
       "font_weight": "bold"
      }
     },
     "710e5035814f426986b85f910e7737c5": {
      "model_module": "@jupyter-widgets/base",
      "model_module_version": "1.2.0",
      "model_name": "LayoutModel",
      "state": {
       "height": "30px",
       "width": "auto"
      }
     },
     "7110c4dfb0f543cdbbfebe8142ae934e": {
      "model_module": "@jupyter-widgets/controls",
      "model_module_version": "1.5.0",
      "model_name": "VBoxModel",
      "state": {
       "children": [
        "IPY_MODEL_dd891c92ee884401bb4ac972eaa5c520",
        "IPY_MODEL_2b9e8a476e2a48ac9293477042f9094e",
        "IPY_MODEL_fb69520de7364e1b99e370edfc677a59",
        "IPY_MODEL_4e49b4116f1344c2ab33a037b31e297b",
        "IPY_MODEL_ebfaf9911417475d82c7fa1a4b9df9f0",
        "IPY_MODEL_e51b598640bb456b9fd178d04d83faf4",
        "IPY_MODEL_c1636e8d07ea4a9c9a78acf50f37abed"
       ],
       "layout": "IPY_MODEL_51c6c1915c6d437596cd93e914c00955"
      }
     },
     "71641ec46e08453d92edbdcbc298c6d8": {
      "model_module": "@jupyter-widgets/base",
      "model_module_version": "1.2.0",
      "model_name": "LayoutModel",
      "state": {
       "display": "flex",
       "flex_flow": "row",
       "grid_auto_columns": "False",
       "justify_content": "flex-start",
       "width": "100%"
      }
     },
     "719ffbcc9f694b4abde2e26dae594ed6": {
      "model_module": "@jupyter-widgets/controls",
      "model_module_version": "1.5.0",
      "model_name": "TextModel",
      "state": {
       "description": "inputs",
       "disabled": true,
       "layout": "IPY_MODEL_dd8518d01b69493a89f3b8bcb0acf84b",
       "style": "IPY_MODEL_bfa2276f2cc14bfb93e351a2ba8de4ac",
       "value": "C:\\engDev\\git_mf\\ipyrun\\examples\\notebooks\\appdata\\inputs\\inputs-expansion_vessel_sizing.json"
      }
     },
     "71aa647fc9ea4ed8a0cddcd34df12ae2": {
      "model_module": "@jupyter-widgets/base",
      "model_module_version": "1.2.0",
      "model_name": "LayoutModel",
      "state": {}
     },
     "71cbb44bd57746cb963db8e23bf8bc0b": {
      "model_module": "@jupyter-widgets/controls",
      "model_module_version": "1.5.0",
      "model_name": "HBoxModel",
      "state": {
       "children": [
        "IPY_MODEL_a140ddab061e4ceba93020572e69d723"
       ],
       "layout": "IPY_MODEL_b7edfedfa4404fcd85ced57f9c97611c"
      }
     },
     "71d5e5554686423aabc488ec2d3f93d0": {
      "model_module": "@jupyter-widgets/base",
      "model_module_version": "1.2.0",
      "model_name": "LayoutModel",
      "state": {}
     },
     "7215e7ae1ba6496983972daa82833350": {
      "model_module": "@jupyter-widgets/base",
      "model_module_version": "1.2.0",
      "model_name": "LayoutModel",
      "state": {
       "align_items": "stretch",
       "display": "flex",
       "flex_flow": "row",
       "grid_auto_columns": "True",
       "justify_content": "flex-end",
       "width": "90%"
      }
     },
     "7252fee806ee46329bfcb92d03d4283b": {
      "model_module": "@jupyter-widgets/output",
      "model_module_version": "1.0.0",
      "model_name": "OutputModel",
      "state": {
       "layout": "IPY_MODEL_fbaae0c416f244dfb797d721b5990335"
      }
     },
     "7289529a57cc4ffc945f81737c47f9e8": {
      "model_module": "@jupyter-widgets/controls",
      "model_module_version": "1.5.0",
      "model_name": "TextModel",
      "state": {
       "description": "script",
       "disabled": true,
       "layout": "IPY_MODEL_9bfe41b3375d4c9e92420c653eaecbe8",
       "style": "IPY_MODEL_bb09cc2e577b437085cd0ee2742195ec",
       "value": "C:\\engDev\\git_mf\\ipyrun\\examples\\scripts\\expansion_vessel_sizing.py"
      }
     },
     "72f13a2b3b8c428c8940d6fd9b795f00": {
      "model_module": "@jupyter-widgets/base",
      "model_module_version": "1.2.0",
      "model_name": "LayoutModel",
      "state": {}
     },
     "730ef535fce8480e8dcdb3a7a2cd42cb": {
      "model_module": "@jupyter-widgets/controls",
      "model_module_version": "1.5.0",
      "model_name": "HBoxModel",
      "state": {
       "children": [
        "IPY_MODEL_01035bd30a38404b814cb6be27dd33c2"
       ],
       "layout": "IPY_MODEL_3a29390b4e8e420d852d83852c732aef"
      }
     },
     "748b9a438d06457cb467f75770a13315": {
      "model_module": "@jupyter-widgets/controls",
      "model_module_version": "1.5.0",
      "model_name": "HTMLModel",
      "state": {
       "layout": "IPY_MODEL_36f5f2a4bb0e4866bf377f94666daf00",
       "style": "IPY_MODEL_249eb77c862d40fc9225e72aa6c9e595",
       "value": "<p>height_difference_m</p>"
      }
     },
     "75bf2a2fa5d14766bac51a6e8452ceaa": {
      "model_module": "@jupyter-widgets/base",
      "model_module_version": "1.2.0",
      "model_name": "LayoutModel",
      "state": {
       "align_items": "stretch",
       "display": "flex",
       "flex_flow": "row",
       "grid_auto_columns": "True",
       "justify_content": "flex-end",
       "width": "90%"
      }
     },
     "75d49e102f3344acb0299238549d66f9": {
      "model_module": "@jupyter-widgets/output",
      "model_module_version": "1.0.0",
      "model_name": "OutputModel",
      "state": {
       "layout": "IPY_MODEL_52712c989a9e44308dc2abc9566d7387"
      }
     },
     "75e895d730734ed3b239406b3f281a5b": {
      "model_module": "@jupyter-widgets/controls",
      "model_module_version": "1.5.0",
      "model_name": "HTMLModel",
      "state": {
       "layout": "IPY_MODEL_9b23fa0a6233415f85f733266c92a739",
       "style": "IPY_MODEL_b1029715bc17419bb63b65865847790b",
       "value": "<p>water_volume_m3</p>"
      }
     },
     "762a1be6e0a4400bad28d28c602f55ab": {
      "model_module": "@jupyter-widgets/base",
      "model_module_version": "1.2.0",
      "model_name": "LayoutModel",
      "state": {}
     },
     "766e3b920cc047838c7a97f79883a555": {
      "model_module": "@jupyter-widgets/base",
      "model_module_version": "1.2.0",
      "model_name": "LayoutModel",
      "state": {}
     },
     "76dd48e9189944b889b4b3048112e55f": {
      "model_module": "@jupyter-widgets/controls",
      "model_module_version": "1.5.0",
      "model_name": "HTMLModel",
      "state": {
       "layout": "IPY_MODEL_e279cb3694084c79bd0ca8ecdc784f65",
       "style": "IPY_MODEL_b3509fc55cd548ffa564079a7c6ae544",
       "value": "<p>effective pipework pressure loss (Pa/m)</p>"
      }
     },
     "7736f4f2c4454746835ea6a094775d58": {
      "model_module": "@jupyter-widgets/base",
      "model_module_version": "1.2.0",
      "model_name": "LayoutModel",
      "state": {}
     },
     "77524d302c3a479dbb8864cfb27759b2": {
      "model_module": "@jupyter-widgets/base",
      "model_module_version": "1.2.0",
      "model_name": "LayoutModel",
      "state": {
       "align_items": "stretch",
       "border": "dashed 0.2px green",
       "display": "flex",
       "flex_flow": "row",
       "grid_auto_columns": "True",
       "justify_content": "flex-start",
       "width": "100%"
      }
     },
     "77f862bbeb364f2bbb0799f3579ca6f3": {
      "model_module": "@jupyter-widgets/controls",
      "model_module_version": "1.5.0",
      "model_name": "HBoxModel",
      "state": {
       "children": [
        "IPY_MODEL_13cc844e36884697a2d241190ca0e773"
       ],
       "layout": "IPY_MODEL_7a30d820298c4cf495fc5e06ef5ea470"
      }
     },
     "78bb47d4a06845f094be96145fcd7454": {
      "model_module": "@jupyter-widgets/base",
      "model_module_version": "1.2.0",
      "model_name": "LayoutModel",
      "state": {}
     },
     "79000b40e79d44a4992acf6aa273c118": {
      "model_module": "@jupyter-widgets/base",
      "model_module_version": "1.2.0",
      "model_name": "LayoutModel",
      "state": {
       "align_items": "stretch",
       "display": "flex",
       "flex_flow": "row",
       "grid_auto_columns": "True",
       "justify_content": "flex-start",
       "width": "80%"
      }
     },
     "795be7372f064c2393f7f14237f158d5": {
      "model_module": "@jupyter-widgets/controls",
      "model_module_version": "1.5.0",
      "model_name": "HBoxModel",
      "state": {
       "children": [
        "IPY_MODEL_baf2bbd2c6524ace807674fe0b81ec47",
        "IPY_MODEL_adf5e50830e347f2bcc1f80e3c1af619"
       ],
       "layout": "IPY_MODEL_7215e7ae1ba6496983972daa82833350"
      }
     },
     "796b21f430ec49e5a4c3e1f9a3b9a76a": {
      "model_module": "@jupyter-widgets/base",
      "model_module_version": "1.2.0",
      "model_name": "LayoutModel",
      "state": {}
     },
     "798bb6298bc64ec8aabb354240e8513c": {
      "model_module": "@jupyter-widgets/controls",
      "model_module_version": "1.5.0",
      "model_name": "DescriptionStyleModel",
      "state": {
       "description_width": ""
      }
     },
     "799618ba0e7644fd875d30e59e7e2f47": {
      "model_module": "@jupyter-widgets/base",
      "model_module_version": "1.2.0",
      "model_name": "LayoutModel",
      "state": {
       "align_items": "stretch",
       "width": "100%"
      }
     },
     "79ca96634b654e7eb9c5adc42a0afb3c": {
      "model_module": "@jupyter-widgets/base",
      "model_module_version": "1.2.0",
      "model_name": "LayoutModel",
      "state": {
       "align_items": "stretch",
       "display": "flex",
       "flex_flow": "row",
       "grid_auto_columns": "True",
       "justify_content": "flex-start",
       "width": "80%"
      }
     },
     "7a1bf12fd18a487f85d26bb7104e738b": {
      "model_module": "@jupyter-widgets/controls",
      "model_module_version": "1.5.0",
      "model_name": "HTMLModel",
      "state": {
       "layout": "IPY_MODEL_c5908217622d48cc892e9e43d55a9c87",
       "style": "IPY_MODEL_895cf6ce27654ab0b6fcee3b2b6375f0",
       "value": "<p>pipework_length_m</p>"
      }
     },
     "7a30d820298c4cf495fc5e06ef5ea470": {
      "model_module": "@jupyter-widgets/base",
      "model_module_version": "1.2.0",
      "model_name": "LayoutModel",
      "state": {
       "align_items": "stretch",
       "border": "dashed 0.2px green",
       "display": "flex",
       "flex_flow": "row",
       "grid_auto_columns": "True",
       "justify_content": "flex-start",
       "width": "100%"
      }
     },
     "7b1bcca7b4a049a996b9accc082acedc": {
      "model_module": "@jupyter-widgets/output",
      "model_module_version": "1.0.0",
      "model_name": "OutputModel",
      "state": {
       "layout": "IPY_MODEL_aa6f810449f541c9bf01b5479ac755b2"
      }
     },
     "7b4c402ed3624495a6dfc8bc3c203120": {
      "model_module": "@jupyter-widgets/base",
      "model_module_version": "1.2.0",
      "model_name": "LayoutModel",
      "state": {
       "align_items": "stretch",
       "display": "flex",
       "flex_flow": "row",
       "grid_auto_columns": "True",
       "justify_content": "flex-end",
       "width": "90%"
      }
     },
     "7b759e4fa2e948ed9e1ab3a001f45558": {
      "model_module": "@jupyter-widgets/controls",
      "model_module_version": "1.5.0",
      "model_name": "VBoxModel",
      "state": {
       "children": [
        "IPY_MODEL_5b44cc5ede6f4fc8b4227b16e1b36a2d",
        "IPY_MODEL_123dc3bcbc55465b88e6cf965f73e3a4",
        "IPY_MODEL_d8dbe1b1d193474c9634a60a0fdac20e"
       ],
       "layout": "IPY_MODEL_5a5906d6b59548e88d29256f591185e0"
      }
     },
     "7b86af99bb3740c4838ede35443b5cce": {
      "model_module": "@jupyter-widgets/base",
      "model_module_version": "1.2.0",
      "model_name": "LayoutModel",
      "state": {}
     },
     "7c25a69ddb284172aafe3b9b96708617": {
      "model_module": "@jupyter-widgets/base",
      "model_module_version": "1.2.0",
      "model_name": "LayoutModel",
      "state": {
       "align_items": "stretch",
       "border": "dashed 0.2px green",
       "display": "flex",
       "flex_flow": "row",
       "grid_auto_columns": "True",
       "justify_content": "flex-start",
       "width": "100%"
      }
     },
     "7c59c3e62a904138997da23b3d20733a": {
      "model_module": "@jupyter-widgets/controls",
      "model_module_version": "1.5.0",
      "model_name": "DescriptionStyleModel",
      "state": {
       "description_width": ""
      }
     },
     "7d06cd508fcd4145a46a0f0ba34b1e05": {
      "model_module": "@jupyter-widgets/controls",
      "model_module_version": "1.5.0",
      "model_name": "HBoxModel",
      "state": {
       "children": [
        "IPY_MODEL_a57dee3197a54834a8caa842cde3e1d6",
        "IPY_MODEL_bf75b15f692f4555a8f495775b7ab5f9"
       ],
       "layout": "IPY_MODEL_0173fac8bcdb4068acf48385e436ddc6"
      }
     },
     "7d465a46ea39415580162090cf6c76af": {
      "model_module": "@jupyter-widgets/base",
      "model_module_version": "1.2.0",
      "model_name": "LayoutModel",
      "state": {
       "align_items": "stretch",
       "display": "flex",
       "flex_flow": "row",
       "grid_auto_columns": "True",
       "justify_content": "flex-start",
       "width": "80%"
      }
     },
     "7db5376bab83402895533dced780e954": {
      "model_module": "@jupyter-widgets/base",
      "model_module_version": "1.2.0",
      "model_name": "LayoutModel",
      "state": {}
     },
     "7e038015516340058fff95e4e29cf0a6": {
      "model_module": "@jupyter-widgets/controls",
      "model_module_version": "1.5.0",
      "model_name": "HBoxModel",
      "state": {
       "children": [
        "IPY_MODEL_69dd32e10eff4b37afe15b15057c97a3",
        "IPY_MODEL_0a4995711e694e058cc2bb37cafb7d1b"
       ],
       "layout": "IPY_MODEL_50b70efa05884ceaae3fe2782eaa686d"
      }
     },
     "7e50703b70f2493c99cc4ac343742315": {
      "model_module": "@jupyter-widgets/output",
      "model_module_version": "1.0.0",
      "model_name": "OutputModel",
      "state": {
       "layout": "IPY_MODEL_cf472e8b17f74149a52e0d129f379a1c"
      }
     },
     "7e62d21d228f43118d222eed8046387b": {
      "model_module": "@jupyter-widgets/controls",
      "model_module_version": "1.5.0",
      "model_name": "HTMLModel",
      "state": {
       "layout": "IPY_MODEL_b93abc4c215743c49bdd42f4ca842dbe",
       "style": "IPY_MODEL_c36591ed7dfb48b99d1c439ddd298c82",
       "value": "<p>Expansion vessel acceptance factor (= additional volume / expansion vessel volume):</p>"
      }
     },
     "7eda83c47b694d96bf7cace082a034de": {
      "model_module": "@jupyter-widgets/output",
      "model_module_version": "1.0.0",
      "model_name": "OutputModel",
      "state": {
       "layout": "IPY_MODEL_057da868a51c42a384917c8c0411d97c"
      }
     },
     "7f2cc9c8e61146e68876cda5190edb01": {
      "model_module": "@jupyter-widgets/base",
      "model_module_version": "1.2.0",
      "model_name": "LayoutModel",
      "state": {
       "align_items": "stretch",
       "display": "flex",
       "flex_flow": "row",
       "grid_auto_columns": "True",
       "justify_content": "flex-start",
       "width": "80%"
      }
     },
     "7f3e179c2fb5422db44f582bcf38d21b": {
      "model_module": "@jupyter-widgets/controls",
      "model_module_version": "1.5.0",
      "model_name": "HTMLModel",
      "state": {
       "layout": "IPY_MODEL_ad1ca2fbf7a849deb08378e84dea01ee",
       "style": "IPY_MODEL_8c8d7ada3a2948ed871e029fa8ab3dc1",
       "value": "<p>sensitivity factor</p>"
      }
     },
     "7f5080c50cb14c7a92c1df2434607ef0": {
      "model_module": "@jupyter-widgets/base",
      "model_module_version": "1.2.0",
      "model_name": "LayoutModel",
      "state": {}
     },
     "7f835e9f5da146ad8bd6a084c99c73be": {
      "model_module": "@jupyter-widgets/base",
      "model_module_version": "1.2.0",
      "model_name": "LayoutModel",
      "state": {}
     },
     "7fc17c5f975a4fd9879a9b56103c2377": {
      "model_module": "@jupyter-widgets/base",
      "model_module_version": "1.2.0",
      "model_name": "LayoutModel",
      "state": {}
     },
     "807b4bfdce224568a81e3e4d4b9f1f60": {
      "model_module": "@jupyter-widgets/output",
      "model_module_version": "1.0.0",
      "model_name": "OutputModel",
      "state": {
       "layout": "IPY_MODEL_062d49aa2f2f4133a0af4806662b7d07"
      }
     },
     "807c7950ca0d49c0aa764a33b07c8ea7": {
      "model_module": "@jupyter-widgets/base",
      "model_module_version": "1.2.0",
      "model_name": "LayoutModel",
      "state": {}
     },
     "810f5c89a73243898b90fca908e5e74f": {
      "model_module": "@jupyter-widgets/base",
      "model_module_version": "1.2.0",
      "model_name": "LayoutModel",
      "state": {}
     },
     "825ab8e23ecc49b286af95af8e977fc4": {
      "model_module": "@jupyter-widgets/controls",
      "model_module_version": "1.5.0",
      "model_name": "SliderStyleModel",
      "state": {
       "description_width": ""
      }
     },
     "828f8b327b1845abbd08ea3c0b97dd76": {
      "model_module": "@jupyter-widgets/controls",
      "model_module_version": "1.5.0",
      "model_name": "DescriptionStyleModel",
      "state": {
       "description_width": ""
      }
     },
     "82a93d21f55f4f309def637ddac3f8a7": {
      "model_module": "@jupyter-widgets/controls",
      "model_module_version": "1.5.0",
      "model_name": "HBoxModel",
      "state": {
       "children": [
        "IPY_MODEL_fa06fda861704a7ab3e7f1b1273c6932",
        "IPY_MODEL_9156df497ab14266abb3c33108a25fd5"
       ],
       "layout": "IPY_MODEL_e28835d267944919bc9b4a646f9d1924"
      }
     },
     "83beaf4548f146d78993ad146c664284": {
      "model_module": "@jupyter-widgets/controls",
      "model_module_version": "1.5.0",
      "model_name": "RadioButtonsModel",
      "state": {
       "_options_labels": [
        "TEMPLATE: C:\\engDev\\git_mf\\ipyrun\\examples\\scripts\\template_inputs\\inputs-expansion_vessel_sizing.json",
        "PROJECT: C:\\engDev\\git_mf\\ipyrun\\examples\\notebooks\\appdata\\inputs\\inputs-expansion_vessel_sizing.json",
        "PROJECT: C:\\engDev\\git_mf\\ipyrun\\examples\\notebooks\\appdata\\inputs\\archive\\20200612_1731-jg-inputs-expansion_vessel_sizing.json",
        "PROJECT: C:\\engDev\\git_mf\\ipyrun\\examples\\notebooks\\appdata\\inputs\\archive\\20200612_1817-jg-inputs-expansion_vessel_sizing.json",
        "PROJECT: C:\\engDev\\git_mf\\ipyrun\\examples\\notebooks\\appdata\\inputs\\archive\\20200612_1818-jg-inputs-expansion_vessel_sizing.json",
        "PROJECT: C:\\engDev\\git_mf\\ipyrun\\examples\\notebooks\\appdata\\inputs\\archive\\20200612_1819-jg-inputs-expansion_vessel_sizing.json",
        "PROJECT: C:\\engDev\\git_mf\\ipyrun\\examples\\notebooks\\appdata\\inputs\\archive\\20200612_1900-jg-inputs-expansion_vessel_sizing.json",
        "PROJECT: C:\\engDev\\git_mf\\ipyrun\\examples\\notebooks\\appdata\\inputs\\archive\\20200615_2211-jg-inputs-expansion_vessel_sizing.json",
        "PROJECT: C:\\engDev\\git_mf\\ipyrun\\examples\\notebooks\\appdata\\inputs\\archive\\20200616_1020-jg-inputs-expansion_vessel_sizing.json",
        "PROJECT: C:\\engDev\\git_mf\\ipyrun\\examples\\notebooks\\appdata\\inputs\\archive\\20200616_1021-jg-inputs-expansion_vessel_sizing.json",
        "PROJECT: C:\\engDev\\git_mf\\ipyrun\\examples\\notebooks\\appdata\\inputs\\archive\\20200624_1101-jg-inputs-expansion_vessel_sizing.json"
       ],
       "index": 0,
       "layout": "IPY_MODEL_03b2eaba2e9e43f287628be1148fdf4f",
       "style": "IPY_MODEL_6e241f0de1474033ad46bc22eeb56f9a"
      }
     },
     "842c06f1d2394acb99dbb5eff830a79c": {
      "model_module": "@jupyter-widgets/controls",
      "model_module_version": "1.5.0",
      "model_name": "ButtonModel",
      "state": {
       "button_style": "success",
       "description": "run batch",
       "layout": "IPY_MODEL_305d8098ac3c44f4b2eec26374dde941",
       "style": "IPY_MODEL_325fe1012921495c9a36cddc073475b4",
       "tooltip": "execute checked processes below"
      }
     },
     "8449e8f5cdf44f93881454502f1b6656": {
      "model_module": "@jupyter-widgets/base",
      "model_module_version": "1.2.0",
      "model_name": "LayoutModel",
      "state": {}
     },
     "84c08d92cd374ea88511c0afafae67d5": {
      "model_module": "@jupyter-widgets/base",
      "model_module_version": "1.2.0",
      "model_name": "LayoutModel",
      "state": {
       "align_items": "stretch",
       "display": "flex",
       "flex_flow": "row",
       "grid_auto_columns": "True",
       "justify_content": "flex-start",
       "width": "80%"
      }
     },
     "8575b83811c54f10b9011e432afd6c78": {
      "model_module": "@jupyter-widgets/base",
      "model_module_version": "1.2.0",
      "model_name": "LayoutModel",
      "state": {
       "align_items": "stretch",
       "border": "dashed 0.2px green",
       "display": "flex",
       "flex_flow": "row",
       "grid_auto_columns": "True",
       "justify_content": "flex-start",
       "width": "100%"
      }
     },
     "8596b0e9c0be4332b6df75bb29d74835": {
      "model_module": "@jupyter-widgets/controls",
      "model_module_version": "1.5.0",
      "model_name": "DescriptionStyleModel",
      "state": {
       "description_width": ""
      }
     },
     "85bad78f077b4506995b2cfcc253340b": {
      "model_module": "@jupyter-widgets/controls",
      "model_module_version": "1.5.0",
      "model_name": "DescriptionStyleModel",
      "state": {
       "description_width": ""
      }
     },
     "85e97ea423c848448e7b6ac6b130d5a4": {
      "model_module": "@jupyter-widgets/base",
      "model_module_version": "1.2.0",
      "model_name": "LayoutModel",
      "state": {}
     },
     "85ebd5e897b34da492bb93673cc66e8c": {
      "model_module": "@jupyter-widgets/controls",
      "model_module_version": "1.5.0",
      "model_name": "SliderStyleModel",
      "state": {
       "description_width": ""
      }
     },
     "862c5afa87574bf48f2e916aa5d160bf": {
      "model_module": "@jupyter-widgets/controls",
      "model_module_version": "1.5.0",
      "model_name": "VBoxModel",
      "state": {
       "children": [
        "IPY_MODEL_1985d283956f44a7962894d5151f59a0",
        "IPY_MODEL_9f51a77af02745f8a1e97e45fd7558ae"
       ],
       "layout": "IPY_MODEL_0bc44686e0144c94bda8e1c1e876e51e"
      }
     },
     "8635cda22a3f4fe2bfd06b606467d3fd": {
      "model_module": "@jupyter-widgets/controls",
      "model_module_version": "1.5.0",
      "model_name": "ButtonStyleModel",
      "state": {
       "font_weight": "bold"
      }
     },
     "8738756a5ba74ede9503bd8937a8f11f": {
      "model_module": "@jupyter-widgets/base",
      "model_module_version": "1.2.0",
      "model_name": "LayoutModel",
      "state": {}
     },
     "876c60544cec41c9b872aa26c9a46bda": {
      "model_module": "@jupyter-widgets/controls",
      "model_module_version": "1.5.0",
      "model_name": "ButtonModel",
      "state": {
       "button_style": "info",
       "description": "show source code",
       "layout": "IPY_MODEL_71d5e5554686423aabc488ec2d3f93d0",
       "style": "IPY_MODEL_2b4a60c62809475894e4c11eeb507ce2",
       "tooltip": "shows the raw python code in the preview window below"
      }
     },
     "87af9dfb720c4bbea33cad9c663d5ce8": {
      "model_module": "@jupyter-widgets/base",
      "model_module_version": "1.2.0",
      "model_name": "LayoutModel",
      "state": {}
     },
     "87afd5c51ce94650a2efbca2301ec8f4": {
      "model_module": "@jupyter-widgets/controls",
      "model_module_version": "1.5.0",
      "model_name": "HBoxModel",
      "state": {
       "children": [
        "IPY_MODEL_d3ac439b74754474a80459d15847ac35",
        "IPY_MODEL_faf79b096a11431995610daca8dfc0cc"
       ],
       "layout": "IPY_MODEL_0a3c507e9af7437683a85afe1bb6f5ac"
      }
     },
     "881d42aa05374bf88f796d5b2d16ee74": {
      "model_module": "@jupyter-widgets/controls",
      "model_module_version": "1.5.0",
      "model_name": "CheckboxModel",
      "state": {
       "disabled": false,
       "indent": false,
       "layout": "IPY_MODEL_a871b3e16e8a4c78b4f30a2442f17867",
       "style": "IPY_MODEL_4ba7e60a8d0b4aeea107fe6589e2bbb9",
       "value": false
      }
     },
     "8844b185f6e14ff9a53aa511eac396d2": {
      "model_module": "@jupyter-widgets/controls",
      "model_module_version": "1.5.0",
      "model_name": "DescriptionStyleModel",
      "state": {
       "description_width": ""
      }
     },
     "889c066617b44471a3033506b8d3a413": {
      "model_module": "@jupyter-widgets/controls",
      "model_module_version": "1.5.0",
      "model_name": "ButtonStyleModel",
      "state": {}
     },
     "8909f1eacb244058a0ecdac7c9fd39ce": {
      "model_module": "@jupyter-widgets/controls",
      "model_module_version": "1.5.0",
      "model_name": "HTMLModel",
      "state": {
       "layout": "IPY_MODEL_d1083c0ed9834050ac93749b3a2f9447",
       "style": "IPY_MODEL_c672c4cb441f41468fd7b6e772f2b31d",
       "value": "<p>effective pipework pressure loss (Pa/m)</p>"
      }
     },
     "895cf6ce27654ab0b6fcee3b2b6375f0": {
      "model_module": "@jupyter-widgets/controls",
      "model_module_version": "1.5.0",
      "model_name": "DescriptionStyleModel",
      "state": {
       "description_width": ""
      }
     },
     "896c03e5c1554ccc90787cc955680985": {
      "model_module": "@jupyter-widgets/base",
      "model_module_version": "1.2.0",
      "model_name": "LayoutModel",
      "state": {
       "align_items": "stretch",
       "display": "flex",
       "flex_flow": "row",
       "grid_auto_columns": "True",
       "justify_content": "flex-end",
       "width": "90%"
      }
     },
     "8998470f934a4155877c85accc822d32": {
      "model_module": "@jupyter-widgets/base",
      "model_module_version": "1.2.0",
      "model_name": "LayoutModel",
      "state": {
       "height": "30px",
       "width": "auto"
      }
     },
     "89cceee5de1c44cca16b9012122670b9": {
      "model_module": "@jupyter-widgets/controls",
      "model_module_version": "1.5.0",
      "model_name": "DescriptionStyleModel",
      "state": {
       "description_width": ""
      }
     },
     "8a0e3d81e3a64de896a435e5836e92d9": {
      "model_module": "@jupyter-widgets/controls",
      "model_module_version": "1.5.0",
      "model_name": "DescriptionStyleModel",
      "state": {
       "description_width": ""
      }
     },
     "8a45222efb60408ca9450e278df29ce5": {
      "model_module": "@jupyter-widgets/controls",
      "model_module_version": "1.5.0",
      "model_name": "HBoxModel",
      "state": {
       "children": [
        "IPY_MODEL_331cccebfc084cd48fbf50deb69a9d01"
       ],
       "layout": "IPY_MODEL_34e2d3a71cf741bd8ae565306bdd7e68"
      }
     },
     "8ae13d2ef09c4080a977a092bf4089d5": {
      "model_module": "@jupyter-widgets/base",
      "model_module_version": "1.2.0",
      "model_name": "LayoutModel",
      "state": {}
     },
     "8af5826e9555479b99d2f1439da81914": {
      "model_module": "@jupyter-widgets/base",
      "model_module_version": "1.2.0",
      "model_name": "LayoutModel",
      "state": {}
     },
     "8af935d6a56448d7b6e2c7996076e341": {
      "model_module": "@jupyter-widgets/base",
      "model_module_version": "1.2.0",
      "model_name": "LayoutModel",
      "state": {}
     },
     "8c01bb6202b8491da7d78604bd19c4e9": {
      "model_module": "@jupyter-widgets/controls",
      "model_module_version": "1.5.0",
      "model_name": "ButtonStyleModel",
      "state": {
       "font_weight": "bold"
      }
     },
     "8c09378bbf234298b35c3d9bf26e8e59": {
      "model_module": "@jupyter-widgets/base",
      "model_module_version": "1.2.0",
      "model_name": "LayoutModel",
      "state": {}
     },
     "8c5ad91e31894101a3b427c976aba672": {
      "model_module": "@jupyter-widgets/base",
      "model_module_version": "1.2.0",
      "model_name": "LayoutModel",
      "state": {}
     },
     "8c81dd6dcce84f2caf4db2331b0b5d51": {
      "model_module": "@jupyter-widgets/controls",
      "model_module_version": "1.5.0",
      "model_name": "DescriptionStyleModel",
      "state": {
       "description_width": ""
      }
     },
     "8c8d7ada3a2948ed871e029fa8ab3dc1": {
      "model_module": "@jupyter-widgets/controls",
      "model_module_version": "1.5.0",
      "model_name": "DescriptionStyleModel",
      "state": {
       "description_width": ""
      }
     },
     "8cc94b7c8cb744488a53d8e6147033d0": {
      "model_module": "@jupyter-widgets/output",
      "model_module_version": "1.0.0",
      "model_name": "OutputModel",
      "state": {
       "layout": "IPY_MODEL_d5fd7ed09c944c6ab732c6e9a5d9b70f"
      }
     },
     "8d7612ddf4d84b39aebe071efda954d0": {
      "model_module": "@jupyter-widgets/controls",
      "model_module_version": "1.5.0",
      "model_name": "SliderStyleModel",
      "state": {
       "description_width": ""
      }
     },
     "8db3587f8ad94cc9b6468ebfe19343cf": {
      "model_module": "@jupyter-widgets/base",
      "model_module_version": "1.2.0",
      "model_name": "LayoutModel",
      "state": {}
     },
     "8de613f4759a4bad8c819d1fae5f5ab1": {
      "model_module": "@jupyter-widgets/base",
      "model_module_version": "1.2.0",
      "model_name": "LayoutModel",
      "state": {}
     },
     "8e6ee29939604e03a963321e9e65c757": {
      "model_module": "@jupyter-widgets/base",
      "model_module_version": "1.2.0",
      "model_name": "LayoutModel",
      "state": {
       "display": "flex",
       "flex_flow": "row",
       "grid_auto_columns": "False",
       "justify_content": "flex-start",
       "width": "100%"
      }
     },
     "8f41c3738d70476ab79a23ad9795f8e0": {
      "model_module": "@jupyter-widgets/controls",
      "model_module_version": "1.5.0",
      "model_name": "HTMLModel",
      "state": {
       "layout": "IPY_MODEL_32653169c4284e32bb2f541c3bec7e14",
       "style": "IPY_MODEL_e65a70fc37564de2a949645cb4aef8fa",
       "value": "<p>Heating system pipework length (m). Note: includes horizontal, vertical, flow and return.</p>"
      }
     },
     "8f7a1c0be0664bffad9975d63e65460d": {
      "model_module": "@jupyter-widgets/controls",
      "model_module_version": "1.5.0",
      "model_name": "VBoxModel",
      "state": {
       "children": [
        "IPY_MODEL_719ffbcc9f694b4abde2e26dae594ed6",
        "IPY_MODEL_603dd8d9c911455cb848b66a7a79dff6",
        "IPY_MODEL_14c60afdf992458384f58ed1aa139609"
       ],
       "layout": "IPY_MODEL_60c9a867c1744fcdab8f08473932df22"
      }
     },
     "8f7ae21e86984b109b2c408cda348ab3": {
      "model_module": "@jupyter-widgets/base",
      "model_module_version": "1.2.0",
      "model_name": "LayoutModel",
      "state": {}
     },
     "900bebeb818f46ea9837d1406e0a6d80": {
      "model_module": "@jupyter-widgets/controls",
      "model_module_version": "1.5.0",
      "model_name": "VBoxModel",
      "state": {
       "children": [
        "IPY_MODEL_3ae93f16d8ff46ffb5ad520c77a0a132",
        "IPY_MODEL_eaddf7884deb471caa814b501232546e",
        "IPY_MODEL_341b936c64c548ed898119f004775ac3"
       ],
       "layout": "IPY_MODEL_2ece55e32cc841a5a58a182e0e1d8d24"
      }
     },
     "9034151eda8a4965ab6ecef72269a964": {
      "model_module": "@jupyter-widgets/controls",
      "model_module_version": "1.5.0",
      "model_name": "ButtonModel",
      "state": {
       "icon": "eye-slash",
       "layout": "IPY_MODEL_9880548173684749a49f32367b913e76",
       "style": "IPY_MODEL_d4451f11c5744eb097e400757db41633",
       "tooltip": "removes temporary output view"
      }
     },
     "90aaa5e2e53a4a2eb995a599e95eb829": {
      "model_module": "@jupyter-widgets/base",
      "model_module_version": "1.2.0",
      "model_name": "LayoutModel",
      "state": {}
     },
     "90c4f8457b6440959cd671e25d8bb1e9": {
      "model_module": "@jupyter-widgets/output",
      "model_module_version": "1.0.0",
      "model_name": "OutputModel",
      "state": {
       "layout": "IPY_MODEL_0227939a36e64a4fa445d7877680ff0e"
      }
     },
     "90cdd4c3399f47bfa92e72d33baca6bf": {
      "model_module": "@jupyter-widgets/base",
      "model_module_version": "1.2.0",
      "model_name": "LayoutModel",
      "state": {
       "align_items": "stretch",
       "border": "dashed 0.2px green",
       "display": "flex",
       "flex_flow": "row",
       "grid_auto_columns": "True",
       "justify_content": "flex-start",
       "width": "100%"
      }
     },
     "912022200a814f878b019e4bfc428d6f": {
      "model_module": "@jupyter-widgets/controls",
      "model_module_version": "1.5.0",
      "model_name": "ButtonStyleModel",
      "state": {}
     },
     "9156df497ab14266abb3c33108a25fd5": {
      "model_module": "@jupyter-widgets/controls",
      "model_module_version": "1.5.0",
      "model_name": "HBoxModel",
      "state": {
       "children": [
        "IPY_MODEL_633f7d32db8546fbb4c3fca6bf3189f0",
        "IPY_MODEL_1b1ba307c18541ab97e14bfb99ada651"
       ],
       "layout": "IPY_MODEL_84c08d92cd374ea88511c0afafae67d5"
      }
     },
     "91d26f1e7cc24619a39bbef081a6f686": {
      "model_module": "@jupyter-widgets/controls",
      "model_module_version": "1.5.0",
      "model_name": "ButtonStyleModel",
      "state": {
       "font_weight": "bold"
      }
     },
     "91d7f90d1d1f417d92902b3758580b11": {
      "model_module": "@jupyter-widgets/base",
      "model_module_version": "1.2.0",
      "model_name": "LayoutModel",
      "state": {
       "border": "0px",
       "margin": "0px",
       "padding": "0px"
      }
     },
     "92ea5acd1aa949f09f33611ed7517ed9": {
      "model_module": "@jupyter-widgets/base",
      "model_module_version": "1.2.0",
      "model_name": "LayoutModel",
      "state": {
       "align_items": "stretch",
       "display": "flex",
       "flex_flow": "row",
       "grid_auto_columns": "True",
       "justify_content": "flex-start",
       "width": "80%"
      }
     },
     "93fb72be7695472a88f950751ebfeca3": {
      "model_module": "@jupyter-widgets/base",
      "model_module_version": "1.2.0",
      "model_name": "LayoutModel",
      "state": {
       "align_items": "stretch",
       "display": "flex",
       "flex_flow": "row",
       "grid_auto_columns": "True",
       "justify_content": "flex-end",
       "width": "90%"
      }
     },
     "9408fd938378498da7a6c37e34bcad3b": {
      "model_module": "@jupyter-widgets/base",
      "model_module_version": "1.2.0",
      "model_name": "LayoutModel",
      "state": {
       "align_items": "stretch",
       "display": "flex",
       "flex_flow": "row",
       "grid_auto_columns": "True",
       "justify_content": "flex-start",
       "width": "80%"
      }
     },
     "940cfe68631a4e64aa4f83e64c3c38da": {
      "model_module": "@jupyter-widgets/base",
      "model_module_version": "1.2.0",
      "model_name": "LayoutModel",
      "state": {}
     },
     "941c90a129134261a8b6898e5f1325b5": {
      "model_module": "@jupyter-widgets/base",
      "model_module_version": "1.2.0",
      "model_name": "LayoutModel",
      "state": {
       "border": "0px",
       "margin": "0px",
       "padding": "0px"
      }
     },
     "948138315539407b91d5eaa638915870": {
      "model_module": "@jupyter-widgets/output",
      "model_module_version": "1.0.0",
      "model_name": "OutputModel",
      "state": {
       "layout": "IPY_MODEL_58676f433296401d857ff1ddff7c2237"
      }
     },
     "94850d451d364693998a69f9c5ced977": {
      "model_module": "@jupyter-widgets/base",
      "model_module_version": "1.2.0",
      "model_name": "LayoutModel",
      "state": {
       "align_items": "stretch",
       "display": "flex",
       "flex_flow": "row",
       "grid_auto_columns": "True",
       "justify_content": "flex-end",
       "width": "90%"
      }
     },
     "94a357533d6747aa89a7384ebade68d3": {
      "model_module": "@jupyter-widgets/base",
      "model_module_version": "1.2.0",
      "model_name": "LayoutModel",
      "state": {
       "width": "5%"
      }
     },
     "94d44ffedd5c45299a0fd01d55a82cc2": {
      "model_module": "@jupyter-widgets/controls",
      "model_module_version": "1.5.0",
      "model_name": "ButtonModel",
      "state": {
       "button_style": "info",
       "description": "show source code",
       "layout": "IPY_MODEL_03bf7ae9f87f4dfbbcdf9d1dd841eb16",
       "style": "IPY_MODEL_889c066617b44471a3033506b8d3a413",
       "tooltip": "shows the raw python code in the preview window below"
      }
     },
     "9561d65102d24a27a56f26eb2d1dc8c9": {
      "model_module": "@jupyter-widgets/controls",
      "model_module_version": "1.5.0",
      "model_name": "HBoxModel",
      "state": {
       "children": [
        "IPY_MODEL_0fbe4ef159584d45a415824c75c5d96a"
       ],
       "layout": "IPY_MODEL_a3aaead6b0b842378a5a918e3b931121"
      }
     },
     "957fabb862024508b1bf63e1fe62e111": {
      "model_module": "@jupyter-widgets/controls",
      "model_module_version": "1.5.0",
      "model_name": "HTMLModel",
      "state": {
       "layout": "IPY_MODEL_e2fee71c91e94a46a9391ac57bf5f1fa",
       "style": "IPY_MODEL_d06f88fced31423cb347d62722eb7a65",
       "value": "<p>height_difference_m</p>"
      }
     },
     "959c9a9a9bc14672962b66fe8f96e211": {
      "model_module": "@jupyter-widgets/controls",
      "model_module_version": "1.5.0",
      "model_name": "FloatTextModel",
      "state": {
       "layout": "IPY_MODEL_db6fe7bdd7ff4604bf7e52d44d07ce4a",
       "step": null,
       "style": "IPY_MODEL_7c59c3e62a904138997da23b3d20733a",
       "value": 500
      }
     },
     "95a56ec53c114408931312bf02b01da9": {
      "model_module": "@jupyter-widgets/controls",
      "model_module_version": "1.5.0",
      "model_name": "HTMLModel",
      "state": {
       "layout": "IPY_MODEL_1ed8fcef4f8a4453bf8ba8a4dac68939",
       "style": "IPY_MODEL_e40a93b9e391473ea181a055e83c2138",
       "value": "<p>From BS7074. The max between this and: 0.15 * static_pressure_barg  is used (Paul Button rule of thumb)</p>"
      }
     },
     "963a9263b8d1435fba55ae5d53ad8fe4": {
      "model_module": "@jupyter-widgets/controls",
      "model_module_version": "1.5.0",
      "model_name": "DescriptionStyleModel",
      "state": {
       "description_width": ""
      }
     },
     "96fd70d3df924d719abdddee58a92636": {
      "model_module": "@jupyter-widgets/controls",
      "model_module_version": "1.5.0",
      "model_name": "HTMLModel",
      "state": {
       "layout": "IPY_MODEL_87af9dfb720c4bbea33cad9c663d5ce8",
       "style": "IPY_MODEL_bc1f23173e6649a6b4e6b0901abf3b7e",
       "value": "<p>margin_1_bar</p>"
      }
     },
     "9757d151dca14342aa9c6352ac2b53d4": {
      "model_module": "@jupyter-widgets/base",
      "model_module_version": "1.2.0",
      "model_name": "LayoutModel",
      "state": {
       "width": "100%"
      }
     },
     "9807d20075934c9b95a957375705d76b": {
      "model_module": "@jupyter-widgets/base",
      "model_module_version": "1.2.0",
      "model_name": "LayoutModel",
      "state": {}
     },
     "9870b32f20db4628850597d5dd9bb507": {
      "model_module": "@jupyter-widgets/controls",
      "model_module_version": "1.5.0",
      "model_name": "HTMLModel",
      "state": {
       "layout": "IPY_MODEL_11fb6362a56d4d8aab63b6fa5f3449fe",
       "style": "IPY_MODEL_44b79e4e7d124ff68a2001a9d9516de9",
       "value": "<p>eV_acceptance_fraction</p>"
      }
     },
     "9880548173684749a49f32367b913e76": {
      "model_module": "@jupyter-widgets/base",
      "model_module_version": "1.2.0",
      "model_name": "LayoutModel",
      "state": {
       "width": "5%"
      }
     },
     "989caec02be949b48c4806668f225f9c": {
      "model_module": "@jupyter-widgets/controls",
      "model_module_version": "1.5.0",
      "model_name": "FloatSliderModel",
      "state": {
       "layout": "IPY_MODEL_b69bd39ed0c14164a868a4294523e0c0",
       "max": 2,
       "step": 0.1,
       "style": "IPY_MODEL_48a1b09b5a6849d7bfe390c0ced4765f",
       "value": 1
      }
     },
     "98dd775bbfe34411b4596c3dfdb2266b": {
      "model_module": "@jupyter-widgets/base",
      "model_module_version": "1.2.0",
      "model_name": "LayoutModel",
      "state": {}
     },
     "99601edd314640d19c8b3ccbb89a9a23": {
      "model_module": "@jupyter-widgets/controls",
      "model_module_version": "1.5.0",
      "model_name": "SliderStyleModel",
      "state": {
       "description_width": ""
      }
     },
     "999cbc25711b4add9fd9aae2d6b514d4": {
      "model_module": "@jupyter-widgets/base",
      "model_module_version": "1.2.0",
      "model_name": "LayoutModel",
      "state": {}
     },
     "99b48135445840cda941e3bdc850d166": {
      "model_module": "@jupyter-widgets/base",
      "model_module_version": "1.2.0",
      "model_name": "LayoutModel",
      "state": {
       "align_items": "stretch",
       "display": "flex",
       "flex_flow": "row",
       "grid_auto_columns": "True",
       "justify_content": "flex-start",
       "width": "80%"
      }
     },
     "99e12bab95c94f4dac835aca7c2749e3": {
      "model_module": "@jupyter-widgets/base",
      "model_module_version": "1.2.0",
      "model_name": "LayoutModel",
      "state": {
       "align_items": "stretch",
       "display": "flex",
       "flex_flow": "row",
       "grid_auto_columns": "True",
       "justify_content": "flex-start",
       "width": "80%"
      }
     },
     "9a0d7c2fab9c4620b5ab23b460e13c0e": {
      "model_module": "@jupyter-widgets/base",
      "model_module_version": "1.2.0",
      "model_name": "LayoutModel",
      "state": {}
     },
     "9a4199991a6443b58941bab0de40376a": {
      "model_module": "@jupyter-widgets/controls",
      "model_module_version": "1.5.0",
      "model_name": "DescriptionStyleModel",
      "state": {
       "description_width": ""
      }
     },
     "9a4c900095b547a594e1f25dc1f53a37": {
      "model_module": "@jupyter-widgets/controls",
      "model_module_version": "1.5.0",
      "model_name": "DescriptionStyleModel",
      "state": {
       "description_width": ""
      }
     },
     "9b23fa0a6233415f85f733266c92a739": {
      "model_module": "@jupyter-widgets/base",
      "model_module_version": "1.2.0",
      "model_name": "LayoutModel",
      "state": {}
     },
     "9b27b5dee3994f749b5aa82da2218294": {
      "model_module": "@jupyter-widgets/base",
      "model_module_version": "1.2.0",
      "model_name": "LayoutModel",
      "state": {}
     },
     "9bbfd90a012c4c9aaaf16b9ab538d615": {
      "model_module": "@jupyter-widgets/controls",
      "model_module_version": "1.5.0",
      "model_name": "HTMLModel",
      "state": {
       "layout": "IPY_MODEL_2993339d24c4404787dd7f97b85add1b",
       "style": "IPY_MODEL_4137137e59e846988dca7eac7a1d2ad3",
       "value": "<p>From BS7074. The max between this and: 0.15 * static_pressure_barg  is used (Paul Button rule of thumb)</p>"
      }
     },
     "9bfe41b3375d4c9e92420c653eaecbe8": {
      "model_module": "@jupyter-widgets/base",
      "model_module_version": "1.2.0",
      "model_name": "LayoutModel",
      "state": {
       "height": "30px",
       "width": "auto"
      }
     },
     "9c23542f9a0444e0804bacd8b612a26e": {
      "model_module": "@jupyter-widgets/controls",
      "model_module_version": "1.5.0",
      "model_name": "HBoxModel",
      "state": {
       "children": [
        "IPY_MODEL_f84018d5db404bbab2bd837e620bfdec",
        "IPY_MODEL_0129b76d10c64b8abadcc96b98fba2f5"
       ],
       "layout": "IPY_MODEL_75bf2a2fa5d14766bac51a6e8452ceaa"
      }
     },
     "9c2a31ff08fd421394b3df0207316af1": {
      "model_module": "@jupyter-widgets/base",
      "model_module_version": "1.2.0",
      "model_name": "LayoutModel",
      "state": {}
     },
     "9c9cd129266e49749eff9622a5cd8f7b": {
      "model_module": "@jupyter-widgets/base",
      "model_module_version": "1.2.0",
      "model_name": "LayoutModel",
      "state": {
       "align_items": "stretch",
       "border": "dashed 0.2px green",
       "display": "flex",
       "flex_flow": "row",
       "grid_auto_columns": "True",
       "justify_content": "flex-start",
       "width": "100%"
      }
     },
     "9d687ef61b8f4cd29c0bf53e07fe9225": {
      "model_module": "@jupyter-widgets/controls",
      "model_module_version": "1.5.0",
      "model_name": "VBoxModel",
      "state": {
       "layout": "IPY_MODEL_8e6ee29939604e03a963321e9e65c757"
      }
     },
     "9dcfcf1fb0e248a789f27edf968ea163": {
      "model_module": "@jupyter-widgets/controls",
      "model_module_version": "1.5.0",
      "model_name": "ButtonModel",
      "state": {
       "button_style": "info",
       "description": "show source code",
       "layout": "IPY_MODEL_3d17c5d9a5b244bcb66366db5288f631",
       "style": "IPY_MODEL_dd027def44e84877be74c39ba16dbaa4",
       "tooltip": "shows the raw python code in the preview window below"
      }
     },
     "9dfbcbc5c5c54d128fc5242e492e6bdb": {
      "model_module": "@jupyter-widgets/base",
      "model_module_version": "1.2.0",
      "model_name": "LayoutModel",
      "state": {
       "align_items": "stretch",
       "display": "flex",
       "flex_flow": "row",
       "grid_auto_columns": "True",
       "justify_content": "flex-start",
       "width": "80%"
      }
     },
     "9f0177fcb58c4f5085871fd11693cb72": {
      "model_module": "@jupyter-widgets/controls",
      "model_module_version": "1.5.0",
      "model_name": "DescriptionStyleModel",
      "state": {
       "description_width": ""
      }
     },
     "9f081e4d38bd49e9b64e16f9d4c490c6": {
      "model_module": "@jupyter-widgets/base",
      "model_module_version": "1.2.0",
      "model_name": "LayoutModel",
      "state": {
       "align_items": "stretch",
       "border": "dashed 0.2px green",
       "display": "flex",
       "flex_flow": "row",
       "grid_auto_columns": "True",
       "justify_content": "flex-start",
       "width": "100%"
      }
     },
     "9f3ea723a3eb493d94a1543d72e119d6": {
      "model_module": "@jupyter-widgets/base",
      "model_module_version": "1.2.0",
      "model_name": "LayoutModel",
      "state": {}
     },
     "9f51a77af02745f8a1e97e45fd7558ae": {
      "model_module": "@jupyter-widgets/controls",
      "model_module_version": "1.5.0",
      "model_name": "VBoxModel",
      "state": {
       "children": [
        "IPY_MODEL_c0d9215f6a7b4456b2a5a63719a71cb0",
        "IPY_MODEL_50909422a0a34f00a8b3bce5ae71fceb",
        "IPY_MODEL_ed07f16af1ef4d7dafac5da8345a7d24"
       ],
       "layout": "IPY_MODEL_799618ba0e7644fd875d30e59e7e2f47"
      }
     },
     "9f8241a70f534916b5bb0d5fd998ec68": {
      "model_module": "@jupyter-widgets/controls",
      "model_module_version": "1.5.0",
      "model_name": "HBoxModel",
      "state": {
       "children": [
        "IPY_MODEL_243717641eda47cfafad38b779791e83",
        "IPY_MODEL_cf9df3a039d94acbad25c31a6e90332a"
       ],
       "layout": "IPY_MODEL_79000b40e79d44a4992acf6aa273c118"
      }
     },
     "9fc83c746a6d4c83b8f13186d28b1458": {
      "model_module": "@jupyter-widgets/base",
      "model_module_version": "1.2.0",
      "model_name": "LayoutModel",
      "state": {
       "align_items": "stretch",
       "display": "flex",
       "flex_flow": "row",
       "grid_auto_columns": "True",
       "justify_content": "flex-start",
       "width": "80%"
      }
     },
     "a05afccda25f453c9d5bfe1907c880a5": {
      "model_module": "@jupyter-widgets/controls",
      "model_module_version": "1.5.0",
      "model_name": "ButtonStyleModel",
      "state": {
       "font_weight": "bold"
      }
     },
     "a0adfd2855cd4398ac0a81004c6dfbf2": {
      "model_module": "@jupyter-widgets/controls",
      "model_module_version": "1.5.0",
      "model_name": "HBoxModel",
      "state": {
       "children": [
        "IPY_MODEL_b6c64cfc8c1e44cf90dcd50b0e7d025a",
        "IPY_MODEL_b702451fd0ef463889b9ce51893b8422"
       ],
       "layout": "IPY_MODEL_9dfbcbc5c5c54d128fc5242e492e6bdb"
      }
     },
     "a0bc83929f64483aa68e73489a8ca39a": {
      "model_module": "@jupyter-widgets/base",
      "model_module_version": "1.2.0",
      "model_name": "LayoutModel",
      "state": {
       "align_items": "stretch",
       "display": "flex",
       "flex_flow": "row",
       "grid_auto_columns": "True",
       "justify_content": "flex-end",
       "width": "90%"
      }
     },
     "a0d78320b79a4ce59d98ca7376b3b7cb": {
      "model_module": "@jupyter-widgets/base",
      "model_module_version": "1.2.0",
      "model_name": "LayoutModel",
      "state": {
       "align_items": "stretch",
       "display": "flex",
       "flex_flow": "row",
       "grid_auto_columns": "True",
       "justify_content": "flex-end",
       "width": "90%"
      }
     },
     "a140ddab061e4ceba93020572e69d723": {
      "model_module": "@jupyter-widgets/controls",
      "model_module_version": "1.5.0",
      "model_name": "HBoxModel",
      "state": {
       "children": [
        "IPY_MODEL_23144116bc8840f2b2b6dad67d5a9ffa",
        "IPY_MODEL_f876cb9d9af24c8bb2fd3180e3608558"
       ],
       "layout": "IPY_MODEL_93fb72be7695472a88f950751ebfeca3"
      }
     },
     "a18971931fb94ca2abe7dc449197a815": {
      "model_module": "@jupyter-widgets/base",
      "model_module_version": "1.2.0",
      "model_name": "LayoutModel",
      "state": {
       "height": "30px",
       "width": "auto"
      }
     },
     "a1b4dac46b9b47d59997cfdcebe17c0c": {
      "model_module": "@jupyter-widgets/base",
      "model_module_version": "1.2.0",
      "model_name": "LayoutModel",
      "state": {}
     },
     "a1c0614cdfcc4a419746a98eb75b2a44": {
      "model_module": "@jupyter-widgets/controls",
      "model_module_version": "1.5.0",
      "model_name": "ButtonModel",
      "state": {
       "button_style": "info",
       "description": "preview outputs",
       "layout": "IPY_MODEL_a3c74ee2449642b48f65e96f33730ced",
       "style": "IPY_MODEL_142355cb4c244d88b2d4bb6ee2eb7b4b",
       "tooltip": "show a preview of the output files generated when the script runs"
      }
     },
     "a24edbb5f9b34452a89ab077a08aeda3": {
      "model_module": "@jupyter-widgets/base",
      "model_module_version": "1.2.0",
      "model_name": "LayoutModel",
      "state": {
       "align_items": "stretch",
       "display": "flex",
       "flex_flow": "row",
       "grid_auto_columns": "True",
       "justify_content": "flex-end",
       "width": "90%"
      }
     },
     "a2cb2f37f00b4bcb89cf6fc37e8153c3": {
      "model_module": "@jupyter-widgets/base",
      "model_module_version": "1.2.0",
      "model_name": "LayoutModel",
      "state": {
       "align_items": "stretch",
       "display": "flex",
       "flex_flow": "row",
       "grid_auto_columns": "True",
       "justify_content": "flex-end",
       "width": "90%"
      }
     },
     "a2e6fe8dfa9e41ecb8614306a0a00c63": {
      "model_module": "@jupyter-widgets/base",
      "model_module_version": "1.2.0",
      "model_name": "LayoutModel",
      "state": {}
     },
     "a3aaead6b0b842378a5a918e3b931121": {
      "model_module": "@jupyter-widgets/base",
      "model_module_version": "1.2.0",
      "model_name": "LayoutModel",
      "state": {
       "align_items": "stretch",
       "border": "dashed 0.2px green",
       "display": "flex",
       "flex_flow": "row",
       "grid_auto_columns": "True",
       "justify_content": "flex-start",
       "width": "100%"
      }
     },
     "a3c619af70d441bc99252b5f67795604": {
      "model_module": "@jupyter-widgets/base",
      "model_module_version": "1.2.0",
      "model_name": "LayoutModel",
      "state": {
       "height": "30px",
       "width": "auto"
      }
     },
     "a3c74ee2449642b48f65e96f33730ced": {
      "model_module": "@jupyter-widgets/base",
      "model_module_version": "1.2.0",
      "model_name": "LayoutModel",
      "state": {}
     },
     "a3c94508e65c4035bf1bca6a17ceac98": {
      "model_module": "@jupyter-widgets/controls",
      "model_module_version": "1.5.0",
      "model_name": "HBoxModel",
      "state": {
       "children": [
        "IPY_MODEL_6eff12a477114a42a4cf8654bb6ccc79",
        "IPY_MODEL_080392de5bad430bad1ece693eeb26ca"
       ],
       "layout": "IPY_MODEL_3b7404f9805445b1adf13cea2716cbdf"
      }
     },
     "a442b97d1f42468f8337a6624aafd424": {
      "model_module": "@jupyter-widgets/controls",
      "model_module_version": "1.5.0",
      "model_name": "HBoxModel",
      "state": {
       "children": [
        "IPY_MODEL_96fd70d3df924d719abdddee58a92636",
        "IPY_MODEL_7e038015516340058fff95e4e29cf0a6"
       ],
       "layout": "IPY_MODEL_f7f4b37b91d84d6cb120e48d1654186e"
      }
     },
     "a4bc9428ea2449549b4a555b4dfb0717": {
      "model_module": "@jupyter-widgets/base",
      "model_module_version": "1.2.0",
      "model_name": "LayoutModel",
      "state": {}
     },
     "a4d2ce50436d4554b5aff3c382927c2e": {
      "model_module": "@jupyter-widgets/controls",
      "model_module_version": "1.5.0",
      "model_name": "ButtonModel",
      "state": {
       "icon": "eye-slash",
       "layout": "IPY_MODEL_18d03510deaf4d399af355345acf7013",
       "style": "IPY_MODEL_8635cda22a3f4fe2bfd06b606467d3fd",
       "tooltip": "removes temporary output view"
      }
     },
     "a50878193b2f421f9937501824c1b32e": {
      "model_module": "@jupyter-widgets/controls",
      "model_module_version": "1.5.0",
      "model_name": "HTMLModel",
      "state": {
       "layout": "IPY_MODEL_7db5376bab83402895533dced780e954",
       "style": "IPY_MODEL_5d9eeb48df13468db959baa0e079ca17",
       "value": "<p>edit user input form below</p>"
      }
     },
     "a54e39704eaa461288d68c6bc73257e8": {
      "model_module": "@jupyter-widgets/controls",
      "model_module_version": "1.5.0",
      "model_name": "AccordionModel",
      "state": {
       "_titles": {
        "0": "expansion_vessel_sizing_2"
       },
       "children": [
        "IPY_MODEL_4f6a9e3cbf9c4bad8a7a08a7febc8dc9"
       ],
       "layout": "IPY_MODEL_11e10d7eb50c4a74b170a2a64d2ec33d",
       "selected_index": null
      }
     },
     "a57dee3197a54834a8caa842cde3e1d6": {
      "model_module": "@jupyter-widgets/controls",
      "model_module_version": "1.5.0",
      "model_name": "HTMLModel",
      "state": {
       "layout": "IPY_MODEL_ff7f33f8dd0f484fbd117c3b9bc2cc77",
       "style": "IPY_MODEL_115c603f3a494ae590ccef065b212332",
       "value": "<p>eV_acceptance_fraction</p>"
      }
     },
     "a5d9f6e3cfd942218d45ee8664ca5eb1": {
      "model_module": "@jupyter-widgets/controls",
      "model_module_version": "1.5.0",
      "model_name": "RadioButtonsModel",
      "state": {
       "index": null,
       "layout": "IPY_MODEL_bf6779c312ec4b4cb0bc1852bc0aea35",
       "style": "IPY_MODEL_a851eb56c738454e877fc55a7a6dd834"
      }
     },
     "a67b62ec81674a44b7657452f3e6a9a2": {
      "model_module": "@jupyter-widgets/base",
      "model_module_version": "1.2.0",
      "model_name": "LayoutModel",
      "state": {
       "height": "30px",
       "width": "auto"
      }
     },
     "a67b9c45a2bb4967b4437a8321e49375": {
      "model_module": "@jupyter-widgets/controls",
      "model_module_version": "1.5.0",
      "model_name": "ButtonStyleModel",
      "state": {
       "font_weight": "bold"
      }
     },
     "a6d5a9fd38824a53af2cec5fb5f98bd1": {
      "model_module": "@jupyter-widgets/controls",
      "model_module_version": "1.5.0",
      "model_name": "ButtonStyleModel",
      "state": {
       "font_weight": "bold"
      }
     },
     "a730d05be5114380a27ec1999ddd41fc": {
      "model_module": "@jupyter-widgets/controls",
      "model_module_version": "1.5.0",
      "model_name": "BoxModel",
      "state": {
       "children": [
        "IPY_MODEL_f0be99bdb2544d04ae1bc6cb9f79a88c"
       ],
       "layout": "IPY_MODEL_bdff8035577041d3859efc51cbd970c6"
      }
     },
     "a78f1ac18a6543f2a993b419eb4611ed": {
      "model_module": "@jupyter-widgets/controls",
      "model_module_version": "1.5.0",
      "model_name": "FloatSliderModel",
      "state": {
       "layout": "IPY_MODEL_0d13c48162b446df93842c297e8f3cf8",
       "max": 1,
       "step": 0.1,
       "style": "IPY_MODEL_6242ce971c2d497182395879df0a2ddd",
       "value": 0.3
      }
     },
     "a7c0bdb1d22447c195f38de5f3d18862": {
      "model_module": "@jupyter-widgets/controls",
      "model_module_version": "1.5.0",
      "model_name": "HTMLModel",
      "state": {
       "layout": "IPY_MODEL_a1b4dac46b9b47d59997cfdcebe17c0c",
       "style": "IPY_MODEL_534b8d0f5d234cb9b6b771268995fdd8",
       "value": "<p>effective pipework pressure loss (Pa/m)</p>"
      }
     },
     "a7db39ff872c43d59ca82f305b8773b9": {
      "model_module": "@jupyter-widgets/controls",
      "model_module_version": "1.5.0",
      "model_name": "ButtonStyleModel",
      "state": {
       "font_weight": "bold"
      }
     },
     "a851eb56c738454e877fc55a7a6dd834": {
      "model_module": "@jupyter-widgets/controls",
      "model_module_version": "1.5.0",
      "model_name": "DescriptionStyleModel",
      "state": {
       "description_width": ""
      }
     },
     "a871b3e16e8a4c78b4f30a2442f17867": {
      "model_module": "@jupyter-widgets/base",
      "model_module_version": "1.2.0",
      "model_name": "LayoutModel",
      "state": {
       "height": "30px",
       "max_width": "30px",
       "padding": "3px"
      }
     },
     "a8c29f2b6f444344850318dab63fb725": {
      "model_module": "@jupyter-widgets/controls",
      "model_module_version": "1.5.0",
      "model_name": "ButtonStyleModel",
      "state": {
       "font_weight": "bold"
      }
     },
     "a91bfbe592e34cab81d2ca566403ff34": {
      "model_module": "@jupyter-widgets/controls",
      "model_module_version": "1.5.0",
      "model_name": "DescriptionStyleModel",
      "state": {
       "description_width": ""
      }
     },
     "aa6f810449f541c9bf01b5479ac755b2": {
      "model_module": "@jupyter-widgets/base",
      "model_module_version": "1.2.0",
      "model_name": "LayoutModel",
      "state": {}
     },
     "aa81c7a95c734aaea15b076492749776": {
      "model_module": "@jupyter-widgets/base",
      "model_module_version": "1.2.0",
      "model_name": "LayoutModel",
      "state": {}
     },
     "ab8c464fc3fd40089a347bbafbea6c32": {
      "model_module": "@jupyter-widgets/base",
      "model_module_version": "1.2.0",
      "model_name": "LayoutModel",
      "state": {}
     },
     "ac510d1b4d994de9ab82f69c21a590d6": {
      "model_module": "@jupyter-widgets/base",
      "model_module_version": "1.2.0",
      "model_name": "LayoutModel",
      "state": {}
     },
     "aced83e8f0314ee5a3a577bca17d8116": {
      "model_module": "@jupyter-widgets/base",
      "model_module_version": "1.2.0",
      "model_name": "LayoutModel",
      "state": {}
     },
     "ad1bbd80fee74b8f9f0c2dda5ccd790f": {
      "model_module": "@jupyter-widgets/output",
      "model_module_version": "1.0.0",
      "model_name": "OutputModel",
      "state": {
       "layout": "IPY_MODEL_4b455083d7aa4413a5a914da687ca1b8"
      }
     },
     "ad1ca2fbf7a849deb08378e84dea01ee": {
      "model_module": "@jupyter-widgets/base",
      "model_module_version": "1.2.0",
      "model_name": "LayoutModel",
      "state": {}
     },
     "ad2642f84ddf4289a644961d8bf53430": {
      "model_module": "@jupyter-widgets/controls",
      "model_module_version": "1.5.0",
      "model_name": "FloatSliderModel",
      "state": {
       "layout": "IPY_MODEL_b26413e15c2a4f0b8085a6e1234c5532",
       "max": 1,
       "step": 0.1,
       "style": "IPY_MODEL_073a4f50ba5e4c668d4cd0d59fa6a057",
       "value": 0.3
      }
     },
     "ad6258c522334e1abd73fec8810338be": {
      "model_module": "@jupyter-widgets/controls",
      "model_module_version": "1.5.0",
      "model_name": "HBoxModel",
      "state": {
       "children": [
        "IPY_MODEL_defb2d279f4c4f0f9693d10f551a5fcb",
        "IPY_MODEL_c576abb3cc794c77a599d519478ae8f2"
       ],
       "layout": "IPY_MODEL_2750e6b9752642638f5953e5711d98a5"
      }
     },
     "ad8e7ce18a124c0685cef39003d7cd78": {
      "model_module": "@jupyter-widgets/controls",
      "model_module_version": "1.5.0",
      "model_name": "HTMLModel",
      "state": {
       "layout": "IPY_MODEL_e613546c954e4b19babe06ab0354f517",
       "style": "IPY_MODEL_f9cb5a9a16d74f6d8c8be3439c2a34a6",
       "value": "<p>pipework_length_m</p>"
      }
     },
     "ada3f6575ed7426ebc4431f307f4e058": {
      "model_module": "@jupyter-widgets/controls",
      "model_module_version": "1.5.0",
      "model_name": "DescriptionStyleModel",
      "state": {
       "description_width": ""
      }
     },
     "adf5e50830e347f2bcc1f80e3c1af619": {
      "model_module": "@jupyter-widgets/controls",
      "model_module_version": "1.5.0",
      "model_name": "HBoxModel",
      "state": {
       "children": [
        "IPY_MODEL_1506d98610b34d2d9d67d96f07b1f86f",
        "IPY_MODEL_43e0d89dcbb84adeabcbe352b133a2ba"
       ],
       "layout": "IPY_MODEL_cb45fb11d0c5442581a69473a3c907c9"
      }
     },
     "ae1c2018d306407cbeb22003992abe04": {
      "model_module": "@jupyter-widgets/base",
      "model_module_version": "1.2.0",
      "model_name": "LayoutModel",
      "state": {
       "display": "flex",
       "flex_flow": "row",
       "grid_auto_columns": "False",
       "justify_content": "flex-start",
       "width": "100%"
      }
     },
     "ae7d15e5c2254b959dfc5a7694d20c34": {
      "model_module": "@jupyter-widgets/controls",
      "model_module_version": "1.5.0",
      "model_name": "HTMLModel",
      "state": {
       "layout": "IPY_MODEL_1f1f7b0e79fe428aa5f4fa6d080da23b",
       "style": "IPY_MODEL_9f0177fcb58c4f5085871fd11693cb72",
       "value": "<p>sensitivity factor</p>"
      }
     },
     "afed00ea4adb4ecd96509f82316e5efe": {
      "model_module": "@jupyter-widgets/controls",
      "model_module_version": "1.5.0",
      "model_name": "ButtonStyleModel",
      "state": {
       "font_weight": "bold"
      }
     },
     "b0016a18edbd47f89fd71b46f094f71f": {
      "model_module": "@jupyter-widgets/controls",
      "model_module_version": "1.5.0",
      "model_name": "DescriptionStyleModel",
      "state": {
       "description_width": ""
      }
     },
     "b056a8459def4e42a0f3eb721eb510ec": {
      "model_module": "@jupyter-widgets/controls",
      "model_module_version": "1.5.0",
      "model_name": "HBoxModel",
      "state": {
       "children": [
        "IPY_MODEL_6e0c5f055f4e41d2bbe9e6c2c0a54b61",
        "IPY_MODEL_1bf27bd9601f4d828ce5358be8a74a3a",
        "IPY_MODEL_b5fee850dd2e4759b9747a7bccb6dfe5",
        "IPY_MODEL_5bbd4b2e02c145f48378a01719a88d90",
        "IPY_MODEL_02ceefd5b80f47efa76730dd6a91dddf",
        "IPY_MODEL_36ea8c52674142b49b2c1f4b6aa04335",
        "IPY_MODEL_34d656cc277946ccada5b4f401a00bff"
       ],
       "layout": "IPY_MODEL_485ddc5e68ed4e8b867883f6f2d79a1b"
      }
     },
     "b085ff28b60b4b9c8eb39843b1d37513": {
      "model_module": "@jupyter-widgets/controls",
      "model_module_version": "1.5.0",
      "model_name": "HBoxModel",
      "state": {
       "children": [
        "IPY_MODEL_372c0e72b1e14f54b3e94484aa0ceae2",
        "IPY_MODEL_7e62d21d228f43118d222eed8046387b"
       ],
       "layout": "IPY_MODEL_11dd2830d4f6437e9cc7cf22d2932bfc"
      }
     },
     "b0d8b20abe8448c4a32f1753d8ce4cd3": {
      "model_module": "@jupyter-widgets/base",
      "model_module_version": "1.2.0",
      "model_name": "LayoutModel",
      "state": {
       "display": "flex",
       "flex_flow": "row",
       "grid_auto_columns": "False",
       "justify_content": "flex-start",
       "width": "100%"
      }
     },
     "b0d9c472a6c545598d3376584f515ec8": {
      "model_module": "@jupyter-widgets/controls",
      "model_module_version": "1.5.0",
      "model_name": "DescriptionStyleModel",
      "state": {
       "description_width": ""
      }
     },
     "b0ecc79510754eb7a81acfbc229496d4": {
      "model_module": "@jupyter-widgets/base",
      "model_module_version": "1.2.0",
      "model_name": "LayoutModel",
      "state": {}
     },
     "b1029715bc17419bb63b65865847790b": {
      "model_module": "@jupyter-widgets/controls",
      "model_module_version": "1.5.0",
      "model_name": "DescriptionStyleModel",
      "state": {
       "description_width": ""
      }
     },
     "b1fe09d384394e9f9a725c7eafedd8ff": {
      "model_module": "@jupyter-widgets/base",
      "model_module_version": "1.2.0",
      "model_name": "LayoutModel",
      "state": {
       "width": "5%"
      }
     },
     "b23d2fcdd85246cbbfc1f238bb1f452c": {
      "model_module": "@jupyter-widgets/controls",
      "model_module_version": "1.5.0",
      "model_name": "VBoxModel",
      "state": {
       "children": [
        "IPY_MODEL_d447c58ee53a461c8581834da4c97a39",
        "IPY_MODEL_a50878193b2f421f9937501824c1b32e",
        "IPY_MODEL_300add98ba5d43b9a960f56b60329f49"
       ],
       "layout": "IPY_MODEL_9c2a31ff08fd421394b3df0207316af1"
      }
     },
     "b26413e15c2a4f0b8085a6e1234c5532": {
      "model_module": "@jupyter-widgets/base",
      "model_module_version": "1.2.0",
      "model_name": "LayoutModel",
      "state": {}
     },
     "b2adee1cd2fa4b35b6fe176597baf5ff": {
      "model_module": "@jupyter-widgets/base",
      "model_module_version": "1.2.0",
      "model_name": "LayoutModel",
      "state": {}
     },
     "b2cff06083df402183fdac9cfb064cba": {
      "model_module": "@jupyter-widgets/base",
      "model_module_version": "1.2.0",
      "model_name": "LayoutModel",
      "state": {
       "align_items": "stretch",
       "display": "flex",
       "flex_flow": "row",
       "grid_auto_columns": "True",
       "justify_content": "flex-end",
       "width": "90%"
      }
     },
     "b325376d1db54a87add7f4d8358a20c1": {
      "model_module": "@jupyter-widgets/controls",
      "model_module_version": "1.5.0",
      "model_name": "HTMLModel",
      "state": {
       "layout": "IPY_MODEL_b2adee1cd2fa4b35b6fe176597baf5ff",
       "style": "IPY_MODEL_40c44b00389d4ca7af18610fb6b8cd24",
       "value": "<p>Heating system pipework length (m). Note: includes horizontal, vertical, flow and return.</p>"
      }
     },
     "b3509fc55cd548ffa564079a7c6ae544": {
      "model_module": "@jupyter-widgets/controls",
      "model_module_version": "1.5.0",
      "model_name": "DescriptionStyleModel",
      "state": {
       "description_width": ""
      }
     },
     "b48caf5daa0f4019ab6b66f17c960ed0": {
      "model_module": "@jupyter-widgets/base",
      "model_module_version": "1.2.0",
      "model_name": "LayoutModel",
      "state": {}
     },
     "b49838f94cfd4f7a8aca50e566624c13": {
      "model_module": "@jupyter-widgets/controls",
      "model_module_version": "1.5.0",
      "model_name": "HBoxModel",
      "state": {
       "children": [
        "IPY_MODEL_b8323aee5af3416daa44fc750c5d8339",
        "IPY_MODEL_c542821ed4d5477490d3b75a9fe66fd4"
       ],
       "layout": "IPY_MODEL_cc70f27678134341a8806ccb7b904974"
      }
     },
     "b4bb071f769a406d99393a599bdd991a": {
      "model_module": "@jupyter-widgets/base",
      "model_module_version": "1.2.0",
      "model_name": "LayoutModel",
      "state": {}
     },
     "b5aa8e26b8c249bc84acfacd21166c13": {
      "model_module": "@jupyter-widgets/base",
      "model_module_version": "1.2.0",
      "model_name": "LayoutModel",
      "state": {
       "align_items": "stretch",
       "display": "flex",
       "flex_flow": "row",
       "grid_auto_columns": "True",
       "justify_content": "flex-start",
       "width": "80%"
      }
     },
     "b5fee850dd2e4759b9747a7bccb6dfe5": {
      "model_module": "@jupyter-widgets/controls",
      "model_module_version": "1.5.0",
      "model_name": "ButtonModel",
      "state": {
       "button_style": "info",
       "description": "show guide",
       "layout": "IPY_MODEL_aced83e8f0314ee5a3a577bca17d8116",
       "style": "IPY_MODEL_c1b4e424a8c84136a8f7bda5a0120b2b",
       "tooltip": "read the \"docstring\", ie. the documentation that was written to accompany the script"
      }
     },
     "b65ec684cf50400aa43a3840b78d3517": {
      "model_module": "@jupyter-widgets/controls",
      "model_module_version": "1.5.0",
      "model_name": "DescriptionStyleModel",
      "state": {
       "description_width": ""
      }
     },
     "b66dcc766b974836bc819aaf5468a17c": {
      "model_module": "@jupyter-widgets/controls",
      "model_module_version": "1.5.0",
      "model_name": "DescriptionStyleModel",
      "state": {
       "description_width": ""
      }
     },
     "b69bd39ed0c14164a868a4294523e0c0": {
      "model_module": "@jupyter-widgets/base",
      "model_module_version": "1.2.0",
      "model_name": "LayoutModel",
      "state": {}
     },
     "b6c64cfc8c1e44cf90dcd50b0e7d025a": {
      "model_module": "@jupyter-widgets/controls",
      "model_module_version": "1.5.0",
      "model_name": "FloatTextModel",
      "state": {
       "layout": "IPY_MODEL_1c513fe67fc84c319a6bd57242d31fe5",
       "step": null,
       "style": "IPY_MODEL_b66dcc766b974836bc819aaf5468a17c",
       "value": 48
      }
     },
     "b6e63279a6bf4d24b8b198111fb4675e": {
      "model_module": "@jupyter-widgets/controls",
      "model_module_version": "1.5.0",
      "model_name": "HBoxModel",
      "state": {
       "children": [
        "IPY_MODEL_959c9a9a9bc14672962b66fe8f96e211",
        "IPY_MODEL_8909f1eacb244058a0ecdac7c9fd39ce"
       ],
       "layout": "IPY_MODEL_99b48135445840cda941e3bdc850d166"
      }
     },
     "b702451fd0ef463889b9ce51893b8422": {
      "model_module": "@jupyter-widgets/controls",
      "model_module_version": "1.5.0",
      "model_name": "HTMLModel",
      "state": {
       "layout": "IPY_MODEL_d17a132de9fe4336b5d928297859fc18",
       "style": "IPY_MODEL_9a4c900095b547a594e1f25dc1f53a37",
       "value": "<p>difference in height between the highest and lowest points in the system</p>"
      }
     },
     "b79bc55b3d7e4b328c8d9efb5fe3a2fe": {
      "model_module": "@jupyter-widgets/base",
      "model_module_version": "1.2.0",
      "model_name": "LayoutModel",
      "state": {
       "border": "0px",
       "margin": "0px",
       "padding": "0px"
      }
     },
     "b7d23321daa34881a568e4a2b6549598": {
      "model_module": "@jupyter-widgets/base",
      "model_module_version": "1.2.0",
      "model_name": "LayoutModel",
      "state": {
       "width": "100%"
      }
     },
     "b7edfedfa4404fcd85ced57f9c97611c": {
      "model_module": "@jupyter-widgets/base",
      "model_module_version": "1.2.0",
      "model_name": "LayoutModel",
      "state": {
       "align_items": "stretch",
       "border": "dashed 0.2px green",
       "display": "flex",
       "flex_flow": "row",
       "grid_auto_columns": "True",
       "justify_content": "flex-start",
       "width": "100%"
      }
     },
     "b8323aee5af3416daa44fc750c5d8339": {
      "model_module": "@jupyter-widgets/controls",
      "model_module_version": "1.5.0",
      "model_name": "FloatSliderModel",
      "state": {
       "layout": "IPY_MODEL_299e05b9d9be44e2b2a81c2de95713b2",
       "max": 2,
       "step": 0.1,
       "style": "IPY_MODEL_1addfd176ba64b10be3270009b2d6f12",
       "value": 1
      }
     },
     "b882a703ac014fddad004eb1b8456fb1": {
      "model_module": "@jupyter-widgets/output",
      "model_module_version": "1.0.0",
      "model_name": "OutputModel",
      "state": {
       "layout": "IPY_MODEL_000fbdd7ed8f4a5fad2129e2bb2d0bf2"
      }
     },
     "b8c31baf65c14cb295ded907625bee34": {
      "model_module": "@jupyter-widgets/controls",
      "model_module_version": "1.5.0",
      "model_name": "SliderStyleModel",
      "state": {
       "description_width": ""
      }
     },
     "b93abc4c215743c49bdd42f4ca842dbe": {
      "model_module": "@jupyter-widgets/base",
      "model_module_version": "1.2.0",
      "model_name": "LayoutModel",
      "state": {}
     },
     "b96097572d2e429abfa107f9e62b14e0": {
      "model_module": "@jupyter-widgets/controls",
      "model_module_version": "1.5.0",
      "model_name": "HBoxModel",
      "state": {
       "children": [
        "IPY_MODEL_19865414fab54bc8819f25619e7c9e4b",
        "IPY_MODEL_510eb900e7f24ccfb7485ca8e9d96a69"
       ],
       "layout": "IPY_MODEL_f8e057238566418295c9a0fb8a287503"
      }
     },
     "b976c4ad44db40a4998ff3bdf7be1483": {
      "model_module": "@jupyter-widgets/controls",
      "model_module_version": "1.5.0",
      "model_name": "HTMLModel",
      "state": {
       "layout": "IPY_MODEL_8ae13d2ef09c4080a977a092bf4089d5",
       "style": "IPY_MODEL_1d1b26aec06d43f1a49a9008abac347e",
       "value": "<p>height_difference_m</p>"
      }
     },
     "b9bd5f954682414e90e3ddbf2d08bee5": {
      "model_module": "@jupyter-widgets/controls",
      "model_module_version": "1.5.0",
      "model_name": "VBoxModel",
      "state": {
       "children": [
        "IPY_MODEL_c37ad27e3bef4b45aadb4337cef1546b",
        "IPY_MODEL_a5d9f6e3cfd942218d45ee8664ca5eb1"
       ],
       "layout": "IPY_MODEL_376ede12e0904a16b6c7bb7418168e18"
      }
     },
     "b9e36729351f40b5b4beb89dc7b480e9": {
      "model_module": "@jupyter-widgets/controls",
      "model_module_version": "1.5.0",
      "model_name": "FloatSliderModel",
      "state": {
       "layout": "IPY_MODEL_072c18b1c08148c9887db8807f7b9cb4",
       "max": 1,
       "step": 0.1,
       "style": "IPY_MODEL_b8c31baf65c14cb295ded907625bee34",
       "value": 0.3
      }
     },
     "ba18bccb4ae94e18a44c704caf718cb7": {
      "model_module": "@jupyter-widgets/controls",
      "model_module_version": "1.5.0",
      "model_name": "ButtonStyleModel",
      "state": {
       "font_weight": "bold"
      }
     },
     "bab261cfafc443a999fdcd85d8c204ba": {
      "model_module": "@jupyter-widgets/controls",
      "model_module_version": "1.5.0",
      "model_name": "ButtonStyleModel",
      "state": {
       "font_weight": "bold"
      }
     },
     "bae715255c8348fe8b3306c876a57a3b": {
      "model_module": "@jupyter-widgets/controls",
      "model_module_version": "1.5.0",
      "model_name": "DescriptionStyleModel",
      "state": {
       "description_width": ""
      }
     },
     "baf2bbd2c6524ace807674fe0b81ec47": {
      "model_module": "@jupyter-widgets/controls",
      "model_module_version": "1.5.0",
      "model_name": "HTMLModel",
      "state": {
       "layout": "IPY_MODEL_999cbc25711b4add9fd9aae2d6b514d4",
       "style": "IPY_MODEL_c3849c2d3362462d8a04c16647f5db40",
       "value": "<p>water_volume_m3</p>"
      }
     },
     "bb09cc2e577b437085cd0ee2742195ec": {
      "model_module": "@jupyter-widgets/controls",
      "model_module_version": "1.5.0",
      "model_name": "DescriptionStyleModel",
      "state": {
       "description_width": ""
      }
     },
     "bc1f23173e6649a6b4e6b0901abf3b7e": {
      "model_module": "@jupyter-widgets/controls",
      "model_module_version": "1.5.0",
      "model_name": "DescriptionStyleModel",
      "state": {
       "description_width": ""
      }
     },
     "bc4c7168acfd42a887a9668f1a63f58d": {
      "model_module": "@jupyter-widgets/controls",
      "model_module_version": "1.5.0",
      "model_name": "CheckboxModel",
      "state": {
       "disabled": false,
       "indent": false,
       "layout": "IPY_MODEL_ee7d3f3b19034b728826048ccc05cca7",
       "style": "IPY_MODEL_dea9c828afec46039698db2bb24c629c",
       "value": false
      }
     },
     "bca5c16a50a745a99b5ef1f4e7ef474e": {
      "model_module": "@jupyter-widgets/controls",
      "model_module_version": "1.5.0",
      "model_name": "ButtonModel",
      "state": {
       "button_style": "info",
       "description": "show guide",
       "layout": "IPY_MODEL_7f835e9f5da146ad8bd6a084c99c73be",
       "style": "IPY_MODEL_4d1e0d170e0c4437a90ca5263933df1a",
       "tooltip": "read the \"docstring\", ie. the documentation that was written to accompany the script"
      }
     },
     "bd1c5371370b4293897a0dac361b0d37": {
      "model_module": "@jupyter-widgets/controls",
      "model_module_version": "1.5.0",
      "model_name": "DescriptionStyleModel",
      "state": {
       "description_width": ""
      }
     },
     "bd21ad76c69f4a41b2a32ad5c30cf599": {
      "model_module": "@jupyter-widgets/controls",
      "model_module_version": "1.5.0",
      "model_name": "DescriptionStyleModel",
      "state": {
       "description_width": ""
      }
     },
     "bd9ac13145df461c9a961a1815e132f5": {
      "model_module": "@jupyter-widgets/controls",
      "model_module_version": "1.5.0",
      "model_name": "HTMLModel",
      "state": {
       "layout": "IPY_MODEL_071eb5b3282b4c4b86a73eb6a9cf8cc1",
       "style": "IPY_MODEL_828f8b327b1845abbd08ea3c0b97dd76",
       "value": "<p>height_difference_m</p>"
      }
     },
     "bdff8035577041d3859efc51cbd970c6": {
      "model_module": "@jupyter-widgets/base",
      "model_module_version": "1.2.0",
      "model_name": "LayoutModel",
      "state": {}
     },
     "be2b7c9859f94127a3d7a935b3e0611b": {
      "model_module": "@jupyter-widgets/base",
      "model_module_version": "1.2.0",
      "model_name": "LayoutModel",
      "state": {}
     },
     "bebaaa1160af412788a518d4d2ea2b95": {
      "model_module": "@jupyter-widgets/base",
      "model_module_version": "1.2.0",
      "model_name": "LayoutModel",
      "state": {
       "align_items": "stretch",
       "border": "dashed 0.2px green",
       "display": "flex",
       "flex_flow": "row",
       "grid_auto_columns": "True",
       "justify_content": "flex-start",
       "width": "100%"
      }
     },
     "bf6779c312ec4b4cb0bc1852bc0aea35": {
      "model_module": "@jupyter-widgets/base",
      "model_module_version": "1.2.0",
      "model_name": "LayoutModel",
      "state": {
       "display": "flex",
       "flex_flow": "row",
       "grid_auto_columns": "False",
       "justify_content": "flex-start",
       "width": "100%"
      }
     },
     "bf75b15f692f4555a8f495775b7ab5f9": {
      "model_module": "@jupyter-widgets/controls",
      "model_module_version": "1.5.0",
      "model_name": "HBoxModel",
      "state": {
       "children": [
        "IPY_MODEL_ad2642f84ddf4289a644961d8bf53430",
        "IPY_MODEL_4e793013266f4a74b60c7dd1e5bc242c"
       ],
       "layout": "IPY_MODEL_9408fd938378498da7a6c37e34bcad3b"
      }
     },
     "bfa2276f2cc14bfb93e351a2ba8de4ac": {
      "model_module": "@jupyter-widgets/controls",
      "model_module_version": "1.5.0",
      "model_name": "DescriptionStyleModel",
      "state": {
       "description_width": ""
      }
     },
     "bfa4c440867c44b5bae0b352b1fdd729": {
      "model_module": "@jupyter-widgets/output",
      "model_module_version": "1.0.0",
      "model_name": "OutputModel",
      "state": {
       "layout": "IPY_MODEL_10cd158fccc942bea28e4c0e694126f4"
      }
     },
     "bfad1a2d76da4926a6062deebe35f80a": {
      "model_module": "@jupyter-widgets/controls",
      "model_module_version": "1.5.0",
      "model_name": "DescriptionStyleModel",
      "state": {
       "description_width": ""
      }
     },
     "bfec00b11c1d40eebec841d7f06390ef": {
      "model_module": "@jupyter-widgets/base",
      "model_module_version": "1.2.0",
      "model_name": "LayoutModel",
      "state": {
       "align_items": "stretch",
       "border": "dashed 0.2px green",
       "display": "flex",
       "flex_flow": "row",
       "grid_auto_columns": "True",
       "justify_content": "flex-start",
       "width": "100%"
      }
     },
     "c059d71ca95344ec9450611e9e308c31": {
      "model_module": "@jupyter-widgets/base",
      "model_module_version": "1.2.0",
      "model_name": "LayoutModel",
      "state": {
       "align_items": "stretch",
       "display": "flex",
       "flex_flow": "row",
       "grid_auto_columns": "True",
       "justify_content": "flex-start",
       "width": "80%"
      }
     },
     "c09406ad362343839bb14af95fb22a5b": {
      "model_module": "@jupyter-widgets/base",
      "model_module_version": "1.2.0",
      "model_name": "LayoutModel",
      "state": {}
     },
     "c0d877bc34664f35bbe2af720376d827": {
      "model_module": "@jupyter-widgets/base",
      "model_module_version": "1.2.0",
      "model_name": "LayoutModel",
      "state": {}
     },
     "c0d9215f6a7b4456b2a5a63719a71cb0": {
      "model_module": "@jupyter-widgets/controls",
      "model_module_version": "1.5.0",
      "model_name": "TextModel",
      "state": {
       "description": "inputs",
       "disabled": true,
       "layout": "IPY_MODEL_1ba2fbfcd64d42379335b8053b38575c",
       "style": "IPY_MODEL_bfad1a2d76da4926a6062deebe35f80a",
       "value": "C:\\engDev\\git_mf\\ipyrun\\examples\\notebooks\\appdata\\inputs\\inputs-expansion_vessel_sizing.json"
      }
     },
     "c1636e8d07ea4a9c9a78acf50f37abed": {
      "model_module": "@jupyter-widgets/controls",
      "model_module_version": "1.5.0",
      "model_name": "HBoxModel",
      "state": {
       "children": [
        "IPY_MODEL_186b364731604c6c96b8b98058f93302"
       ],
       "layout": "IPY_MODEL_5a1a323215244782872272203cc647f8"
      }
     },
     "c19544d030a148e996388ac9038702d1": {
      "model_module": "@jupyter-widgets/controls",
      "model_module_version": "1.5.0",
      "model_name": "VBoxModel",
      "state": {
       "layout": "IPY_MODEL_71641ec46e08453d92edbdcbc298c6d8"
      }
     },
     "c1b4e424a8c84136a8f7bda5a0120b2b": {
      "model_module": "@jupyter-widgets/controls",
      "model_module_version": "1.5.0",
      "model_name": "ButtonStyleModel",
      "state": {
       "font_weight": "bold"
      }
     },
     "c1f54bcba1144be59448b64225f36401": {
      "model_module": "@jupyter-widgets/controls",
      "model_module_version": "1.5.0",
      "model_name": "ButtonStyleModel",
      "state": {
       "font_weight": "bold"
      }
     },
     "c2131cc66655467d97da41a653f3926f": {
      "model_module": "@jupyter-widgets/controls",
      "model_module_version": "1.5.0",
      "model_name": "ButtonStyleModel",
      "state": {
       "font_weight": "bold"
      }
     },
     "c36591ed7dfb48b99d1c439ddd298c82": {
      "model_module": "@jupyter-widgets/controls",
      "model_module_version": "1.5.0",
      "model_name": "DescriptionStyleModel",
      "state": {
       "description_width": ""
      }
     },
     "c37ad27e3bef4b45aadb4337cef1546b": {
      "model_module": "@jupyter-widgets/controls",
      "model_module_version": "1.5.0",
      "model_name": "ButtonModel",
      "state": {
       "description": "load",
       "icon": "upload",
       "layout": "IPY_MODEL_258b273e8bcc4af9ae2d966074ae897e",
       "style": "IPY_MODEL_a67b9c45a2bb4967b4437a8321e49375"
      }
     },
     "c3849c2d3362462d8a04c16647f5db40": {
      "model_module": "@jupyter-widgets/controls",
      "model_module_version": "1.5.0",
      "model_name": "DescriptionStyleModel",
      "state": {
       "description_width": ""
      }
     },
     "c385068872a24cefbf9c1735b353bde5": {
      "model_module": "@jupyter-widgets/base",
      "model_module_version": "1.2.0",
      "model_name": "LayoutModel",
      "state": {
       "align_items": "stretch",
       "border": "dashed 0.2px green",
       "display": "flex",
       "flex_flow": "row",
       "grid_auto_columns": "True",
       "justify_content": "flex-start",
       "width": "100%"
      }
     },
     "c3d6b3d0f1384b02bbfeca2cfcf4aa76": {
      "model_module": "@jupyter-widgets/base",
      "model_module_version": "1.2.0",
      "model_name": "LayoutModel",
      "state": {
       "width": "5%"
      }
     },
     "c437cc6cd9fb43cc903d01623b7f3b4f": {
      "model_module": "@jupyter-widgets/output",
      "model_module_version": "1.0.0",
      "model_name": "OutputModel",
      "state": {
       "layout": "IPY_MODEL_653b9c13324b4b9387cfc79c522c406a"
      }
     },
     "c439ab6559ba49fc8050e4a72f0bf764": {
      "model_module": "@jupyter-widgets/base",
      "model_module_version": "1.2.0",
      "model_name": "LayoutModel",
      "state": {
       "align_items": "stretch",
       "border": "dashed 0.2px green",
       "display": "flex",
       "flex_flow": "row",
       "grid_auto_columns": "True",
       "justify_content": "flex-start",
       "width": "100%"
      }
     },
     "c473194e55c342e084852a1c64f67386": {
      "model_module": "@jupyter-widgets/base",
      "model_module_version": "1.2.0",
      "model_name": "LayoutModel",
      "state": {}
     },
     "c497306836b44ed3911fa7bbd908c2be": {
      "model_module": "@jupyter-widgets/controls",
      "model_module_version": "1.5.0",
      "model_name": "HBoxModel",
      "state": {
       "children": [
        "IPY_MODEL_056cf8dff4a145e0a3d30ea67042908e"
       ],
       "layout": "IPY_MODEL_046521aca64347479e0372625e18b6c6"
      }
     },
     "c542821ed4d5477490d3b75a9fe66fd4": {
      "model_module": "@jupyter-widgets/controls",
      "model_module_version": "1.5.0",
      "model_name": "HTMLModel",
      "state": {
       "layout": "IPY_MODEL_2ac7f90c8e634de4a494a17d7f6b3cac",
       "style": "IPY_MODEL_fac832e4dd284d468d4476e137f0359b",
       "value": "<p>sensitivity factor</p>"
      }
     },
     "c576abb3cc794c77a599d519478ae8f2": {
      "model_module": "@jupyter-widgets/controls",
      "model_module_version": "1.5.0",
      "model_name": "HTMLModel",
      "state": {
       "layout": "IPY_MODEL_3c0a6067111d472c86a4e563ccfb0ff0",
       "style": "IPY_MODEL_ada3f6575ed7426ebc4431f307f4e058",
       "value": "<p>total volume of water within the closed mechanical system</p>"
      }
     },
     "c587b4edc7eb49f194c64409fb52c998": {
      "model_module": "@jupyter-widgets/controls",
      "model_module_version": "1.5.0",
      "model_name": "ButtonStyleModel",
      "state": {
       "font_weight": "bold"
      }
     },
     "c5908217622d48cc892e9e43d55a9c87": {
      "model_module": "@jupyter-widgets/base",
      "model_module_version": "1.2.0",
      "model_name": "LayoutModel",
      "state": {}
     },
     "c5a33d52d137489aba79d9c5e65b9e1c": {
      "model_module": "@jupyter-widgets/controls",
      "model_module_version": "1.5.0",
      "model_name": "DescriptionStyleModel",
      "state": {
       "description_width": ""
      }
     },
     "c5b93628f6f045faa2885c901d64860d": {
      "model_module": "@jupyter-widgets/base",
      "model_module_version": "1.2.0",
      "model_name": "LayoutModel",
      "state": {}
     },
     "c5dd697c71844008b64c14c29b8ad069": {
      "model_module": "@jupyter-widgets/controls",
      "model_module_version": "1.5.0",
      "model_name": "FloatTextModel",
      "state": {
       "layout": "IPY_MODEL_ac510d1b4d994de9ab82f69c21a590d6",
       "step": null,
       "style": "IPY_MODEL_0b39106095f049da924d03136f2d6d6d",
       "value": 500
      }
     },
     "c61a933bbfb24da194771efa82dc87f1": {
      "model_module": "@jupyter-widgets/base",
      "model_module_version": "1.2.0",
      "model_name": "LayoutModel",
      "state": {
       "width": "5%"
      }
     },
     "c62e672d7deb460bae5970304679d7e1": {
      "model_module": "@jupyter-widgets/controls",
      "model_module_version": "1.5.0",
      "model_name": "HBoxModel",
      "state": {
       "children": [
        "IPY_MODEL_20ad3a0771e44d1da97db5cf4bb1bf1c"
       ],
       "layout": "IPY_MODEL_90cdd4c3399f47bfa92e72d33baca6bf"
      }
     },
     "c64637cb627f4bbfa1a531617031b4e2": {
      "model_module": "@jupyter-widgets/base",
      "model_module_version": "1.2.0",
      "model_name": "LayoutModel",
      "state": {}
     },
     "c672c4cb441f41468fd7b6e772f2b31d": {
      "model_module": "@jupyter-widgets/controls",
      "model_module_version": "1.5.0",
      "model_name": "DescriptionStyleModel",
      "state": {
       "description_width": ""
      }
     },
     "c7bf36688d974caa9cfc1b04b7ace6e5": {
      "model_module": "@jupyter-widgets/controls",
      "model_module_version": "1.5.0",
      "model_name": "ButtonStyleModel",
      "state": {
       "font_weight": "bold"
      }
     },
     "c802f4ecb1184ac4b9e43c81479927fc": {
      "model_module": "@jupyter-widgets/base",
      "model_module_version": "1.2.0",
      "model_name": "LayoutModel",
      "state": {
       "align_items": "stretch",
       "border": "dashed 0.2px green",
       "display": "flex",
       "flex_flow": "row",
       "grid_auto_columns": "True",
       "justify_content": "flex-start",
       "width": "100%"
      }
     },
     "c866c89575ce471bbdf08e7adbb80f92": {
      "model_module": "@jupyter-widgets/controls",
      "model_module_version": "1.5.0",
      "model_name": "ButtonStyleModel",
      "state": {
       "font_weight": "bold"
      }
     },
     "c8711bef156148aab0c9ba8bc8e433bf": {
      "model_module": "@jupyter-widgets/base",
      "model_module_version": "1.2.0",
      "model_name": "LayoutModel",
      "state": {}
     },
     "c8ff8c17917047aba97db524485fa2c4": {
      "model_module": "@jupyter-widgets/controls",
      "model_module_version": "1.5.0",
      "model_name": "DescriptionStyleModel",
      "state": {
       "description_width": ""
      }
     },
     "c90253f7ecd44b898a4b86d361518099": {
      "model_module": "@jupyter-widgets/controls",
      "model_module_version": "1.5.0",
      "model_name": "HBoxModel",
      "state": {
       "children": [
        "IPY_MODEL_43959a0f429f4df9b44491559e8222ce",
        "IPY_MODEL_9f8241a70f534916b5bb0d5fd998ec68"
       ],
       "layout": "IPY_MODEL_df4502528a424dab80059618c337439d"
      }
     },
     "c9ca8392075f4eb6adb1c89001f09262": {
      "model_module": "@jupyter-widgets/output",
      "model_module_version": "1.0.0",
      "model_name": "OutputModel",
      "state": {
       "layout": "IPY_MODEL_50d5c82ee719401bb85686a6c9b17003"
      }
     },
     "ca595af73230479bad8dfc71d4030d3d": {
      "model_module": "@jupyter-widgets/base",
      "model_module_version": "1.2.0",
      "model_name": "LayoutModel",
      "state": {
       "align_items": "stretch",
       "border": "dashed 0.2px green",
       "display": "flex",
       "flex_flow": "row",
       "grid_auto_columns": "True",
       "justify_content": "flex-start",
       "width": "100%"
      }
     },
     "cb45fb11d0c5442581a69473a3c907c9": {
      "model_module": "@jupyter-widgets/base",
      "model_module_version": "1.2.0",
      "model_name": "LayoutModel",
      "state": {
       "align_items": "stretch",
       "display": "flex",
       "flex_flow": "row",
       "grid_auto_columns": "True",
       "justify_content": "flex-start",
       "width": "80%"
      }
     },
     "cb847f6577b740d383c3dce838077c8e": {
      "model_module": "@jupyter-widgets/base",
      "model_module_version": "1.2.0",
      "model_name": "LayoutModel",
      "state": {}
     },
     "cb8af7ce364d41dc8116ef92472dbcd7": {
      "model_module": "@jupyter-widgets/output",
      "model_module_version": "1.0.0",
      "model_name": "OutputModel",
      "state": {
       "layout": "IPY_MODEL_c0d877bc34664f35bbe2af720376d827"
      }
     },
     "cbd7cc3aaa1b40279ad7ef93064f3b56": {
      "model_module": "@jupyter-widgets/controls",
      "model_module_version": "1.5.0",
      "model_name": "DescriptionStyleModel",
      "state": {
       "description_width": ""
      }
     },
     "cc70f27678134341a8806ccb7b904974": {
      "model_module": "@jupyter-widgets/base",
      "model_module_version": "1.2.0",
      "model_name": "LayoutModel",
      "state": {
       "align_items": "stretch",
       "display": "flex",
       "flex_flow": "row",
       "grid_auto_columns": "True",
       "justify_content": "flex-start",
       "width": "80%"
      }
     },
     "cd2ab85ba0ff42ce963b03950486fd48": {
      "model_module": "@jupyter-widgets/controls",
      "model_module_version": "1.5.0",
      "model_name": "HBoxModel",
      "state": {
       "children": [
        "IPY_MODEL_957fabb862024508b1bf63e1fe62e111",
        "IPY_MODEL_b96097572d2e429abfa107f9e62b14e0"
       ],
       "layout": "IPY_MODEL_4ba6410e49b243a08710b51180fcf9d0"
      }
     },
     "cebbe492c666428797f038dec27ebad2": {
      "model_module": "@jupyter-widgets/base",
      "model_module_version": "1.2.0",
      "model_name": "LayoutModel",
      "state": {}
     },
     "cf0edad94c374cd0ab1cea9566af0d4b": {
      "model_module": "@jupyter-widgets/controls",
      "model_module_version": "1.5.0",
      "model_name": "HBoxModel",
      "state": {
       "children": [
        "IPY_MODEL_5c3d489b746049c293b94f1b42aae31e",
        "IPY_MODEL_30cd6bd34a394ed5a828fe050bd8d6e4"
       ],
       "layout": "IPY_MODEL_506f2df2c13e49388e6aecf530d431e5"
      }
     },
     "cf472e8b17f74149a52e0d129f379a1c": {
      "model_module": "@jupyter-widgets/base",
      "model_module_version": "1.2.0",
      "model_name": "LayoutModel",
      "state": {}
     },
     "cf5965ae99bd448082256983c2f5cf75": {
      "model_module": "@jupyter-widgets/base",
      "model_module_version": "1.2.0",
      "model_name": "LayoutModel",
      "state": {
       "align_items": "stretch",
       "border": "dashed 0.2px green",
       "display": "flex",
       "flex_flow": "row",
       "grid_auto_columns": "True",
       "justify_content": "flex-start",
       "width": "100%"
      }
     },
     "cf9df3a039d94acbad25c31a6e90332a": {
      "model_module": "@jupyter-widgets/controls",
      "model_module_version": "1.5.0",
      "model_name": "HTMLModel",
      "state": {
       "layout": "IPY_MODEL_5a956ce302e6479ba9658b20e72f76ea",
       "style": "IPY_MODEL_e1b78aade2e747939f2c33affef83db4",
       "value": "<p>total volume of water within the closed mechanical system</p>"
      }
     },
     "cfd9cba196b24f77b7e855bb5c444f2f": {
      "model_module": "@jupyter-widgets/controls",
      "model_module_version": "1.5.0",
      "model_name": "HTMLModel",
      "state": {
       "layout": "IPY_MODEL_8f7ae21e86984b109b2c408cda348ab3",
       "style": "IPY_MODEL_6fa0666348f3423c89ca8405b1000e7d",
       "value": "<p>margin_1_bar</p>"
      }
     },
     "cfda68ad3dae4c5aadbfcac58754eb54": {
      "model_module": "@jupyter-widgets/controls",
      "model_module_version": "1.5.0",
      "model_name": "DescriptionStyleModel",
      "state": {
       "description_width": ""
      }
     },
     "d031e99eea4f4abb97351e4e00211ef3": {
      "model_module": "@jupyter-widgets/controls",
      "model_module_version": "1.5.0",
      "model_name": "HBoxModel",
      "state": {
       "children": [
        "IPY_MODEL_87afd5c51ce94650a2efbca2301ec8f4"
       ],
       "layout": "IPY_MODEL_77524d302c3a479dbb8864cfb27759b2"
      }
     },
     "d06f88fced31423cb347d62722eb7a65": {
      "model_module": "@jupyter-widgets/controls",
      "model_module_version": "1.5.0",
      "model_name": "DescriptionStyleModel",
      "state": {
       "description_width": ""
      }
     },
     "d0ff5c6e20374f19ab8b2808c6e5cff3": {
      "model_module": "@jupyter-widgets/base",
      "model_module_version": "1.2.0",
      "model_name": "LayoutModel",
      "state": {
       "height": "30px",
       "width": "auto"
      }
     },
     "d1083c0ed9834050ac93749b3a2f9447": {
      "model_module": "@jupyter-widgets/base",
      "model_module_version": "1.2.0",
      "model_name": "LayoutModel",
      "state": {}
     },
     "d1478ebf65ab452f997666fad66f679c": {
      "model_module": "@jupyter-widgets/base",
      "model_module_version": "1.2.0",
      "model_name": "LayoutModel",
      "state": {}
     },
     "d17a132de9fe4336b5d928297859fc18": {
      "model_module": "@jupyter-widgets/base",
      "model_module_version": "1.2.0",
      "model_name": "LayoutModel",
      "state": {}
     },
     "d1b0511c9a4c46e38ebd9895f3da61ef": {
      "model_module": "@jupyter-widgets/controls",
      "model_module_version": "1.5.0",
      "model_name": "HBoxModel",
      "state": {
       "children": [
        "IPY_MODEL_9034151eda8a4965ab6ecef72269a964",
        "IPY_MODEL_0191e5f7ee984e918458f522bf6e818f",
        "IPY_MODEL_6a866c486fdc4a49af010b1e518c5749",
        "IPY_MODEL_4859b7b7f18e4d37b38ae2985422296e",
        "IPY_MODEL_f66f8e3d84cb4b0da81c67657607b2d0",
        "IPY_MODEL_a1c0614cdfcc4a419746a98eb75b2a44",
        "IPY_MODEL_6cb30fb03a5b461bb06fd899680784fb"
       ],
       "layout": "IPY_MODEL_11111443a85f4a73b9c34e86769db123"
      }
     },
     "d23c9e500e5c439d8196304cd09d1cda": {
      "model_module": "@jupyter-widgets/base",
      "model_module_version": "1.2.0",
      "model_name": "LayoutModel",
      "state": {}
     },
     "d26c24c4859d40b9b6e3eaa9fddaf049": {
      "model_module": "@jupyter-widgets/base",
      "model_module_version": "1.2.0",
      "model_name": "LayoutModel",
      "state": {}
     },
     "d28d6566112844a8910a492b7225517e": {
      "model_module": "@jupyter-widgets/controls",
      "model_module_version": "1.5.0",
      "model_name": "ButtonModel",
      "state": {
       "icon": "question-circle",
       "layout": "IPY_MODEL_b1fe09d384394e9f9a725c7eafedd8ff",
       "style": "IPY_MODEL_016c9384fa3e45069e28597e67a5eba4",
       "tooltip": "describes the functionality of elements in the RunApp interface"
      }
     },
     "d29661d76a0849ae96966cd02b729596": {
      "model_module": "@jupyter-widgets/controls",
      "model_module_version": "1.5.0",
      "model_name": "HBoxModel",
      "state": {
       "children": [
        "IPY_MODEL_1748e1c687cc489ea3cb11325b85422e"
       ],
       "layout": "IPY_MODEL_ca595af73230479bad8dfc71d4030d3d"
      }
     },
     "d2cad1dc0dee4a8cb9a130e703cf61ea": {
      "model_module": "@jupyter-widgets/controls",
      "model_module_version": "1.5.0",
      "model_name": "DescriptionStyleModel",
      "state": {
       "description_width": ""
      }
     },
     "d31d5c6f514e43c791a817b3c3a5b99d": {
      "model_module": "@jupyter-widgets/output",
      "model_module_version": "1.0.0",
      "model_name": "OutputModel",
      "state": {
       "layout": "IPY_MODEL_d23c9e500e5c439d8196304cd09d1cda"
      }
     },
     "d3944bb33f6048888fbd241b4f418077": {
      "model_module": "@jupyter-widgets/controls",
      "model_module_version": "1.5.0",
      "model_name": "HBoxModel",
      "state": {
       "children": [
        "IPY_MODEL_fdd3e37ca6224507967f11ce27e0b538"
       ],
       "layout": "IPY_MODEL_40e6cbadfb864676ae7a16a57cd20d2d"
      }
     },
     "d3ac439b74754474a80459d15847ac35": {
      "model_module": "@jupyter-widgets/controls",
      "model_module_version": "1.5.0",
      "model_name": "HTMLModel",
      "state": {
       "layout": "IPY_MODEL_26ba49edc8834e5b8425770d66cad964",
       "style": "IPY_MODEL_cfda68ad3dae4c5aadbfcac58754eb54",
       "value": "<p>margin_1_bar</p>"
      }
     },
     "d3e2d15d205641ae8430ac79149696bd": {
      "model_module": "@jupyter-widgets/controls",
      "model_module_version": "1.5.0",
      "model_name": "RadioButtonsModel",
      "state": {
       "index": null,
       "layout": "IPY_MODEL_b0d8b20abe8448c4a32f1753d8ce4cd3",
       "style": "IPY_MODEL_db3bd10472014333a1bd4ba6d7d6cdc8"
      }
     },
     "d4451f11c5744eb097e400757db41633": {
      "model_module": "@jupyter-widgets/controls",
      "model_module_version": "1.5.0",
      "model_name": "ButtonStyleModel",
      "state": {
       "font_weight": "bold"
      }
     },
     "d447c58ee53a461c8581834da4c97a39": {
      "model_module": "@jupyter-widgets/controls",
      "model_module_version": "1.5.0",
      "model_name": "HBoxModel",
      "state": {
       "children": [
        "IPY_MODEL_31601c2d4a654278bdebf4a1a03afedc",
        "IPY_MODEL_63229d567ffb44b8b7d754abdb3912ef",
        "IPY_MODEL_0f2ac17859384c559366d368b661c9cc"
       ],
       "layout": "IPY_MODEL_be2b7c9859f94127a3d7a935b3e0611b"
      }
     },
     "d457a79dc66e42d3869b7d714ea99339": {
      "model_module": "@jupyter-widgets/base",
      "model_module_version": "1.2.0",
      "model_name": "LayoutModel",
      "state": {
       "align_items": "stretch",
       "width": "100%"
      }
     },
     "d4f5e4388b8e44459b1c2caf3da6e2db": {
      "model_module": "@jupyter-widgets/controls",
      "model_module_version": "1.5.0",
      "model_name": "DescriptionStyleModel",
      "state": {
       "description_width": ""
      }
     },
     "d5fd7ed09c944c6ab732c6e9a5d9b70f": {
      "model_module": "@jupyter-widgets/base",
      "model_module_version": "1.2.0",
      "model_name": "LayoutModel",
      "state": {}
     },
     "d6513f1877114ffb8781208c599153e5": {
      "model_module": "@jupyter-widgets/controls",
      "model_module_version": "1.5.0",
      "model_name": "ButtonStyleModel",
      "state": {
       "font_weight": "bold"
      }
     },
     "d69851d9945146858911b37359c12afe": {
      "model_module": "@jupyter-widgets/controls",
      "model_module_version": "1.5.0",
      "model_name": "FloatSliderModel",
      "state": {
       "layout": "IPY_MODEL_5570bdb5d92c4bda8258cacf9e0666ca",
       "max": 2,
       "step": 0.1,
       "style": "IPY_MODEL_37810bf0de2d47f5a6b24450df34ffcd",
       "value": 1
      }
     },
     "d6c073f4fb734d5daf817b1a3826b70d": {
      "model_module": "@jupyter-widgets/controls",
      "model_module_version": "1.5.0",
      "model_name": "DescriptionStyleModel",
      "state": {
       "description_width": ""
      }
     },
     "d7773e303cad4bfea0989071d6802cae": {
      "model_module": "@jupyter-widgets/controls",
      "model_module_version": "1.5.0",
      "model_name": "FloatTextModel",
      "state": {
       "layout": "IPY_MODEL_6adc38c8a6934935abec000f71db032b",
       "step": null,
       "style": "IPY_MODEL_8844b185f6e14ff9a53aa511eac396d2",
       "value": 48
      }
     },
     "d85284a1e81a4ed197a5fed4aa83980a": {
      "model_module": "@jupyter-widgets/controls",
      "model_module_version": "1.5.0",
      "model_name": "HBoxModel",
      "state": {
       "children": [
        "IPY_MODEL_e4583a695c4a42558575265d95a78b33",
        "IPY_MODEL_1d445762d29e40c38d4b3380572c36bb",
        "IPY_MODEL_0daf424bec89419e98f55a66caf7e60f"
       ],
       "layout": "IPY_MODEL_fc70883412654bd1a955c2cdd8956ab2"
      }
     },
     "d8d695309f6245e3bcd40eb176a23c35": {
      "model_module": "@jupyter-widgets/controls",
      "model_module_version": "1.5.0",
      "model_name": "HBoxModel",
      "state": {
       "children": [
        "IPY_MODEL_41ad6a28e34d40abbe4830a72fb8a169",
        "IPY_MODEL_6660fc1f28b04f608e40027a911dcfdc"
       ],
       "layout": "IPY_MODEL_e43956a95cf94072a5daca732a86016f"
      }
     },
     "d8dbe1b1d193474c9634a60a0fdac20e": {
      "model_module": "@jupyter-widgets/controls",
      "model_module_version": "1.5.0",
      "model_name": "SelectMultipleModel",
      "state": {
       "_options_labels": [
        "C:\\engDev\\git_mf\\ipyrun\\examples\\notebooks\\expansion_vessel_sizing.csv"
       ],
       "description": "outputs",
       "index": [],
       "layout": "IPY_MODEL_a67b62ec81674a44b7657452f3e6a9a2",
       "rows": 4,
       "style": "IPY_MODEL_f46bd3e1be3d48d79c53668ba3932670"
      }
     },
     "d8ee2cf6598e45e48f6741a052d9d318": {
      "model_module": "@jupyter-widgets/base",
      "model_module_version": "1.2.0",
      "model_name": "LayoutModel",
      "state": {
       "align_items": "stretch",
       "border": "dashed 0.2px green",
       "display": "flex",
       "flex_flow": "row",
       "grid_auto_columns": "True",
       "justify_content": "flex-start",
       "width": "100%"
      }
     },
     "d98a7356a8f4438baf958c349fc2081d": {
      "model_module": "@jupyter-widgets/controls",
      "model_module_version": "1.5.0",
      "model_name": "HBoxModel",
      "state": {
       "children": [
        "IPY_MODEL_60f8e8f6af9d4146bc8c110c318f913d"
       ],
       "layout": "IPY_MODEL_cf5965ae99bd448082256983c2f5cf75"
      }
     },
     "d9d199c83938449daa89b145694cf022": {
      "model_module": "@jupyter-widgets/controls",
      "model_module_version": "1.5.0",
      "model_name": "FloatTextModel",
      "state": {
       "layout": "IPY_MODEL_e0c0fc96598a4d2db83e7ef0f62762bb",
       "step": null,
       "style": "IPY_MODEL_8a0e3d81e3a64de896a435e5836e92d9",
       "value": 257
      }
     },
     "d9eccbb3140a46929efff197225cc2d2": {
      "model_module": "@jupyter-widgets/controls",
      "model_module_version": "1.5.0",
      "model_name": "AccordionModel",
      "state": {
       "_titles": {
        "0": "expansion_vessel_sizing"
       },
       "children": [
        "IPY_MODEL_6a53f90eba4847c78c50aaca45321b0f"
       ],
       "layout": "IPY_MODEL_502da2b63c274628b9f9f63ea7bfb554",
       "selected_index": null
      }
     },
     "daa4210f2980414aa660be255aa4570e": {
      "model_module": "@jupyter-widgets/controls",
      "model_module_version": "1.5.0",
      "model_name": "ButtonModel",
      "state": {
       "button_style": "warning",
       "description": "edit inputs",
       "layout": "IPY_MODEL_10242d6c08bf4ee8b3b2c3cb7422b063",
       "style": "IPY_MODEL_0ce0d04fe3414c4b867428546a81a63c",
       "tooltip": "edit the user input information that is used when the script is executed"
      }
     },
     "db3bd10472014333a1bd4ba6d7d6cdc8": {
      "model_module": "@jupyter-widgets/controls",
      "model_module_version": "1.5.0",
      "model_name": "DescriptionStyleModel",
      "state": {
       "description_width": ""
      }
     },
     "db6fe7bdd7ff4604bf7e52d44d07ce4a": {
      "model_module": "@jupyter-widgets/base",
      "model_module_version": "1.2.0",
      "model_name": "LayoutModel",
      "state": {}
     },
     "dbdfccde70c24fc7a7253d77a2c69895": {
      "model_module": "@jupyter-widgets/base",
      "model_module_version": "1.2.0",
      "model_name": "LayoutModel",
      "state": {}
     },
     "dbe6e61063104db09c7f2ae863f90c97": {
      "model_module": "@jupyter-widgets/controls",
      "model_module_version": "1.5.0",
      "model_name": "HBoxModel",
      "state": {
       "children": [
        "IPY_MODEL_f9989a8149804f999cceb6ff81e0c4c0",
        "IPY_MODEL_0ae4f952cbdf458283bffcff262e7282"
       ],
       "layout": "IPY_MODEL_9fc83c746a6d4c83b8f13186d28b1458"
      }
     },
     "dc60bc61640b4bd1aabd79f6a7a3ac57": {
      "model_module": "@jupyter-widgets/base",
      "model_module_version": "1.2.0",
      "model_name": "LayoutModel",
      "state": {
       "align_items": "stretch",
       "display": "flex",
       "flex_flow": "row",
       "grid_auto_columns": "True",
       "justify_content": "flex-end",
       "width": "90%"
      }
     },
     "dc7160f57ff84273b295823e1dc1297a": {
      "model_module": "@jupyter-widgets/controls",
      "model_module_version": "1.5.0",
      "model_name": "HTMLModel",
      "state": {
       "layout": "IPY_MODEL_5759498eaa3340f68e7a6907ebfc7752",
       "style": "IPY_MODEL_cbd7cc3aaa1b40279ad7ef93064f3b56",
       "value": "<p>total volume of water within the closed mechanical system</p>"
      }
     },
     "dd027def44e84877be74c39ba16dbaa4": {
      "model_module": "@jupyter-widgets/controls",
      "model_module_version": "1.5.0",
      "model_name": "ButtonStyleModel",
      "state": {}
     },
     "dd1d604e13234e309a8bf19ebc6e0711": {
      "model_module": "@jupyter-widgets/base",
      "model_module_version": "1.2.0",
      "model_name": "LayoutModel",
      "state": {
       "align_items": "stretch",
       "border": "dashed 0.2px green",
       "display": "flex",
       "flex_flow": "row",
       "grid_auto_columns": "True",
       "justify_content": "flex-start",
       "width": "100%"
      }
     },
     "dd74fdc7a9334a509bf1a05b8baa21fd": {
      "model_module": "@jupyter-widgets/controls",
      "model_module_version": "1.5.0",
      "model_name": "DescriptionStyleModel",
      "state": {
       "description_width": ""
      }
     },
     "dd8518d01b69493a89f3b8bcb0acf84b": {
      "model_module": "@jupyter-widgets/base",
      "model_module_version": "1.2.0",
      "model_name": "LayoutModel",
      "state": {
       "height": "30px",
       "width": "auto"
      }
     },
     "dd891c92ee884401bb4ac972eaa5c520": {
      "model_module": "@jupyter-widgets/controls",
      "model_module_version": "1.5.0",
      "model_name": "HBoxModel",
      "state": {
       "children": [
        "IPY_MODEL_795be7372f064c2393f7f14237f158d5"
       ],
       "layout": "IPY_MODEL_9f081e4d38bd49e9b64e16f9d4c490c6"
      }
     },
     "ddad6603e3ed4913a1787e98ddd9d6e6": {
      "model_module": "@jupyter-widgets/base",
      "model_module_version": "1.2.0",
      "model_name": "LayoutModel",
      "state": {
       "width": "5%"
      }
     },
     "de4d3a099b304211a95be587f4f3f052": {
      "model_module": "@jupyter-widgets/base",
      "model_module_version": "1.2.0",
      "model_name": "LayoutModel",
      "state": {}
     },
     "de5ac4a1f80e40f9b5f9713292377bb7": {
      "model_module": "@jupyter-widgets/controls",
      "model_module_version": "1.5.0",
      "model_name": "HTMLModel",
      "state": {
       "layout": "IPY_MODEL_705e916b0a1a4ebcac9a74fe7cc1bf48",
       "style": "IPY_MODEL_f332de8c3f7d44f0b8b9166383268496",
       "value": "<p>effective pipework pressure loss (Pa/m)</p>"
      }
     },
     "dea9c828afec46039698db2bb24c629c": {
      "model_module": "@jupyter-widgets/controls",
      "model_module_version": "1.5.0",
      "model_name": "DescriptionStyleModel",
      "state": {
       "description_width": ""
      }
     },
     "defb2d279f4c4f0f9693d10f551a5fcb": {
      "model_module": "@jupyter-widgets/controls",
      "model_module_version": "1.5.0",
      "model_name": "FloatTextModel",
      "state": {
       "layout": "IPY_MODEL_2344fdccf53a415fad6f376e80282fa6",
       "step": null,
       "style": "IPY_MODEL_d6c073f4fb734d5daf817b1a3826b70d",
       "value": 20
      }
     },
     "df3d9cf229524416957182be61bb4d04": {
      "model_module": "@jupyter-widgets/controls",
      "model_module_version": "1.5.0",
      "model_name": "DescriptionStyleModel",
      "state": {
       "description_width": ""
      }
     },
     "df4502528a424dab80059618c337439d": {
      "model_module": "@jupyter-widgets/base",
      "model_module_version": "1.2.0",
      "model_name": "LayoutModel",
      "state": {
       "align_items": "stretch",
       "display": "flex",
       "flex_flow": "row",
       "grid_auto_columns": "True",
       "justify_content": "flex-end",
       "width": "90%"
      }
     },
     "dfb27549411d4d5ab49acb0691b1dde0": {
      "model_module": "@jupyter-widgets/controls",
      "model_module_version": "1.5.0",
      "model_name": "DescriptionStyleModel",
      "state": {
       "description_width": ""
      }
     },
     "dfb27d8fa03f40af9d23fc3e6b970851": {
      "model_module": "@jupyter-widgets/output",
      "model_module_version": "1.0.0",
      "model_name": "OutputModel",
      "state": {
       "layout": "IPY_MODEL_5cd9488367ea48bfad011d2d7714f4f2"
      }
     },
     "e0c0fc96598a4d2db83e7ef0f62762bb": {
      "model_module": "@jupyter-widgets/base",
      "model_module_version": "1.2.0",
      "model_name": "LayoutModel",
      "state": {}
     },
     "e12b1fce3eb7464295860c1af4af238a": {
      "model_module": "@jupyter-widgets/output",
      "model_module_version": "1.0.0",
      "model_name": "OutputModel",
      "state": {
       "layout": "IPY_MODEL_5aa819f9a08e4a0aabe293dda12f3241"
      }
     },
     "e1b78aade2e747939f2c33affef83db4": {
      "model_module": "@jupyter-widgets/controls",
      "model_module_version": "1.5.0",
      "model_name": "DescriptionStyleModel",
      "state": {
       "description_width": ""
      }
     },
     "e2009d309c4d4209b55361c1273bd1b3": {
      "model_module": "@jupyter-widgets/controls",
      "model_module_version": "1.5.0",
      "model_name": "DescriptionStyleModel",
      "state": {
       "description_width": ""
      }
     },
     "e279cb3694084c79bd0ca8ecdc784f65": {
      "model_module": "@jupyter-widgets/base",
      "model_module_version": "1.2.0",
      "model_name": "LayoutModel",
      "state": {}
     },
     "e28835d267944919bc9b4a646f9d1924": {
      "model_module": "@jupyter-widgets/base",
      "model_module_version": "1.2.0",
      "model_name": "LayoutModel",
      "state": {
       "align_items": "stretch",
       "display": "flex",
       "flex_flow": "row",
       "grid_auto_columns": "True",
       "justify_content": "flex-end",
       "width": "90%"
      }
     },
     "e2fee71c91e94a46a9391ac57bf5f1fa": {
      "model_module": "@jupyter-widgets/base",
      "model_module_version": "1.2.0",
      "model_name": "LayoutModel",
      "state": {}
     },
     "e3d2f45bc2be4142b1fa9196b1922113": {
      "model_module": "@jupyter-widgets/base",
      "model_module_version": "1.2.0",
      "model_name": "LayoutModel",
      "state": {}
     },
     "e40a93b9e391473ea181a055e83c2138": {
      "model_module": "@jupyter-widgets/controls",
      "model_module_version": "1.5.0",
      "model_name": "DescriptionStyleModel",
      "state": {
       "description_width": ""
      }
     },
     "e43956a95cf94072a5daca732a86016f": {
      "model_module": "@jupyter-widgets/base",
      "model_module_version": "1.2.0",
      "model_name": "LayoutModel",
      "state": {
       "align_items": "stretch",
       "display": "flex",
       "flex_flow": "row",
       "grid_auto_columns": "True",
       "justify_content": "flex-end",
       "width": "90%"
      }
     },
     "e4583a695c4a42558575265d95a78b33": {
      "model_module": "@jupyter-widgets/controls",
      "model_module_version": "1.5.0",
      "model_name": "ToggleButtonModel",
      "state": {
       "button_style": "info",
       "description": "inputs from file",
       "layout": "IPY_MODEL_efc25f1864864629804a622f5bf59bc2",
       "style": "IPY_MODEL_288b7d4e68154d71af093d6fa2baaea5"
      }
     },
     "e4dfef262496406abcbb9737f04c434e": {
      "model_module": "@jupyter-widgets/controls",
      "model_module_version": "1.5.0",
      "model_name": "BoxModel",
      "state": {
       "children": [
        "IPY_MODEL_b056a8459def4e42a0f3eb721eb510ec"
       ],
       "layout": "IPY_MODEL_6ac0886612224daeb8ef47e524a36d59"
      }
     },
     "e51b598640bb456b9fd178d04d83faf4": {
      "model_module": "@jupyter-widgets/controls",
      "model_module_version": "1.5.0",
      "model_name": "HBoxModel",
      "state": {
       "children": [
        "IPY_MODEL_3baf9efa094a4a7aa6a27d41f93b99b3"
       ],
       "layout": "IPY_MODEL_c439ab6559ba49fc8050e4a72f0bf764"
      }
     },
     "e574fcaf0b96469b973c1d4a1c36608d": {
      "model_module": "@jupyter-widgets/controls",
      "model_module_version": "1.5.0",
      "model_name": "DescriptionStyleModel",
      "state": {
       "description_width": ""
      }
     },
     "e5e0d0db295c4373a5f52e1e399d89b8": {
      "model_module": "@jupyter-widgets/base",
      "model_module_version": "1.2.0",
      "model_name": "LayoutModel",
      "state": {}
     },
     "e613546c954e4b19babe06ab0354f517": {
      "model_module": "@jupyter-widgets/base",
      "model_module_version": "1.2.0",
      "model_name": "LayoutModel",
      "state": {}
     },
     "e65a70fc37564de2a949645cb4aef8fa": {
      "model_module": "@jupyter-widgets/controls",
      "model_module_version": "1.5.0",
      "model_name": "DescriptionStyleModel",
      "state": {
       "description_width": ""
      }
     },
     "e6a9e95cee5d4d4db85899da8562618e": {
      "model_module": "@jupyter-widgets/base",
      "model_module_version": "1.2.0",
      "model_name": "LayoutModel",
      "state": {
       "width": "5%"
      }
     },
     "e8ff44a18fbf45f4bfc30193dd12d8e1": {
      "model_module": "@jupyter-widgets/controls",
      "model_module_version": "1.5.0",
      "model_name": "HBoxModel",
      "state": {
       "children": [
        "IPY_MODEL_7d06cd508fcd4145a46a0f0ba34b1e05"
       ],
       "layout": "IPY_MODEL_36d0f71d2c094770b97aa197bb28c139"
      }
     },
     "e92851f5d3d044a486e18792a3b42fe7": {
      "model_module": "@jupyter-widgets/controls",
      "model_module_version": "1.5.0",
      "model_name": "HBoxModel",
      "state": {
       "children": [
        "IPY_MODEL_6778bd85e8bf4106802429397b3c4e3c",
        "IPY_MODEL_062fecf14ff141189bb657bfa981c9c1",
        "IPY_MODEL_4f3d5b8c6b0343c2a0e6f6e29dd3858e"
       ],
       "layout": "IPY_MODEL_2823b010c5a845c7901f1e21c3602872"
      }
     },
     "e933676e135d43c1a339b10ea9d2c38a": {
      "model_module": "@jupyter-widgets/base",
      "model_module_version": "1.2.0",
      "model_name": "LayoutModel",
      "state": {}
     },
     "e9c4faf2d4f24bea808d38a14e3e9fe6": {
      "model_module": "@jupyter-widgets/controls",
      "model_module_version": "1.5.0",
      "model_name": "ButtonModel",
      "state": {
       "description": "load",
       "icon": "upload",
       "layout": "IPY_MODEL_9807d20075934c9b95a957375705d76b",
       "style": "IPY_MODEL_70dbd1d3a30a48559ee1bc645d7d0f7c"
      }
     },
     "eaddf7884deb471caa814b501232546e": {
      "model_module": "@jupyter-widgets/controls",
      "model_module_version": "1.5.0",
      "model_name": "HTMLModel",
      "state": {
       "layout": "IPY_MODEL_4167ca93181440b5926a473f0842b37f",
       "style": "IPY_MODEL_8596b0e9c0be4332b6df75bb29d74835",
       "value": "<p>edit user input form below</p>"
      }
     },
     "eb6bae1f50c740c6943977eb0a7bd45c": {
      "model_module": "@jupyter-widgets/controls",
      "model_module_version": "1.5.0",
      "model_name": "DescriptionStyleModel",
      "state": {
       "description_width": ""
      }
     },
     "ebfaf9911417475d82c7fa1a4b9df9f0": {
      "model_module": "@jupyter-widgets/controls",
      "model_module_version": "1.5.0",
      "model_name": "HBoxModel",
      "state": {
       "children": [
        "IPY_MODEL_9c23542f9a0444e0804bacd8b612a26e"
       ],
       "layout": "IPY_MODEL_dd1d604e13234e309a8bf19ebc6e0711"
      }
     },
     "ecf90f16f71f45de890c0dc337a609fe": {
      "model_module": "@jupyter-widgets/controls",
      "model_module_version": "1.5.0",
      "model_name": "ButtonStyleModel",
      "state": {
       "font_weight": "bold"
      }
     },
     "ed07f16af1ef4d7dafac5da8345a7d24": {
      "model_module": "@jupyter-widgets/controls",
      "model_module_version": "1.5.0",
      "model_name": "SelectMultipleModel",
      "state": {
       "_options_labels": [
        "C:\\engDev\\git_mf\\ipyrun\\examples\\notebooks\\expansion_vessel_sizing.csv"
       ],
       "description": "outputs",
       "index": [],
       "layout": "IPY_MODEL_a3c619af70d441bc99252b5f67795604",
       "rows": 4,
       "style": "IPY_MODEL_fc45d5875a9f4cc683c9e958f3d99d63"
      }
     },
     "ed1205b1fe2d42258c3d1e2e716fdee8": {
      "model_module": "@jupyter-widgets/controls",
      "model_module_version": "1.5.0",
      "model_name": "HBoxModel",
      "state": {
       "children": [
        "IPY_MODEL_0d883c6189bb442f93fca8e7a46812d6",
        "IPY_MODEL_13f24ab5b11c444eb4347383092ca8fe"
       ],
       "layout": "IPY_MODEL_3cef690415d64e818d322a0335d0cd4c"
      }
     },
     "edbe82ca19b14f70add2e6f925429688": {
      "model_module": "@jupyter-widgets/base",
      "model_module_version": "1.2.0",
      "model_name": "LayoutModel",
      "state": {}
     },
     "eddfe8848b4e4604abd334f2d3a4007a": {
      "model_module": "@jupyter-widgets/base",
      "model_module_version": "1.2.0",
      "model_name": "LayoutModel",
      "state": {}
     },
     "ede17382c9ae464f85a45bfc0b4f9873": {
      "model_module": "@jupyter-widgets/controls",
      "model_module_version": "1.5.0",
      "model_name": "ButtonStyleModel",
      "state": {
       "font_weight": "bold"
      }
     },
     "ee677072ae384e6893059fcf4aa94069": {
      "model_module": "@jupyter-widgets/controls",
      "model_module_version": "1.5.0",
      "model_name": "ToggleButtonModel",
      "state": {
       "button_style": "info",
       "description": "inputs from file",
       "layout": "IPY_MODEL_3ca136fd16cc4d59b81f89b71055ef94",
       "style": "IPY_MODEL_56a02dd9869d4827a8a990f987ebc4ec"
      }
     },
     "ee711e1a238243ac9e22684782216250": {
      "model_module": "@jupyter-widgets/base",
      "model_module_version": "1.2.0",
      "model_name": "LayoutModel",
      "state": {}
     },
     "ee7d3f3b19034b728826048ccc05cca7": {
      "model_module": "@jupyter-widgets/base",
      "model_module_version": "1.2.0",
      "model_name": "LayoutModel",
      "state": {
       "height": "30px",
       "max_width": "30px",
       "padding": "3px"
      }
     },
     "efa695ac52604995b2c58d722367e613": {
      "model_module": "@jupyter-widgets/controls",
      "model_module_version": "1.5.0",
      "model_name": "DescriptionStyleModel",
      "state": {
       "description_width": ""
      }
     },
     "efb062f2b618463a945374f3f7a19881": {
      "model_module": "@jupyter-widgets/controls",
      "model_module_version": "1.5.0",
      "model_name": "HTMLModel",
      "state": {
       "layout": "IPY_MODEL_03ec9a5e49124cf7be7e13ea504905d2",
       "style": "IPY_MODEL_33badd1b53854216a2b513ff28624175",
       "value": "<p>eV_acceptance_fraction</p>"
      }
     },
     "efc25f1864864629804a622f5bf59bc2": {
      "model_module": "@jupyter-widgets/base",
      "model_module_version": "1.2.0",
      "model_name": "LayoutModel",
      "state": {}
     },
     "f0a254ca9ee8421a85a329da1a04b3bb": {
      "model_module": "@jupyter-widgets/controls",
      "model_module_version": "1.5.0",
      "model_name": "VBoxModel",
      "state": {
       "children": [
        "IPY_MODEL_fd023cf0138840cf8ce12dcb2fed1c71",
        "IPY_MODEL_03f5c8b749e8476cb0d276b8ad83ac6a"
       ],
       "layout": "IPY_MODEL_55275519b6ca426ebaebbaedcae33ebc"
      }
     },
     "f0be99bdb2544d04ae1bc6cb9f79a88c": {
      "model_module": "@jupyter-widgets/controls",
      "model_module_version": "1.5.0",
      "model_name": "HBoxModel",
      "state": {
       "children": [
        "IPY_MODEL_428c1ceb65c54254b989e12763e302db",
        "IPY_MODEL_2dae6a0ae2a24f0fb22994ae21552f87",
        "IPY_MODEL_bca5c16a50a745a99b5ef1f4e7ef474e",
        "IPY_MODEL_daa4210f2980414aa660be255aa4570e",
        "IPY_MODEL_5b757a25a9a947b99bfa52ee8f01fff5",
        "IPY_MODEL_323e50806eb34b0a9991bca07a64b86a",
        "IPY_MODEL_0333ed9600b04a09aef4a7d5779d0025"
       ],
       "layout": "IPY_MODEL_d457a79dc66e42d3869b7d714ea99339"
      }
     },
     "f1ff3d0521c7467498a9acad064326f5": {
      "model_module": "@jupyter-widgets/base",
      "model_module_version": "1.2.0",
      "model_name": "LayoutModel",
      "state": {}
     },
     "f332de8c3f7d44f0b8b9166383268496": {
      "model_module": "@jupyter-widgets/controls",
      "model_module_version": "1.5.0",
      "model_name": "DescriptionStyleModel",
      "state": {
       "description_width": ""
      }
     },
     "f3867fd760394a98860357350d003922": {
      "model_module": "@jupyter-widgets/controls",
      "model_module_version": "1.5.0",
      "model_name": "HTMLModel",
      "state": {
       "layout": "IPY_MODEL_1a795a19df3f424c802719943bb67481",
       "style": "IPY_MODEL_9a4199991a6443b58941bab0de40376a",
       "value": "<p>pipework_pressure_loss_margin_fraction</p>"
      }
     },
     "f43f7353c68a4fa991db4a715524fdc2": {
      "model_module": "@jupyter-widgets/controls",
      "model_module_version": "1.5.0",
      "model_name": "ButtonStyleModel",
      "state": {
       "font_weight": "bold"
      }
     },
     "f45f038f31a54b12af0ef36ee86aec46": {
      "model_module": "@jupyter-widgets/controls",
      "model_module_version": "1.5.0",
      "model_name": "ButtonModel",
      "state": {
       "button_style": "info",
       "description": "preview outputs",
       "layout": "IPY_MODEL_343db25ca2554fa59871210a7e805f47",
       "style": "IPY_MODEL_ecf90f16f71f45de890c0dc337a609fe",
       "tooltip": "show a preview of the output files generated when the script runs"
      }
     },
     "f46bd3e1be3d48d79c53668ba3932670": {
      "model_module": "@jupyter-widgets/controls",
      "model_module_version": "1.5.0",
      "model_name": "DescriptionStyleModel",
      "state": {
       "description_width": ""
      }
     },
     "f55b0e0ca1e34089814d28c9edc0febf": {
      "model_module": "@jupyter-widgets/controls",
      "model_module_version": "1.5.0",
      "model_name": "ButtonModel",
      "state": {
       "button_style": "success",
       "description": "run",
       "layout": "IPY_MODEL_807c7950ca0d49c0aa764a33b07c8ea7",
       "style": "IPY_MODEL_f43f7353c68a4fa991db4a715524fdc2",
       "tooltip": "execute the script based on the user inputs"
      }
     },
     "f5e890045cd742e4b5db9d73e22a5b27": {
      "model_module": "@jupyter-widgets/base",
      "model_module_version": "1.2.0",
      "model_name": "LayoutModel",
      "state": {}
     },
     "f621093c5416417b96bf1643c1751ab0": {
      "model_module": "@jupyter-widgets/base",
      "model_module_version": "1.2.0",
      "model_name": "LayoutModel",
      "state": {
       "align_items": "stretch",
       "display": "flex",
       "flex_flow": "row",
       "grid_auto_columns": "True",
       "justify_content": "flex-end",
       "width": "90%"
      }
     },
     "f66f8e3d84cb4b0da81c67657607b2d0": {
      "model_module": "@jupyter-widgets/controls",
      "model_module_version": "1.5.0",
      "model_name": "ButtonModel",
      "state": {
       "button_style": "success",
       "description": "run",
       "layout": "IPY_MODEL_5a2a5129d57547f3af4993f76f39567d",
       "style": "IPY_MODEL_a7db39ff872c43d59ca82f305b8773b9",
       "tooltip": "execute the script based on the user inputs"
      }
     },
     "f7f4b37b91d84d6cb120e48d1654186e": {
      "model_module": "@jupyter-widgets/base",
      "model_module_version": "1.2.0",
      "model_name": "LayoutModel",
      "state": {
       "align_items": "stretch",
       "display": "flex",
       "flex_flow": "row",
       "grid_auto_columns": "True",
       "justify_content": "flex-end",
       "width": "90%"
      }
     },
     "f8009ed5d25f49aba5ddff0a89ea0a94": {
      "model_module": "@jupyter-widgets/base",
      "model_module_version": "1.2.0",
      "model_name": "LayoutModel",
      "state": {}
     },
     "f8142797dc8445beb8114657b10f1742": {
      "model_module": "@jupyter-widgets/base",
      "model_module_version": "1.2.0",
      "model_name": "LayoutModel",
      "state": {}
     },
     "f84018d5db404bbab2bd837e620bfdec": {
      "model_module": "@jupyter-widgets/controls",
      "model_module_version": "1.5.0",
      "model_name": "HTMLModel",
      "state": {
       "layout": "IPY_MODEL_411d2e9b60074f4098962b6da75e99b2",
       "style": "IPY_MODEL_89cceee5de1c44cca16b9012122670b9",
       "value": "<p>pipework_pressure_loss_pa_per_m</p>"
      }
     },
     "f86df009d2524a4598eeece496c9ef5f": {
      "model_module": "@jupyter-widgets/output",
      "model_module_version": "1.0.0",
      "model_name": "OutputModel",
      "state": {
       "layout": "IPY_MODEL_c64637cb627f4bbfa1a531617031b4e2"
      }
     },
     "f876cb9d9af24c8bb2fd3180e3608558": {
      "model_module": "@jupyter-widgets/controls",
      "model_module_version": "1.5.0",
      "model_name": "HBoxModel",
      "state": {
       "children": [
        "IPY_MODEL_61440aedc3f84e27ac37b70d89d20d62",
        "IPY_MODEL_1449155f0ebc44aba8676b980c60ad5b"
       ],
       "layout": "IPY_MODEL_186be5147fb0422b8396bf332414d988"
      }
     },
     "f8d531c516ba4513941ac5d170a8a526": {
      "model_module": "@jupyter-widgets/controls",
      "model_module_version": "1.5.0",
      "model_name": "ButtonStyleModel",
      "state": {
       "font_weight": "bold"
      }
     },
     "f8e057238566418295c9a0fb8a287503": {
      "model_module": "@jupyter-widgets/base",
      "model_module_version": "1.2.0",
      "model_name": "LayoutModel",
      "state": {
       "align_items": "stretch",
       "display": "flex",
       "flex_flow": "row",
       "grid_auto_columns": "True",
       "justify_content": "flex-start",
       "width": "80%"
      }
     },
     "f9989a8149804f999cceb6ff81e0c4c0": {
      "model_module": "@jupyter-widgets/controls",
      "model_module_version": "1.5.0",
      "model_name": "FloatSliderModel",
      "state": {
       "layout": "IPY_MODEL_dbdfccde70c24fc7a7253d77a2c69895",
       "max": 1,
       "step": 0.1,
       "style": "IPY_MODEL_99601edd314640d19c8b3ccbb89a9a23",
       "value": 0.3
      }
     },
     "f9cb5a9a16d74f6d8c8be3439c2a34a6": {
      "model_module": "@jupyter-widgets/controls",
      "model_module_version": "1.5.0",
      "model_name": "DescriptionStyleModel",
      "state": {
       "description_width": ""
      }
     },
     "fa06fda861704a7ab3e7f1b1273c6932": {
      "model_module": "@jupyter-widgets/controls",
      "model_module_version": "1.5.0",
      "model_name": "HTMLModel",
      "state": {
       "layout": "IPY_MODEL_03c9c5ab1d5c41e885d67671266b9b4e",
       "style": "IPY_MODEL_e574fcaf0b96469b973c1d4a1c36608d",
       "value": "<p>eV_acceptance_fraction</p>"
      }
     },
     "fac832e4dd284d468d4476e137f0359b": {
      "model_module": "@jupyter-widgets/controls",
      "model_module_version": "1.5.0",
      "model_name": "DescriptionStyleModel",
      "state": {
       "description_width": ""
      }
     },
     "faf79b096a11431995610daca8dfc0cc": {
      "model_module": "@jupyter-widgets/controls",
      "model_module_version": "1.5.0",
      "model_name": "HBoxModel",
      "state": {
       "children": [
        "IPY_MODEL_b9e36729351f40b5b4beb89dc7b480e9",
        "IPY_MODEL_9bbfd90a012c4c9aaaf16b9ab538d615"
       ],
       "layout": "IPY_MODEL_7d465a46ea39415580162090cf6c76af"
      }
     },
     "fb0504748da64f13bbeda6c8c7c30f16": {
      "model_module": "@jupyter-widgets/controls",
      "model_module_version": "1.5.0",
      "model_name": "ButtonStyleModel",
      "state": {
       "font_weight": "bold"
      }
     },
     "fb69520de7364e1b99e370edfc677a59": {
      "model_module": "@jupyter-widgets/controls",
      "model_module_version": "1.5.0",
      "model_name": "HBoxModel",
      "state": {
       "children": [
        "IPY_MODEL_82a93d21f55f4f309def637ddac3f8a7"
       ],
       "layout": "IPY_MODEL_c802f4ecb1184ac4b9e43c81479927fc"
      }
     },
     "fbaae0c416f244dfb797d721b5990335": {
      "model_module": "@jupyter-widgets/base",
      "model_module_version": "1.2.0",
      "model_name": "LayoutModel",
      "state": {}
     },
     "fbd59e9c4cd34217baacd64fafde5aa7": {
      "model_module": "@jupyter-widgets/base",
      "model_module_version": "1.2.0",
      "model_name": "LayoutModel",
      "state": {
       "align_items": "stretch",
       "display": "flex",
       "flex_flow": "row",
       "grid_auto_columns": "True",
       "justify_content": "flex-end",
       "width": "90%"
      }
     },
     "fc45d5875a9f4cc683c9e958f3d99d63": {
      "model_module": "@jupyter-widgets/controls",
      "model_module_version": "1.5.0",
      "model_name": "DescriptionStyleModel",
      "state": {
       "description_width": ""
      }
     },
     "fc70883412654bd1a955c2cdd8956ab2": {
      "model_module": "@jupyter-widgets/base",
      "model_module_version": "1.2.0",
      "model_name": "LayoutModel",
      "state": {}
     },
     "fca9afa55823464c8e7d60cf02b7220b": {
      "model_module": "@jupyter-widgets/base",
      "model_module_version": "1.2.0",
      "model_name": "LayoutModel",
      "state": {}
     },
     "fcc41acfe9094f75802b36b5429998ef": {
      "model_module": "@jupyter-widgets/controls",
      "model_module_version": "1.5.0",
      "model_name": "VBoxModel",
      "state": {
       "children": [
        "IPY_MODEL_d85284a1e81a4ed197a5fed4aa83980a",
        "IPY_MODEL_5fcada082cca4e559ca0dcc9e620914b",
        "IPY_MODEL_9d687ef61b8f4cd29c0bf53e07fe9225"
       ],
       "layout": "IPY_MODEL_43b00c97c2264fee9ef73abf76c9d6af"
      }
     },
     "fd023cf0138840cf8ce12dcb2fed1c71": {
      "model_module": "@jupyter-widgets/controls",
      "model_module_version": "1.5.0",
      "model_name": "ButtonModel",
      "state": {
       "description": "load",
       "icon": "upload",
       "layout": "IPY_MODEL_8449e8f5cdf44f93881454502f1b6656",
       "style": "IPY_MODEL_6787e88bf66247f88d34605f78ca5999"
      }
     },
     "fd43ec1298c24a08bbeb73de9da78acc": {
      "model_module": "@jupyter-widgets/controls",
      "model_module_version": "1.5.0",
      "model_name": "AccordionModel",
      "state": {
       "_titles": {
        "0": "expansion_vessel_sizing_1"
       },
       "children": [
        "IPY_MODEL_862c5afa87574bf48f2e916aa5d160bf"
       ],
       "layout": "IPY_MODEL_b7d23321daa34881a568e4a2b6549598",
       "selected_index": null
      }
     },
     "fd6a243e0e6c47de81e4e7c5aa512ac1": {
      "model_module": "@jupyter-widgets/controls",
      "model_module_version": "1.5.0",
      "model_name": "HBoxModel",
      "state": {
       "children": [
        "IPY_MODEL_ad8e7ce18a124c0685cef39003d7cd78",
        "IPY_MODEL_0e5e26980d7b461f903e16cc4fd9bdce"
       ],
       "layout": "IPY_MODEL_0e0c21a1a68c494c93ddd20ab1cea879"
      }
     },
     "fdc9ba2497e440b4b0f8ecbbfdf9de25": {
      "model_module": "@jupyter-widgets/controls",
      "model_module_version": "1.5.0",
      "model_name": "DescriptionStyleModel",
      "state": {
       "description_width": ""
      }
     },
     "fdd3e37ca6224507967f11ce27e0b538": {
      "model_module": "@jupyter-widgets/controls",
      "model_module_version": "1.5.0",
      "model_name": "HBoxModel",
      "state": {
       "children": [
        "IPY_MODEL_bd9ac13145df461c9a961a1815e132f5",
        "IPY_MODEL_1cf8c1564e4c450e8eb56bf588990168"
       ],
       "layout": "IPY_MODEL_7b4c402ed3624495a6dfc8bc3c203120"
      }
     },
     "fea3a7bd64364b68bce028f429250d6a": {
      "model_module": "@jupyter-widgets/controls",
      "model_module_version": "1.5.0",
      "model_name": "ButtonModel",
      "state": {
       "button_style": "info",
       "description": "show guide",
       "layout": "IPY_MODEL_0a3f3f41baf44be18fa2ea1fcbb41372",
       "style": "IPY_MODEL_3514ab15614f44afba899298cfaacd7f",
       "tooltip": "read the \"docstring\", ie. the documentation that was written to accompany the script"
      }
     },
     "ff0731b4edb748babb30b14852a795ce": {
      "model_module": "@jupyter-widgets/base",
      "model_module_version": "1.2.0",
      "model_name": "LayoutModel",
      "state": {}
     },
     "ff7f33f8dd0f484fbd117c3b9bc2cc77": {
      "model_module": "@jupyter-widgets/base",
      "model_module_version": "1.2.0",
      "model_name": "LayoutModel",
      "state": {}
     },
     "ffbc92333fc74eee8405c696c1a616ee": {
      "model_module": "@jupyter-widgets/controls",
      "model_module_version": "1.5.0",
      "model_name": "HTMLModel",
      "state": {
       "layout": "IPY_MODEL_7f5080c50cb14c7a92c1df2434607ef0",
       "style": "IPY_MODEL_1955d3aa918e4d41878a0f58036b6164",
       "value": "<p>Heating system pipework length (m). Note: includes horizontal, vertical, flow and return.</p>"
      }
     }
    },
    "version_major": 2,
    "version_minor": 0
   }
  }
 },
 "nbformat": 4,
 "nbformat_minor": 4
}
