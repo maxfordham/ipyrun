{
    "cells": [
        {
            "cell_type": "code",
            "execution_count": 1,
            "metadata": {},
            "outputs": [],
            "source": [
                "import os\n",
                "NBFDIR = os.path.dirname(os.path.realpath('__file__'))\n",
                "import pandas as pd\n",
                "from ipyrun.ipyrun import RunApp, RunApps\n",
                "from pprint import pprint"
            ]
        },
        {
            "cell_type": "markdown",
            "metadata": {},
            "source": [
                "# Creating a Batch Process"
            ]
        },
        {
            "cell_type": "markdown",
            "metadata": {},
            "source": [
                "In the last example we made a RunApp widget. Here we will create a batch of Widgets that can be run together."
            ]
        },
        {
            "cell_type": "markdown",
            "metadata": {},
            "source": [
                "## the previous example of 1 script:"
            ]
        },
        {
            "cell_type": "code",
            "execution_count": 2,
            "metadata": {},
            "outputs": [
                {
                    "data": {
                        "application/vnd.jupyter.widget-view+json": {
                            "model_id": "296c885f2f7741c2ba9514d47d2b1ef8",
                            "version_major": 2,
                            "version_minor": 0
                        },
                        "text/plain": [
                            "HBox(children=(Checkbox(value=False, indent=False, layout=Layout(height='30px', max_width='30px', padding='3px…"
                        ]
                    },
                    "metadata": {},
                    "output_type": "display_data"
                },
                {
                    "data": {
                        "application/vnd.jupyter.widget-view+json": {
                            "model_id": "dfb27d8fa03f40af9d23fc3e6b970851",
                            "version_major": 2,
                            "version_minor": 0
                        },
                        "text/plain": [
                            "Output()"
                        ]
                    },
                    "metadata": {},
                    "output_type": "display_data"
                }
            ],
            "source": [
                "\n",
                "fpth_script = r'..\\scripts\\expansion_vessel_sizing.py'\n",
                "config={\n",
                "    'fpth_script':os.path.realpath(fpth_script),\n",
                "    'fdir':NBFDIR,\n",
                "    }  \n",
                "r = RunApp(config)\n",
                "r "
            ]
        },
        {
            "cell_type": "markdown",
            "metadata": {},
            "source": [
                "## creating a batch\n",
                "\n",
                "to create a batch you simply create a list of config dicts.  \n",
                "recall the configuration that is set up when the RunApp is initiated:\n"
            ]
        },
        {
            "cell_type": "code",
            "execution_count": 3,
            "metadata": {},
            "outputs": [
                {
                    "name": "stdout",
                    "output_type": "stream",
                    "text": [
                        "{'fdir': 'C:\\\\engDev\\\\git_mf\\\\ipyrun\\\\examples\\\\notebooks',\n",
                        " 'fdir_config': 'C:\\\\engDev\\\\git_mf\\\\ipyrun\\\\examples\\\\notebooks\\\\appdata\\\\config',\n",
                        " 'fdir_inputs': 'C:\\\\engDev\\\\git_mf\\\\ipyrun\\\\examples\\\\notebooks\\\\appdata\\\\inputs',\n",
                        " 'fdir_inputs_archive': 'C:\\\\engDev\\\\git_mf\\\\ipyrun\\\\examples\\\\notebooks\\\\appdata\\\\inputs\\\\archive',\n",
                        " 'fdir_log': 'C:\\\\engDev\\\\git_mf\\\\ipyrun\\\\examples\\\\notebooks\\\\appdata\\\\log',\n",
                        " 'fdir_outputs': ['C:\\\\engDev\\\\git_mf\\\\ipyrun\\\\examples\\\\notebooks'],\n",
                        " 'fnm_config': 'config-expansion_vessel_sizing.json',\n",
                        " 'fnm_log': 'log-expansion_vessel_sizing.csv',\n",
                        " 'fpth_config': 'C:\\\\engDev\\\\git_mf\\\\ipyrun\\\\examples\\\\notebooks\\\\appdata\\\\config\\\\config-expansion_vessel_sizing.json',\n",
                        " 'fpth_inputs': 'C:\\\\engDev\\\\git_mf\\\\ipyrun\\\\examples\\\\notebooks\\\\appdata\\\\inputs\\\\inputs-expansion_vessel_sizing.json',\n",
                        " 'fpth_inputs_options': {'project': {'fdir': 'C:\\\\engDev\\\\git_mf\\\\ipyrun\\\\examples\\\\notebooks\\\\appdata\\\\inputs',\n",
                        "                                     'fpths': ['C:\\\\engDev\\\\git_mf\\\\ipyrun\\\\examples\\\\notebooks\\\\appdata\\\\inputs\\\\inputs-expansion_vessel_sizing.json',\n",
                        "                                               'C:\\\\engDev\\\\git_mf\\\\ipyrun\\\\examples\\\\notebooks\\\\appdata\\\\inputs\\\\archive\\\\20200612_1731-jg-inputs-expansion_vessel_sizing.json',\n",
                        "                                               'C:\\\\engDev\\\\git_mf\\\\ipyrun\\\\examples\\\\notebooks\\\\appdata\\\\inputs\\\\archive\\\\20200612_1817-jg-inputs-expansion_vessel_sizing.json',\n",
                        "                                               'C:\\\\engDev\\\\git_mf\\\\ipyrun\\\\examples\\\\notebooks\\\\appdata\\\\inputs\\\\archive\\\\20200612_1818-jg-inputs-expansion_vessel_sizing.json',\n",
                        "                                               'C:\\\\engDev\\\\git_mf\\\\ipyrun\\\\examples\\\\notebooks\\\\appdata\\\\inputs\\\\archive\\\\20200612_1819-jg-inputs-expansion_vessel_sizing.json',\n",
                        "                                               'C:\\\\engDev\\\\git_mf\\\\ipyrun\\\\examples\\\\notebooks\\\\appdata\\\\inputs\\\\archive\\\\20200612_1900-jg-inputs-expansion_vessel_sizing.json',\n",
                        "                                               'C:\\\\engDev\\\\git_mf\\\\ipyrun\\\\examples\\\\notebooks\\\\appdata\\\\inputs\\\\archive\\\\20200615_2211-jg-inputs-expansion_vessel_sizing.json',\n",
                        "                                               'C:\\\\engDev\\\\git_mf\\\\ipyrun\\\\examples\\\\notebooks\\\\appdata\\\\inputs\\\\archive\\\\20200616_1020-jg-inputs-expansion_vessel_sizing.json',\n",
                        "                                               'C:\\\\engDev\\\\git_mf\\\\ipyrun\\\\examples\\\\notebooks\\\\appdata\\\\inputs\\\\archive\\\\20200616_1021-jg-inputs-expansion_vessel_sizing.json',\n",
                        "                                               'C:\\\\engDev\\\\git_mf\\\\ipyrun\\\\examples\\\\notebooks\\\\appdata\\\\inputs\\\\archive\\\\20200624_1101-jg-inputs-expansion_vessel_sizing.json']},\n",
                        "                         'template': {'fdir': 'C:\\\\engDev\\\\git_mf\\\\ipyrun\\\\examples\\\\scripts\\\\template_inputs',\n",
                        "                                      'fpths': ['C:\\\\engDev\\\\git_mf\\\\ipyrun\\\\examples\\\\scripts\\\\template_inputs\\\\inputs-expansion_vessel_sizing.json']}},\n",
                        " 'fpth_log': 'C:\\\\engDev\\\\git_mf\\\\ipyrun\\\\examples\\\\notebooks\\\\appdata\\\\log\\\\log-expansion_vessel_sizing.csv',\n",
                        " 'fpth_script': 'C:\\\\engDev\\\\git_mf\\\\ipyrun\\\\examples\\\\scripts\\\\expansion_vessel_sizing.py',\n",
                        " 'fpths_outputs': {'0': 'C:\\\\engDev\\\\git_mf\\\\ipyrun\\\\examples\\\\notebooks\\\\expansion_vessel_sizing.csv'},\n",
                        " 'jobno': 'C:\\\\e',\n",
                        " 'long_name': 'expansion_vessel_sizing',\n",
                        " 'name': 'expansion_vessel_sizing',\n",
                        " 'script_outputs': {'0': {'description': 'a simple calc for sizing expansion '\n",
                        "                                         'vessels. could be expanded to size '\n",
                        "                                         'many vessels.',\n",
                        "                          'fdir': '.',\n",
                        "                          'fnm': 'expansion_vessel_sizing.csv'}}}\n"
                    ]
                }
            ],
            "source": [
                "pprint(r.config)"
            ]
        },
        {
            "cell_type": "markdown",
            "metadata": {},
            "source": [
                "the \"name\" variable by default is simply the filename of the script. this means that if we are creating a batch that uses the same script with different inputs, we need to manually assign different name's:"
            ]
        },
        {
            "cell_type": "code",
            "execution_count": 4,
            "metadata": {},
            "outputs": [],
            "source": [
                "config={\n",
                "    'fpth_script':os.path.realpath(fpth_script),\n",
                "    'fdir':NBFDIR,\n",
                "    }  \n",
                "iters = 3\n",
                "batch = []\n",
                "for n in range(0,iters):\n",
                "    tmp = config.copy()\n",
                "    tmp.update({'name':os.path.splitext(os.path.basename(config['fpth_script']))[0] + '_' + str(n)})\n",
                "    batch.append(tmp)"
            ]
        },
        {
            "cell_type": "code",
            "execution_count": 5,
            "metadata": {},
            "outputs": [
                {
                    "data": {
                        "application/vnd.jupyter.widget-view+json": {
                            "model_id": "51adea456d514aae9323697e0bf6e86f",
                            "version_major": 2,
                            "version_minor": 0
                        },
                        "text/plain": [
                            "HBox(children=(Button(icon='eye-slash', layout=Layout(width='5%'), style=ButtonStyle(font_weight='bold'), tool…"
                        ]
                    },
                    "metadata": {},
                    "output_type": "display_data"
                },
                {
                    "data": {
                        "application/vnd.jupyter.widget-view+json": {
                            "model_id": "d31d5c6f514e43c791a817b3c3a5b99d",
                            "version_major": 2,
                            "version_minor": 0
                        },
                        "text/plain": [
                            "Output()"
                        ]
                    },
                    "metadata": {},
                    "output_type": "display_data"
                },
                {
                    "data": {
                        "application/vnd.jupyter.widget-view+json": {
                            "model_id": "708ee1dcf92f4ad0988008dc6b1db370",
                            "version_major": 2,
                            "version_minor": 0
                        },
                        "text/plain": [
                            "HBox(children=(Checkbox(value=False, indent=False, layout=Layout(height='30px', max_width='30px', padding='3px…"
                        ]
                    },
                    "metadata": {},
                    "output_type": "display_data"
                },
                {
                    "data": {
                        "application/vnd.jupyter.widget-view+json": {
                            "model_id": "21a95172916848c4b9e966eb899aa230",
                            "version_major": 2,
                            "version_minor": 0
                        },
                        "text/plain": [
                            "Output()"
                        ]
                    },
                    "metadata": {},
                    "output_type": "display_data"
                },
                {
                    "data": {
                        "application/vnd.jupyter.widget-view+json": {
                            "model_id": "267ee3ed5382434db0801d063e1ad72d",
                            "version_major": 2,
                            "version_minor": 0
                        },
                        "text/plain": [
                            "HBox(children=(Checkbox(value=False, indent=False, layout=Layout(height='30px', max_width='30px', padding='3px…"
                        ]
                    },
                    "metadata": {},
                    "output_type": "display_data"
                },
                {
                    "data": {
                        "application/vnd.jupyter.widget-view+json": {
                            "model_id": "10d9e634dcf74cd0b28de1b61ac0feb1",
                            "version_major": 2,
                            "version_minor": 0
                        },
                        "text/plain": [
                            "Output()"
                        ]
                    },
                    "metadata": {},
                    "output_type": "display_data"
                },
                {
                    "data": {
                        "application/vnd.jupyter.widget-view+json": {
                            "model_id": "5f2cc8a7a44c47f8a45c414ee8368e95",
                            "version_major": 2,
                            "version_minor": 0
                        },
                        "text/plain": [
                            "HBox(children=(Checkbox(value=False, indent=False, layout=Layout(height='30px', max_width='30px', padding='3px…"
                        ]
                    },
                    "metadata": {},
                    "output_type": "display_data"
                },
                {
                    "data": {
                        "application/vnd.jupyter.widget-view+json": {
                            "model_id": "7b1bcca7b4a049a996b9accc082acedc",
                            "version_major": 2,
                            "version_minor": 0
                        },
                        "text/plain": [
                            "Output()"
                        ]
                    },
                    "metadata": {},
                    "output_type": "display_data"
                }
            ],
            "source": [
                "RunApps(batch)"
            ]
        },
        {
            "cell_type": "markdown",
            "metadata": {},
            "source": [
                "__note__ if all the scripts are different the additional step of manually assigning the process names is not required. we should also probably "
            ]
        },
        {
            "cell_type": "code",
            "execution_count": 7,
            "metadata": {},
            "outputs": [
                {
                    "data": {
                        "application/vnd.jupyter.widget-view+json": {
                            "model_id": "2e65076a0d6b4e01947d1fb1498e09db",
                            "version_major": 2,
                            "version_minor": 0
                        },
                        "text/plain": [
                            "VBox(children=(HBox(children=(ToggleButton(value=False, button_style='info', description='inputs from file'), …"
                        ]
                    },
                    "metadata": {},
                    "output_type": "display_data"
                },
                {
                    "data": {
                        "application/vnd.jupyter.widget-view+json": {
                            "model_id": "43925a23214d4b399f79ee9b2f0b9780",
                            "version_major": 2,
                            "version_minor": 0
                        },
                        "text/plain": [
                            "VBox(children=(HBox(children=(HBox(children=(HTML(value='<p>water_volume_m3</p>'), HBox(children=(FloatText(va…"
                        ]
                    },
                    "metadata": {},
                    "output_type": "display_data"
                },
                {
                    "data": {
                        "application/vnd.jupyter.widget-view+json": {
                            "model_id": "512fea44b062412cb05013095cab9c62",
                            "version_major": 2,
                            "version_minor": 0
                        },
                        "text/plain": [
                            "Output()"
                        ]
                    },
                    "metadata": {},
                    "output_type": "display_data"
                }
            ],
            "source": [
                "config={\n",
                "    'fpth_script':os.path.realpath(fpth_script),\n",
                "    'fdir':NBFDIR,\n",
                "    } \n",
                "from ipyrun._ipyeditjson import EditJson\n",
                "\n",
                "EditJson(config)"
            ]
        }
    ],
    "metadata": {
        "kernelspec": {
            "display_name": "Python [conda env:mf_main] *",
            "language": "python",
            "name": "conda-env-mf_main-py"
        },
        "language_info": {
            "codemirror_mode": {
                "name": "ipython",
                "version": 3
            },
            "file_extension": ".py",
            "mimetype": "text/x-python",
            "name": "python",
            "nbconvert_exporter": "python",
            "pygments_lexer": "ipython3",
            "version": "3.7.7"
        },
        "widgets": {
            "application/vnd.jupyter.widget-state+json": {
                "state": {},
                "version_major": 2,
                "version_minor": 0
            }
        }
    },
    "nbformat": 4,
    "nbformat_minor": 4
}