{
 "cells": [
  {
   "cell_type": "code",
   "execution_count": 2,
   "metadata": {},
   "outputs": [
    {
     "data": {
      "application/vnd.jupyter.widget-view+json": {
       "model_id": "ad26d3ac3dd94e3dadd55780aee948a1",
       "version_major": 2,
       "version_minor": 0
      },
      "text/plain": [
       "HBox(children=(Checkbox(value=False, indent=False, layout=Layout(height='30px', max_width='30px', padding='3px…"
      ]
     },
     "metadata": {},
     "output_type": "display_data"
    },
    {
     "data": {
      "application/vnd.jupyter.widget-view+json": {
       "model_id": "20c233014f964af181ca83611017ee25",
       "version_major": 2,
       "version_minor": 0
      },
      "text/plain": [
       "Output()"
      ]
     },
     "metadata": {},
     "output_type": "display_data"
    }
   ],
   "source": [
    "import os\n",
    "from ipyrun.ipyrun import RunApp\n",
    "NBFDIR = os.path.dirname(os.path.realpath('__file__'))\n",
    "\n",
    "fpth_script = os.path.join(os.environ['mf_root'],r'MF_Toolbox\\dev\\mf_scripts\\gbxml.py')\n",
    "config={\n",
    "    'fpth_script':os.path.realpath(fpth_script),\n",
    "    'fdir':NBFDIR,\n",
    "    }  \n",
    "r = RunApp(config)\n",
    "r "
   ]
  }
 ],
 "metadata": {
  "kernelspec": {
   "display_name": "Python [conda env:mf_main] *",
   "language": "python",
   "name": "conda-env-mf_main-py"
  },
  "language_info": {
   "codemirror_mode": {
    "name": "ipython",
    "version": 3
   },
   "file_extension": ".py",
   "mimetype": "text/x-python",
   "name": "python",
   "nbconvert_exporter": "python",
   "pygments_lexer": "ipython3",
   "version": "3.7.7"
  },
  "widgets": {
   "application/vnd.jupyter.widget-state+json": {
    "state": {
     "0018cdf919384849a7c04372b95b5275": {
      "model_module": "@jupyter-widgets/output",
      "model_module_version": "1.0.0",
      "model_name": "OutputModel",
      "state": {
       "layout": "IPY_MODEL_857481f938124bb0b8b210b42f1f87a2"
      }
     },
     "0076dbfa8c354ac0830a3fe8c1340d73": {
      "model_module": "@jupyter-widgets/base",
      "model_module_version": "1.2.0",
      "model_name": "LayoutModel",
      "state": {}
     },
     "00be06e7db1740758f3fb9d15cc1b75e": {
      "model_module": "@jupyter-widgets/base",
      "model_module_version": "1.2.0",
      "model_name": "LayoutModel",
      "state": {}
     },
     "0136ce859b62461d9af6b5b37e2d5c60": {
      "model_module": "@jupyter-widgets/base",
      "model_module_version": "1.2.0",
      "model_name": "LayoutModel",
      "state": {}
     },
     "01d6c4cbbd4a4a52869394eaf553312b": {
      "model_module": "@jupyter-widgets/base",
      "model_module_version": "1.2.0",
      "model_name": "LayoutModel",
      "state": {}
     },
     "01fc8ab3bc2146e1a23ddcb0785c673e": {
      "model_module": "@jupyter-widgets/controls",
      "model_module_version": "1.5.0",
      "model_name": "HTMLModel",
      "state": {
       "layout": "IPY_MODEL_6b6a163be82343708765daa7cba94e0f",
       "style": "IPY_MODEL_cb1b61971af544d1acdb4b4290241a99",
       "value": "<p>1st section of space name code</p>"
      }
     },
     "0205426f44324839867c3eb126559475": {
      "model_module": "@jupyter-widgets/base",
      "model_module_version": "1.2.0",
      "model_name": "LayoutModel",
      "state": {
       "display": "flex",
       "flex_flow": "row",
       "grid_auto_columns": "False",
       "justify_content": "flex-start",
       "width": "100%"
      }
     },
     "02a7e4d31582477aaa9dddafb99cbdfe": {
      "model_module": "@jupyter-widgets/controls",
      "model_module_version": "1.5.0",
      "model_name": "TextModel",
      "state": {
       "layout": "IPY_MODEL_845cf4dd4f094aa8b3ddf20080e3562b",
       "style": "IPY_MODEL_6e3a29212dda47818f2543719425a25d",
       "value": "BlockCode"
      }
     },
     "02bdf0ca894c4aca948ac115704e9843": {
      "model_module": "@jupyter-widgets/controls",
      "model_module_version": "1.5.0",
      "model_name": "HTMLModel",
      "state": {
       "layout": "IPY_MODEL_f41f66dac84e4b64b6c073dfb246bd24",
       "style": "IPY_MODEL_8bf3dc1de54d47ff83fd363673a414b4",
       "value": "<p>2nd section of space name code</p>"
      }
     },
     "0359d336476f4f8990b7249fd1ea23f1": {
      "model_module": "@jupyter-widgets/output",
      "model_module_version": "1.0.0",
      "model_name": "OutputModel",
      "state": {
       "layout": "IPY_MODEL_5b786f7a623b4cedb10b8fabc440e949"
      }
     },
     "0380dc5eaf8441a282ea177c331b4e7f": {
      "model_module": "@jupyter-widgets/base",
      "model_module_version": "1.2.0",
      "model_name": "LayoutModel",
      "state": {
       "align_items": "stretch",
       "display": "flex",
       "flex_flow": "row",
       "grid_auto_columns": "True",
       "justify_content": "flex-end",
       "width": "90%"
      }
     },
     "0419eccbea5e4bc59afb54653d7a1841": {
      "model_module": "@jupyter-widgets/controls",
      "model_module_version": "1.5.0",
      "model_name": "TextModel",
      "state": {
       "description": "inputs",
       "disabled": true,
       "layout": "IPY_MODEL_5f070b61e029472b819e1224495b4831",
       "style": "IPY_MODEL_07edcb5fb96d4c70a8ffeca0aeb5e155",
       "value": "C:\\engDev\\git_mf\\ipyrun\\examples\\notebooks\\appdata\\inputs\\inputs-gbxml.json"
      }
     },
     "042ff4a8996541a0aafdbe97c91684d4": {
      "model_module": "@jupyter-widgets/base",
      "model_module_version": "1.2.0",
      "model_name": "LayoutModel",
      "state": {}
     },
     "0457e488aceb42c2b289665694408ed2": {
      "model_module": "@jupyter-widgets/controls",
      "model_module_version": "1.5.0",
      "model_name": "HTMLModel",
      "state": {
       "layout": "IPY_MODEL_eb81a79f31d94bb487db51cbc9143823",
       "style": "IPY_MODEL_632ca43054234d6da183212ef36b2af8",
       "value": "<p>2</p>"
      }
     },
     "049fa3dbd93a4190acba9270b0bc4310": {
      "model_module": "@jupyter-widgets/base",
      "model_module_version": "1.2.0",
      "model_name": "LayoutModel",
      "state": {
       "align_items": "stretch",
       "display": "flex",
       "flex_flow": "row",
       "grid_auto_columns": "True",
       "justify_content": "flex-start",
       "width": "80%"
      }
     },
     "0537da2a1f3b41e78980bc36ced17262": {
      "model_module": "@jupyter-widgets/controls",
      "model_module_version": "1.5.0",
      "model_name": "ButtonStyleModel",
      "state": {
       "font_weight": "bold"
      }
     },
     "05f91c766ebc45c0adf1a538e68c4337": {
      "model_module": "@jupyter-widgets/base",
      "model_module_version": "1.2.0",
      "model_name": "LayoutModel",
      "state": {}
     },
     "0604e372f89f443cb0417f6bd0700d3a": {
      "model_module": "@jupyter-widgets/controls",
      "model_module_version": "1.5.0",
      "model_name": "ToggleButtonModel",
      "state": {
       "button_style": "success",
       "description": "display/hide files",
       "layout": "IPY_MODEL_17132995f00244d2bd66d619bce76f9d",
       "style": "IPY_MODEL_e2eff89804f1464ebc90d3a88f62f1ce",
       "tooltip": "shows and hides display outputs of the files selected in the SelectMultiple dropdown menu"
      }
     },
     "0691aa88dd2c4fb99b134f5e0770d6c9": {
      "model_module": "@jupyter-widgets/base",
      "model_module_version": "1.2.0",
      "model_name": "LayoutModel",
      "state": {}
     },
     "06c3ebdb01814ae9bcca18bf482630d4": {
      "model_module": "@jupyter-widgets/output",
      "model_module_version": "1.0.0",
      "model_name": "OutputModel",
      "state": {
       "layout": "IPY_MODEL_c5c35c59e06b4d20a23163fc28cb7339"
      }
     },
     "06f3bfda7a4e4e7fad7eb44bdb407d76": {
      "model_module": "@jupyter-widgets/base",
      "model_module_version": "1.2.0",
      "model_name": "LayoutModel",
      "state": {}
     },
     "06fb8c75abb24c5ca88feaadad868408": {
      "model_module": "@jupyter-widgets/controls",
      "model_module_version": "1.5.0",
      "model_name": "DescriptionStyleModel",
      "state": {
       "description_width": ""
      }
     },
     "07308b406f244e35860adefc5adecd8d": {
      "model_module": "@jupyter-widgets/base",
      "model_module_version": "1.2.0",
      "model_name": "LayoutModel",
      "state": {}
     },
     "079cb510b0ec4e7d88b1e837cb96e56c": {
      "model_module": "@jupyter-widgets/controls",
      "model_module_version": "1.5.0",
      "model_name": "TextModel",
      "state": {
       "layout": "IPY_MODEL_c8415af030a94d7db8a9835ead8f1d25",
       "style": "IPY_MODEL_bd5b8d679f2b4e108e8e50436870d317",
       "value": "TM46Category"
      }
     },
     "07d4aab23e504f17a5c3bc9ec63ccef9": {
      "model_module": "@jupyter-widgets/controls",
      "model_module_version": "1.5.0",
      "model_name": "HBoxModel",
      "state": {
       "children": [
        "IPY_MODEL_da5f3de277714149a203af7601fa8dd6",
        "IPY_MODEL_d8718b71f301462ea92dc35bf8dea54f"
       ],
       "layout": "IPY_MODEL_939418d1c3de4951ace393d8d456981f"
      }
     },
     "07edcb5fb96d4c70a8ffeca0aeb5e155": {
      "model_module": "@jupyter-widgets/controls",
      "model_module_version": "1.5.0",
      "model_name": "DescriptionStyleModel",
      "state": {
       "description_width": ""
      }
     },
     "082e7af2755c4107ae557a0f9f4a7e70": {
      "model_module": "@jupyter-widgets/base",
      "model_module_version": "1.2.0",
      "model_name": "LayoutModel",
      "state": {}
     },
     "0874f96702954c18aab2a011e17f97e6": {
      "model_module": "@jupyter-widgets/base",
      "model_module_version": "1.2.0",
      "model_name": "LayoutModel",
      "state": {}
     },
     "09185cf09d4c45c79d1c3e95b1a88c3b": {
      "model_module": "@jupyter-widgets/controls",
      "model_module_version": "1.5.0",
      "model_name": "DescriptionStyleModel",
      "state": {
       "description_width": ""
      }
     },
     "094731e855e84554971e8790f82e26ec": {
      "model_module": "@jupyter-widgets/base",
      "model_module_version": "1.2.0",
      "model_name": "LayoutModel",
      "state": {}
     },
     "097a80e3dc364fe88dabb3cbd8f4b637": {
      "model_module": "@jupyter-widgets/controls",
      "model_module_version": "1.5.0",
      "model_name": "HTMLModel",
      "state": {
       "layout": "IPY_MODEL_9fa5b30d494c41b0bae8144fe421e413",
       "style": "IPY_MODEL_decff15e25df44c58613207a4fc842b1",
       "value": "<p>4</p>"
      }
     },
     "0980fadf0cab4318ab78c5d19ae1cd73": {
      "model_module": "@jupyter-widgets/controls",
      "model_module_version": "1.5.0",
      "model_name": "DescriptionStyleModel",
      "state": {
       "description_width": ""
      }
     },
     "0a5cbfa1a06a40ebbacc9484a95d98e5": {
      "model_module": "@jupyter-widgets/controls",
      "model_module_version": "1.5.0",
      "model_name": "DescriptionStyleModel",
      "state": {
       "description_width": ""
      }
     },
     "0b8e9e00dc1a466998457f7923458c00": {
      "model_module": "@jupyter-widgets/base",
      "model_module_version": "1.2.0",
      "model_name": "LayoutModel",
      "state": {}
     },
     "0b98e5132c5048cab7373daeef81b763": {
      "model_module": "@jupyter-widgets/base",
      "model_module_version": "1.2.0",
      "model_name": "LayoutModel",
      "state": {
       "height": "30px",
       "width": "auto"
      }
     },
     "0ba4336e71c949aca7ce8a075763edf6": {
      "model_module": "@jupyter-widgets/output",
      "model_module_version": "1.0.0",
      "model_name": "OutputModel",
      "state": {
       "layout": "IPY_MODEL_5a4de49d523748239d2f405253496a42"
      }
     },
     "0c906a36b1754a14a6d27eb6636cc3f3": {
      "model_module": "@jupyter-widgets/base",
      "model_module_version": "1.2.0",
      "model_name": "LayoutModel",
      "state": {
       "align_items": "stretch",
       "display": "flex",
       "flex_flow": "row",
       "grid_auto_columns": "True",
       "justify_content": "flex-start",
       "width": "80%"
      }
     },
     "0d45cd63c8774e21a25de90abd14dabe": {
      "model_module": "@jupyter-widgets/controls",
      "model_module_version": "1.5.0",
      "model_name": "DescriptionStyleModel",
      "state": {
       "description_width": ""
      }
     },
     "0ec86a97fd344f1eb17d364e12dad07d": {
      "model_module": "@jupyter-widgets/controls",
      "model_module_version": "1.5.0",
      "model_name": "DescriptionStyleModel",
      "state": {
       "description_width": ""
      }
     },
     "0ef4c35d73144c73897e1abcb163ab2f": {
      "model_module": "@jupyter-widgets/base",
      "model_module_version": "1.2.0",
      "model_name": "LayoutModel",
      "state": {
       "align_items": "stretch",
       "display": "flex",
       "flex_flow": "row",
       "grid_auto_columns": "True",
       "justify_content": "flex-end",
       "width": "90%"
      }
     },
     "0f0e3db0103943e1a2c55544c632b6e9": {
      "model_module": "@jupyter-widgets/base",
      "model_module_version": "1.2.0",
      "model_name": "LayoutModel",
      "state": {}
     },
     "0f1fe0b2d6684393822496bbfaa0f190": {
      "model_module": "@jupyter-widgets/base",
      "model_module_version": "1.2.0",
      "model_name": "LayoutModel",
      "state": {}
     },
     "0f20c55ea6094fb983fd6a63f1b23880": {
      "model_module": "@jupyter-widgets/base",
      "model_module_version": "1.2.0",
      "model_name": "LayoutModel",
      "state": {
       "height": "30px",
       "max_width": "30px",
       "padding": "3px"
      }
     },
     "0f48b0726ea84f5383a3c7acdcad95d1": {
      "model_module": "@jupyter-widgets/controls",
      "model_module_version": "1.5.0",
      "model_name": "DescriptionStyleModel",
      "state": {
       "description_width": ""
      }
     },
     "0f86cccc6c9f47a5ad0b6821553b7320": {
      "model_module": "@jupyter-widgets/base",
      "model_module_version": "1.2.0",
      "model_name": "LayoutModel",
      "state": {}
     },
     "0f971a7f4c9146e193d6658e2efa9609": {
      "model_module": "@jupyter-widgets/base",
      "model_module_version": "1.2.0",
      "model_name": "LayoutModel",
      "state": {
       "align_items": "stretch",
       "width": "100%"
      }
     },
     "0ff7436e09f040baa8012440a25df6ba": {
      "model_module": "@jupyter-widgets/base",
      "model_module_version": "1.2.0",
      "model_name": "LayoutModel",
      "state": {
       "align_items": "stretch",
       "border": "dashed 0.2px green",
       "display": "flex",
       "flex_flow": "row",
       "grid_auto_columns": "True",
       "justify_content": "flex-start",
       "width": "100%"
      }
     },
     "10050a7aa02045a9b42586a974ff2cfe": {
      "model_module": "@jupyter-widgets/controls",
      "model_module_version": "1.5.0",
      "model_name": "DescriptionStyleModel",
      "state": {
       "description_width": ""
      }
     },
     "110e843c4e2042d19dd314133827bcaf": {
      "model_module": "@jupyter-widgets/base",
      "model_module_version": "1.2.0",
      "model_name": "LayoutModel",
      "state": {
       "width": "100%"
      }
     },
     "112a7332ba3643198bee3d8cd0c33ef2": {
      "model_module": "@jupyter-widgets/controls",
      "model_module_version": "1.5.0",
      "model_name": "ButtonModel",
      "state": {
       "button_style": "info",
       "description": "show log",
       "layout": "IPY_MODEL_55de2bed73c74589b2e2910fa5335de2",
       "style": "IPY_MODEL_0537da2a1f3b41e78980bc36ced17262",
       "tooltip": "show a log of when the script was executed to generate the outputs, and by who"
      }
     },
     "11704dbf94a74ad485cdd3f7630f667d": {
      "model_module": "@jupyter-widgets/controls",
      "model_module_version": "1.5.0",
      "model_name": "HBoxModel",
      "state": {
       "children": [
        "IPY_MODEL_8caeee5d06db4585aaaf46e5775fcfec",
        "IPY_MODEL_d91150e88318448ea558f9af1624a374"
       ],
       "layout": "IPY_MODEL_9d677e3ef82844dd8814704645f382f0"
      }
     },
     "117e806a6ad140c782077683f6b9aa41": {
      "model_module": "@jupyter-widgets/controls",
      "model_module_version": "1.5.0",
      "model_name": "HTMLModel",
      "state": {
       "layout": "IPY_MODEL_68959c7d3acb40baaca322b226e8c062",
       "style": "IPY_MODEL_565fcebd162f4533bf1548f544372981",
       "value": "<p>4th section of space name code (enter None if 4th section doesn't exist)</p>"
      }
     },
     "1217c4a8cf67405ca7797570fbb11470": {
      "model_module": "@jupyter-widgets/base",
      "model_module_version": "1.2.0",
      "model_name": "LayoutModel",
      "state": {
       "align_items": "stretch",
       "border": "dashed 0.2px green",
       "display": "flex",
       "flex_flow": "row",
       "grid_auto_columns": "True",
       "justify_content": "flex-start",
       "width": "100%"
      }
     },
     "127b7be5ebbf4c6a957a0544910c839f": {
      "model_module": "@jupyter-widgets/controls",
      "model_module_version": "1.5.0",
      "model_name": "HBoxModel",
      "state": {
       "children": [
        "IPY_MODEL_1498140c708a4b0bae267fa9a5230ddf",
        "IPY_MODEL_a8aab953df274c0c875fe80a11fc60e0"
       ],
       "layout": "IPY_MODEL_12ec388a3165421eaa059e6e83bc706f"
      }
     },
     "12c5ef6429d34cb4b0ef866083197807": {
      "model_module": "@jupyter-widgets/base",
      "model_module_version": "1.2.0",
      "model_name": "LayoutModel",
      "state": {}
     },
     "12ec388a3165421eaa059e6e83bc706f": {
      "model_module": "@jupyter-widgets/base",
      "model_module_version": "1.2.0",
      "model_name": "LayoutModel",
      "state": {
       "align_items": "stretch",
       "display": "flex",
       "flex_flow": "row",
       "grid_auto_columns": "True",
       "justify_content": "flex-start",
       "width": "80%"
      }
     },
     "1338b9f401ec479ba7e6e1eb994902fc": {
      "model_module": "@jupyter-widgets/base",
      "model_module_version": "1.2.0",
      "model_name": "LayoutModel",
      "state": {}
     },
     "13401a31b5fd462a85d6300319f0bbd5": {
      "model_module": "@jupyter-widgets/controls",
      "model_module_version": "1.5.0",
      "model_name": "DescriptionStyleModel",
      "state": {
       "description_width": ""
      }
     },
     "136e54ce5c244bcaaee69c27402a00b9": {
      "model_module": "@jupyter-widgets/controls",
      "model_module_version": "1.5.0",
      "model_name": "HBoxModel",
      "state": {
       "children": [
        "IPY_MODEL_b07665cbead34450a9ee1ae7ce815c14",
        "IPY_MODEL_345e3bef767843ed9671e674b27566b3"
       ],
       "layout": "IPY_MODEL_80cdba3573b647698c66ee53b06819f9"
      }
     },
     "1498140c708a4b0bae267fa9a5230ddf": {
      "model_module": "@jupyter-widgets/controls",
      "model_module_version": "1.5.0",
      "model_name": "TextModel",
      "state": {
       "layout": "IPY_MODEL_5158d95cc5104d47a8cb0a3ad8231d6e",
       "style": "IPY_MODEL_fb1be47ecd8d4dba90519ca0723c19da",
       "value": "C:\\engDev\\git_mf\\MF_Toolbox\\dev\\examples\\gbxml\\105_LiveseyExchange_heatpump-normal-fabric.xml"
      }
     },
     "155c7874ccdc49999d5b65e806a69cfa": {
      "model_module": "@jupyter-widgets/controls",
      "model_module_version": "1.5.0",
      "model_name": "ButtonModel",
      "state": {
       "button_style": "success",
       "description": "run",
       "layout": "IPY_MODEL_ec0862c6e57a4f719ca5a25f35fbf2f7",
       "style": "IPY_MODEL_9ac6db12844546b2892c8b772cf1fb15",
       "tooltip": "execute the script based on the user inputs"
      }
     },
     "156e0d26038a43a5a94ce29133f39c9c": {
      "model_module": "@jupyter-widgets/controls",
      "model_module_version": "1.5.0",
      "model_name": "HBoxModel",
      "state": {
       "children": [
        "IPY_MODEL_1b8aeff92874469c9eaf2e6a8c6dc6f0"
       ],
       "layout": "IPY_MODEL_99e655ea06384f76b2a874d1f2279d5b"
      }
     },
     "1571949e1e7c4ac7a62e6e384af089c8": {
      "model_module": "@jupyter-widgets/controls",
      "model_module_version": "1.5.0",
      "model_name": "HTMLModel",
      "state": {
       "layout": "IPY_MODEL_ef743dd3db3f4d948a27040be4eee977",
       "style": "IPY_MODEL_b30cd9ef1cc74eafade9b0a68719b2da",
       "value": "<p>1</p>"
      }
     },
     "15d65a5290654d97b20f2fda458be26e": {
      "model_module": "@jupyter-widgets/controls",
      "model_module_version": "1.5.0",
      "model_name": "ButtonModel",
      "state": {
       "button_style": "info",
       "description": "show guide",
       "layout": "IPY_MODEL_cc18bdb7513f4b77afaed82d63db1164",
       "style": "IPY_MODEL_c63014ebca1049eda7dbc84f9be16d3c",
       "tooltip": "read the \"docstring\", ie. the documentation that was written to accompany the script"
      }
     },
     "1629373c43944e05bcf4c8b2cd4bbcfb": {
      "model_module": "@jupyter-widgets/controls",
      "model_module_version": "1.5.0",
      "model_name": "HTMLModel",
      "state": {
       "layout": "IPY_MODEL_553bd2ade12f4797af5e25a8fc54a54b",
       "style": "IPY_MODEL_0980fadf0cab4318ab78c5d19ae1cd73",
       "value": "<p>2nd section of space name code</p>"
      }
     },
     "17132995f00244d2bd66d619bce76f9d": {
      "model_module": "@jupyter-widgets/base",
      "model_module_version": "1.2.0",
      "model_name": "LayoutModel",
      "state": {}
     },
     "1814c892cdf14b9baf97223ff55144e7": {
      "model_module": "@jupyter-widgets/controls",
      "model_module_version": "1.5.0",
      "model_name": "DescriptionStyleModel",
      "state": {
       "description_width": ""
      }
     },
     "18319f0fefb34205b8dd52edef5fc55b": {
      "model_module": "@jupyter-widgets/base",
      "model_module_version": "1.2.0",
      "model_name": "LayoutModel",
      "state": {}
     },
     "185d7f62081c45b99391bbd224615e7f": {
      "model_module": "@jupyter-widgets/controls",
      "model_module_version": "1.5.0",
      "model_name": "HBoxModel",
      "state": {
       "children": [
        "IPY_MODEL_35d5e2495365421193be683cbbc82994",
        "IPY_MODEL_2374a8622b4b4fedadd3788e3cbe1f77"
       ],
       "layout": "IPY_MODEL_f1320f389199400cb7e2b214d72e7223"
      }
     },
     "1881fcd7eb504f52b50cd44e154dc1f2": {
      "model_module": "@jupyter-widgets/controls",
      "model_module_version": "1.5.0",
      "model_name": "HBoxModel",
      "state": {
       "children": [
        "IPY_MODEL_d22544fb2b2e4c46b7ad2bf06f1b30ea",
        "IPY_MODEL_02bdf0ca894c4aca948ac115704e9843"
       ],
       "layout": "IPY_MODEL_a6e55a4447104920b7f900fcd23d9c6f"
      }
     },
     "18f7c7ef2d174184b955ee443371ca58": {
      "model_module": "@jupyter-widgets/controls",
      "model_module_version": "1.5.0",
      "model_name": "ButtonStyleModel",
      "state": {
       "font_weight": "bold"
      }
     },
     "190cbaa410d6431abd781121b4b224c1": {
      "model_module": "@jupyter-widgets/controls",
      "model_module_version": "1.5.0",
      "model_name": "HTMLModel",
      "state": {
       "layout": "IPY_MODEL_8f495e06313f4b859d5626e3500cb2b5",
       "style": "IPY_MODEL_6de502f6b6a14d548f7fbf91fa0b7126",
       "value": "<p>3</p>"
      }
     },
     "19745ed95df341d081860a02e2606a52": {
      "model_module": "@jupyter-widgets/controls",
      "model_module_version": "1.5.0",
      "model_name": "DescriptionStyleModel",
      "state": {
       "description_width": ""
      }
     },
     "1999a96ee7374727ac34d82b531b00e0": {
      "model_module": "@jupyter-widgets/controls",
      "model_module_version": "1.5.0",
      "model_name": "VBoxModel",
      "state": {
       "children": [
        "IPY_MODEL_6a3be84f13534a8e94e48845065bed0f",
        "IPY_MODEL_156e0d26038a43a5a94ce29133f39c9c",
        "IPY_MODEL_7deb04c015454ae9ae37249c2a6f41fd",
        "IPY_MODEL_2c4c0b0ce0a84a8e8b2e0e9b8167ef02",
        "IPY_MODEL_771a84ef2a794367aea2f580fc44b39e"
       ],
       "layout": "IPY_MODEL_b044f11304394d83b2d4fe63f1127169"
      }
     },
     "1a241da2a6f140849006f5ef3f36d2fa": {
      "model_module": "@jupyter-widgets/base",
      "model_module_version": "1.2.0",
      "model_name": "LayoutModel",
      "state": {}
     },
     "1a55055524314f9081f8478fd9aca9b0": {
      "model_module": "@jupyter-widgets/controls",
      "model_module_version": "1.5.0",
      "model_name": "HTMLModel",
      "state": {
       "layout": "IPY_MODEL_cea4a82e5a3d4554ae592ca163e985b0",
       "style": "IPY_MODEL_5dcdcc7a876249d3ab883c6be8fb8713",
       "value": "<p>3rd section of space name code (enter None if 3rd section doesn't exist)</p>"
      }
     },
     "1aa9e17aa1274231b0612c6efff6af3e": {
      "model_module": "@jupyter-widgets/controls",
      "model_module_version": "1.5.0",
      "model_name": "HBoxModel",
      "state": {
       "children": [
        "IPY_MODEL_1571949e1e7c4ac7a62e6e384af089c8",
        "IPY_MODEL_ffbd977e739f4af6bf0d3115c91d058b"
       ],
       "layout": "IPY_MODEL_f36d320d1add4a4fa13648fa347783ef"
      }
     },
     "1abd555d13f447a48542b9face00a174": {
      "model_module": "@jupyter-widgets/base",
      "model_module_version": "1.2.0",
      "model_name": "LayoutModel",
      "state": {}
     },
     "1ae1a35d6e66450faecf2190f574e5fd": {
      "model_module": "@jupyter-widgets/controls",
      "model_module_version": "1.5.0",
      "model_name": "DescriptionStyleModel",
      "state": {
       "description_width": ""
      }
     },
     "1af0618faf534e66be2f978e726114c4": {
      "model_module": "@jupyter-widgets/controls",
      "model_module_version": "1.5.0",
      "model_name": "HTMLModel",
      "state": {
       "layout": "IPY_MODEL_da7cd96367ca47c7a2bc46e6f0a8d472",
       "style": "IPY_MODEL_a3eaeb1fdf6247e4ae8074f02c51439e",
       "value": "<p>0</p>"
      }
     },
     "1b417c14ca7e4c4ebe2312535eac55f6": {
      "model_module": "@jupyter-widgets/controls",
      "model_module_version": "1.5.0",
      "model_name": "HBoxModel",
      "state": {
       "children": [
        "IPY_MODEL_be732aa2c65b4d06824c7c984b0aec3a"
       ],
       "layout": "IPY_MODEL_3c5e6b876cff43de8ea26b64b9684826"
      }
     },
     "1b8aeff92874469c9eaf2e6a8c6dc6f0": {
      "model_module": "@jupyter-widgets/controls",
      "model_module_version": "1.5.0",
      "model_name": "HBoxModel",
      "state": {
       "children": [
        "IPY_MODEL_9eda64d669e5414c89df9c1b1b2246cd",
        "IPY_MODEL_5e4117bd371d4e7595f25204f233599e"
       ],
       "layout": "IPY_MODEL_2f2f7630c20345468b4fe94980976978"
      }
     },
     "1c0bf9edbafd412b8b8dd9a22e8e871b": {
      "model_module": "@jupyter-widgets/controls",
      "model_module_version": "1.5.0",
      "model_name": "HBoxModel",
      "state": {
       "children": [
        "IPY_MODEL_397d59d8892c4706ab8db843a039288c"
       ],
       "layout": "IPY_MODEL_ba89d7547ea24c62977fa6be9e1bf26d"
      }
     },
     "1c1750f75ff5420ca764c95be4e16018": {
      "model_module": "@jupyter-widgets/base",
      "model_module_version": "1.2.0",
      "model_name": "LayoutModel",
      "state": {
       "align_items": "stretch",
       "display": "flex",
       "flex_flow": "row",
       "grid_auto_columns": "True",
       "justify_content": "flex-start",
       "width": "80%"
      }
     },
     "1c589a6774e440ac97281ddab260f202": {
      "model_module": "@jupyter-widgets/base",
      "model_module_version": "1.2.0",
      "model_name": "LayoutModel",
      "state": {}
     },
     "1c66f808401e426683dc9655b9ec66c1": {
      "model_module": "@jupyter-widgets/base",
      "model_module_version": "1.2.0",
      "model_name": "LayoutModel",
      "state": {}
     },
     "1c7f7002ad7d4d36a9cac2d907ff2d14": {
      "model_module": "@jupyter-widgets/controls",
      "model_module_version": "1.5.0",
      "model_name": "TextModel",
      "state": {
       "layout": "IPY_MODEL_d8df5cb8348d4d10a1a96922c990de94",
       "style": "IPY_MODEL_f6a18b2618ed477ba20ed419edcf54d3",
       "value": "Level"
      }
     },
     "1cf3be2287db4eec82e2c727bcdad53d": {
      "model_module": "@jupyter-widgets/base",
      "model_module_version": "1.2.0",
      "model_name": "LayoutModel",
      "state": {}
     },
     "1daeed6581d64a79a3abb87d4eaedd0a": {
      "model_module": "@jupyter-widgets/controls",
      "model_module_version": "1.5.0",
      "model_name": "HBoxModel",
      "state": {
       "children": [
        "IPY_MODEL_a3fb748115ee42a4a7b12038d5fc38ff",
        "IPY_MODEL_a51c780c5dc643248d307e72b219de8f"
       ],
       "layout": "IPY_MODEL_54e4747dcf9846118612e2bc46214609"
      }
     },
     "1dc26c8054fc47e4be8f849689c40d70": {
      "model_module": "@jupyter-widgets/base",
      "model_module_version": "1.2.0",
      "model_name": "LayoutModel",
      "state": {
       "align_items": "stretch",
       "border": "dashed 0.2px green",
       "display": "flex",
       "flex_flow": "row",
       "grid_auto_columns": "True",
       "justify_content": "flex-start",
       "width": "100%"
      }
     },
     "205f9ea42d434c13a166007b517a261e": {
      "model_module": "@jupyter-widgets/base",
      "model_module_version": "1.2.0",
      "model_name": "LayoutModel",
      "state": {
       "display": "flex",
       "flex_flow": "row",
       "grid_auto_columns": "False",
       "justify_content": "flex-start",
       "width": "100%"
      }
     },
     "20751a0b3abf4867974d6cd93459a36e": {
      "model_module": "@jupyter-widgets/controls",
      "model_module_version": "1.5.0",
      "model_name": "HBoxModel",
      "state": {
       "children": [
        "IPY_MODEL_3f056b0e7e784367884a6987b7798d62",
        "IPY_MODEL_5822331acaa64b5fb03cd444aced3eb7"
       ],
       "layout": "IPY_MODEL_83cd8b68a8bd41fbbebf330c8ab030f4"
      }
     },
     "20c233014f964af181ca83611017ee25": {
      "model_module": "@jupyter-widgets/output",
      "model_module_version": "1.0.0",
      "model_name": "OutputModel",
      "state": {
       "layout": "IPY_MODEL_1c66f808401e426683dc9655b9ec66c1"
      }
     },
     "20c9fd5ab1a1465393f0596edcddee2b": {
      "model_module": "@jupyter-widgets/base",
      "model_module_version": "1.2.0",
      "model_name": "LayoutModel",
      "state": {
       "align_items": "stretch",
       "border": "dashed 0.2px green",
       "display": "flex",
       "flex_flow": "row",
       "grid_auto_columns": "True",
       "justify_content": "flex-start",
       "width": "100%"
      }
     },
     "20eb4b525f164a52b337b72431e18bee": {
      "model_module": "@jupyter-widgets/base",
      "model_module_version": "1.2.0",
      "model_name": "LayoutModel",
      "state": {
       "align_items": "stretch",
       "display": "flex",
       "flex_flow": "row",
       "grid_auto_columns": "True",
       "justify_content": "flex-end",
       "width": "90%"
      }
     },
     "20ed9cfcf435404e9d719e1af446f75d": {
      "model_module": "@jupyter-widgets/base",
      "model_module_version": "1.2.0",
      "model_name": "LayoutModel",
      "state": {}
     },
     "217aaed5626d40b59eb24d8eb185efa9": {
      "model_module": "@jupyter-widgets/base",
      "model_module_version": "1.2.0",
      "model_name": "LayoutModel",
      "state": {
       "align_items": "stretch",
       "display": "flex",
       "flex_flow": "row",
       "grid_auto_columns": "True",
       "justify_content": "flex-start",
       "width": "80%"
      }
     },
     "2190ade145a94d509ccf5bc3fc1da51f": {
      "model_module": "@jupyter-widgets/base",
      "model_module_version": "1.2.0",
      "model_name": "LayoutModel",
      "state": {
       "align_items": "stretch",
       "display": "flex",
       "flex_flow": "row",
       "grid_auto_columns": "True",
       "justify_content": "flex-start",
       "width": "80%"
      }
     },
     "2204eea1a80a45788d1320400e9d0706": {
      "model_module": "@jupyter-widgets/base",
      "model_module_version": "1.2.0",
      "model_name": "LayoutModel",
      "state": {}
     },
     "22356d984f82420d95ffc7359f03b3a6": {
      "model_module": "@jupyter-widgets/base",
      "model_module_version": "1.2.0",
      "model_name": "LayoutModel",
      "state": {}
     },
     "22f2bce040ce4ed4b0c29d30cf4cd153": {
      "model_module": "@jupyter-widgets/controls",
      "model_module_version": "1.5.0",
      "model_name": "ToggleButtonModel",
      "state": {
       "icon": "arrow-down",
       "layout": "IPY_MODEL_dc8a304e74f64566a8b8b3b7f5467149",
       "style": "IPY_MODEL_f64d844d0abe498ebea436d45b6c53c1"
      }
     },
     "2343ffb7ee5842a89ac5a6fc9d4d91f3": {
      "model_module": "@jupyter-widgets/base",
      "model_module_version": "1.2.0",
      "model_name": "LayoutModel",
      "state": {}
     },
     "23726091a21d4f13a726acdc16c6ba55": {
      "model_module": "@jupyter-widgets/controls",
      "model_module_version": "1.5.0",
      "model_name": "TextModel",
      "state": {
       "layout": "IPY_MODEL_3030d3085a0a474780f0ffb1552de0f2",
       "style": "IPY_MODEL_cc7227509d3748fd807bb9d64372ebfd",
       "value": "SpaceType"
      }
     },
     "2374a8622b4b4fedadd3788e3cbe1f77": {
      "model_module": "@jupyter-widgets/controls",
      "model_module_version": "1.5.0",
      "model_name": "HBoxModel",
      "state": {
       "children": [
        "IPY_MODEL_df2940740cbe43d78ba4d6bfdd687452",
        "IPY_MODEL_2767d2e736334919baaa897899e99816"
       ],
       "layout": "IPY_MODEL_443fa8060dce41df9e25f86a2b666ada"
      }
     },
     "23adecd88a364066ad950df9790c4287": {
      "model_module": "@jupyter-widgets/base",
      "model_module_version": "1.2.0",
      "model_name": "LayoutModel",
      "state": {}
     },
     "23cde4600f8a475aa1f73e1eefb1c4d2": {
      "model_module": "@jupyter-widgets/base",
      "model_module_version": "1.2.0",
      "model_name": "LayoutModel",
      "state": {}
     },
     "2447fd72a81a4e789353d490c3366937": {
      "model_module": "@jupyter-widgets/base",
      "model_module_version": "1.2.0",
      "model_name": "LayoutModel",
      "state": {}
     },
     "248febf942114e26ad279a1c3d998199": {
      "model_module": "@jupyter-widgets/base",
      "model_module_version": "1.2.0",
      "model_name": "LayoutModel",
      "state": {}
     },
     "249dc0252a4446eca2c087bb2445b216": {
      "model_module": "@jupyter-widgets/base",
      "model_module_version": "1.2.0",
      "model_name": "LayoutModel",
      "state": {}
     },
     "24f9090db0cd45e29fe6d52f491ed905": {
      "model_module": "@jupyter-widgets/base",
      "model_module_version": "1.2.0",
      "model_name": "LayoutModel",
      "state": {}
     },
     "25292296d54943eb8e7a6dabc069c268": {
      "model_module": "@jupyter-widgets/controls",
      "model_module_version": "1.5.0",
      "model_name": "DescriptionStyleModel",
      "state": {
       "description_width": ""
      }
     },
     "2531dc2c5bcd4f5aa5623e7affea6eff": {
      "model_module": "@jupyter-widgets/base",
      "model_module_version": "1.2.0",
      "model_name": "LayoutModel",
      "state": {}
     },
     "25364dc6e6124c9782ad6dea16ac6283": {
      "model_module": "@jupyter-widgets/base",
      "model_module_version": "1.2.0",
      "model_name": "LayoutModel",
      "state": {
       "height": "30px",
       "width": "auto"
      }
     },
     "25511924b3fd4661b18ceeaac3507c75": {
      "model_module": "@jupyter-widgets/controls",
      "model_module_version": "1.5.0",
      "model_name": "HTMLModel",
      "state": {
       "layout": "IPY_MODEL_f9f200f786f34ca9af5285e5a77b7c17",
       "style": "IPY_MODEL_5ecff3c063a046dda856a6745c347cea",
       "value": "<p>2nd section of space name code</p>"
      }
     },
     "2563b86df5f5429483cd86dcb4ac0654": {
      "model_module": "@jupyter-widgets/controls",
      "model_module_version": "1.5.0",
      "model_name": "HTMLModel",
      "state": {
       "layout": "IPY_MODEL_dc248f80599046e28b95cb159503ae24",
       "style": "IPY_MODEL_5d337502393e416cbb62509b746e9e6f",
       "value": "<p>2nd section of space name code</p>"
      }
     },
     "25c64545d75243598061a2ee9d092d83": {
      "model_module": "@jupyter-widgets/controls",
      "model_module_version": "1.5.0",
      "model_name": "HTMLModel",
      "state": {
       "layout": "IPY_MODEL_bebfdca794d1421a907e40604cbbff0d",
       "style": "IPY_MODEL_ea87fede68cb4d238dcdeeeb87ec2c47",
       "value": "<p>2</p>"
      }
     },
     "26250df2c1524d2391e538e3802ceb79": {
      "model_module": "@jupyter-widgets/controls",
      "model_module_version": "1.5.0",
      "model_name": "HTMLModel",
      "state": {
       "layout": "IPY_MODEL_9f00e00b12b14abb9502d23c64f1b742",
       "style": "IPY_MODEL_9c5bd5ddd3ac48c78deadaa937fa8813",
       "value": "<p>spc_name_index</p>"
      }
     },
     "262dc97b36344b6ab29eca23443f4165": {
      "model_module": "@jupyter-widgets/output",
      "model_module_version": "1.0.0",
      "model_name": "OutputModel",
      "state": {
       "layout": "IPY_MODEL_0691aa88dd2c4fb99b134f5e0770d6c9"
      }
     },
     "267a32b02fef4f56b4e2574a51f08caa": {
      "model_module": "@jupyter-widgets/base",
      "model_module_version": "1.2.0",
      "model_name": "LayoutModel",
      "state": {}
     },
     "2725fcf9fa9147feb3d5b08e80c0278a": {
      "model_module": "@jupyter-widgets/base",
      "model_module_version": "1.2.0",
      "model_name": "LayoutModel",
      "state": {
       "align_items": "stretch",
       "border": "dashed 0.2px green",
       "display": "flex",
       "flex_flow": "row",
       "grid_auto_columns": "True",
       "justify_content": "flex-start",
       "width": "100%"
      }
     },
     "2767d2e736334919baaa897899e99816": {
      "model_module": "@jupyter-widgets/controls",
      "model_module_version": "1.5.0",
      "model_name": "HTMLModel",
      "state": {
       "layout": "IPY_MODEL_67a8851ee55948909370cdd7bdec4451",
       "style": "IPY_MODEL_d9c990b3e62345a6ae8f0ed48ef15867",
       "value": "<p>4th section of space name code (enter None if 4th section doesn't exist)</p>"
      }
     },
     "27dcdfee142d4436a01f2c0db3955b89": {
      "model_module": "@jupyter-widgets/base",
      "model_module_version": "1.2.0",
      "model_name": "LayoutModel",
      "state": {
       "align_items": "stretch",
       "display": "flex",
       "flex_flow": "row",
       "grid_auto_columns": "True",
       "justify_content": "flex-start",
       "width": "80%"
      }
     },
     "28fc5e03493d428e9dd6db2cd4a04eaa": {
      "model_module": "@jupyter-widgets/base",
      "model_module_version": "1.2.0",
      "model_name": "LayoutModel",
      "state": {}
     },
     "29185132d1d449fc9f630a4eb6f50789": {
      "model_module": "@jupyter-widgets/controls",
      "model_module_version": "1.5.0",
      "model_name": "DescriptionStyleModel",
      "state": {
       "description_width": ""
      }
     },
     "29275c2181b24021836c6e6532ada1a0": {
      "model_module": "@jupyter-widgets/controls",
      "model_module_version": "1.5.0",
      "model_name": "HBoxModel",
      "state": {
       "children": [
        "IPY_MODEL_20751a0b3abf4867974d6cd93459a36e"
       ],
       "layout": "IPY_MODEL_3334cb70dcc54242b90d142f516f68d7"
      }
     },
     "2927e671a6d74069a797600181f61c9c": {
      "model_module": "@jupyter-widgets/controls",
      "model_module_version": "1.5.0",
      "model_name": "HBoxModel",
      "state": {
       "children": [
        "IPY_MODEL_e8ff986a692e4347af8588f3d5f32655"
       ],
       "layout": "IPY_MODEL_54add1db72be4f96b0b66927d2641cac"
      }
     },
     "294d33d6ab0242708f4cd1b14f11d219": {
      "model_module": "@jupyter-widgets/base",
      "model_module_version": "1.2.0",
      "model_name": "LayoutModel",
      "state": {}
     },
     "2a20cf60cfcc46e1bf18ced56423b3e8": {
      "model_module": "@jupyter-widgets/controls",
      "model_module_version": "1.5.0",
      "model_name": "HBoxModel",
      "state": {
       "children": [
        "IPY_MODEL_2c0c77eaf3bc45db8f9ff26a510a8b74",
        "IPY_MODEL_1881fcd7eb504f52b50cd44e154dc1f2"
       ],
       "layout": "IPY_MODEL_89ba1ba287f74b2595ae6db28c4123bc"
      }
     },
     "2a9d6b34764f43c5b08e490d493003d1": {
      "model_module": "@jupyter-widgets/controls",
      "model_module_version": "1.5.0",
      "model_name": "HTMLModel",
      "state": {
       "layout": "IPY_MODEL_5101cc89e8024969956b49f9a0978d8c",
       "style": "IPY_MODEL_b39e9496669843328df3205a1fd86ec7",
       "value": "<p>3rd section of space name code (enter None if 3rd section doesn't exist)</p>"
      }
     },
     "2ac1e15221854a5ab2e7954eee6c6a4a": {
      "model_module": "@jupyter-widgets/controls",
      "model_module_version": "1.5.0",
      "model_name": "HBoxModel",
      "state": {
       "children": [
        "IPY_MODEL_cd37b41fff3c4889917dd1e0d02a4141",
        "IPY_MODEL_8204152752a04a409574168156133652"
       ],
       "layout": "IPY_MODEL_f408fd53b66842d5a0f991559f3c4be7"
      }
     },
     "2af2cb29562c4f93853132518197f441": {
      "model_module": "@jupyter-widgets/controls",
      "model_module_version": "1.5.0",
      "model_name": "HBoxModel",
      "state": {
       "children": [
        "IPY_MODEL_190cbaa410d6431abd781121b4b224c1",
        "IPY_MODEL_9c62199a8eea4aecb287cb247043b670"
       ],
       "layout": "IPY_MODEL_4d8944cf318849c59f1a170474566bf9"
      }
     },
     "2b0402aad2a440f7951c8b113c555c02": {
      "model_module": "@jupyter-widgets/base",
      "model_module_version": "1.2.0",
      "model_name": "LayoutModel",
      "state": {}
     },
     "2b06f639c77a42b7a32f4c78b4d691bd": {
      "model_module": "@jupyter-widgets/base",
      "model_module_version": "1.2.0",
      "model_name": "LayoutModel",
      "state": {
       "flex_flow": "column",
       "height": "auto",
       "width": "auto"
      }
     },
     "2b4203b7ddef4ca8a092a89d425b1271": {
      "model_module": "@jupyter-widgets/base",
      "model_module_version": "1.2.0",
      "model_name": "LayoutModel",
      "state": {
       "align_items": "stretch",
       "border": "dashed 0.2px green",
       "display": "flex",
       "flex_flow": "row",
       "grid_auto_columns": "True",
       "justify_content": "flex-start",
       "width": "100%"
      }
     },
     "2c0c77eaf3bc45db8f9ff26a510a8b74": {
      "model_module": "@jupyter-widgets/controls",
      "model_module_version": "1.5.0",
      "model_name": "HTMLModel",
      "state": {
       "layout": "IPY_MODEL_094731e855e84554971e8790f82e26ec",
       "style": "IPY_MODEL_8467d2379aa0410aa77e186d8a4b2de3",
       "value": "<p>1</p>"
      }
     },
     "2c2c17c0e31648d0945369930c758fdc": {
      "model_module": "@jupyter-widgets/base",
      "model_module_version": "1.2.0",
      "model_name": "LayoutModel",
      "state": {}
     },
     "2c4c0b0ce0a84a8e8b2e0e9b8167ef02": {
      "model_module": "@jupyter-widgets/controls",
      "model_module_version": "1.5.0",
      "model_name": "HBoxModel",
      "state": {
       "children": [
        "IPY_MODEL_185d7f62081c45b99391bbd224615e7f"
       ],
       "layout": "IPY_MODEL_20c9fd5ab1a1465393f0596edcddee2b"
      }
     },
     "2c84c41570ba42febc9987a5d5e20b7b": {
      "model_module": "@jupyter-widgets/controls",
      "model_module_version": "1.5.0",
      "model_name": "TextModel",
      "state": {
       "layout": "IPY_MODEL_95ad4303085c45b1a4d776d53899d503",
       "style": "IPY_MODEL_f94a1bad25004001a3694e2f232aadd7",
       "value": "Level"
      }
     },
     "2dcb5e543ebd46ba8f067cdeab92fc0b": {
      "model_module": "@jupyter-widgets/controls",
      "model_module_version": "1.5.0",
      "model_name": "DescriptionStyleModel",
      "state": {
       "description_width": ""
      }
     },
     "2df6e0a299bf4f2aaae75ddec835427f": {
      "model_module": "@jupyter-widgets/controls",
      "model_module_version": "1.5.0",
      "model_name": "DescriptionStyleModel",
      "state": {
       "description_width": ""
      }
     },
     "2e25cf83090244a9a95bd15cb20f1d0c": {
      "model_module": "@jupyter-widgets/controls",
      "model_module_version": "1.5.0",
      "model_name": "DescriptionStyleModel",
      "state": {
       "description_width": ""
      }
     },
     "2e3f50e216564b70b137459d7d0e43da": {
      "model_module": "@jupyter-widgets/output",
      "model_module_version": "1.0.0",
      "model_name": "OutputModel",
      "state": {
       "layout": "IPY_MODEL_af98163a5ca6421fba9fc3bf9357c457"
      }
     },
     "2e75daaf20774b609b77b22608f58081": {
      "model_module": "@jupyter-widgets/base",
      "model_module_version": "1.2.0",
      "model_name": "LayoutModel",
      "state": {}
     },
     "2ed700b1d4fd4d5bb7583cdbf86ca41f": {
      "model_module": "@jupyter-widgets/base",
      "model_module_version": "1.2.0",
      "model_name": "LayoutModel",
      "state": {}
     },
     "2f2f7630c20345468b4fe94980976978": {
      "model_module": "@jupyter-widgets/base",
      "model_module_version": "1.2.0",
      "model_name": "LayoutModel",
      "state": {
       "align_items": "stretch",
       "display": "flex",
       "flex_flow": "row",
       "grid_auto_columns": "True",
       "justify_content": "flex-end",
       "width": "90%"
      }
     },
     "2f4b027eb06b49f4b332fa47dbe11e47": {
      "model_module": "@jupyter-widgets/controls",
      "model_module_version": "1.5.0",
      "model_name": "TextModel",
      "state": {
       "layout": "IPY_MODEL_7f6dc193a9254617a7ee27adcab81ab8",
       "style": "IPY_MODEL_64301d6d23ca4e69848437c4b807fcdf",
       "value": "SpaceId"
      }
     },
     "2f6ad7bcfee3454ab6b6c067606e035b": {
      "model_module": "@jupyter-widgets/controls",
      "model_module_version": "1.5.0",
      "model_name": "HTMLModel",
      "state": {
       "layout": "IPY_MODEL_0136ce859b62461d9af6b5b37e2d5c60",
       "style": "IPY_MODEL_fc1d6bf9d18d4f6caa23c9b1e3d0f54f",
       "value": "<p>fpth_in</p>"
      }
     },
     "30269e0a631743088ecfae54946e225a": {
      "model_module": "@jupyter-widgets/controls",
      "model_module_version": "1.5.0",
      "model_name": "TextModel",
      "state": {
       "layout": "IPY_MODEL_2447fd72a81a4e789353d490c3366937",
       "style": "IPY_MODEL_2e25cf83090244a9a95bd15cb20f1d0c",
       "value": "TM46Category"
      }
     },
     "302b294f9422435fa7c3b5ecea5af941": {
      "model_module": "@jupyter-widgets/base",
      "model_module_version": "1.2.0",
      "model_name": "LayoutModel",
      "state": {
       "align_items": "stretch",
       "display": "flex",
       "flex_flow": "row",
       "grid_auto_columns": "True",
       "justify_content": "flex-start",
       "width": "80%"
      }
     },
     "3030d3085a0a474780f0ffb1552de0f2": {
      "model_module": "@jupyter-widgets/base",
      "model_module_version": "1.2.0",
      "model_name": "LayoutModel",
      "state": {}
     },
     "30721cf2036c4f84b2de37cc790513c1": {
      "model_module": "@jupyter-widgets/base",
      "model_module_version": "1.2.0",
      "model_name": "LayoutModel",
      "state": {}
     },
     "31514d551f8e4c8aba1bfc16510d46eb": {
      "model_module": "@jupyter-widgets/base",
      "model_module_version": "1.2.0",
      "model_name": "LayoutModel",
      "state": {}
     },
     "31753ff603384c7e8bd6dcf93d027ee2": {
      "model_module": "@jupyter-widgets/base",
      "model_module_version": "1.2.0",
      "model_name": "LayoutModel",
      "state": {
       "height": "30px",
       "width": "auto"
      }
     },
     "3334cb70dcc54242b90d142f516f68d7": {
      "model_module": "@jupyter-widgets/base",
      "model_module_version": "1.2.0",
      "model_name": "LayoutModel",
      "state": {
       "align_items": "stretch",
       "border": "dashed 0.2px green",
       "display": "flex",
       "flex_flow": "row",
       "grid_auto_columns": "True",
       "justify_content": "flex-start",
       "width": "100%"
      }
     },
     "33ab10b1dd2e401f9ec9a4cd21917bf4": {
      "model_module": "@jupyter-widgets/controls",
      "model_module_version": "1.5.0",
      "model_name": "DescriptionStyleModel",
      "state": {
       "description_width": ""
      }
     },
     "33ba4502b45b45ef97f7002d462a9a14": {
      "model_module": "@jupyter-widgets/base",
      "model_module_version": "1.2.0",
      "model_name": "LayoutModel",
      "state": {}
     },
     "3409915467cd4a3290f7c75fc70da62e": {
      "model_module": "@jupyter-widgets/controls",
      "model_module_version": "1.5.0",
      "model_name": "RadioButtonsModel",
      "state": {
       "_options_labels": [
        "TEMPLATE: C:\\engDev\\git_mf\\MF_Toolbox\\dev\\mf_scripts\\template_inputs\\inputs-gbxml.json",
        "PROJECT: C:\\engDev\\git_mf\\ipyrun\\examples\\notebooks\\appdata\\inputs\\inputs-gbxml.json"
       ],
       "index": 0,
       "layout": "IPY_MODEL_0205426f44324839867c3eb126559475",
       "style": "IPY_MODEL_06fb8c75abb24c5ca88feaadad868408"
      }
     },
     "344b198a05924f1e8b2c47f335eb4ee4": {
      "model_module": "@jupyter-widgets/base",
      "model_module_version": "1.2.0",
      "model_name": "LayoutModel",
      "state": {}
     },
     "345e3bef767843ed9671e674b27566b3": {
      "model_module": "@jupyter-widgets/controls",
      "model_module_version": "1.5.0",
      "model_name": "HBoxModel",
      "state": {
       "children": [
        "IPY_MODEL_bfc08076a9fa45e3993af32e20633a97",
        "IPY_MODEL_80004761c17045e7a5291f411d82acc2"
       ],
       "layout": "IPY_MODEL_ab0dda01b08848719da0fc1ff1ca5039"
      }
     },
     "34661ba580eb423993ef5d0e9a4dc7fc": {
      "model_module": "@jupyter-widgets/controls",
      "model_module_version": "1.5.0",
      "model_name": "HBoxModel",
      "state": {
       "children": [
        "IPY_MODEL_2f6ad7bcfee3454ab6b6c067606e035b",
        "IPY_MODEL_aa6e073eaf15456a9645e3f0a59e3722"
       ],
       "layout": "IPY_MODEL_8ef2bd4fc46e420fb748d385999e00a7"
      }
     },
     "3499e63c53844821883344d156565a57": {
      "model_module": "@jupyter-widgets/controls",
      "model_module_version": "1.5.0",
      "model_name": "HTMLModel",
      "state": {
       "layout": "IPY_MODEL_98a7829262664284b92423ee94171516",
       "style": "IPY_MODEL_a1e1b837ac814269a94f4c1ecbed1364",
       "value": "<p>5th section of space name code (enter None if 5th section doesn't exist)</p>"
      }
     },
     "3503e01dbcba48ee8093a3dbc032e4ed": {
      "model_module": "@jupyter-widgets/base",
      "model_module_version": "1.2.0",
      "model_name": "LayoutModel",
      "state": {
       "align_items": "stretch",
       "width": "100%"
      }
     },
     "357aa14343684e45abef917746f85367": {
      "model_module": "@jupyter-widgets/controls",
      "model_module_version": "1.5.0",
      "model_name": "DescriptionStyleModel",
      "state": {
       "description_width": ""
      }
     },
     "35d5e2495365421193be683cbbc82994": {
      "model_module": "@jupyter-widgets/controls",
      "model_module_version": "1.5.0",
      "model_name": "HTMLModel",
      "state": {
       "layout": "IPY_MODEL_a022ae5f633d485bbf6dc73304bb280f",
       "style": "IPY_MODEL_80bbac98fb18437d943692e10d821d06",
       "value": "<p>3</p>"
      }
     },
     "36b0c8648c4d4b70bae5eaab60e6534b": {
      "model_module": "@jupyter-widgets/controls",
      "model_module_version": "1.5.0",
      "model_name": "ButtonStyleModel",
      "state": {
       "font_weight": "bold"
      }
     },
     "36fb205bba7d4172a4b027503d1d0c53": {
      "model_module": "@jupyter-widgets/output",
      "model_module_version": "1.0.0",
      "model_name": "OutputModel",
      "state": {
       "layout": "IPY_MODEL_8f2423b09ec74e8ebade1c2bf7a8e926"
      }
     },
     "375d4be827814b5482b4897342f6147c": {
      "model_module": "@jupyter-widgets/controls",
      "model_module_version": "1.5.0",
      "model_name": "HBoxModel",
      "state": {
       "children": [
        "IPY_MODEL_8550658ba3d846f4be64d012960173e7",
        "IPY_MODEL_eaa78a438ab54af78c1d55985c943283"
       ],
       "layout": "IPY_MODEL_9d5deb87a6da438184c1670399e9a2a7"
      }
     },
     "385ae06483284bbfa06d991325d2d1ce": {
      "model_module": "@jupyter-widgets/controls",
      "model_module_version": "1.5.0",
      "model_name": "DescriptionStyleModel",
      "state": {
       "description_width": ""
      }
     },
     "397d59d8892c4706ab8db843a039288c": {
      "model_module": "@jupyter-widgets/controls",
      "model_module_version": "1.5.0",
      "model_name": "HBoxModel",
      "state": {
       "children": [
        "IPY_MODEL_c0124898f690487db4f69a834c54f822",
        "IPY_MODEL_91822332f4754a2ba896f4cc83b2ab4e"
       ],
       "layout": "IPY_MODEL_eddb452193a444339aba704b27b43688"
      }
     },
     "3b0bdef1b66e49eb8eb2bce31062372d": {
      "model_module": "@jupyter-widgets/controls",
      "model_module_version": "1.5.0",
      "model_name": "ToggleButtonModel",
      "state": {
       "button_style": "info",
       "description": "inputs from file",
       "layout": "IPY_MODEL_fc5c897cefba4e1a817a44964698c76f",
       "style": "IPY_MODEL_bf76938975a849a9b427bb883e13094b"
      }
     },
     "3b1a6f4e803749869d51b3d66a6595cc": {
      "model_module": "@jupyter-widgets/controls",
      "model_module_version": "1.5.0",
      "model_name": "VBoxModel",
      "state": {
       "children": [
        "IPY_MODEL_5fdfa6a015d440b892543b057d169834",
        "IPY_MODEL_5094fb55a2f043b694b445579b9f572b",
        "IPY_MODEL_da70bcc473b4458aa1c745f8993df373",
        "IPY_MODEL_1b417c14ca7e4c4ebe2312535eac55f6",
        "IPY_MODEL_b1f2c2bbedfd4a18b8fb157ce8293a1d"
       ],
       "layout": "IPY_MODEL_5138ce223403427288e1b72fd7a756d1"
      }
     },
     "3b780143213346559f2a214d948cbb9a": {
      "model_module": "@jupyter-widgets/controls",
      "model_module_version": "1.5.0",
      "model_name": "HBoxModel",
      "state": {
       "children": [
        "IPY_MODEL_d6df4a536d29453cbb5417245541989a",
        "IPY_MODEL_f7a213478df9412e91d4423d8a1011fc"
       ],
       "layout": "IPY_MODEL_4951d43af397420c8efda9fcc7f82b07"
      }
     },
     "3c5e6b876cff43de8ea26b64b9684826": {
      "model_module": "@jupyter-widgets/base",
      "model_module_version": "1.2.0",
      "model_name": "LayoutModel",
      "state": {
       "align_items": "stretch",
       "border": "dashed 0.2px green",
       "display": "flex",
       "flex_flow": "row",
       "grid_auto_columns": "True",
       "justify_content": "flex-start",
       "width": "100%"
      }
     },
     "3c930bdc78ec4b85a1511b381464b0b7": {
      "model_module": "@jupyter-widgets/controls",
      "model_module_version": "1.5.0",
      "model_name": "DescriptionStyleModel",
      "state": {
       "description_width": ""
      }
     },
     "3cb3b4293a4a42a59ef7d751c3ba7b3e": {
      "model_module": "@jupyter-widgets/base",
      "model_module_version": "1.2.0",
      "model_name": "LayoutModel",
      "state": {
       "align_items": "stretch",
       "border": "dashed 0.2px green",
       "display": "flex",
       "flex_flow": "row",
       "grid_auto_columns": "True",
       "justify_content": "flex-start",
       "width": "100%"
      }
     },
     "3cfd4cfdec854c789e68a5760d93b1e3": {
      "model_module": "@jupyter-widgets/controls",
      "model_module_version": "1.5.0",
      "model_name": "VBoxModel",
      "state": {
       "children": [
        "IPY_MODEL_669cead330fe451b977aa5b4b5b1dd59",
        "IPY_MODEL_a310c2aec7bf445889eec151f2a2c1bb"
       ],
       "layout": "IPY_MODEL_1338b9f401ec479ba7e6e1eb994902fc"
      }
     },
     "3e4bfc37aaaa4a5c988cdf70355eb0f6": {
      "model_module": "@jupyter-widgets/controls",
      "model_module_version": "1.5.0",
      "model_name": "DescriptionStyleModel",
      "state": {
       "description_width": ""
      }
     },
     "3e60c51a8a4742778b7931358e8796ab": {
      "model_module": "@jupyter-widgets/base",
      "model_module_version": "1.2.0",
      "model_name": "LayoutModel",
      "state": {}
     },
     "3e9314ecbd904390855eae763c55df76": {
      "model_module": "@jupyter-widgets/controls",
      "model_module_version": "1.5.0",
      "model_name": "ButtonModel",
      "state": {
       "button_style": "success",
       "description": "save changes",
       "layout": "IPY_MODEL_56a45bc385794a54a4a5468b7080d93a",
       "style": "IPY_MODEL_46dcf4fe8fcb49778f96e7c4c767aa3a"
      }
     },
     "3e9fa005da1940baa1ea4d3dc3e4a627": {
      "model_module": "@jupyter-widgets/base",
      "model_module_version": "1.2.0",
      "model_name": "LayoutModel",
      "state": {
       "align_items": "stretch",
       "border": "dashed 0.2px green",
       "display": "flex",
       "flex_flow": "row",
       "grid_auto_columns": "True",
       "justify_content": "flex-start",
       "width": "100%"
      }
     },
     "3ed3279886da439a8beeea4c41f1b2be": {
      "model_module": "@jupyter-widgets/controls",
      "model_module_version": "1.5.0",
      "model_name": "HTMLModel",
      "state": {
       "layout": "IPY_MODEL_ddb54f206b7b4191a36111fe87b98e8e",
       "style": "IPY_MODEL_3e4bfc37aaaa4a5c988cdf70355eb0f6",
       "value": "<p>input gbxml filepath</p>"
      }
     },
     "3edb9d34e67b491ca057b6c3eac662be": {
      "model_module": "@jupyter-widgets/controls",
      "model_module_version": "1.5.0",
      "model_name": "ButtonStyleModel",
      "state": {
       "font_weight": "bold"
      }
     },
     "3f02ed8018b741d5ba016819d699ca8b": {
      "model_module": "@jupyter-widgets/base",
      "model_module_version": "1.2.0",
      "model_name": "LayoutModel",
      "state": {}
     },
     "3f056b0e7e784367884a6987b7798d62": {
      "model_module": "@jupyter-widgets/controls",
      "model_module_version": "1.5.0",
      "model_name": "HTMLModel",
      "state": {
       "layout": "IPY_MODEL_ce3d42ec9b2e470b8f96ddb5ed11b395",
       "style": "IPY_MODEL_d7b8d865bbe44e479e2cdf50de8c0be0",
       "value": "<p>2</p>"
      }
     },
     "3f467111057f4624b1f773c545d213bc": {
      "model_module": "@jupyter-widgets/base",
      "model_module_version": "1.2.0",
      "model_name": "LayoutModel",
      "state": {
       "align_items": "stretch",
       "display": "flex",
       "flex_flow": "row",
       "grid_auto_columns": "True",
       "justify_content": "flex-end",
       "width": "90%"
      }
     },
     "3fca2f87dde844a29afdba8b0df026c6": {
      "model_module": "@jupyter-widgets/base",
      "model_module_version": "1.2.0",
      "model_name": "LayoutModel",
      "state": {
       "align_items": "stretch",
       "display": "flex",
       "flex_flow": "row",
       "grid_auto_columns": "True",
       "justify_content": "flex-end",
       "width": "90%"
      }
     },
     "40ed65bcd622476988b825b420c7a24d": {
      "model_module": "@jupyter-widgets/base",
      "model_module_version": "1.2.0",
      "model_name": "LayoutModel",
      "state": {
       "align_items": "stretch",
       "display": "flex",
       "flex_flow": "row",
       "grid_auto_columns": "True",
       "justify_content": "flex-start",
       "width": "80%"
      }
     },
     "419a50533f9049f1beba528f93cf6bf7": {
      "model_module": "@jupyter-widgets/controls",
      "model_module_version": "1.5.0",
      "model_name": "HTMLModel",
      "state": {
       "layout": "IPY_MODEL_9c874a7346b3490d8c554dfd7cd3cfef",
       "style": "IPY_MODEL_a67c033f59574e8985bb069a3a82554d",
       "value": "<p>0</p>"
      }
     },
     "41dfedb562ba407b94ff4eb3640b6898": {
      "model_module": "@jupyter-widgets/controls",
      "model_module_version": "1.5.0",
      "model_name": "HBoxModel",
      "state": {
       "children": [
        "IPY_MODEL_c1753b01e18842c5bf0ed577c9e8d6be",
        "IPY_MODEL_973b146cca564d2287fca5bc28f8d2b3"
       ],
       "layout": "IPY_MODEL_c1a8c9185c98475da5a4cfccf521ffcb"
      }
     },
     "41e75673b0c948118157738133f89d22": {
      "model_module": "@jupyter-widgets/base",
      "model_module_version": "1.2.0",
      "model_name": "LayoutModel",
      "state": {
       "align_items": "stretch",
       "display": "flex",
       "flex_flow": "row",
       "grid_auto_columns": "True",
       "justify_content": "flex-start",
       "width": "80%"
      }
     },
     "42c24f4c62bc4dbe9aaf5eade31d1a47": {
      "model_module": "@jupyter-widgets/controls",
      "model_module_version": "1.5.0",
      "model_name": "DescriptionStyleModel",
      "state": {
       "description_width": ""
      }
     },
     "42e6d02a5c264ccca0eebf1dd9e92f80": {
      "model_module": "@jupyter-widgets/controls",
      "model_module_version": "1.5.0",
      "model_name": "HBoxModel",
      "state": {
       "children": [
        "IPY_MODEL_f4184f8f78974e57aecc45901dbff1b3"
       ],
       "layout": "IPY_MODEL_d233123434e34a6091fc3d338fbf402e"
      }
     },
     "43002e477882467dac91be37d997a816": {
      "model_module": "@jupyter-widgets/base",
      "model_module_version": "1.2.0",
      "model_name": "LayoutModel",
      "state": {
       "border": "0px",
       "margin": "0px",
       "padding": "0px"
      }
     },
     "4328ac6ce95d4c249a1491676d82f50b": {
      "model_module": "@jupyter-widgets/base",
      "model_module_version": "1.2.0",
      "model_name": "LayoutModel",
      "state": {
       "align_items": "stretch",
       "display": "flex",
       "flex_flow": "row",
       "grid_auto_columns": "True",
       "justify_content": "flex-end",
       "width": "90%"
      }
     },
     "43849c14519a49b899d9a812ab70164e": {
      "model_module": "@jupyter-widgets/controls",
      "model_module_version": "1.5.0",
      "model_name": "DescriptionStyleModel",
      "state": {
       "description_width": ""
      }
     },
     "443fa8060dce41df9e25f86a2b666ada": {
      "model_module": "@jupyter-widgets/base",
      "model_module_version": "1.2.0",
      "model_name": "LayoutModel",
      "state": {
       "align_items": "stretch",
       "display": "flex",
       "flex_flow": "row",
       "grid_auto_columns": "True",
       "justify_content": "flex-start",
       "width": "80%"
      }
     },
     "4452c9c97a4849f1b17a50a660c76c8d": {
      "model_module": "@jupyter-widgets/base",
      "model_module_version": "1.2.0",
      "model_name": "LayoutModel",
      "state": {}
     },
     "454242d5f7724809917e779819dff4f5": {
      "model_module": "@jupyter-widgets/base",
      "model_module_version": "1.2.0",
      "model_name": "LayoutModel",
      "state": {
       "align_items": "stretch",
       "display": "flex",
       "flex_flow": "row",
       "grid_auto_columns": "True",
       "justify_content": "flex-start",
       "width": "80%"
      }
     },
     "45d1de0aaa244da08e50dc50d01325b2": {
      "model_module": "@jupyter-widgets/base",
      "model_module_version": "1.2.0",
      "model_name": "LayoutModel",
      "state": {
       "align_items": "stretch",
       "display": "flex",
       "flex_flow": "row",
       "grid_auto_columns": "True",
       "justify_content": "flex-start",
       "width": "80%"
      }
     },
     "45d5abb40baf402280d3fa7d0bc3e341": {
      "model_module": "@jupyter-widgets/controls",
      "model_module_version": "1.5.0",
      "model_name": "HTMLModel",
      "state": {
       "layout": "IPY_MODEL_4f10457da8bd485383140ef3ca7db452",
       "style": "IPY_MODEL_8eda1a1986524f7c8f898ba208b9f11d",
       "value": "<p>3rd section of space name code (enter None if 3rd section doesn't exist)</p>"
      }
     },
     "45de299fd58245149c8cd2014f5a43fe": {
      "model_module": "@jupyter-widgets/controls",
      "model_module_version": "1.5.0",
      "model_name": "DescriptionStyleModel",
      "state": {
       "description_width": ""
      }
     },
     "46080fd390364312acb43b945ee08a65": {
      "model_module": "@jupyter-widgets/controls",
      "model_module_version": "1.5.0",
      "model_name": "DescriptionStyleModel",
      "state": {
       "description_width": ""
      }
     },
     "46c8b85d781d44648450851230d2003d": {
      "model_module": "@jupyter-widgets/base",
      "model_module_version": "1.2.0",
      "model_name": "LayoutModel",
      "state": {
       "align_items": "stretch",
       "border": "dashed 0.2px green",
       "display": "flex",
       "flex_flow": "row",
       "grid_auto_columns": "True",
       "justify_content": "flex-start",
       "width": "100%"
      }
     },
     "46dcf4fe8fcb49778f96e7c4c767aa3a": {
      "model_module": "@jupyter-widgets/controls",
      "model_module_version": "1.5.0",
      "model_name": "ButtonStyleModel",
      "state": {
       "font_weight": "bold"
      }
     },
     "46e184f0eb364bb394db429464033601": {
      "model_module": "@jupyter-widgets/controls",
      "model_module_version": "1.5.0",
      "model_name": "HBoxModel",
      "state": {
       "children": [
        "IPY_MODEL_419a50533f9049f1beba528f93cf6bf7",
        "IPY_MODEL_07d4aab23e504f17a5c3bc9ec63ccef9"
       ],
       "layout": "IPY_MODEL_3f467111057f4624b1f773c545d213bc"
      }
     },
     "46fcea1f29fc48caa2a677716a6b6948": {
      "model_module": "@jupyter-widgets/controls",
      "model_module_version": "1.5.0",
      "model_name": "DescriptionStyleModel",
      "state": {
       "description_width": ""
      }
     },
     "47799f1bb3fd46d0a550eaf48e8b096a": {
      "model_module": "@jupyter-widgets/controls",
      "model_module_version": "1.5.0",
      "model_name": "HTMLModel",
      "state": {
       "layout": "IPY_MODEL_4d653145b3084315827c7821d7c8927e",
       "style": "IPY_MODEL_8d3037f0542345929448fefd71ba4c7d",
       "value": "<p>0</p>"
      }
     },
     "4837e82c4f294730b5ac6cd0b0c2b2c1": {
      "model_module": "@jupyter-widgets/base",
      "model_module_version": "1.2.0",
      "model_name": "LayoutModel",
      "state": {}
     },
     "48e1f3fb62424df5b50402c0c31c1766": {
      "model_module": "@jupyter-widgets/base",
      "model_module_version": "1.2.0",
      "model_name": "LayoutModel",
      "state": {}
     },
     "48f96387113d443cae67eac27500f492": {
      "model_module": "@jupyter-widgets/base",
      "model_module_version": "1.2.0",
      "model_name": "LayoutModel",
      "state": {}
     },
     "490ee1d493c646e5b1460d99e4713bee": {
      "model_module": "@jupyter-widgets/output",
      "model_module_version": "1.0.0",
      "model_name": "OutputModel",
      "state": {
       "layout": "IPY_MODEL_00be06e7db1740758f3fb9d15cc1b75e"
      }
     },
     "4951d43af397420c8efda9fcc7f82b07": {
      "model_module": "@jupyter-widgets/base",
      "model_module_version": "1.2.0",
      "model_name": "LayoutModel",
      "state": {
       "align_items": "stretch",
       "display": "flex",
       "flex_flow": "row",
       "grid_auto_columns": "True",
       "justify_content": "flex-start",
       "width": "80%"
      }
     },
     "4a21f2257dd346e6a95004af03b9d2ba": {
      "model_module": "@jupyter-widgets/base",
      "model_module_version": "1.2.0",
      "model_name": "LayoutModel",
      "state": {}
     },
     "4ac1a72a8b104758809e3cfa1f1fdf13": {
      "model_module": "@jupyter-widgets/controls",
      "model_module_version": "1.5.0",
      "model_name": "SelectMultipleModel",
      "state": {
       "_options_labels": [
        "C:\\engDev\\git_mf\\ipyrun\\examples\\data\\raw\\gbxml.xml",
        "C:\\engDev\\git_mf\\ipyrun\\examples\\data\\interim\\gbjson.json",
        "C:\\engDev\\git_mf\\ipyrun\\examples\\data\\processed\\gbxml_datagrab.xlsx",
        "C:\\engDev\\git_mf\\ipyrun\\examples\\data\\processed\\gbxml_spcs-treemap.png"
       ],
       "description": "outputs",
       "index": [],
       "layout": "IPY_MODEL_574ec002ecba4595bb1aa38c477f02c6",
       "rows": 4,
       "style": "IPY_MODEL_7edfddd19fc0444aa8c8277b33fa3fda"
      }
     },
     "4ae52a740b6a4fdf9ac7f21b2ba3812a": {
      "model_module": "@jupyter-widgets/controls",
      "model_module_version": "1.5.0",
      "model_name": "HTMLModel",
      "state": {
       "layout": "IPY_MODEL_042ff4a8996541a0aafdbe97c91684d4",
       "style": "IPY_MODEL_46080fd390364312acb43b945ee08a65",
       "value": "<p>defines the logic of the space naming. use default value where practical.</p>"
      }
     },
     "4b322a97ca60493aae96056807f3fa0d": {
      "model_module": "@jupyter-widgets/controls",
      "model_module_version": "1.5.0",
      "model_name": "SelectMultipleModel",
      "state": {
       "_options_labels": [
        "gbxml.xml",
        "gbjson.json",
        "gbxml_datagrab.xlsx",
        "gbxml_spcs-treemap.png"
       ],
       "index": [
        1
       ],
       "layout": "IPY_MODEL_8fcef04bfbed4507ae63f6ea8f7611bd",
       "rows": 5,
       "style": "IPY_MODEL_0f48b0726ea84f5383a3c7acdcad95d1"
      }
     },
     "4b9db4abacf84491b294fb47f093e6fb": {
      "model_module": "@jupyter-widgets/controls",
      "model_module_version": "1.5.0",
      "model_name": "HTMLModel",
      "state": {
       "layout": "IPY_MODEL_2c2c17c0e31648d0945369930c758fdc",
       "style": "IPY_MODEL_8895a050c01a4f51bca5b90a0dfaa53b",
       "value": "<p>edit user input form below</p>"
      }
     },
     "4c61281ad99b4ea7a7699019ce110130": {
      "model_module": "@jupyter-widgets/controls",
      "model_module_version": "1.5.0",
      "model_name": "TextModel",
      "state": {
       "layout": "IPY_MODEL_267a32b02fef4f56b4e2574a51f08caa",
       "style": "IPY_MODEL_f826d77af5f3437cadc1699356cbf912",
       "value": "SpaceType"
      }
     },
     "4c799b4510e04b64970a1c55c9e06d67": {
      "model_module": "@jupyter-widgets/controls",
      "model_module_version": "1.5.0",
      "model_name": "HTMLModel",
      "state": {
       "layout": "IPY_MODEL_63716bef48134793bb5a0dcab1bab466",
       "style": "IPY_MODEL_46fcea1f29fc48caa2a677716a6b6948",
       "value": "<p>4th section of space name code (enter None if 4th section doesn't exist)</p>"
      }
     },
     "4c84f665afbb4c9c9a1912d3ad938f4e": {
      "model_module": "@jupyter-widgets/output",
      "model_module_version": "1.0.0",
      "model_name": "OutputModel",
      "state": {
       "layout": "IPY_MODEL_a50a2369d3b84849bb4a4c276e1f74a5"
      }
     },
     "4ccd11c0356548a487e626b962f2002f": {
      "model_module": "@jupyter-widgets/base",
      "model_module_version": "1.2.0",
      "model_name": "LayoutModel",
      "state": {
       "width": "5%"
      }
     },
     "4d125bb913ce4c77896bd3dc9e20e9ed": {
      "model_module": "@jupyter-widgets/base",
      "model_module_version": "1.2.0",
      "model_name": "LayoutModel",
      "state": {}
     },
     "4d6172b6d34e4bdbb76477152560ae56": {
      "model_module": "@jupyter-widgets/controls",
      "model_module_version": "1.5.0",
      "model_name": "AccordionModel",
      "state": {
       "_titles": {
        "0": "gbxml"
       },
       "children": [
        "IPY_MODEL_acfb65790bc249c18ebe201924d8cbd2"
       ],
       "layout": "IPY_MODEL_d19b4f9be613408da6fd646843745858",
       "selected_index": null
      }
     },
     "4d653145b3084315827c7821d7c8927e": {
      "model_module": "@jupyter-widgets/base",
      "model_module_version": "1.2.0",
      "model_name": "LayoutModel",
      "state": {}
     },
     "4d8944cf318849c59f1a170474566bf9": {
      "model_module": "@jupyter-widgets/base",
      "model_module_version": "1.2.0",
      "model_name": "LayoutModel",
      "state": {
       "align_items": "stretch",
       "display": "flex",
       "flex_flow": "row",
       "grid_auto_columns": "True",
       "justify_content": "flex-end",
       "width": "90%"
      }
     },
     "4e5bd67dc339495fb9d5269f331e7205": {
      "model_module": "@jupyter-widgets/controls",
      "model_module_version": "1.5.0",
      "model_name": "HBoxModel",
      "state": {
       "children": [
        "IPY_MODEL_26250df2c1524d2391e538e3802ceb79",
        "IPY_MODEL_92461012149c45e1b494715fd3aa30b5"
       ],
       "layout": "IPY_MODEL_a4d452c3d8d0461e8f1abd2884c533b2"
      }
     },
     "4eaf3d0fd88a4eae97aed7b2dc042dda": {
      "model_module": "@jupyter-widgets/controls",
      "model_module_version": "1.5.0",
      "model_name": "SelectMultipleModel",
      "state": {
       "_options_labels": [
        "C:\\engDev\\git_mf\\ipyrun\\examples\\data\\raw\\gbxml.xml",
        "C:\\engDev\\git_mf\\ipyrun\\examples\\data\\interim\\gbjson.json",
        "C:\\engDev\\git_mf\\ipyrun\\examples\\data\\processed\\gbxml_datagrab.xlsx",
        "C:\\engDev\\git_mf\\ipyrun\\examples\\data\\processed\\gbxml_spcs-treemap.png"
       ],
       "description": "outputs",
       "index": [
        0
       ],
       "layout": "IPY_MODEL_25364dc6e6124c9782ad6dea16ac6283",
       "rows": 4,
       "style": "IPY_MODEL_d35e71315b2d422e9df2d1127ac34477"
      }
     },
     "4f10457da8bd485383140ef3ca7db452": {
      "model_module": "@jupyter-widgets/base",
      "model_module_version": "1.2.0",
      "model_name": "LayoutModel",
      "state": {}
     },
     "4f8987c5086548a187a3efe03e87089a": {
      "model_module": "@jupyter-widgets/base",
      "model_module_version": "1.2.0",
      "model_name": "LayoutModel",
      "state": {
       "align_items": "stretch",
       "border": "dashed 0.2px green",
       "display": "flex",
       "flex_flow": "row",
       "grid_auto_columns": "True",
       "justify_content": "flex-start",
       "width": "100%"
      }
     },
     "5094fb55a2f043b694b445579b9f572b": {
      "model_module": "@jupyter-widgets/controls",
      "model_module_version": "1.5.0",
      "model_name": "HBoxModel",
      "state": {
       "children": [
        "IPY_MODEL_41dfedb562ba407b94ff4eb3640b6898"
       ],
       "layout": "IPY_MODEL_0ff7436e09f040baa8012440a25df6ba"
      }
     },
     "50c06b53381549ec8f503ccb30723ff3": {
      "model_module": "@jupyter-widgets/controls",
      "model_module_version": "1.5.0",
      "model_name": "ToggleButtonModel",
      "state": {
       "button_style": "info",
       "description": "inputs from file",
       "layout": "IPY_MODEL_31514d551f8e4c8aba1bfc16510d46eb",
       "style": "IPY_MODEL_7ed4f5a5c38146bd87377f428c206731"
      }
     },
     "5101cc89e8024969956b49f9a0978d8c": {
      "model_module": "@jupyter-widgets/base",
      "model_module_version": "1.2.0",
      "model_name": "LayoutModel",
      "state": {}
     },
     "5138ce223403427288e1b72fd7a756d1": {
      "model_module": "@jupyter-widgets/base",
      "model_module_version": "1.2.0",
      "model_name": "LayoutModel",
      "state": {}
     },
     "5158d95cc5104d47a8cb0a3ad8231d6e": {
      "model_module": "@jupyter-widgets/base",
      "model_module_version": "1.2.0",
      "model_name": "LayoutModel",
      "state": {}
     },
     "51cada25fddf48a2ac2df241f37be0ce": {
      "model_module": "@jupyter-widgets/controls",
      "model_module_version": "1.5.0",
      "model_name": "DescriptionStyleModel",
      "state": {
       "description_width": ""
      }
     },
     "529969b72de9476baa39554008cad336": {
      "model_module": "@jupyter-widgets/output",
      "model_module_version": "1.0.0",
      "model_name": "OutputModel",
      "state": {
       "layout": "IPY_MODEL_83bc225eeedf4ab8ad096586f9612ad5"
      }
     },
     "53936837abc94668828ba645b04850ea": {
      "model_module": "@jupyter-widgets/controls",
      "model_module_version": "1.5.0",
      "model_name": "TextModel",
      "state": {
       "layout": "IPY_MODEL_0f0e3db0103943e1a2c55544c632b6e9",
       "style": "IPY_MODEL_29185132d1d449fc9f630a4eb6f50789",
       "value": "Level"
      }
     },
     "5396c70aa6d3487a8757d1a69b7a186b": {
      "model_module": "@jupyter-widgets/controls",
      "model_module_version": "1.5.0",
      "model_name": "HTMLModel",
      "state": {
       "layout": "IPY_MODEL_d1dafc33cfd845a9989cef039c80059f",
       "style": "IPY_MODEL_b36fa7e811684b6b894073cc30f33b02",
       "value": "<p>0</p>"
      }
     },
     "53c32ade92664f3c9cbdbfe3c0f756d5": {
      "model_module": "@jupyter-widgets/controls",
      "model_module_version": "1.5.0",
      "model_name": "HTMLModel",
      "state": {
       "layout": "IPY_MODEL_c87f214219cd4b75afd0a28836b5ad69",
       "style": "IPY_MODEL_10050a7aa02045a9b42586a974ff2cfe",
       "value": "<p>1st section of space name code</p>"
      }
     },
     "54053b681f8d419ebffa6d52702f14a3": {
      "model_module": "@jupyter-widgets/controls",
      "model_module_version": "1.5.0",
      "model_name": "DescriptionStyleModel",
      "state": {
       "description_width": ""
      }
     },
     "543e022e35bf4537894b924f66e268ea": {
      "model_module": "@jupyter-widgets/controls",
      "model_module_version": "1.5.0",
      "model_name": "HTMLModel",
      "state": {
       "layout": "IPY_MODEL_f02b0704eb2b487b9cb42a9faed44d20",
       "style": "IPY_MODEL_c86b7336fa684786bd5a836adc49b9bf",
       "value": "<p>edit user input form below</p>"
      }
     },
     "546b6650968144c687d16f0b3dea45e4": {
      "model_module": "@jupyter-widgets/output",
      "model_module_version": "1.0.0",
      "model_name": "OutputModel",
      "state": {
       "layout": "IPY_MODEL_248febf942114e26ad279a1c3d998199"
      }
     },
     "54704f022ebe4bcd866bc0e79cf104a5": {
      "model_module": "@jupyter-widgets/controls",
      "model_module_version": "1.5.0",
      "model_name": "HBoxModel",
      "state": {
       "children": [
        "IPY_MODEL_c1e6295f96a64e099bb13b44429fae41",
        "IPY_MODEL_98f7440da10c429cb3271df72eabe97f"
       ],
       "layout": "IPY_MODEL_d95ad50f6309477e821724246e53da25"
      }
     },
     "54add1db72be4f96b0b66927d2641cac": {
      "model_module": "@jupyter-widgets/base",
      "model_module_version": "1.2.0",
      "model_name": "LayoutModel",
      "state": {
       "align_items": "stretch",
       "border": "dashed 0.2px green",
       "display": "flex",
       "flex_flow": "row",
       "grid_auto_columns": "True",
       "justify_content": "flex-start",
       "width": "100%"
      }
     },
     "54c36a291b664e2b9a00b138d9515b23": {
      "model_module": "@jupyter-widgets/base",
      "model_module_version": "1.2.0",
      "model_name": "LayoutModel",
      "state": {}
     },
     "54e4747dcf9846118612e2bc46214609": {
      "model_module": "@jupyter-widgets/base",
      "model_module_version": "1.2.0",
      "model_name": "LayoutModel",
      "state": {
       "align_items": "stretch",
       "display": "flex",
       "flex_flow": "row",
       "grid_auto_columns": "True",
       "justify_content": "flex-start",
       "width": "80%"
      }
     },
     "553bd2ade12f4797af5e25a8fc54a54b": {
      "model_module": "@jupyter-widgets/base",
      "model_module_version": "1.2.0",
      "model_name": "LayoutModel",
      "state": {}
     },
     "55d2441a5705414a9e6e79a9ea4ec55b": {
      "model_module": "@jupyter-widgets/controls",
      "model_module_version": "1.5.0",
      "model_name": "HBoxModel",
      "state": {
       "children": [
        "IPY_MODEL_b4b946e218f34228ae94e4f4f4a963ae",
        "IPY_MODEL_01fc8ab3bc2146e1a23ddcb0785c673e"
       ],
       "layout": "IPY_MODEL_e74e4d8553d14c75909d735d473cb9ff"
      }
     },
     "55de2bed73c74589b2e2910fa5335de2": {
      "model_module": "@jupyter-widgets/base",
      "model_module_version": "1.2.0",
      "model_name": "LayoutModel",
      "state": {}
     },
     "564aa38be94b491cbc34116aeef2806b": {
      "model_module": "@jupyter-widgets/controls",
      "model_module_version": "1.5.0",
      "model_name": "ButtonModel",
      "state": {
       "description": "load",
       "icon": "upload",
       "layout": "IPY_MODEL_05f91c766ebc45c0adf1a538e68c4337",
       "style": "IPY_MODEL_f899c4671f9c424384779b18b87021c5"
      }
     },
     "565fcebd162f4533bf1548f544372981": {
      "model_module": "@jupyter-widgets/controls",
      "model_module_version": "1.5.0",
      "model_name": "DescriptionStyleModel",
      "state": {
       "description_width": ""
      }
     },
     "56a45bc385794a54a4a5468b7080d93a": {
      "model_module": "@jupyter-widgets/base",
      "model_module_version": "1.2.0",
      "model_name": "LayoutModel",
      "state": {}
     },
     "574506d806ce4d0ba57d75a444047840": {
      "model_module": "@jupyter-widgets/controls",
      "model_module_version": "1.5.0",
      "model_name": "VBoxModel",
      "state": {
       "children": [
        "IPY_MODEL_929b0b0ba08e410bb6a1bd71d0b50d34",
        "IPY_MODEL_5a9e8225bf7b43e6943170f47d7ab666"
       ],
       "layout": "IPY_MODEL_b8d0f871f9a040358d4ece56535668e1"
      }
     },
     "574ec002ecba4595bb1aa38c477f02c6": {
      "model_module": "@jupyter-widgets/base",
      "model_module_version": "1.2.0",
      "model_name": "LayoutModel",
      "state": {
       "height": "30px",
       "width": "auto"
      }
     },
     "574f381cd1164e469ca091cea08065b8": {
      "model_module": "@jupyter-widgets/base",
      "model_module_version": "1.2.0",
      "model_name": "LayoutModel",
      "state": {}
     },
     "578d994af5a747da8d440ac5c98b621b": {
      "model_module": "@jupyter-widgets/base",
      "model_module_version": "1.2.0",
      "model_name": "LayoutModel",
      "state": {
       "align_items": "stretch",
       "border": "dashed 0.2px green",
       "display": "flex",
       "flex_flow": "row",
       "grid_auto_columns": "True",
       "justify_content": "flex-start",
       "width": "100%"
      }
     },
     "5797e025fe82403284b43cd6b3332aa3": {
      "model_module": "@jupyter-widgets/controls",
      "model_module_version": "1.5.0",
      "model_name": "HBoxModel",
      "state": {
       "children": [
        "IPY_MODEL_61adebc1151d468bbbb3d2e551217b31",
        "IPY_MODEL_bf93967354ca4efbb8fd0dcd7fd93710"
       ],
       "layout": "IPY_MODEL_4328ac6ce95d4c249a1491676d82f50b"
      }
     },
     "581b81fdbcde44f4a62154d6d8617e1e": {
      "model_module": "@jupyter-widgets/base",
      "model_module_version": "1.2.0",
      "model_name": "LayoutModel",
      "state": {}
     },
     "5822331acaa64b5fb03cd444aced3eb7": {
      "model_module": "@jupyter-widgets/controls",
      "model_module_version": "1.5.0",
      "model_name": "HBoxModel",
      "state": {
       "children": [
        "IPY_MODEL_d0563bbd37dd4ac1b6663968a50a88f8",
        "IPY_MODEL_97c53a8f776146d6b1bab8d6d96431ac"
       ],
       "layout": "IPY_MODEL_f4d34a17d1f744b98e3dd5d55a2c31fc"
      }
     },
     "587bc7ff329a41bc9f3c267b10602262": {
      "model_module": "@jupyter-widgets/controls",
      "model_module_version": "1.5.0",
      "model_name": "HBoxModel",
      "state": {
       "children": [
        "IPY_MODEL_fd7496d1306746e39db5c7b5cade43ce",
        "IPY_MODEL_c35ee1310a0e47e4bc4f4d49b6721322"
       ],
       "layout": "IPY_MODEL_78bb0a55eff442c6ab38e9849caf2ec1"
      }
     },
     "58d42ffc73d44a6ba65d628c63e30d80": {
      "model_module": "@jupyter-widgets/base",
      "model_module_version": "1.2.0",
      "model_name": "LayoutModel",
      "state": {}
     },
     "593bd26d0d914f5187e1cd7461c1ba05": {
      "model_module": "@jupyter-widgets/output",
      "model_module_version": "1.0.0",
      "model_name": "OutputModel",
      "state": {
       "layout": "IPY_MODEL_249dc0252a4446eca2c087bb2445b216"
      }
     },
     "59a0cf05884941e9adcffe332ee5e082": {
      "model_module": "@jupyter-widgets/base",
      "model_module_version": "1.2.0",
      "model_name": "LayoutModel",
      "state": {
       "height": "30px",
       "max_width": "30px",
       "padding": "3px"
      }
     },
     "5a4de49d523748239d2f405253496a42": {
      "model_module": "@jupyter-widgets/base",
      "model_module_version": "1.2.0",
      "model_name": "LayoutModel",
      "state": {}
     },
     "5a516a744f56410abf75ec22769de0f2": {
      "model_module": "@jupyter-widgets/controls",
      "model_module_version": "1.5.0",
      "model_name": "DescriptionStyleModel",
      "state": {
       "description_width": ""
      }
     },
     "5a9e8225bf7b43e6943170f47d7ab666": {
      "model_module": "@jupyter-widgets/controls",
      "model_module_version": "1.5.0",
      "model_name": "VBoxModel",
      "state": {
       "children": [
        "IPY_MODEL_0419eccbea5e4bc59afb54653d7a1841",
        "IPY_MODEL_764d553a369840ceb717f1e706f8cb94",
        "IPY_MODEL_4eaf3d0fd88a4eae97aed7b2dc042dda"
       ],
       "layout": "IPY_MODEL_ced66de7a1064e22a96800f81496e41b"
      }
     },
     "5b786f7a623b4cedb10b8fabc440e949": {
      "model_module": "@jupyter-widgets/base",
      "model_module_version": "1.2.0",
      "model_name": "LayoutModel",
      "state": {}
     },
     "5d337502393e416cbb62509b746e9e6f": {
      "model_module": "@jupyter-widgets/controls",
      "model_module_version": "1.5.0",
      "model_name": "DescriptionStyleModel",
      "state": {
       "description_width": ""
      }
     },
     "5d5b711aa9314383b9d644c12ad294c6": {
      "model_module": "@jupyter-widgets/base",
      "model_module_version": "1.2.0",
      "model_name": "LayoutModel",
      "state": {
       "align_items": "stretch",
       "border": "dashed 0.2px green",
       "display": "flex",
       "flex_flow": "row",
       "grid_auto_columns": "True",
       "justify_content": "flex-start",
       "width": "100%"
      }
     },
     "5dcdcc7a876249d3ab883c6be8fb8713": {
      "model_module": "@jupyter-widgets/controls",
      "model_module_version": "1.5.0",
      "model_name": "DescriptionStyleModel",
      "state": {
       "description_width": ""
      }
     },
     "5dfcae0268db47d385276396212a8d7b": {
      "model_module": "@jupyter-widgets/base",
      "model_module_version": "1.2.0",
      "model_name": "LayoutModel",
      "state": {}
     },
     "5e4117bd371d4e7595f25204f233599e": {
      "model_module": "@jupyter-widgets/controls",
      "model_module_version": "1.5.0",
      "model_name": "HBoxModel",
      "state": {
       "children": [
        "IPY_MODEL_7a030f4c22134083a6b7ddceb79ef677",
        "IPY_MODEL_684d4887c91447e2bc846e766fa2fa9c"
       ],
       "layout": "IPY_MODEL_8725952fa01d4e7ca990d8dbafe2eaa1"
      }
     },
     "5e431365bfc041ef91111977bacd4135": {
      "model_module": "@jupyter-widgets/controls",
      "model_module_version": "1.5.0",
      "model_name": "VBoxModel",
      "state": {
       "children": [
        "IPY_MODEL_8a094c02d05444509a478c7c3b5aaa06",
        "IPY_MODEL_4b9db4abacf84491b294fb47f093e6fb",
        "IPY_MODEL_b0fd90fa8fa64f059cdadf09243994b8"
       ],
       "layout": "IPY_MODEL_7f880bf6a1354a028f5a50e70655c5e9"
      }
     },
     "5e6519b37a774a13a5b99da32a1618cf": {
      "model_module": "@jupyter-widgets/controls",
      "model_module_version": "1.5.0",
      "model_name": "DescriptionStyleModel",
      "state": {
       "description_width": ""
      }
     },
     "5ecff3c063a046dda856a6745c347cea": {
      "model_module": "@jupyter-widgets/controls",
      "model_module_version": "1.5.0",
      "model_name": "DescriptionStyleModel",
      "state": {
       "description_width": ""
      }
     },
     "5ef4ec6404c54b8f9a57d86b21a7492d": {
      "model_module": "@jupyter-widgets/controls",
      "model_module_version": "1.5.0",
      "model_name": "DescriptionStyleModel",
      "state": {
       "description_width": ""
      }
     },
     "5f070b61e029472b819e1224495b4831": {
      "model_module": "@jupyter-widgets/base",
      "model_module_version": "1.2.0",
      "model_name": "LayoutModel",
      "state": {
       "height": "30px",
       "width": "auto"
      }
     },
     "5fdfa6a015d440b892543b057d169834": {
      "model_module": "@jupyter-widgets/controls",
      "model_module_version": "1.5.0",
      "model_name": "HBoxModel",
      "state": {
       "children": [
        "IPY_MODEL_7a9981a93a1e4c3498de22dcef78a932"
       ],
       "layout": "IPY_MODEL_578d994af5a747da8d440ac5c98b621b"
      }
     },
     "601158a432344a7284405191e241c1fa": {
      "model_module": "@jupyter-widgets/base",
      "model_module_version": "1.2.0",
      "model_name": "LayoutModel",
      "state": {
       "align_items": "stretch",
       "border": "dashed 0.2px green",
       "display": "flex",
       "flex_flow": "row",
       "grid_auto_columns": "True",
       "justify_content": "flex-start",
       "width": "100%"
      }
     },
     "60178d5a27c441e6b3346a99f8cef1fb": {
      "model_module": "@jupyter-widgets/controls",
      "model_module_version": "1.5.0",
      "model_name": "ToggleButtonModel",
      "state": {
       "button_style": "success",
       "description": "display/hide files",
       "layout": "IPY_MODEL_b035f8bec8ca482d9e2dcd6a0cca5687",
       "style": "IPY_MODEL_db5f0feff6cb46449f41d584a1cf2ba1",
       "tooltip": "shows and hides display outputs of the files selected in the SelectMultiple dropdown menu"
      }
     },
     "61adebc1151d468bbbb3d2e551217b31": {
      "model_module": "@jupyter-widgets/controls",
      "model_module_version": "1.5.0",
      "model_name": "HTMLModel",
      "state": {
       "layout": "IPY_MODEL_9a223a7a83ae41438149101e3683e871",
       "style": "IPY_MODEL_51cada25fddf48a2ac2df241f37be0ce",
       "value": "<p>4</p>"
      }
     },
     "6293b656a3b14fe3a5e4fb23c74d48a5": {
      "model_module": "@jupyter-widgets/controls",
      "model_module_version": "1.5.0",
      "model_name": "HBoxModel",
      "state": {
       "children": [
        "IPY_MODEL_7fed9177631b412cb7c0316bbcdfb184",
        "IPY_MODEL_8db19d5720e04d6f887d2f68c01a06ac"
       ],
       "layout": "IPY_MODEL_27dcdfee142d4436a01f2c0db3955b89"
      }
     },
     "632078f4dd0b4b5aa7e13901163c2465": {
      "model_module": "@jupyter-widgets/base",
      "model_module_version": "1.2.0",
      "model_name": "LayoutModel",
      "state": {
       "align_items": "stretch",
       "border": "dashed 0.2px green",
       "display": "flex",
       "flex_flow": "row",
       "grid_auto_columns": "True",
       "justify_content": "flex-start",
       "width": "100%"
      }
     },
     "632ca43054234d6da183212ef36b2af8": {
      "model_module": "@jupyter-widgets/controls",
      "model_module_version": "1.5.0",
      "model_name": "DescriptionStyleModel",
      "state": {
       "description_width": ""
      }
     },
     "63716bef48134793bb5a0dcab1bab466": {
      "model_module": "@jupyter-widgets/base",
      "model_module_version": "1.2.0",
      "model_name": "LayoutModel",
      "state": {}
     },
     "64301d6d23ca4e69848437c4b807fcdf": {
      "model_module": "@jupyter-widgets/controls",
      "model_module_version": "1.5.0",
      "model_name": "DescriptionStyleModel",
      "state": {
       "description_width": ""
      }
     },
     "6487c116be1e4319b51d695a6209c89b": {
      "model_module": "@jupyter-widgets/controls",
      "model_module_version": "1.5.0",
      "model_name": "TextModel",
      "state": {
       "layout": "IPY_MODEL_7214c4e7c6e04a428bd18d64c38bea19",
       "style": "IPY_MODEL_bc6a4fa7bf5f4d99904843dfead8a834",
       "value": "SpaceId"
      }
     },
     "6495af5209f944ba9af362a55384dd35": {
      "model_module": "@jupyter-widgets/output",
      "model_module_version": "1.0.0",
      "model_name": "OutputModel",
      "state": {
       "layout": "IPY_MODEL_294d33d6ab0242708f4cd1b14f11d219"
      }
     },
     "659bdc5c69a1466c8455012267104ea0": {
      "model_module": "@jupyter-widgets/controls",
      "model_module_version": "1.5.0",
      "model_name": "HTMLModel",
      "state": {
       "layout": "IPY_MODEL_8f32b54c33dc4d79a5ae4a9e188e1330",
       "style": "IPY_MODEL_e08ef68b4deb4d36aedb16d5148e7088",
       "value": "<p>4th section of space name code (enter None if 4th section doesn't exist)</p>"
      }
     },
     "65e2c109c59e48d29c3fd5e30b110092": {
      "model_module": "@jupyter-widgets/base",
      "model_module_version": "1.2.0",
      "model_name": "LayoutModel",
      "state": {}
     },
     "65e7778aa7e649d1b5b76d06197c8e9b": {
      "model_module": "@jupyter-widgets/base",
      "model_module_version": "1.2.0",
      "model_name": "LayoutModel",
      "state": {}
     },
     "66080e71510c4ad0819d11a39d601aa9": {
      "model_module": "@jupyter-widgets/controls",
      "model_module_version": "1.5.0",
      "model_name": "DescriptionStyleModel",
      "state": {
       "description_width": ""
      }
     },
     "662d5fe7d4dc445495d84297c26b0d17": {
      "model_module": "@jupyter-widgets/controls",
      "model_module_version": "1.5.0",
      "model_name": "DescriptionStyleModel",
      "state": {
       "description_width": ""
      }
     },
     "6668361e4693448eb102c60d3d7d4c42": {
      "model_module": "@jupyter-widgets/controls",
      "model_module_version": "1.5.0",
      "model_name": "HBoxModel",
      "state": {
       "children": [
        "IPY_MODEL_d55e058e5de24187ba675779f30b5cee",
        "IPY_MODEL_6293b656a3b14fe3a5e4fb23c74d48a5"
       ],
       "layout": "IPY_MODEL_c9ee063d96cc4f02aa1779f01a786a22"
      }
     },
     "669cead330fe451b977aa5b4b5b1dd59": {
      "model_module": "@jupyter-widgets/controls",
      "model_module_version": "1.5.0",
      "model_name": "HBoxModel",
      "state": {
       "children": [
        "IPY_MODEL_6df348363b614685a567a427781643a6"
       ],
       "layout": "IPY_MODEL_4f8987c5086548a187a3efe03e87089a"
      }
     },
     "66eb460620ae44f4ace6937de77f7841": {
      "model_module": "@jupyter-widgets/controls",
      "model_module_version": "1.5.0",
      "model_name": "CheckboxModel",
      "state": {
       "disabled": false,
       "indent": false,
       "layout": "IPY_MODEL_59a0cf05884941e9adcffe332ee5e082",
       "style": "IPY_MODEL_d7e1e5206a3046a8971c08a314186d41",
       "value": false
      }
     },
     "673de2d1f8814f8aaeebca0f99b95f9d": {
      "model_module": "@jupyter-widgets/controls",
      "model_module_version": "1.5.0",
      "model_name": "HBoxModel",
      "state": {
       "children": [
        "IPY_MODEL_ff94ad602a5c4ac0834090aa3e6d243a"
       ],
       "layout": "IPY_MODEL_1217c4a8cf67405ca7797570fbb11470"
      }
     },
     "67a8851ee55948909370cdd7bdec4451": {
      "model_module": "@jupyter-widgets/base",
      "model_module_version": "1.2.0",
      "model_name": "LayoutModel",
      "state": {}
     },
     "684d4887c91447e2bc846e766fa2fa9c": {
      "model_module": "@jupyter-widgets/controls",
      "model_module_version": "1.5.0",
      "model_name": "HTMLModel",
      "state": {
       "layout": "IPY_MODEL_2ed700b1d4fd4d5bb7583cdbf86ca41f",
       "style": "IPY_MODEL_1ae1a35d6e66450faecf2190f574e5fd",
       "value": "<p>2nd section of space name code</p>"
      }
     },
     "68959c7d3acb40baaca322b226e8c062": {
      "model_module": "@jupyter-widgets/base",
      "model_module_version": "1.2.0",
      "model_name": "LayoutModel",
      "state": {}
     },
     "693058bce46646d5a111249fb1eb50a6": {
      "model_module": "@jupyter-widgets/controls",
      "model_module_version": "1.5.0",
      "model_name": "DescriptionStyleModel",
      "state": {
       "description_width": ""
      }
     },
     "6958c01744f246b8a63f2c461bade2d0": {
      "model_module": "@jupyter-widgets/base",
      "model_module_version": "1.2.0",
      "model_name": "LayoutModel",
      "state": {}
     },
     "6a3be84f13534a8e94e48845065bed0f": {
      "model_module": "@jupyter-widgets/controls",
      "model_module_version": "1.5.0",
      "model_name": "HBoxModel",
      "state": {
       "children": [
        "IPY_MODEL_46e184f0eb364bb394db429464033601"
       ],
       "layout": "IPY_MODEL_7298f3ed4dd94e609a9096ac780896d6"
      }
     },
     "6a4ddc27329c41e68b7b24f0605d6865": {
      "model_module": "@jupyter-widgets/controls",
      "model_module_version": "1.5.0",
      "model_name": "HBoxModel",
      "state": {
       "children": [
        "IPY_MODEL_7aa8ae3cdecf499abff731bc84e0ea5a"
       ],
       "layout": "IPY_MODEL_94867470731c4a6791ff37f183e204a3"
      }
     },
     "6a73cc01d1d44b59b37497bcd940118c": {
      "model_module": "@jupyter-widgets/controls",
      "model_module_version": "1.5.0",
      "model_name": "HBoxModel",
      "state": {
       "children": [
        "IPY_MODEL_66eb460620ae44f4ace6937de77f7841",
        "IPY_MODEL_4d6172b6d34e4bdbb76477152560ae56"
       ],
       "layout": "IPY_MODEL_43002e477882467dac91be37d997a816"
      }
     },
     "6a9ff902302c43a8b5d7fb4feb09b9d0": {
      "model_module": "@jupyter-widgets/base",
      "model_module_version": "1.2.0",
      "model_name": "LayoutModel",
      "state": {}
     },
     "6b6a163be82343708765daa7cba94e0f": {
      "model_module": "@jupyter-widgets/base",
      "model_module_version": "1.2.0",
      "model_name": "LayoutModel",
      "state": {}
     },
     "6ba7652a38604585a11f4616937c0109": {
      "model_module": "@jupyter-widgets/output",
      "model_module_version": "1.0.0",
      "model_name": "OutputModel",
      "state": {
       "layout": "IPY_MODEL_dd1a338066a54d398f30c776f2bfad99"
      }
     },
     "6be4d1b7610746e9a0863b33e8058e5a": {
      "model_module": "@jupyter-widgets/base",
      "model_module_version": "1.2.0",
      "model_name": "LayoutModel",
      "state": {
       "align_items": "stretch",
       "border": "dashed 0.2px green",
       "display": "flex",
       "flex_flow": "row",
       "grid_auto_columns": "True",
       "justify_content": "flex-start",
       "width": "100%"
      }
     },
     "6c3b1a206a1c488c84326feae5733cf7": {
      "model_module": "@jupyter-widgets/base",
      "model_module_version": "1.2.0",
      "model_name": "LayoutModel",
      "state": {
       "align_items": "stretch",
       "border": "dashed 0.2px green",
       "display": "flex",
       "flex_flow": "row",
       "grid_auto_columns": "True",
       "justify_content": "flex-start",
       "width": "100%"
      }
     },
     "6c4c1fee10f94b5eafebb58975cd47a5": {
      "model_module": "@jupyter-widgets/controls",
      "model_module_version": "1.5.0",
      "model_name": "HTMLModel",
      "state": {
       "layout": "IPY_MODEL_2b0402aad2a440f7951c8b113c555c02",
       "style": "IPY_MODEL_2dcb5e543ebd46ba8f067cdeab92fc0b",
       "value": "<p>3</p>"
      }
     },
     "6cebf523e06343bb8ebd77f9f9989763": {
      "model_module": "@jupyter-widgets/base",
      "model_module_version": "1.2.0",
      "model_name": "LayoutModel",
      "state": {
       "align_items": "stretch",
       "display": "flex",
       "flex_flow": "row",
       "grid_auto_columns": "True",
       "justify_content": "flex-end",
       "width": "90%"
      }
     },
     "6d69d57555444ad6b8c8a8611a5da9e8": {
      "model_module": "@jupyter-widgets/base",
      "model_module_version": "1.2.0",
      "model_name": "LayoutModel",
      "state": {}
     },
     "6d93e08a4f4045a99660c6654aa9e263": {
      "model_module": "@jupyter-widgets/base",
      "model_module_version": "1.2.0",
      "model_name": "LayoutModel",
      "state": {}
     },
     "6de502f6b6a14d548f7fbf91fa0b7126": {
      "model_module": "@jupyter-widgets/controls",
      "model_module_version": "1.5.0",
      "model_name": "DescriptionStyleModel",
      "state": {
       "description_width": ""
      }
     },
     "6df348363b614685a567a427781643a6": {
      "model_module": "@jupyter-widgets/controls",
      "model_module_version": "1.5.0",
      "model_name": "HBoxModel",
      "state": {
       "children": [
        "IPY_MODEL_ccef28c795154fa2a22d6ccd97369931",
        "IPY_MODEL_127b7be5ebbf4c6a957a0544910c839f"
       ],
       "layout": "IPY_MODEL_cb11436fd3d74caca69ef7496104c9ef"
      }
     },
     "6e3a29212dda47818f2543719425a25d": {
      "model_module": "@jupyter-widgets/controls",
      "model_module_version": "1.5.0",
      "model_name": "DescriptionStyleModel",
      "state": {
       "description_width": ""
      }
     },
     "6edab272ba7b439090e8caea8bb86c4d": {
      "model_module": "@jupyter-widgets/controls",
      "model_module_version": "1.5.0",
      "model_name": "TextModel",
      "state": {
       "layout": "IPY_MODEL_85cd08160ee04cc3b9e5efb675294f52",
       "style": "IPY_MODEL_c399739238ef4d6499a5b5fa20bc27b4",
       "value": "Level"
      }
     },
     "6fdfacda57014fd8bf21dbea3cf13de8": {
      "model_module": "@jupyter-widgets/controls",
      "model_module_version": "1.5.0",
      "model_name": "TextModel",
      "state": {
       "layout": "IPY_MODEL_ab1122cd6a7f429e9dc025dd5446383d",
       "style": "IPY_MODEL_cdbad8c00343447fbdc382a333eabacb",
       "value": "SpaceId"
      }
     },
     "700cb12a09cb47aa896d7fb734c5833f": {
      "model_module": "@jupyter-widgets/controls",
      "model_module_version": "1.5.0",
      "model_name": "ButtonModel",
      "state": {
       "description": "load",
       "icon": "upload",
       "layout": "IPY_MODEL_80abc715980842fd9fef54fcf2755197",
       "style": "IPY_MODEL_18f7c7ef2d174184b955ee443371ca58"
      }
     },
     "701f1f40059e4c249b11f9375ce69386": {
      "model_module": "@jupyter-widgets/base",
      "model_module_version": "1.2.0",
      "model_name": "LayoutModel",
      "state": {
       "align_items": "stretch",
       "border": "dashed 0.2px green",
       "display": "flex",
       "flex_flow": "row",
       "grid_auto_columns": "True",
       "justify_content": "flex-start",
       "width": "100%"
      }
     },
     "70739bc095a147a397113bc6426b6f5b": {
      "model_module": "@jupyter-widgets/base",
      "model_module_version": "1.2.0",
      "model_name": "LayoutModel",
      "state": {}
     },
     "70edcd0765f446368cd411861444b3a3": {
      "model_module": "@jupyter-widgets/controls",
      "model_module_version": "1.5.0",
      "model_name": "HTMLModel",
      "state": {
       "layout": "IPY_MODEL_7aecc90857a043fdb40c9d98ba1018d0",
       "style": "IPY_MODEL_acee701aafbf47f78681ab9d743eecda",
       "value": "<p>spc_name_index</p>"
      }
     },
     "717e77bfda89428ca240737007d0931b": {
      "model_module": "@jupyter-widgets/controls",
      "model_module_version": "1.5.0",
      "model_name": "DescriptionStyleModel",
      "state": {
       "description_width": ""
      }
     },
     "7183499a94b248b682fa7fb1e16a5b52": {
      "model_module": "@jupyter-widgets/controls",
      "model_module_version": "1.5.0",
      "model_name": "DescriptionStyleModel",
      "state": {
       "description_width": ""
      }
     },
     "7214c4e7c6e04a428bd18d64c38bea19": {
      "model_module": "@jupyter-widgets/base",
      "model_module_version": "1.2.0",
      "model_name": "LayoutModel",
      "state": {}
     },
     "7298f3ed4dd94e609a9096ac780896d6": {
      "model_module": "@jupyter-widgets/base",
      "model_module_version": "1.2.0",
      "model_name": "LayoutModel",
      "state": {
       "align_items": "stretch",
       "border": "dashed 0.2px green",
       "display": "flex",
       "flex_flow": "row",
       "grid_auto_columns": "True",
       "justify_content": "flex-start",
       "width": "100%"
      }
     },
     "72d3c3cedd5c441e9c05973424295013": {
      "model_module": "@jupyter-widgets/base",
      "model_module_version": "1.2.0",
      "model_name": "LayoutModel",
      "state": {}
     },
     "7343a48cdf154865800bee63ecd4549b": {
      "model_module": "@jupyter-widgets/controls",
      "model_module_version": "1.5.0",
      "model_name": "AccordionModel",
      "state": {
       "_titles": {
        "0": "gbxml"
       },
       "children": [
        "IPY_MODEL_574506d806ce4d0ba57d75a444047840"
       ],
       "layout": "IPY_MODEL_110e843c4e2042d19dd314133827bcaf",
       "selected_index": null
      }
     },
     "73d794ceb1474ccc968b477ce5796166": {
      "model_module": "@jupyter-widgets/base",
      "model_module_version": "1.2.0",
      "model_name": "LayoutModel",
      "state": {
       "width": "5%"
      }
     },
     "74a462c1f0ba4734ad876a3d16ce610c": {
      "model_module": "@jupyter-widgets/controls",
      "model_module_version": "1.5.0",
      "model_name": "HBoxModel",
      "state": {
       "children": [
        "IPY_MODEL_3b0bdef1b66e49eb8eb2bce31062372d",
        "IPY_MODEL_be105c93b1fa4406be7d665d1aea856f",
        "IPY_MODEL_3e9314ecbd904390855eae763c55df76"
       ],
       "layout": "IPY_MODEL_4837e82c4f294730b5ac6cd0b0c2b2c1"
      }
     },
     "75d43012c6194138b85cef67479952a0": {
      "model_module": "@jupyter-widgets/controls",
      "model_module_version": "1.5.0",
      "model_name": "HBoxModel",
      "state": {
       "children": [
        "IPY_MODEL_e467c2d358484b8ba564a9df15685a10",
        "IPY_MODEL_375d4be827814b5482b4897342f6147c"
       ],
       "layout": "IPY_MODEL_b12e0555f17d4a24a9879e560ee08208"
      }
     },
     "75ed9ce96c724430b5febad139b074db": {
      "model_module": "@jupyter-widgets/controls",
      "model_module_version": "1.5.0",
      "model_name": "TextModel",
      "state": {
       "layout": "IPY_MODEL_c043ce2862954a909f288e7493189098",
       "style": "IPY_MODEL_e63fbb45a3494546b79e583bee5bf2a9",
       "value": "SpaceType"
      }
     },
     "761f91399e944f2f8fe15ef4541f9916": {
      "model_module": "@jupyter-widgets/output",
      "model_module_version": "1.0.0",
      "model_name": "OutputModel",
      "state": {
       "layout": "IPY_MODEL_581b81fdbcde44f4a62154d6d8617e1e"
      }
     },
     "7633ddef6fa24021b351f77a4565da0c": {
      "model_module": "@jupyter-widgets/base",
      "model_module_version": "1.2.0",
      "model_name": "LayoutModel",
      "state": {}
     },
     "764d553a369840ceb717f1e706f8cb94": {
      "model_module": "@jupyter-widgets/controls",
      "model_module_version": "1.5.0",
      "model_name": "TextModel",
      "state": {
       "description": "script",
       "disabled": true,
       "layout": "IPY_MODEL_a70d8a61d0dc47f68ef0da21e7e79baa",
       "style": "IPY_MODEL_af133b076c6d425188ca8052a78869a6",
       "value": "C:\\engDev\\git_mf\\MF_Toolbox\\dev\\mf_scripts\\gbxml.py"
      }
     },
     "771a84ef2a794367aea2f580fc44b39e": {
      "model_module": "@jupyter-widgets/controls",
      "model_module_version": "1.5.0",
      "model_name": "HBoxModel",
      "state": {
       "children": [
        "IPY_MODEL_92e87cad18774810b75c7b5e3580fc14"
       ],
       "layout": "IPY_MODEL_5d5b711aa9314383b9d644c12ad294c6"
      }
     },
     "77547d2e60a1459c9693b19958442413": {
      "model_module": "@jupyter-widgets/controls",
      "model_module_version": "1.5.0",
      "model_name": "VBoxModel",
      "state": {
       "children": [
        "IPY_MODEL_74a462c1f0ba4734ad876a3d16ce610c",
        "IPY_MODEL_543e022e35bf4537894b924f66e268ea",
        "IPY_MODEL_abe817f72595494197758c46eb8cb9c2"
       ],
       "layout": "IPY_MODEL_b4e7d11b63f24a39b08e4f94ca57e260"
      }
     },
     "78bb0a55eff442c6ab38e9849caf2ec1": {
      "model_module": "@jupyter-widgets/base",
      "model_module_version": "1.2.0",
      "model_name": "LayoutModel",
      "state": {
       "align_items": "stretch",
       "display": "flex",
       "flex_flow": "row",
       "grid_auto_columns": "True",
       "justify_content": "flex-end",
       "width": "90%"
      }
     },
     "7935a4351cb144dea565ba78799dfc10": {
      "model_module": "@jupyter-widgets/controls",
      "model_module_version": "1.5.0",
      "model_name": "DescriptionStyleModel",
      "state": {
       "description_width": ""
      }
     },
     "7a030f4c22134083a6b7ddceb79ef677": {
      "model_module": "@jupyter-widgets/controls",
      "model_module_version": "1.5.0",
      "model_name": "TextModel",
      "state": {
       "layout": "IPY_MODEL_23cde4600f8a475aa1f73e1eefb1c4d2",
       "style": "IPY_MODEL_e4feb6888702409c8eddb4b97efc6806",
       "value": "Level"
      }
     },
     "7a0f7288100a42cb834abd6b0529929a": {
      "model_module": "@jupyter-widgets/base",
      "model_module_version": "1.2.0",
      "model_name": "LayoutModel",
      "state": {
       "align_items": "stretch",
       "display": "flex",
       "flex_flow": "row",
       "grid_auto_columns": "True",
       "justify_content": "flex-start",
       "width": "80%"
      }
     },
     "7a17fc6a686a4ed18d7f393639b6a9ed": {
      "model_module": "@jupyter-widgets/controls",
      "model_module_version": "1.5.0",
      "model_name": "HBoxModel",
      "state": {
       "children": [
        "IPY_MODEL_587bc7ff329a41bc9f3c267b10602262"
       ],
       "layout": "IPY_MODEL_c34831b010b84911ab1731bf27891cc4"
      }
     },
     "7a9981a93a1e4c3498de22dcef78a932": {
      "model_module": "@jupyter-widgets/controls",
      "model_module_version": "1.5.0",
      "model_name": "HBoxModel",
      "state": {
       "children": [
        "IPY_MODEL_5396c70aa6d3487a8757d1a69b7a186b",
        "IPY_MODEL_1daeed6581d64a79a3abb87d4eaedd0a"
       ],
       "layout": "IPY_MODEL_fc33c1dfc4c24ba2a08cf2977695750b"
      }
     },
     "7aa140c21e7440aab98d81bccfdab5a7": {
      "model_module": "@jupyter-widgets/controls",
      "model_module_version": "1.5.0",
      "model_name": "HBoxModel",
      "state": {
       "children": [
        "IPY_MODEL_d306a37e956b4fffbf7c6839f8ba1f47"
       ],
       "layout": "IPY_MODEL_6be4d1b7610746e9a0863b33e8058e5a"
      }
     },
     "7aa8ae3cdecf499abff731bc84e0ea5a": {
      "model_module": "@jupyter-widgets/controls",
      "model_module_version": "1.5.0",
      "model_name": "HBoxModel",
      "state": {
       "children": [
        "IPY_MODEL_a2a3beb75a3c4c03ae507983fa612b5e",
        "IPY_MODEL_992af1d2ef59460dafe6a180a4681708"
       ],
       "layout": "IPY_MODEL_df6a917ae0a946ae954bb0d3abad320e"
      }
     },
     "7ad0029cc55c4d3e9b682fed182b4b82": {
      "model_module": "@jupyter-widgets/output",
      "model_module_version": "1.0.0",
      "model_name": "OutputModel",
      "state": {
       "layout": "IPY_MODEL_24f9090db0cd45e29fe6d52f491ed905"
      }
     },
     "7aecc90857a043fdb40c9d98ba1018d0": {
      "model_module": "@jupyter-widgets/base",
      "model_module_version": "1.2.0",
      "model_name": "LayoutModel",
      "state": {}
     },
     "7af60b7beed64121b9e362aa7c304749": {
      "model_module": "@jupyter-widgets/base",
      "model_module_version": "1.2.0",
      "model_name": "LayoutModel",
      "state": {}
     },
     "7afc646dbfbd49e592714c9d447f7ccd": {
      "model_module": "@jupyter-widgets/controls",
      "model_module_version": "1.5.0",
      "model_name": "SelectMultipleModel",
      "state": {
       "_options_labels": [
        "gbxml.xml",
        "gbjson.json",
        "gbxml_datagrab.xlsx",
        "gbxml_spcs-treemap.png"
       ],
       "index": [
        1
       ],
       "layout": "IPY_MODEL_2b06f639c77a42b7a32f4c78b4d691bd",
       "rows": 5,
       "style": "IPY_MODEL_693058bce46646d5a111249fb1eb50a6"
      }
     },
     "7caeb22e0f1c4fb59824f1ac2b2b7e45": {
      "model_module": "@jupyter-widgets/controls",
      "model_module_version": "1.5.0",
      "model_name": "DescriptionStyleModel",
      "state": {
       "description_width": ""
      }
     },
     "7cd8de368576400d8e4dcc500ada9416": {
      "model_module": "@jupyter-widgets/base",
      "model_module_version": "1.2.0",
      "model_name": "LayoutModel",
      "state": {
       "align_items": "stretch",
       "display": "flex",
       "flex_flow": "row",
       "grid_auto_columns": "True",
       "justify_content": "flex-start",
       "width": "80%"
      }
     },
     "7deb04c015454ae9ae37249c2a6f41fd": {
      "model_module": "@jupyter-widgets/controls",
      "model_module_version": "1.5.0",
      "model_name": "HBoxModel",
      "state": {
       "children": [
        "IPY_MODEL_6668361e4693448eb102c60d3d7d4c42"
       ],
       "layout": "IPY_MODEL_3e9fa005da1940baa1ea4d3dc3e4a627"
      }
     },
     "7ed4f5a5c38146bd87377f428c206731": {
      "model_module": "@jupyter-widgets/controls",
      "model_module_version": "1.5.0",
      "model_name": "DescriptionStyleModel",
      "state": {
       "description_width": ""
      }
     },
     "7edfddd19fc0444aa8c8277b33fa3fda": {
      "model_module": "@jupyter-widgets/controls",
      "model_module_version": "1.5.0",
      "model_name": "DescriptionStyleModel",
      "state": {
       "description_width": ""
      }
     },
     "7f6dc193a9254617a7ee27adcab81ab8": {
      "model_module": "@jupyter-widgets/base",
      "model_module_version": "1.2.0",
      "model_name": "LayoutModel",
      "state": {}
     },
     "7f880bf6a1354a028f5a50e70655c5e9": {
      "model_module": "@jupyter-widgets/base",
      "model_module_version": "1.2.0",
      "model_name": "LayoutModel",
      "state": {}
     },
     "7fed9177631b412cb7c0316bbcdfb184": {
      "model_module": "@jupyter-widgets/controls",
      "model_module_version": "1.5.0",
      "model_name": "TextModel",
      "state": {
       "layout": "IPY_MODEL_06f3bfda7a4e4e7fad7eb44bdb407d76",
       "style": "IPY_MODEL_eecf65acfa99496cb021c85f843bc2c3",
       "value": "TM46Category"
      }
     },
     "7ffdf73c815241d2ae68150403489aa4": {
      "model_module": "@jupyter-widgets/base",
      "model_module_version": "1.2.0",
      "model_name": "LayoutModel",
      "state": {}
     },
     "80004761c17045e7a5291f411d82acc2": {
      "model_module": "@jupyter-widgets/controls",
      "model_module_version": "1.5.0",
      "model_name": "HTMLModel",
      "state": {
       "layout": "IPY_MODEL_f1d2d4252d4145409663743b65955c49",
       "style": "IPY_MODEL_ccb28eed3ba8419baced6936b15ad382",
       "value": "<p>4th section of space name code (enter None if 4th section doesn't exist)</p>"
      }
     },
     "8020f5131f624dd69da30d33dc7e7060": {
      "model_module": "@jupyter-widgets/controls",
      "model_module_version": "1.5.0",
      "model_name": "HTMLModel",
      "state": {
       "layout": "IPY_MODEL_9e8b0c28d3ec4ad0bdb8762784860e29",
       "style": "IPY_MODEL_8ca3754bf88149d1a296bcb1d18dd41d",
       "value": "<p>5th section of space name code (enter None if 5th section doesn't exist)</p>"
      }
     },
     "809c7fefec4e48f0acea9962719ae23c": {
      "model_module": "@jupyter-widgets/controls",
      "model_module_version": "1.5.0",
      "model_name": "HTMLModel",
      "state": {
       "layout": "IPY_MODEL_9e583634b8b44cfc8a60aacec647143c",
       "style": "IPY_MODEL_0d45cd63c8774e21a25de90abd14dabe",
       "value": "<p>1st section of space name code</p>"
      }
     },
     "80abc715980842fd9fef54fcf2755197": {
      "model_module": "@jupyter-widgets/base",
      "model_module_version": "1.2.0",
      "model_name": "LayoutModel",
      "state": {}
     },
     "80bbac98fb18437d943692e10d821d06": {
      "model_module": "@jupyter-widgets/controls",
      "model_module_version": "1.5.0",
      "model_name": "DescriptionStyleModel",
      "state": {
       "description_width": ""
      }
     },
     "80be34e6f6374b7787f53fe40f690e90": {
      "model_module": "@jupyter-widgets/base",
      "model_module_version": "1.2.0",
      "model_name": "LayoutModel",
      "state": {}
     },
     "80cdba3573b647698c66ee53b06819f9": {
      "model_module": "@jupyter-widgets/base",
      "model_module_version": "1.2.0",
      "model_name": "LayoutModel",
      "state": {
       "align_items": "stretch",
       "display": "flex",
       "flex_flow": "row",
       "grid_auto_columns": "True",
       "justify_content": "flex-end",
       "width": "90%"
      }
     },
     "8204152752a04a409574168156133652": {
      "model_module": "@jupyter-widgets/controls",
      "model_module_version": "1.5.0",
      "model_name": "HBoxModel",
      "state": {
       "children": [
        "IPY_MODEL_23726091a21d4f13a726acdc16c6ba55",
        "IPY_MODEL_8020f5131f624dd69da30d33dc7e7060"
       ],
       "layout": "IPY_MODEL_7cd8de368576400d8e4dcc500ada9416"
      }
     },
     "825116bdde4747b295d5f62fe8fd3edb": {
      "model_module": "@jupyter-widgets/output",
      "model_module_version": "1.0.0",
      "model_name": "OutputModel",
      "state": {
       "layout": "IPY_MODEL_9f19f43b113c43e59a99d5748b3fc6ef"
      }
     },
     "82766d1ca9a74a859d1e0b60b785cb17": {
      "model_module": "@jupyter-widgets/controls",
      "model_module_version": "1.5.0",
      "model_name": "VBoxModel",
      "state": {
       "children": [
        "IPY_MODEL_a85f6a0270e64b728739618c76779eca",
        "IPY_MODEL_ded69366dc2947e0be0dfe2234e040ea",
        "IPY_MODEL_4ac1a72a8b104758809e3cfa1f1fdf13"
       ],
       "layout": "IPY_MODEL_d00bd2ae9a544aa091c22d1aa3275ad9"
      }
     },
     "82f82b9fda024422a1c4bcb655da8c49": {
      "model_module": "@jupyter-widgets/base",
      "model_module_version": "1.2.0",
      "model_name": "LayoutModel",
      "state": {}
     },
     "83bc225eeedf4ab8ad096586f9612ad5": {
      "model_module": "@jupyter-widgets/base",
      "model_module_version": "1.2.0",
      "model_name": "LayoutModel",
      "state": {}
     },
     "83cd8b68a8bd41fbbebf330c8ab030f4": {
      "model_module": "@jupyter-widgets/base",
      "model_module_version": "1.2.0",
      "model_name": "LayoutModel",
      "state": {
       "align_items": "stretch",
       "display": "flex",
       "flex_flow": "row",
       "grid_auto_columns": "True",
       "justify_content": "flex-end",
       "width": "90%"
      }
     },
     "845cf4dd4f094aa8b3ddf20080e3562b": {
      "model_module": "@jupyter-widgets/base",
      "model_module_version": "1.2.0",
      "model_name": "LayoutModel",
      "state": {}
     },
     "8467d2379aa0410aa77e186d8a4b2de3": {
      "model_module": "@jupyter-widgets/controls",
      "model_module_version": "1.5.0",
      "model_name": "DescriptionStyleModel",
      "state": {
       "description_width": ""
      }
     },
     "846d32697ff144c29e9e26f8350ff2a4": {
      "model_module": "@jupyter-widgets/controls",
      "model_module_version": "1.5.0",
      "model_name": "ButtonStyleModel",
      "state": {
       "font_weight": "bold"
      }
     },
     "851e4ba347cf4c1bb4c0f499bd284fbd": {
      "model_module": "@jupyter-widgets/controls",
      "model_module_version": "1.5.0",
      "model_name": "DescriptionStyleModel",
      "state": {
       "description_width": ""
      }
     },
     "8550658ba3d846f4be64d012960173e7": {
      "model_module": "@jupyter-widgets/controls",
      "model_module_version": "1.5.0",
      "model_name": "TextModel",
      "state": {
       "layout": "IPY_MODEL_48e1f3fb62424df5b50402c0c31c1766",
       "style": "IPY_MODEL_3c930bdc78ec4b85a1511b381464b0b7",
       "value": "SpaceId"
      }
     },
     "857481f938124bb0b8b210b42f1f87a2": {
      "model_module": "@jupyter-widgets/base",
      "model_module_version": "1.2.0",
      "model_name": "LayoutModel",
      "state": {}
     },
     "85cd08160ee04cc3b9e5efb675294f52": {
      "model_module": "@jupyter-widgets/base",
      "model_module_version": "1.2.0",
      "model_name": "LayoutModel",
      "state": {}
     },
     "8715db4d0750446bb143002376d7caa2": {
      "model_module": "@jupyter-widgets/base",
      "model_module_version": "1.2.0",
      "model_name": "LayoutModel",
      "state": {}
     },
     "8725952fa01d4e7ca990d8dbafe2eaa1": {
      "model_module": "@jupyter-widgets/base",
      "model_module_version": "1.2.0",
      "model_name": "LayoutModel",
      "state": {
       "align_items": "stretch",
       "display": "flex",
       "flex_flow": "row",
       "grid_auto_columns": "True",
       "justify_content": "flex-start",
       "width": "80%"
      }
     },
     "873585df8c8c478b8c603723f5dc3f44": {
      "model_module": "@jupyter-widgets/controls",
      "model_module_version": "1.5.0",
      "model_name": "HBoxModel",
      "state": {
       "children": [
        "IPY_MODEL_47799f1bb3fd46d0a550eaf48e8b096a",
        "IPY_MODEL_55d2441a5705414a9e6e79a9ea4ec55b"
       ],
       "layout": "IPY_MODEL_0ef4c35d73144c73897e1abcb163ab2f"
      }
     },
     "87a7c1c209fe440f8ac4f89c91177b35": {
      "model_module": "@jupyter-widgets/base",
      "model_module_version": "1.2.0",
      "model_name": "LayoutModel",
      "state": {
       "align_items": "stretch",
       "display": "flex",
       "flex_flow": "row",
       "grid_auto_columns": "True",
       "justify_content": "flex-end",
       "width": "90%"
      }
     },
     "87f82395a292493ba1748a1500e442f2": {
      "model_module": "@jupyter-widgets/controls",
      "model_module_version": "1.5.0",
      "model_name": "DescriptionStyleModel",
      "state": {
       "description_width": ""
      }
     },
     "880d5935c6a44c64bd1fde9e9ae81b59": {
      "model_module": "@jupyter-widgets/output",
      "model_module_version": "1.0.0",
      "model_name": "OutputModel",
      "state": {
       "layout": "IPY_MODEL_ae1c8a40b7574e5497da43bff2fc67c6"
      }
     },
     "8895a050c01a4f51bca5b90a0dfaa53b": {
      "model_module": "@jupyter-widgets/controls",
      "model_module_version": "1.5.0",
      "model_name": "DescriptionStyleModel",
      "state": {
       "description_width": ""
      }
     },
     "89ba1ba287f74b2595ae6db28c4123bc": {
      "model_module": "@jupyter-widgets/base",
      "model_module_version": "1.2.0",
      "model_name": "LayoutModel",
      "state": {
       "align_items": "stretch",
       "display": "flex",
       "flex_flow": "row",
       "grid_auto_columns": "True",
       "justify_content": "flex-end",
       "width": "90%"
      }
     },
     "8a094c02d05444509a478c7c3b5aaa06": {
      "model_module": "@jupyter-widgets/controls",
      "model_module_version": "1.5.0",
      "model_name": "HBoxModel",
      "state": {
       "children": [
        "IPY_MODEL_50c06b53381549ec8f503ccb30723ff3",
        "IPY_MODEL_8f6300b9fa7b4841a6fe303a3070b2a2",
        "IPY_MODEL_96e3422c1241460d9c8f7d89e475d7f0"
       ],
       "layout": "IPY_MODEL_fd120311fb0f424984b76ef92a954cb5"
      }
     },
     "8a2ed0544f984273b46918aff586ccb4": {
      "model_module": "@jupyter-widgets/base",
      "model_module_version": "1.2.0",
      "model_name": "LayoutModel",
      "state": {
       "align_items": "stretch",
       "display": "flex",
       "flex_flow": "row",
       "grid_auto_columns": "True",
       "justify_content": "flex-start",
       "width": "80%"
      }
     },
     "8a7106b4f37d40a2962950260fbc4ff9": {
      "model_module": "@jupyter-widgets/base",
      "model_module_version": "1.2.0",
      "model_name": "LayoutModel",
      "state": {}
     },
     "8a9b57a102ca4f33b3a4163ff18d9ab2": {
      "model_module": "@jupyter-widgets/controls",
      "model_module_version": "1.5.0",
      "model_name": "ButtonStyleModel",
      "state": {
       "font_weight": "bold"
      }
     },
     "8b2c5f2154e94b1aa333546fd630c1ca": {
      "model_module": "@jupyter-widgets/base",
      "model_module_version": "1.2.0",
      "model_name": "LayoutModel",
      "state": {
       "align_items": "stretch",
       "display": "flex",
       "flex_flow": "row",
       "grid_auto_columns": "True",
       "justify_content": "flex-start",
       "width": "80%"
      }
     },
     "8b5beb81e4ec4e29bc65111687ca2fff": {
      "model_module": "@jupyter-widgets/controls",
      "model_module_version": "1.5.0",
      "model_name": "VBoxModel",
      "state": {
       "children": [
        "IPY_MODEL_564aa38be94b491cbc34116aeef2806b",
        "IPY_MODEL_e73bc84a91c14b7cbbd60af0b5ba31bc"
       ],
       "layout": "IPY_MODEL_b6ba774d194448b9b883b138f13a5765"
      }
     },
     "8b5e548b3f784cd1ba4bf2382037ab4b": {
      "model_module": "@jupyter-widgets/controls",
      "model_module_version": "1.5.0",
      "model_name": "HBoxModel",
      "state": {
       "children": [
        "IPY_MODEL_fbd99ead64ce4127b25a633618c7993b",
        "IPY_MODEL_ae922ee76f1a401bb0354f6c2e49747c"
       ],
       "layout": "IPY_MODEL_aa68d45ae4d34148bc1338b4e90dc392"
      }
     },
     "8bf3dc1de54d47ff83fd363673a414b4": {
      "model_module": "@jupyter-widgets/controls",
      "model_module_version": "1.5.0",
      "model_name": "DescriptionStyleModel",
      "state": {
       "description_width": ""
      }
     },
     "8c5dcb654c8e42279488d64cf00dbcf5": {
      "model_module": "@jupyter-widgets/base",
      "model_module_version": "1.2.0",
      "model_name": "LayoutModel",
      "state": {
       "align_items": "stretch",
       "display": "flex",
       "flex_flow": "row",
       "grid_auto_columns": "True",
       "justify_content": "flex-end",
       "width": "90%"
      }
     },
     "8c772c06f032438daebaaafe1b3c62cd": {
      "model_module": "@jupyter-widgets/controls",
      "model_module_version": "1.5.0",
      "model_name": "VBoxModel",
      "state": {
       "children": [
        "IPY_MODEL_2927e671a6d74069a797600181f61c9c",
        "IPY_MODEL_7a17fc6a686a4ed18d7f393639b6a9ed",
        "IPY_MODEL_907cb11eeecc4373b92936a638600293",
        "IPY_MODEL_9dd2dd9e206a4fda9be722b2567295e0",
        "IPY_MODEL_b7788f098f0e4db9aeec5bbadf472b92"
       ],
       "layout": "IPY_MODEL_c336cc3e3d8b4a64953599c727af6457"
      }
     },
     "8ca3754bf88149d1a296bcb1d18dd41d": {
      "model_module": "@jupyter-widgets/controls",
      "model_module_version": "1.5.0",
      "model_name": "DescriptionStyleModel",
      "state": {
       "description_width": ""
      }
     },
     "8ca97cd049ea46b8affc73f74c1e038c": {
      "model_module": "@jupyter-widgets/controls",
      "model_module_version": "1.5.0",
      "model_name": "HTMLModel",
      "state": {
       "layout": "IPY_MODEL_4a21f2257dd346e6a95004af03b9d2ba",
       "style": "IPY_MODEL_19745ed95df341d081860a02e2606a52",
       "value": "<p>2nd section of space name code</p>"
      }
     },
     "8caeee5d06db4585aaaf46e5775fcfec": {
      "model_module": "@jupyter-widgets/controls",
      "model_module_version": "1.5.0",
      "model_name": "HTMLModel",
      "state": {
       "layout": "IPY_MODEL_f9043c4981fd4d8ea0883350c692e1e6",
       "style": "IPY_MODEL_e068e0f789024c5bad57a407757d8570",
       "value": "<p>4</p>"
      }
     },
     "8d18c9c63bae44bca6187c140390bd5d": {
      "model_module": "@jupyter-widgets/base",
      "model_module_version": "1.2.0",
      "model_name": "LayoutModel",
      "state": {
       "align_items": "stretch",
       "display": "flex",
       "flex_flow": "row",
       "grid_auto_columns": "True",
       "justify_content": "flex-start",
       "width": "80%"
      }
     },
     "8d3037f0542345929448fefd71ba4c7d": {
      "model_module": "@jupyter-widgets/controls",
      "model_module_version": "1.5.0",
      "model_name": "DescriptionStyleModel",
      "state": {
       "description_width": ""
      }
     },
     "8d6efc5d2ec34154b02e4003c4b7964e": {
      "model_module": "@jupyter-widgets/controls",
      "model_module_version": "1.5.0",
      "model_name": "HTMLModel",
      "state": {
       "layout": "IPY_MODEL_0076dbfa8c354ac0830a3fe8c1340d73",
       "style": "IPY_MODEL_717e77bfda89428ca240737007d0931b",
       "value": "<p>5th section of space name code (enter None if 5th section doesn't exist)</p>"
      }
     },
     "8d7708f9400d44458152444c02d80473": {
      "model_module": "@jupyter-widgets/controls",
      "model_module_version": "1.5.0",
      "model_name": "HBoxModel",
      "state": {
       "children": [
        "IPY_MODEL_89be79d439bf412299fae0dcbeb7d931",
        "IPY_MODEL_f74b420ae72541909a412035a7e32003",
        "IPY_MODEL_f6d7cc5cba6947b6926077beff56c3da",
        "IPY_MODEL_fac82bdd8b4846ab82251617133d45cf",
        "IPY_MODEL_0087c667579047c788eaf958f8f6e941",
        "IPY_MODEL_4ec7dee308514565804dbe1575e91d43",
        "IPY_MODEL_112a7332ba3643198bee3d8cd0c33ef2"
       ],
       "layout": "IPY_MODEL_3503e01dbcba48ee8093a3dbc032e4ed"
      }
     },
     "8db19d5720e04d6f887d2f68c01a06ac": {
      "model_module": "@jupyter-widgets/controls",
      "model_module_version": "1.5.0",
      "model_name": "HTMLModel",
      "state": {
       "layout": "IPY_MODEL_bf368e14265c4b909db3f19057163d72",
       "style": "IPY_MODEL_faaeb383209d451d9bc305372ae9e850",
       "value": "<p>3rd section of space name code (enter None if 3rd section doesn't exist)</p>"
      }
     },
     "8dde6b9d0ac84ab7bacd607ecfb7732e": {
      "model_module": "@jupyter-widgets/controls",
      "model_module_version": "1.5.0",
      "model_name": "TextModel",
      "state": {
       "layout": "IPY_MODEL_65e7778aa7e649d1b5b76d06197c8e9b",
       "style": "IPY_MODEL_ca49e9edfac34bab8ee67e38990efa37",
       "value": "TM46Category"
      }
     },
     "8e437f030b254d8f9af57f4ab797df1b": {
      "model_module": "@jupyter-widgets/base",
      "model_module_version": "1.2.0",
      "model_name": "LayoutModel",
      "state": {}
     },
     "8eaf3b5889a9467f9a0904dffc516037": {
      "model_module": "@jupyter-widgets/controls",
      "model_module_version": "1.5.0",
      "model_name": "HTMLModel",
      "state": {
       "layout": "IPY_MODEL_1abd555d13f447a48542b9face00a174",
       "style": "IPY_MODEL_851e4ba347cf4c1bb4c0f499bd284fbd",
       "value": "<p>3rd section of space name code (enter None if 3rd section doesn't exist)</p>"
      }
     },
     "8ec30f95c01d43ddabf032edced2c73f": {
      "model_module": "@jupyter-widgets/base",
      "model_module_version": "1.2.0",
      "model_name": "LayoutModel",
      "state": {}
     },
     "8eda1a1986524f7c8f898ba208b9f11d": {
      "model_module": "@jupyter-widgets/controls",
      "model_module_version": "1.5.0",
      "model_name": "DescriptionStyleModel",
      "state": {
       "description_width": ""
      }
     },
     "8ef2bd4fc46e420fb748d385999e00a7": {
      "model_module": "@jupyter-widgets/base",
      "model_module_version": "1.2.0",
      "model_name": "LayoutModel",
      "state": {
       "align_items": "stretch",
       "display": "flex",
       "flex_flow": "row",
       "grid_auto_columns": "True",
       "justify_content": "flex-end",
       "width": "90%"
      }
     },
     "8f0a1275f2ce4b148c46c9c223ac24bf": {
      "model_module": "@jupyter-widgets/output",
      "model_module_version": "1.0.0",
      "model_name": "OutputModel",
      "state": {
       "layout": "IPY_MODEL_20ed9cfcf435404e9d719e1af446f75d"
      }
     },
     "8f2423b09ec74e8ebade1c2bf7a8e926": {
      "model_module": "@jupyter-widgets/base",
      "model_module_version": "1.2.0",
      "model_name": "LayoutModel",
      "state": {}
     },
     "8f32b54c33dc4d79a5ae4a9e188e1330": {
      "model_module": "@jupyter-widgets/base",
      "model_module_version": "1.2.0",
      "model_name": "LayoutModel",
      "state": {}
     },
     "8f495e06313f4b859d5626e3500cb2b5": {
      "model_module": "@jupyter-widgets/base",
      "model_module_version": "1.2.0",
      "model_name": "LayoutModel",
      "state": {}
     },
     "8f6300b9fa7b4841a6fe303a3070b2a2": {
      "model_module": "@jupyter-widgets/controls",
      "model_module_version": "1.5.0",
      "model_name": "ButtonModel",
      "state": {
       "button_style": "warning",
       "description": "revert to last save",
       "layout": "IPY_MODEL_344b198a05924f1e8b2c47f335eb4ee4",
       "style": "IPY_MODEL_846d32697ff144c29e9e26f8350ff2a4"
      }
     },
     "8fcef04bfbed4507ae63f6ea8f7611bd": {
      "model_module": "@jupyter-widgets/base",
      "model_module_version": "1.2.0",
      "model_name": "LayoutModel",
      "state": {
       "flex_flow": "column",
       "height": "auto",
       "width": "auto"
      }
     },
     "900e1c5621864d61a2ac1aca787d5e20": {
      "model_module": "@jupyter-widgets/base",
      "model_module_version": "1.2.0",
      "model_name": "LayoutModel",
      "state": {
       "align_items": "stretch",
       "display": "flex",
       "flex_flow": "row",
       "grid_auto_columns": "True",
       "justify_content": "flex-start",
       "width": "80%"
      }
     },
     "907cb11eeecc4373b92936a638600293": {
      "model_module": "@jupyter-widgets/controls",
      "model_module_version": "1.5.0",
      "model_name": "HBoxModel",
      "state": {
       "children": [
        "IPY_MODEL_d645097c41e94f1f944c0c6d9f28806f"
       ],
       "layout": "IPY_MODEL_3cb3b4293a4a42a59ef7d751c3ba7b3e"
      }
     },
     "90aa492283d04e9ab3370e37fb9daf04": {
      "model_module": "@jupyter-widgets/controls",
      "model_module_version": "1.5.0",
      "model_name": "HBoxModel",
      "state": {
       "children": [
        "IPY_MODEL_22f2bce040ce4ed4b0c29d30cf4cd153",
        "IPY_MODEL_dd1e8a68b0384ea5a78a5f92e240da9e"
       ],
       "layout": "IPY_MODEL_217aaed5626d40b59eb24d8eb185efa9"
      }
     },
     "90b0104ccde04e35b5c8320494e27cc2": {
      "model_module": "@jupyter-widgets/output",
      "model_module_version": "1.0.0",
      "model_name": "OutputModel",
      "state": {
       "layout": "IPY_MODEL_574f381cd1164e469ca091cea08065b8"
      }
     },
     "914cc2f5d60a469695f0e732ce90b3a1": {
      "model_module": "@jupyter-widgets/controls",
      "model_module_version": "1.5.0",
      "model_name": "HBoxModel",
      "state": {
       "children": [
        "IPY_MODEL_70edcd0765f446368cd411861444b3a3",
        "IPY_MODEL_90aa492283d04e9ab3370e37fb9daf04"
       ],
       "layout": "IPY_MODEL_87a7c1c209fe440f8ac4f89c91177b35"
      }
     },
     "91822332f4754a2ba896f4cc83b2ab4e": {
      "model_module": "@jupyter-widgets/controls",
      "model_module_version": "1.5.0",
      "model_name": "HBoxModel",
      "state": {
       "children": [
        "IPY_MODEL_ee6dd9416f7f43af80c7a6283602cafa",
        "IPY_MODEL_2a9d6b34764f43c5b08e490d493003d1"
       ],
       "layout": "IPY_MODEL_da215c5f03c94c1496e71448efdcfdea"
      }
     },
     "91e5fdb8660c4625873d37c5548912aa": {
      "model_module": "@jupyter-widgets/base",
      "model_module_version": "1.2.0",
      "model_name": "LayoutModel",
      "state": {
       "align_items": "stretch",
       "display": "flex",
       "flex_flow": "row",
       "grid_auto_columns": "True",
       "justify_content": "flex-start",
       "width": "80%"
      }
     },
     "92461012149c45e1b494715fd3aa30b5": {
      "model_module": "@jupyter-widgets/controls",
      "model_module_version": "1.5.0",
      "model_name": "HBoxModel",
      "state": {
       "children": [
        "IPY_MODEL_a631941ebdaa443da9eda7d6b40319ee",
        "IPY_MODEL_4ae52a740b6a4fdf9ac7f21b2ba3812a"
       ],
       "layout": "IPY_MODEL_40ed65bcd622476988b825b420c7a24d"
      }
     },
     "928d6ed2c42a4e729d39fefc6c184277": {
      "model_module": "@jupyter-widgets/controls",
      "model_module_version": "1.5.0",
      "model_name": "ButtonModel",
      "state": {
       "button_style": "warning",
       "description": "edit inputs",
       "layout": "IPY_MODEL_7af60b7beed64121b9e362aa7c304749",
       "style": "IPY_MODEL_aabb26dbc44f4787bcc0135e45947982",
       "tooltip": "edit the user input information that is used when the script is executed"
      }
     },
     "929b0b0ba08e410bb6a1bd71d0b50d34": {
      "model_module": "@jupyter-widgets/controls",
      "model_module_version": "1.5.0",
      "model_name": "BoxModel",
      "state": {
       "children": [
        "IPY_MODEL_edc52362131744e29c066ec591601375"
       ],
       "layout": "IPY_MODEL_48f96387113d443cae67eac27500f492"
      }
     },
     "92e87cad18774810b75c7b5e3580fc14": {
      "model_module": "@jupyter-widgets/controls",
      "model_module_version": "1.5.0",
      "model_name": "HBoxModel",
      "state": {
       "children": [
        "IPY_MODEL_a1b1012de140488ca21cb928cbb6b341",
        "IPY_MODEL_b252544cc8b742f6af954f6b3dbdb7e7"
       ],
       "layout": "IPY_MODEL_3fca2f87dde844a29afdba8b0df026c6"
      }
     },
     "934d2ba98f024164ad2007f53c12eed3": {
      "model_module": "@jupyter-widgets/output",
      "model_module_version": "1.0.0",
      "model_name": "OutputModel",
      "state": {
       "layout": "IPY_MODEL_952c91b7d1f44233b6432869f34a551f"
      }
     },
     "939418d1c3de4951ace393d8d456981f": {
      "model_module": "@jupyter-widgets/base",
      "model_module_version": "1.2.0",
      "model_name": "LayoutModel",
      "state": {
       "align_items": "stretch",
       "display": "flex",
       "flex_flow": "row",
       "grid_auto_columns": "True",
       "justify_content": "flex-start",
       "width": "80%"
      }
     },
     "94867470731c4a6791ff37f183e204a3": {
      "model_module": "@jupyter-widgets/base",
      "model_module_version": "1.2.0",
      "model_name": "LayoutModel",
      "state": {
       "align_items": "stretch",
       "border": "dashed 0.2px green",
       "display": "flex",
       "flex_flow": "row",
       "grid_auto_columns": "True",
       "justify_content": "flex-start",
       "width": "100%"
      }
     },
     "952c91b7d1f44233b6432869f34a551f": {
      "model_module": "@jupyter-widgets/base",
      "model_module_version": "1.2.0",
      "model_name": "LayoutModel",
      "state": {}
     },
     "954ab3c9639c44298c4682b1afe9eabd": {
      "model_module": "@jupyter-widgets/base",
      "model_module_version": "1.2.0",
      "model_name": "LayoutModel",
      "state": {
       "align_items": "stretch",
       "display": "flex",
       "flex_flow": "row",
       "grid_auto_columns": "True",
       "justify_content": "flex-end",
       "width": "90%"
      }
     },
     "95ad4303085c45b1a4d776d53899d503": {
      "model_module": "@jupyter-widgets/base",
      "model_module_version": "1.2.0",
      "model_name": "LayoutModel",
      "state": {}
     },
     "95c7cce2fe31491aa923821f1b99ff5e": {
      "model_module": "@jupyter-widgets/controls",
      "model_module_version": "1.5.0",
      "model_name": "ButtonStyleModel",
      "state": {
       "font_weight": "bold"
      }
     },
     "96e3422c1241460d9c8f7d89e475d7f0": {
      "model_module": "@jupyter-widgets/controls",
      "model_module_version": "1.5.0",
      "model_name": "ButtonModel",
      "state": {
       "button_style": "success",
       "description": "save changes",
       "layout": "IPY_MODEL_1c589a6774e440ac97281ddab260f202",
       "style": "IPY_MODEL_8a9b57a102ca4f33b3a4163ff18d9ab2"
      }
     },
     "96f86fbc8caa4c318d7635c27358787d": {
      "model_module": "@jupyter-widgets/output",
      "model_module_version": "1.0.0",
      "model_name": "OutputModel",
      "state": {
       "layout": "IPY_MODEL_e331f35d39f241e9b55be3833ec4a726",
       "outputs": [
        {
         "data": {
          "application/vnd.jupyter.widget-view+json": {
           "model_id": "",
           "version_major": 2,
           "version_minor": 0
          },
          "text/plain": "Output()"
         },
         "metadata": {},
         "output_type": "display_data"
        },
        {
         "data": {
          "application/vnd.jupyter.widget-view+json": {
           "model_id": "",
           "version_major": 2,
           "version_minor": 0
          },
          "text/plain": "Output()"
         },
         "metadata": {},
         "output_type": "display_data"
        }
       ]
      }
     },
     "973b146cca564d2287fca5bc28f8d2b3": {
      "model_module": "@jupyter-widgets/controls",
      "model_module_version": "1.5.0",
      "model_name": "HBoxModel",
      "state": {
       "children": [
        "IPY_MODEL_53936837abc94668828ba645b04850ea",
        "IPY_MODEL_25511924b3fd4661b18ceeaac3507c75"
       ],
       "layout": "IPY_MODEL_454242d5f7724809917e779819dff4f5"
      }
     },
     "97c53a8f776146d6b1bab8d6d96431ac": {
      "model_module": "@jupyter-widgets/controls",
      "model_module_version": "1.5.0",
      "model_name": "HTMLModel",
      "state": {
       "layout": "IPY_MODEL_ce4ff47b93534046a04bf75dd03a76f5",
       "style": "IPY_MODEL_7183499a94b248b682fa7fb1e16a5b52",
       "value": "<p>3rd section of space name code (enter None if 3rd section doesn't exist)</p>"
      }
     },
     "9845b0929cdb4e4bb87c54bff0b57267": {
      "model_module": "@jupyter-widgets/base",
      "model_module_version": "1.2.0",
      "model_name": "LayoutModel",
      "state": {
       "align_items": "stretch",
       "border": "dashed 0.2px green",
       "display": "flex",
       "flex_flow": "row",
       "grid_auto_columns": "True",
       "justify_content": "flex-start",
       "width": "100%"
      }
     },
     "985a19513c7146e29fd92adff5244e96": {
      "model_module": "@jupyter-widgets/base",
      "model_module_version": "1.2.0",
      "model_name": "LayoutModel",
      "state": {
       "border": "0px",
       "margin": "0px",
       "padding": "0px"
      }
     },
     "98a7829262664284b92423ee94171516": {
      "model_module": "@jupyter-widgets/base",
      "model_module_version": "1.2.0",
      "model_name": "LayoutModel",
      "state": {}
     },
     "98f7440da10c429cb3271df72eabe97f": {
      "model_module": "@jupyter-widgets/controls",
      "model_module_version": "1.5.0",
      "model_name": "HBoxModel",
      "state": {
       "children": [
        "IPY_MODEL_079cb510b0ec4e7d88b1e837cb96e56c",
        "IPY_MODEL_1a55055524314f9081f8478fd9aca9b0"
       ],
       "layout": "IPY_MODEL_8a2ed0544f984273b46918aff586ccb4"
      }
     },
     "992af1d2ef59460dafe6a180a4681708": {
      "model_module": "@jupyter-widgets/controls",
      "model_module_version": "1.5.0",
      "model_name": "HBoxModel",
      "state": {
       "children": [
        "IPY_MODEL_9fceecf981904c0a9e33999b5ac55021",
        "IPY_MODEL_aff20e1437c84804a4a01c5a829ff774"
       ],
       "layout": "IPY_MODEL_8d18c9c63bae44bca6187c140390bd5d"
      }
     },
     "99659d8424e0416bb449d763f5b84a28": {
      "model_module": "@jupyter-widgets/base",
      "model_module_version": "1.2.0",
      "model_name": "LayoutModel",
      "state": {}
     },
     "99e655ea06384f76b2a874d1f2279d5b": {
      "model_module": "@jupyter-widgets/base",
      "model_module_version": "1.2.0",
      "model_name": "LayoutModel",
      "state": {
       "align_items": "stretch",
       "border": "dashed 0.2px green",
       "display": "flex",
       "flex_flow": "row",
       "grid_auto_columns": "True",
       "justify_content": "flex-start",
       "width": "100%"
      }
     },
     "9a223a7a83ae41438149101e3683e871": {
      "model_module": "@jupyter-widgets/base",
      "model_module_version": "1.2.0",
      "model_name": "LayoutModel",
      "state": {}
     },
     "9ac6db12844546b2892c8b772cf1fb15": {
      "model_module": "@jupyter-widgets/controls",
      "model_module_version": "1.5.0",
      "model_name": "ButtonStyleModel",
      "state": {
       "font_weight": "bold"
      }
     },
     "9b4b617c7d914b26888f070172a20262": {
      "model_module": "@jupyter-widgets/base",
      "model_module_version": "1.2.0",
      "model_name": "LayoutModel",
      "state": {
       "display": "flex",
       "flex_flow": "row",
       "grid_auto_columns": "False",
       "justify_content": "flex-start",
       "width": "100%"
      }
     },
     "9b90f26a9622488b8cd7b7a266418781": {
      "model_module": "@jupyter-widgets/base",
      "model_module_version": "1.2.0",
      "model_name": "LayoutModel",
      "state": {}
     },
     "9bcc0e24c6674687952ee219f132bd87": {
      "model_module": "@jupyter-widgets/output",
      "model_module_version": "1.0.0",
      "model_name": "OutputModel",
      "state": {
       "layout": "IPY_MODEL_a9e23dab4179494785a6ac48a156c37c",
       "outputs": [
        {
         "data": {
          "application/vnd.jupyter.widget-view+json": {
           "model_id": "",
           "version_major": 2,
           "version_minor": 0
          },
          "text/plain": "Output()"
         },
         "metadata": {},
         "output_type": "display_data"
        },
        {
         "data": {
          "application/vnd.jupyter.widget-view+json": {
           "model_id": "",
           "version_major": 2,
           "version_minor": 0
          },
          "text/plain": "Output()"
         },
         "metadata": {},
         "output_type": "display_data"
        }
       ]
      }
     },
     "9c5bd5ddd3ac48c78deadaa937fa8813": {
      "model_module": "@jupyter-widgets/controls",
      "model_module_version": "1.5.0",
      "model_name": "DescriptionStyleModel",
      "state": {
       "description_width": ""
      }
     },
     "9c62199a8eea4aecb287cb247043b670": {
      "model_module": "@jupyter-widgets/controls",
      "model_module_version": "1.5.0",
      "model_name": "HBoxModel",
      "state": {
       "children": [
        "IPY_MODEL_2f4b027eb06b49f4b332fa47dbe11e47",
        "IPY_MODEL_659bdc5c69a1466c8455012267104ea0"
       ],
       "layout": "IPY_MODEL_c8413128cb954b05a5c6e9c22091b435"
      }
     },
     "9c874a7346b3490d8c554dfd7cd3cfef": {
      "model_module": "@jupyter-widgets/base",
      "model_module_version": "1.2.0",
      "model_name": "LayoutModel",
      "state": {}
     },
     "9ca58d5a281d48989daa81b592a8247e": {
      "model_module": "@jupyter-widgets/base",
      "model_module_version": "1.2.0",
      "model_name": "LayoutModel",
      "state": {}
     },
     "9ce3e22900014276a20c3b11df572257": {
      "model_module": "@jupyter-widgets/base",
      "model_module_version": "1.2.0",
      "model_name": "LayoutModel",
      "state": {}
     },
     "9d5deb87a6da438184c1670399e9a2a7": {
      "model_module": "@jupyter-widgets/base",
      "model_module_version": "1.2.0",
      "model_name": "LayoutModel",
      "state": {
       "align_items": "stretch",
       "display": "flex",
       "flex_flow": "row",
       "grid_auto_columns": "True",
       "justify_content": "flex-start",
       "width": "80%"
      }
     },
     "9d677e3ef82844dd8814704645f382f0": {
      "model_module": "@jupyter-widgets/base",
      "model_module_version": "1.2.0",
      "model_name": "LayoutModel",
      "state": {
       "align_items": "stretch",
       "display": "flex",
       "flex_flow": "row",
       "grid_auto_columns": "True",
       "justify_content": "flex-end",
       "width": "90%"
      }
     },
     "9dabdf964c2445b89d770eabe2714431": {
      "model_module": "@jupyter-widgets/controls",
      "model_module_version": "1.5.0",
      "model_name": "HBoxModel",
      "state": {
       "children": [
        "IPY_MODEL_1c7f7002ad7d4d36a9cac2d907ff2d14",
        "IPY_MODEL_1629373c43944e05bcf4c8b2cd4bbcfb"
       ],
       "layout": "IPY_MODEL_41e75673b0c948118157738133f89d22"
      }
     },
     "9dd2dd9e206a4fda9be722b2567295e0": {
      "model_module": "@jupyter-widgets/controls",
      "model_module_version": "1.5.0",
      "model_name": "HBoxModel",
      "state": {
       "children": [
        "IPY_MODEL_2af2cb29562c4f93853132518197f441"
       ],
       "layout": "IPY_MODEL_c0acc6fbcdd74b4d8473af42d94e6fa0"
      }
     },
     "9df339da6de4400b92ecd693eddf9849": {
      "model_module": "@jupyter-widgets/output",
      "model_module_version": "1.0.0",
      "model_name": "OutputModel",
      "state": {
       "layout": "IPY_MODEL_d6b0a794518e433ba5dff3f02d9daf51"
      }
     },
     "9e583634b8b44cfc8a60aacec647143c": {
      "model_module": "@jupyter-widgets/base",
      "model_module_version": "1.2.0",
      "model_name": "LayoutModel",
      "state": {}
     },
     "9e8b0c28d3ec4ad0bdb8762784860e29": {
      "model_module": "@jupyter-widgets/base",
      "model_module_version": "1.2.0",
      "model_name": "LayoutModel",
      "state": {}
     },
     "9e8f1c17e53148cfb5122ef59f090159": {
      "model_module": "@jupyter-widgets/base",
      "model_module_version": "1.2.0",
      "model_name": "LayoutModel",
      "state": {}
     },
     "9ebd901f07924ddb9d6379db672dc74e": {
      "model_module": "@jupyter-widgets/controls",
      "model_module_version": "1.5.0",
      "model_name": "ButtonModel",
      "state": {
       "button_style": "info",
       "description": "show source code",
       "layout": "IPY_MODEL_d96ab41d915f475ba9badfdf5e6576ce",
       "style": "IPY_MODEL_e59297b8f46f4506a1d1b07dbe235dbb",
       "tooltip": "shows the raw python code in the preview window below"
      }
     },
     "9eda64d669e5414c89df9c1b1b2246cd": {
      "model_module": "@jupyter-widgets/controls",
      "model_module_version": "1.5.0",
      "model_name": "HTMLModel",
      "state": {
       "layout": "IPY_MODEL_f383120c3c664518a2d5e15bb3b2ff82",
       "style": "IPY_MODEL_acdc28c102e44de6829c24f97a6e5f9c",
       "value": "<p>1</p>"
      }
     },
     "9f00e00b12b14abb9502d23c64f1b742": {
      "model_module": "@jupyter-widgets/base",
      "model_module_version": "1.2.0",
      "model_name": "LayoutModel",
      "state": {}
     },
     "9f19f43b113c43e59a99d5748b3fc6ef": {
      "model_module": "@jupyter-widgets/base",
      "model_module_version": "1.2.0",
      "model_name": "LayoutModel",
      "state": {}
     },
     "9fa5b30d494c41b0bae8144fe421e413": {
      "model_module": "@jupyter-widgets/base",
      "model_module_version": "1.2.0",
      "model_name": "LayoutModel",
      "state": {}
     },
     "9fceecf981904c0a9e33999b5ac55021": {
      "model_module": "@jupyter-widgets/controls",
      "model_module_version": "1.5.0",
      "model_name": "TextModel",
      "state": {
       "layout": "IPY_MODEL_23adecd88a364066ad950df9790c4287",
       "style": "IPY_MODEL_2df6e0a299bf4f2aaae75ddec835427f",
       "value": "BlockCode"
      }
     },
     "9fe05e7241f64156bd29f5f59d9661f1": {
      "model_module": "@jupyter-widgets/controls",
      "model_module_version": "1.5.0",
      "model_name": "DescriptionStyleModel",
      "state": {
       "description_width": ""
      }
     },
     "a00363bf40a045e8bc4162838d2a7250": {
      "model_module": "@jupyter-widgets/base",
      "model_module_version": "1.2.0",
      "model_name": "LayoutModel",
      "state": {}
     },
     "a022ae5f633d485bbf6dc73304bb280f": {
      "model_module": "@jupyter-widgets/base",
      "model_module_version": "1.2.0",
      "model_name": "LayoutModel",
      "state": {}
     },
     "a09b7ff71e0f457d9c9b777f2f627440": {
      "model_module": "@jupyter-widgets/controls",
      "model_module_version": "1.5.0",
      "model_name": "HBoxModel",
      "state": {
       "children": [
        "IPY_MODEL_02a7e4d31582477aaa9dddafb99cbdfe",
        "IPY_MODEL_53c32ade92664f3c9cbdbfe3c0f756d5"
       ],
       "layout": "IPY_MODEL_0c906a36b1754a14a6d27eb6636cc3f3"
      }
     },
     "a0c17a95b14e4fce888a8a7f6abebfef": {
      "model_module": "@jupyter-widgets/base",
      "model_module_version": "1.2.0",
      "model_name": "LayoutModel",
      "state": {}
     },
     "a0ce6c1b1e2b40b29344850991d9f5f4": {
      "model_module": "@jupyter-widgets/controls",
      "model_module_version": "1.5.0",
      "model_name": "DescriptionStyleModel",
      "state": {
       "description_width": ""
      }
     },
     "a0d5332f5f544ab19de38cec2d7d17c8": {
      "model_module": "@jupyter-widgets/output",
      "model_module_version": "1.0.0",
      "model_name": "OutputModel",
      "state": {
       "layout": "IPY_MODEL_8a7106b4f37d40a2962950260fbc4ff9"
      }
     },
     "a0f78aebe9ff4df3a105dd292ee0761d": {
      "model_module": "@jupyter-widgets/controls",
      "model_module_version": "1.5.0",
      "model_name": "HBoxModel",
      "state": {
       "children": [
        "IPY_MODEL_0457e488aceb42c2b289665694408ed2",
        "IPY_MODEL_e4e6e168dbc647838075093030a70228"
       ],
       "layout": "IPY_MODEL_8c5dcb654c8e42279488d64cf00dbcf5"
      }
     },
     "a12f17378d134ab7b2756cda2b513426": {
      "model_module": "@jupyter-widgets/controls",
      "model_module_version": "1.5.0",
      "model_name": "HTMLModel",
      "state": {
       "layout": "IPY_MODEL_e7a27adbd29d40b4b71b6dfe64d72e17",
       "style": "IPY_MODEL_e7ac1ed6835f4334be84cd2b7f252368",
       "value": "<p>1</p>"
      }
     },
     "a17aea372e2b4bc381c360c03c465f30": {
      "model_module": "@jupyter-widgets/output",
      "model_module_version": "1.0.0",
      "model_name": "OutputModel",
      "state": {
       "layout": "IPY_MODEL_8715db4d0750446bb143002376d7caa2"
      }
     },
     "a1b1012de140488ca21cb928cbb6b341": {
      "model_module": "@jupyter-widgets/controls",
      "model_module_version": "1.5.0",
      "model_name": "HTMLModel",
      "state": {
       "layout": "IPY_MODEL_6a9ff902302c43a8b5d7fb4feb09b9d0",
       "style": "IPY_MODEL_43849c14519a49b899d9a812ab70164e",
       "value": "<p>4</p>"
      }
     },
     "a1b66fcc0f7740c99c1cb7020afbb2b5": {
      "model_module": "@jupyter-widgets/base",
      "model_module_version": "1.2.0",
      "model_name": "LayoutModel",
      "state": {}
     },
     "a1e1b837ac814269a94f4c1ecbed1364": {
      "model_module": "@jupyter-widgets/controls",
      "model_module_version": "1.5.0",
      "model_name": "DescriptionStyleModel",
      "state": {
       "description_width": ""
      }
     },
     "a2a3beb75a3c4c03ae507983fa612b5e": {
      "model_module": "@jupyter-widgets/controls",
      "model_module_version": "1.5.0",
      "model_name": "HTMLModel",
      "state": {
       "layout": "IPY_MODEL_28fc5e03493d428e9dd6db2cd4a04eaa",
       "style": "IPY_MODEL_b493a2b362c94b30a182c5c62fa80c1f",
       "value": "<p>0</p>"
      }
     },
     "a2bedc4ec4884d7d9b7b522e2ceac671": {
      "model_module": "@jupyter-widgets/controls",
      "model_module_version": "1.5.0",
      "model_name": "HTMLModel",
      "state": {
       "layout": "IPY_MODEL_0f86cccc6c9f47a5ad0b6821553b7320",
       "style": "IPY_MODEL_b4bf36d5e88c4ac1b09fefe59b722a76",
       "value": "<p>0</p>"
      }
     },
     "a310c2aec7bf445889eec151f2a2c1bb": {
      "model_module": "@jupyter-widgets/controls",
      "model_module_version": "1.5.0",
      "model_name": "HBoxModel",
      "state": {
       "children": [
        "IPY_MODEL_4e5bd67dc339495fb9d5269f331e7205"
       ],
       "layout": "IPY_MODEL_d2ef021deb7f4f30aa8754a681f671db"
      }
     },
     "a3245c944c9241ae95e3b38f50a9ec0b": {
      "model_module": "@jupyter-widgets/controls",
      "model_module_version": "1.5.0",
      "model_name": "VBoxModel",
      "state": {
       "children": [
        "IPY_MODEL_6a4ddc27329c41e68b7b24f0605d6865",
        "IPY_MODEL_b14d7c75e5b8454182775b9f1ad8dbb9",
        "IPY_MODEL_29275c2181b24021836c6e6532ada1a0",
        "IPY_MODEL_a7f97b599dae485cabf39cd3077ff0d4",
        "IPY_MODEL_e45792ed41cc419e9cf2b5d87754cf80"
       ],
       "layout": "IPY_MODEL_f5aa9b45cf5d41d4b0dc4b1b18fa722c"
      }
     },
     "a360b4d0be194acab6302987f9c9d43b": {
      "model_module": "@jupyter-widgets/base",
      "model_module_version": "1.2.0",
      "model_name": "LayoutModel",
      "state": {}
     },
     "a3eaeb1fdf6247e4ae8074f02c51439e": {
      "model_module": "@jupyter-widgets/controls",
      "model_module_version": "1.5.0",
      "model_name": "DescriptionStyleModel",
      "state": {
       "description_width": ""
      }
     },
     "a3fb748115ee42a4a7b12038d5fc38ff": {
      "model_module": "@jupyter-widgets/controls",
      "model_module_version": "1.5.0",
      "model_name": "TextModel",
      "state": {
       "layout": "IPY_MODEL_82f82b9fda024422a1c4bcb655da8c49",
       "style": "IPY_MODEL_e927d2e76db843dc9392378e09af8d77",
       "value": "BlockCode"
      }
     },
     "a4d452c3d8d0461e8f1abd2884c533b2": {
      "model_module": "@jupyter-widgets/base",
      "model_module_version": "1.2.0",
      "model_name": "LayoutModel",
      "state": {
       "align_items": "stretch",
       "display": "flex",
       "flex_flow": "row",
       "grid_auto_columns": "True",
       "justify_content": "flex-end",
       "width": "90%"
      }
     },
     "a50a2369d3b84849bb4a4c276e1f74a5": {
      "model_module": "@jupyter-widgets/base",
      "model_module_version": "1.2.0",
      "model_name": "LayoutModel",
      "state": {}
     },
     "a51c780c5dc643248d307e72b219de8f": {
      "model_module": "@jupyter-widgets/controls",
      "model_module_version": "1.5.0",
      "model_name": "HTMLModel",
      "state": {
       "layout": "IPY_MODEL_4d125bb913ce4c77896bd3dc9e20e9ed",
       "style": "IPY_MODEL_be7d9eb0422342049297e69ae8e075bd",
       "value": "<p>1st section of space name code</p>"
      }
     },
     "a57a74ddbe9b462ba5ed0c65981527e7": {
      "model_module": "@jupyter-widgets/controls",
      "model_module_version": "1.5.0",
      "model_name": "DescriptionStyleModel",
      "state": {
       "description_width": ""
      }
     },
     "a5e65102af0a462d9a624251d5270cab": {
      "model_module": "@jupyter-widgets/base",
      "model_module_version": "1.2.0",
      "model_name": "LayoutModel",
      "state": {
       "align_items": "stretch",
       "display": "flex",
       "flex_flow": "row",
       "grid_auto_columns": "True",
       "justify_content": "flex-end",
       "width": "90%"
      }
     },
     "a631941ebdaa443da9eda7d6b40319ee": {
      "model_module": "@jupyter-widgets/controls",
      "model_module_version": "1.5.0",
      "model_name": "ToggleButtonModel",
      "state": {
       "icon": "arrow-down",
       "layout": "IPY_MODEL_a360b4d0be194acab6302987f9c9d43b",
       "style": "IPY_MODEL_7935a4351cb144dea565ba78799dfc10"
      }
     },
     "a67c033f59574e8985bb069a3a82554d": {
      "model_module": "@jupyter-widgets/controls",
      "model_module_version": "1.5.0",
      "model_name": "DescriptionStyleModel",
      "state": {
       "description_width": ""
      }
     },
     "a6c85664380d48e587d0619873b9155e": {
      "model_module": "@jupyter-widgets/base",
      "model_module_version": "1.2.0",
      "model_name": "LayoutModel",
      "state": {
       "align_items": "stretch",
       "border": "dashed 0.2px green",
       "display": "flex",
       "flex_flow": "row",
       "grid_auto_columns": "True",
       "justify_content": "flex-start",
       "width": "100%"
      }
     },
     "a6e55a4447104920b7f900fcd23d9c6f": {
      "model_module": "@jupyter-widgets/base",
      "model_module_version": "1.2.0",
      "model_name": "LayoutModel",
      "state": {
       "align_items": "stretch",
       "display": "flex",
       "flex_flow": "row",
       "grid_auto_columns": "True",
       "justify_content": "flex-start",
       "width": "80%"
      }
     },
     "a70d8a61d0dc47f68ef0da21e7e79baa": {
      "model_module": "@jupyter-widgets/base",
      "model_module_version": "1.2.0",
      "model_name": "LayoutModel",
      "state": {
       "height": "30px",
       "width": "auto"
      }
     },
     "a777a01f52a048beb39852716f2322ad": {
      "model_module": "@jupyter-widgets/base",
      "model_module_version": "1.2.0",
      "model_name": "LayoutModel",
      "state": {}
     },
     "a788e100fc1a4d24a7ee8d6c98c101a1": {
      "model_module": "@jupyter-widgets/base",
      "model_module_version": "1.2.0",
      "model_name": "LayoutModel",
      "state": {}
     },
     "a7e48c3e3baa43079191927beecd8fff": {
      "model_module": "@jupyter-widgets/base",
      "model_module_version": "1.2.0",
      "model_name": "LayoutModel",
      "state": {}
     },
     "a7f97b599dae485cabf39cd3077ff0d4": {
      "model_module": "@jupyter-widgets/controls",
      "model_module_version": "1.5.0",
      "model_name": "HBoxModel",
      "state": {
       "children": [
        "IPY_MODEL_75d43012c6194138b85cef67479952a0"
       ],
       "layout": "IPY_MODEL_cc4a6065dfa3405fae7be7cb3680d620"
      }
     },
     "a84bd7dcde024d8c9b8c725005febb5e": {
      "model_module": "@jupyter-widgets/controls",
      "model_module_version": "1.5.0",
      "model_name": "DescriptionStyleModel",
      "state": {
       "description_width": ""
      }
     },
     "a85f6a0270e64b728739618c76779eca": {
      "model_module": "@jupyter-widgets/controls",
      "model_module_version": "1.5.0",
      "model_name": "TextModel",
      "state": {
       "description": "inputs",
       "disabled": true,
       "layout": "IPY_MODEL_31753ff603384c7e8bd6dcf93d027ee2",
       "style": "IPY_MODEL_a9225f53bbd5478cbdc9625ba585ebb9",
       "value": "C:\\engDev\\git_mf\\ipyrun\\examples\\notebooks\\appdata\\inputs\\inputs-gbxml.json"
      }
     },
     "a8aab953df274c0c875fe80a11fc60e0": {
      "model_module": "@jupyter-widgets/controls",
      "model_module_version": "1.5.0",
      "model_name": "HTMLModel",
      "state": {
       "layout": "IPY_MODEL_7ffdf73c815241d2ae68150403489aa4",
       "style": "IPY_MODEL_54053b681f8d419ebffa6d52702f14a3",
       "value": "<p>input gbxml filepath</p>"
      }
     },
     "a9225f53bbd5478cbdc9625ba585ebb9": {
      "model_module": "@jupyter-widgets/controls",
      "model_module_version": "1.5.0",
      "model_name": "DescriptionStyleModel",
      "state": {
       "description_width": ""
      }
     },
     "a9e23dab4179494785a6ac48a156c37c": {
      "model_module": "@jupyter-widgets/base",
      "model_module_version": "1.2.0",
      "model_name": "LayoutModel",
      "state": {}
     },
     "aa109daa95b64ea1855a78fdfda0a13d": {
      "model_module": "@jupyter-widgets/base",
      "model_module_version": "1.2.0",
      "model_name": "LayoutModel",
      "state": {
       "align_items": "stretch",
       "display": "flex",
       "flex_flow": "row",
       "grid_auto_columns": "True",
       "justify_content": "flex-start",
       "width": "80%"
      }
     },
     "aa13c288952c457aa687906c59524932": {
      "model_module": "@jupyter-widgets/base",
      "model_module_version": "1.2.0",
      "model_name": "LayoutModel",
      "state": {}
     },
     "aa68d45ae4d34148bc1338b4e90dc392": {
      "model_module": "@jupyter-widgets/base",
      "model_module_version": "1.2.0",
      "model_name": "LayoutModel",
      "state": {
       "align_items": "stretch",
       "display": "flex",
       "flex_flow": "row",
       "grid_auto_columns": "True",
       "justify_content": "flex-end",
       "width": "90%"
      }
     },
     "aa6e073eaf15456a9645e3f0a59e3722": {
      "model_module": "@jupyter-widgets/controls",
      "model_module_version": "1.5.0",
      "model_name": "HBoxModel",
      "state": {
       "children": [
        "IPY_MODEL_ad144d020f40418eaa95d8d85685cf4d",
        "IPY_MODEL_3ed3279886da439a8beeea4c41f1b2be"
       ],
       "layout": "IPY_MODEL_1c1750f75ff5420ca764c95be4e16018"
      }
     },
     "aabb26dbc44f4787bcc0135e45947982": {
      "model_module": "@jupyter-widgets/controls",
      "model_module_version": "1.5.0",
      "model_name": "ButtonStyleModel",
      "state": {
       "font_weight": "bold"
      }
     },
     "ab03b205de1540f7a04647156dc5baf0": {
      "model_module": "@jupyter-widgets/controls",
      "model_module_version": "1.5.0",
      "model_name": "VBoxModel",
      "state": {
       "children": [
        "IPY_MODEL_700cb12a09cb47aa896d7fb734c5833f",
        "IPY_MODEL_3409915467cd4a3290f7c75fc70da62e"
       ],
       "layout": "IPY_MODEL_0f1fe0b2d6684393822496bbfaa0f190"
      }
     },
     "ab0dda01b08848719da0fc1ff1ca5039": {
      "model_module": "@jupyter-widgets/base",
      "model_module_version": "1.2.0",
      "model_name": "LayoutModel",
      "state": {
       "align_items": "stretch",
       "display": "flex",
       "flex_flow": "row",
       "grid_auto_columns": "True",
       "justify_content": "flex-start",
       "width": "80%"
      }
     },
     "ab1122cd6a7f429e9dc025dd5446383d": {
      "model_module": "@jupyter-widgets/base",
      "model_module_version": "1.2.0",
      "model_name": "LayoutModel",
      "state": {}
     },
     "ab93cf43e61e4110904d8cdb580d905d": {
      "model_module": "@jupyter-widgets/controls",
      "model_module_version": "1.5.0",
      "model_name": "DescriptionStyleModel",
      "state": {
       "description_width": ""
      }
     },
     "abe817f72595494197758c46eb8cb9c2": {
      "model_module": "@jupyter-widgets/controls",
      "model_module_version": "1.5.0",
      "model_name": "VBoxModel",
      "state": {
       "layout": "IPY_MODEL_205f9ea42d434c13a166007b517a261e"
      }
     },
     "ac3469f652c743d1a18858e43ee92586": {
      "model_module": "@jupyter-widgets/base",
      "model_module_version": "1.2.0",
      "model_name": "LayoutModel",
      "state": {
       "align_items": "stretch",
       "border": "dashed 0.2px green",
       "display": "flex",
       "flex_flow": "row",
       "grid_auto_columns": "True",
       "justify_content": "flex-start",
       "width": "100%"
      }
     },
     "ac972ea1c9434de694fbc21e953107f7": {
      "model_module": "@jupyter-widgets/output",
      "model_module_version": "1.0.0",
      "model_name": "OutputModel",
      "state": {
       "layout": "IPY_MODEL_2343ffb7ee5842a89ac5a6fc9d4d91f3"
      }
     },
     "acdc28c102e44de6829c24f97a6e5f9c": {
      "model_module": "@jupyter-widgets/controls",
      "model_module_version": "1.5.0",
      "model_name": "DescriptionStyleModel",
      "state": {
       "description_width": ""
      }
     },
     "acee701aafbf47f78681ab9d743eecda": {
      "model_module": "@jupyter-widgets/controls",
      "model_module_version": "1.5.0",
      "model_name": "DescriptionStyleModel",
      "state": {
       "description_width": ""
      }
     },
     "acfb65790bc249c18ebe201924d8cbd2": {
      "model_module": "@jupyter-widgets/controls",
      "model_module_version": "1.5.0",
      "model_name": "VBoxModel",
      "state": {
       "children": [
        "IPY_MODEL_e36cbfedb9364a00a5fc6faa8d77a4d6",
        "IPY_MODEL_82766d1ca9a74a859d1e0b60b785cb17"
       ],
       "layout": "IPY_MODEL_1a241da2a6f140849006f5ef3f36d2fa"
      }
     },
     "ad144d020f40418eaa95d8d85685cf4d": {
      "model_module": "@jupyter-widgets/controls",
      "model_module_version": "1.5.0",
      "model_name": "TextModel",
      "state": {
       "layout": "IPY_MODEL_a1b66fcc0f7740c99c1cb7020afbb2b5",
       "style": "IPY_MODEL_f40c918133a1448286aba87e4537247a",
       "value": "C:\\engDev\\git_mf\\MF_Toolbox\\dev\\examples\\gbxml\\105_LiveseyExchange_heatpump-normal-fabric.xml"
      }
     },
     "ad26d3ac3dd94e3dadd55780aee948a1": {
      "model_module": "@jupyter-widgets/controls",
      "model_module_version": "1.5.0",
      "model_name": "HBoxModel",
      "state": {
       "children": [
        "IPY_MODEL_e303478929784d929cda693e513aed88",
        "IPY_MODEL_7343a48cdf154865800bee63ecd4549b"
       ],
       "layout": "IPY_MODEL_985a19513c7146e29fd92adff5244e96"
      }
     },
     "ae1c8a40b7574e5497da43bff2fc67c6": {
      "model_module": "@jupyter-widgets/base",
      "model_module_version": "1.2.0",
      "model_name": "LayoutModel",
      "state": {}
     },
     "ae922ee76f1a401bb0354f6c2e49747c": {
      "model_module": "@jupyter-widgets/controls",
      "model_module_version": "1.5.0",
      "model_name": "HBoxModel",
      "state": {
       "children": [
        "IPY_MODEL_d20cb4d6469b46818a0ad0dd6cafd2df",
        "IPY_MODEL_8d6efc5d2ec34154b02e4003c4b7964e"
       ],
       "layout": "IPY_MODEL_8b2c5f2154e94b1aa333546fd630c1ca"
      }
     },
     "af133b076c6d425188ca8052a78869a6": {
      "model_module": "@jupyter-widgets/controls",
      "model_module_version": "1.5.0",
      "model_name": "DescriptionStyleModel",
      "state": {
       "description_width": ""
      }
     },
     "af98163a5ca6421fba9fc3bf9357c457": {
      "model_module": "@jupyter-widgets/base",
      "model_module_version": "1.2.0",
      "model_name": "LayoutModel",
      "state": {}
     },
     "afc80f4cced94c1face1e4505ae3d0ff": {
      "model_module": "@jupyter-widgets/controls",
      "model_module_version": "1.5.0",
      "model_name": "VBoxModel",
      "state": {
       "children": [
        "IPY_MODEL_b74873e0bdd848eda443c6f390abcc6e",
        "IPY_MODEL_f267601651ca47838711eef1da999dd8"
       ],
       "layout": "IPY_MODEL_54c36a291b664e2b9a00b138d9515b23"
      }
     },
     "aff20e1437c84804a4a01c5a829ff774": {
      "model_module": "@jupyter-widgets/controls",
      "model_module_version": "1.5.0",
      "model_name": "HTMLModel",
      "state": {
       "layout": "IPY_MODEL_65e2c109c59e48d29c3fd5e30b110092",
       "style": "IPY_MODEL_5a516a744f56410abf75ec22769de0f2",
       "value": "<p>1st section of space name code</p>"
      }
     },
     "affd1e16c1734c928d9ba03a8766809f": {
      "model_module": "@jupyter-widgets/base",
      "model_module_version": "1.2.0",
      "model_name": "LayoutModel",
      "state": {
       "align_items": "stretch",
       "border": "dashed 0.2px green",
       "display": "flex",
       "flex_flow": "row",
       "grid_auto_columns": "True",
       "justify_content": "flex-start",
       "width": "100%"
      }
     },
     "affd2ddc74854f5e8b0ce4acb164eba3": {
      "model_module": "@jupyter-widgets/output",
      "model_module_version": "1.0.0",
      "model_name": "OutputModel",
      "state": {
       "layout": "IPY_MODEL_58d42ffc73d44a6ba65d628c63e30d80"
      }
     },
     "b035f8bec8ca482d9e2dcd6a0cca5687": {
      "model_module": "@jupyter-widgets/base",
      "model_module_version": "1.2.0",
      "model_name": "LayoutModel",
      "state": {}
     },
     "b044f11304394d83b2d4fe63f1127169": {
      "model_module": "@jupyter-widgets/base",
      "model_module_version": "1.2.0",
      "model_name": "LayoutModel",
      "state": {}
     },
     "b07665cbead34450a9ee1ae7ce815c14": {
      "model_module": "@jupyter-widgets/controls",
      "model_module_version": "1.5.0",
      "model_name": "HTMLModel",
      "state": {
       "layout": "IPY_MODEL_30721cf2036c4f84b2de37cc790513c1",
       "style": "IPY_MODEL_5ef4ec6404c54b8f9a57d86b21a7492d",
       "value": "<p>3</p>"
      }
     },
     "b0fd90fa8fa64f059cdadf09243994b8": {
      "model_module": "@jupyter-widgets/controls",
      "model_module_version": "1.5.0",
      "model_name": "VBoxModel",
      "state": {
       "layout": "IPY_MODEL_fefa2087a1204a81ade73592964e4f0c"
      }
     },
     "b1197087f5884beaaa955fb929f2eab6": {
      "model_module": "@jupyter-widgets/base",
      "model_module_version": "1.2.0",
      "model_name": "LayoutModel",
      "state": {}
     },
     "b12e0555f17d4a24a9879e560ee08208": {
      "model_module": "@jupyter-widgets/base",
      "model_module_version": "1.2.0",
      "model_name": "LayoutModel",
      "state": {
       "align_items": "stretch",
       "display": "flex",
       "flex_flow": "row",
       "grid_auto_columns": "True",
       "justify_content": "flex-end",
       "width": "90%"
      }
     },
     "b14d7c75e5b8454182775b9f1ad8dbb9": {
      "model_module": "@jupyter-widgets/controls",
      "model_module_version": "1.5.0",
      "model_name": "HBoxModel",
      "state": {
       "children": [
        "IPY_MODEL_2a20cf60cfcc46e1bf18ced56423b3e8"
       ],
       "layout": "IPY_MODEL_2b4203b7ddef4ca8a092a89d425b1271"
      }
     },
     "b1a657b1e0354cbbb9528a6d989ce466": {
      "model_module": "@jupyter-widgets/base",
      "model_module_version": "1.2.0",
      "model_name": "LayoutModel",
      "state": {}
     },
     "b1da62dac3264a5097849780f19a4393": {
      "model_module": "@jupyter-widgets/controls",
      "model_module_version": "1.5.0",
      "model_name": "TextModel",
      "state": {
       "layout": "IPY_MODEL_dc14bb1bd66045c1b10c9605fb48d275",
       "style": "IPY_MODEL_662d5fe7d4dc445495d84297c26b0d17",
       "value": "BlockCode"
      }
     },
     "b1f2c2bbedfd4a18b8fb157ce8293a1d": {
      "model_module": "@jupyter-widgets/controls",
      "model_module_version": "1.5.0",
      "model_name": "HBoxModel",
      "state": {
       "children": [
        "IPY_MODEL_f5a4152c97f94605878246474794c30d"
       ],
       "layout": "IPY_MODEL_2725fcf9fa9147feb3d5b08e80c0278a"
      }
     },
     "b252544cc8b742f6af954f6b3dbdb7e7": {
      "model_module": "@jupyter-widgets/controls",
      "model_module_version": "1.5.0",
      "model_name": "HBoxModel",
      "state": {
       "children": [
        "IPY_MODEL_75ed9ce96c724430b5febad139b074db",
        "IPY_MODEL_d2eb302500bb4deeb837872a75a37619"
       ],
       "layout": "IPY_MODEL_049fa3dbd93a4190acba9270b0bc4310"
      }
     },
     "b25f382b36714b2684a7e294ac1ec090": {
      "model_module": "@jupyter-widgets/base",
      "model_module_version": "1.2.0",
      "model_name": "LayoutModel",
      "state": {
       "align_items": "stretch",
       "border": "dashed 0.2px green",
       "display": "flex",
       "flex_flow": "row",
       "grid_auto_columns": "True",
       "justify_content": "flex-start",
       "width": "100%"
      }
     },
     "b2c5e98c03744d1fb4f2d43fcf135222": {
      "model_module": "@jupyter-widgets/base",
      "model_module_version": "1.2.0",
      "model_name": "LayoutModel",
      "state": {}
     },
     "b30cd9ef1cc74eafade9b0a68719b2da": {
      "model_module": "@jupyter-widgets/controls",
      "model_module_version": "1.5.0",
      "model_name": "DescriptionStyleModel",
      "state": {
       "description_width": ""
      }
     },
     "b36fa7e811684b6b894073cc30f33b02": {
      "model_module": "@jupyter-widgets/controls",
      "model_module_version": "1.5.0",
      "model_name": "DescriptionStyleModel",
      "state": {
       "description_width": ""
      }
     },
     "b39e9496669843328df3205a1fd86ec7": {
      "model_module": "@jupyter-widgets/controls",
      "model_module_version": "1.5.0",
      "model_name": "DescriptionStyleModel",
      "state": {
       "description_width": ""
      }
     },
     "b44851d2ebb34de5bbd9ad7f82b42c3c": {
      "model_module": "@jupyter-widgets/base",
      "model_module_version": "1.2.0",
      "model_name": "LayoutModel",
      "state": {}
     },
     "b493a2b362c94b30a182c5c62fa80c1f": {
      "model_module": "@jupyter-widgets/controls",
      "model_module_version": "1.5.0",
      "model_name": "DescriptionStyleModel",
      "state": {
       "description_width": ""
      }
     },
     "b4b946e218f34228ae94e4f4f4a963ae": {
      "model_module": "@jupyter-widgets/controls",
      "model_module_version": "1.5.0",
      "model_name": "TextModel",
      "state": {
       "layout": "IPY_MODEL_082e7af2755c4107ae557a0f9f4a7e70",
       "style": "IPY_MODEL_a84bd7dcde024d8c9b8c725005febb5e",
       "value": "BlockCode"
      }
     },
     "b4bf36d5e88c4ac1b09fefe59b722a76": {
      "model_module": "@jupyter-widgets/controls",
      "model_module_version": "1.5.0",
      "model_name": "DescriptionStyleModel",
      "state": {
       "description_width": ""
      }
     },
     "b4e7d11b63f24a39b08e4f94ca57e260": {
      "model_module": "@jupyter-widgets/base",
      "model_module_version": "1.2.0",
      "model_name": "LayoutModel",
      "state": {}
     },
     "b6ba774d194448b9b883b138f13a5765": {
      "model_module": "@jupyter-widgets/base",
      "model_module_version": "1.2.0",
      "model_name": "LayoutModel",
      "state": {}
     },
     "b6bd87fea8934010aa3db66ddc90f3b8": {
      "model_module": "@jupyter-widgets/controls",
      "model_module_version": "1.5.0",
      "model_name": "DescriptionStyleModel",
      "state": {
       "description_width": ""
      }
     },
     "b74873e0bdd848eda443c6f390abcc6e": {
      "model_module": "@jupyter-widgets/controls",
      "model_module_version": "1.5.0",
      "model_name": "HBoxModel",
      "state": {
       "children": [
        "IPY_MODEL_34661ba580eb423993ef5d0e9a4dc7fc"
       ],
       "layout": "IPY_MODEL_b25f382b36714b2684a7e294ac1ec090"
      }
     },
     "b7788f098f0e4db9aeec5bbadf472b92": {
      "model_module": "@jupyter-widgets/controls",
      "model_module_version": "1.5.0",
      "model_name": "HBoxModel",
      "state": {
       "children": [
        "IPY_MODEL_2ac1e15221854a5ab2e7954eee6c6a4a"
       ],
       "layout": "IPY_MODEL_1dc26c8054fc47e4be8f849689c40d70"
      }
     },
     "b7a802f103a0496281b7bbfbe546f024": {
      "model_module": "@jupyter-widgets/controls",
      "model_module_version": "1.5.0",
      "model_name": "HBoxModel",
      "state": {
       "children": [
        "IPY_MODEL_6fdfacda57014fd8bf21dbea3cf13de8",
        "IPY_MODEL_4c799b4510e04b64970a1c55c9e06d67"
       ],
       "layout": "IPY_MODEL_45d1de0aaa244da08e50dc50d01325b2"
      }
     },
     "b8d0f871f9a040358d4ece56535668e1": {
      "model_module": "@jupyter-widgets/base",
      "model_module_version": "1.2.0",
      "model_name": "LayoutModel",
      "state": {}
     },
     "b90a6d591fd742e1ad476140f02dabdd": {
      "model_module": "@jupyter-widgets/base",
      "model_module_version": "1.2.0",
      "model_name": "LayoutModel",
      "state": {}
     },
     "ba89d7547ea24c62977fa6be9e1bf26d": {
      "model_module": "@jupyter-widgets/base",
      "model_module_version": "1.2.0",
      "model_name": "LayoutModel",
      "state": {
       "align_items": "stretch",
       "border": "dashed 0.2px green",
       "display": "flex",
       "flex_flow": "row",
       "grid_auto_columns": "True",
       "justify_content": "flex-start",
       "width": "100%"
      }
     },
     "bc6a4fa7bf5f4d99904843dfead8a834": {
      "model_module": "@jupyter-widgets/controls",
      "model_module_version": "1.5.0",
      "model_name": "DescriptionStyleModel",
      "state": {
       "description_width": ""
      }
     },
     "bc912eac271d49339f442b91087e1c91": {
      "model_module": "@jupyter-widgets/controls",
      "model_module_version": "1.5.0",
      "model_name": "HBoxModel",
      "state": {
       "children": [
        "IPY_MODEL_136e54ce5c244bcaaee69c27402a00b9"
       ],
       "layout": "IPY_MODEL_affd1e16c1734c928d9ba03a8766809f"
      }
     },
     "bc972065a39d4ac4938be799ab5efde6": {
      "model_module": "@jupyter-widgets/output",
      "model_module_version": "1.0.0",
      "model_name": "OutputModel",
      "state": {
       "layout": "IPY_MODEL_0874f96702954c18aab2a011e17f97e6"
      }
     },
     "bd5b8d679f2b4e108e8e50436870d317": {
      "model_module": "@jupyter-widgets/controls",
      "model_module_version": "1.5.0",
      "model_name": "DescriptionStyleModel",
      "state": {
       "description_width": ""
      }
     },
     "be105c93b1fa4406be7d665d1aea856f": {
      "model_module": "@jupyter-widgets/controls",
      "model_module_version": "1.5.0",
      "model_name": "ButtonModel",
      "state": {
       "button_style": "warning",
       "description": "revert to last save",
       "layout": "IPY_MODEL_aa13c288952c457aa687906c59524932",
       "style": "IPY_MODEL_c7ffc6a5dc9c4d3dab73959c84c8e0eb"
      }
     },
     "be6ec138c6d84219b780b24cee8b0890": {
      "model_module": "@jupyter-widgets/base",
      "model_module_version": "1.2.0",
      "model_name": "LayoutModel",
      "state": {}
     },
     "be732aa2c65b4d06824c7c984b0aec3a": {
      "model_module": "@jupyter-widgets/controls",
      "model_module_version": "1.5.0",
      "model_name": "HBoxModel",
      "state": {
       "children": [
        "IPY_MODEL_c2a82bd9a8344721945eeafa07ffc38a",
        "IPY_MODEL_b7a802f103a0496281b7bbfbe546f024"
       ],
       "layout": "IPY_MODEL_0380dc5eaf8441a282ea177c331b4e7f"
      }
     },
     "be7d9eb0422342049297e69ae8e075bd": {
      "model_module": "@jupyter-widgets/controls",
      "model_module_version": "1.5.0",
      "model_name": "DescriptionStyleModel",
      "state": {
       "description_width": ""
      }
     },
     "bebfdca794d1421a907e40604cbbff0d": {
      "model_module": "@jupyter-widgets/base",
      "model_module_version": "1.2.0",
      "model_name": "LayoutModel",
      "state": {}
     },
     "bf368e14265c4b909db3f19057163d72": {
      "model_module": "@jupyter-widgets/base",
      "model_module_version": "1.2.0",
      "model_name": "LayoutModel",
      "state": {}
     },
     "bf4cb869053c45c89ef30aefa5d0c22d": {
      "model_module": "@jupyter-widgets/base",
      "model_module_version": "1.2.0",
      "model_name": "LayoutModel",
      "state": {
       "align_items": "stretch",
       "display": "flex",
       "flex_flow": "row",
       "grid_auto_columns": "True",
       "justify_content": "flex-start",
       "width": "80%"
      }
     },
     "bf76938975a849a9b427bb883e13094b": {
      "model_module": "@jupyter-widgets/controls",
      "model_module_version": "1.5.0",
      "model_name": "DescriptionStyleModel",
      "state": {
       "description_width": ""
      }
     },
     "bf93967354ca4efbb8fd0dcd7fd93710": {
      "model_module": "@jupyter-widgets/controls",
      "model_module_version": "1.5.0",
      "model_name": "HBoxModel",
      "state": {
       "children": [
        "IPY_MODEL_4c61281ad99b4ea7a7699019ce110130",
        "IPY_MODEL_da5332b7981249338d76ea27d81fa051"
       ],
       "layout": "IPY_MODEL_2190ade145a94d509ccf5bc3fc1da51f"
      }
     },
     "bfc08076a9fa45e3993af32e20633a97": {
      "model_module": "@jupyter-widgets/controls",
      "model_module_version": "1.5.0",
      "model_name": "TextModel",
      "state": {
       "layout": "IPY_MODEL_b2c5e98c03744d1fb4f2d43fcf135222",
       "style": "IPY_MODEL_5e6519b37a774a13a5b99da32a1618cf",
       "value": "SpaceId"
      }
     },
     "c0124898f690487db4f69a834c54f822": {
      "model_module": "@jupyter-widgets/controls",
      "model_module_version": "1.5.0",
      "model_name": "HTMLModel",
      "state": {
       "layout": "IPY_MODEL_b1a657b1e0354cbbb9528a6d989ce466",
       "style": "IPY_MODEL_1814c892cdf14b9baf97223ff55144e7",
       "value": "<p>2</p>"
      }
     },
     "c026d1d489444ce2bc3438af562ca7f6": {
      "model_module": "@jupyter-widgets/controls",
      "model_module_version": "1.5.0",
      "model_name": "VBoxModel",
      "state": {
       "children": [
        "IPY_MODEL_42e6d02a5c264ccca0eebf1dd9e92f80",
        "IPY_MODEL_d6a5e028d5a14814aeb7130a82376457",
        "IPY_MODEL_1c0bf9edbafd412b8b8dd9a22e8e871b",
        "IPY_MODEL_7aa140c21e7440aab98d81bccfdab5a7",
        "IPY_MODEL_dda139270c76408a9333f0358a5299ea"
       ],
       "layout": "IPY_MODEL_5dfcae0268db47d385276396212a8d7b"
      }
     },
     "c043ce2862954a909f288e7493189098": {
      "model_module": "@jupyter-widgets/base",
      "model_module_version": "1.2.0",
      "model_name": "LayoutModel",
      "state": {}
     },
     "c0acc6fbcdd74b4d8473af42d94e6fa0": {
      "model_module": "@jupyter-widgets/base",
      "model_module_version": "1.2.0",
      "model_name": "LayoutModel",
      "state": {
       "align_items": "stretch",
       "border": "dashed 0.2px green",
       "display": "flex",
       "flex_flow": "row",
       "grid_auto_columns": "True",
       "justify_content": "flex-start",
       "width": "100%"
      }
     },
     "c1019868c24447b183fea27b4c2edc62": {
      "model_module": "@jupyter-widgets/base",
      "model_module_version": "1.2.0",
      "model_name": "LayoutModel",
      "state": {}
     },
     "c1753b01e18842c5bf0ed577c9e8d6be": {
      "model_module": "@jupyter-widgets/controls",
      "model_module_version": "1.5.0",
      "model_name": "HTMLModel",
      "state": {
       "layout": "IPY_MODEL_2204eea1a80a45788d1320400e9d0706",
       "style": "IPY_MODEL_09185cf09d4c45c79d1c3e95b1a88c3b",
       "value": "<p>1</p>"
      }
     },
     "c1a8c9185c98475da5a4cfccf521ffcb": {
      "model_module": "@jupyter-widgets/base",
      "model_module_version": "1.2.0",
      "model_name": "LayoutModel",
      "state": {
       "align_items": "stretch",
       "display": "flex",
       "flex_flow": "row",
       "grid_auto_columns": "True",
       "justify_content": "flex-end",
       "width": "90%"
      }
     },
     "c1e6295f96a64e099bb13b44429fae41": {
      "model_module": "@jupyter-widgets/controls",
      "model_module_version": "1.5.0",
      "model_name": "HTMLModel",
      "state": {
       "layout": "IPY_MODEL_3e60c51a8a4742778b7931358e8796ab",
       "style": "IPY_MODEL_385ae06483284bbfa06d991325d2d1ce",
       "value": "<p>2</p>"
      }
     },
     "c28feef7f8174175b3bff02120337336": {
      "model_module": "@jupyter-widgets/base",
      "model_module_version": "1.2.0",
      "model_name": "LayoutModel",
      "state": {}
     },
     "c2a82bd9a8344721945eeafa07ffc38a": {
      "model_module": "@jupyter-widgets/controls",
      "model_module_version": "1.5.0",
      "model_name": "HTMLModel",
      "state": {
       "layout": "IPY_MODEL_99659d8424e0416bb449d763f5b84a28",
       "style": "IPY_MODEL_25292296d54943eb8e7a6dabc069c268",
       "value": "<p>3</p>"
      }
     },
     "c336cc3e3d8b4a64953599c727af6457": {
      "model_module": "@jupyter-widgets/base",
      "model_module_version": "1.2.0",
      "model_name": "LayoutModel",
      "state": {}
     },
     "c34831b010b84911ab1731bf27891cc4": {
      "model_module": "@jupyter-widgets/base",
      "model_module_version": "1.2.0",
      "model_name": "LayoutModel",
      "state": {
       "align_items": "stretch",
       "border": "dashed 0.2px green",
       "display": "flex",
       "flex_flow": "row",
       "grid_auto_columns": "True",
       "justify_content": "flex-start",
       "width": "100%"
      }
     },
     "c35ee1310a0e47e4bc4f4d49b6721322": {
      "model_module": "@jupyter-widgets/controls",
      "model_module_version": "1.5.0",
      "model_name": "HBoxModel",
      "state": {
       "children": [
        "IPY_MODEL_6edab272ba7b439090e8caea8bb86c4d",
        "IPY_MODEL_8ca97cd049ea46b8affc73f74c1e038c"
       ],
       "layout": "IPY_MODEL_aa109daa95b64ea1855a78fdfda0a13d"
      }
     },
     "c399739238ef4d6499a5b5fa20bc27b4": {
      "model_module": "@jupyter-widgets/controls",
      "model_module_version": "1.5.0",
      "model_name": "DescriptionStyleModel",
      "state": {
       "description_width": ""
      }
     },
     "c5a4232acff24020959a72566a00ee8b": {
      "model_module": "@jupyter-widgets/base",
      "model_module_version": "1.2.0",
      "model_name": "LayoutModel",
      "state": {
       "align_items": "stretch",
       "display": "flex",
       "flex_flow": "row",
       "grid_auto_columns": "True",
       "justify_content": "flex-end",
       "width": "90%"
      }
     },
     "c5c35c59e06b4d20a23163fc28cb7339": {
      "model_module": "@jupyter-widgets/base",
      "model_module_version": "1.2.0",
      "model_name": "LayoutModel",
      "state": {}
     },
     "c63014ebca1049eda7dbc84f9be16d3c": {
      "model_module": "@jupyter-widgets/controls",
      "model_module_version": "1.5.0",
      "model_name": "ButtonStyleModel",
      "state": {
       "font_weight": "bold"
      }
     },
     "c6c89aa29412433b82ee25d256b5eb64": {
      "model_module": "@jupyter-widgets/controls",
      "model_module_version": "1.5.0",
      "model_name": "VBoxModel",
      "state": {
       "children": [
        "IPY_MODEL_6a4ddc27329c41e68b7b24f0605d6865",
        "IPY_MODEL_b14d7c75e5b8454182775b9f1ad8dbb9",
        "IPY_MODEL_29275c2181b24021836c6e6532ada1a0",
        "IPY_MODEL_a7f97b599dae485cabf39cd3077ff0d4",
        "IPY_MODEL_e45792ed41cc419e9cf2b5d87754cf80"
       ],
       "layout": "IPY_MODEL_fe4914e556604a8b890fb8b2c61e546f"
      }
     },
     "c6e67f02289a477a97b9e8de14a6468e": {
      "model_module": "@jupyter-widgets/controls",
      "model_module_version": "1.5.0",
      "model_name": "HBoxModel",
      "state": {
       "children": [
        "IPY_MODEL_b1da62dac3264a5097849780f19a4393",
        "IPY_MODEL_809c7fefec4e48f0acea9962719ae23c"
       ],
       "layout": "IPY_MODEL_302b294f9422435fa7c3b5ecea5af941"
      }
     },
     "c7ffc6a5dc9c4d3dab73959c84c8e0eb": {
      "model_module": "@jupyter-widgets/controls",
      "model_module_version": "1.5.0",
      "model_name": "ButtonStyleModel",
      "state": {
       "font_weight": "bold"
      }
     },
     "c806232ac80b47d8b736f6b7e8c55394": {
      "model_module": "@jupyter-widgets/controls",
      "model_module_version": "1.5.0",
      "model_name": "HBoxModel",
      "state": {
       "children": [
        "IPY_MODEL_a0f78aebe9ff4df3a105dd292ee0761d"
       ],
       "layout": "IPY_MODEL_601158a432344a7284405191e241c1fa"
      }
     },
     "c8413128cb954b05a5c6e9c22091b435": {
      "model_module": "@jupyter-widgets/base",
      "model_module_version": "1.2.0",
      "model_name": "LayoutModel",
      "state": {
       "align_items": "stretch",
       "display": "flex",
       "flex_flow": "row",
       "grid_auto_columns": "True",
       "justify_content": "flex-start",
       "width": "80%"
      }
     },
     "c8415af030a94d7db8a9835ead8f1d25": {
      "model_module": "@jupyter-widgets/base",
      "model_module_version": "1.2.0",
      "model_name": "LayoutModel",
      "state": {}
     },
     "c86b7336fa684786bd5a836adc49b9bf": {
      "model_module": "@jupyter-widgets/controls",
      "model_module_version": "1.5.0",
      "model_name": "DescriptionStyleModel",
      "state": {
       "description_width": ""
      }
     },
     "c87f214219cd4b75afd0a28836b5ad69": {
      "model_module": "@jupyter-widgets/base",
      "model_module_version": "1.2.0",
      "model_name": "LayoutModel",
      "state": {}
     },
     "c88db33032a94d849b706063eac66e6a": {
      "model_module": "@jupyter-widgets/controls",
      "model_module_version": "1.5.0",
      "model_name": "DescriptionStyleModel",
      "state": {
       "description_width": ""
      }
     },
     "c8bdfbe18221437b9faeca120c465e0e": {
      "model_module": "@jupyter-widgets/base",
      "model_module_version": "1.2.0",
      "model_name": "LayoutModel",
      "state": {}
     },
     "c9ee063d96cc4f02aa1779f01a786a22": {
      "model_module": "@jupyter-widgets/base",
      "model_module_version": "1.2.0",
      "model_name": "LayoutModel",
      "state": {
       "align_items": "stretch",
       "display": "flex",
       "flex_flow": "row",
       "grid_auto_columns": "True",
       "justify_content": "flex-end",
       "width": "90%"
      }
     },
     "ca49e9edfac34bab8ee67e38990efa37": {
      "model_module": "@jupyter-widgets/controls",
      "model_module_version": "1.5.0",
      "model_name": "DescriptionStyleModel",
      "state": {
       "description_width": ""
      }
     },
     "cb05da344e5e48d2abc8cd6c51cfb1cb": {
      "model_module": "@jupyter-widgets/output",
      "model_module_version": "1.0.0",
      "model_name": "OutputModel",
      "state": {
       "layout": "IPY_MODEL_9ca58d5a281d48989daa81b592a8247e"
      }
     },
     "cb11436fd3d74caca69ef7496104c9ef": {
      "model_module": "@jupyter-widgets/base",
      "model_module_version": "1.2.0",
      "model_name": "LayoutModel",
      "state": {
       "align_items": "stretch",
       "display": "flex",
       "flex_flow": "row",
       "grid_auto_columns": "True",
       "justify_content": "flex-end",
       "width": "90%"
      }
     },
     "cb1b61971af544d1acdb4b4290241a99": {
      "model_module": "@jupyter-widgets/controls",
      "model_module_version": "1.5.0",
      "model_name": "DescriptionStyleModel",
      "state": {
       "description_width": ""
      }
     },
     "cb40c2396caa46019f6fc21c7f770e01": {
      "model_module": "@jupyter-widgets/controls",
      "model_module_version": "1.5.0",
      "model_name": "ButtonModel",
      "state": {
       "icon": "eye-slash",
       "layout": "IPY_MODEL_73d794ceb1474ccc968b477ce5796166",
       "style": "IPY_MODEL_36b0c8648c4d4b70bae5eaab60e6534b",
       "tooltip": "removes temporary output view"
      }
     },
     "cb8e49640a1444948cf9d6a8d76a88f9": {
      "model_module": "@jupyter-widgets/base",
      "model_module_version": "1.2.0",
      "model_name": "LayoutModel",
      "state": {
       "align_items": "stretch",
       "display": "flex",
       "flex_flow": "row",
       "grid_auto_columns": "True",
       "justify_content": "flex-end",
       "width": "90%"
      }
     },
     "cc18bdb7513f4b77afaed82d63db1164": {
      "model_module": "@jupyter-widgets/base",
      "model_module_version": "1.2.0",
      "model_name": "LayoutModel",
      "state": {}
     },
     "cc46e980575a444aac91125df5c6e965": {
      "model_module": "@jupyter-widgets/controls",
      "model_module_version": "1.5.0",
      "model_name": "VBoxModel",
      "state": {
       "children": [
        "IPY_MODEL_ea922d7acda64bf9be563774b13e2471",
        "IPY_MODEL_673de2d1f8814f8aaeebca0f99b95f9d",
        "IPY_MODEL_c806232ac80b47d8b736f6b7e8c55394",
        "IPY_MODEL_bc912eac271d49339f442b91087e1c91",
        "IPY_MODEL_fc574c16cc0846afbedfb18781400a6f"
       ],
       "layout": "IPY_MODEL_07308b406f244e35860adefc5adecd8d"
      }
     },
     "cc4a6065dfa3405fae7be7cb3680d620": {
      "model_module": "@jupyter-widgets/base",
      "model_module_version": "1.2.0",
      "model_name": "LayoutModel",
      "state": {
       "align_items": "stretch",
       "border": "dashed 0.2px green",
       "display": "flex",
       "flex_flow": "row",
       "grid_auto_columns": "True",
       "justify_content": "flex-start",
       "width": "100%"
      }
     },
     "cc7227509d3748fd807bb9d64372ebfd": {
      "model_module": "@jupyter-widgets/controls",
      "model_module_version": "1.5.0",
      "model_name": "DescriptionStyleModel",
      "state": {
       "description_width": ""
      }
     },
     "ccb28eed3ba8419baced6936b15ad382": {
      "model_module": "@jupyter-widgets/controls",
      "model_module_version": "1.5.0",
      "model_name": "DescriptionStyleModel",
      "state": {
       "description_width": ""
      }
     },
     "ccef28c795154fa2a22d6ccd97369931": {
      "model_module": "@jupyter-widgets/controls",
      "model_module_version": "1.5.0",
      "model_name": "HTMLModel",
      "state": {
       "layout": "IPY_MODEL_b90a6d591fd742e1ad476140f02dabdd",
       "style": "IPY_MODEL_dfa4ae18ecab4f659b9ef5f738765718",
       "value": "<p>fpth_in</p>"
      }
     },
     "cd37b41fff3c4889917dd1e0d02a4141": {
      "model_module": "@jupyter-widgets/controls",
      "model_module_version": "1.5.0",
      "model_name": "HTMLModel",
      "state": {
       "layout": "IPY_MODEL_0b8e9e00dc1a466998457f7923458c00",
       "style": "IPY_MODEL_66080e71510c4ad0819d11a39d601aa9",
       "value": "<p>4</p>"
      }
     },
     "cdbad8c00343447fbdc382a333eabacb": {
      "model_module": "@jupyter-widgets/controls",
      "model_module_version": "1.5.0",
      "model_name": "DescriptionStyleModel",
      "state": {
       "description_width": ""
      }
     },
     "ce11394d4fa44cbc935dbc0045dfd4da": {
      "model_module": "@jupyter-widgets/controls",
      "model_module_version": "1.5.0",
      "model_name": "ButtonModel",
      "state": {
       "icon": "question-circle",
       "layout": "IPY_MODEL_4ccd11c0356548a487e626b962f2002f",
       "style": "IPY_MODEL_95c7cce2fe31491aa923821f1b99ff5e",
       "tooltip": "describes the functionality of elements in the RunApp interface"
      }
     },
     "ce3d42ec9b2e470b8f96ddb5ed11b395": {
      "model_module": "@jupyter-widgets/base",
      "model_module_version": "1.2.0",
      "model_name": "LayoutModel",
      "state": {}
     },
     "ce4ff47b93534046a04bf75dd03a76f5": {
      "model_module": "@jupyter-widgets/base",
      "model_module_version": "1.2.0",
      "model_name": "LayoutModel",
      "state": {}
     },
     "cea4a82e5a3d4554ae592ca163e985b0": {
      "model_module": "@jupyter-widgets/base",
      "model_module_version": "1.2.0",
      "model_name": "LayoutModel",
      "state": {}
     },
     "ced66de7a1064e22a96800f81496e41b": {
      "model_module": "@jupyter-widgets/base",
      "model_module_version": "1.2.0",
      "model_name": "LayoutModel",
      "state": {
       "align_items": "stretch",
       "width": "100%"
      }
     },
     "cfc5cb78d8f04b27bba750fb3013c10f": {
      "model_module": "@jupyter-widgets/controls",
      "model_module_version": "1.5.0",
      "model_name": "VBoxModel",
      "state": {
       "children": [
        "IPY_MODEL_6a3be84f13534a8e94e48845065bed0f",
        "IPY_MODEL_156e0d26038a43a5a94ce29133f39c9c",
        "IPY_MODEL_7deb04c015454ae9ae37249c2a6f41fd",
        "IPY_MODEL_2c4c0b0ce0a84a8e8b2e0e9b8167ef02",
        "IPY_MODEL_771a84ef2a794367aea2f580fc44b39e"
       ],
       "layout": "IPY_MODEL_18319f0fefb34205b8dd52edef5fc55b"
      }
     },
     "d00bd2ae9a544aa091c22d1aa3275ad9": {
      "model_module": "@jupyter-widgets/base",
      "model_module_version": "1.2.0",
      "model_name": "LayoutModel",
      "state": {
       "align_items": "stretch",
       "width": "100%"
      }
     },
     "d0563bbd37dd4ac1b6663968a50a88f8": {
      "model_module": "@jupyter-widgets/controls",
      "model_module_version": "1.5.0",
      "model_name": "TextModel",
      "state": {
       "layout": "IPY_MODEL_9e8f1c17e53148cfb5122ef59f090159",
       "style": "IPY_MODEL_0ec86a97fd344f1eb17d364e12dad07d",
       "value": "TM46Category"
      }
     },
     "d19b4f9be613408da6fd646843745858": {
      "model_module": "@jupyter-widgets/base",
      "model_module_version": "1.2.0",
      "model_name": "LayoutModel",
      "state": {
       "width": "100%"
      }
     },
     "d1dafc33cfd845a9989cef039c80059f": {
      "model_module": "@jupyter-widgets/base",
      "model_module_version": "1.2.0",
      "model_name": "LayoutModel",
      "state": {}
     },
     "d20cb4d6469b46818a0ad0dd6cafd2df": {
      "model_module": "@jupyter-widgets/controls",
      "model_module_version": "1.5.0",
      "model_name": "TextModel",
      "state": {
       "layout": "IPY_MODEL_c8bdfbe18221437b9faeca120c465e0e",
       "style": "IPY_MODEL_13401a31b5fd462a85d6300319f0bbd5",
       "value": "SpaceType"
      }
     },
     "d22544fb2b2e4c46b7ad2bf06f1b30ea": {
      "model_module": "@jupyter-widgets/controls",
      "model_module_version": "1.5.0",
      "model_name": "TextModel",
      "state": {
       "layout": "IPY_MODEL_9b90f26a9622488b8cd7b7a266418781",
       "style": "IPY_MODEL_c88db33032a94d849b706063eac66e6a",
       "value": "Level"
      }
     },
     "d233123434e34a6091fc3d338fbf402e": {
      "model_module": "@jupyter-widgets/base",
      "model_module_version": "1.2.0",
      "model_name": "LayoutModel",
      "state": {
       "align_items": "stretch",
       "border": "dashed 0.2px green",
       "display": "flex",
       "flex_flow": "row",
       "grid_auto_columns": "True",
       "justify_content": "flex-start",
       "width": "100%"
      }
     },
     "d2eb302500bb4deeb837872a75a37619": {
      "model_module": "@jupyter-widgets/controls",
      "model_module_version": "1.5.0",
      "model_name": "HTMLModel",
      "state": {
       "layout": "IPY_MODEL_a0c17a95b14e4fce888a8a7f6abebfef",
       "style": "IPY_MODEL_e7f0d7e89b6c40f9aaa303b0147158eb",
       "value": "<p>5th section of space name code (enter None if 5th section doesn't exist)</p>"
      }
     },
     "d2ef021deb7f4f30aa8754a681f671db": {
      "model_module": "@jupyter-widgets/base",
      "model_module_version": "1.2.0",
      "model_name": "LayoutModel",
      "state": {
       "align_items": "stretch",
       "border": "dashed 0.2px green",
       "display": "flex",
       "flex_flow": "row",
       "grid_auto_columns": "True",
       "justify_content": "flex-start",
       "width": "100%"
      }
     },
     "d306a37e956b4fffbf7c6839f8ba1f47": {
      "model_module": "@jupyter-widgets/controls",
      "model_module_version": "1.5.0",
      "model_name": "HBoxModel",
      "state": {
       "children": [
        "IPY_MODEL_6c4c1fee10f94b5eafebb58975cd47a5",
        "IPY_MODEL_d6e7e98e5b12440ea38e8f9fc5f94162"
       ],
       "layout": "IPY_MODEL_c5a4232acff24020959a72566a00ee8b"
      }
     },
     "d35e71315b2d422e9df2d1127ac34477": {
      "model_module": "@jupyter-widgets/controls",
      "model_module_version": "1.5.0",
      "model_name": "DescriptionStyleModel",
      "state": {
       "description_width": ""
      }
     },
     "d3e945b5f7ca4a1dab56a8896134dd4e": {
      "model_module": "@jupyter-widgets/controls",
      "model_module_version": "1.5.0",
      "model_name": "HBoxModel",
      "state": {
       "children": [
        "IPY_MODEL_30269e0a631743088ecfae54946e225a",
        "IPY_MODEL_8eaf3b5889a9467f9a0904dffc516037"
       ],
       "layout": "IPY_MODEL_91e5fdb8660c4625873d37c5548912aa"
      }
     },
     "d4bdf7baf2294c1aa1466981210f3474": {
      "model_module": "@jupyter-widgets/base",
      "model_module_version": "1.2.0",
      "model_name": "LayoutModel",
      "state": {}
     },
     "d55e058e5de24187ba675779f30b5cee": {
      "model_module": "@jupyter-widgets/controls",
      "model_module_version": "1.5.0",
      "model_name": "HTMLModel",
      "state": {
       "layout": "IPY_MODEL_8e437f030b254d8f9af57f4ab797df1b",
       "style": "IPY_MODEL_357aa14343684e45abef917746f85367",
       "value": "<p>2</p>"
      }
     },
     "d645097c41e94f1f944c0c6d9f28806f": {
      "model_module": "@jupyter-widgets/controls",
      "model_module_version": "1.5.0",
      "model_name": "HBoxModel",
      "state": {
       "children": [
        "IPY_MODEL_25c64545d75243598061a2ee9d092d83",
        "IPY_MODEL_d3e945b5f7ca4a1dab56a8896134dd4e"
       ],
       "layout": "IPY_MODEL_6cebf523e06343bb8ebd77f9f9989763"
      }
     },
     "d6a5e028d5a14814aeb7130a82376457": {
      "model_module": "@jupyter-widgets/controls",
      "model_module_version": "1.5.0",
      "model_name": "HBoxModel",
      "state": {
       "children": [
        "IPY_MODEL_1aa9e17aa1274231b0612c6efff6af3e"
       ],
       "layout": "IPY_MODEL_632078f4dd0b4b5aa7e13901163c2465"
      }
     },
     "d6b0a794518e433ba5dff3f02d9daf51": {
      "model_module": "@jupyter-widgets/base",
      "model_module_version": "1.2.0",
      "model_name": "LayoutModel",
      "state": {}
     },
     "d6df4a536d29453cbb5417245541989a": {
      "model_module": "@jupyter-widgets/controls",
      "model_module_version": "1.5.0",
      "model_name": "TextModel",
      "state": {
       "layout": "IPY_MODEL_01d6c4cbbd4a4a52869394eaf553312b",
       "style": "IPY_MODEL_33ab10b1dd2e401f9ec9a4cd21917bf4",
       "value": "SpaceType"
      }
     },
     "d6e7e98e5b12440ea38e8f9fc5f94162": {
      "model_module": "@jupyter-widgets/controls",
      "model_module_version": "1.5.0",
      "model_name": "HBoxModel",
      "state": {
       "children": [
        "IPY_MODEL_6487c116be1e4319b51d695a6209c89b",
        "IPY_MODEL_117e806a6ad140c782077683f6b9aa41"
       ],
       "layout": "IPY_MODEL_bf4cb869053c45c89ef30aefa5d0c22d"
      }
     },
     "d78d863a10864e72a41b62f440ab4111": {
      "model_module": "@jupyter-widgets/output",
      "model_module_version": "1.0.0",
      "model_name": "OutputModel",
      "state": {
       "layout": "IPY_MODEL_e09b73c20b094d218a67e0f51ac5f3c0"
      }
     },
     "d7b8d865bbe44e479e2cdf50de8c0be0": {
      "model_module": "@jupyter-widgets/controls",
      "model_module_version": "1.5.0",
      "model_name": "DescriptionStyleModel",
      "state": {
       "description_width": ""
      }
     },
     "d7e1e5206a3046a8971c08a314186d41": {
      "model_module": "@jupyter-widgets/controls",
      "model_module_version": "1.5.0",
      "model_name": "DescriptionStyleModel",
      "state": {
       "description_width": ""
      }
     },
     "d8718b71f301462ea92dc35bf8dea54f": {
      "model_module": "@jupyter-widgets/controls",
      "model_module_version": "1.5.0",
      "model_name": "HTMLModel",
      "state": {
       "layout": "IPY_MODEL_b44851d2ebb34de5bbd9ad7f82b42c3c",
       "style": "IPY_MODEL_45de299fd58245149c8cd2014f5a43fe",
       "value": "<p>1st section of space name code</p>"
      }
     },
     "d8df5cb8348d4d10a1a96922c990de94": {
      "model_module": "@jupyter-widgets/base",
      "model_module_version": "1.2.0",
      "model_name": "LayoutModel",
      "state": {}
     },
     "d91150e88318448ea558f9af1624a374": {
      "model_module": "@jupyter-widgets/controls",
      "model_module_version": "1.5.0",
      "model_name": "HBoxModel",
      "state": {
       "children": [
        "IPY_MODEL_eda0823159bc476e9ebd9a0e5d44d9b1",
        "IPY_MODEL_3499e63c53844821883344d156565a57"
       ],
       "layout": "IPY_MODEL_7a0f7288100a42cb834abd6b0529929a"
      }
     },
     "d95ad50f6309477e821724246e53da25": {
      "model_module": "@jupyter-widgets/base",
      "model_module_version": "1.2.0",
      "model_name": "LayoutModel",
      "state": {
       "align_items": "stretch",
       "display": "flex",
       "flex_flow": "row",
       "grid_auto_columns": "True",
       "justify_content": "flex-end",
       "width": "90%"
      }
     },
     "d96ab41d915f475ba9badfdf5e6576ce": {
      "model_module": "@jupyter-widgets/base",
      "model_module_version": "1.2.0",
      "model_name": "LayoutModel",
      "state": {}
     },
     "d9c990b3e62345a6ae8f0ed48ef15867": {
      "model_module": "@jupyter-widgets/controls",
      "model_module_version": "1.5.0",
      "model_name": "DescriptionStyleModel",
      "state": {
       "description_width": ""
      }
     },
     "da215c5f03c94c1496e71448efdcfdea": {
      "model_module": "@jupyter-widgets/base",
      "model_module_version": "1.2.0",
      "model_name": "LayoutModel",
      "state": {
       "align_items": "stretch",
       "display": "flex",
       "flex_flow": "row",
       "grid_auto_columns": "True",
       "justify_content": "flex-start",
       "width": "80%"
      }
     },
     "da5332b7981249338d76ea27d81fa051": {
      "model_module": "@jupyter-widgets/controls",
      "model_module_version": "1.5.0",
      "model_name": "HTMLModel",
      "state": {
       "layout": "IPY_MODEL_1cf3be2287db4eec82e2c727bcdad53d",
       "style": "IPY_MODEL_dc94dbecb4d24f168b19e74905731faa",
       "value": "<p>5th section of space name code (enter None if 5th section doesn't exist)</p>"
      }
     },
     "da5f3de277714149a203af7601fa8dd6": {
      "model_module": "@jupyter-widgets/controls",
      "model_module_version": "1.5.0",
      "model_name": "TextModel",
      "state": {
       "layout": "IPY_MODEL_ebd9753b1a9a40b1aeb01a77fe628d6e",
       "style": "IPY_MODEL_9fe05e7241f64156bd29f5f59d9661f1",
       "value": "BlockCode"
      }
     },
     "da70bcc473b4458aa1c745f8993df373": {
      "model_module": "@jupyter-widgets/controls",
      "model_module_version": "1.5.0",
      "model_name": "HBoxModel",
      "state": {
       "children": [
        "IPY_MODEL_54704f022ebe4bcd866bc0e79cf104a5"
       ],
       "layout": "IPY_MODEL_ac3469f652c743d1a18858e43ee92586"
      }
     },
     "da7cd96367ca47c7a2bc46e6f0a8d472": {
      "model_module": "@jupyter-widgets/base",
      "model_module_version": "1.2.0",
      "model_name": "LayoutModel",
      "state": {}
     },
     "db5f0feff6cb46449f41d584a1cf2ba1": {
      "model_module": "@jupyter-widgets/controls",
      "model_module_version": "1.5.0",
      "model_name": "DescriptionStyleModel",
      "state": {
       "description_width": ""
      }
     },
     "dc14bb1bd66045c1b10c9605fb48d275": {
      "model_module": "@jupyter-widgets/base",
      "model_module_version": "1.2.0",
      "model_name": "LayoutModel",
      "state": {}
     },
     "dc248f80599046e28b95cb159503ae24": {
      "model_module": "@jupyter-widgets/base",
      "model_module_version": "1.2.0",
      "model_name": "LayoutModel",
      "state": {}
     },
     "dc8a304e74f64566a8b8b3b7f5467149": {
      "model_module": "@jupyter-widgets/base",
      "model_module_version": "1.2.0",
      "model_name": "LayoutModel",
      "state": {}
     },
     "dc94dbecb4d24f168b19e74905731faa": {
      "model_module": "@jupyter-widgets/controls",
      "model_module_version": "1.5.0",
      "model_name": "DescriptionStyleModel",
      "state": {
       "description_width": ""
      }
     },
     "dd0c4c2a3df74d1bbc3735b701781e74": {
      "model_module": "@jupyter-widgets/output",
      "model_module_version": "1.0.0",
      "model_name": "OutputModel",
      "state": {
       "layout": "IPY_MODEL_6d69d57555444ad6b8c8a8611a5da9e8"
      }
     },
     "dd1a338066a54d398f30c776f2bfad99": {
      "model_module": "@jupyter-widgets/base",
      "model_module_version": "1.2.0",
      "model_name": "LayoutModel",
      "state": {}
     },
     "dd1e8a68b0384ea5a78a5f92e240da9e": {
      "model_module": "@jupyter-widgets/controls",
      "model_module_version": "1.5.0",
      "model_name": "HTMLModel",
      "state": {
       "layout": "IPY_MODEL_c1019868c24447b183fea27b4c2edc62",
       "style": "IPY_MODEL_ab93cf43e61e4110904d8cdb580d905d",
       "value": "<p>defines the logic of the space naming. use default value where practical.</p>"
      }
     },
     "dda139270c76408a9333f0358a5299ea": {
      "model_module": "@jupyter-widgets/controls",
      "model_module_version": "1.5.0",
      "model_name": "HBoxModel",
      "state": {
       "children": [
        "IPY_MODEL_5797e025fe82403284b43cd6b3332aa3"
       ],
       "layout": "IPY_MODEL_6c3b1a206a1c488c84326feae5733cf7"
      }
     },
     "ddb54f206b7b4191a36111fe87b98e8e": {
      "model_module": "@jupyter-widgets/base",
      "model_module_version": "1.2.0",
      "model_name": "LayoutModel",
      "state": {}
     },
     "de1ee4a3160b442db9220c75316916aa": {
      "model_module": "@jupyter-widgets/controls",
      "model_module_version": "1.5.0",
      "model_name": "VBoxModel",
      "state": {
       "children": [
        "IPY_MODEL_ea922d7acda64bf9be563774b13e2471",
        "IPY_MODEL_673de2d1f8814f8aaeebca0f99b95f9d",
        "IPY_MODEL_c806232ac80b47d8b736f6b7e8c55394",
        "IPY_MODEL_bc912eac271d49339f442b91087e1c91",
        "IPY_MODEL_fc574c16cc0846afbedfb18781400a6f"
       ],
       "layout": "IPY_MODEL_72d3c3cedd5c441e9c05973424295013"
      }
     },
     "decff15e25df44c58613207a4fc842b1": {
      "model_module": "@jupyter-widgets/controls",
      "model_module_version": "1.5.0",
      "model_name": "DescriptionStyleModel",
      "state": {
       "description_width": ""
      }
     },
     "ded69366dc2947e0be0dfe2234e040ea": {
      "model_module": "@jupyter-widgets/controls",
      "model_module_version": "1.5.0",
      "model_name": "TextModel",
      "state": {
       "description": "script",
       "disabled": true,
       "layout": "IPY_MODEL_0b98e5132c5048cab7373daeef81b763",
       "style": "IPY_MODEL_42c24f4c62bc4dbe9aaf5eade31d1a47",
       "value": "C:\\engDev\\git_mf\\MF_Toolbox\\dev\\mf_scripts\\gbxml.py"
      }
     },
     "df2940740cbe43d78ba4d6bfdd687452": {
      "model_module": "@jupyter-widgets/controls",
      "model_module_version": "1.5.0",
      "model_name": "TextModel",
      "state": {
       "layout": "IPY_MODEL_33ba4502b45b45ef97f7002d462a9a14",
       "style": "IPY_MODEL_7caeb22e0f1c4fb59824f1ac2b2b7e45",
       "value": "SpaceId"
      }
     },
     "df3b7873aed34284871beb4f462af9be": {
      "model_module": "@jupyter-widgets/output",
      "model_module_version": "1.0.0",
      "model_name": "OutputModel",
      "state": {
       "layout": "IPY_MODEL_e411980d888241cfad4395d679a60743"
      }
     },
     "df6a917ae0a946ae954bb0d3abad320e": {
      "model_module": "@jupyter-widgets/base",
      "model_module_version": "1.2.0",
      "model_name": "LayoutModel",
      "state": {
       "align_items": "stretch",
       "display": "flex",
       "flex_flow": "row",
       "grid_auto_columns": "True",
       "justify_content": "flex-end",
       "width": "90%"
      }
     },
     "dfa4ae18ecab4f659b9ef5f738765718": {
      "model_module": "@jupyter-widgets/controls",
      "model_module_version": "1.5.0",
      "model_name": "DescriptionStyleModel",
      "state": {
       "description_width": ""
      }
     },
     "e068e0f789024c5bad57a407757d8570": {
      "model_module": "@jupyter-widgets/controls",
      "model_module_version": "1.5.0",
      "model_name": "DescriptionStyleModel",
      "state": {
       "description_width": ""
      }
     },
     "e08ef68b4deb4d36aedb16d5148e7088": {
      "model_module": "@jupyter-widgets/controls",
      "model_module_version": "1.5.0",
      "model_name": "DescriptionStyleModel",
      "state": {
       "description_width": ""
      }
     },
     "e09b73c20b094d218a67e0f51ac5f3c0": {
      "model_module": "@jupyter-widgets/base",
      "model_module_version": "1.2.0",
      "model_name": "LayoutModel",
      "state": {}
     },
     "e2eff89804f1464ebc90d3a88f62f1ce": {
      "model_module": "@jupyter-widgets/controls",
      "model_module_version": "1.5.0",
      "model_name": "DescriptionStyleModel",
      "state": {
       "description_width": ""
      }
     },
     "e303478929784d929cda693e513aed88": {
      "model_module": "@jupyter-widgets/controls",
      "model_module_version": "1.5.0",
      "model_name": "CheckboxModel",
      "state": {
       "disabled": false,
       "indent": false,
       "layout": "IPY_MODEL_0f20c55ea6094fb983fd6a63f1b23880",
       "style": "IPY_MODEL_a57a74ddbe9b462ba5ed0c65981527e7",
       "value": false
      }
     },
     "e32032027e054fa488b427ec38f0f1e1": {
      "model_module": "@jupyter-widgets/output",
      "model_module_version": "1.0.0",
      "model_name": "OutputModel",
      "state": {
       "layout": "IPY_MODEL_6d93e08a4f4045a99660c6654aa9e263"
      }
     },
     "e331f35d39f241e9b55be3833ec4a726": {
      "model_module": "@jupyter-widgets/base",
      "model_module_version": "1.2.0",
      "model_name": "LayoutModel",
      "state": {}
     },
     "e3348b0c01194eb4bc9df5e040cd6305": {
      "model_module": "@jupyter-widgets/controls",
      "model_module_version": "1.5.0",
      "model_name": "ButtonModel",
      "state": {
       "button_style": "info",
       "description": "show source code",
       "layout": "IPY_MODEL_6958c01744f246b8a63f2c461bade2d0",
       "style": "IPY_MODEL_f8c3571212a94390856a000e583c6843",
       "tooltip": "shows the raw python code in the preview window below"
      }
     },
     "e36cbfedb9364a00a5fc6faa8d77a4d6": {
      "model_module": "@jupyter-widgets/controls",
      "model_module_version": "1.5.0",
      "model_name": "BoxModel",
      "state": {
       "children": [
        "IPY_MODEL_8d7708f9400d44458152444c02d80473"
       ],
       "layout": "IPY_MODEL_d4bdf7baf2294c1aa1466981210f3474"
      }
     },
     "e411980d888241cfad4395d679a60743": {
      "model_module": "@jupyter-widgets/base",
      "model_module_version": "1.2.0",
      "model_name": "LayoutModel",
      "state": {}
     },
     "e45792ed41cc419e9cf2b5d87754cf80": {
      "model_module": "@jupyter-widgets/controls",
      "model_module_version": "1.5.0",
      "model_name": "HBoxModel",
      "state": {
       "children": [
        "IPY_MODEL_11704dbf94a74ad485cdd3f7630f667d"
       ],
       "layout": "IPY_MODEL_a6c85664380d48e587d0619873b9155e"
      }
     },
     "e467c2d358484b8ba564a9df15685a10": {
      "model_module": "@jupyter-widgets/controls",
      "model_module_version": "1.5.0",
      "model_name": "HTMLModel",
      "state": {
       "layout": "IPY_MODEL_a777a01f52a048beb39852716f2322ad",
       "style": "IPY_MODEL_87f82395a292493ba1748a1500e442f2",
       "value": "<p>3</p>"
      }
     },
     "e4e6e168dbc647838075093030a70228": {
      "model_module": "@jupyter-widgets/controls",
      "model_module_version": "1.5.0",
      "model_name": "HBoxModel",
      "state": {
       "children": [
        "IPY_MODEL_8dde6b9d0ac84ab7bacd607ecfb7732e",
        "IPY_MODEL_45d5abb40baf402280d3fa7d0bc3e341"
       ],
       "layout": "IPY_MODEL_ff2f30ac07084ade84aeb51253ccc339"
      }
     },
     "e4feb6888702409c8eddb4b97efc6806": {
      "model_module": "@jupyter-widgets/controls",
      "model_module_version": "1.5.0",
      "model_name": "DescriptionStyleModel",
      "state": {
       "description_width": ""
      }
     },
     "e53f8dc0e4c44d01809b83f271793d19": {
      "model_module": "@jupyter-widgets/controls",
      "model_module_version": "1.5.0",
      "model_name": "DescriptionStyleModel",
      "state": {
       "description_width": ""
      }
     },
     "e59297b8f46f4506a1d1b07dbe235dbb": {
      "model_module": "@jupyter-widgets/controls",
      "model_module_version": "1.5.0",
      "model_name": "ButtonStyleModel",
      "state": {}
     },
     "e59a110603b74f7396762d17d6c9d12b": {
      "model_module": "@jupyter-widgets/output",
      "model_module_version": "1.0.0",
      "model_name": "OutputModel",
      "state": {
       "layout": "IPY_MODEL_7633ddef6fa24021b351f77a4565da0c"
      }
     },
     "e61e78c056f64885bb34c0acbbe873ea": {
      "model_module": "@jupyter-widgets/output",
      "model_module_version": "1.0.0",
      "model_name": "OutputModel",
      "state": {
       "layout": "IPY_MODEL_a788e100fc1a4d24a7ee8d6c98c101a1"
      }
     },
     "e63fbb45a3494546b79e583bee5bf2a9": {
      "model_module": "@jupyter-widgets/controls",
      "model_module_version": "1.5.0",
      "model_name": "DescriptionStyleModel",
      "state": {
       "description_width": ""
      }
     },
     "e73bc84a91c14b7cbbd60af0b5ba31bc": {
      "model_module": "@jupyter-widgets/controls",
      "model_module_version": "1.5.0",
      "model_name": "RadioButtonsModel",
      "state": {
       "_options_labels": [
        "TEMPLATE: C:\\engDev\\git_mf\\MF_Toolbox\\dev\\mf_scripts\\template_inputs\\inputs-gbxml.json",
        "PROJECT: C:\\engDev\\git_mf\\ipyrun\\examples\\notebooks\\appdata\\inputs\\inputs-gbxml.json",
        "PROJECT: C:\\engDev\\git_mf\\ipyrun\\examples\\notebooks\\appdata\\inputs\\archive\\20200626_1441-jg-inputs-gbxml.json"
       ],
       "index": 0,
       "layout": "IPY_MODEL_9b4b617c7d914b26888f070172a20262",
       "style": "IPY_MODEL_0a5cbfa1a06a40ebbacc9484a95d98e5"
      }
     },
     "e74e4d8553d14c75909d735d473cb9ff": {
      "model_module": "@jupyter-widgets/base",
      "model_module_version": "1.2.0",
      "model_name": "LayoutModel",
      "state": {
       "align_items": "stretch",
       "display": "flex",
       "flex_flow": "row",
       "grid_auto_columns": "True",
       "justify_content": "flex-start",
       "width": "80%"
      }
     },
     "e7a27adbd29d40b4b71b6dfe64d72e17": {
      "model_module": "@jupyter-widgets/base",
      "model_module_version": "1.2.0",
      "model_name": "LayoutModel",
      "state": {}
     },
     "e7ac1ed6835f4334be84cd2b7f252368": {
      "model_module": "@jupyter-widgets/controls",
      "model_module_version": "1.5.0",
      "model_name": "DescriptionStyleModel",
      "state": {
       "description_width": ""
      }
     },
     "e7f0d7e89b6c40f9aaa303b0147158eb": {
      "model_module": "@jupyter-widgets/controls",
      "model_module_version": "1.5.0",
      "model_name": "DescriptionStyleModel",
      "state": {
       "description_width": ""
      }
     },
     "e862b405ead74b5ea2fca3d49e3e98d4": {
      "buffers": [
       {
        "data": "H4sIAAAAAAACAzWOzW6EMAyEX6XyGVZAEQeu7WUv+wIEoSx4s6GJE+WHUq149wZoL9b481gzLxBOTtC+YOKBQ9t1IO6rVpDBfBGRfDCEaamKqsiLJq+at7Ju67J9byCjqNQ54KNlDEl84sKYkGHQD8ak/XGREl+5tgo9Y2QC3o35SpJbuycmF9kYduDGp1yQsT2qaKpmKOu6zGeRn4786HWZvSHo+wwkTbgOznz7vT1xjUl0cN0xpPvCVTxQV/T99u8fjYqaDgzWmRG9v6XX9NBB9OgOkYphkH/0YZzm6up9PPfAhT8PNjyvR7XUZ9t+ASYks5ZKAQAA",
        "encoding": "base64",
        "path": [
         "_grid_data_up"
        ]
       }
      ],
      "model_module": "ipyaggrid",
      "model_module_version": "~0.2.1",
      "model_name": "AgGridModel",
      "state": {
       "_grid_data_down": [
        {
         "datetime": "2020-06-26 14:41:36",
         "formalIssue": null,
         "fpthInputs": "C:\\engDev\\git_mf\\ipyrun\\examples\\notebooks\\appdata\\inputs\\archive\\20200626_1441-jg-inputs-gbxml.json",
         "processName": "gbxml",
         "tags": null,
         "user": "j.gunstone"
        }
       ],
       "_grid_options_mono_down": "{\"enableSorting\": true, \"enableFilter\": true, \"enableColResize\": true, \"enableRangeSelection\": true, \"columnDefs\": [{\"field\": \"processName\", \"type\": \"textColumn\", \"headerName\": \"Processname\"}, {\"field\": \"user\", \"type\": \"textColumn\", \"headerName\": \"User\"}, {\"field\": \"datetime\", \"type\": \"textColumn\", \"headerName\": \"Datetime\"}, {\"field\": \"formalIssue\", \"type\": \"numberColumn\", \"headerName\": \"Formalissue\"}, {\"field\": \"tags\", \"type\": \"numberColumn\", \"headerName\": \"Tags\"}, {\"field\": \"fpthInputs\", \"type\": \"textColumn\", \"headerName\": \"Fpthinputs\"}], \"columnTypes\": {\"numberColumn\": {\"filter\": \"agNumberColumnFilter\"}, \"textColumn\": {\"filter\": \"agTextColumnFilter\"}, \"dateColumn\": {\"valueFormatter\": \"helpers.dateFormatter\", \"filter\": \"agDateColumnFilter\", \"filterParams\": {\"comparator\": \"helpers.compareDates\"}}}}",
       "_id": 690017779,
       "_js_helpers_builtin": "helpersBuiltin = {\n    dateFormatter: function(node) {\n        // make sure date is not undefined\n        if (node && node.value) {\n            let d = new Date(node.value);\n            let h = d.getHours();\n            let m = d.getMinutes();\n            let s = d.getSeconds();\n            const offset = d.getTimezoneOffset() * 60000;\n            d = new Date(d.getTime() - offset);\n            const ymd = d.toISOString().substring(0, 10);\n            if (h === 0 && m === 0 && s === 0) {\n                return ymd;\n            }\n            if (h === 0) h = '00';\n            if (m === 0) m = '00';\n            if (s === 0) s = '00';\n            return `${ymd} ${h}:${m}:${s}`;\n        }\n        return null;\n    },\n\n    formatInt: d3.format(',.0f'),\n    formatFloat: d3.format(',.2f'),\n\n    intFormatter: function(node) {\n        return formatInt(node.value);\n    },\n\n    floatFormatter: function(node) {\n        return formatFloat(node.value);\n    },\n\n    compareDates: function(filterLocalDate, cellValue) {\n        // Assume dates are stored as iso\n        const cellDate = new Date(cellValue);\n\n        if (cellDate < filterLocalDate) {\n            return -1;\n        } else if (cellDate > filterLocalDate) {\n            return 1;\n        }\n        return 0;\n    },\n\n    sizeToFit: function(gridOptions) {\n        gridOptions.api.sizeColumnsToFit();\n    },\n\n    autoSizeAll: function(gridOptions) {\n        const allColumnIds = [];\n        gridOptions.columnApi.getAllColumns().forEach(column => {\n            allColumnIds.push(column.colId);\n        });\n        gridOptions.columnApi.autoSizeColumns(allColumnIds);\n    },\n\n    /**\n     * Exporting data to CSV using ag-Grid api.\n     * @param {Object} gridOptions\n     */\n    exportToCsv: function(gridOptions) {\n        const params = {\n            skipHeader: false,\n            columnGroups: true,\n            skipFooters: false,\n            skipGroups: false,\n            skipPinnedTop: false,\n            skipPinnedBottom: false,\n            allColumns: true,\n            onlySelected: false,\n            suppressQuotes: true,\n            fileName: 'my_file.csv',\n            sheetName: 'my_sheet',\n            shouldRowBeSkipped: () => false,\n            processCellCallback: param => param.value,\n            processHeaderCallback: null,\n        };\n        gridOptions.api.exportDataAsCsv(params);\n    },\n\n    /**\n     * Exporting data to Excel using ag-Grid api.\n     * @param {Object} gridOptions\n     */\n    exportToExcel: function(gridOptions) {\n        const params = {\n            skipHeader: false,\n            columnGroups: true,\n            skipFooters: false,\n            skipGroups: false,\n            skipPinnedTop: false,\n            skipPinnedBottom: false,\n            allColumns: true,\n            onlySelected: false,\n            suppressQuotes: true,\n            fileName: 'my_file.xls',\n            sheetName: 'my_sheet',\n            shouldRowBeSkipped: () => false, // TODO : check\n            processCellCallback: param => param.value,\n            processHeaderCallback: null,\n        };\n        gridOptions.api.exportDataAsExcel(params);\n    },\n};\n",
       "columns_fit": "size_to_fit",
       "compress_data": true,
       "export_mode": "disabled",
       "height": "350px",
       "js_helpers": "{\"dateFormatter\":\"function(node) {\\n        // make sure date is not undefined\\n        if (node && node.value) {\\n            let d = new Date(node.value);\\n            let h = d.getHours();\\n            let m = d.getMinutes();\\n            let s = d.getSeconds();\\n            const offset = d.getTimezoneOffset() * 60000;\\n            d = new Date(d.getTime() - offset);\\n            const ymd = d.toISOString().substring(0, 10);\\n            if (h === 0 && m === 0 && s === 0) {\\n                return ymd;\\n            }\\n            if (h === 0) h = '00';\\n            if (m === 0) m = '00';\\n            if (s === 0) s = '00';\\n            return `${ymd} ${h}:${m}:${s}`;\\n        }\\n        return null;\\n    }\",\"formatInt\":\" >-,.0f\",\"formatFloat\":\" >-,.2f\",\"intFormatter\":\"function(node) {\\n        return formatInt(node.value);\\n    }\",\"floatFormatter\":\"function(node) {\\n        return formatFloat(node.value);\\n    }\",\"compareDates\":\"function(filterLocalDate, cellValue) {\\n        // Assume dates are stored as iso\\n        const cellDate = new Date(cellValue);\\n\\n        if (cellDate < filterLocalDate) {\\n            return -1;\\n        } else if (cellDate > filterLocalDate) {\\n            return 1;\\n        }\\n        return 0;\\n    }\",\"sizeToFit\":\"function(gridOptions) {\\n        gridOptions.api.sizeColumnsToFit();\\n    }\",\"autoSizeAll\":\"function(gridOptions) {\\n        const allColumnIds = [];\\n        gridOptions.columnApi.getAllColumns().forEach(column => {\\n            allColumnIds.push(column.colId);\\n        });\\n        gridOptions.columnApi.autoSizeColumns(allColumnIds);\\n    }\",\"exportToCsv\":\"function(gridOptions) {\\n        const params = {\\n            skipHeader: false,\\n            columnGroups: true,\\n            skipFooters: false,\\n            skipGroups: false,\\n            skipPinnedTop: false,\\n            skipPinnedBottom: false,\\n            allColumns: true,\\n            onlySelected: false,\\n            suppressQuotes: true,\\n            fileName: 'my_file.csv',\\n            sheetName: 'my_sheet',\\n            shouldRowBeSkipped: () => false,\\n            processCellCallback: param => param.value,\\n            processHeaderCallback: null,\\n        };\\n        gridOptions.api.exportDataAsCsv(params);\\n    }\",\"exportToExcel\":\"function(gridOptions) {\\n        const params = {\\n            skipHeader: false,\\n            columnGroups: true,\\n            skipFooters: false,\\n            skipGroups: false,\\n            skipPinnedTop: false,\\n            skipPinnedBottom: false,\\n            allColumns: true,\\n            onlySelected: false,\\n            suppressQuotes: true,\\n            fileName: 'my_file.xls',\\n            sheetName: 'my_sheet',\\n            shouldRowBeSkipped: () => false, // TODO : check\\n            processCellCallback: param => param.value,\\n            processHeaderCallback: null,\\n        };\\n        gridOptions.api.exportDataAsExcel(params);\\n    }\"}",
       "layout": "IPY_MODEL_70739bc095a147a397113bc6426b6f5b",
       "menu": {
        "button_div_css": ".flex-button-div-690017779 {\ndisplay: flex;\njustify-content: flex-start;\nalign-items: flex-start;\nalign-content: flex-start;\nflex-flow: row wrap;\n}\n",
        "buttons": [],
        "input_div_css": ".flex-input-div-690017779 {\ndisplay: flex;\njustify-content: flex-start;\nalign-items: baseline;\nalign-content: flex-start;\nflex-flow: row wrap;\n}\n",
        "inputs": [
         {
          "css": ".flex-child-quick-filter-690017779 {\norder: 0;\nalign-self: auto;\nmargin: 5px;\nflex: 0.00 1.00 auto;\nwidth: 150px;\n}\n",
          "name": "Quick Filter"
         }
        ],
        "menu_div_css": ".flex-menu-div-690017779 {\ndisplay: flex;\njustify-content: flex-start;\nalign-items: flex-start;\nalign-content: flex-start;\nflex-flow: row wrap;\n}\n"
       },
       "theme": "ag-theme-balham",
       "width": "100%"
      }
     },
     "e8f6b5a2afa54ca9bf0cc040938f0910": {
      "model_module": "@jupyter-widgets/controls",
      "model_module_version": "1.5.0",
      "model_name": "DescriptionStyleModel",
      "state": {
       "description_width": ""
      }
     },
     "e8ff986a692e4347af8588f3d5f32655": {
      "model_module": "@jupyter-widgets/controls",
      "model_module_version": "1.5.0",
      "model_name": "HBoxModel",
      "state": {
       "children": [
        "IPY_MODEL_a2bedc4ec4884d7d9b7b522e2ceac671",
        "IPY_MODEL_c6e67f02289a477a97b9e8de14a6468e"
       ],
       "layout": "IPY_MODEL_20eb4b525f164a52b337b72431e18bee"
      }
     },
     "e927d2e76db843dc9392378e09af8d77": {
      "model_module": "@jupyter-widgets/controls",
      "model_module_version": "1.5.0",
      "model_name": "DescriptionStyleModel",
      "state": {
       "description_width": ""
      }
     },
     "e99ea415f460459097f4a81db75409ea": {
      "model_module": "@jupyter-widgets/output",
      "model_module_version": "1.0.0",
      "model_name": "OutputModel",
      "state": {
       "layout": "IPY_MODEL_a00363bf40a045e8bc4162838d2a7250"
      }
     },
     "ea87fede68cb4d238dcdeeeb87ec2c47": {
      "model_module": "@jupyter-widgets/controls",
      "model_module_version": "1.5.0",
      "model_name": "DescriptionStyleModel",
      "state": {
       "description_width": ""
      }
     },
     "ea922d7acda64bf9be563774b13e2471": {
      "model_module": "@jupyter-widgets/controls",
      "model_module_version": "1.5.0",
      "model_name": "HBoxModel",
      "state": {
       "children": [
        "IPY_MODEL_873585df8c8c478b8c603723f5dc3f44"
       ],
       "layout": "IPY_MODEL_701f1f40059e4c249b11f9375ce69386"
      }
     },
     "eaa78a438ab54af78c1d55985c943283": {
      "model_module": "@jupyter-widgets/controls",
      "model_module_version": "1.5.0",
      "model_name": "HTMLModel",
      "state": {
       "layout": "IPY_MODEL_4452c9c97a4849f1b17a50a660c76c8d",
       "style": "IPY_MODEL_a0ce6c1b1e2b40b29344850991d9f5f4",
       "value": "<p>4th section of space name code (enter None if 4th section doesn't exist)</p>"
      }
     },
     "eb31bac1947243a28de7dee06ab55565": {
      "model_module": "@jupyter-widgets/output",
      "model_module_version": "1.0.0",
      "model_name": "OutputModel",
      "state": {
       "layout": "IPY_MODEL_9ce3e22900014276a20c3b11df572257"
      }
     },
     "eb81a79f31d94bb487db51cbc9143823": {
      "model_module": "@jupyter-widgets/base",
      "model_module_version": "1.2.0",
      "model_name": "LayoutModel",
      "state": {}
     },
     "ebd9753b1a9a40b1aeb01a77fe628d6e": {
      "model_module": "@jupyter-widgets/base",
      "model_module_version": "1.2.0",
      "model_name": "LayoutModel",
      "state": {}
     },
     "ec0862c6e57a4f719ca5a25f35fbf2f7": {
      "model_module": "@jupyter-widgets/base",
      "model_module_version": "1.2.0",
      "model_name": "LayoutModel",
      "state": {}
     },
     "eda0823159bc476e9ebd9a0e5d44d9b1": {
      "model_module": "@jupyter-widgets/controls",
      "model_module_version": "1.5.0",
      "model_name": "TextModel",
      "state": {
       "layout": "IPY_MODEL_3f02ed8018b741d5ba016819d699ca8b",
       "style": "IPY_MODEL_f8ca6fa8f58f4f5d97d4eecd17357035",
       "value": "SpaceType"
      }
     },
     "edc52362131744e29c066ec591601375": {
      "model_module": "@jupyter-widgets/controls",
      "model_module_version": "1.5.0",
      "model_name": "HBoxModel",
      "state": {
       "children": [
        "IPY_MODEL_cb40c2396caa46019f6fc21c7f770e01",
        "IPY_MODEL_ce11394d4fa44cbc935dbc0045dfd4da",
        "IPY_MODEL_15d65a5290654d97b20f2fda458be26e",
        "IPY_MODEL_928d6ed2c42a4e729d39fefc6c184277",
        "IPY_MODEL_155c7874ccdc49999d5b65e806a69cfa",
        "IPY_MODEL_f6f263d780f64fbcba087b6ed23c43b8",
        "IPY_MODEL_efad37c30258469d98e6a5058e9e4959"
       ],
       "layout": "IPY_MODEL_0f971a7f4c9146e193d6658e2efa9609"
      }
     },
     "eddb452193a444339aba704b27b43688": {
      "model_module": "@jupyter-widgets/base",
      "model_module_version": "1.2.0",
      "model_name": "LayoutModel",
      "state": {
       "align_items": "stretch",
       "display": "flex",
       "flex_flow": "row",
       "grid_auto_columns": "True",
       "justify_content": "flex-end",
       "width": "90%"
      }
     },
     "ee6dd9416f7f43af80c7a6283602cafa": {
      "model_module": "@jupyter-widgets/controls",
      "model_module_version": "1.5.0",
      "model_name": "TextModel",
      "state": {
       "layout": "IPY_MODEL_f13da2f4895d482193d307f80af08079",
       "style": "IPY_MODEL_e8f6b5a2afa54ca9bf0cc040938f0910",
       "value": "TM46Category"
      }
     },
     "eecf65acfa99496cb021c85f843bc2c3": {
      "model_module": "@jupyter-widgets/controls",
      "model_module_version": "1.5.0",
      "model_name": "DescriptionStyleModel",
      "state": {
       "description_width": ""
      }
     },
     "ef743dd3db3f4d948a27040be4eee977": {
      "model_module": "@jupyter-widgets/base",
      "model_module_version": "1.2.0",
      "model_name": "LayoutModel",
      "state": {}
     },
     "efad37c30258469d98e6a5058e9e4959": {
      "model_module": "@jupyter-widgets/controls",
      "model_module_version": "1.5.0",
      "model_name": "ButtonModel",
      "state": {
       "button_style": "info",
       "description": "show log",
       "layout": "IPY_MODEL_80be34e6f6374b7787f53fe40f690e90",
       "style": "IPY_MODEL_3edb9d34e67b491ca057b6c3eac662be",
       "tooltip": "show a log of when the script was executed to generate the outputs, and by who"
      }
     },
     "f02b0704eb2b487b9cb42a9faed44d20": {
      "model_module": "@jupyter-widgets/base",
      "model_module_version": "1.2.0",
      "model_name": "LayoutModel",
      "state": {}
     },
     "f1320f389199400cb7e2b214d72e7223": {
      "model_module": "@jupyter-widgets/base",
      "model_module_version": "1.2.0",
      "model_name": "LayoutModel",
      "state": {
       "align_items": "stretch",
       "display": "flex",
       "flex_flow": "row",
       "grid_auto_columns": "True",
       "justify_content": "flex-end",
       "width": "90%"
      }
     },
     "f13da2f4895d482193d307f80af08079": {
      "model_module": "@jupyter-widgets/base",
      "model_module_version": "1.2.0",
      "model_name": "LayoutModel",
      "state": {}
     },
     "f1624bab30054e1aa487bad2a0ab8fa3": {
      "model_module": "@jupyter-widgets/output",
      "model_module_version": "1.0.0",
      "model_name": "OutputModel",
      "state": {
       "layout": "IPY_MODEL_be6ec138c6d84219b780b24cee8b0890"
      }
     },
     "f1d2d4252d4145409663743b65955c49": {
      "model_module": "@jupyter-widgets/base",
      "model_module_version": "1.2.0",
      "model_name": "LayoutModel",
      "state": {}
     },
     "f267601651ca47838711eef1da999dd8": {
      "model_module": "@jupyter-widgets/controls",
      "model_module_version": "1.5.0",
      "model_name": "HBoxModel",
      "state": {
       "children": [
        "IPY_MODEL_914cc2f5d60a469695f0e732ce90b3a1"
       ],
       "layout": "IPY_MODEL_46c8b85d781d44648450851230d2003d"
      }
     },
     "f2fd933329814d4e94cba8be160b978a": {
      "model_module": "@jupyter-widgets/controls",
      "model_module_version": "1.5.0",
      "model_name": "DescriptionStyleModel",
      "state": {
       "description_width": ""
      }
     },
     "f36d320d1add4a4fa13648fa347783ef": {
      "model_module": "@jupyter-widgets/base",
      "model_module_version": "1.2.0",
      "model_name": "LayoutModel",
      "state": {
       "align_items": "stretch",
       "display": "flex",
       "flex_flow": "row",
       "grid_auto_columns": "True",
       "justify_content": "flex-end",
       "width": "90%"
      }
     },
     "f383120c3c664518a2d5e15bb3b2ff82": {
      "model_module": "@jupyter-widgets/base",
      "model_module_version": "1.2.0",
      "model_name": "LayoutModel",
      "state": {}
     },
     "f408fd53b66842d5a0f991559f3c4be7": {
      "model_module": "@jupyter-widgets/base",
      "model_module_version": "1.2.0",
      "model_name": "LayoutModel",
      "state": {
       "align_items": "stretch",
       "display": "flex",
       "flex_flow": "row",
       "grid_auto_columns": "True",
       "justify_content": "flex-end",
       "width": "90%"
      }
     },
     "f40c918133a1448286aba87e4537247a": {
      "model_module": "@jupyter-widgets/controls",
      "model_module_version": "1.5.0",
      "model_name": "DescriptionStyleModel",
      "state": {
       "description_width": ""
      }
     },
     "f4184f8f78974e57aecc45901dbff1b3": {
      "model_module": "@jupyter-widgets/controls",
      "model_module_version": "1.5.0",
      "model_name": "HBoxModel",
      "state": {
       "children": [
        "IPY_MODEL_1af0618faf534e66be2f978e726114c4",
        "IPY_MODEL_a09b7ff71e0f457d9c9b777f2f627440"
       ],
       "layout": "IPY_MODEL_954ab3c9639c44298c4682b1afe9eabd"
      }
     },
     "f41f66dac84e4b64b6c073dfb246bd24": {
      "model_module": "@jupyter-widgets/base",
      "model_module_version": "1.2.0",
      "model_name": "LayoutModel",
      "state": {}
     },
     "f4d34a17d1f744b98e3dd5d55a2c31fc": {
      "model_module": "@jupyter-widgets/base",
      "model_module_version": "1.2.0",
      "model_name": "LayoutModel",
      "state": {
       "align_items": "stretch",
       "display": "flex",
       "flex_flow": "row",
       "grid_auto_columns": "True",
       "justify_content": "flex-start",
       "width": "80%"
      }
     },
     "f5a4152c97f94605878246474794c30d": {
      "model_module": "@jupyter-widgets/controls",
      "model_module_version": "1.5.0",
      "model_name": "HBoxModel",
      "state": {
       "children": [
        "IPY_MODEL_097a80e3dc364fe88dabb3cbd8f4b637",
        "IPY_MODEL_3b780143213346559f2a214d948cbb9a"
       ],
       "layout": "IPY_MODEL_cb8e49640a1444948cf9d6a8d76a88f9"
      }
     },
     "f5aa9b45cf5d41d4b0dc4b1b18fa722c": {
      "model_module": "@jupyter-widgets/base",
      "model_module_version": "1.2.0",
      "model_name": "LayoutModel",
      "state": {}
     },
     "f5d2efaf9c614663aadfcfe979fa75f5": {
      "model_module": "@jupyter-widgets/controls",
      "model_module_version": "1.5.0",
      "model_name": "ButtonStyleModel",
      "state": {
       "font_weight": "bold"
      }
     },
     "f64d844d0abe498ebea436d45b6c53c1": {
      "model_module": "@jupyter-widgets/controls",
      "model_module_version": "1.5.0",
      "model_name": "DescriptionStyleModel",
      "state": {
       "description_width": ""
      }
     },
     "f6a18b2618ed477ba20ed419edcf54d3": {
      "model_module": "@jupyter-widgets/controls",
      "model_module_version": "1.5.0",
      "model_name": "DescriptionStyleModel",
      "state": {
       "description_width": ""
      }
     },
     "f6f263d780f64fbcba087b6ed23c43b8": {
      "model_module": "@jupyter-widgets/controls",
      "model_module_version": "1.5.0",
      "model_name": "ButtonModel",
      "state": {
       "button_style": "info",
       "description": "preview outputs",
       "layout": "IPY_MODEL_12c5ef6429d34cb4b0ef866083197807",
       "style": "IPY_MODEL_f5d2efaf9c614663aadfcfe979fa75f5",
       "tooltip": "show a preview of the output files generated when the script runs"
      }
     },
     "f7a213478df9412e91d4423d8a1011fc": {
      "model_module": "@jupyter-widgets/controls",
      "model_module_version": "1.5.0",
      "model_name": "HTMLModel",
      "state": {
       "layout": "IPY_MODEL_b1197087f5884beaaa955fb929f2eab6",
       "style": "IPY_MODEL_f2fd933329814d4e94cba8be160b978a",
       "value": "<p>5th section of space name code (enter None if 5th section doesn't exist)</p>"
      }
     },
     "f81a5f7c94e94efbbcc063bd54ec2ea4": {
      "model_module": "@jupyter-widgets/output",
      "model_module_version": "1.0.0",
      "model_name": "OutputModel",
      "state": {
       "layout": "IPY_MODEL_2531dc2c5bcd4f5aa5623e7affea6eff"
      }
     },
     "f826d77af5f3437cadc1699356cbf912": {
      "model_module": "@jupyter-widgets/controls",
      "model_module_version": "1.5.0",
      "model_name": "DescriptionStyleModel",
      "state": {
       "description_width": ""
      }
     },
     "f85cabbf294642cfa3410012dace9198": {
      "model_module": "@jupyter-widgets/output",
      "model_module_version": "1.0.0",
      "model_name": "OutputModel",
      "state": {
       "layout": "IPY_MODEL_a7e48c3e3baa43079191927beecd8fff"
      }
     },
     "f899c4671f9c424384779b18b87021c5": {
      "model_module": "@jupyter-widgets/controls",
      "model_module_version": "1.5.0",
      "model_name": "ButtonStyleModel",
      "state": {
       "font_weight": "bold"
      }
     },
     "f8c3571212a94390856a000e583c6843": {
      "model_module": "@jupyter-widgets/controls",
      "model_module_version": "1.5.0",
      "model_name": "ButtonStyleModel",
      "state": {}
     },
     "f8ca6fa8f58f4f5d97d4eecd17357035": {
      "model_module": "@jupyter-widgets/controls",
      "model_module_version": "1.5.0",
      "model_name": "DescriptionStyleModel",
      "state": {
       "description_width": ""
      }
     },
     "f9043c4981fd4d8ea0883350c692e1e6": {
      "model_module": "@jupyter-widgets/base",
      "model_module_version": "1.2.0",
      "model_name": "LayoutModel",
      "state": {}
     },
     "f94a1bad25004001a3694e2f232aadd7": {
      "model_module": "@jupyter-widgets/controls",
      "model_module_version": "1.5.0",
      "model_name": "DescriptionStyleModel",
      "state": {
       "description_width": ""
      }
     },
     "f9f200f786f34ca9af5285e5a77b7c17": {
      "model_module": "@jupyter-widgets/base",
      "model_module_version": "1.2.0",
      "model_name": "LayoutModel",
      "state": {}
     },
     "fa8a4e3fc43e455f85d1dd834765041b": {
      "model_module": "@jupyter-widgets/base",
      "model_module_version": "1.2.0",
      "model_name": "LayoutModel",
      "state": {}
     },
     "faaeb383209d451d9bc305372ae9e850": {
      "model_module": "@jupyter-widgets/controls",
      "model_module_version": "1.5.0",
      "model_name": "DescriptionStyleModel",
      "state": {
       "description_width": ""
      }
     },
     "fab0724391ac4b9685d1a34f22771561": {
      "model_module": "@jupyter-widgets/output",
      "model_module_version": "1.0.0",
      "model_name": "OutputModel",
      "state": {
       "layout": "IPY_MODEL_fa8a4e3fc43e455f85d1dd834765041b"
      }
     },
     "fb1be47ecd8d4dba90519ca0723c19da": {
      "model_module": "@jupyter-widgets/controls",
      "model_module_version": "1.5.0",
      "model_name": "DescriptionStyleModel",
      "state": {
       "description_width": ""
      }
     },
     "fbd99ead64ce4127b25a633618c7993b": {
      "model_module": "@jupyter-widgets/controls",
      "model_module_version": "1.5.0",
      "model_name": "HTMLModel",
      "state": {
       "layout": "IPY_MODEL_8ec30f95c01d43ddabf032edced2c73f",
       "style": "IPY_MODEL_b6bd87fea8934010aa3db66ddc90f3b8",
       "value": "<p>4</p>"
      }
     },
     "fc1d6bf9d18d4f6caa23c9b1e3d0f54f": {
      "model_module": "@jupyter-widgets/controls",
      "model_module_version": "1.5.0",
      "model_name": "DescriptionStyleModel",
      "state": {
       "description_width": ""
      }
     },
     "fc33c1dfc4c24ba2a08cf2977695750b": {
      "model_module": "@jupyter-widgets/base",
      "model_module_version": "1.2.0",
      "model_name": "LayoutModel",
      "state": {
       "align_items": "stretch",
       "display": "flex",
       "flex_flow": "row",
       "grid_auto_columns": "True",
       "justify_content": "flex-end",
       "width": "90%"
      }
     },
     "fc574c16cc0846afbedfb18781400a6f": {
      "model_module": "@jupyter-widgets/controls",
      "model_module_version": "1.5.0",
      "model_name": "HBoxModel",
      "state": {
       "children": [
        "IPY_MODEL_8b5e548b3f784cd1ba4bf2382037ab4b"
       ],
       "layout": "IPY_MODEL_9845b0929cdb4e4bb87c54bff0b57267"
      }
     },
     "fc5c897cefba4e1a817a44964698c76f": {
      "model_module": "@jupyter-widgets/base",
      "model_module_version": "1.2.0",
      "model_name": "LayoutModel",
      "state": {}
     },
     "fc78b598cede42c9bcd84ce2c137b479": {
      "model_module": "@jupyter-widgets/output",
      "model_module_version": "1.0.0",
      "model_name": "OutputModel",
      "state": {
       "layout": "IPY_MODEL_2e75daaf20774b609b77b22608f58081"
      }
     },
     "fd120311fb0f424984b76ef92a954cb5": {
      "model_module": "@jupyter-widgets/base",
      "model_module_version": "1.2.0",
      "model_name": "LayoutModel",
      "state": {}
     },
     "fd7496d1306746e39db5c7b5cade43ce": {
      "model_module": "@jupyter-widgets/controls",
      "model_module_version": "1.5.0",
      "model_name": "HTMLModel",
      "state": {
       "layout": "IPY_MODEL_c28feef7f8174175b3bff02120337336",
       "style": "IPY_MODEL_e53f8dc0e4c44d01809b83f271793d19",
       "value": "<p>1</p>"
      }
     },
     "fe4914e556604a8b890fb8b2c61e546f": {
      "model_module": "@jupyter-widgets/base",
      "model_module_version": "1.2.0",
      "model_name": "LayoutModel",
      "state": {}
     },
     "fece33ffc3644b1a9cd03dd80913f85c": {
      "model_module": "@jupyter-widgets/output",
      "model_module_version": "1.0.0",
      "model_name": "OutputModel",
      "state": {
       "layout": "IPY_MODEL_22356d984f82420d95ffc7359f03b3a6"
      }
     },
     "fefa2087a1204a81ade73592964e4f0c": {
      "model_module": "@jupyter-widgets/base",
      "model_module_version": "1.2.0",
      "model_name": "LayoutModel",
      "state": {
       "display": "flex",
       "flex_flow": "row",
       "grid_auto_columns": "False",
       "justify_content": "flex-start",
       "width": "100%"
      }
     },
     "ff2f30ac07084ade84aeb51253ccc339": {
      "model_module": "@jupyter-widgets/base",
      "model_module_version": "1.2.0",
      "model_name": "LayoutModel",
      "state": {
       "align_items": "stretch",
       "display": "flex",
       "flex_flow": "row",
       "grid_auto_columns": "True",
       "justify_content": "flex-start",
       "width": "80%"
      }
     },
     "ff94ad602a5c4ac0834090aa3e6d243a": {
      "model_module": "@jupyter-widgets/controls",
      "model_module_version": "1.5.0",
      "model_name": "HBoxModel",
      "state": {
       "children": [
        "IPY_MODEL_a12f17378d134ab7b2756cda2b513426",
        "IPY_MODEL_9dabdf964c2445b89d770eabe2714431"
       ],
       "layout": "IPY_MODEL_a5e65102af0a462d9a624251d5270cab"
      }
     },
     "ffbd977e739f4af6bf0d3115c91d058b": {
      "model_module": "@jupyter-widgets/controls",
      "model_module_version": "1.5.0",
      "model_name": "HBoxModel",
      "state": {
       "children": [
        "IPY_MODEL_2c84c41570ba42febc9987a5d5e20b7b",
        "IPY_MODEL_2563b86df5f5429483cd86dcb4ac0654"
       ],
       "layout": "IPY_MODEL_900e1c5621864d61a2ac1aca787d5e20"
      }
     }
    },
    "version_major": 2,
    "version_minor": 0
   }
  }
 },
 "nbformat": 4,
 "nbformat_minor": 4
}
