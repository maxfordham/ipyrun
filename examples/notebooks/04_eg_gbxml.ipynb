{
 "cells": [
  {
   "cell_type": "code",
   "execution_count": 1,
   "metadata": {},
   "outputs": [
    {
     "ename": "ModuleNotFoundError",
     "evalue": "No module named '_runconfig'",
     "output_type": "error",
     "traceback": [
      "\u001b[1;31m---------------------------------------------------------------------------\u001b[0m",
      "\u001b[1;31mModuleNotFoundError\u001b[0m                       Traceback (most recent call last)",
      "\u001b[1;32mC:\\engDev\\git_mf\\ipyrun\\ipyrun\\_ipyeditcsv.py\u001b[0m in \u001b[0;36m<module>\u001b[1;34m\u001b[0m\n\u001b[0;32m     41\u001b[0m     \u001b[1;32mfrom\u001b[0m \u001b[0mipyrun\u001b[0m\u001b[1;33m.\u001b[0m\u001b[0m_runconfig\u001b[0m \u001b[1;32mimport\u001b[0m \u001b[0mRunConfig\u001b[0m\u001b[1;33m\u001b[0m\u001b[1;33m\u001b[0m\u001b[0m\n\u001b[1;32m---> 42\u001b[1;33m     \u001b[1;32mfrom\u001b[0m \u001b[0mipyrun\u001b[0m\u001b[1;33m.\u001b[0m\u001b[0m_filecontroller\u001b[0m \u001b[1;32mimport\u001b[0m \u001b[0mFileConfigController\u001b[0m\u001b[1;33m\u001b[0m\u001b[1;33m\u001b[0m\u001b[0m\n\u001b[0m\u001b[0;32m     43\u001b[0m \u001b[1;32mexcept\u001b[0m\u001b[1;33m:\u001b[0m\u001b[1;33m\u001b[0m\u001b[1;33m\u001b[0m\u001b[0m\n",
      "\u001b[1;32mC:\\engDev\\git_mf\\ipyrun\\ipyrun\\_filecontroller.py\u001b[0m in \u001b[0;36m<module>\u001b[1;34m\u001b[0m\n\u001b[0;32m     27\u001b[0m \u001b[1;32mfrom\u001b[0m \u001b[0mmf_modules\u001b[0m\u001b[1;33m.\u001b[0m\u001b[0mpydtype_operations\u001b[0m \u001b[1;32mimport\u001b[0m \u001b[0mread_json\u001b[0m\u001b[1;33m,\u001b[0m \u001b[0mread_yaml\u001b[0m\u001b[1;33m\u001b[0m\u001b[1;33m\u001b[0m\u001b[0m\n\u001b[1;32m---> 28\u001b[1;33m \u001b[1;32mfrom\u001b[0m \u001b[0mipyfilechooser\u001b[0m \u001b[1;32mimport\u001b[0m \u001b[0mFileChooser\u001b[0m\u001b[1;33m\u001b[0m\u001b[1;33m\u001b[0m\u001b[0m\n\u001b[0m\u001b[0;32m     29\u001b[0m \u001b[1;33m\u001b[0m\u001b[0m\n",
      "\u001b[1;31mModuleNotFoundError\u001b[0m: No module named 'ipyfilechooser'",
      "\nDuring handling of the above exception, another exception occurred:\n",
      "\u001b[1;31mModuleNotFoundError\u001b[0m                       Traceback (most recent call last)",
      "\u001b[1;32mC:\\engDev\\git_mf\\ipyrun\\ipyrun\\ipyrun.py\u001b[0m in \u001b[0;36m<module>\u001b[1;34m\u001b[0m\n\u001b[0;32m     44\u001b[0m     \u001b[1;32mfrom\u001b[0m \u001b[0mipyrun\u001b[0m\u001b[1;33m.\u001b[0m\u001b[0m_runconfig\u001b[0m \u001b[1;32mimport\u001b[0m \u001b[0mRunConfig\u001b[0m\u001b[1;33m\u001b[0m\u001b[1;33m\u001b[0m\u001b[0m\n\u001b[1;32m---> 45\u001b[1;33m     \u001b[1;32mfrom\u001b[0m \u001b[0mipyrun\u001b[0m\u001b[1;33m.\u001b[0m\u001b[0m_ipyeditcsv\u001b[0m \u001b[1;32mimport\u001b[0m \u001b[0mEditCsv\u001b[0m\u001b[1;33m\u001b[0m\u001b[1;33m\u001b[0m\u001b[0m\n\u001b[0m\u001b[0;32m     46\u001b[0m     \u001b[1;32mfrom\u001b[0m \u001b[0mipyrun\u001b[0m\u001b[1;33m.\u001b[0m\u001b[0m_ipyeditjson\u001b[0m \u001b[1;32mimport\u001b[0m \u001b[0mEditJson\u001b[0m\u001b[1;33m\u001b[0m\u001b[1;33m\u001b[0m\u001b[0m\n",
      "\u001b[1;32mC:\\engDev\\git_mf\\ipyrun\\ipyrun\\_ipyeditcsv.py\u001b[0m in \u001b[0;36m<module>\u001b[1;34m\u001b[0m\n\u001b[0;32m     43\u001b[0m \u001b[1;32mexcept\u001b[0m\u001b[1;33m:\u001b[0m\u001b[1;33m\u001b[0m\u001b[1;33m\u001b[0m\u001b[0m\n\u001b[1;32m---> 44\u001b[1;33m     \u001b[1;32mfrom\u001b[0m \u001b[0m_runconfig\u001b[0m \u001b[1;32mimport\u001b[0m \u001b[0mRunConfig\u001b[0m\u001b[1;33m\u001b[0m\u001b[1;33m\u001b[0m\u001b[0m\n\u001b[0m\u001b[0;32m     45\u001b[0m     \u001b[1;32mfrom\u001b[0m \u001b[0m_filecontroller\u001b[0m \u001b[1;32mimport\u001b[0m \u001b[0mFileConfigController\u001b[0m\u001b[1;33m\u001b[0m\u001b[1;33m\u001b[0m\u001b[0m\n",
      "\u001b[1;31mModuleNotFoundError\u001b[0m: No module named '_runconfig'",
      "\nDuring handling of the above exception, another exception occurred:\n",
      "\u001b[1;31mModuleNotFoundError\u001b[0m                       Traceback (most recent call last)",
      "\u001b[1;32m<ipython-input-1-f9c7c900813a>\u001b[0m in \u001b[0;36m<module>\u001b[1;34m\u001b[0m\n\u001b[0;32m      1\u001b[0m \u001b[1;32mimport\u001b[0m \u001b[0mos\u001b[0m\u001b[1;33m\u001b[0m\u001b[1;33m\u001b[0m\u001b[0m\n\u001b[1;32m----> 2\u001b[1;33m \u001b[1;32mfrom\u001b[0m \u001b[0mipyrun\u001b[0m\u001b[1;33m.\u001b[0m\u001b[0mipyrun\u001b[0m \u001b[1;32mimport\u001b[0m \u001b[0mRunApp\u001b[0m\u001b[1;33m\u001b[0m\u001b[1;33m\u001b[0m\u001b[0m\n\u001b[0m\u001b[0;32m      3\u001b[0m \u001b[0mNBFDIR\u001b[0m \u001b[1;33m=\u001b[0m \u001b[0mos\u001b[0m\u001b[1;33m.\u001b[0m\u001b[0mpath\u001b[0m\u001b[1;33m.\u001b[0m\u001b[0mdirname\u001b[0m\u001b[1;33m(\u001b[0m\u001b[0mos\u001b[0m\u001b[1;33m.\u001b[0m\u001b[0mpath\u001b[0m\u001b[1;33m.\u001b[0m\u001b[0mrealpath\u001b[0m\u001b[1;33m(\u001b[0m\u001b[1;34m'__file__'\u001b[0m\u001b[1;33m)\u001b[0m\u001b[1;33m)\u001b[0m\u001b[1;33m\u001b[0m\u001b[1;33m\u001b[0m\u001b[0m\n\u001b[0;32m      4\u001b[0m \u001b[1;33m\u001b[0m\u001b[0m\n\u001b[0;32m      5\u001b[0m \u001b[0mfpth_script\u001b[0m \u001b[1;33m=\u001b[0m \u001b[0mos\u001b[0m\u001b[1;33m.\u001b[0m\u001b[0mpath\u001b[0m\u001b[1;33m.\u001b[0m\u001b[0mjoin\u001b[0m\u001b[1;33m(\u001b[0m\u001b[0mos\u001b[0m\u001b[1;33m.\u001b[0m\u001b[0menviron\u001b[0m\u001b[1;33m[\u001b[0m\u001b[1;34m'MF_ROOT'\u001b[0m\u001b[1;33m]\u001b[0m\u001b[1;33m,\u001b[0m\u001b[1;34mr'MF_Toolbox\\dev\\mf_scripts\\gbxml.py'\u001b[0m\u001b[1;33m)\u001b[0m\u001b[1;33m\u001b[0m\u001b[1;33m\u001b[0m\u001b[0m\n",
      "\u001b[1;32mC:\\engDev\\git_mf\\ipyrun\\ipyrun\\ipyrun.py\u001b[0m in \u001b[0;36m<module>\u001b[1;34m\u001b[0m\n\u001b[0;32m     47\u001b[0m     \u001b[1;32mfrom\u001b[0m \u001b[0mipyrun\u001b[0m\u001b[1;33m.\u001b[0m\u001b[0m_ipydisplayfile\u001b[0m \u001b[1;32mimport\u001b[0m \u001b[0mDisplayFile\u001b[0m\u001b[1;33m,\u001b[0m \u001b[0mDisplayFiles\u001b[0m\u001b[1;33m\u001b[0m\u001b[1;33m\u001b[0m\u001b[0m\n\u001b[0;32m     48\u001b[0m \u001b[1;32mexcept\u001b[0m\u001b[1;33m:\u001b[0m\u001b[1;33m\u001b[0m\u001b[1;33m\u001b[0m\u001b[0m\n\u001b[1;32m---> 49\u001b[1;33m     \u001b[1;32mfrom\u001b[0m \u001b[0m_runconfig\u001b[0m \u001b[1;32mimport\u001b[0m \u001b[0mRunConfig\u001b[0m\u001b[1;33m\u001b[0m\u001b[1;33m\u001b[0m\u001b[0m\n\u001b[0m\u001b[0;32m     50\u001b[0m     \u001b[1;32mfrom\u001b[0m \u001b[0m_ipyeditcsv\u001b[0m \u001b[1;32mimport\u001b[0m \u001b[0mEditCsv\u001b[0m\u001b[1;33m\u001b[0m\u001b[1;33m\u001b[0m\u001b[0m\n\u001b[0;32m     51\u001b[0m     \u001b[1;32mfrom\u001b[0m \u001b[0m_ipyeditjson\u001b[0m \u001b[1;32mimport\u001b[0m \u001b[0mEditJson\u001b[0m\u001b[1;33m\u001b[0m\u001b[1;33m\u001b[0m\u001b[0m\n",
      "\u001b[1;31mModuleNotFoundError\u001b[0m: No module named '_runconfig'"
     ]
    }
   ],
   "source": [
    "import os\n",
    "from ipyrun.ipyrun import RunApp\n",
    "NBFDIR = os.path.dirname(os.path.realpath('__file__'))\n",
    "\n",
    "fpth_script = os.path.join(os.environ['MF_ROOT'],r'MF_Toolbox\\dev\\mf_scripts\\gbxml.py')\n",
    "config={\n",
    "    'fpth_script':os.path.realpath(fpth_script),\n",
    "    'fdir':NBFDIR,\n",
    "    }  \n",
    "r = RunApp(config)\n",
    "r "
   ]
  },
  {
   "cell_type": "code",
   "execution_count": null,
   "metadata": {},
   "outputs": [],
   "source": []
  },
  {
   "cell_type": "code",
   "execution_count": null,
   "metadata": {},
   "outputs": [],
   "source": []
  },
  {
   "cell_type": "code",
   "execution_count": null,
   "metadata": {},
   "outputs": [],
   "source": []
  },
  {
   "cell_type": "code",
   "execution_count": null,
   "metadata": {},
   "outputs": [],
   "source": []
  }
 ],
 "metadata": {
  "kernelspec": {
   "display_name": "Python [conda env:mf_main] *",
   "language": "python",
   "name": "conda-env-mf_main-py"
  },
  "language_info": {
   "codemirror_mode": {
    "name": "ipython",
    "version": 3
   },
   "file_extension": ".py",
   "mimetype": "text/x-python",
   "name": "python",
   "nbconvert_exporter": "python",
   "pygments_lexer": "ipython3",
   "version": "3.7.7"
  },
  "widgets": {
   "application/vnd.jupyter.widget-state+json": {
    "state": {
     "0018cdf919384849a7c04372b95b5275": {
      "model_module": "@jupyter-widgets/output",
      "model_module_version": "1.0.0",
      "model_name": "OutputModel",
      "state": {
       "layout": "IPY_MODEL_857481f938124bb0b8b210b42f1f87a2"
      }
     },
     "004b48e3dcfb432488c7c1d72619d461": {
      "model_module": "@jupyter-widgets/controls",
      "model_module_version": "1.5.0",
      "model_name": "VBoxModel",
      "state": {
       "children": [
        "IPY_MODEL_6be82c9402a64fa0a8579891ed7f3ae4",
        "IPY_MODEL_9984c6d9fb374cadaffc687470e04067",
        "IPY_MODEL_5e186b34e80c404083dcadda1248b31b",
        "IPY_MODEL_c599f94455b5490bab3300e0919e4907",
        "IPY_MODEL_fb1499e6c82240c8b627d8d0e681b767"
       ],
       "layout": "IPY_MODEL_848dfa30867d4c048843390479cf64a8"
      }
     },
     "0076dbfa8c354ac0830a3fe8c1340d73": {
      "model_module": "@jupyter-widgets/base",
      "model_module_version": "1.2.0",
      "model_name": "LayoutModel",
      "state": {}
     },
     "00be06e7db1740758f3fb9d15cc1b75e": {
      "model_module": "@jupyter-widgets/base",
      "model_module_version": "1.2.0",
      "model_name": "LayoutModel",
      "state": {}
     },
     "0136ce859b62461d9af6b5b37e2d5c60": {
      "model_module": "@jupyter-widgets/base",
      "model_module_version": "1.2.0",
      "model_name": "LayoutModel",
      "state": {}
     },
     "01462dee795446f2aa88e5c4e2c5f5fe": {
      "model_module": "@jupyter-widgets/controls",
      "model_module_version": "1.5.0",
      "model_name": "HTMLModel",
      "state": {
       "layout": "IPY_MODEL_dd7bbea5b6ee474c8c5186f47a023d12",
       "style": "IPY_MODEL_ac223657a3374d5bb1c22d62ce17b9fd",
       "value": "<p>1</p>"
      }
     },
     "01d6c4cbbd4a4a52869394eaf553312b": {
      "model_module": "@jupyter-widgets/base",
      "model_module_version": "1.2.0",
      "model_name": "LayoutModel",
      "state": {}
     },
     "01fc8ab3bc2146e1a23ddcb0785c673e": {
      "model_module": "@jupyter-widgets/controls",
      "model_module_version": "1.5.0",
      "model_name": "HTMLModel",
      "state": {
       "layout": "IPY_MODEL_6b6a163be82343708765daa7cba94e0f",
       "style": "IPY_MODEL_cb1b61971af544d1acdb4b4290241a99",
       "value": "<p>1st section of space name code</p>"
      }
     },
     "0205426f44324839867c3eb126559475": {
      "model_module": "@jupyter-widgets/base",
      "model_module_version": "1.2.0",
      "model_name": "LayoutModel",
      "state": {
       "display": "flex",
       "flex_flow": "row",
       "grid_auto_columns": "False",
       "justify_content": "flex-start",
       "width": "100%"
      }
     },
     "023f6988a6434526b84c48a1ce5d81cd": {
      "model_module": "@jupyter-widgets/controls",
      "model_module_version": "1.5.0",
      "model_name": "ToggleButtonModel",
      "state": {
       "icon": "arrow-down",
       "layout": "IPY_MODEL_5f5950ef1b6e43489a709fffeb288974",
       "style": "IPY_MODEL_73b51201ea2e48908369b9c9f3fbacf4"
      }
     },
     "02a7e4d31582477aaa9dddafb99cbdfe": {
      "model_module": "@jupyter-widgets/controls",
      "model_module_version": "1.5.0",
      "model_name": "TextModel",
      "state": {
       "layout": "IPY_MODEL_845cf4dd4f094aa8b3ddf20080e3562b",
       "style": "IPY_MODEL_6e3a29212dda47818f2543719425a25d",
       "value": "BlockCode"
      }
     },
     "02bdf0ca894c4aca948ac115704e9843": {
      "model_module": "@jupyter-widgets/controls",
      "model_module_version": "1.5.0",
      "model_name": "HTMLModel",
      "state": {
       "layout": "IPY_MODEL_f41f66dac84e4b64b6c073dfb246bd24",
       "style": "IPY_MODEL_8bf3dc1de54d47ff83fd363673a414b4",
       "value": "<p>2nd section of space name code</p>"
      }
     },
     "0314a2b666b24be0882c49b2565de847": {
      "model_module": "@jupyter-widgets/controls",
      "model_module_version": "1.5.0",
      "model_name": "DescriptionStyleModel",
      "state": {
       "description_width": ""
      }
     },
     "0359d336476f4f8990b7249fd1ea23f1": {
      "model_module": "@jupyter-widgets/output",
      "model_module_version": "1.0.0",
      "model_name": "OutputModel",
      "state": {
       "layout": "IPY_MODEL_5b786f7a623b4cedb10b8fabc440e949"
      }
     },
     "0380dc5eaf8441a282ea177c331b4e7f": {
      "model_module": "@jupyter-widgets/base",
      "model_module_version": "1.2.0",
      "model_name": "LayoutModel",
      "state": {
       "align_items": "stretch",
       "display": "flex",
       "flex_flow": "row",
       "grid_auto_columns": "True",
       "justify_content": "flex-end",
       "width": "90%"
      }
     },
     "03ae384cd7fc49bab84d6d384dd8d948": {
      "model_module": "@jupyter-widgets/base",
      "model_module_version": "1.2.0",
      "model_name": "LayoutModel",
      "state": {}
     },
     "0419eccbea5e4bc59afb54653d7a1841": {
      "model_module": "@jupyter-widgets/controls",
      "model_module_version": "1.5.0",
      "model_name": "TextModel",
      "state": {
       "description": "inputs",
       "disabled": true,
       "layout": "IPY_MODEL_5f070b61e029472b819e1224495b4831",
       "style": "IPY_MODEL_07edcb5fb96d4c70a8ffeca0aeb5e155",
       "value": "C:\\engDev\\git_mf\\ipyrun\\examples\\notebooks\\appdata\\inputs\\inputs-gbxml.json"
      }
     },
     "042ff4a8996541a0aafdbe97c91684d4": {
      "model_module": "@jupyter-widgets/base",
      "model_module_version": "1.2.0",
      "model_name": "LayoutModel",
      "state": {}
     },
     "0457e488aceb42c2b289665694408ed2": {
      "model_module": "@jupyter-widgets/controls",
      "model_module_version": "1.5.0",
      "model_name": "HTMLModel",
      "state": {
       "layout": "IPY_MODEL_eb81a79f31d94bb487db51cbc9143823",
       "style": "IPY_MODEL_632ca43054234d6da183212ef36b2af8",
       "value": "<p>2</p>"
      }
     },
     "049fa3dbd93a4190acba9270b0bc4310": {
      "model_module": "@jupyter-widgets/base",
      "model_module_version": "1.2.0",
      "model_name": "LayoutModel",
      "state": {
       "align_items": "stretch",
       "display": "flex",
       "flex_flow": "row",
       "grid_auto_columns": "True",
       "justify_content": "flex-start",
       "width": "80%"
      }
     },
     "0537da2a1f3b41e78980bc36ced17262": {
      "model_module": "@jupyter-widgets/controls",
      "model_module_version": "1.5.0",
      "model_name": "ButtonStyleModel",
      "state": {
       "font_weight": "bold"
      }
     },
     "05d665b1f20642c6975ba6df97b4ae4c": {
      "model_module": "@jupyter-widgets/controls",
      "model_module_version": "1.5.0",
      "model_name": "DescriptionStyleModel",
      "state": {
       "description_width": ""
      }
     },
     "05f91c766ebc45c0adf1a538e68c4337": {
      "model_module": "@jupyter-widgets/base",
      "model_module_version": "1.2.0",
      "model_name": "LayoutModel",
      "state": {}
     },
     "0604e372f89f443cb0417f6bd0700d3a": {
      "model_module": "@jupyter-widgets/controls",
      "model_module_version": "1.5.0",
      "model_name": "ToggleButtonModel",
      "state": {
       "button_style": "success",
       "description": "display/hide files",
       "layout": "IPY_MODEL_17132995f00244d2bd66d619bce76f9d",
       "style": "IPY_MODEL_e2eff89804f1464ebc90d3a88f62f1ce",
       "tooltip": "shows and hides display outputs of the files selected in the SelectMultiple dropdown menu"
      }
     },
     "067902ef8ccd4f8ea0da6c25bc408b44": {
      "model_module": "@jupyter-widgets/controls",
      "model_module_version": "1.5.0",
      "model_name": "DescriptionStyleModel",
      "state": {
       "description_width": ""
      }
     },
     "0691aa88dd2c4fb99b134f5e0770d6c9": {
      "model_module": "@jupyter-widgets/base",
      "model_module_version": "1.2.0",
      "model_name": "LayoutModel",
      "state": {}
     },
     "06c3ebdb01814ae9bcca18bf482630d4": {
      "model_module": "@jupyter-widgets/output",
      "model_module_version": "1.0.0",
      "model_name": "OutputModel",
      "state": {
       "layout": "IPY_MODEL_c5c35c59e06b4d20a23163fc28cb7339"
      }
     },
     "06f3bfda7a4e4e7fad7eb44bdb407d76": {
      "model_module": "@jupyter-widgets/base",
      "model_module_version": "1.2.0",
      "model_name": "LayoutModel",
      "state": {}
     },
     "06fb8c75abb24c5ca88feaadad868408": {
      "model_module": "@jupyter-widgets/controls",
      "model_module_version": "1.5.0",
      "model_name": "DescriptionStyleModel",
      "state": {
       "description_width": ""
      }
     },
     "07308b406f244e35860adefc5adecd8d": {
      "model_module": "@jupyter-widgets/base",
      "model_module_version": "1.2.0",
      "model_name": "LayoutModel",
      "state": {}
     },
     "079cb510b0ec4e7d88b1e837cb96e56c": {
      "model_module": "@jupyter-widgets/controls",
      "model_module_version": "1.5.0",
      "model_name": "TextModel",
      "state": {
       "layout": "IPY_MODEL_c8415af030a94d7db8a9835ead8f1d25",
       "style": "IPY_MODEL_bd5b8d679f2b4e108e8e50436870d317",
       "value": "TM46Category"
      }
     },
     "07d4aab23e504f17a5c3bc9ec63ccef9": {
      "model_module": "@jupyter-widgets/controls",
      "model_module_version": "1.5.0",
      "model_name": "HBoxModel",
      "state": {
       "children": [
        "IPY_MODEL_da5f3de277714149a203af7601fa8dd6",
        "IPY_MODEL_d8718b71f301462ea92dc35bf8dea54f"
       ],
       "layout": "IPY_MODEL_939418d1c3de4951ace393d8d456981f"
      }
     },
     "07edcb5fb96d4c70a8ffeca0aeb5e155": {
      "model_module": "@jupyter-widgets/controls",
      "model_module_version": "1.5.0",
      "model_name": "DescriptionStyleModel",
      "state": {
       "description_width": ""
      }
     },
     "082e7af2755c4107ae557a0f9f4a7e70": {
      "model_module": "@jupyter-widgets/base",
      "model_module_version": "1.2.0",
      "model_name": "LayoutModel",
      "state": {}
     },
     "0874f96702954c18aab2a011e17f97e6": {
      "model_module": "@jupyter-widgets/base",
      "model_module_version": "1.2.0",
      "model_name": "LayoutModel",
      "state": {}
     },
     "0913f75eea574c04b5840856ce878575": {
      "model_module": "@jupyter-widgets/controls",
      "model_module_version": "1.5.0",
      "model_name": "ButtonStyleModel",
      "state": {
       "font_weight": "bold"
      }
     },
     "09185cf09d4c45c79d1c3e95b1a88c3b": {
      "model_module": "@jupyter-widgets/controls",
      "model_module_version": "1.5.0",
      "model_name": "DescriptionStyleModel",
      "state": {
       "description_width": ""
      }
     },
     "091e022caeac40c2a429453cd4183745": {
      "model_module": "@jupyter-widgets/output",
      "model_module_version": "1.0.0",
      "model_name": "OutputModel",
      "state": {
       "layout": "IPY_MODEL_b0139426513b40c09da92521a94b94ad"
      }
     },
     "093adbfe04ff4660952ae43af8360ae2": {
      "model_module": "@jupyter-widgets/base",
      "model_module_version": "1.2.0",
      "model_name": "LayoutModel",
      "state": {}
     },
     "094731e855e84554971e8790f82e26ec": {
      "model_module": "@jupyter-widgets/base",
      "model_module_version": "1.2.0",
      "model_name": "LayoutModel",
      "state": {}
     },
     "097a80e3dc364fe88dabb3cbd8f4b637": {
      "model_module": "@jupyter-widgets/controls",
      "model_module_version": "1.5.0",
      "model_name": "HTMLModel",
      "state": {
       "layout": "IPY_MODEL_9fa5b30d494c41b0bae8144fe421e413",
       "style": "IPY_MODEL_decff15e25df44c58613207a4fc842b1",
       "value": "<p>4</p>"
      }
     },
     "0980fadf0cab4318ab78c5d19ae1cd73": {
      "model_module": "@jupyter-widgets/controls",
      "model_module_version": "1.5.0",
      "model_name": "DescriptionStyleModel",
      "state": {
       "description_width": ""
      }
     },
     "0a5cbfa1a06a40ebbacc9484a95d98e5": {
      "model_module": "@jupyter-widgets/controls",
      "model_module_version": "1.5.0",
      "model_name": "DescriptionStyleModel",
      "state": {
       "description_width": ""
      }
     },
     "0b8e9e00dc1a466998457f7923458c00": {
      "model_module": "@jupyter-widgets/base",
      "model_module_version": "1.2.0",
      "model_name": "LayoutModel",
      "state": {}
     },
     "0b98e5132c5048cab7373daeef81b763": {
      "model_module": "@jupyter-widgets/base",
      "model_module_version": "1.2.0",
      "model_name": "LayoutModel",
      "state": {
       "height": "30px",
       "width": "auto"
      }
     },
     "0ba4336e71c949aca7ce8a075763edf6": {
      "model_module": "@jupyter-widgets/output",
      "model_module_version": "1.0.0",
      "model_name": "OutputModel",
      "state": {
       "layout": "IPY_MODEL_5a4de49d523748239d2f405253496a42"
      }
     },
     "0c906a36b1754a14a6d27eb6636cc3f3": {
      "model_module": "@jupyter-widgets/base",
      "model_module_version": "1.2.0",
      "model_name": "LayoutModel",
      "state": {
       "align_items": "stretch",
       "display": "flex",
       "flex_flow": "row",
       "grid_auto_columns": "True",
       "justify_content": "flex-start",
       "width": "80%"
      }
     },
     "0d45cd63c8774e21a25de90abd14dabe": {
      "model_module": "@jupyter-widgets/controls",
      "model_module_version": "1.5.0",
      "model_name": "DescriptionStyleModel",
      "state": {
       "description_width": ""
      }
     },
     "0deea89e6eb647eeaf3a2e64c94976fc": {
      "model_module": "@jupyter-widgets/base",
      "model_module_version": "1.2.0",
      "model_name": "LayoutModel",
      "state": {
       "align_items": "stretch",
       "display": "flex",
       "flex_flow": "row",
       "grid_auto_columns": "True",
       "justify_content": "flex-end",
       "width": "90%"
      }
     },
     "0e8d06cb2f524507b93d2474bd16c9a7": {
      "model_module": "@jupyter-widgets/output",
      "model_module_version": "1.0.0",
      "model_name": "OutputModel",
      "state": {
       "layout": "IPY_MODEL_5a19aa940e0548439f1c9162688485a4"
      }
     },
     "0ec86a97fd344f1eb17d364e12dad07d": {
      "model_module": "@jupyter-widgets/controls",
      "model_module_version": "1.5.0",
      "model_name": "DescriptionStyleModel",
      "state": {
       "description_width": ""
      }
     },
     "0eea7cc98d1a464991d8a0e0dcf2943a": {
      "model_module": "@jupyter-widgets/controls",
      "model_module_version": "1.5.0",
      "model_name": "DescriptionStyleModel",
      "state": {
       "description_width": ""
      }
     },
     "0ef4c35d73144c73897e1abcb163ab2f": {
      "model_module": "@jupyter-widgets/base",
      "model_module_version": "1.2.0",
      "model_name": "LayoutModel",
      "state": {
       "align_items": "stretch",
       "display": "flex",
       "flex_flow": "row",
       "grid_auto_columns": "True",
       "justify_content": "flex-end",
       "width": "90%"
      }
     },
     "0efe703475444ecd8d305dadfb5f052a": {
      "model_module": "@jupyter-widgets/base",
      "model_module_version": "1.2.0",
      "model_name": "LayoutModel",
      "state": {
       "align_items": "stretch",
       "display": "flex",
       "flex_flow": "row",
       "grid_auto_columns": "True",
       "justify_content": "flex-end",
       "width": "90%"
      }
     },
     "0f0e3db0103943e1a2c55544c632b6e9": {
      "model_module": "@jupyter-widgets/base",
      "model_module_version": "1.2.0",
      "model_name": "LayoutModel",
      "state": {}
     },
     "0f1fe0b2d6684393822496bbfaa0f190": {
      "model_module": "@jupyter-widgets/base",
      "model_module_version": "1.2.0",
      "model_name": "LayoutModel",
      "state": {}
     },
     "0f20c55ea6094fb983fd6a63f1b23880": {
      "model_module": "@jupyter-widgets/base",
      "model_module_version": "1.2.0",
      "model_name": "LayoutModel",
      "state": {
       "height": "30px",
       "max_width": "30px",
       "padding": "3px"
      }
     },
     "0f48b0726ea84f5383a3c7acdcad95d1": {
      "model_module": "@jupyter-widgets/controls",
      "model_module_version": "1.5.0",
      "model_name": "DescriptionStyleModel",
      "state": {
       "description_width": ""
      }
     },
     "0f86cccc6c9f47a5ad0b6821553b7320": {
      "model_module": "@jupyter-widgets/base",
      "model_module_version": "1.2.0",
      "model_name": "LayoutModel",
      "state": {}
     },
     "0f971a7f4c9146e193d6658e2efa9609": {
      "model_module": "@jupyter-widgets/base",
      "model_module_version": "1.2.0",
      "model_name": "LayoutModel",
      "state": {
       "align_items": "stretch",
       "width": "100%"
      }
     },
     "0ff7436e09f040baa8012440a25df6ba": {
      "model_module": "@jupyter-widgets/base",
      "model_module_version": "1.2.0",
      "model_name": "LayoutModel",
      "state": {
       "align_items": "stretch",
       "border": "dashed 0.2px green",
       "display": "flex",
       "flex_flow": "row",
       "grid_auto_columns": "True",
       "justify_content": "flex-start",
       "width": "100%"
      }
     },
     "10050a7aa02045a9b42586a974ff2cfe": {
      "model_module": "@jupyter-widgets/controls",
      "model_module_version": "1.5.0",
      "model_name": "DescriptionStyleModel",
      "state": {
       "description_width": ""
      }
     },
     "110e843c4e2042d19dd314133827bcaf": {
      "model_module": "@jupyter-widgets/base",
      "model_module_version": "1.2.0",
      "model_name": "LayoutModel",
      "state": {
       "width": "100%"
      }
     },
     "112a7332ba3643198bee3d8cd0c33ef2": {
      "model_module": "@jupyter-widgets/controls",
      "model_module_version": "1.5.0",
      "model_name": "ButtonModel",
      "state": {
       "button_style": "info",
       "description": "show log",
       "layout": "IPY_MODEL_55de2bed73c74589b2e2910fa5335de2",
       "style": "IPY_MODEL_0537da2a1f3b41e78980bc36ced17262",
       "tooltip": "show a log of when the script was executed to generate the outputs, and by who"
      }
     },
     "11704dbf94a74ad485cdd3f7630f667d": {
      "model_module": "@jupyter-widgets/controls",
      "model_module_version": "1.5.0",
      "model_name": "HBoxModel",
      "state": {
       "children": [
        "IPY_MODEL_8caeee5d06db4585aaaf46e5775fcfec",
        "IPY_MODEL_d91150e88318448ea558f9af1624a374"
       ],
       "layout": "IPY_MODEL_9d677e3ef82844dd8814704645f382f0"
      }
     },
     "117e806a6ad140c782077683f6b9aa41": {
      "model_module": "@jupyter-widgets/controls",
      "model_module_version": "1.5.0",
      "model_name": "HTMLModel",
      "state": {
       "layout": "IPY_MODEL_68959c7d3acb40baaca322b226e8c062",
       "style": "IPY_MODEL_565fcebd162f4533bf1548f544372981",
       "value": "<p>4th section of space name code (enter None if 4th section doesn't exist)</p>"
      }
     },
     "1217c4a8cf67405ca7797570fbb11470": {
      "model_module": "@jupyter-widgets/base",
      "model_module_version": "1.2.0",
      "model_name": "LayoutModel",
      "state": {
       "align_items": "stretch",
       "border": "dashed 0.2px green",
       "display": "flex",
       "flex_flow": "row",
       "grid_auto_columns": "True",
       "justify_content": "flex-start",
       "width": "100%"
      }
     },
     "1259c316742749a7ad615da28de18bf0": {
      "model_module": "@jupyter-widgets/base",
      "model_module_version": "1.2.0",
      "model_name": "LayoutModel",
      "state": {}
     },
     "127b7be5ebbf4c6a957a0544910c839f": {
      "model_module": "@jupyter-widgets/controls",
      "model_module_version": "1.5.0",
      "model_name": "HBoxModel",
      "state": {
       "children": [
        "IPY_MODEL_1498140c708a4b0bae267fa9a5230ddf",
        "IPY_MODEL_a8aab953df274c0c875fe80a11fc60e0"
       ],
       "layout": "IPY_MODEL_12ec388a3165421eaa059e6e83bc706f"
      }
     },
     "12c5ef6429d34cb4b0ef866083197807": {
      "model_module": "@jupyter-widgets/base",
      "model_module_version": "1.2.0",
      "model_name": "LayoutModel",
      "state": {}
     },
     "12ec388a3165421eaa059e6e83bc706f": {
      "model_module": "@jupyter-widgets/base",
      "model_module_version": "1.2.0",
      "model_name": "LayoutModel",
      "state": {
       "align_items": "stretch",
       "display": "flex",
       "flex_flow": "row",
       "grid_auto_columns": "True",
       "justify_content": "flex-start",
       "width": "80%"
      }
     },
     "12fa888b2131447ca8f4fd95bade3736": {
      "model_module": "@jupyter-widgets/base",
      "model_module_version": "1.2.0",
      "model_name": "LayoutModel",
      "state": {
       "align_items": "stretch",
       "display": "flex",
       "flex_flow": "row",
       "grid_auto_columns": "True",
       "justify_content": "flex-start",
       "width": "80%"
      }
     },
     "1338b9f401ec479ba7e6e1eb994902fc": {
      "model_module": "@jupyter-widgets/base",
      "model_module_version": "1.2.0",
      "model_name": "LayoutModel",
      "state": {}
     },
     "13401a31b5fd462a85d6300319f0bbd5": {
      "model_module": "@jupyter-widgets/controls",
      "model_module_version": "1.5.0",
      "model_name": "DescriptionStyleModel",
      "state": {
       "description_width": ""
      }
     },
     "136e54ce5c244bcaaee69c27402a00b9": {
      "model_module": "@jupyter-widgets/controls",
      "model_module_version": "1.5.0",
      "model_name": "HBoxModel",
      "state": {
       "children": [
        "IPY_MODEL_b07665cbead34450a9ee1ae7ce815c14",
        "IPY_MODEL_345e3bef767843ed9671e674b27566b3"
       ],
       "layout": "IPY_MODEL_80cdba3573b647698c66ee53b06819f9"
      }
     },
     "1413880a7ba84d74b578fb05682d9a42": {
      "model_module": "@jupyter-widgets/base",
      "model_module_version": "1.2.0",
      "model_name": "LayoutModel",
      "state": {
       "align_items": "stretch",
       "border": "dashed 0.2px green",
       "display": "flex",
       "flex_flow": "row",
       "grid_auto_columns": "True",
       "justify_content": "flex-start",
       "width": "100%"
      }
     },
     "141c5d893c514279be5c7001012f9edc": {
      "model_module": "@jupyter-widgets/controls",
      "model_module_version": "1.5.0",
      "model_name": "TextModel",
      "state": {
       "layout": "IPY_MODEL_699e4cec5857476b9dc6950c59156e43",
       "style": "IPY_MODEL_86e63c999b77430c8e4dcf6aff4619d4",
       "value": "SpaceId"
      }
     },
     "146f0b187a0e4d54926cc065c46d9177": {
      "model_module": "@jupyter-widgets/output",
      "model_module_version": "1.0.0",
      "model_name": "OutputModel",
      "state": {
       "layout": "IPY_MODEL_3d014c6a4f0c46d788253ae5b87afe80"
      }
     },
     "1498140c708a4b0bae267fa9a5230ddf": {
      "model_module": "@jupyter-widgets/controls",
      "model_module_version": "1.5.0",
      "model_name": "TextModel",
      "state": {
       "layout": "IPY_MODEL_5158d95cc5104d47a8cb0a3ad8231d6e",
       "style": "IPY_MODEL_fb1be47ecd8d4dba90519ca0723c19da",
       "value": "C:\\engDev\\git_mf\\MF_Toolbox\\dev\\examples\\gbxml\\105_LiveseyExchange_heatpump-normal-fabric.xml"
      }
     },
     "155c7874ccdc49999d5b65e806a69cfa": {
      "model_module": "@jupyter-widgets/controls",
      "model_module_version": "1.5.0",
      "model_name": "ButtonModel",
      "state": {
       "button_style": "success",
       "description": "run",
       "layout": "IPY_MODEL_ec0862c6e57a4f719ca5a25f35fbf2f7",
       "style": "IPY_MODEL_9ac6db12844546b2892c8b772cf1fb15",
       "tooltip": "execute the script based on the user inputs"
      }
     },
     "156e0d26038a43a5a94ce29133f39c9c": {
      "model_module": "@jupyter-widgets/controls",
      "model_module_version": "1.5.0",
      "model_name": "HBoxModel",
      "state": {
       "children": [
        "IPY_MODEL_1b8aeff92874469c9eaf2e6a8c6dc6f0"
       ],
       "layout": "IPY_MODEL_99e655ea06384f76b2a874d1f2279d5b"
      }
     },
     "1571949e1e7c4ac7a62e6e384af089c8": {
      "model_module": "@jupyter-widgets/controls",
      "model_module_version": "1.5.0",
      "model_name": "HTMLModel",
      "state": {
       "layout": "IPY_MODEL_ef743dd3db3f4d948a27040be4eee977",
       "style": "IPY_MODEL_b30cd9ef1cc74eafade9b0a68719b2da",
       "value": "<p>1</p>"
      }
     },
     "15d65a5290654d97b20f2fda458be26e": {
      "model_module": "@jupyter-widgets/controls",
      "model_module_version": "1.5.0",
      "model_name": "ButtonModel",
      "state": {
       "button_style": "info",
       "description": "show guide",
       "layout": "IPY_MODEL_cc18bdb7513f4b77afaed82d63db1164",
       "style": "IPY_MODEL_c63014ebca1049eda7dbc84f9be16d3c",
       "tooltip": "read the \"docstring\", ie. the documentation that was written to accompany the script"
      }
     },
     "1629373c43944e05bcf4c8b2cd4bbcfb": {
      "model_module": "@jupyter-widgets/controls",
      "model_module_version": "1.5.0",
      "model_name": "HTMLModel",
      "state": {
       "layout": "IPY_MODEL_553bd2ade12f4797af5e25a8fc54a54b",
       "style": "IPY_MODEL_0980fadf0cab4318ab78c5d19ae1cd73",
       "value": "<p>2nd section of space name code</p>"
      }
     },
     "16b5244fb8e540139926f87c6d39dd1d": {
      "model_module": "@jupyter-widgets/controls",
      "model_module_version": "1.5.0",
      "model_name": "HTMLModel",
      "state": {
       "layout": "IPY_MODEL_6d1a418834284a489ff5c1676b434259",
       "style": "IPY_MODEL_37598369119e49de89afbe5d16fdde34",
       "value": "<p>1</p>"
      }
     },
     "17132995f00244d2bd66d619bce76f9d": {
      "model_module": "@jupyter-widgets/base",
      "model_module_version": "1.2.0",
      "model_name": "LayoutModel",
      "state": {}
     },
     "1814c892cdf14b9baf97223ff55144e7": {
      "model_module": "@jupyter-widgets/controls",
      "model_module_version": "1.5.0",
      "model_name": "DescriptionStyleModel",
      "state": {
       "description_width": ""
      }
     },
     "18319f0fefb34205b8dd52edef5fc55b": {
      "model_module": "@jupyter-widgets/base",
      "model_module_version": "1.2.0",
      "model_name": "LayoutModel",
      "state": {}
     },
     "183f7de82fc14953acf1ea657ce7441c": {
      "model_module": "@jupyter-widgets/controls",
      "model_module_version": "1.5.0",
      "model_name": "HBoxModel",
      "state": {
       "children": [
        "IPY_MODEL_16b5244fb8e540139926f87c6d39dd1d",
        "IPY_MODEL_be573f91419142aabb755aa01cc2e3d1"
       ],
       "layout": "IPY_MODEL_64f2e1cb3756434c8f97eb1559ee0131"
      }
     },
     "185d7f62081c45b99391bbd224615e7f": {
      "model_module": "@jupyter-widgets/controls",
      "model_module_version": "1.5.0",
      "model_name": "HBoxModel",
      "state": {
       "children": [
        "IPY_MODEL_35d5e2495365421193be683cbbc82994",
        "IPY_MODEL_2374a8622b4b4fedadd3788e3cbe1f77"
       ],
       "layout": "IPY_MODEL_f1320f389199400cb7e2b214d72e7223"
      }
     },
     "1881fcd7eb504f52b50cd44e154dc1f2": {
      "model_module": "@jupyter-widgets/controls",
      "model_module_version": "1.5.0",
      "model_name": "HBoxModel",
      "state": {
       "children": [
        "IPY_MODEL_d22544fb2b2e4c46b7ad2bf06f1b30ea",
        "IPY_MODEL_02bdf0ca894c4aca948ac115704e9843"
       ],
       "layout": "IPY_MODEL_a6e55a4447104920b7f900fcd23d9c6f"
      }
     },
     "18f7c7ef2d174184b955ee443371ca58": {
      "model_module": "@jupyter-widgets/controls",
      "model_module_version": "1.5.0",
      "model_name": "ButtonStyleModel",
      "state": {
       "font_weight": "bold"
      }
     },
     "190cbaa410d6431abd781121b4b224c1": {
      "model_module": "@jupyter-widgets/controls",
      "model_module_version": "1.5.0",
      "model_name": "HTMLModel",
      "state": {
       "layout": "IPY_MODEL_8f495e06313f4b859d5626e3500cb2b5",
       "style": "IPY_MODEL_6de502f6b6a14d548f7fbf91fa0b7126",
       "value": "<p>3</p>"
      }
     },
     "19745ed95df341d081860a02e2606a52": {
      "model_module": "@jupyter-widgets/controls",
      "model_module_version": "1.5.0",
      "model_name": "DescriptionStyleModel",
      "state": {
       "description_width": ""
      }
     },
     "1999a96ee7374727ac34d82b531b00e0": {
      "model_module": "@jupyter-widgets/controls",
      "model_module_version": "1.5.0",
      "model_name": "VBoxModel",
      "state": {
       "children": [
        "IPY_MODEL_6a3be84f13534a8e94e48845065bed0f",
        "IPY_MODEL_156e0d26038a43a5a94ce29133f39c9c",
        "IPY_MODEL_7deb04c015454ae9ae37249c2a6f41fd",
        "IPY_MODEL_2c4c0b0ce0a84a8e8b2e0e9b8167ef02",
        "IPY_MODEL_771a84ef2a794367aea2f580fc44b39e"
       ],
       "layout": "IPY_MODEL_b044f11304394d83b2d4fe63f1127169"
      }
     },
     "1a241da2a6f140849006f5ef3f36d2fa": {
      "model_module": "@jupyter-widgets/base",
      "model_module_version": "1.2.0",
      "model_name": "LayoutModel",
      "state": {}
     },
     "1a55055524314f9081f8478fd9aca9b0": {
      "model_module": "@jupyter-widgets/controls",
      "model_module_version": "1.5.0",
      "model_name": "HTMLModel",
      "state": {
       "layout": "IPY_MODEL_cea4a82e5a3d4554ae592ca163e985b0",
       "style": "IPY_MODEL_5dcdcc7a876249d3ab883c6be8fb8713",
       "value": "<p>3rd section of space name code (enter None if 3rd section doesn't exist)</p>"
      }
     },
     "1aa9e17aa1274231b0612c6efff6af3e": {
      "model_module": "@jupyter-widgets/controls",
      "model_module_version": "1.5.0",
      "model_name": "HBoxModel",
      "state": {
       "children": [
        "IPY_MODEL_1571949e1e7c4ac7a62e6e384af089c8",
        "IPY_MODEL_ffbd977e739f4af6bf0d3115c91d058b"
       ],
       "layout": "IPY_MODEL_f36d320d1add4a4fa13648fa347783ef"
      }
     },
     "1abd555d13f447a48542b9face00a174": {
      "model_module": "@jupyter-widgets/base",
      "model_module_version": "1.2.0",
      "model_name": "LayoutModel",
      "state": {}
     },
     "1ae1a35d6e66450faecf2190f574e5fd": {
      "model_module": "@jupyter-widgets/controls",
      "model_module_version": "1.5.0",
      "model_name": "DescriptionStyleModel",
      "state": {
       "description_width": ""
      }
     },
     "1af0618faf534e66be2f978e726114c4": {
      "model_module": "@jupyter-widgets/controls",
      "model_module_version": "1.5.0",
      "model_name": "HTMLModel",
      "state": {
       "layout": "IPY_MODEL_da7cd96367ca47c7a2bc46e6f0a8d472",
       "style": "IPY_MODEL_a3eaeb1fdf6247e4ae8074f02c51439e",
       "value": "<p>0</p>"
      }
     },
     "1b2a53da4630435087fb8b535dadd357": {
      "model_module": "@jupyter-widgets/controls",
      "model_module_version": "1.5.0",
      "model_name": "ToggleButtonModel",
      "state": {
       "button_style": "success",
       "description": "display/hide files",
       "layout": "IPY_MODEL_c4845e8e1f564cd68fd1315a9cfb0f8c",
       "style": "IPY_MODEL_af31307a231e45dbb6e10fb2e6bcfda1",
       "tooltip": "shows and hides display outputs of the files selected in the SelectMultiple dropdown menu",
       "value": true
      }
     },
     "1b417c14ca7e4c4ebe2312535eac55f6": {
      "model_module": "@jupyter-widgets/controls",
      "model_module_version": "1.5.0",
      "model_name": "HBoxModel",
      "state": {
       "children": [
        "IPY_MODEL_be732aa2c65b4d06824c7c984b0aec3a"
       ],
       "layout": "IPY_MODEL_3c5e6b876cff43de8ea26b64b9684826"
      }
     },
     "1b8aeff92874469c9eaf2e6a8c6dc6f0": {
      "model_module": "@jupyter-widgets/controls",
      "model_module_version": "1.5.0",
      "model_name": "HBoxModel",
      "state": {
       "children": [
        "IPY_MODEL_9eda64d669e5414c89df9c1b1b2246cd",
        "IPY_MODEL_5e4117bd371d4e7595f25204f233599e"
       ],
       "layout": "IPY_MODEL_2f2f7630c20345468b4fe94980976978"
      }
     },
     "1c0bf9edbafd412b8b8dd9a22e8e871b": {
      "model_module": "@jupyter-widgets/controls",
      "model_module_version": "1.5.0",
      "model_name": "HBoxModel",
      "state": {
       "children": [
        "IPY_MODEL_397d59d8892c4706ab8db843a039288c"
       ],
       "layout": "IPY_MODEL_ba89d7547ea24c62977fa6be9e1bf26d"
      }
     },
     "1c1750f75ff5420ca764c95be4e16018": {
      "model_module": "@jupyter-widgets/base",
      "model_module_version": "1.2.0",
      "model_name": "LayoutModel",
      "state": {
       "align_items": "stretch",
       "display": "flex",
       "flex_flow": "row",
       "grid_auto_columns": "True",
       "justify_content": "flex-start",
       "width": "80%"
      }
     },
     "1c589a6774e440ac97281ddab260f202": {
      "model_module": "@jupyter-widgets/base",
      "model_module_version": "1.2.0",
      "model_name": "LayoutModel",
      "state": {}
     },
     "1c66f808401e426683dc9655b9ec66c1": {
      "model_module": "@jupyter-widgets/base",
      "model_module_version": "1.2.0",
      "model_name": "LayoutModel",
      "state": {}
     },
     "1c7f7002ad7d4d36a9cac2d907ff2d14": {
      "model_module": "@jupyter-widgets/controls",
      "model_module_version": "1.5.0",
      "model_name": "TextModel",
      "state": {
       "layout": "IPY_MODEL_d8df5cb8348d4d10a1a96922c990de94",
       "style": "IPY_MODEL_f6a18b2618ed477ba20ed419edcf54d3",
       "value": "Level"
      }
     },
     "1cf3be2287db4eec82e2c727bcdad53d": {
      "model_module": "@jupyter-widgets/base",
      "model_module_version": "1.2.0",
      "model_name": "LayoutModel",
      "state": {}
     },
     "1daeed6581d64a79a3abb87d4eaedd0a": {
      "model_module": "@jupyter-widgets/controls",
      "model_module_version": "1.5.0",
      "model_name": "HBoxModel",
      "state": {
       "children": [
        "IPY_MODEL_a3fb748115ee42a4a7b12038d5fc38ff",
        "IPY_MODEL_a51c780c5dc643248d307e72b219de8f"
       ],
       "layout": "IPY_MODEL_54e4747dcf9846118612e2bc46214609"
      }
     },
     "1dc26c8054fc47e4be8f849689c40d70": {
      "model_module": "@jupyter-widgets/base",
      "model_module_version": "1.2.0",
      "model_name": "LayoutModel",
      "state": {
       "align_items": "stretch",
       "border": "dashed 0.2px green",
       "display": "flex",
       "flex_flow": "row",
       "grid_auto_columns": "True",
       "justify_content": "flex-start",
       "width": "100%"
      }
     },
     "1fc046061a8c4aff91e5c0e4764c37b2": {
      "model_module": "@jupyter-widgets/base",
      "model_module_version": "1.2.0",
      "model_name": "LayoutModel",
      "state": {}
     },
     "205f9ea42d434c13a166007b517a261e": {
      "model_module": "@jupyter-widgets/base",
      "model_module_version": "1.2.0",
      "model_name": "LayoutModel",
      "state": {
       "display": "flex",
       "flex_flow": "row",
       "grid_auto_columns": "False",
       "justify_content": "flex-start",
       "width": "100%"
      }
     },
     "20751a0b3abf4867974d6cd93459a36e": {
      "model_module": "@jupyter-widgets/controls",
      "model_module_version": "1.5.0",
      "model_name": "HBoxModel",
      "state": {
       "children": [
        "IPY_MODEL_3f056b0e7e784367884a6987b7798d62",
        "IPY_MODEL_5822331acaa64b5fb03cd444aced3eb7"
       ],
       "layout": "IPY_MODEL_83cd8b68a8bd41fbbebf330c8ab030f4"
      }
     },
     "20c233014f964af181ca83611017ee25": {
      "model_module": "@jupyter-widgets/output",
      "model_module_version": "1.0.0",
      "model_name": "OutputModel",
      "state": {
       "layout": "IPY_MODEL_1c66f808401e426683dc9655b9ec66c1",
       "outputs": [
        {
         "data": {
          "application/vnd.jupyter.widget-view+json": {
           "model_id": "58281880c7954ea8966778963d97fce2",
           "version_major": 2,
           "version_minor": 0
          },
          "text/plain": "ToggleButton(value=False, button_style='success', description='display/hide files', tooltip='shows and hides d…"
         },
         "metadata": {},
         "output_type": "display_data"
        },
        {
         "data": {
          "application/vnd.jupyter.widget-view+json": {
           "model_id": "df68d9ca451d46edb88662cf4d08544b",
           "version_major": 2,
           "version_minor": 0
          },
          "text/plain": "SelectMultiple(layout=Layout(flex_flow='column', height='auto', width='auto'), options=('gbxml.xml', 'gbjson.j…"
         },
         "metadata": {},
         "output_type": "display_data"
        },
        {
         "data": {
          "application/vnd.jupyter.widget-view+json": {
           "model_id": "887cd99bc6c9455eba23b8b943d649fe",
           "version_major": 2,
           "version_minor": 0
          },
          "text/plain": "Output()"
         },
         "metadata": {},
         "output_type": "display_data"
        }
       ]
      }
     },
     "20c9fd5ab1a1465393f0596edcddee2b": {
      "model_module": "@jupyter-widgets/base",
      "model_module_version": "1.2.0",
      "model_name": "LayoutModel",
      "state": {
       "align_items": "stretch",
       "border": "dashed 0.2px green",
       "display": "flex",
       "flex_flow": "row",
       "grid_auto_columns": "True",
       "justify_content": "flex-start",
       "width": "100%"
      }
     },
     "20eb4b525f164a52b337b72431e18bee": {
      "model_module": "@jupyter-widgets/base",
      "model_module_version": "1.2.0",
      "model_name": "LayoutModel",
      "state": {
       "align_items": "stretch",
       "display": "flex",
       "flex_flow": "row",
       "grid_auto_columns": "True",
       "justify_content": "flex-end",
       "width": "90%"
      }
     },
     "20ed9cfcf435404e9d719e1af446f75d": {
      "model_module": "@jupyter-widgets/base",
      "model_module_version": "1.2.0",
      "model_name": "LayoutModel",
      "state": {}
     },
     "217aaed5626d40b59eb24d8eb185efa9": {
      "model_module": "@jupyter-widgets/base",
      "model_module_version": "1.2.0",
      "model_name": "LayoutModel",
      "state": {
       "align_items": "stretch",
       "display": "flex",
       "flex_flow": "row",
       "grid_auto_columns": "True",
       "justify_content": "flex-start",
       "width": "80%"
      }
     },
     "2190ade145a94d509ccf5bc3fc1da51f": {
      "model_module": "@jupyter-widgets/base",
      "model_module_version": "1.2.0",
      "model_name": "LayoutModel",
      "state": {
       "align_items": "stretch",
       "display": "flex",
       "flex_flow": "row",
       "grid_auto_columns": "True",
       "justify_content": "flex-start",
       "width": "80%"
      }
     },
     "2204eea1a80a45788d1320400e9d0706": {
      "model_module": "@jupyter-widgets/base",
      "model_module_version": "1.2.0",
      "model_name": "LayoutModel",
      "state": {}
     },
     "22356d984f82420d95ffc7359f03b3a6": {
      "model_module": "@jupyter-widgets/base",
      "model_module_version": "1.2.0",
      "model_name": "LayoutModel",
      "state": {}
     },
     "2294ee884a574e07b8560247c1a4d9b9": {
      "model_module": "@jupyter-widgets/base",
      "model_module_version": "1.2.0",
      "model_name": "LayoutModel",
      "state": {
       "display": "flex",
       "flex_flow": "row",
       "grid_auto_columns": "False",
       "justify_content": "flex-start",
       "width": "100%"
      }
     },
     "22f2bce040ce4ed4b0c29d30cf4cd153": {
      "model_module": "@jupyter-widgets/controls",
      "model_module_version": "1.5.0",
      "model_name": "ToggleButtonModel",
      "state": {
       "icon": "arrow-down",
       "layout": "IPY_MODEL_dc8a304e74f64566a8b8b3b7f5467149",
       "style": "IPY_MODEL_f64d844d0abe498ebea436d45b6c53c1"
      }
     },
     "2343ffb7ee5842a89ac5a6fc9d4d91f3": {
      "model_module": "@jupyter-widgets/base",
      "model_module_version": "1.2.0",
      "model_name": "LayoutModel",
      "state": {}
     },
     "2354ee68b31e42309cdbbfdec81550c0": {
      "model_module": "@jupyter-widgets/output",
      "model_module_version": "1.0.0",
      "model_name": "OutputModel",
      "state": {
       "layout": "IPY_MODEL_55265f29893d4c5abb7bf115f9aed8c5"
      }
     },
     "23726091a21d4f13a726acdc16c6ba55": {
      "model_module": "@jupyter-widgets/controls",
      "model_module_version": "1.5.0",
      "model_name": "TextModel",
      "state": {
       "layout": "IPY_MODEL_3030d3085a0a474780f0ffb1552de0f2",
       "style": "IPY_MODEL_cc7227509d3748fd807bb9d64372ebfd",
       "value": "SpaceType"
      }
     },
     "2374a8622b4b4fedadd3788e3cbe1f77": {
      "model_module": "@jupyter-widgets/controls",
      "model_module_version": "1.5.0",
      "model_name": "HBoxModel",
      "state": {
       "children": [
        "IPY_MODEL_df2940740cbe43d78ba4d6bfdd687452",
        "IPY_MODEL_2767d2e736334919baaa897899e99816"
       ],
       "layout": "IPY_MODEL_443fa8060dce41df9e25f86a2b666ada"
      }
     },
     "23adecd88a364066ad950df9790c4287": {
      "model_module": "@jupyter-widgets/base",
      "model_module_version": "1.2.0",
      "model_name": "LayoutModel",
      "state": {}
     },
     "23cde4600f8a475aa1f73e1eefb1c4d2": {
      "model_module": "@jupyter-widgets/base",
      "model_module_version": "1.2.0",
      "model_name": "LayoutModel",
      "state": {}
     },
     "23d68a21dfe24ed8ad9ff96464dbd6d2": {
      "model_module": "@jupyter-widgets/controls",
      "model_module_version": "1.5.0",
      "model_name": "DescriptionStyleModel",
      "state": {
       "description_width": ""
      }
     },
     "2447fd72a81a4e789353d490c3366937": {
      "model_module": "@jupyter-widgets/base",
      "model_module_version": "1.2.0",
      "model_name": "LayoutModel",
      "state": {}
     },
     "248febf942114e26ad279a1c3d998199": {
      "model_module": "@jupyter-widgets/base",
      "model_module_version": "1.2.0",
      "model_name": "LayoutModel",
      "state": {}
     },
     "249dc0252a4446eca2c087bb2445b216": {
      "model_module": "@jupyter-widgets/base",
      "model_module_version": "1.2.0",
      "model_name": "LayoutModel",
      "state": {}
     },
     "24f1f948edab499ab97ad3182ada6f7a": {
      "model_module": "@jupyter-widgets/controls",
      "model_module_version": "1.5.0",
      "model_name": "HTMLModel",
      "state": {
       "layout": "IPY_MODEL_9485f274f41c4ad098f64d89a00bac4e",
       "style": "IPY_MODEL_71e6cf98c2e942fa9cb266080203e5c3",
       "value": "<p>fpth_in</p>"
      }
     },
     "24f9090db0cd45e29fe6d52f491ed905": {
      "model_module": "@jupyter-widgets/base",
      "model_module_version": "1.2.0",
      "model_name": "LayoutModel",
      "state": {}
     },
     "25292296d54943eb8e7a6dabc069c268": {
      "model_module": "@jupyter-widgets/controls",
      "model_module_version": "1.5.0",
      "model_name": "DescriptionStyleModel",
      "state": {
       "description_width": ""
      }
     },
     "2531dc2c5bcd4f5aa5623e7affea6eff": {
      "model_module": "@jupyter-widgets/base",
      "model_module_version": "1.2.0",
      "model_name": "LayoutModel",
      "state": {}
     },
     "25364dc6e6124c9782ad6dea16ac6283": {
      "model_module": "@jupyter-widgets/base",
      "model_module_version": "1.2.0",
      "model_name": "LayoutModel",
      "state": {
       "height": "30px",
       "width": "auto"
      }
     },
     "25511924b3fd4661b18ceeaac3507c75": {
      "model_module": "@jupyter-widgets/controls",
      "model_module_version": "1.5.0",
      "model_name": "HTMLModel",
      "state": {
       "layout": "IPY_MODEL_f9f200f786f34ca9af5285e5a77b7c17",
       "style": "IPY_MODEL_5ecff3c063a046dda856a6745c347cea",
       "value": "<p>2nd section of space name code</p>"
      }
     },
     "2563b86df5f5429483cd86dcb4ac0654": {
      "model_module": "@jupyter-widgets/controls",
      "model_module_version": "1.5.0",
      "model_name": "HTMLModel",
      "state": {
       "layout": "IPY_MODEL_dc248f80599046e28b95cb159503ae24",
       "style": "IPY_MODEL_5d337502393e416cbb62509b746e9e6f",
       "value": "<p>2nd section of space name code</p>"
      }
     },
     "257914ed0c8e46628dc0734567078fca": {
      "model_module": "@jupyter-widgets/controls",
      "model_module_version": "1.5.0",
      "model_name": "HBoxModel",
      "state": {
       "children": [
        "IPY_MODEL_e8f0e2ff06d14180a80aa4db83bd7973",
        "IPY_MODEL_a561de98f8fe4a7087e07a64656bc328"
       ],
       "layout": "IPY_MODEL_7829ebecf68244a9b1f614c29cf02e5d"
      }
     },
     "25be8443378a4f92966d186bf504d6a5": {
      "model_module": "@jupyter-widgets/output",
      "model_module_version": "1.0.0",
      "model_name": "OutputModel",
      "state": {
       "layout": "IPY_MODEL_093adbfe04ff4660952ae43af8360ae2"
      }
     },
     "25c64545d75243598061a2ee9d092d83": {
      "model_module": "@jupyter-widgets/controls",
      "model_module_version": "1.5.0",
      "model_name": "HTMLModel",
      "state": {
       "layout": "IPY_MODEL_bebfdca794d1421a907e40604cbbff0d",
       "style": "IPY_MODEL_ea87fede68cb4d238dcdeeeb87ec2c47",
       "value": "<p>2</p>"
      }
     },
     "26250df2c1524d2391e538e3802ceb79": {
      "model_module": "@jupyter-widgets/controls",
      "model_module_version": "1.5.0",
      "model_name": "HTMLModel",
      "state": {
       "layout": "IPY_MODEL_9f00e00b12b14abb9502d23c64f1b742",
       "style": "IPY_MODEL_9c5bd5ddd3ac48c78deadaa937fa8813",
       "value": "<p>spc_name_index</p>"
      }
     },
     "262dc97b36344b6ab29eca23443f4165": {
      "model_module": "@jupyter-widgets/output",
      "model_module_version": "1.0.0",
      "model_name": "OutputModel",
      "state": {
       "layout": "IPY_MODEL_0691aa88dd2c4fb99b134f5e0770d6c9"
      }
     },
     "265ceee2786843c492381655656ac3d9": {
      "buffers": [
       {
        "data": "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",
        "encoding": "base64",
        "path": [
         "_grid_data_up"
        ]
       }
      ],
      "model_module": "ipyaggrid",
      "model_module_version": "~0.2.1",
      "model_name": "AgGridModel",
      "state": {
       "_grid_data_down": [
        {
         "@buildingStoreyIdRef": "STOREY_1",
         "@conditionType": "HeatedAndCooled",
         "@id": "TR000001",
         "@zoneIdRef": "ZONE_2",
         "Area": 55.809276,
         "BlockCode": "B",
         "CADObjectId": "TR000001",
         "Level": 0,
         "Name": "B_00_02_R5_WorkRoom2",
         "ShellGeometry": "OrderedDict([('@id', 'TR000001-shellgeometry'), ('ClosedShell', OrderedDict([('PolyLoop', [OrderedDict([('CartesianPoint', [OrderedDict([('Coordinate', ['36.968681', '11.169988', '0.000000'])]), OrderedDict([('Coordinate', ['29.193419', '11.169988', '-0.000000'])]), OrderedDict([('Coordinate', ['29.193419', '18.347788', '-0.000000'])]), OrderedDict([('Coordinate', ['36.968681', '18.347788', '0.000000'])])])]), OrderedDict([('CartesianPoint', [OrderedDict([('Coordinate', ['36.968681', '18.347788', '3.400000'])]), OrderedDict([('Coordinate', ['29.193419', '18.347788', '3.400000'])]), OrderedDict([('Coordinate', ['29.193419', '11.169988', '3.400000'])]), OrderedDict([('Coordinate', ['36.968681', '11.169988', '3.400000'])])])]), OrderedDict([('CartesianPoint', [OrderedDict([('Coordinate', ['29.193419', '18.347788', '-0.000000'])]), OrderedDict([('Coordinate', ['29.193419', '11.169988', '-0.000000'])]), OrderedDict([('Coordinate', ['29.193419', '11.169988', '3.400000'])]), OrderedDict([('Coordinate', ['29.193419', '18.347788', '3.400000'])])])]), OrderedDict([('CartesianPoint', [OrderedDict([('Coordinate', ['29.193419', '18.347788', '3.400000'])]), OrderedDict([('Coordinate', ['36.968681', '18.347788', '3.400000'])]), OrderedDict([('Coordinate', ['36.968681', '18.347788', '0.000000'])]), OrderedDict([('Coordinate', ['29.193419', '18.347788', '-0.000000'])])])]), OrderedDict([('CartesianPoint', [OrderedDict([('Coordinate', ['36.968681', '11.169988', '0.000000'])]), OrderedDict([('Coordinate', ['36.968681', '18.347788', '0.000000'])]), OrderedDict([('Coordinate', ['36.968681', '18.347788', '3.400000'])]), OrderedDict([('Coordinate', ['36.968681', '11.169988', '3.400000'])])])]), OrderedDict([('CartesianPoint', [OrderedDict([('Coordinate', ['29.193419', '11.169988', '-0.000000'])]), OrderedDict([('Coordinate', ['36.968681', '11.169988', '0.000000'])]), OrderedDict([('Coordinate', ['36.968681', '11.169988', '3.400000'])]), OrderedDict([('Coordinate', ['29.193419', '11.169988', '3.400000'])])])])])]))])",
         "SpaceBoundary": "[OrderedDict([('@isSecondLevelBoundary', 'true'), ('@surfaceIdRef', 'surface-1'), ('PlanarGeometry', OrderedDict([('PolyLoop', OrderedDict([('CartesianPoint', [OrderedDict([('Coordinate', ['36.968681', '11.169988', '0.000000'])]), OrderedDict([('Coordinate', ['29.193419', '11.169988', '0.000000'])]), OrderedDict([('Coordinate', ['29.193419', '18.347788', '0.000000'])]), OrderedDict([('Coordinate', ['36.968681', '18.347788', '0.000000'])])])]))]))]), OrderedDict([('@isSecondLevelBoundary', 'true'), ('@surfaceIdRef', 'surface-2'), ('PlanarGeometry', OrderedDict([('PolyLoop', OrderedDict([('CartesianPoint', [OrderedDict([('Coordinate', ['36.968681', '18.347788', '3.400000'])]), OrderedDict([('Coordinate', ['29.193419', '18.347788', '3.400000'])]), OrderedDict([('Coordinate', ['29.193419', '11.169988', '3.400000'])]), OrderedDict([('Coordinate', ['36.968681', '11.169988', '3.400000'])])])]))]))]), OrderedDict([('@isSecondLevelBoundary', 'true'), ('@surfaceIdRef', 'surface-3'), ('PlanarGeometry', OrderedDict([('PolyLoop', OrderedDict([('CartesianPoint', [OrderedDict([('Coordinate', ['29.193419', '18.347788', '0.000000'])]), OrderedDict([('Coordinate', ['29.193419', '11.169988', '0.000000'])]), OrderedDict([('Coordinate', ['29.193419', '11.169988', '3.400000'])]), OrderedDict([('Coordinate', ['29.193419', '18.347788', '3.400000'])])])]))]))]), OrderedDict([('@isSecondLevelBoundary', 'true'), ('@surfaceIdRef', 'surface-4'), ('PlanarGeometry', OrderedDict([('PolyLoop', OrderedDict([('CartesianPoint', [OrderedDict([('Coordinate', ['29.193419', '18.347788', '3.400000'])]), OrderedDict([('Coordinate', ['36.968681', '18.347788', '3.400000'])]), OrderedDict([('Coordinate', ['36.968681', '18.347788', '0.000000'])]), OrderedDict([('Coordinate', ['29.193419', '18.347788', '0.000000'])])])]))]))]), OrderedDict([('@isSecondLevelBoundary', 'true'), ('@surfaceIdRef', 'surface-5'), ('PlanarGeometry', OrderedDict([('PolyLoop', OrderedDict([('CartesianPoint', [OrderedDict([('Coordinate', ['36.968681', '11.169988', '0.000000'])]), OrderedDict([('Coordinate', ['36.968681', '18.347788', '0.000000'])]), OrderedDict([('Coordinate', ['36.968681', '18.347788', '3.400000'])]), OrderedDict([('Coordinate', ['36.968681', '11.169988', '3.400000'])])])]))]))]), OrderedDict([('@isSecondLevelBoundary', 'true'), ('@surfaceIdRef', 'surface-6'), ('PlanarGeometry', OrderedDict([('PolyLoop', OrderedDict([('CartesianPoint', [OrderedDict([('Coordinate', ['36.968681', '11.169988', '3.400000'])]), OrderedDict([('Coordinate', ['29.193419', '11.169988', '3.400000'])]), OrderedDict([('Coordinate', ['29.193419', '11.169988', '-0.000000'])]), OrderedDict([('Coordinate', ['36.968681', '11.169988', '-0.000000'])])])]))]))])]",
         "SpaceId": "R5",
         "SpaceType": "WorkRoom2",
         "TM46Category": 2,
         "TypeCode": 0,
         "Volume": 189.751537,
         "id": "105_LiveseyExchange_heatpump-normal-fabric, B_00_02_R5_WorkRoom2",
         "index": 0,
         "model": "105_LiveseyExchange_heatpump-normal-fabric"
        },
        {
         "@buildingStoreyIdRef": "STOREY_1",
         "@conditionType": "HeatedAndCooled",
         "@id": "TR000003",
         "@zoneIdRef": "ZONE_2",
         "Area": 55.981886,
         "BlockCode": "B",
         "CADObjectId": "TR000003",
         "Level": 0,
         "Name": "B_00_01_R4_WorkRoom1",
         "ShellGeometry": "OrderedDict([('@id', 'TR000003-shellgeometry'), ('ClosedShell', OrderedDict([('PolyLoop', [OrderedDict([('CartesianPoint', [OrderedDict([('Coordinate', ['36.968681', '3.969988', '0.000000'])]), OrderedDict([('Coordinate', ['29.193419', '3.969988', '0.000000'])]), OrderedDict([('Coordinate', ['29.193419', '11.169988', '-0.000000'])]), OrderedDict([('Coordinate', ['36.968681', '11.169988', '0.000000'])])])]), OrderedDict([('CartesianPoint', [OrderedDict([('Coordinate', ['36.968681', '11.169988', '3.400000'])]), OrderedDict([('Coordinate', ['29.193419', '11.169988', '3.400000'])]), OrderedDict([('Coordinate', ['29.193419', '3.969988', '3.400000'])]), OrderedDict([('Coordinate', ['36.968681', '3.969988', '3.400000'])])])]), OrderedDict([('CartesianPoint', [OrderedDict([('Coordinate', ['29.193419', '11.169988', '-0.000000'])]), OrderedDict([('Coordinate', ['29.193419', '3.969988', '0.000000'])]), OrderedDict([('Coordinate', ['29.193419', '3.969988', '3.400000'])]), OrderedDict([('Coordinate', ['29.193419', '11.169988', '3.400000'])])])]), OrderedDict([('CartesianPoint', [OrderedDict([('Coordinate', ['36.968681', '3.969988', '0.000000'])]), OrderedDict([('Coordinate', ['36.968681', '11.169988', '0.000000'])]), OrderedDict([('Coordinate', ['36.968681', '11.169988', '3.400000'])]), OrderedDict([('Coordinate', ['36.968681', '3.969988', '3.400000'])])])]), OrderedDict([('CartesianPoint', [OrderedDict([('Coordinate', ['29.193419', '3.969988', '0.000000'])]), OrderedDict([('Coordinate', ['36.968681', '3.969988', '0.000000'])]), OrderedDict([('Coordinate', ['36.968681', '3.969988', '3.400000'])]), OrderedDict([('Coordinate', ['29.193419', '3.969988', '3.400000'])])])]), OrderedDict([('CartesianPoint', [OrderedDict([('Coordinate', ['29.193419', '11.169988', '3.400000'])]), OrderedDict([('Coordinate', ['36.968681', '11.169988', '3.400000'])]), OrderedDict([('Coordinate', ['36.968681', '11.169988', '0.000000'])]), OrderedDict([('Coordinate', ['29.193419', '11.169988', '-0.000000'])])])])])]))])",
         "SpaceBoundary": "[OrderedDict([('@isSecondLevelBoundary', 'true'), ('@surfaceIdRef', 'surface-6'), ('PlanarGeometry', OrderedDict([('PolyLoop', OrderedDict([('CartesianPoint', [OrderedDict([('Coordinate', ['36.968681', '11.169988', '-0.000000'])]), OrderedDict([('Coordinate', ['29.193419', '11.169988', '-0.000000'])]), OrderedDict([('Coordinate', ['29.193419', '11.169988', '3.400000'])]), OrderedDict([('Coordinate', ['36.968681', '11.169988', '3.400000'])])])]))]))]), OrderedDict([('@isSecondLevelBoundary', 'true'), ('@surfaceIdRef', 'surface-7'), ('PlanarGeometry', OrderedDict([('PolyLoop', OrderedDict([('CartesianPoint', [OrderedDict([('Coordinate', ['36.968681', '3.969988', '0.000000'])]), OrderedDict([('Coordinate', ['29.193419', '3.969988', '0.000000'])]), OrderedDict([('Coordinate', ['29.193419', '11.169988', '0.000000'])]), OrderedDict([('Coordinate', ['36.968681', '11.169988', '0.000000'])])])]))]))]), OrderedDict([('@isSecondLevelBoundary', 'true'), ('@surfaceIdRef', 'surface-8'), ('PlanarGeometry', OrderedDict([('PolyLoop', OrderedDict([('CartesianPoint', [OrderedDict([('Coordinate', ['33.715237', '3.970000', '3.400000'])]), OrderedDict([('Coordinate', ['30.455237', '3.970000', '3.400000'])]), OrderedDict([('Coordinate', ['30.455237', '3.969988', '3.400000'])]), OrderedDict([('Coordinate', ['33.715237', '3.969988', '3.400000'])])])]))]))]), OrderedDict([('@isSecondLevelBoundary', 'true'), ('@surfaceIdRef', 'surface-9'), ('PlanarGeometry', OrderedDict([('PolyLoop', OrderedDict([('CartesianPoint', [OrderedDict([('Coordinate', ['36.968681', '11.169988', '3.400000'])]), OrderedDict([('Coordinate', ['30.455237', '11.169988', '3.400000'])]), OrderedDict([('Coordinate', ['30.455237', '3.970000', '3.400000'])]), OrderedDict([('Coordinate', ['36.968681', '3.970000', '3.400000'])])])]))]))]), OrderedDict([('@isSecondLevelBoundary', 'true'), ('@surfaceIdRef', 'surface-10'), ('PlanarGeometry', OrderedDict([('PolyLoop', OrderedDict([('CartesianPoint', [OrderedDict([('Coordinate', ['36.968681', '3.970000', '3.400000'])]), OrderedDict([('Coordinate', ['33.715237', '3.970000', '3.400000'])]), OrderedDict([('Coordinate', ['33.715237', '3.969988', '3.400000'])]), OrderedDict([('Coordinate', ['36.968681', '3.969988', '3.400000'])])])]))]))]), OrderedDict([('@isSecondLevelBoundary', 'true'), ('@surfaceIdRef', 'surface-11'), ('PlanarGeometry', OrderedDict([('PolyLoop', OrderedDict([('CartesianPoint', [OrderedDict([('Coordinate', ['30.455237', '11.169988', '3.400000'])]), OrderedDict([('Coordinate', ['29.193419', '11.169988', '3.400000'])]), OrderedDict([('Coordinate', ['29.193419', '3.969988', '3.400000'])]), OrderedDict([('Coordinate', ['30.455237', '3.969988', '3.400000'])])])]))]))]), OrderedDict([('@isSecondLevelBoundary', 'true'), ('@surfaceIdRef', 'surface-12'), ('PlanarGeometry', OrderedDict([('PolyLoop', OrderedDict([('CartesianPoint', [OrderedDict([('Coordinate', ['29.193419', '11.169988', '0.000000'])]), OrderedDict([('Coordinate', ['29.193419', '3.969988', '0.000000'])]), OrderedDict([('Coordinate', ['29.193419', '3.969988', '3.400000'])]), OrderedDict([('Coordinate', ['29.193419', '11.169988', '3.400000'])])])]))]))]), OrderedDict([('@isSecondLevelBoundary', 'true'), ('@surfaceIdRef', 'surface-13'), ('PlanarGeometry', OrderedDict([('PolyLoop', OrderedDict([('CartesianPoint', [OrderedDict([('Coordinate', ['36.968681', '3.969988', '0.000000'])]), OrderedDict([('Coordinate', ['36.968681', '11.169988', '0.000000'])]), OrderedDict([('Coordinate', ['36.968681', '11.169988', '3.400000'])]), OrderedDict([('Coordinate', ['36.968681', '3.969988', '3.400000'])])])]))]))]), OrderedDict([('@isSecondLevelBoundary', 'true'), ('@surfaceIdRef', 'surface-14'), ('PlanarGeometry', OrderedDict([('PolyLoop', OrderedDict([('CartesianPoint', [OrderedDict([('Coordinate', ['36.968681', '3.969988', '3.400000'])]), OrderedDict([('Coordinate', ['30.493681', '3.969988', '3.400000'])]), OrderedDict([('Coordinate', ['30.493681', '3.969988', '-0.000000'])]), OrderedDict([('Coordinate', ['36.968681', '3.969988', '-0.000000'])])])]))]))]), OrderedDict([('@isSecondLevelBoundary', 'true'), ('@surfaceIdRef', 'surface-15'), ('PlanarGeometry', OrderedDict([('PolyLoop', OrderedDict([('CartesianPoint', [OrderedDict([('Coordinate', ['29.193419', '3.969988', '0.000000'])]), OrderedDict([('Coordinate', ['30.493681', '3.969988', '0.000000'])]), OrderedDict([('Coordinate', ['30.493681', '3.969988', '3.400000'])]), OrderedDict([('Coordinate', ['29.193419', '3.969988', '3.400000'])])])]))]))])]",
         "SpaceId": "R4",
         "SpaceType": "WorkRoom1",
         "TM46Category": 1,
         "TypeCode": 0,
         "Volume": 190.338414,
         "id": "105_LiveseyExchange_heatpump-normal-fabric, B_00_01_R4_WorkRoom1",
         "index": 1,
         "model": "105_LiveseyExchange_heatpump-normal-fabric"
        },
        {
         "@buildingStoreyIdRef": "STOREY_1",
         "@conditionType": "HeatedAndCooled",
         "@id": "TR000006",
         "@zoneIdRef": "ZONE_2",
         "Area": 55.809276,
         "BlockCode": "B",
         "CADObjectId": "TR000006",
         "Level": 1,
         "Name": "B_01_01_R16_WorkRoom1",
         "ShellGeometry": "OrderedDict([('@id', 'TR000006-shellgeometry'), ('ClosedShell', OrderedDict([('PolyLoop', [OrderedDict([('CartesianPoint', [OrderedDict([('Coordinate', ['36.968681', '11.169988', '3.400000'])]), OrderedDict([('Coordinate', ['29.193419', '11.169988', '3.400000'])]), OrderedDict([('Coordinate', ['29.193419', '18.347788', '3.400000'])]), OrderedDict([('Coordinate', ['36.968681', '18.347788', '3.400000'])])])]), OrderedDict([('CartesianPoint', [OrderedDict([('Coordinate', ['36.968681', '18.347788', '6.800000'])]), OrderedDict([('Coordinate', ['29.193419', '18.347788', '6.800000'])]), OrderedDict([('Coordinate', ['29.193419', '11.169988', '6.800000'])]), OrderedDict([('Coordinate', ['36.968681', '11.169988', '6.800000'])])])]), OrderedDict([('CartesianPoint', [OrderedDict([('Coordinate', ['29.193419', '18.347788', '3.400000'])]), OrderedDict([('Coordinate', ['29.193419', '11.169988', '3.400000'])]), OrderedDict([('Coordinate', ['29.193419', '11.169988', '6.800000'])]), OrderedDict([('Coordinate', ['29.193419', '18.347788', '6.800000'])])])]), OrderedDict([('CartesianPoint', [OrderedDict([('Coordinate', ['29.193419', '18.347788', '6.800000'])]), OrderedDict([('Coordinate', ['36.968681', '18.347788', '6.800000'])]), OrderedDict([('Coordinate', ['36.968681', '18.347788', '3.400000'])]), OrderedDict([('Coordinate', ['29.193419', '18.347788', '3.400000'])])])]), OrderedDict([('CartesianPoint', [OrderedDict([('Coordinate', ['36.968681', '11.169988', '3.400000'])]), OrderedDict([('Coordinate', ['36.968681', '18.347788', '3.400000'])]), OrderedDict([('Coordinate', ['36.968681', '18.347788', '6.800000'])]), OrderedDict([('Coordinate', ['36.968681', '11.169988', '6.800000'])])])]), OrderedDict([('CartesianPoint', [OrderedDict([('Coordinate', ['29.193419', '11.169988', '3.400000'])]), OrderedDict([('Coordinate', ['36.968681', '11.169988', '3.400000'])]), OrderedDict([('Coordinate', ['36.968681', '11.169988', '6.800000'])]), OrderedDict([('Coordinate', ['29.193419', '11.169988', '6.800000'])])])])])]))])",
         "SpaceBoundary": "[OrderedDict([('@isSecondLevelBoundary', 'true'), ('@surfaceIdRef', 'surface-2'), ('PlanarGeometry', OrderedDict([('PolyLoop', OrderedDict([('CartesianPoint', [OrderedDict([('Coordinate', ['36.968681', '11.169988', '3.400000'])]), OrderedDict([('Coordinate', ['29.193419', '11.169988', '3.400000'])]), OrderedDict([('Coordinate', ['29.193419', '18.347788', '3.400000'])]), OrderedDict([('Coordinate', ['36.968681', '18.347788', '3.400000'])])])]))]))]), OrderedDict([('@isSecondLevelBoundary', 'true'), ('@surfaceIdRef', 'surface-16'), ('PlanarGeometry', OrderedDict([('PolyLoop', OrderedDict([('CartesianPoint', [OrderedDict([('Coordinate', ['36.968681', '18.347788', '6.800000'])]), OrderedDict([('Coordinate', ['29.193419', '18.347788', '6.800000'])]), OrderedDict([('Coordinate', ['29.193419', '11.169988', '6.800000'])]), OrderedDict([('Coordinate', ['36.968681', '11.169988', '6.800000'])])])]))]))]), OrderedDict([('@isSecondLevelBoundary', 'true'), ('@surfaceIdRef', 'surface-17'), ('PlanarGeometry', OrderedDict([('PolyLoop', OrderedDict([('CartesianPoint', [OrderedDict([('Coordinate', ['29.193419', '18.347788', '3.400000'])]), OrderedDict([('Coordinate', ['29.193419', '11.169988', '3.400000'])]), OrderedDict([('Coordinate', ['29.193419', '11.169988', '6.800000'])]), OrderedDict([('Coordinate', ['29.193419', '18.347788', '6.800000'])])])]))]))]), OrderedDict([('@isSecondLevelBoundary', 'true'), ('@surfaceIdRef', 'surface-18'), ('PlanarGeometry', OrderedDict([('PolyLoop', OrderedDict([('CartesianPoint', [OrderedDict([('Coordinate', ['29.193419', '18.347788', '6.800000'])]), OrderedDict([('Coordinate', ['36.968681', '18.347788', '6.800000'])]), OrderedDict([('Coordinate', ['36.968681', '18.347788', '3.400000'])]), OrderedDict([('Coordinate', ['29.193419', '18.347788', '3.400000'])])])]))]))]), OrderedDict([('@isSecondLevelBoundary', 'true'), ('@surfaceIdRef', 'surface-19'), ('PlanarGeometry', OrderedDict([('PolyLoop', OrderedDict([('CartesianPoint', [OrderedDict([('Coordinate', ['36.968681', '11.169988', '3.400000'])]), OrderedDict([('Coordinate', ['36.968681', '18.347788', '3.400000'])]), OrderedDict([('Coordinate', ['36.968681', '18.347788', '6.800000'])]), OrderedDict([('Coordinate', ['36.968681', '11.169988', '6.800000'])])])]))]))]), OrderedDict([('@isSecondLevelBoundary', 'true'), ('@surfaceIdRef', 'surface-20'), ('PlanarGeometry', OrderedDict([('PolyLoop', OrderedDict([('CartesianPoint', [OrderedDict([('Coordinate', ['36.968681', '11.169988', '6.800000'])]), OrderedDict([('Coordinate', ['30.455237', '11.169988', '6.800000'])]), OrderedDict([('Coordinate', ['30.455237', '11.169988', '3.400000'])]), OrderedDict([('Coordinate', ['36.968681', '11.169988', '3.400000'])])])]))]))]), OrderedDict([('@isSecondLevelBoundary', 'true'), ('@surfaceIdRef', 'surface-21'), ('PlanarGeometry', OrderedDict([('PolyLoop', OrderedDict([('CartesianPoint', [OrderedDict([('Coordinate', ['30.455237', '11.169988', '6.800000'])]), OrderedDict([('Coordinate', ['29.193419', '11.169988', '6.800000'])]), OrderedDict([('Coordinate', ['29.193419', '11.169988', '3.400000'])]), OrderedDict([('Coordinate', ['30.455237', '11.169988', '3.400000'])])])]))]))])]",
         "SpaceId": "R16",
         "SpaceType": "WorkRoom1",
         "TM46Category": 1,
         "TypeCode": 0,
         "Volume": 189.751537,
         "id": "105_LiveseyExchange_heatpump-normal-fabric, B_01_01_R16_WorkRoom1",
         "index": 2,
         "model": "105_LiveseyExchange_heatpump-normal-fabric"
        },
        {
         "@buildingStoreyIdRef": "STOREY_1",
         "@conditionType": "HeatedAndCooled",
         "@id": "TR000009",
         "@zoneIdRef": "ZONE_2",
         "Area": 2.353824,
         "BlockCode": "B",
         "CADObjectId": "TR000009",
         "Level": 0,
         "Name": "B_00_03_R6_WCExt",
         "ShellGeometry": "OrderedDict([('@id', 'TR000009-shellgeometry'), ('ClosedShell', OrderedDict([('PolyLoop', [OrderedDict([('CartesianPoint', [OrderedDict([('Coordinate', ['30.493681', '0.394968', '0.000000'])]), OrderedDict([('Coordinate', ['29.193419', '0.394968', '-0.000000'])]), OrderedDict([('Coordinate', ['29.193419', '2.205237', '0.000000'])]), OrderedDict([('Coordinate', ['30.493681', '2.205237', '0.000000'])])])]), OrderedDict([('CartesianPoint', [OrderedDict([('Coordinate', ['30.493681', '2.205237', '3.400000'])]), OrderedDict([('Coordinate', ['29.193419', '2.205237', '3.400000'])]), OrderedDict([('Coordinate', ['29.193419', '0.394968', '3.400000'])]), OrderedDict([('Coordinate', ['30.493681', '0.394968', '3.400000'])])])]), OrderedDict([('CartesianPoint', [OrderedDict([('Coordinate', ['29.193419', '2.205237', '0.000000'])]), OrderedDict([('Coordinate', ['29.193419', '0.394968', '-0.000000'])]), OrderedDict([('Coordinate', ['29.193419', '0.394968', '3.400000'])]), OrderedDict([('Coordinate', ['29.193419', '2.205237', '3.400000'])])])]), OrderedDict([('CartesianPoint', [OrderedDict([('Coordinate', ['29.193419', '0.394968', '-0.000000'])]), OrderedDict([('Coordinate', ['30.493681', '0.394968', '0.000000'])]), OrderedDict([('Coordinate', ['30.493681', '0.394968', '3.400000'])]), OrderedDict([('Coordinate', ['29.193419', '0.394968', '3.400000'])])])]), OrderedDict([('CartesianPoint', [OrderedDict([('Coordinate', ['30.493681', '0.394968', '0.000000'])]), OrderedDict([('Coordinate', ['30.493681', '2.205237', '0.000000'])]), OrderedDict([('Coordinate', ['30.493681', '2.205237', '3.400000'])]), OrderedDict([('Coordinate', ['30.493681', '0.394968', '3.400000'])])])]), OrderedDict([('CartesianPoint', [OrderedDict([('Coordinate', ['29.193419', '2.205237', '3.400000'])]), OrderedDict([('Coordinate', ['30.493681', '2.205237', '3.400000'])]), OrderedDict([('Coordinate', ['30.493681', '2.205237', '0.000000'])]), OrderedDict([('Coordinate', ['29.193419', '2.205237', '0.000000'])])])])])]))])",
         "SpaceBoundary": "[OrderedDict([('@isSecondLevelBoundary', 'true'), ('@surfaceIdRef', 'surface-22'), ('PlanarGeometry', OrderedDict([('PolyLoop', OrderedDict([('CartesianPoint', [OrderedDict([('Coordinate', ['30.493681', '0.394968', '0.000000'])]), OrderedDict([('Coordinate', ['29.193419', '0.394968', '0.000000'])]), OrderedDict([('Coordinate', ['29.193419', '2.205237', '0.000000'])]), OrderedDict([('Coordinate', ['30.493681', '2.205237', '0.000000'])])])]))]))]), OrderedDict([('@isSecondLevelBoundary', 'true'), ('@surfaceIdRef', 'surface-23'), ('PlanarGeometry', OrderedDict([('PolyLoop', OrderedDict([('CartesianPoint', [OrderedDict([('Coordinate', ['30.493681', '2.205237', '3.400000'])]), OrderedDict([('Coordinate', ['30.455237', '2.205237', '3.400000'])]), OrderedDict([('Coordinate', ['30.455237', '1.680000', '3.400000'])]), OrderedDict([('Coordinate', ['30.493681', '1.679837', '3.400000'])])])]))]))]), OrderedDict([('@isSecondLevelBoundary', 'true'), ('@surfaceIdRef', 'surface-24'), ('PlanarGeometry', OrderedDict([('PolyLoop', OrderedDict([('CartesianPoint', [OrderedDict([('Coordinate', ['30.455237', '2.205237', '3.400000'])]), OrderedDict([('Coordinate', ['29.193419', '2.205237', '3.400000'])]), OrderedDict([('Coordinate', ['29.193419', '0.394968', '3.400000'])]), OrderedDict([('Coordinate', ['30.493681', '0.394968', '3.400000'])]), OrderedDict([('Coordinate', ['30.493681', '1.679837', '3.400000'])]), OrderedDict([('Coordinate', ['30.455237', '1.680000', '3.400000'])])])]))]))]), OrderedDict([('@isSecondLevelBoundary', 'true'), ('@surfaceIdRef', 'surface-25'), ('PlanarGeometry', OrderedDict([('PolyLoop', OrderedDict([('CartesianPoint', [OrderedDict([('Coordinate', ['29.193419', '2.205237', '0.000000'])]), OrderedDict([('Coordinate', ['29.193419', '0.394968', '0.000000'])]), OrderedDict([('Coordinate', ['29.193419', '0.394968', '3.400000'])]), OrderedDict([('Coordinate', ['29.193419', '2.205237', '3.400000'])])])]))]))]), OrderedDict([('@isSecondLevelBoundary', 'true'), ('@surfaceIdRef', 'surface-26'), ('PlanarGeometry', OrderedDict([('PolyLoop', OrderedDict([('CartesianPoint', [OrderedDict([('Coordinate', ['29.193419', '0.394968', '0.000000'])]), OrderedDict([('Coordinate', ['30.493681', '0.394968', '0.000000'])]), OrderedDict([('Coordinate', ['30.493681', '0.394968', '3.400000'])]), OrderedDict([('Coordinate', ['29.193419', '0.394968', '3.400000'])])])]))]))]), OrderedDict([('@isSecondLevelBoundary', 'true'), ('@surfaceIdRef', 'surface-27'), ('PlanarGeometry', OrderedDict([('PolyLoop', OrderedDict([('CartesianPoint', [OrderedDict([('Coordinate', ['30.493681', '2.205237', '3.400000'])]), OrderedDict([('Coordinate', ['30.493681', '0.394968', '3.400000'])]), OrderedDict([('Coordinate', ['30.493681', '0.394968', '0.000000'])]), OrderedDict([('Coordinate', ['30.493681', '2.205237', '0.000000'])])])]))]))]), OrderedDict([('@isSecondLevelBoundary', 'true'), ('@surfaceIdRef', 'surface-28'), ('PlanarGeometry', OrderedDict([('PolyLoop', OrderedDict([('CartesianPoint', [OrderedDict([('Coordinate', ['29.193419', '2.205237', '3.400000'])]), OrderedDict([('Coordinate', ['30.493681', '2.205237', '3.400000'])]), OrderedDict([('Coordinate', ['30.493681', '2.205237', '0.000000'])]), OrderedDict([('Coordinate', ['29.193419', '2.205237', '0.000000'])])])]))]))])]",
         "SpaceId": "R6",
         "SpaceType": "WCExt",
         "TM46Category": 3,
         "TypeCode": 0,
         "Volume": 8.003002,
         "id": "105_LiveseyExchange_heatpump-normal-fabric, B_00_03_R6_WCExt",
         "index": 3,
         "model": "105_LiveseyExchange_heatpump-normal-fabric"
        },
        {
         "@buildingStoreyIdRef": "STOREY_1",
         "@conditionType": "HeatedAndCooled",
         "@id": "RM000002",
         "@zoneIdRef": "ZONE_1",
         "Area": 13.691116,
         "BlockCode": "A",
         "CADObjectId": "RM000002",
         "Level": 1,
         "Name": "A_01_05_R7_Corridor",
         "ShellGeometry": "OrderedDict([('@id', 'RM000002-shellgeometry'), ('ClosedShell', OrderedDict([('PolyLoop', [OrderedDict([('CartesianPoint', [OrderedDict([('Coordinate', ['21.956680', '0.382000', '3.400000'])]), OrderedDict([('Coordinate', ['11.203681', '0.382000', '3.400000'])]), OrderedDict([('Coordinate', ['11.203681', '1.655237', '3.400000'])]), OrderedDict([('Coordinate', ['21.956680', '1.655237', '3.400000'])])])]), OrderedDict([('CartesianPoint', [OrderedDict([('Coordinate', ['21.956680', '1.655237', '6.800000'])]), OrderedDict([('Coordinate', ['11.203681', '1.655237', '6.800000'])]), OrderedDict([('Coordinate', ['11.203681', '0.382000', '6.800000'])]), OrderedDict([('Coordinate', ['21.956680', '0.382000', '6.800000'])])])]), OrderedDict([('CartesianPoint', [OrderedDict([('Coordinate', ['21.956680', '0.382000', '3.400000'])]), OrderedDict([('Coordinate', ['21.956680', '1.655237', '3.400000'])]), OrderedDict([('Coordinate', ['21.956680', '1.655237', '6.800000'])]), OrderedDict([('Coordinate', ['21.956680', '0.382000', '6.800000'])])])]), OrderedDict([('CartesianPoint', [OrderedDict([('Coordinate', ['11.203681', '0.382000', '3.400000'])]), OrderedDict([('Coordinate', ['21.956680', '0.382000', '3.400000'])]), OrderedDict([('Coordinate', ['21.956680', '0.382000', '6.800000'])]), OrderedDict([('Coordinate', ['11.203681', '0.382000', '6.800000'])])])]), OrderedDict([('CartesianPoint', [OrderedDict([('Coordinate', ['11.203681', '1.655237', '3.400000'])]), OrderedDict([('Coordinate', ['11.203681', '0.382000', '3.400000'])]), OrderedDict([('Coordinate', ['11.203681', '0.382000', '6.800000'])]), OrderedDict([('Coordinate', ['11.203681', '1.655237', '6.800000'])])])]), OrderedDict([('CartesianPoint', [OrderedDict([('Coordinate', ['11.203681', '1.655237', '6.800000'])]), OrderedDict([('Coordinate', ['21.956680', '1.655237', '6.800000'])]), OrderedDict([('Coordinate', ['21.956680', '1.655237', '3.400000'])]), OrderedDict([('Coordinate', ['11.203681', '1.655237', '3.400000'])])])])])]))])",
         "SpaceBoundary": "[OrderedDict([('@isSecondLevelBoundary', 'true'), ('@surfaceIdRef', 'surface-29'), ('PlanarGeometry', OrderedDict([('PolyLoop', OrderedDict([('CartesianPoint', [OrderedDict([('Coordinate', ['21.956680', '0.382000', '3.400000'])]), OrderedDict([('Coordinate', ['11.203681', '0.382000', '3.400000'])]), OrderedDict([('Coordinate', ['11.203681', '1.655237', '3.400000'])]), OrderedDict([('Coordinate', ['21.956680', '1.655237', '3.400000'])])])]))]))]), OrderedDict([('@isSecondLevelBoundary', 'true'), ('@surfaceIdRef', 'surface-30'), ('PlanarGeometry', OrderedDict([('PolyLoop', OrderedDict([('CartesianPoint', [OrderedDict([('Coordinate', ['21.956680', '1.655237', '6.800000'])]), OrderedDict([('Coordinate', ['11.203681', '1.655237', '6.800000'])]), OrderedDict([('Coordinate', ['11.203681', '0.382000', '6.800000'])]), OrderedDict([('Coordinate', ['21.956680', '0.382000', '6.800000'])])])]))]))]), OrderedDict([('@isSecondLevelBoundary', 'true'), ('@surfaceIdRef', 'surface-31'), ('PlanarGeometry', OrderedDict([('PolyLoop', OrderedDict([('CartesianPoint', [OrderedDict([('Coordinate', ['21.956680', '0.382000', '3.400000'])]), OrderedDict([('Coordinate', ['21.956680', '1.655237', '3.400000'])]), OrderedDict([('Coordinate', ['21.956680', '1.655237', '6.800000'])]), OrderedDict([('Coordinate', ['21.956680', '0.382000', '6.800000'])])])]))]))]), OrderedDict([('@isSecondLevelBoundary', 'true'), ('@surfaceIdRef', 'surface-32'), ('PlanarGeometry', OrderedDict([('PolyLoop', OrderedDict([('CartesianPoint', [OrderedDict([('Coordinate', ['11.203681', '0.382000', '3.400000'])]), OrderedDict([('Coordinate', ['21.956680', '0.382000', '3.400000'])]), OrderedDict([('Coordinate', ['21.956680', '0.382000', '6.800000'])]), OrderedDict([('Coordinate', ['11.203681', '0.382000', '6.800000'])])])]))]))]), OrderedDict([('@isSecondLevelBoundary', 'true'), ('@surfaceIdRef', 'surface-33'), ('PlanarGeometry', OrderedDict([('PolyLoop', OrderedDict([('CartesianPoint', [OrderedDict([('Coordinate', ['11.203681', '1.655237', '3.400000'])]), OrderedDict([('Coordinate', ['11.203681', '0.382000', '3.400000'])]), OrderedDict([('Coordinate', ['11.203681', '0.382000', '6.800000'])]), OrderedDict([('Coordinate', ['11.203681', '1.655237', '6.800000'])])])]))]))]), OrderedDict([('@isSecondLevelBoundary', 'true'), ('@surfaceIdRef', 'surface-34'), ('PlanarGeometry', OrderedDict([('PolyLoop', OrderedDict([('CartesianPoint', [OrderedDict([('Coordinate', ['14.803681', '1.655237', '3.400000'])]), OrderedDict([('Coordinate', ['11.203681', '1.655237', '3.400000'])]), OrderedDict([('Coordinate', ['11.203681', '1.655237', '6.800000'])]), OrderedDict([('Coordinate', ['14.803681', '1.655237', '6.800000'])])])]))]))]), OrderedDict([('@isSecondLevelBoundary', 'true'), ('@surfaceIdRef', 'surface-35'), ('PlanarGeometry', OrderedDict([('PolyLoop', OrderedDict([('CartesianPoint', [OrderedDict([('Coordinate', ['18.403681', '1.655237', '3.400000'])]), OrderedDict([('Coordinate', ['14.803681', '1.655237', '3.400000'])]), OrderedDict([('Coordinate', ['14.803681', '1.655237', '6.800000'])]), OrderedDict([('Coordinate', ['18.403681', '1.655237', '6.800000'])])])]))]))]), OrderedDict([('@isSecondLevelBoundary', 'true'), ('@surfaceIdRef', 'surface-36'), ('PlanarGeometry', OrderedDict([('PolyLoop', OrderedDict([('CartesianPoint', [OrderedDict([('Coordinate', ['21.956680', '1.655237', '3.400000'])]), OrderedDict([('Coordinate', ['18.403681', '1.655237', '3.400000'])]), OrderedDict([('Coordinate', ['18.403681', '1.655237', '6.800000'])]), OrderedDict([('Coordinate', ['21.956680', '1.655237', '6.800000'])])])]))]))])]",
         "SpaceId": "R7",
         "SpaceType": "Corridor",
         "TM46Category": 5,
         "TypeCode": 0,
         "Volume": 46.549795,
         "id": "105_LiveseyExchange_heatpump-normal-fabric, A_01_05_R7_Corridor",
         "index": 4,
         "model": "105_LiveseyExchange_heatpump-normal-fabric"
        },
        {
         "@buildingStoreyIdRef": "STOREY_1",
         "@conditionType": "HeatedAndCooled",
         "@id": "RM000003",
         "@zoneIdRef": "ZONE_1",
         "Area": 23.41314,
         "BlockCode": "A",
         "CADObjectId": "RM000003",
         "Level": 1,
         "Name": "A_01_03_R10_Workroom3",
         "ShellGeometry": "OrderedDict([('@id', 'RM000003-shellgeometry'), ('ClosedShell', OrderedDict([('PolyLoop', [OrderedDict([('CartesianPoint', [OrderedDict([('Coordinate', ['14.803681', '1.655237', '3.400000'])]), OrderedDict([('Coordinate', ['11.203681', '1.655237', '3.400000'])]), OrderedDict([('Coordinate', ['11.203681', '8.158887', '3.400000'])]), OrderedDict([('Coordinate', ['14.803681', '8.158887', '3.400000'])])])]), OrderedDict([('CartesianPoint', [OrderedDict([('Coordinate', ['14.803681', '8.158887', '6.800000'])]), OrderedDict([('Coordinate', ['11.203681', '8.158887', '6.800000'])]), OrderedDict([('Coordinate', ['11.203681', '1.655237', '6.800000'])]), OrderedDict([('Coordinate', ['14.803681', '1.655237', '6.800000'])])])]), OrderedDict([('CartesianPoint', [OrderedDict([('Coordinate', ['14.803681', '8.158887', '3.400000'])]), OrderedDict([('Coordinate', ['11.203681', '8.158887', '3.400000'])]), OrderedDict([('Coordinate', ['11.203681', '8.158887', '6.800000'])]), OrderedDict([('Coordinate', ['14.803681', '8.158887', '6.800000'])])])]), OrderedDict([('CartesianPoint', [OrderedDict([('Coordinate', ['11.203681', '8.158887', '3.400000'])]), OrderedDict([('Coordinate', ['11.203681', '1.655237', '3.400000'])]), OrderedDict([('Coordinate', ['11.203681', '1.655237', '6.800000'])]), OrderedDict([('Coordinate', ['11.203681', '8.158887', '6.800000'])])])]), OrderedDict([('CartesianPoint', [OrderedDict([('Coordinate', ['11.203681', '1.655237', '3.400000'])]), OrderedDict([('Coordinate', ['14.803681', '1.655237', '3.400000'])]), OrderedDict([('Coordinate', ['14.803681', '1.655237', '6.800000'])]), OrderedDict([('Coordinate', ['11.203681', '1.655237', '6.800000'])])])]), OrderedDict([('CartesianPoint', [OrderedDict([('Coordinate', ['14.803681', '8.158887', '6.800000'])]), OrderedDict([('Coordinate', ['14.803681', '1.655237', '6.800000'])]), OrderedDict([('Coordinate', ['14.803681', '1.655237', '3.400000'])]), OrderedDict([('Coordinate', ['14.803681', '8.158887', '3.400000'])])])])])]))])",
         "SpaceBoundary": "[OrderedDict([('@isSecondLevelBoundary', 'true'), ('@surfaceIdRef', 'surface-34'), ('PlanarGeometry', OrderedDict([('PolyLoop', OrderedDict([('CartesianPoint', [OrderedDict([('Coordinate', ['14.803681', '1.655237', '6.800000'])]), OrderedDict([('Coordinate', ['11.203681', '1.655237', '6.800000'])]), OrderedDict([('Coordinate', ['11.203681', '1.655237', '3.400000'])]), OrderedDict([('Coordinate', ['14.803681', '1.655237', '3.400000'])])])]))]))]), OrderedDict([('@isSecondLevelBoundary', 'true'), ('@surfaceIdRef', 'surface-37'), ('PlanarGeometry', OrderedDict([('PolyLoop', OrderedDict([('CartesianPoint', [OrderedDict([('Coordinate', ['14.803681', '1.655237', '3.400000'])]), OrderedDict([('Coordinate', ['11.203681', '1.655237', '3.400000'])]), OrderedDict([('Coordinate', ['11.203681', '8.158887', '3.400000'])]), OrderedDict([('Coordinate', ['14.803681', '8.158887', '3.400000'])])])]))]))]), OrderedDict([('@isSecondLevelBoundary', 'true'), ('@surfaceIdRef', 'surface-38'), ('PlanarGeometry', OrderedDict([('PolyLoop', OrderedDict([('CartesianPoint', [OrderedDict([('Coordinate', ['14.803681', '8.158887', '6.800000'])]), OrderedDict([('Coordinate', ['11.203681', '8.158887', '6.800000'])]), OrderedDict([('Coordinate', ['11.203681', '1.655237', '6.800000'])]), OrderedDict([('Coordinate', ['14.803681', '1.655237', '6.800000'])])])]))]))]), OrderedDict([('@isSecondLevelBoundary', 'true'), ('@surfaceIdRef', 'surface-39'), ('PlanarGeometry', OrderedDict([('PolyLoop', OrderedDict([('CartesianPoint', [OrderedDict([('Coordinate', ['14.803681', '8.158887', '3.400000'])]), OrderedDict([('Coordinate', ['11.203681', '8.158887', '3.400000'])]), OrderedDict([('Coordinate', ['11.203681', '8.158887', '6.800000'])]), OrderedDict([('Coordinate', ['14.803681', '8.158887', '6.800000'])])])]))]))]), OrderedDict([('@isSecondLevelBoundary', 'true'), ('@surfaceIdRef', 'surface-40'), ('PlanarGeometry', OrderedDict([('PolyLoop', OrderedDict([('CartesianPoint', [OrderedDict([('Coordinate', ['11.203681', '1.655237', '6.800000'])]), OrderedDict([('Coordinate', ['11.203681', '8.158887', '6.800000'])]), OrderedDict([('Coordinate', ['11.203681', '8.158887', '3.400000'])]), OrderedDict([('Coordinate', ['11.203681', '1.655237', '3.400000'])])])]))]))]), OrderedDict([('@isSecondLevelBoundary', 'true'), ('@surfaceIdRef', 'surface-41'), ('PlanarGeometry', OrderedDict([('PolyLoop', OrderedDict([('CartesianPoint', [OrderedDict([('Coordinate', ['14.803681', '8.158887', '6.800000'])]), OrderedDict([('Coordinate', ['14.803681', '1.655237', '6.800000'])]), OrderedDict([('Coordinate', ['14.803681', '1.655237', '3.400000'])]), OrderedDict([('Coordinate', ['14.803681', '8.158887', '3.400000'])])])]))]))])]",
         "SpaceId": "R10",
         "SpaceType": "Workroom3",
         "TM46Category": 3,
         "TypeCode": 0,
         "Volume": 79.604676,
         "id": "105_LiveseyExchange_heatpump-normal-fabric, A_01_03_R10_Workroom3",
         "index": 5,
         "model": "105_LiveseyExchange_heatpump-normal-fabric"
        },
        {
         "@buildingStoreyIdRef": "STOREY_1",
         "@conditionType": "HeatedAndCooled",
         "@id": "RM000004",
         "@zoneIdRef": "ZONE_1",
         "Area": 23.41314,
         "BlockCode": "A",
         "CADObjectId": "RM000004",
         "Level": 1,
         "Name": "A_01_02_R9_Workroom2",
         "ShellGeometry": "OrderedDict([('@id', 'RM000004-shellgeometry'), ('ClosedShell', OrderedDict([('PolyLoop', [OrderedDict([('CartesianPoint', [OrderedDict([('Coordinate', ['18.403681', '1.655237', '3.400000'])]), OrderedDict([('Coordinate', ['14.803681', '1.655237', '3.400000'])]), OrderedDict([('Coordinate', ['14.803681', '8.158887', '3.400000'])]), OrderedDict([('Coordinate', ['18.403681', '8.158887', '3.400000'])])])]), OrderedDict([('CartesianPoint', [OrderedDict([('Coordinate', ['18.403681', '8.158887', '6.800000'])]), OrderedDict([('Coordinate', ['14.803681', '8.158887', '6.800000'])]), OrderedDict([('Coordinate', ['14.803681', '1.655237', '6.800000'])]), OrderedDict([('Coordinate', ['18.403681', '1.655237', '6.800000'])])])]), OrderedDict([('CartesianPoint', [OrderedDict([('Coordinate', ['18.403681', '8.158887', '3.400000'])]), OrderedDict([('Coordinate', ['14.803681', '8.158887', '3.400000'])]), OrderedDict([('Coordinate', ['14.803681', '8.158887', '6.800000'])]), OrderedDict([('Coordinate', ['18.403681', '8.158887', '6.800000'])])])]), OrderedDict([('CartesianPoint', [OrderedDict([('Coordinate', ['14.803681', '1.655237', '3.400000'])]), OrderedDict([('Coordinate', ['18.403681', '1.655237', '3.400000'])]), OrderedDict([('Coordinate', ['18.403681', '1.655237', '6.800000'])]), OrderedDict([('Coordinate', ['14.803681', '1.655237', '6.800000'])])])]), OrderedDict([('CartesianPoint', [OrderedDict([('Coordinate', ['14.803681', '8.158887', '3.400000'])]), OrderedDict([('Coordinate', ['14.803681', '1.655237', '3.400000'])]), OrderedDict([('Coordinate', ['14.803681', '1.655237', '6.800000'])]), OrderedDict([('Coordinate', ['14.803681', '8.158887', '6.800000'])])])]), OrderedDict([('CartesianPoint', [OrderedDict([('Coordinate', ['18.403681', '8.158887', '6.800000'])]), OrderedDict([('Coordinate', ['18.403681', '1.655237', '6.800000'])]), OrderedDict([('Coordinate', ['18.403681', '1.655237', '3.400000'])]), OrderedDict([('Coordinate', ['18.403681', '8.158887', '3.400000'])])])])])]))])",
         "SpaceBoundary": "[OrderedDict([('@isSecondLevelBoundary', 'true'), ('@surfaceIdRef', 'surface-35'), ('PlanarGeometry', OrderedDict([('PolyLoop', OrderedDict([('CartesianPoint', [OrderedDict([('Coordinate', ['18.403681', '1.655237', '6.800000'])]), OrderedDict([('Coordinate', ['14.803681', '1.655237', '6.800000'])]), OrderedDict([('Coordinate', ['14.803681', '1.655237', '3.400000'])]), OrderedDict([('Coordinate', ['18.403681', '1.655237', '3.400000'])])])]))]))]), OrderedDict([('@isSecondLevelBoundary', 'true'), ('@surfaceIdRef', 'surface-41'), ('PlanarGeometry', OrderedDict([('PolyLoop', OrderedDict([('CartesianPoint', [OrderedDict([('Coordinate', ['14.803681', '8.158887', '3.400000'])]), OrderedDict([('Coordinate', ['14.803681', '1.655237', '3.400000'])]), OrderedDict([('Coordinate', ['14.803681', '1.655237', '6.800000'])]), OrderedDict([('Coordinate', ['14.803681', '8.158887', '6.800000'])])])]))]))]), OrderedDict([('@isSecondLevelBoundary', 'true'), ('@surfaceIdRef', 'surface-42'), ('PlanarGeometry', OrderedDict([('PolyLoop', OrderedDict([('CartesianPoint', [OrderedDict([('Coordinate', ['18.403681', '1.655237', '3.400000'])]), OrderedDict([('Coordinate', ['14.803681', '1.655237', '3.400000'])]), OrderedDict([('Coordinate', ['14.803681', '8.158887', '3.400000'])]), OrderedDict([('Coordinate', ['18.403681', '8.158887', '3.400000'])]), OrderedDict([('Coordinate', ['18.403681', '6.919988', '3.400000'])]), OrderedDict([('Coordinate', ['18.373681', '6.919988', '3.400000'])]), OrderedDict([('Coordinate', ['18.373681', '1.659988', '3.400000'])]), OrderedDict([('Coordinate', ['18.403681', '1.659769', '3.400000'])])])]))]))]), OrderedDict([('@isSecondLevelBoundary', 'true'), ('@surfaceIdRef', 'surface-43'), ('PlanarGeometry', OrderedDict([('PolyLoop', OrderedDict([('CartesianPoint', [OrderedDict([('Coordinate', ['18.403681', '1.659769', '3.400000'])]), OrderedDict([('Coordinate', ['18.373681', '1.659988', '3.400000'])]), OrderedDict([('Coordinate', ['18.373681', '6.919988', '3.400000'])]), OrderedDict([('Coordinate', ['18.403681', '6.919988', '3.400000'])])])]))]))]), OrderedDict([('@isSecondLevelBoundary', 'true'), ('@surfaceIdRef', 'surface-44'), ('PlanarGeometry', OrderedDict([('PolyLoop', OrderedDict([('CartesianPoint', [OrderedDict([('Coordinate', ['18.403681', '8.158887', '6.800000'])]), OrderedDict([('Coordinate', ['14.803681', '8.158887', '6.800000'])]), OrderedDict([('Coordinate', ['14.803681', '1.655237', '6.800000'])]), OrderedDict([('Coordinate', ['18.403681', '1.655237', '6.800000'])])])]))]))]), OrderedDict([('@isSecondLevelBoundary', 'true'), ('@surfaceIdRef', 'surface-45'), ('PlanarGeometry', OrderedDict([('PolyLoop', OrderedDict([('CartesianPoint', [OrderedDict([('Coordinate', ['18.403681', '8.158887', '3.400000'])]), OrderedDict([('Coordinate', ['14.803681', '8.158887', '3.400000'])]), OrderedDict([('Coordinate', ['14.803681', '8.158887', '6.800000'])]), OrderedDict([('Coordinate', ['18.403681', '8.158887', '6.800000'])])])]))]))]), OrderedDict([('@isSecondLevelBoundary', 'true'), ('@surfaceIdRef', 'surface-46'), ('PlanarGeometry', OrderedDict([('PolyLoop', OrderedDict([('CartesianPoint', [OrderedDict([('Coordinate', ['18.403681', '8.158887', '6.800000'])]), OrderedDict([('Coordinate', ['18.403681', '1.655237', '6.800000'])]), OrderedDict([('Coordinate', ['18.403681', '1.655237', '3.400000'])]), OrderedDict([('Coordinate', ['18.403681', '8.158887', '3.400000'])])])]))]))])]",
         "SpaceId": "R9",
         "SpaceType": "Workroom2",
         "TM46Category": 2,
         "TypeCode": 0,
         "Volume": 79.604676,
         "id": "105_LiveseyExchange_heatpump-normal-fabric, A_01_02_R9_Workroom2",
         "index": 6,
         "model": "105_LiveseyExchange_heatpump-normal-fabric"
        },
        {
         "@buildingStoreyIdRef": "STOREY_1",
         "@conditionType": "HeatedAndCooled",
         "@id": "TR000002",
         "@zoneIdRef": "ZONE_2",
         "Area": 10.766713,
         "BlockCode": "B",
         "CADObjectId": "TR000002",
         "Level": 0,
         "Name": "B_00_03_R6_WCLobby",
         "ShellGeometry": "OrderedDict([('@id', 'TR000002-shellgeometry'), ('ClosedShell', OrderedDict([('PolyLoop', [OrderedDict([('CartesianPoint', [OrderedDict([('Coordinate', ['36.968681', '2.635237', '0.000000'])]), OrderedDict([('Coordinate', ['36.968681', '3.969988', '0.000000'])]), OrderedDict([('Coordinate', ['36.968681', '3.969988', '3.400000'])]), OrderedDict([('Coordinate', ['36.968681', '2.635237', '3.400000'])])])]), OrderedDict([('CartesianPoint', [OrderedDict([('Coordinate', ['30.493681', '3.969988', '0.000000'])]), OrderedDict([('Coordinate', ['30.493681', '2.205237', '0.000000'])]), OrderedDict([('Coordinate', ['30.493681', '2.205237', '3.400000'])]), OrderedDict([('Coordinate', ['30.493681', '3.969988', '3.400000'])])])]), OrderedDict([('CartesianPoint', [OrderedDict([('Coordinate', ['36.968681', '3.969988', '0.000000'])]), OrderedDict([('Coordinate', ['30.493681', '3.969988', '0.000000'])]), OrderedDict([('Coordinate', ['30.493681', '3.969988', '3.400000'])]), OrderedDict([('Coordinate', ['36.968681', '3.969988', '3.400000'])])])]), OrderedDict([('CartesianPoint', [OrderedDict([('Coordinate', ['36.968681', '2.635237', '0.000000'])]), OrderedDict([('Coordinate', ['35.433681', '2.635237', '0.000000'])]), OrderedDict([('Coordinate', ['35.433681', '2.205237', '0.000000'])]), OrderedDict([('Coordinate', ['30.493681', '2.205237', '0.000000'])]), OrderedDict([('Coordinate', ['30.493681', '3.969988', '0.000000'])]), OrderedDict([('Coordinate', ['36.968681', '3.969988', '0.000000'])])])]), OrderedDict([('CartesianPoint', [OrderedDict([('Coordinate', ['36.968681', '3.969988', '3.400000'])]), OrderedDict([('Coordinate', ['30.493681', '3.969988', '3.400000'])]), OrderedDict([('Coordinate', ['30.493681', '2.205237', '3.400000'])]), OrderedDict([('Coordinate', ['35.433681', '2.205237', '3.400000'])]), OrderedDict([('Coordinate', ['35.433681', '2.635237', '3.400000'])]), OrderedDict([('Coordinate', ['36.968681', '2.635237', '3.400000'])])])]), OrderedDict([('CartesianPoint', [OrderedDict([('Coordinate', ['30.493681', '2.205237', '0.000000'])]), OrderedDict([('Coordinate', ['35.433681', '2.205237', '0.000000'])]), OrderedDict([('Coordinate', ['35.433681', '2.205237', '3.400000'])]), OrderedDict([('Coordinate', ['30.493681', '2.205237', '3.400000'])])])]), OrderedDict([('CartesianPoint', [OrderedDict([('Coordinate', ['35.433681', '2.635237', '0.000000'])]), OrderedDict([('Coordinate', ['36.968681', '2.635237', '0.000000'])]), OrderedDict([('Coordinate', ['36.968681', '2.635237', '3.400000'])]), OrderedDict([('Coordinate', ['35.433681', '2.635237', '3.400000'])])])]), OrderedDict([('CartesianPoint', [OrderedDict([('Coordinate', ['35.433681', '2.205237', '0.000000'])]), OrderedDict([('Coordinate', ['35.433681', '2.635237', '0.000000'])]), OrderedDict([('Coordinate', ['35.433681', '2.635237', '3.400000'])]), OrderedDict([('Coordinate', ['35.433681', '2.205237', '3.400000'])])])])])]))])",
         "SpaceBoundary": "[OrderedDict([('@isSecondLevelBoundary', 'true'), ('@surfaceIdRef', 'surface-14'), ('PlanarGeometry', OrderedDict([('PolyLoop', OrderedDict([('CartesianPoint', [OrderedDict([('Coordinate', ['36.968681', '3.969988', '-0.000000'])]), OrderedDict([('Coordinate', ['30.493681', '3.969988', '-0.000000'])]), OrderedDict([('Coordinate', ['30.493681', '3.969988', '3.400000'])]), OrderedDict([('Coordinate', ['36.968681', '3.969988', '3.400000'])])])]))]))]), OrderedDict([('@isSecondLevelBoundary', 'true'), ('@surfaceIdRef', 'surface-47'), ('PlanarGeometry', OrderedDict([('PolyLoop', OrderedDict([('CartesianPoint', [OrderedDict([('Coordinate', ['36.968681', '2.635237', '0.000000'])]), OrderedDict([('Coordinate', ['36.968681', '3.969988', '0.000000'])]), OrderedDict([('Coordinate', ['36.968681', '3.969988', '3.400000'])]), OrderedDict([('Coordinate', ['36.968681', '2.635237', '3.400000'])])])]))]))]), OrderedDict([('@isSecondLevelBoundary', 'true'), ('@surfaceIdRef', 'surface-48'), ('PlanarGeometry', OrderedDict([('PolyLoop', OrderedDict([('CartesianPoint', [OrderedDict([('Coordinate', ['30.493681', '3.969988', '0.000000'])]), OrderedDict([('Coordinate', ['30.493681', '2.205237', '0.000000'])]), OrderedDict([('Coordinate', ['30.493681', '2.205237', '3.400000'])]), OrderedDict([('Coordinate', ['30.493681', '3.969988', '3.400000'])])])]))]))]), OrderedDict([('@isSecondLevelBoundary', 'true'), ('@surfaceIdRef', 'surface-49'), ('PlanarGeometry', OrderedDict([('PolyLoop', OrderedDict([('CartesianPoint', [OrderedDict([('Coordinate', ['36.968681', '2.635237', '0.000000'])]), OrderedDict([('Coordinate', ['35.433681', '2.635237', '0.000000'])]), OrderedDict([('Coordinate', ['35.433681', '2.205237', '0.000000'])]), OrderedDict([('Coordinate', ['30.493681', '2.205237', '0.000000'])]), OrderedDict([('Coordinate', ['30.493681', '3.969988', '0.000000'])]), OrderedDict([('Coordinate', ['36.968681', '3.969988', '0.000000'])])])]))]))]), OrderedDict([('@isSecondLevelBoundary', 'true'), ('@surfaceIdRef', 'surface-50'), ('PlanarGeometry', OrderedDict([('PolyLoop', OrderedDict([('CartesianPoint', [OrderedDict([('Coordinate', ['33.715237', '3.969988', '3.400000'])]), OrderedDict([('Coordinate', ['30.493681', '3.969988', '3.400000'])]), OrderedDict([('Coordinate', ['30.493681', '2.205237', '3.400000'])]), OrderedDict([('Coordinate', ['33.715237', '2.205237', '3.400000'])])])]))]))]), OrderedDict([('@isSecondLevelBoundary', 'true'), ('@surfaceIdRef', 'surface-51'), ('PlanarGeometry', OrderedDict([('PolyLoop', OrderedDict([('CartesianPoint', [OrderedDict([('Coordinate', ['36.968681', '3.969988', '3.400000'])]), OrderedDict([('Coordinate', ['33.715237', '3.969988', '3.400000'])]), OrderedDict([('Coordinate', ['33.715237', '3.428000', '3.400000'])]), OrderedDict([('Coordinate', ['36.968681', '3.428000', '3.400000'])])])]))]))]), OrderedDict([('@isSecondLevelBoundary', 'true'), ('@surfaceIdRef', 'surface-52'), ('PlanarGeometry', OrderedDict([('PolyLoop', OrderedDict([('CartesianPoint', [OrderedDict([('Coordinate', ['36.968681', '3.428000', '3.400000'])]), OrderedDict([('Coordinate', ['33.715237', '3.428000', '3.400000'])]), OrderedDict([('Coordinate', ['33.715237', '2.205237', '3.400000'])]), OrderedDict([('Coordinate', ['35.433681', '2.205237', '3.400000'])]), OrderedDict([('Coordinate', ['35.433681', '2.635237', '3.400000'])]), OrderedDict([('Coordinate', ['36.968681', '2.635237', '3.400000'])])])]))]))]), OrderedDict([('@isSecondLevelBoundary', 'true'), ('@surfaceIdRef', 'surface-53'), ('PlanarGeometry', OrderedDict([('PolyLoop', OrderedDict([('CartesianPoint', [OrderedDict([('Coordinate', ['31.483681', '2.205237', '3.400000'])]), OrderedDict([('Coordinate', ['30.493681', '2.205237', '3.400000'])]), OrderedDict([('Coordinate', ['30.493681', '2.205237', '-0.000000'])]), OrderedDict([('Coordinate', ['31.483681', '2.205237', '-0.000000'])])])]))]))]), OrderedDict([('@isSecondLevelBoundary', 'true'), ('@surfaceIdRef', 'surface-54'), ('PlanarGeometry', OrderedDict([('PolyLoop', OrderedDict([('CartesianPoint', [OrderedDict([('Coordinate', ['32.363681', '2.205237', '3.400000'])]), OrderedDict([('Coordinate', ['31.483681', '2.205237', '3.400000'])]), OrderedDict([('Coordinate', ['31.483681', '2.205237', '-0.000000'])]), OrderedDict([('Coordinate', ['32.363681', '2.205237', '-0.000000'])])])]))]))]), OrderedDict([('@isSecondLevelBoundary', 'true'), ('@surfaceIdRef', 'surface-55'), ('PlanarGeometry', OrderedDict([('PolyLoop', OrderedDict([('CartesianPoint', [OrderedDict([('Coordinate', ['33.243681', '2.205237', '3.400000'])]), OrderedDict([('Coordinate', ['32.363681', '2.205237', '3.400000'])]), OrderedDict([('Coordinate', ['32.363681', '2.205237', '-0.000000'])]), OrderedDict([('Coordinate', ['33.243681', '2.205237', '-0.000000'])])])]))]))]), OrderedDict([('@isSecondLevelBoundary', 'true'), ('@surfaceIdRef', 'surface-56'), ('PlanarGeometry', OrderedDict([('PolyLoop', OrderedDict([('CartesianPoint', [OrderedDict([('Coordinate', ['35.433681', '2.205237', '3.400000'])]), OrderedDict([('Coordinate', ['34.163681', '2.205237', '3.400000'])]), OrderedDict([('Coordinate', ['34.163681', '2.205237', '-0.000000'])]), OrderedDict([('Coordinate', ['35.433681', '2.205237', '-0.000000'])])])]))]))]), OrderedDict([('@isSecondLevelBoundary', 'true'), ('@surfaceIdRef', 'surface-57'), ('PlanarGeometry', OrderedDict([('PolyLoop', OrderedDict([('CartesianPoint', [OrderedDict([('Coordinate', ['34.163681', '2.205237', '3.400000'])]), OrderedDict([('Coordinate', ['33.243681', '2.205237', '3.400000'])]), OrderedDict([('Coordinate', ['33.243681', '2.205237', '-0.000000'])]), OrderedDict([('Coordinate', ['34.163681', '2.205237', '-0.000000'])])])]))]))]), OrderedDict([('@isSecondLevelBoundary', 'true'), ('@surfaceIdRef', 'surface-58'), ('PlanarGeometry', OrderedDict([('PolyLoop', OrderedDict([('CartesianPoint', [OrderedDict([('Coordinate', ['36.968681', '2.635237', '3.400000'])]), OrderedDict([('Coordinate', ['35.433681', '2.635237', '3.400000'])]), OrderedDict([('Coordinate', ['35.433681', '2.635237', '-0.000000'])]), OrderedDict([('Coordinate', ['36.968681', '2.635237', '-0.000000'])])])]))]))]), OrderedDict([('@isSecondLevelBoundary', 'true'), ('@surfaceIdRef', 'surface-59'), ('PlanarGeometry', OrderedDict([('PolyLoop', OrderedDict([('CartesianPoint', [OrderedDict([('Coordinate', ['35.433681', '2.635237', '3.400000'])]), OrderedDict([('Coordinate', ['35.433681', '2.205237', '3.400000'])]), OrderedDict([('Coordinate', ['35.433681', '2.205237', '0.000000'])]), OrderedDict([('Coordinate', ['35.433681', '2.635237', '0.000000'])])])]))]))])]",
         "SpaceId": "R6",
         "SpaceType": "WCLobby",
         "TM46Category": 3,
         "TypeCode": 0,
         "Volume": 36.606823,
         "id": "105_LiveseyExchange_heatpump-normal-fabric, B_00_03_R6_WCLobby",
         "index": 7,
         "model": "105_LiveseyExchange_heatpump-normal-fabric"
        },
        {
         "@buildingStoreyIdRef": "STOREY_1",
         "@conditionType": "HeatedAndCooled",
         "@id": "TR00000C",
         "@zoneIdRef": "ZONE_2",
         "Area": 3.438813,
         "BlockCode": "B",
         "CADObjectId": "TR00000C",
         "Level": 0,
         "Name": "B_00_03_R6_AWC",
         "ShellGeometry": "OrderedDict([('@id', 'TR00000C-shellgeometry'), ('ClosedShell', OrderedDict([('PolyLoop', [OrderedDict([('CartesianPoint', [OrderedDict([('Coordinate', ['35.433681', '0.394968', '0.000000'])]), OrderedDict([('Coordinate', ['36.968681', '0.394968', '-0.000000'])]), OrderedDict([('Coordinate', ['36.968681', '0.394968', '3.400000'])]), OrderedDict([('Coordinate', ['35.433681', '0.394968', '3.400000'])])])]), OrderedDict([('CartesianPoint', [OrderedDict([('Coordinate', ['35.433681', '2.635237', '3.400000'])]), OrderedDict([('Coordinate', ['36.968681', '2.635237', '3.400000'])]), OrderedDict([('Coordinate', ['36.968681', '2.635237', '0.000000'])]), OrderedDict([('Coordinate', ['35.433681', '2.635237', '0.000000'])])])]), OrderedDict([('CartesianPoint', [OrderedDict([('Coordinate', ['36.968681', '0.394968', '-0.000000'])]), OrderedDict([('Coordinate', ['36.968681', '2.635237', '0.000000'])]), OrderedDict([('Coordinate', ['36.968681', '2.635237', '3.400000'])]), OrderedDict([('Coordinate', ['36.968681', '0.394968', '3.400000'])])])]), OrderedDict([('CartesianPoint', [OrderedDict([('Coordinate', ['36.968681', '0.394968', '-0.000000'])]), OrderedDict([('Coordinate', ['35.433681', '0.394968', '0.000000'])]), OrderedDict([('Coordinate', ['35.433681', '2.635237', '0.000000'])]), OrderedDict([('Coordinate', ['36.968681', '2.635237', '0.000000'])])])]), OrderedDict([('CartesianPoint', [OrderedDict([('Coordinate', ['35.433681', '0.394968', '3.400000'])]), OrderedDict([('Coordinate', ['36.968681', '0.394968', '3.400000'])]), OrderedDict([('Coordinate', ['36.968681', '2.635237', '3.400000'])]), OrderedDict([('Coordinate', ['35.433681', '2.635237', '3.400000'])])])]), OrderedDict([('CartesianPoint', [OrderedDict([('Coordinate', ['35.433681', '2.635237', '0.000000'])]), OrderedDict([('Coordinate', ['35.433681', '0.394968', '0.000000'])]), OrderedDict([('Coordinate', ['35.433681', '0.394968', '3.400000'])]), OrderedDict([('Coordinate', ['35.433681', '2.635237', '3.400000'])])])])])]))])",
         "SpaceBoundary": "[OrderedDict([('@isSecondLevelBoundary', 'true'), ('@surfaceIdRef', 'surface-58'), ('PlanarGeometry', OrderedDict([('PolyLoop', OrderedDict([('CartesianPoint', [OrderedDict([('Coordinate', ['36.968681', '2.635237', '-0.000000'])]), OrderedDict([('Coordinate', ['35.433681', '2.635237', '-0.000000'])]), OrderedDict([('Coordinate', ['35.433681', '2.635237', '3.400000'])]), OrderedDict([('Coordinate', ['36.968681', '2.635237', '3.400000'])])])]))]))]), OrderedDict([('@isSecondLevelBoundary', 'true'), ('@surfaceIdRef', 'surface-59'), ('PlanarGeometry', OrderedDict([('PolyLoop', OrderedDict([('CartesianPoint', [OrderedDict([('Coordinate', ['35.433681', '2.635237', '0.000000'])]), OrderedDict([('Coordinate', ['35.433681', '2.205237', '0.000000'])]), OrderedDict([('Coordinate', ['35.433681', '2.205237', '3.400000'])]), OrderedDict([('Coordinate', ['35.433681', '2.635237', '3.400000'])])])]))]))]), OrderedDict([('@isSecondLevelBoundary', 'true'), ('@surfaceIdRef', 'surface-60'), ('PlanarGeometry', OrderedDict([('PolyLoop', OrderedDict([('CartesianPoint', [OrderedDict([('Coordinate', ['35.433681', '0.394968', '0.000000'])]), OrderedDict([('Coordinate', ['36.968681', '0.394968', '0.000000'])]), OrderedDict([('Coordinate', ['36.968681', '0.394968', '3.400000'])]), OrderedDict([('Coordinate', ['35.433681', '0.394968', '3.400000'])])])]))]))]), OrderedDict([('@isSecondLevelBoundary', 'true'), ('@surfaceIdRef', 'surface-61'), ('PlanarGeometry', OrderedDict([('PolyLoop', OrderedDict([('CartesianPoint', [OrderedDict([('Coordinate', ['36.968681', '0.394968', '0.000000'])]), OrderedDict([('Coordinate', ['36.968681', '2.635237', '0.000000'])]), OrderedDict([('Coordinate', ['36.968681', '2.635237', '3.400000'])]), OrderedDict([('Coordinate', ['36.968681', '0.394968', '3.400000'])])])]))]))]), OrderedDict([('@isSecondLevelBoundary', 'true'), ('@surfaceIdRef', 'surface-62'), ('PlanarGeometry', OrderedDict([('PolyLoop', OrderedDict([('CartesianPoint', [OrderedDict([('Coordinate', ['36.968681', '0.394968', '0.000000'])]), OrderedDict([('Coordinate', ['35.433681', '0.394968', '0.000000'])]), OrderedDict([('Coordinate', ['35.433681', '2.635237', '0.000000'])]), OrderedDict([('Coordinate', ['36.968681', '2.635237', '0.000000'])])])]))]))]), OrderedDict([('@isSecondLevelBoundary', 'true'), ('@surfaceIdRef', 'surface-63'), ('PlanarGeometry', OrderedDict([('PolyLoop', OrderedDict([('CartesianPoint', [OrderedDict([('Coordinate', ['36.968681', '2.635237', '3.400000'])]), OrderedDict([('Coordinate', ['35.433681', '2.635237', '3.400000'])]), OrderedDict([('Coordinate', ['35.433681', '0.394968', '3.400000'])]), OrderedDict([('Coordinate', ['36.968681', '0.394968', '3.400000'])])])]))]))]), OrderedDict([('@isSecondLevelBoundary', 'true'), ('@surfaceIdRef', 'surface-64'), ('PlanarGeometry', OrderedDict([('PolyLoop', OrderedDict([('CartesianPoint', [OrderedDict([('Coordinate', ['35.433681', '0.394968', '3.400000'])]), OrderedDict([('Coordinate', ['35.433681', '2.205237', '3.400000'])]), OrderedDict([('Coordinate', ['35.433681', '2.205237', '-0.000000'])]), OrderedDict([('Coordinate', ['35.433681', '0.394968', '-0.000000'])])])]))]))])]",
         "SpaceId": "R6",
         "SpaceType": "AWC",
         "TM46Category": 3,
         "TypeCode": 0,
         "Volume": 11.691964,
         "id": "105_LiveseyExchange_heatpump-normal-fabric, B_00_03_R6_AWC",
         "index": 8,
         "model": "105_LiveseyExchange_heatpump-normal-fabric"
        },
        {
         "@buildingStoreyIdRef": "STOREY_1",
         "@conditionType": "HeatedAndCooled",
         "@id": "TR00000A",
         "@zoneIdRef": "ZONE_2",
         "Area": 1.792166,
         "BlockCode": "B",
         "CADObjectId": "TR00000A",
         "Level": 0,
         "Name": "B_00_03_R6_WCCubicle1",
         "ShellGeometry": "OrderedDict([('@id', 'TR00000A-shellgeometry'), ('ClosedShell', OrderedDict([('PolyLoop', [OrderedDict([('CartesianPoint', [OrderedDict([('Coordinate', ['30.493681', '0.394968', '0.000000'])]), OrderedDict([('Coordinate', ['31.483681', '0.394968', '0.000000'])]), OrderedDict([('Coordinate', ['31.483681', '0.394968', '3.400000'])]), OrderedDict([('Coordinate', ['30.493681', '0.394968', '3.400000'])])])]), OrderedDict([('CartesianPoint', [OrderedDict([('Coordinate', ['30.493681', '2.205237', '0.000000'])]), OrderedDict([('Coordinate', ['30.493681', '0.394968', '0.000000'])]), OrderedDict([('Coordinate', ['30.493681', '0.394968', '3.400000'])]), OrderedDict([('Coordinate', ['30.493681', '2.205237', '3.400000'])])])]), OrderedDict([('CartesianPoint', [OrderedDict([('Coordinate', ['31.483681', '0.394968', '0.000000'])]), OrderedDict([('Coordinate', ['30.493681', '0.394968', '0.000000'])]), OrderedDict([('Coordinate', ['30.493681', '2.205237', '0.000000'])]), OrderedDict([('Coordinate', ['31.483681', '2.205237', '0.000000'])])])]), OrderedDict([('CartesianPoint', [OrderedDict([('Coordinate', ['31.483681', '2.205237', '3.400000'])]), OrderedDict([('Coordinate', ['30.493681', '2.205237', '3.400000'])]), OrderedDict([('Coordinate', ['30.493681', '0.394968', '3.400000'])]), OrderedDict([('Coordinate', ['31.483681', '0.394968', '3.400000'])])])]), OrderedDict([('CartesianPoint', [OrderedDict([('Coordinate', ['31.483681', '2.205237', '0.000000'])]), OrderedDict([('Coordinate', ['30.493681', '2.205237', '0.000000'])]), OrderedDict([('Coordinate', ['30.493681', '2.205237', '3.400000'])]), OrderedDict([('Coordinate', ['31.483681', '2.205237', '3.400000'])])])]), OrderedDict([('CartesianPoint', [OrderedDict([('Coordinate', ['31.483681', '2.205237', '3.400000'])]), OrderedDict([('Coordinate', ['31.483681', '0.394968', '3.400000'])]), OrderedDict([('Coordinate', ['31.483681', '0.394968', '0.000000'])]), OrderedDict([('Coordinate', ['31.483681', '2.205237', '0.000000'])])])])])]))])",
         "SpaceBoundary": "[OrderedDict([('@isSecondLevelBoundary', 'true'), ('@surfaceIdRef', 'surface-27'), ('PlanarGeometry', OrderedDict([('PolyLoop', OrderedDict([('CartesianPoint', [OrderedDict([('Coordinate', ['30.493681', '2.205237', '0.000000'])]), OrderedDict([('Coordinate', ['30.493681', '0.394968', '0.000000'])]), OrderedDict([('Coordinate', ['30.493681', '0.394968', '3.400000'])]), OrderedDict([('Coordinate', ['30.493681', '2.205237', '3.400000'])])])]))]))]), OrderedDict([('@isSecondLevelBoundary', 'true'), ('@surfaceIdRef', 'surface-53'), ('PlanarGeometry', OrderedDict([('PolyLoop', OrderedDict([('CartesianPoint', [OrderedDict([('Coordinate', ['31.483681', '2.205237', '-0.000000'])]), OrderedDict([('Coordinate', ['30.493681', '2.205237', '-0.000000'])]), OrderedDict([('Coordinate', ['30.493681', '2.205237', '3.400000'])]), OrderedDict([('Coordinate', ['31.483681', '2.205237', '3.400000'])])])]))]))]), OrderedDict([('@isSecondLevelBoundary', 'true'), ('@surfaceIdRef', 'surface-65'), ('PlanarGeometry', OrderedDict([('PolyLoop', OrderedDict([('CartesianPoint', [OrderedDict([('Coordinate', ['30.493681', '0.394968', '0.000000'])]), OrderedDict([('Coordinate', ['31.483681', '0.394968', '0.000000'])]), OrderedDict([('Coordinate', ['31.483681', '0.394968', '3.400000'])]), OrderedDict([('Coordinate', ['30.493681', '0.394968', '3.400000'])])])]))]))]), OrderedDict([('@isSecondLevelBoundary', 'true'), ('@surfaceIdRef', 'surface-66'), ('PlanarGeometry', OrderedDict([('PolyLoop', OrderedDict([('CartesianPoint', [OrderedDict([('Coordinate', ['31.483681', '0.394968', '0.000000'])]), OrderedDict([('Coordinate', ['30.493681', '0.394968', '0.000000'])]), OrderedDict([('Coordinate', ['30.493681', '2.205237', '0.000000'])]), OrderedDict([('Coordinate', ['31.483681', '2.205237', '0.000000'])])])]))]))]), OrderedDict([('@isSecondLevelBoundary', 'true'), ('@surfaceIdRef', 'surface-67'), ('PlanarGeometry', OrderedDict([('PolyLoop', OrderedDict([('CartesianPoint', [OrderedDict([('Coordinate', ['31.483681', '2.205237', '3.400000'])]), OrderedDict([('Coordinate', ['30.493681', '2.205237', '3.400000'])]), OrderedDict([('Coordinate', ['30.493681', '1.679837', '3.400000'])]), OrderedDict([('Coordinate', ['31.483681', '1.675642', '3.400000'])])])]))]))]), OrderedDict([('@isSecondLevelBoundary', 'true'), ('@surfaceIdRef', 'surface-68'), ('PlanarGeometry', OrderedDict([('PolyLoop', OrderedDict([('CartesianPoint', [OrderedDict([('Coordinate', ['30.493681', '1.679837', '3.400000'])]), OrderedDict([('Coordinate', ['30.493681', '0.394968', '3.400000'])]), OrderedDict([('Coordinate', ['31.483681', '0.394968', '3.400000'])]), OrderedDict([('Coordinate', ['31.483681', '1.675642', '3.400000'])])])]))]))]), OrderedDict([('@isSecondLevelBoundary', 'true'), ('@surfaceIdRef', 'surface-69'), ('PlanarGeometry', OrderedDict([('PolyLoop', OrderedDict([('CartesianPoint', [OrderedDict([('Coordinate', ['31.483681', '2.205237', '3.400000'])]), OrderedDict([('Coordinate', ['31.483681', '0.394968', '3.400000'])]), OrderedDict([('Coordinate', ['31.483681', '0.394968', '0.000000'])]), OrderedDict([('Coordinate', ['31.483681', '2.205237', '0.000000'])])])]))]))])]",
         "SpaceId": "R6",
         "SpaceType": "WCCubicle1",
         "TM46Category": 3,
         "TypeCode": 0,
         "Volume": 6.093365,
         "id": "105_LiveseyExchange_heatpump-normal-fabric, B_00_03_R6_WCCubicle1",
         "index": 9,
         "model": "105_LiveseyExchange_heatpump-normal-fabric"
        },
        {
         "@buildingStoreyIdRef": "STOREY_1",
         "@conditionType": "HeatedAndCooled",
         "@id": "TR00000B",
         "@zoneIdRef": "ZONE_2",
         "Area": 1.593037,
         "BlockCode": "B",
         "CADObjectId": "TR00000B",
         "Level": 0,
         "Name": "B_00_03_R6_WCCubicle2",
         "ShellGeometry": "OrderedDict([('@id', 'TR00000B-shellgeometry'), ('ClosedShell', OrderedDict([('PolyLoop', [OrderedDict([('CartesianPoint', [OrderedDict([('Coordinate', ['31.483681', '0.394968', '0.000000'])]), OrderedDict([('Coordinate', ['32.363681', '0.394968', '0.000000'])]), OrderedDict([('Coordinate', ['32.363681', '0.394968', '3.400000'])]), OrderedDict([('Coordinate', ['31.483681', '0.394968', '3.400000'])])])]), OrderedDict([('CartesianPoint', [OrderedDict([('Coordinate', ['32.363681', '0.394968', '0.000000'])]), OrderedDict([('Coordinate', ['31.483681', '0.394968', '0.000000'])]), OrderedDict([('Coordinate', ['31.483681', '2.205237', '0.000000'])]), OrderedDict([('Coordinate', ['32.363681', '2.205237', '0.000000'])])])]), OrderedDict([('CartesianPoint', [OrderedDict([('Coordinate', ['32.363681', '2.205237', '3.400000'])]), OrderedDict([('Coordinate', ['31.483681', '2.205237', '3.400000'])]), OrderedDict([('Coordinate', ['31.483681', '0.394968', '3.400000'])]), OrderedDict([('Coordinate', ['32.363681', '0.394968', '3.400000'])])])]), OrderedDict([('CartesianPoint', [OrderedDict([('Coordinate', ['32.363681', '2.205237', '0.000000'])]), OrderedDict([('Coordinate', ['31.483681', '2.205237', '0.000000'])]), OrderedDict([('Coordinate', ['31.483681', '2.205237', '3.400000'])]), OrderedDict([('Coordinate', ['32.363681', '2.205237', '3.400000'])])])]), OrderedDict([('CartesianPoint', [OrderedDict([('Coordinate', ['31.483681', '2.205237', '0.000000'])]), OrderedDict([('Coordinate', ['31.483681', '0.394968', '0.000000'])]), OrderedDict([('Coordinate', ['31.483681', '0.394968', '3.400000'])]), OrderedDict([('Coordinate', ['31.483681', '2.205237', '3.400000'])])])]), OrderedDict([('CartesianPoint', [OrderedDict([('Coordinate', ['32.363681', '2.205237', '3.400000'])]), OrderedDict([('Coordinate', ['32.363681', '0.394968', '3.400000'])]), OrderedDict([('Coordinate', ['32.363681', '0.394968', '0.000000'])]), OrderedDict([('Coordinate', ['32.363681', '2.205237', '0.000000'])])])])])]))])",
         "SpaceBoundary": "[OrderedDict([('@isSecondLevelBoundary', 'true'), ('@surfaceIdRef', 'surface-54'), ('PlanarGeometry', OrderedDict([('PolyLoop', OrderedDict([('CartesianPoint', [OrderedDict([('Coordinate', ['32.363681', '2.205237', '-0.000000'])]), OrderedDict([('Coordinate', ['31.483681', '2.205237', '-0.000000'])]), OrderedDict([('Coordinate', ['31.483681', '2.205237', '3.400000'])]), OrderedDict([('Coordinate', ['32.363681', '2.205237', '3.400000'])])])]))]))]), OrderedDict([('@isSecondLevelBoundary', 'true'), ('@surfaceIdRef', 'surface-69'), ('PlanarGeometry', OrderedDict([('PolyLoop', OrderedDict([('CartesianPoint', [OrderedDict([('Coordinate', ['31.483681', '2.205237', '0.000000'])]), OrderedDict([('Coordinate', ['31.483681', '0.394968', '0.000000'])]), OrderedDict([('Coordinate', ['31.483681', '0.394968', '3.400000'])]), OrderedDict([('Coordinate', ['31.483681', '2.205237', '3.400000'])])])]))]))]), OrderedDict([('@isSecondLevelBoundary', 'true'), ('@surfaceIdRef', 'surface-70'), ('PlanarGeometry', OrderedDict([('PolyLoop', OrderedDict([('CartesianPoint', [OrderedDict([('Coordinate', ['31.483681', '0.394968', '0.000000'])]), OrderedDict([('Coordinate', ['32.363681', '0.394968', '0.000000'])]), OrderedDict([('Coordinate', ['32.363681', '0.394968', '3.400000'])]), OrderedDict([('Coordinate', ['31.483681', '0.394968', '3.400000'])])])]))]))]), OrderedDict([('@isSecondLevelBoundary', 'true'), ('@surfaceIdRef', 'surface-71'), ('PlanarGeometry', OrderedDict([('PolyLoop', OrderedDict([('CartesianPoint', [OrderedDict([('Coordinate', ['32.363681', '0.394968', '0.000000'])]), OrderedDict([('Coordinate', ['31.483681', '0.394968', '0.000000'])]), OrderedDict([('Coordinate', ['31.483681', '2.205237', '0.000000'])]), OrderedDict([('Coordinate', ['32.363681', '2.205237', '0.000000'])])])]))]))]), OrderedDict([('@isSecondLevelBoundary', 'true'), ('@surfaceIdRef', 'surface-72'), ('PlanarGeometry', OrderedDict([('PolyLoop', OrderedDict([('CartesianPoint', [OrderedDict([('Coordinate', ['32.363681', '2.205237', '3.400000'])]), OrderedDict([('Coordinate', ['31.483681', '2.205237', '3.400000'])]), OrderedDict([('Coordinate', ['31.483681', '1.675642', '3.400000'])]), OrderedDict([('Coordinate', ['32.363681', '1.671913', '3.400000'])])])]))]))]), OrderedDict([('@isSecondLevelBoundary', 'true'), ('@surfaceIdRef', 'surface-73'), ('PlanarGeometry', OrderedDict([('PolyLoop', OrderedDict([('CartesianPoint', [OrderedDict([('Coordinate', ['31.483681', '1.675642', '3.400000'])]), OrderedDict([('Coordinate', ['31.483681', '0.394968', '3.400000'])]), OrderedDict([('Coordinate', ['32.363681', '0.394968', '3.400000'])]), OrderedDict([('Coordinate', ['32.363681', '1.671913', '3.400000'])])])]))]))]), OrderedDict([('@isSecondLevelBoundary', 'true'), ('@surfaceIdRef', 'surface-74'), ('PlanarGeometry', OrderedDict([('PolyLoop', OrderedDict([('CartesianPoint', [OrderedDict([('Coordinate', ['32.363681', '2.205237', '3.400000'])]), OrderedDict([('Coordinate', ['32.363681', '0.394968', '3.400000'])]), OrderedDict([('Coordinate', ['32.363681', '0.394968', '0.000000'])]), OrderedDict([('Coordinate', ['32.363681', '2.205237', '0.000000'])])])]))]))])]",
         "SpaceId": "R6",
         "SpaceType": "WCCubicle2",
         "TM46Category": 3,
         "TypeCode": 0,
         "Volume": 5.416325,
         "id": "105_LiveseyExchange_heatpump-normal-fabric, B_00_03_R6_WCCubicle2",
         "index": 10,
         "model": "105_LiveseyExchange_heatpump-normal-fabric"
        },
        {
         "@buildingStoreyIdRef": "STOREY_1",
         "@conditionType": "HeatedAndCooled",
         "@id": "TR00000D",
         "@zoneIdRef": "ZONE_2",
         "Area": 1.593037,
         "BlockCode": "B",
         "CADObjectId": "TR00000D",
         "Level": 0,
         "Name": "B_00_03_R6_WCCubicle3",
         "ShellGeometry": "OrderedDict([('@id', 'TR00000D-shellgeometry'), ('ClosedShell', OrderedDict([('PolyLoop', [OrderedDict([('CartesianPoint', [OrderedDict([('Coordinate', ['32.363681', '0.394968', '0.000000'])]), OrderedDict([('Coordinate', ['33.243681', '0.394968', '0.000000'])]), OrderedDict([('Coordinate', ['33.243681', '0.394968', '3.400000'])]), OrderedDict([('Coordinate', ['32.363681', '0.394968', '3.400000'])])])]), OrderedDict([('CartesianPoint', [OrderedDict([('Coordinate', ['33.243681', '0.394968', '0.000000'])]), OrderedDict([('Coordinate', ['32.363681', '0.394968', '0.000000'])]), OrderedDict([('Coordinate', ['32.363681', '2.205237', '0.000000'])]), OrderedDict([('Coordinate', ['33.243681', '2.205237', '0.000000'])])])]), OrderedDict([('CartesianPoint', [OrderedDict([('Coordinate', ['33.243681', '2.205237', '3.400000'])]), OrderedDict([('Coordinate', ['32.363681', '2.205237', '3.400000'])]), OrderedDict([('Coordinate', ['32.363681', '0.394968', '3.400000'])]), OrderedDict([('Coordinate', ['33.243681', '0.394968', '3.400000'])])])]), OrderedDict([('CartesianPoint', [OrderedDict([('Coordinate', ['33.243681', '2.205237', '0.000000'])]), OrderedDict([('Coordinate', ['32.363681', '2.205237', '0.000000'])]), OrderedDict([('Coordinate', ['32.363681', '2.205237', '3.400000'])]), OrderedDict([('Coordinate', ['33.243681', '2.205237', '3.400000'])])])]), OrderedDict([('CartesianPoint', [OrderedDict([('Coordinate', ['32.363681', '2.205237', '0.000000'])]), OrderedDict([('Coordinate', ['32.363681', '0.394968', '0.000000'])]), OrderedDict([('Coordinate', ['32.363681', '0.394968', '3.400000'])]), OrderedDict([('Coordinate', ['32.363681', '2.205237', '3.400000'])])])]), OrderedDict([('CartesianPoint', [OrderedDict([('Coordinate', ['33.243681', '2.205237', '3.400000'])]), OrderedDict([('Coordinate', ['33.243681', '0.394968', '3.400000'])]), OrderedDict([('Coordinate', ['33.243681', '0.394968', '0.000000'])]), OrderedDict([('Coordinate', ['33.243681', '2.205237', '0.000000'])])])])])]))])",
         "SpaceBoundary": "[OrderedDict([('@isSecondLevelBoundary', 'true'), ('@surfaceIdRef', 'surface-55'), ('PlanarGeometry', OrderedDict([('PolyLoop', OrderedDict([('CartesianPoint', [OrderedDict([('Coordinate', ['33.243681', '2.205237', '-0.000000'])]), OrderedDict([('Coordinate', ['32.363681', '2.205237', '-0.000000'])]), OrderedDict([('Coordinate', ['32.363681', '2.205237', '3.400000'])]), OrderedDict([('Coordinate', ['33.243681', '2.205237', '3.400000'])])])]))]))]), OrderedDict([('@isSecondLevelBoundary', 'true'), ('@surfaceIdRef', 'surface-74'), ('PlanarGeometry', OrderedDict([('PolyLoop', OrderedDict([('CartesianPoint', [OrderedDict([('Coordinate', ['32.363681', '2.205237', '0.000000'])]), OrderedDict([('Coordinate', ['32.363681', '0.394968', '0.000000'])]), OrderedDict([('Coordinate', ['32.363681', '0.394968', '3.400000'])]), OrderedDict([('Coordinate', ['32.363681', '2.205237', '3.400000'])])])]))]))]), OrderedDict([('@isSecondLevelBoundary', 'true'), ('@surfaceIdRef', 'surface-75'), ('PlanarGeometry', OrderedDict([('PolyLoop', OrderedDict([('CartesianPoint', [OrderedDict([('Coordinate', ['32.363681', '0.394968', '0.000000'])]), OrderedDict([('Coordinate', ['33.243681', '0.394968', '0.000000'])]), OrderedDict([('Coordinate', ['33.243681', '0.394968', '3.400000'])]), OrderedDict([('Coordinate', ['32.363681', '0.394968', '3.400000'])])])]))]))]), OrderedDict([('@isSecondLevelBoundary', 'true'), ('@surfaceIdRef', 'surface-76'), ('PlanarGeometry', OrderedDict([('PolyLoop', OrderedDict([('CartesianPoint', [OrderedDict([('Coordinate', ['33.243681', '0.394968', '0.000000'])]), OrderedDict([('Coordinate', ['32.363681', '0.394968', '0.000000'])]), OrderedDict([('Coordinate', ['32.363681', '2.205237', '0.000000'])]), OrderedDict([('Coordinate', ['33.243681', '2.205237', '0.000000'])])])]))]))]), OrderedDict([('@isSecondLevelBoundary', 'true'), ('@surfaceIdRef', 'surface-77'), ('PlanarGeometry', OrderedDict([('PolyLoop', OrderedDict([('CartesianPoint', [OrderedDict([('Coordinate', ['33.243681', '2.205237', '3.400000'])]), OrderedDict([('Coordinate', ['32.363681', '2.205237', '3.400000'])]), OrderedDict([('Coordinate', ['32.363681', '1.671913', '3.400000'])]), OrderedDict([('Coordinate', ['32.815237', '1.670000', '3.400000'])]), OrderedDict([('Coordinate', ['33.243681', '1.670000', '3.400000'])])])]))]))]), OrderedDict([('@isSecondLevelBoundary', 'true'), ('@surfaceIdRef', 'surface-78'), ('PlanarGeometry', OrderedDict([('PolyLoop', OrderedDict([('CartesianPoint', [OrderedDict([('Coordinate', ['33.243681', '1.670000', '3.400000'])]), OrderedDict([('Coordinate', ['32.815237', '1.670000', '3.400000'])]), OrderedDict([('Coordinate', ['32.821140', '0.394968', '3.400000'])]), OrderedDict([('Coordinate', ['33.243681', '0.394968', '3.400000'])])])]))]))]), OrderedDict([('@isSecondLevelBoundary', 'true'), ('@surfaceIdRef', 'surface-79'), ('PlanarGeometry', OrderedDict([('PolyLoop', OrderedDict([('CartesianPoint', [OrderedDict([('Coordinate', ['32.363681', '1.671913', '3.400000'])]), OrderedDict([('Coordinate', ['32.363681', '0.394968', '3.400000'])]), OrderedDict([('Coordinate', ['32.821140', '0.394968', '3.400000'])]), OrderedDict([('Coordinate', ['32.815237', '1.670000', '3.400000'])])])]))]))]), OrderedDict([('@isSecondLevelBoundary', 'true'), ('@surfaceIdRef', 'surface-80'), ('PlanarGeometry', OrderedDict([('PolyLoop', OrderedDict([('CartesianPoint', [OrderedDict([('Coordinate', ['33.243681', '2.205237', '3.400000'])]), OrderedDict([('Coordinate', ['33.243681', '0.394968', '3.400000'])]), OrderedDict([('Coordinate', ['33.243681', '0.394968', '0.000000'])]), OrderedDict([('Coordinate', ['33.243681', '2.205237', '0.000000'])])])]))]))])]",
         "SpaceId": "R6",
         "SpaceType": "WCCubicle3",
         "TM46Category": 3,
         "TypeCode": 0,
         "Volume": 5.416325,
         "id": "105_LiveseyExchange_heatpump-normal-fabric, B_00_03_R6_WCCubicle3",
         "index": 11,
         "model": "105_LiveseyExchange_heatpump-normal-fabric"
        },
        {
         "@buildingStoreyIdRef": "STOREY_1",
         "@conditionType": "HeatedAndCooled",
         "@id": "TR000008",
         "@zoneIdRef": "ZONE_2",
         "Area": 2.299042,
         "BlockCode": "B",
         "CADObjectId": "TR000008",
         "Level": 0,
         "Name": "B_00_03_R6_WCBabyChange",
         "ShellGeometry": "OrderedDict([('@id', 'TR000008-shellgeometry'), ('ClosedShell', OrderedDict([('PolyLoop', [OrderedDict([('CartesianPoint', [OrderedDict([('Coordinate', ['34.163681', '0.394968', '0.000000'])]), OrderedDict([('Coordinate', ['35.433681', '0.394968', '0.000000'])]), OrderedDict([('Coordinate', ['35.433681', '0.394968', '3.400000'])]), OrderedDict([('Coordinate', ['34.163681', '0.394968', '3.400000'])])])]), OrderedDict([('CartesianPoint', [OrderedDict([('Coordinate', ['35.433681', '0.394968', '0.000000'])]), OrderedDict([('Coordinate', ['34.163681', '0.394968', '0.000000'])]), OrderedDict([('Coordinate', ['34.163681', '2.205237', '0.000000'])]), OrderedDict([('Coordinate', ['35.433681', '2.205237', '0.000000'])])])]), OrderedDict([('CartesianPoint', [OrderedDict([('Coordinate', ['35.433681', '2.205237', '3.400000'])]), OrderedDict([('Coordinate', ['34.163681', '2.205237', '3.400000'])]), OrderedDict([('Coordinate', ['34.163681', '0.394968', '3.400000'])]), OrderedDict([('Coordinate', ['35.433681', '0.394968', '3.400000'])])])]), OrderedDict([('CartesianPoint', [OrderedDict([('Coordinate', ['35.433681', '2.205237', '0.000000'])]), OrderedDict([('Coordinate', ['34.163681', '2.205237', '0.000000'])]), OrderedDict([('Coordinate', ['34.163681', '2.205237', '3.400000'])]), OrderedDict([('Coordinate', ['35.433681', '2.205237', '3.400000'])])])]), OrderedDict([('CartesianPoint', [OrderedDict([('Coordinate', ['35.433681', '0.394968', '0.000000'])]), OrderedDict([('Coordinate', ['35.433681', '2.205237', '0.000000'])]), OrderedDict([('Coordinate', ['35.433681', '2.205237', '3.400000'])]), OrderedDict([('Coordinate', ['35.433681', '0.394968', '3.400000'])])])]), OrderedDict([('CartesianPoint', [OrderedDict([('Coordinate', ['34.163681', '2.205237', '0.000000'])]), OrderedDict([('Coordinate', ['34.163681', '0.394968', '0.000000'])]), OrderedDict([('Coordinate', ['34.163681', '0.394968', '3.400000'])]), OrderedDict([('Coordinate', ['34.163681', '2.205237', '3.400000'])])])])])]))])",
         "SpaceBoundary": "[OrderedDict([('@isSecondLevelBoundary', 'true'), ('@surfaceIdRef', 'surface-56'), ('PlanarGeometry', OrderedDict([('PolyLoop', OrderedDict([('CartesianPoint', [OrderedDict([('Coordinate', ['35.433681', '2.205237', '-0.000000'])]), OrderedDict([('Coordinate', ['34.163681', '2.205237', '-0.000000'])]), OrderedDict([('Coordinate', ['34.163681', '2.205237', '3.400000'])]), OrderedDict([('Coordinate', ['35.433681', '2.205237', '3.400000'])])])]))]))]), OrderedDict([('@isSecondLevelBoundary', 'true'), ('@surfaceIdRef', 'surface-64'), ('PlanarGeometry', OrderedDict([('PolyLoop', OrderedDict([('CartesianPoint', [OrderedDict([('Coordinate', ['35.433681', '0.394968', '-0.000000'])]), OrderedDict([('Coordinate', ['35.433681', '2.205237', '-0.000000'])]), OrderedDict([('Coordinate', ['35.433681', '2.205237', '3.400000'])]), OrderedDict([('Coordinate', ['35.433681', '0.394968', '3.400000'])])])]))]))]), OrderedDict([('@isSecondLevelBoundary', 'true'), ('@surfaceIdRef', 'surface-81'), ('PlanarGeometry', OrderedDict([('PolyLoop', OrderedDict([('CartesianPoint', [OrderedDict([('Coordinate', ['34.163681', '0.394968', '0.000000'])]), OrderedDict([('Coordinate', ['35.433681', '0.394968', '0.000000'])]), OrderedDict([('Coordinate', ['35.433681', '0.394968', '3.400000'])]), OrderedDict([('Coordinate', ['34.163681', '0.394968', '3.400000'])])])]))]))]), OrderedDict([('@isSecondLevelBoundary', 'true'), ('@surfaceIdRef', 'surface-82'), ('PlanarGeometry', OrderedDict([('PolyLoop', OrderedDict([('CartesianPoint', [OrderedDict([('Coordinate', ['35.433681', '0.394968', '0.000000'])]), OrderedDict([('Coordinate', ['34.163681', '0.394968', '0.000000'])]), OrderedDict([('Coordinate', ['34.163681', '2.205237', '0.000000'])]), OrderedDict([('Coordinate', ['35.433681', '2.205237', '0.000000'])])])]))]))]), OrderedDict([('@isSecondLevelBoundary', 'true'), ('@surfaceIdRef', 'surface-83'), ('PlanarGeometry', OrderedDict([('PolyLoop', OrderedDict([('CartesianPoint', [OrderedDict([('Coordinate', ['35.433681', '2.205237', '3.400000'])]), OrderedDict([('Coordinate', ['34.163681', '2.205237', '3.400000'])]), OrderedDict([('Coordinate', ['34.163681', '0.394968', '3.400000'])]), OrderedDict([('Coordinate', ['35.433681', '0.394968', '3.400000'])])])]))]))]), OrderedDict([('@isSecondLevelBoundary', 'true'), ('@surfaceIdRef', 'surface-84'), ('PlanarGeometry', OrderedDict([('PolyLoop', OrderedDict([('CartesianPoint', [OrderedDict([('Coordinate', ['34.163681', '0.394968', '3.400000'])]), OrderedDict([('Coordinate', ['34.163681', '2.205237', '3.400000'])]), OrderedDict([('Coordinate', ['34.163681', '2.205237', '-0.000000'])]), OrderedDict([('Coordinate', ['34.163681', '0.394968', '-0.000000'])])])]))]))])]",
         "SpaceId": "R6",
         "SpaceType": "WCBabyChange",
         "TM46Category": 3,
         "TypeCode": 0,
         "Volume": 7.816742,
         "id": "105_LiveseyExchange_heatpump-normal-fabric, B_00_03_R6_WCBabyChange",
         "index": 12,
         "model": "105_LiveseyExchange_heatpump-normal-fabric"
        },
        {
         "@buildingStoreyIdRef": "STOREY_1",
         "@conditionType": "HeatedAndCooled",
         "@id": "TR00000E",
         "@zoneIdRef": "ZONE_2",
         "Area": 1.665447,
         "BlockCode": "B",
         "CADObjectId": "TR00000E",
         "Level": 0,
         "Name": "B_00_03_R6_WCCubicle4",
         "ShellGeometry": "OrderedDict([('@id', 'TR00000E-shellgeometry'), ('ClosedShell', OrderedDict([('PolyLoop', [OrderedDict([('CartesianPoint', [OrderedDict([('Coordinate', ['33.243681', '0.394968', '0.000000'])]), OrderedDict([('Coordinate', ['34.163681', '0.394968', '0.000000'])]), OrderedDict([('Coordinate', ['34.163681', '0.394968', '3.400000'])]), OrderedDict([('Coordinate', ['33.243681', '0.394968', '3.400000'])])])]), OrderedDict([('CartesianPoint', [OrderedDict([('Coordinate', ['34.163681', '0.394968', '0.000000'])]), OrderedDict([('Coordinate', ['33.243681', '0.394968', '0.000000'])]), OrderedDict([('Coordinate', ['33.243681', '2.205237', '0.000000'])]), OrderedDict([('Coordinate', ['34.163681', '2.205237', '0.000000'])])])]), OrderedDict([('CartesianPoint', [OrderedDict([('Coordinate', ['34.163681', '2.205237', '3.400000'])]), OrderedDict([('Coordinate', ['33.243681', '2.205237', '3.400000'])]), OrderedDict([('Coordinate', ['33.243681', '0.394968', '3.400000'])]), OrderedDict([('Coordinate', ['34.163681', '0.394968', '3.400000'])])])]), OrderedDict([('CartesianPoint', [OrderedDict([('Coordinate', ['34.163681', '2.205237', '0.000000'])]), OrderedDict([('Coordinate', ['33.243681', '2.205237', '0.000000'])]), OrderedDict([('Coordinate', ['33.243681', '2.205237', '3.400000'])]), OrderedDict([('Coordinate', ['34.163681', '2.205237', '3.400000'])])])]), OrderedDict([('CartesianPoint', [OrderedDict([('Coordinate', ['33.243681', '2.205237', '0.000000'])]), OrderedDict([('Coordinate', ['33.243681', '0.394968', '0.000000'])]), OrderedDict([('Coordinate', ['33.243681', '0.394968', '3.400000'])]), OrderedDict([('Coordinate', ['33.243681', '2.205237', '3.400000'])])])]), OrderedDict([('CartesianPoint', [OrderedDict([('Coordinate', ['34.163681', '2.205237', '3.400000'])]), OrderedDict([('Coordinate', ['34.163681', '0.394968', '3.400000'])]), OrderedDict([('Coordinate', ['34.163681', '0.394968', '0.000000'])]), OrderedDict([('Coordinate', ['34.163681', '2.205237', '0.000000'])])])])])]))])",
         "SpaceBoundary": "[OrderedDict([('@isSecondLevelBoundary', 'true'), ('@surfaceIdRef', 'surface-57'), ('PlanarGeometry', OrderedDict([('PolyLoop', OrderedDict([('CartesianPoint', [OrderedDict([('Coordinate', ['34.163681', '2.205237', '-0.000000'])]), OrderedDict([('Coordinate', ['33.243681', '2.205237', '-0.000000'])]), OrderedDict([('Coordinate', ['33.243681', '2.205237', '3.400000'])]), OrderedDict([('Coordinate', ['34.163681', '2.205237', '3.400000'])])])]))]))]), OrderedDict([('@isSecondLevelBoundary', 'true'), ('@surfaceIdRef', 'surface-80'), ('PlanarGeometry', OrderedDict([('PolyLoop', OrderedDict([('CartesianPoint', [OrderedDict([('Coordinate', ['33.243681', '2.205237', '0.000000'])]), OrderedDict([('Coordinate', ['33.243681', '0.394968', '0.000000'])]), OrderedDict([('Coordinate', ['33.243681', '0.394968', '3.400000'])]), OrderedDict([('Coordinate', ['33.243681', '2.205237', '3.400000'])])])]))]))]), OrderedDict([('@isSecondLevelBoundary', 'true'), ('@surfaceIdRef', 'surface-84'), ('PlanarGeometry', OrderedDict([('PolyLoop', OrderedDict([('CartesianPoint', [OrderedDict([('Coordinate', ['34.163681', '0.394968', '-0.000000'])]), OrderedDict([('Coordinate', ['34.163681', '2.205237', '-0.000000'])]), OrderedDict([('Coordinate', ['34.163681', '2.205237', '3.400000'])]), OrderedDict([('Coordinate', ['34.163681', '0.394968', '3.400000'])])])]))]))]), OrderedDict([('@isSecondLevelBoundary', 'true'), ('@surfaceIdRef', 'surface-85'), ('PlanarGeometry', OrderedDict([('PolyLoop', OrderedDict([('CartesianPoint', [OrderedDict([('Coordinate', ['33.243681', '0.394968', '0.000000'])]), OrderedDict([('Coordinate', ['34.163681', '0.394968', '0.000000'])]), OrderedDict([('Coordinate', ['34.163681', '0.394968', '3.400000'])]), OrderedDict([('Coordinate', ['33.243681', '0.394968', '3.400000'])])])]))]))]), OrderedDict([('@isSecondLevelBoundary', 'true'), ('@surfaceIdRef', 'surface-86'), ('PlanarGeometry', OrderedDict([('PolyLoop', OrderedDict([('CartesianPoint', [OrderedDict([('Coordinate', ['34.163681', '0.394968', '0.000000'])]), OrderedDict([('Coordinate', ['33.243681', '0.394968', '0.000000'])]), OrderedDict([('Coordinate', ['33.243681', '2.205237', '0.000000'])]), OrderedDict([('Coordinate', ['34.163681', '2.205237', '0.000000'])])])]))]))]), OrderedDict([('@isSecondLevelBoundary', 'true'), ('@surfaceIdRef', 'surface-87'), ('PlanarGeometry', OrderedDict([('PolyLoop', OrderedDict([('CartesianPoint', [OrderedDict([('Coordinate', ['33.715237', '2.205237', '3.400000'])]), OrderedDict([('Coordinate', ['33.243681', '2.205237', '3.400000'])]), OrderedDict([('Coordinate', ['33.243681', '1.670000', '3.400000'])]), OrderedDict([('Coordinate', ['33.715237', '1.670000', '3.400000'])])])]))]))]), OrderedDict([('@isSecondLevelBoundary', 'true'), ('@surfaceIdRef', 'surface-88'), ('PlanarGeometry', OrderedDict([('PolyLoop', OrderedDict([('CartesianPoint', [OrderedDict([('Coordinate', ['34.163681', '2.205237', '3.400000'])]), OrderedDict([('Coordinate', ['33.715237', '2.205237', '3.400000'])]), OrderedDict([('Coordinate', ['33.715237', '1.670000', '3.400000'])]), OrderedDict([('Coordinate', ['33.243681', '1.670000', '3.400000'])]), OrderedDict([('Coordinate', ['33.243681', '0.394968', '3.400000'])]), OrderedDict([('Coordinate', ['34.163681', '0.394968', '3.400000'])])])]))]))])]",
         "SpaceId": "R6",
         "SpaceType": "WCCubicle4",
         "TM46Category": 3,
         "TypeCode": 0,
         "Volume": 5.662521,
         "id": "105_LiveseyExchange_heatpump-normal-fabric, B_00_03_R6_WCCubicle4",
         "index": 13,
         "model": "105_LiveseyExchange_heatpump-normal-fabric"
        },
        {
         "@buildingStoreyIdRef": "STOREY_1",
         "@conditionType": "HeatedAndCooled",
         "@id": "TR000007",
         "@zoneIdRef": "ZONE_2",
         "Area": 7.4862,
         "BlockCode": "B",
         "CADObjectId": "TR000007",
         "Level": 1,
         "Name": "B_01_04_R14_Store",
         "ShellGeometry": "OrderedDict([('@id', 'TR000007-shellgeometry'), ('ClosedShell', OrderedDict([('PolyLoop', [OrderedDict([('CartesianPoint', [OrderedDict([('Coordinate', ['33.715237', '1.670000', '3.400000'])]), OrderedDict([('Coordinate', ['32.815237', '1.670000', '3.400000'])]), OrderedDict([('Coordinate', ['30.455237', '1.680000', '3.400000'])]), OrderedDict([('Coordinate', ['30.455237', '3.970000', '3.400000'])]), OrderedDict([('Coordinate', ['33.715237', '3.970000', '3.400000'])])])]), OrderedDict([('CartesianPoint', [OrderedDict([('Coordinate', ['33.715237', '3.970000', '6.800000'])]), OrderedDict([('Coordinate', ['30.455237', '3.970000', '6.800000'])]), OrderedDict([('Coordinate', ['30.455237', '1.680000', '6.800000'])]), OrderedDict([('Coordinate', ['32.815237', '1.670000', '6.800000'])]), OrderedDict([('Coordinate', ['33.715237', '1.670000', '6.800000'])])])]), OrderedDict([('CartesianPoint', [OrderedDict([('Coordinate', ['33.715237', '3.970000', '3.400000'])]), OrderedDict([('Coordinate', ['30.455237', '3.970000', '3.400000'])]), OrderedDict([('Coordinate', ['30.455237', '3.970000', '6.800000'])]), OrderedDict([('Coordinate', ['33.715237', '3.970000', '6.800000'])])])]), OrderedDict([('CartesianPoint', [OrderedDict([('Coordinate', ['30.455237', '1.680000', '3.400000'])]), OrderedDict([('Coordinate', ['32.815237', '1.670000', '3.400000'])]), OrderedDict([('Coordinate', ['32.815237', '1.670000', '6.800000'])]), OrderedDict([('Coordinate', ['30.455237', '1.680000', '6.800000'])])])]), OrderedDict([('CartesianPoint', [OrderedDict([('Coordinate', ['30.455237', '3.970000', '3.400000'])]), OrderedDict([('Coordinate', ['30.455237', '1.680000', '3.400000'])]), OrderedDict([('Coordinate', ['30.455237', '1.680000', '6.800000'])]), OrderedDict([('Coordinate', ['30.455237', '3.970000', '6.800000'])])])]), OrderedDict([('CartesianPoint', [OrderedDict([('Coordinate', ['33.715237', '1.670000', '3.400000'])]), OrderedDict([('Coordinate', ['33.715237', '3.970000', '3.400000'])]), OrderedDict([('Coordinate', ['33.715237', '3.970000', '6.800000'])]), OrderedDict([('Coordinate', ['33.715237', '1.670000', '6.800000'])])])]), OrderedDict([('CartesianPoint', [OrderedDict([('Coordinate', ['32.815237', '1.670000', '3.400000'])]), OrderedDict([('Coordinate', ['33.715237', '1.670000', '3.400000'])]), OrderedDict([('Coordinate', ['33.715237', '1.670000', '6.800000'])]), OrderedDict([('Coordinate', ['32.815237', '1.670000', '6.800000'])])])])])]))])",
         "SpaceBoundary": "[OrderedDict([('@isSecondLevelBoundary', 'true'), ('@surfaceIdRef', 'surface-8'), ('PlanarGeometry', OrderedDict([('PolyLoop', OrderedDict([('CartesianPoint', [OrderedDict([('Coordinate', ['33.715237', '3.969988', '3.400000'])]), OrderedDict([('Coordinate', ['30.455237', '3.969988', '3.400000'])]), OrderedDict([('Coordinate', ['30.455237', '3.970000', '3.400000'])]), OrderedDict([('Coordinate', ['33.715237', '3.970000', '3.400000'])])])]))]))]), OrderedDict([('@isSecondLevelBoundary', 'true'), ('@surfaceIdRef', 'surface-23'), ('PlanarGeometry', OrderedDict([('PolyLoop', OrderedDict([('CartesianPoint', [OrderedDict([('Coordinate', ['30.493681', '1.679837', '3.400000'])]), OrderedDict([('Coordinate', ['30.455237', '1.680000', '3.400000'])]), OrderedDict([('Coordinate', ['30.455237', '2.205237', '3.400000'])]), OrderedDict([('Coordinate', ['30.493681', '2.205237', '3.400000'])])])]))]))]), OrderedDict([('@isSecondLevelBoundary', 'true'), ('@surfaceIdRef', 'surface-50'), ('PlanarGeometry', OrderedDict([('PolyLoop', OrderedDict([('CartesianPoint', [OrderedDict([('Coordinate', ['33.715237', '2.205237', '3.400000'])]), OrderedDict([('Coordinate', ['30.493681', '2.205237', '3.400000'])]), OrderedDict([('Coordinate', ['30.493681', '3.969988', '3.400000'])]), OrderedDict([('Coordinate', ['33.715237', '3.969988', '3.400000'])])])]))]))]), OrderedDict([('@isSecondLevelBoundary', 'true'), ('@surfaceIdRef', 'surface-67'), ('PlanarGeometry', OrderedDict([('PolyLoop', OrderedDict([('CartesianPoint', [OrderedDict([('Coordinate', ['31.483681', '1.675642', '3.400000'])]), OrderedDict([('Coordinate', ['30.493681', '1.679837', '3.400000'])]), OrderedDict([('Coordinate', ['30.493681', '2.205237', '3.400000'])]), OrderedDict([('Coordinate', ['31.483681', '2.205237', '3.400000'])])])]))]))]), OrderedDict([('@isSecondLevelBoundary', 'true'), ('@surfaceIdRef', 'surface-72'), ('PlanarGeometry', OrderedDict([('PolyLoop', OrderedDict([('CartesianPoint', [OrderedDict([('Coordinate', ['32.363681', '1.671913', '3.400000'])]), OrderedDict([('Coordinate', ['31.483681', '1.675642', '3.400000'])]), OrderedDict([('Coordinate', ['31.483681', '2.205237', '3.400000'])]), OrderedDict([('Coordinate', ['32.363681', '2.205237', '3.400000'])])])]))]))]), OrderedDict([('@isSecondLevelBoundary', 'true'), ('@surfaceIdRef', 'surface-77'), ('PlanarGeometry', OrderedDict([('PolyLoop', OrderedDict([('CartesianPoint', [OrderedDict([('Coordinate', ['33.243681', '1.670000', '3.400000'])]), OrderedDict([('Coordinate', ['32.815237', '1.670000', '3.400000'])]), OrderedDict([('Coordinate', ['32.363681', '1.671913', '3.400000'])]), OrderedDict([('Coordinate', ['32.363681', '2.205237', '3.400000'])]), OrderedDict([('Coordinate', ['33.243681', '2.205237', '3.400000'])])])]))]))]), OrderedDict([('@isSecondLevelBoundary', 'true'), ('@surfaceIdRef', 'surface-87'), ('PlanarGeometry', OrderedDict([('PolyLoop', OrderedDict([('CartesianPoint', [OrderedDict([('Coordinate', ['33.715237', '1.670000', '3.400000'])]), OrderedDict([('Coordinate', ['33.243681', '1.670000', '3.400000'])]), OrderedDict([('Coordinate', ['33.243681', '2.205237', '3.400000'])]), OrderedDict([('Coordinate', ['33.715237', '2.205237', '3.400000'])])])]))]))]), OrderedDict([('@isSecondLevelBoundary', 'true'), ('@surfaceIdRef', 'surface-89'), ('PlanarGeometry', OrderedDict([('PolyLoop', OrderedDict([('CartesianPoint', [OrderedDict([('Coordinate', ['30.493681', '3.969988', '3.400000'])]), OrderedDict([('Coordinate', ['30.493681', '2.205237', '3.400000'])]), OrderedDict([('Coordinate', ['30.455237', '2.205237', '3.400000'])]), OrderedDict([('Coordinate', ['30.455237', '3.970000', '3.400000'])])])]))]))]), OrderedDict([('@isSecondLevelBoundary', 'true'), ('@surfaceIdRef', 'surface-90'), ('PlanarGeometry', OrderedDict([('PolyLoop', OrderedDict([('CartesianPoint', [OrderedDict([('Coordinate', ['33.715237', '3.970000', '6.800000'])]), OrderedDict([('Coordinate', ['30.455237', '3.970000', '6.800000'])]), OrderedDict([('Coordinate', ['30.455237', '1.680000', '6.800000'])]), OrderedDict([('Coordinate', ['32.815237', '1.670000', '6.800000'])]), OrderedDict([('Coordinate', ['33.715237', '1.670000', '6.800000'])])])]))]))]), OrderedDict([('@isSecondLevelBoundary', 'true'), ('@surfaceIdRef', 'surface-91'), ('PlanarGeometry', OrderedDict([('PolyLoop', OrderedDict([('CartesianPoint', [OrderedDict([('Coordinate', ['30.455237', '3.970000', '6.800000'])]), OrderedDict([('Coordinate', ['33.715237', '3.970000', '6.800000'])]), OrderedDict([('Coordinate', ['33.715237', '3.970000', '3.400000'])]), OrderedDict([('Coordinate', ['30.455237', '3.970000', '3.400000'])])])]))]))]), OrderedDict([('@isSecondLevelBoundary', 'true'), ('@surfaceIdRef', 'surface-92'), ('PlanarGeometry', OrderedDict([('PolyLoop', OrderedDict([('CartesianPoint', [OrderedDict([('Coordinate', ['32.815237', '1.670000', '6.800000'])]), OrderedDict([('Coordinate', ['30.455237', '1.680000', '6.800000'])]), OrderedDict([('Coordinate', ['30.455237', '1.680000', '3.400000'])]), OrderedDict([('Coordinate', ['32.815237', '1.670000', '3.400000'])])])]))]))]), OrderedDict([('@isSecondLevelBoundary', 'true'), ('@surfaceIdRef', 'surface-93'), ('PlanarGeometry', OrderedDict([('PolyLoop', OrderedDict([('CartesianPoint', [OrderedDict([('Coordinate', ['30.455237', '1.680000', '6.800000'])]), OrderedDict([('Coordinate', ['30.455237', '3.970000', '6.800000'])]), OrderedDict([('Coordinate', ['30.455237', '3.970000', '3.400000'])]), OrderedDict([('Coordinate', ['30.455237', '1.680000', '3.400000'])])])]))]))]), OrderedDict([('@isSecondLevelBoundary', 'true'), ('@surfaceIdRef', 'surface-94'), ('PlanarGeometry', OrderedDict([('PolyLoop', OrderedDict([('CartesianPoint', [OrderedDict([('Coordinate', ['33.715237', '3.970000', '6.800000'])]), OrderedDict([('Coordinate', ['33.715237', '3.428000', '6.800000'])]), OrderedDict([('Coordinate', ['33.715237', '3.428000', '3.400000'])]), OrderedDict([('Coordinate', ['33.715237', '3.970000', '3.400000'])])])]))]))]), OrderedDict([('@isSecondLevelBoundary', 'true'), ('@surfaceIdRef', 'surface-95'), ('PlanarGeometry', OrderedDict([('PolyLoop', OrderedDict([('CartesianPoint', [OrderedDict([('Coordinate', ['33.715237', '3.428000', '6.800000'])]), OrderedDict([('Coordinate', ['33.715237', '1.670000', '6.800000'])]), OrderedDict([('Coordinate', ['33.715237', '1.670000', '3.400000'])]), OrderedDict([('Coordinate', ['33.715237', '3.428000', '3.400000'])])])]))]))]), OrderedDict([('@isSecondLevelBoundary', 'true'), ('@surfaceIdRef', 'surface-96'), ('PlanarGeometry', OrderedDict([('PolyLoop', OrderedDict([('CartesianPoint', [OrderedDict([('Coordinate', ['33.715237', '1.670000', '6.800000'])]), OrderedDict([('Coordinate', ['32.815237', '1.670000', '6.800000'])]), OrderedDict([('Coordinate', ['32.815237', '1.670000', '3.400000'])]), OrderedDict([('Coordinate', ['33.715237', '1.670000', '3.400000'])])])]))]))])]",
         "SpaceId": "R14",
         "SpaceType": "Store",
         "TM46Category": 4,
         "TypeCode": 0,
         "Volume": 25.45308,
         "id": "105_LiveseyExchange_heatpump-normal-fabric, B_01_04_R14_Store",
         "index": 14,
         "model": "105_LiveseyExchange_heatpump-normal-fabric"
        },
        {
         "@buildingStoreyIdRef": "STOREY_1",
         "@conditionType": "HeatedAndCooled",
         "@id": "TR000011",
         "@zoneIdRef": "ZONE_2",
         "Area": 46.896719,
         "BlockCode": "B",
         "CADObjectId": "TR000011",
         "Level": 1,
         "Name": "B_01_02_R15_WorkRoom2",
         "ShellGeometry": "OrderedDict([('@id', 'TR000011-shellgeometry'), ('ClosedShell', OrderedDict([('PolyLoop', [OrderedDict([('CartesianPoint', [OrderedDict([('Coordinate', ['36.968681', '3.970000', '3.400000'])]), OrderedDict([('Coordinate', ['36.968681', '11.169988', '3.400000'])]), OrderedDict([('Coordinate', ['36.968681', '11.169988', '6.800000'])]), OrderedDict([('Coordinate', ['36.968681', '3.970000', '6.800000'])])])]), OrderedDict([('CartesianPoint', [OrderedDict([('Coordinate', ['36.968681', '11.169988', '3.400000'])]), OrderedDict([('Coordinate', ['30.455237', '11.169988', '3.400000'])]), OrderedDict([('Coordinate', ['30.455237', '11.169988', '6.800000'])]), OrderedDict([('Coordinate', ['36.968681', '11.169988', '6.800000'])])])]), OrderedDict([('CartesianPoint', [OrderedDict([('Coordinate', ['36.968681', '3.970000', '3.400000'])]), OrderedDict([('Coordinate', ['30.455237', '3.970000', '3.400000'])]), OrderedDict([('Coordinate', ['30.455237', '11.169988', '3.400000'])]), OrderedDict([('Coordinate', ['36.968681', '11.169988', '3.400000'])])])]), OrderedDict([('CartesianPoint', [OrderedDict([('Coordinate', ['36.968681', '11.169988', '6.800000'])]), OrderedDict([('Coordinate', ['30.455237', '11.169988', '6.800000'])]), OrderedDict([('Coordinate', ['30.455237', '3.970000', '6.800000'])]), OrderedDict([('Coordinate', ['36.968681', '3.970000', '6.800000'])])])]), OrderedDict([('CartesianPoint', [OrderedDict([('Coordinate', ['30.455237', '3.970000', '3.400000'])]), OrderedDict([('Coordinate', ['36.968681', '3.970000', '3.400000'])]), OrderedDict([('Coordinate', ['36.968681', '3.970000', '6.800000'])]), OrderedDict([('Coordinate', ['30.455237', '3.970000', '6.800000'])])])]), OrderedDict([('CartesianPoint', [OrderedDict([('Coordinate', ['30.455237', '3.970000', '6.800000'])]), OrderedDict([('Coordinate', ['30.455237', '11.169988', '6.800000'])]), OrderedDict([('Coordinate', ['30.455237', '11.169988', '3.400000'])]), OrderedDict([('Coordinate', ['30.455237', '3.970000', '3.400000'])])])])])]))])",
         "SpaceBoundary": "[OrderedDict([('@isSecondLevelBoundary', 'true'), ('@surfaceIdRef', 'surface-9'), ('PlanarGeometry', OrderedDict([('PolyLoop', OrderedDict([('CartesianPoint', [OrderedDict([('Coordinate', ['36.968681', '3.970000', '3.400000'])]), OrderedDict([('Coordinate', ['30.455237', '3.970000', '3.400000'])]), OrderedDict([('Coordinate', ['30.455237', '11.169988', '3.400000'])]), OrderedDict([('Coordinate', ['36.968681', '11.169988', '3.400000'])])])]))]))]), OrderedDict([('@isSecondLevelBoundary', 'true'), ('@surfaceIdRef', 'surface-20'), ('PlanarGeometry', OrderedDict([('PolyLoop', OrderedDict([('CartesianPoint', [OrderedDict([('Coordinate', ['36.968681', '11.169988', '3.400000'])]), OrderedDict([('Coordinate', ['30.455237', '11.169988', '3.400000'])]), OrderedDict([('Coordinate', ['30.455237', '11.169988', '6.800000'])]), OrderedDict([('Coordinate', ['36.968681', '11.169988', '6.800000'])])])]))]))]), OrderedDict([('@isSecondLevelBoundary', 'true'), ('@surfaceIdRef', 'surface-91'), ('PlanarGeometry', OrderedDict([('PolyLoop', OrderedDict([('CartesianPoint', [OrderedDict([('Coordinate', ['30.455237', '3.970000', '3.400000'])]), OrderedDict([('Coordinate', ['33.715237', '3.970000', '3.400000'])]), OrderedDict([('Coordinate', ['33.715237', '3.970000', '6.800000'])]), OrderedDict([('Coordinate', ['30.455237', '3.970000', '6.800000'])])])]))]))]), OrderedDict([('@isSecondLevelBoundary', 'true'), ('@surfaceIdRef', 'surface-97'), ('PlanarGeometry', OrderedDict([('PolyLoop', OrderedDict([('CartesianPoint', [OrderedDict([('Coordinate', ['36.968681', '3.970000', '3.400000'])]), OrderedDict([('Coordinate', ['36.968681', '11.169988', '3.400000'])]), OrderedDict([('Coordinate', ['36.968681', '11.169988', '6.800000'])]), OrderedDict([('Coordinate', ['36.968681', '3.970000', '6.800000'])])])]))]))]), OrderedDict([('@isSecondLevelBoundary', 'true'), ('@surfaceIdRef', 'surface-98'), ('PlanarGeometry', OrderedDict([('PolyLoop', OrderedDict([('CartesianPoint', [OrderedDict([('Coordinate', ['36.968681', '11.169988', '6.800000'])]), OrderedDict([('Coordinate', ['30.455237', '11.169988', '6.800000'])]), OrderedDict([('Coordinate', ['30.455237', '3.970000', '6.800000'])]), OrderedDict([('Coordinate', ['36.968681', '3.970000', '6.800000'])])])]))]))]), OrderedDict([('@isSecondLevelBoundary', 'true'), ('@surfaceIdRef', 'surface-99'), ('PlanarGeometry', OrderedDict([('PolyLoop', OrderedDict([('CartesianPoint', [OrderedDict([('Coordinate', ['36.968681', '3.970000', '6.800000'])]), OrderedDict([('Coordinate', ['33.715237', '3.970000', '6.800000'])]), OrderedDict([('Coordinate', ['33.715237', '3.970000', '3.400000'])]), OrderedDict([('Coordinate', ['36.968681', '3.970000', '3.400000'])])])]))]))]), OrderedDict([('@isSecondLevelBoundary', 'true'), ('@surfaceIdRef', 'surface-100'), ('PlanarGeometry', OrderedDict([('PolyLoop', OrderedDict([('CartesianPoint', [OrderedDict([('Coordinate', ['30.455237', '3.970000', '6.800000'])]), OrderedDict([('Coordinate', ['30.455237', '11.169988', '6.800000'])]), OrderedDict([('Coordinate', ['30.455237', '11.169988', '3.400000'])]), OrderedDict([('Coordinate', ['30.455237', '3.970000', '3.400000'])])])]))]))])]",
         "SpaceId": "R15",
         "SpaceType": "WorkRoom2",
         "TM46Category": 2,
         "TypeCode": 0,
         "Volume": 159.448843,
         "id": "105_LiveseyExchange_heatpump-normal-fabric, B_01_02_R15_WorkRoom2",
         "index": 15,
         "model": "105_LiveseyExchange_heatpump-normal-fabric"
        },
        {
         "@buildingStoreyIdRef": "STOREY_1",
         "@conditionType": "HeatedAndCooled",
         "@id": "TR000012",
         "@zoneIdRef": "ZONE_2",
         "Area": 16.620753,
         "BlockCode": "B",
         "CADObjectId": "TR000012",
         "Level": 1,
         "Name": "B_01_05_R12_Corridor",
         "ShellGeometry": "OrderedDict([('@id', 'TR000012-shellgeometry'), ('ClosedShell', OrderedDict([('PolyLoop', [OrderedDict([('CartesianPoint', [OrderedDict([('Coordinate', ['30.455237', '11.169988', '3.400000'])]), OrderedDict([('Coordinate', ['29.193419', '11.169988', '3.400000'])]), OrderedDict([('Coordinate', ['29.193419', '11.169988', '6.800000'])]), OrderedDict([('Coordinate', ['30.455237', '11.169988', '6.800000'])])])]), OrderedDict([('CartesianPoint', [OrderedDict([('Coordinate', ['29.193419', '0.394968', '3.400000'])]), OrderedDict([('Coordinate', ['32.821140', '0.394968', '3.400000'])]), OrderedDict([('Coordinate', ['32.821140', '0.394968', '6.800000'])]), OrderedDict([('Coordinate', ['29.193419', '0.394968', '6.800000'])])])]), OrderedDict([('CartesianPoint', [OrderedDict([('Coordinate', ['32.815237', '1.670000', '6.800000'])]), OrderedDict([('Coordinate', ['32.821140', '0.394968', '6.800000'])]), OrderedDict([('Coordinate', ['32.821140', '0.394968', '3.400000'])]), OrderedDict([('Coordinate', ['32.815237', '1.670000', '3.400000'])])])]), OrderedDict([('CartesianPoint', [OrderedDict([('Coordinate', ['30.455237', '1.680000', '6.800000'])]), OrderedDict([('Coordinate', ['32.815237', '1.670000', '6.800000'])]), OrderedDict([('Coordinate', ['32.815237', '1.670000', '3.400000'])]), OrderedDict([('Coordinate', ['30.455237', '1.680000', '3.400000'])])])]), OrderedDict([('CartesianPoint', [OrderedDict([('Coordinate', ['29.193419', '11.169988', '3.400000'])]), OrderedDict([('Coordinate', ['29.193419', '0.394968', '3.400000'])]), OrderedDict([('Coordinate', ['29.193419', '0.394968', '6.800000'])]), OrderedDict([('Coordinate', ['29.193419', '11.169988', '6.800000'])])])]), OrderedDict([('CartesianPoint', [OrderedDict([('Coordinate', ['30.455237', '1.680000', '3.400000'])]), OrderedDict([('Coordinate', ['32.815237', '1.670000', '3.400000'])]), OrderedDict([('Coordinate', ['32.821140', '0.394968', '3.400000'])]), OrderedDict([('Coordinate', ['29.193419', '0.394968', '3.400000'])]), OrderedDict([('Coordinate', ['29.193419', '11.169988', '3.400000'])]), OrderedDict([('Coordinate', ['30.455237', '11.169988', '3.400000'])])])]), OrderedDict([('CartesianPoint', [OrderedDict([('Coordinate', ['29.193419', '0.394968', '6.800000'])]), OrderedDict([('Coordinate', ['32.821140', '0.394968', '6.800000'])]), OrderedDict([('Coordinate', ['32.815237', '1.670000', '6.800000'])]), OrderedDict([('Coordinate', ['30.455237', '1.680000', '6.800000'])]), OrderedDict([('Coordinate', ['30.455237', '11.169988', '6.800000'])]), OrderedDict([('Coordinate', ['29.193419', '11.169988', '6.800000'])])])]), OrderedDict([('CartesianPoint', [OrderedDict([('Coordinate', ['30.455237', '1.680000', '3.400000'])]), OrderedDict([('Coordinate', ['30.455237', '11.169988', '3.400000'])]), OrderedDict([('Coordinate', ['30.455237', '11.169988', '6.800000'])]), OrderedDict([('Coordinate', ['30.455237', '1.680000', '6.800000'])])])])])]))])",
         "SpaceBoundary": "[OrderedDict([('@isSecondLevelBoundary', 'true'), ('@surfaceIdRef', 'surface-11'), ('PlanarGeometry', OrderedDict([('PolyLoop', OrderedDict([('CartesianPoint', [OrderedDict([('Coordinate', ['30.455237', '3.969988', '3.400000'])]), OrderedDict([('Coordinate', ['29.193419', '3.969988', '3.400000'])]), OrderedDict([('Coordinate', ['29.193419', '11.169988', '3.400000'])]), OrderedDict([('Coordinate', ['30.455237', '11.169988', '3.400000'])])])]))]))]), OrderedDict([('@isSecondLevelBoundary', 'true'), ('@surfaceIdRef', 'surface-21'), ('PlanarGeometry', OrderedDict([('PolyLoop', OrderedDict([('CartesianPoint', [OrderedDict([('Coordinate', ['30.455237', '11.169988', '3.400000'])]), OrderedDict([('Coordinate', ['29.193419', '11.169988', '3.400000'])]), OrderedDict([('Coordinate', ['29.193419', '11.169988', '6.800000'])]), OrderedDict([('Coordinate', ['30.455237', '11.169988', '6.800000'])])])]))]))]), OrderedDict([('@isSecondLevelBoundary', 'true'), ('@surfaceIdRef', 'surface-24'), ('PlanarGeometry', OrderedDict([('PolyLoop', OrderedDict([('CartesianPoint', [OrderedDict([('Coordinate', ['30.455237', '1.680000', '3.400000'])]), OrderedDict([('Coordinate', ['30.493681', '1.679837', '3.400000'])]), OrderedDict([('Coordinate', ['30.493681', '0.394968', '3.400000'])]), OrderedDict([('Coordinate', ['29.193419', '0.394968', '3.400000'])]), OrderedDict([('Coordinate', ['29.193419', '2.205237', '3.400000'])]), OrderedDict([('Coordinate', ['30.455237', '2.205237', '3.400000'])])])]))]))]), OrderedDict([('@isSecondLevelBoundary', 'true'), ('@surfaceIdRef', 'surface-68'), ('PlanarGeometry', OrderedDict([('PolyLoop', OrderedDict([('CartesianPoint', [OrderedDict([('Coordinate', ['31.483681', '1.675642', '3.400000'])]), OrderedDict([('Coordinate', ['31.483681', '0.394968', '3.400000'])]), OrderedDict([('Coordinate', ['30.493681', '0.394968', '3.400000'])]), OrderedDict([('Coordinate', ['30.493681', '1.679837', '3.400000'])])])]))]))]), OrderedDict([('@isSecondLevelBoundary', 'true'), ('@surfaceIdRef', 'surface-73'), ('PlanarGeometry', OrderedDict([('PolyLoop', OrderedDict([('CartesianPoint', [OrderedDict([('Coordinate', ['32.363681', '1.671913', '3.400000'])]), OrderedDict([('Coordinate', ['32.363681', '0.394968', '3.400000'])]), OrderedDict([('Coordinate', ['31.483681', '0.394968', '3.400000'])]), OrderedDict([('Coordinate', ['31.483681', '1.675642', '3.400000'])])])]))]))]), OrderedDict([('@isSecondLevelBoundary', 'true'), ('@surfaceIdRef', 'surface-79'), ('PlanarGeometry', OrderedDict([('PolyLoop', OrderedDict([('CartesianPoint', [OrderedDict([('Coordinate', ['32.815237', '1.670000', '3.400000'])]), OrderedDict([('Coordinate', ['32.821140', '0.394968', '3.400000'])]), OrderedDict([('Coordinate', ['32.363681', '0.394968', '3.400000'])]), OrderedDict([('Coordinate', ['32.363681', '1.671913', '3.400000'])])])]))]))]), OrderedDict([('@isSecondLevelBoundary', 'true'), ('@surfaceIdRef', 'surface-92'), ('PlanarGeometry', OrderedDict([('PolyLoop', OrderedDict([('CartesianPoint', [OrderedDict([('Coordinate', ['32.815237', '1.670000', '3.400000'])]), OrderedDict([('Coordinate', ['30.455237', '1.680000', '3.400000'])]), OrderedDict([('Coordinate', ['30.455237', '1.680000', '6.800000'])]), OrderedDict([('Coordinate', ['32.815237', '1.670000', '6.800000'])])])]))]))]), OrderedDict([('@isSecondLevelBoundary', 'true'), ('@surfaceIdRef', 'surface-93'), ('PlanarGeometry', OrderedDict([('PolyLoop', OrderedDict([('CartesianPoint', [OrderedDict([('Coordinate', ['30.455237', '1.680000', '3.400000'])]), OrderedDict([('Coordinate', ['30.455237', '3.970000', '3.400000'])]), OrderedDict([('Coordinate', ['30.455237', '3.970000', '6.800000'])]), OrderedDict([('Coordinate', ['30.455237', '1.680000', '6.800000'])])])]))]))]), OrderedDict([('@isSecondLevelBoundary', 'true'), ('@surfaceIdRef', 'surface-100'), ('PlanarGeometry', OrderedDict([('PolyLoop', OrderedDict([('CartesianPoint', [OrderedDict([('Coordinate', ['30.455237', '3.970000', '3.400000'])]), OrderedDict([('Coordinate', ['30.455237', '11.169988', '3.400000'])]), OrderedDict([('Coordinate', ['30.455237', '11.169988', '6.800000'])]), OrderedDict([('Coordinate', ['30.455237', '3.970000', '6.800000'])])])]))]))]), OrderedDict([('@isSecondLevelBoundary', 'true'), ('@surfaceIdRef', 'surface-101'), ('PlanarGeometry', OrderedDict([('PolyLoop', OrderedDict([('CartesianPoint', [OrderedDict([('Coordinate', ['29.193419', '0.394968', '3.400000'])]), OrderedDict([('Coordinate', ['32.821140', '0.394968', '3.400000'])]), OrderedDict([('Coordinate', ['32.821140', '0.394968', '6.800000'])]), OrderedDict([('Coordinate', ['29.193419', '0.394968', '6.800000'])])])]))]))]), OrderedDict([('@isSecondLevelBoundary', 'true'), ('@surfaceIdRef', 'surface-102'), ('PlanarGeometry', OrderedDict([('PolyLoop', OrderedDict([('CartesianPoint', [OrderedDict([('Coordinate', ['32.821140', '0.394968', '3.400000'])]), OrderedDict([('Coordinate', ['32.815237', '1.670000', '3.400000'])]), OrderedDict([('Coordinate', ['32.815237', '1.670000', '6.800000'])]), OrderedDict([('Coordinate', ['32.821140', '0.394968', '6.800000'])])])]))]))]), OrderedDict([('@isSecondLevelBoundary', 'true'), ('@surfaceIdRef', 'surface-103'), ('PlanarGeometry', OrderedDict([('PolyLoop', OrderedDict([('CartesianPoint', [OrderedDict([('Coordinate', ['29.193419', '11.169988', '3.400000'])]), OrderedDict([('Coordinate', ['29.193419', '0.394968', '3.400000'])]), OrderedDict([('Coordinate', ['29.193419', '0.394968', '6.800000'])]), OrderedDict([('Coordinate', ['29.193419', '11.169988', '6.800000'])])])]))]))]), OrderedDict([('@isSecondLevelBoundary', 'true'), ('@surfaceIdRef', 'surface-104'), ('PlanarGeometry', OrderedDict([('PolyLoop', OrderedDict([('CartesianPoint', [OrderedDict([('Coordinate', ['30.455237', '2.205237', '3.400000'])]), OrderedDict([('Coordinate', ['29.193419', '2.205237', '3.400000'])]), OrderedDict([('Coordinate', ['29.193419', '3.969988', '3.400000'])]), OrderedDict([('Coordinate', ['30.455237', '3.969988', '3.400000'])])])]))]))]), OrderedDict([('@isSecondLevelBoundary', 'true'), ('@surfaceIdRef', 'surface-105'), ('PlanarGeometry', OrderedDict([('PolyLoop', OrderedDict([('CartesianPoint', [OrderedDict([('Coordinate', ['29.193419', '0.394968', '6.800000'])]), OrderedDict([('Coordinate', ['32.821140', '0.394968', '6.800000'])]), OrderedDict([('Coordinate', ['32.815237', '1.670000', '6.800000'])]), OrderedDict([('Coordinate', ['30.455237', '1.680000', '6.800000'])]), OrderedDict([('Coordinate', ['30.455237', '11.169988', '6.800000'])]), OrderedDict([('Coordinate', ['29.193419', '11.169988', '6.800000'])])])]))]))])]",
         "SpaceId": "R12",
         "SpaceType": "Corridor",
         "TM46Category": 5,
         "TypeCode": 0,
         "Volume": 56.51056,
         "id": "105_LiveseyExchange_heatpump-normal-fabric, B_01_05_R12_Corridor",
         "index": 16,
         "model": "105_LiveseyExchange_heatpump-normal-fabric"
        },
        {
         "@buildingStoreyIdRef": "STOREY_1",
         "@conditionType": "HeatedAndCooled",
         "@id": "TR000010",
         "@zoneIdRef": "ZONE_2",
         "Area": 1.763367,
         "BlockCode": "B",
         "CADObjectId": "TR000010",
         "Level": 1,
         "Name": "B_01_06_XX_Riser",
         "ShellGeometry": "OrderedDict([('@id', 'TR000010-shellgeometry'), ('ClosedShell', OrderedDict([('PolyLoop', [OrderedDict([('CartesianPoint', [OrderedDict([('Coordinate', ['36.968681', '3.428000', '3.400000'])]), OrderedDict([('Coordinate', ['36.968681', '3.970000', '3.400000'])]), OrderedDict([('Coordinate', ['36.968681', '3.970000', '6.800000'])]), OrderedDict([('Coordinate', ['36.968681', '3.428000', '6.800000'])])])]), OrderedDict([('CartesianPoint', [OrderedDict([('Coordinate', ['36.968681', '3.428000', '3.400000'])]), OrderedDict([('Coordinate', ['33.715237', '3.428000', '3.400000'])]), OrderedDict([('Coordinate', ['33.715237', '3.970000', '3.400000'])]), OrderedDict([('Coordinate', ['36.968681', '3.970000', '3.400000'])])])]), OrderedDict([('CartesianPoint', [OrderedDict([('Coordinate', ['36.968681', '3.970000', '6.800000'])]), OrderedDict([('Coordinate', ['33.715237', '3.970000', '6.800000'])]), OrderedDict([('Coordinate', ['33.715237', '3.428000', '6.800000'])]), OrderedDict([('Coordinate', ['36.968681', '3.428000', '6.800000'])])])]), OrderedDict([('CartesianPoint', [OrderedDict([('Coordinate', ['36.968681', '3.970000', '3.400000'])]), OrderedDict([('Coordinate', ['33.715237', '3.970000', '3.400000'])]), OrderedDict([('Coordinate', ['33.715237', '3.970000', '6.800000'])]), OrderedDict([('Coordinate', ['36.968681', '3.970000', '6.800000'])])])]), OrderedDict([('CartesianPoint', [OrderedDict([('Coordinate', ['33.715237', '3.970000', '3.400000'])]), OrderedDict([('Coordinate', ['33.715237', '3.428000', '3.400000'])]), OrderedDict([('Coordinate', ['33.715237', '3.428000', '6.800000'])]), OrderedDict([('Coordinate', ['33.715237', '3.970000', '6.800000'])])])]), OrderedDict([('CartesianPoint', [OrderedDict([('Coordinate', ['33.715237', '3.428000', '3.400000'])]), OrderedDict([('Coordinate', ['36.968681', '3.428000', '3.400000'])]), OrderedDict([('Coordinate', ['36.968681', '3.428000', '6.800000'])]), OrderedDict([('Coordinate', ['33.715237', '3.428000', '6.800000'])])])])])]))])",
         "SpaceBoundary": "[OrderedDict([('@isSecondLevelBoundary', 'true'), ('@surfaceIdRef', 'surface-10'), ('PlanarGeometry', OrderedDict([('PolyLoop', OrderedDict([('CartesianPoint', [OrderedDict([('Coordinate', ['36.968681', '3.969988', '3.400000'])]), OrderedDict([('Coordinate', ['33.715237', '3.969988', '3.400000'])]), OrderedDict([('Coordinate', ['33.715237', '3.970000', '3.400000'])]), OrderedDict([('Coordinate', ['36.968681', '3.970000', '3.400000'])])])]))]))]), OrderedDict([('@isSecondLevelBoundary', 'true'), ('@surfaceIdRef', 'surface-51'), ('PlanarGeometry', OrderedDict([('PolyLoop', OrderedDict([('CartesianPoint', [OrderedDict([('Coordinate', ['36.968681', '3.428000', '3.400000'])]), OrderedDict([('Coordinate', ['33.715237', '3.428000', '3.400000'])]), OrderedDict([('Coordinate', ['33.715237', '3.969988', '3.400000'])]), OrderedDict([('Coordinate', ['36.968681', '3.969988', '3.400000'])])])]))]))]), OrderedDict([('@isSecondLevelBoundary', 'true'), ('@surfaceIdRef', 'surface-94'), ('PlanarGeometry', OrderedDict([('PolyLoop', OrderedDict([('CartesianPoint', [OrderedDict([('Coordinate', ['33.715237', '3.970000', '3.400000'])]), OrderedDict([('Coordinate', ['33.715237', '3.428000', '3.400000'])]), OrderedDict([('Coordinate', ['33.715237', '3.428000', '6.800000'])]), OrderedDict([('Coordinate', ['33.715237', '3.970000', '6.800000'])])])]))]))]), OrderedDict([('@isSecondLevelBoundary', 'true'), ('@surfaceIdRef', 'surface-99'), ('PlanarGeometry', OrderedDict([('PolyLoop', OrderedDict([('CartesianPoint', [OrderedDict([('Coordinate', ['36.968681', '3.970000', '3.400000'])]), OrderedDict([('Coordinate', ['33.715237', '3.970000', '3.400000'])]), OrderedDict([('Coordinate', ['33.715237', '3.970000', '6.800000'])]), OrderedDict([('Coordinate', ['36.968681', '3.970000', '6.800000'])])])]))]))]), OrderedDict([('@isSecondLevelBoundary', 'true'), ('@surfaceIdRef', 'surface-106'), ('PlanarGeometry', OrderedDict([('PolyLoop', OrderedDict([('CartesianPoint', [OrderedDict([('Coordinate', ['36.968681', '3.428000', '3.400000'])]), OrderedDict([('Coordinate', ['36.968681', '3.970000', '3.400000'])]), OrderedDict([('Coordinate', ['36.968681', '3.970000', '6.800000'])]), OrderedDict([('Coordinate', ['36.968681', '3.428000', '6.800000'])])])]))]))]), OrderedDict([('@isSecondLevelBoundary', 'true'), ('@surfaceIdRef', 'surface-107'), ('PlanarGeometry', OrderedDict([('PolyLoop', OrderedDict([('CartesianPoint', [OrderedDict([('Coordinate', ['36.968681', '3.970000', '6.800000'])]), OrderedDict([('Coordinate', ['33.715237', '3.970000', '6.800000'])]), OrderedDict([('Coordinate', ['33.715237', '3.428000', '6.800000'])]), OrderedDict([('Coordinate', ['36.968681', '3.428000', '6.800000'])])])]))]))]), OrderedDict([('@isSecondLevelBoundary', 'true'), ('@surfaceIdRef', 'surface-108'), ('PlanarGeometry', OrderedDict([('PolyLoop', OrderedDict([('CartesianPoint', [OrderedDict([('Coordinate', ['36.968681', '3.428000', '6.800000'])]), OrderedDict([('Coordinate', ['33.715237', '3.428000', '6.800000'])]), OrderedDict([('Coordinate', ['33.715237', '3.428000', '3.400000'])]), OrderedDict([('Coordinate', ['36.968681', '3.428000', '3.400000'])])])]))]))])]",
         "SpaceId": "XX",
         "SpaceType": "Riser",
         "TM46Category": 6,
         "TypeCode": 0,
         "Volume": 5.995447,
         "id": "105_LiveseyExchange_heatpump-normal-fabric, B_01_06_XX_Riser",
         "index": 17,
         "model": "105_LiveseyExchange_heatpump-normal-fabric"
        },
        {
         "@buildingStoreyIdRef": "STOREY_1",
         "@conditionType": "HeatedAndCooled",
         "@id": "B0000000",
         "@zoneIdRef": "ZONE_2",
         "Area": 11.011565,
         "BlockCode": "B",
         "CADObjectId": "B0000000",
         "Level": 1,
         "Name": "B_01_03_R13_WC/Shower",
         "ShellGeometry": "OrderedDict([('@id', 'B0000000-shellgeometry'), ('ClosedShell', OrderedDict([('PolyLoop', [OrderedDict([('CartesianPoint', [OrderedDict([('Coordinate', ['32.821140', '0.394968', '3.400000'])]), OrderedDict([('Coordinate', ['36.968681', '0.394968', '3.400000'])]), OrderedDict([('Coordinate', ['36.968681', '0.394968', '6.800000'])]), OrderedDict([('Coordinate', ['32.821140', '0.394968', '6.800000'])])])]), OrderedDict([('CartesianPoint', [OrderedDict([('Coordinate', ['36.968681', '0.394968', '3.400000'])]), OrderedDict([('Coordinate', ['36.968681', '3.428000', '3.400000'])]), OrderedDict([('Coordinate', ['36.968681', '3.428000', '6.800000'])]), OrderedDict([('Coordinate', ['36.968681', '0.394968', '6.800000'])])])]), OrderedDict([('CartesianPoint', [OrderedDict([('Coordinate', ['36.968681', '0.394968', '3.400000'])]), OrderedDict([('Coordinate', ['32.821140', '0.394968', '3.400000'])]), OrderedDict([('Coordinate', ['32.815237', '1.670000', '3.400000'])]), OrderedDict([('Coordinate', ['33.715237', '1.670000', '3.400000'])]), OrderedDict([('Coordinate', ['33.715237', '3.428000', '3.400000'])]), OrderedDict([('Coordinate', ['36.968681', '3.428000', '3.400000'])])])]), OrderedDict([('CartesianPoint', [OrderedDict([('Coordinate', ['36.968681', '3.428000', '6.800000'])]), OrderedDict([('Coordinate', ['33.715237', '3.428000', '6.800000'])]), OrderedDict([('Coordinate', ['33.715237', '1.670000', '6.800000'])]), OrderedDict([('Coordinate', ['32.815237', '1.670000', '6.800000'])]), OrderedDict([('Coordinate', ['32.821140', '0.394968', '6.800000'])]), OrderedDict([('Coordinate', ['36.968681', '0.394968', '6.800000'])])])]), OrderedDict([('CartesianPoint', [OrderedDict([('Coordinate', ['32.815237', '1.670000', '3.400000'])]), OrderedDict([('Coordinate', ['32.821140', '0.394968', '3.400000'])]), OrderedDict([('Coordinate', ['32.821140', '0.394968', '6.800000'])]), OrderedDict([('Coordinate', ['32.815237', '1.670000', '6.800000'])])])]), OrderedDict([('CartesianPoint', [OrderedDict([('Coordinate', ['33.715237', '3.428000', '3.400000'])]), OrderedDict([('Coordinate', ['33.715237', '1.670000', '3.400000'])]), OrderedDict([('Coordinate', ['33.715237', '1.670000', '6.800000'])]), OrderedDict([('Coordinate', ['33.715237', '3.428000', '6.800000'])])])]), OrderedDict([('CartesianPoint', [OrderedDict([('Coordinate', ['32.815237', '1.670000', '6.800000'])]), OrderedDict([('Coordinate', ['33.715237', '1.670000', '6.800000'])]), OrderedDict([('Coordinate', ['33.715237', '1.670000', '3.400000'])]), OrderedDict([('Coordinate', ['32.815237', '1.670000', '3.400000'])])])]), OrderedDict([('CartesianPoint', [OrderedDict([('Coordinate', ['33.715237', '3.428000', '6.800000'])]), OrderedDict([('Coordinate', ['36.968681', '3.428000', '6.800000'])]), OrderedDict([('Coordinate', ['36.968681', '3.428000', '3.400000'])]), OrderedDict([('Coordinate', ['33.715237', '3.428000', '3.400000'])])])])])]))])",
         "SpaceBoundary": "[OrderedDict([('@isSecondLevelBoundary', 'true'), ('@surfaceIdRef', 'surface-52'), ('PlanarGeometry', OrderedDict([('PolyLoop', OrderedDict([('CartesianPoint', [OrderedDict([('Coordinate', ['36.968681', '2.635237', '3.400000'])]), OrderedDict([('Coordinate', ['35.433681', '2.635237', '3.400000'])]), OrderedDict([('Coordinate', ['35.433681', '2.205237', '3.400000'])]), OrderedDict([('Coordinate', ['33.715237', '2.205237', '3.400000'])]), OrderedDict([('Coordinate', ['33.715237', '3.428000', '3.400000'])]), OrderedDict([('Coordinate', ['36.968681', '3.428000', '3.400000'])])])]))]))]), OrderedDict([('@isSecondLevelBoundary', 'true'), ('@surfaceIdRef', 'surface-63'), ('PlanarGeometry', OrderedDict([('PolyLoop', OrderedDict([('CartesianPoint', [OrderedDict([('Coordinate', ['36.968681', '0.394968', '3.400000'])]), OrderedDict([('Coordinate', ['35.433681', '0.394968', '3.400000'])]), OrderedDict([('Coordinate', ['35.433681', '2.635237', '3.400000'])]), OrderedDict([('Coordinate', ['36.968681', '2.635237', '3.400000'])])])]))]))]), OrderedDict([('@isSecondLevelBoundary', 'true'), ('@surfaceIdRef', 'surface-78'), ('PlanarGeometry', OrderedDict([('PolyLoop', OrderedDict([('CartesianPoint', [OrderedDict([('Coordinate', ['33.243681', '0.394968', '3.400000'])]), OrderedDict([('Coordinate', ['32.821140', '0.394968', '3.400000'])]), OrderedDict([('Coordinate', ['32.815237', '1.670000', '3.400000'])]), OrderedDict([('Coordinate', ['33.243681', '1.670000', '3.400000'])])])]))]))]), OrderedDict([('@isSecondLevelBoundary', 'true'), ('@surfaceIdRef', 'surface-83'), ('PlanarGeometry', OrderedDict([('PolyLoop', OrderedDict([('CartesianPoint', [OrderedDict([('Coordinate', ['35.433681', '0.394968', '3.400000'])]), OrderedDict([('Coordinate', ['34.163681', '0.394968', '3.400000'])]), OrderedDict([('Coordinate', ['34.163681', '2.205237', '3.400000'])]), OrderedDict([('Coordinate', ['35.433681', '2.205237', '3.400000'])])])]))]))]), OrderedDict([('@isSecondLevelBoundary', 'true'), ('@surfaceIdRef', 'surface-88'), ('PlanarGeometry', OrderedDict([('PolyLoop', OrderedDict([('CartesianPoint', [OrderedDict([('Coordinate', ['34.163681', '0.394968', '3.400000'])]), OrderedDict([('Coordinate', ['33.243681', '0.394968', '3.400000'])]), OrderedDict([('Coordinate', ['33.243681', '1.670000', '3.400000'])]), OrderedDict([('Coordinate', ['33.715237', '1.670000', '3.400000'])]), OrderedDict([('Coordinate', ['33.715237', '2.205237', '3.400000'])]), OrderedDict([('Coordinate', ['34.163681', '2.205237', '3.400000'])])])]))]))]), OrderedDict([('@isSecondLevelBoundary', 'true'), ('@surfaceIdRef', 'surface-95'), ('PlanarGeometry', OrderedDict([('PolyLoop', OrderedDict([('CartesianPoint', [OrderedDict([('Coordinate', ['33.715237', '3.428000', '3.400000'])]), OrderedDict([('Coordinate', ['33.715237', '1.670000', '3.400000'])]), OrderedDict([('Coordinate', ['33.715237', '1.670000', '6.800000'])]), OrderedDict([('Coordinate', ['33.715237', '3.428000', '6.800000'])])])]))]))]), OrderedDict([('@isSecondLevelBoundary', 'true'), ('@surfaceIdRef', 'surface-96'), ('PlanarGeometry', OrderedDict([('PolyLoop', OrderedDict([('CartesianPoint', [OrderedDict([('Coordinate', ['33.715237', '1.670000', '3.400000'])]), OrderedDict([('Coordinate', ['32.815237', '1.670000', '3.400000'])]), OrderedDict([('Coordinate', ['32.815237', '1.670000', '6.800000'])]), OrderedDict([('Coordinate', ['33.715237', '1.670000', '6.800000'])])])]))]))]), OrderedDict([('@isSecondLevelBoundary', 'true'), ('@surfaceIdRef', 'surface-102'), ('PlanarGeometry', OrderedDict([('PolyLoop', OrderedDict([('CartesianPoint', [OrderedDict([('Coordinate', ['32.821140', '0.394968', '6.800000'])]), OrderedDict([('Coordinate', ['32.815237', '1.670000', '6.800000'])]), OrderedDict([('Coordinate', ['32.815237', '1.670000', '3.400000'])]), OrderedDict([('Coordinate', ['32.821140', '0.394968', '3.400000'])])])]))]))]), OrderedDict([('@isSecondLevelBoundary', 'true'), ('@surfaceIdRef', 'surface-108'), ('PlanarGeometry', OrderedDict([('PolyLoop', OrderedDict([('CartesianPoint', [OrderedDict([('Coordinate', ['36.968681', '3.428000', '3.400000'])]), OrderedDict([('Coordinate', ['33.715237', '3.428000', '3.400000'])]), OrderedDict([('Coordinate', ['33.715237', '3.428000', '6.800000'])]), OrderedDict([('Coordinate', ['36.968681', '3.428000', '6.800000'])])])]))]))]), OrderedDict([('@isSecondLevelBoundary', 'true'), ('@surfaceIdRef', 'surface-109'), ('PlanarGeometry', OrderedDict([('PolyLoop', OrderedDict([('CartesianPoint', [OrderedDict([('Coordinate', ['32.821140', '0.394968', '3.400000'])]), OrderedDict([('Coordinate', ['36.968681', '0.394968', '3.400000'])]), OrderedDict([('Coordinate', ['36.968681', '0.394968', '6.800000'])]), OrderedDict([('Coordinate', ['32.821140', '0.394968', '6.800000'])])])]))]))]), OrderedDict([('@isSecondLevelBoundary', 'true'), ('@surfaceIdRef', 'surface-110'), ('PlanarGeometry', OrderedDict([('PolyLoop', OrderedDict([('CartesianPoint', [OrderedDict([('Coordinate', ['36.968681', '0.394968', '3.400000'])]), OrderedDict([('Coordinate', ['36.968681', '3.428000', '3.400000'])]), OrderedDict([('Coordinate', ['36.968681', '3.428000', '6.800000'])]), OrderedDict([('Coordinate', ['36.968681', '0.394968', '6.800000'])])])]))]))]), OrderedDict([('@isSecondLevelBoundary', 'true'), ('@surfaceIdRef', 'surface-111'), ('PlanarGeometry', OrderedDict([('PolyLoop', OrderedDict([('CartesianPoint', [OrderedDict([('Coordinate', ['36.968681', '3.428000', '6.800000'])]), OrderedDict([('Coordinate', ['33.715237', '3.428000', '6.800000'])]), OrderedDict([('Coordinate', ['33.715237', '1.670000', '6.800000'])]), OrderedDict([('Coordinate', ['32.815237', '1.670000', '6.800000'])]), OrderedDict([('Coordinate', ['32.821140', '0.394968', '6.800000'])]), OrderedDict([('Coordinate', ['36.968681', '0.394968', '6.800000'])])])]))]))])]",
         "SpaceId": "R13",
         "SpaceType": "WC/Shower",
         "TM46Category": 3,
         "TypeCode": 0,
         "Volume": 37.439322,
         "id": "105_LiveseyExchange_heatpump-normal-fabric, B_01_03_R13_WC/Shower",
         "index": 18,
         "model": "105_LiveseyExchange_heatpump-normal-fabric"
        },
        {
         "@buildingStoreyIdRef": "STOREY_1",
         "@conditionType": "HeatedAndCooled",
         "@id": "01000000",
         "@zoneIdRef": "ZONE_1",
         "Area": 21.732013,
         "BlockCode": "A",
         "CADObjectId": "01000000",
         "Level": 1,
         "Name": "A_01_01_R8_Workroom1",
         "ShellGeometry": "OrderedDict([('@id', '01000000-shellgeometry'), ('ClosedShell', OrderedDict([('PolyLoop', [OrderedDict([('CartesianPoint', [OrderedDict([('Coordinate', ['21.317000', '6.009000', '3.400000'])]), OrderedDict([('Coordinate', ['21.956680', '6.008347', '3.400000'])]), OrderedDict([('Coordinate', ['21.956680', '1.655237', '3.400000'])]), OrderedDict([('Coordinate', ['18.403681', '1.655237', '3.400000'])]), OrderedDict([('Coordinate', ['18.403681', '8.158887', '3.400000'])]), OrderedDict([('Coordinate', ['21.317000', '8.158887', '3.400000'])])])]), OrderedDict([('CartesianPoint', [OrderedDict([('Coordinate', ['21.317000', '8.158887', '6.800000'])]), OrderedDict([('Coordinate', ['18.403681', '8.158887', '6.800000'])]), OrderedDict([('Coordinate', ['18.403681', '1.655237', '6.800000'])]), OrderedDict([('Coordinate', ['21.956680', '1.655237', '6.800000'])]), OrderedDict([('Coordinate', ['21.956680', '6.008347', '6.800000'])]), OrderedDict([('Coordinate', ['21.317000', '6.009000', '6.800000'])])])]), OrderedDict([('CartesianPoint', [OrderedDict([('Coordinate', ['21.317000', '8.158887', '3.400000'])]), OrderedDict([('Coordinate', ['18.403681', '8.158887', '3.400000'])]), OrderedDict([('Coordinate', ['18.403681', '8.158887', '6.800000'])]), OrderedDict([('Coordinate', ['21.317000', '8.158887', '6.800000'])])])]), OrderedDict([('CartesianPoint', [OrderedDict([('Coordinate', ['21.956680', '1.655237', '3.400000'])]), OrderedDict([('Coordinate', ['21.956680', '6.008347', '3.400000'])]), OrderedDict([('Coordinate', ['21.956680', '6.008347', '6.800000'])]), OrderedDict([('Coordinate', ['21.956680', '1.655237', '6.800000'])])])]), OrderedDict([('CartesianPoint', [OrderedDict([('Coordinate', ['18.403681', '1.655237', '3.400000'])]), OrderedDict([('Coordinate', ['21.956680', '1.655237', '3.400000'])]), OrderedDict([('Coordinate', ['21.956680', '1.655237', '6.800000'])]), OrderedDict([('Coordinate', ['18.403681', '1.655237', '6.800000'])])])]), OrderedDict([('CartesianPoint', [OrderedDict([('Coordinate', ['18.403681', '8.158887', '3.400000'])]), OrderedDict([('Coordinate', ['18.403681', '1.655237', '3.400000'])]), OrderedDict([('Coordinate', ['18.403681', '1.655237', '6.800000'])]), OrderedDict([('Coordinate', ['18.403681', '8.158887', '6.800000'])])])]), OrderedDict([('CartesianPoint', [OrderedDict([('Coordinate', ['21.317000', '6.009000', '6.800000'])]), OrderedDict([('Coordinate', ['21.956680', '6.008347', '6.800000'])]), OrderedDict([('Coordinate', ['21.956680', '6.008347', '3.400000'])]), OrderedDict([('Coordinate', ['21.317000', '6.009000', '3.400000'])])])]), OrderedDict([('CartesianPoint', [OrderedDict([('Coordinate', ['21.317000', '8.158887', '6.800000'])]), OrderedDict([('Coordinate', ['21.317000', '6.009000', '6.800000'])]), OrderedDict([('Coordinate', ['21.317000', '6.009000', '3.400000'])]), OrderedDict([('Coordinate', ['21.317000', '8.158887', '3.400000'])])])])])]))])",
         "SpaceBoundary": "[OrderedDict([('@isSecondLevelBoundary', 'true'), ('@surfaceIdRef', 'surface-36'), ('PlanarGeometry', OrderedDict([('PolyLoop', OrderedDict([('CartesianPoint', [OrderedDict([('Coordinate', ['21.956680', '1.655237', '6.800000'])]), OrderedDict([('Coordinate', ['18.403681', '1.655237', '6.800000'])]), OrderedDict([('Coordinate', ['18.403681', '1.655237', '3.400000'])]), OrderedDict([('Coordinate', ['21.956680', '1.655237', '3.400000'])])])]))]))]), OrderedDict([('@isSecondLevelBoundary', 'true'), ('@surfaceIdRef', 'surface-46'), ('PlanarGeometry', OrderedDict([('PolyLoop', OrderedDict([('CartesianPoint', [OrderedDict([('Coordinate', ['18.403681', '8.158887', '3.400000'])]), OrderedDict([('Coordinate', ['18.403681', '1.655237', '3.400000'])]), OrderedDict([('Coordinate', ['18.403681', '1.655237', '6.800000'])]), OrderedDict([('Coordinate', ['18.403681', '8.158887', '6.800000'])])])]))]))]), OrderedDict([('@isSecondLevelBoundary', 'true'), ('@surfaceIdRef', 'surface-112'), ('PlanarGeometry', OrderedDict([('PolyLoop', OrderedDict([('CartesianPoint', [OrderedDict([('Coordinate', ['19.023681', '1.655237', '3.400000'])]), OrderedDict([('Coordinate', ['18.403681', '1.655237', '3.400000'])]), OrderedDict([('Coordinate', ['18.403681', '1.659769', '3.400000'])])])]))]))]), OrderedDict([('@isSecondLevelBoundary', 'true'), ('@surfaceIdRef', 'surface-113'), ('PlanarGeometry', OrderedDict([('PolyLoop', OrderedDict([('CartesianPoint', [OrderedDict([('Coordinate', ['19.023681', '6.919988', '3.400000'])]), OrderedDict([('Coordinate', ['18.403681', '6.919988', '3.400000'])]), OrderedDict([('Coordinate', ['18.403681', '8.158887', '3.400000'])]), OrderedDict([('Coordinate', ['19.023681', '8.158887', '3.400000'])])])]))]))]), OrderedDict([('@isSecondLevelBoundary', 'true'), ('@surfaceIdRef', 'surface-114'), ('PlanarGeometry', OrderedDict([('PolyLoop', OrderedDict([('CartesianPoint', [OrderedDict([('Coordinate', ['21.956680', '1.655237', '3.400000'])]), OrderedDict([('Coordinate', ['19.023681', '1.655237', '3.400000'])]), OrderedDict([('Coordinate', ['18.403681', '1.659769', '3.400000'])]), OrderedDict([('Coordinate', ['18.403681', '6.919988', '3.400000'])]), OrderedDict([('Coordinate', ['19.023681', '6.919988', '3.400000'])]), OrderedDict([('Coordinate', ['19.023681', '8.158887', '3.400000'])]), OrderedDict([('Coordinate', ['21.317000', '8.158887', '3.400000'])]), OrderedDict([('Coordinate', ['21.317000', '6.009000', '3.400000'])]), OrderedDict([('Coordinate', ['21.956680', '6.008347', '3.400000'])])])]))]))]), OrderedDict([('@isSecondLevelBoundary', 'true'), ('@surfaceIdRef', 'surface-115'), ('PlanarGeometry', OrderedDict([('PolyLoop', OrderedDict([('CartesianPoint', [OrderedDict([('Coordinate', ['21.317000', '8.158887', '6.800000'])]), OrderedDict([('Coordinate', ['18.403681', '8.158887', '6.800000'])]), OrderedDict([('Coordinate', ['18.403681', '1.655237', '6.800000'])]), OrderedDict([('Coordinate', ['21.956680', '1.655237', '6.800000'])]), OrderedDict([('Coordinate', ['21.956680', '6.008347', '6.800000'])]), OrderedDict([('Coordinate', ['21.317000', '6.009000', '6.800000'])])])]))]))]), OrderedDict([('@isSecondLevelBoundary', 'true'), ('@surfaceIdRef', 'surface-116'), ('PlanarGeometry', OrderedDict([('PolyLoop', OrderedDict([('CartesianPoint', [OrderedDict([('Coordinate', ['21.317000', '8.158887', '3.400000'])]), OrderedDict([('Coordinate', ['18.403681', '8.158887', '3.400000'])]), OrderedDict([('Coordinate', ['18.403681', '8.158887', '6.800000'])]), OrderedDict([('Coordinate', ['21.317000', '8.158887', '6.800000'])])])]))]))]), OrderedDict([('@isSecondLevelBoundary', 'true'), ('@surfaceIdRef', 'surface-117'), ('PlanarGeometry', OrderedDict([('PolyLoop', OrderedDict([('CartesianPoint', [OrderedDict([('Coordinate', ['21.956680', '5.510052', '6.800000'])]), OrderedDict([('Coordinate', ['21.956680', '3.658000', '6.800000'])]), OrderedDict([('Coordinate', ['21.956680', '3.658000', '3.400000'])]), OrderedDict([('Coordinate', ['21.956680', '5.510052', '3.400000'])])])]))]))]), OrderedDict([('@isSecondLevelBoundary', 'true'), ('@surfaceIdRef', 'surface-118'), ('PlanarGeometry', OrderedDict([('PolyLoop', OrderedDict([('CartesianPoint', [OrderedDict([('Coordinate', ['21.956680', '1.655237', '3.400000'])]), OrderedDict([('Coordinate', ['21.956680', '3.658000', '3.400000'])]), OrderedDict([('Coordinate', ['21.956680', '3.658000', '6.800000'])]), OrderedDict([('Coordinate', ['21.956680', '1.655237', '6.800000'])])])]))]))]), OrderedDict([('@isSecondLevelBoundary', 'true'), ('@surfaceIdRef', 'surface-119'), ('PlanarGeometry', OrderedDict([('PolyLoop', OrderedDict([('CartesianPoint', [OrderedDict([('Coordinate', ['21.956680', '5.510052', '3.400000'])]), OrderedDict([('Coordinate', ['21.956680', '6.008347', '3.400000'])]), OrderedDict([('Coordinate', ['21.956680', '6.008347', '6.800000'])]), OrderedDict([('Coordinate', ['21.956680', '5.510052', '6.800000'])])])]))]))]), OrderedDict([('@isSecondLevelBoundary', 'true'), ('@surfaceIdRef', 'surface-120'), ('PlanarGeometry', OrderedDict([('PolyLoop', OrderedDict([('CartesianPoint', [OrderedDict([('Coordinate', ['21.317000', '6.009000', '6.800000'])]), OrderedDict([('Coordinate', ['21.956680', '6.008347', '6.800000'])]), OrderedDict([('Coordinate', ['21.956680', '6.008347', '3.400000'])]), OrderedDict([('Coordinate', ['21.317000', '6.009000', '3.400000'])])])]))]))]), OrderedDict([('@isSecondLevelBoundary', 'true'), ('@surfaceIdRef', 'surface-121'), ('PlanarGeometry', OrderedDict([('PolyLoop', OrderedDict([('CartesianPoint', [OrderedDict([('Coordinate', ['21.317000', '8.158887', '6.800000'])]), OrderedDict([('Coordinate', ['21.317000', '6.009000', '6.800000'])]), OrderedDict([('Coordinate', ['21.317000', '6.009000', '3.400000'])]), OrderedDict([('Coordinate', ['21.317000', '8.158887', '3.400000'])])])]))]))])]",
         "SpaceId": "R8",
         "SpaceType": "Workroom1",
         "TM46Category": 1,
         "TypeCode": 0,
         "Volume": 73.88884499999999,
         "id": "105_LiveseyExchange_heatpump-normal-fabric, A_01_01_R8_Workroom1",
         "index": 19,
         "model": "105_LiveseyExchange_heatpump-normal-fabric"
        },
        {
         "@buildingStoreyIdRef": "STOREY_1",
         "@conditionType": "HeatedAndCooled",
         "@id": "00000002",
         "@zoneIdRef": "ZONE_1",
         "Area": 55.672253,
         "BlockCode": "A",
         "CADObjectId": "00000002",
         "Level": 0,
         "Name": "A_00_01_R1_EventSpace",
         "ShellGeometry": "OrderedDict([('@id', '00000002-shellgeometry'), ('ClosedShell', OrderedDict([('PolyLoop', [OrderedDict([('CartesianPoint', [OrderedDict([('Coordinate', ['7.563681', '8.158887', '6.800000'])]), OrderedDict([('Coordinate', ['0.405000', '8.158887', '6.800000'])]), OrderedDict([('Coordinate', ['0.405000', '0.382000', '6.800000'])]), OrderedDict([('Coordinate', ['7.563681', '0.382000', '6.800000'])])])]), OrderedDict([('CartesianPoint', [OrderedDict([('Coordinate', ['0.405000', '8.158887', '0.000000'])]), OrderedDict([('Coordinate', ['0.405000', '0.382000', '0.000000'])]), OrderedDict([('Coordinate', ['0.405000', '0.382000', '6.800000'])]), OrderedDict([('Coordinate', ['0.405000', '8.158887', '6.800000'])])])]), OrderedDict([('CartesianPoint', [OrderedDict([('Coordinate', ['0.405000', '0.382000', '0.000000'])]), OrderedDict([('Coordinate', ['7.563681', '0.382000', '0.000000'])]), OrderedDict([('Coordinate', ['7.563681', '0.382000', '6.800000'])]), OrderedDict([('Coordinate', ['0.405000', '0.382000', '6.800000'])])])]), OrderedDict([('CartesianPoint', [OrderedDict([('Coordinate', ['7.563681', '8.158887', '0.000000'])]), OrderedDict([('Coordinate', ['0.405000', '8.158887', '0.000000'])]), OrderedDict([('Coordinate', ['0.405000', '8.158887', '6.800000'])]), OrderedDict([('Coordinate', ['7.563681', '8.158887', '6.800000'])])])]), OrderedDict([('CartesianPoint', [OrderedDict([('Coordinate', ['7.563681', '0.382000', '0.000000'])]), OrderedDict([('Coordinate', ['0.405000', '0.382000', '0.000000'])]), OrderedDict([('Coordinate', ['0.405000', '8.158887', '0.000000'])]), OrderedDict([('Coordinate', ['7.563681', '8.158887', '0.000000'])])])]), OrderedDict([('CartesianPoint', [OrderedDict([('Coordinate', ['7.563681', '0.382000', '0.000000'])]), OrderedDict([('Coordinate', ['7.563681', '8.158887', '0.000000'])]), OrderedDict([('Coordinate', ['7.563681', '8.158887', '6.800000'])]), OrderedDict([('Coordinate', ['7.563681', '0.382000', '6.800000'])])])])])]))])",
         "SpaceBoundary": "[OrderedDict([('@isSecondLevelBoundary', 'true'), ('@surfaceIdRef', 'surface-122'), ('PlanarGeometry', OrderedDict([('PolyLoop', OrderedDict([('CartesianPoint', [OrderedDict([('Coordinate', ['7.563681', '8.158887', '6.800000'])]), OrderedDict([('Coordinate', ['0.405000', '8.158887', '6.800000'])]), OrderedDict([('Coordinate', ['0.405000', '0.382000', '6.800000'])]), OrderedDict([('Coordinate', ['7.563681', '0.382000', '6.800000'])])])]))]))]), OrderedDict([('@isSecondLevelBoundary', 'true'), ('@surfaceIdRef', 'surface-123'), ('PlanarGeometry', OrderedDict([('PolyLoop', OrderedDict([('CartesianPoint', [OrderedDict([('Coordinate', ['0.405000', '8.158887', '0.000000'])]), OrderedDict([('Coordinate', ['0.405000', '0.382000', '0.000000'])]), OrderedDict([('Coordinate', ['0.405000', '0.382000', '6.800000'])]), OrderedDict([('Coordinate', ['0.405000', '8.158887', '6.800000'])])])]))]))]), OrderedDict([('@isSecondLevelBoundary', 'true'), ('@surfaceIdRef', 'surface-124'), ('PlanarGeometry', OrderedDict([('PolyLoop', OrderedDict([('CartesianPoint', [OrderedDict([('Coordinate', ['0.405000', '0.382000', '0.000000'])]), OrderedDict([('Coordinate', ['7.563681', '0.382000', '-0.000000'])]), OrderedDict([('Coordinate', ['7.563681', '0.382000', '6.800000'])]), OrderedDict([('Coordinate', ['0.405000', '0.382000', '6.800000'])])])]))]))]), OrderedDict([('@isSecondLevelBoundary', 'true'), ('@surfaceIdRef', 'surface-125'), ('PlanarGeometry', OrderedDict([('PolyLoop', OrderedDict([('CartesianPoint', [OrderedDict([('Coordinate', ['7.563681', '8.158887', '0.000000'])]), OrderedDict([('Coordinate', ['0.405000', '8.158887', '0.000000'])]), OrderedDict([('Coordinate', ['0.405000', '8.158887', '6.800000'])]), OrderedDict([('Coordinate', ['7.563681', '8.158887', '6.800000'])])])]))]))]), OrderedDict([('@isSecondLevelBoundary', 'true'), ('@surfaceIdRef', 'surface-126'), ('PlanarGeometry', OrderedDict([('PolyLoop', OrderedDict([('CartesianPoint', [OrderedDict([('Coordinate', ['7.563681', '0.382000', '0.000000'])]), OrderedDict([('Coordinate', ['0.405000', '0.382000', '0.000000'])]), OrderedDict([('Coordinate', ['0.405000', '8.158887', '0.000000'])]), OrderedDict([('Coordinate', ['7.563681', '8.158887', '0.000000'])])])]))]))]), OrderedDict([('@isSecondLevelBoundary', 'true'), ('@surfaceIdRef', 'surface-127'), ('PlanarGeometry', OrderedDict([('PolyLoop', OrderedDict([('CartesianPoint', [OrderedDict([('Coordinate', ['7.563681', '8.158887', '6.800000'])]), OrderedDict([('Coordinate', ['7.563681', '0.382000', '6.800000'])]), OrderedDict([('Coordinate', ['7.563681', '0.382000', '3.400000'])]), OrderedDict([('Coordinate', ['7.563681', '8.158887', '3.400000'])])])]))]))]), OrderedDict([('@isSecondLevelBoundary', 'true'), ('@surfaceIdRef', 'surface-128'), ('PlanarGeometry', OrderedDict([('PolyLoop', OrderedDict([('CartesianPoint', [OrderedDict([('Coordinate', ['7.563681', '8.158887', '3.400000'])]), OrderedDict([('Coordinate', ['7.563681', '0.382000', '3.400000'])]), OrderedDict([('Coordinate', ['7.563681', '0.382000', '0.000000'])]), OrderedDict([('Coordinate', ['7.563681', '8.158887', '0.000000'])])])]))]))])]",
         "SpaceId": "R1",
         "SpaceType": "EventSpace",
         "TM46Category": 1,
         "TypeCode": 0,
         "Volume": 378.571322,
         "id": "105_LiveseyExchange_heatpump-normal-fabric, A_00_01_R1_EventSpace",
         "index": 20,
         "model": "105_LiveseyExchange_heatpump-normal-fabric"
        },
        {
         "@buildingStoreyIdRef": "STOREY_1",
         "@conditionType": "HeatedAndCooled",
         "@id": "01000002",
         "@zoneIdRef": "ZONE_1",
         "Area": 28.307869,
         "BlockCode": "A",
         "CADObjectId": "01000002",
         "Level": 1,
         "Name": "A_01_04_R11_Workroom4",
         "ShellGeometry": "OrderedDict([('@id', '01000002-shellgeometry'), ('ClosedShell', OrderedDict([('PolyLoop', [OrderedDict([('CartesianPoint', [OrderedDict([('Coordinate', ['11.203681', '0.382000', '3.400000'])]), OrderedDict([('Coordinate', ['7.563681', '0.382000', '3.400000'])]), OrderedDict([('Coordinate', ['7.563681', '8.158887', '3.400000'])]), OrderedDict([('Coordinate', ['11.203681', '8.158887', '3.400000'])])])]), OrderedDict([('CartesianPoint', [OrderedDict([('Coordinate', ['11.203681', '8.158887', '6.800000'])]), OrderedDict([('Coordinate', ['7.563681', '8.158887', '6.800000'])]), OrderedDict([('Coordinate', ['7.563681', '0.382000', '6.800000'])]), OrderedDict([('Coordinate', ['11.203681', '0.382000', '6.800000'])])])]), OrderedDict([('CartesianPoint', [OrderedDict([('Coordinate', ['11.203681', '8.158887', '3.400000'])]), OrderedDict([('Coordinate', ['7.563681', '8.158887', '3.400000'])]), OrderedDict([('Coordinate', ['7.563681', '8.158887', '6.800000'])]), OrderedDict([('Coordinate', ['11.203681', '8.158887', '6.800000'])])])]), OrderedDict([('CartesianPoint', [OrderedDict([('Coordinate', ['7.563681', '0.382000', '3.400000'])]), OrderedDict([('Coordinate', ['11.203681', '0.382000', '3.400000'])]), OrderedDict([('Coordinate', ['11.203681', '0.382000', '6.800000'])]), OrderedDict([('Coordinate', ['7.563681', '0.382000', '6.800000'])])])]), OrderedDict([('CartesianPoint', [OrderedDict([('Coordinate', ['7.563681', '8.158887', '3.400000'])]), OrderedDict([('Coordinate', ['7.563681', '0.382000', '3.400000'])]), OrderedDict([('Coordinate', ['7.563681', '0.382000', '6.800000'])]), OrderedDict([('Coordinate', ['7.563681', '8.158887', '6.800000'])])])]), OrderedDict([('CartesianPoint', [OrderedDict([('Coordinate', ['11.203681', '8.158887', '6.800000'])]), OrderedDict([('Coordinate', ['11.203681', '0.382000', '6.800000'])]), OrderedDict([('Coordinate', ['11.203681', '0.382000', '3.400000'])]), OrderedDict([('Coordinate', ['11.203681', '8.158887', '3.400000'])])])])])]))])",
         "SpaceBoundary": "[OrderedDict([('@isSecondLevelBoundary', 'true'), ('@surfaceIdRef', 'surface-33'), ('PlanarGeometry', OrderedDict([('PolyLoop', OrderedDict([('CartesianPoint', [OrderedDict([('Coordinate', ['11.203681', '1.655237', '6.800000'])]), OrderedDict([('Coordinate', ['11.203681', '0.382000', '6.800000'])]), OrderedDict([('Coordinate', ['11.203681', '0.382000', '3.400000'])]), OrderedDict([('Coordinate', ['11.203681', '1.655237', '3.400000'])])])]))]))]), OrderedDict([('@isSecondLevelBoundary', 'true'), ('@surfaceIdRef', 'surface-40'), ('PlanarGeometry', OrderedDict([('PolyLoop', OrderedDict([('CartesianPoint', [OrderedDict([('Coordinate', ['11.203681', '1.655237', '3.400000'])]), OrderedDict([('Coordinate', ['11.203681', '8.158887', '3.400000'])]), OrderedDict([('Coordinate', ['11.203681', '8.158887', '6.800000'])]), OrderedDict([('Coordinate', ['11.203681', '1.655237', '6.800000'])])])]))]))]), OrderedDict([('@isSecondLevelBoundary', 'true'), ('@surfaceIdRef', 'surface-127'), ('PlanarGeometry', OrderedDict([('PolyLoop', OrderedDict([('CartesianPoint', [OrderedDict([('Coordinate', ['7.563681', '8.158887', '3.400000'])]), OrderedDict([('Coordinate', ['7.563681', '0.382000', '3.400000'])]), OrderedDict([('Coordinate', ['7.563681', '0.382000', '6.800000'])]), OrderedDict([('Coordinate', ['7.563681', '8.158887', '6.800000'])])])]))]))]), OrderedDict([('@isSecondLevelBoundary', 'true'), ('@surfaceIdRef', 'surface-129'), ('PlanarGeometry', OrderedDict([('PolyLoop', OrderedDict([('CartesianPoint', [OrderedDict([('Coordinate', ['11.203681', '0.382000', '3.400000'])]), OrderedDict([('Coordinate', ['7.563681', '0.382000', '3.400000'])]), OrderedDict([('Coordinate', ['7.563681', '8.158887', '3.400000'])]), OrderedDict([('Coordinate', ['11.203681', '8.158887', '3.400000'])])])]))]))]), OrderedDict([('@isSecondLevelBoundary', 'true'), ('@surfaceIdRef', 'surface-130'), ('PlanarGeometry', OrderedDict([('PolyLoop', OrderedDict([('CartesianPoint', [OrderedDict([('Coordinate', ['11.203681', '8.158887', '6.800000'])]), OrderedDict([('Coordinate', ['7.563681', '8.158887', '6.800000'])]), OrderedDict([('Coordinate', ['7.563681', '0.382000', '6.800000'])]), OrderedDict([('Coordinate', ['11.203681', '0.382000', '6.800000'])])])]))]))]), OrderedDict([('@isSecondLevelBoundary', 'true'), ('@surfaceIdRef', 'surface-131'), ('PlanarGeometry', OrderedDict([('PolyLoop', OrderedDict([('CartesianPoint', [OrderedDict([('Coordinate', ['11.203681', '8.158887', '3.400000'])]), OrderedDict([('Coordinate', ['7.563681', '8.158887', '3.400000'])]), OrderedDict([('Coordinate', ['7.563681', '8.158887', '6.800000'])]), OrderedDict([('Coordinate', ['11.203681', '8.158887', '6.800000'])])])]))]))]), OrderedDict([('@isSecondLevelBoundary', 'true'), ('@surfaceIdRef', 'surface-132'), ('PlanarGeometry', OrderedDict([('PolyLoop', OrderedDict([('CartesianPoint', [OrderedDict([('Coordinate', ['7.563681', '0.382000', '3.400000'])]), OrderedDict([('Coordinate', ['11.203681', '0.382000', '3.400000'])]), OrderedDict([('Coordinate', ['11.203681', '0.382000', '6.800000'])]), OrderedDict([('Coordinate', ['7.563681', '0.382000', '6.800000'])])])]))]))])]",
         "SpaceId": "R11",
         "SpaceType": "Workroom4",
         "TM46Category": 4,
         "TypeCode": 0,
         "Volume": 96.24675400000001,
         "id": "105_LiveseyExchange_heatpump-normal-fabric, A_01_04_R11_Workroom4",
         "index": 21,
         "model": "105_LiveseyExchange_heatpump-normal-fabric"
        },
        {
         "@buildingStoreyIdRef": "STOREY_1",
         "@conditionType": "HeatedAndCooled",
         "@id": "00000001",
         "@zoneIdRef": "ZONE_1",
         "Area": 89.436984,
         "BlockCode": "A",
         "CADObjectId": "00000001",
         "Level": 0,
         "Name": "A_00_02_R2_Canteen",
         "ShellGeometry": "OrderedDict([('@id', '00000001-shellgeometry'), ('ClosedShell', OrderedDict([('PolyLoop', [OrderedDict([('CartesianPoint', [OrderedDict([('Coordinate', ['18.373681', '1.659988', '0.000000'])]), OrderedDict([('Coordinate', ['18.373681', '6.919988', '0.000000'])]), OrderedDict([('Coordinate', ['18.373681', '6.919988', '3.400000'])]), OrderedDict([('Coordinate', ['18.373681', '1.659988', '3.400000'])])])]), OrderedDict([('CartesianPoint', [OrderedDict([('Coordinate', ['21.956680', '0.382000', '0.000000'])]), OrderedDict([('Coordinate', ['21.956680', '1.655237', '0.000000'])]), OrderedDict([('Coordinate', ['21.956680', '1.655237', '3.400000'])]), OrderedDict([('Coordinate', ['21.956680', '0.382000', '3.400000'])])])]), OrderedDict([('CartesianPoint', [OrderedDict([('Coordinate', ['19.023681', '1.655237', '3.400000'])]), OrderedDict([('Coordinate', ['21.956680', '1.655237', '3.400000'])]), OrderedDict([('Coordinate', ['21.956680', '1.655237', '0.000000'])]), OrderedDict([('Coordinate', ['19.023681', '1.655237', '-0.000000'])])])]), OrderedDict([('CartesianPoint', [OrderedDict([('Coordinate', ['19.023681', '1.655237', '-0.000000'])]), OrderedDict([('Coordinate', ['18.373681', '1.659988', '0.000000'])]), OrderedDict([('Coordinate', ['18.373681', '1.659988', '3.400000'])]), OrderedDict([('Coordinate', ['19.023681', '1.655237', '3.400000'])])])]), OrderedDict([('CartesianPoint', [OrderedDict([('Coordinate', ['7.563681', '0.382000', '0.000000'])]), OrderedDict([('Coordinate', ['21.956680', '0.382000', '0.000000'])]), OrderedDict([('Coordinate', ['21.956680', '0.382000', '3.400000'])]), OrderedDict([('Coordinate', ['7.563681', '0.382000', '3.400000'])])])]), OrderedDict([('CartesianPoint', [OrderedDict([('Coordinate', ['19.023681', '8.158887', '0.000000'])]), OrderedDict([('Coordinate', ['7.563681', '8.158887', '0.000000'])]), OrderedDict([('Coordinate', ['7.563681', '8.158887', '3.400000'])]), OrderedDict([('Coordinate', ['19.023681', '8.158887', '3.400000'])])])]), OrderedDict([('CartesianPoint', [OrderedDict([('Coordinate', ['19.023681', '6.919988', '3.400000'])]), OrderedDict([('Coordinate', ['18.373681', '6.919988', '3.400000'])]), OrderedDict([('Coordinate', ['18.373681', '6.919988', '0.000000'])]), OrderedDict([('Coordinate', ['19.023681', '6.919988', '0.000000'])])])]), OrderedDict([('CartesianPoint', [OrderedDict([('Coordinate', ['19.023681', '6.919988', '0.000000'])]), OrderedDict([('Coordinate', ['19.023681', '8.158887', '0.000000'])]), OrderedDict([('Coordinate', ['19.023681', '8.158887', '3.400000'])]), OrderedDict([('Coordinate', ['19.023681', '6.919988', '3.400000'])])])]), OrderedDict([('CartesianPoint', [OrderedDict([('Coordinate', ['19.023681', '6.919988', '0.000000'])]), OrderedDict([('Coordinate', ['18.373681', '6.919988', '0.000000'])]), OrderedDict([('Coordinate', ['18.373681', '1.659988', '0.000000'])]), OrderedDict([('Coordinate', ['19.023681', '1.655237', '-0.000000'])]), OrderedDict([('Coordinate', ['21.956680', '1.655237', '0.000000'])]), OrderedDict([('Coordinate', ['21.956680', '0.382000', '0.000000'])]), OrderedDict([('Coordinate', ['7.563681', '0.382000', '0.000000'])]), OrderedDict([('Coordinate', ['7.563681', '8.158887', '0.000000'])]), OrderedDict([('Coordinate', ['19.023681', '8.158887', '0.000000'])])])]), OrderedDict([('CartesianPoint', [OrderedDict([('Coordinate', ['19.023681', '8.158887', '3.400000'])]), OrderedDict([('Coordinate', ['7.563681', '8.158887', '3.400000'])]), OrderedDict([('Coordinate', ['7.563681', '0.382000', '3.400000'])]), OrderedDict([('Coordinate', ['21.956680', '0.382000', '3.400000'])]), OrderedDict([('Coordinate', ['21.956680', '1.655237', '3.400000'])]), OrderedDict([('Coordinate', ['19.023681', '1.655237', '3.400000'])]), OrderedDict([('Coordinate', ['18.373681', '1.659988', '3.400000'])]), OrderedDict([('Coordinate', ['18.373681', '6.919988', '3.400000'])]), OrderedDict([('Coordinate', ['19.023681', '6.919988', '3.400000'])])])]), OrderedDict([('CartesianPoint', [OrderedDict([('Coordinate', ['7.563681', '0.382000', '3.400000'])]), OrderedDict([('Coordinate', ['7.563681', '8.158887', '3.400000'])]), OrderedDict([('Coordinate', ['7.563681', '8.158887', '0.000000'])]), OrderedDict([('Coordinate', ['7.563681', '0.382000', '0.000000'])])])])])]))])",
         "SpaceBoundary": "[OrderedDict([('@isSecondLevelBoundary', 'true'), ('@surfaceIdRef', 'surface-29'), ('PlanarGeometry', OrderedDict([('PolyLoop', OrderedDict([('CartesianPoint', [OrderedDict([('Coordinate', ['21.956680', '1.655237', '3.400000'])]), OrderedDict([('Coordinate', ['11.203681', '1.655237', '3.400000'])]), OrderedDict([('Coordinate', ['11.203681', '0.382000', '3.400000'])]), OrderedDict([('Coordinate', ['21.956680', '0.382000', '3.400000'])])])]))]))]), OrderedDict([('@isSecondLevelBoundary', 'true'), ('@surfaceIdRef', 'surface-37'), ('PlanarGeometry', OrderedDict([('PolyLoop', OrderedDict([('CartesianPoint', [OrderedDict([('Coordinate', ['14.803681', '8.158887', '3.400000'])]), OrderedDict([('Coordinate', ['11.203681', '8.158887', '3.400000'])]), OrderedDict([('Coordinate', ['11.203681', '1.655237', '3.400000'])]), OrderedDict([('Coordinate', ['14.803681', '1.655237', '3.400000'])])])]))]))]), OrderedDict([('@isSecondLevelBoundary', 'true'), ('@surfaceIdRef', 'surface-42'), ('PlanarGeometry', OrderedDict([('PolyLoop', OrderedDict([('CartesianPoint', [OrderedDict([('Coordinate', ['18.403681', '1.659769', '3.400000'])]), OrderedDict([('Coordinate', ['18.373681', '1.659988', '3.400000'])]), OrderedDict([('Coordinate', ['18.373681', '6.919988', '3.400000'])]), OrderedDict([('Coordinate', ['18.403681', '6.919988', '3.400000'])]), OrderedDict([('Coordinate', ['18.403681', '8.158887', '3.400000'])]), OrderedDict([('Coordinate', ['14.803681', '8.158887', '3.400000'])]), OrderedDict([('Coordinate', ['14.803681', '1.655237', '3.400000'])]), OrderedDict([('Coordinate', ['18.403681', '1.655237', '3.400000'])])])]))]))]), OrderedDict([('@isSecondLevelBoundary', 'true'), ('@surfaceIdRef', 'surface-112'), ('PlanarGeometry', OrderedDict([('PolyLoop', OrderedDict([('CartesianPoint', [OrderedDict([('Coordinate', ['18.403681', '1.659769', '3.400000'])]), OrderedDict([('Coordinate', ['18.403681', '1.655237', '3.400000'])]), OrderedDict([('Coordinate', ['19.023681', '1.655237', '3.400000'])])])]))]))]), OrderedDict([('@isSecondLevelBoundary', 'true'), ('@surfaceIdRef', 'surface-113'), ('PlanarGeometry', OrderedDict([('PolyLoop', OrderedDict([('CartesianPoint', [OrderedDict([('Coordinate', ['19.023681', '8.158887', '3.400000'])]), OrderedDict([('Coordinate', ['18.403681', '8.158887', '3.400000'])]), OrderedDict([('Coordinate', ['18.403681', '6.919988', '3.400000'])]), OrderedDict([('Coordinate', ['19.023681', '6.919988', '3.400000'])])])]))]))]), OrderedDict([('@isSecondLevelBoundary', 'true'), ('@surfaceIdRef', 'surface-128'), ('PlanarGeometry', OrderedDict([('PolyLoop', OrderedDict([('CartesianPoint', [OrderedDict([('Coordinate', ['7.563681', '8.158887', '0.000000'])]), OrderedDict([('Coordinate', ['7.563681', '0.382000', '0.000000'])]), OrderedDict([('Coordinate', ['7.563681', '0.382000', '3.400000'])]), OrderedDict([('Coordinate', ['7.563681', '8.158887', '3.400000'])])])]))]))]), OrderedDict([('@isSecondLevelBoundary', 'true'), ('@surfaceIdRef', 'surface-129'), ('PlanarGeometry', OrderedDict([('PolyLoop', OrderedDict([('CartesianPoint', [OrderedDict([('Coordinate', ['11.203681', '8.158887', '3.400000'])]), OrderedDict([('Coordinate', ['7.563681', '8.158887', '3.400000'])]), OrderedDict([('Coordinate', ['7.563681', '0.382000', '3.400000'])]), OrderedDict([('Coordinate', ['11.203681', '0.382000', '3.400000'])])])]))]))]), OrderedDict([('@isSecondLevelBoundary', 'true'), ('@surfaceIdRef', 'surface-133'), ('PlanarGeometry', OrderedDict([('PolyLoop', OrderedDict([('CartesianPoint', [OrderedDict([('Coordinate', ['18.373681', '6.919988', '3.400000'])]), OrderedDict([('Coordinate', ['18.373681', '1.659988', '3.400000'])]), OrderedDict([('Coordinate', ['18.373681', '1.659988', '0.000000'])]), OrderedDict([('Coordinate', ['18.373681', '6.919988', '0.000000'])])])]))]))]), OrderedDict([('@isSecondLevelBoundary', 'true'), ('@surfaceIdRef', 'surface-134'), ('PlanarGeometry', OrderedDict([('PolyLoop', OrderedDict([('CartesianPoint', [OrderedDict([('Coordinate', ['21.956680', '0.382000', '0.000000'])]), OrderedDict([('Coordinate', ['21.956680', '1.655237', '0.000000'])]), OrderedDict([('Coordinate', ['21.956680', '1.655237', '3.400000'])]), OrderedDict([('Coordinate', ['21.956680', '0.382000', '3.400000'])])])]))]))]), OrderedDict([('@isSecondLevelBoundary', 'true'), ('@surfaceIdRef', 'surface-135'), ('PlanarGeometry', OrderedDict([('PolyLoop', OrderedDict([('CartesianPoint', [OrderedDict([('Coordinate', ['19.023681', '1.655237', '3.400000'])]), OrderedDict([('Coordinate', ['21.956680', '1.655237', '3.400000'])]), OrderedDict([('Coordinate', ['21.956680', '1.655237', '0.000000'])]), OrderedDict([('Coordinate', ['19.023681', '1.655237', '0.000000'])])])]))]))]), OrderedDict([('@isSecondLevelBoundary', 'true'), ('@surfaceIdRef', 'surface-136'), ('PlanarGeometry', OrderedDict([('PolyLoop', OrderedDict([('CartesianPoint', [OrderedDict([('Coordinate', ['18.373681', '1.659988', '3.400000'])]), OrderedDict([('Coordinate', ['19.023681', '1.655237', '3.400000'])]), OrderedDict([('Coordinate', ['19.023681', '1.655237', '0.000000'])]), OrderedDict([('Coordinate', ['18.373681', '1.659988', '0.000000'])])])]))]))]), OrderedDict([('@isSecondLevelBoundary', 'true'), ('@surfaceIdRef', 'surface-137'), ('PlanarGeometry', OrderedDict([('PolyLoop', OrderedDict([('CartesianPoint', [OrderedDict([('Coordinate', ['7.563681', '0.382000', '-0.000000'])]), OrderedDict([('Coordinate', ['21.956680', '0.382000', '0.000000'])]), OrderedDict([('Coordinate', ['21.956680', '0.382000', '3.400000'])]), OrderedDict([('Coordinate', ['7.563681', '0.382000', '3.400000'])])])]))]))]), OrderedDict([('@isSecondLevelBoundary', 'true'), ('@surfaceIdRef', 'surface-138'), ('PlanarGeometry', OrderedDict([('PolyLoop', OrderedDict([('CartesianPoint', [OrderedDict([('Coordinate', ['19.023681', '8.158887', '0.000000'])]), OrderedDict([('Coordinate', ['7.563681', '8.158887', '0.000000'])]), OrderedDict([('Coordinate', ['7.563681', '8.158887', '3.400000'])]), OrderedDict([('Coordinate', ['19.023681', '8.158887', '3.400000'])])])]))]))]), OrderedDict([('@isSecondLevelBoundary', 'true'), ('@surfaceIdRef', 'surface-139'), ('PlanarGeometry', OrderedDict([('PolyLoop', OrderedDict([('CartesianPoint', [OrderedDict([('Coordinate', ['19.023681', '6.919988', '3.400000'])]), OrderedDict([('Coordinate', ['18.373681', '6.919988', '3.400000'])]), OrderedDict([('Coordinate', ['18.373681', '6.919988', '-0.000000'])]), OrderedDict([('Coordinate', ['19.023681', '6.919988', '-0.000000'])])])]))]))]), OrderedDict([('@isSecondLevelBoundary', 'true'), ('@surfaceIdRef', 'surface-140'), ('PlanarGeometry', OrderedDict([('PolyLoop', OrderedDict([('CartesianPoint', [OrderedDict([('Coordinate', ['19.023681', '8.158887', '3.400000'])]), OrderedDict([('Coordinate', ['19.023681', '6.919988', '3.400000'])]), OrderedDict([('Coordinate', ['19.023681', '6.919988', '0.000000'])]), OrderedDict([('Coordinate', ['19.023681', '8.158887', '0.000000'])])])]))]))]), OrderedDict([('@isSecondLevelBoundary', 'true'), ('@surfaceIdRef', 'surface-141'), ('PlanarGeometry', OrderedDict([('PolyLoop', OrderedDict([('CartesianPoint', [OrderedDict([('Coordinate', ['19.023681', '6.919988', '0.000000'])]), OrderedDict([('Coordinate', ['18.373681', '6.919988', '0.000000'])]), OrderedDict([('Coordinate', ['18.373681', '1.659988', '0.000000'])]), OrderedDict([('Coordinate', ['19.023681', '1.655237', '0.000000'])]), OrderedDict([('Coordinate', ['21.956680', '1.655237', '0.000000'])]), OrderedDict([('Coordinate', ['21.956680', '0.382000', '0.000000'])]), OrderedDict([('Coordinate', ['7.563681', '0.382000', '0.000000'])]), OrderedDict([('Coordinate', ['7.563681', '8.158887', '0.000000'])]), OrderedDict([('Coordinate', ['19.023681', '8.158887', '0.000000'])])])]))]))])]",
         "SpaceId": "R2",
         "SpaceType": "Canteen",
         "TM46Category": 2,
         "TypeCode": 0,
         "Volume": 304.085745,
         "id": "105_LiveseyExchange_heatpump-normal-fabric, A_00_02_R2_Canteen",
         "index": 22,
         "model": "105_LiveseyExchange_heatpump-normal-fabric"
        },
        {
         "@buildingStoreyIdRef": "STOREY_1",
         "@conditionType": "HeatedAndCooled",
         "@id": "00000000",
         "@zoneIdRef": "ZONE_1",
         "Area": 21.120294,
         "BlockCode": "A",
         "CADObjectId": "00000000",
         "Level": 0,
         "Name": "A_00_03_R3_Kitchen",
         "ShellGeometry": "OrderedDict([('@id', '00000000-shellgeometry'), ('ClosedShell', OrderedDict([('PolyLoop', [OrderedDict([('CartesianPoint', [OrderedDict([('Coordinate', ['21.317000', '8.158887', '0.000000'])]), OrderedDict([('Coordinate', ['19.023681', '8.158887', '0.000000'])]), OrderedDict([('Coordinate', ['19.023681', '8.158887', '3.400000'])]), OrderedDict([('Coordinate', ['21.317000', '8.158887', '3.400000'])])])]), OrderedDict([('CartesianPoint', [OrderedDict([('Coordinate', ['21.956680', '1.655237', '0.000000'])]), OrderedDict([('Coordinate', ['21.956680', '6.008347', '0.000000'])]), OrderedDict([('Coordinate', ['21.956680', '6.008347', '3.400000'])]), OrderedDict([('Coordinate', ['21.956680', '1.655237', '3.400000'])])])]), OrderedDict([('CartesianPoint', [OrderedDict([('Coordinate', ['19.023681', '1.655237', '0.000000'])]), OrderedDict([('Coordinate', ['21.956680', '1.655237', '0.000000'])]), OrderedDict([('Coordinate', ['21.956680', '1.655237', '3.400000'])]), OrderedDict([('Coordinate', ['19.023681', '1.655237', '3.400000'])])])]), OrderedDict([('CartesianPoint', [OrderedDict([('Coordinate', ['18.373681', '6.919988', '0.000000'])]), OrderedDict([('Coordinate', ['18.373681', '1.659988', '0.000000'])]), OrderedDict([('Coordinate', ['18.373681', '1.659988', '3.400000'])]), OrderedDict([('Coordinate', ['18.373681', '6.919988', '3.400000'])])])]), OrderedDict([('CartesianPoint', [OrderedDict([('Coordinate', ['19.023681', '1.655237', '3.400000'])]), OrderedDict([('Coordinate', ['18.373681', '1.659988', '3.400000'])]), OrderedDict([('Coordinate', ['18.373681', '1.659988', '0.000000'])]), OrderedDict([('Coordinate', ['19.023681', '1.655237', '0.000000'])])])]), OrderedDict([('CartesianPoint', [OrderedDict([('Coordinate', ['21.317000', '6.009000', '0.000000'])]), OrderedDict([('Coordinate', ['21.956680', '6.008347', '0.000000'])]), OrderedDict([('Coordinate', ['21.956680', '1.655237', '0.000000'])]), OrderedDict([('Coordinate', ['19.023681', '1.655237', '0.000000'])]), OrderedDict([('Coordinate', ['18.373681', '1.659988', '0.000000'])]), OrderedDict([('Coordinate', ['18.373681', '6.919988', '0.000000'])]), OrderedDict([('Coordinate', ['19.023681', '6.919988', '0.000000'])]), OrderedDict([('Coordinate', ['19.023681', '8.158887', '0.000000'])]), OrderedDict([('Coordinate', ['21.317000', '8.158887', '0.000000'])])])]), OrderedDict([('CartesianPoint', [OrderedDict([('Coordinate', ['21.317000', '8.158887', '3.400000'])]), OrderedDict([('Coordinate', ['19.023681', '8.158887', '3.400000'])]), OrderedDict([('Coordinate', ['19.023681', '6.919988', '3.400000'])]), OrderedDict([('Coordinate', ['18.373681', '6.919988', '3.400000'])]), OrderedDict([('Coordinate', ['18.373681', '1.659988', '3.400000'])]), OrderedDict([('Coordinate', ['19.023681', '1.655237', '3.400000'])]), OrderedDict([('Coordinate', ['21.956680', '1.655237', '3.400000'])]), OrderedDict([('Coordinate', ['21.956680', '6.008347', '3.400000'])]), OrderedDict([('Coordinate', ['21.317000', '6.009000', '3.400000'])])])]), OrderedDict([('CartesianPoint', [OrderedDict([('Coordinate', ['19.023681', '6.919988', '0.000000'])]), OrderedDict([('Coordinate', ['18.373681', '6.919988', '0.000000'])]), OrderedDict([('Coordinate', ['18.373681', '6.919988', '3.400000'])]), OrderedDict([('Coordinate', ['19.023681', '6.919988', '3.400000'])])])]), OrderedDict([('CartesianPoint', [OrderedDict([('Coordinate', ['19.023681', '8.158887', '0.000000'])]), OrderedDict([('Coordinate', ['19.023681', '6.919988', '0.000000'])]), OrderedDict([('Coordinate', ['19.023681', '6.919988', '3.400000'])]), OrderedDict([('Coordinate', ['19.023681', '8.158887', '3.400000'])])])]), OrderedDict([('CartesianPoint', [OrderedDict([('Coordinate', ['21.317000', '6.009000', '3.400000'])]), OrderedDict([('Coordinate', ['21.956680', '6.008347', '3.400000'])]), OrderedDict([('Coordinate', ['21.956680', '6.008347', '0.000000'])]), OrderedDict([('Coordinate', ['21.317000', '6.009000', '0.000000'])])])]), OrderedDict([('CartesianPoint', [OrderedDict([('Coordinate', ['21.317000', '8.158887', '3.400000'])]), OrderedDict([('Coordinate', ['21.317000', '6.009000', '3.400000'])]), OrderedDict([('Coordinate', ['21.317000', '6.009000', '0.000000'])]), OrderedDict([('Coordinate', ['21.317000', '8.158887', '0.000000'])])])])])]))])",
         "SpaceBoundary": "[OrderedDict([('@isSecondLevelBoundary', 'true'), ('@surfaceIdRef', 'surface-43'), ('PlanarGeometry', OrderedDict([('PolyLoop', OrderedDict([('CartesianPoint', [OrderedDict([('Coordinate', ['18.403681', '6.919988', '3.400000'])]), OrderedDict([('Coordinate', ['18.373681', '6.919988', '3.400000'])]), OrderedDict([('Coordinate', ['18.373681', '1.659988', '3.400000'])]), OrderedDict([('Coordinate', ['18.403681', '1.659769', '3.400000'])])])]))]))]), OrderedDict([('@isSecondLevelBoundary', 'true'), ('@surfaceIdRef', 'surface-114'), ('PlanarGeometry', OrderedDict([('PolyLoop', OrderedDict([('CartesianPoint', [OrderedDict([('Coordinate', ['21.956680', '6.008347', '3.400000'])]), OrderedDict([('Coordinate', ['21.317000', '6.009000', '3.400000'])]), OrderedDict([('Coordinate', ['21.317000', '8.158887', '3.400000'])]), OrderedDict([('Coordinate', ['19.023681', '8.158887', '3.400000'])]), OrderedDict([('Coordinate', ['19.023681', '6.919988', '3.400000'])]), OrderedDict([('Coordinate', ['18.403681', '6.919988', '3.400000'])]), OrderedDict([('Coordinate', ['18.403681', '1.659769', '3.400000'])]), OrderedDict([('Coordinate', ['19.023681', '1.655237', '3.400000'])]), OrderedDict([('Coordinate', ['21.956680', '1.655237', '3.400000'])])])]))]))]), OrderedDict([('@isSecondLevelBoundary', 'true'), ('@surfaceIdRef', 'surface-133'), ('PlanarGeometry', OrderedDict([('PolyLoop', OrderedDict([('CartesianPoint', [OrderedDict([('Coordinate', ['18.373681', '6.919988', '0.000000'])]), OrderedDict([('Coordinate', ['18.373681', '1.659988', '0.000000'])]), OrderedDict([('Coordinate', ['18.373681', '1.659988', '3.400000'])]), OrderedDict([('Coordinate', ['18.373681', '6.919988', '3.400000'])])])]))]))]), OrderedDict([('@isSecondLevelBoundary', 'true'), ('@surfaceIdRef', 'surface-135'), ('PlanarGeometry', OrderedDict([('PolyLoop', OrderedDict([('CartesianPoint', [OrderedDict([('Coordinate', ['19.023681', '1.655237', '0.000000'])]), OrderedDict([('Coordinate', ['21.956680', '1.655237', '0.000000'])]), OrderedDict([('Coordinate', ['21.956680', '1.655237', '3.400000'])]), OrderedDict([('Coordinate', ['19.023681', '1.655237', '3.400000'])])])]))]))]), OrderedDict([('@isSecondLevelBoundary', 'true'), ('@surfaceIdRef', 'surface-136'), ('PlanarGeometry', OrderedDict([('PolyLoop', OrderedDict([('CartesianPoint', [OrderedDict([('Coordinate', ['18.373681', '1.659988', '0.000000'])]), OrderedDict([('Coordinate', ['19.023681', '1.655237', '0.000000'])]), OrderedDict([('Coordinate', ['19.023681', '1.655237', '3.400000'])]), OrderedDict([('Coordinate', ['18.373681', '1.659988', '3.400000'])])])]))]))]), OrderedDict([('@isSecondLevelBoundary', 'true'), ('@surfaceIdRef', 'surface-139'), ('PlanarGeometry', OrderedDict([('PolyLoop', OrderedDict([('CartesianPoint', [OrderedDict([('Coordinate', ['19.023681', '6.919988', '-0.000000'])]), OrderedDict([('Coordinate', ['18.373681', '6.919988', '-0.000000'])]), OrderedDict([('Coordinate', ['18.373681', '6.919988', '3.400000'])]), OrderedDict([('Coordinate', ['19.023681', '6.919988', '3.400000'])])])]))]))]), OrderedDict([('@isSecondLevelBoundary', 'true'), ('@surfaceIdRef', 'surface-140'), ('PlanarGeometry', OrderedDict([('PolyLoop', OrderedDict([('CartesianPoint', [OrderedDict([('Coordinate', ['19.023681', '8.158887', '0.000000'])]), OrderedDict([('Coordinate', ['19.023681', '6.919988', '0.000000'])]), OrderedDict([('Coordinate', ['19.023681', '6.919988', '3.400000'])]), OrderedDict([('Coordinate', ['19.023681', '8.158887', '3.400000'])])])]))]))]), OrderedDict([('@isSecondLevelBoundary', 'true'), ('@surfaceIdRef', 'surface-142'), ('PlanarGeometry', OrderedDict([('PolyLoop', OrderedDict([('CartesianPoint', [OrderedDict([('Coordinate', ['21.317000', '8.158887', '0.000000'])]), OrderedDict([('Coordinate', ['19.023681', '8.158887', '0.000000'])]), OrderedDict([('Coordinate', ['19.023681', '8.158887', '3.400000'])]), OrderedDict([('Coordinate', ['21.317000', '8.158887', '3.400000'])])])]))]))]), OrderedDict([('@isSecondLevelBoundary', 'true'), ('@surfaceIdRef', 'surface-143'), ('PlanarGeometry', OrderedDict([('PolyLoop', OrderedDict([('CartesianPoint', [OrderedDict([('Coordinate', ['21.956680', '3.658000', '-0.000000'])]), OrderedDict([('Coordinate', ['21.956680', '5.510052', '-0.000000'])]), OrderedDict([('Coordinate', ['21.956680', '5.510052', '3.400000'])]), OrderedDict([('Coordinate', ['21.956680', '3.658000', '3.400000'])])])]))]))]), OrderedDict([('@isSecondLevelBoundary', 'true'), ('@surfaceIdRef', 'surface-144'), ('PlanarGeometry', OrderedDict([('PolyLoop', OrderedDict([('CartesianPoint', [OrderedDict([('Coordinate', ['21.956680', '5.510052', '-0.000000'])]), OrderedDict([('Coordinate', ['21.956680', '6.008347', '-0.000000'])]), OrderedDict([('Coordinate', ['21.956680', '6.008347', '3.400000'])]), OrderedDict([('Coordinate', ['21.956680', '5.510052', '3.400000'])])])]))]))]), OrderedDict([('@isSecondLevelBoundary', 'true'), ('@surfaceIdRef', 'surface-145'), ('PlanarGeometry', OrderedDict([('PolyLoop', OrderedDict([('CartesianPoint', [OrderedDict([('Coordinate', ['21.956680', '1.655237', '-0.000000'])]), OrderedDict([('Coordinate', ['21.956680', '3.658000', '-0.000000'])]), OrderedDict([('Coordinate', ['21.956680', '3.658000', '3.400000'])]), OrderedDict([('Coordinate', ['21.956680', '1.655237', '3.400000'])])])]))]))]), OrderedDict([('@isSecondLevelBoundary', 'true'), ('@surfaceIdRef', 'surface-146'), ('PlanarGeometry', OrderedDict([('PolyLoop', OrderedDict([('CartesianPoint', [OrderedDict([('Coordinate', ['21.317000', '6.009000', '0.000000'])]), OrderedDict([('Coordinate', ['21.956680', '6.008347', '0.000000'])]), OrderedDict([('Coordinate', ['21.956680', '1.655237', '0.000000'])]), OrderedDict([('Coordinate', ['19.023681', '1.655237', '0.000000'])]), OrderedDict([('Coordinate', ['18.373681', '1.659988', '0.000000'])]), OrderedDict([('Coordinate', ['18.373681', '6.919988', '0.000000'])]), OrderedDict([('Coordinate', ['19.023681', '6.919988', '0.000000'])]), OrderedDict([('Coordinate', ['19.023681', '8.158887', '0.000000'])]), OrderedDict([('Coordinate', ['21.317000', '8.158887', '0.000000'])])])]))]))]), OrderedDict([('@isSecondLevelBoundary', 'true'), ('@surfaceIdRef', 'surface-147'), ('PlanarGeometry', OrderedDict([('PolyLoop', OrderedDict([('CartesianPoint', [OrderedDict([('Coordinate', ['21.956680', '6.008347', '-0.000000'])]), OrderedDict([('Coordinate', ['21.317000', '6.009000', '-0.000000'])]), OrderedDict([('Coordinate', ['21.317000', '6.009000', '3.400000'])]), OrderedDict([('Coordinate', ['21.956680', '6.008347', '3.400000'])])])]))]))]), OrderedDict([('@isSecondLevelBoundary', 'true'), ('@surfaceIdRef', 'surface-148'), ('PlanarGeometry', OrderedDict([('PolyLoop', OrderedDict([('CartesianPoint', [OrderedDict([('Coordinate', ['21.317000', '6.009000', '-0.000000'])]), OrderedDict([('Coordinate', ['21.317000', '8.158887', '-0.000000'])]), OrderedDict([('Coordinate', ['21.317000', '8.158887', '3.400000'])]), OrderedDict([('Coordinate', ['21.317000', '6.009000', '3.400000'])])])]))]))])]",
         "SpaceId": "R3",
         "SpaceType": "Kitchen",
         "TM46Category": 3,
         "TypeCode": 0,
         "Volume": 71.809001,
         "id": "105_LiveseyExchange_heatpump-normal-fabric, A_00_03_R3_Kitchen",
         "index": 23,
         "model": "105_LiveseyExchange_heatpump-normal-fabric"
        },
        {
         "@buildingStoreyIdRef": "STOREY_1",
         "@conditionType": "HeatedAndCooled",
         "@id": "01000001",
         "@zoneIdRef": "ZONE_1",
         "Area": 1.375449,
         "BlockCode": "A",
         "CADObjectId": "01000001",
         "Level": 1,
         "Name": "A_01_06_XX_Riser",
         "ShellGeometry": "OrderedDict([('@id', '01000001-shellgeometry'), ('ClosedShell', OrderedDict([('PolyLoop', [OrderedDict([('CartesianPoint', [OrderedDict([('Coordinate', ['21.956680', '8.158887', '6.800000'])]), OrderedDict([('Coordinate', ['21.317000', '8.158887', '6.800000'])]), OrderedDict([('Coordinate', ['21.317000', '6.009000', '6.800000'])]), OrderedDict([('Coordinate', ['21.956680', '6.008347', '6.800000'])])])]), OrderedDict([('CartesianPoint', [OrderedDict([('Coordinate', ['21.956680', '6.008347', '0.000000'])]), OrderedDict([('Coordinate', ['21.317000', '6.009000', '0.000000'])]), OrderedDict([('Coordinate', ['21.317000', '8.158887', '0.000000'])]), OrderedDict([('Coordinate', ['21.956680', '8.158887', '0.000000'])])])]), OrderedDict([('CartesianPoint', [OrderedDict([('Coordinate', ['21.956680', '8.158887', '0.000000'])]), OrderedDict([('Coordinate', ['21.317000', '8.158887', '0.000000'])]), OrderedDict([('Coordinate', ['21.317000', '8.158887', '6.800000'])]), OrderedDict([('Coordinate', ['21.956680', '8.158887', '6.800000'])])])]), OrderedDict([('CartesianPoint', [OrderedDict([('Coordinate', ['21.956680', '6.008347', '0.000000'])]), OrderedDict([('Coordinate', ['21.956680', '8.158887', '0.000000'])]), OrderedDict([('Coordinate', ['21.956680', '8.158887', '6.800000'])]), OrderedDict([('Coordinate', ['21.956680', '6.008347', '6.800000'])])])]), OrderedDict([('CartesianPoint', [OrderedDict([('Coordinate', ['21.317000', '6.009000', '0.000000'])]), OrderedDict([('Coordinate', ['21.956680', '6.008347', '0.000000'])]), OrderedDict([('Coordinate', ['21.956680', '6.008347', '6.800000'])]), OrderedDict([('Coordinate', ['21.317000', '6.009000', '6.800000'])])])]), OrderedDict([('CartesianPoint', [OrderedDict([('Coordinate', ['21.317000', '8.158887', '0.000000'])]), OrderedDict([('Coordinate', ['21.317000', '6.009000', '0.000000'])]), OrderedDict([('Coordinate', ['21.317000', '6.009000', '6.800000'])]), OrderedDict([('Coordinate', ['21.317000', '8.158887', '6.800000'])])])])])]))])",
         "SpaceBoundary": "[OrderedDict([('@isSecondLevelBoundary', 'true'), ('@surfaceIdRef', 'surface-120'), ('PlanarGeometry', OrderedDict([('PolyLoop', OrderedDict([('CartesianPoint', [OrderedDict([('Coordinate', ['21.317000', '6.009000', '3.400000'])]), OrderedDict([('Coordinate', ['21.956680', '6.008347', '3.400000'])]), OrderedDict([('Coordinate', ['21.956680', '6.008347', '6.800000'])]), OrderedDict([('Coordinate', ['21.317000', '6.009000', '6.800000'])])])]))]))]), OrderedDict([('@isSecondLevelBoundary', 'true'), ('@surfaceIdRef', 'surface-121'), ('PlanarGeometry', OrderedDict([('PolyLoop', OrderedDict([('CartesianPoint', [OrderedDict([('Coordinate', ['21.317000', '8.158887', '3.400000'])]), OrderedDict([('Coordinate', ['21.317000', '6.009000', '3.400000'])]), OrderedDict([('Coordinate', ['21.317000', '6.009000', '6.800000'])]), OrderedDict([('Coordinate', ['21.317000', '8.158887', '6.800000'])])])]))]))]), OrderedDict([('@isSecondLevelBoundary', 'true'), ('@surfaceIdRef', 'surface-147'), ('PlanarGeometry', OrderedDict([('PolyLoop', OrderedDict([('CartesianPoint', [OrderedDict([('Coordinate', ['21.956680', '6.008347', '3.400000'])]), OrderedDict([('Coordinate', ['21.317000', '6.009000', '3.400000'])]), OrderedDict([('Coordinate', ['21.317000', '6.009000', '-0.000000'])]), OrderedDict([('Coordinate', ['21.956680', '6.008347', '-0.000000'])])])]))]))]), OrderedDict([('@isSecondLevelBoundary', 'true'), ('@surfaceIdRef', 'surface-148'), ('PlanarGeometry', OrderedDict([('PolyLoop', OrderedDict([('CartesianPoint', [OrderedDict([('Coordinate', ['21.317000', '6.009000', '3.400000'])]), OrderedDict([('Coordinate', ['21.317000', '8.158887', '3.400000'])]), OrderedDict([('Coordinate', ['21.317000', '8.158887', '-0.000000'])]), OrderedDict([('Coordinate', ['21.317000', '6.009000', '-0.000000'])])])]))]))]), OrderedDict([('@isSecondLevelBoundary', 'true'), ('@surfaceIdRef', 'surface-149'), ('PlanarGeometry', OrderedDict([('PolyLoop', OrderedDict([('CartesianPoint', [OrderedDict([('Coordinate', ['21.956680', '8.158887', '6.800000'])]), OrderedDict([('Coordinate', ['21.317000', '8.158887', '6.800000'])]), OrderedDict([('Coordinate', ['21.317000', '6.009000', '6.800000'])]), OrderedDict([('Coordinate', ['21.956680', '6.008347', '6.800000'])])])]))]))]), OrderedDict([('@isSecondLevelBoundary', 'true'), ('@surfaceIdRef', 'surface-150'), ('PlanarGeometry', OrderedDict([('PolyLoop', OrderedDict([('CartesianPoint', [OrderedDict([('Coordinate', ['21.956680', '6.008347', '0.000000'])]), OrderedDict([('Coordinate', ['21.317000', '6.009000', '0.000000'])]), OrderedDict([('Coordinate', ['21.317000', '8.158887', '0.000000'])]), OrderedDict([('Coordinate', ['21.956680', '8.158887', '0.000000'])])])]))]))]), OrderedDict([('@isSecondLevelBoundary', 'true'), ('@surfaceIdRef', 'surface-151'), ('PlanarGeometry', OrderedDict([('PolyLoop', OrderedDict([('CartesianPoint', [OrderedDict([('Coordinate', ['21.956680', '8.158887', '0.000000'])]), OrderedDict([('Coordinate', ['21.317000', '8.158887', '0.000000'])]), OrderedDict([('Coordinate', ['21.317000', '8.158887', '6.800000'])]), OrderedDict([('Coordinate', ['21.956680', '8.158887', '6.800000'])])])]))]))]), OrderedDict([('@isSecondLevelBoundary', 'true'), ('@surfaceIdRef', 'surface-152'), ('PlanarGeometry', OrderedDict([('PolyLoop', OrderedDict([('CartesianPoint', [OrderedDict([('Coordinate', ['21.956680', '6.008347', '-0.000000'])]), OrderedDict([('Coordinate', ['21.956680', '8.158000', '-0.000000'])]), OrderedDict([('Coordinate', ['21.956680', '8.158000', '3.400000'])]), OrderedDict([('Coordinate', ['21.956680', '6.008347', '3.400000'])])])]))]))]), OrderedDict([('@isSecondLevelBoundary', 'true'), ('@surfaceIdRef', 'surface-153'), ('PlanarGeometry', OrderedDict([('PolyLoop', OrderedDict([('CartesianPoint', [OrderedDict([('Coordinate', ['21.956680', '6.008347', '3.400000'])]), OrderedDict([('Coordinate', ['21.956680', '8.158000', '3.400000'])]), OrderedDict([('Coordinate', ['21.956680', '8.158000', '-0.000000'])]), OrderedDict([('Coordinate', ['21.956680', '8.158887', '-0.000000'])]), OrderedDict([('Coordinate', ['21.956680', '8.158887', '6.800000'])]), OrderedDict([('Coordinate', ['21.956680', '6.008347', '6.800000'])])])]))]))])]",
         "SpaceId": "XX",
         "SpaceType": "Riser",
         "TM46Category": 6,
         "TypeCode": 0,
         "Volume": 9.35305,
         "id": "105_LiveseyExchange_heatpump-normal-fabric, A_01_06_XX_Riser",
         "index": 24,
         "model": "105_LiveseyExchange_heatpump-normal-fabric"
        }
       ],
       "_grid_data_up": {},
       "_grid_options_mono_down": "{\"enableSorting\": true, \"enableFilter\": true, \"enableColResize\": true, \"enableRangeSelection\": true, \"columnDefs\": [{\"field\": \"index\", \"type\": \"numberColumn\", \"headerName\": \"Index\"}, {\"field\": \"@id\", \"type\": \"textColumn\", \"headerName\": \"@Id\"}, {\"field\": \"@zoneIdRef\", \"type\": \"textColumn\", \"headerName\": \"@Zoneidref\"}, {\"field\": \"@conditionType\", \"type\": \"textColumn\", \"headerName\": \"@Conditiontype\"}, {\"field\": \"@buildingStoreyIdRef\", \"type\": \"textColumn\", \"headerName\": \"@Buildingstoreyidref\"}, {\"field\": \"Name\", \"type\": \"textColumn\", \"headerName\": \"Name\"}, {\"field\": \"Area\", \"type\": \"numberColumn\", \"headerName\": \"Area\"}, {\"field\": \"Volume\", \"type\": \"numberColumn\", \"headerName\": \"Volume\"}, {\"field\": \"CADObjectId\", \"type\": \"textColumn\", \"headerName\": \"Cadobjectid\"}, {\"field\": \"TypeCode\", \"type\": \"numberColumn\", \"headerName\": \"Typecode\"}, {\"field\": \"ShellGeometry\", \"type\": \"textColumn\", \"headerName\": \"Shellgeometry\"}, {\"field\": \"SpaceBoundary\", \"type\": \"textColumn\", \"headerName\": \"Spaceboundary\"}, {\"field\": \"BlockCode\", \"type\": \"textColumn\", \"headerName\": \"Blockcode\"}, {\"field\": \"Level\", \"type\": \"numberColumn\", \"headerName\": \"Level\"}, {\"field\": \"TM46Category\", \"type\": \"numberColumn\", \"headerName\": \"Tm46Category\"}, {\"field\": \"SpaceId\", \"type\": \"textColumn\", \"headerName\": \"Spaceid\"}, {\"field\": \"SpaceType\", \"type\": \"textColumn\", \"headerName\": \"Spacetype\"}, {\"field\": \"model\", \"type\": \"textColumn\", \"headerName\": \"Model\"}, {\"field\": \"id\", \"type\": \"textColumn\", \"headerName\": \"Id\"}], \"columnTypes\": {\"numberColumn\": {\"filter\": \"agNumberColumnFilter\"}, \"textColumn\": {\"filter\": \"agTextColumnFilter\"}, \"dateColumn\": {\"valueFormatter\": \"helpers.dateFormatter\", \"filter\": \"agDateColumnFilter\", \"filterParams\": {\"comparator\": \"helpers.compareDates\"}}}}",
       "_id": 998780657,
       "_js_helpers_builtin": "helpersBuiltin = {\n    dateFormatter: function(node) {\n        // make sure date is not undefined\n        if (node && node.value) {\n            let d = new Date(node.value);\n            let h = d.getHours();\n            let m = d.getMinutes();\n            let s = d.getSeconds();\n            const offset = d.getTimezoneOffset() * 60000;\n            d = new Date(d.getTime() - offset);\n            const ymd = d.toISOString().substring(0, 10);\n            if (h === 0 && m === 0 && s === 0) {\n                return ymd;\n            }\n            if (h === 0) h = '00';\n            if (m === 0) m = '00';\n            if (s === 0) s = '00';\n            return `${ymd} ${h}:${m}:${s}`;\n        }\n        return null;\n    },\n\n    formatInt: d3.format(',.0f'),\n    formatFloat: d3.format(',.2f'),\n\n    intFormatter: function(node) {\n        return formatInt(node.value);\n    },\n\n    floatFormatter: function(node) {\n        return formatFloat(node.value);\n    },\n\n    compareDates: function(filterLocalDate, cellValue) {\n        // Assume dates are stored as iso\n        const cellDate = new Date(cellValue);\n\n        if (cellDate < filterLocalDate) {\n            return -1;\n        } else if (cellDate > filterLocalDate) {\n            return 1;\n        }\n        return 0;\n    },\n\n    sizeToFit: function(gridOptions) {\n        gridOptions.api.sizeColumnsToFit();\n    },\n\n    autoSizeAll: function(gridOptions) {\n        const allColumnIds = [];\n        gridOptions.columnApi.getAllColumns().forEach(column => {\n            allColumnIds.push(column.colId);\n        });\n        gridOptions.columnApi.autoSizeColumns(allColumnIds);\n    },\n\n    /**\n     * Exporting data to CSV using ag-Grid api.\n     * @param {Object} gridOptions\n     */\n    exportToCsv: function(gridOptions) {\n        const params = {\n            skipHeader: false,\n            columnGroups: true,\n            skipFooters: false,\n            skipGroups: false,\n            skipPinnedTop: false,\n            skipPinnedBottom: false,\n            allColumns: true,\n            onlySelected: false,\n            suppressQuotes: true,\n            fileName: 'my_file.csv',\n            sheetName: 'my_sheet',\n            shouldRowBeSkipped: () => false,\n            processCellCallback: param => param.value,\n            processHeaderCallback: null,\n        };\n        gridOptions.api.exportDataAsCsv(params);\n    },\n\n    /**\n     * Exporting data to Excel using ag-Grid api.\n     * @param {Object} gridOptions\n     */\n    exportToExcel: function(gridOptions) {\n        const params = {\n            skipHeader: false,\n            columnGroups: true,\n            skipFooters: false,\n            skipGroups: false,\n            skipPinnedTop: false,\n            skipPinnedBottom: false,\n            allColumns: true,\n            onlySelected: false,\n            suppressQuotes: true,\n            fileName: 'my_file.xls',\n            sheetName: 'my_sheet',\n            shouldRowBeSkipped: () => false, // TODO : check\n            processCellCallback: param => param.value,\n            processHeaderCallback: null,\n        };\n        gridOptions.api.exportDataAsExcel(params);\n    },\n};\n",
       "columns_fit": "size_to_fit",
       "compress_data": true,
       "export_mode": "disabled",
       "height": "350px",
       "js_helpers": "{\"dateFormatter\":\"function(node) {\\n        // make sure date is not undefined\\n        if (node && node.value) {\\n            let d = new Date(node.value);\\n            let h = d.getHours();\\n            let m = d.getMinutes();\\n            let s = d.getSeconds();\\n            const offset = d.getTimezoneOffset() * 60000;\\n            d = new Date(d.getTime() - offset);\\n            const ymd = d.toISOString().substring(0, 10);\\n            if (h === 0 && m === 0 && s === 0) {\\n                return ymd;\\n            }\\n            if (h === 0) h = '00';\\n            if (m === 0) m = '00';\\n            if (s === 0) s = '00';\\n            return `${ymd} ${h}:${m}:${s}`;\\n        }\\n        return null;\\n    }\",\"formatInt\":\" >-,.0f\",\"formatFloat\":\" >-,.2f\",\"intFormatter\":\"function(node) {\\n        return formatInt(node.value);\\n    }\",\"floatFormatter\":\"function(node) {\\n        return formatFloat(node.value);\\n    }\",\"compareDates\":\"function(filterLocalDate, cellValue) {\\n        // Assume dates are stored as iso\\n        const cellDate = new Date(cellValue);\\n\\n        if (cellDate < filterLocalDate) {\\n            return -1;\\n        } else if (cellDate > filterLocalDate) {\\n            return 1;\\n        }\\n        return 0;\\n    }\",\"sizeToFit\":\"function(gridOptions) {\\n        gridOptions.api.sizeColumnsToFit();\\n    }\",\"autoSizeAll\":\"function(gridOptions) {\\n        const allColumnIds = [];\\n        gridOptions.columnApi.getAllColumns().forEach(column => {\\n            allColumnIds.push(column.colId);\\n        });\\n        gridOptions.columnApi.autoSizeColumns(allColumnIds);\\n    }\",\"exportToCsv\":\"function(gridOptions) {\\n        const params = {\\n            skipHeader: false,\\n            columnGroups: true,\\n            skipFooters: false,\\n            skipGroups: false,\\n            skipPinnedTop: false,\\n            skipPinnedBottom: false,\\n            allColumns: true,\\n            onlySelected: false,\\n            suppressQuotes: true,\\n            fileName: 'my_file.csv',\\n            sheetName: 'my_sheet',\\n            shouldRowBeSkipped: () => false,\\n            processCellCallback: param => param.value,\\n            processHeaderCallback: null,\\n        };\\n        gridOptions.api.exportDataAsCsv(params);\\n    }\",\"exportToExcel\":\"function(gridOptions) {\\n        const params = {\\n            skipHeader: false,\\n            columnGroups: true,\\n            skipFooters: false,\\n            skipGroups: false,\\n            skipPinnedTop: false,\\n            skipPinnedBottom: false,\\n            allColumns: true,\\n            onlySelected: false,\\n            suppressQuotes: true,\\n            fileName: 'my_file.xls',\\n            sheetName: 'my_sheet',\\n            shouldRowBeSkipped: () => false, // TODO : check\\n            processCellCallback: param => param.value,\\n            processHeaderCallback: null,\\n        };\\n        gridOptions.api.exportDataAsExcel(params);\\n    }\"}",
       "layout": "IPY_MODEL_f6279e6accaf414daed012eeba9da376",
       "menu": {
        "button_div_css": ".flex-button-div-998780657 {\ndisplay: flex;\njustify-content: flex-start;\nalign-items: flex-start;\nalign-content: flex-start;\nflex-flow: row wrap;\n}\n",
        "buttons": [],
        "input_div_css": ".flex-input-div-998780657 {\ndisplay: flex;\njustify-content: flex-start;\nalign-items: baseline;\nalign-content: flex-start;\nflex-flow: row wrap;\n}\n",
        "inputs": [
         {
          "css": ".flex-child-quick-filter-998780657 {\norder: 0;\nalign-self: auto;\nmargin: 5px;\nflex: 0.00 1.00 auto;\nwidth: 150px;\n}\n",
          "name": "Quick Filter"
         }
        ],
        "menu_div_css": ".flex-menu-div-998780657 {\ndisplay: flex;\njustify-content: flex-start;\nalign-items: flex-start;\nalign-content: flex-start;\nflex-flow: row wrap;\n}\n"
       },
       "theme": "ag-theme-balham",
       "width": "100%"
      }
     },
     "267a32b02fef4f56b4e2574a51f08caa": {
      "model_module": "@jupyter-widgets/base",
      "model_module_version": "1.2.0",
      "model_name": "LayoutModel",
      "state": {}
     },
     "2718b99d048048d2b2993069b738ee65": {
      "model_module": "@jupyter-widgets/controls",
      "model_module_version": "1.5.0",
      "model_name": "DescriptionStyleModel",
      "state": {
       "description_width": ""
      }
     },
     "2725fcf9fa9147feb3d5b08e80c0278a": {
      "model_module": "@jupyter-widgets/base",
      "model_module_version": "1.2.0",
      "model_name": "LayoutModel",
      "state": {
       "align_items": "stretch",
       "border": "dashed 0.2px green",
       "display": "flex",
       "flex_flow": "row",
       "grid_auto_columns": "True",
       "justify_content": "flex-start",
       "width": "100%"
      }
     },
     "2767d2e736334919baaa897899e99816": {
      "model_module": "@jupyter-widgets/controls",
      "model_module_version": "1.5.0",
      "model_name": "HTMLModel",
      "state": {
       "layout": "IPY_MODEL_67a8851ee55948909370cdd7bdec4451",
       "style": "IPY_MODEL_d9c990b3e62345a6ae8f0ed48ef15867",
       "value": "<p>4th section of space name code (enter None if 4th section doesn't exist)</p>"
      }
     },
     "27dcdfee142d4436a01f2c0db3955b89": {
      "model_module": "@jupyter-widgets/base",
      "model_module_version": "1.2.0",
      "model_name": "LayoutModel",
      "state": {
       "align_items": "stretch",
       "display": "flex",
       "flex_flow": "row",
       "grid_auto_columns": "True",
       "justify_content": "flex-start",
       "width": "80%"
      }
     },
     "2867697fffcc43faa49c7aac981c4520": {
      "model_module": "@jupyter-widgets/controls",
      "model_module_version": "1.5.0",
      "model_name": "HTMLModel",
      "state": {
       "layout": "IPY_MODEL_ad73d363452f4971a8dba5a30e9de7c1",
       "style": "IPY_MODEL_fe146f9642b049f087347f7f0f880cad",
       "value": "<p>2nd section of space name code</p>"
      }
     },
     "2873189f128b470f957e8da56af4f10f": {
      "model_module": "@jupyter-widgets/controls",
      "model_module_version": "1.5.0",
      "model_name": "DescriptionStyleModel",
      "state": {
       "description_width": ""
      }
     },
     "28f4d88688a14e5da0b26920e74d7994": {
      "model_module": "@jupyter-widgets/controls",
      "model_module_version": "1.5.0",
      "model_name": "HTMLModel",
      "state": {
       "layout": "IPY_MODEL_6192941fe0b24d56bb851f975b06e278",
       "style": "IPY_MODEL_52936efb2fb04e21b1d8c0cff7554e78",
       "value": "<p>edit user input form below</p>"
      }
     },
     "28fc5e03493d428e9dd6db2cd4a04eaa": {
      "model_module": "@jupyter-widgets/base",
      "model_module_version": "1.2.0",
      "model_name": "LayoutModel",
      "state": {}
     },
     "29185132d1d449fc9f630a4eb6f50789": {
      "model_module": "@jupyter-widgets/controls",
      "model_module_version": "1.5.0",
      "model_name": "DescriptionStyleModel",
      "state": {
       "description_width": ""
      }
     },
     "29275c2181b24021836c6e6532ada1a0": {
      "model_module": "@jupyter-widgets/controls",
      "model_module_version": "1.5.0",
      "model_name": "HBoxModel",
      "state": {
       "children": [
        "IPY_MODEL_20751a0b3abf4867974d6cd93459a36e"
       ],
       "layout": "IPY_MODEL_3334cb70dcc54242b90d142f516f68d7"
      }
     },
     "2927e671a6d74069a797600181f61c9c": {
      "model_module": "@jupyter-widgets/controls",
      "model_module_version": "1.5.0",
      "model_name": "HBoxModel",
      "state": {
       "children": [
        "IPY_MODEL_e8ff986a692e4347af8588f3d5f32655"
       ],
       "layout": "IPY_MODEL_54add1db72be4f96b0b66927d2641cac"
      }
     },
     "294d33d6ab0242708f4cd1b14f11d219": {
      "model_module": "@jupyter-widgets/base",
      "model_module_version": "1.2.0",
      "model_name": "LayoutModel",
      "state": {}
     },
     "29d9cacae5e4460eb1b4f8c9d8c7e8a4": {
      "model_module": "@jupyter-widgets/base",
      "model_module_version": "1.2.0",
      "model_name": "LayoutModel",
      "state": {}
     },
     "2a20cf60cfcc46e1bf18ced56423b3e8": {
      "model_module": "@jupyter-widgets/controls",
      "model_module_version": "1.5.0",
      "model_name": "HBoxModel",
      "state": {
       "children": [
        "IPY_MODEL_2c0c77eaf3bc45db8f9ff26a510a8b74",
        "IPY_MODEL_1881fcd7eb504f52b50cd44e154dc1f2"
       ],
       "layout": "IPY_MODEL_89ba1ba287f74b2595ae6db28c4123bc"
      }
     },
     "2a66941298d847f8b84c21b4a6a3bef8": {
      "buffers": [
       {
        "data": "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",
        "encoding": "base64",
        "path": [
         "_grid_data_up"
        ]
       }
      ],
      "model_module": "ipyaggrid",
      "model_module_version": "~0.2.1",
      "model_name": "AgGridModel",
      "state": {
       "_grid_data_down": [
        {
         "@buildingStoreyIdRef": "STOREY_1",
         "@conditionType": "HeatedAndCooled",
         "@id": "TR000001",
         "@zoneIdRef": "ZONE_2",
         "Area": 55.809276,
         "BlockCode": "B",
         "CADObjectId": "TR000001",
         "Level": 0,
         "Name": "B_00_02_R5_WorkRoom2",
         "ShellGeometry": "OrderedDict([('@id', 'TR000001-shellgeometry'), ('ClosedShell', OrderedDict([('PolyLoop', [OrderedDict([('CartesianPoint', [OrderedDict([('Coordinate', ['36.968681', '11.169988', '0.000000'])]), OrderedDict([('Coordinate', ['29.193419', '11.169988', '-0.000000'])]), OrderedDict([('Coordinate', ['29.193419', '18.347788', '-0.000000'])]), OrderedDict([('Coordinate', ['36.968681', '18.347788', '0.000000'])])])]), OrderedDict([('CartesianPoint', [OrderedDict([('Coordinate', ['36.968681', '18.347788', '3.400000'])]), OrderedDict([('Coordinate', ['29.193419', '18.347788', '3.400000'])]), OrderedDict([('Coordinate', ['29.193419', '11.169988', '3.400000'])]), OrderedDict([('Coordinate', ['36.968681', '11.169988', '3.400000'])])])]), OrderedDict([('CartesianPoint', [OrderedDict([('Coordinate', ['29.193419', '18.347788', '-0.000000'])]), OrderedDict([('Coordinate', ['29.193419', '11.169988', '-0.000000'])]), OrderedDict([('Coordinate', ['29.193419', '11.169988', '3.400000'])]), OrderedDict([('Coordinate', ['29.193419', '18.347788', '3.400000'])])])]), OrderedDict([('CartesianPoint', [OrderedDict([('Coordinate', ['29.193419', '18.347788', '3.400000'])]), OrderedDict([('Coordinate', ['36.968681', '18.347788', '3.400000'])]), OrderedDict([('Coordinate', ['36.968681', '18.347788', '0.000000'])]), OrderedDict([('Coordinate', ['29.193419', '18.347788', '-0.000000'])])])]), OrderedDict([('CartesianPoint', [OrderedDict([('Coordinate', ['36.968681', '11.169988', '0.000000'])]), OrderedDict([('Coordinate', ['36.968681', '18.347788', '0.000000'])]), OrderedDict([('Coordinate', ['36.968681', '18.347788', '3.400000'])]), OrderedDict([('Coordinate', ['36.968681', '11.169988', '3.400000'])])])]), OrderedDict([('CartesianPoint', [OrderedDict([('Coordinate', ['29.193419', '11.169988', '-0.000000'])]), OrderedDict([('Coordinate', ['36.968681', '11.169988', '0.000000'])]), OrderedDict([('Coordinate', ['36.968681', '11.169988', '3.400000'])]), OrderedDict([('Coordinate', ['29.193419', '11.169988', '3.400000'])])])])])]))])",
         "SpaceBoundary": "[OrderedDict([('@isSecondLevelBoundary', 'true'), ('@surfaceIdRef', 'surface-1'), ('PlanarGeometry', OrderedDict([('PolyLoop', OrderedDict([('CartesianPoint', [OrderedDict([('Coordinate', ['36.968681', '11.169988', '0.000000'])]), OrderedDict([('Coordinate', ['29.193419', '11.169988', '0.000000'])]), OrderedDict([('Coordinate', ['29.193419', '18.347788', '0.000000'])]), OrderedDict([('Coordinate', ['36.968681', '18.347788', '0.000000'])])])]))]))]), OrderedDict([('@isSecondLevelBoundary', 'true'), ('@surfaceIdRef', 'surface-2'), ('PlanarGeometry', OrderedDict([('PolyLoop', OrderedDict([('CartesianPoint', [OrderedDict([('Coordinate', ['36.968681', '18.347788', '3.400000'])]), OrderedDict([('Coordinate', ['29.193419', '18.347788', '3.400000'])]), OrderedDict([('Coordinate', ['29.193419', '11.169988', '3.400000'])]), OrderedDict([('Coordinate', ['36.968681', '11.169988', '3.400000'])])])]))]))]), OrderedDict([('@isSecondLevelBoundary', 'true'), ('@surfaceIdRef', 'surface-3'), ('PlanarGeometry', OrderedDict([('PolyLoop', OrderedDict([('CartesianPoint', [OrderedDict([('Coordinate', ['29.193419', '18.347788', '0.000000'])]), OrderedDict([('Coordinate', ['29.193419', '11.169988', '0.000000'])]), OrderedDict([('Coordinate', ['29.193419', '11.169988', '3.400000'])]), OrderedDict([('Coordinate', ['29.193419', '18.347788', '3.400000'])])])]))]))]), OrderedDict([('@isSecondLevelBoundary', 'true'), ('@surfaceIdRef', 'surface-4'), ('PlanarGeometry', OrderedDict([('PolyLoop', OrderedDict([('CartesianPoint', [OrderedDict([('Coordinate', ['29.193419', '18.347788', '3.400000'])]), OrderedDict([('Coordinate', ['36.968681', '18.347788', '3.400000'])]), OrderedDict([('Coordinate', ['36.968681', '18.347788', '0.000000'])]), OrderedDict([('Coordinate', ['29.193419', '18.347788', '0.000000'])])])]))]))]), OrderedDict([('@isSecondLevelBoundary', 'true'), ('@surfaceIdRef', 'surface-5'), ('PlanarGeometry', OrderedDict([('PolyLoop', OrderedDict([('CartesianPoint', [OrderedDict([('Coordinate', ['36.968681', '11.169988', '0.000000'])]), OrderedDict([('Coordinate', ['36.968681', '18.347788', '0.000000'])]), OrderedDict([('Coordinate', ['36.968681', '18.347788', '3.400000'])]), OrderedDict([('Coordinate', ['36.968681', '11.169988', '3.400000'])])])]))]))]), OrderedDict([('@isSecondLevelBoundary', 'true'), ('@surfaceIdRef', 'surface-6'), ('PlanarGeometry', OrderedDict([('PolyLoop', OrderedDict([('CartesianPoint', [OrderedDict([('Coordinate', ['36.968681', '11.169988', '3.400000'])]), OrderedDict([('Coordinate', ['29.193419', '11.169988', '3.400000'])]), OrderedDict([('Coordinate', ['29.193419', '11.169988', '-0.000000'])]), OrderedDict([('Coordinate', ['36.968681', '11.169988', '-0.000000'])])])]))]))])]",
         "SpaceId": "R5",
         "SpaceType": "WorkRoom2",
         "TM46Category": 2,
         "TypeCode": 0,
         "Volume": 189.751537,
         "id": "105_LiveseyExchange_heatpump-normal-fabric, B_00_02_R5_WorkRoom2",
         "index": 0,
         "model": "105_LiveseyExchange_heatpump-normal-fabric"
        },
        {
         "@buildingStoreyIdRef": "STOREY_1",
         "@conditionType": "HeatedAndCooled",
         "@id": "TR000003",
         "@zoneIdRef": "ZONE_2",
         "Area": 55.981886,
         "BlockCode": "B",
         "CADObjectId": "TR000003",
         "Level": 0,
         "Name": "B_00_01_R4_WorkRoom1",
         "ShellGeometry": "OrderedDict([('@id', 'TR000003-shellgeometry'), ('ClosedShell', OrderedDict([('PolyLoop', [OrderedDict([('CartesianPoint', [OrderedDict([('Coordinate', ['36.968681', '3.969988', '0.000000'])]), OrderedDict([('Coordinate', ['29.193419', '3.969988', '0.000000'])]), OrderedDict([('Coordinate', ['29.193419', '11.169988', '-0.000000'])]), OrderedDict([('Coordinate', ['36.968681', '11.169988', '0.000000'])])])]), OrderedDict([('CartesianPoint', [OrderedDict([('Coordinate', ['36.968681', '11.169988', '3.400000'])]), OrderedDict([('Coordinate', ['29.193419', '11.169988', '3.400000'])]), OrderedDict([('Coordinate', ['29.193419', '3.969988', '3.400000'])]), OrderedDict([('Coordinate', ['36.968681', '3.969988', '3.400000'])])])]), OrderedDict([('CartesianPoint', [OrderedDict([('Coordinate', ['29.193419', '11.169988', '-0.000000'])]), OrderedDict([('Coordinate', ['29.193419', '3.969988', '0.000000'])]), OrderedDict([('Coordinate', ['29.193419', '3.969988', '3.400000'])]), OrderedDict([('Coordinate', ['29.193419', '11.169988', '3.400000'])])])]), OrderedDict([('CartesianPoint', [OrderedDict([('Coordinate', ['36.968681', '3.969988', '0.000000'])]), OrderedDict([('Coordinate', ['36.968681', '11.169988', '0.000000'])]), OrderedDict([('Coordinate', ['36.968681', '11.169988', '3.400000'])]), OrderedDict([('Coordinate', ['36.968681', '3.969988', '3.400000'])])])]), OrderedDict([('CartesianPoint', [OrderedDict([('Coordinate', ['29.193419', '3.969988', '0.000000'])]), OrderedDict([('Coordinate', ['36.968681', '3.969988', '0.000000'])]), OrderedDict([('Coordinate', ['36.968681', '3.969988', '3.400000'])]), OrderedDict([('Coordinate', ['29.193419', '3.969988', '3.400000'])])])]), OrderedDict([('CartesianPoint', [OrderedDict([('Coordinate', ['29.193419', '11.169988', '3.400000'])]), OrderedDict([('Coordinate', ['36.968681', '11.169988', '3.400000'])]), OrderedDict([('Coordinate', ['36.968681', '11.169988', '0.000000'])]), OrderedDict([('Coordinate', ['29.193419', '11.169988', '-0.000000'])])])])])]))])",
         "SpaceBoundary": "[OrderedDict([('@isSecondLevelBoundary', 'true'), ('@surfaceIdRef', 'surface-6'), ('PlanarGeometry', OrderedDict([('PolyLoop', OrderedDict([('CartesianPoint', [OrderedDict([('Coordinate', ['36.968681', '11.169988', '-0.000000'])]), OrderedDict([('Coordinate', ['29.193419', '11.169988', '-0.000000'])]), OrderedDict([('Coordinate', ['29.193419', '11.169988', '3.400000'])]), OrderedDict([('Coordinate', ['36.968681', '11.169988', '3.400000'])])])]))]))]), OrderedDict([('@isSecondLevelBoundary', 'true'), ('@surfaceIdRef', 'surface-7'), ('PlanarGeometry', OrderedDict([('PolyLoop', OrderedDict([('CartesianPoint', [OrderedDict([('Coordinate', ['36.968681', '3.969988', '0.000000'])]), OrderedDict([('Coordinate', ['29.193419', '3.969988', '0.000000'])]), OrderedDict([('Coordinate', ['29.193419', '11.169988', '0.000000'])]), OrderedDict([('Coordinate', ['36.968681', '11.169988', '0.000000'])])])]))]))]), OrderedDict([('@isSecondLevelBoundary', 'true'), ('@surfaceIdRef', 'surface-8'), ('PlanarGeometry', OrderedDict([('PolyLoop', OrderedDict([('CartesianPoint', [OrderedDict([('Coordinate', ['33.715237', '3.970000', '3.400000'])]), OrderedDict([('Coordinate', ['30.455237', '3.970000', '3.400000'])]), OrderedDict([('Coordinate', ['30.455237', '3.969988', '3.400000'])]), OrderedDict([('Coordinate', ['33.715237', '3.969988', '3.400000'])])])]))]))]), OrderedDict([('@isSecondLevelBoundary', 'true'), ('@surfaceIdRef', 'surface-9'), ('PlanarGeometry', OrderedDict([('PolyLoop', OrderedDict([('CartesianPoint', [OrderedDict([('Coordinate', ['36.968681', '11.169988', '3.400000'])]), OrderedDict([('Coordinate', ['30.455237', '11.169988', '3.400000'])]), OrderedDict([('Coordinate', ['30.455237', '3.970000', '3.400000'])]), OrderedDict([('Coordinate', ['36.968681', '3.970000', '3.400000'])])])]))]))]), OrderedDict([('@isSecondLevelBoundary', 'true'), ('@surfaceIdRef', 'surface-10'), ('PlanarGeometry', OrderedDict([('PolyLoop', OrderedDict([('CartesianPoint', [OrderedDict([('Coordinate', ['36.968681', '3.970000', '3.400000'])]), OrderedDict([('Coordinate', ['33.715237', '3.970000', '3.400000'])]), OrderedDict([('Coordinate', ['33.715237', '3.969988', '3.400000'])]), OrderedDict([('Coordinate', ['36.968681', '3.969988', '3.400000'])])])]))]))]), OrderedDict([('@isSecondLevelBoundary', 'true'), ('@surfaceIdRef', 'surface-11'), ('PlanarGeometry', OrderedDict([('PolyLoop', OrderedDict([('CartesianPoint', [OrderedDict([('Coordinate', ['30.455237', '11.169988', '3.400000'])]), OrderedDict([('Coordinate', ['29.193419', '11.169988', '3.400000'])]), OrderedDict([('Coordinate', ['29.193419', '3.969988', '3.400000'])]), OrderedDict([('Coordinate', ['30.455237', '3.969988', '3.400000'])])])]))]))]), OrderedDict([('@isSecondLevelBoundary', 'true'), ('@surfaceIdRef', 'surface-12'), ('PlanarGeometry', OrderedDict([('PolyLoop', OrderedDict([('CartesianPoint', [OrderedDict([('Coordinate', ['29.193419', '11.169988', '0.000000'])]), OrderedDict([('Coordinate', ['29.193419', '3.969988', '0.000000'])]), OrderedDict([('Coordinate', ['29.193419', '3.969988', '3.400000'])]), OrderedDict([('Coordinate', ['29.193419', '11.169988', '3.400000'])])])]))]))]), OrderedDict([('@isSecondLevelBoundary', 'true'), ('@surfaceIdRef', 'surface-13'), ('PlanarGeometry', OrderedDict([('PolyLoop', OrderedDict([('CartesianPoint', [OrderedDict([('Coordinate', ['36.968681', '3.969988', '0.000000'])]), OrderedDict([('Coordinate', ['36.968681', '11.169988', '0.000000'])]), OrderedDict([('Coordinate', ['36.968681', '11.169988', '3.400000'])]), OrderedDict([('Coordinate', ['36.968681', '3.969988', '3.400000'])])])]))]))]), OrderedDict([('@isSecondLevelBoundary', 'true'), ('@surfaceIdRef', 'surface-14'), ('PlanarGeometry', OrderedDict([('PolyLoop', OrderedDict([('CartesianPoint', [OrderedDict([('Coordinate', ['36.968681', '3.969988', '3.400000'])]), OrderedDict([('Coordinate', ['30.493681', '3.969988', '3.400000'])]), OrderedDict([('Coordinate', ['30.493681', '3.969988', '-0.000000'])]), OrderedDict([('Coordinate', ['36.968681', '3.969988', '-0.000000'])])])]))]))]), OrderedDict([('@isSecondLevelBoundary', 'true'), ('@surfaceIdRef', 'surface-15'), ('PlanarGeometry', OrderedDict([('PolyLoop', OrderedDict([('CartesianPoint', [OrderedDict([('Coordinate', ['29.193419', '3.969988', '0.000000'])]), OrderedDict([('Coordinate', ['30.493681', '3.969988', '0.000000'])]), OrderedDict([('Coordinate', ['30.493681', '3.969988', '3.400000'])]), OrderedDict([('Coordinate', ['29.193419', '3.969988', '3.400000'])])])]))]))])]",
         "SpaceId": "R4",
         "SpaceType": "WorkRoom1",
         "TM46Category": 1,
         "TypeCode": 0,
         "Volume": 190.338414,
         "id": "105_LiveseyExchange_heatpump-normal-fabric, B_00_01_R4_WorkRoom1",
         "index": 1,
         "model": "105_LiveseyExchange_heatpump-normal-fabric"
        },
        {
         "@buildingStoreyIdRef": "STOREY_1",
         "@conditionType": "HeatedAndCooled",
         "@id": "TR000006",
         "@zoneIdRef": "ZONE_2",
         "Area": 55.809276,
         "BlockCode": "B",
         "CADObjectId": "TR000006",
         "Level": 1,
         "Name": "B_01_01_R16_WorkRoom1",
         "ShellGeometry": "OrderedDict([('@id', 'TR000006-shellgeometry'), ('ClosedShell', OrderedDict([('PolyLoop', [OrderedDict([('CartesianPoint', [OrderedDict([('Coordinate', ['36.968681', '11.169988', '3.400000'])]), OrderedDict([('Coordinate', ['29.193419', '11.169988', '3.400000'])]), OrderedDict([('Coordinate', ['29.193419', '18.347788', '3.400000'])]), OrderedDict([('Coordinate', ['36.968681', '18.347788', '3.400000'])])])]), OrderedDict([('CartesianPoint', [OrderedDict([('Coordinate', ['36.968681', '18.347788', '6.800000'])]), OrderedDict([('Coordinate', ['29.193419', '18.347788', '6.800000'])]), OrderedDict([('Coordinate', ['29.193419', '11.169988', '6.800000'])]), OrderedDict([('Coordinate', ['36.968681', '11.169988', '6.800000'])])])]), OrderedDict([('CartesianPoint', [OrderedDict([('Coordinate', ['29.193419', '18.347788', '3.400000'])]), OrderedDict([('Coordinate', ['29.193419', '11.169988', '3.400000'])]), OrderedDict([('Coordinate', ['29.193419', '11.169988', '6.800000'])]), OrderedDict([('Coordinate', ['29.193419', '18.347788', '6.800000'])])])]), OrderedDict([('CartesianPoint', [OrderedDict([('Coordinate', ['29.193419', '18.347788', '6.800000'])]), OrderedDict([('Coordinate', ['36.968681', '18.347788', '6.800000'])]), OrderedDict([('Coordinate', ['36.968681', '18.347788', '3.400000'])]), OrderedDict([('Coordinate', ['29.193419', '18.347788', '3.400000'])])])]), OrderedDict([('CartesianPoint', [OrderedDict([('Coordinate', ['36.968681', '11.169988', '3.400000'])]), OrderedDict([('Coordinate', ['36.968681', '18.347788', '3.400000'])]), OrderedDict([('Coordinate', ['36.968681', '18.347788', '6.800000'])]), OrderedDict([('Coordinate', ['36.968681', '11.169988', '6.800000'])])])]), OrderedDict([('CartesianPoint', [OrderedDict([('Coordinate', ['29.193419', '11.169988', '3.400000'])]), OrderedDict([('Coordinate', ['36.968681', '11.169988', '3.400000'])]), OrderedDict([('Coordinate', ['36.968681', '11.169988', '6.800000'])]), OrderedDict([('Coordinate', ['29.193419', '11.169988', '6.800000'])])])])])]))])",
         "SpaceBoundary": "[OrderedDict([('@isSecondLevelBoundary', 'true'), ('@surfaceIdRef', 'surface-2'), ('PlanarGeometry', OrderedDict([('PolyLoop', OrderedDict([('CartesianPoint', [OrderedDict([('Coordinate', ['36.968681', '11.169988', '3.400000'])]), OrderedDict([('Coordinate', ['29.193419', '11.169988', '3.400000'])]), OrderedDict([('Coordinate', ['29.193419', '18.347788', '3.400000'])]), OrderedDict([('Coordinate', ['36.968681', '18.347788', '3.400000'])])])]))]))]), OrderedDict([('@isSecondLevelBoundary', 'true'), ('@surfaceIdRef', 'surface-16'), ('PlanarGeometry', OrderedDict([('PolyLoop', OrderedDict([('CartesianPoint', [OrderedDict([('Coordinate', ['36.968681', '18.347788', '6.800000'])]), OrderedDict([('Coordinate', ['29.193419', '18.347788', '6.800000'])]), OrderedDict([('Coordinate', ['29.193419', '11.169988', '6.800000'])]), OrderedDict([('Coordinate', ['36.968681', '11.169988', '6.800000'])])])]))]))]), OrderedDict([('@isSecondLevelBoundary', 'true'), ('@surfaceIdRef', 'surface-17'), ('PlanarGeometry', OrderedDict([('PolyLoop', OrderedDict([('CartesianPoint', [OrderedDict([('Coordinate', ['29.193419', '18.347788', '3.400000'])]), OrderedDict([('Coordinate', ['29.193419', '11.169988', '3.400000'])]), OrderedDict([('Coordinate', ['29.193419', '11.169988', '6.800000'])]), OrderedDict([('Coordinate', ['29.193419', '18.347788', '6.800000'])])])]))]))]), OrderedDict([('@isSecondLevelBoundary', 'true'), ('@surfaceIdRef', 'surface-18'), ('PlanarGeometry', OrderedDict([('PolyLoop', OrderedDict([('CartesianPoint', [OrderedDict([('Coordinate', ['29.193419', '18.347788', '6.800000'])]), OrderedDict([('Coordinate', ['36.968681', '18.347788', '6.800000'])]), OrderedDict([('Coordinate', ['36.968681', '18.347788', '3.400000'])]), OrderedDict([('Coordinate', ['29.193419', '18.347788', '3.400000'])])])]))]))]), OrderedDict([('@isSecondLevelBoundary', 'true'), ('@surfaceIdRef', 'surface-19'), ('PlanarGeometry', OrderedDict([('PolyLoop', OrderedDict([('CartesianPoint', [OrderedDict([('Coordinate', ['36.968681', '11.169988', '3.400000'])]), OrderedDict([('Coordinate', ['36.968681', '18.347788', '3.400000'])]), OrderedDict([('Coordinate', ['36.968681', '18.347788', '6.800000'])]), OrderedDict([('Coordinate', ['36.968681', '11.169988', '6.800000'])])])]))]))]), OrderedDict([('@isSecondLevelBoundary', 'true'), ('@surfaceIdRef', 'surface-20'), ('PlanarGeometry', OrderedDict([('PolyLoop', OrderedDict([('CartesianPoint', [OrderedDict([('Coordinate', ['36.968681', '11.169988', '6.800000'])]), OrderedDict([('Coordinate', ['30.455237', '11.169988', '6.800000'])]), OrderedDict([('Coordinate', ['30.455237', '11.169988', '3.400000'])]), OrderedDict([('Coordinate', ['36.968681', '11.169988', '3.400000'])])])]))]))]), OrderedDict([('@isSecondLevelBoundary', 'true'), ('@surfaceIdRef', 'surface-21'), ('PlanarGeometry', OrderedDict([('PolyLoop', OrderedDict([('CartesianPoint', [OrderedDict([('Coordinate', ['30.455237', '11.169988', '6.800000'])]), OrderedDict([('Coordinate', ['29.193419', '11.169988', '6.800000'])]), OrderedDict([('Coordinate', ['29.193419', '11.169988', '3.400000'])]), OrderedDict([('Coordinate', ['30.455237', '11.169988', '3.400000'])])])]))]))])]",
         "SpaceId": "R16",
         "SpaceType": "WorkRoom1",
         "TM46Category": 1,
         "TypeCode": 0,
         "Volume": 189.751537,
         "id": "105_LiveseyExchange_heatpump-normal-fabric, B_01_01_R16_WorkRoom1",
         "index": 2,
         "model": "105_LiveseyExchange_heatpump-normal-fabric"
        },
        {
         "@buildingStoreyIdRef": "STOREY_1",
         "@conditionType": "HeatedAndCooled",
         "@id": "TR000009",
         "@zoneIdRef": "ZONE_2",
         "Area": 2.353824,
         "BlockCode": "B",
         "CADObjectId": "TR000009",
         "Level": 0,
         "Name": "B_00_03_R6_WCExt",
         "ShellGeometry": "OrderedDict([('@id', 'TR000009-shellgeometry'), ('ClosedShell', OrderedDict([('PolyLoop', [OrderedDict([('CartesianPoint', [OrderedDict([('Coordinate', ['30.493681', '0.394968', '0.000000'])]), OrderedDict([('Coordinate', ['29.193419', '0.394968', '-0.000000'])]), OrderedDict([('Coordinate', ['29.193419', '2.205237', '0.000000'])]), OrderedDict([('Coordinate', ['30.493681', '2.205237', '0.000000'])])])]), OrderedDict([('CartesianPoint', [OrderedDict([('Coordinate', ['30.493681', '2.205237', '3.400000'])]), OrderedDict([('Coordinate', ['29.193419', '2.205237', '3.400000'])]), OrderedDict([('Coordinate', ['29.193419', '0.394968', '3.400000'])]), OrderedDict([('Coordinate', ['30.493681', '0.394968', '3.400000'])])])]), OrderedDict([('CartesianPoint', [OrderedDict([('Coordinate', ['29.193419', '2.205237', '0.000000'])]), OrderedDict([('Coordinate', ['29.193419', '0.394968', '-0.000000'])]), OrderedDict([('Coordinate', ['29.193419', '0.394968', '3.400000'])]), OrderedDict([('Coordinate', ['29.193419', '2.205237', '3.400000'])])])]), OrderedDict([('CartesianPoint', [OrderedDict([('Coordinate', ['29.193419', '0.394968', '-0.000000'])]), OrderedDict([('Coordinate', ['30.493681', '0.394968', '0.000000'])]), OrderedDict([('Coordinate', ['30.493681', '0.394968', '3.400000'])]), OrderedDict([('Coordinate', ['29.193419', '0.394968', '3.400000'])])])]), OrderedDict([('CartesianPoint', [OrderedDict([('Coordinate', ['30.493681', '0.394968', '0.000000'])]), OrderedDict([('Coordinate', ['30.493681', '2.205237', '0.000000'])]), OrderedDict([('Coordinate', ['30.493681', '2.205237', '3.400000'])]), OrderedDict([('Coordinate', ['30.493681', '0.394968', '3.400000'])])])]), OrderedDict([('CartesianPoint', [OrderedDict([('Coordinate', ['29.193419', '2.205237', '3.400000'])]), OrderedDict([('Coordinate', ['30.493681', '2.205237', '3.400000'])]), OrderedDict([('Coordinate', ['30.493681', '2.205237', '0.000000'])]), OrderedDict([('Coordinate', ['29.193419', '2.205237', '0.000000'])])])])])]))])",
         "SpaceBoundary": "[OrderedDict([('@isSecondLevelBoundary', 'true'), ('@surfaceIdRef', 'surface-22'), ('PlanarGeometry', OrderedDict([('PolyLoop', OrderedDict([('CartesianPoint', [OrderedDict([('Coordinate', ['30.493681', '0.394968', '0.000000'])]), OrderedDict([('Coordinate', ['29.193419', '0.394968', '0.000000'])]), OrderedDict([('Coordinate', ['29.193419', '2.205237', '0.000000'])]), OrderedDict([('Coordinate', ['30.493681', '2.205237', '0.000000'])])])]))]))]), OrderedDict([('@isSecondLevelBoundary', 'true'), ('@surfaceIdRef', 'surface-23'), ('PlanarGeometry', OrderedDict([('PolyLoop', OrderedDict([('CartesianPoint', [OrderedDict([('Coordinate', ['30.493681', '2.205237', '3.400000'])]), OrderedDict([('Coordinate', ['30.455237', '2.205237', '3.400000'])]), OrderedDict([('Coordinate', ['30.455237', '1.680000', '3.400000'])]), OrderedDict([('Coordinate', ['30.493681', '1.679837', '3.400000'])])])]))]))]), OrderedDict([('@isSecondLevelBoundary', 'true'), ('@surfaceIdRef', 'surface-24'), ('PlanarGeometry', OrderedDict([('PolyLoop', OrderedDict([('CartesianPoint', [OrderedDict([('Coordinate', ['30.455237', '2.205237', '3.400000'])]), OrderedDict([('Coordinate', ['29.193419', '2.205237', '3.400000'])]), OrderedDict([('Coordinate', ['29.193419', '0.394968', '3.400000'])]), OrderedDict([('Coordinate', ['30.493681', '0.394968', '3.400000'])]), OrderedDict([('Coordinate', ['30.493681', '1.679837', '3.400000'])]), OrderedDict([('Coordinate', ['30.455237', '1.680000', '3.400000'])])])]))]))]), OrderedDict([('@isSecondLevelBoundary', 'true'), ('@surfaceIdRef', 'surface-25'), ('PlanarGeometry', OrderedDict([('PolyLoop', OrderedDict([('CartesianPoint', [OrderedDict([('Coordinate', ['29.193419', '2.205237', '0.000000'])]), OrderedDict([('Coordinate', ['29.193419', '0.394968', '0.000000'])]), OrderedDict([('Coordinate', ['29.193419', '0.394968', '3.400000'])]), OrderedDict([('Coordinate', ['29.193419', '2.205237', '3.400000'])])])]))]))]), OrderedDict([('@isSecondLevelBoundary', 'true'), ('@surfaceIdRef', 'surface-26'), ('PlanarGeometry', OrderedDict([('PolyLoop', OrderedDict([('CartesianPoint', [OrderedDict([('Coordinate', ['29.193419', '0.394968', '0.000000'])]), OrderedDict([('Coordinate', ['30.493681', '0.394968', '0.000000'])]), OrderedDict([('Coordinate', ['30.493681', '0.394968', '3.400000'])]), OrderedDict([('Coordinate', ['29.193419', '0.394968', '3.400000'])])])]))]))]), OrderedDict([('@isSecondLevelBoundary', 'true'), ('@surfaceIdRef', 'surface-27'), ('PlanarGeometry', OrderedDict([('PolyLoop', OrderedDict([('CartesianPoint', [OrderedDict([('Coordinate', ['30.493681', '2.205237', '3.400000'])]), OrderedDict([('Coordinate', ['30.493681', '0.394968', '3.400000'])]), OrderedDict([('Coordinate', ['30.493681', '0.394968', '0.000000'])]), OrderedDict([('Coordinate', ['30.493681', '2.205237', '0.000000'])])])]))]))]), OrderedDict([('@isSecondLevelBoundary', 'true'), ('@surfaceIdRef', 'surface-28'), ('PlanarGeometry', OrderedDict([('PolyLoop', OrderedDict([('CartesianPoint', [OrderedDict([('Coordinate', ['29.193419', '2.205237', '3.400000'])]), OrderedDict([('Coordinate', ['30.493681', '2.205237', '3.400000'])]), OrderedDict([('Coordinate', ['30.493681', '2.205237', '0.000000'])]), OrderedDict([('Coordinate', ['29.193419', '2.205237', '0.000000'])])])]))]))])]",
         "SpaceId": "R6",
         "SpaceType": "WCExt",
         "TM46Category": 3,
         "TypeCode": 0,
         "Volume": 8.003002,
         "id": "105_LiveseyExchange_heatpump-normal-fabric, B_00_03_R6_WCExt",
         "index": 3,
         "model": "105_LiveseyExchange_heatpump-normal-fabric"
        },
        {
         "@buildingStoreyIdRef": "STOREY_1",
         "@conditionType": "HeatedAndCooled",
         "@id": "RM000002",
         "@zoneIdRef": "ZONE_1",
         "Area": 13.691116,
         "BlockCode": "A",
         "CADObjectId": "RM000002",
         "Level": 1,
         "Name": "A_01_05_R7_Corridor",
         "ShellGeometry": "OrderedDict([('@id', 'RM000002-shellgeometry'), ('ClosedShell', OrderedDict([('PolyLoop', [OrderedDict([('CartesianPoint', [OrderedDict([('Coordinate', ['21.956680', '0.382000', '3.400000'])]), OrderedDict([('Coordinate', ['11.203681', '0.382000', '3.400000'])]), OrderedDict([('Coordinate', ['11.203681', '1.655237', '3.400000'])]), OrderedDict([('Coordinate', ['21.956680', '1.655237', '3.400000'])])])]), OrderedDict([('CartesianPoint', [OrderedDict([('Coordinate', ['21.956680', '1.655237', '6.800000'])]), OrderedDict([('Coordinate', ['11.203681', '1.655237', '6.800000'])]), OrderedDict([('Coordinate', ['11.203681', '0.382000', '6.800000'])]), OrderedDict([('Coordinate', ['21.956680', '0.382000', '6.800000'])])])]), OrderedDict([('CartesianPoint', [OrderedDict([('Coordinate', ['21.956680', '0.382000', '3.400000'])]), OrderedDict([('Coordinate', ['21.956680', '1.655237', '3.400000'])]), OrderedDict([('Coordinate', ['21.956680', '1.655237', '6.800000'])]), OrderedDict([('Coordinate', ['21.956680', '0.382000', '6.800000'])])])]), OrderedDict([('CartesianPoint', [OrderedDict([('Coordinate', ['11.203681', '0.382000', '3.400000'])]), OrderedDict([('Coordinate', ['21.956680', '0.382000', '3.400000'])]), OrderedDict([('Coordinate', ['21.956680', '0.382000', '6.800000'])]), OrderedDict([('Coordinate', ['11.203681', '0.382000', '6.800000'])])])]), OrderedDict([('CartesianPoint', [OrderedDict([('Coordinate', ['11.203681', '1.655237', '3.400000'])]), OrderedDict([('Coordinate', ['11.203681', '0.382000', '3.400000'])]), OrderedDict([('Coordinate', ['11.203681', '0.382000', '6.800000'])]), OrderedDict([('Coordinate', ['11.203681', '1.655237', '6.800000'])])])]), OrderedDict([('CartesianPoint', [OrderedDict([('Coordinate', ['11.203681', '1.655237', '6.800000'])]), OrderedDict([('Coordinate', ['21.956680', '1.655237', '6.800000'])]), OrderedDict([('Coordinate', ['21.956680', '1.655237', '3.400000'])]), OrderedDict([('Coordinate', ['11.203681', '1.655237', '3.400000'])])])])])]))])",
         "SpaceBoundary": "[OrderedDict([('@isSecondLevelBoundary', 'true'), ('@surfaceIdRef', 'surface-29'), ('PlanarGeometry', OrderedDict([('PolyLoop', OrderedDict([('CartesianPoint', [OrderedDict([('Coordinate', ['21.956680', '0.382000', '3.400000'])]), OrderedDict([('Coordinate', ['11.203681', '0.382000', '3.400000'])]), OrderedDict([('Coordinate', ['11.203681', '1.655237', '3.400000'])]), OrderedDict([('Coordinate', ['21.956680', '1.655237', '3.400000'])])])]))]))]), OrderedDict([('@isSecondLevelBoundary', 'true'), ('@surfaceIdRef', 'surface-30'), ('PlanarGeometry', OrderedDict([('PolyLoop', OrderedDict([('CartesianPoint', [OrderedDict([('Coordinate', ['21.956680', '1.655237', '6.800000'])]), OrderedDict([('Coordinate', ['11.203681', '1.655237', '6.800000'])]), OrderedDict([('Coordinate', ['11.203681', '0.382000', '6.800000'])]), OrderedDict([('Coordinate', ['21.956680', '0.382000', '6.800000'])])])]))]))]), OrderedDict([('@isSecondLevelBoundary', 'true'), ('@surfaceIdRef', 'surface-31'), ('PlanarGeometry', OrderedDict([('PolyLoop', OrderedDict([('CartesianPoint', [OrderedDict([('Coordinate', ['21.956680', '0.382000', '3.400000'])]), OrderedDict([('Coordinate', ['21.956680', '1.655237', '3.400000'])]), OrderedDict([('Coordinate', ['21.956680', '1.655237', '6.800000'])]), OrderedDict([('Coordinate', ['21.956680', '0.382000', '6.800000'])])])]))]))]), OrderedDict([('@isSecondLevelBoundary', 'true'), ('@surfaceIdRef', 'surface-32'), ('PlanarGeometry', OrderedDict([('PolyLoop', OrderedDict([('CartesianPoint', [OrderedDict([('Coordinate', ['11.203681', '0.382000', '3.400000'])]), OrderedDict([('Coordinate', ['21.956680', '0.382000', '3.400000'])]), OrderedDict([('Coordinate', ['21.956680', '0.382000', '6.800000'])]), OrderedDict([('Coordinate', ['11.203681', '0.382000', '6.800000'])])])]))]))]), OrderedDict([('@isSecondLevelBoundary', 'true'), ('@surfaceIdRef', 'surface-33'), ('PlanarGeometry', OrderedDict([('PolyLoop', OrderedDict([('CartesianPoint', [OrderedDict([('Coordinate', ['11.203681', '1.655237', '3.400000'])]), OrderedDict([('Coordinate', ['11.203681', '0.382000', '3.400000'])]), OrderedDict([('Coordinate', ['11.203681', '0.382000', '6.800000'])]), OrderedDict([('Coordinate', ['11.203681', '1.655237', '6.800000'])])])]))]))]), OrderedDict([('@isSecondLevelBoundary', 'true'), ('@surfaceIdRef', 'surface-34'), ('PlanarGeometry', OrderedDict([('PolyLoop', OrderedDict([('CartesianPoint', [OrderedDict([('Coordinate', ['14.803681', '1.655237', '3.400000'])]), OrderedDict([('Coordinate', ['11.203681', '1.655237', '3.400000'])]), OrderedDict([('Coordinate', ['11.203681', '1.655237', '6.800000'])]), OrderedDict([('Coordinate', ['14.803681', '1.655237', '6.800000'])])])]))]))]), OrderedDict([('@isSecondLevelBoundary', 'true'), ('@surfaceIdRef', 'surface-35'), ('PlanarGeometry', OrderedDict([('PolyLoop', OrderedDict([('CartesianPoint', [OrderedDict([('Coordinate', ['18.403681', '1.655237', '3.400000'])]), OrderedDict([('Coordinate', ['14.803681', '1.655237', '3.400000'])]), OrderedDict([('Coordinate', ['14.803681', '1.655237', '6.800000'])]), OrderedDict([('Coordinate', ['18.403681', '1.655237', '6.800000'])])])]))]))]), OrderedDict([('@isSecondLevelBoundary', 'true'), ('@surfaceIdRef', 'surface-36'), ('PlanarGeometry', OrderedDict([('PolyLoop', OrderedDict([('CartesianPoint', [OrderedDict([('Coordinate', ['21.956680', '1.655237', '3.400000'])]), OrderedDict([('Coordinate', ['18.403681', '1.655237', '3.400000'])]), OrderedDict([('Coordinate', ['18.403681', '1.655237', '6.800000'])]), OrderedDict([('Coordinate', ['21.956680', '1.655237', '6.800000'])])])]))]))])]",
         "SpaceId": "R7",
         "SpaceType": "Corridor",
         "TM46Category": 5,
         "TypeCode": 0,
         "Volume": 46.549795,
         "id": "105_LiveseyExchange_heatpump-normal-fabric, A_01_05_R7_Corridor",
         "index": 4,
         "model": "105_LiveseyExchange_heatpump-normal-fabric"
        },
        {
         "@buildingStoreyIdRef": "STOREY_1",
         "@conditionType": "HeatedAndCooled",
         "@id": "RM000003",
         "@zoneIdRef": "ZONE_1",
         "Area": 23.41314,
         "BlockCode": "A",
         "CADObjectId": "RM000003",
         "Level": 1,
         "Name": "A_01_03_R10_Workroom3",
         "ShellGeometry": "OrderedDict([('@id', 'RM000003-shellgeometry'), ('ClosedShell', OrderedDict([('PolyLoop', [OrderedDict([('CartesianPoint', [OrderedDict([('Coordinate', ['14.803681', '1.655237', '3.400000'])]), OrderedDict([('Coordinate', ['11.203681', '1.655237', '3.400000'])]), OrderedDict([('Coordinate', ['11.203681', '8.158887', '3.400000'])]), OrderedDict([('Coordinate', ['14.803681', '8.158887', '3.400000'])])])]), OrderedDict([('CartesianPoint', [OrderedDict([('Coordinate', ['14.803681', '8.158887', '6.800000'])]), OrderedDict([('Coordinate', ['11.203681', '8.158887', '6.800000'])]), OrderedDict([('Coordinate', ['11.203681', '1.655237', '6.800000'])]), OrderedDict([('Coordinate', ['14.803681', '1.655237', '6.800000'])])])]), OrderedDict([('CartesianPoint', [OrderedDict([('Coordinate', ['14.803681', '8.158887', '3.400000'])]), OrderedDict([('Coordinate', ['11.203681', '8.158887', '3.400000'])]), OrderedDict([('Coordinate', ['11.203681', '8.158887', '6.800000'])]), OrderedDict([('Coordinate', ['14.803681', '8.158887', '6.800000'])])])]), OrderedDict([('CartesianPoint', [OrderedDict([('Coordinate', ['11.203681', '8.158887', '3.400000'])]), OrderedDict([('Coordinate', ['11.203681', '1.655237', '3.400000'])]), OrderedDict([('Coordinate', ['11.203681', '1.655237', '6.800000'])]), OrderedDict([('Coordinate', ['11.203681', '8.158887', '6.800000'])])])]), OrderedDict([('CartesianPoint', [OrderedDict([('Coordinate', ['11.203681', '1.655237', '3.400000'])]), OrderedDict([('Coordinate', ['14.803681', '1.655237', '3.400000'])]), OrderedDict([('Coordinate', ['14.803681', '1.655237', '6.800000'])]), OrderedDict([('Coordinate', ['11.203681', '1.655237', '6.800000'])])])]), OrderedDict([('CartesianPoint', [OrderedDict([('Coordinate', ['14.803681', '8.158887', '6.800000'])]), OrderedDict([('Coordinate', ['14.803681', '1.655237', '6.800000'])]), OrderedDict([('Coordinate', ['14.803681', '1.655237', '3.400000'])]), OrderedDict([('Coordinate', ['14.803681', '8.158887', '3.400000'])])])])])]))])",
         "SpaceBoundary": "[OrderedDict([('@isSecondLevelBoundary', 'true'), ('@surfaceIdRef', 'surface-34'), ('PlanarGeometry', OrderedDict([('PolyLoop', OrderedDict([('CartesianPoint', [OrderedDict([('Coordinate', ['14.803681', '1.655237', '6.800000'])]), OrderedDict([('Coordinate', ['11.203681', '1.655237', '6.800000'])]), OrderedDict([('Coordinate', ['11.203681', '1.655237', '3.400000'])]), OrderedDict([('Coordinate', ['14.803681', '1.655237', '3.400000'])])])]))]))]), OrderedDict([('@isSecondLevelBoundary', 'true'), ('@surfaceIdRef', 'surface-37'), ('PlanarGeometry', OrderedDict([('PolyLoop', OrderedDict([('CartesianPoint', [OrderedDict([('Coordinate', ['14.803681', '1.655237', '3.400000'])]), OrderedDict([('Coordinate', ['11.203681', '1.655237', '3.400000'])]), OrderedDict([('Coordinate', ['11.203681', '8.158887', '3.400000'])]), OrderedDict([('Coordinate', ['14.803681', '8.158887', '3.400000'])])])]))]))]), OrderedDict([('@isSecondLevelBoundary', 'true'), ('@surfaceIdRef', 'surface-38'), ('PlanarGeometry', OrderedDict([('PolyLoop', OrderedDict([('CartesianPoint', [OrderedDict([('Coordinate', ['14.803681', '8.158887', '6.800000'])]), OrderedDict([('Coordinate', ['11.203681', '8.158887', '6.800000'])]), OrderedDict([('Coordinate', ['11.203681', '1.655237', '6.800000'])]), OrderedDict([('Coordinate', ['14.803681', '1.655237', '6.800000'])])])]))]))]), OrderedDict([('@isSecondLevelBoundary', 'true'), ('@surfaceIdRef', 'surface-39'), ('PlanarGeometry', OrderedDict([('PolyLoop', OrderedDict([('CartesianPoint', [OrderedDict([('Coordinate', ['14.803681', '8.158887', '3.400000'])]), OrderedDict([('Coordinate', ['11.203681', '8.158887', '3.400000'])]), OrderedDict([('Coordinate', ['11.203681', '8.158887', '6.800000'])]), OrderedDict([('Coordinate', ['14.803681', '8.158887', '6.800000'])])])]))]))]), OrderedDict([('@isSecondLevelBoundary', 'true'), ('@surfaceIdRef', 'surface-40'), ('PlanarGeometry', OrderedDict([('PolyLoop', OrderedDict([('CartesianPoint', [OrderedDict([('Coordinate', ['11.203681', '1.655237', '6.800000'])]), OrderedDict([('Coordinate', ['11.203681', '8.158887', '6.800000'])]), OrderedDict([('Coordinate', ['11.203681', '8.158887', '3.400000'])]), OrderedDict([('Coordinate', ['11.203681', '1.655237', '3.400000'])])])]))]))]), OrderedDict([('@isSecondLevelBoundary', 'true'), ('@surfaceIdRef', 'surface-41'), ('PlanarGeometry', OrderedDict([('PolyLoop', OrderedDict([('CartesianPoint', [OrderedDict([('Coordinate', ['14.803681', '8.158887', '6.800000'])]), OrderedDict([('Coordinate', ['14.803681', '1.655237', '6.800000'])]), OrderedDict([('Coordinate', ['14.803681', '1.655237', '3.400000'])]), OrderedDict([('Coordinate', ['14.803681', '8.158887', '3.400000'])])])]))]))])]",
         "SpaceId": "R10",
         "SpaceType": "Workroom3",
         "TM46Category": 3,
         "TypeCode": 0,
         "Volume": 79.604676,
         "id": "105_LiveseyExchange_heatpump-normal-fabric, A_01_03_R10_Workroom3",
         "index": 5,
         "model": "105_LiveseyExchange_heatpump-normal-fabric"
        },
        {
         "@buildingStoreyIdRef": "STOREY_1",
         "@conditionType": "HeatedAndCooled",
         "@id": "RM000004",
         "@zoneIdRef": "ZONE_1",
         "Area": 23.41314,
         "BlockCode": "A",
         "CADObjectId": "RM000004",
         "Level": 1,
         "Name": "A_01_02_R9_Workroom2",
         "ShellGeometry": "OrderedDict([('@id', 'RM000004-shellgeometry'), ('ClosedShell', OrderedDict([('PolyLoop', [OrderedDict([('CartesianPoint', [OrderedDict([('Coordinate', ['18.403681', '1.655237', '3.400000'])]), OrderedDict([('Coordinate', ['14.803681', '1.655237', '3.400000'])]), OrderedDict([('Coordinate', ['14.803681', '8.158887', '3.400000'])]), OrderedDict([('Coordinate', ['18.403681', '8.158887', '3.400000'])])])]), OrderedDict([('CartesianPoint', [OrderedDict([('Coordinate', ['18.403681', '8.158887', '6.800000'])]), OrderedDict([('Coordinate', ['14.803681', '8.158887', '6.800000'])]), OrderedDict([('Coordinate', ['14.803681', '1.655237', '6.800000'])]), OrderedDict([('Coordinate', ['18.403681', '1.655237', '6.800000'])])])]), OrderedDict([('CartesianPoint', [OrderedDict([('Coordinate', ['18.403681', '8.158887', '3.400000'])]), OrderedDict([('Coordinate', ['14.803681', '8.158887', '3.400000'])]), OrderedDict([('Coordinate', ['14.803681', '8.158887', '6.800000'])]), OrderedDict([('Coordinate', ['18.403681', '8.158887', '6.800000'])])])]), OrderedDict([('CartesianPoint', [OrderedDict([('Coordinate', ['14.803681', '1.655237', '3.400000'])]), OrderedDict([('Coordinate', ['18.403681', '1.655237', '3.400000'])]), OrderedDict([('Coordinate', ['18.403681', '1.655237', '6.800000'])]), OrderedDict([('Coordinate', ['14.803681', '1.655237', '6.800000'])])])]), OrderedDict([('CartesianPoint', [OrderedDict([('Coordinate', ['14.803681', '8.158887', '3.400000'])]), OrderedDict([('Coordinate', ['14.803681', '1.655237', '3.400000'])]), OrderedDict([('Coordinate', ['14.803681', '1.655237', '6.800000'])]), OrderedDict([('Coordinate', ['14.803681', '8.158887', '6.800000'])])])]), OrderedDict([('CartesianPoint', [OrderedDict([('Coordinate', ['18.403681', '8.158887', '6.800000'])]), OrderedDict([('Coordinate', ['18.403681', '1.655237', '6.800000'])]), OrderedDict([('Coordinate', ['18.403681', '1.655237', '3.400000'])]), OrderedDict([('Coordinate', ['18.403681', '8.158887', '3.400000'])])])])])]))])",
         "SpaceBoundary": "[OrderedDict([('@isSecondLevelBoundary', 'true'), ('@surfaceIdRef', 'surface-35'), ('PlanarGeometry', OrderedDict([('PolyLoop', OrderedDict([('CartesianPoint', [OrderedDict([('Coordinate', ['18.403681', '1.655237', '6.800000'])]), OrderedDict([('Coordinate', ['14.803681', '1.655237', '6.800000'])]), OrderedDict([('Coordinate', ['14.803681', '1.655237', '3.400000'])]), OrderedDict([('Coordinate', ['18.403681', '1.655237', '3.400000'])])])]))]))]), OrderedDict([('@isSecondLevelBoundary', 'true'), ('@surfaceIdRef', 'surface-41'), ('PlanarGeometry', OrderedDict([('PolyLoop', OrderedDict([('CartesianPoint', [OrderedDict([('Coordinate', ['14.803681', '8.158887', '3.400000'])]), OrderedDict([('Coordinate', ['14.803681', '1.655237', '3.400000'])]), OrderedDict([('Coordinate', ['14.803681', '1.655237', '6.800000'])]), OrderedDict([('Coordinate', ['14.803681', '8.158887', '6.800000'])])])]))]))]), OrderedDict([('@isSecondLevelBoundary', 'true'), ('@surfaceIdRef', 'surface-42'), ('PlanarGeometry', OrderedDict([('PolyLoop', OrderedDict([('CartesianPoint', [OrderedDict([('Coordinate', ['18.403681', '1.655237', '3.400000'])]), OrderedDict([('Coordinate', ['14.803681', '1.655237', '3.400000'])]), OrderedDict([('Coordinate', ['14.803681', '8.158887', '3.400000'])]), OrderedDict([('Coordinate', ['18.403681', '8.158887', '3.400000'])]), OrderedDict([('Coordinate', ['18.403681', '6.919988', '3.400000'])]), OrderedDict([('Coordinate', ['18.373681', '6.919988', '3.400000'])]), OrderedDict([('Coordinate', ['18.373681', '1.659988', '3.400000'])]), OrderedDict([('Coordinate', ['18.403681', '1.659769', '3.400000'])])])]))]))]), OrderedDict([('@isSecondLevelBoundary', 'true'), ('@surfaceIdRef', 'surface-43'), ('PlanarGeometry', OrderedDict([('PolyLoop', OrderedDict([('CartesianPoint', [OrderedDict([('Coordinate', ['18.403681', '1.659769', '3.400000'])]), OrderedDict([('Coordinate', ['18.373681', '1.659988', '3.400000'])]), OrderedDict([('Coordinate', ['18.373681', '6.919988', '3.400000'])]), OrderedDict([('Coordinate', ['18.403681', '6.919988', '3.400000'])])])]))]))]), OrderedDict([('@isSecondLevelBoundary', 'true'), ('@surfaceIdRef', 'surface-44'), ('PlanarGeometry', OrderedDict([('PolyLoop', OrderedDict([('CartesianPoint', [OrderedDict([('Coordinate', ['18.403681', '8.158887', '6.800000'])]), OrderedDict([('Coordinate', ['14.803681', '8.158887', '6.800000'])]), OrderedDict([('Coordinate', ['14.803681', '1.655237', '6.800000'])]), OrderedDict([('Coordinate', ['18.403681', '1.655237', '6.800000'])])])]))]))]), OrderedDict([('@isSecondLevelBoundary', 'true'), ('@surfaceIdRef', 'surface-45'), ('PlanarGeometry', OrderedDict([('PolyLoop', OrderedDict([('CartesianPoint', [OrderedDict([('Coordinate', ['18.403681', '8.158887', '3.400000'])]), OrderedDict([('Coordinate', ['14.803681', '8.158887', '3.400000'])]), OrderedDict([('Coordinate', ['14.803681', '8.158887', '6.800000'])]), OrderedDict([('Coordinate', ['18.403681', '8.158887', '6.800000'])])])]))]))]), OrderedDict([('@isSecondLevelBoundary', 'true'), ('@surfaceIdRef', 'surface-46'), ('PlanarGeometry', OrderedDict([('PolyLoop', OrderedDict([('CartesianPoint', [OrderedDict([('Coordinate', ['18.403681', '8.158887', '6.800000'])]), OrderedDict([('Coordinate', ['18.403681', '1.655237', '6.800000'])]), OrderedDict([('Coordinate', ['18.403681', '1.655237', '3.400000'])]), OrderedDict([('Coordinate', ['18.403681', '8.158887', '3.400000'])])])]))]))])]",
         "SpaceId": "R9",
         "SpaceType": "Workroom2",
         "TM46Category": 2,
         "TypeCode": 0,
         "Volume": 79.604676,
         "id": "105_LiveseyExchange_heatpump-normal-fabric, A_01_02_R9_Workroom2",
         "index": 6,
         "model": "105_LiveseyExchange_heatpump-normal-fabric"
        },
        {
         "@buildingStoreyIdRef": "STOREY_1",
         "@conditionType": "HeatedAndCooled",
         "@id": "TR000002",
         "@zoneIdRef": "ZONE_2",
         "Area": 10.766713,
         "BlockCode": "B",
         "CADObjectId": "TR000002",
         "Level": 0,
         "Name": "B_00_03_R6_WCLobby",
         "ShellGeometry": "OrderedDict([('@id', 'TR000002-shellgeometry'), ('ClosedShell', OrderedDict([('PolyLoop', [OrderedDict([('CartesianPoint', [OrderedDict([('Coordinate', ['36.968681', '2.635237', '0.000000'])]), OrderedDict([('Coordinate', ['36.968681', '3.969988', '0.000000'])]), OrderedDict([('Coordinate', ['36.968681', '3.969988', '3.400000'])]), OrderedDict([('Coordinate', ['36.968681', '2.635237', '3.400000'])])])]), OrderedDict([('CartesianPoint', [OrderedDict([('Coordinate', ['30.493681', '3.969988', '0.000000'])]), OrderedDict([('Coordinate', ['30.493681', '2.205237', '0.000000'])]), OrderedDict([('Coordinate', ['30.493681', '2.205237', '3.400000'])]), OrderedDict([('Coordinate', ['30.493681', '3.969988', '3.400000'])])])]), OrderedDict([('CartesianPoint', [OrderedDict([('Coordinate', ['36.968681', '3.969988', '0.000000'])]), OrderedDict([('Coordinate', ['30.493681', '3.969988', '0.000000'])]), OrderedDict([('Coordinate', ['30.493681', '3.969988', '3.400000'])]), OrderedDict([('Coordinate', ['36.968681', '3.969988', '3.400000'])])])]), OrderedDict([('CartesianPoint', [OrderedDict([('Coordinate', ['36.968681', '2.635237', '0.000000'])]), OrderedDict([('Coordinate', ['35.433681', '2.635237', '0.000000'])]), OrderedDict([('Coordinate', ['35.433681', '2.205237', '0.000000'])]), OrderedDict([('Coordinate', ['30.493681', '2.205237', '0.000000'])]), OrderedDict([('Coordinate', ['30.493681', '3.969988', '0.000000'])]), OrderedDict([('Coordinate', ['36.968681', '3.969988', '0.000000'])])])]), OrderedDict([('CartesianPoint', [OrderedDict([('Coordinate', ['36.968681', '3.969988', '3.400000'])]), OrderedDict([('Coordinate', ['30.493681', '3.969988', '3.400000'])]), OrderedDict([('Coordinate', ['30.493681', '2.205237', '3.400000'])]), OrderedDict([('Coordinate', ['35.433681', '2.205237', '3.400000'])]), OrderedDict([('Coordinate', ['35.433681', '2.635237', '3.400000'])]), OrderedDict([('Coordinate', ['36.968681', '2.635237', '3.400000'])])])]), OrderedDict([('CartesianPoint', [OrderedDict([('Coordinate', ['30.493681', '2.205237', '0.000000'])]), OrderedDict([('Coordinate', ['35.433681', '2.205237', '0.000000'])]), OrderedDict([('Coordinate', ['35.433681', '2.205237', '3.400000'])]), OrderedDict([('Coordinate', ['30.493681', '2.205237', '3.400000'])])])]), OrderedDict([('CartesianPoint', [OrderedDict([('Coordinate', ['35.433681', '2.635237', '0.000000'])]), OrderedDict([('Coordinate', ['36.968681', '2.635237', '0.000000'])]), OrderedDict([('Coordinate', ['36.968681', '2.635237', '3.400000'])]), OrderedDict([('Coordinate', ['35.433681', '2.635237', '3.400000'])])])]), OrderedDict([('CartesianPoint', [OrderedDict([('Coordinate', ['35.433681', '2.205237', '0.000000'])]), OrderedDict([('Coordinate', ['35.433681', '2.635237', '0.000000'])]), OrderedDict([('Coordinate', ['35.433681', '2.635237', '3.400000'])]), OrderedDict([('Coordinate', ['35.433681', '2.205237', '3.400000'])])])])])]))])",
         "SpaceBoundary": "[OrderedDict([('@isSecondLevelBoundary', 'true'), ('@surfaceIdRef', 'surface-14'), ('PlanarGeometry', OrderedDict([('PolyLoop', OrderedDict([('CartesianPoint', [OrderedDict([('Coordinate', ['36.968681', '3.969988', '-0.000000'])]), OrderedDict([('Coordinate', ['30.493681', '3.969988', '-0.000000'])]), OrderedDict([('Coordinate', ['30.493681', '3.969988', '3.400000'])]), OrderedDict([('Coordinate', ['36.968681', '3.969988', '3.400000'])])])]))]))]), OrderedDict([('@isSecondLevelBoundary', 'true'), ('@surfaceIdRef', 'surface-47'), ('PlanarGeometry', OrderedDict([('PolyLoop', OrderedDict([('CartesianPoint', [OrderedDict([('Coordinate', ['36.968681', '2.635237', '0.000000'])]), OrderedDict([('Coordinate', ['36.968681', '3.969988', '0.000000'])]), OrderedDict([('Coordinate', ['36.968681', '3.969988', '3.400000'])]), OrderedDict([('Coordinate', ['36.968681', '2.635237', '3.400000'])])])]))]))]), OrderedDict([('@isSecondLevelBoundary', 'true'), ('@surfaceIdRef', 'surface-48'), ('PlanarGeometry', OrderedDict([('PolyLoop', OrderedDict([('CartesianPoint', [OrderedDict([('Coordinate', ['30.493681', '3.969988', '0.000000'])]), OrderedDict([('Coordinate', ['30.493681', '2.205237', '0.000000'])]), OrderedDict([('Coordinate', ['30.493681', '2.205237', '3.400000'])]), OrderedDict([('Coordinate', ['30.493681', '3.969988', '3.400000'])])])]))]))]), OrderedDict([('@isSecondLevelBoundary', 'true'), ('@surfaceIdRef', 'surface-49'), ('PlanarGeometry', OrderedDict([('PolyLoop', OrderedDict([('CartesianPoint', [OrderedDict([('Coordinate', ['36.968681', '2.635237', '0.000000'])]), OrderedDict([('Coordinate', ['35.433681', '2.635237', '0.000000'])]), OrderedDict([('Coordinate', ['35.433681', '2.205237', '0.000000'])]), OrderedDict([('Coordinate', ['30.493681', '2.205237', '0.000000'])]), OrderedDict([('Coordinate', ['30.493681', '3.969988', '0.000000'])]), OrderedDict([('Coordinate', ['36.968681', '3.969988', '0.000000'])])])]))]))]), OrderedDict([('@isSecondLevelBoundary', 'true'), ('@surfaceIdRef', 'surface-50'), ('PlanarGeometry', OrderedDict([('PolyLoop', OrderedDict([('CartesianPoint', [OrderedDict([('Coordinate', ['33.715237', '3.969988', '3.400000'])]), OrderedDict([('Coordinate', ['30.493681', '3.969988', '3.400000'])]), OrderedDict([('Coordinate', ['30.493681', '2.205237', '3.400000'])]), OrderedDict([('Coordinate', ['33.715237', '2.205237', '3.400000'])])])]))]))]), OrderedDict([('@isSecondLevelBoundary', 'true'), ('@surfaceIdRef', 'surface-51'), ('PlanarGeometry', OrderedDict([('PolyLoop', OrderedDict([('CartesianPoint', [OrderedDict([('Coordinate', ['36.968681', '3.969988', '3.400000'])]), OrderedDict([('Coordinate', ['33.715237', '3.969988', '3.400000'])]), OrderedDict([('Coordinate', ['33.715237', '3.428000', '3.400000'])]), OrderedDict([('Coordinate', ['36.968681', '3.428000', '3.400000'])])])]))]))]), OrderedDict([('@isSecondLevelBoundary', 'true'), ('@surfaceIdRef', 'surface-52'), ('PlanarGeometry', OrderedDict([('PolyLoop', OrderedDict([('CartesianPoint', [OrderedDict([('Coordinate', ['36.968681', '3.428000', '3.400000'])]), OrderedDict([('Coordinate', ['33.715237', '3.428000', '3.400000'])]), OrderedDict([('Coordinate', ['33.715237', '2.205237', '3.400000'])]), OrderedDict([('Coordinate', ['35.433681', '2.205237', '3.400000'])]), OrderedDict([('Coordinate', ['35.433681', '2.635237', '3.400000'])]), OrderedDict([('Coordinate', ['36.968681', '2.635237', '3.400000'])])])]))]))]), OrderedDict([('@isSecondLevelBoundary', 'true'), ('@surfaceIdRef', 'surface-53'), ('PlanarGeometry', OrderedDict([('PolyLoop', OrderedDict([('CartesianPoint', [OrderedDict([('Coordinate', ['31.483681', '2.205237', '3.400000'])]), OrderedDict([('Coordinate', ['30.493681', '2.205237', '3.400000'])]), OrderedDict([('Coordinate', ['30.493681', '2.205237', '-0.000000'])]), OrderedDict([('Coordinate', ['31.483681', '2.205237', '-0.000000'])])])]))]))]), OrderedDict([('@isSecondLevelBoundary', 'true'), ('@surfaceIdRef', 'surface-54'), ('PlanarGeometry', OrderedDict([('PolyLoop', OrderedDict([('CartesianPoint', [OrderedDict([('Coordinate', ['32.363681', '2.205237', '3.400000'])]), OrderedDict([('Coordinate', ['31.483681', '2.205237', '3.400000'])]), OrderedDict([('Coordinate', ['31.483681', '2.205237', '-0.000000'])]), OrderedDict([('Coordinate', ['32.363681', '2.205237', '-0.000000'])])])]))]))]), OrderedDict([('@isSecondLevelBoundary', 'true'), ('@surfaceIdRef', 'surface-55'), ('PlanarGeometry', OrderedDict([('PolyLoop', OrderedDict([('CartesianPoint', [OrderedDict([('Coordinate', ['33.243681', '2.205237', '3.400000'])]), OrderedDict([('Coordinate', ['32.363681', '2.205237', '3.400000'])]), OrderedDict([('Coordinate', ['32.363681', '2.205237', '-0.000000'])]), OrderedDict([('Coordinate', ['33.243681', '2.205237', '-0.000000'])])])]))]))]), OrderedDict([('@isSecondLevelBoundary', 'true'), ('@surfaceIdRef', 'surface-56'), ('PlanarGeometry', OrderedDict([('PolyLoop', OrderedDict([('CartesianPoint', [OrderedDict([('Coordinate', ['35.433681', '2.205237', '3.400000'])]), OrderedDict([('Coordinate', ['34.163681', '2.205237', '3.400000'])]), OrderedDict([('Coordinate', ['34.163681', '2.205237', '-0.000000'])]), OrderedDict([('Coordinate', ['35.433681', '2.205237', '-0.000000'])])])]))]))]), OrderedDict([('@isSecondLevelBoundary', 'true'), ('@surfaceIdRef', 'surface-57'), ('PlanarGeometry', OrderedDict([('PolyLoop', OrderedDict([('CartesianPoint', [OrderedDict([('Coordinate', ['34.163681', '2.205237', '3.400000'])]), OrderedDict([('Coordinate', ['33.243681', '2.205237', '3.400000'])]), OrderedDict([('Coordinate', ['33.243681', '2.205237', '-0.000000'])]), OrderedDict([('Coordinate', ['34.163681', '2.205237', '-0.000000'])])])]))]))]), OrderedDict([('@isSecondLevelBoundary', 'true'), ('@surfaceIdRef', 'surface-58'), ('PlanarGeometry', OrderedDict([('PolyLoop', OrderedDict([('CartesianPoint', [OrderedDict([('Coordinate', ['36.968681', '2.635237', '3.400000'])]), OrderedDict([('Coordinate', ['35.433681', '2.635237', '3.400000'])]), OrderedDict([('Coordinate', ['35.433681', '2.635237', '-0.000000'])]), OrderedDict([('Coordinate', ['36.968681', '2.635237', '-0.000000'])])])]))]))]), OrderedDict([('@isSecondLevelBoundary', 'true'), ('@surfaceIdRef', 'surface-59'), ('PlanarGeometry', OrderedDict([('PolyLoop', OrderedDict([('CartesianPoint', [OrderedDict([('Coordinate', ['35.433681', '2.635237', '3.400000'])]), OrderedDict([('Coordinate', ['35.433681', '2.205237', '3.400000'])]), OrderedDict([('Coordinate', ['35.433681', '2.205237', '0.000000'])]), OrderedDict([('Coordinate', ['35.433681', '2.635237', '0.000000'])])])]))]))])]",
         "SpaceId": "R6",
         "SpaceType": "WCLobby",
         "TM46Category": 3,
         "TypeCode": 0,
         "Volume": 36.606823,
         "id": "105_LiveseyExchange_heatpump-normal-fabric, B_00_03_R6_WCLobby",
         "index": 7,
         "model": "105_LiveseyExchange_heatpump-normal-fabric"
        },
        {
         "@buildingStoreyIdRef": "STOREY_1",
         "@conditionType": "HeatedAndCooled",
         "@id": "TR00000C",
         "@zoneIdRef": "ZONE_2",
         "Area": 3.438813,
         "BlockCode": "B",
         "CADObjectId": "TR00000C",
         "Level": 0,
         "Name": "B_00_03_R6_AWC",
         "ShellGeometry": "OrderedDict([('@id', 'TR00000C-shellgeometry'), ('ClosedShell', OrderedDict([('PolyLoop', [OrderedDict([('CartesianPoint', [OrderedDict([('Coordinate', ['35.433681', '0.394968', '0.000000'])]), OrderedDict([('Coordinate', ['36.968681', '0.394968', '-0.000000'])]), OrderedDict([('Coordinate', ['36.968681', '0.394968', '3.400000'])]), OrderedDict([('Coordinate', ['35.433681', '0.394968', '3.400000'])])])]), OrderedDict([('CartesianPoint', [OrderedDict([('Coordinate', ['35.433681', '2.635237', '3.400000'])]), OrderedDict([('Coordinate', ['36.968681', '2.635237', '3.400000'])]), OrderedDict([('Coordinate', ['36.968681', '2.635237', '0.000000'])]), OrderedDict([('Coordinate', ['35.433681', '2.635237', '0.000000'])])])]), OrderedDict([('CartesianPoint', [OrderedDict([('Coordinate', ['36.968681', '0.394968', '-0.000000'])]), OrderedDict([('Coordinate', ['36.968681', '2.635237', '0.000000'])]), OrderedDict([('Coordinate', ['36.968681', '2.635237', '3.400000'])]), OrderedDict([('Coordinate', ['36.968681', '0.394968', '3.400000'])])])]), OrderedDict([('CartesianPoint', [OrderedDict([('Coordinate', ['36.968681', '0.394968', '-0.000000'])]), OrderedDict([('Coordinate', ['35.433681', '0.394968', '0.000000'])]), OrderedDict([('Coordinate', ['35.433681', '2.635237', '0.000000'])]), OrderedDict([('Coordinate', ['36.968681', '2.635237', '0.000000'])])])]), OrderedDict([('CartesianPoint', [OrderedDict([('Coordinate', ['35.433681', '0.394968', '3.400000'])]), OrderedDict([('Coordinate', ['36.968681', '0.394968', '3.400000'])]), OrderedDict([('Coordinate', ['36.968681', '2.635237', '3.400000'])]), OrderedDict([('Coordinate', ['35.433681', '2.635237', '3.400000'])])])]), OrderedDict([('CartesianPoint', [OrderedDict([('Coordinate', ['35.433681', '2.635237', '0.000000'])]), OrderedDict([('Coordinate', ['35.433681', '0.394968', '0.000000'])]), OrderedDict([('Coordinate', ['35.433681', '0.394968', '3.400000'])]), OrderedDict([('Coordinate', ['35.433681', '2.635237', '3.400000'])])])])])]))])",
         "SpaceBoundary": "[OrderedDict([('@isSecondLevelBoundary', 'true'), ('@surfaceIdRef', 'surface-58'), ('PlanarGeometry', OrderedDict([('PolyLoop', OrderedDict([('CartesianPoint', [OrderedDict([('Coordinate', ['36.968681', '2.635237', '-0.000000'])]), OrderedDict([('Coordinate', ['35.433681', '2.635237', '-0.000000'])]), OrderedDict([('Coordinate', ['35.433681', '2.635237', '3.400000'])]), OrderedDict([('Coordinate', ['36.968681', '2.635237', '3.400000'])])])]))]))]), OrderedDict([('@isSecondLevelBoundary', 'true'), ('@surfaceIdRef', 'surface-59'), ('PlanarGeometry', OrderedDict([('PolyLoop', OrderedDict([('CartesianPoint', [OrderedDict([('Coordinate', ['35.433681', '2.635237', '0.000000'])]), OrderedDict([('Coordinate', ['35.433681', '2.205237', '0.000000'])]), OrderedDict([('Coordinate', ['35.433681', '2.205237', '3.400000'])]), OrderedDict([('Coordinate', ['35.433681', '2.635237', '3.400000'])])])]))]))]), OrderedDict([('@isSecondLevelBoundary', 'true'), ('@surfaceIdRef', 'surface-60'), ('PlanarGeometry', OrderedDict([('PolyLoop', OrderedDict([('CartesianPoint', [OrderedDict([('Coordinate', ['35.433681', '0.394968', '0.000000'])]), OrderedDict([('Coordinate', ['36.968681', '0.394968', '0.000000'])]), OrderedDict([('Coordinate', ['36.968681', '0.394968', '3.400000'])]), OrderedDict([('Coordinate', ['35.433681', '0.394968', '3.400000'])])])]))]))]), OrderedDict([('@isSecondLevelBoundary', 'true'), ('@surfaceIdRef', 'surface-61'), ('PlanarGeometry', OrderedDict([('PolyLoop', OrderedDict([('CartesianPoint', [OrderedDict([('Coordinate', ['36.968681', '0.394968', '0.000000'])]), OrderedDict([('Coordinate', ['36.968681', '2.635237', '0.000000'])]), OrderedDict([('Coordinate', ['36.968681', '2.635237', '3.400000'])]), OrderedDict([('Coordinate', ['36.968681', '0.394968', '3.400000'])])])]))]))]), OrderedDict([('@isSecondLevelBoundary', 'true'), ('@surfaceIdRef', 'surface-62'), ('PlanarGeometry', OrderedDict([('PolyLoop', OrderedDict([('CartesianPoint', [OrderedDict([('Coordinate', ['36.968681', '0.394968', '0.000000'])]), OrderedDict([('Coordinate', ['35.433681', '0.394968', '0.000000'])]), OrderedDict([('Coordinate', ['35.433681', '2.635237', '0.000000'])]), OrderedDict([('Coordinate', ['36.968681', '2.635237', '0.000000'])])])]))]))]), OrderedDict([('@isSecondLevelBoundary', 'true'), ('@surfaceIdRef', 'surface-63'), ('PlanarGeometry', OrderedDict([('PolyLoop', OrderedDict([('CartesianPoint', [OrderedDict([('Coordinate', ['36.968681', '2.635237', '3.400000'])]), OrderedDict([('Coordinate', ['35.433681', '2.635237', '3.400000'])]), OrderedDict([('Coordinate', ['35.433681', '0.394968', '3.400000'])]), OrderedDict([('Coordinate', ['36.968681', '0.394968', '3.400000'])])])]))]))]), OrderedDict([('@isSecondLevelBoundary', 'true'), ('@surfaceIdRef', 'surface-64'), ('PlanarGeometry', OrderedDict([('PolyLoop', OrderedDict([('CartesianPoint', [OrderedDict([('Coordinate', ['35.433681', '0.394968', '3.400000'])]), OrderedDict([('Coordinate', ['35.433681', '2.205237', '3.400000'])]), OrderedDict([('Coordinate', ['35.433681', '2.205237', '-0.000000'])]), OrderedDict([('Coordinate', ['35.433681', '0.394968', '-0.000000'])])])]))]))])]",
         "SpaceId": "R6",
         "SpaceType": "AWC",
         "TM46Category": 3,
         "TypeCode": 0,
         "Volume": 11.691964,
         "id": "105_LiveseyExchange_heatpump-normal-fabric, B_00_03_R6_AWC",
         "index": 8,
         "model": "105_LiveseyExchange_heatpump-normal-fabric"
        },
        {
         "@buildingStoreyIdRef": "STOREY_1",
         "@conditionType": "HeatedAndCooled",
         "@id": "TR00000A",
         "@zoneIdRef": "ZONE_2",
         "Area": 1.792166,
         "BlockCode": "B",
         "CADObjectId": "TR00000A",
         "Level": 0,
         "Name": "B_00_03_R6_WCCubicle1",
         "ShellGeometry": "OrderedDict([('@id', 'TR00000A-shellgeometry'), ('ClosedShell', OrderedDict([('PolyLoop', [OrderedDict([('CartesianPoint', [OrderedDict([('Coordinate', ['30.493681', '0.394968', '0.000000'])]), OrderedDict([('Coordinate', ['31.483681', '0.394968', '0.000000'])]), OrderedDict([('Coordinate', ['31.483681', '0.394968', '3.400000'])]), OrderedDict([('Coordinate', ['30.493681', '0.394968', '3.400000'])])])]), OrderedDict([('CartesianPoint', [OrderedDict([('Coordinate', ['30.493681', '2.205237', '0.000000'])]), OrderedDict([('Coordinate', ['30.493681', '0.394968', '0.000000'])]), OrderedDict([('Coordinate', ['30.493681', '0.394968', '3.400000'])]), OrderedDict([('Coordinate', ['30.493681', '2.205237', '3.400000'])])])]), OrderedDict([('CartesianPoint', [OrderedDict([('Coordinate', ['31.483681', '0.394968', '0.000000'])]), OrderedDict([('Coordinate', ['30.493681', '0.394968', '0.000000'])]), OrderedDict([('Coordinate', ['30.493681', '2.205237', '0.000000'])]), OrderedDict([('Coordinate', ['31.483681', '2.205237', '0.000000'])])])]), OrderedDict([('CartesianPoint', [OrderedDict([('Coordinate', ['31.483681', '2.205237', '3.400000'])]), OrderedDict([('Coordinate', ['30.493681', '2.205237', '3.400000'])]), OrderedDict([('Coordinate', ['30.493681', '0.394968', '3.400000'])]), OrderedDict([('Coordinate', ['31.483681', '0.394968', '3.400000'])])])]), OrderedDict([('CartesianPoint', [OrderedDict([('Coordinate', ['31.483681', '2.205237', '0.000000'])]), OrderedDict([('Coordinate', ['30.493681', '2.205237', '0.000000'])]), OrderedDict([('Coordinate', ['30.493681', '2.205237', '3.400000'])]), OrderedDict([('Coordinate', ['31.483681', '2.205237', '3.400000'])])])]), OrderedDict([('CartesianPoint', [OrderedDict([('Coordinate', ['31.483681', '2.205237', '3.400000'])]), OrderedDict([('Coordinate', ['31.483681', '0.394968', '3.400000'])]), OrderedDict([('Coordinate', ['31.483681', '0.394968', '0.000000'])]), OrderedDict([('Coordinate', ['31.483681', '2.205237', '0.000000'])])])])])]))])",
         "SpaceBoundary": "[OrderedDict([('@isSecondLevelBoundary', 'true'), ('@surfaceIdRef', 'surface-27'), ('PlanarGeometry', OrderedDict([('PolyLoop', OrderedDict([('CartesianPoint', [OrderedDict([('Coordinate', ['30.493681', '2.205237', '0.000000'])]), OrderedDict([('Coordinate', ['30.493681', '0.394968', '0.000000'])]), OrderedDict([('Coordinate', ['30.493681', '0.394968', '3.400000'])]), OrderedDict([('Coordinate', ['30.493681', '2.205237', '3.400000'])])])]))]))]), OrderedDict([('@isSecondLevelBoundary', 'true'), ('@surfaceIdRef', 'surface-53'), ('PlanarGeometry', OrderedDict([('PolyLoop', OrderedDict([('CartesianPoint', [OrderedDict([('Coordinate', ['31.483681', '2.205237', '-0.000000'])]), OrderedDict([('Coordinate', ['30.493681', '2.205237', '-0.000000'])]), OrderedDict([('Coordinate', ['30.493681', '2.205237', '3.400000'])]), OrderedDict([('Coordinate', ['31.483681', '2.205237', '3.400000'])])])]))]))]), OrderedDict([('@isSecondLevelBoundary', 'true'), ('@surfaceIdRef', 'surface-65'), ('PlanarGeometry', OrderedDict([('PolyLoop', OrderedDict([('CartesianPoint', [OrderedDict([('Coordinate', ['30.493681', '0.394968', '0.000000'])]), OrderedDict([('Coordinate', ['31.483681', '0.394968', '0.000000'])]), OrderedDict([('Coordinate', ['31.483681', '0.394968', '3.400000'])]), OrderedDict([('Coordinate', ['30.493681', '0.394968', '3.400000'])])])]))]))]), OrderedDict([('@isSecondLevelBoundary', 'true'), ('@surfaceIdRef', 'surface-66'), ('PlanarGeometry', OrderedDict([('PolyLoop', OrderedDict([('CartesianPoint', [OrderedDict([('Coordinate', ['31.483681', '0.394968', '0.000000'])]), OrderedDict([('Coordinate', ['30.493681', '0.394968', '0.000000'])]), OrderedDict([('Coordinate', ['30.493681', '2.205237', '0.000000'])]), OrderedDict([('Coordinate', ['31.483681', '2.205237', '0.000000'])])])]))]))]), OrderedDict([('@isSecondLevelBoundary', 'true'), ('@surfaceIdRef', 'surface-67'), ('PlanarGeometry', OrderedDict([('PolyLoop', OrderedDict([('CartesianPoint', [OrderedDict([('Coordinate', ['31.483681', '2.205237', '3.400000'])]), OrderedDict([('Coordinate', ['30.493681', '2.205237', '3.400000'])]), OrderedDict([('Coordinate', ['30.493681', '1.679837', '3.400000'])]), OrderedDict([('Coordinate', ['31.483681', '1.675642', '3.400000'])])])]))]))]), OrderedDict([('@isSecondLevelBoundary', 'true'), ('@surfaceIdRef', 'surface-68'), ('PlanarGeometry', OrderedDict([('PolyLoop', OrderedDict([('CartesianPoint', [OrderedDict([('Coordinate', ['30.493681', '1.679837', '3.400000'])]), OrderedDict([('Coordinate', ['30.493681', '0.394968', '3.400000'])]), OrderedDict([('Coordinate', ['31.483681', '0.394968', '3.400000'])]), OrderedDict([('Coordinate', ['31.483681', '1.675642', '3.400000'])])])]))]))]), OrderedDict([('@isSecondLevelBoundary', 'true'), ('@surfaceIdRef', 'surface-69'), ('PlanarGeometry', OrderedDict([('PolyLoop', OrderedDict([('CartesianPoint', [OrderedDict([('Coordinate', ['31.483681', '2.205237', '3.400000'])]), OrderedDict([('Coordinate', ['31.483681', '0.394968', '3.400000'])]), OrderedDict([('Coordinate', ['31.483681', '0.394968', '0.000000'])]), OrderedDict([('Coordinate', ['31.483681', '2.205237', '0.000000'])])])]))]))])]",
         "SpaceId": "R6",
         "SpaceType": "WCCubicle1",
         "TM46Category": 3,
         "TypeCode": 0,
         "Volume": 6.093365,
         "id": "105_LiveseyExchange_heatpump-normal-fabric, B_00_03_R6_WCCubicle1",
         "index": 9,
         "model": "105_LiveseyExchange_heatpump-normal-fabric"
        },
        {
         "@buildingStoreyIdRef": "STOREY_1",
         "@conditionType": "HeatedAndCooled",
         "@id": "TR00000B",
         "@zoneIdRef": "ZONE_2",
         "Area": 1.593037,
         "BlockCode": "B",
         "CADObjectId": "TR00000B",
         "Level": 0,
         "Name": "B_00_03_R6_WCCubicle2",
         "ShellGeometry": "OrderedDict([('@id', 'TR00000B-shellgeometry'), ('ClosedShell', OrderedDict([('PolyLoop', [OrderedDict([('CartesianPoint', [OrderedDict([('Coordinate', ['31.483681', '0.394968', '0.000000'])]), OrderedDict([('Coordinate', ['32.363681', '0.394968', '0.000000'])]), OrderedDict([('Coordinate', ['32.363681', '0.394968', '3.400000'])]), OrderedDict([('Coordinate', ['31.483681', '0.394968', '3.400000'])])])]), OrderedDict([('CartesianPoint', [OrderedDict([('Coordinate', ['32.363681', '0.394968', '0.000000'])]), OrderedDict([('Coordinate', ['31.483681', '0.394968', '0.000000'])]), OrderedDict([('Coordinate', ['31.483681', '2.205237', '0.000000'])]), OrderedDict([('Coordinate', ['32.363681', '2.205237', '0.000000'])])])]), OrderedDict([('CartesianPoint', [OrderedDict([('Coordinate', ['32.363681', '2.205237', '3.400000'])]), OrderedDict([('Coordinate', ['31.483681', '2.205237', '3.400000'])]), OrderedDict([('Coordinate', ['31.483681', '0.394968', '3.400000'])]), OrderedDict([('Coordinate', ['32.363681', '0.394968', '3.400000'])])])]), OrderedDict([('CartesianPoint', [OrderedDict([('Coordinate', ['32.363681', '2.205237', '0.000000'])]), OrderedDict([('Coordinate', ['31.483681', '2.205237', '0.000000'])]), OrderedDict([('Coordinate', ['31.483681', '2.205237', '3.400000'])]), OrderedDict([('Coordinate', ['32.363681', '2.205237', '3.400000'])])])]), OrderedDict([('CartesianPoint', [OrderedDict([('Coordinate', ['31.483681', '2.205237', '0.000000'])]), OrderedDict([('Coordinate', ['31.483681', '0.394968', '0.000000'])]), OrderedDict([('Coordinate', ['31.483681', '0.394968', '3.400000'])]), OrderedDict([('Coordinate', ['31.483681', '2.205237', '3.400000'])])])]), OrderedDict([('CartesianPoint', [OrderedDict([('Coordinate', ['32.363681', '2.205237', '3.400000'])]), OrderedDict([('Coordinate', ['32.363681', '0.394968', '3.400000'])]), OrderedDict([('Coordinate', ['32.363681', '0.394968', '0.000000'])]), OrderedDict([('Coordinate', ['32.363681', '2.205237', '0.000000'])])])])])]))])",
         "SpaceBoundary": "[OrderedDict([('@isSecondLevelBoundary', 'true'), ('@surfaceIdRef', 'surface-54'), ('PlanarGeometry', OrderedDict([('PolyLoop', OrderedDict([('CartesianPoint', [OrderedDict([('Coordinate', ['32.363681', '2.205237', '-0.000000'])]), OrderedDict([('Coordinate', ['31.483681', '2.205237', '-0.000000'])]), OrderedDict([('Coordinate', ['31.483681', '2.205237', '3.400000'])]), OrderedDict([('Coordinate', ['32.363681', '2.205237', '3.400000'])])])]))]))]), OrderedDict([('@isSecondLevelBoundary', 'true'), ('@surfaceIdRef', 'surface-69'), ('PlanarGeometry', OrderedDict([('PolyLoop', OrderedDict([('CartesianPoint', [OrderedDict([('Coordinate', ['31.483681', '2.205237', '0.000000'])]), OrderedDict([('Coordinate', ['31.483681', '0.394968', '0.000000'])]), OrderedDict([('Coordinate', ['31.483681', '0.394968', '3.400000'])]), OrderedDict([('Coordinate', ['31.483681', '2.205237', '3.400000'])])])]))]))]), OrderedDict([('@isSecondLevelBoundary', 'true'), ('@surfaceIdRef', 'surface-70'), ('PlanarGeometry', OrderedDict([('PolyLoop', OrderedDict([('CartesianPoint', [OrderedDict([('Coordinate', ['31.483681', '0.394968', '0.000000'])]), OrderedDict([('Coordinate', ['32.363681', '0.394968', '0.000000'])]), OrderedDict([('Coordinate', ['32.363681', '0.394968', '3.400000'])]), OrderedDict([('Coordinate', ['31.483681', '0.394968', '3.400000'])])])]))]))]), OrderedDict([('@isSecondLevelBoundary', 'true'), ('@surfaceIdRef', 'surface-71'), ('PlanarGeometry', OrderedDict([('PolyLoop', OrderedDict([('CartesianPoint', [OrderedDict([('Coordinate', ['32.363681', '0.394968', '0.000000'])]), OrderedDict([('Coordinate', ['31.483681', '0.394968', '0.000000'])]), OrderedDict([('Coordinate', ['31.483681', '2.205237', '0.000000'])]), OrderedDict([('Coordinate', ['32.363681', '2.205237', '0.000000'])])])]))]))]), OrderedDict([('@isSecondLevelBoundary', 'true'), ('@surfaceIdRef', 'surface-72'), ('PlanarGeometry', OrderedDict([('PolyLoop', OrderedDict([('CartesianPoint', [OrderedDict([('Coordinate', ['32.363681', '2.205237', '3.400000'])]), OrderedDict([('Coordinate', ['31.483681', '2.205237', '3.400000'])]), OrderedDict([('Coordinate', ['31.483681', '1.675642', '3.400000'])]), OrderedDict([('Coordinate', ['32.363681', '1.671913', '3.400000'])])])]))]))]), OrderedDict([('@isSecondLevelBoundary', 'true'), ('@surfaceIdRef', 'surface-73'), ('PlanarGeometry', OrderedDict([('PolyLoop', OrderedDict([('CartesianPoint', [OrderedDict([('Coordinate', ['31.483681', '1.675642', '3.400000'])]), OrderedDict([('Coordinate', ['31.483681', '0.394968', '3.400000'])]), OrderedDict([('Coordinate', ['32.363681', '0.394968', '3.400000'])]), OrderedDict([('Coordinate', ['32.363681', '1.671913', '3.400000'])])])]))]))]), OrderedDict([('@isSecondLevelBoundary', 'true'), ('@surfaceIdRef', 'surface-74'), ('PlanarGeometry', OrderedDict([('PolyLoop', OrderedDict([('CartesianPoint', [OrderedDict([('Coordinate', ['32.363681', '2.205237', '3.400000'])]), OrderedDict([('Coordinate', ['32.363681', '0.394968', '3.400000'])]), OrderedDict([('Coordinate', ['32.363681', '0.394968', '0.000000'])]), OrderedDict([('Coordinate', ['32.363681', '2.205237', '0.000000'])])])]))]))])]",
         "SpaceId": "R6",
         "SpaceType": "WCCubicle2",
         "TM46Category": 3,
         "TypeCode": 0,
         "Volume": 5.416325,
         "id": "105_LiveseyExchange_heatpump-normal-fabric, B_00_03_R6_WCCubicle2",
         "index": 10,
         "model": "105_LiveseyExchange_heatpump-normal-fabric"
        },
        {
         "@buildingStoreyIdRef": "STOREY_1",
         "@conditionType": "HeatedAndCooled",
         "@id": "TR00000D",
         "@zoneIdRef": "ZONE_2",
         "Area": 1.593037,
         "BlockCode": "B",
         "CADObjectId": "TR00000D",
         "Level": 0,
         "Name": "B_00_03_R6_WCCubicle3",
         "ShellGeometry": "OrderedDict([('@id', 'TR00000D-shellgeometry'), ('ClosedShell', OrderedDict([('PolyLoop', [OrderedDict([('CartesianPoint', [OrderedDict([('Coordinate', ['32.363681', '0.394968', '0.000000'])]), OrderedDict([('Coordinate', ['33.243681', '0.394968', '0.000000'])]), OrderedDict([('Coordinate', ['33.243681', '0.394968', '3.400000'])]), OrderedDict([('Coordinate', ['32.363681', '0.394968', '3.400000'])])])]), OrderedDict([('CartesianPoint', [OrderedDict([('Coordinate', ['33.243681', '0.394968', '0.000000'])]), OrderedDict([('Coordinate', ['32.363681', '0.394968', '0.000000'])]), OrderedDict([('Coordinate', ['32.363681', '2.205237', '0.000000'])]), OrderedDict([('Coordinate', ['33.243681', '2.205237', '0.000000'])])])]), OrderedDict([('CartesianPoint', [OrderedDict([('Coordinate', ['33.243681', '2.205237', '3.400000'])]), OrderedDict([('Coordinate', ['32.363681', '2.205237', '3.400000'])]), OrderedDict([('Coordinate', ['32.363681', '0.394968', '3.400000'])]), OrderedDict([('Coordinate', ['33.243681', '0.394968', '3.400000'])])])]), OrderedDict([('CartesianPoint', [OrderedDict([('Coordinate', ['33.243681', '2.205237', '0.000000'])]), OrderedDict([('Coordinate', ['32.363681', '2.205237', '0.000000'])]), OrderedDict([('Coordinate', ['32.363681', '2.205237', '3.400000'])]), OrderedDict([('Coordinate', ['33.243681', '2.205237', '3.400000'])])])]), OrderedDict([('CartesianPoint', [OrderedDict([('Coordinate', ['32.363681', '2.205237', '0.000000'])]), OrderedDict([('Coordinate', ['32.363681', '0.394968', '0.000000'])]), OrderedDict([('Coordinate', ['32.363681', '0.394968', '3.400000'])]), OrderedDict([('Coordinate', ['32.363681', '2.205237', '3.400000'])])])]), OrderedDict([('CartesianPoint', [OrderedDict([('Coordinate', ['33.243681', '2.205237', '3.400000'])]), OrderedDict([('Coordinate', ['33.243681', '0.394968', '3.400000'])]), OrderedDict([('Coordinate', ['33.243681', '0.394968', '0.000000'])]), OrderedDict([('Coordinate', ['33.243681', '2.205237', '0.000000'])])])])])]))])",
         "SpaceBoundary": "[OrderedDict([('@isSecondLevelBoundary', 'true'), ('@surfaceIdRef', 'surface-55'), ('PlanarGeometry', OrderedDict([('PolyLoop', OrderedDict([('CartesianPoint', [OrderedDict([('Coordinate', ['33.243681', '2.205237', '-0.000000'])]), OrderedDict([('Coordinate', ['32.363681', '2.205237', '-0.000000'])]), OrderedDict([('Coordinate', ['32.363681', '2.205237', '3.400000'])]), OrderedDict([('Coordinate', ['33.243681', '2.205237', '3.400000'])])])]))]))]), OrderedDict([('@isSecondLevelBoundary', 'true'), ('@surfaceIdRef', 'surface-74'), ('PlanarGeometry', OrderedDict([('PolyLoop', OrderedDict([('CartesianPoint', [OrderedDict([('Coordinate', ['32.363681', '2.205237', '0.000000'])]), OrderedDict([('Coordinate', ['32.363681', '0.394968', '0.000000'])]), OrderedDict([('Coordinate', ['32.363681', '0.394968', '3.400000'])]), OrderedDict([('Coordinate', ['32.363681', '2.205237', '3.400000'])])])]))]))]), OrderedDict([('@isSecondLevelBoundary', 'true'), ('@surfaceIdRef', 'surface-75'), ('PlanarGeometry', OrderedDict([('PolyLoop', OrderedDict([('CartesianPoint', [OrderedDict([('Coordinate', ['32.363681', '0.394968', '0.000000'])]), OrderedDict([('Coordinate', ['33.243681', '0.394968', '0.000000'])]), OrderedDict([('Coordinate', ['33.243681', '0.394968', '3.400000'])]), OrderedDict([('Coordinate', ['32.363681', '0.394968', '3.400000'])])])]))]))]), OrderedDict([('@isSecondLevelBoundary', 'true'), ('@surfaceIdRef', 'surface-76'), ('PlanarGeometry', OrderedDict([('PolyLoop', OrderedDict([('CartesianPoint', [OrderedDict([('Coordinate', ['33.243681', '0.394968', '0.000000'])]), OrderedDict([('Coordinate', ['32.363681', '0.394968', '0.000000'])]), OrderedDict([('Coordinate', ['32.363681', '2.205237', '0.000000'])]), OrderedDict([('Coordinate', ['33.243681', '2.205237', '0.000000'])])])]))]))]), OrderedDict([('@isSecondLevelBoundary', 'true'), ('@surfaceIdRef', 'surface-77'), ('PlanarGeometry', OrderedDict([('PolyLoop', OrderedDict([('CartesianPoint', [OrderedDict([('Coordinate', ['33.243681', '2.205237', '3.400000'])]), OrderedDict([('Coordinate', ['32.363681', '2.205237', '3.400000'])]), OrderedDict([('Coordinate', ['32.363681', '1.671913', '3.400000'])]), OrderedDict([('Coordinate', ['32.815237', '1.670000', '3.400000'])]), OrderedDict([('Coordinate', ['33.243681', '1.670000', '3.400000'])])])]))]))]), OrderedDict([('@isSecondLevelBoundary', 'true'), ('@surfaceIdRef', 'surface-78'), ('PlanarGeometry', OrderedDict([('PolyLoop', OrderedDict([('CartesianPoint', [OrderedDict([('Coordinate', ['33.243681', '1.670000', '3.400000'])]), OrderedDict([('Coordinate', ['32.815237', '1.670000', '3.400000'])]), OrderedDict([('Coordinate', ['32.821140', '0.394968', '3.400000'])]), OrderedDict([('Coordinate', ['33.243681', '0.394968', '3.400000'])])])]))]))]), OrderedDict([('@isSecondLevelBoundary', 'true'), ('@surfaceIdRef', 'surface-79'), ('PlanarGeometry', OrderedDict([('PolyLoop', OrderedDict([('CartesianPoint', [OrderedDict([('Coordinate', ['32.363681', '1.671913', '3.400000'])]), OrderedDict([('Coordinate', ['32.363681', '0.394968', '3.400000'])]), OrderedDict([('Coordinate', ['32.821140', '0.394968', '3.400000'])]), OrderedDict([('Coordinate', ['32.815237', '1.670000', '3.400000'])])])]))]))]), OrderedDict([('@isSecondLevelBoundary', 'true'), ('@surfaceIdRef', 'surface-80'), ('PlanarGeometry', OrderedDict([('PolyLoop', OrderedDict([('CartesianPoint', [OrderedDict([('Coordinate', ['33.243681', '2.205237', '3.400000'])]), OrderedDict([('Coordinate', ['33.243681', '0.394968', '3.400000'])]), OrderedDict([('Coordinate', ['33.243681', '0.394968', '0.000000'])]), OrderedDict([('Coordinate', ['33.243681', '2.205237', '0.000000'])])])]))]))])]",
         "SpaceId": "R6",
         "SpaceType": "WCCubicle3",
         "TM46Category": 3,
         "TypeCode": 0,
         "Volume": 5.416325,
         "id": "105_LiveseyExchange_heatpump-normal-fabric, B_00_03_R6_WCCubicle3",
         "index": 11,
         "model": "105_LiveseyExchange_heatpump-normal-fabric"
        },
        {
         "@buildingStoreyIdRef": "STOREY_1",
         "@conditionType": "HeatedAndCooled",
         "@id": "TR000008",
         "@zoneIdRef": "ZONE_2",
         "Area": 2.299042,
         "BlockCode": "B",
         "CADObjectId": "TR000008",
         "Level": 0,
         "Name": "B_00_03_R6_WCBabyChange",
         "ShellGeometry": "OrderedDict([('@id', 'TR000008-shellgeometry'), ('ClosedShell', OrderedDict([('PolyLoop', [OrderedDict([('CartesianPoint', [OrderedDict([('Coordinate', ['34.163681', '0.394968', '0.000000'])]), OrderedDict([('Coordinate', ['35.433681', '0.394968', '0.000000'])]), OrderedDict([('Coordinate', ['35.433681', '0.394968', '3.400000'])]), OrderedDict([('Coordinate', ['34.163681', '0.394968', '3.400000'])])])]), OrderedDict([('CartesianPoint', [OrderedDict([('Coordinate', ['35.433681', '0.394968', '0.000000'])]), OrderedDict([('Coordinate', ['34.163681', '0.394968', '0.000000'])]), OrderedDict([('Coordinate', ['34.163681', '2.205237', '0.000000'])]), OrderedDict([('Coordinate', ['35.433681', '2.205237', '0.000000'])])])]), OrderedDict([('CartesianPoint', [OrderedDict([('Coordinate', ['35.433681', '2.205237', '3.400000'])]), OrderedDict([('Coordinate', ['34.163681', '2.205237', '3.400000'])]), OrderedDict([('Coordinate', ['34.163681', '0.394968', '3.400000'])]), OrderedDict([('Coordinate', ['35.433681', '0.394968', '3.400000'])])])]), OrderedDict([('CartesianPoint', [OrderedDict([('Coordinate', ['35.433681', '2.205237', '0.000000'])]), OrderedDict([('Coordinate', ['34.163681', '2.205237', '0.000000'])]), OrderedDict([('Coordinate', ['34.163681', '2.205237', '3.400000'])]), OrderedDict([('Coordinate', ['35.433681', '2.205237', '3.400000'])])])]), OrderedDict([('CartesianPoint', [OrderedDict([('Coordinate', ['35.433681', '0.394968', '0.000000'])]), OrderedDict([('Coordinate', ['35.433681', '2.205237', '0.000000'])]), OrderedDict([('Coordinate', ['35.433681', '2.205237', '3.400000'])]), OrderedDict([('Coordinate', ['35.433681', '0.394968', '3.400000'])])])]), OrderedDict([('CartesianPoint', [OrderedDict([('Coordinate', ['34.163681', '2.205237', '0.000000'])]), OrderedDict([('Coordinate', ['34.163681', '0.394968', '0.000000'])]), OrderedDict([('Coordinate', ['34.163681', '0.394968', '3.400000'])]), OrderedDict([('Coordinate', ['34.163681', '2.205237', '3.400000'])])])])])]))])",
         "SpaceBoundary": "[OrderedDict([('@isSecondLevelBoundary', 'true'), ('@surfaceIdRef', 'surface-56'), ('PlanarGeometry', OrderedDict([('PolyLoop', OrderedDict([('CartesianPoint', [OrderedDict([('Coordinate', ['35.433681', '2.205237', '-0.000000'])]), OrderedDict([('Coordinate', ['34.163681', '2.205237', '-0.000000'])]), OrderedDict([('Coordinate', ['34.163681', '2.205237', '3.400000'])]), OrderedDict([('Coordinate', ['35.433681', '2.205237', '3.400000'])])])]))]))]), OrderedDict([('@isSecondLevelBoundary', 'true'), ('@surfaceIdRef', 'surface-64'), ('PlanarGeometry', OrderedDict([('PolyLoop', OrderedDict([('CartesianPoint', [OrderedDict([('Coordinate', ['35.433681', '0.394968', '-0.000000'])]), OrderedDict([('Coordinate', ['35.433681', '2.205237', '-0.000000'])]), OrderedDict([('Coordinate', ['35.433681', '2.205237', '3.400000'])]), OrderedDict([('Coordinate', ['35.433681', '0.394968', '3.400000'])])])]))]))]), OrderedDict([('@isSecondLevelBoundary', 'true'), ('@surfaceIdRef', 'surface-81'), ('PlanarGeometry', OrderedDict([('PolyLoop', OrderedDict([('CartesianPoint', [OrderedDict([('Coordinate', ['34.163681', '0.394968', '0.000000'])]), OrderedDict([('Coordinate', ['35.433681', '0.394968', '0.000000'])]), OrderedDict([('Coordinate', ['35.433681', '0.394968', '3.400000'])]), OrderedDict([('Coordinate', ['34.163681', '0.394968', '3.400000'])])])]))]))]), OrderedDict([('@isSecondLevelBoundary', 'true'), ('@surfaceIdRef', 'surface-82'), ('PlanarGeometry', OrderedDict([('PolyLoop', OrderedDict([('CartesianPoint', [OrderedDict([('Coordinate', ['35.433681', '0.394968', '0.000000'])]), OrderedDict([('Coordinate', ['34.163681', '0.394968', '0.000000'])]), OrderedDict([('Coordinate', ['34.163681', '2.205237', '0.000000'])]), OrderedDict([('Coordinate', ['35.433681', '2.205237', '0.000000'])])])]))]))]), OrderedDict([('@isSecondLevelBoundary', 'true'), ('@surfaceIdRef', 'surface-83'), ('PlanarGeometry', OrderedDict([('PolyLoop', OrderedDict([('CartesianPoint', [OrderedDict([('Coordinate', ['35.433681', '2.205237', '3.400000'])]), OrderedDict([('Coordinate', ['34.163681', '2.205237', '3.400000'])]), OrderedDict([('Coordinate', ['34.163681', '0.394968', '3.400000'])]), OrderedDict([('Coordinate', ['35.433681', '0.394968', '3.400000'])])])]))]))]), OrderedDict([('@isSecondLevelBoundary', 'true'), ('@surfaceIdRef', 'surface-84'), ('PlanarGeometry', OrderedDict([('PolyLoop', OrderedDict([('CartesianPoint', [OrderedDict([('Coordinate', ['34.163681', '0.394968', '3.400000'])]), OrderedDict([('Coordinate', ['34.163681', '2.205237', '3.400000'])]), OrderedDict([('Coordinate', ['34.163681', '2.205237', '-0.000000'])]), OrderedDict([('Coordinate', ['34.163681', '0.394968', '-0.000000'])])])]))]))])]",
         "SpaceId": "R6",
         "SpaceType": "WCBabyChange",
         "TM46Category": 3,
         "TypeCode": 0,
         "Volume": 7.816742,
         "id": "105_LiveseyExchange_heatpump-normal-fabric, B_00_03_R6_WCBabyChange",
         "index": 12,
         "model": "105_LiveseyExchange_heatpump-normal-fabric"
        },
        {
         "@buildingStoreyIdRef": "STOREY_1",
         "@conditionType": "HeatedAndCooled",
         "@id": "TR00000E",
         "@zoneIdRef": "ZONE_2",
         "Area": 1.665447,
         "BlockCode": "B",
         "CADObjectId": "TR00000E",
         "Level": 0,
         "Name": "B_00_03_R6_WCCubicle4",
         "ShellGeometry": "OrderedDict([('@id', 'TR00000E-shellgeometry'), ('ClosedShell', OrderedDict([('PolyLoop', [OrderedDict([('CartesianPoint', [OrderedDict([('Coordinate', ['33.243681', '0.394968', '0.000000'])]), OrderedDict([('Coordinate', ['34.163681', '0.394968', '0.000000'])]), OrderedDict([('Coordinate', ['34.163681', '0.394968', '3.400000'])]), OrderedDict([('Coordinate', ['33.243681', '0.394968', '3.400000'])])])]), OrderedDict([('CartesianPoint', [OrderedDict([('Coordinate', ['34.163681', '0.394968', '0.000000'])]), OrderedDict([('Coordinate', ['33.243681', '0.394968', '0.000000'])]), OrderedDict([('Coordinate', ['33.243681', '2.205237', '0.000000'])]), OrderedDict([('Coordinate', ['34.163681', '2.205237', '0.000000'])])])]), OrderedDict([('CartesianPoint', [OrderedDict([('Coordinate', ['34.163681', '2.205237', '3.400000'])]), OrderedDict([('Coordinate', ['33.243681', '2.205237', '3.400000'])]), OrderedDict([('Coordinate', ['33.243681', '0.394968', '3.400000'])]), OrderedDict([('Coordinate', ['34.163681', '0.394968', '3.400000'])])])]), OrderedDict([('CartesianPoint', [OrderedDict([('Coordinate', ['34.163681', '2.205237', '0.000000'])]), OrderedDict([('Coordinate', ['33.243681', '2.205237', '0.000000'])]), OrderedDict([('Coordinate', ['33.243681', '2.205237', '3.400000'])]), OrderedDict([('Coordinate', ['34.163681', '2.205237', '3.400000'])])])]), OrderedDict([('CartesianPoint', [OrderedDict([('Coordinate', ['33.243681', '2.205237', '0.000000'])]), OrderedDict([('Coordinate', ['33.243681', '0.394968', '0.000000'])]), OrderedDict([('Coordinate', ['33.243681', '0.394968', '3.400000'])]), OrderedDict([('Coordinate', ['33.243681', '2.205237', '3.400000'])])])]), OrderedDict([('CartesianPoint', [OrderedDict([('Coordinate', ['34.163681', '2.205237', '3.400000'])]), OrderedDict([('Coordinate', ['34.163681', '0.394968', '3.400000'])]), OrderedDict([('Coordinate', ['34.163681', '0.394968', '0.000000'])]), OrderedDict([('Coordinate', ['34.163681', '2.205237', '0.000000'])])])])])]))])",
         "SpaceBoundary": "[OrderedDict([('@isSecondLevelBoundary', 'true'), ('@surfaceIdRef', 'surface-57'), ('PlanarGeometry', OrderedDict([('PolyLoop', OrderedDict([('CartesianPoint', [OrderedDict([('Coordinate', ['34.163681', '2.205237', '-0.000000'])]), OrderedDict([('Coordinate', ['33.243681', '2.205237', '-0.000000'])]), OrderedDict([('Coordinate', ['33.243681', '2.205237', '3.400000'])]), OrderedDict([('Coordinate', ['34.163681', '2.205237', '3.400000'])])])]))]))]), OrderedDict([('@isSecondLevelBoundary', 'true'), ('@surfaceIdRef', 'surface-80'), ('PlanarGeometry', OrderedDict([('PolyLoop', OrderedDict([('CartesianPoint', [OrderedDict([('Coordinate', ['33.243681', '2.205237', '0.000000'])]), OrderedDict([('Coordinate', ['33.243681', '0.394968', '0.000000'])]), OrderedDict([('Coordinate', ['33.243681', '0.394968', '3.400000'])]), OrderedDict([('Coordinate', ['33.243681', '2.205237', '3.400000'])])])]))]))]), OrderedDict([('@isSecondLevelBoundary', 'true'), ('@surfaceIdRef', 'surface-84'), ('PlanarGeometry', OrderedDict([('PolyLoop', OrderedDict([('CartesianPoint', [OrderedDict([('Coordinate', ['34.163681', '0.394968', '-0.000000'])]), OrderedDict([('Coordinate', ['34.163681', '2.205237', '-0.000000'])]), OrderedDict([('Coordinate', ['34.163681', '2.205237', '3.400000'])]), OrderedDict([('Coordinate', ['34.163681', '0.394968', '3.400000'])])])]))]))]), OrderedDict([('@isSecondLevelBoundary', 'true'), ('@surfaceIdRef', 'surface-85'), ('PlanarGeometry', OrderedDict([('PolyLoop', OrderedDict([('CartesianPoint', [OrderedDict([('Coordinate', ['33.243681', '0.394968', '0.000000'])]), OrderedDict([('Coordinate', ['34.163681', '0.394968', '0.000000'])]), OrderedDict([('Coordinate', ['34.163681', '0.394968', '3.400000'])]), OrderedDict([('Coordinate', ['33.243681', '0.394968', '3.400000'])])])]))]))]), OrderedDict([('@isSecondLevelBoundary', 'true'), ('@surfaceIdRef', 'surface-86'), ('PlanarGeometry', OrderedDict([('PolyLoop', OrderedDict([('CartesianPoint', [OrderedDict([('Coordinate', ['34.163681', '0.394968', '0.000000'])]), OrderedDict([('Coordinate', ['33.243681', '0.394968', '0.000000'])]), OrderedDict([('Coordinate', ['33.243681', '2.205237', '0.000000'])]), OrderedDict([('Coordinate', ['34.163681', '2.205237', '0.000000'])])])]))]))]), OrderedDict([('@isSecondLevelBoundary', 'true'), ('@surfaceIdRef', 'surface-87'), ('PlanarGeometry', OrderedDict([('PolyLoop', OrderedDict([('CartesianPoint', [OrderedDict([('Coordinate', ['33.715237', '2.205237', '3.400000'])]), OrderedDict([('Coordinate', ['33.243681', '2.205237', '3.400000'])]), OrderedDict([('Coordinate', ['33.243681', '1.670000', '3.400000'])]), OrderedDict([('Coordinate', ['33.715237', '1.670000', '3.400000'])])])]))]))]), OrderedDict([('@isSecondLevelBoundary', 'true'), ('@surfaceIdRef', 'surface-88'), ('PlanarGeometry', OrderedDict([('PolyLoop', OrderedDict([('CartesianPoint', [OrderedDict([('Coordinate', ['34.163681', '2.205237', '3.400000'])]), OrderedDict([('Coordinate', ['33.715237', '2.205237', '3.400000'])]), OrderedDict([('Coordinate', ['33.715237', '1.670000', '3.400000'])]), OrderedDict([('Coordinate', ['33.243681', '1.670000', '3.400000'])]), OrderedDict([('Coordinate', ['33.243681', '0.394968', '3.400000'])]), OrderedDict([('Coordinate', ['34.163681', '0.394968', '3.400000'])])])]))]))])]",
         "SpaceId": "R6",
         "SpaceType": "WCCubicle4",
         "TM46Category": 3,
         "TypeCode": 0,
         "Volume": 5.662521,
         "id": "105_LiveseyExchange_heatpump-normal-fabric, B_00_03_R6_WCCubicle4",
         "index": 13,
         "model": "105_LiveseyExchange_heatpump-normal-fabric"
        },
        {
         "@buildingStoreyIdRef": "STOREY_1",
         "@conditionType": "HeatedAndCooled",
         "@id": "TR000007",
         "@zoneIdRef": "ZONE_2",
         "Area": 7.4862,
         "BlockCode": "B",
         "CADObjectId": "TR000007",
         "Level": 1,
         "Name": "B_01_04_R14_Store",
         "ShellGeometry": "OrderedDict([('@id', 'TR000007-shellgeometry'), ('ClosedShell', OrderedDict([('PolyLoop', [OrderedDict([('CartesianPoint', [OrderedDict([('Coordinate', ['33.715237', '1.670000', '3.400000'])]), OrderedDict([('Coordinate', ['32.815237', '1.670000', '3.400000'])]), OrderedDict([('Coordinate', ['30.455237', '1.680000', '3.400000'])]), OrderedDict([('Coordinate', ['30.455237', '3.970000', '3.400000'])]), OrderedDict([('Coordinate', ['33.715237', '3.970000', '3.400000'])])])]), OrderedDict([('CartesianPoint', [OrderedDict([('Coordinate', ['33.715237', '3.970000', '6.800000'])]), OrderedDict([('Coordinate', ['30.455237', '3.970000', '6.800000'])]), OrderedDict([('Coordinate', ['30.455237', '1.680000', '6.800000'])]), OrderedDict([('Coordinate', ['32.815237', '1.670000', '6.800000'])]), OrderedDict([('Coordinate', ['33.715237', '1.670000', '6.800000'])])])]), OrderedDict([('CartesianPoint', [OrderedDict([('Coordinate', ['33.715237', '3.970000', '3.400000'])]), OrderedDict([('Coordinate', ['30.455237', '3.970000', '3.400000'])]), OrderedDict([('Coordinate', ['30.455237', '3.970000', '6.800000'])]), OrderedDict([('Coordinate', ['33.715237', '3.970000', '6.800000'])])])]), OrderedDict([('CartesianPoint', [OrderedDict([('Coordinate', ['30.455237', '1.680000', '3.400000'])]), OrderedDict([('Coordinate', ['32.815237', '1.670000', '3.400000'])]), OrderedDict([('Coordinate', ['32.815237', '1.670000', '6.800000'])]), OrderedDict([('Coordinate', ['30.455237', '1.680000', '6.800000'])])])]), OrderedDict([('CartesianPoint', [OrderedDict([('Coordinate', ['30.455237', '3.970000', '3.400000'])]), OrderedDict([('Coordinate', ['30.455237', '1.680000', '3.400000'])]), OrderedDict([('Coordinate', ['30.455237', '1.680000', '6.800000'])]), OrderedDict([('Coordinate', ['30.455237', '3.970000', '6.800000'])])])]), OrderedDict([('CartesianPoint', [OrderedDict([('Coordinate', ['33.715237', '1.670000', '3.400000'])]), OrderedDict([('Coordinate', ['33.715237', '3.970000', '3.400000'])]), OrderedDict([('Coordinate', ['33.715237', '3.970000', '6.800000'])]), OrderedDict([('Coordinate', ['33.715237', '1.670000', '6.800000'])])])]), OrderedDict([('CartesianPoint', [OrderedDict([('Coordinate', ['32.815237', '1.670000', '3.400000'])]), OrderedDict([('Coordinate', ['33.715237', '1.670000', '3.400000'])]), OrderedDict([('Coordinate', ['33.715237', '1.670000', '6.800000'])]), OrderedDict([('Coordinate', ['32.815237', '1.670000', '6.800000'])])])])])]))])",
         "SpaceBoundary": "[OrderedDict([('@isSecondLevelBoundary', 'true'), ('@surfaceIdRef', 'surface-8'), ('PlanarGeometry', OrderedDict([('PolyLoop', OrderedDict([('CartesianPoint', [OrderedDict([('Coordinate', ['33.715237', '3.969988', '3.400000'])]), OrderedDict([('Coordinate', ['30.455237', '3.969988', '3.400000'])]), OrderedDict([('Coordinate', ['30.455237', '3.970000', '3.400000'])]), OrderedDict([('Coordinate', ['33.715237', '3.970000', '3.400000'])])])]))]))]), OrderedDict([('@isSecondLevelBoundary', 'true'), ('@surfaceIdRef', 'surface-23'), ('PlanarGeometry', OrderedDict([('PolyLoop', OrderedDict([('CartesianPoint', [OrderedDict([('Coordinate', ['30.493681', '1.679837', '3.400000'])]), OrderedDict([('Coordinate', ['30.455237', '1.680000', '3.400000'])]), OrderedDict([('Coordinate', ['30.455237', '2.205237', '3.400000'])]), OrderedDict([('Coordinate', ['30.493681', '2.205237', '3.400000'])])])]))]))]), OrderedDict([('@isSecondLevelBoundary', 'true'), ('@surfaceIdRef', 'surface-50'), ('PlanarGeometry', OrderedDict([('PolyLoop', OrderedDict([('CartesianPoint', [OrderedDict([('Coordinate', ['33.715237', '2.205237', '3.400000'])]), OrderedDict([('Coordinate', ['30.493681', '2.205237', '3.400000'])]), OrderedDict([('Coordinate', ['30.493681', '3.969988', '3.400000'])]), OrderedDict([('Coordinate', ['33.715237', '3.969988', '3.400000'])])])]))]))]), OrderedDict([('@isSecondLevelBoundary', 'true'), ('@surfaceIdRef', 'surface-67'), ('PlanarGeometry', OrderedDict([('PolyLoop', OrderedDict([('CartesianPoint', [OrderedDict([('Coordinate', ['31.483681', '1.675642', '3.400000'])]), OrderedDict([('Coordinate', ['30.493681', '1.679837', '3.400000'])]), OrderedDict([('Coordinate', ['30.493681', '2.205237', '3.400000'])]), OrderedDict([('Coordinate', ['31.483681', '2.205237', '3.400000'])])])]))]))]), OrderedDict([('@isSecondLevelBoundary', 'true'), ('@surfaceIdRef', 'surface-72'), ('PlanarGeometry', OrderedDict([('PolyLoop', OrderedDict([('CartesianPoint', [OrderedDict([('Coordinate', ['32.363681', '1.671913', '3.400000'])]), OrderedDict([('Coordinate', ['31.483681', '1.675642', '3.400000'])]), OrderedDict([('Coordinate', ['31.483681', '2.205237', '3.400000'])]), OrderedDict([('Coordinate', ['32.363681', '2.205237', '3.400000'])])])]))]))]), OrderedDict([('@isSecondLevelBoundary', 'true'), ('@surfaceIdRef', 'surface-77'), ('PlanarGeometry', OrderedDict([('PolyLoop', OrderedDict([('CartesianPoint', [OrderedDict([('Coordinate', ['33.243681', '1.670000', '3.400000'])]), OrderedDict([('Coordinate', ['32.815237', '1.670000', '3.400000'])]), OrderedDict([('Coordinate', ['32.363681', '1.671913', '3.400000'])]), OrderedDict([('Coordinate', ['32.363681', '2.205237', '3.400000'])]), OrderedDict([('Coordinate', ['33.243681', '2.205237', '3.400000'])])])]))]))]), OrderedDict([('@isSecondLevelBoundary', 'true'), ('@surfaceIdRef', 'surface-87'), ('PlanarGeometry', OrderedDict([('PolyLoop', OrderedDict([('CartesianPoint', [OrderedDict([('Coordinate', ['33.715237', '1.670000', '3.400000'])]), OrderedDict([('Coordinate', ['33.243681', '1.670000', '3.400000'])]), OrderedDict([('Coordinate', ['33.243681', '2.205237', '3.400000'])]), OrderedDict([('Coordinate', ['33.715237', '2.205237', '3.400000'])])])]))]))]), OrderedDict([('@isSecondLevelBoundary', 'true'), ('@surfaceIdRef', 'surface-89'), ('PlanarGeometry', OrderedDict([('PolyLoop', OrderedDict([('CartesianPoint', [OrderedDict([('Coordinate', ['30.493681', '3.969988', '3.400000'])]), OrderedDict([('Coordinate', ['30.493681', '2.205237', '3.400000'])]), OrderedDict([('Coordinate', ['30.455237', '2.205237', '3.400000'])]), OrderedDict([('Coordinate', ['30.455237', '3.970000', '3.400000'])])])]))]))]), OrderedDict([('@isSecondLevelBoundary', 'true'), ('@surfaceIdRef', 'surface-90'), ('PlanarGeometry', OrderedDict([('PolyLoop', OrderedDict([('CartesianPoint', [OrderedDict([('Coordinate', ['33.715237', '3.970000', '6.800000'])]), OrderedDict([('Coordinate', ['30.455237', '3.970000', '6.800000'])]), OrderedDict([('Coordinate', ['30.455237', '1.680000', '6.800000'])]), OrderedDict([('Coordinate', ['32.815237', '1.670000', '6.800000'])]), OrderedDict([('Coordinate', ['33.715237', '1.670000', '6.800000'])])])]))]))]), OrderedDict([('@isSecondLevelBoundary', 'true'), ('@surfaceIdRef', 'surface-91'), ('PlanarGeometry', OrderedDict([('PolyLoop', OrderedDict([('CartesianPoint', [OrderedDict([('Coordinate', ['30.455237', '3.970000', '6.800000'])]), OrderedDict([('Coordinate', ['33.715237', '3.970000', '6.800000'])]), OrderedDict([('Coordinate', ['33.715237', '3.970000', '3.400000'])]), OrderedDict([('Coordinate', ['30.455237', '3.970000', '3.400000'])])])]))]))]), OrderedDict([('@isSecondLevelBoundary', 'true'), ('@surfaceIdRef', 'surface-92'), ('PlanarGeometry', OrderedDict([('PolyLoop', OrderedDict([('CartesianPoint', [OrderedDict([('Coordinate', ['32.815237', '1.670000', '6.800000'])]), OrderedDict([('Coordinate', ['30.455237', '1.680000', '6.800000'])]), OrderedDict([('Coordinate', ['30.455237', '1.680000', '3.400000'])]), OrderedDict([('Coordinate', ['32.815237', '1.670000', '3.400000'])])])]))]))]), OrderedDict([('@isSecondLevelBoundary', 'true'), ('@surfaceIdRef', 'surface-93'), ('PlanarGeometry', OrderedDict([('PolyLoop', OrderedDict([('CartesianPoint', [OrderedDict([('Coordinate', ['30.455237', '1.680000', '6.800000'])]), OrderedDict([('Coordinate', ['30.455237', '3.970000', '6.800000'])]), OrderedDict([('Coordinate', ['30.455237', '3.970000', '3.400000'])]), OrderedDict([('Coordinate', ['30.455237', '1.680000', '3.400000'])])])]))]))]), OrderedDict([('@isSecondLevelBoundary', 'true'), ('@surfaceIdRef', 'surface-94'), ('PlanarGeometry', OrderedDict([('PolyLoop', OrderedDict([('CartesianPoint', [OrderedDict([('Coordinate', ['33.715237', '3.970000', '6.800000'])]), OrderedDict([('Coordinate', ['33.715237', '3.428000', '6.800000'])]), OrderedDict([('Coordinate', ['33.715237', '3.428000', '3.400000'])]), OrderedDict([('Coordinate', ['33.715237', '3.970000', '3.400000'])])])]))]))]), OrderedDict([('@isSecondLevelBoundary', 'true'), ('@surfaceIdRef', 'surface-95'), ('PlanarGeometry', OrderedDict([('PolyLoop', OrderedDict([('CartesianPoint', [OrderedDict([('Coordinate', ['33.715237', '3.428000', '6.800000'])]), OrderedDict([('Coordinate', ['33.715237', '1.670000', '6.800000'])]), OrderedDict([('Coordinate', ['33.715237', '1.670000', '3.400000'])]), OrderedDict([('Coordinate', ['33.715237', '3.428000', '3.400000'])])])]))]))]), OrderedDict([('@isSecondLevelBoundary', 'true'), ('@surfaceIdRef', 'surface-96'), ('PlanarGeometry', OrderedDict([('PolyLoop', OrderedDict([('CartesianPoint', [OrderedDict([('Coordinate', ['33.715237', '1.670000', '6.800000'])]), OrderedDict([('Coordinate', ['32.815237', '1.670000', '6.800000'])]), OrderedDict([('Coordinate', ['32.815237', '1.670000', '3.400000'])]), OrderedDict([('Coordinate', ['33.715237', '1.670000', '3.400000'])])])]))]))])]",
         "SpaceId": "R14",
         "SpaceType": "Store",
         "TM46Category": 4,
         "TypeCode": 0,
         "Volume": 25.45308,
         "id": "105_LiveseyExchange_heatpump-normal-fabric, B_01_04_R14_Store",
         "index": 14,
         "model": "105_LiveseyExchange_heatpump-normal-fabric"
        },
        {
         "@buildingStoreyIdRef": "STOREY_1",
         "@conditionType": "HeatedAndCooled",
         "@id": "TR000011",
         "@zoneIdRef": "ZONE_2",
         "Area": 46.896719,
         "BlockCode": "B",
         "CADObjectId": "TR000011",
         "Level": 1,
         "Name": "B_01_02_R15_WorkRoom2",
         "ShellGeometry": "OrderedDict([('@id', 'TR000011-shellgeometry'), ('ClosedShell', OrderedDict([('PolyLoop', [OrderedDict([('CartesianPoint', [OrderedDict([('Coordinate', ['36.968681', '3.970000', '3.400000'])]), OrderedDict([('Coordinate', ['36.968681', '11.169988', '3.400000'])]), OrderedDict([('Coordinate', ['36.968681', '11.169988', '6.800000'])]), OrderedDict([('Coordinate', ['36.968681', '3.970000', '6.800000'])])])]), OrderedDict([('CartesianPoint', [OrderedDict([('Coordinate', ['36.968681', '11.169988', '3.400000'])]), OrderedDict([('Coordinate', ['30.455237', '11.169988', '3.400000'])]), OrderedDict([('Coordinate', ['30.455237', '11.169988', '6.800000'])]), OrderedDict([('Coordinate', ['36.968681', '11.169988', '6.800000'])])])]), OrderedDict([('CartesianPoint', [OrderedDict([('Coordinate', ['36.968681', '3.970000', '3.400000'])]), OrderedDict([('Coordinate', ['30.455237', '3.970000', '3.400000'])]), OrderedDict([('Coordinate', ['30.455237', '11.169988', '3.400000'])]), OrderedDict([('Coordinate', ['36.968681', '11.169988', '3.400000'])])])]), OrderedDict([('CartesianPoint', [OrderedDict([('Coordinate', ['36.968681', '11.169988', '6.800000'])]), OrderedDict([('Coordinate', ['30.455237', '11.169988', '6.800000'])]), OrderedDict([('Coordinate', ['30.455237', '3.970000', '6.800000'])]), OrderedDict([('Coordinate', ['36.968681', '3.970000', '6.800000'])])])]), OrderedDict([('CartesianPoint', [OrderedDict([('Coordinate', ['30.455237', '3.970000', '3.400000'])]), OrderedDict([('Coordinate', ['36.968681', '3.970000', '3.400000'])]), OrderedDict([('Coordinate', ['36.968681', '3.970000', '6.800000'])]), OrderedDict([('Coordinate', ['30.455237', '3.970000', '6.800000'])])])]), OrderedDict([('CartesianPoint', [OrderedDict([('Coordinate', ['30.455237', '3.970000', '6.800000'])]), OrderedDict([('Coordinate', ['30.455237', '11.169988', '6.800000'])]), OrderedDict([('Coordinate', ['30.455237', '11.169988', '3.400000'])]), OrderedDict([('Coordinate', ['30.455237', '3.970000', '3.400000'])])])])])]))])",
         "SpaceBoundary": "[OrderedDict([('@isSecondLevelBoundary', 'true'), ('@surfaceIdRef', 'surface-9'), ('PlanarGeometry', OrderedDict([('PolyLoop', OrderedDict([('CartesianPoint', [OrderedDict([('Coordinate', ['36.968681', '3.970000', '3.400000'])]), OrderedDict([('Coordinate', ['30.455237', '3.970000', '3.400000'])]), OrderedDict([('Coordinate', ['30.455237', '11.169988', '3.400000'])]), OrderedDict([('Coordinate', ['36.968681', '11.169988', '3.400000'])])])]))]))]), OrderedDict([('@isSecondLevelBoundary', 'true'), ('@surfaceIdRef', 'surface-20'), ('PlanarGeometry', OrderedDict([('PolyLoop', OrderedDict([('CartesianPoint', [OrderedDict([('Coordinate', ['36.968681', '11.169988', '3.400000'])]), OrderedDict([('Coordinate', ['30.455237', '11.169988', '3.400000'])]), OrderedDict([('Coordinate', ['30.455237', '11.169988', '6.800000'])]), OrderedDict([('Coordinate', ['36.968681', '11.169988', '6.800000'])])])]))]))]), OrderedDict([('@isSecondLevelBoundary', 'true'), ('@surfaceIdRef', 'surface-91'), ('PlanarGeometry', OrderedDict([('PolyLoop', OrderedDict([('CartesianPoint', [OrderedDict([('Coordinate', ['30.455237', '3.970000', '3.400000'])]), OrderedDict([('Coordinate', ['33.715237', '3.970000', '3.400000'])]), OrderedDict([('Coordinate', ['33.715237', '3.970000', '6.800000'])]), OrderedDict([('Coordinate', ['30.455237', '3.970000', '6.800000'])])])]))]))]), OrderedDict([('@isSecondLevelBoundary', 'true'), ('@surfaceIdRef', 'surface-97'), ('PlanarGeometry', OrderedDict([('PolyLoop', OrderedDict([('CartesianPoint', [OrderedDict([('Coordinate', ['36.968681', '3.970000', '3.400000'])]), OrderedDict([('Coordinate', ['36.968681', '11.169988', '3.400000'])]), OrderedDict([('Coordinate', ['36.968681', '11.169988', '6.800000'])]), OrderedDict([('Coordinate', ['36.968681', '3.970000', '6.800000'])])])]))]))]), OrderedDict([('@isSecondLevelBoundary', 'true'), ('@surfaceIdRef', 'surface-98'), ('PlanarGeometry', OrderedDict([('PolyLoop', OrderedDict([('CartesianPoint', [OrderedDict([('Coordinate', ['36.968681', '11.169988', '6.800000'])]), OrderedDict([('Coordinate', ['30.455237', '11.169988', '6.800000'])]), OrderedDict([('Coordinate', ['30.455237', '3.970000', '6.800000'])]), OrderedDict([('Coordinate', ['36.968681', '3.970000', '6.800000'])])])]))]))]), OrderedDict([('@isSecondLevelBoundary', 'true'), ('@surfaceIdRef', 'surface-99'), ('PlanarGeometry', OrderedDict([('PolyLoop', OrderedDict([('CartesianPoint', [OrderedDict([('Coordinate', ['36.968681', '3.970000', '6.800000'])]), OrderedDict([('Coordinate', ['33.715237', '3.970000', '6.800000'])]), OrderedDict([('Coordinate', ['33.715237', '3.970000', '3.400000'])]), OrderedDict([('Coordinate', ['36.968681', '3.970000', '3.400000'])])])]))]))]), OrderedDict([('@isSecondLevelBoundary', 'true'), ('@surfaceIdRef', 'surface-100'), ('PlanarGeometry', OrderedDict([('PolyLoop', OrderedDict([('CartesianPoint', [OrderedDict([('Coordinate', ['30.455237', '3.970000', '6.800000'])]), OrderedDict([('Coordinate', ['30.455237', '11.169988', '6.800000'])]), OrderedDict([('Coordinate', ['30.455237', '11.169988', '3.400000'])]), OrderedDict([('Coordinate', ['30.455237', '3.970000', '3.400000'])])])]))]))])]",
         "SpaceId": "R15",
         "SpaceType": "WorkRoom2",
         "TM46Category": 2,
         "TypeCode": 0,
         "Volume": 159.448843,
         "id": "105_LiveseyExchange_heatpump-normal-fabric, B_01_02_R15_WorkRoom2",
         "index": 15,
         "model": "105_LiveseyExchange_heatpump-normal-fabric"
        },
        {
         "@buildingStoreyIdRef": "STOREY_1",
         "@conditionType": "HeatedAndCooled",
         "@id": "TR000012",
         "@zoneIdRef": "ZONE_2",
         "Area": 16.620753,
         "BlockCode": "B",
         "CADObjectId": "TR000012",
         "Level": 1,
         "Name": "B_01_05_R12_Corridor",
         "ShellGeometry": "OrderedDict([('@id', 'TR000012-shellgeometry'), ('ClosedShell', OrderedDict([('PolyLoop', [OrderedDict([('CartesianPoint', [OrderedDict([('Coordinate', ['30.455237', '11.169988', '3.400000'])]), OrderedDict([('Coordinate', ['29.193419', '11.169988', '3.400000'])]), OrderedDict([('Coordinate', ['29.193419', '11.169988', '6.800000'])]), OrderedDict([('Coordinate', ['30.455237', '11.169988', '6.800000'])])])]), OrderedDict([('CartesianPoint', [OrderedDict([('Coordinate', ['29.193419', '0.394968', '3.400000'])]), OrderedDict([('Coordinate', ['32.821140', '0.394968', '3.400000'])]), OrderedDict([('Coordinate', ['32.821140', '0.394968', '6.800000'])]), OrderedDict([('Coordinate', ['29.193419', '0.394968', '6.800000'])])])]), OrderedDict([('CartesianPoint', [OrderedDict([('Coordinate', ['32.815237', '1.670000', '6.800000'])]), OrderedDict([('Coordinate', ['32.821140', '0.394968', '6.800000'])]), OrderedDict([('Coordinate', ['32.821140', '0.394968', '3.400000'])]), OrderedDict([('Coordinate', ['32.815237', '1.670000', '3.400000'])])])]), OrderedDict([('CartesianPoint', [OrderedDict([('Coordinate', ['30.455237', '1.680000', '6.800000'])]), OrderedDict([('Coordinate', ['32.815237', '1.670000', '6.800000'])]), OrderedDict([('Coordinate', ['32.815237', '1.670000', '3.400000'])]), OrderedDict([('Coordinate', ['30.455237', '1.680000', '3.400000'])])])]), OrderedDict([('CartesianPoint', [OrderedDict([('Coordinate', ['29.193419', '11.169988', '3.400000'])]), OrderedDict([('Coordinate', ['29.193419', '0.394968', '3.400000'])]), OrderedDict([('Coordinate', ['29.193419', '0.394968', '6.800000'])]), OrderedDict([('Coordinate', ['29.193419', '11.169988', '6.800000'])])])]), OrderedDict([('CartesianPoint', [OrderedDict([('Coordinate', ['30.455237', '1.680000', '3.400000'])]), OrderedDict([('Coordinate', ['32.815237', '1.670000', '3.400000'])]), OrderedDict([('Coordinate', ['32.821140', '0.394968', '3.400000'])]), OrderedDict([('Coordinate', ['29.193419', '0.394968', '3.400000'])]), OrderedDict([('Coordinate', ['29.193419', '11.169988', '3.400000'])]), OrderedDict([('Coordinate', ['30.455237', '11.169988', '3.400000'])])])]), OrderedDict([('CartesianPoint', [OrderedDict([('Coordinate', ['29.193419', '0.394968', '6.800000'])]), OrderedDict([('Coordinate', ['32.821140', '0.394968', '6.800000'])]), OrderedDict([('Coordinate', ['32.815237', '1.670000', '6.800000'])]), OrderedDict([('Coordinate', ['30.455237', '1.680000', '6.800000'])]), OrderedDict([('Coordinate', ['30.455237', '11.169988', '6.800000'])]), OrderedDict([('Coordinate', ['29.193419', '11.169988', '6.800000'])])])]), OrderedDict([('CartesianPoint', [OrderedDict([('Coordinate', ['30.455237', '1.680000', '3.400000'])]), OrderedDict([('Coordinate', ['30.455237', '11.169988', '3.400000'])]), OrderedDict([('Coordinate', ['30.455237', '11.169988', '6.800000'])]), OrderedDict([('Coordinate', ['30.455237', '1.680000', '6.800000'])])])])])]))])",
         "SpaceBoundary": "[OrderedDict([('@isSecondLevelBoundary', 'true'), ('@surfaceIdRef', 'surface-11'), ('PlanarGeometry', OrderedDict([('PolyLoop', OrderedDict([('CartesianPoint', [OrderedDict([('Coordinate', ['30.455237', '3.969988', '3.400000'])]), OrderedDict([('Coordinate', ['29.193419', '3.969988', '3.400000'])]), OrderedDict([('Coordinate', ['29.193419', '11.169988', '3.400000'])]), OrderedDict([('Coordinate', ['30.455237', '11.169988', '3.400000'])])])]))]))]), OrderedDict([('@isSecondLevelBoundary', 'true'), ('@surfaceIdRef', 'surface-21'), ('PlanarGeometry', OrderedDict([('PolyLoop', OrderedDict([('CartesianPoint', [OrderedDict([('Coordinate', ['30.455237', '11.169988', '3.400000'])]), OrderedDict([('Coordinate', ['29.193419', '11.169988', '3.400000'])]), OrderedDict([('Coordinate', ['29.193419', '11.169988', '6.800000'])]), OrderedDict([('Coordinate', ['30.455237', '11.169988', '6.800000'])])])]))]))]), OrderedDict([('@isSecondLevelBoundary', 'true'), ('@surfaceIdRef', 'surface-24'), ('PlanarGeometry', OrderedDict([('PolyLoop', OrderedDict([('CartesianPoint', [OrderedDict([('Coordinate', ['30.455237', '1.680000', '3.400000'])]), OrderedDict([('Coordinate', ['30.493681', '1.679837', '3.400000'])]), OrderedDict([('Coordinate', ['30.493681', '0.394968', '3.400000'])]), OrderedDict([('Coordinate', ['29.193419', '0.394968', '3.400000'])]), OrderedDict([('Coordinate', ['29.193419', '2.205237', '3.400000'])]), OrderedDict([('Coordinate', ['30.455237', '2.205237', '3.400000'])])])]))]))]), OrderedDict([('@isSecondLevelBoundary', 'true'), ('@surfaceIdRef', 'surface-68'), ('PlanarGeometry', OrderedDict([('PolyLoop', OrderedDict([('CartesianPoint', [OrderedDict([('Coordinate', ['31.483681', '1.675642', '3.400000'])]), OrderedDict([('Coordinate', ['31.483681', '0.394968', '3.400000'])]), OrderedDict([('Coordinate', ['30.493681', '0.394968', '3.400000'])]), OrderedDict([('Coordinate', ['30.493681', '1.679837', '3.400000'])])])]))]))]), OrderedDict([('@isSecondLevelBoundary', 'true'), ('@surfaceIdRef', 'surface-73'), ('PlanarGeometry', OrderedDict([('PolyLoop', OrderedDict([('CartesianPoint', [OrderedDict([('Coordinate', ['32.363681', '1.671913', '3.400000'])]), OrderedDict([('Coordinate', ['32.363681', '0.394968', '3.400000'])]), OrderedDict([('Coordinate', ['31.483681', '0.394968', '3.400000'])]), OrderedDict([('Coordinate', ['31.483681', '1.675642', '3.400000'])])])]))]))]), OrderedDict([('@isSecondLevelBoundary', 'true'), ('@surfaceIdRef', 'surface-79'), ('PlanarGeometry', OrderedDict([('PolyLoop', OrderedDict([('CartesianPoint', [OrderedDict([('Coordinate', ['32.815237', '1.670000', '3.400000'])]), OrderedDict([('Coordinate', ['32.821140', '0.394968', '3.400000'])]), OrderedDict([('Coordinate', ['32.363681', '0.394968', '3.400000'])]), OrderedDict([('Coordinate', ['32.363681', '1.671913', '3.400000'])])])]))]))]), OrderedDict([('@isSecondLevelBoundary', 'true'), ('@surfaceIdRef', 'surface-92'), ('PlanarGeometry', OrderedDict([('PolyLoop', OrderedDict([('CartesianPoint', [OrderedDict([('Coordinate', ['32.815237', '1.670000', '3.400000'])]), OrderedDict([('Coordinate', ['30.455237', '1.680000', '3.400000'])]), OrderedDict([('Coordinate', ['30.455237', '1.680000', '6.800000'])]), OrderedDict([('Coordinate', ['32.815237', '1.670000', '6.800000'])])])]))]))]), OrderedDict([('@isSecondLevelBoundary', 'true'), ('@surfaceIdRef', 'surface-93'), ('PlanarGeometry', OrderedDict([('PolyLoop', OrderedDict([('CartesianPoint', [OrderedDict([('Coordinate', ['30.455237', '1.680000', '3.400000'])]), OrderedDict([('Coordinate', ['30.455237', '3.970000', '3.400000'])]), OrderedDict([('Coordinate', ['30.455237', '3.970000', '6.800000'])]), OrderedDict([('Coordinate', ['30.455237', '1.680000', '6.800000'])])])]))]))]), OrderedDict([('@isSecondLevelBoundary', 'true'), ('@surfaceIdRef', 'surface-100'), ('PlanarGeometry', OrderedDict([('PolyLoop', OrderedDict([('CartesianPoint', [OrderedDict([('Coordinate', ['30.455237', '3.970000', '3.400000'])]), OrderedDict([('Coordinate', ['30.455237', '11.169988', '3.400000'])]), OrderedDict([('Coordinate', ['30.455237', '11.169988', '6.800000'])]), OrderedDict([('Coordinate', ['30.455237', '3.970000', '6.800000'])])])]))]))]), OrderedDict([('@isSecondLevelBoundary', 'true'), ('@surfaceIdRef', 'surface-101'), ('PlanarGeometry', OrderedDict([('PolyLoop', OrderedDict([('CartesianPoint', [OrderedDict([('Coordinate', ['29.193419', '0.394968', '3.400000'])]), OrderedDict([('Coordinate', ['32.821140', '0.394968', '3.400000'])]), OrderedDict([('Coordinate', ['32.821140', '0.394968', '6.800000'])]), OrderedDict([('Coordinate', ['29.193419', '0.394968', '6.800000'])])])]))]))]), OrderedDict([('@isSecondLevelBoundary', 'true'), ('@surfaceIdRef', 'surface-102'), ('PlanarGeometry', OrderedDict([('PolyLoop', OrderedDict([('CartesianPoint', [OrderedDict([('Coordinate', ['32.821140', '0.394968', '3.400000'])]), OrderedDict([('Coordinate', ['32.815237', '1.670000', '3.400000'])]), OrderedDict([('Coordinate', ['32.815237', '1.670000', '6.800000'])]), OrderedDict([('Coordinate', ['32.821140', '0.394968', '6.800000'])])])]))]))]), OrderedDict([('@isSecondLevelBoundary', 'true'), ('@surfaceIdRef', 'surface-103'), ('PlanarGeometry', OrderedDict([('PolyLoop', OrderedDict([('CartesianPoint', [OrderedDict([('Coordinate', ['29.193419', '11.169988', '3.400000'])]), OrderedDict([('Coordinate', ['29.193419', '0.394968', '3.400000'])]), OrderedDict([('Coordinate', ['29.193419', '0.394968', '6.800000'])]), OrderedDict([('Coordinate', ['29.193419', '11.169988', '6.800000'])])])]))]))]), OrderedDict([('@isSecondLevelBoundary', 'true'), ('@surfaceIdRef', 'surface-104'), ('PlanarGeometry', OrderedDict([('PolyLoop', OrderedDict([('CartesianPoint', [OrderedDict([('Coordinate', ['30.455237', '2.205237', '3.400000'])]), OrderedDict([('Coordinate', ['29.193419', '2.205237', '3.400000'])]), OrderedDict([('Coordinate', ['29.193419', '3.969988', '3.400000'])]), OrderedDict([('Coordinate', ['30.455237', '3.969988', '3.400000'])])])]))]))]), OrderedDict([('@isSecondLevelBoundary', 'true'), ('@surfaceIdRef', 'surface-105'), ('PlanarGeometry', OrderedDict([('PolyLoop', OrderedDict([('CartesianPoint', [OrderedDict([('Coordinate', ['29.193419', '0.394968', '6.800000'])]), OrderedDict([('Coordinate', ['32.821140', '0.394968', '6.800000'])]), OrderedDict([('Coordinate', ['32.815237', '1.670000', '6.800000'])]), OrderedDict([('Coordinate', ['30.455237', '1.680000', '6.800000'])]), OrderedDict([('Coordinate', ['30.455237', '11.169988', '6.800000'])]), OrderedDict([('Coordinate', ['29.193419', '11.169988', '6.800000'])])])]))]))])]",
         "SpaceId": "R12",
         "SpaceType": "Corridor",
         "TM46Category": 5,
         "TypeCode": 0,
         "Volume": 56.51056,
         "id": "105_LiveseyExchange_heatpump-normal-fabric, B_01_05_R12_Corridor",
         "index": 16,
         "model": "105_LiveseyExchange_heatpump-normal-fabric"
        },
        {
         "@buildingStoreyIdRef": "STOREY_1",
         "@conditionType": "HeatedAndCooled",
         "@id": "TR000010",
         "@zoneIdRef": "ZONE_2",
         "Area": 1.763367,
         "BlockCode": "B",
         "CADObjectId": "TR000010",
         "Level": 1,
         "Name": "B_01_06_XX_Riser",
         "ShellGeometry": "OrderedDict([('@id', 'TR000010-shellgeometry'), ('ClosedShell', OrderedDict([('PolyLoop', [OrderedDict([('CartesianPoint', [OrderedDict([('Coordinate', ['36.968681', '3.428000', '3.400000'])]), OrderedDict([('Coordinate', ['36.968681', '3.970000', '3.400000'])]), OrderedDict([('Coordinate', ['36.968681', '3.970000', '6.800000'])]), OrderedDict([('Coordinate', ['36.968681', '3.428000', '6.800000'])])])]), OrderedDict([('CartesianPoint', [OrderedDict([('Coordinate', ['36.968681', '3.428000', '3.400000'])]), OrderedDict([('Coordinate', ['33.715237', '3.428000', '3.400000'])]), OrderedDict([('Coordinate', ['33.715237', '3.970000', '3.400000'])]), OrderedDict([('Coordinate', ['36.968681', '3.970000', '3.400000'])])])]), OrderedDict([('CartesianPoint', [OrderedDict([('Coordinate', ['36.968681', '3.970000', '6.800000'])]), OrderedDict([('Coordinate', ['33.715237', '3.970000', '6.800000'])]), OrderedDict([('Coordinate', ['33.715237', '3.428000', '6.800000'])]), OrderedDict([('Coordinate', ['36.968681', '3.428000', '6.800000'])])])]), OrderedDict([('CartesianPoint', [OrderedDict([('Coordinate', ['36.968681', '3.970000', '3.400000'])]), OrderedDict([('Coordinate', ['33.715237', '3.970000', '3.400000'])]), OrderedDict([('Coordinate', ['33.715237', '3.970000', '6.800000'])]), OrderedDict([('Coordinate', ['36.968681', '3.970000', '6.800000'])])])]), OrderedDict([('CartesianPoint', [OrderedDict([('Coordinate', ['33.715237', '3.970000', '3.400000'])]), OrderedDict([('Coordinate', ['33.715237', '3.428000', '3.400000'])]), OrderedDict([('Coordinate', ['33.715237', '3.428000', '6.800000'])]), OrderedDict([('Coordinate', ['33.715237', '3.970000', '6.800000'])])])]), OrderedDict([('CartesianPoint', [OrderedDict([('Coordinate', ['33.715237', '3.428000', '3.400000'])]), OrderedDict([('Coordinate', ['36.968681', '3.428000', '3.400000'])]), OrderedDict([('Coordinate', ['36.968681', '3.428000', '6.800000'])]), OrderedDict([('Coordinate', ['33.715237', '3.428000', '6.800000'])])])])])]))])",
         "SpaceBoundary": "[OrderedDict([('@isSecondLevelBoundary', 'true'), ('@surfaceIdRef', 'surface-10'), ('PlanarGeometry', OrderedDict([('PolyLoop', OrderedDict([('CartesianPoint', [OrderedDict([('Coordinate', ['36.968681', '3.969988', '3.400000'])]), OrderedDict([('Coordinate', ['33.715237', '3.969988', '3.400000'])]), OrderedDict([('Coordinate', ['33.715237', '3.970000', '3.400000'])]), OrderedDict([('Coordinate', ['36.968681', '3.970000', '3.400000'])])])]))]))]), OrderedDict([('@isSecondLevelBoundary', 'true'), ('@surfaceIdRef', 'surface-51'), ('PlanarGeometry', OrderedDict([('PolyLoop', OrderedDict([('CartesianPoint', [OrderedDict([('Coordinate', ['36.968681', '3.428000', '3.400000'])]), OrderedDict([('Coordinate', ['33.715237', '3.428000', '3.400000'])]), OrderedDict([('Coordinate', ['33.715237', '3.969988', '3.400000'])]), OrderedDict([('Coordinate', ['36.968681', '3.969988', '3.400000'])])])]))]))]), OrderedDict([('@isSecondLevelBoundary', 'true'), ('@surfaceIdRef', 'surface-94'), ('PlanarGeometry', OrderedDict([('PolyLoop', OrderedDict([('CartesianPoint', [OrderedDict([('Coordinate', ['33.715237', '3.970000', '3.400000'])]), OrderedDict([('Coordinate', ['33.715237', '3.428000', '3.400000'])]), OrderedDict([('Coordinate', ['33.715237', '3.428000', '6.800000'])]), OrderedDict([('Coordinate', ['33.715237', '3.970000', '6.800000'])])])]))]))]), OrderedDict([('@isSecondLevelBoundary', 'true'), ('@surfaceIdRef', 'surface-99'), ('PlanarGeometry', OrderedDict([('PolyLoop', OrderedDict([('CartesianPoint', [OrderedDict([('Coordinate', ['36.968681', '3.970000', '3.400000'])]), OrderedDict([('Coordinate', ['33.715237', '3.970000', '3.400000'])]), OrderedDict([('Coordinate', ['33.715237', '3.970000', '6.800000'])]), OrderedDict([('Coordinate', ['36.968681', '3.970000', '6.800000'])])])]))]))]), OrderedDict([('@isSecondLevelBoundary', 'true'), ('@surfaceIdRef', 'surface-106'), ('PlanarGeometry', OrderedDict([('PolyLoop', OrderedDict([('CartesianPoint', [OrderedDict([('Coordinate', ['36.968681', '3.428000', '3.400000'])]), OrderedDict([('Coordinate', ['36.968681', '3.970000', '3.400000'])]), OrderedDict([('Coordinate', ['36.968681', '3.970000', '6.800000'])]), OrderedDict([('Coordinate', ['36.968681', '3.428000', '6.800000'])])])]))]))]), OrderedDict([('@isSecondLevelBoundary', 'true'), ('@surfaceIdRef', 'surface-107'), ('PlanarGeometry', OrderedDict([('PolyLoop', OrderedDict([('CartesianPoint', [OrderedDict([('Coordinate', ['36.968681', '3.970000', '6.800000'])]), OrderedDict([('Coordinate', ['33.715237', '3.970000', '6.800000'])]), OrderedDict([('Coordinate', ['33.715237', '3.428000', '6.800000'])]), OrderedDict([('Coordinate', ['36.968681', '3.428000', '6.800000'])])])]))]))]), OrderedDict([('@isSecondLevelBoundary', 'true'), ('@surfaceIdRef', 'surface-108'), ('PlanarGeometry', OrderedDict([('PolyLoop', OrderedDict([('CartesianPoint', [OrderedDict([('Coordinate', ['36.968681', '3.428000', '6.800000'])]), OrderedDict([('Coordinate', ['33.715237', '3.428000', '6.800000'])]), OrderedDict([('Coordinate', ['33.715237', '3.428000', '3.400000'])]), OrderedDict([('Coordinate', ['36.968681', '3.428000', '3.400000'])])])]))]))])]",
         "SpaceId": "XX",
         "SpaceType": "Riser",
         "TM46Category": 6,
         "TypeCode": 0,
         "Volume": 5.995447,
         "id": "105_LiveseyExchange_heatpump-normal-fabric, B_01_06_XX_Riser",
         "index": 17,
         "model": "105_LiveseyExchange_heatpump-normal-fabric"
        },
        {
         "@buildingStoreyIdRef": "STOREY_1",
         "@conditionType": "HeatedAndCooled",
         "@id": "B0000000",
         "@zoneIdRef": "ZONE_2",
         "Area": 11.011565,
         "BlockCode": "B",
         "CADObjectId": "B0000000",
         "Level": 1,
         "Name": "B_01_03_R13_WC/Shower",
         "ShellGeometry": "OrderedDict([('@id', 'B0000000-shellgeometry'), ('ClosedShell', OrderedDict([('PolyLoop', [OrderedDict([('CartesianPoint', [OrderedDict([('Coordinate', ['32.821140', '0.394968', '3.400000'])]), OrderedDict([('Coordinate', ['36.968681', '0.394968', '3.400000'])]), OrderedDict([('Coordinate', ['36.968681', '0.394968', '6.800000'])]), OrderedDict([('Coordinate', ['32.821140', '0.394968', '6.800000'])])])]), OrderedDict([('CartesianPoint', [OrderedDict([('Coordinate', ['36.968681', '0.394968', '3.400000'])]), OrderedDict([('Coordinate', ['36.968681', '3.428000', '3.400000'])]), OrderedDict([('Coordinate', ['36.968681', '3.428000', '6.800000'])]), OrderedDict([('Coordinate', ['36.968681', '0.394968', '6.800000'])])])]), OrderedDict([('CartesianPoint', [OrderedDict([('Coordinate', ['36.968681', '0.394968', '3.400000'])]), OrderedDict([('Coordinate', ['32.821140', '0.394968', '3.400000'])]), OrderedDict([('Coordinate', ['32.815237', '1.670000', '3.400000'])]), OrderedDict([('Coordinate', ['33.715237', '1.670000', '3.400000'])]), OrderedDict([('Coordinate', ['33.715237', '3.428000', '3.400000'])]), OrderedDict([('Coordinate', ['36.968681', '3.428000', '3.400000'])])])]), OrderedDict([('CartesianPoint', [OrderedDict([('Coordinate', ['36.968681', '3.428000', '6.800000'])]), OrderedDict([('Coordinate', ['33.715237', '3.428000', '6.800000'])]), OrderedDict([('Coordinate', ['33.715237', '1.670000', '6.800000'])]), OrderedDict([('Coordinate', ['32.815237', '1.670000', '6.800000'])]), OrderedDict([('Coordinate', ['32.821140', '0.394968', '6.800000'])]), OrderedDict([('Coordinate', ['36.968681', '0.394968', '6.800000'])])])]), OrderedDict([('CartesianPoint', [OrderedDict([('Coordinate', ['32.815237', '1.670000', '3.400000'])]), OrderedDict([('Coordinate', ['32.821140', '0.394968', '3.400000'])]), OrderedDict([('Coordinate', ['32.821140', '0.394968', '6.800000'])]), OrderedDict([('Coordinate', ['32.815237', '1.670000', '6.800000'])])])]), OrderedDict([('CartesianPoint', [OrderedDict([('Coordinate', ['33.715237', '3.428000', '3.400000'])]), OrderedDict([('Coordinate', ['33.715237', '1.670000', '3.400000'])]), OrderedDict([('Coordinate', ['33.715237', '1.670000', '6.800000'])]), OrderedDict([('Coordinate', ['33.715237', '3.428000', '6.800000'])])])]), OrderedDict([('CartesianPoint', [OrderedDict([('Coordinate', ['32.815237', '1.670000', '6.800000'])]), OrderedDict([('Coordinate', ['33.715237', '1.670000', '6.800000'])]), OrderedDict([('Coordinate', ['33.715237', '1.670000', '3.400000'])]), OrderedDict([('Coordinate', ['32.815237', '1.670000', '3.400000'])])])]), OrderedDict([('CartesianPoint', [OrderedDict([('Coordinate', ['33.715237', '3.428000', '6.800000'])]), OrderedDict([('Coordinate', ['36.968681', '3.428000', '6.800000'])]), OrderedDict([('Coordinate', ['36.968681', '3.428000', '3.400000'])]), OrderedDict([('Coordinate', ['33.715237', '3.428000', '3.400000'])])])])])]))])",
         "SpaceBoundary": "[OrderedDict([('@isSecondLevelBoundary', 'true'), ('@surfaceIdRef', 'surface-52'), ('PlanarGeometry', OrderedDict([('PolyLoop', OrderedDict([('CartesianPoint', [OrderedDict([('Coordinate', ['36.968681', '2.635237', '3.400000'])]), OrderedDict([('Coordinate', ['35.433681', '2.635237', '3.400000'])]), OrderedDict([('Coordinate', ['35.433681', '2.205237', '3.400000'])]), OrderedDict([('Coordinate', ['33.715237', '2.205237', '3.400000'])]), OrderedDict([('Coordinate', ['33.715237', '3.428000', '3.400000'])]), OrderedDict([('Coordinate', ['36.968681', '3.428000', '3.400000'])])])]))]))]), OrderedDict([('@isSecondLevelBoundary', 'true'), ('@surfaceIdRef', 'surface-63'), ('PlanarGeometry', OrderedDict([('PolyLoop', OrderedDict([('CartesianPoint', [OrderedDict([('Coordinate', ['36.968681', '0.394968', '3.400000'])]), OrderedDict([('Coordinate', ['35.433681', '0.394968', '3.400000'])]), OrderedDict([('Coordinate', ['35.433681', '2.635237', '3.400000'])]), OrderedDict([('Coordinate', ['36.968681', '2.635237', '3.400000'])])])]))]))]), OrderedDict([('@isSecondLevelBoundary', 'true'), ('@surfaceIdRef', 'surface-78'), ('PlanarGeometry', OrderedDict([('PolyLoop', OrderedDict([('CartesianPoint', [OrderedDict([('Coordinate', ['33.243681', '0.394968', '3.400000'])]), OrderedDict([('Coordinate', ['32.821140', '0.394968', '3.400000'])]), OrderedDict([('Coordinate', ['32.815237', '1.670000', '3.400000'])]), OrderedDict([('Coordinate', ['33.243681', '1.670000', '3.400000'])])])]))]))]), OrderedDict([('@isSecondLevelBoundary', 'true'), ('@surfaceIdRef', 'surface-83'), ('PlanarGeometry', OrderedDict([('PolyLoop', OrderedDict([('CartesianPoint', [OrderedDict([('Coordinate', ['35.433681', '0.394968', '3.400000'])]), OrderedDict([('Coordinate', ['34.163681', '0.394968', '3.400000'])]), OrderedDict([('Coordinate', ['34.163681', '2.205237', '3.400000'])]), OrderedDict([('Coordinate', ['35.433681', '2.205237', '3.400000'])])])]))]))]), OrderedDict([('@isSecondLevelBoundary', 'true'), ('@surfaceIdRef', 'surface-88'), ('PlanarGeometry', OrderedDict([('PolyLoop', OrderedDict([('CartesianPoint', [OrderedDict([('Coordinate', ['34.163681', '0.394968', '3.400000'])]), OrderedDict([('Coordinate', ['33.243681', '0.394968', '3.400000'])]), OrderedDict([('Coordinate', ['33.243681', '1.670000', '3.400000'])]), OrderedDict([('Coordinate', ['33.715237', '1.670000', '3.400000'])]), OrderedDict([('Coordinate', ['33.715237', '2.205237', '3.400000'])]), OrderedDict([('Coordinate', ['34.163681', '2.205237', '3.400000'])])])]))]))]), OrderedDict([('@isSecondLevelBoundary', 'true'), ('@surfaceIdRef', 'surface-95'), ('PlanarGeometry', OrderedDict([('PolyLoop', OrderedDict([('CartesianPoint', [OrderedDict([('Coordinate', ['33.715237', '3.428000', '3.400000'])]), OrderedDict([('Coordinate', ['33.715237', '1.670000', '3.400000'])]), OrderedDict([('Coordinate', ['33.715237', '1.670000', '6.800000'])]), OrderedDict([('Coordinate', ['33.715237', '3.428000', '6.800000'])])])]))]))]), OrderedDict([('@isSecondLevelBoundary', 'true'), ('@surfaceIdRef', 'surface-96'), ('PlanarGeometry', OrderedDict([('PolyLoop', OrderedDict([('CartesianPoint', [OrderedDict([('Coordinate', ['33.715237', '1.670000', '3.400000'])]), OrderedDict([('Coordinate', ['32.815237', '1.670000', '3.400000'])]), OrderedDict([('Coordinate', ['32.815237', '1.670000', '6.800000'])]), OrderedDict([('Coordinate', ['33.715237', '1.670000', '6.800000'])])])]))]))]), OrderedDict([('@isSecondLevelBoundary', 'true'), ('@surfaceIdRef', 'surface-102'), ('PlanarGeometry', OrderedDict([('PolyLoop', OrderedDict([('CartesianPoint', [OrderedDict([('Coordinate', ['32.821140', '0.394968', '6.800000'])]), OrderedDict([('Coordinate', ['32.815237', '1.670000', '6.800000'])]), OrderedDict([('Coordinate', ['32.815237', '1.670000', '3.400000'])]), OrderedDict([('Coordinate', ['32.821140', '0.394968', '3.400000'])])])]))]))]), OrderedDict([('@isSecondLevelBoundary', 'true'), ('@surfaceIdRef', 'surface-108'), ('PlanarGeometry', OrderedDict([('PolyLoop', OrderedDict([('CartesianPoint', [OrderedDict([('Coordinate', ['36.968681', '3.428000', '3.400000'])]), OrderedDict([('Coordinate', ['33.715237', '3.428000', '3.400000'])]), OrderedDict([('Coordinate', ['33.715237', '3.428000', '6.800000'])]), OrderedDict([('Coordinate', ['36.968681', '3.428000', '6.800000'])])])]))]))]), OrderedDict([('@isSecondLevelBoundary', 'true'), ('@surfaceIdRef', 'surface-109'), ('PlanarGeometry', OrderedDict([('PolyLoop', OrderedDict([('CartesianPoint', [OrderedDict([('Coordinate', ['32.821140', '0.394968', '3.400000'])]), OrderedDict([('Coordinate', ['36.968681', '0.394968', '3.400000'])]), OrderedDict([('Coordinate', ['36.968681', '0.394968', '6.800000'])]), OrderedDict([('Coordinate', ['32.821140', '0.394968', '6.800000'])])])]))]))]), OrderedDict([('@isSecondLevelBoundary', 'true'), ('@surfaceIdRef', 'surface-110'), ('PlanarGeometry', OrderedDict([('PolyLoop', OrderedDict([('CartesianPoint', [OrderedDict([('Coordinate', ['36.968681', '0.394968', '3.400000'])]), OrderedDict([('Coordinate', ['36.968681', '3.428000', '3.400000'])]), OrderedDict([('Coordinate', ['36.968681', '3.428000', '6.800000'])]), OrderedDict([('Coordinate', ['36.968681', '0.394968', '6.800000'])])])]))]))]), OrderedDict([('@isSecondLevelBoundary', 'true'), ('@surfaceIdRef', 'surface-111'), ('PlanarGeometry', OrderedDict([('PolyLoop', OrderedDict([('CartesianPoint', [OrderedDict([('Coordinate', ['36.968681', '3.428000', '6.800000'])]), OrderedDict([('Coordinate', ['33.715237', '3.428000', '6.800000'])]), OrderedDict([('Coordinate', ['33.715237', '1.670000', '6.800000'])]), OrderedDict([('Coordinate', ['32.815237', '1.670000', '6.800000'])]), OrderedDict([('Coordinate', ['32.821140', '0.394968', '6.800000'])]), OrderedDict([('Coordinate', ['36.968681', '0.394968', '6.800000'])])])]))]))])]",
         "SpaceId": "R13",
         "SpaceType": "WC/Shower",
         "TM46Category": 3,
         "TypeCode": 0,
         "Volume": 37.439322,
         "id": "105_LiveseyExchange_heatpump-normal-fabric, B_01_03_R13_WC/Shower",
         "index": 18,
         "model": "105_LiveseyExchange_heatpump-normal-fabric"
        },
        {
         "@buildingStoreyIdRef": "STOREY_1",
         "@conditionType": "HeatedAndCooled",
         "@id": "01000000",
         "@zoneIdRef": "ZONE_1",
         "Area": 21.732013,
         "BlockCode": "A",
         "CADObjectId": "01000000",
         "Level": 1,
         "Name": "A_01_01_R8_Workroom1",
         "ShellGeometry": "OrderedDict([('@id', '01000000-shellgeometry'), ('ClosedShell', OrderedDict([('PolyLoop', [OrderedDict([('CartesianPoint', [OrderedDict([('Coordinate', ['21.317000', '6.009000', '3.400000'])]), OrderedDict([('Coordinate', ['21.956680', '6.008347', '3.400000'])]), OrderedDict([('Coordinate', ['21.956680', '1.655237', '3.400000'])]), OrderedDict([('Coordinate', ['18.403681', '1.655237', '3.400000'])]), OrderedDict([('Coordinate', ['18.403681', '8.158887', '3.400000'])]), OrderedDict([('Coordinate', ['21.317000', '8.158887', '3.400000'])])])]), OrderedDict([('CartesianPoint', [OrderedDict([('Coordinate', ['21.317000', '8.158887', '6.800000'])]), OrderedDict([('Coordinate', ['18.403681', '8.158887', '6.800000'])]), OrderedDict([('Coordinate', ['18.403681', '1.655237', '6.800000'])]), OrderedDict([('Coordinate', ['21.956680', '1.655237', '6.800000'])]), OrderedDict([('Coordinate', ['21.956680', '6.008347', '6.800000'])]), OrderedDict([('Coordinate', ['21.317000', '6.009000', '6.800000'])])])]), OrderedDict([('CartesianPoint', [OrderedDict([('Coordinate', ['21.317000', '8.158887', '3.400000'])]), OrderedDict([('Coordinate', ['18.403681', '8.158887', '3.400000'])]), OrderedDict([('Coordinate', ['18.403681', '8.158887', '6.800000'])]), OrderedDict([('Coordinate', ['21.317000', '8.158887', '6.800000'])])])]), OrderedDict([('CartesianPoint', [OrderedDict([('Coordinate', ['21.956680', '1.655237', '3.400000'])]), OrderedDict([('Coordinate', ['21.956680', '6.008347', '3.400000'])]), OrderedDict([('Coordinate', ['21.956680', '6.008347', '6.800000'])]), OrderedDict([('Coordinate', ['21.956680', '1.655237', '6.800000'])])])]), OrderedDict([('CartesianPoint', [OrderedDict([('Coordinate', ['18.403681', '1.655237', '3.400000'])]), OrderedDict([('Coordinate', ['21.956680', '1.655237', '3.400000'])]), OrderedDict([('Coordinate', ['21.956680', '1.655237', '6.800000'])]), OrderedDict([('Coordinate', ['18.403681', '1.655237', '6.800000'])])])]), OrderedDict([('CartesianPoint', [OrderedDict([('Coordinate', ['18.403681', '8.158887', '3.400000'])]), OrderedDict([('Coordinate', ['18.403681', '1.655237', '3.400000'])]), OrderedDict([('Coordinate', ['18.403681', '1.655237', '6.800000'])]), OrderedDict([('Coordinate', ['18.403681', '8.158887', '6.800000'])])])]), OrderedDict([('CartesianPoint', [OrderedDict([('Coordinate', ['21.317000', '6.009000', '6.800000'])]), OrderedDict([('Coordinate', ['21.956680', '6.008347', '6.800000'])]), OrderedDict([('Coordinate', ['21.956680', '6.008347', '3.400000'])]), OrderedDict([('Coordinate', ['21.317000', '6.009000', '3.400000'])])])]), OrderedDict([('CartesianPoint', [OrderedDict([('Coordinate', ['21.317000', '8.158887', '6.800000'])]), OrderedDict([('Coordinate', ['21.317000', '6.009000', '6.800000'])]), OrderedDict([('Coordinate', ['21.317000', '6.009000', '3.400000'])]), OrderedDict([('Coordinate', ['21.317000', '8.158887', '3.400000'])])])])])]))])",
         "SpaceBoundary": "[OrderedDict([('@isSecondLevelBoundary', 'true'), ('@surfaceIdRef', 'surface-36'), ('PlanarGeometry', OrderedDict([('PolyLoop', OrderedDict([('CartesianPoint', [OrderedDict([('Coordinate', ['21.956680', '1.655237', '6.800000'])]), OrderedDict([('Coordinate', ['18.403681', '1.655237', '6.800000'])]), OrderedDict([('Coordinate', ['18.403681', '1.655237', '3.400000'])]), OrderedDict([('Coordinate', ['21.956680', '1.655237', '3.400000'])])])]))]))]), OrderedDict([('@isSecondLevelBoundary', 'true'), ('@surfaceIdRef', 'surface-46'), ('PlanarGeometry', OrderedDict([('PolyLoop', OrderedDict([('CartesianPoint', [OrderedDict([('Coordinate', ['18.403681', '8.158887', '3.400000'])]), OrderedDict([('Coordinate', ['18.403681', '1.655237', '3.400000'])]), OrderedDict([('Coordinate', ['18.403681', '1.655237', '6.800000'])]), OrderedDict([('Coordinate', ['18.403681', '8.158887', '6.800000'])])])]))]))]), OrderedDict([('@isSecondLevelBoundary', 'true'), ('@surfaceIdRef', 'surface-112'), ('PlanarGeometry', OrderedDict([('PolyLoop', OrderedDict([('CartesianPoint', [OrderedDict([('Coordinate', ['19.023681', '1.655237', '3.400000'])]), OrderedDict([('Coordinate', ['18.403681', '1.655237', '3.400000'])]), OrderedDict([('Coordinate', ['18.403681', '1.659769', '3.400000'])])])]))]))]), OrderedDict([('@isSecondLevelBoundary', 'true'), ('@surfaceIdRef', 'surface-113'), ('PlanarGeometry', OrderedDict([('PolyLoop', OrderedDict([('CartesianPoint', [OrderedDict([('Coordinate', ['19.023681', '6.919988', '3.400000'])]), OrderedDict([('Coordinate', ['18.403681', '6.919988', '3.400000'])]), OrderedDict([('Coordinate', ['18.403681', '8.158887', '3.400000'])]), OrderedDict([('Coordinate', ['19.023681', '8.158887', '3.400000'])])])]))]))]), OrderedDict([('@isSecondLevelBoundary', 'true'), ('@surfaceIdRef', 'surface-114'), ('PlanarGeometry', OrderedDict([('PolyLoop', OrderedDict([('CartesianPoint', [OrderedDict([('Coordinate', ['21.956680', '1.655237', '3.400000'])]), OrderedDict([('Coordinate', ['19.023681', '1.655237', '3.400000'])]), OrderedDict([('Coordinate', ['18.403681', '1.659769', '3.400000'])]), OrderedDict([('Coordinate', ['18.403681', '6.919988', '3.400000'])]), OrderedDict([('Coordinate', ['19.023681', '6.919988', '3.400000'])]), OrderedDict([('Coordinate', ['19.023681', '8.158887', '3.400000'])]), OrderedDict([('Coordinate', ['21.317000', '8.158887', '3.400000'])]), OrderedDict([('Coordinate', ['21.317000', '6.009000', '3.400000'])]), OrderedDict([('Coordinate', ['21.956680', '6.008347', '3.400000'])])])]))]))]), OrderedDict([('@isSecondLevelBoundary', 'true'), ('@surfaceIdRef', 'surface-115'), ('PlanarGeometry', OrderedDict([('PolyLoop', OrderedDict([('CartesianPoint', [OrderedDict([('Coordinate', ['21.317000', '8.158887', '6.800000'])]), OrderedDict([('Coordinate', ['18.403681', '8.158887', '6.800000'])]), OrderedDict([('Coordinate', ['18.403681', '1.655237', '6.800000'])]), OrderedDict([('Coordinate', ['21.956680', '1.655237', '6.800000'])]), OrderedDict([('Coordinate', ['21.956680', '6.008347', '6.800000'])]), OrderedDict([('Coordinate', ['21.317000', '6.009000', '6.800000'])])])]))]))]), OrderedDict([('@isSecondLevelBoundary', 'true'), ('@surfaceIdRef', 'surface-116'), ('PlanarGeometry', OrderedDict([('PolyLoop', OrderedDict([('CartesianPoint', [OrderedDict([('Coordinate', ['21.317000', '8.158887', '3.400000'])]), OrderedDict([('Coordinate', ['18.403681', '8.158887', '3.400000'])]), OrderedDict([('Coordinate', ['18.403681', '8.158887', '6.800000'])]), OrderedDict([('Coordinate', ['21.317000', '8.158887', '6.800000'])])])]))]))]), OrderedDict([('@isSecondLevelBoundary', 'true'), ('@surfaceIdRef', 'surface-117'), ('PlanarGeometry', OrderedDict([('PolyLoop', OrderedDict([('CartesianPoint', [OrderedDict([('Coordinate', ['21.956680', '5.510052', '6.800000'])]), OrderedDict([('Coordinate', ['21.956680', '3.658000', '6.800000'])]), OrderedDict([('Coordinate', ['21.956680', '3.658000', '3.400000'])]), OrderedDict([('Coordinate', ['21.956680', '5.510052', '3.400000'])])])]))]))]), OrderedDict([('@isSecondLevelBoundary', 'true'), ('@surfaceIdRef', 'surface-118'), ('PlanarGeometry', OrderedDict([('PolyLoop', OrderedDict([('CartesianPoint', [OrderedDict([('Coordinate', ['21.956680', '1.655237', '3.400000'])]), OrderedDict([('Coordinate', ['21.956680', '3.658000', '3.400000'])]), OrderedDict([('Coordinate', ['21.956680', '3.658000', '6.800000'])]), OrderedDict([('Coordinate', ['21.956680', '1.655237', '6.800000'])])])]))]))]), OrderedDict([('@isSecondLevelBoundary', 'true'), ('@surfaceIdRef', 'surface-119'), ('PlanarGeometry', OrderedDict([('PolyLoop', OrderedDict([('CartesianPoint', [OrderedDict([('Coordinate', ['21.956680', '5.510052', '3.400000'])]), OrderedDict([('Coordinate', ['21.956680', '6.008347', '3.400000'])]), OrderedDict([('Coordinate', ['21.956680', '6.008347', '6.800000'])]), OrderedDict([('Coordinate', ['21.956680', '5.510052', '6.800000'])])])]))]))]), OrderedDict([('@isSecondLevelBoundary', 'true'), ('@surfaceIdRef', 'surface-120'), ('PlanarGeometry', OrderedDict([('PolyLoop', OrderedDict([('CartesianPoint', [OrderedDict([('Coordinate', ['21.317000', '6.009000', '6.800000'])]), OrderedDict([('Coordinate', ['21.956680', '6.008347', '6.800000'])]), OrderedDict([('Coordinate', ['21.956680', '6.008347', '3.400000'])]), OrderedDict([('Coordinate', ['21.317000', '6.009000', '3.400000'])])])]))]))]), OrderedDict([('@isSecondLevelBoundary', 'true'), ('@surfaceIdRef', 'surface-121'), ('PlanarGeometry', OrderedDict([('PolyLoop', OrderedDict([('CartesianPoint', [OrderedDict([('Coordinate', ['21.317000', '8.158887', '6.800000'])]), OrderedDict([('Coordinate', ['21.317000', '6.009000', '6.800000'])]), OrderedDict([('Coordinate', ['21.317000', '6.009000', '3.400000'])]), OrderedDict([('Coordinate', ['21.317000', '8.158887', '3.400000'])])])]))]))])]",
         "SpaceId": "R8",
         "SpaceType": "Workroom1",
         "TM46Category": 1,
         "TypeCode": 0,
         "Volume": 73.88884499999999,
         "id": "105_LiveseyExchange_heatpump-normal-fabric, A_01_01_R8_Workroom1",
         "index": 19,
         "model": "105_LiveseyExchange_heatpump-normal-fabric"
        },
        {
         "@buildingStoreyIdRef": "STOREY_1",
         "@conditionType": "HeatedAndCooled",
         "@id": "00000002",
         "@zoneIdRef": "ZONE_1",
         "Area": 55.672253,
         "BlockCode": "A",
         "CADObjectId": "00000002",
         "Level": 0,
         "Name": "A_00_01_R1_EventSpace",
         "ShellGeometry": "OrderedDict([('@id', '00000002-shellgeometry'), ('ClosedShell', OrderedDict([('PolyLoop', [OrderedDict([('CartesianPoint', [OrderedDict([('Coordinate', ['7.563681', '8.158887', '6.800000'])]), OrderedDict([('Coordinate', ['0.405000', '8.158887', '6.800000'])]), OrderedDict([('Coordinate', ['0.405000', '0.382000', '6.800000'])]), OrderedDict([('Coordinate', ['7.563681', '0.382000', '6.800000'])])])]), OrderedDict([('CartesianPoint', [OrderedDict([('Coordinate', ['0.405000', '8.158887', '0.000000'])]), OrderedDict([('Coordinate', ['0.405000', '0.382000', '0.000000'])]), OrderedDict([('Coordinate', ['0.405000', '0.382000', '6.800000'])]), OrderedDict([('Coordinate', ['0.405000', '8.158887', '6.800000'])])])]), OrderedDict([('CartesianPoint', [OrderedDict([('Coordinate', ['0.405000', '0.382000', '0.000000'])]), OrderedDict([('Coordinate', ['7.563681', '0.382000', '0.000000'])]), OrderedDict([('Coordinate', ['7.563681', '0.382000', '6.800000'])]), OrderedDict([('Coordinate', ['0.405000', '0.382000', '6.800000'])])])]), OrderedDict([('CartesianPoint', [OrderedDict([('Coordinate', ['7.563681', '8.158887', '0.000000'])]), OrderedDict([('Coordinate', ['0.405000', '8.158887', '0.000000'])]), OrderedDict([('Coordinate', ['0.405000', '8.158887', '6.800000'])]), OrderedDict([('Coordinate', ['7.563681', '8.158887', '6.800000'])])])]), OrderedDict([('CartesianPoint', [OrderedDict([('Coordinate', ['7.563681', '0.382000', '0.000000'])]), OrderedDict([('Coordinate', ['0.405000', '0.382000', '0.000000'])]), OrderedDict([('Coordinate', ['0.405000', '8.158887', '0.000000'])]), OrderedDict([('Coordinate', ['7.563681', '8.158887', '0.000000'])])])]), OrderedDict([('CartesianPoint', [OrderedDict([('Coordinate', ['7.563681', '0.382000', '0.000000'])]), OrderedDict([('Coordinate', ['7.563681', '8.158887', '0.000000'])]), OrderedDict([('Coordinate', ['7.563681', '8.158887', '6.800000'])]), OrderedDict([('Coordinate', ['7.563681', '0.382000', '6.800000'])])])])])]))])",
         "SpaceBoundary": "[OrderedDict([('@isSecondLevelBoundary', 'true'), ('@surfaceIdRef', 'surface-122'), ('PlanarGeometry', OrderedDict([('PolyLoop', OrderedDict([('CartesianPoint', [OrderedDict([('Coordinate', ['7.563681', '8.158887', '6.800000'])]), OrderedDict([('Coordinate', ['0.405000', '8.158887', '6.800000'])]), OrderedDict([('Coordinate', ['0.405000', '0.382000', '6.800000'])]), OrderedDict([('Coordinate', ['7.563681', '0.382000', '6.800000'])])])]))]))]), OrderedDict([('@isSecondLevelBoundary', 'true'), ('@surfaceIdRef', 'surface-123'), ('PlanarGeometry', OrderedDict([('PolyLoop', OrderedDict([('CartesianPoint', [OrderedDict([('Coordinate', ['0.405000', '8.158887', '0.000000'])]), OrderedDict([('Coordinate', ['0.405000', '0.382000', '0.000000'])]), OrderedDict([('Coordinate', ['0.405000', '0.382000', '6.800000'])]), OrderedDict([('Coordinate', ['0.405000', '8.158887', '6.800000'])])])]))]))]), OrderedDict([('@isSecondLevelBoundary', 'true'), ('@surfaceIdRef', 'surface-124'), ('PlanarGeometry', OrderedDict([('PolyLoop', OrderedDict([('CartesianPoint', [OrderedDict([('Coordinate', ['0.405000', '0.382000', '0.000000'])]), OrderedDict([('Coordinate', ['7.563681', '0.382000', '-0.000000'])]), OrderedDict([('Coordinate', ['7.563681', '0.382000', '6.800000'])]), OrderedDict([('Coordinate', ['0.405000', '0.382000', '6.800000'])])])]))]))]), OrderedDict([('@isSecondLevelBoundary', 'true'), ('@surfaceIdRef', 'surface-125'), ('PlanarGeometry', OrderedDict([('PolyLoop', OrderedDict([('CartesianPoint', [OrderedDict([('Coordinate', ['7.563681', '8.158887', '0.000000'])]), OrderedDict([('Coordinate', ['0.405000', '8.158887', '0.000000'])]), OrderedDict([('Coordinate', ['0.405000', '8.158887', '6.800000'])]), OrderedDict([('Coordinate', ['7.563681', '8.158887', '6.800000'])])])]))]))]), OrderedDict([('@isSecondLevelBoundary', 'true'), ('@surfaceIdRef', 'surface-126'), ('PlanarGeometry', OrderedDict([('PolyLoop', OrderedDict([('CartesianPoint', [OrderedDict([('Coordinate', ['7.563681', '0.382000', '0.000000'])]), OrderedDict([('Coordinate', ['0.405000', '0.382000', '0.000000'])]), OrderedDict([('Coordinate', ['0.405000', '8.158887', '0.000000'])]), OrderedDict([('Coordinate', ['7.563681', '8.158887', '0.000000'])])])]))]))]), OrderedDict([('@isSecondLevelBoundary', 'true'), ('@surfaceIdRef', 'surface-127'), ('PlanarGeometry', OrderedDict([('PolyLoop', OrderedDict([('CartesianPoint', [OrderedDict([('Coordinate', ['7.563681', '8.158887', '6.800000'])]), OrderedDict([('Coordinate', ['7.563681', '0.382000', '6.800000'])]), OrderedDict([('Coordinate', ['7.563681', '0.382000', '3.400000'])]), OrderedDict([('Coordinate', ['7.563681', '8.158887', '3.400000'])])])]))]))]), OrderedDict([('@isSecondLevelBoundary', 'true'), ('@surfaceIdRef', 'surface-128'), ('PlanarGeometry', OrderedDict([('PolyLoop', OrderedDict([('CartesianPoint', [OrderedDict([('Coordinate', ['7.563681', '8.158887', '3.400000'])]), OrderedDict([('Coordinate', ['7.563681', '0.382000', '3.400000'])]), OrderedDict([('Coordinate', ['7.563681', '0.382000', '0.000000'])]), OrderedDict([('Coordinate', ['7.563681', '8.158887', '0.000000'])])])]))]))])]",
         "SpaceId": "R1",
         "SpaceType": "EventSpace",
         "TM46Category": 1,
         "TypeCode": 0,
         "Volume": 378.571322,
         "id": "105_LiveseyExchange_heatpump-normal-fabric, A_00_01_R1_EventSpace",
         "index": 20,
         "model": "105_LiveseyExchange_heatpump-normal-fabric"
        },
        {
         "@buildingStoreyIdRef": "STOREY_1",
         "@conditionType": "HeatedAndCooled",
         "@id": "01000002",
         "@zoneIdRef": "ZONE_1",
         "Area": 28.307869,
         "BlockCode": "A",
         "CADObjectId": "01000002",
         "Level": 1,
         "Name": "A_01_04_R11_Workroom4",
         "ShellGeometry": "OrderedDict([('@id', '01000002-shellgeometry'), ('ClosedShell', OrderedDict([('PolyLoop', [OrderedDict([('CartesianPoint', [OrderedDict([('Coordinate', ['11.203681', '0.382000', '3.400000'])]), OrderedDict([('Coordinate', ['7.563681', '0.382000', '3.400000'])]), OrderedDict([('Coordinate', ['7.563681', '8.158887', '3.400000'])]), OrderedDict([('Coordinate', ['11.203681', '8.158887', '3.400000'])])])]), OrderedDict([('CartesianPoint', [OrderedDict([('Coordinate', ['11.203681', '8.158887', '6.800000'])]), OrderedDict([('Coordinate', ['7.563681', '8.158887', '6.800000'])]), OrderedDict([('Coordinate', ['7.563681', '0.382000', '6.800000'])]), OrderedDict([('Coordinate', ['11.203681', '0.382000', '6.800000'])])])]), OrderedDict([('CartesianPoint', [OrderedDict([('Coordinate', ['11.203681', '8.158887', '3.400000'])]), OrderedDict([('Coordinate', ['7.563681', '8.158887', '3.400000'])]), OrderedDict([('Coordinate', ['7.563681', '8.158887', '6.800000'])]), OrderedDict([('Coordinate', ['11.203681', '8.158887', '6.800000'])])])]), OrderedDict([('CartesianPoint', [OrderedDict([('Coordinate', ['7.563681', '0.382000', '3.400000'])]), OrderedDict([('Coordinate', ['11.203681', '0.382000', '3.400000'])]), OrderedDict([('Coordinate', ['11.203681', '0.382000', '6.800000'])]), OrderedDict([('Coordinate', ['7.563681', '0.382000', '6.800000'])])])]), OrderedDict([('CartesianPoint', [OrderedDict([('Coordinate', ['7.563681', '8.158887', '3.400000'])]), OrderedDict([('Coordinate', ['7.563681', '0.382000', '3.400000'])]), OrderedDict([('Coordinate', ['7.563681', '0.382000', '6.800000'])]), OrderedDict([('Coordinate', ['7.563681', '8.158887', '6.800000'])])])]), OrderedDict([('CartesianPoint', [OrderedDict([('Coordinate', ['11.203681', '8.158887', '6.800000'])]), OrderedDict([('Coordinate', ['11.203681', '0.382000', '6.800000'])]), OrderedDict([('Coordinate', ['11.203681', '0.382000', '3.400000'])]), OrderedDict([('Coordinate', ['11.203681', '8.158887', '3.400000'])])])])])]))])",
         "SpaceBoundary": "[OrderedDict([('@isSecondLevelBoundary', 'true'), ('@surfaceIdRef', 'surface-33'), ('PlanarGeometry', OrderedDict([('PolyLoop', OrderedDict([('CartesianPoint', [OrderedDict([('Coordinate', ['11.203681', '1.655237', '6.800000'])]), OrderedDict([('Coordinate', ['11.203681', '0.382000', '6.800000'])]), OrderedDict([('Coordinate', ['11.203681', '0.382000', '3.400000'])]), OrderedDict([('Coordinate', ['11.203681', '1.655237', '3.400000'])])])]))]))]), OrderedDict([('@isSecondLevelBoundary', 'true'), ('@surfaceIdRef', 'surface-40'), ('PlanarGeometry', OrderedDict([('PolyLoop', OrderedDict([('CartesianPoint', [OrderedDict([('Coordinate', ['11.203681', '1.655237', '3.400000'])]), OrderedDict([('Coordinate', ['11.203681', '8.158887', '3.400000'])]), OrderedDict([('Coordinate', ['11.203681', '8.158887', '6.800000'])]), OrderedDict([('Coordinate', ['11.203681', '1.655237', '6.800000'])])])]))]))]), OrderedDict([('@isSecondLevelBoundary', 'true'), ('@surfaceIdRef', 'surface-127'), ('PlanarGeometry', OrderedDict([('PolyLoop', OrderedDict([('CartesianPoint', [OrderedDict([('Coordinate', ['7.563681', '8.158887', '3.400000'])]), OrderedDict([('Coordinate', ['7.563681', '0.382000', '3.400000'])]), OrderedDict([('Coordinate', ['7.563681', '0.382000', '6.800000'])]), OrderedDict([('Coordinate', ['7.563681', '8.158887', '6.800000'])])])]))]))]), OrderedDict([('@isSecondLevelBoundary', 'true'), ('@surfaceIdRef', 'surface-129'), ('PlanarGeometry', OrderedDict([('PolyLoop', OrderedDict([('CartesianPoint', [OrderedDict([('Coordinate', ['11.203681', '0.382000', '3.400000'])]), OrderedDict([('Coordinate', ['7.563681', '0.382000', '3.400000'])]), OrderedDict([('Coordinate', ['7.563681', '8.158887', '3.400000'])]), OrderedDict([('Coordinate', ['11.203681', '8.158887', '3.400000'])])])]))]))]), OrderedDict([('@isSecondLevelBoundary', 'true'), ('@surfaceIdRef', 'surface-130'), ('PlanarGeometry', OrderedDict([('PolyLoop', OrderedDict([('CartesianPoint', [OrderedDict([('Coordinate', ['11.203681', '8.158887', '6.800000'])]), OrderedDict([('Coordinate', ['7.563681', '8.158887', '6.800000'])]), OrderedDict([('Coordinate', ['7.563681', '0.382000', '6.800000'])]), OrderedDict([('Coordinate', ['11.203681', '0.382000', '6.800000'])])])]))]))]), OrderedDict([('@isSecondLevelBoundary', 'true'), ('@surfaceIdRef', 'surface-131'), ('PlanarGeometry', OrderedDict([('PolyLoop', OrderedDict([('CartesianPoint', [OrderedDict([('Coordinate', ['11.203681', '8.158887', '3.400000'])]), OrderedDict([('Coordinate', ['7.563681', '8.158887', '3.400000'])]), OrderedDict([('Coordinate', ['7.563681', '8.158887', '6.800000'])]), OrderedDict([('Coordinate', ['11.203681', '8.158887', '6.800000'])])])]))]))]), OrderedDict([('@isSecondLevelBoundary', 'true'), ('@surfaceIdRef', 'surface-132'), ('PlanarGeometry', OrderedDict([('PolyLoop', OrderedDict([('CartesianPoint', [OrderedDict([('Coordinate', ['7.563681', '0.382000', '3.400000'])]), OrderedDict([('Coordinate', ['11.203681', '0.382000', '3.400000'])]), OrderedDict([('Coordinate', ['11.203681', '0.382000', '6.800000'])]), OrderedDict([('Coordinate', ['7.563681', '0.382000', '6.800000'])])])]))]))])]",
         "SpaceId": "R11",
         "SpaceType": "Workroom4",
         "TM46Category": 4,
         "TypeCode": 0,
         "Volume": 96.24675400000001,
         "id": "105_LiveseyExchange_heatpump-normal-fabric, A_01_04_R11_Workroom4",
         "index": 21,
         "model": "105_LiveseyExchange_heatpump-normal-fabric"
        },
        {
         "@buildingStoreyIdRef": "STOREY_1",
         "@conditionType": "HeatedAndCooled",
         "@id": "00000001",
         "@zoneIdRef": "ZONE_1",
         "Area": 89.436984,
         "BlockCode": "A",
         "CADObjectId": "00000001",
         "Level": 0,
         "Name": "A_00_02_R2_Canteen",
         "ShellGeometry": "OrderedDict([('@id', '00000001-shellgeometry'), ('ClosedShell', OrderedDict([('PolyLoop', [OrderedDict([('CartesianPoint', [OrderedDict([('Coordinate', ['18.373681', '1.659988', '0.000000'])]), OrderedDict([('Coordinate', ['18.373681', '6.919988', '0.000000'])]), OrderedDict([('Coordinate', ['18.373681', '6.919988', '3.400000'])]), OrderedDict([('Coordinate', ['18.373681', '1.659988', '3.400000'])])])]), OrderedDict([('CartesianPoint', [OrderedDict([('Coordinate', ['21.956680', '0.382000', '0.000000'])]), OrderedDict([('Coordinate', ['21.956680', '1.655237', '0.000000'])]), OrderedDict([('Coordinate', ['21.956680', '1.655237', '3.400000'])]), OrderedDict([('Coordinate', ['21.956680', '0.382000', '3.400000'])])])]), OrderedDict([('CartesianPoint', [OrderedDict([('Coordinate', ['19.023681', '1.655237', '3.400000'])]), OrderedDict([('Coordinate', ['21.956680', '1.655237', '3.400000'])]), OrderedDict([('Coordinate', ['21.956680', '1.655237', '0.000000'])]), OrderedDict([('Coordinate', ['19.023681', '1.655237', '-0.000000'])])])]), OrderedDict([('CartesianPoint', [OrderedDict([('Coordinate', ['19.023681', '1.655237', '-0.000000'])]), OrderedDict([('Coordinate', ['18.373681', '1.659988', '0.000000'])]), OrderedDict([('Coordinate', ['18.373681', '1.659988', '3.400000'])]), OrderedDict([('Coordinate', ['19.023681', '1.655237', '3.400000'])])])]), OrderedDict([('CartesianPoint', [OrderedDict([('Coordinate', ['7.563681', '0.382000', '0.000000'])]), OrderedDict([('Coordinate', ['21.956680', '0.382000', '0.000000'])]), OrderedDict([('Coordinate', ['21.956680', '0.382000', '3.400000'])]), OrderedDict([('Coordinate', ['7.563681', '0.382000', '3.400000'])])])]), OrderedDict([('CartesianPoint', [OrderedDict([('Coordinate', ['19.023681', '8.158887', '0.000000'])]), OrderedDict([('Coordinate', ['7.563681', '8.158887', '0.000000'])]), OrderedDict([('Coordinate', ['7.563681', '8.158887', '3.400000'])]), OrderedDict([('Coordinate', ['19.023681', '8.158887', '3.400000'])])])]), OrderedDict([('CartesianPoint', [OrderedDict([('Coordinate', ['19.023681', '6.919988', '3.400000'])]), OrderedDict([('Coordinate', ['18.373681', '6.919988', '3.400000'])]), OrderedDict([('Coordinate', ['18.373681', '6.919988', '0.000000'])]), OrderedDict([('Coordinate', ['19.023681', '6.919988', '0.000000'])])])]), OrderedDict([('CartesianPoint', [OrderedDict([('Coordinate', ['19.023681', '6.919988', '0.000000'])]), OrderedDict([('Coordinate', ['19.023681', '8.158887', '0.000000'])]), OrderedDict([('Coordinate', ['19.023681', '8.158887', '3.400000'])]), OrderedDict([('Coordinate', ['19.023681', '6.919988', '3.400000'])])])]), OrderedDict([('CartesianPoint', [OrderedDict([('Coordinate', ['19.023681', '6.919988', '0.000000'])]), OrderedDict([('Coordinate', ['18.373681', '6.919988', '0.000000'])]), OrderedDict([('Coordinate', ['18.373681', '1.659988', '0.000000'])]), OrderedDict([('Coordinate', ['19.023681', '1.655237', '-0.000000'])]), OrderedDict([('Coordinate', ['21.956680', '1.655237', '0.000000'])]), OrderedDict([('Coordinate', ['21.956680', '0.382000', '0.000000'])]), OrderedDict([('Coordinate', ['7.563681', '0.382000', '0.000000'])]), OrderedDict([('Coordinate', ['7.563681', '8.158887', '0.000000'])]), OrderedDict([('Coordinate', ['19.023681', '8.158887', '0.000000'])])])]), OrderedDict([('CartesianPoint', [OrderedDict([('Coordinate', ['19.023681', '8.158887', '3.400000'])]), OrderedDict([('Coordinate', ['7.563681', '8.158887', '3.400000'])]), OrderedDict([('Coordinate', ['7.563681', '0.382000', '3.400000'])]), OrderedDict([('Coordinate', ['21.956680', '0.382000', '3.400000'])]), OrderedDict([('Coordinate', ['21.956680', '1.655237', '3.400000'])]), OrderedDict([('Coordinate', ['19.023681', '1.655237', '3.400000'])]), OrderedDict([('Coordinate', ['18.373681', '1.659988', '3.400000'])]), OrderedDict([('Coordinate', ['18.373681', '6.919988', '3.400000'])]), OrderedDict([('Coordinate', ['19.023681', '6.919988', '3.400000'])])])]), OrderedDict([('CartesianPoint', [OrderedDict([('Coordinate', ['7.563681', '0.382000', '3.400000'])]), OrderedDict([('Coordinate', ['7.563681', '8.158887', '3.400000'])]), OrderedDict([('Coordinate', ['7.563681', '8.158887', '0.000000'])]), OrderedDict([('Coordinate', ['7.563681', '0.382000', '0.000000'])])])])])]))])",
         "SpaceBoundary": "[OrderedDict([('@isSecondLevelBoundary', 'true'), ('@surfaceIdRef', 'surface-29'), ('PlanarGeometry', OrderedDict([('PolyLoop', OrderedDict([('CartesianPoint', [OrderedDict([('Coordinate', ['21.956680', '1.655237', '3.400000'])]), OrderedDict([('Coordinate', ['11.203681', '1.655237', '3.400000'])]), OrderedDict([('Coordinate', ['11.203681', '0.382000', '3.400000'])]), OrderedDict([('Coordinate', ['21.956680', '0.382000', '3.400000'])])])]))]))]), OrderedDict([('@isSecondLevelBoundary', 'true'), ('@surfaceIdRef', 'surface-37'), ('PlanarGeometry', OrderedDict([('PolyLoop', OrderedDict([('CartesianPoint', [OrderedDict([('Coordinate', ['14.803681', '8.158887', '3.400000'])]), OrderedDict([('Coordinate', ['11.203681', '8.158887', '3.400000'])]), OrderedDict([('Coordinate', ['11.203681', '1.655237', '3.400000'])]), OrderedDict([('Coordinate', ['14.803681', '1.655237', '3.400000'])])])]))]))]), OrderedDict([('@isSecondLevelBoundary', 'true'), ('@surfaceIdRef', 'surface-42'), ('PlanarGeometry', OrderedDict([('PolyLoop', OrderedDict([('CartesianPoint', [OrderedDict([('Coordinate', ['18.403681', '1.659769', '3.400000'])]), OrderedDict([('Coordinate', ['18.373681', '1.659988', '3.400000'])]), OrderedDict([('Coordinate', ['18.373681', '6.919988', '3.400000'])]), OrderedDict([('Coordinate', ['18.403681', '6.919988', '3.400000'])]), OrderedDict([('Coordinate', ['18.403681', '8.158887', '3.400000'])]), OrderedDict([('Coordinate', ['14.803681', '8.158887', '3.400000'])]), OrderedDict([('Coordinate', ['14.803681', '1.655237', '3.400000'])]), OrderedDict([('Coordinate', ['18.403681', '1.655237', '3.400000'])])])]))]))]), OrderedDict([('@isSecondLevelBoundary', 'true'), ('@surfaceIdRef', 'surface-112'), ('PlanarGeometry', OrderedDict([('PolyLoop', OrderedDict([('CartesianPoint', [OrderedDict([('Coordinate', ['18.403681', '1.659769', '3.400000'])]), OrderedDict([('Coordinate', ['18.403681', '1.655237', '3.400000'])]), OrderedDict([('Coordinate', ['19.023681', '1.655237', '3.400000'])])])]))]))]), OrderedDict([('@isSecondLevelBoundary', 'true'), ('@surfaceIdRef', 'surface-113'), ('PlanarGeometry', OrderedDict([('PolyLoop', OrderedDict([('CartesianPoint', [OrderedDict([('Coordinate', ['19.023681', '8.158887', '3.400000'])]), OrderedDict([('Coordinate', ['18.403681', '8.158887', '3.400000'])]), OrderedDict([('Coordinate', ['18.403681', '6.919988', '3.400000'])]), OrderedDict([('Coordinate', ['19.023681', '6.919988', '3.400000'])])])]))]))]), OrderedDict([('@isSecondLevelBoundary', 'true'), ('@surfaceIdRef', 'surface-128'), ('PlanarGeometry', OrderedDict([('PolyLoop', OrderedDict([('CartesianPoint', [OrderedDict([('Coordinate', ['7.563681', '8.158887', '0.000000'])]), OrderedDict([('Coordinate', ['7.563681', '0.382000', '0.000000'])]), OrderedDict([('Coordinate', ['7.563681', '0.382000', '3.400000'])]), OrderedDict([('Coordinate', ['7.563681', '8.158887', '3.400000'])])])]))]))]), OrderedDict([('@isSecondLevelBoundary', 'true'), ('@surfaceIdRef', 'surface-129'), ('PlanarGeometry', OrderedDict([('PolyLoop', OrderedDict([('CartesianPoint', [OrderedDict([('Coordinate', ['11.203681', '8.158887', '3.400000'])]), OrderedDict([('Coordinate', ['7.563681', '8.158887', '3.400000'])]), OrderedDict([('Coordinate', ['7.563681', '0.382000', '3.400000'])]), OrderedDict([('Coordinate', ['11.203681', '0.382000', '3.400000'])])])]))]))]), OrderedDict([('@isSecondLevelBoundary', 'true'), ('@surfaceIdRef', 'surface-133'), ('PlanarGeometry', OrderedDict([('PolyLoop', OrderedDict([('CartesianPoint', [OrderedDict([('Coordinate', ['18.373681', '6.919988', '3.400000'])]), OrderedDict([('Coordinate', ['18.373681', '1.659988', '3.400000'])]), OrderedDict([('Coordinate', ['18.373681', '1.659988', '0.000000'])]), OrderedDict([('Coordinate', ['18.373681', '6.919988', '0.000000'])])])]))]))]), OrderedDict([('@isSecondLevelBoundary', 'true'), ('@surfaceIdRef', 'surface-134'), ('PlanarGeometry', OrderedDict([('PolyLoop', OrderedDict([('CartesianPoint', [OrderedDict([('Coordinate', ['21.956680', '0.382000', '0.000000'])]), OrderedDict([('Coordinate', ['21.956680', '1.655237', '0.000000'])]), OrderedDict([('Coordinate', ['21.956680', '1.655237', '3.400000'])]), OrderedDict([('Coordinate', ['21.956680', '0.382000', '3.400000'])])])]))]))]), OrderedDict([('@isSecondLevelBoundary', 'true'), ('@surfaceIdRef', 'surface-135'), ('PlanarGeometry', OrderedDict([('PolyLoop', OrderedDict([('CartesianPoint', [OrderedDict([('Coordinate', ['19.023681', '1.655237', '3.400000'])]), OrderedDict([('Coordinate', ['21.956680', '1.655237', '3.400000'])]), OrderedDict([('Coordinate', ['21.956680', '1.655237', '0.000000'])]), OrderedDict([('Coordinate', ['19.023681', '1.655237', '0.000000'])])])]))]))]), OrderedDict([('@isSecondLevelBoundary', 'true'), ('@surfaceIdRef', 'surface-136'), ('PlanarGeometry', OrderedDict([('PolyLoop', OrderedDict([('CartesianPoint', [OrderedDict([('Coordinate', ['18.373681', '1.659988', '3.400000'])]), OrderedDict([('Coordinate', ['19.023681', '1.655237', '3.400000'])]), OrderedDict([('Coordinate', ['19.023681', '1.655237', '0.000000'])]), OrderedDict([('Coordinate', ['18.373681', '1.659988', '0.000000'])])])]))]))]), OrderedDict([('@isSecondLevelBoundary', 'true'), ('@surfaceIdRef', 'surface-137'), ('PlanarGeometry', OrderedDict([('PolyLoop', OrderedDict([('CartesianPoint', [OrderedDict([('Coordinate', ['7.563681', '0.382000', '-0.000000'])]), OrderedDict([('Coordinate', ['21.956680', '0.382000', '0.000000'])]), OrderedDict([('Coordinate', ['21.956680', '0.382000', '3.400000'])]), OrderedDict([('Coordinate', ['7.563681', '0.382000', '3.400000'])])])]))]))]), OrderedDict([('@isSecondLevelBoundary', 'true'), ('@surfaceIdRef', 'surface-138'), ('PlanarGeometry', OrderedDict([('PolyLoop', OrderedDict([('CartesianPoint', [OrderedDict([('Coordinate', ['19.023681', '8.158887', '0.000000'])]), OrderedDict([('Coordinate', ['7.563681', '8.158887', '0.000000'])]), OrderedDict([('Coordinate', ['7.563681', '8.158887', '3.400000'])]), OrderedDict([('Coordinate', ['19.023681', '8.158887', '3.400000'])])])]))]))]), OrderedDict([('@isSecondLevelBoundary', 'true'), ('@surfaceIdRef', 'surface-139'), ('PlanarGeometry', OrderedDict([('PolyLoop', OrderedDict([('CartesianPoint', [OrderedDict([('Coordinate', ['19.023681', '6.919988', '3.400000'])]), OrderedDict([('Coordinate', ['18.373681', '6.919988', '3.400000'])]), OrderedDict([('Coordinate', ['18.373681', '6.919988', '-0.000000'])]), OrderedDict([('Coordinate', ['19.023681', '6.919988', '-0.000000'])])])]))]))]), OrderedDict([('@isSecondLevelBoundary', 'true'), ('@surfaceIdRef', 'surface-140'), ('PlanarGeometry', OrderedDict([('PolyLoop', OrderedDict([('CartesianPoint', [OrderedDict([('Coordinate', ['19.023681', '8.158887', '3.400000'])]), OrderedDict([('Coordinate', ['19.023681', '6.919988', '3.400000'])]), OrderedDict([('Coordinate', ['19.023681', '6.919988', '0.000000'])]), OrderedDict([('Coordinate', ['19.023681', '8.158887', '0.000000'])])])]))]))]), OrderedDict([('@isSecondLevelBoundary', 'true'), ('@surfaceIdRef', 'surface-141'), ('PlanarGeometry', OrderedDict([('PolyLoop', OrderedDict([('CartesianPoint', [OrderedDict([('Coordinate', ['19.023681', '6.919988', '0.000000'])]), OrderedDict([('Coordinate', ['18.373681', '6.919988', '0.000000'])]), OrderedDict([('Coordinate', ['18.373681', '1.659988', '0.000000'])]), OrderedDict([('Coordinate', ['19.023681', '1.655237', '0.000000'])]), OrderedDict([('Coordinate', ['21.956680', '1.655237', '0.000000'])]), OrderedDict([('Coordinate', ['21.956680', '0.382000', '0.000000'])]), OrderedDict([('Coordinate', ['7.563681', '0.382000', '0.000000'])]), OrderedDict([('Coordinate', ['7.563681', '8.158887', '0.000000'])]), OrderedDict([('Coordinate', ['19.023681', '8.158887', '0.000000'])])])]))]))])]",
         "SpaceId": "R2",
         "SpaceType": "Canteen",
         "TM46Category": 2,
         "TypeCode": 0,
         "Volume": 304.085745,
         "id": "105_LiveseyExchange_heatpump-normal-fabric, A_00_02_R2_Canteen",
         "index": 22,
         "model": "105_LiveseyExchange_heatpump-normal-fabric"
        },
        {
         "@buildingStoreyIdRef": "STOREY_1",
         "@conditionType": "HeatedAndCooled",
         "@id": "00000000",
         "@zoneIdRef": "ZONE_1",
         "Area": 21.120294,
         "BlockCode": "A",
         "CADObjectId": "00000000",
         "Level": 0,
         "Name": "A_00_03_R3_Kitchen",
         "ShellGeometry": "OrderedDict([('@id', '00000000-shellgeometry'), ('ClosedShell', OrderedDict([('PolyLoop', [OrderedDict([('CartesianPoint', [OrderedDict([('Coordinate', ['21.317000', '8.158887', '0.000000'])]), OrderedDict([('Coordinate', ['19.023681', '8.158887', '0.000000'])]), OrderedDict([('Coordinate', ['19.023681', '8.158887', '3.400000'])]), OrderedDict([('Coordinate', ['21.317000', '8.158887', '3.400000'])])])]), OrderedDict([('CartesianPoint', [OrderedDict([('Coordinate', ['21.956680', '1.655237', '0.000000'])]), OrderedDict([('Coordinate', ['21.956680', '6.008347', '0.000000'])]), OrderedDict([('Coordinate', ['21.956680', '6.008347', '3.400000'])]), OrderedDict([('Coordinate', ['21.956680', '1.655237', '3.400000'])])])]), OrderedDict([('CartesianPoint', [OrderedDict([('Coordinate', ['19.023681', '1.655237', '0.000000'])]), OrderedDict([('Coordinate', ['21.956680', '1.655237', '0.000000'])]), OrderedDict([('Coordinate', ['21.956680', '1.655237', '3.400000'])]), OrderedDict([('Coordinate', ['19.023681', '1.655237', '3.400000'])])])]), OrderedDict([('CartesianPoint', [OrderedDict([('Coordinate', ['18.373681', '6.919988', '0.000000'])]), OrderedDict([('Coordinate', ['18.373681', '1.659988', '0.000000'])]), OrderedDict([('Coordinate', ['18.373681', '1.659988', '3.400000'])]), OrderedDict([('Coordinate', ['18.373681', '6.919988', '3.400000'])])])]), OrderedDict([('CartesianPoint', [OrderedDict([('Coordinate', ['19.023681', '1.655237', '3.400000'])]), OrderedDict([('Coordinate', ['18.373681', '1.659988', '3.400000'])]), OrderedDict([('Coordinate', ['18.373681', '1.659988', '0.000000'])]), OrderedDict([('Coordinate', ['19.023681', '1.655237', '0.000000'])])])]), OrderedDict([('CartesianPoint', [OrderedDict([('Coordinate', ['21.317000', '6.009000', '0.000000'])]), OrderedDict([('Coordinate', ['21.956680', '6.008347', '0.000000'])]), OrderedDict([('Coordinate', ['21.956680', '1.655237', '0.000000'])]), OrderedDict([('Coordinate', ['19.023681', '1.655237', '0.000000'])]), OrderedDict([('Coordinate', ['18.373681', '1.659988', '0.000000'])]), OrderedDict([('Coordinate', ['18.373681', '6.919988', '0.000000'])]), OrderedDict([('Coordinate', ['19.023681', '6.919988', '0.000000'])]), OrderedDict([('Coordinate', ['19.023681', '8.158887', '0.000000'])]), OrderedDict([('Coordinate', ['21.317000', '8.158887', '0.000000'])])])]), OrderedDict([('CartesianPoint', [OrderedDict([('Coordinate', ['21.317000', '8.158887', '3.400000'])]), OrderedDict([('Coordinate', ['19.023681', '8.158887', '3.400000'])]), OrderedDict([('Coordinate', ['19.023681', '6.919988', '3.400000'])]), OrderedDict([('Coordinate', ['18.373681', '6.919988', '3.400000'])]), OrderedDict([('Coordinate', ['18.373681', '1.659988', '3.400000'])]), OrderedDict([('Coordinate', ['19.023681', '1.655237', '3.400000'])]), OrderedDict([('Coordinate', ['21.956680', '1.655237', '3.400000'])]), OrderedDict([('Coordinate', ['21.956680', '6.008347', '3.400000'])]), OrderedDict([('Coordinate', ['21.317000', '6.009000', '3.400000'])])])]), OrderedDict([('CartesianPoint', [OrderedDict([('Coordinate', ['19.023681', '6.919988', '0.000000'])]), OrderedDict([('Coordinate', ['18.373681', '6.919988', '0.000000'])]), OrderedDict([('Coordinate', ['18.373681', '6.919988', '3.400000'])]), OrderedDict([('Coordinate', ['19.023681', '6.919988', '3.400000'])])])]), OrderedDict([('CartesianPoint', [OrderedDict([('Coordinate', ['19.023681', '8.158887', '0.000000'])]), OrderedDict([('Coordinate', ['19.023681', '6.919988', '0.000000'])]), OrderedDict([('Coordinate', ['19.023681', '6.919988', '3.400000'])]), OrderedDict([('Coordinate', ['19.023681', '8.158887', '3.400000'])])])]), OrderedDict([('CartesianPoint', [OrderedDict([('Coordinate', ['21.317000', '6.009000', '3.400000'])]), OrderedDict([('Coordinate', ['21.956680', '6.008347', '3.400000'])]), OrderedDict([('Coordinate', ['21.956680', '6.008347', '0.000000'])]), OrderedDict([('Coordinate', ['21.317000', '6.009000', '0.000000'])])])]), OrderedDict([('CartesianPoint', [OrderedDict([('Coordinate', ['21.317000', '8.158887', '3.400000'])]), OrderedDict([('Coordinate', ['21.317000', '6.009000', '3.400000'])]), OrderedDict([('Coordinate', ['21.317000', '6.009000', '0.000000'])]), OrderedDict([('Coordinate', ['21.317000', '8.158887', '0.000000'])])])])])]))])",
         "SpaceBoundary": "[OrderedDict([('@isSecondLevelBoundary', 'true'), ('@surfaceIdRef', 'surface-43'), ('PlanarGeometry', OrderedDict([('PolyLoop', OrderedDict([('CartesianPoint', [OrderedDict([('Coordinate', ['18.403681', '6.919988', '3.400000'])]), OrderedDict([('Coordinate', ['18.373681', '6.919988', '3.400000'])]), OrderedDict([('Coordinate', ['18.373681', '1.659988', '3.400000'])]), OrderedDict([('Coordinate', ['18.403681', '1.659769', '3.400000'])])])]))]))]), OrderedDict([('@isSecondLevelBoundary', 'true'), ('@surfaceIdRef', 'surface-114'), ('PlanarGeometry', OrderedDict([('PolyLoop', OrderedDict([('CartesianPoint', [OrderedDict([('Coordinate', ['21.956680', '6.008347', '3.400000'])]), OrderedDict([('Coordinate', ['21.317000', '6.009000', '3.400000'])]), OrderedDict([('Coordinate', ['21.317000', '8.158887', '3.400000'])]), OrderedDict([('Coordinate', ['19.023681', '8.158887', '3.400000'])]), OrderedDict([('Coordinate', ['19.023681', '6.919988', '3.400000'])]), OrderedDict([('Coordinate', ['18.403681', '6.919988', '3.400000'])]), OrderedDict([('Coordinate', ['18.403681', '1.659769', '3.400000'])]), OrderedDict([('Coordinate', ['19.023681', '1.655237', '3.400000'])]), OrderedDict([('Coordinate', ['21.956680', '1.655237', '3.400000'])])])]))]))]), OrderedDict([('@isSecondLevelBoundary', 'true'), ('@surfaceIdRef', 'surface-133'), ('PlanarGeometry', OrderedDict([('PolyLoop', OrderedDict([('CartesianPoint', [OrderedDict([('Coordinate', ['18.373681', '6.919988', '0.000000'])]), OrderedDict([('Coordinate', ['18.373681', '1.659988', '0.000000'])]), OrderedDict([('Coordinate', ['18.373681', '1.659988', '3.400000'])]), OrderedDict([('Coordinate', ['18.373681', '6.919988', '3.400000'])])])]))]))]), OrderedDict([('@isSecondLevelBoundary', 'true'), ('@surfaceIdRef', 'surface-135'), ('PlanarGeometry', OrderedDict([('PolyLoop', OrderedDict([('CartesianPoint', [OrderedDict([('Coordinate', ['19.023681', '1.655237', '0.000000'])]), OrderedDict([('Coordinate', ['21.956680', '1.655237', '0.000000'])]), OrderedDict([('Coordinate', ['21.956680', '1.655237', '3.400000'])]), OrderedDict([('Coordinate', ['19.023681', '1.655237', '3.400000'])])])]))]))]), OrderedDict([('@isSecondLevelBoundary', 'true'), ('@surfaceIdRef', 'surface-136'), ('PlanarGeometry', OrderedDict([('PolyLoop', OrderedDict([('CartesianPoint', [OrderedDict([('Coordinate', ['18.373681', '1.659988', '0.000000'])]), OrderedDict([('Coordinate', ['19.023681', '1.655237', '0.000000'])]), OrderedDict([('Coordinate', ['19.023681', '1.655237', '3.400000'])]), OrderedDict([('Coordinate', ['18.373681', '1.659988', '3.400000'])])])]))]))]), OrderedDict([('@isSecondLevelBoundary', 'true'), ('@surfaceIdRef', 'surface-139'), ('PlanarGeometry', OrderedDict([('PolyLoop', OrderedDict([('CartesianPoint', [OrderedDict([('Coordinate', ['19.023681', '6.919988', '-0.000000'])]), OrderedDict([('Coordinate', ['18.373681', '6.919988', '-0.000000'])]), OrderedDict([('Coordinate', ['18.373681', '6.919988', '3.400000'])]), OrderedDict([('Coordinate', ['19.023681', '6.919988', '3.400000'])])])]))]))]), OrderedDict([('@isSecondLevelBoundary', 'true'), ('@surfaceIdRef', 'surface-140'), ('PlanarGeometry', OrderedDict([('PolyLoop', OrderedDict([('CartesianPoint', [OrderedDict([('Coordinate', ['19.023681', '8.158887', '0.000000'])]), OrderedDict([('Coordinate', ['19.023681', '6.919988', '0.000000'])]), OrderedDict([('Coordinate', ['19.023681', '6.919988', '3.400000'])]), OrderedDict([('Coordinate', ['19.023681', '8.158887', '3.400000'])])])]))]))]), OrderedDict([('@isSecondLevelBoundary', 'true'), ('@surfaceIdRef', 'surface-142'), ('PlanarGeometry', OrderedDict([('PolyLoop', OrderedDict([('CartesianPoint', [OrderedDict([('Coordinate', ['21.317000', '8.158887', '0.000000'])]), OrderedDict([('Coordinate', ['19.023681', '8.158887', '0.000000'])]), OrderedDict([('Coordinate', ['19.023681', '8.158887', '3.400000'])]), OrderedDict([('Coordinate', ['21.317000', '8.158887', '3.400000'])])])]))]))]), OrderedDict([('@isSecondLevelBoundary', 'true'), ('@surfaceIdRef', 'surface-143'), ('PlanarGeometry', OrderedDict([('PolyLoop', OrderedDict([('CartesianPoint', [OrderedDict([('Coordinate', ['21.956680', '3.658000', '-0.000000'])]), OrderedDict([('Coordinate', ['21.956680', '5.510052', '-0.000000'])]), OrderedDict([('Coordinate', ['21.956680', '5.510052', '3.400000'])]), OrderedDict([('Coordinate', ['21.956680', '3.658000', '3.400000'])])])]))]))]), OrderedDict([('@isSecondLevelBoundary', 'true'), ('@surfaceIdRef', 'surface-144'), ('PlanarGeometry', OrderedDict([('PolyLoop', OrderedDict([('CartesianPoint', [OrderedDict([('Coordinate', ['21.956680', '5.510052', '-0.000000'])]), OrderedDict([('Coordinate', ['21.956680', '6.008347', '-0.000000'])]), OrderedDict([('Coordinate', ['21.956680', '6.008347', '3.400000'])]), OrderedDict([('Coordinate', ['21.956680', '5.510052', '3.400000'])])])]))]))]), OrderedDict([('@isSecondLevelBoundary', 'true'), ('@surfaceIdRef', 'surface-145'), ('PlanarGeometry', OrderedDict([('PolyLoop', OrderedDict([('CartesianPoint', [OrderedDict([('Coordinate', ['21.956680', '1.655237', '-0.000000'])]), OrderedDict([('Coordinate', ['21.956680', '3.658000', '-0.000000'])]), OrderedDict([('Coordinate', ['21.956680', '3.658000', '3.400000'])]), OrderedDict([('Coordinate', ['21.956680', '1.655237', '3.400000'])])])]))]))]), OrderedDict([('@isSecondLevelBoundary', 'true'), ('@surfaceIdRef', 'surface-146'), ('PlanarGeometry', OrderedDict([('PolyLoop', OrderedDict([('CartesianPoint', [OrderedDict([('Coordinate', ['21.317000', '6.009000', '0.000000'])]), OrderedDict([('Coordinate', ['21.956680', '6.008347', '0.000000'])]), OrderedDict([('Coordinate', ['21.956680', '1.655237', '0.000000'])]), OrderedDict([('Coordinate', ['19.023681', '1.655237', '0.000000'])]), OrderedDict([('Coordinate', ['18.373681', '1.659988', '0.000000'])]), OrderedDict([('Coordinate', ['18.373681', '6.919988', '0.000000'])]), OrderedDict([('Coordinate', ['19.023681', '6.919988', '0.000000'])]), OrderedDict([('Coordinate', ['19.023681', '8.158887', '0.000000'])]), OrderedDict([('Coordinate', ['21.317000', '8.158887', '0.000000'])])])]))]))]), OrderedDict([('@isSecondLevelBoundary', 'true'), ('@surfaceIdRef', 'surface-147'), ('PlanarGeometry', OrderedDict([('PolyLoop', OrderedDict([('CartesianPoint', [OrderedDict([('Coordinate', ['21.956680', '6.008347', '-0.000000'])]), OrderedDict([('Coordinate', ['21.317000', '6.009000', '-0.000000'])]), OrderedDict([('Coordinate', ['21.317000', '6.009000', '3.400000'])]), OrderedDict([('Coordinate', ['21.956680', '6.008347', '3.400000'])])])]))]))]), OrderedDict([('@isSecondLevelBoundary', 'true'), ('@surfaceIdRef', 'surface-148'), ('PlanarGeometry', OrderedDict([('PolyLoop', OrderedDict([('CartesianPoint', [OrderedDict([('Coordinate', ['21.317000', '6.009000', '-0.000000'])]), OrderedDict([('Coordinate', ['21.317000', '8.158887', '-0.000000'])]), OrderedDict([('Coordinate', ['21.317000', '8.158887', '3.400000'])]), OrderedDict([('Coordinate', ['21.317000', '6.009000', '3.400000'])])])]))]))])]",
         "SpaceId": "R3",
         "SpaceType": "Kitchen",
         "TM46Category": 3,
         "TypeCode": 0,
         "Volume": 71.809001,
         "id": "105_LiveseyExchange_heatpump-normal-fabric, A_00_03_R3_Kitchen",
         "index": 23,
         "model": "105_LiveseyExchange_heatpump-normal-fabric"
        },
        {
         "@buildingStoreyIdRef": "STOREY_1",
         "@conditionType": "HeatedAndCooled",
         "@id": "01000001",
         "@zoneIdRef": "ZONE_1",
         "Area": 1.375449,
         "BlockCode": "A",
         "CADObjectId": "01000001",
         "Level": 1,
         "Name": "A_01_06_XX_Riser",
         "ShellGeometry": "OrderedDict([('@id', '01000001-shellgeometry'), ('ClosedShell', OrderedDict([('PolyLoop', [OrderedDict([('CartesianPoint', [OrderedDict([('Coordinate', ['21.956680', '8.158887', '6.800000'])]), OrderedDict([('Coordinate', ['21.317000', '8.158887', '6.800000'])]), OrderedDict([('Coordinate', ['21.317000', '6.009000', '6.800000'])]), OrderedDict([('Coordinate', ['21.956680', '6.008347', '6.800000'])])])]), OrderedDict([('CartesianPoint', [OrderedDict([('Coordinate', ['21.956680', '6.008347', '0.000000'])]), OrderedDict([('Coordinate', ['21.317000', '6.009000', '0.000000'])]), OrderedDict([('Coordinate', ['21.317000', '8.158887', '0.000000'])]), OrderedDict([('Coordinate', ['21.956680', '8.158887', '0.000000'])])])]), OrderedDict([('CartesianPoint', [OrderedDict([('Coordinate', ['21.956680', '8.158887', '0.000000'])]), OrderedDict([('Coordinate', ['21.317000', '8.158887', '0.000000'])]), OrderedDict([('Coordinate', ['21.317000', '8.158887', '6.800000'])]), OrderedDict([('Coordinate', ['21.956680', '8.158887', '6.800000'])])])]), OrderedDict([('CartesianPoint', [OrderedDict([('Coordinate', ['21.956680', '6.008347', '0.000000'])]), OrderedDict([('Coordinate', ['21.956680', '8.158887', '0.000000'])]), OrderedDict([('Coordinate', ['21.956680', '8.158887', '6.800000'])]), OrderedDict([('Coordinate', ['21.956680', '6.008347', '6.800000'])])])]), OrderedDict([('CartesianPoint', [OrderedDict([('Coordinate', ['21.317000', '6.009000', '0.000000'])]), OrderedDict([('Coordinate', ['21.956680', '6.008347', '0.000000'])]), OrderedDict([('Coordinate', ['21.956680', '6.008347', '6.800000'])]), OrderedDict([('Coordinate', ['21.317000', '6.009000', '6.800000'])])])]), OrderedDict([('CartesianPoint', [OrderedDict([('Coordinate', ['21.317000', '8.158887', '0.000000'])]), OrderedDict([('Coordinate', ['21.317000', '6.009000', '0.000000'])]), OrderedDict([('Coordinate', ['21.317000', '6.009000', '6.800000'])]), OrderedDict([('Coordinate', ['21.317000', '8.158887', '6.800000'])])])])])]))])",
         "SpaceBoundary": "[OrderedDict([('@isSecondLevelBoundary', 'true'), ('@surfaceIdRef', 'surface-120'), ('PlanarGeometry', OrderedDict([('PolyLoop', OrderedDict([('CartesianPoint', [OrderedDict([('Coordinate', ['21.317000', '6.009000', '3.400000'])]), OrderedDict([('Coordinate', ['21.956680', '6.008347', '3.400000'])]), OrderedDict([('Coordinate', ['21.956680', '6.008347', '6.800000'])]), OrderedDict([('Coordinate', ['21.317000', '6.009000', '6.800000'])])])]))]))]), OrderedDict([('@isSecondLevelBoundary', 'true'), ('@surfaceIdRef', 'surface-121'), ('PlanarGeometry', OrderedDict([('PolyLoop', OrderedDict([('CartesianPoint', [OrderedDict([('Coordinate', ['21.317000', '8.158887', '3.400000'])]), OrderedDict([('Coordinate', ['21.317000', '6.009000', '3.400000'])]), OrderedDict([('Coordinate', ['21.317000', '6.009000', '6.800000'])]), OrderedDict([('Coordinate', ['21.317000', '8.158887', '6.800000'])])])]))]))]), OrderedDict([('@isSecondLevelBoundary', 'true'), ('@surfaceIdRef', 'surface-147'), ('PlanarGeometry', OrderedDict([('PolyLoop', OrderedDict([('CartesianPoint', [OrderedDict([('Coordinate', ['21.956680', '6.008347', '3.400000'])]), OrderedDict([('Coordinate', ['21.317000', '6.009000', '3.400000'])]), OrderedDict([('Coordinate', ['21.317000', '6.009000', '-0.000000'])]), OrderedDict([('Coordinate', ['21.956680', '6.008347', '-0.000000'])])])]))]))]), OrderedDict([('@isSecondLevelBoundary', 'true'), ('@surfaceIdRef', 'surface-148'), ('PlanarGeometry', OrderedDict([('PolyLoop', OrderedDict([('CartesianPoint', [OrderedDict([('Coordinate', ['21.317000', '6.009000', '3.400000'])]), OrderedDict([('Coordinate', ['21.317000', '8.158887', '3.400000'])]), OrderedDict([('Coordinate', ['21.317000', '8.158887', '-0.000000'])]), OrderedDict([('Coordinate', ['21.317000', '6.009000', '-0.000000'])])])]))]))]), OrderedDict([('@isSecondLevelBoundary', 'true'), ('@surfaceIdRef', 'surface-149'), ('PlanarGeometry', OrderedDict([('PolyLoop', OrderedDict([('CartesianPoint', [OrderedDict([('Coordinate', ['21.956680', '8.158887', '6.800000'])]), OrderedDict([('Coordinate', ['21.317000', '8.158887', '6.800000'])]), OrderedDict([('Coordinate', ['21.317000', '6.009000', '6.800000'])]), OrderedDict([('Coordinate', ['21.956680', '6.008347', '6.800000'])])])]))]))]), OrderedDict([('@isSecondLevelBoundary', 'true'), ('@surfaceIdRef', 'surface-150'), ('PlanarGeometry', OrderedDict([('PolyLoop', OrderedDict([('CartesianPoint', [OrderedDict([('Coordinate', ['21.956680', '6.008347', '0.000000'])]), OrderedDict([('Coordinate', ['21.317000', '6.009000', '0.000000'])]), OrderedDict([('Coordinate', ['21.317000', '8.158887', '0.000000'])]), OrderedDict([('Coordinate', ['21.956680', '8.158887', '0.000000'])])])]))]))]), OrderedDict([('@isSecondLevelBoundary', 'true'), ('@surfaceIdRef', 'surface-151'), ('PlanarGeometry', OrderedDict([('PolyLoop', OrderedDict([('CartesianPoint', [OrderedDict([('Coordinate', ['21.956680', '8.158887', '0.000000'])]), OrderedDict([('Coordinate', ['21.317000', '8.158887', '0.000000'])]), OrderedDict([('Coordinate', ['21.317000', '8.158887', '6.800000'])]), OrderedDict([('Coordinate', ['21.956680', '8.158887', '6.800000'])])])]))]))]), OrderedDict([('@isSecondLevelBoundary', 'true'), ('@surfaceIdRef', 'surface-152'), ('PlanarGeometry', OrderedDict([('PolyLoop', OrderedDict([('CartesianPoint', [OrderedDict([('Coordinate', ['21.956680', '6.008347', '-0.000000'])]), OrderedDict([('Coordinate', ['21.956680', '8.158000', '-0.000000'])]), OrderedDict([('Coordinate', ['21.956680', '8.158000', '3.400000'])]), OrderedDict([('Coordinate', ['21.956680', '6.008347', '3.400000'])])])]))]))]), OrderedDict([('@isSecondLevelBoundary', 'true'), ('@surfaceIdRef', 'surface-153'), ('PlanarGeometry', OrderedDict([('PolyLoop', OrderedDict([('CartesianPoint', [OrderedDict([('Coordinate', ['21.956680', '6.008347', '3.400000'])]), OrderedDict([('Coordinate', ['21.956680', '8.158000', '3.400000'])]), OrderedDict([('Coordinate', ['21.956680', '8.158000', '-0.000000'])]), OrderedDict([('Coordinate', ['21.956680', '8.158887', '-0.000000'])]), OrderedDict([('Coordinate', ['21.956680', '8.158887', '6.800000'])]), OrderedDict([('Coordinate', ['21.956680', '6.008347', '6.800000'])])])]))]))])]",
         "SpaceId": "XX",
         "SpaceType": "Riser",
         "TM46Category": 6,
         "TypeCode": 0,
         "Volume": 9.35305,
         "id": "105_LiveseyExchange_heatpump-normal-fabric, A_01_06_XX_Riser",
         "index": 24,
         "model": "105_LiveseyExchange_heatpump-normal-fabric"
        }
       ],
       "_grid_data_up": {},
       "_grid_options_mono_down": "{\"enableSorting\": true, \"enableFilter\": true, \"enableColResize\": true, \"enableRangeSelection\": true, \"columnDefs\": [{\"field\": \"index\", \"type\": \"numberColumn\", \"headerName\": \"Index\"}, {\"field\": \"@id\", \"type\": \"textColumn\", \"headerName\": \"@Id\"}, {\"field\": \"@zoneIdRef\", \"type\": \"textColumn\", \"headerName\": \"@Zoneidref\"}, {\"field\": \"@conditionType\", \"type\": \"textColumn\", \"headerName\": \"@Conditiontype\"}, {\"field\": \"@buildingStoreyIdRef\", \"type\": \"textColumn\", \"headerName\": \"@Buildingstoreyidref\"}, {\"field\": \"Name\", \"type\": \"textColumn\", \"headerName\": \"Name\"}, {\"field\": \"Area\", \"type\": \"numberColumn\", \"headerName\": \"Area\"}, {\"field\": \"Volume\", \"type\": \"numberColumn\", \"headerName\": \"Volume\"}, {\"field\": \"CADObjectId\", \"type\": \"textColumn\", \"headerName\": \"Cadobjectid\"}, {\"field\": \"TypeCode\", \"type\": \"numberColumn\", \"headerName\": \"Typecode\"}, {\"field\": \"ShellGeometry\", \"type\": \"textColumn\", \"headerName\": \"Shellgeometry\"}, {\"field\": \"SpaceBoundary\", \"type\": \"textColumn\", \"headerName\": \"Spaceboundary\"}, {\"field\": \"BlockCode\", \"type\": \"textColumn\", \"headerName\": \"Blockcode\"}, {\"field\": \"Level\", \"type\": \"numberColumn\", \"headerName\": \"Level\"}, {\"field\": \"TM46Category\", \"type\": \"numberColumn\", \"headerName\": \"Tm46Category\"}, {\"field\": \"SpaceId\", \"type\": \"textColumn\", \"headerName\": \"Spaceid\"}, {\"field\": \"SpaceType\", \"type\": \"textColumn\", \"headerName\": \"Spacetype\"}, {\"field\": \"model\", \"type\": \"textColumn\", \"headerName\": \"Model\"}, {\"field\": \"id\", \"type\": \"textColumn\", \"headerName\": \"Id\"}], \"columnTypes\": {\"numberColumn\": {\"filter\": \"agNumberColumnFilter\"}, \"textColumn\": {\"filter\": \"agTextColumnFilter\"}, \"dateColumn\": {\"valueFormatter\": \"helpers.dateFormatter\", \"filter\": \"agDateColumnFilter\", \"filterParams\": {\"comparator\": \"helpers.compareDates\"}}}}",
       "_id": 536173574,
       "_js_helpers_builtin": "helpersBuiltin = {\n    dateFormatter: function(node) {\n        // make sure date is not undefined\n        if (node && node.value) {\n            let d = new Date(node.value);\n            let h = d.getHours();\n            let m = d.getMinutes();\n            let s = d.getSeconds();\n            const offset = d.getTimezoneOffset() * 60000;\n            d = new Date(d.getTime() - offset);\n            const ymd = d.toISOString().substring(0, 10);\n            if (h === 0 && m === 0 && s === 0) {\n                return ymd;\n            }\n            if (h === 0) h = '00';\n            if (m === 0) m = '00';\n            if (s === 0) s = '00';\n            return `${ymd} ${h}:${m}:${s}`;\n        }\n        return null;\n    },\n\n    formatInt: d3.format(',.0f'),\n    formatFloat: d3.format(',.2f'),\n\n    intFormatter: function(node) {\n        return formatInt(node.value);\n    },\n\n    floatFormatter: function(node) {\n        return formatFloat(node.value);\n    },\n\n    compareDates: function(filterLocalDate, cellValue) {\n        // Assume dates are stored as iso\n        const cellDate = new Date(cellValue);\n\n        if (cellDate < filterLocalDate) {\n            return -1;\n        } else if (cellDate > filterLocalDate) {\n            return 1;\n        }\n        return 0;\n    },\n\n    sizeToFit: function(gridOptions) {\n        gridOptions.api.sizeColumnsToFit();\n    },\n\n    autoSizeAll: function(gridOptions) {\n        const allColumnIds = [];\n        gridOptions.columnApi.getAllColumns().forEach(column => {\n            allColumnIds.push(column.colId);\n        });\n        gridOptions.columnApi.autoSizeColumns(allColumnIds);\n    },\n\n    /**\n     * Exporting data to CSV using ag-Grid api.\n     * @param {Object} gridOptions\n     */\n    exportToCsv: function(gridOptions) {\n        const params = {\n            skipHeader: false,\n            columnGroups: true,\n            skipFooters: false,\n            skipGroups: false,\n            skipPinnedTop: false,\n            skipPinnedBottom: false,\n            allColumns: true,\n            onlySelected: false,\n            suppressQuotes: true,\n            fileName: 'my_file.csv',\n            sheetName: 'my_sheet',\n            shouldRowBeSkipped: () => false,\n            processCellCallback: param => param.value,\n            processHeaderCallback: null,\n        };\n        gridOptions.api.exportDataAsCsv(params);\n    },\n\n    /**\n     * Exporting data to Excel using ag-Grid api.\n     * @param {Object} gridOptions\n     */\n    exportToExcel: function(gridOptions) {\n        const params = {\n            skipHeader: false,\n            columnGroups: true,\n            skipFooters: false,\n            skipGroups: false,\n            skipPinnedTop: false,\n            skipPinnedBottom: false,\n            allColumns: true,\n            onlySelected: false,\n            suppressQuotes: true,\n            fileName: 'my_file.xls',\n            sheetName: 'my_sheet',\n            shouldRowBeSkipped: () => false, // TODO : check\n            processCellCallback: param => param.value,\n            processHeaderCallback: null,\n        };\n        gridOptions.api.exportDataAsExcel(params);\n    },\n};\n",
       "columns_fit": "size_to_fit",
       "compress_data": true,
       "export_mode": "disabled",
       "height": "350px",
       "js_helpers": "{\"dateFormatter\":\"function(node) {\\n        // make sure date is not undefined\\n        if (node && node.value) {\\n            let d = new Date(node.value);\\n            let h = d.getHours();\\n            let m = d.getMinutes();\\n            let s = d.getSeconds();\\n            const offset = d.getTimezoneOffset() * 60000;\\n            d = new Date(d.getTime() - offset);\\n            const ymd = d.toISOString().substring(0, 10);\\n            if (h === 0 && m === 0 && s === 0) {\\n                return ymd;\\n            }\\n            if (h === 0) h = '00';\\n            if (m === 0) m = '00';\\n            if (s === 0) s = '00';\\n            return `${ymd} ${h}:${m}:${s}`;\\n        }\\n        return null;\\n    }\",\"formatInt\":\" >-,.0f\",\"formatFloat\":\" >-,.2f\",\"intFormatter\":\"function(node) {\\n        return formatInt(node.value);\\n    }\",\"floatFormatter\":\"function(node) {\\n        return formatFloat(node.value);\\n    }\",\"compareDates\":\"function(filterLocalDate, cellValue) {\\n        // Assume dates are stored as iso\\n        const cellDate = new Date(cellValue);\\n\\n        if (cellDate < filterLocalDate) {\\n            return -1;\\n        } else if (cellDate > filterLocalDate) {\\n            return 1;\\n        }\\n        return 0;\\n    }\",\"sizeToFit\":\"function(gridOptions) {\\n        gridOptions.api.sizeColumnsToFit();\\n    }\",\"autoSizeAll\":\"function(gridOptions) {\\n        const allColumnIds = [];\\n        gridOptions.columnApi.getAllColumns().forEach(column => {\\n            allColumnIds.push(column.colId);\\n        });\\n        gridOptions.columnApi.autoSizeColumns(allColumnIds);\\n    }\",\"exportToCsv\":\"function(gridOptions) {\\n        const params = {\\n            skipHeader: false,\\n            columnGroups: true,\\n            skipFooters: false,\\n            skipGroups: false,\\n            skipPinnedTop: false,\\n            skipPinnedBottom: false,\\n            allColumns: true,\\n            onlySelected: false,\\n            suppressQuotes: true,\\n            fileName: 'my_file.csv',\\n            sheetName: 'my_sheet',\\n            shouldRowBeSkipped: () => false,\\n            processCellCallback: param => param.value,\\n            processHeaderCallback: null,\\n        };\\n        gridOptions.api.exportDataAsCsv(params);\\n    }\",\"exportToExcel\":\"function(gridOptions) {\\n        const params = {\\n            skipHeader: false,\\n            columnGroups: true,\\n            skipFooters: false,\\n            skipGroups: false,\\n            skipPinnedTop: false,\\n            skipPinnedBottom: false,\\n            allColumns: true,\\n            onlySelected: false,\\n            suppressQuotes: true,\\n            fileName: 'my_file.xls',\\n            sheetName: 'my_sheet',\\n            shouldRowBeSkipped: () => false, // TODO : check\\n            processCellCallback: param => param.value,\\n            processHeaderCallback: null,\\n        };\\n        gridOptions.api.exportDataAsExcel(params);\\n    }\"}",
       "layout": "IPY_MODEL_92b22910856d4d07ba34c9a4e3772502",
       "menu": {
        "button_div_css": ".flex-button-div-536173574 {\ndisplay: flex;\njustify-content: flex-start;\nalign-items: flex-start;\nalign-content: flex-start;\nflex-flow: row wrap;\n}\n",
        "buttons": [],
        "input_div_css": ".flex-input-div-536173574 {\ndisplay: flex;\njustify-content: flex-start;\nalign-items: baseline;\nalign-content: flex-start;\nflex-flow: row wrap;\n}\n",
        "inputs": [
         {
          "css": ".flex-child-quick-filter-536173574 {\norder: 0;\nalign-self: auto;\nmargin: 5px;\nflex: 0.00 1.00 auto;\nwidth: 150px;\n}\n",
          "name": "Quick Filter"
         }
        ],
        "menu_div_css": ".flex-menu-div-536173574 {\ndisplay: flex;\njustify-content: flex-start;\nalign-items: flex-start;\nalign-content: flex-start;\nflex-flow: row wrap;\n}\n"
       },
       "theme": "ag-theme-balham",
       "width": "100%"
      }
     },
     "2a9917492c564fc7865138fc46d0de72": {
      "model_module": "@jupyter-widgets/base",
      "model_module_version": "1.2.0",
      "model_name": "LayoutModel",
      "state": {}
     },
     "2a9d6b34764f43c5b08e490d493003d1": {
      "model_module": "@jupyter-widgets/controls",
      "model_module_version": "1.5.0",
      "model_name": "HTMLModel",
      "state": {
       "layout": "IPY_MODEL_5101cc89e8024969956b49f9a0978d8c",
       "style": "IPY_MODEL_b39e9496669843328df3205a1fd86ec7",
       "value": "<p>3rd section of space name code (enter None if 3rd section doesn't exist)</p>"
      }
     },
     "2ac1e15221854a5ab2e7954eee6c6a4a": {
      "model_module": "@jupyter-widgets/controls",
      "model_module_version": "1.5.0",
      "model_name": "HBoxModel",
      "state": {
       "children": [
        "IPY_MODEL_cd37b41fff3c4889917dd1e0d02a4141",
        "IPY_MODEL_8204152752a04a409574168156133652"
       ],
       "layout": "IPY_MODEL_f408fd53b66842d5a0f991559f3c4be7"
      }
     },
     "2af2cb29562c4f93853132518197f441": {
      "model_module": "@jupyter-widgets/controls",
      "model_module_version": "1.5.0",
      "model_name": "HBoxModel",
      "state": {
       "children": [
        "IPY_MODEL_190cbaa410d6431abd781121b4b224c1",
        "IPY_MODEL_9c62199a8eea4aecb287cb247043b670"
       ],
       "layout": "IPY_MODEL_4d8944cf318849c59f1a170474566bf9"
      }
     },
     "2b0402aad2a440f7951c8b113c555c02": {
      "model_module": "@jupyter-widgets/base",
      "model_module_version": "1.2.0",
      "model_name": "LayoutModel",
      "state": {}
     },
     "2b06f639c77a42b7a32f4c78b4d691bd": {
      "model_module": "@jupyter-widgets/base",
      "model_module_version": "1.2.0",
      "model_name": "LayoutModel",
      "state": {
       "flex_flow": "column",
       "height": "auto",
       "width": "auto"
      }
     },
     "2b4203b7ddef4ca8a092a89d425b1271": {
      "model_module": "@jupyter-widgets/base",
      "model_module_version": "1.2.0",
      "model_name": "LayoutModel",
      "state": {
       "align_items": "stretch",
       "border": "dashed 0.2px green",
       "display": "flex",
       "flex_flow": "row",
       "grid_auto_columns": "True",
       "justify_content": "flex-start",
       "width": "100%"
      }
     },
     "2b7d82c310b94895bf4863cd2493dc75": {
      "model_module": "@jupyter-widgets/base",
      "model_module_version": "1.2.0",
      "model_name": "LayoutModel",
      "state": {}
     },
     "2c0c77eaf3bc45db8f9ff26a510a8b74": {
      "model_module": "@jupyter-widgets/controls",
      "model_module_version": "1.5.0",
      "model_name": "HTMLModel",
      "state": {
       "layout": "IPY_MODEL_094731e855e84554971e8790f82e26ec",
       "style": "IPY_MODEL_8467d2379aa0410aa77e186d8a4b2de3",
       "value": "<p>1</p>"
      }
     },
     "2c2c17c0e31648d0945369930c758fdc": {
      "model_module": "@jupyter-widgets/base",
      "model_module_version": "1.2.0",
      "model_name": "LayoutModel",
      "state": {}
     },
     "2c4c0b0ce0a84a8e8b2e0e9b8167ef02": {
      "model_module": "@jupyter-widgets/controls",
      "model_module_version": "1.5.0",
      "model_name": "HBoxModel",
      "state": {
       "children": [
        "IPY_MODEL_185d7f62081c45b99391bbd224615e7f"
       ],
       "layout": "IPY_MODEL_20c9fd5ab1a1465393f0596edcddee2b"
      }
     },
     "2c84c41570ba42febc9987a5d5e20b7b": {
      "model_module": "@jupyter-widgets/controls",
      "model_module_version": "1.5.0",
      "model_name": "TextModel",
      "state": {
       "layout": "IPY_MODEL_95ad4303085c45b1a4d776d53899d503",
       "style": "IPY_MODEL_f94a1bad25004001a3694e2f232aadd7",
       "value": "Level"
      }
     },
     "2d79df04f12e443d90b04c91be613e9b": {
      "model_module": "@jupyter-widgets/base",
      "model_module_version": "1.2.0",
      "model_name": "LayoutModel",
      "state": {}
     },
     "2dcb5e543ebd46ba8f067cdeab92fc0b": {
      "model_module": "@jupyter-widgets/controls",
      "model_module_version": "1.5.0",
      "model_name": "DescriptionStyleModel",
      "state": {
       "description_width": ""
      }
     },
     "2df6e0a299bf4f2aaae75ddec835427f": {
      "model_module": "@jupyter-widgets/controls",
      "model_module_version": "1.5.0",
      "model_name": "DescriptionStyleModel",
      "state": {
       "description_width": ""
      }
     },
     "2e25cf83090244a9a95bd15cb20f1d0c": {
      "model_module": "@jupyter-widgets/controls",
      "model_module_version": "1.5.0",
      "model_name": "DescriptionStyleModel",
      "state": {
       "description_width": ""
      }
     },
     "2e3f50e216564b70b137459d7d0e43da": {
      "model_module": "@jupyter-widgets/output",
      "model_module_version": "1.0.0",
      "model_name": "OutputModel",
      "state": {
       "layout": "IPY_MODEL_af98163a5ca6421fba9fc3bf9357c457"
      }
     },
     "2e75daaf20774b609b77b22608f58081": {
      "model_module": "@jupyter-widgets/base",
      "model_module_version": "1.2.0",
      "model_name": "LayoutModel",
      "state": {}
     },
     "2eb85bb1d4624fa58f0706600e843bca": {
      "model_module": "@jupyter-widgets/base",
      "model_module_version": "1.2.0",
      "model_name": "LayoutModel",
      "state": {}
     },
     "2ed700b1d4fd4d5bb7583cdbf86ca41f": {
      "model_module": "@jupyter-widgets/base",
      "model_module_version": "1.2.0",
      "model_name": "LayoutModel",
      "state": {}
     },
     "2eee110f06cf4a4a87f83d37eab0a18c": {
      "model_module": "@jupyter-widgets/base",
      "model_module_version": "1.2.0",
      "model_name": "LayoutModel",
      "state": {
       "align_items": "stretch",
       "border": "dashed 0.2px green",
       "display": "flex",
       "flex_flow": "row",
       "grid_auto_columns": "True",
       "justify_content": "flex-start",
       "width": "100%"
      }
     },
     "2f2f7630c20345468b4fe94980976978": {
      "model_module": "@jupyter-widgets/base",
      "model_module_version": "1.2.0",
      "model_name": "LayoutModel",
      "state": {
       "align_items": "stretch",
       "display": "flex",
       "flex_flow": "row",
       "grid_auto_columns": "True",
       "justify_content": "flex-end",
       "width": "90%"
      }
     },
     "2f4b027eb06b49f4b332fa47dbe11e47": {
      "model_module": "@jupyter-widgets/controls",
      "model_module_version": "1.5.0",
      "model_name": "TextModel",
      "state": {
       "layout": "IPY_MODEL_7f6dc193a9254617a7ee27adcab81ab8",
       "style": "IPY_MODEL_64301d6d23ca4e69848437c4b807fcdf",
       "value": "SpaceId"
      }
     },
     "2f6ad7bcfee3454ab6b6c067606e035b": {
      "model_module": "@jupyter-widgets/controls",
      "model_module_version": "1.5.0",
      "model_name": "HTMLModel",
      "state": {
       "layout": "IPY_MODEL_0136ce859b62461d9af6b5b37e2d5c60",
       "style": "IPY_MODEL_fc1d6bf9d18d4f6caa23c9b1e3d0f54f",
       "value": "<p>fpth_in</p>"
      }
     },
     "30269e0a631743088ecfae54946e225a": {
      "model_module": "@jupyter-widgets/controls",
      "model_module_version": "1.5.0",
      "model_name": "TextModel",
      "state": {
       "layout": "IPY_MODEL_2447fd72a81a4e789353d490c3366937",
       "style": "IPY_MODEL_2e25cf83090244a9a95bd15cb20f1d0c",
       "value": "TM46Category"
      }
     },
     "302b294f9422435fa7c3b5ecea5af941": {
      "model_module": "@jupyter-widgets/base",
      "model_module_version": "1.2.0",
      "model_name": "LayoutModel",
      "state": {
       "align_items": "stretch",
       "display": "flex",
       "flex_flow": "row",
       "grid_auto_columns": "True",
       "justify_content": "flex-start",
       "width": "80%"
      }
     },
     "3030d3085a0a474780f0ffb1552de0f2": {
      "model_module": "@jupyter-widgets/base",
      "model_module_version": "1.2.0",
      "model_name": "LayoutModel",
      "state": {}
     },
     "30721cf2036c4f84b2de37cc790513c1": {
      "model_module": "@jupyter-widgets/base",
      "model_module_version": "1.2.0",
      "model_name": "LayoutModel",
      "state": {}
     },
     "30e8a921160b476888079902ab6638ba": {
      "model_module": "@jupyter-widgets/base",
      "model_module_version": "1.2.0",
      "model_name": "LayoutModel",
      "state": {
       "align_items": "stretch",
       "display": "flex",
       "flex_flow": "row",
       "grid_auto_columns": "True",
       "justify_content": "flex-start",
       "width": "80%"
      }
     },
     "31514d551f8e4c8aba1bfc16510d46eb": {
      "model_module": "@jupyter-widgets/base",
      "model_module_version": "1.2.0",
      "model_name": "LayoutModel",
      "state": {}
     },
     "31753ff603384c7e8bd6dcf93d027ee2": {
      "model_module": "@jupyter-widgets/base",
      "model_module_version": "1.2.0",
      "model_name": "LayoutModel",
      "state": {
       "height": "30px",
       "width": "auto"
      }
     },
     "3191e90304cb401191a99ae7dec7dcc3": {
      "model_module": "@jupyter-widgets/output",
      "model_module_version": "1.0.0",
      "model_name": "OutputModel",
      "state": {
       "layout": "IPY_MODEL_b997b531e5e54617bacef9d11eeb94d6"
      }
     },
     "3265e50d797b4ed28995dc40892da41c": {
      "model_module": "@jupyter-widgets/controls",
      "model_module_version": "1.5.0",
      "model_name": "RadioButtonsModel",
      "state": {
       "_options_labels": [
        "TEMPLATE: C:\\engDev\\git_mf\\MF_Toolbox\\dev\\mf_scripts\\template_inputs\\inputs-gbxml.json",
        "PROJECT: C:\\engDev\\git_mf\\ipyrun\\examples\\notebooks\\appdata\\inputs\\inputs-gbxml.json",
        "PROJECT: C:\\engDev\\git_mf\\ipyrun\\examples\\notebooks\\appdata\\inputs\\archive\\20200626_1441-jg-inputs-gbxml.json"
       ],
       "index": 0,
       "layout": "IPY_MODEL_79c1541c3f104823bccaa38708f8fc4d",
       "style": "IPY_MODEL_2718b99d048048d2b2993069b738ee65"
      }
     },
     "3289d1e13cca403f9c93399672562ef2": {
      "model_module": "@jupyter-widgets/controls",
      "model_module_version": "1.5.0",
      "model_name": "HBoxModel",
      "state": {
       "children": [
        "IPY_MODEL_66c39a0ae2694302aee19827fd22f28e",
        "IPY_MODEL_2867697fffcc43faa49c7aac981c4520"
       ],
       "layout": "IPY_MODEL_97dd113d180b4c69b538112d287f7dad"
      }
     },
     "3334cb70dcc54242b90d142f516f68d7": {
      "model_module": "@jupyter-widgets/base",
      "model_module_version": "1.2.0",
      "model_name": "LayoutModel",
      "state": {
       "align_items": "stretch",
       "border": "dashed 0.2px green",
       "display": "flex",
       "flex_flow": "row",
       "grid_auto_columns": "True",
       "justify_content": "flex-start",
       "width": "100%"
      }
     },
     "33ab10b1dd2e401f9ec9a4cd21917bf4": {
      "model_module": "@jupyter-widgets/controls",
      "model_module_version": "1.5.0",
      "model_name": "DescriptionStyleModel",
      "state": {
       "description_width": ""
      }
     },
     "33ba4502b45b45ef97f7002d462a9a14": {
      "model_module": "@jupyter-widgets/base",
      "model_module_version": "1.2.0",
      "model_name": "LayoutModel",
      "state": {}
     },
     "3409915467cd4a3290f7c75fc70da62e": {
      "model_module": "@jupyter-widgets/controls",
      "model_module_version": "1.5.0",
      "model_name": "RadioButtonsModel",
      "state": {
       "_options_labels": [
        "TEMPLATE: C:\\engDev\\git_mf\\MF_Toolbox\\dev\\mf_scripts\\template_inputs\\inputs-gbxml.json",
        "PROJECT: C:\\engDev\\git_mf\\ipyrun\\examples\\notebooks\\appdata\\inputs\\inputs-gbxml.json"
       ],
       "index": 0,
       "layout": "IPY_MODEL_0205426f44324839867c3eb126559475",
       "style": "IPY_MODEL_06fb8c75abb24c5ca88feaadad868408"
      }
     },
     "344b198a05924f1e8b2c47f335eb4ee4": {
      "model_module": "@jupyter-widgets/base",
      "model_module_version": "1.2.0",
      "model_name": "LayoutModel",
      "state": {}
     },
     "345e3bef767843ed9671e674b27566b3": {
      "model_module": "@jupyter-widgets/controls",
      "model_module_version": "1.5.0",
      "model_name": "HBoxModel",
      "state": {
       "children": [
        "IPY_MODEL_bfc08076a9fa45e3993af32e20633a97",
        "IPY_MODEL_80004761c17045e7a5291f411d82acc2"
       ],
       "layout": "IPY_MODEL_ab0dda01b08848719da0fc1ff1ca5039"
      }
     },
     "34661ba580eb423993ef5d0e9a4dc7fc": {
      "model_module": "@jupyter-widgets/controls",
      "model_module_version": "1.5.0",
      "model_name": "HBoxModel",
      "state": {
       "children": [
        "IPY_MODEL_2f6ad7bcfee3454ab6b6c067606e035b",
        "IPY_MODEL_aa6e073eaf15456a9645e3f0a59e3722"
       ],
       "layout": "IPY_MODEL_8ef2bd4fc46e420fb748d385999e00a7"
      }
     },
     "347ddd66d568408caccc126e780b35ec": {
      "model_module": "@jupyter-widgets/controls",
      "model_module_version": "1.5.0",
      "model_name": "DescriptionStyleModel",
      "state": {
       "description_width": ""
      }
     },
     "3499e63c53844821883344d156565a57": {
      "model_module": "@jupyter-widgets/controls",
      "model_module_version": "1.5.0",
      "model_name": "HTMLModel",
      "state": {
       "layout": "IPY_MODEL_98a7829262664284b92423ee94171516",
       "style": "IPY_MODEL_a1e1b837ac814269a94f4c1ecbed1364",
       "value": "<p>5th section of space name code (enter None if 5th section doesn't exist)</p>"
      }
     },
     "34a6536da65048bb90ee3861d27444ba": {
      "model_module": "@jupyter-widgets/controls",
      "model_module_version": "1.5.0",
      "model_name": "DescriptionStyleModel",
      "state": {
       "description_width": ""
      }
     },
     "3503e01dbcba48ee8093a3dbc032e4ed": {
      "model_module": "@jupyter-widgets/base",
      "model_module_version": "1.2.0",
      "model_name": "LayoutModel",
      "state": {
       "align_items": "stretch",
       "width": "100%"
      }
     },
     "35572b9a38ba4db3bc66ee6079959337": {
      "model_module": "@jupyter-widgets/controls",
      "model_module_version": "1.5.0",
      "model_name": "DescriptionStyleModel",
      "state": {
       "description_width": ""
      }
     },
     "357aa14343684e45abef917746f85367": {
      "model_module": "@jupyter-widgets/controls",
      "model_module_version": "1.5.0",
      "model_name": "DescriptionStyleModel",
      "state": {
       "description_width": ""
      }
     },
     "35c54c0f1a364962bb778d73e42de1ce": {
      "model_module": "@jupyter-widgets/controls",
      "model_module_version": "1.5.0",
      "model_name": "HBoxModel",
      "state": {
       "children": [
        "IPY_MODEL_141c5d893c514279be5c7001012f9edc",
        "IPY_MODEL_d9f23f8b259f4711aaf04e0b6ce95ff4"
       ],
       "layout": "IPY_MODEL_5b46776ba7e24e46913de544f7395765"
      }
     },
     "35d5e2495365421193be683cbbc82994": {
      "model_module": "@jupyter-widgets/controls",
      "model_module_version": "1.5.0",
      "model_name": "HTMLModel",
      "state": {
       "layout": "IPY_MODEL_a022ae5f633d485bbf6dc73304bb280f",
       "style": "IPY_MODEL_80bbac98fb18437d943692e10d821d06",
       "value": "<p>3</p>"
      }
     },
     "36b0c8648c4d4b70bae5eaab60e6534b": {
      "model_module": "@jupyter-widgets/controls",
      "model_module_version": "1.5.0",
      "model_name": "ButtonStyleModel",
      "state": {
       "font_weight": "bold"
      }
     },
     "36fb205bba7d4172a4b027503d1d0c53": {
      "model_module": "@jupyter-widgets/output",
      "model_module_version": "1.0.0",
      "model_name": "OutputModel",
      "state": {
       "layout": "IPY_MODEL_8f2423b09ec74e8ebade1c2bf7a8e926"
      }
     },
     "37598369119e49de89afbe5d16fdde34": {
      "model_module": "@jupyter-widgets/controls",
      "model_module_version": "1.5.0",
      "model_name": "DescriptionStyleModel",
      "state": {
       "description_width": ""
      }
     },
     "375d4be827814b5482b4897342f6147c": {
      "model_module": "@jupyter-widgets/controls",
      "model_module_version": "1.5.0",
      "model_name": "HBoxModel",
      "state": {
       "children": [
        "IPY_MODEL_8550658ba3d846f4be64d012960173e7",
        "IPY_MODEL_eaa78a438ab54af78c1d55985c943283"
       ],
       "layout": "IPY_MODEL_9d5deb87a6da438184c1670399e9a2a7"
      }
     },
     "385ae06483284bbfa06d991325d2d1ce": {
      "model_module": "@jupyter-widgets/controls",
      "model_module_version": "1.5.0",
      "model_name": "DescriptionStyleModel",
      "state": {
       "description_width": ""
      }
     },
     "38d8f81a7239423499e5b9531702c3d8": {
      "model_module": "@jupyter-widgets/base",
      "model_module_version": "1.2.0",
      "model_name": "LayoutModel",
      "state": {}
     },
     "397d59d8892c4706ab8db843a039288c": {
      "model_module": "@jupyter-widgets/controls",
      "model_module_version": "1.5.0",
      "model_name": "HBoxModel",
      "state": {
       "children": [
        "IPY_MODEL_c0124898f690487db4f69a834c54f822",
        "IPY_MODEL_91822332f4754a2ba896f4cc83b2ab4e"
       ],
       "layout": "IPY_MODEL_eddb452193a444339aba704b27b43688"
      }
     },
     "39e7f91216944e1981a73867588ebe59": {
      "model_module": "@jupyter-widgets/controls",
      "model_module_version": "1.5.0",
      "model_name": "HTMLModel",
      "state": {
       "layout": "IPY_MODEL_2b7d82c310b94895bf4863cd2493dc75",
       "style": "IPY_MODEL_f3e58add7d2e433286ab45014195626f",
       "value": "<p>3rd section of space name code (enter None if 3rd section doesn't exist)</p>"
      }
     },
     "3aa39e2607c4481988c8ed6b479f6022": {
      "model_module": "@jupyter-widgets/controls",
      "model_module_version": "1.5.0",
      "model_name": "HTMLModel",
      "state": {
       "layout": "IPY_MODEL_7a5c73aae82f411692234abb164cd0fb",
       "style": "IPY_MODEL_ad9c9e952bc5487fab6995a4d8e30ddb",
       "value": "<p>3</p>"
      }
     },
     "3b0bdef1b66e49eb8eb2bce31062372d": {
      "model_module": "@jupyter-widgets/controls",
      "model_module_version": "1.5.0",
      "model_name": "ToggleButtonModel",
      "state": {
       "button_style": "info",
       "description": "inputs from file",
       "layout": "IPY_MODEL_fc5c897cefba4e1a817a44964698c76f",
       "style": "IPY_MODEL_bf76938975a849a9b427bb883e13094b"
      }
     },
     "3b1a6f4e803749869d51b3d66a6595cc": {
      "model_module": "@jupyter-widgets/controls",
      "model_module_version": "1.5.0",
      "model_name": "VBoxModel",
      "state": {
       "children": [
        "IPY_MODEL_5fdfa6a015d440b892543b057d169834",
        "IPY_MODEL_5094fb55a2f043b694b445579b9f572b",
        "IPY_MODEL_da70bcc473b4458aa1c745f8993df373",
        "IPY_MODEL_1b417c14ca7e4c4ebe2312535eac55f6",
        "IPY_MODEL_b1f2c2bbedfd4a18b8fb157ce8293a1d"
       ],
       "layout": "IPY_MODEL_5138ce223403427288e1b72fd7a756d1"
      }
     },
     "3b780143213346559f2a214d948cbb9a": {
      "model_module": "@jupyter-widgets/controls",
      "model_module_version": "1.5.0",
      "model_name": "HBoxModel",
      "state": {
       "children": [
        "IPY_MODEL_d6df4a536d29453cbb5417245541989a",
        "IPY_MODEL_f7a213478df9412e91d4423d8a1011fc"
       ],
       "layout": "IPY_MODEL_4951d43af397420c8efda9fcc7f82b07"
      }
     },
     "3c4eba4fa73341749aef6214af899bb1": {
      "model_module": "@jupyter-widgets/controls",
      "model_module_version": "1.5.0",
      "model_name": "DescriptionStyleModel",
      "state": {
       "description_width": ""
      }
     },
     "3c5e6b876cff43de8ea26b64b9684826": {
      "model_module": "@jupyter-widgets/base",
      "model_module_version": "1.2.0",
      "model_name": "LayoutModel",
      "state": {
       "align_items": "stretch",
       "border": "dashed 0.2px green",
       "display": "flex",
       "flex_flow": "row",
       "grid_auto_columns": "True",
       "justify_content": "flex-start",
       "width": "100%"
      }
     },
     "3c930bdc78ec4b85a1511b381464b0b7": {
      "model_module": "@jupyter-widgets/controls",
      "model_module_version": "1.5.0",
      "model_name": "DescriptionStyleModel",
      "state": {
       "description_width": ""
      }
     },
     "3cb3b4293a4a42a59ef7d751c3ba7b3e": {
      "model_module": "@jupyter-widgets/base",
      "model_module_version": "1.2.0",
      "model_name": "LayoutModel",
      "state": {
       "align_items": "stretch",
       "border": "dashed 0.2px green",
       "display": "flex",
       "flex_flow": "row",
       "grid_auto_columns": "True",
       "justify_content": "flex-start",
       "width": "100%"
      }
     },
     "3cfd4cfdec854c789e68a5760d93b1e3": {
      "model_module": "@jupyter-widgets/controls",
      "model_module_version": "1.5.0",
      "model_name": "VBoxModel",
      "state": {
       "children": [
        "IPY_MODEL_669cead330fe451b977aa5b4b5b1dd59",
        "IPY_MODEL_a310c2aec7bf445889eec151f2a2c1bb"
       ],
       "layout": "IPY_MODEL_1338b9f401ec479ba7e6e1eb994902fc"
      }
     },
     "3d014c6a4f0c46d788253ae5b87afe80": {
      "model_module": "@jupyter-widgets/base",
      "model_module_version": "1.2.0",
      "model_name": "LayoutModel",
      "state": {}
     },
     "3dfe5e062c1c4ad2a8871ccf17f4e1d6": {
      "model_module": "@jupyter-widgets/base",
      "model_module_version": "1.2.0",
      "model_name": "LayoutModel",
      "state": {}
     },
     "3e4bfc37aaaa4a5c988cdf70355eb0f6": {
      "model_module": "@jupyter-widgets/controls",
      "model_module_version": "1.5.0",
      "model_name": "DescriptionStyleModel",
      "state": {
       "description_width": ""
      }
     },
     "3e60c51a8a4742778b7931358e8796ab": {
      "model_module": "@jupyter-widgets/base",
      "model_module_version": "1.2.0",
      "model_name": "LayoutModel",
      "state": {}
     },
     "3e85c52858974cbf9ebbe31749642042": {
      "model_module": "@jupyter-widgets/base",
      "model_module_version": "1.2.0",
      "model_name": "LayoutModel",
      "state": {
       "align_items": "stretch",
       "display": "flex",
       "flex_flow": "row",
       "grid_auto_columns": "True",
       "justify_content": "flex-end",
       "width": "90%"
      }
     },
     "3e9314ecbd904390855eae763c55df76": {
      "model_module": "@jupyter-widgets/controls",
      "model_module_version": "1.5.0",
      "model_name": "ButtonModel",
      "state": {
       "button_style": "success",
       "description": "save changes",
       "layout": "IPY_MODEL_56a45bc385794a54a4a5468b7080d93a",
       "style": "IPY_MODEL_46dcf4fe8fcb49778f96e7c4c767aa3a"
      }
     },
     "3e9fa005da1940baa1ea4d3dc3e4a627": {
      "model_module": "@jupyter-widgets/base",
      "model_module_version": "1.2.0",
      "model_name": "LayoutModel",
      "state": {
       "align_items": "stretch",
       "border": "dashed 0.2px green",
       "display": "flex",
       "flex_flow": "row",
       "grid_auto_columns": "True",
       "justify_content": "flex-start",
       "width": "100%"
      }
     },
     "3ec17dfc6e7f460386b8bad7d9bd4115": {
      "model_module": "@jupyter-widgets/base",
      "model_module_version": "1.2.0",
      "model_name": "LayoutModel",
      "state": {}
     },
     "3ed3279886da439a8beeea4c41f1b2be": {
      "model_module": "@jupyter-widgets/controls",
      "model_module_version": "1.5.0",
      "model_name": "HTMLModel",
      "state": {
       "layout": "IPY_MODEL_ddb54f206b7b4191a36111fe87b98e8e",
       "style": "IPY_MODEL_3e4bfc37aaaa4a5c988cdf70355eb0f6",
       "value": "<p>input gbxml filepath</p>"
      }
     },
     "3edb9d34e67b491ca057b6c3eac662be": {
      "model_module": "@jupyter-widgets/controls",
      "model_module_version": "1.5.0",
      "model_name": "ButtonStyleModel",
      "state": {
       "font_weight": "bold"
      }
     },
     "3f02ed8018b741d5ba016819d699ca8b": {
      "model_module": "@jupyter-widgets/base",
      "model_module_version": "1.2.0",
      "model_name": "LayoutModel",
      "state": {}
     },
     "3f056b0e7e784367884a6987b7798d62": {
      "model_module": "@jupyter-widgets/controls",
      "model_module_version": "1.5.0",
      "model_name": "HTMLModel",
      "state": {
       "layout": "IPY_MODEL_ce3d42ec9b2e470b8f96ddb5ed11b395",
       "style": "IPY_MODEL_d7b8d865bbe44e479e2cdf50de8c0be0",
       "value": "<p>2</p>"
      }
     },
     "3f467111057f4624b1f773c545d213bc": {
      "model_module": "@jupyter-widgets/base",
      "model_module_version": "1.2.0",
      "model_name": "LayoutModel",
      "state": {
       "align_items": "stretch",
       "display": "flex",
       "flex_flow": "row",
       "grid_auto_columns": "True",
       "justify_content": "flex-end",
       "width": "90%"
      }
     },
     "3fca2f87dde844a29afdba8b0df026c6": {
      "model_module": "@jupyter-widgets/base",
      "model_module_version": "1.2.0",
      "model_name": "LayoutModel",
      "state": {
       "align_items": "stretch",
       "display": "flex",
       "flex_flow": "row",
       "grid_auto_columns": "True",
       "justify_content": "flex-end",
       "width": "90%"
      }
     },
     "3ff78790073b4febb2fc1e4d67a455f2": {
      "buffers": [
       {
        "data": "H4sIAAAAAAACA62RUU+DMBDHvwq5Z0SYE7Y9uWzDEKcQNoMJIaSBujTpWi2g02XffVdcdcZXHy5pej9+/+O6h41iNUz2UJOWwCTPYbWel7NFtAQbfN8PrEi0VAnCrRllnInNZcilVGB7jjsu7C9+Hsep4ed9d+AMTDNcxp5pLnYvsqG1dXK4jjc0WDJN138yE6Ja1jIpdF7wnZfGcWjYVMrn36ZsujwLPJkywnmPjQy2eFoPfiQ1rQjGCcobjQXeGZYZbEWrTrH2w7rl5BN3oacaDf9fWNjARE13pZLvjX4dQbYUDzlE+hqw/0Z411/lLoq1XC/8CkvPc43lYwVY+ofHRXEwzkrybiv6T+EGH1/P9YD+/vB40YvLLKFq9doRRe8pbvAOUHA4AoXIououAgAA",
        "encoding": "base64",
        "path": [
         "_grid_data_up"
        ]
       }
      ],
      "model_module": "ipyaggrid",
      "model_module_version": "~0.2.1",
      "model_name": "AgGridModel",
      "state": {
       "_grid_data_down": [
        {
         "@id": "STD_CEIL",
         "Name": "6667 Internal Ceiling/Floor",
         "U-value_WPerSquareMeterK": 1.09
        },
        {
         "@id": "STD_DOOR",
         "Name": "6667 Door",
         "U-value_WPerSquareMeterK": 2.2
        },
        {
         "@id": "STD_FLO1",
         "Name": "6667 Exposed Floor",
         "U-value_WPerSquareMeterK": 0.14
        },
        {
         "@id": "STD_PART",
         "Name": "6667 Internal Partition",
         "U-value_WPerSquareMeterK": 1.79
        },
        {
         "@id": "STD_ROOF",
         "Name": "6667 Roof",
         "U-value_WPerSquareMeterK": 0.14
        },
        {
         "@id": "STD_WAL1",
         "Name": "6667 External Wall",
         "U-value_WPerSquareMeterK": 0.18
        },
        {
         "@id": "STD_EXT2",
         "Name": "6667 Rodeca Panels",
         "U-value_WPerSquareMeterK": 0.71
        },
        {
         "@id": "STD_EXTW",
         "Name": "6667 Security Glazing",
         "U-value_WPerSquareMeterK": 1.84
        },
        {
         "@id": "STD_EXT2",
         "Name": "6667 Rodeca Panels",
         "U-value_WPerSquareMeterK": 0.71
        },
        {
         "@id": "STD_EXTW",
         "Name": "6667 Security Glazing",
         "U-value_WPerSquareMeterK": 1.84
        }
       ],
       "_grid_data_up": {},
       "_grid_options_mono_down": "{\"enableSorting\": true, \"enableFilter\": true, \"enableColResize\": true, \"enableRangeSelection\": true, \"columnDefs\": [{\"field\": \"@id\", \"type\": \"textColumn\", \"headerName\": \"@Id\"}, {\"field\": \"Name\", \"type\": \"textColumn\", \"headerName\": \"Name\"}, {\"field\": \"U-value_WPerSquareMeterK\", \"type\": \"numberColumn\", \"headerName\": \"U-Value_Wpersquaremeterk\"}], \"columnTypes\": {\"numberColumn\": {\"filter\": \"agNumberColumnFilter\"}, \"textColumn\": {\"filter\": \"agTextColumnFilter\"}, \"dateColumn\": {\"valueFormatter\": \"helpers.dateFormatter\", \"filter\": \"agDateColumnFilter\", \"filterParams\": {\"comparator\": \"helpers.compareDates\"}}}}",
       "_id": 724848743,
       "_js_helpers_builtin": "helpersBuiltin = {\n    dateFormatter: function(node) {\n        // make sure date is not undefined\n        if (node && node.value) {\n            let d = new Date(node.value);\n            let h = d.getHours();\n            let m = d.getMinutes();\n            let s = d.getSeconds();\n            const offset = d.getTimezoneOffset() * 60000;\n            d = new Date(d.getTime() - offset);\n            const ymd = d.toISOString().substring(0, 10);\n            if (h === 0 && m === 0 && s === 0) {\n                return ymd;\n            }\n            if (h === 0) h = '00';\n            if (m === 0) m = '00';\n            if (s === 0) s = '00';\n            return `${ymd} ${h}:${m}:${s}`;\n        }\n        return null;\n    },\n\n    formatInt: d3.format(',.0f'),\n    formatFloat: d3.format(',.2f'),\n\n    intFormatter: function(node) {\n        return formatInt(node.value);\n    },\n\n    floatFormatter: function(node) {\n        return formatFloat(node.value);\n    },\n\n    compareDates: function(filterLocalDate, cellValue) {\n        // Assume dates are stored as iso\n        const cellDate = new Date(cellValue);\n\n        if (cellDate < filterLocalDate) {\n            return -1;\n        } else if (cellDate > filterLocalDate) {\n            return 1;\n        }\n        return 0;\n    },\n\n    sizeToFit: function(gridOptions) {\n        gridOptions.api.sizeColumnsToFit();\n    },\n\n    autoSizeAll: function(gridOptions) {\n        const allColumnIds = [];\n        gridOptions.columnApi.getAllColumns().forEach(column => {\n            allColumnIds.push(column.colId);\n        });\n        gridOptions.columnApi.autoSizeColumns(allColumnIds);\n    },\n\n    /**\n     * Exporting data to CSV using ag-Grid api.\n     * @param {Object} gridOptions\n     */\n    exportToCsv: function(gridOptions) {\n        const params = {\n            skipHeader: false,\n            columnGroups: true,\n            skipFooters: false,\n            skipGroups: false,\n            skipPinnedTop: false,\n            skipPinnedBottom: false,\n            allColumns: true,\n            onlySelected: false,\n            suppressQuotes: true,\n            fileName: 'my_file.csv',\n            sheetName: 'my_sheet',\n            shouldRowBeSkipped: () => false,\n            processCellCallback: param => param.value,\n            processHeaderCallback: null,\n        };\n        gridOptions.api.exportDataAsCsv(params);\n    },\n\n    /**\n     * Exporting data to Excel using ag-Grid api.\n     * @param {Object} gridOptions\n     */\n    exportToExcel: function(gridOptions) {\n        const params = {\n            skipHeader: false,\n            columnGroups: true,\n            skipFooters: false,\n            skipGroups: false,\n            skipPinnedTop: false,\n            skipPinnedBottom: false,\n            allColumns: true,\n            onlySelected: false,\n            suppressQuotes: true,\n            fileName: 'my_file.xls',\n            sheetName: 'my_sheet',\n            shouldRowBeSkipped: () => false, // TODO : check\n            processCellCallback: param => param.value,\n            processHeaderCallback: null,\n        };\n        gridOptions.api.exportDataAsExcel(params);\n    },\n};\n",
       "columns_fit": "size_to_fit",
       "compress_data": true,
       "export_mode": "disabled",
       "height": "350px",
       "js_helpers": "{\"dateFormatter\":\"function(node) {\\n        // make sure date is not undefined\\n        if (node && node.value) {\\n            let d = new Date(node.value);\\n            let h = d.getHours();\\n            let m = d.getMinutes();\\n            let s = d.getSeconds();\\n            const offset = d.getTimezoneOffset() * 60000;\\n            d = new Date(d.getTime() - offset);\\n            const ymd = d.toISOString().substring(0, 10);\\n            if (h === 0 && m === 0 && s === 0) {\\n                return ymd;\\n            }\\n            if (h === 0) h = '00';\\n            if (m === 0) m = '00';\\n            if (s === 0) s = '00';\\n            return `${ymd} ${h}:${m}:${s}`;\\n        }\\n        return null;\\n    }\",\"formatInt\":\" >-,.0f\",\"formatFloat\":\" >-,.2f\",\"intFormatter\":\"function(node) {\\n        return formatInt(node.value);\\n    }\",\"floatFormatter\":\"function(node) {\\n        return formatFloat(node.value);\\n    }\",\"compareDates\":\"function(filterLocalDate, cellValue) {\\n        // Assume dates are stored as iso\\n        const cellDate = new Date(cellValue);\\n\\n        if (cellDate < filterLocalDate) {\\n            return -1;\\n        } else if (cellDate > filterLocalDate) {\\n            return 1;\\n        }\\n        return 0;\\n    }\",\"sizeToFit\":\"function(gridOptions) {\\n        gridOptions.api.sizeColumnsToFit();\\n    }\",\"autoSizeAll\":\"function(gridOptions) {\\n        const allColumnIds = [];\\n        gridOptions.columnApi.getAllColumns().forEach(column => {\\n            allColumnIds.push(column.colId);\\n        });\\n        gridOptions.columnApi.autoSizeColumns(allColumnIds);\\n    }\",\"exportToCsv\":\"function(gridOptions) {\\n        const params = {\\n            skipHeader: false,\\n            columnGroups: true,\\n            skipFooters: false,\\n            skipGroups: false,\\n            skipPinnedTop: false,\\n            skipPinnedBottom: false,\\n            allColumns: true,\\n            onlySelected: false,\\n            suppressQuotes: true,\\n            fileName: 'my_file.csv',\\n            sheetName: 'my_sheet',\\n            shouldRowBeSkipped: () => false,\\n            processCellCallback: param => param.value,\\n            processHeaderCallback: null,\\n        };\\n        gridOptions.api.exportDataAsCsv(params);\\n    }\",\"exportToExcel\":\"function(gridOptions) {\\n        const params = {\\n            skipHeader: false,\\n            columnGroups: true,\\n            skipFooters: false,\\n            skipGroups: false,\\n            skipPinnedTop: false,\\n            skipPinnedBottom: false,\\n            allColumns: true,\\n            onlySelected: false,\\n            suppressQuotes: true,\\n            fileName: 'my_file.xls',\\n            sheetName: 'my_sheet',\\n            shouldRowBeSkipped: () => false, // TODO : check\\n            processCellCallback: param => param.value,\\n            processHeaderCallback: null,\\n        };\\n        gridOptions.api.exportDataAsExcel(params);\\n    }\"}",
       "layout": "IPY_MODEL_fdb6bd92a6614ce6a00aa2d19b53c091",
       "menu": {
        "button_div_css": ".flex-button-div-724848743 {\ndisplay: flex;\njustify-content: flex-start;\nalign-items: flex-start;\nalign-content: flex-start;\nflex-flow: row wrap;\n}\n",
        "buttons": [],
        "input_div_css": ".flex-input-div-724848743 {\ndisplay: flex;\njustify-content: flex-start;\nalign-items: baseline;\nalign-content: flex-start;\nflex-flow: row wrap;\n}\n",
        "inputs": [
         {
          "css": ".flex-child-quick-filter-724848743 {\norder: 0;\nalign-self: auto;\nmargin: 5px;\nflex: 0.00 1.00 auto;\nwidth: 150px;\n}\n",
          "name": "Quick Filter"
         }
        ],
        "menu_div_css": ".flex-menu-div-724848743 {\ndisplay: flex;\njustify-content: flex-start;\nalign-items: flex-start;\nalign-content: flex-start;\nflex-flow: row wrap;\n}\n"
       },
       "theme": "ag-theme-balham",
       "width": "100%"
      }
     },
     "40ed65bcd622476988b825b420c7a24d": {
      "model_module": "@jupyter-widgets/base",
      "model_module_version": "1.2.0",
      "model_name": "LayoutModel",
      "state": {
       "align_items": "stretch",
       "display": "flex",
       "flex_flow": "row",
       "grid_auto_columns": "True",
       "justify_content": "flex-start",
       "width": "80%"
      }
     },
     "412b74c84456452eb953e68e260f6faf": {
      "model_module": "@jupyter-widgets/controls",
      "model_module_version": "1.5.0",
      "model_name": "TextModel",
      "state": {
       "layout": "IPY_MODEL_2d79df04f12e443d90b04c91be613e9b",
       "style": "IPY_MODEL_0314a2b666b24be0882c49b2565de847",
       "value": "TM46Category"
      }
     },
     "419a50533f9049f1beba528f93cf6bf7": {
      "model_module": "@jupyter-widgets/controls",
      "model_module_version": "1.5.0",
      "model_name": "HTMLModel",
      "state": {
       "layout": "IPY_MODEL_9c874a7346b3490d8c554dfd7cd3cfef",
       "style": "IPY_MODEL_a67c033f59574e8985bb069a3a82554d",
       "value": "<p>0</p>"
      }
     },
     "41dfedb562ba407b94ff4eb3640b6898": {
      "model_module": "@jupyter-widgets/controls",
      "model_module_version": "1.5.0",
      "model_name": "HBoxModel",
      "state": {
       "children": [
        "IPY_MODEL_c1753b01e18842c5bf0ed577c9e8d6be",
        "IPY_MODEL_973b146cca564d2287fca5bc28f8d2b3"
       ],
       "layout": "IPY_MODEL_c1a8c9185c98475da5a4cfccf521ffcb"
      }
     },
     "41e34c03d9a045e69d7ce51623a7752c": {
      "model_module": "@jupyter-widgets/controls",
      "model_module_version": "1.5.0",
      "model_name": "HBoxModel",
      "state": {
       "children": [
        "IPY_MODEL_46affae9a01a4bdcab4ae7af7e8f6390"
       ],
       "layout": "IPY_MODEL_f5ba1c53dca0420d8df060429d703aa3"
      }
     },
     "41e75673b0c948118157738133f89d22": {
      "model_module": "@jupyter-widgets/base",
      "model_module_version": "1.2.0",
      "model_name": "LayoutModel",
      "state": {
       "align_items": "stretch",
       "display": "flex",
       "flex_flow": "row",
       "grid_auto_columns": "True",
       "justify_content": "flex-start",
       "width": "80%"
      }
     },
     "42c24f4c62bc4dbe9aaf5eade31d1a47": {
      "model_module": "@jupyter-widgets/controls",
      "model_module_version": "1.5.0",
      "model_name": "DescriptionStyleModel",
      "state": {
       "description_width": ""
      }
     },
     "42e6d02a5c264ccca0eebf1dd9e92f80": {
      "model_module": "@jupyter-widgets/controls",
      "model_module_version": "1.5.0",
      "model_name": "HBoxModel",
      "state": {
       "children": [
        "IPY_MODEL_f4184f8f78974e57aecc45901dbff1b3"
       ],
       "layout": "IPY_MODEL_d233123434e34a6091fc3d338fbf402e"
      }
     },
     "43002e477882467dac91be37d997a816": {
      "model_module": "@jupyter-widgets/base",
      "model_module_version": "1.2.0",
      "model_name": "LayoutModel",
      "state": {
       "border": "0px",
       "margin": "0px",
       "padding": "0px"
      }
     },
     "4328ac6ce95d4c249a1491676d82f50b": {
      "model_module": "@jupyter-widgets/base",
      "model_module_version": "1.2.0",
      "model_name": "LayoutModel",
      "state": {
       "align_items": "stretch",
       "display": "flex",
       "flex_flow": "row",
       "grid_auto_columns": "True",
       "justify_content": "flex-end",
       "width": "90%"
      }
     },
     "4368ba4171ed44c59773e3c41d674b22": {
      "model_module": "@jupyter-widgets/controls",
      "model_module_version": "1.5.0",
      "model_name": "DescriptionStyleModel",
      "state": {
       "description_width": ""
      }
     },
     "43849c14519a49b899d9a812ab70164e": {
      "model_module": "@jupyter-widgets/controls",
      "model_module_version": "1.5.0",
      "model_name": "DescriptionStyleModel",
      "state": {
       "description_width": ""
      }
     },
     "443fa8060dce41df9e25f86a2b666ada": {
      "model_module": "@jupyter-widgets/base",
      "model_module_version": "1.2.0",
      "model_name": "LayoutModel",
      "state": {
       "align_items": "stretch",
       "display": "flex",
       "flex_flow": "row",
       "grid_auto_columns": "True",
       "justify_content": "flex-start",
       "width": "80%"
      }
     },
     "4452c9c97a4849f1b17a50a660c76c8d": {
      "model_module": "@jupyter-widgets/base",
      "model_module_version": "1.2.0",
      "model_name": "LayoutModel",
      "state": {}
     },
     "454242d5f7724809917e779819dff4f5": {
      "model_module": "@jupyter-widgets/base",
      "model_module_version": "1.2.0",
      "model_name": "LayoutModel",
      "state": {
       "align_items": "stretch",
       "display": "flex",
       "flex_flow": "row",
       "grid_auto_columns": "True",
       "justify_content": "flex-start",
       "width": "80%"
      }
     },
     "456ce28313244450a851dbc24fae3a5a": {
      "model_module": "@jupyter-widgets/controls",
      "model_module_version": "1.5.0",
      "model_name": "HBoxModel",
      "state": {
       "children": [
        "IPY_MODEL_ea56788b6461475da0a54aa30380756a",
        "IPY_MODEL_8f1c83e0411b49cc944cd568d7d63375"
       ],
       "layout": "IPY_MODEL_d41e975225ce416884fec56ebf0977c1"
      }
     },
     "45bba6e2b0f44526ac0115fc543acf71": {
      "model_module": "@jupyter-widgets/controls",
      "model_module_version": "1.5.0",
      "model_name": "ButtonStyleModel",
      "state": {
       "font_weight": "bold"
      }
     },
     "45d1de0aaa244da08e50dc50d01325b2": {
      "model_module": "@jupyter-widgets/base",
      "model_module_version": "1.2.0",
      "model_name": "LayoutModel",
      "state": {
       "align_items": "stretch",
       "display": "flex",
       "flex_flow": "row",
       "grid_auto_columns": "True",
       "justify_content": "flex-start",
       "width": "80%"
      }
     },
     "45d5abb40baf402280d3fa7d0bc3e341": {
      "model_module": "@jupyter-widgets/controls",
      "model_module_version": "1.5.0",
      "model_name": "HTMLModel",
      "state": {
       "layout": "IPY_MODEL_4f10457da8bd485383140ef3ca7db452",
       "style": "IPY_MODEL_8eda1a1986524f7c8f898ba208b9f11d",
       "value": "<p>3rd section of space name code (enter None if 3rd section doesn't exist)</p>"
      }
     },
     "45de299fd58245149c8cd2014f5a43fe": {
      "model_module": "@jupyter-widgets/controls",
      "model_module_version": "1.5.0",
      "model_name": "DescriptionStyleModel",
      "state": {
       "description_width": ""
      }
     },
     "46080fd390364312acb43b945ee08a65": {
      "model_module": "@jupyter-widgets/controls",
      "model_module_version": "1.5.0",
      "model_name": "DescriptionStyleModel",
      "state": {
       "description_width": ""
      }
     },
     "46affae9a01a4bdcab4ae7af7e8f6390": {
      "model_module": "@jupyter-widgets/controls",
      "model_module_version": "1.5.0",
      "model_name": "HBoxModel",
      "state": {
       "children": [
        "IPY_MODEL_877e0919187e4291b4ae8e4b25a4fe41",
        "IPY_MODEL_e7b78894b09f43b484978be70b3af24f"
       ],
       "layout": "IPY_MODEL_9cc3419acc7d4fb78f869094834dde1a"
      }
     },
     "46b68fb9d6f945d0bda2b14dc94dd927": {
      "model_module": "@jupyter-widgets/base",
      "model_module_version": "1.2.0",
      "model_name": "LayoutModel",
      "state": {}
     },
     "46c8b85d781d44648450851230d2003d": {
      "model_module": "@jupyter-widgets/base",
      "model_module_version": "1.2.0",
      "model_name": "LayoutModel",
      "state": {
       "align_items": "stretch",
       "border": "dashed 0.2px green",
       "display": "flex",
       "flex_flow": "row",
       "grid_auto_columns": "True",
       "justify_content": "flex-start",
       "width": "100%"
      }
     },
     "46dcf4fe8fcb49778f96e7c4c767aa3a": {
      "model_module": "@jupyter-widgets/controls",
      "model_module_version": "1.5.0",
      "model_name": "ButtonStyleModel",
      "state": {
       "font_weight": "bold"
      }
     },
     "46e184f0eb364bb394db429464033601": {
      "model_module": "@jupyter-widgets/controls",
      "model_module_version": "1.5.0",
      "model_name": "HBoxModel",
      "state": {
       "children": [
        "IPY_MODEL_419a50533f9049f1beba528f93cf6bf7",
        "IPY_MODEL_07d4aab23e504f17a5c3bc9ec63ccef9"
       ],
       "layout": "IPY_MODEL_3f467111057f4624b1f773c545d213bc"
      }
     },
     "46fb60bd372f45e7b667ee7daa5f4b36": {
      "model_module": "@jupyter-widgets/controls",
      "model_module_version": "1.5.0",
      "model_name": "DescriptionStyleModel",
      "state": {
       "description_width": ""
      }
     },
     "46fcea1f29fc48caa2a677716a6b6948": {
      "model_module": "@jupyter-widgets/controls",
      "model_module_version": "1.5.0",
      "model_name": "DescriptionStyleModel",
      "state": {
       "description_width": ""
      }
     },
     "47799f1bb3fd46d0a550eaf48e8b096a": {
      "model_module": "@jupyter-widgets/controls",
      "model_module_version": "1.5.0",
      "model_name": "HTMLModel",
      "state": {
       "layout": "IPY_MODEL_4d653145b3084315827c7821d7c8927e",
       "style": "IPY_MODEL_8d3037f0542345929448fefd71ba4c7d",
       "value": "<p>0</p>"
      }
     },
     "4837e82c4f294730b5ac6cd0b0c2b2c1": {
      "model_module": "@jupyter-widgets/base",
      "model_module_version": "1.2.0",
      "model_name": "LayoutModel",
      "state": {}
     },
     "48e1f3fb62424df5b50402c0c31c1766": {
      "model_module": "@jupyter-widgets/base",
      "model_module_version": "1.2.0",
      "model_name": "LayoutModel",
      "state": {}
     },
     "48f96387113d443cae67eac27500f492": {
      "model_module": "@jupyter-widgets/base",
      "model_module_version": "1.2.0",
      "model_name": "LayoutModel",
      "state": {}
     },
     "490ee1d493c646e5b1460d99e4713bee": {
      "model_module": "@jupyter-widgets/output",
      "model_module_version": "1.0.0",
      "model_name": "OutputModel",
      "state": {
       "layout": "IPY_MODEL_00be06e7db1740758f3fb9d15cc1b75e"
      }
     },
     "4951d43af397420c8efda9fcc7f82b07": {
      "model_module": "@jupyter-widgets/base",
      "model_module_version": "1.2.0",
      "model_name": "LayoutModel",
      "state": {
       "align_items": "stretch",
       "display": "flex",
       "flex_flow": "row",
       "grid_auto_columns": "True",
       "justify_content": "flex-start",
       "width": "80%"
      }
     },
     "4a074ff9139e46d0876cf2f81d57d775": {
      "model_module": "@jupyter-widgets/output",
      "model_module_version": "1.0.0",
      "model_name": "OutputModel",
      "state": {
       "layout": "IPY_MODEL_e706cd7905b94bf28f8d92cc0293ec80",
       "outputs": [
        {
         "data": {
          "text/markdown": "#### gbxml_datagrab",
          "text/plain": "<IPython.core.display.Markdown object>"
         },
         "metadata": {},
         "output_type": "display_data"
        },
        {
         "data": {
          "text/markdown": "`C:\\engDev\\git_mf\\ipyrun\\examples\\data\\processed\\gbxml_datagrab.xlsx`",
          "text/plain": "<IPython.core.display.Markdown object>"
         },
         "metadata": {},
         "output_type": "display_data"
        },
        {
         "data": {
          "text/markdown": "### gbxml_spcs",
          "text/plain": "<IPython.core.display.Markdown object>"
         },
         "metadata": {},
         "output_type": "display_data"
        },
        {
         "data": {
          "text/markdown": "data grab of spaces from the gbxml model",
          "text/plain": "<IPython.core.display.Markdown object>"
         },
         "metadata": {},
         "output_type": "display_data"
        },
        {
         "data": {
          "application/vnd.jupyter.widget-view+json": {
           "model_id": "",
           "version_major": 2,
           "version_minor": 0
          },
          "text/plain": "Grid(columns_fit='size_to_fit', compress_data=True, export_mode='disabled', height='350px', menu={'buttons': […"
         },
         "metadata": {},
         "output_type": "display_data"
        },
        {
         "data": {
          "text/markdown": "### gbxml_fabric",
          "text/plain": "<IPython.core.display.Markdown object>"
         },
         "metadata": {},
         "output_type": "display_data"
        },
        {
         "data": {
          "text/markdown": "data grab of constructions from the gbxml model",
          "text/plain": "<IPython.core.display.Markdown object>"
         },
         "metadata": {},
         "output_type": "display_data"
        },
        {
         "data": {
          "application/vnd.jupyter.widget-view+json": {
           "model_id": "",
           "version_major": 2,
           "version_minor": 0
          },
          "text/plain": "Grid(columns_fit='size_to_fit', compress_data=True, export_mode='disabled', height='350px', menu={'buttons': […"
         },
         "metadata": {},
         "output_type": "display_data"
        },
        {
         "data": {
          "text/markdown": "### gbxml_fabric-summ",
          "text/plain": "<IPython.core.display.Markdown object>"
         },
         "metadata": {},
         "output_type": "display_data"
        },
        {
         "data": {
          "text/markdown": "a summary of fabric from the gbxml model",
          "text/plain": "<IPython.core.display.Markdown object>"
         },
         "metadata": {},
         "output_type": "display_data"
        },
        {
         "data": {
          "application/vnd.jupyter.widget-view+json": {
           "model_id": "",
           "version_major": 2,
           "version_minor": 0
          },
          "text/plain": "Grid(columns_fit='size_to_fit', compress_data=True, export_mode='disabled', height='350px', menu={'buttons': […"
         },
         "metadata": {},
         "output_type": "display_data"
        }
       ]
      }
     },
     "4a21f2257dd346e6a95004af03b9d2ba": {
      "model_module": "@jupyter-widgets/base",
      "model_module_version": "1.2.0",
      "model_name": "LayoutModel",
      "state": {}
     },
     "4a2dd2a0e6204446895ad2037c9562a5": {
      "model_module": "@jupyter-widgets/output",
      "model_module_version": "1.0.0",
      "model_name": "OutputModel",
      "state": {
       "layout": "IPY_MODEL_d100c6dc778944208630d05c7ec2a6f4"
      }
     },
     "4ac1a72a8b104758809e3cfa1f1fdf13": {
      "model_module": "@jupyter-widgets/controls",
      "model_module_version": "1.5.0",
      "model_name": "SelectMultipleModel",
      "state": {
       "_options_labels": [
        "C:\\engDev\\git_mf\\ipyrun\\examples\\data\\raw\\gbxml.xml",
        "C:\\engDev\\git_mf\\ipyrun\\examples\\data\\interim\\gbjson.json",
        "C:\\engDev\\git_mf\\ipyrun\\examples\\data\\processed\\gbxml_datagrab.xlsx",
        "C:\\engDev\\git_mf\\ipyrun\\examples\\data\\processed\\gbxml_spcs-treemap.png"
       ],
       "description": "outputs",
       "index": [],
       "layout": "IPY_MODEL_574ec002ecba4595bb1aa38c477f02c6",
       "rows": 4,
       "style": "IPY_MODEL_7edfddd19fc0444aa8c8277b33fa3fda"
      }
     },
     "4ae52a740b6a4fdf9ac7f21b2ba3812a": {
      "model_module": "@jupyter-widgets/controls",
      "model_module_version": "1.5.0",
      "model_name": "HTMLModel",
      "state": {
       "layout": "IPY_MODEL_042ff4a8996541a0aafdbe97c91684d4",
       "style": "IPY_MODEL_46080fd390364312acb43b945ee08a65",
       "value": "<p>defines the logic of the space naming. use default value where practical.</p>"
      }
     },
     "4b322a97ca60493aae96056807f3fa0d": {
      "model_module": "@jupyter-widgets/controls",
      "model_module_version": "1.5.0",
      "model_name": "SelectMultipleModel",
      "state": {
       "_options_labels": [
        "gbxml.xml",
        "gbjson.json",
        "gbxml_datagrab.xlsx",
        "gbxml_spcs-treemap.png"
       ],
       "index": [
        1
       ],
       "layout": "IPY_MODEL_8fcef04bfbed4507ae63f6ea8f7611bd",
       "rows": 5,
       "style": "IPY_MODEL_0f48b0726ea84f5383a3c7acdcad95d1"
      }
     },
     "4b9db4abacf84491b294fb47f093e6fb": {
      "model_module": "@jupyter-widgets/controls",
      "model_module_version": "1.5.0",
      "model_name": "HTMLModel",
      "state": {
       "layout": "IPY_MODEL_2c2c17c0e31648d0945369930c758fdc",
       "style": "IPY_MODEL_8895a050c01a4f51bca5b90a0dfaa53b",
       "value": "<p>edit user input form below</p>"
      }
     },
     "4c61281ad99b4ea7a7699019ce110130": {
      "model_module": "@jupyter-widgets/controls",
      "model_module_version": "1.5.0",
      "model_name": "TextModel",
      "state": {
       "layout": "IPY_MODEL_267a32b02fef4f56b4e2574a51f08caa",
       "style": "IPY_MODEL_f826d77af5f3437cadc1699356cbf912",
       "value": "SpaceType"
      }
     },
     "4c799b4510e04b64970a1c55c9e06d67": {
      "model_module": "@jupyter-widgets/controls",
      "model_module_version": "1.5.0",
      "model_name": "HTMLModel",
      "state": {
       "layout": "IPY_MODEL_63716bef48134793bb5a0dcab1bab466",
       "style": "IPY_MODEL_46fcea1f29fc48caa2a677716a6b6948",
       "value": "<p>4th section of space name code (enter None if 4th section doesn't exist)</p>"
      }
     },
     "4c84f665afbb4c9c9a1912d3ad938f4e": {
      "model_module": "@jupyter-widgets/output",
      "model_module_version": "1.0.0",
      "model_name": "OutputModel",
      "state": {
       "layout": "IPY_MODEL_a50a2369d3b84849bb4a4c276e1f74a5"
      }
     },
     "4cc8a57965e440408b8506ccb51af1bc": {
      "model_module": "@jupyter-widgets/controls",
      "model_module_version": "1.5.0",
      "model_name": "DescriptionStyleModel",
      "state": {
       "description_width": ""
      }
     },
     "4ccd11c0356548a487e626b962f2002f": {
      "model_module": "@jupyter-widgets/base",
      "model_module_version": "1.2.0",
      "model_name": "LayoutModel",
      "state": {
       "width": "5%"
      }
     },
     "4ce331474e754261977b441fde700621": {
      "model_module": "@jupyter-widgets/controls",
      "model_module_version": "1.5.0",
      "model_name": "HBoxModel",
      "state": {
       "children": [
        "IPY_MODEL_f9a7ecc9c7ab4d45bd9189d871c9a016",
        "IPY_MODEL_35c54c0f1a364962bb778d73e42de1ce"
       ],
       "layout": "IPY_MODEL_3e85c52858974cbf9ebbe31749642042"
      }
     },
     "4d125bb913ce4c77896bd3dc9e20e9ed": {
      "model_module": "@jupyter-widgets/base",
      "model_module_version": "1.2.0",
      "model_name": "LayoutModel",
      "state": {}
     },
     "4d6172b6d34e4bdbb76477152560ae56": {
      "model_module": "@jupyter-widgets/controls",
      "model_module_version": "1.5.0",
      "model_name": "AccordionModel",
      "state": {
       "_titles": {
        "0": "gbxml"
       },
       "children": [
        "IPY_MODEL_acfb65790bc249c18ebe201924d8cbd2"
       ],
       "layout": "IPY_MODEL_d19b4f9be613408da6fd646843745858",
       "selected_index": null
      }
     },
     "4d653145b3084315827c7821d7c8927e": {
      "model_module": "@jupyter-widgets/base",
      "model_module_version": "1.2.0",
      "model_name": "LayoutModel",
      "state": {}
     },
     "4d8944cf318849c59f1a170474566bf9": {
      "model_module": "@jupyter-widgets/base",
      "model_module_version": "1.2.0",
      "model_name": "LayoutModel",
      "state": {
       "align_items": "stretch",
       "display": "flex",
       "flex_flow": "row",
       "grid_auto_columns": "True",
       "justify_content": "flex-end",
       "width": "90%"
      }
     },
     "4e4143435c4c4d6081f25d88b581aa2d": {
      "model_module": "@jupyter-widgets/base",
      "model_module_version": "1.2.0",
      "model_name": "LayoutModel",
      "state": {}
     },
     "4e5bd67dc339495fb9d5269f331e7205": {
      "model_module": "@jupyter-widgets/controls",
      "model_module_version": "1.5.0",
      "model_name": "HBoxModel",
      "state": {
       "children": [
        "IPY_MODEL_26250df2c1524d2391e538e3802ceb79",
        "IPY_MODEL_92461012149c45e1b494715fd3aa30b5"
       ],
       "layout": "IPY_MODEL_a4d452c3d8d0461e8f1abd2884c533b2"
      }
     },
     "4eaf3d0fd88a4eae97aed7b2dc042dda": {
      "model_module": "@jupyter-widgets/controls",
      "model_module_version": "1.5.0",
      "model_name": "SelectMultipleModel",
      "state": {
       "_options_labels": [
        "C:\\engDev\\git_mf\\ipyrun\\examples\\data\\raw\\gbxml.xml",
        "C:\\engDev\\git_mf\\ipyrun\\examples\\data\\interim\\gbjson.json",
        "C:\\engDev\\git_mf\\ipyrun\\examples\\data\\processed\\gbxml_datagrab.xlsx",
        "C:\\engDev\\git_mf\\ipyrun\\examples\\data\\processed\\gbxml_spcs-treemap.png"
       ],
       "description": "outputs",
       "index": [
        0
       ],
       "layout": "IPY_MODEL_25364dc6e6124c9782ad6dea16ac6283",
       "rows": 4,
       "style": "IPY_MODEL_d35e71315b2d422e9df2d1127ac34477"
      }
     },
     "4f10457da8bd485383140ef3ca7db452": {
      "model_module": "@jupyter-widgets/base",
      "model_module_version": "1.2.0",
      "model_name": "LayoutModel",
      "state": {}
     },
     "4f8987c5086548a187a3efe03e87089a": {
      "model_module": "@jupyter-widgets/base",
      "model_module_version": "1.2.0",
      "model_name": "LayoutModel",
      "state": {
       "align_items": "stretch",
       "border": "dashed 0.2px green",
       "display": "flex",
       "flex_flow": "row",
       "grid_auto_columns": "True",
       "justify_content": "flex-start",
       "width": "100%"
      }
     },
     "5094fb55a2f043b694b445579b9f572b": {
      "model_module": "@jupyter-widgets/controls",
      "model_module_version": "1.5.0",
      "model_name": "HBoxModel",
      "state": {
       "children": [
        "IPY_MODEL_41dfedb562ba407b94ff4eb3640b6898"
       ],
       "layout": "IPY_MODEL_0ff7436e09f040baa8012440a25df6ba"
      }
     },
     "50c06b53381549ec8f503ccb30723ff3": {
      "model_module": "@jupyter-widgets/controls",
      "model_module_version": "1.5.0",
      "model_name": "ToggleButtonModel",
      "state": {
       "button_style": "info",
       "description": "inputs from file",
       "layout": "IPY_MODEL_31514d551f8e4c8aba1bfc16510d46eb",
       "style": "IPY_MODEL_7ed4f5a5c38146bd87377f428c206731"
      }
     },
     "5101cc89e8024969956b49f9a0978d8c": {
      "model_module": "@jupyter-widgets/base",
      "model_module_version": "1.2.0",
      "model_name": "LayoutModel",
      "state": {}
     },
     "5138ce223403427288e1b72fd7a756d1": {
      "model_module": "@jupyter-widgets/base",
      "model_module_version": "1.2.0",
      "model_name": "LayoutModel",
      "state": {}
     },
     "5158d95cc5104d47a8cb0a3ad8231d6e": {
      "model_module": "@jupyter-widgets/base",
      "model_module_version": "1.2.0",
      "model_name": "LayoutModel",
      "state": {}
     },
     "51cada25fddf48a2ac2df241f37be0ce": {
      "model_module": "@jupyter-widgets/controls",
      "model_module_version": "1.5.0",
      "model_name": "DescriptionStyleModel",
      "state": {
       "description_width": ""
      }
     },
     "52936efb2fb04e21b1d8c0cff7554e78": {
      "model_module": "@jupyter-widgets/controls",
      "model_module_version": "1.5.0",
      "model_name": "DescriptionStyleModel",
      "state": {
       "description_width": ""
      }
     },
     "529969b72de9476baa39554008cad336": {
      "model_module": "@jupyter-widgets/output",
      "model_module_version": "1.0.0",
      "model_name": "OutputModel",
      "state": {
       "layout": "IPY_MODEL_83bc225eeedf4ab8ad096586f9612ad5"
      }
     },
     "53936837abc94668828ba645b04850ea": {
      "model_module": "@jupyter-widgets/controls",
      "model_module_version": "1.5.0",
      "model_name": "TextModel",
      "state": {
       "layout": "IPY_MODEL_0f0e3db0103943e1a2c55544c632b6e9",
       "style": "IPY_MODEL_29185132d1d449fc9f630a4eb6f50789",
       "value": "Level"
      }
     },
     "5396c70aa6d3487a8757d1a69b7a186b": {
      "model_module": "@jupyter-widgets/controls",
      "model_module_version": "1.5.0",
      "model_name": "HTMLModel",
      "state": {
       "layout": "IPY_MODEL_d1dafc33cfd845a9989cef039c80059f",
       "style": "IPY_MODEL_b36fa7e811684b6b894073cc30f33b02",
       "value": "<p>0</p>"
      }
     },
     "53c32ade92664f3c9cbdbfe3c0f756d5": {
      "model_module": "@jupyter-widgets/controls",
      "model_module_version": "1.5.0",
      "model_name": "HTMLModel",
      "state": {
       "layout": "IPY_MODEL_c87f214219cd4b75afd0a28836b5ad69",
       "style": "IPY_MODEL_10050a7aa02045a9b42586a974ff2cfe",
       "value": "<p>1st section of space name code</p>"
      }
     },
     "54053b681f8d419ebffa6d52702f14a3": {
      "model_module": "@jupyter-widgets/controls",
      "model_module_version": "1.5.0",
      "model_name": "DescriptionStyleModel",
      "state": {
       "description_width": ""
      }
     },
     "543c0b22536e4600a268f87258046a8f": {
      "model_module": "@jupyter-widgets/output",
      "model_module_version": "1.0.0",
      "model_name": "OutputModel",
      "state": {
       "layout": "IPY_MODEL_1fc046061a8c4aff91e5c0e4764c37b2"
      }
     },
     "543e022e35bf4537894b924f66e268ea": {
      "model_module": "@jupyter-widgets/controls",
      "model_module_version": "1.5.0",
      "model_name": "HTMLModel",
      "state": {
       "layout": "IPY_MODEL_f02b0704eb2b487b9cb42a9faed44d20",
       "style": "IPY_MODEL_c86b7336fa684786bd5a836adc49b9bf",
       "value": "<p>edit user input form below</p>"
      }
     },
     "546b6650968144c687d16f0b3dea45e4": {
      "model_module": "@jupyter-widgets/output",
      "model_module_version": "1.0.0",
      "model_name": "OutputModel",
      "state": {
       "layout": "IPY_MODEL_248febf942114e26ad279a1c3d998199"
      }
     },
     "54704f022ebe4bcd866bc0e79cf104a5": {
      "model_module": "@jupyter-widgets/controls",
      "model_module_version": "1.5.0",
      "model_name": "HBoxModel",
      "state": {
       "children": [
        "IPY_MODEL_c1e6295f96a64e099bb13b44429fae41",
        "IPY_MODEL_98f7440da10c429cb3271df72eabe97f"
       ],
       "layout": "IPY_MODEL_d95ad50f6309477e821724246e53da25"
      }
     },
     "54add1db72be4f96b0b66927d2641cac": {
      "model_module": "@jupyter-widgets/base",
      "model_module_version": "1.2.0",
      "model_name": "LayoutModel",
      "state": {
       "align_items": "stretch",
       "border": "dashed 0.2px green",
       "display": "flex",
       "flex_flow": "row",
       "grid_auto_columns": "True",
       "justify_content": "flex-start",
       "width": "100%"
      }
     },
     "54b493db60964c428d5f9104838d0872": {
      "model_module": "@jupyter-widgets/controls",
      "model_module_version": "1.5.0",
      "model_name": "HTMLModel",
      "state": {
       "layout": "IPY_MODEL_960379fb9720483d8a0a30197eaf3d55",
       "style": "IPY_MODEL_23d68a21dfe24ed8ad9ff96464dbd6d2",
       "value": "<p>4</p>"
      }
     },
     "54c36a291b664e2b9a00b138d9515b23": {
      "model_module": "@jupyter-widgets/base",
      "model_module_version": "1.2.0",
      "model_name": "LayoutModel",
      "state": {}
     },
     "54e4747dcf9846118612e2bc46214609": {
      "model_module": "@jupyter-widgets/base",
      "model_module_version": "1.2.0",
      "model_name": "LayoutModel",
      "state": {
       "align_items": "stretch",
       "display": "flex",
       "flex_flow": "row",
       "grid_auto_columns": "True",
       "justify_content": "flex-start",
       "width": "80%"
      }
     },
     "54ecbb13bdbf4c16a7d1c413cb604cc2": {
      "model_module": "@jupyter-widgets/controls",
      "model_module_version": "1.5.0",
      "model_name": "HBoxModel",
      "state": {
       "children": [
        "IPY_MODEL_6e28df9ca4b54062bf330e41aa84d049"
       ],
       "layout": "IPY_MODEL_2eee110f06cf4a4a87f83d37eab0a18c"
      }
     },
     "55265f29893d4c5abb7bf115f9aed8c5": {
      "model_module": "@jupyter-widgets/base",
      "model_module_version": "1.2.0",
      "model_name": "LayoutModel",
      "state": {}
     },
     "553bd2ade12f4797af5e25a8fc54a54b": {
      "model_module": "@jupyter-widgets/base",
      "model_module_version": "1.2.0",
      "model_name": "LayoutModel",
      "state": {}
     },
     "55d2441a5705414a9e6e79a9ea4ec55b": {
      "model_module": "@jupyter-widgets/controls",
      "model_module_version": "1.5.0",
      "model_name": "HBoxModel",
      "state": {
       "children": [
        "IPY_MODEL_b4b946e218f34228ae94e4f4f4a963ae",
        "IPY_MODEL_01fc8ab3bc2146e1a23ddcb0785c673e"
       ],
       "layout": "IPY_MODEL_e74e4d8553d14c75909d735d473cb9ff"
      }
     },
     "55de2bed73c74589b2e2910fa5335de2": {
      "model_module": "@jupyter-widgets/base",
      "model_module_version": "1.2.0",
      "model_name": "LayoutModel",
      "state": {}
     },
     "564aa38be94b491cbc34116aeef2806b": {
      "model_module": "@jupyter-widgets/controls",
      "model_module_version": "1.5.0",
      "model_name": "ButtonModel",
      "state": {
       "description": "load",
       "icon": "upload",
       "layout": "IPY_MODEL_05f91c766ebc45c0adf1a538e68c4337",
       "style": "IPY_MODEL_f899c4671f9c424384779b18b87021c5"
      }
     },
     "565fcebd162f4533bf1548f544372981": {
      "model_module": "@jupyter-widgets/controls",
      "model_module_version": "1.5.0",
      "model_name": "DescriptionStyleModel",
      "state": {
       "description_width": ""
      }
     },
     "56a45bc385794a54a4a5468b7080d93a": {
      "model_module": "@jupyter-widgets/base",
      "model_module_version": "1.2.0",
      "model_name": "LayoutModel",
      "state": {}
     },
     "56cdeb06ec1e4668b80caa8b72ce2425": {
      "model_module": "@jupyter-widgets/output",
      "model_module_version": "1.0.0",
      "model_name": "OutputModel",
      "state": {
       "layout": "IPY_MODEL_d8bf53e86df644c0a5baeaff07402bbf"
      }
     },
     "574506d806ce4d0ba57d75a444047840": {
      "model_module": "@jupyter-widgets/controls",
      "model_module_version": "1.5.0",
      "model_name": "VBoxModel",
      "state": {
       "children": [
        "IPY_MODEL_929b0b0ba08e410bb6a1bd71d0b50d34",
        "IPY_MODEL_5a9e8225bf7b43e6943170f47d7ab666"
       ],
       "layout": "IPY_MODEL_b8d0f871f9a040358d4ece56535668e1"
      }
     },
     "574ec002ecba4595bb1aa38c477f02c6": {
      "model_module": "@jupyter-widgets/base",
      "model_module_version": "1.2.0",
      "model_name": "LayoutModel",
      "state": {
       "height": "30px",
       "width": "auto"
      }
     },
     "574f381cd1164e469ca091cea08065b8": {
      "model_module": "@jupyter-widgets/base",
      "model_module_version": "1.2.0",
      "model_name": "LayoutModel",
      "state": {}
     },
     "578d994af5a747da8d440ac5c98b621b": {
      "model_module": "@jupyter-widgets/base",
      "model_module_version": "1.2.0",
      "model_name": "LayoutModel",
      "state": {
       "align_items": "stretch",
       "border": "dashed 0.2px green",
       "display": "flex",
       "flex_flow": "row",
       "grid_auto_columns": "True",
       "justify_content": "flex-start",
       "width": "100%"
      }
     },
     "5797e025fe82403284b43cd6b3332aa3": {
      "model_module": "@jupyter-widgets/controls",
      "model_module_version": "1.5.0",
      "model_name": "HBoxModel",
      "state": {
       "children": [
        "IPY_MODEL_61adebc1151d468bbbb3d2e551217b31",
        "IPY_MODEL_bf93967354ca4efbb8fd0dcd7fd93710"
       ],
       "layout": "IPY_MODEL_4328ac6ce95d4c249a1491676d82f50b"
      }
     },
     "57f9e60916fc48d5b5adfcef6bb59878": {
      "model_module": "@jupyter-widgets/controls",
      "model_module_version": "1.5.0",
      "model_name": "HBoxModel",
      "state": {
       "children": [
        "IPY_MODEL_54b493db60964c428d5f9104838d0872",
        "IPY_MODEL_9308c874f61a4fd9a63efbf4aa3af192"
       ],
       "layout": "IPY_MODEL_707b7588ba34435aa8a8d92163f4665c"
      }
     },
     "580281bb4d704298add9089d448d0a23": {
      "model_module": "@jupyter-widgets/base",
      "model_module_version": "1.2.0",
      "model_name": "LayoutModel",
      "state": {
       "align_items": "stretch",
       "display": "flex",
       "flex_flow": "row",
       "grid_auto_columns": "True",
       "justify_content": "flex-end",
       "width": "90%"
      }
     },
     "581b81fdbcde44f4a62154d6d8617e1e": {
      "model_module": "@jupyter-widgets/base",
      "model_module_version": "1.2.0",
      "model_name": "LayoutModel",
      "state": {}
     },
     "5822331acaa64b5fb03cd444aced3eb7": {
      "model_module": "@jupyter-widgets/controls",
      "model_module_version": "1.5.0",
      "model_name": "HBoxModel",
      "state": {
       "children": [
        "IPY_MODEL_d0563bbd37dd4ac1b6663968a50a88f8",
        "IPY_MODEL_97c53a8f776146d6b1bab8d6d96431ac"
       ],
       "layout": "IPY_MODEL_f4d34a17d1f744b98e3dd5d55a2c31fc"
      }
     },
     "58281880c7954ea8966778963d97fce2": {
      "model_module": "@jupyter-widgets/controls",
      "model_module_version": "1.5.0",
      "model_name": "ToggleButtonModel",
      "state": {
       "button_style": "success",
       "description": "display/hide files",
       "layout": "IPY_MODEL_4e4143435c4c4d6081f25d88b581aa2d",
       "style": "IPY_MODEL_35572b9a38ba4db3bc66ee6079959337",
       "tooltip": "shows and hides display outputs of the files selected in the SelectMultiple dropdown menu",
       "value": true
      }
     },
     "58564916c19942bb855c58a01fd35b31": {
      "model_module": "@jupyter-widgets/controls",
      "model_module_version": "1.5.0",
      "model_name": "HTMLModel",
      "state": {
       "layout": "IPY_MODEL_ac063de3d8644ec0915d766a72b7c4d4",
       "style": "IPY_MODEL_34a6536da65048bb90ee3861d27444ba",
       "value": "<p>4th section of space name code (enter None if 4th section doesn't exist)</p>"
      }
     },
     "5857a9874bf049e39d3339f3977d5e55": {
      "model_module": "@jupyter-widgets/controls",
      "model_module_version": "1.5.0",
      "model_name": "HBoxModel",
      "state": {
       "children": [
        "IPY_MODEL_01462dee795446f2aa88e5c4e2c5f5fe",
        "IPY_MODEL_3289d1e13cca403f9c93399672562ef2"
       ],
       "layout": "IPY_MODEL_0deea89e6eb647eeaf3a2e64c94976fc"
      }
     },
     "5862f8f55b34417384bb3fc72c535044": {
      "model_module": "@jupyter-widgets/controls",
      "model_module_version": "1.5.0",
      "model_name": "HTMLModel",
      "state": {
       "layout": "IPY_MODEL_8cbf887a6f2b4e6194056a1eb609ca62",
       "style": "IPY_MODEL_05d665b1f20642c6975ba6df97b4ae4c",
       "value": "<p>5th section of space name code (enter None if 5th section doesn't exist)</p>"
      }
     },
     "587bc7ff329a41bc9f3c267b10602262": {
      "model_module": "@jupyter-widgets/controls",
      "model_module_version": "1.5.0",
      "model_name": "HBoxModel",
      "state": {
       "children": [
        "IPY_MODEL_fd7496d1306746e39db5c7b5cade43ce",
        "IPY_MODEL_c35ee1310a0e47e4bc4f4d49b6721322"
       ],
       "layout": "IPY_MODEL_78bb0a55eff442c6ab38e9849caf2ec1"
      }
     },
     "588e28ad715d4319a20fa5419ee5f417": {
      "model_module": "@jupyter-widgets/base",
      "model_module_version": "1.2.0",
      "model_name": "LayoutModel",
      "state": {}
     },
     "58d42ffc73d44a6ba65d628c63e30d80": {
      "model_module": "@jupyter-widgets/base",
      "model_module_version": "1.2.0",
      "model_name": "LayoutModel",
      "state": {}
     },
     "593bd26d0d914f5187e1cd7461c1ba05": {
      "model_module": "@jupyter-widgets/output",
      "model_module_version": "1.0.0",
      "model_name": "OutputModel",
      "state": {
       "layout": "IPY_MODEL_249dc0252a4446eca2c087bb2445b216"
      }
     },
     "5952206b7ab54ad49dafb2df22d181d1": {
      "model_module": "@jupyter-widgets/controls",
      "model_module_version": "1.5.0",
      "model_name": "ButtonModel",
      "state": {
       "description": "load",
       "icon": "upload",
       "layout": "IPY_MODEL_d4e8cd01a0394463b76148c340c4b5a9",
       "style": "IPY_MODEL_714b7c5a30ec431c96220701362ce9c1"
      }
     },
     "59a0cf05884941e9adcffe332ee5e082": {
      "model_module": "@jupyter-widgets/base",
      "model_module_version": "1.2.0",
      "model_name": "LayoutModel",
      "state": {
       "height": "30px",
       "max_width": "30px",
       "padding": "3px"
      }
     },
     "59ab60bf3df4429f92f2eddfc62fb468": {
      "model_module": "@jupyter-widgets/controls",
      "model_module_version": "1.5.0",
      "model_name": "DescriptionStyleModel",
      "state": {
       "description_width": ""
      }
     },
     "5a19aa940e0548439f1c9162688485a4": {
      "model_module": "@jupyter-widgets/base",
      "model_module_version": "1.2.0",
      "model_name": "LayoutModel",
      "state": {}
     },
     "5a4de49d523748239d2f405253496a42": {
      "model_module": "@jupyter-widgets/base",
      "model_module_version": "1.2.0",
      "model_name": "LayoutModel",
      "state": {}
     },
     "5a516a744f56410abf75ec22769de0f2": {
      "model_module": "@jupyter-widgets/controls",
      "model_module_version": "1.5.0",
      "model_name": "DescriptionStyleModel",
      "state": {
       "description_width": ""
      }
     },
     "5a9e8225bf7b43e6943170f47d7ab666": {
      "model_module": "@jupyter-widgets/controls",
      "model_module_version": "1.5.0",
      "model_name": "VBoxModel",
      "state": {
       "children": [
        "IPY_MODEL_0419eccbea5e4bc59afb54653d7a1841",
        "IPY_MODEL_764d553a369840ceb717f1e706f8cb94",
        "IPY_MODEL_4eaf3d0fd88a4eae97aed7b2dc042dda"
       ],
       "layout": "IPY_MODEL_ced66de7a1064e22a96800f81496e41b"
      }
     },
     "5b46776ba7e24e46913de544f7395765": {
      "model_module": "@jupyter-widgets/base",
      "model_module_version": "1.2.0",
      "model_name": "LayoutModel",
      "state": {
       "align_items": "stretch",
       "display": "flex",
       "flex_flow": "row",
       "grid_auto_columns": "True",
       "justify_content": "flex-start",
       "width": "80%"
      }
     },
     "5b786f7a623b4cedb10b8fabc440e949": {
      "model_module": "@jupyter-widgets/base",
      "model_module_version": "1.2.0",
      "model_name": "LayoutModel",
      "state": {}
     },
     "5c4f7ef638f44f718347a5eaec53403d": {
      "model_module": "@jupyter-widgets/base",
      "model_module_version": "1.2.0",
      "model_name": "LayoutModel",
      "state": {}
     },
     "5d119a4213c54b1ebc1735f33b06d7f3": {
      "model_module": "@jupyter-widgets/controls",
      "model_module_version": "1.5.0",
      "model_name": "HBoxModel",
      "state": {
       "children": [
        "IPY_MODEL_cff6a28021d2448ba381617606950d28"
       ],
       "layout": "IPY_MODEL_9ff6f768d4ba49f7bff69752084bd0de"
      }
     },
     "5d337502393e416cbb62509b746e9e6f": {
      "model_module": "@jupyter-widgets/controls",
      "model_module_version": "1.5.0",
      "model_name": "DescriptionStyleModel",
      "state": {
       "description_width": ""
      }
     },
     "5d5b711aa9314383b9d644c12ad294c6": {
      "model_module": "@jupyter-widgets/base",
      "model_module_version": "1.2.0",
      "model_name": "LayoutModel",
      "state": {
       "align_items": "stretch",
       "border": "dashed 0.2px green",
       "display": "flex",
       "flex_flow": "row",
       "grid_auto_columns": "True",
       "justify_content": "flex-start",
       "width": "100%"
      }
     },
     "5d9969a8557f44f09fafcb727c52d8bf": {
      "buffers": [
       {
        "data": "H4sIAAAAAAACA62RUU+DMBDHvwq5Z0SYE7Y9uWzDEKcQNoMJIaSBujTpWi2g02XffVdcdcZXHy5pej9+/+O6h41iNUz2UJOWwCTPYbWel7NFtAQbfN8PrEi0VAnCrRllnInNZcilVGB7jjsu7C9+Hsep4ed9d+AMTDNcxp5pLnYvsqG1dXK4jjc0WDJN138yE6Ja1jIpdF7wnZfGcWjYVMrn36ZsujwLPJkywnmPjQy2eFoPfiQ1rQjGCcobjQXeGZYZbEWrTrH2w7rl5BN3oacaDf9fWNjARE13pZLvjX4dQbYUDzlE+hqw/0Z411/lLoq1XC/8CkvPc43lYwVY+ofHRXEwzkrybiv6T+EGH1/P9YD+/vB40YvLLKFq9doRRe8pbvAOUHA4AoXIououAgAA",
        "encoding": "base64",
        "path": [
         "_grid_data_up"
        ]
       }
      ],
      "model_module": "ipyaggrid",
      "model_module_version": "~0.2.1",
      "model_name": "AgGridModel",
      "state": {
       "_grid_data_down": [
        {
         "@id": "STD_CEIL",
         "Name": "6667 Internal Ceiling/Floor",
         "U-value_WPerSquareMeterK": 1.09
        },
        {
         "@id": "STD_DOOR",
         "Name": "6667 Door",
         "U-value_WPerSquareMeterK": 2.2
        },
        {
         "@id": "STD_FLO1",
         "Name": "6667 Exposed Floor",
         "U-value_WPerSquareMeterK": 0.14
        },
        {
         "@id": "STD_PART",
         "Name": "6667 Internal Partition",
         "U-value_WPerSquareMeterK": 1.79
        },
        {
         "@id": "STD_ROOF",
         "Name": "6667 Roof",
         "U-value_WPerSquareMeterK": 0.14
        },
        {
         "@id": "STD_WAL1",
         "Name": "6667 External Wall",
         "U-value_WPerSquareMeterK": 0.18
        },
        {
         "@id": "STD_EXT2",
         "Name": "6667 Rodeca Panels",
         "U-value_WPerSquareMeterK": 0.71
        },
        {
         "@id": "STD_EXTW",
         "Name": "6667 Security Glazing",
         "U-value_WPerSquareMeterK": 1.84
        },
        {
         "@id": "STD_EXT2",
         "Name": "6667 Rodeca Panels",
         "U-value_WPerSquareMeterK": 0.71
        },
        {
         "@id": "STD_EXTW",
         "Name": "6667 Security Glazing",
         "U-value_WPerSquareMeterK": 1.84
        }
       ],
       "_grid_data_up": {},
       "_grid_options_mono_down": "{\"enableSorting\": true, \"enableFilter\": true, \"enableColResize\": true, \"enableRangeSelection\": true, \"columnDefs\": [{\"field\": \"@id\", \"type\": \"textColumn\", \"headerName\": \"@Id\"}, {\"field\": \"Name\", \"type\": \"textColumn\", \"headerName\": \"Name\"}, {\"field\": \"U-value_WPerSquareMeterK\", \"type\": \"numberColumn\", \"headerName\": \"U-Value_Wpersquaremeterk\"}], \"columnTypes\": {\"numberColumn\": {\"filter\": \"agNumberColumnFilter\"}, \"textColumn\": {\"filter\": \"agTextColumnFilter\"}, \"dateColumn\": {\"valueFormatter\": \"helpers.dateFormatter\", \"filter\": \"agDateColumnFilter\", \"filterParams\": {\"comparator\": \"helpers.compareDates\"}}}}",
       "_id": 35850473,
       "_js_helpers_builtin": "helpersBuiltin = {\n    dateFormatter: function(node) {\n        // make sure date is not undefined\n        if (node && node.value) {\n            let d = new Date(node.value);\n            let h = d.getHours();\n            let m = d.getMinutes();\n            let s = d.getSeconds();\n            const offset = d.getTimezoneOffset() * 60000;\n            d = new Date(d.getTime() - offset);\n            const ymd = d.toISOString().substring(0, 10);\n            if (h === 0 && m === 0 && s === 0) {\n                return ymd;\n            }\n            if (h === 0) h = '00';\n            if (m === 0) m = '00';\n            if (s === 0) s = '00';\n            return `${ymd} ${h}:${m}:${s}`;\n        }\n        return null;\n    },\n\n    formatInt: d3.format(',.0f'),\n    formatFloat: d3.format(',.2f'),\n\n    intFormatter: function(node) {\n        return formatInt(node.value);\n    },\n\n    floatFormatter: function(node) {\n        return formatFloat(node.value);\n    },\n\n    compareDates: function(filterLocalDate, cellValue) {\n        // Assume dates are stored as iso\n        const cellDate = new Date(cellValue);\n\n        if (cellDate < filterLocalDate) {\n            return -1;\n        } else if (cellDate > filterLocalDate) {\n            return 1;\n        }\n        return 0;\n    },\n\n    sizeToFit: function(gridOptions) {\n        gridOptions.api.sizeColumnsToFit();\n    },\n\n    autoSizeAll: function(gridOptions) {\n        const allColumnIds = [];\n        gridOptions.columnApi.getAllColumns().forEach(column => {\n            allColumnIds.push(column.colId);\n        });\n        gridOptions.columnApi.autoSizeColumns(allColumnIds);\n    },\n\n    /**\n     * Exporting data to CSV using ag-Grid api.\n     * @param {Object} gridOptions\n     */\n    exportToCsv: function(gridOptions) {\n        const params = {\n            skipHeader: false,\n            columnGroups: true,\n            skipFooters: false,\n            skipGroups: false,\n            skipPinnedTop: false,\n            skipPinnedBottom: false,\n            allColumns: true,\n            onlySelected: false,\n            suppressQuotes: true,\n            fileName: 'my_file.csv',\n            sheetName: 'my_sheet',\n            shouldRowBeSkipped: () => false,\n            processCellCallback: param => param.value,\n            processHeaderCallback: null,\n        };\n        gridOptions.api.exportDataAsCsv(params);\n    },\n\n    /**\n     * Exporting data to Excel using ag-Grid api.\n     * @param {Object} gridOptions\n     */\n    exportToExcel: function(gridOptions) {\n        const params = {\n            skipHeader: false,\n            columnGroups: true,\n            skipFooters: false,\n            skipGroups: false,\n            skipPinnedTop: false,\n            skipPinnedBottom: false,\n            allColumns: true,\n            onlySelected: false,\n            suppressQuotes: true,\n            fileName: 'my_file.xls',\n            sheetName: 'my_sheet',\n            shouldRowBeSkipped: () => false, // TODO : check\n            processCellCallback: param => param.value,\n            processHeaderCallback: null,\n        };\n        gridOptions.api.exportDataAsExcel(params);\n    },\n};\n",
       "columns_fit": "size_to_fit",
       "compress_data": true,
       "export_mode": "disabled",
       "height": "350px",
       "js_helpers": "{\"dateFormatter\":\"function(node) {\\n        // make sure date is not undefined\\n        if (node && node.value) {\\n            let d = new Date(node.value);\\n            let h = d.getHours();\\n            let m = d.getMinutes();\\n            let s = d.getSeconds();\\n            const offset = d.getTimezoneOffset() * 60000;\\n            d = new Date(d.getTime() - offset);\\n            const ymd = d.toISOString().substring(0, 10);\\n            if (h === 0 && m === 0 && s === 0) {\\n                return ymd;\\n            }\\n            if (h === 0) h = '00';\\n            if (m === 0) m = '00';\\n            if (s === 0) s = '00';\\n            return `${ymd} ${h}:${m}:${s}`;\\n        }\\n        return null;\\n    }\",\"formatInt\":\" >-,.0f\",\"formatFloat\":\" >-,.2f\",\"intFormatter\":\"function(node) {\\n        return formatInt(node.value);\\n    }\",\"floatFormatter\":\"function(node) {\\n        return formatFloat(node.value);\\n    }\",\"compareDates\":\"function(filterLocalDate, cellValue) {\\n        // Assume dates are stored as iso\\n        const cellDate = new Date(cellValue);\\n\\n        if (cellDate < filterLocalDate) {\\n            return -1;\\n        } else if (cellDate > filterLocalDate) {\\n            return 1;\\n        }\\n        return 0;\\n    }\",\"sizeToFit\":\"function(gridOptions) {\\n        gridOptions.api.sizeColumnsToFit();\\n    }\",\"autoSizeAll\":\"function(gridOptions) {\\n        const allColumnIds = [];\\n        gridOptions.columnApi.getAllColumns().forEach(column => {\\n            allColumnIds.push(column.colId);\\n        });\\n        gridOptions.columnApi.autoSizeColumns(allColumnIds);\\n    }\",\"exportToCsv\":\"function(gridOptions) {\\n        const params = {\\n            skipHeader: false,\\n            columnGroups: true,\\n            skipFooters: false,\\n            skipGroups: false,\\n            skipPinnedTop: false,\\n            skipPinnedBottom: false,\\n            allColumns: true,\\n            onlySelected: false,\\n            suppressQuotes: true,\\n            fileName: 'my_file.csv',\\n            sheetName: 'my_sheet',\\n            shouldRowBeSkipped: () => false,\\n            processCellCallback: param => param.value,\\n            processHeaderCallback: null,\\n        };\\n        gridOptions.api.exportDataAsCsv(params);\\n    }\",\"exportToExcel\":\"function(gridOptions) {\\n        const params = {\\n            skipHeader: false,\\n            columnGroups: true,\\n            skipFooters: false,\\n            skipGroups: false,\\n            skipPinnedTop: false,\\n            skipPinnedBottom: false,\\n            allColumns: true,\\n            onlySelected: false,\\n            suppressQuotes: true,\\n            fileName: 'my_file.xls',\\n            sheetName: 'my_sheet',\\n            shouldRowBeSkipped: () => false, // TODO : check\\n            processCellCallback: param => param.value,\\n            processHeaderCallback: null,\\n        };\\n        gridOptions.api.exportDataAsExcel(params);\\n    }\"}",
       "layout": "IPY_MODEL_7244efb7725f4eac9b0810448b41a175",
       "menu": {
        "button_div_css": ".flex-button-div-35850473 {\ndisplay: flex;\njustify-content: flex-start;\nalign-items: flex-start;\nalign-content: flex-start;\nflex-flow: row wrap;\n}\n",
        "buttons": [],
        "input_div_css": ".flex-input-div-35850473 {\ndisplay: flex;\njustify-content: flex-start;\nalign-items: baseline;\nalign-content: flex-start;\nflex-flow: row wrap;\n}\n",
        "inputs": [
         {
          "css": ".flex-child-quick-filter-35850473 {\norder: 0;\nalign-self: auto;\nmargin: 5px;\nflex: 0.00 1.00 auto;\nwidth: 150px;\n}\n",
          "name": "Quick Filter"
         }
        ],
        "menu_div_css": ".flex-menu-div-35850473 {\ndisplay: flex;\njustify-content: flex-start;\nalign-items: flex-start;\nalign-content: flex-start;\nflex-flow: row wrap;\n}\n"
       },
       "theme": "ag-theme-balham",
       "width": "100%"
      }
     },
     "5daf639bbb0840dd97559d8f785584fc": {
      "model_module": "@jupyter-widgets/controls",
      "model_module_version": "1.5.0",
      "model_name": "HTMLModel",
      "state": {
       "layout": "IPY_MODEL_764341915c004872bc9de18e896dfbed",
       "style": "IPY_MODEL_8b4792a6c04d4e5a97d0e9423c10ab99",
       "value": "<p>1st section of space name code</p>"
      }
     },
     "5dcdcc7a876249d3ab883c6be8fb8713": {
      "model_module": "@jupyter-widgets/controls",
      "model_module_version": "1.5.0",
      "model_name": "DescriptionStyleModel",
      "state": {
       "description_width": ""
      }
     },
     "5dfcae0268db47d385276396212a8d7b": {
      "model_module": "@jupyter-widgets/base",
      "model_module_version": "1.2.0",
      "model_name": "LayoutModel",
      "state": {}
     },
     "5e186b34e80c404083dcadda1248b31b": {
      "model_module": "@jupyter-widgets/controls",
      "model_module_version": "1.5.0",
      "model_name": "HBoxModel",
      "state": {
       "children": [
        "IPY_MODEL_9ca02e0da7e442d7bf1ba3a320daf25c"
       ],
       "layout": "IPY_MODEL_eb05703aeddc49d9861de5f1f5f5450c"
      }
     },
     "5e4117bd371d4e7595f25204f233599e": {
      "model_module": "@jupyter-widgets/controls",
      "model_module_version": "1.5.0",
      "model_name": "HBoxModel",
      "state": {
       "children": [
        "IPY_MODEL_7a030f4c22134083a6b7ddceb79ef677",
        "IPY_MODEL_684d4887c91447e2bc846e766fa2fa9c"
       ],
       "layout": "IPY_MODEL_8725952fa01d4e7ca990d8dbafe2eaa1"
      }
     },
     "5e431365bfc041ef91111977bacd4135": {
      "model_module": "@jupyter-widgets/controls",
      "model_module_version": "1.5.0",
      "model_name": "VBoxModel",
      "state": {
       "children": [
        "IPY_MODEL_8a094c02d05444509a478c7c3b5aaa06",
        "IPY_MODEL_4b9db4abacf84491b294fb47f093e6fb",
        "IPY_MODEL_b0fd90fa8fa64f059cdadf09243994b8"
       ],
       "layout": "IPY_MODEL_7f880bf6a1354a028f5a50e70655c5e9"
      }
     },
     "5e6519b37a774a13a5b99da32a1618cf": {
      "model_module": "@jupyter-widgets/controls",
      "model_module_version": "1.5.0",
      "model_name": "DescriptionStyleModel",
      "state": {
       "description_width": ""
      }
     },
     "5ecff3c063a046dda856a6745c347cea": {
      "model_module": "@jupyter-widgets/controls",
      "model_module_version": "1.5.0",
      "model_name": "DescriptionStyleModel",
      "state": {
       "description_width": ""
      }
     },
     "5ef4ec6404c54b8f9a57d86b21a7492d": {
      "model_module": "@jupyter-widgets/controls",
      "model_module_version": "1.5.0",
      "model_name": "DescriptionStyleModel",
      "state": {
       "description_width": ""
      }
     },
     "5f070b61e029472b819e1224495b4831": {
      "model_module": "@jupyter-widgets/base",
      "model_module_version": "1.2.0",
      "model_name": "LayoutModel",
      "state": {
       "height": "30px",
       "width": "auto"
      }
     },
     "5f5950ef1b6e43489a709fffeb288974": {
      "model_module": "@jupyter-widgets/base",
      "model_module_version": "1.2.0",
      "model_name": "LayoutModel",
      "state": {}
     },
     "5fa1cd6fa0124e57b7ff023f938577f8": {
      "model_module": "@jupyter-widgets/output",
      "model_module_version": "1.0.0",
      "model_name": "OutputModel",
      "state": {
       "layout": "IPY_MODEL_77c009485de842c99f4d527c699ef9e9"
      }
     },
     "5fdfa6a015d440b892543b057d169834": {
      "model_module": "@jupyter-widgets/controls",
      "model_module_version": "1.5.0",
      "model_name": "HBoxModel",
      "state": {
       "children": [
        "IPY_MODEL_7a9981a93a1e4c3498de22dcef78a932"
       ],
       "layout": "IPY_MODEL_578d994af5a747da8d440ac5c98b621b"
      }
     },
     "601158a432344a7284405191e241c1fa": {
      "model_module": "@jupyter-widgets/base",
      "model_module_version": "1.2.0",
      "model_name": "LayoutModel",
      "state": {
       "align_items": "stretch",
       "border": "dashed 0.2px green",
       "display": "flex",
       "flex_flow": "row",
       "grid_auto_columns": "True",
       "justify_content": "flex-start",
       "width": "100%"
      }
     },
     "60178d5a27c441e6b3346a99f8cef1fb": {
      "model_module": "@jupyter-widgets/controls",
      "model_module_version": "1.5.0",
      "model_name": "ToggleButtonModel",
      "state": {
       "button_style": "success",
       "description": "display/hide files",
       "layout": "IPY_MODEL_b035f8bec8ca482d9e2dcd6a0cca5687",
       "style": "IPY_MODEL_db5f0feff6cb46449f41d584a1cf2ba1",
       "tooltip": "shows and hides display outputs of the files selected in the SelectMultiple dropdown menu"
      }
     },
     "616996379fef4de1afa9df6266294a70": {
      "model_module": "@jupyter-widgets/controls",
      "model_module_version": "1.5.0",
      "model_name": "HBoxModel",
      "state": {
       "children": [
        "IPY_MODEL_456ce28313244450a851dbc24fae3a5a"
       ],
       "layout": "IPY_MODEL_1413880a7ba84d74b578fb05682d9a42"
      }
     },
     "6192941fe0b24d56bb851f975b06e278": {
      "model_module": "@jupyter-widgets/base",
      "model_module_version": "1.2.0",
      "model_name": "LayoutModel",
      "state": {}
     },
     "61adebc1151d468bbbb3d2e551217b31": {
      "model_module": "@jupyter-widgets/controls",
      "model_module_version": "1.5.0",
      "model_name": "HTMLModel",
      "state": {
       "layout": "IPY_MODEL_9a223a7a83ae41438149101e3683e871",
       "style": "IPY_MODEL_51cada25fddf48a2ac2df241f37be0ce",
       "value": "<p>4</p>"
      }
     },
     "61b5036dc64944f9bd82690093c11224": {
      "model_module": "@jupyter-widgets/base",
      "model_module_version": "1.2.0",
      "model_name": "LayoutModel",
      "state": {}
     },
     "61d1310134d44f609d34faf09df6d7ed": {
      "model_module": "@jupyter-widgets/base",
      "model_module_version": "1.2.0",
      "model_name": "LayoutModel",
      "state": {
       "align_items": "stretch",
       "display": "flex",
       "flex_flow": "row",
       "grid_auto_columns": "True",
       "justify_content": "flex-start",
       "width": "80%"
      }
     },
     "6293b656a3b14fe3a5e4fb23c74d48a5": {
      "model_module": "@jupyter-widgets/controls",
      "model_module_version": "1.5.0",
      "model_name": "HBoxModel",
      "state": {
       "children": [
        "IPY_MODEL_7fed9177631b412cb7c0316bbcdfb184",
        "IPY_MODEL_8db19d5720e04d6f887d2f68c01a06ac"
       ],
       "layout": "IPY_MODEL_27dcdfee142d4436a01f2c0db3955b89"
      }
     },
     "632078f4dd0b4b5aa7e13901163c2465": {
      "model_module": "@jupyter-widgets/base",
      "model_module_version": "1.2.0",
      "model_name": "LayoutModel",
      "state": {
       "align_items": "stretch",
       "border": "dashed 0.2px green",
       "display": "flex",
       "flex_flow": "row",
       "grid_auto_columns": "True",
       "justify_content": "flex-start",
       "width": "100%"
      }
     },
     "632ca43054234d6da183212ef36b2af8": {
      "model_module": "@jupyter-widgets/controls",
      "model_module_version": "1.5.0",
      "model_name": "DescriptionStyleModel",
      "state": {
       "description_width": ""
      }
     },
     "63716bef48134793bb5a0dcab1bab466": {
      "model_module": "@jupyter-widgets/base",
      "model_module_version": "1.2.0",
      "model_name": "LayoutModel",
      "state": {}
     },
     "63b71403e162404e8cf97e5c726081d5": {
      "model_module": "@jupyter-widgets/base",
      "model_module_version": "1.2.0",
      "model_name": "LayoutModel",
      "state": {
       "flex_flow": "column",
       "height": "auto",
       "width": "auto"
      }
     },
     "64301d6d23ca4e69848437c4b807fcdf": {
      "model_module": "@jupyter-widgets/controls",
      "model_module_version": "1.5.0",
      "model_name": "DescriptionStyleModel",
      "state": {
       "description_width": ""
      }
     },
     "6487c116be1e4319b51d695a6209c89b": {
      "model_module": "@jupyter-widgets/controls",
      "model_module_version": "1.5.0",
      "model_name": "TextModel",
      "state": {
       "layout": "IPY_MODEL_7214c4e7c6e04a428bd18d64c38bea19",
       "style": "IPY_MODEL_bc6a4fa7bf5f4d99904843dfead8a834",
       "value": "SpaceId"
      }
     },
     "6495af5209f944ba9af362a55384dd35": {
      "model_module": "@jupyter-widgets/output",
      "model_module_version": "1.0.0",
      "model_name": "OutputModel",
      "state": {
       "layout": "IPY_MODEL_294d33d6ab0242708f4cd1b14f11d219"
      }
     },
     "64f2e1cb3756434c8f97eb1559ee0131": {
      "model_module": "@jupyter-widgets/base",
      "model_module_version": "1.2.0",
      "model_name": "LayoutModel",
      "state": {
       "align_items": "stretch",
       "display": "flex",
       "flex_flow": "row",
       "grid_auto_columns": "True",
       "justify_content": "flex-end",
       "width": "90%"
      }
     },
     "659bdc5c69a1466c8455012267104ea0": {
      "model_module": "@jupyter-widgets/controls",
      "model_module_version": "1.5.0",
      "model_name": "HTMLModel",
      "state": {
       "layout": "IPY_MODEL_8f32b54c33dc4d79a5ae4a9e188e1330",
       "style": "IPY_MODEL_e08ef68b4deb4d36aedb16d5148e7088",
       "value": "<p>4th section of space name code (enter None if 4th section doesn't exist)</p>"
      }
     },
     "65e2c109c59e48d29c3fd5e30b110092": {
      "model_module": "@jupyter-widgets/base",
      "model_module_version": "1.2.0",
      "model_name": "LayoutModel",
      "state": {}
     },
     "65e7778aa7e649d1b5b76d06197c8e9b": {
      "model_module": "@jupyter-widgets/base",
      "model_module_version": "1.2.0",
      "model_name": "LayoutModel",
      "state": {}
     },
     "66080e71510c4ad0819d11a39d601aa9": {
      "model_module": "@jupyter-widgets/controls",
      "model_module_version": "1.5.0",
      "model_name": "DescriptionStyleModel",
      "state": {
       "description_width": ""
      }
     },
     "662d5fe7d4dc445495d84297c26b0d17": {
      "model_module": "@jupyter-widgets/controls",
      "model_module_version": "1.5.0",
      "model_name": "DescriptionStyleModel",
      "state": {
       "description_width": ""
      }
     },
     "6668361e4693448eb102c60d3d7d4c42": {
      "model_module": "@jupyter-widgets/controls",
      "model_module_version": "1.5.0",
      "model_name": "HBoxModel",
      "state": {
       "children": [
        "IPY_MODEL_d55e058e5de24187ba675779f30b5cee",
        "IPY_MODEL_6293b656a3b14fe3a5e4fb23c74d48a5"
       ],
       "layout": "IPY_MODEL_c9ee063d96cc4f02aa1779f01a786a22"
      }
     },
     "669cead330fe451b977aa5b4b5b1dd59": {
      "model_module": "@jupyter-widgets/controls",
      "model_module_version": "1.5.0",
      "model_name": "HBoxModel",
      "state": {
       "children": [
        "IPY_MODEL_6df348363b614685a567a427781643a6"
       ],
       "layout": "IPY_MODEL_4f8987c5086548a187a3efe03e87089a"
      }
     },
     "669eb3c47372461d9515c73655c6b531": {
      "model_module": "@jupyter-widgets/base",
      "model_module_version": "1.2.0",
      "model_name": "LayoutModel",
      "state": {}
     },
     "66c39a0ae2694302aee19827fd22f28e": {
      "model_module": "@jupyter-widgets/controls",
      "model_module_version": "1.5.0",
      "model_name": "TextModel",
      "state": {
       "layout": "IPY_MODEL_46b68fb9d6f945d0bda2b14dc94dd927",
       "style": "IPY_MODEL_fc107b5615994755885db86aac3a5a98",
       "value": "Level"
      }
     },
     "66eb460620ae44f4ace6937de77f7841": {
      "model_module": "@jupyter-widgets/controls",
      "model_module_version": "1.5.0",
      "model_name": "CheckboxModel",
      "state": {
       "disabled": false,
       "indent": false,
       "layout": "IPY_MODEL_59a0cf05884941e9adcffe332ee5e082",
       "style": "IPY_MODEL_d7e1e5206a3046a8971c08a314186d41",
       "value": false
      }
     },
     "673de2d1f8814f8aaeebca0f99b95f9d": {
      "model_module": "@jupyter-widgets/controls",
      "model_module_version": "1.5.0",
      "model_name": "HBoxModel",
      "state": {
       "children": [
        "IPY_MODEL_ff94ad602a5c4ac0834090aa3e6d243a"
       ],
       "layout": "IPY_MODEL_1217c4a8cf67405ca7797570fbb11470"
      }
     },
     "67a8851ee55948909370cdd7bdec4451": {
      "model_module": "@jupyter-widgets/base",
      "model_module_version": "1.2.0",
      "model_name": "LayoutModel",
      "state": {}
     },
     "684d4887c91447e2bc846e766fa2fa9c": {
      "model_module": "@jupyter-widgets/controls",
      "model_module_version": "1.5.0",
      "model_name": "HTMLModel",
      "state": {
       "layout": "IPY_MODEL_2ed700b1d4fd4d5bb7583cdbf86ca41f",
       "style": "IPY_MODEL_1ae1a35d6e66450faecf2190f574e5fd",
       "value": "<p>2nd section of space name code</p>"
      }
     },
     "68959c7d3acb40baaca322b226e8c062": {
      "model_module": "@jupyter-widgets/base",
      "model_module_version": "1.2.0",
      "model_name": "LayoutModel",
      "state": {}
     },
     "693058bce46646d5a111249fb1eb50a6": {
      "model_module": "@jupyter-widgets/controls",
      "model_module_version": "1.5.0",
      "model_name": "DescriptionStyleModel",
      "state": {
       "description_width": ""
      }
     },
     "6958c01744f246b8a63f2c461bade2d0": {
      "model_module": "@jupyter-widgets/base",
      "model_module_version": "1.2.0",
      "model_name": "LayoutModel",
      "state": {}
     },
     "6999fafb0e5045fe9b2ac9079f9890e0": {
      "model_module": "@jupyter-widgets/base",
      "model_module_version": "1.2.0",
      "model_name": "LayoutModel",
      "state": {
       "align_items": "stretch",
       "border": "dashed 0.2px green",
       "display": "flex",
       "flex_flow": "row",
       "grid_auto_columns": "True",
       "justify_content": "flex-start",
       "width": "100%"
      }
     },
     "699e4cec5857476b9dc6950c59156e43": {
      "model_module": "@jupyter-widgets/base",
      "model_module_version": "1.2.0",
      "model_name": "LayoutModel",
      "state": {}
     },
     "6a3be84f13534a8e94e48845065bed0f": {
      "model_module": "@jupyter-widgets/controls",
      "model_module_version": "1.5.0",
      "model_name": "HBoxModel",
      "state": {
       "children": [
        "IPY_MODEL_46e184f0eb364bb394db429464033601"
       ],
       "layout": "IPY_MODEL_7298f3ed4dd94e609a9096ac780896d6"
      }
     },
     "6a4ddc27329c41e68b7b24f0605d6865": {
      "model_module": "@jupyter-widgets/controls",
      "model_module_version": "1.5.0",
      "model_name": "HBoxModel",
      "state": {
       "children": [
        "IPY_MODEL_7aa8ae3cdecf499abff731bc84e0ea5a"
       ],
       "layout": "IPY_MODEL_94867470731c4a6791ff37f183e204a3"
      }
     },
     "6a73cc01d1d44b59b37497bcd940118c": {
      "model_module": "@jupyter-widgets/controls",
      "model_module_version": "1.5.0",
      "model_name": "HBoxModel",
      "state": {
       "children": [
        "IPY_MODEL_66eb460620ae44f4ace6937de77f7841",
        "IPY_MODEL_4d6172b6d34e4bdbb76477152560ae56"
       ],
       "layout": "IPY_MODEL_43002e477882467dac91be37d997a816"
      }
     },
     "6a9ff902302c43a8b5d7fb4feb09b9d0": {
      "model_module": "@jupyter-widgets/base",
      "model_module_version": "1.2.0",
      "model_name": "LayoutModel",
      "state": {}
     },
     "6b6a163be82343708765daa7cba94e0f": {
      "model_module": "@jupyter-widgets/base",
      "model_module_version": "1.2.0",
      "model_name": "LayoutModel",
      "state": {}
     },
     "6ba7652a38604585a11f4616937c0109": {
      "model_module": "@jupyter-widgets/output",
      "model_module_version": "1.0.0",
      "model_name": "OutputModel",
      "state": {
       "layout": "IPY_MODEL_dd1a338066a54d398f30c776f2bfad99"
      }
     },
     "6be4d1b7610746e9a0863b33e8058e5a": {
      "model_module": "@jupyter-widgets/base",
      "model_module_version": "1.2.0",
      "model_name": "LayoutModel",
      "state": {
       "align_items": "stretch",
       "border": "dashed 0.2px green",
       "display": "flex",
       "flex_flow": "row",
       "grid_auto_columns": "True",
       "justify_content": "flex-start",
       "width": "100%"
      }
     },
     "6be82c9402a64fa0a8579891ed7f3ae4": {
      "model_module": "@jupyter-widgets/controls",
      "model_module_version": "1.5.0",
      "model_name": "HBoxModel",
      "state": {
       "children": [
        "IPY_MODEL_a343c974657845f594f25c8aef4e435c"
       ],
       "layout": "IPY_MODEL_f7e99a6bdfa24decbc377a6e9acf6756"
      }
     },
     "6c267890352f4addada61be7efb8d473": {
      "model_module": "@jupyter-widgets/base",
      "model_module_version": "1.2.0",
      "model_name": "LayoutModel",
      "state": {}
     },
     "6c3b1a206a1c488c84326feae5733cf7": {
      "model_module": "@jupyter-widgets/base",
      "model_module_version": "1.2.0",
      "model_name": "LayoutModel",
      "state": {
       "align_items": "stretch",
       "border": "dashed 0.2px green",
       "display": "flex",
       "flex_flow": "row",
       "grid_auto_columns": "True",
       "justify_content": "flex-start",
       "width": "100%"
      }
     },
     "6c4c1fee10f94b5eafebb58975cd47a5": {
      "model_module": "@jupyter-widgets/controls",
      "model_module_version": "1.5.0",
      "model_name": "HTMLModel",
      "state": {
       "layout": "IPY_MODEL_2b0402aad2a440f7951c8b113c555c02",
       "style": "IPY_MODEL_2dcb5e543ebd46ba8f067cdeab92fc0b",
       "value": "<p>3</p>"
      }
     },
     "6c7dfa6c8d234d888850971411097224": {
      "model_module": "@jupyter-widgets/controls",
      "model_module_version": "1.5.0",
      "model_name": "VBoxModel",
      "state": {
       "children": [
        "IPY_MODEL_5d119a4213c54b1ebc1735f33b06d7f3",
        "IPY_MODEL_41e34c03d9a045e69d7ce51623a7752c"
       ],
       "layout": "IPY_MODEL_c6c93cd7fb3a4cad8cc21bcdeb7adb0b"
      }
     },
     "6cebf523e06343bb8ebd77f9f9989763": {
      "model_module": "@jupyter-widgets/base",
      "model_module_version": "1.2.0",
      "model_name": "LayoutModel",
      "state": {
       "align_items": "stretch",
       "display": "flex",
       "flex_flow": "row",
       "grid_auto_columns": "True",
       "justify_content": "flex-end",
       "width": "90%"
      }
     },
     "6d1a418834284a489ff5c1676b434259": {
      "model_module": "@jupyter-widgets/base",
      "model_module_version": "1.2.0",
      "model_name": "LayoutModel",
      "state": {}
     },
     "6d69d57555444ad6b8c8a8611a5da9e8": {
      "model_module": "@jupyter-widgets/base",
      "model_module_version": "1.2.0",
      "model_name": "LayoutModel",
      "state": {}
     },
     "6d93e08a4f4045a99660c6654aa9e263": {
      "model_module": "@jupyter-widgets/base",
      "model_module_version": "1.2.0",
      "model_name": "LayoutModel",
      "state": {}
     },
     "6de502f6b6a14d548f7fbf91fa0b7126": {
      "model_module": "@jupyter-widgets/controls",
      "model_module_version": "1.5.0",
      "model_name": "DescriptionStyleModel",
      "state": {
       "description_width": ""
      }
     },
     "6df348363b614685a567a427781643a6": {
      "model_module": "@jupyter-widgets/controls",
      "model_module_version": "1.5.0",
      "model_name": "HBoxModel",
      "state": {
       "children": [
        "IPY_MODEL_ccef28c795154fa2a22d6ccd97369931",
        "IPY_MODEL_127b7be5ebbf4c6a957a0544910c839f"
       ],
       "layout": "IPY_MODEL_cb11436fd3d74caca69ef7496104c9ef"
      }
     },
     "6e28df9ca4b54062bf330e41aa84d049": {
      "model_module": "@jupyter-widgets/controls",
      "model_module_version": "1.5.0",
      "model_name": "HBoxModel",
      "state": {
       "children": [
        "IPY_MODEL_a5fb836747ba479e9318da06e0184767",
        "IPY_MODEL_257914ed0c8e46628dc0734567078fca"
       ],
       "layout": "IPY_MODEL_9cfe4c8e628443e8a3650d180742576e"
      }
     },
     "6e3a29212dda47818f2543719425a25d": {
      "model_module": "@jupyter-widgets/controls",
      "model_module_version": "1.5.0",
      "model_name": "DescriptionStyleModel",
      "state": {
       "description_width": ""
      }
     },
     "6e4ed1e34c054360943e8c5de95e0b4a": {
      "model_module": "@jupyter-widgets/controls",
      "model_module_version": "1.5.0",
      "model_name": "VBoxModel",
      "state": {
       "children": [
        "IPY_MODEL_8517eace46aa4e41a180cb3de67b284c",
        "IPY_MODEL_28f4d88688a14e5da0b26920e74d7994",
        "IPY_MODEL_72d79b9bffa443b29c7e7922ecb42665"
       ],
       "layout": "IPY_MODEL_d151f2d9d99444a7a5fad6c4aee323da"
      }
     },
     "6edab272ba7b439090e8caea8bb86c4d": {
      "model_module": "@jupyter-widgets/controls",
      "model_module_version": "1.5.0",
      "model_name": "TextModel",
      "state": {
       "layout": "IPY_MODEL_85cd08160ee04cc3b9e5efb675294f52",
       "style": "IPY_MODEL_c399739238ef4d6499a5b5fa20bc27b4",
       "value": "Level"
      }
     },
     "6fdfacda57014fd8bf21dbea3cf13de8": {
      "model_module": "@jupyter-widgets/controls",
      "model_module_version": "1.5.0",
      "model_name": "TextModel",
      "state": {
       "layout": "IPY_MODEL_ab1122cd6a7f429e9dc025dd5446383d",
       "style": "IPY_MODEL_cdbad8c00343447fbdc382a333eabacb",
       "value": "SpaceId"
      }
     },
     "700cb12a09cb47aa896d7fb734c5833f": {
      "model_module": "@jupyter-widgets/controls",
      "model_module_version": "1.5.0",
      "model_name": "ButtonModel",
      "state": {
       "description": "load",
       "icon": "upload",
       "layout": "IPY_MODEL_80abc715980842fd9fef54fcf2755197",
       "style": "IPY_MODEL_18f7c7ef2d174184b955ee443371ca58"
      }
     },
     "701f1f40059e4c249b11f9375ce69386": {
      "model_module": "@jupyter-widgets/base",
      "model_module_version": "1.2.0",
      "model_name": "LayoutModel",
      "state": {
       "align_items": "stretch",
       "border": "dashed 0.2px green",
       "display": "flex",
       "flex_flow": "row",
       "grid_auto_columns": "True",
       "justify_content": "flex-start",
       "width": "100%"
      }
     },
     "70739bc095a147a397113bc6426b6f5b": {
      "model_module": "@jupyter-widgets/base",
      "model_module_version": "1.2.0",
      "model_name": "LayoutModel",
      "state": {}
     },
     "707b7588ba34435aa8a8d92163f4665c": {
      "model_module": "@jupyter-widgets/base",
      "model_module_version": "1.2.0",
      "model_name": "LayoutModel",
      "state": {
       "align_items": "stretch",
       "display": "flex",
       "flex_flow": "row",
       "grid_auto_columns": "True",
       "justify_content": "flex-end",
       "width": "90%"
      }
     },
     "70edcd0765f446368cd411861444b3a3": {
      "model_module": "@jupyter-widgets/controls",
      "model_module_version": "1.5.0",
      "model_name": "HTMLModel",
      "state": {
       "layout": "IPY_MODEL_7aecc90857a043fdb40c9d98ba1018d0",
       "style": "IPY_MODEL_acee701aafbf47f78681ab9d743eecda",
       "value": "<p>spc_name_index</p>"
      }
     },
     "714b7c5a30ec431c96220701362ce9c1": {
      "model_module": "@jupyter-widgets/controls",
      "model_module_version": "1.5.0",
      "model_name": "ButtonStyleModel",
      "state": {
       "font_weight": "bold"
      }
     },
     "717e77bfda89428ca240737007d0931b": {
      "model_module": "@jupyter-widgets/controls",
      "model_module_version": "1.5.0",
      "model_name": "DescriptionStyleModel",
      "state": {
       "description_width": ""
      }
     },
     "7183499a94b248b682fa7fb1e16a5b52": {
      "model_module": "@jupyter-widgets/controls",
      "model_module_version": "1.5.0",
      "model_name": "DescriptionStyleModel",
      "state": {
       "description_width": ""
      }
     },
     "71e6cf98c2e942fa9cb266080203e5c3": {
      "model_module": "@jupyter-widgets/controls",
      "model_module_version": "1.5.0",
      "model_name": "DescriptionStyleModel",
      "state": {
       "description_width": ""
      }
     },
     "71fc6d31420546ee8afb5eed7d8e306c": {
      "model_module": "@jupyter-widgets/output",
      "model_module_version": "1.0.0",
      "model_name": "OutputModel",
      "state": {
       "layout": "IPY_MODEL_2eb85bb1d4624fa58f0706600e843bca"
      }
     },
     "7214c4e7c6e04a428bd18d64c38bea19": {
      "model_module": "@jupyter-widgets/base",
      "model_module_version": "1.2.0",
      "model_name": "LayoutModel",
      "state": {}
     },
     "7244efb7725f4eac9b0810448b41a175": {
      "model_module": "@jupyter-widgets/base",
      "model_module_version": "1.2.0",
      "model_name": "LayoutModel",
      "state": {}
     },
     "7298f3ed4dd94e609a9096ac780896d6": {
      "model_module": "@jupyter-widgets/base",
      "model_module_version": "1.2.0",
      "model_name": "LayoutModel",
      "state": {
       "align_items": "stretch",
       "border": "dashed 0.2px green",
       "display": "flex",
       "flex_flow": "row",
       "grid_auto_columns": "True",
       "justify_content": "flex-start",
       "width": "100%"
      }
     },
     "72d3c3cedd5c441e9c05973424295013": {
      "model_module": "@jupyter-widgets/base",
      "model_module_version": "1.2.0",
      "model_name": "LayoutModel",
      "state": {}
     },
     "72d79b9bffa443b29c7e7922ecb42665": {
      "model_module": "@jupyter-widgets/controls",
      "model_module_version": "1.5.0",
      "model_name": "VBoxModel",
      "state": {
       "layout": "IPY_MODEL_2294ee884a574e07b8560247c1a4d9b9"
      }
     },
     "72ec7f154db14d889340ba38f4f1620d": {
      "model_module": "@jupyter-widgets/controls",
      "model_module_version": "1.5.0",
      "model_name": "DescriptionStyleModel",
      "state": {
       "description_width": ""
      }
     },
     "731a00e9b21c41cd943f3d95eefa5b0e": {
      "model_module": "@jupyter-widgets/base",
      "model_module_version": "1.2.0",
      "model_name": "LayoutModel",
      "state": {
       "align_items": "stretch",
       "display": "flex",
       "flex_flow": "row",
       "grid_auto_columns": "True",
       "justify_content": "flex-start",
       "width": "80%"
      }
     },
     "7343a48cdf154865800bee63ecd4549b": {
      "model_module": "@jupyter-widgets/controls",
      "model_module_version": "1.5.0",
      "model_name": "AccordionModel",
      "state": {
       "_titles": {
        "0": "gbxml"
       },
       "children": [
        "IPY_MODEL_574506d806ce4d0ba57d75a444047840"
       ],
       "layout": "IPY_MODEL_110e843c4e2042d19dd314133827bcaf"
      }
     },
     "734bc544b8c44fb4aa0e20c95432e3e6": {
      "model_module": "@jupyter-widgets/base",
      "model_module_version": "1.2.0",
      "model_name": "LayoutModel",
      "state": {}
     },
     "73b51201ea2e48908369b9c9f3fbacf4": {
      "model_module": "@jupyter-widgets/controls",
      "model_module_version": "1.5.0",
      "model_name": "DescriptionStyleModel",
      "state": {
       "description_width": ""
      }
     },
     "73d794ceb1474ccc968b477ce5796166": {
      "model_module": "@jupyter-widgets/base",
      "model_module_version": "1.2.0",
      "model_name": "LayoutModel",
      "state": {
       "width": "5%"
      }
     },
     "74a462c1f0ba4734ad876a3d16ce610c": {
      "model_module": "@jupyter-widgets/controls",
      "model_module_version": "1.5.0",
      "model_name": "HBoxModel",
      "state": {
       "children": [
        "IPY_MODEL_3b0bdef1b66e49eb8eb2bce31062372d",
        "IPY_MODEL_be105c93b1fa4406be7d665d1aea856f",
        "IPY_MODEL_3e9314ecbd904390855eae763c55df76"
       ],
       "layout": "IPY_MODEL_4837e82c4f294730b5ac6cd0b0c2b2c1"
      }
     },
     "75483c0c0fce4a898478c0f2151f61be": {
      "model_module": "@jupyter-widgets/controls",
      "model_module_version": "1.5.0",
      "model_name": "HBoxModel",
      "state": {
       "children": [
        "IPY_MODEL_98c9008811324434be8b53d0bce584b4",
        "IPY_MODEL_58564916c19942bb855c58a01fd35b31"
       ],
       "layout": "IPY_MODEL_61d1310134d44f609d34faf09df6d7ed"
      }
     },
     "75d43012c6194138b85cef67479952a0": {
      "model_module": "@jupyter-widgets/controls",
      "model_module_version": "1.5.0",
      "model_name": "HBoxModel",
      "state": {
       "children": [
        "IPY_MODEL_e467c2d358484b8ba564a9df15685a10",
        "IPY_MODEL_375d4be827814b5482b4897342f6147c"
       ],
       "layout": "IPY_MODEL_b12e0555f17d4a24a9879e560ee08208"
      }
     },
     "75ed9ce96c724430b5febad139b074db": {
      "model_module": "@jupyter-widgets/controls",
      "model_module_version": "1.5.0",
      "model_name": "TextModel",
      "state": {
       "layout": "IPY_MODEL_c043ce2862954a909f288e7493189098",
       "style": "IPY_MODEL_e63fbb45a3494546b79e583bee5bf2a9",
       "value": "SpaceType"
      }
     },
     "761f91399e944f2f8fe15ef4541f9916": {
      "model_module": "@jupyter-widgets/output",
      "model_module_version": "1.0.0",
      "model_name": "OutputModel",
      "state": {
       "layout": "IPY_MODEL_581b81fdbcde44f4a62154d6d8617e1e"
      }
     },
     "7633ddef6fa24021b351f77a4565da0c": {
      "model_module": "@jupyter-widgets/base",
      "model_module_version": "1.2.0",
      "model_name": "LayoutModel",
      "state": {}
     },
     "764341915c004872bc9de18e896dfbed": {
      "model_module": "@jupyter-widgets/base",
      "model_module_version": "1.2.0",
      "model_name": "LayoutModel",
      "state": {}
     },
     "764939fb0f8749659502cc8bd3e905b6": {
      "model_module": "@jupyter-widgets/base",
      "model_module_version": "1.2.0",
      "model_name": "LayoutModel",
      "state": {}
     },
     "764d553a369840ceb717f1e706f8cb94": {
      "model_module": "@jupyter-widgets/controls",
      "model_module_version": "1.5.0",
      "model_name": "TextModel",
      "state": {
       "description": "script",
       "disabled": true,
       "layout": "IPY_MODEL_a70d8a61d0dc47f68ef0da21e7e79baa",
       "style": "IPY_MODEL_af133b076c6d425188ca8052a78869a6",
       "value": "C:\\engDev\\git_mf\\MF_Toolbox\\dev\\mf_scripts\\gbxml.py"
      }
     },
     "76931802af2c4fb9be5df3729d28babc": {
      "model_module": "@jupyter-widgets/base",
      "model_module_version": "1.2.0",
      "model_name": "LayoutModel",
      "state": {}
     },
     "76b147aa5c094a3b85ed90a7c5e5c534": {
      "model_module": "@jupyter-widgets/base",
      "model_module_version": "1.2.0",
      "model_name": "LayoutModel",
      "state": {
       "align_items": "stretch",
       "border": "dashed 0.2px green",
       "display": "flex",
       "flex_flow": "row",
       "grid_auto_columns": "True",
       "justify_content": "flex-start",
       "width": "100%"
      }
     },
     "771a84ef2a794367aea2f580fc44b39e": {
      "model_module": "@jupyter-widgets/controls",
      "model_module_version": "1.5.0",
      "model_name": "HBoxModel",
      "state": {
       "children": [
        "IPY_MODEL_92e87cad18774810b75c7b5e3580fc14"
       ],
       "layout": "IPY_MODEL_5d5b711aa9314383b9d644c12ad294c6"
      }
     },
     "77547d2e60a1459c9693b19958442413": {
      "model_module": "@jupyter-widgets/controls",
      "model_module_version": "1.5.0",
      "model_name": "VBoxModel",
      "state": {
       "children": [
        "IPY_MODEL_74a462c1f0ba4734ad876a3d16ce610c",
        "IPY_MODEL_543e022e35bf4537894b924f66e268ea",
        "IPY_MODEL_abe817f72595494197758c46eb8cb9c2"
       ],
       "layout": "IPY_MODEL_b4e7d11b63f24a39b08e4f94ca57e260"
      }
     },
     "77c009485de842c99f4d527c699ef9e9": {
      "model_module": "@jupyter-widgets/base",
      "model_module_version": "1.2.0",
      "model_name": "LayoutModel",
      "state": {}
     },
     "7829ebecf68244a9b1f614c29cf02e5d": {
      "model_module": "@jupyter-widgets/base",
      "model_module_version": "1.2.0",
      "model_name": "LayoutModel",
      "state": {
       "align_items": "stretch",
       "display": "flex",
       "flex_flow": "row",
       "grid_auto_columns": "True",
       "justify_content": "flex-start",
       "width": "80%"
      }
     },
     "78bb0a55eff442c6ab38e9849caf2ec1": {
      "model_module": "@jupyter-widgets/base",
      "model_module_version": "1.2.0",
      "model_name": "LayoutModel",
      "state": {
       "align_items": "stretch",
       "display": "flex",
       "flex_flow": "row",
       "grid_auto_columns": "True",
       "justify_content": "flex-end",
       "width": "90%"
      }
     },
     "7935a4351cb144dea565ba78799dfc10": {
      "model_module": "@jupyter-widgets/controls",
      "model_module_version": "1.5.0",
      "model_name": "DescriptionStyleModel",
      "state": {
       "description_width": ""
      }
     },
     "79c1541c3f104823bccaa38708f8fc4d": {
      "model_module": "@jupyter-widgets/base",
      "model_module_version": "1.2.0",
      "model_name": "LayoutModel",
      "state": {
       "display": "flex",
       "flex_flow": "row",
       "grid_auto_columns": "False",
       "justify_content": "flex-start",
       "width": "100%"
      }
     },
     "7a030f4c22134083a6b7ddceb79ef677": {
      "model_module": "@jupyter-widgets/controls",
      "model_module_version": "1.5.0",
      "model_name": "TextModel",
      "state": {
       "layout": "IPY_MODEL_23cde4600f8a475aa1f73e1eefb1c4d2",
       "style": "IPY_MODEL_e4feb6888702409c8eddb4b97efc6806",
       "value": "Level"
      }
     },
     "7a0f7288100a42cb834abd6b0529929a": {
      "model_module": "@jupyter-widgets/base",
      "model_module_version": "1.2.0",
      "model_name": "LayoutModel",
      "state": {
       "align_items": "stretch",
       "display": "flex",
       "flex_flow": "row",
       "grid_auto_columns": "True",
       "justify_content": "flex-start",
       "width": "80%"
      }
     },
     "7a17fc6a686a4ed18d7f393639b6a9ed": {
      "model_module": "@jupyter-widgets/controls",
      "model_module_version": "1.5.0",
      "model_name": "HBoxModel",
      "state": {
       "children": [
        "IPY_MODEL_587bc7ff329a41bc9f3c267b10602262"
       ],
       "layout": "IPY_MODEL_c34831b010b84911ab1731bf27891cc4"
      }
     },
     "7a5c73aae82f411692234abb164cd0fb": {
      "model_module": "@jupyter-widgets/base",
      "model_module_version": "1.2.0",
      "model_name": "LayoutModel",
      "state": {}
     },
     "7a9981a93a1e4c3498de22dcef78a932": {
      "model_module": "@jupyter-widgets/controls",
      "model_module_version": "1.5.0",
      "model_name": "HBoxModel",
      "state": {
       "children": [
        "IPY_MODEL_5396c70aa6d3487a8757d1a69b7a186b",
        "IPY_MODEL_1daeed6581d64a79a3abb87d4eaedd0a"
       ],
       "layout": "IPY_MODEL_fc33c1dfc4c24ba2a08cf2977695750b"
      }
     },
     "7aa140c21e7440aab98d81bccfdab5a7": {
      "model_module": "@jupyter-widgets/controls",
      "model_module_version": "1.5.0",
      "model_name": "HBoxModel",
      "state": {
       "children": [
        "IPY_MODEL_d306a37e956b4fffbf7c6839f8ba1f47"
       ],
       "layout": "IPY_MODEL_6be4d1b7610746e9a0863b33e8058e5a"
      }
     },
     "7aa8ae3cdecf499abff731bc84e0ea5a": {
      "model_module": "@jupyter-widgets/controls",
      "model_module_version": "1.5.0",
      "model_name": "HBoxModel",
      "state": {
       "children": [
        "IPY_MODEL_a2a3beb75a3c4c03ae507983fa612b5e",
        "IPY_MODEL_992af1d2ef59460dafe6a180a4681708"
       ],
       "layout": "IPY_MODEL_df6a917ae0a946ae954bb0d3abad320e"
      }
     },
     "7aabf98f0099463ca31ca1cb395d767f": {
      "model_module": "@jupyter-widgets/base",
      "model_module_version": "1.2.0",
      "model_name": "LayoutModel",
      "state": {
       "align_items": "stretch",
       "display": "flex",
       "flex_flow": "row",
       "grid_auto_columns": "True",
       "justify_content": "flex-start",
       "width": "80%"
      }
     },
     "7ad0029cc55c4d3e9b682fed182b4b82": {
      "model_module": "@jupyter-widgets/output",
      "model_module_version": "1.0.0",
      "model_name": "OutputModel",
      "state": {
       "layout": "IPY_MODEL_24f9090db0cd45e29fe6d52f491ed905"
      }
     },
     "7ae1ee848e19455687bafc4167dbace7": {
      "model_module": "@jupyter-widgets/controls",
      "model_module_version": "1.5.0",
      "model_name": "HBoxModel",
      "state": {
       "children": [
        "IPY_MODEL_183f7de82fc14953acf1ea657ce7441c"
       ],
       "layout": "IPY_MODEL_6999fafb0e5045fe9b2ac9079f9890e0"
      }
     },
     "7aecc90857a043fdb40c9d98ba1018d0": {
      "model_module": "@jupyter-widgets/base",
      "model_module_version": "1.2.0",
      "model_name": "LayoutModel",
      "state": {}
     },
     "7af60b7beed64121b9e362aa7c304749": {
      "model_module": "@jupyter-widgets/base",
      "model_module_version": "1.2.0",
      "model_name": "LayoutModel",
      "state": {}
     },
     "7afc646dbfbd49e592714c9d447f7ccd": {
      "model_module": "@jupyter-widgets/controls",
      "model_module_version": "1.5.0",
      "model_name": "SelectMultipleModel",
      "state": {
       "_options_labels": [
        "gbxml.xml",
        "gbjson.json",
        "gbxml_datagrab.xlsx",
        "gbxml_spcs-treemap.png"
       ],
       "index": [
        1
       ],
       "layout": "IPY_MODEL_2b06f639c77a42b7a32f4c78b4d691bd",
       "rows": 5,
       "style": "IPY_MODEL_693058bce46646d5a111249fb1eb50a6"
      }
     },
     "7b77e4474b76431b85392d673b022378": {
      "model_module": "@jupyter-widgets/base",
      "model_module_version": "1.2.0",
      "model_name": "LayoutModel",
      "state": {}
     },
     "7be44a43199141909003b1081ab1feef": {
      "model_module": "@jupyter-widgets/controls",
      "model_module_version": "1.5.0",
      "model_name": "HTMLModel",
      "state": {
       "layout": "IPY_MODEL_38d8f81a7239423499e5b9531702c3d8",
       "style": "IPY_MODEL_0eea7cc98d1a464991d8a0e0dcf2943a",
       "value": "<p>1st section of space name code</p>"
      }
     },
     "7c268d7250554dcaa44033e47e399238": {
      "model_module": "@jupyter-widgets/controls",
      "model_module_version": "1.5.0",
      "model_name": "DescriptionStyleModel",
      "state": {
       "description_width": ""
      }
     },
     "7c6bcd347e8442adbf4bc98a5511e8d8": {
      "model_module": "@jupyter-widgets/base",
      "model_module_version": "1.2.0",
      "model_name": "LayoutModel",
      "state": {}
     },
     "7caeb22e0f1c4fb59824f1ac2b2b7e45": {
      "model_module": "@jupyter-widgets/controls",
      "model_module_version": "1.5.0",
      "model_name": "DescriptionStyleModel",
      "state": {
       "description_width": ""
      }
     },
     "7cd8de368576400d8e4dcc500ada9416": {
      "model_module": "@jupyter-widgets/base",
      "model_module_version": "1.2.0",
      "model_name": "LayoutModel",
      "state": {
       "align_items": "stretch",
       "display": "flex",
       "flex_flow": "row",
       "grid_auto_columns": "True",
       "justify_content": "flex-start",
       "width": "80%"
      }
     },
     "7cde0f623a6c457a8ee5d8d9921088c6": {
      "model_module": "@jupyter-widgets/base",
      "model_module_version": "1.2.0",
      "model_name": "LayoutModel",
      "state": {}
     },
     "7deb04c015454ae9ae37249c2a6f41fd": {
      "model_module": "@jupyter-widgets/controls",
      "model_module_version": "1.5.0",
      "model_name": "HBoxModel",
      "state": {
       "children": [
        "IPY_MODEL_6668361e4693448eb102c60d3d7d4c42"
       ],
       "layout": "IPY_MODEL_3e9fa005da1940baa1ea4d3dc3e4a627"
      }
     },
     "7e551d2f427c494d977e7a14a5ba173a": {
      "model_module": "@jupyter-widgets/controls",
      "model_module_version": "1.5.0",
      "model_name": "HBoxModel",
      "state": {
       "children": [
        "IPY_MODEL_cbef3fe9daf240239605b441883919d5",
        "IPY_MODEL_5daf639bbb0840dd97559d8f785584fc"
       ],
       "layout": "IPY_MODEL_e7e2a3c158e340088425ba616f54419e"
      }
     },
     "7ed4f5a5c38146bd87377f428c206731": {
      "model_module": "@jupyter-widgets/controls",
      "model_module_version": "1.5.0",
      "model_name": "DescriptionStyleModel",
      "state": {
       "description_width": ""
      }
     },
     "7edfddd19fc0444aa8c8277b33fa3fda": {
      "model_module": "@jupyter-widgets/controls",
      "model_module_version": "1.5.0",
      "model_name": "DescriptionStyleModel",
      "state": {
       "description_width": ""
      }
     },
     "7f6dc193a9254617a7ee27adcab81ab8": {
      "model_module": "@jupyter-widgets/base",
      "model_module_version": "1.2.0",
      "model_name": "LayoutModel",
      "state": {}
     },
     "7f880bf6a1354a028f5a50e70655c5e9": {
      "model_module": "@jupyter-widgets/base",
      "model_module_version": "1.2.0",
      "model_name": "LayoutModel",
      "state": {}
     },
     "7fed9177631b412cb7c0316bbcdfb184": {
      "model_module": "@jupyter-widgets/controls",
      "model_module_version": "1.5.0",
      "model_name": "TextModel",
      "state": {
       "layout": "IPY_MODEL_06f3bfda7a4e4e7fad7eb44bdb407d76",
       "style": "IPY_MODEL_eecf65acfa99496cb021c85f843bc2c3",
       "value": "TM46Category"
      }
     },
     "7ffdf73c815241d2ae68150403489aa4": {
      "model_module": "@jupyter-widgets/base",
      "model_module_version": "1.2.0",
      "model_name": "LayoutModel",
      "state": {}
     },
     "80004761c17045e7a5291f411d82acc2": {
      "model_module": "@jupyter-widgets/controls",
      "model_module_version": "1.5.0",
      "model_name": "HTMLModel",
      "state": {
       "layout": "IPY_MODEL_f1d2d4252d4145409663743b65955c49",
       "style": "IPY_MODEL_ccb28eed3ba8419baced6936b15ad382",
       "value": "<p>4th section of space name code (enter None if 4th section doesn't exist)</p>"
      }
     },
     "8020f5131f624dd69da30d33dc7e7060": {
      "model_module": "@jupyter-widgets/controls",
      "model_module_version": "1.5.0",
      "model_name": "HTMLModel",
      "state": {
       "layout": "IPY_MODEL_9e8b0c28d3ec4ad0bdb8762784860e29",
       "style": "IPY_MODEL_8ca3754bf88149d1a296bcb1d18dd41d",
       "value": "<p>5th section of space name code (enter None if 5th section doesn't exist)</p>"
      }
     },
     "809c7fefec4e48f0acea9962719ae23c": {
      "model_module": "@jupyter-widgets/controls",
      "model_module_version": "1.5.0",
      "model_name": "HTMLModel",
      "state": {
       "layout": "IPY_MODEL_9e583634b8b44cfc8a60aacec647143c",
       "style": "IPY_MODEL_0d45cd63c8774e21a25de90abd14dabe",
       "value": "<p>1st section of space name code</p>"
      }
     },
     "80abc715980842fd9fef54fcf2755197": {
      "model_module": "@jupyter-widgets/base",
      "model_module_version": "1.2.0",
      "model_name": "LayoutModel",
      "state": {}
     },
     "80bbac98fb18437d943692e10d821d06": {
      "model_module": "@jupyter-widgets/controls",
      "model_module_version": "1.5.0",
      "model_name": "DescriptionStyleModel",
      "state": {
       "description_width": ""
      }
     },
     "80be34e6f6374b7787f53fe40f690e90": {
      "model_module": "@jupyter-widgets/base",
      "model_module_version": "1.2.0",
      "model_name": "LayoutModel",
      "state": {}
     },
     "80cdba3573b647698c66ee53b06819f9": {
      "model_module": "@jupyter-widgets/base",
      "model_module_version": "1.2.0",
      "model_name": "LayoutModel",
      "state": {
       "align_items": "stretch",
       "display": "flex",
       "flex_flow": "row",
       "grid_auto_columns": "True",
       "justify_content": "flex-end",
       "width": "90%"
      }
     },
     "8100b94cd85a4d1483f64d6eb2b1b830": {
      "model_module": "@jupyter-widgets/controls",
      "model_module_version": "1.5.0",
      "model_name": "DescriptionStyleModel",
      "state": {
       "description_width": ""
      }
     },
     "8204152752a04a409574168156133652": {
      "model_module": "@jupyter-widgets/controls",
      "model_module_version": "1.5.0",
      "model_name": "HBoxModel",
      "state": {
       "children": [
        "IPY_MODEL_23726091a21d4f13a726acdc16c6ba55",
        "IPY_MODEL_8020f5131f624dd69da30d33dc7e7060"
       ],
       "layout": "IPY_MODEL_7cd8de368576400d8e4dcc500ada9416"
      }
     },
     "825116bdde4747b295d5f62fe8fd3edb": {
      "model_module": "@jupyter-widgets/output",
      "model_module_version": "1.0.0",
      "model_name": "OutputModel",
      "state": {
       "layout": "IPY_MODEL_9f19f43b113c43e59a99d5748b3fc6ef"
      }
     },
     "82766d1ca9a74a859d1e0b60b785cb17": {
      "model_module": "@jupyter-widgets/controls",
      "model_module_version": "1.5.0",
      "model_name": "VBoxModel",
      "state": {
       "children": [
        "IPY_MODEL_a85f6a0270e64b728739618c76779eca",
        "IPY_MODEL_ded69366dc2947e0be0dfe2234e040ea",
        "IPY_MODEL_4ac1a72a8b104758809e3cfa1f1fdf13"
       ],
       "layout": "IPY_MODEL_d00bd2ae9a544aa091c22d1aa3275ad9"
      }
     },
     "82f82b9fda024422a1c4bcb655da8c49": {
      "model_module": "@jupyter-widgets/base",
      "model_module_version": "1.2.0",
      "model_name": "LayoutModel",
      "state": {}
     },
     "83bc225eeedf4ab8ad096586f9612ad5": {
      "model_module": "@jupyter-widgets/base",
      "model_module_version": "1.2.0",
      "model_name": "LayoutModel",
      "state": {}
     },
     "83cd8b68a8bd41fbbebf330c8ab030f4": {
      "model_module": "@jupyter-widgets/base",
      "model_module_version": "1.2.0",
      "model_name": "LayoutModel",
      "state": {
       "align_items": "stretch",
       "display": "flex",
       "flex_flow": "row",
       "grid_auto_columns": "True",
       "justify_content": "flex-end",
       "width": "90%"
      }
     },
     "845cf4dd4f094aa8b3ddf20080e3562b": {
      "model_module": "@jupyter-widgets/base",
      "model_module_version": "1.2.0",
      "model_name": "LayoutModel",
      "state": {}
     },
     "8467d2379aa0410aa77e186d8a4b2de3": {
      "model_module": "@jupyter-widgets/controls",
      "model_module_version": "1.5.0",
      "model_name": "DescriptionStyleModel",
      "state": {
       "description_width": ""
      }
     },
     "846d32697ff144c29e9e26f8350ff2a4": {
      "model_module": "@jupyter-widgets/controls",
      "model_module_version": "1.5.0",
      "model_name": "ButtonStyleModel",
      "state": {
       "font_weight": "bold"
      }
     },
     "848dfa30867d4c048843390479cf64a8": {
      "model_module": "@jupyter-widgets/base",
      "model_module_version": "1.2.0",
      "model_name": "LayoutModel",
      "state": {}
     },
     "84f36fb7e53e40108acbb04f738091f1": {
      "model_module": "@jupyter-widgets/controls",
      "model_module_version": "1.5.0",
      "model_name": "HBoxModel",
      "state": {
       "children": [
        "IPY_MODEL_e3d4325aaa4e4232a01260fa27cb590c"
       ],
       "layout": "IPY_MODEL_e5ad773378854081920d0fe6b97b13fb"
      }
     },
     "8517eace46aa4e41a180cb3de67b284c": {
      "model_module": "@jupyter-widgets/controls",
      "model_module_version": "1.5.0",
      "model_name": "HBoxModel",
      "state": {
       "children": [
        "IPY_MODEL_f10dedf62d3c4946b1faed74686b7990",
        "IPY_MODEL_9e52a835258b44fc873e833b7fe4f585",
        "IPY_MODEL_fbe8df8d84a447ea8dfe51522a930933"
       ],
       "layout": "IPY_MODEL_bb1178cc86c641279ac7c6c55138e2b3"
      }
     },
     "851e4ba347cf4c1bb4c0f499bd284fbd": {
      "model_module": "@jupyter-widgets/controls",
      "model_module_version": "1.5.0",
      "model_name": "DescriptionStyleModel",
      "state": {
       "description_width": ""
      }
     },
     "853ba8fb4c88415eb811801d93881bfe": {
      "model_module": "@jupyter-widgets/controls",
      "model_module_version": "1.5.0",
      "model_name": "HTMLModel",
      "state": {
       "layout": "IPY_MODEL_b4ee46033afa4cc1aebc3021e09c15ad",
       "style": "IPY_MODEL_3c4eba4fa73341749aef6214af899bb1",
       "value": "<p>2</p>"
      }
     },
     "8550658ba3d846f4be64d012960173e7": {
      "model_module": "@jupyter-widgets/controls",
      "model_module_version": "1.5.0",
      "model_name": "TextModel",
      "state": {
       "layout": "IPY_MODEL_48e1f3fb62424df5b50402c0c31c1766",
       "style": "IPY_MODEL_3c930bdc78ec4b85a1511b381464b0b7",
       "value": "SpaceId"
      }
     },
     "857481f938124bb0b8b210b42f1f87a2": {
      "model_module": "@jupyter-widgets/base",
      "model_module_version": "1.2.0",
      "model_name": "LayoutModel",
      "state": {}
     },
     "85cd08160ee04cc3b9e5efb675294f52": {
      "model_module": "@jupyter-widgets/base",
      "model_module_version": "1.2.0",
      "model_name": "LayoutModel",
      "state": {}
     },
     "86e63c999b77430c8e4dcf6aff4619d4": {
      "model_module": "@jupyter-widgets/controls",
      "model_module_version": "1.5.0",
      "model_name": "DescriptionStyleModel",
      "state": {
       "description_width": ""
      }
     },
     "8715db4d0750446bb143002376d7caa2": {
      "model_module": "@jupyter-widgets/base",
      "model_module_version": "1.2.0",
      "model_name": "LayoutModel",
      "state": {}
     },
     "8725952fa01d4e7ca990d8dbafe2eaa1": {
      "model_module": "@jupyter-widgets/base",
      "model_module_version": "1.2.0",
      "model_name": "LayoutModel",
      "state": {
       "align_items": "stretch",
       "display": "flex",
       "flex_flow": "row",
       "grid_auto_columns": "True",
       "justify_content": "flex-start",
       "width": "80%"
      }
     },
     "873585df8c8c478b8c603723f5dc3f44": {
      "model_module": "@jupyter-widgets/controls",
      "model_module_version": "1.5.0",
      "model_name": "HBoxModel",
      "state": {
       "children": [
        "IPY_MODEL_47799f1bb3fd46d0a550eaf48e8b096a",
        "IPY_MODEL_55d2441a5705414a9e6e79a9ea4ec55b"
       ],
       "layout": "IPY_MODEL_0ef4c35d73144c73897e1abcb163ab2f"
      }
     },
     "877e0919187e4291b4ae8e4b25a4fe41": {
      "model_module": "@jupyter-widgets/controls",
      "model_module_version": "1.5.0",
      "model_name": "HTMLModel",
      "state": {
       "layout": "IPY_MODEL_98978a00a5b94a24a6d3d7475f3c2273",
       "style": "IPY_MODEL_dbc9d7d738254a03a347feb26ea319f0",
       "value": "<p>spc_name_index</p>"
      }
     },
     "87a7c1c209fe440f8ac4f89c91177b35": {
      "model_module": "@jupyter-widgets/base",
      "model_module_version": "1.2.0",
      "model_name": "LayoutModel",
      "state": {
       "align_items": "stretch",
       "display": "flex",
       "flex_flow": "row",
       "grid_auto_columns": "True",
       "justify_content": "flex-end",
       "width": "90%"
      }
     },
     "87f82395a292493ba1748a1500e442f2": {
      "model_module": "@jupyter-widgets/controls",
      "model_module_version": "1.5.0",
      "model_name": "DescriptionStyleModel",
      "state": {
       "description_width": ""
      }
     },
     "880d5935c6a44c64bd1fde9e9ae81b59": {
      "model_module": "@jupyter-widgets/output",
      "model_module_version": "1.0.0",
      "model_name": "OutputModel",
      "state": {
       "layout": "IPY_MODEL_ae1c8a40b7574e5497da43bff2fc67c6"
      }
     },
     "88695982998745aab4ceb93bd749bbce": {
      "model_module": "@jupyter-widgets/base",
      "model_module_version": "1.2.0",
      "model_name": "LayoutModel",
      "state": {
       "align_items": "stretch",
       "display": "flex",
       "flex_flow": "row",
       "grid_auto_columns": "True",
       "justify_content": "flex-start",
       "width": "80%"
      }
     },
     "887cd99bc6c9455eba23b8b943d649fe": {
      "model_module": "@jupyter-widgets/output",
      "model_module_version": "1.0.0",
      "model_name": "OutputModel",
      "state": {
       "layout": "IPY_MODEL_61b5036dc64944f9bd82690093c11224",
       "outputs": [
        {
         "data": {
          "text/markdown": "#### gbxml_datagrab",
          "text/plain": "<IPython.core.display.Markdown object>"
         },
         "metadata": {},
         "output_type": "display_data"
        },
        {
         "data": {
          "text/markdown": "`C:\\engDev\\git_mf\\ipyrun\\examples\\data\\processed\\gbxml_datagrab.xlsx`",
          "text/plain": "<IPython.core.display.Markdown object>"
         },
         "metadata": {},
         "output_type": "display_data"
        },
        {
         "data": {
          "text/markdown": "### gbxml_spcs",
          "text/plain": "<IPython.core.display.Markdown object>"
         },
         "metadata": {},
         "output_type": "display_data"
        },
        {
         "data": {
          "text/markdown": "data grab of spaces from the gbxml model",
          "text/plain": "<IPython.core.display.Markdown object>"
         },
         "metadata": {},
         "output_type": "display_data"
        },
        {
         "data": {
          "application/vnd.jupyter.widget-view+json": {
           "model_id": "2a66941298d847f8b84c21b4a6a3bef8",
           "version_major": 2,
           "version_minor": 0
          },
          "text/plain": "Grid(columns_fit='size_to_fit', compress_data=True, export_mode='disabled', height='350px', menu={'buttons': […"
         },
         "metadata": {},
         "output_type": "display_data"
        },
        {
         "data": {
          "text/markdown": "### gbxml_fabric",
          "text/plain": "<IPython.core.display.Markdown object>"
         },
         "metadata": {},
         "output_type": "display_data"
        },
        {
         "data": {
          "text/markdown": "data grab of constructions from the gbxml model",
          "text/plain": "<IPython.core.display.Markdown object>"
         },
         "metadata": {},
         "output_type": "display_data"
        },
        {
         "data": {
          "application/vnd.jupyter.widget-view+json": {
           "model_id": "e34717b19123476ab9096f2fefba8ff0",
           "version_major": 2,
           "version_minor": 0
          },
          "text/plain": "Grid(columns_fit='size_to_fit', compress_data=True, export_mode='disabled', height='350px', menu={'buttons': […"
         },
         "metadata": {},
         "output_type": "display_data"
        },
        {
         "data": {
          "text/markdown": "### gbxml_fabric-summ",
          "text/plain": "<IPython.core.display.Markdown object>"
         },
         "metadata": {},
         "output_type": "display_data"
        },
        {
         "data": {
          "text/markdown": "a summary of fabric from the gbxml model",
          "text/plain": "<IPython.core.display.Markdown object>"
         },
         "metadata": {},
         "output_type": "display_data"
        },
        {
         "data": {
          "application/vnd.jupyter.widget-view+json": {
           "model_id": "5d9969a8557f44f09fafcb727c52d8bf",
           "version_major": 2,
           "version_minor": 0
          },
          "text/plain": "Grid(columns_fit='size_to_fit', compress_data=True, export_mode='disabled', height='350px', menu={'buttons': […"
         },
         "metadata": {},
         "output_type": "display_data"
        }
       ]
      }
     },
     "8895a050c01a4f51bca5b90a0dfaa53b": {
      "model_module": "@jupyter-widgets/controls",
      "model_module_version": "1.5.0",
      "model_name": "DescriptionStyleModel",
      "state": {
       "description_width": ""
      }
     },
     "89ba1ba287f74b2595ae6db28c4123bc": {
      "model_module": "@jupyter-widgets/base",
      "model_module_version": "1.2.0",
      "model_name": "LayoutModel",
      "state": {
       "align_items": "stretch",
       "display": "flex",
       "flex_flow": "row",
       "grid_auto_columns": "True",
       "justify_content": "flex-end",
       "width": "90%"
      }
     },
     "8a094c02d05444509a478c7c3b5aaa06": {
      "model_module": "@jupyter-widgets/controls",
      "model_module_version": "1.5.0",
      "model_name": "HBoxModel",
      "state": {
       "children": [
        "IPY_MODEL_50c06b53381549ec8f503ccb30723ff3",
        "IPY_MODEL_8f6300b9fa7b4841a6fe303a3070b2a2",
        "IPY_MODEL_96e3422c1241460d9c8f7d89e475d7f0"
       ],
       "layout": "IPY_MODEL_fd120311fb0f424984b76ef92a954cb5"
      }
     },
     "8a2ed0544f984273b46918aff586ccb4": {
      "model_module": "@jupyter-widgets/base",
      "model_module_version": "1.2.0",
      "model_name": "LayoutModel",
      "state": {
       "align_items": "stretch",
       "display": "flex",
       "flex_flow": "row",
       "grid_auto_columns": "True",
       "justify_content": "flex-start",
       "width": "80%"
      }
     },
     "8a5d8ef9a6dd43da972dff1ff285512a": {
      "model_module": "@jupyter-widgets/base",
      "model_module_version": "1.2.0",
      "model_name": "LayoutModel",
      "state": {}
     },
     "8a7106b4f37d40a2962950260fbc4ff9": {
      "model_module": "@jupyter-widgets/base",
      "model_module_version": "1.2.0",
      "model_name": "LayoutModel",
      "state": {}
     },
     "8a9b57a102ca4f33b3a4163ff18d9ab2": {
      "model_module": "@jupyter-widgets/controls",
      "model_module_version": "1.5.0",
      "model_name": "ButtonStyleModel",
      "state": {
       "font_weight": "bold"
      }
     },
     "8b2c5f2154e94b1aa333546fd630c1ca": {
      "model_module": "@jupyter-widgets/base",
      "model_module_version": "1.2.0",
      "model_name": "LayoutModel",
      "state": {
       "align_items": "stretch",
       "display": "flex",
       "flex_flow": "row",
       "grid_auto_columns": "True",
       "justify_content": "flex-start",
       "width": "80%"
      }
     },
     "8b4792a6c04d4e5a97d0e9423c10ab99": {
      "model_module": "@jupyter-widgets/controls",
      "model_module_version": "1.5.0",
      "model_name": "DescriptionStyleModel",
      "state": {
       "description_width": ""
      }
     },
     "8b5beb81e4ec4e29bc65111687ca2fff": {
      "model_module": "@jupyter-widgets/controls",
      "model_module_version": "1.5.0",
      "model_name": "VBoxModel",
      "state": {
       "children": [
        "IPY_MODEL_564aa38be94b491cbc34116aeef2806b",
        "IPY_MODEL_e73bc84a91c14b7cbbd60af0b5ba31bc"
       ],
       "layout": "IPY_MODEL_b6ba774d194448b9b883b138f13a5765"
      }
     },
     "8b5e548b3f784cd1ba4bf2382037ab4b": {
      "model_module": "@jupyter-widgets/controls",
      "model_module_version": "1.5.0",
      "model_name": "HBoxModel",
      "state": {
       "children": [
        "IPY_MODEL_fbd99ead64ce4127b25a633618c7993b",
        "IPY_MODEL_ae922ee76f1a401bb0354f6c2e49747c"
       ],
       "layout": "IPY_MODEL_aa68d45ae4d34148bc1338b4e90dc392"
      }
     },
     "8bf3dc1de54d47ff83fd363673a414b4": {
      "model_module": "@jupyter-widgets/controls",
      "model_module_version": "1.5.0",
      "model_name": "DescriptionStyleModel",
      "state": {
       "description_width": ""
      }
     },
     "8c5dcb654c8e42279488d64cf00dbcf5": {
      "model_module": "@jupyter-widgets/base",
      "model_module_version": "1.2.0",
      "model_name": "LayoutModel",
      "state": {
       "align_items": "stretch",
       "display": "flex",
       "flex_flow": "row",
       "grid_auto_columns": "True",
       "justify_content": "flex-end",
       "width": "90%"
      }
     },
     "8c772c06f032438daebaaafe1b3c62cd": {
      "model_module": "@jupyter-widgets/controls",
      "model_module_version": "1.5.0",
      "model_name": "VBoxModel",
      "state": {
       "children": [
        "IPY_MODEL_2927e671a6d74069a797600181f61c9c",
        "IPY_MODEL_7a17fc6a686a4ed18d7f393639b6a9ed",
        "IPY_MODEL_907cb11eeecc4373b92936a638600293",
        "IPY_MODEL_9dd2dd9e206a4fda9be722b2567295e0",
        "IPY_MODEL_b7788f098f0e4db9aeec5bbadf472b92"
       ],
       "layout": "IPY_MODEL_c336cc3e3d8b4a64953599c727af6457"
      }
     },
     "8ca3754bf88149d1a296bcb1d18dd41d": {
      "model_module": "@jupyter-widgets/controls",
      "model_module_version": "1.5.0",
      "model_name": "DescriptionStyleModel",
      "state": {
       "description_width": ""
      }
     },
     "8ca97cd049ea46b8affc73f74c1e038c": {
      "model_module": "@jupyter-widgets/controls",
      "model_module_version": "1.5.0",
      "model_name": "HTMLModel",
      "state": {
       "layout": "IPY_MODEL_4a21f2257dd346e6a95004af03b9d2ba",
       "style": "IPY_MODEL_19745ed95df341d081860a02e2606a52",
       "value": "<p>2nd section of space name code</p>"
      }
     },
     "8caeee5d06db4585aaaf46e5775fcfec": {
      "model_module": "@jupyter-widgets/controls",
      "model_module_version": "1.5.0",
      "model_name": "HTMLModel",
      "state": {
       "layout": "IPY_MODEL_f9043c4981fd4d8ea0883350c692e1e6",
       "style": "IPY_MODEL_e068e0f789024c5bad57a407757d8570",
       "value": "<p>4</p>"
      }
     },
     "8cbf887a6f2b4e6194056a1eb609ca62": {
      "model_module": "@jupyter-widgets/base",
      "model_module_version": "1.2.0",
      "model_name": "LayoutModel",
      "state": {}
     },
     "8d18c9c63bae44bca6187c140390bd5d": {
      "model_module": "@jupyter-widgets/base",
      "model_module_version": "1.2.0",
      "model_name": "LayoutModel",
      "state": {
       "align_items": "stretch",
       "display": "flex",
       "flex_flow": "row",
       "grid_auto_columns": "True",
       "justify_content": "flex-start",
       "width": "80%"
      }
     },
     "8d3037f0542345929448fefd71ba4c7d": {
      "model_module": "@jupyter-widgets/controls",
      "model_module_version": "1.5.0",
      "model_name": "DescriptionStyleModel",
      "state": {
       "description_width": ""
      }
     },
     "8d6efc5d2ec34154b02e4003c4b7964e": {
      "model_module": "@jupyter-widgets/controls",
      "model_module_version": "1.5.0",
      "model_name": "HTMLModel",
      "state": {
       "layout": "IPY_MODEL_0076dbfa8c354ac0830a3fe8c1340d73",
       "style": "IPY_MODEL_717e77bfda89428ca240737007d0931b",
       "value": "<p>5th section of space name code (enter None if 5th section doesn't exist)</p>"
      }
     },
     "8d7708f9400d44458152444c02d80473": {
      "model_module": "@jupyter-widgets/controls",
      "model_module_version": "1.5.0",
      "model_name": "HBoxModel",
      "state": {
       "children": [
        "IPY_MODEL_89be79d439bf412299fae0dcbeb7d931",
        "IPY_MODEL_f74b420ae72541909a412035a7e32003",
        "IPY_MODEL_f6d7cc5cba6947b6926077beff56c3da",
        "IPY_MODEL_fac82bdd8b4846ab82251617133d45cf",
        "IPY_MODEL_0087c667579047c788eaf958f8f6e941",
        "IPY_MODEL_4ec7dee308514565804dbe1575e91d43",
        "IPY_MODEL_112a7332ba3643198bee3d8cd0c33ef2"
       ],
       "layout": "IPY_MODEL_3503e01dbcba48ee8093a3dbc032e4ed"
      }
     },
     "8d953b5d398746e1b86cb0c433769b6a": {
      "model_module": "@jupyter-widgets/controls",
      "model_module_version": "1.5.0",
      "model_name": "HBoxModel",
      "state": {
       "children": [
        "IPY_MODEL_b80e98b442c34bb2ba4a787fafde6837",
        "IPY_MODEL_7be44a43199141909003b1081ab1feef"
       ],
       "layout": "IPY_MODEL_88695982998745aab4ceb93bd749bbce"
      }
     },
     "8db19d5720e04d6f887d2f68c01a06ac": {
      "model_module": "@jupyter-widgets/controls",
      "model_module_version": "1.5.0",
      "model_name": "HTMLModel",
      "state": {
       "layout": "IPY_MODEL_bf368e14265c4b909db3f19057163d72",
       "style": "IPY_MODEL_faaeb383209d451d9bc305372ae9e850",
       "value": "<p>3rd section of space name code (enter None if 3rd section doesn't exist)</p>"
      }
     },
     "8dde6b9d0ac84ab7bacd607ecfb7732e": {
      "model_module": "@jupyter-widgets/controls",
      "model_module_version": "1.5.0",
      "model_name": "TextModel",
      "state": {
       "layout": "IPY_MODEL_65e7778aa7e649d1b5b76d06197c8e9b",
       "style": "IPY_MODEL_ca49e9edfac34bab8ee67e38990efa37",
       "value": "TM46Category"
      }
     },
     "8df935d2f931409b9c5bcb80894d902e": {
      "model_module": "@jupyter-widgets/controls",
      "model_module_version": "1.5.0",
      "model_name": "TextModel",
      "state": {
       "layout": "IPY_MODEL_9490161c11aa4f14ad8cd7003f50b1fa",
       "style": "IPY_MODEL_f0a3c1c709f148fd8241ec051f96b0e1",
       "value": "Level"
      }
     },
     "8e437f030b254d8f9af57f4ab797df1b": {
      "model_module": "@jupyter-widgets/base",
      "model_module_version": "1.2.0",
      "model_name": "LayoutModel",
      "state": {}
     },
     "8e8baa995fb042ffa8d6e04d10171b9c": {
      "model_module": "@jupyter-widgets/base",
      "model_module_version": "1.2.0",
      "model_name": "LayoutModel",
      "state": {}
     },
     "8eaf3b5889a9467f9a0904dffc516037": {
      "model_module": "@jupyter-widgets/controls",
      "model_module_version": "1.5.0",
      "model_name": "HTMLModel",
      "state": {
       "layout": "IPY_MODEL_1abd555d13f447a48542b9face00a174",
       "style": "IPY_MODEL_851e4ba347cf4c1bb4c0f499bd284fbd",
       "value": "<p>3rd section of space name code (enter None if 3rd section doesn't exist)</p>"
      }
     },
     "8eb7a211ab07452e8aaed26740fca34a": {
      "model_module": "@jupyter-widgets/controls",
      "model_module_version": "1.5.0",
      "model_name": "VBoxModel",
      "state": {
       "children": [
        "IPY_MODEL_5952206b7ab54ad49dafb2df22d181d1",
        "IPY_MODEL_3265e50d797b4ed28995dc40892da41c"
       ],
       "layout": "IPY_MODEL_f730f782272e4c55a69b2f758f6865e0"
      }
     },
     "8ec30f95c01d43ddabf032edced2c73f": {
      "model_module": "@jupyter-widgets/base",
      "model_module_version": "1.2.0",
      "model_name": "LayoutModel",
      "state": {}
     },
     "8eda1a1986524f7c8f898ba208b9f11d": {
      "model_module": "@jupyter-widgets/controls",
      "model_module_version": "1.5.0",
      "model_name": "DescriptionStyleModel",
      "state": {
       "description_width": ""
      }
     },
     "8ef2bd4fc46e420fb748d385999e00a7": {
      "model_module": "@jupyter-widgets/base",
      "model_module_version": "1.2.0",
      "model_name": "LayoutModel",
      "state": {
       "align_items": "stretch",
       "display": "flex",
       "flex_flow": "row",
       "grid_auto_columns": "True",
       "justify_content": "flex-end",
       "width": "90%"
      }
     },
     "8f0a1275f2ce4b148c46c9c223ac24bf": {
      "model_module": "@jupyter-widgets/output",
      "model_module_version": "1.0.0",
      "model_name": "OutputModel",
      "state": {
       "layout": "IPY_MODEL_20ed9cfcf435404e9d719e1af446f75d"
      }
     },
     "8f1c83e0411b49cc944cd568d7d63375": {
      "model_module": "@jupyter-widgets/controls",
      "model_module_version": "1.5.0",
      "model_name": "HBoxModel",
      "state": {
       "children": [
        "IPY_MODEL_412b74c84456452eb953e68e260f6faf",
        "IPY_MODEL_39e7f91216944e1981a73867588ebe59"
       ],
       "layout": "IPY_MODEL_30e8a921160b476888079902ab6638ba"
      }
     },
     "8f2423b09ec74e8ebade1c2bf7a8e926": {
      "model_module": "@jupyter-widgets/base",
      "model_module_version": "1.2.0",
      "model_name": "LayoutModel",
      "state": {}
     },
     "8f32b54c33dc4d79a5ae4a9e188e1330": {
      "model_module": "@jupyter-widgets/base",
      "model_module_version": "1.2.0",
      "model_name": "LayoutModel",
      "state": {}
     },
     "8f495e06313f4b859d5626e3500cb2b5": {
      "model_module": "@jupyter-widgets/base",
      "model_module_version": "1.2.0",
      "model_name": "LayoutModel",
      "state": {}
     },
     "8f6300b9fa7b4841a6fe303a3070b2a2": {
      "model_module": "@jupyter-widgets/controls",
      "model_module_version": "1.5.0",
      "model_name": "ButtonModel",
      "state": {
       "button_style": "warning",
       "description": "revert to last save",
       "layout": "IPY_MODEL_344b198a05924f1e8b2c47f335eb4ee4",
       "style": "IPY_MODEL_846d32697ff144c29e9e26f8350ff2a4"
      }
     },
     "8fb5f51283b2428aafc2a60fb5bef0cc": {
      "model_module": "@jupyter-widgets/base",
      "model_module_version": "1.2.0",
      "model_name": "LayoutModel",
      "state": {}
     },
     "8fcef04bfbed4507ae63f6ea8f7611bd": {
      "model_module": "@jupyter-widgets/base",
      "model_module_version": "1.2.0",
      "model_name": "LayoutModel",
      "state": {
       "flex_flow": "column",
       "height": "auto",
       "width": "auto"
      }
     },
     "900e1c5621864d61a2ac1aca787d5e20": {
      "model_module": "@jupyter-widgets/base",
      "model_module_version": "1.2.0",
      "model_name": "LayoutModel",
      "state": {
       "align_items": "stretch",
       "display": "flex",
       "flex_flow": "row",
       "grid_auto_columns": "True",
       "justify_content": "flex-start",
       "width": "80%"
      }
     },
     "907cb11eeecc4373b92936a638600293": {
      "model_module": "@jupyter-widgets/controls",
      "model_module_version": "1.5.0",
      "model_name": "HBoxModel",
      "state": {
       "children": [
        "IPY_MODEL_d645097c41e94f1f944c0c6d9f28806f"
       ],
       "layout": "IPY_MODEL_3cb3b4293a4a42a59ef7d751c3ba7b3e"
      }
     },
     "90aa492283d04e9ab3370e37fb9daf04": {
      "model_module": "@jupyter-widgets/controls",
      "model_module_version": "1.5.0",
      "model_name": "HBoxModel",
      "state": {
       "children": [
        "IPY_MODEL_22f2bce040ce4ed4b0c29d30cf4cd153",
        "IPY_MODEL_dd1e8a68b0384ea5a78a5f92e240da9e"
       ],
       "layout": "IPY_MODEL_217aaed5626d40b59eb24d8eb185efa9"
      }
     },
     "90b0104ccde04e35b5c8320494e27cc2": {
      "model_module": "@jupyter-widgets/output",
      "model_module_version": "1.0.0",
      "model_name": "OutputModel",
      "state": {
       "layout": "IPY_MODEL_574f381cd1164e469ca091cea08065b8"
      }
     },
     "914cc2f5d60a469695f0e732ce90b3a1": {
      "model_module": "@jupyter-widgets/controls",
      "model_module_version": "1.5.0",
      "model_name": "HBoxModel",
      "state": {
       "children": [
        "IPY_MODEL_70edcd0765f446368cd411861444b3a3",
        "IPY_MODEL_90aa492283d04e9ab3370e37fb9daf04"
       ],
       "layout": "IPY_MODEL_87a7c1c209fe440f8ac4f89c91177b35"
      }
     },
     "91822332f4754a2ba896f4cc83b2ab4e": {
      "model_module": "@jupyter-widgets/controls",
      "model_module_version": "1.5.0",
      "model_name": "HBoxModel",
      "state": {
       "children": [
        "IPY_MODEL_ee6dd9416f7f43af80c7a6283602cafa",
        "IPY_MODEL_2a9d6b34764f43c5b08e490d493003d1"
       ],
       "layout": "IPY_MODEL_da215c5f03c94c1496e71448efdcfdea"
      }
     },
     "91e5fdb8660c4625873d37c5548912aa": {
      "model_module": "@jupyter-widgets/base",
      "model_module_version": "1.2.0",
      "model_name": "LayoutModel",
      "state": {
       "align_items": "stretch",
       "display": "flex",
       "flex_flow": "row",
       "grid_auto_columns": "True",
       "justify_content": "flex-start",
       "width": "80%"
      }
     },
     "92461012149c45e1b494715fd3aa30b5": {
      "model_module": "@jupyter-widgets/controls",
      "model_module_version": "1.5.0",
      "model_name": "HBoxModel",
      "state": {
       "children": [
        "IPY_MODEL_a631941ebdaa443da9eda7d6b40319ee",
        "IPY_MODEL_4ae52a740b6a4fdf9ac7f21b2ba3812a"
       ],
       "layout": "IPY_MODEL_40ed65bcd622476988b825b420c7a24d"
      }
     },
     "928d6ed2c42a4e729d39fefc6c184277": {
      "model_module": "@jupyter-widgets/controls",
      "model_module_version": "1.5.0",
      "model_name": "ButtonModel",
      "state": {
       "button_style": "warning",
       "description": "edit inputs",
       "layout": "IPY_MODEL_7af60b7beed64121b9e362aa7c304749",
       "style": "IPY_MODEL_aabb26dbc44f4787bcc0135e45947982",
       "tooltip": "edit the user input information that is used when the script is executed"
      }
     },
     "929b0b0ba08e410bb6a1bd71d0b50d34": {
      "model_module": "@jupyter-widgets/controls",
      "model_module_version": "1.5.0",
      "model_name": "BoxModel",
      "state": {
       "children": [
        "IPY_MODEL_edc52362131744e29c066ec591601375"
       ],
       "layout": "IPY_MODEL_48f96387113d443cae67eac27500f492"
      }
     },
     "92b22910856d4d07ba34c9a4e3772502": {
      "model_module": "@jupyter-widgets/base",
      "model_module_version": "1.2.0",
      "model_name": "LayoutModel",
      "state": {}
     },
     "92e87cad18774810b75c7b5e3580fc14": {
      "model_module": "@jupyter-widgets/controls",
      "model_module_version": "1.5.0",
      "model_name": "HBoxModel",
      "state": {
       "children": [
        "IPY_MODEL_a1b1012de140488ca21cb928cbb6b341",
        "IPY_MODEL_b252544cc8b742f6af954f6b3dbdb7e7"
       ],
       "layout": "IPY_MODEL_3fca2f87dde844a29afdba8b0df026c6"
      }
     },
     "9308c874f61a4fd9a63efbf4aa3af192": {
      "model_module": "@jupyter-widgets/controls",
      "model_module_version": "1.5.0",
      "model_name": "HBoxModel",
      "state": {
       "children": [
        "IPY_MODEL_c5d108ccf6e9436d9ab80ee72c7fdda6",
        "IPY_MODEL_5862f8f55b34417384bb3fc72c535044"
       ],
       "layout": "IPY_MODEL_7aabf98f0099463ca31ca1cb395d767f"
      }
     },
     "934d2ba98f024164ad2007f53c12eed3": {
      "model_module": "@jupyter-widgets/output",
      "model_module_version": "1.0.0",
      "model_name": "OutputModel",
      "state": {
       "layout": "IPY_MODEL_952c91b7d1f44233b6432869f34a551f"
      }
     },
     "939418d1c3de4951ace393d8d456981f": {
      "model_module": "@jupyter-widgets/base",
      "model_module_version": "1.2.0",
      "model_name": "LayoutModel",
      "state": {
       "align_items": "stretch",
       "display": "flex",
       "flex_flow": "row",
       "grid_auto_columns": "True",
       "justify_content": "flex-start",
       "width": "80%"
      }
     },
     "9485f274f41c4ad098f64d89a00bac4e": {
      "model_module": "@jupyter-widgets/base",
      "model_module_version": "1.2.0",
      "model_name": "LayoutModel",
      "state": {}
     },
     "94867470731c4a6791ff37f183e204a3": {
      "model_module": "@jupyter-widgets/base",
      "model_module_version": "1.2.0",
      "model_name": "LayoutModel",
      "state": {
       "align_items": "stretch",
       "border": "dashed 0.2px green",
       "display": "flex",
       "flex_flow": "row",
       "grid_auto_columns": "True",
       "justify_content": "flex-start",
       "width": "100%"
      }
     },
     "9490161c11aa4f14ad8cd7003f50b1fa": {
      "model_module": "@jupyter-widgets/base",
      "model_module_version": "1.2.0",
      "model_name": "LayoutModel",
      "state": {}
     },
     "94e1aafe07e14d35806a93fe0f56bab8": {
      "model_module": "@jupyter-widgets/output",
      "model_module_version": "1.0.0",
      "model_name": "OutputModel",
      "state": {
       "layout": "IPY_MODEL_6c267890352f4addada61be7efb8d473"
      }
     },
     "952c91b7d1f44233b6432869f34a551f": {
      "model_module": "@jupyter-widgets/base",
      "model_module_version": "1.2.0",
      "model_name": "LayoutModel",
      "state": {}
     },
     "954ab3c9639c44298c4682b1afe9eabd": {
      "model_module": "@jupyter-widgets/base",
      "model_module_version": "1.2.0",
      "model_name": "LayoutModel",
      "state": {
       "align_items": "stretch",
       "display": "flex",
       "flex_flow": "row",
       "grid_auto_columns": "True",
       "justify_content": "flex-end",
       "width": "90%"
      }
     },
     "95ad4303085c45b1a4d776d53899d503": {
      "model_module": "@jupyter-widgets/base",
      "model_module_version": "1.2.0",
      "model_name": "LayoutModel",
      "state": {}
     },
     "95c7cce2fe31491aa923821f1b99ff5e": {
      "model_module": "@jupyter-widgets/controls",
      "model_module_version": "1.5.0",
      "model_name": "ButtonStyleModel",
      "state": {
       "font_weight": "bold"
      }
     },
     "960379fb9720483d8a0a30197eaf3d55": {
      "model_module": "@jupyter-widgets/base",
      "model_module_version": "1.2.0",
      "model_name": "LayoutModel",
      "state": {}
     },
     "96e3422c1241460d9c8f7d89e475d7f0": {
      "model_module": "@jupyter-widgets/controls",
      "model_module_version": "1.5.0",
      "model_name": "ButtonModel",
      "state": {
       "button_style": "success",
       "description": "save changes",
       "layout": "IPY_MODEL_1c589a6774e440ac97281ddab260f202",
       "style": "IPY_MODEL_8a9b57a102ca4f33b3a4163ff18d9ab2"
      }
     },
     "96f86fbc8caa4c318d7635c27358787d": {
      "model_module": "@jupyter-widgets/output",
      "model_module_version": "1.0.0",
      "model_name": "OutputModel",
      "state": {
       "layout": "IPY_MODEL_e331f35d39f241e9b55be3833ec4a726",
       "outputs": [
        {
         "data": {
          "application/vnd.jupyter.widget-view+json": {
           "model_id": "",
           "version_major": 2,
           "version_minor": 0
          },
          "text/plain": "Output()"
         },
         "metadata": {},
         "output_type": "display_data"
        },
        {
         "data": {
          "application/vnd.jupyter.widget-view+json": {
           "model_id": "",
           "version_major": 2,
           "version_minor": 0
          },
          "text/plain": "Output()"
         },
         "metadata": {},
         "output_type": "display_data"
        }
       ]
      }
     },
     "973b146cca564d2287fca5bc28f8d2b3": {
      "model_module": "@jupyter-widgets/controls",
      "model_module_version": "1.5.0",
      "model_name": "HBoxModel",
      "state": {
       "children": [
        "IPY_MODEL_53936837abc94668828ba645b04850ea",
        "IPY_MODEL_25511924b3fd4661b18ceeaac3507c75"
       ],
       "layout": "IPY_MODEL_454242d5f7724809917e779819dff4f5"
      }
     },
     "97c53a8f776146d6b1bab8d6d96431ac": {
      "model_module": "@jupyter-widgets/controls",
      "model_module_version": "1.5.0",
      "model_name": "HTMLModel",
      "state": {
       "layout": "IPY_MODEL_ce4ff47b93534046a04bf75dd03a76f5",
       "style": "IPY_MODEL_7183499a94b248b682fa7fb1e16a5b52",
       "value": "<p>3rd section of space name code (enter None if 3rd section doesn't exist)</p>"
      }
     },
     "97dcc5b4c4a34cc1b9b050b2e8fa42ad": {
      "model_module": "@jupyter-widgets/controls",
      "model_module_version": "1.5.0",
      "model_name": "HTMLModel",
      "state": {
       "layout": "IPY_MODEL_5c4f7ef638f44f718347a5eaec53403d",
       "style": "IPY_MODEL_a2d6c3c0a97c4a04b25271796cfec3de",
       "value": "<p>3rd section of space name code (enter None if 3rd section doesn't exist)</p>"
      }
     },
     "97dd113d180b4c69b538112d287f7dad": {
      "model_module": "@jupyter-widgets/base",
      "model_module_version": "1.2.0",
      "model_name": "LayoutModel",
      "state": {
       "align_items": "stretch",
       "display": "flex",
       "flex_flow": "row",
       "grid_auto_columns": "True",
       "justify_content": "flex-start",
       "width": "80%"
      }
     },
     "9845b0929cdb4e4bb87c54bff0b57267": {
      "model_module": "@jupyter-widgets/base",
      "model_module_version": "1.2.0",
      "model_name": "LayoutModel",
      "state": {
       "align_items": "stretch",
       "border": "dashed 0.2px green",
       "display": "flex",
       "flex_flow": "row",
       "grid_auto_columns": "True",
       "justify_content": "flex-start",
       "width": "100%"
      }
     },
     "985a19513c7146e29fd92adff5244e96": {
      "model_module": "@jupyter-widgets/base",
      "model_module_version": "1.2.0",
      "model_name": "LayoutModel",
      "state": {
       "border": "0px",
       "margin": "0px",
       "padding": "0px"
      }
     },
     "98978a00a5b94a24a6d3d7475f3c2273": {
      "model_module": "@jupyter-widgets/base",
      "model_module_version": "1.2.0",
      "model_name": "LayoutModel",
      "state": {}
     },
     "98a7829262664284b92423ee94171516": {
      "model_module": "@jupyter-widgets/base",
      "model_module_version": "1.2.0",
      "model_name": "LayoutModel",
      "state": {}
     },
     "98c9008811324434be8b53d0bce584b4": {
      "model_module": "@jupyter-widgets/controls",
      "model_module_version": "1.5.0",
      "model_name": "TextModel",
      "state": {
       "layout": "IPY_MODEL_7c6bcd347e8442adbf4bc98a5511e8d8",
       "style": "IPY_MODEL_9de89055f32e4b6d94d496669fdb8dcc",
       "value": "SpaceId"
      }
     },
     "98f7440da10c429cb3271df72eabe97f": {
      "model_module": "@jupyter-widgets/controls",
      "model_module_version": "1.5.0",
      "model_name": "HBoxModel",
      "state": {
       "children": [
        "IPY_MODEL_079cb510b0ec4e7d88b1e837cb96e56c",
        "IPY_MODEL_1a55055524314f9081f8478fd9aca9b0"
       ],
       "layout": "IPY_MODEL_8a2ed0544f984273b46918aff586ccb4"
      }
     },
     "992af1d2ef59460dafe6a180a4681708": {
      "model_module": "@jupyter-widgets/controls",
      "model_module_version": "1.5.0",
      "model_name": "HBoxModel",
      "state": {
       "children": [
        "IPY_MODEL_9fceecf981904c0a9e33999b5ac55021",
        "IPY_MODEL_aff20e1437c84804a4a01c5a829ff774"
       ],
       "layout": "IPY_MODEL_8d18c9c63bae44bca6187c140390bd5d"
      }
     },
     "99659d8424e0416bb449d763f5b84a28": {
      "model_module": "@jupyter-widgets/base",
      "model_module_version": "1.2.0",
      "model_name": "LayoutModel",
      "state": {}
     },
     "997c90c10493479686e28cb9955d7c20": {
      "model_module": "@jupyter-widgets/base",
      "model_module_version": "1.2.0",
      "model_name": "LayoutModel",
      "state": {
       "align_items": "stretch",
       "display": "flex",
       "flex_flow": "row",
       "grid_auto_columns": "True",
       "justify_content": "flex-end",
       "width": "90%"
      }
     },
     "9984c6d9fb374cadaffc687470e04067": {
      "model_module": "@jupyter-widgets/controls",
      "model_module_version": "1.5.0",
      "model_name": "HBoxModel",
      "state": {
       "children": [
        "IPY_MODEL_5857a9874bf049e39d3339f3977d5e55"
       ],
       "layout": "IPY_MODEL_76b147aa5c094a3b85ed90a7c5e5c534"
      }
     },
     "99e655ea06384f76b2a874d1f2279d5b": {
      "model_module": "@jupyter-widgets/base",
      "model_module_version": "1.2.0",
      "model_name": "LayoutModel",
      "state": {
       "align_items": "stretch",
       "border": "dashed 0.2px green",
       "display": "flex",
       "flex_flow": "row",
       "grid_auto_columns": "True",
       "justify_content": "flex-start",
       "width": "100%"
      }
     },
     "9a223a7a83ae41438149101e3683e871": {
      "model_module": "@jupyter-widgets/base",
      "model_module_version": "1.2.0",
      "model_name": "LayoutModel",
      "state": {}
     },
     "9ac56fc1d7a7483f992ee9e6b2aa7926": {
      "model_module": "@jupyter-widgets/output",
      "model_module_version": "1.0.0",
      "model_name": "OutputModel",
      "state": {
       "layout": "IPY_MODEL_ed38cc0f59d745d1b3ee4a0459c33297",
       "outputs": [
        {
         "data": {
          "application/vnd.jupyter.widget-view+json": {
           "model_id": "",
           "version_major": 2,
           "version_minor": 0
          },
          "text/plain": "Output()"
         },
         "metadata": {},
         "output_type": "display_data"
        },
        {
         "data": {
          "application/vnd.jupyter.widget-view+json": {
           "model_id": "",
           "version_major": 2,
           "version_minor": 0
          },
          "text/plain": "Output()"
         },
         "metadata": {},
         "output_type": "display_data"
        }
       ]
      }
     },
     "9ac6db12844546b2892c8b772cf1fb15": {
      "model_module": "@jupyter-widgets/controls",
      "model_module_version": "1.5.0",
      "model_name": "ButtonStyleModel",
      "state": {
       "font_weight": "bold"
      }
     },
     "9b4b617c7d914b26888f070172a20262": {
      "model_module": "@jupyter-widgets/base",
      "model_module_version": "1.2.0",
      "model_name": "LayoutModel",
      "state": {
       "display": "flex",
       "flex_flow": "row",
       "grid_auto_columns": "False",
       "justify_content": "flex-start",
       "width": "100%"
      }
     },
     "9b90f26a9622488b8cd7b7a266418781": {
      "model_module": "@jupyter-widgets/base",
      "model_module_version": "1.2.0",
      "model_name": "LayoutModel",
      "state": {}
     },
     "9bcc0e24c6674687952ee219f132bd87": {
      "model_module": "@jupyter-widgets/output",
      "model_module_version": "1.0.0",
      "model_name": "OutputModel",
      "state": {
       "layout": "IPY_MODEL_a9e23dab4179494785a6ac48a156c37c",
       "outputs": [
        {
         "data": {
          "application/vnd.jupyter.widget-view+json": {
           "model_id": "",
           "version_major": 2,
           "version_minor": 0
          },
          "text/plain": "Output()"
         },
         "metadata": {},
         "output_type": "display_data"
        },
        {
         "data": {
          "application/vnd.jupyter.widget-view+json": {
           "model_id": "",
           "version_major": 2,
           "version_minor": 0
          },
          "text/plain": "Output()"
         },
         "metadata": {},
         "output_type": "display_data"
        }
       ]
      }
     },
     "9c5bd5ddd3ac48c78deadaa937fa8813": {
      "model_module": "@jupyter-widgets/controls",
      "model_module_version": "1.5.0",
      "model_name": "DescriptionStyleModel",
      "state": {
       "description_width": ""
      }
     },
     "9c62199a8eea4aecb287cb247043b670": {
      "model_module": "@jupyter-widgets/controls",
      "model_module_version": "1.5.0",
      "model_name": "HBoxModel",
      "state": {
       "children": [
        "IPY_MODEL_2f4b027eb06b49f4b332fa47dbe11e47",
        "IPY_MODEL_659bdc5c69a1466c8455012267104ea0"
       ],
       "layout": "IPY_MODEL_c8413128cb954b05a5c6e9c22091b435"
      }
     },
     "9c874a7346b3490d8c554dfd7cd3cfef": {
      "model_module": "@jupyter-widgets/base",
      "model_module_version": "1.2.0",
      "model_name": "LayoutModel",
      "state": {}
     },
     "9ca02e0da7e442d7bf1ba3a320daf25c": {
      "model_module": "@jupyter-widgets/controls",
      "model_module_version": "1.5.0",
      "model_name": "HBoxModel",
      "state": {
       "children": [
        "IPY_MODEL_853ba8fb4c88415eb811801d93881bfe",
        "IPY_MODEL_f3e53532e8c7468a9d2a1a9cc95b7f77"
       ],
       "layout": "IPY_MODEL_0efe703475444ecd8d305dadfb5f052a"
      }
     },
     "9ca58d5a281d48989daa81b592a8247e": {
      "model_module": "@jupyter-widgets/base",
      "model_module_version": "1.2.0",
      "model_name": "LayoutModel",
      "state": {}
     },
     "9cad8cf32b3348f8994fa981403bd0f7": {
      "model_module": "@jupyter-widgets/base",
      "model_module_version": "1.2.0",
      "model_name": "LayoutModel",
      "state": {
       "align_items": "stretch",
       "border": "dashed 0.2px green",
       "display": "flex",
       "flex_flow": "row",
       "grid_auto_columns": "True",
       "justify_content": "flex-start",
       "width": "100%"
      }
     },
     "9cc3419acc7d4fb78f869094834dde1a": {
      "model_module": "@jupyter-widgets/base",
      "model_module_version": "1.2.0",
      "model_name": "LayoutModel",
      "state": {
       "align_items": "stretch",
       "display": "flex",
       "flex_flow": "row",
       "grid_auto_columns": "True",
       "justify_content": "flex-end",
       "width": "90%"
      }
     },
     "9ce3e22900014276a20c3b11df572257": {
      "model_module": "@jupyter-widgets/base",
      "model_module_version": "1.2.0",
      "model_name": "LayoutModel",
      "state": {}
     },
     "9cfe4c8e628443e8a3650d180742576e": {
      "model_module": "@jupyter-widgets/base",
      "model_module_version": "1.2.0",
      "model_name": "LayoutModel",
      "state": {
       "align_items": "stretch",
       "display": "flex",
       "flex_flow": "row",
       "grid_auto_columns": "True",
       "justify_content": "flex-end",
       "width": "90%"
      }
     },
     "9d5deb87a6da438184c1670399e9a2a7": {
      "model_module": "@jupyter-widgets/base",
      "model_module_version": "1.2.0",
      "model_name": "LayoutModel",
      "state": {
       "align_items": "stretch",
       "display": "flex",
       "flex_flow": "row",
       "grid_auto_columns": "True",
       "justify_content": "flex-start",
       "width": "80%"
      }
     },
     "9d677e3ef82844dd8814704645f382f0": {
      "model_module": "@jupyter-widgets/base",
      "model_module_version": "1.2.0",
      "model_name": "LayoutModel",
      "state": {
       "align_items": "stretch",
       "display": "flex",
       "flex_flow": "row",
       "grid_auto_columns": "True",
       "justify_content": "flex-end",
       "width": "90%"
      }
     },
     "9dabdf964c2445b89d770eabe2714431": {
      "model_module": "@jupyter-widgets/controls",
      "model_module_version": "1.5.0",
      "model_name": "HBoxModel",
      "state": {
       "children": [
        "IPY_MODEL_1c7f7002ad7d4d36a9cac2d907ff2d14",
        "IPY_MODEL_1629373c43944e05bcf4c8b2cd4bbcfb"
       ],
       "layout": "IPY_MODEL_41e75673b0c948118157738133f89d22"
      }
     },
     "9dd2dd9e206a4fda9be722b2567295e0": {
      "model_module": "@jupyter-widgets/controls",
      "model_module_version": "1.5.0",
      "model_name": "HBoxModel",
      "state": {
       "children": [
        "IPY_MODEL_2af2cb29562c4f93853132518197f441"
       ],
       "layout": "IPY_MODEL_c0acc6fbcdd74b4d8473af42d94e6fa0"
      }
     },
     "9de89055f32e4b6d94d496669fdb8dcc": {
      "model_module": "@jupyter-widgets/controls",
      "model_module_version": "1.5.0",
      "model_name": "DescriptionStyleModel",
      "state": {
       "description_width": ""
      }
     },
     "9df339da6de4400b92ecd693eddf9849": {
      "model_module": "@jupyter-widgets/output",
      "model_module_version": "1.0.0",
      "model_name": "OutputModel",
      "state": {
       "layout": "IPY_MODEL_d6b0a794518e433ba5dff3f02d9daf51"
      }
     },
     "9e52a835258b44fc873e833b7fe4f585": {
      "model_module": "@jupyter-widgets/controls",
      "model_module_version": "1.5.0",
      "model_name": "ButtonModel",
      "state": {
       "button_style": "warning",
       "description": "revert to last save",
       "layout": "IPY_MODEL_a21239ab715c4be992cc5f751494c992",
       "style": "IPY_MODEL_0913f75eea574c04b5840856ce878575"
      }
     },
     "9e583634b8b44cfc8a60aacec647143c": {
      "model_module": "@jupyter-widgets/base",
      "model_module_version": "1.2.0",
      "model_name": "LayoutModel",
      "state": {}
     },
     "9e8b0c28d3ec4ad0bdb8762784860e29": {
      "model_module": "@jupyter-widgets/base",
      "model_module_version": "1.2.0",
      "model_name": "LayoutModel",
      "state": {}
     },
     "9e8f1c17e53148cfb5122ef59f090159": {
      "model_module": "@jupyter-widgets/base",
      "model_module_version": "1.2.0",
      "model_name": "LayoutModel",
      "state": {}
     },
     "9ebd901f07924ddb9d6379db672dc74e": {
      "model_module": "@jupyter-widgets/controls",
      "model_module_version": "1.5.0",
      "model_name": "ButtonModel",
      "state": {
       "button_style": "info",
       "description": "show source code",
       "layout": "IPY_MODEL_d96ab41d915f475ba9badfdf5e6576ce",
       "style": "IPY_MODEL_e59297b8f46f4506a1d1b07dbe235dbb",
       "tooltip": "shows the raw python code in the preview window below"
      }
     },
     "9eda64d669e5414c89df9c1b1b2246cd": {
      "model_module": "@jupyter-widgets/controls",
      "model_module_version": "1.5.0",
      "model_name": "HTMLModel",
      "state": {
       "layout": "IPY_MODEL_f383120c3c664518a2d5e15bb3b2ff82",
       "style": "IPY_MODEL_acdc28c102e44de6829c24f97a6e5f9c",
       "value": "<p>1</p>"
      }
     },
     "9f00e00b12b14abb9502d23c64f1b742": {
      "model_module": "@jupyter-widgets/base",
      "model_module_version": "1.2.0",
      "model_name": "LayoutModel",
      "state": {}
     },
     "9f19f43b113c43e59a99d5748b3fc6ef": {
      "model_module": "@jupyter-widgets/base",
      "model_module_version": "1.2.0",
      "model_name": "LayoutModel",
      "state": {}
     },
     "9f1a89361466484f9c9bb485606afe90": {
      "model_module": "@jupyter-widgets/base",
      "model_module_version": "1.2.0",
      "model_name": "LayoutModel",
      "state": {}
     },
     "9fa5b30d494c41b0bae8144fe421e413": {
      "model_module": "@jupyter-widgets/base",
      "model_module_version": "1.2.0",
      "model_name": "LayoutModel",
      "state": {}
     },
     "9fceecf981904c0a9e33999b5ac55021": {
      "model_module": "@jupyter-widgets/controls",
      "model_module_version": "1.5.0",
      "model_name": "TextModel",
      "state": {
       "layout": "IPY_MODEL_23adecd88a364066ad950df9790c4287",
       "style": "IPY_MODEL_2df6e0a299bf4f2aaae75ddec835427f",
       "value": "BlockCode"
      }
     },
     "9fe05e7241f64156bd29f5f59d9661f1": {
      "model_module": "@jupyter-widgets/controls",
      "model_module_version": "1.5.0",
      "model_name": "DescriptionStyleModel",
      "state": {
       "description_width": ""
      }
     },
     "9ff6f768d4ba49f7bff69752084bd0de": {
      "model_module": "@jupyter-widgets/base",
      "model_module_version": "1.2.0",
      "model_name": "LayoutModel",
      "state": {
       "align_items": "stretch",
       "border": "dashed 0.2px green",
       "display": "flex",
       "flex_flow": "row",
       "grid_auto_columns": "True",
       "justify_content": "flex-start",
       "width": "100%"
      }
     },
     "a00363bf40a045e8bc4162838d2a7250": {
      "model_module": "@jupyter-widgets/base",
      "model_module_version": "1.2.0",
      "model_name": "LayoutModel",
      "state": {}
     },
     "a022ae5f633d485bbf6dc73304bb280f": {
      "model_module": "@jupyter-widgets/base",
      "model_module_version": "1.2.0",
      "model_name": "LayoutModel",
      "state": {}
     },
     "a09b7ff71e0f457d9c9b777f2f627440": {
      "model_module": "@jupyter-widgets/controls",
      "model_module_version": "1.5.0",
      "model_name": "HBoxModel",
      "state": {
       "children": [
        "IPY_MODEL_02a7e4d31582477aaa9dddafb99cbdfe",
        "IPY_MODEL_53c32ade92664f3c9cbdbfe3c0f756d5"
       ],
       "layout": "IPY_MODEL_0c906a36b1754a14a6d27eb6636cc3f3"
      }
     },
     "a0c17a95b14e4fce888a8a7f6abebfef": {
      "model_module": "@jupyter-widgets/base",
      "model_module_version": "1.2.0",
      "model_name": "LayoutModel",
      "state": {}
     },
     "a0ce6c1b1e2b40b29344850991d9f5f4": {
      "model_module": "@jupyter-widgets/controls",
      "model_module_version": "1.5.0",
      "model_name": "DescriptionStyleModel",
      "state": {
       "description_width": ""
      }
     },
     "a0d5332f5f544ab19de38cec2d7d17c8": {
      "model_module": "@jupyter-widgets/output",
      "model_module_version": "1.0.0",
      "model_name": "OutputModel",
      "state": {
       "layout": "IPY_MODEL_8a7106b4f37d40a2962950260fbc4ff9"
      }
     },
     "a0f78aebe9ff4df3a105dd292ee0761d": {
      "model_module": "@jupyter-widgets/controls",
      "model_module_version": "1.5.0",
      "model_name": "HBoxModel",
      "state": {
       "children": [
        "IPY_MODEL_0457e488aceb42c2b289665694408ed2",
        "IPY_MODEL_e4e6e168dbc647838075093030a70228"
       ],
       "layout": "IPY_MODEL_8c5dcb654c8e42279488d64cf00dbcf5"
      }
     },
     "a0fa8715d55949249d2103ee215ff2f1": {
      "model_module": "@jupyter-widgets/base",
      "model_module_version": "1.2.0",
      "model_name": "LayoutModel",
      "state": {}
     },
     "a12f17378d134ab7b2756cda2b513426": {
      "model_module": "@jupyter-widgets/controls",
      "model_module_version": "1.5.0",
      "model_name": "HTMLModel",
      "state": {
       "layout": "IPY_MODEL_e7a27adbd29d40b4b71b6dfe64d72e17",
       "style": "IPY_MODEL_e7ac1ed6835f4334be84cd2b7f252368",
       "value": "<p>1</p>"
      }
     },
     "a17aea372e2b4bc381c360c03c465f30": {
      "model_module": "@jupyter-widgets/output",
      "model_module_version": "1.0.0",
      "model_name": "OutputModel",
      "state": {
       "layout": "IPY_MODEL_8715db4d0750446bb143002376d7caa2"
      }
     },
     "a1b1012de140488ca21cb928cbb6b341": {
      "model_module": "@jupyter-widgets/controls",
      "model_module_version": "1.5.0",
      "model_name": "HTMLModel",
      "state": {
       "layout": "IPY_MODEL_6a9ff902302c43a8b5d7fb4feb09b9d0",
       "style": "IPY_MODEL_43849c14519a49b899d9a812ab70164e",
       "value": "<p>4</p>"
      }
     },
     "a1b66fcc0f7740c99c1cb7020afbb2b5": {
      "model_module": "@jupyter-widgets/base",
      "model_module_version": "1.2.0",
      "model_name": "LayoutModel",
      "state": {}
     },
     "a1e1b837ac814269a94f4c1ecbed1364": {
      "model_module": "@jupyter-widgets/controls",
      "model_module_version": "1.5.0",
      "model_name": "DescriptionStyleModel",
      "state": {
       "description_width": ""
      }
     },
     "a21239ab715c4be992cc5f751494c992": {
      "model_module": "@jupyter-widgets/base",
      "model_module_version": "1.2.0",
      "model_name": "LayoutModel",
      "state": {}
     },
     "a2a3beb75a3c4c03ae507983fa612b5e": {
      "model_module": "@jupyter-widgets/controls",
      "model_module_version": "1.5.0",
      "model_name": "HTMLModel",
      "state": {
       "layout": "IPY_MODEL_28fc5e03493d428e9dd6db2cd4a04eaa",
       "style": "IPY_MODEL_b493a2b362c94b30a182c5c62fa80c1f",
       "value": "<p>0</p>"
      }
     },
     "a2bedc4ec4884d7d9b7b522e2ceac671": {
      "model_module": "@jupyter-widgets/controls",
      "model_module_version": "1.5.0",
      "model_name": "HTMLModel",
      "state": {
       "layout": "IPY_MODEL_0f86cccc6c9f47a5ad0b6821553b7320",
       "style": "IPY_MODEL_b4bf36d5e88c4ac1b09fefe59b722a76",
       "value": "<p>0</p>"
      }
     },
     "a2d6c3c0a97c4a04b25271796cfec3de": {
      "model_module": "@jupyter-widgets/controls",
      "model_module_version": "1.5.0",
      "model_name": "DescriptionStyleModel",
      "state": {
       "description_width": ""
      }
     },
     "a310c2aec7bf445889eec151f2a2c1bb": {
      "model_module": "@jupyter-widgets/controls",
      "model_module_version": "1.5.0",
      "model_name": "HBoxModel",
      "state": {
       "children": [
        "IPY_MODEL_4e5bd67dc339495fb9d5269f331e7205"
       ],
       "layout": "IPY_MODEL_d2ef021deb7f4f30aa8754a681f671db"
      }
     },
     "a3245c944c9241ae95e3b38f50a9ec0b": {
      "model_module": "@jupyter-widgets/controls",
      "model_module_version": "1.5.0",
      "model_name": "VBoxModel",
      "state": {
       "children": [
        "IPY_MODEL_6a4ddc27329c41e68b7b24f0605d6865",
        "IPY_MODEL_b14d7c75e5b8454182775b9f1ad8dbb9",
        "IPY_MODEL_29275c2181b24021836c6e6532ada1a0",
        "IPY_MODEL_a7f97b599dae485cabf39cd3077ff0d4",
        "IPY_MODEL_e45792ed41cc419e9cf2b5d87754cf80"
       ],
       "layout": "IPY_MODEL_f5aa9b45cf5d41d4b0dc4b1b18fa722c"
      }
     },
     "a343c974657845f594f25c8aef4e435c": {
      "model_module": "@jupyter-widgets/controls",
      "model_module_version": "1.5.0",
      "model_name": "HBoxModel",
      "state": {
       "children": [
        "IPY_MODEL_d553549ee4194128b21e798c4b189a86",
        "IPY_MODEL_8d953b5d398746e1b86cb0c433769b6a"
       ],
       "layout": "IPY_MODEL_d6f0dbdf5ae14a63a0fef760cd9f527c"
      }
     },
     "a360b4d0be194acab6302987f9c9d43b": {
      "model_module": "@jupyter-widgets/base",
      "model_module_version": "1.2.0",
      "model_name": "LayoutModel",
      "state": {}
     },
     "a3eaeb1fdf6247e4ae8074f02c51439e": {
      "model_module": "@jupyter-widgets/controls",
      "model_module_version": "1.5.0",
      "model_name": "DescriptionStyleModel",
      "state": {
       "description_width": ""
      }
     },
     "a3fb748115ee42a4a7b12038d5fc38ff": {
      "model_module": "@jupyter-widgets/controls",
      "model_module_version": "1.5.0",
      "model_name": "TextModel",
      "state": {
       "layout": "IPY_MODEL_82f82b9fda024422a1c4bcb655da8c49",
       "style": "IPY_MODEL_e927d2e76db843dc9392378e09af8d77",
       "value": "BlockCode"
      }
     },
     "a4a007f54752428e87555a785aa73309": {
      "buffers": [
       {
        "data": "H4sIAAAAAAACA+1ZbU/iQBD+K6T3AU2K15aXFj/pCRoiRw3g9RLSkLVdYOOy5bat4hn/++0LICfQ81jPqIck0uzQeeaZmU6fbu+1IUWhdnivhSAB2mGvZ+hap1vrn9QbTU3XKpWKnWuQBFICcO4EIozI8PMpjiLKrC4NIYVhDQXJXm8vf5QSlOT1XN67gLTzIwUUfoXs1PP8vp7by39K4FSYzQPDqZRtM7/v7zMvGNxBWuCgNddtazozV3XNNMr9JrqBMbyrT4MRIEPYH0GQTNLxpEAiOga4MABXFAWaTlKMH//5es+UJKQ/SaKmFLJ1YBn8b0PIzKwYsSUjPm265jzi+nQSxTDMKWbbODBLGaFzs2LsRRn7xXG7u9IyF4AmKEERUWkX23HscmVju9iq7VKSBNquezon0I6iwVvOeVmG7B03l/pllnMPYKwUu5Mdu6MYe0XXLlvnLddr9d0LBnFJrkl0S3JBROKEpsGsXQhYAy/8qMHbMnX1713rsdohDABrVgJxrJI627RK1VmnCky+9Hfxar2n6CjkzucxF2RKTIndAmPIrT1p9kw/56YsNMFF/qQ7QsE1gXHMfreJmKATr9AxjMqsE4SlDQcYBgkgAcfsbXJ2SoGooXR3lNxNRIisPzsRBnS2HKd0AALYnVnNVfDyvA03x70Bio2fDChrBaokLtetoBirbyhGVxg+m5etwisTzMoA82UzUEDiMUq2LWJGWr9EyWgF3yoXtyWbyXQtmO38TrauQJTVtdF+bkmdoq1Q0k04a6pZshYE12GtnRTFNZOi0fJ8dpMmH2NQ2NZrDQoFqN2g+MO1uxsULzcoHnHEZ42kWTsqZo6OhoDPgPwxouqTwZxfMVJPPjn9+CqO6GSe++1Tv1zcxZOanEWFG4DTLO/Lio4JPG9VEFdsw1lwYBLSWUhIby4hOzBIKUrucmcY/GQPySrPO07JdIrmkorkSy+qIr1sFWl9HBVpGq+mIhWgdjeHzHldrlb/h5tDyXh7KtLLVpHmB5KRpr2bFO99UlS3z+xORqrKSO9fysjyu5eRRompyEcZ6esaIiGc9ml0G/NXMITNVnbQ0xp8melMTUDG4rUMf6vB3xPw/Xa+Zc33gPleKt/Q5IrU9x/m/oIIp2MiTpMrXLJqrFTim09wcXApGYnjJq9bI1xe7z+VqcI4jkKIxRHXufLkMzAR3yy93LX/8PALXAbf7VcaAAA=",
        "encoding": "base64",
        "path": [
         "_grid_data_up"
        ]
       }
      ],
      "model_module": "ipyaggrid",
      "model_module_version": "~0.2.1",
      "model_name": "AgGridModel",
      "state": {
       "_grid_data_down": [
        {
         "@id": "STD_CEIL",
         "Frame": null,
         "Gap": null,
         "Glaze": null,
         "LayerId": "layer-STD_DOOR",
         "Name": "6667 Internal Ceiling/Floor",
         "U-value": "OrderedDict([('@unit', 'WPerSquareMeterK'), ('#text', '1.086571')])",
         "U-value_WPerSquareMeterK": 1.09,
         "index": 0,
         "model": "105_LiveseyExchange_heatpump-normal-fabric"
        },
        {
         "@id": "STD_DOOR",
         "Frame": null,
         "Gap": null,
         "Glaze": null,
         "LayerId": "layer-STD_DOOR",
         "Name": "6667 Door",
         "U-value": "OrderedDict([('@unit', 'WPerSquareMeterK'), ('#text', '2.200000')])",
         "U-value_WPerSquareMeterK": 2.2,
         "index": 1,
         "model": "105_LiveseyExchange_heatpump-normal-fabric"
        },
        {
         "@id": "STD_FLO1",
         "Frame": null,
         "Gap": null,
         "Glaze": null,
         "LayerId": "layer-STD_DOOR",
         "Name": "6667 Exposed Floor",
         "U-value": "OrderedDict([('@unit', 'WPerSquareMeterK'), ('#text', '0.140000')])",
         "U-value_WPerSquareMeterK": 0.14,
         "index": 2,
         "model": "105_LiveseyExchange_heatpump-normal-fabric"
        },
        {
         "@id": "STD_PART",
         "Frame": null,
         "Gap": null,
         "Glaze": null,
         "LayerId": "layer-STD_DOOR",
         "Name": "6667 Internal Partition",
         "U-value": "OrderedDict([('@unit', 'WPerSquareMeterK'), ('#text', '1.788756')])",
         "U-value_WPerSquareMeterK": 1.79,
         "index": 3,
         "model": "105_LiveseyExchange_heatpump-normal-fabric"
        },
        {
         "@id": "STD_ROOF",
         "Frame": null,
         "Gap": null,
         "Glaze": null,
         "LayerId": "layer-STD_DOOR",
         "Name": "6667 Roof",
         "U-value": "OrderedDict([('@unit', 'WPerSquareMeterK'), ('#text', '0.140000')])",
         "U-value_WPerSquareMeterK": 0.14,
         "index": 4,
         "model": "105_LiveseyExchange_heatpump-normal-fabric"
        },
        {
         "@id": "STD_WAL1",
         "Frame": null,
         "Gap": null,
         "Glaze": null,
         "LayerId": "layer-STD_DOOR",
         "Name": "6667 External Wall",
         "U-value": "OrderedDict([('@unit', 'WPerSquareMeterK'), ('#text', '0.180000')])",
         "U-value_WPerSquareMeterK": 0.18,
         "index": 5,
         "model": "105_LiveseyExchange_heatpump-normal-fabric"
        },
        {
         "@id": "UNKNOWN_OP",
         "Frame": null,
         "Gap": null,
         "Glaze": null,
         "LayerId": "layer-STD_DOOR",
         "Name": "Unknown construction",
         "U-value": "na",
         "U-value_WPerSquareMeterK": null,
         "index": 6,
         "model": "105_LiveseyExchange_heatpump-normal-fabric"
        },
        {
         "@id": "STD_EXT2",
         "Frame": "OrderedDict([('Absorptance', OrderedDict([('@unit', 'Fraction'), ('@type', 'ExtIR'), ('#text', '0.700000')])), ('R-value', OrderedDict([('@unit', 'SquareMeterKPerW'), ('#text', '0.167080')]))])",
         "Gap": "OrderedDict([('@id', 'STD_EXT2-layer-2'), ('@gas', 'Air'), ('Thickness', OrderedDict([('@unit', 'Meters'), ('#text', '0.012000')]))])",
         "Glaze": "[OrderedDict([('@id', 'STD_EXT2-layer-1'), ('Name', '[STD_EXW1] Outer Pane'), ('Thickness', OrderedDict([('@unit', 'Meters'), ('#text', '0.006000')])), ('Reflectance', [OrderedDict([('@unit', 'Fraction'), ('@type', 'ExtSolar'), ('@surfaceType', '1'), ('#text', '0.050000')]), OrderedDict([('@unit', 'Fraction'), ('@type', 'IntSolar'), ('@surfaceType', '2'), ('#text', '0.414000')]), OrderedDict([('@unit', 'Fraction'), ('@type', 'ExtVisible'), ('@surfaceType', '1'), ('#text', '0.070000')]), OrderedDict([('@unit', 'Fraction'), ('@type', 'IntVisible'), ('@surfaceType', '2'), ('#text', '0.070000')])]), ('Transmittance', [OrderedDict([('@unit', 'Fraction'), ('@type', 'Solar'), ('@surfaceType', 'Both'), ('#text', '0.253000')]), OrderedDict([('@unit', 'Fraction'), ('@type', 'Visible'), ('@surfaceType', 'Both'), ('#text', '0.780000')])]), ('Emittance', [OrderedDict([('@unit', 'Fraction'), ('@type', 'ExtIR'), ('@surfaceType', '1'), ('#text', '0.837000')]), OrderedDict([('@unit', 'Fraction'), ('@type', 'IntIR'), ('@surfaceType', '2'), ('#text', '0.042000')])])]), OrderedDict([('@id', 'STD_EXT2-layer-3'), ('Name', '[STD_INW] Inner Pane'), ('Thickness', OrderedDict([('@unit', 'Meters'), ('#text', '0.006000')])), ('Reflectance', [OrderedDict([('@unit', 'Fraction'), ('@type', 'ExtSolar'), ('@surfaceType', '1'), ('#text', '0.072000')]), OrderedDict([('@unit', 'Fraction'), ('@type', 'IntSolar'), ('@surfaceType', '2'), ('#text', '0.072000')]), OrderedDict([('@unit', 'Fraction'), ('@type', 'ExtVisible'), ('@surfaceType', '1'), ('#text', '0.070000')]), OrderedDict([('@unit', 'Fraction'), ('@type', 'IntVisible'), ('@surfaceType', '2'), ('#text', '0.070000')])]), ('Transmittance', [OrderedDict([('@unit', 'Fraction'), ('@type', 'Solar'), ('@surfaceType', 'Both'), ('#text', '0.783000')]), OrderedDict([('@unit', 'Fraction'), ('@type', 'Visible'), ('@surfaceType', 'Both'), ('#text', '0.780000')])]), ('Emittance', [OrderedDict([('@unit', 'Fraction'), ('@type', 'ExtIR'), ('@surfaceType', '1'), ('#text', '0.837000')]), OrderedDict([('@unit', 'Fraction'), ('@type', 'IntIR'), ('@surfaceType', '2'), ('#text', '0.837000')])])])]",
         "LayerId": null,
         "Name": "6667 Rodeca Panels",
         "U-value": "OrderedDict([('@unit', 'WPerSquareMeterK'), ('#text', '0.712496')])",
         "U-value_WPerSquareMeterK": 0.71,
         "index": 7,
         "model": "105_LiveseyExchange_heatpump-normal-fabric"
        },
        {
         "@id": "STD_EXTW",
         "Frame": "OrderedDict([('Absorptance', OrderedDict([('@unit', 'Fraction'), ('@type', 'ExtIR'), ('#text', '0.700000')])), ('R-value', OrderedDict([('@unit', 'SquareMeterKPerW'), ('#text', '0.040800')]))])",
         "Gap": "OrderedDict([('@id', 'STD_EXTW-layer-2'), ('@gas', 'Air'), ('Thickness', OrderedDict([('@unit', 'Meters'), ('#text', '0.015000')]))])",
         "Glaze": "[OrderedDict([('@id', 'STD_EXTW-layer-1'), ('Name', '[STD_EXW2] Outer Pane'), ('Thickness', OrderedDict([('@unit', 'Meters'), ('#text', '0.006000')])), ('Reflectance', [OrderedDict([('@unit', 'Fraction'), ('@type', 'ExtSolar'), ('@surfaceType', '1'), ('#text', '0.100000')]), OrderedDict([('@unit', 'Fraction'), ('@type', 'IntSolar'), ('@surfaceType', '2'), ('#text', '0.100000')]), OrderedDict([('@unit', 'Fraction'), ('@type', 'ExtVisible'), ('@surfaceType', '1'), ('#text', '0.070000')]), OrderedDict([('@unit', 'Fraction'), ('@type', 'IntVisible'), ('@surfaceType', '2'), ('#text', '0.070000')])]), ('Transmittance', [OrderedDict([('@unit', 'Fraction'), ('@type', 'Solar'), ('@surfaceType', 'Both'), ('#text', '0.599000')]), OrderedDict([('@unit', 'Fraction'), ('@type', 'Visible'), ('@surfaceType', 'Both'), ('#text', '0.780000')])]), ('Emittance', [OrderedDict([('@unit', 'Fraction'), ('@type', 'ExtIR'), ('@surfaceType', '1'), ('#text', '0.840000')]), OrderedDict([('@unit', 'Fraction'), ('@type', 'IntIR'), ('@surfaceType', '2'), ('#text', '0.042000')])])]), OrderedDict([('@id', 'STD_EXTW-layer-3'), ('Name', '[STD_INW1] Inner Pane'), ('Thickness', OrderedDict([('@unit', 'Meters'), ('#text', '0.006000')])), ('Reflectance', [OrderedDict([('@unit', 'Fraction'), ('@type', 'ExtSolar'), ('@surfaceType', '1'), ('#text', '0.017000')]), OrderedDict([('@unit', 'Fraction'), ('@type', 'IntSolar'), ('@surfaceType', '2'), ('#text', '0.100000')]), OrderedDict([('@unit', 'Fraction'), ('@type', 'ExtVisible'), ('@surfaceType', '1'), ('#text', '0.070000')]), OrderedDict([('@unit', 'Fraction'), ('@type', 'IntVisible'), ('@surfaceType', '2'), ('#text', '0.070000')])]), ('Transmittance', [OrderedDict([('@unit', 'Fraction'), ('@type', 'Solar'), ('@surfaceType', 'Both'), ('#text', '0.900000')]), OrderedDict([('@unit', 'Fraction'), ('@type', 'Visible'), ('@surfaceType', 'Both'), ('#text', '0.780000')])]), ('Emittance', [OrderedDict([('@unit', 'Fraction'), ('@type', 'ExtIR'), ('@surfaceType', '1'), ('#text', '0.837000')]), OrderedDict([('@unit', 'Fraction'), ('@type', 'IntIR'), ('@surfaceType', '2'), ('#text', '0.837000')])])])]",
         "LayerId": null,
         "Name": "6667 Security Glazing",
         "U-value": "OrderedDict([('@unit', 'WPerSquareMeterK'), ('#text', '1.841831')])",
         "U-value_WPerSquareMeterK": 1.84,
         "index": 8,
         "model": "105_LiveseyExchange_heatpump-normal-fabric"
        }
       ],
       "_grid_data_up": {},
       "_grid_options_mono_down": "{\"enableSorting\": true, \"enableFilter\": true, \"enableColResize\": true, \"enableRangeSelection\": true, \"columnDefs\": [{\"field\": \"index\", \"type\": \"numberColumn\", \"headerName\": \"Index\"}, {\"field\": \"@id\", \"type\": \"textColumn\", \"headerName\": \"@Id\"}, {\"field\": \"Name\", \"type\": \"textColumn\", \"headerName\": \"Name\"}, {\"field\": \"U-value\", \"type\": \"textColumn\", \"headerName\": \"U-Value\"}, {\"field\": \"LayerId\", \"type\": \"textColumn\", \"headerName\": \"Layerid\"}, {\"field\": \"U-value_WPerSquareMeterK\", \"type\": \"numberColumn\", \"headerName\": \"U-Value_Wpersquaremeterk\"}, {\"field\": \"model\", \"type\": \"textColumn\", \"headerName\": \"Model\"}, {\"field\": \"Glaze\", \"type\": \"textColumn\", \"headerName\": \"Glaze\"}, {\"field\": \"Gap\", \"type\": \"textColumn\", \"headerName\": \"Gap\"}, {\"field\": \"Frame\", \"type\": \"textColumn\", \"headerName\": \"Frame\"}], \"columnTypes\": {\"numberColumn\": {\"filter\": \"agNumberColumnFilter\"}, \"textColumn\": {\"filter\": \"agTextColumnFilter\"}, \"dateColumn\": {\"valueFormatter\": \"helpers.dateFormatter\", \"filter\": \"agDateColumnFilter\", \"filterParams\": {\"comparator\": \"helpers.compareDates\"}}}}",
       "_id": 616368207,
       "_js_helpers_builtin": "helpersBuiltin = {\n    dateFormatter: function(node) {\n        // make sure date is not undefined\n        if (node && node.value) {\n            let d = new Date(node.value);\n            let h = d.getHours();\n            let m = d.getMinutes();\n            let s = d.getSeconds();\n            const offset = d.getTimezoneOffset() * 60000;\n            d = new Date(d.getTime() - offset);\n            const ymd = d.toISOString().substring(0, 10);\n            if (h === 0 && m === 0 && s === 0) {\n                return ymd;\n            }\n            if (h === 0) h = '00';\n            if (m === 0) m = '00';\n            if (s === 0) s = '00';\n            return `${ymd} ${h}:${m}:${s}`;\n        }\n        return null;\n    },\n\n    formatInt: d3.format(',.0f'),\n    formatFloat: d3.format(',.2f'),\n\n    intFormatter: function(node) {\n        return formatInt(node.value);\n    },\n\n    floatFormatter: function(node) {\n        return formatFloat(node.value);\n    },\n\n    compareDates: function(filterLocalDate, cellValue) {\n        // Assume dates are stored as iso\n        const cellDate = new Date(cellValue);\n\n        if (cellDate < filterLocalDate) {\n            return -1;\n        } else if (cellDate > filterLocalDate) {\n            return 1;\n        }\n        return 0;\n    },\n\n    sizeToFit: function(gridOptions) {\n        gridOptions.api.sizeColumnsToFit();\n    },\n\n    autoSizeAll: function(gridOptions) {\n        const allColumnIds = [];\n        gridOptions.columnApi.getAllColumns().forEach(column => {\n            allColumnIds.push(column.colId);\n        });\n        gridOptions.columnApi.autoSizeColumns(allColumnIds);\n    },\n\n    /**\n     * Exporting data to CSV using ag-Grid api.\n     * @param {Object} gridOptions\n     */\n    exportToCsv: function(gridOptions) {\n        const params = {\n            skipHeader: false,\n            columnGroups: true,\n            skipFooters: false,\n            skipGroups: false,\n            skipPinnedTop: false,\n            skipPinnedBottom: false,\n            allColumns: true,\n            onlySelected: false,\n            suppressQuotes: true,\n            fileName: 'my_file.csv',\n            sheetName: 'my_sheet',\n            shouldRowBeSkipped: () => false,\n            processCellCallback: param => param.value,\n            processHeaderCallback: null,\n        };\n        gridOptions.api.exportDataAsCsv(params);\n    },\n\n    /**\n     * Exporting data to Excel using ag-Grid api.\n     * @param {Object} gridOptions\n     */\n    exportToExcel: function(gridOptions) {\n        const params = {\n            skipHeader: false,\n            columnGroups: true,\n            skipFooters: false,\n            skipGroups: false,\n            skipPinnedTop: false,\n            skipPinnedBottom: false,\n            allColumns: true,\n            onlySelected: false,\n            suppressQuotes: true,\n            fileName: 'my_file.xls',\n            sheetName: 'my_sheet',\n            shouldRowBeSkipped: () => false, // TODO : check\n            processCellCallback: param => param.value,\n            processHeaderCallback: null,\n        };\n        gridOptions.api.exportDataAsExcel(params);\n    },\n};\n",
       "columns_fit": "size_to_fit",
       "compress_data": true,
       "export_mode": "disabled",
       "height": "350px",
       "js_helpers": "{\"dateFormatter\":\"function(node) {\\n        // make sure date is not undefined\\n        if (node && node.value) {\\n            let d = new Date(node.value);\\n            let h = d.getHours();\\n            let m = d.getMinutes();\\n            let s = d.getSeconds();\\n            const offset = d.getTimezoneOffset() * 60000;\\n            d = new Date(d.getTime() - offset);\\n            const ymd = d.toISOString().substring(0, 10);\\n            if (h === 0 && m === 0 && s === 0) {\\n                return ymd;\\n            }\\n            if (h === 0) h = '00';\\n            if (m === 0) m = '00';\\n            if (s === 0) s = '00';\\n            return `${ymd} ${h}:${m}:${s}`;\\n        }\\n        return null;\\n    }\",\"formatInt\":\" >-,.0f\",\"formatFloat\":\" >-,.2f\",\"intFormatter\":\"function(node) {\\n        return formatInt(node.value);\\n    }\",\"floatFormatter\":\"function(node) {\\n        return formatFloat(node.value);\\n    }\",\"compareDates\":\"function(filterLocalDate, cellValue) {\\n        // Assume dates are stored as iso\\n        const cellDate = new Date(cellValue);\\n\\n        if (cellDate < filterLocalDate) {\\n            return -1;\\n        } else if (cellDate > filterLocalDate) {\\n            return 1;\\n        }\\n        return 0;\\n    }\",\"sizeToFit\":\"function(gridOptions) {\\n        gridOptions.api.sizeColumnsToFit();\\n    }\",\"autoSizeAll\":\"function(gridOptions) {\\n        const allColumnIds = [];\\n        gridOptions.columnApi.getAllColumns().forEach(column => {\\n            allColumnIds.push(column.colId);\\n        });\\n        gridOptions.columnApi.autoSizeColumns(allColumnIds);\\n    }\",\"exportToCsv\":\"function(gridOptions) {\\n        const params = {\\n            skipHeader: false,\\n            columnGroups: true,\\n            skipFooters: false,\\n            skipGroups: false,\\n            skipPinnedTop: false,\\n            skipPinnedBottom: false,\\n            allColumns: true,\\n            onlySelected: false,\\n            suppressQuotes: true,\\n            fileName: 'my_file.csv',\\n            sheetName: 'my_sheet',\\n            shouldRowBeSkipped: () => false,\\n            processCellCallback: param => param.value,\\n            processHeaderCallback: null,\\n        };\\n        gridOptions.api.exportDataAsCsv(params);\\n    }\",\"exportToExcel\":\"function(gridOptions) {\\n        const params = {\\n            skipHeader: false,\\n            columnGroups: true,\\n            skipFooters: false,\\n            skipGroups: false,\\n            skipPinnedTop: false,\\n            skipPinnedBottom: false,\\n            allColumns: true,\\n            onlySelected: false,\\n            suppressQuotes: true,\\n            fileName: 'my_file.xls',\\n            sheetName: 'my_sheet',\\n            shouldRowBeSkipped: () => false, // TODO : check\\n            processCellCallback: param => param.value,\\n            processHeaderCallback: null,\\n        };\\n        gridOptions.api.exportDataAsExcel(params);\\n    }\"}",
       "layout": "IPY_MODEL_d0b1e5c0b37a4d3b9a164f2825b724cd",
       "menu": {
        "button_div_css": ".flex-button-div-616368207 {\ndisplay: flex;\njustify-content: flex-start;\nalign-items: flex-start;\nalign-content: flex-start;\nflex-flow: row wrap;\n}\n",
        "buttons": [],
        "input_div_css": ".flex-input-div-616368207 {\ndisplay: flex;\njustify-content: flex-start;\nalign-items: baseline;\nalign-content: flex-start;\nflex-flow: row wrap;\n}\n",
        "inputs": [
         {
          "css": ".flex-child-quick-filter-616368207 {\norder: 0;\nalign-self: auto;\nmargin: 5px;\nflex: 0.00 1.00 auto;\nwidth: 150px;\n}\n",
          "name": "Quick Filter"
         }
        ],
        "menu_div_css": ".flex-menu-div-616368207 {\ndisplay: flex;\njustify-content: flex-start;\nalign-items: flex-start;\nalign-content: flex-start;\nflex-flow: row wrap;\n}\n"
       },
       "theme": "ag-theme-balham",
       "width": "100%"
      }
     },
     "a4d452c3d8d0461e8f1abd2884c533b2": {
      "model_module": "@jupyter-widgets/base",
      "model_module_version": "1.2.0",
      "model_name": "LayoutModel",
      "state": {
       "align_items": "stretch",
       "display": "flex",
       "flex_flow": "row",
       "grid_auto_columns": "True",
       "justify_content": "flex-end",
       "width": "90%"
      }
     },
     "a50a2369d3b84849bb4a4c276e1f74a5": {
      "model_module": "@jupyter-widgets/base",
      "model_module_version": "1.2.0",
      "model_name": "LayoutModel",
      "state": {}
     },
     "a51c780c5dc643248d307e72b219de8f": {
      "model_module": "@jupyter-widgets/controls",
      "model_module_version": "1.5.0",
      "model_name": "HTMLModel",
      "state": {
       "layout": "IPY_MODEL_4d125bb913ce4c77896bd3dc9e20e9ed",
       "style": "IPY_MODEL_be7d9eb0422342049297e69ae8e075bd",
       "value": "<p>1st section of space name code</p>"
      }
     },
     "a561de98f8fe4a7087e07a64656bc328": {
      "model_module": "@jupyter-widgets/controls",
      "model_module_version": "1.5.0",
      "model_name": "HTMLModel",
      "state": {
       "layout": "IPY_MODEL_d93f4d24ae944477b0515e7a1ac26f5d",
       "style": "IPY_MODEL_7c268d7250554dcaa44033e47e399238",
       "value": "<p>5th section of space name code (enter None if 5th section doesn't exist)</p>"
      }
     },
     "a57a74ddbe9b462ba5ed0c65981527e7": {
      "model_module": "@jupyter-widgets/controls",
      "model_module_version": "1.5.0",
      "model_name": "DescriptionStyleModel",
      "state": {
       "description_width": ""
      }
     },
     "a5e65102af0a462d9a624251d5270cab": {
      "model_module": "@jupyter-widgets/base",
      "model_module_version": "1.2.0",
      "model_name": "LayoutModel",
      "state": {
       "align_items": "stretch",
       "display": "flex",
       "flex_flow": "row",
       "grid_auto_columns": "True",
       "justify_content": "flex-end",
       "width": "90%"
      }
     },
     "a5fb836747ba479e9318da06e0184767": {
      "model_module": "@jupyter-widgets/controls",
      "model_module_version": "1.5.0",
      "model_name": "HTMLModel",
      "state": {
       "layout": "IPY_MODEL_7cde0f623a6c457a8ee5d8d9921088c6",
       "style": "IPY_MODEL_a73601bc3e834d57bddea23c9cc5d241",
       "value": "<p>4</p>"
      }
     },
     "a631941ebdaa443da9eda7d6b40319ee": {
      "model_module": "@jupyter-widgets/controls",
      "model_module_version": "1.5.0",
      "model_name": "ToggleButtonModel",
      "state": {
       "icon": "arrow-down",
       "layout": "IPY_MODEL_a360b4d0be194acab6302987f9c9d43b",
       "style": "IPY_MODEL_7935a4351cb144dea565ba78799dfc10"
      }
     },
     "a67c033f59574e8985bb069a3a82554d": {
      "model_module": "@jupyter-widgets/controls",
      "model_module_version": "1.5.0",
      "model_name": "DescriptionStyleModel",
      "state": {
       "description_width": ""
      }
     },
     "a687a52215dc4e808817c71688cbc6d9": {
      "model_module": "@jupyter-widgets/base",
      "model_module_version": "1.2.0",
      "model_name": "LayoutModel",
      "state": {
       "align_items": "stretch",
       "border": "dashed 0.2px green",
       "display": "flex",
       "flex_flow": "row",
       "grid_auto_columns": "True",
       "justify_content": "flex-start",
       "width": "100%"
      }
     },
     "a6c85664380d48e587d0619873b9155e": {
      "model_module": "@jupyter-widgets/base",
      "model_module_version": "1.2.0",
      "model_name": "LayoutModel",
      "state": {
       "align_items": "stretch",
       "border": "dashed 0.2px green",
       "display": "flex",
       "flex_flow": "row",
       "grid_auto_columns": "True",
       "justify_content": "flex-start",
       "width": "100%"
      }
     },
     "a6e55a4447104920b7f900fcd23d9c6f": {
      "model_module": "@jupyter-widgets/base",
      "model_module_version": "1.2.0",
      "model_name": "LayoutModel",
      "state": {
       "align_items": "stretch",
       "display": "flex",
       "flex_flow": "row",
       "grid_auto_columns": "True",
       "justify_content": "flex-start",
       "width": "80%"
      }
     },
     "a70d8a61d0dc47f68ef0da21e7e79baa": {
      "model_module": "@jupyter-widgets/base",
      "model_module_version": "1.2.0",
      "model_name": "LayoutModel",
      "state": {
       "height": "30px",
       "width": "auto"
      }
     },
     "a73601bc3e834d57bddea23c9cc5d241": {
      "model_module": "@jupyter-widgets/controls",
      "model_module_version": "1.5.0",
      "model_name": "DescriptionStyleModel",
      "state": {
       "description_width": ""
      }
     },
     "a777a01f52a048beb39852716f2322ad": {
      "model_module": "@jupyter-widgets/base",
      "model_module_version": "1.2.0",
      "model_name": "LayoutModel",
      "state": {}
     },
     "a788e100fc1a4d24a7ee8d6c98c101a1": {
      "model_module": "@jupyter-widgets/base",
      "model_module_version": "1.2.0",
      "model_name": "LayoutModel",
      "state": {}
     },
     "a7e48c3e3baa43079191927beecd8fff": {
      "model_module": "@jupyter-widgets/base",
      "model_module_version": "1.2.0",
      "model_name": "LayoutModel",
      "state": {}
     },
     "a7f97b599dae485cabf39cd3077ff0d4": {
      "model_module": "@jupyter-widgets/controls",
      "model_module_version": "1.5.0",
      "model_name": "HBoxModel",
      "state": {
       "children": [
        "IPY_MODEL_75d43012c6194138b85cef67479952a0"
       ],
       "layout": "IPY_MODEL_cc4a6065dfa3405fae7be7cb3680d620"
      }
     },
     "a84bd7dcde024d8c9b8c725005febb5e": {
      "model_module": "@jupyter-widgets/controls",
      "model_module_version": "1.5.0",
      "model_name": "DescriptionStyleModel",
      "state": {
       "description_width": ""
      }
     },
     "a85f6a0270e64b728739618c76779eca": {
      "model_module": "@jupyter-widgets/controls",
      "model_module_version": "1.5.0",
      "model_name": "TextModel",
      "state": {
       "description": "inputs",
       "disabled": true,
       "layout": "IPY_MODEL_31753ff603384c7e8bd6dcf93d027ee2",
       "style": "IPY_MODEL_a9225f53bbd5478cbdc9625ba585ebb9",
       "value": "C:\\engDev\\git_mf\\ipyrun\\examples\\notebooks\\appdata\\inputs\\inputs-gbxml.json"
      }
     },
     "a8aab953df274c0c875fe80a11fc60e0": {
      "model_module": "@jupyter-widgets/controls",
      "model_module_version": "1.5.0",
      "model_name": "HTMLModel",
      "state": {
       "layout": "IPY_MODEL_7ffdf73c815241d2ae68150403489aa4",
       "style": "IPY_MODEL_54053b681f8d419ebffa6d52702f14a3",
       "value": "<p>input gbxml filepath</p>"
      }
     },
     "a9225f53bbd5478cbdc9625ba585ebb9": {
      "model_module": "@jupyter-widgets/controls",
      "model_module_version": "1.5.0",
      "model_name": "DescriptionStyleModel",
      "state": {
       "description_width": ""
      }
     },
     "a9e23dab4179494785a6ac48a156c37c": {
      "model_module": "@jupyter-widgets/base",
      "model_module_version": "1.2.0",
      "model_name": "LayoutModel",
      "state": {}
     },
     "aa109daa95b64ea1855a78fdfda0a13d": {
      "model_module": "@jupyter-widgets/base",
      "model_module_version": "1.2.0",
      "model_name": "LayoutModel",
      "state": {
       "align_items": "stretch",
       "display": "flex",
       "flex_flow": "row",
       "grid_auto_columns": "True",
       "justify_content": "flex-start",
       "width": "80%"
      }
     },
     "aa13c288952c457aa687906c59524932": {
      "model_module": "@jupyter-widgets/base",
      "model_module_version": "1.2.0",
      "model_name": "LayoutModel",
      "state": {}
     },
     "aa68d45ae4d34148bc1338b4e90dc392": {
      "model_module": "@jupyter-widgets/base",
      "model_module_version": "1.2.0",
      "model_name": "LayoutModel",
      "state": {
       "align_items": "stretch",
       "display": "flex",
       "flex_flow": "row",
       "grid_auto_columns": "True",
       "justify_content": "flex-end",
       "width": "90%"
      }
     },
     "aa6e073eaf15456a9645e3f0a59e3722": {
      "model_module": "@jupyter-widgets/controls",
      "model_module_version": "1.5.0",
      "model_name": "HBoxModel",
      "state": {
       "children": [
        "IPY_MODEL_ad144d020f40418eaa95d8d85685cf4d",
        "IPY_MODEL_3ed3279886da439a8beeea4c41f1b2be"
       ],
       "layout": "IPY_MODEL_1c1750f75ff5420ca764c95be4e16018"
      }
     },
     "aabb26dbc44f4787bcc0135e45947982": {
      "model_module": "@jupyter-widgets/controls",
      "model_module_version": "1.5.0",
      "model_name": "ButtonStyleModel",
      "state": {
       "font_weight": "bold"
      }
     },
     "ab03b205de1540f7a04647156dc5baf0": {
      "model_module": "@jupyter-widgets/controls",
      "model_module_version": "1.5.0",
      "model_name": "VBoxModel",
      "state": {
       "children": [
        "IPY_MODEL_700cb12a09cb47aa896d7fb734c5833f",
        "IPY_MODEL_3409915467cd4a3290f7c75fc70da62e"
       ],
       "layout": "IPY_MODEL_0f1fe0b2d6684393822496bbfaa0f190"
      }
     },
     "ab0dda01b08848719da0fc1ff1ca5039": {
      "model_module": "@jupyter-widgets/base",
      "model_module_version": "1.2.0",
      "model_name": "LayoutModel",
      "state": {
       "align_items": "stretch",
       "display": "flex",
       "flex_flow": "row",
       "grid_auto_columns": "True",
       "justify_content": "flex-start",
       "width": "80%"
      }
     },
     "ab1122cd6a7f429e9dc025dd5446383d": {
      "model_module": "@jupyter-widgets/base",
      "model_module_version": "1.2.0",
      "model_name": "LayoutModel",
      "state": {}
     },
     "ab515809bd79488ab59a4a5519091a95": {
      "model_module": "@jupyter-widgets/base",
      "model_module_version": "1.2.0",
      "model_name": "LayoutModel",
      "state": {}
     },
     "ab93cf43e61e4110904d8cdb580d905d": {
      "model_module": "@jupyter-widgets/controls",
      "model_module_version": "1.5.0",
      "model_name": "DescriptionStyleModel",
      "state": {
       "description_width": ""
      }
     },
     "abbe961fade9419288602a0284cdf3e2": {
      "model_module": "@jupyter-widgets/base",
      "model_module_version": "1.2.0",
      "model_name": "LayoutModel",
      "state": {
       "align_items": "stretch",
       "border": "dashed 0.2px green",
       "display": "flex",
       "flex_flow": "row",
       "grid_auto_columns": "True",
       "justify_content": "flex-start",
       "width": "100%"
      }
     },
     "abe817f72595494197758c46eb8cb9c2": {
      "model_module": "@jupyter-widgets/controls",
      "model_module_version": "1.5.0",
      "model_name": "VBoxModel",
      "state": {
       "layout": "IPY_MODEL_205f9ea42d434c13a166007b517a261e"
      }
     },
     "ac063de3d8644ec0915d766a72b7c4d4": {
      "model_module": "@jupyter-widgets/base",
      "model_module_version": "1.2.0",
      "model_name": "LayoutModel",
      "state": {}
     },
     "ac223657a3374d5bb1c22d62ce17b9fd": {
      "model_module": "@jupyter-widgets/controls",
      "model_module_version": "1.5.0",
      "model_name": "DescriptionStyleModel",
      "state": {
       "description_width": ""
      }
     },
     "ac3469f652c743d1a18858e43ee92586": {
      "model_module": "@jupyter-widgets/base",
      "model_module_version": "1.2.0",
      "model_name": "LayoutModel",
      "state": {
       "align_items": "stretch",
       "border": "dashed 0.2px green",
       "display": "flex",
       "flex_flow": "row",
       "grid_auto_columns": "True",
       "justify_content": "flex-start",
       "width": "100%"
      }
     },
     "ac972ea1c9434de694fbc21e953107f7": {
      "model_module": "@jupyter-widgets/output",
      "model_module_version": "1.0.0",
      "model_name": "OutputModel",
      "state": {
       "layout": "IPY_MODEL_2343ffb7ee5842a89ac5a6fc9d4d91f3"
      }
     },
     "acdc28c102e44de6829c24f97a6e5f9c": {
      "model_module": "@jupyter-widgets/controls",
      "model_module_version": "1.5.0",
      "model_name": "DescriptionStyleModel",
      "state": {
       "description_width": ""
      }
     },
     "acee701aafbf47f78681ab9d743eecda": {
      "model_module": "@jupyter-widgets/controls",
      "model_module_version": "1.5.0",
      "model_name": "DescriptionStyleModel",
      "state": {
       "description_width": ""
      }
     },
     "acfb65790bc249c18ebe201924d8cbd2": {
      "model_module": "@jupyter-widgets/controls",
      "model_module_version": "1.5.0",
      "model_name": "VBoxModel",
      "state": {
       "children": [
        "IPY_MODEL_e36cbfedb9364a00a5fc6faa8d77a4d6",
        "IPY_MODEL_82766d1ca9a74a859d1e0b60b785cb17"
       ],
       "layout": "IPY_MODEL_1a241da2a6f140849006f5ef3f36d2fa"
      }
     },
     "ad144d020f40418eaa95d8d85685cf4d": {
      "model_module": "@jupyter-widgets/controls",
      "model_module_version": "1.5.0",
      "model_name": "TextModel",
      "state": {
       "layout": "IPY_MODEL_a1b66fcc0f7740c99c1cb7020afbb2b5",
       "style": "IPY_MODEL_f40c918133a1448286aba87e4537247a",
       "value": "C:\\engDev\\git_mf\\MF_Toolbox\\dev\\examples\\gbxml\\105_LiveseyExchange_heatpump-normal-fabric.xml"
      }
     },
     "ad26d3ac3dd94e3dadd55780aee948a1": {
      "model_module": "@jupyter-widgets/controls",
      "model_module_version": "1.5.0",
      "model_name": "HBoxModel",
      "state": {
       "children": [
        "IPY_MODEL_e303478929784d929cda693e513aed88",
        "IPY_MODEL_7343a48cdf154865800bee63ecd4549b"
       ],
       "layout": "IPY_MODEL_985a19513c7146e29fd92adff5244e96"
      }
     },
     "ad73d363452f4971a8dba5a30e9de7c1": {
      "model_module": "@jupyter-widgets/base",
      "model_module_version": "1.2.0",
      "model_name": "LayoutModel",
      "state": {}
     },
     "ad9c9e952bc5487fab6995a4d8e30ddb": {
      "model_module": "@jupyter-widgets/controls",
      "model_module_version": "1.5.0",
      "model_name": "DescriptionStyleModel",
      "state": {
       "description_width": ""
      }
     },
     "adf4d2b4cccc4ebbae553660f306c40f": {
      "model_module": "@jupyter-widgets/controls",
      "model_module_version": "1.5.0",
      "model_name": "HBoxModel",
      "state": {
       "children": [
        "IPY_MODEL_cca6781b578a4ea7ad88795ebbffcf15",
        "IPY_MODEL_7e551d2f427c494d977e7a14a5ba173a"
       ],
       "layout": "IPY_MODEL_dec1f4577008410c8093ec3efbaa64ff"
      }
     },
     "ae1c8a40b7574e5497da43bff2fc67c6": {
      "model_module": "@jupyter-widgets/base",
      "model_module_version": "1.2.0",
      "model_name": "LayoutModel",
      "state": {}
     },
     "ae922ee76f1a401bb0354f6c2e49747c": {
      "model_module": "@jupyter-widgets/controls",
      "model_module_version": "1.5.0",
      "model_name": "HBoxModel",
      "state": {
       "children": [
        "IPY_MODEL_d20cb4d6469b46818a0ad0dd6cafd2df",
        "IPY_MODEL_8d6efc5d2ec34154b02e4003c4b7964e"
       ],
       "layout": "IPY_MODEL_8b2c5f2154e94b1aa333546fd630c1ca"
      }
     },
     "af133b076c6d425188ca8052a78869a6": {
      "model_module": "@jupyter-widgets/controls",
      "model_module_version": "1.5.0",
      "model_name": "DescriptionStyleModel",
      "state": {
       "description_width": ""
      }
     },
     "af31307a231e45dbb6e10fb2e6bcfda1": {
      "model_module": "@jupyter-widgets/controls",
      "model_module_version": "1.5.0",
      "model_name": "DescriptionStyleModel",
      "state": {
       "description_width": ""
      }
     },
     "af98163a5ca6421fba9fc3bf9357c457": {
      "model_module": "@jupyter-widgets/base",
      "model_module_version": "1.2.0",
      "model_name": "LayoutModel",
      "state": {}
     },
     "afc80f4cced94c1face1e4505ae3d0ff": {
      "model_module": "@jupyter-widgets/controls",
      "model_module_version": "1.5.0",
      "model_name": "VBoxModel",
      "state": {
       "children": [
        "IPY_MODEL_b74873e0bdd848eda443c6f390abcc6e",
        "IPY_MODEL_f267601651ca47838711eef1da999dd8"
       ],
       "layout": "IPY_MODEL_54c36a291b664e2b9a00b138d9515b23"
      }
     },
     "afd3d8addd09452ea63ca9d629369f08": {
      "model_module": "@jupyter-widgets/output",
      "model_module_version": "1.0.0",
      "model_name": "OutputModel",
      "state": {
       "layout": "IPY_MODEL_734bc544b8c44fb4aa0e20c95432e3e6"
      }
     },
     "aff20e1437c84804a4a01c5a829ff774": {
      "model_module": "@jupyter-widgets/controls",
      "model_module_version": "1.5.0",
      "model_name": "HTMLModel",
      "state": {
       "layout": "IPY_MODEL_65e2c109c59e48d29c3fd5e30b110092",
       "style": "IPY_MODEL_5a516a744f56410abf75ec22769de0f2",
       "value": "<p>1st section of space name code</p>"
      }
     },
     "affd1e16c1734c928d9ba03a8766809f": {
      "model_module": "@jupyter-widgets/base",
      "model_module_version": "1.2.0",
      "model_name": "LayoutModel",
      "state": {
       "align_items": "stretch",
       "border": "dashed 0.2px green",
       "display": "flex",
       "flex_flow": "row",
       "grid_auto_columns": "True",
       "justify_content": "flex-start",
       "width": "100%"
      }
     },
     "affd2ddc74854f5e8b0ce4acb164eba3": {
      "model_module": "@jupyter-widgets/output",
      "model_module_version": "1.0.0",
      "model_name": "OutputModel",
      "state": {
       "layout": "IPY_MODEL_58d42ffc73d44a6ba65d628c63e30d80"
      }
     },
     "b0139426513b40c09da92521a94b94ad": {
      "model_module": "@jupyter-widgets/base",
      "model_module_version": "1.2.0",
      "model_name": "LayoutModel",
      "state": {}
     },
     "b035f8bec8ca482d9e2dcd6a0cca5687": {
      "model_module": "@jupyter-widgets/base",
      "model_module_version": "1.2.0",
      "model_name": "LayoutModel",
      "state": {}
     },
     "b044f11304394d83b2d4fe63f1127169": {
      "model_module": "@jupyter-widgets/base",
      "model_module_version": "1.2.0",
      "model_name": "LayoutModel",
      "state": {}
     },
     "b07665cbead34450a9ee1ae7ce815c14": {
      "model_module": "@jupyter-widgets/controls",
      "model_module_version": "1.5.0",
      "model_name": "HTMLModel",
      "state": {
       "layout": "IPY_MODEL_30721cf2036c4f84b2de37cc790513c1",
       "style": "IPY_MODEL_5ef4ec6404c54b8f9a57d86b21a7492d",
       "value": "<p>3</p>"
      }
     },
     "b0fd90fa8fa64f059cdadf09243994b8": {
      "model_module": "@jupyter-widgets/controls",
      "model_module_version": "1.5.0",
      "model_name": "VBoxModel",
      "state": {
       "layout": "IPY_MODEL_fefa2087a1204a81ade73592964e4f0c"
      }
     },
     "b1197087f5884beaaa955fb929f2eab6": {
      "model_module": "@jupyter-widgets/base",
      "model_module_version": "1.2.0",
      "model_name": "LayoutModel",
      "state": {}
     },
     "b12e0555f17d4a24a9879e560ee08208": {
      "model_module": "@jupyter-widgets/base",
      "model_module_version": "1.2.0",
      "model_name": "LayoutModel",
      "state": {
       "align_items": "stretch",
       "display": "flex",
       "flex_flow": "row",
       "grid_auto_columns": "True",
       "justify_content": "flex-end",
       "width": "90%"
      }
     },
     "b14d7c75e5b8454182775b9f1ad8dbb9": {
      "model_module": "@jupyter-widgets/controls",
      "model_module_version": "1.5.0",
      "model_name": "HBoxModel",
      "state": {
       "children": [
        "IPY_MODEL_2a20cf60cfcc46e1bf18ced56423b3e8"
       ],
       "layout": "IPY_MODEL_2b4203b7ddef4ca8a092a89d425b1271"
      }
     },
     "b1a657b1e0354cbbb9528a6d989ce466": {
      "model_module": "@jupyter-widgets/base",
      "model_module_version": "1.2.0",
      "model_name": "LayoutModel",
      "state": {}
     },
     "b1da62dac3264a5097849780f19a4393": {
      "model_module": "@jupyter-widgets/controls",
      "model_module_version": "1.5.0",
      "model_name": "TextModel",
      "state": {
       "layout": "IPY_MODEL_dc14bb1bd66045c1b10c9605fb48d275",
       "style": "IPY_MODEL_662d5fe7d4dc445495d84297c26b0d17",
       "value": "BlockCode"
      }
     },
     "b1f2c2bbedfd4a18b8fb157ce8293a1d": {
      "model_module": "@jupyter-widgets/controls",
      "model_module_version": "1.5.0",
      "model_name": "HBoxModel",
      "state": {
       "children": [
        "IPY_MODEL_f5a4152c97f94605878246474794c30d"
       ],
       "layout": "IPY_MODEL_2725fcf9fa9147feb3d5b08e80c0278a"
      }
     },
     "b252544cc8b742f6af954f6b3dbdb7e7": {
      "model_module": "@jupyter-widgets/controls",
      "model_module_version": "1.5.0",
      "model_name": "HBoxModel",
      "state": {
       "children": [
        "IPY_MODEL_75ed9ce96c724430b5febad139b074db",
        "IPY_MODEL_d2eb302500bb4deeb837872a75a37619"
       ],
       "layout": "IPY_MODEL_049fa3dbd93a4190acba9270b0bc4310"
      }
     },
     "b25f382b36714b2684a7e294ac1ec090": {
      "model_module": "@jupyter-widgets/base",
      "model_module_version": "1.2.0",
      "model_name": "LayoutModel",
      "state": {
       "align_items": "stretch",
       "border": "dashed 0.2px green",
       "display": "flex",
       "flex_flow": "row",
       "grid_auto_columns": "True",
       "justify_content": "flex-start",
       "width": "100%"
      }
     },
     "b2c5e98c03744d1fb4f2d43fcf135222": {
      "model_module": "@jupyter-widgets/base",
      "model_module_version": "1.2.0",
      "model_name": "LayoutModel",
      "state": {}
     },
     "b30cd9ef1cc74eafade9b0a68719b2da": {
      "model_module": "@jupyter-widgets/controls",
      "model_module_version": "1.5.0",
      "model_name": "DescriptionStyleModel",
      "state": {
       "description_width": ""
      }
     },
     "b36fa7e811684b6b894073cc30f33b02": {
      "model_module": "@jupyter-widgets/controls",
      "model_module_version": "1.5.0",
      "model_name": "DescriptionStyleModel",
      "state": {
       "description_width": ""
      }
     },
     "b39e9496669843328df3205a1fd86ec7": {
      "model_module": "@jupyter-widgets/controls",
      "model_module_version": "1.5.0",
      "model_name": "DescriptionStyleModel",
      "state": {
       "description_width": ""
      }
     },
     "b3c809995c874665af4a95cf63de038e": {
      "model_module": "@jupyter-widgets/output",
      "model_module_version": "1.0.0",
      "model_name": "OutputModel",
      "state": {
       "layout": "IPY_MODEL_ab515809bd79488ab59a4a5519091a95"
      }
     },
     "b44851d2ebb34de5bbd9ad7f82b42c3c": {
      "model_module": "@jupyter-widgets/base",
      "model_module_version": "1.2.0",
      "model_name": "LayoutModel",
      "state": {}
     },
     "b493a2b362c94b30a182c5c62fa80c1f": {
      "model_module": "@jupyter-widgets/controls",
      "model_module_version": "1.5.0",
      "model_name": "DescriptionStyleModel",
      "state": {
       "description_width": ""
      }
     },
     "b4b946e218f34228ae94e4f4f4a963ae": {
      "model_module": "@jupyter-widgets/controls",
      "model_module_version": "1.5.0",
      "model_name": "TextModel",
      "state": {
       "layout": "IPY_MODEL_082e7af2755c4107ae557a0f9f4a7e70",
       "style": "IPY_MODEL_a84bd7dcde024d8c9b8c725005febb5e",
       "value": "BlockCode"
      }
     },
     "b4bf36d5e88c4ac1b09fefe59b722a76": {
      "model_module": "@jupyter-widgets/controls",
      "model_module_version": "1.5.0",
      "model_name": "DescriptionStyleModel",
      "state": {
       "description_width": ""
      }
     },
     "b4e7d11b63f24a39b08e4f94ca57e260": {
      "model_module": "@jupyter-widgets/base",
      "model_module_version": "1.2.0",
      "model_name": "LayoutModel",
      "state": {}
     },
     "b4ee46033afa4cc1aebc3021e09c15ad": {
      "model_module": "@jupyter-widgets/base",
      "model_module_version": "1.2.0",
      "model_name": "LayoutModel",
      "state": {}
     },
     "b6ba774d194448b9b883b138f13a5765": {
      "model_module": "@jupyter-widgets/base",
      "model_module_version": "1.2.0",
      "model_name": "LayoutModel",
      "state": {}
     },
     "b6bd87fea8934010aa3db66ddc90f3b8": {
      "model_module": "@jupyter-widgets/controls",
      "model_module_version": "1.5.0",
      "model_name": "DescriptionStyleModel",
      "state": {
       "description_width": ""
      }
     },
     "b74873e0bdd848eda443c6f390abcc6e": {
      "model_module": "@jupyter-widgets/controls",
      "model_module_version": "1.5.0",
      "model_name": "HBoxModel",
      "state": {
       "children": [
        "IPY_MODEL_34661ba580eb423993ef5d0e9a4dc7fc"
       ],
       "layout": "IPY_MODEL_b25f382b36714b2684a7e294ac1ec090"
      }
     },
     "b7788f098f0e4db9aeec5bbadf472b92": {
      "model_module": "@jupyter-widgets/controls",
      "model_module_version": "1.5.0",
      "model_name": "HBoxModel",
      "state": {
       "children": [
        "IPY_MODEL_2ac1e15221854a5ab2e7954eee6c6a4a"
       ],
       "layout": "IPY_MODEL_1dc26c8054fc47e4be8f849689c40d70"
      }
     },
     "b7a802f103a0496281b7bbfbe546f024": {
      "model_module": "@jupyter-widgets/controls",
      "model_module_version": "1.5.0",
      "model_name": "HBoxModel",
      "state": {
       "children": [
        "IPY_MODEL_6fdfacda57014fd8bf21dbea3cf13de8",
        "IPY_MODEL_4c799b4510e04b64970a1c55c9e06d67"
       ],
       "layout": "IPY_MODEL_45d1de0aaa244da08e50dc50d01325b2"
      }
     },
     "b80e98b442c34bb2ba4a787fafde6837": {
      "model_module": "@jupyter-widgets/controls",
      "model_module_version": "1.5.0",
      "model_name": "TextModel",
      "state": {
       "layout": "IPY_MODEL_1259c316742749a7ad615da28de18bf0",
       "style": "IPY_MODEL_4368ba4171ed44c59773e3c41d674b22",
       "value": "BlockCode"
      }
     },
     "b8d0f871f9a040358d4ece56535668e1": {
      "model_module": "@jupyter-widgets/base",
      "model_module_version": "1.2.0",
      "model_name": "LayoutModel",
      "state": {}
     },
     "b90a6d591fd742e1ad476140f02dabdd": {
      "model_module": "@jupyter-widgets/base",
      "model_module_version": "1.2.0",
      "model_name": "LayoutModel",
      "state": {}
     },
     "b997b531e5e54617bacef9d11eeb94d6": {
      "model_module": "@jupyter-widgets/base",
      "model_module_version": "1.2.0",
      "model_name": "LayoutModel",
      "state": {}
     },
     "ba89d7547ea24c62977fa6be9e1bf26d": {
      "model_module": "@jupyter-widgets/base",
      "model_module_version": "1.2.0",
      "model_name": "LayoutModel",
      "state": {
       "align_items": "stretch",
       "border": "dashed 0.2px green",
       "display": "flex",
       "flex_flow": "row",
       "grid_auto_columns": "True",
       "justify_content": "flex-start",
       "width": "100%"
      }
     },
     "bb1178cc86c641279ac7c6c55138e2b3": {
      "model_module": "@jupyter-widgets/base",
      "model_module_version": "1.2.0",
      "model_name": "LayoutModel",
      "state": {}
     },
     "bc6a4fa7bf5f4d99904843dfead8a834": {
      "model_module": "@jupyter-widgets/controls",
      "model_module_version": "1.5.0",
      "model_name": "DescriptionStyleModel",
      "state": {
       "description_width": ""
      }
     },
     "bc912eac271d49339f442b91087e1c91": {
      "model_module": "@jupyter-widgets/controls",
      "model_module_version": "1.5.0",
      "model_name": "HBoxModel",
      "state": {
       "children": [
        "IPY_MODEL_136e54ce5c244bcaaee69c27402a00b9"
       ],
       "layout": "IPY_MODEL_affd1e16c1734c928d9ba03a8766809f"
      }
     },
     "bc972065a39d4ac4938be799ab5efde6": {
      "model_module": "@jupyter-widgets/output",
      "model_module_version": "1.0.0",
      "model_name": "OutputModel",
      "state": {
       "layout": "IPY_MODEL_0874f96702954c18aab2a011e17f97e6"
      }
     },
     "bd5b8d679f2b4e108e8e50436870d317": {
      "model_module": "@jupyter-widgets/controls",
      "model_module_version": "1.5.0",
      "model_name": "DescriptionStyleModel",
      "state": {
       "description_width": ""
      }
     },
     "be105c93b1fa4406be7d665d1aea856f": {
      "model_module": "@jupyter-widgets/controls",
      "model_module_version": "1.5.0",
      "model_name": "ButtonModel",
      "state": {
       "button_style": "warning",
       "description": "revert to last save",
       "layout": "IPY_MODEL_aa13c288952c457aa687906c59524932",
       "style": "IPY_MODEL_c7ffc6a5dc9c4d3dab73959c84c8e0eb"
      }
     },
     "be573f91419142aabb755aa01cc2e3d1": {
      "model_module": "@jupyter-widgets/controls",
      "model_module_version": "1.5.0",
      "model_name": "HBoxModel",
      "state": {
       "children": [
        "IPY_MODEL_8df935d2f931409b9c5bcb80894d902e",
        "IPY_MODEL_cd182cf332b5433085ddf2df40fb1b14"
       ],
       "layout": "IPY_MODEL_731a00e9b21c41cd943f3d95eefa5b0e"
      }
     },
     "be6ec138c6d84219b780b24cee8b0890": {
      "model_module": "@jupyter-widgets/base",
      "model_module_version": "1.2.0",
      "model_name": "LayoutModel",
      "state": {}
     },
     "be732aa2c65b4d06824c7c984b0aec3a": {
      "model_module": "@jupyter-widgets/controls",
      "model_module_version": "1.5.0",
      "model_name": "HBoxModel",
      "state": {
       "children": [
        "IPY_MODEL_c2a82bd9a8344721945eeafa07ffc38a",
        "IPY_MODEL_b7a802f103a0496281b7bbfbe546f024"
       ],
       "layout": "IPY_MODEL_0380dc5eaf8441a282ea177c331b4e7f"
      }
     },
     "be7d9eb0422342049297e69ae8e075bd": {
      "model_module": "@jupyter-widgets/controls",
      "model_module_version": "1.5.0",
      "model_name": "DescriptionStyleModel",
      "state": {
       "description_width": ""
      }
     },
     "bebfdca794d1421a907e40604cbbff0d": {
      "model_module": "@jupyter-widgets/base",
      "model_module_version": "1.2.0",
      "model_name": "LayoutModel",
      "state": {}
     },
     "bf368e14265c4b909db3f19057163d72": {
      "model_module": "@jupyter-widgets/base",
      "model_module_version": "1.2.0",
      "model_name": "LayoutModel",
      "state": {}
     },
     "bf4cb869053c45c89ef30aefa5d0c22d": {
      "model_module": "@jupyter-widgets/base",
      "model_module_version": "1.2.0",
      "model_name": "LayoutModel",
      "state": {
       "align_items": "stretch",
       "display": "flex",
       "flex_flow": "row",
       "grid_auto_columns": "True",
       "justify_content": "flex-start",
       "width": "80%"
      }
     },
     "bf76938975a849a9b427bb883e13094b": {
      "model_module": "@jupyter-widgets/controls",
      "model_module_version": "1.5.0",
      "model_name": "DescriptionStyleModel",
      "state": {
       "description_width": ""
      }
     },
     "bf93967354ca4efbb8fd0dcd7fd93710": {
      "model_module": "@jupyter-widgets/controls",
      "model_module_version": "1.5.0",
      "model_name": "HBoxModel",
      "state": {
       "children": [
        "IPY_MODEL_4c61281ad99b4ea7a7699019ce110130",
        "IPY_MODEL_da5332b7981249338d76ea27d81fa051"
       ],
       "layout": "IPY_MODEL_2190ade145a94d509ccf5bc3fc1da51f"
      }
     },
     "bf96de095af54958824d8c69284197ef": {
      "model_module": "@jupyter-widgets/controls",
      "model_module_version": "1.5.0",
      "model_name": "HTMLModel",
      "state": {
       "layout": "IPY_MODEL_f01f48197bfe434592bc4dd99edc85bc",
       "style": "IPY_MODEL_8100b94cd85a4d1483f64d6eb2b1b830",
       "value": "<p>defines the logic of the space naming. use default value where practical.</p>"
      }
     },
     "bfc08076a9fa45e3993af32e20633a97": {
      "model_module": "@jupyter-widgets/controls",
      "model_module_version": "1.5.0",
      "model_name": "TextModel",
      "state": {
       "layout": "IPY_MODEL_b2c5e98c03744d1fb4f2d43fcf135222",
       "style": "IPY_MODEL_5e6519b37a774a13a5b99da32a1618cf",
       "value": "SpaceId"
      }
     },
     "c0124898f690487db4f69a834c54f822": {
      "model_module": "@jupyter-widgets/controls",
      "model_module_version": "1.5.0",
      "model_name": "HTMLModel",
      "state": {
       "layout": "IPY_MODEL_b1a657b1e0354cbbb9528a6d989ce466",
       "style": "IPY_MODEL_1814c892cdf14b9baf97223ff55144e7",
       "value": "<p>2</p>"
      }
     },
     "c026d1d489444ce2bc3438af562ca7f6": {
      "model_module": "@jupyter-widgets/controls",
      "model_module_version": "1.5.0",
      "model_name": "VBoxModel",
      "state": {
       "children": [
        "IPY_MODEL_42e6d02a5c264ccca0eebf1dd9e92f80",
        "IPY_MODEL_d6a5e028d5a14814aeb7130a82376457",
        "IPY_MODEL_1c0bf9edbafd412b8b8dd9a22e8e871b",
        "IPY_MODEL_7aa140c21e7440aab98d81bccfdab5a7",
        "IPY_MODEL_dda139270c76408a9333f0358a5299ea"
       ],
       "layout": "IPY_MODEL_5dfcae0268db47d385276396212a8d7b"
      }
     },
     "c043ce2862954a909f288e7493189098": {
      "model_module": "@jupyter-widgets/base",
      "model_module_version": "1.2.0",
      "model_name": "LayoutModel",
      "state": {}
     },
     "c0acc6fbcdd74b4d8473af42d94e6fa0": {
      "model_module": "@jupyter-widgets/base",
      "model_module_version": "1.2.0",
      "model_name": "LayoutModel",
      "state": {
       "align_items": "stretch",
       "border": "dashed 0.2px green",
       "display": "flex",
       "flex_flow": "row",
       "grid_auto_columns": "True",
       "justify_content": "flex-start",
       "width": "100%"
      }
     },
     "c1019868c24447b183fea27b4c2edc62": {
      "model_module": "@jupyter-widgets/base",
      "model_module_version": "1.2.0",
      "model_name": "LayoutModel",
      "state": {}
     },
     "c1753b01e18842c5bf0ed577c9e8d6be": {
      "model_module": "@jupyter-widgets/controls",
      "model_module_version": "1.5.0",
      "model_name": "HTMLModel",
      "state": {
       "layout": "IPY_MODEL_2204eea1a80a45788d1320400e9d0706",
       "style": "IPY_MODEL_09185cf09d4c45c79d1c3e95b1a88c3b",
       "value": "<p>1</p>"
      }
     },
     "c1a8c9185c98475da5a4cfccf521ffcb": {
      "model_module": "@jupyter-widgets/base",
      "model_module_version": "1.2.0",
      "model_name": "LayoutModel",
      "state": {
       "align_items": "stretch",
       "display": "flex",
       "flex_flow": "row",
       "grid_auto_columns": "True",
       "justify_content": "flex-end",
       "width": "90%"
      }
     },
     "c1e6295f96a64e099bb13b44429fae41": {
      "model_module": "@jupyter-widgets/controls",
      "model_module_version": "1.5.0",
      "model_name": "HTMLModel",
      "state": {
       "layout": "IPY_MODEL_3e60c51a8a4742778b7931358e8796ab",
       "style": "IPY_MODEL_385ae06483284bbfa06d991325d2d1ce",
       "value": "<p>2</p>"
      }
     },
     "c270187870fd446fb1d42045b65a587c": {
      "model_module": "@jupyter-widgets/controls",
      "model_module_version": "1.5.0",
      "model_name": "HTMLModel",
      "state": {
       "layout": "IPY_MODEL_588e28ad715d4319a20fa5419ee5f417",
       "style": "IPY_MODEL_d92176202b17499eb19d14db9f879e26",
       "value": "<p>input gbxml filepath</p>"
      }
     },
     "c28feef7f8174175b3bff02120337336": {
      "model_module": "@jupyter-widgets/base",
      "model_module_version": "1.2.0",
      "model_name": "LayoutModel",
      "state": {}
     },
     "c2a82bd9a8344721945eeafa07ffc38a": {
      "model_module": "@jupyter-widgets/controls",
      "model_module_version": "1.5.0",
      "model_name": "HTMLModel",
      "state": {
       "layout": "IPY_MODEL_99659d8424e0416bb449d763f5b84a28",
       "style": "IPY_MODEL_25292296d54943eb8e7a6dabc069c268",
       "value": "<p>3</p>"
      }
     },
     "c336cc3e3d8b4a64953599c727af6457": {
      "model_module": "@jupyter-widgets/base",
      "model_module_version": "1.2.0",
      "model_name": "LayoutModel",
      "state": {}
     },
     "c34831b010b84911ab1731bf27891cc4": {
      "model_module": "@jupyter-widgets/base",
      "model_module_version": "1.2.0",
      "model_name": "LayoutModel",
      "state": {
       "align_items": "stretch",
       "border": "dashed 0.2px green",
       "display": "flex",
       "flex_flow": "row",
       "grid_auto_columns": "True",
       "justify_content": "flex-start",
       "width": "100%"
      }
     },
     "c35ee1310a0e47e4bc4f4d49b6721322": {
      "model_module": "@jupyter-widgets/controls",
      "model_module_version": "1.5.0",
      "model_name": "HBoxModel",
      "state": {
       "children": [
        "IPY_MODEL_6edab272ba7b439090e8caea8bb86c4d",
        "IPY_MODEL_8ca97cd049ea46b8affc73f74c1e038c"
       ],
       "layout": "IPY_MODEL_aa109daa95b64ea1855a78fdfda0a13d"
      }
     },
     "c399739238ef4d6499a5b5fa20bc27b4": {
      "model_module": "@jupyter-widgets/controls",
      "model_module_version": "1.5.0",
      "model_name": "DescriptionStyleModel",
      "state": {
       "description_width": ""
      }
     },
     "c4845e8e1f564cd68fd1315a9cfb0f8c": {
      "model_module": "@jupyter-widgets/base",
      "model_module_version": "1.2.0",
      "model_name": "LayoutModel",
      "state": {}
     },
     "c599f94455b5490bab3300e0919e4907": {
      "model_module": "@jupyter-widgets/controls",
      "model_module_version": "1.5.0",
      "model_name": "HBoxModel",
      "state": {
       "children": [
        "IPY_MODEL_4ce331474e754261977b441fde700621"
       ],
       "layout": "IPY_MODEL_9cad8cf32b3348f8994fa981403bd0f7"
      }
     },
     "c5a4232acff24020959a72566a00ee8b": {
      "model_module": "@jupyter-widgets/base",
      "model_module_version": "1.2.0",
      "model_name": "LayoutModel",
      "state": {
       "align_items": "stretch",
       "display": "flex",
       "flex_flow": "row",
       "grid_auto_columns": "True",
       "justify_content": "flex-end",
       "width": "90%"
      }
     },
     "c5c35c59e06b4d20a23163fc28cb7339": {
      "model_module": "@jupyter-widgets/base",
      "model_module_version": "1.2.0",
      "model_name": "LayoutModel",
      "state": {}
     },
     "c5d108ccf6e9436d9ab80ee72c7fdda6": {
      "model_module": "@jupyter-widgets/controls",
      "model_module_version": "1.5.0",
      "model_name": "TextModel",
      "state": {
       "layout": "IPY_MODEL_764939fb0f8749659502cc8bd3e905b6",
       "style": "IPY_MODEL_46fb60bd372f45e7b667ee7daa5f4b36",
       "value": "SpaceType"
      }
     },
     "c63014ebca1049eda7dbc84f9be16d3c": {
      "model_module": "@jupyter-widgets/controls",
      "model_module_version": "1.5.0",
      "model_name": "ButtonStyleModel",
      "state": {
       "font_weight": "bold"
      }
     },
     "c6b44bb2dd444e4b9f84584513e8f8f3": {
      "model_module": "@jupyter-widgets/controls",
      "model_module_version": "1.5.0",
      "model_name": "TextModel",
      "state": {
       "layout": "IPY_MODEL_e9b32232d6214c48866500ba19b586f4",
       "style": "IPY_MODEL_347ddd66d568408caccc126e780b35ec",
       "value": "C:\\engDev\\git_mf\\MF_Toolbox\\dev\\examples\\gbxml\\105_LiveseyExchange_heatpump-normal-fabric.xml"
      }
     },
     "c6c89aa29412433b82ee25d256b5eb64": {
      "model_module": "@jupyter-widgets/controls",
      "model_module_version": "1.5.0",
      "model_name": "VBoxModel",
      "state": {
       "children": [
        "IPY_MODEL_6a4ddc27329c41e68b7b24f0605d6865",
        "IPY_MODEL_b14d7c75e5b8454182775b9f1ad8dbb9",
        "IPY_MODEL_29275c2181b24021836c6e6532ada1a0",
        "IPY_MODEL_a7f97b599dae485cabf39cd3077ff0d4",
        "IPY_MODEL_e45792ed41cc419e9cf2b5d87754cf80"
       ],
       "layout": "IPY_MODEL_fe4914e556604a8b890fb8b2c61e546f"
      }
     },
     "c6c93cd7fb3a4cad8cc21bcdeb7adb0b": {
      "model_module": "@jupyter-widgets/base",
      "model_module_version": "1.2.0",
      "model_name": "LayoutModel",
      "state": {}
     },
     "c6e67f02289a477a97b9e8de14a6468e": {
      "model_module": "@jupyter-widgets/controls",
      "model_module_version": "1.5.0",
      "model_name": "HBoxModel",
      "state": {
       "children": [
        "IPY_MODEL_b1da62dac3264a5097849780f19a4393",
        "IPY_MODEL_809c7fefec4e48f0acea9962719ae23c"
       ],
       "layout": "IPY_MODEL_302b294f9422435fa7c3b5ecea5af941"
      }
     },
     "c719107d82f24a8e8ea93141537cc90f": {
      "model_module": "@jupyter-widgets/controls",
      "model_module_version": "1.5.0",
      "model_name": "DescriptionStyleModel",
      "state": {
       "description_width": ""
      }
     },
     "c7ffc6a5dc9c4d3dab73959c84c8e0eb": {
      "model_module": "@jupyter-widgets/controls",
      "model_module_version": "1.5.0",
      "model_name": "ButtonStyleModel",
      "state": {
       "font_weight": "bold"
      }
     },
     "c806232ac80b47d8b736f6b7e8c55394": {
      "model_module": "@jupyter-widgets/controls",
      "model_module_version": "1.5.0",
      "model_name": "HBoxModel",
      "state": {
       "children": [
        "IPY_MODEL_a0f78aebe9ff4df3a105dd292ee0761d"
       ],
       "layout": "IPY_MODEL_601158a432344a7284405191e241c1fa"
      }
     },
     "c8413128cb954b05a5c6e9c22091b435": {
      "model_module": "@jupyter-widgets/base",
      "model_module_version": "1.2.0",
      "model_name": "LayoutModel",
      "state": {
       "align_items": "stretch",
       "display": "flex",
       "flex_flow": "row",
       "grid_auto_columns": "True",
       "justify_content": "flex-start",
       "width": "80%"
      }
     },
     "c8415af030a94d7db8a9835ead8f1d25": {
      "model_module": "@jupyter-widgets/base",
      "model_module_version": "1.2.0",
      "model_name": "LayoutModel",
      "state": {}
     },
     "c86b7336fa684786bd5a836adc49b9bf": {
      "model_module": "@jupyter-widgets/controls",
      "model_module_version": "1.5.0",
      "model_name": "DescriptionStyleModel",
      "state": {
       "description_width": ""
      }
     },
     "c87f214219cd4b75afd0a28836b5ad69": {
      "model_module": "@jupyter-widgets/base",
      "model_module_version": "1.2.0",
      "model_name": "LayoutModel",
      "state": {}
     },
     "c88db33032a94d849b706063eac66e6a": {
      "model_module": "@jupyter-widgets/controls",
      "model_module_version": "1.5.0",
      "model_name": "DescriptionStyleModel",
      "state": {
       "description_width": ""
      }
     },
     "c8bdfbe18221437b9faeca120c465e0e": {
      "model_module": "@jupyter-widgets/base",
      "model_module_version": "1.2.0",
      "model_name": "LayoutModel",
      "state": {}
     },
     "c9ee063d96cc4f02aa1779f01a786a22": {
      "model_module": "@jupyter-widgets/base",
      "model_module_version": "1.2.0",
      "model_name": "LayoutModel",
      "state": {
       "align_items": "stretch",
       "display": "flex",
       "flex_flow": "row",
       "grid_auto_columns": "True",
       "justify_content": "flex-end",
       "width": "90%"
      }
     },
     "ca49e9edfac34bab8ee67e38990efa37": {
      "model_module": "@jupyter-widgets/controls",
      "model_module_version": "1.5.0",
      "model_name": "DescriptionStyleModel",
      "state": {
       "description_width": ""
      }
     },
     "cb05da344e5e48d2abc8cd6c51cfb1cb": {
      "model_module": "@jupyter-widgets/output",
      "model_module_version": "1.0.0",
      "model_name": "OutputModel",
      "state": {
       "layout": "IPY_MODEL_9ca58d5a281d48989daa81b592a8247e"
      }
     },
     "cb11436fd3d74caca69ef7496104c9ef": {
      "model_module": "@jupyter-widgets/base",
      "model_module_version": "1.2.0",
      "model_name": "LayoutModel",
      "state": {
       "align_items": "stretch",
       "display": "flex",
       "flex_flow": "row",
       "grid_auto_columns": "True",
       "justify_content": "flex-end",
       "width": "90%"
      }
     },
     "cb1b61971af544d1acdb4b4290241a99": {
      "model_module": "@jupyter-widgets/controls",
      "model_module_version": "1.5.0",
      "model_name": "DescriptionStyleModel",
      "state": {
       "description_width": ""
      }
     },
     "cb40c2396caa46019f6fc21c7f770e01": {
      "model_module": "@jupyter-widgets/controls",
      "model_module_version": "1.5.0",
      "model_name": "ButtonModel",
      "state": {
       "icon": "eye-slash",
       "layout": "IPY_MODEL_73d794ceb1474ccc968b477ce5796166",
       "style": "IPY_MODEL_36b0c8648c4d4b70bae5eaab60e6534b",
       "tooltip": "removes temporary output view"
      }
     },
     "cb8e49640a1444948cf9d6a8d76a88f9": {
      "model_module": "@jupyter-widgets/base",
      "model_module_version": "1.2.0",
      "model_name": "LayoutModel",
      "state": {
       "align_items": "stretch",
       "display": "flex",
       "flex_flow": "row",
       "grid_auto_columns": "True",
       "justify_content": "flex-end",
       "width": "90%"
      }
     },
     "cbef3fe9daf240239605b441883919d5": {
      "model_module": "@jupyter-widgets/controls",
      "model_module_version": "1.5.0",
      "model_name": "TextModel",
      "state": {
       "layout": "IPY_MODEL_29d9cacae5e4460eb1b4f8c9d8c7e8a4",
       "style": "IPY_MODEL_fa628cd46dcb4626b42204cafe4cacbb",
       "value": "BlockCode"
      }
     },
     "cc18bdb7513f4b77afaed82d63db1164": {
      "model_module": "@jupyter-widgets/base",
      "model_module_version": "1.2.0",
      "model_name": "LayoutModel",
      "state": {}
     },
     "cc46e980575a444aac91125df5c6e965": {
      "model_module": "@jupyter-widgets/controls",
      "model_module_version": "1.5.0",
      "model_name": "VBoxModel",
      "state": {
       "children": [
        "IPY_MODEL_ea922d7acda64bf9be563774b13e2471",
        "IPY_MODEL_673de2d1f8814f8aaeebca0f99b95f9d",
        "IPY_MODEL_c806232ac80b47d8b736f6b7e8c55394",
        "IPY_MODEL_bc912eac271d49339f442b91087e1c91",
        "IPY_MODEL_fc574c16cc0846afbedfb18781400a6f"
       ],
       "layout": "IPY_MODEL_07308b406f244e35860adefc5adecd8d"
      }
     },
     "cc4a6065dfa3405fae7be7cb3680d620": {
      "model_module": "@jupyter-widgets/base",
      "model_module_version": "1.2.0",
      "model_name": "LayoutModel",
      "state": {
       "align_items": "stretch",
       "border": "dashed 0.2px green",
       "display": "flex",
       "flex_flow": "row",
       "grid_auto_columns": "True",
       "justify_content": "flex-start",
       "width": "100%"
      }
     },
     "cc7227509d3748fd807bb9d64372ebfd": {
      "model_module": "@jupyter-widgets/controls",
      "model_module_version": "1.5.0",
      "model_name": "DescriptionStyleModel",
      "state": {
       "description_width": ""
      }
     },
     "cca6781b578a4ea7ad88795ebbffcf15": {
      "model_module": "@jupyter-widgets/controls",
      "model_module_version": "1.5.0",
      "model_name": "HTMLModel",
      "state": {
       "layout": "IPY_MODEL_a0fa8715d55949249d2103ee215ff2f1",
       "style": "IPY_MODEL_72ec7f154db14d889340ba38f4f1620d",
       "value": "<p>0</p>"
      }
     },
     "ccb28eed3ba8419baced6936b15ad382": {
      "model_module": "@jupyter-widgets/controls",
      "model_module_version": "1.5.0",
      "model_name": "DescriptionStyleModel",
      "state": {
       "description_width": ""
      }
     },
     "ccef28c795154fa2a22d6ccd97369931": {
      "model_module": "@jupyter-widgets/controls",
      "model_module_version": "1.5.0",
      "model_name": "HTMLModel",
      "state": {
       "layout": "IPY_MODEL_b90a6d591fd742e1ad476140f02dabdd",
       "style": "IPY_MODEL_dfa4ae18ecab4f659b9ef5f738765718",
       "value": "<p>fpth_in</p>"
      }
     },
     "ccf73e7ecc664bbb853d1ba96a307271": {
      "model_module": "@jupyter-widgets/controls",
      "model_module_version": "1.5.0",
      "model_name": "DescriptionStyleModel",
      "state": {
       "description_width": ""
      }
     },
     "cd182cf332b5433085ddf2df40fb1b14": {
      "model_module": "@jupyter-widgets/controls",
      "model_module_version": "1.5.0",
      "model_name": "HTMLModel",
      "state": {
       "layout": "IPY_MODEL_8fb5f51283b2428aafc2a60fb5bef0cc",
       "style": "IPY_MODEL_2873189f128b470f957e8da56af4f10f",
       "value": "<p>2nd section of space name code</p>"
      }
     },
     "cd37b41fff3c4889917dd1e0d02a4141": {
      "model_module": "@jupyter-widgets/controls",
      "model_module_version": "1.5.0",
      "model_name": "HTMLModel",
      "state": {
       "layout": "IPY_MODEL_0b8e9e00dc1a466998457f7923458c00",
       "style": "IPY_MODEL_66080e71510c4ad0819d11a39d601aa9",
       "value": "<p>4</p>"
      }
     },
     "cdbad8c00343447fbdc382a333eabacb": {
      "model_module": "@jupyter-widgets/controls",
      "model_module_version": "1.5.0",
      "model_name": "DescriptionStyleModel",
      "state": {
       "description_width": ""
      }
     },
     "ce11394d4fa44cbc935dbc0045dfd4da": {
      "model_module": "@jupyter-widgets/controls",
      "model_module_version": "1.5.0",
      "model_name": "ButtonModel",
      "state": {
       "icon": "question-circle",
       "layout": "IPY_MODEL_4ccd11c0356548a487e626b962f2002f",
       "style": "IPY_MODEL_95c7cce2fe31491aa923821f1b99ff5e",
       "tooltip": "describes the functionality of elements in the RunApp interface"
      }
     },
     "ce3d42ec9b2e470b8f96ddb5ed11b395": {
      "model_module": "@jupyter-widgets/base",
      "model_module_version": "1.2.0",
      "model_name": "LayoutModel",
      "state": {}
     },
     "ce4ff47b93534046a04bf75dd03a76f5": {
      "model_module": "@jupyter-widgets/base",
      "model_module_version": "1.2.0",
      "model_name": "LayoutModel",
      "state": {}
     },
     "cea4a82e5a3d4554ae592ca163e985b0": {
      "model_module": "@jupyter-widgets/base",
      "model_module_version": "1.2.0",
      "model_name": "LayoutModel",
      "state": {}
     },
     "ced66de7a1064e22a96800f81496e41b": {
      "model_module": "@jupyter-widgets/base",
      "model_module_version": "1.2.0",
      "model_name": "LayoutModel",
      "state": {
       "align_items": "stretch",
       "width": "100%"
      }
     },
     "cf9122d680904c97b3ae928b4ec75e7f": {
      "model_module": "@jupyter-widgets/controls",
      "model_module_version": "1.5.0",
      "model_name": "HBoxModel",
      "state": {
       "children": [
        "IPY_MODEL_c6b44bb2dd444e4b9f84584513e8f8f3",
        "IPY_MODEL_c270187870fd446fb1d42045b65a587c"
       ],
       "layout": "IPY_MODEL_12fa888b2131447ca8f4fd95bade3736"
      }
     },
     "cfc5cb78d8f04b27bba750fb3013c10f": {
      "model_module": "@jupyter-widgets/controls",
      "model_module_version": "1.5.0",
      "model_name": "VBoxModel",
      "state": {
       "children": [
        "IPY_MODEL_6a3be84f13534a8e94e48845065bed0f",
        "IPY_MODEL_156e0d26038a43a5a94ce29133f39c9c",
        "IPY_MODEL_7deb04c015454ae9ae37249c2a6f41fd",
        "IPY_MODEL_2c4c0b0ce0a84a8e8b2e0e9b8167ef02",
        "IPY_MODEL_771a84ef2a794367aea2f580fc44b39e"
       ],
       "layout": "IPY_MODEL_18319f0fefb34205b8dd52edef5fc55b"
      }
     },
     "cff6a28021d2448ba381617606950d28": {
      "model_module": "@jupyter-widgets/controls",
      "model_module_version": "1.5.0",
      "model_name": "HBoxModel",
      "state": {
       "children": [
        "IPY_MODEL_24f1f948edab499ab97ad3182ada6f7a",
        "IPY_MODEL_cf9122d680904c97b3ae928b4ec75e7f"
       ],
       "layout": "IPY_MODEL_997c90c10493479686e28cb9955d7c20"
      }
     },
     "d00bd2ae9a544aa091c22d1aa3275ad9": {
      "model_module": "@jupyter-widgets/base",
      "model_module_version": "1.2.0",
      "model_name": "LayoutModel",
      "state": {
       "align_items": "stretch",
       "width": "100%"
      }
     },
     "d0563bbd37dd4ac1b6663968a50a88f8": {
      "model_module": "@jupyter-widgets/controls",
      "model_module_version": "1.5.0",
      "model_name": "TextModel",
      "state": {
       "layout": "IPY_MODEL_9e8f1c17e53148cfb5122ef59f090159",
       "style": "IPY_MODEL_0ec86a97fd344f1eb17d364e12dad07d",
       "value": "TM46Category"
      }
     },
     "d0b1e5c0b37a4d3b9a164f2825b724cd": {
      "model_module": "@jupyter-widgets/base",
      "model_module_version": "1.2.0",
      "model_name": "LayoutModel",
      "state": {}
     },
     "d100c6dc778944208630d05c7ec2a6f4": {
      "model_module": "@jupyter-widgets/base",
      "model_module_version": "1.2.0",
      "model_name": "LayoutModel",
      "state": {}
     },
     "d151f2d9d99444a7a5fad6c4aee323da": {
      "model_module": "@jupyter-widgets/base",
      "model_module_version": "1.2.0",
      "model_name": "LayoutModel",
      "state": {}
     },
     "d19b4f9be613408da6fd646843745858": {
      "model_module": "@jupyter-widgets/base",
      "model_module_version": "1.2.0",
      "model_name": "LayoutModel",
      "state": {
       "width": "100%"
      }
     },
     "d1dafc33cfd845a9989cef039c80059f": {
      "model_module": "@jupyter-widgets/base",
      "model_module_version": "1.2.0",
      "model_name": "LayoutModel",
      "state": {}
     },
     "d20cb4d6469b46818a0ad0dd6cafd2df": {
      "model_module": "@jupyter-widgets/controls",
      "model_module_version": "1.5.0",
      "model_name": "TextModel",
      "state": {
       "layout": "IPY_MODEL_c8bdfbe18221437b9faeca120c465e0e",
       "style": "IPY_MODEL_13401a31b5fd462a85d6300319f0bbd5",
       "value": "SpaceType"
      }
     },
     "d22544fb2b2e4c46b7ad2bf06f1b30ea": {
      "model_module": "@jupyter-widgets/controls",
      "model_module_version": "1.5.0",
      "model_name": "TextModel",
      "state": {
       "layout": "IPY_MODEL_9b90f26a9622488b8cd7b7a266418781",
       "style": "IPY_MODEL_c88db33032a94d849b706063eac66e6a",
       "value": "Level"
      }
     },
     "d233123434e34a6091fc3d338fbf402e": {
      "model_module": "@jupyter-widgets/base",
      "model_module_version": "1.2.0",
      "model_name": "LayoutModel",
      "state": {
       "align_items": "stretch",
       "border": "dashed 0.2px green",
       "display": "flex",
       "flex_flow": "row",
       "grid_auto_columns": "True",
       "justify_content": "flex-start",
       "width": "100%"
      }
     },
     "d2495c22522d44fb9c71a7d89b7f03e9": {
      "model_module": "@jupyter-widgets/controls",
      "model_module_version": "1.5.0",
      "model_name": "DescriptionStyleModel",
      "state": {
       "description_width": ""
      }
     },
     "d2eb302500bb4deeb837872a75a37619": {
      "model_module": "@jupyter-widgets/controls",
      "model_module_version": "1.5.0",
      "model_name": "HTMLModel",
      "state": {
       "layout": "IPY_MODEL_a0c17a95b14e4fce888a8a7f6abebfef",
       "style": "IPY_MODEL_e7f0d7e89b6c40f9aaa303b0147158eb",
       "value": "<p>5th section of space name code (enter None if 5th section doesn't exist)</p>"
      }
     },
     "d2ef021deb7f4f30aa8754a681f671db": {
      "model_module": "@jupyter-widgets/base",
      "model_module_version": "1.2.0",
      "model_name": "LayoutModel",
      "state": {
       "align_items": "stretch",
       "border": "dashed 0.2px green",
       "display": "flex",
       "flex_flow": "row",
       "grid_auto_columns": "True",
       "justify_content": "flex-start",
       "width": "100%"
      }
     },
     "d306a37e956b4fffbf7c6839f8ba1f47": {
      "model_module": "@jupyter-widgets/controls",
      "model_module_version": "1.5.0",
      "model_name": "HBoxModel",
      "state": {
       "children": [
        "IPY_MODEL_6c4c1fee10f94b5eafebb58975cd47a5",
        "IPY_MODEL_d6e7e98e5b12440ea38e8f9fc5f94162"
       ],
       "layout": "IPY_MODEL_c5a4232acff24020959a72566a00ee8b"
      }
     },
     "d35e71315b2d422e9df2d1127ac34477": {
      "model_module": "@jupyter-widgets/controls",
      "model_module_version": "1.5.0",
      "model_name": "DescriptionStyleModel",
      "state": {
       "description_width": ""
      }
     },
     "d3e945b5f7ca4a1dab56a8896134dd4e": {
      "model_module": "@jupyter-widgets/controls",
      "model_module_version": "1.5.0",
      "model_name": "HBoxModel",
      "state": {
       "children": [
        "IPY_MODEL_30269e0a631743088ecfae54946e225a",
        "IPY_MODEL_8eaf3b5889a9467f9a0904dffc516037"
       ],
       "layout": "IPY_MODEL_91e5fdb8660c4625873d37c5548912aa"
      }
     },
     "d41e975225ce416884fec56ebf0977c1": {
      "model_module": "@jupyter-widgets/base",
      "model_module_version": "1.2.0",
      "model_name": "LayoutModel",
      "state": {
       "align_items": "stretch",
       "display": "flex",
       "flex_flow": "row",
       "grid_auto_columns": "True",
       "justify_content": "flex-end",
       "width": "90%"
      }
     },
     "d4bdf7baf2294c1aa1466981210f3474": {
      "model_module": "@jupyter-widgets/base",
      "model_module_version": "1.2.0",
      "model_name": "LayoutModel",
      "state": {}
     },
     "d4e8cd01a0394463b76148c340c4b5a9": {
      "model_module": "@jupyter-widgets/base",
      "model_module_version": "1.2.0",
      "model_name": "LayoutModel",
      "state": {}
     },
     "d553549ee4194128b21e798c4b189a86": {
      "model_module": "@jupyter-widgets/controls",
      "model_module_version": "1.5.0",
      "model_name": "HTMLModel",
      "state": {
       "layout": "IPY_MODEL_03ae384cd7fc49bab84d6d384dd8d948",
       "style": "IPY_MODEL_ccf73e7ecc664bbb853d1ba96a307271",
       "value": "<p>0</p>"
      }
     },
     "d55e058e5de24187ba675779f30b5cee": {
      "model_module": "@jupyter-widgets/controls",
      "model_module_version": "1.5.0",
      "model_name": "HTMLModel",
      "state": {
       "layout": "IPY_MODEL_8e437f030b254d8f9af57f4ab797df1b",
       "style": "IPY_MODEL_357aa14343684e45abef917746f85367",
       "value": "<p>2</p>"
      }
     },
     "d645097c41e94f1f944c0c6d9f28806f": {
      "model_module": "@jupyter-widgets/controls",
      "model_module_version": "1.5.0",
      "model_name": "HBoxModel",
      "state": {
       "children": [
        "IPY_MODEL_25c64545d75243598061a2ee9d092d83",
        "IPY_MODEL_d3e945b5f7ca4a1dab56a8896134dd4e"
       ],
       "layout": "IPY_MODEL_6cebf523e06343bb8ebd77f9f9989763"
      }
     },
     "d6a5e028d5a14814aeb7130a82376457": {
      "model_module": "@jupyter-widgets/controls",
      "model_module_version": "1.5.0",
      "model_name": "HBoxModel",
      "state": {
       "children": [
        "IPY_MODEL_1aa9e17aa1274231b0612c6efff6af3e"
       ],
       "layout": "IPY_MODEL_632078f4dd0b4b5aa7e13901163c2465"
      }
     },
     "d6b0a794518e433ba5dff3f02d9daf51": {
      "model_module": "@jupyter-widgets/base",
      "model_module_version": "1.2.0",
      "model_name": "LayoutModel",
      "state": {}
     },
     "d6df4a536d29453cbb5417245541989a": {
      "model_module": "@jupyter-widgets/controls",
      "model_module_version": "1.5.0",
      "model_name": "TextModel",
      "state": {
       "layout": "IPY_MODEL_01d6c4cbbd4a4a52869394eaf553312b",
       "style": "IPY_MODEL_33ab10b1dd2e401f9ec9a4cd21917bf4",
       "value": "SpaceType"
      }
     },
     "d6e7e98e5b12440ea38e8f9fc5f94162": {
      "model_module": "@jupyter-widgets/controls",
      "model_module_version": "1.5.0",
      "model_name": "HBoxModel",
      "state": {
       "children": [
        "IPY_MODEL_6487c116be1e4319b51d695a6209c89b",
        "IPY_MODEL_117e806a6ad140c782077683f6b9aa41"
       ],
       "layout": "IPY_MODEL_bf4cb869053c45c89ef30aefa5d0c22d"
      }
     },
     "d6f0dbdf5ae14a63a0fef760cd9f527c": {
      "model_module": "@jupyter-widgets/base",
      "model_module_version": "1.2.0",
      "model_name": "LayoutModel",
      "state": {
       "align_items": "stretch",
       "display": "flex",
       "flex_flow": "row",
       "grid_auto_columns": "True",
       "justify_content": "flex-end",
       "width": "90%"
      }
     },
     "d78d863a10864e72a41b62f440ab4111": {
      "model_module": "@jupyter-widgets/output",
      "model_module_version": "1.0.0",
      "model_name": "OutputModel",
      "state": {
       "layout": "IPY_MODEL_e09b73c20b094d218a67e0f51ac5f3c0"
      }
     },
     "d7b8d865bbe44e479e2cdf50de8c0be0": {
      "model_module": "@jupyter-widgets/controls",
      "model_module_version": "1.5.0",
      "model_name": "DescriptionStyleModel",
      "state": {
       "description_width": ""
      }
     },
     "d7e1e5206a3046a8971c08a314186d41": {
      "model_module": "@jupyter-widgets/controls",
      "model_module_version": "1.5.0",
      "model_name": "DescriptionStyleModel",
      "state": {
       "description_width": ""
      }
     },
     "d8718b71f301462ea92dc35bf8dea54f": {
      "model_module": "@jupyter-widgets/controls",
      "model_module_version": "1.5.0",
      "model_name": "HTMLModel",
      "state": {
       "layout": "IPY_MODEL_b44851d2ebb34de5bbd9ad7f82b42c3c",
       "style": "IPY_MODEL_45de299fd58245149c8cd2014f5a43fe",
       "value": "<p>1st section of space name code</p>"
      }
     },
     "d8bf53e86df644c0a5baeaff07402bbf": {
      "model_module": "@jupyter-widgets/base",
      "model_module_version": "1.2.0",
      "model_name": "LayoutModel",
      "state": {}
     },
     "d8df5cb8348d4d10a1a96922c990de94": {
      "model_module": "@jupyter-widgets/base",
      "model_module_version": "1.2.0",
      "model_name": "LayoutModel",
      "state": {}
     },
     "d91150e88318448ea558f9af1624a374": {
      "model_module": "@jupyter-widgets/controls",
      "model_module_version": "1.5.0",
      "model_name": "HBoxModel",
      "state": {
       "children": [
        "IPY_MODEL_eda0823159bc476e9ebd9a0e5d44d9b1",
        "IPY_MODEL_3499e63c53844821883344d156565a57"
       ],
       "layout": "IPY_MODEL_7a0f7288100a42cb834abd6b0529929a"
      }
     },
     "d92176202b17499eb19d14db9f879e26": {
      "model_module": "@jupyter-widgets/controls",
      "model_module_version": "1.5.0",
      "model_name": "DescriptionStyleModel",
      "state": {
       "description_width": ""
      }
     },
     "d93f4d24ae944477b0515e7a1ac26f5d": {
      "model_module": "@jupyter-widgets/base",
      "model_module_version": "1.2.0",
      "model_name": "LayoutModel",
      "state": {}
     },
     "d95ad50f6309477e821724246e53da25": {
      "model_module": "@jupyter-widgets/base",
      "model_module_version": "1.2.0",
      "model_name": "LayoutModel",
      "state": {
       "align_items": "stretch",
       "display": "flex",
       "flex_flow": "row",
       "grid_auto_columns": "True",
       "justify_content": "flex-end",
       "width": "90%"
      }
     },
     "d96ab41d915f475ba9badfdf5e6576ce": {
      "model_module": "@jupyter-widgets/base",
      "model_module_version": "1.2.0",
      "model_name": "LayoutModel",
      "state": {}
     },
     "d9c990b3e62345a6ae8f0ed48ef15867": {
      "model_module": "@jupyter-widgets/controls",
      "model_module_version": "1.5.0",
      "model_name": "DescriptionStyleModel",
      "state": {
       "description_width": ""
      }
     },
     "d9da287ac9944ba183fbcae26c26b0c5": {
      "model_module": "@jupyter-widgets/controls",
      "model_module_version": "1.5.0",
      "model_name": "DescriptionStyleModel",
      "state": {
       "description_width": ""
      }
     },
     "d9f23f8b259f4711aaf04e0b6ce95ff4": {
      "model_module": "@jupyter-widgets/controls",
      "model_module_version": "1.5.0",
      "model_name": "HTMLModel",
      "state": {
       "layout": "IPY_MODEL_7b77e4474b76431b85392d673b022378",
       "style": "IPY_MODEL_eb5e908a3ec74e47b8df9f1241d0d0c2",
       "value": "<p>4th section of space name code (enter None if 4th section doesn't exist)</p>"
      }
     },
     "da215c5f03c94c1496e71448efdcfdea": {
      "model_module": "@jupyter-widgets/base",
      "model_module_version": "1.2.0",
      "model_name": "LayoutModel",
      "state": {
       "align_items": "stretch",
       "display": "flex",
       "flex_flow": "row",
       "grid_auto_columns": "True",
       "justify_content": "flex-start",
       "width": "80%"
      }
     },
     "da5332b7981249338d76ea27d81fa051": {
      "model_module": "@jupyter-widgets/controls",
      "model_module_version": "1.5.0",
      "model_name": "HTMLModel",
      "state": {
       "layout": "IPY_MODEL_1cf3be2287db4eec82e2c727bcdad53d",
       "style": "IPY_MODEL_dc94dbecb4d24f168b19e74905731faa",
       "value": "<p>5th section of space name code (enter None if 5th section doesn't exist)</p>"
      }
     },
     "da5f3de277714149a203af7601fa8dd6": {
      "model_module": "@jupyter-widgets/controls",
      "model_module_version": "1.5.0",
      "model_name": "TextModel",
      "state": {
       "layout": "IPY_MODEL_ebd9753b1a9a40b1aeb01a77fe628d6e",
       "style": "IPY_MODEL_9fe05e7241f64156bd29f5f59d9661f1",
       "value": "BlockCode"
      }
     },
     "da70bcc473b4458aa1c745f8993df373": {
      "model_module": "@jupyter-widgets/controls",
      "model_module_version": "1.5.0",
      "model_name": "HBoxModel",
      "state": {
       "children": [
        "IPY_MODEL_54704f022ebe4bcd866bc0e79cf104a5"
       ],
       "layout": "IPY_MODEL_ac3469f652c743d1a18858e43ee92586"
      }
     },
     "da7cd96367ca47c7a2bc46e6f0a8d472": {
      "model_module": "@jupyter-widgets/base",
      "model_module_version": "1.2.0",
      "model_name": "LayoutModel",
      "state": {}
     },
     "daf5c88167bf410eb874d28b69248de8": {
      "model_module": "@jupyter-widgets/base",
      "model_module_version": "1.2.0",
      "model_name": "LayoutModel",
      "state": {
       "align_items": "stretch",
       "display": "flex",
       "flex_flow": "row",
       "grid_auto_columns": "True",
       "justify_content": "flex-start",
       "width": "80%"
      }
     },
     "db5f0feff6cb46449f41d584a1cf2ba1": {
      "model_module": "@jupyter-widgets/controls",
      "model_module_version": "1.5.0",
      "model_name": "DescriptionStyleModel",
      "state": {
       "description_width": ""
      }
     },
     "dbc9d7d738254a03a347feb26ea319f0": {
      "model_module": "@jupyter-widgets/controls",
      "model_module_version": "1.5.0",
      "model_name": "DescriptionStyleModel",
      "state": {
       "description_width": ""
      }
     },
     "dbd8ded2f6184f369e9f170aa72c70ca": {
      "model_module": "@jupyter-widgets/base",
      "model_module_version": "1.2.0",
      "model_name": "LayoutModel",
      "state": {
       "flex_flow": "column",
       "height": "auto",
       "width": "auto"
      }
     },
     "dc14bb1bd66045c1b10c9605fb48d275": {
      "model_module": "@jupyter-widgets/base",
      "model_module_version": "1.2.0",
      "model_name": "LayoutModel",
      "state": {}
     },
     "dc248f80599046e28b95cb159503ae24": {
      "model_module": "@jupyter-widgets/base",
      "model_module_version": "1.2.0",
      "model_name": "LayoutModel",
      "state": {}
     },
     "dc8a304e74f64566a8b8b3b7f5467149": {
      "model_module": "@jupyter-widgets/base",
      "model_module_version": "1.2.0",
      "model_name": "LayoutModel",
      "state": {}
     },
     "dc94dbecb4d24f168b19e74905731faa": {
      "model_module": "@jupyter-widgets/controls",
      "model_module_version": "1.5.0",
      "model_name": "DescriptionStyleModel",
      "state": {
       "description_width": ""
      }
     },
     "dd0c4c2a3df74d1bbc3735b701781e74": {
      "model_module": "@jupyter-widgets/output",
      "model_module_version": "1.0.0",
      "model_name": "OutputModel",
      "state": {
       "layout": "IPY_MODEL_6d69d57555444ad6b8c8a8611a5da9e8"
      }
     },
     "dd1a338066a54d398f30c776f2bfad99": {
      "model_module": "@jupyter-widgets/base",
      "model_module_version": "1.2.0",
      "model_name": "LayoutModel",
      "state": {}
     },
     "dd1e8a68b0384ea5a78a5f92e240da9e": {
      "model_module": "@jupyter-widgets/controls",
      "model_module_version": "1.5.0",
      "model_name": "HTMLModel",
      "state": {
       "layout": "IPY_MODEL_c1019868c24447b183fea27b4c2edc62",
       "style": "IPY_MODEL_ab93cf43e61e4110904d8cdb580d905d",
       "value": "<p>defines the logic of the space naming. use default value where practical.</p>"
      }
     },
     "dd7bbea5b6ee474c8c5186f47a023d12": {
      "model_module": "@jupyter-widgets/base",
      "model_module_version": "1.2.0",
      "model_name": "LayoutModel",
      "state": {}
     },
     "dda139270c76408a9333f0358a5299ea": {
      "model_module": "@jupyter-widgets/controls",
      "model_module_version": "1.5.0",
      "model_name": "HBoxModel",
      "state": {
       "children": [
        "IPY_MODEL_5797e025fe82403284b43cd6b3332aa3"
       ],
       "layout": "IPY_MODEL_6c3b1a206a1c488c84326feae5733cf7"
      }
     },
     "ddb54f206b7b4191a36111fe87b98e8e": {
      "model_module": "@jupyter-widgets/base",
      "model_module_version": "1.2.0",
      "model_name": "LayoutModel",
      "state": {}
     },
     "ddf9a8c026d84bd3b99f0ab20310b754": {
      "model_module": "@jupyter-widgets/controls",
      "model_module_version": "1.5.0",
      "model_name": "SelectMultipleModel",
      "state": {
       "_options_labels": [
        "gbxml.xml",
        "gbjson.json",
        "gbxml_datagrab.xlsx",
        "gbxml_spcs-treemap.png"
       ],
       "index": [
        2
       ],
       "layout": "IPY_MODEL_dbd8ded2f6184f369e9f170aa72c70ca",
       "rows": 5,
       "style": "IPY_MODEL_067902ef8ccd4f8ea0da6c25bc408b44"
      }
     },
     "de1ee4a3160b442db9220c75316916aa": {
      "model_module": "@jupyter-widgets/controls",
      "model_module_version": "1.5.0",
      "model_name": "VBoxModel",
      "state": {
       "children": [
        "IPY_MODEL_ea922d7acda64bf9be563774b13e2471",
        "IPY_MODEL_673de2d1f8814f8aaeebca0f99b95f9d",
        "IPY_MODEL_c806232ac80b47d8b736f6b7e8c55394",
        "IPY_MODEL_bc912eac271d49339f442b91087e1c91",
        "IPY_MODEL_fc574c16cc0846afbedfb18781400a6f"
       ],
       "layout": "IPY_MODEL_72d3c3cedd5c441e9c05973424295013"
      }
     },
     "dec1f4577008410c8093ec3efbaa64ff": {
      "model_module": "@jupyter-widgets/base",
      "model_module_version": "1.2.0",
      "model_name": "LayoutModel",
      "state": {
       "align_items": "stretch",
       "display": "flex",
       "flex_flow": "row",
       "grid_auto_columns": "True",
       "justify_content": "flex-end",
       "width": "90%"
      }
     },
     "decff15e25df44c58613207a4fc842b1": {
      "model_module": "@jupyter-widgets/controls",
      "model_module_version": "1.5.0",
      "model_name": "DescriptionStyleModel",
      "state": {
       "description_width": ""
      }
     },
     "ded69366dc2947e0be0dfe2234e040ea": {
      "model_module": "@jupyter-widgets/controls",
      "model_module_version": "1.5.0",
      "model_name": "TextModel",
      "state": {
       "description": "script",
       "disabled": true,
       "layout": "IPY_MODEL_0b98e5132c5048cab7373daeef81b763",
       "style": "IPY_MODEL_42c24f4c62bc4dbe9aaf5eade31d1a47",
       "value": "C:\\engDev\\git_mf\\MF_Toolbox\\dev\\mf_scripts\\gbxml.py"
      }
     },
     "df2940740cbe43d78ba4d6bfdd687452": {
      "model_module": "@jupyter-widgets/controls",
      "model_module_version": "1.5.0",
      "model_name": "TextModel",
      "state": {
       "layout": "IPY_MODEL_33ba4502b45b45ef97f7002d462a9a14",
       "style": "IPY_MODEL_7caeb22e0f1c4fb59824f1ac2b2b7e45",
       "value": "SpaceId"
      }
     },
     "df3b7873aed34284871beb4f462af9be": {
      "model_module": "@jupyter-widgets/output",
      "model_module_version": "1.0.0",
      "model_name": "OutputModel",
      "state": {
       "layout": "IPY_MODEL_e411980d888241cfad4395d679a60743"
      }
     },
     "df68d9ca451d46edb88662cf4d08544b": {
      "model_module": "@jupyter-widgets/controls",
      "model_module_version": "1.5.0",
      "model_name": "SelectMultipleModel",
      "state": {
       "_options_labels": [
        "gbxml.xml",
        "gbjson.json",
        "gbxml_datagrab.xlsx",
        "gbxml_spcs-treemap.png"
       ],
       "index": [
        2
       ],
       "layout": "IPY_MODEL_63b71403e162404e8cf97e5c726081d5",
       "rows": 5,
       "style": "IPY_MODEL_4cc8a57965e440408b8506ccb51af1bc"
      }
     },
     "df6a917ae0a946ae954bb0d3abad320e": {
      "model_module": "@jupyter-widgets/base",
      "model_module_version": "1.2.0",
      "model_name": "LayoutModel",
      "state": {
       "align_items": "stretch",
       "display": "flex",
       "flex_flow": "row",
       "grid_auto_columns": "True",
       "justify_content": "flex-end",
       "width": "90%"
      }
     },
     "dfa4ae18ecab4f659b9ef5f738765718": {
      "model_module": "@jupyter-widgets/controls",
      "model_module_version": "1.5.0",
      "model_name": "DescriptionStyleModel",
      "state": {
       "description_width": ""
      }
     },
     "e04996c5059940c9b4f66acc3b4ad30c": {
      "model_module": "@jupyter-widgets/controls",
      "model_module_version": "1.5.0",
      "model_name": "HBoxModel",
      "state": {
       "children": [
        "IPY_MODEL_adf4d2b4cccc4ebbae553660f306c40f"
       ],
       "layout": "IPY_MODEL_abbe961fade9419288602a0284cdf3e2"
      }
     },
     "e068e0f789024c5bad57a407757d8570": {
      "model_module": "@jupyter-widgets/controls",
      "model_module_version": "1.5.0",
      "model_name": "DescriptionStyleModel",
      "state": {
       "description_width": ""
      }
     },
     "e08ef68b4deb4d36aedb16d5148e7088": {
      "model_module": "@jupyter-widgets/controls",
      "model_module_version": "1.5.0",
      "model_name": "DescriptionStyleModel",
      "state": {
       "description_width": ""
      }
     },
     "e09b73c20b094d218a67e0f51ac5f3c0": {
      "model_module": "@jupyter-widgets/base",
      "model_module_version": "1.2.0",
      "model_name": "LayoutModel",
      "state": {}
     },
     "e2c4f338a2b5402a90c6055cc5d5eb11": {
      "model_module": "@jupyter-widgets/controls",
      "model_module_version": "1.5.0",
      "model_name": "TextModel",
      "state": {
       "layout": "IPY_MODEL_f7de511cfe614a7e9f5f46f596544bb1",
       "style": "IPY_MODEL_d9da287ac9944ba183fbcae26c26b0c5",
       "value": "TM46Category"
      }
     },
     "e2eff89804f1464ebc90d3a88f62f1ce": {
      "model_module": "@jupyter-widgets/controls",
      "model_module_version": "1.5.0",
      "model_name": "DescriptionStyleModel",
      "state": {
       "description_width": ""
      }
     },
     "e303478929784d929cda693e513aed88": {
      "model_module": "@jupyter-widgets/controls",
      "model_module_version": "1.5.0",
      "model_name": "CheckboxModel",
      "state": {
       "disabled": false,
       "indent": false,
       "layout": "IPY_MODEL_0f20c55ea6094fb983fd6a63f1b23880",
       "style": "IPY_MODEL_a57a74ddbe9b462ba5ed0c65981527e7",
       "value": false
      }
     },
     "e32032027e054fa488b427ec38f0f1e1": {
      "model_module": "@jupyter-widgets/output",
      "model_module_version": "1.0.0",
      "model_name": "OutputModel",
      "state": {
       "layout": "IPY_MODEL_6d93e08a4f4045a99660c6654aa9e263"
      }
     },
     "e331f35d39f241e9b55be3833ec4a726": {
      "model_module": "@jupyter-widgets/base",
      "model_module_version": "1.2.0",
      "model_name": "LayoutModel",
      "state": {}
     },
     "e3348b0c01194eb4bc9df5e040cd6305": {
      "model_module": "@jupyter-widgets/controls",
      "model_module_version": "1.5.0",
      "model_name": "ButtonModel",
      "state": {
       "button_style": "info",
       "description": "show source code",
       "layout": "IPY_MODEL_6958c01744f246b8a63f2c461bade2d0",
       "style": "IPY_MODEL_f8c3571212a94390856a000e583c6843",
       "tooltip": "shows the raw python code in the preview window below"
      }
     },
     "e34717b19123476ab9096f2fefba8ff0": {
      "buffers": [
       {
        "data": "H4sIAAAAAAACA+1ZbU/iQBD+K6T3AU2K15aXFj/pCRoiRw3g9RLSkLVdYOOy5bat4hn/++0LICfQ81jPqIck0uzQeeaZmU6fbu+1IUWhdnivhSAB2mGvZ+hap1vrn9QbTU3XKpWKnWuQBFICcO4EIozI8PMpjiLKrC4NIYVhDQXJXm8vf5QSlOT1XN67gLTzIwUUfoXs1PP8vp7by39K4FSYzQPDqZRtM7/v7zMvGNxBWuCgNddtazozV3XNNMr9JrqBMbyrT4MRIEPYH0GQTNLxpEAiOga4MABXFAWaTlKMH//5es+UJKQ/SaKmFLJ1YBn8b0PIzKwYsSUjPm265jzi+nQSxTDMKWbbODBLGaFzs2LsRRn7xXG7u9IyF4AmKEERUWkX23HscmVju9iq7VKSBNquezon0I6iwVvOeVmG7B03l/pllnMPYKwUu5Mdu6MYe0XXLlvnLddr9d0LBnFJrkl0S3JBROKEpsGsXQhYAy/8qMHbMnX1713rsdohDABrVgJxrJI627RK1VmnCky+9Hfxar2n6CjkzucxF2RKTIndAmPIrT1p9kw/56YsNMFF/qQ7QsE1gXHMfreJmKATr9AxjMqsE4SlDQcYBgkgAcfsbXJ2SoGooXR3lNxNRIisPzsRBnS2HKd0AALYnVnNVfDyvA03x70Bio2fDChrBaokLtetoBirbyhGVxg+m5etwisTzMoA82UzUEDiMUq2LWJGWr9EyWgF3yoXtyWbyXQtmO38TrauQJTVtdF+bkmdoq1Q0k04a6pZshYE12GtnRTFNZOi0fJ8dpMmH2NQ2NZrDQoFqN2g+MO1uxsULzcoHnHEZ42kWTsqZo6OhoDPgPwxouqTwZxfMVJPPjn9+CqO6GSe++1Tv1zcxZOanEWFG4DTLO/Lio4JPG9VEFdsw1lwYBLSWUhIby4hOzBIKUrucmcY/GQPySrPO07JdIrmkorkSy+qIr1sFWl9HBVpGq+mIhWgdjeHzHldrlb/h5tDyXh7KtLLVpHmB5KRpr2bFO99UlS3z+xORqrKSO9fysjyu5eRRompyEcZ6esaIiGc9ml0G/NXMITNVnbQ0xp8melMTUDG4rUMf6vB3xPw/Xa+Zc33gPleKt/Q5IrU9x/m/oIIp2MiTpMrXLJqrFTim09wcXApGYnjJq9bI1xe7z+VqcI4jkKIxRHXufLkMzAR3yy93LX/8PALXAbf7VcaAAA=",
        "encoding": "base64",
        "path": [
         "_grid_data_up"
        ]
       }
      ],
      "model_module": "ipyaggrid",
      "model_module_version": "~0.2.1",
      "model_name": "AgGridModel",
      "state": {
       "_grid_data_down": [
        {
         "@id": "STD_CEIL",
         "Frame": null,
         "Gap": null,
         "Glaze": null,
         "LayerId": "layer-STD_DOOR",
         "Name": "6667 Internal Ceiling/Floor",
         "U-value": "OrderedDict([('@unit', 'WPerSquareMeterK'), ('#text', '1.086571')])",
         "U-value_WPerSquareMeterK": 1.09,
         "index": 0,
         "model": "105_LiveseyExchange_heatpump-normal-fabric"
        },
        {
         "@id": "STD_DOOR",
         "Frame": null,
         "Gap": null,
         "Glaze": null,
         "LayerId": "layer-STD_DOOR",
         "Name": "6667 Door",
         "U-value": "OrderedDict([('@unit', 'WPerSquareMeterK'), ('#text', '2.200000')])",
         "U-value_WPerSquareMeterK": 2.2,
         "index": 1,
         "model": "105_LiveseyExchange_heatpump-normal-fabric"
        },
        {
         "@id": "STD_FLO1",
         "Frame": null,
         "Gap": null,
         "Glaze": null,
         "LayerId": "layer-STD_DOOR",
         "Name": "6667 Exposed Floor",
         "U-value": "OrderedDict([('@unit', 'WPerSquareMeterK'), ('#text', '0.140000')])",
         "U-value_WPerSquareMeterK": 0.14,
         "index": 2,
         "model": "105_LiveseyExchange_heatpump-normal-fabric"
        },
        {
         "@id": "STD_PART",
         "Frame": null,
         "Gap": null,
         "Glaze": null,
         "LayerId": "layer-STD_DOOR",
         "Name": "6667 Internal Partition",
         "U-value": "OrderedDict([('@unit', 'WPerSquareMeterK'), ('#text', '1.788756')])",
         "U-value_WPerSquareMeterK": 1.79,
         "index": 3,
         "model": "105_LiveseyExchange_heatpump-normal-fabric"
        },
        {
         "@id": "STD_ROOF",
         "Frame": null,
         "Gap": null,
         "Glaze": null,
         "LayerId": "layer-STD_DOOR",
         "Name": "6667 Roof",
         "U-value": "OrderedDict([('@unit', 'WPerSquareMeterK'), ('#text', '0.140000')])",
         "U-value_WPerSquareMeterK": 0.14,
         "index": 4,
         "model": "105_LiveseyExchange_heatpump-normal-fabric"
        },
        {
         "@id": "STD_WAL1",
         "Frame": null,
         "Gap": null,
         "Glaze": null,
         "LayerId": "layer-STD_DOOR",
         "Name": "6667 External Wall",
         "U-value": "OrderedDict([('@unit', 'WPerSquareMeterK'), ('#text', '0.180000')])",
         "U-value_WPerSquareMeterK": 0.18,
         "index": 5,
         "model": "105_LiveseyExchange_heatpump-normal-fabric"
        },
        {
         "@id": "UNKNOWN_OP",
         "Frame": null,
         "Gap": null,
         "Glaze": null,
         "LayerId": "layer-STD_DOOR",
         "Name": "Unknown construction",
         "U-value": "na",
         "U-value_WPerSquareMeterK": null,
         "index": 6,
         "model": "105_LiveseyExchange_heatpump-normal-fabric"
        },
        {
         "@id": "STD_EXT2",
         "Frame": "OrderedDict([('Absorptance', OrderedDict([('@unit', 'Fraction'), ('@type', 'ExtIR'), ('#text', '0.700000')])), ('R-value', OrderedDict([('@unit', 'SquareMeterKPerW'), ('#text', '0.167080')]))])",
         "Gap": "OrderedDict([('@id', 'STD_EXT2-layer-2'), ('@gas', 'Air'), ('Thickness', OrderedDict([('@unit', 'Meters'), ('#text', '0.012000')]))])",
         "Glaze": "[OrderedDict([('@id', 'STD_EXT2-layer-1'), ('Name', '[STD_EXW1] Outer Pane'), ('Thickness', OrderedDict([('@unit', 'Meters'), ('#text', '0.006000')])), ('Reflectance', [OrderedDict([('@unit', 'Fraction'), ('@type', 'ExtSolar'), ('@surfaceType', '1'), ('#text', '0.050000')]), OrderedDict([('@unit', 'Fraction'), ('@type', 'IntSolar'), ('@surfaceType', '2'), ('#text', '0.414000')]), OrderedDict([('@unit', 'Fraction'), ('@type', 'ExtVisible'), ('@surfaceType', '1'), ('#text', '0.070000')]), OrderedDict([('@unit', 'Fraction'), ('@type', 'IntVisible'), ('@surfaceType', '2'), ('#text', '0.070000')])]), ('Transmittance', [OrderedDict([('@unit', 'Fraction'), ('@type', 'Solar'), ('@surfaceType', 'Both'), ('#text', '0.253000')]), OrderedDict([('@unit', 'Fraction'), ('@type', 'Visible'), ('@surfaceType', 'Both'), ('#text', '0.780000')])]), ('Emittance', [OrderedDict([('@unit', 'Fraction'), ('@type', 'ExtIR'), ('@surfaceType', '1'), ('#text', '0.837000')]), OrderedDict([('@unit', 'Fraction'), ('@type', 'IntIR'), ('@surfaceType', '2'), ('#text', '0.042000')])])]), OrderedDict([('@id', 'STD_EXT2-layer-3'), ('Name', '[STD_INW] Inner Pane'), ('Thickness', OrderedDict([('@unit', 'Meters'), ('#text', '0.006000')])), ('Reflectance', [OrderedDict([('@unit', 'Fraction'), ('@type', 'ExtSolar'), ('@surfaceType', '1'), ('#text', '0.072000')]), OrderedDict([('@unit', 'Fraction'), ('@type', 'IntSolar'), ('@surfaceType', '2'), ('#text', '0.072000')]), OrderedDict([('@unit', 'Fraction'), ('@type', 'ExtVisible'), ('@surfaceType', '1'), ('#text', '0.070000')]), OrderedDict([('@unit', 'Fraction'), ('@type', 'IntVisible'), ('@surfaceType', '2'), ('#text', '0.070000')])]), ('Transmittance', [OrderedDict([('@unit', 'Fraction'), ('@type', 'Solar'), ('@surfaceType', 'Both'), ('#text', '0.783000')]), OrderedDict([('@unit', 'Fraction'), ('@type', 'Visible'), ('@surfaceType', 'Both'), ('#text', '0.780000')])]), ('Emittance', [OrderedDict([('@unit', 'Fraction'), ('@type', 'ExtIR'), ('@surfaceType', '1'), ('#text', '0.837000')]), OrderedDict([('@unit', 'Fraction'), ('@type', 'IntIR'), ('@surfaceType', '2'), ('#text', '0.837000')])])])]",
         "LayerId": null,
         "Name": "6667 Rodeca Panels",
         "U-value": "OrderedDict([('@unit', 'WPerSquareMeterK'), ('#text', '0.712496')])",
         "U-value_WPerSquareMeterK": 0.71,
         "index": 7,
         "model": "105_LiveseyExchange_heatpump-normal-fabric"
        },
        {
         "@id": "STD_EXTW",
         "Frame": "OrderedDict([('Absorptance', OrderedDict([('@unit', 'Fraction'), ('@type', 'ExtIR'), ('#text', '0.700000')])), ('R-value', OrderedDict([('@unit', 'SquareMeterKPerW'), ('#text', '0.040800')]))])",
         "Gap": "OrderedDict([('@id', 'STD_EXTW-layer-2'), ('@gas', 'Air'), ('Thickness', OrderedDict([('@unit', 'Meters'), ('#text', '0.015000')]))])",
         "Glaze": "[OrderedDict([('@id', 'STD_EXTW-layer-1'), ('Name', '[STD_EXW2] Outer Pane'), ('Thickness', OrderedDict([('@unit', 'Meters'), ('#text', '0.006000')])), ('Reflectance', [OrderedDict([('@unit', 'Fraction'), ('@type', 'ExtSolar'), ('@surfaceType', '1'), ('#text', '0.100000')]), OrderedDict([('@unit', 'Fraction'), ('@type', 'IntSolar'), ('@surfaceType', '2'), ('#text', '0.100000')]), OrderedDict([('@unit', 'Fraction'), ('@type', 'ExtVisible'), ('@surfaceType', '1'), ('#text', '0.070000')]), OrderedDict([('@unit', 'Fraction'), ('@type', 'IntVisible'), ('@surfaceType', '2'), ('#text', '0.070000')])]), ('Transmittance', [OrderedDict([('@unit', 'Fraction'), ('@type', 'Solar'), ('@surfaceType', 'Both'), ('#text', '0.599000')]), OrderedDict([('@unit', 'Fraction'), ('@type', 'Visible'), ('@surfaceType', 'Both'), ('#text', '0.780000')])]), ('Emittance', [OrderedDict([('@unit', 'Fraction'), ('@type', 'ExtIR'), ('@surfaceType', '1'), ('#text', '0.840000')]), OrderedDict([('@unit', 'Fraction'), ('@type', 'IntIR'), ('@surfaceType', '2'), ('#text', '0.042000')])])]), OrderedDict([('@id', 'STD_EXTW-layer-3'), ('Name', '[STD_INW1] Inner Pane'), ('Thickness', OrderedDict([('@unit', 'Meters'), ('#text', '0.006000')])), ('Reflectance', [OrderedDict([('@unit', 'Fraction'), ('@type', 'ExtSolar'), ('@surfaceType', '1'), ('#text', '0.017000')]), OrderedDict([('@unit', 'Fraction'), ('@type', 'IntSolar'), ('@surfaceType', '2'), ('#text', '0.100000')]), OrderedDict([('@unit', 'Fraction'), ('@type', 'ExtVisible'), ('@surfaceType', '1'), ('#text', '0.070000')]), OrderedDict([('@unit', 'Fraction'), ('@type', 'IntVisible'), ('@surfaceType', '2'), ('#text', '0.070000')])]), ('Transmittance', [OrderedDict([('@unit', 'Fraction'), ('@type', 'Solar'), ('@surfaceType', 'Both'), ('#text', '0.900000')]), OrderedDict([('@unit', 'Fraction'), ('@type', 'Visible'), ('@surfaceType', 'Both'), ('#text', '0.780000')])]), ('Emittance', [OrderedDict([('@unit', 'Fraction'), ('@type', 'ExtIR'), ('@surfaceType', '1'), ('#text', '0.837000')]), OrderedDict([('@unit', 'Fraction'), ('@type', 'IntIR'), ('@surfaceType', '2'), ('#text', '0.837000')])])])]",
         "LayerId": null,
         "Name": "6667 Security Glazing",
         "U-value": "OrderedDict([('@unit', 'WPerSquareMeterK'), ('#text', '1.841831')])",
         "U-value_WPerSquareMeterK": 1.84,
         "index": 8,
         "model": "105_LiveseyExchange_heatpump-normal-fabric"
        }
       ],
       "_grid_data_up": {},
       "_grid_options_mono_down": "{\"enableSorting\": true, \"enableFilter\": true, \"enableColResize\": true, \"enableRangeSelection\": true, \"columnDefs\": [{\"field\": \"index\", \"type\": \"numberColumn\", \"headerName\": \"Index\"}, {\"field\": \"@id\", \"type\": \"textColumn\", \"headerName\": \"@Id\"}, {\"field\": \"Name\", \"type\": \"textColumn\", \"headerName\": \"Name\"}, {\"field\": \"U-value\", \"type\": \"textColumn\", \"headerName\": \"U-Value\"}, {\"field\": \"LayerId\", \"type\": \"textColumn\", \"headerName\": \"Layerid\"}, {\"field\": \"U-value_WPerSquareMeterK\", \"type\": \"numberColumn\", \"headerName\": \"U-Value_Wpersquaremeterk\"}, {\"field\": \"model\", \"type\": \"textColumn\", \"headerName\": \"Model\"}, {\"field\": \"Glaze\", \"type\": \"textColumn\", \"headerName\": \"Glaze\"}, {\"field\": \"Gap\", \"type\": \"textColumn\", \"headerName\": \"Gap\"}, {\"field\": \"Frame\", \"type\": \"textColumn\", \"headerName\": \"Frame\"}], \"columnTypes\": {\"numberColumn\": {\"filter\": \"agNumberColumnFilter\"}, \"textColumn\": {\"filter\": \"agTextColumnFilter\"}, \"dateColumn\": {\"valueFormatter\": \"helpers.dateFormatter\", \"filter\": \"agDateColumnFilter\", \"filterParams\": {\"comparator\": \"helpers.compareDates\"}}}}",
       "_id": 511518752,
       "_js_helpers_builtin": "helpersBuiltin = {\n    dateFormatter: function(node) {\n        // make sure date is not undefined\n        if (node && node.value) {\n            let d = new Date(node.value);\n            let h = d.getHours();\n            let m = d.getMinutes();\n            let s = d.getSeconds();\n            const offset = d.getTimezoneOffset() * 60000;\n            d = new Date(d.getTime() - offset);\n            const ymd = d.toISOString().substring(0, 10);\n            if (h === 0 && m === 0 && s === 0) {\n                return ymd;\n            }\n            if (h === 0) h = '00';\n            if (m === 0) m = '00';\n            if (s === 0) s = '00';\n            return `${ymd} ${h}:${m}:${s}`;\n        }\n        return null;\n    },\n\n    formatInt: d3.format(',.0f'),\n    formatFloat: d3.format(',.2f'),\n\n    intFormatter: function(node) {\n        return formatInt(node.value);\n    },\n\n    floatFormatter: function(node) {\n        return formatFloat(node.value);\n    },\n\n    compareDates: function(filterLocalDate, cellValue) {\n        // Assume dates are stored as iso\n        const cellDate = new Date(cellValue);\n\n        if (cellDate < filterLocalDate) {\n            return -1;\n        } else if (cellDate > filterLocalDate) {\n            return 1;\n        }\n        return 0;\n    },\n\n    sizeToFit: function(gridOptions) {\n        gridOptions.api.sizeColumnsToFit();\n    },\n\n    autoSizeAll: function(gridOptions) {\n        const allColumnIds = [];\n        gridOptions.columnApi.getAllColumns().forEach(column => {\n            allColumnIds.push(column.colId);\n        });\n        gridOptions.columnApi.autoSizeColumns(allColumnIds);\n    },\n\n    /**\n     * Exporting data to CSV using ag-Grid api.\n     * @param {Object} gridOptions\n     */\n    exportToCsv: function(gridOptions) {\n        const params = {\n            skipHeader: false,\n            columnGroups: true,\n            skipFooters: false,\n            skipGroups: false,\n            skipPinnedTop: false,\n            skipPinnedBottom: false,\n            allColumns: true,\n            onlySelected: false,\n            suppressQuotes: true,\n            fileName: 'my_file.csv',\n            sheetName: 'my_sheet',\n            shouldRowBeSkipped: () => false,\n            processCellCallback: param => param.value,\n            processHeaderCallback: null,\n        };\n        gridOptions.api.exportDataAsCsv(params);\n    },\n\n    /**\n     * Exporting data to Excel using ag-Grid api.\n     * @param {Object} gridOptions\n     */\n    exportToExcel: function(gridOptions) {\n        const params = {\n            skipHeader: false,\n            columnGroups: true,\n            skipFooters: false,\n            skipGroups: false,\n            skipPinnedTop: false,\n            skipPinnedBottom: false,\n            allColumns: true,\n            onlySelected: false,\n            suppressQuotes: true,\n            fileName: 'my_file.xls',\n            sheetName: 'my_sheet',\n            shouldRowBeSkipped: () => false, // TODO : check\n            processCellCallback: param => param.value,\n            processHeaderCallback: null,\n        };\n        gridOptions.api.exportDataAsExcel(params);\n    },\n};\n",
       "columns_fit": "size_to_fit",
       "compress_data": true,
       "export_mode": "disabled",
       "height": "350px",
       "js_helpers": "{\"dateFormatter\":\"function(node) {\\n        // make sure date is not undefined\\n        if (node && node.value) {\\n            let d = new Date(node.value);\\n            let h = d.getHours();\\n            let m = d.getMinutes();\\n            let s = d.getSeconds();\\n            const offset = d.getTimezoneOffset() * 60000;\\n            d = new Date(d.getTime() - offset);\\n            const ymd = d.toISOString().substring(0, 10);\\n            if (h === 0 && m === 0 && s === 0) {\\n                return ymd;\\n            }\\n            if (h === 0) h = '00';\\n            if (m === 0) m = '00';\\n            if (s === 0) s = '00';\\n            return `${ymd} ${h}:${m}:${s}`;\\n        }\\n        return null;\\n    }\",\"formatInt\":\" >-,.0f\",\"formatFloat\":\" >-,.2f\",\"intFormatter\":\"function(node) {\\n        return formatInt(node.value);\\n    }\",\"floatFormatter\":\"function(node) {\\n        return formatFloat(node.value);\\n    }\",\"compareDates\":\"function(filterLocalDate, cellValue) {\\n        // Assume dates are stored as iso\\n        const cellDate = new Date(cellValue);\\n\\n        if (cellDate < filterLocalDate) {\\n            return -1;\\n        } else if (cellDate > filterLocalDate) {\\n            return 1;\\n        }\\n        return 0;\\n    }\",\"sizeToFit\":\"function(gridOptions) {\\n        gridOptions.api.sizeColumnsToFit();\\n    }\",\"autoSizeAll\":\"function(gridOptions) {\\n        const allColumnIds = [];\\n        gridOptions.columnApi.getAllColumns().forEach(column => {\\n            allColumnIds.push(column.colId);\\n        });\\n        gridOptions.columnApi.autoSizeColumns(allColumnIds);\\n    }\",\"exportToCsv\":\"function(gridOptions) {\\n        const params = {\\n            skipHeader: false,\\n            columnGroups: true,\\n            skipFooters: false,\\n            skipGroups: false,\\n            skipPinnedTop: false,\\n            skipPinnedBottom: false,\\n            allColumns: true,\\n            onlySelected: false,\\n            suppressQuotes: true,\\n            fileName: 'my_file.csv',\\n            sheetName: 'my_sheet',\\n            shouldRowBeSkipped: () => false,\\n            processCellCallback: param => param.value,\\n            processHeaderCallback: null,\\n        };\\n        gridOptions.api.exportDataAsCsv(params);\\n    }\",\"exportToExcel\":\"function(gridOptions) {\\n        const params = {\\n            skipHeader: false,\\n            columnGroups: true,\\n            skipFooters: false,\\n            skipGroups: false,\\n            skipPinnedTop: false,\\n            skipPinnedBottom: false,\\n            allColumns: true,\\n            onlySelected: false,\\n            suppressQuotes: true,\\n            fileName: 'my_file.xls',\\n            sheetName: 'my_sheet',\\n            shouldRowBeSkipped: () => false, // TODO : check\\n            processCellCallback: param => param.value,\\n            processHeaderCallback: null,\\n        };\\n        gridOptions.api.exportDataAsExcel(params);\\n    }\"}",
       "layout": "IPY_MODEL_2a9917492c564fc7865138fc46d0de72",
       "menu": {
        "button_div_css": ".flex-button-div-511518752 {\ndisplay: flex;\njustify-content: flex-start;\nalign-items: flex-start;\nalign-content: flex-start;\nflex-flow: row wrap;\n}\n",
        "buttons": [],
        "input_div_css": ".flex-input-div-511518752 {\ndisplay: flex;\njustify-content: flex-start;\nalign-items: baseline;\nalign-content: flex-start;\nflex-flow: row wrap;\n}\n",
        "inputs": [
         {
          "css": ".flex-child-quick-filter-511518752 {\norder: 0;\nalign-self: auto;\nmargin: 5px;\nflex: 0.00 1.00 auto;\nwidth: 150px;\n}\n",
          "name": "Quick Filter"
         }
        ],
        "menu_div_css": ".flex-menu-div-511518752 {\ndisplay: flex;\njustify-content: flex-start;\nalign-items: flex-start;\nalign-content: flex-start;\nflex-flow: row wrap;\n}\n"
       },
       "theme": "ag-theme-balham",
       "width": "100%"
      }
     },
     "e36cbfedb9364a00a5fc6faa8d77a4d6": {
      "model_module": "@jupyter-widgets/controls",
      "model_module_version": "1.5.0",
      "model_name": "BoxModel",
      "state": {
       "children": [
        "IPY_MODEL_8d7708f9400d44458152444c02d80473"
       ],
       "layout": "IPY_MODEL_d4bdf7baf2294c1aa1466981210f3474"
      }
     },
     "e3d4325aaa4e4232a01260fa27cb590c": {
      "model_module": "@jupyter-widgets/controls",
      "model_module_version": "1.5.0",
      "model_name": "HBoxModel",
      "state": {
       "children": [
        "IPY_MODEL_3aa39e2607c4481988c8ed6b479f6022",
        "IPY_MODEL_75483c0c0fce4a898478c0f2151f61be"
       ],
       "layout": "IPY_MODEL_580281bb4d704298add9089d448d0a23"
      }
     },
     "e411980d888241cfad4395d679a60743": {
      "model_module": "@jupyter-widgets/base",
      "model_module_version": "1.2.0",
      "model_name": "LayoutModel",
      "state": {}
     },
     "e45792ed41cc419e9cf2b5d87754cf80": {
      "model_module": "@jupyter-widgets/controls",
      "model_module_version": "1.5.0",
      "model_name": "HBoxModel",
      "state": {
       "children": [
        "IPY_MODEL_11704dbf94a74ad485cdd3f7630f667d"
       ],
       "layout": "IPY_MODEL_a6c85664380d48e587d0619873b9155e"
      }
     },
     "e467c2d358484b8ba564a9df15685a10": {
      "model_module": "@jupyter-widgets/controls",
      "model_module_version": "1.5.0",
      "model_name": "HTMLModel",
      "state": {
       "layout": "IPY_MODEL_a777a01f52a048beb39852716f2322ad",
       "style": "IPY_MODEL_87f82395a292493ba1748a1500e442f2",
       "value": "<p>3</p>"
      }
     },
     "e4e6e168dbc647838075093030a70228": {
      "model_module": "@jupyter-widgets/controls",
      "model_module_version": "1.5.0",
      "model_name": "HBoxModel",
      "state": {
       "children": [
        "IPY_MODEL_8dde6b9d0ac84ab7bacd607ecfb7732e",
        "IPY_MODEL_45d5abb40baf402280d3fa7d0bc3e341"
       ],
       "layout": "IPY_MODEL_ff2f30ac07084ade84aeb51253ccc339"
      }
     },
     "e4feb6888702409c8eddb4b97efc6806": {
      "model_module": "@jupyter-widgets/controls",
      "model_module_version": "1.5.0",
      "model_name": "DescriptionStyleModel",
      "state": {
       "description_width": ""
      }
     },
     "e53f8dc0e4c44d01809b83f271793d19": {
      "model_module": "@jupyter-widgets/controls",
      "model_module_version": "1.5.0",
      "model_name": "DescriptionStyleModel",
      "state": {
       "description_width": ""
      }
     },
     "e59297b8f46f4506a1d1b07dbe235dbb": {
      "model_module": "@jupyter-widgets/controls",
      "model_module_version": "1.5.0",
      "model_name": "ButtonStyleModel",
      "state": {}
     },
     "e59a110603b74f7396762d17d6c9d12b": {
      "model_module": "@jupyter-widgets/output",
      "model_module_version": "1.0.0",
      "model_name": "OutputModel",
      "state": {
       "layout": "IPY_MODEL_7633ddef6fa24021b351f77a4565da0c"
      }
     },
     "e5ad773378854081920d0fe6b97b13fb": {
      "model_module": "@jupyter-widgets/base",
      "model_module_version": "1.2.0",
      "model_name": "LayoutModel",
      "state": {
       "align_items": "stretch",
       "border": "dashed 0.2px green",
       "display": "flex",
       "flex_flow": "row",
       "grid_auto_columns": "True",
       "justify_content": "flex-start",
       "width": "100%"
      }
     },
     "e61e78c056f64885bb34c0acbbe873ea": {
      "model_module": "@jupyter-widgets/output",
      "model_module_version": "1.0.0",
      "model_name": "OutputModel",
      "state": {
       "layout": "IPY_MODEL_a788e100fc1a4d24a7ee8d6c98c101a1"
      }
     },
     "e63fbb45a3494546b79e583bee5bf2a9": {
      "model_module": "@jupyter-widgets/controls",
      "model_module_version": "1.5.0",
      "model_name": "DescriptionStyleModel",
      "state": {
       "description_width": ""
      }
     },
     "e706cd7905b94bf28f8d92cc0293ec80": {
      "model_module": "@jupyter-widgets/base",
      "model_module_version": "1.2.0",
      "model_name": "LayoutModel",
      "state": {}
     },
     "e73bc84a91c14b7cbbd60af0b5ba31bc": {
      "model_module": "@jupyter-widgets/controls",
      "model_module_version": "1.5.0",
      "model_name": "RadioButtonsModel",
      "state": {
       "_options_labels": [
        "TEMPLATE: C:\\engDev\\git_mf\\MF_Toolbox\\dev\\mf_scripts\\template_inputs\\inputs-gbxml.json",
        "PROJECT: C:\\engDev\\git_mf\\ipyrun\\examples\\notebooks\\appdata\\inputs\\inputs-gbxml.json",
        "PROJECT: C:\\engDev\\git_mf\\ipyrun\\examples\\notebooks\\appdata\\inputs\\archive\\20200626_1441-jg-inputs-gbxml.json"
       ],
       "index": 0,
       "layout": "IPY_MODEL_9b4b617c7d914b26888f070172a20262",
       "style": "IPY_MODEL_0a5cbfa1a06a40ebbacc9484a95d98e5"
      }
     },
     "e74e4d8553d14c75909d735d473cb9ff": {
      "model_module": "@jupyter-widgets/base",
      "model_module_version": "1.2.0",
      "model_name": "LayoutModel",
      "state": {
       "align_items": "stretch",
       "display": "flex",
       "flex_flow": "row",
       "grid_auto_columns": "True",
       "justify_content": "flex-start",
       "width": "80%"
      }
     },
     "e7a27adbd29d40b4b71b6dfe64d72e17": {
      "model_module": "@jupyter-widgets/base",
      "model_module_version": "1.2.0",
      "model_name": "LayoutModel",
      "state": {}
     },
     "e7ac1ed6835f4334be84cd2b7f252368": {
      "model_module": "@jupyter-widgets/controls",
      "model_module_version": "1.5.0",
      "model_name": "DescriptionStyleModel",
      "state": {
       "description_width": ""
      }
     },
     "e7b78894b09f43b484978be70b3af24f": {
      "model_module": "@jupyter-widgets/controls",
      "model_module_version": "1.5.0",
      "model_name": "HBoxModel",
      "state": {
       "children": [
        "IPY_MODEL_023f6988a6434526b84c48a1ce5d81cd",
        "IPY_MODEL_bf96de095af54958824d8c69284197ef"
       ],
       "layout": "IPY_MODEL_f7aa571ed9564db7a476d3974a9ef45f"
      }
     },
     "e7e2a3c158e340088425ba616f54419e": {
      "model_module": "@jupyter-widgets/base",
      "model_module_version": "1.2.0",
      "model_name": "LayoutModel",
      "state": {
       "align_items": "stretch",
       "display": "flex",
       "flex_flow": "row",
       "grid_auto_columns": "True",
       "justify_content": "flex-start",
       "width": "80%"
      }
     },
     "e7f0d7e89b6c40f9aaa303b0147158eb": {
      "model_module": "@jupyter-widgets/controls",
      "model_module_version": "1.5.0",
      "model_name": "DescriptionStyleModel",
      "state": {
       "description_width": ""
      }
     },
     "e817abb0cf244e5e891dce1c413d6131": {
      "model_module": "@jupyter-widgets/controls",
      "model_module_version": "1.5.0",
      "model_name": "DescriptionStyleModel",
      "state": {
       "description_width": ""
      }
     },
     "e862b405ead74b5ea2fca3d49e3e98d4": {
      "buffers": [
       {
        "data": "H4sIAAAAAAACAzWOzW6EMAyEX6XyGVZAEQeu7WUv+wIEoSx4s6GJE+WHUq149wZoL9b481gzLxBOTtC+YOKBQ9t1IO6rVpDBfBGRfDCEaamKqsiLJq+at7Ju67J9byCjqNQ54KNlDEl84sKYkGHQD8ak/XGREl+5tgo9Y2QC3o35SpJbuycmF9kYduDGp1yQsT2qaKpmKOu6zGeRn4786HWZvSHo+wwkTbgOznz7vT1xjUl0cN0xpPvCVTxQV/T99u8fjYqaDgzWmRG9v6XX9NBB9OgOkYphkH/0YZzm6up9PPfAhT8PNjyvR7XUZ9t+ASYks5ZKAQAA",
        "encoding": "base64",
        "path": [
         "_grid_data_up"
        ]
       }
      ],
      "model_module": "ipyaggrid",
      "model_module_version": "~0.2.1",
      "model_name": "AgGridModel",
      "state": {
       "_grid_data_down": [
        {
         "datetime": "2020-06-26 14:41:36",
         "formalIssue": null,
         "fpthInputs": "C:\\engDev\\git_mf\\ipyrun\\examples\\notebooks\\appdata\\inputs\\archive\\20200626_1441-jg-inputs-gbxml.json",
         "processName": "gbxml",
         "tags": null,
         "user": "j.gunstone"
        }
       ],
       "_grid_data_up": {},
       "_grid_options_mono_down": "{\"enableSorting\": true, \"enableFilter\": true, \"enableColResize\": true, \"enableRangeSelection\": true, \"columnDefs\": [{\"field\": \"processName\", \"type\": \"textColumn\", \"headerName\": \"Processname\"}, {\"field\": \"user\", \"type\": \"textColumn\", \"headerName\": \"User\"}, {\"field\": \"datetime\", \"type\": \"textColumn\", \"headerName\": \"Datetime\"}, {\"field\": \"formalIssue\", \"type\": \"numberColumn\", \"headerName\": \"Formalissue\"}, {\"field\": \"tags\", \"type\": \"numberColumn\", \"headerName\": \"Tags\"}, {\"field\": \"fpthInputs\", \"type\": \"textColumn\", \"headerName\": \"Fpthinputs\"}], \"columnTypes\": {\"numberColumn\": {\"filter\": \"agNumberColumnFilter\"}, \"textColumn\": {\"filter\": \"agTextColumnFilter\"}, \"dateColumn\": {\"valueFormatter\": \"helpers.dateFormatter\", \"filter\": \"agDateColumnFilter\", \"filterParams\": {\"comparator\": \"helpers.compareDates\"}}}}",
       "_id": 690017779,
       "_js_helpers_builtin": "helpersBuiltin = {\n    dateFormatter: function(node) {\n        // make sure date is not undefined\n        if (node && node.value) {\n            let d = new Date(node.value);\n            let h = d.getHours();\n            let m = d.getMinutes();\n            let s = d.getSeconds();\n            const offset = d.getTimezoneOffset() * 60000;\n            d = new Date(d.getTime() - offset);\n            const ymd = d.toISOString().substring(0, 10);\n            if (h === 0 && m === 0 && s === 0) {\n                return ymd;\n            }\n            if (h === 0) h = '00';\n            if (m === 0) m = '00';\n            if (s === 0) s = '00';\n            return `${ymd} ${h}:${m}:${s}`;\n        }\n        return null;\n    },\n\n    formatInt: d3.format(',.0f'),\n    formatFloat: d3.format(',.2f'),\n\n    intFormatter: function(node) {\n        return formatInt(node.value);\n    },\n\n    floatFormatter: function(node) {\n        return formatFloat(node.value);\n    },\n\n    compareDates: function(filterLocalDate, cellValue) {\n        // Assume dates are stored as iso\n        const cellDate = new Date(cellValue);\n\n        if (cellDate < filterLocalDate) {\n            return -1;\n        } else if (cellDate > filterLocalDate) {\n            return 1;\n        }\n        return 0;\n    },\n\n    sizeToFit: function(gridOptions) {\n        gridOptions.api.sizeColumnsToFit();\n    },\n\n    autoSizeAll: function(gridOptions) {\n        const allColumnIds = [];\n        gridOptions.columnApi.getAllColumns().forEach(column => {\n            allColumnIds.push(column.colId);\n        });\n        gridOptions.columnApi.autoSizeColumns(allColumnIds);\n    },\n\n    /**\n     * Exporting data to CSV using ag-Grid api.\n     * @param {Object} gridOptions\n     */\n    exportToCsv: function(gridOptions) {\n        const params = {\n            skipHeader: false,\n            columnGroups: true,\n            skipFooters: false,\n            skipGroups: false,\n            skipPinnedTop: false,\n            skipPinnedBottom: false,\n            allColumns: true,\n            onlySelected: false,\n            suppressQuotes: true,\n            fileName: 'my_file.csv',\n            sheetName: 'my_sheet',\n            shouldRowBeSkipped: () => false,\n            processCellCallback: param => param.value,\n            processHeaderCallback: null,\n        };\n        gridOptions.api.exportDataAsCsv(params);\n    },\n\n    /**\n     * Exporting data to Excel using ag-Grid api.\n     * @param {Object} gridOptions\n     */\n    exportToExcel: function(gridOptions) {\n        const params = {\n            skipHeader: false,\n            columnGroups: true,\n            skipFooters: false,\n            skipGroups: false,\n            skipPinnedTop: false,\n            skipPinnedBottom: false,\n            allColumns: true,\n            onlySelected: false,\n            suppressQuotes: true,\n            fileName: 'my_file.xls',\n            sheetName: 'my_sheet',\n            shouldRowBeSkipped: () => false, // TODO : check\n            processCellCallback: param => param.value,\n            processHeaderCallback: null,\n        };\n        gridOptions.api.exportDataAsExcel(params);\n    },\n};\n",
       "columns_fit": "size_to_fit",
       "compress_data": true,
       "export_mode": "disabled",
       "height": "350px",
       "js_helpers": "{\"dateFormatter\":\"function(node) {\\n        // make sure date is not undefined\\n        if (node && node.value) {\\n            let d = new Date(node.value);\\n            let h = d.getHours();\\n            let m = d.getMinutes();\\n            let s = d.getSeconds();\\n            const offset = d.getTimezoneOffset() * 60000;\\n            d = new Date(d.getTime() - offset);\\n            const ymd = d.toISOString().substring(0, 10);\\n            if (h === 0 && m === 0 && s === 0) {\\n                return ymd;\\n            }\\n            if (h === 0) h = '00';\\n            if (m === 0) m = '00';\\n            if (s === 0) s = '00';\\n            return `${ymd} ${h}:${m}:${s}`;\\n        }\\n        return null;\\n    }\",\"formatInt\":\" >-,.0f\",\"formatFloat\":\" >-,.2f\",\"intFormatter\":\"function(node) {\\n        return formatInt(node.value);\\n    }\",\"floatFormatter\":\"function(node) {\\n        return formatFloat(node.value);\\n    }\",\"compareDates\":\"function(filterLocalDate, cellValue) {\\n        // Assume dates are stored as iso\\n        const cellDate = new Date(cellValue);\\n\\n        if (cellDate < filterLocalDate) {\\n            return -1;\\n        } else if (cellDate > filterLocalDate) {\\n            return 1;\\n        }\\n        return 0;\\n    }\",\"sizeToFit\":\"function(gridOptions) {\\n        gridOptions.api.sizeColumnsToFit();\\n    }\",\"autoSizeAll\":\"function(gridOptions) {\\n        const allColumnIds = [];\\n        gridOptions.columnApi.getAllColumns().forEach(column => {\\n            allColumnIds.push(column.colId);\\n        });\\n        gridOptions.columnApi.autoSizeColumns(allColumnIds);\\n    }\",\"exportToCsv\":\"function(gridOptions) {\\n        const params = {\\n            skipHeader: false,\\n            columnGroups: true,\\n            skipFooters: false,\\n            skipGroups: false,\\n            skipPinnedTop: false,\\n            skipPinnedBottom: false,\\n            allColumns: true,\\n            onlySelected: false,\\n            suppressQuotes: true,\\n            fileName: 'my_file.csv',\\n            sheetName: 'my_sheet',\\n            shouldRowBeSkipped: () => false,\\n            processCellCallback: param => param.value,\\n            processHeaderCallback: null,\\n        };\\n        gridOptions.api.exportDataAsCsv(params);\\n    }\",\"exportToExcel\":\"function(gridOptions) {\\n        const params = {\\n            skipHeader: false,\\n            columnGroups: true,\\n            skipFooters: false,\\n            skipGroups: false,\\n            skipPinnedTop: false,\\n            skipPinnedBottom: false,\\n            allColumns: true,\\n            onlySelected: false,\\n            suppressQuotes: true,\\n            fileName: 'my_file.xls',\\n            sheetName: 'my_sheet',\\n            shouldRowBeSkipped: () => false, // TODO : check\\n            processCellCallback: param => param.value,\\n            processHeaderCallback: null,\\n        };\\n        gridOptions.api.exportDataAsExcel(params);\\n    }\"}",
       "layout": "IPY_MODEL_70739bc095a147a397113bc6426b6f5b",
       "menu": {
        "button_div_css": ".flex-button-div-690017779 {\ndisplay: flex;\njustify-content: flex-start;\nalign-items: flex-start;\nalign-content: flex-start;\nflex-flow: row wrap;\n}\n",
        "buttons": [],
        "input_div_css": ".flex-input-div-690017779 {\ndisplay: flex;\njustify-content: flex-start;\nalign-items: baseline;\nalign-content: flex-start;\nflex-flow: row wrap;\n}\n",
        "inputs": [
         {
          "css": ".flex-child-quick-filter-690017779 {\norder: 0;\nalign-self: auto;\nmargin: 5px;\nflex: 0.00 1.00 auto;\nwidth: 150px;\n}\n",
          "name": "Quick Filter"
         }
        ],
        "menu_div_css": ".flex-menu-div-690017779 {\ndisplay: flex;\njustify-content: flex-start;\nalign-items: flex-start;\nalign-content: flex-start;\nflex-flow: row wrap;\n}\n"
       },
       "theme": "ag-theme-balham",
       "width": "100%"
      }
     },
     "e8f0e2ff06d14180a80aa4db83bd7973": {
      "model_module": "@jupyter-widgets/controls",
      "model_module_version": "1.5.0",
      "model_name": "TextModel",
      "state": {
       "layout": "IPY_MODEL_8e8baa995fb042ffa8d6e04d10171b9c",
       "style": "IPY_MODEL_59ab60bf3df4429f92f2eddfc62fb468",
       "value": "SpaceType"
      }
     },
     "e8f6b5a2afa54ca9bf0cc040938f0910": {
      "model_module": "@jupyter-widgets/controls",
      "model_module_version": "1.5.0",
      "model_name": "DescriptionStyleModel",
      "state": {
       "description_width": ""
      }
     },
     "e8ff986a692e4347af8588f3d5f32655": {
      "model_module": "@jupyter-widgets/controls",
      "model_module_version": "1.5.0",
      "model_name": "HBoxModel",
      "state": {
       "children": [
        "IPY_MODEL_a2bedc4ec4884d7d9b7b522e2ceac671",
        "IPY_MODEL_c6e67f02289a477a97b9e8de14a6468e"
       ],
       "layout": "IPY_MODEL_20eb4b525f164a52b337b72431e18bee"
      }
     },
     "e927d2e76db843dc9392378e09af8d77": {
      "model_module": "@jupyter-widgets/controls",
      "model_module_version": "1.5.0",
      "model_name": "DescriptionStyleModel",
      "state": {
       "description_width": ""
      }
     },
     "e99ea415f460459097f4a81db75409ea": {
      "model_module": "@jupyter-widgets/output",
      "model_module_version": "1.0.0",
      "model_name": "OutputModel",
      "state": {
       "layout": "IPY_MODEL_a00363bf40a045e8bc4162838d2a7250"
      }
     },
     "e9b32232d6214c48866500ba19b586f4": {
      "model_module": "@jupyter-widgets/base",
      "model_module_version": "1.2.0",
      "model_name": "LayoutModel",
      "state": {}
     },
     "ea56788b6461475da0a54aa30380756a": {
      "model_module": "@jupyter-widgets/controls",
      "model_module_version": "1.5.0",
      "model_name": "HTMLModel",
      "state": {
       "layout": "IPY_MODEL_8a5d8ef9a6dd43da972dff1ff285512a",
       "style": "IPY_MODEL_d2495c22522d44fb9c71a7d89b7f03e9",
       "value": "<p>2</p>"
      }
     },
     "ea87fede68cb4d238dcdeeeb87ec2c47": {
      "model_module": "@jupyter-widgets/controls",
      "model_module_version": "1.5.0",
      "model_name": "DescriptionStyleModel",
      "state": {
       "description_width": ""
      }
     },
     "ea922d7acda64bf9be563774b13e2471": {
      "model_module": "@jupyter-widgets/controls",
      "model_module_version": "1.5.0",
      "model_name": "HBoxModel",
      "state": {
       "children": [
        "IPY_MODEL_873585df8c8c478b8c603723f5dc3f44"
       ],
       "layout": "IPY_MODEL_701f1f40059e4c249b11f9375ce69386"
      }
     },
     "eaa78a438ab54af78c1d55985c943283": {
      "model_module": "@jupyter-widgets/controls",
      "model_module_version": "1.5.0",
      "model_name": "HTMLModel",
      "state": {
       "layout": "IPY_MODEL_4452c9c97a4849f1b17a50a660c76c8d",
       "style": "IPY_MODEL_a0ce6c1b1e2b40b29344850991d9f5f4",
       "value": "<p>4th section of space name code (enter None if 4th section doesn't exist)</p>"
      }
     },
     "eb05703aeddc49d9861de5f1f5f5450c": {
      "model_module": "@jupyter-widgets/base",
      "model_module_version": "1.2.0",
      "model_name": "LayoutModel",
      "state": {
       "align_items": "stretch",
       "border": "dashed 0.2px green",
       "display": "flex",
       "flex_flow": "row",
       "grid_auto_columns": "True",
       "justify_content": "flex-start",
       "width": "100%"
      }
     },
     "eb31bac1947243a28de7dee06ab55565": {
      "model_module": "@jupyter-widgets/output",
      "model_module_version": "1.0.0",
      "model_name": "OutputModel",
      "state": {
       "layout": "IPY_MODEL_9ce3e22900014276a20c3b11df572257"
      }
     },
     "eb5e908a3ec74e47b8df9f1241d0d0c2": {
      "model_module": "@jupyter-widgets/controls",
      "model_module_version": "1.5.0",
      "model_name": "DescriptionStyleModel",
      "state": {
       "description_width": ""
      }
     },
     "eb81a79f31d94bb487db51cbc9143823": {
      "model_module": "@jupyter-widgets/base",
      "model_module_version": "1.2.0",
      "model_name": "LayoutModel",
      "state": {}
     },
     "ebd9753b1a9a40b1aeb01a77fe628d6e": {
      "model_module": "@jupyter-widgets/base",
      "model_module_version": "1.2.0",
      "model_name": "LayoutModel",
      "state": {}
     },
     "ec0862c6e57a4f719ca5a25f35fbf2f7": {
      "model_module": "@jupyter-widgets/base",
      "model_module_version": "1.2.0",
      "model_name": "LayoutModel",
      "state": {}
     },
     "ed38cc0f59d745d1b3ee4a0459c33297": {
      "model_module": "@jupyter-widgets/base",
      "model_module_version": "1.2.0",
      "model_name": "LayoutModel",
      "state": {}
     },
     "eda0823159bc476e9ebd9a0e5d44d9b1": {
      "model_module": "@jupyter-widgets/controls",
      "model_module_version": "1.5.0",
      "model_name": "TextModel",
      "state": {
       "layout": "IPY_MODEL_3f02ed8018b741d5ba016819d699ca8b",
       "style": "IPY_MODEL_f8ca6fa8f58f4f5d97d4eecd17357035",
       "value": "SpaceType"
      }
     },
     "edc52362131744e29c066ec591601375": {
      "model_module": "@jupyter-widgets/controls",
      "model_module_version": "1.5.0",
      "model_name": "HBoxModel",
      "state": {
       "children": [
        "IPY_MODEL_cb40c2396caa46019f6fc21c7f770e01",
        "IPY_MODEL_ce11394d4fa44cbc935dbc0045dfd4da",
        "IPY_MODEL_15d65a5290654d97b20f2fda458be26e",
        "IPY_MODEL_928d6ed2c42a4e729d39fefc6c184277",
        "IPY_MODEL_155c7874ccdc49999d5b65e806a69cfa",
        "IPY_MODEL_f6f263d780f64fbcba087b6ed23c43b8",
        "IPY_MODEL_efad37c30258469d98e6a5058e9e4959"
       ],
       "layout": "IPY_MODEL_0f971a7f4c9146e193d6658e2efa9609"
      }
     },
     "eddb452193a444339aba704b27b43688": {
      "model_module": "@jupyter-widgets/base",
      "model_module_version": "1.2.0",
      "model_name": "LayoutModel",
      "state": {
       "align_items": "stretch",
       "display": "flex",
       "flex_flow": "row",
       "grid_auto_columns": "True",
       "justify_content": "flex-end",
       "width": "90%"
      }
     },
     "ee6dd9416f7f43af80c7a6283602cafa": {
      "model_module": "@jupyter-widgets/controls",
      "model_module_version": "1.5.0",
      "model_name": "TextModel",
      "state": {
       "layout": "IPY_MODEL_f13da2f4895d482193d307f80af08079",
       "style": "IPY_MODEL_e8f6b5a2afa54ca9bf0cc040938f0910",
       "value": "TM46Category"
      }
     },
     "ee7fb37ceca647b2aef2173dd0fd4935": {
      "model_module": "@jupyter-widgets/controls",
      "model_module_version": "1.5.0",
      "model_name": "VBoxModel",
      "state": {
       "children": [
        "IPY_MODEL_e04996c5059940c9b4f66acc3b4ad30c",
        "IPY_MODEL_7ae1ee848e19455687bafc4167dbace7",
        "IPY_MODEL_616996379fef4de1afa9df6266294a70",
        "IPY_MODEL_84f36fb7e53e40108acbb04f738091f1",
        "IPY_MODEL_54ecbb13bdbf4c16a7d1c413cb604cc2"
       ],
       "layout": "IPY_MODEL_76931802af2c4fb9be5df3729d28babc"
      }
     },
     "eecf65acfa99496cb021c85f843bc2c3": {
      "model_module": "@jupyter-widgets/controls",
      "model_module_version": "1.5.0",
      "model_name": "DescriptionStyleModel",
      "state": {
       "description_width": ""
      }
     },
     "ef743dd3db3f4d948a27040be4eee977": {
      "model_module": "@jupyter-widgets/base",
      "model_module_version": "1.2.0",
      "model_name": "LayoutModel",
      "state": {}
     },
     "efad37c30258469d98e6a5058e9e4959": {
      "model_module": "@jupyter-widgets/controls",
      "model_module_version": "1.5.0",
      "model_name": "ButtonModel",
      "state": {
       "button_style": "info",
       "description": "show log",
       "layout": "IPY_MODEL_80be34e6f6374b7787f53fe40f690e90",
       "style": "IPY_MODEL_3edb9d34e67b491ca057b6c3eac662be",
       "tooltip": "show a log of when the script was executed to generate the outputs, and by who"
      }
     },
     "f01f48197bfe434592bc4dd99edc85bc": {
      "model_module": "@jupyter-widgets/base",
      "model_module_version": "1.2.0",
      "model_name": "LayoutModel",
      "state": {}
     },
     "f02b0704eb2b487b9cb42a9faed44d20": {
      "model_module": "@jupyter-widgets/base",
      "model_module_version": "1.2.0",
      "model_name": "LayoutModel",
      "state": {}
     },
     "f0a3c1c709f148fd8241ec051f96b0e1": {
      "model_module": "@jupyter-widgets/controls",
      "model_module_version": "1.5.0",
      "model_name": "DescriptionStyleModel",
      "state": {
       "description_width": ""
      }
     },
     "f10dedf62d3c4946b1faed74686b7990": {
      "model_module": "@jupyter-widgets/controls",
      "model_module_version": "1.5.0",
      "model_name": "ToggleButtonModel",
      "state": {
       "button_style": "info",
       "description": "inputs from file",
       "layout": "IPY_MODEL_669eb3c47372461d9515c73655c6b531",
       "style": "IPY_MODEL_e817abb0cf244e5e891dce1c413d6131"
      }
     },
     "f1320f389199400cb7e2b214d72e7223": {
      "model_module": "@jupyter-widgets/base",
      "model_module_version": "1.2.0",
      "model_name": "LayoutModel",
      "state": {
       "align_items": "stretch",
       "display": "flex",
       "flex_flow": "row",
       "grid_auto_columns": "True",
       "justify_content": "flex-end",
       "width": "90%"
      }
     },
     "f13da2f4895d482193d307f80af08079": {
      "model_module": "@jupyter-widgets/base",
      "model_module_version": "1.2.0",
      "model_name": "LayoutModel",
      "state": {}
     },
     "f1624bab30054e1aa487bad2a0ab8fa3": {
      "model_module": "@jupyter-widgets/output",
      "model_module_version": "1.0.0",
      "model_name": "OutputModel",
      "state": {
       "layout": "IPY_MODEL_be6ec138c6d84219b780b24cee8b0890"
      }
     },
     "f1d2d4252d4145409663743b65955c49": {
      "model_module": "@jupyter-widgets/base",
      "model_module_version": "1.2.0",
      "model_name": "LayoutModel",
      "state": {}
     },
     "f267601651ca47838711eef1da999dd8": {
      "model_module": "@jupyter-widgets/controls",
      "model_module_version": "1.5.0",
      "model_name": "HBoxModel",
      "state": {
       "children": [
        "IPY_MODEL_914cc2f5d60a469695f0e732ce90b3a1"
       ],
       "layout": "IPY_MODEL_46c8b85d781d44648450851230d2003d"
      }
     },
     "f2fd933329814d4e94cba8be160b978a": {
      "model_module": "@jupyter-widgets/controls",
      "model_module_version": "1.5.0",
      "model_name": "DescriptionStyleModel",
      "state": {
       "description_width": ""
      }
     },
     "f36d320d1add4a4fa13648fa347783ef": {
      "model_module": "@jupyter-widgets/base",
      "model_module_version": "1.2.0",
      "model_name": "LayoutModel",
      "state": {
       "align_items": "stretch",
       "display": "flex",
       "flex_flow": "row",
       "grid_auto_columns": "True",
       "justify_content": "flex-end",
       "width": "90%"
      }
     },
     "f383120c3c664518a2d5e15bb3b2ff82": {
      "model_module": "@jupyter-widgets/base",
      "model_module_version": "1.2.0",
      "model_name": "LayoutModel",
      "state": {}
     },
     "f3e53532e8c7468a9d2a1a9cc95b7f77": {
      "model_module": "@jupyter-widgets/controls",
      "model_module_version": "1.5.0",
      "model_name": "HBoxModel",
      "state": {
       "children": [
        "IPY_MODEL_e2c4f338a2b5402a90c6055cc5d5eb11",
        "IPY_MODEL_97dcc5b4c4a34cc1b9b050b2e8fa42ad"
       ],
       "layout": "IPY_MODEL_daf5c88167bf410eb874d28b69248de8"
      }
     },
     "f3e58add7d2e433286ab45014195626f": {
      "model_module": "@jupyter-widgets/controls",
      "model_module_version": "1.5.0",
      "model_name": "DescriptionStyleModel",
      "state": {
       "description_width": ""
      }
     },
     "f408fd53b66842d5a0f991559f3c4be7": {
      "model_module": "@jupyter-widgets/base",
      "model_module_version": "1.2.0",
      "model_name": "LayoutModel",
      "state": {
       "align_items": "stretch",
       "display": "flex",
       "flex_flow": "row",
       "grid_auto_columns": "True",
       "justify_content": "flex-end",
       "width": "90%"
      }
     },
     "f40c918133a1448286aba87e4537247a": {
      "model_module": "@jupyter-widgets/controls",
      "model_module_version": "1.5.0",
      "model_name": "DescriptionStyleModel",
      "state": {
       "description_width": ""
      }
     },
     "f4184f8f78974e57aecc45901dbff1b3": {
      "model_module": "@jupyter-widgets/controls",
      "model_module_version": "1.5.0",
      "model_name": "HBoxModel",
      "state": {
       "children": [
        "IPY_MODEL_1af0618faf534e66be2f978e726114c4",
        "IPY_MODEL_a09b7ff71e0f457d9c9b777f2f627440"
       ],
       "layout": "IPY_MODEL_954ab3c9639c44298c4682b1afe9eabd"
      }
     },
     "f41f66dac84e4b64b6c073dfb246bd24": {
      "model_module": "@jupyter-widgets/base",
      "model_module_version": "1.2.0",
      "model_name": "LayoutModel",
      "state": {}
     },
     "f4d34a17d1f744b98e3dd5d55a2c31fc": {
      "model_module": "@jupyter-widgets/base",
      "model_module_version": "1.2.0",
      "model_name": "LayoutModel",
      "state": {
       "align_items": "stretch",
       "display": "flex",
       "flex_flow": "row",
       "grid_auto_columns": "True",
       "justify_content": "flex-start",
       "width": "80%"
      }
     },
     "f4fac7d45fb74b6a84f0b53c1ee24027": {
      "model_module": "@jupyter-widgets/controls",
      "model_module_version": "1.5.0",
      "model_name": "VBoxModel",
      "state": {
       "children": [
        "IPY_MODEL_6be82c9402a64fa0a8579891ed7f3ae4",
        "IPY_MODEL_9984c6d9fb374cadaffc687470e04067",
        "IPY_MODEL_5e186b34e80c404083dcadda1248b31b",
        "IPY_MODEL_c599f94455b5490bab3300e0919e4907",
        "IPY_MODEL_fb1499e6c82240c8b627d8d0e681b767"
       ],
       "layout": "IPY_MODEL_9f1a89361466484f9c9bb485606afe90"
      }
     },
     "f5a4152c97f94605878246474794c30d": {
      "model_module": "@jupyter-widgets/controls",
      "model_module_version": "1.5.0",
      "model_name": "HBoxModel",
      "state": {
       "children": [
        "IPY_MODEL_097a80e3dc364fe88dabb3cbd8f4b637",
        "IPY_MODEL_3b780143213346559f2a214d948cbb9a"
       ],
       "layout": "IPY_MODEL_cb8e49640a1444948cf9d6a8d76a88f9"
      }
     },
     "f5aa9b45cf5d41d4b0dc4b1b18fa722c": {
      "model_module": "@jupyter-widgets/base",
      "model_module_version": "1.2.0",
      "model_name": "LayoutModel",
      "state": {}
     },
     "f5ba1c53dca0420d8df060429d703aa3": {
      "model_module": "@jupyter-widgets/base",
      "model_module_version": "1.2.0",
      "model_name": "LayoutModel",
      "state": {
       "align_items": "stretch",
       "border": "dashed 0.2px green",
       "display": "flex",
       "flex_flow": "row",
       "grid_auto_columns": "True",
       "justify_content": "flex-start",
       "width": "100%"
      }
     },
     "f5d2efaf9c614663aadfcfe979fa75f5": {
      "model_module": "@jupyter-widgets/controls",
      "model_module_version": "1.5.0",
      "model_name": "ButtonStyleModel",
      "state": {
       "font_weight": "bold"
      }
     },
     "f6279e6accaf414daed012eeba9da376": {
      "model_module": "@jupyter-widgets/base",
      "model_module_version": "1.2.0",
      "model_name": "LayoutModel",
      "state": {}
     },
     "f64d844d0abe498ebea436d45b6c53c1": {
      "model_module": "@jupyter-widgets/controls",
      "model_module_version": "1.5.0",
      "model_name": "DescriptionStyleModel",
      "state": {
       "description_width": ""
      }
     },
     "f6a18b2618ed477ba20ed419edcf54d3": {
      "model_module": "@jupyter-widgets/controls",
      "model_module_version": "1.5.0",
      "model_name": "DescriptionStyleModel",
      "state": {
       "description_width": ""
      }
     },
     "f6f263d780f64fbcba087b6ed23c43b8": {
      "model_module": "@jupyter-widgets/controls",
      "model_module_version": "1.5.0",
      "model_name": "ButtonModel",
      "state": {
       "button_style": "info",
       "description": "preview outputs",
       "layout": "IPY_MODEL_12c5ef6429d34cb4b0ef866083197807",
       "style": "IPY_MODEL_f5d2efaf9c614663aadfcfe979fa75f5",
       "tooltip": "show a preview of the output files generated when the script runs"
      }
     },
     "f730f782272e4c55a69b2f758f6865e0": {
      "model_module": "@jupyter-widgets/base",
      "model_module_version": "1.2.0",
      "model_name": "LayoutModel",
      "state": {}
     },
     "f7a213478df9412e91d4423d8a1011fc": {
      "model_module": "@jupyter-widgets/controls",
      "model_module_version": "1.5.0",
      "model_name": "HTMLModel",
      "state": {
       "layout": "IPY_MODEL_b1197087f5884beaaa955fb929f2eab6",
       "style": "IPY_MODEL_f2fd933329814d4e94cba8be160b978a",
       "value": "<p>5th section of space name code (enter None if 5th section doesn't exist)</p>"
      }
     },
     "f7aa571ed9564db7a476d3974a9ef45f": {
      "model_module": "@jupyter-widgets/base",
      "model_module_version": "1.2.0",
      "model_name": "LayoutModel",
      "state": {
       "align_items": "stretch",
       "display": "flex",
       "flex_flow": "row",
       "grid_auto_columns": "True",
       "justify_content": "flex-start",
       "width": "80%"
      }
     },
     "f7de511cfe614a7e9f5f46f596544bb1": {
      "model_module": "@jupyter-widgets/base",
      "model_module_version": "1.2.0",
      "model_name": "LayoutModel",
      "state": {}
     },
     "f7e99a6bdfa24decbc377a6e9acf6756": {
      "model_module": "@jupyter-widgets/base",
      "model_module_version": "1.2.0",
      "model_name": "LayoutModel",
      "state": {
       "align_items": "stretch",
       "border": "dashed 0.2px green",
       "display": "flex",
       "flex_flow": "row",
       "grid_auto_columns": "True",
       "justify_content": "flex-start",
       "width": "100%"
      }
     },
     "f81a5f7c94e94efbbcc063bd54ec2ea4": {
      "model_module": "@jupyter-widgets/output",
      "model_module_version": "1.0.0",
      "model_name": "OutputModel",
      "state": {
       "layout": "IPY_MODEL_2531dc2c5bcd4f5aa5623e7affea6eff"
      }
     },
     "f826d77af5f3437cadc1699356cbf912": {
      "model_module": "@jupyter-widgets/controls",
      "model_module_version": "1.5.0",
      "model_name": "DescriptionStyleModel",
      "state": {
       "description_width": ""
      }
     },
     "f85cabbf294642cfa3410012dace9198": {
      "model_module": "@jupyter-widgets/output",
      "model_module_version": "1.0.0",
      "model_name": "OutputModel",
      "state": {
       "layout": "IPY_MODEL_a7e48c3e3baa43079191927beecd8fff"
      }
     },
     "f899c4671f9c424384779b18b87021c5": {
      "model_module": "@jupyter-widgets/controls",
      "model_module_version": "1.5.0",
      "model_name": "ButtonStyleModel",
      "state": {
       "font_weight": "bold"
      }
     },
     "f8c3571212a94390856a000e583c6843": {
      "model_module": "@jupyter-widgets/controls",
      "model_module_version": "1.5.0",
      "model_name": "ButtonStyleModel",
      "state": {}
     },
     "f8ca6fa8f58f4f5d97d4eecd17357035": {
      "model_module": "@jupyter-widgets/controls",
      "model_module_version": "1.5.0",
      "model_name": "DescriptionStyleModel",
      "state": {
       "description_width": ""
      }
     },
     "f9043c4981fd4d8ea0883350c692e1e6": {
      "model_module": "@jupyter-widgets/base",
      "model_module_version": "1.2.0",
      "model_name": "LayoutModel",
      "state": {}
     },
     "f94a1bad25004001a3694e2f232aadd7": {
      "model_module": "@jupyter-widgets/controls",
      "model_module_version": "1.5.0",
      "model_name": "DescriptionStyleModel",
      "state": {
       "description_width": ""
      }
     },
     "f9a7ecc9c7ab4d45bd9189d871c9a016": {
      "model_module": "@jupyter-widgets/controls",
      "model_module_version": "1.5.0",
      "model_name": "HTMLModel",
      "state": {
       "layout": "IPY_MODEL_3dfe5e062c1c4ad2a8871ccf17f4e1d6",
       "style": "IPY_MODEL_c719107d82f24a8e8ea93141537cc90f",
       "value": "<p>3</p>"
      }
     },
     "f9f200f786f34ca9af5285e5a77b7c17": {
      "model_module": "@jupyter-widgets/base",
      "model_module_version": "1.2.0",
      "model_name": "LayoutModel",
      "state": {}
     },
     "fa628cd46dcb4626b42204cafe4cacbb": {
      "model_module": "@jupyter-widgets/controls",
      "model_module_version": "1.5.0",
      "model_name": "DescriptionStyleModel",
      "state": {
       "description_width": ""
      }
     },
     "fa8a4e3fc43e455f85d1dd834765041b": {
      "model_module": "@jupyter-widgets/base",
      "model_module_version": "1.2.0",
      "model_name": "LayoutModel",
      "state": {}
     },
     "faaeb383209d451d9bc305372ae9e850": {
      "model_module": "@jupyter-widgets/controls",
      "model_module_version": "1.5.0",
      "model_name": "DescriptionStyleModel",
      "state": {
       "description_width": ""
      }
     },
     "fab0724391ac4b9685d1a34f22771561": {
      "model_module": "@jupyter-widgets/output",
      "model_module_version": "1.0.0",
      "model_name": "OutputModel",
      "state": {
       "layout": "IPY_MODEL_fa8a4e3fc43e455f85d1dd834765041b"
      }
     },
     "fb1499e6c82240c8b627d8d0e681b767": {
      "model_module": "@jupyter-widgets/controls",
      "model_module_version": "1.5.0",
      "model_name": "HBoxModel",
      "state": {
       "children": [
        "IPY_MODEL_57f9e60916fc48d5b5adfcef6bb59878"
       ],
       "layout": "IPY_MODEL_a687a52215dc4e808817c71688cbc6d9"
      }
     },
     "fb1be47ecd8d4dba90519ca0723c19da": {
      "model_module": "@jupyter-widgets/controls",
      "model_module_version": "1.5.0",
      "model_name": "DescriptionStyleModel",
      "state": {
       "description_width": ""
      }
     },
     "fbd99ead64ce4127b25a633618c7993b": {
      "model_module": "@jupyter-widgets/controls",
      "model_module_version": "1.5.0",
      "model_name": "HTMLModel",
      "state": {
       "layout": "IPY_MODEL_8ec30f95c01d43ddabf032edced2c73f",
       "style": "IPY_MODEL_b6bd87fea8934010aa3db66ddc90f3b8",
       "value": "<p>4</p>"
      }
     },
     "fbe8df8d84a447ea8dfe51522a930933": {
      "model_module": "@jupyter-widgets/controls",
      "model_module_version": "1.5.0",
      "model_name": "ButtonModel",
      "state": {
       "button_style": "success",
       "description": "save changes",
       "layout": "IPY_MODEL_3ec17dfc6e7f460386b8bad7d9bd4115",
       "style": "IPY_MODEL_45bba6e2b0f44526ac0115fc543acf71"
      }
     },
     "fc107b5615994755885db86aac3a5a98": {
      "model_module": "@jupyter-widgets/controls",
      "model_module_version": "1.5.0",
      "model_name": "DescriptionStyleModel",
      "state": {
       "description_width": ""
      }
     },
     "fc1d6bf9d18d4f6caa23c9b1e3d0f54f": {
      "model_module": "@jupyter-widgets/controls",
      "model_module_version": "1.5.0",
      "model_name": "DescriptionStyleModel",
      "state": {
       "description_width": ""
      }
     },
     "fc33c1dfc4c24ba2a08cf2977695750b": {
      "model_module": "@jupyter-widgets/base",
      "model_module_version": "1.2.0",
      "model_name": "LayoutModel",
      "state": {
       "align_items": "stretch",
       "display": "flex",
       "flex_flow": "row",
       "grid_auto_columns": "True",
       "justify_content": "flex-end",
       "width": "90%"
      }
     },
     "fc574c16cc0846afbedfb18781400a6f": {
      "model_module": "@jupyter-widgets/controls",
      "model_module_version": "1.5.0",
      "model_name": "HBoxModel",
      "state": {
       "children": [
        "IPY_MODEL_8b5e548b3f784cd1ba4bf2382037ab4b"
       ],
       "layout": "IPY_MODEL_9845b0929cdb4e4bb87c54bff0b57267"
      }
     },
     "fc5c897cefba4e1a817a44964698c76f": {
      "model_module": "@jupyter-widgets/base",
      "model_module_version": "1.2.0",
      "model_name": "LayoutModel",
      "state": {}
     },
     "fc78b598cede42c9bcd84ce2c137b479": {
      "model_module": "@jupyter-widgets/output",
      "model_module_version": "1.0.0",
      "model_name": "OutputModel",
      "state": {
       "layout": "IPY_MODEL_2e75daaf20774b609b77b22608f58081"
      }
     },
     "fd120311fb0f424984b76ef92a954cb5": {
      "model_module": "@jupyter-widgets/base",
      "model_module_version": "1.2.0",
      "model_name": "LayoutModel",
      "state": {}
     },
     "fd7496d1306746e39db5c7b5cade43ce": {
      "model_module": "@jupyter-widgets/controls",
      "model_module_version": "1.5.0",
      "model_name": "HTMLModel",
      "state": {
       "layout": "IPY_MODEL_c28feef7f8174175b3bff02120337336",
       "style": "IPY_MODEL_e53f8dc0e4c44d01809b83f271793d19",
       "value": "<p>1</p>"
      }
     },
     "fdb6bd92a6614ce6a00aa2d19b53c091": {
      "model_module": "@jupyter-widgets/base",
      "model_module_version": "1.2.0",
      "model_name": "LayoutModel",
      "state": {}
     },
     "fe146f9642b049f087347f7f0f880cad": {
      "model_module": "@jupyter-widgets/controls",
      "model_module_version": "1.5.0",
      "model_name": "DescriptionStyleModel",
      "state": {
       "description_width": ""
      }
     },
     "fe4914e556604a8b890fb8b2c61e546f": {
      "model_module": "@jupyter-widgets/base",
      "model_module_version": "1.2.0",
      "model_name": "LayoutModel",
      "state": {}
     },
     "fece33ffc3644b1a9cd03dd80913f85c": {
      "model_module": "@jupyter-widgets/output",
      "model_module_version": "1.0.0",
      "model_name": "OutputModel",
      "state": {
       "layout": "IPY_MODEL_22356d984f82420d95ffc7359f03b3a6"
      }
     },
     "fefa2087a1204a81ade73592964e4f0c": {
      "model_module": "@jupyter-widgets/base",
      "model_module_version": "1.2.0",
      "model_name": "LayoutModel",
      "state": {
       "display": "flex",
       "flex_flow": "row",
       "grid_auto_columns": "False",
       "justify_content": "flex-start",
       "width": "100%"
      }
     },
     "ff2f30ac07084ade84aeb51253ccc339": {
      "model_module": "@jupyter-widgets/base",
      "model_module_version": "1.2.0",
      "model_name": "LayoutModel",
      "state": {
       "align_items": "stretch",
       "display": "flex",
       "flex_flow": "row",
       "grid_auto_columns": "True",
       "justify_content": "flex-start",
       "width": "80%"
      }
     },
     "ff94ad602a5c4ac0834090aa3e6d243a": {
      "model_module": "@jupyter-widgets/controls",
      "model_module_version": "1.5.0",
      "model_name": "HBoxModel",
      "state": {
       "children": [
        "IPY_MODEL_a12f17378d134ab7b2756cda2b513426",
        "IPY_MODEL_9dabdf964c2445b89d770eabe2714431"
       ],
       "layout": "IPY_MODEL_a5e65102af0a462d9a624251d5270cab"
      }
     },
     "ffbd977e739f4af6bf0d3115c91d058b": {
      "model_module": "@jupyter-widgets/controls",
      "model_module_version": "1.5.0",
      "model_name": "HBoxModel",
      "state": {
       "children": [
        "IPY_MODEL_2c84c41570ba42febc9987a5d5e20b7b",
        "IPY_MODEL_2563b86df5f5429483cd86dcb4ac0654"
       ],
       "layout": "IPY_MODEL_900e1c5621864d61a2ac1aca787d5e20"
      }
     }
    },
    "version_major": 2,
    "version_minor": 0
   }
  }
 },
 "nbformat": 4,
 "nbformat_minor": 4
}
