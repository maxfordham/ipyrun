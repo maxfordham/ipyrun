{
 "cells": [
  {
   "cell_type": "code",
   "execution_count": 21,
   "metadata": {},
   "outputs": [
    {
     "name": "stdout",
     "output_type": "stream",
     "text": [
      "['C:\\\\engDev\\\\git_mf\\\\ipyrun\\\\examples\\\\notebooks\\\\overheating', 'C:\\\\engDev\\\\git_mf\\\\MF_Toolbox\\\\dev', 'C:\\\\engDev\\\\git_mf\\\\pyRevit\\\\MFTools.extension', 'C:\\\\engDev\\\\git_mf\\\\SAP', 'C:\\\\engDev\\\\git_mf\\\\IES\\\\dev', 'C:\\\\engDev\\\\git_mf\\\\engDevSetup', 'C:\\\\engDev\\\\git_mf\\\\ipyrun', 'C:\\\\Users\\\\r.woods\\\\Miniconda3\\\\envs\\\\mf_main\\\\python37.zip', 'C:\\\\Users\\\\r.woods\\\\Miniconda3\\\\envs\\\\mf_main\\\\DLLs', 'C:\\\\Users\\\\r.woods\\\\Miniconda3\\\\envs\\\\mf_main\\\\lib', 'C:\\\\Users\\\\r.woods\\\\Miniconda3\\\\envs\\\\mf_main', '', 'C:\\\\Users\\\\r.woods\\\\Miniconda3\\\\envs\\\\mf_main\\\\lib\\\\site-packages', 'C:\\\\Users\\\\r.woods\\\\Miniconda3\\\\envs\\\\mf_main\\\\lib\\\\site-packages\\\\win32', 'C:\\\\Users\\\\r.woods\\\\Miniconda3\\\\envs\\\\mf_main\\\\lib\\\\site-packages\\\\win32\\\\lib', 'C:\\\\Users\\\\r.woods\\\\Miniconda3\\\\envs\\\\mf_main\\\\lib\\\\site-packages\\\\Pythonwin', 'C:\\\\Users\\\\r.woods\\\\Miniconda3\\\\envs\\\\mf_main\\\\lib\\\\site-packages\\\\IPython\\\\extensions', 'C:\\\\Users\\\\r.woods\\\\.ipython']\n"
     ]
    }
   ],
   "source": [
    "import sys\n",
    "print(sys.path)\n",
    "import os\n",
    "NBFDIR = os.path.dirname(os.path.realpath('__file__'))\n",
    "import pandas as pd\n",
    "from ipyrun.ipyrun import RunApp\n",
    "from mf_modules.j_header import markdown_header\n",
    "from mf_modules.pydtype_operations import write_json\n",
    "from mf_modules.file_operations import make_dir\n"
   ]
  },
  {
   "cell_type": "code",
   "execution_count": 22,
   "metadata": {},
   "outputs": [
    {
     "data": {
      "application/vnd.jupyter.widget-view+json": {
       "model_id": "fd82b6dbd2d94bcdabcf77c0603db2b3",
       "version_major": 2,
       "version_minor": 0
      },
      "text/plain": [
       "Output()"
      ]
     },
     "metadata": {},
     "output_type": "display_data"
    }
   ],
   "source": [
    "from ipyrun._ipydisplayfile import DisplayFile\n",
    "fpth_script = r'..\\..\\scripts\\create_model_run_file.py'\n",
    "d = DisplayFile(fpth_script)\n",
    "d.preview_fpth()"
   ]
  },
  {
   "cell_type": "code",
   "execution_count": 23,
   "metadata": {},
   "outputs": [
    {
     "data": {
      "application/vnd.jupyter.widget-view+json": {
       "model_id": "2a3d07bdaf9045d49de44d6c4e087306",
       "version_major": 2,
       "version_minor": 0
      },
      "text/plain": [
       "HBox(children=(Checkbox(value=False, indent=False, layout=Layout(height='30px', max_width='30px', padding='3px…"
      ]
     },
     "metadata": {},
     "output_type": "display_data"
    },
    {
     "data": {
      "application/vnd.jupyter.widget-view+json": {
       "model_id": "e2e597231a7942a6ae56b253fec783c4",
       "version_major": 2,
       "version_minor": 0
      },
      "text/plain": [
       "Output()"
      ]
     },
     "metadata": {},
     "output_type": "display_data"
    }
   ],
   "source": [
    "fdir_inputs = r'C:\\engDev\\git_mf\\ipyrun\\examples\\scripts\\template_inputs'\n",
    "fpth_inputs = r'C:\\engDev\\git_mf\\ipyrun\\examples\\scripts\\template_inputs\\inputs-create_model_run_file.json'\n",
    "config = {\n",
    "        'fpth_inputs': os.path.realpath(fpth_inputs),\n",
    "        'fdir_inputs': os.path.realpath(fdir_inputs),\n",
    "        'fpth_script':os.path.realpath(fpth_script),\n",
    "        'fdir':NBFDIR\n",
    "    }\n",
    "\n",
    "r = RunApp(config)\n",
    "r"
   ]
  },
  {
   "cell_type": "code",
   "execution_count": null,
   "metadata": {},
   "outputs": [],
   "source": []
  }
 ],
 "metadata": {
  "kernelspec": {
   "display_name": "Python 3",
   "language": "python",
   "name": "python3"
  },
  "language_info": {
   "codemirror_mode": {
    "name": "ipython",
    "version": 3
   },
   "file_extension": ".py",
   "mimetype": "text/x-python",
   "name": "python",
   "nbconvert_exporter": "python",
   "pygments_lexer": "ipython3",
   "version": "3.7.7"
  }
 },
 "nbformat": 4,
 "nbformat_minor": 4
}
