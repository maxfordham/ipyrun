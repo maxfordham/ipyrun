{
 "cells": [
  {
   "cell_type": "code",
   "execution_count": 1,
   "metadata": {},
   "outputs": [],
   "source": [
    "import os\n",
    "NBFDIR = os.path.dirname(os.path.realpath('__file__'))\n",
    "import pandas as pd\n",
    "from ipyrun.ipyrun import RunAppModelRun\n",
    "from mf_modules.j_header import markdown_header\n",
    "from mf_modules.pydtype_operations import write_json\n",
    "from mf_modules.file_operations import make_dir"
   ]
  },
  {
   "cell_type": "code",
   "execution_count": 2,
   "metadata": {},
   "outputs": [
    {
     "data": {
      "application/vnd.jupyter.widget-view+json": {
       "model_id": "e6ea44630a16473ea405af6f6ee11925",
       "version_major": 2,
       "version_minor": 0
      },
      "text/plain": [
       "Output()"
      ]
     },
     "metadata": {},
     "output_type": "display_data"
    }
   ],
   "source": [
    "from ipyrun._ipydisplayfile import DisplayFile\n",
    "fpth_script = r'..\\..\\scripts\\create_model_run_file.py'\n",
    "d = DisplayFile(fpth_script)\n",
    "d.preview_fpth()"
   ]
  },
  {
   "cell_type": "code",
   "execution_count": 3,
   "metadata": {},
   "outputs": [
    {
     "data": {
      "application/vnd.jupyter.widget-view+json": {
       "model_id": "098f014953984f42a6e472fed3a37d2f",
       "version_major": 2,
       "version_minor": 0
      },
      "text/plain": [
       "HBox(children=(Checkbox(value=False, indent=False, layout=Layout(height='30px', max_width='30px', padding='3px…"
      ]
     },
     "metadata": {},
     "output_type": "display_data"
    },
    {
     "data": {
      "application/vnd.jupyter.widget-view+json": {
       "model_id": "421a8dba2db340428e5dfc9c31c50a2d",
       "version_major": 2,
       "version_minor": 0
      },
      "text/plain": [
       "Output()"
      ]
     },
     "metadata": {},
     "output_type": "display_data"
    }
   ],
   "source": [
    "config={\n",
    "    'fpth_script':os.path.realpath(fpth_script),\n",
    "    'fdir':NBFDIR\n",
    "    }  \n",
    "r = RunAppModelRun(config)\n",
    "r"
   ]
  },
  {
   "cell_type": "code",
   "execution_count": null,
   "metadata": {},
   "outputs": [],
   "source": [
    "\n"
   ]
  }
 ],
 "metadata": {
  "kernelspec": {
   "display_name": "Python 3",
   "language": "python",
   "name": "python3"
  },
  "language_info": {
   "codemirror_mode": {
    "name": "ipython",
    "version": 3
   },
   "file_extension": ".py",
   "mimetype": "text/x-python",
   "name": "python",
   "nbconvert_exporter": "python",
   "pygments_lexer": "ipython3",
   "version": "3.7.7"
  }
 },
 "nbformat": 4,
 "nbformat_minor": 4
}
