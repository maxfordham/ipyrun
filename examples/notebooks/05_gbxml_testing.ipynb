{
 "cells": [
  {
   "cell_type": "code",
   "execution_count": 1,
   "metadata": {},
   "outputs": [],
   "source": [
    "%reload_ext autoreload\n",
    "%autoreload 2"
   ]
  },
  {
   "cell_type": "code",
   "execution_count": 2,
   "metadata": {},
   "outputs": [],
   "source": [
    "from mf_scripts.gbxml import GbxmlParser, GbxmlReport"
   ]
  },
  {
   "cell_type": "code",
   "execution_count": 3,
   "metadata": {},
   "outputs": [
    {
     "name": "stdout",
     "output_type": "stream",
     "text": [
      "Help on class GbxmlParser in module mf_scripts.gbxml:\n",
      "\n",
      "class GbxmlParser(builtins.object)\n",
      " |  GbxmlParser(FPTH, display_gbmxl=True, spc_name_index={0: 'BlockCode', 1: 'Level', 2: 'TM46Category', 3: 'SpaceId', 4: 'SpaceType'})\n",
      " |  \n",
      " |  Methods defined here:\n",
      " |  \n",
      " |  __init__(self, FPTH, display_gbmxl=True, spc_name_index={0: 'BlockCode', 1: 'Level', 2: 'TM46Category', 3: 'SpaceId', 4: 'SpaceType'})\n",
      " |      Initialize self.  See help(type(self)) for accurate signature.\n",
      " |  \n",
      " |  ----------------------------------------------------------------------\n",
      " |  Data descriptors defined here:\n",
      " |  \n",
      " |  __dict__\n",
      " |      dictionary for instance variables (if defined)\n",
      " |  \n",
      " |  __weakref__\n",
      " |      list of weak references to the object (if defined)\n",
      " |  \n",
      " |  cnstrn\n",
      " |      Args:\n",
      " |          FPTH (str): fpth of gbxml file\n",
      " |          display_gbmxl (bool): show json structure in browser\n",
      " |      Returns:\n",
      " |          cnstrn (pd.DataFrame): dataframe of constructions in the gbxml model\n",
      " |  \n",
      " |  glz\n",
      " |      Args:\n",
      " |          FPTH (str): fpth of gbxml file\n",
      " |          display_gbmxl (bool): show json structure in browser\n",
      " |      Returns:\n",
      " |          cnstrn (pd.DataFrame): dataframe of constructions in the gbxml model\n",
      " |  \n",
      " |  spcs\n",
      "\n"
     ]
    }
   ],
   "source": [
    "help(GbxmlParser)"
   ]
  },
  {
   "cell_type": "code",
   "execution_count": 57,
   "metadata": {},
   "outputs": [],
   "source": [
    "import os \n",
    "fpth = os.path.join(os.environ['MF_ROOT'], r'MF_Toolbox\\dev\\examples\\eg_filetypes\\eg_gbxml.xml')"
   ]
  },
  {
   "cell_type": "code",
   "execution_count": 58,
   "metadata": {},
   "outputs": [],
   "source": [
    "#g.gbjson['gbXML']['Campus']['Building']['Space'][0]"
   ]
  },
  {
   "cell_type": "code",
   "execution_count": 59,
   "metadata": {},
   "outputs": [
    {
     "data": {
      "text/html": [
       "eg_gbxml.xml"
      ],
      "text/plain": [
       "<IPython.core.display.HTML object>"
      ]
     },
     "metadata": {},
     "output_type": "display_data"
    },
    {
     "data": {
      "text/html": [
       "<a href='C:\\engDev\\git_mf\\MF_Toolbox\\dev\\examples\\eg_filetypes\\eg_gbxml.xml' target='_blank'>C:\\engDev\\git_mf\\MF_Toolbox\\dev\\examples\\eg_filetypes\\eg_gbxml.xml</a><br>"
      ],
      "text/plain": [
       "C:\\engDev\\git_mf\\MF_Toolbox\\dev\\examples\\eg_filetypes\\eg_gbxml.xml"
      ]
     },
     "metadata": {},
     "output_type": "display_data"
    },
    {
     "data": {
      "application/json": {
       "gbXML": {
        "@areaUnit": "SquareMeters",
        "@lengthUnit": "Meters",
        "@temperatureUnit": "C",
        "@useSIUnitsForResults": "true",
        "@version": "0.37",
        "@volumeUnit": "CubicMeters",
        "@xmlns": "http://www.gbxml.org/schema",
        "Campus": {
         "@id": "campus-1",
         "Building": {
          "@buildingType": "Unknown",
          "@id": "1ab32444_5feb_4bac_a975_d16db6b39bb4",
          "BuildingStorey": {
           "@id": "STOREY_1",
           "CADObjectId": "STOREY_id_0",
           "Level": "0.000000",
           "Name": "All rooms"
          },
          "Space": [
           {
            "@buildingStoreyIdRef": "STOREY_1",
            "@conditionType": "HeatedAndCooled",
            "@id": "TR000001",
            "@zoneIdRef": "ZONE_2",
            "Area": "55.809276",
            "CADObjectId": "TR000001",
            "Name": "B_00_02_R5_WorkRoom2",
            "ShellGeometry": {
             "@id": "TR000001-shellgeometry",
             "ClosedShell": {
              "PolyLoop": [
               {
                "CartesianPoint": [
                 {
                  "Coordinate": [
                   "36.968681",
                   "11.169988",
                   "0.000000"
                  ]
                 },
                 {
                  "Coordinate": [
                   "29.193419",
                   "11.169988",
                   "-0.000000"
                  ]
                 },
                 {
                  "Coordinate": [
                   "29.193419",
                   "18.347788",
                   "-0.000000"
                  ]
                 },
                 {
                  "Coordinate": [
                   "36.968681",
                   "18.347788",
                   "0.000000"
                  ]
                 }
                ]
               },
               {
                "CartesianPoint": [
                 {
                  "Coordinate": [
                   "36.968681",
                   "18.347788",
                   "3.400000"
                  ]
                 },
                 {
                  "Coordinate": [
                   "29.193419",
                   "18.347788",
                   "3.400000"
                  ]
                 },
                 {
                  "Coordinate": [
                   "29.193419",
                   "11.169988",
                   "3.400000"
                  ]
                 },
                 {
                  "Coordinate": [
                   "36.968681",
                   "11.169988",
                   "3.400000"
                  ]
                 }
                ]
               },
               {
                "CartesianPoint": [
                 {
                  "Coordinate": [
                   "29.193419",
                   "18.347788",
                   "-0.000000"
                  ]
                 },
                 {
                  "Coordinate": [
                   "29.193419",
                   "11.169988",
                   "-0.000000"
                  ]
                 },
                 {
                  "Coordinate": [
                   "29.193419",
                   "11.169988",
                   "3.400000"
                  ]
                 },
                 {
                  "Coordinate": [
                   "29.193419",
                   "18.347788",
                   "3.400000"
                  ]
                 }
                ]
               },
               {
                "CartesianPoint": [
                 {
                  "Coordinate": [
                   "29.193419",
                   "18.347788",
                   "3.400000"
                  ]
                 },
                 {
                  "Coordinate": [
                   "36.968681",
                   "18.347788",
                   "3.400000"
                  ]
                 },
                 {
                  "Coordinate": [
                   "36.968681",
                   "18.347788",
                   "0.000000"
                  ]
                 },
                 {
                  "Coordinate": [
                   "29.193419",
                   "18.347788",
                   "-0.000000"
                  ]
                 }
                ]
               },
               {
                "CartesianPoint": [
                 {
                  "Coordinate": [
                   "36.968681",
                   "11.169988",
                   "0.000000"
                  ]
                 },
                 {
                  "Coordinate": [
                   "36.968681",
                   "18.347788",
                   "0.000000"
                  ]
                 },
                 {
                  "Coordinate": [
                   "36.968681",
                   "18.347788",
                   "3.400000"
                  ]
                 },
                 {
                  "Coordinate": [
                   "36.968681",
                   "11.169988",
                   "3.400000"
                  ]
                 }
                ]
               },
               {
                "CartesianPoint": [
                 {
                  "Coordinate": [
                   "29.193419",
                   "11.169988",
                   "-0.000000"
                  ]
                 },
                 {
                  "Coordinate": [
                   "36.968681",
                   "11.169988",
                   "0.000000"
                  ]
                 },
                 {
                  "Coordinate": [
                   "36.968681",
                   "11.169988",
                   "3.400000"
                  ]
                 },
                 {
                  "Coordinate": [
                   "29.193419",
                   "11.169988",
                   "3.400000"
                  ]
                 }
                ]
               }
              ]
             }
            },
            "SpaceBoundary": [
             {
              "@isSecondLevelBoundary": "true",
              "@surfaceIdRef": "surface-1",
              "PlanarGeometry": {
               "PolyLoop": {
                "CartesianPoint": [
                 {
                  "Coordinate": [
                   "36.968681",
                   "11.169988",
                   "0.000000"
                  ]
                 },
                 {
                  "Coordinate": [
                   "29.193419",
                   "11.169988",
                   "0.000000"
                  ]
                 },
                 {
                  "Coordinate": [
                   "29.193419",
                   "18.347788",
                   "0.000000"
                  ]
                 },
                 {
                  "Coordinate": [
                   "36.968681",
                   "18.347788",
                   "0.000000"
                  ]
                 }
                ]
               }
              }
             },
             {
              "@isSecondLevelBoundary": "true",
              "@surfaceIdRef": "surface-2",
              "PlanarGeometry": {
               "PolyLoop": {
                "CartesianPoint": [
                 {
                  "Coordinate": [
                   "36.968681",
                   "18.347788",
                   "3.400000"
                  ]
                 },
                 {
                  "Coordinate": [
                   "29.193419",
                   "18.347788",
                   "3.400000"
                  ]
                 },
                 {
                  "Coordinate": [
                   "29.193419",
                   "11.169988",
                   "3.400000"
                  ]
                 },
                 {
                  "Coordinate": [
                   "36.968681",
                   "11.169988",
                   "3.400000"
                  ]
                 }
                ]
               }
              }
             },
             {
              "@isSecondLevelBoundary": "true",
              "@surfaceIdRef": "surface-3",
              "PlanarGeometry": {
               "PolyLoop": {
                "CartesianPoint": [
                 {
                  "Coordinate": [
                   "29.193419",
                   "18.347788",
                   "0.000000"
                  ]
                 },
                 {
                  "Coordinate": [
                   "29.193419",
                   "11.169988",
                   "0.000000"
                  ]
                 },
                 {
                  "Coordinate": [
                   "29.193419",
                   "11.169988",
                   "3.400000"
                  ]
                 },
                 {
                  "Coordinate": [
                   "29.193419",
                   "18.347788",
                   "3.400000"
                  ]
                 }
                ]
               }
              }
             },
             {
              "@isSecondLevelBoundary": "true",
              "@surfaceIdRef": "surface-4",
              "PlanarGeometry": {
               "PolyLoop": {
                "CartesianPoint": [
                 {
                  "Coordinate": [
                   "29.193419",
                   "18.347788",
                   "3.400000"
                  ]
                 },
                 {
                  "Coordinate": [
                   "36.968681",
                   "18.347788",
                   "3.400000"
                  ]
                 },
                 {
                  "Coordinate": [
                   "36.968681",
                   "18.347788",
                   "0.000000"
                  ]
                 },
                 {
                  "Coordinate": [
                   "29.193419",
                   "18.347788",
                   "0.000000"
                  ]
                 }
                ]
               }
              }
             },
             {
              "@isSecondLevelBoundary": "true",
              "@surfaceIdRef": "surface-5",
              "PlanarGeometry": {
               "PolyLoop": {
                "CartesianPoint": [
                 {
                  "Coordinate": [
                   "36.968681",
                   "11.169988",
                   "0.000000"
                  ]
                 },
                 {
                  "Coordinate": [
                   "36.968681",
                   "18.347788",
                   "0.000000"
                  ]
                 },
                 {
                  "Coordinate": [
                   "36.968681",
                   "18.347788",
                   "3.400000"
                  ]
                 },
                 {
                  "Coordinate": [
                   "36.968681",
                   "11.169988",
                   "3.400000"
                  ]
                 }
                ]
               }
              }
             },
             {
              "@isSecondLevelBoundary": "true",
              "@surfaceIdRef": "surface-6",
              "PlanarGeometry": {
               "PolyLoop": {
                "CartesianPoint": [
                 {
                  "Coordinate": [
                   "36.968681",
                   "11.169988",
                   "3.400000"
                  ]
                 },
                 {
                  "Coordinate": [
                   "29.193419",
                   "11.169988",
                   "3.400000"
                  ]
                 },
                 {
                  "Coordinate": [
                   "29.193419",
                   "11.169988",
                   "-0.000000"
                  ]
                 },
                 {
                  "Coordinate": [
                   "36.968681",
                   "11.169988",
                   "-0.000000"
                  ]
                 }
                ]
               }
              }
             }
            ],
            "TypeCode": "0",
            "Volume": "189.751537"
           },
           {
            "@buildingStoreyIdRef": "STOREY_1",
            "@conditionType": "HeatedAndCooled",
            "@id": "TR000003",
            "@zoneIdRef": "ZONE_2",
            "Area": "55.981886",
            "CADObjectId": "TR000003",
            "Name": "B_00_01_R4_WorkRoom1",
            "ShellGeometry": {
             "@id": "TR000003-shellgeometry",
             "ClosedShell": {
              "PolyLoop": [
               {
                "CartesianPoint": [
                 {
                  "Coordinate": [
                   "36.968681",
                   "3.969988",
                   "0.000000"
                  ]
                 },
                 {
                  "Coordinate": [
                   "29.193419",
                   "3.969988",
                   "0.000000"
                  ]
                 },
                 {
                  "Coordinate": [
                   "29.193419",
                   "11.169988",
                   "-0.000000"
                  ]
                 },
                 {
                  "Coordinate": [
                   "36.968681",
                   "11.169988",
                   "0.000000"
                  ]
                 }
                ]
               },
               {
                "CartesianPoint": [
                 {
                  "Coordinate": [
                   "36.968681",
                   "11.169988",
                   "3.400000"
                  ]
                 },
                 {
                  "Coordinate": [
                   "29.193419",
                   "11.169988",
                   "3.400000"
                  ]
                 },
                 {
                  "Coordinate": [
                   "29.193419",
                   "3.969988",
                   "3.400000"
                  ]
                 },
                 {
                  "Coordinate": [
                   "36.968681",
                   "3.969988",
                   "3.400000"
                  ]
                 }
                ]
               },
               {
                "CartesianPoint": [
                 {
                  "Coordinate": [
                   "29.193419",
                   "11.169988",
                   "-0.000000"
                  ]
                 },
                 {
                  "Coordinate": [
                   "29.193419",
                   "3.969988",
                   "0.000000"
                  ]
                 },
                 {
                  "Coordinate": [
                   "29.193419",
                   "3.969988",
                   "3.400000"
                  ]
                 },
                 {
                  "Coordinate": [
                   "29.193419",
                   "11.169988",
                   "3.400000"
                  ]
                 }
                ]
               },
               {
                "CartesianPoint": [
                 {
                  "Coordinate": [
                   "36.968681",
                   "3.969988",
                   "0.000000"
                  ]
                 },
                 {
                  "Coordinate": [
                   "36.968681",
                   "11.169988",
                   "0.000000"
                  ]
                 },
                 {
                  "Coordinate": [
                   "36.968681",
                   "11.169988",
                   "3.400000"
                  ]
                 },
                 {
                  "Coordinate": [
                   "36.968681",
                   "3.969988",
                   "3.400000"
                  ]
                 }
                ]
               },
               {
                "CartesianPoint": [
                 {
                  "Coordinate": [
                   "29.193419",
                   "3.969988",
                   "0.000000"
                  ]
                 },
                 {
                  "Coordinate": [
                   "36.968681",
                   "3.969988",
                   "0.000000"
                  ]
                 },
                 {
                  "Coordinate": [
                   "36.968681",
                   "3.969988",
                   "3.400000"
                  ]
                 },
                 {
                  "Coordinate": [
                   "29.193419",
                   "3.969988",
                   "3.400000"
                  ]
                 }
                ]
               },
               {
                "CartesianPoint": [
                 {
                  "Coordinate": [
                   "29.193419",
                   "11.169988",
                   "3.400000"
                  ]
                 },
                 {
                  "Coordinate": [
                   "36.968681",
                   "11.169988",
                   "3.400000"
                  ]
                 },
                 {
                  "Coordinate": [
                   "36.968681",
                   "11.169988",
                   "0.000000"
                  ]
                 },
                 {
                  "Coordinate": [
                   "29.193419",
                   "11.169988",
                   "-0.000000"
                  ]
                 }
                ]
               }
              ]
             }
            },
            "SpaceBoundary": [
             {
              "@isSecondLevelBoundary": "true",
              "@surfaceIdRef": "surface-6",
              "PlanarGeometry": {
               "PolyLoop": {
                "CartesianPoint": [
                 {
                  "Coordinate": [
                   "36.968681",
                   "11.169988",
                   "-0.000000"
                  ]
                 },
                 {
                  "Coordinate": [
                   "29.193419",
                   "11.169988",
                   "-0.000000"
                  ]
                 },
                 {
                  "Coordinate": [
                   "29.193419",
                   "11.169988",
                   "3.400000"
                  ]
                 },
                 {
                  "Coordinate": [
                   "36.968681",
                   "11.169988",
                   "3.400000"
                  ]
                 }
                ]
               }
              }
             },
             {
              "@isSecondLevelBoundary": "true",
              "@surfaceIdRef": "surface-7",
              "PlanarGeometry": {
               "PolyLoop": {
                "CartesianPoint": [
                 {
                  "Coordinate": [
                   "36.968681",
                   "3.969988",
                   "0.000000"
                  ]
                 },
                 {
                  "Coordinate": [
                   "29.193419",
                   "3.969988",
                   "0.000000"
                  ]
                 },
                 {
                  "Coordinate": [
                   "29.193419",
                   "11.169988",
                   "0.000000"
                  ]
                 },
                 {
                  "Coordinate": [
                   "36.968681",
                   "11.169988",
                   "0.000000"
                  ]
                 }
                ]
               }
              }
             },
             {
              "@isSecondLevelBoundary": "true",
              "@surfaceIdRef": "surface-8",
              "PlanarGeometry": {
               "PolyLoop": {
                "CartesianPoint": [
                 {
                  "Coordinate": [
                   "33.715237",
                   "3.970000",
                   "3.400000"
                  ]
                 },
                 {
                  "Coordinate": [
                   "30.455237",
                   "3.970000",
                   "3.400000"
                  ]
                 },
                 {
                  "Coordinate": [
                   "30.455237",
                   "3.969988",
                   "3.400000"
                  ]
                 },
                 {
                  "Coordinate": [
                   "33.715237",
                   "3.969988",
                   "3.400000"
                  ]
                 }
                ]
               }
              }
             },
             {
              "@isSecondLevelBoundary": "true",
              "@surfaceIdRef": "surface-9",
              "PlanarGeometry": {
               "PolyLoop": {
                "CartesianPoint": [
                 {
                  "Coordinate": [
                   "36.968681",
                   "11.169988",
                   "3.400000"
                  ]
                 },
                 {
                  "Coordinate": [
                   "30.455237",
                   "11.169988",
                   "3.400000"
                  ]
                 },
                 {
                  "Coordinate": [
                   "30.455237",
                   "3.970000",
                   "3.400000"
                  ]
                 },
                 {
                  "Coordinate": [
                   "36.968681",
                   "3.970000",
                   "3.400000"
                  ]
                 }
                ]
               }
              }
             },
             {
              "@isSecondLevelBoundary": "true",
              "@surfaceIdRef": "surface-10",
              "PlanarGeometry": {
               "PolyLoop": {
                "CartesianPoint": [
                 {
                  "Coordinate": [
                   "36.968681",
                   "3.970000",
                   "3.400000"
                  ]
                 },
                 {
                  "Coordinate": [
                   "33.715237",
                   "3.970000",
                   "3.400000"
                  ]
                 },
                 {
                  "Coordinate": [
                   "33.715237",
                   "3.969988",
                   "3.400000"
                  ]
                 },
                 {
                  "Coordinate": [
                   "36.968681",
                   "3.969988",
                   "3.400000"
                  ]
                 }
                ]
               }
              }
             },
             {
              "@isSecondLevelBoundary": "true",
              "@surfaceIdRef": "surface-11",
              "PlanarGeometry": {
               "PolyLoop": {
                "CartesianPoint": [
                 {
                  "Coordinate": [
                   "30.455237",
                   "11.169988",
                   "3.400000"
                  ]
                 },
                 {
                  "Coordinate": [
                   "29.193419",
                   "11.169988",
                   "3.400000"
                  ]
                 },
                 {
                  "Coordinate": [
                   "29.193419",
                   "3.969988",
                   "3.400000"
                  ]
                 },
                 {
                  "Coordinate": [
                   "30.455237",
                   "3.969988",
                   "3.400000"
                  ]
                 }
                ]
               }
              }
             },
             {
              "@isSecondLevelBoundary": "true",
              "@surfaceIdRef": "surface-12",
              "PlanarGeometry": {
               "PolyLoop": {
                "CartesianPoint": [
                 {
                  "Coordinate": [
                   "29.193419",
                   "11.169988",
                   "0.000000"
                  ]
                 },
                 {
                  "Coordinate": [
                   "29.193419",
                   "3.969988",
                   "0.000000"
                  ]
                 },
                 {
                  "Coordinate": [
                   "29.193419",
                   "3.969988",
                   "3.400000"
                  ]
                 },
                 {
                  "Coordinate": [
                   "29.193419",
                   "11.169988",
                   "3.400000"
                  ]
                 }
                ]
               }
              }
             },
             {
              "@isSecondLevelBoundary": "true",
              "@surfaceIdRef": "surface-13",
              "PlanarGeometry": {
               "PolyLoop": {
                "CartesianPoint": [
                 {
                  "Coordinate": [
                   "36.968681",
                   "3.969988",
                   "0.000000"
                  ]
                 },
                 {
                  "Coordinate": [
                   "36.968681",
                   "11.169988",
                   "0.000000"
                  ]
                 },
                 {
                  "Coordinate": [
                   "36.968681",
                   "11.169988",
                   "3.400000"
                  ]
                 },
                 {
                  "Coordinate": [
                   "36.968681",
                   "3.969988",
                   "3.400000"
                  ]
                 }
                ]
               }
              }
             },
             {
              "@isSecondLevelBoundary": "true",
              "@surfaceIdRef": "surface-14",
              "PlanarGeometry": {
               "PolyLoop": {
                "CartesianPoint": [
                 {
                  "Coordinate": [
                   "36.968681",
                   "3.969988",
                   "3.400000"
                  ]
                 },
                 {
                  "Coordinate": [
                   "30.493681",
                   "3.969988",
                   "3.400000"
                  ]
                 },
                 {
                  "Coordinate": [
                   "30.493681",
                   "3.969988",
                   "-0.000000"
                  ]
                 },
                 {
                  "Coordinate": [
                   "36.968681",
                   "3.969988",
                   "-0.000000"
                  ]
                 }
                ]
               }
              }
             },
             {
              "@isSecondLevelBoundary": "true",
              "@surfaceIdRef": "surface-15",
              "PlanarGeometry": {
               "PolyLoop": {
                "CartesianPoint": [
                 {
                  "Coordinate": [
                   "29.193419",
                   "3.969988",
                   "0.000000"
                  ]
                 },
                 {
                  "Coordinate": [
                   "30.493681",
                   "3.969988",
                   "0.000000"
                  ]
                 },
                 {
                  "Coordinate": [
                   "30.493681",
                   "3.969988",
                   "3.400000"
                  ]
                 },
                 {
                  "Coordinate": [
                   "29.193419",
                   "3.969988",
                   "3.400000"
                  ]
                 }
                ]
               }
              }
             }
            ],
            "TypeCode": "0",
            "Volume": "190.338414"
           },
           {
            "@buildingStoreyIdRef": "STOREY_1",
            "@conditionType": "HeatedAndCooled",
            "@id": "TR000006",
            "@zoneIdRef": "ZONE_2",
            "Area": "55.809276",
            "CADObjectId": "TR000006",
            "Name": "B_01_01_R16_WorkRoom1",
            "ShellGeometry": {
             "@id": "TR000006-shellgeometry",
             "ClosedShell": {
              "PolyLoop": [
               {
                "CartesianPoint": [
                 {
                  "Coordinate": [
                   "36.968681",
                   "11.169988",
                   "3.400000"
                  ]
                 },
                 {
                  "Coordinate": [
                   "29.193419",
                   "11.169988",
                   "3.400000"
                  ]
                 },
                 {
                  "Coordinate": [
                   "29.193419",
                   "18.347788",
                   "3.400000"
                  ]
                 },
                 {
                  "Coordinate": [
                   "36.968681",
                   "18.347788",
                   "3.400000"
                  ]
                 }
                ]
               },
               {
                "CartesianPoint": [
                 {
                  "Coordinate": [
                   "36.968681",
                   "18.347788",
                   "6.800000"
                  ]
                 },
                 {
                  "Coordinate": [
                   "29.193419",
                   "18.347788",
                   "6.800000"
                  ]
                 },
                 {
                  "Coordinate": [
                   "29.193419",
                   "11.169988",
                   "6.800000"
                  ]
                 },
                 {
                  "Coordinate": [
                   "36.968681",
                   "11.169988",
                   "6.800000"
                  ]
                 }
                ]
               },
               {
                "CartesianPoint": [
                 {
                  "Coordinate": [
                   "29.193419",
                   "18.347788",
                   "3.400000"
                  ]
                 },
                 {
                  "Coordinate": [
                   "29.193419",
                   "11.169988",
                   "3.400000"
                  ]
                 },
                 {
                  "Coordinate": [
                   "29.193419",
                   "11.169988",
                   "6.800000"
                  ]
                 },
                 {
                  "Coordinate": [
                   "29.193419",
                   "18.347788",
                   "6.800000"
                  ]
                 }
                ]
               },
               {
                "CartesianPoint": [
                 {
                  "Coordinate": [
                   "29.193419",
                   "18.347788",
                   "6.800000"
                  ]
                 },
                 {
                  "Coordinate": [
                   "36.968681",
                   "18.347788",
                   "6.800000"
                  ]
                 },
                 {
                  "Coordinate": [
                   "36.968681",
                   "18.347788",
                   "3.400000"
                  ]
                 },
                 {
                  "Coordinate": [
                   "29.193419",
                   "18.347788",
                   "3.400000"
                  ]
                 }
                ]
               },
               {
                "CartesianPoint": [
                 {
                  "Coordinate": [
                   "36.968681",
                   "11.169988",
                   "3.400000"
                  ]
                 },
                 {
                  "Coordinate": [
                   "36.968681",
                   "18.347788",
                   "3.400000"
                  ]
                 },
                 {
                  "Coordinate": [
                   "36.968681",
                   "18.347788",
                   "6.800000"
                  ]
                 },
                 {
                  "Coordinate": [
                   "36.968681",
                   "11.169988",
                   "6.800000"
                  ]
                 }
                ]
               },
               {
                "CartesianPoint": [
                 {
                  "Coordinate": [
                   "29.193419",
                   "11.169988",
                   "3.400000"
                  ]
                 },
                 {
                  "Coordinate": [
                   "36.968681",
                   "11.169988",
                   "3.400000"
                  ]
                 },
                 {
                  "Coordinate": [
                   "36.968681",
                   "11.169988",
                   "6.800000"
                  ]
                 },
                 {
                  "Coordinate": [
                   "29.193419",
                   "11.169988",
                   "6.800000"
                  ]
                 }
                ]
               }
              ]
             }
            },
            "SpaceBoundary": [
             {
              "@isSecondLevelBoundary": "true",
              "@surfaceIdRef": "surface-2",
              "PlanarGeometry": {
               "PolyLoop": {
                "CartesianPoint": [
                 {
                  "Coordinate": [
                   "36.968681",
                   "11.169988",
                   "3.400000"
                  ]
                 },
                 {
                  "Coordinate": [
                   "29.193419",
                   "11.169988",
                   "3.400000"
                  ]
                 },
                 {
                  "Coordinate": [
                   "29.193419",
                   "18.347788",
                   "3.400000"
                  ]
                 },
                 {
                  "Coordinate": [
                   "36.968681",
                   "18.347788",
                   "3.400000"
                  ]
                 }
                ]
               }
              }
             },
             {
              "@isSecondLevelBoundary": "true",
              "@surfaceIdRef": "surface-16",
              "PlanarGeometry": {
               "PolyLoop": {
                "CartesianPoint": [
                 {
                  "Coordinate": [
                   "36.968681",
                   "18.347788",
                   "6.800000"
                  ]
                 },
                 {
                  "Coordinate": [
                   "29.193419",
                   "18.347788",
                   "6.800000"
                  ]
                 },
                 {
                  "Coordinate": [
                   "29.193419",
                   "11.169988",
                   "6.800000"
                  ]
                 },
                 {
                  "Coordinate": [
                   "36.968681",
                   "11.169988",
                   "6.800000"
                  ]
                 }
                ]
               }
              }
             },
             {
              "@isSecondLevelBoundary": "true",
              "@surfaceIdRef": "surface-17",
              "PlanarGeometry": {
               "PolyLoop": {
                "CartesianPoint": [
                 {
                  "Coordinate": [
                   "29.193419",
                   "18.347788",
                   "3.400000"
                  ]
                 },
                 {
                  "Coordinate": [
                   "29.193419",
                   "11.169988",
                   "3.400000"
                  ]
                 },
                 {
                  "Coordinate": [
                   "29.193419",
                   "11.169988",
                   "6.800000"
                  ]
                 },
                 {
                  "Coordinate": [
                   "29.193419",
                   "18.347788",
                   "6.800000"
                  ]
                 }
                ]
               }
              }
             },
             {
              "@isSecondLevelBoundary": "true",
              "@surfaceIdRef": "surface-18",
              "PlanarGeometry": {
               "PolyLoop": {
                "CartesianPoint": [
                 {
                  "Coordinate": [
                   "29.193419",
                   "18.347788",
                   "6.800000"
                  ]
                 },
                 {
                  "Coordinate": [
                   "36.968681",
                   "18.347788",
                   "6.800000"
                  ]
                 },
                 {
                  "Coordinate": [
                   "36.968681",
                   "18.347788",
                   "3.400000"
                  ]
                 },
                 {
                  "Coordinate": [
                   "29.193419",
                   "18.347788",
                   "3.400000"
                  ]
                 }
                ]
               }
              }
             },
             {
              "@isSecondLevelBoundary": "true",
              "@surfaceIdRef": "surface-19",
              "PlanarGeometry": {
               "PolyLoop": {
                "CartesianPoint": [
                 {
                  "Coordinate": [
                   "36.968681",
                   "11.169988",
                   "3.400000"
                  ]
                 },
                 {
                  "Coordinate": [
                   "36.968681",
                   "18.347788",
                   "3.400000"
                  ]
                 },
                 {
                  "Coordinate": [
                   "36.968681",
                   "18.347788",
                   "6.800000"
                  ]
                 },
                 {
                  "Coordinate": [
                   "36.968681",
                   "11.169988",
                   "6.800000"
                  ]
                 }
                ]
               }
              }
             },
             {
              "@isSecondLevelBoundary": "true",
              "@surfaceIdRef": "surface-20",
              "PlanarGeometry": {
               "PolyLoop": {
                "CartesianPoint": [
                 {
                  "Coordinate": [
                   "36.968681",
                   "11.169988",
                   "6.800000"
                  ]
                 },
                 {
                  "Coordinate": [
                   "30.455237",
                   "11.169988",
                   "6.800000"
                  ]
                 },
                 {
                  "Coordinate": [
                   "30.455237",
                   "11.169988",
                   "3.400000"
                  ]
                 },
                 {
                  "Coordinate": [
                   "36.968681",
                   "11.169988",
                   "3.400000"
                  ]
                 }
                ]
               }
              }
             },
             {
              "@isSecondLevelBoundary": "true",
              "@surfaceIdRef": "surface-21",
              "PlanarGeometry": {
               "PolyLoop": {
                "CartesianPoint": [
                 {
                  "Coordinate": [
                   "30.455237",
                   "11.169988",
                   "6.800000"
                  ]
                 },
                 {
                  "Coordinate": [
                   "29.193419",
                   "11.169988",
                   "6.800000"
                  ]
                 },
                 {
                  "Coordinate": [
                   "29.193419",
                   "11.169988",
                   "3.400000"
                  ]
                 },
                 {
                  "Coordinate": [
                   "30.455237",
                   "11.169988",
                   "3.400000"
                  ]
                 }
                ]
               }
              }
             }
            ],
            "TypeCode": "0",
            "Volume": "189.751537"
           },
           {
            "@buildingStoreyIdRef": "STOREY_1",
            "@conditionType": "HeatedAndCooled",
            "@id": "TR000009",
            "@zoneIdRef": "ZONE_2",
            "Area": "2.353824",
            "CADObjectId": "TR000009",
            "Name": "B_00_03_R6_WCExt",
            "ShellGeometry": {
             "@id": "TR000009-shellgeometry",
             "ClosedShell": {
              "PolyLoop": [
               {
                "CartesianPoint": [
                 {
                  "Coordinate": [
                   "30.493681",
                   "0.394968",
                   "0.000000"
                  ]
                 },
                 {
                  "Coordinate": [
                   "29.193419",
                   "0.394968",
                   "-0.000000"
                  ]
                 },
                 {
                  "Coordinate": [
                   "29.193419",
                   "2.205237",
                   "0.000000"
                  ]
                 },
                 {
                  "Coordinate": [
                   "30.493681",
                   "2.205237",
                   "0.000000"
                  ]
                 }
                ]
               },
               {
                "CartesianPoint": [
                 {
                  "Coordinate": [
                   "30.493681",
                   "2.205237",
                   "3.400000"
                  ]
                 },
                 {
                  "Coordinate": [
                   "29.193419",
                   "2.205237",
                   "3.400000"
                  ]
                 },
                 {
                  "Coordinate": [
                   "29.193419",
                   "0.394968",
                   "3.400000"
                  ]
                 },
                 {
                  "Coordinate": [
                   "30.493681",
                   "0.394968",
                   "3.400000"
                  ]
                 }
                ]
               },
               {
                "CartesianPoint": [
                 {
                  "Coordinate": [
                   "29.193419",
                   "2.205237",
                   "0.000000"
                  ]
                 },
                 {
                  "Coordinate": [
                   "29.193419",
                   "0.394968",
                   "-0.000000"
                  ]
                 },
                 {
                  "Coordinate": [
                   "29.193419",
                   "0.394968",
                   "3.400000"
                  ]
                 },
                 {
                  "Coordinate": [
                   "29.193419",
                   "2.205237",
                   "3.400000"
                  ]
                 }
                ]
               },
               {
                "CartesianPoint": [
                 {
                  "Coordinate": [
                   "29.193419",
                   "0.394968",
                   "-0.000000"
                  ]
                 },
                 {
                  "Coordinate": [
                   "30.493681",
                   "0.394968",
                   "0.000000"
                  ]
                 },
                 {
                  "Coordinate": [
                   "30.493681",
                   "0.394968",
                   "3.400000"
                  ]
                 },
                 {
                  "Coordinate": [
                   "29.193419",
                   "0.394968",
                   "3.400000"
                  ]
                 }
                ]
               },
               {
                "CartesianPoint": [
                 {
                  "Coordinate": [
                   "30.493681",
                   "0.394968",
                   "0.000000"
                  ]
                 },
                 {
                  "Coordinate": [
                   "30.493681",
                   "2.205237",
                   "0.000000"
                  ]
                 },
                 {
                  "Coordinate": [
                   "30.493681",
                   "2.205237",
                   "3.400000"
                  ]
                 },
                 {
                  "Coordinate": [
                   "30.493681",
                   "0.394968",
                   "3.400000"
                  ]
                 }
                ]
               },
               {
                "CartesianPoint": [
                 {
                  "Coordinate": [
                   "29.193419",
                   "2.205237",
                   "3.400000"
                  ]
                 },
                 {
                  "Coordinate": [
                   "30.493681",
                   "2.205237",
                   "3.400000"
                  ]
                 },
                 {
                  "Coordinate": [
                   "30.493681",
                   "2.205237",
                   "0.000000"
                  ]
                 },
                 {
                  "Coordinate": [
                   "29.193419",
                   "2.205237",
                   "0.000000"
                  ]
                 }
                ]
               }
              ]
             }
            },
            "SpaceBoundary": [
             {
              "@isSecondLevelBoundary": "true",
              "@surfaceIdRef": "surface-22",
              "PlanarGeometry": {
               "PolyLoop": {
                "CartesianPoint": [
                 {
                  "Coordinate": [
                   "30.493681",
                   "0.394968",
                   "0.000000"
                  ]
                 },
                 {
                  "Coordinate": [
                   "29.193419",
                   "0.394968",
                   "0.000000"
                  ]
                 },
                 {
                  "Coordinate": [
                   "29.193419",
                   "2.205237",
                   "0.000000"
                  ]
                 },
                 {
                  "Coordinate": [
                   "30.493681",
                   "2.205237",
                   "0.000000"
                  ]
                 }
                ]
               }
              }
             },
             {
              "@isSecondLevelBoundary": "true",
              "@surfaceIdRef": "surface-23",
              "PlanarGeometry": {
               "PolyLoop": {
                "CartesianPoint": [
                 {
                  "Coordinate": [
                   "30.493681",
                   "2.205237",
                   "3.400000"
                  ]
                 },
                 {
                  "Coordinate": [
                   "30.455237",
                   "2.205237",
                   "3.400000"
                  ]
                 },
                 {
                  "Coordinate": [
                   "30.455237",
                   "1.680000",
                   "3.400000"
                  ]
                 },
                 {
                  "Coordinate": [
                   "30.493681",
                   "1.679837",
                   "3.400000"
                  ]
                 }
                ]
               }
              }
             },
             {
              "@isSecondLevelBoundary": "true",
              "@surfaceIdRef": "surface-24",
              "PlanarGeometry": {
               "PolyLoop": {
                "CartesianPoint": [
                 {
                  "Coordinate": [
                   "30.455237",
                   "2.205237",
                   "3.400000"
                  ]
                 },
                 {
                  "Coordinate": [
                   "29.193419",
                   "2.205237",
                   "3.400000"
                  ]
                 },
                 {
                  "Coordinate": [
                   "29.193419",
                   "0.394968",
                   "3.400000"
                  ]
                 },
                 {
                  "Coordinate": [
                   "30.493681",
                   "0.394968",
                   "3.400000"
                  ]
                 },
                 {
                  "Coordinate": [
                   "30.493681",
                   "1.679837",
                   "3.400000"
                  ]
                 },
                 {
                  "Coordinate": [
                   "30.455237",
                   "1.680000",
                   "3.400000"
                  ]
                 }
                ]
               }
              }
             },
             {
              "@isSecondLevelBoundary": "true",
              "@surfaceIdRef": "surface-25",
              "PlanarGeometry": {
               "PolyLoop": {
                "CartesianPoint": [
                 {
                  "Coordinate": [
                   "29.193419",
                   "2.205237",
                   "0.000000"
                  ]
                 },
                 {
                  "Coordinate": [
                   "29.193419",
                   "0.394968",
                   "0.000000"
                  ]
                 },
                 {
                  "Coordinate": [
                   "29.193419",
                   "0.394968",
                   "3.400000"
                  ]
                 },
                 {
                  "Coordinate": [
                   "29.193419",
                   "2.205237",
                   "3.400000"
                  ]
                 }
                ]
               }
              }
             },
             {
              "@isSecondLevelBoundary": "true",
              "@surfaceIdRef": "surface-26",
              "PlanarGeometry": {
               "PolyLoop": {
                "CartesianPoint": [
                 {
                  "Coordinate": [
                   "29.193419",
                   "0.394968",
                   "0.000000"
                  ]
                 },
                 {
                  "Coordinate": [
                   "30.493681",
                   "0.394968",
                   "0.000000"
                  ]
                 },
                 {
                  "Coordinate": [
                   "30.493681",
                   "0.394968",
                   "3.400000"
                  ]
                 },
                 {
                  "Coordinate": [
                   "29.193419",
                   "0.394968",
                   "3.400000"
                  ]
                 }
                ]
               }
              }
             },
             {
              "@isSecondLevelBoundary": "true",
              "@surfaceIdRef": "surface-27",
              "PlanarGeometry": {
               "PolyLoop": {
                "CartesianPoint": [
                 {
                  "Coordinate": [
                   "30.493681",
                   "2.205237",
                   "3.400000"
                  ]
                 },
                 {
                  "Coordinate": [
                   "30.493681",
                   "0.394968",
                   "3.400000"
                  ]
                 },
                 {
                  "Coordinate": [
                   "30.493681",
                   "0.394968",
                   "0.000000"
                  ]
                 },
                 {
                  "Coordinate": [
                   "30.493681",
                   "2.205237",
                   "0.000000"
                  ]
                 }
                ]
               }
              }
             },
             {
              "@isSecondLevelBoundary": "true",
              "@surfaceIdRef": "surface-28",
              "PlanarGeometry": {
               "PolyLoop": {
                "CartesianPoint": [
                 {
                  "Coordinate": [
                   "29.193419",
                   "2.205237",
                   "3.400000"
                  ]
                 },
                 {
                  "Coordinate": [
                   "30.493681",
                   "2.205237",
                   "3.400000"
                  ]
                 },
                 {
                  "Coordinate": [
                   "30.493681",
                   "2.205237",
                   "0.000000"
                  ]
                 },
                 {
                  "Coordinate": [
                   "29.193419",
                   "2.205237",
                   "0.000000"
                  ]
                 }
                ]
               }
              }
             }
            ],
            "TypeCode": "0",
            "Volume": "8.003002"
           },
           {
            "@buildingStoreyIdRef": "STOREY_1",
            "@conditionType": "HeatedAndCooled",
            "@id": "RM000002",
            "@zoneIdRef": "ZONE_1",
            "Area": "13.691116",
            "CADObjectId": "RM000002",
            "Name": "A_01_05_R7_Corridor",
            "ShellGeometry": {
             "@id": "RM000002-shellgeometry",
             "ClosedShell": {
              "PolyLoop": [
               {
                "CartesianPoint": [
                 {
                  "Coordinate": [
                   "21.956680",
                   "0.382000",
                   "3.400000"
                  ]
                 },
                 {
                  "Coordinate": [
                   "11.203681",
                   "0.382000",
                   "3.400000"
                  ]
                 },
                 {
                  "Coordinate": [
                   "11.203681",
                   "1.655237",
                   "3.400000"
                  ]
                 },
                 {
                  "Coordinate": [
                   "21.956680",
                   "1.655237",
                   "3.400000"
                  ]
                 }
                ]
               },
               {
                "CartesianPoint": [
                 {
                  "Coordinate": [
                   "21.956680",
                   "1.655237",
                   "6.800000"
                  ]
                 },
                 {
                  "Coordinate": [
                   "11.203681",
                   "1.655237",
                   "6.800000"
                  ]
                 },
                 {
                  "Coordinate": [
                   "11.203681",
                   "0.382000",
                   "6.800000"
                  ]
                 },
                 {
                  "Coordinate": [
                   "21.956680",
                   "0.382000",
                   "6.800000"
                  ]
                 }
                ]
               },
               {
                "CartesianPoint": [
                 {
                  "Coordinate": [
                   "21.956680",
                   "0.382000",
                   "3.400000"
                  ]
                 },
                 {
                  "Coordinate": [
                   "21.956680",
                   "1.655237",
                   "3.400000"
                  ]
                 },
                 {
                  "Coordinate": [
                   "21.956680",
                   "1.655237",
                   "6.800000"
                  ]
                 },
                 {
                  "Coordinate": [
                   "21.956680",
                   "0.382000",
                   "6.800000"
                  ]
                 }
                ]
               },
               {
                "CartesianPoint": [
                 {
                  "Coordinate": [
                   "11.203681",
                   "0.382000",
                   "3.400000"
                  ]
                 },
                 {
                  "Coordinate": [
                   "21.956680",
                   "0.382000",
                   "3.400000"
                  ]
                 },
                 {
                  "Coordinate": [
                   "21.956680",
                   "0.382000",
                   "6.800000"
                  ]
                 },
                 {
                  "Coordinate": [
                   "11.203681",
                   "0.382000",
                   "6.800000"
                  ]
                 }
                ]
               },
               {
                "CartesianPoint": [
                 {
                  "Coordinate": [
                   "11.203681",
                   "1.655237",
                   "3.400000"
                  ]
                 },
                 {
                  "Coordinate": [
                   "11.203681",
                   "0.382000",
                   "3.400000"
                  ]
                 },
                 {
                  "Coordinate": [
                   "11.203681",
                   "0.382000",
                   "6.800000"
                  ]
                 },
                 {
                  "Coordinate": [
                   "11.203681",
                   "1.655237",
                   "6.800000"
                  ]
                 }
                ]
               },
               {
                "CartesianPoint": [
                 {
                  "Coordinate": [
                   "11.203681",
                   "1.655237",
                   "6.800000"
                  ]
                 },
                 {
                  "Coordinate": [
                   "21.956680",
                   "1.655237",
                   "6.800000"
                  ]
                 },
                 {
                  "Coordinate": [
                   "21.956680",
                   "1.655237",
                   "3.400000"
                  ]
                 },
                 {
                  "Coordinate": [
                   "11.203681",
                   "1.655237",
                   "3.400000"
                  ]
                 }
                ]
               }
              ]
             }
            },
            "SpaceBoundary": [
             {
              "@isSecondLevelBoundary": "true",
              "@surfaceIdRef": "surface-29",
              "PlanarGeometry": {
               "PolyLoop": {
                "CartesianPoint": [
                 {
                  "Coordinate": [
                   "21.956680",
                   "0.382000",
                   "3.400000"
                  ]
                 },
                 {
                  "Coordinate": [
                   "11.203681",
                   "0.382000",
                   "3.400000"
                  ]
                 },
                 {
                  "Coordinate": [
                   "11.203681",
                   "1.655237",
                   "3.400000"
                  ]
                 },
                 {
                  "Coordinate": [
                   "21.956680",
                   "1.655237",
                   "3.400000"
                  ]
                 }
                ]
               }
              }
             },
             {
              "@isSecondLevelBoundary": "true",
              "@surfaceIdRef": "surface-30",
              "PlanarGeometry": {
               "PolyLoop": {
                "CartesianPoint": [
                 {
                  "Coordinate": [
                   "21.956680",
                   "1.655237",
                   "6.800000"
                  ]
                 },
                 {
                  "Coordinate": [
                   "11.203681",
                   "1.655237",
                   "6.800000"
                  ]
                 },
                 {
                  "Coordinate": [
                   "11.203681",
                   "0.382000",
                   "6.800000"
                  ]
                 },
                 {
                  "Coordinate": [
                   "21.956680",
                   "0.382000",
                   "6.800000"
                  ]
                 }
                ]
               }
              }
             },
             {
              "@isSecondLevelBoundary": "true",
              "@surfaceIdRef": "surface-31",
              "PlanarGeometry": {
               "PolyLoop": {
                "CartesianPoint": [
                 {
                  "Coordinate": [
                   "21.956680",
                   "0.382000",
                   "3.400000"
                  ]
                 },
                 {
                  "Coordinate": [
                   "21.956680",
                   "1.655237",
                   "3.400000"
                  ]
                 },
                 {
                  "Coordinate": [
                   "21.956680",
                   "1.655237",
                   "6.800000"
                  ]
                 },
                 {
                  "Coordinate": [
                   "21.956680",
                   "0.382000",
                   "6.800000"
                  ]
                 }
                ]
               }
              }
             },
             {
              "@isSecondLevelBoundary": "true",
              "@surfaceIdRef": "surface-32",
              "PlanarGeometry": {
               "PolyLoop": {
                "CartesianPoint": [
                 {
                  "Coordinate": [
                   "11.203681",
                   "0.382000",
                   "3.400000"
                  ]
                 },
                 {
                  "Coordinate": [
                   "21.956680",
                   "0.382000",
                   "3.400000"
                  ]
                 },
                 {
                  "Coordinate": [
                   "21.956680",
                   "0.382000",
                   "6.800000"
                  ]
                 },
                 {
                  "Coordinate": [
                   "11.203681",
                   "0.382000",
                   "6.800000"
                  ]
                 }
                ]
               }
              }
             },
             {
              "@isSecondLevelBoundary": "true",
              "@surfaceIdRef": "surface-33",
              "PlanarGeometry": {
               "PolyLoop": {
                "CartesianPoint": [
                 {
                  "Coordinate": [
                   "11.203681",
                   "1.655237",
                   "3.400000"
                  ]
                 },
                 {
                  "Coordinate": [
                   "11.203681",
                   "0.382000",
                   "3.400000"
                  ]
                 },
                 {
                  "Coordinate": [
                   "11.203681",
                   "0.382000",
                   "6.800000"
                  ]
                 },
                 {
                  "Coordinate": [
                   "11.203681",
                   "1.655237",
                   "6.800000"
                  ]
                 }
                ]
               }
              }
             },
             {
              "@isSecondLevelBoundary": "true",
              "@surfaceIdRef": "surface-34",
              "PlanarGeometry": {
               "PolyLoop": {
                "CartesianPoint": [
                 {
                  "Coordinate": [
                   "14.803681",
                   "1.655237",
                   "3.400000"
                  ]
                 },
                 {
                  "Coordinate": [
                   "11.203681",
                   "1.655237",
                   "3.400000"
                  ]
                 },
                 {
                  "Coordinate": [
                   "11.203681",
                   "1.655237",
                   "6.800000"
                  ]
                 },
                 {
                  "Coordinate": [
                   "14.803681",
                   "1.655237",
                   "6.800000"
                  ]
                 }
                ]
               }
              }
             },
             {
              "@isSecondLevelBoundary": "true",
              "@surfaceIdRef": "surface-35",
              "PlanarGeometry": {
               "PolyLoop": {
                "CartesianPoint": [
                 {
                  "Coordinate": [
                   "18.403681",
                   "1.655237",
                   "3.400000"
                  ]
                 },
                 {
                  "Coordinate": [
                   "14.803681",
                   "1.655237",
                   "3.400000"
                  ]
                 },
                 {
                  "Coordinate": [
                   "14.803681",
                   "1.655237",
                   "6.800000"
                  ]
                 },
                 {
                  "Coordinate": [
                   "18.403681",
                   "1.655237",
                   "6.800000"
                  ]
                 }
                ]
               }
              }
             },
             {
              "@isSecondLevelBoundary": "true",
              "@surfaceIdRef": "surface-36",
              "PlanarGeometry": {
               "PolyLoop": {
                "CartesianPoint": [
                 {
                  "Coordinate": [
                   "21.956680",
                   "1.655237",
                   "3.400000"
                  ]
                 },
                 {
                  "Coordinate": [
                   "18.403681",
                   "1.655237",
                   "3.400000"
                  ]
                 },
                 {
                  "Coordinate": [
                   "18.403681",
                   "1.655237",
                   "6.800000"
                  ]
                 },
                 {
                  "Coordinate": [
                   "21.956680",
                   "1.655237",
                   "6.800000"
                  ]
                 }
                ]
               }
              }
             }
            ],
            "TypeCode": "0",
            "Volume": "46.549795"
           },
           {
            "@buildingStoreyIdRef": "STOREY_1",
            "@conditionType": "HeatedAndCooled",
            "@id": "RM000003",
            "@zoneIdRef": "ZONE_1",
            "Area": "23.413140",
            "CADObjectId": "RM000003",
            "Name": "A_01_03_R10_Workroom3",
            "ShellGeometry": {
             "@id": "RM000003-shellgeometry",
             "ClosedShell": {
              "PolyLoop": [
               {
                "CartesianPoint": [
                 {
                  "Coordinate": [
                   "14.803681",
                   "1.655237",
                   "3.400000"
                  ]
                 },
                 {
                  "Coordinate": [
                   "11.203681",
                   "1.655237",
                   "3.400000"
                  ]
                 },
                 {
                  "Coordinate": [
                   "11.203681",
                   "8.158887",
                   "3.400000"
                  ]
                 },
                 {
                  "Coordinate": [
                   "14.803681",
                   "8.158887",
                   "3.400000"
                  ]
                 }
                ]
               },
               {
                "CartesianPoint": [
                 {
                  "Coordinate": [
                   "14.803681",
                   "8.158887",
                   "6.800000"
                  ]
                 },
                 {
                  "Coordinate": [
                   "11.203681",
                   "8.158887",
                   "6.800000"
                  ]
                 },
                 {
                  "Coordinate": [
                   "11.203681",
                   "1.655237",
                   "6.800000"
                  ]
                 },
                 {
                  "Coordinate": [
                   "14.803681",
                   "1.655237",
                   "6.800000"
                  ]
                 }
                ]
               },
               {
                "CartesianPoint": [
                 {
                  "Coordinate": [
                   "14.803681",
                   "8.158887",
                   "3.400000"
                  ]
                 },
                 {
                  "Coordinate": [
                   "11.203681",
                   "8.158887",
                   "3.400000"
                  ]
                 },
                 {
                  "Coordinate": [
                   "11.203681",
                   "8.158887",
                   "6.800000"
                  ]
                 },
                 {
                  "Coordinate": [
                   "14.803681",
                   "8.158887",
                   "6.800000"
                  ]
                 }
                ]
               },
               {
                "CartesianPoint": [
                 {
                  "Coordinate": [
                   "11.203681",
                   "8.158887",
                   "3.400000"
                  ]
                 },
                 {
                  "Coordinate": [
                   "11.203681",
                   "1.655237",
                   "3.400000"
                  ]
                 },
                 {
                  "Coordinate": [
                   "11.203681",
                   "1.655237",
                   "6.800000"
                  ]
                 },
                 {
                  "Coordinate": [
                   "11.203681",
                   "8.158887",
                   "6.800000"
                  ]
                 }
                ]
               },
               {
                "CartesianPoint": [
                 {
                  "Coordinate": [
                   "11.203681",
                   "1.655237",
                   "3.400000"
                  ]
                 },
                 {
                  "Coordinate": [
                   "14.803681",
                   "1.655237",
                   "3.400000"
                  ]
                 },
                 {
                  "Coordinate": [
                   "14.803681",
                   "1.655237",
                   "6.800000"
                  ]
                 },
                 {
                  "Coordinate": [
                   "11.203681",
                   "1.655237",
                   "6.800000"
                  ]
                 }
                ]
               },
               {
                "CartesianPoint": [
                 {
                  "Coordinate": [
                   "14.803681",
                   "8.158887",
                   "6.800000"
                  ]
                 },
                 {
                  "Coordinate": [
                   "14.803681",
                   "1.655237",
                   "6.800000"
                  ]
                 },
                 {
                  "Coordinate": [
                   "14.803681",
                   "1.655237",
                   "3.400000"
                  ]
                 },
                 {
                  "Coordinate": [
                   "14.803681",
                   "8.158887",
                   "3.400000"
                  ]
                 }
                ]
               }
              ]
             }
            },
            "SpaceBoundary": [
             {
              "@isSecondLevelBoundary": "true",
              "@surfaceIdRef": "surface-34",
              "PlanarGeometry": {
               "PolyLoop": {
                "CartesianPoint": [
                 {
                  "Coordinate": [
                   "14.803681",
                   "1.655237",
                   "6.800000"
                  ]
                 },
                 {
                  "Coordinate": [
                   "11.203681",
                   "1.655237",
                   "6.800000"
                  ]
                 },
                 {
                  "Coordinate": [
                   "11.203681",
                   "1.655237",
                   "3.400000"
                  ]
                 },
                 {
                  "Coordinate": [
                   "14.803681",
                   "1.655237",
                   "3.400000"
                  ]
                 }
                ]
               }
              }
             },
             {
              "@isSecondLevelBoundary": "true",
              "@surfaceIdRef": "surface-37",
              "PlanarGeometry": {
               "PolyLoop": {
                "CartesianPoint": [
                 {
                  "Coordinate": [
                   "14.803681",
                   "1.655237",
                   "3.400000"
                  ]
                 },
                 {
                  "Coordinate": [
                   "11.203681",
                   "1.655237",
                   "3.400000"
                  ]
                 },
                 {
                  "Coordinate": [
                   "11.203681",
                   "8.158887",
                   "3.400000"
                  ]
                 },
                 {
                  "Coordinate": [
                   "14.803681",
                   "8.158887",
                   "3.400000"
                  ]
                 }
                ]
               }
              }
             },
             {
              "@isSecondLevelBoundary": "true",
              "@surfaceIdRef": "surface-38",
              "PlanarGeometry": {
               "PolyLoop": {
                "CartesianPoint": [
                 {
                  "Coordinate": [
                   "14.803681",
                   "8.158887",
                   "6.800000"
                  ]
                 },
                 {
                  "Coordinate": [
                   "11.203681",
                   "8.158887",
                   "6.800000"
                  ]
                 },
                 {
                  "Coordinate": [
                   "11.203681",
                   "1.655237",
                   "6.800000"
                  ]
                 },
                 {
                  "Coordinate": [
                   "14.803681",
                   "1.655237",
                   "6.800000"
                  ]
                 }
                ]
               }
              }
             },
             {
              "@isSecondLevelBoundary": "true",
              "@surfaceIdRef": "surface-39",
              "PlanarGeometry": {
               "PolyLoop": {
                "CartesianPoint": [
                 {
                  "Coordinate": [
                   "14.803681",
                   "8.158887",
                   "3.400000"
                  ]
                 },
                 {
                  "Coordinate": [
                   "11.203681",
                   "8.158887",
                   "3.400000"
                  ]
                 },
                 {
                  "Coordinate": [
                   "11.203681",
                   "8.158887",
                   "6.800000"
                  ]
                 },
                 {
                  "Coordinate": [
                   "14.803681",
                   "8.158887",
                   "6.800000"
                  ]
                 }
                ]
               }
              }
             },
             {
              "@isSecondLevelBoundary": "true",
              "@surfaceIdRef": "surface-40",
              "PlanarGeometry": {
               "PolyLoop": {
                "CartesianPoint": [
                 {
                  "Coordinate": [
                   "11.203681",
                   "1.655237",
                   "6.800000"
                  ]
                 },
                 {
                  "Coordinate": [
                   "11.203681",
                   "8.158887",
                   "6.800000"
                  ]
                 },
                 {
                  "Coordinate": [
                   "11.203681",
                   "8.158887",
                   "3.400000"
                  ]
                 },
                 {
                  "Coordinate": [
                   "11.203681",
                   "1.655237",
                   "3.400000"
                  ]
                 }
                ]
               }
              }
             },
             {
              "@isSecondLevelBoundary": "true",
              "@surfaceIdRef": "surface-41",
              "PlanarGeometry": {
               "PolyLoop": {
                "CartesianPoint": [
                 {
                  "Coordinate": [
                   "14.803681",
                   "8.158887",
                   "6.800000"
                  ]
                 },
                 {
                  "Coordinate": [
                   "14.803681",
                   "1.655237",
                   "6.800000"
                  ]
                 },
                 {
                  "Coordinate": [
                   "14.803681",
                   "1.655237",
                   "3.400000"
                  ]
                 },
                 {
                  "Coordinate": [
                   "14.803681",
                   "8.158887",
                   "3.400000"
                  ]
                 }
                ]
               }
              }
             }
            ],
            "TypeCode": "0",
            "Volume": "79.604676"
           },
           {
            "@buildingStoreyIdRef": "STOREY_1",
            "@conditionType": "HeatedAndCooled",
            "@id": "RM000004",
            "@zoneIdRef": "ZONE_1",
            "Area": "23.413140",
            "CADObjectId": "RM000004",
            "Name": "A_01_02_R9_Workroom2",
            "ShellGeometry": {
             "@id": "RM000004-shellgeometry",
             "ClosedShell": {
              "PolyLoop": [
               {
                "CartesianPoint": [
                 {
                  "Coordinate": [
                   "18.403681",
                   "1.655237",
                   "3.400000"
                  ]
                 },
                 {
                  "Coordinate": [
                   "14.803681",
                   "1.655237",
                   "3.400000"
                  ]
                 },
                 {
                  "Coordinate": [
                   "14.803681",
                   "8.158887",
                   "3.400000"
                  ]
                 },
                 {
                  "Coordinate": [
                   "18.403681",
                   "8.158887",
                   "3.400000"
                  ]
                 }
                ]
               },
               {
                "CartesianPoint": [
                 {
                  "Coordinate": [
                   "18.403681",
                   "8.158887",
                   "6.800000"
                  ]
                 },
                 {
                  "Coordinate": [
                   "14.803681",
                   "8.158887",
                   "6.800000"
                  ]
                 },
                 {
                  "Coordinate": [
                   "14.803681",
                   "1.655237",
                   "6.800000"
                  ]
                 },
                 {
                  "Coordinate": [
                   "18.403681",
                   "1.655237",
                   "6.800000"
                  ]
                 }
                ]
               },
               {
                "CartesianPoint": [
                 {
                  "Coordinate": [
                   "18.403681",
                   "8.158887",
                   "3.400000"
                  ]
                 },
                 {
                  "Coordinate": [
                   "14.803681",
                   "8.158887",
                   "3.400000"
                  ]
                 },
                 {
                  "Coordinate": [
                   "14.803681",
                   "8.158887",
                   "6.800000"
                  ]
                 },
                 {
                  "Coordinate": [
                   "18.403681",
                   "8.158887",
                   "6.800000"
                  ]
                 }
                ]
               },
               {
                "CartesianPoint": [
                 {
                  "Coordinate": [
                   "14.803681",
                   "1.655237",
                   "3.400000"
                  ]
                 },
                 {
                  "Coordinate": [
                   "18.403681",
                   "1.655237",
                   "3.400000"
                  ]
                 },
                 {
                  "Coordinate": [
                   "18.403681",
                   "1.655237",
                   "6.800000"
                  ]
                 },
                 {
                  "Coordinate": [
                   "14.803681",
                   "1.655237",
                   "6.800000"
                  ]
                 }
                ]
               },
               {
                "CartesianPoint": [
                 {
                  "Coordinate": [
                   "14.803681",
                   "8.158887",
                   "3.400000"
                  ]
                 },
                 {
                  "Coordinate": [
                   "14.803681",
                   "1.655237",
                   "3.400000"
                  ]
                 },
                 {
                  "Coordinate": [
                   "14.803681",
                   "1.655237",
                   "6.800000"
                  ]
                 },
                 {
                  "Coordinate": [
                   "14.803681",
                   "8.158887",
                   "6.800000"
                  ]
                 }
                ]
               },
               {
                "CartesianPoint": [
                 {
                  "Coordinate": [
                   "18.403681",
                   "8.158887",
                   "6.800000"
                  ]
                 },
                 {
                  "Coordinate": [
                   "18.403681",
                   "1.655237",
                   "6.800000"
                  ]
                 },
                 {
                  "Coordinate": [
                   "18.403681",
                   "1.655237",
                   "3.400000"
                  ]
                 },
                 {
                  "Coordinate": [
                   "18.403681",
                   "8.158887",
                   "3.400000"
                  ]
                 }
                ]
               }
              ]
             }
            },
            "SpaceBoundary": [
             {
              "@isSecondLevelBoundary": "true",
              "@surfaceIdRef": "surface-35",
              "PlanarGeometry": {
               "PolyLoop": {
                "CartesianPoint": [
                 {
                  "Coordinate": [
                   "18.403681",
                   "1.655237",
                   "6.800000"
                  ]
                 },
                 {
                  "Coordinate": [
                   "14.803681",
                   "1.655237",
                   "6.800000"
                  ]
                 },
                 {
                  "Coordinate": [
                   "14.803681",
                   "1.655237",
                   "3.400000"
                  ]
                 },
                 {
                  "Coordinate": [
                   "18.403681",
                   "1.655237",
                   "3.400000"
                  ]
                 }
                ]
               }
              }
             },
             {
              "@isSecondLevelBoundary": "true",
              "@surfaceIdRef": "surface-41",
              "PlanarGeometry": {
               "PolyLoop": {
                "CartesianPoint": [
                 {
                  "Coordinate": [
                   "14.803681",
                   "8.158887",
                   "3.400000"
                  ]
                 },
                 {
                  "Coordinate": [
                   "14.803681",
                   "1.655237",
                   "3.400000"
                  ]
                 },
                 {
                  "Coordinate": [
                   "14.803681",
                   "1.655237",
                   "6.800000"
                  ]
                 },
                 {
                  "Coordinate": [
                   "14.803681",
                   "8.158887",
                   "6.800000"
                  ]
                 }
                ]
               }
              }
             },
             {
              "@isSecondLevelBoundary": "true",
              "@surfaceIdRef": "surface-42",
              "PlanarGeometry": {
               "PolyLoop": {
                "CartesianPoint": [
                 {
                  "Coordinate": [
                   "18.403681",
                   "1.655237",
                   "3.400000"
                  ]
                 },
                 {
                  "Coordinate": [
                   "14.803681",
                   "1.655237",
                   "3.400000"
                  ]
                 },
                 {
                  "Coordinate": [
                   "14.803681",
                   "8.158887",
                   "3.400000"
                  ]
                 },
                 {
                  "Coordinate": [
                   "18.403681",
                   "8.158887",
                   "3.400000"
                  ]
                 },
                 {
                  "Coordinate": [
                   "18.403681",
                   "6.919988",
                   "3.400000"
                  ]
                 },
                 {
                  "Coordinate": [
                   "18.373681",
                   "6.919988",
                   "3.400000"
                  ]
                 },
                 {
                  "Coordinate": [
                   "18.373681",
                   "1.659988",
                   "3.400000"
                  ]
                 },
                 {
                  "Coordinate": [
                   "18.403681",
                   "1.659769",
                   "3.400000"
                  ]
                 }
                ]
               }
              }
             },
             {
              "@isSecondLevelBoundary": "true",
              "@surfaceIdRef": "surface-43",
              "PlanarGeometry": {
               "PolyLoop": {
                "CartesianPoint": [
                 {
                  "Coordinate": [
                   "18.403681",
                   "1.659769",
                   "3.400000"
                  ]
                 },
                 {
                  "Coordinate": [
                   "18.373681",
                   "1.659988",
                   "3.400000"
                  ]
                 },
                 {
                  "Coordinate": [
                   "18.373681",
                   "6.919988",
                   "3.400000"
                  ]
                 },
                 {
                  "Coordinate": [
                   "18.403681",
                   "6.919988",
                   "3.400000"
                  ]
                 }
                ]
               }
              }
             },
             {
              "@isSecondLevelBoundary": "true",
              "@surfaceIdRef": "surface-44",
              "PlanarGeometry": {
               "PolyLoop": {
                "CartesianPoint": [
                 {
                  "Coordinate": [
                   "18.403681",
                   "8.158887",
                   "6.800000"
                  ]
                 },
                 {
                  "Coordinate": [
                   "14.803681",
                   "8.158887",
                   "6.800000"
                  ]
                 },
                 {
                  "Coordinate": [
                   "14.803681",
                   "1.655237",
                   "6.800000"
                  ]
                 },
                 {
                  "Coordinate": [
                   "18.403681",
                   "1.655237",
                   "6.800000"
                  ]
                 }
                ]
               }
              }
             },
             {
              "@isSecondLevelBoundary": "true",
              "@surfaceIdRef": "surface-45",
              "PlanarGeometry": {
               "PolyLoop": {
                "CartesianPoint": [
                 {
                  "Coordinate": [
                   "18.403681",
                   "8.158887",
                   "3.400000"
                  ]
                 },
                 {
                  "Coordinate": [
                   "14.803681",
                   "8.158887",
                   "3.400000"
                  ]
                 },
                 {
                  "Coordinate": [
                   "14.803681",
                   "8.158887",
                   "6.800000"
                  ]
                 },
                 {
                  "Coordinate": [
                   "18.403681",
                   "8.158887",
                   "6.800000"
                  ]
                 }
                ]
               }
              }
             },
             {
              "@isSecondLevelBoundary": "true",
              "@surfaceIdRef": "surface-46",
              "PlanarGeometry": {
               "PolyLoop": {
                "CartesianPoint": [
                 {
                  "Coordinate": [
                   "18.403681",
                   "8.158887",
                   "6.800000"
                  ]
                 },
                 {
                  "Coordinate": [
                   "18.403681",
                   "1.655237",
                   "6.800000"
                  ]
                 },
                 {
                  "Coordinate": [
                   "18.403681",
                   "1.655237",
                   "3.400000"
                  ]
                 },
                 {
                  "Coordinate": [
                   "18.403681",
                   "8.158887",
                   "3.400000"
                  ]
                 }
                ]
               }
              }
             }
            ],
            "TypeCode": "0",
            "Volume": "79.604676"
           },
           {
            "@buildingStoreyIdRef": "STOREY_1",
            "@conditionType": "HeatedAndCooled",
            "@id": "TR000002",
            "@zoneIdRef": "ZONE_2",
            "Area": "10.766713",
            "CADObjectId": "TR000002",
            "Name": "B_00_03_R6_WCLobby",
            "ShellGeometry": {
             "@id": "TR000002-shellgeometry",
             "ClosedShell": {
              "PolyLoop": [
               {
                "CartesianPoint": [
                 {
                  "Coordinate": [
                   "36.968681",
                   "2.635237",
                   "0.000000"
                  ]
                 },
                 {
                  "Coordinate": [
                   "36.968681",
                   "3.969988",
                   "0.000000"
                  ]
                 },
                 {
                  "Coordinate": [
                   "36.968681",
                   "3.969988",
                   "3.400000"
                  ]
                 },
                 {
                  "Coordinate": [
                   "36.968681",
                   "2.635237",
                   "3.400000"
                  ]
                 }
                ]
               },
               {
                "CartesianPoint": [
                 {
                  "Coordinate": [
                   "30.493681",
                   "3.969988",
                   "0.000000"
                  ]
                 },
                 {
                  "Coordinate": [
                   "30.493681",
                   "2.205237",
                   "0.000000"
                  ]
                 },
                 {
                  "Coordinate": [
                   "30.493681",
                   "2.205237",
                   "3.400000"
                  ]
                 },
                 {
                  "Coordinate": [
                   "30.493681",
                   "3.969988",
                   "3.400000"
                  ]
                 }
                ]
               },
               {
                "CartesianPoint": [
                 {
                  "Coordinate": [
                   "36.968681",
                   "3.969988",
                   "0.000000"
                  ]
                 },
                 {
                  "Coordinate": [
                   "30.493681",
                   "3.969988",
                   "0.000000"
                  ]
                 },
                 {
                  "Coordinate": [
                   "30.493681",
                   "3.969988",
                   "3.400000"
                  ]
                 },
                 {
                  "Coordinate": [
                   "36.968681",
                   "3.969988",
                   "3.400000"
                  ]
                 }
                ]
               },
               {
                "CartesianPoint": [
                 {
                  "Coordinate": [
                   "36.968681",
                   "2.635237",
                   "0.000000"
                  ]
                 },
                 {
                  "Coordinate": [
                   "35.433681",
                   "2.635237",
                   "0.000000"
                  ]
                 },
                 {
                  "Coordinate": [
                   "35.433681",
                   "2.205237",
                   "0.000000"
                  ]
                 },
                 {
                  "Coordinate": [
                   "30.493681",
                   "2.205237",
                   "0.000000"
                  ]
                 },
                 {
                  "Coordinate": [
                   "30.493681",
                   "3.969988",
                   "0.000000"
                  ]
                 },
                 {
                  "Coordinate": [
                   "36.968681",
                   "3.969988",
                   "0.000000"
                  ]
                 }
                ]
               },
               {
                "CartesianPoint": [
                 {
                  "Coordinate": [
                   "36.968681",
                   "3.969988",
                   "3.400000"
                  ]
                 },
                 {
                  "Coordinate": [
                   "30.493681",
                   "3.969988",
                   "3.400000"
                  ]
                 },
                 {
                  "Coordinate": [
                   "30.493681",
                   "2.205237",
                   "3.400000"
                  ]
                 },
                 {
                  "Coordinate": [
                   "35.433681",
                   "2.205237",
                   "3.400000"
                  ]
                 },
                 {
                  "Coordinate": [
                   "35.433681",
                   "2.635237",
                   "3.400000"
                  ]
                 },
                 {
                  "Coordinate": [
                   "36.968681",
                   "2.635237",
                   "3.400000"
                  ]
                 }
                ]
               },
               {
                "CartesianPoint": [
                 {
                  "Coordinate": [
                   "30.493681",
                   "2.205237",
                   "0.000000"
                  ]
                 },
                 {
                  "Coordinate": [
                   "35.433681",
                   "2.205237",
                   "0.000000"
                  ]
                 },
                 {
                  "Coordinate": [
                   "35.433681",
                   "2.205237",
                   "3.400000"
                  ]
                 },
                 {
                  "Coordinate": [
                   "30.493681",
                   "2.205237",
                   "3.400000"
                  ]
                 }
                ]
               },
               {
                "CartesianPoint": [
                 {
                  "Coordinate": [
                   "35.433681",
                   "2.635237",
                   "0.000000"
                  ]
                 },
                 {
                  "Coordinate": [
                   "36.968681",
                   "2.635237",
                   "0.000000"
                  ]
                 },
                 {
                  "Coordinate": [
                   "36.968681",
                   "2.635237",
                   "3.400000"
                  ]
                 },
                 {
                  "Coordinate": [
                   "35.433681",
                   "2.635237",
                   "3.400000"
                  ]
                 }
                ]
               },
               {
                "CartesianPoint": [
                 {
                  "Coordinate": [
                   "35.433681",
                   "2.205237",
                   "0.000000"
                  ]
                 },
                 {
                  "Coordinate": [
                   "35.433681",
                   "2.635237",
                   "0.000000"
                  ]
                 },
                 {
                  "Coordinate": [
                   "35.433681",
                   "2.635237",
                   "3.400000"
                  ]
                 },
                 {
                  "Coordinate": [
                   "35.433681",
                   "2.205237",
                   "3.400000"
                  ]
                 }
                ]
               }
              ]
             }
            },
            "SpaceBoundary": [
             {
              "@isSecondLevelBoundary": "true",
              "@surfaceIdRef": "surface-14",
              "PlanarGeometry": {
               "PolyLoop": {
                "CartesianPoint": [
                 {
                  "Coordinate": [
                   "36.968681",
                   "3.969988",
                   "-0.000000"
                  ]
                 },
                 {
                  "Coordinate": [
                   "30.493681",
                   "3.969988",
                   "-0.000000"
                  ]
                 },
                 {
                  "Coordinate": [
                   "30.493681",
                   "3.969988",
                   "3.400000"
                  ]
                 },
                 {
                  "Coordinate": [
                   "36.968681",
                   "3.969988",
                   "3.400000"
                  ]
                 }
                ]
               }
              }
             },
             {
              "@isSecondLevelBoundary": "true",
              "@surfaceIdRef": "surface-47",
              "PlanarGeometry": {
               "PolyLoop": {
                "CartesianPoint": [
                 {
                  "Coordinate": [
                   "36.968681",
                   "2.635237",
                   "0.000000"
                  ]
                 },
                 {
                  "Coordinate": [
                   "36.968681",
                   "3.969988",
                   "0.000000"
                  ]
                 },
                 {
                  "Coordinate": [
                   "36.968681",
                   "3.969988",
                   "3.400000"
                  ]
                 },
                 {
                  "Coordinate": [
                   "36.968681",
                   "2.635237",
                   "3.400000"
                  ]
                 }
                ]
               }
              }
             },
             {
              "@isSecondLevelBoundary": "true",
              "@surfaceIdRef": "surface-48",
              "PlanarGeometry": {
               "PolyLoop": {
                "CartesianPoint": [
                 {
                  "Coordinate": [
                   "30.493681",
                   "3.969988",
                   "0.000000"
                  ]
                 },
                 {
                  "Coordinate": [
                   "30.493681",
                   "2.205237",
                   "0.000000"
                  ]
                 },
                 {
                  "Coordinate": [
                   "30.493681",
                   "2.205237",
                   "3.400000"
                  ]
                 },
                 {
                  "Coordinate": [
                   "30.493681",
                   "3.969988",
                   "3.400000"
                  ]
                 }
                ]
               }
              }
             },
             {
              "@isSecondLevelBoundary": "true",
              "@surfaceIdRef": "surface-49",
              "PlanarGeometry": {
               "PolyLoop": {
                "CartesianPoint": [
                 {
                  "Coordinate": [
                   "36.968681",
                   "2.635237",
                   "0.000000"
                  ]
                 },
                 {
                  "Coordinate": [
                   "35.433681",
                   "2.635237",
                   "0.000000"
                  ]
                 },
                 {
                  "Coordinate": [
                   "35.433681",
                   "2.205237",
                   "0.000000"
                  ]
                 },
                 {
                  "Coordinate": [
                   "30.493681",
                   "2.205237",
                   "0.000000"
                  ]
                 },
                 {
                  "Coordinate": [
                   "30.493681",
                   "3.969988",
                   "0.000000"
                  ]
                 },
                 {
                  "Coordinate": [
                   "36.968681",
                   "3.969988",
                   "0.000000"
                  ]
                 }
                ]
               }
              }
             },
             {
              "@isSecondLevelBoundary": "true",
              "@surfaceIdRef": "surface-50",
              "PlanarGeometry": {
               "PolyLoop": {
                "CartesianPoint": [
                 {
                  "Coordinate": [
                   "33.715237",
                   "3.969988",
                   "3.400000"
                  ]
                 },
                 {
                  "Coordinate": [
                   "30.493681",
                   "3.969988",
                   "3.400000"
                  ]
                 },
                 {
                  "Coordinate": [
                   "30.493681",
                   "2.205237",
                   "3.400000"
                  ]
                 },
                 {
                  "Coordinate": [
                   "33.715237",
                   "2.205237",
                   "3.400000"
                  ]
                 }
                ]
               }
              }
             },
             {
              "@isSecondLevelBoundary": "true",
              "@surfaceIdRef": "surface-51",
              "PlanarGeometry": {
               "PolyLoop": {
                "CartesianPoint": [
                 {
                  "Coordinate": [
                   "36.968681",
                   "3.969988",
                   "3.400000"
                  ]
                 },
                 {
                  "Coordinate": [
                   "33.715237",
                   "3.969988",
                   "3.400000"
                  ]
                 },
                 {
                  "Coordinate": [
                   "33.715237",
                   "3.428000",
                   "3.400000"
                  ]
                 },
                 {
                  "Coordinate": [
                   "36.968681",
                   "3.428000",
                   "3.400000"
                  ]
                 }
                ]
               }
              }
             },
             {
              "@isSecondLevelBoundary": "true",
              "@surfaceIdRef": "surface-52",
              "PlanarGeometry": {
               "PolyLoop": {
                "CartesianPoint": [
                 {
                  "Coordinate": [
                   "36.968681",
                   "3.428000",
                   "3.400000"
                  ]
                 },
                 {
                  "Coordinate": [
                   "33.715237",
                   "3.428000",
                   "3.400000"
                  ]
                 },
                 {
                  "Coordinate": [
                   "33.715237",
                   "2.205237",
                   "3.400000"
                  ]
                 },
                 {
                  "Coordinate": [
                   "35.433681",
                   "2.205237",
                   "3.400000"
                  ]
                 },
                 {
                  "Coordinate": [
                   "35.433681",
                   "2.635237",
                   "3.400000"
                  ]
                 },
                 {
                  "Coordinate": [
                   "36.968681",
                   "2.635237",
                   "3.400000"
                  ]
                 }
                ]
               }
              }
             },
             {
              "@isSecondLevelBoundary": "true",
              "@surfaceIdRef": "surface-53",
              "PlanarGeometry": {
               "PolyLoop": {
                "CartesianPoint": [
                 {
                  "Coordinate": [
                   "31.483681",
                   "2.205237",
                   "3.400000"
                  ]
                 },
                 {
                  "Coordinate": [
                   "30.493681",
                   "2.205237",
                   "3.400000"
                  ]
                 },
                 {
                  "Coordinate": [
                   "30.493681",
                   "2.205237",
                   "-0.000000"
                  ]
                 },
                 {
                  "Coordinate": [
                   "31.483681",
                   "2.205237",
                   "-0.000000"
                  ]
                 }
                ]
               }
              }
             },
             {
              "@isSecondLevelBoundary": "true",
              "@surfaceIdRef": "surface-54",
              "PlanarGeometry": {
               "PolyLoop": {
                "CartesianPoint": [
                 {
                  "Coordinate": [
                   "32.363681",
                   "2.205237",
                   "3.400000"
                  ]
                 },
                 {
                  "Coordinate": [
                   "31.483681",
                   "2.205237",
                   "3.400000"
                  ]
                 },
                 {
                  "Coordinate": [
                   "31.483681",
                   "2.205237",
                   "-0.000000"
                  ]
                 },
                 {
                  "Coordinate": [
                   "32.363681",
                   "2.205237",
                   "-0.000000"
                  ]
                 }
                ]
               }
              }
             },
             {
              "@isSecondLevelBoundary": "true",
              "@surfaceIdRef": "surface-55",
              "PlanarGeometry": {
               "PolyLoop": {
                "CartesianPoint": [
                 {
                  "Coordinate": [
                   "33.243681",
                   "2.205237",
                   "3.400000"
                  ]
                 },
                 {
                  "Coordinate": [
                   "32.363681",
                   "2.205237",
                   "3.400000"
                  ]
                 },
                 {
                  "Coordinate": [
                   "32.363681",
                   "2.205237",
                   "-0.000000"
                  ]
                 },
                 {
                  "Coordinate": [
                   "33.243681",
                   "2.205237",
                   "-0.000000"
                  ]
                 }
                ]
               }
              }
             },
             {
              "@isSecondLevelBoundary": "true",
              "@surfaceIdRef": "surface-56",
              "PlanarGeometry": {
               "PolyLoop": {
                "CartesianPoint": [
                 {
                  "Coordinate": [
                   "35.433681",
                   "2.205237",
                   "3.400000"
                  ]
                 },
                 {
                  "Coordinate": [
                   "34.163681",
                   "2.205237",
                   "3.400000"
                  ]
                 },
                 {
                  "Coordinate": [
                   "34.163681",
                   "2.205237",
                   "-0.000000"
                  ]
                 },
                 {
                  "Coordinate": [
                   "35.433681",
                   "2.205237",
                   "-0.000000"
                  ]
                 }
                ]
               }
              }
             },
             {
              "@isSecondLevelBoundary": "true",
              "@surfaceIdRef": "surface-57",
              "PlanarGeometry": {
               "PolyLoop": {
                "CartesianPoint": [
                 {
                  "Coordinate": [
                   "34.163681",
                   "2.205237",
                   "3.400000"
                  ]
                 },
                 {
                  "Coordinate": [
                   "33.243681",
                   "2.205237",
                   "3.400000"
                  ]
                 },
                 {
                  "Coordinate": [
                   "33.243681",
                   "2.205237",
                   "-0.000000"
                  ]
                 },
                 {
                  "Coordinate": [
                   "34.163681",
                   "2.205237",
                   "-0.000000"
                  ]
                 }
                ]
               }
              }
             },
             {
              "@isSecondLevelBoundary": "true",
              "@surfaceIdRef": "surface-58",
              "PlanarGeometry": {
               "PolyLoop": {
                "CartesianPoint": [
                 {
                  "Coordinate": [
                   "36.968681",
                   "2.635237",
                   "3.400000"
                  ]
                 },
                 {
                  "Coordinate": [
                   "35.433681",
                   "2.635237",
                   "3.400000"
                  ]
                 },
                 {
                  "Coordinate": [
                   "35.433681",
                   "2.635237",
                   "-0.000000"
                  ]
                 },
                 {
                  "Coordinate": [
                   "36.968681",
                   "2.635237",
                   "-0.000000"
                  ]
                 }
                ]
               }
              }
             },
             {
              "@isSecondLevelBoundary": "true",
              "@surfaceIdRef": "surface-59",
              "PlanarGeometry": {
               "PolyLoop": {
                "CartesianPoint": [
                 {
                  "Coordinate": [
                   "35.433681",
                   "2.635237",
                   "3.400000"
                  ]
                 },
                 {
                  "Coordinate": [
                   "35.433681",
                   "2.205237",
                   "3.400000"
                  ]
                 },
                 {
                  "Coordinate": [
                   "35.433681",
                   "2.205237",
                   "0.000000"
                  ]
                 },
                 {
                  "Coordinate": [
                   "35.433681",
                   "2.635237",
                   "0.000000"
                  ]
                 }
                ]
               }
              }
             }
            ],
            "TypeCode": "0",
            "Volume": "36.606823"
           },
           {
            "@buildingStoreyIdRef": "STOREY_1",
            "@conditionType": "HeatedAndCooled",
            "@id": "TR00000C",
            "@zoneIdRef": "ZONE_2",
            "Area": "3.438813",
            "CADObjectId": "TR00000C",
            "Name": "B_00_03_R6_AWC",
            "ShellGeometry": {
             "@id": "TR00000C-shellgeometry",
             "ClosedShell": {
              "PolyLoop": [
               {
                "CartesianPoint": [
                 {
                  "Coordinate": [
                   "35.433681",
                   "0.394968",
                   "0.000000"
                  ]
                 },
                 {
                  "Coordinate": [
                   "36.968681",
                   "0.394968",
                   "-0.000000"
                  ]
                 },
                 {
                  "Coordinate": [
                   "36.968681",
                   "0.394968",
                   "3.400000"
                  ]
                 },
                 {
                  "Coordinate": [
                   "35.433681",
                   "0.394968",
                   "3.400000"
                  ]
                 }
                ]
               },
               {
                "CartesianPoint": [
                 {
                  "Coordinate": [
                   "35.433681",
                   "2.635237",
                   "3.400000"
                  ]
                 },
                 {
                  "Coordinate": [
                   "36.968681",
                   "2.635237",
                   "3.400000"
                  ]
                 },
                 {
                  "Coordinate": [
                   "36.968681",
                   "2.635237",
                   "0.000000"
                  ]
                 },
                 {
                  "Coordinate": [
                   "35.433681",
                   "2.635237",
                   "0.000000"
                  ]
                 }
                ]
               },
               {
                "CartesianPoint": [
                 {
                  "Coordinate": [
                   "36.968681",
                   "0.394968",
                   "-0.000000"
                  ]
                 },
                 {
                  "Coordinate": [
                   "36.968681",
                   "2.635237",
                   "0.000000"
                  ]
                 },
                 {
                  "Coordinate": [
                   "36.968681",
                   "2.635237",
                   "3.400000"
                  ]
                 },
                 {
                  "Coordinate": [
                   "36.968681",
                   "0.394968",
                   "3.400000"
                  ]
                 }
                ]
               },
               {
                "CartesianPoint": [
                 {
                  "Coordinate": [
                   "36.968681",
                   "0.394968",
                   "-0.000000"
                  ]
                 },
                 {
                  "Coordinate": [
                   "35.433681",
                   "0.394968",
                   "0.000000"
                  ]
                 },
                 {
                  "Coordinate": [
                   "35.433681",
                   "2.635237",
                   "0.000000"
                  ]
                 },
                 {
                  "Coordinate": [
                   "36.968681",
                   "2.635237",
                   "0.000000"
                  ]
                 }
                ]
               },
               {
                "CartesianPoint": [
                 {
                  "Coordinate": [
                   "35.433681",
                   "0.394968",
                   "3.400000"
                  ]
                 },
                 {
                  "Coordinate": [
                   "36.968681",
                   "0.394968",
                   "3.400000"
                  ]
                 },
                 {
                  "Coordinate": [
                   "36.968681",
                   "2.635237",
                   "3.400000"
                  ]
                 },
                 {
                  "Coordinate": [
                   "35.433681",
                   "2.635237",
                   "3.400000"
                  ]
                 }
                ]
               },
               {
                "CartesianPoint": [
                 {
                  "Coordinate": [
                   "35.433681",
                   "2.635237",
                   "0.000000"
                  ]
                 },
                 {
                  "Coordinate": [
                   "35.433681",
                   "0.394968",
                   "0.000000"
                  ]
                 },
                 {
                  "Coordinate": [
                   "35.433681",
                   "0.394968",
                   "3.400000"
                  ]
                 },
                 {
                  "Coordinate": [
                   "35.433681",
                   "2.635237",
                   "3.400000"
                  ]
                 }
                ]
               }
              ]
             }
            },
            "SpaceBoundary": [
             {
              "@isSecondLevelBoundary": "true",
              "@surfaceIdRef": "surface-58",
              "PlanarGeometry": {
               "PolyLoop": {
                "CartesianPoint": [
                 {
                  "Coordinate": [
                   "36.968681",
                   "2.635237",
                   "-0.000000"
                  ]
                 },
                 {
                  "Coordinate": [
                   "35.433681",
                   "2.635237",
                   "-0.000000"
                  ]
                 },
                 {
                  "Coordinate": [
                   "35.433681",
                   "2.635237",
                   "3.400000"
                  ]
                 },
                 {
                  "Coordinate": [
                   "36.968681",
                   "2.635237",
                   "3.400000"
                  ]
                 }
                ]
               }
              }
             },
             {
              "@isSecondLevelBoundary": "true",
              "@surfaceIdRef": "surface-59",
              "PlanarGeometry": {
               "PolyLoop": {
                "CartesianPoint": [
                 {
                  "Coordinate": [
                   "35.433681",
                   "2.635237",
                   "0.000000"
                  ]
                 },
                 {
                  "Coordinate": [
                   "35.433681",
                   "2.205237",
                   "0.000000"
                  ]
                 },
                 {
                  "Coordinate": [
                   "35.433681",
                   "2.205237",
                   "3.400000"
                  ]
                 },
                 {
                  "Coordinate": [
                   "35.433681",
                   "2.635237",
                   "3.400000"
                  ]
                 }
                ]
               }
              }
             },
             {
              "@isSecondLevelBoundary": "true",
              "@surfaceIdRef": "surface-60",
              "PlanarGeometry": {
               "PolyLoop": {
                "CartesianPoint": [
                 {
                  "Coordinate": [
                   "35.433681",
                   "0.394968",
                   "0.000000"
                  ]
                 },
                 {
                  "Coordinate": [
                   "36.968681",
                   "0.394968",
                   "0.000000"
                  ]
                 },
                 {
                  "Coordinate": [
                   "36.968681",
                   "0.394968",
                   "3.400000"
                  ]
                 },
                 {
                  "Coordinate": [
                   "35.433681",
                   "0.394968",
                   "3.400000"
                  ]
                 }
                ]
               }
              }
             },
             {
              "@isSecondLevelBoundary": "true",
              "@surfaceIdRef": "surface-61",
              "PlanarGeometry": {
               "PolyLoop": {
                "CartesianPoint": [
                 {
                  "Coordinate": [
                   "36.968681",
                   "0.394968",
                   "0.000000"
                  ]
                 },
                 {
                  "Coordinate": [
                   "36.968681",
                   "2.635237",
                   "0.000000"
                  ]
                 },
                 {
                  "Coordinate": [
                   "36.968681",
                   "2.635237",
                   "3.400000"
                  ]
                 },
                 {
                  "Coordinate": [
                   "36.968681",
                   "0.394968",
                   "3.400000"
                  ]
                 }
                ]
               }
              }
             },
             {
              "@isSecondLevelBoundary": "true",
              "@surfaceIdRef": "surface-62",
              "PlanarGeometry": {
               "PolyLoop": {
                "CartesianPoint": [
                 {
                  "Coordinate": [
                   "36.968681",
                   "0.394968",
                   "0.000000"
                  ]
                 },
                 {
                  "Coordinate": [
                   "35.433681",
                   "0.394968",
                   "0.000000"
                  ]
                 },
                 {
                  "Coordinate": [
                   "35.433681",
                   "2.635237",
                   "0.000000"
                  ]
                 },
                 {
                  "Coordinate": [
                   "36.968681",
                   "2.635237",
                   "0.000000"
                  ]
                 }
                ]
               }
              }
             },
             {
              "@isSecondLevelBoundary": "true",
              "@surfaceIdRef": "surface-63",
              "PlanarGeometry": {
               "PolyLoop": {
                "CartesianPoint": [
                 {
                  "Coordinate": [
                   "36.968681",
                   "2.635237",
                   "3.400000"
                  ]
                 },
                 {
                  "Coordinate": [
                   "35.433681",
                   "2.635237",
                   "3.400000"
                  ]
                 },
                 {
                  "Coordinate": [
                   "35.433681",
                   "0.394968",
                   "3.400000"
                  ]
                 },
                 {
                  "Coordinate": [
                   "36.968681",
                   "0.394968",
                   "3.400000"
                  ]
                 }
                ]
               }
              }
             },
             {
              "@isSecondLevelBoundary": "true",
              "@surfaceIdRef": "surface-64",
              "PlanarGeometry": {
               "PolyLoop": {
                "CartesianPoint": [
                 {
                  "Coordinate": [
                   "35.433681",
                   "0.394968",
                   "3.400000"
                  ]
                 },
                 {
                  "Coordinate": [
                   "35.433681",
                   "2.205237",
                   "3.400000"
                  ]
                 },
                 {
                  "Coordinate": [
                   "35.433681",
                   "2.205237",
                   "-0.000000"
                  ]
                 },
                 {
                  "Coordinate": [
                   "35.433681",
                   "0.394968",
                   "-0.000000"
                  ]
                 }
                ]
               }
              }
             }
            ],
            "TypeCode": "0",
            "Volume": "11.691964"
           },
           {
            "@buildingStoreyIdRef": "STOREY_1",
            "@conditionType": "HeatedAndCooled",
            "@id": "TR00000A",
            "@zoneIdRef": "ZONE_2",
            "Area": "1.792166",
            "CADObjectId": "TR00000A",
            "Name": "B_00_03_R6_WCCubicle1",
            "ShellGeometry": {
             "@id": "TR00000A-shellgeometry",
             "ClosedShell": {
              "PolyLoop": [
               {
                "CartesianPoint": [
                 {
                  "Coordinate": [
                   "30.493681",
                   "0.394968",
                   "0.000000"
                  ]
                 },
                 {
                  "Coordinate": [
                   "31.483681",
                   "0.394968",
                   "0.000000"
                  ]
                 },
                 {
                  "Coordinate": [
                   "31.483681",
                   "0.394968",
                   "3.400000"
                  ]
                 },
                 {
                  "Coordinate": [
                   "30.493681",
                   "0.394968",
                   "3.400000"
                  ]
                 }
                ]
               },
               {
                "CartesianPoint": [
                 {
                  "Coordinate": [
                   "30.493681",
                   "2.205237",
                   "0.000000"
                  ]
                 },
                 {
                  "Coordinate": [
                   "30.493681",
                   "0.394968",
                   "0.000000"
                  ]
                 },
                 {
                  "Coordinate": [
                   "30.493681",
                   "0.394968",
                   "3.400000"
                  ]
                 },
                 {
                  "Coordinate": [
                   "30.493681",
                   "2.205237",
                   "3.400000"
                  ]
                 }
                ]
               },
               {
                "CartesianPoint": [
                 {
                  "Coordinate": [
                   "31.483681",
                   "0.394968",
                   "0.000000"
                  ]
                 },
                 {
                  "Coordinate": [
                   "30.493681",
                   "0.394968",
                   "0.000000"
                  ]
                 },
                 {
                  "Coordinate": [
                   "30.493681",
                   "2.205237",
                   "0.000000"
                  ]
                 },
                 {
                  "Coordinate": [
                   "31.483681",
                   "2.205237",
                   "0.000000"
                  ]
                 }
                ]
               },
               {
                "CartesianPoint": [
                 {
                  "Coordinate": [
                   "31.483681",
                   "2.205237",
                   "3.400000"
                  ]
                 },
                 {
                  "Coordinate": [
                   "30.493681",
                   "2.205237",
                   "3.400000"
                  ]
                 },
                 {
                  "Coordinate": [
                   "30.493681",
                   "0.394968",
                   "3.400000"
                  ]
                 },
                 {
                  "Coordinate": [
                   "31.483681",
                   "0.394968",
                   "3.400000"
                  ]
                 }
                ]
               },
               {
                "CartesianPoint": [
                 {
                  "Coordinate": [
                   "31.483681",
                   "2.205237",
                   "0.000000"
                  ]
                 },
                 {
                  "Coordinate": [
                   "30.493681",
                   "2.205237",
                   "0.000000"
                  ]
                 },
                 {
                  "Coordinate": [
                   "30.493681",
                   "2.205237",
                   "3.400000"
                  ]
                 },
                 {
                  "Coordinate": [
                   "31.483681",
                   "2.205237",
                   "3.400000"
                  ]
                 }
                ]
               },
               {
                "CartesianPoint": [
                 {
                  "Coordinate": [
                   "31.483681",
                   "2.205237",
                   "3.400000"
                  ]
                 },
                 {
                  "Coordinate": [
                   "31.483681",
                   "0.394968",
                   "3.400000"
                  ]
                 },
                 {
                  "Coordinate": [
                   "31.483681",
                   "0.394968",
                   "0.000000"
                  ]
                 },
                 {
                  "Coordinate": [
                   "31.483681",
                   "2.205237",
                   "0.000000"
                  ]
                 }
                ]
               }
              ]
             }
            },
            "SpaceBoundary": [
             {
              "@isSecondLevelBoundary": "true",
              "@surfaceIdRef": "surface-27",
              "PlanarGeometry": {
               "PolyLoop": {
                "CartesianPoint": [
                 {
                  "Coordinate": [
                   "30.493681",
                   "2.205237",
                   "0.000000"
                  ]
                 },
                 {
                  "Coordinate": [
                   "30.493681",
                   "0.394968",
                   "0.000000"
                  ]
                 },
                 {
                  "Coordinate": [
                   "30.493681",
                   "0.394968",
                   "3.400000"
                  ]
                 },
                 {
                  "Coordinate": [
                   "30.493681",
                   "2.205237",
                   "3.400000"
                  ]
                 }
                ]
               }
              }
             },
             {
              "@isSecondLevelBoundary": "true",
              "@surfaceIdRef": "surface-53",
              "PlanarGeometry": {
               "PolyLoop": {
                "CartesianPoint": [
                 {
                  "Coordinate": [
                   "31.483681",
                   "2.205237",
                   "-0.000000"
                  ]
                 },
                 {
                  "Coordinate": [
                   "30.493681",
                   "2.205237",
                   "-0.000000"
                  ]
                 },
                 {
                  "Coordinate": [
                   "30.493681",
                   "2.205237",
                   "3.400000"
                  ]
                 },
                 {
                  "Coordinate": [
                   "31.483681",
                   "2.205237",
                   "3.400000"
                  ]
                 }
                ]
               }
              }
             },
             {
              "@isSecondLevelBoundary": "true",
              "@surfaceIdRef": "surface-65",
              "PlanarGeometry": {
               "PolyLoop": {
                "CartesianPoint": [
                 {
                  "Coordinate": [
                   "30.493681",
                   "0.394968",
                   "0.000000"
                  ]
                 },
                 {
                  "Coordinate": [
                   "31.483681",
                   "0.394968",
                   "0.000000"
                  ]
                 },
                 {
                  "Coordinate": [
                   "31.483681",
                   "0.394968",
                   "3.400000"
                  ]
                 },
                 {
                  "Coordinate": [
                   "30.493681",
                   "0.394968",
                   "3.400000"
                  ]
                 }
                ]
               }
              }
             },
             {
              "@isSecondLevelBoundary": "true",
              "@surfaceIdRef": "surface-66",
              "PlanarGeometry": {
               "PolyLoop": {
                "CartesianPoint": [
                 {
                  "Coordinate": [
                   "31.483681",
                   "0.394968",
                   "0.000000"
                  ]
                 },
                 {
                  "Coordinate": [
                   "30.493681",
                   "0.394968",
                   "0.000000"
                  ]
                 },
                 {
                  "Coordinate": [
                   "30.493681",
                   "2.205237",
                   "0.000000"
                  ]
                 },
                 {
                  "Coordinate": [
                   "31.483681",
                   "2.205237",
                   "0.000000"
                  ]
                 }
                ]
               }
              }
             },
             {
              "@isSecondLevelBoundary": "true",
              "@surfaceIdRef": "surface-67",
              "PlanarGeometry": {
               "PolyLoop": {
                "CartesianPoint": [
                 {
                  "Coordinate": [
                   "31.483681",
                   "2.205237",
                   "3.400000"
                  ]
                 },
                 {
                  "Coordinate": [
                   "30.493681",
                   "2.205237",
                   "3.400000"
                  ]
                 },
                 {
                  "Coordinate": [
                   "30.493681",
                   "1.679837",
                   "3.400000"
                  ]
                 },
                 {
                  "Coordinate": [
                   "31.483681",
                   "1.675642",
                   "3.400000"
                  ]
                 }
                ]
               }
              }
             },
             {
              "@isSecondLevelBoundary": "true",
              "@surfaceIdRef": "surface-68",
              "PlanarGeometry": {
               "PolyLoop": {
                "CartesianPoint": [
                 {
                  "Coordinate": [
                   "30.493681",
                   "1.679837",
                   "3.400000"
                  ]
                 },
                 {
                  "Coordinate": [
                   "30.493681",
                   "0.394968",
                   "3.400000"
                  ]
                 },
                 {
                  "Coordinate": [
                   "31.483681",
                   "0.394968",
                   "3.400000"
                  ]
                 },
                 {
                  "Coordinate": [
                   "31.483681",
                   "1.675642",
                   "3.400000"
                  ]
                 }
                ]
               }
              }
             },
             {
              "@isSecondLevelBoundary": "true",
              "@surfaceIdRef": "surface-69",
              "PlanarGeometry": {
               "PolyLoop": {
                "CartesianPoint": [
                 {
                  "Coordinate": [
                   "31.483681",
                   "2.205237",
                   "3.400000"
                  ]
                 },
                 {
                  "Coordinate": [
                   "31.483681",
                   "0.394968",
                   "3.400000"
                  ]
                 },
                 {
                  "Coordinate": [
                   "31.483681",
                   "0.394968",
                   "0.000000"
                  ]
                 },
                 {
                  "Coordinate": [
                   "31.483681",
                   "2.205237",
                   "0.000000"
                  ]
                 }
                ]
               }
              }
             }
            ],
            "TypeCode": "0",
            "Volume": "6.093365"
           },
           {
            "@buildingStoreyIdRef": "STOREY_1",
            "@conditionType": "HeatedAndCooled",
            "@id": "TR00000B",
            "@zoneIdRef": "ZONE_2",
            "Area": "1.593037",
            "CADObjectId": "TR00000B",
            "Name": "B_00_03_R6_WCCubicle2",
            "ShellGeometry": {
             "@id": "TR00000B-shellgeometry",
             "ClosedShell": {
              "PolyLoop": [
               {
                "CartesianPoint": [
                 {
                  "Coordinate": [
                   "31.483681",
                   "0.394968",
                   "0.000000"
                  ]
                 },
                 {
                  "Coordinate": [
                   "32.363681",
                   "0.394968",
                   "0.000000"
                  ]
                 },
                 {
                  "Coordinate": [
                   "32.363681",
                   "0.394968",
                   "3.400000"
                  ]
                 },
                 {
                  "Coordinate": [
                   "31.483681",
                   "0.394968",
                   "3.400000"
                  ]
                 }
                ]
               },
               {
                "CartesianPoint": [
                 {
                  "Coordinate": [
                   "32.363681",
                   "0.394968",
                   "0.000000"
                  ]
                 },
                 {
                  "Coordinate": [
                   "31.483681",
                   "0.394968",
                   "0.000000"
                  ]
                 },
                 {
                  "Coordinate": [
                   "31.483681",
                   "2.205237",
                   "0.000000"
                  ]
                 },
                 {
                  "Coordinate": [
                   "32.363681",
                   "2.205237",
                   "0.000000"
                  ]
                 }
                ]
               },
               {
                "CartesianPoint": [
                 {
                  "Coordinate": [
                   "32.363681",
                   "2.205237",
                   "3.400000"
                  ]
                 },
                 {
                  "Coordinate": [
                   "31.483681",
                   "2.205237",
                   "3.400000"
                  ]
                 },
                 {
                  "Coordinate": [
                   "31.483681",
                   "0.394968",
                   "3.400000"
                  ]
                 },
                 {
                  "Coordinate": [
                   "32.363681",
                   "0.394968",
                   "3.400000"
                  ]
                 }
                ]
               },
               {
                "CartesianPoint": [
                 {
                  "Coordinate": [
                   "32.363681",
                   "2.205237",
                   "0.000000"
                  ]
                 },
                 {
                  "Coordinate": [
                   "31.483681",
                   "2.205237",
                   "0.000000"
                  ]
                 },
                 {
                  "Coordinate": [
                   "31.483681",
                   "2.205237",
                   "3.400000"
                  ]
                 },
                 {
                  "Coordinate": [
                   "32.363681",
                   "2.205237",
                   "3.400000"
                  ]
                 }
                ]
               },
               {
                "CartesianPoint": [
                 {
                  "Coordinate": [
                   "31.483681",
                   "2.205237",
                   "0.000000"
                  ]
                 },
                 {
                  "Coordinate": [
                   "31.483681",
                   "0.394968",
                   "0.000000"
                  ]
                 },
                 {
                  "Coordinate": [
                   "31.483681",
                   "0.394968",
                   "3.400000"
                  ]
                 },
                 {
                  "Coordinate": [
                   "31.483681",
                   "2.205237",
                   "3.400000"
                  ]
                 }
                ]
               },
               {
                "CartesianPoint": [
                 {
                  "Coordinate": [
                   "32.363681",
                   "2.205237",
                   "3.400000"
                  ]
                 },
                 {
                  "Coordinate": [
                   "32.363681",
                   "0.394968",
                   "3.400000"
                  ]
                 },
                 {
                  "Coordinate": [
                   "32.363681",
                   "0.394968",
                   "0.000000"
                  ]
                 },
                 {
                  "Coordinate": [
                   "32.363681",
                   "2.205237",
                   "0.000000"
                  ]
                 }
                ]
               }
              ]
             }
            },
            "SpaceBoundary": [
             {
              "@isSecondLevelBoundary": "true",
              "@surfaceIdRef": "surface-54",
              "PlanarGeometry": {
               "PolyLoop": {
                "CartesianPoint": [
                 {
                  "Coordinate": [
                   "32.363681",
                   "2.205237",
                   "-0.000000"
                  ]
                 },
                 {
                  "Coordinate": [
                   "31.483681",
                   "2.205237",
                   "-0.000000"
                  ]
                 },
                 {
                  "Coordinate": [
                   "31.483681",
                   "2.205237",
                   "3.400000"
                  ]
                 },
                 {
                  "Coordinate": [
                   "32.363681",
                   "2.205237",
                   "3.400000"
                  ]
                 }
                ]
               }
              }
             },
             {
              "@isSecondLevelBoundary": "true",
              "@surfaceIdRef": "surface-69",
              "PlanarGeometry": {
               "PolyLoop": {
                "CartesianPoint": [
                 {
                  "Coordinate": [
                   "31.483681",
                   "2.205237",
                   "0.000000"
                  ]
                 },
                 {
                  "Coordinate": [
                   "31.483681",
                   "0.394968",
                   "0.000000"
                  ]
                 },
                 {
                  "Coordinate": [
                   "31.483681",
                   "0.394968",
                   "3.400000"
                  ]
                 },
                 {
                  "Coordinate": [
                   "31.483681",
                   "2.205237",
                   "3.400000"
                  ]
                 }
                ]
               }
              }
             },
             {
              "@isSecondLevelBoundary": "true",
              "@surfaceIdRef": "surface-70",
              "PlanarGeometry": {
               "PolyLoop": {
                "CartesianPoint": [
                 {
                  "Coordinate": [
                   "31.483681",
                   "0.394968",
                   "0.000000"
                  ]
                 },
                 {
                  "Coordinate": [
                   "32.363681",
                   "0.394968",
                   "0.000000"
                  ]
                 },
                 {
                  "Coordinate": [
                   "32.363681",
                   "0.394968",
                   "3.400000"
                  ]
                 },
                 {
                  "Coordinate": [
                   "31.483681",
                   "0.394968",
                   "3.400000"
                  ]
                 }
                ]
               }
              }
             },
             {
              "@isSecondLevelBoundary": "true",
              "@surfaceIdRef": "surface-71",
              "PlanarGeometry": {
               "PolyLoop": {
                "CartesianPoint": [
                 {
                  "Coordinate": [
                   "32.363681",
                   "0.394968",
                   "0.000000"
                  ]
                 },
                 {
                  "Coordinate": [
                   "31.483681",
                   "0.394968",
                   "0.000000"
                  ]
                 },
                 {
                  "Coordinate": [
                   "31.483681",
                   "2.205237",
                   "0.000000"
                  ]
                 },
                 {
                  "Coordinate": [
                   "32.363681",
                   "2.205237",
                   "0.000000"
                  ]
                 }
                ]
               }
              }
             },
             {
              "@isSecondLevelBoundary": "true",
              "@surfaceIdRef": "surface-72",
              "PlanarGeometry": {
               "PolyLoop": {
                "CartesianPoint": [
                 {
                  "Coordinate": [
                   "32.363681",
                   "2.205237",
                   "3.400000"
                  ]
                 },
                 {
                  "Coordinate": [
                   "31.483681",
                   "2.205237",
                   "3.400000"
                  ]
                 },
                 {
                  "Coordinate": [
                   "31.483681",
                   "1.675642",
                   "3.400000"
                  ]
                 },
                 {
                  "Coordinate": [
                   "32.363681",
                   "1.671913",
                   "3.400000"
                  ]
                 }
                ]
               }
              }
             },
             {
              "@isSecondLevelBoundary": "true",
              "@surfaceIdRef": "surface-73",
              "PlanarGeometry": {
               "PolyLoop": {
                "CartesianPoint": [
                 {
                  "Coordinate": [
                   "31.483681",
                   "1.675642",
                   "3.400000"
                  ]
                 },
                 {
                  "Coordinate": [
                   "31.483681",
                   "0.394968",
                   "3.400000"
                  ]
                 },
                 {
                  "Coordinate": [
                   "32.363681",
                   "0.394968",
                   "3.400000"
                  ]
                 },
                 {
                  "Coordinate": [
                   "32.363681",
                   "1.671913",
                   "3.400000"
                  ]
                 }
                ]
               }
              }
             },
             {
              "@isSecondLevelBoundary": "true",
              "@surfaceIdRef": "surface-74",
              "PlanarGeometry": {
               "PolyLoop": {
                "CartesianPoint": [
                 {
                  "Coordinate": [
                   "32.363681",
                   "2.205237",
                   "3.400000"
                  ]
                 },
                 {
                  "Coordinate": [
                   "32.363681",
                   "0.394968",
                   "3.400000"
                  ]
                 },
                 {
                  "Coordinate": [
                   "32.363681",
                   "0.394968",
                   "0.000000"
                  ]
                 },
                 {
                  "Coordinate": [
                   "32.363681",
                   "2.205237",
                   "0.000000"
                  ]
                 }
                ]
               }
              }
             }
            ],
            "TypeCode": "0",
            "Volume": "5.416325"
           },
           {
            "@buildingStoreyIdRef": "STOREY_1",
            "@conditionType": "HeatedAndCooled",
            "@id": "TR00000D",
            "@zoneIdRef": "ZONE_2",
            "Area": "1.593037",
            "CADObjectId": "TR00000D",
            "Name": "B_00_03_R6_WCCubicle3",
            "ShellGeometry": {
             "@id": "TR00000D-shellgeometry",
             "ClosedShell": {
              "PolyLoop": [
               {
                "CartesianPoint": [
                 {
                  "Coordinate": [
                   "32.363681",
                   "0.394968",
                   "0.000000"
                  ]
                 },
                 {
                  "Coordinate": [
                   "33.243681",
                   "0.394968",
                   "0.000000"
                  ]
                 },
                 {
                  "Coordinate": [
                   "33.243681",
                   "0.394968",
                   "3.400000"
                  ]
                 },
                 {
                  "Coordinate": [
                   "32.363681",
                   "0.394968",
                   "3.400000"
                  ]
                 }
                ]
               },
               {
                "CartesianPoint": [
                 {
                  "Coordinate": [
                   "33.243681",
                   "0.394968",
                   "0.000000"
                  ]
                 },
                 {
                  "Coordinate": [
                   "32.363681",
                   "0.394968",
                   "0.000000"
                  ]
                 },
                 {
                  "Coordinate": [
                   "32.363681",
                   "2.205237",
                   "0.000000"
                  ]
                 },
                 {
                  "Coordinate": [
                   "33.243681",
                   "2.205237",
                   "0.000000"
                  ]
                 }
                ]
               },
               {
                "CartesianPoint": [
                 {
                  "Coordinate": [
                   "33.243681",
                   "2.205237",
                   "3.400000"
                  ]
                 },
                 {
                  "Coordinate": [
                   "32.363681",
                   "2.205237",
                   "3.400000"
                  ]
                 },
                 {
                  "Coordinate": [
                   "32.363681",
                   "0.394968",
                   "3.400000"
                  ]
                 },
                 {
                  "Coordinate": [
                   "33.243681",
                   "0.394968",
                   "3.400000"
                  ]
                 }
                ]
               },
               {
                "CartesianPoint": [
                 {
                  "Coordinate": [
                   "33.243681",
                   "2.205237",
                   "0.000000"
                  ]
                 },
                 {
                  "Coordinate": [
                   "32.363681",
                   "2.205237",
                   "0.000000"
                  ]
                 },
                 {
                  "Coordinate": [
                   "32.363681",
                   "2.205237",
                   "3.400000"
                  ]
                 },
                 {
                  "Coordinate": [
                   "33.243681",
                   "2.205237",
                   "3.400000"
                  ]
                 }
                ]
               },
               {
                "CartesianPoint": [
                 {
                  "Coordinate": [
                   "32.363681",
                   "2.205237",
                   "0.000000"
                  ]
                 },
                 {
                  "Coordinate": [
                   "32.363681",
                   "0.394968",
                   "0.000000"
                  ]
                 },
                 {
                  "Coordinate": [
                   "32.363681",
                   "0.394968",
                   "3.400000"
                  ]
                 },
                 {
                  "Coordinate": [
                   "32.363681",
                   "2.205237",
                   "3.400000"
                  ]
                 }
                ]
               },
               {
                "CartesianPoint": [
                 {
                  "Coordinate": [
                   "33.243681",
                   "2.205237",
                   "3.400000"
                  ]
                 },
                 {
                  "Coordinate": [
                   "33.243681",
                   "0.394968",
                   "3.400000"
                  ]
                 },
                 {
                  "Coordinate": [
                   "33.243681",
                   "0.394968",
                   "0.000000"
                  ]
                 },
                 {
                  "Coordinate": [
                   "33.243681",
                   "2.205237",
                   "0.000000"
                  ]
                 }
                ]
               }
              ]
             }
            },
            "SpaceBoundary": [
             {
              "@isSecondLevelBoundary": "true",
              "@surfaceIdRef": "surface-55",
              "PlanarGeometry": {
               "PolyLoop": {
                "CartesianPoint": [
                 {
                  "Coordinate": [
                   "33.243681",
                   "2.205237",
                   "-0.000000"
                  ]
                 },
                 {
                  "Coordinate": [
                   "32.363681",
                   "2.205237",
                   "-0.000000"
                  ]
                 },
                 {
                  "Coordinate": [
                   "32.363681",
                   "2.205237",
                   "3.400000"
                  ]
                 },
                 {
                  "Coordinate": [
                   "33.243681",
                   "2.205237",
                   "3.400000"
                  ]
                 }
                ]
               }
              }
             },
             {
              "@isSecondLevelBoundary": "true",
              "@surfaceIdRef": "surface-74",
              "PlanarGeometry": {
               "PolyLoop": {
                "CartesianPoint": [
                 {
                  "Coordinate": [
                   "32.363681",
                   "2.205237",
                   "0.000000"
                  ]
                 },
                 {
                  "Coordinate": [
                   "32.363681",
                   "0.394968",
                   "0.000000"
                  ]
                 },
                 {
                  "Coordinate": [
                   "32.363681",
                   "0.394968",
                   "3.400000"
                  ]
                 },
                 {
                  "Coordinate": [
                   "32.363681",
                   "2.205237",
                   "3.400000"
                  ]
                 }
                ]
               }
              }
             },
             {
              "@isSecondLevelBoundary": "true",
              "@surfaceIdRef": "surface-75",
              "PlanarGeometry": {
               "PolyLoop": {
                "CartesianPoint": [
                 {
                  "Coordinate": [
                   "32.363681",
                   "0.394968",
                   "0.000000"
                  ]
                 },
                 {
                  "Coordinate": [
                   "33.243681",
                   "0.394968",
                   "0.000000"
                  ]
                 },
                 {
                  "Coordinate": [
                   "33.243681",
                   "0.394968",
                   "3.400000"
                  ]
                 },
                 {
                  "Coordinate": [
                   "32.363681",
                   "0.394968",
                   "3.400000"
                  ]
                 }
                ]
               }
              }
             },
             {
              "@isSecondLevelBoundary": "true",
              "@surfaceIdRef": "surface-76",
              "PlanarGeometry": {
               "PolyLoop": {
                "CartesianPoint": [
                 {
                  "Coordinate": [
                   "33.243681",
                   "0.394968",
                   "0.000000"
                  ]
                 },
                 {
                  "Coordinate": [
                   "32.363681",
                   "0.394968",
                   "0.000000"
                  ]
                 },
                 {
                  "Coordinate": [
                   "32.363681",
                   "2.205237",
                   "0.000000"
                  ]
                 },
                 {
                  "Coordinate": [
                   "33.243681",
                   "2.205237",
                   "0.000000"
                  ]
                 }
                ]
               }
              }
             },
             {
              "@isSecondLevelBoundary": "true",
              "@surfaceIdRef": "surface-77",
              "PlanarGeometry": {
               "PolyLoop": {
                "CartesianPoint": [
                 {
                  "Coordinate": [
                   "33.243681",
                   "2.205237",
                   "3.400000"
                  ]
                 },
                 {
                  "Coordinate": [
                   "32.363681",
                   "2.205237",
                   "3.400000"
                  ]
                 },
                 {
                  "Coordinate": [
                   "32.363681",
                   "1.671913",
                   "3.400000"
                  ]
                 },
                 {
                  "Coordinate": [
                   "32.815237",
                   "1.670000",
                   "3.400000"
                  ]
                 },
                 {
                  "Coordinate": [
                   "33.243681",
                   "1.670000",
                   "3.400000"
                  ]
                 }
                ]
               }
              }
             },
             {
              "@isSecondLevelBoundary": "true",
              "@surfaceIdRef": "surface-78",
              "PlanarGeometry": {
               "PolyLoop": {
                "CartesianPoint": [
                 {
                  "Coordinate": [
                   "33.243681",
                   "1.670000",
                   "3.400000"
                  ]
                 },
                 {
                  "Coordinate": [
                   "32.815237",
                   "1.670000",
                   "3.400000"
                  ]
                 },
                 {
                  "Coordinate": [
                   "32.821140",
                   "0.394968",
                   "3.400000"
                  ]
                 },
                 {
                  "Coordinate": [
                   "33.243681",
                   "0.394968",
                   "3.400000"
                  ]
                 }
                ]
               }
              }
             },
             {
              "@isSecondLevelBoundary": "true",
              "@surfaceIdRef": "surface-79",
              "PlanarGeometry": {
               "PolyLoop": {
                "CartesianPoint": [
                 {
                  "Coordinate": [
                   "32.363681",
                   "1.671913",
                   "3.400000"
                  ]
                 },
                 {
                  "Coordinate": [
                   "32.363681",
                   "0.394968",
                   "3.400000"
                  ]
                 },
                 {
                  "Coordinate": [
                   "32.821140",
                   "0.394968",
                   "3.400000"
                  ]
                 },
                 {
                  "Coordinate": [
                   "32.815237",
                   "1.670000",
                   "3.400000"
                  ]
                 }
                ]
               }
              }
             },
             {
              "@isSecondLevelBoundary": "true",
              "@surfaceIdRef": "surface-80",
              "PlanarGeometry": {
               "PolyLoop": {
                "CartesianPoint": [
                 {
                  "Coordinate": [
                   "33.243681",
                   "2.205237",
                   "3.400000"
                  ]
                 },
                 {
                  "Coordinate": [
                   "33.243681",
                   "0.394968",
                   "3.400000"
                  ]
                 },
                 {
                  "Coordinate": [
                   "33.243681",
                   "0.394968",
                   "0.000000"
                  ]
                 },
                 {
                  "Coordinate": [
                   "33.243681",
                   "2.205237",
                   "0.000000"
                  ]
                 }
                ]
               }
              }
             }
            ],
            "TypeCode": "0",
            "Volume": "5.416325"
           },
           {
            "@buildingStoreyIdRef": "STOREY_1",
            "@conditionType": "HeatedAndCooled",
            "@id": "TR000008",
            "@zoneIdRef": "ZONE_2",
            "Area": "2.299042",
            "CADObjectId": "TR000008",
            "Name": "B_00_03_R6_WCBabyChange",
            "ShellGeometry": {
             "@id": "TR000008-shellgeometry",
             "ClosedShell": {
              "PolyLoop": [
               {
                "CartesianPoint": [
                 {
                  "Coordinate": [
                   "34.163681",
                   "0.394968",
                   "0.000000"
                  ]
                 },
                 {
                  "Coordinate": [
                   "35.433681",
                   "0.394968",
                   "0.000000"
                  ]
                 },
                 {
                  "Coordinate": [
                   "35.433681",
                   "0.394968",
                   "3.400000"
                  ]
                 },
                 {
                  "Coordinate": [
                   "34.163681",
                   "0.394968",
                   "3.400000"
                  ]
                 }
                ]
               },
               {
                "CartesianPoint": [
                 {
                  "Coordinate": [
                   "35.433681",
                   "0.394968",
                   "0.000000"
                  ]
                 },
                 {
                  "Coordinate": [
                   "34.163681",
                   "0.394968",
                   "0.000000"
                  ]
                 },
                 {
                  "Coordinate": [
                   "34.163681",
                   "2.205237",
                   "0.000000"
                  ]
                 },
                 {
                  "Coordinate": [
                   "35.433681",
                   "2.205237",
                   "0.000000"
                  ]
                 }
                ]
               },
               {
                "CartesianPoint": [
                 {
                  "Coordinate": [
                   "35.433681",
                   "2.205237",
                   "3.400000"
                  ]
                 },
                 {
                  "Coordinate": [
                   "34.163681",
                   "2.205237",
                   "3.400000"
                  ]
                 },
                 {
                  "Coordinate": [
                   "34.163681",
                   "0.394968",
                   "3.400000"
                  ]
                 },
                 {
                  "Coordinate": [
                   "35.433681",
                   "0.394968",
                   "3.400000"
                  ]
                 }
                ]
               },
               {
                "CartesianPoint": [
                 {
                  "Coordinate": [
                   "35.433681",
                   "2.205237",
                   "0.000000"
                  ]
                 },
                 {
                  "Coordinate": [
                   "34.163681",
                   "2.205237",
                   "0.000000"
                  ]
                 },
                 {
                  "Coordinate": [
                   "34.163681",
                   "2.205237",
                   "3.400000"
                  ]
                 },
                 {
                  "Coordinate": [
                   "35.433681",
                   "2.205237",
                   "3.400000"
                  ]
                 }
                ]
               },
               {
                "CartesianPoint": [
                 {
                  "Coordinate": [
                   "35.433681",
                   "0.394968",
                   "0.000000"
                  ]
                 },
                 {
                  "Coordinate": [
                   "35.433681",
                   "2.205237",
                   "0.000000"
                  ]
                 },
                 {
                  "Coordinate": [
                   "35.433681",
                   "2.205237",
                   "3.400000"
                  ]
                 },
                 {
                  "Coordinate": [
                   "35.433681",
                   "0.394968",
                   "3.400000"
                  ]
                 }
                ]
               },
               {
                "CartesianPoint": [
                 {
                  "Coordinate": [
                   "34.163681",
                   "2.205237",
                   "0.000000"
                  ]
                 },
                 {
                  "Coordinate": [
                   "34.163681",
                   "0.394968",
                   "0.000000"
                  ]
                 },
                 {
                  "Coordinate": [
                   "34.163681",
                   "0.394968",
                   "3.400000"
                  ]
                 },
                 {
                  "Coordinate": [
                   "34.163681",
                   "2.205237",
                   "3.400000"
                  ]
                 }
                ]
               }
              ]
             }
            },
            "SpaceBoundary": [
             {
              "@isSecondLevelBoundary": "true",
              "@surfaceIdRef": "surface-56",
              "PlanarGeometry": {
               "PolyLoop": {
                "CartesianPoint": [
                 {
                  "Coordinate": [
                   "35.433681",
                   "2.205237",
                   "-0.000000"
                  ]
                 },
                 {
                  "Coordinate": [
                   "34.163681",
                   "2.205237",
                   "-0.000000"
                  ]
                 },
                 {
                  "Coordinate": [
                   "34.163681",
                   "2.205237",
                   "3.400000"
                  ]
                 },
                 {
                  "Coordinate": [
                   "35.433681",
                   "2.205237",
                   "3.400000"
                  ]
                 }
                ]
               }
              }
             },
             {
              "@isSecondLevelBoundary": "true",
              "@surfaceIdRef": "surface-64",
              "PlanarGeometry": {
               "PolyLoop": {
                "CartesianPoint": [
                 {
                  "Coordinate": [
                   "35.433681",
                   "0.394968",
                   "-0.000000"
                  ]
                 },
                 {
                  "Coordinate": [
                   "35.433681",
                   "2.205237",
                   "-0.000000"
                  ]
                 },
                 {
                  "Coordinate": [
                   "35.433681",
                   "2.205237",
                   "3.400000"
                  ]
                 },
                 {
                  "Coordinate": [
                   "35.433681",
                   "0.394968",
                   "3.400000"
                  ]
                 }
                ]
               }
              }
             },
             {
              "@isSecondLevelBoundary": "true",
              "@surfaceIdRef": "surface-81",
              "PlanarGeometry": {
               "PolyLoop": {
                "CartesianPoint": [
                 {
                  "Coordinate": [
                   "34.163681",
                   "0.394968",
                   "0.000000"
                  ]
                 },
                 {
                  "Coordinate": [
                   "35.433681",
                   "0.394968",
                   "0.000000"
                  ]
                 },
                 {
                  "Coordinate": [
                   "35.433681",
                   "0.394968",
                   "3.400000"
                  ]
                 },
                 {
                  "Coordinate": [
                   "34.163681",
                   "0.394968",
                   "3.400000"
                  ]
                 }
                ]
               }
              }
             },
             {
              "@isSecondLevelBoundary": "true",
              "@surfaceIdRef": "surface-82",
              "PlanarGeometry": {
               "PolyLoop": {
                "CartesianPoint": [
                 {
                  "Coordinate": [
                   "35.433681",
                   "0.394968",
                   "0.000000"
                  ]
                 },
                 {
                  "Coordinate": [
                   "34.163681",
                   "0.394968",
                   "0.000000"
                  ]
                 },
                 {
                  "Coordinate": [
                   "34.163681",
                   "2.205237",
                   "0.000000"
                  ]
                 },
                 {
                  "Coordinate": [
                   "35.433681",
                   "2.205237",
                   "0.000000"
                  ]
                 }
                ]
               }
              }
             },
             {
              "@isSecondLevelBoundary": "true",
              "@surfaceIdRef": "surface-83",
              "PlanarGeometry": {
               "PolyLoop": {
                "CartesianPoint": [
                 {
                  "Coordinate": [
                   "35.433681",
                   "2.205237",
                   "3.400000"
                  ]
                 },
                 {
                  "Coordinate": [
                   "34.163681",
                   "2.205237",
                   "3.400000"
                  ]
                 },
                 {
                  "Coordinate": [
                   "34.163681",
                   "0.394968",
                   "3.400000"
                  ]
                 },
                 {
                  "Coordinate": [
                   "35.433681",
                   "0.394968",
                   "3.400000"
                  ]
                 }
                ]
               }
              }
             },
             {
              "@isSecondLevelBoundary": "true",
              "@surfaceIdRef": "surface-84",
              "PlanarGeometry": {
               "PolyLoop": {
                "CartesianPoint": [
                 {
                  "Coordinate": [
                   "34.163681",
                   "0.394968",
                   "3.400000"
                  ]
                 },
                 {
                  "Coordinate": [
                   "34.163681",
                   "2.205237",
                   "3.400000"
                  ]
                 },
                 {
                  "Coordinate": [
                   "34.163681",
                   "2.205237",
                   "-0.000000"
                  ]
                 },
                 {
                  "Coordinate": [
                   "34.163681",
                   "0.394968",
                   "-0.000000"
                  ]
                 }
                ]
               }
              }
             }
            ],
            "TypeCode": "0",
            "Volume": "7.816742"
           },
           {
            "@buildingStoreyIdRef": "STOREY_1",
            "@conditionType": "HeatedAndCooled",
            "@id": "TR00000E",
            "@zoneIdRef": "ZONE_2",
            "Area": "1.665447",
            "CADObjectId": "TR00000E",
            "Name": "B_00_03_R6_WCCubicle4",
            "ShellGeometry": {
             "@id": "TR00000E-shellgeometry",
             "ClosedShell": {
              "PolyLoop": [
               {
                "CartesianPoint": [
                 {
                  "Coordinate": [
                   "33.243681",
                   "0.394968",
                   "0.000000"
                  ]
                 },
                 {
                  "Coordinate": [
                   "34.163681",
                   "0.394968",
                   "0.000000"
                  ]
                 },
                 {
                  "Coordinate": [
                   "34.163681",
                   "0.394968",
                   "3.400000"
                  ]
                 },
                 {
                  "Coordinate": [
                   "33.243681",
                   "0.394968",
                   "3.400000"
                  ]
                 }
                ]
               },
               {
                "CartesianPoint": [
                 {
                  "Coordinate": [
                   "34.163681",
                   "0.394968",
                   "0.000000"
                  ]
                 },
                 {
                  "Coordinate": [
                   "33.243681",
                   "0.394968",
                   "0.000000"
                  ]
                 },
                 {
                  "Coordinate": [
                   "33.243681",
                   "2.205237",
                   "0.000000"
                  ]
                 },
                 {
                  "Coordinate": [
                   "34.163681",
                   "2.205237",
                   "0.000000"
                  ]
                 }
                ]
               },
               {
                "CartesianPoint": [
                 {
                  "Coordinate": [
                   "34.163681",
                   "2.205237",
                   "3.400000"
                  ]
                 },
                 {
                  "Coordinate": [
                   "33.243681",
                   "2.205237",
                   "3.400000"
                  ]
                 },
                 {
                  "Coordinate": [
                   "33.243681",
                   "0.394968",
                   "3.400000"
                  ]
                 },
                 {
                  "Coordinate": [
                   "34.163681",
                   "0.394968",
                   "3.400000"
                  ]
                 }
                ]
               },
               {
                "CartesianPoint": [
                 {
                  "Coordinate": [
                   "34.163681",
                   "2.205237",
                   "0.000000"
                  ]
                 },
                 {
                  "Coordinate": [
                   "33.243681",
                   "2.205237",
                   "0.000000"
                  ]
                 },
                 {
                  "Coordinate": [
                   "33.243681",
                   "2.205237",
                   "3.400000"
                  ]
                 },
                 {
                  "Coordinate": [
                   "34.163681",
                   "2.205237",
                   "3.400000"
                  ]
                 }
                ]
               },
               {
                "CartesianPoint": [
                 {
                  "Coordinate": [
                   "33.243681",
                   "2.205237",
                   "0.000000"
                  ]
                 },
                 {
                  "Coordinate": [
                   "33.243681",
                   "0.394968",
                   "0.000000"
                  ]
                 },
                 {
                  "Coordinate": [
                   "33.243681",
                   "0.394968",
                   "3.400000"
                  ]
                 },
                 {
                  "Coordinate": [
                   "33.243681",
                   "2.205237",
                   "3.400000"
                  ]
                 }
                ]
               },
               {
                "CartesianPoint": [
                 {
                  "Coordinate": [
                   "34.163681",
                   "2.205237",
                   "3.400000"
                  ]
                 },
                 {
                  "Coordinate": [
                   "34.163681",
                   "0.394968",
                   "3.400000"
                  ]
                 },
                 {
                  "Coordinate": [
                   "34.163681",
                   "0.394968",
                   "0.000000"
                  ]
                 },
                 {
                  "Coordinate": [
                   "34.163681",
                   "2.205237",
                   "0.000000"
                  ]
                 }
                ]
               }
              ]
             }
            },
            "SpaceBoundary": [
             {
              "@isSecondLevelBoundary": "true",
              "@surfaceIdRef": "surface-57",
              "PlanarGeometry": {
               "PolyLoop": {
                "CartesianPoint": [
                 {
                  "Coordinate": [
                   "34.163681",
                   "2.205237",
                   "-0.000000"
                  ]
                 },
                 {
                  "Coordinate": [
                   "33.243681",
                   "2.205237",
                   "-0.000000"
                  ]
                 },
                 {
                  "Coordinate": [
                   "33.243681",
                   "2.205237",
                   "3.400000"
                  ]
                 },
                 {
                  "Coordinate": [
                   "34.163681",
                   "2.205237",
                   "3.400000"
                  ]
                 }
                ]
               }
              }
             },
             {
              "@isSecondLevelBoundary": "true",
              "@surfaceIdRef": "surface-80",
              "PlanarGeometry": {
               "PolyLoop": {
                "CartesianPoint": [
                 {
                  "Coordinate": [
                   "33.243681",
                   "2.205237",
                   "0.000000"
                  ]
                 },
                 {
                  "Coordinate": [
                   "33.243681",
                   "0.394968",
                   "0.000000"
                  ]
                 },
                 {
                  "Coordinate": [
                   "33.243681",
                   "0.394968",
                   "3.400000"
                  ]
                 },
                 {
                  "Coordinate": [
                   "33.243681",
                   "2.205237",
                   "3.400000"
                  ]
                 }
                ]
               }
              }
             },
             {
              "@isSecondLevelBoundary": "true",
              "@surfaceIdRef": "surface-84",
              "PlanarGeometry": {
               "PolyLoop": {
                "CartesianPoint": [
                 {
                  "Coordinate": [
                   "34.163681",
                   "0.394968",
                   "-0.000000"
                  ]
                 },
                 {
                  "Coordinate": [
                   "34.163681",
                   "2.205237",
                   "-0.000000"
                  ]
                 },
                 {
                  "Coordinate": [
                   "34.163681",
                   "2.205237",
                   "3.400000"
                  ]
                 },
                 {
                  "Coordinate": [
                   "34.163681",
                   "0.394968",
                   "3.400000"
                  ]
                 }
                ]
               }
              }
             },
             {
              "@isSecondLevelBoundary": "true",
              "@surfaceIdRef": "surface-85",
              "PlanarGeometry": {
               "PolyLoop": {
                "CartesianPoint": [
                 {
                  "Coordinate": [
                   "33.243681",
                   "0.394968",
                   "0.000000"
                  ]
                 },
                 {
                  "Coordinate": [
                   "34.163681",
                   "0.394968",
                   "0.000000"
                  ]
                 },
                 {
                  "Coordinate": [
                   "34.163681",
                   "0.394968",
                   "3.400000"
                  ]
                 },
                 {
                  "Coordinate": [
                   "33.243681",
                   "0.394968",
                   "3.400000"
                  ]
                 }
                ]
               }
              }
             },
             {
              "@isSecondLevelBoundary": "true",
              "@surfaceIdRef": "surface-86",
              "PlanarGeometry": {
               "PolyLoop": {
                "CartesianPoint": [
                 {
                  "Coordinate": [
                   "34.163681",
                   "0.394968",
                   "0.000000"
                  ]
                 },
                 {
                  "Coordinate": [
                   "33.243681",
                   "0.394968",
                   "0.000000"
                  ]
                 },
                 {
                  "Coordinate": [
                   "33.243681",
                   "2.205237",
                   "0.000000"
                  ]
                 },
                 {
                  "Coordinate": [
                   "34.163681",
                   "2.205237",
                   "0.000000"
                  ]
                 }
                ]
               }
              }
             },
             {
              "@isSecondLevelBoundary": "true",
              "@surfaceIdRef": "surface-87",
              "PlanarGeometry": {
               "PolyLoop": {
                "CartesianPoint": [
                 {
                  "Coordinate": [
                   "33.715237",
                   "2.205237",
                   "3.400000"
                  ]
                 },
                 {
                  "Coordinate": [
                   "33.243681",
                   "2.205237",
                   "3.400000"
                  ]
                 },
                 {
                  "Coordinate": [
                   "33.243681",
                   "1.670000",
                   "3.400000"
                  ]
                 },
                 {
                  "Coordinate": [
                   "33.715237",
                   "1.670000",
                   "3.400000"
                  ]
                 }
                ]
               }
              }
             },
             {
              "@isSecondLevelBoundary": "true",
              "@surfaceIdRef": "surface-88",
              "PlanarGeometry": {
               "PolyLoop": {
                "CartesianPoint": [
                 {
                  "Coordinate": [
                   "34.163681",
                   "2.205237",
                   "3.400000"
                  ]
                 },
                 {
                  "Coordinate": [
                   "33.715237",
                   "2.205237",
                   "3.400000"
                  ]
                 },
                 {
                  "Coordinate": [
                   "33.715237",
                   "1.670000",
                   "3.400000"
                  ]
                 },
                 {
                  "Coordinate": [
                   "33.243681",
                   "1.670000",
                   "3.400000"
                  ]
                 },
                 {
                  "Coordinate": [
                   "33.243681",
                   "0.394968",
                   "3.400000"
                  ]
                 },
                 {
                  "Coordinate": [
                   "34.163681",
                   "0.394968",
                   "3.400000"
                  ]
                 }
                ]
               }
              }
             }
            ],
            "TypeCode": "0",
            "Volume": "5.662521"
           },
           {
            "@buildingStoreyIdRef": "STOREY_1",
            "@conditionType": "HeatedAndCooled",
            "@id": "TR000007",
            "@zoneIdRef": "ZONE_2",
            "Area": "7.486200",
            "CADObjectId": "TR000007",
            "Name": "B_01_04_R14_Store",
            "ShellGeometry": {
             "@id": "TR000007-shellgeometry",
             "ClosedShell": {
              "PolyLoop": [
               {
                "CartesianPoint": [
                 {
                  "Coordinate": [
                   "33.715237",
                   "1.670000",
                   "3.400000"
                  ]
                 },
                 {
                  "Coordinate": [
                   "32.815237",
                   "1.670000",
                   "3.400000"
                  ]
                 },
                 {
                  "Coordinate": [
                   "30.455237",
                   "1.680000",
                   "3.400000"
                  ]
                 },
                 {
                  "Coordinate": [
                   "30.455237",
                   "3.970000",
                   "3.400000"
                  ]
                 },
                 {
                  "Coordinate": [
                   "33.715237",
                   "3.970000",
                   "3.400000"
                  ]
                 }
                ]
               },
               {
                "CartesianPoint": [
                 {
                  "Coordinate": [
                   "33.715237",
                   "3.970000",
                   "6.800000"
                  ]
                 },
                 {
                  "Coordinate": [
                   "30.455237",
                   "3.970000",
                   "6.800000"
                  ]
                 },
                 {
                  "Coordinate": [
                   "30.455237",
                   "1.680000",
                   "6.800000"
                  ]
                 },
                 {
                  "Coordinate": [
                   "32.815237",
                   "1.670000",
                   "6.800000"
                  ]
                 },
                 {
                  "Coordinate": [
                   "33.715237",
                   "1.670000",
                   "6.800000"
                  ]
                 }
                ]
               },
               {
                "CartesianPoint": [
                 {
                  "Coordinate": [
                   "33.715237",
                   "3.970000",
                   "3.400000"
                  ]
                 },
                 {
                  "Coordinate": [
                   "30.455237",
                   "3.970000",
                   "3.400000"
                  ]
                 },
                 {
                  "Coordinate": [
                   "30.455237",
                   "3.970000",
                   "6.800000"
                  ]
                 },
                 {
                  "Coordinate": [
                   "33.715237",
                   "3.970000",
                   "6.800000"
                  ]
                 }
                ]
               },
               {
                "CartesianPoint": [
                 {
                  "Coordinate": [
                   "30.455237",
                   "1.680000",
                   "3.400000"
                  ]
                 },
                 {
                  "Coordinate": [
                   "32.815237",
                   "1.670000",
                   "3.400000"
                  ]
                 },
                 {
                  "Coordinate": [
                   "32.815237",
                   "1.670000",
                   "6.800000"
                  ]
                 },
                 {
                  "Coordinate": [
                   "30.455237",
                   "1.680000",
                   "6.800000"
                  ]
                 }
                ]
               },
               {
                "CartesianPoint": [
                 {
                  "Coordinate": [
                   "30.455237",
                   "3.970000",
                   "3.400000"
                  ]
                 },
                 {
                  "Coordinate": [
                   "30.455237",
                   "1.680000",
                   "3.400000"
                  ]
                 },
                 {
                  "Coordinate": [
                   "30.455237",
                   "1.680000",
                   "6.800000"
                  ]
                 },
                 {
                  "Coordinate": [
                   "30.455237",
                   "3.970000",
                   "6.800000"
                  ]
                 }
                ]
               },
               {
                "CartesianPoint": [
                 {
                  "Coordinate": [
                   "33.715237",
                   "1.670000",
                   "3.400000"
                  ]
                 },
                 {
                  "Coordinate": [
                   "33.715237",
                   "3.970000",
                   "3.400000"
                  ]
                 },
                 {
                  "Coordinate": [
                   "33.715237",
                   "3.970000",
                   "6.800000"
                  ]
                 },
                 {
                  "Coordinate": [
                   "33.715237",
                   "1.670000",
                   "6.800000"
                  ]
                 }
                ]
               },
               {
                "CartesianPoint": [
                 {
                  "Coordinate": [
                   "32.815237",
                   "1.670000",
                   "3.400000"
                  ]
                 },
                 {
                  "Coordinate": [
                   "33.715237",
                   "1.670000",
                   "3.400000"
                  ]
                 },
                 {
                  "Coordinate": [
                   "33.715237",
                   "1.670000",
                   "6.800000"
                  ]
                 },
                 {
                  "Coordinate": [
                   "32.815237",
                   "1.670000",
                   "6.800000"
                  ]
                 }
                ]
               }
              ]
             }
            },
            "SpaceBoundary": [
             {
              "@isSecondLevelBoundary": "true",
              "@surfaceIdRef": "surface-8",
              "PlanarGeometry": {
               "PolyLoop": {
                "CartesianPoint": [
                 {
                  "Coordinate": [
                   "33.715237",
                   "3.969988",
                   "3.400000"
                  ]
                 },
                 {
                  "Coordinate": [
                   "30.455237",
                   "3.969988",
                   "3.400000"
                  ]
                 },
                 {
                  "Coordinate": [
                   "30.455237",
                   "3.970000",
                   "3.400000"
                  ]
                 },
                 {
                  "Coordinate": [
                   "33.715237",
                   "3.970000",
                   "3.400000"
                  ]
                 }
                ]
               }
              }
             },
             {
              "@isSecondLevelBoundary": "true",
              "@surfaceIdRef": "surface-23",
              "PlanarGeometry": {
               "PolyLoop": {
                "CartesianPoint": [
                 {
                  "Coordinate": [
                   "30.493681",
                   "1.679837",
                   "3.400000"
                  ]
                 },
                 {
                  "Coordinate": [
                   "30.455237",
                   "1.680000",
                   "3.400000"
                  ]
                 },
                 {
                  "Coordinate": [
                   "30.455237",
                   "2.205237",
                   "3.400000"
                  ]
                 },
                 {
                  "Coordinate": [
                   "30.493681",
                   "2.205237",
                   "3.400000"
                  ]
                 }
                ]
               }
              }
             },
             {
              "@isSecondLevelBoundary": "true",
              "@surfaceIdRef": "surface-50",
              "PlanarGeometry": {
               "PolyLoop": {
                "CartesianPoint": [
                 {
                  "Coordinate": [
                   "33.715237",
                   "2.205237",
                   "3.400000"
                  ]
                 },
                 {
                  "Coordinate": [
                   "30.493681",
                   "2.205237",
                   "3.400000"
                  ]
                 },
                 {
                  "Coordinate": [
                   "30.493681",
                   "3.969988",
                   "3.400000"
                  ]
                 },
                 {
                  "Coordinate": [
                   "33.715237",
                   "3.969988",
                   "3.400000"
                  ]
                 }
                ]
               }
              }
             },
             {
              "@isSecondLevelBoundary": "true",
              "@surfaceIdRef": "surface-67",
              "PlanarGeometry": {
               "PolyLoop": {
                "CartesianPoint": [
                 {
                  "Coordinate": [
                   "31.483681",
                   "1.675642",
                   "3.400000"
                  ]
                 },
                 {
                  "Coordinate": [
                   "30.493681",
                   "1.679837",
                   "3.400000"
                  ]
                 },
                 {
                  "Coordinate": [
                   "30.493681",
                   "2.205237",
                   "3.400000"
                  ]
                 },
                 {
                  "Coordinate": [
                   "31.483681",
                   "2.205237",
                   "3.400000"
                  ]
                 }
                ]
               }
              }
             },
             {
              "@isSecondLevelBoundary": "true",
              "@surfaceIdRef": "surface-72",
              "PlanarGeometry": {
               "PolyLoop": {
                "CartesianPoint": [
                 {
                  "Coordinate": [
                   "32.363681",
                   "1.671913",
                   "3.400000"
                  ]
                 },
                 {
                  "Coordinate": [
                   "31.483681",
                   "1.675642",
                   "3.400000"
                  ]
                 },
                 {
                  "Coordinate": [
                   "31.483681",
                   "2.205237",
                   "3.400000"
                  ]
                 },
                 {
                  "Coordinate": [
                   "32.363681",
                   "2.205237",
                   "3.400000"
                  ]
                 }
                ]
               }
              }
             },
             {
              "@isSecondLevelBoundary": "true",
              "@surfaceIdRef": "surface-77",
              "PlanarGeometry": {
               "PolyLoop": {
                "CartesianPoint": [
                 {
                  "Coordinate": [
                   "33.243681",
                   "1.670000",
                   "3.400000"
                  ]
                 },
                 {
                  "Coordinate": [
                   "32.815237",
                   "1.670000",
                   "3.400000"
                  ]
                 },
                 {
                  "Coordinate": [
                   "32.363681",
                   "1.671913",
                   "3.400000"
                  ]
                 },
                 {
                  "Coordinate": [
                   "32.363681",
                   "2.205237",
                   "3.400000"
                  ]
                 },
                 {
                  "Coordinate": [
                   "33.243681",
                   "2.205237",
                   "3.400000"
                  ]
                 }
                ]
               }
              }
             },
             {
              "@isSecondLevelBoundary": "true",
              "@surfaceIdRef": "surface-87",
              "PlanarGeometry": {
               "PolyLoop": {
                "CartesianPoint": [
                 {
                  "Coordinate": [
                   "33.715237",
                   "1.670000",
                   "3.400000"
                  ]
                 },
                 {
                  "Coordinate": [
                   "33.243681",
                   "1.670000",
                   "3.400000"
                  ]
                 },
                 {
                  "Coordinate": [
                   "33.243681",
                   "2.205237",
                   "3.400000"
                  ]
                 },
                 {
                  "Coordinate": [
                   "33.715237",
                   "2.205237",
                   "3.400000"
                  ]
                 }
                ]
               }
              }
             },
             {
              "@isSecondLevelBoundary": "true",
              "@surfaceIdRef": "surface-89",
              "PlanarGeometry": {
               "PolyLoop": {
                "CartesianPoint": [
                 {
                  "Coordinate": [
                   "30.493681",
                   "3.969988",
                   "3.400000"
                  ]
                 },
                 {
                  "Coordinate": [
                   "30.493681",
                   "2.205237",
                   "3.400000"
                  ]
                 },
                 {
                  "Coordinate": [
                   "30.455237",
                   "2.205237",
                   "3.400000"
                  ]
                 },
                 {
                  "Coordinate": [
                   "30.455237",
                   "3.970000",
                   "3.400000"
                  ]
                 }
                ]
               }
              }
             },
             {
              "@isSecondLevelBoundary": "true",
              "@surfaceIdRef": "surface-90",
              "PlanarGeometry": {
               "PolyLoop": {
                "CartesianPoint": [
                 {
                  "Coordinate": [
                   "33.715237",
                   "3.970000",
                   "6.800000"
                  ]
                 },
                 {
                  "Coordinate": [
                   "30.455237",
                   "3.970000",
                   "6.800000"
                  ]
                 },
                 {
                  "Coordinate": [
                   "30.455237",
                   "1.680000",
                   "6.800000"
                  ]
                 },
                 {
                  "Coordinate": [
                   "32.815237",
                   "1.670000",
                   "6.800000"
                  ]
                 },
                 {
                  "Coordinate": [
                   "33.715237",
                   "1.670000",
                   "6.800000"
                  ]
                 }
                ]
               }
              }
             },
             {
              "@isSecondLevelBoundary": "true",
              "@surfaceIdRef": "surface-91",
              "PlanarGeometry": {
               "PolyLoop": {
                "CartesianPoint": [
                 {
                  "Coordinate": [
                   "30.455237",
                   "3.970000",
                   "6.800000"
                  ]
                 },
                 {
                  "Coordinate": [
                   "33.715237",
                   "3.970000",
                   "6.800000"
                  ]
                 },
                 {
                  "Coordinate": [
                   "33.715237",
                   "3.970000",
                   "3.400000"
                  ]
                 },
                 {
                  "Coordinate": [
                   "30.455237",
                   "3.970000",
                   "3.400000"
                  ]
                 }
                ]
               }
              }
             },
             {
              "@isSecondLevelBoundary": "true",
              "@surfaceIdRef": "surface-92",
              "PlanarGeometry": {
               "PolyLoop": {
                "CartesianPoint": [
                 {
                  "Coordinate": [
                   "32.815237",
                   "1.670000",
                   "6.800000"
                  ]
                 },
                 {
                  "Coordinate": [
                   "30.455237",
                   "1.680000",
                   "6.800000"
                  ]
                 },
                 {
                  "Coordinate": [
                   "30.455237",
                   "1.680000",
                   "3.400000"
                  ]
                 },
                 {
                  "Coordinate": [
                   "32.815237",
                   "1.670000",
                   "3.400000"
                  ]
                 }
                ]
               }
              }
             },
             {
              "@isSecondLevelBoundary": "true",
              "@surfaceIdRef": "surface-93",
              "PlanarGeometry": {
               "PolyLoop": {
                "CartesianPoint": [
                 {
                  "Coordinate": [
                   "30.455237",
                   "1.680000",
                   "6.800000"
                  ]
                 },
                 {
                  "Coordinate": [
                   "30.455237",
                   "3.970000",
                   "6.800000"
                  ]
                 },
                 {
                  "Coordinate": [
                   "30.455237",
                   "3.970000",
                   "3.400000"
                  ]
                 },
                 {
                  "Coordinate": [
                   "30.455237",
                   "1.680000",
                   "3.400000"
                  ]
                 }
                ]
               }
              }
             },
             {
              "@isSecondLevelBoundary": "true",
              "@surfaceIdRef": "surface-94",
              "PlanarGeometry": {
               "PolyLoop": {
                "CartesianPoint": [
                 {
                  "Coordinate": [
                   "33.715237",
                   "3.970000",
                   "6.800000"
                  ]
                 },
                 {
                  "Coordinate": [
                   "33.715237",
                   "3.428000",
                   "6.800000"
                  ]
                 },
                 {
                  "Coordinate": [
                   "33.715237",
                   "3.428000",
                   "3.400000"
                  ]
                 },
                 {
                  "Coordinate": [
                   "33.715237",
                   "3.970000",
                   "3.400000"
                  ]
                 }
                ]
               }
              }
             },
             {
              "@isSecondLevelBoundary": "true",
              "@surfaceIdRef": "surface-95",
              "PlanarGeometry": {
               "PolyLoop": {
                "CartesianPoint": [
                 {
                  "Coordinate": [
                   "33.715237",
                   "3.428000",
                   "6.800000"
                  ]
                 },
                 {
                  "Coordinate": [
                   "33.715237",
                   "1.670000",
                   "6.800000"
                  ]
                 },
                 {
                  "Coordinate": [
                   "33.715237",
                   "1.670000",
                   "3.400000"
                  ]
                 },
                 {
                  "Coordinate": [
                   "33.715237",
                   "3.428000",
                   "3.400000"
                  ]
                 }
                ]
               }
              }
             },
             {
              "@isSecondLevelBoundary": "true",
              "@surfaceIdRef": "surface-96",
              "PlanarGeometry": {
               "PolyLoop": {
                "CartesianPoint": [
                 {
                  "Coordinate": [
                   "33.715237",
                   "1.670000",
                   "6.800000"
                  ]
                 },
                 {
                  "Coordinate": [
                   "32.815237",
                   "1.670000",
                   "6.800000"
                  ]
                 },
                 {
                  "Coordinate": [
                   "32.815237",
                   "1.670000",
                   "3.400000"
                  ]
                 },
                 {
                  "Coordinate": [
                   "33.715237",
                   "1.670000",
                   "3.400000"
                  ]
                 }
                ]
               }
              }
             }
            ],
            "TypeCode": "0",
            "Volume": "25.453080"
           },
           {
            "@buildingStoreyIdRef": "STOREY_1",
            "@conditionType": "HeatedAndCooled",
            "@id": "TR000011",
            "@zoneIdRef": "ZONE_2",
            "Area": "46.896719",
            "CADObjectId": "TR000011",
            "Name": "B_01_02_R15_WorkRoom2",
            "ShellGeometry": {
             "@id": "TR000011-shellgeometry",
             "ClosedShell": {
              "PolyLoop": [
               {
                "CartesianPoint": [
                 {
                  "Coordinate": [
                   "36.968681",
                   "3.970000",
                   "3.400000"
                  ]
                 },
                 {
                  "Coordinate": [
                   "36.968681",
                   "11.169988",
                   "3.400000"
                  ]
                 },
                 {
                  "Coordinate": [
                   "36.968681",
                   "11.169988",
                   "6.800000"
                  ]
                 },
                 {
                  "Coordinate": [
                   "36.968681",
                   "3.970000",
                   "6.800000"
                  ]
                 }
                ]
               },
               {
                "CartesianPoint": [
                 {
                  "Coordinate": [
                   "36.968681",
                   "11.169988",
                   "3.400000"
                  ]
                 },
                 {
                  "Coordinate": [
                   "30.455237",
                   "11.169988",
                   "3.400000"
                  ]
                 },
                 {
                  "Coordinate": [
                   "30.455237",
                   "11.169988",
                   "6.800000"
                  ]
                 },
                 {
                  "Coordinate": [
                   "36.968681",
                   "11.169988",
                   "6.800000"
                  ]
                 }
                ]
               },
               {
                "CartesianPoint": [
                 {
                  "Coordinate": [
                   "36.968681",
                   "3.970000",
                   "3.400000"
                  ]
                 },
                 {
                  "Coordinate": [
                   "30.455237",
                   "3.970000",
                   "3.400000"
                  ]
                 },
                 {
                  "Coordinate": [
                   "30.455237",
                   "11.169988",
                   "3.400000"
                  ]
                 },
                 {
                  "Coordinate": [
                   "36.968681",
                   "11.169988",
                   "3.400000"
                  ]
                 }
                ]
               },
               {
                "CartesianPoint": [
                 {
                  "Coordinate": [
                   "36.968681",
                   "11.169988",
                   "6.800000"
                  ]
                 },
                 {
                  "Coordinate": [
                   "30.455237",
                   "11.169988",
                   "6.800000"
                  ]
                 },
                 {
                  "Coordinate": [
                   "30.455237",
                   "3.970000",
                   "6.800000"
                  ]
                 },
                 {
                  "Coordinate": [
                   "36.968681",
                   "3.970000",
                   "6.800000"
                  ]
                 }
                ]
               },
               {
                "CartesianPoint": [
                 {
                  "Coordinate": [
                   "30.455237",
                   "3.970000",
                   "3.400000"
                  ]
                 },
                 {
                  "Coordinate": [
                   "36.968681",
                   "3.970000",
                   "3.400000"
                  ]
                 },
                 {
                  "Coordinate": [
                   "36.968681",
                   "3.970000",
                   "6.800000"
                  ]
                 },
                 {
                  "Coordinate": [
                   "30.455237",
                   "3.970000",
                   "6.800000"
                  ]
                 }
                ]
               },
               {
                "CartesianPoint": [
                 {
                  "Coordinate": [
                   "30.455237",
                   "3.970000",
                   "6.800000"
                  ]
                 },
                 {
                  "Coordinate": [
                   "30.455237",
                   "11.169988",
                   "6.800000"
                  ]
                 },
                 {
                  "Coordinate": [
                   "30.455237",
                   "11.169988",
                   "3.400000"
                  ]
                 },
                 {
                  "Coordinate": [
                   "30.455237",
                   "3.970000",
                   "3.400000"
                  ]
                 }
                ]
               }
              ]
             }
            },
            "SpaceBoundary": [
             {
              "@isSecondLevelBoundary": "true",
              "@surfaceIdRef": "surface-9",
              "PlanarGeometry": {
               "PolyLoop": {
                "CartesianPoint": [
                 {
                  "Coordinate": [
                   "36.968681",
                   "3.970000",
                   "3.400000"
                  ]
                 },
                 {
                  "Coordinate": [
                   "30.455237",
                   "3.970000",
                   "3.400000"
                  ]
                 },
                 {
                  "Coordinate": [
                   "30.455237",
                   "11.169988",
                   "3.400000"
                  ]
                 },
                 {
                  "Coordinate": [
                   "36.968681",
                   "11.169988",
                   "3.400000"
                  ]
                 }
                ]
               }
              }
             },
             {
              "@isSecondLevelBoundary": "true",
              "@surfaceIdRef": "surface-20",
              "PlanarGeometry": {
               "PolyLoop": {
                "CartesianPoint": [
                 {
                  "Coordinate": [
                   "36.968681",
                   "11.169988",
                   "3.400000"
                  ]
                 },
                 {
                  "Coordinate": [
                   "30.455237",
                   "11.169988",
                   "3.400000"
                  ]
                 },
                 {
                  "Coordinate": [
                   "30.455237",
                   "11.169988",
                   "6.800000"
                  ]
                 },
                 {
                  "Coordinate": [
                   "36.968681",
                   "11.169988",
                   "6.800000"
                  ]
                 }
                ]
               }
              }
             },
             {
              "@isSecondLevelBoundary": "true",
              "@surfaceIdRef": "surface-91",
              "PlanarGeometry": {
               "PolyLoop": {
                "CartesianPoint": [
                 {
                  "Coordinate": [
                   "30.455237",
                   "3.970000",
                   "3.400000"
                  ]
                 },
                 {
                  "Coordinate": [
                   "33.715237",
                   "3.970000",
                   "3.400000"
                  ]
                 },
                 {
                  "Coordinate": [
                   "33.715237",
                   "3.970000",
                   "6.800000"
                  ]
                 },
                 {
                  "Coordinate": [
                   "30.455237",
                   "3.970000",
                   "6.800000"
                  ]
                 }
                ]
               }
              }
             },
             {
              "@isSecondLevelBoundary": "true",
              "@surfaceIdRef": "surface-97",
              "PlanarGeometry": {
               "PolyLoop": {
                "CartesianPoint": [
                 {
                  "Coordinate": [
                   "36.968681",
                   "3.970000",
                   "3.400000"
                  ]
                 },
                 {
                  "Coordinate": [
                   "36.968681",
                   "11.169988",
                   "3.400000"
                  ]
                 },
                 {
                  "Coordinate": [
                   "36.968681",
                   "11.169988",
                   "6.800000"
                  ]
                 },
                 {
                  "Coordinate": [
                   "36.968681",
                   "3.970000",
                   "6.800000"
                  ]
                 }
                ]
               }
              }
             },
             {
              "@isSecondLevelBoundary": "true",
              "@surfaceIdRef": "surface-98",
              "PlanarGeometry": {
               "PolyLoop": {
                "CartesianPoint": [
                 {
                  "Coordinate": [
                   "36.968681",
                   "11.169988",
                   "6.800000"
                  ]
                 },
                 {
                  "Coordinate": [
                   "30.455237",
                   "11.169988",
                   "6.800000"
                  ]
                 },
                 {
                  "Coordinate": [
                   "30.455237",
                   "3.970000",
                   "6.800000"
                  ]
                 },
                 {
                  "Coordinate": [
                   "36.968681",
                   "3.970000",
                   "6.800000"
                  ]
                 }
                ]
               }
              }
             },
             {
              "@isSecondLevelBoundary": "true",
              "@surfaceIdRef": "surface-99",
              "PlanarGeometry": {
               "PolyLoop": {
                "CartesianPoint": [
                 {
                  "Coordinate": [
                   "36.968681",
                   "3.970000",
                   "6.800000"
                  ]
                 },
                 {
                  "Coordinate": [
                   "33.715237",
                   "3.970000",
                   "6.800000"
                  ]
                 },
                 {
                  "Coordinate": [
                   "33.715237",
                   "3.970000",
                   "3.400000"
                  ]
                 },
                 {
                  "Coordinate": [
                   "36.968681",
                   "3.970000",
                   "3.400000"
                  ]
                 }
                ]
               }
              }
             },
             {
              "@isSecondLevelBoundary": "true",
              "@surfaceIdRef": "surface-100",
              "PlanarGeometry": {
               "PolyLoop": {
                "CartesianPoint": [
                 {
                  "Coordinate": [
                   "30.455237",
                   "3.970000",
                   "6.800000"
                  ]
                 },
                 {
                  "Coordinate": [
                   "30.455237",
                   "11.169988",
                   "6.800000"
                  ]
                 },
                 {
                  "Coordinate": [
                   "30.455237",
                   "11.169988",
                   "3.400000"
                  ]
                 },
                 {
                  "Coordinate": [
                   "30.455237",
                   "3.970000",
                   "3.400000"
                  ]
                 }
                ]
               }
              }
             }
            ],
            "TypeCode": "0",
            "Volume": "159.448843"
           },
           {
            "@buildingStoreyIdRef": "STOREY_1",
            "@conditionType": "HeatedAndCooled",
            "@id": "TR000012",
            "@zoneIdRef": "ZONE_2",
            "Area": "16.620753",
            "CADObjectId": "TR000012",
            "Name": "B_01_05_R12_Corridor",
            "ShellGeometry": {
             "@id": "TR000012-shellgeometry",
             "ClosedShell": {
              "PolyLoop": [
               {
                "CartesianPoint": [
                 {
                  "Coordinate": [
                   "30.455237",
                   "11.169988",
                   "3.400000"
                  ]
                 },
                 {
                  "Coordinate": [
                   "29.193419",
                   "11.169988",
                   "3.400000"
                  ]
                 },
                 {
                  "Coordinate": [
                   "29.193419",
                   "11.169988",
                   "6.800000"
                  ]
                 },
                 {
                  "Coordinate": [
                   "30.455237",
                   "11.169988",
                   "6.800000"
                  ]
                 }
                ]
               },
               {
                "CartesianPoint": [
                 {
                  "Coordinate": [
                   "29.193419",
                   "0.394968",
                   "3.400000"
                  ]
                 },
                 {
                  "Coordinate": [
                   "32.821140",
                   "0.394968",
                   "3.400000"
                  ]
                 },
                 {
                  "Coordinate": [
                   "32.821140",
                   "0.394968",
                   "6.800000"
                  ]
                 },
                 {
                  "Coordinate": [
                   "29.193419",
                   "0.394968",
                   "6.800000"
                  ]
                 }
                ]
               },
               {
                "CartesianPoint": [
                 {
                  "Coordinate": [
                   "32.815237",
                   "1.670000",
                   "6.800000"
                  ]
                 },
                 {
                  "Coordinate": [
                   "32.821140",
                   "0.394968",
                   "6.800000"
                  ]
                 },
                 {
                  "Coordinate": [
                   "32.821140",
                   "0.394968",
                   "3.400000"
                  ]
                 },
                 {
                  "Coordinate": [
                   "32.815237",
                   "1.670000",
                   "3.400000"
                  ]
                 }
                ]
               },
               {
                "CartesianPoint": [
                 {
                  "Coordinate": [
                   "30.455237",
                   "1.680000",
                   "6.800000"
                  ]
                 },
                 {
                  "Coordinate": [
                   "32.815237",
                   "1.670000",
                   "6.800000"
                  ]
                 },
                 {
                  "Coordinate": [
                   "32.815237",
                   "1.670000",
                   "3.400000"
                  ]
                 },
                 {
                  "Coordinate": [
                   "30.455237",
                   "1.680000",
                   "3.400000"
                  ]
                 }
                ]
               },
               {
                "CartesianPoint": [
                 {
                  "Coordinate": [
                   "29.193419",
                   "11.169988",
                   "3.400000"
                  ]
                 },
                 {
                  "Coordinate": [
                   "29.193419",
                   "0.394968",
                   "3.400000"
                  ]
                 },
                 {
                  "Coordinate": [
                   "29.193419",
                   "0.394968",
                   "6.800000"
                  ]
                 },
                 {
                  "Coordinate": [
                   "29.193419",
                   "11.169988",
                   "6.800000"
                  ]
                 }
                ]
               },
               {
                "CartesianPoint": [
                 {
                  "Coordinate": [
                   "30.455237",
                   "1.680000",
                   "3.400000"
                  ]
                 },
                 {
                  "Coordinate": [
                   "32.815237",
                   "1.670000",
                   "3.400000"
                  ]
                 },
                 {
                  "Coordinate": [
                   "32.821140",
                   "0.394968",
                   "3.400000"
                  ]
                 },
                 {
                  "Coordinate": [
                   "29.193419",
                   "0.394968",
                   "3.400000"
                  ]
                 },
                 {
                  "Coordinate": [
                   "29.193419",
                   "11.169988",
                   "3.400000"
                  ]
                 },
                 {
                  "Coordinate": [
                   "30.455237",
                   "11.169988",
                   "3.400000"
                  ]
                 }
                ]
               },
               {
                "CartesianPoint": [
                 {
                  "Coordinate": [
                   "29.193419",
                   "0.394968",
                   "6.800000"
                  ]
                 },
                 {
                  "Coordinate": [
                   "32.821140",
                   "0.394968",
                   "6.800000"
                  ]
                 },
                 {
                  "Coordinate": [
                   "32.815237",
                   "1.670000",
                   "6.800000"
                  ]
                 },
                 {
                  "Coordinate": [
                   "30.455237",
                   "1.680000",
                   "6.800000"
                  ]
                 },
                 {
                  "Coordinate": [
                   "30.455237",
                   "11.169988",
                   "6.800000"
                  ]
                 },
                 {
                  "Coordinate": [
                   "29.193419",
                   "11.169988",
                   "6.800000"
                  ]
                 }
                ]
               },
               {
                "CartesianPoint": [
                 {
                  "Coordinate": [
                   "30.455237",
                   "1.680000",
                   "3.400000"
                  ]
                 },
                 {
                  "Coordinate": [
                   "30.455237",
                   "11.169988",
                   "3.400000"
                  ]
                 },
                 {
                  "Coordinate": [
                   "30.455237",
                   "11.169988",
                   "6.800000"
                  ]
                 },
                 {
                  "Coordinate": [
                   "30.455237",
                   "1.680000",
                   "6.800000"
                  ]
                 }
                ]
               }
              ]
             }
            },
            "SpaceBoundary": [
             {
              "@isSecondLevelBoundary": "true",
              "@surfaceIdRef": "surface-11",
              "PlanarGeometry": {
               "PolyLoop": {
                "CartesianPoint": [
                 {
                  "Coordinate": [
                   "30.455237",
                   "3.969988",
                   "3.400000"
                  ]
                 },
                 {
                  "Coordinate": [
                   "29.193419",
                   "3.969988",
                   "3.400000"
                  ]
                 },
                 {
                  "Coordinate": [
                   "29.193419",
                   "11.169988",
                   "3.400000"
                  ]
                 },
                 {
                  "Coordinate": [
                   "30.455237",
                   "11.169988",
                   "3.400000"
                  ]
                 }
                ]
               }
              }
             },
             {
              "@isSecondLevelBoundary": "true",
              "@surfaceIdRef": "surface-21",
              "PlanarGeometry": {
               "PolyLoop": {
                "CartesianPoint": [
                 {
                  "Coordinate": [
                   "30.455237",
                   "11.169988",
                   "3.400000"
                  ]
                 },
                 {
                  "Coordinate": [
                   "29.193419",
                   "11.169988",
                   "3.400000"
                  ]
                 },
                 {
                  "Coordinate": [
                   "29.193419",
                   "11.169988",
                   "6.800000"
                  ]
                 },
                 {
                  "Coordinate": [
                   "30.455237",
                   "11.169988",
                   "6.800000"
                  ]
                 }
                ]
               }
              }
             },
             {
              "@isSecondLevelBoundary": "true",
              "@surfaceIdRef": "surface-24",
              "PlanarGeometry": {
               "PolyLoop": {
                "CartesianPoint": [
                 {
                  "Coordinate": [
                   "30.455237",
                   "1.680000",
                   "3.400000"
                  ]
                 },
                 {
                  "Coordinate": [
                   "30.493681",
                   "1.679837",
                   "3.400000"
                  ]
                 },
                 {
                  "Coordinate": [
                   "30.493681",
                   "0.394968",
                   "3.400000"
                  ]
                 },
                 {
                  "Coordinate": [
                   "29.193419",
                   "0.394968",
                   "3.400000"
                  ]
                 },
                 {
                  "Coordinate": [
                   "29.193419",
                   "2.205237",
                   "3.400000"
                  ]
                 },
                 {
                  "Coordinate": [
                   "30.455237",
                   "2.205237",
                   "3.400000"
                  ]
                 }
                ]
               }
              }
             },
             {
              "@isSecondLevelBoundary": "true",
              "@surfaceIdRef": "surface-68",
              "PlanarGeometry": {
               "PolyLoop": {
                "CartesianPoint": [
                 {
                  "Coordinate": [
                   "31.483681",
                   "1.675642",
                   "3.400000"
                  ]
                 },
                 {
                  "Coordinate": [
                   "31.483681",
                   "0.394968",
                   "3.400000"
                  ]
                 },
                 {
                  "Coordinate": [
                   "30.493681",
                   "0.394968",
                   "3.400000"
                  ]
                 },
                 {
                  "Coordinate": [
                   "30.493681",
                   "1.679837",
                   "3.400000"
                  ]
                 }
                ]
               }
              }
             },
             {
              "@isSecondLevelBoundary": "true",
              "@surfaceIdRef": "surface-73",
              "PlanarGeometry": {
               "PolyLoop": {
                "CartesianPoint": [
                 {
                  "Coordinate": [
                   "32.363681",
                   "1.671913",
                   "3.400000"
                  ]
                 },
                 {
                  "Coordinate": [
                   "32.363681",
                   "0.394968",
                   "3.400000"
                  ]
                 },
                 {
                  "Coordinate": [
                   "31.483681",
                   "0.394968",
                   "3.400000"
                  ]
                 },
                 {
                  "Coordinate": [
                   "31.483681",
                   "1.675642",
                   "3.400000"
                  ]
                 }
                ]
               }
              }
             },
             {
              "@isSecondLevelBoundary": "true",
              "@surfaceIdRef": "surface-79",
              "PlanarGeometry": {
               "PolyLoop": {
                "CartesianPoint": [
                 {
                  "Coordinate": [
                   "32.815237",
                   "1.670000",
                   "3.400000"
                  ]
                 },
                 {
                  "Coordinate": [
                   "32.821140",
                   "0.394968",
                   "3.400000"
                  ]
                 },
                 {
                  "Coordinate": [
                   "32.363681",
                   "0.394968",
                   "3.400000"
                  ]
                 },
                 {
                  "Coordinate": [
                   "32.363681",
                   "1.671913",
                   "3.400000"
                  ]
                 }
                ]
               }
              }
             },
             {
              "@isSecondLevelBoundary": "true",
              "@surfaceIdRef": "surface-92",
              "PlanarGeometry": {
               "PolyLoop": {
                "CartesianPoint": [
                 {
                  "Coordinate": [
                   "32.815237",
                   "1.670000",
                   "3.400000"
                  ]
                 },
                 {
                  "Coordinate": [
                   "30.455237",
                   "1.680000",
                   "3.400000"
                  ]
                 },
                 {
                  "Coordinate": [
                   "30.455237",
                   "1.680000",
                   "6.800000"
                  ]
                 },
                 {
                  "Coordinate": [
                   "32.815237",
                   "1.670000",
                   "6.800000"
                  ]
                 }
                ]
               }
              }
             },
             {
              "@isSecondLevelBoundary": "true",
              "@surfaceIdRef": "surface-93",
              "PlanarGeometry": {
               "PolyLoop": {
                "CartesianPoint": [
                 {
                  "Coordinate": [
                   "30.455237",
                   "1.680000",
                   "3.400000"
                  ]
                 },
                 {
                  "Coordinate": [
                   "30.455237",
                   "3.970000",
                   "3.400000"
                  ]
                 },
                 {
                  "Coordinate": [
                   "30.455237",
                   "3.970000",
                   "6.800000"
                  ]
                 },
                 {
                  "Coordinate": [
                   "30.455237",
                   "1.680000",
                   "6.800000"
                  ]
                 }
                ]
               }
              }
             },
             {
              "@isSecondLevelBoundary": "true",
              "@surfaceIdRef": "surface-100",
              "PlanarGeometry": {
               "PolyLoop": {
                "CartesianPoint": [
                 {
                  "Coordinate": [
                   "30.455237",
                   "3.970000",
                   "3.400000"
                  ]
                 },
                 {
                  "Coordinate": [
                   "30.455237",
                   "11.169988",
                   "3.400000"
                  ]
                 },
                 {
                  "Coordinate": [
                   "30.455237",
                   "11.169988",
                   "6.800000"
                  ]
                 },
                 {
                  "Coordinate": [
                   "30.455237",
                   "3.970000",
                   "6.800000"
                  ]
                 }
                ]
               }
              }
             },
             {
              "@isSecondLevelBoundary": "true",
              "@surfaceIdRef": "surface-101",
              "PlanarGeometry": {
               "PolyLoop": {
                "CartesianPoint": [
                 {
                  "Coordinate": [
                   "29.193419",
                   "0.394968",
                   "3.400000"
                  ]
                 },
                 {
                  "Coordinate": [
                   "32.821140",
                   "0.394968",
                   "3.400000"
                  ]
                 },
                 {
                  "Coordinate": [
                   "32.821140",
                   "0.394968",
                   "6.800000"
                  ]
                 },
                 {
                  "Coordinate": [
                   "29.193419",
                   "0.394968",
                   "6.800000"
                  ]
                 }
                ]
               }
              }
             },
             {
              "@isSecondLevelBoundary": "true",
              "@surfaceIdRef": "surface-102",
              "PlanarGeometry": {
               "PolyLoop": {
                "CartesianPoint": [
                 {
                  "Coordinate": [
                   "32.821140",
                   "0.394968",
                   "3.400000"
                  ]
                 },
                 {
                  "Coordinate": [
                   "32.815237",
                   "1.670000",
                   "3.400000"
                  ]
                 },
                 {
                  "Coordinate": [
                   "32.815237",
                   "1.670000",
                   "6.800000"
                  ]
                 },
                 {
                  "Coordinate": [
                   "32.821140",
                   "0.394968",
                   "6.800000"
                  ]
                 }
                ]
               }
              }
             },
             {
              "@isSecondLevelBoundary": "true",
              "@surfaceIdRef": "surface-103",
              "PlanarGeometry": {
               "PolyLoop": {
                "CartesianPoint": [
                 {
                  "Coordinate": [
                   "29.193419",
                   "11.169988",
                   "3.400000"
                  ]
                 },
                 {
                  "Coordinate": [
                   "29.193419",
                   "0.394968",
                   "3.400000"
                  ]
                 },
                 {
                  "Coordinate": [
                   "29.193419",
                   "0.394968",
                   "6.800000"
                  ]
                 },
                 {
                  "Coordinate": [
                   "29.193419",
                   "11.169988",
                   "6.800000"
                  ]
                 }
                ]
               }
              }
             },
             {
              "@isSecondLevelBoundary": "true",
              "@surfaceIdRef": "surface-104",
              "PlanarGeometry": {
               "PolyLoop": {
                "CartesianPoint": [
                 {
                  "Coordinate": [
                   "30.455237",
                   "2.205237",
                   "3.400000"
                  ]
                 },
                 {
                  "Coordinate": [
                   "29.193419",
                   "2.205237",
                   "3.400000"
                  ]
                 },
                 {
                  "Coordinate": [
                   "29.193419",
                   "3.969988",
                   "3.400000"
                  ]
                 },
                 {
                  "Coordinate": [
                   "30.455237",
                   "3.969988",
                   "3.400000"
                  ]
                 }
                ]
               }
              }
             },
             {
              "@isSecondLevelBoundary": "true",
              "@surfaceIdRef": "surface-105",
              "PlanarGeometry": {
               "PolyLoop": {
                "CartesianPoint": [
                 {
                  "Coordinate": [
                   "29.193419",
                   "0.394968",
                   "6.800000"
                  ]
                 },
                 {
                  "Coordinate": [
                   "32.821140",
                   "0.394968",
                   "6.800000"
                  ]
                 },
                 {
                  "Coordinate": [
                   "32.815237",
                   "1.670000",
                   "6.800000"
                  ]
                 },
                 {
                  "Coordinate": [
                   "30.455237",
                   "1.680000",
                   "6.800000"
                  ]
                 },
                 {
                  "Coordinate": [
                   "30.455237",
                   "11.169988",
                   "6.800000"
                  ]
                 },
                 {
                  "Coordinate": [
                   "29.193419",
                   "11.169988",
                   "6.800000"
                  ]
                 }
                ]
               }
              }
             }
            ],
            "TypeCode": "0",
            "Volume": "56.510560"
           },
           {
            "@buildingStoreyIdRef": "STOREY_1",
            "@conditionType": "HeatedAndCooled",
            "@id": "TR000010",
            "@zoneIdRef": "ZONE_2",
            "Area": "1.763367",
            "CADObjectId": "TR000010",
            "Name": "B_01_06_XX_Riser",
            "ShellGeometry": {
             "@id": "TR000010-shellgeometry",
             "ClosedShell": {
              "PolyLoop": [
               {
                "CartesianPoint": [
                 {
                  "Coordinate": [
                   "36.968681",
                   "3.428000",
                   "3.400000"
                  ]
                 },
                 {
                  "Coordinate": [
                   "36.968681",
                   "3.970000",
                   "3.400000"
                  ]
                 },
                 {
                  "Coordinate": [
                   "36.968681",
                   "3.970000",
                   "6.800000"
                  ]
                 },
                 {
                  "Coordinate": [
                   "36.968681",
                   "3.428000",
                   "6.800000"
                  ]
                 }
                ]
               },
               {
                "CartesianPoint": [
                 {
                  "Coordinate": [
                   "36.968681",
                   "3.428000",
                   "3.400000"
                  ]
                 },
                 {
                  "Coordinate": [
                   "33.715237",
                   "3.428000",
                   "3.400000"
                  ]
                 },
                 {
                  "Coordinate": [
                   "33.715237",
                   "3.970000",
                   "3.400000"
                  ]
                 },
                 {
                  "Coordinate": [
                   "36.968681",
                   "3.970000",
                   "3.400000"
                  ]
                 }
                ]
               },
               {
                "CartesianPoint": [
                 {
                  "Coordinate": [
                   "36.968681",
                   "3.970000",
                   "6.800000"
                  ]
                 },
                 {
                  "Coordinate": [
                   "33.715237",
                   "3.970000",
                   "6.800000"
                  ]
                 },
                 {
                  "Coordinate": [
                   "33.715237",
                   "3.428000",
                   "6.800000"
                  ]
                 },
                 {
                  "Coordinate": [
                   "36.968681",
                   "3.428000",
                   "6.800000"
                  ]
                 }
                ]
               },
               {
                "CartesianPoint": [
                 {
                  "Coordinate": [
                   "36.968681",
                   "3.970000",
                   "3.400000"
                  ]
                 },
                 {
                  "Coordinate": [
                   "33.715237",
                   "3.970000",
                   "3.400000"
                  ]
                 },
                 {
                  "Coordinate": [
                   "33.715237",
                   "3.970000",
                   "6.800000"
                  ]
                 },
                 {
                  "Coordinate": [
                   "36.968681",
                   "3.970000",
                   "6.800000"
                  ]
                 }
                ]
               },
               {
                "CartesianPoint": [
                 {
                  "Coordinate": [
                   "33.715237",
                   "3.970000",
                   "3.400000"
                  ]
                 },
                 {
                  "Coordinate": [
                   "33.715237",
                   "3.428000",
                   "3.400000"
                  ]
                 },
                 {
                  "Coordinate": [
                   "33.715237",
                   "3.428000",
                   "6.800000"
                  ]
                 },
                 {
                  "Coordinate": [
                   "33.715237",
                   "3.970000",
                   "6.800000"
                  ]
                 }
                ]
               },
               {
                "CartesianPoint": [
                 {
                  "Coordinate": [
                   "33.715237",
                   "3.428000",
                   "3.400000"
                  ]
                 },
                 {
                  "Coordinate": [
                   "36.968681",
                   "3.428000",
                   "3.400000"
                  ]
                 },
                 {
                  "Coordinate": [
                   "36.968681",
                   "3.428000",
                   "6.800000"
                  ]
                 },
                 {
                  "Coordinate": [
                   "33.715237",
                   "3.428000",
                   "6.800000"
                  ]
                 }
                ]
               }
              ]
             }
            },
            "SpaceBoundary": [
             {
              "@isSecondLevelBoundary": "true",
              "@surfaceIdRef": "surface-10",
              "PlanarGeometry": {
               "PolyLoop": {
                "CartesianPoint": [
                 {
                  "Coordinate": [
                   "36.968681",
                   "3.969988",
                   "3.400000"
                  ]
                 },
                 {
                  "Coordinate": [
                   "33.715237",
                   "3.969988",
                   "3.400000"
                  ]
                 },
                 {
                  "Coordinate": [
                   "33.715237",
                   "3.970000",
                   "3.400000"
                  ]
                 },
                 {
                  "Coordinate": [
                   "36.968681",
                   "3.970000",
                   "3.400000"
                  ]
                 }
                ]
               }
              }
             },
             {
              "@isSecondLevelBoundary": "true",
              "@surfaceIdRef": "surface-51",
              "PlanarGeometry": {
               "PolyLoop": {
                "CartesianPoint": [
                 {
                  "Coordinate": [
                   "36.968681",
                   "3.428000",
                   "3.400000"
                  ]
                 },
                 {
                  "Coordinate": [
                   "33.715237",
                   "3.428000",
                   "3.400000"
                  ]
                 },
                 {
                  "Coordinate": [
                   "33.715237",
                   "3.969988",
                   "3.400000"
                  ]
                 },
                 {
                  "Coordinate": [
                   "36.968681",
                   "3.969988",
                   "3.400000"
                  ]
                 }
                ]
               }
              }
             },
             {
              "@isSecondLevelBoundary": "true",
              "@surfaceIdRef": "surface-94",
              "PlanarGeometry": {
               "PolyLoop": {
                "CartesianPoint": [
                 {
                  "Coordinate": [
                   "33.715237",
                   "3.970000",
                   "3.400000"
                  ]
                 },
                 {
                  "Coordinate": [
                   "33.715237",
                   "3.428000",
                   "3.400000"
                  ]
                 },
                 {
                  "Coordinate": [
                   "33.715237",
                   "3.428000",
                   "6.800000"
                  ]
                 },
                 {
                  "Coordinate": [
                   "33.715237",
                   "3.970000",
                   "6.800000"
                  ]
                 }
                ]
               }
              }
             },
             {
              "@isSecondLevelBoundary": "true",
              "@surfaceIdRef": "surface-99",
              "PlanarGeometry": {
               "PolyLoop": {
                "CartesianPoint": [
                 {
                  "Coordinate": [
                   "36.968681",
                   "3.970000",
                   "3.400000"
                  ]
                 },
                 {
                  "Coordinate": [
                   "33.715237",
                   "3.970000",
                   "3.400000"
                  ]
                 },
                 {
                  "Coordinate": [
                   "33.715237",
                   "3.970000",
                   "6.800000"
                  ]
                 },
                 {
                  "Coordinate": [
                   "36.968681",
                   "3.970000",
                   "6.800000"
                  ]
                 }
                ]
               }
              }
             },
             {
              "@isSecondLevelBoundary": "true",
              "@surfaceIdRef": "surface-106",
              "PlanarGeometry": {
               "PolyLoop": {
                "CartesianPoint": [
                 {
                  "Coordinate": [
                   "36.968681",
                   "3.428000",
                   "3.400000"
                  ]
                 },
                 {
                  "Coordinate": [
                   "36.968681",
                   "3.970000",
                   "3.400000"
                  ]
                 },
                 {
                  "Coordinate": [
                   "36.968681",
                   "3.970000",
                   "6.800000"
                  ]
                 },
                 {
                  "Coordinate": [
                   "36.968681",
                   "3.428000",
                   "6.800000"
                  ]
                 }
                ]
               }
              }
             },
             {
              "@isSecondLevelBoundary": "true",
              "@surfaceIdRef": "surface-107",
              "PlanarGeometry": {
               "PolyLoop": {
                "CartesianPoint": [
                 {
                  "Coordinate": [
                   "36.968681",
                   "3.970000",
                   "6.800000"
                  ]
                 },
                 {
                  "Coordinate": [
                   "33.715237",
                   "3.970000",
                   "6.800000"
                  ]
                 },
                 {
                  "Coordinate": [
                   "33.715237",
                   "3.428000",
                   "6.800000"
                  ]
                 },
                 {
                  "Coordinate": [
                   "36.968681",
                   "3.428000",
                   "6.800000"
                  ]
                 }
                ]
               }
              }
             },
             {
              "@isSecondLevelBoundary": "true",
              "@surfaceIdRef": "surface-108",
              "PlanarGeometry": {
               "PolyLoop": {
                "CartesianPoint": [
                 {
                  "Coordinate": [
                   "36.968681",
                   "3.428000",
                   "6.800000"
                  ]
                 },
                 {
                  "Coordinate": [
                   "33.715237",
                   "3.428000",
                   "6.800000"
                  ]
                 },
                 {
                  "Coordinate": [
                   "33.715237",
                   "3.428000",
                   "3.400000"
                  ]
                 },
                 {
                  "Coordinate": [
                   "36.968681",
                   "3.428000",
                   "3.400000"
                  ]
                 }
                ]
               }
              }
             }
            ],
            "TypeCode": "0",
            "Volume": "5.995447"
           },
           {
            "@buildingStoreyIdRef": "STOREY_1",
            "@conditionType": "HeatedAndCooled",
            "@id": "B0000000",
            "@zoneIdRef": "ZONE_2",
            "Area": "11.011565",
            "CADObjectId": "B0000000",
            "Name": "B_01_03_R13_WC/Shower",
            "ShellGeometry": {
             "@id": "B0000000-shellgeometry",
             "ClosedShell": {
              "PolyLoop": [
               {
                "CartesianPoint": [
                 {
                  "Coordinate": [
                   "32.821140",
                   "0.394968",
                   "3.400000"
                  ]
                 },
                 {
                  "Coordinate": [
                   "36.968681",
                   "0.394968",
                   "3.400000"
                  ]
                 },
                 {
                  "Coordinate": [
                   "36.968681",
                   "0.394968",
                   "6.800000"
                  ]
                 },
                 {
                  "Coordinate": [
                   "32.821140",
                   "0.394968",
                   "6.800000"
                  ]
                 }
                ]
               },
               {
                "CartesianPoint": [
                 {
                  "Coordinate": [
                   "36.968681",
                   "0.394968",
                   "3.400000"
                  ]
                 },
                 {
                  "Coordinate": [
                   "36.968681",
                   "3.428000",
                   "3.400000"
                  ]
                 },
                 {
                  "Coordinate": [
                   "36.968681",
                   "3.428000",
                   "6.800000"
                  ]
                 },
                 {
                  "Coordinate": [
                   "36.968681",
                   "0.394968",
                   "6.800000"
                  ]
                 }
                ]
               },
               {
                "CartesianPoint": [
                 {
                  "Coordinate": [
                   "36.968681",
                   "0.394968",
                   "3.400000"
                  ]
                 },
                 {
                  "Coordinate": [
                   "32.821140",
                   "0.394968",
                   "3.400000"
                  ]
                 },
                 {
                  "Coordinate": [
                   "32.815237",
                   "1.670000",
                   "3.400000"
                  ]
                 },
                 {
                  "Coordinate": [
                   "33.715237",
                   "1.670000",
                   "3.400000"
                  ]
                 },
                 {
                  "Coordinate": [
                   "33.715237",
                   "3.428000",
                   "3.400000"
                  ]
                 },
                 {
                  "Coordinate": [
                   "36.968681",
                   "3.428000",
                   "3.400000"
                  ]
                 }
                ]
               },
               {
                "CartesianPoint": [
                 {
                  "Coordinate": [
                   "36.968681",
                   "3.428000",
                   "6.800000"
                  ]
                 },
                 {
                  "Coordinate": [
                   "33.715237",
                   "3.428000",
                   "6.800000"
                  ]
                 },
                 {
                  "Coordinate": [
                   "33.715237",
                   "1.670000",
                   "6.800000"
                  ]
                 },
                 {
                  "Coordinate": [
                   "32.815237",
                   "1.670000",
                   "6.800000"
                  ]
                 },
                 {
                  "Coordinate": [
                   "32.821140",
                   "0.394968",
                   "6.800000"
                  ]
                 },
                 {
                  "Coordinate": [
                   "36.968681",
                   "0.394968",
                   "6.800000"
                  ]
                 }
                ]
               },
               {
                "CartesianPoint": [
                 {
                  "Coordinate": [
                   "32.815237",
                   "1.670000",
                   "3.400000"
                  ]
                 },
                 {
                  "Coordinate": [
                   "32.821140",
                   "0.394968",
                   "3.400000"
                  ]
                 },
                 {
                  "Coordinate": [
                   "32.821140",
                   "0.394968",
                   "6.800000"
                  ]
                 },
                 {
                  "Coordinate": [
                   "32.815237",
                   "1.670000",
                   "6.800000"
                  ]
                 }
                ]
               },
               {
                "CartesianPoint": [
                 {
                  "Coordinate": [
                   "33.715237",
                   "3.428000",
                   "3.400000"
                  ]
                 },
                 {
                  "Coordinate": [
                   "33.715237",
                   "1.670000",
                   "3.400000"
                  ]
                 },
                 {
                  "Coordinate": [
                   "33.715237",
                   "1.670000",
                   "6.800000"
                  ]
                 },
                 {
                  "Coordinate": [
                   "33.715237",
                   "3.428000",
                   "6.800000"
                  ]
                 }
                ]
               },
               {
                "CartesianPoint": [
                 {
                  "Coordinate": [
                   "32.815237",
                   "1.670000",
                   "6.800000"
                  ]
                 },
                 {
                  "Coordinate": [
                   "33.715237",
                   "1.670000",
                   "6.800000"
                  ]
                 },
                 {
                  "Coordinate": [
                   "33.715237",
                   "1.670000",
                   "3.400000"
                  ]
                 },
                 {
                  "Coordinate": [
                   "32.815237",
                   "1.670000",
                   "3.400000"
                  ]
                 }
                ]
               },
               {
                "CartesianPoint": [
                 {
                  "Coordinate": [
                   "33.715237",
                   "3.428000",
                   "6.800000"
                  ]
                 },
                 {
                  "Coordinate": [
                   "36.968681",
                   "3.428000",
                   "6.800000"
                  ]
                 },
                 {
                  "Coordinate": [
                   "36.968681",
                   "3.428000",
                   "3.400000"
                  ]
                 },
                 {
                  "Coordinate": [
                   "33.715237",
                   "3.428000",
                   "3.400000"
                  ]
                 }
                ]
               }
              ]
             }
            },
            "SpaceBoundary": [
             {
              "@isSecondLevelBoundary": "true",
              "@surfaceIdRef": "surface-52",
              "PlanarGeometry": {
               "PolyLoop": {
                "CartesianPoint": [
                 {
                  "Coordinate": [
                   "36.968681",
                   "2.635237",
                   "3.400000"
                  ]
                 },
                 {
                  "Coordinate": [
                   "35.433681",
                   "2.635237",
                   "3.400000"
                  ]
                 },
                 {
                  "Coordinate": [
                   "35.433681",
                   "2.205237",
                   "3.400000"
                  ]
                 },
                 {
                  "Coordinate": [
                   "33.715237",
                   "2.205237",
                   "3.400000"
                  ]
                 },
                 {
                  "Coordinate": [
                   "33.715237",
                   "3.428000",
                   "3.400000"
                  ]
                 },
                 {
                  "Coordinate": [
                   "36.968681",
                   "3.428000",
                   "3.400000"
                  ]
                 }
                ]
               }
              }
             },
             {
              "@isSecondLevelBoundary": "true",
              "@surfaceIdRef": "surface-63",
              "PlanarGeometry": {
               "PolyLoop": {
                "CartesianPoint": [
                 {
                  "Coordinate": [
                   "36.968681",
                   "0.394968",
                   "3.400000"
                  ]
                 },
                 {
                  "Coordinate": [
                   "35.433681",
                   "0.394968",
                   "3.400000"
                  ]
                 },
                 {
                  "Coordinate": [
                   "35.433681",
                   "2.635237",
                   "3.400000"
                  ]
                 },
                 {
                  "Coordinate": [
                   "36.968681",
                   "2.635237",
                   "3.400000"
                  ]
                 }
                ]
               }
              }
             },
             {
              "@isSecondLevelBoundary": "true",
              "@surfaceIdRef": "surface-78",
              "PlanarGeometry": {
               "PolyLoop": {
                "CartesianPoint": [
                 {
                  "Coordinate": [
                   "33.243681",
                   "0.394968",
                   "3.400000"
                  ]
                 },
                 {
                  "Coordinate": [
                   "32.821140",
                   "0.394968",
                   "3.400000"
                  ]
                 },
                 {
                  "Coordinate": [
                   "32.815237",
                   "1.670000",
                   "3.400000"
                  ]
                 },
                 {
                  "Coordinate": [
                   "33.243681",
                   "1.670000",
                   "3.400000"
                  ]
                 }
                ]
               }
              }
             },
             {
              "@isSecondLevelBoundary": "true",
              "@surfaceIdRef": "surface-83",
              "PlanarGeometry": {
               "PolyLoop": {
                "CartesianPoint": [
                 {
                  "Coordinate": [
                   "35.433681",
                   "0.394968",
                   "3.400000"
                  ]
                 },
                 {
                  "Coordinate": [
                   "34.163681",
                   "0.394968",
                   "3.400000"
                  ]
                 },
                 {
                  "Coordinate": [
                   "34.163681",
                   "2.205237",
                   "3.400000"
                  ]
                 },
                 {
                  "Coordinate": [
                   "35.433681",
                   "2.205237",
                   "3.400000"
                  ]
                 }
                ]
               }
              }
             },
             {
              "@isSecondLevelBoundary": "true",
              "@surfaceIdRef": "surface-88",
              "PlanarGeometry": {
               "PolyLoop": {
                "CartesianPoint": [
                 {
                  "Coordinate": [
                   "34.163681",
                   "0.394968",
                   "3.400000"
                  ]
                 },
                 {
                  "Coordinate": [
                   "33.243681",
                   "0.394968",
                   "3.400000"
                  ]
                 },
                 {
                  "Coordinate": [
                   "33.243681",
                   "1.670000",
                   "3.400000"
                  ]
                 },
                 {
                  "Coordinate": [
                   "33.715237",
                   "1.670000",
                   "3.400000"
                  ]
                 },
                 {
                  "Coordinate": [
                   "33.715237",
                   "2.205237",
                   "3.400000"
                  ]
                 },
                 {
                  "Coordinate": [
                   "34.163681",
                   "2.205237",
                   "3.400000"
                  ]
                 }
                ]
               }
              }
             },
             {
              "@isSecondLevelBoundary": "true",
              "@surfaceIdRef": "surface-95",
              "PlanarGeometry": {
               "PolyLoop": {
                "CartesianPoint": [
                 {
                  "Coordinate": [
                   "33.715237",
                   "3.428000",
                   "3.400000"
                  ]
                 },
                 {
                  "Coordinate": [
                   "33.715237",
                   "1.670000",
                   "3.400000"
                  ]
                 },
                 {
                  "Coordinate": [
                   "33.715237",
                   "1.670000",
                   "6.800000"
                  ]
                 },
                 {
                  "Coordinate": [
                   "33.715237",
                   "3.428000",
                   "6.800000"
                  ]
                 }
                ]
               }
              }
             },
             {
              "@isSecondLevelBoundary": "true",
              "@surfaceIdRef": "surface-96",
              "PlanarGeometry": {
               "PolyLoop": {
                "CartesianPoint": [
                 {
                  "Coordinate": [
                   "33.715237",
                   "1.670000",
                   "3.400000"
                  ]
                 },
                 {
                  "Coordinate": [
                   "32.815237",
                   "1.670000",
                   "3.400000"
                  ]
                 },
                 {
                  "Coordinate": [
                   "32.815237",
                   "1.670000",
                   "6.800000"
                  ]
                 },
                 {
                  "Coordinate": [
                   "33.715237",
                   "1.670000",
                   "6.800000"
                  ]
                 }
                ]
               }
              }
             },
             {
              "@isSecondLevelBoundary": "true",
              "@surfaceIdRef": "surface-102",
              "PlanarGeometry": {
               "PolyLoop": {
                "CartesianPoint": [
                 {
                  "Coordinate": [
                   "32.821140",
                   "0.394968",
                   "6.800000"
                  ]
                 },
                 {
                  "Coordinate": [
                   "32.815237",
                   "1.670000",
                   "6.800000"
                  ]
                 },
                 {
                  "Coordinate": [
                   "32.815237",
                   "1.670000",
                   "3.400000"
                  ]
                 },
                 {
                  "Coordinate": [
                   "32.821140",
                   "0.394968",
                   "3.400000"
                  ]
                 }
                ]
               }
              }
             },
             {
              "@isSecondLevelBoundary": "true",
              "@surfaceIdRef": "surface-108",
              "PlanarGeometry": {
               "PolyLoop": {
                "CartesianPoint": [
                 {
                  "Coordinate": [
                   "36.968681",
                   "3.428000",
                   "3.400000"
                  ]
                 },
                 {
                  "Coordinate": [
                   "33.715237",
                   "3.428000",
                   "3.400000"
                  ]
                 },
                 {
                  "Coordinate": [
                   "33.715237",
                   "3.428000",
                   "6.800000"
                  ]
                 },
                 {
                  "Coordinate": [
                   "36.968681",
                   "3.428000",
                   "6.800000"
                  ]
                 }
                ]
               }
              }
             },
             {
              "@isSecondLevelBoundary": "true",
              "@surfaceIdRef": "surface-109",
              "PlanarGeometry": {
               "PolyLoop": {
                "CartesianPoint": [
                 {
                  "Coordinate": [
                   "32.821140",
                   "0.394968",
                   "3.400000"
                  ]
                 },
                 {
                  "Coordinate": [
                   "36.968681",
                   "0.394968",
                   "3.400000"
                  ]
                 },
                 {
                  "Coordinate": [
                   "36.968681",
                   "0.394968",
                   "6.800000"
                  ]
                 },
                 {
                  "Coordinate": [
                   "32.821140",
                   "0.394968",
                   "6.800000"
                  ]
                 }
                ]
               }
              }
             },
             {
              "@isSecondLevelBoundary": "true",
              "@surfaceIdRef": "surface-110",
              "PlanarGeometry": {
               "PolyLoop": {
                "CartesianPoint": [
                 {
                  "Coordinate": [
                   "36.968681",
                   "0.394968",
                   "3.400000"
                  ]
                 },
                 {
                  "Coordinate": [
                   "36.968681",
                   "3.428000",
                   "3.400000"
                  ]
                 },
                 {
                  "Coordinate": [
                   "36.968681",
                   "3.428000",
                   "6.800000"
                  ]
                 },
                 {
                  "Coordinate": [
                   "36.968681",
                   "0.394968",
                   "6.800000"
                  ]
                 }
                ]
               }
              }
             },
             {
              "@isSecondLevelBoundary": "true",
              "@surfaceIdRef": "surface-111",
              "PlanarGeometry": {
               "PolyLoop": {
                "CartesianPoint": [
                 {
                  "Coordinate": [
                   "36.968681",
                   "3.428000",
                   "6.800000"
                  ]
                 },
                 {
                  "Coordinate": [
                   "33.715237",
                   "3.428000",
                   "6.800000"
                  ]
                 },
                 {
                  "Coordinate": [
                   "33.715237",
                   "1.670000",
                   "6.800000"
                  ]
                 },
                 {
                  "Coordinate": [
                   "32.815237",
                   "1.670000",
                   "6.800000"
                  ]
                 },
                 {
                  "Coordinate": [
                   "32.821140",
                   "0.394968",
                   "6.800000"
                  ]
                 },
                 {
                  "Coordinate": [
                   "36.968681",
                   "0.394968",
                   "6.800000"
                  ]
                 }
                ]
               }
              }
             }
            ],
            "TypeCode": "0",
            "Volume": "37.439322"
           },
           {
            "@buildingStoreyIdRef": "STOREY_1",
            "@conditionType": "HeatedAndCooled",
            "@id": "01000000",
            "@zoneIdRef": "ZONE_1",
            "Area": "21.732013",
            "CADObjectId": "01000000",
            "Name": "A_01_01_R8_Workroom1",
            "ShellGeometry": {
             "@id": "01000000-shellgeometry",
             "ClosedShell": {
              "PolyLoop": [
               {
                "CartesianPoint": [
                 {
                  "Coordinate": [
                   "21.317000",
                   "6.009000",
                   "3.400000"
                  ]
                 },
                 {
                  "Coordinate": [
                   "21.956680",
                   "6.008347",
                   "3.400000"
                  ]
                 },
                 {
                  "Coordinate": [
                   "21.956680",
                   "1.655237",
                   "3.400000"
                  ]
                 },
                 {
                  "Coordinate": [
                   "18.403681",
                   "1.655237",
                   "3.400000"
                  ]
                 },
                 {
                  "Coordinate": [
                   "18.403681",
                   "8.158887",
                   "3.400000"
                  ]
                 },
                 {
                  "Coordinate": [
                   "21.317000",
                   "8.158887",
                   "3.400000"
                  ]
                 }
                ]
               },
               {
                "CartesianPoint": [
                 {
                  "Coordinate": [
                   "21.317000",
                   "8.158887",
                   "6.800000"
                  ]
                 },
                 {
                  "Coordinate": [
                   "18.403681",
                   "8.158887",
                   "6.800000"
                  ]
                 },
                 {
                  "Coordinate": [
                   "18.403681",
                   "1.655237",
                   "6.800000"
                  ]
                 },
                 {
                  "Coordinate": [
                   "21.956680",
                   "1.655237",
                   "6.800000"
                  ]
                 },
                 {
                  "Coordinate": [
                   "21.956680",
                   "6.008347",
                   "6.800000"
                  ]
                 },
                 {
                  "Coordinate": [
                   "21.317000",
                   "6.009000",
                   "6.800000"
                  ]
                 }
                ]
               },
               {
                "CartesianPoint": [
                 {
                  "Coordinate": [
                   "21.317000",
                   "8.158887",
                   "3.400000"
                  ]
                 },
                 {
                  "Coordinate": [
                   "18.403681",
                   "8.158887",
                   "3.400000"
                  ]
                 },
                 {
                  "Coordinate": [
                   "18.403681",
                   "8.158887",
                   "6.800000"
                  ]
                 },
                 {
                  "Coordinate": [
                   "21.317000",
                   "8.158887",
                   "6.800000"
                  ]
                 }
                ]
               },
               {
                "CartesianPoint": [
                 {
                  "Coordinate": [
                   "21.956680",
                   "1.655237",
                   "3.400000"
                  ]
                 },
                 {
                  "Coordinate": [
                   "21.956680",
                   "6.008347",
                   "3.400000"
                  ]
                 },
                 {
                  "Coordinate": [
                   "21.956680",
                   "6.008347",
                   "6.800000"
                  ]
                 },
                 {
                  "Coordinate": [
                   "21.956680",
                   "1.655237",
                   "6.800000"
                  ]
                 }
                ]
               },
               {
                "CartesianPoint": [
                 {
                  "Coordinate": [
                   "18.403681",
                   "1.655237",
                   "3.400000"
                  ]
                 },
                 {
                  "Coordinate": [
                   "21.956680",
                   "1.655237",
                   "3.400000"
                  ]
                 },
                 {
                  "Coordinate": [
                   "21.956680",
                   "1.655237",
                   "6.800000"
                  ]
                 },
                 {
                  "Coordinate": [
                   "18.403681",
                   "1.655237",
                   "6.800000"
                  ]
                 }
                ]
               },
               {
                "CartesianPoint": [
                 {
                  "Coordinate": [
                   "18.403681",
                   "8.158887",
                   "3.400000"
                  ]
                 },
                 {
                  "Coordinate": [
                   "18.403681",
                   "1.655237",
                   "3.400000"
                  ]
                 },
                 {
                  "Coordinate": [
                   "18.403681",
                   "1.655237",
                   "6.800000"
                  ]
                 },
                 {
                  "Coordinate": [
                   "18.403681",
                   "8.158887",
                   "6.800000"
                  ]
                 }
                ]
               },
               {
                "CartesianPoint": [
                 {
                  "Coordinate": [
                   "21.317000",
                   "6.009000",
                   "6.800000"
                  ]
                 },
                 {
                  "Coordinate": [
                   "21.956680",
                   "6.008347",
                   "6.800000"
                  ]
                 },
                 {
                  "Coordinate": [
                   "21.956680",
                   "6.008347",
                   "3.400000"
                  ]
                 },
                 {
                  "Coordinate": [
                   "21.317000",
                   "6.009000",
                   "3.400000"
                  ]
                 }
                ]
               },
               {
                "CartesianPoint": [
                 {
                  "Coordinate": [
                   "21.317000",
                   "8.158887",
                   "6.800000"
                  ]
                 },
                 {
                  "Coordinate": [
                   "21.317000",
                   "6.009000",
                   "6.800000"
                  ]
                 },
                 {
                  "Coordinate": [
                   "21.317000",
                   "6.009000",
                   "3.400000"
                  ]
                 },
                 {
                  "Coordinate": [
                   "21.317000",
                   "8.158887",
                   "3.400000"
                  ]
                 }
                ]
               }
              ]
             }
            },
            "SpaceBoundary": [
             {
              "@isSecondLevelBoundary": "true",
              "@surfaceIdRef": "surface-36",
              "PlanarGeometry": {
               "PolyLoop": {
                "CartesianPoint": [
                 {
                  "Coordinate": [
                   "21.956680",
                   "1.655237",
                   "6.800000"
                  ]
                 },
                 {
                  "Coordinate": [
                   "18.403681",
                   "1.655237",
                   "6.800000"
                  ]
                 },
                 {
                  "Coordinate": [
                   "18.403681",
                   "1.655237",
                   "3.400000"
                  ]
                 },
                 {
                  "Coordinate": [
                   "21.956680",
                   "1.655237",
                   "3.400000"
                  ]
                 }
                ]
               }
              }
             },
             {
              "@isSecondLevelBoundary": "true",
              "@surfaceIdRef": "surface-46",
              "PlanarGeometry": {
               "PolyLoop": {
                "CartesianPoint": [
                 {
                  "Coordinate": [
                   "18.403681",
                   "8.158887",
                   "3.400000"
                  ]
                 },
                 {
                  "Coordinate": [
                   "18.403681",
                   "1.655237",
                   "3.400000"
                  ]
                 },
                 {
                  "Coordinate": [
                   "18.403681",
                   "1.655237",
                   "6.800000"
                  ]
                 },
                 {
                  "Coordinate": [
                   "18.403681",
                   "8.158887",
                   "6.800000"
                  ]
                 }
                ]
               }
              }
             },
             {
              "@isSecondLevelBoundary": "true",
              "@surfaceIdRef": "surface-112",
              "PlanarGeometry": {
               "PolyLoop": {
                "CartesianPoint": [
                 {
                  "Coordinate": [
                   "19.023681",
                   "1.655237",
                   "3.400000"
                  ]
                 },
                 {
                  "Coordinate": [
                   "18.403681",
                   "1.655237",
                   "3.400000"
                  ]
                 },
                 {
                  "Coordinate": [
                   "18.403681",
                   "1.659769",
                   "3.400000"
                  ]
                 }
                ]
               }
              }
             },
             {
              "@isSecondLevelBoundary": "true",
              "@surfaceIdRef": "surface-113",
              "PlanarGeometry": {
               "PolyLoop": {
                "CartesianPoint": [
                 {
                  "Coordinate": [
                   "19.023681",
                   "6.919988",
                   "3.400000"
                  ]
                 },
                 {
                  "Coordinate": [
                   "18.403681",
                   "6.919988",
                   "3.400000"
                  ]
                 },
                 {
                  "Coordinate": [
                   "18.403681",
                   "8.158887",
                   "3.400000"
                  ]
                 },
                 {
                  "Coordinate": [
                   "19.023681",
                   "8.158887",
                   "3.400000"
                  ]
                 }
                ]
               }
              }
             },
             {
              "@isSecondLevelBoundary": "true",
              "@surfaceIdRef": "surface-114",
              "PlanarGeometry": {
               "PolyLoop": {
                "CartesianPoint": [
                 {
                  "Coordinate": [
                   "21.956680",
                   "1.655237",
                   "3.400000"
                  ]
                 },
                 {
                  "Coordinate": [
                   "19.023681",
                   "1.655237",
                   "3.400000"
                  ]
                 },
                 {
                  "Coordinate": [
                   "18.403681",
                   "1.659769",
                   "3.400000"
                  ]
                 },
                 {
                  "Coordinate": [
                   "18.403681",
                   "6.919988",
                   "3.400000"
                  ]
                 },
                 {
                  "Coordinate": [
                   "19.023681",
                   "6.919988",
                   "3.400000"
                  ]
                 },
                 {
                  "Coordinate": [
                   "19.023681",
                   "8.158887",
                   "3.400000"
                  ]
                 },
                 {
                  "Coordinate": [
                   "21.317000",
                   "8.158887",
                   "3.400000"
                  ]
                 },
                 {
                  "Coordinate": [
                   "21.317000",
                   "6.009000",
                   "3.400000"
                  ]
                 },
                 {
                  "Coordinate": [
                   "21.956680",
                   "6.008347",
                   "3.400000"
                  ]
                 }
                ]
               }
              }
             },
             {
              "@isSecondLevelBoundary": "true",
              "@surfaceIdRef": "surface-115",
              "PlanarGeometry": {
               "PolyLoop": {
                "CartesianPoint": [
                 {
                  "Coordinate": [
                   "21.317000",
                   "8.158887",
                   "6.800000"
                  ]
                 },
                 {
                  "Coordinate": [
                   "18.403681",
                   "8.158887",
                   "6.800000"
                  ]
                 },
                 {
                  "Coordinate": [
                   "18.403681",
                   "1.655237",
                   "6.800000"
                  ]
                 },
                 {
                  "Coordinate": [
                   "21.956680",
                   "1.655237",
                   "6.800000"
                  ]
                 },
                 {
                  "Coordinate": [
                   "21.956680",
                   "6.008347",
                   "6.800000"
                  ]
                 },
                 {
                  "Coordinate": [
                   "21.317000",
                   "6.009000",
                   "6.800000"
                  ]
                 }
                ]
               }
              }
             },
             {
              "@isSecondLevelBoundary": "true",
              "@surfaceIdRef": "surface-116",
              "PlanarGeometry": {
               "PolyLoop": {
                "CartesianPoint": [
                 {
                  "Coordinate": [
                   "21.317000",
                   "8.158887",
                   "3.400000"
                  ]
                 },
                 {
                  "Coordinate": [
                   "18.403681",
                   "8.158887",
                   "3.400000"
                  ]
                 },
                 {
                  "Coordinate": [
                   "18.403681",
                   "8.158887",
                   "6.800000"
                  ]
                 },
                 {
                  "Coordinate": [
                   "21.317000",
                   "8.158887",
                   "6.800000"
                  ]
                 }
                ]
               }
              }
             },
             {
              "@isSecondLevelBoundary": "true",
              "@surfaceIdRef": "surface-117",
              "PlanarGeometry": {
               "PolyLoop": {
                "CartesianPoint": [
                 {
                  "Coordinate": [
                   "21.956680",
                   "5.510052",
                   "6.800000"
                  ]
                 },
                 {
                  "Coordinate": [
                   "21.956680",
                   "3.658000",
                   "6.800000"
                  ]
                 },
                 {
                  "Coordinate": [
                   "21.956680",
                   "3.658000",
                   "3.400000"
                  ]
                 },
                 {
                  "Coordinate": [
                   "21.956680",
                   "5.510052",
                   "3.400000"
                  ]
                 }
                ]
               }
              }
             },
             {
              "@isSecondLevelBoundary": "true",
              "@surfaceIdRef": "surface-118",
              "PlanarGeometry": {
               "PolyLoop": {
                "CartesianPoint": [
                 {
                  "Coordinate": [
                   "21.956680",
                   "1.655237",
                   "3.400000"
                  ]
                 },
                 {
                  "Coordinate": [
                   "21.956680",
                   "3.658000",
                   "3.400000"
                  ]
                 },
                 {
                  "Coordinate": [
                   "21.956680",
                   "3.658000",
                   "6.800000"
                  ]
                 },
                 {
                  "Coordinate": [
                   "21.956680",
                   "1.655237",
                   "6.800000"
                  ]
                 }
                ]
               }
              }
             },
             {
              "@isSecondLevelBoundary": "true",
              "@surfaceIdRef": "surface-119",
              "PlanarGeometry": {
               "PolyLoop": {
                "CartesianPoint": [
                 {
                  "Coordinate": [
                   "21.956680",
                   "5.510052",
                   "3.400000"
                  ]
                 },
                 {
                  "Coordinate": [
                   "21.956680",
                   "6.008347",
                   "3.400000"
                  ]
                 },
                 {
                  "Coordinate": [
                   "21.956680",
                   "6.008347",
                   "6.800000"
                  ]
                 },
                 {
                  "Coordinate": [
                   "21.956680",
                   "5.510052",
                   "6.800000"
                  ]
                 }
                ]
               }
              }
             },
             {
              "@isSecondLevelBoundary": "true",
              "@surfaceIdRef": "surface-120",
              "PlanarGeometry": {
               "PolyLoop": {
                "CartesianPoint": [
                 {
                  "Coordinate": [
                   "21.317000",
                   "6.009000",
                   "6.800000"
                  ]
                 },
                 {
                  "Coordinate": [
                   "21.956680",
                   "6.008347",
                   "6.800000"
                  ]
                 },
                 {
                  "Coordinate": [
                   "21.956680",
                   "6.008347",
                   "3.400000"
                  ]
                 },
                 {
                  "Coordinate": [
                   "21.317000",
                   "6.009000",
                   "3.400000"
                  ]
                 }
                ]
               }
              }
             },
             {
              "@isSecondLevelBoundary": "true",
              "@surfaceIdRef": "surface-121",
              "PlanarGeometry": {
               "PolyLoop": {
                "CartesianPoint": [
                 {
                  "Coordinate": [
                   "21.317000",
                   "8.158887",
                   "6.800000"
                  ]
                 },
                 {
                  "Coordinate": [
                   "21.317000",
                   "6.009000",
                   "6.800000"
                  ]
                 },
                 {
                  "Coordinate": [
                   "21.317000",
                   "6.009000",
                   "3.400000"
                  ]
                 },
                 {
                  "Coordinate": [
                   "21.317000",
                   "8.158887",
                   "3.400000"
                  ]
                 }
                ]
               }
              }
             }
            ],
            "TypeCode": "0",
            "Volume": "73.888845"
           },
           {
            "@buildingStoreyIdRef": "STOREY_1",
            "@conditionType": "HeatedAndCooled",
            "@id": "00000002",
            "@zoneIdRef": "ZONE_1",
            "Area": "55.672253",
            "CADObjectId": "00000002",
            "Name": "A_00_01_R1_EventSpace",
            "ShellGeometry": {
             "@id": "00000002-shellgeometry",
             "ClosedShell": {
              "PolyLoop": [
               {
                "CartesianPoint": [
                 {
                  "Coordinate": [
                   "7.563681",
                   "8.158887",
                   "6.800000"
                  ]
                 },
                 {
                  "Coordinate": [
                   "0.405000",
                   "8.158887",
                   "6.800000"
                  ]
                 },
                 {
                  "Coordinate": [
                   "0.405000",
                   "0.382000",
                   "6.800000"
                  ]
                 },
                 {
                  "Coordinate": [
                   "7.563681",
                   "0.382000",
                   "6.800000"
                  ]
                 }
                ]
               },
               {
                "CartesianPoint": [
                 {
                  "Coordinate": [
                   "0.405000",
                   "8.158887",
                   "0.000000"
                  ]
                 },
                 {
                  "Coordinate": [
                   "0.405000",
                   "0.382000",
                   "0.000000"
                  ]
                 },
                 {
                  "Coordinate": [
                   "0.405000",
                   "0.382000",
                   "6.800000"
                  ]
                 },
                 {
                  "Coordinate": [
                   "0.405000",
                   "8.158887",
                   "6.800000"
                  ]
                 }
                ]
               },
               {
                "CartesianPoint": [
                 {
                  "Coordinate": [
                   "0.405000",
                   "0.382000",
                   "0.000000"
                  ]
                 },
                 {
                  "Coordinate": [
                   "7.563681",
                   "0.382000",
                   "0.000000"
                  ]
                 },
                 {
                  "Coordinate": [
                   "7.563681",
                   "0.382000",
                   "6.800000"
                  ]
                 },
                 {
                  "Coordinate": [
                   "0.405000",
                   "0.382000",
                   "6.800000"
                  ]
                 }
                ]
               },
               {
                "CartesianPoint": [
                 {
                  "Coordinate": [
                   "7.563681",
                   "8.158887",
                   "0.000000"
                  ]
                 },
                 {
                  "Coordinate": [
                   "0.405000",
                   "8.158887",
                   "0.000000"
                  ]
                 },
                 {
                  "Coordinate": [
                   "0.405000",
                   "8.158887",
                   "6.800000"
                  ]
                 },
                 {
                  "Coordinate": [
                   "7.563681",
                   "8.158887",
                   "6.800000"
                  ]
                 }
                ]
               },
               {
                "CartesianPoint": [
                 {
                  "Coordinate": [
                   "7.563681",
                   "0.382000",
                   "0.000000"
                  ]
                 },
                 {
                  "Coordinate": [
                   "0.405000",
                   "0.382000",
                   "0.000000"
                  ]
                 },
                 {
                  "Coordinate": [
                   "0.405000",
                   "8.158887",
                   "0.000000"
                  ]
                 },
                 {
                  "Coordinate": [
                   "7.563681",
                   "8.158887",
                   "0.000000"
                  ]
                 }
                ]
               },
               {
                "CartesianPoint": [
                 {
                  "Coordinate": [
                   "7.563681",
                   "0.382000",
                   "0.000000"
                  ]
                 },
                 {
                  "Coordinate": [
                   "7.563681",
                   "8.158887",
                   "0.000000"
                  ]
                 },
                 {
                  "Coordinate": [
                   "7.563681",
                   "8.158887",
                   "6.800000"
                  ]
                 },
                 {
                  "Coordinate": [
                   "7.563681",
                   "0.382000",
                   "6.800000"
                  ]
                 }
                ]
               }
              ]
             }
            },
            "SpaceBoundary": [
             {
              "@isSecondLevelBoundary": "true",
              "@surfaceIdRef": "surface-122",
              "PlanarGeometry": {
               "PolyLoop": {
                "CartesianPoint": [
                 {
                  "Coordinate": [
                   "7.563681",
                   "8.158887",
                   "6.800000"
                  ]
                 },
                 {
                  "Coordinate": [
                   "0.405000",
                   "8.158887",
                   "6.800000"
                  ]
                 },
                 {
                  "Coordinate": [
                   "0.405000",
                   "0.382000",
                   "6.800000"
                  ]
                 },
                 {
                  "Coordinate": [
                   "7.563681",
                   "0.382000",
                   "6.800000"
                  ]
                 }
                ]
               }
              }
             },
             {
              "@isSecondLevelBoundary": "true",
              "@surfaceIdRef": "surface-123",
              "PlanarGeometry": {
               "PolyLoop": {
                "CartesianPoint": [
                 {
                  "Coordinate": [
                   "0.405000",
                   "8.158887",
                   "0.000000"
                  ]
                 },
                 {
                  "Coordinate": [
                   "0.405000",
                   "0.382000",
                   "0.000000"
                  ]
                 },
                 {
                  "Coordinate": [
                   "0.405000",
                   "0.382000",
                   "6.800000"
                  ]
                 },
                 {
                  "Coordinate": [
                   "0.405000",
                   "8.158887",
                   "6.800000"
                  ]
                 }
                ]
               }
              }
             },
             {
              "@isSecondLevelBoundary": "true",
              "@surfaceIdRef": "surface-124",
              "PlanarGeometry": {
               "PolyLoop": {
                "CartesianPoint": [
                 {
                  "Coordinate": [
                   "0.405000",
                   "0.382000",
                   "0.000000"
                  ]
                 },
                 {
                  "Coordinate": [
                   "7.563681",
                   "0.382000",
                   "-0.000000"
                  ]
                 },
                 {
                  "Coordinate": [
                   "7.563681",
                   "0.382000",
                   "6.800000"
                  ]
                 },
                 {
                  "Coordinate": [
                   "0.405000",
                   "0.382000",
                   "6.800000"
                  ]
                 }
                ]
               }
              }
             },
             {
              "@isSecondLevelBoundary": "true",
              "@surfaceIdRef": "surface-125",
              "PlanarGeometry": {
               "PolyLoop": {
                "CartesianPoint": [
                 {
                  "Coordinate": [
                   "7.563681",
                   "8.158887",
                   "0.000000"
                  ]
                 },
                 {
                  "Coordinate": [
                   "0.405000",
                   "8.158887",
                   "0.000000"
                  ]
                 },
                 {
                  "Coordinate": [
                   "0.405000",
                   "8.158887",
                   "6.800000"
                  ]
                 },
                 {
                  "Coordinate": [
                   "7.563681",
                   "8.158887",
                   "6.800000"
                  ]
                 }
                ]
               }
              }
             },
             {
              "@isSecondLevelBoundary": "true",
              "@surfaceIdRef": "surface-126",
              "PlanarGeometry": {
               "PolyLoop": {
                "CartesianPoint": [
                 {
                  "Coordinate": [
                   "7.563681",
                   "0.382000",
                   "0.000000"
                  ]
                 },
                 {
                  "Coordinate": [
                   "0.405000",
                   "0.382000",
                   "0.000000"
                  ]
                 },
                 {
                  "Coordinate": [
                   "0.405000",
                   "8.158887",
                   "0.000000"
                  ]
                 },
                 {
                  "Coordinate": [
                   "7.563681",
                   "8.158887",
                   "0.000000"
                  ]
                 }
                ]
               }
              }
             },
             {
              "@isSecondLevelBoundary": "true",
              "@surfaceIdRef": "surface-127",
              "PlanarGeometry": {
               "PolyLoop": {
                "CartesianPoint": [
                 {
                  "Coordinate": [
                   "7.563681",
                   "8.158887",
                   "6.800000"
                  ]
                 },
                 {
                  "Coordinate": [
                   "7.563681",
                   "0.382000",
                   "6.800000"
                  ]
                 },
                 {
                  "Coordinate": [
                   "7.563681",
                   "0.382000",
                   "3.400000"
                  ]
                 },
                 {
                  "Coordinate": [
                   "7.563681",
                   "8.158887",
                   "3.400000"
                  ]
                 }
                ]
               }
              }
             },
             {
              "@isSecondLevelBoundary": "true",
              "@surfaceIdRef": "surface-128",
              "PlanarGeometry": {
               "PolyLoop": {
                "CartesianPoint": [
                 {
                  "Coordinate": [
                   "7.563681",
                   "8.158887",
                   "3.400000"
                  ]
                 },
                 {
                  "Coordinate": [
                   "7.563681",
                   "0.382000",
                   "3.400000"
                  ]
                 },
                 {
                  "Coordinate": [
                   "7.563681",
                   "0.382000",
                   "0.000000"
                  ]
                 },
                 {
                  "Coordinate": [
                   "7.563681",
                   "8.158887",
                   "0.000000"
                  ]
                 }
                ]
               }
              }
             }
            ],
            "TypeCode": "0",
            "Volume": "378.571322"
           },
           {
            "@buildingStoreyIdRef": "STOREY_1",
            "@conditionType": "HeatedAndCooled",
            "@id": "01000002",
            "@zoneIdRef": "ZONE_1",
            "Area": "28.307869",
            "CADObjectId": "01000002",
            "Name": "A_01_04_R11_Workroom4",
            "ShellGeometry": {
             "@id": "01000002-shellgeometry",
             "ClosedShell": {
              "PolyLoop": [
               {
                "CartesianPoint": [
                 {
                  "Coordinate": [
                   "11.203681",
                   "0.382000",
                   "3.400000"
                  ]
                 },
                 {
                  "Coordinate": [
                   "7.563681",
                   "0.382000",
                   "3.400000"
                  ]
                 },
                 {
                  "Coordinate": [
                   "7.563681",
                   "8.158887",
                   "3.400000"
                  ]
                 },
                 {
                  "Coordinate": [
                   "11.203681",
                   "8.158887",
                   "3.400000"
                  ]
                 }
                ]
               },
               {
                "CartesianPoint": [
                 {
                  "Coordinate": [
                   "11.203681",
                   "8.158887",
                   "6.800000"
                  ]
                 },
                 {
                  "Coordinate": [
                   "7.563681",
                   "8.158887",
                   "6.800000"
                  ]
                 },
                 {
                  "Coordinate": [
                   "7.563681",
                   "0.382000",
                   "6.800000"
                  ]
                 },
                 {
                  "Coordinate": [
                   "11.203681",
                   "0.382000",
                   "6.800000"
                  ]
                 }
                ]
               },
               {
                "CartesianPoint": [
                 {
                  "Coordinate": [
                   "11.203681",
                   "8.158887",
                   "3.400000"
                  ]
                 },
                 {
                  "Coordinate": [
                   "7.563681",
                   "8.158887",
                   "3.400000"
                  ]
                 },
                 {
                  "Coordinate": [
                   "7.563681",
                   "8.158887",
                   "6.800000"
                  ]
                 },
                 {
                  "Coordinate": [
                   "11.203681",
                   "8.158887",
                   "6.800000"
                  ]
                 }
                ]
               },
               {
                "CartesianPoint": [
                 {
                  "Coordinate": [
                   "7.563681",
                   "0.382000",
                   "3.400000"
                  ]
                 },
                 {
                  "Coordinate": [
                   "11.203681",
                   "0.382000",
                   "3.400000"
                  ]
                 },
                 {
                  "Coordinate": [
                   "11.203681",
                   "0.382000",
                   "6.800000"
                  ]
                 },
                 {
                  "Coordinate": [
                   "7.563681",
                   "0.382000",
                   "6.800000"
                  ]
                 }
                ]
               },
               {
                "CartesianPoint": [
                 {
                  "Coordinate": [
                   "7.563681",
                   "8.158887",
                   "3.400000"
                  ]
                 },
                 {
                  "Coordinate": [
                   "7.563681",
                   "0.382000",
                   "3.400000"
                  ]
                 },
                 {
                  "Coordinate": [
                   "7.563681",
                   "0.382000",
                   "6.800000"
                  ]
                 },
                 {
                  "Coordinate": [
                   "7.563681",
                   "8.158887",
                   "6.800000"
                  ]
                 }
                ]
               },
               {
                "CartesianPoint": [
                 {
                  "Coordinate": [
                   "11.203681",
                   "8.158887",
                   "6.800000"
                  ]
                 },
                 {
                  "Coordinate": [
                   "11.203681",
                   "0.382000",
                   "6.800000"
                  ]
                 },
                 {
                  "Coordinate": [
                   "11.203681",
                   "0.382000",
                   "3.400000"
                  ]
                 },
                 {
                  "Coordinate": [
                   "11.203681",
                   "8.158887",
                   "3.400000"
                  ]
                 }
                ]
               }
              ]
             }
            },
            "SpaceBoundary": [
             {
              "@isSecondLevelBoundary": "true",
              "@surfaceIdRef": "surface-33",
              "PlanarGeometry": {
               "PolyLoop": {
                "CartesianPoint": [
                 {
                  "Coordinate": [
                   "11.203681",
                   "1.655237",
                   "6.800000"
                  ]
                 },
                 {
                  "Coordinate": [
                   "11.203681",
                   "0.382000",
                   "6.800000"
                  ]
                 },
                 {
                  "Coordinate": [
                   "11.203681",
                   "0.382000",
                   "3.400000"
                  ]
                 },
                 {
                  "Coordinate": [
                   "11.203681",
                   "1.655237",
                   "3.400000"
                  ]
                 }
                ]
               }
              }
             },
             {
              "@isSecondLevelBoundary": "true",
              "@surfaceIdRef": "surface-40",
              "PlanarGeometry": {
               "PolyLoop": {
                "CartesianPoint": [
                 {
                  "Coordinate": [
                   "11.203681",
                   "1.655237",
                   "3.400000"
                  ]
                 },
                 {
                  "Coordinate": [
                   "11.203681",
                   "8.158887",
                   "3.400000"
                  ]
                 },
                 {
                  "Coordinate": [
                   "11.203681",
                   "8.158887",
                   "6.800000"
                  ]
                 },
                 {
                  "Coordinate": [
                   "11.203681",
                   "1.655237",
                   "6.800000"
                  ]
                 }
                ]
               }
              }
             },
             {
              "@isSecondLevelBoundary": "true",
              "@surfaceIdRef": "surface-127",
              "PlanarGeometry": {
               "PolyLoop": {
                "CartesianPoint": [
                 {
                  "Coordinate": [
                   "7.563681",
                   "8.158887",
                   "3.400000"
                  ]
                 },
                 {
                  "Coordinate": [
                   "7.563681",
                   "0.382000",
                   "3.400000"
                  ]
                 },
                 {
                  "Coordinate": [
                   "7.563681",
                   "0.382000",
                   "6.800000"
                  ]
                 },
                 {
                  "Coordinate": [
                   "7.563681",
                   "8.158887",
                   "6.800000"
                  ]
                 }
                ]
               }
              }
             },
             {
              "@isSecondLevelBoundary": "true",
              "@surfaceIdRef": "surface-129",
              "PlanarGeometry": {
               "PolyLoop": {
                "CartesianPoint": [
                 {
                  "Coordinate": [
                   "11.203681",
                   "0.382000",
                   "3.400000"
                  ]
                 },
                 {
                  "Coordinate": [
                   "7.563681",
                   "0.382000",
                   "3.400000"
                  ]
                 },
                 {
                  "Coordinate": [
                   "7.563681",
                   "8.158887",
                   "3.400000"
                  ]
                 },
                 {
                  "Coordinate": [
                   "11.203681",
                   "8.158887",
                   "3.400000"
                  ]
                 }
                ]
               }
              }
             },
             {
              "@isSecondLevelBoundary": "true",
              "@surfaceIdRef": "surface-130",
              "PlanarGeometry": {
               "PolyLoop": {
                "CartesianPoint": [
                 {
                  "Coordinate": [
                   "11.203681",
                   "8.158887",
                   "6.800000"
                  ]
                 },
                 {
                  "Coordinate": [
                   "7.563681",
                   "8.158887",
                   "6.800000"
                  ]
                 },
                 {
                  "Coordinate": [
                   "7.563681",
                   "0.382000",
                   "6.800000"
                  ]
                 },
                 {
                  "Coordinate": [
                   "11.203681",
                   "0.382000",
                   "6.800000"
                  ]
                 }
                ]
               }
              }
             },
             {
              "@isSecondLevelBoundary": "true",
              "@surfaceIdRef": "surface-131",
              "PlanarGeometry": {
               "PolyLoop": {
                "CartesianPoint": [
                 {
                  "Coordinate": [
                   "11.203681",
                   "8.158887",
                   "3.400000"
                  ]
                 },
                 {
                  "Coordinate": [
                   "7.563681",
                   "8.158887",
                   "3.400000"
                  ]
                 },
                 {
                  "Coordinate": [
                   "7.563681",
                   "8.158887",
                   "6.800000"
                  ]
                 },
                 {
                  "Coordinate": [
                   "11.203681",
                   "8.158887",
                   "6.800000"
                  ]
                 }
                ]
               }
              }
             },
             {
              "@isSecondLevelBoundary": "true",
              "@surfaceIdRef": "surface-132",
              "PlanarGeometry": {
               "PolyLoop": {
                "CartesianPoint": [
                 {
                  "Coordinate": [
                   "7.563681",
                   "0.382000",
                   "3.400000"
                  ]
                 },
                 {
                  "Coordinate": [
                   "11.203681",
                   "0.382000",
                   "3.400000"
                  ]
                 },
                 {
                  "Coordinate": [
                   "11.203681",
                   "0.382000",
                   "6.800000"
                  ]
                 },
                 {
                  "Coordinate": [
                   "7.563681",
                   "0.382000",
                   "6.800000"
                  ]
                 }
                ]
               }
              }
             }
            ],
            "TypeCode": "0",
            "Volume": "96.246754"
           },
           {
            "@buildingStoreyIdRef": "STOREY_1",
            "@conditionType": "HeatedAndCooled",
            "@id": "00000001",
            "@zoneIdRef": "ZONE_1",
            "Area": "89.436984",
            "CADObjectId": "00000001",
            "Name": "A_00_02_R2_Canteen",
            "ShellGeometry": {
             "@id": "00000001-shellgeometry",
             "ClosedShell": {
              "PolyLoop": [
               {
                "CartesianPoint": [
                 {
                  "Coordinate": [
                   "18.373681",
                   "1.659988",
                   "0.000000"
                  ]
                 },
                 {
                  "Coordinate": [
                   "18.373681",
                   "6.919988",
                   "0.000000"
                  ]
                 },
                 {
                  "Coordinate": [
                   "18.373681",
                   "6.919988",
                   "3.400000"
                  ]
                 },
                 {
                  "Coordinate": [
                   "18.373681",
                   "1.659988",
                   "3.400000"
                  ]
                 }
                ]
               },
               {
                "CartesianPoint": [
                 {
                  "Coordinate": [
                   "21.956680",
                   "0.382000",
                   "0.000000"
                  ]
                 },
                 {
                  "Coordinate": [
                   "21.956680",
                   "1.655237",
                   "0.000000"
                  ]
                 },
                 {
                  "Coordinate": [
                   "21.956680",
                   "1.655237",
                   "3.400000"
                  ]
                 },
                 {
                  "Coordinate": [
                   "21.956680",
                   "0.382000",
                   "3.400000"
                  ]
                 }
                ]
               },
               {
                "CartesianPoint": [
                 {
                  "Coordinate": [
                   "19.023681",
                   "1.655237",
                   "3.400000"
                  ]
                 },
                 {
                  "Coordinate": [
                   "21.956680",
                   "1.655237",
                   "3.400000"
                  ]
                 },
                 {
                  "Coordinate": [
                   "21.956680",
                   "1.655237",
                   "0.000000"
                  ]
                 },
                 {
                  "Coordinate": [
                   "19.023681",
                   "1.655237",
                   "-0.000000"
                  ]
                 }
                ]
               },
               {
                "CartesianPoint": [
                 {
                  "Coordinate": [
                   "19.023681",
                   "1.655237",
                   "-0.000000"
                  ]
                 },
                 {
                  "Coordinate": [
                   "18.373681",
                   "1.659988",
                   "0.000000"
                  ]
                 },
                 {
                  "Coordinate": [
                   "18.373681",
                   "1.659988",
                   "3.400000"
                  ]
                 },
                 {
                  "Coordinate": [
                   "19.023681",
                   "1.655237",
                   "3.400000"
                  ]
                 }
                ]
               },
               {
                "CartesianPoint": [
                 {
                  "Coordinate": [
                   "7.563681",
                   "0.382000",
                   "0.000000"
                  ]
                 },
                 {
                  "Coordinate": [
                   "21.956680",
                   "0.382000",
                   "0.000000"
                  ]
                 },
                 {
                  "Coordinate": [
                   "21.956680",
                   "0.382000",
                   "3.400000"
                  ]
                 },
                 {
                  "Coordinate": [
                   "7.563681",
                   "0.382000",
                   "3.400000"
                  ]
                 }
                ]
               },
               {
                "CartesianPoint": [
                 {
                  "Coordinate": [
                   "19.023681",
                   "8.158887",
                   "0.000000"
                  ]
                 },
                 {
                  "Coordinate": [
                   "7.563681",
                   "8.158887",
                   "0.000000"
                  ]
                 },
                 {
                  "Coordinate": [
                   "7.563681",
                   "8.158887",
                   "3.400000"
                  ]
                 },
                 {
                  "Coordinate": [
                   "19.023681",
                   "8.158887",
                   "3.400000"
                  ]
                 }
                ]
               },
               {
                "CartesianPoint": [
                 {
                  "Coordinate": [
                   "19.023681",
                   "6.919988",
                   "3.400000"
                  ]
                 },
                 {
                  "Coordinate": [
                   "18.373681",
                   "6.919988",
                   "3.400000"
                  ]
                 },
                 {
                  "Coordinate": [
                   "18.373681",
                   "6.919988",
                   "0.000000"
                  ]
                 },
                 {
                  "Coordinate": [
                   "19.023681",
                   "6.919988",
                   "0.000000"
                  ]
                 }
                ]
               },
               {
                "CartesianPoint": [
                 {
                  "Coordinate": [
                   "19.023681",
                   "6.919988",
                   "0.000000"
                  ]
                 },
                 {
                  "Coordinate": [
                   "19.023681",
                   "8.158887",
                   "0.000000"
                  ]
                 },
                 {
                  "Coordinate": [
                   "19.023681",
                   "8.158887",
                   "3.400000"
                  ]
                 },
                 {
                  "Coordinate": [
                   "19.023681",
                   "6.919988",
                   "3.400000"
                  ]
                 }
                ]
               },
               {
                "CartesianPoint": [
                 {
                  "Coordinate": [
                   "19.023681",
                   "6.919988",
                   "0.000000"
                  ]
                 },
                 {
                  "Coordinate": [
                   "18.373681",
                   "6.919988",
                   "0.000000"
                  ]
                 },
                 {
                  "Coordinate": [
                   "18.373681",
                   "1.659988",
                   "0.000000"
                  ]
                 },
                 {
                  "Coordinate": [
                   "19.023681",
                   "1.655237",
                   "-0.000000"
                  ]
                 },
                 {
                  "Coordinate": [
                   "21.956680",
                   "1.655237",
                   "0.000000"
                  ]
                 },
                 {
                  "Coordinate": [
                   "21.956680",
                   "0.382000",
                   "0.000000"
                  ]
                 },
                 {
                  "Coordinate": [
                   "7.563681",
                   "0.382000",
                   "0.000000"
                  ]
                 },
                 {
                  "Coordinate": [
                   "7.563681",
                   "8.158887",
                   "0.000000"
                  ]
                 },
                 {
                  "Coordinate": [
                   "19.023681",
                   "8.158887",
                   "0.000000"
                  ]
                 }
                ]
               },
               {
                "CartesianPoint": [
                 {
                  "Coordinate": [
                   "19.023681",
                   "8.158887",
                   "3.400000"
                  ]
                 },
                 {
                  "Coordinate": [
                   "7.563681",
                   "8.158887",
                   "3.400000"
                  ]
                 },
                 {
                  "Coordinate": [
                   "7.563681",
                   "0.382000",
                   "3.400000"
                  ]
                 },
                 {
                  "Coordinate": [
                   "21.956680",
                   "0.382000",
                   "3.400000"
                  ]
                 },
                 {
                  "Coordinate": [
                   "21.956680",
                   "1.655237",
                   "3.400000"
                  ]
                 },
                 {
                  "Coordinate": [
                   "19.023681",
                   "1.655237",
                   "3.400000"
                  ]
                 },
                 {
                  "Coordinate": [
                   "18.373681",
                   "1.659988",
                   "3.400000"
                  ]
                 },
                 {
                  "Coordinate": [
                   "18.373681",
                   "6.919988",
                   "3.400000"
                  ]
                 },
                 {
                  "Coordinate": [
                   "19.023681",
                   "6.919988",
                   "3.400000"
                  ]
                 }
                ]
               },
               {
                "CartesianPoint": [
                 {
                  "Coordinate": [
                   "7.563681",
                   "0.382000",
                   "3.400000"
                  ]
                 },
                 {
                  "Coordinate": [
                   "7.563681",
                   "8.158887",
                   "3.400000"
                  ]
                 },
                 {
                  "Coordinate": [
                   "7.563681",
                   "8.158887",
                   "0.000000"
                  ]
                 },
                 {
                  "Coordinate": [
                   "7.563681",
                   "0.382000",
                   "0.000000"
                  ]
                 }
                ]
               }
              ]
             }
            },
            "SpaceBoundary": [
             {
              "@isSecondLevelBoundary": "true",
              "@surfaceIdRef": "surface-29",
              "PlanarGeometry": {
               "PolyLoop": {
                "CartesianPoint": [
                 {
                  "Coordinate": [
                   "21.956680",
                   "1.655237",
                   "3.400000"
                  ]
                 },
                 {
                  "Coordinate": [
                   "11.203681",
                   "1.655237",
                   "3.400000"
                  ]
                 },
                 {
                  "Coordinate": [
                   "11.203681",
                   "0.382000",
                   "3.400000"
                  ]
                 },
                 {
                  "Coordinate": [
                   "21.956680",
                   "0.382000",
                   "3.400000"
                  ]
                 }
                ]
               }
              }
             },
             {
              "@isSecondLevelBoundary": "true",
              "@surfaceIdRef": "surface-37",
              "PlanarGeometry": {
               "PolyLoop": {
                "CartesianPoint": [
                 {
                  "Coordinate": [
                   "14.803681",
                   "8.158887",
                   "3.400000"
                  ]
                 },
                 {
                  "Coordinate": [
                   "11.203681",
                   "8.158887",
                   "3.400000"
                  ]
                 },
                 {
                  "Coordinate": [
                   "11.203681",
                   "1.655237",
                   "3.400000"
                  ]
                 },
                 {
                  "Coordinate": [
                   "14.803681",
                   "1.655237",
                   "3.400000"
                  ]
                 }
                ]
               }
              }
             },
             {
              "@isSecondLevelBoundary": "true",
              "@surfaceIdRef": "surface-42",
              "PlanarGeometry": {
               "PolyLoop": {
                "CartesianPoint": [
                 {
                  "Coordinate": [
                   "18.403681",
                   "1.659769",
                   "3.400000"
                  ]
                 },
                 {
                  "Coordinate": [
                   "18.373681",
                   "1.659988",
                   "3.400000"
                  ]
                 },
                 {
                  "Coordinate": [
                   "18.373681",
                   "6.919988",
                   "3.400000"
                  ]
                 },
                 {
                  "Coordinate": [
                   "18.403681",
                   "6.919988",
                   "3.400000"
                  ]
                 },
                 {
                  "Coordinate": [
                   "18.403681",
                   "8.158887",
                   "3.400000"
                  ]
                 },
                 {
                  "Coordinate": [
                   "14.803681",
                   "8.158887",
                   "3.400000"
                  ]
                 },
                 {
                  "Coordinate": [
                   "14.803681",
                   "1.655237",
                   "3.400000"
                  ]
                 },
                 {
                  "Coordinate": [
                   "18.403681",
                   "1.655237",
                   "3.400000"
                  ]
                 }
                ]
               }
              }
             },
             {
              "@isSecondLevelBoundary": "true",
              "@surfaceIdRef": "surface-112",
              "PlanarGeometry": {
               "PolyLoop": {
                "CartesianPoint": [
                 {
                  "Coordinate": [
                   "18.403681",
                   "1.659769",
                   "3.400000"
                  ]
                 },
                 {
                  "Coordinate": [
                   "18.403681",
                   "1.655237",
                   "3.400000"
                  ]
                 },
                 {
                  "Coordinate": [
                   "19.023681",
                   "1.655237",
                   "3.400000"
                  ]
                 }
                ]
               }
              }
             },
             {
              "@isSecondLevelBoundary": "true",
              "@surfaceIdRef": "surface-113",
              "PlanarGeometry": {
               "PolyLoop": {
                "CartesianPoint": [
                 {
                  "Coordinate": [
                   "19.023681",
                   "8.158887",
                   "3.400000"
                  ]
                 },
                 {
                  "Coordinate": [
                   "18.403681",
                   "8.158887",
                   "3.400000"
                  ]
                 },
                 {
                  "Coordinate": [
                   "18.403681",
                   "6.919988",
                   "3.400000"
                  ]
                 },
                 {
                  "Coordinate": [
                   "19.023681",
                   "6.919988",
                   "3.400000"
                  ]
                 }
                ]
               }
              }
             },
             {
              "@isSecondLevelBoundary": "true",
              "@surfaceIdRef": "surface-128",
              "PlanarGeometry": {
               "PolyLoop": {
                "CartesianPoint": [
                 {
                  "Coordinate": [
                   "7.563681",
                   "8.158887",
                   "0.000000"
                  ]
                 },
                 {
                  "Coordinate": [
                   "7.563681",
                   "0.382000",
                   "0.000000"
                  ]
                 },
                 {
                  "Coordinate": [
                   "7.563681",
                   "0.382000",
                   "3.400000"
                  ]
                 },
                 {
                  "Coordinate": [
                   "7.563681",
                   "8.158887",
                   "3.400000"
                  ]
                 }
                ]
               }
              }
             },
             {
              "@isSecondLevelBoundary": "true",
              "@surfaceIdRef": "surface-129",
              "PlanarGeometry": {
               "PolyLoop": {
                "CartesianPoint": [
                 {
                  "Coordinate": [
                   "11.203681",
                   "8.158887",
                   "3.400000"
                  ]
                 },
                 {
                  "Coordinate": [
                   "7.563681",
                   "8.158887",
                   "3.400000"
                  ]
                 },
                 {
                  "Coordinate": [
                   "7.563681",
                   "0.382000",
                   "3.400000"
                  ]
                 },
                 {
                  "Coordinate": [
                   "11.203681",
                   "0.382000",
                   "3.400000"
                  ]
                 }
                ]
               }
              }
             },
             {
              "@isSecondLevelBoundary": "true",
              "@surfaceIdRef": "surface-133",
              "PlanarGeometry": {
               "PolyLoop": {
                "CartesianPoint": [
                 {
                  "Coordinate": [
                   "18.373681",
                   "6.919988",
                   "3.400000"
                  ]
                 },
                 {
                  "Coordinate": [
                   "18.373681",
                   "1.659988",
                   "3.400000"
                  ]
                 },
                 {
                  "Coordinate": [
                   "18.373681",
                   "1.659988",
                   "0.000000"
                  ]
                 },
                 {
                  "Coordinate": [
                   "18.373681",
                   "6.919988",
                   "0.000000"
                  ]
                 }
                ]
               }
              }
             },
             {
              "@isSecondLevelBoundary": "true",
              "@surfaceIdRef": "surface-134",
              "PlanarGeometry": {
               "PolyLoop": {
                "CartesianPoint": [
                 {
                  "Coordinate": [
                   "21.956680",
                   "0.382000",
                   "0.000000"
                  ]
                 },
                 {
                  "Coordinate": [
                   "21.956680",
                   "1.655237",
                   "0.000000"
                  ]
                 },
                 {
                  "Coordinate": [
                   "21.956680",
                   "1.655237",
                   "3.400000"
                  ]
                 },
                 {
                  "Coordinate": [
                   "21.956680",
                   "0.382000",
                   "3.400000"
                  ]
                 }
                ]
               }
              }
             },
             {
              "@isSecondLevelBoundary": "true",
              "@surfaceIdRef": "surface-135",
              "PlanarGeometry": {
               "PolyLoop": {
                "CartesianPoint": [
                 {
                  "Coordinate": [
                   "19.023681",
                   "1.655237",
                   "3.400000"
                  ]
                 },
                 {
                  "Coordinate": [
                   "21.956680",
                   "1.655237",
                   "3.400000"
                  ]
                 },
                 {
                  "Coordinate": [
                   "21.956680",
                   "1.655237",
                   "0.000000"
                  ]
                 },
                 {
                  "Coordinate": [
                   "19.023681",
                   "1.655237",
                   "0.000000"
                  ]
                 }
                ]
               }
              }
             },
             {
              "@isSecondLevelBoundary": "true",
              "@surfaceIdRef": "surface-136",
              "PlanarGeometry": {
               "PolyLoop": {
                "CartesianPoint": [
                 {
                  "Coordinate": [
                   "18.373681",
                   "1.659988",
                   "3.400000"
                  ]
                 },
                 {
                  "Coordinate": [
                   "19.023681",
                   "1.655237",
                   "3.400000"
                  ]
                 },
                 {
                  "Coordinate": [
                   "19.023681",
                   "1.655237",
                   "0.000000"
                  ]
                 },
                 {
                  "Coordinate": [
                   "18.373681",
                   "1.659988",
                   "0.000000"
                  ]
                 }
                ]
               }
              }
             },
             {
              "@isSecondLevelBoundary": "true",
              "@surfaceIdRef": "surface-137",
              "PlanarGeometry": {
               "PolyLoop": {
                "CartesianPoint": [
                 {
                  "Coordinate": [
                   "7.563681",
                   "0.382000",
                   "-0.000000"
                  ]
                 },
                 {
                  "Coordinate": [
                   "21.956680",
                   "0.382000",
                   "0.000000"
                  ]
                 },
                 {
                  "Coordinate": [
                   "21.956680",
                   "0.382000",
                   "3.400000"
                  ]
                 },
                 {
                  "Coordinate": [
                   "7.563681",
                   "0.382000",
                   "3.400000"
                  ]
                 }
                ]
               }
              }
             },
             {
              "@isSecondLevelBoundary": "true",
              "@surfaceIdRef": "surface-138",
              "PlanarGeometry": {
               "PolyLoop": {
                "CartesianPoint": [
                 {
                  "Coordinate": [
                   "19.023681",
                   "8.158887",
                   "0.000000"
                  ]
                 },
                 {
                  "Coordinate": [
                   "7.563681",
                   "8.158887",
                   "0.000000"
                  ]
                 },
                 {
                  "Coordinate": [
                   "7.563681",
                   "8.158887",
                   "3.400000"
                  ]
                 },
                 {
                  "Coordinate": [
                   "19.023681",
                   "8.158887",
                   "3.400000"
                  ]
                 }
                ]
               }
              }
             },
             {
              "@isSecondLevelBoundary": "true",
              "@surfaceIdRef": "surface-139",
              "PlanarGeometry": {
               "PolyLoop": {
                "CartesianPoint": [
                 {
                  "Coordinate": [
                   "19.023681",
                   "6.919988",
                   "3.400000"
                  ]
                 },
                 {
                  "Coordinate": [
                   "18.373681",
                   "6.919988",
                   "3.400000"
                  ]
                 },
                 {
                  "Coordinate": [
                   "18.373681",
                   "6.919988",
                   "-0.000000"
                  ]
                 },
                 {
                  "Coordinate": [
                   "19.023681",
                   "6.919988",
                   "-0.000000"
                  ]
                 }
                ]
               }
              }
             },
             {
              "@isSecondLevelBoundary": "true",
              "@surfaceIdRef": "surface-140",
              "PlanarGeometry": {
               "PolyLoop": {
                "CartesianPoint": [
                 {
                  "Coordinate": [
                   "19.023681",
                   "8.158887",
                   "3.400000"
                  ]
                 },
                 {
                  "Coordinate": [
                   "19.023681",
                   "6.919988",
                   "3.400000"
                  ]
                 },
                 {
                  "Coordinate": [
                   "19.023681",
                   "6.919988",
                   "0.000000"
                  ]
                 },
                 {
                  "Coordinate": [
                   "19.023681",
                   "8.158887",
                   "0.000000"
                  ]
                 }
                ]
               }
              }
             },
             {
              "@isSecondLevelBoundary": "true",
              "@surfaceIdRef": "surface-141",
              "PlanarGeometry": {
               "PolyLoop": {
                "CartesianPoint": [
                 {
                  "Coordinate": [
                   "19.023681",
                   "6.919988",
                   "0.000000"
                  ]
                 },
                 {
                  "Coordinate": [
                   "18.373681",
                   "6.919988",
                   "0.000000"
                  ]
                 },
                 {
                  "Coordinate": [
                   "18.373681",
                   "1.659988",
                   "0.000000"
                  ]
                 },
                 {
                  "Coordinate": [
                   "19.023681",
                   "1.655237",
                   "0.000000"
                  ]
                 },
                 {
                  "Coordinate": [
                   "21.956680",
                   "1.655237",
                   "0.000000"
                  ]
                 },
                 {
                  "Coordinate": [
                   "21.956680",
                   "0.382000",
                   "0.000000"
                  ]
                 },
                 {
                  "Coordinate": [
                   "7.563681",
                   "0.382000",
                   "0.000000"
                  ]
                 },
                 {
                  "Coordinate": [
                   "7.563681",
                   "8.158887",
                   "0.000000"
                  ]
                 },
                 {
                  "Coordinate": [
                   "19.023681",
                   "8.158887",
                   "0.000000"
                  ]
                 }
                ]
               }
              }
             }
            ],
            "TypeCode": "0",
            "Volume": "304.085745"
           },
           {
            "@buildingStoreyIdRef": "STOREY_1",
            "@conditionType": "HeatedAndCooled",
            "@id": "00000000",
            "@zoneIdRef": "ZONE_1",
            "Area": "21.120294",
            "CADObjectId": "00000000",
            "Name": "A_00_03_R3_Kitchen",
            "ShellGeometry": {
             "@id": "00000000-shellgeometry",
             "ClosedShell": {
              "PolyLoop": [
               {
                "CartesianPoint": [
                 {
                  "Coordinate": [
                   "21.317000",
                   "8.158887",
                   "0.000000"
                  ]
                 },
                 {
                  "Coordinate": [
                   "19.023681",
                   "8.158887",
                   "0.000000"
                  ]
                 },
                 {
                  "Coordinate": [
                   "19.023681",
                   "8.158887",
                   "3.400000"
                  ]
                 },
                 {
                  "Coordinate": [
                   "21.317000",
                   "8.158887",
                   "3.400000"
                  ]
                 }
                ]
               },
               {
                "CartesianPoint": [
                 {
                  "Coordinate": [
                   "21.956680",
                   "1.655237",
                   "0.000000"
                  ]
                 },
                 {
                  "Coordinate": [
                   "21.956680",
                   "6.008347",
                   "0.000000"
                  ]
                 },
                 {
                  "Coordinate": [
                   "21.956680",
                   "6.008347",
                   "3.400000"
                  ]
                 },
                 {
                  "Coordinate": [
                   "21.956680",
                   "1.655237",
                   "3.400000"
                  ]
                 }
                ]
               },
               {
                "CartesianPoint": [
                 {
                  "Coordinate": [
                   "19.023681",
                   "1.655237",
                   "0.000000"
                  ]
                 },
                 {
                  "Coordinate": [
                   "21.956680",
                   "1.655237",
                   "0.000000"
                  ]
                 },
                 {
                  "Coordinate": [
                   "21.956680",
                   "1.655237",
                   "3.400000"
                  ]
                 },
                 {
                  "Coordinate": [
                   "19.023681",
                   "1.655237",
                   "3.400000"
                  ]
                 }
                ]
               },
               {
                "CartesianPoint": [
                 {
                  "Coordinate": [
                   "18.373681",
                   "6.919988",
                   "0.000000"
                  ]
                 },
                 {
                  "Coordinate": [
                   "18.373681",
                   "1.659988",
                   "0.000000"
                  ]
                 },
                 {
                  "Coordinate": [
                   "18.373681",
                   "1.659988",
                   "3.400000"
                  ]
                 },
                 {
                  "Coordinate": [
                   "18.373681",
                   "6.919988",
                   "3.400000"
                  ]
                 }
                ]
               },
               {
                "CartesianPoint": [
                 {
                  "Coordinate": [
                   "19.023681",
                   "1.655237",
                   "3.400000"
                  ]
                 },
                 {
                  "Coordinate": [
                   "18.373681",
                   "1.659988",
                   "3.400000"
                  ]
                 },
                 {
                  "Coordinate": [
                   "18.373681",
                   "1.659988",
                   "0.000000"
                  ]
                 },
                 {
                  "Coordinate": [
                   "19.023681",
                   "1.655237",
                   "0.000000"
                  ]
                 }
                ]
               },
               {
                "CartesianPoint": [
                 {
                  "Coordinate": [
                   "21.317000",
                   "6.009000",
                   "0.000000"
                  ]
                 },
                 {
                  "Coordinate": [
                   "21.956680",
                   "6.008347",
                   "0.000000"
                  ]
                 },
                 {
                  "Coordinate": [
                   "21.956680",
                   "1.655237",
                   "0.000000"
                  ]
                 },
                 {
                  "Coordinate": [
                   "19.023681",
                   "1.655237",
                   "0.000000"
                  ]
                 },
                 {
                  "Coordinate": [
                   "18.373681",
                   "1.659988",
                   "0.000000"
                  ]
                 },
                 {
                  "Coordinate": [
                   "18.373681",
                   "6.919988",
                   "0.000000"
                  ]
                 },
                 {
                  "Coordinate": [
                   "19.023681",
                   "6.919988",
                   "0.000000"
                  ]
                 },
                 {
                  "Coordinate": [
                   "19.023681",
                   "8.158887",
                   "0.000000"
                  ]
                 },
                 {
                  "Coordinate": [
                   "21.317000",
                   "8.158887",
                   "0.000000"
                  ]
                 }
                ]
               },
               {
                "CartesianPoint": [
                 {
                  "Coordinate": [
                   "21.317000",
                   "8.158887",
                   "3.400000"
                  ]
                 },
                 {
                  "Coordinate": [
                   "19.023681",
                   "8.158887",
                   "3.400000"
                  ]
                 },
                 {
                  "Coordinate": [
                   "19.023681",
                   "6.919988",
                   "3.400000"
                  ]
                 },
                 {
                  "Coordinate": [
                   "18.373681",
                   "6.919988",
                   "3.400000"
                  ]
                 },
                 {
                  "Coordinate": [
                   "18.373681",
                   "1.659988",
                   "3.400000"
                  ]
                 },
                 {
                  "Coordinate": [
                   "19.023681",
                   "1.655237",
                   "3.400000"
                  ]
                 },
                 {
                  "Coordinate": [
                   "21.956680",
                   "1.655237",
                   "3.400000"
                  ]
                 },
                 {
                  "Coordinate": [
                   "21.956680",
                   "6.008347",
                   "3.400000"
                  ]
                 },
                 {
                  "Coordinate": [
                   "21.317000",
                   "6.009000",
                   "3.400000"
                  ]
                 }
                ]
               },
               {
                "CartesianPoint": [
                 {
                  "Coordinate": [
                   "19.023681",
                   "6.919988",
                   "0.000000"
                  ]
                 },
                 {
                  "Coordinate": [
                   "18.373681",
                   "6.919988",
                   "0.000000"
                  ]
                 },
                 {
                  "Coordinate": [
                   "18.373681",
                   "6.919988",
                   "3.400000"
                  ]
                 },
                 {
                  "Coordinate": [
                   "19.023681",
                   "6.919988",
                   "3.400000"
                  ]
                 }
                ]
               },
               {
                "CartesianPoint": [
                 {
                  "Coordinate": [
                   "19.023681",
                   "8.158887",
                   "0.000000"
                  ]
                 },
                 {
                  "Coordinate": [
                   "19.023681",
                   "6.919988",
                   "0.000000"
                  ]
                 },
                 {
                  "Coordinate": [
                   "19.023681",
                   "6.919988",
                   "3.400000"
                  ]
                 },
                 {
                  "Coordinate": [
                   "19.023681",
                   "8.158887",
                   "3.400000"
                  ]
                 }
                ]
               },
               {
                "CartesianPoint": [
                 {
                  "Coordinate": [
                   "21.317000",
                   "6.009000",
                   "3.400000"
                  ]
                 },
                 {
                  "Coordinate": [
                   "21.956680",
                   "6.008347",
                   "3.400000"
                  ]
                 },
                 {
                  "Coordinate": [
                   "21.956680",
                   "6.008347",
                   "0.000000"
                  ]
                 },
                 {
                  "Coordinate": [
                   "21.317000",
                   "6.009000",
                   "0.000000"
                  ]
                 }
                ]
               },
               {
                "CartesianPoint": [
                 {
                  "Coordinate": [
                   "21.317000",
                   "8.158887",
                   "3.400000"
                  ]
                 },
                 {
                  "Coordinate": [
                   "21.317000",
                   "6.009000",
                   "3.400000"
                  ]
                 },
                 {
                  "Coordinate": [
                   "21.317000",
                   "6.009000",
                   "0.000000"
                  ]
                 },
                 {
                  "Coordinate": [
                   "21.317000",
                   "8.158887",
                   "0.000000"
                  ]
                 }
                ]
               }
              ]
             }
            },
            "SpaceBoundary": [
             {
              "@isSecondLevelBoundary": "true",
              "@surfaceIdRef": "surface-43",
              "PlanarGeometry": {
               "PolyLoop": {
                "CartesianPoint": [
                 {
                  "Coordinate": [
                   "18.403681",
                   "6.919988",
                   "3.400000"
                  ]
                 },
                 {
                  "Coordinate": [
                   "18.373681",
                   "6.919988",
                   "3.400000"
                  ]
                 },
                 {
                  "Coordinate": [
                   "18.373681",
                   "1.659988",
                   "3.400000"
                  ]
                 },
                 {
                  "Coordinate": [
                   "18.403681",
                   "1.659769",
                   "3.400000"
                  ]
                 }
                ]
               }
              }
             },
             {
              "@isSecondLevelBoundary": "true",
              "@surfaceIdRef": "surface-114",
              "PlanarGeometry": {
               "PolyLoop": {
                "CartesianPoint": [
                 {
                  "Coordinate": [
                   "21.956680",
                   "6.008347",
                   "3.400000"
                  ]
                 },
                 {
                  "Coordinate": [
                   "21.317000",
                   "6.009000",
                   "3.400000"
                  ]
                 },
                 {
                  "Coordinate": [
                   "21.317000",
                   "8.158887",
                   "3.400000"
                  ]
                 },
                 {
                  "Coordinate": [
                   "19.023681",
                   "8.158887",
                   "3.400000"
                  ]
                 },
                 {
                  "Coordinate": [
                   "19.023681",
                   "6.919988",
                   "3.400000"
                  ]
                 },
                 {
                  "Coordinate": [
                   "18.403681",
                   "6.919988",
                   "3.400000"
                  ]
                 },
                 {
                  "Coordinate": [
                   "18.403681",
                   "1.659769",
                   "3.400000"
                  ]
                 },
                 {
                  "Coordinate": [
                   "19.023681",
                   "1.655237",
                   "3.400000"
                  ]
                 },
                 {
                  "Coordinate": [
                   "21.956680",
                   "1.655237",
                   "3.400000"
                  ]
                 }
                ]
               }
              }
             },
             {
              "@isSecondLevelBoundary": "true",
              "@surfaceIdRef": "surface-133",
              "PlanarGeometry": {
               "PolyLoop": {
                "CartesianPoint": [
                 {
                  "Coordinate": [
                   "18.373681",
                   "6.919988",
                   "0.000000"
                  ]
                 },
                 {
                  "Coordinate": [
                   "18.373681",
                   "1.659988",
                   "0.000000"
                  ]
                 },
                 {
                  "Coordinate": [
                   "18.373681",
                   "1.659988",
                   "3.400000"
                  ]
                 },
                 {
                  "Coordinate": [
                   "18.373681",
                   "6.919988",
                   "3.400000"
                  ]
                 }
                ]
               }
              }
             },
             {
              "@isSecondLevelBoundary": "true",
              "@surfaceIdRef": "surface-135",
              "PlanarGeometry": {
               "PolyLoop": {
                "CartesianPoint": [
                 {
                  "Coordinate": [
                   "19.023681",
                   "1.655237",
                   "0.000000"
                  ]
                 },
                 {
                  "Coordinate": [
                   "21.956680",
                   "1.655237",
                   "0.000000"
                  ]
                 },
                 {
                  "Coordinate": [
                   "21.956680",
                   "1.655237",
                   "3.400000"
                  ]
                 },
                 {
                  "Coordinate": [
                   "19.023681",
                   "1.655237",
                   "3.400000"
                  ]
                 }
                ]
               }
              }
             },
             {
              "@isSecondLevelBoundary": "true",
              "@surfaceIdRef": "surface-136",
              "PlanarGeometry": {
               "PolyLoop": {
                "CartesianPoint": [
                 {
                  "Coordinate": [
                   "18.373681",
                   "1.659988",
                   "0.000000"
                  ]
                 },
                 {
                  "Coordinate": [
                   "19.023681",
                   "1.655237",
                   "0.000000"
                  ]
                 },
                 {
                  "Coordinate": [
                   "19.023681",
                   "1.655237",
                   "3.400000"
                  ]
                 },
                 {
                  "Coordinate": [
                   "18.373681",
                   "1.659988",
                   "3.400000"
                  ]
                 }
                ]
               }
              }
             },
             {
              "@isSecondLevelBoundary": "true",
              "@surfaceIdRef": "surface-139",
              "PlanarGeometry": {
               "PolyLoop": {
                "CartesianPoint": [
                 {
                  "Coordinate": [
                   "19.023681",
                   "6.919988",
                   "-0.000000"
                  ]
                 },
                 {
                  "Coordinate": [
                   "18.373681",
                   "6.919988",
                   "-0.000000"
                  ]
                 },
                 {
                  "Coordinate": [
                   "18.373681",
                   "6.919988",
                   "3.400000"
                  ]
                 },
                 {
                  "Coordinate": [
                   "19.023681",
                   "6.919988",
                   "3.400000"
                  ]
                 }
                ]
               }
              }
             },
             {
              "@isSecondLevelBoundary": "true",
              "@surfaceIdRef": "surface-140",
              "PlanarGeometry": {
               "PolyLoop": {
                "CartesianPoint": [
                 {
                  "Coordinate": [
                   "19.023681",
                   "8.158887",
                   "0.000000"
                  ]
                 },
                 {
                  "Coordinate": [
                   "19.023681",
                   "6.919988",
                   "0.000000"
                  ]
                 },
                 {
                  "Coordinate": [
                   "19.023681",
                   "6.919988",
                   "3.400000"
                  ]
                 },
                 {
                  "Coordinate": [
                   "19.023681",
                   "8.158887",
                   "3.400000"
                  ]
                 }
                ]
               }
              }
             },
             {
              "@isSecondLevelBoundary": "true",
              "@surfaceIdRef": "surface-142",
              "PlanarGeometry": {
               "PolyLoop": {
                "CartesianPoint": [
                 {
                  "Coordinate": [
                   "21.317000",
                   "8.158887",
                   "0.000000"
                  ]
                 },
                 {
                  "Coordinate": [
                   "19.023681",
                   "8.158887",
                   "0.000000"
                  ]
                 },
                 {
                  "Coordinate": [
                   "19.023681",
                   "8.158887",
                   "3.400000"
                  ]
                 },
                 {
                  "Coordinate": [
                   "21.317000",
                   "8.158887",
                   "3.400000"
                  ]
                 }
                ]
               }
              }
             },
             {
              "@isSecondLevelBoundary": "true",
              "@surfaceIdRef": "surface-143",
              "PlanarGeometry": {
               "PolyLoop": {
                "CartesianPoint": [
                 {
                  "Coordinate": [
                   "21.956680",
                   "3.658000",
                   "-0.000000"
                  ]
                 },
                 {
                  "Coordinate": [
                   "21.956680",
                   "5.510052",
                   "-0.000000"
                  ]
                 },
                 {
                  "Coordinate": [
                   "21.956680",
                   "5.510052",
                   "3.400000"
                  ]
                 },
                 {
                  "Coordinate": [
                   "21.956680",
                   "3.658000",
                   "3.400000"
                  ]
                 }
                ]
               }
              }
             },
             {
              "@isSecondLevelBoundary": "true",
              "@surfaceIdRef": "surface-144",
              "PlanarGeometry": {
               "PolyLoop": {
                "CartesianPoint": [
                 {
                  "Coordinate": [
                   "21.956680",
                   "5.510052",
                   "-0.000000"
                  ]
                 },
                 {
                  "Coordinate": [
                   "21.956680",
                   "6.008347",
                   "-0.000000"
                  ]
                 },
                 {
                  "Coordinate": [
                   "21.956680",
                   "6.008347",
                   "3.400000"
                  ]
                 },
                 {
                  "Coordinate": [
                   "21.956680",
                   "5.510052",
                   "3.400000"
                  ]
                 }
                ]
               }
              }
             },
             {
              "@isSecondLevelBoundary": "true",
              "@surfaceIdRef": "surface-145",
              "PlanarGeometry": {
               "PolyLoop": {
                "CartesianPoint": [
                 {
                  "Coordinate": [
                   "21.956680",
                   "1.655237",
                   "-0.000000"
                  ]
                 },
                 {
                  "Coordinate": [
                   "21.956680",
                   "3.658000",
                   "-0.000000"
                  ]
                 },
                 {
                  "Coordinate": [
                   "21.956680",
                   "3.658000",
                   "3.400000"
                  ]
                 },
                 {
                  "Coordinate": [
                   "21.956680",
                   "1.655237",
                   "3.400000"
                  ]
                 }
                ]
               }
              }
             },
             {
              "@isSecondLevelBoundary": "true",
              "@surfaceIdRef": "surface-146",
              "PlanarGeometry": {
               "PolyLoop": {
                "CartesianPoint": [
                 {
                  "Coordinate": [
                   "21.317000",
                   "6.009000",
                   "0.000000"
                  ]
                 },
                 {
                  "Coordinate": [
                   "21.956680",
                   "6.008347",
                   "0.000000"
                  ]
                 },
                 {
                  "Coordinate": [
                   "21.956680",
                   "1.655237",
                   "0.000000"
                  ]
                 },
                 {
                  "Coordinate": [
                   "19.023681",
                   "1.655237",
                   "0.000000"
                  ]
                 },
                 {
                  "Coordinate": [
                   "18.373681",
                   "1.659988",
                   "0.000000"
                  ]
                 },
                 {
                  "Coordinate": [
                   "18.373681",
                   "6.919988",
                   "0.000000"
                  ]
                 },
                 {
                  "Coordinate": [
                   "19.023681",
                   "6.919988",
                   "0.000000"
                  ]
                 },
                 {
                  "Coordinate": [
                   "19.023681",
                   "8.158887",
                   "0.000000"
                  ]
                 },
                 {
                  "Coordinate": [
                   "21.317000",
                   "8.158887",
                   "0.000000"
                  ]
                 }
                ]
               }
              }
             },
             {
              "@isSecondLevelBoundary": "true",
              "@surfaceIdRef": "surface-147",
              "PlanarGeometry": {
               "PolyLoop": {
                "CartesianPoint": [
                 {
                  "Coordinate": [
                   "21.956680",
                   "6.008347",
                   "-0.000000"
                  ]
                 },
                 {
                  "Coordinate": [
                   "21.317000",
                   "6.009000",
                   "-0.000000"
                  ]
                 },
                 {
                  "Coordinate": [
                   "21.317000",
                   "6.009000",
                   "3.400000"
                  ]
                 },
                 {
                  "Coordinate": [
                   "21.956680",
                   "6.008347",
                   "3.400000"
                  ]
                 }
                ]
               }
              }
             },
             {
              "@isSecondLevelBoundary": "true",
              "@surfaceIdRef": "surface-148",
              "PlanarGeometry": {
               "PolyLoop": {
                "CartesianPoint": [
                 {
                  "Coordinate": [
                   "21.317000",
                   "6.009000",
                   "-0.000000"
                  ]
                 },
                 {
                  "Coordinate": [
                   "21.317000",
                   "8.158887",
                   "-0.000000"
                  ]
                 },
                 {
                  "Coordinate": [
                   "21.317000",
                   "8.158887",
                   "3.400000"
                  ]
                 },
                 {
                  "Coordinate": [
                   "21.317000",
                   "6.009000",
                   "3.400000"
                  ]
                 }
                ]
               }
              }
             }
            ],
            "TypeCode": "0",
            "Volume": "71.809001"
           },
           {
            "@buildingStoreyIdRef": "STOREY_1",
            "@conditionType": "HeatedAndCooled",
            "@id": "01000001",
            "@zoneIdRef": "ZONE_1",
            "Area": "1.375449",
            "CADObjectId": "01000001",
            "Name": "A_01_06_XX_Riser",
            "ShellGeometry": {
             "@id": "01000001-shellgeometry",
             "ClosedShell": {
              "PolyLoop": [
               {
                "CartesianPoint": [
                 {
                  "Coordinate": [
                   "21.956680",
                   "8.158887",
                   "6.800000"
                  ]
                 },
                 {
                  "Coordinate": [
                   "21.317000",
                   "8.158887",
                   "6.800000"
                  ]
                 },
                 {
                  "Coordinate": [
                   "21.317000",
                   "6.009000",
                   "6.800000"
                  ]
                 },
                 {
                  "Coordinate": [
                   "21.956680",
                   "6.008347",
                   "6.800000"
                  ]
                 }
                ]
               },
               {
                "CartesianPoint": [
                 {
                  "Coordinate": [
                   "21.956680",
                   "6.008347",
                   "0.000000"
                  ]
                 },
                 {
                  "Coordinate": [
                   "21.317000",
                   "6.009000",
                   "0.000000"
                  ]
                 },
                 {
                  "Coordinate": [
                   "21.317000",
                   "8.158887",
                   "0.000000"
                  ]
                 },
                 {
                  "Coordinate": [
                   "21.956680",
                   "8.158887",
                   "0.000000"
                  ]
                 }
                ]
               },
               {
                "CartesianPoint": [
                 {
                  "Coordinate": [
                   "21.956680",
                   "8.158887",
                   "0.000000"
                  ]
                 },
                 {
                  "Coordinate": [
                   "21.317000",
                   "8.158887",
                   "0.000000"
                  ]
                 },
                 {
                  "Coordinate": [
                   "21.317000",
                   "8.158887",
                   "6.800000"
                  ]
                 },
                 {
                  "Coordinate": [
                   "21.956680",
                   "8.158887",
                   "6.800000"
                  ]
                 }
                ]
               },
               {
                "CartesianPoint": [
                 {
                  "Coordinate": [
                   "21.956680",
                   "6.008347",
                   "0.000000"
                  ]
                 },
                 {
                  "Coordinate": [
                   "21.956680",
                   "8.158887",
                   "0.000000"
                  ]
                 },
                 {
                  "Coordinate": [
                   "21.956680",
                   "8.158887",
                   "6.800000"
                  ]
                 },
                 {
                  "Coordinate": [
                   "21.956680",
                   "6.008347",
                   "6.800000"
                  ]
                 }
                ]
               },
               {
                "CartesianPoint": [
                 {
                  "Coordinate": [
                   "21.317000",
                   "6.009000",
                   "0.000000"
                  ]
                 },
                 {
                  "Coordinate": [
                   "21.956680",
                   "6.008347",
                   "0.000000"
                  ]
                 },
                 {
                  "Coordinate": [
                   "21.956680",
                   "6.008347",
                   "6.800000"
                  ]
                 },
                 {
                  "Coordinate": [
                   "21.317000",
                   "6.009000",
                   "6.800000"
                  ]
                 }
                ]
               },
               {
                "CartesianPoint": [
                 {
                  "Coordinate": [
                   "21.317000",
                   "8.158887",
                   "0.000000"
                  ]
                 },
                 {
                  "Coordinate": [
                   "21.317000",
                   "6.009000",
                   "0.000000"
                  ]
                 },
                 {
                  "Coordinate": [
                   "21.317000",
                   "6.009000",
                   "6.800000"
                  ]
                 },
                 {
                  "Coordinate": [
                   "21.317000",
                   "8.158887",
                   "6.800000"
                  ]
                 }
                ]
               }
              ]
             }
            },
            "SpaceBoundary": [
             {
              "@isSecondLevelBoundary": "true",
              "@surfaceIdRef": "surface-120",
              "PlanarGeometry": {
               "PolyLoop": {
                "CartesianPoint": [
                 {
                  "Coordinate": [
                   "21.317000",
                   "6.009000",
                   "3.400000"
                  ]
                 },
                 {
                  "Coordinate": [
                   "21.956680",
                   "6.008347",
                   "3.400000"
                  ]
                 },
                 {
                  "Coordinate": [
                   "21.956680",
                   "6.008347",
                   "6.800000"
                  ]
                 },
                 {
                  "Coordinate": [
                   "21.317000",
                   "6.009000",
                   "6.800000"
                  ]
                 }
                ]
               }
              }
             },
             {
              "@isSecondLevelBoundary": "true",
              "@surfaceIdRef": "surface-121",
              "PlanarGeometry": {
               "PolyLoop": {
                "CartesianPoint": [
                 {
                  "Coordinate": [
                   "21.317000",
                   "8.158887",
                   "3.400000"
                  ]
                 },
                 {
                  "Coordinate": [
                   "21.317000",
                   "6.009000",
                   "3.400000"
                  ]
                 },
                 {
                  "Coordinate": [
                   "21.317000",
                   "6.009000",
                   "6.800000"
                  ]
                 },
                 {
                  "Coordinate": [
                   "21.317000",
                   "8.158887",
                   "6.800000"
                  ]
                 }
                ]
               }
              }
             },
             {
              "@isSecondLevelBoundary": "true",
              "@surfaceIdRef": "surface-147",
              "PlanarGeometry": {
               "PolyLoop": {
                "CartesianPoint": [
                 {
                  "Coordinate": [
                   "21.956680",
                   "6.008347",
                   "3.400000"
                  ]
                 },
                 {
                  "Coordinate": [
                   "21.317000",
                   "6.009000",
                   "3.400000"
                  ]
                 },
                 {
                  "Coordinate": [
                   "21.317000",
                   "6.009000",
                   "-0.000000"
                  ]
                 },
                 {
                  "Coordinate": [
                   "21.956680",
                   "6.008347",
                   "-0.000000"
                  ]
                 }
                ]
               }
              }
             },
             {
              "@isSecondLevelBoundary": "true",
              "@surfaceIdRef": "surface-148",
              "PlanarGeometry": {
               "PolyLoop": {
                "CartesianPoint": [
                 {
                  "Coordinate": [
                   "21.317000",
                   "6.009000",
                   "3.400000"
                  ]
                 },
                 {
                  "Coordinate": [
                   "21.317000",
                   "8.158887",
                   "3.400000"
                  ]
                 },
                 {
                  "Coordinate": [
                   "21.317000",
                   "8.158887",
                   "-0.000000"
                  ]
                 },
                 {
                  "Coordinate": [
                   "21.317000",
                   "6.009000",
                   "-0.000000"
                  ]
                 }
                ]
               }
              }
             },
             {
              "@isSecondLevelBoundary": "true",
              "@surfaceIdRef": "surface-149",
              "PlanarGeometry": {
               "PolyLoop": {
                "CartesianPoint": [
                 {
                  "Coordinate": [
                   "21.956680",
                   "8.158887",
                   "6.800000"
                  ]
                 },
                 {
                  "Coordinate": [
                   "21.317000",
                   "8.158887",
                   "6.800000"
                  ]
                 },
                 {
                  "Coordinate": [
                   "21.317000",
                   "6.009000",
                   "6.800000"
                  ]
                 },
                 {
                  "Coordinate": [
                   "21.956680",
                   "6.008347",
                   "6.800000"
                  ]
                 }
                ]
               }
              }
             },
             {
              "@isSecondLevelBoundary": "true",
              "@surfaceIdRef": "surface-150",
              "PlanarGeometry": {
               "PolyLoop": {
                "CartesianPoint": [
                 {
                  "Coordinate": [
                   "21.956680",
                   "6.008347",
                   "0.000000"
                  ]
                 },
                 {
                  "Coordinate": [
                   "21.317000",
                   "6.009000",
                   "0.000000"
                  ]
                 },
                 {
                  "Coordinate": [
                   "21.317000",
                   "8.158887",
                   "0.000000"
                  ]
                 },
                 {
                  "Coordinate": [
                   "21.956680",
                   "8.158887",
                   "0.000000"
                  ]
                 }
                ]
               }
              }
             },
             {
              "@isSecondLevelBoundary": "true",
              "@surfaceIdRef": "surface-151",
              "PlanarGeometry": {
               "PolyLoop": {
                "CartesianPoint": [
                 {
                  "Coordinate": [
                   "21.956680",
                   "8.158887",
                   "0.000000"
                  ]
                 },
                 {
                  "Coordinate": [
                   "21.317000",
                   "8.158887",
                   "0.000000"
                  ]
                 },
                 {
                  "Coordinate": [
                   "21.317000",
                   "8.158887",
                   "6.800000"
                  ]
                 },
                 {
                  "Coordinate": [
                   "21.956680",
                   "8.158887",
                   "6.800000"
                  ]
                 }
                ]
               }
              }
             },
             {
              "@isSecondLevelBoundary": "true",
              "@surfaceIdRef": "surface-152",
              "PlanarGeometry": {
               "PolyLoop": {
                "CartesianPoint": [
                 {
                  "Coordinate": [
                   "21.956680",
                   "6.008347",
                   "-0.000000"
                  ]
                 },
                 {
                  "Coordinate": [
                   "21.956680",
                   "8.158000",
                   "-0.000000"
                  ]
                 },
                 {
                  "Coordinate": [
                   "21.956680",
                   "8.158000",
                   "3.400000"
                  ]
                 },
                 {
                  "Coordinate": [
                   "21.956680",
                   "6.008347",
                   "3.400000"
                  ]
                 }
                ]
               }
              }
             },
             {
              "@isSecondLevelBoundary": "true",
              "@surfaceIdRef": "surface-153",
              "PlanarGeometry": {
               "PolyLoop": {
                "CartesianPoint": [
                 {
                  "Coordinate": [
                   "21.956680",
                   "6.008347",
                   "3.400000"
                  ]
                 },
                 {
                  "Coordinate": [
                   "21.956680",
                   "8.158000",
                   "3.400000"
                  ]
                 },
                 {
                  "Coordinate": [
                   "21.956680",
                   "8.158000",
                   "-0.000000"
                  ]
                 },
                 {
                  "Coordinate": [
                   "21.956680",
                   "8.158887",
                   "-0.000000"
                  ]
                 },
                 {
                  "Coordinate": [
                   "21.956680",
                   "8.158887",
                   "6.800000"
                  ]
                 },
                 {
                  "Coordinate": [
                   "21.956680",
                   "6.008347",
                   "6.800000"
                  ]
                 }
                ]
               }
              }
             }
            ],
            "TypeCode": "0",
            "Volume": "9.353050"
           }
          ]
         },
         "Location": {
          "CADModelAzimuth": "25.000000",
          "Elevation": "25.000000",
          "Latitude": "51.478001",
          "Longitude": "-0.461000",
          "Name": "London Heathrow",
          "ZipcodeOrPostalCode": "G20 0SP"
         },
         "Name": "105_LiveseyExchange_heatpump-improved-fabric",
         "Surface": [
          {
           "@constructionIdRef": "STD_FLO1",
           "@id": "surface-1",
           "@surfaceType": "ExposedFloor",
           "AdjacentSpaceId": {
            "@spaceIdRef": "TR000001"
           },
           "PlanarGeometry": {
            "PolyLoop": {
             "CartesianPoint": [
              {
               "Coordinate": [
                "36.968681",
                "11.169988",
                "0.000000"
               ]
              },
              {
               "Coordinate": [
                "29.193419",
                "11.169988",
                "0.000000"
               ]
              },
              {
               "Coordinate": [
                "29.193419",
                "18.347788",
                "0.000000"
               ]
              },
              {
               "Coordinate": [
                "36.968681",
                "18.347788",
                "0.000000"
               ]
              }
             ]
            }
           },
           "RectangularGeometry": {
            "Azimuth": "0.000000",
            "CartesianPoint": {
             "Coordinate": [
              "36.968681",
              "11.169988",
              "0.000000"
             ]
            },
            "Height": "7.177800",
            "Tilt": "180.000000",
            "Width": "7.775262"
           }
          },
          {
           "@constructionIdRef": "STD_CEIL",
           "@id": "surface-2",
           "@surfaceType": "Ceiling",
           "AdjacentSpaceId": [
            {
             "@spaceIdRef": "TR000001"
            },
            {
             "@spaceIdRef": "TR000006"
            }
           ],
           "PlanarGeometry": {
            "PolyLoop": {
             "CartesianPoint": [
              {
               "Coordinate": [
                "36.968681",
                "18.347788",
                "3.400000"
               ]
              },
              {
               "Coordinate": [
                "29.193419",
                "18.347788",
                "3.400000"
               ]
              },
              {
               "Coordinate": [
                "29.193419",
                "11.169988",
                "3.400000"
               ]
              },
              {
               "Coordinate": [
                "36.968681",
                "11.169988",
                "3.400000"
               ]
              }
             ]
            }
           },
           "RectangularGeometry": {
            "Azimuth": "0.000000",
            "CartesianPoint": {
             "Coordinate": [
              "36.968681",
              "18.347788",
              "3.400000"
             ]
            },
            "Height": "7.177800",
            "Tilt": "0.000000",
            "Width": "7.775262"
           }
          },
          {
           "@constructionIdRef": "STD_WAL1",
           "@id": "surface-3",
           "@surfaceType": "ExteriorWall",
           "AdjacentSpaceId": {
            "@spaceIdRef": "TR000001"
           },
           "Opening": [
            {
             "@constructionIdRef": "STD_DOOR",
             "@id": "surface-3-opening-1",
             "@openingType": "NonSlidingDoor",
             "PlanarGeometry": {
              "PolyLoop": {
               "CartesianPoint": [
                {
                 "Coordinate": [
                  "29.193419",
                  "13.490000",
                  "0.000000"
                 ]
                },
                {
                 "Coordinate": [
                  "29.193419",
                  "11.740000",
                  "0.000000"
                 ]
                },
                {
                 "Coordinate": [
                  "29.193419",
                  "11.740000",
                  "2.250000"
                 ]
                },
                {
                 "Coordinate": [
                  "29.193419",
                  "13.490000",
                  "2.250000"
                 ]
                }
               ]
              }
             },
             "RectangularGeometry": {
              "CartesianPoint": {
               "Coordinate": [
                "4.857788",
                "0.000000"
               ]
              },
              "Height": "2.250000",
              "Width": "1.750000"
             }
            },
            {
             "@id": "surface-3-opening-2",
             "@openingType": "FixedWindow",
             "@windowTypeIdRef": "STD_EXTW",
             "PlanarGeometry": {
              "PolyLoop": {
               "CartesianPoint": [
                {
                 "Coordinate": [
                  "29.193419",
                  "17.140000",
                  "0.750000"
                 ]
                },
                {
                 "Coordinate": [
                  "29.193419",
                  "15.440000",
                  "0.750000"
                 ]
                },
                {
                 "Coordinate": [
                  "29.193419",
                  "15.440000",
                  "2.250000"
                 ]
                },
                {
                 "Coordinate": [
                  "29.193419",
                  "17.140000",
                  "2.250000"
                 ]
                }
               ]
              }
             },
             "RectangularGeometry": {
              "CartesianPoint": {
               "Coordinate": [
                "1.207788",
                "0.750000"
               ]
              },
              "Height": "1.500000",
              "Width": "1.700000"
             }
            }
           ],
           "PlanarGeometry": {
            "PolyLoop": {
             "CartesianPoint": [
              {
               "Coordinate": [
                "29.193419",
                "18.347788",
                "0.000000"
               ]
              },
              {
               "Coordinate": [
                "29.193419",
                "11.169988",
                "0.000000"
               ]
              },
              {
               "Coordinate": [
                "29.193419",
                "11.169988",
                "3.400000"
               ]
              },
              {
               "Coordinate": [
                "29.193419",
                "18.347788",
                "3.400000"
               ]
              }
             ]
            }
           },
           "RectangularGeometry": {
            "Azimuth": "270.000000",
            "CartesianPoint": {
             "Coordinate": [
              "29.193419",
              "18.347788",
              "-0.000000"
             ]
            },
            "Height": "3.400000",
            "Tilt": "90.000000",
            "Width": "7.177800"
           }
          },
          {
           "@constructionIdRef": "STD_WAL1",
           "@id": "surface-4",
           "@surfaceType": "ExteriorWall",
           "AdjacentSpaceId": {
            "@spaceIdRef": "TR000001"
           },
           "PlanarGeometry": {
            "PolyLoop": {
             "CartesianPoint": [
              {
               "Coordinate": [
                "29.193419",
                "18.347788",
                "3.400000"
               ]
              },
              {
               "Coordinate": [
                "36.968681",
                "18.347788",
                "3.400000"
               ]
              },
              {
               "Coordinate": [
                "36.968681",
                "18.347788",
                "0.000000"
               ]
              },
              {
               "Coordinate": [
                "29.193419",
                "18.347788",
                "0.000000"
               ]
              }
             ]
            }
           },
           "RectangularGeometry": {
            "Azimuth": "0.000000",
            "CartesianPoint": {
             "Coordinate": [
              "36.968681",
              "18.347788",
              "0.000000"
             ]
            },
            "Height": "3.400000",
            "Tilt": "90.000000",
            "Width": "7.775262"
           }
          },
          {
           "@constructionIdRef": "STD_WAL1",
           "@id": "surface-5",
           "@surfaceType": "ExteriorWall",
           "AdjacentSpaceId": {
            "@spaceIdRef": "TR000001"
           },
           "Opening": [
            {
             "@id": "surface-5-opening-1",
             "@openingType": "FixedWindow",
             "@windowTypeIdRef": "STD_EXTW",
             "PlanarGeometry": {
              "PolyLoop": {
               "CartesianPoint": [
                {
                 "Coordinate": [
                  "36.968681",
                  "11.820000",
                  "0.750000"
                 ]
                },
                {
                 "Coordinate": [
                  "36.968681",
                  "14.122508",
                  "0.750000"
                 ]
                },
                {
                 "Coordinate": [
                  "36.968681",
                  "14.122508",
                  "2.250000"
                 ]
                },
                {
                 "Coordinate": [
                  "36.968681",
                  "11.820000",
                  "2.250000"
                 ]
                }
               ]
              }
             },
             "RectangularGeometry": {
              "CartesianPoint": {
               "Coordinate": [
                "0.650012",
                "0.750000"
               ]
              },
              "Height": "1.500000",
              "Width": "2.302508"
             }
            },
            {
             "@constructionIdRef": "STD_DOOR",
             "@id": "surface-5-opening-2",
             "@openingType": "NonSlidingDoor",
             "PlanarGeometry": {
              "PolyLoop": {
               "CartesianPoint": [
                {
                 "Coordinate": [
                  "36.968681",
                  "15.350000",
                  "-0.000000"
                 ]
                },
                {
                 "Coordinate": [
                  "36.968681",
                  "17.100000",
                  "-0.000000"
                 ]
                },
                {
                 "Coordinate": [
                  "36.968681",
                  "17.100000",
                  "2.250000"
                 ]
                },
                {
                 "Coordinate": [
                  "36.968681",
                  "15.350000",
                  "2.250000"
                 ]
                }
               ]
              }
             },
             "RectangularGeometry": {
              "CartesianPoint": {
               "Coordinate": [
                "4.180012",
                "0.000000"
               ]
              },
              "Height": "2.250000",
              "Width": "1.750000"
             }
            }
           ],
           "PlanarGeometry": {
            "PolyLoop": {
             "CartesianPoint": [
              {
               "Coordinate": [
                "36.968681",
                "11.169988",
                "0.000000"
               ]
              },
              {
               "Coordinate": [
                "36.968681",
                "18.347788",
                "0.000000"
               ]
              },
              {
               "Coordinate": [
                "36.968681",
                "18.347788",
                "3.400000"
               ]
              },
              {
               "Coordinate": [
                "36.968681",
                "11.169988",
                "3.400000"
               ]
              }
             ]
            }
           },
           "RectangularGeometry": {
            "Azimuth": "90.000000",
            "CartesianPoint": {
             "Coordinate": [
              "36.968681",
              "11.169988",
              "0.000000"
             ]
            },
            "Height": "3.400000",
            "Tilt": "90.000000",
            "Width": "7.177800"
           }
          },
          {
           "@constructionIdRef": "STD_PART",
           "@id": "surface-6",
           "@surfaceType": "InteriorWall",
           "AdjacentSpaceId": [
            {
             "@spaceIdRef": "TR000001"
            },
            {
             "@spaceIdRef": "TR000003"
            }
           ],
           "PlanarGeometry": {
            "PolyLoop": {
             "CartesianPoint": [
              {
               "Coordinate": [
                "36.968681",
                "11.169988",
                "3.400000"
               ]
              },
              {
               "Coordinate": [
                "29.193419",
                "11.169988",
                "3.400000"
               ]
              },
              {
               "Coordinate": [
                "29.193419",
                "11.169988",
                "-0.000000"
               ]
              },
              {
               "Coordinate": [
                "36.968681",
                "11.169988",
                "-0.000000"
               ]
              }
             ]
            }
           },
           "RectangularGeometry": {
            "Azimuth": "180.000000",
            "CartesianPoint": {
             "Coordinate": [
              "29.193419",
              "11.169988",
              "-0.000000"
             ]
            },
            "Height": "3.400000",
            "Tilt": "90.000000",
            "Width": "7.775262"
           }
          },
          {
           "@constructionIdRef": "STD_FLO1",
           "@id": "surface-7",
           "@surfaceType": "ExposedFloor",
           "AdjacentSpaceId": {
            "@spaceIdRef": "TR000003"
           },
           "PlanarGeometry": {
            "PolyLoop": {
             "CartesianPoint": [
              {
               "Coordinate": [
                "36.968681",
                "3.969988",
                "0.000000"
               ]
              },
              {
               "Coordinate": [
                "29.193419",
                "3.969988",
                "0.000000"
               ]
              },
              {
               "Coordinate": [
                "29.193419",
                "11.169988",
                "0.000000"
               ]
              },
              {
               "Coordinate": [
                "36.968681",
                "11.169988",
                "0.000000"
               ]
              }
             ]
            }
           },
           "RectangularGeometry": {
            "Azimuth": "0.000000",
            "CartesianPoint": {
             "Coordinate": [
              "36.968681",
              "3.969988",
              "0.000000"
             ]
            },
            "Height": "7.200000",
            "Tilt": "180.000000",
            "Width": "7.775262"
           }
          },
          {
           "@constructionIdRef": "STD_CEIL",
           "@id": "surface-8",
           "@surfaceType": "Ceiling",
           "AdjacentSpaceId": [
            {
             "@spaceIdRef": "TR000003"
            },
            {
             "@spaceIdRef": "TR000007"
            }
           ],
           "PlanarGeometry": {
            "PolyLoop": {
             "CartesianPoint": [
              {
               "Coordinate": [
                "33.715237",
                "3.970000",
                "3.400000"
               ]
              },
              {
               "Coordinate": [
                "30.455237",
                "3.970000",
                "3.400000"
               ]
              },
              {
               "Coordinate": [
                "30.455237",
                "3.969988",
                "3.400000"
               ]
              },
              {
               "Coordinate": [
                "33.715237",
                "3.969988",
                "3.400000"
               ]
              }
             ]
            }
           },
           "RectangularGeometry": {
            "Azimuth": "0.000000",
            "CartesianPoint": {
             "Coordinate": [
              "33.715237",
              "3.970000",
              "3.400000"
             ]
            },
            "Height": "0.000012",
            "Tilt": "0.000000",
            "Width": "3.260000"
           }
          },
          {
           "@constructionIdRef": "STD_CEIL",
           "@id": "surface-9",
           "@surfaceType": "Ceiling",
           "AdjacentSpaceId": [
            {
             "@spaceIdRef": "TR000003"
            },
            {
             "@spaceIdRef": "TR000011"
            }
           ],
           "PlanarGeometry": {
            "PolyLoop": {
             "CartesianPoint": [
              {
               "Coordinate": [
                "36.968681",
                "11.169988",
                "3.400000"
               ]
              },
              {
               "Coordinate": [
                "30.455237",
                "11.169988",
                "3.400000"
               ]
              },
              {
               "Coordinate": [
                "30.455237",
                "3.970000",
                "3.400000"
               ]
              },
              {
               "Coordinate": [
                "36.968681",
                "3.970000",
                "3.400000"
               ]
              }
             ]
            }
           },
           "RectangularGeometry": {
            "Azimuth": "0.000000",
            "CartesianPoint": {
             "Coordinate": [
              "36.968681",
              "11.169988",
              "3.400000"
             ]
            },
            "Height": "7.199988",
            "Tilt": "0.000000",
            "Width": "6.513444"
           }
          },
          {
           "@constructionIdRef": "STD_CEIL",
           "@id": "surface-10",
           "@surfaceType": "Ceiling",
           "AdjacentSpaceId": [
            {
             "@spaceIdRef": "TR000003"
            },
            {
             "@spaceIdRef": "TR000010"
            }
           ],
           "PlanarGeometry": {
            "PolyLoop": {
             "CartesianPoint": [
              {
               "Coordinate": [
                "36.968681",
                "3.970000",
                "3.400000"
               ]
              },
              {
               "Coordinate": [
                "33.715237",
                "3.970000",
                "3.400000"
               ]
              },
              {
               "Coordinate": [
                "33.715237",
                "3.969988",
                "3.400000"
               ]
              },
              {
               "Coordinate": [
                "36.968681",
                "3.969988",
                "3.400000"
               ]
              }
             ]
            }
           },
           "RectangularGeometry": {
            "Azimuth": "0.000000",
            "CartesianPoint": {
             "Coordinate": [
              "36.968681",
              "3.970000",
              "3.400000"
             ]
            },
            "Height": "0.000012",
            "Tilt": "0.000000",
            "Width": "3.253444"
           }
          },
          {
           "@constructionIdRef": "STD_CEIL",
           "@id": "surface-11",
           "@surfaceType": "Ceiling",
           "AdjacentSpaceId": [
            {
             "@spaceIdRef": "TR000003"
            },
            {
             "@spaceIdRef": "TR000012"
            }
           ],
           "PlanarGeometry": {
            "PolyLoop": {
             "CartesianPoint": [
              {
               "Coordinate": [
                "30.455237",
                "11.169988",
                "3.400000"
               ]
              },
              {
               "Coordinate": [
                "29.193419",
                "11.169988",
                "3.400000"
               ]
              },
              {
               "Coordinate": [
                "29.193419",
                "3.969988",
                "3.400000"
               ]
              },
              {
               "Coordinate": [
                "30.455237",
                "3.969988",
                "3.400000"
               ]
              }
             ]
            }
           },
           "RectangularGeometry": {
            "Azimuth": "0.000000",
            "CartesianPoint": {
             "Coordinate": [
              "30.455237",
              "11.169988",
              "3.400000"
             ]
            },
            "Height": "7.200000",
            "Tilt": "0.000000",
            "Width": "1.261818"
           }
          },
          {
           "@constructionIdRef": "STD_WAL1",
           "@id": "surface-12",
           "@surfaceType": "ExteriorWall",
           "AdjacentSpaceId": {
            "@spaceIdRef": "TR000003"
           },
           "Opening": [
            {
             "@constructionIdRef": "STD_DOOR",
             "@id": "surface-12-opening-1",
             "@openingType": "NonSlidingDoor",
             "PlanarGeometry": {
              "PolyLoop": {
               "CartesianPoint": [
                {
                 "Coordinate": [
                  "29.193419",
                  "10.510000",
                  "0.000000"
                 ]
                },
                {
                 "Coordinate": [
                  "29.193419",
                  "8.760000",
                  "0.000000"
                 ]
                },
                {
                 "Coordinate": [
                  "29.193419",
                  "8.760000",
                  "2.250000"
                 ]
                },
                {
                 "Coordinate": [
                  "29.193419",
                  "10.510000",
                  "2.250000"
                 ]
                }
               ]
              }
             },
             "RectangularGeometry": {
              "CartesianPoint": {
               "Coordinate": [
                "0.659988",
                "0.000000"
               ]
              },
              "Height": "2.250000",
              "Width": "1.750000"
             }
            },
            {
             "@id": "surface-12-opening-2",
             "@openingType": "FixedWindow",
             "@windowTypeIdRef": "STD_EXTW",
             "PlanarGeometry": {
              "PolyLoop": {
               "CartesianPoint": [
                {
                 "Coordinate": [
                  "29.193419",
                  "6.960000",
                  "0.750000"
                 ]
                },
                {
                 "Coordinate": [
                  "29.193419",
                  "5.260000",
                  "0.750000"
                 ]
                },
                {
                 "Coordinate": [
                  "29.193419",
                  "5.260000",
                  "2.250000"
                 ]
                },
                {
                 "Coordinate": [
                  "29.193419",
                  "6.960000",
                  "2.250000"
                 ]
                }
               ]
              }
             },
             "RectangularGeometry": {
              "CartesianPoint": {
               "Coordinate": [
                "4.209988",
                "0.750000"
               ]
              },
              "Height": "1.500000",
              "Width": "1.700000"
             }
            }
           ],
           "PlanarGeometry": {
            "PolyLoop": {
             "CartesianPoint": [
              {
               "Coordinate": [
                "29.193419",
                "11.169988",
                "0.000000"
               ]
              },
              {
               "Coordinate": [
                "29.193419",
                "3.969988",
                "0.000000"
               ]
              },
              {
               "Coordinate": [
                "29.193419",
                "3.969988",
                "3.400000"
               ]
              },
              {
               "Coordinate": [
                "29.193419",
                "11.169988",
                "3.400000"
               ]
              }
             ]
            }
           },
           "RectangularGeometry": {
            "Azimuth": "270.000000",
            "CartesianPoint": {
             "Coordinate": [
              "29.193419",
              "11.169988",
              "-0.000000"
             ]
            },
            "Height": "3.400000",
            "Tilt": "90.000000",
            "Width": "7.200000"
           }
          },
          {
           "@constructionIdRef": "STD_WAL1",
           "@id": "surface-13",
           "@surfaceType": "ExteriorWall",
           "AdjacentSpaceId": {
            "@spaceIdRef": "TR000003"
           },
           "Opening": [
            {
             "@id": "surface-13-opening-1",
             "@openingType": "FixedWindow",
             "@windowTypeIdRef": "STD_EXTW",
             "PlanarGeometry": {
              "PolyLoop": {
               "CartesianPoint": [
                {
                 "Coordinate": [
                  "36.968681",
                  "8.230000",
                  "0.750000"
                 ]
                },
                {
                 "Coordinate": [
                  "36.968681",
                  "10.530000",
                  "0.750000"
                 ]
                },
                {
                 "Coordinate": [
                  "36.968681",
                  "10.530000",
                  "2.250000"
                 ]
                },
                {
                 "Coordinate": [
                  "36.968681",
                  "8.230000",
                  "2.250000"
                 ]
                }
               ]
              }
             },
             "RectangularGeometry": {
              "CartesianPoint": {
               "Coordinate": [
                "4.260012",
                "0.750000"
               ]
              },
              "Height": "1.500000",
              "Width": "2.300000"
             }
            },
            {
             "@constructionIdRef": "STD_DOOR",
             "@id": "surface-13-opening-2",
             "@openingType": "NonSlidingDoor",
             "PlanarGeometry": {
              "PolyLoop": {
               "CartesianPoint": [
                {
                 "Coordinate": [
                  "36.968681",
                  "5.150000",
                  "-0.000000"
                 ]
                },
                {
                 "Coordinate": [
                  "36.968681",
                  "6.900000",
                  "-0.000000"
                 ]
                },
                {
                 "Coordinate": [
                  "36.968681",
                  "6.900000",
                  "2.250000"
                 ]
                },
                {
                 "Coordinate": [
                  "36.968681",
                  "5.150000",
                  "2.250000"
                 ]
                }
               ]
              }
             },
             "RectangularGeometry": {
              "CartesianPoint": {
               "Coordinate": [
                "1.180012",
                "0.000000"
               ]
              },
              "Height": "2.250000",
              "Width": "1.750000"
             }
            }
           ],
           "PlanarGeometry": {
            "PolyLoop": {
             "CartesianPoint": [
              {
               "Coordinate": [
                "36.968681",
                "3.969988",
                "0.000000"
               ]
              },
              {
               "Coordinate": [
                "36.968681",
                "11.169988",
                "0.000000"
               ]
              },
              {
               "Coordinate": [
                "36.968681",
                "11.169988",
                "3.400000"
               ]
              },
              {
               "Coordinate": [
                "36.968681",
                "3.969988",
                "3.400000"
               ]
              }
             ]
            }
           },
           "RectangularGeometry": {
            "Azimuth": "90.000000",
            "CartesianPoint": {
             "Coordinate": [
              "36.968681",
              "3.969988",
              "0.000000"
             ]
            },
            "Height": "3.400000",
            "Tilt": "90.000000",
            "Width": "7.200000"
           }
          },
          {
           "@constructionIdRef": "STD_PART",
           "@id": "surface-14",
           "@surfaceType": "InteriorWall",
           "AdjacentSpaceId": [
            {
             "@spaceIdRef": "TR000003"
            },
            {
             "@spaceIdRef": "TR000002"
            }
           ],
           "PlanarGeometry": {
            "PolyLoop": {
             "CartesianPoint": [
              {
               "Coordinate": [
                "36.968681",
                "3.969988",
                "3.400000"
               ]
              },
              {
               "Coordinate": [
                "30.493681",
                "3.969988",
                "3.400000"
               ]
              },
              {
               "Coordinate": [
                "30.493681",
                "3.969988",
                "-0.000000"
               ]
              },
              {
               "Coordinate": [
                "36.968681",
                "3.969988",
                "-0.000000"
               ]
              }
             ]
            }
           },
           "RectangularGeometry": {
            "Azimuth": "180.000000",
            "CartesianPoint": {
             "Coordinate": [
              "30.493681",
              "3.969988",
              "-0.000000"
             ]
            },
            "Height": "3.400000",
            "Tilt": "90.000000",
            "Width": "6.475000"
           }
          },
          {
           "@constructionIdRef": "STD_WAL1",
           "@id": "surface-15",
           "@surfaceType": "ExteriorWall",
           "AdjacentSpaceId": {
            "@spaceIdRef": "TR000003"
           },
           "PlanarGeometry": {
            "PolyLoop": {
             "CartesianPoint": [
              {
               "Coordinate": [
                "29.193419",
                "3.969988",
                "0.000000"
               ]
              },
              {
               "Coordinate": [
                "30.493681",
                "3.969988",
                "0.000000"
               ]
              },
              {
               "Coordinate": [
                "30.493681",
                "3.969988",
                "3.400000"
               ]
              },
              {
               "Coordinate": [
                "29.193419",
                "3.969988",
                "3.400000"
               ]
              }
             ]
            }
           },
           "RectangularGeometry": {
            "Azimuth": "180.000000",
            "CartesianPoint": {
             "Coordinate": [
              "29.193419",
              "3.969988",
              "-0.000000"
             ]
            },
            "Height": "3.400000",
            "Tilt": "90.000000",
            "Width": "1.300262"
           }
          },
          {
           "@constructionIdRef": "STD_ROOF",
           "@id": "surface-16",
           "@surfaceType": "Roof",
           "AdjacentSpaceId": {
            "@spaceIdRef": "TR000006"
           },
           "PlanarGeometry": {
            "PolyLoop": {
             "CartesianPoint": [
              {
               "Coordinate": [
                "36.968681",
                "18.347788",
                "6.800000"
               ]
              },
              {
               "Coordinate": [
                "29.193419",
                "18.347788",
                "6.800000"
               ]
              },
              {
               "Coordinate": [
                "29.193419",
                "11.169988",
                "6.800000"
               ]
              },
              {
               "Coordinate": [
                "36.968681",
                "11.169988",
                "6.800000"
               ]
              }
             ]
            }
           },
           "RectangularGeometry": {
            "Azimuth": "0.000000",
            "CartesianPoint": {
             "Coordinate": [
              "36.968681",
              "18.347788",
              "6.800000"
             ]
            },
            "Height": "7.177800",
            "Tilt": "0.000000",
            "Width": "7.775262"
           }
          },
          {
           "@constructionIdRef": "STD_WAL1",
           "@id": "surface-17",
           "@surfaceType": "ExteriorWall",
           "AdjacentSpaceId": {
            "@spaceIdRef": "TR000006"
           },
           "Opening": [
            {
             "@id": "surface-17-opening-1",
             "@openingType": "FixedWindow",
             "@windowTypeIdRef": "STD_EXTW",
             "PlanarGeometry": {
              "PolyLoop": {
               "CartesianPoint": [
                {
                 "Coordinate": [
                  "29.193419",
                  "17.160000",
                  "4.300000"
                 ]
                },
                {
                 "Coordinate": [
                  "29.193419",
                  "15.460000",
                  "4.300000"
                 ]
                },
                {
                 "Coordinate": [
                  "29.193419",
                  "15.460000",
                  "5.800000"
                 ]
                },
                {
                 "Coordinate": [
                  "29.193419",
                  "17.160000",
                  "5.800000"
                 ]
                }
               ]
              }
             },
             "RectangularGeometry": {
              "CartesianPoint": {
               "Coordinate": [
                "1.187788",
                "0.900000"
               ]
              },
              "Height": "1.500000",
              "Width": "1.700000"
             }
            },
            {
             "@id": "surface-17-opening-2",
             "@openingType": "FixedWindow",
             "@windowTypeIdRef": "STD_EXTW",
             "PlanarGeometry": {
              "PolyLoop": {
               "CartesianPoint": [
                {
                 "Coordinate": [
                  "29.193419",
                  "14.100000",
                  "4.300000"
                 ]
                },
                {
                 "Coordinate": [
                  "29.193419",
                  "11.800000",
                  "4.300000"
                 ]
                },
                {
                 "Coordinate": [
                  "29.193419",
                  "11.800000",
                  "5.800000"
                 ]
                },
                {
                 "Coordinate": [
                  "29.193419",
                  "14.100000",
                  "5.800000"
                 ]
                }
               ]
              }
             },
             "RectangularGeometry": {
              "CartesianPoint": {
               "Coordinate": [
                "4.247788",
                "0.900000"
               ]
              },
              "Height": "1.500000",
              "Width": "2.300000"
             }
            }
           ],
           "PlanarGeometry": {
            "PolyLoop": {
             "CartesianPoint": [
              {
               "Coordinate": [
                "29.193419",
                "18.347788",
                "3.400000"
               ]
              },
              {
               "Coordinate": [
                "29.193419",
                "11.169988",
                "3.400000"
               ]
              },
              {
               "Coordinate": [
                "29.193419",
                "11.169988",
                "6.800000"
               ]
              },
              {
               "Coordinate": [
                "29.193419",
                "18.347788",
                "6.800000"
               ]
              }
             ]
            }
           },
           "RectangularGeometry": {
            "Azimuth": "270.000000",
            "CartesianPoint": {
             "Coordinate": [
              "29.193419",
              "18.347788",
              "3.400000"
             ]
            },
            "Height": "3.400000",
            "Tilt": "90.000000",
            "Width": "7.177800"
           }
          },
          {
           "@constructionIdRef": "STD_WAL1",
           "@id": "surface-18",
           "@surfaceType": "ExteriorWall",
           "AdjacentSpaceId": {
            "@spaceIdRef": "TR000006"
           },
           "PlanarGeometry": {
            "PolyLoop": {
             "CartesianPoint": [
              {
               "Coordinate": [
                "29.193419",
                "18.347788",
                "6.800000"
               ]
              },
              {
               "Coordinate": [
                "36.968681",
                "18.347788",
                "6.800000"
               ]
              },
              {
               "Coordinate": [
                "36.968681",
                "18.347788",
                "3.400000"
               ]
              },
              {
               "Coordinate": [
                "29.193419",
                "18.347788",
                "3.400000"
               ]
              }
             ]
            }
           },
           "RectangularGeometry": {
            "Azimuth": "0.000000",
            "CartesianPoint": {
             "Coordinate": [
              "36.968681",
              "18.347788",
              "3.400000"
             ]
            },
            "Height": "3.400000",
            "Tilt": "90.000000",
            "Width": "7.775262"
           }
          },
          {
           "@constructionIdRef": "STD_WAL1",
           "@id": "surface-19",
           "@surfaceType": "ExteriorWall",
           "AdjacentSpaceId": {
            "@spaceIdRef": "TR000006"
           },
           "Opening": [
            {
             "@id": "surface-19-opening-1",
             "@openingType": "FixedWindow",
             "@windowTypeIdRef": "STD_EXTW",
             "PlanarGeometry": {
              "PolyLoop": {
               "CartesianPoint": [
                {
                 "Coordinate": [
                  "36.968681",
                  "15.440000",
                  "4.300000"
                 ]
                },
                {
                 "Coordinate": [
                  "36.968681",
                  "17.143553",
                  "4.300000"
                 ]
                },
                {
                 "Coordinate": [
                  "36.968681",
                  "17.143553",
                  "5.800000"
                 ]
                },
                {
                 "Coordinate": [
                  "36.968681",
                  "15.440000",
                  "5.800000"
                 ]
                }
               ]
              }
             },
             "RectangularGeometry": {
              "CartesianPoint": {
               "Coordinate": [
                "4.270012",
                "0.900000"
               ]
              },
              "Height": "1.500000",
              "Width": "1.703553"
             }
            },
            {
             "@id": "surface-19-opening-2",
             "@openingType": "FixedWindow",
             "@windowTypeIdRef": "STD_EXTW",
             "PlanarGeometry": {
              "PolyLoop": {
               "CartesianPoint": [
                {
                 "Coordinate": [
                  "36.968681",
                  "11.830000",
                  "4.300000"
                 ]
                },
                {
                 "Coordinate": [
                  "36.968681",
                  "14.170000",
                  "4.300000"
                 ]
                },
                {
                 "Coordinate": [
                  "36.968681",
                  "14.170000",
                  "5.800000"
                 ]
                },
                {
                 "Coordinate": [
                  "36.968681",
                  "11.830000",
                  "5.800000"
                 ]
                }
               ]
              }
             },
             "RectangularGeometry": {
              "CartesianPoint": {
               "Coordinate": [
                "0.660012",
                "0.900000"
               ]
              },
              "Height": "1.500000",
              "Width": "2.340000"
             }
            }
           ],
           "PlanarGeometry": {
            "PolyLoop": {
             "CartesianPoint": [
              {
               "Coordinate": [
                "36.968681",
                "11.169988",
                "3.400000"
               ]
              },
              {
               "Coordinate": [
                "36.968681",
                "18.347788",
                "3.400000"
               ]
              },
              {
               "Coordinate": [
                "36.968681",
                "18.347788",
                "6.800000"
               ]
              },
              {
               "Coordinate": [
                "36.968681",
                "11.169988",
                "6.800000"
               ]
              }
             ]
            }
           },
           "RectangularGeometry": {
            "Azimuth": "90.000000",
            "CartesianPoint": {
             "Coordinate": [
              "36.968681",
              "11.169988",
              "3.400000"
             ]
            },
            "Height": "3.400000",
            "Tilt": "90.000000",
            "Width": "7.177800"
           }
          },
          {
           "@constructionIdRef": "STD_PART",
           "@id": "surface-20",
           "@surfaceType": "InteriorWall",
           "AdjacentSpaceId": [
            {
             "@spaceIdRef": "TR000006"
            },
            {
             "@spaceIdRef": "TR000011"
            }
           ],
           "Opening": {
            "@constructionIdRef": "STD_DOOR",
            "@id": "surface-20-opening-1",
            "@openingType": "NonSlidingDoor",
            "PlanarGeometry": {
             "PolyLoop": {
              "CartesianPoint": [
               {
                "Coordinate": [
                 "35.943681",
                 "11.169988",
                 "3.400000"
                ]
               },
               {
                "Coordinate": [
                 "36.793681",
                 "11.169988",
                 "3.400000"
                ]
               },
               {
                "Coordinate": [
                 "36.793681",
                 "11.169988",
                 "5.650000"
                ]
               },
               {
                "Coordinate": [
                 "35.943681",
                 "11.169988",
                 "5.650000"
                ]
               }
              ]
             }
            },
            "RectangularGeometry": {
             "CartesianPoint": {
              "Coordinate": [
               "5.488444",
               "0.000000"
              ]
             },
             "Height": "2.250000",
             "Width": "0.850000"
            }
           },
           "PlanarGeometry": {
            "PolyLoop": {
             "CartesianPoint": [
              {
               "Coordinate": [
                "36.968681",
                "11.169988",
                "6.800000"
               ]
              },
              {
               "Coordinate": [
                "30.455237",
                "11.169988",
                "6.800000"
               ]
              },
              {
               "Coordinate": [
                "30.455237",
                "11.169988",
                "3.400000"
               ]
              },
              {
               "Coordinate": [
                "36.968681",
                "11.169988",
                "3.400000"
               ]
              }
             ]
            }
           },
           "RectangularGeometry": {
            "Azimuth": "180.000000",
            "CartesianPoint": {
             "Coordinate": [
              "30.455237",
              "11.169988",
              "3.400000"
             ]
            },
            "Height": "3.400000",
            "Tilt": "90.000000",
            "Width": "6.513444"
           }
          },
          {
           "@constructionIdRef": "STD_PART",
           "@id": "surface-21",
           "@surfaceType": "InteriorWall",
           "AdjacentSpaceId": [
            {
             "@spaceIdRef": "TR000006"
            },
            {
             "@spaceIdRef": "TR000012"
            }
           ],
           "Opening": {
            "@constructionIdRef": "STD_DOOR",
            "@id": "surface-21-opening-1",
            "@openingType": "NonSlidingDoor",
            "PlanarGeometry": {
             "PolyLoop": {
              "CartesianPoint": [
               {
                "Coordinate": [
                 "30.195237",
                 "11.169988",
                 "5.600000"
                ]
               },
               {
                "Coordinate": [
                 "29.345237",
                 "11.169988",
                 "5.600000"
                ]
               },
               {
                "Coordinate": [
                 "29.345237",
                 "11.169988",
                 "3.400000"
                ]
               },
               {
                "Coordinate": [
                 "30.195237",
                 "11.169988",
                 "3.400000"
                ]
               }
              ]
             }
            },
            "RectangularGeometry": {
             "CartesianPoint": {
              "Coordinate": [
               "0.151818",
               "0.000000"
              ]
             },
             "Height": "2.200000",
             "Width": "0.850000"
            }
           },
           "PlanarGeometry": {
            "PolyLoop": {
             "CartesianPoint": [
              {
               "Coordinate": [
                "30.455237",
                "11.169988",
                "6.800000"
               ]
              },
              {
               "Coordinate": [
                "29.193419",
                "11.169988",
                "6.800000"
               ]
              },
              {
               "Coordinate": [
                "29.193419",
                "11.169988",
                "3.400000"
               ]
              },
              {
               "Coordinate": [
                "30.455237",
                "11.169988",
                "3.400000"
               ]
              }
             ]
            }
           },
           "RectangularGeometry": {
            "Azimuth": "180.000000",
            "CartesianPoint": {
             "Coordinate": [
              "29.193419",
              "11.169988",
              "3.400000"
             ]
            },
            "Height": "3.400000",
            "Tilt": "90.000000",
            "Width": "1.261818"
           }
          },
          {
           "@constructionIdRef": "STD_FLO1",
           "@id": "surface-22",
           "@surfaceType": "ExposedFloor",
           "AdjacentSpaceId": {
            "@spaceIdRef": "TR000009"
           },
           "PlanarGeometry": {
            "PolyLoop": {
             "CartesianPoint": [
              {
               "Coordinate": [
                "30.493681",
                "0.394968",
                "0.000000"
               ]
              },
              {
               "Coordinate": [
                "29.193419",
                "0.394968",
                "0.000000"
               ]
              },
              {
               "Coordinate": [
                "29.193419",
                "2.205237",
                "0.000000"
               ]
              },
              {
               "Coordinate": [
                "30.493681",
                "2.205237",
                "0.000000"
               ]
              }
             ]
            }
           },
           "RectangularGeometry": {
            "Azimuth": "0.000000",
            "CartesianPoint": {
             "Coordinate": [
              "30.493681",
              "0.394968",
              "0.000000"
             ]
            },
            "Height": "1.810269",
            "Tilt": "180.000000",
            "Width": "1.300262"
           }
          },
          {
           "@constructionIdRef": "STD_CEIL",
           "@id": "surface-23",
           "@surfaceType": "Ceiling",
           "AdjacentSpaceId": [
            {
             "@spaceIdRef": "TR000009"
            },
            {
             "@spaceIdRef": "TR000007"
            }
           ],
           "PlanarGeometry": {
            "PolyLoop": {
             "CartesianPoint": [
              {
               "Coordinate": [
                "30.493681",
                "2.205237",
                "3.400000"
               ]
              },
              {
               "Coordinate": [
                "30.455237",
                "2.205237",
                "3.400000"
               ]
              },
              {
               "Coordinate": [
                "30.455237",
                "1.680000",
                "3.400000"
               ]
              },
              {
               "Coordinate": [
                "30.493681",
                "1.679837",
                "3.400000"
               ]
              }
             ]
            }
           },
           "RectangularGeometry": {
            "Azimuth": "0.000000",
            "CartesianPoint": {
             "Coordinate": [
              "30.493681",
              "2.205237",
              "3.400000"
             ]
            },
            "Height": "0.525400",
            "Tilt": "0.000000",
            "Width": "0.038444"
           }
          },
          {
           "@constructionIdRef": "STD_CEIL",
           "@id": "surface-24",
           "@surfaceType": "Ceiling",
           "AdjacentSpaceId": [
            {
             "@spaceIdRef": "TR000009"
            },
            {
             "@spaceIdRef": "TR000012"
            }
           ],
           "PlanarGeometry": {
            "PolyLoop": {
             "CartesianPoint": [
              {
               "Coordinate": [
                "30.455237",
                "2.205237",
                "3.400000"
               ]
              },
              {
               "Coordinate": [
                "29.193419",
                "2.205237",
                "3.400000"
               ]
              },
              {
               "Coordinate": [
                "29.193419",
                "0.394968",
                "3.400000"
               ]
              },
              {
               "Coordinate": [
                "30.493681",
                "0.394968",
                "3.400000"
               ]
              },
              {
               "Coordinate": [
                "30.493681",
                "1.679837",
                "3.400000"
               ]
              },
              {
               "Coordinate": [
                "30.455237",
                "1.680000",
                "3.400000"
               ]
              }
             ]
            }
           },
           "RectangularGeometry": {
            "Azimuth": "0.000000",
            "CartesianPoint": {
             "Coordinate": [
              "30.493681",
              "2.205237",
              "3.400000"
             ]
            },
            "Height": "1.810269",
            "Tilt": "0.000000",
            "Width": "1.300262"
           }
          },
          {
           "@constructionIdRef": "STD_WAL1",
           "@id": "surface-25",
           "@surfaceType": "ExteriorWall",
           "AdjacentSpaceId": {
            "@spaceIdRef": "TR000009"
           },
           "PlanarGeometry": {
            "PolyLoop": {
             "CartesianPoint": [
              {
               "Coordinate": [
                "29.193419",
                "2.205237",
                "0.000000"
               ]
              },
              {
               "Coordinate": [
                "29.193419",
                "0.394968",
                "0.000000"
               ]
              },
              {
               "Coordinate": [
                "29.193419",
                "0.394968",
                "3.400000"
               ]
              },
              {
               "Coordinate": [
                "29.193419",
                "2.205237",
                "3.400000"
               ]
              }
             ]
            }
           },
           "RectangularGeometry": {
            "Azimuth": "270.000000",
            "CartesianPoint": {
             "Coordinate": [
              "29.193419",
              "2.205237",
              "-0.000000"
             ]
            },
            "Height": "3.400000",
            "Tilt": "90.000000",
            "Width": "1.810269"
           }
          },
          {
           "@constructionIdRef": "STD_WAL1",
           "@id": "surface-26",
           "@surfaceType": "ExteriorWall",
           "AdjacentSpaceId": {
            "@spaceIdRef": "TR000009"
           },
           "PlanarGeometry": {
            "PolyLoop": {
             "CartesianPoint": [
              {
               "Coordinate": [
                "29.193419",
                "0.394968",
                "0.000000"
               ]
              },
              {
               "Coordinate": [
                "30.493681",
                "0.394968",
                "0.000000"
               ]
              },
              {
               "Coordinate": [
                "30.493681",
                "0.394968",
                "3.400000"
               ]
              },
              {
               "Coordinate": [
                "29.193419",
                "0.394968",
                "3.400000"
               ]
              }
             ]
            }
           },
           "RectangularGeometry": {
            "Azimuth": "180.000000",
            "CartesianPoint": {
             "Coordinate": [
              "29.193419",
              "0.394968",
              "-0.000000"
             ]
            },
            "Height": "3.400000",
            "Tilt": "90.000000",
            "Width": "1.300262"
           }
          },
          {
           "@constructionIdRef": "STD_PART",
           "@id": "surface-27",
           "@surfaceType": "InteriorWall",
           "AdjacentSpaceId": [
            {
             "@spaceIdRef": "TR000009"
            },
            {
             "@spaceIdRef": "TR00000A"
            }
           ],
           "PlanarGeometry": {
            "PolyLoop": {
             "CartesianPoint": [
              {
               "Coordinate": [
                "30.493681",
                "2.205237",
                "3.400000"
               ]
              },
              {
               "Coordinate": [
                "30.493681",
                "0.394968",
                "3.400000"
               ]
              },
              {
               "Coordinate": [
                "30.493681",
                "0.394968",
                "0.000000"
               ]
              },
              {
               "Coordinate": [
                "30.493681",
                "2.205237",
                "0.000000"
               ]
              }
             ]
            }
           },
           "RectangularGeometry": {
            "Azimuth": "90.000000",
            "CartesianPoint": {
             "Coordinate": [
              "30.493681",
              "0.394968",
              "0.000000"
             ]
            },
            "Height": "3.400000",
            "Tilt": "90.000000",
            "Width": "1.810269"
           }
          },
          {
           "@constructionIdRef": "STD_WAL1",
           "@id": "surface-28",
           "@surfaceType": "ExteriorWall",
           "AdjacentSpaceId": {
            "@spaceIdRef": "TR000009"
           },
           "Opening": {
            "@constructionIdRef": "STD_DOOR",
            "@id": "surface-28-opening-1",
            "@openingType": "NonSlidingDoor",
            "PlanarGeometry": {
             "PolyLoop": {
              "CartesianPoint": [
               {
                "Coordinate": [
                 "30.213681",
                 "2.205237",
                 "-0.000000"
                ]
               },
               {
                "Coordinate": [
                 "29.413681",
                 "2.205237",
                 "-0.000000"
                ]
               },
               {
                "Coordinate": [
                 "29.413681",
                 "2.205237",
                 "2.250000"
                ]
               },
               {
                "Coordinate": [
                 "30.213681",
                 "2.205237",
                 "2.250000"
                ]
               }
              ]
             }
            },
            "RectangularGeometry": {
             "CartesianPoint": {
              "Coordinate": [
               "0.280000",
               "0.000000"
              ]
             },
             "Height": "2.250000",
             "Width": "0.800000"
            }
           },
           "PlanarGeometry": {
            "PolyLoop": {
             "CartesianPoint": [
              {
               "Coordinate": [
                "29.193419",
                "2.205237",
                "3.400000"
               ]
              },
              {
               "Coordinate": [
                "30.493681",
                "2.205237",
                "3.400000"
               ]
              },
              {
               "Coordinate": [
                "30.493681",
                "2.205237",
                "0.000000"
               ]
              },
              {
               "Coordinate": [
                "29.193419",
                "2.205237",
                "0.000000"
               ]
              }
             ]
            }
           },
           "RectangularGeometry": {
            "Azimuth": "0.000000",
            "CartesianPoint": {
             "Coordinate": [
              "30.493681",
              "2.205237",
              "0.000000"
             ]
            },
            "Height": "3.400000",
            "Tilt": "90.000000",
            "Width": "1.300262"
           }
          },
          {
           "@constructionIdRef": "STD_CEIL",
           "@id": "surface-29",
           "@surfaceType": "Ceiling",
           "AdjacentSpaceId": [
            {
             "@spaceIdRef": "RM000002"
            },
            {
             "@spaceIdRef": "00000001"
            }
           ],
           "PlanarGeometry": {
            "PolyLoop": {
             "CartesianPoint": [
              {
               "Coordinate": [
                "21.956680",
                "0.382000",
                "3.400000"
               ]
              },
              {
               "Coordinate": [
                "11.203681",
                "0.382000",
                "3.400000"
               ]
              },
              {
               "Coordinate": [
                "11.203681",
                "1.655237",
                "3.400000"
               ]
              },
              {
               "Coordinate": [
                "21.956680",
                "1.655237",
                "3.400000"
               ]
              }
             ]
            }
           },
           "RectangularGeometry": {
            "Azimuth": "0.000000",
            "CartesianPoint": {
             "Coordinate": [
              "21.956680",
              "0.382000",
              "3.400000"
             ]
            },
            "Height": "1.273237",
            "Tilt": "180.000000",
            "Width": "10.752999"
           }
          },
          {
           "@constructionIdRef": "STD_ROOF",
           "@id": "surface-30",
           "@surfaceType": "Roof",
           "AdjacentSpaceId": {
            "@spaceIdRef": "RM000002"
           },
           "PlanarGeometry": {
            "PolyLoop": {
             "CartesianPoint": [
              {
               "Coordinate": [
                "21.956680",
                "1.655237",
                "6.800000"
               ]
              },
              {
               "Coordinate": [
                "11.203681",
                "1.655237",
                "6.800000"
               ]
              },
              {
               "Coordinate": [
                "11.203681",
                "0.382000",
                "6.800000"
               ]
              },
              {
               "Coordinate": [
                "21.956680",
                "0.382000",
                "6.800000"
               ]
              }
             ]
            }
           },
           "RectangularGeometry": {
            "Azimuth": "0.000000",
            "CartesianPoint": {
             "Coordinate": [
              "21.956680",
              "1.655237",
              "6.800000"
             ]
            },
            "Height": "1.273237",
            "Tilt": "0.000000",
            "Width": "10.752999"
           }
          },
          {
           "@constructionIdRef": "STD_WAL1",
           "@id": "surface-31",
           "@surfaceType": "ExteriorWall",
           "AdjacentSpaceId": {
            "@spaceIdRef": "RM000002"
           },
           "Opening": {
            "@constructionIdRef": "STD_DOOR",
            "@id": "surface-31-opening-1",
            "@openingType": "NonSlidingDoor",
            "PlanarGeometry": {
             "PolyLoop": {
              "CartesianPoint": [
               {
                "Coordinate": [
                 "21.956680",
                 "0.490000",
                 "3.400000"
                ]
               },
               {
                "Coordinate": [
                 "21.956680",
                 "1.490000",
                 "3.400000"
                ]
               },
               {
                "Coordinate": [
                 "21.956680",
                 "1.490000",
                 "5.650000"
                ]
               },
               {
                "Coordinate": [
                 "21.956680",
                 "0.490000",
                 "5.650000"
                ]
               }
              ]
             }
            },
            "RectangularGeometry": {
             "CartesianPoint": {
              "Coordinate": [
               "0.108000",
               "0.000000"
              ]
             },
             "Height": "2.250000",
             "Width": "1.000000"
            }
           },
           "PlanarGeometry": {
            "PolyLoop": {
             "CartesianPoint": [
              {
               "Coordinate": [
                "21.956680",
                "0.382000",
                "3.400000"
               ]
              },
              {
               "Coordinate": [
                "21.956680",
                "1.655237",
                "3.400000"
               ]
              },
              {
               "Coordinate": [
                "21.956680",
                "1.655237",
                "6.800000"
               ]
              },
              {
               "Coordinate": [
                "21.956680",
                "0.382000",
                "6.800000"
               ]
              }
             ]
            }
           },
           "RectangularGeometry": {
            "Azimuth": "90.000000",
            "CartesianPoint": {
             "Coordinate": [
              "21.956680",
              "0.382000",
              "3.400000"
             ]
            },
            "Height": "3.400000",
            "Tilt": "90.000000",
            "Width": "1.273237"
           }
          },
          {
           "@constructionIdRef": "STD_WAL1",
           "@id": "surface-32",
           "@surfaceType": "ExteriorWall",
           "AdjacentSpaceId": {
            "@spaceIdRef": "RM000002"
           },
           "Opening": {
            "@id": "surface-32-opening-1",
            "@openingType": "FixedWindow",
            "@windowTypeIdRef": "STD_EXT2",
            "PlanarGeometry": {
             "PolyLoop": {
              "CartesianPoint": [
               {
                "Coordinate": [
                 "11.203681",
                 "0.382000",
                 "3.500000"
                ]
               },
               {
                "Coordinate": [
                 "20.733681",
                 "0.382000",
                 "3.500000"
                ]
               },
               {
                "Coordinate": [
                 "20.733681",
                 "0.382000",
                 "6.400000"
                ]
               },
               {
                "Coordinate": [
                 "11.203681",
                 "0.382000",
                 "6.400000"
                ]
               }
              ]
             }
            },
            "RectangularGeometry": {
             "CartesianPoint": {
              "Coordinate": [
               "0.000000",
               "0.100000"
              ]
             },
             "Height": "2.900000",
             "Width": "9.530000"
            }
           },
           "PlanarGeometry": {
            "PolyLoop": {
             "CartesianPoint": [
              {
               "Coordinate": [
                "11.203681",
                "0.382000",
                "3.400000"
               ]
              },
              {
               "Coordinate": [
                "21.956680",
                "0.382000",
                "3.400000"
               ]
              },
              {
               "Coordinate": [
                "21.956680",
                "0.382000",
                "6.800000"
               ]
              },
              {
               "Coordinate": [
                "11.203681",
                "0.382000",
                "6.800000"
               ]
              }
             ]
            }
           },
           "RectangularGeometry": {
            "Azimuth": "180.000000",
            "CartesianPoint": {
             "Coordinate": [
              "11.203681",
              "0.382000",
              "3.400000"
             ]
            },
            "Height": "3.400000",
            "Tilt": "90.000000",
            "Width": "10.752999"
           }
          },
          {
           "@constructionIdRef": "STD_PART",
           "@id": "surface-33",
           "@surfaceType": "InteriorWall",
           "AdjacentSpaceId": [
            {
             "@spaceIdRef": "RM000002"
            },
            {
             "@spaceIdRef": "01000002"
            }
           ],
           "Opening": {
            "@constructionIdRef": "STD_DOOR",
            "@id": "surface-33-opening-1",
            "@openingType": "NonSlidingDoor",
            "PlanarGeometry": {
             "PolyLoop": {
              "CartesianPoint": [
               {
                "Coordinate": [
                 "11.203681",
                 "1.395237",
                 "3.400000"
                ]
               },
               {
                "Coordinate": [
                 "11.203681",
                 "0.545237",
                 "3.400000"
                ]
               },
               {
                "Coordinate": [
                 "11.203681",
                 "0.545237",
                 "5.600000"
                ]
               },
               {
                "Coordinate": [
                 "11.203681",
                 "1.395237",
                 "5.600000"
                ]
               }
              ]
             }
            },
            "RectangularGeometry": {
             "CartesianPoint": {
              "Coordinate": [
               "0.260000",
               "0.000000"
              ]
             },
             "Height": "2.200000",
             "Width": "0.850000"
            }
           },
           "PlanarGeometry": {
            "PolyLoop": {
             "CartesianPoint": [
              {
               "Coordinate": [
                "11.203681",
                "1.655237",
                "3.400000"
               ]
              },
              {
               "Coordinate": [
                "11.203681",
                "0.382000",
                "3.400000"
               ]
              },
              {
               "Coordinate": [
                "11.203681",
                "0.382000",
                "6.800000"
               ]
              },
              {
               "Coordinate": [
                "11.203681",
                "1.655237",
                "6.800000"
               ]
              }
             ]
            }
           },
           "RectangularGeometry": {
            "Azimuth": "270.000000",
            "CartesianPoint": {
             "Coordinate": [
              "11.203681",
              "1.655237",
              "3.400000"
             ]
            },
            "Height": "3.400000",
            "Tilt": "90.000000",
            "Width": "1.273237"
           }
          },
          {
           "@constructionIdRef": "STD_PART",
           "@id": "surface-34",
           "@surfaceType": "InteriorWall",
           "AdjacentSpaceId": [
            {
             "@spaceIdRef": "RM000002"
            },
            {
             "@spaceIdRef": "RM000003"
            }
           ],
           "Opening": {
            "@constructionIdRef": "STD_DOOR",
            "@id": "surface-34-opening-1",
            "@openingType": "NonSlidingDoor",
            "PlanarGeometry": {
             "PolyLoop": {
              "CartesianPoint": [
               {
                "Coordinate": [
                 "12.793681",
                 "1.655237",
                 "3.400000"
                ]
               },
               {
                "Coordinate": [
                 "11.943681",
                 "1.655237",
                 "3.400000"
                ]
               },
               {
                "Coordinate": [
                 "11.943681",
                 "1.655237",
                 "5.600000"
                ]
               },
               {
                "Coordinate": [
                 "12.793681",
                 "1.655237",
                 "5.600000"
                ]
               }
              ]
             }
            },
            "RectangularGeometry": {
             "CartesianPoint": {
              "Coordinate": [
               "2.010000",
               "0.000000"
              ]
             },
             "Height": "2.200000",
             "Width": "0.850000"
            }
           },
           "PlanarGeometry": {
            "PolyLoop": {
             "CartesianPoint": [
              {
               "Coordinate": [
                "14.803681",
                "1.655237",
                "3.400000"
               ]
              },
              {
               "Coordinate": [
                "11.203681",
                "1.655237",
                "3.400000"
               ]
              },
              {
               "Coordinate": [
                "11.203681",
                "1.655237",
                "6.800000"
               ]
              },
              {
               "Coordinate": [
                "14.803681",
                "1.655237",
                "6.800000"
               ]
              }
             ]
            }
           },
           "RectangularGeometry": {
            "Azimuth": "0.000000",
            "CartesianPoint": {
             "Coordinate": [
              "14.803681",
              "1.655237",
              "3.400000"
             ]
            },
            "Height": "3.400000",
            "Tilt": "90.000000",
            "Width": "3.600000"
           }
          },
          {
           "@constructionIdRef": "STD_PART",
           "@id": "surface-35",
           "@surfaceType": "InteriorWall",
           "AdjacentSpaceId": [
            {
             "@spaceIdRef": "RM000002"
            },
            {
             "@spaceIdRef": "RM000004"
            }
           ],
           "Opening": {
            "@constructionIdRef": "STD_DOOR",
            "@id": "surface-35-opening-1",
            "@openingType": "NonSlidingDoor",
            "PlanarGeometry": {
             "PolyLoop": {
              "CartesianPoint": [
               {
                "Coordinate": [
                 "16.423681",
                 "1.655237",
                 "3.400000"
                ]
               },
               {
                "Coordinate": [
                 "15.573681",
                 "1.655237",
                 "3.400000"
                ]
               },
               {
                "Coordinate": [
                 "15.573681",
                 "1.655237",
                 "5.600000"
                ]
               },
               {
                "Coordinate": [
                 "16.423681",
                 "1.655237",
                 "5.600000"
                ]
               }
              ]
             }
            },
            "RectangularGeometry": {
             "CartesianPoint": {
              "Coordinate": [
               "1.980000",
               "0.000000"
              ]
             },
             "Height": "2.200000",
             "Width": "0.850000"
            }
           },
           "PlanarGeometry": {
            "PolyLoop": {
             "CartesianPoint": [
              {
               "Coordinate": [
                "18.403681",
                "1.655237",
                "3.400000"
               ]
              },
              {
               "Coordinate": [
                "14.803681",
                "1.655237",
                "3.400000"
               ]
              },
              {
               "Coordinate": [
                "14.803681",
                "1.655237",
                "6.800000"
               ]
              },
              {
               "Coordinate": [
                "18.403681",
                "1.655237",
                "6.800000"
               ]
              }
             ]
            }
           },
           "RectangularGeometry": {
            "Azimuth": "0.000000",
            "CartesianPoint": {
             "Coordinate": [
              "18.403681",
              "1.655237",
              "3.400000"
             ]
            },
            "Height": "3.400000",
            "Tilt": "90.000000",
            "Width": "3.600000"
           }
          },
          {
           "@constructionIdRef": "STD_PART",
           "@id": "surface-36",
           "@surfaceType": "InteriorWall",
           "AdjacentSpaceId": [
            {
             "@spaceIdRef": "RM000002"
            },
            {
             "@spaceIdRef": "01000000"
            }
           ],
           "Opening": {
            "@constructionIdRef": "STD_DOOR",
            "@id": "surface-36-opening-1",
            "@openingType": "NonSlidingDoor",
            "PlanarGeometry": {
             "PolyLoop": {
              "CartesianPoint": [
               {
                "Coordinate": [
                 "20.023681",
                 "1.655237",
                 "3.400000"
                ]
               },
               {
                "Coordinate": [
                 "19.173681",
                 "1.655237",
                 "3.400000"
                ]
               },
               {
                "Coordinate": [
                 "19.173681",
                 "1.655237",
                 "5.600000"
                ]
               },
               {
                "Coordinate": [
                 "20.023681",
                 "1.655237",
                 "5.600000"
                ]
               }
              ]
             }
            },
            "RectangularGeometry": {
             "CartesianPoint": {
              "Coordinate": [
               "1.932999",
               "0.000000"
              ]
             },
             "Height": "2.200000",
             "Width": "0.850000"
            }
           },
           "PlanarGeometry": {
            "PolyLoop": {
             "CartesianPoint": [
              {
               "Coordinate": [
                "21.956680",
                "1.655237",
                "3.400000"
               ]
              },
              {
               "Coordinate": [
                "18.403681",
                "1.655237",
                "3.400000"
               ]
              },
              {
               "Coordinate": [
                "18.403681",
                "1.655237",
                "6.800000"
               ]
              },
              {
               "Coordinate": [
                "21.956680",
                "1.655237",
                "6.800000"
               ]
              }
             ]
            }
           },
           "RectangularGeometry": {
            "Azimuth": "0.000000",
            "CartesianPoint": {
             "Coordinate": [
              "21.956680",
              "1.655237",
              "3.400000"
             ]
            },
            "Height": "3.400000",
            "Tilt": "90.000000",
            "Width": "3.552999"
           }
          },
          {
           "@constructionIdRef": "STD_CEIL",
           "@id": "surface-37",
           "@surfaceType": "Ceiling",
           "AdjacentSpaceId": [
            {
             "@spaceIdRef": "RM000003"
            },
            {
             "@spaceIdRef": "00000001"
            }
           ],
           "PlanarGeometry": {
            "PolyLoop": {
             "CartesianPoint": [
              {
               "Coordinate": [
                "14.803681",
                "1.655237",
                "3.400000"
               ]
              },
              {
               "Coordinate": [
                "11.203681",
                "1.655237",
                "3.400000"
               ]
              },
              {
               "Coordinate": [
                "11.203681",
                "8.158887",
                "3.400000"
               ]
              },
              {
               "Coordinate": [
                "14.803681",
                "8.158887",
                "3.400000"
               ]
              }
             ]
            }
           },
           "RectangularGeometry": {
            "Azimuth": "0.000000",
            "CartesianPoint": {
             "Coordinate": [
              "14.803681",
              "1.655237",
              "3.400000"
             ]
            },
            "Height": "6.503650",
            "Tilt": "180.000000",
            "Width": "3.600000"
           }
          },
          {
           "@constructionIdRef": "STD_ROOF",
           "@id": "surface-38",
           "@surfaceType": "Roof",
           "AdjacentSpaceId": {
            "@spaceIdRef": "RM000003"
           },
           "PlanarGeometry": {
            "PolyLoop": {
             "CartesianPoint": [
              {
               "Coordinate": [
                "14.803681",
                "8.158887",
                "6.800000"
               ]
              },
              {
               "Coordinate": [
                "11.203681",
                "8.158887",
                "6.800000"
               ]
              },
              {
               "Coordinate": [
                "11.203681",
                "1.655237",
                "6.800000"
               ]
              },
              {
               "Coordinate": [
                "14.803681",
                "1.655237",
                "6.800000"
               ]
              }
             ]
            }
           },
           "RectangularGeometry": {
            "Azimuth": "0.000000",
            "CartesianPoint": {
             "Coordinate": [
              "14.803681",
              "8.158887",
              "6.800000"
             ]
            },
            "Height": "6.503650",
            "Tilt": "0.000000",
            "Width": "3.600000"
           }
          },
          {
           "@constructionIdRef": "STD_WAL1",
           "@id": "surface-39",
           "@surfaceType": "ExteriorWall",
           "AdjacentSpaceId": {
            "@spaceIdRef": "RM000003"
           },
           "Opening": {
            "@id": "surface-39-opening-1",
            "@openingType": "FixedWindow",
            "@windowTypeIdRef": "STD_EXTW",
            "PlanarGeometry": {
             "PolyLoop": {
              "CartesianPoint": [
               {
                "Coordinate": [
                 "14.165237",
                 "8.158887",
                 "4.300000"
                ]
               },
               {
                "Coordinate": [
                 "11.865237",
                 "8.158887",
                 "4.300000"
                ]
               },
               {
                "Coordinate": [
                 "11.865237",
                 "8.158887",
                 "5.800000"
                ]
               },
               {
                "Coordinate": [
                 "14.165237",
                 "8.158887",
                 "5.800000"
                ]
               }
              ]
             }
            },
            "RectangularGeometry": {
             "CartesianPoint": {
              "Coordinate": [
               "0.638444",
               "0.900000"
              ]
             },
             "Height": "1.500000",
             "Width": "2.300000"
            }
           },
           "PlanarGeometry": {
            "PolyLoop": {
             "CartesianPoint": [
              {
               "Coordinate": [
                "14.803681",
                "8.158887",
                "3.400000"
               ]
              },
              {
               "Coordinate": [
                "11.203681",
                "8.158887",
                "3.400000"
               ]
              },
              {
               "Coordinate": [
                "11.203681",
                "8.158887",
                "6.800000"
               ]
              },
              {
               "Coordinate": [
                "14.803681",
                "8.158887",
                "6.800000"
               ]
              }
             ]
            }
           },
           "RectangularGeometry": {
            "Azimuth": "0.000000",
            "CartesianPoint": {
             "Coordinate": [
              "14.803681",
              "8.158887",
              "3.400000"
             ]
            },
            "Height": "3.400000",
            "Tilt": "90.000000",
            "Width": "3.600000"
           }
          },
          {
           "@constructionIdRef": "STD_PART",
           "@id": "surface-40",
           "@surfaceType": "InteriorWall",
           "AdjacentSpaceId": [
            {
             "@spaceIdRef": "RM000003"
            },
            {
             "@spaceIdRef": "01000002"
            }
           ],
           "PlanarGeometry": {
            "PolyLoop": {
             "CartesianPoint": [
              {
               "Coordinate": [
                "11.203681",
                "1.655237",
                "6.800000"
               ]
              },
              {
               "Coordinate": [
                "11.203681",
                "8.158887",
                "6.800000"
               ]
              },
              {
               "Coordinate": [
                "11.203681",
                "8.158887",
                "3.400000"
               ]
              },
              {
               "Coordinate": [
                "11.203681",
                "1.655237",
                "3.400000"
               ]
              }
             ]
            }
           },
           "RectangularGeometry": {
            "Azimuth": "270.000000",
            "CartesianPoint": {
             "Coordinate": [
              "11.203681",
              "8.158887",
              "3.400000"
             ]
            },
            "Height": "3.400000",
            "Tilt": "90.000000",
            "Width": "6.503650"
           }
          },
          {
           "@constructionIdRef": "STD_PART",
           "@id": "surface-41",
           "@surfaceType": "InteriorWall",
           "AdjacentSpaceId": [
            {
             "@spaceIdRef": "RM000003"
            },
            {
             "@spaceIdRef": "RM000004"
            }
           ],
           "PlanarGeometry": {
            "PolyLoop": {
             "CartesianPoint": [
              {
               "Coordinate": [
                "14.803681",
                "8.158887",
                "6.800000"
               ]
              },
              {
               "Coordinate": [
                "14.803681",
                "1.655237",
                "6.800000"
               ]
              },
              {
               "Coordinate": [
                "14.803681",
                "1.655237",
                "3.400000"
               ]
              },
              {
               "Coordinate": [
                "14.803681",
                "8.158887",
                "3.400000"
               ]
              }
             ]
            }
           },
           "RectangularGeometry": {
            "Azimuth": "90.000000",
            "CartesianPoint": {
             "Coordinate": [
              "14.803681",
              "1.655237",
              "3.400000"
             ]
            },
            "Height": "3.400000",
            "Tilt": "90.000000",
            "Width": "6.503650"
           }
          },
          {
           "@constructionIdRef": "STD_CEIL",
           "@id": "surface-42",
           "@surfaceType": "Ceiling",
           "AdjacentSpaceId": [
            {
             "@spaceIdRef": "RM000004"
            },
            {
             "@spaceIdRef": "00000001"
            }
           ],
           "PlanarGeometry": {
            "PolyLoop": {
             "CartesianPoint": [
              {
               "Coordinate": [
                "18.403681",
                "1.655237",
                "3.400000"
               ]
              },
              {
               "Coordinate": [
                "14.803681",
                "1.655237",
                "3.400000"
               ]
              },
              {
               "Coordinate": [
                "14.803681",
                "8.158887",
                "3.400000"
               ]
              },
              {
               "Coordinate": [
                "18.403681",
                "8.158887",
                "3.400000"
               ]
              },
              {
               "Coordinate": [
                "18.403681",
                "6.919988",
                "3.400000"
               ]
              },
              {
               "Coordinate": [
                "18.373681",
                "6.919988",
                "3.400000"
               ]
              },
              {
               "Coordinate": [
                "18.373681",
                "1.659988",
                "3.400000"
               ]
              },
              {
               "Coordinate": [
                "18.403681",
                "1.659769",
                "3.400000"
               ]
              }
             ]
            }
           },
           "RectangularGeometry": {
            "Azimuth": "0.000000",
            "CartesianPoint": {
             "Coordinate": [
              "18.403681",
              "1.655237",
              "3.400000"
             ]
            },
            "Height": "6.503650",
            "Tilt": "180.000000",
            "Width": "3.600000"
           }
          },
          {
           "@constructionIdRef": "STD_CEIL",
           "@id": "surface-43",
           "@surfaceType": "Ceiling",
           "AdjacentSpaceId": [
            {
             "@spaceIdRef": "RM000004"
            },
            {
             "@spaceIdRef": "00000000"
            }
           ],
           "PlanarGeometry": {
            "PolyLoop": {
             "CartesianPoint": [
              {
               "Coordinate": [
                "18.403681",
                "1.659769",
                "3.400000"
               ]
              },
              {
               "Coordinate": [
                "18.373681",
                "1.659988",
                "3.400000"
               ]
              },
              {
               "Coordinate": [
                "18.373681",
                "6.919988",
                "3.400000"
               ]
              },
              {
               "Coordinate": [
                "18.403681",
                "6.919988",
                "3.400000"
               ]
              }
             ]
            }
           },
           "RectangularGeometry": {
            "Azimuth": "0.000000",
            "CartesianPoint": {
             "Coordinate": [
              "18.403681",
              "1.659769",
              "3.400000"
             ]
            },
            "Height": "5.260219",
            "Tilt": "180.000000",
            "Width": "0.030000"
           }
          },
          {
           "@constructionIdRef": "STD_ROOF",
           "@id": "surface-44",
           "@surfaceType": "Roof",
           "AdjacentSpaceId": {
            "@spaceIdRef": "RM000004"
           },
           "PlanarGeometry": {
            "PolyLoop": {
             "CartesianPoint": [
              {
               "Coordinate": [
                "18.403681",
                "8.158887",
                "6.800000"
               ]
              },
              {
               "Coordinate": [
                "14.803681",
                "8.158887",
                "6.800000"
               ]
              },
              {
               "Coordinate": [
                "14.803681",
                "1.655237",
                "6.800000"
               ]
              },
              {
               "Coordinate": [
                "18.403681",
                "1.655237",
                "6.800000"
               ]
              }
             ]
            }
           },
           "RectangularGeometry": {
            "Azimuth": "0.000000",
            "CartesianPoint": {
             "Coordinate": [
              "18.403681",
              "8.158887",
              "6.800000"
             ]
            },
            "Height": "6.503650",
            "Tilt": "0.000000",
            "Width": "3.600000"
           }
          },
          {
           "@constructionIdRef": "STD_WAL1",
           "@id": "surface-45",
           "@surfaceType": "ExteriorWall",
           "AdjacentSpaceId": {
            "@spaceIdRef": "RM000004"
           },
           "Opening": {
            "@id": "surface-45-opening-1",
            "@openingType": "FixedWindow",
            "@windowTypeIdRef": "STD_EXTW",
            "PlanarGeometry": {
             "PolyLoop": {
              "CartesianPoint": [
               {
                "Coordinate": [
                 "17.743552",
                 "8.158887",
                 "4.300000"
                ]
               },
               {
                "Coordinate": [
                 "15.445237",
                 "8.158887",
                 "4.300000"
                ]
               },
               {
                "Coordinate": [
                 "15.445237",
                 "8.158887",
                 "5.800000"
                ]
               },
               {
                "Coordinate": [
                 "17.743552",
                 "8.158887",
                 "5.800000"
                ]
               }
              ]
             }
            },
            "RectangularGeometry": {
             "CartesianPoint": {
              "Coordinate": [
               "0.660129",
               "0.900000"
              ]
             },
             "Height": "1.500000",
             "Width": "2.298316"
            }
           },
           "PlanarGeometry": {
            "PolyLoop": {
             "CartesianPoint": [
              {
               "Coordinate": [
                "18.403681",
                "8.158887",
                "3.400000"
               ]
              },
              {
               "Coordinate": [
                "14.803681",
                "8.158887",
                "3.400000"
               ]
              },
              {
               "Coordinate": [
                "14.803681",
                "8.158887",
                "6.800000"
               ]
              },
              {
               "Coordinate": [
                "18.403681",
                "8.158887",
                "6.800000"
               ]
              }
             ]
            }
           },
           "RectangularGeometry": {
            "Azimuth": "0.000000",
            "CartesianPoint": {
             "Coordinate": [
              "18.403681",
              "8.158887",
              "3.400000"
             ]
            },
            "Height": "3.400000",
            "Tilt": "90.000000",
            "Width": "3.600000"
           }
          },
          {
           "@constructionIdRef": "STD_PART",
           "@id": "surface-46",
           "@surfaceType": "InteriorWall",
           "AdjacentSpaceId": [
            {
             "@spaceIdRef": "RM000004"
            },
            {
             "@spaceIdRef": "01000000"
            }
           ],
           "PlanarGeometry": {
            "PolyLoop": {
             "CartesianPoint": [
              {
               "Coordinate": [
                "18.403681",
                "8.158887",
                "6.800000"
               ]
              },
              {
               "Coordinate": [
                "18.403681",
                "1.655237",
                "6.800000"
               ]
              },
              {
               "Coordinate": [
                "18.403681",
                "1.655237",
                "3.400000"
               ]
              },
              {
               "Coordinate": [
                "18.403681",
                "8.158887",
                "3.400000"
               ]
              }
             ]
            }
           },
           "RectangularGeometry": {
            "Azimuth": "90.000000",
            "CartesianPoint": {
             "Coordinate": [
              "18.403681",
              "1.655237",
              "3.400000"
             ]
            },
            "Height": "3.400000",
            "Tilt": "90.000000",
            "Width": "6.503650"
           }
          },
          {
           "@constructionIdRef": "STD_WAL1",
           "@id": "surface-47",
           "@surfaceType": "ExteriorWall",
           "AdjacentSpaceId": {
            "@spaceIdRef": "TR000002"
           },
           "PlanarGeometry": {
            "PolyLoop": {
             "CartesianPoint": [
              {
               "Coordinate": [
                "36.968681",
                "2.635237",
                "0.000000"
               ]
              },
              {
               "Coordinate": [
                "36.968681",
                "3.969988",
                "0.000000"
               ]
              },
              {
               "Coordinate": [
                "36.968681",
                "3.969988",
                "3.400000"
               ]
              },
              {
               "Coordinate": [
                "36.968681",
                "2.635237",
                "3.400000"
               ]
              }
             ]
            }
           },
           "RectangularGeometry": {
            "Azimuth": "90.000000",
            "CartesianPoint": {
             "Coordinate": [
              "36.968681",
              "2.635237",
              "0.000000"
             ]
            },
            "Height": "3.400000",
            "Tilt": "90.000000",
            "Width": "1.334751"
           }
          },
          {
           "@constructionIdRef": "STD_WAL1",
           "@id": "surface-48",
           "@surfaceType": "ExteriorWall",
           "AdjacentSpaceId": {
            "@spaceIdRef": "TR000002"
           },
           "Opening": {
            "@constructionIdRef": "STD_DOOR",
            "@id": "surface-48-opening-1",
            "@openingType": "NonSlidingDoor",
            "PlanarGeometry": {
             "PolyLoop": {
              "CartesianPoint": [
               {
                "Coordinate": [
                 "30.493681",
                 "3.555237",
                 "0.000000"
                ]
               },
               {
                "Coordinate": [
                 "30.493681",
                 "2.555237",
                 "0.000000"
                ]
               },
               {
                "Coordinate": [
                 "30.493681",
                 "2.555237",
                 "2.250000"
                ]
               },
               {
                "Coordinate": [
                 "30.493681",
                 "3.555237",
                 "2.250000"
                ]
               }
              ]
             }
            },
            "RectangularGeometry": {
             "CartesianPoint": {
              "Coordinate": [
               "0.414751",
               "0.000000"
              ]
             },
             "Height": "2.250000",
             "Width": "1.000000"
            }
           },
           "PlanarGeometry": {
            "PolyLoop": {
             "CartesianPoint": [
              {
               "Coordinate": [
                "30.493681",
                "3.969988",
                "0.000000"
               ]
              },
              {
               "Coordinate": [
                "30.493681",
                "2.205237",
                "0.000000"
               ]
              },
              {
               "Coordinate": [
                "30.493681",
                "2.205237",
                "3.400000"
               ]
              },
              {
               "Coordinate": [
                "30.493681",
                "3.969988",
                "3.400000"
               ]
              }
             ]
            }
           },
           "RectangularGeometry": {
            "Azimuth": "270.000000",
            "CartesianPoint": {
             "Coordinate": [
              "30.493681",
              "3.969988",
              "-0.000000"
             ]
            },
            "Height": "3.400000",
            "Tilt": "90.000000",
            "Width": "1.764751"
           }
          },
          {
           "@constructionIdRef": "STD_FLO1",
           "@id": "surface-49",
           "@surfaceType": "ExposedFloor",
           "AdjacentSpaceId": {
            "@spaceIdRef": "TR000002"
           },
           "PlanarGeometry": {
            "PolyLoop": {
             "CartesianPoint": [
              {
               "Coordinate": [
                "36.968681",
                "2.635237",
                "0.000000"
               ]
              },
              {
               "Coordinate": [
                "35.433681",
                "2.635237",
                "0.000000"
               ]
              },
              {
               "Coordinate": [
                "35.433681",
                "2.205237",
                "0.000000"
               ]
              },
              {
               "Coordinate": [
                "30.493681",
                "2.205237",
                "0.000000"
               ]
              },
              {
               "Coordinate": [
                "30.493681",
                "3.969988",
                "0.000000"
               ]
              },
              {
               "Coordinate": [
                "36.968681",
                "3.969988",
                "0.000000"
               ]
              }
             ]
            }
           },
           "RectangularGeometry": {
            "Azimuth": "0.000000",
            "CartesianPoint": {
             "Coordinate": [
              "36.968681",
              "2.205237",
              "0.000000"
             ]
            },
            "Height": "1.764751",
            "Tilt": "180.000000",
            "Width": "6.475000"
           }
          },
          {
           "@constructionIdRef": "STD_CEIL",
           "@id": "surface-50",
           "@surfaceType": "Ceiling",
           "AdjacentSpaceId": [
            {
             "@spaceIdRef": "TR000002"
            },
            {
             "@spaceIdRef": "TR000007"
            }
           ],
           "PlanarGeometry": {
            "PolyLoop": {
             "CartesianPoint": [
              {
               "Coordinate": [
                "33.715237",
                "3.969988",
                "3.400000"
               ]
              },
              {
               "Coordinate": [
                "30.493681",
                "3.969988",
                "3.400000"
               ]
              },
              {
               "Coordinate": [
                "30.493681",
                "2.205237",
                "3.400000"
               ]
              },
              {
               "Coordinate": [
                "33.715237",
                "2.205237",
                "3.400000"
               ]
              }
             ]
            }
           },
           "RectangularGeometry": {
            "Azimuth": "0.000000",
            "CartesianPoint": {
             "Coordinate": [
              "33.715237",
              "3.969988",
              "3.400000"
             ]
            },
            "Height": "1.764751",
            "Tilt": "0.000000",
            "Width": "3.221556"
           }
          },
          {
           "@constructionIdRef": "STD_CEIL",
           "@id": "surface-51",
           "@surfaceType": "Ceiling",
           "AdjacentSpaceId": [
            {
             "@spaceIdRef": "TR000002"
            },
            {
             "@spaceIdRef": "TR000010"
            }
           ],
           "PlanarGeometry": {
            "PolyLoop": {
             "CartesianPoint": [
              {
               "Coordinate": [
                "36.968681",
                "3.969988",
                "3.400000"
               ]
              },
              {
               "Coordinate": [
                "33.715237",
                "3.969988",
                "3.400000"
               ]
              },
              {
               "Coordinate": [
                "33.715237",
                "3.428000",
                "3.400000"
               ]
              },
              {
               "Coordinate": [
                "36.968681",
                "3.428000",
                "3.400000"
               ]
              }
             ]
            }
           },
           "RectangularGeometry": {
            "Azimuth": "0.000000",
            "CartesianPoint": {
             "Coordinate": [
              "36.968681",
              "3.969988",
              "3.400000"
             ]
            },
            "Height": "0.541988",
            "Tilt": "0.000000",
            "Width": "3.253444"
           }
          },
          {
           "@constructionIdRef": "STD_CEIL",
           "@id": "surface-52",
           "@surfaceType": "Ceiling",
           "AdjacentSpaceId": [
            {
             "@spaceIdRef": "TR000002"
            },
            {
             "@spaceIdRef": "B0000000"
            }
           ],
           "PlanarGeometry": {
            "PolyLoop": {
             "CartesianPoint": [
              {
               "Coordinate": [
                "36.968681",
                "3.428000",
                "3.400000"
               ]
              },
              {
               "Coordinate": [
                "33.715237",
                "3.428000",
                "3.400000"
               ]
              },
              {
               "Coordinate": [
                "33.715237",
                "2.205237",
                "3.400000"
               ]
              },
              {
               "Coordinate": [
                "35.433681",
                "2.205237",
                "3.400000"
               ]
              },
              {
               "Coordinate": [
                "35.433681",
                "2.635237",
                "3.400000"
               ]
              },
              {
               "Coordinate": [
                "36.968681",
                "2.635237",
                "3.400000"
               ]
              }
             ]
            }
           },
           "RectangularGeometry": {
            "Azimuth": "0.000000",
            "CartesianPoint": {
             "Coordinate": [
              "36.968681",
              "3.428000",
              "3.400000"
             ]
            },
            "Height": "1.222763",
            "Tilt": "0.000000",
            "Width": "3.253444"
           }
          },
          {
           "@constructionIdRef": "STD_PART",
           "@id": "surface-53",
           "@surfaceType": "InteriorWall",
           "AdjacentSpaceId": [
            {
             "@spaceIdRef": "TR000002"
            },
            {
             "@spaceIdRef": "TR00000A"
            }
           ],
           "Opening": {
            "@constructionIdRef": "STD_DOOR",
            "@id": "surface-53-opening-1",
            "@openingType": "NonSlidingDoor",
            "PlanarGeometry": {
             "PolyLoop": {
              "CartesianPoint": [
               {
                "Coordinate": [
                 "30.733681",
                 "2.205237",
                 "0.000000"
                ]
               },
               {
                "Coordinate": [
                 "31.333681",
                 "2.205237",
                 "0.000000"
                ]
               },
               {
                "Coordinate": [
                 "31.333681",
                 "2.205237",
                 "2.200000"
                ]
               },
               {
                "Coordinate": [
                 "30.733681",
                 "2.205237",
                 "2.200000"
                ]
               }
              ]
             }
            },
            "RectangularGeometry": {
             "CartesianPoint": {
              "Coordinate": [
               "0.240000",
               "0.000000"
              ]
             },
             "Height": "2.200000",
             "Width": "0.600000"
            }
           },
           "PlanarGeometry": {
            "PolyLoop": {
             "CartesianPoint": [
              {
               "Coordinate": [
                "31.483681",
                "2.205237",
                "3.400000"
               ]
              },
              {
               "Coordinate": [
                "30.493681",
                "2.205237",
                "3.400000"
               ]
              },
              {
               "Coordinate": [
                "30.493681",
                "2.205237",
                "-0.000000"
               ]
              },
              {
               "Coordinate": [
                "31.483681",
                "2.205237",
                "-0.000000"
               ]
              }
             ]
            }
           },
           "RectangularGeometry": {
            "Azimuth": "180.000000",
            "CartesianPoint": {
             "Coordinate": [
              "30.493681",
              "2.205237",
              "-0.000000"
             ]
            },
            "Height": "3.400000",
            "Tilt": "90.000000",
            "Width": "0.990000"
           }
          },
          {
           "@constructionIdRef": "STD_PART",
           "@id": "surface-54",
           "@surfaceType": "InteriorWall",
           "AdjacentSpaceId": [
            {
             "@spaceIdRef": "TR000002"
            },
            {
             "@spaceIdRef": "TR00000B"
            }
           ],
           "Opening": {
            "@constructionIdRef": "STD_DOOR",
            "@id": "surface-54-opening-1",
            "@openingType": "NonSlidingDoor",
            "PlanarGeometry": {
             "PolyLoop": {
              "CartesianPoint": [
               {
                "Coordinate": [
                 "31.603681",
                 "2.205237",
                 "0.000000"
                ]
               },
               {
                "Coordinate": [
                 "32.203681",
                 "2.205237",
                 "0.000000"
                ]
               },
               {
                "Coordinate": [
                 "32.203681",
                 "2.205237",
                 "2.200000"
                ]
               },
               {
                "Coordinate": [
                 "31.603681",
                 "2.205237",
                 "2.200000"
                ]
               }
              ]
             }
            },
            "RectangularGeometry": {
             "CartesianPoint": {
              "Coordinate": [
               "0.120000",
               "0.000000"
              ]
             },
             "Height": "2.200000",
             "Width": "0.600000"
            }
           },
           "PlanarGeometry": {
            "PolyLoop": {
             "CartesianPoint": [
              {
               "Coordinate": [
                "32.363681",
                "2.205237",
                "3.400000"
               ]
              },
              {
               "Coordinate": [
                "31.483681",
                "2.205237",
                "3.400000"
               ]
              },
              {
               "Coordinate": [
                "31.483681",
                "2.205237",
                "-0.000000"
               ]
              },
              {
               "Coordinate": [
                "32.363681",
                "2.205237",
                "-0.000000"
               ]
              }
             ]
            }
           },
           "RectangularGeometry": {
            "Azimuth": "180.000000",
            "CartesianPoint": {
             "Coordinate": [
              "31.483681",
              "2.205237",
              "-0.000000"
             ]
            },
            "Height": "3.400000",
            "Tilt": "90.000000",
            "Width": "0.880000"
           }
          },
          {
           "@constructionIdRef": "STD_PART",
           "@id": "surface-55",
           "@surfaceType": "InteriorWall",
           "AdjacentSpaceId": [
            {
             "@spaceIdRef": "TR000002"
            },
            {
             "@spaceIdRef": "TR00000D"
            }
           ],
           "Opening": {
            "@constructionIdRef": "STD_DOOR",
            "@id": "surface-55-opening-1",
            "@openingType": "NonSlidingDoor",
            "PlanarGeometry": {
             "PolyLoop": {
              "CartesianPoint": [
               {
                "Coordinate": [
                 "32.483681",
                 "2.205237",
                 "0.000000"
                ]
               },
               {
                "Coordinate": [
                 "33.083681",
                 "2.205237",
                 "0.000000"
                ]
               },
               {
                "Coordinate": [
                 "33.083681",
                 "2.205237",
                 "2.200000"
                ]
               },
               {
                "Coordinate": [
                 "32.483681",
                 "2.205237",
                 "2.200000"
                ]
               }
              ]
             }
            },
            "RectangularGeometry": {
             "CartesianPoint": {
              "Coordinate": [
               "0.120000",
               "0.000000"
              ]
             },
             "Height": "2.200000",
             "Width": "0.600000"
            }
           },
           "PlanarGeometry": {
            "PolyLoop": {
             "CartesianPoint": [
              {
               "Coordinate": [
                "33.243681",
                "2.205237",
                "3.400000"
               ]
              },
              {
               "Coordinate": [
                "32.363681",
                "2.205237",
                "3.400000"
               ]
              },
              {
               "Coordinate": [
                "32.363681",
                "2.205237",
                "-0.000000"
               ]
              },
              {
               "Coordinate": [
                "33.243681",
                "2.205237",
                "-0.000000"
               ]
              }
             ]
            }
           },
           "RectangularGeometry": {
            "Azimuth": "180.000000",
            "CartesianPoint": {
             "Coordinate": [
              "32.363681",
              "2.205237",
              "-0.000000"
             ]
            },
            "Height": "3.400000",
            "Tilt": "90.000000",
            "Width": "0.880000"
           }
          },
          {
           "@constructionIdRef": "STD_PART",
           "@id": "surface-56",
           "@surfaceType": "InteriorWall",
           "AdjacentSpaceId": [
            {
             "@spaceIdRef": "TR000002"
            },
            {
             "@spaceIdRef": "TR000008"
            }
           ],
           "Opening": {
            "@constructionIdRef": "STD_DOOR",
            "@id": "surface-56-opening-1",
            "@openingType": "NonSlidingDoor",
            "PlanarGeometry": {
             "PolyLoop": {
              "CartesianPoint": [
               {
                "Coordinate": [
                 "34.663681",
                 "2.205237",
                 "0.000000"
                ]
               },
               {
                "Coordinate": [
                 "35.263681",
                 "2.205237",
                 "0.000000"
                ]
               },
               {
                "Coordinate": [
                 "35.263681",
                 "2.205237",
                 "2.200000"
                ]
               },
               {
                "Coordinate": [
                 "34.663681",
                 "2.205237",
                 "2.200000"
                ]
               }
              ]
             }
            },
            "RectangularGeometry": {
             "CartesianPoint": {
              "Coordinate": [
               "0.500000",
               "0.000000"
              ]
             },
             "Height": "2.200000",
             "Width": "0.600000"
            }
           },
           "PlanarGeometry": {
            "PolyLoop": {
             "CartesianPoint": [
              {
               "Coordinate": [
                "35.433681",
                "2.205237",
                "3.400000"
               ]
              },
              {
               "Coordinate": [
                "34.163681",
                "2.205237",
                "3.400000"
               ]
              },
              {
               "Coordinate": [
                "34.163681",
                "2.205237",
                "-0.000000"
               ]
              },
              {
               "Coordinate": [
                "35.433681",
                "2.205237",
                "-0.000000"
               ]
              }
             ]
            }
           },
           "RectangularGeometry": {
            "Azimuth": "180.000000",
            "CartesianPoint": {
             "Coordinate": [
              "34.163681",
              "2.205237",
              "-0.000000"
             ]
            },
            "Height": "3.400000",
            "Tilt": "90.000000",
            "Width": "1.270000"
           }
          },
          {
           "@constructionIdRef": "STD_PART",
           "@id": "surface-57",
           "@surfaceType": "InteriorWall",
           "AdjacentSpaceId": [
            {
             "@spaceIdRef": "TR000002"
            },
            {
             "@spaceIdRef": "TR00000E"
            }
           ],
           "Opening": {
            "@constructionIdRef": "STD_DOOR",
            "@id": "surface-57-opening-1",
            "@openingType": "NonSlidingDoor",
            "PlanarGeometry": {
             "PolyLoop": {
              "CartesianPoint": [
               {
                "Coordinate": [
                 "33.373681",
                 "2.205237",
                 "0.000000"
                ]
               },
               {
                "Coordinate": [
                 "33.973681",
                 "2.205237",
                 "0.000000"
                ]
               },
               {
                "Coordinate": [
                 "33.973681",
                 "2.205237",
                 "2.200000"
                ]
               },
               {
                "Coordinate": [
                 "33.373681",
                 "2.205237",
                 "2.200000"
                ]
               }
              ]
             }
            },
            "RectangularGeometry": {
             "CartesianPoint": {
              "Coordinate": [
               "0.130000",
               "0.000000"
              ]
             },
             "Height": "2.200000",
             "Width": "0.600000"
            }
           },
           "PlanarGeometry": {
            "PolyLoop": {
             "CartesianPoint": [
              {
               "Coordinate": [
                "34.163681",
                "2.205237",
                "3.400000"
               ]
              },
              {
               "Coordinate": [
                "33.243681",
                "2.205237",
                "3.400000"
               ]
              },
              {
               "Coordinate": [
                "33.243681",
                "2.205237",
                "-0.000000"
               ]
              },
              {
               "Coordinate": [
                "34.163681",
                "2.205237",
                "-0.000000"
               ]
              }
             ]
            }
           },
           "RectangularGeometry": {
            "Azimuth": "180.000000",
            "CartesianPoint": {
             "Coordinate": [
              "33.243681",
              "2.205237",
              "-0.000000"
             ]
            },
            "Height": "3.400000",
            "Tilt": "90.000000",
            "Width": "0.920000"
           }
          },
          {
           "@constructionIdRef": "STD_PART",
           "@id": "surface-58",
           "@surfaceType": "InteriorWall",
           "AdjacentSpaceId": [
            {
             "@spaceIdRef": "TR000002"
            },
            {
             "@spaceIdRef": "TR00000C"
            }
           ],
           "Opening": {
            "@constructionIdRef": "STD_DOOR",
            "@id": "surface-58-opening-1",
            "@openingType": "NonSlidingDoor",
            "PlanarGeometry": {
             "PolyLoop": {
              "CartesianPoint": [
               {
                "Coordinate": [
                 "35.774266",
                 "2.635237",
                 "0.000000"
                ]
               },
               {
                "Coordinate": [
                 "36.774266",
                 "2.635237",
                 "0.000000"
                ]
               },
               {
                "Coordinate": [
                 "36.774266",
                 "2.635237",
                 "2.200000"
                ]
               },
               {
                "Coordinate": [
                 "35.774266",
                 "2.635237",
                 "2.200000"
                ]
               }
              ]
             }
            },
            "RectangularGeometry": {
             "CartesianPoint": {
              "Coordinate": [
               "0.340585",
               "0.000000"
              ]
             },
             "Height": "2.200000",
             "Width": "1.000000"
            }
           },
           "PlanarGeometry": {
            "PolyLoop": {
             "CartesianPoint": [
              {
               "Coordinate": [
                "36.968681",
                "2.635237",
                "3.400000"
               ]
              },
              {
               "Coordinate": [
                "35.433681",
                "2.635237",
                "3.400000"
               ]
              },
              {
               "Coordinate": [
                "35.433681",
                "2.635237",
                "-0.000000"
               ]
              },
              {
               "Coordinate": [
                "36.968681",
                "2.635237",
                "-0.000000"
               ]
              }
             ]
            }
           },
           "RectangularGeometry": {
            "Azimuth": "180.000000",
            "CartesianPoint": {
             "Coordinate": [
              "35.433681",
              "2.635237",
              "-0.000000"
             ]
            },
            "Height": "3.400000",
            "Tilt": "90.000000",
            "Width": "1.535000"
           }
          },
          {
           "@constructionIdRef": "STD_PART",
           "@id": "surface-59",
           "@surfaceType": "InteriorWall",
           "AdjacentSpaceId": [
            {
             "@spaceIdRef": "TR000002"
            },
            {
             "@spaceIdRef": "TR00000C"
            }
           ],
           "PlanarGeometry": {
            "PolyLoop": {
             "CartesianPoint": [
              {
               "Coordinate": [
                "35.433681",
                "2.635237",
                "3.400000"
               ]
              },
              {
               "Coordinate": [
                "35.433681",
                "2.205237",
                "3.400000"
               ]
              },
              {
               "Coordinate": [
                "35.433681",
                "2.205237",
                "0.000000"
               ]
              },
              {
               "Coordinate": [
                "35.433681",
                "2.635237",
                "0.000000"
               ]
              }
             ]
            }
           },
           "RectangularGeometry": {
            "Azimuth": "90.000000",
            "CartesianPoint": {
             "Coordinate": [
              "35.433681",
              "2.205237",
              "0.000000"
             ]
            },
            "Height": "3.400000",
            "Tilt": "90.000000",
            "Width": "0.430000"
           }
          },
          {
           "@constructionIdRef": "STD_WAL1",
           "@id": "surface-60",
           "@surfaceType": "ExteriorWall",
           "AdjacentSpaceId": {
            "@spaceIdRef": "TR00000C"
           },
           "PlanarGeometry": {
            "PolyLoop": {
             "CartesianPoint": [
              {
               "Coordinate": [
                "35.433681",
                "0.394968",
                "0.000000"
               ]
              },
              {
               "Coordinate": [
                "36.968681",
                "0.394968",
                "0.000000"
               ]
              },
              {
               "Coordinate": [
                "36.968681",
                "0.394968",
                "3.400000"
               ]
              },
              {
               "Coordinate": [
                "35.433681",
                "0.394968",
                "3.400000"
               ]
              }
             ]
            }
           },
           "RectangularGeometry": {
            "Azimuth": "180.000000",
            "CartesianPoint": {
             "Coordinate": [
              "35.433681",
              "0.394968",
              "-0.000000"
             ]
            },
            "Height": "3.400000",
            "Tilt": "90.000000",
            "Width": "1.535000"
           }
          },
          {
           "@constructionIdRef": "STD_WAL1",
           "@id": "surface-61",
           "@surfaceType": "ExteriorWall",
           "AdjacentSpaceId": {
            "@spaceIdRef": "TR00000C"
           },
           "PlanarGeometry": {
            "PolyLoop": {
             "CartesianPoint": [
              {
               "Coordinate": [
                "36.968681",
                "0.394968",
                "0.000000"
               ]
              },
              {
               "Coordinate": [
                "36.968681",
                "2.635237",
                "0.000000"
               ]
              },
              {
               "Coordinate": [
                "36.968681",
                "2.635237",
                "3.400000"
               ]
              },
              {
               "Coordinate": [
                "36.968681",
                "0.394968",
                "3.400000"
               ]
              }
             ]
            }
           },
           "RectangularGeometry": {
            "Azimuth": "90.000000",
            "CartesianPoint": {
             "Coordinate": [
              "36.968681",
              "0.394968",
              "0.000000"
             ]
            },
            "Height": "3.400000",
            "Tilt": "90.000000",
            "Width": "2.240269"
           }
          },
          {
           "@constructionIdRef": "STD_FLO1",
           "@id": "surface-62",
           "@surfaceType": "ExposedFloor",
           "AdjacentSpaceId": {
            "@spaceIdRef": "TR00000C"
           },
           "PlanarGeometry": {
            "PolyLoop": {
             "CartesianPoint": [
              {
               "Coordinate": [
                "36.968681",
                "0.394968",
                "0.000000"
               ]
              },
              {
               "Coordinate": [
                "35.433681",
                "0.394968",
                "0.000000"
               ]
              },
              {
               "Coordinate": [
                "35.433681",
                "2.635237",
                "0.000000"
               ]
              },
              {
               "Coordinate": [
                "36.968681",
                "2.635237",
                "0.000000"
               ]
              }
             ]
            }
           },
           "RectangularGeometry": {
            "Azimuth": "0.000000",
            "CartesianPoint": {
             "Coordinate": [
              "36.968681",
              "0.394968",
              "0.000000"
             ]
            },
            "Height": "2.240269",
            "Tilt": "180.000000",
            "Width": "1.535000"
           }
          },
          {
           "@constructionIdRef": "STD_CEIL",
           "@id": "surface-63",
           "@surfaceType": "Ceiling",
           "AdjacentSpaceId": [
            {
             "@spaceIdRef": "TR00000C"
            },
            {
             "@spaceIdRef": "B0000000"
            }
           ],
           "PlanarGeometry": {
            "PolyLoop": {
             "CartesianPoint": [
              {
               "Coordinate": [
                "36.968681",
                "2.635237",
                "3.400000"
               ]
              },
              {
               "Coordinate": [
                "35.433681",
                "2.635237",
                "3.400000"
               ]
              },
              {
               "Coordinate": [
                "35.433681",
                "0.394968",
                "3.400000"
               ]
              },
              {
               "Coordinate": [
                "36.968681",
                "0.394968",
                "3.400000"
               ]
              }
             ]
            }
           },
           "RectangularGeometry": {
            "Azimuth": "0.000000",
            "CartesianPoint": {
             "Coordinate": [
              "36.968681",
              "2.635237",
              "3.400000"
             ]
            },
            "Height": "2.240269",
            "Tilt": "0.000000",
            "Width": "1.535000"
           }
          },
          {
           "@constructionIdRef": "STD_PART",
           "@id": "surface-64",
           "@surfaceType": "InteriorWall",
           "AdjacentSpaceId": [
            {
             "@spaceIdRef": "TR00000C"
            },
            {
             "@spaceIdRef": "TR000008"
            }
           ],
           "PlanarGeometry": {
            "PolyLoop": {
             "CartesianPoint": [
              {
               "Coordinate": [
                "35.433681",
                "0.394968",
                "3.400000"
               ]
              },
              {
               "Coordinate": [
                "35.433681",
                "2.205237",
                "3.400000"
               ]
              },
              {
               "Coordinate": [
                "35.433681",
                "2.205237",
                "-0.000000"
               ]
              },
              {
               "Coordinate": [
                "35.433681",
                "0.394968",
                "-0.000000"
               ]
              }
             ]
            }
           },
           "RectangularGeometry": {
            "Azimuth": "270.000000",
            "CartesianPoint": {
             "Coordinate": [
              "35.433681",
              "2.205237",
              "-0.000000"
             ]
            },
            "Height": "3.400000",
            "Tilt": "90.000000",
            "Width": "1.810269"
           }
          },
          {
           "@constructionIdRef": "STD_WAL1",
           "@id": "surface-65",
           "@surfaceType": "ExteriorWall",
           "AdjacentSpaceId": {
            "@spaceIdRef": "TR00000A"
           },
           "PlanarGeometry": {
            "PolyLoop": {
             "CartesianPoint": [
              {
               "Coordinate": [
                "30.493681",
                "0.394968",
                "0.000000"
               ]
              },
              {
               "Coordinate": [
                "31.483681",
                "0.394968",
                "0.000000"
               ]
              },
              {
               "Coordinate": [
                "31.483681",
                "0.394968",
                "3.400000"
               ]
              },
              {
               "Coordinate": [
                "30.493681",
                "0.394968",
                "3.400000"
               ]
              }
             ]
            }
           },
           "RectangularGeometry": {
            "Azimuth": "180.000000",
            "CartesianPoint": {
             "Coordinate": [
              "30.493681",
              "0.394968",
              "-0.000000"
             ]
            },
            "Height": "3.400000",
            "Tilt": "90.000000",
            "Width": "0.990000"
           }
          },
          {
           "@constructionIdRef": "STD_FLO1",
           "@id": "surface-66",
           "@surfaceType": "ExposedFloor",
           "AdjacentSpaceId": {
            "@spaceIdRef": "TR00000A"
           },
           "PlanarGeometry": {
            "PolyLoop": {
             "CartesianPoint": [
              {
               "Coordinate": [
                "31.483681",
                "0.394968",
                "0.000000"
               ]
              },
              {
               "Coordinate": [
                "30.493681",
                "0.394968",
                "0.000000"
               ]
              },
              {
               "Coordinate": [
                "30.493681",
                "2.205237",
                "0.000000"
               ]
              },
              {
               "Coordinate": [
                "31.483681",
                "2.205237",
                "0.000000"
               ]
              }
             ]
            }
           },
           "RectangularGeometry": {
            "Azimuth": "0.000000",
            "CartesianPoint": {
             "Coordinate": [
              "31.483681",
              "0.394968",
              "0.000000"
             ]
            },
            "Height": "1.810269",
            "Tilt": "180.000000",
            "Width": "0.990000"
           }
          },
          {
           "@constructionIdRef": "STD_CEIL",
           "@id": "surface-67",
           "@surfaceType": "Ceiling",
           "AdjacentSpaceId": [
            {
             "@spaceIdRef": "TR00000A"
            },
            {
             "@spaceIdRef": "TR000007"
            }
           ],
           "PlanarGeometry": {
            "PolyLoop": {
             "CartesianPoint": [
              {
               "Coordinate": [
                "31.483681",
                "2.205237",
                "3.400000"
               ]
              },
              {
               "Coordinate": [
                "30.493681",
                "2.205237",
                "3.400000"
               ]
              },
              {
               "Coordinate": [
                "30.493681",
                "1.679837",
                "3.400000"
               ]
              },
              {
               "Coordinate": [
                "31.483681",
                "1.675642",
                "3.400000"
               ]
              }
             ]
            }
           },
           "RectangularGeometry": {
            "Azimuth": "0.000000",
            "CartesianPoint": {
             "Coordinate": [
              "31.483681",
              "2.205237",
              "3.400000"
             ]
            },
            "Height": "0.529595",
            "Tilt": "0.000000",
            "Width": "0.990000"
           }
          },
          {
           "@constructionIdRef": "STD_CEIL",
           "@id": "surface-68",
           "@surfaceType": "Ceiling",
           "AdjacentSpaceId": [
            {
             "@spaceIdRef": "TR00000A"
            },
            {
             "@spaceIdRef": "TR000012"
            }
           ],
           "PlanarGeometry": {
            "PolyLoop": {
             "CartesianPoint": [
              {
               "Coordinate": [
                "30.493681",
                "1.679837",
                "3.400000"
               ]
              },
              {
               "Coordinate": [
                "30.493681",
                "0.394968",
                "3.400000"
               ]
              },
              {
               "Coordinate": [
                "31.483681",
                "0.394968",
                "3.400000"
               ]
              },
              {
               "Coordinate": [
                "31.483681",
                "1.675642",
                "3.400000"
               ]
              }
             ]
            }
           },
           "RectangularGeometry": {
            "Azimuth": "0.000000",
            "CartesianPoint": {
             "Coordinate": [
              "31.483681",
              "1.679837",
              "3.400000"
             ]
            },
            "Height": "1.284869",
            "Tilt": "0.000000",
            "Width": "0.990000"
           }
          },
          {
           "@constructionIdRef": "STD_PART",
           "@id": "surface-69",
           "@surfaceType": "InteriorWall",
           "AdjacentSpaceId": [
            {
             "@spaceIdRef": "TR00000A"
            },
            {
             "@spaceIdRef": "TR00000B"
            }
           ],
           "PlanarGeometry": {
            "PolyLoop": {
             "CartesianPoint": [
              {
               "Coordinate": [
                "31.483681",
                "2.205237",
                "3.400000"
               ]
              },
              {
               "Coordinate": [
                "31.483681",
                "0.394968",
                "3.400000"
               ]
              },
              {
               "Coordinate": [
                "31.483681",
                "0.394968",
                "0.000000"
               ]
              },
              {
               "Coordinate": [
                "31.483681",
                "2.205237",
                "0.000000"
               ]
              }
             ]
            }
           },
           "RectangularGeometry": {
            "Azimuth": "90.000000",
            "CartesianPoint": {
             "Coordinate": [
              "31.483681",
              "0.394968",
              "0.000000"
             ]
            },
            "Height": "3.400000",
            "Tilt": "90.000000",
            "Width": "1.810269"
           }
          },
          {
           "@constructionIdRef": "STD_WAL1",
           "@id": "surface-70",
           "@surfaceType": "ExteriorWall",
           "AdjacentSpaceId": {
            "@spaceIdRef": "TR00000B"
           },
           "PlanarGeometry": {
            "PolyLoop": {
             "CartesianPoint": [
              {
               "Coordinate": [
                "31.483681",
                "0.394968",
                "0.000000"
               ]
              },
              {
               "Coordinate": [
                "32.363681",
                "0.394968",
                "0.000000"
               ]
              },
              {
               "Coordinate": [
                "32.363681",
                "0.394968",
                "3.400000"
               ]
              },
              {
               "Coordinate": [
                "31.483681",
                "0.394968",
                "3.400000"
               ]
              }
             ]
            }
           },
           "RectangularGeometry": {
            "Azimuth": "180.000000",
            "CartesianPoint": {
             "Coordinate": [
              "31.483681",
              "0.394968",
              "-0.000000"
             ]
            },
            "Height": "3.400000",
            "Tilt": "90.000000",
            "Width": "0.880000"
           }
          },
          {
           "@constructionIdRef": "STD_FLO1",
           "@id": "surface-71",
           "@surfaceType": "ExposedFloor",
           "AdjacentSpaceId": {
            "@spaceIdRef": "TR00000B"
           },
           "PlanarGeometry": {
            "PolyLoop": {
             "CartesianPoint": [
              {
               "Coordinate": [
                "32.363681",
                "0.394968",
                "0.000000"
               ]
              },
              {
               "Coordinate": [
                "31.483681",
                "0.394968",
                "0.000000"
               ]
              },
              {
               "Coordinate": [
                "31.483681",
                "2.205237",
                "0.000000"
               ]
              },
              {
               "Coordinate": [
                "32.363681",
                "2.205237",
                "0.000000"
               ]
              }
             ]
            }
           },
           "RectangularGeometry": {
            "Azimuth": "0.000000",
            "CartesianPoint": {
             "Coordinate": [
              "32.363681",
              "0.394968",
              "0.000000"
             ]
            },
            "Height": "1.810269",
            "Tilt": "180.000000",
            "Width": "0.880000"
           }
          },
          {
           "@constructionIdRef": "STD_CEIL",
           "@id": "surface-72",
           "@surfaceType": "Ceiling",
           "AdjacentSpaceId": [
            {
             "@spaceIdRef": "TR00000B"
            },
            {
             "@spaceIdRef": "TR000007"
            }
           ],
           "PlanarGeometry": {
            "PolyLoop": {
             "CartesianPoint": [
              {
               "Coordinate": [
                "32.363681",
                "2.205237",
                "3.400000"
               ]
              },
              {
               "Coordinate": [
                "31.483681",
                "2.205237",
                "3.400000"
               ]
              },
              {
               "Coordinate": [
                "31.483681",
                "1.675642",
                "3.400000"
               ]
              },
              {
               "Coordinate": [
                "32.363681",
                "1.671913",
                "3.400000"
               ]
              }
             ]
            }
           },
           "RectangularGeometry": {
            "Azimuth": "0.000000",
            "CartesianPoint": {
             "Coordinate": [
              "32.363681",
              "2.205237",
              "3.400000"
             ]
            },
            "Height": "0.533324",
            "Tilt": "0.000000",
            "Width": "0.880000"
           }
          },
          {
           "@constructionIdRef": "STD_CEIL",
           "@id": "surface-73",
           "@surfaceType": "Ceiling",
           "AdjacentSpaceId": [
            {
             "@spaceIdRef": "TR00000B"
            },
            {
             "@spaceIdRef": "TR000012"
            }
           ],
           "PlanarGeometry": {
            "PolyLoop": {
             "CartesianPoint": [
              {
               "Coordinate": [
                "31.483681",
                "1.675642",
                "3.400000"
               ]
              },
              {
               "Coordinate": [
                "31.483681",
                "0.394968",
                "3.400000"
               ]
              },
              {
               "Coordinate": [
                "32.363681",
                "0.394968",
                "3.400000"
               ]
              },
              {
               "Coordinate": [
                "32.363681",
                "1.671913",
                "3.400000"
               ]
              }
             ]
            }
           },
           "RectangularGeometry": {
            "Azimuth": "0.000000",
            "CartesianPoint": {
             "Coordinate": [
              "32.363681",
              "1.675642",
              "3.400000"
             ]
            },
            "Height": "1.280674",
            "Tilt": "0.000000",
            "Width": "0.880000"
           }
          },
          {
           "@constructionIdRef": "STD_PART",
           "@id": "surface-74",
           "@surfaceType": "InteriorWall",
           "AdjacentSpaceId": [
            {
             "@spaceIdRef": "TR00000B"
            },
            {
             "@spaceIdRef": "TR00000D"
            }
           ],
           "PlanarGeometry": {
            "PolyLoop": {
             "CartesianPoint": [
              {
               "Coordinate": [
                "32.363681",
                "2.205237",
                "3.400000"
               ]
              },
              {
               "Coordinate": [
                "32.363681",
                "0.394968",
                "3.400000"
               ]
              },
              {
               "Coordinate": [
                "32.363681",
                "0.394968",
                "0.000000"
               ]
              },
              {
               "Coordinate": [
                "32.363681",
                "2.205237",
                "0.000000"
               ]
              }
             ]
            }
           },
           "RectangularGeometry": {
            "Azimuth": "90.000000",
            "CartesianPoint": {
             "Coordinate": [
              "32.363681",
              "0.394968",
              "0.000000"
             ]
            },
            "Height": "3.400000",
            "Tilt": "90.000000",
            "Width": "1.810269"
           }
          },
          {
           "@constructionIdRef": "STD_WAL1",
           "@id": "surface-75",
           "@surfaceType": "ExteriorWall",
           "AdjacentSpaceId": {
            "@spaceIdRef": "TR00000D"
           },
           "PlanarGeometry": {
            "PolyLoop": {
             "CartesianPoint": [
              {
               "Coordinate": [
                "32.363681",
                "0.394968",
                "0.000000"
               ]
              },
              {
               "Coordinate": [
                "33.243681",
                "0.394968",
                "0.000000"
               ]
              },
              {
               "Coordinate": [
                "33.243681",
                "0.394968",
                "3.400000"
               ]
              },
              {
               "Coordinate": [
                "32.363681",
                "0.394968",
                "3.400000"
               ]
              }
             ]
            }
           },
           "RectangularGeometry": {
            "Azimuth": "180.000000",
            "CartesianPoint": {
             "Coordinate": [
              "32.363681",
              "0.394968",
              "-0.000000"
             ]
            },
            "Height": "3.400000",
            "Tilt": "90.000000",
            "Width": "0.880000"
           }
          },
          {
           "@constructionIdRef": "STD_FLO1",
           "@id": "surface-76",
           "@surfaceType": "ExposedFloor",
           "AdjacentSpaceId": {
            "@spaceIdRef": "TR00000D"
           },
           "PlanarGeometry": {
            "PolyLoop": {
             "CartesianPoint": [
              {
               "Coordinate": [
                "33.243681",
                "0.394968",
                "0.000000"
               ]
              },
              {
               "Coordinate": [
                "32.363681",
                "0.394968",
                "0.000000"
               ]
              },
              {
               "Coordinate": [
                "32.363681",
                "2.205237",
                "0.000000"
               ]
              },
              {
               "Coordinate": [
                "33.243681",
                "2.205237",
                "0.000000"
               ]
              }
             ]
            }
           },
           "RectangularGeometry": {
            "Azimuth": "0.000000",
            "CartesianPoint": {
             "Coordinate": [
              "33.243681",
              "0.394968",
              "0.000000"
             ]
            },
            "Height": "1.810269",
            "Tilt": "180.000000",
            "Width": "0.880000"
           }
          },
          {
           "@constructionIdRef": "STD_CEIL",
           "@id": "surface-77",
           "@surfaceType": "Ceiling",
           "AdjacentSpaceId": [
            {
             "@spaceIdRef": "TR00000D"
            },
            {
             "@spaceIdRef": "TR000007"
            }
           ],
           "PlanarGeometry": {
            "PolyLoop": {
             "CartesianPoint": [
              {
               "Coordinate": [
                "33.243681",
                "2.205237",
                "3.400000"
               ]
              },
              {
               "Coordinate": [
                "32.363681",
                "2.205237",
                "3.400000"
               ]
              },
              {
               "Coordinate": [
                "32.363681",
                "1.671913",
                "3.400000"
               ]
              },
              {
               "Coordinate": [
                "32.815237",
                "1.670000",
                "3.400000"
               ]
              },
              {
               "Coordinate": [
                "33.243681",
                "1.670000",
                "3.400000"
               ]
              }
             ]
            }
           },
           "RectangularGeometry": {
            "Azimuth": "0.000000",
            "CartesianPoint": {
             "Coordinate": [
              "33.243681",
              "2.205237",
              "3.400000"
             ]
            },
            "Height": "0.535237",
            "Tilt": "0.000000",
            "Width": "0.880000"
           }
          },
          {
           "@constructionIdRef": "STD_CEIL",
           "@id": "surface-78",
           "@surfaceType": "Ceiling",
           "AdjacentSpaceId": [
            {
             "@spaceIdRef": "TR00000D"
            },
            {
             "@spaceIdRef": "B0000000"
            }
           ],
           "PlanarGeometry": {
            "PolyLoop": {
             "CartesianPoint": [
              {
               "Coordinate": [
                "33.243681",
                "1.670000",
                "3.400000"
               ]
              },
              {
               "Coordinate": [
                "32.815237",
                "1.670000",
                "3.400000"
               ]
              },
              {
               "Coordinate": [
                "32.821140",
                "0.394968",
                "3.400000"
               ]
              },
              {
               "Coordinate": [
                "33.243681",
                "0.394968",
                "3.400000"
               ]
              }
             ]
            }
           },
           "RectangularGeometry": {
            "Azimuth": "0.000000",
            "CartesianPoint": {
             "Coordinate": [
              "33.243681",
              "1.670000",
              "3.400000"
             ]
            },
            "Height": "1.275032",
            "Tilt": "0.000000",
            "Width": "0.428444"
           }
          },
          {
           "@constructionIdRef": "STD_CEIL",
           "@id": "surface-79",
           "@surfaceType": "Ceiling",
           "AdjacentSpaceId": [
            {
             "@spaceIdRef": "TR00000D"
            },
            {
             "@spaceIdRef": "TR000012"
            }
           ],
           "PlanarGeometry": {
            "PolyLoop": {
             "CartesianPoint": [
              {
               "Coordinate": [
                "32.363681",
                "1.671913",
                "3.400000"
               ]
              },
              {
               "Coordinate": [
                "32.363681",
                "0.394968",
                "3.400000"
               ]
              },
              {
               "Coordinate": [
                "32.821140",
                "0.394968",
                "3.400000"
               ]
              },
              {
               "Coordinate": [
                "32.815237",
                "1.670000",
                "3.400000"
               ]
              }
             ]
            }
           },
           "RectangularGeometry": {
            "Azimuth": "0.000000",
            "CartesianPoint": {
             "Coordinate": [
              "32.821140",
              "1.671913",
              "3.400000"
             ]
            },
            "Height": "1.276945",
            "Tilt": "0.000000",
            "Width": "0.457459"
           }
          },
          {
           "@constructionIdRef": "STD_PART",
           "@id": "surface-80",
           "@surfaceType": "InteriorWall",
           "AdjacentSpaceId": [
            {
             "@spaceIdRef": "TR00000D"
            },
            {
             "@spaceIdRef": "TR00000E"
            }
           ],
           "PlanarGeometry": {
            "PolyLoop": {
             "CartesianPoint": [
              {
               "Coordinate": [
                "33.243681",
                "2.205237",
                "3.400000"
               ]
              },
              {
               "Coordinate": [
                "33.243681",
                "0.394968",
                "3.400000"
               ]
              },
              {
               "Coordinate": [
                "33.243681",
                "0.394968",
                "0.000000"
               ]
              },
              {
               "Coordinate": [
                "33.243681",
                "2.205237",
                "0.000000"
               ]
              }
             ]
            }
           },
           "RectangularGeometry": {
            "Azimuth": "90.000000",
            "CartesianPoint": {
             "Coordinate": [
              "33.243681",
              "0.394968",
              "0.000000"
             ]
            },
            "Height": "3.400000",
            "Tilt": "90.000000",
            "Width": "1.810269"
           }
          },
          {
           "@constructionIdRef": "STD_WAL1",
           "@id": "surface-81",
           "@surfaceType": "ExteriorWall",
           "AdjacentSpaceId": {
            "@spaceIdRef": "TR000008"
           },
           "PlanarGeometry": {
            "PolyLoop": {
             "CartesianPoint": [
              {
               "Coordinate": [
                "34.163681",
                "0.394968",
                "0.000000"
               ]
              },
              {
               "Coordinate": [
                "35.433681",
                "0.394968",
                "0.000000"
               ]
              },
              {
               "Coordinate": [
                "35.433681",
                "0.394968",
                "3.400000"
               ]
              },
              {
               "Coordinate": [
                "34.163681",
                "0.394968",
                "3.400000"
               ]
              }
             ]
            }
           },
           "RectangularGeometry": {
            "Azimuth": "180.000000",
            "CartesianPoint": {
             "Coordinate": [
              "34.163681",
              "0.394968",
              "-0.000000"
             ]
            },
            "Height": "3.400000",
            "Tilt": "90.000000",
            "Width": "1.270000"
           }
          },
          {
           "@constructionIdRef": "STD_FLO1",
           "@id": "surface-82",
           "@surfaceType": "ExposedFloor",
           "AdjacentSpaceId": {
            "@spaceIdRef": "TR000008"
           },
           "PlanarGeometry": {
            "PolyLoop": {
             "CartesianPoint": [
              {
               "Coordinate": [
                "35.433681",
                "0.394968",
                "0.000000"
               ]
              },
              {
               "Coordinate": [
                "34.163681",
                "0.394968",
                "0.000000"
               ]
              },
              {
               "Coordinate": [
                "34.163681",
                "2.205237",
                "0.000000"
               ]
              },
              {
               "Coordinate": [
                "35.433681",
                "2.205237",
                "0.000000"
               ]
              }
             ]
            }
           },
           "RectangularGeometry": {
            "Azimuth": "0.000000",
            "CartesianPoint": {
             "Coordinate": [
              "35.433681",
              "0.394968",
              "0.000000"
             ]
            },
            "Height": "1.810269",
            "Tilt": "180.000000",
            "Width": "1.270000"
           }
          },
          {
           "@constructionIdRef": "STD_CEIL",
           "@id": "surface-83",
           "@surfaceType": "Ceiling",
           "AdjacentSpaceId": [
            {
             "@spaceIdRef": "TR000008"
            },
            {
             "@spaceIdRef": "B0000000"
            }
           ],
           "PlanarGeometry": {
            "PolyLoop": {
             "CartesianPoint": [
              {
               "Coordinate": [
                "35.433681",
                "2.205237",
                "3.400000"
               ]
              },
              {
               "Coordinate": [
                "34.163681",
                "2.205237",
                "3.400000"
               ]
              },
              {
               "Coordinate": [
                "34.163681",
                "0.394968",
                "3.400000"
               ]
              },
              {
               "Coordinate": [
                "35.433681",
                "0.394968",
                "3.400000"
               ]
              }
             ]
            }
           },
           "RectangularGeometry": {
            "Azimuth": "0.000000",
            "CartesianPoint": {
             "Coordinate": [
              "35.433681",
              "2.205237",
              "3.400000"
             ]
            },
            "Height": "1.810269",
            "Tilt": "0.000000",
            "Width": "1.270000"
           }
          },
          {
           "@constructionIdRef": "STD_PART",
           "@id": "surface-84",
           "@surfaceType": "InteriorWall",
           "AdjacentSpaceId": [
            {
             "@spaceIdRef": "TR000008"
            },
            {
             "@spaceIdRef": "TR00000E"
            }
           ],
           "PlanarGeometry": {
            "PolyLoop": {
             "CartesianPoint": [
              {
               "Coordinate": [
                "34.163681",
                "0.394968",
                "3.400000"
               ]
              },
              {
               "Coordinate": [
                "34.163681",
                "2.205237",
                "3.400000"
               ]
              },
              {
               "Coordinate": [
                "34.163681",
                "2.205237",
                "-0.000000"
               ]
              },
              {
               "Coordinate": [
                "34.163681",
                "0.394968",
                "-0.000000"
               ]
              }
             ]
            }
           },
           "RectangularGeometry": {
            "Azimuth": "270.000000",
            "CartesianPoint": {
             "Coordinate": [
              "34.163681",
              "2.205237",
              "-0.000000"
             ]
            },
            "Height": "3.400000",
            "Tilt": "90.000000",
            "Width": "1.810269"
           }
          },
          {
           "@constructionIdRef": "STD_WAL1",
           "@id": "surface-85",
           "@surfaceType": "ExteriorWall",
           "AdjacentSpaceId": {
            "@spaceIdRef": "TR00000E"
           },
           "PlanarGeometry": {
            "PolyLoop": {
             "CartesianPoint": [
              {
               "Coordinate": [
                "33.243681",
                "0.394968",
                "0.000000"
               ]
              },
              {
               "Coordinate": [
                "34.163681",
                "0.394968",
                "0.000000"
               ]
              },
              {
               "Coordinate": [
                "34.163681",
                "0.394968",
                "3.400000"
               ]
              },
              {
               "Coordinate": [
                "33.243681",
                "0.394968",
                "3.400000"
               ]
              }
             ]
            }
           },
           "RectangularGeometry": {
            "Azimuth": "180.000000",
            "CartesianPoint": {
             "Coordinate": [
              "33.243681",
              "0.394968",
              "-0.000000"
             ]
            },
            "Height": "3.400000",
            "Tilt": "90.000000",
            "Width": "0.920000"
           }
          },
          {
           "@constructionIdRef": "STD_FLO1",
           "@id": "surface-86",
           "@surfaceType": "ExposedFloor",
           "AdjacentSpaceId": {
            "@spaceIdRef": "TR00000E"
           },
           "PlanarGeometry": {
            "PolyLoop": {
             "CartesianPoint": [
              {
               "Coordinate": [
                "34.163681",
                "0.394968",
                "0.000000"
               ]
              },
              {
               "Coordinate": [
                "33.243681",
                "0.394968",
                "0.000000"
               ]
              },
              {
               "Coordinate": [
                "33.243681",
                "2.205237",
                "0.000000"
               ]
              },
              {
               "Coordinate": [
                "34.163681",
                "2.205237",
                "0.000000"
               ]
              }
             ]
            }
           },
           "RectangularGeometry": {
            "Azimuth": "0.000000",
            "CartesianPoint": {
             "Coordinate": [
              "34.163681",
              "0.394968",
              "0.000000"
             ]
            },
            "Height": "1.810269",
            "Tilt": "180.000000",
            "Width": "0.920000"
           }
          },
          {
           "@constructionIdRef": "STD_CEIL",
           "@id": "surface-87",
           "@surfaceType": "Ceiling",
           "AdjacentSpaceId": [
            {
             "@spaceIdRef": "TR00000E"
            },
            {
             "@spaceIdRef": "TR000007"
            }
           ],
           "PlanarGeometry": {
            "PolyLoop": {
             "CartesianPoint": [
              {
               "Coordinate": [
                "33.715237",
                "2.205237",
                "3.400000"
               ]
              },
              {
               "Coordinate": [
                "33.243681",
                "2.205237",
                "3.400000"
               ]
              },
              {
               "Coordinate": [
                "33.243681",
                "1.670000",
                "3.400000"
               ]
              },
              {
               "Coordinate": [
                "33.715237",
                "1.670000",
                "3.400000"
               ]
              }
             ]
            }
           },
           "RectangularGeometry": {
            "Azimuth": "0.000000",
            "CartesianPoint": {
             "Coordinate": [
              "33.715237",
              "2.205237",
              "3.400000"
             ]
            },
            "Height": "0.535237",
            "Tilt": "0.000000",
            "Width": "0.471556"
           }
          },
          {
           "@constructionIdRef": "STD_CEIL",
           "@id": "surface-88",
           "@surfaceType": "Ceiling",
           "AdjacentSpaceId": [
            {
             "@spaceIdRef": "TR00000E"
            },
            {
             "@spaceIdRef": "B0000000"
            }
           ],
           "PlanarGeometry": {
            "PolyLoop": {
             "CartesianPoint": [
              {
               "Coordinate": [
                "34.163681",
                "2.205237",
                "3.400000"
               ]
              },
              {
               "Coordinate": [
                "33.715237",
                "2.205237",
                "3.400000"
               ]
              },
              {
               "Coordinate": [
                "33.715237",
                "1.670000",
                "3.400000"
               ]
              },
              {
               "Coordinate": [
                "33.243681",
                "1.670000",
                "3.400000"
               ]
              },
              {
               "Coordinate": [
                "33.243681",
                "0.394968",
                "3.400000"
               ]
              },
              {
               "Coordinate": [
                "34.163681",
                "0.394968",
                "3.400000"
               ]
              }
             ]
            }
           },
           "RectangularGeometry": {
            "Azimuth": "0.000000",
            "CartesianPoint": {
             "Coordinate": [
              "34.163681",
              "2.205237",
              "3.400000"
             ]
            },
            "Height": "1.810269",
            "Tilt": "0.000000",
            "Width": "0.920000"
           }
          },
          {
           "@constructionIdRef": "STD_FLO1",
           "@id": "surface-89",
           "@surfaceType": "ExposedFloor",
           "AdjacentSpaceId": {
            "@spaceIdRef": "TR000007"
           },
           "PlanarGeometry": {
            "PolyLoop": {
             "CartesianPoint": [
              {
               "Coordinate": [
                "30.493681",
                "3.969988",
                "3.400000"
               ]
              },
              {
               "Coordinate": [
                "30.493681",
                "2.205237",
                "3.400000"
               ]
              },
              {
               "Coordinate": [
                "30.455237",
                "2.205237",
                "3.400000"
               ]
              },
              {
               "Coordinate": [
                "30.455237",
                "3.970000",
                "3.400000"
               ]
              }
             ]
            }
           },
           "RectangularGeometry": {
            "Azimuth": "0.000000",
            "CartesianPoint": {
             "Coordinate": [
              "30.493681",
              "2.205237",
              "3.400000"
             ]
            },
            "Height": "1.764763",
            "Tilt": "180.000000",
            "Width": "0.038444"
           }
          },
          {
           "@constructionIdRef": "STD_ROOF",
           "@id": "surface-90",
           "@surfaceType": "Roof",
           "AdjacentSpaceId": {
            "@spaceIdRef": "TR000007"
           },
           "PlanarGeometry": {
            "PolyLoop": {
             "CartesianPoint": [
              {
               "Coordinate": [
                "33.715237",
                "3.970000",
                "6.800000"
               ]
              },
              {
               "Coordinate": [
                "30.455237",
                "3.970000",
                "6.800000"
               ]
              },
              {
               "Coordinate": [
                "30.455237",
                "1.680000",
                "6.800000"
               ]
              },
              {
               "Coordinate": [
                "32.815237",
                "1.670000",
                "6.800000"
               ]
              },
              {
               "Coordinate": [
                "33.715237",
                "1.670000",
                "6.800000"
               ]
              }
             ]
            }
           },
           "RectangularGeometry": {
            "Azimuth": "0.000000",
            "CartesianPoint": {
             "Coordinate": [
              "33.715237",
              "3.970000",
              "6.800000"
             ]
            },
            "Height": "2.300000",
            "Tilt": "0.000000",
            "Width": "3.260000"
           }
          },
          {
           "@constructionIdRef": "STD_PART",
           "@id": "surface-91",
           "@surfaceType": "InteriorWall",
           "AdjacentSpaceId": [
            {
             "@spaceIdRef": "TR000007"
            },
            {
             "@spaceIdRef": "TR000011"
            }
           ],
           "PlanarGeometry": {
            "PolyLoop": {
             "CartesianPoint": [
              {
               "Coordinate": [
                "30.455237",
                "3.970000",
                "6.800000"
               ]
              },
              {
               "Coordinate": [
                "33.715237",
                "3.970000",
                "6.800000"
               ]
              },
              {
               "Coordinate": [
                "33.715237",
                "3.970000",
                "3.400000"
               ]
              },
              {
               "Coordinate": [
                "30.455237",
                "3.970000",
                "3.400000"
               ]
              }
             ]
            }
           },
           "RectangularGeometry": {
            "Azimuth": "0.000000",
            "CartesianPoint": {
             "Coordinate": [
              "33.715237",
              "3.970000",
              "3.400000"
             ]
            },
            "Height": "3.400000",
            "Tilt": "90.000000",
            "Width": "3.260000"
           }
          },
          {
           "@constructionIdRef": "STD_PART",
           "@id": "surface-92",
           "@surfaceType": "InteriorWall",
           "AdjacentSpaceId": [
            {
             "@spaceIdRef": "TR000007"
            },
            {
             "@spaceIdRef": "TR000012"
            }
           ],
           "Opening": {
            "@constructionIdRef": "STD_DOOR",
            "@id": "surface-92-opening-1",
            "@openingType": "NonSlidingDoor",
            "PlanarGeometry": {
             "PolyLoop": {
              "CartesianPoint": [
               {
                "Coordinate": [
                 "31.535196",
                 "1.675424",
                 "5.600000"
                ]
               },
               {
                "Coordinate": [
                 "30.535205",
                 "1.679661",
                 "5.600000"
                ]
               },
               {
                "Coordinate": [
                 "30.535205",
                 "1.679661",
                 "3.400000"
                ]
               },
               {
                "Coordinate": [
                 "31.535196",
                 "1.675424",
                 "3.400000"
                ]
               }
              ]
             }
            },
            "RectangularGeometry": {
             "CartesianPoint": {
              "Coordinate": [
               "0.079969",
               "0.000000"
              ]
             },
             "Height": "2.200000",
             "Width": "1.000000"
            }
           },
           "PlanarGeometry": {
            "PolyLoop": {
             "CartesianPoint": [
              {
               "Coordinate": [
                "32.815237",
                "1.670000",
                "6.800000"
               ]
              },
              {
               "Coordinate": [
                "30.455237",
                "1.680000",
                "6.800000"
               ]
              },
              {
               "Coordinate": [
                "30.455237",
                "1.680000",
                "3.400000"
               ]
              },
              {
               "Coordinate": [
                "32.815237",
                "1.670000",
                "3.400000"
               ]
              }
             ]
            }
           },
           "RectangularGeometry": {
            "Azimuth": "180.242777",
            "CartesianPoint": {
             "Coordinate": [
              "30.455237",
              "1.680000",
              "3.400000"
             ]
            },
            "Height": "3.400000",
            "Tilt": "90.000000",
            "Width": "2.360021"
           }
          },
          {
           "@constructionIdRef": "STD_PART",
           "@id": "surface-93",
           "@surfaceType": "InteriorWall",
           "AdjacentSpaceId": [
            {
             "@spaceIdRef": "TR000007"
            },
            {
             "@spaceIdRef": "TR000012"
            }
           ],
           "PlanarGeometry": {
            "PolyLoop": {
             "CartesianPoint": [
              {
               "Coordinate": [
                "30.455237",
                "1.680000",
                "6.800000"
               ]
              },
              {
               "Coordinate": [
                "30.455237",
                "3.970000",
                "6.800000"
               ]
              },
              {
               "Coordinate": [
                "30.455237",
                "3.970000",
                "3.400000"
               ]
              },
              {
               "Coordinate": [
                "30.455237",
                "1.680000",
                "3.400000"
               ]
              }
             ]
            }
           },
           "RectangularGeometry": {
            "Azimuth": "270.000000",
            "CartesianPoint": {
             "Coordinate": [
              "30.455237",
              "3.970000",
              "3.400000"
             ]
            },
            "Height": "3.400000",
            "Tilt": "90.000000",
            "Width": "2.290000"
           }
          },
          {
           "@constructionIdRef": "STD_PART",
           "@id": "surface-94",
           "@surfaceType": "InteriorWall",
           "AdjacentSpaceId": [
            {
             "@spaceIdRef": "TR000007"
            },
            {
             "@spaceIdRef": "TR000010"
            }
           ],
           "PlanarGeometry": {
            "PolyLoop": {
             "CartesianPoint": [
              {
               "Coordinate": [
                "33.715237",
                "3.970000",
                "6.800000"
               ]
              },
              {
               "Coordinate": [
                "33.715237",
                "3.428000",
                "6.800000"
               ]
              },
              {
               "Coordinate": [
                "33.715237",
                "3.428000",
                "3.400000"
               ]
              },
              {
               "Coordinate": [
                "33.715237",
                "3.970000",
                "3.400000"
               ]
              }
             ]
            }
           },
           "RectangularGeometry": {
            "Azimuth": "90.000000",
            "CartesianPoint": {
             "Coordinate": [
              "33.715237",
              "3.428000",
              "3.400000"
             ]
            },
            "Height": "3.400000",
            "Tilt": "90.000000",
            "Width": "0.542000"
           }
          },
          {
           "@constructionIdRef": "STD_PART",
           "@id": "surface-95",
           "@surfaceType": "InteriorWall",
           "AdjacentSpaceId": [
            {
             "@spaceIdRef": "TR000007"
            },
            {
             "@spaceIdRef": "B0000000"
            }
           ],
           "PlanarGeometry": {
            "PolyLoop": {
             "CartesianPoint": [
              {
               "Coordinate": [
                "33.715237",
                "3.428000",
                "6.800000"
               ]
              },
              {
               "Coordinate": [
                "33.715237",
                "1.670000",
                "6.800000"
               ]
              },
              {
               "Coordinate": [
                "33.715237",
                "1.670000",
                "3.400000"
               ]
              },
              {
               "Coordinate": [
                "33.715237",
                "3.428000",
                "3.400000"
               ]
              }
             ]
            }
           },
           "RectangularGeometry": {
            "Azimuth": "90.000000",
            "CartesianPoint": {
             "Coordinate": [
              "33.715237",
              "1.670000",
              "3.400000"
             ]
            },
            "Height": "3.400000",
            "Tilt": "90.000000",
            "Width": "1.758000"
           }
          },
          {
           "@constructionIdRef": "STD_PART",
           "@id": "surface-96",
           "@surfaceType": "InteriorWall",
           "AdjacentSpaceId": [
            {
             "@spaceIdRef": "TR000007"
            },
            {
             "@spaceIdRef": "B0000000"
            }
           ],
           "PlanarGeometry": {
            "PolyLoop": {
             "CartesianPoint": [
              {
               "Coordinate": [
                "33.715237",
                "1.670000",
                "6.800000"
               ]
              },
              {
               "Coordinate": [
                "32.815237",
                "1.670000",
                "6.800000"
               ]
              },
              {
               "Coordinate": [
                "32.815237",
                "1.670000",
                "3.400000"
               ]
              },
              {
               "Coordinate": [
                "33.715237",
                "1.670000",
                "3.400000"
               ]
              }
             ]
            }
           },
           "RectangularGeometry": {
            "Azimuth": "180.000000",
            "CartesianPoint": {
             "Coordinate": [
              "32.815237",
              "1.670000",
              "3.400000"
             ]
            },
            "Height": "3.400000",
            "Tilt": "90.000000",
            "Width": "0.900000"
           }
          },
          {
           "@constructionIdRef": "STD_WAL1",
           "@id": "surface-97",
           "@surfaceType": "ExteriorWall",
           "AdjacentSpaceId": {
            "@spaceIdRef": "TR000011"
           },
           "Opening": [
            {
             "@id": "surface-97-opening-1",
             "@openingType": "FixedWindow",
             "@windowTypeIdRef": "STD_EXTW",
             "PlanarGeometry": {
              "PolyLoop": {
               "CartesianPoint": [
                {
                 "Coordinate": [
                  "36.968681",
                  "8.180000",
                  "4.300000"
                 ]
                },
                {
                 "Coordinate": [
                  "36.968681",
                  "10.520000",
                  "4.300000"
                 ]
                },
                {
                 "Coordinate": [
                  "36.968681",
                  "10.520000",
                  "5.800000"
                 ]
                },
                {
                 "Coordinate": [
                  "36.968681",
                  "8.180000",
                  "5.800000"
                 ]
                }
               ]
              }
             },
             "RectangularGeometry": {
              "CartesianPoint": {
               "Coordinate": [
                "4.210000",
                "0.900000"
               ]
              },
              "Height": "1.500000",
              "Width": "2.340000"
             }
            },
            {
             "@id": "surface-97-opening-2",
             "@openingType": "FixedWindow",
             "@windowTypeIdRef": "STD_EXTW",
             "PlanarGeometry": {
              "PolyLoop": {
               "CartesianPoint": [
                {
                 "Coordinate": [
                  "36.968681",
                  "4.620000",
                  "4.300000"
                 ]
                },
                {
                 "Coordinate": [
                  "36.968681",
                  "6.960000",
                  "4.300000"
                 ]
                },
                {
                 "Coordinate": [
                  "36.968681",
                  "6.960000",
                  "5.800000"
                 ]
                },
                {
                 "Coordinate": [
                  "36.968681",
                  "4.620000",
                  "5.800000"
                 ]
                }
               ]
              }
             },
             "RectangularGeometry": {
              "CartesianPoint": {
               "Coordinate": [
                "0.650000",
                "0.900000"
               ]
              },
              "Height": "1.500000",
              "Width": "2.340000"
             }
            }
           ],
           "PlanarGeometry": {
            "PolyLoop": {
             "CartesianPoint": [
              {
               "Coordinate": [
                "36.968681",
                "3.970000",
                "3.400000"
               ]
              },
              {
               "Coordinate": [
                "36.968681",
                "11.169988",
                "3.400000"
               ]
              },
              {
               "Coordinate": [
                "36.968681",
                "11.169988",
                "6.800000"
               ]
              },
              {
               "Coordinate": [
                "36.968681",
                "3.970000",
                "6.800000"
               ]
              }
             ]
            }
           },
           "RectangularGeometry": {
            "Azimuth": "90.000000",
            "CartesianPoint": {
             "Coordinate": [
              "36.968681",
              "3.970000",
              "3.400000"
             ]
            },
            "Height": "3.400000",
            "Tilt": "90.000000",
            "Width": "7.199988"
           }
          },
          {
           "@constructionIdRef": "STD_ROOF",
           "@id": "surface-98",
           "@surfaceType": "Roof",
           "AdjacentSpaceId": {
            "@spaceIdRef": "TR000011"
           },
           "PlanarGeometry": {
            "PolyLoop": {
             "CartesianPoint": [
              {
               "Coordinate": [
                "36.968681",
                "11.169988",
                "6.800000"
               ]
              },
              {
               "Coordinate": [
                "30.455237",
                "11.169988",
                "6.800000"
               ]
              },
              {
               "Coordinate": [
                "30.455237",
                "3.970000",
                "6.800000"
               ]
              },
              {
               "Coordinate": [
                "36.968681",
                "3.970000",
                "6.800000"
               ]
              }
             ]
            }
           },
           "RectangularGeometry": {
            "Azimuth": "0.000000",
            "CartesianPoint": {
             "Coordinate": [
              "36.968681",
              "11.169988",
              "6.800000"
             ]
            },
            "Height": "7.199988",
            "Tilt": "0.000000",
            "Width": "6.513444"
           }
          },
          {
           "@constructionIdRef": "STD_PART",
           "@id": "surface-99",
           "@surfaceType": "InteriorWall",
           "AdjacentSpaceId": [
            {
             "@spaceIdRef": "TR000011"
            },
            {
             "@spaceIdRef": "TR000010"
            }
           ],
           "PlanarGeometry": {
            "PolyLoop": {
             "CartesianPoint": [
              {
               "Coordinate": [
                "36.968681",
                "3.970000",
                "6.800000"
               ]
              },
              {
               "Coordinate": [
                "33.715237",
                "3.970000",
                "6.800000"
               ]
              },
              {
               "Coordinate": [
                "33.715237",
                "3.970000",
                "3.400000"
               ]
              },
              {
               "Coordinate": [
                "36.968681",
                "3.970000",
                "3.400000"
               ]
              }
             ]
            }
           },
           "RectangularGeometry": {
            "Azimuth": "180.000000",
            "CartesianPoint": {
             "Coordinate": [
              "33.715237",
              "3.970000",
              "3.400000"
             ]
            },
            "Height": "3.400000",
            "Tilt": "90.000000",
            "Width": "3.253444"
           }
          },
          {
           "@constructionIdRef": "STD_PART",
           "@id": "surface-100",
           "@surfaceType": "InteriorWall",
           "AdjacentSpaceId": [
            {
             "@spaceIdRef": "TR000011"
            },
            {
             "@spaceIdRef": "TR000012"
            }
           ],
           "Opening": [
            {
             "@constructionIdRef": "STD_DOOR",
             "@id": "surface-100-opening-1",
             "@openingType": "NonSlidingDoor",
             "PlanarGeometry": {
              "PolyLoop": {
               "CartesianPoint": [
                {
                 "Coordinate": [
                  "30.455237",
                  "4.830000",
                  "5.600000"
                 ]
                },
                {
                 "Coordinate": [
                  "30.455237",
                  "5.680000",
                  "5.600000"
                 ]
                },
                {
                 "Coordinate": [
                  "30.455237",
                  "5.680000",
                  "3.400000"
                 ]
                },
                {
                 "Coordinate": [
                  "30.455237",
                  "4.830000",
                  "3.400000"
                 ]
                }
               ]
              }
             },
             "RectangularGeometry": {
              "CartesianPoint": {
               "Coordinate": [
                "5.489988",
                "0.000000"
               ]
              },
              "Height": "2.200000",
              "Width": "0.850000"
             }
            },
            {
             "@constructionIdRef": "STD_DOOR",
             "@id": "surface-100-opening-2",
             "@openingType": "NonSlidingDoor",
             "PlanarGeometry": {
              "PolyLoop": {
               "CartesianPoint": [
                {
                 "Coordinate": [
                  "30.455237",
                  "9.510000",
                  "5.600000"
                 ]
                },
                {
                 "Coordinate": [
                  "30.455237",
                  "10.360000",
                  "5.600000"
                 ]
                },
                {
                 "Coordinate": [
                  "30.455237",
                  "10.360000",
                  "3.400000"
                 ]
                },
                {
                 "Coordinate": [
                  "30.455237",
                  "9.510000",
                  "3.400000"
                 ]
                }
               ]
              }
             },
             "RectangularGeometry": {
              "CartesianPoint": {
               "Coordinate": [
                "0.809988",
                "0.000000"
               ]
              },
              "Height": "2.200000",
              "Width": "0.850000"
             }
            }
           ],
           "PlanarGeometry": {
            "PolyLoop": {
             "CartesianPoint": [
              {
               "Coordinate": [
                "30.455237",
                "3.970000",
                "6.800000"
               ]
              },
              {
               "Coordinate": [
                "30.455237",
                "11.169988",
                "6.800000"
               ]
              },
              {
               "Coordinate": [
                "30.455237",
                "11.169988",
                "3.400000"
               ]
              },
              {
               "Coordinate": [
                "30.455237",
                "3.970000",
                "3.400000"
               ]
              }
             ]
            }
           },
           "RectangularGeometry": {
            "Azimuth": "270.000000",
            "CartesianPoint": {
             "Coordinate": [
              "30.455237",
              "11.169988",
              "3.400000"
             ]
            },
            "Height": "3.400000",
            "Tilt": "90.000000",
            "Width": "7.199988"
           }
          },
          {
           "@constructionIdRef": "STD_WAL1",
           "@id": "surface-101",
           "@surfaceType": "ExteriorWall",
           "AdjacentSpaceId": {
            "@spaceIdRef": "TR000012"
           },
           "PlanarGeometry": {
            "PolyLoop": {
             "CartesianPoint": [
              {
               "Coordinate": [
                "29.193419",
                "0.394968",
                "3.400000"
               ]
              },
              {
               "Coordinate": [
                "32.821140",
                "0.394968",
                "3.400000"
               ]
              },
              {
               "Coordinate": [
                "32.821140",
                "0.394968",
                "6.800000"
               ]
              },
              {
               "Coordinate": [
                "29.193419",
                "0.394968",
                "6.800000"
               ]
              }
             ]
            }
           },
           "RectangularGeometry": {
            "Azimuth": "180.000000",
            "CartesianPoint": {
             "Coordinate": [
              "29.193419",
              "0.394968",
              "3.400000"
             ]
            },
            "Height": "3.400000",
            "Tilt": "90.000000",
            "Width": "3.627721"
           }
          },
          {
           "@constructionIdRef": "STD_PART",
           "@id": "surface-102",
           "@surfaceType": "InteriorWall",
           "AdjacentSpaceId": [
            {
             "@spaceIdRef": "TR000012"
            },
            {
             "@spaceIdRef": "B0000000"
            }
           ],
           "Opening": {
            "@constructionIdRef": "STD_DOOR",
            "@id": "surface-102-opening-1",
            "@openingType": "NonSlidingDoor",
            "PlanarGeometry": {
             "PolyLoop": {
              "CartesianPoint": [
               {
                "Coordinate": [
                 "32.820194",
                 "0.599375",
                 "3.400000"
                ]
               },
               {
                "Coordinate": [
                 "32.816258",
                 "1.449366",
                 "3.400000"
                ]
               },
               {
                "Coordinate": [
                 "32.816258",
                 "1.449366",
                 "5.600000"
                ]
               },
               {
                "Coordinate": [
                 "32.820194",
                 "0.599375",
                 "5.600000"
                ]
               }
              ]
             }
            },
            "RectangularGeometry": {
             "CartesianPoint": {
              "Coordinate": [
               "0.204409",
               "0.000000"
              ]
             },
             "Height": "2.200000",
             "Width": "0.850000"
            }
           },
           "PlanarGeometry": {
            "PolyLoop": {
             "CartesianPoint": [
              {
               "Coordinate": [
                "32.821140",
                "0.394968",
                "3.400000"
               ]
              },
              {
               "Coordinate": [
                "32.815237",
                "1.670000",
                "3.400000"
               ]
              },
              {
               "Coordinate": [
                "32.815237",
                "1.670000",
                "6.800000"
               ]
              },
              {
               "Coordinate": [
                "32.821140",
                "0.394968",
                "6.800000"
               ]
              }
             ]
            }
           },
           "RectangularGeometry": {
            "Azimuth": "89.734740",
            "CartesianPoint": {
             "Coordinate": [
              "32.821140",
              "0.394968",
              "3.400000"
             ]
            },
            "Height": "3.400000",
            "Tilt": "90.000000",
            "Width": "1.275046"
           }
          },
          {
           "@constructionIdRef": "STD_WAL1",
           "@id": "surface-103",
           "@surfaceType": "ExteriorWall",
           "AdjacentSpaceId": {
            "@spaceIdRef": "TR000012"
           },
           "Opening": [
            {
             "@id": "surface-103-opening-1",
             "@openingType": "FixedWindow",
             "@windowTypeIdRef": "STD_EXT2",
             "PlanarGeometry": {
              "PolyLoop": {
               "CartesianPoint": [
                {
                 "Coordinate": [
                  "29.193419",
                  "10.570000",
                  "3.500000"
                 ]
                },
                {
                 "Coordinate": [
                  "29.193419",
                  "4.070000",
                  "3.500000"
                 ]
                },
                {
                 "Coordinate": [
                  "29.193419",
                  "4.070000",
                  "6.100000"
                 ]
                },
                {
                 "Coordinate": [
                  "29.193419",
                  "10.570000",
                  "6.100000"
                 ]
                }
               ]
              }
             },
             "RectangularGeometry": {
              "CartesianPoint": {
               "Coordinate": [
                "0.599988",
                "0.100000"
               ]
              },
              "Height": "2.600000",
              "Width": "6.500000"
             }
            },
            {
             "@constructionIdRef": "STD_DOOR",
             "@id": "surface-103-opening-2",
             "@openingType": "NonSlidingDoor",
             "PlanarGeometry": {
              "PolyLoop": {
               "CartesianPoint": [
                {
                 "Coordinate": [
                  "29.193419",
                  "1.450000",
                  "3.400000"
                 ]
                },
                {
                 "Coordinate": [
                  "29.193419",
                  "0.550000",
                  "3.400000"
                 ]
                },
                {
                 "Coordinate": [
                  "29.193419",
                  "0.550000",
                  "5.650000"
                 ]
                },
                {
                 "Coordinate": [
                  "29.193419",
                  "1.450000",
                  "5.650000"
                 ]
                }
               ]
              }
             },
             "RectangularGeometry": {
              "CartesianPoint": {
               "Coordinate": [
                "9.719988",
                "0.000000"
               ]
              },
              "Height": "2.250000",
              "Width": "0.900000"
             }
            }
           ],
           "PlanarGeometry": {
            "PolyLoop": {
             "CartesianPoint": [
              {
               "Coordinate": [
                "29.193419",
                "11.169988",
                "3.400000"
               ]
              },
              {
               "Coordinate": [
                "29.193419",
                "0.394968",
                "3.400000"
               ]
              },
              {
               "Coordinate": [
                "29.193419",
                "0.394968",
                "6.800000"
               ]
              },
              {
               "Coordinate": [
                "29.193419",
                "11.169988",
                "6.800000"
               ]
              }
             ]
            }
           },
           "RectangularGeometry": {
            "Azimuth": "270.000000",
            "CartesianPoint": {
             "Coordinate": [
              "29.193419",
              "11.169988",
              "3.400000"
             ]
            },
            "Height": "3.400000",
            "Tilt": "90.000000",
            "Width": "10.775020"
           }
          },
          {
           "@constructionIdRef": "STD_FLO1",
           "@id": "surface-104",
           "@surfaceType": "ExposedFloor",
           "AdjacentSpaceId": {
            "@spaceIdRef": "TR000012"
           },
           "PlanarGeometry": {
            "PolyLoop": {
             "CartesianPoint": [
              {
               "Coordinate": [
                "30.455237",
                "2.205237",
                "3.400000"
               ]
              },
              {
               "Coordinate": [
                "29.193419",
                "2.205237",
                "3.400000"
               ]
              },
              {
               "Coordinate": [
                "29.193419",
                "3.969988",
                "3.400000"
               ]
              },
              {
               "Coordinate": [
                "30.455237",
                "3.969988",
                "3.400000"
               ]
              }
             ]
            }
           },
           "RectangularGeometry": {
            "Azimuth": "0.000000",
            "CartesianPoint": {
             "Coordinate": [
              "30.455237",
              "2.205237",
              "3.400000"
             ]
            },
            "Height": "1.764751",
            "Tilt": "180.000000",
            "Width": "1.261818"
           }
          },
          {
           "@constructionIdRef": "STD_ROOF",
           "@id": "surface-105",
           "@surfaceType": "Roof",
           "AdjacentSpaceId": {
            "@spaceIdRef": "TR000012"
           },
           "PlanarGeometry": {
            "PolyLoop": {
             "CartesianPoint": [
              {
               "Coordinate": [
                "29.193419",
                "0.394968",
                "6.800000"
               ]
              },
              {
               "Coordinate": [
                "32.821140",
                "0.394968",
                "6.800000"
               ]
              },
              {
               "Coordinate": [
                "32.815237",
                "1.670000",
                "6.800000"
               ]
              },
              {
               "Coordinate": [
                "30.455237",
                "1.680000",
                "6.800000"
               ]
              },
              {
               "Coordinate": [
                "30.455237",
                "11.169988",
                "6.800000"
               ]
              },
              {
               "Coordinate": [
                "29.193419",
                "11.169988",
                "6.800000"
               ]
              }
             ]
            }
           },
           "RectangularGeometry": {
            "Azimuth": "0.000000",
            "CartesianPoint": {
             "Coordinate": [
              "32.821140",
              "11.169988",
              "6.800000"
             ]
            },
            "Height": "10.775020",
            "Tilt": "0.000000",
            "Width": "3.627721"
           }
          },
          {
           "@constructionIdRef": "STD_WAL1",
           "@id": "surface-106",
           "@surfaceType": "ExteriorWall",
           "AdjacentSpaceId": {
            "@spaceIdRef": "TR000010"
           },
           "PlanarGeometry": {
            "PolyLoop": {
             "CartesianPoint": [
              {
               "Coordinate": [
                "36.968681",
                "3.428000",
                "3.400000"
               ]
              },
              {
               "Coordinate": [
                "36.968681",
                "3.970000",
                "3.400000"
               ]
              },
              {
               "Coordinate": [
                "36.968681",
                "3.970000",
                "6.800000"
               ]
              },
              {
               "Coordinate": [
                "36.968681",
                "3.428000",
                "6.800000"
               ]
              }
             ]
            }
           },
           "RectangularGeometry": {
            "Azimuth": "90.000000",
            "CartesianPoint": {
             "Coordinate": [
              "36.968681",
              "3.428000",
              "3.400000"
             ]
            },
            "Height": "3.400000",
            "Tilt": "90.000000",
            "Width": "0.542000"
           }
          },
          {
           "@constructionIdRef": "STD_ROOF",
           "@id": "surface-107",
           "@surfaceType": "Roof",
           "AdjacentSpaceId": {
            "@spaceIdRef": "TR000010"
           },
           "PlanarGeometry": {
            "PolyLoop": {
             "CartesianPoint": [
              {
               "Coordinate": [
                "36.968681",
                "3.970000",
                "6.800000"
               ]
              },
              {
               "Coordinate": [
                "33.715237",
                "3.970000",
                "6.800000"
               ]
              },
              {
               "Coordinate": [
                "33.715237",
                "3.428000",
                "6.800000"
               ]
              },
              {
               "Coordinate": [
                "36.968681",
                "3.428000",
                "6.800000"
               ]
              }
             ]
            }
           },
           "RectangularGeometry": {
            "Azimuth": "0.000000",
            "CartesianPoint": {
             "Coordinate": [
              "36.968681",
              "3.970000",
              "6.800000"
             ]
            },
            "Height": "0.542000",
            "Tilt": "0.000000",
            "Width": "3.253444"
           }
          },
          {
           "@constructionIdRef": "STD_PART",
           "@id": "surface-108",
           "@surfaceType": "InteriorWall",
           "AdjacentSpaceId": [
            {
             "@spaceIdRef": "TR000010"
            },
            {
             "@spaceIdRef": "B0000000"
            }
           ],
           "PlanarGeometry": {
            "PolyLoop": {
             "CartesianPoint": [
              {
               "Coordinate": [
                "36.968681",
                "3.428000",
                "6.800000"
               ]
              },
              {
               "Coordinate": [
                "33.715237",
                "3.428000",
                "6.800000"
               ]
              },
              {
               "Coordinate": [
                "33.715237",
                "3.428000",
                "3.400000"
               ]
              },
              {
               "Coordinate": [
                "36.968681",
                "3.428000",
                "3.400000"
               ]
              }
             ]
            }
           },
           "RectangularGeometry": {
            "Azimuth": "180.000000",
            "CartesianPoint": {
             "Coordinate": [
              "33.715237",
              "3.428000",
              "3.400000"
             ]
            },
            "Height": "3.400000",
            "Tilt": "90.000000",
            "Width": "3.253444"
           }
          },
          {
           "@constructionIdRef": "STD_WAL1",
           "@id": "surface-109",
           "@surfaceType": "ExteriorWall",
           "AdjacentSpaceId": {
            "@spaceIdRef": "B0000000"
           },
           "PlanarGeometry": {
            "PolyLoop": {
             "CartesianPoint": [
              {
               "Coordinate": [
                "32.821140",
                "0.394968",
                "3.400000"
               ]
              },
              {
               "Coordinate": [
                "36.968681",
                "0.394968",
                "3.400000"
               ]
              },
              {
               "Coordinate": [
                "36.968681",
                "0.394968",
                "6.800000"
               ]
              },
              {
               "Coordinate": [
                "32.821140",
                "0.394968",
                "6.800000"
               ]
              }
             ]
            }
           },
           "RectangularGeometry": {
            "Azimuth": "180.000000",
            "CartesianPoint": {
             "Coordinate": [
              "32.821140",
              "0.394968",
              "3.400000"
             ]
            },
            "Height": "3.400000",
            "Tilt": "90.000000",
            "Width": "4.147541"
           }
          },
          {
           "@constructionIdRef": "STD_WAL1",
           "@id": "surface-110",
           "@surfaceType": "ExteriorWall",
           "AdjacentSpaceId": {
            "@spaceIdRef": "B0000000"
           },
           "Opening": {
            "@id": "surface-110-opening-1",
            "@openingType": "FixedWindow",
            "@windowTypeIdRef": "STD_EXTW",
            "PlanarGeometry": {
             "PolyLoop": {
              "CartesianPoint": [
               {
                "Coordinate": [
                 "36.968681",
                 "1.633447",
                 "4.300000"
                ]
               },
               {
                "Coordinate": [
                 "36.968681",
                 "3.343433",
                 "4.300000"
                ]
               },
               {
                "Coordinate": [
                 "36.968681",
                 "3.343433",
                 "5.800000"
                ]
               },
               {
                "Coordinate": [
                 "36.968681",
                 "1.633447",
                 "5.800000"
                ]
               }
              ]
             }
            },
            "RectangularGeometry": {
             "CartesianPoint": {
              "Coordinate": [
               "1.238479",
               "0.900000"
              ]
             },
             "Height": "1.500000",
             "Width": "1.709986"
            }
           },
           "PlanarGeometry": {
            "PolyLoop": {
             "CartesianPoint": [
              {
               "Coordinate": [
                "36.968681",
                "0.394968",
                "3.400000"
               ]
              },
              {
               "Coordinate": [
                "36.968681",
                "3.428000",
                "3.400000"
               ]
              },
              {
               "Coordinate": [
                "36.968681",
                "3.428000",
                "6.800000"
               ]
              },
              {
               "Coordinate": [
                "36.968681",
                "0.394968",
                "6.800000"
               ]
              }
             ]
            }
           },
           "RectangularGeometry": {
            "Azimuth": "90.000000",
            "CartesianPoint": {
             "Coordinate": [
              "36.968681",
              "0.394968",
              "3.400000"
             ]
            },
            "Height": "3.400000",
            "Tilt": "90.000000",
            "Width": "3.033032"
           }
          },
          {
           "@constructionIdRef": "STD_ROOF",
           "@id": "surface-111",
           "@surfaceType": "Roof",
           "AdjacentSpaceId": {
            "@spaceIdRef": "B0000000"
           },
           "PlanarGeometry": {
            "PolyLoop": {
             "CartesianPoint": [
              {
               "Coordinate": [
                "36.968681",
                "3.428000",
                "6.800000"
               ]
              },
              {
               "Coordinate": [
                "33.715237",
                "3.428000",
                "6.800000"
               ]
              },
              {
               "Coordinate": [
                "33.715237",
                "1.670000",
                "6.800000"
               ]
              },
              {
               "Coordinate": [
                "32.815237",
                "1.670000",
                "6.800000"
               ]
              },
              {
               "Coordinate": [
                "32.821140",
                "0.394968",
                "6.800000"
               ]
              },
              {
               "Coordinate": [
                "36.968681",
                "0.394968",
                "6.800000"
               ]
              }
             ]
            }
           },
           "RectangularGeometry": {
            "Azimuth": "0.000000",
            "CartesianPoint": {
             "Coordinate": [
              "36.968681",
              "3.428000",
              "6.800000"
             ]
            },
            "Height": "3.033032",
            "Tilt": "0.000000",
            "Width": "4.153444"
           }
          },
          {
           "@constructionIdRef": "STD_CEIL",
           "@id": "surface-112",
           "@surfaceType": "Ceiling",
           "AdjacentSpaceId": [
            {
             "@spaceIdRef": "01000000"
            },
            {
             "@spaceIdRef": "00000001"
            }
           ],
           "PlanarGeometry": {
            "PolyLoop": {
             "CartesianPoint": [
              {
               "Coordinate": [
                "19.023681",
                "1.655237",
                "3.400000"
               ]
              },
              {
               "Coordinate": [
                "18.403681",
                "1.655237",
                "3.400000"
               ]
              },
              {
               "Coordinate": [
                "18.403681",
                "1.659769",
                "3.400000"
               ]
              }
             ]
            }
           },
           "RectangularGeometry": {
            "Azimuth": "0.000000",
            "CartesianPoint": {
             "Coordinate": [
              "19.023681",
              "1.655237",
              "3.400000"
             ]
            },
            "Height": "0.004532",
            "Tilt": "180.000000",
            "Width": "0.620000"
           }
          },
          {
           "@constructionIdRef": "STD_CEIL",
           "@id": "surface-113",
           "@surfaceType": "Ceiling",
           "AdjacentSpaceId": [
            {
             "@spaceIdRef": "01000000"
            },
            {
             "@spaceIdRef": "00000001"
            }
           ],
           "PlanarGeometry": {
            "PolyLoop": {
             "CartesianPoint": [
              {
               "Coordinate": [
                "19.023681",
                "6.919988",
                "3.400000"
               ]
              },
              {
               "Coordinate": [
                "18.403681",
                "6.919988",
                "3.400000"
               ]
              },
              {
               "Coordinate": [
                "18.403681",
                "8.158887",
                "3.400000"
               ]
              },
              {
               "Coordinate": [
                "19.023681",
                "8.158887",
                "3.400000"
               ]
              }
             ]
            }
           },
           "RectangularGeometry": {
            "Azimuth": "0.000000",
            "CartesianPoint": {
             "Coordinate": [
              "19.023681",
              "6.919988",
              "3.400000"
             ]
            },
            "Height": "1.238899",
            "Tilt": "180.000000",
            "Width": "0.620000"
           }
          },
          {
           "@constructionIdRef": "STD_CEIL",
           "@id": "surface-114",
           "@surfaceType": "Ceiling",
           "AdjacentSpaceId": [
            {
             "@spaceIdRef": "01000000"
            },
            {
             "@spaceIdRef": "00000000"
            }
           ],
           "PlanarGeometry": {
            "PolyLoop": {
             "CartesianPoint": [
              {
               "Coordinate": [
                "21.956680",
                "1.655237",
                "3.400000"
               ]
              },
              {
               "Coordinate": [
                "19.023681",
                "1.655237",
                "3.400000"
               ]
              },
              {
               "Coordinate": [
                "18.403681",
                "1.659769",
                "3.400000"
               ]
              },
              {
               "Coordinate": [
                "18.403681",
                "6.919988",
                "3.400000"
               ]
              },
              {
               "Coordinate": [
                "19.023681",
                "6.919988",
                "3.400000"
               ]
              },
              {
               "Coordinate": [
                "19.023681",
                "8.158887",
                "3.400000"
               ]
              },
              {
               "Coordinate": [
                "21.317000",
                "8.158887",
                "3.400000"
               ]
              },
              {
               "Coordinate": [
                "21.317000",
                "6.009000",
                "3.400000"
               ]
              },
              {
               "Coordinate": [
                "21.956680",
                "6.008347",
                "3.400000"
               ]
              }
             ]
            }
           },
           "RectangularGeometry": {
            "Azimuth": "0.000000",
            "CartesianPoint": {
             "Coordinate": [
              "21.956680",
              "1.655237",
              "3.400000"
             ]
            },
            "Height": "6.503650",
            "Tilt": "180.000000",
            "Width": "3.552999"
           }
          },
          {
           "@constructionIdRef": "STD_ROOF",
           "@id": "surface-115",
           "@surfaceType": "Roof",
           "AdjacentSpaceId": {
            "@spaceIdRef": "01000000"
           },
           "PlanarGeometry": {
            "PolyLoop": {
             "CartesianPoint": [
              {
               "Coordinate": [
                "21.317000",
                "8.158887",
                "6.800000"
               ]
              },
              {
               "Coordinate": [
                "18.403681",
                "8.158887",
                "6.800000"
               ]
              },
              {
               "Coordinate": [
                "18.403681",
                "1.655237",
                "6.800000"
               ]
              },
              {
               "Coordinate": [
                "21.956680",
                "1.655237",
                "6.800000"
               ]
              },
              {
               "Coordinate": [
                "21.956680",
                "6.008347",
                "6.800000"
               ]
              },
              {
               "Coordinate": [
                "21.317000",
                "6.009000",
                "6.800000"
               ]
              }
             ]
            }
           },
           "RectangularGeometry": {
            "Azimuth": "0.000000",
            "CartesianPoint": {
             "Coordinate": [
              "21.956680",
              "8.158887",
              "6.800000"
             ]
            },
            "Height": "6.503650",
            "Tilt": "0.000000",
            "Width": "3.552999"
           }
          },
          {
           "@constructionIdRef": "STD_WAL1",
           "@id": "surface-116",
           "@surfaceType": "ExteriorWall",
           "AdjacentSpaceId": {
            "@spaceIdRef": "01000000"
           },
           "Opening": {
            "@id": "surface-116-opening-1",
            "@openingType": "FixedWindow",
            "@windowTypeIdRef": "STD_EXTW",
            "PlanarGeometry": {
             "PolyLoop": {
              "CartesianPoint": [
               {
                "Coordinate": [
                 "20.815237",
                 "8.158887",
                 "4.300000"
                ]
               },
               {
                "Coordinate": [
                 "19.065237",
                 "8.158887",
                 "4.300000"
                ]
               },
               {
                "Coordinate": [
                 "19.065237",
                 "8.158887",
                 "5.800000"
                ]
               },
               {
                "Coordinate": [
                 "20.815237",
                 "8.158887",
                 "5.800000"
                ]
               }
              ]
             }
            },
            "RectangularGeometry": {
             "CartesianPoint": {
              "Coordinate": [
               "0.501763",
               "0.900000"
              ]
             },
             "Height": "1.500000",
             "Width": "1.750000"
            }
           },
           "PlanarGeometry": {
            "PolyLoop": {
             "CartesianPoint": [
              {
               "Coordinate": [
                "21.317000",
                "8.158887",
                "3.400000"
               ]
              },
              {
               "Coordinate": [
                "18.403681",
                "8.158887",
                "3.400000"
               ]
              },
              {
               "Coordinate": [
                "18.403681",
                "8.158887",
                "6.800000"
               ]
              },
              {
               "Coordinate": [
                "21.317000",
                "8.158887",
                "6.800000"
               ]
              }
             ]
            }
           },
           "RectangularGeometry": {
            "Azimuth": "0.000000",
            "CartesianPoint": {
             "Coordinate": [
              "21.317000",
              "8.158887",
              "3.400000"
             ]
            },
            "Height": "3.400000",
            "Tilt": "90.000000",
            "Width": "2.913319"
           }
          },
          {
           "@constructionIdRef": "STD_PART",
           "@id": "surface-117",
           "@surfaceType": "InteriorWall",
           "AdjacentSpaceId": [
            {
             "@spaceIdRef": "01000000"
            },
            {
             "@spaceIdRef": "RM000005"
            }
           ],
           "PlanarGeometry": {
            "PolyLoop": {
             "CartesianPoint": [
              {
               "Coordinate": [
                "21.956680",
                "5.510052",
                "6.800000"
               ]
              },
              {
               "Coordinate": [
                "21.956680",
                "3.658000",
                "6.800000"
               ]
              },
              {
               "Coordinate": [
                "21.956680",
                "3.658000",
                "3.400000"
               ]
              },
              {
               "Coordinate": [
                "21.956680",
                "5.510052",
                "3.400000"
               ]
              }
             ]
            }
           },
           "RectangularGeometry": {
            "Azimuth": "90.000000",
            "CartesianPoint": {
             "Coordinate": [
              "21.956680",
              "3.658000",
              "3.400000"
             ]
            },
            "Height": "3.400000",
            "Tilt": "90.000000",
            "Width": "1.852052"
           }
          },
          {
           "@constructionIdRef": "STD_WAL1",
           "@id": "surface-118",
           "@surfaceType": "ExteriorWall",
           "AdjacentSpaceId": {
            "@spaceIdRef": "01000000"
           },
           "PlanarGeometry": {
            "PolyLoop": {
             "CartesianPoint": [
              {
               "Coordinate": [
                "21.956680",
                "1.655237",
                "3.400000"
               ]
              },
              {
               "Coordinate": [
                "21.956680",
                "3.658000",
                "3.400000"
               ]
              },
              {
               "Coordinate": [
                "21.956680",
                "3.658000",
                "6.800000"
               ]
              },
              {
               "Coordinate": [
                "21.956680",
                "1.655237",
                "6.800000"
               ]
              }
             ]
            }
           },
           "RectangularGeometry": {
            "Azimuth": "90.000000",
            "CartesianPoint": {
             "Coordinate": [
              "21.956680",
              "1.655237",
              "3.400000"
             ]
            },
            "Height": "3.400000",
            "Tilt": "90.000000",
            "Width": "2.002763"
           }
          },
          {
           "@constructionIdRef": "STD_WAL1",
           "@id": "surface-119",
           "@surfaceType": "ExteriorWall",
           "AdjacentSpaceId": {
            "@spaceIdRef": "01000000"
           },
           "PlanarGeometry": {
            "PolyLoop": {
             "CartesianPoint": [
              {
               "Coordinate": [
                "21.956680",
                "5.510052",
                "3.400000"
               ]
              },
              {
               "Coordinate": [
                "21.956680",
                "6.008347",
                "3.400000"
               ]
              },
              {
               "Coordinate": [
                "21.956680",
                "6.008347",
                "6.800000"
               ]
              },
              {
               "Coordinate": [
                "21.956680",
                "5.510052",
                "6.800000"
               ]
              }
             ]
            }
           },
           "RectangularGeometry": {
            "Azimuth": "90.000000",
            "CartesianPoint": {
             "Coordinate": [
              "21.956680",
              "5.510052",
              "3.400000"
             ]
            },
            "Height": "3.400000",
            "Tilt": "90.000000",
            "Width": "0.498295"
           }
          },
          {
           "@constructionIdRef": "STD_PART",
           "@id": "surface-120",
           "@surfaceType": "InteriorWall",
           "AdjacentSpaceId": [
            {
             "@spaceIdRef": "01000000"
            },
            {
             "@spaceIdRef": "01000001"
            }
           ],
           "PlanarGeometry": {
            "PolyLoop": {
             "CartesianPoint": [
              {
               "Coordinate": [
                "21.317000",
                "6.009000",
                "6.800000"
               ]
              },
              {
               "Coordinate": [
                "21.956680",
                "6.008347",
                "6.800000"
               ]
              },
              {
               "Coordinate": [
                "21.956680",
                "6.008347",
                "3.400000"
               ]
              },
              {
               "Coordinate": [
                "21.317000",
                "6.009000",
                "3.400000"
               ]
              }
             ]
            }
           },
           "RectangularGeometry": {
            "Azimuth": "0.058489",
            "CartesianPoint": {
             "Coordinate": [
              "21.956680",
              "6.008347",
              "3.400000"
             ]
            },
            "Height": "3.400000",
            "Tilt": "90.000000",
            "Width": "0.639680"
           }
          },
          {
           "@constructionIdRef": "STD_PART",
           "@id": "surface-121",
           "@surfaceType": "InteriorWall",
           "AdjacentSpaceId": [
            {
             "@spaceIdRef": "01000000"
            },
            {
             "@spaceIdRef": "01000001"
            }
           ],
           "PlanarGeometry": {
            "PolyLoop": {
             "CartesianPoint": [
              {
               "Coordinate": [
                "21.317000",
                "8.158887",
                "6.800000"
               ]
              },
              {
               "Coordinate": [
                "21.317000",
                "6.009000",
                "6.800000"
               ]
              },
              {
               "Coordinate": [
                "21.317000",
                "6.009000",
                "3.400000"
               ]
              },
              {
               "Coordinate": [
                "21.317000",
                "8.158887",
                "3.400000"
               ]
              }
             ]
            }
           },
           "RectangularGeometry": {
            "Azimuth": "90.000000",
            "CartesianPoint": {
             "Coordinate": [
              "21.317000",
              "6.009000",
              "3.400000"
             ]
            },
            "Height": "3.400000",
            "Tilt": "90.000000",
            "Width": "2.149887"
           }
          },
          {
           "@constructionIdRef": "STD_ROOF",
           "@id": "surface-122",
           "@surfaceType": "Roof",
           "AdjacentSpaceId": {
            "@spaceIdRef": "00000002"
           },
           "PlanarGeometry": {
            "PolyLoop": {
             "CartesianPoint": [
              {
               "Coordinate": [
                "7.563681",
                "8.158887",
                "6.800000"
               ]
              },
              {
               "Coordinate": [
                "0.405000",
                "8.158887",
                "6.800000"
               ]
              },
              {
               "Coordinate": [
                "0.405000",
                "0.382000",
                "6.800000"
               ]
              },
              {
               "Coordinate": [
                "7.563681",
                "0.382000",
                "6.800000"
               ]
              }
             ]
            }
           },
           "RectangularGeometry": {
            "Azimuth": "0.000000",
            "CartesianPoint": {
             "Coordinate": [
              "7.563681",
              "8.158887",
              "6.800000"
             ]
            },
            "Height": "7.776887",
            "Tilt": "0.000000",
            "Width": "7.158681"
           }
          },
          {
           "@constructionIdRef": "STD_WAL1",
           "@id": "surface-123",
           "@surfaceType": "ExteriorWall",
           "AdjacentSpaceId": {
            "@spaceIdRef": "00000002"
           },
           "PlanarGeometry": {
            "PolyLoop": {
             "CartesianPoint": [
              {
               "Coordinate": [
                "0.405000",
                "8.158887",
                "0.000000"
               ]
              },
              {
               "Coordinate": [
                "0.405000",
                "0.382000",
                "0.000000"
               ]
              },
              {
               "Coordinate": [
                "0.405000",
                "0.382000",
                "6.800000"
               ]
              },
              {
               "Coordinate": [
                "0.405000",
                "8.158887",
                "6.800000"
               ]
              }
             ]
            }
           },
           "RectangularGeometry": {
            "Azimuth": "270.000000",
            "CartesianPoint": {
             "Coordinate": [
              "0.405000",
              "8.158887",
              "-0.000000"
             ]
            },
            "Height": "6.800000",
            "Tilt": "90.000000",
            "Width": "7.776887"
           }
          },
          {
           "@constructionIdRef": "STD_WAL1",
           "@id": "surface-124",
           "@surfaceType": "ExteriorWall",
           "AdjacentSpaceId": {
            "@spaceIdRef": "00000002"
           },
           "Opening": [
            {
             "@constructionIdRef": "STD_DOOR",
             "@id": "surface-124-opening-1",
             "@openingType": "NonSlidingDoor",
             "PlanarGeometry": {
              "PolyLoop": {
               "CartesianPoint": [
                {
                 "Coordinate": [
                  "1.643681",
                  "0.382000",
                  "0.000000"
                 ]
                },
                {
                 "Coordinate": [
                  "3.393681",
                  "0.382000",
                  "0.000000"
                 ]
                },
                {
                 "Coordinate": [
                  "3.393681",
                  "0.382000",
                  "2.250000"
                 ]
                },
                {
                 "Coordinate": [
                  "1.643681",
                  "0.382000",
                  "2.250000"
                 ]
                }
               ]
              }
             },
             "RectangularGeometry": {
              "CartesianPoint": {
               "Coordinate": [
                "1.238681",
                "0.000000"
               ]
              },
              "Height": "2.250000",
              "Width": "1.750000"
             }
            },
            {
             "@id": "surface-124-opening-2",
             "@openingType": "FixedWindow",
             "@windowTypeIdRef": "STD_EXT2",
             "PlanarGeometry": {
              "PolyLoop": {
               "CartesianPoint": [
                {
                 "Coordinate": [
                  "1.653681",
                  "0.382000",
                  "3.500000"
                 ]
                },
                {
                 "Coordinate": [
                  "6.943681",
                  "0.382000",
                  "3.500000"
                 ]
                },
                {
                 "Coordinate": [
                  "6.943681",
                  "0.382000",
                  "6.400000"
                 ]
                },
                {
                 "Coordinate": [
                  "1.653681",
                  "0.382000",
                  "6.400000"
                 ]
                }
               ]
              }
             },
             "RectangularGeometry": {
              "CartesianPoint": {
               "Coordinate": [
                "1.248681",
                "3.500000"
               ]
              },
              "Height": "2.900000",
              "Width": "5.290000"
             }
            }
           ],
           "PlanarGeometry": {
            "PolyLoop": {
             "CartesianPoint": [
              {
               "Coordinate": [
                "0.405000",
                "0.382000",
                "0.000000"
               ]
              },
              {
               "Coordinate": [
                "7.563681",
                "0.382000",
                "-0.000000"
               ]
              },
              {
               "Coordinate": [
                "7.563681",
                "0.382000",
                "6.800000"
               ]
              },
              {
               "Coordinate": [
                "0.405000",
                "0.382000",
                "6.800000"
               ]
              }
             ]
            }
           },
           "RectangularGeometry": {
            "Azimuth": "180.000000",
            "CartesianPoint": {
             "Coordinate": [
              "0.405000",
              "0.382000",
              "-0.000000"
             ]
            },
            "Height": "6.800000",
            "Tilt": "90.000000",
            "Width": "7.158681"
           }
          },
          {
           "@constructionIdRef": "STD_WAL1",
           "@id": "surface-125",
           "@surfaceType": "ExteriorWall",
           "AdjacentSpaceId": {
            "@spaceIdRef": "00000002"
           },
           "Opening": [
            {
             "@constructionIdRef": "STD_DOOR",
             "@id": "surface-125-opening-1",
             "@openingType": "NonSlidingDoor",
             "PlanarGeometry": {
              "PolyLoop": {
               "CartesianPoint": [
                {
                 "Coordinate": [
                  "3.363681",
                  "8.158887",
                  "-0.000000"
                 ]
                },
                {
                 "Coordinate": [
                  "1.613681",
                  "8.158887",
                  "-0.000000"
                 ]
                },
                {
                 "Coordinate": [
                  "1.613681",
                  "8.158887",
                  "2.250000"
                 ]
                },
                {
                 "Coordinate": [
                  "3.363681",
                  "8.158887",
                  "2.250000"
                 ]
                }
               ]
              }
             },
             "RectangularGeometry": {
              "CartesianPoint": {
               "Coordinate": [
                "4.200000",
                "0.000000"
               ]
              },
              "Height": "2.250000",
              "Width": "1.750000"
             }
            },
            {
             "@constructionIdRef": "STD_DOOR",
             "@id": "surface-125-opening-2",
             "@openingType": "NonSlidingDoor",
             "PlanarGeometry": {
              "PolyLoop": {
               "CartesianPoint": [
                {
                 "Coordinate": [
                  "2.753681",
                  "8.158887",
                  "4.250000"
                 ]
                },
                {
                 "Coordinate": [
                  "1.603681",
                  "8.158887",
                  "4.250000"
                 ]
                },
                {
                 "Coordinate": [
                  "1.603681",
                  "8.158887",
                  "6.100000"
                 ]
                },
                {
                 "Coordinate": [
                  "2.753681",
                  "8.158887",
                  "6.100000"
                 ]
                }
               ]
              }
             },
             "RectangularGeometry": {
              "CartesianPoint": {
               "Coordinate": [
                "4.810000",
                "4.250000"
               ]
              },
              "Height": "1.850000",
              "Width": "1.150000"
             }
            },
            {
             "@constructionIdRef": "STD_DOOR",
             "@id": "surface-125-opening-3",
             "@openingType": "NonSlidingDoor",
             "PlanarGeometry": {
              "PolyLoop": {
               "CartesianPoint": [
                {
                 "Coordinate": [
                  "6.353681",
                  "8.158887",
                  "4.250000"
                 ]
                },
                {
                 "Coordinate": [
                  "5.203681",
                  "8.158887",
                  "4.250000"
                 ]
                },
                {
                 "Coordinate": [
                  "5.203681",
                  "8.158887",
                  "6.100000"
                 ]
                },
                {
                 "Coordinate": [
                  "6.353681",
                  "8.158887",
                  "6.100000"
                 ]
                }
               ]
              }
             },
             "RectangularGeometry": {
              "CartesianPoint": {
               "Coordinate": [
                "1.210000",
                "4.250000"
               ]
              },
              "Height": "1.850000",
              "Width": "1.150000"
             }
            }
           ],
           "PlanarGeometry": {
            "PolyLoop": {
             "CartesianPoint": [
              {
               "Coordinate": [
                "7.563681",
                "8.158887",
                "0.000000"
               ]
              },
              {
               "Coordinate": [
                "0.405000",
                "8.158887",
                "0.000000"
               ]
              },
              {
               "Coordinate": [
                "0.405000",
                "8.158887",
                "6.800000"
               ]
              },
              {
               "Coordinate": [
                "7.563681",
                "8.158887",
                "6.800000"
               ]
              }
             ]
            }
           },
           "RectangularGeometry": {
            "Azimuth": "0.000000",
            "CartesianPoint": {
             "Coordinate": [
              "7.563681",
              "8.158887",
              "0.000000"
             ]
            },
            "Height": "6.800000",
            "Tilt": "90.000000",
            "Width": "7.158681"
           }
          },
          {
           "@constructionIdRef": "STD_FLO1",
           "@id": "surface-126",
           "@surfaceType": "ExposedFloor",
           "AdjacentSpaceId": {
            "@spaceIdRef": "00000002"
           },
           "PlanarGeometry": {
            "PolyLoop": {
             "CartesianPoint": [
              {
               "Coordinate": [
                "7.563681",
                "0.382000",
                "0.000000"
               ]
              },
              {
               "Coordinate": [
                "0.405000",
                "0.382000",
                "0.000000"
               ]
              },
              {
               "Coordinate": [
                "0.405000",
                "8.158887",
                "0.000000"
               ]
              },
              {
               "Coordinate": [
                "7.563681",
                "8.158887",
                "0.000000"
               ]
              }
             ]
            }
           },
           "RectangularGeometry": {
            "Azimuth": "0.000000",
            "CartesianPoint": {
             "Coordinate": [
              "7.563681",
              "0.382000",
              "0.000000"
             ]
            },
            "Height": "7.776887",
            "Tilt": "180.000000",
            "Width": "7.158681"
           }
          },
          {
           "@constructionIdRef": "STD_PART",
           "@id": "surface-127",
           "@surfaceType": "InteriorWall",
           "AdjacentSpaceId": [
            {
             "@spaceIdRef": "00000002"
            },
            {
             "@spaceIdRef": "01000002"
            }
           ],
           "PlanarGeometry": {
            "PolyLoop": {
             "CartesianPoint": [
              {
               "Coordinate": [
                "7.563681",
                "8.158887",
                "6.800000"
               ]
              },
              {
               "Coordinate": [
                "7.563681",
                "0.382000",
                "6.800000"
               ]
              },
              {
               "Coordinate": [
                "7.563681",
                "0.382000",
                "3.400000"
               ]
              },
              {
               "Coordinate": [
                "7.563681",
                "8.158887",
                "3.400000"
               ]
              }
             ]
            }
           },
           "RectangularGeometry": {
            "Azimuth": "90.000000",
            "CartesianPoint": {
             "Coordinate": [
              "7.563681",
              "0.382000",
              "3.400000"
             ]
            },
            "Height": "3.400000",
            "Tilt": "90.000000",
            "Width": "7.776887"
           }
          },
          {
           "@constructionIdRef": "STD_PART",
           "@id": "surface-128",
           "@surfaceType": "InteriorWall",
           "AdjacentSpaceId": [
            {
             "@spaceIdRef": "00000002"
            },
            {
             "@spaceIdRef": "00000001"
            }
           ],
           "PlanarGeometry": {
            "PolyLoop": {
             "CartesianPoint": [
              {
               "Coordinate": [
                "7.563681",
                "8.158887",
                "3.400000"
               ]
              },
              {
               "Coordinate": [
                "7.563681",
                "0.382000",
                "3.400000"
               ]
              },
              {
               "Coordinate": [
                "7.563681",
                "0.382000",
                "0.000000"
               ]
              },
              {
               "Coordinate": [
                "7.563681",
                "8.158887",
                "0.000000"
               ]
              }
             ]
            }
           },
           "RectangularGeometry": {
            "Azimuth": "90.000000",
            "CartesianPoint": {
             "Coordinate": [
              "7.563681",
              "0.382000",
              "0.000000"
             ]
            },
            "Height": "3.400000",
            "Tilt": "90.000000",
            "Width": "7.776887"
           }
          },
          {
           "@constructionIdRef": "STD_CEIL",
           "@id": "surface-129",
           "@surfaceType": "Ceiling",
           "AdjacentSpaceId": [
            {
             "@spaceIdRef": "01000002"
            },
            {
             "@spaceIdRef": "00000001"
            }
           ],
           "PlanarGeometry": {
            "PolyLoop": {
             "CartesianPoint": [
              {
               "Coordinate": [
                "11.203681",
                "0.382000",
                "3.400000"
               ]
              },
              {
               "Coordinate": [
                "7.563681",
                "0.382000",
                "3.400000"
               ]
              },
              {
               "Coordinate": [
                "7.563681",
                "8.158887",
                "3.400000"
               ]
              },
              {
               "Coordinate": [
                "11.203681",
                "8.158887",
                "3.400000"
               ]
              }
             ]
            }
           },
           "RectangularGeometry": {
            "Azimuth": "0.000000",
            "CartesianPoint": {
             "Coordinate": [
              "11.203681",
              "0.382000",
              "3.400000"
             ]
            },
            "Height": "7.776887",
            "Tilt": "180.000000",
            "Width": "3.640000"
           }
          },
          {
           "@constructionIdRef": "STD_ROOF",
           "@id": "surface-130",
           "@surfaceType": "Roof",
           "AdjacentSpaceId": {
            "@spaceIdRef": "01000002"
           },
           "PlanarGeometry": {
            "PolyLoop": {
             "CartesianPoint": [
              {
               "Coordinate": [
                "11.203681",
                "8.158887",
                "6.800000"
               ]
              },
              {
               "Coordinate": [
                "7.563681",
                "8.158887",
                "6.800000"
               ]
              },
              {
               "Coordinate": [
                "7.563681",
                "0.382000",
                "6.800000"
               ]
              },
              {
               "Coordinate": [
                "11.203681",
                "0.382000",
                "6.800000"
               ]
              }
             ]
            }
           },
           "RectangularGeometry": {
            "Azimuth": "0.000000",
            "CartesianPoint": {
             "Coordinate": [
              "11.203681",
              "8.158887",
              "6.800000"
             ]
            },
            "Height": "7.776887",
            "Tilt": "0.000000",
            "Width": "3.640000"
           }
          },
          {
           "@constructionIdRef": "STD_WAL1",
           "@id": "surface-131",
           "@surfaceType": "ExteriorWall",
           "AdjacentSpaceId": {
            "@spaceIdRef": "01000002"
           },
           "Opening": {
            "@id": "surface-131-opening-1",
            "@openingType": "FixedWindow",
            "@windowTypeIdRef": "STD_EXTW",
            "PlanarGeometry": {
             "PolyLoop": {
              "CartesianPoint": [
               {
                "Coordinate": [
                 "10.535237",
                 "8.158887",
                 "4.300000"
                ]
               },
               {
                "Coordinate": [
                 "8.817267",
                 "8.158887",
                 "4.300000"
                ]
               },
               {
                "Coordinate": [
                 "8.817267",
                 "8.158887",
                 "5.800000"
                ]
               },
               {
                "Coordinate": [
                 "10.535237",
                 "8.158887",
                 "5.800000"
                ]
               }
              ]
             }
            },
            "RectangularGeometry": {
             "CartesianPoint": {
              "Coordinate": [
               "0.668444",
               "0.900000"
              ]
             },
             "Height": "1.500000",
             "Width": "1.717970"
            }
           },
           "PlanarGeometry": {
            "PolyLoop": {
             "CartesianPoint": [
              {
               "Coordinate": [
                "11.203681",
                "8.158887",
                "3.400000"
               ]
              },
              {
               "Coordinate": [
                "7.563681",
                "8.158887",
                "3.400000"
               ]
              },
              {
               "Coordinate": [
                "7.563681",
                "8.158887",
                "6.800000"
               ]
              },
              {
               "Coordinate": [
                "11.203681",
                "8.158887",
                "6.800000"
               ]
              }
             ]
            }
           },
           "RectangularGeometry": {
            "Azimuth": "0.000000",
            "CartesianPoint": {
             "Coordinate": [
              "11.203681",
              "8.158887",
              "3.400000"
             ]
            },
            "Height": "3.400000",
            "Tilt": "90.000000",
            "Width": "3.640000"
           }
          },
          {
           "@constructionIdRef": "STD_WAL1",
           "@id": "surface-132",
           "@surfaceType": "ExteriorWall",
           "AdjacentSpaceId": {
            "@spaceIdRef": "01000002"
           },
           "Opening": {
            "@id": "surface-132-opening-1",
            "@openingType": "FixedWindow",
            "@windowTypeIdRef": "STD_EXT2",
            "PlanarGeometry": {
             "PolyLoop": {
              "CartesianPoint": [
               {
                "Coordinate": [
                 "8.213681",
                 "0.382000",
                 "3.500000"
                ]
               },
               {
                "Coordinate": [
                 "11.203681",
                 "0.382000",
                 "3.500000"
                ]
               },
               {
                "Coordinate": [
                 "11.203681",
                 "0.382000",
                 "6.400000"
                ]
               },
               {
                "Coordinate": [
                 "8.213681",
                 "0.382000",
                 "6.400000"
                ]
               }
              ]
             }
            },
            "RectangularGeometry": {
             "CartesianPoint": {
              "Coordinate": [
               "0.650000",
               "0.100000"
              ]
             },
             "Height": "2.900000",
             "Width": "2.990000"
            }
           },
           "PlanarGeometry": {
            "PolyLoop": {
             "CartesianPoint": [
              {
               "Coordinate": [
                "7.563681",
                "0.382000",
                "3.400000"
               ]
              },
              {
               "Coordinate": [
                "11.203681",
                "0.382000",
                "3.400000"
               ]
              },
              {
               "Coordinate": [
                "11.203681",
                "0.382000",
                "6.800000"
               ]
              },
              {
               "Coordinate": [
                "7.563681",
                "0.382000",
                "6.800000"
               ]
              }
             ]
            }
           },
           "RectangularGeometry": {
            "Azimuth": "180.000000",
            "CartesianPoint": {
             "Coordinate": [
              "7.563681",
              "0.382000",
              "3.400000"
             ]
            },
            "Height": "3.400000",
            "Tilt": "90.000000",
            "Width": "3.640000"
           }
          },
          {
           "@constructionIdRef": "STD_PART",
           "@id": "surface-133",
           "@surfaceType": "InteriorWall",
           "AdjacentSpaceId": [
            {
             "@spaceIdRef": "00000001"
            },
            {
             "@spaceIdRef": "00000000"
            }
           ],
           "PlanarGeometry": {
            "PolyLoop": {
             "CartesianPoint": [
              {
               "Coordinate": [
                "18.373681",
                "6.919988",
                "3.400000"
               ]
              },
              {
               "Coordinate": [
                "18.373681",
                "1.659988",
                "3.400000"
               ]
              },
              {
               "Coordinate": [
                "18.373681",
                "1.659988",
                "0.000000"
               ]
              },
              {
               "Coordinate": [
                "18.373681",
                "6.919988",
                "0.000000"
               ]
              }
             ]
            }
           },
           "RectangularGeometry": {
            "Azimuth": "90.000000",
            "CartesianPoint": {
             "Coordinate": [
              "18.373681",
              "1.659988",
              "0.000000"
             ]
            },
            "Height": "3.400000",
            "Tilt": "90.000000",
            "Width": "5.260000"
           }
          },
          {
           "@constructionIdRef": "STD_WAL1",
           "@id": "surface-134",
           "@surfaceType": "ExteriorWall",
           "AdjacentSpaceId": {
            "@spaceIdRef": "00000001"
           },
           "Opening": {
            "@constructionIdRef": "STD_DOOR",
            "@id": "surface-134-opening-1",
            "@openingType": "NonSlidingDoor",
            "PlanarGeometry": {
             "PolyLoop": {
              "CartesianPoint": [
               {
                "Coordinate": [
                 "21.956680",
                 "0.550000",
                 "-0.000000"
                ]
               },
               {
                "Coordinate": [
                 "21.956680",
                 "1.400000",
                 "-0.000000"
                ]
               },
               {
                "Coordinate": [
                 "21.956680",
                 "1.400000",
                 "2.250000"
                ]
               },
               {
                "Coordinate": [
                 "21.956680",
                 "0.550000",
                 "2.250000"
                ]
               }
              ]
             }
            },
            "RectangularGeometry": {
             "CartesianPoint": {
              "Coordinate": [
               "0.168000",
               "0.000000"
              ]
             },
             "Height": "2.250000",
             "Width": "0.850000"
            }
           },
           "PlanarGeometry": {
            "PolyLoop": {
             "CartesianPoint": [
              {
               "Coordinate": [
                "21.956680",
                "0.382000",
                "0.000000"
               ]
              },
              {
               "Coordinate": [
                "21.956680",
                "1.655237",
                "0.000000"
               ]
              },
              {
               "Coordinate": [
                "21.956680",
                "1.655237",
                "3.400000"
               ]
              },
              {
               "Coordinate": [
                "21.956680",
                "0.382000",
                "3.400000"
               ]
              }
             ]
            }
           },
           "RectangularGeometry": {
            "Azimuth": "90.000000",
            "CartesianPoint": {
             "Coordinate": [
              "21.956680",
              "0.382000",
              "0.000000"
             ]
            },
            "Height": "3.400000",
            "Tilt": "90.000000",
            "Width": "1.273237"
           }
          },
          {
           "@constructionIdRef": "STD_PART",
           "@id": "surface-135",
           "@surfaceType": "InteriorWall",
           "AdjacentSpaceId": [
            {
             "@spaceIdRef": "00000001"
            },
            {
             "@spaceIdRef": "00000000"
            }
           ],
           "PlanarGeometry": {
            "PolyLoop": {
             "CartesianPoint": [
              {
               "Coordinate": [
                "19.023681",
                "1.655237",
                "3.400000"
               ]
              },
              {
               "Coordinate": [
                "21.956680",
                "1.655237",
                "3.400000"
               ]
              },
              {
               "Coordinate": [
                "21.956680",
                "1.655237",
                "0.000000"
               ]
              },
              {
               "Coordinate": [
                "19.023681",
                "1.655237",
                "0.000000"
               ]
              }
             ]
            }
           },
           "RectangularGeometry": {
            "Azimuth": "0.000000",
            "CartesianPoint": {
             "Coordinate": [
              "21.956680",
              "1.655237",
              "0.000000"
             ]
            },
            "Height": "3.400000",
            "Tilt": "90.000000",
            "Width": "2.932999"
           }
          },
          {
           "@constructionIdRef": "STD_PART",
           "@id": "surface-136",
           "@surfaceType": "InteriorWall",
           "AdjacentSpaceId": [
            {
             "@spaceIdRef": "00000001"
            },
            {
             "@spaceIdRef": "00000000"
            }
           ],
           "PlanarGeometry": {
            "PolyLoop": {
             "CartesianPoint": [
              {
               "Coordinate": [
                "18.373681",
                "1.659988",
                "3.400000"
               ]
              },
              {
               "Coordinate": [
                "19.023681",
                "1.655237",
                "3.400000"
               ]
              },
              {
               "Coordinate": [
                "19.023681",
                "1.655237",
                "0.000000"
               ]
              },
              {
               "Coordinate": [
                "18.373681",
                "1.659988",
                "0.000000"
               ]
              }
             ]
            }
           },
           "RectangularGeometry": {
            "Azimuth": "0.418781",
            "CartesianPoint": {
             "Coordinate": [
              "19.023681",
              "1.655237",
              "0.000000"
             ]
            },
            "Height": "3.400000",
            "Tilt": "90.000000",
            "Width": "0.650017"
           }
          },
          {
           "@constructionIdRef": "STD_WAL1",
           "@id": "surface-137",
           "@surfaceType": "ExteriorWall",
           "AdjacentSpaceId": {
            "@spaceIdRef": "00000001"
           },
           "Opening": [
            {
             "@constructionIdRef": "STD_DOOR",
             "@id": "surface-137-opening-1",
             "@openingType": "NonSlidingDoor",
             "PlanarGeometry": {
              "PolyLoop": {
               "CartesianPoint": [
                {
                 "Coordinate": [
                  "11.773681",
                  "0.382000",
                  "0.000000"
                 ]
                },
                {
                 "Coordinate": [
                  "13.523681",
                  "0.382000",
                  "0.000000"
                 ]
                },
                {
                 "Coordinate": [
                  "13.523681",
                  "0.382000",
                  "2.250000"
                 ]
                },
                {
                 "Coordinate": [
                  "11.773681",
                  "0.382000",
                  "2.250000"
                 ]
                }
               ]
              }
             },
             "RectangularGeometry": {
              "CartesianPoint": {
               "Coordinate": [
                "4.210000",
                "0.000000"
               ]
              },
              "Height": "2.250000",
              "Width": "1.750000"
             }
            },
            {
             "@id": "surface-137-opening-2",
             "@openingType": "FixedWindow",
             "@windowTypeIdRef": "STD_EXTW",
             "PlanarGeometry": {
              "PolyLoop": {
               "CartesianPoint": [
                {
                 "Coordinate": [
                  "8.203681",
                  "0.382000",
                  "0.400000"
                 ]
                },
                {
                 "Coordinate": [
                  "10.553681",
                  "0.382000",
                  "0.400000"
                 ]
                },
                {
                 "Coordinate": [
                  "10.553681",
                  "0.382000",
                  "2.250000"
                 ]
                },
                {
                 "Coordinate": [
                  "8.203681",
                  "0.382000",
                  "2.250000"
                 ]
                }
               ]
              }
             },
             "RectangularGeometry": {
              "CartesianPoint": {
               "Coordinate": [
                "0.640000",
                "0.400000"
               ]
              },
              "Height": "1.850000",
              "Width": "2.350000"
             }
            },
            {
             "@id": "surface-137-opening-3",
             "@openingType": "FixedWindow",
             "@windowTypeIdRef": "STD_EXTW",
             "PlanarGeometry": {
              "PolyLoop": {
               "CartesianPoint": [
                {
                 "Coordinate": [
                  "15.393681",
                  "0.382000",
                  "0.400000"
                 ]
                },
                {
                 "Coordinate": [
                  "17.743681",
                  "0.382000",
                  "0.400000"
                 ]
                },
                {
                 "Coordinate": [
                  "17.743681",
                  "0.382000",
                  "2.250000"
                 ]
                },
                {
                 "Coordinate": [
                  "15.393681",
                  "0.382000",
                  "2.250000"
                 ]
                }
               ]
              }
             },
             "RectangularGeometry": {
              "CartesianPoint": {
               "Coordinate": [
                "7.830000",
                "0.400000"
               ]
              },
              "Height": "1.850000",
              "Width": "2.350000"
             }
            },
            {
             "@id": "surface-137-opening-4",
             "@openingType": "FixedWindow",
             "@windowTypeIdRef": "STD_EXTW",
             "PlanarGeometry": {
              "PolyLoop": {
               "CartesianPoint": [
                {
                 "Coordinate": [
                  "19.553681",
                  "0.382000",
                  "0.400000"
                 ]
                },
                {
                 "Coordinate": [
                  "20.703681",
                  "0.382000",
                  "0.400000"
                 ]
                },
                {
                 "Coordinate": [
                  "20.703681",
                  "0.382000",
                  "2.250000"
                 ]
                },
                {
                 "Coordinate": [
                  "19.553681",
                  "0.382000",
                  "2.250000"
                 ]
                }
               ]
              }
             },
             "RectangularGeometry": {
              "CartesianPoint": {
               "Coordinate": [
                "11.990000",
                "0.400000"
               ]
              },
              "Height": "1.850000",
              "Width": "1.150000"
             }
            }
           ],
           "PlanarGeometry": {
            "PolyLoop": {
             "CartesianPoint": [
              {
               "Coordinate": [
                "7.563681",
                "0.382000",
                "-0.000000"
               ]
              },
              {
               "Coordinate": [
                "21.956680",
                "0.382000",
                "0.000000"
               ]
              },
              {
               "Coordinate": [
                "21.956680",
                "0.382000",
                "3.400000"
               ]
              },
              {
               "Coordinate": [
                "7.563681",
                "0.382000",
                "3.400000"
               ]
              }
             ]
            }
           },
           "RectangularGeometry": {
            "Azimuth": "180.000000",
            "CartesianPoint": {
             "Coordinate": [
              "7.563681",
              "0.382000",
              "-0.000000"
             ]
            },
            "Height": "3.400000",
            "Tilt": "90.000000",
            "Width": "14.392999"
           }
          },
          {
           "@constructionIdRef": "STD_WAL1",
           "@id": "surface-138",
           "@surfaceType": "ExteriorWall",
           "AdjacentSpaceId": {
            "@spaceIdRef": "00000001"
           },
           "Opening": [
            {
             "@constructionIdRef": "STD_DOOR",
             "@id": "surface-138-opening-1",
             "@openingType": "NonSlidingDoor",
             "PlanarGeometry": {
              "PolyLoop": {
               "CartesianPoint": [
                {
                 "Coordinate": [
                  "13.523681",
                  "8.158887",
                  "-0.000000"
                 ]
                },
                {
                 "Coordinate": [
                  "11.773681",
                  "8.158887",
                  "-0.000000"
                 ]
                },
                {
                 "Coordinate": [
                  "11.773681",
                  "8.158887",
                  "2.250000"
                 ]
                },
                {
                 "Coordinate": [
                  "13.523681",
                  "8.158887",
                  "2.250000"
                 ]
                }
               ]
              }
             },
             "RectangularGeometry": {
              "CartesianPoint": {
               "Coordinate": [
                "5.500000",
                "0.000000"
               ]
              },
              "Height": "2.250000",
              "Width": "1.750000"
             }
            },
            {
             "@id": "surface-138-opening-2",
             "@openingType": "FixedWindow",
             "@windowTypeIdRef": "STD_EXTW",
             "PlanarGeometry": {
              "PolyLoop": {
               "CartesianPoint": [
                {
                 "Coordinate": [
                  "17.745237",
                  "8.158887",
                  "0.750000"
                 ]
                },
                {
                 "Coordinate": [
                  "15.416492",
                  "8.158887",
                  "0.750000"
                 ]
                },
                {
                 "Coordinate": [
                  "15.416492",
                  "8.158887",
                  "2.250000"
                 ]
                },
                {
                 "Coordinate": [
                  "17.745237",
                  "8.158887",
                  "2.250000"
                 ]
                }
               ]
              }
             },
             "RectangularGeometry": {
              "CartesianPoint": {
               "Coordinate": [
                "1.278444",
                "0.750000"
               ]
              },
              "Height": "1.500000",
              "Width": "2.328745"
             }
            },
            {
             "@id": "surface-138-opening-3",
             "@openingType": "FixedWindow",
             "@windowTypeIdRef": "STD_EXTW",
             "PlanarGeometry": {
              "PolyLoop": {
               "CartesianPoint": [
                {
                 "Coordinate": [
                  "10.545237",
                  "8.158887",
                  "0.750000"
                 ]
                },
                {
                 "Coordinate": [
                  "8.225237",
                  "8.158887",
                  "0.750000"
                 ]
                },
                {
                 "Coordinate": [
                  "8.225237",
                  "8.158887",
                  "2.250000"
                 ]
                },
                {
                 "Coordinate": [
                  "10.545237",
                  "8.158887",
                  "2.250000"
                 ]
                }
               ]
              }
             },
             "RectangularGeometry": {
              "CartesianPoint": {
               "Coordinate": [
                "8.478444",
                "0.750000"
               ]
              },
              "Height": "1.500000",
              "Width": "2.320000"
             }
            }
           ],
           "PlanarGeometry": {
            "PolyLoop": {
             "CartesianPoint": [
              {
               "Coordinate": [
                "19.023681",
                "8.158887",
                "0.000000"
               ]
              },
              {
               "Coordinate": [
                "7.563681",
                "8.158887",
                "0.000000"
               ]
              },
              {
               "Coordinate": [
                "7.563681",
                "8.158887",
                "3.400000"
               ]
              },
              {
               "Coordinate": [
                "19.023681",
                "8.158887",
                "3.400000"
               ]
              }
             ]
            }
           },
           "RectangularGeometry": {
            "Azimuth": "0.000000",
            "CartesianPoint": {
             "Coordinate": [
              "19.023681",
              "8.158887",
              "0.000000"
             ]
            },
            "Height": "3.400000",
            "Tilt": "90.000000",
            "Width": "11.460000"
           }
          },
          {
           "@constructionIdRef": "STD_PART",
           "@id": "surface-139",
           "@surfaceType": "InteriorWall",
           "AdjacentSpaceId": [
            {
             "@spaceIdRef": "00000001"
            },
            {
             "@spaceIdRef": "00000000"
            }
           ],
           "PlanarGeometry": {
            "PolyLoop": {
             "CartesianPoint": [
              {
               "Coordinate": [
                "19.023681",
                "6.919988",
                "3.400000"
               ]
              },
              {
               "Coordinate": [
                "18.373681",
                "6.919988",
                "3.400000"
               ]
              },
              {
               "Coordinate": [
                "18.373681",
                "6.919988",
                "-0.000000"
               ]
              },
              {
               "Coordinate": [
                "19.023681",
                "6.919988",
                "-0.000000"
               ]
              }
             ]
            }
           },
           "RectangularGeometry": {
            "Azimuth": "180.000000",
            "CartesianPoint": {
             "Coordinate": [
              "18.373681",
              "6.919988",
              "-0.000000"
             ]
            },
            "Height": "3.400000",
            "Tilt": "90.000000",
            "Width": "0.650000"
           }
          },
          {
           "@constructionIdRef": "STD_PART",
           "@id": "surface-140",
           "@surfaceType": "InteriorWall",
           "AdjacentSpaceId": [
            {
             "@spaceIdRef": "00000001"
            },
            {
             "@spaceIdRef": "00000000"
            }
           ],
           "Opening": {
            "@constructionIdRef": "STD_DOOR",
            "@id": "surface-140-opening-1",
            "@openingType": "NonSlidingDoor",
            "PlanarGeometry": {
             "PolyLoop": {
              "CartesianPoint": [
               {
                "Coordinate": [
                 "19.023681",
                 "7.250000",
                 "-0.000000"
                ]
               },
               {
                "Coordinate": [
                 "19.023681",
                 "8.100000",
                 "-0.000000"
                ]
               },
               {
                "Coordinate": [
                 "19.023681",
                 "8.100000",
                 "2.250000"
                ]
               },
               {
                "Coordinate": [
                 "19.023681",
                 "7.250000",
                 "2.250000"
                ]
               }
              ]
             }
            },
            "RectangularGeometry": {
             "CartesianPoint": {
              "Coordinate": [
               "0.330012",
               "0.000000"
              ]
             },
             "Height": "2.250000",
             "Width": "0.850000"
            }
           },
           "PlanarGeometry": {
            "PolyLoop": {
             "CartesianPoint": [
              {
               "Coordinate": [
                "19.023681",
                "8.158887",
                "3.400000"
               ]
              },
              {
               "Coordinate": [
                "19.023681",
                "6.919988",
                "3.400000"
               ]
              },
              {
               "Coordinate": [
                "19.023681",
                "6.919988",
                "0.000000"
               ]
              },
              {
               "Coordinate": [
                "19.023681",
                "8.158887",
                "0.000000"
               ]
              }
             ]
            }
           },
           "RectangularGeometry": {
            "Azimuth": "90.000000",
            "CartesianPoint": {
             "Coordinate": [
              "19.023681",
              "6.919988",
              "0.000000"
             ]
            },
            "Height": "3.400000",
            "Tilt": "90.000000",
            "Width": "1.238899"
           }
          },
          {
           "@constructionIdRef": "STD_FLO1",
           "@id": "surface-141",
           "@surfaceType": "ExposedFloor",
           "AdjacentSpaceId": {
            "@spaceIdRef": "00000001"
           },
           "PlanarGeometry": {
            "PolyLoop": {
             "CartesianPoint": [
              {
               "Coordinate": [
                "19.023681",
                "6.919988",
                "0.000000"
               ]
              },
              {
               "Coordinate": [
                "18.373681",
                "6.919988",
                "0.000000"
               ]
              },
              {
               "Coordinate": [
                "18.373681",
                "1.659988",
                "0.000000"
               ]
              },
              {
               "Coordinate": [
                "19.023681",
                "1.655237",
                "0.000000"
               ]
              },
              {
               "Coordinate": [
                "21.956680",
                "1.655237",
                "0.000000"
               ]
              },
              {
               "Coordinate": [
                "21.956680",
                "0.382000",
                "0.000000"
               ]
              },
              {
               "Coordinate": [
                "7.563681",
                "0.382000",
                "0.000000"
               ]
              },
              {
               "Coordinate": [
                "7.563681",
                "8.158887",
                "0.000000"
               ]
              },
              {
               "Coordinate": [
                "19.023681",
                "8.158887",
                "0.000000"
               ]
              }
             ]
            }
           },
           "RectangularGeometry": {
            "Azimuth": "0.000000",
            "CartesianPoint": {
             "Coordinate": [
              "21.956680",
              "0.382000",
              "0.000000"
             ]
            },
            "Height": "7.776887",
            "Tilt": "180.000000",
            "Width": "14.392999"
           }
          },
          {
           "@constructionIdRef": "STD_WAL1",
           "@id": "surface-142",
           "@surfaceType": "ExteriorWall",
           "AdjacentSpaceId": {
            "@spaceIdRef": "00000000"
           },
           "Opening": {
            "@id": "surface-142-opening-1",
            "@openingType": "FixedWindow",
            "@windowTypeIdRef": "STD_EXTW",
            "PlanarGeometry": {
             "PolyLoop": {
              "CartesianPoint": [
               {
                "Coordinate": [
                 "20.745237",
                 "8.158887",
                 "0.750000"
                ]
               },
               {
                "Coordinate": [
                 "19.628096",
                 "8.158887",
                 "0.750000"
                ]
               },
               {
                "Coordinate": [
                 "19.628096",
                 "8.158887",
                 "2.250000"
                ]
               },
               {
                "Coordinate": [
                 "20.745237",
                 "8.158887",
                 "2.250000"
                ]
               }
              ]
             }
            },
            "RectangularGeometry": {
             "CartesianPoint": {
              "Coordinate": [
               "0.571763",
               "0.750000"
              ]
             },
             "Height": "1.500000",
             "Width": "1.117141"
            }
           },
           "PlanarGeometry": {
            "PolyLoop": {
             "CartesianPoint": [
              {
               "Coordinate": [
                "21.317000",
                "8.158887",
                "0.000000"
               ]
              },
              {
               "Coordinate": [
                "19.023681",
                "8.158887",
                "0.000000"
               ]
              },
              {
               "Coordinate": [
                "19.023681",
                "8.158887",
                "3.400000"
               ]
              },
              {
               "Coordinate": [
                "21.317000",
                "8.158887",
                "3.400000"
               ]
              }
             ]
            }
           },
           "RectangularGeometry": {
            "Azimuth": "0.000000",
            "CartesianPoint": {
             "Coordinate": [
              "21.317000",
              "8.158887",
              "0.000000"
             ]
            },
            "Height": "3.400000",
            "Tilt": "90.000000",
            "Width": "2.293319"
           }
          },
          {
           "@constructionIdRef": "STD_PART",
           "@id": "surface-143",
           "@surfaceType": "InteriorWall",
           "AdjacentSpaceId": [
            {
             "@spaceIdRef": "00000000"
            },
            {
             "@spaceIdRef": "RM000005"
            }
           ],
           "PlanarGeometry": {
            "PolyLoop": {
             "CartesianPoint": [
              {
               "Coordinate": [
                "21.956680",
                "3.658000",
                "-0.000000"
               ]
              },
              {
               "Coordinate": [
                "21.956680",
                "5.510052",
                "-0.000000"
               ]
              },
              {
               "Coordinate": [
                "21.956680",
                "5.510052",
                "3.400000"
               ]
              },
              {
               "Coordinate": [
                "21.956680",
                "3.658000",
                "3.400000"
               ]
              }
             ]
            }
           },
           "RectangularGeometry": {
            "Azimuth": "90.000000",
            "CartesianPoint": {
             "Coordinate": [
              "21.956680",
              "3.658000",
              "0.000000"
             ]
            },
            "Height": "3.400000",
            "Tilt": "90.000000",
            "Width": "1.852052"
           }
          },
          {
           "@constructionIdRef": "STD_PART",
           "@id": "surface-144",
           "@surfaceType": "InteriorWall",
           "AdjacentSpaceId": [
            {
             "@spaceIdRef": "00000000"
            },
            {
             "@spaceIdRef": "RM000000"
            }
           ],
           "PlanarGeometry": {
            "PolyLoop": {
             "CartesianPoint": [
              {
               "Coordinate": [
                "21.956680",
                "5.510052",
                "-0.000000"
               ]
              },
              {
               "Coordinate": [
                "21.956680",
                "6.008347",
                "-0.000000"
               ]
              },
              {
               "Coordinate": [
                "21.956680",
                "6.008347",
                "3.400000"
               ]
              },
              {
               "Coordinate": [
                "21.956680",
                "5.510052",
                "3.400000"
               ]
              }
             ]
            }
           },
           "RectangularGeometry": {
            "Azimuth": "90.000000",
            "CartesianPoint": {
             "Coordinate": [
              "21.956680",
              "5.510052",
              "0.000000"
             ]
            },
            "Height": "3.400000",
            "Tilt": "90.000000",
            "Width": "0.498295"
           }
          },
          {
           "@constructionIdRef": "STD_WAL1",
           "@id": "surface-145",
           "@surfaceType": "ExteriorWall",
           "AdjacentSpaceId": {
            "@spaceIdRef": "00000000"
           },
           "PlanarGeometry": {
            "PolyLoop": {
             "CartesianPoint": [
              {
               "Coordinate": [
                "21.956680",
                "1.655237",
                "-0.000000"
               ]
              },
              {
               "Coordinate": [
                "21.956680",
                "3.658000",
                "-0.000000"
               ]
              },
              {
               "Coordinate": [
                "21.956680",
                "3.658000",
                "3.400000"
               ]
              },
              {
               "Coordinate": [
                "21.956680",
                "1.655237",
                "3.400000"
               ]
              }
             ]
            }
           },
           "RectangularGeometry": {
            "Azimuth": "90.000000",
            "CartesianPoint": {
             "Coordinate": [
              "21.956680",
              "1.655237",
              "0.000000"
             ]
            },
            "Height": "3.400000",
            "Tilt": "90.000000",
            "Width": "2.002763"
           }
          },
          {
           "@constructionIdRef": "STD_FLO1",
           "@id": "surface-146",
           "@surfaceType": "ExposedFloor",
           "AdjacentSpaceId": {
            "@spaceIdRef": "00000000"
           },
           "PlanarGeometry": {
            "PolyLoop": {
             "CartesianPoint": [
              {
               "Coordinate": [
                "21.317000",
                "6.009000",
                "0.000000"
               ]
              },
              {
               "Coordinate": [
                "21.956680",
                "6.008347",
                "0.000000"
               ]
              },
              {
               "Coordinate": [
                "21.956680",
                "1.655237",
                "0.000000"
               ]
              },
              {
               "Coordinate": [
                "19.023681",
                "1.655237",
                "0.000000"
               ]
              },
              {
               "Coordinate": [
                "18.373681",
                "1.659988",
                "0.000000"
               ]
              },
              {
               "Coordinate": [
                "18.373681",
                "6.919988",
                "0.000000"
               ]
              },
              {
               "Coordinate": [
                "19.023681",
                "6.919988",
                "0.000000"
               ]
              },
              {
               "Coordinate": [
                "19.023681",
                "8.158887",
                "0.000000"
               ]
              },
              {
               "Coordinate": [
                "21.317000",
                "8.158887",
                "0.000000"
               ]
              }
             ]
            }
           },
           "RectangularGeometry": {
            "Azimuth": "0.000000",
            "CartesianPoint": {
             "Coordinate": [
              "21.956680",
              "1.655237",
              "0.000000"
             ]
            },
            "Height": "6.503650",
            "Tilt": "180.000000",
            "Width": "3.582999"
           }
          },
          {
           "@constructionIdRef": "STD_PART",
           "@id": "surface-147",
           "@surfaceType": "InteriorWall",
           "AdjacentSpaceId": [
            {
             "@spaceIdRef": "00000000"
            },
            {
             "@spaceIdRef": "01000001"
            }
           ],
           "PlanarGeometry": {
            "PolyLoop": {
             "CartesianPoint": [
              {
               "Coordinate": [
                "21.956680",
                "6.008347",
                "-0.000000"
               ]
              },
              {
               "Coordinate": [
                "21.317000",
                "6.009000",
                "-0.000000"
               ]
              },
              {
               "Coordinate": [
                "21.317000",
                "6.009000",
                "3.400000"
               ]
              },
              {
               "Coordinate": [
                "21.956680",
                "6.008347",
                "3.400000"
               ]
              }
             ]
            }
           },
           "RectangularGeometry": {
            "Azimuth": "0.058489",
            "CartesianPoint": {
             "Coordinate": [
              "21.956680",
              "6.008347",
              "0.000000"
             ]
            },
            "Height": "3.400000",
            "Tilt": "90.000000",
            "Width": "0.639680"
           }
          },
          {
           "@constructionIdRef": "STD_PART",
           "@id": "surface-148",
           "@surfaceType": "InteriorWall",
           "AdjacentSpaceId": [
            {
             "@spaceIdRef": "00000000"
            },
            {
             "@spaceIdRef": "01000001"
            }
           ],
           "PlanarGeometry": {
            "PolyLoop": {
             "CartesianPoint": [
              {
               "Coordinate": [
                "21.317000",
                "6.009000",
                "-0.000000"
               ]
              },
              {
               "Coordinate": [
                "21.317000",
                "8.158887",
                "-0.000000"
               ]
              },
              {
               "Coordinate": [
                "21.317000",
                "8.158887",
                "3.400000"
               ]
              },
              {
               "Coordinate": [
                "21.317000",
                "6.009000",
                "3.400000"
               ]
              }
             ]
            }
           },
           "RectangularGeometry": {
            "Azimuth": "90.000000",
            "CartesianPoint": {
             "Coordinate": [
              "21.317000",
              "6.009000",
              "0.000000"
             ]
            },
            "Height": "3.400000",
            "Tilt": "90.000000",
            "Width": "2.149887"
           }
          },
          {
           "@constructionIdRef": "STD_ROOF",
           "@id": "surface-149",
           "@surfaceType": "Roof",
           "AdjacentSpaceId": {
            "@spaceIdRef": "01000001"
           },
           "PlanarGeometry": {
            "PolyLoop": {
             "CartesianPoint": [
              {
               "Coordinate": [
                "21.956680",
                "8.158887",
                "6.800000"
               ]
              },
              {
               "Coordinate": [
                "21.317000",
                "8.158887",
                "6.800000"
               ]
              },
              {
               "Coordinate": [
                "21.317000",
                "6.009000",
                "6.800000"
               ]
              },
              {
               "Coordinate": [
                "21.956680",
                "6.008347",
                "6.800000"
               ]
              }
             ]
            }
           },
           "RectangularGeometry": {
            "Azimuth": "0.000000",
            "CartesianPoint": {
             "Coordinate": [
              "21.956680",
              "8.158887",
              "6.800000"
             ]
            },
            "Height": "2.150540",
            "Tilt": "0.000000",
            "Width": "0.639680"
           }
          },
          {
           "@constructionIdRef": "STD_FLO1",
           "@id": "surface-150",
           "@surfaceType": "ExposedFloor",
           "AdjacentSpaceId": {
            "@spaceIdRef": "01000001"
           },
           "PlanarGeometry": {
            "PolyLoop": {
             "CartesianPoint": [
              {
               "Coordinate": [
                "21.956680",
                "6.008347",
                "0.000000"
               ]
              },
              {
               "Coordinate": [
                "21.317000",
                "6.009000",
                "0.000000"
               ]
              },
              {
               "Coordinate": [
                "21.317000",
                "8.158887",
                "0.000000"
               ]
              },
              {
               "Coordinate": [
                "21.956680",
                "8.158887",
                "0.000000"
               ]
              }
             ]
            }
           },
           "RectangularGeometry": {
            "Azimuth": "0.000000",
            "CartesianPoint": {
             "Coordinate": [
              "21.956680",
              "6.008347",
              "0.000000"
             ]
            },
            "Height": "2.150540",
            "Tilt": "180.000000",
            "Width": "0.639680"
           }
          },
          {
           "@constructionIdRef": "STD_WAL1",
           "@id": "surface-151",
           "@surfaceType": "ExteriorWall",
           "AdjacentSpaceId": {
            "@spaceIdRef": "01000001"
           },
           "PlanarGeometry": {
            "PolyLoop": {
             "CartesianPoint": [
              {
               "Coordinate": [
                "21.956680",
                "8.158887",
                "0.000000"
               ]
              },
              {
               "Coordinate": [
                "21.317000",
                "8.158887",
                "0.000000"
               ]
              },
              {
               "Coordinate": [
                "21.317000",
                "8.158887",
                "6.800000"
               ]
              },
              {
               "Coordinate": [
                "21.956680",
                "8.158887",
                "6.800000"
               ]
              }
             ]
            }
           },
           "RectangularGeometry": {
            "Azimuth": "0.000000",
            "CartesianPoint": {
             "Coordinate": [
              "21.956680",
              "8.158887",
              "0.000000"
             ]
            },
            "Height": "6.800000",
            "Tilt": "90.000000",
            "Width": "0.639680"
           }
          },
          {
           "@constructionIdRef": "STD_PART",
           "@id": "surface-152",
           "@surfaceType": "InteriorWall",
           "AdjacentSpaceId": [
            {
             "@spaceIdRef": "01000001"
            },
            {
             "@spaceIdRef": "RM000000"
            }
           ],
           "PlanarGeometry": {
            "PolyLoop": {
             "CartesianPoint": [
              {
               "Coordinate": [
                "21.956680",
                "6.008347",
                "-0.000000"
               ]
              },
              {
               "Coordinate": [
                "21.956680",
                "8.158000",
                "-0.000000"
               ]
              },
              {
               "Coordinate": [
                "21.956680",
                "8.158000",
                "3.400000"
               ]
              },
              {
               "Coordinate": [
                "21.956680",
                "6.008347",
                "3.400000"
               ]
              }
             ]
            }
           },
           "RectangularGeometry": {
            "Azimuth": "90.000000",
            "CartesianPoint": {
             "Coordinate": [
              "21.956680",
              "6.008347",
              "0.000000"
             ]
            },
            "Height": "3.400000",
            "Tilt": "90.000000",
            "Width": "2.149653"
           }
          },
          {
           "@constructionIdRef": "STD_WAL1",
           "@id": "surface-153",
           "@surfaceType": "ExteriorWall",
           "AdjacentSpaceId": {
            "@spaceIdRef": "01000001"
           },
           "PlanarGeometry": {
            "PolyLoop": {
             "CartesianPoint": [
              {
               "Coordinate": [
                "21.956680",
                "6.008347",
                "3.400000"
               ]
              },
              {
               "Coordinate": [
                "21.956680",
                "8.158000",
                "3.400000"
               ]
              },
              {
               "Coordinate": [
                "21.956680",
                "8.158000",
                "-0.000000"
               ]
              },
              {
               "Coordinate": [
                "21.956680",
                "8.158887",
                "-0.000000"
               ]
              },
              {
               "Coordinate": [
                "21.956680",
                "8.158887",
                "6.800000"
               ]
              },
              {
               "Coordinate": [
                "21.956680",
                "6.008347",
                "6.800000"
               ]
              }
             ]
            }
           },
           "RectangularGeometry": {
            "Azimuth": "90.000000",
            "CartesianPoint": {
             "Coordinate": [
              "21.956680",
              "6.008347",
              "0.000000"
             ]
            },
            "Height": "6.800000",
            "Tilt": "90.000000",
            "Width": "2.150540"
           }
          },
          {
           "@constructionIdRef": "UNKNOWN_OP",
           "@id": "surface-154",
           "@surfaceType": "Shade",
           "AdjacentSpaceId": {
            "@spaceIdRef": "RM000005"
           },
           "PlanarGeometry": {
            "PolyLoop": {
             "CartesianPoint": [
              {
               "Coordinate": [
                "21.957000",
                "3.658000",
                "0.000000"
               ]
              },
              {
               "Coordinate": [
                "21.957000",
                "5.510052",
                "0.000000"
               ]
              },
              {
               "Coordinate": [
                "24.007000",
                "5.510052",
                "0.000000"
               ]
              },
              {
               "Coordinate": [
                "24.007000",
                "3.658000",
                "0.000000"
               ]
              }
             ]
            }
           },
           "RectangularGeometry": {
            "Azimuth": "0.000000",
            "CartesianPoint": {
             "Coordinate": [
              "24.007000",
              "3.658000",
              "0.000000"
             ]
            },
            "Height": "1.852052",
            "Tilt": "180.000000",
            "Width": "2.050000"
           }
          },
          {
           "@constructionIdRef": "UNKNOWN_OP",
           "@id": "surface-155",
           "@surfaceType": "Shade",
           "AdjacentSpaceId": {
            "@spaceIdRef": "RM000005"
           },
           "PlanarGeometry": {
            "PolyLoop": {
             "CartesianPoint": [
              {
               "Coordinate": [
                "24.007000",
                "3.658000",
                "6.800000"
               ]
              },
              {
               "Coordinate": [
                "24.007000",
                "5.510052",
                "6.800000"
               ]
              },
              {
               "Coordinate": [
                "21.957000",
                "5.510052",
                "6.800000"
               ]
              },
              {
               "Coordinate": [
                "21.957000",
                "3.658000",
                "6.800000"
               ]
              }
             ]
            }
           },
           "RectangularGeometry": {
            "Azimuth": "0.000000",
            "CartesianPoint": {
             "Coordinate": [
              "24.007000",
              "5.510052",
              "6.800000"
             ]
            },
            "Height": "1.852052",
            "Tilt": "0.000000",
            "Width": "2.050000"
           }
          },
          {
           "@constructionIdRef": "UNKNOWN_OP",
           "@id": "surface-156",
           "@surfaceType": "Shade",
           "AdjacentSpaceId": [
            {
             "@spaceIdRef": "RM000005"
            },
            {
             "@spaceIdRef": "RM000000"
            }
           ],
           "PlanarGeometry": {
            "PolyLoop": {
             "CartesianPoint": [
              {
               "Coordinate": [
                "21.957000",
                "5.510052",
                "3.400000"
               ]
              },
              {
               "Coordinate": [
                "24.006610",
                "5.510052",
                "3.400000"
               ]
              },
              {
               "Coordinate": [
                "24.006610",
                "5.510052",
                "0.000000"
               ]
              },
              {
               "Coordinate": [
                "21.957000",
                "5.510052",
                "0.000000"
               ]
              }
             ]
            }
           },
           "RectangularGeometry": {
            "Azimuth": "0.000000",
            "CartesianPoint": {
             "Coordinate": [
              "24.006610",
              "5.510052",
              "0.000000"
             ]
            },
            "Height": "3.400000",
            "Tilt": "90.000000",
            "Width": "2.049610"
           }
          },
          {
           "@constructionIdRef": "UNKNOWN_OP",
           "@id": "surface-157",
           "@surfaceType": "Shade",
           "AdjacentSpaceId": {
            "@spaceIdRef": "RM000005"
           },
           "PlanarGeometry": {
            "PolyLoop": {
             "CartesianPoint": [
              {
               "Coordinate": [
                "24.007000",
                "5.510052",
                "-0.000000"
               ]
              },
              {
               "Coordinate": [
                "24.006610",
                "5.510052",
                "-0.000000"
               ]
              },
              {
               "Coordinate": [
                "24.006610",
                "5.510052",
                "3.400000"
               ]
              },
              {
               "Coordinate": [
                "21.957000",
                "5.510052",
                "3.400000"
               ]
              },
              {
               "Coordinate": [
                "21.957000",
                "5.510052",
                "6.800000"
               ]
              },
              {
               "Coordinate": [
                "24.007000",
                "5.510052",
                "6.800000"
               ]
              }
             ]
            }
           },
           "RectangularGeometry": {
            "Azimuth": "0.000000",
            "CartesianPoint": {
             "Coordinate": [
              "24.007000",
              "5.510052",
              "0.000000"
             ]
            },
            "Height": "6.800000",
            "Tilt": "90.000000",
            "Width": "2.050000"
           }
          },
          {
           "@constructionIdRef": "UNKNOWN_OP",
           "@id": "surface-158",
           "@surfaceType": "Shade",
           "AdjacentSpaceId": {
            "@spaceIdRef": "RM000005"
           },
           "PlanarGeometry": {
            "PolyLoop": {
             "CartesianPoint": [
              {
               "Coordinate": [
                "24.007000",
                "5.510052",
                "6.800000"
               ]
              },
              {
               "Coordinate": [
                "24.007000",
                "3.658000",
                "6.800000"
               ]
              },
              {
               "Coordinate": [
                "24.007000",
                "3.658000",
                "0.000000"
               ]
              },
              {
               "Coordinate": [
                "24.007000",
                "5.510052",
                "0.000000"
               ]
              }
             ]
            }
           },
           "RectangularGeometry": {
            "Azimuth": "90.000000",
            "CartesianPoint": {
             "Coordinate": [
              "24.007000",
              "3.658000",
              "0.000000"
             ]
            },
            "Height": "6.800000",
            "Tilt": "90.000000",
            "Width": "1.852052"
           }
          },
          {
           "@constructionIdRef": "UNKNOWN_OP",
           "@id": "surface-159",
           "@surfaceType": "Shade",
           "AdjacentSpaceId": {
            "@spaceIdRef": "RM000005"
           },
           "PlanarGeometry": {
            "PolyLoop": {
             "CartesianPoint": [
              {
               "Coordinate": [
                "24.007000",
                "3.658000",
                "6.800000"
               ]
              },
              {
               "Coordinate": [
                "21.957000",
                "3.658000",
                "6.800000"
               ]
              },
              {
               "Coordinate": [
                "21.957000",
                "3.658000",
                "-0.000000"
               ]
              },
              {
               "Coordinate": [
                "24.007000",
                "3.658000",
                "0.000000"
               ]
              }
             ]
            }
           },
           "RectangularGeometry": {
            "Azimuth": "180.000000",
            "CartesianPoint": {
             "Coordinate": [
              "21.957000",
              "3.658000",
              "-0.000000"
             ]
            },
            "Height": "6.800000",
            "Tilt": "90.000000",
            "Width": "2.050000"
           }
          },
          {
           "@constructionIdRef": "UNKNOWN_OP",
           "@id": "surface-160",
           "@surfaceType": "Shade",
           "AdjacentSpaceId": {
            "@spaceIdRef": "RM000000"
           },
           "PlanarGeometry": {
            "PolyLoop": {
             "CartesianPoint": [
              {
               "Coordinate": [
                "21.957000",
                "5.510052",
                "0.000000"
               ]
              },
              {
               "Coordinate": [
                "21.957000",
                "8.158000",
                "0.000000"
               ]
              },
              {
               "Coordinate": [
                "24.006610",
                "8.158000",
                "0.000000"
               ]
              },
              {
               "Coordinate": [
                "24.006610",
                "5.510052",
                "0.000000"
               ]
              }
             ]
            }
           },
           "RectangularGeometry": {
            "Azimuth": "0.000000",
            "CartesianPoint": {
             "Coordinate": [
              "24.006610",
              "5.510052",
              "0.000000"
             ]
            },
            "Height": "2.647948",
            "Tilt": "180.000000",
            "Width": "2.049610"
           }
          },
          {
           "@constructionIdRef": "UNKNOWN_OP",
           "@id": "surface-161",
           "@surfaceType": "Shade",
           "AdjacentSpaceId": {
            "@spaceIdRef": "RM000000"
           },
           "PlanarGeometry": {
            "PolyLoop": {
             "CartesianPoint": [
              {
               "Coordinate": [
                "24.006610",
                "5.510052",
                "3.400000"
               ]
              },
              {
               "Coordinate": [
                "24.006610",
                "8.158000",
                "3.400000"
               ]
              },
              {
               "Coordinate": [
                "21.957000",
                "8.158000",
                "3.400000"
               ]
              },
              {
               "Coordinate": [
                "21.957000",
                "5.510052",
                "3.400000"
               ]
              }
             ]
            }
           },
           "RectangularGeometry": {
            "Azimuth": "0.000000",
            "CartesianPoint": {
             "Coordinate": [
              "24.006610",
              "8.158000",
              "3.400000"
             ]
            },
            "Height": "2.647948",
            "Tilt": "0.000000",
            "Width": "2.049610"
           }
          },
          {
           "@constructionIdRef": "UNKNOWN_OP",
           "@id": "surface-162",
           "@surfaceType": "Shade",
           "AdjacentSpaceId": {
            "@spaceIdRef": "RM000000"
           },
           "PlanarGeometry": {
            "PolyLoop": {
             "CartesianPoint": [
              {
               "Coordinate": [
                "21.957000",
                "8.158000",
                "3.400000"
               ]
              },
              {
               "Coordinate": [
                "24.006610",
                "8.158000",
                "3.400000"
               ]
              },
              {
               "Coordinate": [
                "24.006610",
                "8.158000",
                "0.000000"
               ]
              },
              {
               "Coordinate": [
                "21.957000",
                "8.158000",
                "0.000000"
               ]
              }
             ]
            }
           },
           "RectangularGeometry": {
            "Azimuth": "0.000000",
            "CartesianPoint": {
             "Coordinate": [
              "24.006610",
              "8.158000",
              "0.000000"
             ]
            },
            "Height": "3.400000",
            "Tilt": "90.000000",
            "Width": "2.049610"
           }
          },
          {
           "@constructionIdRef": "UNKNOWN_OP",
           "@id": "surface-163",
           "@surfaceType": "Shade",
           "AdjacentSpaceId": {
            "@spaceIdRef": "RM000000"
           },
           "PlanarGeometry": {
            "PolyLoop": {
             "CartesianPoint": [
              {
               "Coordinate": [
                "24.006610",
                "8.158000",
                "3.400000"
               ]
              },
              {
               "Coordinate": [
                "24.006610",
                "5.510052",
                "3.400000"
               ]
              },
              {
               "Coordinate": [
                "24.006610",
                "5.510052",
                "0.000000"
               ]
              },
              {
               "Coordinate": [
                "24.006610",
                "8.158000",
                "0.000000"
               ]
              }
             ]
            }
           },
           "RectangularGeometry": {
            "Azimuth": "90.000000",
            "CartesianPoint": {
             "Coordinate": [
              "24.006610",
              "5.510052",
              "0.000000"
             ]
            },
            "Height": "3.400000",
            "Tilt": "90.000000",
            "Width": "2.647948"
           }
          },
          {
           "@constructionIdRef": "UNKNOWN_OP",
           "@id": "surface-164",
           "@surfaceType": "Shade",
           "AdjacentSpaceId": [
            {
             "@spaceIdRef": "RM000000"
            },
            {
             "@spaceIdRef": "RM000005"
            }
           ],
           "PlanarGeometry": {
            "PolyLoop": {
             "CartesianPoint": [
              {
               "Coordinate": [
                "21.957000",
                "5.510052",
                "0.000000"
               ]
              },
              {
               "Coordinate": [
                "24.006610",
                "5.510052",
                "0.000000"
               ]
              },
              {
               "Coordinate": [
                "24.006610",
                "5.510052",
                "3.400000"
               ]
              },
              {
               "Coordinate": [
                "21.957000",
                "5.510052",
                "3.400000"
               ]
              }
             ]
            }
           },
           "RectangularGeometry": {
            "Azimuth": "180.000000",
            "CartesianPoint": {
             "Coordinate": [
              "21.957000",
              "5.510052",
              "-0.000000"
             ]
            },
            "Height": "3.400000",
            "Tilt": "90.000000",
            "Width": "2.049610"
           }
          },
          {
           "@constructionIdRef": "UNKNOWN_OP",
           "@id": "surface-165",
           "@surfaceType": "Shade",
           "AdjacentSpaceId": {
            "@spaceIdRef": "RM000007"
           },
           "PlanarGeometry": {
            "PolyLoop": {
             "CartesianPoint": [
              {
               "Coordinate": [
                "24.017000",
                "1.578000",
                "3.300000"
               ]
              },
              {
               "Coordinate": [
                "24.017000",
                "8.068000",
                "0.000000"
               ]
              },
              {
               "Coordinate": [
                "25.367000",
                "8.068000",
                "0.000000"
               ]
              },
              {
               "Coordinate": [
                "25.367000",
                "1.578000",
                "3.300000"
               ]
              }
             ]
            }
           },
           "RectangularGeometry": {
            "Azimuth": "180.000000",
            "CartesianPoint": {
             "Coordinate": [
              "24.017000",
              "8.068000",
              "-0.000000"
             ]
            },
            "Height": "7.280804",
            "Tilt": "153.047821",
            "Width": "1.350000"
           }
          },
          {
           "@constructionIdRef": "UNKNOWN_OP",
           "@id": "surface-166",
           "@surfaceType": "Shade",
           "AdjacentSpaceId": {
            "@spaceIdRef": "RM000007"
           },
           "PlanarGeometry": {
            "PolyLoop": {
             "CartesianPoint": [
              {
               "Coordinate": [
                "25.367000",
                "1.578000",
                "3.400000"
               ]
              },
              {
               "Coordinate": [
                "25.367000",
                "8.068000",
                "0.100000"
               ]
              },
              {
               "Coordinate": [
                "24.017000",
                "8.068000",
                "0.100000"
               ]
              },
              {
               "Coordinate": [
                "24.017000",
                "1.578000",
                "3.400000"
               ]
              }
             ]
            }
           },
           "RectangularGeometry": {
            "Azimuth": "0.000000",
            "CartesianPoint": {
             "Coordinate": [
              "25.367000",
              "8.068000",
              "0.100000"
             ]
            },
            "Height": "7.280804",
            "Tilt": "26.952179",
            "Width": "1.350000"
           }
          },
          {
           "@constructionIdRef": "UNKNOWN_OP",
           "@id": "surface-167",
           "@surfaceType": "Shade",
           "AdjacentSpaceId": {
            "@spaceIdRef": "RM000007"
           },
           "PlanarGeometry": {
            "PolyLoop": {
             "CartesianPoint": [
              {
               "Coordinate": [
                "24.017000",
                "1.578000",
                "3.400000"
               ]
              },
              {
               "Coordinate": [
                "24.017000",
                "8.068000",
                "0.100000"
               ]
              },
              {
               "Coordinate": [
                "24.017000",
                "8.068000",
                "0.000000"
               ]
              },
              {
               "Coordinate": [
                "24.017000",
                "1.578000",
                "3.300000"
               ]
              }
             ]
            }
           },
           "RectangularGeometry": {
            "Azimuth": "270.000000",
            "CartesianPoint": {
             "Coordinate": [
              "24.017000",
              "8.068000",
              "-0.000000"
             ]
            },
            "Height": "3.400000",
            "Tilt": "90.000000",
            "Width": "6.490000"
           }
          },
          {
           "@constructionIdRef": "UNKNOWN_OP",
           "@id": "surface-168",
           "@surfaceType": "Shade",
           "AdjacentSpaceId": {
            "@spaceIdRef": "RM000007"
           },
           "PlanarGeometry": {
            "PolyLoop": {
             "CartesianPoint": [
              {
               "Coordinate": [
                "24.017000",
                "8.068000",
                "0.100000"
               ]
              },
              {
               "Coordinate": [
                "25.367000",
                "8.068000",
                "0.100000"
               ]
              },
              {
               "Coordinate": [
                "25.367000",
                "8.068000",
                "0.000000"
               ]
              },
              {
               "Coordinate": [
                "24.017000",
                "8.068000",
                "0.000000"
               ]
              }
             ]
            }
           },
           "RectangularGeometry": {
            "Azimuth": "0.000000",
            "CartesianPoint": {
             "Coordinate": [
              "25.367000",
              "8.068000",
              "0.000000"
             ]
            },
            "Height": "0.100000",
            "Tilt": "90.000000",
            "Width": "1.350000"
           }
          },
          {
           "@constructionIdRef": "UNKNOWN_OP",
           "@id": "surface-169",
           "@surfaceType": "Shade",
           "AdjacentSpaceId": {
            "@spaceIdRef": "RM000007"
           },
           "PlanarGeometry": {
            "PolyLoop": {
             "CartesianPoint": [
              {
               "Coordinate": [
                "25.367000",
                "8.068000",
                "0.100000"
               ]
              },
              {
               "Coordinate": [
                "25.367000",
                "1.578000",
                "3.400000"
               ]
              },
              {
               "Coordinate": [
                "25.367000",
                "1.578000",
                "3.300000"
               ]
              },
              {
               "Coordinate": [
                "25.367000",
                "8.068000",
                "0.000000"
               ]
              }
             ]
            }
           },
           "RectangularGeometry": {
            "Azimuth": "90.000000",
            "CartesianPoint": {
             "Coordinate": [
              "25.367000",
              "1.578000",
              "0.000000"
             ]
            },
            "Height": "3.400000",
            "Tilt": "90.000000",
            "Width": "6.490000"
           }
          },
          {
           "@constructionIdRef": "UNKNOWN_OP",
           "@id": "surface-170",
           "@surfaceType": "Shade",
           "AdjacentSpaceId": {
            "@spaceIdRef": "RM000007"
           },
           "PlanarGeometry": {
            "PolyLoop": {
             "CartesianPoint": [
              {
               "Coordinate": [
                "25.367000",
                "1.578000",
                "3.400000"
               ]
              },
              {
               "Coordinate": [
                "24.017000",
                "1.578000",
                "3.400000"
               ]
              },
              {
               "Coordinate": [
                "24.017000",
                "1.578000",
                "3.300000"
               ]
              },
              {
               "Coordinate": [
                "25.367000",
                "1.578000",
                "3.300000"
               ]
              }
             ]
            }
           },
           "RectangularGeometry": {
            "Azimuth": "180.000000",
            "CartesianPoint": {
             "Coordinate": [
              "24.017000",
              "1.578000",
              "3.300000"
             ]
            },
            "Height": "0.100000",
            "Tilt": "90.000000",
            "Width": "1.350000"
           }
          },
          {
           "@constructionIdRef": "UNKNOWN_OP",
           "@id": "surface-171",
           "@surfaceType": "Shade",
           "AdjacentSpaceId": {
            "@spaceIdRef": "RM000009"
           },
           "PlanarGeometry": {
            "PolyLoop": {
             "CartesianPoint": [
              {
               "Coordinate": [
                "24.007000",
                "1.557988",
                "3.500000"
               ]
              },
              {
               "Coordinate": [
                "29.183000",
                "1.557988",
                "3.500000"
               ]
              },
              {
               "Coordinate": [
                "29.183000",
                "1.557988",
                "3.400000"
               ]
              },
              {
               "Coordinate": [
                "24.007000",
                "1.557988",
                "3.400000"
               ]
              }
             ]
            }
           },
           "RectangularGeometry": {
            "Azimuth": "0.000000",
            "CartesianPoint": {
             "Coordinate": [
              "29.183000",
              "1.557988",
              "3.400000"
             ]
            },
            "Height": "0.100000",
            "Tilt": "90.000000",
            "Width": "5.176000"
           }
          },
          {
           "@constructionIdRef": "UNKNOWN_OP",
           "@id": "surface-172",
           "@surfaceType": "Shade",
           "AdjacentSpaceId": {
            "@spaceIdRef": "RM000009"
           },
           "PlanarGeometry": {
            "PolyLoop": {
             "CartesianPoint": [
              {
               "Coordinate": [
                "29.183000",
                "1.557988",
                "3.500000"
               ]
              },
              {
               "Coordinate": [
                "29.183000",
                "0.578000",
                "3.500000"
               ]
              },
              {
               "Coordinate": [
                "29.183000",
                "0.578000",
                "3.400000"
               ]
              },
              {
               "Coordinate": [
                "29.183000",
                "1.557988",
                "3.400000"
               ]
              }
             ]
            }
           },
           "RectangularGeometry": {
            "Azimuth": "90.000000",
            "CartesianPoint": {
             "Coordinate": [
              "29.183000",
              "0.578000",
              "3.400000"
             ]
            },
            "Height": "0.100000",
            "Tilt": "90.000000",
            "Width": "0.979988"
           }
          },
          {
           "@constructionIdRef": "UNKNOWN_OP",
           "@id": "surface-173",
           "@surfaceType": "Shade",
           "AdjacentSpaceId": {
            "@spaceIdRef": "RM000009"
           },
           "PlanarGeometry": {
            "PolyLoop": {
             "CartesianPoint": [
              {
               "Coordinate": [
                "21.957000",
                "0.578000",
                "3.500000"
               ]
              },
              {
               "Coordinate": [
                "21.957000",
                "3.658000",
                "3.500000"
               ]
              },
              {
               "Coordinate": [
                "21.957000",
                "3.658000",
                "3.400000"
               ]
              },
              {
               "Coordinate": [
                "21.957000",
                "0.578000",
                "3.400000"
               ]
              }
             ]
            }
           },
           "RectangularGeometry": {
            "Azimuth": "270.000000",
            "CartesianPoint": {
             "Coordinate": [
              "21.957000",
              "3.658000",
              "3.400000"
             ]
            },
            "Height": "0.100000",
            "Tilt": "90.000000",
            "Width": "3.080000"
           }
          },
          {
           "@constructionIdRef": "UNKNOWN_OP",
           "@id": "surface-174",
           "@surfaceType": "Shade",
           "AdjacentSpaceId": {
            "@spaceIdRef": "RM000009"
           },
           "PlanarGeometry": {
            "PolyLoop": {
             "CartesianPoint": [
              {
               "Coordinate": [
                "21.957000",
                "3.658000",
                "3.500000"
               ]
              },
              {
               "Coordinate": [
                "24.007000",
                "3.658000",
                "3.500000"
               ]
              },
              {
               "Coordinate": [
                "24.007000",
                "3.658000",
                "3.400000"
               ]
              },
              {
               "Coordinate": [
                "21.957000",
                "3.658000",
                "3.400000"
               ]
              }
             ]
            }
           },
           "RectangularGeometry": {
            "Azimuth": "0.000000",
            "CartesianPoint": {
             "Coordinate": [
              "24.007000",
              "3.658000",
              "3.400000"
             ]
            },
            "Height": "0.100000",
            "Tilt": "90.000000",
            "Width": "2.050000"
           }
          },
          {
           "@constructionIdRef": "UNKNOWN_OP",
           "@id": "surface-175",
           "@surfaceType": "Shade",
           "AdjacentSpaceId": {
            "@spaceIdRef": "RM000009"
           },
           "PlanarGeometry": {
            "PolyLoop": {
             "CartesianPoint": [
              {
               "Coordinate": [
                "24.007000",
                "1.557988",
                "3.400000"
               ]
              },
              {
               "Coordinate": [
                "24.007000",
                "3.658000",
                "3.400000"
               ]
              },
              {
               "Coordinate": [
                "24.007000",
                "3.658000",
                "3.500000"
               ]
              },
              {
               "Coordinate": [
                "24.007000",
                "1.557988",
                "3.500000"
               ]
              }
             ]
            }
           },
           "RectangularGeometry": {
            "Azimuth": "90.000000",
            "CartesianPoint": {
             "Coordinate": [
              "24.007000",
              "1.557988",
              "3.400000"
             ]
            },
            "Height": "0.100000",
            "Tilt": "90.000000",
            "Width": "2.100012"
           }
          },
          {
           "@constructionIdRef": "UNKNOWN_OP",
           "@id": "surface-176",
           "@surfaceType": "Shade",
           "AdjacentSpaceId": {
            "@spaceIdRef": "RM000009"
           },
           "PlanarGeometry": {
            "PolyLoop": {
             "CartesianPoint": [
              {
               "Coordinate": [
                "24.007000",
                "1.557988",
                "3.400000"
               ]
              },
              {
               "Coordinate": [
                "29.183000",
                "1.557988",
                "3.400000"
               ]
              },
              {
               "Coordinate": [
                "29.183000",
                "0.578000",
                "3.400000"
               ]
              },
              {
               "Coordinate": [
                "21.957000",
                "0.578000",
                "3.400000"
               ]
              },
              {
               "Coordinate": [
                "21.957000",
                "3.658000",
                "3.400000"
               ]
              },
              {
               "Coordinate": [
                "24.007000",
                "3.658000",
                "3.400000"
               ]
              }
             ]
            }
           },
           "RectangularGeometry": {
            "Azimuth": "0.000000",
            "CartesianPoint": {
             "Coordinate": [
              "29.183000",
              "0.578000",
              "3.400000"
             ]
            },
            "Height": "3.080000",
            "Tilt": "180.000000",
            "Width": "7.226000"
           }
          },
          {
           "@constructionIdRef": "UNKNOWN_OP",
           "@id": "surface-177",
           "@surfaceType": "Shade",
           "AdjacentSpaceId": {
            "@spaceIdRef": "RM000009"
           },
           "PlanarGeometry": {
            "PolyLoop": {
             "CartesianPoint": [
              {
               "Coordinate": [
                "21.957000",
                "0.578000",
                "3.500000"
               ]
              },
              {
               "Coordinate": [
                "29.183000",
                "0.578000",
                "3.500000"
               ]
              },
              {
               "Coordinate": [
                "29.183000",
                "1.557988",
                "3.500000"
               ]
              },
              {
               "Coordinate": [
                "24.007000",
                "1.557988",
                "3.500000"
               ]
              },
              {
               "Coordinate": [
                "24.007000",
                "3.658000",
                "3.500000"
               ]
              },
              {
               "Coordinate": [
                "21.957000",
                "3.658000",
                "3.500000"
               ]
              }
             ]
            }
           },
           "RectangularGeometry": {
            "Azimuth": "0.000000",
            "CartesianPoint": {
             "Coordinate": [
              "29.183000",
              "3.658000",
              "3.500000"
             ]
            },
            "Height": "3.080000",
            "Tilt": "0.000000",
            "Width": "7.226000"
           }
          },
          {
           "@constructionIdRef": "UNKNOWN_OP",
           "@id": "surface-178",
           "@surfaceType": "Shade",
           "AdjacentSpaceId": {
            "@spaceIdRef": "RM000009"
           },
           "PlanarGeometry": {
            "PolyLoop": {
             "CartesianPoint": [
              {
               "Coordinate": [
                "21.957000",
                "0.578000",
                "3.400000"
               ]
              },
              {
               "Coordinate": [
                "29.183000",
                "0.578000",
                "3.400000"
               ]
              },
              {
               "Coordinate": [
                "29.183000",
                "0.578000",
                "3.500000"
               ]
              },
              {
               "Coordinate": [
                "21.957000",
                "0.578000",
                "3.500000"
               ]
              }
             ]
            }
           },
           "RectangularGeometry": {
            "Azimuth": "180.000000",
            "CartesianPoint": {
             "Coordinate": [
              "21.957000",
              "0.578000",
              "3.400000"
             ]
            },
            "Height": "0.100000",
            "Tilt": "90.000000",
            "Width": "7.226000"
           }
          },
          {
           "@constructionIdRef": "UNKNOWN_OP",
           "@id": "surface-179",
           "@surfaceType": "Shade",
           "AdjacentSpaceId": {
            "@spaceIdRef": "RM000006"
           },
           "PlanarGeometry": {
            "PolyLoop": {
             "CartesianPoint": [
              {
               "Coordinate": [
                "21.956680",
                "0.382000",
                "0.000000"
               ]
              },
              {
               "Coordinate": [
                "21.956680",
                "0.578000",
                "0.000000"
               ]
              },
              {
               "Coordinate": [
                "29.187000",
                "0.578000",
                "0.000000"
               ]
              },
              {
               "Coordinate": [
                "29.187000",
                "0.382000",
                "0.000000"
               ]
              }
             ]
            }
           },
           "RectangularGeometry": {
            "Azimuth": "0.000000",
            "CartesianPoint": {
             "Coordinate": [
              "29.187000",
              "0.382000",
              "0.000000"
             ]
            },
            "Height": "0.196000",
            "Tilt": "180.000000",
            "Width": "7.230320"
           }
          },
          {
           "@constructionIdRef": "UNKNOWN_OP",
           "@id": "surface-180",
           "@surfaceType": "Shade",
           "AdjacentSpaceId": {
            "@spaceIdRef": "RM000006"
           },
           "PlanarGeometry": {
            "PolyLoop": {
             "CartesianPoint": [
              {
               "Coordinate": [
                "29.187000",
                "0.382000",
                "3.400000"
               ]
              },
              {
               "Coordinate": [
                "29.187000",
                "0.578000",
                "3.400000"
               ]
              },
              {
               "Coordinate": [
                "21.956680",
                "0.578000",
                "3.400000"
               ]
              },
              {
               "Coordinate": [
                "21.956680",
                "0.382000",
                "3.400000"
               ]
              }
             ]
            }
           },
           "RectangularGeometry": {
            "Azimuth": "0.000000",
            "CartesianPoint": {
             "Coordinate": [
              "29.187000",
              "0.578000",
              "3.400000"
             ]
            },
            "Height": "0.196000",
            "Tilt": "0.000000",
            "Width": "7.230320"
           }
          },
          {
           "@constructionIdRef": "UNKNOWN_OP",
           "@id": "surface-181",
           "@surfaceType": "Shade",
           "AdjacentSpaceId": {
            "@spaceIdRef": "RM000006"
           },
           "PlanarGeometry": {
            "PolyLoop": {
             "CartesianPoint": [
              {
               "Coordinate": [
                "21.956680",
                "0.382000",
                "3.400000"
               ]
              },
              {
               "Coordinate": [
                "21.956680",
                "0.578000",
                "3.400000"
               ]
              },
              {
               "Coordinate": [
                "21.956680",
                "0.578000",
                "0.000000"
               ]
              },
              {
               "Coordinate": [
                "21.956680",
                "0.382000",
                "0.000000"
               ]
              }
             ]
            }
           },
           "RectangularGeometry": {
            "Azimuth": "270.000000",
            "CartesianPoint": {
             "Coordinate": [
              "21.956680",
              "0.578000",
              "-0.000000"
             ]
            },
            "Height": "3.400000",
            "Tilt": "90.000000",
            "Width": "0.196000"
           }
          },
          {
           "@constructionIdRef": "UNKNOWN_OP",
           "@id": "surface-182",
           "@surfaceType": "Shade",
           "AdjacentSpaceId": {
            "@spaceIdRef": "RM000006"
           },
           "PlanarGeometry": {
            "PolyLoop": {
             "CartesianPoint": [
              {
               "Coordinate": [
                "21.956680",
                "0.578000",
                "3.400000"
               ]
              },
              {
               "Coordinate": [
                "29.187000",
                "0.578000",
                "3.400000"
               ]
              },
              {
               "Coordinate": [
                "29.187000",
                "0.578000",
                "0.000000"
               ]
              },
              {
               "Coordinate": [
                "21.956680",
                "0.578000",
                "0.000000"
               ]
              }
             ]
            }
           },
           "RectangularGeometry": {
            "Azimuth": "0.000000",
            "CartesianPoint": {
             "Coordinate": [
              "29.187000",
              "0.578000",
              "0.000000"
             ]
            },
            "Height": "3.400000",
            "Tilt": "90.000000",
            "Width": "7.230320"
           }
          },
          {
           "@constructionIdRef": "UNKNOWN_OP",
           "@id": "surface-183",
           "@surfaceType": "Shade",
           "AdjacentSpaceId": {
            "@spaceIdRef": "RM000006"
           },
           "PlanarGeometry": {
            "PolyLoop": {
             "CartesianPoint": [
              {
               "Coordinate": [
                "29.187000",
                "0.578000",
                "3.400000"
               ]
              },
              {
               "Coordinate": [
                "29.187000",
                "0.382000",
                "3.400000"
               ]
              },
              {
               "Coordinate": [
                "29.187000",
                "0.382000",
                "0.000000"
               ]
              },
              {
               "Coordinate": [
                "29.187000",
                "0.578000",
                "0.000000"
               ]
              }
             ]
            }
           },
           "RectangularGeometry": {
            "Azimuth": "90.000000",
            "CartesianPoint": {
             "Coordinate": [
              "29.187000",
              "0.382000",
              "0.000000"
             ]
            },
            "Height": "3.400000",
            "Tilt": "90.000000",
            "Width": "0.196000"
           }
          },
          {
           "@constructionIdRef": "UNKNOWN_OP",
           "@id": "surface-184",
           "@surfaceType": "Shade",
           "AdjacentSpaceId": {
            "@spaceIdRef": "RM000006"
           },
           "PlanarGeometry": {
            "PolyLoop": {
             "CartesianPoint": [
              {
               "Coordinate": [
                "29.187000",
                "0.382000",
                "3.400000"
               ]
              },
              {
               "Coordinate": [
                "21.956680",
                "0.382000",
                "3.400000"
               ]
              },
              {
               "Coordinate": [
                "21.956680",
                "0.382000",
                "0.000000"
               ]
              },
              {
               "Coordinate": [
                "29.187000",
                "0.382000",
                "0.000000"
               ]
              }
             ]
            }
           },
           "RectangularGeometry": {
            "Azimuth": "180.000000",
            "CartesianPoint": {
             "Coordinate": [
              "21.956680",
              "0.382000",
              "-0.000000"
             ]
            },
            "Height": "3.400000",
            "Tilt": "90.000000",
            "Width": "7.230320"
           }
          },
          {
           "@constructionIdRef": "UNKNOWN_OP",
           "@id": "surface-185",
           "@surfaceType": "Shade",
           "AdjacentSpaceId": {
            "@spaceIdRef": "RM00000B"
           },
           "PlanarGeometry": {
            "PolyLoop": {
             "CartesianPoint": [
              {
               "Coordinate": [
                "21.957320",
                "0.378000",
                "11.598000"
               ]
              },
              {
               "Coordinate": [
                "29.187320",
                "0.378000",
                "11.598000"
               ]
              },
              {
               "Coordinate": [
                "29.187320",
                "0.378000",
                "6.800000"
               ]
              },
              {
               "Coordinate": [
                "21.957000",
                "0.378000",
                "6.800000"
               ]
              }
             ]
            }
           },
           "RectangularGeometry": {
            "Azimuth": "0.000000",
            "CartesianPoint": {
             "Coordinate": [
              "29.187320",
              "0.378000",
              "6.800000"
             ]
            },
            "Height": "4.798000",
            "Tilt": "90.000000",
            "Width": "7.230320"
           }
          },
          {
           "@constructionIdRef": "UNKNOWN_OP",
           "@id": "surface-186",
           "@surfaceType": "Shade",
           "AdjacentSpaceId": {
            "@spaceIdRef": "RM00000B"
           },
           "PlanarGeometry": {
            "PolyLoop": {
             "CartesianPoint": [
              {
               "Coordinate": [
                "29.187000",
                "8.137000",
                "6.800000"
               ]
              },
              {
               "Coordinate": [
                "29.187000",
                "8.148000",
                "7.798000"
               ]
              },
              {
               "Coordinate": [
                "29.187000",
                "0.377000",
                "11.598000"
               ]
              },
              {
               "Coordinate": [
                "29.187000",
                "0.382000",
                "6.800000"
               ]
              }
             ]
            }
           },
           "RectangularGeometry": {
            "Azimuth": "90.000000",
            "CartesianPoint": {
             "Coordinate": [
              "29.187000",
              "0.377000",
              "6.800000"
             ]
            },
            "Height": "4.798000",
            "Tilt": "90.000000",
            "Width": "7.771000"
           }
          },
          {
           "@constructionIdRef": "UNKNOWN_OP",
           "@id": "surface-187",
           "@surfaceType": "Shade",
           "AdjacentSpaceId": {
            "@spaceIdRef": "RM00000B"
           },
           "PlanarGeometry": {
            "PolyLoop": {
             "CartesianPoint": [
              {
               "Coordinate": [
                "21.957000",
                "0.398000",
                "11.600000"
               ]
              },
              {
               "Coordinate": [
                "29.187000",
                "0.398000",
                "11.600000"
               ]
              },
              {
               "Coordinate": [
                "29.183000",
                "8.157988",
                "7.800000"
               ]
              },
              {
               "Coordinate": [
                "21.967000",
                "8.168000",
                "7.800000"
               ]
              }
             ]
            }
           },
           "RectangularGeometry": {
            "Azimuth": "0.039710",
            "CartesianPoint": {
             "Coordinate": [
              "29.192381",
              "8.162024",
              "7.798022"
             ]
            },
            "Height": "8.649449",
            "Tilt": "26.076006",
            "Width": "7.229998"
           }
          },
          {
           "@constructionIdRef": "UNKNOWN_OP",
           "@id": "surface-188",
           "@surfaceType": "Shade",
           "AdjacentSpaceId": {
            "@spaceIdRef": "RM00000B"
           },
           "PlanarGeometry": {
            "PolyLoop": {
             "CartesianPoint": [
              {
               "Coordinate": [
                "21.957000",
                "8.143000",
                "6.800000"
               ]
              },
              {
               "Coordinate": [
                "21.957000",
                "8.154000",
                "7.798000"
               ]
              },
              {
               "Coordinate": [
                "21.957000",
                "0.383000",
                "11.598000"
               ]
              },
              {
               "Coordinate": [
                "21.957000",
                "0.388000",
                "6.800000"
               ]
              }
             ]
            }
           },
           "RectangularGeometry": {
            "Azimuth": "90.000000",
            "CartesianPoint": {
             "Coordinate": [
              "21.957000",
              "0.383000",
              "6.800000"
             ]
            },
            "Height": "4.798000",
            "Tilt": "90.000000",
            "Width": "7.771000"
           }
          },
          {
           "@constructionIdRef": "UNKNOWN_OP",
           "@id": "surface-189",
           "@surfaceType": "Shade",
           "AdjacentSpaceId": {
            "@spaceIdRef": "RM00000B"
           },
           "PlanarGeometry": {
            "PolyLoop": {
             "CartesianPoint": [
              {
               "Coordinate": [
                "29.193000",
                "8.148500",
                "7.798000"
               ]
              },
              {
               "Coordinate": [
                "21.957000",
                "8.148500",
                "7.798000"
               ]
              },
              {
               "Coordinate": [
                "21.956680",
                "8.148500",
                "6.800000"
               ]
              },
              {
               "Coordinate": [
                "29.187000",
                "8.148500",
                "6.800000"
               ]
              }
             ]
            }
           },
           "RectangularGeometry": {
            "Azimuth": "180.000000",
            "CartesianPoint": {
             "Coordinate": [
              "21.956680",
              "8.148500",
              "6.800000"
             ]
            },
            "Height": "0.998000",
            "Tilt": "90.000000",
            "Width": "7.236320"
           }
          },
          {
           "@constructionIdRef": "UNKNOWN_OP",
           "@id": "surface-190",
           "@surfaceType": "Shade",
           "AdjacentSpaceId": {
            "@spaceIdRef": "GT000000"
           },
           "PlanarGeometry": {
            "PolyLoop": {
             "CartesianPoint": [
              {
               "Coordinate": [
                "21.956680",
                "0.382000",
                "3.400000"
               ]
              },
              {
               "Coordinate": [
                "21.956680",
                "0.578000",
                "3.400000"
               ]
              },
              {
               "Coordinate": [
                "29.187000",
                "0.578000",
                "3.400000"
               ]
              },
              {
               "Coordinate": [
                "29.187000",
                "0.382000",
                "3.400000"
               ]
              }
             ]
            }
           },
           "RectangularGeometry": {
            "Azimuth": "0.000000",
            "CartesianPoint": {
             "Coordinate": [
              "29.187000",
              "0.382000",
              "3.400000"
             ]
            },
            "Height": "0.196000",
            "Tilt": "180.000000",
            "Width": "7.230320"
           }
          },
          {
           "@constructionIdRef": "UNKNOWN_OP",
           "@id": "surface-191",
           "@surfaceType": "Shade",
           "AdjacentSpaceId": {
            "@spaceIdRef": "GT000000"
           },
           "PlanarGeometry": {
            "PolyLoop": {
             "CartesianPoint": [
              {
               "Coordinate": [
                "29.187000",
                "0.382000",
                "4.400000"
               ]
              },
              {
               "Coordinate": [
                "29.187000",
                "0.578000",
                "4.400000"
               ]
              },
              {
               "Coordinate": [
                "21.956680",
                "0.578000",
                "4.400000"
               ]
              },
              {
               "Coordinate": [
                "21.956680",
                "0.382000",
                "4.400000"
               ]
              }
             ]
            }
           },
           "RectangularGeometry": {
            "Azimuth": "0.000000",
            "CartesianPoint": {
             "Coordinate": [
              "29.187000",
              "0.578000",
              "4.400000"
             ]
            },
            "Height": "0.196000",
            "Tilt": "0.000000",
            "Width": "7.230320"
           }
          },
          {
           "@constructionIdRef": "UNKNOWN_OP",
           "@id": "surface-192",
           "@surfaceType": "Shade",
           "AdjacentSpaceId": {
            "@spaceIdRef": "GT000000"
           },
           "PlanarGeometry": {
            "PolyLoop": {
             "CartesianPoint": [
              {
               "Coordinate": [
                "21.956680",
                "0.382000",
                "4.400000"
               ]
              },
              {
               "Coordinate": [
                "21.956680",
                "0.578000",
                "4.400000"
               ]
              },
              {
               "Coordinate": [
                "21.956680",
                "0.578000",
                "3.400000"
               ]
              },
              {
               "Coordinate": [
                "21.956680",
                "0.382000",
                "3.400000"
               ]
              }
             ]
            }
           },
           "RectangularGeometry": {
            "Azimuth": "270.000000",
            "CartesianPoint": {
             "Coordinate": [
              "21.956680",
              "0.578000",
              "3.400000"
             ]
            },
            "Height": "1.000000",
            "Tilt": "90.000000",
            "Width": "0.196000"
           }
          },
          {
           "@constructionIdRef": "UNKNOWN_OP",
           "@id": "surface-193",
           "@surfaceType": "Shade",
           "AdjacentSpaceId": {
            "@spaceIdRef": "GT000000"
           },
           "PlanarGeometry": {
            "PolyLoop": {
             "CartesianPoint": [
              {
               "Coordinate": [
                "21.956680",
                "0.578000",
                "4.400000"
               ]
              },
              {
               "Coordinate": [
                "29.187000",
                "0.578000",
                "4.400000"
               ]
              },
              {
               "Coordinate": [
                "29.187000",
                "0.578000",
                "3.400000"
               ]
              },
              {
               "Coordinate": [
                "21.956680",
                "0.578000",
                "3.400000"
               ]
              }
             ]
            }
           },
           "RectangularGeometry": {
            "Azimuth": "0.000000",
            "CartesianPoint": {
             "Coordinate": [
              "29.187000",
              "0.578000",
              "3.400000"
             ]
            },
            "Height": "1.000000",
            "Tilt": "90.000000",
            "Width": "7.230320"
           }
          },
          {
           "@constructionIdRef": "UNKNOWN_OP",
           "@id": "surface-194",
           "@surfaceType": "Shade",
           "AdjacentSpaceId": {
            "@spaceIdRef": "GT000000"
           },
           "PlanarGeometry": {
            "PolyLoop": {
             "CartesianPoint": [
              {
               "Coordinate": [
                "29.187000",
                "0.578000",
                "4.400000"
               ]
              },
              {
               "Coordinate": [
                "29.187000",
                "0.382000",
                "4.400000"
               ]
              },
              {
               "Coordinate": [
                "29.187000",
                "0.382000",
                "3.400000"
               ]
              },
              {
               "Coordinate": [
                "29.187000",
                "0.578000",
                "3.400000"
               ]
              }
             ]
            }
           },
           "RectangularGeometry": {
            "Azimuth": "90.000000",
            "CartesianPoint": {
             "Coordinate": [
              "29.187000",
              "0.382000",
              "3.400000"
             ]
            },
            "Height": "1.000000",
            "Tilt": "90.000000",
            "Width": "0.196000"
           }
          },
          {
           "@constructionIdRef": "UNKNOWN_OP",
           "@id": "surface-195",
           "@surfaceType": "Shade",
           "AdjacentSpaceId": {
            "@spaceIdRef": "GT000000"
           },
           "PlanarGeometry": {
            "PolyLoop": {
             "CartesianPoint": [
              {
               "Coordinate": [
                "29.187000",
                "0.382000",
                "4.400000"
               ]
              },
              {
               "Coordinate": [
                "21.956680",
                "0.382000",
                "4.400000"
               ]
              },
              {
               "Coordinate": [
                "21.956680",
                "0.382000",
                "3.400000"
               ]
              },
              {
               "Coordinate": [
                "29.187000",
                "0.382000",
                "3.400000"
               ]
              }
             ]
            }
           },
           "RectangularGeometry": {
            "Azimuth": "180.000000",
            "CartesianPoint": {
             "Coordinate": [
              "21.956680",
              "0.382000",
              "3.400000"
             ]
            },
            "Height": "1.000000",
            "Tilt": "90.000000",
            "Width": "7.230320"
           }
          }
         ]
        },
        "Construction": [
         {
          "@id": "STD_CEIL",
          "LayerId": {
           "@layerIdRef": "layer-STD_CEIL"
          },
          "Name": "6667 Internal Ceiling/Floor",
          "U-value": {
           "#text": "1.086571",
           "@unit": "WPerSquareMeterK"
          }
         },
         {
          "@id": "STD_DOOR",
          "LayerId": {
           "@layerIdRef": "layer-STD_DOOR"
          },
          "Name": "6667 Door",
          "U-value": {
           "#text": "2.200000",
           "@unit": "WPerSquareMeterK"
          }
         },
         {
          "@id": "STD_FLO1",
          "LayerId": {
           "@layerIdRef": "layer-STD_FLO1"
          },
          "Name": "6667 Exposed Floor",
          "U-value": {
           "#text": "0.140000",
           "@unit": "WPerSquareMeterK"
          }
         },
         {
          "@id": "STD_PART",
          "LayerId": {
           "@layerIdRef": "layer-STD_PART"
          },
          "Name": "6667 Internal Partition",
          "U-value": {
           "#text": "1.788756",
           "@unit": "WPerSquareMeterK"
          }
         },
         {
          "@id": "STD_ROOF",
          "LayerId": {
           "@layerIdRef": "layer-STD_ROOF"
          },
          "Name": "6667 Roof",
          "U-value": {
           "#text": "0.140000",
           "@unit": "WPerSquareMeterK"
          }
         },
         {
          "@id": "STD_WAL1",
          "LayerId": {
           "@layerIdRef": "layer-STD_WAL1"
          },
          "Name": "6667 External Wall",
          "U-value": {
           "#text": "0.180000",
           "@unit": "WPerSquareMeterK"
          }
         },
         {
          "@id": "UNKNOWN_OP",
          "Name": "Unknown construction"
         }
        ],
        "DocumentHistory": {
         "CreatedBy": {
          "@date": "2020-06-12T16:56:23",
          "@personId": "D.Papa",
          "@programId": "IESVE",
          "CADModelId": null
         },
         "PersonInfo": {
          "@id": "D.Papa",
          "FirstName": "D",
          "LastName": "Papa"
         },
         "ProgramInfo": {
          "@id": "IESVE",
          "CompanyName": "Integrated Environmental Solutions Limited.",
          "Platform": "Server 2012",
          "ProductName": "Virtual Environment 2019 Feature Pack 1",
          "Version": "2019.1.0.0"
         }
        },
        "Layer": [
         {
          "@id": "layer-STD_CEIL",
          "MaterialId": [
           {
            "@materialIdRef": "STD_CHP-0.02"
           },
           {
            "@materialIdRef": "Cavity-AIR-0.05-0.21"
           },
           {
            "@materialIdRef": "STD_SC1-0.05"
           },
           {
            "@materialIdRef": "STD_CC2-0.1"
           },
           {
            "@materialIdRef": "Cavity-AIR-0.05-0.21"
           },
           {
            "@materialIdRef": "STD_US4-0.0125"
           }
          ]
         },
         {
          "@id": "layer-STD_DOOR",
          "MaterialId": {
           "@materialIdRef": "STDCBM21-0.037"
          }
         },
         {
          "@id": "layer-STD_FLO1",
          "MaterialId": [
           {
            "@materialIdRef": "STD_PH1-0.1645"
           },
           {
            "@materialIdRef": "STD_CC2-0.1"
           },
           {
            "@materialIdRef": "Cavity-AIR-0.05-0.21"
           },
           {
            "@materialIdRef": "STD_FBA-0.02"
           }
          ]
         },
         {
          "@id": "layer-STD_PART",
          "MaterialId": [
           {
            "@materialIdRef": "STD_US2-0.0125"
           },
           {
            "@materialIdRef": "Cavity-AIR-0.05-0.18"
           },
           {
            "@materialIdRef": "STD_US3-0.0125"
           }
          ]
         },
         {
          "@id": "layer-STD_ROOF",
          "MaterialId": [
           {
            "@materialIdRef": "STD_PHF-0.2015"
           },
           {
            "@materialIdRef": "STD_MEM-0.0001"
           },
           {
            "@materialIdRef": "STD_CC1-0.1"
           },
           {
            "@materialIdRef": "Cavity-AIR-0.05-0.16"
           },
           {
            "@materialIdRef": "STD_US5-0.0125"
           }
          ]
         },
         {
          "@id": "layer-STD_WAL1",
          "MaterialId": [
           {
            "@materialIdRef": "STD_SM1-0.003"
           },
           {
            "@materialIdRef": "Cavity-AIR-0.05-0.13"
           },
           {
            "@materialIdRef": "STD_EPS-0.1239"
           },
           {
            "@materialIdRef": "STD_USP-0.012"
           },
           {
            "@materialIdRef": "Cavity-AIR-0.05-0.18"
           },
           {
            "@materialIdRef": "STD_US1-0.0125"
           }
          ]
         }
        ],
        "Material": [
         {
          "@id": "Cavity-AIR-0.05-0.13",
          "Name": "AIR",
          "R-value": {
           "#text": "0.130000",
           "@unit": "SquareMeterKPerW"
          },
          "Thickness": {
           "#text": "0.050000",
           "@unit": "Meters"
          }
         },
         {
          "@id": "Cavity-AIR-0.05-0.16",
          "Name": "AIR",
          "R-value": {
           "#text": "0.160000",
           "@unit": "SquareMeterKPerW"
          },
          "Thickness": {
           "#text": "0.050000",
           "@unit": "Meters"
          }
         },
         {
          "@id": "Cavity-AIR-0.05-0.18",
          "Name": "AIR",
          "R-value": {
           "#text": "0.180000",
           "@unit": "SquareMeterKPerW"
          },
          "Thickness": {
           "#text": "0.050000",
           "@unit": "Meters"
          }
         },
         {
          "@id": "Cavity-AIR-0.05-0.21",
          "Name": "AIR",
          "R-value": {
           "#text": "0.210000",
           "@unit": "SquareMeterKPerW"
          },
          "Thickness": {
           "#text": "0.050000",
           "@unit": "Meters"
          }
         },
         {
          "@id": "STDCBM21-0.037",
          "Conductivity": {
           "#text": "0.130032",
           "@unit": "WPerMeterK"
          },
          "Density": {
           "#text": "500.000000",
           "@unit": "KgPerCubicM"
          },
          "Name": "Plywood- 30 mm",
          "SpecificHeat": {
           "#text": "1500.000000",
           "@unit": "JPerKgK"
          },
          "Thickness": {
           "#text": "0.037000",
           "@unit": "Meters"
          }
         },
         {
          "@id": "STD_CC1-0.1",
          "Conductivity": {
           "#text": "2.000000",
           "@unit": "WPerMeterK"
          },
          "Density": {
           "#text": "2400.000000",
           "@unit": "KgPerCubicM"
          },
          "Name": "Concrete Deck",
          "SpecificHeat": {
           "#text": "1000.000000",
           "@unit": "JPerKgK"
          },
          "Thickness": {
           "#text": "0.100000",
           "@unit": "Meters"
          }
         },
         {
          "@id": "STD_CC2-0.1",
          "Conductivity": {
           "#text": "2.300000",
           "@unit": "WPerMeterK"
          },
          "Density": {
           "#text": "2300.000000",
           "@unit": "KgPerCubicM"
          },
          "Name": "Reinforced Concrete",
          "SpecificHeat": {
           "#text": "1000.000000",
           "@unit": "JPerKgK"
          },
          "Thickness": {
           "#text": "0.100000",
           "@unit": "Meters"
          }
         },
         {
          "@id": "STD_CHP-0.02",
          "Conductivity": {
           "#text": "0.130000",
           "@unit": "WPerMeterK"
          },
          "Density": {
           "#text": "500.000000",
           "@unit": "KgPerCubicM"
          },
          "Name": "Chipboard Flooring",
          "SpecificHeat": {
           "#text": "1600.000000",
           "@unit": "JPerKgK"
          },
          "Thickness": {
           "#text": "0.020000",
           "@unit": "Meters"
          }
         },
         {
          "@id": "STD_EPS-0.1239",
          "Conductivity": {
           "#text": "0.024961",
           "@unit": "WPerMeterK"
          },
          "Density": {
           "#text": "20.000000",
           "@unit": "KgPerCubicM"
          },
          "Name": "Insulation",
          "SpecificHeat": {
           "#text": "1030.000000",
           "@unit": "JPerKgK"
          },
          "Thickness": {
           "#text": "0.123900",
           "@unit": "Meters"
          }
         },
         {
          "@id": "STD_FBA-0.02",
          "Conductivity": {
           "#text": "0.130000",
           "@unit": "WPerMeterK"
          },
          "Density": {
           "#text": "500.000000",
           "@unit": "KgPerCubicM"
          },
          "Name": "Chipboard Flooring",
          "SpecificHeat": {
           "#text": "1600.000000",
           "@unit": "JPerKgK"
          },
          "Thickness": {
           "#text": "0.020000",
           "@unit": "Meters"
          }
         },
         {
          "@id": "STD_MEM-0.0001",
          "Conductivity": {
           "#text": "1.000000",
           "@unit": "WPerMeterK"
          },
          "Density": {
           "#text": "1100.000000",
           "@unit": "KgPerCubicM"
          },
          "Name": "Membrane",
          "SpecificHeat": {
           "#text": "1000.000000",
           "@unit": "JPerKgK"
          },
          "Thickness": {
           "#text": "0.000100",
           "@unit": "Meters"
          }
         },
         {
          "@id": "STD_PH1-0.1645",
          "Conductivity": {
           "#text": "0.025209",
           "@unit": "WPerMeterK"
          },
          "Density": {
           "#text": "700.000000",
           "@unit": "KgPerCubicM"
          },
          "Name": "Insulation",
          "SpecificHeat": {
           "#text": "1000.000000",
           "@unit": "JPerKgK"
          },
          "Thickness": {
           "#text": "0.164500",
           "@unit": "Meters"
          }
         },
         {
          "@id": "STD_PHF-0.2015",
          "Conductivity": {
           "#text": "0.029926",
           "@unit": "WPerMeterK"
          },
          "Density": {
           "#text": "40.000000",
           "@unit": "KgPerCubicM"
          },
          "Name": "Insulation",
          "SpecificHeat": {
           "#text": "1450.000000",
           "@unit": "JPerKgK"
          },
          "Thickness": {
           "#text": "0.201500",
           "@unit": "Meters"
          }
         },
         {
          "@id": "STD_SC1-0.05",
          "Conductivity": {
           "#text": "1.150000",
           "@unit": "WPerMeterK"
          },
          "Density": {
           "#text": "1800.000000",
           "@unit": "KgPerCubicM"
          },
          "Name": "SCREED",
          "SpecificHeat": {
           "#text": "1000.000000",
           "@unit": "JPerKgK"
          },
          "Thickness": {
           "#text": "0.050000",
           "@unit": "Meters"
          }
         },
         {
          "@id": "STD_SM1-0.003",
          "Conductivity": {
           "#text": "50.000000",
           "@unit": "WPerMeterK"
          },
          "Density": {
           "#text": "7800.000000",
           "@unit": "KgPerCubicM"
          },
          "Name": "Rainscreen",
          "SpecificHeat": {
           "#text": "450.000000",
           "@unit": "JPerKgK"
          },
          "Thickness": {
           "#text": "0.003000",
           "@unit": "Meters"
          }
         },
         {
          "@id": "STD_US1-0.0125",
          "Conductivity": {
           "#text": "0.210000",
           "@unit": "WPerMeterK"
          },
          "Density": {
           "#text": "700.000000",
           "@unit": "KgPerCubicM"
          },
          "Name": "Plasterboard",
          "SpecificHeat": {
           "#text": "1000.000000",
           "@unit": "JPerKgK"
          },
          "Thickness": {
           "#text": "0.012500",
           "@unit": "Meters"
          }
         },
         {
          "@id": "STD_US2-0.0125",
          "Conductivity": {
           "#text": "0.210000",
           "@unit": "WPerMeterK"
          },
          "Density": {
           "#text": "700.000000",
           "@unit": "KgPerCubicM"
          },
          "Name": "Plasterboard",
          "SpecificHeat": {
           "#text": "1000.000000",
           "@unit": "JPerKgK"
          },
          "Thickness": {
           "#text": "0.012500",
           "@unit": "Meters"
          }
         },
         {
          "@id": "STD_US3-0.0125",
          "Conductivity": {
           "#text": "0.210000",
           "@unit": "WPerMeterK"
          },
          "Density": {
           "#text": "700.000000",
           "@unit": "KgPerCubicM"
          },
          "Name": "Plasterboard",
          "SpecificHeat": {
           "#text": "1000.000000",
           "@unit": "JPerKgK"
          },
          "Thickness": {
           "#text": "0.012500",
           "@unit": "Meters"
          }
         },
         {
          "@id": "STD_US4-0.0125",
          "Conductivity": {
           "#text": "0.210000",
           "@unit": "WPerMeterK"
          },
          "Density": {
           "#text": "700.000000",
           "@unit": "KgPerCubicM"
          },
          "Name": "Plasterboard",
          "SpecificHeat": {
           "#text": "1000.000000",
           "@unit": "JPerKgK"
          },
          "Thickness": {
           "#text": "0.012500",
           "@unit": "Meters"
          }
         },
         {
          "@id": "STD_US5-0.0125",
          "Conductivity": {
           "#text": "0.210000",
           "@unit": "WPerMeterK"
          },
          "Density": {
           "#text": "700.000000",
           "@unit": "KgPerCubicM"
          },
          "Name": "Plasterboard",
          "SpecificHeat": {
           "#text": "1000.000000",
           "@unit": "JPerKgK"
          },
          "Thickness": {
           "#text": "0.012500",
           "@unit": "Meters"
          }
         },
         {
          "@id": "STD_USP-0.012",
          "Conductivity": {
           "#text": "0.230000",
           "@unit": "WPerMeterK"
          },
          "Density": {
           "#text": "1100.000000",
           "@unit": "KgPerCubicM"
          },
          "Name": "Cement bonded particle board",
          "SpecificHeat": {
           "#text": "1000.000000",
           "@unit": "JPerKgK"
          },
          "Thickness": {
           "#text": "0.012000",
           "@unit": "Meters"
          }
         }
        ],
        "WindowType": [
         {
          "@id": "STD_EXT2",
          "Frame": {
           "Absorptance": {
            "#text": "0.700000",
            "@type": "ExtIR",
            "@unit": "Fraction"
           },
           "R-value": {
            "#text": "0.167080",
            "@unit": "SquareMeterKPerW"
           }
          },
          "Gap": {
           "@gas": "Air",
           "@id": "STD_EXT2-layer-2",
           "Thickness": {
            "#text": "0.012000",
            "@unit": "Meters"
           }
          },
          "Glaze": [
           {
            "@id": "STD_EXT2-layer-1",
            "Emittance": [
             {
              "#text": "0.837000",
              "@surfaceType": "1",
              "@type": "ExtIR",
              "@unit": "Fraction"
             },
             {
              "#text": "0.042000",
              "@surfaceType": "2",
              "@type": "IntIR",
              "@unit": "Fraction"
             }
            ],
            "Name": "[STD_EXW1] Outer Pane",
            "Reflectance": [
             {
              "#text": "0.050000",
              "@surfaceType": "1",
              "@type": "ExtSolar",
              "@unit": "Fraction"
             },
             {
              "#text": "0.414000",
              "@surfaceType": "2",
              "@type": "IntSolar",
              "@unit": "Fraction"
             },
             {
              "#text": "0.070000",
              "@surfaceType": "1",
              "@type": "ExtVisible",
              "@unit": "Fraction"
             },
             {
              "#text": "0.070000",
              "@surfaceType": "2",
              "@type": "IntVisible",
              "@unit": "Fraction"
             }
            ],
            "Thickness": {
             "#text": "0.006000",
             "@unit": "Meters"
            },
            "Transmittance": [
             {
              "#text": "0.253000",
              "@surfaceType": "Both",
              "@type": "Solar",
              "@unit": "Fraction"
             },
             {
              "#text": "0.780000",
              "@surfaceType": "Both",
              "@type": "Visible",
              "@unit": "Fraction"
             }
            ]
           },
           {
            "@id": "STD_EXT2-layer-3",
            "Emittance": [
             {
              "#text": "0.837000",
              "@surfaceType": "1",
              "@type": "ExtIR",
              "@unit": "Fraction"
             },
             {
              "#text": "0.837000",
              "@surfaceType": "2",
              "@type": "IntIR",
              "@unit": "Fraction"
             }
            ],
            "Name": "[STD_INW] Inner Pane",
            "Reflectance": [
             {
              "#text": "0.072000",
              "@surfaceType": "1",
              "@type": "ExtSolar",
              "@unit": "Fraction"
             },
             {
              "#text": "0.072000",
              "@surfaceType": "2",
              "@type": "IntSolar",
              "@unit": "Fraction"
             },
             {
              "#text": "0.070000",
              "@surfaceType": "1",
              "@type": "ExtVisible",
              "@unit": "Fraction"
             },
             {
              "#text": "0.070000",
              "@surfaceType": "2",
              "@type": "IntVisible",
              "@unit": "Fraction"
             }
            ],
            "Thickness": {
             "#text": "0.006000",
             "@unit": "Meters"
            },
            "Transmittance": [
             {
              "#text": "0.783000",
              "@surfaceType": "Both",
              "@type": "Solar",
              "@unit": "Fraction"
             },
             {
              "#text": "0.780000",
              "@surfaceType": "Both",
              "@type": "Visible",
              "@unit": "Fraction"
             }
            ]
           }
          ],
          "Name": "6667 Rodeca Panels",
          "U-value": {
           "#text": "0.712496",
           "@unit": "WPerSquareMeterK"
          }
         },
         {
          "@id": "STD_EXTW",
          "Frame": {
           "Absorptance": {
            "#text": "0.700000",
            "@type": "ExtIR",
            "@unit": "Fraction"
           },
           "R-value": {
            "#text": "0.040800",
            "@unit": "SquareMeterKPerW"
           }
          },
          "Gap": {
           "@gas": "Air",
           "@id": "STD_EXTW-layer-2",
           "Thickness": {
            "#text": "0.015000",
            "@unit": "Meters"
           }
          },
          "Glaze": [
           {
            "@id": "STD_EXTW-layer-1",
            "Emittance": [
             {
              "#text": "0.840000",
              "@surfaceType": "1",
              "@type": "ExtIR",
              "@unit": "Fraction"
             },
             {
              "#text": "0.042000",
              "@surfaceType": "2",
              "@type": "IntIR",
              "@unit": "Fraction"
             }
            ],
            "Name": "[STD_EXW2] Outer Pane",
            "Reflectance": [
             {
              "#text": "0.100000",
              "@surfaceType": "1",
              "@type": "ExtSolar",
              "@unit": "Fraction"
             },
             {
              "#text": "0.100000",
              "@surfaceType": "2",
              "@type": "IntSolar",
              "@unit": "Fraction"
             },
             {
              "#text": "0.070000",
              "@surfaceType": "1",
              "@type": "ExtVisible",
              "@unit": "Fraction"
             },
             {
              "#text": "0.070000",
              "@surfaceType": "2",
              "@type": "IntVisible",
              "@unit": "Fraction"
             }
            ],
            "Thickness": {
             "#text": "0.006000",
             "@unit": "Meters"
            },
            "Transmittance": [
             {
              "#text": "0.599000",
              "@surfaceType": "Both",
              "@type": "Solar",
              "@unit": "Fraction"
             },
             {
              "#text": "0.780000",
              "@surfaceType": "Both",
              "@type": "Visible",
              "@unit": "Fraction"
             }
            ]
           },
           {
            "@id": "STD_EXTW-layer-3",
            "Emittance": [
             {
              "#text": "0.837000",
              "@surfaceType": "1",
              "@type": "ExtIR",
              "@unit": "Fraction"
             },
             {
              "#text": "0.837000",
              "@surfaceType": "2",
              "@type": "IntIR",
              "@unit": "Fraction"
             }
            ],
            "Name": "[STD_INW1] Inner Pane",
            "Reflectance": [
             {
              "#text": "0.017000",
              "@surfaceType": "1",
              "@type": "ExtSolar",
              "@unit": "Fraction"
             },
             {
              "#text": "0.100000",
              "@surfaceType": "2",
              "@type": "IntSolar",
              "@unit": "Fraction"
             },
             {
              "#text": "0.070000",
              "@surfaceType": "1",
              "@type": "ExtVisible",
              "@unit": "Fraction"
             },
             {
              "#text": "0.070000",
              "@surfaceType": "2",
              "@type": "IntVisible",
              "@unit": "Fraction"
             }
            ],
            "Thickness": {
             "#text": "0.006000",
             "@unit": "Meters"
            },
            "Transmittance": [
             {
              "#text": "0.900000",
              "@surfaceType": "Both",
              "@type": "Solar",
              "@unit": "Fraction"
             },
             {
              "#text": "0.780000",
              "@surfaceType": "Both",
              "@type": "Visible",
              "@unit": "Fraction"
             }
            ]
           }
          ],
          "Name": "6667 Security Glazing",
          "U-value": {
           "#text": "1.841831",
           "@unit": "WPerSquareMeterK"
          }
         }
        ],
        "Zone": [
         {
          "@id": "ZONE_1",
          "CADObjectId": "ZONE_id_0",
          "DesignCoolT": {
           "#text": "0.000000",
           "@unit": "C"
          },
          "DesignHeatT": {
           "#text": "0.000000",
           "@unit": "C"
          },
          "Name": "Building A",
          "TypeCode": "1"
         },
         {
          "@id": "ZONE_2",
          "CADObjectId": "ZONE_id_1",
          "DesignCoolT": {
           "#text": "0.000000",
           "@unit": "C"
          },
          "DesignHeatT": {
           "#text": "0.000000",
           "@unit": "C"
          },
          "Name": "Building B",
          "TypeCode": "2"
         },
         {
          "@id": "ZONE_3",
          "CADObjectId": "ZONE_id_2",
          "DesignCoolT": {
           "#text": "0.000000",
           "@unit": "C"
          },
          "DesignHeatT": {
           "#text": "0.000000",
           "@unit": "C"
          },
          "Name": "Connection",
          "TypeCode": "3"
         }
        ]
       }
      },
      "text/plain": [
       "<IPython.core.display.JSON object>"
      ]
     },
     "metadata": {
      "application/json": {
       "expanded": false,
       "root": "root"
      }
     },
     "output_type": "display_data"
    }
   ],
   "source": [
    "g = GbxmlParser(fpth)"
   ]
  },
  {
   "cell_type": "code",
   "execution_count": 60,
   "metadata": {},
   "outputs": [],
   "source": [
    "g1 = GbxmlReport(fpth)"
   ]
  },
  {
   "cell_type": "code",
   "execution_count": 61,
   "metadata": {},
   "outputs": [
    {
     "data": {
      "text/html": [
       "<div>\n",
       "<style scoped>\n",
       "    .dataframe tbody tr th:only-of-type {\n",
       "        vertical-align: middle;\n",
       "    }\n",
       "\n",
       "    .dataframe tbody tr th {\n",
       "        vertical-align: top;\n",
       "    }\n",
       "\n",
       "    .dataframe thead th {\n",
       "        text-align: right;\n",
       "    }\n",
       "</style>\n",
       "<table border=\"1\" class=\"dataframe\">\n",
       "  <thead>\n",
       "    <tr style=\"text-align: right;\">\n",
       "      <th></th>\n",
       "      <th>Name</th>\n",
       "      <th>U-value_WPerSquareMeterK</th>\n",
       "    </tr>\n",
       "    <tr>\n",
       "      <th>@id</th>\n",
       "      <th></th>\n",
       "      <th></th>\n",
       "    </tr>\n",
       "  </thead>\n",
       "  <tbody>\n",
       "    <tr>\n",
       "      <th>STD_CEIL</th>\n",
       "      <td>6667 Internal Ceiling/Floor</td>\n",
       "      <td>1.09</td>\n",
       "    </tr>\n",
       "    <tr>\n",
       "      <th>STD_DOOR</th>\n",
       "      <td>6667 Door</td>\n",
       "      <td>2.20</td>\n",
       "    </tr>\n",
       "    <tr>\n",
       "      <th>STD_FLO1</th>\n",
       "      <td>6667 Exposed Floor</td>\n",
       "      <td>0.14</td>\n",
       "    </tr>\n",
       "    <tr>\n",
       "      <th>STD_PART</th>\n",
       "      <td>6667 Internal Partition</td>\n",
       "      <td>1.79</td>\n",
       "    </tr>\n",
       "    <tr>\n",
       "      <th>STD_ROOF</th>\n",
       "      <td>6667 Roof</td>\n",
       "      <td>0.14</td>\n",
       "    </tr>\n",
       "    <tr>\n",
       "      <th>STD_WAL1</th>\n",
       "      <td>6667 External Wall</td>\n",
       "      <td>0.18</td>\n",
       "    </tr>\n",
       "    <tr>\n",
       "      <th>STD_EXT2</th>\n",
       "      <td>6667 Rodeca Panels</td>\n",
       "      <td>0.71</td>\n",
       "    </tr>\n",
       "    <tr>\n",
       "      <th>STD_EXTW</th>\n",
       "      <td>6667 Security Glazing</td>\n",
       "      <td>1.84</td>\n",
       "    </tr>\n",
       "    <tr>\n",
       "      <th>STD_EXT2</th>\n",
       "      <td>6667 Rodeca Panels</td>\n",
       "      <td>0.71</td>\n",
       "    </tr>\n",
       "    <tr>\n",
       "      <th>STD_EXTW</th>\n",
       "      <td>6667 Security Glazing</td>\n",
       "      <td>1.84</td>\n",
       "    </tr>\n",
       "  </tbody>\n",
       "</table>\n",
       "</div>"
      ],
      "text/plain": [
       "                                 Name  U-value_WPerSquareMeterK\n",
       "@id                                                            \n",
       "STD_CEIL  6667 Internal Ceiling/Floor                      1.09\n",
       "STD_DOOR                    6667 Door                      2.20\n",
       "STD_FLO1           6667 Exposed Floor                      0.14\n",
       "STD_PART      6667 Internal Partition                      1.79\n",
       "STD_ROOF                    6667 Roof                      0.14\n",
       "STD_WAL1           6667 External Wall                      0.18\n",
       "STD_EXT2           6667 Rodeca Panels                      0.71\n",
       "STD_EXTW        6667 Security Glazing                      1.84\n",
       "STD_EXT2           6667 Rodeca Panels                      0.71\n",
       "STD_EXTW        6667 Security Glazing                      1.84"
      ]
     },
     "execution_count": 61,
     "metadata": {},
     "output_type": "execute_result"
    }
   ],
   "source": [
    "g1.fabric_summ"
   ]
  },
  {
   "cell_type": "code",
   "execution_count": 62,
   "metadata": {},
   "outputs": [
    {
     "data": {
      "text/plain": [
       "[OrderedDict([('@id', 'STD_EXT2-layer-1'),\n",
       "              ('Name', '[STD_EXW1] Outer Pane'),\n",
       "              ('Thickness',\n",
       "               OrderedDict([('@unit', 'Meters'), ('#text', '0.006000')])),\n",
       "              ('Reflectance',\n",
       "               [OrderedDict([('@unit', 'Fraction'),\n",
       "                             ('@type', 'ExtSolar'),\n",
       "                             ('@surfaceType', '1'),\n",
       "                             ('#text', '0.050000')]),\n",
       "                OrderedDict([('@unit', 'Fraction'),\n",
       "                             ('@type', 'IntSolar'),\n",
       "                             ('@surfaceType', '2'),\n",
       "                             ('#text', '0.414000')]),\n",
       "                OrderedDict([('@unit', 'Fraction'),\n",
       "                             ('@type', 'ExtVisible'),\n",
       "                             ('@surfaceType', '1'),\n",
       "                             ('#text', '0.070000')]),\n",
       "                OrderedDict([('@unit', 'Fraction'),\n",
       "                             ('@type', 'IntVisible'),\n",
       "                             ('@surfaceType', '2'),\n",
       "                             ('#text', '0.070000')])]),\n",
       "              ('Transmittance',\n",
       "               [OrderedDict([('@unit', 'Fraction'),\n",
       "                             ('@type', 'Solar'),\n",
       "                             ('@surfaceType', 'Both'),\n",
       "                             ('#text', '0.253000')]),\n",
       "                OrderedDict([('@unit', 'Fraction'),\n",
       "                             ('@type', 'Visible'),\n",
       "                             ('@surfaceType', 'Both'),\n",
       "                             ('#text', '0.780000')])]),\n",
       "              ('Emittance',\n",
       "               [OrderedDict([('@unit', 'Fraction'),\n",
       "                             ('@type', 'ExtIR'),\n",
       "                             ('@surfaceType', '1'),\n",
       "                             ('#text', '0.837000')]),\n",
       "                OrderedDict([('@unit', 'Fraction'),\n",
       "                             ('@type', 'IntIR'),\n",
       "                             ('@surfaceType', '2'),\n",
       "                             ('#text', '0.042000')])])]),\n",
       " OrderedDict([('@id', 'STD_EXT2-layer-3'),\n",
       "              ('Name', '[STD_INW] Inner Pane'),\n",
       "              ('Thickness',\n",
       "               OrderedDict([('@unit', 'Meters'), ('#text', '0.006000')])),\n",
       "              ('Reflectance',\n",
       "               [OrderedDict([('@unit', 'Fraction'),\n",
       "                             ('@type', 'ExtSolar'),\n",
       "                             ('@surfaceType', '1'),\n",
       "                             ('#text', '0.072000')]),\n",
       "                OrderedDict([('@unit', 'Fraction'),\n",
       "                             ('@type', 'IntSolar'),\n",
       "                             ('@surfaceType', '2'),\n",
       "                             ('#text', '0.072000')]),\n",
       "                OrderedDict([('@unit', 'Fraction'),\n",
       "                             ('@type', 'ExtVisible'),\n",
       "                             ('@surfaceType', '1'),\n",
       "                             ('#text', '0.070000')]),\n",
       "                OrderedDict([('@unit', 'Fraction'),\n",
       "                             ('@type', 'IntVisible'),\n",
       "                             ('@surfaceType', '2'),\n",
       "                             ('#text', '0.070000')])]),\n",
       "              ('Transmittance',\n",
       "               [OrderedDict([('@unit', 'Fraction'),\n",
       "                             ('@type', 'Solar'),\n",
       "                             ('@surfaceType', 'Both'),\n",
       "                             ('#text', '0.783000')]),\n",
       "                OrderedDict([('@unit', 'Fraction'),\n",
       "                             ('@type', 'Visible'),\n",
       "                             ('@surfaceType', 'Both'),\n",
       "                             ('#text', '0.780000')])]),\n",
       "              ('Emittance',\n",
       "               [OrderedDict([('@unit', 'Fraction'),\n",
       "                             ('@type', 'ExtIR'),\n",
       "                             ('@surfaceType', '1'),\n",
       "                             ('#text', '0.837000')]),\n",
       "                OrderedDict([('@unit', 'Fraction'),\n",
       "                             ('@type', 'IntIR'),\n",
       "                             ('@surfaceType', '2'),\n",
       "                             ('#text', '0.837000')])])])]"
      ]
     },
     "execution_count": 62,
     "metadata": {},
     "output_type": "execute_result"
    }
   ],
   "source": [
    "g1.glz.Glaze.loc[0]"
   ]
  },
  {
   "cell_type": "code",
   "execution_count": 63,
   "metadata": {},
   "outputs": [
    {
     "data": {
      "text/html": [
       "<div>\n",
       "<style scoped>\n",
       "    .dataframe tbody tr th:only-of-type {\n",
       "        vertical-align: middle;\n",
       "    }\n",
       "\n",
       "    .dataframe tbody tr th {\n",
       "        vertical-align: top;\n",
       "    }\n",
       "\n",
       "    .dataframe thead th {\n",
       "        text-align: right;\n",
       "    }\n",
       "</style>\n",
       "<table border=\"1\" class=\"dataframe\">\n",
       "  <thead>\n",
       "    <tr style=\"text-align: right;\">\n",
       "      <th></th>\n",
       "      <th>@id</th>\n",
       "      <th>Name</th>\n",
       "      <th>U-value</th>\n",
       "      <th>Glaze</th>\n",
       "      <th>Gap</th>\n",
       "      <th>Frame</th>\n",
       "      <th>U-value_WPerSquareMeterK</th>\n",
       "      <th>FrameFactor</th>\n",
       "      <th>model</th>\n",
       "    </tr>\n",
       "  </thead>\n",
       "  <tbody>\n",
       "    <tr>\n",
       "      <th>0</th>\n",
       "      <td>STD_EXT2</td>\n",
       "      <td>6667 Rodeca Panels</td>\n",
       "      <td>{'@unit': 'WPerSquareMeterK', '#text': '0.7124...</td>\n",
       "      <td>[{'@id': 'STD_EXT2-layer-1', 'Name': '[STD_EXW...</td>\n",
       "      <td>{'@id': 'STD_EXT2-layer-2', '@gas': 'Air', 'Th...</td>\n",
       "      <td>{'Absorptance': {'@unit': 'Fraction', '@type':...</td>\n",
       "      <td>0.71</td>\n",
       "      <td>NaN</td>\n",
       "      <td>eg_gbxml</td>\n",
       "    </tr>\n",
       "    <tr>\n",
       "      <th>1</th>\n",
       "      <td>STD_EXTW</td>\n",
       "      <td>6667 Security Glazing</td>\n",
       "      <td>{'@unit': 'WPerSquareMeterK', '#text': '1.8418...</td>\n",
       "      <td>[{'@id': 'STD_EXTW-layer-1', 'Name': '[STD_EXW...</td>\n",
       "      <td>{'@id': 'STD_EXTW-layer-2', '@gas': 'Air', 'Th...</td>\n",
       "      <td>{'Absorptance': {'@unit': 'Fraction', '@type':...</td>\n",
       "      <td>1.84</td>\n",
       "      <td>NaN</td>\n",
       "      <td>eg_gbxml</td>\n",
       "    </tr>\n",
       "  </tbody>\n",
       "</table>\n",
       "</div>"
      ],
      "text/plain": [
       "        @id                   Name  \\\n",
       "0  STD_EXT2     6667 Rodeca Panels   \n",
       "1  STD_EXTW  6667 Security Glazing   \n",
       "\n",
       "                                             U-value  \\\n",
       "0  {'@unit': 'WPerSquareMeterK', '#text': '0.7124...   \n",
       "1  {'@unit': 'WPerSquareMeterK', '#text': '1.8418...   \n",
       "\n",
       "                                               Glaze  \\\n",
       "0  [{'@id': 'STD_EXT2-layer-1', 'Name': '[STD_EXW...   \n",
       "1  [{'@id': 'STD_EXTW-layer-1', 'Name': '[STD_EXW...   \n",
       "\n",
       "                                                 Gap  \\\n",
       "0  {'@id': 'STD_EXT2-layer-2', '@gas': 'Air', 'Th...   \n",
       "1  {'@id': 'STD_EXTW-layer-2', '@gas': 'Air', 'Th...   \n",
       "\n",
       "                                               Frame  \\\n",
       "0  {'Absorptance': {'@unit': 'Fraction', '@type':...   \n",
       "1  {'Absorptance': {'@unit': 'Fraction', '@type':...   \n",
       "\n",
       "   U-value_WPerSquareMeterK  FrameFactor     model  \n",
       "0                      0.71          NaN  eg_gbxml  \n",
       "1                      1.84          NaN  eg_gbxml  "
      ]
     },
     "execution_count": 63,
     "metadata": {},
     "output_type": "execute_result"
    }
   ],
   "source": [
    "g1.glz"
   ]
  },
  {
   "cell_type": "code",
   "execution_count": 64,
   "metadata": {},
   "outputs": [
    {
     "data": {
      "text/html": [
       "<div>\n",
       "<style scoped>\n",
       "    .dataframe tbody tr th:only-of-type {\n",
       "        vertical-align: middle;\n",
       "    }\n",
       "\n",
       "    .dataframe tbody tr th {\n",
       "        vertical-align: top;\n",
       "    }\n",
       "\n",
       "    .dataframe thead th {\n",
       "        text-align: right;\n",
       "    }\n",
       "</style>\n",
       "<table border=\"1\" class=\"dataframe\">\n",
       "  <thead>\n",
       "    <tr style=\"text-align: right;\">\n",
       "      <th></th>\n",
       "      <th>@id</th>\n",
       "      <th>Name</th>\n",
       "      <th>U-value</th>\n",
       "      <th>LayerId</th>\n",
       "      <th>U-value_WPerSquareMeterK</th>\n",
       "      <th>model</th>\n",
       "      <th>Glaze</th>\n",
       "      <th>Gap</th>\n",
       "      <th>Frame</th>\n",
       "      <th>FrameFactor</th>\n",
       "    </tr>\n",
       "  </thead>\n",
       "  <tbody>\n",
       "    <tr>\n",
       "      <th>0</th>\n",
       "      <td>STD_CEIL</td>\n",
       "      <td>6667 Internal Ceiling/Floor</td>\n",
       "      <td>{'@unit': 'WPerSquareMeterK', '#text': '1.0865...</td>\n",
       "      <td>layer-STD_DOOR</td>\n",
       "      <td>1.09</td>\n",
       "      <td>eg_gbxml</td>\n",
       "      <td>NaN</td>\n",
       "      <td>NaN</td>\n",
       "      <td>NaN</td>\n",
       "      <td>NaN</td>\n",
       "    </tr>\n",
       "    <tr>\n",
       "      <th>1</th>\n",
       "      <td>STD_DOOR</td>\n",
       "      <td>6667 Door</td>\n",
       "      <td>{'@unit': 'WPerSquareMeterK', '#text': '2.2000...</td>\n",
       "      <td>layer-STD_DOOR</td>\n",
       "      <td>2.20</td>\n",
       "      <td>eg_gbxml</td>\n",
       "      <td>NaN</td>\n",
       "      <td>NaN</td>\n",
       "      <td>NaN</td>\n",
       "      <td>NaN</td>\n",
       "    </tr>\n",
       "    <tr>\n",
       "      <th>2</th>\n",
       "      <td>STD_FLO1</td>\n",
       "      <td>6667 Exposed Floor</td>\n",
       "      <td>{'@unit': 'WPerSquareMeterK', '#text': '0.1400...</td>\n",
       "      <td>layer-STD_DOOR</td>\n",
       "      <td>0.14</td>\n",
       "      <td>eg_gbxml</td>\n",
       "      <td>NaN</td>\n",
       "      <td>NaN</td>\n",
       "      <td>NaN</td>\n",
       "      <td>NaN</td>\n",
       "    </tr>\n",
       "    <tr>\n",
       "      <th>3</th>\n",
       "      <td>STD_PART</td>\n",
       "      <td>6667 Internal Partition</td>\n",
       "      <td>{'@unit': 'WPerSquareMeterK', '#text': '1.7887...</td>\n",
       "      <td>layer-STD_DOOR</td>\n",
       "      <td>1.79</td>\n",
       "      <td>eg_gbxml</td>\n",
       "      <td>NaN</td>\n",
       "      <td>NaN</td>\n",
       "      <td>NaN</td>\n",
       "      <td>NaN</td>\n",
       "    </tr>\n",
       "    <tr>\n",
       "      <th>4</th>\n",
       "      <td>STD_ROOF</td>\n",
       "      <td>6667 Roof</td>\n",
       "      <td>{'@unit': 'WPerSquareMeterK', '#text': '0.1400...</td>\n",
       "      <td>layer-STD_DOOR</td>\n",
       "      <td>0.14</td>\n",
       "      <td>eg_gbxml</td>\n",
       "      <td>NaN</td>\n",
       "      <td>NaN</td>\n",
       "      <td>NaN</td>\n",
       "      <td>NaN</td>\n",
       "    </tr>\n",
       "    <tr>\n",
       "      <th>5</th>\n",
       "      <td>STD_WAL1</td>\n",
       "      <td>6667 External Wall</td>\n",
       "      <td>{'@unit': 'WPerSquareMeterK', '#text': '0.1800...</td>\n",
       "      <td>layer-STD_DOOR</td>\n",
       "      <td>0.18</td>\n",
       "      <td>eg_gbxml</td>\n",
       "      <td>NaN</td>\n",
       "      <td>NaN</td>\n",
       "      <td>NaN</td>\n",
       "      <td>NaN</td>\n",
       "    </tr>\n",
       "    <tr>\n",
       "      <th>6</th>\n",
       "      <td>UNKNOWN_OP</td>\n",
       "      <td>Unknown construction</td>\n",
       "      <td>na</td>\n",
       "      <td>layer-STD_DOOR</td>\n",
       "      <td>NaN</td>\n",
       "      <td>eg_gbxml</td>\n",
       "      <td>NaN</td>\n",
       "      <td>NaN</td>\n",
       "      <td>NaN</td>\n",
       "      <td>NaN</td>\n",
       "    </tr>\n",
       "    <tr>\n",
       "      <th>7</th>\n",
       "      <td>STD_EXT2</td>\n",
       "      <td>6667 Rodeca Panels</td>\n",
       "      <td>{'@unit': 'WPerSquareMeterK', '#text': '0.7124...</td>\n",
       "      <td>NaN</td>\n",
       "      <td>0.71</td>\n",
       "      <td>eg_gbxml</td>\n",
       "      <td>[{'@id': 'STD_EXT2-layer-1', 'Name': '[STD_EXW...</td>\n",
       "      <td>{'@id': 'STD_EXT2-layer-2', '@gas': 'Air', 'Th...</td>\n",
       "      <td>{'Absorptance': {'@unit': 'Fraction', '@type':...</td>\n",
       "      <td>NaN</td>\n",
       "    </tr>\n",
       "    <tr>\n",
       "      <th>8</th>\n",
       "      <td>STD_EXTW</td>\n",
       "      <td>6667 Security Glazing</td>\n",
       "      <td>{'@unit': 'WPerSquareMeterK', '#text': '1.8418...</td>\n",
       "      <td>NaN</td>\n",
       "      <td>1.84</td>\n",
       "      <td>eg_gbxml</td>\n",
       "      <td>[{'@id': 'STD_EXTW-layer-1', 'Name': '[STD_EXW...</td>\n",
       "      <td>{'@id': 'STD_EXTW-layer-2', '@gas': 'Air', 'Th...</td>\n",
       "      <td>{'Absorptance': {'@unit': 'Fraction', '@type':...</td>\n",
       "      <td>NaN</td>\n",
       "    </tr>\n",
       "  </tbody>\n",
       "</table>\n",
       "</div>"
      ],
      "text/plain": [
       "          @id                         Name  \\\n",
       "0    STD_CEIL  6667 Internal Ceiling/Floor   \n",
       "1    STD_DOOR                    6667 Door   \n",
       "2    STD_FLO1           6667 Exposed Floor   \n",
       "3    STD_PART      6667 Internal Partition   \n",
       "4    STD_ROOF                    6667 Roof   \n",
       "5    STD_WAL1           6667 External Wall   \n",
       "6  UNKNOWN_OP         Unknown construction   \n",
       "7    STD_EXT2           6667 Rodeca Panels   \n",
       "8    STD_EXTW        6667 Security Glazing   \n",
       "\n",
       "                                             U-value         LayerId  \\\n",
       "0  {'@unit': 'WPerSquareMeterK', '#text': '1.0865...  layer-STD_DOOR   \n",
       "1  {'@unit': 'WPerSquareMeterK', '#text': '2.2000...  layer-STD_DOOR   \n",
       "2  {'@unit': 'WPerSquareMeterK', '#text': '0.1400...  layer-STD_DOOR   \n",
       "3  {'@unit': 'WPerSquareMeterK', '#text': '1.7887...  layer-STD_DOOR   \n",
       "4  {'@unit': 'WPerSquareMeterK', '#text': '0.1400...  layer-STD_DOOR   \n",
       "5  {'@unit': 'WPerSquareMeterK', '#text': '0.1800...  layer-STD_DOOR   \n",
       "6                                                 na  layer-STD_DOOR   \n",
       "7  {'@unit': 'WPerSquareMeterK', '#text': '0.7124...             NaN   \n",
       "8  {'@unit': 'WPerSquareMeterK', '#text': '1.8418...             NaN   \n",
       "\n",
       "   U-value_WPerSquareMeterK     model  \\\n",
       "0                      1.09  eg_gbxml   \n",
       "1                      2.20  eg_gbxml   \n",
       "2                      0.14  eg_gbxml   \n",
       "3                      1.79  eg_gbxml   \n",
       "4                      0.14  eg_gbxml   \n",
       "5                      0.18  eg_gbxml   \n",
       "6                       NaN  eg_gbxml   \n",
       "7                      0.71  eg_gbxml   \n",
       "8                      1.84  eg_gbxml   \n",
       "\n",
       "                                               Glaze  \\\n",
       "0                                                NaN   \n",
       "1                                                NaN   \n",
       "2                                                NaN   \n",
       "3                                                NaN   \n",
       "4                                                NaN   \n",
       "5                                                NaN   \n",
       "6                                                NaN   \n",
       "7  [{'@id': 'STD_EXT2-layer-1', 'Name': '[STD_EXW...   \n",
       "8  [{'@id': 'STD_EXTW-layer-1', 'Name': '[STD_EXW...   \n",
       "\n",
       "                                                 Gap  \\\n",
       "0                                                NaN   \n",
       "1                                                NaN   \n",
       "2                                                NaN   \n",
       "3                                                NaN   \n",
       "4                                                NaN   \n",
       "5                                                NaN   \n",
       "6                                                NaN   \n",
       "7  {'@id': 'STD_EXT2-layer-2', '@gas': 'Air', 'Th...   \n",
       "8  {'@id': 'STD_EXTW-layer-2', '@gas': 'Air', 'Th...   \n",
       "\n",
       "                                               Frame  FrameFactor  \n",
       "0                                                NaN          NaN  \n",
       "1                                                NaN          NaN  \n",
       "2                                                NaN          NaN  \n",
       "3                                                NaN          NaN  \n",
       "4                                                NaN          NaN  \n",
       "5                                                NaN          NaN  \n",
       "6                                                NaN          NaN  \n",
       "7  {'Absorptance': {'@unit': 'Fraction', '@type':...          NaN  \n",
       "8  {'Absorptance': {'@unit': 'Fraction', '@type':...          NaN  "
      ]
     },
     "execution_count": 64,
     "metadata": {},
     "output_type": "execute_result"
    }
   ],
   "source": [
    "g1.cnstrn"
   ]
  },
  {
   "cell_type": "code",
   "execution_count": null,
   "metadata": {},
   "outputs": [],
   "source": []
  },
  {
   "cell_type": "code",
   "execution_count": null,
   "metadata": {},
   "outputs": [],
   "source": []
  }
 ],
 "metadata": {
  "kernelspec": {
   "display_name": "Python 3",
   "language": "python",
   "name": "python3"
  },
  "language_info": {
   "codemirror_mode": {
    "name": "ipython",
    "version": 3
   },
   "file_extension": ".py",
   "mimetype": "text/x-python",
   "name": "python",
   "nbconvert_exporter": "python",
   "pygments_lexer": "ipython3",
   "version": "3.7.7"
  }
 },
 "nbformat": 4,
 "nbformat_minor": 4
}
