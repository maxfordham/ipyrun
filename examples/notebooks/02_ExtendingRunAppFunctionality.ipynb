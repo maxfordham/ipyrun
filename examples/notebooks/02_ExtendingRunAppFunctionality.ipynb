{
 "cells": [
  {
   "cell_type": "code",
   "execution_count": 2,
   "metadata": {},
   "outputs": [],
   "source": [
    "import os\n",
    "NBFDIR = os.path.dirname(os.path.realpath('__file__'))\n",
    "import pandas as pd\n",
    "from ipyrun.ipyrun import RunApp, RunApps\n",
    "from pprint import pprint"
   ]
  },
  {
   "cell_type": "markdown",
   "metadata": {},
   "source": [
    "# Extending RunApp Functionality"
   ]
  },
  {
   "cell_type": "markdown",
   "metadata": {},
   "source": [
    "Sometimes we would like to continue to develop the interface, to lets say provide more user interaction and feedback, but still want it to fit within the management configuration of the RunApp. \n",
    "This can be done easily by extending the classes within the RunApp. It will likely require you to have a dig around the core code to understand how it works, but"
   ]
  },
  {
   "cell_type": "markdown",
   "metadata": {},
   "source": [
    "## Using the simple RunApp from the example in: 00_MakingARunAppWidget "
   ]
  },
  {
   "cell_type": "code",
   "execution_count": 3,
   "metadata": {},
   "outputs": [
    {
     "data": {
      "application/vnd.jupyter.widget-view+json": {
       "model_id": "465fd9e88c1046e0a6886adae0f6dc38",
       "version_major": 2,
       "version_minor": 0
      },
      "text/plain": [
       "HBox(children=(Checkbox(value=False, indent=False, layout=Layout(height='30px', max_width='30px', padding='3px…"
      ]
     },
     "metadata": {},
     "output_type": "display_data"
    },
    {
     "data": {
      "application/vnd.jupyter.widget-view+json": {
       "model_id": "5828fd05a2b547269ef08cba7aa444ed",
       "version_major": 2,
       "version_minor": 0
      },
      "text/plain": [
       "Output()"
      ]
     },
     "metadata": {},
     "output_type": "display_data"
    }
   ],
   "source": [
    "\n",
    "fpth_script = r'..\\scripts\\expansion_vessel_sizing.py'\n",
    "config={\n",
    "    'fpth_script':os.path.realpath(fpth_script),\n",
    "    'fdir':NBFDIR,\n",
    "    }  \n",
    "r = RunApp(config)\n",
    "r "
   ]
  },
  {
   "cell_type": "code",
   "execution_count": null,
   "metadata": {},
   "outputs": [],
   "source": []
  },
  {
   "cell_type": "code",
   "execution_count": null,
   "metadata": {},
   "outputs": [],
   "source": []
  },
  {
   "cell_type": "markdown",
   "metadata": {},
   "source": [
    "## creating a batch\n",
    "\n",
    "to create a batch you simply create a list of config dicts.  \n",
    "recall the configuration that is set up when the RunApp is initiated:\n"
   ]
  },
  {
   "cell_type": "code",
   "execution_count": 3,
   "metadata": {},
   "outputs": [
    {
     "name": "stdout",
     "output_type": "stream",
     "text": [
      "{'fdir': 'C:\\\\engDev\\\\git_mf\\\\ipyrun\\\\examples\\\\notebooks',\n",
      " 'fdir_config': 'C:\\\\engDev\\\\git_mf\\\\ipyrun\\\\examples\\\\notebooks\\\\appdata\\\\config',\n",
      " 'fdir_inputs': 'C:\\\\engDev\\\\git_mf\\\\ipyrun\\\\examples\\\\notebooks\\\\appdata\\\\inputs',\n",
      " 'fdir_inputs_archive': 'C:\\\\engDev\\\\git_mf\\\\ipyrun\\\\examples\\\\notebooks\\\\appdata\\\\inputs\\\\archive',\n",
      " 'fdir_log': 'C:\\\\engDev\\\\git_mf\\\\ipyrun\\\\examples\\\\notebooks\\\\appdata\\\\log',\n",
      " 'fdir_outputs': ['C:\\\\engDev\\\\git_mf\\\\ipyrun\\\\examples\\\\notebooks'],\n",
      " 'fnm_config': 'config-expansion_vessel_sizing.json',\n",
      " 'fnm_log': 'log-expansion_vessel_sizing.csv',\n",
      " 'fpth_config': 'C:\\\\engDev\\\\git_mf\\\\ipyrun\\\\examples\\\\notebooks\\\\appdata\\\\config\\\\config-expansion_vessel_sizing.json',\n",
      " 'fpth_inputs': 'C:\\\\engDev\\\\git_mf\\\\ipyrun\\\\examples\\\\notebooks\\\\appdata\\\\inputs\\\\inputs-expansion_vessel_sizing.json',\n",
      " 'fpth_inputs_options': {'project': {'fdir': 'C:\\\\engDev\\\\git_mf\\\\ipyrun\\\\examples\\\\notebooks\\\\appdata\\\\inputs',\n",
      "                                     'fpths': ['C:\\\\engDev\\\\git_mf\\\\ipyrun\\\\examples\\\\notebooks\\\\appdata\\\\inputs\\\\inputs-expansion_vessel_sizing.json',\n",
      "                                               'C:\\\\engDev\\\\git_mf\\\\ipyrun\\\\examples\\\\notebooks\\\\appdata\\\\inputs\\\\archive\\\\20200612_1731-jg-inputs-expansion_vessel_sizing.json',\n",
      "                                               'C:\\\\engDev\\\\git_mf\\\\ipyrun\\\\examples\\\\notebooks\\\\appdata\\\\inputs\\\\archive\\\\20200612_1817-jg-inputs-expansion_vessel_sizing.json',\n",
      "                                               'C:\\\\engDev\\\\git_mf\\\\ipyrun\\\\examples\\\\notebooks\\\\appdata\\\\inputs\\\\archive\\\\20200612_1818-jg-inputs-expansion_vessel_sizing.json',\n",
      "                                               'C:\\\\engDev\\\\git_mf\\\\ipyrun\\\\examples\\\\notebooks\\\\appdata\\\\inputs\\\\archive\\\\20200612_1819-jg-inputs-expansion_vessel_sizing.json',\n",
      "                                               'C:\\\\engDev\\\\git_mf\\\\ipyrun\\\\examples\\\\notebooks\\\\appdata\\\\inputs\\\\archive\\\\20200612_1900-jg-inputs-expansion_vessel_sizing.json',\n",
      "                                               'C:\\\\engDev\\\\git_mf\\\\ipyrun\\\\examples\\\\notebooks\\\\appdata\\\\inputs\\\\archive\\\\20200615_2211-jg-inputs-expansion_vessel_sizing.json',\n",
      "                                               'C:\\\\engDev\\\\git_mf\\\\ipyrun\\\\examples\\\\notebooks\\\\appdata\\\\inputs\\\\archive\\\\20200616_1020-jg-inputs-expansion_vessel_sizing.json',\n",
      "                                               'C:\\\\engDev\\\\git_mf\\\\ipyrun\\\\examples\\\\notebooks\\\\appdata\\\\inputs\\\\archive\\\\20200616_1021-jg-inputs-expansion_vessel_sizing.json']},\n",
      "                         'template': {'fdir': 'C:\\\\engDev\\\\git_mf\\\\ipyrun\\\\examples\\\\scripts\\\\template_inputs',\n",
      "                                      'fpths': ['C:\\\\engDev\\\\git_mf\\\\ipyrun\\\\examples\\\\scripts\\\\template_inputs\\\\inputs-expansion_vessel_sizing.json']}},\n",
      " 'fpth_log': 'C:\\\\engDev\\\\git_mf\\\\ipyrun\\\\examples\\\\notebooks\\\\appdata\\\\log\\\\log-expansion_vessel_sizing.csv',\n",
      " 'fpth_script': 'C:\\\\engDev\\\\git_mf\\\\ipyrun\\\\examples\\\\scripts\\\\expansion_vessel_sizing.py',\n",
      " 'fpths_outputs': {'0': 'C:\\\\engDev\\\\git_mf\\\\ipyrun\\\\examples\\\\notebooks\\\\expansion_vessel_sizing.csv'},\n",
      " 'jobno': 'C:\\\\e',\n",
      " 'pretty_name': 'expansion_vessel_sizing',\n",
      " 'process_name': 'expansion_vessel_sizing',\n",
      " 'script_outputs': {'0': {'description': 'a simple calc for sizing expansion '\n",
      "                                         'vessels. could be expanded to size '\n",
      "                                         'many vessels.',\n",
      "                          'fdir': '.',\n",
      "                          'fnm': 'expansion_vessel_sizing.csv'}}}\n"
     ]
    }
   ],
   "source": [
    "pprint(r.config)"
   ]
  },
  {
   "cell_type": "markdown",
   "metadata": {},
   "source": [
    "the \"process_name\" variable by default is simply the filename of the script. this means that if we are creating a batch that uses the same script with different inputs, we need to manually assign different process_name's:"
   ]
  },
  {
   "cell_type": "code",
   "execution_count": 4,
   "metadata": {},
   "outputs": [],
   "source": [
    "config={\n",
    "    'fpth_script':os.path.realpath(fpth_script),\n",
    "    'fdir':NBFDIR,\n",
    "    }  \n",
    "iters = 3\n",
    "batch = []\n",
    "for n in range(0,iters):\n",
    "    tmp = config.copy()\n",
    "    tmp.update({'process_name':os.path.splitext(os.path.basename(config['fpth_script']))[0] + '_' + str(n)})\n",
    "    batch.append(tmp)"
   ]
  },
  {
   "cell_type": "code",
   "execution_count": 5,
   "metadata": {},
   "outputs": [
    {
     "data": {
      "application/vnd.jupyter.widget-view+json": {
       "model_id": "56ad852a331f4b588a4850969e01f799",
       "version_major": 2,
       "version_minor": 0
      },
      "text/plain": [
       "HBox(children=(Button(icon='eye-slash', layout=Layout(width='5%'), style=ButtonStyle(font_weight='bold'), tool…"
      ]
     },
     "metadata": {},
     "output_type": "display_data"
    },
    {
     "data": {
      "application/vnd.jupyter.widget-view+json": {
       "model_id": "499457462ca04a099fa3fdf9b43408bf",
       "version_major": 2,
       "version_minor": 0
      },
      "text/plain": [
       "Output()"
      ]
     },
     "metadata": {},
     "output_type": "display_data"
    },
    {
     "data": {
      "application/vnd.jupyter.widget-view+json": {
       "model_id": "a9a1d7200d11482c85484b88aef09268",
       "version_major": 2,
       "version_minor": 0
      },
      "text/plain": [
       "HBox(children=(Checkbox(value=False, indent=False, layout=Layout(height='30px', max_width='30px', padding='3px…"
      ]
     },
     "metadata": {},
     "output_type": "display_data"
    },
    {
     "data": {
      "application/vnd.jupyter.widget-view+json": {
       "model_id": "0dc1ef5bfdeb4c23a825babf559b0377",
       "version_major": 2,
       "version_minor": 0
      },
      "text/plain": [
       "Output()"
      ]
     },
     "metadata": {},
     "output_type": "display_data"
    },
    {
     "data": {
      "application/vnd.jupyter.widget-view+json": {
       "model_id": "a4627c921c2a4bbc8a550dee6caf1951",
       "version_major": 2,
       "version_minor": 0
      },
      "text/plain": [
       "HBox(children=(Checkbox(value=False, indent=False, layout=Layout(height='30px', max_width='30px', padding='3px…"
      ]
     },
     "metadata": {},
     "output_type": "display_data"
    },
    {
     "data": {
      "application/vnd.jupyter.widget-view+json": {
       "model_id": "d860d26aa37847aab9c8c99eaebe70ce",
       "version_major": 2,
       "version_minor": 0
      },
      "text/plain": [
       "Output()"
      ]
     },
     "metadata": {},
     "output_type": "display_data"
    },
    {
     "data": {
      "application/vnd.jupyter.widget-view+json": {
       "model_id": "5f805a7dc4654418b56246f1d3b96cbf",
       "version_major": 2,
       "version_minor": 0
      },
      "text/plain": [
       "HBox(children=(Checkbox(value=False, indent=False, layout=Layout(height='30px', max_width='30px', padding='3px…"
      ]
     },
     "metadata": {},
     "output_type": "display_data"
    },
    {
     "data": {
      "application/vnd.jupyter.widget-view+json": {
       "model_id": "f3630f4a112542d494b4e0eab79a403b",
       "version_major": 2,
       "version_minor": 0
      },
      "text/plain": [
       "Output()"
      ]
     },
     "metadata": {},
     "output_type": "display_data"
    }
   ],
   "source": [
    "RunApps(batch)"
   ]
  },
  {
   "cell_type": "markdown",
   "metadata": {},
   "source": [
    "__note__ if all the scripts are different the additional step of manually assigning the process names is not required. we should also probably "
   ]
  }
 ],
 "metadata": {
  "kernelspec": {
   "display_name": "Python [conda env:mf_main] *",
   "language": "python",
   "name": "conda-env-mf_main-py"
  },
  "language_info": {
   "codemirror_mode": {
    "name": "ipython",
    "version": 3
   },
   "file_extension": ".py",
   "mimetype": "text/x-python",
   "name": "python",
   "nbconvert_exporter": "python",
   "pygments_lexer": "ipython3",
   "version": "3.7.7"
  },
  "widgets": {
   "application/vnd.jupyter.widget-state+json": {
    "state": {
     "14b1694dad6441db977c6f82c51a79c0": {
      "model_module": "@jupyter-widgets/controls",
      "model_module_version": "1.5.0",
      "model_name": "ButtonStyleModel",
      "state": {
       "font_weight": "bold"
      }
     },
     "168b370811664a19a1e0e856d523f145": {
      "model_module": "@jupyter-widgets/controls",
      "model_module_version": "1.5.0",
      "model_name": "ButtonStyleModel",
      "state": {
       "font_weight": "bold"
      }
     },
     "1b10e46838234f6eafd47a577f901a25": {
      "model_module": "@jupyter-widgets/base",
      "model_module_version": "1.2.0",
      "model_name": "LayoutModel",
      "state": {
       "height": "30px",
       "width": "auto"
      }
     },
     "1d62465129e340c9a542c804e43bf4b9": {
      "model_module": "@jupyter-widgets/base",
      "model_module_version": "1.2.0",
      "model_name": "LayoutModel",
      "state": {
       "height": "30px",
       "width": "auto"
      }
     },
     "1dff4c730aaa47088fb76767c6bec906": {
      "model_module": "@jupyter-widgets/base",
      "model_module_version": "1.2.0",
      "model_name": "LayoutModel",
      "state": {
       "width": "5%"
      }
     },
     "269461d7e29a44ae8430b2fbdc3924a2": {
      "model_module": "@jupyter-widgets/controls",
      "model_module_version": "1.5.0",
      "model_name": "ButtonModel",
      "state": {
       "button_style": "info",
       "description": "show guide",
       "layout": "IPY_MODEL_fc77284b59aa47b8b59d0fa50629f27a",
       "style": "IPY_MODEL_168b370811664a19a1e0e856d523f145",
       "tooltip": "read the \"docstring\", ie. the documentation that was written to accompany the script"
      }
     },
     "2a93c2c70d0f4af586922439591c5829": {
      "model_module": "@jupyter-widgets/base",
      "model_module_version": "1.2.0",
      "model_name": "LayoutModel",
      "state": {}
     },
     "303c80d827e54960bedccc93cb64028e": {
      "model_module": "@jupyter-widgets/controls",
      "model_module_version": "1.5.0",
      "model_name": "ButtonModel",
      "state": {
       "button_style": "info",
       "description": "show source code",
       "layout": "IPY_MODEL_88517a9e47784eed8245c311c52bda6f",
       "style": "IPY_MODEL_d866627b7b564998929ff49496d0af0c",
       "tooltip": "shows the raw python code in the preview window below"
      }
     },
     "33325bdc28554fbcbf727fb8115e8cca": {
      "model_module": "@jupyter-widgets/base",
      "model_module_version": "1.2.0",
      "model_name": "LayoutModel",
      "state": {
       "border": "0px",
       "margin": "0px",
       "padding": "0px"
      }
     },
     "465fd9e88c1046e0a6886adae0f6dc38": {
      "model_module": "@jupyter-widgets/controls",
      "model_module_version": "1.5.0",
      "model_name": "HBoxModel",
      "state": {
       "children": [
        "IPY_MODEL_7a6c1368b78c41848d18db2acd553646",
        "IPY_MODEL_ac3a83a9e7394c89bdb116f5033ebacc"
       ],
       "layout": "IPY_MODEL_33325bdc28554fbcbf727fb8115e8cca"
      }
     },
     "47910cbe561e40b4b7591fa57e23e9f6": {
      "model_module": "@jupyter-widgets/controls",
      "model_module_version": "1.5.0",
      "model_name": "VBoxModel",
      "state": {
       "children": [
        "IPY_MODEL_f37a75c07f704e2e9b88804d303134da",
        "IPY_MODEL_9ca224cf5ba44e5a941abe0ec748006d"
       ],
       "layout": "IPY_MODEL_d186d0a3cb67430cb6a9c8d1f32d0e58"
      }
     },
     "484180a4bec7404bba281101175512f4": {
      "model_module": "@jupyter-widgets/controls",
      "model_module_version": "1.5.0",
      "model_name": "SelectMultipleModel",
      "state": {
       "_options_labels": [
        "C:\\engDev\\git_mf\\ipyrun\\examples\\notebooks\\expansion_vessel_sizing.csv"
       ],
       "description": "outputs",
       "index": [],
       "layout": "IPY_MODEL_c65dcfb82c5e40e98122cb253718ebb5",
       "rows": 4,
       "style": "IPY_MODEL_8a819b6b42a04784a49837a39ee2c702"
      }
     },
     "4be2d2b524444cca8b81738b7cab380b": {
      "model_module": "@jupyter-widgets/controls",
      "model_module_version": "1.5.0",
      "model_name": "ButtonStyleModel",
      "state": {
       "font_weight": "bold"
      }
     },
     "4ed84f46cdd94c52982b9952c00c7d5f": {
      "model_module": "@jupyter-widgets/controls",
      "model_module_version": "1.5.0",
      "model_name": "ButtonModel",
      "state": {
       "button_style": "info",
       "description": "preview outputs",
       "layout": "IPY_MODEL_b760ce0dea0346a7ac888efa6e3bc543",
       "style": "IPY_MODEL_712f6112eefb4b87b05a2a89f0591cc8",
       "tooltip": "show a preview of the output files generated when the script runs"
      }
     },
     "573d07819fba456887f9bd6adb53032c": {
      "model_module": "@jupyter-widgets/base",
      "model_module_version": "1.2.0",
      "model_name": "LayoutModel",
      "state": {}
     },
     "5828fd05a2b547269ef08cba7aa444ed": {
      "model_module": "@jupyter-widgets/output",
      "model_module_version": "1.0.0",
      "model_name": "OutputModel",
      "state": {
       "layout": "IPY_MODEL_e631fc4e4d6a4d83b53cad24aa9ab2ba"
      }
     },
     "5fe76188ff5c46b2bb5cf8ac5e867390": {
      "model_module": "@jupyter-widgets/controls",
      "model_module_version": "1.5.0",
      "model_name": "HBoxModel",
      "state": {
       "children": [
        "IPY_MODEL_6dc7ec150f354191a001d05e590dd9f7",
        "IPY_MODEL_836ccf109d7e41c1834a848d6874e25c",
        "IPY_MODEL_269461d7e29a44ae8430b2fbdc3924a2",
        "IPY_MODEL_6c25b518477845c780666eaa04e5129d",
        "IPY_MODEL_8c858123eff84eb2a699a848e9e7fb97",
        "IPY_MODEL_4ed84f46cdd94c52982b9952c00c7d5f",
        "IPY_MODEL_c8a92ba9fe5f4126b97bb77f7358fb0e"
       ],
       "layout": "IPY_MODEL_9e6cdb810a7c45e38be3028f0938cd97"
      }
     },
     "622946bd618d40b89624a21381fbecb8": {
      "model_module": "@jupyter-widgets/controls",
      "model_module_version": "1.5.0",
      "model_name": "ButtonStyleModel",
      "state": {
       "font_weight": "bold"
      }
     },
     "6ac7ada6e7f548c19f66d1d601a43018": {
      "model_module": "@jupyter-widgets/controls",
      "model_module_version": "1.5.0",
      "model_name": "ButtonStyleModel",
      "state": {
       "font_weight": "bold"
      }
     },
     "6c25b518477845c780666eaa04e5129d": {
      "model_module": "@jupyter-widgets/controls",
      "model_module_version": "1.5.0",
      "model_name": "ButtonModel",
      "state": {
       "button_style": "warning",
       "description": "edit inputs",
       "layout": "IPY_MODEL_80696816dfb04ddb86bae2e48c846c23",
       "style": "IPY_MODEL_4be2d2b524444cca8b81738b7cab380b",
       "tooltip": "edit the user input information that is used when the script is executed"
      }
     },
     "6d0042add82c4bf1a9b9d6b64d4812cb": {
      "model_module": "@jupyter-widgets/controls",
      "model_module_version": "1.5.0",
      "model_name": "DescriptionStyleModel",
      "state": {
       "description_width": ""
      }
     },
     "6dc7ec150f354191a001d05e590dd9f7": {
      "model_module": "@jupyter-widgets/controls",
      "model_module_version": "1.5.0",
      "model_name": "ButtonModel",
      "state": {
       "icon": "eye-slash",
       "layout": "IPY_MODEL_1dff4c730aaa47088fb76767c6bec906",
       "style": "IPY_MODEL_6ac7ada6e7f548c19f66d1d601a43018",
       "tooltip": "removes temporary output view"
      }
     },
     "712f6112eefb4b87b05a2a89f0591cc8": {
      "model_module": "@jupyter-widgets/controls",
      "model_module_version": "1.5.0",
      "model_name": "ButtonStyleModel",
      "state": {
       "font_weight": "bold"
      }
     },
     "771c8aae3113473ca56188e0cf6f5fdf": {
      "model_module": "@jupyter-widgets/base",
      "model_module_version": "1.2.0",
      "model_name": "LayoutModel",
      "state": {
       "height": "30px",
       "max_width": "30px",
       "padding": "3px"
      }
     },
     "7861d61d04834ca9959ec71addd8f10a": {
      "model_module": "@jupyter-widgets/base",
      "model_module_version": "1.2.0",
      "model_name": "LayoutModel",
      "state": {}
     },
     "7a6c1368b78c41848d18db2acd553646": {
      "model_module": "@jupyter-widgets/controls",
      "model_module_version": "1.5.0",
      "model_name": "CheckboxModel",
      "state": {
       "disabled": false,
       "indent": false,
       "layout": "IPY_MODEL_771c8aae3113473ca56188e0cf6f5fdf",
       "style": "IPY_MODEL_6d0042add82c4bf1a9b9d6b64d4812cb",
       "value": false
      }
     },
     "7e5f315cac7f4dd1830b21b35e1a85c3": {
      "model_module": "@jupyter-widgets/controls",
      "model_module_version": "1.5.0",
      "model_name": "DescriptionStyleModel",
      "state": {
       "description_width": ""
      }
     },
     "80696816dfb04ddb86bae2e48c846c23": {
      "model_module": "@jupyter-widgets/base",
      "model_module_version": "1.2.0",
      "model_name": "LayoutModel",
      "state": {}
     },
     "836ccf109d7e41c1834a848d6874e25c": {
      "model_module": "@jupyter-widgets/controls",
      "model_module_version": "1.5.0",
      "model_name": "ButtonModel",
      "state": {
       "icon": "question-circle",
       "layout": "IPY_MODEL_de64791141c24fc99de995588c5eaa89",
       "style": "IPY_MODEL_14b1694dad6441db977c6f82c51a79c0",
       "tooltip": "describes the functionality of elements in the RunApp interface"
      }
     },
     "838d585b99fa4bedab763e255ddd08da": {
      "model_module": "@jupyter-widgets/base",
      "model_module_version": "1.2.0",
      "model_name": "LayoutModel",
      "state": {
       "width": "100%"
      }
     },
     "88517a9e47784eed8245c311c52bda6f": {
      "model_module": "@jupyter-widgets/base",
      "model_module_version": "1.2.0",
      "model_name": "LayoutModel",
      "state": {}
     },
     "8a7843029c9a49738fabb0ab7122a575": {
      "model_module": "@jupyter-widgets/controls",
      "model_module_version": "1.5.0",
      "model_name": "ButtonStyleModel",
      "state": {
       "font_weight": "bold"
      }
     },
     "8a819b6b42a04784a49837a39ee2c702": {
      "model_module": "@jupyter-widgets/controls",
      "model_module_version": "1.5.0",
      "model_name": "DescriptionStyleModel",
      "state": {
       "description_width": ""
      }
     },
     "8c858123eff84eb2a699a848e9e7fb97": {
      "model_module": "@jupyter-widgets/controls",
      "model_module_version": "1.5.0",
      "model_name": "ButtonModel",
      "state": {
       "button_style": "success",
       "description": "run",
       "layout": "IPY_MODEL_2a93c2c70d0f4af586922439591c5829",
       "style": "IPY_MODEL_8a7843029c9a49738fabb0ab7122a575",
       "tooltip": "execute the script based on the user inputs"
      }
     },
     "8e8460f17c784fbaa56c6fcdad3476df": {
      "model_module": "@jupyter-widgets/base",
      "model_module_version": "1.2.0",
      "model_name": "LayoutModel",
      "state": {
       "align_items": "stretch",
       "width": "100%"
      }
     },
     "9ca224cf5ba44e5a941abe0ec748006d": {
      "model_module": "@jupyter-widgets/controls",
      "model_module_version": "1.5.0",
      "model_name": "VBoxModel",
      "state": {
       "children": [
        "IPY_MODEL_a7f93f55dfc34aed92552c00c021eac2",
        "IPY_MODEL_f7d8fb2fb7324922a68f1560c13494ad",
        "IPY_MODEL_484180a4bec7404bba281101175512f4"
       ],
       "layout": "IPY_MODEL_8e8460f17c784fbaa56c6fcdad3476df"
      }
     },
     "9e6cdb810a7c45e38be3028f0938cd97": {
      "model_module": "@jupyter-widgets/base",
      "model_module_version": "1.2.0",
      "model_name": "LayoutModel",
      "state": {
       "align_items": "stretch",
       "width": "100%"
      }
     },
     "a7f93f55dfc34aed92552c00c021eac2": {
      "model_module": "@jupyter-widgets/controls",
      "model_module_version": "1.5.0",
      "model_name": "TextModel",
      "state": {
       "description": "inputs",
       "disabled": true,
       "layout": "IPY_MODEL_1b10e46838234f6eafd47a577f901a25",
       "style": "IPY_MODEL_7e5f315cac7f4dd1830b21b35e1a85c3",
       "value": "C:\\engDev\\git_mf\\ipyrun\\examples\\notebooks\\appdata\\inputs\\inputs-expansion_vessel_sizing.json"
      }
     },
     "ac3a83a9e7394c89bdb116f5033ebacc": {
      "model_module": "@jupyter-widgets/controls",
      "model_module_version": "1.5.0",
      "model_name": "AccordionModel",
      "state": {
       "_titles": {
        "0": "expansion_vessel_sizing"
       },
       "children": [
        "IPY_MODEL_47910cbe561e40b4b7591fa57e23e9f6"
       ],
       "layout": "IPY_MODEL_838d585b99fa4bedab763e255ddd08da",
       "selected_index": null
      }
     },
     "ac4c4c72fc084f5aa8fbfff77afbc83b": {
      "model_module": "@jupyter-widgets/controls",
      "model_module_version": "1.5.0",
      "model_name": "DescriptionStyleModel",
      "state": {
       "description_width": ""
      }
     },
     "b760ce0dea0346a7ac888efa6e3bc543": {
      "model_module": "@jupyter-widgets/base",
      "model_module_version": "1.2.0",
      "model_name": "LayoutModel",
      "state": {}
     },
     "c65dcfb82c5e40e98122cb253718ebb5": {
      "model_module": "@jupyter-widgets/base",
      "model_module_version": "1.2.0",
      "model_name": "LayoutModel",
      "state": {
       "height": "30px",
       "width": "auto"
      }
     },
     "c8a92ba9fe5f4126b97bb77f7358fb0e": {
      "model_module": "@jupyter-widgets/controls",
      "model_module_version": "1.5.0",
      "model_name": "ButtonModel",
      "state": {
       "button_style": "info",
       "description": "show log",
       "layout": "IPY_MODEL_573d07819fba456887f9bd6adb53032c",
       "style": "IPY_MODEL_622946bd618d40b89624a21381fbecb8",
       "tooltip": "show a log of when the script was executed to generate the outputs, and by who"
      }
     },
     "d186d0a3cb67430cb6a9c8d1f32d0e58": {
      "model_module": "@jupyter-widgets/base",
      "model_module_version": "1.2.0",
      "model_name": "LayoutModel",
      "state": {}
     },
     "d866627b7b564998929ff49496d0af0c": {
      "model_module": "@jupyter-widgets/controls",
      "model_module_version": "1.5.0",
      "model_name": "ButtonStyleModel",
      "state": {}
     },
     "de64791141c24fc99de995588c5eaa89": {
      "model_module": "@jupyter-widgets/base",
      "model_module_version": "1.2.0",
      "model_name": "LayoutModel",
      "state": {
       "width": "5%"
      }
     },
     "e631fc4e4d6a4d83b53cad24aa9ab2ba": {
      "model_module": "@jupyter-widgets/base",
      "model_module_version": "1.2.0",
      "model_name": "LayoutModel",
      "state": {}
     },
     "f37a75c07f704e2e9b88804d303134da": {
      "model_module": "@jupyter-widgets/controls",
      "model_module_version": "1.5.0",
      "model_name": "BoxModel",
      "state": {
       "children": [
        "IPY_MODEL_5fe76188ff5c46b2bb5cf8ac5e867390"
       ],
       "layout": "IPY_MODEL_7861d61d04834ca9959ec71addd8f10a"
      }
     },
     "f7d8fb2fb7324922a68f1560c13494ad": {
      "model_module": "@jupyter-widgets/controls",
      "model_module_version": "1.5.0",
      "model_name": "TextModel",
      "state": {
       "description": "script",
       "disabled": true,
       "layout": "IPY_MODEL_1d62465129e340c9a542c804e43bf4b9",
       "style": "IPY_MODEL_ac4c4c72fc084f5aa8fbfff77afbc83b",
       "value": "C:\\engDev\\git_mf\\ipyrun\\examples\\scripts\\expansion_vessel_sizing.py"
      }
     },
     "fc77284b59aa47b8b59d0fa50629f27a": {
      "model_module": "@jupyter-widgets/base",
      "model_module_version": "1.2.0",
      "model_name": "LayoutModel",
      "state": {}
     }
    },
    "version_major": 2,
    "version_minor": 0
   }
  }
 },
 "nbformat": 4,
 "nbformat_minor": 4
}
