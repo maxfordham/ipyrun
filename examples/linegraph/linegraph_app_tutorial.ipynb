{
 "cells": [
  {
   "cell_type": "markdown",
   "id": "074ca66e-cb7c-4aa7-af69-12308581a4aa",
   "metadata": {},
   "source": [
    "# linegraph - ipyrun tutorial "
   ]
  },
  {
   "cell_type": "code",
   "execution_count": 1,
   "id": "37490da4-9a5f-494e-9428-03a675ca54b1",
   "metadata": {},
   "outputs": [],
   "source": [
    "import sys\n",
    "import pathlib\n",
    "\n",
    "sys.path.append(str(pathlib.Path('../../src').resolve())) # append ipyrun. TODO: for dev only. remove at build time.\n",
    "sys.path.append(str(pathlib.Path('../../../ipyautoui/src').resolve())) # append ipyautoui. TODO: for dev only. remove at build time.\n",
    "\n",
    "import subprocess\n",
    "from pydantic import validator\n",
    "\n",
    "from ipyrun import RunApp, BatchApp, ConfigShell, DefaultConfigShell, RunShellActions \n",
    "from ipyrun.runshell import DisplayfileDefinition, create_displayfile_renderer, ConfigBatch, DefaultConfigShell, DefaultBatchActions, BatchShellActions\n",
    "\n",
    "from ipyautoui import AutoUi, AutoUiConfig\n",
    "from ipyautoui import DisplayFiles\n",
    "from ipyautoui.displayfile import display_python_file"
   ]
  },
  {
   "cell_type": "code",
   "execution_count": 2,
   "id": "b2d5ee14-47fb-47ca-865a-204a64b52a19",
   "metadata": {},
   "outputs": [],
   "source": [
    "#  for supporting info see: \n",
    "#  ?RunApp\n",
    "#  ?DefaultConfigShell\n",
    "#  ?RunShellActions"
   ]
  },
  {
   "cell_type": "code",
   "execution_count": 3,
   "id": "77b7c163-d3dd-493f-baf3-ded7830df972",
   "metadata": {},
   "outputs": [],
   "source": [
    "#?RunApp\n",
    "#?DefaultConfigShell"
   ]
  },
  {
   "cell_type": "markdown",
   "id": "05025762-7e84-47a9-b3d6-b001fbeac3da",
   "metadata": {},
   "source": [
    "## Define Brief for App\n",
    "\n",
    "- given a set of inputs, create a line graph of a defined range\n",
    "- __note__. `ipyrun` will deal with the caching of the data\n",
    "\n",
    "\n",
    "\n"
   ]
  },
  {
   "cell_type": "markdown",
   "id": "5f3f051a-43f0-463a-98d6-9166b668b295",
   "metadata": {},
   "source": [
    "## Create a working directory "
   ]
  },
  {
   "cell_type": "code",
   "execution_count": 4,
   "id": "ba438ca2-e26f-4555-9e98-f5281fa86cc0",
   "metadata": {},
   "outputs": [
    {
     "name": "stdout",
     "output_type": "stream",
     "text": [
      "📁 linegraph/\n",
      "├─📄 in-test.lg.json\n",
      "├─📄 linegraph_app.ipynb\n",
      "├─📁 linegraph_appdata/\n",
      "│ ├─📁 00-linegraph/\n",
      "│ │ ├─📄 config-shell_handler.json\n",
      "│ │ ├─📄 in-00-linegraph.lg.json\n",
      "│ │ ├─📄 out-00-linegraph.csv\n",
      "│ │ └─📄 out-00-linegraph.plotly.json\n",
      "│ ├─📁 01-linegraph/\n",
      "│ │ ├─📄 config-shell_handler.json\n",
      "│ │ └─📄 in-01-linegraph.lg.json\n",
      "│ └─📄 config-shell_handler.json\n",
      "├─📄 linegraph_app_tutorial.ipynb\n",
      "├─📁 linegraph_core/\n",
      "│ ├─📄 input_schema_linegraph.py\n",
      "│ ├─📄 script_linegraph.py\n",
      "│ └─📄 __init__.py\n",
      "├─📄 out-test.csv\n",
      "├─📄 out-test.plotly.json\n",
      "└─📄 __init__.py\n"
     ]
    }
   ],
   "source": [
    "from seedir import seedir\n",
    "\n",
    "DIR_CORE = pathlib.Path('./linegraph_core').resolve()\n",
    "FPTH_SCRIPT = DIR_CORE / 'script_linegraph.py'\n",
    "FPTH_INPUTS_SCHEMA = DIR_CORE / 'input_schema_linegraph.py'\n",
    "DIR_APPDATA = pathlib.Path('./linegraph_appdata').resolve()\n",
    "\n",
    "seedir(exclude_folders=['.ipynb_checkpoints', '__pycache__'], style='emoji')"
   ]
  },
  {
   "cell_type": "markdown",
   "id": "dd43b948-0dfd-49e5-92ef-4163473999a1",
   "metadata": {},
   "source": [
    "## App Inputs\n",
    "\n",
    "### Create pydantic model schema for App inputs\n",
    "\n",
    "- what are the required input fields required for plotting a line graph? \n",
    "- create a pydantic schema of these inputs"
   ]
  },
  {
   "cell_type": "code",
   "execution_count": 5,
   "id": "be7742b5-bd30-4488-989a-c6ea1ad87701",
   "metadata": {},
   "outputs": [
    {
     "data": {
      "text/markdown": [
       "\n",
       "```Python\n",
       "from pydantic import BaseModel , Field, conint\n",
       "import typing\n",
       "import pathlib\n",
       "\n",
       "class LineGraph(BaseModel):\n",
       "    \"\"\"parameters to define a simple `y=m*x + c` line graph\"\"\"\n",
       "    title: str = Field(default='line equation', description='add chart title here')\n",
       "    m: float = Field(default=2, description='gradient')\n",
       "    c: float = Field(default=5, description='intercept')\n",
       "    x_range: tuple[int, int] = Field(default=(0,5), ge=0, le=50, description='x-range for chart')\n",
       "    y_range: tuple[int, int] = Field(default=(0,5), ge=0, le=50, description='y-range for chart')\n",
       "        \n",
       "if __name__ == \"__main__\":\n",
       "    lg = LineGraph()\n",
       "```"
      ],
      "text/plain": [
       "<IPython.core.display.Markdown object>"
      ]
     },
     "execution_count": 5,
     "metadata": {},
     "output_type": "execute_result"
    }
   ],
   "source": [
    "from linegraph_core.input_schema_linegraph import LineGraph\n",
    "display_python_file(FPTH_INPUTS_SCHEMA)  # it is advised that input_schema's get there own python file"
   ]
  },
  {
   "cell_type": "markdown",
   "id": "0d8ad477-dc74-4f87-9794-7412f65d2f63",
   "metadata": {},
   "source": [
    "\n",
    "### Create an inputs UI from model with AutoUi\n",
    "\n",
    "- check the UI looks correct based on the pydantic model\n",
    "- save the test file (`test.lg.json`) so we can test loading it back in\n"
   ]
  },
  {
   "cell_type": "code",
   "execution_count": 6,
   "id": "925e9066-8939-446a-b2a3-f2bbd99169ce",
   "metadata": {},
   "outputs": [
    {
     "data": {
      "application/vnd.jupyter.widget-view+json": {
       "model_id": "5f3b4e1d27cd4103a9ad0b69d2b5eb45",
       "version_major": 2,
       "version_minor": 0
      },
      "text/plain": [
       "AutoUi(children=(VBox(children=(HBox(children=(SaveButtonBar(children=(ToggleButton(value=False, disabled=True…"
      ]
     },
     "metadata": {},
     "output_type": "display_data"
    }
   ],
   "source": [
    "\n",
    "# ?AutoUiConfig\n",
    "config_lgui =AutoUiConfig(ext='.lg.json', pydantic_model=LineGraph)\n",
    "lg = LineGraph()\n",
    "AutoUi(pydantic_obj=lg, path='in-test.lg.json', config_autoui=config_lgui)"
   ]
  },
  {
   "cell_type": "markdown",
   "id": "c3fd4240-f777-4d2b-9171-34b45090a5cb",
   "metadata": {},
   "source": [
    "### Create a DisplayFiles renderer, and check it works\n",
    "\n",
    "- extend the default DisplayFiles renderer to be able to render `*.lg.json` files\n"
   ]
  },
  {
   "cell_type": "code",
   "execution_count": 9,
   "id": "f197326a-0e51-4e38-95eb-4d38aaed3a02",
   "metadata": {},
   "outputs": [
    {
     "data": {
      "application/vnd.jupyter.widget-view+json": {
       "model_id": "5cff5feb7c054683a8df7eb71f149476",
       "version_major": 2,
       "version_minor": 0
      },
      "text/plain": [
       "VBox(children=(VBox(children=(HBox(), HBox())), VBox(children=(VBox(children=(HBox(children=(HBox(children=(Bu…"
      ]
     },
     "metadata": {},
     "output_type": "display_data"
    }
   ],
   "source": [
    "\n",
    "# ?DisplayfileDefinition\n",
    "lg_inputs_dfd = DisplayfileDefinition(path=FPTH_INPUTS_SCHEMA,\n",
    "                      obj_name='LineGraph',\n",
    "                      ftype='in',\n",
    "                      ext='.lg.json'\n",
    ")\n",
    "lg_inputs_renderer = create_displayfile_renderer(lg_inputs_dfd)\n",
    "\n",
    "DisplayFiles(paths=['in-test.lg.json'],user_file_renderers=lg_inputs_renderer)"
   ]
  },
  {
   "cell_type": "markdown",
   "id": "9d950816-e7ec-4a6a-a1eb-ad30a42e72cc",
   "metadata": {},
   "source": [
    "## Write main App code"
   ]
  },
  {
   "cell_type": "markdown",
   "id": "00c105ea-c453-44f2-8e57-7985802505d6",
   "metadata": {},
   "source": [
    "- This is where you put the main code that fulfils the original brief\n",
    "- We are using the `RunShell` App so the main code lives in a script that is executed on the command line\n",
    "- There must be a way to pass input variables to this script\n",
    "    - The default way in `RunShell` is that the filepath of the inputs and outputs files are passed as a `sys.argv`s\n",
    "- In the simple example below, the script can be tested by simply running:\n",
    "    - `python -O linegraph_core/script_linegraph.py in-test.lg.json out-test.csv out-test.plotly.json`"
   ]
  },
  {
   "cell_type": "code",
   "execution_count": 11,
   "id": "dfd561ff-a690-4beb-97ab-eaee9b45257e",
   "metadata": {},
   "outputs": [
    {
     "name": "stdout",
     "output_type": "stream",
     "text": [
      "fpth_in = in-test.lg.json\n",
      "fpth_out_csv = out-test.csv\n",
      "fpth_out_plotly = out-test.plotly.json\n"
     ]
    },
    {
     "data": {
      "text/plain": [
       "0"
      ]
     },
     "execution_count": 11,
     "metadata": {},
     "output_type": "execute_result"
    }
   ],
   "source": [
    "subprocess.call('python -O linegraph_core/script_linegraph.py in-test.lg.json out-test.csv out-test.plotly.json', shell=True)"
   ]
  },
  {
   "cell_type": "code",
   "execution_count": 10,
   "id": "4ceecd9a-f38f-4a42-bcbb-103e84b1875a",
   "metadata": {},
   "outputs": [
    {
     "data": {
      "text/markdown": [
       "\n",
       "```Python\n",
       "\"\"\"a test script for ipyrun that plots a line graph based on inputs\n",
       "\n",
       "Returns:\n",
       "    fpth_csv (str): csv file with plot data\n",
       "    fpth_plotly (str): plotly json of plot\n",
       "\"\"\"\n",
       "import pandas as pd\n",
       "import numpy as np\n",
       "import plotly.express as px\n",
       "import json\n",
       "from input_schema_linegraph import LineGraph\n",
       "\n",
       "def fpth_chg_extension(fpth, new_ext=\"plotly\"):\n",
       "    return os.path.splitext(fpth)[0] + \".\" + new_ext\n",
       "\n",
       "def graph(\n",
       "    formula, x_range, title=\"\", display_plot=False, fpth_save_plot=None, returndf=True\n",
       "):\n",
       "    \"\"\"\n",
       "    generic graph plotter.\n",
       "    pass a  and a range to plot over\n",
       "    and returns a dataframe.\n",
       "\n",
       "    Args:\n",
       "        formula(str): formula as a string\n",
       "        x_range(np.arange): formula as a string\n",
       "        **plot(booll:\n",
       "        **returndf(bool)\n",
       "    Returns:\n",
       "        df(pd.DataFrame):\n",
       "    \"\"\"\n",
       "    try:\n",
       "        x = np.array(x_range)\n",
       "        y = eval(formula)\n",
       "    except:\n",
       "        li = []\n",
       "        y = [li.append(eval(formula)) for x in x_range]\n",
       "        x = x_range\n",
       "        y = np.array(li)\n",
       "    if len(title) > 0:\n",
       "        title = title + \"<br>\" + \"y = \" + formula\n",
       "    else:\n",
       "        title = \"y = \" + formula\n",
       "    try:\n",
       "        df = pd.DataFrame({\"x\": x, \"y\": y}, columns=[\"x\", \"y\"])\n",
       "    except:\n",
       "        df = {\"x\": x, \"y\": y}\n",
       "    if display_plot:\n",
       "        fig = px.line(df, x=\"x\", y=\"y\", title=title, template=\"plotly_white\")\n",
       "        fig.show()\n",
       "    if fpth_save_plot is not None:\n",
       "        fig = px.line(df, x=\"x\", y=\"y\", title=title, template=\"plotly_white\")\n",
       "        data = fig.write_json(fpth_save_plot)\n",
       "    if returndf:\n",
       "        return df\n",
       "\n",
       "def main(fpth_in, fpth_out_csv, fpth_out_plotly):\n",
       "    \"\"\"\n",
       "    Args:\n",
       "        fpth_in (str)\n",
       "        fpth_out_csv (str)\n",
       "        fpth_out_plotly (str)\n",
       "    Returns:\n",
       "        fpth_out_csv\n",
       "    \"\"\"\n",
       "    inputs = LineGraph.parse_file(fpth_in)\n",
       "    formula = \"{} * x + {}\".format(inputs.m, inputs.c)\n",
       "    x_range = np.arange(inputs.x_range[0], inputs.x_range[1], step=1)\n",
       "    df = graph(\n",
       "        formula,\n",
       "        x_range,\n",
       "        fpth_save_plot=fpth_out_plotly,\n",
       "        returndf=True,\n",
       "        title=inputs.title,\n",
       "    )\n",
       "    df.to_csv(fpth_out_csv)\n",
       "    return df\n",
       "\n",
       "\n",
       "if __name__ == \"__main__\":\n",
       "    if __debug__:\n",
       "        import os\n",
       "        import pathlib\n",
       "        os.chdir(pathlib.Path(__file__).parent)\n",
       "        fpth_in = \"inputs-line_graph.lg.json\"\n",
       "        fpth_out_csv = \"line_graph-output.csv\"\n",
       "        fpth_out_plotly = \"line_graph-output.plotly.json\"\n",
       "        main(fpth_in, fpth_out_csv, fpth_out_plotly)\n",
       "    else:\n",
       "        import sys\n",
       "        fpth_in = sys.argv[1]\n",
       "        fpth_out_csv = sys.argv[2]\n",
       "        fpth_out_plotly = sys.argv[3]\n",
       "        print(f\"fpth_in = {fpth_in}\")\n",
       "        print(f\"fpth_out_csv = {fpth_out_csv}\")\n",
       "        print(f\"fpth_out_plotly = {fpth_out_plotly}\")\n",
       "        main(fpth_in, fpth_out_csv, fpth_out_plotly)\n",
       "\n",
       "```"
      ],
      "text/plain": [
       "<IPython.core.display.Markdown object>"
      ]
     },
     "execution_count": 10,
     "metadata": {},
     "output_type": "execute_result"
    }
   ],
   "source": [
    "display_python_file(FPTH_SCRIPT)"
   ]
  },
  {
   "cell_type": "markdown",
   "id": "5b7a8881-a551-47a5-af7d-91dae4a6e434",
   "metadata": {},
   "source": [
    "## Create a RunApp"
   ]
  },
  {
   "cell_type": "markdown",
   "id": "ec6510eb-2722-40a9-83ee-3281a6f73410",
   "metadata": {},
   "source": [
    "### Set-up App Config"
   ]
  },
  {
   "cell_type": "markdown",
   "id": "98c8355e-6050-43e9-bec9-a36154fca1cf",
   "metadata": {},
   "source": [
    "- Now we have an inputs file, and a script that can be executed to create the desired outputs\n",
    "- We must now configure the App which will handle the caching of input and output data\n",
    "    - This allows the Notebook to be run as an App, such that a single Notebook can be run by any job, with the job data in the job "
   ]
  },
  {
   "cell_type": "code",
   "execution_count": 24,
   "id": "a8a0e217-3e02-49eb-8e8d-82620c8f3acb",
   "metadata": {},
   "outputs": [],
   "source": [
    "#?DefaultConfigShell"
   ]
  },
  {
   "cell_type": "code",
   "execution_count": 16,
   "id": "8c7f6d69-fc50-4cef-b496-62017a63e8e9",
   "metadata": {},
   "outputs": [
    {
     "data": {
      "text/plain": [
       "{'path': PosixPath('/mnt/c/engDev/git_mf/ipyrun/examples/linegraph/linegraph_core/input_schema_linegraph.py'),\n",
       " 'obj_name': 'LineGraph',\n",
       " 'module_name': 'input_schema_linegraph',\n",
       " 'ftype': <FiletypeEnum.input: 'in'>,\n",
       " 'ext': '.lg.json'}"
      ]
     },
     "execution_count": 16,
     "metadata": {},
     "output_type": "execute_result"
    }
   ],
   "source": [
    "lg_inputs_dfd.dict()"
   ]
  },
  {
   "cell_type": "code",
   "execution_count": 13,
   "id": "b7ec820f-a9c4-4cb7-85c9-33abad19b094",
   "metadata": {},
   "outputs": [
    {
     "data": {
      "text/plain": [
       "{'index': 0,\n",
       " 'fpth_script': PosixPath('/mnt/c/engDev/git_mf/ipyrun/examples/linegraph/linegraph_core/script_linegraph.py'),\n",
       " 'name': 'linegraph',\n",
       " 'long_name': '00 - Linegraph',\n",
       " 'key': '00-linegraph',\n",
       " 'fdir_appdata': PosixPath('/mnt/c/engDev/git_mf/ipyrun/examples/linegraph/linegraph_appdata/00-linegraph'),\n",
       " 'in_batch': False,\n",
       " 'status': None,\n",
       " 'update_config_at_runtime': False,\n",
       " 'displayfile_definitions': [{'path': PosixPath('/mnt/c/engDev/git_mf/ipyrun/examples/linegraph/linegraph_core/input_schema_linegraph.py'),\n",
       "   'obj_name': 'LineGraph',\n",
       "   'module_name': 'input_schema_linegraph',\n",
       "   'ftype': <FiletypeEnum.input: 'in'>,\n",
       "   'ext': '.lg.json'}],\n",
       " 'displayfile_inputs_kwargs': {},\n",
       " 'displayfile_outputs_kwargs': {},\n",
       " 'fpths_inputs': [PosixPath('/mnt/c/engDev/git_mf/ipyrun/examples/linegraph/linegraph_appdata/00-linegraph/in-00-linegraph.lg.json')],\n",
       " 'fpths_outputs': [],\n",
       " 'fpth_params': None,\n",
       " 'fpth_config': PosixPath('/mnt/c/engDev/git_mf/ipyrun/examples/linegraph/linegraph_appdata/00-linegraph/config-shell_handler.json'),\n",
       " 'fpth_runhistory': PosixPath('/mnt/c/engDev/git_mf/ipyrun/examples/linegraph/linegraph_appdata/00-linegraph/runhistory.csv'),\n",
       " 'fpth_log': 'log.csv',\n",
       " 'call': 'python -O',\n",
       " 'params': {},\n",
       " 'shell_template': '{{ call }} {{ fpth_script }}{% for f in fpths_inputs %} {{f}}{% endfor %}{% for f in fpths_outputs %} {{f}}{% endfor %}{% for k,v in params.items()%} --{{k}} {{v}}{% endfor %}\\n',\n",
       " 'shell': 'python -O /mnt/c/engDev/git_mf/ipyrun/examples/linegraph/linegraph_core/script_linegraph.py /mnt/c/engDev/git_mf/ipyrun/examples/linegraph/linegraph_appdata/00-linegraph/in-00-linegraph.lg.json'}"
      ]
     },
     "metadata": {},
     "output_type": "display_data"
    }
   ],
   "source": [
    "# DefaultConfigShell defines how to cache data to be run by the App\n",
    "# ?DefaultConfigShell  # show help\n",
    "\n",
    "config = DefaultConfigShell(\n",
    "    fpth_script=FPTH_SCRIPT,\n",
    "    fdir_appdata=DIR_APPDATA,\n",
    "    displayfile_definitions=[lg_inputs_dfd],\n",
    ")\n",
    "display(config.dict())"
   ]
  },
  {
   "cell_type": "markdown",
   "id": "c00405d9-838e-41eb-88a9-535e68dcb068",
   "metadata": {},
   "source": [
    "- As you can see above, given this set of inputs the shell command has been generated \n",
    "- We can either: \n",
    "    - 1. explictly give fpths_outputs as a variable, or \n",
    "    - 2. extend `DefaultConfigShell` to generate `fpths_outputs` from other variables\n",
    "- option 2. is favourable as it can then be easily extended to an arbitrary number of runs, and the names of the output files will follow the same logical naming structure as the input files"
   ]
  },
  {
   "cell_type": "code",
   "execution_count": 20,
   "id": "1e5a7f77-79ce-43ee-9d7e-a87ff3968505",
   "metadata": {},
   "outputs": [],
   "source": [
    "class LineGraphConfigShell(DefaultConfigShell):\n",
    "\n",
    "    @validator(\"fpths_outputs\", always=True)\n",
    "    def _fpths_outputs(cls, v, values):\n",
    "        fdir = values[\"fdir_appdata\"]\n",
    "        key = values[\"key\"]\n",
    "        paths = [\n",
    "            fdir / (\"out-\" + key + \".csv\"),\n",
    "            fdir / (\"out-\" + key + \".plotly.json\"),\n",
    "        ]\n",
    "        return paths\n",
    "    \n",
    "config = LineGraphConfigShell(\n",
    "    fpth_script= DIR_CORE/'script_linegraph.py', \n",
    "    fdir_appdata=DIR_APPDATA,\n",
    "    displayfile_definitions=[lg_inputs_dfd],\n",
    ")\n",
    "#display(config.dict())"
   ]
  },
  {
   "cell_type": "markdown",
   "id": "0de24f85-c7aa-49f7-a2d2-3cf80459e058",
   "metadata": {},
   "source": [
    "### Build the RunApp"
   ]
  },
  {
   "cell_type": "code",
   "execution_count": 19,
   "id": "435aeac5-31fa-407c-a970-01c7b5cbeaed",
   "metadata": {},
   "outputs": [
    {
     "data": {
      "application/vnd.jupyter.widget-view+json": {
       "model_id": "091b44f024254d7585e9418be47690a9",
       "version_major": 2,
       "version_minor": 0
      },
      "text/plain": [
       "RunApp(children=(HBox(children=(Checkbox(value=False, indent=False, layout=Layout(height='40px', max_width='20…"
      ]
     },
     "metadata": {},
     "output_type": "display_data"
    }
   ],
   "source": [
    "#  RunApp is described as UI first -\n",
    "#  as such it can be loaded and viewed before all of the buttons have been assigned useful callable functions \n",
    "#  pressing the buttons below will yield simple default outputs\n",
    "\n",
    "RunApp(config=config, cls_actions=RunShellActions)"
   ]
  },
  {
   "cell_type": "markdown",
   "id": "0e647e47-725c-482c-ac4a-aa7631bb7aab",
   "metadata": {},
   "source": [
    "## Create a BatchApp\n",
    "\n",
    "- BatchApp's support an arbitrary number of runs \n",
    "- This extends the app to be able to add and remove runs to suit the users requirements\n",
    "- To be able to do this, we need to be able to build a new RunApp on a button click\n",
    "    - this requires `LineGraphConfigShell` to be fully defined apart from a single variable (the `index` that will be passed from the BatchApp) "
   ]
  },
  {
   "cell_type": "code",
   "execution_count": 21,
   "id": "575524c5-e042-4897-b2fb-baeef3b8f217",
   "metadata": {},
   "outputs": [
    {
     "data": {
      "application/vnd.jupyter.widget-view+json": {
       "model_id": "0ee3d5ed5249453f8865dd081be9ff76",
       "version_major": 2,
       "version_minor": 0
      },
      "text/plain": [
       "RunApp(children=(HBox(children=(Checkbox(value=False, indent=False, layout=Layout(height='40px', max_width='20…"
      ]
     },
     "metadata": {},
     "output_type": "display_data"
    }
   ],
   "source": [
    "\n",
    "class LineGraphConfigShell(DefaultConfigShell):\n",
    "    @validator(\"fpth_script\", always=True, pre=True)\n",
    "    def _set_fpth_script(cls, v, values):\n",
    "        return FPTH_SCRIPT\n",
    "\n",
    "    @validator(\"fpths_outputs\", always=True)\n",
    "    def _fpths_outputs(cls, v, values):\n",
    "        fdir = values[\"fdir_appdata\"]\n",
    "        key = values[\"key\"]\n",
    "        paths = [\n",
    "            fdir / (\"out-\" + key + \".csv\"),\n",
    "            fdir / (\"out-\" + key + \".plotly.json\"),\n",
    "        ]\n",
    "        return paths\n",
    "\n",
    "    @validator(\"displayfile_definitions\", always=True)\n",
    "    def _displayfile_definitions(cls, v, values):\n",
    "        return [\n",
    "            DisplayfileDefinition(\n",
    "                path=FPTH_INPUTS_SCHEMA,\n",
    "                obj_name=\"LineGraph\",\n",
    "                ext=\".lg.json\",\n",
    "                ftype='in',\n",
    "            )\n",
    "        ]\n",
    "\n",
    "    @validator(\"displayfile_inputs_kwargs\", always=True)\n",
    "    def _displayfile_inputs_kwargs(cls, v, values):\n",
    "        return dict(patterns=\"*\")\n",
    "\n",
    "    @validator(\"displayfile_outputs_kwargs\", always=True)\n",
    "    def _displayfile_outputs_kwargs(cls, v, values):\n",
    "        return dict(patterns=\"*.plotly.json\")\n",
    "\n",
    "config = LineGraphConfigShell(fdir_appdata=DIR_APPDATA)\n",
    "run_app = RunApp(config, cls_actions=RunShellActions)  # cls_ui=RunUi,\n",
    "display(run_app)"
   ]
  },
  {
   "cell_type": "code",
   "execution_count": 22,
   "id": "972a773b-ec5f-4e95-a542-d5867b334500",
   "metadata": {},
   "outputs": [
    {
     "name": "stdout",
     "output_type": "stream",
     "text": [
      "/tmp/ipykernel_1490/3736187265.py:8 <module>\n",
      "    config_batch: ConfigBatch(\n",
      "        fdir_root=PosixPath('/mnt/c/engDev/git_mf/ipyrun/examples/linegraph/linegraph_appdata'),\n",
      "        fpth_config=PosixPath('/mnt/c/engDev/git_mf/ipyrun/examples/linegraph/linegraph_appdata/config-shell_handler.json'),\n",
      "        title=(\n",
      "            '# Plot Straight Lines\\n'\n",
      "            '### example RunApp'\n",
      "        ),\n",
      "        status=None,\n",
      "        cls_actions=<class 'ipyrun.runshell.RunShellActions'>,\n",
      "        cls_app=functools.partial(<class 'ipyrun.runui.RunApp'>, cls_actions=<class 'ipyrun.runshell.RunShellActions'>),\n",
      "        cls_config=<class '__main__.LineGraphConfigShell'>,\n",
      "        configs=[],\n",
      "    ) (ConfigBatch)\n",
      "---\n"
     ]
    }
   ],
   "source": [
    "\n",
    "config_batch = ConfigBatch(\n",
    "    fdir_root=DIR_APPDATA,\n",
    "    cls_config=LineGraphConfigShell,\n",
    "    title=\"\"\"# Plot Straight Lines\\n### example RunApp\"\"\",\n",
    ")\n",
    "from devtools import debug\n",
    "\n",
    "debug(config_batch)\n",
    "print('---')"
   ]
  },
  {
   "cell_type": "markdown",
   "id": "e8f711de-5192-41c8-9746-2dda426a76ab",
   "metadata": {},
   "source": [
    "### Extend Batch Actions"
   ]
  },
  {
   "cell_type": "code",
   "execution_count": 23,
   "id": "ce0a2437-73c9-4de9-92ab-f527c704f14d",
   "metadata": {},
   "outputs": [
    {
     "data": {
      "application/vnd.jupyter.widget-view+json": {
       "model_id": "e84e4420b23c460cb820d64ab860a285",
       "version_major": 2,
       "version_minor": 0
      },
      "text/plain": [
       "BatchApp(children=(VBox(children=(HTML(value='<h1>Plot Straight Lines</h1>\\n<h3>example RunApp</h3>'), HBox(ch…"
      ]
     },
     "metadata": {},
     "output_type": "display_data"
    }
   ],
   "source": [
    "\n",
    "\n",
    "class LineGraphConfigBatch(ConfigBatch):\n",
    "\n",
    "\n",
    "    @validator(\"cls_config\", always=True)\n",
    "    def _cls_config(cls, v, values):\n",
    "        \"\"\"bundles RunApp up as a single argument callable\"\"\"\n",
    "        return LineGraphConfigShell\n",
    "\n",
    "class LineGraphBatchActions(BatchShellActions):\n",
    "    @validator(\"config\", always=True)\n",
    "    def _config(cls, v, values):\n",
    "        \"\"\"bundles RunApp up as a single argument callable\"\"\"\n",
    "        if type(v) == dict:\n",
    "            v = LineGraphConfigBatch(**v)\n",
    "        return v\n",
    "\n",
    "    @validator(\"runlog_show\", always=True)\n",
    "    def _runlog_show(cls, v, values):\n",
    "        return None\n",
    "\n",
    "config_batch = LineGraphConfigBatch(\n",
    "    fdir_root=DIR_APPDATA,\n",
    "    # cls_config=MyConfigShell,\n",
    "    title=\"\"\"# Plot Straight Lines\\n### example RunApp\"\"\",\n",
    ")\n",
    "if config_batch.fpth_config.is_file():\n",
    "    config_batch = LineGraphConfigBatch.parse_file(config_batch.fpth_config)\n",
    "app = BatchApp(config_batch, cls_actions=LineGraphBatchActions)\n",
    "display(app)"
   ]
  }
 ],
 "metadata": {
  "kernelspec": {
   "display_name": "Python 3 (ipykernel)",
   "language": "python",
   "name": "python3"
  },
  "language_info": {
   "codemirror_mode": {
    "name": "ipython",
    "version": 3
   },
   "file_extension": ".py",
   "mimetype": "text/x-python",
   "name": "python",
   "nbconvert_exporter": "python",
   "pygments_lexer": "ipython3",
   "version": "3.9.7"
  },
  "toc-autonumbering": true
 },
 "nbformat": 4,
 "nbformat_minor": 5
}
