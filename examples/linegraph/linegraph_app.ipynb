{
 "cells": [
  {
   "cell_type": "markdown",
   "id": "c66db634-c13c-470b-a657-71fdbf27fed4",
   "metadata": {},
   "source": [
    "# Linegraph - tutorial App"
   ]
  },
  {
   "cell_type": "code",
   "execution_count": 4,
   "id": "ab562720-fa63-4abe-91d5-231100e11abe",
   "metadata": {},
   "outputs": [
    {
     "data": {
      "application/vnd.jupyter.widget-view+json": {
       "model_id": "5a956fc0378844b0a9162e46ca5da684",
       "version_major": 2,
       "version_minor": 0
      },
      "text/plain": [
       "BatchApp(children=(VBox(children=(HTML(value='<h1>Plot Straight Lines</h1>\\n<h3>example RunApp</h3>'), HBox(ch…"
      ]
     },
     "metadata": {},
     "output_type": "display_data"
    }
   ],
   "source": [
    "import sys\n",
    "import pathlib\n",
    "\n",
    "sys.path.append(str(pathlib.Path('../../src').resolve())) # append ipyrun. TODO: for dev only. remove at build time.\n",
    "#sys.path.append(str(pathlib.Path('../../../ipyautoui/src').resolve())) # append ipyautoui. TODO: for dev only. remove at build time.\n",
    "\n",
    "import subprocess\n",
    "from pydantic import validator\n",
    "\n",
    "from ipyrun import RunApp, BatchApp, ConfigShell, DefaultConfigShell, RunShellActions \n",
    "from ipyrun.runshell import DisplayfileDefinition, create_displayfile_renderer, ConfigBatch, DefaultConfigShell, DefaultBatchActions, BatchShellActions\n",
    "\n",
    "from ipyautoui import AutoUi, AutoUiConfig\n",
    "from ipyautoui import DisplayFiles\n",
    "from ipyautoui.displayfile import display_python_file\n",
    "\n",
    "DIR_CORE = pathlib.Path('./linegraph_core').resolve()\n",
    "FPTH_SCRIPT = DIR_CORE / 'script_linegraph.py'\n",
    "FPTH_INPUTS_SCHEMA = DIR_CORE / 'input_schema_linegraph.py'\n",
    "DIR_APPDATA = pathlib.Path('./linegraph_appdata').resolve()\n",
    "\n",
    "# extend DefaultConfigShell to LineGraphConfigShell\n",
    "\n",
    "class LineGraphConfigShell(DefaultConfigShell):\n",
    "    @validator(\"fpth_script\", always=True, pre=True)\n",
    "    def _set_fpth_script(cls, v, values):\n",
    "        return FPTH_SCRIPT\n",
    "\n",
    "    @validator(\"fpths_outputs\", always=True)\n",
    "    def _fpths_outputs(cls, v, values):\n",
    "        fdir = values[\"fdir_appdata\"]\n",
    "        key = values[\"key\"]\n",
    "        paths = [\n",
    "            fdir / (\"out-\" + key + \".csv\"),\n",
    "            fdir / (\"out-\" + key + \".plotly.json\"),\n",
    "        ]\n",
    "        return paths\n",
    "\n",
    "    @validator(\"displayfile_definitions\", always=True)\n",
    "    def _displayfile_definitions(cls, v, values):\n",
    "        return [\n",
    "            DisplayfileDefinition(\n",
    "                path=FPTH_INPUTS_SCHEMA,\n",
    "                obj_name=\"LineGraph\",\n",
    "                ext=\".lg.json\",\n",
    "                ftype='in',\n",
    "            )\n",
    "        ]\n",
    "\n",
    "    @validator(\"displayfile_inputs_kwargs\", always=True)\n",
    "    def _displayfile_inputs_kwargs(cls, v, values):\n",
    "        return dict(patterns=\"*\")\n",
    "\n",
    "    @validator(\"displayfile_outputs_kwargs\", always=True)\n",
    "    def _displayfile_outputs_kwargs(cls, v, values):\n",
    "        return dict(patterns=\"*.plotly.json\")\n",
    "    \n",
    "    \n",
    "# extend ConfigBatch to LineGraphConfigBatch\n",
    "    \n",
    "class LineGraphConfigBatch(ConfigBatch):\n",
    "    @validator(\"cls_config\", always=True)\n",
    "    def _cls_config(cls, v, values):\n",
    "        \"\"\"bundles RunApp up as a single argument callable\"\"\"\n",
    "        return LineGraphConfigShell\n",
    "\n",
    "class LineGraphBatchActions(BatchShellActions):\n",
    "    @validator(\"config\", always=True)\n",
    "    def _config(cls, v, values):\n",
    "        \"\"\"bundles RunApp up as a single argument callable\"\"\"\n",
    "        if type(v) == dict:\n",
    "            v = LineGraphConfigBatch(**v)\n",
    "        return v\n",
    "\n",
    "    @validator(\"runlog_show\", always=True)\n",
    "    def _runlog_show(cls, v, values):\n",
    "        return None\n",
    "\n",
    "config_batch = LineGraphConfigBatch(\n",
    "    fdir_root=DIR_APPDATA,\n",
    "    # cls_config=MyConfigShell,\n",
    "    title=\"\"\"# Plot Straight Lines\\n### example RunApp\"\"\",\n",
    ")\n",
    "if config_batch.fpth_config.is_file():\n",
    "    config_batch = LineGraphConfigBatch.parse_file(config_batch.fpth_config)\n",
    "app = BatchApp(config_batch, cls_actions=LineGraphBatchActions)\n",
    "display(app)\n"
   ]
  },
  {
   "cell_type": "code",
   "execution_count": null,
   "id": "84aac46a-41b8-4158-a399-d2a9f28e47f7",
   "metadata": {},
   "outputs": [],
   "source": []
  }
 ],
 "metadata": {
  "jupytext": {
   "formats": "ipynb,py:light"
  },
  "kernelspec": {
   "display_name": "Python 3 (ipykernel)",
   "language": "python",
   "name": "python3"
  },
  "language_info": {
   "codemirror_mode": {
    "name": "ipython",
    "version": 3
   },
   "file_extension": ".py",
   "mimetype": "text/x-python",
   "name": "python",
   "nbconvert_exporter": "python",
   "pygments_lexer": "ipython3",
   "version": "3.9.7"
  }
 },
 "nbformat": 4,
 "nbformat_minor": 5
}
