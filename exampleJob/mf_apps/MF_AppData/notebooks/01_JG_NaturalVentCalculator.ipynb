{
 "cells": [
  {
   "cell_type": "code",
   "execution_count": null,
   "metadata": {},
   "outputs": [],
   "source": [
    "#from mf_modules import comfortmodels\n",
    "%matplotlib widget\n",
    "\n",
    "import numpy as np\n",
    "import ipywidgets as widgets\n",
    "from IPython.display import HTML, display, clear_output\n",
    "import matplotlib.pyplot as plt\n",
    "import math as m\n",
    "import numpy as np\n",
    "import time\n",
    "\n",
    "np.set_printoptions(precision=2)"
   ]
  },
  {
   "cell_type": "code",
   "execution_count": null,
   "metadata": {},
   "outputs": [],
   "source": [
    "\"\"\"\n",
    "Reference - Liddament - Guide to Energy Efficient Ventilation\n",
    "pp. 264\n",
    "\n",
    "@author: O.Beckett\n",
    "\"\"\"\n",
    "\n",
    "### AIDA ####\n",
    "\n",
    "BOXLAYOUT = widgets.Layout(\n",
    "            display='flex',\n",
    "            flex_flow='column',\n",
    "            border='solid 1px grey',\n",
    "            align_items='stretch',\n",
    "            margin=\"2px\")\n",
    "\n",
    "INSTRUCTIONS = \"<h2>Guide</h2> \\\n",
    "                <h3>Properties:</h3>\\\n",
    "                <b>Global</b> <br/>\\\n",
    "                <b>Internal Temperature:</b> The temperature of the room - only used when Internal Gain is 0W <br/>\\\n",
    "                <b>External Temperature:</b> The outdoor dr bulb temperature. <br/>\\\n",
    "                <b>Internal Gain:</b> Heat Gain in the room - if greater than zero then this will be used - otherwise the user defined internal temperature is considered. <br/>\\\n",
    "                <b>Wind Speed:</b> The wind speed in m/s at a height of 10m. <br/>\\\n",
    "                <b>Opening</b> <br/>\\\n",
    "                <b>Area:</b> The free area of the opening<br/>\\\n",
    "                <b>Discharge Coefficient:</b> Open windows=0.6, Louvres=0.4, Acoustic Louvres=0.2 <br/>\\\n",
    "                <b>Height:</b> The height above floor level of the opening. <br/>\\\n",
    "                <b>Wind Coeff. / Mech. flowrate (m³/s):</b> The Wind coefficient of the opening (ref DIBSE Guide A 4-8) OR the Mechanical Supply <br/>\\\n",
    "                <b>Mechanical Supply/Extract?:</b> Opening is a mechanical inlet/outlet. If this is checked the Wind coefficient is used as the flow rate in m³/s (+ve is supply, -ve is extract.)  <br/>\\\n",
    "                <h3>Functions:</h3>\\\n",
    "                <b>Add Opening:</b> Add an opening to the room. <br/>\\\n",
    "                <b>Remove Opening:</b> Remove an opening to the room. <br/>\\\n",
    "                <b>Solve:</b> Automatic solving is enabled however it can also be done manually. <br/>\\\n",
    "                <h3>Outputs:</h3>\\\n",
    "                <b>Imbalance:</b> The flow imbalance in the room the smaller the better. This represents the calculation accuracy. <br/>\\\n",
    "                <b>Internal Temperature:</b> If Internal Gain is greater than 0W this is the calculated internal temperature.\\\n",
    "                N.B. When using mechanical supply the supply air is assumed to be outside air temperature. For different supply temperatures add the heating/cooling to the internal gain.\\\n",
    "                This will require a hand calc.<br/>\\\n",
    "                <b>Flowrate:</b> The volume flow rate through each opening (+ve is into the room, -ve is out of the room.) <br/>\"\n",
    "\n",
    "HEADER = widgets.VBox([\n",
    "widgets.HTML(\"<h1>Welcome to AIDA</h1>\"),\n",
    "widgets.HTML(\"<h2>Air Infiltration Development Algorithm</h2>\"),\n",
    "widgets.HTML(\"M Liddament - AIVC Guide to Ventilation 1995 <br/> Extended by O Beckett 2019\"),\n",
    "widgets.HTML(INSTRUCTIONS)\n",
    "],\n",
    "layout=BOXLAYOUT)"
   ]
  },
  {
   "cell_type": "code",
   "execution_count": 3,
   "metadata": {},
   "outputs": [],
   "source": [
    "D = 1.26 #density of air\n",
    "CP = 1005"
   ]
  },
  {
   "cell_type": "code",
   "execution_count": 4,
   "metadata": {},
   "outputs": [],
   "source": [
    "class Opening():\n",
    "\n",
    "    def __init__(self):\n",
    "        self.default_area = 1.0\n",
    "        self.default_height = 1.0 #height of centre\n",
    "        self.default_cp = 0.0 #wind pressure coefficient\n",
    "        self.on_change = None\n",
    "        self.name = \"\"\n",
    "        self.flow_rate = 0.0\n",
    "        #self.controls_container = self.controls\n",
    "        \n",
    "    def _create_checkbox(self, label, default=False):\n",
    "        checkbox_label = widgets.Label(label)\n",
    "        checkbox = widgets.Checkbox(value=default)\n",
    "        checkbox.observe(self.on_change, names=['value'])\n",
    "        checkbox_box = widgets.HBox([checkbox_label, checkbox])\n",
    "        return checkbox, checkbox_box\n",
    "        \n",
    "    def _create_value_slider(self, min_val, max_val, label, default=1, step=0.1):\n",
    "        slider_label = widgets.Label(label)\n",
    "        slider = widgets.FloatSlider(\n",
    "            value=default,\n",
    "            min=min_val, max=max_val, step=step,\n",
    "            layout=widgets.Layout(width='300px')\n",
    "        )\n",
    "        slider.observe(self.on_change, names=['value'])\n",
    "        slider_box = widgets.HBox([slider_label, slider])\n",
    "        return slider, slider_box\n",
    "        \n",
    "    @property\n",
    "    def C(self):\n",
    "        if self.boolMech: return self.cp\n",
    "        return self.default_C()\n",
    "        \n",
    "    @property\n",
    "    def area(self):\n",
    "        return self.area_slider.value\n",
    "    \n",
    "    @property\n",
    "    def cd(self):\n",
    "        return self.cd_slider.value\n",
    "    \n",
    "    @property\n",
    "    def cp(self):\n",
    "        return self.cp_slider.value\n",
    "    \n",
    "    @property\n",
    "    def exponent(self):\n",
    "        if self.boolMech: return 0.0\n",
    "        return 0.5\n",
    "        \n",
    "    @property\n",
    "    def boolMech(self):\n",
    "        return self.mech_cb.value\n",
    "    \n",
    "    @property\n",
    "    def height(self):\n",
    "        return self.height_slider.value\n",
    "    \n",
    "    @property\n",
    "    def controls(self):\n",
    "        try:\n",
    "            return self._controls_container\n",
    "        except:\n",
    "            self.area_slider, area_sliderbox = self._create_value_slider(0, 25, \"Area (m²)\", default=self.default_area)\n",
    "            self.cd_slider, cd_sliderbox = self._create_value_slider(0, 1, \"Discharge Coefficient\", default=0.6, step=0.01)\n",
    "            self.height_slider, height_sliderbox = self._create_value_slider(0, 25, \"Height (m)\", default=self.default_height)\n",
    "            self.cp_slider, self.cp_sliderbox = self._create_value_slider(-10, 10, \"Wind Coeff. / Mech. flowrate (m³/s)\", default=self.default_cp)\n",
    "            self.mech_cb, mech_cbbox = self._create_checkbox(\"Mechanical Supply/Extract?\", default=False)\n",
    "            self.flow_lbl = widgets.HTML(\"<h3>Flowrate (m³/s) -</h3>\")\n",
    "           \n",
    "            self._controls_container = widgets.VBox([\n",
    "                widgets.HTML(\"<b>Opening {0}</b>\".format(self.name)),\n",
    "                area_sliderbox,\n",
    "                cd_sliderbox,\n",
    "                height_sliderbox,\n",
    "                self.cp_sliderbox,\n",
    "                mech_cbbox,\n",
    "                self.flow_lbl],\n",
    "                layout=BOXLAYOUT)   \n",
    "            \n",
    "            return self._controls_container\n",
    "\n",
    "    @classmethod\n",
    "    def from_params(cls, area, height, cp, on_change, C=None, name=\"\"):\n",
    "        result = cls()\n",
    "        result.default_area = area\n",
    "        result.default_height = height\n",
    "        result.default_cp = cp\n",
    "        result.user_C = C\n",
    "        result.on_change = on_change\n",
    "        result.name = name\n",
    "        return result\n",
    "\n",
    "    def default_C(self):\n",
    "        return self.cd*self.area*m.sqrt(2./D)"
   ]
  },
  {
   "cell_type": "code",
   "execution_count": 5,
   "metadata": {},
   "outputs": [],
   "source": [
    "class AIDA():\n",
    "    '''\n",
    "    Air Infiltration Development Algorithm\n",
    "    '''\n",
    "\n",
    "    def __init__(self):\n",
    "        self.openings = []\n",
    "        self.openings.append(Opening.from_params(3.8, 8, 0.0, self.solve, name=\"1\"))\n",
    "        self.openings.append(Opening.from_params(3.8, 9, 0.0, self.solve, name=\"2\"))\n",
    "  \n",
    "        self.vb = widgets.VBox([])\n",
    "        self.calc_controls_box = widgets.VBox([], layout=BOXLAYOUT)\n",
    "        \n",
    "        self.fig, (hax) = plt.subplots(1, 1, figsize=(12, 6))\n",
    "        \n",
    "    @property\n",
    "    def L(self):\n",
    "        return len(self.openings)\n",
    "\n",
    "    @property\n",
    "    def external_temp(self):\n",
    "        return self.ext_temp_slider.value\n",
    "    \n",
    "    @property\n",
    "    def internal_temp(self):\n",
    "        return self.int_temp_slider.value\n",
    "    \n",
    "    @property\n",
    "    def heat_gain(self):\n",
    "        return self.heat_gain_slider.value\n",
    "    \n",
    "    @property\n",
    "    def wind_speed(self):\n",
    "        return self.wind_slider.value\n",
    "    \n",
    "    def add_meshed_opening(self, totalA, num, h1, height): #Currently unused and incorrect in the object orientated world.\n",
    "        self.L += num\n",
    "        for i in range(num):\n",
    "            self.H.append(h1 + (i+0.5)*height/num)\n",
    "            self.P.append(0)\n",
    "            self.N.append(0.5)\n",
    "            self.C.append(0.4*totalA*m.sqrt(2./D)/num)\n",
    "\n",
    "    def on_bttn_clicked(self, b): \n",
    "        new_name = str(len(self.openings) + 1)\n",
    "        self.openings.append(Opening.from_params(3.8, 8, 0.0, self.solve, name=new_name))\n",
    "        self.update_display()\n",
    "\n",
    "    def on_rm_bttn_clicked(self, b):\n",
    "        self.openings = self.openings[:-1]\n",
    "        self.update_display()\n",
    "            \n",
    "    def _create_value_slider(self, min_val, max_val, label, default=1):\n",
    "        slider_label = widgets.Label(label)\n",
    "        slider = widgets.FloatSlider(value=default, min=min_val, max=max_val, step=0.1, layout=widgets.Layout(width='300px'))\n",
    "        slider.observe(self.solve, names=['value'])\n",
    "        slider_box = widgets.HBox([slider_label, slider])\n",
    "        return slider, slider_box\n",
    "            \n",
    "    def calc_controls(self):\n",
    "        self.btn = widgets.Button(description = 'Add Opening') \n",
    "        self.btn_rm = widgets.Button(description = 'Remove Opening') \n",
    "        self.btn_solve = widgets.Button(description = \"Solve\")\n",
    "        self.lbl_results = widgets.HTML(\"<h3>Flowrates - </h3>\")\n",
    "        self.lbl_balance = widgets.HTML(\"<h3>Imbalance - </h3>\")\n",
    "        self.lbl_internal_temp = widgets.HTML(\"<h3>Internal Temperature - </h3>\")\n",
    "        \n",
    "        self.btn.on_click(self.on_bttn_clicked)\n",
    "        self.btn_rm.on_click(self.on_rm_bttn_clicked)\n",
    "        self.btn_solve.on_click(self.solve)\n",
    "        \n",
    "        self.int_temp_slider, int_temp_slider_box = self._create_value_slider(-10, 40, \"Internal Temperature (°C)\", default=24)\n",
    "        self.ext_temp_slider, ext_temp_slider_box = self._create_value_slider(-10, 40, \"External Temperature (°C)\", default=20)\n",
    "        self.heat_gain_slider, heat_gain_slider_box = self._create_value_slider(0, 10000, \"Internal Gain (W)\", default=0)\n",
    "        self.wind_slider, wind_slider_box = self._create_value_slider(0, 20, \"Wind Speed (m/s)\", default=1)\n",
    "        \n",
    "        button_group = widgets.HBox([self.btn, self.btn_rm, self.btn_solve])\n",
    "        weather_group = widgets.VBox([int_temp_slider_box, ext_temp_slider_box, heat_gain_slider_box, wind_slider_box])\n",
    "        results_group = widgets.VBox([self.lbl_results, self.lbl_balance, self.lbl_internal_temp])\n",
    "        \n",
    "        return [button_group, weather_group, results_group]\n",
    "    \n",
    "    def display(self):\n",
    "        display(self.app)\n",
    "        \n",
    "    def update_display(self):\n",
    "        self.controls = [o.controls for o in self.openings]\n",
    "        self.output = widgets.Output()\n",
    "        \n",
    "        self.calc_controls_box.children = tuple(self.calc_controls())\n",
    "        self.vb.children = tuple(self.controls)\n",
    "        self.app = widgets.VBox([\n",
    "            widgets.HBox([\n",
    "            self.calc_controls_box,\n",
    "            self.vb, self.output]),\n",
    "            HEADER\n",
    "        ])\n",
    "       \n",
    "    def calc_T(self, H, I, E, W):\n",
    "        '''Returns the opening pressures'''\n",
    "        S = -3455*H*((1/(E+273.15))-(1/(I+273.15)))\n",
    "        T = W + S\n",
    "        return T\n",
    "        \n",
    "    def solve(self, sender):\n",
    "        L = self.L\n",
    "        H = np.array([x.height for x in self.openings])\n",
    "        P = np.array([x.cp for x in self.openings])\n",
    "        N = np.array([x.exponent for x in self.openings])\n",
    "        C = np.array([x.C for x in self.openings])\n",
    "        \n",
    "        boolMech = N==0\n",
    "        HEATGAIN = self.heat_gain\n",
    "        E = self.external_temp\n",
    "        I = self.internal_temp\n",
    "        U = self.wind_speed\n",
    "\n",
    "        ###Pressure Calculation###\n",
    "        W = 0.5*D*U*U*P\n",
    "        T = self.calc_T(H, I, E, W)\n",
    "        \n",
    "        #Initialise temperature difference between iterations\n",
    "        delT = 1000\n",
    "        \n",
    "        while(delT>0.01):\n",
    "            \n",
    "            ### Calculate Flows and refresh for each temperature iteration###\n",
    "            R = -100. #Internal Pressure\n",
    "            X = 3. #Iteration pressure step\n",
    "            Y = 0 #Iteration counter\n",
    "            B = -1\n",
    "            F = np.zeros(L) #Calculated flow rate\n",
    "        \n",
    "            while((B<=0 or B/np.sum(abs(F))>0.01) and Y<20000):\n",
    "                if Y%1000==0: self._update_result_label(F, I, sum(F))\n",
    "                Y+=1\n",
    "                B = 0 #Flow balance\n",
    "\n",
    "                R = R+X\n",
    "                T[boolMech] = R\n",
    "                O = T - R #Pressure difference across each flow path.\n",
    "                divisor = abs(O)\n",
    "                numerator = O\n",
    "                numerator[divisor==0]=1\n",
    "                divisor[divisor==0]=1\n",
    "                F = np.nan_to_num(C*abs(O)**N*O/divisor)\n",
    "                B = np.sum(F)\n",
    "\n",
    "                if B<0:\n",
    "                    R = R-X\n",
    "                    X = X*0.99\n",
    "                    if Y%100==0: X=100/Y\n",
    "                else:\n",
    "                    pass\n",
    "\n",
    "            self.F = F #Flowrates\n",
    "            self.Q = sum(F) #Total flow rate or imbalance\n",
    "            self.QT = sum(F[F>0]) #Net flow rate\n",
    "            \n",
    "            if(HEATGAIN>0):\n",
    "                #Adjust the internal temperature if using heat gain, otherwise force exit after one iteration.\n",
    "                I_OLD = I\n",
    "                I_NEW = E + (HEATGAIN/(self.QT*D*CP))\n",
    "                I = 0.7*I + 0.3*I_NEW #0.7 relaxation factor.\n",
    "                T = self.calc_T(H, I, E, W)\n",
    "                delT = abs(I-I_OLD)\n",
    "            else:\n",
    "                delT=0\n",
    "                \n",
    "            self._update_result_label(self.F, I, delT, self.Q)\n",
    "\n",
    "        self.plot_graph()\n",
    "    \n",
    "    def perc(self, num, denom):\n",
    "        return 100*num/(denom+0.00001)\n",
    "            \n",
    "    def _update_result_label(self, F, I, delT, balance=0):\n",
    "        self.lbl_results.value = \"<h3>Flowrates (m³/s) {0}</h3>\".format(F)\n",
    "        self.lbl_balance.value = \"<h3>Imbalance {0:.2f}(m³/s); {1:.1f}(%) </h3>\".format(balance, self.perc(balance, (np.max(F))))\n",
    "        self.lbl_internal_temp.value = \"<h3>Internal Temperature {0:.1f}(°C)</h3>\".format(I, self.perc(delT, I))\n",
    "        try:\n",
    "            for i, f in enumerate(F):\n",
    "                self.openings[i].flow_rate = f\n",
    "                self.openings[i].flow_lbl.value = \"<h3>Flowrate (m³/s) {0:.2f}</h3>\".format(f)\n",
    "        except:\n",
    "            pass\n",
    "        \n",
    "    def _ipython_display_(self):\n",
    "        self.update_display()\n",
    "        self.display()\n",
    "        \n",
    "    def plot_graph(self, sender=None):\n",
    "        MARKER = \"<\"\n",
    "        MARKERSIZE = 20\n",
    "        GREEN = (0.8, 1.0, 0.2, 0.7)\n",
    "        RED = 'red'\n",
    "        BLUE = 'blue'\n",
    "        t = np.array([x.height for x in self.openings])\n",
    "        s = np.array([x.flow_rate for x in self.openings])\n",
    "        mech = np.array([x.boolMech for x in self.openings])\n",
    "\n",
    "        plt.cla()\n",
    "        plt.plot(s[s<0], t[s<0], MARKER, markersize=MARKERSIZE, color=RED) #Extract\n",
    "        plt.plot(np.array([0]*len(t[s<0])), t[s<0], MARKER, markersize=MARKERSIZE, color=RED) #Extract\n",
    "        plt.plot(s[s>0], t[s>0], MARKER, markersize=MARKERSIZE, color=BLUE)\n",
    "        plt.plot(np.array([0]*len(t[s>0])), t[s>0], MARKER, markersize=MARKERSIZE, color=BLUE) #Incoming in blue\n",
    "        plt.plot(np.array([0]*len(t[mech])), t[mech], MARKER, markersize=MARKERSIZE, color=GREEN)#Mechanical in green\n",
    "        plt.plot(s[mech], t[mech], MARKER, markersize=MARKERSIZE, color=GREEN) #Mechanical in green\n",
    "        plt.hlines(t, [0], s, lw=2)\n",
    "        plt.set_xlabel('Flow Rate (m³/s)')\n",
    "        plt.set_ylabel('Height (m)')\n",
    "        plt.set_title('Flow Rates')\n",
    "\n",
    "        with self.output:\n",
    "            display(self.fig)\n",
    "            plt.show(self.fig)\n",
    "\n",
    "        "
   ]
  },
  {
   "cell_type": "code",
   "execution_count": 6,
   "metadata": {},
   "outputs": [],
   "source": [
    "from ipyrun._ipydisplayfile import DisplayFile\n",
    "#help(DisplayFile)\n"
   ]
  },
  {
   "cell_type": "code",
   "execution_count": 9,
   "metadata": {},
   "outputs": [],
   "source": [
    "from mf_modules.datamine_functions import recursive_glob\n",
    "#help(recursive_glob)\n",
    "recursive_glob(rootdir='..\\data\\processed', pattern='*', recursive=True)\n",
    "fpth = '..\\\\data\\\\processed\\\\gbxml_datagrab.xlsx'\n",
    "d = DisplayFile(fpth)\n",
    "#d.preview_fpth()"
   ]
  },
  {
   "cell_type": "code",
   "execution_count": 10,
   "metadata": {},
   "outputs": [
    {
     "name": "stdout",
     "output_type": "stream",
     "text": [
      "Help on function vent_cooling in module mf_modules.eng_calcs:\n",
      "\n",
      "vent_cooling(no_ppl=5, v_m3=80, deltaT=3, ppl_gain_sens=75, ppl_gain_lat=55, other_gain_w=0, show=True)\n",
      "    cooling associated to a vent flowrate as a function of gains and deltaT\n",
      "    \n",
      "    can be used with AIDA to size windows / nat vent requirements\n",
      "    Note.\n",
      "    from mf_modules.import_notebook import *\n",
      "    from notebooks.NaturalVentCalculator import *\n",
      "    AIDA()\n",
      "    \n",
      "    Args:\n",
      "        no_ppl (int): =5 no,  number of people\n",
      "        v_m3 (float): =80 m3, volume of room\n",
      "        deltaT (float): =3 degC, temperature differential between room T and supply air T\n",
      "        ppl_gain_sens (float): =75 w/person, sensible heat gain to room from people\n",
      "        ppl_gain_lat (float): =55 w/person, latent heat gain to room from people\n",
      "        other_gain_w (float): =0 w, other gains to the room\n",
      "        show (bool): =True, show a formatted output of results\n",
      "    \n",
      "    Returns:\n",
      "        v_flow (float): m3/s, volume flow rate of ventilation for cooling\n",
      "\n"
     ]
    },
    {
     "data": {
      "text/markdown": [
       "<b>total number of people</b> = 100 ppl"
      ],
      "text/plain": [
       "<IPython.core.display.Markdown object>"
      ]
     },
     "metadata": {},
     "output_type": "display_data"
    },
    {
     "data": {
      "text/markdown": [
       "<b>assumed people latent gain</b> = 55 w/p"
      ],
      "text/plain": [
       "<IPython.core.display.Markdown object>"
      ]
     },
     "metadata": {},
     "output_type": "display_data"
    },
    {
     "data": {
      "text/markdown": [
       "<b>assumed people sensible gain</b> = 75 w/p"
      ],
      "text/plain": [
       "<IPython.core.display.Markdown object>"
      ]
     },
     "metadata": {},
     "output_type": "display_data"
    },
    {
     "data": {
      "text/markdown": [
       "<b>total heat gain from people</b> = 13.0 kw"
      ],
      "text/plain": [
       "<IPython.core.display.Markdown object>"
      ]
     },
     "metadata": {},
     "output_type": "display_data"
    },
    {
     "data": {
      "text/markdown": [
       "<b>required flowrate to overcome gains</b> = 0.84 m3/s"
      ],
      "text/plain": [
       "<IPython.core.display.Markdown object>"
      ]
     },
     "metadata": {},
     "output_type": "display_data"
    },
    {
     "data": {
      "text/plain": [
       "0.84"
      ]
     },
     "execution_count": 10,
     "metadata": {},
     "output_type": "execute_result"
    }
   ],
   "source": [
    "from mf_modules.eng_calcs import vent_cooling\n",
    "help(vent_cooling)\n",
    "vent_cooling(no_ppl=100,v_m3=378.571322)"
   ]
  },
  {
   "cell_type": "code",
   "execution_count": 11,
   "metadata": {},
   "outputs": [
    {
     "data": {
      "application/vnd.jupyter.widget-view+json": {
       "model_id": "ab3dcdce29624d27b36089b3150d6cfc",
       "version_major": 2,
       "version_minor": 0
      },
      "text/plain": [
       "Canvas(toolbar=Toolbar(toolitems=[('Home', 'Reset original view', 'home', 'home'), ('Back', 'Back to previous …"
      ]
     },
     "metadata": {},
     "output_type": "display_data"
    },
    {
     "data": {
      "application/vnd.jupyter.widget-view+json": {
       "model_id": "686b98d789f04f2eba4245b337a0e09c",
       "version_major": 2,
       "version_minor": 0
      },
      "text/plain": [
       "VBox(children=(HBox(children=(VBox(children=(HBox(children=(Button(description='Add Opening', style=ButtonStyl…"
      ]
     },
     "metadata": {},
     "output_type": "display_data"
    }
   ],
   "source": [
    "a = AIDA()\n",
    "a"
   ]
  },
  {
   "cell_type": "code",
   "execution_count": null,
   "metadata": {},
   "outputs": [],
   "source": []
  },
  {
   "cell_type": "code",
   "execution_count": null,
   "metadata": {},
   "outputs": [],
   "source": []
  },
  {
   "cell_type": "code",
   "execution_count": null,
   "metadata": {},
   "outputs": [],
   "source": []
  },
  {
   "cell_type": "code",
   "execution_count": 1,
   "metadata": {},
   "outputs": [],
   "source": [
    "def vent_cooling(no_ppl=5, v_m3=80, deltaT=3, ppl_gain_sens=75, ppl_gain_lat=55, other_gain_w=0, show=True):\n",
    "    '''\n",
    "    cooling associated to a vent flowrate as a function of gains and deltaT\n",
    "    \n",
    "    can be used with AIDA to size windows / nat vent requirements\n",
    "    Note.\n",
    "    from mf_modules.import_notebook import *\n",
    "    from notebooks.NaturalVentCalculator import *\n",
    "    AIDA()\n",
    "\n",
    "    Args:\n",
    "        no_ppl (int): =5 no,  number of people\n",
    "        v_m3 (float): =80 m3, volume of room\n",
    "        deltaT (float): =3 degC, temperature differential between room T and supply air T\n",
    "        ppl_gain_sens (float): =75 w/person, sensible heat gain to room from people\n",
    "        ppl_gain_lat (float): =55 w/person, latent heat gain to room from people\n",
    "        other_gain_w (float): =0 w, other gains to the room\n",
    "        show (bool): =True, show a formatted output of results\n",
    "\n",
    "    Returns:\n",
    "        v_flow (float): m3/s, volume flow rate of ventilation for cooling\n",
    "\n",
    "    '''\n",
    "    \n",
    "    ppl_gain = no_ppl*(ppl_gain_sens+ppl_gain_lat)\n",
    "    ttl_sens = no_ppl * ppl_gain_sens\n",
    "    ttl_lat = no_ppl * ppl_gain_lat\n",
    "    ttl_gain = ttl_lat + ttl_sens\n",
    "    #ttl_gain = np.round(ttl_gain/1000,2)\n",
    "    Cp = 4200 #kj/k.kg\n",
    "    ro = 1.225 #kg/m3\n",
    "\n",
    "    #m = ro * v_m3 #kg\n",
    "    #e = m * Cp * deltaT #kj\n",
    "    v_flow = np.round(ttl_gain/(ro * Cp * deltaT),2)#m3\n",
    "    \n",
    "    if show==True:\n",
    "        display(Markdown('<b>total number of people</b> = {0} ppl'.format(no_ppl)))\n",
    "        display(Markdown('<b>assumed people latent gain</b> = {0} w/p'.format(ppl_gain_lat)))\n",
    "        display(Markdown('<b>assumed people sensible gain</b> = {0} w/p'.format(ppl_gain_sens)))\n",
    "        if other_gain_w==0:\n",
    "            display(Markdown('<b>total heat gain from people</b> = {0} kw'.format(ttl_gain)))\n",
    "        else:\n",
    "            display(Markdown('<b>total heat gain from people</b> = {0} w'.format(ppl_gain)))\n",
    "            display(Markdown('<b>total other heat gain</b> = {0} w'.format(other_gain_w)))\n",
    "        display(Markdown('<b>required flowrate to overcome gains</b> = {0} m3/s'.format(v_flow)))\n",
    "    \n",
    "    return v_flow"
   ]
  },
  {
   "cell_type": "code",
   "execution_count": 5,
   "metadata": {},
   "outputs": [
    {
     "data": {
      "text/html": [
       "<div>\n",
       "<style scoped>\n",
       "    .dataframe tbody tr th:only-of-type {\n",
       "        vertical-align: middle;\n",
       "    }\n",
       "\n",
       "    .dataframe tbody tr th {\n",
       "        vertical-align: top;\n",
       "    }\n",
       "\n",
       "    .dataframe thead th {\n",
       "        text-align: right;\n",
       "    }\n",
       "</style>\n",
       "<table border=\"1\" class=\"dataframe\">\n",
       "  <thead>\n",
       "    <tr style=\"text-align: right;\">\n",
       "      <th></th>\n",
       "      <th>name</th>\n",
       "      <th>value</th>\n",
       "      <th>label</th>\n",
       "    </tr>\n",
       "  </thead>\n",
       "  <tbody>\n",
       "    <tr>\n",
       "      <th>0</th>\n",
       "      <td>no_ppl</td>\n",
       "      <td>5</td>\n",
       "      <td>no,  number of people</td>\n",
       "    </tr>\n",
       "    <tr>\n",
       "      <th>1</th>\n",
       "      <td>v_m3</td>\n",
       "      <td>80</td>\n",
       "      <td>m3, volume of room</td>\n",
       "    </tr>\n",
       "    <tr>\n",
       "      <th>2</th>\n",
       "      <td>deltaT</td>\n",
       "      <td>3</td>\n",
       "      <td>degC, temperature differential between room T ...</td>\n",
       "    </tr>\n",
       "    <tr>\n",
       "      <th>3</th>\n",
       "      <td>ppl_gain_sens</td>\n",
       "      <td>75</td>\n",
       "      <td>w/person, sensible heat gain to room from people</td>\n",
       "    </tr>\n",
       "    <tr>\n",
       "      <th>4</th>\n",
       "      <td>ppl_gain_lat</td>\n",
       "      <td>55</td>\n",
       "      <td>w/person, latent heat gain to room from people</td>\n",
       "    </tr>\n",
       "    <tr>\n",
       "      <th>5</th>\n",
       "      <td>other_gain_w</td>\n",
       "      <td>0</td>\n",
       "      <td>w, other gains to the room</td>\n",
       "    </tr>\n",
       "  </tbody>\n",
       "</table>\n",
       "</div>"
      ],
      "text/plain": [
       "            name  value                                              label\n",
       "0         no_ppl      5                              no,  number of people\n",
       "1           v_m3     80                                 m3, volume of room\n",
       "2         deltaT      3  degC, temperature differential between room T ...\n",
       "3  ppl_gain_sens     75   w/person, sensible heat gain to room from people\n",
       "4   ppl_gain_lat     55     w/person, latent heat gain to room from people\n",
       "5   other_gain_w      0                         w, other gains to the room"
      ]
     },
     "execution_count": 5,
     "metadata": {},
     "output_type": "execute_result"
    }
   ],
   "source": [
    "def vent_cooling(no_ppl=5, v_m3=80, deltaT=3, ppl_gain_sens=75, ppl_gain_lat=55, other_gain_w=0, show=True):\n",
    "    inputs = [\n",
    "        {\n",
    "        'name':'no_ppl',\n",
    "        'value':no_ppl,\n",
    "        'label':'no,  number of people'\n",
    "        },\n",
    "        {\n",
    "        'name':'v_m3',\n",
    "        'value':v_m3,\n",
    "        'label':'m3, volume of room'\n",
    "        },\n",
    "        {\n",
    "        'name':'deltaT',\n",
    "        'value':deltaT,\n",
    "        'label':'degC, temperature differential between room T and supply air T'\n",
    "        },\n",
    "        {\n",
    "        'name':'ppl_gain_sens',\n",
    "        'value':ppl_gain_sens,\n",
    "        'label':'w/person, sensible heat gain to room from people'\n",
    "        },\n",
    "        {\n",
    "        'name':'ppl_gain_lat',\n",
    "        'value':ppl_gain_lat,\n",
    "        'label':'w/person, latent heat gain to room from people'\n",
    "        },\n",
    "        {\n",
    "        'name':'other_gain_w',\n",
    "        'value':other_gain_w,\n",
    "        'label':'w, other gains to the room'\n",
    "        }\n",
    "    ]\n",
    "    \n",
    "    outputs = [\n",
    "        {\n",
    "        'name':'v_flow',\n",
    "        'value':v_flow,\n",
    "        'label':'m3/s, volume flow rate of ventilation for cooling'\n",
    "        },\n",
    "    ]\n",
    "\n",
    "    return pd.DataFrame.from_dict(di)\n",
    "import pandas as pd\n",
    "vent_cooling()"
   ]
  },
  {
   "cell_type": "code",
   "execution_count": null,
   "metadata": {},
   "outputs": [],
   "source": []
  }
 ],
 "metadata": {
  "kernelspec": {
   "display_name": "Python 3",
   "language": "python",
   "name": "python3"
  },
  "language_info": {
   "codemirror_mode": {
    "name": "ipython",
    "version": 3
   },
   "file_extension": ".py",
   "mimetype": "text/x-python",
   "name": "python",
   "nbconvert_exporter": "python",
   "pygments_lexer": "ipython3",
   "version": "3.7.7"
  },
  "widgets": {
   "application/vnd.jupyter.widget-state+json": {
    "state": {
     "0064fe10842744999707a58b948b96bb": {
      "model_module": "@jupyter-widgets/base",
      "model_module_version": "1.2.0",
      "model_name": "LayoutModel",
      "state": {}
     },
     "00e989f577874ca7ac655c71b4950714": {
      "model_module": "@jupyter-widgets/controls",
      "model_module_version": "1.5.0",
      "model_name": "DescriptionStyleModel",
      "state": {
       "description_width": ""
      }
     },
     "02b5dfba06694a6a99b1780ac99fca54": {
      "model_module": "@jupyter-widgets/base",
      "model_module_version": "1.2.0",
      "model_name": "LayoutModel",
      "state": {
       "width": "300px"
      }
     },
     "0308b5f9ac2b43b7b21eeac7bffc65ab": {
      "model_module": "@jupyter-widgets/controls",
      "model_module_version": "1.5.0",
      "model_name": "FloatSliderModel",
      "state": {
       "layout": "IPY_MODEL_632eba3d4d6e4fa6a851a6478e0cf727",
       "max": 25,
       "step": 0.1,
       "style": "IPY_MODEL_73d60a16f1ca490facb1d43e4e6e0503",
       "value": 1.2
      }
     },
     "031bb874d4b640e39ebdc1263a2d571e": {
      "model_module": "@jupyter-widgets/controls",
      "model_module_version": "1.5.0",
      "model_name": "HTMLModel",
      "state": {
       "layout": "IPY_MODEL_8e6db4fef1db4bf3bacf04206ffd5642",
       "style": "IPY_MODEL_aa727236c8f34e4aa6ac4bcc669d4b65",
       "value": "<h3>Internal Temperature 29.5(°C)</h3>"
      }
     },
     "03cec40cba1a408188abbc5d9367e13a": {
      "model_module": "@jupyter-widgets/base",
      "model_module_version": "1.2.0",
      "model_name": "LayoutModel",
      "state": {}
     },
     "04cd993379574c20a5c970404d612fcd": {
      "model_module": "@jupyter-widgets/controls",
      "model_module_version": "1.5.0",
      "model_name": "DescriptionStyleModel",
      "state": {
       "description_width": ""
      }
     },
     "04d7fbfffa8d419f95c12b392c5edc4f": {
      "model_module": "@jupyter-widgets/base",
      "model_module_version": "1.2.0",
      "model_name": "LayoutModel",
      "state": {}
     },
     "05bbdf8d64cc4dac8986b710fe05daf9": {
      "model_module": "@jupyter-widgets/controls",
      "model_module_version": "1.5.0",
      "model_name": "LabelModel",
      "state": {
       "layout": "IPY_MODEL_43705e1e259c48c485e1c9762e8dfe98",
       "style": "IPY_MODEL_45ced92a56aa4cf8a1e5ebb67bd2526d",
       "value": "Internal Gain (W)"
      }
     },
     "06412d24c9c643798a4485ff32c1bf0a": {
      "model_module": "@jupyter-widgets/base",
      "model_module_version": "1.2.0",
      "model_name": "LayoutModel",
      "state": {}
     },
     "075c10ac9adb47b2a890c1e13ad2ac06": {
      "model_module": "@jupyter-widgets/controls",
      "model_module_version": "1.5.0",
      "model_name": "SliderStyleModel",
      "state": {
       "description_width": ""
      }
     },
     "084da26e1a49418c8455561ad8a6a9b3": {
      "model_module": "@jupyter-widgets/controls",
      "model_module_version": "1.5.0",
      "model_name": "DescriptionStyleModel",
      "state": {
       "description_width": ""
      }
     },
     "0854a046d24c40fdb4e893245568ace8": {
      "model_module": "@jupyter-widgets/base",
      "model_module_version": "1.2.0",
      "model_name": "LayoutModel",
      "state": {}
     },
     "08c295b4ef0a482a9f8c329e65ac360f": {
      "model_module": "@jupyter-widgets/base",
      "model_module_version": "1.2.0",
      "model_name": "LayoutModel",
      "state": {}
     },
     "099f7d5cc51b4ffaba2b3b17acb4f18c": {
      "model_module": "@jupyter-widgets/controls",
      "model_module_version": "1.5.0",
      "model_name": "HBoxModel",
      "state": {
       "children": [
        "IPY_MODEL_91c13afeb02e42cfb4482dc4ad3378ba",
        "IPY_MODEL_b2dcc3ee8d5446d3bc5c3cb7d2739741"
       ],
       "layout": "IPY_MODEL_7a22bcb0593946669000c9ba08b8d901"
      }
     },
     "0a1f29a80fd24600a899c9f8667aab1b": {
      "model_module": "@jupyter-widgets/base",
      "model_module_version": "1.2.0",
      "model_name": "LayoutModel",
      "state": {
       "width": "300px"
      }
     },
     "0bf39f953cef44089736961f64d17c59": {
      "model_module": "@jupyter-widgets/base",
      "model_module_version": "1.2.0",
      "model_name": "LayoutModel",
      "state": {}
     },
     "0cace546d6cd46b58856b5a2869e817a": {
      "model_module": "@jupyter-widgets/controls",
      "model_module_version": "1.5.0",
      "model_name": "SliderStyleModel",
      "state": {
       "description_width": ""
      }
     },
     "0f65e926290148988c51972cbadfc90a": {
      "model_module": "@jupyter-widgets/controls",
      "model_module_version": "1.5.0",
      "model_name": "DescriptionStyleModel",
      "state": {
       "description_width": ""
      }
     },
     "10810fff4e48488fabff82914d8c2b64": {
      "model_module": "@jupyter-widgets/controls",
      "model_module_version": "1.5.0",
      "model_name": "HTMLModel",
      "state": {
       "layout": "IPY_MODEL_d57771d976a248b7952093f0b6fd2a1f",
       "style": "IPY_MODEL_defafebfc1794b30867d9e68c9cd3031",
       "value": "<h2>Guide</h2>                 <h3>Properties:</h3>                <b>Global</b> <br/>                <b>Internal Temperature:</b> The temperature of the room - only used when Internal Gain is 0W <br/>                <b>External Temperature:</b> The outdoor dr bulb temperature. <br/>                <b>Internal Gain:</b> Heat Gain in the room - if greater than zero then this will be used - otherwise the user defined internal temperature is considered. <br/>                <b>Wind Speed:</b> The wind speed in m/s at a height of 10m. <br/>                <b>Opening</b> <br/>                <b>Area:</b> The free area of the opening<br/>                <b>Discharge Coefficient:</b> Open windows=0.6, Louvres=0.4, Acoustic Louvres=0.2 <br/>                <b>Height:</b> The height above floor level of the opening. <br/>                <b>Wind Coeff. / Mech. flowrate (m³/s):</b> The Wind coefficient of the opening (ref DIBSE Guide A 4-8) OR the Mechanical Supply <br/>                <b>Mechanical Supply/Extract?:</b> Opening is a mechanical inlet/outlet. If this is checked the Wind coefficient is used as the flow rate in m³/s (+ve is supply, -ve is extract.)  <br/>                <h3>Functions:</h3>                <b>Add Opening:</b> Add an opening to the room. <br/>                <b>Remove Opening:</b> Remove an opening to the room. <br/>                <b>Solve:</b> Automatic solving is enabled however it can also be done manually. <br/>                <h3>Outputs:</h3>                <b>Imbalance:</b> The flow imbalance in the room the smaller the better. This represents the calculation accuracy. <br/>                <b>Internal Temperature:</b> If Internal Gain is greater than 0W this is the calculated internal temperature.                N.B. When using mechanical supply the supply air is assumed to be outside air temperature. For different supply temperatures add the heating/cooling to the internal gain.                This will require a hand calc.<br/>                <b>Flowrate:</b> The volume flow rate through each opening (+ve is into the room, -ve is out of the room.) <br/>"
      }
     },
     "1107240b59124651947436fd1290df83": {
      "model_module": "@jupyter-widgets/controls",
      "model_module_version": "1.5.0",
      "model_name": "HTMLModel",
      "state": {
       "layout": "IPY_MODEL_53264db4f98a4d868c70a89efd3882de",
       "style": "IPY_MODEL_aabf193e13a44b71a3dd4d7157d61d3a",
       "value": "<h3>Flowrate (m³/s) 0.76</h3>"
      }
     },
     "1176a0ffb62349e6a534b987a0ce3d2c": {
      "model_module": "@jupyter-widgets/controls",
      "model_module_version": "1.5.0",
      "model_name": "LabelModel",
      "state": {
       "layout": "IPY_MODEL_2a9841d90397416cb726816ba09e77f6",
       "style": "IPY_MODEL_e0ff18a2f14f419dab76f3bf1ee4b77b",
       "value": "Internal Temperature (°C)"
      }
     },
     "12bced024d0e41bb92030e22a4ec0cb6": {
      "model_module": "@jupyter-widgets/controls",
      "model_module_version": "1.5.0",
      "model_name": "FloatSliderModel",
      "state": {
       "layout": "IPY_MODEL_daec7200f26c402e98e1dd5e7c1351c3",
       "max": 25,
       "step": 0.1,
       "style": "IPY_MODEL_8d6e905d128e4f37ab5bfe1b9f96f830",
       "value": 7.5
      }
     },
     "13a59616a7a44e4f9e92903c66b4f5fa": {
      "model_module": "@jupyter-widgets/base",
      "model_module_version": "1.2.0",
      "model_name": "LayoutModel",
      "state": {}
     },
     "13c4f98ab21342c78dfb30b4c23bb3ee": {
      "model_module": "@jupyter-widgets/controls",
      "model_module_version": "1.5.0",
      "model_name": "HBoxModel",
      "state": {
       "children": [
        "IPY_MODEL_b5e76c55aa8c43489beb20f7ab0f31d4",
        "IPY_MODEL_7b18a8b8458d4fc3b2de5ae1521d3b34",
        "IPY_MODEL_ffcccd884e6d463cb0ee5491742df6f2"
       ],
       "layout": "IPY_MODEL_f0e91035e45e47c29cacab4ed5b745b8"
      }
     },
     "1412c99c079c4b6b9707db549b8095d5": {
      "model_module": "@jupyter-widgets/controls",
      "model_module_version": "1.5.0",
      "model_name": "FloatSliderModel",
      "state": {
       "layout": "IPY_MODEL_9713ab432232480786cede8268567337",
       "max": 1,
       "step": 0.01,
       "style": "IPY_MODEL_e7ab779b7b2f4098ad4480ac15c8ef51",
       "value": 0.6
      }
     },
     "15db4245f7544ba59bbbe68da096f58c": {
      "model_module": "@jupyter-widgets/base",
      "model_module_version": "1.2.0",
      "model_name": "LayoutModel",
      "state": {
       "width": "300px"
      }
     },
     "165a69b48940418884e3452fe23f84da": {
      "model_module": "@jupyter-widgets/base",
      "model_module_version": "1.2.0",
      "model_name": "LayoutModel",
      "state": {
       "width": "300px"
      }
     },
     "18bc24b7315747f6820a6b805199132e": {
      "model_module": "@jupyter-widgets/controls",
      "model_module_version": "1.5.0",
      "model_name": "HTMLModel",
      "state": {
       "layout": "IPY_MODEL_62744f228e204c7baf0b6363f2067944",
       "style": "IPY_MODEL_d5d2f5dd2dbd41b68216cde907cd5df3",
       "value": "<h3>Flowrate (m³/s) 0.76</h3>"
      }
     },
     "1abd3a799d5b4ecdb401b15b2246e437": {
      "model_module": "@jupyter-widgets/base",
      "model_module_version": "1.2.0",
      "model_name": "LayoutModel",
      "state": {}
     },
     "1ad33733e3a94d20b1013038af7f6bd3": {
      "model_module": "@jupyter-widgets/controls",
      "model_module_version": "1.5.0",
      "model_name": "HBoxModel",
      "state": {
       "children": [
        "IPY_MODEL_f3f0854a97d84cc0902288e6eb406fb7",
        "IPY_MODEL_8fa869fc51e74cab95a4087052492338"
       ],
       "layout": "IPY_MODEL_59e0e1d2cdc546d88705b24025f61ab8"
      }
     },
     "1bcaaa31304c4a71ac70b1e46cb4e998": {
      "model_module": "@jupyter-widgets/controls",
      "model_module_version": "1.5.0",
      "model_name": "HTMLModel",
      "state": {
       "layout": "IPY_MODEL_5c79fa05f6014e7dad4baff7ab527ad1",
       "style": "IPY_MODEL_f047ace1ba194681bc418834afba68b1",
       "value": "<h3>Flowrates (m³/s) [ 1.98 -1.97]</h3>"
      }
     },
     "1bda4d6cbb7745d495195751084b0265": {
      "model_module": "@jupyter-widgets/controls",
      "model_module_version": "1.5.0",
      "model_name": "HTMLModel",
      "state": {
       "layout": "IPY_MODEL_5b5fe54cff5148cabe85672ea181d04f",
       "style": "IPY_MODEL_28a662e54d674faab72f4b693ff7ed15",
       "value": "<h3>Flowrate (m³/s) -0.76</h3>"
      }
     },
     "1c37454902eb469fa3edb806a4ede67c": {
      "model_module": "@jupyter-widgets/controls",
      "model_module_version": "1.5.0",
      "model_name": "HBoxModel",
      "state": {
       "children": [
        "IPY_MODEL_2e5b16a4a52341fb9a8687f07405b2a2",
        "IPY_MODEL_60f68d1d429d47a498645713451185c0"
       ],
       "layout": "IPY_MODEL_38334a09fefe4933adada680696e2dc6"
      }
     },
     "1c5f5923daf249a09cabd94e3c054a73": {
      "model_module": "@jupyter-widgets/base",
      "model_module_version": "1.2.0",
      "model_name": "LayoutModel",
      "state": {}
     },
     "1d2c7084de43432e8cc306aa48af68f0": {
      "model_module": "@jupyter-widgets/controls",
      "model_module_version": "1.5.0",
      "model_name": "DescriptionStyleModel",
      "state": {
       "description_width": ""
      }
     },
     "1d2fe18a60f84f3cad80d934b85c31f3": {
      "model_module": "@jupyter-widgets/controls",
      "model_module_version": "1.5.0",
      "model_name": "HBoxModel",
      "state": {
       "children": [
        "IPY_MODEL_7d9740c51234467789293bc218c9fbb2",
        "IPY_MODEL_4f2b725e701c4cabaee908f70ba332e1"
       ],
       "layout": "IPY_MODEL_9ab0cadc805749f3b85ce5799592d9bb"
      }
     },
     "1d890b8bbcc5466698badbbb0ac9bd48": {
      "model_module": "@jupyter-widgets/base",
      "model_module_version": "1.2.0",
      "model_name": "LayoutModel",
      "state": {}
     },
     "1df112ef6d554082853cc1fd3091de68": {
      "model_module": "@jupyter-widgets/controls",
      "model_module_version": "1.5.0",
      "model_name": "SliderStyleModel",
      "state": {
       "description_width": ""
      }
     },
     "1f1fb59fdbad4392a7cdcd5f7d22f920": {
      "model_module": "@jupyter-widgets/base",
      "model_module_version": "1.2.0",
      "model_name": "LayoutModel",
      "state": {}
     },
     "1f64879bd7794cc3bbd6cb33400286a7": {
      "model_module": "@jupyter-widgets/controls",
      "model_module_version": "1.5.0",
      "model_name": "DescriptionStyleModel",
      "state": {
       "description_width": ""
      }
     },
     "2024b63d05a54962a46f7ded8fcde03d": {
      "model_module": "@jupyter-widgets/controls",
      "model_module_version": "1.5.0",
      "model_name": "HTMLModel",
      "state": {
       "layout": "IPY_MODEL_87dbf900ae2a4f2885bb2400a4058a38",
       "style": "IPY_MODEL_41bb9a1363ff42da8e2ed9e3d22e946c",
       "value": "<h3>Imbalance 0.02(m³/s); 1.3(%) </h3>"
      }
     },
     "202895ad54854c74b0839011f6961b1d": {
      "model_module": "@jupyter-widgets/controls",
      "model_module_version": "1.5.0",
      "model_name": "CheckboxModel",
      "state": {
       "disabled": false,
       "layout": "IPY_MODEL_e0b7238f8df949939ec1ce96901db606",
       "style": "IPY_MODEL_7ee3a6a2d39f46bca27b944cad9951a0",
       "value": false
      }
     },
     "2219acd624ae4ed8825f3f20c00d2448": {
      "model_module": "@jupyter-widgets/controls",
      "model_module_version": "1.5.0",
      "model_name": "LabelModel",
      "state": {
       "layout": "IPY_MODEL_915493ba719142b48a235da4bacc6754",
       "style": "IPY_MODEL_cd25a1f9976743f0b255619fff1127fd",
       "value": "Internal Temperature (°C)"
      }
     },
     "225916a87459478b83b5b01574af7637": {
      "model_module": "@jupyter-widgets/controls",
      "model_module_version": "1.5.0",
      "model_name": "ButtonModel",
      "state": {
       "description": "Remove Opening",
       "layout": "IPY_MODEL_7affbe58188a4ade9cadad75ad6d4adc",
       "style": "IPY_MODEL_a1cc09428ae64ad0b1c99713bbf17169"
      }
     },
     "226a9a7386b844bca97124a40fb82ff7": {
      "model_module": "@jupyter-widgets/controls",
      "model_module_version": "1.5.0",
      "model_name": "HBoxModel",
      "state": {
       "children": [
        "IPY_MODEL_05bbdf8d64cc4dac8986b710fe05daf9",
        "IPY_MODEL_7bab2e9ea652437abe1796ca02153ef6"
       ],
       "layout": "IPY_MODEL_e82d6bf9cb4545e39e740623eb9b36a1"
      }
     },
     "23a928f6084748c9b8321be106ba5a56": {
      "model_module": "@jupyter-widgets/base",
      "model_module_version": "1.2.0",
      "model_name": "LayoutModel",
      "state": {}
     },
     "23e31d0ea6c548cfbd86c2169c85fca4": {
      "model_module": "@jupyter-widgets/controls",
      "model_module_version": "1.5.0",
      "model_name": "HBoxModel",
      "state": {
       "children": [
        "IPY_MODEL_c5f19df97fea4855b6482e73d003a6e7",
        "IPY_MODEL_431e60bbb05242a48b7049a0ba45331c"
       ],
       "layout": "IPY_MODEL_06412d24c9c643798a4485ff32c1bf0a"
      }
     },
     "2546a2f8076d4078bba5a6a36d3bc889": {
      "model_module": "@jupyter-widgets/base",
      "model_module_version": "1.2.0",
      "model_name": "LayoutModel",
      "state": {}
     },
     "2600a1eaabaf4e30a945a8694ba009ac": {
      "model_module": "@jupyter-widgets/base",
      "model_module_version": "1.2.0",
      "model_name": "LayoutModel",
      "state": {}
     },
     "264de6d5ad994a838142661ba08820d4": {
      "model_module": "@jupyter-widgets/base",
      "model_module_version": "1.2.0",
      "model_name": "LayoutModel",
      "state": {}
     },
     "2762e56c77fb4d9d9934560c209f87b5": {
      "model_module": "@jupyter-widgets/controls",
      "model_module_version": "1.5.0",
      "model_name": "SliderStyleModel",
      "state": {
       "description_width": ""
      }
     },
     "279bdbabfbb1462ba12fa3df4f5bdc8d": {
      "model_module": "@jupyter-widgets/controls",
      "model_module_version": "1.5.0",
      "model_name": "HTMLModel",
      "state": {
       "layout": "IPY_MODEL_eea30176c07d41d1bd18d235d2cab31c",
       "style": "IPY_MODEL_2e5d66cd00734c6f91f3726ae0f258e3",
       "value": "<h2>Air Infiltration Development Algorithm</h2>"
      }
     },
     "27f264d1de5f4cc39183f92190040793": {
      "model_module": "@jupyter-widgets/base",
      "model_module_version": "1.2.0",
      "model_name": "LayoutModel",
      "state": {
       "width": "300px"
      }
     },
     "28a662e54d674faab72f4b693ff7ed15": {
      "model_module": "@jupyter-widgets/controls",
      "model_module_version": "1.5.0",
      "model_name": "DescriptionStyleModel",
      "state": {
       "description_width": ""
      }
     },
     "2982727b006c4c1eaec1e79b40c137d7": {
      "model_module": "@jupyter-widgets/controls",
      "model_module_version": "1.5.0",
      "model_name": "ButtonStyleModel",
      "state": {}
     },
     "2a9841d90397416cb726816ba09e77f6": {
      "model_module": "@jupyter-widgets/base",
      "model_module_version": "1.2.0",
      "model_name": "LayoutModel",
      "state": {}
     },
     "2b9cebeeed9b495da20be15e493aae42": {
      "model_module": "@jupyter-widgets/base",
      "model_module_version": "1.2.0",
      "model_name": "LayoutModel",
      "state": {
       "width": "300px"
      }
     },
     "2bcdcb6935b94515af598264c9ef6c75": {
      "model_module": "@jupyter-widgets/controls",
      "model_module_version": "1.5.0",
      "model_name": "HBoxModel",
      "state": {
       "children": [
        "IPY_MODEL_b0b8357dc9164ec98b98ae64c0986e75",
        "IPY_MODEL_1412c99c079c4b6b9707db549b8095d5"
       ],
       "layout": "IPY_MODEL_264de6d5ad994a838142661ba08820d4"
      }
     },
     "2dab38348c1b4f19a58ca0ff73966562": {
      "model_module": "@jupyter-widgets/base",
      "model_module_version": "1.2.0",
      "model_name": "LayoutModel",
      "state": {}
     },
     "2dfb7d1641be4952ac9f7bcab7a49f47": {
      "model_module": "@jupyter-widgets/base",
      "model_module_version": "1.2.0",
      "model_name": "LayoutModel",
      "state": {}
     },
     "2e3dbbe37adf426bbd6a5750becdfe8c": {
      "model_module": "@jupyter-widgets/controls",
      "model_module_version": "1.5.0",
      "model_name": "SliderStyleModel",
      "state": {
       "description_width": ""
      }
     },
     "2e5b16a4a52341fb9a8687f07405b2a2": {
      "model_module": "@jupyter-widgets/controls",
      "model_module_version": "1.5.0",
      "model_name": "LabelModel",
      "state": {
       "layout": "IPY_MODEL_4b0bf21428b644658c39753d8f6e9b9a",
       "style": "IPY_MODEL_e13b6d91cec84dcba434cb565f2215d5",
       "value": "Mechanical Supply/Extract?"
      }
     },
     "2e5d66cd00734c6f91f3726ae0f258e3": {
      "model_module": "@jupyter-widgets/controls",
      "model_module_version": "1.5.0",
      "model_name": "DescriptionStyleModel",
      "state": {
       "description_width": ""
      }
     },
     "2ea2c36fc8364d7fb1635d2c07adffbd": {
      "model_module": "@jupyter-widgets/base",
      "model_module_version": "1.2.0",
      "model_name": "LayoutModel",
      "state": {}
     },
     "2eb077f341aa429a945befe20429d3ef": {
      "model_module": "@jupyter-widgets/controls",
      "model_module_version": "1.5.0",
      "model_name": "HBoxModel",
      "state": {
       "children": [
        "IPY_MODEL_305a76ee224c4fe59f1dd181c3e61e5f",
        "IPY_MODEL_0308b5f9ac2b43b7b21eeac7bffc65ab"
       ],
       "layout": "IPY_MODEL_e3fda4f522e14b5c94c07828a0c842d1"
      }
     },
     "305a76ee224c4fe59f1dd181c3e61e5f": {
      "model_module": "@jupyter-widgets/controls",
      "model_module_version": "1.5.0",
      "model_name": "LabelModel",
      "state": {
       "layout": "IPY_MODEL_1d890b8bbcc5466698badbbb0ac9bd48",
       "style": "IPY_MODEL_68d467eef3a8431384426a9009266853",
       "value": "Height (m)"
      }
     },
     "329949f059054802b5e5d4c4a8847798": {
      "model_module": "@jupyter-widgets/base",
      "model_module_version": "1.2.0",
      "model_name": "LayoutModel",
      "state": {
       "width": "300px"
      }
     },
     "32e5d04ff9964503819882f86c9f6406": {
      "model_module": "@jupyter-widgets/controls",
      "model_module_version": "1.5.0",
      "model_name": "DescriptionStyleModel",
      "state": {
       "description_width": ""
      }
     },
     "343fb5aa327343bdb4932163b7fa3f15": {
      "model_module": "@jupyter-widgets/controls",
      "model_module_version": "1.5.0",
      "model_name": "SliderStyleModel",
      "state": {
       "description_width": ""
      }
     },
     "348250e278a14ff1b64d6430a1775a31": {
      "model_module": "@jupyter-widgets/controls",
      "model_module_version": "1.5.0",
      "model_name": "DescriptionStyleModel",
      "state": {
       "description_width": ""
      }
     },
     "35a041d48f144293b3f7b655a645abe4": {
      "model_module": "@jupyter-widgets/base",
      "model_module_version": "1.2.0",
      "model_name": "LayoutModel",
      "state": {}
     },
     "36317a4e05c647f597378cbde5abc6be": {
      "model_module": "@jupyter-widgets/base",
      "model_module_version": "1.2.0",
      "model_name": "LayoutModel",
      "state": {}
     },
     "37dedda9afa946d88a1d892beb7e65f7": {
      "model_module": "@jupyter-widgets/controls",
      "model_module_version": "1.5.0",
      "model_name": "LabelModel",
      "state": {
       "layout": "IPY_MODEL_0064fe10842744999707a58b948b96bb",
       "style": "IPY_MODEL_9c0d567337a6499b87f64c21d1c8700c",
       "value": "Discharge Coefficient"
      }
     },
     "38334a09fefe4933adada680696e2dc6": {
      "model_module": "@jupyter-widgets/base",
      "model_module_version": "1.2.0",
      "model_name": "LayoutModel",
      "state": {}
     },
     "3913aa1ffe0f4da9a024c176068f4090": {
      "model_module": "@jupyter-widgets/base",
      "model_module_version": "1.2.0",
      "model_name": "LayoutModel",
      "state": {}
     },
     "39c607d5b9a147c5933970718738e34e": {
      "model_module": "@jupyter-widgets/base",
      "model_module_version": "1.2.0",
      "model_name": "LayoutModel",
      "state": {
       "width": "300px"
      }
     },
     "3a69676892c84f35948045a1df1e8290": {
      "model_module": "@jupyter-widgets/controls",
      "model_module_version": "1.5.0",
      "model_name": "DescriptionStyleModel",
      "state": {
       "description_width": ""
      }
     },
     "3ad6bfc1e3b741c1812577467f45d40a": {
      "model_module": "@jupyter-widgets/base",
      "model_module_version": "1.2.0",
      "model_name": "LayoutModel",
      "state": {
       "width": "300px"
      }
     },
     "3b09e4b59a6c4e5fab5200c3dd7143b2": {
      "model_module": "@jupyter-widgets/controls",
      "model_module_version": "1.5.0",
      "model_name": "HTMLModel",
      "state": {
       "layout": "IPY_MODEL_80d94ca56ff44554b7bbceb77d19d49f",
       "style": "IPY_MODEL_4b33a6128bf7437182b54964207b3a9a",
       "value": "<h3>Internal Temperature 28.2(°C)</h3>"
      }
     },
     "3b6a1d4a1a0a4cc28822244d2e212d7f": {
      "model_module": "@jupyter-widgets/base",
      "model_module_version": "1.2.0",
      "model_name": "LayoutModel",
      "state": {
       "width": "300px"
      }
     },
     "3b99dfacfa84464cb6b599e6a1550f31": {
      "model_module": "@jupyter-widgets/controls",
      "model_module_version": "1.5.0",
      "model_name": "LabelModel",
      "state": {
       "layout": "IPY_MODEL_e205469a523441d4bc5f8e82937e9db0",
       "style": "IPY_MODEL_1f64879bd7794cc3bbd6cb33400286a7",
       "value": "Area (m²)"
      }
     },
     "3d477d2f3ac84fc3bacbd85423ea8587": {
      "model_module": "@jupyter-widgets/controls",
      "model_module_version": "1.5.0",
      "model_name": "LabelModel",
      "state": {
       "layout": "IPY_MODEL_0bf39f953cef44089736961f64d17c59",
       "style": "IPY_MODEL_ade45d5e11f647e8b73a5142a67a5dba",
       "value": "Height (m)"
      }
     },
     "3f1692b98fdd415cb7bff605e15a28e9": {
      "model_module": "@jupyter-widgets/controls",
      "model_module_version": "1.5.0",
      "model_name": "HBoxModel",
      "state": {
       "children": [
        "IPY_MODEL_57bee27fdf3d4f3ca0b8a0418853aba8",
        "IPY_MODEL_7e3d8679bff249b396ac317845b81ec5"
       ],
       "layout": "IPY_MODEL_753c0b63909148e39cba77eaaa9027c0"
      }
     },
     "3f60453ce3ae4d8aba786f94d0e15455": {
      "model_module": "@jupyter-widgets/base",
      "model_module_version": "1.2.0",
      "model_name": "LayoutModel",
      "state": {}
     },
     "3f9ed590ac7d455392b4ed555cd075d4": {
      "model_module": "@jupyter-widgets/controls",
      "model_module_version": "1.5.0",
      "model_name": "FloatSliderModel",
      "state": {
       "layout": "IPY_MODEL_02b5dfba06694a6a99b1780ac99fca54",
       "max": 10,
       "min": -10,
       "step": 0.1,
       "style": "IPY_MODEL_c399bc1e5c674da787603f8fbffc7776"
      }
     },
     "4049254a0f334801aed89cc188a43d45": {
      "model_module": "@jupyter-widgets/controls",
      "model_module_version": "1.5.0",
      "model_name": "FloatSliderModel",
      "state": {
       "layout": "IPY_MODEL_39c607d5b9a147c5933970718738e34e",
       "max": 40,
       "min": -10,
       "step": 0.1,
       "style": "IPY_MODEL_b862cf5319554c0da34b6f63aa17abf1",
       "value": 25
      }
     },
     "4080e02461bd4b4b92b5acad08a31972": {
      "model_module": "@jupyter-widgets/controls",
      "model_module_version": "1.5.0",
      "model_name": "CheckboxModel",
      "state": {
       "disabled": false,
       "layout": "IPY_MODEL_3913aa1ffe0f4da9a024c176068f4090",
       "style": "IPY_MODEL_dfb75a64c24747208c5999e1a4976c11",
       "value": false
      }
     },
     "412de3b467ae4aeaa6f26f91d2c8d605": {
      "model_module": "jupyter-matplotlib",
      "model_module_version": "^0.7.2",
      "model_name": "ToolbarModel",
      "state": {
       "layout": "IPY_MODEL_36317a4e05c647f597378cbde5abc6be",
       "toolitems": [
        [
         "Home",
         "Reset original view",
         "home",
         "home"
        ],
        [
         "Back",
         "Back to previous view",
         "arrow-left",
         "back"
        ],
        [
         "Forward",
         "Forward to next view",
         "arrow-right",
         "forward"
        ],
        [
         "Pan",
         "Pan axes with left mouse, zoom with right",
         "arrows",
         "pan"
        ],
        [
         "Zoom",
         "Zoom to rectangle",
         "square-o",
         "zoom"
        ],
        [
         "Download",
         "Download plot",
         "floppy-o",
         "save_figure"
        ]
       ]
      }
     },
     "418f8a0dc5004287a470469a18315a06": {
      "model_module": "@jupyter-widgets/base",
      "model_module_version": "1.2.0",
      "model_name": "LayoutModel",
      "state": {}
     },
     "41bb9a1363ff42da8e2ed9e3d22e946c": {
      "model_module": "@jupyter-widgets/controls",
      "model_module_version": "1.5.0",
      "model_name": "DescriptionStyleModel",
      "state": {
       "description_width": ""
      }
     },
     "422f33f053b54703bf5421ff90fcf7ab": {
      "model_module": "@jupyter-widgets/controls",
      "model_module_version": "1.5.0",
      "model_name": "VBoxModel",
      "state": {
       "children": [
        "IPY_MODEL_487d9b2d56d944a581eb7d243821e5d4",
        "IPY_MODEL_2024b63d05a54962a46f7ded8fcde03d",
        "IPY_MODEL_8cfc165ca5354939aaa41793f44a5958"
       ],
       "layout": "IPY_MODEL_6487e376dbd34120affd015050f5806d"
      }
     },
     "4276f91cb7fe4d2fbe95a0982b9de571": {
      "model_module": "@jupyter-widgets/base",
      "model_module_version": "1.2.0",
      "model_name": "LayoutModel",
      "state": {}
     },
     "431e60bbb05242a48b7049a0ba45331c": {
      "model_module": "@jupyter-widgets/controls",
      "model_module_version": "1.5.0",
      "model_name": "FloatSliderModel",
      "state": {
       "layout": "IPY_MODEL_718fd525cb9e4f589eab4b7bf24c04f2",
       "max": 10000,
       "step": 0.1,
       "style": "IPY_MODEL_57bf907091f0425983b5c9cf815e2434",
       "value": 8000
      }
     },
     "435e534d761647f6b5a36f1572def97d": {
      "model_module": "@jupyter-widgets/base",
      "model_module_version": "1.2.0",
      "model_name": "LayoutModel",
      "state": {}
     },
     "43705e1e259c48c485e1c9762e8dfe98": {
      "model_module": "@jupyter-widgets/base",
      "model_module_version": "1.2.0",
      "model_name": "LayoutModel",
      "state": {}
     },
     "437a4fb5db4a46e58155f01c123e988c": {
      "model_module": "@jupyter-widgets/base",
      "model_module_version": "1.2.0",
      "model_name": "LayoutModel",
      "state": {}
     },
     "4426c5ec9ff84cbf9b4ef1e26e4195fc": {
      "model_module": "@jupyter-widgets/controls",
      "model_module_version": "1.5.0",
      "model_name": "SliderStyleModel",
      "state": {
       "description_width": ""
      }
     },
     "45ced92a56aa4cf8a1e5ebb67bd2526d": {
      "model_module": "@jupyter-widgets/controls",
      "model_module_version": "1.5.0",
      "model_name": "DescriptionStyleModel",
      "state": {
       "description_width": ""
      }
     },
     "460e613fe1ed486e900b2b6c83609cce": {
      "model_module": "@jupyter-widgets/base",
      "model_module_version": "1.2.0",
      "model_name": "LayoutModel",
      "state": {}
     },
     "4857fbbd6cbe4dbb87bfc1c5f541e281": {
      "model_module": "@jupyter-widgets/controls",
      "model_module_version": "1.5.0",
      "model_name": "VBoxModel",
      "state": {
       "children": [
        "IPY_MODEL_be60bea7d97f4ea4b4a8ad4525cf35d7",
        "IPY_MODEL_796d90f704c74788b6bb716ce8b81988",
        "IPY_MODEL_e1692e39a4d84ba192113bccc569b7e4",
        "IPY_MODEL_84d0a7ab05a84c2f9fd9eb071fa4dfaf",
        "IPY_MODEL_a4b77d85ee6e4655bb3d6ebf14723cea",
        "IPY_MODEL_e92fd395ce81461ba07cf2db2cd7bcf4",
        "IPY_MODEL_1bda4d6cbb7745d495195751084b0265"
       ],
       "layout": "IPY_MODEL_685bd0e46fc245d5a878953ef0831492"
      }
     },
     "4858ca08b68b4602ae48f84075bbff6b": {
      "model_module": "@jupyter-widgets/controls",
      "model_module_version": "1.5.0",
      "model_name": "DescriptionStyleModel",
      "state": {
       "description_width": ""
      }
     },
     "487d9b2d56d944a581eb7d243821e5d4": {
      "model_module": "@jupyter-widgets/controls",
      "model_module_version": "1.5.0",
      "model_name": "HTMLModel",
      "state": {
       "layout": "IPY_MODEL_03cec40cba1a408188abbc5d9367e13a",
       "style": "IPY_MODEL_de28a3f2779042faba8f8c468b4c61d9",
       "value": "<h3>Flowrates (m³/s) [ 1.41 -0.7  -0.7 ]</h3>"
      }
     },
     "487f217483b74f9188c9af5c2a22bb28": {
      "model_module": "@jupyter-widgets/base",
      "model_module_version": "1.2.0",
      "model_name": "LayoutModel",
      "state": {}
     },
     "48bee6d2a6fb421684f2e314711c9016": {
      "model_module": "@jupyter-widgets/controls",
      "model_module_version": "1.5.0",
      "model_name": "FloatSliderModel",
      "state": {
       "layout": "IPY_MODEL_3ad6bfc1e3b741c1812577467f45d40a",
       "max": 40,
       "min": -10,
       "step": 0.1,
       "style": "IPY_MODEL_2e3dbbe37adf426bbd6a5750becdfe8c",
       "value": 25
      }
     },
     "4975ab166a864b68bdb39f0f5c87c0a5": {
      "model_module": "@jupyter-widgets/base",
      "model_module_version": "1.2.0",
      "model_name": "LayoutModel",
      "state": {}
     },
     "4b00a8ac3f854aa9b98629988818b783": {
      "model_module": "@jupyter-widgets/controls",
      "model_module_version": "1.5.0",
      "model_name": "LabelModel",
      "state": {
       "layout": "IPY_MODEL_9a64e95c171d4cb49933262527b88158",
       "style": "IPY_MODEL_fee98dd7205e4868822d39b8569bda69",
       "value": "Wind Coeff. / Mech. flowrate (m³/s)"
      }
     },
     "4b0bf21428b644658c39753d8f6e9b9a": {
      "model_module": "@jupyter-widgets/base",
      "model_module_version": "1.2.0",
      "model_name": "LayoutModel",
      "state": {}
     },
     "4b33a6128bf7437182b54964207b3a9a": {
      "model_module": "@jupyter-widgets/controls",
      "model_module_version": "1.5.0",
      "model_name": "DescriptionStyleModel",
      "state": {
       "description_width": ""
      }
     },
     "4b7ae08f2c2e4457a48e594d63d0e95c": {
      "model_module": "@jupyter-widgets/controls",
      "model_module_version": "1.5.0",
      "model_name": "SliderStyleModel",
      "state": {
       "description_width": ""
      }
     },
     "4c22af3acd6c42bf9c235785748cf67a": {
      "model_module": "@jupyter-widgets/controls",
      "model_module_version": "1.5.0",
      "model_name": "VBoxModel",
      "state": {
       "children": [
        "IPY_MODEL_a68321b7ed8945fc967f0018a584801f",
        "IPY_MODEL_83e0dc372e604ac2a9cb7e8fd51eadbb",
        "IPY_MODEL_23e31d0ea6c548cfbd86c2169c85fca4",
        "IPY_MODEL_c7afa229f25341e7a7993ff02b62156d"
       ],
       "layout": "IPY_MODEL_f259a8a366e74a718853bd84f5d4734b"
      }
     },
     "4c60d9a0104b4327a94fd961f2b9a2b5": {
      "model_module": "@jupyter-widgets/controls",
      "model_module_version": "1.5.0",
      "model_name": "VBoxModel",
      "state": {
       "children": [
        "IPY_MODEL_601c2177e3ad45c1bf2172bc3c16bf7f",
        "IPY_MODEL_1d2fe18a60f84f3cad80d934b85c31f3",
        "IPY_MODEL_dfe6105ba5424a3089e2aa4201adf969",
        "IPY_MODEL_2eb077f341aa429a945befe20429d3ef",
        "IPY_MODEL_3f1692b98fdd415cb7bff605e15a28e9",
        "IPY_MODEL_1c37454902eb469fa3edb806a4ede67c",
        "IPY_MODEL_1107240b59124651947436fd1290df83"
       ],
       "layout": "IPY_MODEL_685bd0e46fc245d5a878953ef0831492"
      }
     },
     "4cb15f7db2aa453c82b06013794fd041": {
      "model_module": "@jupyter-widgets/controls",
      "model_module_version": "1.5.0",
      "model_name": "VBoxModel",
      "state": {
       "children": [
        "IPY_MODEL_4c60d9a0104b4327a94fd961f2b9a2b5",
        "IPY_MODEL_4857fbbd6cbe4dbb87bfc1c5f541e281",
        "IPY_MODEL_e5cc60ed948c4d4a8abee9ddc67b1f0a",
        "IPY_MODEL_589a3de3d8104e54b77e5da92d6e0e72"
       ],
       "layout": "IPY_MODEL_abc65f3ae0ed42dbac3ccc974706f298"
      }
     },
     "4d8eb6d94a1c477b82d274f11dfc4b1e": {
      "model_module": "@jupyter-widgets/controls",
      "model_module_version": "1.5.0",
      "model_name": "DescriptionStyleModel",
      "state": {
       "description_width": ""
      }
     },
     "4dd4239f0fda49a8a35b139464446870": {
      "model_module": "@jupyter-widgets/base",
      "model_module_version": "1.2.0",
      "model_name": "LayoutModel",
      "state": {}
     },
     "4e6db074b2a14bdd9e12a150861cfa85": {
      "model_module": "@jupyter-widgets/controls",
      "model_module_version": "1.5.0",
      "model_name": "HTMLModel",
      "state": {
       "layout": "IPY_MODEL_ac6699265f0e469096d02131160c56f3",
       "style": "IPY_MODEL_bd8835669471426e91be91f86d064c6f",
       "value": "<h3>Flowrates (m³/s) [ 0.76 -0.76 -0.76  0.76]</h3>"
      }
     },
     "4f2954bd2a2f4743b2035c33db2ba52a": {
      "model_module": "@jupyter-widgets/controls",
      "model_module_version": "1.5.0",
      "model_name": "SliderStyleModel",
      "state": {
       "description_width": ""
      }
     },
     "4f2b725e701c4cabaee908f70ba332e1": {
      "model_module": "@jupyter-widgets/controls",
      "model_module_version": "1.5.0",
      "model_name": "FloatSliderModel",
      "state": {
       "layout": "IPY_MODEL_15db4245f7544ba59bbbe68da096f58c",
       "max": 25,
       "step": 0.1,
       "style": "IPY_MODEL_4f2954bd2a2f4743b2035c33db2ba52a",
       "value": 3.8
      }
     },
     "4f852b4826fa4b9b9cf51616ee1c13bf": {
      "model_module": "@jupyter-widgets/controls",
      "model_module_version": "1.5.0",
      "model_name": "HTMLModel",
      "state": {
       "layout": "IPY_MODEL_437a4fb5db4a46e58155f01c123e988c",
       "style": "IPY_MODEL_9daee184c5ef433aac9a0db1e9912f28",
       "value": "<h1>Welcome to AIDA</h1>"
      }
     },
     "50325a497fd84768b3554e70d4751147": {
      "model_module": "@jupyter-widgets/base",
      "model_module_version": "1.2.0",
      "model_name": "LayoutModel",
      "state": {}
     },
     "50894ccd248741dca42e8e6acdc88a48": {
      "model_module": "@jupyter-widgets/base",
      "model_module_version": "1.2.0",
      "model_name": "LayoutModel",
      "state": {
       "width": "300px"
      }
     },
     "5119965c47014890bb84dabb46e5d7b7": {
      "model_module": "@jupyter-widgets/controls",
      "model_module_version": "1.5.0",
      "model_name": "SliderStyleModel",
      "state": {
       "description_width": ""
      }
     },
     "516afd6528dd49cf952ed6210e27a148": {
      "model_module": "@jupyter-widgets/controls",
      "model_module_version": "1.5.0",
      "model_name": "FloatSliderModel",
      "state": {
       "layout": "IPY_MODEL_0a1f29a80fd24600a899c9f8667aab1b",
       "max": 40,
       "min": -10,
       "step": 0.1,
       "style": "IPY_MODEL_519d3f8e40f94e8a9eb439c3fee2dc04",
       "value": 25
      }
     },
     "5196e12a78b943c48d5561607f3fffa9": {
      "model_module": "@jupyter-widgets/controls",
      "model_module_version": "1.5.0",
      "model_name": "HBoxModel",
      "state": {
       "children": [
        "IPY_MODEL_4b00a8ac3f854aa9b98629988818b783",
        "IPY_MODEL_c270870967654bc687d8eb17621e01b7"
       ],
       "layout": "IPY_MODEL_9c5b04b36271443a9126d2b653f2e31b"
      }
     },
     "519d3f8e40f94e8a9eb439c3fee2dc04": {
      "model_module": "@jupyter-widgets/controls",
      "model_module_version": "1.5.0",
      "model_name": "SliderStyleModel",
      "state": {
       "description_width": ""
      }
     },
     "51abe1e5dbad42c3a50f994448f60455": {
      "model_module": "@jupyter-widgets/controls",
      "model_module_version": "1.5.0",
      "model_name": "FloatSliderModel",
      "state": {
       "layout": "IPY_MODEL_cdb5b99d9e29463fb948077d557960dd",
       "max": 25,
       "step": 0.1,
       "style": "IPY_MODEL_0cace546d6cd46b58856b5a2869e817a",
       "value": 3.8
      }
     },
     "51f9d58a232e47038863cabfd984a15b": {
      "model_module": "@jupyter-widgets/base",
      "model_module_version": "1.2.0",
      "model_name": "LayoutModel",
      "state": {
       "width": "300px"
      }
     },
     "525dd762193844ec9dcd972a86d7be9c": {
      "model_module": "@jupyter-widgets/base",
      "model_module_version": "1.2.0",
      "model_name": "LayoutModel",
      "state": {
       "width": "300px"
      }
     },
     "53264db4f98a4d868c70a89efd3882de": {
      "model_module": "@jupyter-widgets/base",
      "model_module_version": "1.2.0",
      "model_name": "LayoutModel",
      "state": {}
     },
     "5793b2d07b7e49e986e6f6fceece72f9": {
      "buffers": [
       {
        "data": "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",
        "encoding": "base64",
        "path": [
         "_grid_data_up"
        ]
       }
      ],
      "model_module": "ipyaggrid",
      "model_module_version": "~0.2.1",
      "model_name": "AgGridModel",
      "state": {
       "_grid_data_down": [
        {
         "@buildingStoreyIdRef": "STOREY_1",
         "@conditionType": "HeatedAndCooled",
         "@id": "TR000001",
         "@zoneIdRef": "ZONE_2",
         "Area": 55.809276,
         "BlockCode": "B",
         "CADObjectId": "TR000001",
         "Level": 0,
         "Name": "B_00_02_R5_WorkRoom2",
         "ShellGeometry": "OrderedDict([('@id', 'TR000001-shellgeometry'), ('ClosedShell', OrderedDict([('PolyLoop', [OrderedDict([('CartesianPoint', [OrderedDict([('Coordinate', ['36.968681', '11.169988', '0.000000'])]), OrderedDict([('Coordinate', ['29.193419', '11.169988', '-0.000000'])]), OrderedDict([('Coordinate', ['29.193419', '18.347788', '-0.000000'])]), OrderedDict([('Coordinate', ['36.968681', '18.347788', '0.000000'])])])]), OrderedDict([('CartesianPoint', [OrderedDict([('Coordinate', ['36.968681', '18.347788', '3.400000'])]), OrderedDict([('Coordinate', ['29.193419', '18.347788', '3.400000'])]), OrderedDict([('Coordinate', ['29.193419', '11.169988', '3.400000'])]), OrderedDict([('Coordinate', ['36.968681', '11.169988', '3.400000'])])])]), OrderedDict([('CartesianPoint', [OrderedDict([('Coordinate', ['29.193419', '18.347788', '-0.000000'])]), OrderedDict([('Coordinate', ['29.193419', '11.169988', '-0.000000'])]), OrderedDict([('Coordinate', ['29.193419', '11.169988', '3.400000'])]), OrderedDict([('Coordinate', ['29.193419', '18.347788', '3.400000'])])])]), OrderedDict([('CartesianPoint', [OrderedDict([('Coordinate', ['29.193419', '18.347788', '3.400000'])]), OrderedDict([('Coordinate', ['36.968681', '18.347788', '3.400000'])]), OrderedDict([('Coordinate', ['36.968681', '18.347788', '0.000000'])]), OrderedDict([('Coordinate', ['29.193419', '18.347788', '-0.000000'])])])]), OrderedDict([('CartesianPoint', [OrderedDict([('Coordinate', ['36.968681', '11.169988', '0.000000'])]), OrderedDict([('Coordinate', ['36.968681', '18.347788', '0.000000'])]), OrderedDict([('Coordinate', ['36.968681', '18.347788', '3.400000'])]), OrderedDict([('Coordinate', ['36.968681', '11.169988', '3.400000'])])])]), OrderedDict([('CartesianPoint', [OrderedDict([('Coordinate', ['29.193419', '11.169988', '-0.000000'])]), OrderedDict([('Coordinate', ['36.968681', '11.169988', '0.000000'])]), OrderedDict([('Coordinate', ['36.968681', '11.169988', '3.400000'])]), OrderedDict([('Coordinate', ['29.193419', '11.169988', '3.400000'])])])])])]))])",
         "SpaceBoundary": "[OrderedDict([('@isSecondLevelBoundary', 'true'), ('@surfaceIdRef', 'surface-1'), ('PlanarGeometry', OrderedDict([('PolyLoop', OrderedDict([('CartesianPoint', [OrderedDict([('Coordinate', ['36.968681', '11.169988', '0.000000'])]), OrderedDict([('Coordinate', ['29.193419', '11.169988', '0.000000'])]), OrderedDict([('Coordinate', ['29.193419', '18.347788', '0.000000'])]), OrderedDict([('Coordinate', ['36.968681', '18.347788', '0.000000'])])])]))]))]), OrderedDict([('@isSecondLevelBoundary', 'true'), ('@surfaceIdRef', 'surface-2'), ('PlanarGeometry', OrderedDict([('PolyLoop', OrderedDict([('CartesianPoint', [OrderedDict([('Coordinate', ['36.968681', '18.347788', '3.400000'])]), OrderedDict([('Coordinate', ['29.193419', '18.347788', '3.400000'])]), OrderedDict([('Coordinate', ['29.193419', '11.169988', '3.400000'])]), OrderedDict([('Coordinate', ['36.968681', '11.169988', '3.400000'])])])]))]))]), OrderedDict([('@isSecondLevelBoundary', 'true'), ('@surfaceIdRef', 'surface-3'), ('PlanarGeometry', OrderedDict([('PolyLoop', OrderedDict([('CartesianPoint', [OrderedDict([('Coordinate', ['29.193419', '18.347788', '0.000000'])]), OrderedDict([('Coordinate', ['29.193419', '11.169988', '0.000000'])]), OrderedDict([('Coordinate', ['29.193419', '11.169988', '3.400000'])]), OrderedDict([('Coordinate', ['29.193419', '18.347788', '3.400000'])])])]))]))]), OrderedDict([('@isSecondLevelBoundary', 'true'), ('@surfaceIdRef', 'surface-4'), ('PlanarGeometry', OrderedDict([('PolyLoop', OrderedDict([('CartesianPoint', [OrderedDict([('Coordinate', ['29.193419', '18.347788', '3.400000'])]), OrderedDict([('Coordinate', ['36.968681', '18.347788', '3.400000'])]), OrderedDict([('Coordinate', ['36.968681', '18.347788', '0.000000'])]), OrderedDict([('Coordinate', ['29.193419', '18.347788', '0.000000'])])])]))]))]), OrderedDict([('@isSecondLevelBoundary', 'true'), ('@surfaceIdRef', 'surface-5'), ('PlanarGeometry', OrderedDict([('PolyLoop', OrderedDict([('CartesianPoint', [OrderedDict([('Coordinate', ['36.968681', '11.169988', '0.000000'])]), OrderedDict([('Coordinate', ['36.968681', '18.347788', '0.000000'])]), OrderedDict([('Coordinate', ['36.968681', '18.347788', '3.400000'])]), OrderedDict([('Coordinate', ['36.968681', '11.169988', '3.400000'])])])]))]))]), OrderedDict([('@isSecondLevelBoundary', 'true'), ('@surfaceIdRef', 'surface-6'), ('PlanarGeometry', OrderedDict([('PolyLoop', OrderedDict([('CartesianPoint', [OrderedDict([('Coordinate', ['36.968681', '11.169988', '3.400000'])]), OrderedDict([('Coordinate', ['29.193419', '11.169988', '3.400000'])]), OrderedDict([('Coordinate', ['29.193419', '11.169988', '-0.000000'])]), OrderedDict([('Coordinate', ['36.968681', '11.169988', '-0.000000'])])])]))]))])]",
         "SpaceId": "R5",
         "SpaceType": "WorkRoom2",
         "TM46Category": 2,
         "TypeCode": 0,
         "Volume": 189.751537,
         "id": "105_LiveseyExchange_heatpump-normal-fabric, B_00_02_R5_WorkRoom2",
         "index": 0,
         "model": "105_LiveseyExchange_heatpump-normal-fabric"
        },
        {
         "@buildingStoreyIdRef": "STOREY_1",
         "@conditionType": "HeatedAndCooled",
         "@id": "TR000003",
         "@zoneIdRef": "ZONE_2",
         "Area": 55.981886,
         "BlockCode": "B",
         "CADObjectId": "TR000003",
         "Level": 0,
         "Name": "B_00_01_R4_WorkRoom1",
         "ShellGeometry": "OrderedDict([('@id', 'TR000003-shellgeometry'), ('ClosedShell', OrderedDict([('PolyLoop', [OrderedDict([('CartesianPoint', [OrderedDict([('Coordinate', ['36.968681', '3.969988', '0.000000'])]), OrderedDict([('Coordinate', ['29.193419', '3.969988', '0.000000'])]), OrderedDict([('Coordinate', ['29.193419', '11.169988', '-0.000000'])]), OrderedDict([('Coordinate', ['36.968681', '11.169988', '0.000000'])])])]), OrderedDict([('CartesianPoint', [OrderedDict([('Coordinate', ['36.968681', '11.169988', '3.400000'])]), OrderedDict([('Coordinate', ['29.193419', '11.169988', '3.400000'])]), OrderedDict([('Coordinate', ['29.193419', '3.969988', '3.400000'])]), OrderedDict([('Coordinate', ['36.968681', '3.969988', '3.400000'])])])]), OrderedDict([('CartesianPoint', [OrderedDict([('Coordinate', ['29.193419', '11.169988', '-0.000000'])]), OrderedDict([('Coordinate', ['29.193419', '3.969988', '0.000000'])]), OrderedDict([('Coordinate', ['29.193419', '3.969988', '3.400000'])]), OrderedDict([('Coordinate', ['29.193419', '11.169988', '3.400000'])])])]), OrderedDict([('CartesianPoint', [OrderedDict([('Coordinate', ['36.968681', '3.969988', '0.000000'])]), OrderedDict([('Coordinate', ['36.968681', '11.169988', '0.000000'])]), OrderedDict([('Coordinate', ['36.968681', '11.169988', '3.400000'])]), OrderedDict([('Coordinate', ['36.968681', '3.969988', '3.400000'])])])]), OrderedDict([('CartesianPoint', [OrderedDict([('Coordinate', ['29.193419', '3.969988', '0.000000'])]), OrderedDict([('Coordinate', ['36.968681', '3.969988', '0.000000'])]), OrderedDict([('Coordinate', ['36.968681', '3.969988', '3.400000'])]), OrderedDict([('Coordinate', ['29.193419', '3.969988', '3.400000'])])])]), OrderedDict([('CartesianPoint', [OrderedDict([('Coordinate', ['29.193419', '11.169988', '3.400000'])]), OrderedDict([('Coordinate', ['36.968681', '11.169988', '3.400000'])]), OrderedDict([('Coordinate', ['36.968681', '11.169988', '0.000000'])]), OrderedDict([('Coordinate', ['29.193419', '11.169988', '-0.000000'])])])])])]))])",
         "SpaceBoundary": "[OrderedDict([('@isSecondLevelBoundary', 'true'), ('@surfaceIdRef', 'surface-6'), ('PlanarGeometry', OrderedDict([('PolyLoop', OrderedDict([('CartesianPoint', [OrderedDict([('Coordinate', ['36.968681', '11.169988', '-0.000000'])]), OrderedDict([('Coordinate', ['29.193419', '11.169988', '-0.000000'])]), OrderedDict([('Coordinate', ['29.193419', '11.169988', '3.400000'])]), OrderedDict([('Coordinate', ['36.968681', '11.169988', '3.400000'])])])]))]))]), OrderedDict([('@isSecondLevelBoundary', 'true'), ('@surfaceIdRef', 'surface-7'), ('PlanarGeometry', OrderedDict([('PolyLoop', OrderedDict([('CartesianPoint', [OrderedDict([('Coordinate', ['36.968681', '3.969988', '0.000000'])]), OrderedDict([('Coordinate', ['29.193419', '3.969988', '0.000000'])]), OrderedDict([('Coordinate', ['29.193419', '11.169988', '0.000000'])]), OrderedDict([('Coordinate', ['36.968681', '11.169988', '0.000000'])])])]))]))]), OrderedDict([('@isSecondLevelBoundary', 'true'), ('@surfaceIdRef', 'surface-8'), ('PlanarGeometry', OrderedDict([('PolyLoop', OrderedDict([('CartesianPoint', [OrderedDict([('Coordinate', ['33.715237', '3.970000', '3.400000'])]), OrderedDict([('Coordinate', ['30.455237', '3.970000', '3.400000'])]), OrderedDict([('Coordinate', ['30.455237', '3.969988', '3.400000'])]), OrderedDict([('Coordinate', ['33.715237', '3.969988', '3.400000'])])])]))]))]), OrderedDict([('@isSecondLevelBoundary', 'true'), ('@surfaceIdRef', 'surface-9'), ('PlanarGeometry', OrderedDict([('PolyLoop', OrderedDict([('CartesianPoint', [OrderedDict([('Coordinate', ['36.968681', '11.169988', '3.400000'])]), OrderedDict([('Coordinate', ['30.455237', '11.169988', '3.400000'])]), OrderedDict([('Coordinate', ['30.455237', '3.970000', '3.400000'])]), OrderedDict([('Coordinate', ['36.968681', '3.970000', '3.400000'])])])]))]))]), OrderedDict([('@isSecondLevelBoundary', 'true'), ('@surfaceIdRef', 'surface-10'), ('PlanarGeometry', OrderedDict([('PolyLoop', OrderedDict([('CartesianPoint', [OrderedDict([('Coordinate', ['36.968681', '3.970000', '3.400000'])]), OrderedDict([('Coordinate', ['33.715237', '3.970000', '3.400000'])]), OrderedDict([('Coordinate', ['33.715237', '3.969988', '3.400000'])]), OrderedDict([('Coordinate', ['36.968681', '3.969988', '3.400000'])])])]))]))]), OrderedDict([('@isSecondLevelBoundary', 'true'), ('@surfaceIdRef', 'surface-11'), ('PlanarGeometry', OrderedDict([('PolyLoop', OrderedDict([('CartesianPoint', [OrderedDict([('Coordinate', ['30.455237', '11.169988', '3.400000'])]), OrderedDict([('Coordinate', ['29.193419', '11.169988', '3.400000'])]), OrderedDict([('Coordinate', ['29.193419', '3.969988', '3.400000'])]), OrderedDict([('Coordinate', ['30.455237', '3.969988', '3.400000'])])])]))]))]), OrderedDict([('@isSecondLevelBoundary', 'true'), ('@surfaceIdRef', 'surface-12'), ('PlanarGeometry', OrderedDict([('PolyLoop', OrderedDict([('CartesianPoint', [OrderedDict([('Coordinate', ['29.193419', '11.169988', '0.000000'])]), OrderedDict([('Coordinate', ['29.193419', '3.969988', '0.000000'])]), OrderedDict([('Coordinate', ['29.193419', '3.969988', '3.400000'])]), OrderedDict([('Coordinate', ['29.193419', '11.169988', '3.400000'])])])]))]))]), OrderedDict([('@isSecondLevelBoundary', 'true'), ('@surfaceIdRef', 'surface-13'), ('PlanarGeometry', OrderedDict([('PolyLoop', OrderedDict([('CartesianPoint', [OrderedDict([('Coordinate', ['36.968681', '3.969988', '0.000000'])]), OrderedDict([('Coordinate', ['36.968681', '11.169988', '0.000000'])]), OrderedDict([('Coordinate', ['36.968681', '11.169988', '3.400000'])]), OrderedDict([('Coordinate', ['36.968681', '3.969988', '3.400000'])])])]))]))]), OrderedDict([('@isSecondLevelBoundary', 'true'), ('@surfaceIdRef', 'surface-14'), ('PlanarGeometry', OrderedDict([('PolyLoop', OrderedDict([('CartesianPoint', [OrderedDict([('Coordinate', ['36.968681', '3.969988', '3.400000'])]), OrderedDict([('Coordinate', ['30.493681', '3.969988', '3.400000'])]), OrderedDict([('Coordinate', ['30.493681', '3.969988', '-0.000000'])]), OrderedDict([('Coordinate', ['36.968681', '3.969988', '-0.000000'])])])]))]))]), OrderedDict([('@isSecondLevelBoundary', 'true'), ('@surfaceIdRef', 'surface-15'), ('PlanarGeometry', OrderedDict([('PolyLoop', OrderedDict([('CartesianPoint', [OrderedDict([('Coordinate', ['29.193419', '3.969988', '0.000000'])]), OrderedDict([('Coordinate', ['30.493681', '3.969988', '0.000000'])]), OrderedDict([('Coordinate', ['30.493681', '3.969988', '3.400000'])]), OrderedDict([('Coordinate', ['29.193419', '3.969988', '3.400000'])])])]))]))])]",
         "SpaceId": "R4",
         "SpaceType": "WorkRoom1",
         "TM46Category": 1,
         "TypeCode": 0,
         "Volume": 190.338414,
         "id": "105_LiveseyExchange_heatpump-normal-fabric, B_00_01_R4_WorkRoom1",
         "index": 1,
         "model": "105_LiveseyExchange_heatpump-normal-fabric"
        },
        {
         "@buildingStoreyIdRef": "STOREY_1",
         "@conditionType": "HeatedAndCooled",
         "@id": "TR000006",
         "@zoneIdRef": "ZONE_2",
         "Area": 55.809276,
         "BlockCode": "B",
         "CADObjectId": "TR000006",
         "Level": 1,
         "Name": "B_01_01_R16_WorkRoom1",
         "ShellGeometry": "OrderedDict([('@id', 'TR000006-shellgeometry'), ('ClosedShell', OrderedDict([('PolyLoop', [OrderedDict([('CartesianPoint', [OrderedDict([('Coordinate', ['36.968681', '11.169988', '3.400000'])]), OrderedDict([('Coordinate', ['29.193419', '11.169988', '3.400000'])]), OrderedDict([('Coordinate', ['29.193419', '18.347788', '3.400000'])]), OrderedDict([('Coordinate', ['36.968681', '18.347788', '3.400000'])])])]), OrderedDict([('CartesianPoint', [OrderedDict([('Coordinate', ['36.968681', '18.347788', '6.800000'])]), OrderedDict([('Coordinate', ['29.193419', '18.347788', '6.800000'])]), OrderedDict([('Coordinate', ['29.193419', '11.169988', '6.800000'])]), OrderedDict([('Coordinate', ['36.968681', '11.169988', '6.800000'])])])]), OrderedDict([('CartesianPoint', [OrderedDict([('Coordinate', ['29.193419', '18.347788', '3.400000'])]), OrderedDict([('Coordinate', ['29.193419', '11.169988', '3.400000'])]), OrderedDict([('Coordinate', ['29.193419', '11.169988', '6.800000'])]), OrderedDict([('Coordinate', ['29.193419', '18.347788', '6.800000'])])])]), OrderedDict([('CartesianPoint', [OrderedDict([('Coordinate', ['29.193419', '18.347788', '6.800000'])]), OrderedDict([('Coordinate', ['36.968681', '18.347788', '6.800000'])]), OrderedDict([('Coordinate', ['36.968681', '18.347788', '3.400000'])]), OrderedDict([('Coordinate', ['29.193419', '18.347788', '3.400000'])])])]), OrderedDict([('CartesianPoint', [OrderedDict([('Coordinate', ['36.968681', '11.169988', '3.400000'])]), OrderedDict([('Coordinate', ['36.968681', '18.347788', '3.400000'])]), OrderedDict([('Coordinate', ['36.968681', '18.347788', '6.800000'])]), OrderedDict([('Coordinate', ['36.968681', '11.169988', '6.800000'])])])]), OrderedDict([('CartesianPoint', [OrderedDict([('Coordinate', ['29.193419', '11.169988', '3.400000'])]), OrderedDict([('Coordinate', ['36.968681', '11.169988', '3.400000'])]), OrderedDict([('Coordinate', ['36.968681', '11.169988', '6.800000'])]), OrderedDict([('Coordinate', ['29.193419', '11.169988', '6.800000'])])])])])]))])",
         "SpaceBoundary": "[OrderedDict([('@isSecondLevelBoundary', 'true'), ('@surfaceIdRef', 'surface-2'), ('PlanarGeometry', OrderedDict([('PolyLoop', OrderedDict([('CartesianPoint', [OrderedDict([('Coordinate', ['36.968681', '11.169988', '3.400000'])]), OrderedDict([('Coordinate', ['29.193419', '11.169988', '3.400000'])]), OrderedDict([('Coordinate', ['29.193419', '18.347788', '3.400000'])]), OrderedDict([('Coordinate', ['36.968681', '18.347788', '3.400000'])])])]))]))]), OrderedDict([('@isSecondLevelBoundary', 'true'), ('@surfaceIdRef', 'surface-16'), ('PlanarGeometry', OrderedDict([('PolyLoop', OrderedDict([('CartesianPoint', [OrderedDict([('Coordinate', ['36.968681', '18.347788', '6.800000'])]), OrderedDict([('Coordinate', ['29.193419', '18.347788', '6.800000'])]), OrderedDict([('Coordinate', ['29.193419', '11.169988', '6.800000'])]), OrderedDict([('Coordinate', ['36.968681', '11.169988', '6.800000'])])])]))]))]), OrderedDict([('@isSecondLevelBoundary', 'true'), ('@surfaceIdRef', 'surface-17'), ('PlanarGeometry', OrderedDict([('PolyLoop', OrderedDict([('CartesianPoint', [OrderedDict([('Coordinate', ['29.193419', '18.347788', '3.400000'])]), OrderedDict([('Coordinate', ['29.193419', '11.169988', '3.400000'])]), OrderedDict([('Coordinate', ['29.193419', '11.169988', '6.800000'])]), OrderedDict([('Coordinate', ['29.193419', '18.347788', '6.800000'])])])]))]))]), OrderedDict([('@isSecondLevelBoundary', 'true'), ('@surfaceIdRef', 'surface-18'), ('PlanarGeometry', OrderedDict([('PolyLoop', OrderedDict([('CartesianPoint', [OrderedDict([('Coordinate', ['29.193419', '18.347788', '6.800000'])]), OrderedDict([('Coordinate', ['36.968681', '18.347788', '6.800000'])]), OrderedDict([('Coordinate', ['36.968681', '18.347788', '3.400000'])]), OrderedDict([('Coordinate', ['29.193419', '18.347788', '3.400000'])])])]))]))]), OrderedDict([('@isSecondLevelBoundary', 'true'), ('@surfaceIdRef', 'surface-19'), ('PlanarGeometry', OrderedDict([('PolyLoop', OrderedDict([('CartesianPoint', [OrderedDict([('Coordinate', ['36.968681', '11.169988', '3.400000'])]), OrderedDict([('Coordinate', ['36.968681', '18.347788', '3.400000'])]), OrderedDict([('Coordinate', ['36.968681', '18.347788', '6.800000'])]), OrderedDict([('Coordinate', ['36.968681', '11.169988', '6.800000'])])])]))]))]), OrderedDict([('@isSecondLevelBoundary', 'true'), ('@surfaceIdRef', 'surface-20'), ('PlanarGeometry', OrderedDict([('PolyLoop', OrderedDict([('CartesianPoint', [OrderedDict([('Coordinate', ['36.968681', '11.169988', '6.800000'])]), OrderedDict([('Coordinate', ['30.455237', '11.169988', '6.800000'])]), OrderedDict([('Coordinate', ['30.455237', '11.169988', '3.400000'])]), OrderedDict([('Coordinate', ['36.968681', '11.169988', '3.400000'])])])]))]))]), OrderedDict([('@isSecondLevelBoundary', 'true'), ('@surfaceIdRef', 'surface-21'), ('PlanarGeometry', OrderedDict([('PolyLoop', OrderedDict([('CartesianPoint', [OrderedDict([('Coordinate', ['30.455237', '11.169988', '6.800000'])]), OrderedDict([('Coordinate', ['29.193419', '11.169988', '6.800000'])]), OrderedDict([('Coordinate', ['29.193419', '11.169988', '3.400000'])]), OrderedDict([('Coordinate', ['30.455237', '11.169988', '3.400000'])])])]))]))])]",
         "SpaceId": "R16",
         "SpaceType": "WorkRoom1",
         "TM46Category": 1,
         "TypeCode": 0,
         "Volume": 189.751537,
         "id": "105_LiveseyExchange_heatpump-normal-fabric, B_01_01_R16_WorkRoom1",
         "index": 2,
         "model": "105_LiveseyExchange_heatpump-normal-fabric"
        },
        {
         "@buildingStoreyIdRef": "STOREY_1",
         "@conditionType": "HeatedAndCooled",
         "@id": "TR000009",
         "@zoneIdRef": "ZONE_2",
         "Area": 2.353824,
         "BlockCode": "B",
         "CADObjectId": "TR000009",
         "Level": 0,
         "Name": "B_00_03_R6_WCExt",
         "ShellGeometry": "OrderedDict([('@id', 'TR000009-shellgeometry'), ('ClosedShell', OrderedDict([('PolyLoop', [OrderedDict([('CartesianPoint', [OrderedDict([('Coordinate', ['30.493681', '0.394968', '0.000000'])]), OrderedDict([('Coordinate', ['29.193419', '0.394968', '-0.000000'])]), OrderedDict([('Coordinate', ['29.193419', '2.205237', '0.000000'])]), OrderedDict([('Coordinate', ['30.493681', '2.205237', '0.000000'])])])]), OrderedDict([('CartesianPoint', [OrderedDict([('Coordinate', ['30.493681', '2.205237', '3.400000'])]), OrderedDict([('Coordinate', ['29.193419', '2.205237', '3.400000'])]), OrderedDict([('Coordinate', ['29.193419', '0.394968', '3.400000'])]), OrderedDict([('Coordinate', ['30.493681', '0.394968', '3.400000'])])])]), OrderedDict([('CartesianPoint', [OrderedDict([('Coordinate', ['29.193419', '2.205237', '0.000000'])]), OrderedDict([('Coordinate', ['29.193419', '0.394968', '-0.000000'])]), OrderedDict([('Coordinate', ['29.193419', '0.394968', '3.400000'])]), OrderedDict([('Coordinate', ['29.193419', '2.205237', '3.400000'])])])]), OrderedDict([('CartesianPoint', [OrderedDict([('Coordinate', ['29.193419', '0.394968', '-0.000000'])]), OrderedDict([('Coordinate', ['30.493681', '0.394968', '0.000000'])]), OrderedDict([('Coordinate', ['30.493681', '0.394968', '3.400000'])]), OrderedDict([('Coordinate', ['29.193419', '0.394968', '3.400000'])])])]), OrderedDict([('CartesianPoint', [OrderedDict([('Coordinate', ['30.493681', '0.394968', '0.000000'])]), OrderedDict([('Coordinate', ['30.493681', '2.205237', '0.000000'])]), OrderedDict([('Coordinate', ['30.493681', '2.205237', '3.400000'])]), OrderedDict([('Coordinate', ['30.493681', '0.394968', '3.400000'])])])]), OrderedDict([('CartesianPoint', [OrderedDict([('Coordinate', ['29.193419', '2.205237', '3.400000'])]), OrderedDict([('Coordinate', ['30.493681', '2.205237', '3.400000'])]), OrderedDict([('Coordinate', ['30.493681', '2.205237', '0.000000'])]), OrderedDict([('Coordinate', ['29.193419', '2.205237', '0.000000'])])])])])]))])",
         "SpaceBoundary": "[OrderedDict([('@isSecondLevelBoundary', 'true'), ('@surfaceIdRef', 'surface-22'), ('PlanarGeometry', OrderedDict([('PolyLoop', OrderedDict([('CartesianPoint', [OrderedDict([('Coordinate', ['30.493681', '0.394968', '0.000000'])]), OrderedDict([('Coordinate', ['29.193419', '0.394968', '0.000000'])]), OrderedDict([('Coordinate', ['29.193419', '2.205237', '0.000000'])]), OrderedDict([('Coordinate', ['30.493681', '2.205237', '0.000000'])])])]))]))]), OrderedDict([('@isSecondLevelBoundary', 'true'), ('@surfaceIdRef', 'surface-23'), ('PlanarGeometry', OrderedDict([('PolyLoop', OrderedDict([('CartesianPoint', [OrderedDict([('Coordinate', ['30.493681', '2.205237', '3.400000'])]), OrderedDict([('Coordinate', ['30.455237', '2.205237', '3.400000'])]), OrderedDict([('Coordinate', ['30.455237', '1.680000', '3.400000'])]), OrderedDict([('Coordinate', ['30.493681', '1.679837', '3.400000'])])])]))]))]), OrderedDict([('@isSecondLevelBoundary', 'true'), ('@surfaceIdRef', 'surface-24'), ('PlanarGeometry', OrderedDict([('PolyLoop', OrderedDict([('CartesianPoint', [OrderedDict([('Coordinate', ['30.455237', '2.205237', '3.400000'])]), OrderedDict([('Coordinate', ['29.193419', '2.205237', '3.400000'])]), OrderedDict([('Coordinate', ['29.193419', '0.394968', '3.400000'])]), OrderedDict([('Coordinate', ['30.493681', '0.394968', '3.400000'])]), OrderedDict([('Coordinate', ['30.493681', '1.679837', '3.400000'])]), OrderedDict([('Coordinate', ['30.455237', '1.680000', '3.400000'])])])]))]))]), OrderedDict([('@isSecondLevelBoundary', 'true'), ('@surfaceIdRef', 'surface-25'), ('PlanarGeometry', OrderedDict([('PolyLoop', OrderedDict([('CartesianPoint', [OrderedDict([('Coordinate', ['29.193419', '2.205237', '0.000000'])]), OrderedDict([('Coordinate', ['29.193419', '0.394968', '0.000000'])]), OrderedDict([('Coordinate', ['29.193419', '0.394968', '3.400000'])]), OrderedDict([('Coordinate', ['29.193419', '2.205237', '3.400000'])])])]))]))]), OrderedDict([('@isSecondLevelBoundary', 'true'), ('@surfaceIdRef', 'surface-26'), ('PlanarGeometry', OrderedDict([('PolyLoop', OrderedDict([('CartesianPoint', [OrderedDict([('Coordinate', ['29.193419', '0.394968', '0.000000'])]), OrderedDict([('Coordinate', ['30.493681', '0.394968', '0.000000'])]), OrderedDict([('Coordinate', ['30.493681', '0.394968', '3.400000'])]), OrderedDict([('Coordinate', ['29.193419', '0.394968', '3.400000'])])])]))]))]), OrderedDict([('@isSecondLevelBoundary', 'true'), ('@surfaceIdRef', 'surface-27'), ('PlanarGeometry', OrderedDict([('PolyLoop', OrderedDict([('CartesianPoint', [OrderedDict([('Coordinate', ['30.493681', '2.205237', '3.400000'])]), OrderedDict([('Coordinate', ['30.493681', '0.394968', '3.400000'])]), OrderedDict([('Coordinate', ['30.493681', '0.394968', '0.000000'])]), OrderedDict([('Coordinate', ['30.493681', '2.205237', '0.000000'])])])]))]))]), OrderedDict([('@isSecondLevelBoundary', 'true'), ('@surfaceIdRef', 'surface-28'), ('PlanarGeometry', OrderedDict([('PolyLoop', OrderedDict([('CartesianPoint', [OrderedDict([('Coordinate', ['29.193419', '2.205237', '3.400000'])]), OrderedDict([('Coordinate', ['30.493681', '2.205237', '3.400000'])]), OrderedDict([('Coordinate', ['30.493681', '2.205237', '0.000000'])]), OrderedDict([('Coordinate', ['29.193419', '2.205237', '0.000000'])])])]))]))])]",
         "SpaceId": "R6",
         "SpaceType": "WCExt",
         "TM46Category": 3,
         "TypeCode": 0,
         "Volume": 8.003002,
         "id": "105_LiveseyExchange_heatpump-normal-fabric, B_00_03_R6_WCExt",
         "index": 3,
         "model": "105_LiveseyExchange_heatpump-normal-fabric"
        },
        {
         "@buildingStoreyIdRef": "STOREY_1",
         "@conditionType": "HeatedAndCooled",
         "@id": "RM000002",
         "@zoneIdRef": "ZONE_1",
         "Area": 13.691116,
         "BlockCode": "A",
         "CADObjectId": "RM000002",
         "Level": 1,
         "Name": "A_01_05_R7_Corridor",
         "ShellGeometry": "OrderedDict([('@id', 'RM000002-shellgeometry'), ('ClosedShell', OrderedDict([('PolyLoop', [OrderedDict([('CartesianPoint', [OrderedDict([('Coordinate', ['21.956680', '0.382000', '3.400000'])]), OrderedDict([('Coordinate', ['11.203681', '0.382000', '3.400000'])]), OrderedDict([('Coordinate', ['11.203681', '1.655237', '3.400000'])]), OrderedDict([('Coordinate', ['21.956680', '1.655237', '3.400000'])])])]), OrderedDict([('CartesianPoint', [OrderedDict([('Coordinate', ['21.956680', '1.655237', '6.800000'])]), OrderedDict([('Coordinate', ['11.203681', '1.655237', '6.800000'])]), OrderedDict([('Coordinate', ['11.203681', '0.382000', '6.800000'])]), OrderedDict([('Coordinate', ['21.956680', '0.382000', '6.800000'])])])]), OrderedDict([('CartesianPoint', [OrderedDict([('Coordinate', ['21.956680', '0.382000', '3.400000'])]), OrderedDict([('Coordinate', ['21.956680', '1.655237', '3.400000'])]), OrderedDict([('Coordinate', ['21.956680', '1.655237', '6.800000'])]), OrderedDict([('Coordinate', ['21.956680', '0.382000', '6.800000'])])])]), OrderedDict([('CartesianPoint', [OrderedDict([('Coordinate', ['11.203681', '0.382000', '3.400000'])]), OrderedDict([('Coordinate', ['21.956680', '0.382000', '3.400000'])]), OrderedDict([('Coordinate', ['21.956680', '0.382000', '6.800000'])]), OrderedDict([('Coordinate', ['11.203681', '0.382000', '6.800000'])])])]), OrderedDict([('CartesianPoint', [OrderedDict([('Coordinate', ['11.203681', '1.655237', '3.400000'])]), OrderedDict([('Coordinate', ['11.203681', '0.382000', '3.400000'])]), OrderedDict([('Coordinate', ['11.203681', '0.382000', '6.800000'])]), OrderedDict([('Coordinate', ['11.203681', '1.655237', '6.800000'])])])]), OrderedDict([('CartesianPoint', [OrderedDict([('Coordinate', ['11.203681', '1.655237', '6.800000'])]), OrderedDict([('Coordinate', ['21.956680', '1.655237', '6.800000'])]), OrderedDict([('Coordinate', ['21.956680', '1.655237', '3.400000'])]), OrderedDict([('Coordinate', ['11.203681', '1.655237', '3.400000'])])])])])]))])",
         "SpaceBoundary": "[OrderedDict([('@isSecondLevelBoundary', 'true'), ('@surfaceIdRef', 'surface-29'), ('PlanarGeometry', OrderedDict([('PolyLoop', OrderedDict([('CartesianPoint', [OrderedDict([('Coordinate', ['21.956680', '0.382000', '3.400000'])]), OrderedDict([('Coordinate', ['11.203681', '0.382000', '3.400000'])]), OrderedDict([('Coordinate', ['11.203681', '1.655237', '3.400000'])]), OrderedDict([('Coordinate', ['21.956680', '1.655237', '3.400000'])])])]))]))]), OrderedDict([('@isSecondLevelBoundary', 'true'), ('@surfaceIdRef', 'surface-30'), ('PlanarGeometry', OrderedDict([('PolyLoop', OrderedDict([('CartesianPoint', [OrderedDict([('Coordinate', ['21.956680', '1.655237', '6.800000'])]), OrderedDict([('Coordinate', ['11.203681', '1.655237', '6.800000'])]), OrderedDict([('Coordinate', ['11.203681', '0.382000', '6.800000'])]), OrderedDict([('Coordinate', ['21.956680', '0.382000', '6.800000'])])])]))]))]), OrderedDict([('@isSecondLevelBoundary', 'true'), ('@surfaceIdRef', 'surface-31'), ('PlanarGeometry', OrderedDict([('PolyLoop', OrderedDict([('CartesianPoint', [OrderedDict([('Coordinate', ['21.956680', '0.382000', '3.400000'])]), OrderedDict([('Coordinate', ['21.956680', '1.655237', '3.400000'])]), OrderedDict([('Coordinate', ['21.956680', '1.655237', '6.800000'])]), OrderedDict([('Coordinate', ['21.956680', '0.382000', '6.800000'])])])]))]))]), OrderedDict([('@isSecondLevelBoundary', 'true'), ('@surfaceIdRef', 'surface-32'), ('PlanarGeometry', OrderedDict([('PolyLoop', OrderedDict([('CartesianPoint', [OrderedDict([('Coordinate', ['11.203681', '0.382000', '3.400000'])]), OrderedDict([('Coordinate', ['21.956680', '0.382000', '3.400000'])]), OrderedDict([('Coordinate', ['21.956680', '0.382000', '6.800000'])]), OrderedDict([('Coordinate', ['11.203681', '0.382000', '6.800000'])])])]))]))]), OrderedDict([('@isSecondLevelBoundary', 'true'), ('@surfaceIdRef', 'surface-33'), ('PlanarGeometry', OrderedDict([('PolyLoop', OrderedDict([('CartesianPoint', [OrderedDict([('Coordinate', ['11.203681', '1.655237', '3.400000'])]), OrderedDict([('Coordinate', ['11.203681', '0.382000', '3.400000'])]), OrderedDict([('Coordinate', ['11.203681', '0.382000', '6.800000'])]), OrderedDict([('Coordinate', ['11.203681', '1.655237', '6.800000'])])])]))]))]), OrderedDict([('@isSecondLevelBoundary', 'true'), ('@surfaceIdRef', 'surface-34'), ('PlanarGeometry', OrderedDict([('PolyLoop', OrderedDict([('CartesianPoint', [OrderedDict([('Coordinate', ['14.803681', '1.655237', '3.400000'])]), OrderedDict([('Coordinate', ['11.203681', '1.655237', '3.400000'])]), OrderedDict([('Coordinate', ['11.203681', '1.655237', '6.800000'])]), OrderedDict([('Coordinate', ['14.803681', '1.655237', '6.800000'])])])]))]))]), OrderedDict([('@isSecondLevelBoundary', 'true'), ('@surfaceIdRef', 'surface-35'), ('PlanarGeometry', OrderedDict([('PolyLoop', OrderedDict([('CartesianPoint', [OrderedDict([('Coordinate', ['18.403681', '1.655237', '3.400000'])]), OrderedDict([('Coordinate', ['14.803681', '1.655237', '3.400000'])]), OrderedDict([('Coordinate', ['14.803681', '1.655237', '6.800000'])]), OrderedDict([('Coordinate', ['18.403681', '1.655237', '6.800000'])])])]))]))]), OrderedDict([('@isSecondLevelBoundary', 'true'), ('@surfaceIdRef', 'surface-36'), ('PlanarGeometry', OrderedDict([('PolyLoop', OrderedDict([('CartesianPoint', [OrderedDict([('Coordinate', ['21.956680', '1.655237', '3.400000'])]), OrderedDict([('Coordinate', ['18.403681', '1.655237', '3.400000'])]), OrderedDict([('Coordinate', ['18.403681', '1.655237', '6.800000'])]), OrderedDict([('Coordinate', ['21.956680', '1.655237', '6.800000'])])])]))]))])]",
         "SpaceId": "R7",
         "SpaceType": "Corridor",
         "TM46Category": 5,
         "TypeCode": 0,
         "Volume": 46.549795,
         "id": "105_LiveseyExchange_heatpump-normal-fabric, A_01_05_R7_Corridor",
         "index": 4,
         "model": "105_LiveseyExchange_heatpump-normal-fabric"
        },
        {
         "@buildingStoreyIdRef": "STOREY_1",
         "@conditionType": "HeatedAndCooled",
         "@id": "RM000003",
         "@zoneIdRef": "ZONE_1",
         "Area": 23.41314,
         "BlockCode": "A",
         "CADObjectId": "RM000003",
         "Level": 1,
         "Name": "A_01_03_R10_Workroom3",
         "ShellGeometry": "OrderedDict([('@id', 'RM000003-shellgeometry'), ('ClosedShell', OrderedDict([('PolyLoop', [OrderedDict([('CartesianPoint', [OrderedDict([('Coordinate', ['14.803681', '1.655237', '3.400000'])]), OrderedDict([('Coordinate', ['11.203681', '1.655237', '3.400000'])]), OrderedDict([('Coordinate', ['11.203681', '8.158887', '3.400000'])]), OrderedDict([('Coordinate', ['14.803681', '8.158887', '3.400000'])])])]), OrderedDict([('CartesianPoint', [OrderedDict([('Coordinate', ['14.803681', '8.158887', '6.800000'])]), OrderedDict([('Coordinate', ['11.203681', '8.158887', '6.800000'])]), OrderedDict([('Coordinate', ['11.203681', '1.655237', '6.800000'])]), OrderedDict([('Coordinate', ['14.803681', '1.655237', '6.800000'])])])]), OrderedDict([('CartesianPoint', [OrderedDict([('Coordinate', ['14.803681', '8.158887', '3.400000'])]), OrderedDict([('Coordinate', ['11.203681', '8.158887', '3.400000'])]), OrderedDict([('Coordinate', ['11.203681', '8.158887', '6.800000'])]), OrderedDict([('Coordinate', ['14.803681', '8.158887', '6.800000'])])])]), OrderedDict([('CartesianPoint', [OrderedDict([('Coordinate', ['11.203681', '8.158887', '3.400000'])]), OrderedDict([('Coordinate', ['11.203681', '1.655237', '3.400000'])]), OrderedDict([('Coordinate', ['11.203681', '1.655237', '6.800000'])]), OrderedDict([('Coordinate', ['11.203681', '8.158887', '6.800000'])])])]), OrderedDict([('CartesianPoint', [OrderedDict([('Coordinate', ['11.203681', '1.655237', '3.400000'])]), OrderedDict([('Coordinate', ['14.803681', '1.655237', '3.400000'])]), OrderedDict([('Coordinate', ['14.803681', '1.655237', '6.800000'])]), OrderedDict([('Coordinate', ['11.203681', '1.655237', '6.800000'])])])]), OrderedDict([('CartesianPoint', [OrderedDict([('Coordinate', ['14.803681', '8.158887', '6.800000'])]), OrderedDict([('Coordinate', ['14.803681', '1.655237', '6.800000'])]), OrderedDict([('Coordinate', ['14.803681', '1.655237', '3.400000'])]), OrderedDict([('Coordinate', ['14.803681', '8.158887', '3.400000'])])])])])]))])",
         "SpaceBoundary": "[OrderedDict([('@isSecondLevelBoundary', 'true'), ('@surfaceIdRef', 'surface-34'), ('PlanarGeometry', OrderedDict([('PolyLoop', OrderedDict([('CartesianPoint', [OrderedDict([('Coordinate', ['14.803681', '1.655237', '6.800000'])]), OrderedDict([('Coordinate', ['11.203681', '1.655237', '6.800000'])]), OrderedDict([('Coordinate', ['11.203681', '1.655237', '3.400000'])]), OrderedDict([('Coordinate', ['14.803681', '1.655237', '3.400000'])])])]))]))]), OrderedDict([('@isSecondLevelBoundary', 'true'), ('@surfaceIdRef', 'surface-37'), ('PlanarGeometry', OrderedDict([('PolyLoop', OrderedDict([('CartesianPoint', [OrderedDict([('Coordinate', ['14.803681', '1.655237', '3.400000'])]), OrderedDict([('Coordinate', ['11.203681', '1.655237', '3.400000'])]), OrderedDict([('Coordinate', ['11.203681', '8.158887', '3.400000'])]), OrderedDict([('Coordinate', ['14.803681', '8.158887', '3.400000'])])])]))]))]), OrderedDict([('@isSecondLevelBoundary', 'true'), ('@surfaceIdRef', 'surface-38'), ('PlanarGeometry', OrderedDict([('PolyLoop', OrderedDict([('CartesianPoint', [OrderedDict([('Coordinate', ['14.803681', '8.158887', '6.800000'])]), OrderedDict([('Coordinate', ['11.203681', '8.158887', '6.800000'])]), OrderedDict([('Coordinate', ['11.203681', '1.655237', '6.800000'])]), OrderedDict([('Coordinate', ['14.803681', '1.655237', '6.800000'])])])]))]))]), OrderedDict([('@isSecondLevelBoundary', 'true'), ('@surfaceIdRef', 'surface-39'), ('PlanarGeometry', OrderedDict([('PolyLoop', OrderedDict([('CartesianPoint', [OrderedDict([('Coordinate', ['14.803681', '8.158887', '3.400000'])]), OrderedDict([('Coordinate', ['11.203681', '8.158887', '3.400000'])]), OrderedDict([('Coordinate', ['11.203681', '8.158887', '6.800000'])]), OrderedDict([('Coordinate', ['14.803681', '8.158887', '6.800000'])])])]))]))]), OrderedDict([('@isSecondLevelBoundary', 'true'), ('@surfaceIdRef', 'surface-40'), ('PlanarGeometry', OrderedDict([('PolyLoop', OrderedDict([('CartesianPoint', [OrderedDict([('Coordinate', ['11.203681', '1.655237', '6.800000'])]), OrderedDict([('Coordinate', ['11.203681', '8.158887', '6.800000'])]), OrderedDict([('Coordinate', ['11.203681', '8.158887', '3.400000'])]), OrderedDict([('Coordinate', ['11.203681', '1.655237', '3.400000'])])])]))]))]), OrderedDict([('@isSecondLevelBoundary', 'true'), ('@surfaceIdRef', 'surface-41'), ('PlanarGeometry', OrderedDict([('PolyLoop', OrderedDict([('CartesianPoint', [OrderedDict([('Coordinate', ['14.803681', '8.158887', '6.800000'])]), OrderedDict([('Coordinate', ['14.803681', '1.655237', '6.800000'])]), OrderedDict([('Coordinate', ['14.803681', '1.655237', '3.400000'])]), OrderedDict([('Coordinate', ['14.803681', '8.158887', '3.400000'])])])]))]))])]",
         "SpaceId": "R10",
         "SpaceType": "Workroom3",
         "TM46Category": 3,
         "TypeCode": 0,
         "Volume": 79.604676,
         "id": "105_LiveseyExchange_heatpump-normal-fabric, A_01_03_R10_Workroom3",
         "index": 5,
         "model": "105_LiveseyExchange_heatpump-normal-fabric"
        },
        {
         "@buildingStoreyIdRef": "STOREY_1",
         "@conditionType": "HeatedAndCooled",
         "@id": "RM000004",
         "@zoneIdRef": "ZONE_1",
         "Area": 23.41314,
         "BlockCode": "A",
         "CADObjectId": "RM000004",
         "Level": 1,
         "Name": "A_01_02_R9_Workroom2",
         "ShellGeometry": "OrderedDict([('@id', 'RM000004-shellgeometry'), ('ClosedShell', OrderedDict([('PolyLoop', [OrderedDict([('CartesianPoint', [OrderedDict([('Coordinate', ['18.403681', '1.655237', '3.400000'])]), OrderedDict([('Coordinate', ['14.803681', '1.655237', '3.400000'])]), OrderedDict([('Coordinate', ['14.803681', '8.158887', '3.400000'])]), OrderedDict([('Coordinate', ['18.403681', '8.158887', '3.400000'])])])]), OrderedDict([('CartesianPoint', [OrderedDict([('Coordinate', ['18.403681', '8.158887', '6.800000'])]), OrderedDict([('Coordinate', ['14.803681', '8.158887', '6.800000'])]), OrderedDict([('Coordinate', ['14.803681', '1.655237', '6.800000'])]), OrderedDict([('Coordinate', ['18.403681', '1.655237', '6.800000'])])])]), OrderedDict([('CartesianPoint', [OrderedDict([('Coordinate', ['18.403681', '8.158887', '3.400000'])]), OrderedDict([('Coordinate', ['14.803681', '8.158887', '3.400000'])]), OrderedDict([('Coordinate', ['14.803681', '8.158887', '6.800000'])]), OrderedDict([('Coordinate', ['18.403681', '8.158887', '6.800000'])])])]), OrderedDict([('CartesianPoint', [OrderedDict([('Coordinate', ['14.803681', '1.655237', '3.400000'])]), OrderedDict([('Coordinate', ['18.403681', '1.655237', '3.400000'])]), OrderedDict([('Coordinate', ['18.403681', '1.655237', '6.800000'])]), OrderedDict([('Coordinate', ['14.803681', '1.655237', '6.800000'])])])]), OrderedDict([('CartesianPoint', [OrderedDict([('Coordinate', ['14.803681', '8.158887', '3.400000'])]), OrderedDict([('Coordinate', ['14.803681', '1.655237', '3.400000'])]), OrderedDict([('Coordinate', ['14.803681', '1.655237', '6.800000'])]), OrderedDict([('Coordinate', ['14.803681', '8.158887', '6.800000'])])])]), OrderedDict([('CartesianPoint', [OrderedDict([('Coordinate', ['18.403681', '8.158887', '6.800000'])]), OrderedDict([('Coordinate', ['18.403681', '1.655237', '6.800000'])]), OrderedDict([('Coordinate', ['18.403681', '1.655237', '3.400000'])]), OrderedDict([('Coordinate', ['18.403681', '8.158887', '3.400000'])])])])])]))])",
         "SpaceBoundary": "[OrderedDict([('@isSecondLevelBoundary', 'true'), ('@surfaceIdRef', 'surface-35'), ('PlanarGeometry', OrderedDict([('PolyLoop', OrderedDict([('CartesianPoint', [OrderedDict([('Coordinate', ['18.403681', '1.655237', '6.800000'])]), OrderedDict([('Coordinate', ['14.803681', '1.655237', '6.800000'])]), OrderedDict([('Coordinate', ['14.803681', '1.655237', '3.400000'])]), OrderedDict([('Coordinate', ['18.403681', '1.655237', '3.400000'])])])]))]))]), OrderedDict([('@isSecondLevelBoundary', 'true'), ('@surfaceIdRef', 'surface-41'), ('PlanarGeometry', OrderedDict([('PolyLoop', OrderedDict([('CartesianPoint', [OrderedDict([('Coordinate', ['14.803681', '8.158887', '3.400000'])]), OrderedDict([('Coordinate', ['14.803681', '1.655237', '3.400000'])]), OrderedDict([('Coordinate', ['14.803681', '1.655237', '6.800000'])]), OrderedDict([('Coordinate', ['14.803681', '8.158887', '6.800000'])])])]))]))]), OrderedDict([('@isSecondLevelBoundary', 'true'), ('@surfaceIdRef', 'surface-42'), ('PlanarGeometry', OrderedDict([('PolyLoop', OrderedDict([('CartesianPoint', [OrderedDict([('Coordinate', ['18.403681', '1.655237', '3.400000'])]), OrderedDict([('Coordinate', ['14.803681', '1.655237', '3.400000'])]), OrderedDict([('Coordinate', ['14.803681', '8.158887', '3.400000'])]), OrderedDict([('Coordinate', ['18.403681', '8.158887', '3.400000'])]), OrderedDict([('Coordinate', ['18.403681', '6.919988', '3.400000'])]), OrderedDict([('Coordinate', ['18.373681', '6.919988', '3.400000'])]), OrderedDict([('Coordinate', ['18.373681', '1.659988', '3.400000'])]), OrderedDict([('Coordinate', ['18.403681', '1.659769', '3.400000'])])])]))]))]), OrderedDict([('@isSecondLevelBoundary', 'true'), ('@surfaceIdRef', 'surface-43'), ('PlanarGeometry', OrderedDict([('PolyLoop', OrderedDict([('CartesianPoint', [OrderedDict([('Coordinate', ['18.403681', '1.659769', '3.400000'])]), OrderedDict([('Coordinate', ['18.373681', '1.659988', '3.400000'])]), OrderedDict([('Coordinate', ['18.373681', '6.919988', '3.400000'])]), OrderedDict([('Coordinate', ['18.403681', '6.919988', '3.400000'])])])]))]))]), OrderedDict([('@isSecondLevelBoundary', 'true'), ('@surfaceIdRef', 'surface-44'), ('PlanarGeometry', OrderedDict([('PolyLoop', OrderedDict([('CartesianPoint', [OrderedDict([('Coordinate', ['18.403681', '8.158887', '6.800000'])]), OrderedDict([('Coordinate', ['14.803681', '8.158887', '6.800000'])]), OrderedDict([('Coordinate', ['14.803681', '1.655237', '6.800000'])]), OrderedDict([('Coordinate', ['18.403681', '1.655237', '6.800000'])])])]))]))]), OrderedDict([('@isSecondLevelBoundary', 'true'), ('@surfaceIdRef', 'surface-45'), ('PlanarGeometry', OrderedDict([('PolyLoop', OrderedDict([('CartesianPoint', [OrderedDict([('Coordinate', ['18.403681', '8.158887', '3.400000'])]), OrderedDict([('Coordinate', ['14.803681', '8.158887', '3.400000'])]), OrderedDict([('Coordinate', ['14.803681', '8.158887', '6.800000'])]), OrderedDict([('Coordinate', ['18.403681', '8.158887', '6.800000'])])])]))]))]), OrderedDict([('@isSecondLevelBoundary', 'true'), ('@surfaceIdRef', 'surface-46'), ('PlanarGeometry', OrderedDict([('PolyLoop', OrderedDict([('CartesianPoint', [OrderedDict([('Coordinate', ['18.403681', '8.158887', '6.800000'])]), OrderedDict([('Coordinate', ['18.403681', '1.655237', '6.800000'])]), OrderedDict([('Coordinate', ['18.403681', '1.655237', '3.400000'])]), OrderedDict([('Coordinate', ['18.403681', '8.158887', '3.400000'])])])]))]))])]",
         "SpaceId": "R9",
         "SpaceType": "Workroom2",
         "TM46Category": 2,
         "TypeCode": 0,
         "Volume": 79.604676,
         "id": "105_LiveseyExchange_heatpump-normal-fabric, A_01_02_R9_Workroom2",
         "index": 6,
         "model": "105_LiveseyExchange_heatpump-normal-fabric"
        },
        {
         "@buildingStoreyIdRef": "STOREY_1",
         "@conditionType": "HeatedAndCooled",
         "@id": "TR000002",
         "@zoneIdRef": "ZONE_2",
         "Area": 10.766713,
         "BlockCode": "B",
         "CADObjectId": "TR000002",
         "Level": 0,
         "Name": "B_00_03_R6_WCLobby",
         "ShellGeometry": "OrderedDict([('@id', 'TR000002-shellgeometry'), ('ClosedShell', OrderedDict([('PolyLoop', [OrderedDict([('CartesianPoint', [OrderedDict([('Coordinate', ['36.968681', '2.635237', '0.000000'])]), OrderedDict([('Coordinate', ['36.968681', '3.969988', '0.000000'])]), OrderedDict([('Coordinate', ['36.968681', '3.969988', '3.400000'])]), OrderedDict([('Coordinate', ['36.968681', '2.635237', '3.400000'])])])]), OrderedDict([('CartesianPoint', [OrderedDict([('Coordinate', ['30.493681', '3.969988', '0.000000'])]), OrderedDict([('Coordinate', ['30.493681', '2.205237', '0.000000'])]), OrderedDict([('Coordinate', ['30.493681', '2.205237', '3.400000'])]), OrderedDict([('Coordinate', ['30.493681', '3.969988', '3.400000'])])])]), OrderedDict([('CartesianPoint', [OrderedDict([('Coordinate', ['36.968681', '3.969988', '0.000000'])]), OrderedDict([('Coordinate', ['30.493681', '3.969988', '0.000000'])]), OrderedDict([('Coordinate', ['30.493681', '3.969988', '3.400000'])]), OrderedDict([('Coordinate', ['36.968681', '3.969988', '3.400000'])])])]), OrderedDict([('CartesianPoint', [OrderedDict([('Coordinate', ['36.968681', '2.635237', '0.000000'])]), OrderedDict([('Coordinate', ['35.433681', '2.635237', '0.000000'])]), OrderedDict([('Coordinate', ['35.433681', '2.205237', '0.000000'])]), OrderedDict([('Coordinate', ['30.493681', '2.205237', '0.000000'])]), OrderedDict([('Coordinate', ['30.493681', '3.969988', '0.000000'])]), OrderedDict([('Coordinate', ['36.968681', '3.969988', '0.000000'])])])]), OrderedDict([('CartesianPoint', [OrderedDict([('Coordinate', ['36.968681', '3.969988', '3.400000'])]), OrderedDict([('Coordinate', ['30.493681', '3.969988', '3.400000'])]), OrderedDict([('Coordinate', ['30.493681', '2.205237', '3.400000'])]), OrderedDict([('Coordinate', ['35.433681', '2.205237', '3.400000'])]), OrderedDict([('Coordinate', ['35.433681', '2.635237', '3.400000'])]), OrderedDict([('Coordinate', ['36.968681', '2.635237', '3.400000'])])])]), OrderedDict([('CartesianPoint', [OrderedDict([('Coordinate', ['30.493681', '2.205237', '0.000000'])]), OrderedDict([('Coordinate', ['35.433681', '2.205237', '0.000000'])]), OrderedDict([('Coordinate', ['35.433681', '2.205237', '3.400000'])]), OrderedDict([('Coordinate', ['30.493681', '2.205237', '3.400000'])])])]), OrderedDict([('CartesianPoint', [OrderedDict([('Coordinate', ['35.433681', '2.635237', '0.000000'])]), OrderedDict([('Coordinate', ['36.968681', '2.635237', '0.000000'])]), OrderedDict([('Coordinate', ['36.968681', '2.635237', '3.400000'])]), OrderedDict([('Coordinate', ['35.433681', '2.635237', '3.400000'])])])]), OrderedDict([('CartesianPoint', [OrderedDict([('Coordinate', ['35.433681', '2.205237', '0.000000'])]), OrderedDict([('Coordinate', ['35.433681', '2.635237', '0.000000'])]), OrderedDict([('Coordinate', ['35.433681', '2.635237', '3.400000'])]), OrderedDict([('Coordinate', ['35.433681', '2.205237', '3.400000'])])])])])]))])",
         "SpaceBoundary": "[OrderedDict([('@isSecondLevelBoundary', 'true'), ('@surfaceIdRef', 'surface-14'), ('PlanarGeometry', OrderedDict([('PolyLoop', OrderedDict([('CartesianPoint', [OrderedDict([('Coordinate', ['36.968681', '3.969988', '-0.000000'])]), OrderedDict([('Coordinate', ['30.493681', '3.969988', '-0.000000'])]), OrderedDict([('Coordinate', ['30.493681', '3.969988', '3.400000'])]), OrderedDict([('Coordinate', ['36.968681', '3.969988', '3.400000'])])])]))]))]), OrderedDict([('@isSecondLevelBoundary', 'true'), ('@surfaceIdRef', 'surface-47'), ('PlanarGeometry', OrderedDict([('PolyLoop', OrderedDict([('CartesianPoint', [OrderedDict([('Coordinate', ['36.968681', '2.635237', '0.000000'])]), OrderedDict([('Coordinate', ['36.968681', '3.969988', '0.000000'])]), OrderedDict([('Coordinate', ['36.968681', '3.969988', '3.400000'])]), OrderedDict([('Coordinate', ['36.968681', '2.635237', '3.400000'])])])]))]))]), OrderedDict([('@isSecondLevelBoundary', 'true'), ('@surfaceIdRef', 'surface-48'), ('PlanarGeometry', OrderedDict([('PolyLoop', OrderedDict([('CartesianPoint', [OrderedDict([('Coordinate', ['30.493681', '3.969988', '0.000000'])]), OrderedDict([('Coordinate', ['30.493681', '2.205237', '0.000000'])]), OrderedDict([('Coordinate', ['30.493681', '2.205237', '3.400000'])]), OrderedDict([('Coordinate', ['30.493681', '3.969988', '3.400000'])])])]))]))]), OrderedDict([('@isSecondLevelBoundary', 'true'), ('@surfaceIdRef', 'surface-49'), ('PlanarGeometry', OrderedDict([('PolyLoop', OrderedDict([('CartesianPoint', [OrderedDict([('Coordinate', ['36.968681', '2.635237', '0.000000'])]), OrderedDict([('Coordinate', ['35.433681', '2.635237', '0.000000'])]), OrderedDict([('Coordinate', ['35.433681', '2.205237', '0.000000'])]), OrderedDict([('Coordinate', ['30.493681', '2.205237', '0.000000'])]), OrderedDict([('Coordinate', ['30.493681', '3.969988', '0.000000'])]), OrderedDict([('Coordinate', ['36.968681', '3.969988', '0.000000'])])])]))]))]), OrderedDict([('@isSecondLevelBoundary', 'true'), ('@surfaceIdRef', 'surface-50'), ('PlanarGeometry', OrderedDict([('PolyLoop', OrderedDict([('CartesianPoint', [OrderedDict([('Coordinate', ['33.715237', '3.969988', '3.400000'])]), OrderedDict([('Coordinate', ['30.493681', '3.969988', '3.400000'])]), OrderedDict([('Coordinate', ['30.493681', '2.205237', '3.400000'])]), OrderedDict([('Coordinate', ['33.715237', '2.205237', '3.400000'])])])]))]))]), OrderedDict([('@isSecondLevelBoundary', 'true'), ('@surfaceIdRef', 'surface-51'), ('PlanarGeometry', OrderedDict([('PolyLoop', OrderedDict([('CartesianPoint', [OrderedDict([('Coordinate', ['36.968681', '3.969988', '3.400000'])]), OrderedDict([('Coordinate', ['33.715237', '3.969988', '3.400000'])]), OrderedDict([('Coordinate', ['33.715237', '3.428000', '3.400000'])]), OrderedDict([('Coordinate', ['36.968681', '3.428000', '3.400000'])])])]))]))]), OrderedDict([('@isSecondLevelBoundary', 'true'), ('@surfaceIdRef', 'surface-52'), ('PlanarGeometry', OrderedDict([('PolyLoop', OrderedDict([('CartesianPoint', [OrderedDict([('Coordinate', ['36.968681', '3.428000', '3.400000'])]), OrderedDict([('Coordinate', ['33.715237', '3.428000', '3.400000'])]), OrderedDict([('Coordinate', ['33.715237', '2.205237', '3.400000'])]), OrderedDict([('Coordinate', ['35.433681', '2.205237', '3.400000'])]), OrderedDict([('Coordinate', ['35.433681', '2.635237', '3.400000'])]), OrderedDict([('Coordinate', ['36.968681', '2.635237', '3.400000'])])])]))]))]), OrderedDict([('@isSecondLevelBoundary', 'true'), ('@surfaceIdRef', 'surface-53'), ('PlanarGeometry', OrderedDict([('PolyLoop', OrderedDict([('CartesianPoint', [OrderedDict([('Coordinate', ['31.483681', '2.205237', '3.400000'])]), OrderedDict([('Coordinate', ['30.493681', '2.205237', '3.400000'])]), OrderedDict([('Coordinate', ['30.493681', '2.205237', '-0.000000'])]), OrderedDict([('Coordinate', ['31.483681', '2.205237', '-0.000000'])])])]))]))]), OrderedDict([('@isSecondLevelBoundary', 'true'), ('@surfaceIdRef', 'surface-54'), ('PlanarGeometry', OrderedDict([('PolyLoop', OrderedDict([('CartesianPoint', [OrderedDict([('Coordinate', ['32.363681', '2.205237', '3.400000'])]), OrderedDict([('Coordinate', ['31.483681', '2.205237', '3.400000'])]), OrderedDict([('Coordinate', ['31.483681', '2.205237', '-0.000000'])]), OrderedDict([('Coordinate', ['32.363681', '2.205237', '-0.000000'])])])]))]))]), OrderedDict([('@isSecondLevelBoundary', 'true'), ('@surfaceIdRef', 'surface-55'), ('PlanarGeometry', OrderedDict([('PolyLoop', OrderedDict([('CartesianPoint', [OrderedDict([('Coordinate', ['33.243681', '2.205237', '3.400000'])]), OrderedDict([('Coordinate', ['32.363681', '2.205237', '3.400000'])]), OrderedDict([('Coordinate', ['32.363681', '2.205237', '-0.000000'])]), OrderedDict([('Coordinate', ['33.243681', '2.205237', '-0.000000'])])])]))]))]), OrderedDict([('@isSecondLevelBoundary', 'true'), ('@surfaceIdRef', 'surface-56'), ('PlanarGeometry', OrderedDict([('PolyLoop', OrderedDict([('CartesianPoint', [OrderedDict([('Coordinate', ['35.433681', '2.205237', '3.400000'])]), OrderedDict([('Coordinate', ['34.163681', '2.205237', '3.400000'])]), OrderedDict([('Coordinate', ['34.163681', '2.205237', '-0.000000'])]), OrderedDict([('Coordinate', ['35.433681', '2.205237', '-0.000000'])])])]))]))]), OrderedDict([('@isSecondLevelBoundary', 'true'), ('@surfaceIdRef', 'surface-57'), ('PlanarGeometry', OrderedDict([('PolyLoop', OrderedDict([('CartesianPoint', [OrderedDict([('Coordinate', ['34.163681', '2.205237', '3.400000'])]), OrderedDict([('Coordinate', ['33.243681', '2.205237', '3.400000'])]), OrderedDict([('Coordinate', ['33.243681', '2.205237', '-0.000000'])]), OrderedDict([('Coordinate', ['34.163681', '2.205237', '-0.000000'])])])]))]))]), OrderedDict([('@isSecondLevelBoundary', 'true'), ('@surfaceIdRef', 'surface-58'), ('PlanarGeometry', OrderedDict([('PolyLoop', OrderedDict([('CartesianPoint', [OrderedDict([('Coordinate', ['36.968681', '2.635237', '3.400000'])]), OrderedDict([('Coordinate', ['35.433681', '2.635237', '3.400000'])]), OrderedDict([('Coordinate', ['35.433681', '2.635237', '-0.000000'])]), OrderedDict([('Coordinate', ['36.968681', '2.635237', '-0.000000'])])])]))]))]), OrderedDict([('@isSecondLevelBoundary', 'true'), ('@surfaceIdRef', 'surface-59'), ('PlanarGeometry', OrderedDict([('PolyLoop', OrderedDict([('CartesianPoint', [OrderedDict([('Coordinate', ['35.433681', '2.635237', '3.400000'])]), OrderedDict([('Coordinate', ['35.433681', '2.205237', '3.400000'])]), OrderedDict([('Coordinate', ['35.433681', '2.205237', '0.000000'])]), OrderedDict([('Coordinate', ['35.433681', '2.635237', '0.000000'])])])]))]))])]",
         "SpaceId": "R6",
         "SpaceType": "WCLobby",
         "TM46Category": 3,
         "TypeCode": 0,
         "Volume": 36.606823,
         "id": "105_LiveseyExchange_heatpump-normal-fabric, B_00_03_R6_WCLobby",
         "index": 7,
         "model": "105_LiveseyExchange_heatpump-normal-fabric"
        },
        {
         "@buildingStoreyIdRef": "STOREY_1",
         "@conditionType": "HeatedAndCooled",
         "@id": "TR00000C",
         "@zoneIdRef": "ZONE_2",
         "Area": 3.438813,
         "BlockCode": "B",
         "CADObjectId": "TR00000C",
         "Level": 0,
         "Name": "B_00_03_R6_AWC",
         "ShellGeometry": "OrderedDict([('@id', 'TR00000C-shellgeometry'), ('ClosedShell', OrderedDict([('PolyLoop', [OrderedDict([('CartesianPoint', [OrderedDict([('Coordinate', ['35.433681', '0.394968', '0.000000'])]), OrderedDict([('Coordinate', ['36.968681', '0.394968', '-0.000000'])]), OrderedDict([('Coordinate', ['36.968681', '0.394968', '3.400000'])]), OrderedDict([('Coordinate', ['35.433681', '0.394968', '3.400000'])])])]), OrderedDict([('CartesianPoint', [OrderedDict([('Coordinate', ['35.433681', '2.635237', '3.400000'])]), OrderedDict([('Coordinate', ['36.968681', '2.635237', '3.400000'])]), OrderedDict([('Coordinate', ['36.968681', '2.635237', '0.000000'])]), OrderedDict([('Coordinate', ['35.433681', '2.635237', '0.000000'])])])]), OrderedDict([('CartesianPoint', [OrderedDict([('Coordinate', ['36.968681', '0.394968', '-0.000000'])]), OrderedDict([('Coordinate', ['36.968681', '2.635237', '0.000000'])]), OrderedDict([('Coordinate', ['36.968681', '2.635237', '3.400000'])]), OrderedDict([('Coordinate', ['36.968681', '0.394968', '3.400000'])])])]), OrderedDict([('CartesianPoint', [OrderedDict([('Coordinate', ['36.968681', '0.394968', '-0.000000'])]), OrderedDict([('Coordinate', ['35.433681', '0.394968', '0.000000'])]), OrderedDict([('Coordinate', ['35.433681', '2.635237', '0.000000'])]), OrderedDict([('Coordinate', ['36.968681', '2.635237', '0.000000'])])])]), OrderedDict([('CartesianPoint', [OrderedDict([('Coordinate', ['35.433681', '0.394968', '3.400000'])]), OrderedDict([('Coordinate', ['36.968681', '0.394968', '3.400000'])]), OrderedDict([('Coordinate', ['36.968681', '2.635237', '3.400000'])]), OrderedDict([('Coordinate', ['35.433681', '2.635237', '3.400000'])])])]), OrderedDict([('CartesianPoint', [OrderedDict([('Coordinate', ['35.433681', '2.635237', '0.000000'])]), OrderedDict([('Coordinate', ['35.433681', '0.394968', '0.000000'])]), OrderedDict([('Coordinate', ['35.433681', '0.394968', '3.400000'])]), OrderedDict([('Coordinate', ['35.433681', '2.635237', '3.400000'])])])])])]))])",
         "SpaceBoundary": "[OrderedDict([('@isSecondLevelBoundary', 'true'), ('@surfaceIdRef', 'surface-58'), ('PlanarGeometry', OrderedDict([('PolyLoop', OrderedDict([('CartesianPoint', [OrderedDict([('Coordinate', ['36.968681', '2.635237', '-0.000000'])]), OrderedDict([('Coordinate', ['35.433681', '2.635237', '-0.000000'])]), OrderedDict([('Coordinate', ['35.433681', '2.635237', '3.400000'])]), OrderedDict([('Coordinate', ['36.968681', '2.635237', '3.400000'])])])]))]))]), OrderedDict([('@isSecondLevelBoundary', 'true'), ('@surfaceIdRef', 'surface-59'), ('PlanarGeometry', OrderedDict([('PolyLoop', OrderedDict([('CartesianPoint', [OrderedDict([('Coordinate', ['35.433681', '2.635237', '0.000000'])]), OrderedDict([('Coordinate', ['35.433681', '2.205237', '0.000000'])]), OrderedDict([('Coordinate', ['35.433681', '2.205237', '3.400000'])]), OrderedDict([('Coordinate', ['35.433681', '2.635237', '3.400000'])])])]))]))]), OrderedDict([('@isSecondLevelBoundary', 'true'), ('@surfaceIdRef', 'surface-60'), ('PlanarGeometry', OrderedDict([('PolyLoop', OrderedDict([('CartesianPoint', [OrderedDict([('Coordinate', ['35.433681', '0.394968', '0.000000'])]), OrderedDict([('Coordinate', ['36.968681', '0.394968', '0.000000'])]), OrderedDict([('Coordinate', ['36.968681', '0.394968', '3.400000'])]), OrderedDict([('Coordinate', ['35.433681', '0.394968', '3.400000'])])])]))]))]), OrderedDict([('@isSecondLevelBoundary', 'true'), ('@surfaceIdRef', 'surface-61'), ('PlanarGeometry', OrderedDict([('PolyLoop', OrderedDict([('CartesianPoint', [OrderedDict([('Coordinate', ['36.968681', '0.394968', '0.000000'])]), OrderedDict([('Coordinate', ['36.968681', '2.635237', '0.000000'])]), OrderedDict([('Coordinate', ['36.968681', '2.635237', '3.400000'])]), OrderedDict([('Coordinate', ['36.968681', '0.394968', '3.400000'])])])]))]))]), OrderedDict([('@isSecondLevelBoundary', 'true'), ('@surfaceIdRef', 'surface-62'), ('PlanarGeometry', OrderedDict([('PolyLoop', OrderedDict([('CartesianPoint', [OrderedDict([('Coordinate', ['36.968681', '0.394968', '0.000000'])]), OrderedDict([('Coordinate', ['35.433681', '0.394968', '0.000000'])]), OrderedDict([('Coordinate', ['35.433681', '2.635237', '0.000000'])]), OrderedDict([('Coordinate', ['36.968681', '2.635237', '0.000000'])])])]))]))]), OrderedDict([('@isSecondLevelBoundary', 'true'), ('@surfaceIdRef', 'surface-63'), ('PlanarGeometry', OrderedDict([('PolyLoop', OrderedDict([('CartesianPoint', [OrderedDict([('Coordinate', ['36.968681', '2.635237', '3.400000'])]), OrderedDict([('Coordinate', ['35.433681', '2.635237', '3.400000'])]), OrderedDict([('Coordinate', ['35.433681', '0.394968', '3.400000'])]), OrderedDict([('Coordinate', ['36.968681', '0.394968', '3.400000'])])])]))]))]), OrderedDict([('@isSecondLevelBoundary', 'true'), ('@surfaceIdRef', 'surface-64'), ('PlanarGeometry', OrderedDict([('PolyLoop', OrderedDict([('CartesianPoint', [OrderedDict([('Coordinate', ['35.433681', '0.394968', '3.400000'])]), OrderedDict([('Coordinate', ['35.433681', '2.205237', '3.400000'])]), OrderedDict([('Coordinate', ['35.433681', '2.205237', '-0.000000'])]), OrderedDict([('Coordinate', ['35.433681', '0.394968', '-0.000000'])])])]))]))])]",
         "SpaceId": "R6",
         "SpaceType": "AWC",
         "TM46Category": 3,
         "TypeCode": 0,
         "Volume": 11.691964,
         "id": "105_LiveseyExchange_heatpump-normal-fabric, B_00_03_R6_AWC",
         "index": 8,
         "model": "105_LiveseyExchange_heatpump-normal-fabric"
        },
        {
         "@buildingStoreyIdRef": "STOREY_1",
         "@conditionType": "HeatedAndCooled",
         "@id": "TR00000A",
         "@zoneIdRef": "ZONE_2",
         "Area": 1.792166,
         "BlockCode": "B",
         "CADObjectId": "TR00000A",
         "Level": 0,
         "Name": "B_00_03_R6_WCCubicle1",
         "ShellGeometry": "OrderedDict([('@id', 'TR00000A-shellgeometry'), ('ClosedShell', OrderedDict([('PolyLoop', [OrderedDict([('CartesianPoint', [OrderedDict([('Coordinate', ['30.493681', '0.394968', '0.000000'])]), OrderedDict([('Coordinate', ['31.483681', '0.394968', '0.000000'])]), OrderedDict([('Coordinate', ['31.483681', '0.394968', '3.400000'])]), OrderedDict([('Coordinate', ['30.493681', '0.394968', '3.400000'])])])]), OrderedDict([('CartesianPoint', [OrderedDict([('Coordinate', ['30.493681', '2.205237', '0.000000'])]), OrderedDict([('Coordinate', ['30.493681', '0.394968', '0.000000'])]), OrderedDict([('Coordinate', ['30.493681', '0.394968', '3.400000'])]), OrderedDict([('Coordinate', ['30.493681', '2.205237', '3.400000'])])])]), OrderedDict([('CartesianPoint', [OrderedDict([('Coordinate', ['31.483681', '0.394968', '0.000000'])]), OrderedDict([('Coordinate', ['30.493681', '0.394968', '0.000000'])]), OrderedDict([('Coordinate', ['30.493681', '2.205237', '0.000000'])]), OrderedDict([('Coordinate', ['31.483681', '2.205237', '0.000000'])])])]), OrderedDict([('CartesianPoint', [OrderedDict([('Coordinate', ['31.483681', '2.205237', '3.400000'])]), OrderedDict([('Coordinate', ['30.493681', '2.205237', '3.400000'])]), OrderedDict([('Coordinate', ['30.493681', '0.394968', '3.400000'])]), OrderedDict([('Coordinate', ['31.483681', '0.394968', '3.400000'])])])]), OrderedDict([('CartesianPoint', [OrderedDict([('Coordinate', ['31.483681', '2.205237', '0.000000'])]), OrderedDict([('Coordinate', ['30.493681', '2.205237', '0.000000'])]), OrderedDict([('Coordinate', ['30.493681', '2.205237', '3.400000'])]), OrderedDict([('Coordinate', ['31.483681', '2.205237', '3.400000'])])])]), OrderedDict([('CartesianPoint', [OrderedDict([('Coordinate', ['31.483681', '2.205237', '3.400000'])]), OrderedDict([('Coordinate', ['31.483681', '0.394968', '3.400000'])]), OrderedDict([('Coordinate', ['31.483681', '0.394968', '0.000000'])]), OrderedDict([('Coordinate', ['31.483681', '2.205237', '0.000000'])])])])])]))])",
         "SpaceBoundary": "[OrderedDict([('@isSecondLevelBoundary', 'true'), ('@surfaceIdRef', 'surface-27'), ('PlanarGeometry', OrderedDict([('PolyLoop', OrderedDict([('CartesianPoint', [OrderedDict([('Coordinate', ['30.493681', '2.205237', '0.000000'])]), OrderedDict([('Coordinate', ['30.493681', '0.394968', '0.000000'])]), OrderedDict([('Coordinate', ['30.493681', '0.394968', '3.400000'])]), OrderedDict([('Coordinate', ['30.493681', '2.205237', '3.400000'])])])]))]))]), OrderedDict([('@isSecondLevelBoundary', 'true'), ('@surfaceIdRef', 'surface-53'), ('PlanarGeometry', OrderedDict([('PolyLoop', OrderedDict([('CartesianPoint', [OrderedDict([('Coordinate', ['31.483681', '2.205237', '-0.000000'])]), OrderedDict([('Coordinate', ['30.493681', '2.205237', '-0.000000'])]), OrderedDict([('Coordinate', ['30.493681', '2.205237', '3.400000'])]), OrderedDict([('Coordinate', ['31.483681', '2.205237', '3.400000'])])])]))]))]), OrderedDict([('@isSecondLevelBoundary', 'true'), ('@surfaceIdRef', 'surface-65'), ('PlanarGeometry', OrderedDict([('PolyLoop', OrderedDict([('CartesianPoint', [OrderedDict([('Coordinate', ['30.493681', '0.394968', '0.000000'])]), OrderedDict([('Coordinate', ['31.483681', '0.394968', '0.000000'])]), OrderedDict([('Coordinate', ['31.483681', '0.394968', '3.400000'])]), OrderedDict([('Coordinate', ['30.493681', '0.394968', '3.400000'])])])]))]))]), OrderedDict([('@isSecondLevelBoundary', 'true'), ('@surfaceIdRef', 'surface-66'), ('PlanarGeometry', OrderedDict([('PolyLoop', OrderedDict([('CartesianPoint', [OrderedDict([('Coordinate', ['31.483681', '0.394968', '0.000000'])]), OrderedDict([('Coordinate', ['30.493681', '0.394968', '0.000000'])]), OrderedDict([('Coordinate', ['30.493681', '2.205237', '0.000000'])]), OrderedDict([('Coordinate', ['31.483681', '2.205237', '0.000000'])])])]))]))]), OrderedDict([('@isSecondLevelBoundary', 'true'), ('@surfaceIdRef', 'surface-67'), ('PlanarGeometry', OrderedDict([('PolyLoop', OrderedDict([('CartesianPoint', [OrderedDict([('Coordinate', ['31.483681', '2.205237', '3.400000'])]), OrderedDict([('Coordinate', ['30.493681', '2.205237', '3.400000'])]), OrderedDict([('Coordinate', ['30.493681', '1.679837', '3.400000'])]), OrderedDict([('Coordinate', ['31.483681', '1.675642', '3.400000'])])])]))]))]), OrderedDict([('@isSecondLevelBoundary', 'true'), ('@surfaceIdRef', 'surface-68'), ('PlanarGeometry', OrderedDict([('PolyLoop', OrderedDict([('CartesianPoint', [OrderedDict([('Coordinate', ['30.493681', '1.679837', '3.400000'])]), OrderedDict([('Coordinate', ['30.493681', '0.394968', '3.400000'])]), OrderedDict([('Coordinate', ['31.483681', '0.394968', '3.400000'])]), OrderedDict([('Coordinate', ['31.483681', '1.675642', '3.400000'])])])]))]))]), OrderedDict([('@isSecondLevelBoundary', 'true'), ('@surfaceIdRef', 'surface-69'), ('PlanarGeometry', OrderedDict([('PolyLoop', OrderedDict([('CartesianPoint', [OrderedDict([('Coordinate', ['31.483681', '2.205237', '3.400000'])]), OrderedDict([('Coordinate', ['31.483681', '0.394968', '3.400000'])]), OrderedDict([('Coordinate', ['31.483681', '0.394968', '0.000000'])]), OrderedDict([('Coordinate', ['31.483681', '2.205237', '0.000000'])])])]))]))])]",
         "SpaceId": "R6",
         "SpaceType": "WCCubicle1",
         "TM46Category": 3,
         "TypeCode": 0,
         "Volume": 6.093365,
         "id": "105_LiveseyExchange_heatpump-normal-fabric, B_00_03_R6_WCCubicle1",
         "index": 9,
         "model": "105_LiveseyExchange_heatpump-normal-fabric"
        },
        {
         "@buildingStoreyIdRef": "STOREY_1",
         "@conditionType": "HeatedAndCooled",
         "@id": "TR00000B",
         "@zoneIdRef": "ZONE_2",
         "Area": 1.593037,
         "BlockCode": "B",
         "CADObjectId": "TR00000B",
         "Level": 0,
         "Name": "B_00_03_R6_WCCubicle2",
         "ShellGeometry": "OrderedDict([('@id', 'TR00000B-shellgeometry'), ('ClosedShell', OrderedDict([('PolyLoop', [OrderedDict([('CartesianPoint', [OrderedDict([('Coordinate', ['31.483681', '0.394968', '0.000000'])]), OrderedDict([('Coordinate', ['32.363681', '0.394968', '0.000000'])]), OrderedDict([('Coordinate', ['32.363681', '0.394968', '3.400000'])]), OrderedDict([('Coordinate', ['31.483681', '0.394968', '3.400000'])])])]), OrderedDict([('CartesianPoint', [OrderedDict([('Coordinate', ['32.363681', '0.394968', '0.000000'])]), OrderedDict([('Coordinate', ['31.483681', '0.394968', '0.000000'])]), OrderedDict([('Coordinate', ['31.483681', '2.205237', '0.000000'])]), OrderedDict([('Coordinate', ['32.363681', '2.205237', '0.000000'])])])]), OrderedDict([('CartesianPoint', [OrderedDict([('Coordinate', ['32.363681', '2.205237', '3.400000'])]), OrderedDict([('Coordinate', ['31.483681', '2.205237', '3.400000'])]), OrderedDict([('Coordinate', ['31.483681', '0.394968', '3.400000'])]), OrderedDict([('Coordinate', ['32.363681', '0.394968', '3.400000'])])])]), OrderedDict([('CartesianPoint', [OrderedDict([('Coordinate', ['32.363681', '2.205237', '0.000000'])]), OrderedDict([('Coordinate', ['31.483681', '2.205237', '0.000000'])]), OrderedDict([('Coordinate', ['31.483681', '2.205237', '3.400000'])]), OrderedDict([('Coordinate', ['32.363681', '2.205237', '3.400000'])])])]), OrderedDict([('CartesianPoint', [OrderedDict([('Coordinate', ['31.483681', '2.205237', '0.000000'])]), OrderedDict([('Coordinate', ['31.483681', '0.394968', '0.000000'])]), OrderedDict([('Coordinate', ['31.483681', '0.394968', '3.400000'])]), OrderedDict([('Coordinate', ['31.483681', '2.205237', '3.400000'])])])]), OrderedDict([('CartesianPoint', [OrderedDict([('Coordinate', ['32.363681', '2.205237', '3.400000'])]), OrderedDict([('Coordinate', ['32.363681', '0.394968', '3.400000'])]), OrderedDict([('Coordinate', ['32.363681', '0.394968', '0.000000'])]), OrderedDict([('Coordinate', ['32.363681', '2.205237', '0.000000'])])])])])]))])",
         "SpaceBoundary": "[OrderedDict([('@isSecondLevelBoundary', 'true'), ('@surfaceIdRef', 'surface-54'), ('PlanarGeometry', OrderedDict([('PolyLoop', OrderedDict([('CartesianPoint', [OrderedDict([('Coordinate', ['32.363681', '2.205237', '-0.000000'])]), OrderedDict([('Coordinate', ['31.483681', '2.205237', '-0.000000'])]), OrderedDict([('Coordinate', ['31.483681', '2.205237', '3.400000'])]), OrderedDict([('Coordinate', ['32.363681', '2.205237', '3.400000'])])])]))]))]), OrderedDict([('@isSecondLevelBoundary', 'true'), ('@surfaceIdRef', 'surface-69'), ('PlanarGeometry', OrderedDict([('PolyLoop', OrderedDict([('CartesianPoint', [OrderedDict([('Coordinate', ['31.483681', '2.205237', '0.000000'])]), OrderedDict([('Coordinate', ['31.483681', '0.394968', '0.000000'])]), OrderedDict([('Coordinate', ['31.483681', '0.394968', '3.400000'])]), OrderedDict([('Coordinate', ['31.483681', '2.205237', '3.400000'])])])]))]))]), OrderedDict([('@isSecondLevelBoundary', 'true'), ('@surfaceIdRef', 'surface-70'), ('PlanarGeometry', OrderedDict([('PolyLoop', OrderedDict([('CartesianPoint', [OrderedDict([('Coordinate', ['31.483681', '0.394968', '0.000000'])]), OrderedDict([('Coordinate', ['32.363681', '0.394968', '0.000000'])]), OrderedDict([('Coordinate', ['32.363681', '0.394968', '3.400000'])]), OrderedDict([('Coordinate', ['31.483681', '0.394968', '3.400000'])])])]))]))]), OrderedDict([('@isSecondLevelBoundary', 'true'), ('@surfaceIdRef', 'surface-71'), ('PlanarGeometry', OrderedDict([('PolyLoop', OrderedDict([('CartesianPoint', [OrderedDict([('Coordinate', ['32.363681', '0.394968', '0.000000'])]), OrderedDict([('Coordinate', ['31.483681', '0.394968', '0.000000'])]), OrderedDict([('Coordinate', ['31.483681', '2.205237', '0.000000'])]), OrderedDict([('Coordinate', ['32.363681', '2.205237', '0.000000'])])])]))]))]), OrderedDict([('@isSecondLevelBoundary', 'true'), ('@surfaceIdRef', 'surface-72'), ('PlanarGeometry', OrderedDict([('PolyLoop', OrderedDict([('CartesianPoint', [OrderedDict([('Coordinate', ['32.363681', '2.205237', '3.400000'])]), OrderedDict([('Coordinate', ['31.483681', '2.205237', '3.400000'])]), OrderedDict([('Coordinate', ['31.483681', '1.675642', '3.400000'])]), OrderedDict([('Coordinate', ['32.363681', '1.671913', '3.400000'])])])]))]))]), OrderedDict([('@isSecondLevelBoundary', 'true'), ('@surfaceIdRef', 'surface-73'), ('PlanarGeometry', OrderedDict([('PolyLoop', OrderedDict([('CartesianPoint', [OrderedDict([('Coordinate', ['31.483681', '1.675642', '3.400000'])]), OrderedDict([('Coordinate', ['31.483681', '0.394968', '3.400000'])]), OrderedDict([('Coordinate', ['32.363681', '0.394968', '3.400000'])]), OrderedDict([('Coordinate', ['32.363681', '1.671913', '3.400000'])])])]))]))]), OrderedDict([('@isSecondLevelBoundary', 'true'), ('@surfaceIdRef', 'surface-74'), ('PlanarGeometry', OrderedDict([('PolyLoop', OrderedDict([('CartesianPoint', [OrderedDict([('Coordinate', ['32.363681', '2.205237', '3.400000'])]), OrderedDict([('Coordinate', ['32.363681', '0.394968', '3.400000'])]), OrderedDict([('Coordinate', ['32.363681', '0.394968', '0.000000'])]), OrderedDict([('Coordinate', ['32.363681', '2.205237', '0.000000'])])])]))]))])]",
         "SpaceId": "R6",
         "SpaceType": "WCCubicle2",
         "TM46Category": 3,
         "TypeCode": 0,
         "Volume": 5.416325,
         "id": "105_LiveseyExchange_heatpump-normal-fabric, B_00_03_R6_WCCubicle2",
         "index": 10,
         "model": "105_LiveseyExchange_heatpump-normal-fabric"
        },
        {
         "@buildingStoreyIdRef": "STOREY_1",
         "@conditionType": "HeatedAndCooled",
         "@id": "TR00000D",
         "@zoneIdRef": "ZONE_2",
         "Area": 1.593037,
         "BlockCode": "B",
         "CADObjectId": "TR00000D",
         "Level": 0,
         "Name": "B_00_03_R6_WCCubicle3",
         "ShellGeometry": "OrderedDict([('@id', 'TR00000D-shellgeometry'), ('ClosedShell', OrderedDict([('PolyLoop', [OrderedDict([('CartesianPoint', [OrderedDict([('Coordinate', ['32.363681', '0.394968', '0.000000'])]), OrderedDict([('Coordinate', ['33.243681', '0.394968', '0.000000'])]), OrderedDict([('Coordinate', ['33.243681', '0.394968', '3.400000'])]), OrderedDict([('Coordinate', ['32.363681', '0.394968', '3.400000'])])])]), OrderedDict([('CartesianPoint', [OrderedDict([('Coordinate', ['33.243681', '0.394968', '0.000000'])]), OrderedDict([('Coordinate', ['32.363681', '0.394968', '0.000000'])]), OrderedDict([('Coordinate', ['32.363681', '2.205237', '0.000000'])]), OrderedDict([('Coordinate', ['33.243681', '2.205237', '0.000000'])])])]), OrderedDict([('CartesianPoint', [OrderedDict([('Coordinate', ['33.243681', '2.205237', '3.400000'])]), OrderedDict([('Coordinate', ['32.363681', '2.205237', '3.400000'])]), OrderedDict([('Coordinate', ['32.363681', '0.394968', '3.400000'])]), OrderedDict([('Coordinate', ['33.243681', '0.394968', '3.400000'])])])]), OrderedDict([('CartesianPoint', [OrderedDict([('Coordinate', ['33.243681', '2.205237', '0.000000'])]), OrderedDict([('Coordinate', ['32.363681', '2.205237', '0.000000'])]), OrderedDict([('Coordinate', ['32.363681', '2.205237', '3.400000'])]), OrderedDict([('Coordinate', ['33.243681', '2.205237', '3.400000'])])])]), OrderedDict([('CartesianPoint', [OrderedDict([('Coordinate', ['32.363681', '2.205237', '0.000000'])]), OrderedDict([('Coordinate', ['32.363681', '0.394968', '0.000000'])]), OrderedDict([('Coordinate', ['32.363681', '0.394968', '3.400000'])]), OrderedDict([('Coordinate', ['32.363681', '2.205237', '3.400000'])])])]), OrderedDict([('CartesianPoint', [OrderedDict([('Coordinate', ['33.243681', '2.205237', '3.400000'])]), OrderedDict([('Coordinate', ['33.243681', '0.394968', '3.400000'])]), OrderedDict([('Coordinate', ['33.243681', '0.394968', '0.000000'])]), OrderedDict([('Coordinate', ['33.243681', '2.205237', '0.000000'])])])])])]))])",
         "SpaceBoundary": "[OrderedDict([('@isSecondLevelBoundary', 'true'), ('@surfaceIdRef', 'surface-55'), ('PlanarGeometry', OrderedDict([('PolyLoop', OrderedDict([('CartesianPoint', [OrderedDict([('Coordinate', ['33.243681', '2.205237', '-0.000000'])]), OrderedDict([('Coordinate', ['32.363681', '2.205237', '-0.000000'])]), OrderedDict([('Coordinate', ['32.363681', '2.205237', '3.400000'])]), OrderedDict([('Coordinate', ['33.243681', '2.205237', '3.400000'])])])]))]))]), OrderedDict([('@isSecondLevelBoundary', 'true'), ('@surfaceIdRef', 'surface-74'), ('PlanarGeometry', OrderedDict([('PolyLoop', OrderedDict([('CartesianPoint', [OrderedDict([('Coordinate', ['32.363681', '2.205237', '0.000000'])]), OrderedDict([('Coordinate', ['32.363681', '0.394968', '0.000000'])]), OrderedDict([('Coordinate', ['32.363681', '0.394968', '3.400000'])]), OrderedDict([('Coordinate', ['32.363681', '2.205237', '3.400000'])])])]))]))]), OrderedDict([('@isSecondLevelBoundary', 'true'), ('@surfaceIdRef', 'surface-75'), ('PlanarGeometry', OrderedDict([('PolyLoop', OrderedDict([('CartesianPoint', [OrderedDict([('Coordinate', ['32.363681', '0.394968', '0.000000'])]), OrderedDict([('Coordinate', ['33.243681', '0.394968', '0.000000'])]), OrderedDict([('Coordinate', ['33.243681', '0.394968', '3.400000'])]), OrderedDict([('Coordinate', ['32.363681', '0.394968', '3.400000'])])])]))]))]), OrderedDict([('@isSecondLevelBoundary', 'true'), ('@surfaceIdRef', 'surface-76'), ('PlanarGeometry', OrderedDict([('PolyLoop', OrderedDict([('CartesianPoint', [OrderedDict([('Coordinate', ['33.243681', '0.394968', '0.000000'])]), OrderedDict([('Coordinate', ['32.363681', '0.394968', '0.000000'])]), OrderedDict([('Coordinate', ['32.363681', '2.205237', '0.000000'])]), OrderedDict([('Coordinate', ['33.243681', '2.205237', '0.000000'])])])]))]))]), OrderedDict([('@isSecondLevelBoundary', 'true'), ('@surfaceIdRef', 'surface-77'), ('PlanarGeometry', OrderedDict([('PolyLoop', OrderedDict([('CartesianPoint', [OrderedDict([('Coordinate', ['33.243681', '2.205237', '3.400000'])]), OrderedDict([('Coordinate', ['32.363681', '2.205237', '3.400000'])]), OrderedDict([('Coordinate', ['32.363681', '1.671913', '3.400000'])]), OrderedDict([('Coordinate', ['32.815237', '1.670000', '3.400000'])]), OrderedDict([('Coordinate', ['33.243681', '1.670000', '3.400000'])])])]))]))]), OrderedDict([('@isSecondLevelBoundary', 'true'), ('@surfaceIdRef', 'surface-78'), ('PlanarGeometry', OrderedDict([('PolyLoop', OrderedDict([('CartesianPoint', [OrderedDict([('Coordinate', ['33.243681', '1.670000', '3.400000'])]), OrderedDict([('Coordinate', ['32.815237', '1.670000', '3.400000'])]), OrderedDict([('Coordinate', ['32.821140', '0.394968', '3.400000'])]), OrderedDict([('Coordinate', ['33.243681', '0.394968', '3.400000'])])])]))]))]), OrderedDict([('@isSecondLevelBoundary', 'true'), ('@surfaceIdRef', 'surface-79'), ('PlanarGeometry', OrderedDict([('PolyLoop', OrderedDict([('CartesianPoint', [OrderedDict([('Coordinate', ['32.363681', '1.671913', '3.400000'])]), OrderedDict([('Coordinate', ['32.363681', '0.394968', '3.400000'])]), OrderedDict([('Coordinate', ['32.821140', '0.394968', '3.400000'])]), OrderedDict([('Coordinate', ['32.815237', '1.670000', '3.400000'])])])]))]))]), OrderedDict([('@isSecondLevelBoundary', 'true'), ('@surfaceIdRef', 'surface-80'), ('PlanarGeometry', OrderedDict([('PolyLoop', OrderedDict([('CartesianPoint', [OrderedDict([('Coordinate', ['33.243681', '2.205237', '3.400000'])]), OrderedDict([('Coordinate', ['33.243681', '0.394968', '3.400000'])]), OrderedDict([('Coordinate', ['33.243681', '0.394968', '0.000000'])]), OrderedDict([('Coordinate', ['33.243681', '2.205237', '0.000000'])])])]))]))])]",
         "SpaceId": "R6",
         "SpaceType": "WCCubicle3",
         "TM46Category": 3,
         "TypeCode": 0,
         "Volume": 5.416325,
         "id": "105_LiveseyExchange_heatpump-normal-fabric, B_00_03_R6_WCCubicle3",
         "index": 11,
         "model": "105_LiveseyExchange_heatpump-normal-fabric"
        },
        {
         "@buildingStoreyIdRef": "STOREY_1",
         "@conditionType": "HeatedAndCooled",
         "@id": "TR000008",
         "@zoneIdRef": "ZONE_2",
         "Area": 2.299042,
         "BlockCode": "B",
         "CADObjectId": "TR000008",
         "Level": 0,
         "Name": "B_00_03_R6_WCBabyChange",
         "ShellGeometry": "OrderedDict([('@id', 'TR000008-shellgeometry'), ('ClosedShell', OrderedDict([('PolyLoop', [OrderedDict([('CartesianPoint', [OrderedDict([('Coordinate', ['34.163681', '0.394968', '0.000000'])]), OrderedDict([('Coordinate', ['35.433681', '0.394968', '0.000000'])]), OrderedDict([('Coordinate', ['35.433681', '0.394968', '3.400000'])]), OrderedDict([('Coordinate', ['34.163681', '0.394968', '3.400000'])])])]), OrderedDict([('CartesianPoint', [OrderedDict([('Coordinate', ['35.433681', '0.394968', '0.000000'])]), OrderedDict([('Coordinate', ['34.163681', '0.394968', '0.000000'])]), OrderedDict([('Coordinate', ['34.163681', '2.205237', '0.000000'])]), OrderedDict([('Coordinate', ['35.433681', '2.205237', '0.000000'])])])]), OrderedDict([('CartesianPoint', [OrderedDict([('Coordinate', ['35.433681', '2.205237', '3.400000'])]), OrderedDict([('Coordinate', ['34.163681', '2.205237', '3.400000'])]), OrderedDict([('Coordinate', ['34.163681', '0.394968', '3.400000'])]), OrderedDict([('Coordinate', ['35.433681', '0.394968', '3.400000'])])])]), OrderedDict([('CartesianPoint', [OrderedDict([('Coordinate', ['35.433681', '2.205237', '0.000000'])]), OrderedDict([('Coordinate', ['34.163681', '2.205237', '0.000000'])]), OrderedDict([('Coordinate', ['34.163681', '2.205237', '3.400000'])]), OrderedDict([('Coordinate', ['35.433681', '2.205237', '3.400000'])])])]), OrderedDict([('CartesianPoint', [OrderedDict([('Coordinate', ['35.433681', '0.394968', '0.000000'])]), OrderedDict([('Coordinate', ['35.433681', '2.205237', '0.000000'])]), OrderedDict([('Coordinate', ['35.433681', '2.205237', '3.400000'])]), OrderedDict([('Coordinate', ['35.433681', '0.394968', '3.400000'])])])]), OrderedDict([('CartesianPoint', [OrderedDict([('Coordinate', ['34.163681', '2.205237', '0.000000'])]), OrderedDict([('Coordinate', ['34.163681', '0.394968', '0.000000'])]), OrderedDict([('Coordinate', ['34.163681', '0.394968', '3.400000'])]), OrderedDict([('Coordinate', ['34.163681', '2.205237', '3.400000'])])])])])]))])",
         "SpaceBoundary": "[OrderedDict([('@isSecondLevelBoundary', 'true'), ('@surfaceIdRef', 'surface-56'), ('PlanarGeometry', OrderedDict([('PolyLoop', OrderedDict([('CartesianPoint', [OrderedDict([('Coordinate', ['35.433681', '2.205237', '-0.000000'])]), OrderedDict([('Coordinate', ['34.163681', '2.205237', '-0.000000'])]), OrderedDict([('Coordinate', ['34.163681', '2.205237', '3.400000'])]), OrderedDict([('Coordinate', ['35.433681', '2.205237', '3.400000'])])])]))]))]), OrderedDict([('@isSecondLevelBoundary', 'true'), ('@surfaceIdRef', 'surface-64'), ('PlanarGeometry', OrderedDict([('PolyLoop', OrderedDict([('CartesianPoint', [OrderedDict([('Coordinate', ['35.433681', '0.394968', '-0.000000'])]), OrderedDict([('Coordinate', ['35.433681', '2.205237', '-0.000000'])]), OrderedDict([('Coordinate', ['35.433681', '2.205237', '3.400000'])]), OrderedDict([('Coordinate', ['35.433681', '0.394968', '3.400000'])])])]))]))]), OrderedDict([('@isSecondLevelBoundary', 'true'), ('@surfaceIdRef', 'surface-81'), ('PlanarGeometry', OrderedDict([('PolyLoop', OrderedDict([('CartesianPoint', [OrderedDict([('Coordinate', ['34.163681', '0.394968', '0.000000'])]), OrderedDict([('Coordinate', ['35.433681', '0.394968', '0.000000'])]), OrderedDict([('Coordinate', ['35.433681', '0.394968', '3.400000'])]), OrderedDict([('Coordinate', ['34.163681', '0.394968', '3.400000'])])])]))]))]), OrderedDict([('@isSecondLevelBoundary', 'true'), ('@surfaceIdRef', 'surface-82'), ('PlanarGeometry', OrderedDict([('PolyLoop', OrderedDict([('CartesianPoint', [OrderedDict([('Coordinate', ['35.433681', '0.394968', '0.000000'])]), OrderedDict([('Coordinate', ['34.163681', '0.394968', '0.000000'])]), OrderedDict([('Coordinate', ['34.163681', '2.205237', '0.000000'])]), OrderedDict([('Coordinate', ['35.433681', '2.205237', '0.000000'])])])]))]))]), OrderedDict([('@isSecondLevelBoundary', 'true'), ('@surfaceIdRef', 'surface-83'), ('PlanarGeometry', OrderedDict([('PolyLoop', OrderedDict([('CartesianPoint', [OrderedDict([('Coordinate', ['35.433681', '2.205237', '3.400000'])]), OrderedDict([('Coordinate', ['34.163681', '2.205237', '3.400000'])]), OrderedDict([('Coordinate', ['34.163681', '0.394968', '3.400000'])]), OrderedDict([('Coordinate', ['35.433681', '0.394968', '3.400000'])])])]))]))]), OrderedDict([('@isSecondLevelBoundary', 'true'), ('@surfaceIdRef', 'surface-84'), ('PlanarGeometry', OrderedDict([('PolyLoop', OrderedDict([('CartesianPoint', [OrderedDict([('Coordinate', ['34.163681', '0.394968', '3.400000'])]), OrderedDict([('Coordinate', ['34.163681', '2.205237', '3.400000'])]), OrderedDict([('Coordinate', ['34.163681', '2.205237', '-0.000000'])]), OrderedDict([('Coordinate', ['34.163681', '0.394968', '-0.000000'])])])]))]))])]",
         "SpaceId": "R6",
         "SpaceType": "WCBabyChange",
         "TM46Category": 3,
         "TypeCode": 0,
         "Volume": 7.816742,
         "id": "105_LiveseyExchange_heatpump-normal-fabric, B_00_03_R6_WCBabyChange",
         "index": 12,
         "model": "105_LiveseyExchange_heatpump-normal-fabric"
        },
        {
         "@buildingStoreyIdRef": "STOREY_1",
         "@conditionType": "HeatedAndCooled",
         "@id": "TR00000E",
         "@zoneIdRef": "ZONE_2",
         "Area": 1.665447,
         "BlockCode": "B",
         "CADObjectId": "TR00000E",
         "Level": 0,
         "Name": "B_00_03_R6_WCCubicle4",
         "ShellGeometry": "OrderedDict([('@id', 'TR00000E-shellgeometry'), ('ClosedShell', OrderedDict([('PolyLoop', [OrderedDict([('CartesianPoint', [OrderedDict([('Coordinate', ['33.243681', '0.394968', '0.000000'])]), OrderedDict([('Coordinate', ['34.163681', '0.394968', '0.000000'])]), OrderedDict([('Coordinate', ['34.163681', '0.394968', '3.400000'])]), OrderedDict([('Coordinate', ['33.243681', '0.394968', '3.400000'])])])]), OrderedDict([('CartesianPoint', [OrderedDict([('Coordinate', ['34.163681', '0.394968', '0.000000'])]), OrderedDict([('Coordinate', ['33.243681', '0.394968', '0.000000'])]), OrderedDict([('Coordinate', ['33.243681', '2.205237', '0.000000'])]), OrderedDict([('Coordinate', ['34.163681', '2.205237', '0.000000'])])])]), OrderedDict([('CartesianPoint', [OrderedDict([('Coordinate', ['34.163681', '2.205237', '3.400000'])]), OrderedDict([('Coordinate', ['33.243681', '2.205237', '3.400000'])]), OrderedDict([('Coordinate', ['33.243681', '0.394968', '3.400000'])]), OrderedDict([('Coordinate', ['34.163681', '0.394968', '3.400000'])])])]), OrderedDict([('CartesianPoint', [OrderedDict([('Coordinate', ['34.163681', '2.205237', '0.000000'])]), OrderedDict([('Coordinate', ['33.243681', '2.205237', '0.000000'])]), OrderedDict([('Coordinate', ['33.243681', '2.205237', '3.400000'])]), OrderedDict([('Coordinate', ['34.163681', '2.205237', '3.400000'])])])]), OrderedDict([('CartesianPoint', [OrderedDict([('Coordinate', ['33.243681', '2.205237', '0.000000'])]), OrderedDict([('Coordinate', ['33.243681', '0.394968', '0.000000'])]), OrderedDict([('Coordinate', ['33.243681', '0.394968', '3.400000'])]), OrderedDict([('Coordinate', ['33.243681', '2.205237', '3.400000'])])])]), OrderedDict([('CartesianPoint', [OrderedDict([('Coordinate', ['34.163681', '2.205237', '3.400000'])]), OrderedDict([('Coordinate', ['34.163681', '0.394968', '3.400000'])]), OrderedDict([('Coordinate', ['34.163681', '0.394968', '0.000000'])]), OrderedDict([('Coordinate', ['34.163681', '2.205237', '0.000000'])])])])])]))])",
         "SpaceBoundary": "[OrderedDict([('@isSecondLevelBoundary', 'true'), ('@surfaceIdRef', 'surface-57'), ('PlanarGeometry', OrderedDict([('PolyLoop', OrderedDict([('CartesianPoint', [OrderedDict([('Coordinate', ['34.163681', '2.205237', '-0.000000'])]), OrderedDict([('Coordinate', ['33.243681', '2.205237', '-0.000000'])]), OrderedDict([('Coordinate', ['33.243681', '2.205237', '3.400000'])]), OrderedDict([('Coordinate', ['34.163681', '2.205237', '3.400000'])])])]))]))]), OrderedDict([('@isSecondLevelBoundary', 'true'), ('@surfaceIdRef', 'surface-80'), ('PlanarGeometry', OrderedDict([('PolyLoop', OrderedDict([('CartesianPoint', [OrderedDict([('Coordinate', ['33.243681', '2.205237', '0.000000'])]), OrderedDict([('Coordinate', ['33.243681', '0.394968', '0.000000'])]), OrderedDict([('Coordinate', ['33.243681', '0.394968', '3.400000'])]), OrderedDict([('Coordinate', ['33.243681', '2.205237', '3.400000'])])])]))]))]), OrderedDict([('@isSecondLevelBoundary', 'true'), ('@surfaceIdRef', 'surface-84'), ('PlanarGeometry', OrderedDict([('PolyLoop', OrderedDict([('CartesianPoint', [OrderedDict([('Coordinate', ['34.163681', '0.394968', '-0.000000'])]), OrderedDict([('Coordinate', ['34.163681', '2.205237', '-0.000000'])]), OrderedDict([('Coordinate', ['34.163681', '2.205237', '3.400000'])]), OrderedDict([('Coordinate', ['34.163681', '0.394968', '3.400000'])])])]))]))]), OrderedDict([('@isSecondLevelBoundary', 'true'), ('@surfaceIdRef', 'surface-85'), ('PlanarGeometry', OrderedDict([('PolyLoop', OrderedDict([('CartesianPoint', [OrderedDict([('Coordinate', ['33.243681', '0.394968', '0.000000'])]), OrderedDict([('Coordinate', ['34.163681', '0.394968', '0.000000'])]), OrderedDict([('Coordinate', ['34.163681', '0.394968', '3.400000'])]), OrderedDict([('Coordinate', ['33.243681', '0.394968', '3.400000'])])])]))]))]), OrderedDict([('@isSecondLevelBoundary', 'true'), ('@surfaceIdRef', 'surface-86'), ('PlanarGeometry', OrderedDict([('PolyLoop', OrderedDict([('CartesianPoint', [OrderedDict([('Coordinate', ['34.163681', '0.394968', '0.000000'])]), OrderedDict([('Coordinate', ['33.243681', '0.394968', '0.000000'])]), OrderedDict([('Coordinate', ['33.243681', '2.205237', '0.000000'])]), OrderedDict([('Coordinate', ['34.163681', '2.205237', '0.000000'])])])]))]))]), OrderedDict([('@isSecondLevelBoundary', 'true'), ('@surfaceIdRef', 'surface-87'), ('PlanarGeometry', OrderedDict([('PolyLoop', OrderedDict([('CartesianPoint', [OrderedDict([('Coordinate', ['33.715237', '2.205237', '3.400000'])]), OrderedDict([('Coordinate', ['33.243681', '2.205237', '3.400000'])]), OrderedDict([('Coordinate', ['33.243681', '1.670000', '3.400000'])]), OrderedDict([('Coordinate', ['33.715237', '1.670000', '3.400000'])])])]))]))]), OrderedDict([('@isSecondLevelBoundary', 'true'), ('@surfaceIdRef', 'surface-88'), ('PlanarGeometry', OrderedDict([('PolyLoop', OrderedDict([('CartesianPoint', [OrderedDict([('Coordinate', ['34.163681', '2.205237', '3.400000'])]), OrderedDict([('Coordinate', ['33.715237', '2.205237', '3.400000'])]), OrderedDict([('Coordinate', ['33.715237', '1.670000', '3.400000'])]), OrderedDict([('Coordinate', ['33.243681', '1.670000', '3.400000'])]), OrderedDict([('Coordinate', ['33.243681', '0.394968', '3.400000'])]), OrderedDict([('Coordinate', ['34.163681', '0.394968', '3.400000'])])])]))]))])]",
         "SpaceId": "R6",
         "SpaceType": "WCCubicle4",
         "TM46Category": 3,
         "TypeCode": 0,
         "Volume": 5.662521,
         "id": "105_LiveseyExchange_heatpump-normal-fabric, B_00_03_R6_WCCubicle4",
         "index": 13,
         "model": "105_LiveseyExchange_heatpump-normal-fabric"
        },
        {
         "@buildingStoreyIdRef": "STOREY_1",
         "@conditionType": "HeatedAndCooled",
         "@id": "TR000007",
         "@zoneIdRef": "ZONE_2",
         "Area": 7.4862,
         "BlockCode": "B",
         "CADObjectId": "TR000007",
         "Level": 1,
         "Name": "B_01_04_R14_Store",
         "ShellGeometry": "OrderedDict([('@id', 'TR000007-shellgeometry'), ('ClosedShell', OrderedDict([('PolyLoop', [OrderedDict([('CartesianPoint', [OrderedDict([('Coordinate', ['33.715237', '1.670000', '3.400000'])]), OrderedDict([('Coordinate', ['32.815237', '1.670000', '3.400000'])]), OrderedDict([('Coordinate', ['30.455237', '1.680000', '3.400000'])]), OrderedDict([('Coordinate', ['30.455237', '3.970000', '3.400000'])]), OrderedDict([('Coordinate', ['33.715237', '3.970000', '3.400000'])])])]), OrderedDict([('CartesianPoint', [OrderedDict([('Coordinate', ['33.715237', '3.970000', '6.800000'])]), OrderedDict([('Coordinate', ['30.455237', '3.970000', '6.800000'])]), OrderedDict([('Coordinate', ['30.455237', '1.680000', '6.800000'])]), OrderedDict([('Coordinate', ['32.815237', '1.670000', '6.800000'])]), OrderedDict([('Coordinate', ['33.715237', '1.670000', '6.800000'])])])]), OrderedDict([('CartesianPoint', [OrderedDict([('Coordinate', ['33.715237', '3.970000', '3.400000'])]), OrderedDict([('Coordinate', ['30.455237', '3.970000', '3.400000'])]), OrderedDict([('Coordinate', ['30.455237', '3.970000', '6.800000'])]), OrderedDict([('Coordinate', ['33.715237', '3.970000', '6.800000'])])])]), OrderedDict([('CartesianPoint', [OrderedDict([('Coordinate', ['30.455237', '1.680000', '3.400000'])]), OrderedDict([('Coordinate', ['32.815237', '1.670000', '3.400000'])]), OrderedDict([('Coordinate', ['32.815237', '1.670000', '6.800000'])]), OrderedDict([('Coordinate', ['30.455237', '1.680000', '6.800000'])])])]), OrderedDict([('CartesianPoint', [OrderedDict([('Coordinate', ['30.455237', '3.970000', '3.400000'])]), OrderedDict([('Coordinate', ['30.455237', '1.680000', '3.400000'])]), OrderedDict([('Coordinate', ['30.455237', '1.680000', '6.800000'])]), OrderedDict([('Coordinate', ['30.455237', '3.970000', '6.800000'])])])]), OrderedDict([('CartesianPoint', [OrderedDict([('Coordinate', ['33.715237', '1.670000', '3.400000'])]), OrderedDict([('Coordinate', ['33.715237', '3.970000', '3.400000'])]), OrderedDict([('Coordinate', ['33.715237', '3.970000', '6.800000'])]), OrderedDict([('Coordinate', ['33.715237', '1.670000', '6.800000'])])])]), OrderedDict([('CartesianPoint', [OrderedDict([('Coordinate', ['32.815237', '1.670000', '3.400000'])]), OrderedDict([('Coordinate', ['33.715237', '1.670000', '3.400000'])]), OrderedDict([('Coordinate', ['33.715237', '1.670000', '6.800000'])]), OrderedDict([('Coordinate', ['32.815237', '1.670000', '6.800000'])])])])])]))])",
         "SpaceBoundary": "[OrderedDict([('@isSecondLevelBoundary', 'true'), ('@surfaceIdRef', 'surface-8'), ('PlanarGeometry', OrderedDict([('PolyLoop', OrderedDict([('CartesianPoint', [OrderedDict([('Coordinate', ['33.715237', '3.969988', '3.400000'])]), OrderedDict([('Coordinate', ['30.455237', '3.969988', '3.400000'])]), OrderedDict([('Coordinate', ['30.455237', '3.970000', '3.400000'])]), OrderedDict([('Coordinate', ['33.715237', '3.970000', '3.400000'])])])]))]))]), OrderedDict([('@isSecondLevelBoundary', 'true'), ('@surfaceIdRef', 'surface-23'), ('PlanarGeometry', OrderedDict([('PolyLoop', OrderedDict([('CartesianPoint', [OrderedDict([('Coordinate', ['30.493681', '1.679837', '3.400000'])]), OrderedDict([('Coordinate', ['30.455237', '1.680000', '3.400000'])]), OrderedDict([('Coordinate', ['30.455237', '2.205237', '3.400000'])]), OrderedDict([('Coordinate', ['30.493681', '2.205237', '3.400000'])])])]))]))]), OrderedDict([('@isSecondLevelBoundary', 'true'), ('@surfaceIdRef', 'surface-50'), ('PlanarGeometry', OrderedDict([('PolyLoop', OrderedDict([('CartesianPoint', [OrderedDict([('Coordinate', ['33.715237', '2.205237', '3.400000'])]), OrderedDict([('Coordinate', ['30.493681', '2.205237', '3.400000'])]), OrderedDict([('Coordinate', ['30.493681', '3.969988', '3.400000'])]), OrderedDict([('Coordinate', ['33.715237', '3.969988', '3.400000'])])])]))]))]), OrderedDict([('@isSecondLevelBoundary', 'true'), ('@surfaceIdRef', 'surface-67'), ('PlanarGeometry', OrderedDict([('PolyLoop', OrderedDict([('CartesianPoint', [OrderedDict([('Coordinate', ['31.483681', '1.675642', '3.400000'])]), OrderedDict([('Coordinate', ['30.493681', '1.679837', '3.400000'])]), OrderedDict([('Coordinate', ['30.493681', '2.205237', '3.400000'])]), OrderedDict([('Coordinate', ['31.483681', '2.205237', '3.400000'])])])]))]))]), OrderedDict([('@isSecondLevelBoundary', 'true'), ('@surfaceIdRef', 'surface-72'), ('PlanarGeometry', OrderedDict([('PolyLoop', OrderedDict([('CartesianPoint', [OrderedDict([('Coordinate', ['32.363681', '1.671913', '3.400000'])]), OrderedDict([('Coordinate', ['31.483681', '1.675642', '3.400000'])]), OrderedDict([('Coordinate', ['31.483681', '2.205237', '3.400000'])]), OrderedDict([('Coordinate', ['32.363681', '2.205237', '3.400000'])])])]))]))]), OrderedDict([('@isSecondLevelBoundary', 'true'), ('@surfaceIdRef', 'surface-77'), ('PlanarGeometry', OrderedDict([('PolyLoop', OrderedDict([('CartesianPoint', [OrderedDict([('Coordinate', ['33.243681', '1.670000', '3.400000'])]), OrderedDict([('Coordinate', ['32.815237', '1.670000', '3.400000'])]), OrderedDict([('Coordinate', ['32.363681', '1.671913', '3.400000'])]), OrderedDict([('Coordinate', ['32.363681', '2.205237', '3.400000'])]), OrderedDict([('Coordinate', ['33.243681', '2.205237', '3.400000'])])])]))]))]), OrderedDict([('@isSecondLevelBoundary', 'true'), ('@surfaceIdRef', 'surface-87'), ('PlanarGeometry', OrderedDict([('PolyLoop', OrderedDict([('CartesianPoint', [OrderedDict([('Coordinate', ['33.715237', '1.670000', '3.400000'])]), OrderedDict([('Coordinate', ['33.243681', '1.670000', '3.400000'])]), OrderedDict([('Coordinate', ['33.243681', '2.205237', '3.400000'])]), OrderedDict([('Coordinate', ['33.715237', '2.205237', '3.400000'])])])]))]))]), OrderedDict([('@isSecondLevelBoundary', 'true'), ('@surfaceIdRef', 'surface-89'), ('PlanarGeometry', OrderedDict([('PolyLoop', OrderedDict([('CartesianPoint', [OrderedDict([('Coordinate', ['30.493681', '3.969988', '3.400000'])]), OrderedDict([('Coordinate', ['30.493681', '2.205237', '3.400000'])]), OrderedDict([('Coordinate', ['30.455237', '2.205237', '3.400000'])]), OrderedDict([('Coordinate', ['30.455237', '3.970000', '3.400000'])])])]))]))]), OrderedDict([('@isSecondLevelBoundary', 'true'), ('@surfaceIdRef', 'surface-90'), ('PlanarGeometry', OrderedDict([('PolyLoop', OrderedDict([('CartesianPoint', [OrderedDict([('Coordinate', ['33.715237', '3.970000', '6.800000'])]), OrderedDict([('Coordinate', ['30.455237', '3.970000', '6.800000'])]), OrderedDict([('Coordinate', ['30.455237', '1.680000', '6.800000'])]), OrderedDict([('Coordinate', ['32.815237', '1.670000', '6.800000'])]), OrderedDict([('Coordinate', ['33.715237', '1.670000', '6.800000'])])])]))]))]), OrderedDict([('@isSecondLevelBoundary', 'true'), ('@surfaceIdRef', 'surface-91'), ('PlanarGeometry', OrderedDict([('PolyLoop', OrderedDict([('CartesianPoint', [OrderedDict([('Coordinate', ['30.455237', '3.970000', '6.800000'])]), OrderedDict([('Coordinate', ['33.715237', '3.970000', '6.800000'])]), OrderedDict([('Coordinate', ['33.715237', '3.970000', '3.400000'])]), OrderedDict([('Coordinate', ['30.455237', '3.970000', '3.400000'])])])]))]))]), OrderedDict([('@isSecondLevelBoundary', 'true'), ('@surfaceIdRef', 'surface-92'), ('PlanarGeometry', OrderedDict([('PolyLoop', OrderedDict([('CartesianPoint', [OrderedDict([('Coordinate', ['32.815237', '1.670000', '6.800000'])]), OrderedDict([('Coordinate', ['30.455237', '1.680000', '6.800000'])]), OrderedDict([('Coordinate', ['30.455237', '1.680000', '3.400000'])]), OrderedDict([('Coordinate', ['32.815237', '1.670000', '3.400000'])])])]))]))]), OrderedDict([('@isSecondLevelBoundary', 'true'), ('@surfaceIdRef', 'surface-93'), ('PlanarGeometry', OrderedDict([('PolyLoop', OrderedDict([('CartesianPoint', [OrderedDict([('Coordinate', ['30.455237', '1.680000', '6.800000'])]), OrderedDict([('Coordinate', ['30.455237', '3.970000', '6.800000'])]), OrderedDict([('Coordinate', ['30.455237', '3.970000', '3.400000'])]), OrderedDict([('Coordinate', ['30.455237', '1.680000', '3.400000'])])])]))]))]), OrderedDict([('@isSecondLevelBoundary', 'true'), ('@surfaceIdRef', 'surface-94'), ('PlanarGeometry', OrderedDict([('PolyLoop', OrderedDict([('CartesianPoint', [OrderedDict([('Coordinate', ['33.715237', '3.970000', '6.800000'])]), OrderedDict([('Coordinate', ['33.715237', '3.428000', '6.800000'])]), OrderedDict([('Coordinate', ['33.715237', '3.428000', '3.400000'])]), OrderedDict([('Coordinate', ['33.715237', '3.970000', '3.400000'])])])]))]))]), OrderedDict([('@isSecondLevelBoundary', 'true'), ('@surfaceIdRef', 'surface-95'), ('PlanarGeometry', OrderedDict([('PolyLoop', OrderedDict([('CartesianPoint', [OrderedDict([('Coordinate', ['33.715237', '3.428000', '6.800000'])]), OrderedDict([('Coordinate', ['33.715237', '1.670000', '6.800000'])]), OrderedDict([('Coordinate', ['33.715237', '1.670000', '3.400000'])]), OrderedDict([('Coordinate', ['33.715237', '3.428000', '3.400000'])])])]))]))]), OrderedDict([('@isSecondLevelBoundary', 'true'), ('@surfaceIdRef', 'surface-96'), ('PlanarGeometry', OrderedDict([('PolyLoop', OrderedDict([('CartesianPoint', [OrderedDict([('Coordinate', ['33.715237', '1.670000', '6.800000'])]), OrderedDict([('Coordinate', ['32.815237', '1.670000', '6.800000'])]), OrderedDict([('Coordinate', ['32.815237', '1.670000', '3.400000'])]), OrderedDict([('Coordinate', ['33.715237', '1.670000', '3.400000'])])])]))]))])]",
         "SpaceId": "R14",
         "SpaceType": "Store",
         "TM46Category": 4,
         "TypeCode": 0,
         "Volume": 25.45308,
         "id": "105_LiveseyExchange_heatpump-normal-fabric, B_01_04_R14_Store",
         "index": 14,
         "model": "105_LiveseyExchange_heatpump-normal-fabric"
        },
        {
         "@buildingStoreyIdRef": "STOREY_1",
         "@conditionType": "HeatedAndCooled",
         "@id": "TR000011",
         "@zoneIdRef": "ZONE_2",
         "Area": 46.896719,
         "BlockCode": "B",
         "CADObjectId": "TR000011",
         "Level": 1,
         "Name": "B_01_02_R15_WorkRoom2",
         "ShellGeometry": "OrderedDict([('@id', 'TR000011-shellgeometry'), ('ClosedShell', OrderedDict([('PolyLoop', [OrderedDict([('CartesianPoint', [OrderedDict([('Coordinate', ['36.968681', '3.970000', '3.400000'])]), OrderedDict([('Coordinate', ['36.968681', '11.169988', '3.400000'])]), OrderedDict([('Coordinate', ['36.968681', '11.169988', '6.800000'])]), OrderedDict([('Coordinate', ['36.968681', '3.970000', '6.800000'])])])]), OrderedDict([('CartesianPoint', [OrderedDict([('Coordinate', ['36.968681', '11.169988', '3.400000'])]), OrderedDict([('Coordinate', ['30.455237', '11.169988', '3.400000'])]), OrderedDict([('Coordinate', ['30.455237', '11.169988', '6.800000'])]), OrderedDict([('Coordinate', ['36.968681', '11.169988', '6.800000'])])])]), OrderedDict([('CartesianPoint', [OrderedDict([('Coordinate', ['36.968681', '3.970000', '3.400000'])]), OrderedDict([('Coordinate', ['30.455237', '3.970000', '3.400000'])]), OrderedDict([('Coordinate', ['30.455237', '11.169988', '3.400000'])]), OrderedDict([('Coordinate', ['36.968681', '11.169988', '3.400000'])])])]), OrderedDict([('CartesianPoint', [OrderedDict([('Coordinate', ['36.968681', '11.169988', '6.800000'])]), OrderedDict([('Coordinate', ['30.455237', '11.169988', '6.800000'])]), OrderedDict([('Coordinate', ['30.455237', '3.970000', '6.800000'])]), OrderedDict([('Coordinate', ['36.968681', '3.970000', '6.800000'])])])]), OrderedDict([('CartesianPoint', [OrderedDict([('Coordinate', ['30.455237', '3.970000', '3.400000'])]), OrderedDict([('Coordinate', ['36.968681', '3.970000', '3.400000'])]), OrderedDict([('Coordinate', ['36.968681', '3.970000', '6.800000'])]), OrderedDict([('Coordinate', ['30.455237', '3.970000', '6.800000'])])])]), OrderedDict([('CartesianPoint', [OrderedDict([('Coordinate', ['30.455237', '3.970000', '6.800000'])]), OrderedDict([('Coordinate', ['30.455237', '11.169988', '6.800000'])]), OrderedDict([('Coordinate', ['30.455237', '11.169988', '3.400000'])]), OrderedDict([('Coordinate', ['30.455237', '3.970000', '3.400000'])])])])])]))])",
         "SpaceBoundary": "[OrderedDict([('@isSecondLevelBoundary', 'true'), ('@surfaceIdRef', 'surface-9'), ('PlanarGeometry', OrderedDict([('PolyLoop', OrderedDict([('CartesianPoint', [OrderedDict([('Coordinate', ['36.968681', '3.970000', '3.400000'])]), OrderedDict([('Coordinate', ['30.455237', '3.970000', '3.400000'])]), OrderedDict([('Coordinate', ['30.455237', '11.169988', '3.400000'])]), OrderedDict([('Coordinate', ['36.968681', '11.169988', '3.400000'])])])]))]))]), OrderedDict([('@isSecondLevelBoundary', 'true'), ('@surfaceIdRef', 'surface-20'), ('PlanarGeometry', OrderedDict([('PolyLoop', OrderedDict([('CartesianPoint', [OrderedDict([('Coordinate', ['36.968681', '11.169988', '3.400000'])]), OrderedDict([('Coordinate', ['30.455237', '11.169988', '3.400000'])]), OrderedDict([('Coordinate', ['30.455237', '11.169988', '6.800000'])]), OrderedDict([('Coordinate', ['36.968681', '11.169988', '6.800000'])])])]))]))]), OrderedDict([('@isSecondLevelBoundary', 'true'), ('@surfaceIdRef', 'surface-91'), ('PlanarGeometry', OrderedDict([('PolyLoop', OrderedDict([('CartesianPoint', [OrderedDict([('Coordinate', ['30.455237', '3.970000', '3.400000'])]), OrderedDict([('Coordinate', ['33.715237', '3.970000', '3.400000'])]), OrderedDict([('Coordinate', ['33.715237', '3.970000', '6.800000'])]), OrderedDict([('Coordinate', ['30.455237', '3.970000', '6.800000'])])])]))]))]), OrderedDict([('@isSecondLevelBoundary', 'true'), ('@surfaceIdRef', 'surface-97'), ('PlanarGeometry', OrderedDict([('PolyLoop', OrderedDict([('CartesianPoint', [OrderedDict([('Coordinate', ['36.968681', '3.970000', '3.400000'])]), OrderedDict([('Coordinate', ['36.968681', '11.169988', '3.400000'])]), OrderedDict([('Coordinate', ['36.968681', '11.169988', '6.800000'])]), OrderedDict([('Coordinate', ['36.968681', '3.970000', '6.800000'])])])]))]))]), OrderedDict([('@isSecondLevelBoundary', 'true'), ('@surfaceIdRef', 'surface-98'), ('PlanarGeometry', OrderedDict([('PolyLoop', OrderedDict([('CartesianPoint', [OrderedDict([('Coordinate', ['36.968681', '11.169988', '6.800000'])]), OrderedDict([('Coordinate', ['30.455237', '11.169988', '6.800000'])]), OrderedDict([('Coordinate', ['30.455237', '3.970000', '6.800000'])]), OrderedDict([('Coordinate', ['36.968681', '3.970000', '6.800000'])])])]))]))]), OrderedDict([('@isSecondLevelBoundary', 'true'), ('@surfaceIdRef', 'surface-99'), ('PlanarGeometry', OrderedDict([('PolyLoop', OrderedDict([('CartesianPoint', [OrderedDict([('Coordinate', ['36.968681', '3.970000', '6.800000'])]), OrderedDict([('Coordinate', ['33.715237', '3.970000', '6.800000'])]), OrderedDict([('Coordinate', ['33.715237', '3.970000', '3.400000'])]), OrderedDict([('Coordinate', ['36.968681', '3.970000', '3.400000'])])])]))]))]), OrderedDict([('@isSecondLevelBoundary', 'true'), ('@surfaceIdRef', 'surface-100'), ('PlanarGeometry', OrderedDict([('PolyLoop', OrderedDict([('CartesianPoint', [OrderedDict([('Coordinate', ['30.455237', '3.970000', '6.800000'])]), OrderedDict([('Coordinate', ['30.455237', '11.169988', '6.800000'])]), OrderedDict([('Coordinate', ['30.455237', '11.169988', '3.400000'])]), OrderedDict([('Coordinate', ['30.455237', '3.970000', '3.400000'])])])]))]))])]",
         "SpaceId": "R15",
         "SpaceType": "WorkRoom2",
         "TM46Category": 2,
         "TypeCode": 0,
         "Volume": 159.448843,
         "id": "105_LiveseyExchange_heatpump-normal-fabric, B_01_02_R15_WorkRoom2",
         "index": 15,
         "model": "105_LiveseyExchange_heatpump-normal-fabric"
        },
        {
         "@buildingStoreyIdRef": "STOREY_1",
         "@conditionType": "HeatedAndCooled",
         "@id": "TR000012",
         "@zoneIdRef": "ZONE_2",
         "Area": 16.620753,
         "BlockCode": "B",
         "CADObjectId": "TR000012",
         "Level": 1,
         "Name": "B_01_05_R12_Corridor",
         "ShellGeometry": "OrderedDict([('@id', 'TR000012-shellgeometry'), ('ClosedShell', OrderedDict([('PolyLoop', [OrderedDict([('CartesianPoint', [OrderedDict([('Coordinate', ['30.455237', '11.169988', '3.400000'])]), OrderedDict([('Coordinate', ['29.193419', '11.169988', '3.400000'])]), OrderedDict([('Coordinate', ['29.193419', '11.169988', '6.800000'])]), OrderedDict([('Coordinate', ['30.455237', '11.169988', '6.800000'])])])]), OrderedDict([('CartesianPoint', [OrderedDict([('Coordinate', ['29.193419', '0.394968', '3.400000'])]), OrderedDict([('Coordinate', ['32.821140', '0.394968', '3.400000'])]), OrderedDict([('Coordinate', ['32.821140', '0.394968', '6.800000'])]), OrderedDict([('Coordinate', ['29.193419', '0.394968', '6.800000'])])])]), OrderedDict([('CartesianPoint', [OrderedDict([('Coordinate', ['32.815237', '1.670000', '6.800000'])]), OrderedDict([('Coordinate', ['32.821140', '0.394968', '6.800000'])]), OrderedDict([('Coordinate', ['32.821140', '0.394968', '3.400000'])]), OrderedDict([('Coordinate', ['32.815237', '1.670000', '3.400000'])])])]), OrderedDict([('CartesianPoint', [OrderedDict([('Coordinate', ['30.455237', '1.680000', '6.800000'])]), OrderedDict([('Coordinate', ['32.815237', '1.670000', '6.800000'])]), OrderedDict([('Coordinate', ['32.815237', '1.670000', '3.400000'])]), OrderedDict([('Coordinate', ['30.455237', '1.680000', '3.400000'])])])]), OrderedDict([('CartesianPoint', [OrderedDict([('Coordinate', ['29.193419', '11.169988', '3.400000'])]), OrderedDict([('Coordinate', ['29.193419', '0.394968', '3.400000'])]), OrderedDict([('Coordinate', ['29.193419', '0.394968', '6.800000'])]), OrderedDict([('Coordinate', ['29.193419', '11.169988', '6.800000'])])])]), OrderedDict([('CartesianPoint', [OrderedDict([('Coordinate', ['30.455237', '1.680000', '3.400000'])]), OrderedDict([('Coordinate', ['32.815237', '1.670000', '3.400000'])]), OrderedDict([('Coordinate', ['32.821140', '0.394968', '3.400000'])]), OrderedDict([('Coordinate', ['29.193419', '0.394968', '3.400000'])]), OrderedDict([('Coordinate', ['29.193419', '11.169988', '3.400000'])]), OrderedDict([('Coordinate', ['30.455237', '11.169988', '3.400000'])])])]), OrderedDict([('CartesianPoint', [OrderedDict([('Coordinate', ['29.193419', '0.394968', '6.800000'])]), OrderedDict([('Coordinate', ['32.821140', '0.394968', '6.800000'])]), OrderedDict([('Coordinate', ['32.815237', '1.670000', '6.800000'])]), OrderedDict([('Coordinate', ['30.455237', '1.680000', '6.800000'])]), OrderedDict([('Coordinate', ['30.455237', '11.169988', '6.800000'])]), OrderedDict([('Coordinate', ['29.193419', '11.169988', '6.800000'])])])]), OrderedDict([('CartesianPoint', [OrderedDict([('Coordinate', ['30.455237', '1.680000', '3.400000'])]), OrderedDict([('Coordinate', ['30.455237', '11.169988', '3.400000'])]), OrderedDict([('Coordinate', ['30.455237', '11.169988', '6.800000'])]), OrderedDict([('Coordinate', ['30.455237', '1.680000', '6.800000'])])])])])]))])",
         "SpaceBoundary": "[OrderedDict([('@isSecondLevelBoundary', 'true'), ('@surfaceIdRef', 'surface-11'), ('PlanarGeometry', OrderedDict([('PolyLoop', OrderedDict([('CartesianPoint', [OrderedDict([('Coordinate', ['30.455237', '3.969988', '3.400000'])]), OrderedDict([('Coordinate', ['29.193419', '3.969988', '3.400000'])]), OrderedDict([('Coordinate', ['29.193419', '11.169988', '3.400000'])]), OrderedDict([('Coordinate', ['30.455237', '11.169988', '3.400000'])])])]))]))]), OrderedDict([('@isSecondLevelBoundary', 'true'), ('@surfaceIdRef', 'surface-21'), ('PlanarGeometry', OrderedDict([('PolyLoop', OrderedDict([('CartesianPoint', [OrderedDict([('Coordinate', ['30.455237', '11.169988', '3.400000'])]), OrderedDict([('Coordinate', ['29.193419', '11.169988', '3.400000'])]), OrderedDict([('Coordinate', ['29.193419', '11.169988', '6.800000'])]), OrderedDict([('Coordinate', ['30.455237', '11.169988', '6.800000'])])])]))]))]), OrderedDict([('@isSecondLevelBoundary', 'true'), ('@surfaceIdRef', 'surface-24'), ('PlanarGeometry', OrderedDict([('PolyLoop', OrderedDict([('CartesianPoint', [OrderedDict([('Coordinate', ['30.455237', '1.680000', '3.400000'])]), OrderedDict([('Coordinate', ['30.493681', '1.679837', '3.400000'])]), OrderedDict([('Coordinate', ['30.493681', '0.394968', '3.400000'])]), OrderedDict([('Coordinate', ['29.193419', '0.394968', '3.400000'])]), OrderedDict([('Coordinate', ['29.193419', '2.205237', '3.400000'])]), OrderedDict([('Coordinate', ['30.455237', '2.205237', '3.400000'])])])]))]))]), OrderedDict([('@isSecondLevelBoundary', 'true'), ('@surfaceIdRef', 'surface-68'), ('PlanarGeometry', OrderedDict([('PolyLoop', OrderedDict([('CartesianPoint', [OrderedDict([('Coordinate', ['31.483681', '1.675642', '3.400000'])]), OrderedDict([('Coordinate', ['31.483681', '0.394968', '3.400000'])]), OrderedDict([('Coordinate', ['30.493681', '0.394968', '3.400000'])]), OrderedDict([('Coordinate', ['30.493681', '1.679837', '3.400000'])])])]))]))]), OrderedDict([('@isSecondLevelBoundary', 'true'), ('@surfaceIdRef', 'surface-73'), ('PlanarGeometry', OrderedDict([('PolyLoop', OrderedDict([('CartesianPoint', [OrderedDict([('Coordinate', ['32.363681', '1.671913', '3.400000'])]), OrderedDict([('Coordinate', ['32.363681', '0.394968', '3.400000'])]), OrderedDict([('Coordinate', ['31.483681', '0.394968', '3.400000'])]), OrderedDict([('Coordinate', ['31.483681', '1.675642', '3.400000'])])])]))]))]), OrderedDict([('@isSecondLevelBoundary', 'true'), ('@surfaceIdRef', 'surface-79'), ('PlanarGeometry', OrderedDict([('PolyLoop', OrderedDict([('CartesianPoint', [OrderedDict([('Coordinate', ['32.815237', '1.670000', '3.400000'])]), OrderedDict([('Coordinate', ['32.821140', '0.394968', '3.400000'])]), OrderedDict([('Coordinate', ['32.363681', '0.394968', '3.400000'])]), OrderedDict([('Coordinate', ['32.363681', '1.671913', '3.400000'])])])]))]))]), OrderedDict([('@isSecondLevelBoundary', 'true'), ('@surfaceIdRef', 'surface-92'), ('PlanarGeometry', OrderedDict([('PolyLoop', OrderedDict([('CartesianPoint', [OrderedDict([('Coordinate', ['32.815237', '1.670000', '3.400000'])]), OrderedDict([('Coordinate', ['30.455237', '1.680000', '3.400000'])]), OrderedDict([('Coordinate', ['30.455237', '1.680000', '6.800000'])]), OrderedDict([('Coordinate', ['32.815237', '1.670000', '6.800000'])])])]))]))]), OrderedDict([('@isSecondLevelBoundary', 'true'), ('@surfaceIdRef', 'surface-93'), ('PlanarGeometry', OrderedDict([('PolyLoop', OrderedDict([('CartesianPoint', [OrderedDict([('Coordinate', ['30.455237', '1.680000', '3.400000'])]), OrderedDict([('Coordinate', ['30.455237', '3.970000', '3.400000'])]), OrderedDict([('Coordinate', ['30.455237', '3.970000', '6.800000'])]), OrderedDict([('Coordinate', ['30.455237', '1.680000', '6.800000'])])])]))]))]), OrderedDict([('@isSecondLevelBoundary', 'true'), ('@surfaceIdRef', 'surface-100'), ('PlanarGeometry', OrderedDict([('PolyLoop', OrderedDict([('CartesianPoint', [OrderedDict([('Coordinate', ['30.455237', '3.970000', '3.400000'])]), OrderedDict([('Coordinate', ['30.455237', '11.169988', '3.400000'])]), OrderedDict([('Coordinate', ['30.455237', '11.169988', '6.800000'])]), OrderedDict([('Coordinate', ['30.455237', '3.970000', '6.800000'])])])]))]))]), OrderedDict([('@isSecondLevelBoundary', 'true'), ('@surfaceIdRef', 'surface-101'), ('PlanarGeometry', OrderedDict([('PolyLoop', OrderedDict([('CartesianPoint', [OrderedDict([('Coordinate', ['29.193419', '0.394968', '3.400000'])]), OrderedDict([('Coordinate', ['32.821140', '0.394968', '3.400000'])]), OrderedDict([('Coordinate', ['32.821140', '0.394968', '6.800000'])]), OrderedDict([('Coordinate', ['29.193419', '0.394968', '6.800000'])])])]))]))]), OrderedDict([('@isSecondLevelBoundary', 'true'), ('@surfaceIdRef', 'surface-102'), ('PlanarGeometry', OrderedDict([('PolyLoop', OrderedDict([('CartesianPoint', [OrderedDict([('Coordinate', ['32.821140', '0.394968', '3.400000'])]), OrderedDict([('Coordinate', ['32.815237', '1.670000', '3.400000'])]), OrderedDict([('Coordinate', ['32.815237', '1.670000', '6.800000'])]), OrderedDict([('Coordinate', ['32.821140', '0.394968', '6.800000'])])])]))]))]), OrderedDict([('@isSecondLevelBoundary', 'true'), ('@surfaceIdRef', 'surface-103'), ('PlanarGeometry', OrderedDict([('PolyLoop', OrderedDict([('CartesianPoint', [OrderedDict([('Coordinate', ['29.193419', '11.169988', '3.400000'])]), OrderedDict([('Coordinate', ['29.193419', '0.394968', '3.400000'])]), OrderedDict([('Coordinate', ['29.193419', '0.394968', '6.800000'])]), OrderedDict([('Coordinate', ['29.193419', '11.169988', '6.800000'])])])]))]))]), OrderedDict([('@isSecondLevelBoundary', 'true'), ('@surfaceIdRef', 'surface-104'), ('PlanarGeometry', OrderedDict([('PolyLoop', OrderedDict([('CartesianPoint', [OrderedDict([('Coordinate', ['30.455237', '2.205237', '3.400000'])]), OrderedDict([('Coordinate', ['29.193419', '2.205237', '3.400000'])]), OrderedDict([('Coordinate', ['29.193419', '3.969988', '3.400000'])]), OrderedDict([('Coordinate', ['30.455237', '3.969988', '3.400000'])])])]))]))]), OrderedDict([('@isSecondLevelBoundary', 'true'), ('@surfaceIdRef', 'surface-105'), ('PlanarGeometry', OrderedDict([('PolyLoop', OrderedDict([('CartesianPoint', [OrderedDict([('Coordinate', ['29.193419', '0.394968', '6.800000'])]), OrderedDict([('Coordinate', ['32.821140', '0.394968', '6.800000'])]), OrderedDict([('Coordinate', ['32.815237', '1.670000', '6.800000'])]), OrderedDict([('Coordinate', ['30.455237', '1.680000', '6.800000'])]), OrderedDict([('Coordinate', ['30.455237', '11.169988', '6.800000'])]), OrderedDict([('Coordinate', ['29.193419', '11.169988', '6.800000'])])])]))]))])]",
         "SpaceId": "R12",
         "SpaceType": "Corridor",
         "TM46Category": 5,
         "TypeCode": 0,
         "Volume": 56.51056,
         "id": "105_LiveseyExchange_heatpump-normal-fabric, B_01_05_R12_Corridor",
         "index": 16,
         "model": "105_LiveseyExchange_heatpump-normal-fabric"
        },
        {
         "@buildingStoreyIdRef": "STOREY_1",
         "@conditionType": "HeatedAndCooled",
         "@id": "TR000010",
         "@zoneIdRef": "ZONE_2",
         "Area": 1.763367,
         "BlockCode": "B",
         "CADObjectId": "TR000010",
         "Level": 1,
         "Name": "B_01_06_XX_Riser",
         "ShellGeometry": "OrderedDict([('@id', 'TR000010-shellgeometry'), ('ClosedShell', OrderedDict([('PolyLoop', [OrderedDict([('CartesianPoint', [OrderedDict([('Coordinate', ['36.968681', '3.428000', '3.400000'])]), OrderedDict([('Coordinate', ['36.968681', '3.970000', '3.400000'])]), OrderedDict([('Coordinate', ['36.968681', '3.970000', '6.800000'])]), OrderedDict([('Coordinate', ['36.968681', '3.428000', '6.800000'])])])]), OrderedDict([('CartesianPoint', [OrderedDict([('Coordinate', ['36.968681', '3.428000', '3.400000'])]), OrderedDict([('Coordinate', ['33.715237', '3.428000', '3.400000'])]), OrderedDict([('Coordinate', ['33.715237', '3.970000', '3.400000'])]), OrderedDict([('Coordinate', ['36.968681', '3.970000', '3.400000'])])])]), OrderedDict([('CartesianPoint', [OrderedDict([('Coordinate', ['36.968681', '3.970000', '6.800000'])]), OrderedDict([('Coordinate', ['33.715237', '3.970000', '6.800000'])]), OrderedDict([('Coordinate', ['33.715237', '3.428000', '6.800000'])]), OrderedDict([('Coordinate', ['36.968681', '3.428000', '6.800000'])])])]), OrderedDict([('CartesianPoint', [OrderedDict([('Coordinate', ['36.968681', '3.970000', '3.400000'])]), OrderedDict([('Coordinate', ['33.715237', '3.970000', '3.400000'])]), OrderedDict([('Coordinate', ['33.715237', '3.970000', '6.800000'])]), OrderedDict([('Coordinate', ['36.968681', '3.970000', '6.800000'])])])]), OrderedDict([('CartesianPoint', [OrderedDict([('Coordinate', ['33.715237', '3.970000', '3.400000'])]), OrderedDict([('Coordinate', ['33.715237', '3.428000', '3.400000'])]), OrderedDict([('Coordinate', ['33.715237', '3.428000', '6.800000'])]), OrderedDict([('Coordinate', ['33.715237', '3.970000', '6.800000'])])])]), OrderedDict([('CartesianPoint', [OrderedDict([('Coordinate', ['33.715237', '3.428000', '3.400000'])]), OrderedDict([('Coordinate', ['36.968681', '3.428000', '3.400000'])]), OrderedDict([('Coordinate', ['36.968681', '3.428000', '6.800000'])]), OrderedDict([('Coordinate', ['33.715237', '3.428000', '6.800000'])])])])])]))])",
         "SpaceBoundary": "[OrderedDict([('@isSecondLevelBoundary', 'true'), ('@surfaceIdRef', 'surface-10'), ('PlanarGeometry', OrderedDict([('PolyLoop', OrderedDict([('CartesianPoint', [OrderedDict([('Coordinate', ['36.968681', '3.969988', '3.400000'])]), OrderedDict([('Coordinate', ['33.715237', '3.969988', '3.400000'])]), OrderedDict([('Coordinate', ['33.715237', '3.970000', '3.400000'])]), OrderedDict([('Coordinate', ['36.968681', '3.970000', '3.400000'])])])]))]))]), OrderedDict([('@isSecondLevelBoundary', 'true'), ('@surfaceIdRef', 'surface-51'), ('PlanarGeometry', OrderedDict([('PolyLoop', OrderedDict([('CartesianPoint', [OrderedDict([('Coordinate', ['36.968681', '3.428000', '3.400000'])]), OrderedDict([('Coordinate', ['33.715237', '3.428000', '3.400000'])]), OrderedDict([('Coordinate', ['33.715237', '3.969988', '3.400000'])]), OrderedDict([('Coordinate', ['36.968681', '3.969988', '3.400000'])])])]))]))]), OrderedDict([('@isSecondLevelBoundary', 'true'), ('@surfaceIdRef', 'surface-94'), ('PlanarGeometry', OrderedDict([('PolyLoop', OrderedDict([('CartesianPoint', [OrderedDict([('Coordinate', ['33.715237', '3.970000', '3.400000'])]), OrderedDict([('Coordinate', ['33.715237', '3.428000', '3.400000'])]), OrderedDict([('Coordinate', ['33.715237', '3.428000', '6.800000'])]), OrderedDict([('Coordinate', ['33.715237', '3.970000', '6.800000'])])])]))]))]), OrderedDict([('@isSecondLevelBoundary', 'true'), ('@surfaceIdRef', 'surface-99'), ('PlanarGeometry', OrderedDict([('PolyLoop', OrderedDict([('CartesianPoint', [OrderedDict([('Coordinate', ['36.968681', '3.970000', '3.400000'])]), OrderedDict([('Coordinate', ['33.715237', '3.970000', '3.400000'])]), OrderedDict([('Coordinate', ['33.715237', '3.970000', '6.800000'])]), OrderedDict([('Coordinate', ['36.968681', '3.970000', '6.800000'])])])]))]))]), OrderedDict([('@isSecondLevelBoundary', 'true'), ('@surfaceIdRef', 'surface-106'), ('PlanarGeometry', OrderedDict([('PolyLoop', OrderedDict([('CartesianPoint', [OrderedDict([('Coordinate', ['36.968681', '3.428000', '3.400000'])]), OrderedDict([('Coordinate', ['36.968681', '3.970000', '3.400000'])]), OrderedDict([('Coordinate', ['36.968681', '3.970000', '6.800000'])]), OrderedDict([('Coordinate', ['36.968681', '3.428000', '6.800000'])])])]))]))]), OrderedDict([('@isSecondLevelBoundary', 'true'), ('@surfaceIdRef', 'surface-107'), ('PlanarGeometry', OrderedDict([('PolyLoop', OrderedDict([('CartesianPoint', [OrderedDict([('Coordinate', ['36.968681', '3.970000', '6.800000'])]), OrderedDict([('Coordinate', ['33.715237', '3.970000', '6.800000'])]), OrderedDict([('Coordinate', ['33.715237', '3.428000', '6.800000'])]), OrderedDict([('Coordinate', ['36.968681', '3.428000', '6.800000'])])])]))]))]), OrderedDict([('@isSecondLevelBoundary', 'true'), ('@surfaceIdRef', 'surface-108'), ('PlanarGeometry', OrderedDict([('PolyLoop', OrderedDict([('CartesianPoint', [OrderedDict([('Coordinate', ['36.968681', '3.428000', '6.800000'])]), OrderedDict([('Coordinate', ['33.715237', '3.428000', '6.800000'])]), OrderedDict([('Coordinate', ['33.715237', '3.428000', '3.400000'])]), OrderedDict([('Coordinate', ['36.968681', '3.428000', '3.400000'])])])]))]))])]",
         "SpaceId": "XX",
         "SpaceType": "Riser",
         "TM46Category": 6,
         "TypeCode": 0,
         "Volume": 5.995447,
         "id": "105_LiveseyExchange_heatpump-normal-fabric, B_01_06_XX_Riser",
         "index": 17,
         "model": "105_LiveseyExchange_heatpump-normal-fabric"
        },
        {
         "@buildingStoreyIdRef": "STOREY_1",
         "@conditionType": "HeatedAndCooled",
         "@id": "B0000000",
         "@zoneIdRef": "ZONE_2",
         "Area": 11.011565,
         "BlockCode": "B",
         "CADObjectId": "B0000000",
         "Level": 1,
         "Name": "B_01_03_R13_WC/Shower",
         "ShellGeometry": "OrderedDict([('@id', 'B0000000-shellgeometry'), ('ClosedShell', OrderedDict([('PolyLoop', [OrderedDict([('CartesianPoint', [OrderedDict([('Coordinate', ['32.821140', '0.394968', '3.400000'])]), OrderedDict([('Coordinate', ['36.968681', '0.394968', '3.400000'])]), OrderedDict([('Coordinate', ['36.968681', '0.394968', '6.800000'])]), OrderedDict([('Coordinate', ['32.821140', '0.394968', '6.800000'])])])]), OrderedDict([('CartesianPoint', [OrderedDict([('Coordinate', ['36.968681', '0.394968', '3.400000'])]), OrderedDict([('Coordinate', ['36.968681', '3.428000', '3.400000'])]), OrderedDict([('Coordinate', ['36.968681', '3.428000', '6.800000'])]), OrderedDict([('Coordinate', ['36.968681', '0.394968', '6.800000'])])])]), OrderedDict([('CartesianPoint', [OrderedDict([('Coordinate', ['36.968681', '0.394968', '3.400000'])]), OrderedDict([('Coordinate', ['32.821140', '0.394968', '3.400000'])]), OrderedDict([('Coordinate', ['32.815237', '1.670000', '3.400000'])]), OrderedDict([('Coordinate', ['33.715237', '1.670000', '3.400000'])]), OrderedDict([('Coordinate', ['33.715237', '3.428000', '3.400000'])]), OrderedDict([('Coordinate', ['36.968681', '3.428000', '3.400000'])])])]), OrderedDict([('CartesianPoint', [OrderedDict([('Coordinate', ['36.968681', '3.428000', '6.800000'])]), OrderedDict([('Coordinate', ['33.715237', '3.428000', '6.800000'])]), OrderedDict([('Coordinate', ['33.715237', '1.670000', '6.800000'])]), OrderedDict([('Coordinate', ['32.815237', '1.670000', '6.800000'])]), OrderedDict([('Coordinate', ['32.821140', '0.394968', '6.800000'])]), OrderedDict([('Coordinate', ['36.968681', '0.394968', '6.800000'])])])]), OrderedDict([('CartesianPoint', [OrderedDict([('Coordinate', ['32.815237', '1.670000', '3.400000'])]), OrderedDict([('Coordinate', ['32.821140', '0.394968', '3.400000'])]), OrderedDict([('Coordinate', ['32.821140', '0.394968', '6.800000'])]), OrderedDict([('Coordinate', ['32.815237', '1.670000', '6.800000'])])])]), OrderedDict([('CartesianPoint', [OrderedDict([('Coordinate', ['33.715237', '3.428000', '3.400000'])]), OrderedDict([('Coordinate', ['33.715237', '1.670000', '3.400000'])]), OrderedDict([('Coordinate', ['33.715237', '1.670000', '6.800000'])]), OrderedDict([('Coordinate', ['33.715237', '3.428000', '6.800000'])])])]), OrderedDict([('CartesianPoint', [OrderedDict([('Coordinate', ['32.815237', '1.670000', '6.800000'])]), OrderedDict([('Coordinate', ['33.715237', '1.670000', '6.800000'])]), OrderedDict([('Coordinate', ['33.715237', '1.670000', '3.400000'])]), OrderedDict([('Coordinate', ['32.815237', '1.670000', '3.400000'])])])]), OrderedDict([('CartesianPoint', [OrderedDict([('Coordinate', ['33.715237', '3.428000', '6.800000'])]), OrderedDict([('Coordinate', ['36.968681', '3.428000', '6.800000'])]), OrderedDict([('Coordinate', ['36.968681', '3.428000', '3.400000'])]), OrderedDict([('Coordinate', ['33.715237', '3.428000', '3.400000'])])])])])]))])",
         "SpaceBoundary": "[OrderedDict([('@isSecondLevelBoundary', 'true'), ('@surfaceIdRef', 'surface-52'), ('PlanarGeometry', OrderedDict([('PolyLoop', OrderedDict([('CartesianPoint', [OrderedDict([('Coordinate', ['36.968681', '2.635237', '3.400000'])]), OrderedDict([('Coordinate', ['35.433681', '2.635237', '3.400000'])]), OrderedDict([('Coordinate', ['35.433681', '2.205237', '3.400000'])]), OrderedDict([('Coordinate', ['33.715237', '2.205237', '3.400000'])]), OrderedDict([('Coordinate', ['33.715237', '3.428000', '3.400000'])]), OrderedDict([('Coordinate', ['36.968681', '3.428000', '3.400000'])])])]))]))]), OrderedDict([('@isSecondLevelBoundary', 'true'), ('@surfaceIdRef', 'surface-63'), ('PlanarGeometry', OrderedDict([('PolyLoop', OrderedDict([('CartesianPoint', [OrderedDict([('Coordinate', ['36.968681', '0.394968', '3.400000'])]), OrderedDict([('Coordinate', ['35.433681', '0.394968', '3.400000'])]), OrderedDict([('Coordinate', ['35.433681', '2.635237', '3.400000'])]), OrderedDict([('Coordinate', ['36.968681', '2.635237', '3.400000'])])])]))]))]), OrderedDict([('@isSecondLevelBoundary', 'true'), ('@surfaceIdRef', 'surface-78'), ('PlanarGeometry', OrderedDict([('PolyLoop', OrderedDict([('CartesianPoint', [OrderedDict([('Coordinate', ['33.243681', '0.394968', '3.400000'])]), OrderedDict([('Coordinate', ['32.821140', '0.394968', '3.400000'])]), OrderedDict([('Coordinate', ['32.815237', '1.670000', '3.400000'])]), OrderedDict([('Coordinate', ['33.243681', '1.670000', '3.400000'])])])]))]))]), OrderedDict([('@isSecondLevelBoundary', 'true'), ('@surfaceIdRef', 'surface-83'), ('PlanarGeometry', OrderedDict([('PolyLoop', OrderedDict([('CartesianPoint', [OrderedDict([('Coordinate', ['35.433681', '0.394968', '3.400000'])]), OrderedDict([('Coordinate', ['34.163681', '0.394968', '3.400000'])]), OrderedDict([('Coordinate', ['34.163681', '2.205237', '3.400000'])]), OrderedDict([('Coordinate', ['35.433681', '2.205237', '3.400000'])])])]))]))]), OrderedDict([('@isSecondLevelBoundary', 'true'), ('@surfaceIdRef', 'surface-88'), ('PlanarGeometry', OrderedDict([('PolyLoop', OrderedDict([('CartesianPoint', [OrderedDict([('Coordinate', ['34.163681', '0.394968', '3.400000'])]), OrderedDict([('Coordinate', ['33.243681', '0.394968', '3.400000'])]), OrderedDict([('Coordinate', ['33.243681', '1.670000', '3.400000'])]), OrderedDict([('Coordinate', ['33.715237', '1.670000', '3.400000'])]), OrderedDict([('Coordinate', ['33.715237', '2.205237', '3.400000'])]), OrderedDict([('Coordinate', ['34.163681', '2.205237', '3.400000'])])])]))]))]), OrderedDict([('@isSecondLevelBoundary', 'true'), ('@surfaceIdRef', 'surface-95'), ('PlanarGeometry', OrderedDict([('PolyLoop', OrderedDict([('CartesianPoint', [OrderedDict([('Coordinate', ['33.715237', '3.428000', '3.400000'])]), OrderedDict([('Coordinate', ['33.715237', '1.670000', '3.400000'])]), OrderedDict([('Coordinate', ['33.715237', '1.670000', '6.800000'])]), OrderedDict([('Coordinate', ['33.715237', '3.428000', '6.800000'])])])]))]))]), OrderedDict([('@isSecondLevelBoundary', 'true'), ('@surfaceIdRef', 'surface-96'), ('PlanarGeometry', OrderedDict([('PolyLoop', OrderedDict([('CartesianPoint', [OrderedDict([('Coordinate', ['33.715237', '1.670000', '3.400000'])]), OrderedDict([('Coordinate', ['32.815237', '1.670000', '3.400000'])]), OrderedDict([('Coordinate', ['32.815237', '1.670000', '6.800000'])]), OrderedDict([('Coordinate', ['33.715237', '1.670000', '6.800000'])])])]))]))]), OrderedDict([('@isSecondLevelBoundary', 'true'), ('@surfaceIdRef', 'surface-102'), ('PlanarGeometry', OrderedDict([('PolyLoop', OrderedDict([('CartesianPoint', [OrderedDict([('Coordinate', ['32.821140', '0.394968', '6.800000'])]), OrderedDict([('Coordinate', ['32.815237', '1.670000', '6.800000'])]), OrderedDict([('Coordinate', ['32.815237', '1.670000', '3.400000'])]), OrderedDict([('Coordinate', ['32.821140', '0.394968', '3.400000'])])])]))]))]), OrderedDict([('@isSecondLevelBoundary', 'true'), ('@surfaceIdRef', 'surface-108'), ('PlanarGeometry', OrderedDict([('PolyLoop', OrderedDict([('CartesianPoint', [OrderedDict([('Coordinate', ['36.968681', '3.428000', '3.400000'])]), OrderedDict([('Coordinate', ['33.715237', '3.428000', '3.400000'])]), OrderedDict([('Coordinate', ['33.715237', '3.428000', '6.800000'])]), OrderedDict([('Coordinate', ['36.968681', '3.428000', '6.800000'])])])]))]))]), OrderedDict([('@isSecondLevelBoundary', 'true'), ('@surfaceIdRef', 'surface-109'), ('PlanarGeometry', OrderedDict([('PolyLoop', OrderedDict([('CartesianPoint', [OrderedDict([('Coordinate', ['32.821140', '0.394968', '3.400000'])]), OrderedDict([('Coordinate', ['36.968681', '0.394968', '3.400000'])]), OrderedDict([('Coordinate', ['36.968681', '0.394968', '6.800000'])]), OrderedDict([('Coordinate', ['32.821140', '0.394968', '6.800000'])])])]))]))]), OrderedDict([('@isSecondLevelBoundary', 'true'), ('@surfaceIdRef', 'surface-110'), ('PlanarGeometry', OrderedDict([('PolyLoop', OrderedDict([('CartesianPoint', [OrderedDict([('Coordinate', ['36.968681', '0.394968', '3.400000'])]), OrderedDict([('Coordinate', ['36.968681', '3.428000', '3.400000'])]), OrderedDict([('Coordinate', ['36.968681', '3.428000', '6.800000'])]), OrderedDict([('Coordinate', ['36.968681', '0.394968', '6.800000'])])])]))]))]), OrderedDict([('@isSecondLevelBoundary', 'true'), ('@surfaceIdRef', 'surface-111'), ('PlanarGeometry', OrderedDict([('PolyLoop', OrderedDict([('CartesianPoint', [OrderedDict([('Coordinate', ['36.968681', '3.428000', '6.800000'])]), OrderedDict([('Coordinate', ['33.715237', '3.428000', '6.800000'])]), OrderedDict([('Coordinate', ['33.715237', '1.670000', '6.800000'])]), OrderedDict([('Coordinate', ['32.815237', '1.670000', '6.800000'])]), OrderedDict([('Coordinate', ['32.821140', '0.394968', '6.800000'])]), OrderedDict([('Coordinate', ['36.968681', '0.394968', '6.800000'])])])]))]))])]",
         "SpaceId": "R13",
         "SpaceType": "WC/Shower",
         "TM46Category": 3,
         "TypeCode": 0,
         "Volume": 37.439322,
         "id": "105_LiveseyExchange_heatpump-normal-fabric, B_01_03_R13_WC/Shower",
         "index": 18,
         "model": "105_LiveseyExchange_heatpump-normal-fabric"
        },
        {
         "@buildingStoreyIdRef": "STOREY_1",
         "@conditionType": "HeatedAndCooled",
         "@id": "01000000",
         "@zoneIdRef": "ZONE_1",
         "Area": 21.732013,
         "BlockCode": "A",
         "CADObjectId": "01000000",
         "Level": 1,
         "Name": "A_01_01_R8_Workroom1",
         "ShellGeometry": "OrderedDict([('@id', '01000000-shellgeometry'), ('ClosedShell', OrderedDict([('PolyLoop', [OrderedDict([('CartesianPoint', [OrderedDict([('Coordinate', ['21.317000', '6.009000', '3.400000'])]), OrderedDict([('Coordinate', ['21.956680', '6.008347', '3.400000'])]), OrderedDict([('Coordinate', ['21.956680', '1.655237', '3.400000'])]), OrderedDict([('Coordinate', ['18.403681', '1.655237', '3.400000'])]), OrderedDict([('Coordinate', ['18.403681', '8.158887', '3.400000'])]), OrderedDict([('Coordinate', ['21.317000', '8.158887', '3.400000'])])])]), OrderedDict([('CartesianPoint', [OrderedDict([('Coordinate', ['21.317000', '8.158887', '6.800000'])]), OrderedDict([('Coordinate', ['18.403681', '8.158887', '6.800000'])]), OrderedDict([('Coordinate', ['18.403681', '1.655237', '6.800000'])]), OrderedDict([('Coordinate', ['21.956680', '1.655237', '6.800000'])]), OrderedDict([('Coordinate', ['21.956680', '6.008347', '6.800000'])]), OrderedDict([('Coordinate', ['21.317000', '6.009000', '6.800000'])])])]), OrderedDict([('CartesianPoint', [OrderedDict([('Coordinate', ['21.317000', '8.158887', '3.400000'])]), OrderedDict([('Coordinate', ['18.403681', '8.158887', '3.400000'])]), OrderedDict([('Coordinate', ['18.403681', '8.158887', '6.800000'])]), OrderedDict([('Coordinate', ['21.317000', '8.158887', '6.800000'])])])]), OrderedDict([('CartesianPoint', [OrderedDict([('Coordinate', ['21.956680', '1.655237', '3.400000'])]), OrderedDict([('Coordinate', ['21.956680', '6.008347', '3.400000'])]), OrderedDict([('Coordinate', ['21.956680', '6.008347', '6.800000'])]), OrderedDict([('Coordinate', ['21.956680', '1.655237', '6.800000'])])])]), OrderedDict([('CartesianPoint', [OrderedDict([('Coordinate', ['18.403681', '1.655237', '3.400000'])]), OrderedDict([('Coordinate', ['21.956680', '1.655237', '3.400000'])]), OrderedDict([('Coordinate', ['21.956680', '1.655237', '6.800000'])]), OrderedDict([('Coordinate', ['18.403681', '1.655237', '6.800000'])])])]), OrderedDict([('CartesianPoint', [OrderedDict([('Coordinate', ['18.403681', '8.158887', '3.400000'])]), OrderedDict([('Coordinate', ['18.403681', '1.655237', '3.400000'])]), OrderedDict([('Coordinate', ['18.403681', '1.655237', '6.800000'])]), OrderedDict([('Coordinate', ['18.403681', '8.158887', '6.800000'])])])]), OrderedDict([('CartesianPoint', [OrderedDict([('Coordinate', ['21.317000', '6.009000', '6.800000'])]), OrderedDict([('Coordinate', ['21.956680', '6.008347', '6.800000'])]), OrderedDict([('Coordinate', ['21.956680', '6.008347', '3.400000'])]), OrderedDict([('Coordinate', ['21.317000', '6.009000', '3.400000'])])])]), OrderedDict([('CartesianPoint', [OrderedDict([('Coordinate', ['21.317000', '8.158887', '6.800000'])]), OrderedDict([('Coordinate', ['21.317000', '6.009000', '6.800000'])]), OrderedDict([('Coordinate', ['21.317000', '6.009000', '3.400000'])]), OrderedDict([('Coordinate', ['21.317000', '8.158887', '3.400000'])])])])])]))])",
         "SpaceBoundary": "[OrderedDict([('@isSecondLevelBoundary', 'true'), ('@surfaceIdRef', 'surface-36'), ('PlanarGeometry', OrderedDict([('PolyLoop', OrderedDict([('CartesianPoint', [OrderedDict([('Coordinate', ['21.956680', '1.655237', '6.800000'])]), OrderedDict([('Coordinate', ['18.403681', '1.655237', '6.800000'])]), OrderedDict([('Coordinate', ['18.403681', '1.655237', '3.400000'])]), OrderedDict([('Coordinate', ['21.956680', '1.655237', '3.400000'])])])]))]))]), OrderedDict([('@isSecondLevelBoundary', 'true'), ('@surfaceIdRef', 'surface-46'), ('PlanarGeometry', OrderedDict([('PolyLoop', OrderedDict([('CartesianPoint', [OrderedDict([('Coordinate', ['18.403681', '8.158887', '3.400000'])]), OrderedDict([('Coordinate', ['18.403681', '1.655237', '3.400000'])]), OrderedDict([('Coordinate', ['18.403681', '1.655237', '6.800000'])]), OrderedDict([('Coordinate', ['18.403681', '8.158887', '6.800000'])])])]))]))]), OrderedDict([('@isSecondLevelBoundary', 'true'), ('@surfaceIdRef', 'surface-112'), ('PlanarGeometry', OrderedDict([('PolyLoop', OrderedDict([('CartesianPoint', [OrderedDict([('Coordinate', ['19.023681', '1.655237', '3.400000'])]), OrderedDict([('Coordinate', ['18.403681', '1.655237', '3.400000'])]), OrderedDict([('Coordinate', ['18.403681', '1.659769', '3.400000'])])])]))]))]), OrderedDict([('@isSecondLevelBoundary', 'true'), ('@surfaceIdRef', 'surface-113'), ('PlanarGeometry', OrderedDict([('PolyLoop', OrderedDict([('CartesianPoint', [OrderedDict([('Coordinate', ['19.023681', '6.919988', '3.400000'])]), OrderedDict([('Coordinate', ['18.403681', '6.919988', '3.400000'])]), OrderedDict([('Coordinate', ['18.403681', '8.158887', '3.400000'])]), OrderedDict([('Coordinate', ['19.023681', '8.158887', '3.400000'])])])]))]))]), OrderedDict([('@isSecondLevelBoundary', 'true'), ('@surfaceIdRef', 'surface-114'), ('PlanarGeometry', OrderedDict([('PolyLoop', OrderedDict([('CartesianPoint', [OrderedDict([('Coordinate', ['21.956680', '1.655237', '3.400000'])]), OrderedDict([('Coordinate', ['19.023681', '1.655237', '3.400000'])]), OrderedDict([('Coordinate', ['18.403681', '1.659769', '3.400000'])]), OrderedDict([('Coordinate', ['18.403681', '6.919988', '3.400000'])]), OrderedDict([('Coordinate', ['19.023681', '6.919988', '3.400000'])]), OrderedDict([('Coordinate', ['19.023681', '8.158887', '3.400000'])]), OrderedDict([('Coordinate', ['21.317000', '8.158887', '3.400000'])]), OrderedDict([('Coordinate', ['21.317000', '6.009000', '3.400000'])]), OrderedDict([('Coordinate', ['21.956680', '6.008347', '3.400000'])])])]))]))]), OrderedDict([('@isSecondLevelBoundary', 'true'), ('@surfaceIdRef', 'surface-115'), ('PlanarGeometry', OrderedDict([('PolyLoop', OrderedDict([('CartesianPoint', [OrderedDict([('Coordinate', ['21.317000', '8.158887', '6.800000'])]), OrderedDict([('Coordinate', ['18.403681', '8.158887', '6.800000'])]), OrderedDict([('Coordinate', ['18.403681', '1.655237', '6.800000'])]), OrderedDict([('Coordinate', ['21.956680', '1.655237', '6.800000'])]), OrderedDict([('Coordinate', ['21.956680', '6.008347', '6.800000'])]), OrderedDict([('Coordinate', ['21.317000', '6.009000', '6.800000'])])])]))]))]), OrderedDict([('@isSecondLevelBoundary', 'true'), ('@surfaceIdRef', 'surface-116'), ('PlanarGeometry', OrderedDict([('PolyLoop', OrderedDict([('CartesianPoint', [OrderedDict([('Coordinate', ['21.317000', '8.158887', '3.400000'])]), OrderedDict([('Coordinate', ['18.403681', '8.158887', '3.400000'])]), OrderedDict([('Coordinate', ['18.403681', '8.158887', '6.800000'])]), OrderedDict([('Coordinate', ['21.317000', '8.158887', '6.800000'])])])]))]))]), OrderedDict([('@isSecondLevelBoundary', 'true'), ('@surfaceIdRef', 'surface-117'), ('PlanarGeometry', OrderedDict([('PolyLoop', OrderedDict([('CartesianPoint', [OrderedDict([('Coordinate', ['21.956680', '5.510052', '6.800000'])]), OrderedDict([('Coordinate', ['21.956680', '3.658000', '6.800000'])]), OrderedDict([('Coordinate', ['21.956680', '3.658000', '3.400000'])]), OrderedDict([('Coordinate', ['21.956680', '5.510052', '3.400000'])])])]))]))]), OrderedDict([('@isSecondLevelBoundary', 'true'), ('@surfaceIdRef', 'surface-118'), ('PlanarGeometry', OrderedDict([('PolyLoop', OrderedDict([('CartesianPoint', [OrderedDict([('Coordinate', ['21.956680', '1.655237', '3.400000'])]), OrderedDict([('Coordinate', ['21.956680', '3.658000', '3.400000'])]), OrderedDict([('Coordinate', ['21.956680', '3.658000', '6.800000'])]), OrderedDict([('Coordinate', ['21.956680', '1.655237', '6.800000'])])])]))]))]), OrderedDict([('@isSecondLevelBoundary', 'true'), ('@surfaceIdRef', 'surface-119'), ('PlanarGeometry', OrderedDict([('PolyLoop', OrderedDict([('CartesianPoint', [OrderedDict([('Coordinate', ['21.956680', '5.510052', '3.400000'])]), OrderedDict([('Coordinate', ['21.956680', '6.008347', '3.400000'])]), OrderedDict([('Coordinate', ['21.956680', '6.008347', '6.800000'])]), OrderedDict([('Coordinate', ['21.956680', '5.510052', '6.800000'])])])]))]))]), OrderedDict([('@isSecondLevelBoundary', 'true'), ('@surfaceIdRef', 'surface-120'), ('PlanarGeometry', OrderedDict([('PolyLoop', OrderedDict([('CartesianPoint', [OrderedDict([('Coordinate', ['21.317000', '6.009000', '6.800000'])]), OrderedDict([('Coordinate', ['21.956680', '6.008347', '6.800000'])]), OrderedDict([('Coordinate', ['21.956680', '6.008347', '3.400000'])]), OrderedDict([('Coordinate', ['21.317000', '6.009000', '3.400000'])])])]))]))]), OrderedDict([('@isSecondLevelBoundary', 'true'), ('@surfaceIdRef', 'surface-121'), ('PlanarGeometry', OrderedDict([('PolyLoop', OrderedDict([('CartesianPoint', [OrderedDict([('Coordinate', ['21.317000', '8.158887', '6.800000'])]), OrderedDict([('Coordinate', ['21.317000', '6.009000', '6.800000'])]), OrderedDict([('Coordinate', ['21.317000', '6.009000', '3.400000'])]), OrderedDict([('Coordinate', ['21.317000', '8.158887', '3.400000'])])])]))]))])]",
         "SpaceId": "R8",
         "SpaceType": "Workroom1",
         "TM46Category": 1,
         "TypeCode": 0,
         "Volume": 73.88884499999999,
         "id": "105_LiveseyExchange_heatpump-normal-fabric, A_01_01_R8_Workroom1",
         "index": 19,
         "model": "105_LiveseyExchange_heatpump-normal-fabric"
        },
        {
         "@buildingStoreyIdRef": "STOREY_1",
         "@conditionType": "HeatedAndCooled",
         "@id": "00000002",
         "@zoneIdRef": "ZONE_1",
         "Area": 55.672253,
         "BlockCode": "A",
         "CADObjectId": "00000002",
         "Level": 0,
         "Name": "A_00_01_R1_EventSpace",
         "ShellGeometry": "OrderedDict([('@id', '00000002-shellgeometry'), ('ClosedShell', OrderedDict([('PolyLoop', [OrderedDict([('CartesianPoint', [OrderedDict([('Coordinate', ['7.563681', '8.158887', '6.800000'])]), OrderedDict([('Coordinate', ['0.405000', '8.158887', '6.800000'])]), OrderedDict([('Coordinate', ['0.405000', '0.382000', '6.800000'])]), OrderedDict([('Coordinate', ['7.563681', '0.382000', '6.800000'])])])]), OrderedDict([('CartesianPoint', [OrderedDict([('Coordinate', ['0.405000', '8.158887', '0.000000'])]), OrderedDict([('Coordinate', ['0.405000', '0.382000', '0.000000'])]), OrderedDict([('Coordinate', ['0.405000', '0.382000', '6.800000'])]), OrderedDict([('Coordinate', ['0.405000', '8.158887', '6.800000'])])])]), OrderedDict([('CartesianPoint', [OrderedDict([('Coordinate', ['0.405000', '0.382000', '0.000000'])]), OrderedDict([('Coordinate', ['7.563681', '0.382000', '0.000000'])]), OrderedDict([('Coordinate', ['7.563681', '0.382000', '6.800000'])]), OrderedDict([('Coordinate', ['0.405000', '0.382000', '6.800000'])])])]), OrderedDict([('CartesianPoint', [OrderedDict([('Coordinate', ['7.563681', '8.158887', '0.000000'])]), OrderedDict([('Coordinate', ['0.405000', '8.158887', '0.000000'])]), OrderedDict([('Coordinate', ['0.405000', '8.158887', '6.800000'])]), OrderedDict([('Coordinate', ['7.563681', '8.158887', '6.800000'])])])]), OrderedDict([('CartesianPoint', [OrderedDict([('Coordinate', ['7.563681', '0.382000', '0.000000'])]), OrderedDict([('Coordinate', ['0.405000', '0.382000', '0.000000'])]), OrderedDict([('Coordinate', ['0.405000', '8.158887', '0.000000'])]), OrderedDict([('Coordinate', ['7.563681', '8.158887', '0.000000'])])])]), OrderedDict([('CartesianPoint', [OrderedDict([('Coordinate', ['7.563681', '0.382000', '0.000000'])]), OrderedDict([('Coordinate', ['7.563681', '8.158887', '0.000000'])]), OrderedDict([('Coordinate', ['7.563681', '8.158887', '6.800000'])]), OrderedDict([('Coordinate', ['7.563681', '0.382000', '6.800000'])])])])])]))])",
         "SpaceBoundary": "[OrderedDict([('@isSecondLevelBoundary', 'true'), ('@surfaceIdRef', 'surface-122'), ('PlanarGeometry', OrderedDict([('PolyLoop', OrderedDict([('CartesianPoint', [OrderedDict([('Coordinate', ['7.563681', '8.158887', '6.800000'])]), OrderedDict([('Coordinate', ['0.405000', '8.158887', '6.800000'])]), OrderedDict([('Coordinate', ['0.405000', '0.382000', '6.800000'])]), OrderedDict([('Coordinate', ['7.563681', '0.382000', '6.800000'])])])]))]))]), OrderedDict([('@isSecondLevelBoundary', 'true'), ('@surfaceIdRef', 'surface-123'), ('PlanarGeometry', OrderedDict([('PolyLoop', OrderedDict([('CartesianPoint', [OrderedDict([('Coordinate', ['0.405000', '8.158887', '0.000000'])]), OrderedDict([('Coordinate', ['0.405000', '0.382000', '0.000000'])]), OrderedDict([('Coordinate', ['0.405000', '0.382000', '6.800000'])]), OrderedDict([('Coordinate', ['0.405000', '8.158887', '6.800000'])])])]))]))]), OrderedDict([('@isSecondLevelBoundary', 'true'), ('@surfaceIdRef', 'surface-124'), ('PlanarGeometry', OrderedDict([('PolyLoop', OrderedDict([('CartesianPoint', [OrderedDict([('Coordinate', ['0.405000', '0.382000', '0.000000'])]), OrderedDict([('Coordinate', ['7.563681', '0.382000', '-0.000000'])]), OrderedDict([('Coordinate', ['7.563681', '0.382000', '6.800000'])]), OrderedDict([('Coordinate', ['0.405000', '0.382000', '6.800000'])])])]))]))]), OrderedDict([('@isSecondLevelBoundary', 'true'), ('@surfaceIdRef', 'surface-125'), ('PlanarGeometry', OrderedDict([('PolyLoop', OrderedDict([('CartesianPoint', [OrderedDict([('Coordinate', ['7.563681', '8.158887', '0.000000'])]), OrderedDict([('Coordinate', ['0.405000', '8.158887', '0.000000'])]), OrderedDict([('Coordinate', ['0.405000', '8.158887', '6.800000'])]), OrderedDict([('Coordinate', ['7.563681', '8.158887', '6.800000'])])])]))]))]), OrderedDict([('@isSecondLevelBoundary', 'true'), ('@surfaceIdRef', 'surface-126'), ('PlanarGeometry', OrderedDict([('PolyLoop', OrderedDict([('CartesianPoint', [OrderedDict([('Coordinate', ['7.563681', '0.382000', '0.000000'])]), OrderedDict([('Coordinate', ['0.405000', '0.382000', '0.000000'])]), OrderedDict([('Coordinate', ['0.405000', '8.158887', '0.000000'])]), OrderedDict([('Coordinate', ['7.563681', '8.158887', '0.000000'])])])]))]))]), OrderedDict([('@isSecondLevelBoundary', 'true'), ('@surfaceIdRef', 'surface-127'), ('PlanarGeometry', OrderedDict([('PolyLoop', OrderedDict([('CartesianPoint', [OrderedDict([('Coordinate', ['7.563681', '8.158887', '6.800000'])]), OrderedDict([('Coordinate', ['7.563681', '0.382000', '6.800000'])]), OrderedDict([('Coordinate', ['7.563681', '0.382000', '3.400000'])]), OrderedDict([('Coordinate', ['7.563681', '8.158887', '3.400000'])])])]))]))]), OrderedDict([('@isSecondLevelBoundary', 'true'), ('@surfaceIdRef', 'surface-128'), ('PlanarGeometry', OrderedDict([('PolyLoop', OrderedDict([('CartesianPoint', [OrderedDict([('Coordinate', ['7.563681', '8.158887', '3.400000'])]), OrderedDict([('Coordinate', ['7.563681', '0.382000', '3.400000'])]), OrderedDict([('Coordinate', ['7.563681', '0.382000', '0.000000'])]), OrderedDict([('Coordinate', ['7.563681', '8.158887', '0.000000'])])])]))]))])]",
         "SpaceId": "R1",
         "SpaceType": "EventSpace",
         "TM46Category": 1,
         "TypeCode": 0,
         "Volume": 378.571322,
         "id": "105_LiveseyExchange_heatpump-normal-fabric, A_00_01_R1_EventSpace",
         "index": 20,
         "model": "105_LiveseyExchange_heatpump-normal-fabric"
        },
        {
         "@buildingStoreyIdRef": "STOREY_1",
         "@conditionType": "HeatedAndCooled",
         "@id": "01000002",
         "@zoneIdRef": "ZONE_1",
         "Area": 28.307869,
         "BlockCode": "A",
         "CADObjectId": "01000002",
         "Level": 1,
         "Name": "A_01_04_R11_Workroom4",
         "ShellGeometry": "OrderedDict([('@id', '01000002-shellgeometry'), ('ClosedShell', OrderedDict([('PolyLoop', [OrderedDict([('CartesianPoint', [OrderedDict([('Coordinate', ['11.203681', '0.382000', '3.400000'])]), OrderedDict([('Coordinate', ['7.563681', '0.382000', '3.400000'])]), OrderedDict([('Coordinate', ['7.563681', '8.158887', '3.400000'])]), OrderedDict([('Coordinate', ['11.203681', '8.158887', '3.400000'])])])]), OrderedDict([('CartesianPoint', [OrderedDict([('Coordinate', ['11.203681', '8.158887', '6.800000'])]), OrderedDict([('Coordinate', ['7.563681', '8.158887', '6.800000'])]), OrderedDict([('Coordinate', ['7.563681', '0.382000', '6.800000'])]), OrderedDict([('Coordinate', ['11.203681', '0.382000', '6.800000'])])])]), OrderedDict([('CartesianPoint', [OrderedDict([('Coordinate', ['11.203681', '8.158887', '3.400000'])]), OrderedDict([('Coordinate', ['7.563681', '8.158887', '3.400000'])]), OrderedDict([('Coordinate', ['7.563681', '8.158887', '6.800000'])]), OrderedDict([('Coordinate', ['11.203681', '8.158887', '6.800000'])])])]), OrderedDict([('CartesianPoint', [OrderedDict([('Coordinate', ['7.563681', '0.382000', '3.400000'])]), OrderedDict([('Coordinate', ['11.203681', '0.382000', '3.400000'])]), OrderedDict([('Coordinate', ['11.203681', '0.382000', '6.800000'])]), OrderedDict([('Coordinate', ['7.563681', '0.382000', '6.800000'])])])]), OrderedDict([('CartesianPoint', [OrderedDict([('Coordinate', ['7.563681', '8.158887', '3.400000'])]), OrderedDict([('Coordinate', ['7.563681', '0.382000', '3.400000'])]), OrderedDict([('Coordinate', ['7.563681', '0.382000', '6.800000'])]), OrderedDict([('Coordinate', ['7.563681', '8.158887', '6.800000'])])])]), OrderedDict([('CartesianPoint', [OrderedDict([('Coordinate', ['11.203681', '8.158887', '6.800000'])]), OrderedDict([('Coordinate', ['11.203681', '0.382000', '6.800000'])]), OrderedDict([('Coordinate', ['11.203681', '0.382000', '3.400000'])]), OrderedDict([('Coordinate', ['11.203681', '8.158887', '3.400000'])])])])])]))])",
         "SpaceBoundary": "[OrderedDict([('@isSecondLevelBoundary', 'true'), ('@surfaceIdRef', 'surface-33'), ('PlanarGeometry', OrderedDict([('PolyLoop', OrderedDict([('CartesianPoint', [OrderedDict([('Coordinate', ['11.203681', '1.655237', '6.800000'])]), OrderedDict([('Coordinate', ['11.203681', '0.382000', '6.800000'])]), OrderedDict([('Coordinate', ['11.203681', '0.382000', '3.400000'])]), OrderedDict([('Coordinate', ['11.203681', '1.655237', '3.400000'])])])]))]))]), OrderedDict([('@isSecondLevelBoundary', 'true'), ('@surfaceIdRef', 'surface-40'), ('PlanarGeometry', OrderedDict([('PolyLoop', OrderedDict([('CartesianPoint', [OrderedDict([('Coordinate', ['11.203681', '1.655237', '3.400000'])]), OrderedDict([('Coordinate', ['11.203681', '8.158887', '3.400000'])]), OrderedDict([('Coordinate', ['11.203681', '8.158887', '6.800000'])]), OrderedDict([('Coordinate', ['11.203681', '1.655237', '6.800000'])])])]))]))]), OrderedDict([('@isSecondLevelBoundary', 'true'), ('@surfaceIdRef', 'surface-127'), ('PlanarGeometry', OrderedDict([('PolyLoop', OrderedDict([('CartesianPoint', [OrderedDict([('Coordinate', ['7.563681', '8.158887', '3.400000'])]), OrderedDict([('Coordinate', ['7.563681', '0.382000', '3.400000'])]), OrderedDict([('Coordinate', ['7.563681', '0.382000', '6.800000'])]), OrderedDict([('Coordinate', ['7.563681', '8.158887', '6.800000'])])])]))]))]), OrderedDict([('@isSecondLevelBoundary', 'true'), ('@surfaceIdRef', 'surface-129'), ('PlanarGeometry', OrderedDict([('PolyLoop', OrderedDict([('CartesianPoint', [OrderedDict([('Coordinate', ['11.203681', '0.382000', '3.400000'])]), OrderedDict([('Coordinate', ['7.563681', '0.382000', '3.400000'])]), OrderedDict([('Coordinate', ['7.563681', '8.158887', '3.400000'])]), OrderedDict([('Coordinate', ['11.203681', '8.158887', '3.400000'])])])]))]))]), OrderedDict([('@isSecondLevelBoundary', 'true'), ('@surfaceIdRef', 'surface-130'), ('PlanarGeometry', OrderedDict([('PolyLoop', OrderedDict([('CartesianPoint', [OrderedDict([('Coordinate', ['11.203681', '8.158887', '6.800000'])]), OrderedDict([('Coordinate', ['7.563681', '8.158887', '6.800000'])]), OrderedDict([('Coordinate', ['7.563681', '0.382000', '6.800000'])]), OrderedDict([('Coordinate', ['11.203681', '0.382000', '6.800000'])])])]))]))]), OrderedDict([('@isSecondLevelBoundary', 'true'), ('@surfaceIdRef', 'surface-131'), ('PlanarGeometry', OrderedDict([('PolyLoop', OrderedDict([('CartesianPoint', [OrderedDict([('Coordinate', ['11.203681', '8.158887', '3.400000'])]), OrderedDict([('Coordinate', ['7.563681', '8.158887', '3.400000'])]), OrderedDict([('Coordinate', ['7.563681', '8.158887', '6.800000'])]), OrderedDict([('Coordinate', ['11.203681', '8.158887', '6.800000'])])])]))]))]), OrderedDict([('@isSecondLevelBoundary', 'true'), ('@surfaceIdRef', 'surface-132'), ('PlanarGeometry', OrderedDict([('PolyLoop', OrderedDict([('CartesianPoint', [OrderedDict([('Coordinate', ['7.563681', '0.382000', '3.400000'])]), OrderedDict([('Coordinate', ['11.203681', '0.382000', '3.400000'])]), OrderedDict([('Coordinate', ['11.203681', '0.382000', '6.800000'])]), OrderedDict([('Coordinate', ['7.563681', '0.382000', '6.800000'])])])]))]))])]",
         "SpaceId": "R11",
         "SpaceType": "Workroom4",
         "TM46Category": 4,
         "TypeCode": 0,
         "Volume": 96.24675400000001,
         "id": "105_LiveseyExchange_heatpump-normal-fabric, A_01_04_R11_Workroom4",
         "index": 21,
         "model": "105_LiveseyExchange_heatpump-normal-fabric"
        },
        {
         "@buildingStoreyIdRef": "STOREY_1",
         "@conditionType": "HeatedAndCooled",
         "@id": "00000001",
         "@zoneIdRef": "ZONE_1",
         "Area": 89.436984,
         "BlockCode": "A",
         "CADObjectId": "00000001",
         "Level": 0,
         "Name": "A_00_02_R2_Canteen",
         "ShellGeometry": "OrderedDict([('@id', '00000001-shellgeometry'), ('ClosedShell', OrderedDict([('PolyLoop', [OrderedDict([('CartesianPoint', [OrderedDict([('Coordinate', ['18.373681', '1.659988', '0.000000'])]), OrderedDict([('Coordinate', ['18.373681', '6.919988', '0.000000'])]), OrderedDict([('Coordinate', ['18.373681', '6.919988', '3.400000'])]), OrderedDict([('Coordinate', ['18.373681', '1.659988', '3.400000'])])])]), OrderedDict([('CartesianPoint', [OrderedDict([('Coordinate', ['21.956680', '0.382000', '0.000000'])]), OrderedDict([('Coordinate', ['21.956680', '1.655237', '0.000000'])]), OrderedDict([('Coordinate', ['21.956680', '1.655237', '3.400000'])]), OrderedDict([('Coordinate', ['21.956680', '0.382000', '3.400000'])])])]), OrderedDict([('CartesianPoint', [OrderedDict([('Coordinate', ['19.023681', '1.655237', '3.400000'])]), OrderedDict([('Coordinate', ['21.956680', '1.655237', '3.400000'])]), OrderedDict([('Coordinate', ['21.956680', '1.655237', '0.000000'])]), OrderedDict([('Coordinate', ['19.023681', '1.655237', '-0.000000'])])])]), OrderedDict([('CartesianPoint', [OrderedDict([('Coordinate', ['19.023681', '1.655237', '-0.000000'])]), OrderedDict([('Coordinate', ['18.373681', '1.659988', '0.000000'])]), OrderedDict([('Coordinate', ['18.373681', '1.659988', '3.400000'])]), OrderedDict([('Coordinate', ['19.023681', '1.655237', '3.400000'])])])]), OrderedDict([('CartesianPoint', [OrderedDict([('Coordinate', ['7.563681', '0.382000', '0.000000'])]), OrderedDict([('Coordinate', ['21.956680', '0.382000', '0.000000'])]), OrderedDict([('Coordinate', ['21.956680', '0.382000', '3.400000'])]), OrderedDict([('Coordinate', ['7.563681', '0.382000', '3.400000'])])])]), OrderedDict([('CartesianPoint', [OrderedDict([('Coordinate', ['19.023681', '8.158887', '0.000000'])]), OrderedDict([('Coordinate', ['7.563681', '8.158887', '0.000000'])]), OrderedDict([('Coordinate', ['7.563681', '8.158887', '3.400000'])]), OrderedDict([('Coordinate', ['19.023681', '8.158887', '3.400000'])])])]), OrderedDict([('CartesianPoint', [OrderedDict([('Coordinate', ['19.023681', '6.919988', '3.400000'])]), OrderedDict([('Coordinate', ['18.373681', '6.919988', '3.400000'])]), OrderedDict([('Coordinate', ['18.373681', '6.919988', '0.000000'])]), OrderedDict([('Coordinate', ['19.023681', '6.919988', '0.000000'])])])]), OrderedDict([('CartesianPoint', [OrderedDict([('Coordinate', ['19.023681', '6.919988', '0.000000'])]), OrderedDict([('Coordinate', ['19.023681', '8.158887', '0.000000'])]), OrderedDict([('Coordinate', ['19.023681', '8.158887', '3.400000'])]), OrderedDict([('Coordinate', ['19.023681', '6.919988', '3.400000'])])])]), OrderedDict([('CartesianPoint', [OrderedDict([('Coordinate', ['19.023681', '6.919988', '0.000000'])]), OrderedDict([('Coordinate', ['18.373681', '6.919988', '0.000000'])]), OrderedDict([('Coordinate', ['18.373681', '1.659988', '0.000000'])]), OrderedDict([('Coordinate', ['19.023681', '1.655237', '-0.000000'])]), OrderedDict([('Coordinate', ['21.956680', '1.655237', '0.000000'])]), OrderedDict([('Coordinate', ['21.956680', '0.382000', '0.000000'])]), OrderedDict([('Coordinate', ['7.563681', '0.382000', '0.000000'])]), OrderedDict([('Coordinate', ['7.563681', '8.158887', '0.000000'])]), OrderedDict([('Coordinate', ['19.023681', '8.158887', '0.000000'])])])]), OrderedDict([('CartesianPoint', [OrderedDict([('Coordinate', ['19.023681', '8.158887', '3.400000'])]), OrderedDict([('Coordinate', ['7.563681', '8.158887', '3.400000'])]), OrderedDict([('Coordinate', ['7.563681', '0.382000', '3.400000'])]), OrderedDict([('Coordinate', ['21.956680', '0.382000', '3.400000'])]), OrderedDict([('Coordinate', ['21.956680', '1.655237', '3.400000'])]), OrderedDict([('Coordinate', ['19.023681', '1.655237', '3.400000'])]), OrderedDict([('Coordinate', ['18.373681', '1.659988', '3.400000'])]), OrderedDict([('Coordinate', ['18.373681', '6.919988', '3.400000'])]), OrderedDict([('Coordinate', ['19.023681', '6.919988', '3.400000'])])])]), OrderedDict([('CartesianPoint', [OrderedDict([('Coordinate', ['7.563681', '0.382000', '3.400000'])]), OrderedDict([('Coordinate', ['7.563681', '8.158887', '3.400000'])]), OrderedDict([('Coordinate', ['7.563681', '8.158887', '0.000000'])]), OrderedDict([('Coordinate', ['7.563681', '0.382000', '0.000000'])])])])])]))])",
         "SpaceBoundary": "[OrderedDict([('@isSecondLevelBoundary', 'true'), ('@surfaceIdRef', 'surface-29'), ('PlanarGeometry', OrderedDict([('PolyLoop', OrderedDict([('CartesianPoint', [OrderedDict([('Coordinate', ['21.956680', '1.655237', '3.400000'])]), OrderedDict([('Coordinate', ['11.203681', '1.655237', '3.400000'])]), OrderedDict([('Coordinate', ['11.203681', '0.382000', '3.400000'])]), OrderedDict([('Coordinate', ['21.956680', '0.382000', '3.400000'])])])]))]))]), OrderedDict([('@isSecondLevelBoundary', 'true'), ('@surfaceIdRef', 'surface-37'), ('PlanarGeometry', OrderedDict([('PolyLoop', OrderedDict([('CartesianPoint', [OrderedDict([('Coordinate', ['14.803681', '8.158887', '3.400000'])]), OrderedDict([('Coordinate', ['11.203681', '8.158887', '3.400000'])]), OrderedDict([('Coordinate', ['11.203681', '1.655237', '3.400000'])]), OrderedDict([('Coordinate', ['14.803681', '1.655237', '3.400000'])])])]))]))]), OrderedDict([('@isSecondLevelBoundary', 'true'), ('@surfaceIdRef', 'surface-42'), ('PlanarGeometry', OrderedDict([('PolyLoop', OrderedDict([('CartesianPoint', [OrderedDict([('Coordinate', ['18.403681', '1.659769', '3.400000'])]), OrderedDict([('Coordinate', ['18.373681', '1.659988', '3.400000'])]), OrderedDict([('Coordinate', ['18.373681', '6.919988', '3.400000'])]), OrderedDict([('Coordinate', ['18.403681', '6.919988', '3.400000'])]), OrderedDict([('Coordinate', ['18.403681', '8.158887', '3.400000'])]), OrderedDict([('Coordinate', ['14.803681', '8.158887', '3.400000'])]), OrderedDict([('Coordinate', ['14.803681', '1.655237', '3.400000'])]), OrderedDict([('Coordinate', ['18.403681', '1.655237', '3.400000'])])])]))]))]), OrderedDict([('@isSecondLevelBoundary', 'true'), ('@surfaceIdRef', 'surface-112'), ('PlanarGeometry', OrderedDict([('PolyLoop', OrderedDict([('CartesianPoint', [OrderedDict([('Coordinate', ['18.403681', '1.659769', '3.400000'])]), OrderedDict([('Coordinate', ['18.403681', '1.655237', '3.400000'])]), OrderedDict([('Coordinate', ['19.023681', '1.655237', '3.400000'])])])]))]))]), OrderedDict([('@isSecondLevelBoundary', 'true'), ('@surfaceIdRef', 'surface-113'), ('PlanarGeometry', OrderedDict([('PolyLoop', OrderedDict([('CartesianPoint', [OrderedDict([('Coordinate', ['19.023681', '8.158887', '3.400000'])]), OrderedDict([('Coordinate', ['18.403681', '8.158887', '3.400000'])]), OrderedDict([('Coordinate', ['18.403681', '6.919988', '3.400000'])]), OrderedDict([('Coordinate', ['19.023681', '6.919988', '3.400000'])])])]))]))]), OrderedDict([('@isSecondLevelBoundary', 'true'), ('@surfaceIdRef', 'surface-128'), ('PlanarGeometry', OrderedDict([('PolyLoop', OrderedDict([('CartesianPoint', [OrderedDict([('Coordinate', ['7.563681', '8.158887', '0.000000'])]), OrderedDict([('Coordinate', ['7.563681', '0.382000', '0.000000'])]), OrderedDict([('Coordinate', ['7.563681', '0.382000', '3.400000'])]), OrderedDict([('Coordinate', ['7.563681', '8.158887', '3.400000'])])])]))]))]), OrderedDict([('@isSecondLevelBoundary', 'true'), ('@surfaceIdRef', 'surface-129'), ('PlanarGeometry', OrderedDict([('PolyLoop', OrderedDict([('CartesianPoint', [OrderedDict([('Coordinate', ['11.203681', '8.158887', '3.400000'])]), OrderedDict([('Coordinate', ['7.563681', '8.158887', '3.400000'])]), OrderedDict([('Coordinate', ['7.563681', '0.382000', '3.400000'])]), OrderedDict([('Coordinate', ['11.203681', '0.382000', '3.400000'])])])]))]))]), OrderedDict([('@isSecondLevelBoundary', 'true'), ('@surfaceIdRef', 'surface-133'), ('PlanarGeometry', OrderedDict([('PolyLoop', OrderedDict([('CartesianPoint', [OrderedDict([('Coordinate', ['18.373681', '6.919988', '3.400000'])]), OrderedDict([('Coordinate', ['18.373681', '1.659988', '3.400000'])]), OrderedDict([('Coordinate', ['18.373681', '1.659988', '0.000000'])]), OrderedDict([('Coordinate', ['18.373681', '6.919988', '0.000000'])])])]))]))]), OrderedDict([('@isSecondLevelBoundary', 'true'), ('@surfaceIdRef', 'surface-134'), ('PlanarGeometry', OrderedDict([('PolyLoop', OrderedDict([('CartesianPoint', [OrderedDict([('Coordinate', ['21.956680', '0.382000', '0.000000'])]), OrderedDict([('Coordinate', ['21.956680', '1.655237', '0.000000'])]), OrderedDict([('Coordinate', ['21.956680', '1.655237', '3.400000'])]), OrderedDict([('Coordinate', ['21.956680', '0.382000', '3.400000'])])])]))]))]), OrderedDict([('@isSecondLevelBoundary', 'true'), ('@surfaceIdRef', 'surface-135'), ('PlanarGeometry', OrderedDict([('PolyLoop', OrderedDict([('CartesianPoint', [OrderedDict([('Coordinate', ['19.023681', '1.655237', '3.400000'])]), OrderedDict([('Coordinate', ['21.956680', '1.655237', '3.400000'])]), OrderedDict([('Coordinate', ['21.956680', '1.655237', '0.000000'])]), OrderedDict([('Coordinate', ['19.023681', '1.655237', '0.000000'])])])]))]))]), OrderedDict([('@isSecondLevelBoundary', 'true'), ('@surfaceIdRef', 'surface-136'), ('PlanarGeometry', OrderedDict([('PolyLoop', OrderedDict([('CartesianPoint', [OrderedDict([('Coordinate', ['18.373681', '1.659988', '3.400000'])]), OrderedDict([('Coordinate', ['19.023681', '1.655237', '3.400000'])]), OrderedDict([('Coordinate', ['19.023681', '1.655237', '0.000000'])]), OrderedDict([('Coordinate', ['18.373681', '1.659988', '0.000000'])])])]))]))]), OrderedDict([('@isSecondLevelBoundary', 'true'), ('@surfaceIdRef', 'surface-137'), ('PlanarGeometry', OrderedDict([('PolyLoop', OrderedDict([('CartesianPoint', [OrderedDict([('Coordinate', ['7.563681', '0.382000', '-0.000000'])]), OrderedDict([('Coordinate', ['21.956680', '0.382000', '0.000000'])]), OrderedDict([('Coordinate', ['21.956680', '0.382000', '3.400000'])]), OrderedDict([('Coordinate', ['7.563681', '0.382000', '3.400000'])])])]))]))]), OrderedDict([('@isSecondLevelBoundary', 'true'), ('@surfaceIdRef', 'surface-138'), ('PlanarGeometry', OrderedDict([('PolyLoop', OrderedDict([('CartesianPoint', [OrderedDict([('Coordinate', ['19.023681', '8.158887', '0.000000'])]), OrderedDict([('Coordinate', ['7.563681', '8.158887', '0.000000'])]), OrderedDict([('Coordinate', ['7.563681', '8.158887', '3.400000'])]), OrderedDict([('Coordinate', ['19.023681', '8.158887', '3.400000'])])])]))]))]), OrderedDict([('@isSecondLevelBoundary', 'true'), ('@surfaceIdRef', 'surface-139'), ('PlanarGeometry', OrderedDict([('PolyLoop', OrderedDict([('CartesianPoint', [OrderedDict([('Coordinate', ['19.023681', '6.919988', '3.400000'])]), OrderedDict([('Coordinate', ['18.373681', '6.919988', '3.400000'])]), OrderedDict([('Coordinate', ['18.373681', '6.919988', '-0.000000'])]), OrderedDict([('Coordinate', ['19.023681', '6.919988', '-0.000000'])])])]))]))]), OrderedDict([('@isSecondLevelBoundary', 'true'), ('@surfaceIdRef', 'surface-140'), ('PlanarGeometry', OrderedDict([('PolyLoop', OrderedDict([('CartesianPoint', [OrderedDict([('Coordinate', ['19.023681', '8.158887', '3.400000'])]), OrderedDict([('Coordinate', ['19.023681', '6.919988', '3.400000'])]), OrderedDict([('Coordinate', ['19.023681', '6.919988', '0.000000'])]), OrderedDict([('Coordinate', ['19.023681', '8.158887', '0.000000'])])])]))]))]), OrderedDict([('@isSecondLevelBoundary', 'true'), ('@surfaceIdRef', 'surface-141'), ('PlanarGeometry', OrderedDict([('PolyLoop', OrderedDict([('CartesianPoint', [OrderedDict([('Coordinate', ['19.023681', '6.919988', '0.000000'])]), OrderedDict([('Coordinate', ['18.373681', '6.919988', '0.000000'])]), OrderedDict([('Coordinate', ['18.373681', '1.659988', '0.000000'])]), OrderedDict([('Coordinate', ['19.023681', '1.655237', '0.000000'])]), OrderedDict([('Coordinate', ['21.956680', '1.655237', '0.000000'])]), OrderedDict([('Coordinate', ['21.956680', '0.382000', '0.000000'])]), OrderedDict([('Coordinate', ['7.563681', '0.382000', '0.000000'])]), OrderedDict([('Coordinate', ['7.563681', '8.158887', '0.000000'])]), OrderedDict([('Coordinate', ['19.023681', '8.158887', '0.000000'])])])]))]))])]",
         "SpaceId": "R2",
         "SpaceType": "Canteen",
         "TM46Category": 2,
         "TypeCode": 0,
         "Volume": 304.085745,
         "id": "105_LiveseyExchange_heatpump-normal-fabric, A_00_02_R2_Canteen",
         "index": 22,
         "model": "105_LiveseyExchange_heatpump-normal-fabric"
        },
        {
         "@buildingStoreyIdRef": "STOREY_1",
         "@conditionType": "HeatedAndCooled",
         "@id": "00000000",
         "@zoneIdRef": "ZONE_1",
         "Area": 21.120294,
         "BlockCode": "A",
         "CADObjectId": "00000000",
         "Level": 0,
         "Name": "A_00_03_R3_Kitchen",
         "ShellGeometry": "OrderedDict([('@id', '00000000-shellgeometry'), ('ClosedShell', OrderedDict([('PolyLoop', [OrderedDict([('CartesianPoint', [OrderedDict([('Coordinate', ['21.317000', '8.158887', '0.000000'])]), OrderedDict([('Coordinate', ['19.023681', '8.158887', '0.000000'])]), OrderedDict([('Coordinate', ['19.023681', '8.158887', '3.400000'])]), OrderedDict([('Coordinate', ['21.317000', '8.158887', '3.400000'])])])]), OrderedDict([('CartesianPoint', [OrderedDict([('Coordinate', ['21.956680', '1.655237', '0.000000'])]), OrderedDict([('Coordinate', ['21.956680', '6.008347', '0.000000'])]), OrderedDict([('Coordinate', ['21.956680', '6.008347', '3.400000'])]), OrderedDict([('Coordinate', ['21.956680', '1.655237', '3.400000'])])])]), OrderedDict([('CartesianPoint', [OrderedDict([('Coordinate', ['19.023681', '1.655237', '0.000000'])]), OrderedDict([('Coordinate', ['21.956680', '1.655237', '0.000000'])]), OrderedDict([('Coordinate', ['21.956680', '1.655237', '3.400000'])]), OrderedDict([('Coordinate', ['19.023681', '1.655237', '3.400000'])])])]), OrderedDict([('CartesianPoint', [OrderedDict([('Coordinate', ['18.373681', '6.919988', '0.000000'])]), OrderedDict([('Coordinate', ['18.373681', '1.659988', '0.000000'])]), OrderedDict([('Coordinate', ['18.373681', '1.659988', '3.400000'])]), OrderedDict([('Coordinate', ['18.373681', '6.919988', '3.400000'])])])]), OrderedDict([('CartesianPoint', [OrderedDict([('Coordinate', ['19.023681', '1.655237', '3.400000'])]), OrderedDict([('Coordinate', ['18.373681', '1.659988', '3.400000'])]), OrderedDict([('Coordinate', ['18.373681', '1.659988', '0.000000'])]), OrderedDict([('Coordinate', ['19.023681', '1.655237', '0.000000'])])])]), OrderedDict([('CartesianPoint', [OrderedDict([('Coordinate', ['21.317000', '6.009000', '0.000000'])]), OrderedDict([('Coordinate', ['21.956680', '6.008347', '0.000000'])]), OrderedDict([('Coordinate', ['21.956680', '1.655237', '0.000000'])]), OrderedDict([('Coordinate', ['19.023681', '1.655237', '0.000000'])]), OrderedDict([('Coordinate', ['18.373681', '1.659988', '0.000000'])]), OrderedDict([('Coordinate', ['18.373681', '6.919988', '0.000000'])]), OrderedDict([('Coordinate', ['19.023681', '6.919988', '0.000000'])]), OrderedDict([('Coordinate', ['19.023681', '8.158887', '0.000000'])]), OrderedDict([('Coordinate', ['21.317000', '8.158887', '0.000000'])])])]), OrderedDict([('CartesianPoint', [OrderedDict([('Coordinate', ['21.317000', '8.158887', '3.400000'])]), OrderedDict([('Coordinate', ['19.023681', '8.158887', '3.400000'])]), OrderedDict([('Coordinate', ['19.023681', '6.919988', '3.400000'])]), OrderedDict([('Coordinate', ['18.373681', '6.919988', '3.400000'])]), OrderedDict([('Coordinate', ['18.373681', '1.659988', '3.400000'])]), OrderedDict([('Coordinate', ['19.023681', '1.655237', '3.400000'])]), OrderedDict([('Coordinate', ['21.956680', '1.655237', '3.400000'])]), OrderedDict([('Coordinate', ['21.956680', '6.008347', '3.400000'])]), OrderedDict([('Coordinate', ['21.317000', '6.009000', '3.400000'])])])]), OrderedDict([('CartesianPoint', [OrderedDict([('Coordinate', ['19.023681', '6.919988', '0.000000'])]), OrderedDict([('Coordinate', ['18.373681', '6.919988', '0.000000'])]), OrderedDict([('Coordinate', ['18.373681', '6.919988', '3.400000'])]), OrderedDict([('Coordinate', ['19.023681', '6.919988', '3.400000'])])])]), OrderedDict([('CartesianPoint', [OrderedDict([('Coordinate', ['19.023681', '8.158887', '0.000000'])]), OrderedDict([('Coordinate', ['19.023681', '6.919988', '0.000000'])]), OrderedDict([('Coordinate', ['19.023681', '6.919988', '3.400000'])]), OrderedDict([('Coordinate', ['19.023681', '8.158887', '3.400000'])])])]), OrderedDict([('CartesianPoint', [OrderedDict([('Coordinate', ['21.317000', '6.009000', '3.400000'])]), OrderedDict([('Coordinate', ['21.956680', '6.008347', '3.400000'])]), OrderedDict([('Coordinate', ['21.956680', '6.008347', '0.000000'])]), OrderedDict([('Coordinate', ['21.317000', '6.009000', '0.000000'])])])]), OrderedDict([('CartesianPoint', [OrderedDict([('Coordinate', ['21.317000', '8.158887', '3.400000'])]), OrderedDict([('Coordinate', ['21.317000', '6.009000', '3.400000'])]), OrderedDict([('Coordinate', ['21.317000', '6.009000', '0.000000'])]), OrderedDict([('Coordinate', ['21.317000', '8.158887', '0.000000'])])])])])]))])",
         "SpaceBoundary": "[OrderedDict([('@isSecondLevelBoundary', 'true'), ('@surfaceIdRef', 'surface-43'), ('PlanarGeometry', OrderedDict([('PolyLoop', OrderedDict([('CartesianPoint', [OrderedDict([('Coordinate', ['18.403681', '6.919988', '3.400000'])]), OrderedDict([('Coordinate', ['18.373681', '6.919988', '3.400000'])]), OrderedDict([('Coordinate', ['18.373681', '1.659988', '3.400000'])]), OrderedDict([('Coordinate', ['18.403681', '1.659769', '3.400000'])])])]))]))]), OrderedDict([('@isSecondLevelBoundary', 'true'), ('@surfaceIdRef', 'surface-114'), ('PlanarGeometry', OrderedDict([('PolyLoop', OrderedDict([('CartesianPoint', [OrderedDict([('Coordinate', ['21.956680', '6.008347', '3.400000'])]), OrderedDict([('Coordinate', ['21.317000', '6.009000', '3.400000'])]), OrderedDict([('Coordinate', ['21.317000', '8.158887', '3.400000'])]), OrderedDict([('Coordinate', ['19.023681', '8.158887', '3.400000'])]), OrderedDict([('Coordinate', ['19.023681', '6.919988', '3.400000'])]), OrderedDict([('Coordinate', ['18.403681', '6.919988', '3.400000'])]), OrderedDict([('Coordinate', ['18.403681', '1.659769', '3.400000'])]), OrderedDict([('Coordinate', ['19.023681', '1.655237', '3.400000'])]), OrderedDict([('Coordinate', ['21.956680', '1.655237', '3.400000'])])])]))]))]), OrderedDict([('@isSecondLevelBoundary', 'true'), ('@surfaceIdRef', 'surface-133'), ('PlanarGeometry', OrderedDict([('PolyLoop', OrderedDict([('CartesianPoint', [OrderedDict([('Coordinate', ['18.373681', '6.919988', '0.000000'])]), OrderedDict([('Coordinate', ['18.373681', '1.659988', '0.000000'])]), OrderedDict([('Coordinate', ['18.373681', '1.659988', '3.400000'])]), OrderedDict([('Coordinate', ['18.373681', '6.919988', '3.400000'])])])]))]))]), OrderedDict([('@isSecondLevelBoundary', 'true'), ('@surfaceIdRef', 'surface-135'), ('PlanarGeometry', OrderedDict([('PolyLoop', OrderedDict([('CartesianPoint', [OrderedDict([('Coordinate', ['19.023681', '1.655237', '0.000000'])]), OrderedDict([('Coordinate', ['21.956680', '1.655237', '0.000000'])]), OrderedDict([('Coordinate', ['21.956680', '1.655237', '3.400000'])]), OrderedDict([('Coordinate', ['19.023681', '1.655237', '3.400000'])])])]))]))]), OrderedDict([('@isSecondLevelBoundary', 'true'), ('@surfaceIdRef', 'surface-136'), ('PlanarGeometry', OrderedDict([('PolyLoop', OrderedDict([('CartesianPoint', [OrderedDict([('Coordinate', ['18.373681', '1.659988', '0.000000'])]), OrderedDict([('Coordinate', ['19.023681', '1.655237', '0.000000'])]), OrderedDict([('Coordinate', ['19.023681', '1.655237', '3.400000'])]), OrderedDict([('Coordinate', ['18.373681', '1.659988', '3.400000'])])])]))]))]), OrderedDict([('@isSecondLevelBoundary', 'true'), ('@surfaceIdRef', 'surface-139'), ('PlanarGeometry', OrderedDict([('PolyLoop', OrderedDict([('CartesianPoint', [OrderedDict([('Coordinate', ['19.023681', '6.919988', '-0.000000'])]), OrderedDict([('Coordinate', ['18.373681', '6.919988', '-0.000000'])]), OrderedDict([('Coordinate', ['18.373681', '6.919988', '3.400000'])]), OrderedDict([('Coordinate', ['19.023681', '6.919988', '3.400000'])])])]))]))]), OrderedDict([('@isSecondLevelBoundary', 'true'), ('@surfaceIdRef', 'surface-140'), ('PlanarGeometry', OrderedDict([('PolyLoop', OrderedDict([('CartesianPoint', [OrderedDict([('Coordinate', ['19.023681', '8.158887', '0.000000'])]), OrderedDict([('Coordinate', ['19.023681', '6.919988', '0.000000'])]), OrderedDict([('Coordinate', ['19.023681', '6.919988', '3.400000'])]), OrderedDict([('Coordinate', ['19.023681', '8.158887', '3.400000'])])])]))]))]), OrderedDict([('@isSecondLevelBoundary', 'true'), ('@surfaceIdRef', 'surface-142'), ('PlanarGeometry', OrderedDict([('PolyLoop', OrderedDict([('CartesianPoint', [OrderedDict([('Coordinate', ['21.317000', '8.158887', '0.000000'])]), OrderedDict([('Coordinate', ['19.023681', '8.158887', '0.000000'])]), OrderedDict([('Coordinate', ['19.023681', '8.158887', '3.400000'])]), OrderedDict([('Coordinate', ['21.317000', '8.158887', '3.400000'])])])]))]))]), OrderedDict([('@isSecondLevelBoundary', 'true'), ('@surfaceIdRef', 'surface-143'), ('PlanarGeometry', OrderedDict([('PolyLoop', OrderedDict([('CartesianPoint', [OrderedDict([('Coordinate', ['21.956680', '3.658000', '-0.000000'])]), OrderedDict([('Coordinate', ['21.956680', '5.510052', '-0.000000'])]), OrderedDict([('Coordinate', ['21.956680', '5.510052', '3.400000'])]), OrderedDict([('Coordinate', ['21.956680', '3.658000', '3.400000'])])])]))]))]), OrderedDict([('@isSecondLevelBoundary', 'true'), ('@surfaceIdRef', 'surface-144'), ('PlanarGeometry', OrderedDict([('PolyLoop', OrderedDict([('CartesianPoint', [OrderedDict([('Coordinate', ['21.956680', '5.510052', '-0.000000'])]), OrderedDict([('Coordinate', ['21.956680', '6.008347', '-0.000000'])]), OrderedDict([('Coordinate', ['21.956680', '6.008347', '3.400000'])]), OrderedDict([('Coordinate', ['21.956680', '5.510052', '3.400000'])])])]))]))]), OrderedDict([('@isSecondLevelBoundary', 'true'), ('@surfaceIdRef', 'surface-145'), ('PlanarGeometry', OrderedDict([('PolyLoop', OrderedDict([('CartesianPoint', [OrderedDict([('Coordinate', ['21.956680', '1.655237', '-0.000000'])]), OrderedDict([('Coordinate', ['21.956680', '3.658000', '-0.000000'])]), OrderedDict([('Coordinate', ['21.956680', '3.658000', '3.400000'])]), OrderedDict([('Coordinate', ['21.956680', '1.655237', '3.400000'])])])]))]))]), OrderedDict([('@isSecondLevelBoundary', 'true'), ('@surfaceIdRef', 'surface-146'), ('PlanarGeometry', OrderedDict([('PolyLoop', OrderedDict([('CartesianPoint', [OrderedDict([('Coordinate', ['21.317000', '6.009000', '0.000000'])]), OrderedDict([('Coordinate', ['21.956680', '6.008347', '0.000000'])]), OrderedDict([('Coordinate', ['21.956680', '1.655237', '0.000000'])]), OrderedDict([('Coordinate', ['19.023681', '1.655237', '0.000000'])]), OrderedDict([('Coordinate', ['18.373681', '1.659988', '0.000000'])]), OrderedDict([('Coordinate', ['18.373681', '6.919988', '0.000000'])]), OrderedDict([('Coordinate', ['19.023681', '6.919988', '0.000000'])]), OrderedDict([('Coordinate', ['19.023681', '8.158887', '0.000000'])]), OrderedDict([('Coordinate', ['21.317000', '8.158887', '0.000000'])])])]))]))]), OrderedDict([('@isSecondLevelBoundary', 'true'), ('@surfaceIdRef', 'surface-147'), ('PlanarGeometry', OrderedDict([('PolyLoop', OrderedDict([('CartesianPoint', [OrderedDict([('Coordinate', ['21.956680', '6.008347', '-0.000000'])]), OrderedDict([('Coordinate', ['21.317000', '6.009000', '-0.000000'])]), OrderedDict([('Coordinate', ['21.317000', '6.009000', '3.400000'])]), OrderedDict([('Coordinate', ['21.956680', '6.008347', '3.400000'])])])]))]))]), OrderedDict([('@isSecondLevelBoundary', 'true'), ('@surfaceIdRef', 'surface-148'), ('PlanarGeometry', OrderedDict([('PolyLoop', OrderedDict([('CartesianPoint', [OrderedDict([('Coordinate', ['21.317000', '6.009000', '-0.000000'])]), OrderedDict([('Coordinate', ['21.317000', '8.158887', '-0.000000'])]), OrderedDict([('Coordinate', ['21.317000', '8.158887', '3.400000'])]), OrderedDict([('Coordinate', ['21.317000', '6.009000', '3.400000'])])])]))]))])]",
         "SpaceId": "R3",
         "SpaceType": "Kitchen",
         "TM46Category": 3,
         "TypeCode": 0,
         "Volume": 71.809001,
         "id": "105_LiveseyExchange_heatpump-normal-fabric, A_00_03_R3_Kitchen",
         "index": 23,
         "model": "105_LiveseyExchange_heatpump-normal-fabric"
        },
        {
         "@buildingStoreyIdRef": "STOREY_1",
         "@conditionType": "HeatedAndCooled",
         "@id": "01000001",
         "@zoneIdRef": "ZONE_1",
         "Area": 1.375449,
         "BlockCode": "A",
         "CADObjectId": "01000001",
         "Level": 1,
         "Name": "A_01_06_XX_Riser",
         "ShellGeometry": "OrderedDict([('@id', '01000001-shellgeometry'), ('ClosedShell', OrderedDict([('PolyLoop', [OrderedDict([('CartesianPoint', [OrderedDict([('Coordinate', ['21.956680', '8.158887', '6.800000'])]), OrderedDict([('Coordinate', ['21.317000', '8.158887', '6.800000'])]), OrderedDict([('Coordinate', ['21.317000', '6.009000', '6.800000'])]), OrderedDict([('Coordinate', ['21.956680', '6.008347', '6.800000'])])])]), OrderedDict([('CartesianPoint', [OrderedDict([('Coordinate', ['21.956680', '6.008347', '0.000000'])]), OrderedDict([('Coordinate', ['21.317000', '6.009000', '0.000000'])]), OrderedDict([('Coordinate', ['21.317000', '8.158887', '0.000000'])]), OrderedDict([('Coordinate', ['21.956680', '8.158887', '0.000000'])])])]), OrderedDict([('CartesianPoint', [OrderedDict([('Coordinate', ['21.956680', '8.158887', '0.000000'])]), OrderedDict([('Coordinate', ['21.317000', '8.158887', '0.000000'])]), OrderedDict([('Coordinate', ['21.317000', '8.158887', '6.800000'])]), OrderedDict([('Coordinate', ['21.956680', '8.158887', '6.800000'])])])]), OrderedDict([('CartesianPoint', [OrderedDict([('Coordinate', ['21.956680', '6.008347', '0.000000'])]), OrderedDict([('Coordinate', ['21.956680', '8.158887', '0.000000'])]), OrderedDict([('Coordinate', ['21.956680', '8.158887', '6.800000'])]), OrderedDict([('Coordinate', ['21.956680', '6.008347', '6.800000'])])])]), OrderedDict([('CartesianPoint', [OrderedDict([('Coordinate', ['21.317000', '6.009000', '0.000000'])]), OrderedDict([('Coordinate', ['21.956680', '6.008347', '0.000000'])]), OrderedDict([('Coordinate', ['21.956680', '6.008347', '6.800000'])]), OrderedDict([('Coordinate', ['21.317000', '6.009000', '6.800000'])])])]), OrderedDict([('CartesianPoint', [OrderedDict([('Coordinate', ['21.317000', '8.158887', '0.000000'])]), OrderedDict([('Coordinate', ['21.317000', '6.009000', '0.000000'])]), OrderedDict([('Coordinate', ['21.317000', '6.009000', '6.800000'])]), OrderedDict([('Coordinate', ['21.317000', '8.158887', '6.800000'])])])])])]))])",
         "SpaceBoundary": "[OrderedDict([('@isSecondLevelBoundary', 'true'), ('@surfaceIdRef', 'surface-120'), ('PlanarGeometry', OrderedDict([('PolyLoop', OrderedDict([('CartesianPoint', [OrderedDict([('Coordinate', ['21.317000', '6.009000', '3.400000'])]), OrderedDict([('Coordinate', ['21.956680', '6.008347', '3.400000'])]), OrderedDict([('Coordinate', ['21.956680', '6.008347', '6.800000'])]), OrderedDict([('Coordinate', ['21.317000', '6.009000', '6.800000'])])])]))]))]), OrderedDict([('@isSecondLevelBoundary', 'true'), ('@surfaceIdRef', 'surface-121'), ('PlanarGeometry', OrderedDict([('PolyLoop', OrderedDict([('CartesianPoint', [OrderedDict([('Coordinate', ['21.317000', '8.158887', '3.400000'])]), OrderedDict([('Coordinate', ['21.317000', '6.009000', '3.400000'])]), OrderedDict([('Coordinate', ['21.317000', '6.009000', '6.800000'])]), OrderedDict([('Coordinate', ['21.317000', '8.158887', '6.800000'])])])]))]))]), OrderedDict([('@isSecondLevelBoundary', 'true'), ('@surfaceIdRef', 'surface-147'), ('PlanarGeometry', OrderedDict([('PolyLoop', OrderedDict([('CartesianPoint', [OrderedDict([('Coordinate', ['21.956680', '6.008347', '3.400000'])]), OrderedDict([('Coordinate', ['21.317000', '6.009000', '3.400000'])]), OrderedDict([('Coordinate', ['21.317000', '6.009000', '-0.000000'])]), OrderedDict([('Coordinate', ['21.956680', '6.008347', '-0.000000'])])])]))]))]), OrderedDict([('@isSecondLevelBoundary', 'true'), ('@surfaceIdRef', 'surface-148'), ('PlanarGeometry', OrderedDict([('PolyLoop', OrderedDict([('CartesianPoint', [OrderedDict([('Coordinate', ['21.317000', '6.009000', '3.400000'])]), OrderedDict([('Coordinate', ['21.317000', '8.158887', '3.400000'])]), OrderedDict([('Coordinate', ['21.317000', '8.158887', '-0.000000'])]), OrderedDict([('Coordinate', ['21.317000', '6.009000', '-0.000000'])])])]))]))]), OrderedDict([('@isSecondLevelBoundary', 'true'), ('@surfaceIdRef', 'surface-149'), ('PlanarGeometry', OrderedDict([('PolyLoop', OrderedDict([('CartesianPoint', [OrderedDict([('Coordinate', ['21.956680', '8.158887', '6.800000'])]), OrderedDict([('Coordinate', ['21.317000', '8.158887', '6.800000'])]), OrderedDict([('Coordinate', ['21.317000', '6.009000', '6.800000'])]), OrderedDict([('Coordinate', ['21.956680', '6.008347', '6.800000'])])])]))]))]), OrderedDict([('@isSecondLevelBoundary', 'true'), ('@surfaceIdRef', 'surface-150'), ('PlanarGeometry', OrderedDict([('PolyLoop', OrderedDict([('CartesianPoint', [OrderedDict([('Coordinate', ['21.956680', '6.008347', '0.000000'])]), OrderedDict([('Coordinate', ['21.317000', '6.009000', '0.000000'])]), OrderedDict([('Coordinate', ['21.317000', '8.158887', '0.000000'])]), OrderedDict([('Coordinate', ['21.956680', '8.158887', '0.000000'])])])]))]))]), OrderedDict([('@isSecondLevelBoundary', 'true'), ('@surfaceIdRef', 'surface-151'), ('PlanarGeometry', OrderedDict([('PolyLoop', OrderedDict([('CartesianPoint', [OrderedDict([('Coordinate', ['21.956680', '8.158887', '0.000000'])]), OrderedDict([('Coordinate', ['21.317000', '8.158887', '0.000000'])]), OrderedDict([('Coordinate', ['21.317000', '8.158887', '6.800000'])]), OrderedDict([('Coordinate', ['21.956680', '8.158887', '6.800000'])])])]))]))]), OrderedDict([('@isSecondLevelBoundary', 'true'), ('@surfaceIdRef', 'surface-152'), ('PlanarGeometry', OrderedDict([('PolyLoop', OrderedDict([('CartesianPoint', [OrderedDict([('Coordinate', ['21.956680', '6.008347', '-0.000000'])]), OrderedDict([('Coordinate', ['21.956680', '8.158000', '-0.000000'])]), OrderedDict([('Coordinate', ['21.956680', '8.158000', '3.400000'])]), OrderedDict([('Coordinate', ['21.956680', '6.008347', '3.400000'])])])]))]))]), OrderedDict([('@isSecondLevelBoundary', 'true'), ('@surfaceIdRef', 'surface-153'), ('PlanarGeometry', OrderedDict([('PolyLoop', OrderedDict([('CartesianPoint', [OrderedDict([('Coordinate', ['21.956680', '6.008347', '3.400000'])]), OrderedDict([('Coordinate', ['21.956680', '8.158000', '3.400000'])]), OrderedDict([('Coordinate', ['21.956680', '8.158000', '-0.000000'])]), OrderedDict([('Coordinate', ['21.956680', '8.158887', '-0.000000'])]), OrderedDict([('Coordinate', ['21.956680', '8.158887', '6.800000'])]), OrderedDict([('Coordinate', ['21.956680', '6.008347', '6.800000'])])])]))]))])]",
         "SpaceId": "XX",
         "SpaceType": "Riser",
         "TM46Category": 6,
         "TypeCode": 0,
         "Volume": 9.35305,
         "id": "105_LiveseyExchange_heatpump-normal-fabric, A_01_06_XX_Riser",
         "index": 24,
         "model": "105_LiveseyExchange_heatpump-normal-fabric"
        }
       ],
       "_grid_options_mono_down": "{\"enableSorting\": true, \"enableFilter\": true, \"enableColResize\": true, \"enableRangeSelection\": true, \"columnDefs\": [{\"field\": \"index\", \"type\": \"numberColumn\", \"headerName\": \"Index\"}, {\"field\": \"@id\", \"type\": \"textColumn\", \"headerName\": \"@Id\"}, {\"field\": \"@zoneIdRef\", \"type\": \"textColumn\", \"headerName\": \"@Zoneidref\"}, {\"field\": \"@conditionType\", \"type\": \"textColumn\", \"headerName\": \"@Conditiontype\"}, {\"field\": \"@buildingStoreyIdRef\", \"type\": \"textColumn\", \"headerName\": \"@Buildingstoreyidref\"}, {\"field\": \"Name\", \"type\": \"textColumn\", \"headerName\": \"Name\"}, {\"field\": \"Area\", \"type\": \"numberColumn\", \"headerName\": \"Area\"}, {\"field\": \"Volume\", \"type\": \"numberColumn\", \"headerName\": \"Volume\"}, {\"field\": \"CADObjectId\", \"type\": \"textColumn\", \"headerName\": \"Cadobjectid\"}, {\"field\": \"TypeCode\", \"type\": \"numberColumn\", \"headerName\": \"Typecode\"}, {\"field\": \"ShellGeometry\", \"type\": \"textColumn\", \"headerName\": \"Shellgeometry\"}, {\"field\": \"SpaceBoundary\", \"type\": \"textColumn\", \"headerName\": \"Spaceboundary\"}, {\"field\": \"BlockCode\", \"type\": \"textColumn\", \"headerName\": \"Blockcode\"}, {\"field\": \"Level\", \"type\": \"numberColumn\", \"headerName\": \"Level\"}, {\"field\": \"TM46Category\", \"type\": \"numberColumn\", \"headerName\": \"Tm46Category\"}, {\"field\": \"SpaceId\", \"type\": \"textColumn\", \"headerName\": \"Spaceid\"}, {\"field\": \"SpaceType\", \"type\": \"textColumn\", \"headerName\": \"Spacetype\"}, {\"field\": \"model\", \"type\": \"textColumn\", \"headerName\": \"Model\"}, {\"field\": \"id\", \"type\": \"textColumn\", \"headerName\": \"Id\"}], \"columnTypes\": {\"numberColumn\": {\"filter\": \"agNumberColumnFilter\"}, \"textColumn\": {\"filter\": \"agTextColumnFilter\"}, \"dateColumn\": {\"valueFormatter\": \"helpers.dateFormatter\", \"filter\": \"agDateColumnFilter\", \"filterParams\": {\"comparator\": \"helpers.compareDates\"}}}}",
       "_id": 456774181,
       "_js_helpers_builtin": "helpersBuiltin = {\n    dateFormatter: function(node) {\n        // make sure date is not undefined\n        if (node && node.value) {\n            let d = new Date(node.value);\n            let h = d.getHours();\n            let m = d.getMinutes();\n            let s = d.getSeconds();\n            const offset = d.getTimezoneOffset() * 60000;\n            d = new Date(d.getTime() - offset);\n            const ymd = d.toISOString().substring(0, 10);\n            if (h === 0 && m === 0 && s === 0) {\n                return ymd;\n            }\n            if (h === 0) h = '00';\n            if (m === 0) m = '00';\n            if (s === 0) s = '00';\n            return `${ymd} ${h}:${m}:${s}`;\n        }\n        return null;\n    },\n\n    formatInt: d3.format(',.0f'),\n    formatFloat: d3.format(',.2f'),\n\n    intFormatter: function(node) {\n        return formatInt(node.value);\n    },\n\n    floatFormatter: function(node) {\n        return formatFloat(node.value);\n    },\n\n    compareDates: function(filterLocalDate, cellValue) {\n        // Assume dates are stored as iso\n        const cellDate = new Date(cellValue);\n\n        if (cellDate < filterLocalDate) {\n            return -1;\n        } else if (cellDate > filterLocalDate) {\n            return 1;\n        }\n        return 0;\n    },\n\n    sizeToFit: function(gridOptions) {\n        gridOptions.api.sizeColumnsToFit();\n    },\n\n    autoSizeAll: function(gridOptions) {\n        const allColumnIds = [];\n        gridOptions.columnApi.getAllColumns().forEach(column => {\n            allColumnIds.push(column.colId);\n        });\n        gridOptions.columnApi.autoSizeColumns(allColumnIds);\n    },\n\n    /**\n     * Exporting data to CSV using ag-Grid api.\n     * @param {Object} gridOptions\n     */\n    exportToCsv: function(gridOptions) {\n        const params = {\n            skipHeader: false,\n            columnGroups: true,\n            skipFooters: false,\n            skipGroups: false,\n            skipPinnedTop: false,\n            skipPinnedBottom: false,\n            allColumns: true,\n            onlySelected: false,\n            suppressQuotes: true,\n            fileName: 'my_file.csv',\n            sheetName: 'my_sheet',\n            shouldRowBeSkipped: () => false,\n            processCellCallback: param => param.value,\n            processHeaderCallback: null,\n        };\n        gridOptions.api.exportDataAsCsv(params);\n    },\n\n    /**\n     * Exporting data to Excel using ag-Grid api.\n     * @param {Object} gridOptions\n     */\n    exportToExcel: function(gridOptions) {\n        const params = {\n            skipHeader: false,\n            columnGroups: true,\n            skipFooters: false,\n            skipGroups: false,\n            skipPinnedTop: false,\n            skipPinnedBottom: false,\n            allColumns: true,\n            onlySelected: false,\n            suppressQuotes: true,\n            fileName: 'my_file.xls',\n            sheetName: 'my_sheet',\n            shouldRowBeSkipped: () => false, // TODO : check\n            processCellCallback: param => param.value,\n            processHeaderCallback: null,\n        };\n        gridOptions.api.exportDataAsExcel(params);\n    },\n};\n",
       "columns_fit": "size_to_fit",
       "compress_data": true,
       "export_mode": "disabled",
       "height": "350px",
       "js_helpers": "{\"dateFormatter\":\"function(node) {\\n        // make sure date is not undefined\\n        if (node && node.value) {\\n            let d = new Date(node.value);\\n            let h = d.getHours();\\n            let m = d.getMinutes();\\n            let s = d.getSeconds();\\n            const offset = d.getTimezoneOffset() * 60000;\\n            d = new Date(d.getTime() - offset);\\n            const ymd = d.toISOString().substring(0, 10);\\n            if (h === 0 && m === 0 && s === 0) {\\n                return ymd;\\n            }\\n            if (h === 0) h = '00';\\n            if (m === 0) m = '00';\\n            if (s === 0) s = '00';\\n            return `${ymd} ${h}:${m}:${s}`;\\n        }\\n        return null;\\n    }\",\"formatInt\":\" >-,.0f\",\"formatFloat\":\" >-,.2f\",\"intFormatter\":\"function(node) {\\n        return formatInt(node.value);\\n    }\",\"floatFormatter\":\"function(node) {\\n        return formatFloat(node.value);\\n    }\",\"compareDates\":\"function(filterLocalDate, cellValue) {\\n        // Assume dates are stored as iso\\n        const cellDate = new Date(cellValue);\\n\\n        if (cellDate < filterLocalDate) {\\n            return -1;\\n        } else if (cellDate > filterLocalDate) {\\n            return 1;\\n        }\\n        return 0;\\n    }\",\"sizeToFit\":\"function(gridOptions) {\\n        gridOptions.api.sizeColumnsToFit();\\n    }\",\"autoSizeAll\":\"function(gridOptions) {\\n        const allColumnIds = [];\\n        gridOptions.columnApi.getAllColumns().forEach(column => {\\n            allColumnIds.push(column.colId);\\n        });\\n        gridOptions.columnApi.autoSizeColumns(allColumnIds);\\n    }\",\"exportToCsv\":\"function(gridOptions) {\\n        const params = {\\n            skipHeader: false,\\n            columnGroups: true,\\n            skipFooters: false,\\n            skipGroups: false,\\n            skipPinnedTop: false,\\n            skipPinnedBottom: false,\\n            allColumns: true,\\n            onlySelected: false,\\n            suppressQuotes: true,\\n            fileName: 'my_file.csv',\\n            sheetName: 'my_sheet',\\n            shouldRowBeSkipped: () => false,\\n            processCellCallback: param => param.value,\\n            processHeaderCallback: null,\\n        };\\n        gridOptions.api.exportDataAsCsv(params);\\n    }\",\"exportToExcel\":\"function(gridOptions) {\\n        const params = {\\n            skipHeader: false,\\n            columnGroups: true,\\n            skipFooters: false,\\n            skipGroups: false,\\n            skipPinnedTop: false,\\n            skipPinnedBottom: false,\\n            allColumns: true,\\n            onlySelected: false,\\n            suppressQuotes: true,\\n            fileName: 'my_file.xls',\\n            sheetName: 'my_sheet',\\n            shouldRowBeSkipped: () => false, // TODO : check\\n            processCellCallback: param => param.value,\\n            processHeaderCallback: null,\\n        };\\n        gridOptions.api.exportDataAsExcel(params);\\n    }\"}",
       "layout": "IPY_MODEL_eb7184b1694e4502847e58472a822afd",
       "menu": {
        "button_div_css": ".flex-button-div-456774181 {\ndisplay: flex;\njustify-content: flex-start;\nalign-items: flex-start;\nalign-content: flex-start;\nflex-flow: row wrap;\n}\n",
        "buttons": [],
        "input_div_css": ".flex-input-div-456774181 {\ndisplay: flex;\njustify-content: flex-start;\nalign-items: baseline;\nalign-content: flex-start;\nflex-flow: row wrap;\n}\n",
        "inputs": [
         {
          "css": ".flex-child-quick-filter-456774181 {\norder: 0;\nalign-self: auto;\nmargin: 5px;\nflex: 0.00 1.00 auto;\nwidth: 150px;\n}\n",
          "name": "Quick Filter"
         }
        ],
        "menu_div_css": ".flex-menu-div-456774181 {\ndisplay: flex;\njustify-content: flex-start;\nalign-items: flex-start;\nalign-content: flex-start;\nflex-flow: row wrap;\n}\n"
       },
       "theme": "ag-theme-balham",
       "width": "100%"
      }
     },
     "57bee27fdf3d4f3ca0b8a0418853aba8": {
      "model_module": "@jupyter-widgets/controls",
      "model_module_version": "1.5.0",
      "model_name": "LabelModel",
      "state": {
       "layout": "IPY_MODEL_cb82ccc47ef04ccc850b81af950b4ec9",
       "style": "IPY_MODEL_5fdc68bd538144c4b5eb182835b4dc20",
       "value": "Wind Coeff. / Mech. flowrate (m³/s)"
      }
     },
     "57bf907091f0425983b5c9cf815e2434": {
      "model_module": "@jupyter-widgets/controls",
      "model_module_version": "1.5.0",
      "model_name": "SliderStyleModel",
      "state": {
       "description_width": ""
      }
     },
     "58406bd771594762a11bdd6cd88913e0": {
      "model_module": "@jupyter-widgets/base",
      "model_module_version": "1.2.0",
      "model_name": "LayoutModel",
      "state": {}
     },
     "5877f92604fe440fa6b99006461f63bf": {
      "model_module": "@jupyter-widgets/controls",
      "model_module_version": "1.5.0",
      "model_name": "ButtonModel",
      "state": {
       "description": "Remove Opening",
       "layout": "IPY_MODEL_bc085a90a4164c1e87145586998e9f1e",
       "style": "IPY_MODEL_2982727b006c4c1eaec1e79b40c137d7"
      }
     },
     "589a3de3d8104e54b77e5da92d6e0e72": {
      "model_module": "@jupyter-widgets/controls",
      "model_module_version": "1.5.0",
      "model_name": "VBoxModel",
      "state": {
       "children": [
        "IPY_MODEL_c83f8103d53848feb2945bc6a053a4ee",
        "IPY_MODEL_f16bed111d5247a180a3157e2e7b4f8d",
        "IPY_MODEL_2bcdcb6935b94515af598264c9ef6c75",
        "IPY_MODEL_1ad33733e3a94d20b1013038af7f6bd3",
        "IPY_MODEL_84d77e0ceb01430f818bd881227d06a3",
        "IPY_MODEL_bf69e9d592074e22af4badf5ea4de122",
        "IPY_MODEL_18bc24b7315747f6820a6b805199132e"
       ],
       "layout": "IPY_MODEL_685bd0e46fc245d5a878953ef0831492"
      }
     },
     "59dbc728f54d43d2b969e4c9f949d2db": {
      "model_module": "@jupyter-widgets/base",
      "model_module_version": "1.2.0",
      "model_name": "LayoutModel",
      "state": {}
     },
     "59e0e1d2cdc546d88705b24025f61ab8": {
      "model_module": "@jupyter-widgets/base",
      "model_module_version": "1.2.0",
      "model_name": "LayoutModel",
      "state": {}
     },
     "5a7a6735ed3a48ec869ad2b69385c30f": {
      "buffers": [
       {
        "data": "H4sIAAAAAAACA+1ZbU/iQBD+K6T3AU2K15aXFj/pCRoiRw3g9RLSkLVdYOOy5bat4hn/++0LICfQ81jPqIck0uzQeeaZmU6fbu+1IUWhdnivhSAB2mGvZ+hap1vrn9QbTU3XKpWKnWuQBFICcO4EIozI8PMpjiLKrC4NIYVhDQXJXm8vf5QSlOT1XN67gLTzIwUUfoXs1PP8vp7by39K4FSYzQPDqZRtM7/v7zMvGNxBWuCgNddtazozV3XNNMr9JrqBMbyrT4MRIEPYH0GQTNLxpEAiOga4MABXFAWaTlKMH//5es+UJKQ/SaKmFLJ1YBn8b0PIzKwYsSUjPm265jzi+nQSxTDMKWbbODBLGaFzs2LsRRn7xXG7u9IyF4AmKEERUWkX23HscmVju9iq7VKSBNquezon0I6iwVvOeVmG7B03l/pllnMPYKwUu5Mdu6MYe0XXLlvnLddr9d0LBnFJrkl0S3JBROKEpsGsXQhYAy/8qMHbMnX1713rsdohDABrVgJxrJI627RK1VmnCky+9Hfxar2n6CjkzucxF2RKTIndAmPIrT1p9kw/56YsNMFF/qQ7QsE1gXHMfreJmKATr9AxjMqsE4SlDQcYBgkgAcfsbXJ2SoGooXR3lNxNRIisPzsRBnS2HKd0AALYnVnNVfDyvA03x70Bio2fDChrBaokLtetoBirbyhGVxg+m5etwisTzMoA82UzUEDiMUq2LWJGWr9EyWgF3yoXtyWbyXQtmO38TrauQJTVtdF+bkmdoq1Q0k04a6pZshYE12GtnRTFNZOi0fJ8dpMmH2NQ2NZrDQoFqN2g+MO1uxsULzcoHnHEZ42kWTsqZo6OhoDPgPwxouqTwZxfMVJPPjn9+CqO6GSe++1Tv1zcxZOanEWFG4DTLO/Lio4JPG9VEFdsw1lwYBLSWUhIby4hOzBIKUrucmcY/GQPySrPO07JdIrmkorkSy+qIr1sFWl9HBVpGq+mIhWgdjeHzHldrlb/h5tDyXh7KtLLVpHmB5KRpr2bFO99UlS3z+xORqrKSO9fysjyu5eRRompyEcZ6esaIiGc9ml0G/NXMITNVnbQ0xp8melMTUDG4rUMf6vB3xPw/Xa+Zc33gPleKt/Q5IrU9x/m/oIIp2MiTpMrXLJqrFTim09wcXApGYnjJq9bI1xe7z+VqcI4jkKIxRHXufLkMzAR3yy93LX/8PALXAbf7VcaAAA=",
        "encoding": "base64",
        "path": [
         "_grid_data_up"
        ]
       }
      ],
      "model_module": "ipyaggrid",
      "model_module_version": "~0.2.1",
      "model_name": "AgGridModel",
      "state": {
       "_grid_data_down": [
        {
         "@id": "STD_CEIL",
         "Frame": null,
         "Gap": null,
         "Glaze": null,
         "LayerId": "layer-STD_DOOR",
         "Name": "6667 Internal Ceiling/Floor",
         "U-value": "OrderedDict([('@unit', 'WPerSquareMeterK'), ('#text', '1.086571')])",
         "U-value_WPerSquareMeterK": 1.09,
         "index": 0,
         "model": "105_LiveseyExchange_heatpump-normal-fabric"
        },
        {
         "@id": "STD_DOOR",
         "Frame": null,
         "Gap": null,
         "Glaze": null,
         "LayerId": "layer-STD_DOOR",
         "Name": "6667 Door",
         "U-value": "OrderedDict([('@unit', 'WPerSquareMeterK'), ('#text', '2.200000')])",
         "U-value_WPerSquareMeterK": 2.2,
         "index": 1,
         "model": "105_LiveseyExchange_heatpump-normal-fabric"
        },
        {
         "@id": "STD_FLO1",
         "Frame": null,
         "Gap": null,
         "Glaze": null,
         "LayerId": "layer-STD_DOOR",
         "Name": "6667 Exposed Floor",
         "U-value": "OrderedDict([('@unit', 'WPerSquareMeterK'), ('#text', '0.140000')])",
         "U-value_WPerSquareMeterK": 0.14,
         "index": 2,
         "model": "105_LiveseyExchange_heatpump-normal-fabric"
        },
        {
         "@id": "STD_PART",
         "Frame": null,
         "Gap": null,
         "Glaze": null,
         "LayerId": "layer-STD_DOOR",
         "Name": "6667 Internal Partition",
         "U-value": "OrderedDict([('@unit', 'WPerSquareMeterK'), ('#text', '1.788756')])",
         "U-value_WPerSquareMeterK": 1.79,
         "index": 3,
         "model": "105_LiveseyExchange_heatpump-normal-fabric"
        },
        {
         "@id": "STD_ROOF",
         "Frame": null,
         "Gap": null,
         "Glaze": null,
         "LayerId": "layer-STD_DOOR",
         "Name": "6667 Roof",
         "U-value": "OrderedDict([('@unit', 'WPerSquareMeterK'), ('#text', '0.140000')])",
         "U-value_WPerSquareMeterK": 0.14,
         "index": 4,
         "model": "105_LiveseyExchange_heatpump-normal-fabric"
        },
        {
         "@id": "STD_WAL1",
         "Frame": null,
         "Gap": null,
         "Glaze": null,
         "LayerId": "layer-STD_DOOR",
         "Name": "6667 External Wall",
         "U-value": "OrderedDict([('@unit', 'WPerSquareMeterK'), ('#text', '0.180000')])",
         "U-value_WPerSquareMeterK": 0.18,
         "index": 5,
         "model": "105_LiveseyExchange_heatpump-normal-fabric"
        },
        {
         "@id": "UNKNOWN_OP",
         "Frame": null,
         "Gap": null,
         "Glaze": null,
         "LayerId": "layer-STD_DOOR",
         "Name": "Unknown construction",
         "U-value": "na",
         "U-value_WPerSquareMeterK": null,
         "index": 6,
         "model": "105_LiveseyExchange_heatpump-normal-fabric"
        },
        {
         "@id": "STD_EXT2",
         "Frame": "OrderedDict([('Absorptance', OrderedDict([('@unit', 'Fraction'), ('@type', 'ExtIR'), ('#text', '0.700000')])), ('R-value', OrderedDict([('@unit', 'SquareMeterKPerW'), ('#text', '0.167080')]))])",
         "Gap": "OrderedDict([('@id', 'STD_EXT2-layer-2'), ('@gas', 'Air'), ('Thickness', OrderedDict([('@unit', 'Meters'), ('#text', '0.012000')]))])",
         "Glaze": "[OrderedDict([('@id', 'STD_EXT2-layer-1'), ('Name', '[STD_EXW1] Outer Pane'), ('Thickness', OrderedDict([('@unit', 'Meters'), ('#text', '0.006000')])), ('Reflectance', [OrderedDict([('@unit', 'Fraction'), ('@type', 'ExtSolar'), ('@surfaceType', '1'), ('#text', '0.050000')]), OrderedDict([('@unit', 'Fraction'), ('@type', 'IntSolar'), ('@surfaceType', '2'), ('#text', '0.414000')]), OrderedDict([('@unit', 'Fraction'), ('@type', 'ExtVisible'), ('@surfaceType', '1'), ('#text', '0.070000')]), OrderedDict([('@unit', 'Fraction'), ('@type', 'IntVisible'), ('@surfaceType', '2'), ('#text', '0.070000')])]), ('Transmittance', [OrderedDict([('@unit', 'Fraction'), ('@type', 'Solar'), ('@surfaceType', 'Both'), ('#text', '0.253000')]), OrderedDict([('@unit', 'Fraction'), ('@type', 'Visible'), ('@surfaceType', 'Both'), ('#text', '0.780000')])]), ('Emittance', [OrderedDict([('@unit', 'Fraction'), ('@type', 'ExtIR'), ('@surfaceType', '1'), ('#text', '0.837000')]), OrderedDict([('@unit', 'Fraction'), ('@type', 'IntIR'), ('@surfaceType', '2'), ('#text', '0.042000')])])]), OrderedDict([('@id', 'STD_EXT2-layer-3'), ('Name', '[STD_INW] Inner Pane'), ('Thickness', OrderedDict([('@unit', 'Meters'), ('#text', '0.006000')])), ('Reflectance', [OrderedDict([('@unit', 'Fraction'), ('@type', 'ExtSolar'), ('@surfaceType', '1'), ('#text', '0.072000')]), OrderedDict([('@unit', 'Fraction'), ('@type', 'IntSolar'), ('@surfaceType', '2'), ('#text', '0.072000')]), OrderedDict([('@unit', 'Fraction'), ('@type', 'ExtVisible'), ('@surfaceType', '1'), ('#text', '0.070000')]), OrderedDict([('@unit', 'Fraction'), ('@type', 'IntVisible'), ('@surfaceType', '2'), ('#text', '0.070000')])]), ('Transmittance', [OrderedDict([('@unit', 'Fraction'), ('@type', 'Solar'), ('@surfaceType', 'Both'), ('#text', '0.783000')]), OrderedDict([('@unit', 'Fraction'), ('@type', 'Visible'), ('@surfaceType', 'Both'), ('#text', '0.780000')])]), ('Emittance', [OrderedDict([('@unit', 'Fraction'), ('@type', 'ExtIR'), ('@surfaceType', '1'), ('#text', '0.837000')]), OrderedDict([('@unit', 'Fraction'), ('@type', 'IntIR'), ('@surfaceType', '2'), ('#text', '0.837000')])])])]",
         "LayerId": null,
         "Name": "6667 Rodeca Panels",
         "U-value": "OrderedDict([('@unit', 'WPerSquareMeterK'), ('#text', '0.712496')])",
         "U-value_WPerSquareMeterK": 0.71,
         "index": 7,
         "model": "105_LiveseyExchange_heatpump-normal-fabric"
        },
        {
         "@id": "STD_EXTW",
         "Frame": "OrderedDict([('Absorptance', OrderedDict([('@unit', 'Fraction'), ('@type', 'ExtIR'), ('#text', '0.700000')])), ('R-value', OrderedDict([('@unit', 'SquareMeterKPerW'), ('#text', '0.040800')]))])",
         "Gap": "OrderedDict([('@id', 'STD_EXTW-layer-2'), ('@gas', 'Air'), ('Thickness', OrderedDict([('@unit', 'Meters'), ('#text', '0.015000')]))])",
         "Glaze": "[OrderedDict([('@id', 'STD_EXTW-layer-1'), ('Name', '[STD_EXW2] Outer Pane'), ('Thickness', OrderedDict([('@unit', 'Meters'), ('#text', '0.006000')])), ('Reflectance', [OrderedDict([('@unit', 'Fraction'), ('@type', 'ExtSolar'), ('@surfaceType', '1'), ('#text', '0.100000')]), OrderedDict([('@unit', 'Fraction'), ('@type', 'IntSolar'), ('@surfaceType', '2'), ('#text', '0.100000')]), OrderedDict([('@unit', 'Fraction'), ('@type', 'ExtVisible'), ('@surfaceType', '1'), ('#text', '0.070000')]), OrderedDict([('@unit', 'Fraction'), ('@type', 'IntVisible'), ('@surfaceType', '2'), ('#text', '0.070000')])]), ('Transmittance', [OrderedDict([('@unit', 'Fraction'), ('@type', 'Solar'), ('@surfaceType', 'Both'), ('#text', '0.599000')]), OrderedDict([('@unit', 'Fraction'), ('@type', 'Visible'), ('@surfaceType', 'Both'), ('#text', '0.780000')])]), ('Emittance', [OrderedDict([('@unit', 'Fraction'), ('@type', 'ExtIR'), ('@surfaceType', '1'), ('#text', '0.840000')]), OrderedDict([('@unit', 'Fraction'), ('@type', 'IntIR'), ('@surfaceType', '2'), ('#text', '0.042000')])])]), OrderedDict([('@id', 'STD_EXTW-layer-3'), ('Name', '[STD_INW1] Inner Pane'), ('Thickness', OrderedDict([('@unit', 'Meters'), ('#text', '0.006000')])), ('Reflectance', [OrderedDict([('@unit', 'Fraction'), ('@type', 'ExtSolar'), ('@surfaceType', '1'), ('#text', '0.017000')]), OrderedDict([('@unit', 'Fraction'), ('@type', 'IntSolar'), ('@surfaceType', '2'), ('#text', '0.100000')]), OrderedDict([('@unit', 'Fraction'), ('@type', 'ExtVisible'), ('@surfaceType', '1'), ('#text', '0.070000')]), OrderedDict([('@unit', 'Fraction'), ('@type', 'IntVisible'), ('@surfaceType', '2'), ('#text', '0.070000')])]), ('Transmittance', [OrderedDict([('@unit', 'Fraction'), ('@type', 'Solar'), ('@surfaceType', 'Both'), ('#text', '0.900000')]), OrderedDict([('@unit', 'Fraction'), ('@type', 'Visible'), ('@surfaceType', 'Both'), ('#text', '0.780000')])]), ('Emittance', [OrderedDict([('@unit', 'Fraction'), ('@type', 'ExtIR'), ('@surfaceType', '1'), ('#text', '0.837000')]), OrderedDict([('@unit', 'Fraction'), ('@type', 'IntIR'), ('@surfaceType', '2'), ('#text', '0.837000')])])])]",
         "LayerId": null,
         "Name": "6667 Security Glazing",
         "U-value": "OrderedDict([('@unit', 'WPerSquareMeterK'), ('#text', '1.841831')])",
         "U-value_WPerSquareMeterK": 1.84,
         "index": 8,
         "model": "105_LiveseyExchange_heatpump-normal-fabric"
        }
       ],
       "_grid_options_mono_down": "{\"enableSorting\": true, \"enableFilter\": true, \"enableColResize\": true, \"enableRangeSelection\": true, \"columnDefs\": [{\"field\": \"index\", \"type\": \"numberColumn\", \"headerName\": \"Index\"}, {\"field\": \"@id\", \"type\": \"textColumn\", \"headerName\": \"@Id\"}, {\"field\": \"Name\", \"type\": \"textColumn\", \"headerName\": \"Name\"}, {\"field\": \"U-value\", \"type\": \"textColumn\", \"headerName\": \"U-Value\"}, {\"field\": \"LayerId\", \"type\": \"textColumn\", \"headerName\": \"Layerid\"}, {\"field\": \"U-value_WPerSquareMeterK\", \"type\": \"numberColumn\", \"headerName\": \"U-Value_Wpersquaremeterk\"}, {\"field\": \"model\", \"type\": \"textColumn\", \"headerName\": \"Model\"}, {\"field\": \"Glaze\", \"type\": \"textColumn\", \"headerName\": \"Glaze\"}, {\"field\": \"Gap\", \"type\": \"textColumn\", \"headerName\": \"Gap\"}, {\"field\": \"Frame\", \"type\": \"textColumn\", \"headerName\": \"Frame\"}], \"columnTypes\": {\"numberColumn\": {\"filter\": \"agNumberColumnFilter\"}, \"textColumn\": {\"filter\": \"agTextColumnFilter\"}, \"dateColumn\": {\"valueFormatter\": \"helpers.dateFormatter\", \"filter\": \"agDateColumnFilter\", \"filterParams\": {\"comparator\": \"helpers.compareDates\"}}}}",
       "_id": 542198878,
       "_js_helpers_builtin": "helpersBuiltin = {\n    dateFormatter: function(node) {\n        // make sure date is not undefined\n        if (node && node.value) {\n            let d = new Date(node.value);\n            let h = d.getHours();\n            let m = d.getMinutes();\n            let s = d.getSeconds();\n            const offset = d.getTimezoneOffset() * 60000;\n            d = new Date(d.getTime() - offset);\n            const ymd = d.toISOString().substring(0, 10);\n            if (h === 0 && m === 0 && s === 0) {\n                return ymd;\n            }\n            if (h === 0) h = '00';\n            if (m === 0) m = '00';\n            if (s === 0) s = '00';\n            return `${ymd} ${h}:${m}:${s}`;\n        }\n        return null;\n    },\n\n    formatInt: d3.format(',.0f'),\n    formatFloat: d3.format(',.2f'),\n\n    intFormatter: function(node) {\n        return formatInt(node.value);\n    },\n\n    floatFormatter: function(node) {\n        return formatFloat(node.value);\n    },\n\n    compareDates: function(filterLocalDate, cellValue) {\n        // Assume dates are stored as iso\n        const cellDate = new Date(cellValue);\n\n        if (cellDate < filterLocalDate) {\n            return -1;\n        } else if (cellDate > filterLocalDate) {\n            return 1;\n        }\n        return 0;\n    },\n\n    sizeToFit: function(gridOptions) {\n        gridOptions.api.sizeColumnsToFit();\n    },\n\n    autoSizeAll: function(gridOptions) {\n        const allColumnIds = [];\n        gridOptions.columnApi.getAllColumns().forEach(column => {\n            allColumnIds.push(column.colId);\n        });\n        gridOptions.columnApi.autoSizeColumns(allColumnIds);\n    },\n\n    /**\n     * Exporting data to CSV using ag-Grid api.\n     * @param {Object} gridOptions\n     */\n    exportToCsv: function(gridOptions) {\n        const params = {\n            skipHeader: false,\n            columnGroups: true,\n            skipFooters: false,\n            skipGroups: false,\n            skipPinnedTop: false,\n            skipPinnedBottom: false,\n            allColumns: true,\n            onlySelected: false,\n            suppressQuotes: true,\n            fileName: 'my_file.csv',\n            sheetName: 'my_sheet',\n            shouldRowBeSkipped: () => false,\n            processCellCallback: param => param.value,\n            processHeaderCallback: null,\n        };\n        gridOptions.api.exportDataAsCsv(params);\n    },\n\n    /**\n     * Exporting data to Excel using ag-Grid api.\n     * @param {Object} gridOptions\n     */\n    exportToExcel: function(gridOptions) {\n        const params = {\n            skipHeader: false,\n            columnGroups: true,\n            skipFooters: false,\n            skipGroups: false,\n            skipPinnedTop: false,\n            skipPinnedBottom: false,\n            allColumns: true,\n            onlySelected: false,\n            suppressQuotes: true,\n            fileName: 'my_file.xls',\n            sheetName: 'my_sheet',\n            shouldRowBeSkipped: () => false, // TODO : check\n            processCellCallback: param => param.value,\n            processHeaderCallback: null,\n        };\n        gridOptions.api.exportDataAsExcel(params);\n    },\n};\n",
       "columns_fit": "size_to_fit",
       "compress_data": true,
       "export_mode": "disabled",
       "height": "350px",
       "js_helpers": "{\"dateFormatter\":\"function(node) {\\n        // make sure date is not undefined\\n        if (node && node.value) {\\n            let d = new Date(node.value);\\n            let h = d.getHours();\\n            let m = d.getMinutes();\\n            let s = d.getSeconds();\\n            const offset = d.getTimezoneOffset() * 60000;\\n            d = new Date(d.getTime() - offset);\\n            const ymd = d.toISOString().substring(0, 10);\\n            if (h === 0 && m === 0 && s === 0) {\\n                return ymd;\\n            }\\n            if (h === 0) h = '00';\\n            if (m === 0) m = '00';\\n            if (s === 0) s = '00';\\n            return `${ymd} ${h}:${m}:${s}`;\\n        }\\n        return null;\\n    }\",\"formatInt\":\" >-,.0f\",\"formatFloat\":\" >-,.2f\",\"intFormatter\":\"function(node) {\\n        return formatInt(node.value);\\n    }\",\"floatFormatter\":\"function(node) {\\n        return formatFloat(node.value);\\n    }\",\"compareDates\":\"function(filterLocalDate, cellValue) {\\n        // Assume dates are stored as iso\\n        const cellDate = new Date(cellValue);\\n\\n        if (cellDate < filterLocalDate) {\\n            return -1;\\n        } else if (cellDate > filterLocalDate) {\\n            return 1;\\n        }\\n        return 0;\\n    }\",\"sizeToFit\":\"function(gridOptions) {\\n        gridOptions.api.sizeColumnsToFit();\\n    }\",\"autoSizeAll\":\"function(gridOptions) {\\n        const allColumnIds = [];\\n        gridOptions.columnApi.getAllColumns().forEach(column => {\\n            allColumnIds.push(column.colId);\\n        });\\n        gridOptions.columnApi.autoSizeColumns(allColumnIds);\\n    }\",\"exportToCsv\":\"function(gridOptions) {\\n        const params = {\\n            skipHeader: false,\\n            columnGroups: true,\\n            skipFooters: false,\\n            skipGroups: false,\\n            skipPinnedTop: false,\\n            skipPinnedBottom: false,\\n            allColumns: true,\\n            onlySelected: false,\\n            suppressQuotes: true,\\n            fileName: 'my_file.csv',\\n            sheetName: 'my_sheet',\\n            shouldRowBeSkipped: () => false,\\n            processCellCallback: param => param.value,\\n            processHeaderCallback: null,\\n        };\\n        gridOptions.api.exportDataAsCsv(params);\\n    }\",\"exportToExcel\":\"function(gridOptions) {\\n        const params = {\\n            skipHeader: false,\\n            columnGroups: true,\\n            skipFooters: false,\\n            skipGroups: false,\\n            skipPinnedTop: false,\\n            skipPinnedBottom: false,\\n            allColumns: true,\\n            onlySelected: false,\\n            suppressQuotes: true,\\n            fileName: 'my_file.xls',\\n            sheetName: 'my_sheet',\\n            shouldRowBeSkipped: () => false, // TODO : check\\n            processCellCallback: param => param.value,\\n            processHeaderCallback: null,\\n        };\\n        gridOptions.api.exportDataAsExcel(params);\\n    }\"}",
       "layout": "IPY_MODEL_4dd4239f0fda49a8a35b139464446870",
       "menu": {
        "button_div_css": ".flex-button-div-542198878 {\ndisplay: flex;\njustify-content: flex-start;\nalign-items: flex-start;\nalign-content: flex-start;\nflex-flow: row wrap;\n}\n",
        "buttons": [],
        "input_div_css": ".flex-input-div-542198878 {\ndisplay: flex;\njustify-content: flex-start;\nalign-items: baseline;\nalign-content: flex-start;\nflex-flow: row wrap;\n}\n",
        "inputs": [
         {
          "css": ".flex-child-quick-filter-542198878 {\norder: 0;\nalign-self: auto;\nmargin: 5px;\nflex: 0.00 1.00 auto;\nwidth: 150px;\n}\n",
          "name": "Quick Filter"
         }
        ],
        "menu_div_css": ".flex-menu-div-542198878 {\ndisplay: flex;\njustify-content: flex-start;\nalign-items: flex-start;\nalign-content: flex-start;\nflex-flow: row wrap;\n}\n"
       },
       "theme": "ag-theme-balham",
       "width": "100%"
      }
     },
     "5b5fe54cff5148cabe85672ea181d04f": {
      "model_module": "@jupyter-widgets/base",
      "model_module_version": "1.2.0",
      "model_name": "LayoutModel",
      "state": {}
     },
     "5b67927505ac42629451821bc51957fe": {
      "model_module": "@jupyter-widgets/controls",
      "model_module_version": "1.5.0",
      "model_name": "LabelModel",
      "state": {
       "layout": "IPY_MODEL_98002c136fe640e79a1d019076913823",
       "style": "IPY_MODEL_767807c15ae6428d99a6d58d8d131884",
       "value": "Mechanical Supply/Extract?"
      }
     },
     "5c79fa05f6014e7dad4baff7ab527ad1": {
      "model_module": "@jupyter-widgets/base",
      "model_module_version": "1.2.0",
      "model_name": "LayoutModel",
      "state": {}
     },
     "5cacf65a49d141f29e143a6f290a2310": {
      "model_module": "@jupyter-widgets/controls",
      "model_module_version": "1.5.0",
      "model_name": "FloatSliderModel",
      "state": {
       "layout": "IPY_MODEL_ed99e78e0dd240ca932d2740ae1da2cb",
       "max": 20,
       "step": 0.1,
       "style": "IPY_MODEL_6e66eed471304d75b8d39ca341ebe868",
       "value": 1
      }
     },
     "5d9c5064b44d4dc2ae599d2b3877924f": {
      "model_module": "@jupyter-widgets/controls",
      "model_module_version": "1.5.0",
      "model_name": "DescriptionStyleModel",
      "state": {
       "description_width": ""
      }
     },
     "5ec4170af90243098d88f3a378e9058c": {
      "model_module": "@jupyter-widgets/controls",
      "model_module_version": "1.5.0",
      "model_name": "VBoxModel",
      "state": {
       "children": [
        "IPY_MODEL_a235c7e9d5bd48548b4ff20ebb7e727e",
        "IPY_MODEL_c484125eddb44bd6aa6db33c77df2343"
       ],
       "layout": "IPY_MODEL_7c868f999cfc47f09d15cd7e0ee0e3ea"
      }
     },
     "5f7fa3fb4ad6406e82f78894c969d693": {
      "model_module": "@jupyter-widgets/base",
      "model_module_version": "1.2.0",
      "model_name": "LayoutModel",
      "state": {}
     },
     "5fdc68bd538144c4b5eb182835b4dc20": {
      "model_module": "@jupyter-widgets/controls",
      "model_module_version": "1.5.0",
      "model_name": "DescriptionStyleModel",
      "state": {
       "description_width": ""
      }
     },
     "601c2177e3ad45c1bf2172bc3c16bf7f": {
      "model_module": "@jupyter-widgets/controls",
      "model_module_version": "1.5.0",
      "model_name": "HTMLModel",
      "state": {
       "layout": "IPY_MODEL_fb8f9a21b479473c919169c941105a1c",
       "style": "IPY_MODEL_d864da2922184c918e9647c36283c992",
       "value": "<b>Opening 1</b>"
      }
     },
     "6029d9a8cb4d4ddcbdb62c5219d6f098": {
      "model_module": "@jupyter-widgets/base",
      "model_module_version": "1.2.0",
      "model_name": "LayoutModel",
      "state": {}
     },
     "60f68d1d429d47a498645713451185c0": {
      "model_module": "@jupyter-widgets/controls",
      "model_module_version": "1.5.0",
      "model_name": "CheckboxModel",
      "state": {
       "disabled": false,
       "layout": "IPY_MODEL_58406bd771594762a11bdd6cd88913e0",
       "style": "IPY_MODEL_1d2c7084de43432e8cc306aa48af68f0",
       "value": false
      }
     },
     "61154ea360474894a228aeec5fbc15c9": {
      "model_module": "@jupyter-widgets/base",
      "model_module_version": "1.2.0",
      "model_name": "LayoutModel",
      "state": {}
     },
     "61fcd114f2444e51a9f5accba616a944": {
      "model_module": "@jupyter-widgets/base",
      "model_module_version": "1.2.0",
      "model_name": "LayoutModel",
      "state": {}
     },
     "62744f228e204c7baf0b6363f2067944": {
      "model_module": "@jupyter-widgets/base",
      "model_module_version": "1.2.0",
      "model_name": "LayoutModel",
      "state": {}
     },
     "632eba3d4d6e4fa6a851a6478e0cf727": {
      "model_module": "@jupyter-widgets/base",
      "model_module_version": "1.2.0",
      "model_name": "LayoutModel",
      "state": {
       "width": "300px"
      }
     },
     "63454ebe35f24ae88db57647da21c84c": {
      "model_module": "@jupyter-widgets/base",
      "model_module_version": "1.2.0",
      "model_name": "LayoutModel",
      "state": {
       "width": "300px"
      }
     },
     "645e1669d87448cfb9846070b68b836e": {
      "model_module": "@jupyter-widgets/controls",
      "model_module_version": "1.5.0",
      "model_name": "SliderStyleModel",
      "state": {
       "description_width": ""
      }
     },
     "6487e376dbd34120affd015050f5806d": {
      "model_module": "@jupyter-widgets/base",
      "model_module_version": "1.2.0",
      "model_name": "LayoutModel",
      "state": {}
     },
     "64e67e5f72474c2d87811cc354081edc": {
      "model_module": "@jupyter-widgets/controls",
      "model_module_version": "1.5.0",
      "model_name": "DescriptionStyleModel",
      "state": {
       "description_width": ""
      }
     },
     "661dfe51cfba4de9910494b33711c076": {
      "model_module": "@jupyter-widgets/base",
      "model_module_version": "1.2.0",
      "model_name": "LayoutModel",
      "state": {}
     },
     "666da7f9bbfb4c60873389f485dee86c": {
      "model_module": "@jupyter-widgets/controls",
      "model_module_version": "1.5.0",
      "model_name": "DescriptionStyleModel",
      "state": {
       "description_width": ""
      }
     },
     "685bd0e46fc245d5a878953ef0831492": {
      "model_module": "@jupyter-widgets/base",
      "model_module_version": "1.2.0",
      "model_name": "LayoutModel",
      "state": {
       "align_items": "stretch",
       "border": "solid 1px grey",
       "display": "flex",
       "flex_flow": "column",
       "margin": "2px"
      }
     },
     "686b98d789f04f2eba4245b337a0e09c": {
      "model_module": "@jupyter-widgets/controls",
      "model_module_version": "1.5.0",
      "model_name": "VBoxModel",
      "state": {
       "children": [
        "IPY_MODEL_6b74856c547f4c9a86cc8362feaf143b",
        "IPY_MODEL_c484125eddb44bd6aa6db33c77df2343"
       ],
       "layout": "IPY_MODEL_fa7fea4fecba4e21adcf5995a9ba6f2e"
      }
     },
     "689b2bf8018a4cbc97964aef7a9f4cd6": {
      "model_module": "@jupyter-widgets/controls",
      "model_module_version": "1.5.0",
      "model_name": "VBoxModel",
      "state": {
       "children": [
        "IPY_MODEL_1bcaaa31304c4a71ac70b1e46cb4e998",
        "IPY_MODEL_c6d534c1bd1e43a2a0dcf6a27c22d61b",
        "IPY_MODEL_3b09e4b59a6c4e5fab5200c3dd7143b2"
       ],
       "layout": "IPY_MODEL_dbebf31f992c4f30aa3263b134cef260"
      }
     },
     "68d467eef3a8431384426a9009266853": {
      "model_module": "@jupyter-widgets/controls",
      "model_module_version": "1.5.0",
      "model_name": "DescriptionStyleModel",
      "state": {
       "description_width": ""
      }
     },
     "6923af98c0174a7dbc9c48ec94a8ba96": {
      "model_module": "@jupyter-widgets/controls",
      "model_module_version": "1.5.0",
      "model_name": "ButtonModel",
      "state": {
       "description": "Solve",
       "layout": "IPY_MODEL_08c295b4ef0a482a9f8c329e65ac360f",
       "style": "IPY_MODEL_d6cb6e0c96324a98adf8b369c6852fb0"
      }
     },
     "693c90e04ee0472da23304005668e3fd": {
      "model_module": "@jupyter-widgets/controls",
      "model_module_version": "1.5.0",
      "model_name": "DescriptionStyleModel",
      "state": {
       "description_width": ""
      }
     },
     "6972889cbc1945d7bf77b6d1eb0be4c1": {
      "model_module": "@jupyter-widgets/controls",
      "model_module_version": "1.5.0",
      "model_name": "SliderStyleModel",
      "state": {
       "description_width": ""
      }
     },
     "69cf0953c8f84361a0976f323c71c131": {
      "model_module": "@jupyter-widgets/base",
      "model_module_version": "1.2.0",
      "model_name": "LayoutModel",
      "state": {}
     },
     "6a6c7cdc4d4645bf8467459287f17430": {
      "model_module": "@jupyter-widgets/controls",
      "model_module_version": "1.5.0",
      "model_name": "LabelModel",
      "state": {
       "layout": "IPY_MODEL_aa573baec7304576af9bbb9be12eb876",
       "style": "IPY_MODEL_64e67e5f72474c2d87811cc354081edc",
       "value": "External Temperature (°C)"
      }
     },
     "6b74856c547f4c9a86cc8362feaf143b": {
      "model_module": "@jupyter-widgets/controls",
      "model_module_version": "1.5.0",
      "model_name": "HBoxModel",
      "state": {
       "children": [
        "IPY_MODEL_d19d7c63317b49448cd3ab476ea01b08",
        "IPY_MODEL_4cb15f7db2aa453c82b06013794fd041",
        "IPY_MODEL_fc984ab179ce480d96f8b8eea487bbc8"
       ],
       "layout": "IPY_MODEL_7b5676fb127a4bd2a584117d2e5290f2"
      }
     },
     "6e66eed471304d75b8d39ca341ebe868": {
      "model_module": "@jupyter-widgets/controls",
      "model_module_version": "1.5.0",
      "model_name": "SliderStyleModel",
      "state": {
       "description_width": ""
      }
     },
     "6f21d8c043c9499a8099c70f414d2a5c": {
      "model_module": "@jupyter-widgets/controls",
      "model_module_version": "1.5.0",
      "model_name": "FloatSliderModel",
      "state": {
       "layout": "IPY_MODEL_791f6475591d4b70980c2c9341cd34c4",
       "max": 10,
       "min": -10,
       "step": 0.1,
       "style": "IPY_MODEL_5119965c47014890bb84dabb46e5d7b7"
      }
     },
     "7118d8ddbde14a8d804d226972a0ae1f": {
      "model_module": "@jupyter-widgets/base",
      "model_module_version": "1.2.0",
      "model_name": "LayoutModel",
      "state": {}
     },
     "718fd525cb9e4f589eab4b7bf24c04f2": {
      "model_module": "@jupyter-widgets/base",
      "model_module_version": "1.2.0",
      "model_name": "LayoutModel",
      "state": {
       "width": "300px"
      }
     },
     "71ca291dab74428c8776be3409ce415e": {
      "model_module": "@jupyter-widgets/controls",
      "model_module_version": "1.5.0",
      "model_name": "HBoxModel",
      "state": {
       "children": [
        "IPY_MODEL_71e16d86ebbf4abbb460cb87e000e83d",
        "IPY_MODEL_89c73e87720348e6973a1889b105d32d"
       ],
       "layout": "IPY_MODEL_c0dbc8ffe3f44c50a231d7dd02e1ee6c"
      }
     },
     "71e16d86ebbf4abbb460cb87e000e83d": {
      "model_module": "@jupyter-widgets/controls",
      "model_module_version": "1.5.0",
      "model_name": "LabelModel",
      "state": {
       "layout": "IPY_MODEL_e10ba31f29234050b5506f0ce104ee25",
       "style": "IPY_MODEL_693c90e04ee0472da23304005668e3fd",
       "value": "Internal Gain (W)"
      }
     },
     "72929415cb214df2aa242e43d7790f86": {
      "model_module": "@jupyter-widgets/base",
      "model_module_version": "1.2.0",
      "model_name": "LayoutModel",
      "state": {
       "width": "300px"
      }
     },
     "72e97186b2e74f3bbbb178a873437b36": {
      "model_module": "@jupyter-widgets/base",
      "model_module_version": "1.2.0",
      "model_name": "LayoutModel",
      "state": {}
     },
     "73d60a16f1ca490facb1d43e4e6e0503": {
      "model_module": "@jupyter-widgets/controls",
      "model_module_version": "1.5.0",
      "model_name": "SliderStyleModel",
      "state": {
       "description_width": ""
      }
     },
     "74c3d717ebdb49bfbeedac5fe2a976b5": {
      "model_module": "@jupyter-widgets/controls",
      "model_module_version": "1.5.0",
      "model_name": "DescriptionStyleModel",
      "state": {
       "description_width": ""
      }
     },
     "753c0b63909148e39cba77eaaa9027c0": {
      "model_module": "@jupyter-widgets/base",
      "model_module_version": "1.2.0",
      "model_name": "LayoutModel",
      "state": {}
     },
     "767807c15ae6428d99a6d58d8d131884": {
      "model_module": "@jupyter-widgets/controls",
      "model_module_version": "1.5.0",
      "model_name": "DescriptionStyleModel",
      "state": {
       "description_width": ""
      }
     },
     "76801c590db14c9385ab894b9fcf0ed1": {
      "model_module": "@jupyter-widgets/controls",
      "model_module_version": "1.5.0",
      "model_name": "HBoxModel",
      "state": {
       "children": [
        "IPY_MODEL_6a6c7cdc4d4645bf8467459287f17430",
        "IPY_MODEL_4049254a0f334801aed89cc188a43d45"
       ],
       "layout": "IPY_MODEL_59dbc728f54d43d2b969e4c9f949d2db"
      }
     },
     "791f6475591d4b70980c2c9341cd34c4": {
      "model_module": "@jupyter-widgets/base",
      "model_module_version": "1.2.0",
      "model_name": "LayoutModel",
      "state": {
       "width": "300px"
      }
     },
     "795cc0ea11ee418d9dc7ed238ab36f02": {
      "model_module": "@jupyter-widgets/controls",
      "model_module_version": "1.5.0",
      "model_name": "DescriptionStyleModel",
      "state": {
       "description_width": ""
      }
     },
     "795da45fde6a4b0995d9dce36f9ea489": {
      "model_module": "@jupyter-widgets/controls",
      "model_module_version": "1.5.0",
      "model_name": "DescriptionStyleModel",
      "state": {
       "description_width": ""
      }
     },
     "796d90f704c74788b6bb716ce8b81988": {
      "model_module": "@jupyter-widgets/controls",
      "model_module_version": "1.5.0",
      "model_name": "HBoxModel",
      "state": {
       "children": [
        "IPY_MODEL_3b99dfacfa84464cb6b599e6a1550f31",
        "IPY_MODEL_a1679952b75540bea1cc569ad183000d"
       ],
       "layout": "IPY_MODEL_e641a7a7ed4c4446a1badc7d5f26094f"
      }
     },
     "7a22bcb0593946669000c9ba08b8d901": {
      "model_module": "@jupyter-widgets/base",
      "model_module_version": "1.2.0",
      "model_name": "LayoutModel",
      "state": {}
     },
     "7affbe58188a4ade9cadad75ad6d4adc": {
      "model_module": "@jupyter-widgets/base",
      "model_module_version": "1.2.0",
      "model_name": "LayoutModel",
      "state": {}
     },
     "7b06237e28df43338f5e4bdf1eb88405": {
      "model_module": "@jupyter-widgets/base",
      "model_module_version": "1.2.0",
      "model_name": "LayoutModel",
      "state": {
       "width": "300px"
      }
     },
     "7b18a8b8458d4fc3b2de5ae1521d3b34": {
      "model_module": "@jupyter-widgets/controls",
      "model_module_version": "1.5.0",
      "model_name": "ButtonModel",
      "state": {
       "description": "Remove Opening",
       "layout": "IPY_MODEL_6029d9a8cb4d4ddcbdb62c5219d6f098",
       "style": "IPY_MODEL_ea564b6a2606436aad63bfcd9048123b"
      }
     },
     "7b5676fb127a4bd2a584117d2e5290f2": {
      "model_module": "@jupyter-widgets/base",
      "model_module_version": "1.2.0",
      "model_name": "LayoutModel",
      "state": {}
     },
     "7b6d24f5a207423f9695305af0c62024": {
      "model_module": "@jupyter-widgets/base",
      "model_module_version": "1.2.0",
      "model_name": "LayoutModel",
      "state": {}
     },
     "7bab2e9ea652437abe1796ca02153ef6": {
      "model_module": "@jupyter-widgets/controls",
      "model_module_version": "1.5.0",
      "model_name": "FloatSliderModel",
      "state": {
       "layout": "IPY_MODEL_50894ccd248741dca42e8e6acdc88a48",
       "max": 10000,
       "step": 0.1,
       "style": "IPY_MODEL_2762e56c77fb4d9d9934560c209f87b5",
       "value": 8832.9
      }
     },
     "7c868f999cfc47f09d15cd7e0ee0e3ea": {
      "model_module": "@jupyter-widgets/base",
      "model_module_version": "1.2.0",
      "model_name": "LayoutModel",
      "state": {}
     },
     "7cb30c66ad064fdd9ef65404e832aac2": {
      "model_module": "@jupyter-widgets/controls",
      "model_module_version": "1.5.0",
      "model_name": "FloatSliderModel",
      "state": {
       "layout": "IPY_MODEL_9d51e225ee5149faacb3e3a7b9164ea9",
       "max": 40,
       "min": -10,
       "step": 0.1,
       "style": "IPY_MODEL_7e1c1553ab10433da77075961facde7f",
       "value": 24
      }
     },
     "7cf94622799348e0ba3f7184b5d2bb41": {
      "model_module": "@jupyter-widgets/controls",
      "model_module_version": "1.5.0",
      "model_name": "VBoxModel",
      "state": {
       "children": [
        "IPY_MODEL_4e6db074b2a14bdd9e12a150861cfa85",
        "IPY_MODEL_9538997afa93495095daf0ae462c6789",
        "IPY_MODEL_031bb874d4b640e39ebdc1263a2d571e"
       ],
       "layout": "IPY_MODEL_435e534d761647f6b5a36f1572def97d"
      }
     },
     "7d08f95e51954c6bb6f1eb805e491d1f": {
      "model_module": "@jupyter-widgets/controls",
      "model_module_version": "1.5.0",
      "model_name": "ButtonStyleModel",
      "state": {}
     },
     "7d17ebf2255646279e3b748c975378e6": {
      "model_module": "@jupyter-widgets/base",
      "model_module_version": "1.2.0",
      "model_name": "LayoutModel",
      "state": {}
     },
     "7d9740c51234467789293bc218c9fbb2": {
      "model_module": "@jupyter-widgets/controls",
      "model_module_version": "1.5.0",
      "model_name": "LabelModel",
      "state": {
       "layout": "IPY_MODEL_edbb6b8805244428a8fb75026db79a8c",
       "style": "IPY_MODEL_5d9c5064b44d4dc2ae599d2b3877924f",
       "value": "Area (m²)"
      }
     },
     "7e1c1553ab10433da77075961facde7f": {
      "model_module": "@jupyter-widgets/controls",
      "model_module_version": "1.5.0",
      "model_name": "SliderStyleModel",
      "state": {
       "description_width": ""
      }
     },
     "7e3d8679bff249b396ac317845b81ec5": {
      "model_module": "@jupyter-widgets/controls",
      "model_module_version": "1.5.0",
      "model_name": "FloatSliderModel",
      "state": {
       "layout": "IPY_MODEL_880ad2a6f47e41268aecc40305f6cf08",
       "max": 10,
       "min": -10,
       "step": 0.1,
       "style": "IPY_MODEL_4426c5ec9ff84cbf9b4ef1e26e4195fc"
      }
     },
     "7e57c052cef540deb06b0b522dd0ea91": {
      "model_module": "@jupyter-widgets/controls",
      "model_module_version": "1.5.0",
      "model_name": "DescriptionStyleModel",
      "state": {
       "description_width": ""
      }
     },
     "7ee3a6a2d39f46bca27b944cad9951a0": {
      "model_module": "@jupyter-widgets/controls",
      "model_module_version": "1.5.0",
      "model_name": "DescriptionStyleModel",
      "state": {
       "description_width": ""
      }
     },
     "7f1118ce05d1443d93b458c7adede555": {
      "model_module": "@jupyter-widgets/controls",
      "model_module_version": "1.5.0",
      "model_name": "ButtonStyleModel",
      "state": {}
     },
     "80d94ca56ff44554b7bbceb77d19d49f": {
      "model_module": "@jupyter-widgets/base",
      "model_module_version": "1.2.0",
      "model_name": "LayoutModel",
      "state": {}
     },
     "815b3ba9e0884020ab3c1bcfafe2bbac": {
      "model_module": "@jupyter-widgets/base",
      "model_module_version": "1.2.0",
      "model_name": "LayoutModel",
      "state": {}
     },
     "83d8db99d28e4f2696b72e35819b4868": {
      "model_module": "@jupyter-widgets/base",
      "model_module_version": "1.2.0",
      "model_name": "LayoutModel",
      "state": {}
     },
     "83e028ca832c41198d2801c72b2c3fb5": {
      "model_module": "@jupyter-widgets/base",
      "model_module_version": "1.2.0",
      "model_name": "LayoutModel",
      "state": {}
     },
     "83e0dc372e604ac2a9cb7e8fd51eadbb": {
      "model_module": "@jupyter-widgets/controls",
      "model_module_version": "1.5.0",
      "model_name": "HBoxModel",
      "state": {
       "children": [
        "IPY_MODEL_8fd9163c43c14dea9ca68a79add29a2b",
        "IPY_MODEL_516afd6528dd49cf952ed6210e27a148"
       ],
       "layout": "IPY_MODEL_ca118d2502204bdb9f639278492dc0b8"
      }
     },
     "84d0a7ab05a84c2f9fd9eb071fa4dfaf": {
      "model_module": "@jupyter-widgets/controls",
      "model_module_version": "1.5.0",
      "model_name": "HBoxModel",
      "state": {
       "children": [
        "IPY_MODEL_b33e6946a7604642b10e537bd41899bf",
        "IPY_MODEL_12bced024d0e41bb92030e22a4ec0cb6"
       ],
       "layout": "IPY_MODEL_ceba8b2e1c6044e9a241de2beaf3dd45"
      }
     },
     "84d77e0ceb01430f818bd881227d06a3": {
      "model_module": "@jupyter-widgets/controls",
      "model_module_version": "1.5.0",
      "model_name": "HBoxModel",
      "state": {
       "children": [
        "IPY_MODEL_e0fc281327894fc8874083a8ff83832d",
        "IPY_MODEL_3f9ed590ac7d455392b4ed555cd075d4"
       ],
       "layout": "IPY_MODEL_661dfe51cfba4de9910494b33711c076"
      }
     },
     "85200f64d00048f780013e5064c61adb": {
      "model_module": "@jupyter-widgets/controls",
      "model_module_version": "1.5.0",
      "model_name": "ButtonStyleModel",
      "state": {}
     },
     "85fed50c27154b14b0507dbd45ea6412": {
      "model_module": "@jupyter-widgets/controls",
      "model_module_version": "1.5.0",
      "model_name": "FloatSliderModel",
      "state": {
       "layout": "IPY_MODEL_72929415cb214df2aa242e43d7790f86",
       "max": 20,
       "step": 0.1,
       "style": "IPY_MODEL_912a7be33713498dba4e811c90388983",
       "value": 1
      }
     },
     "86eefeb6e0324cb9b77d562ea19981c6": {
      "model_module": "@jupyter-widgets/controls",
      "model_module_version": "1.5.0",
      "model_name": "SliderStyleModel",
      "state": {
       "description_width": ""
      }
     },
     "87a744ffddbf4379b2b5b929e15b6958": {
      "model_module": "@jupyter-widgets/controls",
      "model_module_version": "1.5.0",
      "model_name": "DescriptionStyleModel",
      "state": {
       "description_width": ""
      }
     },
     "87dbf900ae2a4f2885bb2400a4058a38": {
      "model_module": "@jupyter-widgets/base",
      "model_module_version": "1.2.0",
      "model_name": "LayoutModel",
      "state": {}
     },
     "880ad2a6f47e41268aecc40305f6cf08": {
      "model_module": "@jupyter-widgets/base",
      "model_module_version": "1.2.0",
      "model_name": "LayoutModel",
      "state": {
       "width": "300px"
      }
     },
     "88aac400576d4bc2896f9c08b91d487f": {
      "model_module": "@jupyter-widgets/controls",
      "model_module_version": "1.5.0",
      "model_name": "LabelModel",
      "state": {
       "layout": "IPY_MODEL_1f1fb59fdbad4392a7cdcd5f7d22f920",
       "style": "IPY_MODEL_ca4dcb2866164316a1ef7d044d9aacdd",
       "value": "Internal Temperature (°C)"
      }
     },
     "88d801cc012e4efa84106843e4ad3a97": {
      "model_module": "@jupyter-widgets/base",
      "model_module_version": "1.2.0",
      "model_name": "LayoutModel",
      "state": {}
     },
     "89c73e87720348e6973a1889b105d32d": {
      "model_module": "@jupyter-widgets/controls",
      "model_module_version": "1.5.0",
      "model_name": "FloatSliderModel",
      "state": {
       "layout": "IPY_MODEL_2b9cebeeed9b495da20be15e493aae42",
       "max": 10000,
       "step": 0.1,
       "style": "IPY_MODEL_343fb5aa327343bdb4932163b7fa3f15",
       "value": 8000
      }
     },
     "8a1e87e2e693447c8a7788e73821e422": {
      "model_module": "@jupyter-widgets/output",
      "model_module_version": "1.0.0",
      "model_name": "OutputModel",
      "state": {
       "layout": "IPY_MODEL_72e97186b2e74f3bbbb178a873437b36"
      }
     },
     "8a5bfa6f0c4945f784fa3063ffe4bcee": {
      "model_module": "@jupyter-widgets/controls",
      "model_module_version": "1.5.0",
      "model_name": "LabelModel",
      "state": {
       "layout": "IPY_MODEL_88d801cc012e4efa84106843e4ad3a97",
       "style": "IPY_MODEL_0f65e926290148988c51972cbadfc90a",
       "value": "Discharge Coefficient"
      }
     },
     "8ab2fe7504014078b88b88cb9ec6ebba": {
      "model_module": "@jupyter-widgets/controls",
      "model_module_version": "1.5.0",
      "model_name": "SliderStyleModel",
      "state": {
       "description_width": ""
      }
     },
     "8acc7ac418434c28a19be787fe02496b": {
      "model_module": "@jupyter-widgets/controls",
      "model_module_version": "1.5.0",
      "model_name": "VBoxModel",
      "state": {
       "children": [
        "IPY_MODEL_d7a6e83382944f8c871f3e0861fe11fb",
        "IPY_MODEL_76801c590db14c9385ab894b9fcf0ed1",
        "IPY_MODEL_226a9a7386b844bca97124a40fb82ff7",
        "IPY_MODEL_f3566346e4504b8b9657bc6ff35364c7"
       ],
       "layout": "IPY_MODEL_13a59616a7a44e4f9e92903c66b4f5fa"
      }
     },
     "8c3d631c329e464d8548c84f2ee7c833": {
      "model_module": "@jupyter-widgets/controls",
      "model_module_version": "1.5.0",
      "model_name": "ButtonModel",
      "state": {
       "description": "Add Opening",
       "layout": "IPY_MODEL_a688282ee7c6491a87d28735b0d38476",
       "style": "IPY_MODEL_7f1118ce05d1443d93b458c7adede555"
      }
     },
     "8cfc165ca5354939aaa41793f44a5958": {
      "model_module": "@jupyter-widgets/controls",
      "model_module_version": "1.5.0",
      "model_name": "HTMLModel",
      "state": {
       "layout": "IPY_MODEL_7b6d24f5a207423f9695305af0c62024",
       "style": "IPY_MODEL_04cd993379574c20a5c970404d612fcd",
       "value": "<h3>Internal Temperature 29.5(°C)</h3>"
      }
     },
     "8d6e905d128e4f37ab5bfe1b9f96f830": {
      "model_module": "@jupyter-widgets/controls",
      "model_module_version": "1.5.0",
      "model_name": "SliderStyleModel",
      "state": {
       "description_width": ""
      }
     },
     "8d862c42219d4b12b867bf35bdc5b368": {
      "model_module": "@jupyter-widgets/controls",
      "model_module_version": "1.5.0",
      "model_name": "HBoxModel",
      "state": {
       "children": [
        "IPY_MODEL_9e0c8805d74a4720a208b7aed1ecfbd5",
        "IPY_MODEL_c968c271bfc1495da4cf3ceb331799f1"
       ],
       "layout": "IPY_MODEL_50325a497fd84768b3554e70d4751147"
      }
     },
     "8e1b7e61f2e742f7bddefaaeb84d25d2": {
      "model_module": "@jupyter-widgets/controls",
      "model_module_version": "1.5.0",
      "model_name": "SliderStyleModel",
      "state": {
       "description_width": ""
      }
     },
     "8e6db4fef1db4bf3bacf04206ffd5642": {
      "model_module": "@jupyter-widgets/base",
      "model_module_version": "1.2.0",
      "model_name": "LayoutModel",
      "state": {}
     },
     "8f863a1a46b948a082df1580eaaaeedd": {
      "model_module": "@jupyter-widgets/base",
      "model_module_version": "1.2.0",
      "model_name": "LayoutModel",
      "state": {}
     },
     "8fa869fc51e74cab95a4087052492338": {
      "model_module": "@jupyter-widgets/controls",
      "model_module_version": "1.5.0",
      "model_name": "FloatSliderModel",
      "state": {
       "layout": "IPY_MODEL_7b06237e28df43338f5e4bdf1eb88405",
       "max": 25,
       "step": 0.1,
       "style": "IPY_MODEL_6972889cbc1945d7bf77b6d1eb0be4c1",
       "value": 1.2
      }
     },
     "8fd9163c43c14dea9ca68a79add29a2b": {
      "model_module": "@jupyter-widgets/controls",
      "model_module_version": "1.5.0",
      "model_name": "LabelModel",
      "state": {
       "layout": "IPY_MODEL_c308942e274846ffb77f8b07c8bfc12d",
       "style": "IPY_MODEL_fac627332b2844dbb7468ef682c1c6ee",
       "value": "External Temperature (°C)"
      }
     },
     "912a7be33713498dba4e811c90388983": {
      "model_module": "@jupyter-widgets/controls",
      "model_module_version": "1.5.0",
      "model_name": "SliderStyleModel",
      "state": {
       "description_width": ""
      }
     },
     "915493ba719142b48a235da4bacc6754": {
      "model_module": "@jupyter-widgets/base",
      "model_module_version": "1.2.0",
      "model_name": "LayoutModel",
      "state": {}
     },
     "91c13afeb02e42cfb4482dc4ad3378ba": {
      "model_module": "@jupyter-widgets/controls",
      "model_module_version": "1.5.0",
      "model_name": "LabelModel",
      "state": {
       "layout": "IPY_MODEL_83d8db99d28e4f2696b72e35819b4868",
       "style": "IPY_MODEL_ab98ceb72b9748cfa4a5d4a8ce44162e",
       "value": "Area (m²)"
      }
     },
     "9252cbe038774140972253c84a50d7bf": {
      "model_module": "@jupyter-widgets/controls",
      "model_module_version": "1.5.0",
      "model_name": "LabelModel",
      "state": {
       "layout": "IPY_MODEL_7d17ebf2255646279e3b748c975378e6",
       "style": "IPY_MODEL_348250e278a14ff1b64d6430a1775a31",
       "value": "Wind Coeff. / Mech. flowrate (m³/s)"
      }
     },
     "9409c19db0f6456ba6c3f54bd95cc874": {
      "model_module": "@jupyter-widgets/base",
      "model_module_version": "1.2.0",
      "model_name": "LayoutModel",
      "state": {}
     },
     "94ff8b5e0f93472890bd74321ace73c6": {
      "model_module": "@jupyter-widgets/output",
      "model_module_version": "1.0.0",
      "model_name": "OutputModel",
      "state": {
       "layout": "IPY_MODEL_e07beaaa75184344b5b2ef87e993de02"
      }
     },
     "9538997afa93495095daf0ae462c6789": {
      "model_module": "@jupyter-widgets/controls",
      "model_module_version": "1.5.0",
      "model_name": "HTMLModel",
      "state": {
       "layout": "IPY_MODEL_a0136ff3dfff4e3694102bf4611996a9",
       "style": "IPY_MODEL_3a69676892c84f35948045a1df1e8290",
       "value": "<h3>Imbalance 0.00(m³/s); 0.0(%) </h3>"
      }
     },
     "95b4475987e7405299c66b381e11926e": {
      "model_module": "@jupyter-widgets/base",
      "model_module_version": "1.2.0",
      "model_name": "LayoutModel",
      "state": {
       "width": "300px"
      }
     },
     "9713ab432232480786cede8268567337": {
      "model_module": "@jupyter-widgets/base",
      "model_module_version": "1.2.0",
      "model_name": "LayoutModel",
      "state": {
       "width": "300px"
      }
     },
     "98002c136fe640e79a1d019076913823": {
      "model_module": "@jupyter-widgets/base",
      "model_module_version": "1.2.0",
      "model_name": "LayoutModel",
      "state": {}
     },
     "99966f9828e24258ba9843bf073929ff": {
      "model_module": "@jupyter-widgets/base",
      "model_module_version": "1.2.0",
      "model_name": "LayoutModel",
      "state": {}
     },
     "9a016e6e9a64405d93f39abaaafbce64": {
      "model_module": "@jupyter-widgets/controls",
      "model_module_version": "1.5.0",
      "model_name": "HTMLModel",
      "state": {
       "layout": "IPY_MODEL_fe6dfcaabc0447bb8796832e120746a6",
       "style": "IPY_MODEL_795da45fde6a4b0995d9dce36f9ea489",
       "value": "<h3>Flowrate (m³/s) -0.76</h3>"
      }
     },
     "9a64e95c171d4cb49933262527b88158": {
      "model_module": "@jupyter-widgets/base",
      "model_module_version": "1.2.0",
      "model_name": "LayoutModel",
      "state": {}
     },
     "9ab0cadc805749f3b85ce5799592d9bb": {
      "model_module": "@jupyter-widgets/base",
      "model_module_version": "1.2.0",
      "model_name": "LayoutModel",
      "state": {}
     },
     "9aca9ebd83d14deebaa1d3a4b6b40952": {
      "model_module": "@jupyter-widgets/base",
      "model_module_version": "1.2.0",
      "model_name": "LayoutModel",
      "state": {}
     },
     "9b1460be33d84262945ab3fd9976a575": {
      "model_module": "@jupyter-widgets/base",
      "model_module_version": "1.2.0",
      "model_name": "LayoutModel",
      "state": {}
     },
     "9b7484fcd9a14f199d6696fdf423c01c": {
      "model_module": "@jupyter-widgets/controls",
      "model_module_version": "1.5.0",
      "model_name": "ButtonStyleModel",
      "state": {}
     },
     "9c0d567337a6499b87f64c21d1c8700c": {
      "model_module": "@jupyter-widgets/controls",
      "model_module_version": "1.5.0",
      "model_name": "DescriptionStyleModel",
      "state": {
       "description_width": ""
      }
     },
     "9c0ec7a55761480f8a435bf9b405450e": {
      "model_module": "@jupyter-widgets/controls",
      "model_module_version": "1.5.0",
      "model_name": "DescriptionStyleModel",
      "state": {
       "description_width": ""
      }
     },
     "9c5b04b36271443a9126d2b653f2e31b": {
      "model_module": "@jupyter-widgets/base",
      "model_module_version": "1.2.0",
      "model_name": "LayoutModel",
      "state": {}
     },
     "9d51e225ee5149faacb3e3a7b9164ea9": {
      "model_module": "@jupyter-widgets/base",
      "model_module_version": "1.2.0",
      "model_name": "LayoutModel",
      "state": {
       "width": "300px"
      }
     },
     "9daee184c5ef433aac9a0db1e9912f28": {
      "model_module": "@jupyter-widgets/controls",
      "model_module_version": "1.5.0",
      "model_name": "DescriptionStyleModel",
      "state": {
       "description_width": ""
      }
     },
     "9deea1d9128d4e92b0d7fdde998505b7": {
      "model_module": "@jupyter-widgets/controls",
      "model_module_version": "1.5.0",
      "model_name": "DescriptionStyleModel",
      "state": {
       "description_width": ""
      }
     },
     "9e0c8805d74a4720a208b7aed1ecfbd5": {
      "model_module": "@jupyter-widgets/controls",
      "model_module_version": "1.5.0",
      "model_name": "LabelModel",
      "state": {
       "layout": "IPY_MODEL_dd5dbde78920496dabf071d1cdb3532e",
       "style": "IPY_MODEL_be3fc2daaa5f49659c2561196a4d0075",
       "value": "Discharge Coefficient"
      }
     },
     "a0136ff3dfff4e3694102bf4611996a9": {
      "model_module": "@jupyter-widgets/base",
      "model_module_version": "1.2.0",
      "model_name": "LayoutModel",
      "state": {}
     },
     "a1679952b75540bea1cc569ad183000d": {
      "model_module": "@jupyter-widgets/controls",
      "model_module_version": "1.5.0",
      "model_name": "FloatSliderModel",
      "state": {
       "layout": "IPY_MODEL_27f264d1de5f4cc39183f92190040793",
       "max": 25,
       "step": 0.1,
       "style": "IPY_MODEL_645e1669d87448cfb9846070b68b836e",
       "value": 1
      }
     },
     "a1cc09428ae64ad0b1c99713bbf17169": {
      "model_module": "@jupyter-widgets/controls",
      "model_module_version": "1.5.0",
      "model_name": "ButtonStyleModel",
      "state": {}
     },
     "a235c7e9d5bd48548b4ff20ebb7e727e": {
      "model_module": "@jupyter-widgets/controls",
      "model_module_version": "1.5.0",
      "model_name": "HBoxModel",
      "state": {
       "children": [
        "IPY_MODEL_d19d7c63317b49448cd3ab476ea01b08",
        "IPY_MODEL_4cb15f7db2aa453c82b06013794fd041",
        "IPY_MODEL_8a1e87e2e693447c8a7788e73821e422"
       ],
       "layout": "IPY_MODEL_23a928f6084748c9b8321be106ba5a56"
      }
     },
     "a3d07447664e4397bde27d697a42ba0b": {
      "model_module": "@jupyter-widgets/base",
      "model_module_version": "1.2.0",
      "model_name": "LayoutModel",
      "state": {}
     },
     "a4b77d85ee6e4655bb3d6ebf14723cea": {
      "model_module": "@jupyter-widgets/controls",
      "model_module_version": "1.5.0",
      "model_name": "HBoxModel",
      "state": {
       "children": [
        "IPY_MODEL_9252cbe038774140972253c84a50d7bf",
        "IPY_MODEL_6f21d8c043c9499a8099c70f414d2a5c"
       ],
       "layout": "IPY_MODEL_b95573025ed7423db59236161f3af4b1"
      }
     },
     "a5363123063a4240813cd0a686afd954": {
      "model_module": "@jupyter-widgets/base",
      "model_module_version": "1.2.0",
      "model_name": "LayoutModel",
      "state": {
       "width": "300px"
      }
     },
     "a676a14250074b4b86686def1ca11310": {
      "model_module": "@jupyter-widgets/base",
      "model_module_version": "1.2.0",
      "model_name": "LayoutModel",
      "state": {}
     },
     "a68321b7ed8945fc967f0018a584801f": {
      "model_module": "@jupyter-widgets/controls",
      "model_module_version": "1.5.0",
      "model_name": "HBoxModel",
      "state": {
       "children": [
        "IPY_MODEL_2219acd624ae4ed8825f3f20c00d2448",
        "IPY_MODEL_7cb30c66ad064fdd9ef65404e832aac2"
       ],
       "layout": "IPY_MODEL_2dab38348c1b4f19a58ca0ff73966562"
      }
     },
     "a688282ee7c6491a87d28735b0d38476": {
      "model_module": "@jupyter-widgets/base",
      "model_module_version": "1.2.0",
      "model_name": "LayoutModel",
      "state": {}
     },
     "a6a3aeca64304fd2915468062fd4323b": {
      "model_module": "@jupyter-widgets/controls",
      "model_module_version": "1.5.0",
      "model_name": "SliderStyleModel",
      "state": {
       "description_width": ""
      }
     },
     "a8677279cf4548eabca002a3da889be8": {
      "model_module": "@jupyter-widgets/base",
      "model_module_version": "1.2.0",
      "model_name": "LayoutModel",
      "state": {}
     },
     "a987fbb7137b45e3a53be89863242ad9": {
      "model_module": "@jupyter-widgets/controls",
      "model_module_version": "1.5.0",
      "model_name": "DescriptionStyleModel",
      "state": {
       "description_width": ""
      }
     },
     "aa573baec7304576af9bbb9be12eb876": {
      "model_module": "@jupyter-widgets/base",
      "model_module_version": "1.2.0",
      "model_name": "LayoutModel",
      "state": {}
     },
     "aa727236c8f34e4aa6ac4bcc669d4b65": {
      "model_module": "@jupyter-widgets/controls",
      "model_module_version": "1.5.0",
      "model_name": "DescriptionStyleModel",
      "state": {
       "description_width": ""
      }
     },
     "aabf193e13a44b71a3dd4d7157d61d3a": {
      "model_module": "@jupyter-widgets/controls",
      "model_module_version": "1.5.0",
      "model_name": "DescriptionStyleModel",
      "state": {
       "description_width": ""
      }
     },
     "ab3dcdce29624d27b36089b3150d6cfc": {
      "model_module": "jupyter-matplotlib",
      "model_module_version": "^0.7.2",
      "model_name": "MPLCanvasModel",
      "state": {
       "_figure_label": "Figure 1",
       "_height": 600,
       "_image_mode": "diff",
       "_message": "x=0.58267      y=5.1998      ",
       "_width": 1200,
       "layout": "IPY_MODEL_9b1460be33d84262945ab3fd9976a575",
       "toolbar": "IPY_MODEL_412de3b467ae4aeaa6f26f91d2c8d605",
       "toolbar_position": "left"
      }
     },
     "ab8752f6fdbc4c9d85fe2551b8c38ecc": {
      "model_module": "@jupyter-widgets/controls",
      "model_module_version": "1.5.0",
      "model_name": "ButtonModel",
      "state": {
       "description": "Solve",
       "layout": "IPY_MODEL_fbcb3cef93454401bf261e868e8d4efc",
       "style": "IPY_MODEL_7d08f95e51954c6bb6f1eb805e491d1f"
      }
     },
     "ab98ceb72b9748cfa4a5d4a8ce44162e": {
      "model_module": "@jupyter-widgets/controls",
      "model_module_version": "1.5.0",
      "model_name": "DescriptionStyleModel",
      "state": {
       "description_width": ""
      }
     },
     "abc65f3ae0ed42dbac3ccc974706f298": {
      "model_module": "@jupyter-widgets/base",
      "model_module_version": "1.2.0",
      "model_name": "LayoutModel",
      "state": {}
     },
     "ac06e1fe157d41a894fc0d206d6acd3b": {
      "model_module": "@jupyter-widgets/base",
      "model_module_version": "1.2.0",
      "model_name": "LayoutModel",
      "state": {}
     },
     "ac6699265f0e469096d02131160c56f3": {
      "model_module": "@jupyter-widgets/base",
      "model_module_version": "1.2.0",
      "model_name": "LayoutModel",
      "state": {}
     },
     "ade45d5e11f647e8b73a5142a67a5dba": {
      "model_module": "@jupyter-widgets/controls",
      "model_module_version": "1.5.0",
      "model_name": "DescriptionStyleModel",
      "state": {
       "description_width": ""
      }
     },
     "aefaa979b8aa4ff892d3f9d638159230": {
      "model_module": "@jupyter-widgets/controls",
      "model_module_version": "1.5.0",
      "model_name": "LabelModel",
      "state": {
       "layout": "IPY_MODEL_e8080a763fbe4970ad1fd15d12872a01",
       "style": "IPY_MODEL_9deea1d9128d4e92b0d7fdde998505b7",
       "value": "External Temperature (°C)"
      }
     },
     "b091d823da654d3a8dcb2e34a2280ed8": {
      "model_module": "@jupyter-widgets/controls",
      "model_module_version": "1.5.0",
      "model_name": "DescriptionStyleModel",
      "state": {
       "description_width": ""
      }
     },
     "b0b8357dc9164ec98b98ae64c0986e75": {
      "model_module": "@jupyter-widgets/controls",
      "model_module_version": "1.5.0",
      "model_name": "LabelModel",
      "state": {
       "layout": "IPY_MODEL_487f217483b74f9188c9af5c2a22bb28",
       "style": "IPY_MODEL_c6195deeed504facbc8d49dce8ec7006",
       "value": "Discharge Coefficient"
      }
     },
     "b1239272f8374e4d8a11293dafc287e6": {
      "model_module": "@jupyter-widgets/controls",
      "model_module_version": "1.5.0",
      "model_name": "FloatSliderModel",
      "state": {
       "layout": "IPY_MODEL_cf5d49c47c914deda96d216adc6d7df4",
       "max": 20,
       "step": 0.1,
       "style": "IPY_MODEL_8ab2fe7504014078b88b88cb9ec6ebba",
       "value": 1
      }
     },
     "b20f52e1c0334add87d3a64c7ded89fe": {
      "model_module": "@jupyter-widgets/controls",
      "model_module_version": "1.5.0",
      "model_name": "FloatSliderModel",
      "state": {
       "layout": "IPY_MODEL_525dd762193844ec9dcd972a86d7be9c",
       "max": 40,
       "min": -10,
       "step": 0.1,
       "style": "IPY_MODEL_d17b7e177e4c4b7288185c250f653b2b",
       "value": 28
      }
     },
     "b2dcc3ee8d5446d3bc5c3cb7d2739741": {
      "model_module": "@jupyter-widgets/controls",
      "model_module_version": "1.5.0",
      "model_name": "FloatSliderModel",
      "state": {
       "layout": "IPY_MODEL_a5363123063a4240813cd0a686afd954",
       "max": 25,
       "step": 0.1,
       "style": "IPY_MODEL_075c10ac9adb47b2a890c1e13ad2ac06",
       "value": 1
      }
     },
     "b338d8f97de348cbb01c48c6036d2316": {
      "model_module": "@jupyter-widgets/controls",
      "model_module_version": "1.5.0",
      "model_name": "SliderStyleModel",
      "state": {
       "description_width": ""
      }
     },
     "b33e6946a7604642b10e537bd41899bf": {
      "model_module": "@jupyter-widgets/controls",
      "model_module_version": "1.5.0",
      "model_name": "LabelModel",
      "state": {
       "layout": "IPY_MODEL_f621a836d535481091dc02b59bd3853c",
       "style": "IPY_MODEL_7e57c052cef540deb06b0b522dd0ea91",
       "value": "Height (m)"
      }
     },
     "b3bc861246414b0d83061150a5e4ac68": {
      "model_module": "@jupyter-widgets/controls",
      "model_module_version": "1.5.0",
      "model_name": "ButtonStyleModel",
      "state": {}
     },
     "b4d2db417abd427592e9342e1e779971": {
      "model_module": "@jupyter-widgets/controls",
      "model_module_version": "1.5.0",
      "model_name": "LabelModel",
      "state": {
       "layout": "IPY_MODEL_ca12c3d74df34f59bdd05819990c1de7",
       "style": "IPY_MODEL_084da26e1a49418c8455561ad8a6a9b3",
       "value": "Wind Speed (m/s)"
      }
     },
     "b5e76c55aa8c43489beb20f7ab0f31d4": {
      "model_module": "@jupyter-widgets/controls",
      "model_module_version": "1.5.0",
      "model_name": "ButtonModel",
      "state": {
       "description": "Add Opening",
       "layout": "IPY_MODEL_4975ab166a864b68bdb39f0f5c87c0a5",
       "style": "IPY_MODEL_85200f64d00048f780013e5064c61adb"
      }
     },
     "b7beaee58de4410aab78f60361476048": {
      "model_module": "@jupyter-widgets/controls",
      "model_module_version": "1.5.0",
      "model_name": "VBoxModel",
      "state": {
       "children": [
        "IPY_MODEL_f812daad18c245a5a1ce8107d15fdae7",
        "IPY_MODEL_c484125eddb44bd6aa6db33c77df2343"
       ],
       "layout": "IPY_MODEL_8f863a1a46b948a082df1580eaaaeedd"
      }
     },
     "b862cf5319554c0da34b6f63aa17abf1": {
      "model_module": "@jupyter-widgets/controls",
      "model_module_version": "1.5.0",
      "model_name": "SliderStyleModel",
      "state": {
       "description_width": ""
      }
     },
     "b95573025ed7423db59236161f3af4b1": {
      "model_module": "@jupyter-widgets/base",
      "model_module_version": "1.2.0",
      "model_name": "LayoutModel",
      "state": {}
     },
     "bc085a90a4164c1e87145586998e9f1e": {
      "model_module": "@jupyter-widgets/base",
      "model_module_version": "1.2.0",
      "model_name": "LayoutModel",
      "state": {}
     },
     "bd8835669471426e91be91f86d064c6f": {
      "model_module": "@jupyter-widgets/controls",
      "model_module_version": "1.5.0",
      "model_name": "DescriptionStyleModel",
      "state": {
       "description_width": ""
      }
     },
     "be3fc2daaa5f49659c2561196a4d0075": {
      "model_module": "@jupyter-widgets/controls",
      "model_module_version": "1.5.0",
      "model_name": "DescriptionStyleModel",
      "state": {
       "description_width": ""
      }
     },
     "be60bea7d97f4ea4b4a8ad4525cf35d7": {
      "model_module": "@jupyter-widgets/controls",
      "model_module_version": "1.5.0",
      "model_name": "HTMLModel",
      "state": {
       "layout": "IPY_MODEL_4276f91cb7fe4d2fbe95a0982b9de571",
       "style": "IPY_MODEL_cf445e7d84bb4fe1ad723dd3d88fa844",
       "value": "<b>Opening 2</b>"
      }
     },
     "bf69e9d592074e22af4badf5ea4de122": {
      "model_module": "@jupyter-widgets/controls",
      "model_module_version": "1.5.0",
      "model_name": "HBoxModel",
      "state": {
       "children": [
        "IPY_MODEL_5b67927505ac42629451821bc51957fe",
        "IPY_MODEL_4080e02461bd4b4b92b5acad08a31972"
       ],
       "layout": "IPY_MODEL_ea712ee6d4ff435ebef10652b8d193a2"
      }
     },
     "c0dbc8ffe3f44c50a231d7dd02e1ee6c": {
      "model_module": "@jupyter-widgets/base",
      "model_module_version": "1.2.0",
      "model_name": "LayoutModel",
      "state": {}
     },
     "c0f51036aad5432b87a07c1f5cdfcfd5": {
      "model_module": "@jupyter-widgets/base",
      "model_module_version": "1.2.0",
      "model_name": "LayoutModel",
      "state": {}
     },
     "c270870967654bc687d8eb17621e01b7": {
      "model_module": "@jupyter-widgets/controls",
      "model_module_version": "1.5.0",
      "model_name": "FloatSliderModel",
      "state": {
       "layout": "IPY_MODEL_329949f059054802b5e5d4c4a8847798",
       "max": 10,
       "min": -10,
       "step": 0.1,
       "style": "IPY_MODEL_4b7ae08f2c2e4457a48e594d63d0e95c"
      }
     },
     "c308942e274846ffb77f8b07c8bfc12d": {
      "model_module": "@jupyter-widgets/base",
      "model_module_version": "1.2.0",
      "model_name": "LayoutModel",
      "state": {}
     },
     "c33f327d82c14bdb91f242124d35746b": {
      "model_module": "@jupyter-widgets/controls",
      "model_module_version": "1.5.0",
      "model_name": "VBoxModel",
      "state": {
       "children": [
        "IPY_MODEL_ec5c612e9fdd4c4ca240b24611d32c49",
        "IPY_MODEL_c525a9a571b74cf49922808881d67dc9",
        "IPY_MODEL_71ca291dab74428c8776be3409ce415e",
        "IPY_MODEL_e6ac2cfc4bcc451b9d87e10aade6e855"
       ],
       "layout": "IPY_MODEL_69cf0953c8f84361a0976f323c71c131"
      }
     },
     "c399bc1e5c674da787603f8fbffc7776": {
      "model_module": "@jupyter-widgets/controls",
      "model_module_version": "1.5.0",
      "model_name": "SliderStyleModel",
      "state": {
       "description_width": ""
      }
     },
     "c484125eddb44bd6aa6db33c77df2343": {
      "model_module": "@jupyter-widgets/controls",
      "model_module_version": "1.5.0",
      "model_name": "VBoxModel",
      "state": {
       "children": [
        "IPY_MODEL_4f852b4826fa4b9b9cf51616ee1c13bf",
        "IPY_MODEL_279bdbabfbb1462ba12fa3df4f5bdc8d",
        "IPY_MODEL_db5b7b254929402d8c44558416ba830d",
        "IPY_MODEL_10810fff4e48488fabff82914d8c2b64"
       ],
       "layout": "IPY_MODEL_685bd0e46fc245d5a878953ef0831492"
      }
     },
     "c525a9a571b74cf49922808881d67dc9": {
      "model_module": "@jupyter-widgets/controls",
      "model_module_version": "1.5.0",
      "model_name": "HBoxModel",
      "state": {
       "children": [
        "IPY_MODEL_aefaa979b8aa4ff892d3f9d638159230",
        "IPY_MODEL_48bee6d2a6fb421684f2e314711c9016"
       ],
       "layout": "IPY_MODEL_d1033418c9c74d70b43ee4fd2f491dcc"
      }
     },
     "c5b2506b2d1242868b2eda86e635d547": {
      "model_module": "@jupyter-widgets/controls",
      "model_module_version": "1.5.0",
      "model_name": "DescriptionStyleModel",
      "state": {
       "description_width": ""
      }
     },
     "c5f19df97fea4855b6482e73d003a6e7": {
      "model_module": "@jupyter-widgets/controls",
      "model_module_version": "1.5.0",
      "model_name": "LabelModel",
      "state": {
       "layout": "IPY_MODEL_7118d8ddbde14a8d804d226972a0ae1f",
       "style": "IPY_MODEL_87a744ffddbf4379b2b5b929e15b6958",
       "value": "Internal Gain (W)"
      }
     },
     "c6195deeed504facbc8d49dce8ec7006": {
      "model_module": "@jupyter-widgets/controls",
      "model_module_version": "1.5.0",
      "model_name": "DescriptionStyleModel",
      "state": {
       "description_width": ""
      }
     },
     "c6d534c1bd1e43a2a0dcf6a27c22d61b": {
      "model_module": "@jupyter-widgets/controls",
      "model_module_version": "1.5.0",
      "model_name": "HTMLModel",
      "state": {
       "layout": "IPY_MODEL_418f8a0dc5004287a470469a18315a06",
       "style": "IPY_MODEL_d367bace7e0a4c48aeaedf00280f5a71",
       "value": "<h3>Imbalance 0.01(m³/s); 0.5(%) </h3>"
      }
     },
     "c7afa229f25341e7a7993ff02b62156d": {
      "model_module": "@jupyter-widgets/controls",
      "model_module_version": "1.5.0",
      "model_name": "HBoxModel",
      "state": {
       "children": [
        "IPY_MODEL_c861af80e92941d99dc982f3e72d3ed9",
        "IPY_MODEL_5cacf65a49d141f29e143a6f290a2310"
       ],
       "layout": "IPY_MODEL_ddb77e7169184ec888a107804f458210"
      }
     },
     "c83f8103d53848feb2945bc6a053a4ee": {
      "model_module": "@jupyter-widgets/controls",
      "model_module_version": "1.5.0",
      "model_name": "HTMLModel",
      "state": {
       "layout": "IPY_MODEL_99966f9828e24258ba9843bf073929ff",
       "style": "IPY_MODEL_795cc0ea11ee418d9dc7ed238ab36f02",
       "value": "<b>Opening 4</b>"
      }
     },
     "c855cec923774c229c43d4c32e54f2e1": {
      "model_module": "@jupyter-widgets/controls",
      "model_module_version": "1.5.0",
      "model_name": "LabelModel",
      "state": {
       "layout": "IPY_MODEL_e6dc0fc5dce146b0b6b0b0b627fc0710",
       "style": "IPY_MODEL_4858ca08b68b4602ae48f84075bbff6b",
       "value": "Area (m²)"
      }
     },
     "c861af80e92941d99dc982f3e72d3ed9": {
      "model_module": "@jupyter-widgets/controls",
      "model_module_version": "1.5.0",
      "model_name": "LabelModel",
      "state": {
       "layout": "IPY_MODEL_35a041d48f144293b3f7b655a645abe4",
       "style": "IPY_MODEL_9c0ec7a55761480f8a435bf9b405450e",
       "value": "Wind Speed (m/s)"
      }
     },
     "c968c271bfc1495da4cf3ceb331799f1": {
      "model_module": "@jupyter-widgets/controls",
      "model_module_version": "1.5.0",
      "model_name": "FloatSliderModel",
      "state": {
       "layout": "IPY_MODEL_63454ebe35f24ae88db57647da21c84c",
       "max": 1,
       "step": 0.01,
       "style": "IPY_MODEL_b338d8f97de348cbb01c48c6036d2316",
       "value": 0.6
      }
     },
     "c9c11809d7a44bf5ac9a4510b84105bc": {
      "model_module": "@jupyter-widgets/controls",
      "model_module_version": "1.5.0",
      "model_name": "HBoxModel",
      "state": {
       "children": [
        "IPY_MODEL_8c3d631c329e464d8548c84f2ee7c833",
        "IPY_MODEL_5877f92604fe440fa6b99006461f63bf",
        "IPY_MODEL_6923af98c0174a7dbc9c48ec94a8ba96"
       ],
       "layout": "IPY_MODEL_ecc939cfc11c4fbc85395decb855f418"
      }
     },
     "ca118d2502204bdb9f639278492dc0b8": {
      "model_module": "@jupyter-widgets/base",
      "model_module_version": "1.2.0",
      "model_name": "LayoutModel",
      "state": {}
     },
     "ca12c3d74df34f59bdd05819990c1de7": {
      "model_module": "@jupyter-widgets/base",
      "model_module_version": "1.2.0",
      "model_name": "LayoutModel",
      "state": {}
     },
     "ca4dcb2866164316a1ef7d044d9aacdd": {
      "model_module": "@jupyter-widgets/controls",
      "model_module_version": "1.5.0",
      "model_name": "DescriptionStyleModel",
      "state": {
       "description_width": ""
      }
     },
     "cb82ccc47ef04ccc850b81af950b4ec9": {
      "model_module": "@jupyter-widgets/base",
      "model_module_version": "1.2.0",
      "model_name": "LayoutModel",
      "state": {}
     },
     "cd25a1f9976743f0b255619fff1127fd": {
      "model_module": "@jupyter-widgets/controls",
      "model_module_version": "1.5.0",
      "model_name": "DescriptionStyleModel",
      "state": {
       "description_width": ""
      }
     },
     "cdb5b99d9e29463fb948077d557960dd": {
      "model_module": "@jupyter-widgets/base",
      "model_module_version": "1.2.0",
      "model_name": "LayoutModel",
      "state": {
       "width": "300px"
      }
     },
     "ceba8b2e1c6044e9a241de2beaf3dd45": {
      "model_module": "@jupyter-widgets/base",
      "model_module_version": "1.2.0",
      "model_name": "LayoutModel",
      "state": {}
     },
     "ceefc7245fa344628fb7645132bbb6c4": {
      "model_module": "@jupyter-widgets/controls",
      "model_module_version": "1.5.0",
      "model_name": "LabelModel",
      "state": {
       "layout": "IPY_MODEL_460e613fe1ed486e900b2b6c83609cce",
       "style": "IPY_MODEL_4d8eb6d94a1c477b82d274f11dfc4b1e",
       "value": "Mechanical Supply/Extract?"
      }
     },
     "cf445e7d84bb4fe1ad723dd3d88fa844": {
      "model_module": "@jupyter-widgets/controls",
      "model_module_version": "1.5.0",
      "model_name": "DescriptionStyleModel",
      "state": {
       "description_width": ""
      }
     },
     "cf5d49c47c914deda96d216adc6d7df4": {
      "model_module": "@jupyter-widgets/base",
      "model_module_version": "1.2.0",
      "model_name": "LayoutModel",
      "state": {
       "width": "300px"
      }
     },
     "d1033418c9c74d70b43ee4fd2f491dcc": {
      "model_module": "@jupyter-widgets/base",
      "model_module_version": "1.2.0",
      "model_name": "LayoutModel",
      "state": {}
     },
     "d17b7e177e4c4b7288185c250f653b2b": {
      "model_module": "@jupyter-widgets/controls",
      "model_module_version": "1.5.0",
      "model_name": "SliderStyleModel",
      "state": {
       "description_width": ""
      }
     },
     "d19d7c63317b49448cd3ab476ea01b08": {
      "model_module": "@jupyter-widgets/controls",
      "model_module_version": "1.5.0",
      "model_name": "VBoxModel",
      "state": {
       "children": [
        "IPY_MODEL_e70afca88a134d58990aff2c9e45a270",
        "IPY_MODEL_8acc7ac418434c28a19be787fe02496b",
        "IPY_MODEL_7cf94622799348e0ba3f7184b5d2bb41"
       ],
       "layout": "IPY_MODEL_685bd0e46fc245d5a878953ef0831492"
      }
     },
     "d367bace7e0a4c48aeaedf00280f5a71": {
      "model_module": "@jupyter-widgets/controls",
      "model_module_version": "1.5.0",
      "model_name": "DescriptionStyleModel",
      "state": {
       "description_width": ""
      }
     },
     "d473de2f205b4648868a7ba6937de4e5": {
      "model_module": "@jupyter-widgets/controls",
      "model_module_version": "1.5.0",
      "model_name": "HTMLModel",
      "state": {
       "layout": "IPY_MODEL_5f7fa3fb4ad6406e82f78894c969d693",
       "style": "IPY_MODEL_00e989f577874ca7ac655c71b4950714",
       "value": "<b>Opening 3</b>"
      }
     },
     "d520404460264b15b48392e86a97719e": {
      "model_module": "@jupyter-widgets/controls",
      "model_module_version": "1.5.0",
      "model_name": "FloatSliderModel",
      "state": {
       "layout": "IPY_MODEL_51f9d58a232e47038863cabfd984a15b",
       "max": 1,
       "step": 0.01,
       "style": "IPY_MODEL_1df112ef6d554082853cc1fd3091de68",
       "value": 0.6
      }
     },
     "d57771d976a248b7952093f0b6fd2a1f": {
      "model_module": "@jupyter-widgets/base",
      "model_module_version": "1.2.0",
      "model_name": "LayoutModel",
      "state": {}
     },
     "d5ab1312d1c44a129871fab2941837d7": {
      "model_module": "@jupyter-widgets/base",
      "model_module_version": "1.2.0",
      "model_name": "LayoutModel",
      "state": {}
     },
     "d5d2f5dd2dbd41b68216cde907cd5df3": {
      "model_module": "@jupyter-widgets/controls",
      "model_module_version": "1.5.0",
      "model_name": "DescriptionStyleModel",
      "state": {
       "description_width": ""
      }
     },
     "d60aac2d07064d2fb17d4fc19329729a": {
      "model_module": "@jupyter-widgets/base",
      "model_module_version": "1.2.0",
      "model_name": "LayoutModel",
      "state": {}
     },
     "d6cb6e0c96324a98adf8b369c6852fb0": {
      "model_module": "@jupyter-widgets/controls",
      "model_module_version": "1.5.0",
      "model_name": "ButtonStyleModel",
      "state": {}
     },
     "d7a6e83382944f8c871f3e0861fe11fb": {
      "model_module": "@jupyter-widgets/controls",
      "model_module_version": "1.5.0",
      "model_name": "HBoxModel",
      "state": {
       "children": [
        "IPY_MODEL_1176a0ffb62349e6a534b987a0ce3d2c",
        "IPY_MODEL_e91cb8440a0c4d339d06b339d74c9202"
       ],
       "layout": "IPY_MODEL_d60aac2d07064d2fb17d4fc19329729a"
      }
     },
     "d864da2922184c918e9647c36283c992": {
      "model_module": "@jupyter-widgets/controls",
      "model_module_version": "1.5.0",
      "model_name": "DescriptionStyleModel",
      "state": {
       "description_width": ""
      }
     },
     "d8e139f6bf94448eb283537a954e5cc5": {
      "model_module": "@jupyter-widgets/controls",
      "model_module_version": "1.5.0",
      "model_name": "LabelModel",
      "state": {
       "layout": "IPY_MODEL_c0f51036aad5432b87a07c1f5cdfcfd5",
       "style": "IPY_MODEL_b091d823da654d3a8dcb2e34a2280ed8",
       "value": "Mechanical Supply/Extract?"
      }
     },
     "da8e02be85224b98a9726cf19a1a914c": {
      "model_module": "@jupyter-widgets/controls",
      "model_module_version": "1.5.0",
      "model_name": "HBoxModel",
      "state": {
       "children": [
        "IPY_MODEL_d8e139f6bf94448eb283537a954e5cc5",
        "IPY_MODEL_202895ad54854c74b0839011f6961b1d"
       ],
       "layout": "IPY_MODEL_2dfb7d1641be4952ac9f7bcab7a49f47"
      }
     },
     "daec7200f26c402e98e1dd5e7c1351c3": {
      "model_module": "@jupyter-widgets/base",
      "model_module_version": "1.2.0",
      "model_name": "LayoutModel",
      "state": {
       "width": "300px"
      }
     },
     "db5b7b254929402d8c44558416ba830d": {
      "model_module": "@jupyter-widgets/controls",
      "model_module_version": "1.5.0",
      "model_name": "HTMLModel",
      "state": {
       "layout": "IPY_MODEL_3f60453ce3ae4d8aba786f94d0e15455",
       "style": "IPY_MODEL_c5b2506b2d1242868b2eda86e635d547",
       "value": "M Liddament - AIVC Guide to Ventilation 1995 <br/> Extended by O Beckett 2019"
      }
     },
     "dbebf31f992c4f30aa3263b134cef260": {
      "model_module": "@jupyter-widgets/base",
      "model_module_version": "1.2.0",
      "model_name": "LayoutModel",
      "state": {}
     },
     "dd5dbde78920496dabf071d1cdb3532e": {
      "model_module": "@jupyter-widgets/base",
      "model_module_version": "1.2.0",
      "model_name": "LayoutModel",
      "state": {}
     },
     "ddb77e7169184ec888a107804f458210": {
      "model_module": "@jupyter-widgets/base",
      "model_module_version": "1.2.0",
      "model_name": "LayoutModel",
      "state": {}
     },
     "de28a3f2779042faba8f8c468b4c61d9": {
      "model_module": "@jupyter-widgets/controls",
      "model_module_version": "1.5.0",
      "model_name": "DescriptionStyleModel",
      "state": {
       "description_width": ""
      }
     },
     "defafebfc1794b30867d9e68c9cd3031": {
      "model_module": "@jupyter-widgets/controls",
      "model_module_version": "1.5.0",
      "model_name": "DescriptionStyleModel",
      "state": {
       "description_width": ""
      }
     },
     "dfb75a64c24747208c5999e1a4976c11": {
      "model_module": "@jupyter-widgets/controls",
      "model_module_version": "1.5.0",
      "model_name": "DescriptionStyleModel",
      "state": {
       "description_width": ""
      }
     },
     "dfe6105ba5424a3089e2aa4201adf969": {
      "model_module": "@jupyter-widgets/controls",
      "model_module_version": "1.5.0",
      "model_name": "HBoxModel",
      "state": {
       "children": [
        "IPY_MODEL_8a5bfa6f0c4945f784fa3063ffe4bcee",
        "IPY_MODEL_d520404460264b15b48392e86a97719e"
       ],
       "layout": "IPY_MODEL_d5ab1312d1c44a129871fab2941837d7"
      }
     },
     "e07beaaa75184344b5b2ef87e993de02": {
      "model_module": "@jupyter-widgets/base",
      "model_module_version": "1.2.0",
      "model_name": "LayoutModel",
      "state": {}
     },
     "e0b7238f8df949939ec1ce96901db606": {
      "model_module": "@jupyter-widgets/base",
      "model_module_version": "1.2.0",
      "model_name": "LayoutModel",
      "state": {}
     },
     "e0fc281327894fc8874083a8ff83832d": {
      "model_module": "@jupyter-widgets/controls",
      "model_module_version": "1.5.0",
      "model_name": "LabelModel",
      "state": {
       "layout": "IPY_MODEL_815b3ba9e0884020ab3c1bcfafe2bbac",
       "style": "IPY_MODEL_666da7f9bbfb4c60873389f485dee86c",
       "value": "Wind Coeff. / Mech. flowrate (m³/s)"
      }
     },
     "e0ff18a2f14f419dab76f3bf1ee4b77b": {
      "model_module": "@jupyter-widgets/controls",
      "model_module_version": "1.5.0",
      "model_name": "DescriptionStyleModel",
      "state": {
       "description_width": ""
      }
     },
     "e10ba31f29234050b5506f0ce104ee25": {
      "model_module": "@jupyter-widgets/base",
      "model_module_version": "1.2.0",
      "model_name": "LayoutModel",
      "state": {}
     },
     "e13b6d91cec84dcba434cb565f2215d5": {
      "model_module": "@jupyter-widgets/controls",
      "model_module_version": "1.5.0",
      "model_name": "DescriptionStyleModel",
      "state": {
       "description_width": ""
      }
     },
     "e1692e39a4d84ba192113bccc569b7e4": {
      "model_module": "@jupyter-widgets/controls",
      "model_module_version": "1.5.0",
      "model_name": "HBoxModel",
      "state": {
       "children": [
        "IPY_MODEL_37dedda9afa946d88a1d892beb7e65f7",
        "IPY_MODEL_fc35824b77d84929bade176128799738"
       ],
       "layout": "IPY_MODEL_a3d07447664e4397bde27d697a42ba0b"
      }
     },
     "e205469a523441d4bc5f8e82937e9db0": {
      "model_module": "@jupyter-widgets/base",
      "model_module_version": "1.2.0",
      "model_name": "LayoutModel",
      "state": {}
     },
     "e231d75ca26848a6af03f1eba107d98a": {
      "model_module": "@jupyter-widgets/controls",
      "model_module_version": "1.5.0",
      "model_name": "CheckboxModel",
      "state": {
       "disabled": false,
       "layout": "IPY_MODEL_ac06e1fe157d41a894fc0d206d6acd3b",
       "style": "IPY_MODEL_74c3d717ebdb49bfbeedac5fe2a976b5",
       "value": false
      }
     },
     "e3fda4f522e14b5c94c07828a0c842d1": {
      "model_module": "@jupyter-widgets/base",
      "model_module_version": "1.2.0",
      "model_name": "LayoutModel",
      "state": {}
     },
     "e5cc60ed948c4d4a8abee9ddc67b1f0a": {
      "model_module": "@jupyter-widgets/controls",
      "model_module_version": "1.5.0",
      "model_name": "VBoxModel",
      "state": {
       "children": [
        "IPY_MODEL_d473de2f205b4648868a7ba6937de4e5",
        "IPY_MODEL_099f7d5cc51b4ffaba2b3b17acb4f18c",
        "IPY_MODEL_8d862c42219d4b12b867bf35bdc5b368",
        "IPY_MODEL_e6c31558f1af42c7b4027f29c2c93fba",
        "IPY_MODEL_5196e12a78b943c48d5561607f3fffa9",
        "IPY_MODEL_da8e02be85224b98a9726cf19a1a914c",
        "IPY_MODEL_9a016e6e9a64405d93f39abaaafbce64"
       ],
       "layout": "IPY_MODEL_685bd0e46fc245d5a878953ef0831492"
      }
     },
     "e641a7a7ed4c4446a1badc7d5f26094f": {
      "model_module": "@jupyter-widgets/base",
      "model_module_version": "1.2.0",
      "model_name": "LayoutModel",
      "state": {}
     },
     "e6ac2cfc4bcc451b9d87e10aade6e855": {
      "model_module": "@jupyter-widgets/controls",
      "model_module_version": "1.5.0",
      "model_name": "HBoxModel",
      "state": {
       "children": [
        "IPY_MODEL_fd0fa08a7a84466fbf6e05ee195833de",
        "IPY_MODEL_85fed50c27154b14b0507dbd45ea6412"
       ],
       "layout": "IPY_MODEL_0854a046d24c40fdb4e893245568ace8"
      }
     },
     "e6c31558f1af42c7b4027f29c2c93fba": {
      "model_module": "@jupyter-widgets/controls",
      "model_module_version": "1.5.0",
      "model_name": "HBoxModel",
      "state": {
       "children": [
        "IPY_MODEL_3d477d2f3ac84fc3bacbd85423ea8587",
        "IPY_MODEL_f21364b4593e45df9daca942bd0fc2ec"
       ],
       "layout": "IPY_MODEL_83e028ca832c41198d2801c72b2c3fb5"
      }
     },
     "e6dc0fc5dce146b0b6b0b0b627fc0710": {
      "model_module": "@jupyter-widgets/base",
      "model_module_version": "1.2.0",
      "model_name": "LayoutModel",
      "state": {}
     },
     "e70afca88a134d58990aff2c9e45a270": {
      "model_module": "@jupyter-widgets/controls",
      "model_module_version": "1.5.0",
      "model_name": "HBoxModel",
      "state": {
       "children": [
        "IPY_MODEL_f63eb4af4cc04d11b94c5d625c1fa379",
        "IPY_MODEL_225916a87459478b83b5b01574af7637",
        "IPY_MODEL_ab8752f6fdbc4c9d85fe2551b8c38ecc"
       ],
       "layout": "IPY_MODEL_2600a1eaabaf4e30a945a8694ba009ac"
      }
     },
     "e7ab779b7b2f4098ad4480ac15c8ef51": {
      "model_module": "@jupyter-widgets/controls",
      "model_module_version": "1.5.0",
      "model_name": "SliderStyleModel",
      "state": {
       "description_width": ""
      }
     },
     "e8080a763fbe4970ad1fd15d12872a01": {
      "model_module": "@jupyter-widgets/base",
      "model_module_version": "1.2.0",
      "model_name": "LayoutModel",
      "state": {}
     },
     "e82d6bf9cb4545e39e740623eb9b36a1": {
      "model_module": "@jupyter-widgets/base",
      "model_module_version": "1.2.0",
      "model_name": "LayoutModel",
      "state": {}
     },
     "e91cb8440a0c4d339d06b339d74c9202": {
      "model_module": "@jupyter-widgets/controls",
      "model_module_version": "1.5.0",
      "model_name": "FloatSliderModel",
      "state": {
       "layout": "IPY_MODEL_165a69b48940418884e3452fe23f84da",
       "max": 40,
       "min": -10,
       "step": 0.1,
       "style": "IPY_MODEL_a6a3aeca64304fd2915468062fd4323b",
       "value": 24
      }
     },
     "e92fd395ce81461ba07cf2db2cd7bcf4": {
      "model_module": "@jupyter-widgets/controls",
      "model_module_version": "1.5.0",
      "model_name": "HBoxModel",
      "state": {
       "children": [
        "IPY_MODEL_ceefc7245fa344628fb7645132bbb6c4",
        "IPY_MODEL_e231d75ca26848a6af03f1eba107d98a"
       ],
       "layout": "IPY_MODEL_2546a2f8076d4078bba5a6a36d3bc889"
      }
     },
     "ea564b6a2606436aad63bfcd9048123b": {
      "model_module": "@jupyter-widgets/controls",
      "model_module_version": "1.5.0",
      "model_name": "ButtonStyleModel",
      "state": {}
     },
     "ea712ee6d4ff435ebef10652b8d193a2": {
      "model_module": "@jupyter-widgets/base",
      "model_module_version": "1.2.0",
      "model_name": "LayoutModel",
      "state": {}
     },
     "eb7184b1694e4502847e58472a822afd": {
      "model_module": "@jupyter-widgets/base",
      "model_module_version": "1.2.0",
      "model_name": "LayoutModel",
      "state": {}
     },
     "ec5c612e9fdd4c4ca240b24611d32c49": {
      "model_module": "@jupyter-widgets/controls",
      "model_module_version": "1.5.0",
      "model_name": "HBoxModel",
      "state": {
       "children": [
        "IPY_MODEL_88aac400576d4bc2896f9c08b91d487f",
        "IPY_MODEL_b20f52e1c0334add87d3a64c7ded89fe"
       ],
       "layout": "IPY_MODEL_61fcd114f2444e51a9f5accba616a944"
      }
     },
     "ecc939cfc11c4fbc85395decb855f418": {
      "model_module": "@jupyter-widgets/base",
      "model_module_version": "1.2.0",
      "model_name": "LayoutModel",
      "state": {}
     },
     "ed99e78e0dd240ca932d2740ae1da2cb": {
      "model_module": "@jupyter-widgets/base",
      "model_module_version": "1.2.0",
      "model_name": "LayoutModel",
      "state": {
       "width": "300px"
      }
     },
     "edbb6b8805244428a8fb75026db79a8c": {
      "model_module": "@jupyter-widgets/base",
      "model_module_version": "1.2.0",
      "model_name": "LayoutModel",
      "state": {}
     },
     "eea30176c07d41d1bd18d235d2cab31c": {
      "model_module": "@jupyter-widgets/base",
      "model_module_version": "1.2.0",
      "model_name": "LayoutModel",
      "state": {}
     },
     "f047ace1ba194681bc418834afba68b1": {
      "model_module": "@jupyter-widgets/controls",
      "model_module_version": "1.5.0",
      "model_name": "DescriptionStyleModel",
      "state": {
       "description_width": ""
      }
     },
     "f0e91035e45e47c29cacab4ed5b745b8": {
      "model_module": "@jupyter-widgets/base",
      "model_module_version": "1.2.0",
      "model_name": "LayoutModel",
      "state": {}
     },
     "f16bed111d5247a180a3157e2e7b4f8d": {
      "model_module": "@jupyter-widgets/controls",
      "model_module_version": "1.5.0",
      "model_name": "HBoxModel",
      "state": {
       "children": [
        "IPY_MODEL_c855cec923774c229c43d4c32e54f2e1",
        "IPY_MODEL_51abe1e5dbad42c3a50f994448f60455"
       ],
       "layout": "IPY_MODEL_9409c19db0f6456ba6c3f54bd95cc874"
      }
     },
     "f21364b4593e45df9daca942bd0fc2ec": {
      "model_module": "@jupyter-widgets/controls",
      "model_module_version": "1.5.0",
      "model_name": "FloatSliderModel",
      "state": {
       "layout": "IPY_MODEL_95b4475987e7405299c66b381e11926e",
       "max": 25,
       "step": 0.1,
       "style": "IPY_MODEL_86eefeb6e0324cb9b77d562ea19981c6",
       "value": 7.5
      }
     },
     "f259a8a366e74a718853bd84f5d4734b": {
      "model_module": "@jupyter-widgets/base",
      "model_module_version": "1.2.0",
      "model_name": "LayoutModel",
      "state": {}
     },
     "f3566346e4504b8b9657bc6ff35364c7": {
      "model_module": "@jupyter-widgets/controls",
      "model_module_version": "1.5.0",
      "model_name": "HBoxModel",
      "state": {
       "children": [
        "IPY_MODEL_b4d2db417abd427592e9342e1e779971",
        "IPY_MODEL_b1239272f8374e4d8a11293dafc287e6"
       ],
       "layout": "IPY_MODEL_61154ea360474894a228aeec5fbc15c9"
      }
     },
     "f3f0854a97d84cc0902288e6eb406fb7": {
      "model_module": "@jupyter-widgets/controls",
      "model_module_version": "1.5.0",
      "model_name": "LabelModel",
      "state": {
       "layout": "IPY_MODEL_a8677279cf4548eabca002a3da889be8",
       "style": "IPY_MODEL_a987fbb7137b45e3a53be89863242ad9",
       "value": "Height (m)"
      }
     },
     "f621a836d535481091dc02b59bd3853c": {
      "model_module": "@jupyter-widgets/base",
      "model_module_version": "1.2.0",
      "model_name": "LayoutModel",
      "state": {}
     },
     "f63eb4af4cc04d11b94c5d625c1fa379": {
      "model_module": "@jupyter-widgets/controls",
      "model_module_version": "1.5.0",
      "model_name": "ButtonModel",
      "state": {
       "description": "Add Opening",
       "layout": "IPY_MODEL_a676a14250074b4b86686def1ca11310",
       "style": "IPY_MODEL_9b7484fcd9a14f199d6696fdf423c01c"
      }
     },
     "f812daad18c245a5a1ce8107d15fdae7": {
      "model_module": "@jupyter-widgets/controls",
      "model_module_version": "1.5.0",
      "model_name": "HBoxModel",
      "state": {
       "children": [
        "IPY_MODEL_d19d7c63317b49448cd3ab476ea01b08",
        "IPY_MODEL_4cb15f7db2aa453c82b06013794fd041",
        "IPY_MODEL_94ff8b5e0f93472890bd74321ace73c6"
       ],
       "layout": "IPY_MODEL_1c5f5923daf249a09cabd94e3c054a73"
      }
     },
     "fa7fea4fecba4e21adcf5995a9ba6f2e": {
      "model_module": "@jupyter-widgets/base",
      "model_module_version": "1.2.0",
      "model_name": "LayoutModel",
      "state": {}
     },
     "fac627332b2844dbb7468ef682c1c6ee": {
      "model_module": "@jupyter-widgets/controls",
      "model_module_version": "1.5.0",
      "model_name": "DescriptionStyleModel",
      "state": {
       "description_width": ""
      }
     },
     "fb8f9a21b479473c919169c941105a1c": {
      "model_module": "@jupyter-widgets/base",
      "model_module_version": "1.2.0",
      "model_name": "LayoutModel",
      "state": {}
     },
     "fbcb3cef93454401bf261e868e8d4efc": {
      "model_module": "@jupyter-widgets/base",
      "model_module_version": "1.2.0",
      "model_name": "LayoutModel",
      "state": {}
     },
     "fc35824b77d84929bade176128799738": {
      "model_module": "@jupyter-widgets/controls",
      "model_module_version": "1.5.0",
      "model_name": "FloatSliderModel",
      "state": {
       "layout": "IPY_MODEL_3b6a1d4a1a0a4cc28822244d2e212d7f",
       "max": 1,
       "step": 0.01,
       "style": "IPY_MODEL_8e1b7e61f2e742f7bddefaaeb84d25d2",
       "value": 0.6
      }
     },
     "fc984ab179ce480d96f8b8eea487bbc8": {
      "model_module": "@jupyter-widgets/output",
      "model_module_version": "1.0.0",
      "model_name": "OutputModel",
      "state": {
       "layout": "IPY_MODEL_1abd3a799d5b4ecdb401b15b2246e437"
      }
     },
     "fd0fa08a7a84466fbf6e05ee195833de": {
      "model_module": "@jupyter-widgets/controls",
      "model_module_version": "1.5.0",
      "model_name": "LabelModel",
      "state": {
       "layout": "IPY_MODEL_04d7fbfffa8d419f95c12b392c5edc4f",
       "style": "IPY_MODEL_32e5d04ff9964503819882f86c9f6406",
       "value": "Wind Speed (m/s)"
      }
     },
     "fe6dfcaabc0447bb8796832e120746a6": {
      "model_module": "@jupyter-widgets/base",
      "model_module_version": "1.2.0",
      "model_name": "LayoutModel",
      "state": {}
     },
     "fee98dd7205e4868822d39b8569bda69": {
      "model_module": "@jupyter-widgets/controls",
      "model_module_version": "1.5.0",
      "model_name": "DescriptionStyleModel",
      "state": {
       "description_width": ""
      }
     },
     "ffcccd884e6d463cb0ee5491742df6f2": {
      "model_module": "@jupyter-widgets/controls",
      "model_module_version": "1.5.0",
      "model_name": "ButtonModel",
      "state": {
       "description": "Solve",
       "layout": "IPY_MODEL_9aca9ebd83d14deebaa1d3a4b6b40952",
       "style": "IPY_MODEL_b3bc861246414b0d83061150a5e4ac68"
      }
     },
     "ffe0db585d814b078f125cd78e7e09fd": {
      "buffers": [
       {
        "data": "H4sIAAAAAAACA62RUU+DMBDHvwq5Z0SYE7Y9uWzDEKcQNoMJIaSBujTpWi2g02XffVdcdcZXHy5pej9+/+O6h41iNUz2UJOWwCTPYbWel7NFtAQbfN8PrEi0VAnCrRllnInNZcilVGB7jjsu7C9+Hsep4ed9d+AMTDNcxp5pLnYvsqG1dXK4jjc0WDJN138yE6Ja1jIpdF7wnZfGcWjYVMrn36ZsujwLPJkywnmPjQy2eFoPfiQ1rQjGCcobjQXeGZYZbEWrTrH2w7rl5BN3oacaDf9fWNjARE13pZLvjX4dQbYUDzlE+hqw/0Z411/lLoq1XC/8CkvPc43lYwVY+ofHRXEwzkrybiv6T+EGH1/P9YD+/vB40YvLLKFq9doRRe8pbvAOUHA4AoXIououAgAA",
        "encoding": "base64",
        "path": [
         "_grid_data_up"
        ]
       }
      ],
      "model_module": "ipyaggrid",
      "model_module_version": "~0.2.1",
      "model_name": "AgGridModel",
      "state": {
       "_grid_data_down": [
        {
         "@id": "STD_CEIL",
         "Name": "6667 Internal Ceiling/Floor",
         "U-value_WPerSquareMeterK": 1.09
        },
        {
         "@id": "STD_DOOR",
         "Name": "6667 Door",
         "U-value_WPerSquareMeterK": 2.2
        },
        {
         "@id": "STD_FLO1",
         "Name": "6667 Exposed Floor",
         "U-value_WPerSquareMeterK": 0.14
        },
        {
         "@id": "STD_PART",
         "Name": "6667 Internal Partition",
         "U-value_WPerSquareMeterK": 1.79
        },
        {
         "@id": "STD_ROOF",
         "Name": "6667 Roof",
         "U-value_WPerSquareMeterK": 0.14
        },
        {
         "@id": "STD_WAL1",
         "Name": "6667 External Wall",
         "U-value_WPerSquareMeterK": 0.18
        },
        {
         "@id": "STD_EXT2",
         "Name": "6667 Rodeca Panels",
         "U-value_WPerSquareMeterK": 0.71
        },
        {
         "@id": "STD_EXTW",
         "Name": "6667 Security Glazing",
         "U-value_WPerSquareMeterK": 1.84
        },
        {
         "@id": "STD_EXT2",
         "Name": "6667 Rodeca Panels",
         "U-value_WPerSquareMeterK": 0.71
        },
        {
         "@id": "STD_EXTW",
         "Name": "6667 Security Glazing",
         "U-value_WPerSquareMeterK": 1.84
        }
       ],
       "_grid_options_mono_down": "{\"enableSorting\": true, \"enableFilter\": true, \"enableColResize\": true, \"enableRangeSelection\": true, \"columnDefs\": [{\"field\": \"@id\", \"type\": \"textColumn\", \"headerName\": \"@Id\"}, {\"field\": \"Name\", \"type\": \"textColumn\", \"headerName\": \"Name\"}, {\"field\": \"U-value_WPerSquareMeterK\", \"type\": \"numberColumn\", \"headerName\": \"U-Value_Wpersquaremeterk\"}], \"columnTypes\": {\"numberColumn\": {\"filter\": \"agNumberColumnFilter\"}, \"textColumn\": {\"filter\": \"agTextColumnFilter\"}, \"dateColumn\": {\"valueFormatter\": \"helpers.dateFormatter\", \"filter\": \"agDateColumnFilter\", \"filterParams\": {\"comparator\": \"helpers.compareDates\"}}}}",
       "_id": 707079781,
       "_js_helpers_builtin": "helpersBuiltin = {\n    dateFormatter: function(node) {\n        // make sure date is not undefined\n        if (node && node.value) {\n            let d = new Date(node.value);\n            let h = d.getHours();\n            let m = d.getMinutes();\n            let s = d.getSeconds();\n            const offset = d.getTimezoneOffset() * 60000;\n            d = new Date(d.getTime() - offset);\n            const ymd = d.toISOString().substring(0, 10);\n            if (h === 0 && m === 0 && s === 0) {\n                return ymd;\n            }\n            if (h === 0) h = '00';\n            if (m === 0) m = '00';\n            if (s === 0) s = '00';\n            return `${ymd} ${h}:${m}:${s}`;\n        }\n        return null;\n    },\n\n    formatInt: d3.format(',.0f'),\n    formatFloat: d3.format(',.2f'),\n\n    intFormatter: function(node) {\n        return formatInt(node.value);\n    },\n\n    floatFormatter: function(node) {\n        return formatFloat(node.value);\n    },\n\n    compareDates: function(filterLocalDate, cellValue) {\n        // Assume dates are stored as iso\n        const cellDate = new Date(cellValue);\n\n        if (cellDate < filterLocalDate) {\n            return -1;\n        } else if (cellDate > filterLocalDate) {\n            return 1;\n        }\n        return 0;\n    },\n\n    sizeToFit: function(gridOptions) {\n        gridOptions.api.sizeColumnsToFit();\n    },\n\n    autoSizeAll: function(gridOptions) {\n        const allColumnIds = [];\n        gridOptions.columnApi.getAllColumns().forEach(column => {\n            allColumnIds.push(column.colId);\n        });\n        gridOptions.columnApi.autoSizeColumns(allColumnIds);\n    },\n\n    /**\n     * Exporting data to CSV using ag-Grid api.\n     * @param {Object} gridOptions\n     */\n    exportToCsv: function(gridOptions) {\n        const params = {\n            skipHeader: false,\n            columnGroups: true,\n            skipFooters: false,\n            skipGroups: false,\n            skipPinnedTop: false,\n            skipPinnedBottom: false,\n            allColumns: true,\n            onlySelected: false,\n            suppressQuotes: true,\n            fileName: 'my_file.csv',\n            sheetName: 'my_sheet',\n            shouldRowBeSkipped: () => false,\n            processCellCallback: param => param.value,\n            processHeaderCallback: null,\n        };\n        gridOptions.api.exportDataAsCsv(params);\n    },\n\n    /**\n     * Exporting data to Excel using ag-Grid api.\n     * @param {Object} gridOptions\n     */\n    exportToExcel: function(gridOptions) {\n        const params = {\n            skipHeader: false,\n            columnGroups: true,\n            skipFooters: false,\n            skipGroups: false,\n            skipPinnedTop: false,\n            skipPinnedBottom: false,\n            allColumns: true,\n            onlySelected: false,\n            suppressQuotes: true,\n            fileName: 'my_file.xls',\n            sheetName: 'my_sheet',\n            shouldRowBeSkipped: () => false, // TODO : check\n            processCellCallback: param => param.value,\n            processHeaderCallback: null,\n        };\n        gridOptions.api.exportDataAsExcel(params);\n    },\n};\n",
       "columns_fit": "size_to_fit",
       "compress_data": true,
       "export_mode": "disabled",
       "height": "350px",
       "js_helpers": "{\"dateFormatter\":\"function(node) {\\n        // make sure date is not undefined\\n        if (node && node.value) {\\n            let d = new Date(node.value);\\n            let h = d.getHours();\\n            let m = d.getMinutes();\\n            let s = d.getSeconds();\\n            const offset = d.getTimezoneOffset() * 60000;\\n            d = new Date(d.getTime() - offset);\\n            const ymd = d.toISOString().substring(0, 10);\\n            if (h === 0 && m === 0 && s === 0) {\\n                return ymd;\\n            }\\n            if (h === 0) h = '00';\\n            if (m === 0) m = '00';\\n            if (s === 0) s = '00';\\n            return `${ymd} ${h}:${m}:${s}`;\\n        }\\n        return null;\\n    }\",\"formatInt\":\" >-,.0f\",\"formatFloat\":\" >-,.2f\",\"intFormatter\":\"function(node) {\\n        return formatInt(node.value);\\n    }\",\"floatFormatter\":\"function(node) {\\n        return formatFloat(node.value);\\n    }\",\"compareDates\":\"function(filterLocalDate, cellValue) {\\n        // Assume dates are stored as iso\\n        const cellDate = new Date(cellValue);\\n\\n        if (cellDate < filterLocalDate) {\\n            return -1;\\n        } else if (cellDate > filterLocalDate) {\\n            return 1;\\n        }\\n        return 0;\\n    }\",\"sizeToFit\":\"function(gridOptions) {\\n        gridOptions.api.sizeColumnsToFit();\\n    }\",\"autoSizeAll\":\"function(gridOptions) {\\n        const allColumnIds = [];\\n        gridOptions.columnApi.getAllColumns().forEach(column => {\\n            allColumnIds.push(column.colId);\\n        });\\n        gridOptions.columnApi.autoSizeColumns(allColumnIds);\\n    }\",\"exportToCsv\":\"function(gridOptions) {\\n        const params = {\\n            skipHeader: false,\\n            columnGroups: true,\\n            skipFooters: false,\\n            skipGroups: false,\\n            skipPinnedTop: false,\\n            skipPinnedBottom: false,\\n            allColumns: true,\\n            onlySelected: false,\\n            suppressQuotes: true,\\n            fileName: 'my_file.csv',\\n            sheetName: 'my_sheet',\\n            shouldRowBeSkipped: () => false,\\n            processCellCallback: param => param.value,\\n            processHeaderCallback: null,\\n        };\\n        gridOptions.api.exportDataAsCsv(params);\\n    }\",\"exportToExcel\":\"function(gridOptions) {\\n        const params = {\\n            skipHeader: false,\\n            columnGroups: true,\\n            skipFooters: false,\\n            skipGroups: false,\\n            skipPinnedTop: false,\\n            skipPinnedBottom: false,\\n            allColumns: true,\\n            onlySelected: false,\\n            suppressQuotes: true,\\n            fileName: 'my_file.xls',\\n            sheetName: 'my_sheet',\\n            shouldRowBeSkipped: () => false, // TODO : check\\n            processCellCallback: param => param.value,\\n            processHeaderCallback: null,\\n        };\\n        gridOptions.api.exportDataAsExcel(params);\\n    }\"}",
       "layout": "IPY_MODEL_2ea2c36fc8364d7fb1635d2c07adffbd",
       "menu": {
        "button_div_css": ".flex-button-div-707079781 {\ndisplay: flex;\njustify-content: flex-start;\nalign-items: flex-start;\nalign-content: flex-start;\nflex-flow: row wrap;\n}\n",
        "buttons": [],
        "input_div_css": ".flex-input-div-707079781 {\ndisplay: flex;\njustify-content: flex-start;\nalign-items: baseline;\nalign-content: flex-start;\nflex-flow: row wrap;\n}\n",
        "inputs": [
         {
          "css": ".flex-child-quick-filter-707079781 {\norder: 0;\nalign-self: auto;\nmargin: 5px;\nflex: 0.00 1.00 auto;\nwidth: 150px;\n}\n",
          "name": "Quick Filter"
         }
        ],
        "menu_div_css": ".flex-menu-div-707079781 {\ndisplay: flex;\njustify-content: flex-start;\nalign-items: flex-start;\nalign-content: flex-start;\nflex-flow: row wrap;\n}\n"
       },
       "theme": "ag-theme-balham",
       "width": "100%"
      }
     }
    },
    "version_major": 2,
    "version_minor": 0
   }
  }
 },
 "nbformat": 4,
 "nbformat_minor": 4
}
