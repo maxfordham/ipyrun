{
 "cells": [
  {
   "cell_type": "code",
   "execution_count": 1,
   "metadata": {},
   "outputs": [],
   "source": [
    "import os\n",
    "import pandas as pd\n",
    "from IPython.display import display, Image, JSON, Markdown, HTML, display_pdf, clear_output\n",
    "import ipywidgets as widgets\n",
    "import ipysheet\n",
    "from ipysheet import from_dataframe, to_dataframe\n",
    "from markdown import markdown\n",
    "from datetime import datetime\n",
    "from mf_modules.pydtype_operations import read_json, write_json \n",
    "from mf_modules.file_operations import make_dir"
   ]
  },
  {
   "cell_type": "code",
   "execution_count": 14,
   "metadata": {},
   "outputs": [],
   "source": [
    "def _markdown(value='_Markdown_',\n",
    "              **kwargs):\n",
    "    \"\"\"\n",
    "    a simple template for markdown text input that templates required input\n",
    "    fields. additional user defined fields can be added as kwargs\n",
    "    \"\"\"\n",
    "    _kwargs = {}\n",
    "    _kwargs['value'] = markdown(value)  # required field\n",
    "    _kwargs.update(kwargs)  # user overides\n",
    "    return widgets.HTML(**_kwargs)\n",
    "\n",
    "class EditDictData():\n",
    "    \"\"\"\n",
    "    contains form layout specs and mapping dict used for associating input\n",
    "    variables to the appropriate widget. \n",
    "    \"\"\"\n",
    "           \n",
    "    @property\n",
    "    def MF_FORM_ITEM_LAYOUT(self):\n",
    "        return widgets.Layout(\n",
    "            display='flex',\n",
    "            flex_flow='row',\n",
    "            justify_content='flex-start',\n",
    "            #border='solid 1px green',\n",
    "            grid_auto_columns='True',\n",
    "            width='80%',\n",
    "            align_items='stretch',  \n",
    "        )\n",
    "    \n",
    "    @property\n",
    "    def MF_FORM_ITEM_LAYOUT1(self):\n",
    "        return widgets.Layout(\n",
    "            display='flex',\n",
    "            flex_flow='row',\n",
    "            justify_content='flex-end',\n",
    "            #border='solid 1px green',\n",
    "            grid_auto_columns='True',\n",
    "            width='90%',\n",
    "            align_items='stretch',  \n",
    "        )\n",
    "    \n",
    "    @property\n",
    "    def MF_FORM_ITEM_LAYOUT2(self):\n",
    "        return widgets.Layout(\n",
    "            display='flex',\n",
    "            flex_flow='row',\n",
    "            justify_content='flex-start',\n",
    "            border='dashed 0.2px green',\n",
    "            grid_auto_columns='True',\n",
    "            width='100%',\n",
    "            align_items='stretch',  \n",
    "        )\n",
    "    \n",
    "    @property\n",
    "    def map_keys(self):\n",
    "        return ['value', 'options', 'min', 'max']\n",
    "    \n",
    "    @property\n",
    "    def map_widgets(self):\n",
    "        # mapping dict used to guess what widget to apply\n",
    "        return {\n",
    "            'FloatText': {\n",
    "                'value_type': \"<class 'float'>\",\n",
    "                'options_type': \"<class 'NoneType'>\",\n",
    "                'min_type': \"<class 'NoneType'>\",\n",
    "                'max_type': \"<class 'NoneType'>\"\n",
    "            },\n",
    "           'FloatSlider': {\n",
    "                'value_type': \"<class 'float'>\",\n",
    "                'options_type': \"<class 'NoneType'>\",\n",
    "                'min_type': \"<class 'float'>\",\n",
    "                'max_type': \"<class 'float'>\"\n",
    "           },\n",
    "           'Dropdown': {\n",
    "                'value_type': 'any',\n",
    "                'options_type': \"<class 'list'>\",\n",
    "                'min_type': \"<class 'NoneType'>\",\n",
    "                'max_type': \"<class 'NoneType'>\"\n",
    "           },\n",
    "           'SelectMultiple': {\n",
    "                'value_type': \"<class 'list'>\",\n",
    "                'options_type': \"<class 'list'>\",\n",
    "                'min_type': \"<class 'NoneType'>\",\n",
    "                'max_type': \"<class 'NoneType'>\"\n",
    "           },\n",
    "           'Checkbox': {\n",
    "                'value_type': \"<class 'bool'>\",\n",
    "                'options_type': \"<class 'NoneType'>\",\n",
    "                'min_type': \"<class 'NoneType'>\",\n",
    "                'max_type': \"<class 'NoneType'>\"\n",
    "           },\n",
    "           'Text': {\n",
    "                'value_type': \"<class 'str'>\",\n",
    "                'options_type': \"<class 'NoneType'>\",\n",
    "                'min_type': \"<class 'NoneType'>\",\n",
    "                'max_type': \"<class 'NoneType'>\"\n",
    "           },\n",
    "           '_recursive_guess': {\n",
    "                'value_type': \"<class 'list'>\",\n",
    "                'options_type': \"<class 'NoneType'>\",\n",
    "                'min_type': \"<class 'NoneType'>\",\n",
    "                'max_type': \"<class 'NoneType'>\"\n",
    "           }\n",
    "        }\n",
    "    \n",
    "    @property\n",
    "    def widget_lkup(self):\n",
    "        return {\n",
    "                'FloatText':widgets.FloatText,\n",
    "                'FloatSlider':widgets.FloatSlider,\n",
    "                'Dropdown':widgets.Dropdown,\n",
    "                'SelectMultiple':widgets.SelectMultiple,\n",
    "                'Checkbox':widgets.Checkbox,\n",
    "                'Text':widgets.Text,\n",
    "                'Textarea':widgets.Textarea,\n",
    "                '_recursive_guess':self._recursive_guess,\n",
    "                'ipysheet':self._ipysheet\n",
    "            }\n",
    "\n",
    "    \n",
    "class EditDict(EditDictData):\n",
    "    '''\n",
    "    a class that is passed a dict and then guesses the most appropriate \n",
    "    widget from the values in the dict.\n",
    "    - if a nested list of dicts is passed:\n",
    "        => it will create an embedded, clickable show/hide nested input form\n",
    "    - if a json dataframe object is passed as the \"value\" and and the key:value\n",
    "      \"widget\":\"ipysheet\" is passed in the same dict:\n",
    "        => it will create an editable ipysheet dataframe widget\n",
    "    '''\n",
    "    def __init__(self, di):\n",
    "        self.out = widgets.Output()\n",
    "        self.di = di\n",
    "        self.form()\n",
    " \n",
    "    def form(self):\n",
    "        self.di = self._update_di()\n",
    "        if 'widget' not in self.di.keys():\n",
    "            self.di_types = self._get_var_types()\n",
    "            self.widget_name, self.report = self.map_widget()           \n",
    "        else:\n",
    "            self.widget_name = self.di['widget']\n",
    "        self.kwargs = self._kwargfilt()\n",
    "        self.layout = self._build_widget()\n",
    "        if self.widget_name != 'ipysheet' and self.widget_name != '_recursive_guess':\n",
    "            self._init_controls()\n",
    "          \n",
    "    def _init_controls(self):   \n",
    "        self.widget_only.observe(self._update_change, 'value') \n",
    "\n",
    "    def _update_change(self, change):\n",
    "        self.di['value'] = self.widget_only.value\n",
    "\n",
    "    def _build_widget(self):\n",
    "        \n",
    "        if self.widget_name == '_recursive_guess':\n",
    "            self._recursive_guess()\n",
    "        elif self.widget_name == 'ipysheet':\n",
    "            self._ipysheet()\n",
    "        else:\n",
    "            self.widget_only = self.widget_lkup[self.widget_name](**self.kwargs)\n",
    "        self.widget_simple = widgets.HBox([self.widget_only,_markdown(self.di['label'])],layout=self.MF_FORM_ITEM_LAYOUT)\n",
    "        self.widget_row = widgets.HBox([_markdown(self.di['name']),self.widget_simple],layout=self.MF_FORM_ITEM_LAYOUT1)\n",
    "        if 'fpth_help' in self.di.keys():\n",
    "            self.guide = widgets.ToggleButton(icon='fa-question-circle',\n",
    "                                              description='help',\n",
    "                                              tooltip='gives guidance',\n",
    "                                              style={'font_weight':'bold'},\n",
    "                                              layout=widgets.Layout(width='5%'))\n",
    "            self.guide.observe(self._guide, 'value')\n",
    "            layout = widgets.HBox([self.widget_row ,self.guide],layout=self.MF_FORM_ITEM_LAYOUT2)\n",
    "        else:\n",
    "            layout = widgets.HBox([self.widget_row ],layout=self.MF_FORM_ITEM_LAYOUT2)\n",
    "        return layout\n",
    "    \n",
    "    def _guide(self, sender):\n",
    "        with self.out:\n",
    "            if self.guide.value:  \n",
    "                display(Image(os.path.join(os.environ['mf_root'],r'engDevSetup\\dev\\icons\\icon_png\\help-icon.png')));\n",
    "            else:\n",
    "                clear_output()\n",
    "                \n",
    "    def _kwargfilt(self):\n",
    "        return {k:v for (k,v) in self.di.items() if k != 'widget' and k != 'name' and k != 'label' and k != 'fpth_help' and v is not None}\n",
    "        \n",
    "    def _update_di(self):\n",
    "\n",
    "        def add_to_dict(di, keyname='None', valuename=None):\n",
    "            if keyname not in di.keys():\n",
    "                di[keyname]=valuename\n",
    "            return di\n",
    "        tmp = self.di\n",
    "        tmp = add_to_dict(tmp,keyname='min')\n",
    "        tmp = add_to_dict(tmp,keyname='max')\n",
    "        tmp = add_to_dict(tmp,keyname='options')\n",
    "        tmp = add_to_dict(tmp,keyname='name', valuename='name')\n",
    "        tmp = add_to_dict(tmp,keyname='label', valuename='label')\n",
    "        return tmp\n",
    "        \n",
    "    def _get_var_types(self):\n",
    "\n",
    "        def int_type_to_float(di):\n",
    "            di_ = {}\n",
    "            for key, val in di.items():\n",
    "                if val == \"<class 'int'>\":\n",
    "                    di_[key] = \"<class 'float'>\"\n",
    "                else:\n",
    "                    di_[key] = val\n",
    "            return di_\n",
    "        di = self.di\n",
    "        keys = self.map_keys\n",
    "        di_filt = { key: di[key] for key in keys }\n",
    "        di_types = {key+'_type': str(type(di_filt[key])) for key in keys}\n",
    "        di_types= int_type_to_float(di_types)\n",
    "        return di_types\n",
    "    \n",
    "    def map_widget(self):\n",
    "        \"\"\"\n",
    "        uses the types of the different inputs to map an input \n",
    "        to the appropriate widget\n",
    "\n",
    "        Reference:\n",
    "            |                 | value_type      | options_type       | min_type           | max_type           |\n",
    "            |:----------------|:----------------|:-------------------|:-------------------|:-------------------|\n",
    "            | FloatText       | <class 'float'> | <class 'NoneType'> | <class 'NoneType'> | <class 'NoneType'> |\n",
    "            | FloatSlider     | <class 'float'> | <class 'NoneType'> | <class 'float'>    | <class 'float'>    |\n",
    "            | Dropdown        | <class 'float'> | <class 'list'>     | <class 'NoneType'> | <class 'NoneType'> |\n",
    "            | SelectMultiple  | <class 'list'>  | <class 'list'>     | <class 'NoneType'> | <class 'NoneType'> |\n",
    "            | Checkbox        | <class 'bool'>  | <class 'NoneType'> | <class 'NoneType'> | <class 'NoneType'> |\n",
    "            | Text            | <class 'str'>   | <class 'NoneType'> | <class 'NoneType'> | <class 'NoneType'> |\n",
    "            | _recursive_guess| <class 'list'>  | <class 'NoneType'> | <class 'NoneType'> | <class 'NoneType'> |\n",
    "        \"\"\"\n",
    "        di_types = self.di_types\n",
    "        map_widgets = self.map_widgets\n",
    "        m = 0\n",
    "        for k, v in map_widgets.items():\n",
    "            # this settles ambiguity for value type from Dropdown (which could be anything)\n",
    "            #if k == widgets.Dropdown and di_types['value_type'] != \"<class 'list'>\":\n",
    "            if k == 'Dropdown' and di_types['value_type'] != \"<class 'list'>\":\n",
    "                v['value_type'] = di_types['value_type']\n",
    "            if v == di_types:\n",
    "                m=+1\n",
    "                widget_name = k\n",
    "        if m < 1:\n",
    "            report = 'no matching widget found... check inputs...'\n",
    "            print(di_types)\n",
    "            print(report)\n",
    "            widget_name = 'Text'\n",
    "        elif m == 1:\n",
    "            report = 'perfect match!'\n",
    "        else:\n",
    "            report = 'multiple matches found... check code...'\n",
    "            print(di_types)\n",
    "            print(report)\n",
    "        return widget_name, report\n",
    "    \n",
    "    # -------------------------------------------------------------------------     \n",
    "    # code that allows for embedded list of dicts -----------------------------\n",
    "    def _recursive_guess(self):\n",
    "        self.kwargs = {k:v for (k,v) in self.kwargs.items() if k != 'value'}\n",
    "        self.widget_only = widgets.ToggleButton(**self.kwargs)\n",
    "        self._recursive_controls()\n",
    "        \n",
    "    def _recursive_controls(self):\n",
    "        self.widget_only.observe(self._call_GuessWidget, 'value')\n",
    "\n",
    "    def _call_GuessWidget(self, sender):\n",
    "        self.nested_g = EditListOfDicts(self.di['value'])\n",
    "        self.di['value'] = self.nested_g.li\n",
    "        with self.out:\n",
    "            if self.widget_only.value:  \n",
    "                display(self.nested_g)\n",
    "            else:\n",
    "                clear_output()\n",
    "    # --------------------------------------------------------------------------\n",
    "    # code that allows for embedded ipysheets ----------------------------------\n",
    "    def _ipysheet(self):\n",
    "        self.kwargs = {k:v for (k,v) in self.kwargs.items() if k != 'value'}\n",
    "        self.widget_only = widgets.ToggleButton(**self.kwargs)\n",
    "        self.save_ipysheet = widgets.Button(description='save')\n",
    "        self._ipysheet_controls()\n",
    "        \n",
    "    def _ipysheet_controls(self):\n",
    "        self.widget_only.observe(self.call_ipysheet, 'value')\n",
    "        self.save_ipysheet.on_click(self._save_ipysheet)\n",
    "        \n",
    "    def call_ipysheet(self, sender):\n",
    "        tmp = pd.read_json(self.di['value'])\n",
    "        self.sheet = ipysheet.sheet(ipysheet.from_dataframe(tmp)) # initiate sheet\n",
    "        with self.out:\n",
    "            if self.widget_only.value:  \n",
    "                display(self.save_ipysheet)\n",
    "                display(self.sheet)\n",
    "            else:\n",
    "                clear_output()\n",
    "    \n",
    "    def _save_ipysheet(self, change):\n",
    "        tmp = to_dataframe(self.sheet)\n",
    "        self.di['value'] = tmp.to_json()\n",
    "        with self.out:\n",
    "            clear_output()\n",
    "            dateTimeObj = datetime.now()\n",
    "            timestampStr = dateTimeObj.strftime(\"%d-%b-%Y %H:%M:%S:\")\n",
    "            display(Markdown('{0} changes to sheet saved. hit save in main dialog to save to file'.format(timestampStr)))\n",
    "        self.display()\n",
    "    # --------------------------------------------------------------------------\n",
    "\n",
    "    def display(self):\n",
    "        display(self.layout)\n",
    "        display(self.out)\n",
    "         \n",
    "    def _ipython_display_(self):\n",
    "        self.display()    "
   ]
  },
  {
   "cell_type": "code",
   "execution_count": 15,
   "metadata": {},
   "outputs": [],
   "source": [
    "class EditListOfDicts():\n",
    "    \"\"\"\n",
    "    builds user input form from a list of dicts by creating a \n",
    "    loop of EditDict objects.\n",
    "    \"\"\"\n",
    "    def __init__(self, li):\n",
    "        self.out = widgets.Output()\n",
    "        self.li = li\n",
    "        self.form()\n",
    "        self._init_observe()\n",
    "    \n",
    "    def form(self):\n",
    "        self.widgets = []\n",
    "        for l in self.li:\n",
    "            self.widgets.append(EditDict(l))\n",
    "        \n",
    "    def _init_observe(self):  \n",
    "        for l in self.widgets:\n",
    "            l.widget_only.observe(self._update_change, 'value') \n",
    "            \n",
    "    def _update_change(self, change):\n",
    "        self.li = []\n",
    "        for l in self.widgets:\n",
    "            self.li.append(l.di)\n",
    "        \n",
    "    def display(self):\n",
    "        out = [l.layout for l in self.widgets]\n",
    "        self.applayout = widgets.VBox(out)\n",
    "        display(self.applayout)\n",
    "        for l in self.widgets:\n",
    "            display(l.out)\n",
    "            \n",
    "    def _ipython_display_(self):\n",
    "        self.display()  "
   ]
  },
  {
   "cell_type": "code",
   "execution_count": 16,
   "metadata": {},
   "outputs": [],
   "source": [
    "class EditJson(EditListOfDicts):\n",
    "    \"\"\"\n",
    "    inherits EditListOfDicts user input form and manages the reading and \n",
    "    writing the data from a JSON file. \n",
    "    \"\"\"\n",
    "    #def __init__(self, fpth, fdir='.', local_fol='_mfengdev'):\n",
    "    def __init__(self, fpth_in, fpth_out=None):\n",
    "        self.out = widgets.Output()\n",
    "        self.fpth_in = fpth_in\n",
    "        if fpth_out==None:\n",
    "            self.fpth_out = fpth_in\n",
    "        else:\n",
    "            self.fpth_out = fpth_out\n",
    "        #self.fdir = fdir\n",
    "        #self.local_fol = local_fol\n",
    "        #self.fpth_out = self._fpth_out()\n",
    "        self.li = read_json(self.fpth_in)\n",
    "        self.save_changes = widgets.Button(description='save',button_style='success')\n",
    "        self.form()\n",
    "        self._init_observe()\n",
    "        self._init_controls()\n",
    "        \n",
    "    #def _fpth_out(self):\n",
    "    #    fol = os.path.join(self.fdir, self.local_fol)\n",
    "    #    make_dir(fol)\n",
    "    #    return os.path.join(fol,os.path.basename(self.fpth_in))\n",
    "    \n",
    "    def _init_controls(self):  \n",
    "        self.save_changes.on_click(self._save_changes)\n",
    "        \n",
    "    def _save_changes(self, sender):\n",
    "        self.data_out = self.li\n",
    "        #try:\n",
    "            \n",
    "        write_json(self.data_out,\n",
    "                   sort_keys=True,\n",
    "                   indent=4,\n",
    "                   fpth=self.fpth_out,\n",
    "                   print_fpth=False,\n",
    "                   openFile=False)\n",
    "        with self.out:\n",
    "            clear_output()\n",
    "            dateTimeObj = datetime.now()\n",
    "            timestampStr = dateTimeObj.strftime(\"%d-%b-%Y %H:%M:%S:\")\n",
    "            display(Markdown('{0} changes to sheet logged.  to: {1}'.format(timestampStr,self.fpth_out)))\n",
    "            \n",
    "    def display(self):\n",
    "        display(self.save_changes)\n",
    "        out = [l.layout for l in self.widgets]\n",
    "        self.applayout = widgets.VBox(out)\n",
    "        display(self.applayout)\n",
    "        for l in self.widgets:\n",
    "            display(l.out)\n",
    "        display(self.out)\n",
    "            \n",
    "    def _ipython_display_(self):\n",
    "        self.display()  "
   ]
  },
  {
   "cell_type": "code",
   "execution_count": 17,
   "metadata": {},
   "outputs": [
    {
     "data": {
      "application/vnd.jupyter.widget-view+json": {
       "model_id": "423f325b6f8f43938c7e7b209f8f369e",
       "version_major": 2,
       "version_minor": 0
      },
      "text/plain": [
       "Button(button_style='success', description='save', style=ButtonStyle())"
      ]
     },
     "metadata": {},
     "output_type": "display_data"
    },
    {
     "data": {
      "application/vnd.jupyter.widget-view+json": {
       "model_id": "fe788ce1a735495c9f0ef16191016aec",
       "version_major": 2,
       "version_minor": 0
      },
      "text/plain": [
       "VBox(children=(HBox(children=(HBox(children=(HTML(value='<p>reous foo ous foo st</p>'), HBox(children=(FloatTe…"
      ]
     },
     "metadata": {},
     "output_type": "display_data"
    },
    {
     "data": {
      "application/vnd.jupyter.widget-view+json": {
       "model_id": "4b90ed09276c43c299d329a4000e9c51",
       "version_major": 2,
       "version_minor": 0
      },
      "text/plain": [
       "Output()"
      ]
     },
     "metadata": {},
     "output_type": "display_data"
    },
    {
     "data": {
      "application/vnd.jupyter.widget-view+json": {
       "model_id": "8e702e96cb49432db3960cb31ca4b6e8",
       "version_major": 2,
       "version_minor": 0
      },
      "text/plain": [
       "Output()"
      ]
     },
     "metadata": {},
     "output_type": "display_data"
    },
    {
     "data": {
      "application/vnd.jupyter.widget-view+json": {
       "model_id": "427818aa32e44bd5a25225b8a44ca844",
       "version_major": 2,
       "version_minor": 0
      },
      "text/plain": [
       "Output()"
      ]
     },
     "metadata": {},
     "output_type": "display_data"
    },
    {
     "data": {
      "application/vnd.jupyter.widget-view+json": {
       "model_id": "2d6ae34258a34982b2d8f02287c5b0b0",
       "version_major": 2,
       "version_minor": 0
      },
      "text/plain": [
       "Output()"
      ]
     },
     "metadata": {},
     "output_type": "display_data"
    },
    {
     "data": {
      "application/vnd.jupyter.widget-view+json": {
       "model_id": "79c2a1860bf84d5badce212e9c5dec26",
       "version_major": 2,
       "version_minor": 0
      },
      "text/plain": [
       "Output()"
      ]
     },
     "metadata": {},
     "output_type": "display_data"
    },
    {
     "data": {
      "application/vnd.jupyter.widget-view+json": {
       "model_id": "71ba915c6c4b4fdf90b5783e0784872e",
       "version_major": 2,
       "version_minor": 0
      },
      "text/plain": [
       "Output()"
      ]
     },
     "metadata": {},
     "output_type": "display_data"
    },
    {
     "data": {
      "application/vnd.jupyter.widget-view+json": {
       "model_id": "11ce15b4f1104180b222f8bbd2a11010",
       "version_major": 2,
       "version_minor": 0
      },
      "text/plain": [
       "Output()"
      ]
     },
     "metadata": {},
     "output_type": "display_data"
    },
    {
     "data": {
      "application/vnd.jupyter.widget-view+json": {
       "model_id": "81ef371178274955847c5a6f2b4ea9de",
       "version_major": 2,
       "version_minor": 0
      },
      "text/plain": [
       "Output()"
      ]
     },
     "metadata": {},
     "output_type": "display_data"
    },
    {
     "data": {
      "application/vnd.jupyter.widget-view+json": {
       "model_id": "754ffcaf262942e6b2928c98e7ae5056",
       "version_major": 2,
       "version_minor": 0
      },
      "text/plain": [
       "Output()"
      ]
     },
     "metadata": {},
     "output_type": "display_data"
    }
   ],
   "source": [
    "if __name__ =='__main__':\n",
    "    # Form only example\n",
    "    # FDIR = os.path.dirname(os.path.realpath('__file__'))\n",
    "    # fpth = os.path.join(FDIR,r'_mfengdev/test.json')\n",
    "    # li = read_json(fpth)\n",
    "    # g = EditListOfDicts(li)\n",
    "    # display(g)\n",
    "    \n",
    "    FDIR = os.path.dirname(os.path.realpath('__file__'))\n",
    "    fpth = os.path.join(FDIR,r'appdata/inputs/test.json')\n",
    "    g = EditJson(fpth)\n",
    "    display(g)"
   ]
  },
  {
   "cell_type": "code",
   "execution_count": null,
   "metadata": {},
   "outputs": [],
   "source": []
  }
 ],
 "metadata": {
  "jupytext": {
   "formats": "ipynb,py:light"
  },
  "kernelspec": {
   "display_name": "Python [conda env:mf_main] *",
   "language": "python",
   "name": "conda-env-mf_main-py"
  },
  "language_info": {
   "codemirror_mode": {
    "name": "ipython",
    "version": 3
   },
   "file_extension": ".py",
   "mimetype": "text/x-python",
   "name": "python",
   "nbconvert_exporter": "python",
   "pygments_lexer": "ipython3",
   "version": "3.7.7"
  },
  "widgets": {
   "application/vnd.jupyter.widget-state+json": {
    "state": {
     "0019906ef88e4e83b58a47b5ff5c0dc3": {
      "model_module": "@jupyter-widgets/base",
      "model_module_version": "1.2.0",
      "model_name": "LayoutModel",
      "state": {}
     },
     "00e5278a05dd498c9b656b37497e7225": {
      "model_module": "@jupyter-widgets/base",
      "model_module_version": "1.2.0",
      "model_name": "LayoutModel",
      "state": {
       "align_items": "stretch",
       "border": "dashed 0.2px green",
       "display": "flex",
       "flex_flow": "row",
       "grid_auto_columns": "True",
       "justify_content": "flex-start",
       "width": "100%"
      }
     },
     "016349ba7b424c409ae320629eeecccc": {
      "model_module": "@jupyter-widgets/controls",
      "model_module_version": "1.5.0",
      "model_name": "HBoxModel",
      "state": {
       "children": [
        "IPY_MODEL_a0fffcddb7a844e4bc0e46aaa2beb711",
        "IPY_MODEL_957de07b07004c06b534192258c583fd"
       ],
       "layout": "IPY_MODEL_25e6e7e705294cca8eb9d28471cda69b"
      }
     },
     "01dab23a4acb45ce81318e6c3313e4fb": {
      "model_module": "@jupyter-widgets/controls",
      "model_module_version": "1.5.0",
      "model_name": "TextareaModel",
      "state": {
       "layout": "IPY_MODEL_76f25e64ff1b4eed9d16bee054f86bb9",
       "style": "IPY_MODEL_1f84ea4a5d4748e4be706bd4cb595fa4",
       "value": "This is a very long text areas string that needs a bigger box to fit all of hte verbose nonsense"
      }
     },
     "027ca0d929d34787a049eb35e2485596": {
      "model_module": "@jupyter-widgets/base",
      "model_module_version": "1.2.0",
      "model_name": "LayoutModel",
      "state": {}
     },
     "028f31be82ef4dcaabbe83cc0c9fcbc1": {
      "model_module": "@jupyter-widgets/controls",
      "model_module_version": "1.5.0",
      "model_name": "ToggleButtonModel",
      "state": {
       "layout": "IPY_MODEL_0f7a1a112d8f4a02a711ff235789245f",
       "style": "IPY_MODEL_1e6ff18ef9c84811b523da9ce626b611"
      }
     },
     "02b45e7f1f5542e4b9f0e9bbc7917197": {
      "model_module": "@jupyter-widgets/controls",
      "model_module_version": "1.5.0",
      "model_name": "DescriptionStyleModel",
      "state": {
       "description_width": ""
      }
     },
     "02c6e41d82ea45efbb4877e57736c408": {
      "model_module": "@jupyter-widgets/base",
      "model_module_version": "1.2.0",
      "model_name": "LayoutModel",
      "state": {
       "align_items": "stretch",
       "border": "dashed 0.2px green",
       "display": "flex",
       "flex_flow": "row",
       "grid_auto_columns": "True",
       "justify_content": "flex-start",
       "width": "100%"
      }
     },
     "0321097beebe4e39bbd49b11b0472e4e": {
      "model_module": "@jupyter-widgets/base",
      "model_module_version": "1.2.0",
      "model_name": "LayoutModel",
      "state": {
       "align_items": "stretch",
       "display": "flex",
       "flex_flow": "row",
       "grid_auto_columns": "True",
       "justify_content": "flex-start",
       "width": "80%"
      }
     },
     "036abe1b2d6d4e8fb7dff475a76c8d6e": {
      "model_module": "@jupyter-widgets/controls",
      "model_module_version": "1.5.0",
      "model_name": "FloatSliderModel",
      "state": {
       "layout": "IPY_MODEL_267e3824041b43a5bbc3ffb91f181a5b",
       "max": 10,
       "style": "IPY_MODEL_4e8ac550ef4145de9a8b870a0587324e",
       "value": 1
      }
     },
     "038545fc8d3d4783b7a3ded0fe5edc80": {
      "model_module": "@jupyter-widgets/base",
      "model_module_version": "1.2.0",
      "model_name": "LayoutModel",
      "state": {
       "align_items": "stretch",
       "display": "flex",
       "flex_flow": "row",
       "grid_auto_columns": "True",
       "justify_content": "flex-start",
       "width": "80%"
      }
     },
     "03e0fe6e9a7d4d60b6fb5da780181f73": {
      "model_module": "@jupyter-widgets/controls",
      "model_module_version": "1.5.0",
      "model_name": "HBoxModel",
      "state": {
       "children": [
        "IPY_MODEL_55daf2ddc5fc4a47bc997e0c7dd60ce6"
       ],
       "layout": "IPY_MODEL_7f84fa9cbf4745509f9a028ffb6bfa53"
      }
     },
     "04787d7bfe7e45cdbaf5eb9413eedd76": {
      "model_module": "@jupyter-widgets/controls",
      "model_module_version": "1.5.0",
      "model_name": "HBoxModel",
      "state": {
       "children": [
        "IPY_MODEL_ad32f7386ad949508ecf49b94950813e"
       ],
       "layout": "IPY_MODEL_eaba0228af9c47f699a9f1f849cba6c5"
      }
     },
     "049bcd31df6a4a40b0f16a80e3bab436": {
      "model_module": "@jupyter-widgets/output",
      "model_module_version": "1.0.0",
      "model_name": "OutputModel",
      "state": {
       "layout": "IPY_MODEL_81574cb098bc41c582188f8971412ae1"
      }
     },
     "04e47af4fc794555a8288bb1a308845b": {
      "model_module": "@jupyter-widgets/base",
      "model_module_version": "1.2.0",
      "model_name": "LayoutModel",
      "state": {
       "width": "5%"
      }
     },
     "05b52f6743e643b59032a102d0fd5f20": {
      "model_module": "@jupyter-widgets/base",
      "model_module_version": "1.2.0",
      "model_name": "LayoutModel",
      "state": {}
     },
     "06112a04f0634db3a13ef9266a4c7640": {
      "model_module": "@jupyter-widgets/base",
      "model_module_version": "1.2.0",
      "model_name": "LayoutModel",
      "state": {
       "align_items": "stretch",
       "display": "flex",
       "flex_flow": "row",
       "grid_auto_columns": "True",
       "justify_content": "flex-start",
       "width": "80%"
      }
     },
     "07397ff81b9e4efca79babf8d289c22f": {
      "model_module": "@jupyter-widgets/base",
      "model_module_version": "1.2.0",
      "model_name": "LayoutModel",
      "state": {}
     },
     "073d60a2b3ed46dc83c655db58aa7942": {
      "model_module": "@jupyter-widgets/output",
      "model_module_version": "1.0.0",
      "model_name": "OutputModel",
      "state": {
       "layout": "IPY_MODEL_b8581e76c5dc4f3d9e9b6e20f2d3bbe8"
      }
     },
     "08208c1d10a648e18f9b5dcc846d3dbc": {
      "model_module": "@jupyter-widgets/controls",
      "model_module_version": "1.5.0",
      "model_name": "HBoxModel",
      "state": {
       "children": [
        "IPY_MODEL_9fed8389e5c7443487c5f37cdf358b75"
       ],
       "layout": "IPY_MODEL_20d16b45366a42d99b45634a816f04a9"
      }
     },
     "0833b1cbf8fa4307b4fca46810b4f503": {
      "model_module": "@jupyter-widgets/controls",
      "model_module_version": "1.5.0",
      "model_name": "HBoxModel",
      "state": {
       "children": [
        "IPY_MODEL_37ba18b2e89040e2b57825d14f611e37",
        "IPY_MODEL_8e4c51fa944f43bfbc4c88fdb692a2d0"
       ],
       "layout": "IPY_MODEL_02c6e41d82ea45efbb4877e57736c408"
      }
     },
     "09618b7a827c40519fd22c3343153c43": {
      "model_module": "@jupyter-widgets/controls",
      "model_module_version": "1.5.0",
      "model_name": "DropdownModel",
      "state": {
       "_options_labels": [
        "asfd",
        "10",
        "asdf"
       ],
       "index": 1,
       "layout": "IPY_MODEL_3fa8600a93c14120a2363f284a5bdb76",
       "style": "IPY_MODEL_5a588355d1b94f96b74821247f7e3be9"
      }
     },
     "09d0343ade644faea5dce12bcee572ef": {
      "model_module": "@jupyter-widgets/controls",
      "model_module_version": "1.5.0",
      "model_name": "HTMLModel",
      "state": {
       "layout": "IPY_MODEL_235c86c1d20a4a43bb893e0d9f6c3222",
       "style": "IPY_MODEL_9026fea5398d488e8b8cf7b510a7f811",
       "value": "<p>reus foo ous oo ous foo st</p>"
      }
     },
     "09dcae001c8641deb022c6723a5f5d4e": {
      "model_module": "@jupyter-widgets/controls",
      "model_module_version": "1.5.0",
      "model_name": "DescriptionStyleModel",
      "state": {
       "description_width": ""
      }
     },
     "09f34737b7a94de5b25aeb8290ffe1bd": {
      "model_module": "@jupyter-widgets/base",
      "model_module_version": "1.2.0",
      "model_name": "LayoutModel",
      "state": {}
     },
     "0a270f2ff2854ac2b31147537df05079": {
      "model_module": "@jupyter-widgets/base",
      "model_module_version": "1.2.0",
      "model_name": "LayoutModel",
      "state": {}
     },
     "0a3c3760c8194a8dbc1db304802d18fb": {
      "model_module": "@jupyter-widgets/base",
      "model_module_version": "1.2.0",
      "model_name": "LayoutModel",
      "state": {}
     },
     "0a4e169e18ce4af3adeaf9aec9f79d9a": {
      "model_module": "@jupyter-widgets/base",
      "model_module_version": "1.2.0",
      "model_name": "LayoutModel",
      "state": {}
     },
     "0a89ba602ec442e88c35cf0cc4476091": {
      "model_module": "@jupyter-widgets/controls",
      "model_module_version": "1.5.0",
      "model_name": "DescriptionStyleModel",
      "state": {
       "description_width": ""
      }
     },
     "0b4bd6c0b3a547f2bbeb0f82348275d6": {
      "model_module": "@jupyter-widgets/base",
      "model_module_version": "1.2.0",
      "model_name": "LayoutModel",
      "state": {}
     },
     "0b6c296400f44381bd00718edb1295f1": {
      "model_module": "@jupyter-widgets/controls",
      "model_module_version": "1.5.0",
      "model_name": "HTMLModel",
      "state": {
       "layout": "IPY_MODEL_dd610e1831ff435483f7199a52b1cd88",
       "style": "IPY_MODEL_b3f175ef332c43f5b47586050018a6d6",
       "value": "<p>its a delicious foo cake</p>"
      }
     },
     "0b7e4229af924243894bdb674435e212": {
      "model_module": "@jupyter-widgets/base",
      "model_module_version": "1.2.0",
      "model_name": "LayoutModel",
      "state": {}
     },
     "0bb8849add7d42c287111d9f69b31da4": {
      "model_module": "ipysheet",
      "model_module_version": "~0.4.4",
      "model_name": "CellRangeModel",
      "state": {
       "_view_module": null,
       "_view_module_version": "",
       "choice": [],
       "column_end": 3,
       "column_start": 3,
       "numeric_format": null,
       "row_end": 3,
       "row_start": 0,
       "squeeze_row": false,
       "type": "text",
       "value": [
        "<class 'list'>",
        "<class 'list'>",
        "<class 'NoneType'>",
        "<class 'NoneType'>"
       ]
      }
     },
     "0bcf07b039b94559ad7022f4c233b637": {
      "model_module": "@jupyter-widgets/base",
      "model_module_version": "1.2.0",
      "model_name": "LayoutModel",
      "state": {}
     },
     "0d2957d220d540a99c6301e56aaed02b": {
      "model_module": "@jupyter-widgets/base",
      "model_module_version": "1.2.0",
      "model_name": "LayoutModel",
      "state": {
       "align_items": "stretch",
       "display": "flex",
       "flex_flow": "row",
       "grid_auto_columns": "True",
       "justify_content": "flex-end",
       "width": "90%"
      }
     },
     "0d31645ee39c47beba15dc76a67788c8": {
      "model_module": "@jupyter-widgets/controls",
      "model_module_version": "1.5.0",
      "model_name": "DescriptionStyleModel",
      "state": {
       "description_width": ""
      }
     },
     "0d678f4345a44082b2527b8011c42376": {
      "model_module": "@jupyter-widgets/controls",
      "model_module_version": "1.5.0",
      "model_name": "HTMLModel",
      "state": {
       "layout": "IPY_MODEL_b38bd79aed6e4934a6cfff1d6fc26435",
       "style": "IPY_MODEL_f59209de6995475f8c4b0eb4e226843f",
       "value": "<p>foo</p>"
      }
     },
     "0dfb5e243a6240ff8b901aff65646599": {
      "model_module": "@jupyter-widgets/base",
      "model_module_version": "1.2.0",
      "model_name": "LayoutModel",
      "state": {}
     },
     "0e3b2f77479e465186b6caf37572739f": {
      "model_module": "@jupyter-widgets/base",
      "model_module_version": "1.2.0",
      "model_name": "LayoutModel",
      "state": {
       "align_items": "stretch",
       "display": "flex",
       "flex_flow": "row",
       "grid_auto_columns": "True",
       "justify_content": "flex-start",
       "width": "80%"
      }
     },
     "0ecf969c8ee84bcba26a3872b6089dba": {
      "model_module": "@jupyter-widgets/base",
      "model_module_version": "1.2.0",
      "model_name": "LayoutModel",
      "state": {}
     },
     "0ed1d9ad9aff4a1e93bb42f0176c23bf": {
      "model_module": "@jupyter-widgets/controls",
      "model_module_version": "1.5.0",
      "model_name": "HTMLModel",
      "state": {
       "layout": "IPY_MODEL_ec2da15a1e804984aeccc8e4e0b84921",
       "style": "IPY_MODEL_0f4e470afe964e7faea25f7ea20d7b08",
       "value": "<p>foo</p>"
      }
     },
     "0eea022fd1924329bebeb36e997e3554": {
      "model_module": "@jupyter-widgets/base",
      "model_module_version": "1.2.0",
      "model_name": "LayoutModel",
      "state": {}
     },
     "0f4e470afe964e7faea25f7ea20d7b08": {
      "model_module": "@jupyter-widgets/controls",
      "model_module_version": "1.5.0",
      "model_name": "DescriptionStyleModel",
      "state": {
       "description_width": ""
      }
     },
     "0f7a1a112d8f4a02a711ff235789245f": {
      "model_module": "@jupyter-widgets/base",
      "model_module_version": "1.2.0",
      "model_name": "LayoutModel",
      "state": {}
     },
     "1008114110204005aff2e1994f798bef": {
      "model_module": "@jupyter-widgets/base",
      "model_module_version": "1.2.0",
      "model_name": "LayoutModel",
      "state": {}
     },
     "102c1973a1d442a881ef9fdbb947efe9": {
      "model_module": "@jupyter-widgets/base",
      "model_module_version": "1.2.0",
      "model_name": "LayoutModel",
      "state": {}
     },
     "10332ecfcb0d4f58ae83b803851e43e1": {
      "model_module": "@jupyter-widgets/controls",
      "model_module_version": "1.5.0",
      "model_name": "DescriptionStyleModel",
      "state": {
       "description_width": ""
      }
     },
     "109682c82e6c446f92f4797d5b725260": {
      "model_module": "@jupyter-widgets/base",
      "model_module_version": "1.2.0",
      "model_name": "LayoutModel",
      "state": {}
     },
     "10f769db93d54031a4a920922b99ebba": {
      "model_module": "@jupyter-widgets/controls",
      "model_module_version": "1.5.0",
      "model_name": "DescriptionStyleModel",
      "state": {
       "description_width": ""
      }
     },
     "1158a661c2044b52821813ddd3b00231": {
      "model_module": "@jupyter-widgets/base",
      "model_module_version": "1.2.0",
      "model_name": "LayoutModel",
      "state": {}
     },
     "119163645cfd45e19b4e5f87f1087911": {
      "model_module": "@jupyter-widgets/controls",
      "model_module_version": "1.5.0",
      "model_name": "HBoxModel",
      "state": {
       "children": [
        "IPY_MODEL_fc8d5fb464e54511b16f5d3730a713a1",
        "IPY_MODEL_698c8eb461cd469291a5a0540b4417f9"
       ],
       "layout": "IPY_MODEL_6fd114595f9e46708c8fa1ad7545a5bc"
      }
     },
     "11991414746842599c9323bcd798078e": {
      "model_module": "@jupyter-widgets/base",
      "model_module_version": "1.2.0",
      "model_name": "LayoutModel",
      "state": {
       "align_items": "stretch",
       "border": "dashed 0.2px green",
       "display": "flex",
       "flex_flow": "row",
       "grid_auto_columns": "True",
       "justify_content": "flex-start",
       "width": "100%"
      }
     },
     "11ce15b4f1104180b222f8bbd2a11010": {
      "model_module": "@jupyter-widgets/output",
      "model_module_version": "1.0.0",
      "model_name": "OutputModel",
      "state": {
       "layout": "IPY_MODEL_5c9adcf7f18c48149cd6b7823178f3d1"
      }
     },
     "1254f8f07746442dba83175afad59d5e": {
      "model_module": "@jupyter-widgets/controls",
      "model_module_version": "1.5.0",
      "model_name": "DescriptionStyleModel",
      "state": {
       "description_width": ""
      }
     },
     "133c02eeee3c4a139c96d532ef6a6f0b": {
      "model_module": "@jupyter-widgets/base",
      "model_module_version": "1.2.0",
      "model_name": "LayoutModel",
      "state": {}
     },
     "13f2173c7e934a728ea6e5ddbd090249": {
      "model_module": "@jupyter-widgets/controls",
      "model_module_version": "1.5.0",
      "model_name": "HTMLModel",
      "state": {
       "layout": "IPY_MODEL_82e8a5bc253a449ea6f9bd6f1ee845ad",
       "style": "IPY_MODEL_728c5451ad1644eaba5c5153f5e849ed",
       "value": "<p>its a foo cake</p>"
      }
     },
     "141f4b64323a4cc4960d813da9b6207c": {
      "model_module": "@jupyter-widgets/base",
      "model_module_version": "1.2.0",
      "model_name": "LayoutModel",
      "state": {
       "align_items": "stretch",
       "display": "flex",
       "flex_flow": "row",
       "grid_auto_columns": "True",
       "justify_content": "flex-start",
       "width": "80%"
      }
     },
     "1459b87eab0b45279ccc5ce196f271c7": {
      "model_module": "@jupyter-widgets/base",
      "model_module_version": "1.2.0",
      "model_name": "LayoutModel",
      "state": {
       "align_items": "stretch",
       "border": "dashed 0.2px green",
       "display": "flex",
       "flex_flow": "row",
       "grid_auto_columns": "True",
       "justify_content": "flex-start",
       "width": "100%"
      }
     },
     "14eab806b074463aaa1e82bad96d8371": {
      "model_module": "@jupyter-widgets/base",
      "model_module_version": "1.2.0",
      "model_name": "LayoutModel",
      "state": {
       "align_items": "stretch",
       "display": "flex",
       "flex_flow": "row",
       "grid_auto_columns": "True",
       "justify_content": "flex-start",
       "width": "80%"
      }
     },
     "1530b77d3b03416493f5be743c7c199a": {
      "model_module": "@jupyter-widgets/controls",
      "model_module_version": "1.5.0",
      "model_name": "HBoxModel",
      "state": {
       "children": [
        "IPY_MODEL_2da6f0849cfd4859a866a3d836534107"
       ],
       "layout": "IPY_MODEL_f419e32444a545bfaab7bbced245eee2"
      }
     },
     "159a63b945264736827d3f1331d0c460": {
      "model_module": "@jupyter-widgets/base",
      "model_module_version": "1.2.0",
      "model_name": "LayoutModel",
      "state": {}
     },
     "15b2b0d71bc2474ea406eec8afc0df7e": {
      "model_module": "@jupyter-widgets/controls",
      "model_module_version": "1.5.0",
      "model_name": "HBoxModel",
      "state": {
       "children": [
        "IPY_MODEL_eb7577eda65449a8a4ce344e0fff56f0",
        "IPY_MODEL_da4738da30cc47e38a1427a207042726"
       ],
       "layout": "IPY_MODEL_6e22ca56706940a1954b733b15d4cabe"
      }
     },
     "15cb6e48d6094c7d826ff2000cb5274f": {
      "model_module": "@jupyter-widgets/controls",
      "model_module_version": "1.5.0",
      "model_name": "HBoxModel",
      "state": {
       "children": [
        "IPY_MODEL_6ba8801d5a4d4356a5c002d2f3c6b507",
        "IPY_MODEL_13f2173c7e934a728ea6e5ddbd090249"
       ],
       "layout": "IPY_MODEL_1c010f53ed2d47e5b9da8f1421de01a0"
      }
     },
     "1674194c1b2d4c4c9907a87d6ebdc648": {
      "model_module": "@jupyter-widgets/controls",
      "model_module_version": "1.5.0",
      "model_name": "ButtonStyleModel",
      "state": {}
     },
     "16c1fc2fc0d441a99ac8c1366f85638a": {
      "model_module": "@jupyter-widgets/controls",
      "model_module_version": "1.5.0",
      "model_name": "HBoxModel",
      "state": {
       "children": [
        "IPY_MODEL_40c5351c741947089ef4299e77f25557",
        "IPY_MODEL_3ef92619896c462eb7589c44c06939aa"
       ],
       "layout": "IPY_MODEL_47ed6d55b3e24a259b715ffcd8293936"
      }
     },
     "1729ea02fdb74b01af1f18a65155c5ee": {
      "model_module": "@jupyter-widgets/controls",
      "model_module_version": "1.5.0",
      "model_name": "HBoxModel",
      "state": {
       "children": [
        "IPY_MODEL_ec27ccb46a5342c0a0688a589b581c50"
       ],
       "layout": "IPY_MODEL_00e5278a05dd498c9b656b37497e7225"
      }
     },
     "177815aebb8544caa764486c9485d2a2": {
      "model_module": "@jupyter-widgets/controls",
      "model_module_version": "1.5.0",
      "model_name": "DescriptionStyleModel",
      "state": {
       "description_width": ""
      }
     },
     "178908d7c0a54732a559157115943b64": {
      "model_module": "@jupyter-widgets/controls",
      "model_module_version": "1.5.0",
      "model_name": "HTMLModel",
      "state": {
       "layout": "IPY_MODEL_7a3bd3a3c3bf4049a08a0b6484af38ea",
       "style": "IPY_MODEL_67b679393f7b4dbe968a847819327003",
       "value": "<p>foo</p>"
      }
     },
     "17ebd2080c794832a85c6f181457405e": {
      "model_module": "@jupyter-widgets/controls",
      "model_module_version": "1.5.0",
      "model_name": "HBoxModel",
      "state": {
       "children": [
        "IPY_MODEL_755a2185e6e344f3ae5434099725b186",
        "IPY_MODEL_3b4aedcab9974006b64fa710bd22ac36"
       ],
       "layout": "IPY_MODEL_a324ee9a866f430789e941a29ddfc657"
      }
     },
     "18097f1076cd4e468ed96320f64db528": {
      "model_module": "@jupyter-widgets/base",
      "model_module_version": "1.2.0",
      "model_name": "LayoutModel",
      "state": {
       "align_items": "stretch",
       "display": "flex",
       "flex_flow": "row",
       "grid_auto_columns": "True",
       "justify_content": "flex-start",
       "width": "80%"
      }
     },
     "1867cd7d1c4247a78b08d2b17721894d": {
      "model_module": "@jupyter-widgets/controls",
      "model_module_version": "1.5.0",
      "model_name": "HBoxModel",
      "state": {
       "children": [
        "IPY_MODEL_db5c832942704181a6fa223fe7111c1f",
        "IPY_MODEL_1ebbc907140a4976be149f4461ab8393"
       ],
       "layout": "IPY_MODEL_0d2957d220d540a99c6301e56aaed02b"
      }
     },
     "187da8d4f66d42b399fe4f0e3ff10b2f": {
      "model_module": "@jupyter-widgets/base",
      "model_module_version": "1.2.0",
      "model_name": "LayoutModel",
      "state": {}
     },
     "188381d3c544435ebbf0a53ba9f907cb": {
      "model_module": "@jupyter-widgets/base",
      "model_module_version": "1.2.0",
      "model_name": "LayoutModel",
      "state": {
       "align_items": "stretch",
       "display": "flex",
       "flex_flow": "row",
       "grid_auto_columns": "True",
       "justify_content": "flex-end",
       "width": "90%"
      }
     },
     "1889f3ca281347f5825f92344f49693b": {
      "model_module": "@jupyter-widgets/controls",
      "model_module_version": "1.5.0",
      "model_name": "HBoxModel",
      "state": {
       "children": [
        "IPY_MODEL_7338448a85b34c06a9275acd159927b2"
       ],
       "layout": "IPY_MODEL_35f8aa7d4a7347b28d048a0386ab7180"
      }
     },
     "19d237ee9901498cbadaebe6d2dbe071": {
      "model_module": "@jupyter-widgets/controls",
      "model_module_version": "1.5.0",
      "model_name": "HBoxModel",
      "state": {
       "children": [
        "IPY_MODEL_2d24854abef9455285b9aba5605171b1",
        "IPY_MODEL_9e310865ff9b4b53bc1d8ea834c68c0d"
       ],
       "layout": "IPY_MODEL_c578c5f37a574ec3a56ed2fb201b432b"
      }
     },
     "19d4b2f9391f4c0fbc2b469c36ecbfbb": {
      "model_module": "@jupyter-widgets/base",
      "model_module_version": "1.2.0",
      "model_name": "LayoutModel",
      "state": {}
     },
     "1a5e809ef57544a1b759043fdeecf4a9": {
      "model_module": "@jupyter-widgets/base",
      "model_module_version": "1.2.0",
      "model_name": "LayoutModel",
      "state": {}
     },
     "1aa5fc4e74ec4e3b9b94f3f396a2329f": {
      "model_module": "@jupyter-widgets/controls",
      "model_module_version": "1.5.0",
      "model_name": "DescriptionStyleModel",
      "state": {
       "description_width": ""
      }
     },
     "1b12360c4d014e11a381b3f8ff43197d": {
      "model_module": "@jupyter-widgets/controls",
      "model_module_version": "1.5.0",
      "model_name": "DescriptionStyleModel",
      "state": {
       "description_width": ""
      }
     },
     "1ba5ccd66dab4799a05e2c5ad54dc636": {
      "model_module": "@jupyter-widgets/output",
      "model_module_version": "1.0.0",
      "model_name": "OutputModel",
      "state": {
       "layout": "IPY_MODEL_477bd7cc70114ccfb7bb62af5bd5d327"
      }
     },
     "1c010f53ed2d47e5b9da8f1421de01a0": {
      "model_module": "@jupyter-widgets/base",
      "model_module_version": "1.2.0",
      "model_name": "LayoutModel",
      "state": {
       "align_items": "stretch",
       "display": "flex",
       "flex_flow": "row",
       "grid_auto_columns": "True",
       "justify_content": "flex-start",
       "width": "80%"
      }
     },
     "1c24124e056f4c3da632e8a2163da9b9": {
      "model_module": "@jupyter-widgets/base",
      "model_module_version": "1.2.0",
      "model_name": "LayoutModel",
      "state": {
       "align_items": "stretch",
       "display": "flex",
       "flex_flow": "row",
       "grid_auto_columns": "True",
       "justify_content": "flex-end",
       "width": "90%"
      }
     },
     "1c86cf5b55ff4247b8f086a4a7e19f28": {
      "model_module": "@jupyter-widgets/output",
      "model_module_version": "1.0.0",
      "model_name": "OutputModel",
      "state": {
       "layout": "IPY_MODEL_159a63b945264736827d3f1331d0c460"
      }
     },
     "1c8a0edf9f2843e29f37183d30c72943": {
      "model_module": "@jupyter-widgets/base",
      "model_module_version": "1.2.0",
      "model_name": "LayoutModel",
      "state": {}
     },
     "1ce0cf2876384c8683bccdb42fc1280d": {
      "model_module": "@jupyter-widgets/controls",
      "model_module_version": "1.5.0",
      "model_name": "DescriptionStyleModel",
      "state": {
       "description_width": ""
      }
     },
     "1d5559befa6e4815850a50e1d73e4afc": {
      "model_module": "@jupyter-widgets/base",
      "model_module_version": "1.2.0",
      "model_name": "LayoutModel",
      "state": {}
     },
     "1e1f94d176e8406bba68b495b47faa46": {
      "model_module": "@jupyter-widgets/base",
      "model_module_version": "1.2.0",
      "model_name": "LayoutModel",
      "state": {}
     },
     "1e6ff18ef9c84811b523da9ce626b611": {
      "model_module": "@jupyter-widgets/controls",
      "model_module_version": "1.5.0",
      "model_name": "DescriptionStyleModel",
      "state": {
       "description_width": ""
      }
     },
     "1ebbc907140a4976be149f4461ab8393": {
      "model_module": "@jupyter-widgets/controls",
      "model_module_version": "1.5.0",
      "model_name": "HBoxModel",
      "state": {
       "children": [
        "IPY_MODEL_8b705fd6528a494c8156237455950609",
        "IPY_MODEL_23bd5af411b8482e93fbf3af90213270"
       ],
       "layout": "IPY_MODEL_78958c0abbff4225afa7f88719576579"
      }
     },
     "1efbbba958c849029d1bae1b01fdacfd": {
      "model_module": "@jupyter-widgets/controls",
      "model_module_version": "1.5.0",
      "model_name": "HBoxModel",
      "state": {
       "children": [
        "IPY_MODEL_9221911099884e7083ba0dda0ceba960",
        "IPY_MODEL_f5fd011caadd43c8bec2aeac0e59e71e"
       ],
       "layout": "IPY_MODEL_8e455385e8704b569f686f70b4e389a1"
      }
     },
     "1f259e70e7d4471dbac575ed426fa16b": {
      "model_module": "@jupyter-widgets/controls",
      "model_module_version": "1.5.0",
      "model_name": "DescriptionStyleModel",
      "state": {
       "description_width": ""
      }
     },
     "1f813917125642ff9750506a5549ccaa": {
      "model_module": "@jupyter-widgets/controls",
      "model_module_version": "1.5.0",
      "model_name": "ToggleButtonModel",
      "state": {
       "description": "help",
       "icon": "fa-question-circle",
       "layout": "IPY_MODEL_b741b0495b1549d8989977658e8e4072",
       "style": "IPY_MODEL_fe44e1195db446d3bcaee9c688e77d45",
       "tooltip": "gives guidance"
      }
     },
     "1f84ea4a5d4748e4be706bd4cb595fa4": {
      "model_module": "@jupyter-widgets/controls",
      "model_module_version": "1.5.0",
      "model_name": "DescriptionStyleModel",
      "state": {
       "description_width": ""
      }
     },
     "206d414653b44438b4439ce5f360bd08": {
      "model_module": "@jupyter-widgets/controls",
      "model_module_version": "1.5.0",
      "model_name": "SliderStyleModel",
      "state": {
       "description_width": ""
      }
     },
     "2075e92064554d9592ad00b5cc41955e": {
      "model_module": "@jupyter-widgets/output",
      "model_module_version": "1.0.0",
      "model_name": "OutputModel",
      "state": {
       "layout": "IPY_MODEL_ec4907dd793f427dba4574f47437d49d"
      }
     },
     "20a03a09cb944093b9245b96a67f7cc3": {
      "model_module": "@jupyter-widgets/base",
      "model_module_version": "1.2.0",
      "model_name": "LayoutModel",
      "state": {
       "align_items": "stretch",
       "border": "dashed 0.2px green",
       "display": "flex",
       "flex_flow": "row",
       "grid_auto_columns": "True",
       "justify_content": "flex-start",
       "width": "100%"
      }
     },
     "20b1d3e3f2c349109f5e11e2dbf5d0f0": {
      "model_module": "@jupyter-widgets/base",
      "model_module_version": "1.2.0",
      "model_name": "LayoutModel",
      "state": {}
     },
     "20d16b45366a42d99b45634a816f04a9": {
      "model_module": "@jupyter-widgets/base",
      "model_module_version": "1.2.0",
      "model_name": "LayoutModel",
      "state": {
       "align_items": "stretch",
       "border": "dashed 0.2px green",
       "display": "flex",
       "flex_flow": "row",
       "grid_auto_columns": "True",
       "justify_content": "flex-start",
       "width": "100%"
      }
     },
     "21873967c5fb4b14965831398aea2cb8": {
      "model_module": "@jupyter-widgets/controls",
      "model_module_version": "1.5.0",
      "model_name": "CheckboxModel",
      "state": {
       "disabled": false,
       "layout": "IPY_MODEL_9948c6c3f5ef43d08b6b5b1c5330aa38",
       "style": "IPY_MODEL_02b45e7f1f5542e4b9f0e9bbc7917197",
       "value": false
      }
     },
     "22c3a9a271a140cbbd9833a0c1ecf6fc": {
      "model_module": "@jupyter-widgets/controls",
      "model_module_version": "1.5.0",
      "model_name": "ButtonModel",
      "state": {
       "button_style": "success",
       "description": "save",
       "layout": "IPY_MODEL_ed369e325a264dbda4791a88078622f4",
       "style": "IPY_MODEL_57b18d0bb2fc47a0aa08eaa6112ea9f6"
      }
     },
     "233caf9f5c93472295ef413412b17b91": {
      "model_module": "@jupyter-widgets/controls",
      "model_module_version": "1.5.0",
      "model_name": "HTMLModel",
      "state": {
       "layout": "IPY_MODEL_4260496ceba546da9e87e7e510c9e8b0",
       "style": "IPY_MODEL_882a42d1a5264e20a001097728a874f5",
       "value": "<p>its a foo cake</p>"
      }
     },
     "235c86c1d20a4a43bb893e0d9f6c3222": {
      "model_module": "@jupyter-widgets/base",
      "model_module_version": "1.2.0",
      "model_name": "LayoutModel",
      "state": {}
     },
     "236fb6bff1534205a8f570d873071951": {
      "model_module": "@jupyter-widgets/controls",
      "model_module_version": "1.5.0",
      "model_name": "HBoxModel",
      "state": {
       "children": [
        "IPY_MODEL_c22c6772498b4ab59cc34ca0f00da3a6",
        "IPY_MODEL_5dbbf57d0fc24955a2a4a0a638d8863f"
       ],
       "layout": "IPY_MODEL_c129cdfcd67f42f387912520f3e734d4"
      }
     },
     "23bd5af411b8482e93fbf3af90213270": {
      "model_module": "@jupyter-widgets/controls",
      "model_module_version": "1.5.0",
      "model_name": "HTMLModel",
      "state": {
       "layout": "IPY_MODEL_951c428a28874e1c943480b2d4d49e7e",
       "style": "IPY_MODEL_d72c6ca5e6e94986b2ad6b8d97e3f9c5",
       "value": "<p>its a foo cake</p>"
      }
     },
     "2430e7efe34a4f24bd6c0fa062f40351": {
      "model_module": "@jupyter-widgets/base",
      "model_module_version": "1.2.0",
      "model_name": "LayoutModel",
      "state": {}
     },
     "2456ec763675485da008506f28d1b74f": {
      "model_module": "@jupyter-widgets/controls",
      "model_module_version": "1.5.0",
      "model_name": "DescriptionStyleModel",
      "state": {
       "description_width": ""
      }
     },
     "248ca0db11284f188df56e12716e61ec": {
      "model_module": "@jupyter-widgets/controls",
      "model_module_version": "1.5.0",
      "model_name": "DescriptionStyleModel",
      "state": {
       "description_width": ""
      }
     },
     "24a7756793fc4b07b1b25e71f4dd9649": {
      "model_module": "@jupyter-widgets/controls",
      "model_module_version": "1.5.0",
      "model_name": "HTMLModel",
      "state": {
       "layout": "IPY_MODEL_8580ac74fc0f423a91a33ba6ebd1fcb9",
       "style": "IPY_MODEL_a1fbfcf2075c423a9626e4829787da88",
       "value": "<p>its a foo cake</p>"
      }
     },
     "25a027c0ca8d430f8652b4c88c6369bf": {
      "model_module": "@jupyter-widgets/base",
      "model_module_version": "1.2.0",
      "model_name": "LayoutModel",
      "state": {
       "align_items": "stretch",
       "display": "flex",
       "flex_flow": "row",
       "grid_auto_columns": "True",
       "justify_content": "flex-start",
       "width": "80%"
      }
     },
     "25a5fcef1adf405ca32be92dff0ea627": {
      "model_module": "@jupyter-widgets/base",
      "model_module_version": "1.2.0",
      "model_name": "LayoutModel",
      "state": {}
     },
     "25c36664e3354b3b8c6b79237b3b4092": {
      "model_module": "@jupyter-widgets/output",
      "model_module_version": "1.0.0",
      "model_name": "OutputModel",
      "state": {
       "layout": "IPY_MODEL_86ab4d8d621c4061a4dc60421172edea"
      }
     },
     "25e6e7e705294cca8eb9d28471cda69b": {
      "model_module": "@jupyter-widgets/base",
      "model_module_version": "1.2.0",
      "model_name": "LayoutModel",
      "state": {
       "align_items": "stretch",
       "display": "flex",
       "flex_flow": "row",
       "grid_auto_columns": "True",
       "justify_content": "flex-start",
       "width": "80%"
      }
     },
     "26303777d7dd4b0ba3cf635ce60e10c3": {
      "model_module": "@jupyter-widgets/controls",
      "model_module_version": "1.5.0",
      "model_name": "DescriptionStyleModel",
      "state": {
       "description_width": ""
      }
     },
     "26393efdd2f74120b48480e2dc105d0d": {
      "model_module": "@jupyter-widgets/controls",
      "model_module_version": "1.5.0",
      "model_name": "HBoxModel",
      "state": {
       "children": [
        "IPY_MODEL_e30ecaba1c3d42d88cab46de25b72650"
       ],
       "layout": "IPY_MODEL_c04537ea2ab04bd3a76d3f279d2725f9"
      }
     },
     "267e3824041b43a5bbc3ffb91f181a5b": {
      "model_module": "@jupyter-widgets/base",
      "model_module_version": "1.2.0",
      "model_name": "LayoutModel",
      "state": {}
     },
     "270fd44c93254f5593091129522a04b5": {
      "model_module": "@jupyter-widgets/controls",
      "model_module_version": "1.5.0",
      "model_name": "ButtonStyleModel",
      "state": {}
     },
     "276601572fa249de8878a658fd0106fa": {
      "model_module": "@jupyter-widgets/controls",
      "model_module_version": "1.5.0",
      "model_name": "HTMLModel",
      "state": {
       "layout": "IPY_MODEL_0a3c3760c8194a8dbc1db304802d18fb",
       "style": "IPY_MODEL_5e3fbf5e67324d08a3624500cfb1c630",
       "value": "<p>its a foo cake</p>"
      }
     },
     "2769e33fdc9b467babfc1ecf1944208d": {
      "model_module": "@jupyter-widgets/base",
      "model_module_version": "1.2.0",
      "model_name": "LayoutModel",
      "state": {
       "align_items": "stretch",
       "display": "flex",
       "flex_flow": "row",
       "grid_auto_columns": "True",
       "justify_content": "flex-start",
       "width": "80%"
      }
     },
     "279b84727821428f83fc81a1ef1824af": {
      "model_module": "@jupyter-widgets/base",
      "model_module_version": "1.2.0",
      "model_name": "LayoutModel",
      "state": {
       "align_items": "stretch",
       "border": "dashed 0.2px green",
       "display": "flex",
       "flex_flow": "row",
       "grid_auto_columns": "True",
       "justify_content": "flex-start",
       "width": "100%"
      }
     },
     "27d49008740f4229ac29a3a3b2c4ecc7": {
      "model_module": "@jupyter-widgets/controls",
      "model_module_version": "1.5.0",
      "model_name": "DescriptionStyleModel",
      "state": {
       "description_width": ""
      }
     },
     "280b926e12c54a00b404cabfe227428a": {
      "model_module": "@jupyter-widgets/base",
      "model_module_version": "1.2.0",
      "model_name": "LayoutModel",
      "state": {}
     },
     "281a79e8f2fb4166a3e8691f0b75236a": {
      "model_module": "@jupyter-widgets/base",
      "model_module_version": "1.2.0",
      "model_name": "LayoutModel",
      "state": {}
     },
     "2861d90d531f403c8ad15133482ec0fc": {
      "model_module": "@jupyter-widgets/controls",
      "model_module_version": "1.5.0",
      "model_name": "DescriptionStyleModel",
      "state": {
       "description_width": ""
      }
     },
     "289662dcf7ee4e3d8587c45c79d1ff32": {
      "model_module": "@jupyter-widgets/controls",
      "model_module_version": "1.5.0",
      "model_name": "DescriptionStyleModel",
      "state": {
       "description_width": ""
      }
     },
     "2999f94a264a4773b92a3a33465b8f16": {
      "model_module": "@jupyter-widgets/controls",
      "model_module_version": "1.5.0",
      "model_name": "ButtonStyleModel",
      "state": {}
     },
     "29c90ef70b724fa5b50b740128658732": {
      "model_module": "@jupyter-widgets/base",
      "model_module_version": "1.2.0",
      "model_name": "LayoutModel",
      "state": {}
     },
     "2a779426c4794a87bbbab7c6073ba733": {
      "model_module": "@jupyter-widgets/controls",
      "model_module_version": "1.5.0",
      "model_name": "HTMLModel",
      "state": {
       "layout": "IPY_MODEL_662c537ff0bd4217b42e7ac74fb5c925",
       "style": "IPY_MODEL_c4ca6967de6e40049bed52371f6c6916",
       "value": "<p>its a foo cake</p>"
      }
     },
     "2a785d23c5494fb9bf327fff2b3a4f8d": {
      "model_module": "@jupyter-widgets/controls",
      "model_module_version": "1.5.0",
      "model_name": "HBoxModel",
      "state": {
       "children": [
        "IPY_MODEL_21873967c5fb4b14965831398aea2cb8",
        "IPY_MODEL_4f76f01e6c1440c9a3e2b86a1ab5944d"
       ],
       "layout": "IPY_MODEL_e90382fc4fc0494ca73e71a81e41d132"
      }
     },
     "2b63891e4f064815a7327be816502f95": {
      "model_module": "ipysheet",
      "model_module_version": "~0.4.4",
      "model_name": "CellRangeModel",
      "state": {
       "_view_module": null,
       "_view_module_version": "",
       "choice": [],
       "column_end": 6,
       "column_start": 6,
       "numeric_format": null,
       "row_end": 3,
       "row_start": 0,
       "squeeze_row": false,
       "type": "text",
       "value": [
        "<class 'list'>",
        "<class 'NoneType'>",
        "<class 'NoneType'>",
        "<class 'NoneType'>"
       ]
      }
     },
     "2bb8ae229173440483e581216ca5ce96": {
      "model_module": "@jupyter-widgets/controls",
      "model_module_version": "1.5.0",
      "model_name": "HTMLModel",
      "state": {
       "layout": "IPY_MODEL_8d000caa6fe74ec7a93b2685bb877f0e",
       "style": "IPY_MODEL_5dfd106d2381457a8eb7e42ac5b96ea0",
       "value": "<p>its a foo cake</p>"
      }
     },
     "2bc5d078aa4d453387de6f5d074deafd": {
      "model_module": "@jupyter-widgets/base",
      "model_module_version": "1.2.0",
      "model_name": "LayoutModel",
      "state": {}
     },
     "2bd9117d69f649349b99afac347fb3ff": {
      "model_module": "@jupyter-widgets/controls",
      "model_module_version": "1.5.0",
      "model_name": "HBoxModel",
      "state": {
       "children": [
        "IPY_MODEL_b3601bba28b3430c9bfaa920fa5d09fc",
        "IPY_MODEL_949c1d96682e4c6f8ff727c015e79f70"
       ],
       "layout": "IPY_MODEL_5223f53c2a5c4403b20e58058850a898"
      }
     },
     "2c12c5ebf74240c4a2640a03a1071968": {
      "model_module": "@jupyter-widgets/controls",
      "model_module_version": "1.5.0",
      "model_name": "HBoxModel",
      "state": {
       "children": [
        "IPY_MODEL_d037125d7a3f4023b5462ed8fe90cb1d",
        "IPY_MODEL_f16119e9057e46b8803e42a310d109ad"
       ],
       "layout": "IPY_MODEL_8dfcc8fe3b6543bfb6ac285067fae91b"
      }
     },
     "2c37cbad3afc4b67ad21f1d2280cbb71": {
      "model_module": "@jupyter-widgets/output",
      "model_module_version": "1.0.0",
      "model_name": "OutputModel",
      "state": {
       "layout": "IPY_MODEL_71d82a64b5d14478aebf236c564b93f6"
      }
     },
     "2c3b7faea049414f8d8aa92cd5ef36b3": {
      "model_module": "@jupyter-widgets/base",
      "model_module_version": "1.2.0",
      "model_name": "LayoutModel",
      "state": {}
     },
     "2c845c8cdb3d4921917afab1862e7c1a": {
      "model_module": "@jupyter-widgets/controls",
      "model_module_version": "1.5.0",
      "model_name": "HBoxModel",
      "state": {
       "children": [
        "IPY_MODEL_cd3e96151070495ea863d8313071bf24",
        "IPY_MODEL_9cb0543299644fd389f1ee05dafe5494"
       ],
       "layout": "IPY_MODEL_038545fc8d3d4783b7a3ded0fe5edc80"
      }
     },
     "2c962f82c525488e823b72a0c89d59c3": {
      "model_module": "@jupyter-widgets/controls",
      "model_module_version": "1.5.0",
      "model_name": "DescriptionStyleModel",
      "state": {
       "description_width": ""
      }
     },
     "2cca8bfd4ae5451583e71ef3362be991": {
      "model_module": "@jupyter-widgets/base",
      "model_module_version": "1.2.0",
      "model_name": "LayoutModel",
      "state": {
       "align_items": "stretch",
       "display": "flex",
       "flex_flow": "row",
       "grid_auto_columns": "True",
       "justify_content": "flex-end",
       "width": "90%"
      }
     },
     "2ce01067a66f4488963efcb304f7cf35": {
      "model_module": "@jupyter-widgets/controls",
      "model_module_version": "1.5.0",
      "model_name": "DescriptionStyleModel",
      "state": {
       "description_width": ""
      }
     },
     "2cf4c4224d89437d889e7e778e0a6819": {
      "model_module": "@jupyter-widgets/controls",
      "model_module_version": "1.5.0",
      "model_name": "HTMLModel",
      "state": {
       "layout": "IPY_MODEL_1e1f94d176e8406bba68b495b47faa46",
       "style": "IPY_MODEL_e62d8fbc52be4cc99a02526bcaadbc39",
       "value": "<p>reus foo ous oo ous foo st</p>"
      }
     },
     "2d24854abef9455285b9aba5605171b1": {
      "model_module": "@jupyter-widgets/controls",
      "model_module_version": "1.5.0",
      "model_name": "HTMLModel",
      "state": {
       "layout": "IPY_MODEL_890baee5414642fbbb3504c9286c96d1",
       "style": "IPY_MODEL_dd87d273561d42b19385365411244fb2",
       "value": "<p>fus foo ous o</p>"
      }
     },
     "2d3b62a413f84897bf23ba6de55a6bcd": {
      "model_module": "@jupyter-widgets/base",
      "model_module_version": "1.2.0",
      "model_name": "LayoutModel",
      "state": {
       "align_items": "stretch",
       "border": "dashed 0.2px green",
       "display": "flex",
       "flex_flow": "row",
       "grid_auto_columns": "True",
       "justify_content": "flex-start",
       "width": "100%"
      }
     },
     "2d46bff0ac9d46ce9d8b870f0d60f9df": {
      "model_module": "@jupyter-widgets/base",
      "model_module_version": "1.2.0",
      "model_name": "LayoutModel",
      "state": {
       "align_items": "stretch",
       "display": "flex",
       "flex_flow": "row",
       "grid_auto_columns": "True",
       "justify_content": "flex-end",
       "width": "90%"
      }
     },
     "2d6ae34258a34982b2d8f02287c5b0b0": {
      "model_module": "@jupyter-widgets/output",
      "model_module_version": "1.0.0",
      "model_name": "OutputModel",
      "state": {
       "layout": "IPY_MODEL_c4cd7df6cd2e47e5a4e052a1b37738db"
      }
     },
     "2d8ff60887c148d180467c69671f7bc9": {
      "model_module": "@jupyter-widgets/controls",
      "model_module_version": "1.5.0",
      "model_name": "HBoxModel",
      "state": {
       "children": [
        "IPY_MODEL_cc94729b5e9b42508425504f9ada62d5",
        "IPY_MODEL_233caf9f5c93472295ef413412b17b91"
       ],
       "layout": "IPY_MODEL_72d795c3e50b4278997f821773466d42"
      }
     },
     "2da6f0849cfd4859a866a3d836534107": {
      "model_module": "@jupyter-widgets/controls",
      "model_module_version": "1.5.0",
      "model_name": "HBoxModel",
      "state": {
       "children": [
        "IPY_MODEL_b920a964a07a4cfab93e9fe67afaf8fc",
        "IPY_MODEL_57623c2f59114d74b50e459c85197e43"
       ],
       "layout": "IPY_MODEL_94f896fe12ec4284bad76af02e429b13"
      }
     },
     "2db64eb4be1840f396fab59a2f90b309": {
      "model_module": "@jupyter-widgets/base",
      "model_module_version": "1.2.0",
      "model_name": "LayoutModel",
      "state": {
       "align_items": "stretch",
       "border": "dashed 0.2px green",
       "display": "flex",
       "flex_flow": "row",
       "grid_auto_columns": "True",
       "justify_content": "flex-start",
       "width": "100%"
      }
     },
     "2df07537c6054dd191ca91183536094b": {
      "model_module": "@jupyter-widgets/controls",
      "model_module_version": "1.5.0",
      "model_name": "DescriptionStyleModel",
      "state": {
       "description_width": ""
      }
     },
     "2dfcec795eb2421fb5c9a1746a5431ae": {
      "model_module": "@jupyter-widgets/base",
      "model_module_version": "1.2.0",
      "model_name": "LayoutModel",
      "state": {
       "align_items": "stretch",
       "border": "dashed 0.2px green",
       "display": "flex",
       "flex_flow": "row",
       "grid_auto_columns": "True",
       "justify_content": "flex-start",
       "width": "100%"
      }
     },
     "2ef61f5a911c493c922fd1a1e9134130": {
      "model_module": "@jupyter-widgets/base",
      "model_module_version": "1.2.0",
      "model_name": "LayoutModel",
      "state": {
       "align_items": "stretch",
       "border": "dashed 0.2px green",
       "display": "flex",
       "flex_flow": "row",
       "grid_auto_columns": "True",
       "justify_content": "flex-start",
       "width": "100%"
      }
     },
     "2f0701f872fc470b93cfb9b39da7f85a": {
      "model_module": "@jupyter-widgets/output",
      "model_module_version": "1.0.0",
      "model_name": "OutputModel",
      "state": {
       "layout": "IPY_MODEL_b1d2b266c45c4d51b41b3d9ae00238b4"
      }
     },
     "303d74074e14419ea6824a1d3a3a4c4e": {
      "model_module": "@jupyter-widgets/base",
      "model_module_version": "1.2.0",
      "model_name": "LayoutModel",
      "state": {}
     },
     "303f111f85c3431a808149feefab7e98": {
      "model_module": "@jupyter-widgets/base",
      "model_module_version": "1.2.0",
      "model_name": "LayoutModel",
      "state": {
       "align_items": "stretch",
       "display": "flex",
       "flex_flow": "row",
       "grid_auto_columns": "True",
       "justify_content": "flex-start",
       "width": "80%"
      }
     },
     "30a13c4f12ef49d28bc6cd90c01e2867": {
      "model_module": "@jupyter-widgets/base",
      "model_module_version": "1.2.0",
      "model_name": "LayoutModel",
      "state": {
       "height": "auto",
       "width": "auto"
      }
     },
     "30badfef1ace42e899347d319e0c6fcf": {
      "model_module": "@jupyter-widgets/base",
      "model_module_version": "1.2.0",
      "model_name": "LayoutModel",
      "state": {}
     },
     "30e40e1930884788a0f560d85db5f585": {
      "model_module": "@jupyter-widgets/base",
      "model_module_version": "1.2.0",
      "model_name": "LayoutModel",
      "state": {
       "width": "5%"
      }
     },
     "311f9f911d234d5cbeae225b4102f999": {
      "model_module": "@jupyter-widgets/controls",
      "model_module_version": "1.5.0",
      "model_name": "HBoxModel",
      "state": {
       "children": [
        "IPY_MODEL_ee404e7dbab44f54b194f5a11ba9f435",
        "IPY_MODEL_276601572fa249de8878a658fd0106fa"
       ],
       "layout": "IPY_MODEL_a552f708784f4669bc01426891d047c3"
      }
     },
     "3157804c3e6648bfbe02681c9e65b1ac": {
      "model_module": "@jupyter-widgets/controls",
      "model_module_version": "1.5.0",
      "model_name": "HBoxModel",
      "state": {
       "children": [
        "IPY_MODEL_119163645cfd45e19b4e5f87f1087911",
        "IPY_MODEL_a7e34609c70d4febb500a75efe8e5296"
       ],
       "layout": "IPY_MODEL_42a92d7394d34453b887b62644289573"
      }
     },
     "323b49c069934f0e807cef113ca31e8f": {
      "model_module": "@jupyter-widgets/controls",
      "model_module_version": "1.5.0",
      "model_name": "DescriptionStyleModel",
      "state": {
       "description_width": ""
      }
     },
     "325dd0b5e9af451abae0a5ae6d95711f": {
      "model_module": "@jupyter-widgets/controls",
      "model_module_version": "1.5.0",
      "model_name": "HTMLModel",
      "state": {
       "layout": "IPY_MODEL_1d5559befa6e4815850a50e1d73e4afc",
       "style": "IPY_MODEL_9729b0ffb320412b9bce665cd9369fc4",
       "value": "<p>its a foo cake</p>"
      }
     },
     "32a103ef1f294a80877a4d503bef95a3": {
      "model_module": "@jupyter-widgets/controls",
      "model_module_version": "1.5.0",
      "model_name": "ButtonModel",
      "state": {
       "description": "save",
       "layout": "IPY_MODEL_0ecf969c8ee84bcba26a3872b6089dba",
       "style": "IPY_MODEL_ead30e40ea164e5a8279eedaa6cde634"
      }
     },
     "32acdb10bf6343568d5ff96031536a1a": {
      "model_module": "@jupyter-widgets/base",
      "model_module_version": "1.2.0",
      "model_name": "LayoutModel",
      "state": {}
     },
     "32d40578b9ad40758dfce708ba20fa05": {
      "model_module": "@jupyter-widgets/base",
      "model_module_version": "1.2.0",
      "model_name": "LayoutModel",
      "state": {
       "align_items": "stretch",
       "display": "flex",
       "flex_flow": "row",
       "grid_auto_columns": "True",
       "justify_content": "flex-start",
       "width": "80%"
      }
     },
     "32ee07ae22ab4641b71d81ce115d63bc": {
      "model_module": "@jupyter-widgets/base",
      "model_module_version": "1.2.0",
      "model_name": "LayoutModel",
      "state": {}
     },
     "33ae2c6bf5f845a09e2b52d9fb709642": {
      "model_module": "@jupyter-widgets/base",
      "model_module_version": "1.2.0",
      "model_name": "LayoutModel",
      "state": {
       "align_items": "stretch",
       "display": "flex",
       "flex_flow": "row",
       "grid_auto_columns": "True",
       "justify_content": "flex-end",
       "width": "90%"
      }
     },
     "33e2eb9b2ff844d284cc03cc3b2b39d3": {
      "model_module": "@jupyter-widgets/base",
      "model_module_version": "1.2.0",
      "model_name": "LayoutModel",
      "state": {
       "align_items": "stretch",
       "display": "flex",
       "flex_flow": "row",
       "grid_auto_columns": "True",
       "justify_content": "flex-end",
       "width": "90%"
      }
     },
     "33e410ed78bf4b4fa12fd1de1694034f": {
      "model_module": "@jupyter-widgets/controls",
      "model_module_version": "1.5.0",
      "model_name": "HBoxModel",
      "state": {
       "children": [
        "IPY_MODEL_df45936d0d0a4eba84df5f79bef1d94a",
        "IPY_MODEL_febdec8509c44fb2a45965241a36712e"
       ],
       "layout": "IPY_MODEL_79ccac22ea8344f5b7cb14af0860491a"
      }
     },
     "34e33de4867140ab86d15797e393bb88": {
      "model_module": "@jupyter-widgets/base",
      "model_module_version": "1.2.0",
      "model_name": "LayoutModel",
      "state": {
       "align_items": "stretch",
       "display": "flex",
       "flex_flow": "row",
       "grid_auto_columns": "True",
       "justify_content": "flex-start",
       "width": "80%"
      }
     },
     "354bf2913d5445fcbc837783b51503a5": {
      "model_module": "@jupyter-widgets/controls",
      "model_module_version": "1.5.0",
      "model_name": "CheckboxModel",
      "state": {
       "disabled": false,
       "layout": "IPY_MODEL_3f05a0c628344108bfd46c16b8475191",
       "style": "IPY_MODEL_48ac2180a7ea467892fab8058f31c8c9",
       "value": false
      }
     },
     "35844f45496a4015acf9b07d3110fb7c": {
      "model_module": "@jupyter-widgets/controls",
      "model_module_version": "1.5.0",
      "model_name": "HBoxModel",
      "state": {
       "children": [
        "IPY_MODEL_ca7934f9c69d4743b8d1bc7a134e34da"
       ],
       "layout": "IPY_MODEL_5efee9d3bed943649a7fd59d3167c0ca"
      }
     },
     "35eed7fd7e8149eab63c3665cf6a82ed": {
      "model_module": "@jupyter-widgets/controls",
      "model_module_version": "1.5.0",
      "model_name": "FloatSliderModel",
      "state": {
       "layout": "IPY_MODEL_187da8d4f66d42b399fe4f0e3ff10b2f",
       "max": 10,
       "style": "IPY_MODEL_6d03c91931244805bbbae9c51f0f70a3",
       "value": 1
      }
     },
     "35f8aa7d4a7347b28d048a0386ab7180": {
      "model_module": "@jupyter-widgets/base",
      "model_module_version": "1.2.0",
      "model_name": "LayoutModel",
      "state": {
       "align_items": "stretch",
       "border": "dashed 0.2px green",
       "display": "flex",
       "flex_flow": "row",
       "grid_auto_columns": "True",
       "justify_content": "flex-start",
       "width": "100%"
      }
     },
     "363fbefed10741e8af65db106130db5d": {
      "model_module": "@jupyter-widgets/base",
      "model_module_version": "1.2.0",
      "model_name": "LayoutModel",
      "state": {}
     },
     "367decb3d38e4eaeb00683673b924e1e": {
      "model_module": "@jupyter-widgets/base",
      "model_module_version": "1.2.0",
      "model_name": "LayoutModel",
      "state": {
       "align_items": "stretch",
       "display": "flex",
       "flex_flow": "row",
       "grid_auto_columns": "True",
       "justify_content": "flex-start",
       "width": "80%"
      }
     },
     "36c63108077b430b84040ed47379f572": {
      "model_module": "@jupyter-widgets/controls",
      "model_module_version": "1.5.0",
      "model_name": "HBoxModel",
      "state": {
       "children": [
        "IPY_MODEL_d4092db8ed9c473982e8c161c8de3957"
       ],
       "layout": "IPY_MODEL_7b88a049dc2b4f66a5ae1e2054a8874a"
      }
     },
     "36e27ef013a8489fa3ee6d8e3208e588": {
      "model_module": "@jupyter-widgets/controls",
      "model_module_version": "1.5.0",
      "model_name": "DescriptionStyleModel",
      "state": {
       "description_width": ""
      }
     },
     "370c95f46f9d4979b8d932b837a96d42": {
      "model_module": "@jupyter-widgets/base",
      "model_module_version": "1.2.0",
      "model_name": "LayoutModel",
      "state": {}
     },
     "37212107cc8b46e8bace7a404448fab6": {
      "model_module": "@jupyter-widgets/output",
      "model_module_version": "1.0.0",
      "model_name": "OutputModel",
      "state": {
       "layout": "IPY_MODEL_af01240d5881491d9c42de7cbdd91ed4"
      }
     },
     "376a9b05bc0c4f88a7dd2ea0d98e5bca": {
      "model_module": "@jupyter-widgets/base",
      "model_module_version": "1.2.0",
      "model_name": "LayoutModel",
      "state": {}
     },
     "37ba18b2e89040e2b57825d14f611e37": {
      "model_module": "@jupyter-widgets/controls",
      "model_module_version": "1.5.0",
      "model_name": "HBoxModel",
      "state": {
       "children": [
        "IPY_MODEL_4fc903efccf441d1a4596edf4aea982b",
        "IPY_MODEL_9992a03fb12a409cb7aebcb42a4adc9c"
       ],
       "layout": "IPY_MODEL_835931a6fa984bd583c2df56e9b49437"
      }
     },
     "38748076d9da44fbba2c60ff84c4630e": {
      "model_module": "@jupyter-widgets/base",
      "model_module_version": "1.2.0",
      "model_name": "LayoutModel",
      "state": {}
     },
     "39660098e2994f8083340a397eb5359f": {
      "model_module": "@jupyter-widgets/controls",
      "model_module_version": "1.5.0",
      "model_name": "SelectMultipleModel",
      "state": {
       "_options_labels": [
        "asfd",
        "10",
        "asdf"
       ],
       "index": [
        1
       ],
       "layout": "IPY_MODEL_63e4980548794325b4d38938ad219681",
       "rows": 5,
       "style": "IPY_MODEL_54183543742247c2a8899d682dccbeb0"
      }
     },
     "398b056cef7e4219a99aac6da8f3087d": {
      "model_module": "@jupyter-widgets/base",
      "model_module_version": "1.2.0",
      "model_name": "LayoutModel",
      "state": {}
     },
     "39e2c60d77f24ddfa4f25e93152c47bd": {
      "model_module": "@jupyter-widgets/base",
      "model_module_version": "1.2.0",
      "model_name": "LayoutModel",
      "state": {}
     },
     "3aaaafc5e5fc404280280e8cbcdcdb54": {
      "model_module": "@jupyter-widgets/controls",
      "model_module_version": "1.5.0",
      "model_name": "DescriptionStyleModel",
      "state": {
       "description_width": ""
      }
     },
     "3ae33c1aef1a4efe9d7d20a78caa2e6a": {
      "model_module": "@jupyter-widgets/controls",
      "model_module_version": "1.5.0",
      "model_name": "DescriptionStyleModel",
      "state": {
       "description_width": ""
      }
     },
     "3b4aedcab9974006b64fa710bd22ac36": {
      "model_module": "@jupyter-widgets/controls",
      "model_module_version": "1.5.0",
      "model_name": "HTMLModel",
      "state": {
       "layout": "IPY_MODEL_1008114110204005aff2e1994f798bef",
       "style": "IPY_MODEL_ced52515328f43aca769ebf1aec6689b",
       "value": "<p>its a foo cake</p>"
      }
     },
     "3bc3b5051ad64e84835c4a4a75766de8": {
      "model_module": "@jupyter-widgets/controls",
      "model_module_version": "1.5.0",
      "model_name": "HTMLModel",
      "state": {
       "layout": "IPY_MODEL_d823f25ba34e4d04a789a8df0fa92463",
       "style": "IPY_MODEL_db7dd73c04674ff2a9351c0f05678a9f",
       "value": "<p>label</p>"
      }
     },
     "3bf069823e154fa4bcf307bf4a3a994e": {
      "model_module": "@jupyter-widgets/base",
      "model_module_version": "1.2.0",
      "model_name": "LayoutModel",
      "state": {}
     },
     "3c0cf5f15da84bba9064967770371698": {
      "model_module": "@jupyter-widgets/controls",
      "model_module_version": "1.5.0",
      "model_name": "HBoxModel",
      "state": {
       "children": [
        "IPY_MODEL_441c5b941acc4d24a4a9009847676a89",
        "IPY_MODEL_9d1b9e1ae61341e9b4e6ce4d3fc4a317"
       ],
       "layout": "IPY_MODEL_a6a7ba7252c44270a9267e08a6cc29d3"
      }
     },
     "3c3da6b15c2c4ad6ab5afe1bc2381cc5": {
      "model_module": "ipysheet",
      "model_module_version": "~0.4.4",
      "model_name": "CellRangeModel",
      "state": {
       "_view_module": null,
       "_view_module_version": "",
       "choice": [],
       "column_end": 2,
       "column_start": 2,
       "numeric_format": null,
       "row_end": 3,
       "row_start": 0,
       "squeeze_row": false,
       "type": "text",
       "value": [
        "any",
        "<class 'list'>",
        "<class 'NoneType'>",
        "<class 'NoneType'>"
       ]
      }
     },
     "3d67dfa246b54c70b4614548077abbff": {
      "model_module": "@jupyter-widgets/controls",
      "model_module_version": "1.5.0",
      "model_name": "DropdownModel",
      "state": {
       "_options_labels": [
        "asfd",
        "10",
        "asdf"
       ],
       "index": 1,
       "layout": "IPY_MODEL_ef0f8b7d44af45d49bf1422a11828789",
       "style": "IPY_MODEL_fbd1c72ab6da43e1b8b35b9d85a88cf8"
      }
     },
     "3e4758668e294c7aa0712fca5c2785d0": {
      "model_module": "@jupyter-widgets/controls",
      "model_module_version": "1.5.0",
      "model_name": "FloatSliderModel",
      "state": {
       "layout": "IPY_MODEL_280b926e12c54a00b404cabfe227428a",
       "max": 10,
       "style": "IPY_MODEL_5b867f4959594dcf998be4cf0cafc8dc",
       "value": 1
      }
     },
     "3ef92619896c462eb7589c44c06939aa": {
      "model_module": "@jupyter-widgets/controls",
      "model_module_version": "1.5.0",
      "model_name": "HBoxModel",
      "state": {
       "children": [
        "IPY_MODEL_028f31be82ef4dcaabbe83cc0c9fcbc1",
        "IPY_MODEL_56574f777f3848c2a91c691aaf08754a"
       ],
       "layout": "IPY_MODEL_cc160a4ec17c42e3ad0f27851840b3a5"
      }
     },
     "3f05a0c628344108bfd46c16b8475191": {
      "model_module": "@jupyter-widgets/base",
      "model_module_version": "1.2.0",
      "model_name": "LayoutModel",
      "state": {}
     },
     "3fa8600a93c14120a2363f284a5bdb76": {
      "model_module": "@jupyter-widgets/base",
      "model_module_version": "1.2.0",
      "model_name": "LayoutModel",
      "state": {}
     },
     "3ffac483c9da42f182e336a60ac47e95": {
      "model_module": "@jupyter-widgets/output",
      "model_module_version": "1.0.0",
      "model_name": "OutputModel",
      "state": {
       "layout": "IPY_MODEL_eaf0268d5aec46e2b9f119117f49a489"
      }
     },
     "4085524cbd5442579260a99a27b9c6b8": {
      "model_module": "@jupyter-widgets/controls",
      "model_module_version": "1.5.0",
      "model_name": "DescriptionStyleModel",
      "state": {
       "description_width": ""
      }
     },
     "40c5351c741947089ef4299e77f25557": {
      "model_module": "@jupyter-widgets/controls",
      "model_module_version": "1.5.0",
      "model_name": "HTMLModel",
      "state": {
       "layout": "IPY_MODEL_a522eb1519ad4089ace9798a9cdcfe9e",
       "style": "IPY_MODEL_7011c4f2f4bb434e9eb4af14539c8f41",
       "value": "<p>name</p>"
      }
     },
     "40c8bd32848a493caa8efc6d64e163f6": {
      "model_module": "@jupyter-widgets/controls",
      "model_module_version": "1.5.0",
      "model_name": "HBoxModel",
      "state": {
       "children": [
        "IPY_MODEL_eac29e1941044384a73ff55f1b04b153",
        "IPY_MODEL_5a151f04e239493a8523f871b0a4c395"
       ],
       "layout": "IPY_MODEL_95388c8280a842c88c5ffb8a0c792a8e"
      }
     },
     "4132030582c8411ca13edbaeea768548": {
      "model_module": "@jupyter-widgets/base",
      "model_module_version": "1.2.0",
      "model_name": "LayoutModel",
      "state": {}
     },
     "418542ef7f8545f3a3b3c9a1e2ac5ee1": {
      "model_module": "@jupyter-widgets/controls",
      "model_module_version": "1.5.0",
      "model_name": "ButtonModel",
      "state": {
       "button_style": "success",
       "description": "save",
       "layout": "IPY_MODEL_19d4b2f9391f4c0fbc2b469c36ecbfbb",
       "style": "IPY_MODEL_270fd44c93254f5593091129522a04b5"
      }
     },
     "41e8b46ffae74ad793690d3de10372f8": {
      "model_module": "@jupyter-widgets/output",
      "model_module_version": "1.0.0",
      "model_name": "OutputModel",
      "state": {
       "layout": "IPY_MODEL_bddc1b2dc0be4b3d956996f9428063d7"
      }
     },
     "423aacfc95994a7096caa48aa8ee2ae0": {
      "model_module": "@jupyter-widgets/controls",
      "model_module_version": "1.5.0",
      "model_name": "HBoxModel",
      "state": {
       "children": [
        "IPY_MODEL_896daca1bd40492e92eb4728fef4ecd4"
       ],
       "layout": "IPY_MODEL_11991414746842599c9323bcd798078e"
      }
     },
     "423f325b6f8f43938c7e7b209f8f369e": {
      "model_module": "@jupyter-widgets/controls",
      "model_module_version": "1.5.0",
      "model_name": "ButtonModel",
      "state": {
       "button_style": "success",
       "description": "save",
       "layout": "IPY_MODEL_a62dd14bcf9143f78873862fbb6eafed",
       "style": "IPY_MODEL_7e042602841a412981afaaa8b6a2f819"
      }
     },
     "425a94d18a4f4795b54fc3aa6202ab08": {
      "model_module": "@jupyter-widgets/base",
      "model_module_version": "1.2.0",
      "model_name": "LayoutModel",
      "state": {
       "align_items": "stretch",
       "display": "flex",
       "flex_flow": "row",
       "grid_auto_columns": "True",
       "justify_content": "flex-end",
       "width": "90%"
      }
     },
     "4260496ceba546da9e87e7e510c9e8b0": {
      "model_module": "@jupyter-widgets/base",
      "model_module_version": "1.2.0",
      "model_name": "LayoutModel",
      "state": {}
     },
     "427818aa32e44bd5a25225b8a44ca844": {
      "model_module": "@jupyter-widgets/output",
      "model_module_version": "1.0.0",
      "model_name": "OutputModel",
      "state": {
       "layout": "IPY_MODEL_a33521fb1a2f46b4a617ac5b5398fc7a"
      }
     },
     "42a92d7394d34453b887b62644289573": {
      "model_module": "@jupyter-widgets/base",
      "model_module_version": "1.2.0",
      "model_name": "LayoutModel",
      "state": {
       "align_items": "stretch",
       "border": "dashed 0.2px green",
       "display": "flex",
       "flex_flow": "row",
       "grid_auto_columns": "True",
       "justify_content": "flex-start",
       "width": "100%"
      }
     },
     "42ad0089fa0a47ec839e75c56aa09031": {
      "model_module": "@jupyter-widgets/controls",
      "model_module_version": "1.5.0",
      "model_name": "HBoxModel",
      "state": {
       "children": [
        "IPY_MODEL_c946b55c1aba407ea045b893d543d86e",
        "IPY_MODEL_b748f18816d543c3b45ef7f0d483c05c"
       ],
       "layout": "IPY_MODEL_6af03809fcbc4842895757b03027d0cf"
      }
     },
     "432aea2b834b4aeb82a3240127310c2b": {
      "model_module": "@jupyter-widgets/base",
      "model_module_version": "1.2.0",
      "model_name": "LayoutModel",
      "state": {}
     },
     "43368e23ade84e408b7fdc64dcaf4e8e": {
      "model_module": "ipysheet",
      "model_module_version": "~0.4.4",
      "model_name": "CellRangeModel",
      "state": {
       "_view_module": null,
       "_view_module_version": "",
       "choice": [],
       "column_end": 4,
       "column_start": 4,
       "numeric_format": null,
       "row_end": 3,
       "row_start": 0,
       "squeeze_row": false,
       "type": "text",
       "value": [
        "<class 'bool'>",
        "<class 'NoneType'>",
        "<class 'NoneType'>",
        "<class 'NoneType'>"
       ]
      }
     },
     "441c5b941acc4d24a4a9009847676a89": {
      "model_module": "@jupyter-widgets/controls",
      "model_module_version": "1.5.0",
      "model_name": "HTMLModel",
      "state": {
       "layout": "IPY_MODEL_90513b01148340afa8f8cd8342a525a5",
       "style": "IPY_MODEL_8c1fa44dedc3469e8c3612a03f5e33d2",
       "value": "<p>fus foo ous o</p>"
      }
     },
     "443e4a06b7014bba84bda2692257b53a": {
      "model_module": "@jupyter-widgets/base",
      "model_module_version": "1.2.0",
      "model_name": "LayoutModel",
      "state": {}
     },
     "4447ab16060543dfbaaa5fc8bca1c1f9": {
      "model_module": "@jupyter-widgets/base",
      "model_module_version": "1.2.0",
      "model_name": "LayoutModel",
      "state": {}
     },
     "44b2478883c1494e9b3f3b72e8992629": {
      "model_module": "@jupyter-widgets/base",
      "model_module_version": "1.2.0",
      "model_name": "LayoutModel",
      "state": {}
     },
     "44cfaafe4ce64041b77f35cb8ffba63c": {
      "model_module": "@jupyter-widgets/base",
      "model_module_version": "1.2.0",
      "model_name": "LayoutModel",
      "state": {}
     },
     "45085436bed34a6c9816ad427866669a": {
      "model_module": "@jupyter-widgets/controls",
      "model_module_version": "1.5.0",
      "model_name": "HTMLModel",
      "state": {
       "layout": "IPY_MODEL_da38ae9824bf41999c331c5751481aa4",
       "style": "IPY_MODEL_8bfb1b1c1faa471198c3169cb47860aa",
       "value": "<p>its a foo cake</p>"
      }
     },
     "453426bd52dc4234a9b5662ae4293009": {
      "model_module": "@jupyter-widgets/output",
      "model_module_version": "1.0.0",
      "model_name": "OutputModel",
      "state": {
       "layout": "IPY_MODEL_bebfd3f445924cc7bf1c0fc6f39e1bfc"
      }
     },
     "4553e075ffa344b2b12a2fcf65ad9566": {
      "model_module": "@jupyter-widgets/controls",
      "model_module_version": "1.5.0",
      "model_name": "HBoxModel",
      "state": {
       "children": [
        "IPY_MODEL_aab5abd8fcff4282a93057786c6ca63c"
       ],
       "layout": "IPY_MODEL_c35e12fb3b2e468ab8b3c1bdd18855c9"
      }
     },
     "45860fe9082f430882e09baace5e9e41": {
      "model_module": "@jupyter-widgets/controls",
      "model_module_version": "1.5.0",
      "model_name": "DescriptionStyleModel",
      "state": {
       "description_width": ""
      }
     },
     "45b350011cce4d50bf412392c934e749": {
      "model_module": "@jupyter-widgets/controls",
      "model_module_version": "1.5.0",
      "model_name": "DescriptionStyleModel",
      "state": {
       "description_width": ""
      }
     },
     "46542867ebce40dcab64c7be6655b58d": {
      "model_module": "@jupyter-widgets/base",
      "model_module_version": "1.2.0",
      "model_name": "LayoutModel",
      "state": {}
     },
     "466db9cfb719485abcbed32061e0e68a": {
      "model_module": "@jupyter-widgets/base",
      "model_module_version": "1.2.0",
      "model_name": "LayoutModel",
      "state": {}
     },
     "4673b31d63014d9db3530c2af1667588": {
      "model_module": "@jupyter-widgets/base",
      "model_module_version": "1.2.0",
      "model_name": "LayoutModel",
      "state": {}
     },
     "476b6263c9f748fda0a3d71af011a368": {
      "model_module": "@jupyter-widgets/output",
      "model_module_version": "1.0.0",
      "model_name": "OutputModel",
      "state": {
       "layout": "IPY_MODEL_5d51205903a6460484c9bcfbd045dfa2"
      }
     },
     "477bd7cc70114ccfb7bb62af5bd5d327": {
      "model_module": "@jupyter-widgets/base",
      "model_module_version": "1.2.0",
      "model_name": "LayoutModel",
      "state": {}
     },
     "47d64d50f48b4095ac9ca362d646bc91": {
      "model_module": "@jupyter-widgets/output",
      "model_module_version": "1.0.0",
      "model_name": "OutputModel",
      "state": {
       "layout": "IPY_MODEL_5fb497af32294bc2bd3a57752211f25c"
      }
     },
     "47ed6d55b3e24a259b715ffcd8293936": {
      "model_module": "@jupyter-widgets/base",
      "model_module_version": "1.2.0",
      "model_name": "LayoutModel",
      "state": {
       "align_items": "stretch",
       "display": "flex",
       "flex_flow": "row",
       "grid_auto_columns": "True",
       "justify_content": "flex-end",
       "width": "90%"
      }
     },
     "4828a68451bf494ebe2fb3756cee6bc8": {
      "model_module": "@jupyter-widgets/controls",
      "model_module_version": "1.5.0",
      "model_name": "DescriptionStyleModel",
      "state": {
       "description_width": ""
      }
     },
     "4893d8293909470995b20f9fae93b5d3": {
      "model_module": "@jupyter-widgets/base",
      "model_module_version": "1.2.0",
      "model_name": "LayoutModel",
      "state": {
       "align_items": "stretch",
       "display": "flex",
       "flex_flow": "row",
       "grid_auto_columns": "True",
       "justify_content": "flex-start",
       "width": "80%"
      }
     },
     "4894e0b3d9fd4cb8b9cccfac3d03973f": {
      "model_module": "@jupyter-widgets/controls",
      "model_module_version": "1.5.0",
      "model_name": "DescriptionStyleModel",
      "state": {
       "description_width": ""
      }
     },
     "48ac2180a7ea467892fab8058f31c8c9": {
      "model_module": "@jupyter-widgets/controls",
      "model_module_version": "1.5.0",
      "model_name": "DescriptionStyleModel",
      "state": {
       "description_width": ""
      }
     },
     "48e088b1973947d7a08d0adf769814b0": {
      "model_module": "@jupyter-widgets/controls",
      "model_module_version": "1.5.0",
      "model_name": "HTMLModel",
      "state": {
       "layout": "IPY_MODEL_38748076d9da44fbba2c60ff84c4630e",
       "style": "IPY_MODEL_70b7938126c94511b2227ffce45b8881",
       "value": "<p>its a delicious foo cake</p>"
      }
     },
     "48e90ee7c9aa4bc68b1a2bf7a8509dc0": {
      "model_module": "@jupyter-widgets/controls",
      "model_module_version": "1.5.0",
      "model_name": "FloatTextModel",
      "state": {
       "layout": "IPY_MODEL_102c1973a1d442a881ef9fdbb947efe9",
       "step": null,
       "style": "IPY_MODEL_d556960b645a4231865358ee9085e17f",
       "value": 10
      }
     },
     "48f411476a5d4d8e9bff3a34354a1c43": {
      "model_module": "@jupyter-widgets/controls",
      "model_module_version": "1.5.0",
      "model_name": "DescriptionStyleModel",
      "state": {
       "description_width": ""
      }
     },
     "49170d032e9248409745f0d19545fd83": {
      "model_module": "@jupyter-widgets/controls",
      "model_module_version": "1.5.0",
      "model_name": "DescriptionStyleModel",
      "state": {
       "description_width": ""
      }
     },
     "4b22a51e253b4260b4ee3bc99381c17a": {
      "model_module": "@jupyter-widgets/controls",
      "model_module_version": "1.5.0",
      "model_name": "HBoxModel",
      "state": {
       "children": [
        "IPY_MODEL_a56bfaa078104b3db08e29b64969ec92",
        "IPY_MODEL_311f9f911d234d5cbeae225b4102f999"
       ],
       "layout": "IPY_MODEL_715d2c2cf3ac412da8331bd67244c867"
      }
     },
     "4b811ae24409403799972f540dc56bc0": {
      "model_module": "@jupyter-widgets/controls",
      "model_module_version": "1.5.0",
      "model_name": "HBoxModel",
      "state": {
       "children": [
        "IPY_MODEL_6bf8eb7c76904bcfad79e29f481da12f",
        "IPY_MODEL_d24d7ad2b5794f71b1f0a85fafe4aa4c"
       ],
       "layout": "IPY_MODEL_34e33de4867140ab86d15797e393bb88"
      }
     },
     "4b90ed09276c43c299d329a4000e9c51": {
      "model_module": "@jupyter-widgets/output",
      "model_module_version": "1.0.0",
      "model_name": "OutputModel",
      "state": {
       "layout": "IPY_MODEL_9f5721a341094589a9a9ccfde13c99a0"
      }
     },
     "4c18a2057a634b78a391b8640cf33956": {
      "model_module": "@jupyter-widgets/controls",
      "model_module_version": "1.5.0",
      "model_name": "HBoxModel",
      "state": {
       "children": [
        "IPY_MODEL_6632614915214685a6cd9fd9590c2182"
       ],
       "layout": "IPY_MODEL_d1cc67c6869d4ee4b843a183f8571c1a"
      }
     },
     "4c40d682d0db4e42b796a9fd33c81f3f": {
      "model_module": "@jupyter-widgets/controls",
      "model_module_version": "1.5.0",
      "model_name": "HTMLModel",
      "state": {
       "layout": "IPY_MODEL_d009b17310a34338a1847a3e2d8ca48b",
       "style": "IPY_MODEL_5d45bef772da4127a80beb79cb2df11d",
       "value": "<p>its a foo cake</p>"
      }
     },
     "4cc65a9c00c04eb295ee11b92e44386f": {
      "model_module": "@jupyter-widgets/controls",
      "model_module_version": "1.5.0",
      "model_name": "ButtonStyleModel",
      "state": {}
     },
     "4cde9373081b4fa4a60423442c9492d2": {
      "model_module": "@jupyter-widgets/controls",
      "model_module_version": "1.5.0",
      "model_name": "ButtonModel",
      "state": {
       "description": "save",
       "layout": "IPY_MODEL_376a9b05bc0c4f88a7dd2ea0d98e5bca",
       "style": "IPY_MODEL_1674194c1b2d4c4c9907a87d6ebdc648"
      }
     },
     "4d1329cb31d74bfbb39f381783f81d43": {
      "model_module": "@jupyter-widgets/base",
      "model_module_version": "1.2.0",
      "model_name": "LayoutModel",
      "state": {}
     },
     "4d1e6a52a5e746ceb4d39f118ecbcd80": {
      "model_module": "@jupyter-widgets/base",
      "model_module_version": "1.2.0",
      "model_name": "LayoutModel",
      "state": {
       "align_items": "stretch",
       "display": "flex",
       "flex_flow": "row",
       "grid_auto_columns": "True",
       "justify_content": "flex-start",
       "width": "80%"
      }
     },
     "4d2159d619274e63b74b552466bba54a": {
      "model_module": "@jupyter-widgets/base",
      "model_module_version": "1.2.0",
      "model_name": "LayoutModel",
      "state": {}
     },
     "4d4029ad5cf144288928c78da7895f51": {
      "model_module": "@jupyter-widgets/controls",
      "model_module_version": "1.5.0",
      "model_name": "DescriptionStyleModel",
      "state": {
       "description_width": ""
      }
     },
     "4d564c2d95d445a5903baaa09b962c44": {
      "model_module": "@jupyter-widgets/controls",
      "model_module_version": "1.5.0",
      "model_name": "HBoxModel",
      "state": {
       "children": [
        "IPY_MODEL_da300c3205dd4e73832ec26113ebb799",
        "IPY_MODEL_48e088b1973947d7a08d0adf769814b0"
       ],
       "layout": "IPY_MODEL_4d1e6a52a5e746ceb4d39f118ecbcd80"
      }
     },
     "4d5d4bb78354422198f86dd457743a74": {
      "model_module": "@jupyter-widgets/controls",
      "model_module_version": "1.5.0",
      "model_name": "HBoxModel",
      "state": {
       "children": [
        "IPY_MODEL_40c8bd32848a493caa8efc6d64e163f6"
       ],
       "layout": "IPY_MODEL_dea55ffe038645bf8cd96108565b408c"
      }
     },
     "4d789ad07bb046cea0f76735671d68a1": {
      "model_module": "@jupyter-widgets/controls",
      "model_module_version": "1.5.0",
      "model_name": "TextareaModel",
      "state": {
       "layout": "IPY_MODEL_6e164498d1d046b4a60b9c9da1514cc4",
       "style": "IPY_MODEL_cde56dbc218f4fba991defc8ecf46fc3",
       "value": "This is a very long text areas string that needs a bigger box to fit all of hte verbose nonsense"
      }
     },
     "4da7620189cf492dae728cb5e44fd8e5": {
      "model_module": "@jupyter-widgets/controls",
      "model_module_version": "1.5.0",
      "model_name": "HTMLModel",
      "state": {
       "layout": "IPY_MODEL_b202590330884cc988d6cb98d10ad677",
       "style": "IPY_MODEL_09dcae001c8641deb022c6723a5f5d4e",
       "value": "<p>fus foo ous o</p>"
      }
     },
     "4dba788d88d3420598f0f8af72c6b466": {
      "model_module": "@jupyter-widgets/base",
      "model_module_version": "1.2.0",
      "model_name": "LayoutModel",
      "state": {
       "align_items": "stretch",
       "display": "flex",
       "flex_flow": "row",
       "grid_auto_columns": "True",
       "justify_content": "flex-start",
       "width": "80%"
      }
     },
     "4dcc43a23ad948a989f35007f5966fa0": {
      "model_module": "@jupyter-widgets/base",
      "model_module_version": "1.2.0",
      "model_name": "LayoutModel",
      "state": {}
     },
     "4e1713d8adfb4aa5b90a8e82f3727a3e": {
      "model_module": "@jupyter-widgets/controls",
      "model_module_version": "1.5.0",
      "model_name": "DescriptionStyleModel",
      "state": {
       "description_width": ""
      }
     },
     "4e35d24bb4414f4c82b7929d8a708372": {
      "model_module": "@jupyter-widgets/controls",
      "model_module_version": "1.5.0",
      "model_name": "DropdownModel",
      "state": {
       "_options_labels": [
        "asfd",
        "10",
        "asdf"
       ],
       "index": 1,
       "layout": "IPY_MODEL_44cfaafe4ce64041b77f35cb8ffba63c",
       "style": "IPY_MODEL_da9e79d217b3451d8617cb38df5acfb7"
      }
     },
     "4e6a2dadefd9402ebf1047bd57a85cce": {
      "model_module": "@jupyter-widgets/controls",
      "model_module_version": "1.5.0",
      "model_name": "ButtonStyleModel",
      "state": {}
     },
     "4e8ac550ef4145de9a8b870a0587324e": {
      "model_module": "@jupyter-widgets/controls",
      "model_module_version": "1.5.0",
      "model_name": "SliderStyleModel",
      "state": {
       "description_width": ""
      }
     },
     "4f76f01e6c1440c9a3e2b86a1ab5944d": {
      "model_module": "@jupyter-widgets/controls",
      "model_module_version": "1.5.0",
      "model_name": "HTMLModel",
      "state": {
       "layout": "IPY_MODEL_b550961f4ae14aa7a8282023957d5587",
       "style": "IPY_MODEL_7c77a4d26a6b40ca9745eaef77d8ddca",
       "value": "<p>its a foo cake</p>"
      }
     },
     "4f80601cdb804d0ba4786169d2a2106f": {
      "model_module": "@jupyter-widgets/controls",
      "model_module_version": "1.5.0",
      "model_name": "DescriptionStyleModel",
      "state": {
       "description_width": ""
      }
     },
     "4fc903efccf441d1a4596edf4aea982b": {
      "model_module": "@jupyter-widgets/controls",
      "model_module_version": "1.5.0",
      "model_name": "HTMLModel",
      "state": {
       "layout": "IPY_MODEL_94c5a8efb0704b8da92e90a01a19a82f",
       "style": "IPY_MODEL_f3826ccd32eb48d281cb425d171e4aa9",
       "value": "<p>reous foo ous foo st</p>"
      }
     },
     "5050e04afbe84473948e647449b9b26e": {
      "model_module": "@jupyter-widgets/base",
      "model_module_version": "1.2.0",
      "model_name": "LayoutModel",
      "state": {}
     },
     "505ebaaefb2f4320a398c7a058d5c990": {
      "model_module": "@jupyter-widgets/controls",
      "model_module_version": "1.5.0",
      "model_name": "FloatSliderModel",
      "state": {
       "layout": "IPY_MODEL_c4c52e4394854136bb4e4b880d8e733d",
       "max": 10,
       "style": "IPY_MODEL_e316ab1d2554481a96cb55d366bdd851",
       "value": 1
      }
     },
     "5107c1b076e740d48264d04a03e52106": {
      "model_module": "@jupyter-widgets/controls",
      "model_module_version": "1.5.0",
      "model_name": "DescriptionStyleModel",
      "state": {
       "description_width": ""
      }
     },
     "518b0ec5aefc4adb9e4524d71e4444b9": {
      "model_module": "@jupyter-widgets/controls",
      "model_module_version": "1.5.0",
      "model_name": "HBoxModel",
      "state": {
       "children": [
        "IPY_MODEL_1867cd7d1c4247a78b08d2b17721894d"
       ],
       "layout": "IPY_MODEL_83e70bb96f284434b8134e45391233b8"
      }
     },
     "5223f53c2a5c4403b20e58058850a898": {
      "model_module": "@jupyter-widgets/base",
      "model_module_version": "1.2.0",
      "model_name": "LayoutModel",
      "state": {
       "align_items": "stretch",
       "display": "flex",
       "flex_flow": "row",
       "grid_auto_columns": "True",
       "justify_content": "flex-end",
       "width": "90%"
      }
     },
     "5251400f8dbb4b6c8af0de586c56a98e": {
      "model_module": "@jupyter-widgets/output",
      "model_module_version": "1.0.0",
      "model_name": "OutputModel",
      "state": {
       "layout": "IPY_MODEL_466db9cfb719485abcbed32061e0e68a"
      }
     },
     "52c3328be7cf43b8953456d6c38be5fb": {
      "model_module": "@jupyter-widgets/controls",
      "model_module_version": "1.5.0",
      "model_name": "ButtonModel",
      "state": {
       "description": "save",
       "layout": "IPY_MODEL_f32ac72eb9df4255aea6dcd55af7c666",
       "style": "IPY_MODEL_2999f94a264a4773b92a3a33465b8f16"
      }
     },
     "5400cc1e1b0d4b0a84c9405903e962c1": {
      "model_module": "@jupyter-widgets/controls",
      "model_module_version": "1.5.0",
      "model_name": "CheckboxModel",
      "state": {
       "disabled": false,
       "layout": "IPY_MODEL_f584ade7ed2f4e13a09ad293a7c58f74",
       "style": "IPY_MODEL_1f259e70e7d4471dbac575ed426fa16b",
       "value": true
      }
     },
     "54183543742247c2a8899d682dccbeb0": {
      "model_module": "@jupyter-widgets/controls",
      "model_module_version": "1.5.0",
      "model_name": "DescriptionStyleModel",
      "state": {
       "description_width": ""
      }
     },
     "549cbea6fc664e99acbdded2b86fb190": {
      "model_module": "@jupyter-widgets/base",
      "model_module_version": "1.2.0",
      "model_name": "LayoutModel",
      "state": {}
     },
     "54b4ecf8c5ac43a2979b3cd54114480e": {
      "model_module": "@jupyter-widgets/base",
      "model_module_version": "1.2.0",
      "model_name": "LayoutModel",
      "state": {
       "width": "5%"
      }
     },
     "55bf3af305b0478a8cd5ed72dc972f01": {
      "model_module": "@jupyter-widgets/controls",
      "model_module_version": "1.5.0",
      "model_name": "DescriptionStyleModel",
      "state": {
       "description_width": ""
      }
     },
     "55daf2ddc5fc4a47bc997e0c7dd60ce6": {
      "model_module": "@jupyter-widgets/controls",
      "model_module_version": "1.5.0",
      "model_name": "HBoxModel",
      "state": {
       "children": [
        "IPY_MODEL_f6ee1bdcd1a247608f3a4cd95c81f0d1",
        "IPY_MODEL_b8a58c4e25924c93bf67cd30bbeba459"
       ],
       "layout": "IPY_MODEL_93f130d809a74f9195e166844ee798b3"
      }
     },
     "55e55a3b6054406d90db56166c056b0c": {
      "model_module": "@jupyter-widgets/controls",
      "model_module_version": "1.5.0",
      "model_name": "DescriptionStyleModel",
      "state": {
       "description_width": ""
      }
     },
     "560d5275707d4d8bae3d02d813f03c09": {
      "model_module": "@jupyter-widgets/base",
      "model_module_version": "1.2.0",
      "model_name": "LayoutModel",
      "state": {}
     },
     "5632ba527994484cbca230f77e57e2bc": {
      "model_module": "@jupyter-widgets/controls",
      "model_module_version": "1.5.0",
      "model_name": "DescriptionStyleModel",
      "state": {
       "description_width": ""
      }
     },
     "56574f777f3848c2a91c691aaf08754a": {
      "model_module": "@jupyter-widgets/controls",
      "model_module_version": "1.5.0",
      "model_name": "HTMLModel",
      "state": {
       "layout": "IPY_MODEL_e9d6f78f918d48bdbe7af03d6e4e7b85",
       "style": "IPY_MODEL_fd317670896741438dad2ad5a434b927",
       "value": "<p>label</p>"
      }
     },
     "56850698bbea470297d5e0e4264207c3": {
      "model_module": "@jupyter-widgets/base",
      "model_module_version": "1.2.0",
      "model_name": "LayoutModel",
      "state": {
       "align_items": "stretch",
       "display": "flex",
       "flex_flow": "row",
       "grid_auto_columns": "True",
       "justify_content": "flex-start",
       "width": "80%"
      }
     },
     "57623c2f59114d74b50e459c85197e43": {
      "model_module": "@jupyter-widgets/controls",
      "model_module_version": "1.5.0",
      "model_name": "HBoxModel",
      "state": {
       "children": [
        "IPY_MODEL_5b0230c3ca444ad7aaa3d134bcddb8a6",
        "IPY_MODEL_ca607ca9095640a7acfd8329bf4e9880"
       ],
       "layout": "IPY_MODEL_14eab806b074463aaa1e82bad96d8371"
      }
     },
     "57b18d0bb2fc47a0aa08eaa6112ea9f6": {
      "model_module": "@jupyter-widgets/controls",
      "model_module_version": "1.5.0",
      "model_name": "ButtonStyleModel",
      "state": {}
     },
     "580ce0392d634b489d2bea248ed2d905": {
      "model_module": "@jupyter-widgets/base",
      "model_module_version": "1.2.0",
      "model_name": "LayoutModel",
      "state": {
       "align_items": "stretch",
       "border": "dashed 0.2px green",
       "display": "flex",
       "flex_flow": "row",
       "grid_auto_columns": "True",
       "justify_content": "flex-start",
       "width": "100%"
      }
     },
     "5869b5bb713745feb005fbd2059d3258": {
      "model_module": "ipysheet",
      "model_module_version": "~0.4.4",
      "model_name": "CellRangeModel",
      "state": {
       "_view_module": null,
       "_view_module_version": "",
       "choice": [],
       "numeric_format": null,
       "row_end": 3,
       "row_start": 0,
       "squeeze_row": false,
       "type": "text",
       "value": [
        "<class 'float'>",
        "<class 'NoneType'>",
        "<class 'float'>",
        "<class 'float'>"
       ]
      }
     },
     "59ac9bd24c1d4480868fc9b3cc09474a": {
      "model_module": "@jupyter-widgets/base",
      "model_module_version": "1.2.0",
      "model_name": "LayoutModel",
      "state": {
       "align_items": "stretch",
       "display": "flex",
       "flex_flow": "row",
       "grid_auto_columns": "True",
       "justify_content": "flex-start",
       "width": "80%"
      }
     },
     "5a151f04e239493a8523f871b0a4c395": {
      "model_module": "@jupyter-widgets/controls",
      "model_module_version": "1.5.0",
      "model_name": "HBoxModel",
      "state": {
       "children": [
        "IPY_MODEL_3e4758668e294c7aa0712fca5c2785d0",
        "IPY_MODEL_325dd0b5e9af451abae0a5ae6d95711f"
       ],
       "layout": "IPY_MODEL_56850698bbea470297d5e0e4264207c3"
      }
     },
     "5a394436081847bb8f612e1da31cc976": {
      "model_module": "@jupyter-widgets/base",
      "model_module_version": "1.2.0",
      "model_name": "LayoutModel",
      "state": {
       "align_items": "stretch",
       "display": "flex",
       "flex_flow": "row",
       "grid_auto_columns": "True",
       "justify_content": "flex-end",
       "width": "90%"
      }
     },
     "5a588355d1b94f96b74821247f7e3be9": {
      "model_module": "@jupyter-widgets/controls",
      "model_module_version": "1.5.0",
      "model_name": "DescriptionStyleModel",
      "state": {
       "description_width": ""
      }
     },
     "5b0230c3ca444ad7aaa3d134bcddb8a6": {
      "model_module": "@jupyter-widgets/controls",
      "model_module_version": "1.5.0",
      "model_name": "SelectMultipleModel",
      "state": {
       "_options_labels": [
        "asfd",
        "10",
        "asdf"
       ],
       "index": [
        1
       ],
       "layout": "IPY_MODEL_77f8027086fd490ab9101f881054f69d",
       "rows": 5,
       "style": "IPY_MODEL_5107c1b076e740d48264d04a03e52106"
      }
     },
     "5b867f4959594dcf998be4cf0cafc8dc": {
      "model_module": "@jupyter-widgets/controls",
      "model_module_version": "1.5.0",
      "model_name": "SliderStyleModel",
      "state": {
       "description_width": ""
      }
     },
     "5bc090d726204b7fa1718e98b5a87b78": {
      "model_module": "@jupyter-widgets/controls",
      "model_module_version": "1.5.0",
      "model_name": "SelectMultipleModel",
      "state": {
       "_options_labels": [
        "asfd",
        "10",
        "asdf"
       ],
       "index": [
        1
       ],
       "layout": "IPY_MODEL_a535e6d09b934d72a9b03c394af8144c",
       "rows": 5,
       "style": "IPY_MODEL_c3f5ca77595a473eac1b9be3901b965a"
      }
     },
     "5bcde4b677fd4089a0b2e297464c0707": {
      "model_module": "@jupyter-widgets/controls",
      "model_module_version": "1.5.0",
      "model_name": "DescriptionStyleModel",
      "state": {
       "description_width": ""
      }
     },
     "5be8a94e07244381867cb09b6bb682eb": {
      "model_module": "@jupyter-widgets/controls",
      "model_module_version": "1.5.0",
      "model_name": "DescriptionStyleModel",
      "state": {
       "description_width": ""
      }
     },
     "5c64b2a974a24115b5d29c93f80b2f4b": {
      "model_module": "@jupyter-widgets/base",
      "model_module_version": "1.2.0",
      "model_name": "LayoutModel",
      "state": {}
     },
     "5c9adcf7f18c48149cd6b7823178f3d1": {
      "model_module": "@jupyter-widgets/base",
      "model_module_version": "1.2.0",
      "model_name": "LayoutModel",
      "state": {}
     },
     "5ce3416b6cb84d6f86900ce4ddcfe29d": {
      "model_module": "@jupyter-widgets/base",
      "model_module_version": "1.2.0",
      "model_name": "LayoutModel",
      "state": {
       "align_items": "stretch",
       "display": "flex",
       "flex_flow": "row",
       "grid_auto_columns": "True",
       "justify_content": "flex-end",
       "width": "90%"
      }
     },
     "5d45bef772da4127a80beb79cb2df11d": {
      "model_module": "@jupyter-widgets/controls",
      "model_module_version": "1.5.0",
      "model_name": "DescriptionStyleModel",
      "state": {
       "description_width": ""
      }
     },
     "5d51205903a6460484c9bcfbd045dfa2": {
      "model_module": "@jupyter-widgets/base",
      "model_module_version": "1.2.0",
      "model_name": "LayoutModel",
      "state": {}
     },
     "5dbbf57d0fc24955a2a4a0a638d8863f": {
      "model_module": "@jupyter-widgets/controls",
      "model_module_version": "1.5.0",
      "model_name": "HBoxModel",
      "state": {
       "children": [
        "IPY_MODEL_a54beb729bf44738b57e63dc41249501",
        "IPY_MODEL_c9a2c83afa094345ad974463baced5d8"
       ],
       "layout": "IPY_MODEL_4dba788d88d3420598f0f8af72c6b466"
      }
     },
     "5dfd106d2381457a8eb7e42ac5b96ea0": {
      "model_module": "@jupyter-widgets/controls",
      "model_module_version": "1.5.0",
      "model_name": "DescriptionStyleModel",
      "state": {
       "description_width": ""
      }
     },
     "5e260ce4fac64169bf269662c6d84e8c": {
      "model_module": "@jupyter-widgets/base",
      "model_module_version": "1.2.0",
      "model_name": "LayoutModel",
      "state": {}
     },
     "5e3fbf5e67324d08a3624500cfb1c630": {
      "model_module": "@jupyter-widgets/controls",
      "model_module_version": "1.5.0",
      "model_name": "DescriptionStyleModel",
      "state": {
       "description_width": ""
      }
     },
     "5efee9d3bed943649a7fd59d3167c0ca": {
      "model_module": "@jupyter-widgets/base",
      "model_module_version": "1.2.0",
      "model_name": "LayoutModel",
      "state": {
       "align_items": "stretch",
       "border": "dashed 0.2px green",
       "display": "flex",
       "flex_flow": "row",
       "grid_auto_columns": "True",
       "justify_content": "flex-start",
       "width": "100%"
      }
     },
     "5f4edde2588e44f6a181f4cbd7cd1365": {
      "model_module": "@jupyter-widgets/base",
      "model_module_version": "1.2.0",
      "model_name": "LayoutModel",
      "state": {}
     },
     "5f62dda5363f4130943448526e6b8142": {
      "model_module": "@jupyter-widgets/base",
      "model_module_version": "1.2.0",
      "model_name": "LayoutModel",
      "state": {}
     },
     "5fb497af32294bc2bd3a57752211f25c": {
      "model_module": "@jupyter-widgets/base",
      "model_module_version": "1.2.0",
      "model_name": "LayoutModel",
      "state": {}
     },
     "60e95b7c648d40d089f850f10a15f2b0": {
      "model_module": "@jupyter-widgets/controls",
      "model_module_version": "1.5.0",
      "model_name": "HBoxModel",
      "state": {
       "children": [
        "IPY_MODEL_78fa15fbbc6c46b6bb071cbcd22c031c",
        "IPY_MODEL_a1e67c43fce34fa8970b7b6feb66533f"
       ],
       "layout": "IPY_MODEL_76660a88326645d8aa07ec8f10eb0965"
      }
     },
     "61cd2e217dee4da7a8727018fda4f375": {
      "model_module": "@jupyter-widgets/base",
      "model_module_version": "1.2.0",
      "model_name": "LayoutModel",
      "state": {
       "align_items": "stretch",
       "border": "dashed 0.2px green",
       "display": "flex",
       "flex_flow": "row",
       "grid_auto_columns": "True",
       "justify_content": "flex-start",
       "width": "100%"
      }
     },
     "62acd9c599044762af52418c80430f3d": {
      "model_module": "@jupyter-widgets/controls",
      "model_module_version": "1.5.0",
      "model_name": "HTMLModel",
      "state": {
       "layout": "IPY_MODEL_7c5ad94d6090456f84b0e27ab51183d6",
       "style": "IPY_MODEL_bd883062d2864e6a95b1a248300d27fa",
       "value": "<p>its a delicious foo cake</p>"
      }
     },
     "635338d2a8db4128bf18c33c7b60d390": {
      "model_module": "@jupyter-widgets/controls",
      "model_module_version": "1.5.0",
      "model_name": "HBoxModel",
      "state": {
       "children": [
        "IPY_MODEL_eb0141565fa2434bb3cdaa003113ab14"
       ],
       "layout": "IPY_MODEL_2db64eb4be1840f396fab59a2f90b309"
      }
     },
     "63e4980548794325b4d38938ad219681": {
      "model_module": "@jupyter-widgets/base",
      "model_module_version": "1.2.0",
      "model_name": "LayoutModel",
      "state": {}
     },
     "644823c8bc60472783d0cd68e6afc257": {
      "model_module": "@jupyter-widgets/controls",
      "model_module_version": "1.5.0",
      "model_name": "HBoxModel",
      "state": {
       "children": [
        "IPY_MODEL_f36d94b2cba64ef9bea03ebb7ba9e1ac",
        "IPY_MODEL_f9eeee715ec34438acee02b8e4320824"
       ],
       "layout": "IPY_MODEL_be7ab7083fb44da0a834a09811c79629"
      }
     },
     "6449709749404abf8f2fc7b8e9b89235": {
      "model_module": "@jupyter-widgets/output",
      "model_module_version": "1.0.0",
      "model_name": "OutputModel",
      "state": {
       "layout": "IPY_MODEL_44b2478883c1494e9b3f3b72e8992629"
      }
     },
     "648c750fc34c46c8a2250f482234aec5": {
      "model_module": "@jupyter-widgets/controls",
      "model_module_version": "1.5.0",
      "model_name": "DescriptionStyleModel",
      "state": {
       "description_width": ""
      }
     },
     "652c0fbd8acf47fe8c5967a81dfd438d": {
      "model_module": "@jupyter-widgets/controls",
      "model_module_version": "1.5.0",
      "model_name": "DescriptionStyleModel",
      "state": {
       "description_width": ""
      }
     },
     "6545c000fa354ebfab4bf3e43a1827dc": {
      "model_module": "@jupyter-widgets/controls",
      "model_module_version": "1.5.0",
      "model_name": "DescriptionStyleModel",
      "state": {
       "description_width": ""
      }
     },
     "659a8bc42bbc4cf1962bf48b05d671d5": {
      "model_module": "@jupyter-widgets/controls",
      "model_module_version": "1.5.0",
      "model_name": "HBoxModel",
      "state": {
       "children": [
        "IPY_MODEL_a82525d05aaa413eb6c817466c7fd73b",
        "IPY_MODEL_86dbbbb7f6e94c1aa697bf04f5e7faf6"
       ],
       "layout": "IPY_MODEL_85d4b9ba473545a395648d1925379a52"
      }
     },
     "66153c8c20bf48a2b1b02045ff3adbcb": {
      "model_module": "@jupyter-widgets/output",
      "model_module_version": "1.0.0",
      "model_name": "OutputModel",
      "state": {
       "layout": "IPY_MODEL_f1a05a6f8ef74e0f9ee03141367e2082"
      }
     },
     "662c537ff0bd4217b42e7ac74fb5c925": {
      "model_module": "@jupyter-widgets/base",
      "model_module_version": "1.2.0",
      "model_name": "LayoutModel",
      "state": {}
     },
     "6632614915214685a6cd9fd9590c2182": {
      "model_module": "@jupyter-widgets/controls",
      "model_module_version": "1.5.0",
      "model_name": "HBoxModel",
      "state": {
       "children": [
        "IPY_MODEL_178908d7c0a54732a559157115943b64",
        "IPY_MODEL_e6a9de43d594420fb9d08c6f59167cff"
       ],
       "layout": "IPY_MODEL_72cdeff858294295a77d2139706d5722"
      }
     },
     "66ca9b9560d04777bfe61c8a72d9bd25": {
      "model_module": "@jupyter-widgets/base",
      "model_module_version": "1.2.0",
      "model_name": "LayoutModel",
      "state": {}
     },
     "6772a5f7178747e2a9fa346755b29e14": {
      "model_module": "@jupyter-widgets/base",
      "model_module_version": "1.2.0",
      "model_name": "LayoutModel",
      "state": {
       "align_items": "stretch",
       "display": "flex",
       "flex_flow": "row",
       "grid_auto_columns": "True",
       "justify_content": "flex-start",
       "width": "80%"
      }
     },
     "6773ab204b99408382bb499bc87af014": {
      "model_module": "@jupyter-widgets/base",
      "model_module_version": "1.2.0",
      "model_name": "LayoutModel",
      "state": {}
     },
     "67b679393f7b4dbe968a847819327003": {
      "model_module": "@jupyter-widgets/controls",
      "model_module_version": "1.5.0",
      "model_name": "DescriptionStyleModel",
      "state": {
       "description_width": ""
      }
     },
     "681e0457ec604e51a61b63a8f01f49ad": {
      "model_module": "@jupyter-widgets/controls",
      "model_module_version": "1.5.0",
      "model_name": "HBoxModel",
      "state": {
       "children": [
        "IPY_MODEL_e8e2a8833fc64b0f80e6580ac3df2513",
        "IPY_MODEL_4b811ae24409403799972f540dc56bc0"
       ],
       "layout": "IPY_MODEL_33e2eb9b2ff844d284cc03cc3b2b39d3"
      }
     },
     "689ac43ae45c4354a10529e450bbd969": {
      "model_module": "@jupyter-widgets/output",
      "model_module_version": "1.0.0",
      "model_name": "OutputModel",
      "state": {
       "layout": "IPY_MODEL_e51bfb804e7e4abc8916384da41a2df6"
      }
     },
     "698c8eb461cd469291a5a0540b4417f9": {
      "model_module": "@jupyter-widgets/controls",
      "model_module_version": "1.5.0",
      "model_name": "HBoxModel",
      "state": {
       "children": [
        "IPY_MODEL_d8a47ecf49db4535bb4ad77687e9a018",
        "IPY_MODEL_ef94c93041c3428aae325001343086d2"
       ],
       "layout": "IPY_MODEL_59ac9bd24c1d4480868fc9b3cc09474a"
      }
     },
     "69bb782957a74ba29ece8709af6283e3": {
      "model_module": "@jupyter-widgets/base",
      "model_module_version": "1.2.0",
      "model_name": "LayoutModel",
      "state": {}
     },
     "6a959b526ca746f28d54f000cd87c84b": {
      "model_module": "@jupyter-widgets/controls",
      "model_module_version": "1.5.0",
      "model_name": "SelectMultipleModel",
      "state": {
       "_options_labels": [
        "asfd",
        "10",
        "asdf"
       ],
       "index": [
        1
       ],
       "layout": "IPY_MODEL_20b1d3e3f2c349109f5e11e2dbf5d0f0",
       "rows": 5,
       "style": "IPY_MODEL_45b350011cce4d50bf412392c934e749"
      }
     },
     "6ab17b8a0ff846199639518530b33b19": {
      "model_module": "@jupyter-widgets/base",
      "model_module_version": "1.2.0",
      "model_name": "LayoutModel",
      "state": {}
     },
     "6aded1c799c041249463a4dfd1de4854": {
      "model_module": "@jupyter-widgets/controls",
      "model_module_version": "1.5.0",
      "model_name": "HBoxModel",
      "state": {
       "children": [
        "IPY_MODEL_fac29843f017407a9bc6b88edc308fae",
        "IPY_MODEL_c8b722826b2d492e8d0535116f5f125e"
       ],
       "layout": "IPY_MODEL_7fea8ab2892a42b3978a08882c214cc0"
      }
     },
     "6af03809fcbc4842895757b03027d0cf": {
      "model_module": "@jupyter-widgets/base",
      "model_module_version": "1.2.0",
      "model_name": "LayoutModel",
      "state": {
       "align_items": "stretch",
       "display": "flex",
       "flex_flow": "row",
       "grid_auto_columns": "True",
       "justify_content": "flex-end",
       "width": "90%"
      }
     },
     "6ba6332b73e64b1b84159c7a926814d3": {
      "model_module": "@jupyter-widgets/base",
      "model_module_version": "1.2.0",
      "model_name": "LayoutModel",
      "state": {}
     },
     "6ba8801d5a4d4356a5c002d2f3c6b507": {
      "model_module": "@jupyter-widgets/controls",
      "model_module_version": "1.5.0",
      "model_name": "DropdownModel",
      "state": {
       "_options_labels": [
        "asfd",
        "10",
        "asdf"
       ],
       "index": 1,
       "layout": "IPY_MODEL_805328c4d3654bcc96d398fa84ac1ef1",
       "style": "IPY_MODEL_55bf3af305b0478a8cd5ed72dc972f01"
      }
     },
     "6bf8eb7c76904bcfad79e29f481da12f": {
      "model_module": "@jupyter-widgets/controls",
      "model_module_version": "1.5.0",
      "model_name": "SelectMultipleModel",
      "state": {
       "_options_labels": [
        "asfd",
        "10",
        "asdf"
       ],
       "index": [
        1
       ],
       "layout": "IPY_MODEL_05b52f6743e643b59032a102d0fd5f20",
       "rows": 5,
       "style": "IPY_MODEL_c0e3cba54a02462d81ca42acfd28390a"
      }
     },
     "6c596ff82db248a2a47467b863f55f11": {
      "model_module": "@jupyter-widgets/base",
      "model_module_version": "1.2.0",
      "model_name": "LayoutModel",
      "state": {}
     },
     "6d03c91931244805bbbae9c51f0f70a3": {
      "model_module": "@jupyter-widgets/controls",
      "model_module_version": "1.5.0",
      "model_name": "SliderStyleModel",
      "state": {
       "description_width": ""
      }
     },
     "6d158ec8d8324975883cf45ea42ae7a4": {
      "model_module": "@jupyter-widgets/base",
      "model_module_version": "1.2.0",
      "model_name": "LayoutModel",
      "state": {
       "align_items": "stretch",
       "border": "dashed 0.2px green",
       "display": "flex",
       "flex_flow": "row",
       "grid_auto_columns": "True",
       "justify_content": "flex-start",
       "width": "100%"
      }
     },
     "6df714a54ba84d6caa7b52ce8978a165": {
      "model_module": "@jupyter-widgets/base",
      "model_module_version": "1.2.0",
      "model_name": "LayoutModel",
      "state": {}
     },
     "6e08666fe2a24bc7ba6e8f087199805f": {
      "model_module": "@jupyter-widgets/base",
      "model_module_version": "1.2.0",
      "model_name": "LayoutModel",
      "state": {
       "align_items": "stretch",
       "display": "flex",
       "flex_flow": "row",
       "grid_auto_columns": "True",
       "justify_content": "flex-start",
       "width": "80%"
      }
     },
     "6e164498d1d046b4a60b9c9da1514cc4": {
      "model_module": "@jupyter-widgets/base",
      "model_module_version": "1.2.0",
      "model_name": "LayoutModel",
      "state": {}
     },
     "6e22ca56706940a1954b733b15d4cabe": {
      "model_module": "@jupyter-widgets/base",
      "model_module_version": "1.2.0",
      "model_name": "LayoutModel",
      "state": {
       "align_items": "stretch",
       "display": "flex",
       "flex_flow": "row",
       "grid_auto_columns": "True",
       "justify_content": "flex-start",
       "width": "80%"
      }
     },
     "6e62452092d8402d9666b7d2925293ae": {
      "model_module": "@jupyter-widgets/base",
      "model_module_version": "1.2.0",
      "model_name": "LayoutModel",
      "state": {
       "align_items": "stretch",
       "display": "flex",
       "flex_flow": "row",
       "grid_auto_columns": "True",
       "justify_content": "flex-start",
       "width": "80%"
      }
     },
     "6e977ea9d5104be3a5567dae5eaf3487": {
      "model_module": "ipysheet",
      "model_module_version": "~0.4.4",
      "model_name": "SheetModel",
      "state": {
       "cells": [
        "IPY_MODEL_75b9400976184b13a99214e420613f82",
        "IPY_MODEL_5869b5bb713745feb005fbd2059d3258",
        "IPY_MODEL_3c3da6b15c2c4ad6ab5afe1bc2381cc5",
        "IPY_MODEL_b3774e884d6a45028a4fcd23c890e7a3",
        "IPY_MODEL_a4428256e40b49b8898f8265b598d860",
        "IPY_MODEL_b81cac9cc88d42c6a22cf02c6d8bb519",
        "IPY_MODEL_2b63891e4f064815a7327be816502f95"
       ],
       "column_headers": [
        "FloatText",
        "FloatSlider",
        "Dropdown",
        "SelectMultiple",
        "Checkbox",
        "Text",
        "_recursive_guess"
       ],
       "columns": 7,
       "layout": "IPY_MODEL_903dac0800eb401580f899549d2bbe59",
       "row_headers": [
        "value_type",
        "options_type",
        "min_type",
        "max_type"
       ],
       "rows": 4
      }
     },
     "6eeb85deb7d04b0491a47fc54582623e": {
      "model_module": "@jupyter-widgets/base",
      "model_module_version": "1.2.0",
      "model_name": "LayoutModel",
      "state": {}
     },
     "6f2d35a37b52441e9e63ce9badf92193": {
      "model_module": "@jupyter-widgets/base",
      "model_module_version": "1.2.0",
      "model_name": "LayoutModel",
      "state": {
       "align_items": "stretch",
       "display": "flex",
       "flex_flow": "row",
       "grid_auto_columns": "True",
       "justify_content": "flex-end",
       "width": "90%"
      }
     },
     "6fd114595f9e46708c8fa1ad7545a5bc": {
      "model_module": "@jupyter-widgets/base",
      "model_module_version": "1.2.0",
      "model_name": "LayoutModel",
      "state": {
       "align_items": "stretch",
       "display": "flex",
       "flex_flow": "row",
       "grid_auto_columns": "True",
       "justify_content": "flex-end",
       "width": "90%"
      }
     },
     "700cd92570434ba98e3a74b127db59c7": {
      "model_module": "@jupyter-widgets/controls",
      "model_module_version": "1.5.0",
      "model_name": "DescriptionStyleModel",
      "state": {
       "description_width": ""
      }
     },
     "7011c4f2f4bb434e9eb4af14539c8f41": {
      "model_module": "@jupyter-widgets/controls",
      "model_module_version": "1.5.0",
      "model_name": "DescriptionStyleModel",
      "state": {
       "description_width": ""
      }
     },
     "70376d4453844f47a8bf6890a63c7405": {
      "model_module": "@jupyter-widgets/controls",
      "model_module_version": "1.5.0",
      "model_name": "DescriptionStyleModel",
      "state": {
       "description_width": ""
      }
     },
     "70b7938126c94511b2227ffce45b8881": {
      "model_module": "@jupyter-widgets/controls",
      "model_module_version": "1.5.0",
      "model_name": "DescriptionStyleModel",
      "state": {
       "description_width": ""
      }
     },
     "71095fe2215f420592b9d98860b17523": {
      "model_module": "@jupyter-widgets/controls",
      "model_module_version": "1.5.0",
      "model_name": "HBoxModel",
      "state": {
       "children": [
        "IPY_MODEL_5bc090d726204b7fa1718e98b5a87b78",
        "IPY_MODEL_9a6c4572f9ab4f5490307e6d71cf09ab"
       ],
       "layout": "IPY_MODEL_0e3b2f77479e465186b6caf37572739f"
      }
     },
     "7149907f123f4c718148410030771ac9": {
      "model_module": "@jupyter-widgets/controls",
      "model_module_version": "1.5.0",
      "model_name": "HBoxModel",
      "state": {
       "children": [
        "IPY_MODEL_236fb6bff1534205a8f570d873071951"
       ],
       "layout": "IPY_MODEL_ec1adcf041124386be5c6652dc3e591a"
      }
     },
     "715d2c2cf3ac412da8331bd67244c867": {
      "model_module": "@jupyter-widgets/base",
      "model_module_version": "1.2.0",
      "model_name": "LayoutModel",
      "state": {
       "align_items": "stretch",
       "display": "flex",
       "flex_flow": "row",
       "grid_auto_columns": "True",
       "justify_content": "flex-end",
       "width": "90%"
      }
     },
     "71ba915c6c4b4fdf90b5783e0784872e": {
      "model_module": "@jupyter-widgets/output",
      "model_module_version": "1.0.0",
      "model_name": "OutputModel",
      "state": {
       "layout": "IPY_MODEL_027ca0d929d34787a049eb35e2485596"
      }
     },
     "71d82a64b5d14478aebf236c564b93f6": {
      "model_module": "@jupyter-widgets/base",
      "model_module_version": "1.2.0",
      "model_name": "LayoutModel",
      "state": {}
     },
     "724e50bda7a64fc5849fde5bc313735a": {
      "model_module": "@jupyter-widgets/base",
      "model_module_version": "1.2.0",
      "model_name": "LayoutModel",
      "state": {}
     },
     "7253690fad1949c78a4baf5f732d75f4": {
      "model_module": "@jupyter-widgets/controls",
      "model_module_version": "1.5.0",
      "model_name": "DescriptionStyleModel",
      "state": {
       "description_width": ""
      }
     },
     "728c5451ad1644eaba5c5153f5e849ed": {
      "model_module": "@jupyter-widgets/controls",
      "model_module_version": "1.5.0",
      "model_name": "DescriptionStyleModel",
      "state": {
       "description_width": ""
      }
     },
     "72c8007c6e474771bd38dc5c09729a84": {
      "model_module": "@jupyter-widgets/base",
      "model_module_version": "1.2.0",
      "model_name": "LayoutModel",
      "state": {
       "align_items": "stretch",
       "display": "flex",
       "flex_flow": "row",
       "grid_auto_columns": "True",
       "justify_content": "flex-start",
       "width": "80%"
      }
     },
     "72cdeff858294295a77d2139706d5722": {
      "model_module": "@jupyter-widgets/base",
      "model_module_version": "1.2.0",
      "model_name": "LayoutModel",
      "state": {
       "align_items": "stretch",
       "display": "flex",
       "flex_flow": "row",
       "grid_auto_columns": "True",
       "justify_content": "flex-end",
       "width": "90%"
      }
     },
     "72d795c3e50b4278997f821773466d42": {
      "model_module": "@jupyter-widgets/base",
      "model_module_version": "1.2.0",
      "model_name": "LayoutModel",
      "state": {
       "align_items": "stretch",
       "display": "flex",
       "flex_flow": "row",
       "grid_auto_columns": "True",
       "justify_content": "flex-start",
       "width": "80%"
      }
     },
     "72fa361f38474bb4aecb9f8643ef5a3a": {
      "model_module": "@jupyter-widgets/output",
      "model_module_version": "1.0.0",
      "model_name": "OutputModel",
      "state": {
       "layout": "IPY_MODEL_4673b31d63014d9db3530c2af1667588"
      }
     },
     "7338448a85b34c06a9275acd159927b2": {
      "model_module": "@jupyter-widgets/controls",
      "model_module_version": "1.5.0",
      "model_name": "HBoxModel",
      "state": {
       "children": [
        "IPY_MODEL_e71afdd0e8a64ddb94a104b8971fce5f",
        "IPY_MODEL_6aded1c799c041249463a4dfd1de4854"
       ],
       "layout": "IPY_MODEL_5a394436081847bb8f612e1da31cc976"
      }
     },
     "73645904d4b946ae9428982bc96157df": {
      "model_module": "@jupyter-widgets/base",
      "model_module_version": "1.2.0",
      "model_name": "LayoutModel",
      "state": {}
     },
     "75187371048641299e944094bf652fd1": {
      "model_module": "@jupyter-widgets/controls",
      "model_module_version": "1.5.0",
      "model_name": "DescriptionStyleModel",
      "state": {
       "description_width": ""
      }
     },
     "754ffcaf262942e6b2928c98e7ae5056": {
      "model_module": "@jupyter-widgets/output",
      "model_module_version": "1.0.0",
      "model_name": "OutputModel",
      "state": {
       "layout": "IPY_MODEL_a42f99f6424546508fe18572f091877d"
      }
     },
     "755a2185e6e344f3ae5434099725b186": {
      "model_module": "@jupyter-widgets/controls",
      "model_module_version": "1.5.0",
      "model_name": "TextareaModel",
      "state": {
       "layout": "IPY_MODEL_d828868ed2ca4ac7b0c77e7c605ecddf",
       "style": "IPY_MODEL_7e9cd5f0a2ad45659d17a8210a358b2a",
       "value": "This is a very long text areas string that needs a bigger box to fit all of hte verbose nonsense"
      }
     },
     "75b9400976184b13a99214e420613f82": {
      "model_module": "ipysheet",
      "model_module_version": "~0.4.4",
      "model_name": "CellRangeModel",
      "state": {
       "_view_module": null,
       "_view_module_version": "",
       "choice": [],
       "column_end": 0,
       "column_start": 0,
       "numeric_format": null,
       "row_end": 3,
       "row_start": 0,
       "squeeze_row": false,
       "type": "text",
       "value": [
        "<class 'float'>",
        "<class 'NoneType'>",
        "<class 'NoneType'>",
        "<class 'NoneType'>"
       ]
      }
     },
     "75f4228a2b24447683ae5addd6d83220": {
      "model_module": "@jupyter-widgets/controls",
      "model_module_version": "1.5.0",
      "model_name": "HTMLModel",
      "state": {
       "layout": "IPY_MODEL_4d2159d619274e63b74b552466bba54a",
       "style": "IPY_MODEL_48f411476a5d4d8e9bff3a34354a1c43",
       "value": "<p>its a foo cake</p>"
      }
     },
     "7608d2c4f1d447519fb3b7554a315dc8": {
      "model_module": "@jupyter-widgets/controls",
      "model_module_version": "1.5.0",
      "model_name": "HBoxModel",
      "state": {
       "children": [
        "IPY_MODEL_e580cb015d844206856e862b0689eb1b",
        "IPY_MODEL_d65e772db0a943d082722e3111c93143"
       ],
       "layout": "IPY_MODEL_789632da35c049898ee6ab3d5b9281fc"
      }
     },
     "76149185d71449a0987d23e130d7e937": {
      "model_module": "@jupyter-widgets/controls",
      "model_module_version": "1.5.0",
      "model_name": "HBoxModel",
      "state": {
       "children": [
        "IPY_MODEL_2bd9117d69f649349b99afac347fb3ff"
       ],
       "layout": "IPY_MODEL_b03e2ab1c94243f7a5ad28ec0a0a9242"
      }
     },
     "76660a88326645d8aa07ec8f10eb0965": {
      "model_module": "@jupyter-widgets/base",
      "model_module_version": "1.2.0",
      "model_name": "LayoutModel",
      "state": {
       "align_items": "stretch",
       "display": "flex",
       "flex_flow": "row",
       "grid_auto_columns": "True",
       "justify_content": "flex-start",
       "width": "80%"
      }
     },
     "76f25e64ff1b4eed9d16bee054f86bb9": {
      "model_module": "@jupyter-widgets/base",
      "model_module_version": "1.2.0",
      "model_name": "LayoutModel",
      "state": {}
     },
     "773bf6108de34018bcd1d68734f2c251": {
      "model_module": "@jupyter-widgets/controls",
      "model_module_version": "1.5.0",
      "model_name": "HBoxModel",
      "state": {
       "children": [
        "IPY_MODEL_659a8bc42bbc4cf1962bf48b05d671d5"
       ],
       "layout": "IPY_MODEL_61cd2e217dee4da7a8727018fda4f375"
      }
     },
     "77cbec6983924713b3700148f6103344": {
      "model_module": "@jupyter-widgets/controls",
      "model_module_version": "1.5.0",
      "model_name": "HTMLModel",
      "state": {
       "layout": "IPY_MODEL_b07683616c704e85807f7cd60e41d868",
       "style": "IPY_MODEL_177815aebb8544caa764486c9485d2a2",
       "value": "<p>name</p>"
      }
     },
     "77f8027086fd490ab9101f881054f69d": {
      "model_module": "@jupyter-widgets/base",
      "model_module_version": "1.2.0",
      "model_name": "LayoutModel",
      "state": {}
     },
     "7869cf9cdb50413cb8c3b53e89812d9a": {
      "model_module": "@jupyter-widgets/controls",
      "model_module_version": "1.5.0",
      "model_name": "HTMLModel",
      "state": {
       "layout": "IPY_MODEL_6c596ff82db248a2a47467b863f55f11",
       "style": "IPY_MODEL_cf71310960a04a4b8b2b31a2633c6a31",
       "value": "<p>reus foo ous oo ous foo st</p>"
      }
     },
     "787348d1cef34cd28a0b4b42d020a915": {
      "model_module": "@jupyter-widgets/base",
      "model_module_version": "1.2.0",
      "model_name": "LayoutModel",
      "state": {
       "align_items": "stretch",
       "display": "flex",
       "flex_flow": "row",
       "grid_auto_columns": "True",
       "justify_content": "flex-end",
       "width": "90%"
      }
     },
     "78958c0abbff4225afa7f88719576579": {
      "model_module": "@jupyter-widgets/base",
      "model_module_version": "1.2.0",
      "model_name": "LayoutModel",
      "state": {
       "align_items": "stretch",
       "display": "flex",
       "flex_flow": "row",
       "grid_auto_columns": "True",
       "justify_content": "flex-start",
       "width": "80%"
      }
     },
     "789632da35c049898ee6ab3d5b9281fc": {
      "model_module": "@jupyter-widgets/base",
      "model_module_version": "1.2.0",
      "model_name": "LayoutModel",
      "state": {
       "align_items": "stretch",
       "display": "flex",
       "flex_flow": "row",
       "grid_auto_columns": "True",
       "justify_content": "flex-end",
       "width": "90%"
      }
     },
     "78fa15fbbc6c46b6bb071cbcd22c031c": {
      "model_module": "@jupyter-widgets/controls",
      "model_module_version": "1.5.0",
      "model_name": "ToggleButtonModel",
      "state": {
       "layout": "IPY_MODEL_0bcf07b039b94559ad7022f4c233b637",
       "style": "IPY_MODEL_1aa5fc4e74ec4e3b9b94f3f396a2329f"
      }
     },
     "79c2a1860bf84d5badce212e9c5dec26": {
      "model_module": "@jupyter-widgets/output",
      "model_module_version": "1.0.0",
      "model_name": "OutputModel",
      "state": {
       "layout": "IPY_MODEL_92734fe62f0a4b79a950d227ef232359"
      }
     },
     "79ccac22ea8344f5b7cb14af0860491a": {
      "model_module": "@jupyter-widgets/base",
      "model_module_version": "1.2.0",
      "model_name": "LayoutModel",
      "state": {
       "align_items": "stretch",
       "display": "flex",
       "flex_flow": "row",
       "grid_auto_columns": "True",
       "justify_content": "flex-start",
       "width": "80%"
      }
     },
     "79f627b54ad2474eb2f50a54336379cb": {
      "model_module": "@jupyter-widgets/base",
      "model_module_version": "1.2.0",
      "model_name": "LayoutModel",
      "state": {}
     },
     "7a3bd3a3c3bf4049a08a0b6484af38ea": {
      "model_module": "@jupyter-widgets/base",
      "model_module_version": "1.2.0",
      "model_name": "LayoutModel",
      "state": {}
     },
     "7a7b42e23fde42a5993ed950fe5789b4": {
      "model_module": "@jupyter-widgets/base",
      "model_module_version": "1.2.0",
      "model_name": "LayoutModel",
      "state": {}
     },
     "7ad53be8499c429089837ddb1fded65e": {
      "model_module": "@jupyter-widgets/controls",
      "model_module_version": "1.5.0",
      "model_name": "HBoxModel",
      "state": {
       "children": [
        "IPY_MODEL_35eed7fd7e8149eab63c3665cf6a82ed",
        "IPY_MODEL_bd5e9e0490644ed299add3a52500232e"
       ],
       "layout": "IPY_MODEL_25a027c0ca8d430f8652b4c88c6369bf"
      }
     },
     "7ad933b74e5b4a1fb8220c335d773d29": {
      "model_module": "@jupyter-widgets/controls",
      "model_module_version": "1.5.0",
      "model_name": "DescriptionStyleModel",
      "state": {
       "description_width": ""
      }
     },
     "7b595964ee3c4b108fc1413780d38ac3": {
      "model_module": "@jupyter-widgets/controls",
      "model_module_version": "1.5.0",
      "model_name": "HBoxModel",
      "state": {
       "children": [
        "IPY_MODEL_d71e41c2c1584d2793d29142d8f48c8c",
        "IPY_MODEL_8c6da6e6b093443ba5b1caf4f052a092"
       ],
       "layout": "IPY_MODEL_6772a5f7178747e2a9fa346755b29e14"
      }
     },
     "7b88a049dc2b4f66a5ae1e2054a8874a": {
      "model_module": "@jupyter-widgets/base",
      "model_module_version": "1.2.0",
      "model_name": "LayoutModel",
      "state": {
       "align_items": "stretch",
       "border": "dashed 0.2px green",
       "display": "flex",
       "flex_flow": "row",
       "grid_auto_columns": "True",
       "justify_content": "flex-start",
       "width": "100%"
      }
     },
     "7b945039c5c1409bb3079bcc7da266ed": {
      "model_module": "@jupyter-widgets/controls",
      "model_module_version": "1.5.0",
      "model_name": "HBoxModel",
      "state": {
       "children": [
        "IPY_MODEL_d572d732ead14c6391d4deb6bd1d39f0",
        "IPY_MODEL_016349ba7b424c409ae320629eeecccc"
       ],
       "layout": "IPY_MODEL_c32882aea3ad45989944f22df17241ee"
      }
     },
     "7c35e01cdbe24547a419c9cb76d1504d": {
      "model_module": "@jupyter-widgets/base",
      "model_module_version": "1.2.0",
      "model_name": "LayoutModel",
      "state": {}
     },
     "7c5ad94d6090456f84b0e27ab51183d6": {
      "model_module": "@jupyter-widgets/base",
      "model_module_version": "1.2.0",
      "model_name": "LayoutModel",
      "state": {}
     },
     "7c5d5e4e41f4404fbee95e7f8b20b4f6": {
      "model_module": "@jupyter-widgets/controls",
      "model_module_version": "1.5.0",
      "model_name": "DescriptionStyleModel",
      "state": {
       "description_width": ""
      }
     },
     "7c77a4d26a6b40ca9745eaef77d8ddca": {
      "model_module": "@jupyter-widgets/controls",
      "model_module_version": "1.5.0",
      "model_name": "DescriptionStyleModel",
      "state": {
       "description_width": ""
      }
     },
     "7d2264eb9ac34eed89b7bf8fbdcec8d1": {
      "model_module": "@jupyter-widgets/controls",
      "model_module_version": "1.5.0",
      "model_name": "HTMLModel",
      "state": {
       "layout": "IPY_MODEL_5f62dda5363f4130943448526e6b8142",
       "style": "IPY_MODEL_aaf902e3c3ae428a8f859cc9dddb6b46",
       "value": "<p>foo</p>"
      }
     },
     "7d5a21430e164814b021ce87581e79ed": {
      "model_module": "ipysheet",
      "model_module_version": "~0.4.4",
      "model_name": "CellRangeModel",
      "state": {
       "_view_module": null,
       "_view_module_version": "",
       "choice": [],
       "column_end": 0,
       "column_start": 0,
       "numeric_format": null,
       "row_end": 3,
       "row_start": 0,
       "squeeze_row": false,
       "type": "text",
       "value": [
        "<class 'float'>",
        "<class 'NoneType'>",
        "<class 'NoneType'>",
        "<class 'NoneType'>"
       ]
      }
     },
     "7db1ecfe786c48e5bd0e54497f1f456f": {
      "model_module": "@jupyter-widgets/controls",
      "model_module_version": "1.5.0",
      "model_name": "HBoxModel",
      "state": {
       "children": [
        "IPY_MODEL_2c12c5ebf74240c4a2640a03a1071968"
       ],
       "layout": "IPY_MODEL_a0200dc7b2d64875ad116fdc53c77543"
      }
     },
     "7e042602841a412981afaaa8b6a2f819": {
      "model_module": "@jupyter-widgets/controls",
      "model_module_version": "1.5.0",
      "model_name": "ButtonStyleModel",
      "state": {}
     },
     "7e1c43d1d76747bfa05acf884ed83bac": {
      "model_module": "@jupyter-widgets/base",
      "model_module_version": "1.2.0",
      "model_name": "LayoutModel",
      "state": {
       "align_items": "stretch",
       "display": "flex",
       "flex_flow": "row",
       "grid_auto_columns": "True",
       "justify_content": "flex-end",
       "width": "90%"
      }
     },
     "7e9cd5f0a2ad45659d17a8210a358b2a": {
      "model_module": "@jupyter-widgets/controls",
      "model_module_version": "1.5.0",
      "model_name": "DescriptionStyleModel",
      "state": {
       "description_width": ""
      }
     },
     "7f2e078f72574de192fb19aa54c499ca": {
      "model_module": "@jupyter-widgets/base",
      "model_module_version": "1.2.0",
      "model_name": "LayoutModel",
      "state": {}
     },
     "7f84fa9cbf4745509f9a028ffb6bfa53": {
      "model_module": "@jupyter-widgets/base",
      "model_module_version": "1.2.0",
      "model_name": "LayoutModel",
      "state": {
       "align_items": "stretch",
       "border": "dashed 0.2px green",
       "display": "flex",
       "flex_flow": "row",
       "grid_auto_columns": "True",
       "justify_content": "flex-start",
       "width": "100%"
      }
     },
     "7fea8ab2892a42b3978a08882c214cc0": {
      "model_module": "@jupyter-widgets/base",
      "model_module_version": "1.2.0",
      "model_name": "LayoutModel",
      "state": {
       "align_items": "stretch",
       "display": "flex",
       "flex_flow": "row",
       "grid_auto_columns": "True",
       "justify_content": "flex-start",
       "width": "80%"
      }
     },
     "805328c4d3654bcc96d398fa84ac1ef1": {
      "model_module": "@jupyter-widgets/base",
      "model_module_version": "1.2.0",
      "model_name": "LayoutModel",
      "state": {}
     },
     "80d62d4aeecd4b6f99b3e221fe74c6b7": {
      "model_module": "@jupyter-widgets/base",
      "model_module_version": "1.2.0",
      "model_name": "LayoutModel",
      "state": {}
     },
     "81574cb098bc41c582188f8971412ae1": {
      "model_module": "@jupyter-widgets/base",
      "model_module_version": "1.2.0",
      "model_name": "LayoutModel",
      "state": {}
     },
     "81b83f4de1424438962d8d2550274994": {
      "model_module": "@jupyter-widgets/output",
      "model_module_version": "1.0.0",
      "model_name": "OutputModel",
      "state": {
       "layout": "IPY_MODEL_a9173462cf454ff99630f0a8c84169df"
      }
     },
     "81d1b69a31094cf4b70d828c555c2641": {
      "model_module": "@jupyter-widgets/controls",
      "model_module_version": "1.5.0",
      "model_name": "HBoxModel",
      "state": {
       "children": [
        "IPY_MODEL_918cab8e92644f16ad633e1ccfaf43c9",
        "IPY_MODEL_9ef09a2d58ff4588ad17d395788a648b"
       ],
       "layout": "IPY_MODEL_1c24124e056f4c3da632e8a2163da9b9"
      }
     },
     "81ef371178274955847c5a6f2b4ea9de": {
      "model_module": "@jupyter-widgets/output",
      "model_module_version": "1.0.0",
      "model_name": "OutputModel",
      "state": {
       "layout": "IPY_MODEL_8bc541b1c4054e20b66ef3d1135f4ee7"
      }
     },
     "8243a2010a884d989384f27f08f189af": {
      "model_module": "@jupyter-widgets/output",
      "model_module_version": "1.0.0",
      "model_name": "OutputModel",
      "state": {
       "layout": "IPY_MODEL_1a5e809ef57544a1b759043fdeecf4a9"
      }
     },
     "82e8a5bc253a449ea6f9bd6f1ee845ad": {
      "model_module": "@jupyter-widgets/base",
      "model_module_version": "1.2.0",
      "model_name": "LayoutModel",
      "state": {}
     },
     "835931a6fa984bd583c2df56e9b49437": {
      "model_module": "@jupyter-widgets/base",
      "model_module_version": "1.2.0",
      "model_name": "LayoutModel",
      "state": {
       "align_items": "stretch",
       "display": "flex",
       "flex_flow": "row",
       "grid_auto_columns": "True",
       "justify_content": "flex-end",
       "width": "90%"
      }
     },
     "83e70bb96f284434b8134e45391233b8": {
      "model_module": "@jupyter-widgets/base",
      "model_module_version": "1.2.0",
      "model_name": "LayoutModel",
      "state": {
       "align_items": "stretch",
       "border": "dashed 0.2px green",
       "display": "flex",
       "flex_flow": "row",
       "grid_auto_columns": "True",
       "justify_content": "flex-start",
       "width": "100%"
      }
     },
     "855cf5a4b29c41a9acf10d4e0afdb3bb": {
      "model_module": "@jupyter-widgets/base",
      "model_module_version": "1.2.0",
      "model_name": "LayoutModel",
      "state": {}
     },
     "8580ac74fc0f423a91a33ba6ebd1fcb9": {
      "model_module": "@jupyter-widgets/base",
      "model_module_version": "1.2.0",
      "model_name": "LayoutModel",
      "state": {}
     },
     "85d4b9ba473545a395648d1925379a52": {
      "model_module": "@jupyter-widgets/base",
      "model_module_version": "1.2.0",
      "model_name": "LayoutModel",
      "state": {
       "align_items": "stretch",
       "display": "flex",
       "flex_flow": "row",
       "grid_auto_columns": "True",
       "justify_content": "flex-end",
       "width": "90%"
      }
     },
     "861fe7d9192e40c0bceaeaafdc79da23": {
      "model_module": "@jupyter-widgets/controls",
      "model_module_version": "1.5.0",
      "model_name": "VBoxModel",
      "state": {
       "children": [
        "IPY_MODEL_ca5d80b24844447eb38079e70eb38209",
        "IPY_MODEL_fcce093514a340898adacc6a46b94791",
        "IPY_MODEL_9298e7a2f45e405d8fd1a02d0b7c2b28",
        "IPY_MODEL_04787d7bfe7e45cdbaf5eb9413eedd76",
        "IPY_MODEL_8c8d3c0c9d8446408e5bf6a50d57f0af",
        "IPY_MODEL_8bbb0da013144a6d84aec54fb24cfd26",
        "IPY_MODEL_76149185d71449a0987d23e130d7e937",
        "IPY_MODEL_b62444088c99467c937f6431c78cb66a"
       ],
       "layout": "IPY_MODEL_b174f634ef264801856c8c905467bac5"
      }
     },
     "86ab4d8d621c4061a4dc60421172edea": {
      "model_module": "@jupyter-widgets/base",
      "model_module_version": "1.2.0",
      "model_name": "LayoutModel",
      "state": {}
     },
     "86dbbbb7f6e94c1aa697bf04f5e7faf6": {
      "model_module": "@jupyter-widgets/controls",
      "model_module_version": "1.5.0",
      "model_name": "HBoxModel",
      "state": {
       "children": [
        "IPY_MODEL_09618b7a827c40519fd22c3343153c43",
        "IPY_MODEL_75f4228a2b24447683ae5addd6d83220"
       ],
       "layout": "IPY_MODEL_0321097beebe4e39bbd49b11b0472e4e"
      }
     },
     "8732e8bfa6d94bdbb6a31eddb30cf6a5": {
      "model_module": "@jupyter-widgets/base",
      "model_module_version": "1.2.0",
      "model_name": "LayoutModel",
      "state": {}
     },
     "87dce1605fd3446693fcc7dea9a7b6cc": {
      "model_module": "@jupyter-widgets/controls",
      "model_module_version": "1.5.0",
      "model_name": "HTMLModel",
      "state": {
       "layout": "IPY_MODEL_0b4bd6c0b3a547f2bbeb0f82348275d6",
       "style": "IPY_MODEL_4085524cbd5442579260a99a27b9c6b8",
       "value": "<p>its a foo cake</p>"
      }
     },
     "882a42d1a5264e20a001097728a874f5": {
      "model_module": "@jupyter-widgets/controls",
      "model_module_version": "1.5.0",
      "model_name": "DescriptionStyleModel",
      "state": {
       "description_width": ""
      }
     },
     "8866cc31ed4146d39517781bc2d48dc0": {
      "model_module": "@jupyter-widgets/controls",
      "model_module_version": "1.5.0",
      "model_name": "HTMLModel",
      "state": {
       "layout": "IPY_MODEL_4447ab16060543dfbaaa5fc8bca1c1f9",
       "style": "IPY_MODEL_4828a68451bf494ebe2fb3756cee6bc8",
       "value": "<p>reus foo ous oo ous foo st</p>"
      }
     },
     "88e2c4ae15954ae59142aa779bee12a9": {
      "model_module": "@jupyter-widgets/output",
      "model_module_version": "1.0.0",
      "model_name": "OutputModel",
      "state": {
       "layout": "IPY_MODEL_e3c048c3e719494fa72842a096dd14e7"
      }
     },
     "890baee5414642fbbb3504c9286c96d1": {
      "model_module": "@jupyter-widgets/base",
      "model_module_version": "1.2.0",
      "model_name": "LayoutModel",
      "state": {}
     },
     "8919a90348dd4990b425008910546e8b": {
      "model_module": "@jupyter-widgets/base",
      "model_module_version": "1.2.0",
      "model_name": "LayoutModel",
      "state": {}
     },
     "896daca1bd40492e92eb4728fef4ecd4": {
      "model_module": "@jupyter-widgets/controls",
      "model_module_version": "1.5.0",
      "model_name": "HBoxModel",
      "state": {
       "children": [
        "IPY_MODEL_8866cc31ed4146d39517781bc2d48dc0",
        "IPY_MODEL_17ebd2080c794832a85c6f181457405e"
       ],
       "layout": "IPY_MODEL_f0d746b5e7ad43ed845022485def9f44"
      }
     },
     "89a52fbe6f324e36a17b64e02b0ce32c": {
      "model_module": "@jupyter-widgets/controls",
      "model_module_version": "1.5.0",
      "model_name": "HTMLModel",
      "state": {
       "layout": "IPY_MODEL_b0987c859dc54c02a5f8ed2efb1de1cd",
       "style": "IPY_MODEL_f7e1f07680c64d558dbecbac32089582",
       "value": "<p>its a foo cake</p>"
      }
     },
     "8adfd4775d8c401e8d791e36e892e523": {
      "model_module": "@jupyter-widgets/controls",
      "model_module_version": "1.5.0",
      "model_name": "HBoxModel",
      "state": {
       "children": [
        "IPY_MODEL_b511c621497b4026b193aa4e98aecf85",
        "IPY_MODEL_a03647dd45c54193ab7728431f9976f4"
       ],
       "layout": "IPY_MODEL_6e62452092d8402d9666b7d2925293ae"
      }
     },
     "8af8b1a1f11f497e86960ca4f456d523": {
      "model_module": "@jupyter-widgets/controls",
      "model_module_version": "1.5.0",
      "model_name": "HTMLModel",
      "state": {
       "layout": "IPY_MODEL_1158a661c2044b52821813ddd3b00231",
       "style": "IPY_MODEL_2861d90d531f403c8ad15133482ec0fc",
       "value": "<p>label</p>"
      }
     },
     "8b4403d0e951496f8aa8792d902b3d6a": {
      "model_module": "@jupyter-widgets/controls",
      "model_module_version": "1.5.0",
      "model_name": "HTMLModel",
      "state": {
       "layout": "IPY_MODEL_4132030582c8411ca13edbaeea768548",
       "style": "IPY_MODEL_49170d032e9248409745f0d19545fd83",
       "value": "<p>its a foo cake</p>"
      }
     },
     "8b705fd6528a494c8156237455950609": {
      "model_module": "@jupyter-widgets/controls",
      "model_module_version": "1.5.0",
      "model_name": "CheckboxModel",
      "state": {
       "disabled": false,
       "layout": "IPY_MODEL_b785b668ba93451f836532d8faa848d8",
       "style": "IPY_MODEL_9f587c39c07b47f6aa6ef94213f385e6",
       "value": false
      }
     },
     "8ba0bbf4f12443a690372a44fcb74254": {
      "model_module": "@jupyter-widgets/controls",
      "model_module_version": "1.5.0",
      "model_name": "DescriptionStyleModel",
      "state": {
       "description_width": ""
      }
     },
     "8bbb0da013144a6d84aec54fb24cfd26": {
      "model_module": "@jupyter-widgets/controls",
      "model_module_version": "1.5.0",
      "model_name": "HBoxModel",
      "state": {
       "children": [
        "IPY_MODEL_8d7c8dab7a6048d9b614a4b1b9c09a97"
       ],
       "layout": "IPY_MODEL_91f7d9de3977450a810237690a32c9d0"
      }
     },
     "8bc541b1c4054e20b66ef3d1135f4ee7": {
      "model_module": "@jupyter-widgets/base",
      "model_module_version": "1.2.0",
      "model_name": "LayoutModel",
      "state": {}
     },
     "8bcdc6ad64d4426f828adfda178eb4ba": {
      "model_module": "@jupyter-widgets/controls",
      "model_module_version": "1.5.0",
      "model_name": "DescriptionStyleModel",
      "state": {
       "description_width": ""
      }
     },
     "8bfb1b1c1faa471198c3169cb47860aa": {
      "model_module": "@jupyter-widgets/controls",
      "model_module_version": "1.5.0",
      "model_name": "DescriptionStyleModel",
      "state": {
       "description_width": ""
      }
     },
     "8c1fa44dedc3469e8c3612a03f5e33d2": {
      "model_module": "@jupyter-widgets/controls",
      "model_module_version": "1.5.0",
      "model_name": "DescriptionStyleModel",
      "state": {
       "description_width": ""
      }
     },
     "8c6da6e6b093443ba5b1caf4f052a092": {
      "model_module": "@jupyter-widgets/controls",
      "model_module_version": "1.5.0",
      "model_name": "HTMLModel",
      "state": {
       "layout": "IPY_MODEL_363fbefed10741e8af65db106130db5d",
       "style": "IPY_MODEL_10f769db93d54031a4a920922b99ebba",
       "value": "<p>its a delicious foo cake</p>"
      }
     },
     "8c8d3c0c9d8446408e5bf6a50d57f0af": {
      "model_module": "@jupyter-widgets/controls",
      "model_module_version": "1.5.0",
      "model_name": "HBoxModel",
      "state": {
       "children": [
        "IPY_MODEL_4b22a51e253b4260b4ee3bc99381c17a"
       ],
       "layout": "IPY_MODEL_6d158ec8d8324975883cf45ea42ae7a4"
      }
     },
     "8cc49a4df2ee434480463e69c04b04f7": {
      "model_module": "@jupyter-widgets/base",
      "model_module_version": "1.2.0",
      "model_name": "LayoutModel",
      "state": {}
     },
     "8ce7094922d74cdd9ba561d7d9867eb7": {
      "model_module": "ipysheet",
      "model_module_version": "~0.4.4",
      "model_name": "CellRangeModel",
      "state": {
       "_view_module": null,
       "_view_module_version": "",
       "choice": [],
       "column_end": 2,
       "column_start": 2,
       "numeric_format": null,
       "row_end": 3,
       "row_start": 0,
       "squeeze_row": false,
       "type": "text",
       "value": [
        "any",
        "<class 'list'>",
        "<class 'NoneType'>",
        "<class 'NoneType'>"
       ]
      }
     },
     "8d000caa6fe74ec7a93b2685bb877f0e": {
      "model_module": "@jupyter-widgets/base",
      "model_module_version": "1.2.0",
      "model_name": "LayoutModel",
      "state": {}
     },
     "8d12b23c21ae48eda15e81448c65258c": {
      "model_module": "@jupyter-widgets/controls",
      "model_module_version": "1.5.0",
      "model_name": "ToggleButtonModel",
      "state": {
       "layout": "IPY_MODEL_925490d402554935a6bc953da75c6f43",
       "style": "IPY_MODEL_1ce0cf2876384c8683bccdb42fc1280d"
      }
     },
     "8d3fa3658ee44620b5c19cd5de9d5c93": {
      "model_module": "@jupyter-widgets/base",
      "model_module_version": "1.2.0",
      "model_name": "LayoutModel",
      "state": {
       "align_items": "stretch",
       "display": "flex",
       "flex_flow": "row",
       "grid_auto_columns": "True",
       "justify_content": "flex-end",
       "width": "90%"
      }
     },
     "8d60b6519eac49fcbb1bf16b780443ea": {
      "model_module": "@jupyter-widgets/base",
      "model_module_version": "1.2.0",
      "model_name": "LayoutModel",
      "state": {
       "align_items": "stretch",
       "border": "dashed 0.2px green",
       "display": "flex",
       "flex_flow": "row",
       "grid_auto_columns": "True",
       "justify_content": "flex-start",
       "width": "100%"
      }
     },
     "8d7c8dab7a6048d9b614a4b1b9c09a97": {
      "model_module": "@jupyter-widgets/controls",
      "model_module_version": "1.5.0",
      "model_name": "HBoxModel",
      "state": {
       "children": [
        "IPY_MODEL_d27bb6b02c2b4a598809f389df536163",
        "IPY_MODEL_935e058112c84b23a24e43ab4181fb0d"
       ],
       "layout": "IPY_MODEL_425a94d18a4f4795b54fc3aa6202ab08"
      }
     },
     "8dfcc8fe3b6543bfb6ac285067fae91b": {
      "model_module": "@jupyter-widgets/base",
      "model_module_version": "1.2.0",
      "model_name": "LayoutModel",
      "state": {
       "align_items": "stretch",
       "display": "flex",
       "flex_flow": "row",
       "grid_auto_columns": "True",
       "justify_content": "flex-end",
       "width": "90%"
      }
     },
     "8e23d96f36f74f60b4fb98f245be22e2": {
      "model_module": "@jupyter-widgets/controls",
      "model_module_version": "1.5.0",
      "model_name": "HTMLModel",
      "state": {
       "layout": "IPY_MODEL_ed0788c592884077a0e9bec3af79761c",
       "style": "IPY_MODEL_d7522e8dec8643dbbc4b668e6cc18971",
       "value": "<p>label</p>"
      }
     },
     "8e455385e8704b569f686f70b4e389a1": {
      "model_module": "@jupyter-widgets/base",
      "model_module_version": "1.2.0",
      "model_name": "LayoutModel",
      "state": {
       "align_items": "stretch",
       "display": "flex",
       "flex_flow": "row",
       "grid_auto_columns": "True",
       "justify_content": "flex-end",
       "width": "90%"
      }
     },
     "8e4c51fa944f43bfbc4c88fdb692a2d0": {
      "model_module": "@jupyter-widgets/controls",
      "model_module_version": "1.5.0",
      "model_name": "ToggleButtonModel",
      "state": {
       "description": "help",
       "icon": "fa-question-circle",
       "layout": "IPY_MODEL_30e40e1930884788a0f560d85db5f585",
       "style": "IPY_MODEL_8ba0bbf4f12443a690372a44fcb74254",
       "tooltip": "gives guidance",
       "value": true
      }
     },
     "8e5fcd0520554f579504397680ece74e": {
      "model_module": "@jupyter-widgets/controls",
      "model_module_version": "1.5.0",
      "model_name": "HBoxModel",
      "state": {
       "children": [
        "IPY_MODEL_354bf2913d5445fcbc837783b51503a5",
        "IPY_MODEL_45085436bed34a6c9816ad427866669a"
       ],
       "layout": "IPY_MODEL_367decb3d38e4eaeb00683673b924e1e"
      }
     },
     "8e702e96cb49432db3960cb31ca4b6e8": {
      "model_module": "@jupyter-widgets/output",
      "model_module_version": "1.0.0",
      "model_name": "OutputModel",
      "state": {
       "layout": "IPY_MODEL_cd29a87bebc44bb092f893b4fc7c1e95"
      }
     },
     "8ee6d3f02b484b8980e833450764cb3f": {
      "model_module": "@jupyter-widgets/base",
      "model_module_version": "1.2.0",
      "model_name": "LayoutModel",
      "state": {}
     },
     "8f574c1a0cb14c6fbe2b40e2058d1be2": {
      "model_module": "@jupyter-widgets/base",
      "model_module_version": "1.2.0",
      "model_name": "LayoutModel",
      "state": {}
     },
     "8fcd29cf458f4ab294a15eba6e2e8b56": {
      "model_module": "@jupyter-widgets/base",
      "model_module_version": "1.2.0",
      "model_name": "LayoutModel",
      "state": {}
     },
     "9026fea5398d488e8b8cf7b510a7f811": {
      "model_module": "@jupyter-widgets/controls",
      "model_module_version": "1.5.0",
      "model_name": "DescriptionStyleModel",
      "state": {
       "description_width": ""
      }
     },
     "902d3088945c4767a96ad376243a3739": {
      "model_module": "@jupyter-widgets/output",
      "model_module_version": "1.0.0",
      "model_name": "OutputModel",
      "state": {
       "layout": "IPY_MODEL_d730d9dc00d642c18dd8808ca93eb00b"
      }
     },
     "903dac0800eb401580f899549d2bbe59": {
      "model_module": "@jupyter-widgets/base",
      "model_module_version": "1.2.0",
      "model_name": "LayoutModel",
      "state": {
       "height": "auto",
       "width": "auto"
      }
     },
     "90513b01148340afa8f8cd8342a525a5": {
      "model_module": "@jupyter-widgets/base",
      "model_module_version": "1.2.0",
      "model_name": "LayoutModel",
      "state": {}
     },
     "90b64bc141c64568a70cc10e289acab9": {
      "model_module": "@jupyter-widgets/base",
      "model_module_version": "1.2.0",
      "model_name": "LayoutModel",
      "state": {}
     },
     "914d5bb56e0c43f9b263b5d138937356": {
      "model_module": "@jupyter-widgets/base",
      "model_module_version": "1.2.0",
      "model_name": "LayoutModel",
      "state": {
       "align_items": "stretch",
       "border": "dashed 0.2px green",
       "display": "flex",
       "flex_flow": "row",
       "grid_auto_columns": "True",
       "justify_content": "flex-start",
       "width": "100%"
      }
     },
     "918cab8e92644f16ad633e1ccfaf43c9": {
      "model_module": "@jupyter-widgets/controls",
      "model_module_version": "1.5.0",
      "model_name": "HTMLModel",
      "state": {
       "layout": "IPY_MODEL_5e260ce4fac64169bf269662c6d84e8c",
       "style": "IPY_MODEL_d64952d76990495e810a851bf4d3e391",
       "value": "<p>name</p>"
      }
     },
     "9196e3fddca245f896bc72f926d7141a": {
      "model_module": "@jupyter-widgets/controls",
      "model_module_version": "1.5.0",
      "model_name": "HBoxModel",
      "state": {
       "children": [
        "IPY_MODEL_01dab23a4acb45ce81318e6c3313e4fb",
        "IPY_MODEL_24a7756793fc4b07b1b25e71f4dd9649"
       ],
       "layout": "IPY_MODEL_141f4b64323a4cc4960d813da9b6207c"
      }
     },
     "91f7d9de3977450a810237690a32c9d0": {
      "model_module": "@jupyter-widgets/base",
      "model_module_version": "1.2.0",
      "model_name": "LayoutModel",
      "state": {
       "align_items": "stretch",
       "border": "dashed 0.2px green",
       "display": "flex",
       "flex_flow": "row",
       "grid_auto_columns": "True",
       "justify_content": "flex-start",
       "width": "100%"
      }
     },
     "9221911099884e7083ba0dda0ceba960": {
      "model_module": "@jupyter-widgets/controls",
      "model_module_version": "1.5.0",
      "model_name": "HTMLModel",
      "state": {
       "layout": "IPY_MODEL_c2f345c55f494f55b8909f5b486564a5",
       "style": "IPY_MODEL_2456ec763675485da008506f28d1b74f",
       "value": "<p>fus foo ous o</p>"
      }
     },
     "925490d402554935a6bc953da75c6f43": {
      "model_module": "@jupyter-widgets/base",
      "model_module_version": "1.2.0",
      "model_name": "LayoutModel",
      "state": {}
     },
     "92734fe62f0a4b79a950d227ef232359": {
      "model_module": "@jupyter-widgets/base",
      "model_module_version": "1.2.0",
      "model_name": "LayoutModel",
      "state": {}
     },
     "9298e7a2f45e405d8fd1a02d0b7c2b28": {
      "model_module": "@jupyter-widgets/controls",
      "model_module_version": "1.5.0",
      "model_name": "HBoxModel",
      "state": {
       "children": [
        "IPY_MODEL_19d237ee9901498cbadaebe6d2dbe071"
       ],
       "layout": "IPY_MODEL_da4bb1c31bc344808f38f2438da955ac"
      }
     },
     "935e058112c84b23a24e43ab4181fb0d": {
      "model_module": "@jupyter-widgets/controls",
      "model_module_version": "1.5.0",
      "model_name": "HBoxModel",
      "state": {
       "children": [
        "IPY_MODEL_036abe1b2d6d4e8fb7dff475a76c8d6e",
        "IPY_MODEL_4c40d682d0db4e42b796a9fd33c81f3f"
       ],
       "layout": "IPY_MODEL_2769e33fdc9b467babfc1ecf1944208d"
      }
     },
     "93f130d809a74f9195e166844ee798b3": {
      "model_module": "@jupyter-widgets/base",
      "model_module_version": "1.2.0",
      "model_name": "LayoutModel",
      "state": {
       "align_items": "stretch",
       "display": "flex",
       "flex_flow": "row",
       "grid_auto_columns": "True",
       "justify_content": "flex-end",
       "width": "90%"
      }
     },
     "9488f8b6c7de4e15a92dbdbfa8b3bed8": {
      "model_module": "@jupyter-widgets/controls",
      "model_module_version": "1.5.0",
      "model_name": "DescriptionStyleModel",
      "state": {
       "description_width": ""
      }
     },
     "949c1d96682e4c6f8ff727c015e79f70": {
      "model_module": "@jupyter-widgets/controls",
      "model_module_version": "1.5.0",
      "model_name": "HBoxModel",
      "state": {
       "children": [
        "IPY_MODEL_b8516ec98ba445789b47e68558e2f013",
        "IPY_MODEL_3bc3b5051ad64e84835c4a4a75766de8"
       ],
       "layout": "IPY_MODEL_fdda36d5e035421d9c8774c1b15c74d0"
      }
     },
     "94b5a7d5864f46f9a5ac409ff86271df": {
      "model_module": "@jupyter-widgets/controls",
      "model_module_version": "1.5.0",
      "model_name": "ToggleButtonModel",
      "state": {
       "description": "help",
       "icon": "fa-question-circle",
       "layout": "IPY_MODEL_dea933d0375348a4bdacda9f09f2f7df",
       "style": "IPY_MODEL_7253690fad1949c78a4baf5f732d75f4",
       "tooltip": "gives guidance"
      }
     },
     "94c5a8efb0704b8da92e90a01a19a82f": {
      "model_module": "@jupyter-widgets/base",
      "model_module_version": "1.2.0",
      "model_name": "LayoutModel",
      "state": {}
     },
     "94f896fe12ec4284bad76af02e429b13": {
      "model_module": "@jupyter-widgets/base",
      "model_module_version": "1.2.0",
      "model_name": "LayoutModel",
      "state": {
       "align_items": "stretch",
       "display": "flex",
       "flex_flow": "row",
       "grid_auto_columns": "True",
       "justify_content": "flex-end",
       "width": "90%"
      }
     },
     "951c428a28874e1c943480b2d4d49e7e": {
      "model_module": "@jupyter-widgets/base",
      "model_module_version": "1.2.0",
      "model_name": "LayoutModel",
      "state": {}
     },
     "9528eda893e54356bf896fc5b98b92fe": {
      "model_module": "@jupyter-widgets/base",
      "model_module_version": "1.2.0",
      "model_name": "LayoutModel",
      "state": {}
     },
     "95388c8280a842c88c5ffb8a0c792a8e": {
      "model_module": "@jupyter-widgets/base",
      "model_module_version": "1.2.0",
      "model_name": "LayoutModel",
      "state": {
       "align_items": "stretch",
       "display": "flex",
       "flex_flow": "row",
       "grid_auto_columns": "True",
       "justify_content": "flex-end",
       "width": "90%"
      }
     },
     "9544a2f6f7424d8e82035bbe83d2659f": {
      "model_module": "@jupyter-widgets/controls",
      "model_module_version": "1.5.0",
      "model_name": "HBoxModel",
      "state": {
       "children": [
        "IPY_MODEL_7608d2c4f1d447519fb3b7554a315dc8",
        "IPY_MODEL_94b5a7d5864f46f9a5ac409ff86271df"
       ],
       "layout": "IPY_MODEL_279b84727821428f83fc81a1ef1824af"
      }
     },
     "957de07b07004c06b534192258c583fd": {
      "model_module": "@jupyter-widgets/controls",
      "model_module_version": "1.5.0",
      "model_name": "HTMLModel",
      "state": {
       "layout": "IPY_MODEL_0b7e4229af924243894bdb674435e212",
       "style": "IPY_MODEL_5bcde4b677fd4089a0b2e297464c0707",
       "value": "<p>its a foo cake</p>"
      }
     },
     "97063cecfb5245ad86ba54c688a90224": {
      "model_module": "@jupyter-widgets/controls",
      "model_module_version": "1.5.0",
      "model_name": "HBoxModel",
      "state": {
       "children": [
        "IPY_MODEL_ea04c63d049f4c958bfcd99cd6afd581",
        "IPY_MODEL_7b595964ee3c4b108fc1413780d38ac3"
       ],
       "layout": "IPY_MODEL_d311d86677ff46f1bdda89e99aafb5b6"
      }
     },
     "9729b0ffb320412b9bce665cd9369fc4": {
      "model_module": "@jupyter-widgets/controls",
      "model_module_version": "1.5.0",
      "model_name": "DescriptionStyleModel",
      "state": {
       "description_width": ""
      }
     },
     "974dc7b7939b4f49b4d965f58aa791e8": {
      "model_module": "@jupyter-widgets/base",
      "model_module_version": "1.2.0",
      "model_name": "LayoutModel",
      "state": {
       "align_items": "stretch",
       "display": "flex",
       "flex_flow": "row",
       "grid_auto_columns": "True",
       "justify_content": "flex-end",
       "width": "90%"
      }
     },
     "978b9a01961a464fa4513369eb15f814": {
      "model_module": "@jupyter-widgets/controls",
      "model_module_version": "1.5.0",
      "model_name": "HBoxModel",
      "state": {
       "children": [
        "IPY_MODEL_4d789ad07bb046cea0f76735671d68a1",
        "IPY_MODEL_8b4403d0e951496f8aa8792d902b3d6a"
       ],
       "layout": "IPY_MODEL_06112a04f0634db3a13ef9266a4c7640"
      }
     },
     "97aef1d3950b4f5a94b23ce4740f4a03": {
      "model_module": "@jupyter-widgets/base",
      "model_module_version": "1.2.0",
      "model_name": "LayoutModel",
      "state": {}
     },
     "97f299f8057541daa9e67ee93adbaf18": {
      "model_module": "@jupyter-widgets/controls",
      "model_module_version": "1.5.0",
      "model_name": "HBoxModel",
      "state": {
       "children": [
        "IPY_MODEL_a5396198e1b3486cbbbce269d8129c5a",
        "IPY_MODEL_8adfd4775d8c401e8d791e36e892e523"
       ],
       "layout": "IPY_MODEL_33ae2c6bf5f845a09e2b52d9fb709642"
      }
     },
     "9907f48c054e4b6e9ad889dee230ceeb": {
      "model_module": "@jupyter-widgets/base",
      "model_module_version": "1.2.0",
      "model_name": "LayoutModel",
      "state": {}
     },
     "9948c6c3f5ef43d08b6b5b1c5330aa38": {
      "model_module": "@jupyter-widgets/base",
      "model_module_version": "1.2.0",
      "model_name": "LayoutModel",
      "state": {}
     },
     "9992a03fb12a409cb7aebcb42a4adc9c": {
      "model_module": "@jupyter-widgets/controls",
      "model_module_version": "1.5.0",
      "model_name": "HBoxModel",
      "state": {
       "children": [
        "IPY_MODEL_48e90ee7c9aa4bc68b1a2bf7a8509dc0",
        "IPY_MODEL_0b6c296400f44381bd00718edb1295f1"
       ],
       "layout": "IPY_MODEL_fa4d73ffe91b4ff6bd79badc2d730056"
      }
     },
     "9a26b6c24c4c460eb8215b80547d722d": {
      "model_module": "@jupyter-widgets/output",
      "model_module_version": "1.0.0",
      "model_name": "OutputModel",
      "state": {
       "layout": "IPY_MODEL_3bf069823e154fa4bcf307bf4a3a994e"
      }
     },
     "9a6c4572f9ab4f5490307e6d71cf09ab": {
      "model_module": "@jupyter-widgets/controls",
      "model_module_version": "1.5.0",
      "model_name": "HTMLModel",
      "state": {
       "layout": "IPY_MODEL_0a4e169e18ce4af3adeaf9aec9f79d9a",
       "style": "IPY_MODEL_c1640b81b1f64ef587620fa659108f28",
       "value": "<p>its a foo cake</p>"
      }
     },
     "9bb9cd6cf7d04589a74f6c747c0a22a8": {
      "model_module": "@jupyter-widgets/controls",
      "model_module_version": "1.5.0",
      "model_name": "HBoxModel",
      "state": {
       "children": [
        "IPY_MODEL_c6fc4fddb995490cb3f0be2c500423e7",
        "IPY_MODEL_8e23d96f36f74f60b4fb98f245be22e2"
       ],
       "layout": "IPY_MODEL_eec5106cd6d14ca2b7e71bcf024d1db2"
      }
     },
     "9bf956a9752c4634bd19fcd859171d14": {
      "model_module": "@jupyter-widgets/controls",
      "model_module_version": "1.5.0",
      "model_name": "HBoxModel",
      "state": {
       "children": [
        "IPY_MODEL_97f299f8057541daa9e67ee93adbaf18",
        "IPY_MODEL_da600520a7a4476784699c35fd406c7d"
       ],
       "layout": "IPY_MODEL_580ce0392d634b489d2bea248ed2d905"
      }
     },
     "9c37d0707ddf4e18861c8c8c2cb68d9f": {
      "model_module": "@jupyter-widgets/base",
      "model_module_version": "1.2.0",
      "model_name": "LayoutModel",
      "state": {
       "align_items": "stretch",
       "display": "flex",
       "flex_flow": "row",
       "grid_auto_columns": "True",
       "justify_content": "flex-start",
       "width": "80%"
      }
     },
     "9cb0543299644fd389f1ee05dafe5494": {
      "model_module": "@jupyter-widgets/controls",
      "model_module_version": "1.5.0",
      "model_name": "HTMLModel",
      "state": {
       "layout": "IPY_MODEL_ee7a1b4f89ef4b8cbe85de4233f0f362",
       "style": "IPY_MODEL_cb220ac9a58e4e9cba247d20ebca715d",
       "value": "<p>its a foo cake</p>"
      }
     },
     "9d03e037342649708ce5d498d60e69c3": {
      "model_module": "@jupyter-widgets/controls",
      "model_module_version": "1.5.0",
      "model_name": "HBoxModel",
      "state": {
       "children": [
        "IPY_MODEL_77cbec6983924713b3700148f6103344",
        "IPY_MODEL_9bb9cd6cf7d04589a74f6c747c0a22a8"
       ],
       "layout": "IPY_MODEL_f0ae8d21d95b4d43afa51efbe56ab9ae"
      }
     },
     "9d1b9e1ae61341e9b4e6ce4d3fc4a317": {
      "model_module": "@jupyter-widgets/controls",
      "model_module_version": "1.5.0",
      "model_name": "HBoxModel",
      "state": {
       "children": [
        "IPY_MODEL_4e35d24bb4414f4c82b7929d8a708372",
        "IPY_MODEL_de5d11cb2feb4b489ef538931690c580"
       ],
       "layout": "IPY_MODEL_b0d4e14472f947cc91380a77d66d6864"
      }
     },
     "9e310865ff9b4b53bc1d8ea834c68c0d": {
      "model_module": "@jupyter-widgets/controls",
      "model_module_version": "1.5.0",
      "model_name": "HBoxModel",
      "state": {
       "children": [
        "IPY_MODEL_39660098e2994f8083340a397eb5359f",
        "IPY_MODEL_2a779426c4794a87bbbab7c6073ba733"
       ],
       "layout": "IPY_MODEL_303f111f85c3431a808149feefab7e98"
      }
     },
     "9ed9d0848d3f43cc8b3e3a949e270e5e": {
      "model_module": "@jupyter-widgets/controls",
      "model_module_version": "1.5.0",
      "model_name": "DescriptionStyleModel",
      "state": {
       "description_width": ""
      }
     },
     "9eeaab26b589441181ccbd9c5fa03b21": {
      "model_module": "@jupyter-widgets/base",
      "model_module_version": "1.2.0",
      "model_name": "LayoutModel",
      "state": {}
     },
     "9ef09a2d58ff4588ad17d395788a648b": {
      "model_module": "@jupyter-widgets/controls",
      "model_module_version": "1.5.0",
      "model_name": "HBoxModel",
      "state": {
       "children": [
        "IPY_MODEL_8d12b23c21ae48eda15e81448c65258c",
        "IPY_MODEL_f382f04e5ebb4b6289c49d170f2910cb"
       ],
       "layout": "IPY_MODEL_18097f1076cd4e468ed96320f64db528"
      }
     },
     "9ef8a4730eea4004bceee652685de0c2": {
      "model_module": "@jupyter-widgets/controls",
      "model_module_version": "1.5.0",
      "model_name": "VBoxModel",
      "state": {
       "children": [
        "IPY_MODEL_9bf956a9752c4634bd19fcd859171d14",
        "IPY_MODEL_635338d2a8db4128bf18c33c7b60d390",
        "IPY_MODEL_d1c31561ed9640c19f536eab9d9aa084",
        "IPY_MODEL_1889f3ca281347f5825f92344f49693b",
        "IPY_MODEL_d2780c863b444a528abf976097725f26"
       ],
       "layout": "IPY_MODEL_ecff53ae726d4ff8b70982f228f36de6"
      }
     },
     "9f5721a341094589a9a9ccfde13c99a0": {
      "model_module": "@jupyter-widgets/base",
      "model_module_version": "1.2.0",
      "model_name": "LayoutModel",
      "state": {}
     },
     "9f587c39c07b47f6aa6ef94213f385e6": {
      "model_module": "@jupyter-widgets/controls",
      "model_module_version": "1.5.0",
      "model_name": "DescriptionStyleModel",
      "state": {
       "description_width": ""
      }
     },
     "9f6da881a6564bf285a12bff9f53ef71": {
      "model_module": "@jupyter-widgets/controls",
      "model_module_version": "1.5.0",
      "model_name": "DescriptionStyleModel",
      "state": {
       "description_width": ""
      }
     },
     "9fed8389e5c7443487c5f37cdf358b75": {
      "model_module": "@jupyter-widgets/controls",
      "model_module_version": "1.5.0",
      "model_name": "HBoxModel",
      "state": {
       "children": [
        "IPY_MODEL_7d2264eb9ac34eed89b7bf8fbdcec8d1",
        "IPY_MODEL_2a785d23c5494fb9bf327fff2b3a4f8d"
       ],
       "layout": "IPY_MODEL_188381d3c544435ebbf0a53ba9f907cb"
      }
     },
     "a0131092a9114c809ab09e8b627da434": {
      "model_module": "ipysheet",
      "model_module_version": "~0.4.4",
      "model_name": "CellRangeModel",
      "state": {
       "_view_module": null,
       "_view_module_version": "",
       "choice": [],
       "numeric_format": null,
       "row_end": 3,
       "row_start": 0,
       "squeeze_row": false,
       "type": "text",
       "value": [
        "<class 'float'>",
        "<class 'NoneType'>",
        "<class 'float'>",
        "<class 'float'>"
       ]
      }
     },
     "a0200dc7b2d64875ad116fdc53c77543": {
      "model_module": "@jupyter-widgets/base",
      "model_module_version": "1.2.0",
      "model_name": "LayoutModel",
      "state": {
       "align_items": "stretch",
       "border": "dashed 0.2px green",
       "display": "flex",
       "flex_flow": "row",
       "grid_auto_columns": "True",
       "justify_content": "flex-start",
       "width": "100%"
      }
     },
     "a03072b6f72f425590702ec3a4e3d113": {
      "model_module": "@jupyter-widgets/controls",
      "model_module_version": "1.5.0",
      "model_name": "DescriptionStyleModel",
      "state": {
       "description_width": ""
      }
     },
     "a03647dd45c54193ab7728431f9976f4": {
      "model_module": "@jupyter-widgets/controls",
      "model_module_version": "1.5.0",
      "model_name": "HTMLModel",
      "state": {
       "layout": "IPY_MODEL_5c64b2a974a24115b5d29c93f80b2f4b",
       "style": "IPY_MODEL_5be8a94e07244381867cb09b6bb682eb",
       "value": "<p>its a delicious foo cake</p>"
      }
     },
     "a0757c4cc70e42d7992b9072e9fd170f": {
      "model_module": "@jupyter-widgets/controls",
      "model_module_version": "1.5.0",
      "model_name": "DescriptionStyleModel",
      "state": {
       "description_width": ""
      }
     },
     "a08ef034cb9249508be1affcb9e3d58c": {
      "model_module": "@jupyter-widgets/base",
      "model_module_version": "1.2.0",
      "model_name": "LayoutModel",
      "state": {}
     },
     "a0d4efd75d9046608bae51c24d7ae0dc": {
      "model_module": "@jupyter-widgets/base",
      "model_module_version": "1.2.0",
      "model_name": "LayoutModel",
      "state": {}
     },
     "a0fffcddb7a844e4bc0e46aaa2beb711": {
      "model_module": "@jupyter-widgets/controls",
      "model_module_version": "1.5.0",
      "model_name": "FloatSliderModel",
      "state": {
       "layout": "IPY_MODEL_f1620349d29e47edb2961651a64a6683",
       "max": 10,
       "style": "IPY_MODEL_d1f325c2b50445f1b99a4610ea9c3beb",
       "value": 10
      }
     },
     "a1e67c43fce34fa8970b7b6feb66533f": {
      "model_module": "@jupyter-widgets/controls",
      "model_module_version": "1.5.0",
      "model_name": "HTMLModel",
      "state": {
       "layout": "IPY_MODEL_9528eda893e54356bf896fc5b98b92fe",
       "style": "IPY_MODEL_9f6da881a6564bf285a12bff9f53ef71",
       "value": "<p>label</p>"
      }
     },
     "a1fbfcf2075c423a9626e4829787da88": {
      "model_module": "@jupyter-widgets/controls",
      "model_module_version": "1.5.0",
      "model_name": "DescriptionStyleModel",
      "state": {
       "description_width": ""
      }
     },
     "a324ee9a866f430789e941a29ddfc657": {
      "model_module": "@jupyter-widgets/base",
      "model_module_version": "1.2.0",
      "model_name": "LayoutModel",
      "state": {
       "align_items": "stretch",
       "display": "flex",
       "flex_flow": "row",
       "grid_auto_columns": "True",
       "justify_content": "flex-start",
       "width": "80%"
      }
     },
     "a328903cb7a7446591528098cb110716": {
      "model_module": "@jupyter-widgets/base",
      "model_module_version": "1.2.0",
      "model_name": "LayoutModel",
      "state": {
       "align_items": "stretch",
       "display": "flex",
       "flex_flow": "row",
       "grid_auto_columns": "True",
       "justify_content": "flex-end",
       "width": "90%"
      }
     },
     "a33521fb1a2f46b4a617ac5b5398fc7a": {
      "model_module": "@jupyter-widgets/base",
      "model_module_version": "1.2.0",
      "model_name": "LayoutModel",
      "state": {}
     },
     "a3926ddfdda944b18a3237d6524f2447": {
      "model_module": "@jupyter-widgets/base",
      "model_module_version": "1.2.0",
      "model_name": "LayoutModel",
      "state": {
       "align_items": "stretch",
       "display": "flex",
       "flex_flow": "row",
       "grid_auto_columns": "True",
       "justify_content": "flex-start",
       "width": "80%"
      }
     },
     "a42f99f6424546508fe18572f091877d": {
      "model_module": "@jupyter-widgets/base",
      "model_module_version": "1.2.0",
      "model_name": "LayoutModel",
      "state": {}
     },
     "a4428256e40b49b8898f8265b598d860": {
      "model_module": "ipysheet",
      "model_module_version": "~0.4.4",
      "model_name": "CellRangeModel",
      "state": {
       "_view_module": null,
       "_view_module_version": "",
       "choice": [],
       "column_end": 4,
       "column_start": 4,
       "numeric_format": null,
       "row_end": 3,
       "row_start": 0,
       "squeeze_row": false,
       "type": "text",
       "value": [
        "<class 'bool'>",
        "<class 'NoneType'>",
        "<class 'NoneType'>",
        "<class 'NoneType'>"
       ]
      }
     },
     "a4b41edb54d040d0bc5acd3a80e99b5c": {
      "model_module": "@jupyter-widgets/base",
      "model_module_version": "1.2.0",
      "model_name": "LayoutModel",
      "state": {
       "align_items": "stretch",
       "border": "dashed 0.2px green",
       "display": "flex",
       "flex_flow": "row",
       "grid_auto_columns": "True",
       "justify_content": "flex-start",
       "width": "100%"
      }
     },
     "a522eb1519ad4089ace9798a9cdcfe9e": {
      "model_module": "@jupyter-widgets/base",
      "model_module_version": "1.2.0",
      "model_name": "LayoutModel",
      "state": {}
     },
     "a535e6d09b934d72a9b03c394af8144c": {
      "model_module": "@jupyter-widgets/base",
      "model_module_version": "1.2.0",
      "model_name": "LayoutModel",
      "state": {}
     },
     "a5396198e1b3486cbbbce269d8129c5a": {
      "model_module": "@jupyter-widgets/controls",
      "model_module_version": "1.5.0",
      "model_name": "HTMLModel",
      "state": {
       "layout": "IPY_MODEL_398b056cef7e4219a99aac6da8f3087d",
       "style": "IPY_MODEL_caf55805cb60449bbcab54fd0c440c14",
       "value": "<p>reous foo ous foo st</p>"
      }
     },
     "a54beb729bf44738b57e63dc41249501": {
      "model_module": "@jupyter-widgets/controls",
      "model_module_version": "1.5.0",
      "model_name": "FloatSliderModel",
      "state": {
       "layout": "IPY_MODEL_69bb782957a74ba29ece8709af6283e3",
       "max": 10,
       "style": "IPY_MODEL_206d414653b44438b4439ce5f360bd08",
       "value": 10
      }
     },
     "a552f708784f4669bc01426891d047c3": {
      "model_module": "@jupyter-widgets/base",
      "model_module_version": "1.2.0",
      "model_name": "LayoutModel",
      "state": {
       "align_items": "stretch",
       "display": "flex",
       "flex_flow": "row",
       "grid_auto_columns": "True",
       "justify_content": "flex-start",
       "width": "80%"
      }
     },
     "a56bfaa078104b3db08e29b64969ec92": {
      "model_module": "@jupyter-widgets/controls",
      "model_module_version": "1.5.0",
      "model_name": "HTMLModel",
      "state": {
       "layout": "IPY_MODEL_e6d075c982414150afc5c81e58a8505c",
       "style": "IPY_MODEL_0a89ba602ec442e88c35cf0cc4476091",
       "value": "<p>foo</p>"
      }
     },
     "a5cac8559b1f48948a834d7dc9f6a5a2": {
      "model_module": "ipysheet",
      "model_module_version": "~0.4.4",
      "model_name": "CellRangeModel",
      "state": {
       "_view_module": null,
       "_view_module_version": "",
       "choice": [],
       "column_end": 6,
       "column_start": 6,
       "numeric_format": null,
       "row_end": 3,
       "row_start": 0,
       "squeeze_row": false,
       "type": "text",
       "value": [
        "<class 'list'>",
        "<class 'NoneType'>",
        "<class 'NoneType'>",
        "<class 'NoneType'>"
       ]
      }
     },
     "a62dd14bcf9143f78873862fbb6eafed": {
      "model_module": "@jupyter-widgets/base",
      "model_module_version": "1.2.0",
      "model_name": "LayoutModel",
      "state": {}
     },
     "a6a7ba7252c44270a9267e08a6cc29d3": {
      "model_module": "@jupyter-widgets/base",
      "model_module_version": "1.2.0",
      "model_name": "LayoutModel",
      "state": {
       "align_items": "stretch",
       "display": "flex",
       "flex_flow": "row",
       "grid_auto_columns": "True",
       "justify_content": "flex-end",
       "width": "90%"
      }
     },
     "a70c05eeb2c64d5aaa268a23dc735b6f": {
      "model_module": "@jupyter-widgets/base",
      "model_module_version": "1.2.0",
      "model_name": "LayoutModel",
      "state": {}
     },
     "a70d5a1005aa4728b7fbd968c4d832f6": {
      "model_module": "@jupyter-widgets/controls",
      "model_module_version": "1.5.0",
      "model_name": "VBoxModel",
      "state": {
       "children": [
        "IPY_MODEL_9544a2f6f7424d8e82035bbe83d2659f",
        "IPY_MODEL_c7526f05f7dd4aa6a7f836a4ba8db7cf",
        "IPY_MODEL_35844f45496a4015acf9b07d3110fb7c",
        "IPY_MODEL_a9f11639096f4f1abb4a4424e54b05a3",
        "IPY_MODEL_c109a38e3a1c456e9d45ad73e6835d29",
        "IPY_MODEL_4c18a2057a634b78a391b8640cf33956",
        "IPY_MODEL_26393efdd2f74120b48480e2dc105d0d",
        "IPY_MODEL_bfe2b978397c4c7189cfde256c70d1ad"
       ],
       "layout": "IPY_MODEL_a08ef034cb9249508be1affcb9e3d58c"
      }
     },
     "a71383dc81d040208203dacead2504d8": {
      "model_module": "@jupyter-widgets/base",
      "model_module_version": "1.2.0",
      "model_name": "LayoutModel",
      "state": {
       "align_items": "stretch",
       "border": "dashed 0.2px green",
       "display": "flex",
       "flex_flow": "row",
       "grid_auto_columns": "True",
       "justify_content": "flex-start",
       "width": "100%"
      }
     },
     "a7992d26034348368011f79a779548f9": {
      "model_module": "@jupyter-widgets/base",
      "model_module_version": "1.2.0",
      "model_name": "LayoutModel",
      "state": {}
     },
     "a7e34609c70d4febb500a75efe8e5296": {
      "model_module": "@jupyter-widgets/controls",
      "model_module_version": "1.5.0",
      "model_name": "ToggleButtonModel",
      "state": {
       "description": "help",
       "icon": "fa-question-circle",
       "layout": "IPY_MODEL_be5c071d20944f2ca04889f8aad37586",
       "style": "IPY_MODEL_248ca0db11284f188df56e12716e61ec",
       "tooltip": "gives guidance"
      }
     },
     "a82525d05aaa413eb6c817466c7fd73b": {
      "model_module": "@jupyter-widgets/controls",
      "model_module_version": "1.5.0",
      "model_name": "HTMLModel",
      "state": {
       "layout": "IPY_MODEL_dfd73c0fcbed43e2b080d4a1345049d3",
       "style": "IPY_MODEL_1b12360c4d014e11a381b3f8ff43197d",
       "value": "<p>fus foo ous o</p>"
      }
     },
     "a852ba61e1254476af14bf9271bd4b35": {
      "model_module": "@jupyter-widgets/controls",
      "model_module_version": "1.5.0",
      "model_name": "DescriptionStyleModel",
      "state": {
       "description_width": ""
      }
     },
     "a9173462cf454ff99630f0a8c84169df": {
      "model_module": "@jupyter-widgets/base",
      "model_module_version": "1.2.0",
      "model_name": "LayoutModel",
      "state": {}
     },
     "a933dcee65ff44318df28c5861a1f40d": {
      "model_module": "@jupyter-widgets/base",
      "model_module_version": "1.2.0",
      "model_name": "LayoutModel",
      "state": {
       "align_items": "stretch",
       "border": "dashed 0.2px green",
       "display": "flex",
       "flex_flow": "row",
       "grid_auto_columns": "True",
       "justify_content": "flex-start",
       "width": "100%"
      }
     },
     "a9f11639096f4f1abb4a4424e54b05a3": {
      "model_module": "@jupyter-widgets/controls",
      "model_module_version": "1.5.0",
      "model_name": "HBoxModel",
      "state": {
       "children": [
        "IPY_MODEL_3c0cf5f15da84bba9064967770371698"
       ],
       "layout": "IPY_MODEL_a4b41edb54d040d0bc5acd3a80e99b5c"
      }
     },
     "aab5abd8fcff4282a93057786c6ca63c": {
      "model_module": "@jupyter-widgets/controls",
      "model_module_version": "1.5.0",
      "model_name": "HBoxModel",
      "state": {
       "children": [
        "IPY_MODEL_cf289b388c1641699a5d79cc39d20de5",
        "IPY_MODEL_71095fe2215f420592b9d98860b17523"
       ],
       "layout": "IPY_MODEL_b7c43df80a974cbeb503ceaadd516473"
      }
     },
     "aaf902e3c3ae428a8f859cc9dddb6b46": {
      "model_module": "@jupyter-widgets/controls",
      "model_module_version": "1.5.0",
      "model_name": "DescriptionStyleModel",
      "state": {
       "description_width": ""
      }
     },
     "ab30ff3893f643359e9acb057e2f300a": {
      "model_module": "@jupyter-widgets/base",
      "model_module_version": "1.2.0",
      "model_name": "LayoutModel",
      "state": {}
     },
     "ab56cfd167404c89856d5eb56a00e791": {
      "model_module": "@jupyter-widgets/base",
      "model_module_version": "1.2.0",
      "model_name": "LayoutModel",
      "state": {}
     },
     "ad32f7386ad949508ecf49b94950813e": {
      "model_module": "@jupyter-widgets/controls",
      "model_module_version": "1.5.0",
      "model_name": "HBoxModel",
      "state": {
       "children": [
        "IPY_MODEL_4da7620189cf492dae728cb5e44fd8e5",
        "IPY_MODEL_15cb6e48d6094c7d826ff2000cb5274f"
       ],
       "layout": "IPY_MODEL_787348d1cef34cd28a0b4b42d020a915"
      }
     },
     "ada7b032cbb34671b896f7c0e37ca1ea": {
      "model_module": "@jupyter-widgets/controls",
      "model_module_version": "1.5.0",
      "model_name": "DescriptionStyleModel",
      "state": {
       "description_width": ""
      }
     },
     "aedc88e9663040f89b5798ec9c235eb0": {
      "model_module": "@jupyter-widgets/base",
      "model_module_version": "1.2.0",
      "model_name": "LayoutModel",
      "state": {
       "align_items": "stretch",
       "border": "dashed 0.2px green",
       "display": "flex",
       "flex_flow": "row",
       "grid_auto_columns": "True",
       "justify_content": "flex-start",
       "width": "100%"
      }
     },
     "af01240d5881491d9c42de7cbdd91ed4": {
      "model_module": "@jupyter-widgets/base",
      "model_module_version": "1.2.0",
      "model_name": "LayoutModel",
      "state": {}
     },
     "af3af4b75f0e4e889e7edd9a8fc4ef9a": {
      "model_module": "@jupyter-widgets/controls",
      "model_module_version": "1.5.0",
      "model_name": "HTMLModel",
      "state": {
       "layout": "IPY_MODEL_8fcd29cf458f4ab294a15eba6e2e8b56",
       "style": "IPY_MODEL_5632ba527994484cbca230f77e57e2bc",
       "value": "<p>reus foo ous oo ous foo st</p>"
      }
     },
     "b03e2ab1c94243f7a5ad28ec0a0a9242": {
      "model_module": "@jupyter-widgets/base",
      "model_module_version": "1.2.0",
      "model_name": "LayoutModel",
      "state": {
       "align_items": "stretch",
       "border": "dashed 0.2px green",
       "display": "flex",
       "flex_flow": "row",
       "grid_auto_columns": "True",
       "justify_content": "flex-start",
       "width": "100%"
      }
     },
     "b07683616c704e85807f7cd60e41d868": {
      "model_module": "@jupyter-widgets/base",
      "model_module_version": "1.2.0",
      "model_name": "LayoutModel",
      "state": {}
     },
     "b07c4a1b676f46699d99d650c7e6b207": {
      "model_module": "@jupyter-widgets/controls",
      "model_module_version": "1.5.0",
      "model_name": "HTMLModel",
      "state": {
       "layout": "IPY_MODEL_8f574c1a0cb14c6fbe2b40e2058d1be2",
       "style": "IPY_MODEL_b29ca3c46a3f4874af504a3934c6006a",
       "value": "<p>fus foo ous o</p>"
      }
     },
     "b0987c859dc54c02a5f8ed2efb1de1cd": {
      "model_module": "@jupyter-widgets/base",
      "model_module_version": "1.2.0",
      "model_name": "LayoutModel",
      "state": {}
     },
     "b0c3ff1fbbed4ba88e68f72d4b2d6ab3": {
      "model_module": "@jupyter-widgets/base",
      "model_module_version": "1.2.0",
      "model_name": "LayoutModel",
      "state": {
       "align_items": "stretch",
       "display": "flex",
       "flex_flow": "row",
       "grid_auto_columns": "True",
       "justify_content": "flex-end",
       "width": "90%"
      }
     },
     "b0d4e14472f947cc91380a77d66d6864": {
      "model_module": "@jupyter-widgets/base",
      "model_module_version": "1.2.0",
      "model_name": "LayoutModel",
      "state": {
       "align_items": "stretch",
       "display": "flex",
       "flex_flow": "row",
       "grid_auto_columns": "True",
       "justify_content": "flex-start",
       "width": "80%"
      }
     },
     "b11dde388ee448cdb26d66508eb0ed66": {
      "model_module": "@jupyter-widgets/controls",
      "model_module_version": "1.5.0",
      "model_name": "DescriptionStyleModel",
      "state": {
       "description_width": ""
      }
     },
     "b174f634ef264801856c8c905467bac5": {
      "model_module": "@jupyter-widgets/base",
      "model_module_version": "1.2.0",
      "model_name": "LayoutModel",
      "state": {}
     },
     "b180046f5f4a40cd9b776cbebb672ba6": {
      "model_module": "@jupyter-widgets/controls",
      "model_module_version": "1.5.0",
      "model_name": "DescriptionStyleModel",
      "state": {
       "description_width": ""
      }
     },
     "b184e0a3bd1443459d342fe4201ab883": {
      "model_module": "@jupyter-widgets/controls",
      "model_module_version": "1.5.0",
      "model_name": "DescriptionStyleModel",
      "state": {
       "description_width": ""
      }
     },
     "b1b445989c2644cdbf1da644e77787ac": {
      "model_module": "@jupyter-widgets/controls",
      "model_module_version": "1.5.0",
      "model_name": "DescriptionStyleModel",
      "state": {
       "description_width": ""
      }
     },
     "b1d2b266c45c4d51b41b3d9ae00238b4": {
      "model_module": "@jupyter-widgets/base",
      "model_module_version": "1.2.0",
      "model_name": "LayoutModel",
      "state": {}
     },
     "b202590330884cc988d6cb98d10ad677": {
      "model_module": "@jupyter-widgets/base",
      "model_module_version": "1.2.0",
      "model_name": "LayoutModel",
      "state": {}
     },
     "b29ca3c46a3f4874af504a3934c6006a": {
      "model_module": "@jupyter-widgets/controls",
      "model_module_version": "1.5.0",
      "model_name": "DescriptionStyleModel",
      "state": {
       "description_width": ""
      }
     },
     "b3601bba28b3430c9bfaa920fa5d09fc": {
      "model_module": "@jupyter-widgets/controls",
      "model_module_version": "1.5.0",
      "model_name": "HTMLModel",
      "state": {
       "layout": "IPY_MODEL_29c90ef70b724fa5b50b740128658732",
       "style": "IPY_MODEL_0d31645ee39c47beba15dc76a67788c8",
       "value": "<p>name</p>"
      }
     },
     "b3774e884d6a45028a4fcd23c890e7a3": {
      "model_module": "ipysheet",
      "model_module_version": "~0.4.4",
      "model_name": "CellRangeModel",
      "state": {
       "_view_module": null,
       "_view_module_version": "",
       "choice": [],
       "column_end": 3,
       "column_start": 3,
       "numeric_format": null,
       "row_end": 3,
       "row_start": 0,
       "squeeze_row": false,
       "type": "text",
       "value": [
        "<class 'list'>",
        "<class 'list'>",
        "<class 'NoneType'>",
        "<class 'NoneType'>"
       ]
      }
     },
     "b38bd79aed6e4934a6cfff1d6fc26435": {
      "model_module": "@jupyter-widgets/base",
      "model_module_version": "1.2.0",
      "model_name": "LayoutModel",
      "state": {}
     },
     "b395b922a44e4eddb9c89ce25f3ad024": {
      "model_module": "@jupyter-widgets/base",
      "model_module_version": "1.2.0",
      "model_name": "LayoutModel",
      "state": {}
     },
     "b3f175ef332c43f5b47586050018a6d6": {
      "model_module": "@jupyter-widgets/controls",
      "model_module_version": "1.5.0",
      "model_name": "DescriptionStyleModel",
      "state": {
       "description_width": ""
      }
     },
     "b489a182280a45738664639f9767bb38": {
      "model_module": "@jupyter-widgets/output",
      "model_module_version": "1.0.0",
      "model_name": "OutputModel",
      "state": {
       "layout": "IPY_MODEL_1c8a0edf9f2843e29f37183d30c72943"
      }
     },
     "b511c621497b4026b193aa4e98aecf85": {
      "model_module": "@jupyter-widgets/controls",
      "model_module_version": "1.5.0",
      "model_name": "FloatTextModel",
      "state": {
       "layout": "IPY_MODEL_8ee6d3f02b484b8980e833450764cb3f",
       "step": null,
       "style": "IPY_MODEL_bcf935b77d4549249856b82e8c9e1cd1",
       "value": 10
      }
     },
     "b550961f4ae14aa7a8282023957d5587": {
      "model_module": "@jupyter-widgets/base",
      "model_module_version": "1.2.0",
      "model_name": "LayoutModel",
      "state": {}
     },
     "b5bf50f8fd974a5e9501bfb3b045066d": {
      "model_module": "@jupyter-widgets/output",
      "model_module_version": "1.0.0",
      "model_name": "OutputModel",
      "state": {
       "layout": "IPY_MODEL_8732e8bfa6d94bdbb6a31eddb30cf6a5"
      }
     },
     "b62444088c99467c937f6431c78cb66a": {
      "model_module": "@jupyter-widgets/controls",
      "model_module_version": "1.5.0",
      "model_name": "HBoxModel",
      "state": {
       "children": [
        "IPY_MODEL_16c1fc2fc0d441a99ac8c1366f85638a"
       ],
       "layout": "IPY_MODEL_914d5bb56e0c43f9b263b5d138937356"
      }
     },
     "b6a2c0bed2bf4ded80db3064edff90fe": {
      "model_module": "@jupyter-widgets/base",
      "model_module_version": "1.2.0",
      "model_name": "LayoutModel",
      "state": {}
     },
     "b741b0495b1549d8989977658e8e4072": {
      "model_module": "@jupyter-widgets/base",
      "model_module_version": "1.2.0",
      "model_name": "LayoutModel",
      "state": {
       "width": "5%"
      }
     },
     "b748f18816d543c3b45ef7f0d483c05c": {
      "model_module": "@jupyter-widgets/controls",
      "model_module_version": "1.5.0",
      "model_name": "HBoxModel",
      "state": {
       "children": [
        "IPY_MODEL_3d67dfa246b54c70b4614548077abbff",
        "IPY_MODEL_2bb8ae229173440483e581216ca5ce96"
       ],
       "layout": "IPY_MODEL_ee21d94bb7104b729447361a7684b9b9"
      }
     },
     "b785b668ba93451f836532d8faa848d8": {
      "model_module": "@jupyter-widgets/base",
      "model_module_version": "1.2.0",
      "model_name": "LayoutModel",
      "state": {}
     },
     "b7c43df80a974cbeb503ceaadd516473": {
      "model_module": "@jupyter-widgets/base",
      "model_module_version": "1.2.0",
      "model_name": "LayoutModel",
      "state": {
       "align_items": "stretch",
       "display": "flex",
       "flex_flow": "row",
       "grid_auto_columns": "True",
       "justify_content": "flex-end",
       "width": "90%"
      }
     },
     "b81cac9cc88d42c6a22cf02c6d8bb519": {
      "model_module": "ipysheet",
      "model_module_version": "~0.4.4",
      "model_name": "CellRangeModel",
      "state": {
       "_view_module": null,
       "_view_module_version": "",
       "choice": [],
       "column_end": 5,
       "column_start": 5,
       "numeric_format": null,
       "row_end": 3,
       "row_start": 0,
       "squeeze_row": false,
       "type": "text",
       "value": [
        "<class 'str'>",
        "<class 'NoneType'>",
        "<class 'NoneType'>",
        "<class 'NoneType'>"
       ]
      }
     },
     "b8516ec98ba445789b47e68558e2f013": {
      "model_module": "@jupyter-widgets/controls",
      "model_module_version": "1.5.0",
      "model_name": "ToggleButtonModel",
      "state": {
       "layout": "IPY_MODEL_dc93cb6b902840aaae689b94e54bb725",
       "style": "IPY_MODEL_2ce01067a66f4488963efcb304f7cf35"
      }
     },
     "b8581e76c5dc4f3d9e9b6e20f2d3bbe8": {
      "model_module": "@jupyter-widgets/base",
      "model_module_version": "1.2.0",
      "model_name": "LayoutModel",
      "state": {}
     },
     "b8a58c4e25924c93bf67cd30bbeba459": {
      "model_module": "@jupyter-widgets/controls",
      "model_module_version": "1.5.0",
      "model_name": "HBoxModel",
      "state": {
       "children": [
        "IPY_MODEL_5400cc1e1b0d4b0a84c9405903e962c1",
        "IPY_MODEL_f0d836e42c3042b68263bac1fd133344"
       ],
       "layout": "IPY_MODEL_9c37d0707ddf4e18861c8c8c2cb68d9f"
      }
     },
     "b920a964a07a4cfab93e9fe67afaf8fc": {
      "model_module": "@jupyter-widgets/controls",
      "model_module_version": "1.5.0",
      "model_name": "HTMLModel",
      "state": {
       "layout": "IPY_MODEL_ab30ff3893f643359e9acb057e2f300a",
       "style": "IPY_MODEL_75187371048641299e944094bf652fd1",
       "value": "<p>fus foo ous o</p>"
      }
     },
     "b984d60342134ee7b69b5e5d7f779c36": {
      "model_module": "@jupyter-widgets/base",
      "model_module_version": "1.2.0",
      "model_name": "LayoutModel",
      "state": {}
     },
     "bc03adea4f294fc09bf8aa4e96b67e4e": {
      "model_module": "@jupyter-widgets/controls",
      "model_module_version": "1.5.0",
      "model_name": "HBoxModel",
      "state": {
       "children": [
        "IPY_MODEL_1efbbba958c849029d1bae1b01fdacfd"
       ],
       "layout": "IPY_MODEL_20a03a09cb944093b9245b96a67f7cc3"
      }
     },
     "bc52411046f34fc9be9c352de1ba5f94": {
      "model_module": "@jupyter-widgets/base",
      "model_module_version": "1.2.0",
      "model_name": "LayoutModel",
      "state": {}
     },
     "bc7e48c0988446279f7acf1a804950eb": {
      "model_module": "@jupyter-widgets/base",
      "model_module_version": "1.2.0",
      "model_name": "LayoutModel",
      "state": {}
     },
     "bc901b65ce3d43db9469a86f4970760a": {
      "model_module": "@jupyter-widgets/controls",
      "model_module_version": "1.5.0",
      "model_name": "DescriptionStyleModel",
      "state": {
       "description_width": ""
      }
     },
     "bcdf52eab94c4fb99129410265675b4e": {
      "model_module": "@jupyter-widgets/controls",
      "model_module_version": "1.5.0",
      "model_name": "DescriptionStyleModel",
      "state": {
       "description_width": ""
      }
     },
     "bcf935b77d4549249856b82e8c9e1cd1": {
      "model_module": "@jupyter-widgets/controls",
      "model_module_version": "1.5.0",
      "model_name": "DescriptionStyleModel",
      "state": {
       "description_width": ""
      }
     },
     "bd377742371646a7b5533581bd522f64": {
      "model_module": "@jupyter-widgets/output",
      "model_module_version": "1.0.0",
      "model_name": "OutputModel",
      "state": {
       "layout": "IPY_MODEL_66ca9b9560d04777bfe61c8a72d9bd25"
      }
     },
     "bd5918d55b144bada4189cd7792e4332": {
      "model_module": "@jupyter-widgets/output",
      "model_module_version": "1.0.0",
      "model_name": "OutputModel",
      "state": {
       "layout": "IPY_MODEL_46542867ebce40dcab64c7be6655b58d"
      }
     },
     "bd5e9e0490644ed299add3a52500232e": {
      "model_module": "@jupyter-widgets/controls",
      "model_module_version": "1.5.0",
      "model_name": "HTMLModel",
      "state": {
       "layout": "IPY_MODEL_0eea022fd1924329bebeb36e997e3554",
       "style": "IPY_MODEL_e273a79fd2af4fb2894fa37acd13239c",
       "value": "<p>its a foo cake</p>"
      }
     },
     "bd7d1a323d7749d4b356bb209bdb13a9": {
      "model_module": "@jupyter-widgets/base",
      "model_module_version": "1.2.0",
      "model_name": "LayoutModel",
      "state": {
       "align_items": "stretch",
       "border": "dashed 0.2px green",
       "display": "flex",
       "flex_flow": "row",
       "grid_auto_columns": "True",
       "justify_content": "flex-start",
       "width": "100%"
      }
     },
     "bd883062d2864e6a95b1a248300d27fa": {
      "model_module": "@jupyter-widgets/controls",
      "model_module_version": "1.5.0",
      "model_name": "DescriptionStyleModel",
      "state": {
       "description_width": ""
      }
     },
     "bddc1b2dc0be4b3d956996f9428063d7": {
      "model_module": "@jupyter-widgets/base",
      "model_module_version": "1.2.0",
      "model_name": "LayoutModel",
      "state": {}
     },
     "be1dd799399b44878066b866b943aa52": {
      "model_module": "ipysheet",
      "model_module_version": "~0.4.4",
      "model_name": "SheetModel",
      "state": {
       "cells": [
        "IPY_MODEL_7d5a21430e164814b021ce87581e79ed",
        "IPY_MODEL_a0131092a9114c809ab09e8b627da434",
        "IPY_MODEL_8ce7094922d74cdd9ba561d7d9867eb7",
        "IPY_MODEL_0bb8849add7d42c287111d9f69b31da4",
        "IPY_MODEL_43368e23ade84e408b7fdc64dcaf4e8e",
        "IPY_MODEL_cf7899cf39b848d390a0ce0eb65f5bc9",
        "IPY_MODEL_a5cac8559b1f48948a834d7dc9f6a5a2"
       ],
       "column_headers": [
        "FloatText",
        "FloatSlider",
        "Dropdown",
        "SelectMultiple",
        "Checkbox",
        "Text",
        "_recursive_guess"
       ],
       "columns": 7,
       "layout": "IPY_MODEL_30a13c4f12ef49d28bc6cd90c01e2867",
       "row_headers": [
        "value_type",
        "options_type",
        "min_type",
        "max_type"
       ],
       "rows": 4
      }
     },
     "be5c071d20944f2ca04889f8aad37586": {
      "model_module": "@jupyter-widgets/base",
      "model_module_version": "1.2.0",
      "model_name": "LayoutModel",
      "state": {
       "width": "5%"
      }
     },
     "be7ab7083fb44da0a834a09811c79629": {
      "model_module": "@jupyter-widgets/base",
      "model_module_version": "1.2.0",
      "model_name": "LayoutModel",
      "state": {
       "align_items": "stretch",
       "display": "flex",
       "flex_flow": "row",
       "grid_auto_columns": "True",
       "justify_content": "flex-end",
       "width": "90%"
      }
     },
     "beac65750c544348a2fd08ae74af4f59": {
      "model_module": "@jupyter-widgets/controls",
      "model_module_version": "1.5.0",
      "model_name": "ButtonModel",
      "state": {
       "button_style": "success",
       "description": "save",
       "layout": "IPY_MODEL_370c95f46f9d4979b8d932b837a96d42",
       "style": "IPY_MODEL_4cc65a9c00c04eb295ee11b92e44386f"
      }
     },
     "bebfd3f445924cc7bf1c0fc6f39e1bfc": {
      "model_module": "@jupyter-widgets/base",
      "model_module_version": "1.2.0",
      "model_name": "LayoutModel",
      "state": {}
     },
     "bfe2b978397c4c7189cfde256c70d1ad": {
      "model_module": "@jupyter-widgets/controls",
      "model_module_version": "1.5.0",
      "model_name": "HBoxModel",
      "state": {
       "children": [
        "IPY_MODEL_81d1b69a31094cf4b70d828c555c2641"
       ],
       "layout": "IPY_MODEL_1459b87eab0b45279ccc5ce196f271c7"
      }
     },
     "c04537ea2ab04bd3a76d3f279d2725f9": {
      "model_module": "@jupyter-widgets/base",
      "model_module_version": "1.2.0",
      "model_name": "LayoutModel",
      "state": {
       "align_items": "stretch",
       "border": "dashed 0.2px green",
       "display": "flex",
       "flex_flow": "row",
       "grid_auto_columns": "True",
       "justify_content": "flex-start",
       "width": "100%"
      }
     },
     "c063a0e31359451ba6ca0aba86515b8d": {
      "model_module": "@jupyter-widgets/controls",
      "model_module_version": "1.5.0",
      "model_name": "HBoxModel",
      "state": {
       "children": [
        "IPY_MODEL_0d678f4345a44082b2527b8011c42376",
        "IPY_MODEL_8e5fcd0520554f579504397680ece74e"
       ],
       "layout": "IPY_MODEL_2d46bff0ac9d46ce9d8b870f0d60f9df"
      }
     },
     "c0e3cba54a02462d81ca42acfd28390a": {
      "model_module": "@jupyter-widgets/controls",
      "model_module_version": "1.5.0",
      "model_name": "DescriptionStyleModel",
      "state": {
       "description_width": ""
      }
     },
     "c109a38e3a1c456e9d45ad73e6835d29": {
      "model_module": "@jupyter-widgets/controls",
      "model_module_version": "1.5.0",
      "model_name": "HBoxModel",
      "state": {
       "children": [
        "IPY_MODEL_c063a0e31359451ba6ca0aba86515b8d"
       ],
       "layout": "IPY_MODEL_d2b8841483aa45a5b19de9ab46687520"
      }
     },
     "c129cdfcd67f42f387912520f3e734d4": {
      "model_module": "@jupyter-widgets/base",
      "model_module_version": "1.2.0",
      "model_name": "LayoutModel",
      "state": {
       "align_items": "stretch",
       "display": "flex",
       "flex_flow": "row",
       "grid_auto_columns": "True",
       "justify_content": "flex-end",
       "width": "90%"
      }
     },
     "c150d75ad35f4f339f76335808202690": {
      "model_module": "@jupyter-widgets/controls",
      "model_module_version": "1.5.0",
      "model_name": "HTMLModel",
      "state": {
       "layout": "IPY_MODEL_90b64bc141c64568a70cc10e289acab9",
       "style": "IPY_MODEL_652c0fbd8acf47fe8c5967a81dfd438d",
       "value": "<p>reus foo ous oo ous foo st</p>"
      }
     },
     "c1640b81b1f64ef587620fa659108f28": {
      "model_module": "@jupyter-widgets/controls",
      "model_module_version": "1.5.0",
      "model_name": "DescriptionStyleModel",
      "state": {
       "description_width": ""
      }
     },
     "c22c6772498b4ab59cc34ca0f00da3a6": {
      "model_module": "@jupyter-widgets/controls",
      "model_module_version": "1.5.0",
      "model_name": "HTMLModel",
      "state": {
       "layout": "IPY_MODEL_2430e7efe34a4f24bd6c0fa062f40351",
       "style": "IPY_MODEL_6545c000fa354ebfab4bf3e43a1827dc",
       "value": "<p>foo</p>"
      }
     },
     "c2f345c55f494f55b8909f5b486564a5": {
      "model_module": "@jupyter-widgets/base",
      "model_module_version": "1.2.0",
      "model_name": "LayoutModel",
      "state": {}
     },
     "c32882aea3ad45989944f22df17241ee": {
      "model_module": "@jupyter-widgets/base",
      "model_module_version": "1.2.0",
      "model_name": "LayoutModel",
      "state": {
       "align_items": "stretch",
       "display": "flex",
       "flex_flow": "row",
       "grid_auto_columns": "True",
       "justify_content": "flex-end",
       "width": "90%"
      }
     },
     "c35e12fb3b2e468ab8b3c1bdd18855c9": {
      "model_module": "@jupyter-widgets/base",
      "model_module_version": "1.2.0",
      "model_name": "LayoutModel",
      "state": {
       "align_items": "stretch",
       "border": "dashed 0.2px green",
       "display": "flex",
       "flex_flow": "row",
       "grid_auto_columns": "True",
       "justify_content": "flex-start",
       "width": "100%"
      }
     },
     "c37f527ecf634773a35da5bf6c09f497": {
      "model_module": "@jupyter-widgets/base",
      "model_module_version": "1.2.0",
      "model_name": "LayoutModel",
      "state": {}
     },
     "c39b8d23eb6249b5af6bb16ab2aa959c": {
      "model_module": "@jupyter-widgets/output",
      "model_module_version": "1.0.0",
      "model_name": "OutputModel",
      "state": {
       "layout": "IPY_MODEL_09f34737b7a94de5b25aeb8290ffe1bd"
      }
     },
     "c3cae8eccbb44400b96c511374d5bd9f": {
      "model_module": "@jupyter-widgets/base",
      "model_module_version": "1.2.0",
      "model_name": "LayoutModel",
      "state": {
       "align_items": "stretch",
       "border": "dashed 0.2px green",
       "display": "flex",
       "flex_flow": "row",
       "grid_auto_columns": "True",
       "justify_content": "flex-start",
       "width": "100%"
      }
     },
     "c3f5ca77595a473eac1b9be3901b965a": {
      "model_module": "@jupyter-widgets/controls",
      "model_module_version": "1.5.0",
      "model_name": "DescriptionStyleModel",
      "state": {
       "description_width": ""
      }
     },
     "c44ae51be80045eba55440f87cb60e11": {
      "model_module": "@jupyter-widgets/controls",
      "model_module_version": "1.5.0",
      "model_name": "HBoxModel",
      "state": {
       "children": [
        "IPY_MODEL_9d03e037342649708ce5d498d60e69c3"
       ],
       "layout": "IPY_MODEL_aedc88e9663040f89b5798ec9c235eb0"
      }
     },
     "c460e0e09c2545398dbaf11b348750ef": {
      "model_module": "@jupyter-widgets/controls",
      "model_module_version": "1.5.0",
      "model_name": "HBoxModel",
      "state": {
       "children": [
        "IPY_MODEL_c150d75ad35f4f339f76335808202690",
        "IPY_MODEL_9196e3fddca245f896bc72f926d7141a"
       ],
       "layout": "IPY_MODEL_2cca8bfd4ae5451583e71ef3362be991"
      }
     },
     "c4c52e4394854136bb4e4b880d8e733d": {
      "model_module": "@jupyter-widgets/base",
      "model_module_version": "1.2.0",
      "model_name": "LayoutModel",
      "state": {}
     },
     "c4ca6967de6e40049bed52371f6c6916": {
      "model_module": "@jupyter-widgets/controls",
      "model_module_version": "1.5.0",
      "model_name": "DescriptionStyleModel",
      "state": {
       "description_width": ""
      }
     },
     "c4cd7df6cd2e47e5a4e052a1b37738db": {
      "model_module": "@jupyter-widgets/base",
      "model_module_version": "1.2.0",
      "model_name": "LayoutModel",
      "state": {}
     },
     "c5470dcf8dac460fb64214d043c75549": {
      "model_module": "@jupyter-widgets/controls",
      "model_module_version": "1.5.0",
      "model_name": "FloatTextModel",
      "state": {
       "layout": "IPY_MODEL_4dcc43a23ad948a989f35007f5966fa0",
       "step": null,
       "style": "IPY_MODEL_4894e0b3d9fd4cb8b9cccfac3d03973f",
       "value": 10
      }
     },
     "c578c5f37a574ec3a56ed2fb201b432b": {
      "model_module": "@jupyter-widgets/base",
      "model_module_version": "1.2.0",
      "model_name": "LayoutModel",
      "state": {
       "align_items": "stretch",
       "display": "flex",
       "flex_flow": "row",
       "grid_auto_columns": "True",
       "justify_content": "flex-end",
       "width": "90%"
      }
     },
     "c5caebc38a9f40d7844f26fc9ffdf78c": {
      "model_module": "@jupyter-widgets/controls",
      "model_module_version": "1.5.0",
      "model_name": "ToggleButtonModel",
      "state": {
       "layout": "IPY_MODEL_2bc5d078aa4d453387de6f5d074deafd",
       "style": "IPY_MODEL_b180046f5f4a40cd9b776cbebb672ba6"
      }
     },
     "c5d6992207d345b982139839e00ba215": {
      "model_module": "@jupyter-widgets/controls",
      "model_module_version": "1.5.0",
      "model_name": "HBoxModel",
      "state": {
       "children": [
        "IPY_MODEL_af3af4b75f0e4e889e7edd9a8fc4ef9a",
        "IPY_MODEL_2c845c8cdb3d4921917afab1862e7c1a"
       ],
       "layout": "IPY_MODEL_7e1c43d1d76747bfa05acf884ed83bac"
      }
     },
     "c6fc4fddb995490cb3f0be2c500423e7": {
      "model_module": "@jupyter-widgets/controls",
      "model_module_version": "1.5.0",
      "model_name": "ToggleButtonModel",
      "state": {
       "layout": "IPY_MODEL_443e4a06b7014bba84bda2692257b53a",
       "style": "IPY_MODEL_b11dde388ee448cdb26d66508eb0ed66"
      }
     },
     "c7526f05f7dd4aa6a7f836a4ba8db7cf": {
      "model_module": "@jupyter-widgets/controls",
      "model_module_version": "1.5.0",
      "model_name": "HBoxModel",
      "state": {
       "children": [
        "IPY_MODEL_c5d6992207d345b982139839e00ba215"
       ],
       "layout": "IPY_MODEL_a71383dc81d040208203dacead2504d8"
      }
     },
     "c779f167f90e4abd983c39bccf535224": {
      "model_module": "@jupyter-widgets/base",
      "model_module_version": "1.2.0",
      "model_name": "LayoutModel",
      "state": {
       "align_items": "stretch",
       "border": "dashed 0.2px green",
       "display": "flex",
       "flex_flow": "row",
       "grid_auto_columns": "True",
       "justify_content": "flex-start",
       "width": "100%"
      }
     },
     "c80733254c954fe793f53bc8f142216d": {
      "model_module": "@jupyter-widgets/controls",
      "model_module_version": "1.5.0",
      "model_name": "HBoxModel",
      "state": {
       "children": [
        "IPY_MODEL_fa2742191a8e4dc18493da3f779d7acf"
       ],
       "layout": "IPY_MODEL_2dfcec795eb2421fb5c9a1746a5431ae"
      }
     },
     "c839077db74b477aa8460664c8e7412b": {
      "model_module": "@jupyter-widgets/controls",
      "model_module_version": "1.5.0",
      "model_name": "HBoxModel",
      "state": {
       "children": [
        "IPY_MODEL_97063cecfb5245ad86ba54c688a90224",
        "IPY_MODEL_1f813917125642ff9750506a5549ccaa"
       ],
       "layout": "IPY_MODEL_d6763f6bea00420694435eb84611702f"
      }
     },
     "c8630526dceb46d88a71550207c6f874": {
      "model_module": "@jupyter-widgets/output",
      "model_module_version": "1.0.0",
      "model_name": "OutputModel",
      "state": {
       "layout": "IPY_MODEL_7a7b42e23fde42a5993ed950fe5789b4",
       "outputs": [
        {
         "ename": "FileNotFoundError",
         "evalue": "No such file or directory: 'C:\\engDev\\git_mf\\engDevSetup\\icons\\icon_png\\help-icon.png'",
         "output_type": "error",
         "traceback": [
          "\u001b[1;31m---------------------------------------------------------------------------\u001b[0m",
          "\u001b[1;31mTypeError\u001b[0m                                 Traceback (most recent call last)",
          "\u001b[1;32mC:\\ProgramData\\Miniconda3\\envs\\mf_main\\lib\\site-packages\\IPython\\core\\display.py\u001b[0m in \u001b[0;36m_data_and_metadata\u001b[1;34m(self, always_both)\u001b[0m\n\u001b[0;32m   1271\u001b[0m         \u001b[1;32mtry\u001b[0m\u001b[1;33m:\u001b[0m\u001b[1;33m\u001b[0m\u001b[1;33m\u001b[0m\u001b[0m\n\u001b[1;32m-> 1272\u001b[1;33m             \u001b[0mb64_data\u001b[0m \u001b[1;33m=\u001b[0m \u001b[0mb2a_base64\u001b[0m\u001b[1;33m(\u001b[0m\u001b[0mself\u001b[0m\u001b[1;33m.\u001b[0m\u001b[0mdata\u001b[0m\u001b[1;33m)\u001b[0m\u001b[1;33m.\u001b[0m\u001b[0mdecode\u001b[0m\u001b[1;33m(\u001b[0m\u001b[1;34m'ascii'\u001b[0m\u001b[1;33m)\u001b[0m\u001b[1;33m\u001b[0m\u001b[1;33m\u001b[0m\u001b[0m\n\u001b[0m\u001b[0;32m   1273\u001b[0m         \u001b[1;32mexcept\u001b[0m \u001b[0mTypeError\u001b[0m\u001b[1;33m:\u001b[0m\u001b[1;33m\u001b[0m\u001b[1;33m\u001b[0m\u001b[0m\n",
          "\u001b[1;31mTypeError\u001b[0m: a bytes-like object is required, not 'str'",
          "\nDuring handling of the above exception, another exception occurred:\n",
          "\u001b[1;31mFileNotFoundError\u001b[0m                         Traceback (most recent call last)",
          "\u001b[1;32mC:\\ProgramData\\Miniconda3\\envs\\mf_main\\lib\\site-packages\\IPython\\core\\formatters.py\u001b[0m in \u001b[0;36m__call__\u001b[1;34m(self, obj, include, exclude)\u001b[0m\n\u001b[0;32m    968\u001b[0m \u001b[1;33m\u001b[0m\u001b[0m\n\u001b[0;32m    969\u001b[0m             \u001b[1;32mif\u001b[0m \u001b[0mmethod\u001b[0m \u001b[1;32mis\u001b[0m \u001b[1;32mnot\u001b[0m \u001b[1;32mNone\u001b[0m\u001b[1;33m:\u001b[0m\u001b[1;33m\u001b[0m\u001b[1;33m\u001b[0m\u001b[0m\n\u001b[1;32m--> 970\u001b[1;33m                 \u001b[1;32mreturn\u001b[0m \u001b[0mmethod\u001b[0m\u001b[1;33m(\u001b[0m\u001b[0minclude\u001b[0m\u001b[1;33m=\u001b[0m\u001b[0minclude\u001b[0m\u001b[1;33m,\u001b[0m \u001b[0mexclude\u001b[0m\u001b[1;33m=\u001b[0m\u001b[0mexclude\u001b[0m\u001b[1;33m)\u001b[0m\u001b[1;33m\u001b[0m\u001b[1;33m\u001b[0m\u001b[0m\n\u001b[0m\u001b[0;32m    971\u001b[0m             \u001b[1;32mreturn\u001b[0m \u001b[1;32mNone\u001b[0m\u001b[1;33m\u001b[0m\u001b[1;33m\u001b[0m\u001b[0m\n\u001b[0;32m    972\u001b[0m         \u001b[1;32melse\u001b[0m\u001b[1;33m:\u001b[0m\u001b[1;33m\u001b[0m\u001b[1;33m\u001b[0m\u001b[0m\n",
          "\u001b[1;32mC:\\ProgramData\\Miniconda3\\envs\\mf_main\\lib\\site-packages\\IPython\\core\\display.py\u001b[0m in \u001b[0;36m_repr_mimebundle_\u001b[1;34m(self, include, exclude)\u001b[0m\n\u001b[0;32m   1260\u001b[0m         \u001b[1;32mif\u001b[0m \u001b[0mself\u001b[0m\u001b[1;33m.\u001b[0m\u001b[0membed\u001b[0m\u001b[1;33m:\u001b[0m\u001b[1;33m\u001b[0m\u001b[1;33m\u001b[0m\u001b[0m\n\u001b[0;32m   1261\u001b[0m             \u001b[0mmimetype\u001b[0m \u001b[1;33m=\u001b[0m \u001b[0mself\u001b[0m\u001b[1;33m.\u001b[0m\u001b[0m_mimetype\u001b[0m\u001b[1;33m\u001b[0m\u001b[1;33m\u001b[0m\u001b[0m\n\u001b[1;32m-> 1262\u001b[1;33m             \u001b[0mdata\u001b[0m\u001b[1;33m,\u001b[0m \u001b[0mmetadata\u001b[0m \u001b[1;33m=\u001b[0m \u001b[0mself\u001b[0m\u001b[1;33m.\u001b[0m\u001b[0m_data_and_metadata\u001b[0m\u001b[1;33m(\u001b[0m\u001b[0malways_both\u001b[0m\u001b[1;33m=\u001b[0m\u001b[1;32mTrue\u001b[0m\u001b[1;33m)\u001b[0m\u001b[1;33m\u001b[0m\u001b[1;33m\u001b[0m\u001b[0m\n\u001b[0m\u001b[0;32m   1263\u001b[0m             \u001b[1;32mif\u001b[0m \u001b[0mmetadata\u001b[0m\u001b[1;33m:\u001b[0m\u001b[1;33m\u001b[0m\u001b[1;33m\u001b[0m\u001b[0m\n\u001b[0;32m   1264\u001b[0m                 \u001b[0mmetadata\u001b[0m \u001b[1;33m=\u001b[0m \u001b[1;33m{\u001b[0m\u001b[0mmimetype\u001b[0m\u001b[1;33m:\u001b[0m \u001b[0mmetadata\u001b[0m\u001b[1;33m}\u001b[0m\u001b[1;33m\u001b[0m\u001b[1;33m\u001b[0m\u001b[0m\n",
          "\u001b[1;32mC:\\ProgramData\\Miniconda3\\envs\\mf_main\\lib\\site-packages\\IPython\\core\\display.py\u001b[0m in \u001b[0;36m_data_and_metadata\u001b[1;34m(self, always_both)\u001b[0m\n\u001b[0;32m   1273\u001b[0m         \u001b[1;32mexcept\u001b[0m \u001b[0mTypeError\u001b[0m\u001b[1;33m:\u001b[0m\u001b[1;33m\u001b[0m\u001b[1;33m\u001b[0m\u001b[0m\n\u001b[0;32m   1274\u001b[0m             raise FileNotFoundError(\n\u001b[1;32m-> 1275\u001b[1;33m                 \"No such file or directory: '%s'\" % (self.data))\n\u001b[0m\u001b[0;32m   1276\u001b[0m         \u001b[0mmd\u001b[0m \u001b[1;33m=\u001b[0m \u001b[1;33m{\u001b[0m\u001b[1;33m}\u001b[0m\u001b[1;33m\u001b[0m\u001b[1;33m\u001b[0m\u001b[0m\n\u001b[0;32m   1277\u001b[0m         \u001b[1;32mif\u001b[0m \u001b[0mself\u001b[0m\u001b[1;33m.\u001b[0m\u001b[0mmetadata\u001b[0m\u001b[1;33m:\u001b[0m\u001b[1;33m\u001b[0m\u001b[1;33m\u001b[0m\u001b[0m\n",
          "\u001b[1;31mFileNotFoundError\u001b[0m: No such file or directory: 'C:\\engDev\\git_mf\\engDevSetup\\icons\\icon_png\\help-icon.png'"
         ]
        },
        {
         "ename": "FileNotFoundError",
         "evalue": "No such file or directory: 'C:\\engDev\\git_mf\\engDevSetup\\icons\\icon_png\\help-icon.png'",
         "output_type": "error",
         "traceback": [
          "\u001b[1;31m---------------------------------------------------------------------------\u001b[0m",
          "\u001b[1;31mTypeError\u001b[0m                                 Traceback (most recent call last)",
          "\u001b[1;32mC:\\ProgramData\\Miniconda3\\envs\\mf_main\\lib\\site-packages\\IPython\\core\\display.py\u001b[0m in \u001b[0;36m_data_and_metadata\u001b[1;34m(self, always_both)\u001b[0m\n\u001b[0;32m   1271\u001b[0m         \u001b[1;32mtry\u001b[0m\u001b[1;33m:\u001b[0m\u001b[1;33m\u001b[0m\u001b[1;33m\u001b[0m\u001b[0m\n\u001b[1;32m-> 1272\u001b[1;33m             \u001b[0mb64_data\u001b[0m \u001b[1;33m=\u001b[0m \u001b[0mb2a_base64\u001b[0m\u001b[1;33m(\u001b[0m\u001b[0mself\u001b[0m\u001b[1;33m.\u001b[0m\u001b[0mdata\u001b[0m\u001b[1;33m)\u001b[0m\u001b[1;33m.\u001b[0m\u001b[0mdecode\u001b[0m\u001b[1;33m(\u001b[0m\u001b[1;34m'ascii'\u001b[0m\u001b[1;33m)\u001b[0m\u001b[1;33m\u001b[0m\u001b[1;33m\u001b[0m\u001b[0m\n\u001b[0m\u001b[0;32m   1273\u001b[0m         \u001b[1;32mexcept\u001b[0m \u001b[0mTypeError\u001b[0m\u001b[1;33m:\u001b[0m\u001b[1;33m\u001b[0m\u001b[1;33m\u001b[0m\u001b[0m\n",
          "\u001b[1;31mTypeError\u001b[0m: a bytes-like object is required, not 'str'",
          "\nDuring handling of the above exception, another exception occurred:\n",
          "\u001b[1;31mFileNotFoundError\u001b[0m                         Traceback (most recent call last)",
          "\u001b[1;32mC:\\ProgramData\\Miniconda3\\envs\\mf_main\\lib\\site-packages\\IPython\\core\\formatters.py\u001b[0m in \u001b[0;36m__call__\u001b[1;34m(self, obj)\u001b[0m\n\u001b[0;32m    343\u001b[0m             \u001b[0mmethod\u001b[0m \u001b[1;33m=\u001b[0m \u001b[0mget_real_method\u001b[0m\u001b[1;33m(\u001b[0m\u001b[0mobj\u001b[0m\u001b[1;33m,\u001b[0m \u001b[0mself\u001b[0m\u001b[1;33m.\u001b[0m\u001b[0mprint_method\u001b[0m\u001b[1;33m)\u001b[0m\u001b[1;33m\u001b[0m\u001b[1;33m\u001b[0m\u001b[0m\n\u001b[0;32m    344\u001b[0m             \u001b[1;32mif\u001b[0m \u001b[0mmethod\u001b[0m \u001b[1;32mis\u001b[0m \u001b[1;32mnot\u001b[0m \u001b[1;32mNone\u001b[0m\u001b[1;33m:\u001b[0m\u001b[1;33m\u001b[0m\u001b[1;33m\u001b[0m\u001b[0m\n\u001b[1;32m--> 345\u001b[1;33m                 \u001b[1;32mreturn\u001b[0m \u001b[0mmethod\u001b[0m\u001b[1;33m(\u001b[0m\u001b[1;33m)\u001b[0m\u001b[1;33m\u001b[0m\u001b[1;33m\u001b[0m\u001b[0m\n\u001b[0m\u001b[0;32m    346\u001b[0m             \u001b[1;32mreturn\u001b[0m \u001b[1;32mNone\u001b[0m\u001b[1;33m\u001b[0m\u001b[1;33m\u001b[0m\u001b[0m\n\u001b[0;32m    347\u001b[0m         \u001b[1;32melse\u001b[0m\u001b[1;33m:\u001b[0m\u001b[1;33m\u001b[0m\u001b[1;33m\u001b[0m\u001b[0m\n",
          "\u001b[1;32mC:\\ProgramData\\Miniconda3\\envs\\mf_main\\lib\\site-packages\\IPython\\core\\display.py\u001b[0m in \u001b[0;36m_repr_png_\u001b[1;34m(self)\u001b[0m\n\u001b[0;32m   1290\u001b[0m     \u001b[1;32mdef\u001b[0m \u001b[0m_repr_png_\u001b[0m\u001b[1;33m(\u001b[0m\u001b[0mself\u001b[0m\u001b[1;33m)\u001b[0m\u001b[1;33m:\u001b[0m\u001b[1;33m\u001b[0m\u001b[1;33m\u001b[0m\u001b[0m\n\u001b[0;32m   1291\u001b[0m         \u001b[1;32mif\u001b[0m \u001b[0mself\u001b[0m\u001b[1;33m.\u001b[0m\u001b[0membed\u001b[0m \u001b[1;32mand\u001b[0m \u001b[0mself\u001b[0m\u001b[1;33m.\u001b[0m\u001b[0mformat\u001b[0m \u001b[1;33m==\u001b[0m \u001b[0mself\u001b[0m\u001b[1;33m.\u001b[0m\u001b[0m_FMT_PNG\u001b[0m\u001b[1;33m:\u001b[0m\u001b[1;33m\u001b[0m\u001b[1;33m\u001b[0m\u001b[0m\n\u001b[1;32m-> 1292\u001b[1;33m             \u001b[1;32mreturn\u001b[0m \u001b[0mself\u001b[0m\u001b[1;33m.\u001b[0m\u001b[0m_data_and_metadata\u001b[0m\u001b[1;33m(\u001b[0m\u001b[1;33m)\u001b[0m\u001b[1;33m\u001b[0m\u001b[1;33m\u001b[0m\u001b[0m\n\u001b[0m\u001b[0;32m   1293\u001b[0m \u001b[1;33m\u001b[0m\u001b[0m\n\u001b[0;32m   1294\u001b[0m     \u001b[1;32mdef\u001b[0m \u001b[0m_repr_jpeg_\u001b[0m\u001b[1;33m(\u001b[0m\u001b[0mself\u001b[0m\u001b[1;33m)\u001b[0m\u001b[1;33m:\u001b[0m\u001b[1;33m\u001b[0m\u001b[1;33m\u001b[0m\u001b[0m\n",
          "\u001b[1;32mC:\\ProgramData\\Miniconda3\\envs\\mf_main\\lib\\site-packages\\IPython\\core\\display.py\u001b[0m in \u001b[0;36m_data_and_metadata\u001b[1;34m(self, always_both)\u001b[0m\n\u001b[0;32m   1273\u001b[0m         \u001b[1;32mexcept\u001b[0m \u001b[0mTypeError\u001b[0m\u001b[1;33m:\u001b[0m\u001b[1;33m\u001b[0m\u001b[1;33m\u001b[0m\u001b[0m\n\u001b[0;32m   1274\u001b[0m             raise FileNotFoundError(\n\u001b[1;32m-> 1275\u001b[1;33m                 \"No such file or directory: '%s'\" % (self.data))\n\u001b[0m\u001b[0;32m   1276\u001b[0m         \u001b[0mmd\u001b[0m \u001b[1;33m=\u001b[0m \u001b[1;33m{\u001b[0m\u001b[1;33m}\u001b[0m\u001b[1;33m\u001b[0m\u001b[1;33m\u001b[0m\u001b[0m\n\u001b[0;32m   1277\u001b[0m         \u001b[1;32mif\u001b[0m \u001b[0mself\u001b[0m\u001b[1;33m.\u001b[0m\u001b[0mmetadata\u001b[0m\u001b[1;33m:\u001b[0m\u001b[1;33m\u001b[0m\u001b[1;33m\u001b[0m\u001b[0m\n",
          "\u001b[1;31mFileNotFoundError\u001b[0m: No such file or directory: 'C:\\engDev\\git_mf\\engDevSetup\\icons\\icon_png\\help-icon.png'"
         ]
        },
        {
         "data": {
          "text/plain": "<IPython.core.display.Image object>"
         },
         "metadata": {},
         "output_type": "display_data"
        }
       ]
      }
     },
     "c8b722826b2d492e8d0535116f5f125e": {
      "model_module": "@jupyter-widgets/controls",
      "model_module_version": "1.5.0",
      "model_name": "HTMLModel",
      "state": {
       "layout": "IPY_MODEL_07397ff81b9e4efca79babf8d289c22f",
       "style": "IPY_MODEL_3ae33c1aef1a4efe9d7d20a78caa2e6a",
       "value": "<p>its a foo cake</p>"
      }
     },
     "c946b55c1aba407ea045b893d543d86e": {
      "model_module": "@jupyter-widgets/controls",
      "model_module_version": "1.5.0",
      "model_name": "HTMLModel",
      "state": {
       "layout": "IPY_MODEL_303d74074e14419ea6824a1d3a3a4c4e",
       "style": "IPY_MODEL_a0757c4cc70e42d7992b9072e9fd170f",
       "value": "<p>fus foo ous o</p>"
      }
     },
     "c9a2c83afa094345ad974463baced5d8": {
      "model_module": "@jupyter-widgets/controls",
      "model_module_version": "1.5.0",
      "model_name": "HTMLModel",
      "state": {
       "layout": "IPY_MODEL_2c3b7faea049414f8d8aa92cd5ef36b3",
       "style": "IPY_MODEL_bc901b65ce3d43db9469a86f4970760a",
       "value": "<p>its a foo cake</p>"
      }
     },
     "c9a4b39c0dc2424bb73839920fea56c8": {
      "model_module": "@jupyter-widgets/base",
      "model_module_version": "1.2.0",
      "model_name": "LayoutModel",
      "state": {
       "align_items": "stretch",
       "display": "flex",
       "flex_flow": "row",
       "grid_auto_columns": "True",
       "justify_content": "flex-end",
       "width": "90%"
      }
     },
     "c9df4cad163040088123fa1981453cff": {
      "model_module": "@jupyter-widgets/controls",
      "model_module_version": "1.5.0",
      "model_name": "DescriptionStyleModel",
      "state": {
       "description_width": ""
      }
     },
     "ca5d80b24844447eb38079e70eb38209": {
      "model_module": "@jupyter-widgets/controls",
      "model_module_version": "1.5.0",
      "model_name": "HBoxModel",
      "state": {
       "children": [
        "IPY_MODEL_feaf1a6e43e3411596514e3adf1ac78c",
        "IPY_MODEL_d8341458116e49d1bc1166de74b2e6a6"
       ],
       "layout": "IPY_MODEL_2d3b62a413f84897bf23ba6de55a6bcd"
      }
     },
     "ca607ca9095640a7acfd8329bf4e9880": {
      "model_module": "@jupyter-widgets/controls",
      "model_module_version": "1.5.0",
      "model_name": "HTMLModel",
      "state": {
       "layout": "IPY_MODEL_6eeb85deb7d04b0491a47fc54582623e",
       "style": "IPY_MODEL_2df07537c6054dd191ca91183536094b",
       "value": "<p>its a foo cake</p>"
      }
     },
     "ca7934f9c69d4743b8d1bc7a134e34da": {
      "model_module": "@jupyter-widgets/controls",
      "model_module_version": "1.5.0",
      "model_name": "HBoxModel",
      "state": {
       "children": [
        "IPY_MODEL_b07c4a1b676f46699d99d650c7e6b207",
        "IPY_MODEL_2d8ff60887c148d180467c69671f7bc9"
       ],
       "layout": "IPY_MODEL_b0c3ff1fbbed4ba88e68f72d4b2d6ab3"
      }
     },
     "cac7d6fa5e5d4f37ab0b7989cec86b8a": {
      "model_module": "@jupyter-widgets/controls",
      "model_module_version": "1.5.0",
      "model_name": "ToggleButtonModel",
      "state": {
       "layout": "IPY_MODEL_109682c82e6c446f92f4797d5b725260",
       "style": "IPY_MODEL_2c962f82c525488e823b72a0c89d59c3"
      }
     },
     "caf55805cb60449bbcab54fd0c440c14": {
      "model_module": "@jupyter-widgets/controls",
      "model_module_version": "1.5.0",
      "model_name": "DescriptionStyleModel",
      "state": {
       "description_width": ""
      }
     },
     "cb220ac9a58e4e9cba247d20ebca715d": {
      "model_module": "@jupyter-widgets/controls",
      "model_module_version": "1.5.0",
      "model_name": "DescriptionStyleModel",
      "state": {
       "description_width": ""
      }
     },
     "cbabb305ad8448e4b5ed951c3065c4c1": {
      "model_module": "@jupyter-widgets/base",
      "model_module_version": "1.2.0",
      "model_name": "LayoutModel",
      "state": {}
     },
     "cc160a4ec17c42e3ad0f27851840b3a5": {
      "model_module": "@jupyter-widgets/base",
      "model_module_version": "1.2.0",
      "model_name": "LayoutModel",
      "state": {
       "align_items": "stretch",
       "display": "flex",
       "flex_flow": "row",
       "grid_auto_columns": "True",
       "justify_content": "flex-start",
       "width": "80%"
      }
     },
     "cc94729b5e9b42508425504f9ada62d5": {
      "model_module": "@jupyter-widgets/controls",
      "model_module_version": "1.5.0",
      "model_name": "SelectMultipleModel",
      "state": {
       "_options_labels": [
        "asfd",
        "10",
        "asdf"
       ],
       "index": [
        1
       ],
       "layout": "IPY_MODEL_7c35e01cdbe24547a419c9cb76d1504d",
       "rows": 5,
       "style": "IPY_MODEL_e3d156af1bce4ff4afb62d353fdf0736"
      }
     },
     "cd1bd02b25df4b249e1474f074cfe95c": {
      "model_module": "@jupyter-widgets/controls",
      "model_module_version": "1.5.0",
      "model_name": "HTMLModel",
      "state": {
       "layout": "IPY_MODEL_9eeaab26b589441181ccbd9c5fa03b21",
       "style": "IPY_MODEL_fc45cf51e114443f8908be9e36a18d5b",
       "value": "<p>reous foo ous foo st</p>"
      }
     },
     "cd29a87bebc44bb092f893b4fc7c1e95": {
      "model_module": "@jupyter-widgets/base",
      "model_module_version": "1.2.0",
      "model_name": "LayoutModel",
      "state": {}
     },
     "cd3e96151070495ea863d8313071bf24": {
      "model_module": "@jupyter-widgets/controls",
      "model_module_version": "1.5.0",
      "model_name": "TextareaModel",
      "state": {
       "layout": "IPY_MODEL_faa9cf388a15444aac8c8a5f99617cb7",
       "style": "IPY_MODEL_b184e0a3bd1443459d342fe4201ab883",
       "value": "This is a very long text areas string that needs a bigger box to fit all of hte verbose nonsense"
      }
     },
     "cddb8b1e99114280b53f68dd6a97b2b1": {
      "model_module": "@jupyter-widgets/base",
      "model_module_version": "1.2.0",
      "model_name": "LayoutModel",
      "state": {}
     },
     "cde56dbc218f4fba991defc8ecf46fc3": {
      "model_module": "@jupyter-widgets/controls",
      "model_module_version": "1.5.0",
      "model_name": "DescriptionStyleModel",
      "state": {
       "description_width": ""
      }
     },
     "ced52515328f43aca769ebf1aec6689b": {
      "model_module": "@jupyter-widgets/controls",
      "model_module_version": "1.5.0",
      "model_name": "DescriptionStyleModel",
      "state": {
       "description_width": ""
      }
     },
     "cf289b388c1641699a5d79cc39d20de5": {
      "model_module": "@jupyter-widgets/controls",
      "model_module_version": "1.5.0",
      "model_name": "HTMLModel",
      "state": {
       "layout": "IPY_MODEL_bc52411046f34fc9be9c352de1ba5f94",
       "style": "IPY_MODEL_3aaaafc5e5fc404280280e8cbcdcdb54",
       "value": "<p>fus foo ous o</p>"
      }
     },
     "cf71310960a04a4b8b2b31a2633c6a31": {
      "model_module": "@jupyter-widgets/controls",
      "model_module_version": "1.5.0",
      "model_name": "DescriptionStyleModel",
      "state": {
       "description_width": ""
      }
     },
     "cf7899cf39b848d390a0ce0eb65f5bc9": {
      "model_module": "ipysheet",
      "model_module_version": "~0.4.4",
      "model_name": "CellRangeModel",
      "state": {
       "_view_module": null,
       "_view_module_version": "",
       "choice": [],
       "column_end": 5,
       "column_start": 5,
       "numeric_format": null,
       "row_end": 3,
       "row_start": 0,
       "squeeze_row": false,
       "type": "text",
       "value": [
        "<class 'str'>",
        "<class 'NoneType'>",
        "<class 'NoneType'>",
        "<class 'NoneType'>"
       ]
      }
     },
     "d009b17310a34338a1847a3e2d8ca48b": {
      "model_module": "@jupyter-widgets/base",
      "model_module_version": "1.2.0",
      "model_name": "LayoutModel",
      "state": {}
     },
     "d037125d7a3f4023b5462ed8fe90cb1d": {
      "model_module": "@jupyter-widgets/controls",
      "model_module_version": "1.5.0",
      "model_name": "HTMLModel",
      "state": {
       "layout": "IPY_MODEL_560d5275707d4d8bae3d02d813f03c09",
       "style": "IPY_MODEL_c9df4cad163040088123fa1981453cff",
       "value": "<p>name</p>"
      }
     },
     "d04d6c3315394808bb44bd063ee08d80": {
      "model_module": "@jupyter-widgets/output",
      "model_module_version": "1.0.0",
      "model_name": "OutputModel",
      "state": {
       "layout": "IPY_MODEL_bc7e48c0988446279f7acf1a804950eb"
      }
     },
     "d0a9c4c6670b4fa5b71e71a270fe2fcb": {
      "model_module": "@jupyter-widgets/controls",
      "model_module_version": "1.5.0",
      "model_name": "ButtonModel",
      "state": {
       "description": "save",
       "layout": "IPY_MODEL_855cf5a4b29c41a9acf10d4e0afdb3bb",
       "style": "IPY_MODEL_4e6a2dadefd9402ebf1047bd57a85cce"
      }
     },
     "d1c31561ed9640c19f536eab9d9aa084": {
      "model_module": "@jupyter-widgets/controls",
      "model_module_version": "1.5.0",
      "model_name": "HBoxModel",
      "state": {
       "children": [
        "IPY_MODEL_681e0457ec604e51a61b63a8f01f49ad"
       ],
       "layout": "IPY_MODEL_c779f167f90e4abd983c39bccf535224"
      }
     },
     "d1cc67c6869d4ee4b843a183f8571c1a": {
      "model_module": "@jupyter-widgets/base",
      "model_module_version": "1.2.0",
      "model_name": "LayoutModel",
      "state": {
       "align_items": "stretch",
       "border": "dashed 0.2px green",
       "display": "flex",
       "flex_flow": "row",
       "grid_auto_columns": "True",
       "justify_content": "flex-start",
       "width": "100%"
      }
     },
     "d1f325c2b50445f1b99a4610ea9c3beb": {
      "model_module": "@jupyter-widgets/controls",
      "model_module_version": "1.5.0",
      "model_name": "SliderStyleModel",
      "state": {
       "description_width": ""
      }
     },
     "d24d7ad2b5794f71b1f0a85fafe4aa4c": {
      "model_module": "@jupyter-widgets/controls",
      "model_module_version": "1.5.0",
      "model_name": "HTMLModel",
      "state": {
       "layout": "IPY_MODEL_a70c05eeb2c64d5aaa268a23dc735b6f",
       "style": "IPY_MODEL_700cd92570434ba98e3a74b127db59c7",
       "value": "<p>its a foo cake</p>"
      }
     },
     "d2780c863b444a528abf976097725f26": {
      "model_module": "@jupyter-widgets/controls",
      "model_module_version": "1.5.0",
      "model_name": "HBoxModel",
      "state": {
       "children": [
        "IPY_MODEL_7b945039c5c1409bb3079bcc7da266ed"
       ],
       "layout": "IPY_MODEL_c3cae8eccbb44400b96c511374d5bd9f"
      }
     },
     "d27bb6b02c2b4a598809f389df536163": {
      "model_module": "@jupyter-widgets/controls",
      "model_module_version": "1.5.0",
      "model_name": "HTMLModel",
      "state": {
       "layout": "IPY_MODEL_39e2c60d77f24ddfa4f25e93152c47bd",
       "style": "IPY_MODEL_323b49c069934f0e807cef113ca31e8f",
       "value": "<p>foo</p>"
      }
     },
     "d2ab6353f0244d54b572efd3b61c910a": {
      "model_module": "@jupyter-widgets/controls",
      "model_module_version": "1.5.0",
      "model_name": "DescriptionStyleModel",
      "state": {
       "description_width": ""
      }
     },
     "d2b8841483aa45a5b19de9ab46687520": {
      "model_module": "@jupyter-widgets/base",
      "model_module_version": "1.2.0",
      "model_name": "LayoutModel",
      "state": {
       "align_items": "stretch",
       "border": "dashed 0.2px green",
       "display": "flex",
       "flex_flow": "row",
       "grid_auto_columns": "True",
       "justify_content": "flex-start",
       "width": "100%"
      }
     },
     "d2b8c164ab164f79b37b759531991d89": {
      "model_module": "@jupyter-widgets/base",
      "model_module_version": "1.2.0",
      "model_name": "LayoutModel",
      "state": {}
     },
     "d311d86677ff46f1bdda89e99aafb5b6": {
      "model_module": "@jupyter-widgets/base",
      "model_module_version": "1.2.0",
      "model_name": "LayoutModel",
      "state": {
       "align_items": "stretch",
       "display": "flex",
       "flex_flow": "row",
       "grid_auto_columns": "True",
       "justify_content": "flex-end",
       "width": "90%"
      }
     },
     "d4092db8ed9c473982e8c161c8de3957": {
      "model_module": "@jupyter-widgets/controls",
      "model_module_version": "1.5.0",
      "model_name": "HBoxModel",
      "state": {
       "children": [
        "IPY_MODEL_2cf4c4224d89437d889e7e778e0a6819",
        "IPY_MODEL_15b2b0d71bc2474ea406eec8afc0df7e"
       ],
       "layout": "IPY_MODEL_5ce3416b6cb84d6f86900ce4ddcfe29d"
      }
     },
     "d556960b645a4231865358ee9085e17f": {
      "model_module": "@jupyter-widgets/controls",
      "model_module_version": "1.5.0",
      "model_name": "DescriptionStyleModel",
      "state": {
       "description_width": ""
      }
     },
     "d572d732ead14c6391d4deb6bd1d39f0": {
      "model_module": "@jupyter-widgets/controls",
      "model_module_version": "1.5.0",
      "model_name": "HTMLModel",
      "state": {
       "layout": "IPY_MODEL_cbabb305ad8448e4b5ed951c3065c4c1",
       "style": "IPY_MODEL_b1b445989c2644cdbf1da644e77787ac",
       "value": "<p>foo</p>"
      }
     },
     "d64952d76990495e810a851bf4d3e391": {
      "model_module": "@jupyter-widgets/controls",
      "model_module_version": "1.5.0",
      "model_name": "DescriptionStyleModel",
      "state": {
       "description_width": ""
      }
     },
     "d64c650c6c484c3bb144685ef5a210fd": {
      "model_module": "@jupyter-widgets/output",
      "model_module_version": "1.0.0",
      "model_name": "OutputModel",
      "state": {
       "layout": "IPY_MODEL_79f627b54ad2474eb2f50a54336379cb"
      }
     },
     "d65e772db0a943d082722e3111c93143": {
      "model_module": "@jupyter-widgets/controls",
      "model_module_version": "1.5.0",
      "model_name": "HBoxModel",
      "state": {
       "children": [
        "IPY_MODEL_c5470dcf8dac460fb64214d043c75549",
        "IPY_MODEL_62acd9c599044762af52418c80430f3d"
       ],
       "layout": "IPY_MODEL_32d40578b9ad40758dfce708ba20fa05"
      }
     },
     "d6763f6bea00420694435eb84611702f": {
      "model_module": "@jupyter-widgets/base",
      "model_module_version": "1.2.0",
      "model_name": "LayoutModel",
      "state": {
       "align_items": "stretch",
       "border": "dashed 0.2px green",
       "display": "flex",
       "flex_flow": "row",
       "grid_auto_columns": "True",
       "justify_content": "flex-start",
       "width": "100%"
      }
     },
     "d71e41c2c1584d2793d29142d8f48c8c": {
      "model_module": "@jupyter-widgets/controls",
      "model_module_version": "1.5.0",
      "model_name": "FloatTextModel",
      "state": {
       "layout": "IPY_MODEL_724e50bda7a64fc5849fde5bc313735a",
       "step": null,
       "style": "IPY_MODEL_a03072b6f72f425590702ec3a4e3d113",
       "value": 10
      }
     },
     "d72c6ca5e6e94986b2ad6b8d97e3f9c5": {
      "model_module": "@jupyter-widgets/controls",
      "model_module_version": "1.5.0",
      "model_name": "DescriptionStyleModel",
      "state": {
       "description_width": ""
      }
     },
     "d730d9dc00d642c18dd8808ca93eb00b": {
      "model_module": "@jupyter-widgets/base",
      "model_module_version": "1.2.0",
      "model_name": "LayoutModel",
      "state": {}
     },
     "d7522e8dec8643dbbc4b668e6cc18971": {
      "model_module": "@jupyter-widgets/controls",
      "model_module_version": "1.5.0",
      "model_name": "DescriptionStyleModel",
      "state": {
       "description_width": ""
      }
     },
     "d77655a2949b4f20a7d361f279b60493": {
      "model_module": "@jupyter-widgets/controls",
      "model_module_version": "1.5.0",
      "model_name": "DescriptionStyleModel",
      "state": {
       "description_width": ""
      }
     },
     "d823f25ba34e4d04a789a8df0fa92463": {
      "model_module": "@jupyter-widgets/base",
      "model_module_version": "1.2.0",
      "model_name": "LayoutModel",
      "state": {}
     },
     "d828868ed2ca4ac7b0c77e7c605ecddf": {
      "model_module": "@jupyter-widgets/base",
      "model_module_version": "1.2.0",
      "model_name": "LayoutModel",
      "state": {}
     },
     "d8341458116e49d1bc1166de74b2e6a6": {
      "model_module": "@jupyter-widgets/controls",
      "model_module_version": "1.5.0",
      "model_name": "ToggleButtonModel",
      "state": {
       "description": "help",
       "icon": "fa-question-circle",
       "layout": "IPY_MODEL_04e47af4fc794555a8288bb1a308845b",
       "style": "IPY_MODEL_4f80601cdb804d0ba4786169d2a2106f",
       "tooltip": "gives guidance"
      }
     },
     "d8a47ecf49db4535bb4ad77687e9a018": {
      "model_module": "@jupyter-widgets/controls",
      "model_module_version": "1.5.0",
      "model_name": "FloatTextModel",
      "state": {
       "layout": "IPY_MODEL_73645904d4b946ae9428982bc96157df",
       "step": null,
       "style": "IPY_MODEL_26303777d7dd4b0ba3cf635ce60e10c3",
       "value": 10
      }
     },
     "d8c6523b10e54ca68d9aa138c6738e5f": {
      "model_module": "@jupyter-widgets/base",
      "model_module_version": "1.2.0",
      "model_name": "LayoutModel",
      "state": {
       "align_items": "stretch",
       "display": "flex",
       "flex_flow": "row",
       "grid_auto_columns": "True",
       "justify_content": "flex-end",
       "width": "90%"
      }
     },
     "da03e33df47f4b578fce495060b4c552": {
      "model_module": "@jupyter-widgets/controls",
      "model_module_version": "1.5.0",
      "model_name": "HTMLModel",
      "state": {
       "layout": "IPY_MODEL_b6a2c0bed2bf4ded80db3064edff90fe",
       "style": "IPY_MODEL_9488f8b6c7de4e15a92dbdbfa8b3bed8",
       "value": "<p>name</p>"
      }
     },
     "da046ceb35864ba0a8d3c5c78e9aaa0f": {
      "model_module": "@jupyter-widgets/controls",
      "model_module_version": "1.5.0",
      "model_name": "DescriptionStyleModel",
      "state": {
       "description_width": ""
      }
     },
     "da300c3205dd4e73832ec26113ebb799": {
      "model_module": "@jupyter-widgets/controls",
      "model_module_version": "1.5.0",
      "model_name": "FloatTextModel",
      "state": {
       "layout": "IPY_MODEL_0a270f2ff2854ac2b31147537df05079",
       "step": null,
       "style": "IPY_MODEL_d2ab6353f0244d54b572efd3b61c910a",
       "value": 10
      }
     },
     "da38ae9824bf41999c331c5751481aa4": {
      "model_module": "@jupyter-widgets/base",
      "model_module_version": "1.2.0",
      "model_name": "LayoutModel",
      "state": {}
     },
     "da4738da30cc47e38a1427a207042726": {
      "model_module": "@jupyter-widgets/controls",
      "model_module_version": "1.5.0",
      "model_name": "HTMLModel",
      "state": {
       "layout": "IPY_MODEL_25a5fcef1adf405ca32be92dff0ea627",
       "style": "IPY_MODEL_4e1713d8adfb4aa5b90a8e82f3727a3e",
       "value": "<p>its a foo cake</p>"
      }
     },
     "da4bb1c31bc344808f38f2438da955ac": {
      "model_module": "@jupyter-widgets/base",
      "model_module_version": "1.2.0",
      "model_name": "LayoutModel",
      "state": {
       "align_items": "stretch",
       "border": "dashed 0.2px green",
       "display": "flex",
       "flex_flow": "row",
       "grid_auto_columns": "True",
       "justify_content": "flex-start",
       "width": "100%"
      }
     },
     "da600520a7a4476784699c35fd406c7d": {
      "model_module": "@jupyter-widgets/controls",
      "model_module_version": "1.5.0",
      "model_name": "ToggleButtonModel",
      "state": {
       "description": "help",
       "icon": "fa-question-circle",
       "layout": "IPY_MODEL_54b4ecf8c5ac43a2979b3cd54114480e",
       "style": "IPY_MODEL_ada7b032cbb34671b896f7c0e37ca1ea",
       "tooltip": "gives guidance"
      }
     },
     "da9e79d217b3451d8617cb38df5acfb7": {
      "model_module": "@jupyter-widgets/controls",
      "model_module_version": "1.5.0",
      "model_name": "DescriptionStyleModel",
      "state": {
       "description_width": ""
      }
     },
     "db5c832942704181a6fa223fe7111c1f": {
      "model_module": "@jupyter-widgets/controls",
      "model_module_version": "1.5.0",
      "model_name": "HTMLModel",
      "state": {
       "layout": "IPY_MODEL_ab56cfd167404c89856d5eb56a00e791",
       "style": "IPY_MODEL_36e27ef013a8489fa3ee6d8e3208e588",
       "value": "<p>foo</p>"
      }
     },
     "db7dd73c04674ff2a9351c0f05678a9f": {
      "model_module": "@jupyter-widgets/controls",
      "model_module_version": "1.5.0",
      "model_name": "DescriptionStyleModel",
      "state": {
       "description_width": ""
      }
     },
     "dc93cb6b902840aaae689b94e54bb725": {
      "model_module": "@jupyter-widgets/base",
      "model_module_version": "1.2.0",
      "model_name": "LayoutModel",
      "state": {}
     },
     "dca649bf9e094b3b86724dbea853659d": {
      "model_module": "@jupyter-widgets/controls",
      "model_module_version": "1.5.0",
      "model_name": "HTMLModel",
      "state": {
       "layout": "IPY_MODEL_281a79e8f2fb4166a3e8691f0b75236a",
       "style": "IPY_MODEL_648c750fc34c46c8a2250f482234aec5",
       "value": "<p>name</p>"
      }
     },
     "dd610e1831ff435483f7199a52b1cd88": {
      "model_module": "@jupyter-widgets/base",
      "model_module_version": "1.2.0",
      "model_name": "LayoutModel",
      "state": {}
     },
     "dd87d273561d42b19385365411244fb2": {
      "model_module": "@jupyter-widgets/controls",
      "model_module_version": "1.5.0",
      "model_name": "DescriptionStyleModel",
      "state": {
       "description_width": ""
      }
     },
     "de5d11cb2feb4b489ef538931690c580": {
      "model_module": "@jupyter-widgets/controls",
      "model_module_version": "1.5.0",
      "model_name": "HTMLModel",
      "state": {
       "layout": "IPY_MODEL_32ee07ae22ab4641b71d81ce115d63bc",
       "style": "IPY_MODEL_e9641996fcf041afa0e396f337483e83",
       "value": "<p>its a foo cake</p>"
      }
     },
     "dea55ffe038645bf8cd96108565b408c": {
      "model_module": "@jupyter-widgets/base",
      "model_module_version": "1.2.0",
      "model_name": "LayoutModel",
      "state": {
       "align_items": "stretch",
       "border": "dashed 0.2px green",
       "display": "flex",
       "flex_flow": "row",
       "grid_auto_columns": "True",
       "justify_content": "flex-start",
       "width": "100%"
      }
     },
     "dea933d0375348a4bdacda9f09f2f7df": {
      "model_module": "@jupyter-widgets/base",
      "model_module_version": "1.2.0",
      "model_name": "LayoutModel",
      "state": {
       "width": "5%"
      }
     },
     "df45936d0d0a4eba84df5f79bef1d94a": {
      "model_module": "@jupyter-widgets/controls",
      "model_module_version": "1.5.0",
      "model_name": "TextareaModel",
      "state": {
       "layout": "IPY_MODEL_a0d4efd75d9046608bae51c24d7ae0dc",
       "style": "IPY_MODEL_4d4029ad5cf144288928c78da7895f51",
       "value": "This is a very long text areas string that needs a bigger box to fit all of hte verbose nonsense"
      }
     },
     "dfd3aeb5180a4642b72833f7ca4feeaa": {
      "model_module": "@jupyter-widgets/controls",
      "model_module_version": "1.5.0",
      "model_name": "HBoxModel",
      "state": {
       "children": [
        "IPY_MODEL_fcba7a92626a4362ba787b199213d56d"
       ],
       "layout": "IPY_MODEL_a933dcee65ff44318df28c5861a1f40d"
      }
     },
     "dfd73c0fcbed43e2b080d4a1345049d3": {
      "model_module": "@jupyter-widgets/base",
      "model_module_version": "1.2.0",
      "model_name": "LayoutModel",
      "state": {}
     },
     "e0e6160644514c45a42e4319076f2e14": {
      "model_module": "@jupyter-widgets/output",
      "model_module_version": "1.0.0",
      "model_name": "OutputModel",
      "state": {
       "layout": "IPY_MODEL_b984d60342134ee7b69b5e5d7f779c36"
      }
     },
     "e273a79fd2af4fb2894fa37acd13239c": {
      "model_module": "@jupyter-widgets/controls",
      "model_module_version": "1.5.0",
      "model_name": "DescriptionStyleModel",
      "state": {
       "description_width": ""
      }
     },
     "e30ecaba1c3d42d88cab46de25b72650": {
      "model_module": "@jupyter-widgets/controls",
      "model_module_version": "1.5.0",
      "model_name": "HBoxModel",
      "state": {
       "children": [
        "IPY_MODEL_dca649bf9e094b3b86724dbea853659d",
        "IPY_MODEL_60e95b7c648d40d089f850f10a15f2b0"
       ],
       "layout": "IPY_MODEL_c9a4b39c0dc2424bb73839920fea56c8"
      }
     },
     "e316ab1d2554481a96cb55d366bdd851": {
      "model_module": "@jupyter-widgets/controls",
      "model_module_version": "1.5.0",
      "model_name": "SliderStyleModel",
      "state": {
       "description_width": ""
      }
     },
     "e3c048c3e719494fa72842a096dd14e7": {
      "model_module": "@jupyter-widgets/base",
      "model_module_version": "1.2.0",
      "model_name": "LayoutModel",
      "state": {}
     },
     "e3cb0f997c9c4fd18be7627501dbfa9d": {
      "model_module": "@jupyter-widgets/controls",
      "model_module_version": "1.5.0",
      "model_name": "HTMLModel",
      "state": {
       "layout": "IPY_MODEL_b395b922a44e4eddb9c89ce25f3ad024",
       "style": "IPY_MODEL_bcdf52eab94c4fb99129410265675b4e",
       "value": "<p>label</p>"
      }
     },
     "e3d156af1bce4ff4afb62d353fdf0736": {
      "model_module": "@jupyter-widgets/controls",
      "model_module_version": "1.5.0",
      "model_name": "DescriptionStyleModel",
      "state": {
       "description_width": ""
      }
     },
     "e51bfb804e7e4abc8916384da41a2df6": {
      "model_module": "@jupyter-widgets/base",
      "model_module_version": "1.2.0",
      "model_name": "LayoutModel",
      "state": {}
     },
     "e580cb015d844206856e862b0689eb1b": {
      "model_module": "@jupyter-widgets/controls",
      "model_module_version": "1.5.0",
      "model_name": "HTMLModel",
      "state": {
       "layout": "IPY_MODEL_9907f48c054e4b6e9ad889dee230ceeb",
       "style": "IPY_MODEL_27d49008740f4229ac29a3a3b2c4ecc7",
       "value": "<p>reous foo ous foo st</p>"
      }
     },
     "e62d8fbc52be4cc99a02526bcaadbc39": {
      "model_module": "@jupyter-widgets/controls",
      "model_module_version": "1.5.0",
      "model_name": "DescriptionStyleModel",
      "state": {
       "description_width": ""
      }
     },
     "e6a9de43d594420fb9d08c6f59167cff": {
      "model_module": "@jupyter-widgets/controls",
      "model_module_version": "1.5.0",
      "model_name": "HBoxModel",
      "state": {
       "children": [
        "IPY_MODEL_505ebaaefb2f4320a398c7a058d5c990",
        "IPY_MODEL_89a52fbe6f324e36a17b64e02b0ce32c"
       ],
       "layout": "IPY_MODEL_72c8007c6e474771bd38dc5c09729a84"
      }
     },
     "e6cc6453ec604b9995b11c1523fb076f": {
      "model_module": "@jupyter-widgets/output",
      "model_module_version": "1.0.0",
      "model_name": "OutputModel",
      "state": {
       "layout": "IPY_MODEL_5f4edde2588e44f6a181f4cbd7cd1365"
      }
     },
     "e6d075c982414150afc5c81e58a8505c": {
      "model_module": "@jupyter-widgets/base",
      "model_module_version": "1.2.0",
      "model_name": "LayoutModel",
      "state": {}
     },
     "e71afdd0e8a64ddb94a104b8971fce5f": {
      "model_module": "@jupyter-widgets/controls",
      "model_module_version": "1.5.0",
      "model_name": "HTMLModel",
      "state": {
       "layout": "IPY_MODEL_30badfef1ace42e899347d319e0c6fcf",
       "style": "IPY_MODEL_7c5d5e4e41f4404fbee95e7f8b20b4f6",
       "value": "<p>foo</p>"
      }
     },
     "e8e2a8833fc64b0f80e6580ac3df2513": {
      "model_module": "@jupyter-widgets/controls",
      "model_module_version": "1.5.0",
      "model_name": "HTMLModel",
      "state": {
       "layout": "IPY_MODEL_0dfb5e243a6240ff8b901aff65646599",
       "style": "IPY_MODEL_1254f8f07746442dba83175afad59d5e",
       "value": "<p>fus foo ous o</p>"
      }
     },
     "e90382fc4fc0494ca73e71a81e41d132": {
      "model_module": "@jupyter-widgets/base",
      "model_module_version": "1.2.0",
      "model_name": "LayoutModel",
      "state": {
       "align_items": "stretch",
       "display": "flex",
       "flex_flow": "row",
       "grid_auto_columns": "True",
       "justify_content": "flex-start",
       "width": "80%"
      }
     },
     "e9641996fcf041afa0e396f337483e83": {
      "model_module": "@jupyter-widgets/controls",
      "model_module_version": "1.5.0",
      "model_name": "DescriptionStyleModel",
      "state": {
       "description_width": ""
      }
     },
     "e9d6f78f918d48bdbe7af03d6e4e7b85": {
      "model_module": "@jupyter-widgets/base",
      "model_module_version": "1.2.0",
      "model_name": "LayoutModel",
      "state": {}
     },
     "ea04c63d049f4c958bfcd99cd6afd581": {
      "model_module": "@jupyter-widgets/controls",
      "model_module_version": "1.5.0",
      "model_name": "HTMLModel",
      "state": {
       "layout": "IPY_MODEL_8919a90348dd4990b425008910546e8b",
       "style": "IPY_MODEL_8bcdc6ad64d4426f828adfda178eb4ba",
       "value": "<p>reous foo ous foo st</p>"
      }
     },
     "eaba0228af9c47f699a9f1f849cba6c5": {
      "model_module": "@jupyter-widgets/base",
      "model_module_version": "1.2.0",
      "model_name": "LayoutModel",
      "state": {
       "align_items": "stretch",
       "border": "dashed 0.2px green",
       "display": "flex",
       "flex_flow": "row",
       "grid_auto_columns": "True",
       "justify_content": "flex-start",
       "width": "100%"
      }
     },
     "eac29e1941044384a73ff55f1b04b153": {
      "model_module": "@jupyter-widgets/controls",
      "model_module_version": "1.5.0",
      "model_name": "HTMLModel",
      "state": {
       "layout": "IPY_MODEL_6ab17b8a0ff846199639518530b33b19",
       "style": "IPY_MODEL_45860fe9082f430882e09baace5e9e41",
       "value": "<p>foo</p>"
      }
     },
     "ead30e40ea164e5a8279eedaa6cde634": {
      "model_module": "@jupyter-widgets/controls",
      "model_module_version": "1.5.0",
      "model_name": "ButtonStyleModel",
      "state": {}
     },
     "eaefdc430126452cbeba9036c75c247e": {
      "model_module": "@jupyter-widgets/output",
      "model_module_version": "1.0.0",
      "model_name": "OutputModel",
      "state": {
       "layout": "IPY_MODEL_0019906ef88e4e83b58a47b5ff5c0dc3"
      }
     },
     "eaf0268d5aec46e2b9f119117f49a489": {
      "model_module": "@jupyter-widgets/base",
      "model_module_version": "1.2.0",
      "model_name": "LayoutModel",
      "state": {}
     },
     "eb0141565fa2434bb3cdaa003113ab14": {
      "model_module": "@jupyter-widgets/controls",
      "model_module_version": "1.5.0",
      "model_name": "HBoxModel",
      "state": {
       "children": [
        "IPY_MODEL_09d0343ade644faea5dce12bcee572ef",
        "IPY_MODEL_978b9a01961a464fa4513369eb15f814"
       ],
       "layout": "IPY_MODEL_8d3fa3658ee44620b5c19cd5de9d5c93"
      }
     },
     "eb7577eda65449a8a4ce344e0fff56f0": {
      "model_module": "@jupyter-widgets/controls",
      "model_module_version": "1.5.0",
      "model_name": "TextareaModel",
      "state": {
       "layout": "IPY_MODEL_c37f527ecf634773a35da5bf6c09f497",
       "style": "IPY_MODEL_da046ceb35864ba0a8d3c5c78e9aaa0f",
       "value": "This is a very long text areas string that needs a bigger box to fit all of hte verbose nonsense"
      }
     },
     "ec1adcf041124386be5c6652dc3e591a": {
      "model_module": "@jupyter-widgets/base",
      "model_module_version": "1.2.0",
      "model_name": "LayoutModel",
      "state": {
       "align_items": "stretch",
       "border": "dashed 0.2px green",
       "display": "flex",
       "flex_flow": "row",
       "grid_auto_columns": "True",
       "justify_content": "flex-start",
       "width": "100%"
      }
     },
     "ec27ccb46a5342c0a0688a589b581c50": {
      "model_module": "@jupyter-widgets/controls",
      "model_module_version": "1.5.0",
      "model_name": "HBoxModel",
      "state": {
       "children": [
        "IPY_MODEL_7869cf9cdb50413cb8c3b53e89812d9a",
        "IPY_MODEL_33e410ed78bf4b4fa12fd1de1694034f"
       ],
       "layout": "IPY_MODEL_6f2d35a37b52441e9e63ce9badf92193"
      }
     },
     "ec2da15a1e804984aeccc8e4e0b84921": {
      "model_module": "@jupyter-widgets/base",
      "model_module_version": "1.2.0",
      "model_name": "LayoutModel",
      "state": {}
     },
     "ec4907dd793f427dba4574f47437d49d": {
      "model_module": "@jupyter-widgets/base",
      "model_module_version": "1.2.0",
      "model_name": "LayoutModel",
      "state": {}
     },
     "ecff53ae726d4ff8b70982f228f36de6": {
      "model_module": "@jupyter-widgets/base",
      "model_module_version": "1.2.0",
      "model_name": "LayoutModel",
      "state": {}
     },
     "ed0788c592884077a0e9bec3af79761c": {
      "model_module": "@jupyter-widgets/base",
      "model_module_version": "1.2.0",
      "model_name": "LayoutModel",
      "state": {}
     },
     "ed369e325a264dbda4791a88078622f4": {
      "model_module": "@jupyter-widgets/base",
      "model_module_version": "1.2.0",
      "model_name": "LayoutModel",
      "state": {}
     },
     "ed66ebd8e03a4f7abc936ae743cb7781": {
      "model_module": "@jupyter-widgets/base",
      "model_module_version": "1.2.0",
      "model_name": "LayoutModel",
      "state": {
       "align_items": "stretch",
       "display": "flex",
       "flex_flow": "row",
       "grid_auto_columns": "True",
       "justify_content": "flex-start",
       "width": "80%"
      }
     },
     "ee0434b7c10045cdb99440e58370d11c": {
      "model_module": "@jupyter-widgets/output",
      "model_module_version": "1.0.0",
      "model_name": "OutputModel",
      "state": {
       "layout": "IPY_MODEL_32acdb10bf6343568d5ff96031536a1a"
      }
     },
     "ee21d94bb7104b729447361a7684b9b9": {
      "model_module": "@jupyter-widgets/base",
      "model_module_version": "1.2.0",
      "model_name": "LayoutModel",
      "state": {
       "align_items": "stretch",
       "display": "flex",
       "flex_flow": "row",
       "grid_auto_columns": "True",
       "justify_content": "flex-start",
       "width": "80%"
      }
     },
     "ee404e7dbab44f54b194f5a11ba9f435": {
      "model_module": "@jupyter-widgets/controls",
      "model_module_version": "1.5.0",
      "model_name": "CheckboxModel",
      "state": {
       "disabled": false,
       "layout": "IPY_MODEL_4d1329cb31d74bfbb39f381783f81d43",
       "style": "IPY_MODEL_9ed9d0848d3f43cc8b3e3a949e270e5e",
       "value": false
      }
     },
     "ee7a1b4f89ef4b8cbe85de4233f0f362": {
      "model_module": "@jupyter-widgets/base",
      "model_module_version": "1.2.0",
      "model_name": "LayoutModel",
      "state": {}
     },
     "eec5106cd6d14ca2b7e71bcf024d1db2": {
      "model_module": "@jupyter-widgets/base",
      "model_module_version": "1.2.0",
      "model_name": "LayoutModel",
      "state": {
       "align_items": "stretch",
       "display": "flex",
       "flex_flow": "row",
       "grid_auto_columns": "True",
       "justify_content": "flex-start",
       "width": "80%"
      }
     },
     "ef0f8b7d44af45d49bf1422a11828789": {
      "model_module": "@jupyter-widgets/base",
      "model_module_version": "1.2.0",
      "model_name": "LayoutModel",
      "state": {}
     },
     "ef94c93041c3428aae325001343086d2": {
      "model_module": "@jupyter-widgets/controls",
      "model_module_version": "1.5.0",
      "model_name": "HTMLModel",
      "state": {
       "layout": "IPY_MODEL_549cbea6fc664e99acbdded2b86fb190",
       "style": "IPY_MODEL_f9eed17eaf144b519b7dcead8e6087f9",
       "value": "<p>its a delicious foo cake</p>"
      }
     },
     "ef9c8f4cd15e4ad88daeceecec127eed": {
      "model_module": "@jupyter-widgets/controls",
      "model_module_version": "1.5.0",
      "model_name": "HBoxModel",
      "state": {
       "children": [
        "IPY_MODEL_c5caebc38a9f40d7844f26fc9ffdf78c",
        "IPY_MODEL_e3cb0f997c9c4fd18be7627501dbfa9d"
       ],
       "layout": "IPY_MODEL_6e08666fe2a24bc7ba6e8f087199805f"
      }
     },
     "f0ae8d21d95b4d43afa51efbe56ab9ae": {
      "model_module": "@jupyter-widgets/base",
      "model_module_version": "1.2.0",
      "model_name": "LayoutModel",
      "state": {
       "align_items": "stretch",
       "display": "flex",
       "flex_flow": "row",
       "grid_auto_columns": "True",
       "justify_content": "flex-end",
       "width": "90%"
      }
     },
     "f0d746b5e7ad43ed845022485def9f44": {
      "model_module": "@jupyter-widgets/base",
      "model_module_version": "1.2.0",
      "model_name": "LayoutModel",
      "state": {
       "align_items": "stretch",
       "display": "flex",
       "flex_flow": "row",
       "grid_auto_columns": "True",
       "justify_content": "flex-end",
       "width": "90%"
      }
     },
     "f0d836e42c3042b68263bac1fd133344": {
      "model_module": "@jupyter-widgets/controls",
      "model_module_version": "1.5.0",
      "model_name": "HTMLModel",
      "state": {
       "layout": "IPY_MODEL_6ba6332b73e64b1b84159c7a926814d3",
       "style": "IPY_MODEL_289662dcf7ee4e3d8587c45c79d1ff32",
       "value": "<p>its a foo cake</p>"
      }
     },
     "f12accda1e7444fea90bb0cd201feab7": {
      "model_module": "@jupyter-widgets/controls",
      "model_module_version": "1.5.0",
      "model_name": "DescriptionStyleModel",
      "state": {
       "description_width": ""
      }
     },
     "f16119e9057e46b8803e42a310d109ad": {
      "model_module": "@jupyter-widgets/controls",
      "model_module_version": "1.5.0",
      "model_name": "HBoxModel",
      "state": {
       "children": [
        "IPY_MODEL_cac7d6fa5e5d4f37ab0b7989cec86b8a",
        "IPY_MODEL_8af8b1a1f11f497e86960ca4f456d523"
       ],
       "layout": "IPY_MODEL_4893d8293909470995b20f9fae93b5d3"
      }
     },
     "f1620349d29e47edb2961651a64a6683": {
      "model_module": "@jupyter-widgets/base",
      "model_module_version": "1.2.0",
      "model_name": "LayoutModel",
      "state": {}
     },
     "f1a05a6f8ef74e0f9ee03141367e2082": {
      "model_module": "@jupyter-widgets/base",
      "model_module_version": "1.2.0",
      "model_name": "LayoutModel",
      "state": {}
     },
     "f2fdc914ae5846d49bc931521cee2681": {
      "model_module": "@jupyter-widgets/output",
      "model_module_version": "1.0.0",
      "model_name": "OutputModel",
      "state": {
       "layout": "IPY_MODEL_97aef1d3950b4f5a94b23ce4740f4a03"
      }
     },
     "f32ac72eb9df4255aea6dcd55af7c666": {
      "model_module": "@jupyter-widgets/base",
      "model_module_version": "1.2.0",
      "model_name": "LayoutModel",
      "state": {}
     },
     "f36d94b2cba64ef9bea03ebb7ba9e1ac": {
      "model_module": "@jupyter-widgets/controls",
      "model_module_version": "1.5.0",
      "model_name": "HTMLModel",
      "state": {
       "layout": "IPY_MODEL_a7992d26034348368011f79a779548f9",
       "style": "IPY_MODEL_10332ecfcb0d4f58ae83b803851e43e1",
       "value": "<p>name</p>"
      }
     },
     "f3826ccd32eb48d281cb425d171e4aa9": {
      "model_module": "@jupyter-widgets/controls",
      "model_module_version": "1.5.0",
      "model_name": "DescriptionStyleModel",
      "state": {
       "description_width": ""
      }
     },
     "f382f04e5ebb4b6289c49d170f2910cb": {
      "model_module": "@jupyter-widgets/controls",
      "model_module_version": "1.5.0",
      "model_name": "HTMLModel",
      "state": {
       "layout": "IPY_MODEL_6df714a54ba84d6caa7b52ce8978a165",
       "style": "IPY_MODEL_f12accda1e7444fea90bb0cd201feab7",
       "value": "<p>label</p>"
      }
     },
     "f38801d7fca34570afaed134d01e566b": {
      "model_module": "@jupyter-widgets/output",
      "model_module_version": "1.0.0",
      "model_name": "OutputModel",
      "state": {
       "layout": "IPY_MODEL_5050e04afbe84473948e647449b9b26e"
      }
     },
     "f419e32444a545bfaab7bbced245eee2": {
      "model_module": "@jupyter-widgets/base",
      "model_module_version": "1.2.0",
      "model_name": "LayoutModel",
      "state": {
       "align_items": "stretch",
       "border": "dashed 0.2px green",
       "display": "flex",
       "flex_flow": "row",
       "grid_auto_columns": "True",
       "justify_content": "flex-start",
       "width": "100%"
      }
     },
     "f521fcefc1f9472088cc8cf65a3ff025": {
      "model_module": "@jupyter-widgets/output",
      "model_module_version": "1.0.0",
      "model_name": "OutputModel",
      "state": {
       "layout": "IPY_MODEL_432aea2b834b4aeb82a3240127310c2b"
      }
     },
     "f55378958b0a441793550cc3bee19517": {
      "model_module": "@jupyter-widgets/controls",
      "model_module_version": "1.5.0",
      "model_name": "DescriptionStyleModel",
      "state": {
       "description_width": ""
      }
     },
     "f57205c18bd849d8b8ce8997f468bb56": {
      "model_module": "@jupyter-widgets/base",
      "model_module_version": "1.2.0",
      "model_name": "LayoutModel",
      "state": {}
     },
     "f584ade7ed2f4e13a09ad293a7c58f74": {
      "model_module": "@jupyter-widgets/base",
      "model_module_version": "1.2.0",
      "model_name": "LayoutModel",
      "state": {}
     },
     "f59209de6995475f8c4b0eb4e226843f": {
      "model_module": "@jupyter-widgets/controls",
      "model_module_version": "1.5.0",
      "model_name": "DescriptionStyleModel",
      "state": {
       "description_width": ""
      }
     },
     "f5fd011caadd43c8bec2aeac0e59e71e": {
      "model_module": "@jupyter-widgets/controls",
      "model_module_version": "1.5.0",
      "model_name": "HBoxModel",
      "state": {
       "children": [
        "IPY_MODEL_6a959b526ca746f28d54f000cd87c84b",
        "IPY_MODEL_87dce1605fd3446693fcc7dea9a7b6cc"
       ],
       "layout": "IPY_MODEL_a3926ddfdda944b18a3237d6524f2447"
      }
     },
     "f6ee1bdcd1a247608f3a4cd95c81f0d1": {
      "model_module": "@jupyter-widgets/controls",
      "model_module_version": "1.5.0",
      "model_name": "HTMLModel",
      "state": {
       "layout": "IPY_MODEL_cddb8b1e99114280b53f68dd6a97b2b1",
       "style": "IPY_MODEL_f55378958b0a441793550cc3bee19517",
       "value": "<p>foo</p>"
      }
     },
     "f7e1f07680c64d558dbecbac32089582": {
      "model_module": "@jupyter-widgets/controls",
      "model_module_version": "1.5.0",
      "model_name": "DescriptionStyleModel",
      "state": {
       "description_width": ""
      }
     },
     "f839f37d0d6e48f58f920199cd006173": {
      "model_module": "@jupyter-widgets/controls",
      "model_module_version": "1.5.0",
      "model_name": "VBoxModel",
      "state": {
       "children": [
        "IPY_MODEL_0833b1cbf8fa4307b4fca46810b4f503",
        "IPY_MODEL_36c63108077b430b84040ed47379f572",
        "IPY_MODEL_4553e075ffa344b2b12a2fcf65ad9566",
        "IPY_MODEL_faa4a62ebb6047bca443db92f13315be",
        "IPY_MODEL_08208c1d10a648e18f9b5dcc846d3dbc",
        "IPY_MODEL_dfd3aeb5180a4642b72833f7ca4feeaa",
        "IPY_MODEL_c80733254c954fe793f53bc8f142216d",
        "IPY_MODEL_c44ae51be80045eba55440f87cb60e11"
       ],
       "layout": "IPY_MODEL_80d62d4aeecd4b6f99b3e221fe74c6b7"
      }
     },
     "f9eed17eaf144b519b7dcead8e6087f9": {
      "model_module": "@jupyter-widgets/controls",
      "model_module_version": "1.5.0",
      "model_name": "DescriptionStyleModel",
      "state": {
       "description_width": ""
      }
     },
     "f9eeee715ec34438acee02b8e4320824": {
      "model_module": "@jupyter-widgets/controls",
      "model_module_version": "1.5.0",
      "model_name": "HBoxModel",
      "state": {
       "children": [
        "IPY_MODEL_faa93650a5874fa4b7d3efd48273075a",
        "IPY_MODEL_fc31d49b06d6446a923b6f8584b17f6f"
       ],
       "layout": "IPY_MODEL_ed66ebd8e03a4f7abc936ae743cb7781"
      }
     },
     "fa2742191a8e4dc18493da3f779d7acf": {
      "model_module": "@jupyter-widgets/controls",
      "model_module_version": "1.5.0",
      "model_name": "HBoxModel",
      "state": {
       "children": [
        "IPY_MODEL_da03e33df47f4b578fce495060b4c552",
        "IPY_MODEL_ef9c8f4cd15e4ad88daeceecec127eed"
       ],
       "layout": "IPY_MODEL_a328903cb7a7446591528098cb110716"
      }
     },
     "fa4d73ffe91b4ff6bd79badc2d730056": {
      "model_module": "@jupyter-widgets/base",
      "model_module_version": "1.2.0",
      "model_name": "LayoutModel",
      "state": {
       "align_items": "stretch",
       "display": "flex",
       "flex_flow": "row",
       "grid_auto_columns": "True",
       "justify_content": "flex-start",
       "width": "80%"
      }
     },
     "faa4a62ebb6047bca443db92f13315be": {
      "model_module": "@jupyter-widgets/controls",
      "model_module_version": "1.5.0",
      "model_name": "HBoxModel",
      "state": {
       "children": [
        "IPY_MODEL_42ad0089fa0a47ec839e75c56aa09031"
       ],
       "layout": "IPY_MODEL_2ef61f5a911c493c922fd1a1e9134130"
      }
     },
     "faa93650a5874fa4b7d3efd48273075a": {
      "model_module": "@jupyter-widgets/controls",
      "model_module_version": "1.5.0",
      "model_name": "ToggleButtonModel",
      "state": {
       "layout": "IPY_MODEL_d2b8c164ab164f79b37b759531991d89",
       "style": "IPY_MODEL_70376d4453844f47a8bf6890a63c7405"
      }
     },
     "faa9cf388a15444aac8c8a5f99617cb7": {
      "model_module": "@jupyter-widgets/base",
      "model_module_version": "1.2.0",
      "model_name": "LayoutModel",
      "state": {}
     },
     "fac29843f017407a9bc6b88edc308fae": {
      "model_module": "@jupyter-widgets/controls",
      "model_module_version": "1.5.0",
      "model_name": "CheckboxModel",
      "state": {
       "disabled": false,
       "layout": "IPY_MODEL_7f2e078f72574de192fb19aa54c499ca",
       "style": "IPY_MODEL_a852ba61e1254476af14bf9271bd4b35",
       "value": true
      }
     },
     "fbd1c72ab6da43e1b8b35b9d85a88cf8": {
      "model_module": "@jupyter-widgets/controls",
      "model_module_version": "1.5.0",
      "model_name": "DescriptionStyleModel",
      "state": {
       "description_width": ""
      }
     },
     "fc31d49b06d6446a923b6f8584b17f6f": {
      "model_module": "@jupyter-widgets/controls",
      "model_module_version": "1.5.0",
      "model_name": "HTMLModel",
      "state": {
       "layout": "IPY_MODEL_6773ab204b99408382bb499bc87af014",
       "style": "IPY_MODEL_7ad933b74e5b4a1fb8220c335d773d29",
       "value": "<p>label</p>"
      }
     },
     "fc45cf51e114443f8908be9e36a18d5b": {
      "model_module": "@jupyter-widgets/controls",
      "model_module_version": "1.5.0",
      "model_name": "DescriptionStyleModel",
      "state": {
       "description_width": ""
      }
     },
     "fc8d5fb464e54511b16f5d3730a713a1": {
      "model_module": "@jupyter-widgets/controls",
      "model_module_version": "1.5.0",
      "model_name": "HTMLModel",
      "state": {
       "layout": "IPY_MODEL_f57205c18bd849d8b8ce8997f468bb56",
       "style": "IPY_MODEL_d77655a2949b4f20a7d361f279b60493",
       "value": "<p>reous foo ous foo st</p>"
      }
     },
     "fcba7a92626a4362ba787b199213d56d": {
      "model_module": "@jupyter-widgets/controls",
      "model_module_version": "1.5.0",
      "model_name": "HBoxModel",
      "state": {
       "children": [
        "IPY_MODEL_0ed1d9ad9aff4a1e93bb42f0176c23bf",
        "IPY_MODEL_7ad53be8499c429089837ddb1fded65e"
       ],
       "layout": "IPY_MODEL_974dc7b7939b4f49b4d965f58aa791e8"
      }
     },
     "fcce093514a340898adacc6a46b94791": {
      "model_module": "@jupyter-widgets/controls",
      "model_module_version": "1.5.0",
      "model_name": "HBoxModel",
      "state": {
       "children": [
        "IPY_MODEL_c460e0e09c2545398dbaf11b348750ef"
       ],
       "layout": "IPY_MODEL_8d60b6519eac49fcbb1bf16b780443ea"
      }
     },
     "fd317670896741438dad2ad5a434b927": {
      "model_module": "@jupyter-widgets/controls",
      "model_module_version": "1.5.0",
      "model_name": "DescriptionStyleModel",
      "state": {
       "description_width": ""
      }
     },
     "fdda36d5e035421d9c8774c1b15c74d0": {
      "model_module": "@jupyter-widgets/base",
      "model_module_version": "1.2.0",
      "model_name": "LayoutModel",
      "state": {
       "align_items": "stretch",
       "display": "flex",
       "flex_flow": "row",
       "grid_auto_columns": "True",
       "justify_content": "flex-start",
       "width": "80%"
      }
     },
     "fe44e1195db446d3bcaee9c688e77d45": {
      "model_module": "@jupyter-widgets/controls",
      "model_module_version": "1.5.0",
      "model_name": "DescriptionStyleModel",
      "state": {
       "description_width": ""
      }
     },
     "fe788ce1a735495c9f0ef16191016aec": {
      "model_module": "@jupyter-widgets/controls",
      "model_module_version": "1.5.0",
      "model_name": "VBoxModel",
      "state": {
       "children": [
        "IPY_MODEL_3157804c3e6648bfbe02681c9e65b1ac",
        "IPY_MODEL_1729ea02fdb74b01af1f18a65155c5ee",
        "IPY_MODEL_bc03adea4f294fc09bf8aa4e96b67e4e",
        "IPY_MODEL_773bf6108de34018bcd1d68734f2c251",
        "IPY_MODEL_518b0ec5aefc4adb9e4524d71e4444b9",
        "IPY_MODEL_4d5d4bb78354422198f86dd457743a74",
        "IPY_MODEL_7db1ecfe786c48e5bd0e54497f1f456f",
        "IPY_MODEL_ffb36fefc37741f0ad456f3549d4fa4e"
       ],
       "layout": "IPY_MODEL_133c02eeee3c4a139c96d532ef6a6f0b"
      }
     },
     "feaf1a6e43e3411596514e3adf1ac78c": {
      "model_module": "@jupyter-widgets/controls",
      "model_module_version": "1.5.0",
      "model_name": "HBoxModel",
      "state": {
       "children": [
        "IPY_MODEL_cd1bd02b25df4b249e1474f074cfe95c",
        "IPY_MODEL_4d564c2d95d445a5903baaa09b962c44"
       ],
       "layout": "IPY_MODEL_d8c6523b10e54ca68d9aa138c6738e5f"
      }
     },
     "febdec8509c44fb2a45965241a36712e": {
      "model_module": "@jupyter-widgets/controls",
      "model_module_version": "1.5.0",
      "model_name": "HTMLModel",
      "state": {
       "layout": "IPY_MODEL_8cc49a4df2ee434480463e69c04b04f7",
       "style": "IPY_MODEL_55e55a3b6054406d90db56166c056b0c",
       "value": "<p>its a foo cake</p>"
      }
     },
     "ffb36fefc37741f0ad456f3549d4fa4e": {
      "model_module": "@jupyter-widgets/controls",
      "model_module_version": "1.5.0",
      "model_name": "HBoxModel",
      "state": {
       "children": [
        "IPY_MODEL_644823c8bc60472783d0cd68e6afc257"
       ],
       "layout": "IPY_MODEL_bd7d1a323d7749d4b356bb209bdb13a9"
      }
     }
    },
    "version_major": 2,
    "version_minor": 0
   }
  }
 },
 "nbformat": 4,
 "nbformat_minor": 4
}
