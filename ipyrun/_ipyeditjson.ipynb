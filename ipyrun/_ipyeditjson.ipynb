{
 "cells": [
  {
   "cell_type": "code",
   "execution_count": 1,
   "metadata": {},
   "outputs": [],
   "source": [
    "import os\n",
    "import pandas as pd\n",
    "from IPython.display import display, Image, JSON, Markdown, HTML, display_pdf, clear_output\n",
    "from markdown import markdown\n",
    "from datetime import datetime\n",
    "\n",
    "# widget stuff\n",
    "import ipywidgets as widgets\n",
    "import ipysheet\n",
    "from ipysheet import from_dataframe, to_dataframe\n",
    "from ipyfilechooser import FileChooser\n",
    "\n",
    "# core mf_modules\n",
    "from mf_modules.pydtype_operations import read_json, write_json \n",
    "from mf_modules.file_operations import make_dir\n",
    "\n",
    "\n",
    "# from this repo\n",
    "# this is an unpleasant hack. should aim to find a better solution\n",
    "try:\n",
    "    from ipyrun._filecontroller import FileConfigController, SelectEditSaveMfJson\n",
    "    from ipyrun._runconfig import RunConfig\n",
    "    from ipyrun._ipydisplayfile import DisplayFile, DisplayFiles\n",
    "except:\n",
    "    from _filecontroller import FileConfigController, SelectEditSaveMfJson\n",
    "    from _runconfig import RunConfig\n",
    "    from _ipydisplayfile import DisplayFile, DisplayFiles"
   ]
  },
  {
   "cell_type": "code",
   "execution_count": 2,
   "metadata": {},
   "outputs": [],
   "source": [
    "def _markdown(value='_Markdown_',\n",
    "              **kwargs):\n",
    "    \"\"\"\n",
    "    a simple template for markdown text input that templates required input\n",
    "    fields. additional user defined fields can be added as kwargs\n",
    "    \"\"\"\n",
    "    _kwargs = {}\n",
    "    _kwargs['value'] = markdown(value)  # required field\n",
    "    _kwargs.update(kwargs)  # user overides\n",
    "    return widgets.HTML(**_kwargs)"
   ]
  },
  {
   "cell_type": "code",
   "execution_count": 34,
   "metadata": {},
   "outputs": [],
   "source": [
    "\n",
    "\n",
    "class EditDictData():\n",
    "    \"\"\"\n",
    "    contains form layout specs and mapping dict used for associating input\n",
    "    variables to the appropriate widget. \n",
    "    \"\"\"\n",
    "           \n",
    "    @property\n",
    "    def MF_FORM_ITEM_LAYOUT(self):\n",
    "        return widgets.Layout(\n",
    "            display='flex',\n",
    "            flex_flow='row',\n",
    "            justify_content='flex-start',\n",
    "            #border='solid 1px green',\n",
    "            grid_auto_columns='True',\n",
    "            width='80%',\n",
    "            align_items='stretch',  \n",
    "        )\n",
    "    \n",
    "    @property\n",
    "    def MF_FORM_ITEM_LAYOUT1(self):\n",
    "        return widgets.Layout(\n",
    "            display='flex',\n",
    "            flex_flow='row',\n",
    "            justify_content='flex-end',\n",
    "            #border='solid 1px green',\n",
    "            grid_auto_columns='True',\n",
    "            width='90%',\n",
    "            align_items='stretch',  \n",
    "        )\n",
    "    \n",
    "    @property\n",
    "    def MF_FORM_ITEM_LAYOUT2(self):\n",
    "        return widgets.Layout(\n",
    "            display='flex',\n",
    "            flex_flow='row',\n",
    "            justify_content='flex-start',\n",
    "            border='dashed 0.2px green',\n",
    "            grid_auto_columns='True',\n",
    "            width='100%',\n",
    "            align_items='stretch',  \n",
    "        )\n",
    "    \n",
    "    @property\n",
    "    def map_keys(self):\n",
    "        return ['value', 'options', 'min', 'max']\n",
    "    \n",
    "    \n",
    "    \n",
    "    @property\n",
    "    def map_widgets(self):\n",
    "        # mapping dict used to guess what widget to apply\n",
    "        \n",
    "        try: \n",
    "            # if its already been defined return the as defined value\n",
    "            # this allows for self.map_widgets_di to be extended more easily\n",
    "            return self.map_widgets_di\n",
    "        except:\n",
    "            self.map_widgets_di = {\n",
    "                'FloatText': {\n",
    "                    'value_type': \"<class 'float'>\",\n",
    "                    'options_type': \"<class 'NoneType'>\",\n",
    "                    'min_type': \"<class 'NoneType'>\",\n",
    "                    'max_type': \"<class 'NoneType'>\"\n",
    "                },\n",
    "               'FloatSlider': {\n",
    "                    'value_type': \"<class 'float'>\",\n",
    "                    'options_type': \"<class 'NoneType'>\",\n",
    "                    'min_type': \"<class 'float'>\",\n",
    "                    'max_type': \"<class 'float'>\"\n",
    "               },\n",
    "               'Dropdown': {\n",
    "                    'value_type': 'any',\n",
    "                    'options_type': \"<class 'list'>\",\n",
    "                    'min_type': \"<class 'NoneType'>\",\n",
    "                    'max_type': \"<class 'NoneType'>\"\n",
    "               },\n",
    "               'SelectMultiple': {\n",
    "                    'value_type': \"<class 'list'>\",\n",
    "                    'options_type': \"<class 'list'>\",\n",
    "                    'min_type': \"<class 'NoneType'>\",\n",
    "                    'max_type': \"<class 'NoneType'>\"\n",
    "               },\n",
    "               'Checkbox': {\n",
    "                    'value_type': \"<class 'bool'>\",\n",
    "                    'options_type': \"<class 'NoneType'>\",\n",
    "                    'min_type': \"<class 'NoneType'>\",\n",
    "                    'max_type': \"<class 'NoneType'>\"\n",
    "               },\n",
    "               'Text': {\n",
    "                    'value_type': \"<class 'str'>\",\n",
    "                    'options_type': \"<class 'NoneType'>\",\n",
    "                    'min_type': \"<class 'NoneType'>\",\n",
    "                    'max_type': \"<class 'NoneType'>\"\n",
    "               },\n",
    "               '_recursive_guess': {\n",
    "                    'value_type': \"<class 'list'>\",\n",
    "                    'options_type': \"<class 'NoneType'>\",\n",
    "                    'min_type': \"<class 'NoneType'>\",\n",
    "                    'max_type': \"<class 'NoneType'>\"\n",
    "               }\n",
    "            }\n",
    "            return self.map_widgets_di\n",
    "    \n",
    "    @property\n",
    "    def widget_lkup(self):\n",
    "        try: \n",
    "            # if its already been defined return the as defined value\n",
    "            # this allows for self.widget_lkup_di to be extended more easily\n",
    "            return self.widget_lkup_di\n",
    "        except:\n",
    "            self.widget_lkup_di = {\n",
    "                'FloatText':widgets.FloatText,\n",
    "                'FloatSlider':widgets.FloatSlider,\n",
    "                'Dropdown':widgets.Dropdown,\n",
    "                'DerivedText':self._derived_text,\n",
    "                'DatePicker':self._date_picker,\n",
    "                'SelectMultiple':widgets.SelectMultiple,\n",
    "                'Checkbox':widgets.Checkbox,\n",
    "                'Text':widgets.Text,\n",
    "                'Textarea':widgets.Textarea,\n",
    "                '_recursive_guess':self._recursive_guess,\n",
    "                'ipysheet':self._ipysheet\n",
    "            }\n",
    "            return self.widget_lkup_di\n",
    "\n",
    "\n",
    "    \n",
    "class EditDict(EditDictData):\n",
    "    '''\n",
    "    a class that is passed a dict and then guesses the most appropriate \n",
    "    widget from the values in the dict.\n",
    "    - if a nested list of dicts is passed:\n",
    "        => it will create an embedded, clickable show/hide nested input form\n",
    "    - if a json dataframe object is passed as the \"value\" and and the key:value\n",
    "      \"widget\":\"ipysheet\" is passed in the same dict:\n",
    "        => it will create an editable ipysheet dataframe widget\n",
    "    '''\n",
    "    def __init__(self, di):\n",
    "        self.out = widgets.Output()\n",
    "        self.di = di\n",
    "        self.form()\n",
    " \n",
    "    def form(self):\n",
    "        self.di = self._update_di()\n",
    "        if 'widget' not in self.di.keys():\n",
    "            # if widget type isn't defined then the code will make a best guess\n",
    "            self.di_types = self._get_var_types()\n",
    "            self.widget_name, self.report = self.map_widget()           \n",
    "        else:\n",
    "            # otherwise it will revert to the user defined value\n",
    "            self.widget_name = self.di['widget']\n",
    "        self.kwargs = self._kwargfilt()\n",
    "        self.layout = self._build_widget()\n",
    "        \n",
    "        # UPDATE THIS - LIST OF WIDGETS NOT TO WATCH\n",
    "        if self.widget_name != 'ipysheet' and self.widget_name != '_recursive_guess':\n",
    "            self._init_controls()\n",
    "            \n",
    "    def _kwargfilt(self):\n",
    "        \"\"\"\n",
    "        widget, name, label, fpth_help are NOT passed as kwargs when building the widget. \n",
    "        all others are. \n",
    "        \"\"\"\n",
    "        return {k:v for (k,v) in self.di.items() if k != 'widget' and k != 'name' and k != 'label' and k != 'fpth_help' and v is not None}\n",
    "    \n",
    "    def _build_widget(self):\n",
    "        \n",
    "        if str(type(self.widget_lkup[self.widget_name]))==\"<class 'method'>\":\n",
    "            # then it is a developer defined custom widget that requires a class method to define\n",
    "            self.widget_lkup[self.widget_name]()\n",
    "        else:\n",
    "            # it is a vanilla widget \n",
    "            self.widget_only = self.widget_lkup[self.widget_name](**self.kwargs)\n",
    "\n",
    "        self.widget_simple = widgets.HBox([self.widget_only,_markdown(self.di['label'])],layout=self.MF_FORM_ITEM_LAYOUT)\n",
    "        self.widget_row = widgets.HBox([_markdown(self.di['name']),self.widget_simple],layout=self.MF_FORM_ITEM_LAYOUT1)\n",
    "        if 'fpth_help' in self.di.keys():\n",
    "            self.guide = widgets.ToggleButton(icon='fa-question-circle',\n",
    "                                              description='help',\n",
    "                                              tooltip='gives guidance',\n",
    "                                              style={'font_weight':'bold'},\n",
    "                                              layout=widgets.Layout(width='5%'))\n",
    "            self.guide.observe(self._guide, 'value')\n",
    "            layout = widgets.HBox([self.widget_row ,self.guide],layout=self.MF_FORM_ITEM_LAYOUT2)\n",
    "        else:\n",
    "            layout = widgets.HBox([self.widget_row ],layout=self.MF_FORM_ITEM_LAYOUT2)\n",
    "        return layout\n",
    "    \n",
    "    def _init_controls(self):   \n",
    "        self.widget_only.observe(self._update_change, 'value') \n",
    "\n",
    "    def _update_change(self, change):\n",
    "        value = None\n",
    "        if(self.widget_name == \"DatePicker\"):\n",
    "            value = self.widget_only.value.strftime('%Y-%m-%d')\n",
    "        else:\n",
    "            value = self.widget_only.value\n",
    "        self.di['value'] = value\n",
    "\n",
    "\n",
    "    def _guide(self, sender):\n",
    "        with self.out:\n",
    "            if self.guide.value:  \n",
    "                if self.di['fpth_help']==list:\n",
    "                    d = DisplayFiles(self.di['fpth_help'])\n",
    "                    #display(Image(os.path.join(os.environ['mf_root'],r'engDevSetup\\dev\\icons\\icon_png\\help-icon.png')));\n",
    "                    display(d)\n",
    "                else:\n",
    "                    d = DisplayFile(self.di['fpth_help'])\n",
    "                    display(d.preview_fpth())\n",
    "            else:\n",
    "                clear_output()\n",
    "                \n",
    "    def _update_di(self):\n",
    "\n",
    "        def add_to_dict(di, keyname='None', valuename=None):\n",
    "            if keyname not in di.keys():\n",
    "                di[keyname]=valuename\n",
    "            return di\n",
    "        tmp = self.di\n",
    "        tmp = add_to_dict(tmp,keyname='min')\n",
    "        tmp = add_to_dict(tmp,keyname='max')\n",
    "        tmp = add_to_dict(tmp,keyname='options')\n",
    "        tmp = add_to_dict(tmp,keyname='name', valuename='name')\n",
    "        tmp = add_to_dict(tmp,keyname='label', valuename='label')\n",
    "        return tmp\n",
    "        \n",
    "    def _get_var_types(self):\n",
    "\n",
    "        def int_type_to_float(di):\n",
    "            di_ = {}\n",
    "            for key, val in di.items():\n",
    "                if val == \"<class 'int'>\":\n",
    "                    di_[key] = \"<class 'float'>\"\n",
    "                else:\n",
    "                    di_[key] = val\n",
    "            return di_\n",
    "        di = self.di\n",
    "        keys = self.map_keys\n",
    "        di_filt = { key: di[key] for key in keys }\n",
    "        di_types = {key+'_type': str(type(di_filt[key])) for key in keys}\n",
    "        di_types= int_type_to_float(di_types)\n",
    "        return di_types\n",
    "    \n",
    "    def map_widget(self):\n",
    "        \"\"\"\n",
    "        uses the types of the different inputs to map an input \n",
    "        to the appropriate widget\n",
    "\n",
    "        Reference:\n",
    "            |                 | value_type      | options_type       | min_type           | max_type           |\n",
    "            |:----------------|:----------------|:-------------------|:-------------------|:-------------------|\n",
    "            | FloatText       | <class 'float'> | <class 'NoneType'> | <class 'NoneType'> | <class 'NoneType'> |\n",
    "            | FloatSlider     | <class 'float'> | <class 'NoneType'> | <class 'float'>    | <class 'float'>    |\n",
    "            | Dropdown        | <class 'float'> | <class 'list'>     | <class 'NoneType'> | <class 'NoneType'> |\n",
    "            | SelectMultiple  | <class 'list'>  | <class 'list'>     | <class 'NoneType'> | <class 'NoneType'> |\n",
    "            | Checkbox        | <class 'bool'>  | <class 'NoneType'> | <class 'NoneType'> | <class 'NoneType'> |\n",
    "            | Text            | <class 'str'>   | <class 'NoneType'> | <class 'NoneType'> | <class 'NoneType'> |\n",
    "            | _recursive_guess| <class 'list'>  | <class 'NoneType'> | <class 'NoneType'> | <class 'NoneType'> |\n",
    "        \"\"\"\n",
    "        di_types = self.di_types\n",
    "        map_widgets = self.map_widgets\n",
    "        m = 0\n",
    "        for k, v in map_widgets.items():\n",
    "            # this settles ambiguity for value type from Dropdown (which could be anything)\n",
    "            #if k == widgets.Dropdown and di_types['value_type'] != \"<class 'list'>\":\n",
    "            if k == 'Dropdown' and di_types['value_type'] != \"<class 'list'>\":\n",
    "                v['value_type'] = di_types['value_type']\n",
    "            if v == di_types:\n",
    "                m=+1\n",
    "                widget_name = k\n",
    "        if m < 1:\n",
    "            report = 'no matching widget found... check inputs...'\n",
    "            print(di_types)\n",
    "            print(report)\n",
    "            widget_name = 'Text'\n",
    "        elif m == 1:\n",
    "            report = 'perfect match!'\n",
    "        else:\n",
    "            report = 'multiple matches found... check code...'\n",
    "            print(di_types)\n",
    "            print(report)\n",
    "        return widget_name, report\n",
    "    \n",
    "    # -------------------------------------------------------------------------     \n",
    "    # code that allows for embedded list of dicts -----------------------------\n",
    "    def _recursive_guess(self):\n",
    "        self.kwargs = {k:v for (k,v) in self.kwargs.items() if k != 'value'}\n",
    "        self.kwargs['icon'] = 'arrow-down'\n",
    "        self.widget_only = widgets.ToggleButton(**self.kwargs)\n",
    "        self._recursive_controls()\n",
    "        \n",
    "    def _recursive_controls(self):\n",
    "        self.widget_only.observe(self._call_GuessWidget, 'value')\n",
    "\n",
    "    def _call_GuessWidget(self, sender):\n",
    "        self.nested_g = EditListOfDicts(self.di['value'])\n",
    "        self.di['value'] = self.nested_g.li\n",
    "        with self.out:\n",
    "            if self.widget_only.value:  \n",
    "                display(self.nested_g)\n",
    "            else:\n",
    "                clear_output()\n",
    "    # --------------------------------------------------------------------------\n",
    "    # code that allows for embedded ipysheets ----------------------------------\n",
    "    def _ipysheet(self):\n",
    "        self.kwargs = {k:v for (k,v) in self.kwargs.items() if k != 'value'}\n",
    "        self.kwargs['icon'] = 'arrow-down'\n",
    "        self.widget_only = widgets.ToggleButton(**self.kwargs)\n",
    "        self.save_ipysheet = widgets.Button(description='save')\n",
    "        self._ipysheet_controls()\n",
    "        \n",
    "    def _ipysheet_controls(self):\n",
    "        self.widget_only.observe(self.call_ipysheet, 'value')\n",
    "        self.save_ipysheet.on_click(self._save_ipysheet)\n",
    "        \n",
    "    def call_ipysheet(self, sender):\n",
    "        tmp = pd.read_json(self.di['value'])\n",
    "        self.sheet = ipysheet.sheet(ipysheet.from_dataframe(tmp)) # initiate sheet\n",
    "        with self.out:\n",
    "            if self.widget_only.value:  \n",
    "                display(self.save_ipysheet)\n",
    "                display(self.sheet)\n",
    "            else:\n",
    "                clear_output()\n",
    "    \n",
    "    def _save_ipysheet(self, change):\n",
    "        tmp = to_dataframe(self.sheet)\n",
    "        self.di['value'] = tmp.to_json()\n",
    "        with self.out:\n",
    "            clear_output()\n",
    "            dateTimeObj = datetime.now()\n",
    "            timestampStr = dateTimeObj.strftime(\"%d-%b-%Y %H:%M:%S:\")\n",
    "            display(Markdown('{0} changes to sheet saved. hit save in main dialog to save to file'.format(timestampStr)))\n",
    "        self.display()\n",
    "    # --------------------------------------------------------------------------\n",
    "    \n",
    "    # --------------------------------------------------------------------------\n",
    "    # other custom widgets -----------------------------------------------------\n",
    "    def _derived_text(self):\n",
    "        self.widget_only = widgets.HTML(**self.kwargs)\n",
    "        self.widget_only.layout=widgets.Layout(border='solid 1px #BBBBBB', padding='0px 10px 0px 10px')\n",
    "    \n",
    "    def _date_picker(self):\n",
    "        value = datetime.strptime(self.kwargs['value'], '%Y-%m-%d')\n",
    "        self.widget_only = widgets.DatePicker(value=value)\n",
    "    # --------------------------------------------------------------------------\n",
    "    \n",
    "    def display(self):\n",
    "        display(self.layout)\n",
    "        display(self.out)\n",
    "         \n",
    "    def _ipython_display_(self):\n",
    "        self.display()    "
   ]
  },
  {
   "cell_type": "code",
   "execution_count": 35,
   "metadata": {
    "lines_to_next_cell": 0
   },
   "outputs": [],
   "source": [
    "class EditListOfDicts():\n",
    "    \"\"\"\n",
    "    builds user input form from a list of dicts by creating a \n",
    "    loop of EditDict objects.\n",
    "    \"\"\"\n",
    "    def __init__(self, li):\n",
    "        \"\"\"\n",
    "        class that builds a user interface based on a list of dicts, where each dict is \n",
    "        a ipywidget user interface object. The class inteprets which widget to select based on the \n",
    "        type of the value and the keys that are passed. The keys are passed to the ipywidget \n",
    "        object as **kwargs.\n",
    "\n",
    "        Args:\n",
    "            li (list): list of dicts. each dict must contain 'name', 'value' and 'label' as the \n",
    "                minimum set of keys for making a ipywidget. additional keys that are passed \n",
    "                get become **kwargs that are passed to the selected ipywidget\n",
    "                \n",
    "        Example:\n",
    "            ```\n",
    "            li = [\n",
    "                    {\n",
    "                        'name':'water_volume_m3',\n",
    "                        'value':15,\n",
    "                        'label':'total volume of water within the closed mechanical system'\n",
    "                    },\n",
    "                    {\n",
    "                        'name':'height_difference_m',\n",
    "                        'value':48,\n",
    "                        'label':'difference in height between the highest and lowest points in the system'\n",
    "                    },\n",
    "                    {\n",
    "                        'name':'eV_acceptance_fraction',\n",
    "                        'value':0.3,\n",
    "                        'min':0,\n",
    "                        'max':1,\n",
    "                        'label':'Expansion vessel acceptance factor (= additional volume / expansion vessel volume):'\n",
    "                    }\n",
    "                ]\n",
    "            ```\n",
    "            \n",
    "            >>> from ipyrun._ipyeditjson import EditListOfDicts\n",
    "            >>> ui = EditListOfDicts(li)\n",
    "            >>> ui\n",
    "            see example image above\n",
    "        Images:\n",
    "            %mf_root%\\ipyrun\\docs\\images\\eg_ui.PNG\n",
    "        \"\"\"\n",
    "        self.out = widgets.Output()\n",
    "        self.li = li\n",
    "        self.form()\n",
    "        self._init_observe()\n",
    "    \n",
    "    def form(self):\n",
    "        self.widgets = []\n",
    "        for l in self.li:\n",
    "            self.widgets.append(EditDict(l))\n",
    "        self._layout()\n",
    "        \n",
    "    def _update_label(self, index, l):\n",
    "        \"\"\"\n",
    "        this is used for the DerivedText widget\n",
    "        \"\"\"\n",
    "        labelVal = \"\"\n",
    "        firstVal = True\n",
    "        for opt in l.di['options']:\n",
    "            try:\n",
    "                \n",
    "                if(index+opt < 0):\n",
    "                    raise Exception(\"Can only get values of positive indices\")\n",
    "\n",
    "                value = self.widgets[index+opt].di[\"value\"]\n",
    "\n",
    "                if(value == \"\"):\n",
    "                    value = \"XX\"\n",
    "                \n",
    "                split_val = str(value).split(\".\")\n",
    "                if(split_val[-1] == \"0\" and split_val[0].isdigit()):\n",
    "                    value = str(int(value)).zfill(3)\n",
    "\n",
    "                if not firstVal:\n",
    "                    labelVal += \"_\"\n",
    "\n",
    "                labelVal += str(value)\n",
    "\n",
    "                firstVal = False\n",
    "            except Exception as e:\n",
    "                pass\n",
    "        return \"{0}\".format(labelVal)\n",
    "    \n",
    "    def _update_change(self, change):\n",
    "        for index, l in enumerate(self.widgets):\n",
    "            if(l.widget_name==\"DerivedText\"):\n",
    "                l.widget_only.value = self._update_label(index, l)\n",
    "    \n",
    "    def _layout(self):\n",
    "        self._update_change(change=None)\n",
    "        self.applayout = widgets.VBox([l.layout for l in self.widgets])\n",
    "        \n",
    "    def _init_observe(self): \n",
    "        for l in self.widgets:\n",
    "            l.widget_only.observe(self._update_change, \"value\") \n",
    "        \n",
    "    def _lidi_display(self):\n",
    "        out = [l.layout for l in self.widgets]\n",
    "        self.applayout = widgets.VBox(out)\n",
    "        display(self.applayout)\n",
    "        for l in self.widgets:\n",
    "            display(l.out)\n",
    "            \n",
    "    def _ipython_display_(self):\n",
    "        self._lidi_display()  \n",
    "        \n",
    "class SimpleEditJson(EditListOfDicts):\n",
    "    \"\"\"\n",
    "    inherits EditListOfDicts user input form and manages the reading and \n",
    "    writing the data from a JSON file. \n",
    "    \"\"\"\n",
    "    def __init__(self, fpth_in, fpth_out=None):\n",
    "        self.out = widgets.Output()\n",
    "        self.fpth_in = fpth_in\n",
    "        if fpth_out==None:\n",
    "            self.fpth_out = fpth_in\n",
    "        else:\n",
    "            self.fpth_out = fpth_out\n",
    "        self.li = read_json(self.fpth_in)\n",
    "        self.save_changes = widgets.Button(description='save',button_style='success')\n",
    "        self.form()\n",
    "        self._init_observe()\n",
    "        self._init_controls()\n",
    "    \n",
    "    def _init_controls(self):  \n",
    "        self.save_changes.on_click(self._save_changes)\n",
    "        \n",
    "    def _save_changes(self, sender):\n",
    "        self.data_out = self.li\n",
    "        #try:\n",
    "            \n",
    "        write_json(self.data_out,\n",
    "                   sort_keys=True,\n",
    "                   indent=4,\n",
    "                   fpth=self.fpth_out,\n",
    "                   print_fpth=False,\n",
    "                   openFile=False)\n",
    "        with self.out:\n",
    "            clear_output()\n",
    "            dateTimeObj = datetime.now()\n",
    "            timestampStr = dateTimeObj.strftime(\"%d-%b-%Y %H:%M:%S:\")\n",
    "            display(Markdown('{0} changes to sheet logged.  to: {1}'.format(timestampStr,self.fpth_out)))\n",
    "            \n",
    "    def display(self):\n",
    "        display(self.save_changes)\n",
    "        out = [l.layout for l in self.widgets]\n",
    "        self.applayout = widgets.VBox(out)\n",
    "        display(self.applayout)\n",
    "        for l in self.widgets:\n",
    "            display(l.out)\n",
    "        display(self.out)\n",
    "            \n",
    "    def _ipython_display_(self):\n",
    "        self.display()  \n",
    "        \n",
    "class EditJson(EditListOfDicts, FileConfigController):\n",
    "    \"\"\"\n",
    "    inherits EditListOfDicts user input form as well FileConfigController \n",
    "    and manages the reading and writing the data from a JSON file. \n",
    "    \"\"\"\n",
    "    #def __init__(self, fpth, fdir='.', local_fol='_mfengdev'):\n",
    "    def __init__(self, config):\n",
    "\n",
    "        self.out = widgets.Output()\n",
    "        self._errors()\n",
    "        self.config = config\n",
    "        self.user_keys = list(config.keys())\n",
    "        self._update_config()\n",
    "        self.file_control_form()\n",
    "        self.li = read_json(self.fpth_inputs)\n",
    "        self._init_file_controller()\n",
    "        self.__build_widgets()\n",
    "        \n",
    "    def __build_widgets(self):\n",
    "        self.form()\n",
    "        self._init_observe()\n",
    "        \n",
    "    def _revert(self, sender):\n",
    "        \"\"\"revert to last save of working inputs file\"\"\"\n",
    "        fpth = self.fpth_inputs\n",
    "        self.temp_message.value = markdown('revert to inputs in last save of: {0}'.format(fpth))\n",
    "        \n",
    "        # ADD CODE HERE TO REVERT TO LAST SAVE\n",
    "        \n",
    "        self.li = read_json(self.fpth_inputs)\n",
    "        self._update_from_file()\n",
    "        self.update_display()\n",
    "        self.display()\n",
    "\n",
    "        \n",
    "    def _update_from_file(self):\n",
    "        \n",
    "        self.widgets = []\n",
    "        for l in self.li:\n",
    "            self.widgets.append(EditDict(l))\n",
    "            \n",
    "        self.applayout.children = []\n",
    "        self.applayout.children = [w.layout for w in self.widgets]\n",
    "        #for w in self.widgets:\n",
    "        #    self.applayout.children.append(w.layout)\n",
    "            \n",
    "    def _save_changes(self, sender):\n",
    "        \"\"\"save changes to working inputs file\"\"\"\n",
    "        fpth = self.fpth_inputs\n",
    "        \n",
    "        dateTimeObj = datetime.now()\n",
    "        self.save_timestampStr = dateTimeObj.strftime(\"%d-%b-%Y %H:%M:%S\")\n",
    "        self.temp_message.value = markdown('{0} saved at: {1}'.format(fpth, self.save_timestampStr))\n",
    "        print(self.li)\n",
    "        self.data_out = self.li \n",
    "        # add code here to save changes to file\n",
    "        write_json(self.data_out,\n",
    "                   sort_keys=True,\n",
    "                   indent=4,\n",
    "                   fpth=fpth,\n",
    "                   print_fpth=False,\n",
    "                   openFile=False)\n",
    "        \n",
    "        self.update_display()\n",
    "        self.display()\n",
    "        \n",
    "    def _load_inputs(self,sender):\n",
    "        \"\"\"launches the inputs from file dialog\"\"\"\n",
    "        self.temp_message.value = markdown('update the user input form with data from file')\n",
    "        if self.load_inputs.value:\n",
    "            self.inputform.children = [self.load_button, self.choose_inputs]\n",
    "        else:\n",
    "            self.temp_message.value = markdown('')\n",
    "            self.inputform.children = []\n",
    "        self.update_display()\n",
    "        self.display()\n",
    "\n",
    "    def _load(self,sender):\n",
    "\n",
    "        fpth = self.choose_inputs.value\n",
    "        # add code here to load form from file\n",
    "        self.li = read_json(fpth)\n",
    "        self._update_from_file()\n",
    "        self.temp_message.value = markdown('input form load data from: {0}'.format(fpth))\n",
    "        self.update_display()\n",
    "        self.display()\n",
    "        \n",
    "    def update_display(self):\n",
    "        #self._lidi_display()\n",
    "        box = widgets.VBox([\n",
    "            self.button_bar,\n",
    "            self.temp_message,\n",
    "            self.inputform,\n",
    "        ])\n",
    "        self.layout = box\n",
    "        for l in self.widgets:\n",
    "            with self.out:\n",
    "                clear_output()\n",
    "                display(l.out)\n",
    "            \n",
    "    def display(self):\n",
    "        self.update_display()\n",
    "        display(self.layout)\n",
    "        #out = [l.layout for l in self.widgets]\n",
    "        #self.applayout = widgets.VBox(out)\n",
    "        display(self.applayout)\n",
    "        #for l in self.widgets:\n",
    "        #    display(l.out)\n",
    "        display(self.out)\n",
    "            \n",
    "    def _ipython_display_(self):\n",
    "        self.display()  \n",
    "        #self._lidi_display()  \n",
    "class EditMfJson(SelectEditSaveMfJson, EditListOfDicts):\n",
    "    \"\"\"\n",
    "    \n",
    "    \"\"\"\n",
    "    def __init__(self, fdir, fnm=None):\n",
    "        self.out = widgets.Output()\n",
    "        super().__init__(fdir, fnm=fnm)\n",
    "        \n",
    "    def _save_changes(self, sender):\n",
    "        \"\"\"save changes to working inputs file\"\"\"\n",
    "        self.fpth_out = self.file_chooser.selected\n",
    "        dateTimeObj = datetime.now()\n",
    "        self.save_timestampStr = dateTimeObj.strftime(\"%d-%b-%Y %H:%M:%S\")\n",
    "        self.temp_message.value = markdown('{0} saved at: {1}'.format(self.fpth_out, self.save_timestampStr))\n",
    "        \n",
    "        # add code here to save changes to file\n",
    "        self.data_out = self.li            \n",
    "        write_json(self.data_out,\n",
    "                   sort_keys=True,\n",
    "                   indent=4,\n",
    "                   fpth=self.fpth_out,\n",
    "                   print_fpth=False,\n",
    "                   openFile=False)\n",
    "        \n",
    "        #with self.out:\n",
    "        #    clear_output()\n",
    "        #    dateTimeObj = datetime.now()\n",
    "        #    timestampStr = dateTimeObj.strftime(\"%d-%b-%Y %H:%M:%S:\")\n",
    "        #    display(Markdown('{0} changes to sheet logged.  to: {1}'.format(timestampStr,self.fpth_out)))\n",
    "            \n",
    "        self.update_sse_display()\n",
    "        self.sse_display()\n",
    "        \n",
    "    def _edit_file(self, sender):\n",
    "        \"\"\"save changes to working inputs file\"\"\"\n",
    "        if self.edit_file.value:\n",
    "            fpth = self.file_chooser.selected\n",
    "            self.temp_message.value = markdown('edit inputs below and save to: {0}'.format(fpth))\n",
    "            if os.path.isfile(fpth):\n",
    "                self.li = read_json(fpth)\n",
    "                self.form()\n",
    "                self._init_observe()\n",
    "                \n",
    "                with self.out:\n",
    "                    clear_output()\n",
    "                    out = [l.layout for l in self.widgets]\n",
    "                    self.applayout = widgets.VBox(out)\n",
    "                    display(self.applayout)\n",
    "                    for l in self.widgets:\n",
    "                        display(l.out)\n",
    "            else:\n",
    "                with self.out:\n",
    "                    clear_output()\n",
    "                    display(markdown('{0} not a file'.format(fpth)))\n",
    "\n",
    "        else:\n",
    "            with self.out:\n",
    "                self.temp_message.value = markdown('')\n",
    "                clear_output()\n",
    "        # add code here to save changes to file\n",
    "\n",
    "\n",
    "        self._display()\n",
    "        \n",
    "    def _display(self):\n",
    "        self.update_sse_display()\n",
    "        self.sse_display()\n",
    "        display(self.out)\n",
    "                    \n",
    "    def _ipython_display_(self):\n",
    "        self._display()\n"
   ]
  },
  {
   "cell_type": "code",
   "execution_count": 36,
   "metadata": {},
   "outputs": [
    {
     "name": "stdout",
     "output_type": "stream",
     "text": [
      "C:\\engDev\\git_mf\\ipyrun\\examples\\testproject\\datadriven\\src\\appdata\\inputs\\inputs-compare_model_run_file.json\n"
     ]
    },
    {
     "data": {
      "text/markdown": [
       "### Example0"
      ],
      "text/plain": [
       "<IPython.core.display.Markdown object>"
      ]
     },
     "metadata": {},
     "output_type": "display_data"
    },
    {
     "data": {
      "application/vnd.jupyter.widget-view+json": {
       "model_id": "c3f9780f55a44e0684506236b8314479",
       "version_major": 2,
       "version_minor": 0
      },
      "text/plain": [
       "VBox(children=(HBox(children=(ToggleButton(value=False, button_style='info', description='inputs from file'), …"
      ]
     },
     "metadata": {},
     "output_type": "display_data"
    },
    {
     "data": {
      "application/vnd.jupyter.widget-view+json": {
       "model_id": "e88ea5af7ab74eeeb127460d8a9e4f51",
       "version_major": 2,
       "version_minor": 0
      },
      "text/plain": [
       "VBox(children=(HBox(children=(HBox(children=(HTML(value='<p>Comparison</p>'), HBox(children=(SelectMultiple(op…"
      ]
     },
     "metadata": {},
     "output_type": "display_data"
    },
    {
     "data": {
      "application/vnd.jupyter.widget-view+json": {
       "model_id": "2e56a718044347a6bb877170b9bfdfbc",
       "version_major": 2,
       "version_minor": 0
      },
      "text/plain": [
       "Output()"
      ]
     },
     "metadata": {},
     "output_type": "display_data"
    },
    {
     "data": {
      "text/markdown": [
       "---"
      ],
      "text/plain": [
       "<IPython.core.display.Markdown object>"
      ]
     },
     "metadata": {},
     "output_type": "display_data"
    },
    {
     "data": {
      "text/markdown": [],
      "text/plain": [
       "<IPython.core.display.Markdown object>"
      ]
     },
     "metadata": {},
     "output_type": "display_data"
    },
    {
     "data": {
      "text/markdown": [
       "### Example0"
      ],
      "text/plain": [
       "<IPython.core.display.Markdown object>"
      ]
     },
     "metadata": {},
     "output_type": "display_data"
    },
    {
     "data": {
      "text/markdown": [
       "Edit list of dicts"
      ],
      "text/plain": [
       "<IPython.core.display.Markdown object>"
      ]
     },
     "metadata": {},
     "output_type": "display_data"
    },
    {
     "data": {
      "application/vnd.jupyter.widget-view+json": {
       "model_id": "20eb80ebc2dd4a9ab4c8c4423ac8bec8",
       "version_major": 2,
       "version_minor": 0
      },
      "text/plain": [
       "VBox(children=(HBox(children=(HBox(children=(HTML(value='<p>reous foo ous foo st</p>'), HBox(children=(FloatTe…"
      ]
     },
     "metadata": {},
     "output_type": "display_data"
    },
    {
     "data": {
      "application/vnd.jupyter.widget-view+json": {
       "model_id": "d5f5f0ddd4494587a92fd7c8a694c145",
       "version_major": 2,
       "version_minor": 0
      },
      "text/plain": [
       "Output()"
      ]
     },
     "metadata": {},
     "output_type": "display_data"
    },
    {
     "data": {
      "application/vnd.jupyter.widget-view+json": {
       "model_id": "1ea658a363b245f4a3db480290e8bbca",
       "version_major": 2,
       "version_minor": 0
      },
      "text/plain": [
       "Output()"
      ]
     },
     "metadata": {},
     "output_type": "display_data"
    },
    {
     "data": {
      "application/vnd.jupyter.widget-view+json": {
       "model_id": "1be3b584285b472ea13d12e9a03b5db7",
       "version_major": 2,
       "version_minor": 0
      },
      "text/plain": [
       "Output()"
      ]
     },
     "metadata": {},
     "output_type": "display_data"
    },
    {
     "data": {
      "application/vnd.jupyter.widget-view+json": {
       "model_id": "99a3607673504a72afb4e3aa8c7872ef",
       "version_major": 2,
       "version_minor": 0
      },
      "text/plain": [
       "Output()"
      ]
     },
     "metadata": {},
     "output_type": "display_data"
    },
    {
     "data": {
      "application/vnd.jupyter.widget-view+json": {
       "model_id": "b20e634e95304bc7933d4f2b7aaf25c8",
       "version_major": 2,
       "version_minor": 0
      },
      "text/plain": [
       "Output()"
      ]
     },
     "metadata": {},
     "output_type": "display_data"
    },
    {
     "data": {
      "application/vnd.jupyter.widget-view+json": {
       "model_id": "754c89f249294505bcc0a33349ed775b",
       "version_major": 2,
       "version_minor": 0
      },
      "text/plain": [
       "Output()"
      ]
     },
     "metadata": {},
     "output_type": "display_data"
    },
    {
     "data": {
      "application/vnd.jupyter.widget-view+json": {
       "model_id": "69f7982836bf40c2ba334b9016c407be",
       "version_major": 2,
       "version_minor": 0
      },
      "text/plain": [
       "Output()"
      ]
     },
     "metadata": {},
     "output_type": "display_data"
    },
    {
     "data": {
      "application/vnd.jupyter.widget-view+json": {
       "model_id": "fad8d663ee324eeebd29854743650c03",
       "version_major": 2,
       "version_minor": 0
      },
      "text/plain": [
       "Output()"
      ]
     },
     "metadata": {},
     "output_type": "display_data"
    },
    {
     "data": {
      "text/markdown": [
       "---"
      ],
      "text/plain": [
       "<IPython.core.display.Markdown object>"
      ]
     },
     "metadata": {},
     "output_type": "display_data"
    },
    {
     "data": {
      "text/markdown": [],
      "text/plain": [
       "<IPython.core.display.Markdown object>"
      ]
     },
     "metadata": {},
     "output_type": "display_data"
    },
    {
     "data": {
      "text/markdown": [
       "### Example1"
      ],
      "text/plain": [
       "<IPython.core.display.Markdown object>"
      ]
     },
     "metadata": {},
     "output_type": "display_data"
    },
    {
     "data": {
      "text/markdown": [
       "Simple Edit Json"
      ],
      "text/plain": [
       "<IPython.core.display.Markdown object>"
      ]
     },
     "metadata": {},
     "output_type": "display_data"
    },
    {
     "data": {
      "application/vnd.jupyter.widget-view+json": {
       "model_id": "6ba0fc73923d4c8d9d587059ef1a5aa0",
       "version_major": 2,
       "version_minor": 0
      },
      "text/plain": [
       "Button(button_style='success', description='save', style=ButtonStyle())"
      ]
     },
     "metadata": {},
     "output_type": "display_data"
    },
    {
     "data": {
      "application/vnd.jupyter.widget-view+json": {
       "model_id": "6be781ce163b43669611ff092000f89c",
       "version_major": 2,
       "version_minor": 0
      },
      "text/plain": [
       "VBox(children=(HBox(children=(HBox(children=(HTML(value='<p>reous foo ous foo st</p>'), HBox(children=(FloatTe…"
      ]
     },
     "metadata": {},
     "output_type": "display_data"
    },
    {
     "data": {
      "application/vnd.jupyter.widget-view+json": {
       "model_id": "fc3b38d186d64dbcbf1834245a3fb815",
       "version_major": 2,
       "version_minor": 0
      },
      "text/plain": [
       "Output()"
      ]
     },
     "metadata": {},
     "output_type": "display_data"
    },
    {
     "data": {
      "application/vnd.jupyter.widget-view+json": {
       "model_id": "18e3c645383441dba345bcfd1674240a",
       "version_major": 2,
       "version_minor": 0
      },
      "text/plain": [
       "Output()"
      ]
     },
     "metadata": {},
     "output_type": "display_data"
    },
    {
     "data": {
      "application/vnd.jupyter.widget-view+json": {
       "model_id": "70ae0b68d5de4fb19800fb0ce30529c2",
       "version_major": 2,
       "version_minor": 0
      },
      "text/plain": [
       "Output()"
      ]
     },
     "metadata": {},
     "output_type": "display_data"
    },
    {
     "data": {
      "application/vnd.jupyter.widget-view+json": {
       "model_id": "2e3e016a3de44070b8323f02be92f8a6",
       "version_major": 2,
       "version_minor": 0
      },
      "text/plain": [
       "Output()"
      ]
     },
     "metadata": {},
     "output_type": "display_data"
    },
    {
     "data": {
      "application/vnd.jupyter.widget-view+json": {
       "model_id": "0bb715af8ccc497b83426d27089b7798",
       "version_major": 2,
       "version_minor": 0
      },
      "text/plain": [
       "Output()"
      ]
     },
     "metadata": {},
     "output_type": "display_data"
    },
    {
     "data": {
      "application/vnd.jupyter.widget-view+json": {
       "model_id": "f8002dc235084b5db2152ada98cd67d1",
       "version_major": 2,
       "version_minor": 0
      },
      "text/plain": [
       "Output()"
      ]
     },
     "metadata": {},
     "output_type": "display_data"
    },
    {
     "data": {
      "application/vnd.jupyter.widget-view+json": {
       "model_id": "8bab58410f144184bf6055a39e447cd2",
       "version_major": 2,
       "version_minor": 0
      },
      "text/plain": [
       "Output()"
      ]
     },
     "metadata": {},
     "output_type": "display_data"
    },
    {
     "data": {
      "application/vnd.jupyter.widget-view+json": {
       "model_id": "1295c59ee2fa4201859c71ae4b2aa0b5",
       "version_major": 2,
       "version_minor": 0
      },
      "text/plain": [
       "Output()"
      ]
     },
     "metadata": {},
     "output_type": "display_data"
    },
    {
     "data": {
      "application/vnd.jupyter.widget-view+json": {
       "model_id": "f4a8474d65084222b1470abb23719b80",
       "version_major": 2,
       "version_minor": 0
      },
      "text/plain": [
       "Output()"
      ]
     },
     "metadata": {},
     "output_type": "display_data"
    },
    {
     "data": {
      "text/markdown": [
       "---"
      ],
      "text/plain": [
       "<IPython.core.display.Markdown object>"
      ]
     },
     "metadata": {},
     "output_type": "display_data"
    },
    {
     "data": {
      "text/markdown": [],
      "text/plain": [
       "<IPython.core.display.Markdown object>"
      ]
     },
     "metadata": {},
     "output_type": "display_data"
    },
    {
     "name": "stdout",
     "output_type": "stream",
     "text": [
      "C:\\engDev\\git_mf\\ipyrun\\ipyrun\\appdata\\inputs\\inputs-docx_to_pdf.json\n"
     ]
    },
    {
     "data": {
      "text/markdown": [
       "### Example2"
      ],
      "text/plain": [
       "<IPython.core.display.Markdown object>"
      ]
     },
     "metadata": {},
     "output_type": "display_data"
    },
    {
     "data": {
      "text/markdown": [
       "EDIT JSON FILE with custom config and file management"
      ],
      "text/plain": [
       "<IPython.core.display.Markdown object>"
      ]
     },
     "metadata": {},
     "output_type": "display_data"
    },
    {
     "data": {
      "application/vnd.jupyter.widget-view+json": {
       "model_id": "076f92cc790c40a1af5358e703860b3c",
       "version_major": 2,
       "version_minor": 0
      },
      "text/plain": [
       "VBox(children=(HBox(children=(ToggleButton(value=False, button_style='info', description='inputs from file'), …"
      ]
     },
     "metadata": {},
     "output_type": "display_data"
    },
    {
     "data": {
      "application/vnd.jupyter.widget-view+json": {
       "model_id": "8a4429fb5df3441dbbc850a5a356b574",
       "version_major": 2,
       "version_minor": 0
      },
      "text/plain": [
       "VBox(children=(HBox(children=(HBox(children=(HTML(value='<p>fpth_in</p>'), HBox(children=(Text(value='2'), HTM…"
      ]
     },
     "metadata": {},
     "output_type": "display_data"
    },
    {
     "data": {
      "application/vnd.jupyter.widget-view+json": {
       "model_id": "a903ddd62e984f4d93ed98586b40b25c",
       "version_major": 2,
       "version_minor": 0
      },
      "text/plain": [
       "Output()"
      ]
     },
     "metadata": {},
     "output_type": "display_data"
    },
    {
     "data": {
      "text/markdown": [
       "---"
      ],
      "text/plain": [
       "<IPython.core.display.Markdown object>"
      ]
     },
     "metadata": {},
     "output_type": "display_data"
    },
    {
     "data": {
      "text/markdown": [],
      "text/plain": [
       "<IPython.core.display.Markdown object>"
      ]
     },
     "metadata": {},
     "output_type": "display_data"
    },
    {
     "name": "stdout",
     "output_type": "stream",
     "text": [
      "C:\\engDev\\git_mf\\ipyrun\\ipyrun\\appdata\\inputs\\inputs-gbxml.json\n"
     ]
    },
    {
     "data": {
      "text/markdown": [
       "### Example3"
      ],
      "text/plain": [
       "<IPython.core.display.Markdown object>"
      ]
     },
     "metadata": {},
     "output_type": "display_data"
    },
    {
     "data": {
      "text/markdown": [
       "EDIT NESTED JSON FILE with custom config and file management"
      ],
      "text/plain": [
       "<IPython.core.display.Markdown object>"
      ]
     },
     "metadata": {},
     "output_type": "display_data"
    },
    {
     "data": {
      "application/vnd.jupyter.widget-view+json": {
       "model_id": "dbc5c18da4a544e78bf58dba8deff351",
       "version_major": 2,
       "version_minor": 0
      },
      "text/plain": [
       "VBox(children=(HBox(children=(ToggleButton(value=False, button_style='info', description='inputs from file'), …"
      ]
     },
     "metadata": {},
     "output_type": "display_data"
    },
    {
     "data": {
      "application/vnd.jupyter.widget-view+json": {
       "model_id": "864ea59a0b654fab82798c63bd5d2a2a",
       "version_major": 2,
       "version_minor": 0
      },
      "text/plain": [
       "VBox(children=(HBox(children=(HBox(children=(HTML(value='<p>fpth_in</p>'), HBox(children=(Text(value='C:\\\\engD…"
      ]
     },
     "metadata": {},
     "output_type": "display_data"
    },
    {
     "data": {
      "application/vnd.jupyter.widget-view+json": {
       "model_id": "ea458db6fdfe4a52a85961fe425e927d",
       "version_major": 2,
       "version_minor": 0
      },
      "text/plain": [
       "Output()"
      ]
     },
     "metadata": {},
     "output_type": "display_data"
    },
    {
     "data": {
      "text/markdown": [
       "---"
      ],
      "text/plain": [
       "<IPython.core.display.Markdown object>"
      ]
     },
     "metadata": {},
     "output_type": "display_data"
    },
    {
     "data": {
      "text/markdown": [],
      "text/plain": [
       "<IPython.core.display.Markdown object>"
      ]
     },
     "metadata": {},
     "output_type": "display_data"
    },
    {
     "data": {
      "text/markdown": [
       "### Example4"
      ],
      "text/plain": [
       "<IPython.core.display.Markdown object>"
      ]
     },
     "metadata": {},
     "output_type": "display_data"
    },
    {
     "data": {
      "text/markdown": [
       "Edit list of dicts iwth date picker and derived input"
      ],
      "text/plain": [
       "<IPython.core.display.Markdown object>"
      ]
     },
     "metadata": {},
     "output_type": "display_data"
    },
    {
     "data": {
      "text/markdown": [
       "EDIT JSON with DatePicker and DerivedText widgetss"
      ],
      "text/plain": [
       "<IPython.core.display.Markdown object>"
      ]
     },
     "metadata": {},
     "output_type": "display_data"
    },
    {
     "data": {
      "application/vnd.jupyter.widget-view+json": {
       "model_id": "87954dc3655e47628cfe6767cc74426b",
       "version_major": 2,
       "version_minor": 0
      },
      "text/plain": [
       "VBox(children=(HBox(children=(HBox(children=(HTML(value='<p>Model Run Name</p>'), HBox(children=(HTML(value='0…"
      ]
     },
     "metadata": {},
     "output_type": "display_data"
    },
    {
     "data": {
      "application/vnd.jupyter.widget-view+json": {
       "model_id": "7a81fd6d2a2845629d05f5c37ca77615",
       "version_major": 2,
       "version_minor": 0
      },
      "text/plain": [
       "Output()"
      ]
     },
     "metadata": {},
     "output_type": "display_data"
    },
    {
     "data": {
      "application/vnd.jupyter.widget-view+json": {
       "model_id": "e84d1894d9f14fcab3d3bbe40bb637d4",
       "version_major": 2,
       "version_minor": 0
      },
      "text/plain": [
       "Output()"
      ]
     },
     "metadata": {},
     "output_type": "display_data"
    },
    {
     "data": {
      "application/vnd.jupyter.widget-view+json": {
       "model_id": "91e5bed1e2074c35a32dc2ea330cdf1d",
       "version_major": 2,
       "version_minor": 0
      },
      "text/plain": [
       "Output()"
      ]
     },
     "metadata": {},
     "output_type": "display_data"
    },
    {
     "data": {
      "application/vnd.jupyter.widget-view+json": {
       "model_id": "265257c8f2e94d8ab2d03cfec0a627b9",
       "version_major": 2,
       "version_minor": 0
      },
      "text/plain": [
       "Output()"
      ]
     },
     "metadata": {},
     "output_type": "display_data"
    },
    {
     "data": {
      "application/vnd.jupyter.widget-view+json": {
       "model_id": "d6597ace93cd43d48155287dd4c015d2",
       "version_major": 2,
       "version_minor": 0
      },
      "text/plain": [
       "Output()"
      ]
     },
     "metadata": {},
     "output_type": "display_data"
    },
    {
     "data": {
      "application/vnd.jupyter.widget-view+json": {
       "model_id": "210b01721aad4c3382da60b16f3e4ef0",
       "version_major": 2,
       "version_minor": 0
      },
      "text/plain": [
       "Output()"
      ]
     },
     "metadata": {},
     "output_type": "display_data"
    },
    {
     "data": {
      "application/vnd.jupyter.widget-view+json": {
       "model_id": "050a0d2e74754de8b801c6a905bc173d",
       "version_major": 2,
       "version_minor": 0
      },
      "text/plain": [
       "Output()"
      ]
     },
     "metadata": {},
     "output_type": "display_data"
    },
    {
     "data": {
      "application/vnd.jupyter.widget-view+json": {
       "model_id": "128d9a56f38f427aaf67414d46b3895f",
       "version_major": 2,
       "version_minor": 0
      },
      "text/plain": [
       "Output()"
      ]
     },
     "metadata": {},
     "output_type": "display_data"
    },
    {
     "data": {
      "application/vnd.jupyter.widget-view+json": {
       "model_id": "bffcce5e07894127b5767b3f9073d720",
       "version_major": 2,
       "version_minor": 0
      },
      "text/plain": [
       "Output()"
      ]
     },
     "metadata": {},
     "output_type": "display_data"
    },
    {
     "data": {
      "application/vnd.jupyter.widget-view+json": {
       "model_id": "2dad473a47e04645aafec559ba5f92b8",
       "version_major": 2,
       "version_minor": 0
      },
      "text/plain": [
       "Output()"
      ]
     },
     "metadata": {},
     "output_type": "display_data"
    },
    {
     "data": {
      "application/vnd.jupyter.widget-view+json": {
       "model_id": "0bea091a51c443cdbf0376bab1544eac",
       "version_major": 2,
       "version_minor": 0
      },
      "text/plain": [
       "Output()"
      ]
     },
     "metadata": {},
     "output_type": "display_data"
    },
    {
     "data": {
      "application/vnd.jupyter.widget-view+json": {
       "model_id": "56230f5f2ed44c2dac07174e42f12c36",
       "version_major": 2,
       "version_minor": 0
      },
      "text/plain": [
       "Output()"
      ]
     },
     "metadata": {},
     "output_type": "display_data"
    },
    {
     "data": {
      "application/vnd.jupyter.widget-view+json": {
       "model_id": "e7d1f3d6144c45a39b2523bf91c5255e",
       "version_major": 2,
       "version_minor": 0
      },
      "text/plain": [
       "Output()"
      ]
     },
     "metadata": {},
     "output_type": "display_data"
    },
    {
     "data": {
      "text/markdown": [
       "---"
      ],
      "text/plain": [
       "<IPython.core.display.Markdown object>"
      ]
     },
     "metadata": {},
     "output_type": "display_data"
    },
    {
     "data": {
      "text/markdown": [],
      "text/plain": [
       "<IPython.core.display.Markdown object>"
      ]
     },
     "metadata": {},
     "output_type": "display_data"
    },
    {
     "name": "stdout",
     "output_type": "stream",
     "text": [
      "C:\\engDev\\git_mf\\ipyrun\\ipyrun\\appdata\\inputs\\inputs-gbxml.json\n"
     ]
    },
    {
     "data": {
      "text/markdown": [
       "### Example5"
      ],
      "text/plain": [
       "<IPython.core.display.Markdown object>"
      ]
     },
     "metadata": {},
     "output_type": "display_data"
    },
    {
     "data": {
      "text/markdown": [
       "EDIT NESTED JSON FILE with custom config and file management"
      ],
      "text/plain": [
       "<IPython.core.display.Markdown object>"
      ]
     },
     "metadata": {},
     "output_type": "display_data"
    },
    {
     "data": {
      "application/vnd.jupyter.widget-view+json": {
       "model_id": "a4791014c3b74f59a6f2cd497d96c282",
       "version_major": 2,
       "version_minor": 0
      },
      "text/plain": [
       "VBox(children=(HBox(children=(ToggleButton(value=False, button_style='info', description='inputs from file'), …"
      ]
     },
     "metadata": {},
     "output_type": "display_data"
    },
    {
     "data": {
      "application/vnd.jupyter.widget-view+json": {
       "model_id": "25cef747f1d64438ae1df52a237e3836",
       "version_major": 2,
       "version_minor": 0
      },
      "text/plain": [
       "VBox(children=(HBox(children=(HBox(children=(HTML(value='<p>fpth_in</p>'), HBox(children=(Text(value='C:\\\\engD…"
      ]
     },
     "metadata": {},
     "output_type": "display_data"
    },
    {
     "data": {
      "application/vnd.jupyter.widget-view+json": {
       "model_id": "eb94d47ae03c4873a301a31c4ce07fb0",
       "version_major": 2,
       "version_minor": 0
      },
      "text/plain": [
       "Output()"
      ]
     },
     "metadata": {},
     "output_type": "display_data"
    },
    {
     "data": {
      "text/markdown": [
       "---"
      ],
      "text/plain": [
       "<IPython.core.display.Markdown object>"
      ]
     },
     "metadata": {},
     "output_type": "display_data"
    },
    {
     "data": {
      "text/markdown": [],
      "text/plain": [
       "<IPython.core.display.Markdown object>"
      ]
     },
     "metadata": {},
     "output_type": "display_data"
    },
    {
     "data": {
      "text/markdown": [
       "### Example6"
      ],
      "text/plain": [
       "<IPython.core.display.Markdown object>"
      ]
     },
     "metadata": {},
     "output_type": "display_data"
    },
    {
     "data": {
      "text/markdown": [
       "select mf json file and edit"
      ],
      "text/plain": [
       "<IPython.core.display.Markdown object>"
      ]
     },
     "metadata": {},
     "output_type": "display_data"
    },
    {
     "data": {
      "application/vnd.jupyter.widget-view+json": {
       "model_id": "994acd0c3f414a8f8858f5a8d7413b3d",
       "version_major": 2,
       "version_minor": 0
      },
      "text/plain": [
       "VBox(children=(HBox(children=(ToggleButton(value=False, button_style='info', description='select file'), Toggl…"
      ]
     },
     "metadata": {},
     "output_type": "display_data"
    },
    {
     "data": {
      "application/vnd.jupyter.widget-view+json": {
       "model_id": "c32ca1fb5f90455a939b941b8c53b6ba",
       "version_major": 2,
       "version_minor": 0
      },
      "text/plain": [
       "Output()"
      ]
     },
     "metadata": {},
     "output_type": "display_data"
    },
    {
     "data": {
      "text/markdown": [
       "---"
      ],
      "text/plain": [
       "<IPython.core.display.Markdown object>"
      ]
     },
     "metadata": {},
     "output_type": "display_data"
    },
    {
     "data": {
      "text/markdown": [],
      "text/plain": [
       "<IPython.core.display.Markdown object>"
      ]
     },
     "metadata": {},
     "output_type": "display_data"
    }
   ],
   "source": [
    "if __name__ =='__main__':\n",
    "\n",
    "    # FORM ONLY EXAMPLE\n",
    "    NBFDIR = os.path.dirname(os.path.realpath('__file__'))\n",
    "    fpth = os.path.join(NBFDIR,r'appdata\\inputs\\test.json')\n",
    "    li = read_json(fpth)\n",
    "    g = EditListOfDicts(li)\n",
    "    display(Markdown('### Example0'))\n",
    "    display(Markdown('''Edit list of dicts'''))\n",
    "    display(g)\n",
    "    display(Markdown('---'))  \n",
    "    display(Markdown('')) \n",
    "    \n",
    "    # Example1\n",
    "    FDIR = os.path.dirname(os.path.realpath('__file__'))\n",
    "    fpth = os.path.join(FDIR,r'appdata/inputs/test.json')\n",
    "    simpleeditjson = SimpleEditJson(fpth)\n",
    "    # display\n",
    "    display(Markdown('### Example1'))\n",
    "    display(Markdown('''Simple Edit Json'''))\n",
    "    display(simpleeditjson)\n",
    "    display(Markdown('---'))  \n",
    "    display(Markdown('')) \n",
    "    \n",
    "    # Example2\n",
    "    # EDIT JSON FILE with custom config and file management\n",
    "    config={\n",
    "        'fpth_script':os.path.join(os.environ['mf_root'],r'MF_Toolbox\\dev\\mf_scripts\\docx_to_pdf.py'),\n",
    "        'fdir':'.',\n",
    "        'script_outputs': {'0': {\n",
    "            'fdir':'..\\reports',\n",
    "            'fnm': r'JupyterReportDemo.pdf',\n",
    "            'description': \"a pdf report from word\"\n",
    "                }\n",
    "            }\n",
    "        }\n",
    "    editjson = EditJson(config)\n",
    "    # display\n",
    "    display(Markdown('### Example2'))\n",
    "    display(Markdown('''EDIT JSON FILE with custom config and file management'''))\n",
    "    display(editjson)\n",
    "    display(Markdown('---'))  \n",
    "    display(Markdown('')) \n",
    "    \n",
    "\n",
    "    \n",
    "    # Example3\n",
    "    # EDIT NESTED JSON FILE with custom config and file management\n",
    "    nestedconfig={\n",
    "        'fpth_script':os.path.join(os.environ['mf_root'],r'MF_Toolbox\\dev\\mf_scripts\\gbxml.py'),\n",
    "        'fdir':'.',\n",
    "        }\n",
    "    editnestedjson = EditJson(nestedconfig)\n",
    "    # display\n",
    "    display(Markdown('### Example3'))\n",
    "    display(Markdown('''EDIT NESTED JSON FILE with custom config and file management'''))\n",
    "    display(editnestedjson)\n",
    "    display(Markdown('---'))  \n",
    "    display(Markdown('')) \n",
    "\n",
    "        \n",
    "    # Example4\n",
    "    # EDIT JSON with DatePicker and DerivedText widgets\n",
    "    NBFDIR = os.path.dirname(os.path.realpath('__file__'))\n",
    "    fpth = r'C:\\engDev\\git_mf\\ipyrun\\examples\\scripts\\template_inputs\\inputs-create_model_run_file.json'\n",
    "    li = read_json(fpth)\n",
    "    g = EditListOfDicts(li)\n",
    "    \n",
    "    display(Markdown('### Example4'))\n",
    "    display(Markdown('''Edit list of dicts iwth date picker and derived input'''))\n",
    "    display(Markdown('''EDIT JSON with DatePicker and DerivedText widgetss'''))\n",
    "    display(g)\n",
    "    display(Markdown('---'))  \n",
    "    display(Markdown('')) \n",
    "    \n",
    "    \n",
    "    # Example5\n",
    "    # EDIT NESTED JSON FILE with custom config and file management\n",
    "    nestedconfig={\n",
    "        'fpth_script':os.path.join(os.environ['mf_root'],r'MF_Toolbox\\dev\\mf_scripts\\gbxml.py'),\n",
    "        'fdir':'.',\n",
    "        }\n",
    "    editnestedjson = EditJson(nestedconfig)\n",
    "    # display\n",
    "    display(Markdown('### Example5'))\n",
    "    display(Markdown('''EDIT NESTED JSON FILE with custom config and file management'''))\n",
    "    display(editnestedjson)\n",
    "    display(Markdown('---'))  \n",
    "    display(Markdown('')) \n",
    "    \n",
    "    \n",
    "    # Example5\n",
    "    editmfjson = EditMfJson(r'appdata\\inputs')\n",
    "    # display\n",
    "    display(Markdown('### Example6'))\n",
    "    display(Markdown('''select mf json file and edit'''))\n",
    "    display(editmfjson)\n",
    "    display(Markdown('---'))  \n",
    "    display(Markdown('')) "
   ]
  },
  {
   "cell_type": "code",
   "execution_count": null,
   "metadata": {},
   "outputs": [],
   "source": []
  }
 ],
 "metadata": {
  "jupytext": {
   "formats": "ipynb,py:light"
  },
  "kernelspec": {
   "display_name": "Python [conda env:mf_main] *",
   "language": "python",
   "name": "conda-env-mf_main-py"
  },
  "language_info": {
   "codemirror_mode": {
    "name": "ipython",
    "version": 3
   },
   "file_extension": ".py",
   "mimetype": "text/x-python",
   "name": "python",
   "nbconvert_exporter": "python",
   "pygments_lexer": "ipython3",
   "version": "3.7.7"
  },
  "widgets": {
   "application/vnd.jupyter.widget-state+json": {
    "state": {
     "0084d8ff02004fa98174e5fe54cb4885": {
      "model_module": "@jupyter-widgets/controls",
      "model_module_version": "1.5.0",
      "model_name": "VBoxModel",
      "state": {
       "children": [
        "IPY_MODEL_9a5eb28080cd493c997713567b300926",
        "IPY_MODEL_7447325beaa24ebf84fcaec687238d79",
        "IPY_MODEL_51852deb68e941b5bfccceab3bbc713d",
        "IPY_MODEL_bdcc6278b19341549f204a17f0b62a94",
        "IPY_MODEL_a875b02891804d789f36b14459806839",
        "IPY_MODEL_0ef9257318cb4cec8e82a2d12b71f675",
        "IPY_MODEL_b276d59f82194527b7f1218511e744ca",
        "IPY_MODEL_602b84f624d8496babe6c6f209f2a20a",
        "IPY_MODEL_6b0864840919466da639e36fb07e8b19",
        "IPY_MODEL_dd38e5280f764909b5b4d6a2147044d8",
        "IPY_MODEL_715cbaa288904c2785a1f266751369d0",
        "IPY_MODEL_646519af5025496ab7e028ecf31c4b5f",
        "IPY_MODEL_6ebe63ca97474ce0b7cec84efafd4e07"
       ],
       "layout": "IPY_MODEL_5ee195e648b3484da26d655a565e7720"
      }
     },
     "008905e97162422faedb99150f650c80": {
      "model_module": "@jupyter-widgets/controls",
      "model_module_version": "1.5.0",
      "model_name": "DescriptionStyleModel",
      "state": {
       "description_width": ""
      }
     },
     "0098e486067c4417a8af3f168c9f5e70": {
      "model_module": "@jupyter-widgets/output",
      "model_module_version": "1.0.0",
      "model_name": "OutputModel",
      "state": {
       "layout": "IPY_MODEL_4357b26b435044a893359e1e4d345b61"
      }
     },
     "00d6072c190b4e168fa642c9687f0410": {
      "model_module": "@jupyter-widgets/base",
      "model_module_version": "1.2.0",
      "model_name": "LayoutModel",
      "state": {}
     },
     "012e524f3c524ccda18584d16c1bfb4d": {
      "model_module": "@jupyter-widgets/controls",
      "model_module_version": "1.5.0",
      "model_name": "ToggleButtonModel",
      "state": {
       "icon": "arrow-down",
       "layout": "IPY_MODEL_b60f799a3e574397a8ce22caa9650504",
       "style": "IPY_MODEL_be1b7e3e2d2a4c65a3858c3b525bbd13"
      }
     },
     "016ef02e0298444fa4bbf0795908e793": {
      "model_module": "@jupyter-widgets/controls",
      "model_module_version": "1.5.0",
      "model_name": "HBoxModel",
      "state": {
       "children": [
        "IPY_MODEL_b369d55d807d4f99ba775d95c46f623e",
        "IPY_MODEL_951c33f561ea4fbb8c93b28e45b2ff78"
       ],
       "layout": "IPY_MODEL_5f3d15fb08484b8cb15e1a1571e54fcc"
      }
     },
     "0173480a442a4503a991643b45b862fd": {
      "model_module": "@jupyter-widgets/controls",
      "model_module_version": "1.5.0",
      "model_name": "DescriptionStyleModel",
      "state": {
       "description_width": ""
      }
     },
     "0174aa74edef41539ee985a08e42eb58": {
      "model_module": "@jupyter-widgets/controls",
      "model_module_version": "1.5.0",
      "model_name": "HTMLModel",
      "state": {
       "layout": "IPY_MODEL_3990799ba7d84ab4897b879dcd0391ff",
       "style": "IPY_MODEL_4774872b76414d7694302148a858b45c",
       "value": "<p>edit user input form below</p>"
      }
     },
     "01bf8ad19d234e9a9c73bc83ef52f969": {
      "model_module": "@jupyter-widgets/controls",
      "model_module_version": "1.5.0",
      "model_name": "ToggleButtonModel",
      "state": {
       "button_style": "warning",
       "description": "edit file",
       "layout": "IPY_MODEL_f920741aebcc4ab6b50f8afb7e732576",
       "style": "IPY_MODEL_07243b63c1b74cde844be60b90787d1e"
      }
     },
     "01d5defe39324f9bbfa5234c5274207c": {
      "model_module": "@jupyter-widgets/base",
      "model_module_version": "1.2.0",
      "model_name": "LayoutModel",
      "state": {}
     },
     "01f85bf52bb24b939dd24bf8c7f468dd": {
      "model_module": "@jupyter-widgets/controls",
      "model_module_version": "1.5.0",
      "model_name": "HTMLModel",
      "state": {
       "layout": "IPY_MODEL_9b957f4c0f73473bbbedac990c982a59",
       "style": "IPY_MODEL_2c3ae1eb91894e12855691f9015cd021"
      }
     },
     "02462b049d134806bbe94bc077500279": {
      "model_module": "@jupyter-widgets/base",
      "model_module_version": "1.2.0",
      "model_name": "LayoutModel",
      "state": {
       "align_items": "stretch",
       "display": "flex",
       "flex_flow": "row",
       "grid_auto_columns": "True",
       "justify_content": "flex-end",
       "width": "90%"
      }
     },
     "02de846da87b4372a6f08f4d13d3a731": {
      "model_module": "@jupyter-widgets/base",
      "model_module_version": "1.2.0",
      "model_name": "LayoutModel",
      "state": {}
     },
     "02e2628ec40e42f99540158733928032": {
      "model_module": "@jupyter-widgets/controls",
      "model_module_version": "1.5.0",
      "model_name": "HBoxModel",
      "state": {
       "children": [
        "IPY_MODEL_62cbf0f7abf649dab4626de71c215b44",
        "IPY_MODEL_206c738e02fc4269b6a04b491a64d798"
       ],
       "layout": "IPY_MODEL_1d332704d2d04ad1bb7a356316df45c6"
      }
     },
     "02e3d9d41d4f46d2ac09b3670fb66fac": {
      "model_module": "@jupyter-widgets/base",
      "model_module_version": "1.2.0",
      "model_name": "LayoutModel",
      "state": {}
     },
     "02e514e30f6a48289bea4261ee7de2b7": {
      "model_module": "@jupyter-widgets/controls",
      "model_module_version": "1.5.0",
      "model_name": "DescriptionStyleModel",
      "state": {
       "description_width": ""
      }
     },
     "031c51e69d13486fa32f218e26df34a5": {
      "model_module": "@jupyter-widgets/controls",
      "model_module_version": "1.5.0",
      "model_name": "DescriptionStyleModel",
      "state": {
       "description_width": ""
      }
     },
     "03203008c2ba4116892984484d9b1282": {
      "model_module": "@jupyter-widgets/base",
      "model_module_version": "1.2.0",
      "model_name": "LayoutModel",
      "state": {
       "align_items": "stretch",
       "border": "dashed 0.2px green",
       "display": "flex",
       "flex_flow": "row",
       "grid_auto_columns": "True",
       "justify_content": "flex-start",
       "width": "100%"
      }
     },
     "034c49c5d672440f99432a210886f728": {
      "model_module": "@jupyter-widgets/base",
      "model_module_version": "1.2.0",
      "model_name": "LayoutModel",
      "state": {}
     },
     "035f61b9cd3948818a7311ed4a38e8c0": {
      "model_module": "@jupyter-widgets/controls",
      "model_module_version": "1.5.0",
      "model_name": "HTMLModel",
      "state": {
       "layout": "IPY_MODEL_4bfbb8cfdeb7420e848148f1767902d0",
       "style": "IPY_MODEL_cdb775759c76492aaf42fe444060db62",
       "value": "<p>defines the logic of the space naming. use default value where practical.</p>"
      }
     },
     "0377d3ffe19b4b89a66c590aa4ce56ca": {
      "model_module": "@jupyter-widgets/base",
      "model_module_version": "1.2.0",
      "model_name": "LayoutModel",
      "state": {}
     },
     "03b947c6a3974c32b4ad4d579e2f7059": {
      "model_module": "@jupyter-widgets/controls",
      "model_module_version": "1.5.0",
      "model_name": "HTMLModel",
      "state": {
       "layout": "IPY_MODEL_bc8ab91e015948a8baa9edd40a9ef0dd",
       "style": "IPY_MODEL_3991d8452faf47b28f45bb85acbb7bdd",
       "value": "<p>File Tag</p>"
      }
     },
     "03ca461c16b74f88926d9f12b2b13cae": {
      "model_module": "@jupyter-widgets/controls",
      "model_module_version": "1.5.0",
      "model_name": "DescriptionStyleModel",
      "state": {
       "description_width": ""
      }
     },
     "04184ea313ad4c1897ecf869c090538f": {
      "model_module": "@jupyter-widgets/controls",
      "model_module_version": "1.5.0",
      "model_name": "DescriptionStyleModel",
      "state": {
       "description_width": ""
      }
     },
     "044a56dbdb794e469a98935c9eeecc7c": {
      "model_module": "@jupyter-widgets/base",
      "model_module_version": "1.2.0",
      "model_name": "LayoutModel",
      "state": {}
     },
     "045d343dcf0f4f7f9666ca9c04cc2542": {
      "model_module": "@jupyter-widgets/controls",
      "model_module_version": "1.5.0",
      "model_name": "DescriptionStyleModel",
      "state": {
       "description_width": ""
      }
     },
     "047f0073ee8d4ca9b0c0037641361eb2": {
      "model_module": "@jupyter-widgets/controls",
      "model_module_version": "1.5.0",
      "model_name": "HBoxModel",
      "state": {
       "children": [
        "IPY_MODEL_11f10495afe649cb8722b31afdee2907",
        "IPY_MODEL_9e7e214e469942b08f31e2e6180b5cad"
       ],
       "layout": "IPY_MODEL_fdc527c6160b4d47ba0c16e274f72df8"
      }
     },
     "049f075cabcc44bd967e9c569212ea06": {
      "model_module": "@jupyter-widgets/base",
      "model_module_version": "1.2.0",
      "model_name": "LayoutModel",
      "state": {}
     },
     "052ee911514541f4bfbf14b6651e337e": {
      "model_module": "@jupyter-widgets/base",
      "model_module_version": "1.2.0",
      "model_name": "LayoutModel",
      "state": {}
     },
     "0556954043b14be9a8c967eb37599de3": {
      "model_module": "@jupyter-widgets/base",
      "model_module_version": "1.2.0",
      "model_name": "LayoutModel",
      "state": {}
     },
     "0564d84aa214466b9feac0e4d65f6881": {
      "model_module": "@jupyter-widgets/base",
      "model_module_version": "1.2.0",
      "model_name": "LayoutModel",
      "state": {
       "align_items": "stretch",
       "border": "dashed 0.2px green",
       "display": "flex",
       "flex_flow": "row",
       "grid_auto_columns": "True",
       "justify_content": "flex-start",
       "width": "100%"
      }
     },
     "056625f6afbd4d94a29ce942873bf732": {
      "model_module": "@jupyter-widgets/base",
      "model_module_version": "1.2.0",
      "model_name": "LayoutModel",
      "state": {
       "width": "auto"
      }
     },
     "056a3fa64a654e4bbc492d0f8ddaf477": {
      "model_module": "@jupyter-widgets/base",
      "model_module_version": "1.2.0",
      "model_name": "LayoutModel",
      "state": {}
     },
     "056a5edc61524695a73c946c1ecbe06f": {
      "model_module": "@jupyter-widgets/base",
      "model_module_version": "1.2.0",
      "model_name": "LayoutModel",
      "state": {}
     },
     "057391fe337843a9954c6e8e7932e2d4": {
      "model_module": "@jupyter-widgets/base",
      "model_module_version": "1.2.0",
      "model_name": "LayoutModel",
      "state": {
       "align_items": "stretch",
       "border": "dashed 0.2px green",
       "display": "flex",
       "flex_flow": "row",
       "grid_auto_columns": "True",
       "justify_content": "flex-start",
       "width": "100%"
      }
     },
     "05780eb420c745a5a89b057e80374f0d": {
      "model_module": "@jupyter-widgets/base",
      "model_module_version": "1.2.0",
      "model_name": "LayoutModel",
      "state": {
       "align_items": "stretch",
       "display": "flex",
       "flex_flow": "row",
       "grid_auto_columns": "True",
       "justify_content": "flex-start",
       "width": "80%"
      }
     },
     "057eec8859f04addb7950e7bfd030b9f": {
      "model_module": "@jupyter-widgets/base",
      "model_module_version": "1.2.0",
      "model_name": "LayoutModel",
      "state": {}
     },
     "05a26a3937ea41bfbb0b90d55df1ddf7": {
      "model_module": "@jupyter-widgets/controls",
      "model_module_version": "1.5.0",
      "model_name": "HBoxModel",
      "state": {
       "children": [
        "IPY_MODEL_dc26b490188b4ec9aefd1f01d1aed8fb",
        "IPY_MODEL_8e389964500a43cf9c34792f742c2f6d"
       ],
       "layout": "IPY_MODEL_7a80d95ef8a643bfa6a06d1ed41402ef"
      }
     },
     "05e7888dcc0c4d2fb08512b51c87ee3e": {
      "model_module": "@jupyter-widgets/base",
      "model_module_version": "1.2.0",
      "model_name": "LayoutModel",
      "state": {
       "grid_area": "filename",
       "width": "auto"
      }
     },
     "060d3c0ebc2c47d8bc61dbcc6d3e03e6": {
      "model_module": "@jupyter-widgets/controls",
      "model_module_version": "1.5.0",
      "model_name": "HBoxModel",
      "state": {
       "children": [
        "IPY_MODEL_7fb9d7973fb640f1926821f2cc1619cb",
        "IPY_MODEL_bff09dac09064bfda535af2b4380f547"
       ],
       "layout": "IPY_MODEL_7b04fb919ec84f8a8179cfec5d7de3ab"
      }
     },
     "06232e13f6f34aaea2d4b8a9fd08cfdf": {
      "model_module": "@jupyter-widgets/controls",
      "model_module_version": "1.5.0",
      "model_name": "HBoxModel",
      "state": {
       "children": [
        "IPY_MODEL_2b23691593a042d89202cb3702c202a9"
       ],
       "layout": "IPY_MODEL_b228de409384499c9894cdb411358472"
      }
     },
     "0634e23d9fbc4a1e9f3a0339d0aee9c7": {
      "model_module": "@jupyter-widgets/output",
      "model_module_version": "1.0.0",
      "model_name": "OutputModel",
      "state": {
       "layout": "IPY_MODEL_136b8cc299484c75b27a2e30ef89827a"
      }
     },
     "066b5bd507854a5cb612ab76a78652ad": {
      "model_module": "@jupyter-widgets/controls",
      "model_module_version": "1.5.0",
      "model_name": "HBoxModel",
      "state": {
       "children": [
        "IPY_MODEL_ce101e4256e640c99d239b1f1728a147",
        "IPY_MODEL_ec861170a2c347119f6e6de404008873"
       ],
       "layout": "IPY_MODEL_c573018197354e54a226477daf979843"
      }
     },
     "069b9d0ec6e3429ab6395d485360b262": {
      "model_module": "@jupyter-widgets/base",
      "model_module_version": "1.2.0",
      "model_name": "LayoutModel",
      "state": {}
     },
     "06a186fb13c04d4f9789c165c182227f": {
      "model_module": "@jupyter-widgets/base",
      "model_module_version": "1.2.0",
      "model_name": "LayoutModel",
      "state": {}
     },
     "06fe4f17ce614c72a87522cf889379fe": {
      "model_module": "@jupyter-widgets/controls",
      "model_module_version": "1.5.0",
      "model_name": "HTMLModel",
      "state": {
       "layout": "IPY_MODEL_53541592d9c64499a21e2c154ed1230f",
       "style": "IPY_MODEL_96339d484d8b4394ad3f1cca9b53161a"
      }
     },
     "0705ef454d644ca0be05274009c6aac5": {
      "model_module": "@jupyter-widgets/controls",
      "model_module_version": "1.5.0",
      "model_name": "SliderStyleModel",
      "state": {
       "description_width": ""
      }
     },
     "07243b63c1b74cde844be60b90787d1e": {
      "model_module": "@jupyter-widgets/controls",
      "model_module_version": "1.5.0",
      "model_name": "DescriptionStyleModel",
      "state": {
       "description_width": ""
      }
     },
     "07367f6756ba42f39334fda5ec654620": {
      "model_module": "@jupyter-widgets/base",
      "model_module_version": "1.2.0",
      "model_name": "LayoutModel",
      "state": {}
     },
     "073a4c62aadd4be6b30a09efcec8ba31": {
      "model_module": "@jupyter-widgets/base",
      "model_module_version": "1.2.0",
      "model_name": "LayoutModel",
      "state": {}
     },
     "07512152d7c4431ea7fb3584b5cab438": {
      "model_module": "@jupyter-widgets/base",
      "model_module_version": "1.2.0",
      "model_name": "LayoutModel",
      "state": {}
     },
     "075b6596724347d7b56ad1ac6ed442d5": {
      "model_module": "@jupyter-widgets/controls",
      "model_module_version": "1.5.0",
      "model_name": "VBoxModel",
      "state": {
       "children": [
        "IPY_MODEL_5d1ea912b2ef40b2b9a41d71e9d97cdd",
        "IPY_MODEL_0174aa74edef41539ee985a08e42eb58",
        "IPY_MODEL_d7268307acfb43da962af87690f9b212"
       ],
       "layout": "IPY_MODEL_efedc2ab39ec4bc9aed0f7b2742ea6f9"
      }
     },
     "07a264f10791460fabbceac5a3f32881": {
      "model_module": "@jupyter-widgets/base",
      "model_module_version": "1.2.0",
      "model_name": "LayoutModel",
      "state": {
       "align_items": "stretch",
       "display": "flex",
       "flex_flow": "row",
       "grid_auto_columns": "True",
       "justify_content": "flex-end",
       "width": "90%"
      }
     },
     "07ddbd00859545b4a9df1130499b88d7": {
      "model_module": "@jupyter-widgets/base",
      "model_module_version": "1.2.0",
      "model_name": "LayoutModel",
      "state": {}
     },
     "07e31cbaa48444489c84b6e5fa063fb2": {
      "model_module": "@jupyter-widgets/controls",
      "model_module_version": "1.5.0",
      "model_name": "RadioButtonsModel",
      "state": {
       "_options_labels": [
        "TEMPLATE: C:\\engDev\\git_mf\\MF_Toolbox\\dev\\mf_scripts\\template_inputs\\inputs-docx_to_pdf.json",
        "PROJECT: C:\\engDev\\git_mf\\ipyrun\\ipyrun\\appdata\\inputs\\inputs-docx_to_pdf.json",
        "PROJECT: C:\\engDev\\git_mf\\ipyrun\\ipyrun\\appdata\\inputs\\archive\\20200610_1134-jg-inputs-docx_to_pdf.json",
        "PROJECT: C:\\engDev\\git_mf\\ipyrun\\ipyrun\\appdata\\inputs\\archive\\20200610_1139-jg-inputs-docx_to_pdf.json",
        "PROJECT: C:\\engDev\\git_mf\\ipyrun\\ipyrun\\appdata\\inputs\\archive\\20200610_1218-jg-inputs-docx_to_pdf.json",
        "PROJECT: C:\\engDev\\git_mf\\ipyrun\\ipyrun\\appdata\\inputs\\archive\\20200610_1220-jg-inputs-docx_to_pdf.json",
        "PROJECT: C:\\engDev\\git_mf\\ipyrun\\ipyrun\\appdata\\inputs\\archive\\20200610_1221-jg-inputs-docx_to_pdf.json",
        "PROJECT: C:\\engDev\\git_mf\\ipyrun\\ipyrun\\appdata\\inputs\\archive\\20200610_1224-jg-inputs-docx_to_pdf.json",
        "PROJECT: C:\\engDev\\git_mf\\ipyrun\\ipyrun\\appdata\\inputs\\archive\\20200610_1225-jg-inputs-docx_to_pdf.json",
        "PROJECT: C:\\engDev\\git_mf\\ipyrun\\ipyrun\\appdata\\inputs\\archive\\20200610_1244-jg-inputs-docx_to_pdf.json",
        "PROJECT: C:\\engDev\\git_mf\\ipyrun\\ipyrun\\appdata\\inputs\\archive\\20200610_1246-jg-inputs-docx_to_pdf.json",
        "PROJECT: C:\\engDev\\git_mf\\ipyrun\\ipyrun\\appdata\\inputs\\archive\\20200610_1419-jg-inputs-docx_to_pdf.json",
        "PROJECT: C:\\engDev\\git_mf\\ipyrun\\ipyrun\\appdata\\inputs\\archive\\20200610_1420-jg-inputs-docx_to_pdf.json",
        "PROJECT: C:\\engDev\\git_mf\\ipyrun\\ipyrun\\appdata\\inputs\\archive\\20200610_1422-jg-inputs-docx_to_pdf.json",
        "PROJECT: C:\\engDev\\git_mf\\ipyrun\\ipyrun\\appdata\\inputs\\archive\\20200610_1425-jg-inputs-docx_to_pdf.json",
        "PROJECT: C:\\engDev\\git_mf\\ipyrun\\ipyrun\\appdata\\inputs\\archive\\20200610_1853-jg-inputs-docx_to_pdf.json",
        "PROJECT: C:\\engDev\\git_mf\\ipyrun\\ipyrun\\appdata\\inputs\\archive\\20200610_1855-jg-inputs-docx_to_pdf.json",
        "PROJECT: C:\\engDev\\git_mf\\ipyrun\\ipyrun\\appdata\\inputs\\archive\\20200611_0748-jg-inputs-docx_to_pdf.json",
        "PROJECT: C:\\engDev\\git_mf\\ipyrun\\ipyrun\\appdata\\inputs\\archive\\20200611_0754-jg-inputs-docx_to_pdf.json",
        "PROJECT: C:\\engDev\\git_mf\\ipyrun\\ipyrun\\appdata\\inputs\\archive\\20200611_0757-jg-inputs-docx_to_pdf.json",
        "PROJECT: C:\\engDev\\git_mf\\ipyrun\\ipyrun\\appdata\\inputs\\archive\\20200616_1026-jg-inputs-docx_to_pdf.json"
       ],
       "index": 0,
       "layout": "IPY_MODEL_ba8ce7cc180b40859f8291895c826995",
       "style": "IPY_MODEL_b4ad94dcb2ce4c9da98157820184abcd"
      }
     },
     "081d7ac330b448bbb4dfacd59196a892": {
      "model_module": "@jupyter-widgets/base",
      "model_module_version": "1.2.0",
      "model_name": "LayoutModel",
      "state": {}
     },
     "0835201daf164acf91ab5bf12bc8f746": {
      "model_module": "@jupyter-widgets/controls",
      "model_module_version": "1.5.0",
      "model_name": "DescriptionStyleModel",
      "state": {
       "description_width": ""
      }
     },
     "0884cda80a534bb9b3a454e6204c2318": {
      "model_module": "@jupyter-widgets/controls",
      "model_module_version": "1.5.0",
      "model_name": "HBoxModel",
      "state": {
       "children": [
        "IPY_MODEL_d6c9cc7f838844bd8b6a0a0f882d1838"
       ],
       "layout": "IPY_MODEL_220caf63e4ea42a891de2b22dc21403f"
      }
     },
     "08907f7bf01c42ebbc5bf5b6e1b75d0f": {
      "model_module": "@jupyter-widgets/controls",
      "model_module_version": "1.5.0",
      "model_name": "DescriptionStyleModel",
      "state": {
       "description_width": ""
      }
     },
     "08a4250d3b7d42e1a1833e13302070f1": {
      "model_module": "@jupyter-widgets/controls",
      "model_module_version": "1.5.0",
      "model_name": "HBoxModel",
      "state": {
       "children": [
        "IPY_MODEL_55abf48c850548b9bc13dff47bfc6356",
        "IPY_MODEL_957916ca530c4d61b5c40cd13bb75f73"
       ],
       "layout": "IPY_MODEL_6a0f178c997b4e90b7413632baf4a451"
      }
     },
     "08acd28ca5af4432b47063babf020397": {
      "model_module": "@jupyter-widgets/controls",
      "model_module_version": "1.5.0",
      "model_name": "HBoxModel",
      "state": {
       "children": [
        "IPY_MODEL_893ebe097a5947c9b7b3dd8d9ee39805"
       ],
       "layout": "IPY_MODEL_8e743e0bbe6c4e1fa3e9022e2b5609db"
      }
     },
     "08c38384c10a48f6b067b07645f8bc79": {
      "model_module": "@jupyter-widgets/base",
      "model_module_version": "1.2.0",
      "model_name": "LayoutModel",
      "state": {
       "align_items": "stretch",
       "display": "flex",
       "flex_flow": "row",
       "grid_auto_columns": "True",
       "justify_content": "flex-start",
       "width": "80%"
      }
     },
     "08d3725ca9dc497383bda9330a2a2302": {
      "model_module": "@jupyter-widgets/controls",
      "model_module_version": "1.5.0",
      "model_name": "ButtonStyleModel",
      "state": {
       "font_weight": "bold"
      }
     },
     "08e2732ae9f3415a9f2f847aebf55cfb": {
      "model_module": "@jupyter-widgets/base",
      "model_module_version": "1.2.0",
      "model_name": "LayoutModel",
      "state": {}
     },
     "090e0c6622584f369887a10ba110faa9": {
      "model_module": "@jupyter-widgets/controls",
      "model_module_version": "1.5.0",
      "model_name": "HTMLModel",
      "state": {
       "layout": "IPY_MODEL_3ee705f8582c4b0ebcf5175f497ffa1a",
       "style": "IPY_MODEL_71ee9c9f6e2a4ceeb3f077c567a84b2d"
      }
     },
     "0957081e8734448dabff38b5f9f53fb0": {
      "model_module": "@jupyter-widgets/controls",
      "model_module_version": "1.5.0",
      "model_name": "HBoxModel",
      "state": {
       "children": [
        "IPY_MODEL_7b1d56baef0d44d7ac4e02fb61dc0bb0",
        "IPY_MODEL_fe19b59321f04e3ba0b91299ba7c4c0e"
       ],
       "layout": "IPY_MODEL_c905ae4b990b483a8e8e5be67ab5c8a2"
      }
     },
     "096175b80f054ef1ab831a1d37cd94ec": {
      "model_module": "@jupyter-widgets/base",
      "model_module_version": "1.2.0",
      "model_name": "LayoutModel",
      "state": {}
     },
     "0978af4148ae428b93ee17c28737e571": {
      "model_module": "@jupyter-widgets/controls",
      "model_module_version": "1.5.0",
      "model_name": "DescriptionStyleModel",
      "state": {
       "description_width": ""
      }
     },
     "09ac6ac88c714b46bcd926767e34fd04": {
      "model_module": "@jupyter-widgets/controls",
      "model_module_version": "1.5.0",
      "model_name": "DescriptionStyleModel",
      "state": {
       "description_width": ""
      }
     },
     "09bf071437ed4291abbd0440c2a2fe56": {
      "model_module": "@jupyter-widgets/controls",
      "model_module_version": "1.5.0",
      "model_name": "HBoxModel",
      "state": {
       "children": [
        "IPY_MODEL_e9147757db9143fca968282ea16d5291",
        "IPY_MODEL_731a584dff764dbca64c5dd734bbd800"
       ],
       "layout": "IPY_MODEL_6c05d072896645fc9847a7fb638b074a"
      }
     },
     "09ec194de3ec48ca8d900c447bf57237": {
      "model_module": "@jupyter-widgets/base",
      "model_module_version": "1.2.0",
      "model_name": "LayoutModel",
      "state": {
       "align_items": "stretch",
       "display": "flex",
       "flex_flow": "row",
       "grid_auto_columns": "True",
       "justify_content": "flex-end",
       "width": "90%"
      }
     },
     "09ffd3893157454c9d7b04441fb931de": {
      "model_module": "@jupyter-widgets/base",
      "model_module_version": "1.2.0",
      "model_name": "LayoutModel",
      "state": {}
     },
     "0a0cc30bc52b42dd9010d95852179747": {
      "model_module": "@jupyter-widgets/base",
      "model_module_version": "1.2.0",
      "model_name": "LayoutModel",
      "state": {}
     },
     "0a1935ac7dce4e5c9131e2c4e2d4022c": {
      "model_module": "@jupyter-widgets/controls",
      "model_module_version": "1.5.0",
      "model_name": "ButtonStyleModel",
      "state": {
       "font_weight": "bold"
      }
     },
     "0a307d9421af489287b2a750779ed7bc": {
      "model_module": "@jupyter-widgets/base",
      "model_module_version": "1.2.0",
      "model_name": "LayoutModel",
      "state": {
       "align_items": "stretch",
       "display": "flex",
       "flex_flow": "row",
       "grid_auto_columns": "True",
       "justify_content": "flex-start",
       "width": "80%"
      }
     },
     "0a46834d193444b792f88813696c3ab4": {
      "model_module": "@jupyter-widgets/controls",
      "model_module_version": "1.5.0",
      "model_name": "DescriptionStyleModel",
      "state": {
       "description_width": ""
      }
     },
     "0a9bcdc50bf64220bfc429548c6f49e7": {
      "model_module": "@jupyter-widgets/base",
      "model_module_version": "1.2.0",
      "model_name": "LayoutModel",
      "state": {}
     },
     "0af8f78388444ee1a96916b42f20f6a9": {
      "model_module": "@jupyter-widgets/base",
      "model_module_version": "1.2.0",
      "model_name": "LayoutModel",
      "state": {}
     },
     "0af924b92e7c40e79e59d8b19dd54e83": {
      "model_module": "@jupyter-widgets/base",
      "model_module_version": "1.2.0",
      "model_name": "LayoutModel",
      "state": {
       "width": "auto"
      }
     },
     "0b157c145f9d4ef7bc3a1eba6a68c657": {
      "model_module": "@jupyter-widgets/output",
      "model_module_version": "1.0.0",
      "model_name": "OutputModel",
      "state": {
       "layout": "IPY_MODEL_1880f7526f2248448f8329e7e7982f47"
      }
     },
     "0b4493ccfb954ad583d56e0ff3de73c9": {
      "model_module": "@jupyter-widgets/controls",
      "model_module_version": "1.5.0",
      "model_name": "RadioButtonsModel",
      "state": {
       "_options_labels": [
        "TEMPLATE: C:\\engDev\\git_mf\\MF_Toolbox\\dev\\mf_scripts\\template_inputs\\inputs-gbxml.json",
        "PROJECT: C:\\engDev\\git_mf\\ipyrun\\ipyrun\\appdata\\inputs\\inputs-gbxml.json"
       ],
       "index": 0,
       "layout": "IPY_MODEL_2f97ec8b7a504878ad9c4482a716142a",
       "style": "IPY_MODEL_0cbb34a3b6194a169a92700f51cd0b8f"
      }
     },
     "0b6debb7182f40a185c53295c51f5d28": {
      "model_module": "@jupyter-widgets/controls",
      "model_module_version": "1.5.0",
      "model_name": "HBoxModel",
      "state": {
       "children": [
        "IPY_MODEL_471c2599ac844721938c3475c40524db"
       ],
       "layout": "IPY_MODEL_4bde90cefe1b4f8ab04429a6a2710b0f"
      }
     },
     "0b85aac336ba47e5912e86eef4296592": {
      "model_module": "@jupyter-widgets/controls",
      "model_module_version": "1.5.0",
      "model_name": "ToggleButtonModel",
      "state": {
       "button_style": "warning",
       "description": "edit file",
       "layout": "IPY_MODEL_813260cf21954575b3b049fec076450b",
       "style": "IPY_MODEL_639a7b5e8a4f4c4eb3d4c35f966edefc"
      }
     },
     "0b9147735c874ea1a798ef8a0f295c20": {
      "model_module": "@jupyter-widgets/controls",
      "model_module_version": "1.5.0",
      "model_name": "ButtonModel",
      "state": {
       "description": "Select",
       "layout": "IPY_MODEL_056625f6afbd4d94a29ce942873bf732",
       "style": "IPY_MODEL_34c1c9ad885b4d17a9d910712f568851"
      }
     },
     "0bc1044aae084547b62d7b4c94be1748": {
      "model_module": "@jupyter-widgets/base",
      "model_module_version": "1.2.0",
      "model_name": "LayoutModel",
      "state": {
       "align_items": "stretch",
       "border": "dashed 0.2px green",
       "display": "flex",
       "flex_flow": "row",
       "grid_auto_columns": "True",
       "justify_content": "flex-start",
       "width": "100%"
      }
     },
     "0c00bfc4deeb4823b71af05cd4d04018": {
      "model_module": "@jupyter-widgets/base",
      "model_module_version": "1.2.0",
      "model_name": "LayoutModel",
      "state": {}
     },
     "0c2b500f672e497b9e26bb413722a4c6": {
      "model_module": "@jupyter-widgets/base",
      "model_module_version": "1.2.0",
      "model_name": "LayoutModel",
      "state": {
       "align_items": "stretch",
       "border": "dashed 0.2px green",
       "display": "flex",
       "flex_flow": "row",
       "grid_auto_columns": "True",
       "justify_content": "flex-start",
       "width": "100%"
      }
     },
     "0c3eed9f24084f93b03d7fadf669d1b3": {
      "model_module": "@jupyter-widgets/controls",
      "model_module_version": "1.5.0",
      "model_name": "HTMLModel",
      "state": {
       "layout": "IPY_MODEL_a9bfa91b26204b68a391243826d6f7d3",
       "style": "IPY_MODEL_2afc6d31a6b045dfb8c699d21160d0fb",
       "value": "<p>foo</p>"
      }
     },
     "0c4e2d1d62d748bebb9c7214ac1f1728": {
      "model_module": "@jupyter-widgets/controls",
      "model_module_version": "1.5.0",
      "model_name": "HTMLModel",
      "state": {
       "layout": "IPY_MODEL_47ed8e48c77f4e3ebda0a4d635eb50da",
       "style": "IPY_MODEL_cf817a2e7dcf47ae92c6621a48a20417",
       "value": "<p>As Designed?</p>"
      }
     },
     "0c9986bdcc9e4ed4b60e8213011d0d34": {
      "model_module": "@jupyter-widgets/controls",
      "model_module_version": "1.5.0",
      "model_name": "HTMLModel",
      "state": {
       "layout": "IPY_MODEL_b24c275aeb454bdc9b00c4397e7c8cf6",
       "style": "IPY_MODEL_716f8278448e4ce381d12bb1d3cd776c",
       "value": "<p>Ventilation</p>"
      }
     },
     "0cbb34a3b6194a169a92700f51cd0b8f": {
      "model_module": "@jupyter-widgets/controls",
      "model_module_version": "1.5.0",
      "model_name": "DescriptionStyleModel",
      "state": {
       "description_width": ""
      }
     },
     "0cc0016012f64625b5160c64d7d70697": {
      "model_module": "@jupyter-widgets/base",
      "model_module_version": "1.2.0",
      "model_name": "LayoutModel",
      "state": {}
     },
     "0cd098fba2bc4cd08818f47dd811e4f7": {
      "model_module": "@jupyter-widgets/controls",
      "model_module_version": "1.5.0",
      "model_name": "HBoxModel",
      "state": {
       "children": [
        "IPY_MODEL_9ecb11fc626e4f758f87171599666419"
       ],
       "layout": "IPY_MODEL_cb3446b69d78404bb08304c8aa30db4f"
      }
     },
     "0d0f7a77b2804911a1d463689a6264a6": {
      "model_module": "@jupyter-widgets/controls",
      "model_module_version": "1.5.0",
      "model_name": "DescriptionStyleModel",
      "state": {
       "description_width": ""
      }
     },
     "0d1cf2d1429e415aa62d8099b28e345b": {
      "model_module": "@jupyter-widgets/controls",
      "model_module_version": "1.5.0",
      "model_name": "DescriptionStyleModel",
      "state": {
       "description_width": ""
      }
     },
     "0d43195c9a16490dab5e15a2ec1379cc": {
      "model_module": "@jupyter-widgets/controls",
      "model_module_version": "1.5.0",
      "model_name": "HTMLModel",
      "state": {
       "layout": "IPY_MODEL_c616090d4dbf40d78ef4b00fdef44e98",
       "style": "IPY_MODEL_6973c23b67554da2bd322cb882beb18b",
       "value": "<p>foo</p>"
      }
     },
     "0d508667508843c2a42b9c20fe0edc2c": {
      "model_module": "@jupyter-widgets/base",
      "model_module_version": "1.2.0",
      "model_name": "LayoutModel",
      "state": {}
     },
     "0d59638ccace4f9887b2afcfeb35e9a0": {
      "model_module": "@jupyter-widgets/controls",
      "model_module_version": "1.5.0",
      "model_name": "DescriptionStyleModel",
      "state": {
       "description_width": ""
      }
     },
     "0d63be18c0ce4ce08adfaa175b84d09f": {
      "model_module": "@jupyter-widgets/controls",
      "model_module_version": "1.5.0",
      "model_name": "HBoxModel",
      "state": {
       "children": [
        "IPY_MODEL_e2ec9da8df374389a02d3d5a0c8531e8"
       ],
       "layout": "IPY_MODEL_b62378e4e4d64df59d480a32e26dff93"
      }
     },
     "0d69b7d095e14a0a9928effa656e1c49": {
      "model_module": "@jupyter-widgets/base",
      "model_module_version": "1.2.0",
      "model_name": "LayoutModel",
      "state": {
       "align_items": "stretch",
       "display": "flex",
       "flex_flow": "row",
       "grid_auto_columns": "True",
       "justify_content": "flex-end",
       "width": "90%"
      }
     },
     "0d878bcb382a42cf94438aa05ef591e5": {
      "model_module": "@jupyter-widgets/base",
      "model_module_version": "1.2.0",
      "model_name": "LayoutModel",
      "state": {}
     },
     "0dbfadc0b9ab425292012cf150db793a": {
      "model_module": "@jupyter-widgets/output",
      "model_module_version": "1.0.0",
      "model_name": "OutputModel",
      "state": {
       "layout": "IPY_MODEL_3b0d7826ceb844009283e11ac24515af"
      }
     },
     "0e18d54187dc44bfbcb79014e7089814": {
      "model_module": "@jupyter-widgets/base",
      "model_module_version": "1.2.0",
      "model_name": "LayoutModel",
      "state": {}
     },
     "0e41d2b5d4db4bb19e3175e498d59ac9": {
      "model_module": "@jupyter-widgets/base",
      "model_module_version": "1.2.0",
      "model_name": "LayoutModel",
      "state": {}
     },
     "0e9793ca976c4493b764bd4f8b9c53b1": {
      "model_module": "@jupyter-widgets/controls",
      "model_module_version": "1.5.0",
      "model_name": "DescriptionStyleModel",
      "state": {
       "description_width": ""
      }
     },
     "0ed45e8b4d594f469b4e378c00fcfcf1": {
      "model_module": "@jupyter-widgets/base",
      "model_module_version": "1.2.0",
      "model_name": "LayoutModel",
      "state": {
       "align_items": "stretch",
       "display": "flex",
       "flex_flow": "row",
       "grid_auto_columns": "True",
       "justify_content": "flex-end",
       "width": "90%"
      }
     },
     "0ef9257318cb4cec8e82a2d12b71f675": {
      "model_module": "@jupyter-widgets/controls",
      "model_module_version": "1.5.0",
      "model_name": "HBoxModel",
      "state": {
       "children": [
        "IPY_MODEL_8c1c8d67c4394681a2487ce79ce80639"
       ],
       "layout": "IPY_MODEL_0fb20aa88f1f4ec19c4903c6874dd5d6"
      }
     },
     "0f9e68cd75dd4a659d624801d779eec1": {
      "model_module": "@jupyter-widgets/controls",
      "model_module_version": "1.5.0",
      "model_name": "HBoxModel",
      "state": {
       "children": [
        "IPY_MODEL_b78629a9921b47fcbc805b8f4ed5f851"
       ],
       "layout": "IPY_MODEL_56fc055bb4da4c419a74f66dadfad325"
      }
     },
     "0fb20aa88f1f4ec19c4903c6874dd5d6": {
      "model_module": "@jupyter-widgets/base",
      "model_module_version": "1.2.0",
      "model_name": "LayoutModel",
      "state": {
       "align_items": "stretch",
       "border": "dashed 0.2px green",
       "display": "flex",
       "flex_flow": "row",
       "grid_auto_columns": "True",
       "justify_content": "flex-start",
       "width": "100%"
      }
     },
     "0fc6d6d0400c4c9e9abf42f6b3c2c48d": {
      "model_module": "@jupyter-widgets/controls",
      "model_module_version": "1.5.0",
      "model_name": "HBoxModel",
      "state": {
       "children": [
        "IPY_MODEL_705b2dd6a45e492d977302dd11b56fa4",
        "IPY_MODEL_6c8d1312e92b4646981ee0b60a7c2a7e"
       ],
       "layout": "IPY_MODEL_666cc5adfb1f461782d0aca96dfe3d3e"
      }
     },
     "0ff9de5aebfc486bb1bec773c916f4bc": {
      "model_module": "@jupyter-widgets/base",
      "model_module_version": "1.2.0",
      "model_name": "LayoutModel",
      "state": {}
     },
     "1002b215e6214e33862d32ffbee8c62b": {
      "model_module": "@jupyter-widgets/controls",
      "model_module_version": "1.5.0",
      "model_name": "DescriptionStyleModel",
      "state": {
       "description_width": ""
      }
     },
     "1007af72429d4adba0ce082fc8c78adf": {
      "model_module": "@jupyter-widgets/controls",
      "model_module_version": "1.5.0",
      "model_name": "FloatTextModel",
      "state": {
       "layout": "IPY_MODEL_bafdc6fbea9645ceace794f6502a3f9e",
       "step": null,
       "style": "IPY_MODEL_c6b08d7e9e64417191a6382be9ee3c6a"
      }
     },
     "102d573cdd8e4e1aadd21fa4f7232179": {
      "model_module": "@jupyter-widgets/base",
      "model_module_version": "1.2.0",
      "model_name": "LayoutModel",
      "state": {}
     },
     "10523326ed194b80a854e83e9344d820": {
      "model_module": "@jupyter-widgets/base",
      "model_module_version": "1.2.0",
      "model_name": "LayoutModel",
      "state": {}
     },
     "1062c86df8b2492195fc64440ef186ae": {
      "model_module": "@jupyter-widgets/base",
      "model_module_version": "1.2.0",
      "model_name": "LayoutModel",
      "state": {}
     },
     "1094892784c541e18014b5e0904d4da4": {
      "model_module": "@jupyter-widgets/base",
      "model_module_version": "1.2.0",
      "model_name": "LayoutModel",
      "state": {}
     },
     "109db24f34ea4f8f867d686ebf880927": {
      "model_module": "@jupyter-widgets/controls",
      "model_module_version": "1.5.0",
      "model_name": "HTMLModel",
      "state": {
       "layout": "IPY_MODEL_de21c15e483b472883d0188a7a0fd657",
       "style": "IPY_MODEL_43f161c87ac84a93974361f13297a2ab",
       "value": "<p>name</p>"
      }
     },
     "10aea33d58a54300b784a87baa41345d": {
      "model_module": "@jupyter-widgets/controls",
      "model_module_version": "1.5.0",
      "model_name": "DescriptionStyleModel",
      "state": {
       "description_width": ""
      }
     },
     "11357eccfb934441a7487248efd337cc": {
      "model_module": "@jupyter-widgets/base",
      "model_module_version": "1.2.0",
      "model_name": "LayoutModel",
      "state": {}
     },
     "11379d443cd242a6a072f43a6f4d0fb2": {
      "model_module": "@jupyter-widgets/output",
      "model_module_version": "1.0.0",
      "model_name": "OutputModel",
      "state": {
       "layout": "IPY_MODEL_b0f022c6b1ea4c7fbb0905debc93b7bd"
      }
     },
     "1174c8696dc44b37a555c6ce016c3b80": {
      "model_module": "@jupyter-widgets/base",
      "model_module_version": "1.2.0",
      "model_name": "LayoutModel",
      "state": {}
     },
     "1186bccee709441aa539482ecc7777f4": {
      "model_module": "@jupyter-widgets/base",
      "model_module_version": "1.2.0",
      "model_name": "LayoutModel",
      "state": {}
     },
     "118b2bd3c52d42b7baa782e24224d4eb": {
      "model_module": "@jupyter-widgets/controls",
      "model_module_version": "1.5.0",
      "model_name": "DescriptionStyleModel",
      "state": {
       "description_width": ""
      }
     },
     "119a7e7cd838463abf43a047a47a8de1": {
      "model_module": "@jupyter-widgets/controls",
      "model_module_version": "1.5.0",
      "model_name": "DescriptionStyleModel",
      "state": {
       "description_width": ""
      }
     },
     "11f10495afe649cb8722b31afdee2907": {
      "model_module": "@jupyter-widgets/controls",
      "model_module_version": "1.5.0",
      "model_name": "HTMLModel",
      "state": {
       "layout": "IPY_MODEL_c29dea72511e4fe8bd6b77d0fd2c9570",
       "style": "IPY_MODEL_896417e4880146b68e65a8ddc61a1b8f",
       "value": "<p>reous foo ous foo st</p>"
      }
     },
     "11f6c57349d94687b584ecd23836546c": {
      "model_module": "@jupyter-widgets/base",
      "model_module_version": "1.2.0",
      "model_name": "LayoutModel",
      "state": {
       "align_items": "stretch",
       "display": "flex",
       "flex_flow": "row",
       "grid_auto_columns": "True",
       "justify_content": "flex-start",
       "width": "80%"
      }
     },
     "1308a2f496dd4c10bf3ad934e3520bec": {
      "model_module": "@jupyter-widgets/controls",
      "model_module_version": "1.5.0",
      "model_name": "HTMLModel",
      "state": {
       "layout": "IPY_MODEL_1a4197fc38924911b8c062b7cec7c1aa",
       "placeholder": "",
       "style": "IPY_MODEL_530593e4a01a4aefa7952c7f094d0d92",
       "value": "<span style=\"margin-left:10px; color:black;\">No file selected</span>"
      }
     },
     "1321af6029054f99ac6c36b534c41da0": {
      "model_module": "@jupyter-widgets/base",
      "model_module_version": "1.2.0",
      "model_name": "LayoutModel",
      "state": {}
     },
     "1354faa8d19643bf9e5eb60eb065d4c8": {
      "model_module": "@jupyter-widgets/base",
      "model_module_version": "1.2.0",
      "model_name": "LayoutModel",
      "state": {}
     },
     "136b8cc299484c75b27a2e30ef89827a": {
      "model_module": "@jupyter-widgets/base",
      "model_module_version": "1.2.0",
      "model_name": "LayoutModel",
      "state": {}
     },
     "138453f415354bee844fbb9bfc386526": {
      "model_module": "@jupyter-widgets/controls",
      "model_module_version": "1.5.0",
      "model_name": "DescriptionStyleModel",
      "state": {
       "description_width": ""
      }
     },
     "139f0821e74041e0bbee91190928424b": {
      "model_module": "@jupyter-widgets/base",
      "model_module_version": "1.2.0",
      "model_name": "LayoutModel",
      "state": {
       "display": "flex",
       "flex_flow": "row",
       "grid_auto_columns": "False",
       "justify_content": "flex-start",
       "width": "100%"
      }
     },
     "13b38a90978449c6a17f6ca750380809": {
      "model_module": "@jupyter-widgets/base",
      "model_module_version": "1.2.0",
      "model_name": "LayoutModel",
      "state": {
       "align_items": "stretch",
       "display": "flex",
       "flex_flow": "row",
       "grid_auto_columns": "True",
       "justify_content": "flex-end",
       "width": "90%"
      }
     },
     "13bf04e8d9a24b1e8ccf90e5b89cfb2f": {
      "model_module": "@jupyter-widgets/base",
      "model_module_version": "1.2.0",
      "model_name": "LayoutModel",
      "state": {}
     },
     "13dd2deff91b481ea127b0f4513719b6": {
      "model_module": "@jupyter-widgets/base",
      "model_module_version": "1.2.0",
      "model_name": "LayoutModel",
      "state": {
       "grid_area": "dircontent",
       "width": "auto"
      }
     },
     "140d7c02686347d09f045c7e96aab2db": {
      "model_module": "@jupyter-widgets/controls",
      "model_module_version": "1.5.0",
      "model_name": "HTMLModel",
      "state": {
       "layout": "IPY_MODEL_26cf961ca3204178abe80767087134b8",
       "style": "IPY_MODEL_2b9971c8658b42598fa5f1544ab6ba68",
       "value": "<p>name</p>"
      }
     },
     "142f8d14d0bb425b9736e33d290f2505": {
      "model_module": "@jupyter-widgets/controls",
      "model_module_version": "1.5.0",
      "model_name": "DescriptionStyleModel",
      "state": {
       "description_width": ""
      }
     },
     "1433224b29b340ea91171604bedb3016": {
      "model_module": "@jupyter-widgets/controls",
      "model_module_version": "1.5.0",
      "model_name": "ButtonStyleModel",
      "state": {
       "font_weight": "bold"
      }
     },
     "143565e968b24c05bb4b5dfa834e1864": {
      "model_module": "@jupyter-widgets/base",
      "model_module_version": "1.2.0",
      "model_name": "LayoutModel",
      "state": {}
     },
     "145febe0a6e14572a9f97cad96a0f67b": {
      "model_module": "@jupyter-widgets/controls",
      "model_module_version": "1.5.0",
      "model_name": "HBoxModel",
      "state": {
       "children": [
        "IPY_MODEL_e998ff29b3c14f4a892f26d3ad841649"
       ],
       "layout": "IPY_MODEL_7d26848a125944a7bf47687f8cae830d"
      }
     },
     "1485788d237941da9c8659cee8eab701": {
      "model_module": "@jupyter-widgets/controls",
      "model_module_version": "1.5.0",
      "model_name": "HBoxModel",
      "state": {
       "children": [
        "IPY_MODEL_391c29de1c3a40a3b0169ff56705535f",
        "IPY_MODEL_76f4143804204d69860272c41d9b8185"
       ],
       "layout": "IPY_MODEL_2982c3eb2d604772b7f363840fa57e93"
      }
     },
     "14ac9b718bf244b98c8b1ef917aa2bc9": {
      "model_module": "@jupyter-widgets/base",
      "model_module_version": "1.2.0",
      "model_name": "LayoutModel",
      "state": {
       "align_items": "stretch",
       "border": "dashed 0.2px green",
       "display": "flex",
       "flex_flow": "row",
       "grid_auto_columns": "True",
       "justify_content": "flex-start",
       "width": "100%"
      }
     },
     "159fabe39ba54d07a7e18b8630b6f32e": {
      "model_module": "@jupyter-widgets/controls",
      "model_module_version": "1.5.0",
      "model_name": "VBoxModel",
      "state": {
       "layout": "IPY_MODEL_4ab2be0d0d664eee8d137134cd15abf6"
      }
     },
     "15da0c84f1de4ef68c1c787410f6b92c": {
      "model_module": "@jupyter-widgets/base",
      "model_module_version": "1.2.0",
      "model_name": "LayoutModel",
      "state": {}
     },
     "15dfbfd560ed48a99af94c17332611fa": {
      "model_module": "@jupyter-widgets/base",
      "model_module_version": "1.2.0",
      "model_name": "LayoutModel",
      "state": {}
     },
     "15e4d0536ea742429e4e0d2a62f7126c": {
      "model_module": "@jupyter-widgets/controls",
      "model_module_version": "1.5.0",
      "model_name": "DescriptionStyleModel",
      "state": {
       "description_width": ""
      }
     },
     "15ef8f09f27b4e0cb8f841f870854b6c": {
      "model_module": "@jupyter-widgets/controls",
      "model_module_version": "1.5.0",
      "model_name": "DescriptionStyleModel",
      "state": {
       "description_width": ""
      }
     },
     "15f88b44d1bd4561a099f7e7301d9214": {
      "model_module": "@jupyter-widgets/base",
      "model_module_version": "1.2.0",
      "model_name": "LayoutModel",
      "state": {}
     },
     "1611a404cb1d436381aefd4cefb4aa05": {
      "model_module": "@jupyter-widgets/controls",
      "model_module_version": "1.5.0",
      "model_name": "HTMLModel",
      "state": {
       "layout": "IPY_MODEL_fc4cb97565c74d4caf60f0a37b2da506",
       "style": "IPY_MODEL_0978af4148ae428b93ee17c28737e571"
      }
     },
     "161d33fba9764c58999b9210801b9b5d": {
      "model_module": "@jupyter-widgets/controls",
      "model_module_version": "1.5.0",
      "model_name": "HBoxModel",
      "state": {
       "children": [
        "IPY_MODEL_1d037199d3374e32b658af40b6a8fe9e",
        "IPY_MODEL_6b1254e358c74968b10a393666e2002f",
        "IPY_MODEL_ffe9e1fa2d3142858f77aee1d206a353"
       ],
       "layout": "IPY_MODEL_b7662f07f2c14a78b7741acb1c959d47"
      }
     },
     "162d703a10c145d4b53df1e1b8c38bd9": {
      "model_module": "@jupyter-widgets/controls",
      "model_module_version": "1.5.0",
      "model_name": "ToggleButtonModel",
      "state": {
       "icon": "arrow-down",
       "layout": "IPY_MODEL_a6a52a8e15ac4b72aeac7de1875bdb55",
       "style": "IPY_MODEL_c920739c7cd1446bb9964e25e34b2858"
      }
     },
     "163daaef85b24c04858d470aa6f536f8": {
      "model_module": "@jupyter-widgets/controls",
      "model_module_version": "1.5.0",
      "model_name": "HBoxModel",
      "state": {
       "children": [
        "IPY_MODEL_a33882fd6ae84a208edf7cc16a940161",
        "IPY_MODEL_21a7eaceb54f4a1da29dc6cf5c34ee0e"
       ],
       "layout": "IPY_MODEL_1836e053e14747beb984947ac44c685e"
      }
     },
     "1676c2cabf0649b6a8231ef444bf4045": {
      "model_module": "@jupyter-widgets/controls",
      "model_module_version": "1.5.0",
      "model_name": "DescriptionStyleModel",
      "state": {
       "description_width": ""
      }
     },
     "16bd716fac064546905e55350cc848ed": {
      "model_module": "@jupyter-widgets/controls",
      "model_module_version": "1.5.0",
      "model_name": "ButtonStyleModel",
      "state": {}
     },
     "16f25a6a5a7946718fedb99a6493d9a4": {
      "model_module": "@jupyter-widgets/base",
      "model_module_version": "1.2.0",
      "model_name": "LayoutModel",
      "state": {}
     },
     "171e6ab9c4e94279b173d2543299d656": {
      "model_module": "@jupyter-widgets/controls",
      "model_module_version": "1.5.0",
      "model_name": "VBoxModel",
      "state": {
       "children": [
        "IPY_MODEL_2ac75dbe497345d89d985d614dc8382a",
        "IPY_MODEL_5c8520323a4a443e8c79a1b0f3233a2d",
        "IPY_MODEL_06232e13f6f34aaea2d4b8a9fd08cfdf",
        "IPY_MODEL_5558f9fe083a4fc8b9870f671759f3a2",
        "IPY_MODEL_1854c8ee37084ca693d0c5fbea17c887",
        "IPY_MODEL_ae0a6538cb104ad9955961a2c2eaf985",
        "IPY_MODEL_235dc04c6c3e4dd8b1bb558b13ee832a",
        "IPY_MODEL_d6893b6887ad41e9ac75a7635ce260a3"
       ],
       "layout": "IPY_MODEL_dc5a686297904e828ab15edad0688073"
      }
     },
     "172817a36c544ce8995e88c59d431a85": {
      "model_module": "@jupyter-widgets/base",
      "model_module_version": "1.2.0",
      "model_name": "LayoutModel",
      "state": {
       "align_items": "stretch",
       "display": "flex",
       "flex_flow": "row",
       "grid_auto_columns": "True",
       "justify_content": "flex-start",
       "width": "80%"
      }
     },
     "1753d2a25d604c3995e16facc01ae764": {
      "model_module": "@jupyter-widgets/base",
      "model_module_version": "1.2.0",
      "model_name": "LayoutModel",
      "state": {}
     },
     "176a3201b20647fba4bb99e75c7b9c4c": {
      "model_module": "@jupyter-widgets/controls",
      "model_module_version": "1.5.0",
      "model_name": "DropdownModel",
      "state": {
       "_options_labels": [
        "asfd",
        "10",
        "asdf"
       ],
       "index": 1,
       "layout": "IPY_MODEL_073a4c62aadd4be6b30a09efcec8ba31",
       "style": "IPY_MODEL_15ef8f09f27b4e0cb8f841f870854b6c"
      }
     },
     "176feb3a17f748a9a7abf3460405b466": {
      "model_module": "@jupyter-widgets/base",
      "model_module_version": "1.2.0",
      "model_name": "LayoutModel",
      "state": {}
     },
     "17a3b18648d04d7382ce170982de25e9": {
      "model_module": "@jupyter-widgets/base",
      "model_module_version": "1.2.0",
      "model_name": "LayoutModel",
      "state": {
       "align_items": "stretch",
       "border": "dashed 0.2px green",
       "display": "flex",
       "flex_flow": "row",
       "grid_auto_columns": "True",
       "justify_content": "flex-start",
       "width": "100%"
      }
     },
     "17b42785ff6a43c28f0295df4e3c401c": {
      "model_module": "@jupyter-widgets/controls",
      "model_module_version": "1.5.0",
      "model_name": "HBoxModel",
      "state": {
       "children": [
        "IPY_MODEL_d28ada6adfd741ac8260e00daca94cbe"
       ],
       "layout": "IPY_MODEL_275136b72b874fd28e98020a7b86bfa8"
      }
     },
     "17b53472b3d64fb48a7d6119dda0f7bc": {
      "model_module": "@jupyter-widgets/controls",
      "model_module_version": "1.5.0",
      "model_name": "VBoxModel",
      "state": {
       "layout": "IPY_MODEL_18511f445bd540f2a69e8841909db72a"
      }
     },
     "17c425757456454394eb8d21d2a0d6c0": {
      "model_module": "@jupyter-widgets/base",
      "model_module_version": "1.2.0",
      "model_name": "LayoutModel",
      "state": {}
     },
     "17dc50b6e26a4255904dd744cb48adab": {
      "model_module": "@jupyter-widgets/base",
      "model_module_version": "1.2.0",
      "model_name": "LayoutModel",
      "state": {}
     },
     "1836e053e14747beb984947ac44c685e": {
      "model_module": "@jupyter-widgets/base",
      "model_module_version": "1.2.0",
      "model_name": "LayoutModel",
      "state": {
       "align_items": "stretch",
       "display": "flex",
       "flex_flow": "row",
       "grid_auto_columns": "True",
       "justify_content": "flex-end",
       "width": "90%"
      }
     },
     "18511f445bd540f2a69e8841909db72a": {
      "model_module": "@jupyter-widgets/base",
      "model_module_version": "1.2.0",
      "model_name": "LayoutModel",
      "state": {
       "display": "flex",
       "flex_flow": "row",
       "grid_auto_columns": "False",
       "justify_content": "flex-start",
       "width": "100%"
      }
     },
     "1854c8ee37084ca693d0c5fbea17c887": {
      "model_module": "@jupyter-widgets/controls",
      "model_module_version": "1.5.0",
      "model_name": "HBoxModel",
      "state": {
       "children": [
        "IPY_MODEL_9e21f9d8ad244e609843322f9a71015d"
       ],
       "layout": "IPY_MODEL_057391fe337843a9954c6e8e7932e2d4"
      }
     },
     "1865ca131b7340eb85a257a224e2fe55": {
      "model_module": "@jupyter-widgets/controls",
      "model_module_version": "1.5.0",
      "model_name": "CheckboxModel",
      "state": {
       "disabled": false,
       "layout": "IPY_MODEL_40a4ad84f2584ef9801053f8e663b31f",
       "style": "IPY_MODEL_ab86935b4ed34d34912ab31f9e2d0f5d",
       "value": false
      }
     },
     "1880f7526f2248448f8329e7e7982f47": {
      "model_module": "@jupyter-widgets/base",
      "model_module_version": "1.2.0",
      "model_name": "LayoutModel",
      "state": {}
     },
     "1886506949154330bf98b831a48603d5": {
      "model_module": "@jupyter-widgets/base",
      "model_module_version": "1.2.0",
      "model_name": "LayoutModel",
      "state": {
       "align_items": "stretch",
       "display": "flex",
       "flex_flow": "row",
       "grid_auto_columns": "True",
       "justify_content": "flex-start",
       "width": "80%"
      }
     },
     "1898547a14334aa4b738981458a0ac09": {
      "model_module": "@jupyter-widgets/base",
      "model_module_version": "1.2.0",
      "model_name": "LayoutModel",
      "state": {
       "align_items": "stretch",
       "display": "flex",
       "flex_flow": "row",
       "grid_auto_columns": "True",
       "justify_content": "flex-end",
       "width": "90%"
      }
     },
     "18b0aae6c1744d3aac5315901413d43b": {
      "model_module": "@jupyter-widgets/controls",
      "model_module_version": "1.5.0",
      "model_name": "HTMLModel",
      "state": {
       "layout": "IPY_MODEL_1186bccee709441aa539482ecc7777f4",
       "style": "IPY_MODEL_ce441fb7ccb94109b75b4669b48b4bb4"
      }
     },
     "18f017500ba44876a708373e2eb7084e": {
      "model_module": "@jupyter-widgets/base",
      "model_module_version": "1.2.0",
      "model_name": "LayoutModel",
      "state": {}
     },
     "19217e48a51a472393aa7ca3ec1e396a": {
      "model_module": "@jupyter-widgets/controls",
      "model_module_version": "1.5.0",
      "model_name": "ButtonModel",
      "state": {
       "description": "Select",
       "layout": "IPY_MODEL_7d528a03eb5442c1b847c920087771cf",
       "style": "IPY_MODEL_a16f194ab59c42f1ab59efbe21362dbe"
      }
     },
     "1959de095e2746a2990253be51e4899d": {
      "model_module": "@jupyter-widgets/controls",
      "model_module_version": "1.5.0",
      "model_name": "HTMLModel",
      "state": {
       "layout": "IPY_MODEL_00d6072c190b4e168fa642c9687f0410",
       "style": "IPY_MODEL_44b4f2e8b36f491197cd1e4c88cc4b08",
       "value": "<p>input gbxml filepath</p>"
      }
     },
     "1977939a3a6341988aacfc3434aa4bf7": {
      "model_module": "@jupyter-widgets/controls",
      "model_module_version": "1.5.0",
      "model_name": "HBoxModel",
      "state": {
       "children": [
        "IPY_MODEL_6de55ea708df40c8a47ef9a989e8aeb5"
       ],
       "layout": "IPY_MODEL_c4a1bf06f0d24085929345da76a11a4d"
      }
     },
     "19eec374f48d4aa8bc5f4bfedb0a012b": {
      "model_module": "@jupyter-widgets/controls",
      "model_module_version": "1.5.0",
      "model_name": "HBoxModel",
      "state": {
       "children": [
        "IPY_MODEL_b34138b86a624d44af0b1cf10663fd35"
       ],
       "layout": "IPY_MODEL_79986bda0430411aa00e220f6ea41a6d"
      }
     },
     "1a158ae3941a458f80bb1ed8e382ae5c": {
      "model_module": "@jupyter-widgets/controls",
      "model_module_version": "1.5.0",
      "model_name": "HBoxModel",
      "state": {
       "children": [
        "IPY_MODEL_9bd5591fb73d48c294bb01c8c4651b12",
        "IPY_MODEL_0957081e8734448dabff38b5f9f53fb0"
       ],
       "layout": "IPY_MODEL_1b29740efce540cdb532ecae3b1823d0"
      }
     },
     "1a2d17f450f64668a78d12594b2c52f7": {
      "model_module": "@jupyter-widgets/controls",
      "model_module_version": "1.5.0",
      "model_name": "HTMLModel",
      "state": {
       "layout": "IPY_MODEL_df16ec8a6462425aa9e5e469ca74267e",
       "style": "IPY_MODEL_7e8c07ea1a48491186c928d84b4ed421",
       "value": "<p>foo</p>"
      }
     },
     "1a4197fc38924911b8c062b7cec7c1aa": {
      "model_module": "@jupyter-widgets/base",
      "model_module_version": "1.2.0",
      "model_name": "LayoutModel",
      "state": {}
     },
     "1a4ffe566e334a28868b6f1b29f0dc2a": {
      "model_module": "@jupyter-widgets/controls",
      "model_module_version": "1.5.0",
      "model_name": "TextareaModel",
      "state": {
       "layout": "IPY_MODEL_a37b25722f964dd0b5701c2a13c2d8e7",
       "style": "IPY_MODEL_49c2654f02e54f22b2cff6904037b732",
       "value": "asdfasdf"
      }
     },
     "1ac4b2ef037e4b1fa3de7167829e518d": {
      "model_module": "@jupyter-widgets/controls",
      "model_module_version": "1.5.0",
      "model_name": "SliderStyleModel",
      "state": {
       "description_width": ""
      }
     },
     "1aeca491ead74b55b2010f5c4f3c0868": {
      "model_module": "@jupyter-widgets/controls",
      "model_module_version": "1.5.0",
      "model_name": "ToggleButtonModel",
      "state": {
       "icon": "arrow-down",
       "layout": "IPY_MODEL_11357eccfb934441a7487248efd337cc",
       "style": "IPY_MODEL_ae3ed8e1a78a468a9072ce2de9204279"
      }
     },
     "1aefdc26e15d49b0b095664efb20d894": {
      "model_module": "@jupyter-widgets/controls",
      "model_module_version": "1.5.0",
      "model_name": "HTMLModel",
      "state": {
       "layout": "IPY_MODEL_84e483b1e58d41d2bd17462bb6d7a5b8",
       "style": "IPY_MODEL_dbc3c08d2bab4b0db23215df89db3e19",
       "value": "<p>Internal Gains</p>"
      }
     },
     "1b29740efce540cdb532ecae3b1823d0": {
      "model_module": "@jupyter-widgets/base",
      "model_module_version": "1.2.0",
      "model_name": "LayoutModel",
      "state": {
       "align_items": "stretch",
       "display": "flex",
       "flex_flow": "row",
       "grid_auto_columns": "True",
       "justify_content": "flex-end",
       "width": "90%"
      }
     },
     "1b2d0b642e424fa6adbbc4a0a533ef6a": {
      "model_module": "@jupyter-widgets/output",
      "model_module_version": "1.0.0",
      "model_name": "OutputModel",
      "state": {
       "layout": "IPY_MODEL_8928b5561a0a4d73bfc34a92b9098317",
       "outputs": [
        {
         "data": {
          "application/vnd.jupyter.widget-view+json": {
           "model_id": "",
           "version_major": 2,
           "version_minor": 0
          },
          "text/plain": "Output()"
         },
         "metadata": {},
         "output_type": "display_data"
        }
       ]
      }
     },
     "1b7923cf84234b77b1ab61e02061d010": {
      "model_module": "@jupyter-widgets/controls",
      "model_module_version": "1.5.0",
      "model_name": "ButtonModel",
      "state": {
       "button_style": "success",
       "description": "save changes",
       "layout": "IPY_MODEL_e191033ffb47472d9eebb6dc22adc649",
       "style": "IPY_MODEL_8bc1ca2af9d247f7aa3b8b2b3de43c88"
      }
     },
     "1bc7e71e393c431c947cd62ff111671c": {
      "model_module": "@jupyter-widgets/base",
      "model_module_version": "1.2.0",
      "model_name": "LayoutModel",
      "state": {}
     },
     "1bd82447f04243adb7566319bd10d14e": {
      "model_module": "@jupyter-widgets/controls",
      "model_module_version": "1.5.0",
      "model_name": "HBoxModel",
      "state": {
       "children": [
        "IPY_MODEL_502b1cb77bb943c1852bf20c854e3092",
        "IPY_MODEL_78c05e2d52fc4e4596c1874f62347c1e"
       ],
       "layout": "IPY_MODEL_2b8871ce92164cc6bf3441104f3af6c4"
      }
     },
     "1bee38ed8a52477f9beb1d9429144c8b": {
      "model_module": "@jupyter-widgets/base",
      "model_module_version": "1.2.0",
      "model_name": "LayoutModel",
      "state": {}
     },
     "1bf602d4b98448a6a2f449d8cf5d4e08": {
      "model_module": "@jupyter-widgets/base",
      "model_module_version": "1.2.0",
      "model_name": "LayoutModel",
      "state": {}
     },
     "1c336b434ac24df8a195af5bf1230163": {
      "model_module": "@jupyter-widgets/base",
      "model_module_version": "1.2.0",
      "model_name": "LayoutModel",
      "state": {
       "align_items": "stretch",
       "display": "flex",
       "flex_flow": "row",
       "grid_auto_columns": "True",
       "justify_content": "flex-start",
       "width": "80%"
      }
     },
     "1c42928af8ff4b6993935c3b6001d0f3": {
      "model_module": "@jupyter-widgets/base",
      "model_module_version": "1.2.0",
      "model_name": "LayoutModel",
      "state": {
       "align_items": "stretch",
       "display": "flex",
       "flex_flow": "row",
       "grid_auto_columns": "True",
       "justify_content": "flex-end",
       "width": "90%"
      }
     },
     "1c48af5b34c246e789820e885ec0d891": {
      "model_module": "@jupyter-widgets/controls",
      "model_module_version": "1.5.0",
      "model_name": "HBoxModel",
      "state": {
       "children": [
        "IPY_MODEL_84d48729f5f44af79cc1b016138c91c4",
        "IPY_MODEL_3b9fc6d78fe64bd9853a2d52dd9af154"
       ],
       "layout": "IPY_MODEL_f15657d45b734104b8226b3858a49bea"
      }
     },
     "1c689cc9d9014298b0820eab681a7d0a": {
      "model_module": "@jupyter-widgets/controls",
      "model_module_version": "1.5.0",
      "model_name": "DescriptionStyleModel",
      "state": {
       "description_width": ""
      }
     },
     "1ca3bfcbbf2f4e5abdfd6d522df468e3": {
      "model_module": "@jupyter-widgets/output",
      "model_module_version": "1.0.0",
      "model_name": "OutputModel",
      "state": {
       "layout": "IPY_MODEL_6d25663c25cb41218e56dd55d0e9bd4a"
      }
     },
     "1ca75cbba2174ab2b2b14ac84bfb9855": {
      "model_module": "@jupyter-widgets/controls",
      "model_module_version": "1.5.0",
      "model_name": "HTMLModel",
      "state": {
       "layout": "IPY_MODEL_bbc989c5521e46d285bfe096fc621286",
       "style": "IPY_MODEL_77df521812df47d69754b811eebf4674",
       "value": "<p>fpth_in</p>"
      }
     },
     "1cb51e765754451eb2c31ccd58b61556": {
      "model_module": "@jupyter-widgets/controls",
      "model_module_version": "1.5.0",
      "model_name": "DescriptionStyleModel",
      "state": {
       "description_width": ""
      }
     },
     "1cb694b3ad614386aef665529c1dfb26": {
      "model_module": "@jupyter-widgets/controls",
      "model_module_version": "1.5.0",
      "model_name": "DescriptionStyleModel",
      "state": {
       "description_width": ""
      }
     },
     "1cbc94d826d040569c60582020aee61f": {
      "model_module": "@jupyter-widgets/controls",
      "model_module_version": "1.5.0",
      "model_name": "HBoxModel",
      "state": {
       "children": [
        "IPY_MODEL_7c28dd86f22349f7b7f8aefea7c19520",
        "IPY_MODEL_05a26a3937ea41bfbb0b90d55df1ddf7"
       ],
       "layout": "IPY_MODEL_2b6b0291ad02413baaa67a8068a34de3"
      }
     },
     "1cd3818ac1244f0a967c6d6cf81b4230": {
      "model_module": "@jupyter-widgets/base",
      "model_module_version": "1.2.0",
      "model_name": "LayoutModel",
      "state": {}
     },
     "1d037199d3374e32b658af40b6a8fe9e": {
      "model_module": "@jupyter-widgets/controls",
      "model_module_version": "1.5.0",
      "model_name": "ToggleButtonModel",
      "state": {
       "button_style": "info",
       "description": "inputs from file",
       "layout": "IPY_MODEL_213e9e7508ef4396bd20b68258ae7cef",
       "style": "IPY_MODEL_574af49fa1594aeea41359fc099cca94"
      }
     },
     "1d332704d2d04ad1bb7a356316df45c6": {
      "model_module": "@jupyter-widgets/base",
      "model_module_version": "1.2.0",
      "model_name": "LayoutModel",
      "state": {
       "align_items": "stretch",
       "display": "flex",
       "flex_flow": "row",
       "grid_auto_columns": "True",
       "justify_content": "flex-start",
       "width": "80%"
      }
     },
     "1d5983a03beb4caf9c9f9493383d9eb1": {
      "model_module": "@jupyter-widgets/controls",
      "model_module_version": "1.5.0",
      "model_name": "HTMLModel",
      "state": {
       "layout": "IPY_MODEL_abd85ba5d34843369b2a567df3a1ccf7",
       "style": "IPY_MODEL_d61e75f1dc164df7a67b7deb7a8a022d",
       "value": "<p>Report Model Run?</p>"
      }
     },
     "1db840b7ea6f4e43a7f1752e8099bc0e": {
      "model_module": "@jupyter-widgets/controls",
      "model_module_version": "1.5.0",
      "model_name": "DescriptionStyleModel",
      "state": {
       "description_width": ""
      }
     },
     "1dc5707bbb17488ba4ddfdf3caadafdc": {
      "model_module": "@jupyter-widgets/controls",
      "model_module_version": "1.5.0",
      "model_name": "DescriptionStyleModel",
      "state": {
       "description_width": ""
      }
     },
     "1df91945c3754b97a16eb702395f21a1": {
      "model_module": "@jupyter-widgets/base",
      "model_module_version": "1.2.0",
      "model_name": "LayoutModel",
      "state": {}
     },
     "1dfe4262e8634c919b53f96c9b8722d4": {
      "model_module": "@jupyter-widgets/base",
      "model_module_version": "1.2.0",
      "model_name": "LayoutModel",
      "state": {
       "align_items": "stretch",
       "display": "flex",
       "flex_flow": "row",
       "grid_auto_columns": "True",
       "justify_content": "flex-start",
       "width": "80%"
      }
     },
     "1e0f6b1a0f964188a1a1dbee5311dbbb": {
      "model_module": "@jupyter-widgets/base",
      "model_module_version": "1.2.0",
      "model_name": "LayoutModel",
      "state": {
       "align_items": "stretch",
       "display": "flex",
       "flex_flow": "row",
       "grid_auto_columns": "True",
       "justify_content": "flex-end",
       "width": "90%"
      }
     },
     "1e6a8c8932d2452488a231f5037f9fc2": {
      "model_module": "@jupyter-widgets/base",
      "model_module_version": "1.2.0",
      "model_name": "LayoutModel",
      "state": {}
     },
     "1e7bcbfd6b934a4daa7ab282d306245c": {
      "model_module": "@jupyter-widgets/output",
      "model_module_version": "1.0.0",
      "model_name": "OutputModel",
      "state": {
       "layout": "IPY_MODEL_46b4cd484fba491287fa5414db5b2d52"
      }
     },
     "1ea79b7c04454d76a8595264082656bb": {
      "model_module": "@jupyter-widgets/controls",
      "model_module_version": "1.5.0",
      "model_name": "RadioButtonsModel",
      "state": {
       "_options_labels": [
        "TEMPLATE: C:\\engDev\\git_mf\\MF_Toolbox\\dev\\mf_scripts\\template_inputs\\inputs-gbxml.json",
        "PROJECT: C:\\engDev\\git_mf\\ipyrun\\ipyrun\\appdata\\inputs\\inputs-gbxml.json"
       ],
       "index": 0,
       "layout": "IPY_MODEL_139f0821e74041e0bbee91190928424b",
       "style": "IPY_MODEL_e95fa3d8b90e47379c4c7179ebe8b54d"
      }
     },
     "1ec2049063034ab1b5b00eb4a50a000e": {
      "model_module": "@jupyter-widgets/output",
      "model_module_version": "1.0.0",
      "model_name": "OutputModel",
      "state": {
       "layout": "IPY_MODEL_7bcc631fc1df48b4a9b6b378a1775b96"
      }
     },
     "1fd89026b778464f9b21d3bb05d735be": {
      "model_module": "@jupyter-widgets/controls",
      "model_module_version": "1.5.0",
      "model_name": "DescriptionStyleModel",
      "state": {
       "description_width": ""
      }
     },
     "20094ea7b79a4d91a70f2b32b3a4efd3": {
      "model_module": "@jupyter-widgets/controls",
      "model_module_version": "1.5.0",
      "model_name": "DescriptionStyleModel",
      "state": {
       "description_width": ""
      }
     },
     "202fa5b99ce841d2acd906a3faa554b3": {
      "model_module": "@jupyter-widgets/base",
      "model_module_version": "1.2.0",
      "model_name": "LayoutModel",
      "state": {}
     },
     "205aa6c58282472cbd70799fd2a5dc62": {
      "model_module": "@jupyter-widgets/base",
      "model_module_version": "1.2.0",
      "model_name": "LayoutModel",
      "state": {}
     },
     "206c738e02fc4269b6a04b491a64d798": {
      "model_module": "@jupyter-widgets/controls",
      "model_module_version": "1.5.0",
      "model_name": "HTMLModel",
      "state": {
       "layout": "IPY_MODEL_56480c248ec6400dbd4088095c6200f8",
       "style": "IPY_MODEL_142f8d14d0bb425b9736e33d290f2505",
       "value": "<p>label</p>"
      }
     },
     "207fa031a42145818812ac18fa8d7144": {
      "model_module": "@jupyter-widgets/base",
      "model_module_version": "1.2.0",
      "model_name": "LayoutModel",
      "state": {}
     },
     "2084eb5654e74284b6dff9ec9a0f5046": {
      "model_module": "@jupyter-widgets/base",
      "model_module_version": "1.2.0",
      "model_name": "LayoutModel",
      "state": {}
     },
     "209ad8b89658460f9d2517d59a4859b4": {
      "model_module": "@jupyter-widgets/base",
      "model_module_version": "1.2.0",
      "model_name": "LayoutModel",
      "state": {}
     },
     "20d720bd2d884b49a77d867ba2ff16f8": {
      "model_module": "@jupyter-widgets/controls",
      "model_module_version": "1.5.0",
      "model_name": "HBoxModel",
      "state": {
       "children": [
        "IPY_MODEL_8f3364c4bde6400fa3b7aae7b493dcb1",
        "IPY_MODEL_a4d48bcde3374329a2fc1d6896a19778"
       ],
       "layout": "IPY_MODEL_11f6c57349d94687b584ecd23836546c"
      }
     },
     "213e9e7508ef4396bd20b68258ae7cef": {
      "model_module": "@jupyter-widgets/base",
      "model_module_version": "1.2.0",
      "model_name": "LayoutModel",
      "state": {}
     },
     "21510820efdc4f87b14c31ad6ced2190": {
      "model_module": "@jupyter-widgets/base",
      "model_module_version": "1.2.0",
      "model_name": "LayoutModel",
      "state": {}
     },
     "21a7eaceb54f4a1da29dc6cf5c34ee0e": {
      "model_module": "@jupyter-widgets/controls",
      "model_module_version": "1.5.0",
      "model_name": "HBoxModel",
      "state": {
       "children": [
        "IPY_MODEL_176a3201b20647fba4bb99e75c7b9c4c",
        "IPY_MODEL_4c9e431957164da4833384f5f82decd7"
       ],
       "layout": "IPY_MODEL_983ca5ac33ab4e0ebf413751faf222ff"
      }
     },
     "21ed68c229104710b71ca3cd62e1714e": {
      "model_module": "@jupyter-widgets/controls",
      "model_module_version": "1.5.0",
      "model_name": "HBoxModel",
      "state": {
       "children": [
        "IPY_MODEL_8114438a753543b1aafdee9abab62f7f"
       ],
       "layout": "IPY_MODEL_b2a602acf5fd41aea4b6fa740f618e22"
      }
     },
     "21ef82e8008342e4a3b64bc0983321c0": {
      "model_module": "@jupyter-widgets/controls",
      "model_module_version": "1.5.0",
      "model_name": "HTMLModel",
      "state": {
       "layout": "IPY_MODEL_79d3299708014900932065b944c64f51",
       "style": "IPY_MODEL_031c51e69d13486fa32f218e26df34a5",
       "value": "<p>Model Run Name</p>"
      }
     },
     "21f99dd8b8044c60ac822f5fb9b52a30": {
      "model_module": "@jupyter-widgets/controls",
      "model_module_version": "1.5.0",
      "model_name": "HTMLModel",
      "state": {
       "layout": "IPY_MODEL_096175b80f054ef1ab831a1d37cd94ec",
       "style": "IPY_MODEL_c89df10984824bc6b5301816febb33bb",
       "value": "<p>foo</p>"
      }
     },
     "21ffff865a8148c8a7b6fcb9e1e66df7": {
      "model_module": "@jupyter-widgets/base",
      "model_module_version": "1.2.0",
      "model_name": "LayoutModel",
      "state": {
       "align_items": "stretch",
       "border": "dashed 0.2px green",
       "display": "flex",
       "flex_flow": "row",
       "grid_auto_columns": "True",
       "justify_content": "flex-start",
       "width": "100%"
      }
     },
     "220caf63e4ea42a891de2b22dc21403f": {
      "model_module": "@jupyter-widgets/base",
      "model_module_version": "1.2.0",
      "model_name": "LayoutModel",
      "state": {
       "align_items": "stretch",
       "border": "dashed 0.2px green",
       "display": "flex",
       "flex_flow": "row",
       "grid_auto_columns": "True",
       "justify_content": "flex-start",
       "width": "100%"
      }
     },
     "2211b06e13214610acd38f70aad545fe": {
      "model_module": "@jupyter-widgets/base",
      "model_module_version": "1.2.0",
      "model_name": "LayoutModel",
      "state": {
       "align_items": "stretch",
       "border": "dashed 0.2px green",
       "display": "flex",
       "flex_flow": "row",
       "grid_auto_columns": "True",
       "justify_content": "flex-start",
       "width": "100%"
      }
     },
     "222d359c35284f2b82e681c28eaba562": {
      "model_module": "@jupyter-widgets/controls",
      "model_module_version": "1.5.0",
      "model_name": "HTMLModel",
      "state": {
       "layout": "IPY_MODEL_4a62da2c14e844398439a532a630c26e",
       "style": "IPY_MODEL_9e4c07e891b746c7981bc7f6ec1b70d0",
       "value": "<p>Filtered Runs to Graph?</p>"
      }
     },
     "22680c9a542c4ae4ab2ad2dad60e1cee": {
      "model_module": "@jupyter-widgets/output",
      "model_module_version": "1.0.0",
      "model_name": "OutputModel",
      "state": {
       "layout": "IPY_MODEL_37e5178a0d174c728b41eb50e923934e"
      }
     },
     "229ccb9e00a64f939c55138b88156f75": {
      "model_module": "@jupyter-widgets/base",
      "model_module_version": "1.2.0",
      "model_name": "LayoutModel",
      "state": {
       "align_items": "stretch",
       "border": "dashed 0.2px green",
       "display": "flex",
       "flex_flow": "row",
       "grid_auto_columns": "True",
       "justify_content": "flex-start",
       "width": "100%"
      }
     },
     "229f54e1d2b54cc983be7d10f873cced": {
      "model_module": "@jupyter-widgets/controls",
      "model_module_version": "1.5.0",
      "model_name": "HBoxModel",
      "state": {
       "children": [
        "IPY_MODEL_4cf02caa752f4ab19f2ee04f0168d4fc"
       ],
       "layout": "IPY_MODEL_5e65d8b7a164460c9d5f0e2cc077adde"
      }
     },
     "22debfd6d5b94b9d89a5bc86f3a292aa": {
      "model_module": "@jupyter-widgets/output",
      "model_module_version": "1.0.0",
      "model_name": "OutputModel",
      "state": {
       "layout": "IPY_MODEL_7a89f76bcc624092a46e302b4ea76bf8"
      }
     },
     "23053ea7e59a460782b0db9d2eec6874": {
      "model_module": "@jupyter-widgets/base",
      "model_module_version": "1.2.0",
      "model_name": "LayoutModel",
      "state": {}
     },
     "231539e4b5a64b01ac8c5a8994b1378a": {
      "model_module": "@jupyter-widgets/base",
      "model_module_version": "1.2.0",
      "model_name": "LayoutModel",
      "state": {}
     },
     "232496ebb3d84725a7f5ca91ba2498fb": {
      "model_module": "@jupyter-widgets/base",
      "model_module_version": "1.2.0",
      "model_name": "LayoutModel",
      "state": {
       "align_items": "stretch",
       "display": "flex",
       "flex_flow": "row",
       "grid_auto_columns": "True",
       "justify_content": "flex-end",
       "width": "90%"
      }
     },
     "235dc04c6c3e4dd8b1bb558b13ee832a": {
      "model_module": "@jupyter-widgets/controls",
      "model_module_version": "1.5.0",
      "model_name": "HBoxModel",
      "state": {
       "children": [
        "IPY_MODEL_309bd172a6164832ab78fd8c8f32818e"
       ],
       "layout": "IPY_MODEL_40dd0fdc7ad44c5184adf86deb45f45b"
      }
     },
     "236a074d901748eeaec2c162c3619d01": {
      "model_module": "@jupyter-widgets/controls",
      "model_module_version": "1.5.0",
      "model_name": "HBoxModel",
      "state": {
       "children": [
        "IPY_MODEL_3b9183ecf01541cd922642bc3e18f39d",
        "IPY_MODEL_29d62757dda24d4a8a133139696c2fd5"
       ],
       "layout": "IPY_MODEL_aedc7fec08fc45a99cae3b958364d591"
      }
     },
     "239405749d1845c3b4f65f6282bda4ec": {
      "model_module": "@jupyter-widgets/base",
      "model_module_version": "1.2.0",
      "model_name": "LayoutModel",
      "state": {}
     },
     "23e9e81497124f269f217a9586737501": {
      "model_module": "@jupyter-widgets/controls",
      "model_module_version": "1.5.0",
      "model_name": "DescriptionStyleModel",
      "state": {
       "description_width": ""
      }
     },
     "24248a876dc74bb5b6d5e42714b88d44": {
      "model_module": "@jupyter-widgets/base",
      "model_module_version": "1.2.0",
      "model_name": "LayoutModel",
      "state": {
       "align_items": "stretch",
       "border": "dashed 0.2px green",
       "display": "flex",
       "flex_flow": "row",
       "grid_auto_columns": "True",
       "justify_content": "flex-start",
       "width": "100%"
      }
     },
     "24378ed68c78456095ff0d42de94d356": {
      "model_module": "@jupyter-widgets/controls",
      "model_module_version": "1.5.0",
      "model_name": "HBoxModel",
      "state": {
       "children": [
        "IPY_MODEL_6a24de04706a47dc861541d772906b1f",
        "IPY_MODEL_08a4250d3b7d42e1a1833e13302070f1"
       ],
       "layout": "IPY_MODEL_13b38a90978449c6a17f6ca750380809"
      }
     },
     "2440757cd0ab4614a9fbcab5a9c0092b": {
      "model_module": "@jupyter-widgets/base",
      "model_module_version": "1.2.0",
      "model_name": "LayoutModel",
      "state": {
       "align_items": "stretch",
       "display": "flex",
       "flex_flow": "row",
       "grid_auto_columns": "True",
       "justify_content": "flex-end",
       "width": "90%"
      }
     },
     "248bcccfda14432a95fcc05506c55a53": {
      "model_module": "@jupyter-widgets/base",
      "model_module_version": "1.2.0",
      "model_name": "LayoutModel",
      "state": {}
     },
     "24b1c7df7c5545688b22cc3922d2dbe7": {
      "model_module": "@jupyter-widgets/output",
      "model_module_version": "1.0.0",
      "model_name": "OutputModel",
      "state": {
       "layout": "IPY_MODEL_3594301766a3443eae76dd6de97e662e"
      }
     },
     "24d44838f5634611b2be83a1447e5752": {
      "model_module": "@jupyter-widgets/base",
      "model_module_version": "1.2.0",
      "model_name": "LayoutModel",
      "state": {}
     },
     "2540f940bb3b4c088c9b28a4120eb706": {
      "model_module": "@jupyter-widgets/base",
      "model_module_version": "1.2.0",
      "model_name": "LayoutModel",
      "state": {}
     },
     "25415f781da945ab8ab082ae46da8eb6": {
      "model_module": "@jupyter-widgets/output",
      "model_module_version": "1.0.0",
      "model_name": "OutputModel",
      "state": {
       "layout": "IPY_MODEL_8c5f16eb844344b7b2893bd6870144e9",
       "outputs": [
        {
         "data": {
          "application/vnd.jupyter.widget-view+json": {
           "model_id": "f4307c98464048e489eb636ea0f6846f",
           "version_major": 2,
           "version_minor": 0
          },
          "text/plain": "Output()"
         },
         "metadata": {},
         "output_type": "display_data"
        }
       ]
      }
     },
     "255884fab5ae4504b3e0ab2cc0e8f215": {
      "model_module": "@jupyter-widgets/output",
      "model_module_version": "1.0.0",
      "model_name": "OutputModel",
      "state": {
       "layout": "IPY_MODEL_6c825240d90249dcaed0745b6b104e50"
      }
     },
     "256210a698b44cea8dc0b9b820a3d0ef": {
      "model_module": "@jupyter-widgets/controls",
      "model_module_version": "1.5.0",
      "model_name": "DescriptionStyleModel",
      "state": {
       "description_width": ""
      }
     },
     "2586dd559a3c45ce96072bac9efd6d7d": {
      "model_module": "@jupyter-widgets/controls",
      "model_module_version": "1.5.0",
      "model_name": "FloatTextModel",
      "state": {
       "layout": "IPY_MODEL_925d2c2531314e2c8ae7b645548768a2",
       "step": null,
       "style": "IPY_MODEL_861a2cf1a0e64dffbfbb1802914cc71e"
      }
     },
     "258cd26b3f854cfbafd9e91e6a8351a0": {
      "model_module": "@jupyter-widgets/controls",
      "model_module_version": "1.5.0",
      "model_name": "HTMLModel",
      "state": {
       "layout": "IPY_MODEL_2847383ad39945fda85b42889bbc3b95",
       "style": "IPY_MODEL_1fd89026b778464f9b21d3bb05d735be"
      }
     },
     "25a7ea132a2a437c9f61ac700dbe31ee": {
      "model_module": "@jupyter-widgets/base",
      "model_module_version": "1.2.0",
      "model_name": "LayoutModel",
      "state": {}
     },
     "25c22d692731417bbb70b5eec15a6209": {
      "model_module": "@jupyter-widgets/base",
      "model_module_version": "1.2.0",
      "model_name": "LayoutModel",
      "state": {}
     },
     "25c37dc0f07c491eb9dd6d059c1e1dbc": {
      "model_module": "@jupyter-widgets/output",
      "model_module_version": "1.0.0",
      "model_name": "OutputModel",
      "state": {
       "layout": "IPY_MODEL_b76b528d7df94ab3b24d9be9cdac8f80"
      }
     },
     "25ee13a222be47f7aa7ace840025faf2": {
      "model_module": "@jupyter-widgets/base",
      "model_module_version": "1.2.0",
      "model_name": "LayoutModel",
      "state": {
       "align_items": "stretch",
       "display": "flex",
       "flex_flow": "row",
       "grid_auto_columns": "True",
       "justify_content": "flex-end",
       "width": "90%"
      }
     },
     "2626911442544565bbb0604e03895393": {
      "model_module": "@jupyter-widgets/base",
      "model_module_version": "1.2.0",
      "model_name": "LayoutModel",
      "state": {}
     },
     "266a77ce15ad4daea2ccf33a721c2c59": {
      "model_module": "@jupyter-widgets/controls",
      "model_module_version": "1.5.0",
      "model_name": "HBoxModel",
      "state": {
       "children": [
        "IPY_MODEL_c14ec8c746564678946209c34cc6a0d8",
        "IPY_MODEL_f185d5636ea94e188414031b61635846"
       ],
       "layout": "IPY_MODEL_eaf862a1fb954a448c330f9ef8d75c80"
      }
     },
     "26cf961ca3204178abe80767087134b8": {
      "model_module": "@jupyter-widgets/base",
      "model_module_version": "1.2.0",
      "model_name": "LayoutModel",
      "state": {}
     },
     "273215a4d22845c280eaed2a98f53219": {
      "model_module": "@jupyter-widgets/base",
      "model_module_version": "1.2.0",
      "model_name": "LayoutModel",
      "state": {}
     },
     "275136b72b874fd28e98020a7b86bfa8": {
      "model_module": "@jupyter-widgets/base",
      "model_module_version": "1.2.0",
      "model_name": "LayoutModel",
      "state": {
       "align_items": "stretch",
       "border": "dashed 0.2px green",
       "display": "flex",
       "flex_flow": "row",
       "grid_auto_columns": "True",
       "justify_content": "flex-start",
       "width": "100%"
      }
     },
     "278fb6eb5bc84f45a3f2adf8b909e6b4": {
      "model_module": "@jupyter-widgets/base",
      "model_module_version": "1.2.0",
      "model_name": "LayoutModel",
      "state": {}
     },
     "279ba614f4bb4e4ba7a8fc68ffef8444": {
      "model_module": "@jupyter-widgets/controls",
      "model_module_version": "1.5.0",
      "model_name": "HTMLModel",
      "state": {
       "layout": "IPY_MODEL_7f9ada12e88b43fcb925a0aba21f07ee",
       "style": "IPY_MODEL_4056ba77aca44057a9e6150cbf21a94a",
       "value": "<p>its a delicious foo cake</p>"
      }
     },
     "27be968382b14935b4c0514969dcc4b4": {
      "model_module": "@jupyter-widgets/controls",
      "model_module_version": "1.5.0",
      "model_name": "ButtonModel",
      "state": {
       "button_style": "success",
       "description": "save",
       "layout": "IPY_MODEL_1094892784c541e18014b5e0904d4da4",
       "style": "IPY_MODEL_490f032abc164e658415985b763d8395"
      }
     },
     "27d7c9f5fdf345d5ba0df8997493f76e": {
      "model_module": "@jupyter-widgets/controls",
      "model_module_version": "1.5.0",
      "model_name": "HTMLModel",
      "state": {
       "layout": "IPY_MODEL_966e3fcc15114250800d453041241084",
       "style": "IPY_MODEL_bb8c46ec71de4e00838e012d2e9ab207",
       "value": "<p>its a foo cake</p>"
      }
     },
     "28000fa7f5dc442b95ce5f3014a5d70c": {
      "model_module": "@jupyter-widgets/base",
      "model_module_version": "1.2.0",
      "model_name": "LayoutModel",
      "state": {}
     },
     "2802668dde4c465988d0706502fb2115": {
      "model_module": "@jupyter-widgets/output",
      "model_module_version": "1.0.0",
      "model_name": "OutputModel",
      "state": {
       "layout": "IPY_MODEL_584a221251d541c3b07af4684cd23776"
      }
     },
     "280de96d37584b73bb277aee4657b33a": {
      "model_module": "@jupyter-widgets/base",
      "model_module_version": "1.2.0",
      "model_name": "LayoutModel",
      "state": {
       "align_items": "stretch",
       "display": "flex",
       "flex_flow": "row",
       "grid_auto_columns": "True",
       "justify_content": "flex-start",
       "width": "80%"
      }
     },
     "281ec5124ba44baabce605473ced7108": {
      "model_module": "@jupyter-widgets/controls",
      "model_module_version": "1.5.0",
      "model_name": "DescriptionStyleModel",
      "state": {
       "description_width": ""
      }
     },
     "2847383ad39945fda85b42889bbc3b95": {
      "model_module": "@jupyter-widgets/base",
      "model_module_version": "1.2.0",
      "model_name": "LayoutModel",
      "state": {}
     },
     "28c248948ef34579b1b63dcc5daac573": {
      "model_module": "@jupyter-widgets/controls",
      "model_module_version": "1.5.0",
      "model_name": "HBoxModel",
      "state": {
       "children": [
        "IPY_MODEL_7542c99e90984e2492549a05acfe6962"
       ],
       "layout": "IPY_MODEL_e83f76d9a243480d87ce1e88f9691b45"
      }
     },
     "28fae12c7515493eadaa8b8912eff880": {
      "model_module": "@jupyter-widgets/base",
      "model_module_version": "1.2.0",
      "model_name": "LayoutModel",
      "state": {}
     },
     "290950283bfc4cc0837547a83ed72d92": {
      "model_module": "@jupyter-widgets/base",
      "model_module_version": "1.2.0",
      "model_name": "LayoutModel",
      "state": {}
     },
     "29265d83271846ecb989fb81af299391": {
      "model_module": "@jupyter-widgets/controls",
      "model_module_version": "1.5.0",
      "model_name": "ToggleButtonModel",
      "state": {
       "icon": "arrow-down",
       "layout": "IPY_MODEL_b17a309cc9c94f16aa2a1550905393a0",
       "style": "IPY_MODEL_04184ea313ad4c1897ecf869c090538f"
      }
     },
     "2982c3eb2d604772b7f363840fa57e93": {
      "model_module": "@jupyter-widgets/base",
      "model_module_version": "1.2.0",
      "model_name": "LayoutModel",
      "state": {
       "align_items": "stretch",
       "display": "flex",
       "flex_flow": "row",
       "grid_auto_columns": "True",
       "justify_content": "flex-start",
       "width": "80%"
      }
     },
     "29ccfcc8d2c341f48f7b3cbea5dd68ba": {
      "model_module": "@jupyter-widgets/controls",
      "model_module_version": "1.5.0",
      "model_name": "DescriptionStyleModel",
      "state": {
       "description_width": ""
      }
     },
     "29d62757dda24d4a8a133139696c2fd5": {
      "model_module": "@jupyter-widgets/controls",
      "model_module_version": "1.5.0",
      "model_name": "HBoxModel",
      "state": {
       "children": [
        "IPY_MODEL_370157b1d0ad42b7a473616f27a319b2",
        "IPY_MODEL_1959de095e2746a2990253be51e4899d"
       ],
       "layout": "IPY_MODEL_a1c1bdbb9e0c49ba8d6bf861e4088234"
      }
     },
     "2a07ff50080c4a94b380c0dc982babf8": {
      "model_module": "@jupyter-widgets/controls",
      "model_module_version": "1.5.0",
      "model_name": "HTMLModel",
      "state": {
       "layout": "IPY_MODEL_c7399e47812f476dac813c09031385ac",
       "style": "IPY_MODEL_eeb50f464bd04e9993c8742aa332efba",
       "value": "<p>foo</p>"
      }
     },
     "2a3d51a115fb4f3a813f0fe524a847de": {
      "model_module": "@jupyter-widgets/controls",
      "model_module_version": "1.5.0",
      "model_name": "DescriptionStyleModel",
      "state": {
       "description_width": ""
      }
     },
     "2a3e97e8c0144b5b8651289a6e9cb61d": {
      "model_module": "@jupyter-widgets/controls",
      "model_module_version": "1.5.0",
      "model_name": "ToggleButtonModel",
      "state": {
       "icon": "arrow-down",
       "layout": "IPY_MODEL_2ff61494b0b5499fb286358b64becfbc",
       "style": "IPY_MODEL_84b2b10f85ee49e3af5d2ff6f257a79c"
      }
     },
     "2a7857cee5b5498982b04f408b9cf963": {
      "model_module": "@jupyter-widgets/base",
      "model_module_version": "1.2.0",
      "model_name": "LayoutModel",
      "state": {
       "align_items": "stretch",
       "display": "flex",
       "flex_flow": "row",
       "grid_auto_columns": "True",
       "justify_content": "flex-start",
       "width": "80%"
      }
     },
     "2ac75dbe497345d89d985d614dc8382a": {
      "model_module": "@jupyter-widgets/controls",
      "model_module_version": "1.5.0",
      "model_name": "HBoxModel",
      "state": {
       "children": [
        "IPY_MODEL_60eb8fb08b0f4bcea01673861285759f",
        "IPY_MODEL_5c5cc1287f18427bbd9626d7d42e19f8"
       ],
       "layout": "IPY_MODEL_14ac9b718bf244b98c8b1ef917aa2bc9"
      }
     },
     "2adf9eef07764f86b6444b9153cdebbc": {
      "model_module": "@jupyter-widgets/controls",
      "model_module_version": "1.5.0",
      "model_name": "DescriptionStyleModel",
      "state": {
       "description_width": ""
      }
     },
     "2afc6d31a6b045dfb8c699d21160d0fb": {
      "model_module": "@jupyter-widgets/controls",
      "model_module_version": "1.5.0",
      "model_name": "DescriptionStyleModel",
      "state": {
       "description_width": ""
      }
     },
     "2b23691593a042d89202cb3702c202a9": {
      "model_module": "@jupyter-widgets/controls",
      "model_module_version": "1.5.0",
      "model_name": "HBoxModel",
      "state": {
       "children": [
        "IPY_MODEL_a40dc548199a4627a6b733e2260ccac7",
        "IPY_MODEL_20d720bd2d884b49a77d867ba2ff16f8"
       ],
       "layout": "IPY_MODEL_b11b913cdd6d463d9cfa89b279ce7b7a"
      }
     },
     "2b45916ee90d4c49ad4db1b64b4df9be": {
      "model_module": "@jupyter-widgets/base",
      "model_module_version": "1.2.0",
      "model_name": "LayoutModel",
      "state": {}
     },
     "2b568015606a4246af55582c7c956c00": {
      "model_module": "@jupyter-widgets/base",
      "model_module_version": "1.2.0",
      "model_name": "LayoutModel",
      "state": {}
     },
     "2b6b0291ad02413baaa67a8068a34de3": {
      "model_module": "@jupyter-widgets/base",
      "model_module_version": "1.2.0",
      "model_name": "LayoutModel",
      "state": {
       "align_items": "stretch",
       "display": "flex",
       "flex_flow": "row",
       "grid_auto_columns": "True",
       "justify_content": "flex-end",
       "width": "90%"
      }
     },
     "2b7bf49a3cf44aae9807c6cb0ca49d9d": {
      "model_module": "@jupyter-widgets/base",
      "model_module_version": "1.2.0",
      "model_name": "LayoutModel",
      "state": {
       "align_items": "stretch",
       "display": "flex",
       "flex_flow": "row",
       "grid_auto_columns": "True",
       "justify_content": "flex-end",
       "width": "90%"
      }
     },
     "2b8871ce92164cc6bf3441104f3af6c4": {
      "model_module": "@jupyter-widgets/base",
      "model_module_version": "1.2.0",
      "model_name": "LayoutModel",
      "state": {
       "align_items": "stretch",
       "display": "flex",
       "flex_flow": "row",
       "grid_auto_columns": "True",
       "justify_content": "flex-start",
       "width": "80%"
      }
     },
     "2b9971c8658b42598fa5f1544ab6ba68": {
      "model_module": "@jupyter-widgets/controls",
      "model_module_version": "1.5.0",
      "model_name": "DescriptionStyleModel",
      "state": {
       "description_width": ""
      }
     },
     "2b9c522706294b88b472ede8cfd5b06e": {
      "model_module": "@jupyter-widgets/base",
      "model_module_version": "1.2.0",
      "model_name": "LayoutModel",
      "state": {}
     },
     "2bccf403d46749468fd823b01e73191a": {
      "model_module": "@jupyter-widgets/controls",
      "model_module_version": "1.5.0",
      "model_name": "TextModel",
      "state": {
       "layout": "IPY_MODEL_cc23bd3c505f46e4a0630c24a6cfde76",
       "style": "IPY_MODEL_345b9bf1060c4de99b991ea8d25eb232",
       "value": "YY-OverheatingAnalysis"
      }
     },
     "2bcf229c6fea4e778053d0bc93f28613": {
      "model_module": "@jupyter-widgets/base",
      "model_module_version": "1.2.0",
      "model_name": "LayoutModel",
      "state": {}
     },
     "2bdc7c4b5114483b801bc29bcac23e6f": {
      "model_module": "@jupyter-widgets/base",
      "model_module_version": "1.2.0",
      "model_name": "LayoutModel",
      "state": {}
     },
     "2bf4b9ac4eab449f852d70791f8dced3": {
      "model_module": "@jupyter-widgets/controls",
      "model_module_version": "1.5.0",
      "model_name": "DescriptionStyleModel",
      "state": {
       "description_width": ""
      }
     },
     "2c37409c49df4da39486ed504f309b07": {
      "model_module": "@jupyter-widgets/controls",
      "model_module_version": "1.5.0",
      "model_name": "DropdownModel",
      "state": {
       "_options_labels": [
        "appdata\\inputs",
        "appdata",
        ""
       ],
       "index": 0,
       "layout": "IPY_MODEL_aeafb549e1d649ba981503ef975cf8e4",
       "style": "IPY_MODEL_b4c76b6c0f5545c98e7e79811621f826"
      }
     },
     "2c3ae1eb91894e12855691f9015cd021": {
      "model_module": "@jupyter-widgets/controls",
      "model_module_version": "1.5.0",
      "model_name": "DescriptionStyleModel",
      "state": {
       "description_width": ""
      }
     },
     "2c876cee33434cd0932c49dc578a7724": {
      "model_module": "@jupyter-widgets/base",
      "model_module_version": "1.2.0",
      "model_name": "LayoutModel",
      "state": {}
     },
     "2c8be610dd204fb4b9abc875cf40fef9": {
      "model_module": "@jupyter-widgets/base",
      "model_module_version": "1.2.0",
      "model_name": "LayoutModel",
      "state": {}
     },
     "2cb56ea7d27e4ac6842cf59073b791fa": {
      "model_module": "@jupyter-widgets/base",
      "model_module_version": "1.2.0",
      "model_name": "LayoutModel",
      "state": {}
     },
     "2cfd6eacc3ce43cbba040960a4cd06db": {
      "model_module": "@jupyter-widgets/output",
      "model_module_version": "1.0.0",
      "model_name": "OutputModel",
      "state": {
       "layout": "IPY_MODEL_6792e3bf388244139b55ddf0f111a4e4"
      }
     },
     "2cffc372f6c54f41832c8b88ca956476": {
      "model_module": "@jupyter-widgets/base",
      "model_module_version": "1.2.0",
      "model_name": "LayoutModel",
      "state": {
       "align_items": "stretch",
       "display": "flex",
       "flex_flow": "row",
       "grid_auto_columns": "True",
       "justify_content": "flex-end",
       "width": "90%"
      }
     },
     "2d1023467b9343538f8d18af4d252ffb": {
      "model_module": "@jupyter-widgets/controls",
      "model_module_version": "1.5.0",
      "model_name": "HBoxModel",
      "state": {
       "children": [
        "IPY_MODEL_a5651a30e4294ae6b8bc1351101909c3",
        "IPY_MODEL_a0ebf50a431445f9b81003b97037d607"
       ],
       "layout": "IPY_MODEL_a6215eb67ac14f62888b5f4f6107f3b3"
      }
     },
     "2d484e40ebe74ad3afdb8f9750603983": {
      "model_module": "@jupyter-widgets/controls",
      "model_module_version": "1.5.0",
      "model_name": "HBoxModel",
      "state": {
       "children": [
        "IPY_MODEL_ad49b6480e6348a9a4118afe86cd02f1",
        "IPY_MODEL_ca14b2ed815e46e5ad85777d1dde1872"
       ],
       "layout": "IPY_MODEL_bc3b689d3b48460e8b15a4588e1c20f2"
      }
     },
     "2d485fe734e44856bc5bb1190ad79fe5": {
      "model_module": "@jupyter-widgets/controls",
      "model_module_version": "1.5.0",
      "model_name": "HTMLModel",
      "state": {
       "layout": "IPY_MODEL_763049bf73934c6b9f031f14eb47d7d5",
       "style": "IPY_MODEL_cfbb0ff8e1594ad0b0b62724f731b65f",
       "value": "<p>reus foo ous oo ous foo st</p>"
      }
     },
     "2d4cff47cdf54552add579b042321870": {
      "model_module": "@jupyter-widgets/base",
      "model_module_version": "1.2.0",
      "model_name": "LayoutModel",
      "state": {}
     },
     "2d4d39d2f5f641f4a46ecb40c75d446e": {
      "model_module": "@jupyter-widgets/controls",
      "model_module_version": "1.5.0",
      "model_name": "VBoxModel",
      "state": {
       "children": [
        "IPY_MODEL_a13880fbd2034912afada0c7f6edf257",
        "IPY_MODEL_481b29c8c3dc470894ff3f1b90844e85",
        "IPY_MODEL_33f6e2a0d6c646c5a06a83336342c908"
       ],
       "layout": "IPY_MODEL_205aa6c58282472cbd70799fd2a5dc62"
      }
     },
     "2d9160ffe522492fa8b560697c0438ae": {
      "model_module": "@jupyter-widgets/base",
      "model_module_version": "1.2.0",
      "model_name": "LayoutModel",
      "state": {}
     },
     "2dd69cb90cae4d868616991601321787": {
      "model_module": "@jupyter-widgets/output",
      "model_module_version": "1.0.0",
      "model_name": "OutputModel",
      "state": {
       "layout": "IPY_MODEL_db78b7f7353b46e8b9dc2a84d1344ca5"
      }
     },
     "2dd9df3d50ce4346b2df5d61baa764d3": {
      "model_module": "@jupyter-widgets/base",
      "model_module_version": "1.2.0",
      "model_name": "LayoutModel",
      "state": {
       "align_items": "stretch",
       "display": "flex",
       "flex_flow": "row",
       "grid_auto_columns": "True",
       "justify_content": "flex-start",
       "width": "80%"
      }
     },
     "2ec6dda52ff3421fb5579167cdc3ffcc": {
      "model_module": "@jupyter-widgets/controls",
      "model_module_version": "1.5.0",
      "model_name": "HTMLModel",
      "state": {
       "layout": "IPY_MODEL_dc092f4de089418abe016fcdb9efe444",
       "style": "IPY_MODEL_f1f768345181443d9e5c4c61c32bc808",
       "value": "<p>input gbxml filepath</p>"
      }
     },
     "2f1cda4a263d49c69126d3ac29be1133": {
      "model_module": "@jupyter-widgets/base",
      "model_module_version": "1.2.0",
      "model_name": "LayoutModel",
      "state": {}
     },
     "2f6f6a08d1d34481afd2066611b73471": {
      "model_module": "@jupyter-widgets/base",
      "model_module_version": "1.2.0",
      "model_name": "LayoutModel",
      "state": {}
     },
     "2f751927bc8e4570bcc7b79b6d015999": {
      "model_module": "@jupyter-widgets/controls",
      "model_module_version": "1.5.0",
      "model_name": "DescriptionStyleModel",
      "state": {
       "description_width": ""
      }
     },
     "2f97ec8b7a504878ad9c4482a716142a": {
      "model_module": "@jupyter-widgets/base",
      "model_module_version": "1.2.0",
      "model_name": "LayoutModel",
      "state": {
       "display": "flex",
       "flex_flow": "row",
       "grid_auto_columns": "False",
       "justify_content": "flex-start",
       "width": "100%"
      }
     },
     "2fae5707cc4c43dba39ed3735d4a701c": {
      "model_module": "@jupyter-widgets/base",
      "model_module_version": "1.2.0",
      "model_name": "LayoutModel",
      "state": {}
     },
     "2fe1c9d744374b7a9fe654ddb617ca86": {
      "model_module": "@jupyter-widgets/base",
      "model_module_version": "1.2.0",
      "model_name": "LayoutModel",
      "state": {}
     },
     "2ff61494b0b5499fb286358b64becfbc": {
      "model_module": "@jupyter-widgets/base",
      "model_module_version": "1.2.0",
      "model_name": "LayoutModel",
      "state": {}
     },
     "3058d61badd64b5fa4066b09dc3acb61": {
      "model_module": "@jupyter-widgets/controls",
      "model_module_version": "1.5.0",
      "model_name": "DescriptionStyleModel",
      "state": {
       "description_width": ""
      }
     },
     "309bd172a6164832ab78fd8c8f32818e": {
      "model_module": "@jupyter-widgets/controls",
      "model_module_version": "1.5.0",
      "model_name": "HBoxModel",
      "state": {
       "children": [
        "IPY_MODEL_109db24f34ea4f8f867d686ebf880927",
        "IPY_MODEL_02e2628ec40e42f99540158733928032"
       ],
       "layout": "IPY_MODEL_5660b012996f4e3fb8725f623c412ba2"
      }
     },
     "30a8d12b0f4141c89afca6bec490f22c": {
      "model_module": "@jupyter-widgets/output",
      "model_module_version": "1.0.0",
      "model_name": "OutputModel",
      "state": {
       "layout": "IPY_MODEL_db8360c5356e4b5ebd98f2ce5708514e"
      }
     },
     "3151511f90ae40b58a73ddae26da7347": {
      "model_module": "@jupyter-widgets/base",
      "model_module_version": "1.2.0",
      "model_name": "LayoutModel",
      "state": {
       "align_items": "stretch",
       "display": "flex",
       "flex_flow": "row",
       "grid_auto_columns": "True",
       "justify_content": "flex-start",
       "width": "80%"
      }
     },
     "323474e200a5449c891141da9048c4d6": {
      "model_module": "@jupyter-widgets/base",
      "model_module_version": "1.2.0",
      "model_name": "LayoutModel",
      "state": {
       "display": "flex",
       "flex_flow": "row",
       "grid_auto_columns": "False",
       "justify_content": "flex-start",
       "width": "100%"
      }
     },
     "3278f94c8d7b4574a3076c16033dc968": {
      "model_module": "@jupyter-widgets/controls",
      "model_module_version": "1.5.0",
      "model_name": "GridBoxModel",
      "state": {
       "children": [
        "IPY_MODEL_2c37409c49df4da39486ed504f309b07",
        "IPY_MODEL_76bc2b0f9d514fd492a9b5c8e77dfbc1",
        "IPY_MODEL_d35cc01ab05846d5ad5c003d33a3303f"
       ],
       "layout": "IPY_MODEL_fadf863caf6c4fd6bdbbbe5b0e9cbb39"
      }
     },
     "32812408b7bf41b4b1b6b038c2008e20": {
      "model_module": "@jupyter-widgets/base",
      "model_module_version": "1.2.0",
      "model_name": "LayoutModel",
      "state": {}
     },
     "33318d83f9ae463a89c84531deabae26": {
      "model_module": "@jupyter-widgets/controls",
      "model_module_version": "1.5.0",
      "model_name": "VBoxModel",
      "state": {
       "children": [
        "IPY_MODEL_917a9fcd38ba49d09252ce4323b18867",
        "IPY_MODEL_1ea79b7c04454d76a8595264082656bb"
       ],
       "layout": "IPY_MODEL_e968dd2998ad41c6b62caeca7bef0c1e"
      }
     },
     "33c4014c30bc422f80f4121c42d0f465": {
      "model_module": "@jupyter-widgets/base",
      "model_module_version": "1.2.0",
      "model_name": "LayoutModel",
      "state": {}
     },
     "33f6e2a0d6c646c5a06a83336342c908": {
      "model_module": "@jupyter-widgets/controls",
      "model_module_version": "1.5.0",
      "model_name": "VBoxModel",
      "state": {
       "layout": "IPY_MODEL_6500124c28d54d16ad33fc7f6fb29515"
      }
     },
     "345b9bf1060c4de99b991ea8d25eb232": {
      "model_module": "@jupyter-widgets/controls",
      "model_module_version": "1.5.0",
      "model_name": "DescriptionStyleModel",
      "state": {
       "description_width": ""
      }
     },
     "34637c8edb114c8896c131b2635a71df": {
      "model_module": "@jupyter-widgets/controls",
      "model_module_version": "1.5.0",
      "model_name": "DescriptionStyleModel",
      "state": {
       "description_width": ""
      }
     },
     "3480c106fc334b3fb761a471692b0589": {
      "model_module": "@jupyter-widgets/output",
      "model_module_version": "1.0.0",
      "model_name": "OutputModel",
      "state": {
       "layout": "IPY_MODEL_c8b4e83e3a8e4d52909579f7eda89d11"
      }
     },
     "34ae6a4e5fb440eea34461ba44a72f05": {
      "model_module": "@jupyter-widgets/controls",
      "model_module_version": "1.5.0",
      "model_name": "ButtonStyleModel",
      "state": {}
     },
     "34ba76d5ec714f1c83cddb26d68a2b1c": {
      "model_module": "@jupyter-widgets/base",
      "model_module_version": "1.2.0",
      "model_name": "LayoutModel",
      "state": {}
     },
     "34c1c9ad885b4d17a9d910712f568851": {
      "model_module": "@jupyter-widgets/controls",
      "model_module_version": "1.5.0",
      "model_name": "ButtonStyleModel",
      "state": {}
     },
     "350b4298280e439fa5cea418de9c9092": {
      "model_module": "@jupyter-widgets/base",
      "model_module_version": "1.2.0",
      "model_name": "LayoutModel",
      "state": {}
     },
     "3560c3266c2f42ac91fb3d40717982b9": {
      "model_module": "@jupyter-widgets/controls",
      "model_module_version": "1.5.0",
      "model_name": "HBoxModel",
      "state": {
       "children": [
        "IPY_MODEL_c4f4862a323c4f5d926d66981dff96c8"
       ],
       "layout": "IPY_MODEL_740735db60c24b129dec29faaef40f5b"
      }
     },
     "3567c9e75e70478fa87d83f187b127bd": {
      "model_module": "@jupyter-widgets/base",
      "model_module_version": "1.2.0",
      "model_name": "LayoutModel",
      "state": {
       "align_items": "stretch",
       "display": "flex",
       "flex_flow": "row",
       "grid_auto_columns": "True",
       "justify_content": "flex-start",
       "width": "80%"
      }
     },
     "35812f97cfbb429a9036c79980b095d0": {
      "model_module": "@jupyter-widgets/base",
      "model_module_version": "1.2.0",
      "model_name": "LayoutModel",
      "state": {}
     },
     "35821aad0188401097fa3e0e078a2bd5": {
      "model_module": "@jupyter-widgets/controls",
      "model_module_version": "1.5.0",
      "model_name": "ToggleButtonModel",
      "state": {
       "button_style": "info",
       "description": "inputs from file",
       "layout": "IPY_MODEL_d07bbbf91aca4353a6778fde2939dbfe",
       "style": "IPY_MODEL_f45489d42e7c40049493f1589af97487"
      }
     },
     "3594301766a3443eae76dd6de97e662e": {
      "model_module": "@jupyter-widgets/base",
      "model_module_version": "1.2.0",
      "model_name": "LayoutModel",
      "state": {}
     },
     "36cd462cc66040869bc3193cb2427e1c": {
      "model_module": "@jupyter-widgets/controls",
      "model_module_version": "1.5.0",
      "model_name": "DescriptionStyleModel",
      "state": {
       "description_width": ""
      }
     },
     "36f2a08cc0634b2a92d83b8937e2cf4d": {
      "model_module": "@jupyter-widgets/controls",
      "model_module_version": "1.5.0",
      "model_name": "DescriptionStyleModel",
      "state": {
       "description_width": ""
      }
     },
     "370157b1d0ad42b7a473616f27a319b2": {
      "model_module": "@jupyter-widgets/controls",
      "model_module_version": "1.5.0",
      "model_name": "TextModel",
      "state": {
       "layout": "IPY_MODEL_55bd0cc2f7894135939f173a723f6b01",
       "style": "IPY_MODEL_78a6e7799bec4e98937e3a71286c5e78",
       "value": "C:\\engDev\\git_mf\\MF_Toolbox\\dev\\examples\\gbxml\\105_LiveseyExchange_heatpump-normal-fabric.xml"
      }
     },
     "370820820ca840d383a7f31ebe6379a0": {
      "model_module": "@jupyter-widgets/base",
      "model_module_version": "1.2.0",
      "model_name": "LayoutModel",
      "state": {
       "align_items": "stretch",
       "display": "flex",
       "flex_flow": "row",
       "grid_auto_columns": "True",
       "justify_content": "flex-end",
       "width": "90%"
      }
     },
     "3711a3ecd48c4693950507a65e9e7c42": {
      "model_module": "@jupyter-widgets/output",
      "model_module_version": "1.0.0",
      "model_name": "OutputModel",
      "state": {
       "layout": "IPY_MODEL_dc34d7c30a5a48658a49202ab781fd0d"
      }
     },
     "377b8c24f50b4dfbbfc0db65481f2ba2": {
      "model_module": "@jupyter-widgets/controls",
      "model_module_version": "1.5.0",
      "model_name": "ButtonModel",
      "state": {
       "description": "load",
       "icon": "upload",
       "layout": "IPY_MODEL_350b4298280e439fa5cea418de9c9092",
       "style": "IPY_MODEL_8771d8596ca741df80fa56209110a55a"
      }
     },
     "3784b6daf2f649428de9ec07ff9cda1a": {
      "model_module": "@jupyter-widgets/controls",
      "model_module_version": "1.5.0",
      "model_name": "HTMLModel",
      "state": {
       "layout": "IPY_MODEL_5ee2cf31cc124a66bb3a50098d837c50",
       "placeholder": "",
       "style": "IPY_MODEL_03ca461c16b74f88926d9f12b2b13cae",
       "value": "<span style=\"margin-left:10px; color:black;\">No file selected</span>"
      }
     },
     "378f41ebe1214deaadfac1b68305fd02": {
      "model_module": "@jupyter-widgets/base",
      "model_module_version": "1.2.0",
      "model_name": "LayoutModel",
      "state": {
       "align_items": "stretch",
       "display": "flex",
       "flex_flow": "row",
       "grid_auto_columns": "True",
       "justify_content": "flex-start",
       "width": "80%"
      }
     },
     "37a2c764fceb4fe2b31808b0a135ed98": {
      "model_module": "@jupyter-widgets/base",
      "model_module_version": "1.2.0",
      "model_name": "LayoutModel",
      "state": {}
     },
     "37a9547457764a6ba9d7db274d5e2ff3": {
      "model_module": "@jupyter-widgets/base",
      "model_module_version": "1.2.0",
      "model_name": "LayoutModel",
      "state": {}
     },
     "37e5178a0d174c728b41eb50e923934e": {
      "model_module": "@jupyter-widgets/base",
      "model_module_version": "1.2.0",
      "model_name": "LayoutModel",
      "state": {}
     },
     "38366930747f468280319cfd15e0e8a1": {
      "model_module": "@jupyter-widgets/output",
      "model_module_version": "1.0.0",
      "model_name": "OutputModel",
      "state": {
       "layout": "IPY_MODEL_c56883a8988d41679b3541a4e31d1130"
      }
     },
     "3855c72191094dd581a5d40a215231af": {
      "model_module": "@jupyter-widgets/base",
      "model_module_version": "1.2.0",
      "model_name": "LayoutModel",
      "state": {}
     },
     "388bf6012a91423f8f98bcd9051d9a23": {
      "model_module": "@jupyter-widgets/output",
      "model_module_version": "1.0.0",
      "model_name": "OutputModel",
      "state": {
       "layout": "IPY_MODEL_081d7ac330b448bbb4dfacd59196a892"
      }
     },
     "389d1a4c371c4062943a27bbec36b3ff": {
      "model_module": "@jupyter-widgets/base",
      "model_module_version": "1.2.0",
      "model_name": "LayoutModel",
      "state": {}
     },
     "38e43e1a8d0c4399a26286baf3e3a7f2": {
      "model_module": "@jupyter-widgets/base",
      "model_module_version": "1.2.0",
      "model_name": "LayoutModel",
      "state": {}
     },
     "391c29de1c3a40a3b0169ff56705535f": {
      "model_module": "@jupyter-widgets/controls",
      "model_module_version": "1.5.0",
      "model_name": "FloatTextModel",
      "state": {
       "layout": "IPY_MODEL_16f25a6a5a7946718fedb99a6493d9a4",
       "step": null,
       "style": "IPY_MODEL_b7436c67aab14744b7fbe21cec815cab",
       "value": 9
      }
     },
     "39549842dc0d40b69a729ef6051e78ed": {
      "model_module": "@jupyter-widgets/base",
      "model_module_version": "1.2.0",
      "model_name": "LayoutModel",
      "state": {
       "align_items": "stretch",
       "display": "flex",
       "flex_flow": "row",
       "grid_auto_columns": "True",
       "justify_content": "flex-end",
       "width": "90%"
      }
     },
     "3954edb883d34cbd90b4927ecfe35e74": {
      "model_module": "@jupyter-widgets/base",
      "model_module_version": "1.2.0",
      "model_name": "LayoutModel",
      "state": {
       "align_items": "stretch",
       "display": "flex",
       "flex_flow": "row",
       "grid_auto_columns": "True",
       "justify_content": "flex-end",
       "width": "90%"
      }
     },
     "3955ae35fa9a4c3e9a629d78f17f4398": {
      "model_module": "@jupyter-widgets/output",
      "model_module_version": "1.0.0",
      "model_name": "OutputModel",
      "state": {
       "layout": "IPY_MODEL_aed4dc5e0acf4a8882441ab0327010da"
      }
     },
     "397a2c7c9a7147c8bcef7cd5c692b4e8": {
      "model_module": "@jupyter-widgets/base",
      "model_module_version": "1.2.0",
      "model_name": "LayoutModel",
      "state": {
       "align_items": "stretch",
       "display": "flex",
       "flex_flow": "row",
       "grid_auto_columns": "True",
       "justify_content": "flex-end",
       "width": "90%"
      }
     },
     "39845f7226e5445ba30a3522da43c8fb": {
      "model_module": "@jupyter-widgets/controls",
      "model_module_version": "1.5.0",
      "model_name": "DescriptionStyleModel",
      "state": {
       "description_width": ""
      }
     },
     "3990799ba7d84ab4897b879dcd0391ff": {
      "model_module": "@jupyter-widgets/base",
      "model_module_version": "1.2.0",
      "model_name": "LayoutModel",
      "state": {}
     },
     "3991d8452faf47b28f45bb85acbb7bdd": {
      "model_module": "@jupyter-widgets/controls",
      "model_module_version": "1.5.0",
      "model_name": "DescriptionStyleModel",
      "state": {
       "description_width": ""
      }
     },
     "39ce3e3ce5e54570b29a713ad20dda97": {
      "model_module": "@jupyter-widgets/controls",
      "model_module_version": "1.5.0",
      "model_name": "HTMLModel",
      "state": {
       "layout": "IPY_MODEL_2fe1c9d744374b7a9fe654ddb617ca86",
       "style": "IPY_MODEL_7b7ec715415242d4b27c719a5e7135f1",
       "value": "<p>name</p>"
      }
     },
     "39e505c0db984fa09062e23699dcf4b8": {
      "model_module": "@jupyter-widgets/controls",
      "model_module_version": "1.5.0",
      "model_name": "VBoxModel",
      "state": {
       "layout": "IPY_MODEL_3ff551bac2b84c64a032b84c584ac9e8"
      }
     },
     "39e6b39c898241738149f313d1d4713a": {
      "model_module": "@jupyter-widgets/controls",
      "model_module_version": "1.5.0",
      "model_name": "HTMLModel",
      "state": {
       "layout": "IPY_MODEL_6cf939269b4241be8c74edf6e9deefe3",
       "style": "IPY_MODEL_c3c74386f81a4f9294c35b2a931c1b8b",
       "value": "<p>label</p>"
      }
     },
     "3a21295832b9496bad01b7a95fcecd2b": {
      "model_module": "@jupyter-widgets/controls",
      "model_module_version": "1.5.0",
      "model_name": "DropdownModel",
      "state": {
       "_options_labels": [
        "asfd",
        "10",
        "asdf"
       ],
       "index": 1,
       "layout": "IPY_MODEL_fca0add3b01045c58655ed2be21af892",
       "style": "IPY_MODEL_5c5fc69956694df7beca2328aa7b578c"
      }
     },
     "3a5bc47aeb8949d68af1562ead6c81c8": {
      "model_module": "@jupyter-widgets/base",
      "model_module_version": "1.2.0",
      "model_name": "LayoutModel",
      "state": {}
     },
     "3a6d52da194f4dc6a787459b7fb5c08a": {
      "model_module": "@jupyter-widgets/base",
      "model_module_version": "1.2.0",
      "model_name": "LayoutModel",
      "state": {}
     },
     "3b0d7826ceb844009283e11ac24515af": {
      "model_module": "@jupyter-widgets/base",
      "model_module_version": "1.2.0",
      "model_name": "LayoutModel",
      "state": {}
     },
     "3b54c335ef164ceaad97ddb241c0f9b5": {
      "model_module": "@jupyter-widgets/base",
      "model_module_version": "1.2.0",
      "model_name": "LayoutModel",
      "state": {}
     },
     "3b9183ecf01541cd922642bc3e18f39d": {
      "model_module": "@jupyter-widgets/controls",
      "model_module_version": "1.5.0",
      "model_name": "HTMLModel",
      "state": {
       "layout": "IPY_MODEL_f05b2d48e8b142b8b8a68e58627e6839",
       "style": "IPY_MODEL_8d4faf21a2224163b5ece0fba2dd072f",
       "value": "<p>fpth_in</p>"
      }
     },
     "3b9fc6d78fe64bd9853a2d52dd9af154": {
      "model_module": "@jupyter-widgets/controls",
      "model_module_version": "1.5.0",
      "model_name": "HTMLModel",
      "state": {
       "layout": "IPY_MODEL_2b568015606a4246af55582c7c956c00",
       "style": "IPY_MODEL_92190e1133f04af8904b18c3f1442fc6",
       "value": "<p>defines the logic of the space naming. use default value where practical.</p>"
      }
     },
     "3bad36d1330347628501a3528d058d41": {
      "model_module": "@jupyter-widgets/base",
      "model_module_version": "1.2.0",
      "model_name": "LayoutModel",
      "state": {
       "align_items": "stretch",
       "display": "flex",
       "flex_flow": "row",
       "grid_auto_columns": "True",
       "justify_content": "flex-start",
       "width": "80%"
      }
     },
     "3bb0fc0f2c8c4998bf6806cbc9afd927": {
      "model_module": "@jupyter-widgets/controls",
      "model_module_version": "1.5.0",
      "model_name": "DescriptionStyleModel",
      "state": {
       "description_width": ""
      }
     },
     "3be92a32b98345019f0e1c55ff93f59d": {
      "model_module": "@jupyter-widgets/controls",
      "model_module_version": "1.5.0",
      "model_name": "DescriptionStyleModel",
      "state": {
       "description_width": ""
      }
     },
     "3bf20d72c8314301bd65b08bff3c51a7": {
      "model_module": "@jupyter-widgets/controls",
      "model_module_version": "1.5.0",
      "model_name": "DescriptionStyleModel",
      "state": {
       "description_width": ""
      }
     },
     "3c48a7cdb2fd439db2353d8dfd3b9154": {
      "model_module": "@jupyter-widgets/controls",
      "model_module_version": "1.5.0",
      "model_name": "DescriptionStyleModel",
      "state": {
       "description_width": ""
      }
     },
     "3caac2015894460db0c622c9cdce7507": {
      "model_module": "@jupyter-widgets/controls",
      "model_module_version": "1.5.0",
      "model_name": "VBoxModel",
      "state": {
       "children": [
        "IPY_MODEL_4c9795d66bd0455db6faa8c2e35a00d6",
        "IPY_MODEL_66fd23e1228b4e54bdcc9386de7f279f",
        "IPY_MODEL_860bc98f94314a2ca40087bab5d95733",
        "IPY_MODEL_9c9202e9354a47a29fb4d1361ed14a94",
        "IPY_MODEL_735fc9477b4c41a6a54630024caf5dc7",
        "IPY_MODEL_75c7e6df472a4ca296775dc2b5cd5e14",
        "IPY_MODEL_9e0f72d9490a408bbce0f792015e50b4",
        "IPY_MODEL_0b6debb7182f40a185c53295c51f5d28"
       ],
       "layout": "IPY_MODEL_59e9bf52b66f4541b453b0621786ab81"
      }
     },
     "3cdfe79c3eff4ff69fcffd43a03dc281": {
      "model_module": "@jupyter-widgets/controls",
      "model_module_version": "1.5.0",
      "model_name": "HTMLModel",
      "state": {
       "layout": "IPY_MODEL_d7c893c6d0e446449e319241c3b38fd3",
       "style": "IPY_MODEL_7f7464be15c846cdb53423b29c721aa9",
       "value": "<p>Number, using to prefix the file name</p>"
      }
     },
     "3cf6accd43114c308358f07df3526b86": {
      "model_module": "@jupyter-widgets/base",
      "model_module_version": "1.2.0",
      "model_name": "LayoutModel",
      "state": {
       "align_items": "stretch",
       "border": "dashed 0.2px green",
       "display": "flex",
       "flex_flow": "row",
       "grid_auto_columns": "True",
       "justify_content": "flex-start",
       "width": "100%"
      }
     },
     "3d0863297ee84d189c3e419be486e2a7": {
      "model_module": "@jupyter-widgets/base",
      "model_module_version": "1.2.0",
      "model_name": "LayoutModel",
      "state": {}
     },
     "3d5af088c5e740ddafdf7b0fea932e36": {
      "model_module": "@jupyter-widgets/controls",
      "model_module_version": "1.5.0",
      "model_name": "HBoxModel",
      "state": {
       "children": [
        "IPY_MODEL_d0080444456d4d1381a720f2b5b23bc3",
        "IPY_MODEL_bc652d9404014f6c92951c5d1970e264"
       ],
       "layout": "IPY_MODEL_a2957970a9d747979a5045a7e3eff859"
      }
     },
     "3d62f8d096684693bbd37129a89a2e73": {
      "model_module": "@jupyter-widgets/controls",
      "model_module_version": "1.5.0",
      "model_name": "HTMLModel",
      "state": {
       "layout": "IPY_MODEL_25c22d692731417bbb70b5eec15a6209",
       "style": "IPY_MODEL_0835201daf164acf91ab5bf12bc8f746",
       "value": "<p>its a foo cake</p>"
      }
     },
     "3e381dc7c7c34d2392c2c1035aba5357": {
      "model_module": "@jupyter-widgets/output",
      "model_module_version": "1.0.0",
      "model_name": "OutputModel",
      "state": {
       "layout": "IPY_MODEL_2540f940bb3b4c088c9b28a4120eb706"
      }
     },
     "3e5a530aaa654bd489d78f59d343ce9c": {
      "model_module": "@jupyter-widgets/base",
      "model_module_version": "1.2.0",
      "model_name": "LayoutModel",
      "state": {}
     },
     "3e640ac0885547de8ac5ae0f42233bfe": {
      "model_module": "@jupyter-widgets/controls",
      "model_module_version": "1.5.0",
      "model_name": "ToggleButtonModel",
      "state": {
       "icon": "arrow-down",
       "layout": "IPY_MODEL_c52ce974c50642b2b1c2dcded45dc338",
       "style": "IPY_MODEL_646bf9a59ef243a5ad64754ee6b79f56"
      }
     },
     "3ebf343aaeef44d6985d7cccc9bc5d18": {
      "model_module": "@jupyter-widgets/base",
      "model_module_version": "1.2.0",
      "model_name": "LayoutModel",
      "state": {}
     },
     "3ee705f8582c4b0ebcf5175f497ffa1a": {
      "model_module": "@jupyter-widgets/base",
      "model_module_version": "1.2.0",
      "model_name": "LayoutModel",
      "state": {}
     },
     "3f5486c51ef04e49849c4176c4e7d11f": {
      "model_module": "@jupyter-widgets/controls",
      "model_module_version": "1.5.0",
      "model_name": "HBoxModel",
      "state": {
       "children": [
        "IPY_MODEL_a7146156c95a4fa9b118a7d6b1dd49ab",
        "IPY_MODEL_266a77ce15ad4daea2ccf33a721c2c59"
       ],
       "layout": "IPY_MODEL_4f6c786bce674314b898298fde0ace24"
      }
     },
     "3fd1e22328024f32ac56c85afc986b07": {
      "model_module": "@jupyter-widgets/output",
      "model_module_version": "1.0.0",
      "model_name": "OutputModel",
      "state": {
       "layout": "IPY_MODEL_a3d2be44b5f04594b0b5ed183faf5274"
      }
     },
     "3ff551bac2b84c64a032b84c584ac9e8": {
      "model_module": "@jupyter-widgets/base",
      "model_module_version": "1.2.0",
      "model_name": "LayoutModel",
      "state": {
       "display": "flex",
       "flex_flow": "row",
       "grid_auto_columns": "False",
       "justify_content": "flex-start",
       "width": "100%"
      }
     },
     "40123ef663e74ff1915d063e0d22b9ac": {
      "model_module": "@jupyter-widgets/controls",
      "model_module_version": "1.5.0",
      "model_name": "HBoxModel",
      "state": {
       "children": [
        "IPY_MODEL_74cbaa3b4e164b12ae54b30d5f171820",
        "IPY_MODEL_a92e8cc640724d1da553299431345e05"
       ],
       "layout": "IPY_MODEL_0a307d9421af489287b2a750779ed7bc"
      }
     },
     "401e33aafc33482b911d9da1ed6e1455": {
      "model_module": "@jupyter-widgets/controls",
      "model_module_version": "1.5.0",
      "model_name": "HTMLModel",
      "state": {
       "layout": "IPY_MODEL_614dcc575a0f4c02b7cab185f839869e",
       "style": "IPY_MODEL_a0f3df47c380493fb91bd41cb64e1e70",
       "value": "<p>General Description of the Model</p>"
      }
     },
     "4056ba77aca44057a9e6150cbf21a94a": {
      "model_module": "@jupyter-widgets/controls",
      "model_module_version": "1.5.0",
      "model_name": "DescriptionStyleModel",
      "state": {
       "description_width": ""
      }
     },
     "4087b1029ff049ee926ebc0146cc5428": {
      "model_module": "@jupyter-widgets/base",
      "model_module_version": "1.2.0",
      "model_name": "LayoutModel",
      "state": {}
     },
     "40949e477e7c4a6097c659e70c32cc48": {
      "model_module": "@jupyter-widgets/controls",
      "model_module_version": "1.5.0",
      "model_name": "HBoxModel",
      "state": {
       "children": [
        "IPY_MODEL_d42f65055336440da93ae73acd313682",
        "IPY_MODEL_93f2aba9d2fa4e7581da23fce9b25e11"
       ],
       "layout": "IPY_MODEL_4adbe6d9aa2a4e4fa81357d740ea328b"
      }
     },
     "40a4ad84f2584ef9801053f8e663b31f": {
      "model_module": "@jupyter-widgets/base",
      "model_module_version": "1.2.0",
      "model_name": "LayoutModel",
      "state": {}
     },
     "40c9591cf4314322b1ca9757a6887108": {
      "model_module": "@jupyter-widgets/controls",
      "model_module_version": "1.5.0",
      "model_name": "DescriptionStyleModel",
      "state": {
       "description_width": ""
      }
     },
     "40dd0fdc7ad44c5184adf86deb45f45b": {
      "model_module": "@jupyter-widgets/base",
      "model_module_version": "1.2.0",
      "model_name": "LayoutModel",
      "state": {
       "align_items": "stretch",
       "border": "dashed 0.2px green",
       "display": "flex",
       "flex_flow": "row",
       "grid_auto_columns": "True",
       "justify_content": "flex-start",
       "width": "100%"
      }
     },
     "40e028f95c0b440a9b40ef75aadca771": {
      "model_module": "@jupyter-widgets/controls",
      "model_module_version": "1.5.0",
      "model_name": "TextareaModel",
      "state": {
       "layout": "IPY_MODEL_5c7525f9f8c94da7a23ff17a98c6b690",
       "style": "IPY_MODEL_7bc11d577ae448528ba1704f4fb1c7a1",
       "value": "asdfasdf"
      }
     },
     "416d9c0c18b9497aaccfda794aa32a76": {
      "model_module": "@jupyter-widgets/controls",
      "model_module_version": "1.5.0",
      "model_name": "HTMLModel",
      "state": {
       "layout": "IPY_MODEL_73167530430b48f8bb796c66ed673692",
       "style": "IPY_MODEL_1db840b7ea6f4e43a7f1752e8099bc0e",
       "value": "<p>edit user input form below</p>"
      }
     },
     "41af49b0c4e54e5ab10549ccad27ae1e": {
      "model_module": "@jupyter-widgets/controls",
      "model_module_version": "1.5.0",
      "model_name": "VBoxModel",
      "state": {
       "children": [
        "IPY_MODEL_e15b9bd253c04ce9b5393ee2e935fe03",
        "IPY_MODEL_416d9c0c18b9497aaccfda794aa32a76",
        "IPY_MODEL_159fabe39ba54d07a7e18b8630b6f32e"
       ],
       "layout": "IPY_MODEL_3855c72191094dd581a5d40a215231af"
      }
     },
     "42026b36b74b491aa33c46138b446056": {
      "model_module": "@jupyter-widgets/base",
      "model_module_version": "1.2.0",
      "model_name": "LayoutModel",
      "state": {
       "align_items": "stretch",
       "display": "flex",
       "flex_flow": "row",
       "grid_auto_columns": "True",
       "justify_content": "flex-start",
       "width": "80%"
      }
     },
     "425823ac7f9d45dd8a775fb0d3d7daf2": {
      "model_module": "@jupyter-widgets/controls",
      "model_module_version": "1.5.0",
      "model_name": "DescriptionStyleModel",
      "state": {
       "description_width": ""
      }
     },
     "42728fafdb324169b7930dc55eb382c1": {
      "model_module": "@jupyter-widgets/output",
      "model_module_version": "1.0.0",
      "model_name": "OutputModel",
      "state": {
       "layout": "IPY_MODEL_dc04b3b707b74fce960c77933166b42d"
      }
     },
     "43107319ff304c478fb4683b4619f65b": {
      "model_module": "@jupyter-widgets/controls",
      "model_module_version": "1.5.0",
      "model_name": "HBoxModel",
      "state": {
       "children": [
        "IPY_MODEL_a70758256c1842be8180ab2469dd0108",
        "IPY_MODEL_a2e4351082fd46a2b95daa2627f59960"
       ],
       "layout": "IPY_MODEL_98ac038dcd2443a59a0d3e69cb5844f2"
      }
     },
     "43184f4265a84218af42ad629f17256a": {
      "model_module": "@jupyter-widgets/base",
      "model_module_version": "1.2.0",
      "model_name": "LayoutModel",
      "state": {
       "align_items": "stretch",
       "display": "flex",
       "flex_flow": "row",
       "grid_auto_columns": "True",
       "justify_content": "flex-start",
       "width": "80%"
      }
     },
     "4329bac1f5f64eb694020336835b12ae": {
      "model_module": "@jupyter-widgets/output",
      "model_module_version": "1.0.0",
      "model_name": "OutputModel",
      "state": {
       "layout": "IPY_MODEL_28000fa7f5dc442b95ce5f3014a5d70c"
      }
     },
     "4357b26b435044a893359e1e4d345b61": {
      "model_module": "@jupyter-widgets/base",
      "model_module_version": "1.2.0",
      "model_name": "LayoutModel",
      "state": {}
     },
     "4375f121ce2d4da29594eff9e520a598": {
      "model_module": "@jupyter-widgets/base",
      "model_module_version": "1.2.0",
      "model_name": "LayoutModel",
      "state": {
       "align_items": "stretch",
       "display": "flex",
       "flex_flow": "row",
       "grid_auto_columns": "True",
       "justify_content": "flex-end",
       "width": "90%"
      }
     },
     "43b550b04f004713bf82ac58bad19973": {
      "model_module": "@jupyter-widgets/controls",
      "model_module_version": "1.5.0",
      "model_name": "HTMLModel",
      "state": {
       "layout": "IPY_MODEL_b318b7a99af44415991b448878b7901b",
       "style": "IPY_MODEL_bb925432ad5d4f7f8595ad6c03084e32",
       "value": "<p>its a foo cake</p>"
      }
     },
     "43c21bd5c35e41d4bed42dc98622c972": {
      "model_module": "@jupyter-widgets/controls",
      "model_module_version": "1.5.0",
      "model_name": "VBoxModel",
      "state": {
       "children": [
        "IPY_MODEL_9a5eb28080cd493c997713567b300926",
        "IPY_MODEL_7447325beaa24ebf84fcaec687238d79",
        "IPY_MODEL_51852deb68e941b5bfccceab3bbc713d",
        "IPY_MODEL_bdcc6278b19341549f204a17f0b62a94",
        "IPY_MODEL_a875b02891804d789f36b14459806839",
        "IPY_MODEL_0ef9257318cb4cec8e82a2d12b71f675",
        "IPY_MODEL_b276d59f82194527b7f1218511e744ca",
        "IPY_MODEL_602b84f624d8496babe6c6f209f2a20a",
        "IPY_MODEL_6b0864840919466da639e36fb07e8b19",
        "IPY_MODEL_dd38e5280f764909b5b4d6a2147044d8",
        "IPY_MODEL_715cbaa288904c2785a1f266751369d0",
        "IPY_MODEL_646519af5025496ab7e028ecf31c4b5f",
        "IPY_MODEL_6ebe63ca97474ce0b7cec84efafd4e07"
       ],
       "layout": "IPY_MODEL_01d5defe39324f9bbfa5234c5274207c"
      }
     },
     "43f0d3370774424fb5dc2dafe93da00f": {
      "model_module": "@jupyter-widgets/controls",
      "model_module_version": "1.5.0",
      "model_name": "ButtonStyleModel",
      "state": {
       "font_weight": "bold"
      }
     },
     "43f161c87ac84a93974361f13297a2ab": {
      "model_module": "@jupyter-widgets/controls",
      "model_module_version": "1.5.0",
      "model_name": "DescriptionStyleModel",
      "state": {
       "description_width": ""
      }
     },
     "4428a9d194244ad691bd2bb714a02343": {
      "model_module": "@jupyter-widgets/controls",
      "model_module_version": "1.5.0",
      "model_name": "VBoxModel",
      "state": {
       "children": [
        "IPY_MODEL_4c9795d66bd0455db6faa8c2e35a00d6",
        "IPY_MODEL_66fd23e1228b4e54bdcc9386de7f279f",
        "IPY_MODEL_860bc98f94314a2ca40087bab5d95733",
        "IPY_MODEL_9c9202e9354a47a29fb4d1361ed14a94",
        "IPY_MODEL_735fc9477b4c41a6a54630024caf5dc7",
        "IPY_MODEL_75c7e6df472a4ca296775dc2b5cd5e14",
        "IPY_MODEL_9e0f72d9490a408bbce0f792015e50b4",
        "IPY_MODEL_0b6debb7182f40a185c53295c51f5d28"
       ],
       "layout": "IPY_MODEL_02e3d9d41d4f46d2ac09b3670fb66fac"
      }
     },
     "44b4f2e8b36f491197cd1e4c88cc4b08": {
      "model_module": "@jupyter-widgets/controls",
      "model_module_version": "1.5.0",
      "model_name": "DescriptionStyleModel",
      "state": {
       "description_width": ""
      }
     },
     "44bd219bbe324bac911f644df41c42c3": {
      "model_module": "@jupyter-widgets/base",
      "model_module_version": "1.2.0",
      "model_name": "LayoutModel",
      "state": {}
     },
     "44d3a00a83134d568e4100b4086d94e4": {
      "model_module": "@jupyter-widgets/base",
      "model_module_version": "1.2.0",
      "model_name": "LayoutModel",
      "state": {
       "grid_area": "filename",
       "width": "auto"
      }
     },
     "44de2a38afaa4bf78904502b04dad675": {
      "model_module": "@jupyter-widgets/controls",
      "model_module_version": "1.5.0",
      "model_name": "ButtonStyleModel",
      "state": {
       "font_weight": "bold"
      }
     },
     "4553031403914e8fa90d260b1ea15809": {
      "model_module": "@jupyter-widgets/controls",
      "model_module_version": "1.5.0",
      "model_name": "ToggleButtonModel",
      "state": {
       "icon": "arrow-down",
       "layout": "IPY_MODEL_248bcccfda14432a95fcc05506c55a53",
       "style": "IPY_MODEL_f6ee33dd73314befbe56815a0b3524e0"
      }
     },
     "4558b8564e774f9d9dbd3989b11a5b25": {
      "model_module": "@jupyter-widgets/base",
      "model_module_version": "1.2.0",
      "model_name": "LayoutModel",
      "state": {}
     },
     "45611d9efc52469289616487b24d4890": {
      "model_module": "@jupyter-widgets/controls",
      "model_module_version": "1.5.0",
      "model_name": "HBoxModel",
      "state": {
       "children": [
        "IPY_MODEL_09bf071437ed4291abbd0440c2a2fe56"
       ],
       "layout": "IPY_MODEL_db1e4867d99c443c9f2091bdf0f84a67"
      }
     },
     "459e93de8f9640df868cc9b786608bf9": {
      "model_module": "@jupyter-widgets/controls",
      "model_module_version": "1.5.0",
      "model_name": "DescriptionStyleModel",
      "state": {
       "description_width": ""
      }
     },
     "45bebc8ec4c14833a781af5d4e1f9502": {
      "model_module": "@jupyter-widgets/controls",
      "model_module_version": "1.5.0",
      "model_name": "DescriptionStyleModel",
      "state": {
       "description_width": ""
      }
     },
     "46358eecd79d43b08e60543efbf1a5aa": {
      "model_module": "@jupyter-widgets/base",
      "model_module_version": "1.2.0",
      "model_name": "LayoutModel",
      "state": {}
     },
     "463ccd6ded3b46729505d623521ba9c5": {
      "model_module": "@jupyter-widgets/base",
      "model_module_version": "1.2.0",
      "model_name": "LayoutModel",
      "state": {
       "border": "solid 1px #BBBBBB",
       "padding": "0px 10px 0px 10px"
      }
     },
     "464019fb2cc640aa88520b0966e29036": {
      "model_module": "@jupyter-widgets/controls",
      "model_module_version": "1.5.0",
      "model_name": "ButtonModel",
      "state": {
       "button_style": "success",
       "description": "save changes",
       "layout": "IPY_MODEL_273215a4d22845c280eaed2a98f53219",
       "style": "IPY_MODEL_d5acccd20b6a40e0933ab0ddc5839aed"
      }
     },
     "465e36a8b21c4132bfe10e2a48fb55dc": {
      "model_module": "@jupyter-widgets/base",
      "model_module_version": "1.2.0",
      "model_name": "LayoutModel",
      "state": {
       "align_items": "stretch",
       "display": "flex",
       "flex_flow": "row",
       "grid_auto_columns": "True",
       "justify_content": "flex-start",
       "width": "80%"
      }
     },
     "46a738dd47fa42f9878890cb823d06c9": {
      "model_module": "@jupyter-widgets/base",
      "model_module_version": "1.2.0",
      "model_name": "LayoutModel",
      "state": {
       "align_items": "stretch",
       "display": "flex",
       "flex_flow": "row",
       "grid_auto_columns": "True",
       "justify_content": "flex-start",
       "width": "80%"
      }
     },
     "46a790c39d154519acebcf9c29b4d9f7": {
      "model_module": "@jupyter-widgets/controls",
      "model_module_version": "1.5.0",
      "model_name": "ButtonStyleModel",
      "state": {}
     },
     "46b4cd484fba491287fa5414db5b2d52": {
      "model_module": "@jupyter-widgets/base",
      "model_module_version": "1.2.0",
      "model_name": "LayoutModel",
      "state": {}
     },
     "471c2599ac844721938c3475c40524db": {
      "model_module": "@jupyter-widgets/controls",
      "model_module_version": "1.5.0",
      "model_name": "HBoxModel",
      "state": {
       "children": [
        "IPY_MODEL_140d7c02686347d09f045c7e96aab2db",
        "IPY_MODEL_f7f1a5d5bf1946cdb87db273280fe06c"
       ],
       "layout": "IPY_MODEL_07a264f10791460fabbceac5a3f32881"
      }
     },
     "4721aa209e844b22972c3f3d5c807c1f": {
      "model_module": "@jupyter-widgets/controls",
      "model_module_version": "1.5.0",
      "model_name": "ButtonModel",
      "state": {
       "description": "load",
       "icon": "upload",
       "layout": "IPY_MODEL_51f3dfedf36743f29327d65eabedcea8",
       "style": "IPY_MODEL_7e3d144167d240439f54404cf435b273"
      }
     },
     "4722cfb1561c44ddbfc982fc8ee3bbe1": {
      "model_module": "@jupyter-widgets/controls",
      "model_module_version": "1.5.0",
      "model_name": "HTMLModel",
      "state": {
       "layout": "IPY_MODEL_75814cae7ab6428dbd3d5983a3a375ad",
       "style": "IPY_MODEL_e3890f1b7646443fac407ad8b7cf7f89",
       "value": "<p>Ventilation</p>"
      }
     },
     "4774872b76414d7694302148a858b45c": {
      "model_module": "@jupyter-widgets/controls",
      "model_module_version": "1.5.0",
      "model_name": "DescriptionStyleModel",
      "state": {
       "description_width": ""
      }
     },
     "477b72df7c6f4f9897f3e47ebec5611a": {
      "model_module": "@jupyter-widgets/controls",
      "model_module_version": "1.5.0",
      "model_name": "DescriptionStyleModel",
      "state": {
       "description_width": ""
      }
     },
     "47942ad332974fc8bb486eadd412d73c": {
      "model_module": "@jupyter-widgets/controls",
      "model_module_version": "1.5.0",
      "model_name": "DescriptionStyleModel",
      "state": {
       "description_width": ""
      }
     },
     "47e8743189c04a8882bb2fe241fcd23a": {
      "model_module": "@jupyter-widgets/base",
      "model_module_version": "1.2.0",
      "model_name": "LayoutModel",
      "state": {}
     },
     "47ed8e48c77f4e3ebda0a4d635eb50da": {
      "model_module": "@jupyter-widgets/base",
      "model_module_version": "1.2.0",
      "model_name": "LayoutModel",
      "state": {}
     },
     "481b29c8c3dc470894ff3f1b90844e85": {
      "model_module": "@jupyter-widgets/controls",
      "model_module_version": "1.5.0",
      "model_name": "HTMLModel",
      "state": {
       "layout": "IPY_MODEL_2d4cff47cdf54552add579b042321870",
       "style": "IPY_MODEL_b7df13f2aeb340089b514b90947c6123",
       "value": "<p>edit user input form below</p>"
      }
     },
     "4826457e988c4e3ebad31fa9afa60a9e": {
      "model_module": "@jupyter-widgets/controls",
      "model_module_version": "1.5.0",
      "model_name": "DescriptionStyleModel",
      "state": {
       "description_width": ""
      }
     },
     "483cb3d315924275a14896e3695c2391": {
      "model_module": "@jupyter-widgets/base",
      "model_module_version": "1.2.0",
      "model_name": "LayoutModel",
      "state": {
       "display": "flex",
       "flex_flow": "row",
       "grid_auto_columns": "False",
       "justify_content": "flex-start",
       "width": "100%"
      }
     },
     "484d31700df247cdb9ee4119d0e71508": {
      "model_module": "@jupyter-widgets/controls",
      "model_module_version": "1.5.0",
      "model_name": "HBoxModel",
      "state": {
       "children": [
        "IPY_MODEL_8af41741e46a4a81a68c2a2615490832"
       ],
       "layout": "IPY_MODEL_f2ec0d8356014bc99b320850a71e30db"
      }
     },
     "4880ecf2d3f347c1b92a17c26c2ec746": {
      "model_module": "@jupyter-widgets/controls",
      "model_module_version": "1.5.0",
      "model_name": "DescriptionStyleModel",
      "state": {
       "description_width": ""
      }
     },
     "490f032abc164e658415985b763d8395": {
      "model_module": "@jupyter-widgets/controls",
      "model_module_version": "1.5.0",
      "model_name": "ButtonStyleModel",
      "state": {}
     },
     "4980ab5846d74e13a7f86ed88cb93eae": {
      "model_module": "@jupyter-widgets/controls",
      "model_module_version": "1.5.0",
      "model_name": "DescriptionStyleModel",
      "state": {
       "description_width": ""
      }
     },
     "499b8ef4836c4032abcdbaf8476b03bc": {
      "model_module": "@jupyter-widgets/base",
      "model_module_version": "1.2.0",
      "model_name": "LayoutModel",
      "state": {
       "align_items": "stretch",
       "display": "flex",
       "flex_flow": "row",
       "grid_auto_columns": "True",
       "justify_content": "flex-start",
       "width": "80%"
      }
     },
     "49a750aeb3ff467ea168d2878aeb31a5": {
      "model_module": "@jupyter-widgets/controls",
      "model_module_version": "1.5.0",
      "model_name": "DescriptionStyleModel",
      "state": {
       "description_width": ""
      }
     },
     "49c2654f02e54f22b2cff6904037b732": {
      "model_module": "@jupyter-widgets/controls",
      "model_module_version": "1.5.0",
      "model_name": "DescriptionStyleModel",
      "state": {
       "description_width": ""
      }
     },
     "49e4bd3a91404ab4aeba6dc4bb394459": {
      "model_module": "@jupyter-widgets/base",
      "model_module_version": "1.2.0",
      "model_name": "LayoutModel",
      "state": {}
     },
     "49eaffafded94be2a2540565e4b51c89": {
      "model_module": "@jupyter-widgets/base",
      "model_module_version": "1.2.0",
      "model_name": "LayoutModel",
      "state": {}
     },
     "4a1ab3b93fd54b26b02d07aeaa4b13b0": {
      "model_module": "@jupyter-widgets/controls",
      "model_module_version": "1.5.0",
      "model_name": "HBoxModel",
      "state": {
       "children": [
        "IPY_MODEL_6635886954ea43dd8099340ea8b53b1e",
        "IPY_MODEL_8bccb067a99649ac852cf69f761b4c2c"
       ],
       "layout": "IPY_MODEL_808b22534bea46a687a0ae95cb6933c6"
      }
     },
     "4a62da2c14e844398439a532a630c26e": {
      "model_module": "@jupyter-widgets/base",
      "model_module_version": "1.2.0",
      "model_name": "LayoutModel",
      "state": {}
     },
     "4a62e9c588974d2c8219daafdd826740": {
      "model_module": "@jupyter-widgets/controls",
      "model_module_version": "1.5.0",
      "model_name": "HTMLModel",
      "state": {
       "layout": "IPY_MODEL_049f075cabcc44bd967e9c569212ea06",
       "style": "IPY_MODEL_88e0b81907834209a5c56adf854722c2",
       "value": "<p>Context</p>"
      }
     },
     "4ab2be0d0d664eee8d137134cd15abf6": {
      "model_module": "@jupyter-widgets/base",
      "model_module_version": "1.2.0",
      "model_name": "LayoutModel",
      "state": {
       "display": "flex",
       "flex_flow": "row",
       "grid_auto_columns": "False",
       "justify_content": "flex-start",
       "width": "100%"
      }
     },
     "4ad5ddaedb1c43af8008097d4ffa09b3": {
      "model_module": "@jupyter-widgets/controls",
      "model_module_version": "1.5.0",
      "model_name": "VBoxModel",
      "state": {
       "children": [
        "IPY_MODEL_0884cda80a534bb9b3a454e6204c2318",
        "IPY_MODEL_17b42785ff6a43c28f0295df4e3c401c"
       ],
       "layout": "IPY_MODEL_790475d435264560ac0e5b3392bcafc6"
      }
     },
     "4adbe6d9aa2a4e4fa81357d740ea328b": {
      "model_module": "@jupyter-widgets/base",
      "model_module_version": "1.2.0",
      "model_name": "LayoutModel",
      "state": {
       "align_items": "stretch",
       "display": "flex",
       "flex_flow": "row",
       "grid_auto_columns": "True",
       "justify_content": "flex-end",
       "width": "90%"
      }
     },
     "4b01ac4badb8411e8aaa6c82a7019e1a": {
      "model_module": "@jupyter-widgets/controls",
      "model_module_version": "1.5.0",
      "model_name": "HTMLModel",
      "state": {
       "layout": "IPY_MODEL_789e8282807b42c8ba77bc44cdd8bc9c",
       "style": "IPY_MODEL_4e4c8e036f394154979c0009be9ccc70"
      }
     },
     "4b113465d7184371bde2aa0630320649": {
      "model_module": "@jupyter-widgets/controls",
      "model_module_version": "1.5.0",
      "model_name": "ButtonStyleModel",
      "state": {
       "font_weight": "bold"
      }
     },
     "4b2b1d15694c4ce9bccec9abf8668c1a": {
      "model_module": "@jupyter-widgets/controls",
      "model_module_version": "1.5.0",
      "model_name": "HBoxModel",
      "state": {
       "children": [
        "IPY_MODEL_9728d6f13385464eaf5705519a84c593",
        "IPY_MODEL_a6d31f469c1d4fd98c0c34d7860ef163"
       ],
       "layout": "IPY_MODEL_7a37a30f832f406da0b68169fe0ed843"
      }
     },
     "4b36516838c54e7dabcb73246ac3b3b3": {
      "model_module": "@jupyter-widgets/controls",
      "model_module_version": "1.5.0",
      "model_name": "HTMLModel",
      "state": {
       "layout": "IPY_MODEL_b709590db2af4e6f9a2ddc556bc276bf",
       "style": "IPY_MODEL_f2b6c7413e114d06b81f0d7f215cd661",
       "value": "<p>label</p>"
      }
     },
     "4b72410559d54fd197731969ae6b5989": {
      "model_module": "@jupyter-widgets/output",
      "model_module_version": "1.0.0",
      "model_name": "OutputModel",
      "state": {
       "layout": "IPY_MODEL_b7e615eac97e406abc9dbe1dd6b68a2c"
      }
     },
     "4b9daf8d4f234bb9a3ad37fdec3851c3": {
      "model_module": "@jupyter-widgets/controls",
      "model_module_version": "1.5.0",
      "model_name": "TextareaModel",
      "state": {
       "layout": "IPY_MODEL_f55183eb45bc43b59fd3464e08d4310c",
       "style": "IPY_MODEL_256210a698b44cea8dc0b9b820a3d0ef",
       "value": "asdfasdf"
      }
     },
     "4bba45c3abda48658bcd62d64e445428": {
      "model_module": "@jupyter-widgets/controls",
      "model_module_version": "1.5.0",
      "model_name": "DescriptionStyleModel",
      "state": {
       "description_width": ""
      }
     },
     "4bda7d4e795e4b43a8b391aa63306f42": {
      "model_module": "@jupyter-widgets/output",
      "model_module_version": "1.0.0",
      "model_name": "OutputModel",
      "state": {
       "layout": "IPY_MODEL_50d1169a524f412b8bebb8dad8672aea"
      }
     },
     "4bde90cefe1b4f8ab04429a6a2710b0f": {
      "model_module": "@jupyter-widgets/base",
      "model_module_version": "1.2.0",
      "model_name": "LayoutModel",
      "state": {
       "align_items": "stretch",
       "border": "dashed 0.2px green",
       "display": "flex",
       "flex_flow": "row",
       "grid_auto_columns": "True",
       "justify_content": "flex-start",
       "width": "100%"
      }
     },
     "4beaf8f2929a4aaa8c76ae4d318bbd09": {
      "model_module": "@jupyter-widgets/controls",
      "model_module_version": "1.5.0",
      "model_name": "HBoxModel",
      "state": {
       "children": [
        "IPY_MODEL_67edd58b78cb463e809ccf6a101583a2",
        "IPY_MODEL_e1248b65b61242e391e8044a8c8da25d"
       ],
       "layout": "IPY_MODEL_1c336b434ac24df8a195af5bf1230163"
      }
     },
     "4bfbb8cfdeb7420e848148f1767902d0": {
      "model_module": "@jupyter-widgets/base",
      "model_module_version": "1.2.0",
      "model_name": "LayoutModel",
      "state": {}
     },
     "4c11eb5ec8c84c7d8430dddabaad0c7f": {
      "model_module": "@jupyter-widgets/output",
      "model_module_version": "1.0.0",
      "model_name": "OutputModel",
      "state": {
       "layout": "IPY_MODEL_f27cdbe5ad3e46b3a5c7202cc19eba4e"
      }
     },
     "4c194133239441c4999874a8176e826d": {
      "model_module": "@jupyter-widgets/controls",
      "model_module_version": "1.5.0",
      "model_name": "DescriptionStyleModel",
      "state": {
       "description_width": ""
      }
     },
     "4c2d64f4475e4e4b9d32a624af3a1f76": {
      "model_module": "@jupyter-widgets/controls",
      "model_module_version": "1.5.0",
      "model_name": "HTMLModel",
      "state": {
       "layout": "IPY_MODEL_8cb11a30f2084b6f8900af07e4db2ee5",
       "style": "IPY_MODEL_b7c382b9bba942c7ae2db3ee1f7b3115",
       "value": "<p>its a foo cake</p>"
      }
     },
     "4c9795d66bd0455db6faa8c2e35a00d6": {
      "model_module": "@jupyter-widgets/controls",
      "model_module_version": "1.5.0",
      "model_name": "HBoxModel",
      "state": {
       "children": [
        "IPY_MODEL_7e73b2f48ddd422187062a672205344e",
        "IPY_MODEL_51924a14a92e418eb8b52dd91a84f32d"
       ],
       "layout": "IPY_MODEL_8f8a1da27cd6410c9d43b26587b5e412"
      }
     },
     "4c9e431957164da4833384f5f82decd7": {
      "model_module": "@jupyter-widgets/controls",
      "model_module_version": "1.5.0",
      "model_name": "HTMLModel",
      "state": {
       "layout": "IPY_MODEL_15f88b44d1bd4561a099f7e7301d9214",
       "style": "IPY_MODEL_0d59638ccace4f9887b2afcfeb35e9a0",
       "value": "<p>its a foo cake</p>"
      }
     },
     "4c9f9470fdcc49fdaddf6f519650e4da": {
      "model_module": "@jupyter-widgets/controls",
      "model_module_version": "1.5.0",
      "model_name": "HBoxModel",
      "state": {
       "children": [
        "IPY_MODEL_047f0073ee8d4ca9b0c0037641361eb2",
        "IPY_MODEL_b8be4679d5404fb6a2eb149bc76fa4f6"
       ],
       "layout": "IPY_MODEL_ca689a4365d643a38d74411e104b1ade"
      }
     },
     "4cf02caa752f4ab19f2ee04f0168d4fc": {
      "model_module": "@jupyter-widgets/controls",
      "model_module_version": "1.5.0",
      "model_name": "HBoxModel",
      "state": {
       "children": [
        "IPY_MODEL_bc1915e46f8649589f9241e2f056dd3a",
        "IPY_MODEL_2d484e40ebe74ad3afdb8f9750603983"
       ],
       "layout": "IPY_MODEL_f697ea2ee1e64cd187eb528119eb5e98"
      }
     },
     "4da21135d0574e6598656f590c139174": {
      "model_module": "@jupyter-widgets/controls",
      "model_module_version": "1.5.0",
      "model_name": "HBoxModel",
      "state": {
       "children": [
        "IPY_MODEL_f4da70de27fd46fb9f29876105b0b9ab",
        "IPY_MODEL_a3b64bd7cf54423094bdcb838b081a45"
       ],
       "layout": "IPY_MODEL_c88af014e1634dc8b745d30c9a8b6c48"
      }
     },
     "4dae8c6984e343bdb68c902d268e7314": {
      "model_module": "@jupyter-widgets/base",
      "model_module_version": "1.2.0",
      "model_name": "LayoutModel",
      "state": {
       "align_items": "stretch",
       "display": "flex",
       "flex_flow": "row",
       "grid_auto_columns": "True",
       "justify_content": "flex-start",
       "width": "80%"
      }
     },
     "4e0293c53dff47e6bc69801063284e5e": {
      "model_module": "@jupyter-widgets/controls",
      "model_module_version": "1.5.0",
      "model_name": "HTMLModel",
      "state": {
       "layout": "IPY_MODEL_87c74bd1b1d74acabef66ea2e0544345",
       "style": "IPY_MODEL_119a7e7cd838463abf43a047a47a8de1",
       "value": "<p>fus foo ous o</p>"
      }
     },
     "4e06206d57fb4f1f8cf6c6d6a792ee53": {
      "model_module": "@jupyter-widgets/controls",
      "model_module_version": "1.5.0",
      "model_name": "DescriptionStyleModel",
      "state": {
       "description_width": ""
      }
     },
     "4e086706d8774f49a4bfab01f905f634": {
      "model_module": "@jupyter-widgets/base",
      "model_module_version": "1.2.0",
      "model_name": "LayoutModel",
      "state": {}
     },
     "4e0df980912a4d98841c4b554da9ef18": {
      "model_module": "@jupyter-widgets/output",
      "model_module_version": "1.0.0",
      "model_name": "OutputModel",
      "state": {
       "layout": "IPY_MODEL_d484ad67a30e4f5581ae66c35ffa517b"
      }
     },
     "4e32743e5259452a8947a2b67d49d54c": {
      "model_module": "@jupyter-widgets/base",
      "model_module_version": "1.2.0",
      "model_name": "LayoutModel",
      "state": {}
     },
     "4e474c15f7ef4233b533daaddd7652a3": {
      "model_module": "@jupyter-widgets/controls",
      "model_module_version": "1.5.0",
      "model_name": "DescriptionStyleModel",
      "state": {
       "description_width": ""
      }
     },
     "4e4c8e036f394154979c0009be9ccc70": {
      "model_module": "@jupyter-widgets/controls",
      "model_module_version": "1.5.0",
      "model_name": "DescriptionStyleModel",
      "state": {
       "description_width": ""
      }
     },
     "4efac5b100ec478e938dd87cda688304": {
      "model_module": "@jupyter-widgets/controls",
      "model_module_version": "1.5.0",
      "model_name": "TextModel",
      "state": {
       "layout": "IPY_MODEL_0cc0016012f64625b5160c64d7d70697",
       "style": "IPY_MODEL_7c6db906458f4a1cb31f95d5d4153cc8",
       "value": "C:\\engDev\\git_mf\\MF_Toolbox\\dev\\examples\\gbxml\\105_LiveseyExchange_heatpump-normal-fabric.xml"
      }
     },
     "4eff22bb294b48c6a6519d097976d974": {
      "model_module": "@jupyter-widgets/base",
      "model_module_version": "1.2.0",
      "model_name": "LayoutModel",
      "state": {}
     },
     "4eff3c8850014d89a463b8f626dab534": {
      "model_module": "@jupyter-widgets/controls",
      "model_module_version": "1.5.0",
      "model_name": "HBoxModel",
      "state": {
       "children": [
        "IPY_MODEL_ecfa4491856f4613b9e3f2a99b43ec47"
       ],
       "layout": "IPY_MODEL_7d2221e21a6b4ecca06965e9a0e44bf9"
      }
     },
     "4f0b71edddd94d2bb05ca172f983e0c3": {
      "model_module": "@jupyter-widgets/controls",
      "model_module_version": "1.5.0",
      "model_name": "SliderStyleModel",
      "state": {
       "description_width": ""
      }
     },
     "4f6c786bce674314b898298fde0ace24": {
      "model_module": "@jupyter-widgets/base",
      "model_module_version": "1.2.0",
      "model_name": "LayoutModel",
      "state": {
       "align_items": "stretch",
       "display": "flex",
       "flex_flow": "row",
       "grid_auto_columns": "True",
       "justify_content": "flex-end",
       "width": "90%"
      }
     },
     "4f822cb0464041a291f90a7b67c4297c": {
      "model_module": "@jupyter-widgets/controls",
      "model_module_version": "1.5.0",
      "model_name": "HBoxModel",
      "state": {
       "children": [
        "IPY_MODEL_060d3c0ebc2c47d8bc61dbcc6d3e03e6"
       ],
       "layout": "IPY_MODEL_6ad588a3ec904af5bf8e927114fe02ed"
      }
     },
     "4fc4256c6e1d4b65becdfe89ec58d7d8": {
      "model_module": "@jupyter-widgets/controls",
      "model_module_version": "1.5.0",
      "model_name": "DescriptionStyleModel",
      "state": {
       "description_width": ""
      }
     },
     "4fe980b105224e788cee9b362bc83a0f": {
      "model_module": "@jupyter-widgets/base",
      "model_module_version": "1.2.0",
      "model_name": "LayoutModel",
      "state": {}
     },
     "4ff1d19bcb3e4157ba21ff44f5eae665": {
      "model_module": "@jupyter-widgets/controls",
      "model_module_version": "1.5.0",
      "model_name": "DescriptionStyleModel",
      "state": {
       "description_width": ""
      }
     },
     "502b1cb77bb943c1852bf20c854e3092": {
      "model_module": "@jupyter-widgets/controls",
      "model_module_version": "1.5.0",
      "model_name": "CheckboxModel",
      "state": {
       "disabled": false,
       "layout": "IPY_MODEL_2c8be610dd204fb4b9abc875cf40fef9",
       "style": "IPY_MODEL_5ab7febe502549eda89de97711f79029",
       "value": false
      }
     },
     "5042964a8c91474ebb04460ef5f8c162": {
      "model_module": "@jupyter-widgets/base",
      "model_module_version": "1.2.0",
      "model_name": "LayoutModel",
      "state": {
       "align_items": "stretch",
       "border": "dashed 0.2px green",
       "display": "flex",
       "flex_flow": "row",
       "grid_auto_columns": "True",
       "justify_content": "flex-start",
       "width": "100%"
      }
     },
     "507bdbc1616d4f0fb5a1a7c290ec5f37": {
      "model_module": "@jupyter-widgets/controls",
      "model_module_version": "1.5.0",
      "model_name": "HBoxModel",
      "state": {
       "children": [
        "IPY_MODEL_b6b18b95e38a4f7fa3a89a6d9b9c3f3e",
        "IPY_MODEL_5b09c83b45c1427eb037951e2696a1dc"
       ],
       "layout": "IPY_MODEL_9335b63084634077afb1620bd33d3d32"
      }
     },
     "509873ba4fe348c2b1753d7cb6837849": {
      "model_module": "@jupyter-widgets/controls",
      "model_module_version": "1.5.0",
      "model_name": "HTMLModel",
      "state": {
       "layout": "IPY_MODEL_f5d81f7b19c249aab0818f7f08bcabeb",
       "style": "IPY_MODEL_e8e337c839d649a2bcae41b5336ccb2b",
       "value": "<p>reous foo ous foo st</p>"
      }
     },
     "50ad6b2609a44fe49030592147f9478f": {
      "model_module": "@jupyter-widgets/output",
      "model_module_version": "1.0.0",
      "model_name": "OutputModel",
      "state": {
       "layout": "IPY_MODEL_49eaffafded94be2a2540565e4b51c89"
      }
     },
     "50d1169a524f412b8bebb8dad8672aea": {
      "model_module": "@jupyter-widgets/base",
      "model_module_version": "1.2.0",
      "model_name": "LayoutModel",
      "state": {}
     },
     "51852deb68e941b5bfccceab3bbc713d": {
      "model_module": "@jupyter-widgets/controls",
      "model_module_version": "1.5.0",
      "model_name": "HBoxModel",
      "state": {
       "children": [
        "IPY_MODEL_852b47de8d11466780a3ae9d44f57127"
       ],
       "layout": "IPY_MODEL_a82dcb9918ad4c5b9952297dda6f9d16"
      }
     },
     "51924a14a92e418eb8b52dd91a84f32d": {
      "model_module": "@jupyter-widgets/controls",
      "model_module_version": "1.5.0",
      "model_name": "ToggleButtonModel",
      "state": {
       "description": "help",
       "icon": "fa-question-circle",
       "layout": "IPY_MODEL_ac8fcc702a434c44bf5021d160387b62",
       "style": "IPY_MODEL_3bf20d72c8314301bd65b08bff3c51a7",
       "tooltip": "gives guidance"
      }
     },
     "51f3dfedf36743f29327d65eabedcea8": {
      "model_module": "@jupyter-widgets/base",
      "model_module_version": "1.2.0",
      "model_name": "LayoutModel",
      "state": {}
     },
     "520be4417f0e4bd2bcfc25a66bcc431a": {
      "model_module": "@jupyter-widgets/controls",
      "model_module_version": "1.5.0",
      "model_name": "HTMLModel",
      "state": {
       "layout": "IPY_MODEL_207fa031a42145818812ac18fa8d7144",
       "style": "IPY_MODEL_ba56cbca1fd344188d482f6f3c20b4b2",
       "value": "<p>File Prefix</p>"
      }
     },
     "52192523acf2497190520c9a01e6937d": {
      "model_module": "@jupyter-widgets/controls",
      "model_module_version": "1.5.0",
      "model_name": "HTMLModel",
      "state": {
       "layout": "IPY_MODEL_da6cdc2d730e4ecdb0d2035b02760ae2",
       "style": "IPY_MODEL_1dc5707bbb17488ba4ddfdf3caadafdc",
       "value": "<p>label</p>"
      }
     },
     "521c34373ef34447b0b6082e43bbc45b": {
      "model_module": "@jupyter-widgets/base",
      "model_module_version": "1.2.0",
      "model_name": "LayoutModel",
      "state": {
       "width": "auto"
      }
     },
     "521c3e66a4ad49289c4501575eb0e2a6": {
      "model_module": "@jupyter-widgets/base",
      "model_module_version": "1.2.0",
      "model_name": "LayoutModel",
      "state": {
       "align_items": "stretch",
       "border": "dashed 0.2px green",
       "display": "flex",
       "flex_flow": "row",
       "grid_auto_columns": "True",
       "justify_content": "flex-start",
       "width": "100%"
      }
     },
     "52277a39cf594fa8b8352b2038315d76": {
      "model_module": "@jupyter-widgets/base",
      "model_module_version": "1.2.0",
      "model_name": "LayoutModel",
      "state": {}
     },
     "52295a5082004cbcbee3f6cb37bf0746": {
      "model_module": "@jupyter-widgets/controls",
      "model_module_version": "1.5.0",
      "model_name": "HTMLModel",
      "state": {
       "layout": "IPY_MODEL_7b914fef9fda41b58688ca0b93226094",
       "style": "IPY_MODEL_4880ecf2d3f347c1b92a17c26c2ec746",
       "value": "<p>edit user input form below</p>"
      }
     },
     "522be79b2f78437f8a3d5b583839a9b3": {
      "model_module": "@jupyter-widgets/base",
      "model_module_version": "1.2.0",
      "model_name": "LayoutModel",
      "state": {}
     },
     "5234ee622bc04c9a9a296e8c2b968f99": {
      "model_module": "@jupyter-widgets/base",
      "model_module_version": "1.2.0",
      "model_name": "LayoutModel",
      "state": {}
     },
     "52617663227d4ce387ed18cd58ef8da9": {
      "model_module": "@jupyter-widgets/controls",
      "model_module_version": "1.5.0",
      "model_name": "DescriptionStyleModel",
      "state": {
       "description_width": ""
      }
     },
     "530593e4a01a4aefa7952c7f094d0d92": {
      "model_module": "@jupyter-widgets/controls",
      "model_module_version": "1.5.0",
      "model_name": "DescriptionStyleModel",
      "state": {
       "description_width": ""
      }
     },
     "53541592d9c64499a21e2c154ed1230f": {
      "model_module": "@jupyter-widgets/base",
      "model_module_version": "1.2.0",
      "model_name": "LayoutModel",
      "state": {}
     },
     "536699c5d4424bc79e3f6e1e3b552732": {
      "model_module": "@jupyter-widgets/output",
      "model_module_version": "1.0.0",
      "model_name": "OutputModel",
      "state": {
       "layout": "IPY_MODEL_b02199db866b416e9f62ab3e9a407ea9"
      }
     },
     "53ba42e74fac45d5b7805938bfee64cc": {
      "model_module": "@jupyter-widgets/base",
      "model_module_version": "1.2.0",
      "model_name": "LayoutModel",
      "state": {}
     },
     "53fa32b29c9a48b7a2e0b681c2c2fbdb": {
      "model_module": "@jupyter-widgets/base",
      "model_module_version": "1.2.0",
      "model_name": "LayoutModel",
      "state": {}
     },
     "547a9d3c5ce74ae5974695f0a8224791": {
      "model_module": "@jupyter-widgets/base",
      "model_module_version": "1.2.0",
      "model_name": "LayoutModel",
      "state": {}
     },
     "5495a909b4ba4020971f901c1429af5f": {
      "model_module": "@jupyter-widgets/base",
      "model_module_version": "1.2.0",
      "model_name": "LayoutModel",
      "state": {
       "align_items": "stretch",
       "border": "dashed 0.2px green",
       "display": "flex",
       "flex_flow": "row",
       "grid_auto_columns": "True",
       "justify_content": "flex-start",
       "width": "100%"
      }
     },
     "54da82edc6b44b24aa41502139235d84": {
      "model_module": "@jupyter-widgets/controls",
      "model_module_version": "1.5.0",
      "model_name": "DescriptionStyleModel",
      "state": {
       "description_width": ""
      }
     },
     "54e55ec97a6947b2a93f1e089ae1af9b": {
      "model_module": "@jupyter-widgets/controls",
      "model_module_version": "1.5.0",
      "model_name": "HBoxModel",
      "state": {
       "children": [
        "IPY_MODEL_772df2af798849bdb3e91435375e1e90"
       ],
       "layout": "IPY_MODEL_82a30b653afe41c3ac4e31973cefac56"
      }
     },
     "5517cd045ad54a4a9437882f53e65297": {
      "model_module": "@jupyter-widgets/controls",
      "model_module_version": "1.5.0",
      "model_name": "HTMLModel",
      "state": {
       "layout": "IPY_MODEL_2cb56ea7d27e4ac6842cf59073b791fa",
       "style": "IPY_MODEL_425823ac7f9d45dd8a775fb0d3d7daf2"
      }
     },
     "5558f9fe083a4fc8b9870f671759f3a2": {
      "model_module": "@jupyter-widgets/controls",
      "model_module_version": "1.5.0",
      "model_name": "HBoxModel",
      "state": {
       "children": [
        "IPY_MODEL_a543e6a4a83f4bcdb3200f734a6741e2"
       ],
       "layout": "IPY_MODEL_f83037d085fd4d7cb61ece3306f574b0"
      }
     },
     "5560c4bfa6d84d899968c11399974168": {
      "model_module": "@jupyter-widgets/controls",
      "model_module_version": "1.5.0",
      "model_name": "DescriptionStyleModel",
      "state": {
       "description_width": ""
      }
     },
     "5594eb681338477fa12c45f697827ddd": {
      "model_module": "@jupyter-widgets/controls",
      "model_module_version": "1.5.0",
      "model_name": "ToggleButtonModel",
      "state": {
       "button_style": "info",
       "description": "select file",
       "layout": "IPY_MODEL_eec254e43da04298ab2791423b4a29c6",
       "style": "IPY_MODEL_a9b727308fcb47278c82f2d3db79e914"
      }
     },
     "55abf48c850548b9bc13dff47bfc6356": {
      "model_module": "@jupyter-widgets/controls",
      "model_module_version": "1.5.0",
      "model_name": "ToggleButtonModel",
      "state": {
       "icon": "arrow-down",
       "layout": "IPY_MODEL_c99349567fdc42e4800a3056b8913508",
       "style": "IPY_MODEL_ac4d247fb16f4286bd1a98916ea58b45"
      }
     },
     "55b86341452d4e089dd73e25d0ff9d8c": {
      "model_module": "@jupyter-widgets/controls",
      "model_module_version": "1.5.0",
      "model_name": "SelectMultipleModel",
      "state": {
       "_options_labels": [
        "asfd",
        "10",
        "asdf"
       ],
       "index": [
        1
       ],
       "layout": "IPY_MODEL_9b318ec0332b4bc8b939c3807245c39f",
       "rows": 5,
       "style": "IPY_MODEL_02e514e30f6a48289bea4261ee7de2b7"
      }
     },
     "55bd0cc2f7894135939f173a723f6b01": {
      "model_module": "@jupyter-widgets/base",
      "model_module_version": "1.2.0",
      "model_name": "LayoutModel",
      "state": {}
     },
     "55e8ad2b70fe46478c6188b8eaf7825e": {
      "model_module": "@jupyter-widgets/base",
      "model_module_version": "1.2.0",
      "model_name": "LayoutModel",
      "state": {}
     },
     "56480c248ec6400dbd4088095c6200f8": {
      "model_module": "@jupyter-widgets/base",
      "model_module_version": "1.2.0",
      "model_name": "LayoutModel",
      "state": {}
     },
     "5660b012996f4e3fb8725f623c412ba2": {
      "model_module": "@jupyter-widgets/base",
      "model_module_version": "1.2.0",
      "model_name": "LayoutModel",
      "state": {
       "align_items": "stretch",
       "display": "flex",
       "flex_flow": "row",
       "grid_auto_columns": "True",
       "justify_content": "flex-end",
       "width": "90%"
      }
     },
     "5667a19c153d4488a67f6df03d562915": {
      "model_module": "@jupyter-widgets/controls",
      "model_module_version": "1.5.0",
      "model_name": "VBoxModel",
      "state": {
       "children": [
        "IPY_MODEL_8d777b26655b4befbae842900dc2818d",
        "IPY_MODEL_52295a5082004cbcbee3f6cb37bf0746",
        "IPY_MODEL_39e505c0db984fa09062e23699dcf4b8"
       ],
       "layout": "IPY_MODEL_b97801017cac4b1e93b4e577b6364ff7"
      }
     },
     "5692a48106dd4faea9fc1caa06447f3b": {
      "model_module": "@jupyter-widgets/controls",
      "model_module_version": "1.5.0",
      "model_name": "FloatSliderModel",
      "state": {
       "layout": "IPY_MODEL_ee8f7cc54eef48c0855c2217746b6702",
       "max": 10,
       "style": "IPY_MODEL_4f0b71edddd94d2bb05ca172f983e0c3",
       "value": 1
      }
     },
     "56a872e4f7b145b48e72ee92733eebee": {
      "model_module": "@jupyter-widgets/controls",
      "model_module_version": "1.5.0",
      "model_name": "ButtonStyleModel",
      "state": {
       "font_weight": "bold"
      }
     },
     "56c6dad921f8459792f380d455cde9a2": {
      "model_module": "@jupyter-widgets/controls",
      "model_module_version": "1.5.0",
      "model_name": "DescriptionStyleModel",
      "state": {
       "description_width": ""
      }
     },
     "56fc055bb4da4c419a74f66dadfad325": {
      "model_module": "@jupyter-widgets/base",
      "model_module_version": "1.2.0",
      "model_name": "LayoutModel",
      "state": {
       "align_items": "stretch",
       "border": "dashed 0.2px green",
       "display": "flex",
       "flex_flow": "row",
       "grid_auto_columns": "True",
       "justify_content": "flex-start",
       "width": "100%"
      }
     },
     "57186a21bfd143b2a13cd8e647213bb0": {
      "model_module": "@jupyter-widgets/base",
      "model_module_version": "1.2.0",
      "model_name": "LayoutModel",
      "state": {}
     },
     "574af49fa1594aeea41359fc099cca94": {
      "model_module": "@jupyter-widgets/controls",
      "model_module_version": "1.5.0",
      "model_name": "DescriptionStyleModel",
      "state": {
       "description_width": ""
      }
     },
     "5758290d1b8344c0aaf6d2b750ebfc30": {
      "model_module": "@jupyter-widgets/base",
      "model_module_version": "1.2.0",
      "model_name": "LayoutModel",
      "state": {}
     },
     "57e9953a5f4f421aa2a4ae784d477ed4": {
      "model_module": "@jupyter-widgets/controls",
      "model_module_version": "1.5.0",
      "model_name": "ToggleButtonModel",
      "state": {
       "icon": "arrow-down",
       "layout": "IPY_MODEL_034c49c5d672440f99432a210886f728",
       "style": "IPY_MODEL_95d43cb02c984742a53d4cd6539756fd"
      }
     },
     "583dc69ac96a430d9aa8662521865ed2": {
      "model_module": "@jupyter-widgets/controls",
      "model_module_version": "1.5.0",
      "model_name": "ButtonModel",
      "state": {
       "button_style": "warning",
       "description": "revert to last save",
       "layout": "IPY_MODEL_fae231c29f384403b44e7635b04fcbaf",
       "style": "IPY_MODEL_7014fb90839941fc84ee6676592cfdcf"
      }
     },
     "584a221251d541c3b07af4684cd23776": {
      "model_module": "@jupyter-widgets/base",
      "model_module_version": "1.2.0",
      "model_name": "LayoutModel",
      "state": {}
     },
     "588488d3b76d42dbb55e6a7cc1b2952d": {
      "model_module": "@jupyter-widgets/base",
      "model_module_version": "1.2.0",
      "model_name": "LayoutModel",
      "state": {}
     },
     "58e209e0520a40fa89e499fddeb7b7da": {
      "model_module": "@jupyter-widgets/base",
      "model_module_version": "1.2.0",
      "model_name": "LayoutModel",
      "state": {}
     },
     "596789726476418ea5cbfec0c05d1e46": {
      "model_module": "@jupyter-widgets/base",
      "model_module_version": "1.2.0",
      "model_name": "LayoutModel",
      "state": {}
     },
     "5995b66525494d55a4fed31781557d0c": {
      "model_module": "@jupyter-widgets/controls",
      "model_module_version": "1.5.0",
      "model_name": "ButtonModel",
      "state": {
       "button_style": "warning",
       "description": "revert to last save",
       "layout": "IPY_MODEL_044a56dbdb794e469a98935c9eeecc7c",
       "style": "IPY_MODEL_44de2a38afaa4bf78904502b04dad675"
      }
     },
     "599a9cef01d647bdb21f1a7fb301f8ff": {
      "model_module": "@jupyter-widgets/controls",
      "model_module_version": "1.5.0",
      "model_name": "HTMLModel",
      "state": {
       "layout": "IPY_MODEL_6a93217ccb344dbcad3ce0028294c9db",
       "style": "IPY_MODEL_4bba45c3abda48658bcd62d64e445428",
       "value": "<p>its a foo cake</p>"
      }
     },
     "59e9bf52b66f4541b453b0621786ab81": {
      "model_module": "@jupyter-widgets/base",
      "model_module_version": "1.2.0",
      "model_name": "LayoutModel",
      "state": {}
     },
     "5a9220314b864852b586f39dd1bca460": {
      "model_module": "@jupyter-widgets/controls",
      "model_module_version": "1.5.0",
      "model_name": "HTMLModel",
      "state": {
       "layout": "IPY_MODEL_709c5f22e52a41eb97cfbf34b807393d",
       "style": "IPY_MODEL_72959db00c7e428185fc150b850d61b9",
       "value": "<p>edit user input form below</p>"
      }
     },
     "5aaea5d9ee4f4a0ab15ab38165fd0cda": {
      "model_module": "@jupyter-widgets/output",
      "model_module_version": "1.0.0",
      "model_name": "OutputModel",
      "state": {
       "layout": "IPY_MODEL_de7ea5d3a322473984d3fbfeacebf593"
      }
     },
     "5ab7febe502549eda89de97711f79029": {
      "model_module": "@jupyter-widgets/controls",
      "model_module_version": "1.5.0",
      "model_name": "DescriptionStyleModel",
      "state": {
       "description_width": ""
      }
     },
     "5b09c83b45c1427eb037951e2696a1dc": {
      "model_module": "@jupyter-widgets/controls",
      "model_module_version": "1.5.0",
      "model_name": "HTMLModel",
      "state": {
       "layout": "IPY_MODEL_0556954043b14be9a8c967eb37599de3",
       "style": "IPY_MODEL_d9cc3f026dbf4a23a01907873a827c58"
      }
     },
     "5b1c946caa114ee59f62e98ac5837016": {
      "model_module": "@jupyter-widgets/controls",
      "model_module_version": "1.5.0",
      "model_name": "HTMLModel",
      "state": {
       "layout": "IPY_MODEL_7a1573563c364ead942b2a8fdc8a0332",
       "style": "IPY_MODEL_118b2bd3c52d42b7baa782e24224d4eb",
       "value": "<p>fpth_in</p>"
      }
     },
     "5b32b8cd0d434e1fa7c304376964c78d": {
      "model_module": "@jupyter-widgets/controls",
      "model_module_version": "1.5.0",
      "model_name": "ButtonStyleModel",
      "state": {
       "font_weight": "bold"
      }
     },
     "5b4c0410f0ee42c0b11daa179ce44632": {
      "model_module": "@jupyter-widgets/controls",
      "model_module_version": "1.5.0",
      "model_name": "HBoxModel",
      "state": {
       "children": [
        "IPY_MODEL_1aefdc26e15d49b0b095664efb20d894",
        "IPY_MODEL_68b75618723e451a9cc8ee43b06d318c"
       ],
       "layout": "IPY_MODEL_2cffc372f6c54f41832c8b88ca956476"
      }
     },
     "5b8c845c8d5b454e8039c35db265c42d": {
      "model_module": "@jupyter-widgets/controls",
      "model_module_version": "1.5.0",
      "model_name": "HBoxModel",
      "state": {
       "children": [
        "IPY_MODEL_8486e69f1a414569b0e9c450cb46897e",
        "IPY_MODEL_e34fe498c97d4a0b94933d084aefc4eb"
       ],
       "layout": "IPY_MODEL_370820820ca840d383a7f31ebe6379a0"
      }
     },
     "5bd6a33aadb946c6a3dd6deb9e51866a": {
      "model_module": "@jupyter-widgets/base",
      "model_module_version": "1.2.0",
      "model_name": "LayoutModel",
      "state": {
       "display": "flex",
       "flex_flow": "row",
       "grid_auto_columns": "False",
       "justify_content": "flex-start",
       "width": "100%"
      }
     },
     "5bdbcf4a9e3f4604bbe62874899169a5": {
      "model_module": "@jupyter-widgets/controls",
      "model_module_version": "1.5.0",
      "model_name": "DescriptionStyleModel",
      "state": {
       "description_width": ""
      }
     },
     "5c5cc1287f18427bbd9626d7d42e19f8": {
      "model_module": "@jupyter-widgets/controls",
      "model_module_version": "1.5.0",
      "model_name": "ToggleButtonModel",
      "state": {
       "description": "help",
       "icon": "fa-question-circle",
       "layout": "IPY_MODEL_d075880b0edb4dcc94a1f6e5cadebb96",
       "style": "IPY_MODEL_0d0f7a77b2804911a1d463689a6264a6",
       "tooltip": "gives guidance"
      }
     },
     "5c5fc69956694df7beca2328aa7b578c": {
      "model_module": "@jupyter-widgets/controls",
      "model_module_version": "1.5.0",
      "model_name": "DescriptionStyleModel",
      "state": {
       "description_width": ""
      }
     },
     "5c7525f9f8c94da7a23ff17a98c6b690": {
      "model_module": "@jupyter-widgets/base",
      "model_module_version": "1.2.0",
      "model_name": "LayoutModel",
      "state": {}
     },
     "5c8520323a4a443e8c79a1b0f3233a2d": {
      "model_module": "@jupyter-widgets/controls",
      "model_module_version": "1.5.0",
      "model_name": "HBoxModel",
      "state": {
       "children": [
        "IPY_MODEL_1a158ae3941a458f80bb1ed8e382ae5c"
       ],
       "layout": "IPY_MODEL_ddb0c5b7a5a34355b692edf2ee7ea668"
      }
     },
     "5d11e3c9b9cc4952ad98b6563fc9345d": {
      "model_module": "@jupyter-widgets/base",
      "model_module_version": "1.2.0",
      "model_name": "LayoutModel",
      "state": {}
     },
     "5d1ea912b2ef40b2b9a41d71e9d97cdd": {
      "model_module": "@jupyter-widgets/controls",
      "model_module_version": "1.5.0",
      "model_name": "HBoxModel",
      "state": {
       "children": [
        "IPY_MODEL_5594eb681338477fa12c45f697827ddd",
        "IPY_MODEL_0b85aac336ba47e5912e86eef4296592",
        "IPY_MODEL_dee45278e5f94c69b86e7b23de6a8625"
       ],
       "layout": "IPY_MODEL_58e209e0520a40fa89e499fddeb7b7da"
      }
     },
     "5ddbe577223549e4bfa0ced43a5d2dcc": {
      "model_module": "@jupyter-widgets/base",
      "model_module_version": "1.2.0",
      "model_name": "LayoutModel",
      "state": {}
     },
     "5e1a702b39c248b5a069c08ec73910f2": {
      "model_module": "@jupyter-widgets/controls",
      "model_module_version": "1.5.0",
      "model_name": "DescriptionStyleModel",
      "state": {
       "description_width": ""
      }
     },
     "5e4fd7f3e25c4407983ddb43183bf66a": {
      "model_module": "@jupyter-widgets/base",
      "model_module_version": "1.2.0",
      "model_name": "LayoutModel",
      "state": {
       "align_items": "stretch",
       "border": "dashed 0.2px green",
       "display": "flex",
       "flex_flow": "row",
       "grid_auto_columns": "True",
       "justify_content": "flex-start",
       "width": "100%"
      }
     },
     "5e65d8b7a164460c9d5f0e2cc077adde": {
      "model_module": "@jupyter-widgets/base",
      "model_module_version": "1.2.0",
      "model_name": "LayoutModel",
      "state": {
       "align_items": "stretch",
       "border": "dashed 0.2px green",
       "display": "flex",
       "flex_flow": "row",
       "grid_auto_columns": "True",
       "justify_content": "flex-start",
       "width": "100%"
      }
     },
     "5e92fcd2323d4e7cb19b1943075d01a8": {
      "model_module": "@jupyter-widgets/controls",
      "model_module_version": "1.5.0",
      "model_name": "HTMLModel",
      "state": {
       "layout": "IPY_MODEL_7e714a3be42b4255a74fc03305f32f77",
       "style": "IPY_MODEL_54da82edc6b44b24aa41502139235d84"
      }
     },
     "5ee195e648b3484da26d655a565e7720": {
      "model_module": "@jupyter-widgets/base",
      "model_module_version": "1.2.0",
      "model_name": "LayoutModel",
      "state": {}
     },
     "5ee2cf31cc124a66bb3a50098d837c50": {
      "model_module": "@jupyter-widgets/base",
      "model_module_version": "1.2.0",
      "model_name": "LayoutModel",
      "state": {}
     },
     "5f169a0a5e654e269bc8192068a34900": {
      "model_module": "@jupyter-widgets/base",
      "model_module_version": "1.2.0",
      "model_name": "LayoutModel",
      "state": {}
     },
     "5f245bc5e4344de6af8a00ec4687ac05": {
      "model_module": "@jupyter-widgets/controls",
      "model_module_version": "1.5.0",
      "model_name": "ButtonModel",
      "state": {
       "description": "Cancel",
       "layout": "IPY_MODEL_d06122405bdb4713a95c79ae80ea0a85",
       "style": "IPY_MODEL_dfe2c065d9124a35889c7aa24ec38686"
      }
     },
     "5f306648176d477bb7108e5cf5d288cc": {
      "model_module": "@jupyter-widgets/controls",
      "model_module_version": "1.5.0",
      "model_name": "ButtonModel",
      "state": {
       "description": "save",
       "layout": "IPY_MODEL_73ef59307d6c47368d8d145a228595a1",
       "style": "IPY_MODEL_34ae6a4e5fb440eea34461ba44a72f05"
      }
     },
     "5f30ac33b8a04ea7a4105250cc1b1c8f": {
      "model_module": "@jupyter-widgets/controls",
      "model_module_version": "1.5.0",
      "model_name": "DescriptionStyleModel",
      "state": {
       "description_width": ""
      }
     },
     "5f3d15fb08484b8cb15e1a1571e54fcc": {
      "model_module": "@jupyter-widgets/base",
      "model_module_version": "1.2.0",
      "model_name": "LayoutModel",
      "state": {
       "align_items": "stretch",
       "display": "flex",
       "flex_flow": "row",
       "grid_auto_columns": "True",
       "justify_content": "flex-start",
       "width": "80%"
      }
     },
     "5f3dcaab82e04ba0865505c42e891b72": {
      "model_module": "@jupyter-widgets/output",
      "model_module_version": "1.0.0",
      "model_name": "OutputModel",
      "state": {
       "layout": "IPY_MODEL_1321af6029054f99ac6c36b534c41da0"
      }
     },
     "5febe43da8bf41bf8b0c9bb93091d93e": {
      "model_module": "@jupyter-widgets/controls",
      "model_module_version": "1.5.0",
      "model_name": "DescriptionStyleModel",
      "state": {
       "description_width": ""
      }
     },
     "602b84f624d8496babe6c6f209f2a20a": {
      "model_module": "@jupyter-widgets/controls",
      "model_module_version": "1.5.0",
      "model_name": "HBoxModel",
      "state": {
       "children": [
        "IPY_MODEL_24378ed68c78456095ff0d42de94d356"
       ],
       "layout": "IPY_MODEL_df237abde36e4d6d9752ef6cd7728ad0"
      }
     },
     "605febdb641749c9a016a7da99653579": {
      "model_module": "@jupyter-widgets/controls",
      "model_module_version": "1.5.0",
      "model_name": "ToggleButtonModel",
      "state": {
       "icon": "arrow-down",
       "layout": "IPY_MODEL_0af8f78388444ee1a96916b42f20f6a9",
       "style": "IPY_MODEL_75875613fed046a68c75c545cfb13658"
      }
     },
     "607740d1c20d4944809936a4bb784939": {
      "model_module": "@jupyter-widgets/base",
      "model_module_version": "1.2.0",
      "model_name": "LayoutModel",
      "state": {}
     },
     "60a79dcc7b6b4fdba6e9b64c8e08a19c": {
      "model_module": "@jupyter-widgets/base",
      "model_module_version": "1.2.0",
      "model_name": "LayoutModel",
      "state": {
       "align_items": "stretch",
       "display": "flex",
       "flex_flow": "row",
       "grid_auto_columns": "True",
       "justify_content": "flex-end",
       "width": "90%"
      }
     },
     "60eb8fb08b0f4bcea01673861285759f": {
      "model_module": "@jupyter-widgets/controls",
      "model_module_version": "1.5.0",
      "model_name": "HBoxModel",
      "state": {
       "children": [
        "IPY_MODEL_9a41fa47971a4f5fa0a76a9db965dd0b",
        "IPY_MODEL_1485788d237941da9c8659cee8eab701"
       ],
       "layout": "IPY_MODEL_9152c270a935499b88f0304c53f21aa0"
      }
     },
     "614dcc575a0f4c02b7cab185f839869e": {
      "model_module": "@jupyter-widgets/base",
      "model_module_version": "1.2.0",
      "model_name": "LayoutModel",
      "state": {}
     },
     "61d26d386aea4f188c7b51228961b7b7": {
      "model_module": "@jupyter-widgets/controls",
      "model_module_version": "1.5.0",
      "model_name": "DescriptionStyleModel",
      "state": {
       "description_width": ""
      }
     },
     "61e59ba231dc42c99272a3f5b43194c4": {
      "model_module": "@jupyter-widgets/controls",
      "model_module_version": "1.5.0",
      "model_name": "HBoxModel",
      "state": {
       "children": [
        "IPY_MODEL_7cf85868b890437292aab8b30ec816f1",
        "IPY_MODEL_40123ef663e74ff1915d063e0d22b9ac"
       ],
       "layout": "IPY_MODEL_e01c3b7c84964601833ece6f8ca28d1d"
      }
     },
     "621392900c26436bb830f25342e9ac3b": {
      "model_module": "@jupyter-widgets/base",
      "model_module_version": "1.2.0",
      "model_name": "LayoutModel",
      "state": {}
     },
     "622ebb5fc6324fc7862a422764c0da52": {
      "model_module": "@jupyter-widgets/controls",
      "model_module_version": "1.5.0",
      "model_name": "ToggleButtonModel",
      "state": {
       "icon": "arrow-down",
       "layout": "IPY_MODEL_1bee38ed8a52477f9beb1d9429144c8b",
       "style": "IPY_MODEL_5febe43da8bf41bf8b0c9bb93091d93e"
      }
     },
     "62375d3d0550463eb3bcb2ad9d0d4bf7": {
      "model_module": "@jupyter-widgets/controls",
      "model_module_version": "1.5.0",
      "model_name": "DescriptionStyleModel",
      "state": {
       "description_width": ""
      }
     },
     "6256c863c85943259619798a24ac10a8": {
      "model_module": "@jupyter-widgets/output",
      "model_module_version": "1.0.0",
      "model_name": "OutputModel",
      "state": {
       "layout": "IPY_MODEL_49e4bd3a91404ab4aeba6dc4bb394459"
      }
     },
     "625c261316a64db9893fe8e480fb51cf": {
      "model_module": "@jupyter-widgets/base",
      "model_module_version": "1.2.0",
      "model_name": "LayoutModel",
      "state": {
       "align_items": "stretch",
       "border": "dashed 0.2px green",
       "display": "flex",
       "flex_flow": "row",
       "grid_auto_columns": "True",
       "justify_content": "flex-start",
       "width": "100%"
      }
     },
     "6282e838f5964425a8f143b5c548ef56": {
      "model_module": "@jupyter-widgets/controls",
      "model_module_version": "1.5.0",
      "model_name": "DescriptionStyleModel",
      "state": {
       "description_width": ""
      }
     },
     "62c3ed9eacdf4aed8d35ef086ef85511": {
      "model_module": "@jupyter-widgets/controls",
      "model_module_version": "1.5.0",
      "model_name": "HTMLModel",
      "state": {
       "layout": "IPY_MODEL_57186a21bfd143b2a13cd8e647213bb0",
       "style": "IPY_MODEL_a97bf7f4721c45d5995156938cb1b464",
       "value": "<p>input gbxml filepath</p>"
      }
     },
     "62cbf0f7abf649dab4626de71c215b44": {
      "model_module": "@jupyter-widgets/controls",
      "model_module_version": "1.5.0",
      "model_name": "ToggleButtonModel",
      "state": {
       "icon": "arrow-down",
       "layout": "IPY_MODEL_78d9ae979bb04f44a7f4315b69aba74a",
       "style": "IPY_MODEL_5f30ac33b8a04ea7a4105250cc1b1c8f"
      }
     },
     "6382b9c4099c4678aa146fb5f430c433": {
      "model_module": "@jupyter-widgets/base",
      "model_module_version": "1.2.0",
      "model_name": "LayoutModel",
      "state": {
       "grid_area": "pathlist",
       "width": "auto"
      }
     },
     "639a7b5e8a4f4c4eb3d4c35f966edefc": {
      "model_module": "@jupyter-widgets/controls",
      "model_module_version": "1.5.0",
      "model_name": "DescriptionStyleModel",
      "state": {
       "description_width": ""
      }
     },
     "63afa735203d449e8874a51ace62e335": {
      "model_module": "@jupyter-widgets/controls",
      "model_module_version": "1.5.0",
      "model_name": "HTMLModel",
      "state": {
       "layout": "IPY_MODEL_ce700b77ec1d4918be74123e7f3e1a7a",
       "style": "IPY_MODEL_5e1a702b39c248b5a069c08ec73910f2",
       "value": "<p>As Designed?</p>"
      }
     },
     "642a9e5242884ee1aa36abf0b1dd16e5": {
      "model_module": "@jupyter-widgets/controls",
      "model_module_version": "1.5.0",
      "model_name": "ToggleButtonModel",
      "state": {
       "button_style": "info",
       "description": "inputs from file",
       "layout": "IPY_MODEL_07ddbd00859545b4a9df1130499b88d7",
       "style": "IPY_MODEL_ef0a7ad75d254b4bac1b7cfe9f20bc46"
      }
     },
     "6439fe4da3b443118d61a73c8df080b7": {
      "model_module": "@jupyter-widgets/output",
      "model_module_version": "1.0.0",
      "model_name": "OutputModel",
      "state": {
       "layout": "IPY_MODEL_5758290d1b8344c0aaf6d2b750ebfc30"
      }
     },
     "6450c08d9d414147aca5e29b181bba69": {
      "model_module": "@jupyter-widgets/controls",
      "model_module_version": "1.5.0",
      "model_name": "DescriptionStyleModel",
      "state": {
       "description_width": ""
      }
     },
     "646519af5025496ab7e028ecf31c4b5f": {
      "model_module": "@jupyter-widgets/controls",
      "model_module_version": "1.5.0",
      "model_name": "HBoxModel",
      "state": {
       "children": [
        "IPY_MODEL_af4e9a9e5cd040ea8542279b39a652f1"
       ],
       "layout": "IPY_MODEL_ed6d694f5cff4bc9bd31a96ff61cf9c5"
      }
     },
     "646bf9a59ef243a5ad64754ee6b79f56": {
      "model_module": "@jupyter-widgets/controls",
      "model_module_version": "1.5.0",
      "model_name": "DescriptionStyleModel",
      "state": {
       "description_width": ""
      }
     },
     "64a7bb5bddbc4511ad655a1061ac504e": {
      "model_module": "@jupyter-widgets/base",
      "model_module_version": "1.2.0",
      "model_name": "LayoutModel",
      "state": {
       "align_items": "stretch",
       "border": "dashed 0.2px green",
       "display": "flex",
       "flex_flow": "row",
       "grid_auto_columns": "True",
       "justify_content": "flex-start",
       "width": "100%"
      }
     },
     "64cb9d71e4dd4e72a62e9045598ae582": {
      "model_module": "@jupyter-widgets/base",
      "model_module_version": "1.2.0",
      "model_name": "LayoutModel",
      "state": {}
     },
     "6500124c28d54d16ad33fc7f6fb29515": {
      "model_module": "@jupyter-widgets/base",
      "model_module_version": "1.2.0",
      "model_name": "LayoutModel",
      "state": {
       "display": "flex",
       "flex_flow": "row",
       "grid_auto_columns": "False",
       "justify_content": "flex-start",
       "width": "100%"
      }
     },
     "65079765767a449aa60b8732678199ac": {
      "model_module": "@jupyter-widgets/controls",
      "model_module_version": "1.5.0",
      "model_name": "HBoxModel",
      "state": {
       "children": [
        "IPY_MODEL_0d43195c9a16490dab5e15a2ec1379cc",
        "IPY_MODEL_cce495af48e04bf3966a58b7e43288e2"
       ],
       "layout": "IPY_MODEL_0ed45e8b4d594f469b4e378c00fcfcf1"
      }
     },
     "653fc9458e54433e9a877b79640d1301": {
      "model_module": "@jupyter-widgets/base",
      "model_module_version": "1.2.0",
      "model_name": "LayoutModel",
      "state": {
       "align_items": "stretch",
       "border": "dashed 0.2px green",
       "display": "flex",
       "flex_flow": "row",
       "grid_auto_columns": "True",
       "justify_content": "flex-start",
       "width": "100%"
      }
     },
     "65ca099918cb434eb53999ff49a7e225": {
      "model_module": "@jupyter-widgets/output",
      "model_module_version": "1.0.0",
      "model_name": "OutputModel",
      "state": {
       "layout": "IPY_MODEL_23053ea7e59a460782b0db9d2eec6874"
      }
     },
     "65d7391b16274b1bb2edd2ca98b947d1": {
      "model_module": "@jupyter-widgets/controls",
      "model_module_version": "1.5.0",
      "model_name": "DescriptionStyleModel",
      "state": {
       "description_width": ""
      }
     },
     "66077f83831d49ada6e3fd391af13b73": {
      "model_module": "@jupyter-widgets/controls",
      "model_module_version": "1.5.0",
      "model_name": "VBoxModel",
      "state": {
       "children": [
        "IPY_MODEL_377b8c24f50b4dfbbfc0db65481f2ba2",
        "IPY_MODEL_9bf6e4bfbd6348438df888f1ef1b15f0"
       ],
       "layout": "IPY_MODEL_8ec930b72daa4abab3798d8643fe2227"
      }
     },
     "6635886954ea43dd8099340ea8b53b1e": {
      "model_module": "@jupyter-widgets/controls",
      "model_module_version": "1.5.0",
      "model_name": "HTMLModel",
      "state": {
       "layout": "IPY_MODEL_07512152d7c4431ea7fb3584b5cab438",
       "style": "IPY_MODEL_acdf0ae65975490c94cb79a3425ce1cf",
       "value": "<p>fus foo ous o</p>"
      }
     },
     "666cc5adfb1f461782d0aca96dfe3d3e": {
      "model_module": "@jupyter-widgets/base",
      "model_module_version": "1.2.0",
      "model_name": "LayoutModel",
      "state": {
       "align_items": "stretch",
       "display": "flex",
       "flex_flow": "row",
       "grid_auto_columns": "True",
       "justify_content": "flex-end",
       "width": "90%"
      }
     },
     "6687602e79734280bb4bbee91c6c72e0": {
      "model_module": "@jupyter-widgets/controls",
      "model_module_version": "1.5.0",
      "model_name": "ToggleButtonModel",
      "state": {
       "icon": "arrow-down",
       "layout": "IPY_MODEL_e4e2fe02b3bc48e18322cd63183a7eee",
       "style": "IPY_MODEL_29ccfcc8d2c341f48f7b3cbea5dd68ba"
      }
     },
     "66b990d8dd9040a49f0cac977ca77edb": {
      "model_module": "@jupyter-widgets/controls",
      "model_module_version": "1.5.0",
      "model_name": "DescriptionStyleModel",
      "state": {
       "description_width": ""
      }
     },
     "66fd23e1228b4e54bdcc9386de7f279f": {
      "model_module": "@jupyter-widgets/controls",
      "model_module_version": "1.5.0",
      "model_name": "HBoxModel",
      "state": {
       "children": [
        "IPY_MODEL_9dbb0d93014143a0a20b96c1c69f2e8b"
       ],
       "layout": "IPY_MODEL_cb51f41a9968473ca3a8474809e6c88d"
      }
     },
     "67316347f22b4f7cb4531db90f055bf0": {
      "model_module": "@jupyter-widgets/controls",
      "model_module_version": "1.5.0",
      "model_name": "DescriptionStyleModel",
      "state": {
       "description_width": ""
      }
     },
     "676a1acc7b89420ebeed6867856a752b": {
      "model_module": "@jupyter-widgets/controls",
      "model_module_version": "1.5.0",
      "model_name": "DescriptionStyleModel",
      "state": {
       "description_width": ""
      }
     },
     "676b3dfdd6e948c6a2d1006bf3c1795e": {
      "model_module": "@jupyter-widgets/controls",
      "model_module_version": "1.5.0",
      "model_name": "HTMLModel",
      "state": {
       "layout": "IPY_MODEL_09ffd3893157454c9d7b04441fb931de",
       "style": "IPY_MODEL_b3e6fb61aa954a8887fba16bb4689501",
       "value": "<p>Cooling</p>"
      }
     },
     "677e5a496c6448b6b19ea65d13c46f39": {
      "model_module": "@jupyter-widgets/base",
      "model_module_version": "1.2.0",
      "model_name": "LayoutModel",
      "state": {}
     },
     "6791928a923245a8914dd33abfc55e3d": {
      "model_module": "@jupyter-widgets/controls",
      "model_module_version": "1.5.0",
      "model_name": "HBoxModel",
      "state": {
       "children": [
        "IPY_MODEL_012e524f3c524ccda18584d16c1bfb4d",
        "IPY_MODEL_39e6b39c898241738149f313d1d4713a"
       ],
       "layout": "IPY_MODEL_9fadaff2f3a246c299a114f750dbfe9a"
      }
     },
     "6792e3bf388244139b55ddf0f111a4e4": {
      "model_module": "@jupyter-widgets/base",
      "model_module_version": "1.2.0",
      "model_name": "LayoutModel",
      "state": {}
     },
     "67ac3b5b442e4078bf08d7dd633b0f3f": {
      "model_module": "@jupyter-widgets/controls",
      "model_module_version": "1.5.0",
      "model_name": "HBoxModel",
      "state": {
       "children": [
        "IPY_MODEL_d1e205506b60412cabb5b6daa32f9278"
       ],
       "layout": "IPY_MODEL_aca0e377f90040f8ab9a26626ee1137e"
      }
     },
     "67c31452200c469fa6a2adc89dde8614": {
      "model_module": "@jupyter-widgets/controls",
      "model_module_version": "1.5.0",
      "model_name": "VBoxModel",
      "state": {
       "children": [
        "IPY_MODEL_9ced48c11c924b1487fdeb02805e7848",
        "IPY_MODEL_6d0ce932e2994bcba66e30b7123579ad",
        "IPY_MODEL_9c2fa9b209cd4dd0aef16ca3df898ac9"
       ],
       "layout": "IPY_MODEL_1174c8696dc44b37a555c6ce016c3b80"
      }
     },
     "67edd58b78cb463e809ccf6a101583a2": {
      "model_module": "@jupyter-widgets/controls",
      "model_module_version": "1.5.0",
      "model_name": "TextModel",
      "state": {
       "layout": "IPY_MODEL_8b6784e917a04e13a5d64454f21db621",
       "style": "IPY_MODEL_36cd462cc66040869bc3193cb2427e1c",
       "value": "YY-OverheatingAnalysis"
      }
     },
     "684b2a66830a4ef59c07b0abe156c8fc": {
      "model_module": "@jupyter-widgets/base",
      "model_module_version": "1.2.0",
      "model_name": "LayoutModel",
      "state": {
       "align_items": "stretch",
       "border": "dashed 0.2px green",
       "display": "flex",
       "flex_flow": "row",
       "grid_auto_columns": "True",
       "justify_content": "flex-start",
       "width": "100%"
      }
     },
     "689bf5eb6255402fa7ebc2dba9349f7f": {
      "model_module": "@jupyter-widgets/controls",
      "model_module_version": "1.5.0",
      "model_name": "VBoxModel",
      "state": {
       "layout": "IPY_MODEL_ad135d69eca64f09b99bf517393aa75e"
      }
     },
     "68b75618723e451a9cc8ee43b06d318c": {
      "model_module": "@jupyter-widgets/controls",
      "model_module_version": "1.5.0",
      "model_name": "HBoxModel",
      "state": {
       "children": [
        "IPY_MODEL_4553031403914e8fa90d260b1ea15809",
        "IPY_MODEL_5517cd045ad54a4a9437882f53e65297"
       ],
       "layout": "IPY_MODEL_280de96d37584b73bb277aee4657b33a"
      }
     },
     "68e19abef9864a8d842d6beeea16b859": {
      "model_module": "@jupyter-widgets/base",
      "model_module_version": "1.2.0",
      "model_name": "LayoutModel",
      "state": {}
     },
     "691f4d672d1f432fbba0a1c0cc94ba39": {
      "model_module": "@jupyter-widgets/base",
      "model_module_version": "1.2.0",
      "model_name": "LayoutModel",
      "state": {
       "align_items": "stretch",
       "border": "dashed 0.2px green",
       "display": "flex",
       "flex_flow": "row",
       "grid_auto_columns": "True",
       "justify_content": "flex-start",
       "width": "100%"
      }
     },
     "696d886d97464ec7a168a3b6fcaafec8": {
      "model_module": "@jupyter-widgets/base",
      "model_module_version": "1.2.0",
      "model_name": "LayoutModel",
      "state": {
       "align_items": "stretch",
       "display": "flex",
       "flex_flow": "row",
       "grid_auto_columns": "True",
       "justify_content": "flex-start",
       "width": "80%"
      }
     },
     "6973c23b67554da2bd322cb882beb18b": {
      "model_module": "@jupyter-widgets/controls",
      "model_module_version": "1.5.0",
      "model_name": "DescriptionStyleModel",
      "state": {
       "description_width": ""
      }
     },
     "6a0f178c997b4e90b7413632baf4a451": {
      "model_module": "@jupyter-widgets/base",
      "model_module_version": "1.2.0",
      "model_name": "LayoutModel",
      "state": {
       "align_items": "stretch",
       "display": "flex",
       "flex_flow": "row",
       "grid_auto_columns": "True",
       "justify_content": "flex-start",
       "width": "80%"
      }
     },
     "6a24de04706a47dc861541d772906b1f": {
      "model_module": "@jupyter-widgets/controls",
      "model_module_version": "1.5.0",
      "model_name": "HTMLModel",
      "state": {
       "layout": "IPY_MODEL_a8e46be000be4b8eb90beb02d933e38d",
       "style": "IPY_MODEL_56c6dad921f8459792f380d455cde9a2",
       "value": "<p>Refs &amp; Linked Files</p>"
      }
     },
     "6a93217ccb344dbcad3ce0028294c9db": {
      "model_module": "@jupyter-widgets/base",
      "model_module_version": "1.2.0",
      "model_name": "LayoutModel",
      "state": {}
     },
     "6a9b3a68b48946db9e2e012d2e914c6d": {
      "model_module": "@jupyter-widgets/base",
      "model_module_version": "1.2.0",
      "model_name": "LayoutModel",
      "state": {
       "align_items": "stretch",
       "display": "flex",
       "flex_flow": "row",
       "grid_auto_columns": "True",
       "justify_content": "flex-end",
       "width": "90%"
      }
     },
     "6ad588a3ec904af5bf8e927114fe02ed": {
      "model_module": "@jupyter-widgets/base",
      "model_module_version": "1.2.0",
      "model_name": "LayoutModel",
      "state": {
       "align_items": "stretch",
       "border": "dashed 0.2px green",
       "display": "flex",
       "flex_flow": "row",
       "grid_auto_columns": "True",
       "justify_content": "flex-start",
       "width": "100%"
      }
     },
     "6af24aad67c246b5ad3e91047249e2a5": {
      "model_module": "@jupyter-widgets/controls",
      "model_module_version": "1.5.0",
      "model_name": "HTMLModel",
      "state": {
       "layout": "IPY_MODEL_a39700d9a3bb41cd80120b51a28fa2d2",
       "style": "IPY_MODEL_d5e52e3f6c6343168d556af004afebb1",
       "value": "<p>spc_name_index</p>"
      }
     },
     "6b0864840919466da639e36fb07e8b19": {
      "model_module": "@jupyter-widgets/controls",
      "model_module_version": "1.5.0",
      "model_name": "HBoxModel",
      "state": {
       "children": [
        "IPY_MODEL_9063902e9ed14c529dc92795269bcc2d"
       ],
       "layout": "IPY_MODEL_a7e5bc5be78749e58cca7b531ea3fcfe"
      }
     },
     "6b0a155975fc441ea5e0565d76bf6553": {
      "model_module": "@jupyter-widgets/controls",
      "model_module_version": "1.5.0",
      "model_name": "HBoxModel",
      "state": {
       "children": [
        "IPY_MODEL_2586dd559a3c45ce96072bac9efd6d7d",
        "IPY_MODEL_3cdfe79c3eff4ff69fcffd43a03dc281"
       ],
       "layout": "IPY_MODEL_ac843f9f2c8d405c88f0bfe07e5ec3bf"
      }
     },
     "6b1254e358c74968b10a393666e2002f": {
      "model_module": "@jupyter-widgets/controls",
      "model_module_version": "1.5.0",
      "model_name": "ButtonModel",
      "state": {
       "button_style": "warning",
       "description": "revert to last save",
       "layout": "IPY_MODEL_c8c0fe04389649a8bed8826b6c30df4d",
       "style": "IPY_MODEL_4b113465d7184371bde2aa0630320649"
      }
     },
     "6b21bcca5a6c4949932cfd94f052337e": {
      "model_module": "@jupyter-widgets/base",
      "model_module_version": "1.2.0",
      "model_name": "LayoutModel",
      "state": {}
     },
     "6b281273a4064c1286f1662609028e3b": {
      "model_module": "@jupyter-widgets/controls",
      "model_module_version": "1.5.0",
      "model_name": "DescriptionStyleModel",
      "state": {
       "description_width": ""
      }
     },
     "6b314a2e3c0947b0b78dc65c359f69fe": {
      "model_module": "@jupyter-widgets/controls",
      "model_module_version": "1.5.0",
      "model_name": "HTMLModel",
      "state": {
       "layout": "IPY_MODEL_6d4c905493e04a149eb83900ea855c2f",
       "style": "IPY_MODEL_d64525f5c165421f88cc13e52fe49fe8",
       "value": "<p>spc_name_index</p>"
      }
     },
     "6b4b900a8e314b5d8d7eee73113c5f66": {
      "model_module": "@jupyter-widgets/base",
      "model_module_version": "1.2.0",
      "model_name": "LayoutModel",
      "state": {}
     },
     "6b88c1762f194f6888721f71a949a706": {
      "model_module": "@jupyter-widgets/controls",
      "model_module_version": "1.5.0",
      "model_name": "HTMLModel",
      "state": {
       "layout": "IPY_MODEL_77a52cdd050744b4ba7a1b204ff0c5d5",
       "style": "IPY_MODEL_b4e3186ba1604b66a78d43aed8803375",
       "value": "<p>its a foo cake</p>"
      }
     },
     "6bf19d561a87419397dee5a32b15ac86": {
      "model_module": "@jupyter-widgets/output",
      "model_module_version": "1.0.0",
      "model_name": "OutputModel",
      "state": {
       "layout": "IPY_MODEL_38e43e1a8d0c4399a26286baf3e3a7f2"
      }
     },
     "6c05d072896645fc9847a7fb638b074a": {
      "model_module": "@jupyter-widgets/base",
      "model_module_version": "1.2.0",
      "model_name": "LayoutModel",
      "state": {
       "align_items": "stretch",
       "display": "flex",
       "flex_flow": "row",
       "grid_auto_columns": "True",
       "justify_content": "flex-end",
       "width": "90%"
      }
     },
     "6c2c698bf81b49469b0898c1fc2af259": {
      "model_module": "@jupyter-widgets/controls",
      "model_module_version": "1.5.0",
      "model_name": "DescriptionStyleModel",
      "state": {
       "description_width": ""
      }
     },
     "6c825240d90249dcaed0745b6b104e50": {
      "model_module": "@jupyter-widgets/base",
      "model_module_version": "1.2.0",
      "model_name": "LayoutModel",
      "state": {}
     },
     "6c82ed46b69f4f99973b730254a2e5f2": {
      "model_module": "@jupyter-widgets/controls",
      "model_module_version": "1.5.0",
      "model_name": "DescriptionStyleModel",
      "state": {
       "description_width": ""
      }
     },
     "6c8d1312e92b4646981ee0b60a7c2a7e": {
      "model_module": "@jupyter-widgets/controls",
      "model_module_version": "1.5.0",
      "model_name": "HBoxModel",
      "state": {
       "children": [
        "IPY_MODEL_df2a1311667d4acab6ef3419eb9721be",
        "IPY_MODEL_8a165a277f8842c39da6b607e7a2905a"
       ],
       "layout": "IPY_MODEL_05780eb420c745a5a89b057e80374f0d"
      }
     },
     "6c9f134aee8f4b4387f8e037a144e0fc": {
      "model_module": "@jupyter-widgets/base",
      "model_module_version": "1.2.0",
      "model_name": "LayoutModel",
      "state": {
       "align_items": "stretch",
       "display": "flex",
       "flex_flow": "row",
       "grid_auto_columns": "True",
       "justify_content": "flex-start",
       "width": "80%"
      }
     },
     "6cb20168ecbd47e78ca5ca79fdd2a377": {
      "model_module": "@jupyter-widgets/output",
      "model_module_version": "1.0.0",
      "model_name": "OutputModel",
      "state": {
       "layout": "IPY_MODEL_af6357c43ae24ab4b26b15dc1eff2d32"
      }
     },
     "6cb61e76f7e34d92bebcf7a5730153ea": {
      "model_module": "@jupyter-widgets/controls",
      "model_module_version": "1.5.0",
      "model_name": "ButtonModel",
      "state": {
       "description": "save",
       "layout": "IPY_MODEL_052ee911514541f4bfbf14b6651e337e",
       "style": "IPY_MODEL_c680738d1552493ab533eea9d5f279fb"
      }
     },
     "6cf2cd28633a42d199c2bf1dbf56a0fe": {
      "model_module": "@jupyter-widgets/base",
      "model_module_version": "1.2.0",
      "model_name": "LayoutModel",
      "state": {}
     },
     "6cf939269b4241be8c74edf6e9deefe3": {
      "model_module": "@jupyter-widgets/base",
      "model_module_version": "1.2.0",
      "model_name": "LayoutModel",
      "state": {}
     },
     "6d0ce932e2994bcba66e30b7123579ad": {
      "model_module": "@jupyter-widgets/controls",
      "model_module_version": "1.5.0",
      "model_name": "HTMLModel",
      "state": {
       "layout": "IPY_MODEL_b2b183784c394990be7715f7764cb75a",
       "style": "IPY_MODEL_4ff1d19bcb3e4157ba21ff44f5eae665",
       "value": "<p>edit user input form below</p>"
      }
     },
     "6d1e87e2277e458985cd2bf4027686c9": {
      "model_module": "@jupyter-widgets/controls",
      "model_module_version": "1.5.0",
      "model_name": "HTMLModel",
      "state": {
       "layout": "IPY_MODEL_af27c8203bb74ebea109b3ff3e24fbca",
       "style": "IPY_MODEL_a855e07cfe2344e48079c6e1d4e465ae",
       "value": "<p>reous foo ous foo st</p>"
      }
     },
     "6d25663c25cb41218e56dd55d0e9bd4a": {
      "model_module": "@jupyter-widgets/base",
      "model_module_version": "1.2.0",
      "model_name": "LayoutModel",
      "state": {}
     },
     "6d4c905493e04a149eb83900ea855c2f": {
      "model_module": "@jupyter-widgets/base",
      "model_module_version": "1.2.0",
      "model_name": "LayoutModel",
      "state": {}
     },
     "6de55ea708df40c8a47ef9a989e8aeb5": {
      "model_module": "@jupyter-widgets/controls",
      "model_module_version": "1.5.0",
      "model_name": "HBoxModel",
      "state": {
       "children": [
        "IPY_MODEL_f15e104c0f624445aa6a17d3717fbd0d",
        "IPY_MODEL_1c48af5b34c246e789820e885ec0d891"
       ],
       "layout": "IPY_MODEL_fd89607c49a94db5ae0b42c16be5b116"
      }
     },
     "6ebe63ca97474ce0b7cec84efafd4e07": {
      "model_module": "@jupyter-widgets/controls",
      "model_module_version": "1.5.0",
      "model_name": "HBoxModel",
      "state": {
       "children": [
        "IPY_MODEL_98aeb2363ba24c32a802152e0f8245c2"
       ],
       "layout": "IPY_MODEL_684b2a66830a4ef59c07b0abe156c8fc"
      }
     },
     "6ef36e4e4b8440618a8695ada72791f2": {
      "model_module": "@jupyter-widgets/base",
      "model_module_version": "1.2.0",
      "model_name": "LayoutModel",
      "state": {}
     },
     "6efae2f3f63c40058005c87d72381fd9": {
      "model_module": "@jupyter-widgets/base",
      "model_module_version": "1.2.0",
      "model_name": "LayoutModel",
      "state": {
       "align_items": "stretch",
       "border": "dashed 0.2px green",
       "display": "flex",
       "flex_flow": "row",
       "grid_auto_columns": "True",
       "justify_content": "flex-start",
       "width": "100%"
      }
     },
     "6f12b22cf77d41ef86af2af1c9499a7b": {
      "model_module": "@jupyter-widgets/base",
      "model_module_version": "1.2.0",
      "model_name": "LayoutModel",
      "state": {}
     },
     "6f25c1d9f6f4431a9cbac299e6fdb990": {
      "model_module": "@jupyter-widgets/controls",
      "model_module_version": "1.5.0",
      "model_name": "DescriptionStyleModel",
      "state": {
       "description_width": ""
      }
     },
     "6f7cd69762324557b5b8fddab4510a3b": {
      "model_module": "@jupyter-widgets/controls",
      "model_module_version": "1.5.0",
      "model_name": "HTMLModel",
      "state": {
       "layout": "IPY_MODEL_fdb89818e9c746d3abef4e0f8b6ac07c",
       "style": "IPY_MODEL_8d51764867d24920961ea7f36923cad0",
       "value": "<p>allows users to group spaces to different systems</p>"
      }
     },
     "6fb4fdf1cecc4a0ab5e5eadd41134869": {
      "model_module": "@jupyter-widgets/controls",
      "model_module_version": "1.5.0",
      "model_name": "DescriptionStyleModel",
      "state": {
       "description_width": ""
      }
     },
     "6fc90e7de3674cf7ac1291c573905f18": {
      "model_module": "@jupyter-widgets/controls",
      "model_module_version": "1.5.0",
      "model_name": "VBoxModel",
      "state": {
       "children": [
        "IPY_MODEL_8df8f15aead84070896fdf72321323a8"
       ],
       "layout": "IPY_MODEL_e0153824493c4721b31c00b3e663d272"
      }
     },
     "7014fb90839941fc84ee6676592cfdcf": {
      "model_module": "@jupyter-widgets/controls",
      "model_module_version": "1.5.0",
      "model_name": "ButtonStyleModel",
      "state": {
       "font_weight": "bold"
      }
     },
     "705b2dd6a45e492d977302dd11b56fa4": {
      "model_module": "@jupyter-widgets/controls",
      "model_module_version": "1.5.0",
      "model_name": "HTMLModel",
      "state": {
       "layout": "IPY_MODEL_35812f97cfbb429a9036c79980b095d0",
       "style": "IPY_MODEL_e64b1d9ef7d84ef1a03be62117ad8d45",
       "value": "<p>Model Desc</p>"
      }
     },
     "709c5f22e52a41eb97cfbf34b807393d": {
      "model_module": "@jupyter-widgets/base",
      "model_module_version": "1.2.0",
      "model_name": "LayoutModel",
      "state": {}
     },
     "70df96f5e37642efb3885555e435dfbc": {
      "model_module": "@jupyter-widgets/controls",
      "model_module_version": "1.5.0",
      "model_name": "DescriptionStyleModel",
      "state": {
       "description_width": ""
      }
     },
     "70f7d97e25b3464a8545e9d1f82c4d40": {
      "model_module": "@jupyter-widgets/base",
      "model_module_version": "1.2.0",
      "model_name": "LayoutModel",
      "state": {}
     },
     "7151e00226e04e748e1b838e633b2c09": {
      "model_module": "@jupyter-widgets/controls",
      "model_module_version": "1.5.0",
      "model_name": "HBoxModel",
      "state": {
       "children": [
        "IPY_MODEL_990de143bd9243ad942024b57de29850",
        "IPY_MODEL_fb071ceed5f2444fb1a662aa07447723"
       ],
       "layout": "IPY_MODEL_a06f8fe94da641a98d3a72453914f665"
      }
     },
     "7158ed95d2c64de780a83acdd1768e00": {
      "model_module": "@jupyter-widgets/base",
      "model_module_version": "1.2.0",
      "model_name": "LayoutModel",
      "state": {}
     },
     "715cbaa288904c2785a1f266751369d0": {
      "model_module": "@jupyter-widgets/controls",
      "model_module_version": "1.5.0",
      "model_name": "HBoxModel",
      "state": {
       "children": [
        "IPY_MODEL_5b4c0410f0ee42c0b11daa179ce44632"
       ],
       "layout": "IPY_MODEL_86175f33874749cf919f261dfa30eee6"
      }
     },
     "716f3dc0f5c045e396b27786bf00938a": {
      "model_module": "@jupyter-widgets/base",
      "model_module_version": "1.2.0",
      "model_name": "LayoutModel",
      "state": {
       "border": "solid 1px #BBBBBB",
       "padding": "0px 10px 0px 10px"
      }
     },
     "716f8278448e4ce381d12bb1d3cd776c": {
      "model_module": "@jupyter-widgets/controls",
      "model_module_version": "1.5.0",
      "model_name": "DescriptionStyleModel",
      "state": {
       "description_width": ""
      }
     },
     "71ee9c9f6e2a4ceeb3f077c567a84b2d": {
      "model_module": "@jupyter-widgets/controls",
      "model_module_version": "1.5.0",
      "model_name": "DescriptionStyleModel",
      "state": {
       "description_width": ""
      }
     },
     "727940f9919e4adba0d36625eb783dc4": {
      "model_module": "@jupyter-widgets/controls",
      "model_module_version": "1.5.0",
      "model_name": "TextModel",
      "state": {
       "layout": "IPY_MODEL_17c425757456454394eb8d21d2a0d6c0",
       "style": "IPY_MODEL_2f751927bc8e4570bcc7b79b6d015999",
       "value": "2"
      }
     },
     "7289722867a14cef98b5398e807886c9": {
      "model_module": "@jupyter-widgets/base",
      "model_module_version": "1.2.0",
      "model_name": "LayoutModel",
      "state": {}
     },
     "72959db00c7e428185fc150b850d61b9": {
      "model_module": "@jupyter-widgets/controls",
      "model_module_version": "1.5.0",
      "model_name": "DescriptionStyleModel",
      "state": {
       "description_width": ""
      }
     },
     "72a0d29148094107be7d1f19b31d0bc5": {
      "model_module": "@jupyter-widgets/controls",
      "model_module_version": "1.5.0",
      "model_name": "HBoxModel",
      "state": {
       "children": [
        "IPY_MODEL_e9556de6e3a24d40be5dc45878b79340"
       ],
       "layout": "IPY_MODEL_17a3b18648d04d7382ce170982de25e9"
      }
     },
     "72e812e4673c42f8ae6f784596c8e8e4": {
      "model_module": "@jupyter-widgets/controls",
      "model_module_version": "1.5.0",
      "model_name": "HTMLModel",
      "state": {
       "layout": "IPY_MODEL_4558b8564e774f9d9dbd3989b11a5b25",
       "style": "IPY_MODEL_87f358b64a3242749a82280474a401ec",
       "value": "<p>its a foo cake</p>"
      }
     },
     "72f7b2b58161412187a6e9d914893eb5": {
      "model_module": "@jupyter-widgets/controls",
      "model_module_version": "1.5.0",
      "model_name": "HBoxModel",
      "state": {
       "children": [
        "IPY_MODEL_c61a2d72ba9a446aaa6daf75831a07fd",
        "IPY_MODEL_be55a864420f4e3db393dd50e35e1ea5"
       ],
       "layout": "IPY_MODEL_d20bf5a710c442fdb4bd80c3a3351345"
      }
     },
     "73167530430b48f8bb796c66ed673692": {
      "model_module": "@jupyter-widgets/base",
      "model_module_version": "1.2.0",
      "model_name": "LayoutModel",
      "state": {}
     },
     "731a584dff764dbca64c5dd734bbd800": {
      "model_module": "@jupyter-widgets/controls",
      "model_module_version": "1.5.0",
      "model_name": "HBoxModel",
      "state": {
       "children": [
        "IPY_MODEL_1a4ffe566e334a28868b6f1b29f0dc2a",
        "IPY_MODEL_3d62f8d096684693bbd37129a89a2e73"
       ],
       "layout": "IPY_MODEL_b972214e813e48c39ddf9f15de8f8991"
      }
     },
     "735fc9477b4c41a6a54630024caf5dc7": {
      "model_module": "@jupyter-widgets/controls",
      "model_module_version": "1.5.0",
      "model_name": "HBoxModel",
      "state": {
       "children": [
        "IPY_MODEL_82c325d9d8f248e089f7564753ec3cea"
       ],
       "layout": "IPY_MODEL_691f4d672d1f432fbba0a1c0cc94ba39"
      }
     },
     "73cbe2e0af6e45b1a20b46ce11dcb7f4": {
      "model_module": "@jupyter-widgets/controls",
      "model_module_version": "1.5.0",
      "model_name": "HTMLModel",
      "state": {
       "layout": "IPY_MODEL_c4460720f2cb448fb7151a7e22d3ad97",
       "style": "IPY_MODEL_6b281273a4064c1286f1662609028e3b",
       "value": "<p>Context</p>"
      }
     },
     "73ecf0f707834bc49b684dc51194afdd": {
      "model_module": "@jupyter-widgets/controls",
      "model_module_version": "1.5.0",
      "model_name": "DescriptionStyleModel",
      "state": {
       "description_width": ""
      }
     },
     "73ef59307d6c47368d8d145a228595a1": {
      "model_module": "@jupyter-widgets/base",
      "model_module_version": "1.2.0",
      "model_name": "LayoutModel",
      "state": {}
     },
     "740735db60c24b129dec29faaef40f5b": {
      "model_module": "@jupyter-widgets/base",
      "model_module_version": "1.2.0",
      "model_name": "LayoutModel",
      "state": {
       "align_items": "stretch",
       "border": "dashed 0.2px green",
       "display": "flex",
       "flex_flow": "row",
       "grid_auto_columns": "True",
       "justify_content": "flex-start",
       "width": "100%"
      }
     },
     "7414e858ff2644508e98c5cf6f6023b2": {
      "model_module": "@jupyter-widgets/controls",
      "model_module_version": "1.5.0",
      "model_name": "DescriptionStyleModel",
      "state": {
       "description_width": ""
      }
     },
     "7447325beaa24ebf84fcaec687238d79": {
      "model_module": "@jupyter-widgets/controls",
      "model_module_version": "1.5.0",
      "model_name": "HBoxModel",
      "state": {
       "children": [
        "IPY_MODEL_8335ddc30f214d9a9ac3cda38b0d5947"
       ],
       "layout": "IPY_MODEL_0c2b500f672e497b9e26bb413722a4c6"
      }
     },
     "7481ccb9786546818cc8ba075a161e0a": {
      "model_module": "@jupyter-widgets/output",
      "model_module_version": "1.0.0",
      "model_name": "OutputModel",
      "state": {
       "layout": "IPY_MODEL_18f017500ba44876a708373e2eb7084e"
      }
     },
     "74baf31c721f45e2afe5b46dc7663dcb": {
      "model_module": "@jupyter-widgets/output",
      "model_module_version": "1.0.0",
      "model_name": "OutputModel",
      "state": {
       "layout": "IPY_MODEL_cbaa2e280e2145b7a3103f116a0a810d"
      }
     },
     "74cbaa3b4e164b12ae54b30d5f171820": {
      "model_module": "@jupyter-widgets/controls",
      "model_module_version": "1.5.0",
      "model_name": "ToggleButtonModel",
      "state": {
       "icon": "arrow-down",
       "layout": "IPY_MODEL_2626911442544565bbb0604e03895393",
       "style": "IPY_MODEL_0a46834d193444b792f88813696c3ab4"
      }
     },
     "750ac0d125a242ff96f1b38017b393a8": {
      "model_module": "@jupyter-widgets/base",
      "model_module_version": "1.2.0",
      "model_name": "LayoutModel",
      "state": {}
     },
     "7542c99e90984e2492549a05acfe6962": {
      "model_module": "@jupyter-widgets/controls",
      "model_module_version": "1.5.0",
      "model_name": "HBoxModel",
      "state": {
       "children": [
        "IPY_MODEL_f96b5669503a4229a59428906faced65",
        "IPY_MODEL_819849b4efde403d9286b43cf52abcfa"
       ],
       "layout": "IPY_MODEL_397a2c7c9a7147c8bcef7cd5c692b4e8"
      }
     },
     "757fb920b9f74a61941e000b0f226f1e": {
      "model_module": "@jupyter-widgets/controls",
      "model_module_version": "1.5.0",
      "model_name": "VBoxModel",
      "state": {
       "children": [
        "IPY_MODEL_161d33fba9764c58999b9210801b9b5d",
        "IPY_MODEL_cba6a9938fc749d7b5cff1814598344c",
        "IPY_MODEL_689bf5eb6255402fa7ebc2dba9349f7f"
       ],
       "layout": "IPY_MODEL_7158ed95d2c64de780a83acdd1768e00"
      }
     },
     "75814cae7ab6428dbd3d5983a3a375ad": {
      "model_module": "@jupyter-widgets/base",
      "model_module_version": "1.2.0",
      "model_name": "LayoutModel",
      "state": {}
     },
     "75875613fed046a68c75c545cfb13658": {
      "model_module": "@jupyter-widgets/controls",
      "model_module_version": "1.5.0",
      "model_name": "DescriptionStyleModel",
      "state": {
       "description_width": ""
      }
     },
     "75b02c27e6cb4de081fa1329f0fa4402": {
      "model_module": "@jupyter-widgets/controls",
      "model_module_version": "1.5.0",
      "model_name": "DatePickerModel",
      "state": {
       "disabled": false,
       "layout": "IPY_MODEL_15da0c84f1de4ef68c1c787410f6b92c",
       "style": "IPY_MODEL_23e9e81497124f269f217a9586737501",
       "value": {
        "date": 2,
        "month": 1,
        "year": 2020
       }
      }
     },
     "75c4d58cc5b64288802090b4039e7f12": {
      "model_module": "@jupyter-widgets/controls",
      "model_module_version": "1.5.0",
      "model_name": "HBoxModel",
      "state": {
       "children": [
        "IPY_MODEL_b558d7574f884ea59a4edbf1ab73f830"
       ],
       "layout": "IPY_MODEL_f12c87d525814f008432cf2975793b36"
      }
     },
     "75c7e6df472a4ca296775dc2b5cd5e14": {
      "model_module": "@jupyter-widgets/controls",
      "model_module_version": "1.5.0",
      "model_name": "HBoxModel",
      "state": {
       "children": [
        "IPY_MODEL_1cbc94d826d040569c60582020aee61f"
       ],
       "layout": "IPY_MODEL_653fc9458e54433e9a877b79640d1301"
      }
     },
     "763049bf73934c6b9f031f14eb47d7d5": {
      "model_module": "@jupyter-widgets/base",
      "model_module_version": "1.2.0",
      "model_name": "LayoutModel",
      "state": {}
     },
     "76bc2b0f9d514fd492a9b5c8e77dfbc1": {
      "model_module": "@jupyter-widgets/controls",
      "model_module_version": "1.5.0",
      "model_name": "TextModel",
      "state": {
       "layout": "IPY_MODEL_44d3a00a83134d568e4100b4086d94e4",
       "placeholder": "output filename",
       "style": "IPY_MODEL_3058d61badd64b5fa4066b09dc3acb61"
      }
     },
     "76f4143804204d69860272c41d9b8185": {
      "model_module": "@jupyter-widgets/controls",
      "model_module_version": "1.5.0",
      "model_name": "HTMLModel",
      "state": {
       "layout": "IPY_MODEL_7bde6f447e2a4b45a5e80a4f2660caf2",
       "style": "IPY_MODEL_c39581a1ddb14ebdb428f2e5cc0a75e5",
       "value": "<p>its a delicious foo cake</p>"
      }
     },
     "770329cc53f8487aa1a793da453d7669": {
      "model_module": "@jupyter-widgets/base",
      "model_module_version": "1.2.0",
      "model_name": "LayoutModel",
      "state": {
       "align_items": "stretch",
       "display": "flex",
       "flex_flow": "row",
       "grid_auto_columns": "True",
       "justify_content": "flex-start",
       "width": "80%"
      }
     },
     "772df2af798849bdb3e91435375e1e90": {
      "model_module": "@jupyter-widgets/controls",
      "model_module_version": "1.5.0",
      "model_name": "HBoxModel",
      "state": {
       "children": [
        "IPY_MODEL_c09686e3550b4885829137704017360e",
        "IPY_MODEL_dff7f7797ee6434c9a889c7664d0f990"
       ],
       "layout": "IPY_MODEL_02462b049d134806bbe94bc077500279"
      }
     },
     "774d6f41014b45f785a3b0a501950038": {
      "model_module": "@jupyter-widgets/controls",
      "model_module_version": "1.5.0",
      "model_name": "DescriptionStyleModel",
      "state": {
       "description_width": ""
      }
     },
     "77a04aba059d4b61b6deca2406905297": {
      "model_module": "@jupyter-widgets/base",
      "model_module_version": "1.2.0",
      "model_name": "LayoutModel",
      "state": {}
     },
     "77a52cdd050744b4ba7a1b204ff0c5d5": {
      "model_module": "@jupyter-widgets/base",
      "model_module_version": "1.2.0",
      "model_name": "LayoutModel",
      "state": {}
     },
     "77df521812df47d69754b811eebf4674": {
      "model_module": "@jupyter-widgets/controls",
      "model_module_version": "1.5.0",
      "model_name": "DescriptionStyleModel",
      "state": {
       "description_width": ""
      }
     },
     "780b329168b543b4a686ae77e0ba3253": {
      "model_module": "@jupyter-widgets/base",
      "model_module_version": "1.2.0",
      "model_name": "LayoutModel",
      "state": {
       "align_items": "stretch",
       "display": "flex",
       "flex_flow": "row",
       "grid_auto_columns": "True",
       "justify_content": "flex-end",
       "width": "90%"
      }
     },
     "781367ec7f6b40afa1e44a65f31a5c4d": {
      "model_module": "@jupyter-widgets/controls",
      "model_module_version": "1.5.0",
      "model_name": "DescriptionStyleModel",
      "state": {
       "description_width": ""
      }
     },
     "789e8282807b42c8ba77bc44cdd8bc9c": {
      "model_module": "@jupyter-widgets/base",
      "model_module_version": "1.2.0",
      "model_name": "LayoutModel",
      "state": {}
     },
     "78a6e7799bec4e98937e3a71286c5e78": {
      "model_module": "@jupyter-widgets/controls",
      "model_module_version": "1.5.0",
      "model_name": "DescriptionStyleModel",
      "state": {
       "description_width": ""
      }
     },
     "78c05e2d52fc4e4596c1874f62347c1e": {
      "model_module": "@jupyter-widgets/controls",
      "model_module_version": "1.5.0",
      "model_name": "HTMLModel",
      "state": {
       "layout": "IPY_MODEL_898ea56c5f584a57b7279e4c09b7adce",
       "style": "IPY_MODEL_a5b23646d1904a5b83deb9e154bfc2fc"
      }
     },
     "78d9ae979bb04f44a7f4315b69aba74a": {
      "model_module": "@jupyter-widgets/base",
      "model_module_version": "1.2.0",
      "model_name": "LayoutModel",
      "state": {}
     },
     "790475d435264560ac0e5b3392bcafc6": {
      "model_module": "@jupyter-widgets/base",
      "model_module_version": "1.2.0",
      "model_name": "LayoutModel",
      "state": {}
     },
     "7919328881484dd49a032c33df6a3d25": {
      "model_module": "@jupyter-widgets/controls",
      "model_module_version": "1.5.0",
      "model_name": "DescriptionStyleModel",
      "state": {
       "description_width": ""
      }
     },
     "7950953926704631ba2aa50c2a96953d": {
      "model_module": "@jupyter-widgets/base",
      "model_module_version": "1.2.0",
      "model_name": "LayoutModel",
      "state": {
       "align_items": "stretch",
       "display": "flex",
       "flex_flow": "row",
       "grid_auto_columns": "True",
       "justify_content": "flex-end",
       "width": "90%"
      }
     },
     "79986bda0430411aa00e220f6ea41a6d": {
      "model_module": "@jupyter-widgets/base",
      "model_module_version": "1.2.0",
      "model_name": "LayoutModel",
      "state": {
       "align_items": "stretch",
       "border": "dashed 0.2px green",
       "display": "flex",
       "flex_flow": "row",
       "grid_auto_columns": "True",
       "justify_content": "flex-start",
       "width": "100%"
      }
     },
     "79d3299708014900932065b944c64f51": {
      "model_module": "@jupyter-widgets/base",
      "model_module_version": "1.2.0",
      "model_name": "LayoutModel",
      "state": {}
     },
     "7a10c8855a154b99af42d8516b1f4944": {
      "model_module": "@jupyter-widgets/output",
      "model_module_version": "1.0.0",
      "model_name": "OutputModel",
      "state": {
       "layout": "IPY_MODEL_c21601383fdf4b46851a0496528ab55c",
       "outputs": [
        {
         "data": {
          "application/vnd.jupyter.widget-view+json": {
           "model_id": "ebb48af2366d408488486871df6e0232",
           "version_major": 2,
           "version_minor": 0
          },
          "text/plain": "Output()"
         },
         "metadata": {},
         "output_type": "display_data"
        }
       ]
      }
     },
     "7a1573563c364ead942b2a8fdc8a0332": {
      "model_module": "@jupyter-widgets/base",
      "model_module_version": "1.2.0",
      "model_name": "LayoutModel",
      "state": {}
     },
     "7a37a30f832f406da0b68169fe0ed843": {
      "model_module": "@jupyter-widgets/base",
      "model_module_version": "1.2.0",
      "model_name": "LayoutModel",
      "state": {
       "align_items": "stretch",
       "display": "flex",
       "flex_flow": "row",
       "grid_auto_columns": "True",
       "justify_content": "flex-start",
       "width": "80%"
      }
     },
     "7a80d95ef8a643bfa6a06d1ed41402ef": {
      "model_module": "@jupyter-widgets/base",
      "model_module_version": "1.2.0",
      "model_name": "LayoutModel",
      "state": {
       "align_items": "stretch",
       "display": "flex",
       "flex_flow": "row",
       "grid_auto_columns": "True",
       "justify_content": "flex-start",
       "width": "80%"
      }
     },
     "7a89f76bcc624092a46e302b4ea76bf8": {
      "model_module": "@jupyter-widgets/base",
      "model_module_version": "1.2.0",
      "model_name": "LayoutModel",
      "state": {}
     },
     "7afa5ba03a684e908a20f10886b175bc": {
      "model_module": "@jupyter-widgets/controls",
      "model_module_version": "1.5.0",
      "model_name": "VBoxModel",
      "state": {
       "children": [
        "IPY_MODEL_fa62d6b64d3f4bbead3300f627aebb0b",
        "IPY_MODEL_3278f94c8d7b4574a3076c16033dc968",
        "IPY_MODEL_9e24ea88ed204a018f446a0850f943b1"
       ],
       "layout": "IPY_MODEL_b06ff928d9444e398875ddce7f29435c"
      }
     },
     "7b04fb919ec84f8a8179cfec5d7de3ab": {
      "model_module": "@jupyter-widgets/base",
      "model_module_version": "1.2.0",
      "model_name": "LayoutModel",
      "state": {
       "align_items": "stretch",
       "display": "flex",
       "flex_flow": "row",
       "grid_auto_columns": "True",
       "justify_content": "flex-end",
       "width": "90%"
      }
     },
     "7b1d56baef0d44d7ac4e02fb61dc0bb0": {
      "model_module": "@jupyter-widgets/controls",
      "model_module_version": "1.5.0",
      "model_name": "TextareaModel",
      "state": {
       "layout": "IPY_MODEL_1753d2a25d604c3995e16facc01ae764",
       "style": "IPY_MODEL_ef73e4a18ada4aa1806c0cf8749190a3",
       "value": "asdfasdf"
      }
     },
     "7b34fe58ccd94d18b8b050f94814521b": {
      "model_module": "@jupyter-widgets/controls",
      "model_module_version": "1.5.0",
      "model_name": "DescriptionStyleModel",
      "state": {
       "description_width": ""
      }
     },
     "7b45e90a5602443fb2cafb673d84258e": {
      "model_module": "@jupyter-widgets/controls",
      "model_module_version": "1.5.0",
      "model_name": "ToggleButtonModel",
      "state": {
       "button_style": "info",
       "description": "select file",
       "layout": "IPY_MODEL_fdd0f92657f44b35abc7846590a438f0",
       "style": "IPY_MODEL_70df96f5e37642efb3885555e435dfbc"
      }
     },
     "7b4e7431bced460a9c90c7a3d9d448da": {
      "model_module": "@jupyter-widgets/output",
      "model_module_version": "1.0.0",
      "model_name": "OutputModel",
      "state": {
       "layout": "IPY_MODEL_9e76b6966fa24681b72c6cfc01bfa594"
      }
     },
     "7b66bacde25a4188ab76e4e6a288c750": {
      "model_module": "@jupyter-widgets/controls",
      "model_module_version": "1.5.0",
      "model_name": "DescriptionStyleModel",
      "state": {
       "description_width": ""
      }
     },
     "7b7ec715415242d4b27c719a5e7135f1": {
      "model_module": "@jupyter-widgets/controls",
      "model_module_version": "1.5.0",
      "model_name": "DescriptionStyleModel",
      "state": {
       "description_width": ""
      }
     },
     "7b914fef9fda41b58688ca0b93226094": {
      "model_module": "@jupyter-widgets/base",
      "model_module_version": "1.2.0",
      "model_name": "LayoutModel",
      "state": {}
     },
     "7ba38b27045949a69ff87016e5aadcf0": {
      "model_module": "@jupyter-widgets/controls",
      "model_module_version": "1.5.0",
      "model_name": "HTMLModel",
      "state": {
       "layout": "IPY_MODEL_716f3dc0f5c045e396b27786bf00938a",
       "style": "IPY_MODEL_b5ff31a6b928481e89e7018fccb3366b",
       "value": "000_YY-OverheatingAnalysis"
      }
     },
     "7bc11d577ae448528ba1704f4fb1c7a1": {
      "model_module": "@jupyter-widgets/controls",
      "model_module_version": "1.5.0",
      "model_name": "DescriptionStyleModel",
      "state": {
       "description_width": ""
      }
     },
     "7bc77c22b6bd49338b13a454fdfc5bb6": {
      "model_module": "@jupyter-widgets/base",
      "model_module_version": "1.2.0",
      "model_name": "LayoutModel",
      "state": {}
     },
     "7bcc631fc1df48b4a9b6b378a1775b96": {
      "model_module": "@jupyter-widgets/base",
      "model_module_version": "1.2.0",
      "model_name": "LayoutModel",
      "state": {}
     },
     "7bde6f447e2a4b45a5e80a4f2660caf2": {
      "model_module": "@jupyter-widgets/base",
      "model_module_version": "1.2.0",
      "model_name": "LayoutModel",
      "state": {}
     },
     "7c28dd86f22349f7b7f8aefea7c19520": {
      "model_module": "@jupyter-widgets/controls",
      "model_module_version": "1.5.0",
      "model_name": "HTMLModel",
      "state": {
       "layout": "IPY_MODEL_87e2fa3fd0fe461da0d2782e414c7c7a",
       "style": "IPY_MODEL_67316347f22b4f7cb4531db90f055bf0",
       "value": "<p>foo</p>"
      }
     },
     "7c6db906458f4a1cb31f95d5d4153cc8": {
      "model_module": "@jupyter-widgets/controls",
      "model_module_version": "1.5.0",
      "model_name": "DescriptionStyleModel",
      "state": {
       "description_width": ""
      }
     },
     "7cf85868b890437292aab8b30ec816f1": {
      "model_module": "@jupyter-widgets/controls",
      "model_module_version": "1.5.0",
      "model_name": "HTMLModel",
      "state": {
       "layout": "IPY_MODEL_46358eecd79d43b08e60543efbf1a5aa",
       "style": "IPY_MODEL_3be92a32b98345019f0e1c55ff93f59d",
       "value": "<p>name</p>"
      }
     },
     "7d2221e21a6b4ecca06965e9a0e44bf9": {
      "model_module": "@jupyter-widgets/base",
      "model_module_version": "1.2.0",
      "model_name": "LayoutModel",
      "state": {
       "align_items": "stretch",
       "border": "dashed 0.2px green",
       "display": "flex",
       "flex_flow": "row",
       "grid_auto_columns": "True",
       "justify_content": "flex-start",
       "width": "100%"
      }
     },
     "7d26848a125944a7bf47687f8cae830d": {
      "model_module": "@jupyter-widgets/base",
      "model_module_version": "1.2.0",
      "model_name": "LayoutModel",
      "state": {
       "align_items": "stretch",
       "border": "dashed 0.2px green",
       "display": "flex",
       "flex_flow": "row",
       "grid_auto_columns": "True",
       "justify_content": "flex-start",
       "width": "100%"
      }
     },
     "7d52789985c243c58d394c7f277a45ed": {
      "model_module": "@jupyter-widgets/controls",
      "model_module_version": "1.5.0",
      "model_name": "HBoxModel",
      "state": {
       "children": [
        "IPY_MODEL_7ba38b27045949a69ff87016e5aadcf0",
        "IPY_MODEL_1611a404cb1d436381aefd4cefb4aa05"
       ],
       "layout": "IPY_MODEL_6c9f134aee8f4b4387f8e037a144e0fc"
      }
     },
     "7d528a03eb5442c1b847c920087771cf": {
      "model_module": "@jupyter-widgets/base",
      "model_module_version": "1.2.0",
      "model_name": "LayoutModel",
      "state": {
       "width": "auto"
      }
     },
     "7d722dd3694049ab8ece7fe4ef94b009": {
      "model_module": "@jupyter-widgets/base",
      "model_module_version": "1.2.0",
      "model_name": "LayoutModel",
      "state": {}
     },
     "7d782c352f744006bd514a551874985d": {
      "model_module": "@jupyter-widgets/base",
      "model_module_version": "1.2.0",
      "model_name": "LayoutModel",
      "state": {}
     },
     "7d826568fea84a9ca2fe6d8e70c41fdd": {
      "model_module": "@jupyter-widgets/controls",
      "model_module_version": "1.5.0",
      "model_name": "ButtonStyleModel",
      "state": {
       "font_weight": "bold"
      }
     },
     "7da813d6171b4a3c8d2afacedfcb0c95": {
      "model_module": "@jupyter-widgets/base",
      "model_module_version": "1.2.0",
      "model_name": "LayoutModel",
      "state": {}
     },
     "7db8069b15474a8dbb13128e7d0d4e2f": {
      "model_module": "@jupyter-widgets/controls",
      "model_module_version": "1.5.0",
      "model_name": "HTMLModel",
      "state": {
       "layout": "IPY_MODEL_b34e48a1d05c45b7b7a8aa4e07e70b3d",
       "style": "IPY_MODEL_7b34fe58ccd94d18b8b050f94814521b"
      }
     },
     "7e325fb5b7d9403d9a4bd540f7b062d2": {
      "model_module": "@jupyter-widgets/controls",
      "model_module_version": "1.5.0",
      "model_name": "HTMLModel",
      "state": {
       "layout": "IPY_MODEL_e70a7d159fde4779a8f4d1a30ba4cf51",
       "style": "IPY_MODEL_36f2a08cc0634b2a92d83b8937e2cf4d",
       "value": "<p>label</p>"
      }
     },
     "7e3d144167d240439f54404cf435b273": {
      "model_module": "@jupyter-widgets/controls",
      "model_module_version": "1.5.0",
      "model_name": "ButtonStyleModel",
      "state": {
       "font_weight": "bold"
      }
     },
     "7e714a3be42b4255a74fc03305f32f77": {
      "model_module": "@jupyter-widgets/base",
      "model_module_version": "1.2.0",
      "model_name": "LayoutModel",
      "state": {}
     },
     "7e73b2f48ddd422187062a672205344e": {
      "model_module": "@jupyter-widgets/controls",
      "model_module_version": "1.5.0",
      "model_name": "HBoxModel",
      "state": {
       "children": [
        "IPY_MODEL_6d1e87e2277e458985cd2bf4027686c9",
        "IPY_MODEL_88a78b86dad74663b0c983405251865c"
       ],
       "layout": "IPY_MODEL_7950953926704631ba2aa50c2a96953d"
      }
     },
     "7e8c07ea1a48491186c928d84b4ed421": {
      "model_module": "@jupyter-widgets/controls",
      "model_module_version": "1.5.0",
      "model_name": "DescriptionStyleModel",
      "state": {
       "description_width": ""
      }
     },
     "7eb9abebb860460ca7f3e607522b02a5": {
      "model_module": "@jupyter-widgets/controls",
      "model_module_version": "1.5.0",
      "model_name": "HBoxModel",
      "state": {
       "children": [
        "IPY_MODEL_dcf75c2511ae4facb09a0568c36207f2",
        "IPY_MODEL_deada88dc7bd49d28d14e7af41f00f2b"
       ],
       "layout": "IPY_MODEL_3567c9e75e70478fa87d83f187b127bd"
      }
     },
     "7f2dfbed8bc249a684981f93e63237c6": {
      "model_module": "@jupyter-widgets/controls",
      "model_module_version": "1.5.0",
      "model_name": "DescriptionStyleModel",
      "state": {
       "description_width": ""
      }
     },
     "7f7464be15c846cdb53423b29c721aa9": {
      "model_module": "@jupyter-widgets/controls",
      "model_module_version": "1.5.0",
      "model_name": "DescriptionStyleModel",
      "state": {
       "description_width": ""
      }
     },
     "7f9ada12e88b43fcb925a0aba21f07ee": {
      "model_module": "@jupyter-widgets/base",
      "model_module_version": "1.2.0",
      "model_name": "LayoutModel",
      "state": {}
     },
     "7fa8f4853eb84f21bcb159a3328b9b75": {
      "model_module": "@jupyter-widgets/base",
      "model_module_version": "1.2.0",
      "model_name": "LayoutModel",
      "state": {
       "align_items": "stretch",
       "display": "flex",
       "flex_flow": "row",
       "grid_auto_columns": "True",
       "justify_content": "flex-end",
       "width": "90%"
      }
     },
     "7fb9d7973fb640f1926821f2cc1619cb": {
      "model_module": "@jupyter-widgets/controls",
      "model_module_version": "1.5.0",
      "model_name": "HTMLModel",
      "state": {
       "layout": "IPY_MODEL_ed29b54bdd874e6087507c5dc1a5604a",
       "style": "IPY_MODEL_a39d3bc7656b482fb3fd404e0a943a39",
       "value": "<p>fpth_in</p>"
      }
     },
     "7fca35b964e2469481d1a584ffba3efa": {
      "model_module": "@jupyter-widgets/base",
      "model_module_version": "1.2.0",
      "model_name": "LayoutModel",
      "state": {}
     },
     "801231115648498190ad04e644d1c407": {
      "model_module": "@jupyter-widgets/controls",
      "model_module_version": "1.5.0",
      "model_name": "ToggleButtonModel",
      "state": {
       "icon": "arrow-down",
       "layout": "IPY_MODEL_522be79b2f78437f8a3d5b583839a9b3",
       "style": "IPY_MODEL_1676c2cabf0649b6a8231ef444bf4045"
      }
     },
     "80618d608c9c48bb951791248c14bd1d": {
      "model_module": "@jupyter-widgets/base",
      "model_module_version": "1.2.0",
      "model_name": "LayoutModel",
      "state": {
       "align_items": "stretch",
       "border": "dashed 0.2px green",
       "display": "flex",
       "flex_flow": "row",
       "grid_auto_columns": "True",
       "justify_content": "flex-start",
       "width": "100%"
      }
     },
     "808b22534bea46a687a0ae95cb6933c6": {
      "model_module": "@jupyter-widgets/base",
      "model_module_version": "1.2.0",
      "model_name": "LayoutModel",
      "state": {
       "align_items": "stretch",
       "display": "flex",
       "flex_flow": "row",
       "grid_auto_columns": "True",
       "justify_content": "flex-end",
       "width": "90%"
      }
     },
     "80ae0d6f90f54319b94dc289f78939c9": {
      "model_module": "@jupyter-widgets/controls",
      "model_module_version": "1.5.0",
      "model_name": "ButtonModel",
      "state": {
       "description": "load",
       "icon": "upload",
       "layout": "IPY_MODEL_937009b70cc349bdb077b903931e2ce4",
       "style": "IPY_MODEL_5b32b8cd0d434e1fa7c304376964c78d"
      }
     },
     "80f0bf7d1903490c801bdd810969f422": {
      "model_module": "@jupyter-widgets/base",
      "model_module_version": "1.2.0",
      "model_name": "LayoutModel",
      "state": {}
     },
     "8114438a753543b1aafdee9abab62f7f": {
      "model_module": "@jupyter-widgets/controls",
      "model_module_version": "1.5.0",
      "model_name": "HBoxModel",
      "state": {
       "children": [
        "IPY_MODEL_ae8572ad88034ad2a652e39658a9c23c",
        "IPY_MODEL_98148a668c474d84be6e1ddda5338147"
       ],
       "layout": "IPY_MODEL_ab15f66038064bd4980fee453db38e42"
      }
     },
     "813260cf21954575b3b049fec076450b": {
      "model_module": "@jupyter-widgets/base",
      "model_module_version": "1.2.0",
      "model_name": "LayoutModel",
      "state": {}
     },
     "81570a2c8b7a4199b70d01da5f11004a": {
      "model_module": "@jupyter-widgets/controls",
      "model_module_version": "1.5.0",
      "model_name": "VBoxModel",
      "state": {
       "children": [
        "IPY_MODEL_ffa7a3487e17458d87bde3388638d6c0",
        "IPY_MODEL_d1e41a4f95d14a87938bd6acabdec3d7"
       ],
       "layout": "IPY_MODEL_231539e4b5a64b01ac8c5a8994b1378a"
      }
     },
     "8186f8d6b34f4c7eb9d456c43ca741d9": {
      "model_module": "@jupyter-widgets/controls",
      "model_module_version": "1.5.0",
      "model_name": "HTMLModel",
      "state": {
       "layout": "IPY_MODEL_2f6f6a08d1d34481afd2066611b73471",
       "style": "IPY_MODEL_bf9a044348d04ae586c5750dbedfe21d",
       "value": "<p>Report Model Run?</p>"
      }
     },
     "819849b4efde403d9286b43cf52abcfa": {
      "model_module": "@jupyter-widgets/controls",
      "model_module_version": "1.5.0",
      "model_name": "HBoxModel",
      "state": {
       "children": [
        "IPY_MODEL_801231115648498190ad04e644d1c407",
        "IPY_MODEL_7db8069b15474a8dbb13128e7d0d4e2f"
       ],
       "layout": "IPY_MODEL_d372ce59721545539a1d171b4286dca4"
      }
     },
     "819a8b7ca6944f72b5e457ab32fb5b61": {
      "model_module": "@jupyter-widgets/controls",
      "model_module_version": "1.5.0",
      "model_name": "HBoxModel",
      "state": {
       "children": [
        "IPY_MODEL_9b057521b957493fb18e0ae4fd16fc2d",
        "IPY_MODEL_258cd26b3f854cfbafd9e91e6a8351a0"
       ],
       "layout": "IPY_MODEL_08c38384c10a48f6b067b07645f8bc79"
      }
     },
     "81b37d028cf64160b567db60eb4045b2": {
      "model_module": "@jupyter-widgets/base",
      "model_module_version": "1.2.0",
      "model_name": "LayoutModel",
      "state": {
       "align_items": "stretch",
       "display": "flex",
       "flex_flow": "row",
       "grid_auto_columns": "True",
       "justify_content": "flex-start",
       "width": "80%"
      }
     },
     "823fb53214474e3c92bbb257b94dd703": {
      "model_module": "@jupyter-widgets/output",
      "model_module_version": "1.0.0",
      "model_name": "OutputModel",
      "state": {
       "layout": "IPY_MODEL_d74b340a0a80424a8e2b0417f4f302da",
       "outputs": [
        {
         "data": {
          "application/vnd.jupyter.widget-view+json": {
           "model_id": "6cb20168ecbd47e78ca5ca79fdd2a377",
           "version_major": 2,
           "version_minor": 0
          },
          "text/plain": "Output()"
         },
         "metadata": {},
         "output_type": "display_data"
        }
       ]
      }
     },
     "8288fc698d0a4337b434b74bed7b3e29": {
      "model_module": "@jupyter-widgets/controls",
      "model_module_version": "1.5.0",
      "model_name": "DescriptionStyleModel",
      "state": {
       "description_width": ""
      }
     },
     "82a14251a45b4fbfb149de10ee98b489": {
      "model_module": "@jupyter-widgets/base",
      "model_module_version": "1.2.0",
      "model_name": "LayoutModel",
      "state": {}
     },
     "82a30b653afe41c3ac4e31973cefac56": {
      "model_module": "@jupyter-widgets/base",
      "model_module_version": "1.2.0",
      "model_name": "LayoutModel",
      "state": {
       "align_items": "stretch",
       "border": "dashed 0.2px green",
       "display": "flex",
       "flex_flow": "row",
       "grid_auto_columns": "True",
       "justify_content": "flex-start",
       "width": "100%"
      }
     },
     "82c325d9d8f248e089f7564753ec3cea": {
      "model_module": "@jupyter-widgets/controls",
      "model_module_version": "1.5.0",
      "model_name": "HBoxModel",
      "state": {
       "children": [
        "IPY_MODEL_1a2d17f450f64668a78d12594b2c52f7",
        "IPY_MODEL_016ef02e0298444fa4bbf0795908e793"
       ],
       "layout": "IPY_MODEL_f128aa631e184d5592ac990c7d60a5a2"
      }
     },
     "82e3164be57b4160a4d645a12be3e96a": {
      "model_module": "@jupyter-widgets/controls",
      "model_module_version": "1.5.0",
      "model_name": "ToggleButtonModel",
      "state": {
       "icon": "arrow-down",
       "layout": "IPY_MODEL_278fb6eb5bc84f45a3f2adf8b909e6b4",
       "style": "IPY_MODEL_9157d9f4f87e4239be732753d0302ccb"
      }
     },
     "8324d6cfff1548279e302df4c9e46718": {
      "model_module": "@jupyter-widgets/base",
      "model_module_version": "1.2.0",
      "model_name": "LayoutModel",
      "state": {
       "align_items": "stretch",
       "border": "dashed 0.2px green",
       "display": "flex",
       "flex_flow": "row",
       "grid_auto_columns": "True",
       "justify_content": "flex-start",
       "width": "100%"
      }
     },
     "8335ddc30f214d9a9ac3cda38b0d5947": {
      "model_module": "@jupyter-widgets/controls",
      "model_module_version": "1.5.0",
      "model_name": "HBoxModel",
      "state": {
       "children": [
        "IPY_MODEL_520be4417f0e4bd2bcfc25a66bcc431a",
        "IPY_MODEL_ea9d8e6997e74016a5f6ed105a753da3"
       ],
       "layout": "IPY_MODEL_60a79dcc7b6b4fdba6e9b64c8e08a19c"
      }
     },
     "83538e4ea6be448397795bd342f5d450": {
      "model_module": "@jupyter-widgets/base",
      "model_module_version": "1.2.0",
      "model_name": "LayoutModel",
      "state": {}
     },
     "8486e69f1a414569b0e9c450cb46897e": {
      "model_module": "@jupyter-widgets/controls",
      "model_module_version": "1.5.0",
      "model_name": "HTMLModel",
      "state": {
       "layout": "IPY_MODEL_1df91945c3754b97a16eb702395f21a1",
       "style": "IPY_MODEL_b28784634c0b497b9d1427ec119f9401",
       "value": "<p>fus foo ous o</p>"
      }
     },
     "84a87578ad914d1e8a696ddbda7c6283": {
      "model_module": "@jupyter-widgets/controls",
      "model_module_version": "1.5.0",
      "model_name": "HBoxModel",
      "state": {
       "children": [
        "IPY_MODEL_d124a148cdf7439d83795e4f8c547688",
        "IPY_MODEL_9dd46cd52634493d83b3c2451023fa3c"
       ],
       "layout": "IPY_MODEL_39549842dc0d40b69a729ef6051e78ed"
      }
     },
     "84b2b10f85ee49e3af5d2ff6f257a79c": {
      "model_module": "@jupyter-widgets/controls",
      "model_module_version": "1.5.0",
      "model_name": "DescriptionStyleModel",
      "state": {
       "description_width": ""
      }
     },
     "84d48729f5f44af79cc1b016138c91c4": {
      "model_module": "@jupyter-widgets/controls",
      "model_module_version": "1.5.0",
      "model_name": "ToggleButtonModel",
      "state": {
       "icon": "arrow-down",
       "layout": "IPY_MODEL_9eb3556a9a464b50b968ba69e681decb",
       "style": "IPY_MODEL_d23ed2904d824f7bbcb022f06a314ee8"
      }
     },
     "84e04924867d4afeaabf37cbc1ad8d0d": {
      "model_module": "@jupyter-widgets/controls",
      "model_module_version": "1.5.0",
      "model_name": "HBoxModel",
      "state": {
       "children": [
        "IPY_MODEL_2bccf403d46749468fd823b01e73191a",
        "IPY_MODEL_c4fc7f8d9e914d8bbaf23738ec5ea47e"
       ],
       "layout": "IPY_MODEL_465e36a8b21c4132bfe10e2a48fb55dc"
      }
     },
     "84e483b1e58d41d2bd17462bb6d7a5b8": {
      "model_module": "@jupyter-widgets/base",
      "model_module_version": "1.2.0",
      "model_name": "LayoutModel",
      "state": {}
     },
     "852b47de8d11466780a3ae9d44f57127": {
      "model_module": "@jupyter-widgets/controls",
      "model_module_version": "1.5.0",
      "model_name": "HBoxModel",
      "state": {
       "children": [
        "IPY_MODEL_995f7995d95b419f9c249bfd8dfc8ef6",
        "IPY_MODEL_4beaf8f2929a4aaa8c76ae4d318bbd09"
       ],
       "layout": "IPY_MODEL_1c42928af8ff4b6993935c3b6001d0f3"
      }
     },
     "855586ed7c094abc8d201e16ecc98bed": {
      "model_module": "@jupyter-widgets/base",
      "model_module_version": "1.2.0",
      "model_name": "LayoutModel",
      "state": {
       "align_items": "stretch",
       "display": "flex",
       "flex_flow": "row",
       "grid_auto_columns": "True",
       "justify_content": "flex-end",
       "width": "90%"
      }
     },
     "857a9790f8f54e63be4d69ba0dc0b1fc": {
      "model_module": "@jupyter-widgets/base",
      "model_module_version": "1.2.0",
      "model_name": "LayoutModel",
      "state": {}
     },
     "85aa35a2baf5438582e9b0995635e01c": {
      "model_module": "@jupyter-widgets/controls",
      "model_module_version": "1.5.0",
      "model_name": "HTMLModel",
      "state": {
       "layout": "IPY_MODEL_fc62c48ba22c4950aa0bc99a4fca5c57",
       "style": "IPY_MODEL_45bebc8ec4c14833a781af5d4e1f9502",
       "value": "<p>its a foo cake</p>"
      }
     },
     "85fd728d4e3443f28dd405f009454980": {
      "model_module": "@jupyter-widgets/controls",
      "model_module_version": "1.5.0",
      "model_name": "DescriptionStyleModel",
      "state": {
       "description_width": ""
      }
     },
     "860bc98f94314a2ca40087bab5d95733": {
      "model_module": "@jupyter-widgets/controls",
      "model_module_version": "1.5.0",
      "model_name": "HBoxModel",
      "state": {
       "children": [
        "IPY_MODEL_4a1ab3b93fd54b26b02d07aeaa4b13b0"
       ],
       "layout": "IPY_MODEL_f7497a354b624f26a3605744cc8510f9"
      }
     },
     "86175f33874749cf919f261dfa30eee6": {
      "model_module": "@jupyter-widgets/base",
      "model_module_version": "1.2.0",
      "model_name": "LayoutModel",
      "state": {
       "align_items": "stretch",
       "border": "dashed 0.2px green",
       "display": "flex",
       "flex_flow": "row",
       "grid_auto_columns": "True",
       "justify_content": "flex-start",
       "width": "100%"
      }
     },
     "861a2cf1a0e64dffbfbb1802914cc71e": {
      "model_module": "@jupyter-widgets/controls",
      "model_module_version": "1.5.0",
      "model_name": "DescriptionStyleModel",
      "state": {
       "description_width": ""
      }
     },
     "86446e42d5d649f59820b396b9af437a": {
      "model_module": "@jupyter-widgets/controls",
      "model_module_version": "1.5.0",
      "model_name": "HTMLModel",
      "state": {
       "layout": "IPY_MODEL_08e2732ae9f3415a9f2f847aebf55cfb",
       "style": "IPY_MODEL_3bb0fc0f2c8c4998bf6806cbc9afd927",
       "value": "<p>Model Run Name</p>"
      }
     },
     "86f7872484c24168af9a6f5448391166": {
      "model_module": "@jupyter-widgets/controls",
      "model_module_version": "1.5.0",
      "model_name": "DescriptionStyleModel",
      "state": {
       "description_width": ""
      }
     },
     "8722746d6dc4455ab38fc8f2e962c2bb": {
      "model_module": "@jupyter-widgets/base",
      "model_module_version": "1.2.0",
      "model_name": "LayoutModel",
      "state": {}
     },
     "873eb3390e7a4b618106fe7c62b4391a": {
      "model_module": "@jupyter-widgets/base",
      "model_module_version": "1.2.0",
      "model_name": "LayoutModel",
      "state": {
       "align_items": "stretch",
       "display": "flex",
       "flex_flow": "row",
       "grid_auto_columns": "True",
       "justify_content": "flex-start",
       "width": "80%"
      }
     },
     "8771d8596ca741df80fa56209110a55a": {
      "model_module": "@jupyter-widgets/controls",
      "model_module_version": "1.5.0",
      "model_name": "ButtonStyleModel",
      "state": {
       "font_weight": "bold"
      }
     },
     "87ad8b5d1f6a43c28d7f900bd8c7b3ff": {
      "model_module": "@jupyter-widgets/controls",
      "model_module_version": "1.5.0",
      "model_name": "DescriptionStyleModel",
      "state": {
       "description_width": ""
      }
     },
     "87b828edc0ad4248acd00e43a5b11719": {
      "model_module": "@jupyter-widgets/controls",
      "model_module_version": "1.5.0",
      "model_name": "HBoxModel",
      "state": {
       "children": [
        "IPY_MODEL_066b5bd507854a5cb612ab76a78652ad"
       ],
       "layout": "IPY_MODEL_8dbc5413aee94956b7e06390ff6c50a5"
      }
     },
     "87bd09441ca144c19103f4d337e16b0f": {
      "model_module": "@jupyter-widgets/controls",
      "model_module_version": "1.5.0",
      "model_name": "DescriptionStyleModel",
      "state": {
       "description_width": ""
      }
     },
     "87c260595285407abda4185875c2fe37": {
      "model_module": "@jupyter-widgets/base",
      "model_module_version": "1.2.0",
      "model_name": "LayoutModel",
      "state": {
       "align_items": "stretch",
       "display": "flex",
       "flex_flow": "row",
       "grid_auto_columns": "True",
       "justify_content": "flex-end",
       "width": "90%"
      }
     },
     "87c74bd1b1d74acabef66ea2e0544345": {
      "model_module": "@jupyter-widgets/base",
      "model_module_version": "1.2.0",
      "model_name": "LayoutModel",
      "state": {}
     },
     "87e2fa3fd0fe461da0d2782e414c7c7a": {
      "model_module": "@jupyter-widgets/base",
      "model_module_version": "1.2.0",
      "model_name": "LayoutModel",
      "state": {}
     },
     "87f358b64a3242749a82280474a401ec": {
      "model_module": "@jupyter-widgets/controls",
      "model_module_version": "1.5.0",
      "model_name": "DescriptionStyleModel",
      "state": {
       "description_width": ""
      }
     },
     "888ed7c2b21b463da81411eabdedf767": {
      "model_module": "@jupyter-widgets/output",
      "model_module_version": "1.0.0",
      "model_name": "OutputModel",
      "state": {
       "layout": "IPY_MODEL_f39b4ee6bd24402d8585bd1faf2b9cff"
      }
     },
     "88a78b86dad74663b0c983405251865c": {
      "model_module": "@jupyter-widgets/controls",
      "model_module_version": "1.5.0",
      "model_name": "HBoxModel",
      "state": {
       "children": [
        "IPY_MODEL_d444fd23987248088fcb31eeed6de4cb",
        "IPY_MODEL_279ba614f4bb4e4ba7a8fc68ffef8444"
       ],
       "layout": "IPY_MODEL_172817a36c544ce8995e88c59d431a85"
      }
     },
     "88b5ee3ad9234272964fe31f0073be14": {
      "model_module": "@jupyter-widgets/base",
      "model_module_version": "1.2.0",
      "model_name": "LayoutModel",
      "state": {
       "align_items": "stretch",
       "display": "flex",
       "flex_flow": "row",
       "grid_auto_columns": "True",
       "justify_content": "flex-end",
       "width": "90%"
      }
     },
     "88e0b81907834209a5c56adf854722c2": {
      "model_module": "@jupyter-widgets/controls",
      "model_module_version": "1.5.0",
      "model_name": "DescriptionStyleModel",
      "state": {
       "description_width": ""
      }
     },
     "890d4bc32e3240cab15cd99d1d318e21": {
      "model_module": "@jupyter-widgets/base",
      "model_module_version": "1.2.0",
      "model_name": "LayoutModel",
      "state": {}
     },
     "891fec8cecd445a8be859550b9e46e55": {
      "model_module": "@jupyter-widgets/controls",
      "model_module_version": "1.5.0",
      "model_name": "HBoxModel",
      "state": {
       "children": [
        "IPY_MODEL_0fc6d6d0400c4c9e9abf42f6b3c2c48d"
       ],
       "layout": "IPY_MODEL_5495a909b4ba4020971f901c1429af5f"
      }
     },
     "8928b5561a0a4d73bfc34a92b9098317": {
      "model_module": "@jupyter-widgets/base",
      "model_module_version": "1.2.0",
      "model_name": "LayoutModel",
      "state": {}
     },
     "893ebe097a5947c9b7b3dd8d9ee39805": {
      "model_module": "@jupyter-widgets/controls",
      "model_module_version": "1.5.0",
      "model_name": "HBoxModel",
      "state": {
       "children": [
        "IPY_MODEL_0c9986bdcc9e4ed4b60e8213011d0d34",
        "IPY_MODEL_ad4c9f2b2ccf4c45a92a390129182a69"
       ],
       "layout": "IPY_MODEL_dfb0ec8e132f4ed5a9db33f1621feec2"
      }
     },
     "896417e4880146b68e65a8ddc61a1b8f": {
      "model_module": "@jupyter-widgets/controls",
      "model_module_version": "1.5.0",
      "model_name": "DescriptionStyleModel",
      "state": {
       "description_width": ""
      }
     },
     "897790a458fa4f4fb60b570d8f5327d5": {
      "model_module": "@jupyter-widgets/output",
      "model_module_version": "1.0.0",
      "model_name": "OutputModel",
      "state": {
       "layout": "IPY_MODEL_6cf2cd28633a42d199c2bf1dbf56a0fe"
      }
     },
     "898ea56c5f584a57b7279e4c09b7adce": {
      "model_module": "@jupyter-widgets/base",
      "model_module_version": "1.2.0",
      "model_name": "LayoutModel",
      "state": {}
     },
     "89ad095839c24b939c332d94c6c47af1": {
      "model_module": "@jupyter-widgets/controls",
      "model_module_version": "1.5.0",
      "model_name": "VBoxModel",
      "state": {
       "children": [
        "IPY_MODEL_9d4899a225724b10b3ef8329c8d38401",
        "IPY_MODEL_45611d9efc52469289616487b24d4890",
        "IPY_MODEL_92357887ac0d4583a3bd8abfc91ded54",
        "IPY_MODEL_67ac3b5b442e4078bf08d7dd633b0f3f",
        "IPY_MODEL_9852307162374575ab359ca7a1335925",
        "IPY_MODEL_975b8b4d531e447093064c290cea1f47",
        "IPY_MODEL_21ed68c229104710b71ca3cd62e1714e",
        "IPY_MODEL_fe47918a5b23490faaff22935b725ed9"
       ],
       "layout": "IPY_MODEL_82a14251a45b4fbfb149de10ee98b489"
      }
     },
     "8a165a277f8842c39da6b607e7a2905a": {
      "model_module": "@jupyter-widgets/controls",
      "model_module_version": "1.5.0",
      "model_name": "HTMLModel",
      "state": {
       "layout": "IPY_MODEL_8b77b88acb87499694723c93a61a540f",
       "style": "IPY_MODEL_e80efae1d2bf43f4b005f514635a1619",
       "value": "<p>General Description of the Model</p>"
      }
     },
     "8a22129433bb44f292d337fb3aa6ec2e": {
      "model_module": "@jupyter-widgets/controls",
      "model_module_version": "1.5.0",
      "model_name": "VBoxModel",
      "state": {
       "layout": "IPY_MODEL_5bd6a33aadb946c6a3dd6deb9e51866a"
      }
     },
     "8a33bf6813784a4fb4a00e1ff2f7f4b1": {
      "model_module": "@jupyter-widgets/controls",
      "model_module_version": "1.5.0",
      "model_name": "HBoxModel",
      "state": {
       "children": [
        "IPY_MODEL_39ce3e3ce5e54570b29a713ad20dda97",
        "IPY_MODEL_cf4c7d0793e244eeb328bc633cb37c3e"
       ],
       "layout": "IPY_MODEL_780b329168b543b4a686ae77e0ba3253"
      }
     },
     "8a366b50dfd54ff0a2448280b0b2f9eb": {
      "model_module": "@jupyter-widgets/controls",
      "model_module_version": "1.5.0",
      "model_name": "DescriptionStyleModel",
      "state": {
       "description_width": ""
      }
     },
     "8a48deac9c824ab394d47ae1d62c8f0d": {
      "model_module": "@jupyter-widgets/base",
      "model_module_version": "1.2.0",
      "model_name": "LayoutModel",
      "state": {
       "align_items": "stretch",
       "display": "flex",
       "flex_flow": "row",
       "grid_auto_columns": "True",
       "justify_content": "flex-end",
       "width": "90%"
      }
     },
     "8a4925365e6446ea9ca95217a4fc2714": {
      "model_module": "@jupyter-widgets/base",
      "model_module_version": "1.2.0",
      "model_name": "LayoutModel",
      "state": {
       "align_items": "stretch",
       "border": "dashed 0.2px green",
       "display": "flex",
       "flex_flow": "row",
       "grid_auto_columns": "True",
       "justify_content": "flex-start",
       "width": "100%"
      }
     },
     "8a85475bb3c34c4ca237b3c49198a170": {
      "model_module": "@jupyter-widgets/base",
      "model_module_version": "1.2.0",
      "model_name": "LayoutModel",
      "state": {
       "align_items": "stretch",
       "display": "flex",
       "flex_flow": "row",
       "grid_auto_columns": "True",
       "justify_content": "flex-start",
       "width": "80%"
      }
     },
     "8af41741e46a4a81a68c2a2615490832": {
      "model_module": "@jupyter-widgets/controls",
      "model_module_version": "1.5.0",
      "model_name": "HBoxModel",
      "state": {
       "children": [
        "IPY_MODEL_b2006b0c61684916bdd72dde80af4d27",
        "IPY_MODEL_d27333fa00af44779f4c53a7c02d4dc1"
       ],
       "layout": "IPY_MODEL_e978e3501e54439b97e65df9526bf9a7"
      }
     },
     "8af4d79fe9594579ac1236ddef7515a6": {
      "model_module": "@jupyter-widgets/controls",
      "model_module_version": "1.5.0",
      "model_name": "DescriptionStyleModel",
      "state": {
       "description_width": ""
      }
     },
     "8b095f6b4df2421086de0704682b24b9": {
      "model_module": "@jupyter-widgets/controls",
      "model_module_version": "1.5.0",
      "model_name": "HBoxModel",
      "state": {
       "children": [
        "IPY_MODEL_4efac5b100ec478e938dd87cda688304",
        "IPY_MODEL_b6b11c10c29f49378a1a0ca377908fb7"
       ],
       "layout": "IPY_MODEL_a3591a9e06c34374971e38968fc60443"
      }
     },
     "8b63ec932d274d198f883eee2f628bca": {
      "model_module": "@jupyter-widgets/controls",
      "model_module_version": "1.5.0",
      "model_name": "HBoxModel",
      "state": {
       "children": [
        "IPY_MODEL_2a07ff50080c4a94b380c0dc982babf8",
        "IPY_MODEL_8dd6a5b448b94eecb011d6bc4fa301b0"
       ],
       "layout": "IPY_MODEL_dc7948becb8c4f69b831811d5b722800"
      }
     },
     "8b6784e917a04e13a5d64454f21db621": {
      "model_module": "@jupyter-widgets/base",
      "model_module_version": "1.2.0",
      "model_name": "LayoutModel",
      "state": {}
     },
     "8b751f41584149daaf9a1f92f6206e74": {
      "model_module": "@jupyter-widgets/base",
      "model_module_version": "1.2.0",
      "model_name": "LayoutModel",
      "state": {}
     },
     "8b77b88acb87499694723c93a61a540f": {
      "model_module": "@jupyter-widgets/base",
      "model_module_version": "1.2.0",
      "model_name": "LayoutModel",
      "state": {}
     },
     "8bae1db7bf064c17bca1045db4a75f12": {
      "model_module": "@jupyter-widgets/controls",
      "model_module_version": "1.5.0",
      "model_name": "HBoxModel",
      "state": {
       "children": [
        "IPY_MODEL_c3c8c6592a82498592fa17250cbd3303",
        "IPY_MODEL_f869726bc8464a59a1b1665441978fe6"
       ],
       "layout": "IPY_MODEL_d29bb717ce8f4b15a0cffdf261c67d2f"
      }
     },
     "8bbeb3e18aef49e59c3b3d05f30dc55a": {
      "model_module": "@jupyter-widgets/controls",
      "model_module_version": "1.5.0",
      "model_name": "FloatTextModel",
      "state": {
       "layout": "IPY_MODEL_2b9c522706294b88b472ede8cfd5b06e",
       "step": null,
       "style": "IPY_MODEL_7919328881484dd49a032c33df6a3d25",
       "value": 9
      }
     },
     "8bc1ca2af9d247f7aa3b8b2b3de43c88": {
      "model_module": "@jupyter-widgets/controls",
      "model_module_version": "1.5.0",
      "model_name": "ButtonStyleModel",
      "state": {
       "font_weight": "bold"
      }
     },
     "8bccb067a99649ac852cf69f761b4c2c": {
      "model_module": "@jupyter-widgets/controls",
      "model_module_version": "1.5.0",
      "model_name": "HBoxModel",
      "state": {
       "children": [
        "IPY_MODEL_ed1638f5d83b4ac0b2f3b7e2a89c0784",
        "IPY_MODEL_43b550b04f004713bf82ac58bad19973"
       ],
       "layout": "IPY_MODEL_8a85475bb3c34c4ca237b3c49198a170"
      }
     },
     "8c1c8d67c4394681a2487ce79ce80639": {
      "model_module": "@jupyter-widgets/controls",
      "model_module_version": "1.5.0",
      "model_name": "HBoxModel",
      "state": {
       "children": [
        "IPY_MODEL_0c4e2d1d62d748bebb9c7214ac1f1728",
        "IPY_MODEL_e1baeb9df582492ab05a4afb6638f396"
       ],
       "layout": "IPY_MODEL_09ec194de3ec48ca8d900c447bf57237"
      }
     },
     "8c1ced79cfa243faa61f33cbab13f3ca": {
      "model_module": "@jupyter-widgets/base",
      "model_module_version": "1.2.0",
      "model_name": "LayoutModel",
      "state": {}
     },
     "8c44dc9645324d01afc469eab8a59bbf": {
      "model_module": "@jupyter-widgets/base",
      "model_module_version": "1.2.0",
      "model_name": "LayoutModel",
      "state": {
       "align_items": "stretch",
       "display": "flex",
       "flex_flow": "row",
       "grid_auto_columns": "True",
       "justify_content": "flex-start",
       "width": "80%"
      }
     },
     "8c5545b01a524be4957434d2eb042616": {
      "model_module": "@jupyter-widgets/controls",
      "model_module_version": "1.5.0",
      "model_name": "ButtonStyleModel",
      "state": {}
     },
     "8c5f16eb844344b7b2893bd6870144e9": {
      "model_module": "@jupyter-widgets/base",
      "model_module_version": "1.2.0",
      "model_name": "LayoutModel",
      "state": {}
     },
     "8c62a14b9ebc42af9b80645ab3b6b1a3": {
      "model_module": "@jupyter-widgets/base",
      "model_module_version": "1.2.0",
      "model_name": "LayoutModel",
      "state": {}
     },
     "8cb11a30f2084b6f8900af07e4db2ee5": {
      "model_module": "@jupyter-widgets/base",
      "model_module_version": "1.2.0",
      "model_name": "LayoutModel",
      "state": {}
     },
     "8d4faf21a2224163b5ece0fba2dd072f": {
      "model_module": "@jupyter-widgets/controls",
      "model_module_version": "1.5.0",
      "model_name": "DescriptionStyleModel",
      "state": {
       "description_width": ""
      }
     },
     "8d51764867d24920961ea7f36923cad0": {
      "model_module": "@jupyter-widgets/controls",
      "model_module_version": "1.5.0",
      "model_name": "DescriptionStyleModel",
      "state": {
       "description_width": ""
      }
     },
     "8d75450a1d6a4114a700a1a9bdd28a7c": {
      "model_module": "@jupyter-widgets/controls",
      "model_module_version": "1.5.0",
      "model_name": "HBoxModel",
      "state": {
       "children": [
        "IPY_MODEL_21f99dd8b8044c60ac822f5fb9b52a30",
        "IPY_MODEL_a686ffd7635d49128c3f0661e1bd8685"
       ],
       "layout": "IPY_MODEL_ccf88eacaefe4ed1b39e74a7b1f43f53"
      }
     },
     "8d777b26655b4befbae842900dc2818d": {
      "model_module": "@jupyter-widgets/controls",
      "model_module_version": "1.5.0",
      "model_name": "HBoxModel",
      "state": {
       "children": [
        "IPY_MODEL_35821aad0188401097fa3e0e078a2bd5",
        "IPY_MODEL_cd3f67be6b4f41f18cbb4890525f0d15",
        "IPY_MODEL_c533dd00398642558b4b617bfe51e33e"
       ],
       "layout": "IPY_MODEL_be4e41e61e184dbfbe4f34af0fd6d3b5"
      }
     },
     "8d8cb8a4719c49779eed74bbfdbf31c2": {
      "model_module": "@jupyter-widgets/controls",
      "model_module_version": "1.5.0",
      "model_name": "DescriptionStyleModel",
      "state": {
       "description_width": ""
      }
     },
     "8dae0d616e9f4d038d8ddbd3d77ea282": {
      "model_module": "@jupyter-widgets/base",
      "model_module_version": "1.2.0",
      "model_name": "LayoutModel",
      "state": {
       "align_items": "stretch",
       "display": "flex",
       "flex_flow": "row",
       "grid_auto_columns": "True",
       "justify_content": "flex-end",
       "width": "90%"
      }
     },
     "8dbc5413aee94956b7e06390ff6c50a5": {
      "model_module": "@jupyter-widgets/base",
      "model_module_version": "1.2.0",
      "model_name": "LayoutModel",
      "state": {
       "align_items": "stretch",
       "border": "dashed 0.2px green",
       "display": "flex",
       "flex_flow": "row",
       "grid_auto_columns": "True",
       "justify_content": "flex-start",
       "width": "100%"
      }
     },
     "8dd6a5b448b94eecb011d6bc4fa301b0": {
      "model_module": "@jupyter-widgets/controls",
      "model_module_version": "1.5.0",
      "model_name": "HBoxModel",
      "state": {
       "children": [
        "IPY_MODEL_e9149914180b46b281077fc9007c0245",
        "IPY_MODEL_9e02f78b86854090b44018ef13a5c7be"
       ],
       "layout": "IPY_MODEL_b5dfcffaf886469ea76dcc5dc2e0ae5f"
      }
     },
     "8df8f15aead84070896fdf72321323a8": {
      "model_module": "@jupyter-widgets/controls",
      "model_module_version": "1.5.0",
      "model_name": "HBoxModel",
      "state": {
       "children": [
        "IPY_MODEL_3f5486c51ef04e49849c4176c4e7d11f"
       ],
       "layout": "IPY_MODEL_d75d3ca7c6a74d3087adc774efe1fe34"
      }
     },
     "8e389964500a43cf9c34792f742c2f6d": {
      "model_module": "@jupyter-widgets/controls",
      "model_module_version": "1.5.0",
      "model_name": "HTMLModel",
      "state": {
       "layout": "IPY_MODEL_0e41d2b5d4db4bb19e3175e498d59ac9",
       "style": "IPY_MODEL_62375d3d0550463eb3bcb2ad9d0d4bf7",
       "value": "<p>its a foo cake</p>"
      }
     },
     "8e743e0bbe6c4e1fa3e9022e2b5609db": {
      "model_module": "@jupyter-widgets/base",
      "model_module_version": "1.2.0",
      "model_name": "LayoutModel",
      "state": {
       "align_items": "stretch",
       "border": "dashed 0.2px green",
       "display": "flex",
       "flex_flow": "row",
       "grid_auto_columns": "True",
       "justify_content": "flex-start",
       "width": "100%"
      }
     },
     "8e82b138be884ebfba812cdea4f2c033": {
      "model_module": "@jupyter-widgets/base",
      "model_module_version": "1.2.0",
      "model_name": "LayoutModel",
      "state": {}
     },
     "8ec930b72daa4abab3798d8643fe2227": {
      "model_module": "@jupyter-widgets/base",
      "model_module_version": "1.2.0",
      "model_name": "LayoutModel",
      "state": {}
     },
     "8f2211b8cf9a4a179f94b2922bbaa299": {
      "model_module": "@jupyter-widgets/base",
      "model_module_version": "1.2.0",
      "model_name": "LayoutModel",
      "state": {}
     },
     "8f3364c4bde6400fa3b7aae7b493dcb1": {
      "model_module": "@jupyter-widgets/controls",
      "model_module_version": "1.5.0",
      "model_name": "SelectMultipleModel",
      "state": {
       "_options_labels": [
        "asfd",
        "10",
        "asdf"
       ],
       "index": [
        1
       ],
       "layout": "IPY_MODEL_ee72ae52cb1846af8c250ed49d8ceae7",
       "rows": 5,
       "style": "IPY_MODEL_9fec3a7f8dc9489396c6f91620915d9a"
      }
     },
     "8f785fee31e848a5ace4368c960b1f59": {
      "model_module": "@jupyter-widgets/output",
      "model_module_version": "1.0.0",
      "model_name": "OutputModel",
      "state": {
       "layout": "IPY_MODEL_3ebf343aaeef44d6985d7cccc9bc5d18"
      }
     },
     "8f8a1da27cd6410c9d43b26587b5e412": {
      "model_module": "@jupyter-widgets/base",
      "model_module_version": "1.2.0",
      "model_name": "LayoutModel",
      "state": {
       "align_items": "stretch",
       "border": "dashed 0.2px green",
       "display": "flex",
       "flex_flow": "row",
       "grid_auto_columns": "True",
       "justify_content": "flex-start",
       "width": "100%"
      }
     },
     "8f96634d37f7448ab086ae186d4fa6ad": {
      "model_module": "@jupyter-widgets/controls",
      "model_module_version": "1.5.0",
      "model_name": "HBoxModel",
      "state": {
       "children": [
        "IPY_MODEL_19217e48a51a472393aa7ca3ec1e396a",
        "IPY_MODEL_9602873c690d4aa0a3493a50a373cb79",
        "IPY_MODEL_3784b6daf2f649428de9ec07ff9cda1a"
       ],
       "layout": "IPY_MODEL_0af924b92e7c40e79e59d8b19dd54e83"
      }
     },
     "9009b489ecf04aaebcf1d43d2f94083e": {
      "model_module": "@jupyter-widgets/base",
      "model_module_version": "1.2.0",
      "model_name": "LayoutModel",
      "state": {}
     },
     "9063902e9ed14c529dc92795269bcc2d": {
      "model_module": "@jupyter-widgets/controls",
      "model_module_version": "1.5.0",
      "model_name": "HBoxModel",
      "state": {
       "children": [
        "IPY_MODEL_efa7e2ec431441d8a9b892e2f6c10cb7",
        "IPY_MODEL_3d5af088c5e740ddafdf7b0fea932e36"
       ],
       "layout": "IPY_MODEL_eb5719e2161f43a687278384da0340b9"
      }
     },
     "90c16a86a90e4ba294f7855e1338931c": {
      "model_module": "@jupyter-widgets/controls",
      "model_module_version": "1.5.0",
      "model_name": "DescriptionStyleModel",
      "state": {
       "description_width": ""
      }
     },
     "90e60ffbe67c44e5a5c054c6adb1e851": {
      "model_module": "@jupyter-widgets/output",
      "model_module_version": "1.0.0",
      "model_name": "OutputModel",
      "state": {
       "layout": "IPY_MODEL_68e19abef9864a8d842d6beeea16b859",
       "outputs": [
        {
         "data": {
          "application/vnd.jupyter.widget-view+json": {
           "model_id": "",
           "version_major": 2,
           "version_minor": 0
          },
          "text/plain": "Output()"
         },
         "metadata": {},
         "output_type": "display_data"
        }
       ]
      }
     },
     "915143a563f94cc4acabfa80f9e61038": {
      "model_module": "@jupyter-widgets/base",
      "model_module_version": "1.2.0",
      "model_name": "LayoutModel",
      "state": {}
     },
     "9152c270a935499b88f0304c53f21aa0": {
      "model_module": "@jupyter-widgets/base",
      "model_module_version": "1.2.0",
      "model_name": "LayoutModel",
      "state": {
       "align_items": "stretch",
       "display": "flex",
       "flex_flow": "row",
       "grid_auto_columns": "True",
       "justify_content": "flex-end",
       "width": "90%"
      }
     },
     "915752d78eeb4c64acb9ef589dae7049": {
      "model_module": "@jupyter-widgets/controls",
      "model_module_version": "1.5.0",
      "model_name": "HBoxModel",
      "state": {
       "children": [
        "IPY_MODEL_8186f8d6b34f4c7eb9d456c43ca741d9",
        "IPY_MODEL_a804ba6e25344108a244e0908009a437"
       ],
       "layout": "IPY_MODEL_0d69b7d095e14a0a9928effa656e1c49"
      }
     },
     "9157d9f4f87e4239be732753d0302ccb": {
      "model_module": "@jupyter-widgets/controls",
      "model_module_version": "1.5.0",
      "model_name": "DescriptionStyleModel",
      "state": {
       "description_width": ""
      }
     },
     "915f861a22b444588df651dc8f7c7109": {
      "model_module": "@jupyter-widgets/base",
      "model_module_version": "1.2.0",
      "model_name": "LayoutModel",
      "state": {
       "align_items": "stretch",
       "border": "dashed 0.2px green",
       "display": "flex",
       "flex_flow": "row",
       "grid_auto_columns": "True",
       "justify_content": "flex-start",
       "width": "100%"
      }
     },
     "917a9fcd38ba49d09252ce4323b18867": {
      "model_module": "@jupyter-widgets/controls",
      "model_module_version": "1.5.0",
      "model_name": "ButtonModel",
      "state": {
       "description": "load",
       "icon": "upload",
       "layout": "IPY_MODEL_b6eff1a0bde5422daf4c14d6be5c7373",
       "style": "IPY_MODEL_1433224b29b340ea91171604bedb3016"
      }
     },
     "91a03aa75f7f40f5a4970c9aed86a5d9": {
      "model_module": "@jupyter-widgets/output",
      "model_module_version": "1.0.0",
      "model_name": "OutputModel",
      "state": {
       "layout": "IPY_MODEL_d7541578526b438caca8a63c0d831111"
      }
     },
     "92190e1133f04af8904b18c3f1442fc6": {
      "model_module": "@jupyter-widgets/controls",
      "model_module_version": "1.5.0",
      "model_name": "DescriptionStyleModel",
      "state": {
       "description_width": ""
      }
     },
     "92357887ac0d4583a3bd8abfc91ded54": {
      "model_module": "@jupyter-widgets/controls",
      "model_module_version": "1.5.0",
      "model_name": "HBoxModel",
      "state": {
       "children": [
        "IPY_MODEL_5b8c845c8d5b454e8039c35db265c42d"
       ],
       "layout": "IPY_MODEL_5e4fd7f3e25c4407983ddb43183bf66a"
      }
     },
     "925d2c2531314e2c8ae7b645548768a2": {
      "model_module": "@jupyter-widgets/base",
      "model_module_version": "1.2.0",
      "model_name": "LayoutModel",
      "state": {}
     },
     "926ca55065ab4094846a719a5d8af70f": {
      "model_module": "@jupyter-widgets/controls",
      "model_module_version": "1.5.0",
      "model_name": "HTMLModel",
      "state": {
       "layout": "IPY_MODEL_9f5464f5e7a6400690ee980b5ede6f98",
       "style": "IPY_MODEL_dc64e82318944c9aadaced8e50162dc2"
      }
     },
     "92aa8b38c3ee4238a083c483ab98ed8c": {
      "model_module": "@jupyter-widgets/controls",
      "model_module_version": "1.5.0",
      "model_name": "ButtonStyleModel",
      "state": {
       "font_weight": "bold"
      }
     },
     "9310f635b0df4b94851582568def1302": {
      "model_module": "@jupyter-widgets/controls",
      "model_module_version": "1.5.0",
      "model_name": "ButtonModel",
      "state": {
       "description": "load",
       "icon": "upload",
       "layout": "IPY_MODEL_0d878bcb382a42cf94438aa05ef591e5",
       "style": "IPY_MODEL_43f0d3370774424fb5dc2dafe93da00f"
      }
     },
     "932f004c0c2b4c57856c317fbb070001": {
      "model_module": "@jupyter-widgets/controls",
      "model_module_version": "1.5.0",
      "model_name": "DescriptionStyleModel",
      "state": {
       "description_width": ""
      }
     },
     "9335b63084634077afb1620bd33d3d32": {
      "model_module": "@jupyter-widgets/base",
      "model_module_version": "1.2.0",
      "model_name": "LayoutModel",
      "state": {
       "align_items": "stretch",
       "display": "flex",
       "flex_flow": "row",
       "grid_auto_columns": "True",
       "justify_content": "flex-start",
       "width": "80%"
      }
     },
     "9342f31841f7487aa1f688af0b2c0722": {
      "model_module": "@jupyter-widgets/controls",
      "model_module_version": "1.5.0",
      "model_name": "VBoxModel",
      "state": {
       "children": [
        "IPY_MODEL_fc9baf27c473415daaafc32530444f11",
        "IPY_MODEL_e3b61ff7c895490cb37276988a67ddf6",
        "IPY_MODEL_8a22129433bb44f292d337fb3aa6ec2e"
       ],
       "layout": "IPY_MODEL_d37109b548294fefa3e17ed2dfb3f99b"
      }
     },
     "93579ffb96b54daf8585cca5ade89419": {
      "model_module": "@jupyter-widgets/controls",
      "model_module_version": "1.5.0",
      "model_name": "DescriptionStyleModel",
      "state": {
       "description_width": ""
      }
     },
     "937009b70cc349bdb077b903931e2ce4": {
      "model_module": "@jupyter-widgets/base",
      "model_module_version": "1.2.0",
      "model_name": "LayoutModel",
      "state": {}
     },
     "93d902bc627a4598b07fa9693b0d0e56": {
      "model_module": "@jupyter-widgets/base",
      "model_module_version": "1.2.0",
      "model_name": "LayoutModel",
      "state": {
       "align_items": "stretch",
       "display": "flex",
       "flex_flow": "row",
       "grid_auto_columns": "True",
       "justify_content": "flex-start",
       "width": "80%"
      }
     },
     "93f2aba9d2fa4e7581da23fce9b25e11": {
      "model_module": "@jupyter-widgets/controls",
      "model_module_version": "1.5.0",
      "model_name": "HBoxModel",
      "state": {
       "children": [
        "IPY_MODEL_3e640ac0885547de8ac5ae0f42233bfe",
        "IPY_MODEL_035f61b9cd3948818a7311ed4a38e8c0"
       ],
       "layout": "IPY_MODEL_ee030da3d20644a9abb299aba78b6079"
      }
     },
     "94107dfaf65446d1864ffd3d85e5d596": {
      "model_module": "@jupyter-widgets/controls",
      "model_module_version": "1.5.0",
      "model_name": "ButtonStyleModel",
      "state": {
       "font_weight": "bold"
      }
     },
     "945b6d4371ab456784db5d990b8bf720": {
      "model_module": "@jupyter-widgets/base",
      "model_module_version": "1.2.0",
      "model_name": "LayoutModel",
      "state": {
       "align_items": "stretch",
       "border": "dashed 0.2px green",
       "display": "flex",
       "flex_flow": "row",
       "grid_auto_columns": "True",
       "justify_content": "flex-start",
       "width": "100%"
      }
     },
     "9463a49efda74fee8a265d76cf7bebd8": {
      "model_module": "@jupyter-widgets/base",
      "model_module_version": "1.2.0",
      "model_name": "LayoutModel",
      "state": {}
     },
     "949efaac33f4400f8ee1ac17f5877b36": {
      "model_module": "@jupyter-widgets/base",
      "model_module_version": "1.2.0",
      "model_name": "LayoutModel",
      "state": {
       "align_items": "stretch",
       "border": "dashed 0.2px green",
       "display": "flex",
       "flex_flow": "row",
       "grid_auto_columns": "True",
       "justify_content": "flex-start",
       "width": "100%"
      }
     },
     "951c33f561ea4fbb8c93b28e45b2ff78": {
      "model_module": "@jupyter-widgets/controls",
      "model_module_version": "1.5.0",
      "model_name": "HTMLModel",
      "state": {
       "layout": "IPY_MODEL_1354faa8d19643bf9e5eb60eb065d4c8",
       "style": "IPY_MODEL_65d7391b16274b1bb2edd2ca98b947d1",
       "value": "<p>its a foo cake</p>"
      }
     },
     "95421de3dc6e4e948fa1825588cba565": {
      "model_module": "@jupyter-widgets/base",
      "model_module_version": "1.2.0",
      "model_name": "LayoutModel",
      "state": {}
     },
     "957916ca530c4d61b5c40cd13bb75f73": {
      "model_module": "@jupyter-widgets/controls",
      "model_module_version": "1.5.0",
      "model_name": "HTMLModel",
      "state": {
       "layout": "IPY_MODEL_8c62a14b9ebc42af9b80645ab3b6b1a3",
       "style": "IPY_MODEL_fe37c524c51b4079af49051b7ca278d9"
      }
     },
     "9582f1d461d64d4e90a968c44f4b2991": {
      "model_module": "@jupyter-widgets/controls",
      "model_module_version": "1.5.0",
      "model_name": "HBoxModel",
      "state": {
       "children": [
        "IPY_MODEL_d2a25809b7bc4cf981e41f952cc09a51"
       ],
       "layout": "IPY_MODEL_fee06c0d142844b1a131ccda5a95b209"
      }
     },
     "95a4aa2ac2384e89942b0c4bc92f7c5a": {
      "model_module": "@jupyter-widgets/base",
      "model_module_version": "1.2.0",
      "model_name": "LayoutModel",
      "state": {}
     },
     "95d43cb02c984742a53d4cd6539756fd": {
      "model_module": "@jupyter-widgets/controls",
      "model_module_version": "1.5.0",
      "model_name": "DescriptionStyleModel",
      "state": {
       "description_width": ""
      }
     },
     "95f0fc6208174c98b11300220c7f8f9a": {
      "model_module": "@jupyter-widgets/controls",
      "model_module_version": "1.5.0",
      "model_name": "DescriptionStyleModel",
      "state": {
       "description_width": ""
      }
     },
     "95f30493742147ceb1e92468a28a63db": {
      "model_module": "@jupyter-widgets/controls",
      "model_module_version": "1.5.0",
      "model_name": "DescriptionStyleModel",
      "state": {
       "description_width": ""
      }
     },
     "9602873c690d4aa0a3493a50a373cb79": {
      "model_module": "@jupyter-widgets/controls",
      "model_module_version": "1.5.0",
      "model_name": "ButtonModel",
      "state": {
       "description": "Cancel",
       "layout": "IPY_MODEL_fb14c667d76f4d6a8399737e25b27024",
       "style": "IPY_MODEL_16bd716fac064546905e55350cc848ed"
      }
     },
     "962e783503d84d6a941a17a539e6907f": {
      "model_module": "@jupyter-widgets/base",
      "model_module_version": "1.2.0",
      "model_name": "LayoutModel",
      "state": {}
     },
     "96339d484d8b4394ad3f1cca9b53161a": {
      "model_module": "@jupyter-widgets/controls",
      "model_module_version": "1.5.0",
      "model_name": "DescriptionStyleModel",
      "state": {
       "description_width": ""
      }
     },
     "966e3fcc15114250800d453041241084": {
      "model_module": "@jupyter-widgets/base",
      "model_module_version": "1.2.0",
      "model_name": "LayoutModel",
      "state": {}
     },
     "97179a9f71754fb1b75af1adf6474f67": {
      "model_module": "@jupyter-widgets/output",
      "model_module_version": "1.0.0",
      "model_name": "OutputModel",
      "state": {
       "layout": "IPY_MODEL_9463a49efda74fee8a265d76cf7bebd8"
      }
     },
     "9728d6f13385464eaf5705519a84c593": {
      "model_module": "@jupyter-widgets/controls",
      "model_module_version": "1.5.0",
      "model_name": "CheckboxModel",
      "state": {
       "disabled": false,
       "layout": "IPY_MODEL_b62e4155890848d88c8ebac723e8982f",
       "style": "IPY_MODEL_b88fb5b817264487a8028ca7920fe97f",
       "value": true
      }
     },
     "975b8b4d531e447093064c290cea1f47": {
      "model_module": "@jupyter-widgets/controls",
      "model_module_version": "1.5.0",
      "model_name": "HBoxModel",
      "state": {
       "children": [
        "IPY_MODEL_8b63ec932d274d198f883eee2f628bca"
       ],
       "layout": "IPY_MODEL_8a4925365e6446ea9ca95217a4fc2714"
      }
     },
     "977a9cec599e4bc78614abaae5263b53": {
      "model_module": "@jupyter-widgets/controls",
      "model_module_version": "1.5.0",
      "model_name": "VBoxModel",
      "state": {
       "children": [
        "IPY_MODEL_80ae0d6f90f54319b94dc289f78939c9",
        "IPY_MODEL_bf6bd00b03dd4588b0e6a704d50822e0"
       ],
       "layout": "IPY_MODEL_c83cd00a0dad48ebac199fcb1417f16f"
      }
     },
     "97c6c5678c5f4f90af4f780924b90ff2": {
      "model_module": "@jupyter-widgets/controls",
      "model_module_version": "1.5.0",
      "model_name": "HBoxModel",
      "state": {
       "children": [
        "IPY_MODEL_40949e477e7c4a6097c659e70c32cc48"
       ],
       "layout": "IPY_MODEL_229ccb9e00a64f939c55138b88156f75"
      }
     },
     "98148a668c474d84be6e1ddda5338147": {
      "model_module": "@jupyter-widgets/controls",
      "model_module_version": "1.5.0",
      "model_name": "HBoxModel",
      "state": {
       "children": [
        "IPY_MODEL_622ebb5fc6324fc7862a422764c0da52",
        "IPY_MODEL_dae662dc2f9e4aa9b36a6ebb549dc49e"
       ],
       "layout": "IPY_MODEL_df63cf678b144369a683897fe5869a23"
      }
     },
     "98248e0cb01e4b3bbd3aecc4d0ab686f": {
      "model_module": "@jupyter-widgets/controls",
      "model_module_version": "1.5.0",
      "model_name": "DescriptionStyleModel",
      "state": {
       "description_width": ""
      }
     },
     "983ca5ac33ab4e0ebf413751faf222ff": {
      "model_module": "@jupyter-widgets/base",
      "model_module_version": "1.2.0",
      "model_name": "LayoutModel",
      "state": {
       "align_items": "stretch",
       "display": "flex",
       "flex_flow": "row",
       "grid_auto_columns": "True",
       "justify_content": "flex-start",
       "width": "80%"
      }
     },
     "985068524e4c443d95c0e53197264b5d": {
      "model_module": "@jupyter-widgets/controls",
      "model_module_version": "1.5.0",
      "model_name": "ToggleButtonModel",
      "state": {
       "icon": "arrow-down",
       "layout": "IPY_MODEL_13bf04e8d9a24b1e8ccf90e5b89cfb2f",
       "style": "IPY_MODEL_a5c5eed1f7634bbfac8b19c5efa426f2"
      }
     },
     "9852307162374575ab359ca7a1335925": {
      "model_module": "@jupyter-widgets/controls",
      "model_module_version": "1.5.0",
      "model_name": "HBoxModel",
      "state": {
       "children": [
        "IPY_MODEL_65079765767a449aa60b8732678199ac"
       ],
       "layout": "IPY_MODEL_ac21e627dfdb4650b35f7d046cd02ca5"
      }
     },
     "987734b72a70408484da6c5600dd9370": {
      "model_module": "@jupyter-widgets/output",
      "model_module_version": "1.0.0",
      "model_name": "OutputModel",
      "state": {
       "layout": "IPY_MODEL_70f7d97e25b3464a8545e9d1f82c4d40"
      }
     },
     "98ac038dcd2443a59a0d3e69cb5844f2": {
      "model_module": "@jupyter-widgets/base",
      "model_module_version": "1.2.0",
      "model_name": "LayoutModel",
      "state": {
       "align_items": "stretch",
       "display": "flex",
       "flex_flow": "row",
       "grid_auto_columns": "True",
       "justify_content": "flex-end",
       "width": "90%"
      }
     },
     "98aeb2363ba24c32a802152e0f8245c2": {
      "model_module": "@jupyter-widgets/controls",
      "model_module_version": "1.5.0",
      "model_name": "HBoxModel",
      "state": {
       "children": [
        "IPY_MODEL_4a62e9c588974d2c8219daafdd826740",
        "IPY_MODEL_7eb9abebb860460ca7f3e607522b02a5"
       ],
       "layout": "IPY_MODEL_7fa8f4853eb84f21bcb159a3328b9b75"
      }
     },
     "98bfeb1fbe6c4bd795195d3ce0a7260e": {
      "model_module": "@jupyter-widgets/controls",
      "model_module_version": "1.5.0",
      "model_name": "HTMLModel",
      "state": {
       "layout": "IPY_MODEL_a0dc524b7cb041da9092766f7e08bab1",
       "style": "IPY_MODEL_4c194133239441c4999874a8176e826d",
       "value": "<p>File Prefix</p>"
      }
     },
     "990de143bd9243ad942024b57de29850": {
      "model_module": "@jupyter-widgets/controls",
      "model_module_version": "1.5.0",
      "model_name": "HTMLModel",
      "state": {
       "layout": "IPY_MODEL_6b21bcca5a6c4949932cfd94f052337e",
       "style": "IPY_MODEL_08907f7bf01c42ebbc5bf5b6e1b75d0f",
       "value": "<p>Fabrics</p>"
      }
     },
     "995f7995d95b419f9c249bfd8dfc8ef6": {
      "model_module": "@jupyter-widgets/controls",
      "model_module_version": "1.5.0",
      "model_name": "HTMLModel",
      "state": {
       "layout": "IPY_MODEL_8f2211b8cf9a4a179f94b2922bbaa299",
       "style": "IPY_MODEL_c29b84560771440f82c11263d5f9649a",
       "value": "<p>File Tag</p>"
      }
     },
     "99da446e4640475ba5344b1ea4671281": {
      "model_module": "@jupyter-widgets/base",
      "model_module_version": "1.2.0",
      "model_name": "LayoutModel",
      "state": {}
     },
     "9a41fa47971a4f5fa0a76a9db965dd0b": {
      "model_module": "@jupyter-widgets/controls",
      "model_module_version": "1.5.0",
      "model_name": "HTMLModel",
      "state": {
       "layout": "IPY_MODEL_b5401e12f01c4eba8bf2338ad30eb9fa",
       "style": "IPY_MODEL_676a1acc7b89420ebeed6867856a752b",
       "value": "<p>reous foo ous foo st</p>"
      }
     },
     "9a5eb28080cd493c997713567b300926": {
      "model_module": "@jupyter-widgets/controls",
      "model_module_version": "1.5.0",
      "model_name": "HBoxModel",
      "state": {
       "children": [
        "IPY_MODEL_9fb7ed95aae4468fbb847e529908594e"
       ],
       "layout": "IPY_MODEL_24248a876dc74bb5b6d5e42714b88d44"
      }
     },
     "9b057521b957493fb18e0ae4fd16fc2d": {
      "model_module": "@jupyter-widgets/controls",
      "model_module_version": "1.5.0",
      "model_name": "ToggleButtonModel",
      "state": {
       "icon": "arrow-down",
       "layout": "IPY_MODEL_0d508667508843c2a42b9c20fe0edc2c",
       "style": "IPY_MODEL_20094ea7b79a4d91a70f2b32b3a4efd3"
      }
     },
     "9b16bccf5e1c4b2cb8ad2ae5c5dcea49": {
      "model_module": "@jupyter-widgets/controls",
      "model_module_version": "1.5.0",
      "model_name": "TextModel",
      "state": {
       "layout": "IPY_MODEL_547a9d3c5ce74ae5974695f0a8224791",
       "style": "IPY_MODEL_90c16a86a90e4ba294f7855e1338931c",
       "value": "C:\\engDev\\git_mf\\MF_Toolbox\\dev\\examples\\gbxml\\105_LiveseyExchange_heatpump-normal-fabric.xml"
      }
     },
     "9b318ec0332b4bc8b939c3807245c39f": {
      "model_module": "@jupyter-widgets/base",
      "model_module_version": "1.2.0",
      "model_name": "LayoutModel",
      "state": {}
     },
     "9b3fa84d086c4431bdb6792f9f3565f4": {
      "model_module": "@jupyter-widgets/controls",
      "model_module_version": "1.5.0",
      "model_name": "HBoxModel",
      "state": {
       "children": [
        "IPY_MODEL_1d5983a03beb4caf9c9f9493383d9eb1",
        "IPY_MODEL_a6307d24a9d04d3eb30f7787ced0f81f"
       ],
       "layout": "IPY_MODEL_25ee13a222be47f7aa7ace840025faf2"
      }
     },
     "9b957f4c0f73473bbbedac990c982a59": {
      "model_module": "@jupyter-widgets/base",
      "model_module_version": "1.2.0",
      "model_name": "LayoutModel",
      "state": {
       "display": "none"
      }
     },
     "9bd4a88f96dd4788b9b00af732b2bcb7": {
      "model_module": "@jupyter-widgets/controls",
      "model_module_version": "1.5.0",
      "model_name": "CheckboxModel",
      "state": {
       "disabled": false,
       "layout": "IPY_MODEL_0c00bfc4deeb4823b71af05cd4d04018",
       "style": "IPY_MODEL_4980ab5846d74e13a7f86ed88cb93eae",
       "value": false
      }
     },
     "9bd5591fb73d48c294bb01c8c4651b12": {
      "model_module": "@jupyter-widgets/controls",
      "model_module_version": "1.5.0",
      "model_name": "HTMLModel",
      "state": {
       "layout": "IPY_MODEL_ef41e46e3aeb4780b58a0fbaaca52a7d",
       "style": "IPY_MODEL_d3ea088595d9408e90d6a902fe3e2074",
       "value": "<p>reus foo ous oo ous foo st</p>"
      }
     },
     "9bd747e1d6fd4ebb9eaa4db60acb2147": {
      "model_module": "@jupyter-widgets/controls",
      "model_module_version": "1.5.0",
      "model_name": "HTMLModel",
      "state": {
       "layout": "IPY_MODEL_64cb9d71e4dd4e72a62e9045598ae582",
       "style": "IPY_MODEL_c3c1e2e06eb24043a2564329bcdce422",
       "value": "<p>its a foo cake</p>"
      }
     },
     "9bf6e4bfbd6348438df888f1ef1b15f0": {
      "model_module": "@jupyter-widgets/controls",
      "model_module_version": "1.5.0",
      "model_name": "RadioButtonsModel",
      "state": {
       "_options_labels": [
        "TEMPLATE: C:\\engDev\\git_mf\\MF_Toolbox\\dev\\mf_scripts\\template_inputs\\inputs-docx_to_pdf.json",
        "PROJECT: C:\\engDev\\git_mf\\ipyrun\\ipyrun\\appdata\\inputs\\inputs-docx_to_pdf.json",
        "PROJECT: C:\\engDev\\git_mf\\ipyrun\\ipyrun\\appdata\\inputs\\archive\\20200610_1134-jg-inputs-docx_to_pdf.json",
        "PROJECT: C:\\engDev\\git_mf\\ipyrun\\ipyrun\\appdata\\inputs\\archive\\20200610_1139-jg-inputs-docx_to_pdf.json",
        "PROJECT: C:\\engDev\\git_mf\\ipyrun\\ipyrun\\appdata\\inputs\\archive\\20200610_1218-jg-inputs-docx_to_pdf.json",
        "PROJECT: C:\\engDev\\git_mf\\ipyrun\\ipyrun\\appdata\\inputs\\archive\\20200610_1220-jg-inputs-docx_to_pdf.json",
        "PROJECT: C:\\engDev\\git_mf\\ipyrun\\ipyrun\\appdata\\inputs\\archive\\20200610_1221-jg-inputs-docx_to_pdf.json",
        "PROJECT: C:\\engDev\\git_mf\\ipyrun\\ipyrun\\appdata\\inputs\\archive\\20200610_1224-jg-inputs-docx_to_pdf.json",
        "PROJECT: C:\\engDev\\git_mf\\ipyrun\\ipyrun\\appdata\\inputs\\archive\\20200610_1225-jg-inputs-docx_to_pdf.json",
        "PROJECT: C:\\engDev\\git_mf\\ipyrun\\ipyrun\\appdata\\inputs\\archive\\20200610_1244-jg-inputs-docx_to_pdf.json",
        "PROJECT: C:\\engDev\\git_mf\\ipyrun\\ipyrun\\appdata\\inputs\\archive\\20200610_1246-jg-inputs-docx_to_pdf.json",
        "PROJECT: C:\\engDev\\git_mf\\ipyrun\\ipyrun\\appdata\\inputs\\archive\\20200610_1419-jg-inputs-docx_to_pdf.json",
        "PROJECT: C:\\engDev\\git_mf\\ipyrun\\ipyrun\\appdata\\inputs\\archive\\20200610_1420-jg-inputs-docx_to_pdf.json",
        "PROJECT: C:\\engDev\\git_mf\\ipyrun\\ipyrun\\appdata\\inputs\\archive\\20200610_1422-jg-inputs-docx_to_pdf.json",
        "PROJECT: C:\\engDev\\git_mf\\ipyrun\\ipyrun\\appdata\\inputs\\archive\\20200610_1425-jg-inputs-docx_to_pdf.json",
        "PROJECT: C:\\engDev\\git_mf\\ipyrun\\ipyrun\\appdata\\inputs\\archive\\20200610_1853-jg-inputs-docx_to_pdf.json",
        "PROJECT: C:\\engDev\\git_mf\\ipyrun\\ipyrun\\appdata\\inputs\\archive\\20200610_1855-jg-inputs-docx_to_pdf.json",
        "PROJECT: C:\\engDev\\git_mf\\ipyrun\\ipyrun\\appdata\\inputs\\archive\\20200611_0748-jg-inputs-docx_to_pdf.json",
        "PROJECT: C:\\engDev\\git_mf\\ipyrun\\ipyrun\\appdata\\inputs\\archive\\20200611_0754-jg-inputs-docx_to_pdf.json",
        "PROJECT: C:\\engDev\\git_mf\\ipyrun\\ipyrun\\appdata\\inputs\\archive\\20200611_0757-jg-inputs-docx_to_pdf.json",
        "PROJECT: C:\\engDev\\git_mf\\ipyrun\\ipyrun\\appdata\\inputs\\archive\\20200616_1026-jg-inputs-docx_to_pdf.json"
       ],
       "index": 0,
       "layout": "IPY_MODEL_a4e1031d281e45b4b3bdf10b819b92ad",
       "style": "IPY_MODEL_c2e225c3cb62400ab7848ab46ec36890"
      }
     },
     "9c2fa9b209cd4dd0aef16ca3df898ac9": {
      "model_module": "@jupyter-widgets/controls",
      "model_module_version": "1.5.0",
      "model_name": "VBoxModel",
      "state": {
       "layout": "IPY_MODEL_fd2fc9aee2984b1b86cdad10fb0fcbd5"
      }
     },
     "9c9202e9354a47a29fb4d1361ed14a94": {
      "model_module": "@jupyter-widgets/controls",
      "model_module_version": "1.5.0",
      "model_name": "HBoxModel",
      "state": {
       "children": [
        "IPY_MODEL_163daaef85b24c04858d470aa6f536f8"
       ],
       "layout": "IPY_MODEL_03203008c2ba4116892984484d9b1282"
      }
     },
     "9ce34b39f7e342458dedf642f6f854d1": {
      "model_module": "@jupyter-widgets/controls",
      "model_module_version": "1.5.0",
      "model_name": "VBoxModel",
      "state": {
       "children": [
        "IPY_MODEL_b4e378a408ae465d8d2806f9ca619e60",
        "IPY_MODEL_5a9220314b864852b586f39dd1bca460",
        "IPY_MODEL_17b53472b3d64fb48a7d6119dda0f7bc"
       ],
       "layout": "IPY_MODEL_857a9790f8f54e63be4d69ba0dc0b1fc"
      }
     },
     "9ced48c11c924b1487fdeb02805e7848": {
      "model_module": "@jupyter-widgets/controls",
      "model_module_version": "1.5.0",
      "model_name": "HBoxModel",
      "state": {
       "children": [
        "IPY_MODEL_fc21b5ac6cb443f9bc1b5b1b9032e399",
        "IPY_MODEL_bec0260b3e594e60a8a11acef684a0a2",
        "IPY_MODEL_c66bd3b7508f4b16878da803278a254f"
       ],
       "layout": "IPY_MODEL_7d782c352f744006bd514a551874985d"
      }
     },
     "9d1321204ac740d09d36695e369df117": {
      "model_module": "@jupyter-widgets/base",
      "model_module_version": "1.2.0",
      "model_name": "LayoutModel",
      "state": {}
     },
     "9d15d17ad0554476a461b30f03eb57c1": {
      "model_module": "@jupyter-widgets/output",
      "model_module_version": "1.0.0",
      "model_name": "OutputModel",
      "state": {
       "layout": "IPY_MODEL_069b9d0ec6e3429ab6395d485360b262"
      }
     },
     "9d4899a225724b10b3ef8329c8d38401": {
      "model_module": "@jupyter-widgets/controls",
      "model_module_version": "1.5.0",
      "model_name": "HBoxModel",
      "state": {
       "children": [
        "IPY_MODEL_cf00b1c91a8e4a7daa53e2521eea3e1c",
        "IPY_MODEL_e91809883ad3459da53e6d4ceb9d3b56"
       ],
       "layout": "IPY_MODEL_d92238aae8a743c08b179124f4ac03b9"
      }
     },
     "9d771adc975d449786e9298705a0707f": {
      "model_module": "@jupyter-widgets/controls",
      "model_module_version": "1.5.0",
      "model_name": "HBoxModel",
      "state": {
       "children": [
        "IPY_MODEL_f94f73ae53e34e218b226006f2464443",
        "IPY_MODEL_d08b7c512e9a45cb88f4dec4bb68eee3"
       ],
       "layout": "IPY_MODEL_8a48deac9c824ab394d47ae1d62c8f0d"
      }
     },
     "9d9c53038ea24a17a18bd241e5381de9": {
      "model_module": "@jupyter-widgets/controls",
      "model_module_version": "1.5.0",
      "model_name": "HTMLModel",
      "state": {
       "layout": "IPY_MODEL_f8e8ab752d5c49be88672fc43e3b74d6",
       "style": "IPY_MODEL_045d343dcf0f4f7f9666ca9c04cc2542",
       "value": "<p>its a foo cake</p>"
      }
     },
     "9dae7a30a59448859b7af2c583709349": {
      "model_module": "@jupyter-widgets/output",
      "model_module_version": "1.0.0",
      "model_name": "OutputModel",
      "state": {
       "layout": "IPY_MODEL_53ba42e74fac45d5b7805938bfee64cc"
      }
     },
     "9dbb0d93014143a0a20b96c1c69f2e8b": {
      "model_module": "@jupyter-widgets/controls",
      "model_module_version": "1.5.0",
      "model_name": "HBoxModel",
      "state": {
       "children": [
        "IPY_MODEL_a59e934bf1f648539f52111e09667cea",
        "IPY_MODEL_e7fd4ec55fd44fd0b0235219d5d90aa4"
       ],
       "layout": "IPY_MODEL_6a9b3a68b48946db9e2e012d2e914c6d"
      }
     },
     "9dc44ab33b3e47a79ac70743dfe99812": {
      "model_module": "@jupyter-widgets/base",
      "model_module_version": "1.2.0",
      "model_name": "LayoutModel",
      "state": {
       "align_items": "stretch",
       "display": "flex",
       "flex_flow": "row",
       "grid_auto_columns": "True",
       "justify_content": "flex-start",
       "width": "80%"
      }
     },
     "9dd46cd52634493d83b3c2451023fa3c": {
      "model_module": "@jupyter-widgets/controls",
      "model_module_version": "1.5.0",
      "model_name": "HBoxModel",
      "state": {
       "children": [
        "IPY_MODEL_82e3164be57b4160a4d645a12be3e96a",
        "IPY_MODEL_52192523acf2497190520c9a01e6937d"
       ],
       "layout": "IPY_MODEL_93d902bc627a4598b07fa9693b0d0e56"
      }
     },
     "9e02f78b86854090b44018ef13a5c7be": {
      "model_module": "@jupyter-widgets/controls",
      "model_module_version": "1.5.0",
      "model_name": "HTMLModel",
      "state": {
       "layout": "IPY_MODEL_7289722867a14cef98b5398e807886c9",
       "style": "IPY_MODEL_f30b332da9c74dc8b5d5b335e152f7f3",
       "value": "<p>its a foo cake</p>"
      }
     },
     "9e0f72d9490a408bbce0f792015e50b4": {
      "model_module": "@jupyter-widgets/controls",
      "model_module_version": "1.5.0",
      "model_name": "HBoxModel",
      "state": {
       "children": [
        "IPY_MODEL_afdab563c30e4587bdc73ad9267f59d1"
       ],
       "layout": "IPY_MODEL_5042964a8c91474ebb04460ef5f8c162"
      }
     },
     "9e21f9d8ad244e609843322f9a71015d": {
      "model_module": "@jupyter-widgets/controls",
      "model_module_version": "1.5.0",
      "model_name": "HBoxModel",
      "state": {
       "children": [
        "IPY_MODEL_f59f7ccc84174ba2b65d212eb3d816b5",
        "IPY_MODEL_e562c5d28c0e4c8990d7c8a7f275a67f"
       ],
       "layout": "IPY_MODEL_2b7bf49a3cf44aae9807c6cb0ca49d9d"
      }
     },
     "9e24ea88ed204a018f446a0850f943b1": {
      "model_module": "@jupyter-widgets/controls",
      "model_module_version": "1.5.0",
      "model_name": "HBoxModel",
      "state": {
       "children": [
        "IPY_MODEL_0b9147735c874ea1a798ef8a0f295c20",
        "IPY_MODEL_5f245bc5e4344de6af8a00ec4687ac05",
        "IPY_MODEL_1308a2f496dd4c10bf3ad934e3520bec"
       ],
       "layout": "IPY_MODEL_ec68e90c104e4777b4e04a8f7194a9b5"
      }
     },
     "9e4c07e891b746c7981bc7f6ec1b70d0": {
      "model_module": "@jupyter-widgets/controls",
      "model_module_version": "1.5.0",
      "model_name": "DescriptionStyleModel",
      "state": {
       "description_width": ""
      }
     },
     "9e5659286a14441ba2995d77c7bc3902": {
      "model_module": "@jupyter-widgets/controls",
      "model_module_version": "1.5.0",
      "model_name": "VBoxModel",
      "state": {
       "children": [
        "IPY_MODEL_4f822cb0464041a291f90a7b67c4297c",
        "IPY_MODEL_97c6c5678c5f4f90af4f780924b90ff2"
       ],
       "layout": "IPY_MODEL_2d9160ffe522492fa8b560697c0438ae"
      }
     },
     "9e76b6966fa24681b72c6cfc01bfa594": {
      "model_module": "@jupyter-widgets/base",
      "model_module_version": "1.2.0",
      "model_name": "LayoutModel",
      "state": {}
     },
     "9e7e214e469942b08f31e2e6180b5cad": {
      "model_module": "@jupyter-widgets/controls",
      "model_module_version": "1.5.0",
      "model_name": "HBoxModel",
      "state": {
       "children": [
        "IPY_MODEL_8bbeb3e18aef49e59c3b3d05f30dc55a",
        "IPY_MODEL_d8209c2028894b8483283a2f885067b2"
       ],
       "layout": "IPY_MODEL_873eb3390e7a4b618106fe7c62b4391a"
      }
     },
     "9eb3556a9a464b50b968ba69e681decb": {
      "model_module": "@jupyter-widgets/base",
      "model_module_version": "1.2.0",
      "model_name": "LayoutModel",
      "state": {}
     },
     "9ecb11fc626e4f758f87171599666419": {
      "model_module": "@jupyter-widgets/controls",
      "model_module_version": "1.5.0",
      "model_name": "HBoxModel",
      "state": {
       "children": [
        "IPY_MODEL_73cbe2e0af6e45b1a20b46ce11dcb7f4",
        "IPY_MODEL_b80bbf775c8a4e548a0c6b33b8322725"
       ],
       "layout": "IPY_MODEL_bc44635eeef345ae809feab7ec9e2548"
      }
     },
     "9ed47d7aff0741088990ba42d89afdc1": {
      "model_module": "@jupyter-widgets/controls",
      "model_module_version": "1.5.0",
      "model_name": "DescriptionStyleModel",
      "state": {
       "description_width": ""
      }
     },
     "9f119c07933e4e328e933eecb88efe64": {
      "model_module": "@jupyter-widgets/controls",
      "model_module_version": "1.5.0",
      "model_name": "HBoxModel",
      "state": {
       "children": [
        "IPY_MODEL_fc134783f2064b8b81748009bb1876cd"
       ],
       "layout": "IPY_MODEL_0bc1044aae084547b62d7b4c94be1748"
      }
     },
     "9f5464f5e7a6400690ee980b5ede6f98": {
      "model_module": "@jupyter-widgets/base",
      "model_module_version": "1.2.0",
      "model_name": "LayoutModel",
      "state": {}
     },
     "9f7a2948be6d4b1c8d1e892a3a59331c": {
      "model_module": "@jupyter-widgets/controls",
      "model_module_version": "1.5.0",
      "model_name": "TextareaModel",
      "state": {
       "layout": "IPY_MODEL_bade4957889544ecaa0cb0c6f1a60b8f",
       "style": "IPY_MODEL_4e06206d57fb4f1f8cf6c6d6a792ee53"
      }
     },
     "9fadaff2f3a246c299a114f750dbfe9a": {
      "model_module": "@jupyter-widgets/base",
      "model_module_version": "1.2.0",
      "model_name": "LayoutModel",
      "state": {
       "align_items": "stretch",
       "display": "flex",
       "flex_flow": "row",
       "grid_auto_columns": "True",
       "justify_content": "flex-start",
       "width": "80%"
      }
     },
     "9fb7ed95aae4468fbb847e529908594e": {
      "model_module": "@jupyter-widgets/controls",
      "model_module_version": "1.5.0",
      "model_name": "HBoxModel",
      "state": {
       "children": [
        "IPY_MODEL_86446e42d5d649f59820b396b9af437a",
        "IPY_MODEL_7d52789985c243c58d394c7f277a45ed"
       ],
       "layout": "IPY_MODEL_1e0f6b1a0f964188a1a1dbee5311dbbb"
      }
     },
     "9fec3a7f8dc9489396c6f91620915d9a": {
      "model_module": "@jupyter-widgets/controls",
      "model_module_version": "1.5.0",
      "model_name": "DescriptionStyleModel",
      "state": {
       "description_width": ""
      }
     },
     "a00e1afe10724cd8a41777396694d2a5": {
      "model_module": "@jupyter-widgets/base",
      "model_module_version": "1.2.0",
      "model_name": "LayoutModel",
      "state": {}
     },
     "a06f8fe94da641a98d3a72453914f665": {
      "model_module": "@jupyter-widgets/base",
      "model_module_version": "1.2.0",
      "model_name": "LayoutModel",
      "state": {
       "align_items": "stretch",
       "display": "flex",
       "flex_flow": "row",
       "grid_auto_columns": "True",
       "justify_content": "flex-end",
       "width": "90%"
      }
     },
     "a085146fa3c740f8809c55a4ca4e456f": {
      "model_module": "@jupyter-widgets/controls",
      "model_module_version": "1.5.0",
      "model_name": "HBoxModel",
      "state": {
       "children": [
        "IPY_MODEL_c520e96e1bd6438691addb136f5b73e5",
        "IPY_MODEL_4c2d64f4475e4e4b9d32a624af3a1f76"
       ],
       "layout": "IPY_MODEL_f09cdac23ec64e4a8e7d3c14d8be1699"
      }
     },
     "a0dc524b7cb041da9092766f7e08bab1": {
      "model_module": "@jupyter-widgets/base",
      "model_module_version": "1.2.0",
      "model_name": "LayoutModel",
      "state": {}
     },
     "a0ebf50a431445f9b81003b97037d607": {
      "model_module": "@jupyter-widgets/controls",
      "model_module_version": "1.5.0",
      "model_name": "HTMLModel",
      "state": {
       "layout": "IPY_MODEL_9d1321204ac740d09d36695e369df117",
       "style": "IPY_MODEL_40c9591cf4314322b1ca9757a6887108",
       "value": "<p>defines the logic of the space naming. use default value where practical.</p>"
      }
     },
     "a0f3df47c380493fb91bd41cb64e1e70": {
      "model_module": "@jupyter-widgets/controls",
      "model_module_version": "1.5.0",
      "model_name": "DescriptionStyleModel",
      "state": {
       "description_width": ""
      }
     },
     "a1252af1a6a34601bfd26317e64de158": {
      "model_module": "@jupyter-widgets/controls",
      "model_module_version": "1.5.0",
      "model_name": "DescriptionStyleModel",
      "state": {
       "description_width": ""
      }
     },
     "a13880fbd2034912afada0c7f6edf257": {
      "model_module": "@jupyter-widgets/controls",
      "model_module_version": "1.5.0",
      "model_name": "HBoxModel",
      "state": {
       "children": [
        "IPY_MODEL_d09fecf4f3dd4781bafb494fc93c1c21",
        "IPY_MODEL_583dc69ac96a430d9aa8662521865ed2",
        "IPY_MODEL_cebd5f1633e54ea5912d49dbafc85479"
       ],
       "layout": "IPY_MODEL_d6307fb880334900b2bb510f35f8ef00"
      }
     },
     "a16f194ab59c42f1ab59efbe21362dbe": {
      "model_module": "@jupyter-widgets/controls",
      "model_module_version": "1.5.0",
      "model_name": "ButtonStyleModel",
      "state": {}
     },
     "a191f132d630448c8d3cfc877e54a3fe": {
      "model_module": "@jupyter-widgets/base",
      "model_module_version": "1.2.0",
      "model_name": "LayoutModel",
      "state": {
       "align_items": "stretch",
       "display": "flex",
       "flex_flow": "row",
       "grid_auto_columns": "True",
       "justify_content": "flex-start",
       "width": "80%"
      }
     },
     "a1c1bdbb9e0c49ba8d6bf861e4088234": {
      "model_module": "@jupyter-widgets/base",
      "model_module_version": "1.2.0",
      "model_name": "LayoutModel",
      "state": {
       "align_items": "stretch",
       "display": "flex",
       "flex_flow": "row",
       "grid_auto_columns": "True",
       "justify_content": "flex-start",
       "width": "80%"
      }
     },
     "a2957970a9d747979a5045a7e3eff859": {
      "model_module": "@jupyter-widgets/base",
      "model_module_version": "1.2.0",
      "model_name": "LayoutModel",
      "state": {
       "align_items": "stretch",
       "display": "flex",
       "flex_flow": "row",
       "grid_auto_columns": "True",
       "justify_content": "flex-start",
       "width": "80%"
      }
     },
     "a2e4351082fd46a2b95daa2627f59960": {
      "model_module": "@jupyter-widgets/controls",
      "model_module_version": "1.5.0",
      "model_name": "HBoxModel",
      "state": {
       "children": [
        "IPY_MODEL_55b86341452d4e089dd73e25d0ff9d8c",
        "IPY_MODEL_72e812e4673c42f8ae6f784596c8e8e4"
       ],
       "layout": "IPY_MODEL_d85d142e84104812b84d38d0fe063f01"
      }
     },
     "a33882fd6ae84a208edf7cc16a940161": {
      "model_module": "@jupyter-widgets/controls",
      "model_module_version": "1.5.0",
      "model_name": "HTMLModel",
      "state": {
       "layout": "IPY_MODEL_37a9547457764a6ba9d7db274d5e2ff3",
       "style": "IPY_MODEL_008905e97162422faedb99150f650c80",
       "value": "<p>fus foo ous o</p>"
      }
     },
     "a3591a9e06c34374971e38968fc60443": {
      "model_module": "@jupyter-widgets/base",
      "model_module_version": "1.2.0",
      "model_name": "LayoutModel",
      "state": {
       "align_items": "stretch",
       "display": "flex",
       "flex_flow": "row",
       "grid_auto_columns": "True",
       "justify_content": "flex-start",
       "width": "80%"
      }
     },
     "a373e9d6cd8947fc91beaf3767dc0177": {
      "model_module": "@jupyter-widgets/base",
      "model_module_version": "1.2.0",
      "model_name": "LayoutModel",
      "state": {
       "align_items": "stretch",
       "display": "flex",
       "flex_flow": "row",
       "grid_auto_columns": "True",
       "justify_content": "flex-end",
       "width": "90%"
      }
     },
     "a37b25722f964dd0b5701c2a13c2d8e7": {
      "model_module": "@jupyter-widgets/base",
      "model_module_version": "1.2.0",
      "model_name": "LayoutModel",
      "state": {}
     },
     "a39700d9a3bb41cd80120b51a28fa2d2": {
      "model_module": "@jupyter-widgets/base",
      "model_module_version": "1.2.0",
      "model_name": "LayoutModel",
      "state": {}
     },
     "a39d3bc7656b482fb3fd404e0a943a39": {
      "model_module": "@jupyter-widgets/controls",
      "model_module_version": "1.5.0",
      "model_name": "DescriptionStyleModel",
      "state": {
       "description_width": ""
      }
     },
     "a3b64bd7cf54423094bdcb838b081a45": {
      "model_module": "@jupyter-widgets/controls",
      "model_module_version": "1.5.0",
      "model_name": "HBoxModel",
      "state": {
       "children": [
        "IPY_MODEL_9f7a2948be6d4b1c8d1e892a3a59331c",
        "IPY_MODEL_401e33aafc33482b911d9da1ed6e1455"
       ],
       "layout": "IPY_MODEL_c6252f5f068649e7be79f19fe713f45b"
      }
     },
     "a3d2be44b5f04594b0b5ed183faf5274": {
      "model_module": "@jupyter-widgets/base",
      "model_module_version": "1.2.0",
      "model_name": "LayoutModel",
      "state": {}
     },
     "a3de0d72b599420ea1b030903872472c": {
      "model_module": "@jupyter-widgets/base",
      "model_module_version": "1.2.0",
      "model_name": "LayoutModel",
      "state": {
       "align_items": "stretch",
       "border": "dashed 0.2px green",
       "display": "flex",
       "flex_flow": "row",
       "grid_auto_columns": "True",
       "justify_content": "flex-start",
       "width": "100%"
      }
     },
     "a40dc548199a4627a6b733e2260ccac7": {
      "model_module": "@jupyter-widgets/controls",
      "model_module_version": "1.5.0",
      "model_name": "HTMLModel",
      "state": {
       "layout": "IPY_MODEL_3d0863297ee84d189c3e419be486e2a7",
       "style": "IPY_MODEL_5560c4bfa6d84d899968c11399974168",
       "value": "<p>fus foo ous o</p>"
      }
     },
     "a494d0102f814c3fbd444f5d10c73e03": {
      "model_module": "@jupyter-widgets/base",
      "model_module_version": "1.2.0",
      "model_name": "LayoutModel",
      "state": {
       "align_items": "stretch",
       "border": "dashed 0.2px green",
       "display": "flex",
       "flex_flow": "row",
       "grid_auto_columns": "True",
       "justify_content": "flex-start",
       "width": "100%"
      }
     },
     "a4d48bcde3374329a2fc1d6896a19778": {
      "model_module": "@jupyter-widgets/controls",
      "model_module_version": "1.5.0",
      "model_name": "HTMLModel",
      "state": {
       "layout": "IPY_MODEL_e0ce3dbcdb594612a00d3c8ef7e158c2",
       "style": "IPY_MODEL_dd480c6ee1034756b582d71247a6e3dd",
       "value": "<p>its a foo cake</p>"
      }
     },
     "a4e1031d281e45b4b3bdf10b819b92ad": {
      "model_module": "@jupyter-widgets/base",
      "model_module_version": "1.2.0",
      "model_name": "LayoutModel",
      "state": {
       "display": "flex",
       "flex_flow": "row",
       "grid_auto_columns": "False",
       "justify_content": "flex-start",
       "width": "100%"
      }
     },
     "a507d45b88b044fb94e9d800eadd67b1": {
      "model_module": "@jupyter-widgets/output",
      "model_module_version": "1.0.0",
      "model_name": "OutputModel",
      "state": {
       "layout": "IPY_MODEL_4fe980b105224e788cee9b362bc83a0f"
      }
     },
     "a543e6a4a83f4bcdb3200f734a6741e2": {
      "model_module": "@jupyter-widgets/controls",
      "model_module_version": "1.5.0",
      "model_name": "HBoxModel",
      "state": {
       "children": [
        "IPY_MODEL_b9cd046dab524501bf626944d810c143",
        "IPY_MODEL_f8a85dd027af41199dac55ee9589cf6a"
       ],
       "layout": "IPY_MODEL_b5b786d7bcbd4dec97b08069638d0c17"
      }
     },
     "a54dd70272a241de9ed4bb3eeffcf2d2": {
      "model_module": "@jupyter-widgets/base",
      "model_module_version": "1.2.0",
      "model_name": "LayoutModel",
      "state": {}
     },
     "a5651a30e4294ae6b8bc1351101909c3": {
      "model_module": "@jupyter-widgets/controls",
      "model_module_version": "1.5.0",
      "model_name": "ToggleButtonModel",
      "state": {
       "icon": "arrow-down",
       "layout": "IPY_MODEL_d397a2dbf8d446c687e3e195015ad935",
       "style": "IPY_MODEL_5bdbcf4a9e3f4604bbe62874899169a5"
      }
     },
     "a59e934bf1f648539f52111e09667cea": {
      "model_module": "@jupyter-widgets/controls",
      "model_module_version": "1.5.0",
      "model_name": "HTMLModel",
      "state": {
       "layout": "IPY_MODEL_c45f2ebed08c411b8c508f5adc1c9c98",
       "style": "IPY_MODEL_b4a4d17680a04e4180e1ecebe721465c",
       "value": "<p>reus foo ous oo ous foo st</p>"
      }
     },
     "a5b07713d7ab4adb9b3be6f6d606aab0": {
      "model_module": "@jupyter-widgets/base",
      "model_module_version": "1.2.0",
      "model_name": "LayoutModel",
      "state": {
       "align_items": "stretch",
       "display": "flex",
       "flex_flow": "row",
       "grid_auto_columns": "True",
       "justify_content": "flex-start",
       "width": "80%"
      }
     },
     "a5b23646d1904a5b83deb9e154bfc2fc": {
      "model_module": "@jupyter-widgets/controls",
      "model_module_version": "1.5.0",
      "model_name": "DescriptionStyleModel",
      "state": {
       "description_width": ""
      }
     },
     "a5c5eed1f7634bbfac8b19c5efa426f2": {
      "model_module": "@jupyter-widgets/controls",
      "model_module_version": "1.5.0",
      "model_name": "DescriptionStyleModel",
      "state": {
       "description_width": ""
      }
     },
     "a6215eb67ac14f62888b5f4f6107f3b3": {
      "model_module": "@jupyter-widgets/base",
      "model_module_version": "1.2.0",
      "model_name": "LayoutModel",
      "state": {
       "align_items": "stretch",
       "display": "flex",
       "flex_flow": "row",
       "grid_auto_columns": "True",
       "justify_content": "flex-start",
       "width": "80%"
      }
     },
     "a6307d24a9d04d3eb30f7787ced0f81f": {
      "model_module": "@jupyter-widgets/controls",
      "model_module_version": "1.5.0",
      "model_name": "HBoxModel",
      "state": {
       "children": [
        "IPY_MODEL_fa0c2cb4e4724b4c8f1f3c40fd4f5cde",
        "IPY_MODEL_5e92fcd2323d4e7cb19b1943075d01a8"
       ],
       "layout": "IPY_MODEL_b5e0a0e178f541a692d5c8fc87dc8b64"
      }
     },
     "a6714fbe77004043adc9508008aab6f1": {
      "model_module": "@jupyter-widgets/controls",
      "model_module_version": "1.5.0",
      "model_name": "HBoxModel",
      "state": {
       "children": [
        "IPY_MODEL_2a3e97e8c0144b5b8651289a6e9cb61d",
        "IPY_MODEL_eef6dcaec8bf4915a645edf8a718f2a2"
       ],
       "layout": "IPY_MODEL_c6cb0fcb71ce4079a916d77058a829a4"
      }
     },
     "a677d60eedb3431188f3c66d7ab19e39": {
      "model_module": "@jupyter-widgets/output",
      "model_module_version": "1.0.0",
      "model_name": "OutputModel",
      "state": {
       "layout": "IPY_MODEL_239405749d1845c3b4f65f6282bda4ec"
      }
     },
     "a686ffd7635d49128c3f0661e1bd8685": {
      "model_module": "@jupyter-widgets/controls",
      "model_module_version": "1.5.0",
      "model_name": "HBoxModel",
      "state": {
       "children": [
        "IPY_MODEL_e84211e3d90440d39286097130c40a98",
        "IPY_MODEL_85aa35a2baf5438582e9b0995635e01c"
       ],
       "layout": "IPY_MODEL_c870a75e3e9a4e088013b7896a778cd7"
      }
     },
     "a6a52a8e15ac4b72aeac7de1875bdb55": {
      "model_module": "@jupyter-widgets/base",
      "model_module_version": "1.2.0",
      "model_name": "LayoutModel",
      "state": {}
     },
     "a6d31f469c1d4fd98c0c34d7860ef163": {
      "model_module": "@jupyter-widgets/controls",
      "model_module_version": "1.5.0",
      "model_name": "HTMLModel",
      "state": {
       "layout": "IPY_MODEL_b9a2142bfb7142318a446371fcc8f7cb",
       "style": "IPY_MODEL_34637c8edb114c8896c131b2635a71df"
      }
     },
     "a6f8f87f1d7848b5903476c1ce2a15a7": {
      "model_module": "@jupyter-widgets/base",
      "model_module_version": "1.2.0",
      "model_name": "LayoutModel",
      "state": {}
     },
     "a70758256c1842be8180ab2469dd0108": {
      "model_module": "@jupyter-widgets/controls",
      "model_module_version": "1.5.0",
      "model_name": "HTMLModel",
      "state": {
       "layout": "IPY_MODEL_0a0cc30bc52b42dd9010d95852179747",
       "style": "IPY_MODEL_66b990d8dd9040a49f0cac977ca77edb",
       "value": "<p>fus foo ous o</p>"
      }
     },
     "a7146156c95a4fa9b118a7d6b1dd49ab": {
      "model_module": "@jupyter-widgets/controls",
      "model_module_version": "1.5.0",
      "model_name": "HTMLModel",
      "state": {
       "layout": "IPY_MODEL_202fa5b99ce841d2acd906a3faa554b3",
       "style": "IPY_MODEL_138453f415354bee844fbb9bfc386526",
       "value": "<p>fpth_in</p>"
      }
     },
     "a7e5bc5be78749e58cca7b531ea3fcfe": {
      "model_module": "@jupyter-widgets/base",
      "model_module_version": "1.2.0",
      "model_name": "LayoutModel",
      "state": {
       "align_items": "stretch",
       "border": "dashed 0.2px green",
       "display": "flex",
       "flex_flow": "row",
       "grid_auto_columns": "True",
       "justify_content": "flex-start",
       "width": "100%"
      }
     },
     "a804ba6e25344108a244e0908009a437": {
      "model_module": "@jupyter-widgets/controls",
      "model_module_version": "1.5.0",
      "model_name": "HBoxModel",
      "state": {
       "children": [
        "IPY_MODEL_ea53413dd7114625a35388f10d115eff",
        "IPY_MODEL_c9313c8d045b4797a13154b3e440ff4d"
       ],
       "layout": "IPY_MODEL_2a7857cee5b5498982b04f408b9cf963"
      }
     },
     "a8098fc989904ab78a020aa1c2c27093": {
      "model_module": "@jupyter-widgets/base",
      "model_module_version": "1.2.0",
      "model_name": "LayoutModel",
      "state": {}
     },
     "a82dcb9918ad4c5b9952297dda6f9d16": {
      "model_module": "@jupyter-widgets/base",
      "model_module_version": "1.2.0",
      "model_name": "LayoutModel",
      "state": {
       "align_items": "stretch",
       "border": "dashed 0.2px green",
       "display": "flex",
       "flex_flow": "row",
       "grid_auto_columns": "True",
       "justify_content": "flex-start",
       "width": "100%"
      }
     },
     "a8340b8cb56a4cc2a93232f4fa694d94": {
      "model_module": "@jupyter-widgets/base",
      "model_module_version": "1.2.0",
      "model_name": "LayoutModel",
      "state": {
       "align_items": "stretch",
       "display": "flex",
       "flex_flow": "row",
       "grid_auto_columns": "True",
       "justify_content": "flex-start",
       "width": "80%"
      }
     },
     "a855e07cfe2344e48079c6e1d4e465ae": {
      "model_module": "@jupyter-widgets/controls",
      "model_module_version": "1.5.0",
      "model_name": "DescriptionStyleModel",
      "state": {
       "description_width": ""
      }
     },
     "a875b02891804d789f36b14459806839": {
      "model_module": "@jupyter-widgets/controls",
      "model_module_version": "1.5.0",
      "model_name": "HBoxModel",
      "state": {
       "children": [
        "IPY_MODEL_9b3fa84d086c4431bdb6792f9f3565f4"
       ],
       "layout": "IPY_MODEL_80618d608c9c48bb951791248c14bd1d"
      }
     },
     "a87c483ef1214114930e5e4262c1eeb5": {
      "model_module": "@jupyter-widgets/base",
      "model_module_version": "1.2.0",
      "model_name": "LayoutModel",
      "state": {}
     },
     "a8e46be000be4b8eb90beb02d933e38d": {
      "model_module": "@jupyter-widgets/base",
      "model_module_version": "1.2.0",
      "model_name": "LayoutModel",
      "state": {}
     },
     "a92e8cc640724d1da553299431345e05": {
      "model_module": "@jupyter-widgets/controls",
      "model_module_version": "1.5.0",
      "model_name": "HTMLModel",
      "state": {
       "layout": "IPY_MODEL_8c1ced79cfa243faa61f33cbab13f3ca",
       "style": "IPY_MODEL_09ac6ac88c714b46bcd926767e34fd04",
       "value": "<p>label</p>"
      }
     },
     "a933e92da65c4aa9bbc7c395ac87fc4d": {
      "model_module": "@jupyter-widgets/controls",
      "model_module_version": "1.5.0",
      "model_name": "HTMLModel",
      "state": {
       "layout": "IPY_MODEL_290950283bfc4cc0837547a83ed72d92",
       "style": "IPY_MODEL_cce212bb875448fdab6f51b8fa87fa4f",
       "value": "<p>its a foo cake</p>"
      }
     },
     "a95952b3fec5482aac0d8b75bebd80d5": {
      "model_module": "@jupyter-widgets/base",
      "model_module_version": "1.2.0",
      "model_name": "LayoutModel",
      "state": {
       "align_items": "stretch",
       "display": "flex",
       "flex_flow": "row",
       "grid_auto_columns": "True",
       "justify_content": "flex-end",
       "width": "90%"
      }
     },
     "a9731ea7d2f24d2db90fbe6a634547ea": {
      "model_module": "@jupyter-widgets/output",
      "model_module_version": "1.0.0",
      "model_name": "OutputModel",
      "state": {
       "layout": "IPY_MODEL_5f169a0a5e654e269bc8192068a34900"
      }
     },
     "a97bf7f4721c45d5995156938cb1b464": {
      "model_module": "@jupyter-widgets/controls",
      "model_module_version": "1.5.0",
      "model_name": "DescriptionStyleModel",
      "state": {
       "description_width": ""
      }
     },
     "a9b727308fcb47278c82f2d3db79e914": {
      "model_module": "@jupyter-widgets/controls",
      "model_module_version": "1.5.0",
      "model_name": "DescriptionStyleModel",
      "state": {
       "description_width": ""
      }
     },
     "a9bfa91b26204b68a391243826d6f7d3": {
      "model_module": "@jupyter-widgets/base",
      "model_module_version": "1.2.0",
      "model_name": "LayoutModel",
      "state": {}
     },
     "aa150071574649babf64a424104e601f": {
      "model_module": "@jupyter-widgets/controls",
      "model_module_version": "1.5.0",
      "model_name": "VBoxModel",
      "state": {
       "children": [
        "IPY_MODEL_9d4899a225724b10b3ef8329c8d38401",
        "IPY_MODEL_45611d9efc52469289616487b24d4890",
        "IPY_MODEL_92357887ac0d4583a3bd8abfc91ded54",
        "IPY_MODEL_67ac3b5b442e4078bf08d7dd633b0f3f",
        "IPY_MODEL_9852307162374575ab359ca7a1335925",
        "IPY_MODEL_975b8b4d531e447093064c290cea1f47",
        "IPY_MODEL_21ed68c229104710b71ca3cd62e1714e",
        "IPY_MODEL_fe47918a5b23490faaff22935b725ed9"
       ],
       "layout": "IPY_MODEL_8e82b138be884ebfba812cdea4f2c033"
      }
     },
     "ab15f66038064bd4980fee453db38e42": {
      "model_module": "@jupyter-widgets/base",
      "model_module_version": "1.2.0",
      "model_name": "LayoutModel",
      "state": {
       "align_items": "stretch",
       "display": "flex",
       "flex_flow": "row",
       "grid_auto_columns": "True",
       "justify_content": "flex-end",
       "width": "90%"
      }
     },
     "ab2ff3cbead7469b97cd900e9eb60049": {
      "model_module": "@jupyter-widgets/controls",
      "model_module_version": "1.5.0",
      "model_name": "DescriptionStyleModel",
      "state": {
       "description_width": ""
      }
     },
     "ab86935b4ed34d34912ab31f9e2d0f5d": {
      "model_module": "@jupyter-widgets/controls",
      "model_module_version": "1.5.0",
      "model_name": "DescriptionStyleModel",
      "state": {
       "description_width": ""
      }
     },
     "abd85ba5d34843369b2a567df3a1ccf7": {
      "model_module": "@jupyter-widgets/base",
      "model_module_version": "1.2.0",
      "model_name": "LayoutModel",
      "state": {}
     },
     "abd8af1581774ce1a48753f9759dfcfd": {
      "model_module": "@jupyter-widgets/base",
      "model_module_version": "1.2.0",
      "model_name": "LayoutModel",
      "state": {}
     },
     "ac21e627dfdb4650b35f7d046cd02ca5": {
      "model_module": "@jupyter-widgets/base",
      "model_module_version": "1.2.0",
      "model_name": "LayoutModel",
      "state": {
       "align_items": "stretch",
       "border": "dashed 0.2px green",
       "display": "flex",
       "flex_flow": "row",
       "grid_auto_columns": "True",
       "justify_content": "flex-start",
       "width": "100%"
      }
     },
     "ac49c27ee60f40b3857663e7e78cdfb0": {
      "model_module": "@jupyter-widgets/base",
      "model_module_version": "1.2.0",
      "model_name": "LayoutModel",
      "state": {}
     },
     "ac4d247fb16f4286bd1a98916ea58b45": {
      "model_module": "@jupyter-widgets/controls",
      "model_module_version": "1.5.0",
      "model_name": "DescriptionStyleModel",
      "state": {
       "description_width": ""
      }
     },
     "ac843f9f2c8d405c88f0bfe07e5ec3bf": {
      "model_module": "@jupyter-widgets/base",
      "model_module_version": "1.2.0",
      "model_name": "LayoutModel",
      "state": {
       "align_items": "stretch",
       "display": "flex",
       "flex_flow": "row",
       "grid_auto_columns": "True",
       "justify_content": "flex-start",
       "width": "80%"
      }
     },
     "ac8fcc702a434c44bf5021d160387b62": {
      "model_module": "@jupyter-widgets/base",
      "model_module_version": "1.2.0",
      "model_name": "LayoutModel",
      "state": {
       "width": "5%"
      }
     },
     "aca0e377f90040f8ab9a26626ee1137e": {
      "model_module": "@jupyter-widgets/base",
      "model_module_version": "1.2.0",
      "model_name": "LayoutModel",
      "state": {
       "align_items": "stretch",
       "border": "dashed 0.2px green",
       "display": "flex",
       "flex_flow": "row",
       "grid_auto_columns": "True",
       "justify_content": "flex-start",
       "width": "100%"
      }
     },
     "accfef8e2cf24294936250a271b5a2d2": {
      "model_module": "@jupyter-widgets/controls",
      "model_module_version": "1.5.0",
      "model_name": "DescriptionStyleModel",
      "state": {
       "description_width": ""
      }
     },
     "acdf0ae65975490c94cb79a3425ce1cf": {
      "model_module": "@jupyter-widgets/controls",
      "model_module_version": "1.5.0",
      "model_name": "DescriptionStyleModel",
      "state": {
       "description_width": ""
      }
     },
     "ad135d69eca64f09b99bf517393aa75e": {
      "model_module": "@jupyter-widgets/base",
      "model_module_version": "1.2.0",
      "model_name": "LayoutModel",
      "state": {
       "display": "flex",
       "flex_flow": "row",
       "grid_auto_columns": "False",
       "justify_content": "flex-start",
       "width": "100%"
      }
     },
     "ad49b6480e6348a9a4118afe86cd02f1": {
      "model_module": "@jupyter-widgets/controls",
      "model_module_version": "1.5.0",
      "model_name": "DatePickerModel",
      "state": {
       "disabled": false,
       "layout": "IPY_MODEL_056a5edc61524695a73c946c1ecbe06f",
       "style": "IPY_MODEL_95f0fc6208174c98b11300220c7f8f9a",
       "value": {
        "date": 2,
        "month": 1,
        "year": 2020
       }
      }
     },
     "ad4c9f2b2ccf4c45a92a390129182a69": {
      "model_module": "@jupyter-widgets/controls",
      "model_module_version": "1.5.0",
      "model_name": "HBoxModel",
      "state": {
       "children": [
        "IPY_MODEL_605febdb641749c9a016a7da99653579",
        "IPY_MODEL_f599def52c4241cf8186ca1a7596b68c"
       ],
       "layout": "IPY_MODEL_3bad36d1330347628501a3528d058d41"
      }
     },
     "adba8947d0934270afce91f3680c314d": {
      "model_module": "@jupyter-widgets/controls",
      "model_module_version": "1.5.0",
      "model_name": "HTMLModel",
      "state": {
       "layout": "IPY_MODEL_06a186fb13c04d4f9789c165c182227f",
       "style": "IPY_MODEL_6f25c1d9f6f4431a9cbac299e6fdb990",
       "value": "<p>name</p>"
      }
     },
     "adf409ba33954800af43229fd1ea214f": {
      "model_module": "@jupyter-widgets/output",
      "model_module_version": "1.0.0",
      "model_name": "OutputModel",
      "state": {
       "layout": "IPY_MODEL_d28071c5c83a43bdb74b01ac8ee30dc9"
      }
     },
     "ae0a6538cb104ad9955961a2c2eaf985": {
      "model_module": "@jupyter-widgets/controls",
      "model_module_version": "1.5.0",
      "model_name": "HBoxModel",
      "state": {
       "children": [
        "IPY_MODEL_8d75450a1d6a4114a700a1a9bdd28a7c"
       ],
       "layout": "IPY_MODEL_64a7bb5bddbc4511ad655a1061ac504e"
      }
     },
     "ae3ed8e1a78a468a9072ce2de9204279": {
      "model_module": "@jupyter-widgets/controls",
      "model_module_version": "1.5.0",
      "model_name": "DescriptionStyleModel",
      "state": {
       "description_width": ""
      }
     },
     "ae8572ad88034ad2a652e39658a9c23c": {
      "model_module": "@jupyter-widgets/controls",
      "model_module_version": "1.5.0",
      "model_name": "HTMLModel",
      "state": {
       "layout": "IPY_MODEL_176feb3a17f748a9a7abf3460405b466",
       "style": "IPY_MODEL_477b72df7c6f4f9897f3e47ebec5611a",
       "value": "<p>name</p>"
      }
     },
     "aeafb549e1d649ba981503ef975cf8e4": {
      "model_module": "@jupyter-widgets/base",
      "model_module_version": "1.2.0",
      "model_name": "LayoutModel",
      "state": {
       "grid_area": "pathlist",
       "width": "auto"
      }
     },
     "aed4dc5e0acf4a8882441ab0327010da": {
      "model_module": "@jupyter-widgets/base",
      "model_module_version": "1.2.0",
      "model_name": "LayoutModel",
      "state": {}
     },
     "aedc7fec08fc45a99cae3b958364d591": {
      "model_module": "@jupyter-widgets/base",
      "model_module_version": "1.2.0",
      "model_name": "LayoutModel",
      "state": {
       "align_items": "stretch",
       "display": "flex",
       "flex_flow": "row",
       "grid_auto_columns": "True",
       "justify_content": "flex-end",
       "width": "90%"
      }
     },
     "af27c8203bb74ebea109b3ff3e24fbca": {
      "model_module": "@jupyter-widgets/base",
      "model_module_version": "1.2.0",
      "model_name": "LayoutModel",
      "state": {}
     },
     "af4e9a9e5cd040ea8542279b39a652f1": {
      "model_module": "@jupyter-widgets/controls",
      "model_module_version": "1.5.0",
      "model_name": "HBoxModel",
      "state": {
       "children": [
        "IPY_MODEL_ed860d6b4dcf44e78a005025aab5278a",
        "IPY_MODEL_819a8b7ca6944f72b5e457ab32fb5b61"
       ],
       "layout": "IPY_MODEL_a95952b3fec5482aac0d8b75bebd80d5"
      }
     },
     "af6357c43ae24ab4b26b15dc1eff2d32": {
      "model_module": "@jupyter-widgets/base",
      "model_module_version": "1.2.0",
      "model_name": "LayoutModel",
      "state": {}
     },
     "af88e83430864698bc0c5be53556f6cb": {
      "model_module": "@jupyter-widgets/base",
      "model_module_version": "1.2.0",
      "model_name": "LayoutModel",
      "state": {
       "align_items": "stretch",
       "display": "flex",
       "flex_flow": "row",
       "grid_auto_columns": "True",
       "justify_content": "flex-start",
       "width": "80%"
      }
     },
     "afcc06aa518c4bda8000f4a05ad6ba74": {
      "model_module": "@jupyter-widgets/controls",
      "model_module_version": "1.5.0",
      "model_name": "HTMLModel",
      "state": {
       "layout": "IPY_MODEL_24d44838f5634611b2be83a1447e5752",
       "style": "IPY_MODEL_accfef8e2cf24294936250a271b5a2d2",
       "value": "<p>input docx filepath</p>"
      }
     },
     "afdab563c30e4587bdc73ad9267f59d1": {
      "model_module": "@jupyter-widgets/controls",
      "model_module_version": "1.5.0",
      "model_name": "HBoxModel",
      "state": {
       "children": [
        "IPY_MODEL_adba8947d0934270afce91f3680c314d",
        "IPY_MODEL_6791928a923245a8914dd33abfc55e3d"
       ],
       "layout": "IPY_MODEL_88b5ee3ad9234272964fe31f0073be14"
      }
     },
     "b02199db866b416e9f62ab3e9a407ea9": {
      "model_module": "@jupyter-widgets/base",
      "model_module_version": "1.2.0",
      "model_name": "LayoutModel",
      "state": {}
     },
     "b06ff928d9444e398875ddce7f29435c": {
      "model_module": "@jupyter-widgets/base",
      "model_module_version": "1.2.0",
      "model_name": "LayoutModel",
      "state": {
       "width": "auto"
      }
     },
     "b0dac1e6c8204756b1444c90f2c45699": {
      "model_module": "@jupyter-widgets/base",
      "model_module_version": "1.2.0",
      "model_name": "LayoutModel",
      "state": {
       "align_items": "stretch",
       "display": "flex",
       "flex_flow": "row",
       "grid_auto_columns": "True",
       "justify_content": "flex-end",
       "width": "90%"
      }
     },
     "b0f022c6b1ea4c7fbb0905debc93b7bd": {
      "model_module": "@jupyter-widgets/base",
      "model_module_version": "1.2.0",
      "model_name": "LayoutModel",
      "state": {}
     },
     "b11b913cdd6d463d9cfa89b279ce7b7a": {
      "model_module": "@jupyter-widgets/base",
      "model_module_version": "1.2.0",
      "model_name": "LayoutModel",
      "state": {
       "align_items": "stretch",
       "display": "flex",
       "flex_flow": "row",
       "grid_auto_columns": "True",
       "justify_content": "flex-end",
       "width": "90%"
      }
     },
     "b1225aa7e40d46de90f2bacd1f8aa47b": {
      "model_module": "@jupyter-widgets/base",
      "model_module_version": "1.2.0",
      "model_name": "LayoutModel",
      "state": {}
     },
     "b17a309cc9c94f16aa2a1550905393a0": {
      "model_module": "@jupyter-widgets/base",
      "model_module_version": "1.2.0",
      "model_name": "LayoutModel",
      "state": {}
     },
     "b1a6f98dacbc4f9d8ca007de9d5db6e3": {
      "model_module": "@jupyter-widgets/controls",
      "model_module_version": "1.5.0",
      "model_name": "VBoxModel",
      "state": {
       "children": [
        "IPY_MODEL_4eff3c8850014d89a463b8f626dab534",
        "IPY_MODEL_9f119c07933e4e328e933eecb88efe64",
        "IPY_MODEL_0d63be18c0ce4ce08adfaa175b84d09f",
        "IPY_MODEL_891fec8cecd445a8be859550b9e46e55",
        "IPY_MODEL_c6699b94cb9c49b3937dbc63a02d60a0",
        "IPY_MODEL_0f9e68cd75dd4a659d624801d779eec1",
        "IPY_MODEL_145febe0a6e14572a9f97cad96a0f67b",
        "IPY_MODEL_28c248948ef34579b1b63dcc5daac573",
        "IPY_MODEL_c1cba9acbc134685a841905ea859e500",
        "IPY_MODEL_08acd28ca5af4432b47063babf020397",
        "IPY_MODEL_9582f1d461d64d4e90a968c44f4b2991",
        "IPY_MODEL_72a0d29148094107be7d1f19b31d0bc5",
        "IPY_MODEL_0cd098fba2bc4cd08818f47dd811e4f7"
       ],
       "layout": "IPY_MODEL_057eec8859f04addb7950e7bfd030b9f"
      }
     },
     "b1b8acdb5d0241e1b75cdb7678dd7f16": {
      "model_module": "@jupyter-widgets/controls",
      "model_module_version": "1.5.0",
      "model_name": "DescriptionStyleModel",
      "state": {
       "description_width": ""
      }
     },
     "b1f648d66add4bc7a6a21bef11573090": {
      "model_module": "@jupyter-widgets/controls",
      "model_module_version": "1.5.0",
      "model_name": "RadioButtonsModel",
      "state": {
       "_options_labels": [
        "TEMPLATE: C:\\engDev\\git_mf\\MF_Toolbox\\dev\\mf_scripts\\template_inputs\\inputs-gbxml.json",
        "PROJECT: C:\\engDev\\git_mf\\ipyrun\\ipyrun\\appdata\\inputs\\inputs-gbxml.json"
       ],
       "index": 0,
       "layout": "IPY_MODEL_cf4ccf39d5db479a9df26da9f4e9e98a",
       "style": "IPY_MODEL_3c48a7cdb2fd439db2353d8dfd3b9154"
      }
     },
     "b2006b0c61684916bdd72dde80af4d27": {
      "model_module": "@jupyter-widgets/controls",
      "model_module_version": "1.5.0",
      "model_name": "HTMLModel",
      "state": {
       "layout": "IPY_MODEL_37a2c764fceb4fe2b31808b0a135ed98",
       "style": "IPY_MODEL_7b66bacde25a4188ab76e4e6a288c750",
       "value": "<p>name</p>"
      }
     },
     "b222d55c7bd24ff2bd623ca12bb064a7": {
      "model_module": "@jupyter-widgets/controls",
      "model_module_version": "1.5.0",
      "model_name": "DescriptionStyleModel",
      "state": {
       "description_width": ""
      }
     },
     "b228de409384499c9894cdb411358472": {
      "model_module": "@jupyter-widgets/base",
      "model_module_version": "1.2.0",
      "model_name": "LayoutModel",
      "state": {
       "align_items": "stretch",
       "border": "dashed 0.2px green",
       "display": "flex",
       "flex_flow": "row",
       "grid_auto_columns": "True",
       "justify_content": "flex-start",
       "width": "100%"
      }
     },
     "b24c275aeb454bdc9b00c4397e7c8cf6": {
      "model_module": "@jupyter-widgets/base",
      "model_module_version": "1.2.0",
      "model_name": "LayoutModel",
      "state": {}
     },
     "b276d59f82194527b7f1218511e744ca": {
      "model_module": "@jupyter-widgets/controls",
      "model_module_version": "1.5.0",
      "model_name": "HBoxModel",
      "state": {
       "children": [
        "IPY_MODEL_b77e323bd4fd40089b9de9d292d8298b"
       ],
       "layout": "IPY_MODEL_521c3e66a4ad49289c4501575eb0e2a6"
      }
     },
     "b284b044a93746929d05a7bd346b632f": {
      "model_module": "@jupyter-widgets/controls",
      "model_module_version": "1.5.0",
      "model_name": "VBoxModel",
      "state": {
       "children": [
        "IPY_MODEL_01f85bf52bb24b939dd24bf8c7f468dd",
        "IPY_MODEL_d05ebd26edac4b86bf67248cae94b334",
        "IPY_MODEL_8f96634d37f7448ab086ae186d4fa6ad"
       ],
       "layout": "IPY_MODEL_521c34373ef34447b0b6082e43bbc45b"
      }
     },
     "b28784634c0b497b9d1427ec119f9401": {
      "model_module": "@jupyter-widgets/controls",
      "model_module_version": "1.5.0",
      "model_name": "DescriptionStyleModel",
      "state": {
       "description_width": ""
      }
     },
     "b2a602acf5fd41aea4b6fa740f618e22": {
      "model_module": "@jupyter-widgets/base",
      "model_module_version": "1.2.0",
      "model_name": "LayoutModel",
      "state": {
       "align_items": "stretch",
       "border": "dashed 0.2px green",
       "display": "flex",
       "flex_flow": "row",
       "grid_auto_columns": "True",
       "justify_content": "flex-start",
       "width": "100%"
      }
     },
     "b2b183784c394990be7715f7764cb75a": {
      "model_module": "@jupyter-widgets/base",
      "model_module_version": "1.2.0",
      "model_name": "LayoutModel",
      "state": {}
     },
     "b301b4116a1842c1b1b435ea119927fd": {
      "model_module": "@jupyter-widgets/base",
      "model_module_version": "1.2.0",
      "model_name": "LayoutModel",
      "state": {
       "align_items": "stretch",
       "display": "flex",
       "flex_flow": "row",
       "grid_auto_columns": "True",
       "justify_content": "flex-start",
       "width": "80%"
      }
     },
     "b31262f5fc334bd18ca1e2ba80fa45ef": {
      "model_module": "@jupyter-widgets/controls",
      "model_module_version": "1.5.0",
      "model_name": "VBoxModel",
      "state": {
       "children": [
        "IPY_MODEL_2ac75dbe497345d89d985d614dc8382a",
        "IPY_MODEL_5c8520323a4a443e8c79a1b0f3233a2d",
        "IPY_MODEL_06232e13f6f34aaea2d4b8a9fd08cfdf",
        "IPY_MODEL_5558f9fe083a4fc8b9870f671759f3a2",
        "IPY_MODEL_1854c8ee37084ca693d0c5fbea17c887",
        "IPY_MODEL_ae0a6538cb104ad9955961a2c2eaf985",
        "IPY_MODEL_235dc04c6c3e4dd8b1bb558b13ee832a",
        "IPY_MODEL_d6893b6887ad41e9ac75a7635ce260a3"
       ],
       "layout": "IPY_MODEL_f27f9a5f5b7e484ebd833dee3008a99c"
      }
     },
     "b314264e55b64e40b5a77dbebdbdc921": {
      "model_module": "@jupyter-widgets/output",
      "model_module_version": "1.0.0",
      "model_name": "OutputModel",
      "state": {
       "layout": "IPY_MODEL_c1eca6ae5678437f8948b6cc82c9c5c0"
      }
     },
     "b318b7a99af44415991b448878b7901b": {
      "model_module": "@jupyter-widgets/base",
      "model_module_version": "1.2.0",
      "model_name": "LayoutModel",
      "state": {}
     },
     "b34138b86a624d44af0b1cf10663fd35": {
      "model_module": "@jupyter-widgets/controls",
      "model_module_version": "1.5.0",
      "model_name": "HBoxModel",
      "state": {
       "children": [
        "IPY_MODEL_4e0293c53dff47e6bc69801063284e5e",
        "IPY_MODEL_dde2c212868e45b8ad063735f833fc21"
       ],
       "layout": "IPY_MODEL_ba4ee6ae05dc4dc69a47b7e6552da0ae"
      }
     },
     "b34e48a1d05c45b7b7a8aa4e07e70b3d": {
      "model_module": "@jupyter-widgets/base",
      "model_module_version": "1.2.0",
      "model_name": "LayoutModel",
      "state": {}
     },
     "b369d55d807d4f99ba775d95c46f623e": {
      "model_module": "@jupyter-widgets/controls",
      "model_module_version": "1.5.0",
      "model_name": "CheckboxModel",
      "state": {
       "disabled": false,
       "layout": "IPY_MODEL_99da446e4640475ba5344b1ea4671281",
       "style": "IPY_MODEL_e9ee707ce4bd4f1bba7d17331ebb540d",
       "value": false
      }
     },
     "b3e6fb61aa954a8887fba16bb4689501": {
      "model_module": "@jupyter-widgets/controls",
      "model_module_version": "1.5.0",
      "model_name": "DescriptionStyleModel",
      "state": {
       "description_width": ""
      }
     },
     "b412f739f5a44ca9a9bf5f315db1fa58": {
      "model_module": "@jupyter-widgets/controls",
      "model_module_version": "1.5.0",
      "model_name": "DescriptionStyleModel",
      "state": {
       "description_width": ""
      }
     },
     "b4a4d17680a04e4180e1ecebe721465c": {
      "model_module": "@jupyter-widgets/controls",
      "model_module_version": "1.5.0",
      "model_name": "DescriptionStyleModel",
      "state": {
       "description_width": ""
      }
     },
     "b4ad94dcb2ce4c9da98157820184abcd": {
      "model_module": "@jupyter-widgets/controls",
      "model_module_version": "1.5.0",
      "model_name": "DescriptionStyleModel",
      "state": {
       "description_width": ""
      }
     },
     "b4c76b6c0f5545c98e7e79811621f826": {
      "model_module": "@jupyter-widgets/controls",
      "model_module_version": "1.5.0",
      "model_name": "DescriptionStyleModel",
      "state": {
       "description_width": ""
      }
     },
     "b4e3186ba1604b66a78d43aed8803375": {
      "model_module": "@jupyter-widgets/controls",
      "model_module_version": "1.5.0",
      "model_name": "DescriptionStyleModel",
      "state": {
       "description_width": ""
      }
     },
     "b4e378a408ae465d8d2806f9ca619e60": {
      "model_module": "@jupyter-widgets/controls",
      "model_module_version": "1.5.0",
      "model_name": "HBoxModel",
      "state": {
       "children": [
        "IPY_MODEL_7b45e90a5602443fb2cafb673d84258e",
        "IPY_MODEL_01bf8ad19d234e9a9c73bc83ef52f969",
        "IPY_MODEL_1b7923cf84234b77b1ab61e02061d010"
       ],
       "layout": "IPY_MODEL_2bdc7c4b5114483b801bc29bcac23e6f"
      }
     },
     "b4f67f96feae40568ac2492df060320c": {
      "model_module": "@jupyter-widgets/controls",
      "model_module_version": "1.5.0",
      "model_name": "ButtonModel",
      "state": {
       "description": "save",
       "layout": "IPY_MODEL_389d1a4c371c4062943a27bbec36b3ff",
       "style": "IPY_MODEL_fefa02aef4e14171bd8d9b52c0bf4e76"
      }
     },
     "b4fd4f540a014b468a3757ae822cc176": {
      "model_module": "@jupyter-widgets/controls",
      "model_module_version": "1.5.0",
      "model_name": "DescriptionStyleModel",
      "state": {
       "description_width": ""
      }
     },
     "b5401e12f01c4eba8bf2338ad30eb9fa": {
      "model_module": "@jupyter-widgets/base",
      "model_module_version": "1.2.0",
      "model_name": "LayoutModel",
      "state": {}
     },
     "b558d7574f884ea59a4edbf1ab73f830": {
      "model_module": "@jupyter-widgets/controls",
      "model_module_version": "1.5.0",
      "model_name": "HBoxModel",
      "state": {
       "children": [
        "IPY_MODEL_5b1c946caa114ee59f62e98ac5837016",
        "IPY_MODEL_bbbef0b094764a4a83f66c0ed9532191"
       ],
       "layout": "IPY_MODEL_1898547a14334aa4b738981458a0ac09"
      }
     },
     "b577ea70576943b8947d15a167773efa": {
      "model_module": "@jupyter-widgets/base",
      "model_module_version": "1.2.0",
      "model_name": "LayoutModel",
      "state": {}
     },
     "b5b786d7bcbd4dec97b08069638d0c17": {
      "model_module": "@jupyter-widgets/base",
      "model_module_version": "1.2.0",
      "model_name": "LayoutModel",
      "state": {
       "align_items": "stretch",
       "display": "flex",
       "flex_flow": "row",
       "grid_auto_columns": "True",
       "justify_content": "flex-end",
       "width": "90%"
      }
     },
     "b5dfcffaf886469ea76dcc5dc2e0ae5f": {
      "model_module": "@jupyter-widgets/base",
      "model_module_version": "1.2.0",
      "model_name": "LayoutModel",
      "state": {
       "align_items": "stretch",
       "display": "flex",
       "flex_flow": "row",
       "grid_auto_columns": "True",
       "justify_content": "flex-start",
       "width": "80%"
      }
     },
     "b5e0a0e178f541a692d5c8fc87dc8b64": {
      "model_module": "@jupyter-widgets/base",
      "model_module_version": "1.2.0",
      "model_name": "LayoutModel",
      "state": {
       "align_items": "stretch",
       "display": "flex",
       "flex_flow": "row",
       "grid_auto_columns": "True",
       "justify_content": "flex-start",
       "width": "80%"
      }
     },
     "b5ff31a6b928481e89e7018fccb3366b": {
      "model_module": "@jupyter-widgets/controls",
      "model_module_version": "1.5.0",
      "model_name": "DescriptionStyleModel",
      "state": {
       "description_width": ""
      }
     },
     "b60f799a3e574397a8ce22caa9650504": {
      "model_module": "@jupyter-widgets/base",
      "model_module_version": "1.2.0",
      "model_name": "LayoutModel",
      "state": {}
     },
     "b62378e4e4d64df59d480a32e26dff93": {
      "model_module": "@jupyter-widgets/base",
      "model_module_version": "1.2.0",
      "model_name": "LayoutModel",
      "state": {
       "align_items": "stretch",
       "border": "dashed 0.2px green",
       "display": "flex",
       "flex_flow": "row",
       "grid_auto_columns": "True",
       "justify_content": "flex-start",
       "width": "100%"
      }
     },
     "b62c6c25857046e2a5b25bac2a7fdcee": {
      "model_module": "@jupyter-widgets/base",
      "model_module_version": "1.2.0",
      "model_name": "LayoutModel",
      "state": {}
     },
     "b62e4155890848d88c8ebac723e8982f": {
      "model_module": "@jupyter-widgets/base",
      "model_module_version": "1.2.0",
      "model_name": "LayoutModel",
      "state": {}
     },
     "b6598cd9b35f40258153fb791a982bb7": {
      "model_module": "@jupyter-widgets/base",
      "model_module_version": "1.2.0",
      "model_name": "LayoutModel",
      "state": {}
     },
     "b6b11c10c29f49378a1a0ca377908fb7": {
      "model_module": "@jupyter-widgets/controls",
      "model_module_version": "1.5.0",
      "model_name": "HTMLModel",
      "state": {
       "layout": "IPY_MODEL_4eff22bb294b48c6a6519d097976d974",
       "style": "IPY_MODEL_e3da127cf6ef45c7bd81dddd99fc8170",
       "value": "<p>input gbxml filepath</p>"
      }
     },
     "b6b18b95e38a4f7fa3a89a6d9b9c3f3e": {
      "model_module": "@jupyter-widgets/controls",
      "model_module_version": "1.5.0",
      "model_name": "CheckboxModel",
      "state": {
       "disabled": false,
       "layout": "IPY_MODEL_b577ea70576943b8947d15a167773efa",
       "style": "IPY_MODEL_10aea33d58a54300b784a87baa41345d",
       "value": false
      }
     },
     "b6eff1a0bde5422daf4c14d6be5c7373": {
      "model_module": "@jupyter-widgets/base",
      "model_module_version": "1.2.0",
      "model_name": "LayoutModel",
      "state": {}
     },
     "b6f7669d89b04ec1991aa0bd43d668d8": {
      "model_module": "@jupyter-widgets/controls",
      "model_module_version": "1.5.0",
      "model_name": "HBoxModel",
      "state": {
       "children": [
        "IPY_MODEL_9d771adc975d449786e9298705a0707f"
       ],
       "layout": "IPY_MODEL_21ffff865a8148c8a7b6fcb9e1e66df7"
      }
     },
     "b709590db2af4e6f9a2ddc556bc276bf": {
      "model_module": "@jupyter-widgets/base",
      "model_module_version": "1.2.0",
      "model_name": "LayoutModel",
      "state": {}
     },
     "b7436c67aab14744b7fbe21cec815cab": {
      "model_module": "@jupyter-widgets/controls",
      "model_module_version": "1.5.0",
      "model_name": "DescriptionStyleModel",
      "state": {
       "description_width": ""
      }
     },
     "b7662f07f2c14a78b7741acb1c959d47": {
      "model_module": "@jupyter-widgets/base",
      "model_module_version": "1.2.0",
      "model_name": "LayoutModel",
      "state": {}
     },
     "b76b528d7df94ab3b24d9be9cdac8f80": {
      "model_module": "@jupyter-widgets/base",
      "model_module_version": "1.2.0",
      "model_name": "LayoutModel",
      "state": {}
     },
     "b77e323bd4fd40089b9de9d292d8298b": {
      "model_module": "@jupyter-widgets/controls",
      "model_module_version": "1.5.0",
      "model_name": "HBoxModel",
      "state": {
       "children": [
        "IPY_MODEL_222d359c35284f2b82e681c28eaba562",
        "IPY_MODEL_507bdbc1616d4f0fb5a1a7c290ec5f37"
       ],
       "layout": "IPY_MODEL_b0dac1e6c8204756b1444c90f2c45699"
      }
     },
     "b78629a9921b47fcbc805b8f4ed5f851": {
      "model_module": "@jupyter-widgets/controls",
      "model_module_version": "1.5.0",
      "model_name": "HBoxModel",
      "state": {
       "children": [
        "IPY_MODEL_63afa735203d449e8874a51ace62e335",
        "IPY_MODEL_4b2b1d15694c4ce9bccec9abf8668c1a"
       ],
       "layout": "IPY_MODEL_fdbf09dd87154621812399aee5928448"
      }
     },
     "b7c382b9bba942c7ae2db3ee1f7b3115": {
      "model_module": "@jupyter-widgets/controls",
      "model_module_version": "1.5.0",
      "model_name": "DescriptionStyleModel",
      "state": {
       "description_width": ""
      }
     },
     "b7df13f2aeb340089b514b90947c6123": {
      "model_module": "@jupyter-widgets/controls",
      "model_module_version": "1.5.0",
      "model_name": "DescriptionStyleModel",
      "state": {
       "description_width": ""
      }
     },
     "b7e615eac97e406abc9dbe1dd6b68a2c": {
      "model_module": "@jupyter-widgets/base",
      "model_module_version": "1.2.0",
      "model_name": "LayoutModel",
      "state": {}
     },
     "b80bbf775c8a4e548a0c6b33b8322725": {
      "model_module": "@jupyter-widgets/controls",
      "model_module_version": "1.5.0",
      "model_name": "HBoxModel",
      "state": {
       "children": [
        "IPY_MODEL_f0a75da10e0e488e80d23804b942eb4b",
        "IPY_MODEL_926ca55065ab4094846a719a5d8af70f"
       ],
       "layout": "IPY_MODEL_770329cc53f8487aa1a793da453d7669"
      }
     },
     "b88fb5b817264487a8028ca7920fe97f": {
      "model_module": "@jupyter-widgets/controls",
      "model_module_version": "1.5.0",
      "model_name": "DescriptionStyleModel",
      "state": {
       "description_width": ""
      }
     },
     "b8b3735e0ee841acb572216c946fe1a8": {
      "model_module": "@jupyter-widgets/controls",
      "model_module_version": "1.5.0",
      "model_name": "VBoxModel",
      "state": {
       "children": [
        "IPY_MODEL_4721aa209e844b22972c3f3d5c807c1f",
        "IPY_MODEL_07e31cbaa48444489c84b6e5fa063fb2"
       ],
       "layout": "IPY_MODEL_10523326ed194b80a854e83e9344d820"
      }
     },
     "b8bb3e8f68034c72aee00b4d251deb92": {
      "model_module": "@jupyter-widgets/controls",
      "model_module_version": "1.5.0",
      "model_name": "VBoxModel",
      "state": {
       "children": [
        "IPY_MODEL_4c9f9470fdcc49fdaddf6f519650e4da",
        "IPY_MODEL_fe829a00487d40b68767f3e28af712f3",
        "IPY_MODEL_faf9efc07d0f4cd5b5548ea9e4cc8ace",
        "IPY_MODEL_19eec374f48d4aa8bc5f4bfedb0a012b",
        "IPY_MODEL_3560c3266c2f42ac91fb3d40717982b9",
        "IPY_MODEL_54e55ec97a6947b2a93f1e089ae1af9b",
        "IPY_MODEL_484d31700df247cdb9ee4119d0e71508",
        "IPY_MODEL_c444a9b6b2634f15b2e1775c33363f55"
       ],
       "layout": "IPY_MODEL_c578440af91249419f4911631f120cf6"
      }
     },
     "b8be4679d5404fb6a2eb149bc76fa4f6": {
      "model_module": "@jupyter-widgets/controls",
      "model_module_version": "1.5.0",
      "model_name": "ToggleButtonModel",
      "state": {
       "description": "help",
       "icon": "fa-question-circle",
       "layout": "IPY_MODEL_f7a96e6e6e874e80befe1001e06d7bbb",
       "style": "IPY_MODEL_39845f7226e5445ba30a3522da43c8fb",
       "tooltip": "gives guidance"
      }
     },
     "b972214e813e48c39ddf9f15de8f8991": {
      "model_module": "@jupyter-widgets/base",
      "model_module_version": "1.2.0",
      "model_name": "LayoutModel",
      "state": {
       "align_items": "stretch",
       "display": "flex",
       "flex_flow": "row",
       "grid_auto_columns": "True",
       "justify_content": "flex-start",
       "width": "80%"
      }
     },
     "b97801017cac4b1e93b4e577b6364ff7": {
      "model_module": "@jupyter-widgets/base",
      "model_module_version": "1.2.0",
      "model_name": "LayoutModel",
      "state": {}
     },
     "b9a2142bfb7142318a446371fcc8f7cb": {
      "model_module": "@jupyter-widgets/base",
      "model_module_version": "1.2.0",
      "model_name": "LayoutModel",
      "state": {}
     },
     "b9cd046dab524501bf626944d810c143": {
      "model_module": "@jupyter-widgets/controls",
      "model_module_version": "1.5.0",
      "model_name": "HTMLModel",
      "state": {
       "layout": "IPY_MODEL_6b4b900a8e314b5d8d7eee73113c5f66",
       "style": "IPY_MODEL_b4fd4f540a014b468a3757ae822cc176",
       "value": "<p>fus foo ous o</p>"
      }
     },
     "ba04988bac144a8aa00c170a34c35339": {
      "model_module": "@jupyter-widgets/base",
      "model_module_version": "1.2.0",
      "model_name": "LayoutModel",
      "state": {
       "display": "none"
      }
     },
     "ba386da3d39b4556b8d9be6ee11a5fa1": {
      "model_module": "@jupyter-widgets/controls",
      "model_module_version": "1.5.0",
      "model_name": "ButtonStyleModel",
      "state": {
       "font_weight": "bold"
      }
     },
     "ba4ee6ae05dc4dc69a47b7e6552da0ae": {
      "model_module": "@jupyter-widgets/base",
      "model_module_version": "1.2.0",
      "model_name": "LayoutModel",
      "state": {
       "align_items": "stretch",
       "display": "flex",
       "flex_flow": "row",
       "grid_auto_columns": "True",
       "justify_content": "flex-end",
       "width": "90%"
      }
     },
     "ba56cbca1fd344188d482f6f3c20b4b2": {
      "model_module": "@jupyter-widgets/controls",
      "model_module_version": "1.5.0",
      "model_name": "DescriptionStyleModel",
      "state": {
       "description_width": ""
      }
     },
     "ba8ce7cc180b40859f8291895c826995": {
      "model_module": "@jupyter-widgets/base",
      "model_module_version": "1.2.0",
      "model_name": "LayoutModel",
      "state": {
       "display": "flex",
       "flex_flow": "row",
       "grid_auto_columns": "False",
       "justify_content": "flex-start",
       "width": "100%"
      }
     },
     "bac1f4ca7bf24377bd51f3a0a57dda9c": {
      "model_module": "@jupyter-widgets/controls",
      "model_module_version": "1.5.0",
      "model_name": "ButtonStyleModel",
      "state": {
       "font_weight": "bold"
      }
     },
     "bac2e25491a1482f8d9798cbc023aa6e": {
      "model_module": "@jupyter-widgets/base",
      "model_module_version": "1.2.0",
      "model_name": "LayoutModel",
      "state": {
       "align_items": "stretch",
       "display": "flex",
       "flex_flow": "row",
       "grid_auto_columns": "True",
       "justify_content": "flex-end",
       "width": "90%"
      }
     },
     "baca3dbe553e4e568a8b096ec4328825": {
      "model_module": "@jupyter-widgets/base",
      "model_module_version": "1.2.0",
      "model_name": "LayoutModel",
      "state": {}
     },
     "bade4957889544ecaa0cb0c6f1a60b8f": {
      "model_module": "@jupyter-widgets/base",
      "model_module_version": "1.2.0",
      "model_name": "LayoutModel",
      "state": {}
     },
     "bafdc6fbea9645ceace794f6502a3f9e": {
      "model_module": "@jupyter-widgets/base",
      "model_module_version": "1.2.0",
      "model_name": "LayoutModel",
      "state": {}
     },
     "bb4adaa0e1fd4d1fba5f1e2ab98f59c2": {
      "model_module": "@jupyter-widgets/controls",
      "model_module_version": "1.5.0",
      "model_name": "DescriptionStyleModel",
      "state": {
       "description_width": ""
      }
     },
     "bb8c46ec71de4e00838e012d2e9ab207": {
      "model_module": "@jupyter-widgets/controls",
      "model_module_version": "1.5.0",
      "model_name": "DescriptionStyleModel",
      "state": {
       "description_width": ""
      }
     },
     "bb925432ad5d4f7f8595ad6c03084e32": {
      "model_module": "@jupyter-widgets/controls",
      "model_module_version": "1.5.0",
      "model_name": "DescriptionStyleModel",
      "state": {
       "description_width": ""
      }
     },
     "bbbef0b094764a4a83f66c0ed9532191": {
      "model_module": "@jupyter-widgets/controls",
      "model_module_version": "1.5.0",
      "model_name": "HBoxModel",
      "state": {
       "children": [
        "IPY_MODEL_9b16bccf5e1c4b2cb8ad2ae5c5dcea49",
        "IPY_MODEL_62c3ed9eacdf4aed8d35ef086ef85511"
       ],
       "layout": "IPY_MODEL_43184f4265a84218af42ad629f17256a"
      }
     },
     "bbc989c5521e46d285bfe096fc621286": {
      "model_module": "@jupyter-widgets/base",
      "model_module_version": "1.2.0",
      "model_name": "LayoutModel",
      "state": {}
     },
     "bc1915e46f8649589f9241e2f056dd3a": {
      "model_module": "@jupyter-widgets/controls",
      "model_module_version": "1.5.0",
      "model_name": "HTMLModel",
      "state": {
       "layout": "IPY_MODEL_056a3fa64a654e4bbc492d0f8ddaf477",
       "style": "IPY_MODEL_b1b8acdb5d0241e1b75cdb7678dd7f16",
       "value": "<p>define system grouping</p>"
      }
     },
     "bc3b689d3b48460e8b15a4588e1c20f2": {
      "model_module": "@jupyter-widgets/base",
      "model_module_version": "1.2.0",
      "model_name": "LayoutModel",
      "state": {
       "align_items": "stretch",
       "display": "flex",
       "flex_flow": "row",
       "grid_auto_columns": "True",
       "justify_content": "flex-start",
       "width": "80%"
      }
     },
     "bc44635eeef345ae809feab7ec9e2548": {
      "model_module": "@jupyter-widgets/base",
      "model_module_version": "1.2.0",
      "model_name": "LayoutModel",
      "state": {
       "align_items": "stretch",
       "display": "flex",
       "flex_flow": "row",
       "grid_auto_columns": "True",
       "justify_content": "flex-end",
       "width": "90%"
      }
     },
     "bc652d9404014f6c92951c5d1970e264": {
      "model_module": "@jupyter-widgets/controls",
      "model_module_version": "1.5.0",
      "model_name": "HTMLModel",
      "state": {
       "layout": "IPY_MODEL_32812408b7bf41b4b1b6b038c2008e20",
       "style": "IPY_MODEL_d9ef6d1a184b42c68d48bcd383971ece"
      }
     },
     "bc8ab91e015948a8baa9edd40a9ef0dd": {
      "model_module": "@jupyter-widgets/base",
      "model_module_version": "1.2.0",
      "model_name": "LayoutModel",
      "state": {}
     },
     "bca716404026488c8f16261a41fe19ec": {
      "model_module": "@jupyter-widgets/base",
      "model_module_version": "1.2.0",
      "model_name": "LayoutModel",
      "state": {
       "align_items": "stretch",
       "display": "flex",
       "flex_flow": "row",
       "grid_auto_columns": "True",
       "justify_content": "flex-start",
       "width": "80%"
      }
     },
     "bdcc6278b19341549f204a17f0b62a94": {
      "model_module": "@jupyter-widgets/controls",
      "model_module_version": "1.5.0",
      "model_name": "HBoxModel",
      "state": {
       "children": [
        "IPY_MODEL_4da21135d0574e6598656f590c139174"
       ],
       "layout": "IPY_MODEL_915f861a22b444588df651dc8f7c7109"
      }
     },
     "bdf0546f308f426795ad96f548f5ec3e": {
      "model_module": "@jupyter-widgets/controls",
      "model_module_version": "1.5.0",
      "model_name": "VBoxModel",
      "state": {
       "children": [
        "IPY_MODEL_75c4d58cc5b64288802090b4039e7f12",
        "IPY_MODEL_1977939a3a6341988aacfc3434aa4bf7"
       ],
       "layout": "IPY_MODEL_596789726476418ea5cbfec0c05d1e46"
      }
     },
     "be1b7e3e2d2a4c65a3858c3b525bbd13": {
      "model_module": "@jupyter-widgets/controls",
      "model_module_version": "1.5.0",
      "model_name": "DescriptionStyleModel",
      "state": {
       "description_width": ""
      }
     },
     "be4e41e61e184dbfbe4f34af0fd6d3b5": {
      "model_module": "@jupyter-widgets/base",
      "model_module_version": "1.2.0",
      "model_name": "LayoutModel",
      "state": {}
     },
     "be55a864420f4e3db393dd50e35e1ea5": {
      "model_module": "@jupyter-widgets/controls",
      "model_module_version": "1.5.0",
      "model_name": "HTMLModel",
      "state": {
       "layout": "IPY_MODEL_95421de3dc6e4e948fa1825588cba565",
       "style": "IPY_MODEL_fce5894c4f584a6cad52acb2fa5251f3"
      }
     },
     "be9a514b12dd4ba89ab906036ff37e39": {
      "model_module": "@jupyter-widgets/controls",
      "model_module_version": "1.5.0",
      "model_name": "DescriptionStyleModel",
      "state": {
       "description_width": ""
      }
     },
     "bec0260b3e594e60a8a11acef684a0a2": {
      "model_module": "@jupyter-widgets/controls",
      "model_module_version": "1.5.0",
      "model_name": "ButtonModel",
      "state": {
       "button_style": "warning",
       "description": "revert to last save",
       "layout": "IPY_MODEL_d53d8f9ebf194060823c7fe4ba1a779f",
       "style": "IPY_MODEL_92aa8b38c3ee4238a083c483ab98ed8c"
      }
     },
     "bf133ec99de848c09bae603313322403": {
      "model_module": "@jupyter-widgets/base",
      "model_module_version": "1.2.0",
      "model_name": "LayoutModel",
      "state": {}
     },
     "bf3a96b8eda94278944c4df89fc00fb8": {
      "model_module": "@jupyter-widgets/output",
      "model_module_version": "1.0.0",
      "model_name": "OutputModel",
      "state": {
       "layout": "IPY_MODEL_0a9bcdc50bf64220bfc429548c6f49e7"
      }
     },
     "bf6bd00b03dd4588b0e6a704d50822e0": {
      "model_module": "@jupyter-widgets/controls",
      "model_module_version": "1.5.0",
      "model_name": "RadioButtonsModel",
      "state": {
       "_options_labels": [
        "TEMPLATE: C:\\engDev\\git_mf\\MF_Toolbox\\dev\\mf_scripts\\template_inputs\\inputs-gbxml.json",
        "PROJECT: C:\\engDev\\git_mf\\ipyrun\\ipyrun\\appdata\\inputs\\inputs-gbxml.json"
       ],
       "index": 0,
       "layout": "IPY_MODEL_323474e200a5449c891141da9048c4d6",
       "style": "IPY_MODEL_9ed47d7aff0741088990ba42d89afdc1"
      }
     },
     "bf763be28f354b6bb3a95144849529c7": {
      "model_module": "@jupyter-widgets/base",
      "model_module_version": "1.2.0",
      "model_name": "LayoutModel",
      "state": {}
     },
     "bf9a044348d04ae586c5750dbedfe21d": {
      "model_module": "@jupyter-widgets/controls",
      "model_module_version": "1.5.0",
      "model_name": "DescriptionStyleModel",
      "state": {
       "description_width": ""
      }
     },
     "bff09dac09064bfda535af2b4380f547": {
      "model_module": "@jupyter-widgets/controls",
      "model_module_version": "1.5.0",
      "model_name": "HBoxModel",
      "state": {
       "children": [
        "IPY_MODEL_f443c589c478406aaf6d105ae3431dbc",
        "IPY_MODEL_2ec6dda52ff3421fb5579167cdc3ffcc"
       ],
       "layout": "IPY_MODEL_b301b4116a1842c1b1b435ea119927fd"
      }
     },
     "c03cefe400fc48e29d213d3b0b37f342": {
      "model_module": "@jupyter-widgets/controls",
      "model_module_version": "1.5.0",
      "model_name": "HTMLModel",
      "state": {
       "layout": "IPY_MODEL_8722746d6dc4455ab38fc8f2e962c2bb",
       "style": "IPY_MODEL_0d1cf2d1429e415aa62d8099b28e345b",
       "value": "<p>fus foo ous o</p>"
      }
     },
     "c05d9bea52764438a66c6e87f668d902": {
      "model_module": "@jupyter-widgets/controls",
      "model_module_version": "1.5.0",
      "model_name": "DescriptionStyleModel",
      "state": {
       "description_width": ""
      }
     },
     "c09686e3550b4885829137704017360e": {
      "model_module": "@jupyter-widgets/controls",
      "model_module_version": "1.5.0",
      "model_name": "HTMLModel",
      "state": {
       "layout": "IPY_MODEL_28fae12c7515493eadaa8b8912eff880",
       "style": "IPY_MODEL_1cb694b3ad614386aef665529c1dfb26",
       "value": "<p>foo</p>"
      }
     },
     "c0d3726b86e04a1482b432f810bccb48": {
      "model_module": "@jupyter-widgets/output",
      "model_module_version": "1.0.0",
      "model_name": "OutputModel",
      "state": {
       "layout": "IPY_MODEL_4e086706d8774f49a4bfab01f905f634"
      }
     },
     "c14ec8c746564678946209c34cc6a0d8": {
      "model_module": "@jupyter-widgets/controls",
      "model_module_version": "1.5.0",
      "model_name": "TextModel",
      "state": {
       "layout": "IPY_MODEL_a8098fc989904ab78a020aa1c2c27093",
       "style": "IPY_MODEL_0e9793ca976c4493b764bd4f8b9c53b1",
       "value": "2"
      }
     },
     "c1cba9acbc134685a841905ea859e500": {
      "model_module": "@jupyter-widgets/controls",
      "model_module_version": "1.5.0",
      "model_name": "HBoxModel",
      "state": {
       "children": [
        "IPY_MODEL_7151e00226e04e748e1b838e633b2c09"
       ],
       "layout": "IPY_MODEL_625c261316a64db9893fe8e480fb51cf"
      }
     },
     "c1eca6ae5678437f8948b6cc82c9c5c0": {
      "model_module": "@jupyter-widgets/base",
      "model_module_version": "1.2.0",
      "model_name": "LayoutModel",
      "state": {}
     },
     "c21601383fdf4b46851a0496528ab55c": {
      "model_module": "@jupyter-widgets/base",
      "model_module_version": "1.2.0",
      "model_name": "LayoutModel",
      "state": {}
     },
     "c29b84560771440f82c11263d5f9649a": {
      "model_module": "@jupyter-widgets/controls",
      "model_module_version": "1.5.0",
      "model_name": "DescriptionStyleModel",
      "state": {
       "description_width": ""
      }
     },
     "c29dea72511e4fe8bd6b77d0fd2c9570": {
      "model_module": "@jupyter-widgets/base",
      "model_module_version": "1.2.0",
      "model_name": "LayoutModel",
      "state": {}
     },
     "c2e225c3cb62400ab7848ab46ec36890": {
      "model_module": "@jupyter-widgets/controls",
      "model_module_version": "1.5.0",
      "model_name": "DescriptionStyleModel",
      "state": {
       "description_width": ""
      }
     },
     "c39581a1ddb14ebdb428f2e5cc0a75e5": {
      "model_module": "@jupyter-widgets/controls",
      "model_module_version": "1.5.0",
      "model_name": "DescriptionStyleModel",
      "state": {
       "description_width": ""
      }
     },
     "c3c1e2e06eb24043a2564329bcdce422": {
      "model_module": "@jupyter-widgets/controls",
      "model_module_version": "1.5.0",
      "model_name": "DescriptionStyleModel",
      "state": {
       "description_width": ""
      }
     },
     "c3c74386f81a4f9294c35b2a931c1b8b": {
      "model_module": "@jupyter-widgets/controls",
      "model_module_version": "1.5.0",
      "model_name": "DescriptionStyleModel",
      "state": {
       "description_width": ""
      }
     },
     "c3c8c6592a82498592fa17250cbd3303": {
      "model_module": "@jupyter-widgets/controls",
      "model_module_version": "1.5.0",
      "model_name": "FloatTextModel",
      "state": {
       "layout": "IPY_MODEL_607740d1c20d4944809936a4bb784939",
       "step": null,
       "style": "IPY_MODEL_6c82ed46b69f4f99973b730254a2e5f2",
       "value": 9
      }
     },
     "c416183705b84fc39546e3796ef9aa4f": {
      "model_module": "@jupyter-widgets/controls",
      "model_module_version": "1.5.0",
      "model_name": "TextModel",
      "state": {
       "layout": "IPY_MODEL_05e7888dcc0c4d2fb08512b51c87ee3e",
       "placeholder": "output filename",
       "style": "IPY_MODEL_f83251702996486e8cf997b839ad8509"
      }
     },
     "c444a9b6b2634f15b2e1775c33363f55": {
      "model_module": "@jupyter-widgets/controls",
      "model_module_version": "1.5.0",
      "model_name": "HBoxModel",
      "state": {
       "children": [
        "IPY_MODEL_61e59ba231dc42c99272a3f5b43194c4"
       ],
       "layout": "IPY_MODEL_945b6d4371ab456784db5d990b8bf720"
      }
     },
     "c4460720f2cb448fb7151a7e22d3ad97": {
      "model_module": "@jupyter-widgets/base",
      "model_module_version": "1.2.0",
      "model_name": "LayoutModel",
      "state": {}
     },
     "c45f2ebed08c411b8c508f5adc1c9c98": {
      "model_module": "@jupyter-widgets/base",
      "model_module_version": "1.2.0",
      "model_name": "LayoutModel",
      "state": {}
     },
     "c481fad7e1594e92add665fd8110c07e": {
      "model_module": "@jupyter-widgets/base",
      "model_module_version": "1.2.0",
      "model_name": "LayoutModel",
      "state": {}
     },
     "c48e6080e3694b7f85741d4894a4714c": {
      "model_module": "@jupyter-widgets/base",
      "model_module_version": "1.2.0",
      "model_name": "LayoutModel",
      "state": {}
     },
     "c4a1bf06f0d24085929345da76a11a4d": {
      "model_module": "@jupyter-widgets/base",
      "model_module_version": "1.2.0",
      "model_name": "LayoutModel",
      "state": {
       "align_items": "stretch",
       "border": "dashed 0.2px green",
       "display": "flex",
       "flex_flow": "row",
       "grid_auto_columns": "True",
       "justify_content": "flex-start",
       "width": "100%"
      }
     },
     "c4c357c1adf343bfa315ecabb96ef889": {
      "model_module": "@jupyter-widgets/base",
      "model_module_version": "1.2.0",
      "model_name": "LayoutModel",
      "state": {
       "display": "none",
       "grid_gap": "0px 0px",
       "grid_template_areas": "\n                    'pathlist filename'\n                    'dircontent dircontent'\n                    ",
       "grid_template_columns": "60% 40%",
       "grid_template_rows": "auto auto",
       "width": "500px"
      }
     },
     "c4f4862a323c4f5d926d66981dff96c8": {
      "model_module": "@jupyter-widgets/controls",
      "model_module_version": "1.5.0",
      "model_name": "HBoxModel",
      "state": {
       "children": [
        "IPY_MODEL_0c3eed9f24084f93b03d7fadf669d1b3",
        "IPY_MODEL_fa92d998be14410c956ebb34169cb8c0"
       ],
       "layout": "IPY_MODEL_855586ed7c094abc8d201e16ecc98bed"
      }
     },
     "c4fc7f8d9e914d8bbaf23738ec5ea47e": {
      "model_module": "@jupyter-widgets/controls",
      "model_module_version": "1.5.0",
      "model_name": "HTMLModel",
      "state": {
       "layout": "IPY_MODEL_a54dd70272a241de9ed4bb3eeffcf2d2",
       "style": "IPY_MODEL_2bf4b9ac4eab449f852d70791f8dced3",
       "value": "<p>Tag for the Model, used within file naming</p>"
      }
     },
     "c520e96e1bd6438691addb136f5b73e5": {
      "model_module": "@jupyter-widgets/controls",
      "model_module_version": "1.5.0",
      "model_name": "DropdownModel",
      "state": {
       "_options_labels": [
        "asfd",
        "10",
        "asdf"
       ],
       "index": 1,
       "layout": "IPY_MODEL_3b54c335ef164ceaad97ddb241c0f9b5",
       "style": "IPY_MODEL_87bd09441ca144c19103f4d337e16b0f"
      }
     },
     "c52ce974c50642b2b1c2dcded45dc338": {
      "model_module": "@jupyter-widgets/base",
      "model_module_version": "1.2.0",
      "model_name": "LayoutModel",
      "state": {}
     },
     "c533dd00398642558b4b617bfe51e33e": {
      "model_module": "@jupyter-widgets/controls",
      "model_module_version": "1.5.0",
      "model_name": "ButtonModel",
      "state": {
       "button_style": "success",
       "description": "save changes",
       "layout": "IPY_MODEL_baca3dbe553e4e568a8b096ec4328825",
       "style": "IPY_MODEL_0a1935ac7dce4e5c9131e2c4e2d4022c"
      }
     },
     "c539c13b1450443a9fd5ec906ed285d9": {
      "model_module": "@jupyter-widgets/controls",
      "model_module_version": "1.5.0",
      "model_name": "VBoxModel",
      "state": {
       "children": [
        "IPY_MODEL_9310f635b0df4b94851582568def1302",
        "IPY_MODEL_0b4493ccfb954ad583d56e0ff3de73c9"
       ],
       "layout": "IPY_MODEL_dd0b5f87d6204369a1223544c045b9cd"
      }
     },
     "c56883a8988d41679b3541a4e31d1130": {
      "model_module": "@jupyter-widgets/base",
      "model_module_version": "1.2.0",
      "model_name": "LayoutModel",
      "state": {}
     },
     "c573018197354e54a226477daf979843": {
      "model_module": "@jupyter-widgets/base",
      "model_module_version": "1.2.0",
      "model_name": "LayoutModel",
      "state": {
       "align_items": "stretch",
       "display": "flex",
       "flex_flow": "row",
       "grid_auto_columns": "True",
       "justify_content": "flex-end",
       "width": "90%"
      }
     },
     "c578440af91249419f4911631f120cf6": {
      "model_module": "@jupyter-widgets/base",
      "model_module_version": "1.2.0",
      "model_name": "LayoutModel",
      "state": {}
     },
     "c616090d4dbf40d78ef4b00fdef44e98": {
      "model_module": "@jupyter-widgets/base",
      "model_module_version": "1.2.0",
      "model_name": "LayoutModel",
      "state": {}
     },
     "c61a2d72ba9a446aaa6daf75831a07fd": {
      "model_module": "@jupyter-widgets/controls",
      "model_module_version": "1.5.0",
      "model_name": "ToggleButtonModel",
      "state": {
       "icon": "arrow-down",
       "layout": "IPY_MODEL_cfe2be985d874d11ae8c2c2641b5fb5e",
       "style": "IPY_MODEL_774d6f41014b45f785a3b0a501950038"
      }
     },
     "c6252f5f068649e7be79f19fe713f45b": {
      "model_module": "@jupyter-widgets/base",
      "model_module_version": "1.2.0",
      "model_name": "LayoutModel",
      "state": {
       "align_items": "stretch",
       "display": "flex",
       "flex_flow": "row",
       "grid_auto_columns": "True",
       "justify_content": "flex-start",
       "width": "80%"
      }
     },
     "c62cb2e349ab49da8685519b4f41ca40": {
      "model_module": "@jupyter-widgets/base",
      "model_module_version": "1.2.0",
      "model_name": "LayoutModel",
      "state": {}
     },
     "c6699b94cb9c49b3937dbc63a02d60a0": {
      "model_module": "@jupyter-widgets/controls",
      "model_module_version": "1.5.0",
      "model_name": "HBoxModel",
      "state": {
       "children": [
        "IPY_MODEL_915752d78eeb4c64acb9ef589dae7049"
       ],
       "layout": "IPY_MODEL_a494d0102f814c3fbd444f5d10c73e03"
      }
     },
     "c66bd3b7508f4b16878da803278a254f": {
      "model_module": "@jupyter-widgets/controls",
      "model_module_version": "1.5.0",
      "model_name": "ButtonModel",
      "state": {
       "button_style": "success",
       "description": "save changes",
       "layout": "IPY_MODEL_c48e6080e3694b7f85741d4894a4714c",
       "style": "IPY_MODEL_7d826568fea84a9ca2fe6d8e70c41fdd"
      }
     },
     "c67466b3c1e745f2840c00bac88269fe": {
      "model_module": "@jupyter-widgets/base",
      "model_module_version": "1.2.0",
      "model_name": "LayoutModel",
      "state": {}
     },
     "c680738d1552493ab533eea9d5f279fb": {
      "model_module": "@jupyter-widgets/controls",
      "model_module_version": "1.5.0",
      "model_name": "ButtonStyleModel",
      "state": {}
     },
     "c6b08d7e9e64417191a6382be9ee3c6a": {
      "model_module": "@jupyter-widgets/controls",
      "model_module_version": "1.5.0",
      "model_name": "DescriptionStyleModel",
      "state": {
       "description_width": ""
      }
     },
     "c6cb0fcb71ce4079a916d77058a829a4": {
      "model_module": "@jupyter-widgets/base",
      "model_module_version": "1.2.0",
      "model_name": "LayoutModel",
      "state": {
       "align_items": "stretch",
       "display": "flex",
       "flex_flow": "row",
       "grid_auto_columns": "True",
       "justify_content": "flex-start",
       "width": "80%"
      }
     },
     "c7399e47812f476dac813c09031385ac": {
      "model_module": "@jupyter-widgets/base",
      "model_module_version": "1.2.0",
      "model_name": "LayoutModel",
      "state": {}
     },
     "c8226be6705d45fd8372eb4458e8e20b": {
      "model_module": "@jupyter-widgets/output",
      "model_module_version": "1.0.0",
      "model_name": "OutputModel",
      "state": {
       "layout": "IPY_MODEL_83538e4ea6be448397795bd342f5d450"
      }
     },
     "c83cd00a0dad48ebac199fcb1417f16f": {
      "model_module": "@jupyter-widgets/base",
      "model_module_version": "1.2.0",
      "model_name": "LayoutModel",
      "state": {}
     },
     "c870466fd3664cf8b797e038cca3d544": {
      "model_module": "@jupyter-widgets/controls",
      "model_module_version": "1.5.0",
      "model_name": "ButtonModel",
      "state": {
       "button_style": "success",
       "description": "save",
       "layout": "IPY_MODEL_5ddbe577223549e4bfa0ced43a5d2dcc",
       "style": "IPY_MODEL_8c5545b01a524be4957434d2eb042616"
      }
     },
     "c870a75e3e9a4e088013b7896a778cd7": {
      "model_module": "@jupyter-widgets/base",
      "model_module_version": "1.2.0",
      "model_name": "LayoutModel",
      "state": {
       "align_items": "stretch",
       "display": "flex",
       "flex_flow": "row",
       "grid_auto_columns": "True",
       "justify_content": "flex-start",
       "width": "80%"
      }
     },
     "c88098e38cc0491c84ded89605c52606": {
      "model_module": "@jupyter-widgets/base",
      "model_module_version": "1.2.0",
      "model_name": "LayoutModel",
      "state": {}
     },
     "c88af014e1634dc8b745d30c9a8b6c48": {
      "model_module": "@jupyter-widgets/base",
      "model_module_version": "1.2.0",
      "model_name": "LayoutModel",
      "state": {
       "align_items": "stretch",
       "display": "flex",
       "flex_flow": "row",
       "grid_auto_columns": "True",
       "justify_content": "flex-end",
       "width": "90%"
      }
     },
     "c89df10984824bc6b5301816febb33bb": {
      "model_module": "@jupyter-widgets/controls",
      "model_module_version": "1.5.0",
      "model_name": "DescriptionStyleModel",
      "state": {
       "description_width": ""
      }
     },
     "c8a76c2412694f3291a9efce0b9df36a": {
      "model_module": "@jupyter-widgets/output",
      "model_module_version": "1.0.0",
      "model_name": "OutputModel",
      "state": {
       "layout": "IPY_MODEL_abd8af1581774ce1a48753f9759dfcfd"
      }
     },
     "c8b4e83e3a8e4d52909579f7eda89d11": {
      "model_module": "@jupyter-widgets/base",
      "model_module_version": "1.2.0",
      "model_name": "LayoutModel",
      "state": {}
     },
     "c8c0fe04389649a8bed8826b6c30df4d": {
      "model_module": "@jupyter-widgets/base",
      "model_module_version": "1.2.0",
      "model_name": "LayoutModel",
      "state": {}
     },
     "c905ae4b990b483a8e8e5be67ab5c8a2": {
      "model_module": "@jupyter-widgets/base",
      "model_module_version": "1.2.0",
      "model_name": "LayoutModel",
      "state": {
       "align_items": "stretch",
       "display": "flex",
       "flex_flow": "row",
       "grid_auto_columns": "True",
       "justify_content": "flex-start",
       "width": "80%"
      }
     },
     "c907bfc91ee1490b923b8eafc58c391e": {
      "model_module": "@jupyter-widgets/base",
      "model_module_version": "1.2.0",
      "model_name": "LayoutModel",
      "state": {
       "align_items": "stretch",
       "display": "flex",
       "flex_flow": "row",
       "grid_auto_columns": "True",
       "justify_content": "flex-end",
       "width": "90%"
      }
     },
     "c920739c7cd1446bb9964e25e34b2858": {
      "model_module": "@jupyter-widgets/controls",
      "model_module_version": "1.5.0",
      "model_name": "DescriptionStyleModel",
      "state": {
       "description_width": ""
      }
     },
     "c9313c8d045b4797a13154b3e440ff4d": {
      "model_module": "@jupyter-widgets/controls",
      "model_module_version": "1.5.0",
      "model_name": "HTMLModel",
      "state": {
       "layout": "IPY_MODEL_fa18d709bcaa4e83afa56e2d14cd538b",
       "style": "IPY_MODEL_52617663227d4ce387ed18cd58ef8da9"
      }
     },
     "c99349567fdc42e4800a3056b8913508": {
      "model_module": "@jupyter-widgets/base",
      "model_module_version": "1.2.0",
      "model_name": "LayoutModel",
      "state": {}
     },
     "c9a96d0fd8fd4e28af995fccc312c05c": {
      "model_module": "@jupyter-widgets/base",
      "model_module_version": "1.2.0",
      "model_name": "LayoutModel",
      "state": {}
     },
     "c9ba18a53d564b14971c10b740deebc4": {
      "model_module": "@jupyter-widgets/controls",
      "model_module_version": "1.5.0",
      "model_name": "DropdownModel",
      "state": {
       "_options_labels": [
        "appdata\\inputs",
        "appdata",
        ""
       ],
       "index": 0,
       "layout": "IPY_MODEL_6382b9c4099c4678aa146fb5f430c433",
       "style": "IPY_MODEL_eb4ae4991d454a288ecdb3b72cdd5335"
      }
     },
     "ca14b2ed815e46e5ad85777d1dde1872": {
      "model_module": "@jupyter-widgets/controls",
      "model_module_version": "1.5.0",
      "model_name": "HTMLModel",
      "state": {
       "layout": "IPY_MODEL_f77b11ce1baa4b6d82d3ba781874110e",
       "style": "IPY_MODEL_4826457e988c4e3ebad31fa9afa60a9e",
       "value": "<p>allows users to group spaces to different systems</p>"
      }
     },
     "ca689a4365d643a38d74411e104b1ade": {
      "model_module": "@jupyter-widgets/base",
      "model_module_version": "1.2.0",
      "model_name": "LayoutModel",
      "state": {
       "align_items": "stretch",
       "border": "dashed 0.2px green",
       "display": "flex",
       "flex_flow": "row",
       "grid_auto_columns": "True",
       "justify_content": "flex-start",
       "width": "100%"
      }
     },
     "ca723beba4264c62bdc0a6b4734a2c10": {
      "model_module": "@jupyter-widgets/controls",
      "model_module_version": "1.5.0",
      "model_name": "VBoxModel",
      "state": {
       "children": [
        "IPY_MODEL_4eff3c8850014d89a463b8f626dab534",
        "IPY_MODEL_9f119c07933e4e328e933eecb88efe64",
        "IPY_MODEL_0d63be18c0ce4ce08adfaa175b84d09f",
        "IPY_MODEL_891fec8cecd445a8be859550b9e46e55",
        "IPY_MODEL_c6699b94cb9c49b3937dbc63a02d60a0",
        "IPY_MODEL_0f9e68cd75dd4a659d624801d779eec1",
        "IPY_MODEL_145febe0a6e14572a9f97cad96a0f67b",
        "IPY_MODEL_28c248948ef34579b1b63dcc5daac573",
        "IPY_MODEL_c1cba9acbc134685a841905ea859e500",
        "IPY_MODEL_08acd28ca5af4432b47063babf020397",
        "IPY_MODEL_9582f1d461d64d4e90a968c44f4b2991",
        "IPY_MODEL_72a0d29148094107be7d1f19b31d0bc5",
        "IPY_MODEL_0cd098fba2bc4cd08818f47dd811e4f7"
       ],
       "layout": "IPY_MODEL_1e6a8c8932d2452488a231f5037f9fc2"
      }
     },
     "ca80b504665c4a73b96c580d5c0d4a4f": {
      "model_module": "@jupyter-widgets/controls",
      "model_module_version": "1.5.0",
      "model_name": "HBoxModel",
      "state": {
       "children": [
        "IPY_MODEL_4b9daf8d4f234bb9a3ad37fdec3851c3",
        "IPY_MODEL_ebef8345a4d246b7a92e72134859a1e8"
       ],
       "layout": "IPY_MODEL_1dfe4262e8634c919b53f96c9b8722d4"
      }
     },
     "cb23653609364816b254622db65da9e1": {
      "model_module": "@jupyter-widgets/base",
      "model_module_version": "1.2.0",
      "model_name": "LayoutModel",
      "state": {}
     },
     "cb3446b69d78404bb08304c8aa30db4f": {
      "model_module": "@jupyter-widgets/base",
      "model_module_version": "1.2.0",
      "model_name": "LayoutModel",
      "state": {
       "align_items": "stretch",
       "border": "dashed 0.2px green",
       "display": "flex",
       "flex_flow": "row",
       "grid_auto_columns": "True",
       "justify_content": "flex-start",
       "width": "100%"
      }
     },
     "cb51f41a9968473ca3a8474809e6c88d": {
      "model_module": "@jupyter-widgets/base",
      "model_module_version": "1.2.0",
      "model_name": "LayoutModel",
      "state": {
       "align_items": "stretch",
       "border": "dashed 0.2px green",
       "display": "flex",
       "flex_flow": "row",
       "grid_auto_columns": "True",
       "justify_content": "flex-start",
       "width": "100%"
      }
     },
     "cba6a9938fc749d7b5cff1814598344c": {
      "model_module": "@jupyter-widgets/controls",
      "model_module_version": "1.5.0",
      "model_name": "HTMLModel",
      "state": {
       "layout": "IPY_MODEL_5d11e3c9b9cc4952ad98b6563fc9345d",
       "style": "IPY_MODEL_6fb4fdf1cecc4a0ab5e5eadd41134869",
       "value": "<p>edit user input form below</p>"
      }
     },
     "cbaa2e280e2145b7a3103f116a0a810d": {
      "model_module": "@jupyter-widgets/base",
      "model_module_version": "1.2.0",
      "model_name": "LayoutModel",
      "state": {}
     },
     "cc23bd3c505f46e4a0630c24a6cfde76": {
      "model_module": "@jupyter-widgets/base",
      "model_module_version": "1.2.0",
      "model_name": "LayoutModel",
      "state": {}
     },
     "cc797af043764b8ea9f75e55539de0f1": {
      "model_module": "@jupyter-widgets/controls",
      "model_module_version": "1.5.0",
      "model_name": "ButtonStyleModel",
      "state": {
       "font_weight": "bold"
      }
     },
     "cce212bb875448fdab6f51b8fa87fa4f": {
      "model_module": "@jupyter-widgets/controls",
      "model_module_version": "1.5.0",
      "model_name": "DescriptionStyleModel",
      "state": {
       "description_width": ""
      }
     },
     "cce495af48e04bf3966a58b7e43288e2": {
      "model_module": "@jupyter-widgets/controls",
      "model_module_version": "1.5.0",
      "model_name": "HBoxModel",
      "state": {
       "children": [
        "IPY_MODEL_1865ca131b7340eb85a257a224e2fe55",
        "IPY_MODEL_d7521bf14b93437cb47cba42f4619ead"
       ],
       "layout": "IPY_MODEL_a191f132d630448c8d3cfc877e54a3fe"
      }
     },
     "ccf844177f54422b9d35d7b252b53a04": {
      "model_module": "@jupyter-widgets/output",
      "model_module_version": "1.0.0",
      "model_name": "OutputModel",
      "state": {
       "layout": "IPY_MODEL_3a6d52da194f4dc6a787459b7fb5c08a"
      }
     },
     "ccf88eacaefe4ed1b39e74a7b1f43f53": {
      "model_module": "@jupyter-widgets/base",
      "model_module_version": "1.2.0",
      "model_name": "LayoutModel",
      "state": {
       "align_items": "stretch",
       "display": "flex",
       "flex_flow": "row",
       "grid_auto_columns": "True",
       "justify_content": "flex-end",
       "width": "90%"
      }
     },
     "cd3f67be6b4f41f18cbb4890525f0d15": {
      "model_module": "@jupyter-widgets/controls",
      "model_module_version": "1.5.0",
      "model_name": "ButtonModel",
      "state": {
       "button_style": "warning",
       "description": "revert to last save",
       "layout": "IPY_MODEL_5234ee622bc04c9a9a296e8c2b968f99",
       "style": "IPY_MODEL_94107dfaf65446d1864ffd3d85e5d596"
      }
     },
     "cd684da7e09f416a93c01baf3d79043a": {
      "model_module": "@jupyter-widgets/controls",
      "model_module_version": "1.5.0",
      "model_name": "HBoxModel",
      "state": {
       "children": [
        "IPY_MODEL_6687602e79734280bb4bbee91c6c72e0",
        "IPY_MODEL_090e0c6622584f369887a10ba110faa9"
       ],
       "layout": "IPY_MODEL_8c44dc9645324d01afc469eab8a59bbf"
      }
     },
     "cdb775759c76492aaf42fe444060db62": {
      "model_module": "@jupyter-widgets/controls",
      "model_module_version": "1.5.0",
      "model_name": "DescriptionStyleModel",
      "state": {
       "description_width": ""
      }
     },
     "ce101e4256e640c99d239b1f1728a147": {
      "model_module": "@jupyter-widgets/controls",
      "model_module_version": "1.5.0",
      "model_name": "HTMLModel",
      "state": {
       "layout": "IPY_MODEL_a00e1afe10724cd8a41777396694d2a5",
       "style": "IPY_MODEL_e040264f172d40b6bcd555d02dbd1c3d",
       "value": "<p>fpth_in</p>"
      }
     },
     "ce3581470c56412c816046d8847a1d8b": {
      "model_module": "@jupyter-widgets/controls",
      "model_module_version": "1.5.0",
      "model_name": "SelectMultipleModel",
      "state": {
       "_options_labels": [
        "asfd",
        "10",
        "asdf"
       ],
       "index": [
        1
       ],
       "layout": "IPY_MODEL_143565e968b24c05bb4b5dfa834e1864",
       "rows": 5,
       "style": "IPY_MODEL_8af4d79fe9594579ac1236ddef7515a6"
      }
     },
     "ce441fb7ccb94109b75b4669b48b4bb4": {
      "model_module": "@jupyter-widgets/controls",
      "model_module_version": "1.5.0",
      "model_name": "DescriptionStyleModel",
      "state": {
       "description_width": ""
      }
     },
     "ce700b77ec1d4918be74123e7f3e1a7a": {
      "model_module": "@jupyter-widgets/base",
      "model_module_version": "1.2.0",
      "model_name": "LayoutModel",
      "state": {}
     },
     "cebd5f1633e54ea5912d49dbafc85479": {
      "model_module": "@jupyter-widgets/controls",
      "model_module_version": "1.5.0",
      "model_name": "ButtonModel",
      "state": {
       "button_style": "success",
       "description": "save changes",
       "layout": "IPY_MODEL_c67466b3c1e745f2840c00bac88269fe",
       "style": "IPY_MODEL_08d3725ca9dc497383bda9330a2a2302"
      }
     },
     "cee0b4182f494b2883f844faef3ccc77": {
      "model_module": "@jupyter-widgets/base",
      "model_module_version": "1.2.0",
      "model_name": "LayoutModel",
      "state": {
       "align_items": "stretch",
       "display": "flex",
       "flex_flow": "row",
       "grid_auto_columns": "True",
       "justify_content": "flex-end",
       "width": "90%"
      }
     },
     "cf00b1c91a8e4a7daa53e2521eea3e1c": {
      "model_module": "@jupyter-widgets/controls",
      "model_module_version": "1.5.0",
      "model_name": "HBoxModel",
      "state": {
       "children": [
        "IPY_MODEL_509873ba4fe348c2b1753d7cb6837849",
        "IPY_MODEL_8bae1db7bf064c17bca1045db4a75f12"
       ],
       "layout": "IPY_MODEL_4375f121ce2d4da29594eff9e520a598"
      }
     },
     "cf4c7d0793e244eeb328bc633cb37c3e": {
      "model_module": "@jupyter-widgets/controls",
      "model_module_version": "1.5.0",
      "model_name": "HBoxModel",
      "state": {
       "children": [
        "IPY_MODEL_162d703a10c145d4b53df1e1b8c38bd9",
        "IPY_MODEL_df9470608482407eab90955e613a696c"
       ],
       "layout": "IPY_MODEL_81b37d028cf64160b567db60eb4045b2"
      }
     },
     "cf4ccf39d5db479a9df26da9f4e9e98a": {
      "model_module": "@jupyter-widgets/base",
      "model_module_version": "1.2.0",
      "model_name": "LayoutModel",
      "state": {
       "display": "flex",
       "flex_flow": "row",
       "grid_auto_columns": "False",
       "justify_content": "flex-start",
       "width": "100%"
      }
     },
     "cf817a2e7dcf47ae92c6621a48a20417": {
      "model_module": "@jupyter-widgets/controls",
      "model_module_version": "1.5.0",
      "model_name": "DescriptionStyleModel",
      "state": {
       "description_width": ""
      }
     },
     "cfbb0ff8e1594ad0b0b62724f731b65f": {
      "model_module": "@jupyter-widgets/controls",
      "model_module_version": "1.5.0",
      "model_name": "DescriptionStyleModel",
      "state": {
       "description_width": ""
      }
     },
     "cfe2be985d874d11ae8c2c2641b5fb5e": {
      "model_module": "@jupyter-widgets/base",
      "model_module_version": "1.2.0",
      "model_name": "LayoutModel",
      "state": {}
     },
     "d0080444456d4d1381a720f2b5b23bc3": {
      "model_module": "@jupyter-widgets/controls",
      "model_module_version": "1.5.0",
      "model_name": "ToggleButtonModel",
      "state": {
       "icon": "arrow-down",
       "layout": "IPY_MODEL_d5c27adc195a4b07b138141b2c76655f",
       "style": "IPY_MODEL_6282e838f5964425a8f143b5c548ef56"
      }
     },
     "d01c77b4d8374083b20632886553c0c6": {
      "model_module": "@jupyter-widgets/output",
      "model_module_version": "1.0.0",
      "model_name": "OutputModel",
      "state": {
       "layout": "IPY_MODEL_25a7ea132a2a437c9f61ac700dbe31ee"
      }
     },
     "d02f8b55e49b47728f14b73e5d1e0613": {
      "model_module": "@jupyter-widgets/base",
      "model_module_version": "1.2.0",
      "model_name": "LayoutModel",
      "state": {}
     },
     "d05ebd26edac4b86bf67248cae94b334": {
      "model_module": "@jupyter-widgets/controls",
      "model_module_version": "1.5.0",
      "model_name": "GridBoxModel",
      "state": {
       "children": [
        "IPY_MODEL_c9ba18a53d564b14971c10b740deebc4",
        "IPY_MODEL_c416183705b84fc39546e3796ef9aa4f",
        "IPY_MODEL_dab409fd83c04a60a2527e6880a7e61a"
       ],
       "layout": "IPY_MODEL_c4c357c1adf343bfa315ecabb96ef889"
      }
     },
     "d06122405bdb4713a95c79ae80ea0a85": {
      "model_module": "@jupyter-widgets/base",
      "model_module_version": "1.2.0",
      "model_name": "LayoutModel",
      "state": {
       "display": "none",
       "width": "auto"
      }
     },
     "d075880b0edb4dcc94a1f6e5cadebb96": {
      "model_module": "@jupyter-widgets/base",
      "model_module_version": "1.2.0",
      "model_name": "LayoutModel",
      "state": {
       "width": "5%"
      }
     },
     "d07bbbf91aca4353a6778fde2939dbfe": {
      "model_module": "@jupyter-widgets/base",
      "model_module_version": "1.2.0",
      "model_name": "LayoutModel",
      "state": {}
     },
     "d08b7c512e9a45cb88f4dec4bb68eee3": {
      "model_module": "@jupyter-widgets/controls",
      "model_module_version": "1.5.0",
      "model_name": "HBoxModel",
      "state": {
       "children": [
        "IPY_MODEL_75b02c27e6cb4de081fa1329f0fa4402",
        "IPY_MODEL_6f7cd69762324557b5b8fddab4510a3b"
       ],
       "layout": "IPY_MODEL_a5b07713d7ab4adb9b3be6f6d606aab0"
      }
     },
     "d09fecf4f3dd4781bafb494fc93c1c21": {
      "model_module": "@jupyter-widgets/controls",
      "model_module_version": "1.5.0",
      "model_name": "ToggleButtonModel",
      "state": {
       "button_style": "info",
       "description": "inputs from file",
       "layout": "IPY_MODEL_c88098e38cc0491c84ded89605c52606",
       "style": "IPY_MODEL_781367ec7f6b40afa1e44a65f31a5c4d"
      }
     },
     "d124a148cdf7439d83795e4f8c547688": {
      "model_module": "@jupyter-widgets/controls",
      "model_module_version": "1.5.0",
      "model_name": "HTMLModel",
      "state": {
       "layout": "IPY_MODEL_ac49c27ee60f40b3857663e7e78cdfb0",
       "style": "IPY_MODEL_ed695e3cacbe4c8f8c01a099ed87d495",
       "value": "<p>name</p>"
      }
     },
     "d15fb686f05d4bbeb15e676bf5d73e58": {
      "model_module": "@jupyter-widgets/base",
      "model_module_version": "1.2.0",
      "model_name": "LayoutModel",
      "state": {}
     },
     "d164f73058a7491984fc1949c7867649": {
      "model_module": "@jupyter-widgets/output",
      "model_module_version": "1.0.0",
      "model_name": "OutputModel",
      "state": {
       "layout": "IPY_MODEL_7fca35b964e2469481d1a584ffba3efa"
      }
     },
     "d16e2d8fc3f742a2b4b7b474c00fcac2": {
      "model_module": "@jupyter-widgets/controls",
      "model_module_version": "1.5.0",
      "model_name": "ButtonModel",
      "state": {
       "button_style": "warning",
       "description": "revert to last save",
       "layout": "IPY_MODEL_c9a96d0fd8fd4e28af995fccc312c05c",
       "style": "IPY_MODEL_cc797af043764b8ea9f75e55539de0f1"
      }
     },
     "d1e205506b60412cabb5b6daa32f9278": {
      "model_module": "@jupyter-widgets/controls",
      "model_module_version": "1.5.0",
      "model_name": "HBoxModel",
      "state": {
       "children": [
        "IPY_MODEL_c03cefe400fc48e29d213d3b0b37f342",
        "IPY_MODEL_a085146fa3c740f8809c55a4ca4e456f"
       ],
       "layout": "IPY_MODEL_cee0b4182f494b2883f844faef3ccc77"
      }
     },
     "d1e41a4f95d14a87938bd6acabdec3d7": {
      "model_module": "@jupyter-widgets/controls",
      "model_module_version": "1.5.0",
      "model_name": "HBoxModel",
      "state": {
       "children": [
        "IPY_MODEL_d4095101334d422c943e9bd8d0600eba"
       ],
       "layout": "IPY_MODEL_2211b06e13214610acd38f70aad545fe"
      }
     },
     "d20bf5a710c442fdb4bd80c3a3351345": {
      "model_module": "@jupyter-widgets/base",
      "model_module_version": "1.2.0",
      "model_name": "LayoutModel",
      "state": {
       "align_items": "stretch",
       "display": "flex",
       "flex_flow": "row",
       "grid_auto_columns": "True",
       "justify_content": "flex-start",
       "width": "80%"
      }
     },
     "d20e33f1f4664f54858efda4807831b6": {
      "model_module": "@jupyter-widgets/controls",
      "model_module_version": "1.5.0",
      "model_name": "HBoxModel",
      "state": {
       "children": [
        "IPY_MODEL_985068524e4c443d95c0e53197264b5d",
        "IPY_MODEL_06fe4f17ce614c72a87522cf889379fe"
       ],
       "layout": "IPY_MODEL_3151511f90ae40b58a73ddae26da7347"
      }
     },
     "d23ed2904d824f7bbcb022f06a314ee8": {
      "model_module": "@jupyter-widgets/controls",
      "model_module_version": "1.5.0",
      "model_name": "DescriptionStyleModel",
      "state": {
       "description_width": ""
      }
     },
     "d27333fa00af44779f4c53a7c02d4dc1": {
      "model_module": "@jupyter-widgets/controls",
      "model_module_version": "1.5.0",
      "model_name": "HBoxModel",
      "state": {
       "children": [
        "IPY_MODEL_29265d83271846ecb989fb81af299391",
        "IPY_MODEL_4b36516838c54e7dabcb73246ac3b3b3"
       ],
       "layout": "IPY_MODEL_2dd9df3d50ce4346b2df5d61baa764d3"
      }
     },
     "d28071c5c83a43bdb74b01ac8ee30dc9": {
      "model_module": "@jupyter-widgets/base",
      "model_module_version": "1.2.0",
      "model_name": "LayoutModel",
      "state": {}
     },
     "d28ada6adfd741ac8260e00daca94cbe": {
      "model_module": "@jupyter-widgets/controls",
      "model_module_version": "1.5.0",
      "model_name": "HBoxModel",
      "state": {
       "children": [
        "IPY_MODEL_6b314a2e3c0947b0b78dc65c359f69fe",
        "IPY_MODEL_a6714fbe77004043adc9508008aab6f1"
       ],
       "layout": "IPY_MODEL_2440757cd0ab4614a9fbcab5a9c0092b"
      }
     },
     "d29bb717ce8f4b15a0cffdf261c67d2f": {
      "model_module": "@jupyter-widgets/base",
      "model_module_version": "1.2.0",
      "model_name": "LayoutModel",
      "state": {
       "align_items": "stretch",
       "display": "flex",
       "flex_flow": "row",
       "grid_auto_columns": "True",
       "justify_content": "flex-start",
       "width": "80%"
      }
     },
     "d2a25809b7bc4cf981e41f952cc09a51": {
      "model_module": "@jupyter-widgets/controls",
      "model_module_version": "1.5.0",
      "model_name": "HBoxModel",
      "state": {
       "children": [
        "IPY_MODEL_dee75dbf44a24ff9a39102615a9aaaba",
        "IPY_MODEL_72f7b2b58161412187a6e9d914893eb5"
       ],
       "layout": "IPY_MODEL_3954edb883d34cbd90b4927ecfe35e74"
      }
     },
     "d2f3d55b908e4d869c46a6060e6f7e76": {
      "model_module": "@jupyter-widgets/base",
      "model_module_version": "1.2.0",
      "model_name": "LayoutModel",
      "state": {}
     },
     "d35cc01ab05846d5ad5c003d33a3303f": {
      "model_module": "@jupyter-widgets/controls",
      "model_module_version": "1.5.0",
      "model_name": "SelectModel",
      "state": {
       "_options_labels": [
        "..",
        "archive",
        "modelruninputs",
        "inputs-create_model_run_file.json",
        "inputs-docx_to_pdf.json",
        "inputs-eplus_pipework_params-1.csv",
        "inputs-eplus_pipework_params.csv",
        "inputs-gbxml.json",
        "test-1.json",
        "test-derived-val.json",
        "test.json"
       ],
       "index": null,
       "layout": "IPY_MODEL_e6ef2b3971ac4c28a95e83dc1f7fae25",
       "rows": 8,
       "style": "IPY_MODEL_459e93de8f9640df868cc9b786608bf9"
      }
     },
     "d37109b548294fefa3e17ed2dfb3f99b": {
      "model_module": "@jupyter-widgets/base",
      "model_module_version": "1.2.0",
      "model_name": "LayoutModel",
      "state": {}
     },
     "d372ce59721545539a1d171b4286dca4": {
      "model_module": "@jupyter-widgets/base",
      "model_module_version": "1.2.0",
      "model_name": "LayoutModel",
      "state": {
       "align_items": "stretch",
       "display": "flex",
       "flex_flow": "row",
       "grid_auto_columns": "True",
       "justify_content": "flex-start",
       "width": "80%"
      }
     },
     "d397a2dbf8d446c687e3e195015ad935": {
      "model_module": "@jupyter-widgets/base",
      "model_module_version": "1.2.0",
      "model_name": "LayoutModel",
      "state": {}
     },
     "d3d9a8bb19ea4c2085407240a05c3213": {
      "model_module": "@jupyter-widgets/controls",
      "model_module_version": "1.5.0",
      "model_name": "DescriptionStyleModel",
      "state": {
       "description_width": ""
      }
     },
     "d3de5ac64b644b248ceb1be633d42d5e": {
      "model_module": "@jupyter-widgets/controls",
      "model_module_version": "1.5.0",
      "model_name": "ButtonModel",
      "state": {
       "description": "save",
       "layout": "IPY_MODEL_1bc7e71e393c431c947cd62ff111671c",
       "style": "IPY_MODEL_46a790c39d154519acebcf9c29b4d9f7"
      }
     },
     "d3ea088595d9408e90d6a902fe3e2074": {
      "model_module": "@jupyter-widgets/controls",
      "model_module_version": "1.5.0",
      "model_name": "DescriptionStyleModel",
      "state": {
       "description_width": ""
      }
     },
     "d4095101334d422c943e9bd8d0600eba": {
      "model_module": "@jupyter-widgets/controls",
      "model_module_version": "1.5.0",
      "model_name": "HBoxModel",
      "state": {
       "children": [
        "IPY_MODEL_6af24aad67c246b5ad3e91047249e2a5",
        "IPY_MODEL_2d1023467b9343538f8d18af4d252ffb"
       ],
       "layout": "IPY_MODEL_87c260595285407abda4185875c2fe37"
      }
     },
     "d42f65055336440da93ae73acd313682": {
      "model_module": "@jupyter-widgets/controls",
      "model_module_version": "1.5.0",
      "model_name": "HTMLModel",
      "state": {
       "layout": "IPY_MODEL_e0236ae16c8141a0ba1aa1d69021118f",
       "style": "IPY_MODEL_61d26d386aea4f188c7b51228961b7b7",
       "value": "<p>spc_name_index</p>"
      }
     },
     "d43671c31ea74afa9b33d715654c4571": {
      "model_module": "@jupyter-widgets/base",
      "model_module_version": "1.2.0",
      "model_name": "LayoutModel",
      "state": {}
     },
     "d444fd23987248088fcb31eeed6de4cb": {
      "model_module": "@jupyter-widgets/controls",
      "model_module_version": "1.5.0",
      "model_name": "FloatTextModel",
      "state": {
       "layout": "IPY_MODEL_fd860a7998c749609ab983a5990ac992",
       "step": null,
       "style": "IPY_MODEL_1c689cc9d9014298b0820eab681a7d0a",
       "value": 9
      }
     },
     "d484ad67a30e4f5581ae66c35ffa517b": {
      "model_module": "@jupyter-widgets/base",
      "model_module_version": "1.2.0",
      "model_name": "LayoutModel",
      "state": {}
     },
     "d53d8f9ebf194060823c7fe4ba1a779f": {
      "model_module": "@jupyter-widgets/base",
      "model_module_version": "1.2.0",
      "model_name": "LayoutModel",
      "state": {}
     },
     "d568882aa0b14df194d09af4c62ff4d1": {
      "model_module": "@jupyter-widgets/controls",
      "model_module_version": "1.5.0",
      "model_name": "ButtonModel",
      "state": {
       "button_style": "success",
       "description": "save changes",
       "layout": "IPY_MODEL_80f0bf7d1903490c801bdd810969f422",
       "style": "IPY_MODEL_f2cef92033ad4fdfae1228799d5ee2bb"
      }
     },
     "d5acccd20b6a40e0933ab0ddc5839aed": {
      "model_module": "@jupyter-widgets/controls",
      "model_module_version": "1.5.0",
      "model_name": "ButtonStyleModel",
      "state": {
       "font_weight": "bold"
      }
     },
     "d5c27adc195a4b07b138141b2c76655f": {
      "model_module": "@jupyter-widgets/base",
      "model_module_version": "1.2.0",
      "model_name": "LayoutModel",
      "state": {}
     },
     "d5e52e3f6c6343168d556af004afebb1": {
      "model_module": "@jupyter-widgets/controls",
      "model_module_version": "1.5.0",
      "model_name": "DescriptionStyleModel",
      "state": {
       "description_width": ""
      }
     },
     "d6072aedcaae4d578650d37031424313": {
      "model_module": "@jupyter-widgets/controls",
      "model_module_version": "1.5.0",
      "model_name": "DescriptionStyleModel",
      "state": {
       "description_width": ""
      }
     },
     "d61e75f1dc164df7a67b7deb7a8a022d": {
      "model_module": "@jupyter-widgets/controls",
      "model_module_version": "1.5.0",
      "model_name": "DescriptionStyleModel",
      "state": {
       "description_width": ""
      }
     },
     "d6307fb880334900b2bb510f35f8ef00": {
      "model_module": "@jupyter-widgets/base",
      "model_module_version": "1.2.0",
      "model_name": "LayoutModel",
      "state": {}
     },
     "d64525f5c165421f88cc13e52fe49fe8": {
      "model_module": "@jupyter-widgets/controls",
      "model_module_version": "1.5.0",
      "model_name": "DescriptionStyleModel",
      "state": {
       "description_width": ""
      }
     },
     "d6893b6887ad41e9ac75a7635ce260a3": {
      "model_module": "@jupyter-widgets/controls",
      "model_module_version": "1.5.0",
      "model_name": "HBoxModel",
      "state": {
       "children": [
        "IPY_MODEL_8a33bf6813784a4fb4a00e1ff2f7f4b1"
       ],
       "layout": "IPY_MODEL_6efae2f3f63c40058005c87d72381fd9"
      }
     },
     "d6c9cc7f838844bd8b6a0a0f882d1838": {
      "model_module": "@jupyter-widgets/controls",
      "model_module_version": "1.5.0",
      "model_name": "HBoxModel",
      "state": {
       "children": [
        "IPY_MODEL_1ca75cbba2174ab2b2b14ac84bfb9855",
        "IPY_MODEL_8b095f6b4df2421086de0704682b24b9"
       ],
       "layout": "IPY_MODEL_a373e9d6cd8947fc91beaf3767dc0177"
      }
     },
     "d6e05719f3e04587a3fbb65a004c49b1": {
      "model_module": "@jupyter-widgets/output",
      "model_module_version": "1.0.0",
      "model_name": "OutputModel",
      "state": {
       "layout": "IPY_MODEL_bf763be28f354b6bb3a95144849529c7"
      }
     },
     "d70d19857fac42acaafd8220816ef62f": {
      "model_module": "@jupyter-widgets/output",
      "model_module_version": "1.0.0",
      "model_name": "OutputModel",
      "state": {
       "layout": "IPY_MODEL_8b751f41584149daaf9a1f92f6206e74"
      }
     },
     "d7268307acfb43da962af87690f9b212": {
      "model_module": "@jupyter-widgets/controls",
      "model_module_version": "1.5.0",
      "model_name": "VBoxModel",
      "state": {
       "layout": "IPY_MODEL_483cb3d315924275a14896e3695c2391"
      }
     },
     "d74b340a0a80424a8e2b0417f4f302da": {
      "model_module": "@jupyter-widgets/base",
      "model_module_version": "1.2.0",
      "model_name": "LayoutModel",
      "state": {}
     },
     "d7521bf14b93437cb47cba42f4619ead": {
      "model_module": "@jupyter-widgets/controls",
      "model_module_version": "1.5.0",
      "model_name": "HTMLModel",
      "state": {
       "layout": "IPY_MODEL_d02f8b55e49b47728f14b73e5d1e0613",
       "style": "IPY_MODEL_87ad8b5d1f6a43c28d7f900bd8c7b3ff",
       "value": "<p>its a foo cake</p>"
      }
     },
     "d7541578526b438caca8a63c0d831111": {
      "model_module": "@jupyter-widgets/base",
      "model_module_version": "1.2.0",
      "model_name": "LayoutModel",
      "state": {}
     },
     "d75d3ca7c6a74d3087adc774efe1fe34": {
      "model_module": "@jupyter-widgets/base",
      "model_module_version": "1.2.0",
      "model_name": "LayoutModel",
      "state": {
       "align_items": "stretch",
       "border": "dashed 0.2px green",
       "display": "flex",
       "flex_flow": "row",
       "grid_auto_columns": "True",
       "justify_content": "flex-start",
       "width": "100%"
      }
     },
     "d7c893c6d0e446449e319241c3b38fd3": {
      "model_module": "@jupyter-widgets/base",
      "model_module_version": "1.2.0",
      "model_name": "LayoutModel",
      "state": {}
     },
     "d8209c2028894b8483283a2f885067b2": {
      "model_module": "@jupyter-widgets/controls",
      "model_module_version": "1.5.0",
      "model_name": "HTMLModel",
      "state": {
       "layout": "IPY_MODEL_1bf602d4b98448a6a2f449d8cf5d4e08",
       "style": "IPY_MODEL_ee4608f78d544fb9ae8ef1508aa39f8b",
       "value": "<p>its a delicious foo cake</p>"
      }
     },
     "d848b1ccd27c44148cfb4e1f4b00962c": {
      "model_module": "@jupyter-widgets/controls",
      "model_module_version": "1.5.0",
      "model_name": "HTMLModel",
      "state": {
       "layout": "IPY_MODEL_2084eb5654e74284b6dff9ec9a0f5046",
       "style": "IPY_MODEL_d6072aedcaae4d578650d37031424313",
       "value": "<p>its a foo cake</p>"
      }
     },
     "d85d142e84104812b84d38d0fe063f01": {
      "model_module": "@jupyter-widgets/base",
      "model_module_version": "1.2.0",
      "model_name": "LayoutModel",
      "state": {
       "align_items": "stretch",
       "display": "flex",
       "flex_flow": "row",
       "grid_auto_columns": "True",
       "justify_content": "flex-start",
       "width": "80%"
      }
     },
     "d86200ff8ea74fe9adfb2383255e6975": {
      "model_module": "@jupyter-widgets/base",
      "model_module_version": "1.2.0",
      "model_name": "LayoutModel",
      "state": {}
     },
     "d86feb1797ec4c46b6f1b6b37deefe33": {
      "model_module": "@jupyter-widgets/controls",
      "model_module_version": "1.5.0",
      "model_name": "DescriptionStyleModel",
      "state": {
       "description_width": ""
      }
     },
     "d901aec540404f0c9215a5c23334dace": {
      "model_module": "@jupyter-widgets/base",
      "model_module_version": "1.2.0",
      "model_name": "LayoutModel",
      "state": {}
     },
     "d908a3877f054ab4aabcae80f661499b": {
      "model_module": "@jupyter-widgets/controls",
      "model_module_version": "1.5.0",
      "model_name": "HTMLModel",
      "state": {
       "layout": "IPY_MODEL_34ba76d5ec714f1c83cddb26d68a2b1c",
       "style": "IPY_MODEL_281ec5124ba44baabce605473ced7108",
       "value": "<p>Filtered Runs to Graph?</p>"
      }
     },
     "d91f2b8c7d1644669f56aa0bdb00cdc0": {
      "model_module": "@jupyter-widgets/base",
      "model_module_version": "1.2.0",
      "model_name": "LayoutModel",
      "state": {
       "align_items": "stretch",
       "display": "flex",
       "flex_flow": "row",
       "grid_auto_columns": "True",
       "justify_content": "flex-end",
       "width": "90%"
      }
     },
     "d92238aae8a743c08b179124f4ac03b9": {
      "model_module": "@jupyter-widgets/base",
      "model_module_version": "1.2.0",
      "model_name": "LayoutModel",
      "state": {
       "align_items": "stretch",
       "border": "dashed 0.2px green",
       "display": "flex",
       "flex_flow": "row",
       "grid_auto_columns": "True",
       "justify_content": "flex-start",
       "width": "100%"
      }
     },
     "d941d7fe40df4cd39dccc52859a05384": {
      "model_module": "@jupyter-widgets/base",
      "model_module_version": "1.2.0",
      "model_name": "LayoutModel",
      "state": {}
     },
     "d9559aef181b4c5884d5efdb5b9abe9d": {
      "model_module": "@jupyter-widgets/output",
      "model_module_version": "1.0.0",
      "model_name": "OutputModel",
      "state": {
       "layout": "IPY_MODEL_cb23653609364816b254622db65da9e1"
      }
     },
     "d9cc3f026dbf4a23a01907873a827c58": {
      "model_module": "@jupyter-widgets/controls",
      "model_module_version": "1.5.0",
      "model_name": "DescriptionStyleModel",
      "state": {
       "description_width": ""
      }
     },
     "d9ef6d1a184b42c68d48bcd383971ece": {
      "model_module": "@jupyter-widgets/controls",
      "model_module_version": "1.5.0",
      "model_name": "DescriptionStyleModel",
      "state": {
       "description_width": ""
      }
     },
     "da6cdc2d730e4ecdb0d2035b02760ae2": {
      "model_module": "@jupyter-widgets/base",
      "model_module_version": "1.2.0",
      "model_name": "LayoutModel",
      "state": {}
     },
     "da9f4de7c8fd4af0a5b1abb8dcbac951": {
      "model_module": "@jupyter-widgets/base",
      "model_module_version": "1.2.0",
      "model_name": "LayoutModel",
      "state": {}
     },
     "dab409fd83c04a60a2527e6880a7e61a": {
      "model_module": "@jupyter-widgets/controls",
      "model_module_version": "1.5.0",
      "model_name": "SelectModel",
      "state": {
       "_options_labels": [
        "..",
        "archive",
        "modelruninputs",
        "inputs-create_model_run_file.json",
        "inputs-docx_to_pdf.json",
        "inputs-eplus_pipework_params-1.csv",
        "inputs-eplus_pipework_params.csv",
        "inputs-gbxml.json",
        "test-1.json",
        "test-derived-val.json",
        "test.json"
       ],
       "index": null,
       "layout": "IPY_MODEL_13dd2deff91b481ea127b0f4513719b6",
       "rows": 8,
       "style": "IPY_MODEL_98248e0cb01e4b3bbd3aecc4d0ab686f"
      }
     },
     "dae662dc2f9e4aa9b36a6ebb549dc49e": {
      "model_module": "@jupyter-widgets/controls",
      "model_module_version": "1.5.0",
      "model_name": "HTMLModel",
      "state": {
       "layout": "IPY_MODEL_15dfbfd560ed48a99af94c17332611fa",
       "style": "IPY_MODEL_bb4adaa0e1fd4d1fba5f1e2ab98f59c2",
       "value": "<p>label</p>"
      }
     },
     "db1e4867d99c443c9f2091bdf0f84a67": {
      "model_module": "@jupyter-widgets/base",
      "model_module_version": "1.2.0",
      "model_name": "LayoutModel",
      "state": {
       "align_items": "stretch",
       "border": "dashed 0.2px green",
       "display": "flex",
       "flex_flow": "row",
       "grid_auto_columns": "True",
       "justify_content": "flex-start",
       "width": "100%"
      }
     },
     "db78b7f7353b46e8b9dc2a84d1344ca5": {
      "model_module": "@jupyter-widgets/base",
      "model_module_version": "1.2.0",
      "model_name": "LayoutModel",
      "state": {}
     },
     "db8360c5356e4b5ebd98f2ce5708514e": {
      "model_module": "@jupyter-widgets/base",
      "model_module_version": "1.2.0",
      "model_name": "LayoutModel",
      "state": {}
     },
     "dbc3c08d2bab4b0db23215df89db3e19": {
      "model_module": "@jupyter-widgets/controls",
      "model_module_version": "1.5.0",
      "model_name": "DescriptionStyleModel",
      "state": {
       "description_width": ""
      }
     },
     "dc04b3b707b74fce960c77933166b42d": {
      "model_module": "@jupyter-widgets/base",
      "model_module_version": "1.2.0",
      "model_name": "LayoutModel",
      "state": {}
     },
     "dc092f4de089418abe016fcdb9efe444": {
      "model_module": "@jupyter-widgets/base",
      "model_module_version": "1.2.0",
      "model_name": "LayoutModel",
      "state": {}
     },
     "dc26b490188b4ec9aefd1f01d1aed8fb": {
      "model_module": "@jupyter-widgets/controls",
      "model_module_version": "1.5.0",
      "model_name": "FloatSliderModel",
      "state": {
       "layout": "IPY_MODEL_da9f4de7c8fd4af0a5b1abb8dcbac951",
       "max": 10,
       "style": "IPY_MODEL_0705ef454d644ca0be05274009c6aac5",
       "value": 1
      }
     },
     "dc34d7c30a5a48658a49202ab781fd0d": {
      "model_module": "@jupyter-widgets/base",
      "model_module_version": "1.2.0",
      "model_name": "LayoutModel",
      "state": {}
     },
     "dc5a686297904e828ab15edad0688073": {
      "model_module": "@jupyter-widgets/base",
      "model_module_version": "1.2.0",
      "model_name": "LayoutModel",
      "state": {}
     },
     "dc64e82318944c9aadaced8e50162dc2": {
      "model_module": "@jupyter-widgets/controls",
      "model_module_version": "1.5.0",
      "model_name": "DescriptionStyleModel",
      "state": {
       "description_width": ""
      }
     },
     "dc7948becb8c4f69b831811d5b722800": {
      "model_module": "@jupyter-widgets/base",
      "model_module_version": "1.2.0",
      "model_name": "LayoutModel",
      "state": {
       "align_items": "stretch",
       "display": "flex",
       "flex_flow": "row",
       "grid_auto_columns": "True",
       "justify_content": "flex-end",
       "width": "90%"
      }
     },
     "dcf75c2511ae4facb09a0568c36207f2": {
      "model_module": "@jupyter-widgets/controls",
      "model_module_version": "1.5.0",
      "model_name": "ToggleButtonModel",
      "state": {
       "icon": "arrow-down",
       "layout": "IPY_MODEL_209ad8b89658460f9d2517d59a4859b4",
       "style": "IPY_MODEL_a1252af1a6a34601bfd26317e64de158"
      }
     },
     "dd0b5f87d6204369a1223544c045b9cd": {
      "model_module": "@jupyter-widgets/base",
      "model_module_version": "1.2.0",
      "model_name": "LayoutModel",
      "state": {}
     },
     "dd38e5280f764909b5b4d6a2147044d8": {
      "model_module": "@jupyter-widgets/controls",
      "model_module_version": "1.5.0",
      "model_name": "HBoxModel",
      "state": {
       "children": [
        "IPY_MODEL_ecd46149d8a04bf39d776e24d2a0a6e6"
       ],
       "layout": "IPY_MODEL_8324d6cfff1548279e302df4c9e46718"
      }
     },
     "dd480c6ee1034756b582d71247a6e3dd": {
      "model_module": "@jupyter-widgets/controls",
      "model_module_version": "1.5.0",
      "model_name": "DescriptionStyleModel",
      "state": {
       "description_width": ""
      }
     },
     "ddb0c5b7a5a34355b692edf2ee7ea668": {
      "model_module": "@jupyter-widgets/base",
      "model_module_version": "1.2.0",
      "model_name": "LayoutModel",
      "state": {
       "align_items": "stretch",
       "border": "dashed 0.2px green",
       "display": "flex",
       "flex_flow": "row",
       "grid_auto_columns": "True",
       "justify_content": "flex-start",
       "width": "100%"
      }
     },
     "ddceb26888174e3a983995391166aed9": {
      "model_module": "@jupyter-widgets/controls",
      "model_module_version": "1.5.0",
      "model_name": "HBoxModel",
      "state": {
       "children": [
        "IPY_MODEL_e8979a910c59438088329feb9b46d98d",
        "IPY_MODEL_df8810badabf45a69b8772e003515716"
       ],
       "layout": "IPY_MODEL_378f41ebe1214deaadfac1b68305fd02"
      }
     },
     "dde2c212868e45b8ad063735f833fc21": {
      "model_module": "@jupyter-widgets/controls",
      "model_module_version": "1.5.0",
      "model_name": "HBoxModel",
      "state": {
       "children": [
        "IPY_MODEL_fd223673f28d4b03bc5c47f1c3055289",
        "IPY_MODEL_27d7c9f5fdf345d5ba0df8997493f76e"
       ],
       "layout": "IPY_MODEL_42026b36b74b491aa33c46138b446056"
      }
     },
     "de21c15e483b472883d0188a7a0fd657": {
      "model_module": "@jupyter-widgets/base",
      "model_module_version": "1.2.0",
      "model_name": "LayoutModel",
      "state": {}
     },
     "de2264e45c9d423a988f004515cfcac5": {
      "model_module": "@jupyter-widgets/base",
      "model_module_version": "1.2.0",
      "model_name": "LayoutModel",
      "state": {}
     },
     "de7a073169344999b4e2327486a99b02": {
      "model_module": "@jupyter-widgets/base",
      "model_module_version": "1.2.0",
      "model_name": "LayoutModel",
      "state": {
       "align_items": "stretch",
       "display": "flex",
       "flex_flow": "row",
       "grid_auto_columns": "True",
       "justify_content": "flex-end",
       "width": "90%"
      }
     },
     "de7ea5d3a322473984d3fbfeacebf593": {
      "model_module": "@jupyter-widgets/base",
      "model_module_version": "1.2.0",
      "model_name": "LayoutModel",
      "state": {}
     },
     "de7fc05645784aa7b3915cdf4066fb16": {
      "model_module": "@jupyter-widgets/controls",
      "model_module_version": "1.5.0",
      "model_name": "ButtonModel",
      "state": {
       "description": "load",
       "icon": "upload",
       "layout": "IPY_MODEL_750ac0d125a242ff96f1b38017b393a8",
       "style": "IPY_MODEL_bac1f4ca7bf24377bd51f3a0a57dda9c"
      }
     },
     "deada88dc7bd49d28d14e7af41f00f2b": {
      "model_module": "@jupyter-widgets/controls",
      "model_module_version": "1.5.0",
      "model_name": "HTMLModel",
      "state": {
       "layout": "IPY_MODEL_e24e21d94e4845edabdb2ec626eda1b1",
       "style": "IPY_MODEL_95f30493742147ceb1e92468a28a63db"
      }
     },
     "dee45278e5f94c69b86e7b23de6a8625": {
      "model_module": "@jupyter-widgets/controls",
      "model_module_version": "1.5.0",
      "model_name": "ButtonModel",
      "state": {
       "button_style": "success",
       "description": "save changes",
       "layout": "IPY_MODEL_d15fb686f05d4bbeb15e676bf5d73e58",
       "style": "IPY_MODEL_56a872e4f7b145b48e72ee92733eebee"
      }
     },
     "dee75dbf44a24ff9a39102615a9aaaba": {
      "model_module": "@jupyter-widgets/controls",
      "model_module_version": "1.5.0",
      "model_name": "HTMLModel",
      "state": {
       "layout": "IPY_MODEL_4e32743e5259452a8947a2b67d49d54c",
       "style": "IPY_MODEL_2adf9eef07764f86b6444b9153cdebbc",
       "value": "<p>Internal Gains</p>"
      }
     },
     "df16ec8a6462425aa9e5e469ca74267e": {
      "model_module": "@jupyter-widgets/base",
      "model_module_version": "1.2.0",
      "model_name": "LayoutModel",
      "state": {}
     },
     "df237abde36e4d6d9752ef6cd7728ad0": {
      "model_module": "@jupyter-widgets/base",
      "model_module_version": "1.2.0",
      "model_name": "LayoutModel",
      "state": {
       "align_items": "stretch",
       "border": "dashed 0.2px green",
       "display": "flex",
       "flex_flow": "row",
       "grid_auto_columns": "True",
       "justify_content": "flex-start",
       "width": "100%"
      }
     },
     "df2a1311667d4acab6ef3419eb9721be": {
      "model_module": "@jupyter-widgets/controls",
      "model_module_version": "1.5.0",
      "model_name": "TextareaModel",
      "state": {
       "layout": "IPY_MODEL_7bc77c22b6bd49338b13a454fdfc5bb6",
       "style": "IPY_MODEL_e977d0776a21495f94b0b5ba6cc0d3a2"
      }
     },
     "df3921f6571d4015bb558eb245e9761f": {
      "model_module": "@jupyter-widgets/output",
      "model_module_version": "1.0.0",
      "model_name": "OutputModel",
      "state": {
       "layout": "IPY_MODEL_1cd3818ac1244f0a967c6d6cf81b4230"
      }
     },
     "df63cf678b144369a683897fe5869a23": {
      "model_module": "@jupyter-widgets/base",
      "model_module_version": "1.2.0",
      "model_name": "LayoutModel",
      "state": {
       "align_items": "stretch",
       "display": "flex",
       "flex_flow": "row",
       "grid_auto_columns": "True",
       "justify_content": "flex-start",
       "width": "80%"
      }
     },
     "df8810badabf45a69b8772e003515716": {
      "model_module": "@jupyter-widgets/controls",
      "model_module_version": "1.5.0",
      "model_name": "HTMLModel",
      "state": {
       "layout": "IPY_MODEL_bf133ec99de848c09bae603313322403",
       "style": "IPY_MODEL_8288fc698d0a4337b434b74bed7b3e29"
      }
     },
     "df9470608482407eab90955e613a696c": {
      "model_module": "@jupyter-widgets/controls",
      "model_module_version": "1.5.0",
      "model_name": "HTMLModel",
      "state": {
       "layout": "IPY_MODEL_2c876cee33434cd0932c49dc578a7724",
       "style": "IPY_MODEL_73ecf0f707834bc49b684dc51194afdd",
       "value": "<p>label</p>"
      }
     },
     "dfa53c9581714a0aa7b1bd642f620270": {
      "model_module": "@jupyter-widgets/output",
      "model_module_version": "1.0.0",
      "model_name": "OutputModel",
      "state": {
       "layout": "IPY_MODEL_7d722dd3694049ab8ece7fe4ef94b009"
      }
     },
     "dfb0ec8e132f4ed5a9db33f1621feec2": {
      "model_module": "@jupyter-widgets/base",
      "model_module_version": "1.2.0",
      "model_name": "LayoutModel",
      "state": {
       "align_items": "stretch",
       "display": "flex",
       "flex_flow": "row",
       "grid_auto_columns": "True",
       "justify_content": "flex-end",
       "width": "90%"
      }
     },
     "dfe2c065d9124a35889c7aa24ec38686": {
      "model_module": "@jupyter-widgets/controls",
      "model_module_version": "1.5.0",
      "model_name": "ButtonStyleModel",
      "state": {}
     },
     "dff7f7797ee6434c9a889c7664d0f990": {
      "model_module": "@jupyter-widgets/controls",
      "model_module_version": "1.5.0",
      "model_name": "HBoxModel",
      "state": {
       "children": [
        "IPY_MODEL_5692a48106dd4faea9fc1caa06447f3b",
        "IPY_MODEL_d848b1ccd27c44148cfb4e1f4b00962c"
       ],
       "layout": "IPY_MODEL_bca716404026488c8f16261a41fe19ec"
      }
     },
     "e0153824493c4721b31c00b3e663d272": {
      "model_module": "@jupyter-widgets/base",
      "model_module_version": "1.2.0",
      "model_name": "LayoutModel",
      "state": {}
     },
     "e01c3b7c84964601833ece6f8ca28d1d": {
      "model_module": "@jupyter-widgets/base",
      "model_module_version": "1.2.0",
      "model_name": "LayoutModel",
      "state": {
       "align_items": "stretch",
       "display": "flex",
       "flex_flow": "row",
       "grid_auto_columns": "True",
       "justify_content": "flex-end",
       "width": "90%"
      }
     },
     "e0236ae16c8141a0ba1aa1d69021118f": {
      "model_module": "@jupyter-widgets/base",
      "model_module_version": "1.2.0",
      "model_name": "LayoutModel",
      "state": {}
     },
     "e03e1b61b6464eb8bb27d09c49ef6d0c": {
      "model_module": "@jupyter-widgets/controls",
      "model_module_version": "1.5.0",
      "model_name": "DescriptionStyleModel",
      "state": {
       "description_width": ""
      }
     },
     "e040264f172d40b6bcd555d02dbd1c3d": {
      "model_module": "@jupyter-widgets/controls",
      "model_module_version": "1.5.0",
      "model_name": "DescriptionStyleModel",
      "state": {
       "description_width": ""
      }
     },
     "e0ce3dbcdb594612a00d3c8ef7e158c2": {
      "model_module": "@jupyter-widgets/base",
      "model_module_version": "1.2.0",
      "model_name": "LayoutModel",
      "state": {}
     },
     "e1248b65b61242e391e8044a8c8da25d": {
      "model_module": "@jupyter-widgets/controls",
      "model_module_version": "1.5.0",
      "model_name": "HTMLModel",
      "state": {
       "layout": "IPY_MODEL_44bd219bbe324bac911f644df41c42c3",
       "style": "IPY_MODEL_47942ad332974fc8bb486eadd412d73c",
       "value": "<p>Tag for the Model, used within file naming</p>"
      }
     },
     "e15b9bd253c04ce9b5393ee2e935fe03": {
      "model_module": "@jupyter-widgets/controls",
      "model_module_version": "1.5.0",
      "model_name": "HBoxModel",
      "state": {
       "children": [
        "IPY_MODEL_e7a112d7558445e5ac47fbc4bc342c58",
        "IPY_MODEL_d16e2d8fc3f742a2b4b7b474c00fcac2",
        "IPY_MODEL_464019fb2cc640aa88520b0966e29036"
       ],
       "layout": "IPY_MODEL_2bcf229c6fea4e778053d0bc93f28613"
      }
     },
     "e191033ffb47472d9eebb6dc22adc649": {
      "model_module": "@jupyter-widgets/base",
      "model_module_version": "1.2.0",
      "model_name": "LayoutModel",
      "state": {}
     },
     "e1baeb9df582492ab05a4afb6638f396": {
      "model_module": "@jupyter-widgets/controls",
      "model_module_version": "1.5.0",
      "model_name": "HBoxModel",
      "state": {
       "children": [
        "IPY_MODEL_ed117ee55a6f47c386b8b324fec03bee",
        "IPY_MODEL_4b01ac4badb8411e8aaa6c82a7019e1a"
       ],
       "layout": "IPY_MODEL_a8340b8cb56a4cc2a93232f4fa694d94"
      }
     },
     "e24e21d94e4845edabdb2ec626eda1b1": {
      "model_module": "@jupyter-widgets/base",
      "model_module_version": "1.2.0",
      "model_name": "LayoutModel",
      "state": {}
     },
     "e2636d6a38d746fd9863e71b650b0fed": {
      "model_module": "@jupyter-widgets/controls",
      "model_module_version": "1.5.0",
      "model_name": "HBoxModel",
      "state": {
       "children": [
        "IPY_MODEL_2d485fe734e44856bc5bb1190ad79fe5",
        "IPY_MODEL_ca80b504665c4a73b96c580d5c0d4a4f"
       ],
       "layout": "IPY_MODEL_c907bfc91ee1490b923b8eafc58c391e"
      }
     },
     "e2ec9da8df374389a02d3d5a0c8531e8": {
      "model_module": "@jupyter-widgets/controls",
      "model_module_version": "1.5.0",
      "model_name": "HBoxModel",
      "state": {
       "children": [
        "IPY_MODEL_03b947c6a3974c32b4ad4d579e2f7059",
        "IPY_MODEL_84e04924867d4afeaabf37cbc1ad8d0d"
       ],
       "layout": "IPY_MODEL_bac2e25491a1482f8d9798cbc023aa6e"
      }
     },
     "e34fe498c97d4a0b94933d084aefc4eb": {
      "model_module": "@jupyter-widgets/controls",
      "model_module_version": "1.5.0",
      "model_name": "HBoxModel",
      "state": {
       "children": [
        "IPY_MODEL_ce3581470c56412c816046d8847a1d8b",
        "IPY_MODEL_599a9cef01d647bdb21f1a7fb301f8ff"
       ],
       "layout": "IPY_MODEL_46a738dd47fa42f9878890cb823d06c9"
      }
     },
     "e3890f1b7646443fac407ad8b7cf7f89": {
      "model_module": "@jupyter-widgets/controls",
      "model_module_version": "1.5.0",
      "model_name": "DescriptionStyleModel",
      "state": {
       "description_width": ""
      }
     },
     "e38adda208a04d148880109a07211554": {
      "model_module": "@jupyter-widgets/output",
      "model_module_version": "1.0.0",
      "model_name": "OutputModel",
      "state": {
       "layout": "IPY_MODEL_21510820efdc4f87b14c31ad6ced2190"
      }
     },
     "e3a9f40e35f945ebb1e33712ff4b89c0": {
      "model_module": "@jupyter-widgets/output",
      "model_module_version": "1.0.0",
      "model_name": "OutputModel",
      "state": {
       "layout": "IPY_MODEL_890d4bc32e3240cab15cd99d1d318e21"
      }
     },
     "e3b61ff7c895490cb37276988a67ddf6": {
      "model_module": "@jupyter-widgets/controls",
      "model_module_version": "1.5.0",
      "model_name": "HTMLModel",
      "state": {
       "layout": "IPY_MODEL_a6f8f87f1d7848b5903476c1ce2a15a7",
       "style": "IPY_MODEL_93579ffb96b54daf8585cca5ade89419",
       "value": "<p>edit user input form below</p>"
      }
     },
     "e3da127cf6ef45c7bd81dddd99fc8170": {
      "model_module": "@jupyter-widgets/controls",
      "model_module_version": "1.5.0",
      "model_name": "DescriptionStyleModel",
      "state": {
       "description_width": ""
      }
     },
     "e4cf13e34eb540e49a5001e147105551": {
      "model_module": "@jupyter-widgets/controls",
      "model_module_version": "1.5.0",
      "model_name": "DescriptionStyleModel",
      "state": {
       "description_width": ""
      }
     },
     "e4e2fe02b3bc48e18322cd63183a7eee": {
      "model_module": "@jupyter-widgets/base",
      "model_module_version": "1.2.0",
      "model_name": "LayoutModel",
      "state": {}
     },
     "e4f31b3935d74b21a639e9a59febd322": {
      "model_module": "@jupyter-widgets/base",
      "model_module_version": "1.2.0",
      "model_name": "LayoutModel",
      "state": {
       "align_items": "stretch",
       "display": "flex",
       "flex_flow": "row",
       "grid_auto_columns": "True",
       "justify_content": "flex-start",
       "width": "80%"
      }
     },
     "e562c5d28c0e4c8990d7c8a7f275a67f": {
      "model_module": "@jupyter-widgets/controls",
      "model_module_version": "1.5.0",
      "model_name": "HBoxModel",
      "state": {
       "children": [
        "IPY_MODEL_9bd4a88f96dd4788b9b00af732b2bcb7",
        "IPY_MODEL_6b88c1762f194f6888721f71a949a706"
       ],
       "layout": "IPY_MODEL_4dae8c6984e343bdb68c902d268e7314"
      }
     },
     "e5cffbb8d07e4d4e9ec05b24a0074e0c": {
      "model_module": "@jupyter-widgets/output",
      "model_module_version": "1.0.0",
      "model_name": "OutputModel",
      "state": {
       "layout": "IPY_MODEL_677e5a496c6448b6b19ea65d13c46f39"
      }
     },
     "e64b1d9ef7d84ef1a03be62117ad8d45": {
      "model_module": "@jupyter-widgets/controls",
      "model_module_version": "1.5.0",
      "model_name": "DescriptionStyleModel",
      "state": {
       "description_width": ""
      }
     },
     "e6ef2b3971ac4c28a95e83dc1f7fae25": {
      "model_module": "@jupyter-widgets/base",
      "model_module_version": "1.2.0",
      "model_name": "LayoutModel",
      "state": {
       "grid_area": "dircontent",
       "width": "auto"
      }
     },
     "e70a7d159fde4779a8f4d1a30ba4cf51": {
      "model_module": "@jupyter-widgets/base",
      "model_module_version": "1.2.0",
      "model_name": "LayoutModel",
      "state": {}
     },
     "e72a2bcca13b4564adcccd2d1323e742": {
      "model_module": "@jupyter-widgets/output",
      "model_module_version": "1.0.0",
      "model_name": "OutputModel",
      "state": {
       "layout": "IPY_MODEL_a87c483ef1214114930e5e4262c1eeb5"
      }
     },
     "e7a112d7558445e5ac47fbc4bc342c58": {
      "model_module": "@jupyter-widgets/controls",
      "model_module_version": "1.5.0",
      "model_name": "ToggleButtonModel",
      "state": {
       "button_style": "info",
       "description": "inputs from file",
       "layout": "IPY_MODEL_33c4014c30bc422f80f4121c42d0f465",
       "style": "IPY_MODEL_7414e858ff2644508e98c5cf6f6023b2"
      }
     },
     "e7fd4ec55fd44fd0b0235219d5d90aa4": {
      "model_module": "@jupyter-widgets/controls",
      "model_module_version": "1.5.0",
      "model_name": "HBoxModel",
      "state": {
       "children": [
        "IPY_MODEL_40e028f95c0b440a9b40ef75aadca771",
        "IPY_MODEL_9bd747e1d6fd4ebb9eaa4db60acb2147"
       ],
       "layout": "IPY_MODEL_f89c40447bae41e59d20e77f2151b160"
      }
     },
     "e80efae1d2bf43f4b005f514635a1619": {
      "model_module": "@jupyter-widgets/controls",
      "model_module_version": "1.5.0",
      "model_name": "DescriptionStyleModel",
      "state": {
       "description_width": ""
      }
     },
     "e83260c0c4ce4dc58a7ba86b271e4f1f": {
      "model_module": "@jupyter-widgets/base",
      "model_module_version": "1.2.0",
      "model_name": "LayoutModel",
      "state": {}
     },
     "e83f76d9a243480d87ce1e88f9691b45": {
      "model_module": "@jupyter-widgets/base",
      "model_module_version": "1.2.0",
      "model_name": "LayoutModel",
      "state": {
       "align_items": "stretch",
       "border": "dashed 0.2px green",
       "display": "flex",
       "flex_flow": "row",
       "grid_auto_columns": "True",
       "justify_content": "flex-start",
       "width": "100%"
      }
     },
     "e84211e3d90440d39286097130c40a98": {
      "model_module": "@jupyter-widgets/controls",
      "model_module_version": "1.5.0",
      "model_name": "FloatSliderModel",
      "state": {
       "layout": "IPY_MODEL_7da813d6171b4a3c8d2afacedfcb0c95",
       "max": 10,
       "style": "IPY_MODEL_ffcc97c8c5ca439482eb32109257b943",
       "value": 1
      }
     },
     "e85d107647ad47859710f447ed043b09": {
      "model_module": "@jupyter-widgets/output",
      "model_module_version": "1.0.0",
      "model_name": "OutputModel",
      "state": {
       "layout": "IPY_MODEL_d43671c31ea74afa9b33d715654c4571"
      }
     },
     "e8979a910c59438088329feb9b46d98d": {
      "model_module": "@jupyter-widgets/controls",
      "model_module_version": "1.5.0",
      "model_name": "HTMLModel",
      "state": {
       "layout": "IPY_MODEL_463ccd6ded3b46729505d623521ba9c5",
       "style": "IPY_MODEL_d3d9a8bb19ea4c2085407240a05c3213",
       "value": "000_YY-OverheatingAnalysis"
      }
     },
     "e8e337c839d649a2bcae41b5336ccb2b": {
      "model_module": "@jupyter-widgets/controls",
      "model_module_version": "1.5.0",
      "model_name": "DescriptionStyleModel",
      "state": {
       "description_width": ""
      }
     },
     "e9147757db9143fca968282ea16d5291": {
      "model_module": "@jupyter-widgets/controls",
      "model_module_version": "1.5.0",
      "model_name": "HTMLModel",
      "state": {
       "layout": "IPY_MODEL_0e18d54187dc44bfbcb79014e7089814",
       "style": "IPY_MODEL_be9a514b12dd4ba89ab906036ff37e39",
       "value": "<p>reus foo ous oo ous foo st</p>"
      }
     },
     "e9149914180b46b281077fc9007c0245": {
      "model_module": "@jupyter-widgets/controls",
      "model_module_version": "1.5.0",
      "model_name": "FloatSliderModel",
      "state": {
       "layout": "IPY_MODEL_b1225aa7e40d46de90f2bacd1f8aa47b",
       "max": 10,
       "style": "IPY_MODEL_1ac4b2ef037e4b1fa3de7167829e518d",
       "value": 1
      }
     },
     "e91809883ad3459da53e6d4ceb9d3b56": {
      "model_module": "@jupyter-widgets/controls",
      "model_module_version": "1.5.0",
      "model_name": "ToggleButtonModel",
      "state": {
       "description": "help",
       "icon": "fa-question-circle",
       "layout": "IPY_MODEL_eb9f6ffc4d1b490497cb9514fc1cae2b",
       "style": "IPY_MODEL_ab2ff3cbead7469b97cd900e9eb60049",
       "tooltip": "gives guidance"
      }
     },
     "e9556de6e3a24d40be5dc45878b79340": {
      "model_module": "@jupyter-widgets/controls",
      "model_module_version": "1.5.0",
      "model_name": "HBoxModel",
      "state": {
       "children": [
        "IPY_MODEL_676b3dfdd6e948c6a2d1006bf3c1795e",
        "IPY_MODEL_d20e33f1f4664f54858efda4807831b6"
       ],
       "layout": "IPY_MODEL_d91f2b8c7d1644669f56aa0bdb00cdc0"
      }
     },
     "e95fa3d8b90e47379c4c7179ebe8b54d": {
      "model_module": "@jupyter-widgets/controls",
      "model_module_version": "1.5.0",
      "model_name": "DescriptionStyleModel",
      "state": {
       "description_width": ""
      }
     },
     "e968dd2998ad41c6b62caeca7bef0c1e": {
      "model_module": "@jupyter-widgets/base",
      "model_module_version": "1.2.0",
      "model_name": "LayoutModel",
      "state": {}
     },
     "e977d0776a21495f94b0b5ba6cc0d3a2": {
      "model_module": "@jupyter-widgets/controls",
      "model_module_version": "1.5.0",
      "model_name": "DescriptionStyleModel",
      "state": {
       "description_width": ""
      }
     },
     "e978e3501e54439b97e65df9526bf9a7": {
      "model_module": "@jupyter-widgets/base",
      "model_module_version": "1.2.0",
      "model_name": "LayoutModel",
      "state": {
       "align_items": "stretch",
       "display": "flex",
       "flex_flow": "row",
       "grid_auto_columns": "True",
       "justify_content": "flex-end",
       "width": "90%"
      }
     },
     "e998ff29b3c14f4a892f26d3ad841649": {
      "model_module": "@jupyter-widgets/controls",
      "model_module_version": "1.5.0",
      "model_name": "HBoxModel",
      "state": {
       "children": [
        "IPY_MODEL_d908a3877f054ab4aabcae80f661499b",
        "IPY_MODEL_1bd82447f04243adb7566319bd10d14e"
       ],
       "layout": "IPY_MODEL_f1c8037a49bd45679e10ca691aaed879"
      }
     },
     "e9af4677ea704862a13581f46e0ab003": {
      "model_module": "@jupyter-widgets/base",
      "model_module_version": "1.2.0",
      "model_name": "LayoutModel",
      "state": {}
     },
     "e9ee707ce4bd4f1bba7d17331ebb540d": {
      "model_module": "@jupyter-widgets/controls",
      "model_module_version": "1.5.0",
      "model_name": "DescriptionStyleModel",
      "state": {
       "description_width": ""
      }
     },
     "e9f98be65a184e0197e98e08f37c92a9": {
      "model_module": "@jupyter-widgets/output",
      "model_module_version": "1.0.0",
      "model_name": "OutputModel",
      "state": {
       "layout": "IPY_MODEL_47e8743189c04a8882bb2fe241fcd23a"
      }
     },
     "ea53413dd7114625a35388f10d115eff": {
      "model_module": "@jupyter-widgets/controls",
      "model_module_version": "1.5.0",
      "model_name": "CheckboxModel",
      "state": {
       "disabled": false,
       "layout": "IPY_MODEL_de2264e45c9d423a988f004515cfcac5",
       "style": "IPY_MODEL_85fd728d4e3443f28dd405f009454980",
       "value": true
      }
     },
     "ea684d864f564c99913dae7d6cdb90e4": {
      "model_module": "@jupyter-widgets/controls",
      "model_module_version": "1.5.0",
      "model_name": "VBoxModel",
      "state": {
       "children": [
        "IPY_MODEL_4c9f9470fdcc49fdaddf6f519650e4da",
        "IPY_MODEL_fe829a00487d40b68767f3e28af712f3",
        "IPY_MODEL_faf9efc07d0f4cd5b5548ea9e4cc8ace",
        "IPY_MODEL_19eec374f48d4aa8bc5f4bfedb0a012b",
        "IPY_MODEL_3560c3266c2f42ac91fb3d40717982b9",
        "IPY_MODEL_54e55ec97a6947b2a93f1e089ae1af9b",
        "IPY_MODEL_484d31700df247cdb9ee4119d0e71508",
        "IPY_MODEL_c444a9b6b2634f15b2e1775c33363f55"
       ],
       "layout": "IPY_MODEL_f3d81a8ab6ad49b190aeb762a3b8fd29"
      }
     },
     "ea9d8e6997e74016a5f6ed105a753da3": {
      "model_module": "@jupyter-widgets/controls",
      "model_module_version": "1.5.0",
      "model_name": "HBoxModel",
      "state": {
       "children": [
        "IPY_MODEL_1007af72429d4adba0ce082fc8c78adf",
        "IPY_MODEL_f06708b3d3e44c61b461889b9074f751"
       ],
       "layout": "IPY_MODEL_af88e83430864698bc0c5be53556f6cb"
      }
     },
     "eaf862a1fb954a448c330f9ef8d75c80": {
      "model_module": "@jupyter-widgets/base",
      "model_module_version": "1.2.0",
      "model_name": "LayoutModel",
      "state": {
       "align_items": "stretch",
       "display": "flex",
       "flex_flow": "row",
       "grid_auto_columns": "True",
       "justify_content": "flex-start",
       "width": "80%"
      }
     },
     "eb4ae4991d454a288ecdb3b72cdd5335": {
      "model_module": "@jupyter-widgets/controls",
      "model_module_version": "1.5.0",
      "model_name": "DescriptionStyleModel",
      "state": {
       "description_width": ""
      }
     },
     "eb5719e2161f43a687278384da0340b9": {
      "model_module": "@jupyter-widgets/base",
      "model_module_version": "1.2.0",
      "model_name": "LayoutModel",
      "state": {
       "align_items": "stretch",
       "display": "flex",
       "flex_flow": "row",
       "grid_auto_columns": "True",
       "justify_content": "flex-end",
       "width": "90%"
      }
     },
     "eb9f6ffc4d1b490497cb9514fc1cae2b": {
      "model_module": "@jupyter-widgets/base",
      "model_module_version": "1.2.0",
      "model_name": "LayoutModel",
      "state": {
       "width": "5%"
      }
     },
     "ebb48af2366d408488486871df6e0232": {
      "model_module": "@jupyter-widgets/output",
      "model_module_version": "1.0.0",
      "model_name": "OutputModel",
      "state": {
       "layout": "IPY_MODEL_621392900c26436bb830f25342e9ac3b"
      }
     },
     "ebef8345a4d246b7a92e72134859a1e8": {
      "model_module": "@jupyter-widgets/controls",
      "model_module_version": "1.5.0",
      "model_name": "HTMLModel",
      "state": {
       "layout": "IPY_MODEL_3a5bc47aeb8949d68af1562ead6c81c8",
       "style": "IPY_MODEL_86f7872484c24168af9a6f5448391166",
       "value": "<p>its a foo cake</p>"
      }
     },
     "ec68e90c104e4777b4e04a8f7194a9b5": {
      "model_module": "@jupyter-widgets/base",
      "model_module_version": "1.2.0",
      "model_name": "LayoutModel",
      "state": {
       "width": "auto"
      }
     },
     "ec861170a2c347119f6e6de404008873": {
      "model_module": "@jupyter-widgets/controls",
      "model_module_version": "1.5.0",
      "model_name": "HBoxModel",
      "state": {
       "children": [
        "IPY_MODEL_727940f9919e4adba0d36625eb783dc4",
        "IPY_MODEL_afcc06aa518c4bda8000f4a05ad6ba74"
       ],
       "layout": "IPY_MODEL_e4f31b3935d74b21a639e9a59febd322"
      }
     },
     "ecd46149d8a04bf39d776e24d2a0a6e6": {
      "model_module": "@jupyter-widgets/controls",
      "model_module_version": "1.5.0",
      "model_name": "HBoxModel",
      "state": {
       "children": [
        "IPY_MODEL_4722cfb1561c44ddbfc982fc8ee3bbe1",
        "IPY_MODEL_cd684da7e09f416a93c01baf3d79043a"
       ],
       "layout": "IPY_MODEL_8dae0d616e9f4d038d8ddbd3d77ea282"
      }
     },
     "ecfa4491856f4613b9e3f2a99b43ec47": {
      "model_module": "@jupyter-widgets/controls",
      "model_module_version": "1.5.0",
      "model_name": "HBoxModel",
      "state": {
       "children": [
        "IPY_MODEL_21ef82e8008342e4a3b64bc0983321c0",
        "IPY_MODEL_ddceb26888174e3a983995391166aed9"
       ],
       "layout": "IPY_MODEL_de7a073169344999b4e2327486a99b02"
      }
     },
     "ed117ee55a6f47c386b8b324fec03bee": {
      "model_module": "@jupyter-widgets/controls",
      "model_module_version": "1.5.0",
      "model_name": "CheckboxModel",
      "state": {
       "disabled": false,
       "layout": "IPY_MODEL_53fa32b29c9a48b7a2e0b681c2c2fbdb",
       "style": "IPY_MODEL_ef26f7c6ed27469fa74e0f4fed10acbc",
       "value": true
      }
     },
     "ed1638f5d83b4ac0b2f3b7e2a89c0784": {
      "model_module": "@jupyter-widgets/controls",
      "model_module_version": "1.5.0",
      "model_name": "SelectMultipleModel",
      "state": {
       "_options_labels": [
        "asfd",
        "10",
        "asdf"
       ],
       "index": [
        1
       ],
       "layout": "IPY_MODEL_d86200ff8ea74fe9adfb2383255e6975",
       "rows": 5,
       "style": "IPY_MODEL_6450c08d9d414147aca5e29b181bba69"
      }
     },
     "ed29b54bdd874e6087507c5dc1a5604a": {
      "model_module": "@jupyter-widgets/base",
      "model_module_version": "1.2.0",
      "model_name": "LayoutModel",
      "state": {}
     },
     "ed695e3cacbe4c8f8c01a099ed87d495": {
      "model_module": "@jupyter-widgets/controls",
      "model_module_version": "1.5.0",
      "model_name": "DescriptionStyleModel",
      "state": {
       "description_width": ""
      }
     },
     "ed6d694f5cff4bc9bd31a96ff61cf9c5": {
      "model_module": "@jupyter-widgets/base",
      "model_module_version": "1.2.0",
      "model_name": "LayoutModel",
      "state": {
       "align_items": "stretch",
       "border": "dashed 0.2px green",
       "display": "flex",
       "flex_flow": "row",
       "grid_auto_columns": "True",
       "justify_content": "flex-start",
       "width": "100%"
      }
     },
     "ed860d6b4dcf44e78a005025aab5278a": {
      "model_module": "@jupyter-widgets/controls",
      "model_module_version": "1.5.0",
      "model_name": "HTMLModel",
      "state": {
       "layout": "IPY_MODEL_6ef36e4e4b8440618a8695ada72791f2",
       "style": "IPY_MODEL_4e474c15f7ef4233b533daaddd7652a3",
       "value": "<p>Cooling</p>"
      }
     },
     "ee030da3d20644a9abb299aba78b6079": {
      "model_module": "@jupyter-widgets/base",
      "model_module_version": "1.2.0",
      "model_name": "LayoutModel",
      "state": {
       "align_items": "stretch",
       "display": "flex",
       "flex_flow": "row",
       "grid_auto_columns": "True",
       "justify_content": "flex-start",
       "width": "80%"
      }
     },
     "ee4608f78d544fb9ae8ef1508aa39f8b": {
      "model_module": "@jupyter-widgets/controls",
      "model_module_version": "1.5.0",
      "model_name": "DescriptionStyleModel",
      "state": {
       "description_width": ""
      }
     },
     "ee72ae52cb1846af8c250ed49d8ceae7": {
      "model_module": "@jupyter-widgets/base",
      "model_module_version": "1.2.0",
      "model_name": "LayoutModel",
      "state": {}
     },
     "ee8f7cc54eef48c0855c2217746b6702": {
      "model_module": "@jupyter-widgets/base",
      "model_module_version": "1.2.0",
      "model_name": "LayoutModel",
      "state": {}
     },
     "eeb50f464bd04e9993c8742aa332efba": {
      "model_module": "@jupyter-widgets/controls",
      "model_module_version": "1.5.0",
      "model_name": "DescriptionStyleModel",
      "state": {
       "description_width": ""
      }
     },
     "eec254e43da04298ab2791423b4a29c6": {
      "model_module": "@jupyter-widgets/base",
      "model_module_version": "1.2.0",
      "model_name": "LayoutModel",
      "state": {}
     },
     "eef6dcaec8bf4915a645edf8a718f2a2": {
      "model_module": "@jupyter-widgets/controls",
      "model_module_version": "1.5.0",
      "model_name": "HTMLModel",
      "state": {
       "layout": "IPY_MODEL_2f1cda4a263d49c69126d3ac29be1133",
       "style": "IPY_MODEL_c05d9bea52764438a66c6e87f668d902",
       "value": "<p>defines the logic of the space naming. use default value where practical.</p>"
      }
     },
     "ef0a7ad75d254b4bac1b7cfe9f20bc46": {
      "model_module": "@jupyter-widgets/controls",
      "model_module_version": "1.5.0",
      "model_name": "DescriptionStyleModel",
      "state": {
       "description_width": ""
      }
     },
     "ef26f7c6ed27469fa74e0f4fed10acbc": {
      "model_module": "@jupyter-widgets/controls",
      "model_module_version": "1.5.0",
      "model_name": "DescriptionStyleModel",
      "state": {
       "description_width": ""
      }
     },
     "ef41e46e3aeb4780b58a0fbaaca52a7d": {
      "model_module": "@jupyter-widgets/base",
      "model_module_version": "1.2.0",
      "model_name": "LayoutModel",
      "state": {}
     },
     "ef73e4a18ada4aa1806c0cf8749190a3": {
      "model_module": "@jupyter-widgets/controls",
      "model_module_version": "1.5.0",
      "model_name": "DescriptionStyleModel",
      "state": {
       "description_width": ""
      }
     },
     "ef82fc670d3f440c947f391b7528b37b": {
      "model_module": "@jupyter-widgets/output",
      "model_module_version": "1.0.0",
      "model_name": "OutputModel",
      "state": {
       "layout": "IPY_MODEL_02de846da87b4372a6f08f4d13d3a731"
      }
     },
     "efa7e2ec431441d8a9b892e2f6c10cb7": {
      "model_module": "@jupyter-widgets/controls",
      "model_module_version": "1.5.0",
      "model_name": "HTMLModel",
      "state": {
       "layout": "IPY_MODEL_e9af4677ea704862a13581f46e0ab003",
       "style": "IPY_MODEL_2a3d51a115fb4f3a813f0fe524a847de",
       "value": "<p>Fabrics</p>"
      }
     },
     "efedc2ab39ec4bc9aed0f7b2742ea6f9": {
      "model_module": "@jupyter-widgets/base",
      "model_module_version": "1.2.0",
      "model_name": "LayoutModel",
      "state": {}
     },
     "f05b2d48e8b142b8b8a68e58627e6839": {
      "model_module": "@jupyter-widgets/base",
      "model_module_version": "1.2.0",
      "model_name": "LayoutModel",
      "state": {}
     },
     "f06708b3d3e44c61b461889b9074f751": {
      "model_module": "@jupyter-widgets/controls",
      "model_module_version": "1.5.0",
      "model_name": "HTMLModel",
      "state": {
       "layout": "IPY_MODEL_4087b1029ff049ee926ebc0146cc5428",
       "style": "IPY_MODEL_1cb51e765754451eb2c31ccd58b61556",
       "value": "<p>Number, using to prefix the file name</p>"
      }
     },
     "f09cdac23ec64e4a8e7d3c14d8be1699": {
      "model_module": "@jupyter-widgets/base",
      "model_module_version": "1.2.0",
      "model_name": "LayoutModel",
      "state": {
       "align_items": "stretch",
       "display": "flex",
       "flex_flow": "row",
       "grid_auto_columns": "True",
       "justify_content": "flex-start",
       "width": "80%"
      }
     },
     "f0a75da10e0e488e80d23804b942eb4b": {
      "model_module": "@jupyter-widgets/controls",
      "model_module_version": "1.5.0",
      "model_name": "ToggleButtonModel",
      "state": {
       "icon": "arrow-down",
       "layout": "IPY_MODEL_6f12b22cf77d41ef86af2af1c9499a7b",
       "style": "IPY_MODEL_e03e1b61b6464eb8bb27d09c49ef6d0c"
      }
     },
     "f128aa631e184d5592ac990c7d60a5a2": {
      "model_module": "@jupyter-widgets/base",
      "model_module_version": "1.2.0",
      "model_name": "LayoutModel",
      "state": {
       "align_items": "stretch",
       "display": "flex",
       "flex_flow": "row",
       "grid_auto_columns": "True",
       "justify_content": "flex-end",
       "width": "90%"
      }
     },
     "f12c87d525814f008432cf2975793b36": {
      "model_module": "@jupyter-widgets/base",
      "model_module_version": "1.2.0",
      "model_name": "LayoutModel",
      "state": {
       "align_items": "stretch",
       "border": "dashed 0.2px green",
       "display": "flex",
       "flex_flow": "row",
       "grid_auto_columns": "True",
       "justify_content": "flex-start",
       "width": "100%"
      }
     },
     "f15657d45b734104b8226b3858a49bea": {
      "model_module": "@jupyter-widgets/base",
      "model_module_version": "1.2.0",
      "model_name": "LayoutModel",
      "state": {
       "align_items": "stretch",
       "display": "flex",
       "flex_flow": "row",
       "grid_auto_columns": "True",
       "justify_content": "flex-start",
       "width": "80%"
      }
     },
     "f15e104c0f624445aa6a17d3717fbd0d": {
      "model_module": "@jupyter-widgets/controls",
      "model_module_version": "1.5.0",
      "model_name": "HTMLModel",
      "state": {
       "layout": "IPY_MODEL_0ff9de5aebfc486bb1bec773c916f4bc",
       "style": "IPY_MODEL_8a366b50dfd54ff0a2448280b0b2f9eb",
       "value": "<p>spc_name_index</p>"
      }
     },
     "f185d5636ea94e188414031b61635846": {
      "model_module": "@jupyter-widgets/controls",
      "model_module_version": "1.5.0",
      "model_name": "HTMLModel",
      "state": {
       "layout": "IPY_MODEL_2fae5707cc4c43dba39ed3735d4a701c",
       "style": "IPY_MODEL_f9ec396764bd4420b0985bd83cb6a28c",
       "value": "<p>input docx filepath</p>"
      }
     },
     "f1c8037a49bd45679e10ca691aaed879": {
      "model_module": "@jupyter-widgets/base",
      "model_module_version": "1.2.0",
      "model_name": "LayoutModel",
      "state": {
       "align_items": "stretch",
       "display": "flex",
       "flex_flow": "row",
       "grid_auto_columns": "True",
       "justify_content": "flex-end",
       "width": "90%"
      }
     },
     "f1f768345181443d9e5c4c61c32bc808": {
      "model_module": "@jupyter-widgets/controls",
      "model_module_version": "1.5.0",
      "model_name": "DescriptionStyleModel",
      "state": {
       "description_width": ""
      }
     },
     "f27cdbe5ad3e46b3a5c7202cc19eba4e": {
      "model_module": "@jupyter-widgets/base",
      "model_module_version": "1.2.0",
      "model_name": "LayoutModel",
      "state": {}
     },
     "f27f9a5f5b7e484ebd833dee3008a99c": {
      "model_module": "@jupyter-widgets/base",
      "model_module_version": "1.2.0",
      "model_name": "LayoutModel",
      "state": {}
     },
     "f2b6c7413e114d06b81f0d7f215cd661": {
      "model_module": "@jupyter-widgets/controls",
      "model_module_version": "1.5.0",
      "model_name": "DescriptionStyleModel",
      "state": {
       "description_width": ""
      }
     },
     "f2cef92033ad4fdfae1228799d5ee2bb": {
      "model_module": "@jupyter-widgets/controls",
      "model_module_version": "1.5.0",
      "model_name": "ButtonStyleModel",
      "state": {
       "font_weight": "bold"
      }
     },
     "f2ec0d8356014bc99b320850a71e30db": {
      "model_module": "@jupyter-widgets/base",
      "model_module_version": "1.2.0",
      "model_name": "LayoutModel",
      "state": {
       "align_items": "stretch",
       "border": "dashed 0.2px green",
       "display": "flex",
       "flex_flow": "row",
       "grid_auto_columns": "True",
       "justify_content": "flex-start",
       "width": "100%"
      }
     },
     "f2fc0d8afd744435a8bca3e13be03ae4": {
      "model_module": "@jupyter-widgets/output",
      "model_module_version": "1.0.0",
      "model_name": "OutputModel",
      "state": {
       "layout": "IPY_MODEL_55e8ad2b70fe46478c6188b8eaf7825e"
      }
     },
     "f30b332da9c74dc8b5d5b335e152f7f3": {
      "model_module": "@jupyter-widgets/controls",
      "model_module_version": "1.5.0",
      "model_name": "DescriptionStyleModel",
      "state": {
       "description_width": ""
      }
     },
     "f3770668d8a44a84858cf2e4eb1f57e8": {
      "model_module": "@jupyter-widgets/output",
      "model_module_version": "1.0.0",
      "model_name": "OutputModel",
      "state": {
       "layout": "IPY_MODEL_102d573cdd8e4e1aadd21fa4f7232179",
       "outputs": [
        {
         "data": {
          "application/vnd.jupyter.widget-view+json": {
           "model_id": "",
           "version_major": 2,
           "version_minor": 0
          },
          "text/plain": "Output()"
         },
         "metadata": {},
         "output_type": "display_data"
        }
       ]
      }
     },
     "f39b4ee6bd24402d8585bd1faf2b9cff": {
      "model_module": "@jupyter-widgets/base",
      "model_module_version": "1.2.0",
      "model_name": "LayoutModel",
      "state": {}
     },
     "f3d81a8ab6ad49b190aeb762a3b8fd29": {
      "model_module": "@jupyter-widgets/base",
      "model_module_version": "1.2.0",
      "model_name": "LayoutModel",
      "state": {}
     },
     "f4307c98464048e489eb636ea0f6846f": {
      "model_module": "@jupyter-widgets/output",
      "model_module_version": "1.0.0",
      "model_name": "OutputModel",
      "state": {
       "layout": "IPY_MODEL_77a04aba059d4b61b6deca2406905297"
      }
     },
     "f443c589c478406aaf6d105ae3431dbc": {
      "model_module": "@jupyter-widgets/controls",
      "model_module_version": "1.5.0",
      "model_name": "TextModel",
      "state": {
       "layout": "IPY_MODEL_95a4aa2ac2384e89942b0c4bc92f7c5a",
       "style": "IPY_MODEL_6c2c698bf81b49469b0898c1fc2af259",
       "value": "C:\\engDev\\git_mf\\MF_Toolbox\\dev\\examples\\gbxml\\105_LiveseyExchange_heatpump-normal-fabric.xml"
      }
     },
     "f45489d42e7c40049493f1589af97487": {
      "model_module": "@jupyter-widgets/controls",
      "model_module_version": "1.5.0",
      "model_name": "DescriptionStyleModel",
      "state": {
       "description_width": ""
      }
     },
     "f4da70de27fd46fb9f29876105b0b9ab": {
      "model_module": "@jupyter-widgets/controls",
      "model_module_version": "1.5.0",
      "model_name": "HTMLModel",
      "state": {
       "layout": "IPY_MODEL_d2f3d55b908e4d869c46a6060e6f7e76",
       "style": "IPY_MODEL_b222d55c7bd24ff2bd623ca12bb064a7",
       "value": "<p>Model Desc</p>"
      }
     },
     "f4fafde32623496ea8145d6771751114": {
      "model_module": "@jupyter-widgets/output",
      "model_module_version": "1.0.0",
      "model_name": "OutputModel",
      "state": {
       "layout": "IPY_MODEL_d901aec540404f0c9215a5c23334dace"
      }
     },
     "f55183eb45bc43b59fd3464e08d4310c": {
      "model_module": "@jupyter-widgets/base",
      "model_module_version": "1.2.0",
      "model_name": "LayoutModel",
      "state": {}
     },
     "f599def52c4241cf8186ca1a7596b68c": {
      "model_module": "@jupyter-widgets/controls",
      "model_module_version": "1.5.0",
      "model_name": "HTMLModel",
      "state": {
       "layout": "IPY_MODEL_07367f6756ba42f39334fda5ec654620",
       "style": "IPY_MODEL_15e4d0536ea742429e4e0d2a62f7126c"
      }
     },
     "f59f7ccc84174ba2b65d212eb3d816b5": {
      "model_module": "@jupyter-widgets/controls",
      "model_module_version": "1.5.0",
      "model_name": "HTMLModel",
      "state": {
       "layout": "IPY_MODEL_c62cb2e349ab49da8685519b4f41ca40",
       "style": "IPY_MODEL_0173480a442a4503a991643b45b862fd",
       "value": "<p>foo</p>"
      }
     },
     "f5d81f7b19c249aab0818f7f08bcabeb": {
      "model_module": "@jupyter-widgets/base",
      "model_module_version": "1.2.0",
      "model_name": "LayoutModel",
      "state": {}
     },
     "f5f3349f6d604c69aa2e43d57529d3af": {
      "model_module": "@jupyter-widgets/output",
      "model_module_version": "1.0.0",
      "model_name": "OutputModel",
      "state": {
       "layout": "IPY_MODEL_b62c6c25857046e2a5b25bac2a7fdcee"
      }
     },
     "f62d36df00f64ae18651463fc401ead4": {
      "model_module": "@jupyter-widgets/output",
      "model_module_version": "1.0.0",
      "model_name": "OutputModel",
      "state": {
       "layout": "IPY_MODEL_3e5a530aaa654bd489d78f59d343ce9c"
      }
     },
     "f6509dcb424244cba92e6ae97f4982b7": {
      "model_module": "@jupyter-widgets/controls",
      "model_module_version": "1.5.0",
      "model_name": "VBoxModel",
      "state": {
       "children": [
        "IPY_MODEL_87b828edc0ad4248acd00e43a5b11719"
       ],
       "layout": "IPY_MODEL_0377d3ffe19b4b89a66c590aa4ce56ca"
      }
     },
     "f697ea2ee1e64cd187eb528119eb5e98": {
      "model_module": "@jupyter-widgets/base",
      "model_module_version": "1.2.0",
      "model_name": "LayoutModel",
      "state": {
       "align_items": "stretch",
       "display": "flex",
       "flex_flow": "row",
       "grid_auto_columns": "True",
       "justify_content": "flex-end",
       "width": "90%"
      }
     },
     "f6ee33dd73314befbe56815a0b3524e0": {
      "model_module": "@jupyter-widgets/controls",
      "model_module_version": "1.5.0",
      "model_name": "DescriptionStyleModel",
      "state": {
       "description_width": ""
      }
     },
     "f7497a354b624f26a3605744cc8510f9": {
      "model_module": "@jupyter-widgets/base",
      "model_module_version": "1.2.0",
      "model_name": "LayoutModel",
      "state": {
       "align_items": "stretch",
       "border": "dashed 0.2px green",
       "display": "flex",
       "flex_flow": "row",
       "grid_auto_columns": "True",
       "justify_content": "flex-start",
       "width": "100%"
      }
     },
     "f77b11ce1baa4b6d82d3ba781874110e": {
      "model_module": "@jupyter-widgets/base",
      "model_module_version": "1.2.0",
      "model_name": "LayoutModel",
      "state": {}
     },
     "f7a96e6e6e874e80befe1001e06d7bbb": {
      "model_module": "@jupyter-widgets/base",
      "model_module_version": "1.2.0",
      "model_name": "LayoutModel",
      "state": {
       "width": "5%"
      }
     },
     "f7f1a5d5bf1946cdb87db273280fe06c": {
      "model_module": "@jupyter-widgets/controls",
      "model_module_version": "1.5.0",
      "model_name": "HBoxModel",
      "state": {
       "children": [
        "IPY_MODEL_57e9953a5f4f421aa2a4ae784d477ed4",
        "IPY_MODEL_7e325fb5b7d9403d9a4bd540f7b062d2"
       ],
       "layout": "IPY_MODEL_1886506949154330bf98b831a48603d5"
      }
     },
     "f83037d085fd4d7cb61ece3306f574b0": {
      "model_module": "@jupyter-widgets/base",
      "model_module_version": "1.2.0",
      "model_name": "LayoutModel",
      "state": {
       "align_items": "stretch",
       "border": "dashed 0.2px green",
       "display": "flex",
       "flex_flow": "row",
       "grid_auto_columns": "True",
       "justify_content": "flex-start",
       "width": "100%"
      }
     },
     "f83251702996486e8cf997b839ad8509": {
      "model_module": "@jupyter-widgets/controls",
      "model_module_version": "1.5.0",
      "model_name": "DescriptionStyleModel",
      "state": {
       "description_width": ""
      }
     },
     "f869726bc8464a59a1b1665441978fe6": {
      "model_module": "@jupyter-widgets/controls",
      "model_module_version": "1.5.0",
      "model_name": "HTMLModel",
      "state": {
       "layout": "IPY_MODEL_17dc50b6e26a4255904dd744cb48adab",
       "style": "IPY_MODEL_7f2dfbed8bc249a684981f93e63237c6",
       "value": "<p>its a delicious foo cake</p>"
      }
     },
     "f89c40447bae41e59d20e77f2151b160": {
      "model_module": "@jupyter-widgets/base",
      "model_module_version": "1.2.0",
      "model_name": "LayoutModel",
      "state": {
       "align_items": "stretch",
       "display": "flex",
       "flex_flow": "row",
       "grid_auto_columns": "True",
       "justify_content": "flex-start",
       "width": "80%"
      }
     },
     "f8a85dd027af41199dac55ee9589cf6a": {
      "model_module": "@jupyter-widgets/controls",
      "model_module_version": "1.5.0",
      "model_name": "HBoxModel",
      "state": {
       "children": [
        "IPY_MODEL_3a21295832b9496bad01b7a95fcecd2b",
        "IPY_MODEL_9d9c53038ea24a17a18bd241e5381de9"
       ],
       "layout": "IPY_MODEL_696d886d97464ec7a168a3b6fcaafec8"
      }
     },
     "f8e8ab752d5c49be88672fc43e3b74d6": {
      "model_module": "@jupyter-widgets/base",
      "model_module_version": "1.2.0",
      "model_name": "LayoutModel",
      "state": {}
     },
     "f920741aebcc4ab6b50f8afb7e732576": {
      "model_module": "@jupyter-widgets/base",
      "model_module_version": "1.2.0",
      "model_name": "LayoutModel",
      "state": {}
     },
     "f94f73ae53e34e218b226006f2464443": {
      "model_module": "@jupyter-widgets/controls",
      "model_module_version": "1.5.0",
      "model_name": "HTMLModel",
      "state": {
       "layout": "IPY_MODEL_d941d7fe40df4cd39dccc52859a05384",
       "style": "IPY_MODEL_d86feb1797ec4c46b6f1b6b37deefe33",
       "value": "<p>define system grouping</p>"
      }
     },
     "f96b5669503a4229a59428906faced65": {
      "model_module": "@jupyter-widgets/controls",
      "model_module_version": "1.5.0",
      "model_name": "HTMLModel",
      "state": {
       "layout": "IPY_MODEL_2b45916ee90d4c49ad4db1b64b4df9be",
       "style": "IPY_MODEL_1002b215e6214e33862d32ffbee8c62b",
       "value": "<p>Refs &amp; Linked Files</p>"
      }
     },
     "f9ec396764bd4420b0985bd83cb6a28c": {
      "model_module": "@jupyter-widgets/controls",
      "model_module_version": "1.5.0",
      "model_name": "DescriptionStyleModel",
      "state": {
       "description_width": ""
      }
     },
     "fa0c2cb4e4724b4c8f1f3c40fd4f5cde": {
      "model_module": "@jupyter-widgets/controls",
      "model_module_version": "1.5.0",
      "model_name": "CheckboxModel",
      "state": {
       "disabled": false,
       "layout": "IPY_MODEL_fc97c0b016554fb1bd693ba11c72c1d2",
       "style": "IPY_MODEL_932f004c0c2b4c57856c317fbb070001",
       "value": true
      }
     },
     "fa18d709bcaa4e83afa56e2d14cd538b": {
      "model_module": "@jupyter-widgets/base",
      "model_module_version": "1.2.0",
      "model_name": "LayoutModel",
      "state": {}
     },
     "fa62d6b64d3f4bbead3300f627aebb0b": {
      "model_module": "@jupyter-widgets/controls",
      "model_module_version": "1.5.0",
      "model_name": "HTMLModel",
      "state": {
       "layout": "IPY_MODEL_ba04988bac144a8aa00c170a34c35339",
       "style": "IPY_MODEL_b412f739f5a44ca9a9bf5f315db1fa58"
      }
     },
     "fa92d998be14410c956ebb34169cb8c0": {
      "model_module": "@jupyter-widgets/controls",
      "model_module_version": "1.5.0",
      "model_name": "HBoxModel",
      "state": {
       "children": [
        "IPY_MODEL_fff57e6dcf2a42b4a77ff8587dd4cd82",
        "IPY_MODEL_a933e92da65c4aa9bbc7c395ac87fc4d"
       ],
       "layout": "IPY_MODEL_499b8ef4836c4032abcdbaf8476b03bc"
      }
     },
     "fadf863caf6c4fd6bdbbbe5b0e9cbb39": {
      "model_module": "@jupyter-widgets/base",
      "model_module_version": "1.2.0",
      "model_name": "LayoutModel",
      "state": {
       "display": "none",
       "grid_gap": "0px 0px",
       "grid_template_areas": "\n                    'pathlist filename'\n                    'dircontent dircontent'\n                    ",
       "grid_template_columns": "60% 40%",
       "grid_template_rows": "auto auto",
       "width": "500px"
      }
     },
     "fae231c29f384403b44e7635b04fcbaf": {
      "model_module": "@jupyter-widgets/base",
      "model_module_version": "1.2.0",
      "model_name": "LayoutModel",
      "state": {}
     },
     "faf9efc07d0f4cd5b5548ea9e4cc8ace": {
      "model_module": "@jupyter-widgets/controls",
      "model_module_version": "1.5.0",
      "model_name": "HBoxModel",
      "state": {
       "children": [
        "IPY_MODEL_43107319ff304c478fb4683b4619f65b"
       ],
       "layout": "IPY_MODEL_3cf6accd43114c308358f07df3526b86"
      }
     },
     "fb071ceed5f2444fb1a662aa07447723": {
      "model_module": "@jupyter-widgets/controls",
      "model_module_version": "1.5.0",
      "model_name": "HBoxModel",
      "state": {
       "children": [
        "IPY_MODEL_1aeca491ead74b55b2010f5c4f3c0868",
        "IPY_MODEL_18b0aae6c1744d3aac5315901413d43b"
       ],
       "layout": "IPY_MODEL_9dc44ab33b3e47a79ac70743dfe99812"
      }
     },
     "fb14c667d76f4d6a8399737e25b27024": {
      "model_module": "@jupyter-widgets/base",
      "model_module_version": "1.2.0",
      "model_name": "LayoutModel",
      "state": {
       "display": "none",
       "width": "auto"
      }
     },
     "fc134783f2064b8b81748009bb1876cd": {
      "model_module": "@jupyter-widgets/controls",
      "model_module_version": "1.5.0",
      "model_name": "HBoxModel",
      "state": {
       "children": [
        "IPY_MODEL_98bfeb1fbe6c4bd795195d3ce0a7260e",
        "IPY_MODEL_6b0a155975fc441ea5e0565d76bf6553"
       ],
       "layout": "IPY_MODEL_232496ebb3d84725a7f5ca91ba2498fb"
      }
     },
     "fc21b5ac6cb443f9bc1b5b1b9032e399": {
      "model_module": "@jupyter-widgets/controls",
      "model_module_version": "1.5.0",
      "model_name": "ToggleButtonModel",
      "state": {
       "button_style": "info",
       "description": "inputs from file",
       "layout": "IPY_MODEL_1062c86df8b2492195fc64440ef186ae",
       "style": "IPY_MODEL_4fc4256c6e1d4b65becdfe89ec58d7d8"
      }
     },
     "fc4cb97565c74d4caf60f0a37b2da506": {
      "model_module": "@jupyter-widgets/base",
      "model_module_version": "1.2.0",
      "model_name": "LayoutModel",
      "state": {}
     },
     "fc62c48ba22c4950aa0bc99a4fca5c57": {
      "model_module": "@jupyter-widgets/base",
      "model_module_version": "1.2.0",
      "model_name": "LayoutModel",
      "state": {}
     },
     "fc97c0b016554fb1bd693ba11c72c1d2": {
      "model_module": "@jupyter-widgets/base",
      "model_module_version": "1.2.0",
      "model_name": "LayoutModel",
      "state": {}
     },
     "fc9baf27c473415daaafc32530444f11": {
      "model_module": "@jupyter-widgets/controls",
      "model_module_version": "1.5.0",
      "model_name": "HBoxModel",
      "state": {
       "children": [
        "IPY_MODEL_642a9e5242884ee1aa36abf0b1dd16e5",
        "IPY_MODEL_5995b66525494d55a4fed31781557d0c",
        "IPY_MODEL_d568882aa0b14df194d09af4c62ff4d1"
       ],
       "layout": "IPY_MODEL_b6598cd9b35f40258153fb791a982bb7"
      }
     },
     "fca0add3b01045c58655ed2be21af892": {
      "model_module": "@jupyter-widgets/base",
      "model_module_version": "1.2.0",
      "model_name": "LayoutModel",
      "state": {}
     },
     "fce5894c4f584a6cad52acb2fa5251f3": {
      "model_module": "@jupyter-widgets/controls",
      "model_module_version": "1.5.0",
      "model_name": "DescriptionStyleModel",
      "state": {
       "description_width": ""
      }
     },
     "fd223673f28d4b03bc5c47f1c3055289": {
      "model_module": "@jupyter-widgets/controls",
      "model_module_version": "1.5.0",
      "model_name": "DropdownModel",
      "state": {
       "_options_labels": [
        "asfd",
        "10",
        "asdf"
       ],
       "index": 1,
       "layout": "IPY_MODEL_962e783503d84d6a941a17a539e6907f",
       "style": "IPY_MODEL_8d8cb8a4719c49779eed74bbfdbf31c2"
      }
     },
     "fd2fc9aee2984b1b86cdad10fb0fcbd5": {
      "model_module": "@jupyter-widgets/base",
      "model_module_version": "1.2.0",
      "model_name": "LayoutModel",
      "state": {
       "display": "flex",
       "flex_flow": "row",
       "grid_auto_columns": "False",
       "justify_content": "flex-start",
       "width": "100%"
      }
     },
     "fd860a7998c749609ab983a5990ac992": {
      "model_module": "@jupyter-widgets/base",
      "model_module_version": "1.2.0",
      "model_name": "LayoutModel",
      "state": {}
     },
     "fd89607c49a94db5ae0b42c16be5b116": {
      "model_module": "@jupyter-widgets/base",
      "model_module_version": "1.2.0",
      "model_name": "LayoutModel",
      "state": {
       "align_items": "stretch",
       "display": "flex",
       "flex_flow": "row",
       "grid_auto_columns": "True",
       "justify_content": "flex-end",
       "width": "90%"
      }
     },
     "fdb89818e9c746d3abef4e0f8b6ac07c": {
      "model_module": "@jupyter-widgets/base",
      "model_module_version": "1.2.0",
      "model_name": "LayoutModel",
      "state": {}
     },
     "fdbf09dd87154621812399aee5928448": {
      "model_module": "@jupyter-widgets/base",
      "model_module_version": "1.2.0",
      "model_name": "LayoutModel",
      "state": {
       "align_items": "stretch",
       "display": "flex",
       "flex_flow": "row",
       "grid_auto_columns": "True",
       "justify_content": "flex-end",
       "width": "90%"
      }
     },
     "fdc527c6160b4d47ba0c16e274f72df8": {
      "model_module": "@jupyter-widgets/base",
      "model_module_version": "1.2.0",
      "model_name": "LayoutModel",
      "state": {
       "align_items": "stretch",
       "display": "flex",
       "flex_flow": "row",
       "grid_auto_columns": "True",
       "justify_content": "flex-end",
       "width": "90%"
      }
     },
     "fdd0f92657f44b35abc7846590a438f0": {
      "model_module": "@jupyter-widgets/base",
      "model_module_version": "1.2.0",
      "model_name": "LayoutModel",
      "state": {}
     },
     "fe0e970e510440dd920d4fb86dd30697": {
      "model_module": "@jupyter-widgets/controls",
      "model_module_version": "1.5.0",
      "model_name": "VBoxModel",
      "state": {
       "children": [
        "IPY_MODEL_de7fc05645784aa7b3915cdf4066fb16",
        "IPY_MODEL_b1f648d66add4bc7a6a21bef11573090"
       ],
       "layout": "IPY_MODEL_e83260c0c4ce4dc58a7ba86b271e4f1f"
      }
     },
     "fe19b59321f04e3ba0b91299ba7c4c0e": {
      "model_module": "@jupyter-widgets/controls",
      "model_module_version": "1.5.0",
      "model_name": "HTMLModel",
      "state": {
       "layout": "IPY_MODEL_915143a563f94cc4acabfa80f9e61038",
       "style": "IPY_MODEL_49a750aeb3ff467ea168d2878aeb31a5",
       "value": "<p>its a foo cake</p>"
      }
     },
     "fe37c524c51b4079af49051b7ca278d9": {
      "model_module": "@jupyter-widgets/controls",
      "model_module_version": "1.5.0",
      "model_name": "DescriptionStyleModel",
      "state": {
       "description_width": ""
      }
     },
     "fe47918a5b23490faaff22935b725ed9": {
      "model_module": "@jupyter-widgets/controls",
      "model_module_version": "1.5.0",
      "model_name": "HBoxModel",
      "state": {
       "children": [
        "IPY_MODEL_84a87578ad914d1e8a696ddbda7c6283"
       ],
       "layout": "IPY_MODEL_949efaac33f4400f8ee1ac17f5877b36"
      }
     },
     "fe829a00487d40b68767f3e28af712f3": {
      "model_module": "@jupyter-widgets/controls",
      "model_module_version": "1.5.0",
      "model_name": "HBoxModel",
      "state": {
       "children": [
        "IPY_MODEL_e2636d6a38d746fd9863e71b650b0fed"
       ],
       "layout": "IPY_MODEL_0564d84aa214466b9feac0e4d65f6881"
      }
     },
     "fee06c0d142844b1a131ccda5a95b209": {
      "model_module": "@jupyter-widgets/base",
      "model_module_version": "1.2.0",
      "model_name": "LayoutModel",
      "state": {
       "align_items": "stretch",
       "border": "dashed 0.2px green",
       "display": "flex",
       "flex_flow": "row",
       "grid_auto_columns": "True",
       "justify_content": "flex-start",
       "width": "100%"
      }
     },
     "fefa02aef4e14171bd8d9b52c0bf4e76": {
      "model_module": "@jupyter-widgets/controls",
      "model_module_version": "1.5.0",
      "model_name": "ButtonStyleModel",
      "state": {}
     },
     "ffa7a3487e17458d87bde3388638d6c0": {
      "model_module": "@jupyter-widgets/controls",
      "model_module_version": "1.5.0",
      "model_name": "HBoxModel",
      "state": {
       "children": [
        "IPY_MODEL_236a074d901748eeaec2c162c3619d01"
       ],
       "layout": "IPY_MODEL_a3de0d72b599420ea1b030903872472c"
      }
     },
     "ffcc97c8c5ca439482eb32109257b943": {
      "model_module": "@jupyter-widgets/controls",
      "model_module_version": "1.5.0",
      "model_name": "SliderStyleModel",
      "state": {
       "description_width": ""
      }
     },
     "ffe9e1fa2d3142858f77aee1d206a353": {
      "model_module": "@jupyter-widgets/controls",
      "model_module_version": "1.5.0",
      "model_name": "ButtonModel",
      "state": {
       "button_style": "success",
       "description": "save changes",
       "layout": "IPY_MODEL_9009b489ecf04aaebcf1d43d2f94083e",
       "style": "IPY_MODEL_ba386da3d39b4556b8d9be6ee11a5fa1"
      }
     },
     "fff57e6dcf2a42b4a77ff8587dd4cd82": {
      "model_module": "@jupyter-widgets/controls",
      "model_module_version": "1.5.0",
      "model_name": "CheckboxModel",
      "state": {
       "disabled": false,
       "layout": "IPY_MODEL_c481fad7e1594e92add665fd8110c07e",
       "style": "IPY_MODEL_e4cf13e34eb540e49a5001e147105551",
       "value": false
      }
     }
    },
    "version_major": 2,
    "version_minor": 0
   }
  }
 },
 "nbformat": 4,
 "nbformat_minor": 4
}
