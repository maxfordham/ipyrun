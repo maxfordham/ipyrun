{
 "cells": [
  {
   "cell_type": "code",
   "execution_count": 2,
   "metadata": {},
   "outputs": [
    {
     "ename": "ModuleNotFoundError",
     "evalue": "No module named 'ipyfilechooser'",
     "output_type": "error",
     "traceback": [
      "\u001b[0;31m---------------------------------------------------------------------------\u001b[0m\n\u001b[0;31mModuleNotFoundError\u001b[0m                       Traceback (most recent call last)",
      "In  \u001b[0;34m[2]\u001b[0m:\nLine \u001b[0;34m15\u001b[0m:    \u001b[34mfrom\u001b[39;49;00m \u001b[04m\u001b[36mipyfilechooser\u001b[39;49;00m \u001b[34mimport\u001b[39;49;00m FileChooser\n",
      "\u001b[0;31mModuleNotFoundError\u001b[0m: No module named 'ipyfilechooser'\n\u001b[0;31m---------------------------------------------------------------------------\u001b[0m"
     ]
    }
   ],
   "source": [
    "import os\n",
    "import pandas as pd\n",
    "from IPython.display import display, JSON, Markdown, HTML, display_pdf, clear_output\n",
    "try: \n",
    "    from IPython.display import Image \n",
    "except:\n",
    "    pass\n",
    "from markdown import markdown\n",
    "from datetime import datetime\n",
    "\n",
    "# widget stuff\n",
    "import ipywidgets as widgets\n",
    "import ipysheetconda \n",
    "from ipysheet import from_dataframe, to_dataframe\n",
    "from ipyfilechooser import FileChooser\n",
    "\n",
    "# core mf_modules\n",
    "from mf_modules.pydtype_operations import read_json, write_json \n",
    "from mf_modules.file_operations import make_dir\n",
    "\n",
    "\n",
    "# from this repo\n",
    "# this is an unpleasant hack. should aim to find a better solution\n",
    "try:\n",
    "    from ipyrun._filecontroller import FileConfigController, SelectEditSaveMfJson\n",
    "    from ipyrun._runconfig import RunConfig\n",
    "    from ipyrun._ipydisplayfile import DisplayFile, DisplayFiles, default_ipyagrid\n",
    "except:\n",
    "    from _filecontroller import FileConfigController, SelectEditSaveMfJson\n",
    "    from _runconfig import RunConfig\n",
    "    from _ipydisplayfile import DisplayFile, DisplayFiles, default_ipyagrid"
   ]
  },
  {
   "cell_type": "code",
   "execution_count": null,
   "metadata": {},
   "outputs": [],
   "source": [
    "def _markdown(value='_Markdown_',\n",
    "              **kwargs):\n",
    "    \"\"\"\n",
    "    a simple template for markdown text input that templates required input\n",
    "    fields. additional user defined fields can be added as kwargs\n",
    "    \"\"\"\n",
    "    _kwargs = {}\n",
    "    _kwargs['value'] = markdown(value)  # required field\n",
    "    _kwargs.update(kwargs)  # user overides\n",
    "    return widgets.HTML(**_kwargs)"
   ]
  },
  {
   "cell_type": "code",
   "execution_count": 80,
   "metadata": {},
   "outputs": [],
   "source": [
    "\n",
    "\n",
    "class EditDictData():\n",
    "    \"\"\"\n",
    "    contains form layout specs and mapping dict used for associating input\n",
    "    variables to the appropriate widget. \n",
    "    \"\"\"\n",
    "           \n",
    "    @property\n",
    "    def MF_FORM_ITEM_LAYOUT(self):\n",
    "        return widgets.Layout(\n",
    "            display='flex',\n",
    "            flex_flow='row',\n",
    "            justify_content='flex-start',\n",
    "            #border='solid 1px green',\n",
    "            grid_auto_columns='True',\n",
    "            width='80%',\n",
    "            align_items='stretch',  \n",
    "            margin='0px 0px 0px 0px'\n",
    "        )\n",
    "    \n",
    "    @property\n",
    "    def MF_FORM_ITEM_LAYOUT1(self):\n",
    "        return widgets.Layout(\n",
    "            display='flex',\n",
    "            flex_flow='row',\n",
    "            justify_content='flex-end',\n",
    "            #border='solid 1px green',\n",
    "            grid_auto_columns='True',\n",
    "            width='90%',\n",
    "            align_items='stretch',  \n",
    "            margin='0px 0px 0px 0px'\n",
    "        )\n",
    "    \n",
    "    @property\n",
    "    def MF_FORM_ITEM_LAYOUT2(self):\n",
    "        return widgets.Layout(\n",
    "            display='flex',\n",
    "            flex_flow='row',\n",
    "            justify_content='flex-start',\n",
    "            align_content='flex-start',\n",
    "            #border='solid 0.05px yellow',#'dashed 0.2px green',\n",
    "            grid_auto_columns='True',\n",
    "            width='100%',\n",
    "            align_items='flex-start',  \n",
    "        )\n",
    "    \n",
    "    @property\n",
    "    def map_keys(self):\n",
    "        return ['value', 'options', 'min', 'max']\n",
    "    \n",
    "    @property\n",
    "    def map_widgets(self):\n",
    "        # mapping dict used to guess what widget to apply\n",
    "        \n",
    "        try: \n",
    "            # if its already been defined return the as defined value\n",
    "            # this allows for self.map_widgets_di to be extended more easily\n",
    "            return self.map_widgets_di\n",
    "        except:\n",
    "            self.map_widgets_di = {\n",
    "                'FloatText': {\n",
    "                    'value_type': \"<class 'float'>\",\n",
    "                    'options_type': \"<class 'NoneType'>\",\n",
    "                    'min_type': \"<class 'NoneType'>\",\n",
    "                    'max_type': \"<class 'NoneType'>\"\n",
    "                },\n",
    "               'FloatSlider': {\n",
    "                    'value_type': \"<class 'float'>\",\n",
    "                    'options_type': \"<class 'NoneType'>\",\n",
    "                    'min_type': \"<class 'float'>\",\n",
    "                    'max_type': \"<class 'float'>\"\n",
    "               },\n",
    "               'Dropdown': {\n",
    "                    'value_type': 'any',\n",
    "                    'options_type': \"<class 'list'>\",\n",
    "                    'min_type': \"<class 'NoneType'>\",\n",
    "                    'max_type': \"<class 'NoneType'>\"\n",
    "               },\n",
    "               'SelectMultiple': {\n",
    "                    'value_type': \"<class 'list'>\",\n",
    "                    'options_type': \"<class 'list'>\",\n",
    "                    'min_type': \"<class 'NoneType'>\",\n",
    "                    'max_type': \"<class 'NoneType'>\"\n",
    "               },\n",
    "               'Checkbox': {\n",
    "                    'value_type': \"<class 'bool'>\",\n",
    "                    'options_type': \"<class 'NoneType'>\",\n",
    "                    'min_type': \"<class 'NoneType'>\",\n",
    "                    'max_type': \"<class 'NoneType'>\"\n",
    "               },\n",
    "               'Text': {\n",
    "                    'value_type': \"<class 'str'>\",\n",
    "                    'options_type': \"<class 'NoneType'>\",\n",
    "                    'min_type': \"<class 'NoneType'>\",\n",
    "                    'max_type': \"<class 'NoneType'>\"\n",
    "               },\n",
    "               '_recursive_guess': {\n",
    "                    'value_type': \"<class 'list'>\",\n",
    "                    'options_type': \"<class 'NoneType'>\",\n",
    "                    'min_type': \"<class 'NoneType'>\",\n",
    "                    'max_type': \"<class 'NoneType'>\"\n",
    "               }\n",
    "            }\n",
    "            return self.map_widgets_di\n",
    "    \n",
    "    @property\n",
    "    def widget_lkup(self):\n",
    "        try: \n",
    "            # if its already been defined return the as defined value\n",
    "            # this allows for self.widget_lkup_di to be extended more easily\n",
    "            return self.widget_lkup_di\n",
    "        except:\n",
    "            self.standard_widgets =  {\n",
    "                'FloatText':widgets.FloatText,\n",
    "                'FloatSlider':widgets.FloatSlider,\n",
    "                'Dropdown':widgets.Dropdown,\n",
    "                'Combobox':widgets.Combobox,\n",
    "                'SelectMultiple':widgets.SelectMultiple,\n",
    "                'Checkbox':widgets.Checkbox,\n",
    "                'Text':widgets.Text,\n",
    "                'Textarea':widgets.Textarea}\n",
    "\n",
    "            self.mfcustom_widgets = {\n",
    "                'DerivedText':self._text_label,\n",
    "                'TextLabel':self._text_label,\n",
    "                'DatePicker':self._date_picker,\n",
    "                '_recursive_guess':self._recursive_guess,\n",
    "                'ipysheet':self._ipysheet,\n",
    "                'ipyagrid':self._ipyagrid,\n",
    "                'FileChooser':self._file_picker\n",
    "            }\n",
    "            \n",
    "            self.widget_lkup_di = dict(self.standard_widgets, **self.mfcustom_widgets)\n",
    "            return self.widget_lkup_di\n",
    "        \n",
    "    @property   \n",
    "    def dont_watch(self):\n",
    "        \"\"\"won't called _init_controls function that watches when the 'value' of 'di' in an EditDict instance changes\"\"\"\n",
    "        standard = list(self.standard_widgets.keys()) + list(self.mfcustom_widgets.keys())\n",
    "        dont = ['_recursive_guess','ipysheet','ipyagrid']\n",
    "        if self.widget_name not in standard:\n",
    "            # don't watch cust widgets as standard\n",
    "            dont.append(self.widget_name)\n",
    "        return dont\n",
    "        \n",
    "\n",
    "    \n",
    "class EditDict(EditDictData):\n",
    "    '''\n",
    "    a class that is passed a dict and then guesses the most appropriate \n",
    "    widget from the values in the dict.\n",
    "    - if a nested list of dicts is passed:\n",
    "        => it will create an embedded, clickable show/hide nested input form\n",
    "    - if a json dataframe object is passed as the \"value\" and and the key:value\n",
    "      \"widget\":\"ipysheet\" is passed in the same dict:\n",
    "        => it will create an editable ipysheet dataframe widget\n",
    "    Example:\n",
    "        di = {\n",
    "        'name':'name',\n",
    "        'value':'value',\n",
    "        'label':'label'\n",
    "        }\n",
    "        EditDict(di)\n",
    "    '''\n",
    "    def __init__(self, di):\n",
    "        self.out = widgets.Output()\n",
    "        self.di = di\n",
    "        self.nested_g = None\n",
    "        self.form()\n",
    " \n",
    "    def form(self):\n",
    "        self.di = self._update_di()\n",
    "        if 'widget' not in self.di.keys():\n",
    "            # if widget type isn't defined then the code will make a best guess\n",
    "            self.di_types = self._get_var_types()\n",
    "            self.widget_name, self.report = self.map_widget()           \n",
    "        else:\n",
    "            # otherwise it will revert to the user defined value\n",
    "            self.widget_name = self.di['widget']\n",
    "        self.kwargs = self._kwargfilt()\n",
    "        self.layout = self._build_widget()\n",
    "        \n",
    "        # UPDATE THIS - LIST OF WIDGETS NOT TO WATCH\n",
    "        if self.widget_name not in self.dont_watch:\n",
    "            self._init_controls()\n",
    "            \n",
    "    @property\n",
    "    def value(self): \n",
    "        return self.widget_row.children[1].children[0].value\n",
    "    \n",
    "    @value.setter\n",
    "    def value(self, value):\n",
    "        self.widget_row.children[1].children[0].value = value \n",
    "            \n",
    "    def _kwargfilt(self):\n",
    "        \"\"\"\n",
    "        widget, name, label, fpth_help are NOT passed as kwargs when building the widget. \n",
    "        all others are. \n",
    "        \"\"\"\n",
    "        return {k:v for (k,v) in self.di.items() if k != 'widget' and k != 'name' and k != 'label' and k != 'fpth_help' and v is not None}\n",
    "    \n",
    "    def _build_widget(self):\n",
    "        \n",
    "        if self.widget_name in list(self.widget_lkup.keys()):\n",
    "            if str(type(self.widget_lkup[self.widget_name]))==\"<class 'method'>\":\n",
    "                # then it is a developer defined custom widget that requires a class method to define\n",
    "                self.widget_lkup[self.widget_name]()\n",
    "\n",
    "            else:\n",
    "                # it is a vanilla widget \n",
    "                self.widget_only = self.widget_lkup[self.widget_name](layout=widgets.Layout(width='60%'),**self.kwargs)\n",
    "        else:\n",
    "            # it is a user defined widget\n",
    "            self.widget_only = self.widget_name(**self.kwargs)\n",
    "\n",
    "        self.widget_simple = widgets.HBox([self.widget_only,_markdown(self.di['label'])],layout=self.MF_FORM_ITEM_LAYOUT)\n",
    "        self.widget_row = widgets.HBox([_markdown(self.di['name']),self.widget_simple],layout=self.MF_FORM_ITEM_LAYOUT1)\n",
    "        if 'fpth_help' in self.di.keys():\n",
    "            self.guide = widgets.ToggleButton(icon='fa-question-circle',\n",
    "                                              description='help',\n",
    "                                              tooltip='gives guidance',\n",
    "                                              style={'font_weight':'bold'},\n",
    "                                              layout=widgets.Layout(width='5%'))\n",
    "            self.guide.observe(self._guide, 'value')\n",
    "            layout = widgets.HBox([self.widget_row ,self.guide],layout=self.MF_FORM_ITEM_LAYOUT2)\n",
    "        elif self.widget_name == \"FileChooser\":\n",
    "            if 'value' in self.kwargs:\n",
    "                splitpath = os.path.split(os.path.realpath(self.kwargs['value']))\n",
    "                fc_temp = FileChooser(filename=splitpath[1], path=splitpath[0], select_default=True)\n",
    "            else:\n",
    "                fc_temp = FileChooser()\n",
    "            fc_temp.use_dir_icons = True\n",
    "            fc_temp.register_callback(self._update_change)\n",
    "            self.guide = fc_temp\n",
    "            self.widget_simple = widgets.HBox([self.widget_only,self.guide],layout=self.MF_FORM_ITEM_LAYOUT)\n",
    "            self.widget_row = widgets.HBox([_markdown(self.di['name']),self.widget_simple],layout=self.MF_FORM_ITEM_LAYOUT1)\n",
    "            layout = widgets.HBox([self.widget_row,_markdown(self.di['label'])],layout=self.MF_FORM_ITEM_LAYOUT2)\n",
    "        else:\n",
    "            layout = widgets.HBox([self.widget_row],layout=self.MF_FORM_ITEM_LAYOUT2)\n",
    "        return layout\n",
    "        \n",
    "    def _init_controls(self):   \n",
    "        self.widget_only.observe(self._update_change, 'value') \n",
    "        return\n",
    "\n",
    "    def _update_change(self, change):\n",
    "        value = None\n",
    "        if(self.widget_name == \"DatePicker\"):\n",
    "            value = self.widget_only.value.strftime('%Y-%m-%d')\n",
    "        elif(self.widget_name == \"FileChooser\"):\n",
    "            self.widget_only.value = self.guide.selected_filename\n",
    "            value = self.guide.selected\n",
    "        else:\n",
    "            value = self.widget_only.value\n",
    "        self.di['value'] = value\n",
    "\n",
    "    def _guide(self, sender):\n",
    "        with self.out:\n",
    "            if self.guide.value:  \n",
    "                if self.di['fpth_help']==list:\n",
    "                    d = DisplayFiles(self.di['fpth_help'])\n",
    "                    #display(Image(os.path.join(os.environ['mf_root'],r'engDevSetup\\dev\\icons\\icon_png\\help-icon.png')));\n",
    "                    display(d)\n",
    "                else:\n",
    "                    d = DisplayFile(self.di['fpth_help'])\n",
    "                    display(d.preview_fpth())\n",
    "            else:\n",
    "                clear_output()\n",
    "                \n",
    "    def _update_di(self):\n",
    "\n",
    "        def add_to_dict(di, keyname='None', valuename=None):\n",
    "            if keyname not in di.keys():\n",
    "                di[keyname]=valuename\n",
    "            return di\n",
    "        tmp = self.di\n",
    "        tmp = add_to_dict(tmp,keyname='min')\n",
    "        tmp = add_to_dict(tmp,keyname='max')\n",
    "        tmp = add_to_dict(tmp,keyname='options')\n",
    "        tmp = add_to_dict(tmp,keyname='name', valuename='name')\n",
    "        tmp = add_to_dict(tmp,keyname='label', valuename='label')\n",
    "        return tmp\n",
    "        \n",
    "    def _get_var_types(self):\n",
    "\n",
    "        def int_type_to_float(di):\n",
    "            di_ = {}\n",
    "            for key, val in di.items():\n",
    "                if val == \"<class 'int'>\":\n",
    "                    di_[key] = \"<class 'float'>\"\n",
    "                else:\n",
    "                    di_[key] = val\n",
    "            return di_\n",
    "        di = self.di\n",
    "        keys = self.map_keys\n",
    "        di_filt = { key: di[key] for key in keys }\n",
    "        di_types = {key+'_type': str(type(di_filt[key])) for key in keys}\n",
    "        di_types= int_type_to_float(di_types)\n",
    "        return di_types\n",
    "    \n",
    "    def map_widget(self):\n",
    "        \"\"\"\n",
    "        uses the types of the different inputs to map an input \n",
    "        to the appropriate widget\n",
    "\n",
    "        Reference:\n",
    "            |                 | value_type      | options_type       | min_type           | max_type           |\n",
    "            |:----------------|:----------------|:-------------------|:-------------------|:-------------------|\n",
    "            | FloatText       | <class 'float'> | <class 'NoneType'> | <class 'NoneType'> | <class 'NoneType'> |\n",
    "            | FloatSlider     | <class 'float'> | <class 'NoneType'> | <class 'float'>    | <class 'float'>    |\n",
    "            | Dropdown        | <class 'float'> | <class 'list'>     | <class 'NoneType'> | <class 'NoneType'> |\n",
    "            | SelectMultiple  | <class 'list'>  | <class 'list'>     | <class 'NoneType'> | <class 'NoneType'> |\n",
    "            | Checkbox        | <class 'bool'>  | <class 'NoneType'> | <class 'NoneType'> | <class 'NoneType'> |\n",
    "            | Text            | <class 'str'>   | <class 'NoneType'> | <class 'NoneType'> | <class 'NoneType'> |\n",
    "            | _recursive_guess| <class 'list'>  | <class 'NoneType'> | <class 'NoneType'> | <class 'NoneType'> |\n",
    "        \"\"\"\n",
    "        di_types = self.di_types\n",
    "        map_widgets = self.map_widgets\n",
    "        m = 0\n",
    "        for k, v in map_widgets.items():\n",
    "            # this settles ambiguity for value type from Dropdown (which could be anything)\n",
    "            #if k == widgets.Dropdown and di_types['value_type'] != \"<class 'list'>\":\n",
    "            if k == 'Dropdown' and di_types['value_type'] != \"<class 'list'>\":\n",
    "                v['value_type'] = di_types['value_type']\n",
    "            if v == di_types:\n",
    "                m=+1\n",
    "                widget_name = k\n",
    "        if m < 1:\n",
    "            report = 'no matching widget found... check inputs...'\n",
    "            print(di_types)\n",
    "            print(report)\n",
    "            widget_name = 'Text'\n",
    "        elif m == 1:\n",
    "            report = 'perfect match!'\n",
    "        else:\n",
    "            report = 'multiple matches found... check code...'\n",
    "            print(di_types)\n",
    "            print(report)\n",
    "        return widget_name, report\n",
    "    \n",
    "    # -------------------------------------------------------------------------     \n",
    "    # code that allows for embedded list of dicts -----------------------------\n",
    "    def _recursive_guess(self):\n",
    "        self.kwargs = {k:v for (k,v) in self.kwargs.items() if k != 'value'}\n",
    "        self.kwargs['icon'] = 'arrow-down'\n",
    "        self.widget_only = widgets.ToggleButton(**self.kwargs)\n",
    "        self._recursive_controls()\n",
    "        \n",
    "    def _recursive_controls(self):\n",
    "        self.widget_only.observe(self._call_GuessWidget, 'value')\n",
    "\n",
    "    def _call_GuessWidget(self, sender):\n",
    "        self.nested_g = EditListOfDicts(self.di['value'])\n",
    "        self.di['value'] = self.nested_g.li\n",
    "        with self.out:\n",
    "            if self.widget_only.value:  \n",
    "                display(self.nested_g)\n",
    "            else:\n",
    "                clear_output()\n",
    "    # --------------------------------------------------------------------------\n",
    "    # code that allows for embedded ipysheets ----------------------------------\n",
    "    def _ipysheet(self):\n",
    "        self.kwargs = {k:v for (k,v) in self.kwargs.items() if k != 'value'}\n",
    "        self.kwargs['icon'] = 'arrow-down'\n",
    "        self.widget_only = widgets.ToggleButton(**self.kwargs)\n",
    "        self.save_ipysheet = widgets.Button(description='save',button_style='success')\n",
    "        self.add_row_ipysheet = widgets.Button(description='add row',button_style='info')\n",
    "        self.remove_row_ipysheet = widgets.Button(description='remove row',button_style='danger')\n",
    "        self.button_bar_ipysheet = widgets.HBox([self.save_ipysheet,self.add_row_ipysheet,self.remove_row_ipysheet])\n",
    "        self.box_ipysheet = widgets.VBox([self.button_bar_ipysheet])\n",
    "        self._ipysheet_controls()\n",
    "        \n",
    "    def _ipysheet_controls(self):\n",
    "        self.widget_only.observe(self.call_ipysheet, 'value')\n",
    "        self.save_ipysheet.on_click(self._save_ipysheet)\n",
    "        self.add_row_ipysheet.on_click(self._add_row_ipysheet)\n",
    "        self.remove_row_ipysheet.on_click(self._remove_row_ipysheet)\n",
    "        \n",
    "    def call_ipysheet(self, sender):\n",
    "        tmp = pd.read_json(self.di['value'])\n",
    "        self.sheet = ipysheet.sheet(ipysheet.from_dataframe(tmp)) # initiate sheet\n",
    "        self.box_ipysheet.children = [self.button_bar_ipysheet,self.sheet]\n",
    "        with self.out:\n",
    "            if self.widget_only.value:  \n",
    "                #display(self.button_bar_ipysheet)\n",
    "                #display(self.sheet)\n",
    "                display(self.box_ipysheet)\n",
    "            else:\n",
    "                clear_output()\n",
    "    \n",
    "    def _save_ipysheet(self, change):\n",
    "        tmp = to_dataframe(self.sheet)\n",
    "        self.di['value'] = tmp.to_json()\n",
    "        with self.out:\n",
    "            clear_output()\n",
    "            dateTimeObj = datetime.now()\n",
    "            timestampStr = dateTimeObj.strftime(\"%d-%b-%Y %H:%M:%S:\")\n",
    "            display(Markdown('{0} changes to sheet saved. hit save in main dialog to save to file'.format(timestampStr)))\n",
    "        self.display()\n",
    "        \n",
    "    def _add_row_ipysheet(self, sender):\n",
    "        df = to_dataframe(self.sheet)\n",
    "        df = df.append(pd.DataFrame({c:[''] for c in list(df)}), ignore_index=True)\n",
    "        self.sheet = from_dataframe(df)\n",
    "        #self.box_ipysheet.children = [self.button_bar_ipysheet,self.sheet]\n",
    "        self.display()\n",
    "        \n",
    "    def _remove_row_ipysheet(self, sender):\n",
    "        df = to_dataframe(self.sheet)\n",
    "        ind = df.index.tolist()[:-1] # get a list of indexes drpping the last one\n",
    "        df = df.loc[ind]\n",
    "        self.sheet = from_dataframe(df)\n",
    "        self.display()\n",
    "    # --------------------------------------------------------------------------\n",
    "    \n",
    "    # --------------------------------------------------------------------------\n",
    "    # code that allows for embedded ipyaggrids ---------------------------------\n",
    "    def _ipyagrid(self):\n",
    "        self.kwargs = {k:v for (k,v) in self.kwargs.items() if k != 'value'}\n",
    "        self.kwargs['icon'] = 'arrow-down'\n",
    "        self.widget_only = widgets.ToggleButton(**self.kwargs)\n",
    "        self.save_ipyagrid = widgets.Button(description='save')\n",
    "        self._ipyagrid_controls()\n",
    "        \n",
    "    def _ipyagrid_controls(self):\n",
    "        self.widget_only.observe(self.call_ipyagrid, 'value')\n",
    "        self.save_ipyagrid.on_click(self._save_ipyagrid)\n",
    "        \n",
    "    def call_ipyagrid(self, sender):\n",
    "        tmp = pd.read_json(self.di['value'])\n",
    "        editable = self.di['editable'] if 'editable' in self.di else True\n",
    "        self.grid = default_ipyagrid(tmp,show_toggle_edit=editable)\n",
    "        #ipysheet.sheet(ipysheet.from_dataframe(tmp)) # initiate sheet\n",
    "        with self.out:\n",
    "            if self.widget_only.value:  \n",
    "                if editable:\n",
    "                    display(self.save_ipyagrid)\n",
    "                display(self.grid)\n",
    "            else:\n",
    "                clear_output()\n",
    "    \n",
    "    def _save_ipyagrid(self, change):\n",
    "        tmp = self.grid.grid_data_out['grid']\n",
    "        self.di['value'] = tmp.to_json()\n",
    "        with self.out:\n",
    "            clear_output()\n",
    "            dateTimeObj = datetime.now()\n",
    "            timestampStr = dateTimeObj.strftime(\"%d-%b-%Y %H:%M:%S:\")\n",
    "            display(Markdown('{0} changes to sheet saved. hit save in main dialog to save to file'.format(timestampStr)))\n",
    "        self.display()\n",
    "    # --------------------------------------------------------------------------\n",
    "    \n",
    "    # --------------------------------------------------------------------------\n",
    "    # other custom widgets -----------------------------------------------------\n",
    "\n",
    "    def _text_label(self):\n",
    "        self.widget_only = widgets.HTML(**self.kwargs)\n",
    "        self.widget_only.layout=widgets.Layout(border='solid 1px #BBBBBB', padding='0px 10px 0px 10px')\n",
    "        \n",
    "    def _date_picker(self):\n",
    "        value = datetime.strptime(self.kwargs['value'], '%Y-%m-%d')\n",
    "        self.widget_only = widgets.DatePicker(value=value)\n",
    "\n",
    "    def _file_picker(self):\n",
    "        value = os.path.split(os.path.realpath(self.kwargs['value']))[1]\n",
    "        self.widget_only = widgets.HTML(value)\n",
    "        self.widget_only.layout=widgets.Layout(border='solid 1px #BBBBBB', padding='0px 10px 0px 10px')\n",
    "\n",
    "    # --------------------------------------------------------------------------\n",
    "    \n",
    "    def display(self):\n",
    "        display(self.layout)\n",
    "        display(self.out)\n",
    "         \n",
    "    def _ipython_display_(self):\n",
    "        self.display()    "
   ]
  },
  {
   "cell_type": "code",
   "execution_count": 81,
   "metadata": {
    "lines_to_next_cell": 0
   },
   "outputs": [],
   "source": [
    "class EditListOfDicts():\n",
    "    \"\"\"\n",
    "    builds user input form from a list of dicts by creating a \n",
    "    loop of EditDict objects.\n",
    "    \"\"\"\n",
    "    def __init__(self, li):\n",
    "        \"\"\"\n",
    "        class that builds a user interface based on a list of dicts, where each dict is \n",
    "        a ipywidget user interface object. The class inteprets which widget to select based on the \n",
    "        type of the value and the keys that are passed. The keys are passed to the ipywidget \n",
    "        object as **kwargs.\n",
    "\n",
    "        Args:\n",
    "            li (list): list of dicts. each dict must contain 'name', 'value' and 'label' as the \n",
    "                minimum set of keys for making a ipywidget. additional keys that are passed \n",
    "                get become **kwargs that are passed to the selected ipywidget\n",
    "                \n",
    "        Example:\n",
    "            ```\n",
    "            li = [\n",
    "                    {\n",
    "                        'name':'water_volume_m3',\n",
    "                        'value':15,\n",
    "                        'label':'total volume of water within the closed mechanical system'\n",
    "                    },\n",
    "                    {\n",
    "                        'name':'height_difference_m',\n",
    "                        'value':48,\n",
    "                        'label':'difference in height between the highest and lowest points in the system'\n",
    "                    },\n",
    "                    {\n",
    "                        'name':'eV_acceptance_fraction',\n",
    "                        'value':0.3,\n",
    "                        'min':0,\n",
    "                        'max':1,\n",
    "                        'label':'Expansion vessel acceptance factor (= additional volume / expansion vessel volume):'\n",
    "                    }\n",
    "                ]\n",
    "            ```\n",
    "            \n",
    "            >>> from ipyrun._ipyeditjson import EditListOfDicts\n",
    "            >>> ui = EditListOfDicts(li)\n",
    "            >>> ui\n",
    "            see example image above\n",
    "        Images:\n",
    "            %mf_root%\\ipyrun\\docs\\images\\eg_ui.PNG\n",
    "        \"\"\"\n",
    "        self.out = widgets.Output()\n",
    "        self.li = li\n",
    "        self.li_apps = self._update_li()\n",
    "        self.form()\n",
    "        self._init_observe()\n",
    "        \n",
    "    def _update_li(self):\n",
    "        li_apps = []\n",
    "        for l in self.li:\n",
    "            if list(l.keys()) == ['app','config']:\n",
    "                # app to use already explicitly specified\n",
    "                li_apps.append(l)     \n",
    "            else:\n",
    "                # assume the config got passed without the associated app\n",
    "                li_apps.append({'app': EditDict, 'config': l})     \n",
    "        return li_apps\n",
    "    \n",
    "    def form(self):\n",
    "        self.widgets = []\n",
    "        for l in self.li_apps:\n",
    "            self.widgets.append(l['app'](l['config']))\n",
    "        self._layout()\n",
    "        \n",
    "    @property\n",
    "    def li_values(self): \n",
    "        return [w.widget_row.children[1].children[0].value for w in self.widgets]\n",
    "    \n",
    "    @li_values.setter\n",
    "    def li_values(self, li_values):\n",
    "        for n in range(0,len(li_values)):\n",
    "            self.widgets[n].widget_row.children[1].children[0].value = li_values[n]\n",
    "\n",
    "        \n",
    "    def _update_label(self, index, l):\n",
    "        \"\"\"\n",
    "        this is used for the DerivedText widget\n",
    "        \"\"\"\n",
    "        labelVal = \"\"\n",
    "        firstVal = True\n",
    "        for opt in l.di['options']:\n",
    "            try:\n",
    "                \n",
    "                if(index+opt < 0):\n",
    "                    raise Exception(\"Can only get values of positive indices\")\n",
    "\n",
    "                value = self.widgets[index+opt].di[\"value\"]\n",
    "\n",
    "                if(value == \"\"):\n",
    "                    value = \"XX\"\n",
    "                \n",
    "                split_val = str(value).split(\".\")\n",
    "                if(split_val[-1] == \"0\" and split_val[0].isdigit()):\n",
    "                    value = str(int(value)).zfill(3)\n",
    "\n",
    "                if not firstVal:\n",
    "                    labelVal += \"_\"\n",
    "\n",
    "                labelVal += str(value)\n",
    "\n",
    "                firstVal = False\n",
    "            except Exception as e:\n",
    "                pass\n",
    "        return \"{0}\".format(labelVal)\n",
    "    \n",
    "    def _update_change(self, change):\n",
    "        for index, l in enumerate(self.widgets):\n",
    "            if(l.widget_name==\"DerivedText\"):\n",
    "                l.widget_only.value = self._update_label(index, l)\n",
    "    \n",
    "    def _layout(self):\n",
    "        self._update_change(change=None)\n",
    "        self.applayout = widgets.VBox([l.layout for l in self.widgets])\n",
    "        \n",
    "    def _init_observe(self): \n",
    "        for l in self.widgets:\n",
    "            l.widget_only.observe(self._update_change, \"value\") \n",
    "        \n",
    "    def _lidi_display(self):\n",
    "        out = [l.layout for l in self.widgets]\n",
    "        self.applayout = widgets.VBox(out)\n",
    "        display(self.applayout)\n",
    "        for l in self.widgets:\n",
    "            display(l.out)\n",
    "            \n",
    "    def _ipython_display_(self):\n",
    "        self._lidi_display()  \n",
    "        \n",
    "class SimpleEditJson(EditListOfDicts):\n",
    "    \"\"\"\n",
    "    inherits EditListOfDicts user input form and manages the reading and \n",
    "    writing the data from a JSON file. \n",
    "    \"\"\"\n",
    "    def __init__(self, fpth_in, fpth_out=None):\n",
    "        self.out = widgets.Output()\n",
    "        self.fpth_in = fpth_in\n",
    "        if fpth_out==None:\n",
    "            self.fpth_out = fpth_in\n",
    "        else:\n",
    "            self.fpth_out = fpth_out\n",
    "        self.li = read_json(self.fpth_in)\n",
    "        self.li_apps = self._update_li()\n",
    "        self.save_changes = widgets.Button(description='save',button_style='success')\n",
    "        self.form()\n",
    "        self._init_observe()\n",
    "        self._init_controls()\n",
    "    \n",
    "    def _init_controls(self):  \n",
    "        self.save_changes.on_click(self._save_changes)\n",
    "        \n",
    "    def _save_changes(self, sender):\n",
    "        self.data_out = self.li\n",
    "        #try:\n",
    "        write_json(self.data_out,\n",
    "                   sort_keys=True,\n",
    "                   indent=4,\n",
    "                   fpth=self.fpth_out,\n",
    "                   print_fpth=False,\n",
    "                   openFile=False)\n",
    "        with self.out:\n",
    "            clear_output()\n",
    "            dateTimeObj = datetime.now()\n",
    "            timestampStr = dateTimeObj.strftime(\"%d-%b-%Y %H:%M:%S:\")\n",
    "            display(Markdown('{0} changes to sheet logged.  to: {1}'.format(timestampStr,self.fpth_out)))\n",
    "            \n",
    "    def display(self):\n",
    "        display(self.save_changes)\n",
    "        out = [l.layout for l in self.widgets]\n",
    "        self.applayout = widgets.VBox(out)\n",
    "        display(self.applayout)\n",
    "        for l in self.widgets:\n",
    "            display(l.out)\n",
    "        display(self.out)\n",
    "            \n",
    "    def _ipython_display_(self):\n",
    "        self.display()  \n",
    "        \n",
    "class EditJson(EditListOfDicts, FileConfigController):\n",
    "    \"\"\"\n",
    "    inherits EditListOfDicts user input form as well FileConfigController \n",
    "    and manages the reading and writing the data from a JSON file. \n",
    "    \"\"\"\n",
    "    #def __init__(self, fpth, fdir='.', local_fol='_mfengdev'):\n",
    "    def __init__(self, config):\n",
    "\n",
    "        self.out = widgets.Output()\n",
    "        self._errors()\n",
    "        self.config = config\n",
    "        self.user_keys = list(config.keys())\n",
    "        self._update_config()\n",
    "        self.file_control_form()\n",
    "        self.li = read_json(self.fpth_inputs)\n",
    "        self.li_apps = self._update_li()\n",
    "        self._init_file_controller()\n",
    "        self.__build_widgets()\n",
    "        \n",
    "        \n",
    "    def __build_widgets(self):\n",
    "        self.form()\n",
    "        self._init_observe()\n",
    "        \n",
    "    def _revert(self, sender):\n",
    "        \"\"\"revert to last save of working inputs file\"\"\"\n",
    "        fpth = self.fpth_inputs\n",
    "        self.temp_message.value = markdown('revert to inputs in last save of: {0}'.format(fpth))\n",
    "        \n",
    "        # ADD CODE HERE TO REVERT TO LAST SAVE\n",
    "        \n",
    "        self.li = read_json(self.fpth_inputs)\n",
    "        self._update_from_file()\n",
    "\n",
    "        \n",
    "    def _update_from_file(self):\n",
    "        self.li = read_json(self.fpth_inputs)\n",
    "        self.widgets = []\n",
    "        for l in self.li:\n",
    "            self.widgets.append(EditDict(l))\n",
    "\n",
    "        #self.applayout.children = ()\n",
    "        #self.applayout.children = self._get_apps_layout()\n",
    "        #for w in self.widgets:\n",
    "        #    self.applayout.children.append(w.layout)\n",
    "        \n",
    "    def _get_apps_layout(self):\n",
    "        app_layout = []\n",
    "        for w in self.widgets:\n",
    "            app_layout.append(widgets.VBox([w.layout, w.out]))\n",
    "        return tuple(app_layout)\n",
    "    \n",
    "    def _save_changes(self, sender):\n",
    "        \"\"\"save changes to working inputs file\"\"\"\n",
    "        fpth = self.fpth_inputs\n",
    "        \n",
    "        dateTimeObj = datetime.now()\n",
    "        self.save_timestampStr = dateTimeObj.strftime(\"%d-%b-%Y %H:%M:%S\")\n",
    "        self.temp_message.value = markdown('{0} saved at: {1}'.format(fpth, self.save_timestampStr))\n",
    "        self.data_out = self.li \n",
    "        # add code here to save changes to file\n",
    "        write_json(self.data_out,\n",
    "                   sort_keys=True,\n",
    "                   indent=4,\n",
    "                   fpth=fpth,\n",
    "                   print_fpth=False,\n",
    "                   openFile=False)\n",
    "        #self.apps_layout = widgets.VBox(self._get_apps_layout())\n",
    "        \n",
    "    def _load_inputs(self,sender):\n",
    "        \"\"\"launches the inputs from file dialog\"\"\"\n",
    "        self.temp_message.value = markdown('update the user input form with data from file')\n",
    "        if self.load_inputs.value:\n",
    "            self.inputform.children = [self.load_button, self.choose_inputs]\n",
    "        else:\n",
    "            self.temp_message.value = markdown('')\n",
    "            self.inputform.children = []\n",
    "        #self.apps_layout = widgets.VBox(self._get_apps_layout())\n",
    "\n",
    "    def _load(self,sender):\n",
    "\n",
    "        fpth = self.choose_inputs.value\n",
    "        # add code here to load form from file\n",
    "        self.li = read_json(fpth)\n",
    "        self._update_from_file()\n",
    "        self.temp_message.value = markdown('input form load data from: {0}'.format(fpth))\n",
    "        #self.apps_layout = widgets.VBox(self._get_apps_layout())\n",
    "    \n",
    "    def display(self):\n",
    "        box = widgets.VBox([\n",
    "            self.button_bar,\n",
    "            self.temp_message,\n",
    "            self.inputform,\n",
    "        ])\n",
    "        self.layout = box\n",
    "        display(self.layout)\n",
    "        #out = [l.layout for l in self.widgets]\n",
    "        self.apps_layout = widgets.VBox(self._get_apps_layout())\n",
    "        display(self.apps_layout)\n",
    "        #for l in self.widgets:\n",
    "        #    display(l.out)\n",
    "        display(self.out)\n",
    "            \n",
    "    def _ipython_display_(self):\n",
    "        self.display()  \n",
    "        #self._lidi_display()  \n",
    "        \n",
    "class EditMfJson(SelectEditSaveMfJson, EditListOfDicts):\n",
    "    \"\"\"\n",
    "    \n",
    "    \"\"\"\n",
    "    def __init__(self, fdir, fnm=None):\n",
    "        self.out = widgets.Output()\n",
    "        super().__init__(fdir, fnm=fnm)\n",
    "        self.out = widgets.Output()\n",
    "        self.li = li\n",
    "        self.li_apps = self._update_li()\n",
    "        self.form()\n",
    "        self._init_observe()\n",
    "        \n",
    "    def _save_changes(self, sender):\n",
    "        \"\"\"save changes to working inputs file\"\"\"\n",
    "        self.fpth_out = self.file_chooser.selected\n",
    "        dateTimeObj = datetime.now()\n",
    "        self.save_timestampStr = dateTimeObj.strftime(\"%d-%b-%Y %H:%M:%S\")\n",
    "        self.temp_message.value = markdown('{0} saved at: {1}'.format(self.fpth_out, self.save_timestampStr))\n",
    "        \n",
    "        # add code here to save changes to file\n",
    "        self.data_out = self.li     \n",
    "        write_json(self.data_out,\n",
    "                   sort_keys=True,\n",
    "                   indent=4,\n",
    "                   fpth=self.fpth_out,\n",
    "                   print_fpth=False,\n",
    "                   openFile=False)\n",
    "        \n",
    "        #with self.out:\n",
    "        #    clear_output()\n",
    "        #    dateTimeObj = datetime.now()\n",
    "        #    timestampStr = dateTimeObj.strftime(\"%d-%b-%Y %H:%M:%S:\")\n",
    "        #    display(Markdown('{0} changes to sheet logged.  to: {1}'.format(timestampStr,self.fpth_out)))\n",
    "            \n",
    "        self.update_sse_display()\n",
    "        self.sse_display()\n",
    "        \n",
    "    def _edit_file(self, sender):\n",
    "        \"\"\"save changes to working inputs file\"\"\"\n",
    "        if self.edit_file.value:\n",
    "            fpth = self.file_chooser.selected\n",
    "            self.temp_message.value = markdown('edit inputs below and save to: {0}'.format(fpth))\n",
    "            if os.path.isfile(fpth):\n",
    "                self.li = read_json(fpth)\n",
    "                self.form()\n",
    "                self._init_observe()\n",
    "                \n",
    "                with self.out:\n",
    "                    clear_output()\n",
    "                    out = [l.layout for l in self.widgets]\n",
    "                    self.applayout = widgets.VBox(out)\n",
    "                    display(self.applayout)\n",
    "                    for l in self.widgets:\n",
    "                        display(l.out)\n",
    "            else:\n",
    "                with self.out:\n",
    "                    clear_output()\n",
    "                    display(markdown('{0} not a file'.format(fpth)))\n",
    "\n",
    "        else:\n",
    "            with self.out:\n",
    "                self.temp_message.value = markdown('')\n",
    "                clear_output()\n",
    "        # add code here to save changes to file\n",
    "\n",
    "\n",
    "        self._display()\n",
    "        \n",
    "    def _display(self):\n",
    "        self.update_sse_display()\n",
    "        self.sse_display()\n",
    "        display(self.out)\n",
    "                    \n",
    "    def _ipython_display_(self):\n",
    "        self._display()\n"
   ]
  },
  {
   "cell_type": "code",
   "execution_count": 61,
   "metadata": {},
   "outputs": [
    {
     "data": {
      "text/markdown": [
       "### Example0"
      ],
      "text/plain": [
       "<IPython.core.display.Markdown object>"
      ]
     },
     "metadata": {},
     "output_type": "display_data"
    },
    {
     "data": {
      "text/markdown": [
       "Edit list of dicts"
      ],
      "text/plain": [
       "<IPython.core.display.Markdown object>"
      ]
     },
     "metadata": {},
     "output_type": "display_data"
    },
    {
     "data": {
      "application/vnd.jupyter.widget-view+json": {
       "model_id": "257f393d1dca464aa9e865ea9ca6a713",
       "version_major": 2,
       "version_minor": 0
      },
      "text/plain": [
       "VBox(children=(HBox(children=(HBox(children=(HTML(value='<p>water_volume_m3</p>'), HBox(children=(FloatText(va…"
      ]
     },
     "metadata": {},
     "output_type": "display_data"
    },
    {
     "data": {
      "application/vnd.jupyter.widget-view+json": {
       "model_id": "ab475e26c3654e529751371709b4b1f1",
       "version_major": 2,
       "version_minor": 0
      },
      "text/plain": [
       "Output()"
      ]
     },
     "metadata": {},
     "output_type": "display_data"
    },
    {
     "data": {
      "application/vnd.jupyter.widget-view+json": {
       "model_id": "f5565f4e02a54b84a3fba3a8ee0cd30f",
       "version_major": 2,
       "version_minor": 0
      },
      "text/plain": [
       "Output()"
      ]
     },
     "metadata": {},
     "output_type": "display_data"
    },
    {
     "data": {
      "application/vnd.jupyter.widget-view+json": {
       "model_id": "15c0170ddd9f4389bba1902fa0eda0f6",
       "version_major": 2,
       "version_minor": 0
      },
      "text/plain": [
       "Output()"
      ]
     },
     "metadata": {},
     "output_type": "display_data"
    },
    {
     "data": {
      "application/vnd.jupyter.widget-view+json": {
       "model_id": "e37c84ff571147af829d3cc6a3c4d54c",
       "version_major": 2,
       "version_minor": 0
      },
      "text/plain": [
       "Output()"
      ]
     },
     "metadata": {},
     "output_type": "display_data"
    },
    {
     "data": {
      "application/vnd.jupyter.widget-view+json": {
       "model_id": "44b101ac915f43a89d6ab8d876ff2464",
       "version_major": 2,
       "version_minor": 0
      },
      "text/plain": [
       "Output()"
      ]
     },
     "metadata": {},
     "output_type": "display_data"
    },
    {
     "data": {
      "application/vnd.jupyter.widget-view+json": {
       "model_id": "794f71e0e92746f9b9aac9e2a0053eef",
       "version_major": 2,
       "version_minor": 0
      },
      "text/plain": [
       "Output()"
      ]
     },
     "metadata": {},
     "output_type": "display_data"
    },
    {
     "data": {
      "application/vnd.jupyter.widget-view+json": {
       "model_id": "fa312245ee6541f4820baf94bba4a6f0",
       "version_major": 2,
       "version_minor": 0
      },
      "text/plain": [
       "Output()"
      ]
     },
     "metadata": {},
     "output_type": "display_data"
    },
    {
     "data": {
      "text/markdown": [
       "---"
      ],
      "text/plain": [
       "<IPython.core.display.Markdown object>"
      ]
     },
     "metadata": {},
     "output_type": "display_data"
    },
    {
     "data": {
      "text/markdown": [],
      "text/plain": [
       "<IPython.core.display.Markdown object>"
      ]
     },
     "metadata": {},
     "output_type": "display_data"
    },
    {
     "data": {
      "text/markdown": [
       "### Example2"
      ],
      "text/plain": [
       "<IPython.core.display.Markdown object>"
      ]
     },
     "metadata": {},
     "output_type": "display_data"
    },
    {
     "data": {
      "text/markdown": [
       "EDIT JSON FILE with custom config and file management"
      ],
      "text/plain": [
       "<IPython.core.display.Markdown object>"
      ]
     },
     "metadata": {},
     "output_type": "display_data"
    },
    {
     "data": {
      "application/vnd.jupyter.widget-view+json": {
       "model_id": "6af97cedcfc74518adccb3f0713f525f",
       "version_major": 2,
       "version_minor": 0
      },
      "text/plain": [
       "VBox(children=(HBox(children=(ToggleButton(value=False, button_style='info', description='inputs from file'), …"
      ]
     },
     "metadata": {},
     "output_type": "display_data"
    },
    {
     "data": {
      "application/vnd.jupyter.widget-view+json": {
       "model_id": "204fd2f7ea154ef28bc67e35138f6128",
       "version_major": 2,
       "version_minor": 0
      },
      "text/plain": [
       "VBox(children=(VBox(children=(HBox(children=(HBox(children=(HTML(value='<p>fpth_in</p>'), HBox(children=(Text(…"
      ]
     },
     "metadata": {},
     "output_type": "display_data"
    },
    {
     "data": {
      "application/vnd.jupyter.widget-view+json": {
       "model_id": "ec6ecd8d398c4b66b27a341d71e43ae2",
       "version_major": 2,
       "version_minor": 0
      },
      "text/plain": [
       "Output()"
      ]
     },
     "metadata": {},
     "output_type": "display_data"
    },
    {
     "data": {
      "text/markdown": [
       "---"
      ],
      "text/plain": [
       "<IPython.core.display.Markdown object>"
      ]
     },
     "metadata": {},
     "output_type": "display_data"
    },
    {
     "data": {
      "text/markdown": [],
      "text/plain": [
       "<IPython.core.display.Markdown object>"
      ]
     },
     "metadata": {},
     "output_type": "display_data"
    },
    {
     "data": {
      "text/markdown": [
       "### Example3"
      ],
      "text/plain": [
       "<IPython.core.display.Markdown object>"
      ]
     },
     "metadata": {},
     "output_type": "display_data"
    },
    {
     "data": {
      "text/markdown": [
       "EDIT NESTED JSON FILE with custom config and file management"
      ],
      "text/plain": [
       "<IPython.core.display.Markdown object>"
      ]
     },
     "metadata": {},
     "output_type": "display_data"
    },
    {
     "data": {
      "application/vnd.jupyter.widget-view+json": {
       "model_id": "48d740e72cff419395ec00d3f1780ea9",
       "version_major": 2,
       "version_minor": 0
      },
      "text/plain": [
       "VBox(children=(HBox(children=(ToggleButton(value=False, button_style='info', description='inputs from file'), …"
      ]
     },
     "metadata": {},
     "output_type": "display_data"
    },
    {
     "data": {
      "application/vnd.jupyter.widget-view+json": {
       "model_id": "874d578254e546b389bbac68ba693012",
       "version_major": 2,
       "version_minor": 0
      },
      "text/plain": [
       "VBox(children=(VBox(children=(HBox(children=(HBox(children=(HTML(value='<p>fpth_in</p>'), HBox(children=(Text(…"
      ]
     },
     "metadata": {},
     "output_type": "display_data"
    },
    {
     "data": {
      "application/vnd.jupyter.widget-view+json": {
       "model_id": "428a8daf72364e748993ccdf5b11b8ad",
       "version_major": 2,
       "version_minor": 0
      },
      "text/plain": [
       "Output()"
      ]
     },
     "metadata": {},
     "output_type": "display_data"
    },
    {
     "data": {
      "text/markdown": [
       "---"
      ],
      "text/plain": [
       "<IPython.core.display.Markdown object>"
      ]
     },
     "metadata": {},
     "output_type": "display_data"
    },
    {
     "data": {
      "text/markdown": [],
      "text/plain": [
       "<IPython.core.display.Markdown object>"
      ]
     },
     "metadata": {},
     "output_type": "display_data"
    },
    {
     "data": {
      "text/markdown": [
       "### Example4"
      ],
      "text/plain": [
       "<IPython.core.display.Markdown object>"
      ]
     },
     "metadata": {},
     "output_type": "display_data"
    },
    {
     "data": {
      "text/markdown": [
       "Edit list of dicts iwth date picker and derived input"
      ],
      "text/plain": [
       "<IPython.core.display.Markdown object>"
      ]
     },
     "metadata": {},
     "output_type": "display_data"
    },
    {
     "data": {
      "text/markdown": [
       "EDIT JSON with DatePicker and DerivedText widgetss"
      ],
      "text/plain": [
       "<IPython.core.display.Markdown object>"
      ]
     },
     "metadata": {},
     "output_type": "display_data"
    },
    {
     "data": {
      "application/vnd.jupyter.widget-view+json": {
       "model_id": "8f2f7afaa4764800921915ec9828524a",
       "version_major": 2,
       "version_minor": 0
      },
      "text/plain": [
       "VBox(children=(HBox(children=(HBox(children=(HTML(value='<p>Model Run Name</p>'), HBox(children=(HTML(value='0…"
      ]
     },
     "metadata": {},
     "output_type": "display_data"
    },
    {
     "data": {
      "application/vnd.jupyter.widget-view+json": {
       "model_id": "b20efee583ea415aa74d2a293a4f8b42",
       "version_major": 2,
       "version_minor": 0
      },
      "text/plain": [
       "Output()"
      ]
     },
     "metadata": {},
     "output_type": "display_data"
    },
    {
     "data": {
      "application/vnd.jupyter.widget-view+json": {
       "model_id": "b575ba64e240494eacbfffc32d27feba",
       "version_major": 2,
       "version_minor": 0
      },
      "text/plain": [
       "Output()"
      ]
     },
     "metadata": {},
     "output_type": "display_data"
    },
    {
     "data": {
      "application/vnd.jupyter.widget-view+json": {
       "model_id": "59e8a166e48f47f58ab30aa85e43314a",
       "version_major": 2,
       "version_minor": 0
      },
      "text/plain": [
       "Output()"
      ]
     },
     "metadata": {},
     "output_type": "display_data"
    },
    {
     "data": {
      "application/vnd.jupyter.widget-view+json": {
       "model_id": "7694328f7ad5410ba7a443beba7c6767",
       "version_major": 2,
       "version_minor": 0
      },
      "text/plain": [
       "Output()"
      ]
     },
     "metadata": {},
     "output_type": "display_data"
    },
    {
     "data": {
      "application/vnd.jupyter.widget-view+json": {
       "model_id": "007c216f58834f6fa2e26dc01b18ddb6",
       "version_major": 2,
       "version_minor": 0
      },
      "text/plain": [
       "Output()"
      ]
     },
     "metadata": {},
     "output_type": "display_data"
    },
    {
     "data": {
      "application/vnd.jupyter.widget-view+json": {
       "model_id": "0b532e22969c416fac021fd476bd4a95",
       "version_major": 2,
       "version_minor": 0
      },
      "text/plain": [
       "Output()"
      ]
     },
     "metadata": {},
     "output_type": "display_data"
    },
    {
     "data": {
      "application/vnd.jupyter.widget-view+json": {
       "model_id": "dc15ff7480b74ad6a5749a03ad526a9e",
       "version_major": 2,
       "version_minor": 0
      },
      "text/plain": [
       "Output()"
      ]
     },
     "metadata": {},
     "output_type": "display_data"
    },
    {
     "data": {
      "application/vnd.jupyter.widget-view+json": {
       "model_id": "b2adc68f129b491dab309b7832ea49b6",
       "version_major": 2,
       "version_minor": 0
      },
      "text/plain": [
       "Output()"
      ]
     },
     "metadata": {},
     "output_type": "display_data"
    },
    {
     "data": {
      "application/vnd.jupyter.widget-view+json": {
       "model_id": "e5e67c59209d4b6d87832099c8f382f6",
       "version_major": 2,
       "version_minor": 0
      },
      "text/plain": [
       "Output()"
      ]
     },
     "metadata": {},
     "output_type": "display_data"
    },
    {
     "data": {
      "application/vnd.jupyter.widget-view+json": {
       "model_id": "0f1fe90eb75b41ecaf17d0b9d6d2a817",
       "version_major": 2,
       "version_minor": 0
      },
      "text/plain": [
       "Output()"
      ]
     },
     "metadata": {},
     "output_type": "display_data"
    },
    {
     "data": {
      "application/vnd.jupyter.widget-view+json": {
       "model_id": "034417d658a74d45af6e0f7aef939a1c",
       "version_major": 2,
       "version_minor": 0
      },
      "text/plain": [
       "Output()"
      ]
     },
     "metadata": {},
     "output_type": "display_data"
    },
    {
     "data": {
      "application/vnd.jupyter.widget-view+json": {
       "model_id": "20fbe44e64a7482482d67ea76d5ca572",
       "version_major": 2,
       "version_minor": 0
      },
      "text/plain": [
       "Output()"
      ]
     },
     "metadata": {},
     "output_type": "display_data"
    },
    {
     "data": {
      "application/vnd.jupyter.widget-view+json": {
       "model_id": "1880d229e86d4156b280170790afbc56",
       "version_major": 2,
       "version_minor": 0
      },
      "text/plain": [
       "Output()"
      ]
     },
     "metadata": {},
     "output_type": "display_data"
    },
    {
     "data": {
      "text/markdown": [
       "---"
      ],
      "text/plain": [
       "<IPython.core.display.Markdown object>"
      ]
     },
     "metadata": {},
     "output_type": "display_data"
    },
    {
     "data": {
      "text/markdown": [],
      "text/plain": [
       "<IPython.core.display.Markdown object>"
      ]
     },
     "metadata": {},
     "output_type": "display_data"
    },
    {
     "data": {
      "text/markdown": [
       "### Example5"
      ],
      "text/plain": [
       "<IPython.core.display.Markdown object>"
      ]
     },
     "metadata": {},
     "output_type": "display_data"
    },
    {
     "data": {
      "text/markdown": [
       "EDIT NESTED JSON FILE with custom config and file management"
      ],
      "text/plain": [
       "<IPython.core.display.Markdown object>"
      ]
     },
     "metadata": {},
     "output_type": "display_data"
    },
    {
     "data": {
      "application/vnd.jupyter.widget-view+json": {
       "model_id": "582630a67de547f0baa6f8d5c8d9f3a7",
       "version_major": 2,
       "version_minor": 0
      },
      "text/plain": [
       "VBox(children=(HBox(children=(ToggleButton(value=False, button_style='info', description='inputs from file'), …"
      ]
     },
     "metadata": {},
     "output_type": "display_data"
    },
    {
     "data": {
      "application/vnd.jupyter.widget-view+json": {
       "model_id": "3599a61e04d144159c228ee7c98db5b6",
       "version_major": 2,
       "version_minor": 0
      },
      "text/plain": [
       "VBox(children=(VBox(children=(HBox(children=(HBox(children=(HTML(value='<p>fpth_in</p>'), HBox(children=(Text(…"
      ]
     },
     "metadata": {},
     "output_type": "display_data"
    },
    {
     "data": {
      "application/vnd.jupyter.widget-view+json": {
       "model_id": "9919240a847e4df18a8a77f2e4514ad7",
       "version_major": 2,
       "version_minor": 0
      },
      "text/plain": [
       "Output()"
      ]
     },
     "metadata": {},
     "output_type": "display_data"
    },
    {
     "data": {
      "text/markdown": [
       "---"
      ],
      "text/plain": [
       "<IPython.core.display.Markdown object>"
      ]
     },
     "metadata": {},
     "output_type": "display_data"
    },
    {
     "data": {
      "text/markdown": [],
      "text/plain": [
       "<IPython.core.display.Markdown object>"
      ]
     },
     "metadata": {},
     "output_type": "display_data"
    },
    {
     "data": {
      "text/markdown": [
       "### Example6"
      ],
      "text/plain": [
       "<IPython.core.display.Markdown object>"
      ]
     },
     "metadata": {},
     "output_type": "display_data"
    },
    {
     "data": {
      "text/markdown": [
       "select mf json file and edit"
      ],
      "text/plain": [
       "<IPython.core.display.Markdown object>"
      ]
     },
     "metadata": {},
     "output_type": "display_data"
    },
    {
     "data": {
      "application/vnd.jupyter.widget-view+json": {
       "model_id": "cb03cf7f3b3345a3aa261753897b0917",
       "version_major": 2,
       "version_minor": 0
      },
      "text/plain": [
       "VBox(children=(HBox(children=(ToggleButton(value=False, button_style='info', description='select file'), Toggl…"
      ]
     },
     "metadata": {},
     "output_type": "display_data"
    },
    {
     "data": {
      "application/vnd.jupyter.widget-view+json": {
       "model_id": "cf3b25e51eca4966a3021b193df1ebb6",
       "version_major": 2,
       "version_minor": 0
      },
      "text/plain": [
       "Output()"
      ]
     },
     "metadata": {},
     "output_type": "display_data"
    },
    {
     "data": {
      "text/markdown": [
       "---"
      ],
      "text/plain": [
       "<IPython.core.display.Markdown object>"
      ]
     },
     "metadata": {},
     "output_type": "display_data"
    },
    {
     "data": {
      "text/markdown": [],
      "text/plain": [
       "<IPython.core.display.Markdown object>"
      ]
     },
     "metadata": {},
     "output_type": "display_data"
    },
    {
     "ename": "KeyError",
     "evalue": "'value'",
     "output_type": "error",
     "traceback": [
      "\u001b[1;31m---------------------------------------------------------------------------\u001b[0m",
      "\u001b[1;31mKeyError\u001b[0m                                  Traceback (most recent call last)",
      "\u001b[1;32m<ipython-input-61-049022da4f34>\u001b[0m in \u001b[0;36m<module>\u001b[1;34m\u001b[0m\n\u001b[0;32m    104\u001b[0m         \u001b[1;34m'fdir'\u001b[0m\u001b[1;33m:\u001b[0m\u001b[1;34m'.'\u001b[0m\u001b[1;33m,\u001b[0m\u001b[1;33m\u001b[0m\u001b[1;33m\u001b[0m\u001b[0m\n\u001b[0;32m    105\u001b[0m         }\n\u001b[1;32m--> 106\u001b[1;33m     \u001b[0meditnestedjson\u001b[0m \u001b[1;33m=\u001b[0m \u001b[0mEditJson\u001b[0m\u001b[1;33m(\u001b[0m\u001b[0mnestedconfig\u001b[0m\u001b[1;33m)\u001b[0m\u001b[1;33m\u001b[0m\u001b[1;33m\u001b[0m\u001b[0m\n\u001b[0m\u001b[0;32m    107\u001b[0m     \u001b[1;31m# display\u001b[0m\u001b[1;33m\u001b[0m\u001b[1;33m\u001b[0m\u001b[1;33m\u001b[0m\u001b[0m\n\u001b[0;32m    108\u001b[0m     \u001b[0mdisplay\u001b[0m\u001b[1;33m(\u001b[0m\u001b[0mMarkdown\u001b[0m\u001b[1;33m(\u001b[0m\u001b[1;34m'### Example7'\u001b[0m\u001b[1;33m)\u001b[0m\u001b[1;33m)\u001b[0m\u001b[1;33m\u001b[0m\u001b[1;33m\u001b[0m\u001b[0m\n",
      "\u001b[1;32m<ipython-input-4-3ca075a2385b>\u001b[0m in \u001b[0;36m__init__\u001b[1;34m(self, config)\u001b[0m\n\u001b[0;32m    199\u001b[0m         \u001b[0mself\u001b[0m\u001b[1;33m.\u001b[0m\u001b[0mli_apps\u001b[0m \u001b[1;33m=\u001b[0m \u001b[0mself\u001b[0m\u001b[1;33m.\u001b[0m\u001b[0m_update_li\u001b[0m\u001b[1;33m(\u001b[0m\u001b[1;33m)\u001b[0m\u001b[1;33m\u001b[0m\u001b[1;33m\u001b[0m\u001b[0m\n\u001b[0;32m    200\u001b[0m         \u001b[0mself\u001b[0m\u001b[1;33m.\u001b[0m\u001b[0m_init_file_controller\u001b[0m\u001b[1;33m(\u001b[0m\u001b[1;33m)\u001b[0m\u001b[1;33m\u001b[0m\u001b[1;33m\u001b[0m\u001b[0m\n\u001b[1;32m--> 201\u001b[1;33m         \u001b[0mself\u001b[0m\u001b[1;33m.\u001b[0m\u001b[0m__build_widgets\u001b[0m\u001b[1;33m(\u001b[0m\u001b[1;33m)\u001b[0m\u001b[1;33m\u001b[0m\u001b[1;33m\u001b[0m\u001b[0m\n\u001b[0m\u001b[0;32m    202\u001b[0m \u001b[1;33m\u001b[0m\u001b[0m\n\u001b[0;32m    203\u001b[0m \u001b[1;33m\u001b[0m\u001b[0m\n",
      "\u001b[1;32m<ipython-input-4-3ca075a2385b>\u001b[0m in \u001b[0;36m__build_widgets\u001b[1;34m(self)\u001b[0m\n\u001b[0;32m    203\u001b[0m \u001b[1;33m\u001b[0m\u001b[0m\n\u001b[0;32m    204\u001b[0m     \u001b[1;32mdef\u001b[0m \u001b[0m__build_widgets\u001b[0m\u001b[1;33m(\u001b[0m\u001b[0mself\u001b[0m\u001b[1;33m)\u001b[0m\u001b[1;33m:\u001b[0m\u001b[1;33m\u001b[0m\u001b[1;33m\u001b[0m\u001b[0m\n\u001b[1;32m--> 205\u001b[1;33m         \u001b[0mself\u001b[0m\u001b[1;33m.\u001b[0m\u001b[0mform\u001b[0m\u001b[1;33m(\u001b[0m\u001b[1;33m)\u001b[0m\u001b[1;33m\u001b[0m\u001b[1;33m\u001b[0m\u001b[0m\n\u001b[0m\u001b[0;32m    206\u001b[0m         \u001b[0mself\u001b[0m\u001b[1;33m.\u001b[0m\u001b[0m_init_observe\u001b[0m\u001b[1;33m(\u001b[0m\u001b[1;33m)\u001b[0m\u001b[1;33m\u001b[0m\u001b[1;33m\u001b[0m\u001b[0m\n\u001b[0;32m    207\u001b[0m \u001b[1;33m\u001b[0m\u001b[0m\n",
      "\u001b[1;32m<ipython-input-4-3ca075a2385b>\u001b[0m in \u001b[0;36mform\u001b[1;34m(self)\u001b[0m\n\u001b[0;32m     66\u001b[0m         \u001b[0mself\u001b[0m\u001b[1;33m.\u001b[0m\u001b[0mwidgets\u001b[0m \u001b[1;33m=\u001b[0m \u001b[1;33m[\u001b[0m\u001b[1;33m]\u001b[0m\u001b[1;33m\u001b[0m\u001b[1;33m\u001b[0m\u001b[0m\n\u001b[0;32m     67\u001b[0m         \u001b[1;32mfor\u001b[0m \u001b[0ml\u001b[0m \u001b[1;32min\u001b[0m \u001b[0mself\u001b[0m\u001b[1;33m.\u001b[0m\u001b[0mli_apps\u001b[0m\u001b[1;33m:\u001b[0m\u001b[1;33m\u001b[0m\u001b[1;33m\u001b[0m\u001b[0m\n\u001b[1;32m---> 68\u001b[1;33m             \u001b[0mself\u001b[0m\u001b[1;33m.\u001b[0m\u001b[0mwidgets\u001b[0m\u001b[1;33m.\u001b[0m\u001b[0mappend\u001b[0m\u001b[1;33m(\u001b[0m\u001b[0ml\u001b[0m\u001b[1;33m[\u001b[0m\u001b[1;34m'app'\u001b[0m\u001b[1;33m]\u001b[0m\u001b[1;33m(\u001b[0m\u001b[0ml\u001b[0m\u001b[1;33m[\u001b[0m\u001b[1;34m'config'\u001b[0m\u001b[1;33m]\u001b[0m\u001b[1;33m)\u001b[0m\u001b[1;33m)\u001b[0m\u001b[1;33m\u001b[0m\u001b[1;33m\u001b[0m\u001b[0m\n\u001b[0m\u001b[0;32m     69\u001b[0m         \u001b[0mself\u001b[0m\u001b[1;33m.\u001b[0m\u001b[0m_layout\u001b[0m\u001b[1;33m(\u001b[0m\u001b[1;33m)\u001b[0m\u001b[1;33m\u001b[0m\u001b[1;33m\u001b[0m\u001b[0m\n\u001b[0;32m     70\u001b[0m \u001b[1;33m\u001b[0m\u001b[0m\n",
      "\u001b[1;32m<ipython-input-54-6558aebe6d35>\u001b[0m in \u001b[0;36m__init__\u001b[1;34m(self, di)\u001b[0m\n\u001b[0;32m    166\u001b[0m         \u001b[0mself\u001b[0m\u001b[1;33m.\u001b[0m\u001b[0mdi\u001b[0m \u001b[1;33m=\u001b[0m \u001b[0mdi\u001b[0m\u001b[1;33m\u001b[0m\u001b[1;33m\u001b[0m\u001b[0m\n\u001b[0;32m    167\u001b[0m         \u001b[0mself\u001b[0m\u001b[1;33m.\u001b[0m\u001b[0mnested_g\u001b[0m \u001b[1;33m=\u001b[0m \u001b[1;32mNone\u001b[0m\u001b[1;33m\u001b[0m\u001b[1;33m\u001b[0m\u001b[0m\n\u001b[1;32m--> 168\u001b[1;33m         \u001b[0mself\u001b[0m\u001b[1;33m.\u001b[0m\u001b[0mform\u001b[0m\u001b[1;33m(\u001b[0m\u001b[1;33m)\u001b[0m\u001b[1;33m\u001b[0m\u001b[1;33m\u001b[0m\u001b[0m\n\u001b[0m\u001b[0;32m    169\u001b[0m \u001b[1;33m\u001b[0m\u001b[0m\n\u001b[0;32m    170\u001b[0m     \u001b[1;32mdef\u001b[0m \u001b[0mform\u001b[0m\u001b[1;33m(\u001b[0m\u001b[0mself\u001b[0m\u001b[1;33m)\u001b[0m\u001b[1;33m:\u001b[0m\u001b[1;33m\u001b[0m\u001b[1;33m\u001b[0m\u001b[0m\n",
      "\u001b[1;32m<ipython-input-54-6558aebe6d35>\u001b[0m in \u001b[0;36mform\u001b[1;34m(self)\u001b[0m\n\u001b[0;32m    178\u001b[0m             \u001b[0mself\u001b[0m\u001b[1;33m.\u001b[0m\u001b[0mwidget_name\u001b[0m \u001b[1;33m=\u001b[0m \u001b[0mself\u001b[0m\u001b[1;33m.\u001b[0m\u001b[0mdi\u001b[0m\u001b[1;33m[\u001b[0m\u001b[1;34m'widget'\u001b[0m\u001b[1;33m]\u001b[0m\u001b[1;33m\u001b[0m\u001b[1;33m\u001b[0m\u001b[0m\n\u001b[0;32m    179\u001b[0m         \u001b[0mself\u001b[0m\u001b[1;33m.\u001b[0m\u001b[0mkwargs\u001b[0m \u001b[1;33m=\u001b[0m \u001b[0mself\u001b[0m\u001b[1;33m.\u001b[0m\u001b[0m_kwargfilt\u001b[0m\u001b[1;33m(\u001b[0m\u001b[1;33m)\u001b[0m\u001b[1;33m\u001b[0m\u001b[1;33m\u001b[0m\u001b[0m\n\u001b[1;32m--> 180\u001b[1;33m         \u001b[0mself\u001b[0m\u001b[1;33m.\u001b[0m\u001b[0mlayout\u001b[0m \u001b[1;33m=\u001b[0m \u001b[0mself\u001b[0m\u001b[1;33m.\u001b[0m\u001b[0m_build_widget\u001b[0m\u001b[1;33m(\u001b[0m\u001b[1;33m)\u001b[0m\u001b[1;33m\u001b[0m\u001b[1;33m\u001b[0m\u001b[0m\n\u001b[0m\u001b[0;32m    181\u001b[0m \u001b[1;33m\u001b[0m\u001b[0m\n\u001b[0;32m    182\u001b[0m         \u001b[1;31m# UPDATE THIS - LIST OF WIDGETS NOT TO WATCH\u001b[0m\u001b[1;33m\u001b[0m\u001b[1;33m\u001b[0m\u001b[1;33m\u001b[0m\u001b[0m\n",
      "\u001b[1;32m<ipython-input-54-6558aebe6d35>\u001b[0m in \u001b[0;36m_build_widget\u001b[1;34m(self)\u001b[0m\n\u001b[0;32m    204\u001b[0m             \u001b[1;32mif\u001b[0m \u001b[0mstr\u001b[0m\u001b[1;33m(\u001b[0m\u001b[0mtype\u001b[0m\u001b[1;33m(\u001b[0m\u001b[0mself\u001b[0m\u001b[1;33m.\u001b[0m\u001b[0mwidget_lkup\u001b[0m\u001b[1;33m[\u001b[0m\u001b[0mself\u001b[0m\u001b[1;33m.\u001b[0m\u001b[0mwidget_name\u001b[0m\u001b[1;33m]\u001b[0m\u001b[1;33m)\u001b[0m\u001b[1;33m)\u001b[0m\u001b[1;33m==\u001b[0m\u001b[1;34m\"<class 'method'>\"\u001b[0m\u001b[1;33m:\u001b[0m\u001b[1;33m\u001b[0m\u001b[1;33m\u001b[0m\u001b[0m\n\u001b[0;32m    205\u001b[0m                 \u001b[1;31m# then it is a developer defined custom widget that requires a class method to define\u001b[0m\u001b[1;33m\u001b[0m\u001b[1;33m\u001b[0m\u001b[1;33m\u001b[0m\u001b[0m\n\u001b[1;32m--> 206\u001b[1;33m                 \u001b[0mself\u001b[0m\u001b[1;33m.\u001b[0m\u001b[0mwidget_lkup\u001b[0m\u001b[1;33m[\u001b[0m\u001b[0mself\u001b[0m\u001b[1;33m.\u001b[0m\u001b[0mwidget_name\u001b[0m\u001b[1;33m]\u001b[0m\u001b[1;33m(\u001b[0m\u001b[1;33m)\u001b[0m\u001b[1;33m\u001b[0m\u001b[1;33m\u001b[0m\u001b[0m\n\u001b[0m\u001b[0;32m    207\u001b[0m \u001b[1;33m\u001b[0m\u001b[0m\n\u001b[0;32m    208\u001b[0m             \u001b[1;32melse\u001b[0m\u001b[1;33m:\u001b[0m\u001b[1;33m\u001b[0m\u001b[1;33m\u001b[0m\u001b[0m\n",
      "\u001b[1;32m<ipython-input-54-6558aebe6d35>\u001b[0m in \u001b[0;36m_file_picker\u001b[1;34m(self)\u001b[0m\n\u001b[0;32m    440\u001b[0m \u001b[1;33m\u001b[0m\u001b[0m\n\u001b[0;32m    441\u001b[0m     \u001b[1;32mdef\u001b[0m \u001b[0m_file_picker\u001b[0m\u001b[1;33m(\u001b[0m\u001b[0mself\u001b[0m\u001b[1;33m)\u001b[0m\u001b[1;33m:\u001b[0m\u001b[1;33m\u001b[0m\u001b[1;33m\u001b[0m\u001b[0m\n\u001b[1;32m--> 442\u001b[1;33m         \u001b[0mvalue\u001b[0m \u001b[1;33m=\u001b[0m \u001b[0mos\u001b[0m\u001b[1;33m.\u001b[0m\u001b[0mpath\u001b[0m\u001b[1;33m.\u001b[0m\u001b[0msplit\u001b[0m\u001b[1;33m(\u001b[0m\u001b[0mos\u001b[0m\u001b[1;33m.\u001b[0m\u001b[0mpath\u001b[0m\u001b[1;33m.\u001b[0m\u001b[0mrealpath\u001b[0m\u001b[1;33m(\u001b[0m\u001b[0mself\u001b[0m\u001b[1;33m.\u001b[0m\u001b[0mkwargs\u001b[0m\u001b[1;33m[\u001b[0m\u001b[1;34m'value'\u001b[0m\u001b[1;33m]\u001b[0m\u001b[1;33m)\u001b[0m\u001b[1;33m)\u001b[0m\u001b[1;33m[\u001b[0m\u001b[1;36m1\u001b[0m\u001b[1;33m]\u001b[0m\u001b[1;33m\u001b[0m\u001b[1;33m\u001b[0m\u001b[0m\n\u001b[0m\u001b[0;32m    443\u001b[0m         \u001b[0mself\u001b[0m\u001b[1;33m.\u001b[0m\u001b[0mwidget_only\u001b[0m \u001b[1;33m=\u001b[0m \u001b[0mwidgets\u001b[0m\u001b[1;33m.\u001b[0m\u001b[0mHTML\u001b[0m\u001b[1;33m(\u001b[0m\u001b[0mvalue\u001b[0m\u001b[1;33m)\u001b[0m\u001b[1;33m\u001b[0m\u001b[1;33m\u001b[0m\u001b[0m\n\u001b[0;32m    444\u001b[0m         \u001b[0mself\u001b[0m\u001b[1;33m.\u001b[0m\u001b[0mwidget_only\u001b[0m\u001b[1;33m.\u001b[0m\u001b[0mlayout\u001b[0m\u001b[1;33m=\u001b[0m\u001b[0mwidgets\u001b[0m\u001b[1;33m.\u001b[0m\u001b[0mLayout\u001b[0m\u001b[1;33m(\u001b[0m\u001b[0mborder\u001b[0m\u001b[1;33m=\u001b[0m\u001b[1;34m'solid 1px #BBBBBB'\u001b[0m\u001b[1;33m,\u001b[0m \u001b[0mpadding\u001b[0m\u001b[1;33m=\u001b[0m\u001b[1;34m'0px 10px 0px 10px'\u001b[0m\u001b[1;33m)\u001b[0m\u001b[1;33m\u001b[0m\u001b[1;33m\u001b[0m\u001b[0m\n",
      "\u001b[1;31mKeyError\u001b[0m: 'value'"
     ]
    }
   ],
   "source": [
    "if __name__ =='__main__':\n",
    "\n",
    "    # FORM ONLY EXAMPLE\n",
    "    NBFDIR = os.path.dirname(os.path.realpath('__file__'))\n",
    "    fpth = os.path.join(NBFDIR,r'appdata\\inputs\\test.json')\n",
    "    fpth = r'C:\\engDev\\git_mf\\ipyrun\\examples\\notebooks\\appdata\\inputs\\inputs-expansion_vessel_sizing.json'\n",
    "    li = read_json(fpth)\n",
    "    g = EditListOfDicts(li)\n",
    "    display(Markdown('### Example0'))\n",
    "    display(Markdown('''Edit list of dicts'''))\n",
    "    display(g)\n",
    "    display(Markdown('---'))  \n",
    "    display(Markdown('')) \n",
    "    \n",
    "    # Example1\n",
    "    #FDIR = os.path.dirname(os.path.realpath('__file__'))\n",
    "    #fpth = os.path.join(FDIR,r'appdata/inputs/inputs-file_chooser_test.json')\n",
    "    #simpleeditjson = SimpleEditJson(fpth)\n",
    "    ## display\n",
    "    #display(Markdown('### Example1'))\n",
    "    #display(Markdown('''Simple Edit Json'''))\n",
    "    #display(simpleeditjson)\n",
    "    #display(Markdown('---'))  \n",
    "    #display(Markdown('')) \n",
    "    \n",
    "    # Example2\n",
    "    # EDIT JSON FILE with custom config and file management\n",
    "    config={\n",
    "        'fpth_script':os.path.join(os.environ['mf_root'],r'MF_Toolbox\\dev\\mf_scripts\\docx_to_pdf.py'),\n",
    "        'fdir':'.',\n",
    "        'script_outputs': {'0': {\n",
    "            'fdir':'..\\reports',\n",
    "            'fnm': r'JupyterReportDemo.pdf',\n",
    "            'description': \"a pdf report from word\"\n",
    "                }\n",
    "            }\n",
    "        }\n",
    "    editjson = EditJson(config)\n",
    "    # display\n",
    "    display(Markdown('### Example2'))\n",
    "    display(Markdown('''EDIT JSON FILE with custom config and file management'''))\n",
    "    display(editjson)\n",
    "    display(Markdown('---'))  \n",
    "    display(Markdown(''))    \n",
    "\n",
    "    \n",
    "    # Example3\n",
    "    # EDIT NESTED JSON FILE with custom config and file management\n",
    "    nestedconfig={\n",
    "        'fpth_script':os.path.join(os.environ['mf_root'],r'MF_Toolbox\\dev\\mf_scripts\\gbxml.py'),\n",
    "        'fdir':'.',\n",
    "        }\n",
    "    editnestedjson = EditJson(nestedconfig)\n",
    "    # display\n",
    "    display(Markdown('### Example3'))\n",
    "    display(Markdown('''EDIT NESTED JSON FILE with custom config and file management'''))\n",
    "    display(editnestedjson)\n",
    "    display(Markdown('---'))  \n",
    "    display(Markdown('')) \n",
    "\n",
    "        \n",
    "    # Example4\n",
    "    # EDIT JSON with DatePicker and DerivedText widgets\n",
    "    NBFDIR = os.path.dirname(os.path.realpath('__file__'))\n",
    "    fpth = r'C:\\engDev\\git_mf\\ipyrun\\examples\\scripts\\template_inputs\\inputs-create_model_run_file.json'\n",
    "    li = read_json(fpth)\n",
    "    g = EditListOfDicts(li)\n",
    "    \n",
    "    display(Markdown('### Example4'))\n",
    "    display(Markdown('''Edit list of dicts iwth date picker and derived input'''))\n",
    "    display(Markdown('''EDIT JSON with DatePicker and DerivedText widgetss'''))\n",
    "    display(g)\n",
    "    display(Markdown('---'))  \n",
    "    display(Markdown('')) \n",
    "    \n",
    "    \n",
    "    # Example5\n",
    "    # EDIT NESTED JSON FILE with custom config and file management\n",
    "    nestedconfig={\n",
    "        'fpth_script':os.path.join(os.environ['mf_root'],r'MF_Toolbox\\dev\\mf_scripts\\gbxml.py'),\n",
    "        'fdir':'.',\n",
    "        }\n",
    "    editnestedjson = EditJson(nestedconfig)\n",
    "    # display\n",
    "    display(Markdown('### Example5'))\n",
    "    display(Markdown('''EDIT NESTED JSON FILE with custom config and file management'''))\n",
    "    display(editnestedjson)\n",
    "    display(Markdown('---'))  \n",
    "    display(Markdown('')) \n",
    "    \n",
    "    \n",
    "    # Example6\n",
    "    editmfjson = EditMfJson(r'appdata\\inputs')\n",
    "    # display\n",
    "    display(Markdown('### Example6'))\n",
    "    display(Markdown('''select mf json file and edit'''))\n",
    "    display(editmfjson)\n",
    "    display(Markdown('---'))  \n",
    "    display(Markdown('')) \n",
    "    \n",
    "    # Example7\n",
    "    # THIS NEEDS FIXING\n",
    "    nestedconfig={\n",
    "        'fpth_script':r'C:\\engDev\\git_mf\\ipyrun\\examples\\scripts\\file_chooser_test.py',\n",
    "        'fdir':'.',\n",
    "        }\n",
    "    editnestedjson = EditJson(nestedconfig)\n",
    "    # display\n",
    "    display(Markdown('### Example7'))\n",
    "    display(Markdown('''File Chooser Test'''))\n",
    "    display(editnestedjson)\n",
    "    display(Markdown('---'))  \n",
    "    display(Markdown('')) "
   ]
  },
  {
   "cell_type": "code",
   "execution_count": null,
   "metadata": {},
   "outputs": [],
   "source": []
  }
 ],
 "metadata": {
  "jupytext": {
   "formats": "ipynb,py:light"
  },
  "kernelspec": {
   "display_name": "Python 3.8 (XPython)",
   "language": "python",
   "name": "xpython"
  },
  "language_info": {
   "file_extension": ".py",
   "mimetype": "text/x-python",
   "name": "python",
   "version": "3.8.6"
  }
 },
 "nbformat": 4,
 "nbformat_minor": 4
}
