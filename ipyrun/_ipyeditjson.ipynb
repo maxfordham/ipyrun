{
 "cells": [
  {
   "cell_type": "code",
   "execution_count": 1,
   "metadata": {},
   "outputs": [],
   "source": [
    "import os\n",
    "import pandas as pd\n",
    "from IPython.display import display, Image, JSON, Markdown, HTML, display_pdf, clear_output\n",
    "from markdown import markdown\n",
    "from datetime import datetime\n",
    "\n",
    "# widget stuff\n",
    "import ipywidgets as widgets\n",
    "import ipysheet\n",
    "from ipysheet import from_dataframe, to_dataframe\n",
    "\n",
    "# core mf_modules\n",
    "from mf_modules.pydtype_operations import read_json, write_json \n",
    "from mf_modules.file_operations import make_dir\n",
    "\n",
    "\n",
    "# from this repo\n",
    "# this is an unpleasant hack. should aim to find a better solution\n",
    "try:\n",
    "    from ipyrun._filecontroller import FileConfigController, SelectEditSaveMfJson\n",
    "    from ipyrun._runconfig import RunConfig\n",
    "    from ipyrun._ipydisplayfile import DisplayFile, DisplayFiles\n",
    "except:\n",
    "    from _filecontroller import FileConfigController, SelectEditSaveMfJson\n",
    "    from _runconfig import RunConfig\n",
    "    from _ipydisplayfile import DisplayFile, DisplayFiles"
   ]
  },
  {
   "cell_type": "code",
   "execution_count": 2,
   "metadata": {},
   "outputs": [],
   "source": [
    "def _markdown(value='_Markdown_',\n",
    "              **kwargs):\n",
    "    \"\"\"\n",
    "    a simple template for markdown text input that templates required input\n",
    "    fields. additional user defined fields can be added as kwargs\n",
    "    \"\"\"\n",
    "    _kwargs = {}\n",
    "    _kwargs['value'] = markdown(value)  # required field\n",
    "    _kwargs.update(kwargs)  # user overides\n",
    "    return widgets.HTML(**_kwargs)\n",
    "\n",
    "class EditDictData():\n",
    "    \"\"\"\n",
    "    contains form layout specs and mapping dict used for associating input\n",
    "    variables to the appropriate widget. \n",
    "    \"\"\"\n",
    "           \n",
    "    @property\n",
    "    def MF_FORM_ITEM_LAYOUT(self):\n",
    "        return widgets.Layout(\n",
    "            display='flex',\n",
    "            flex_flow='row',\n",
    "            justify_content='flex-start',\n",
    "            #border='solid 1px green',\n",
    "            grid_auto_columns='True',\n",
    "            width='80%',\n",
    "            align_items='stretch',  \n",
    "        )\n",
    "    \n",
    "    @property\n",
    "    def MF_FORM_ITEM_LAYOUT1(self):\n",
    "        return widgets.Layout(\n",
    "            display='flex',\n",
    "            flex_flow='row',\n",
    "            justify_content='flex-end',\n",
    "            #border='solid 1px green',\n",
    "            grid_auto_columns='True',\n",
    "            width='90%',\n",
    "            align_items='stretch',  \n",
    "        )\n",
    "    \n",
    "    @property\n",
    "    def MF_FORM_ITEM_LAYOUT2(self):\n",
    "        return widgets.Layout(\n",
    "            display='flex',\n",
    "            flex_flow='row',\n",
    "            justify_content='flex-start',\n",
    "            border='dashed 0.2px green',\n",
    "            grid_auto_columns='True',\n",
    "            width='100%',\n",
    "            align_items='stretch',  \n",
    "        )\n",
    "    \n",
    "    @property\n",
    "    def map_keys(self):\n",
    "        return ['value', 'options', 'min', 'max']\n",
    "    \n",
    "    @property\n",
    "    def map_widgets(self):\n",
    "        # mapping dict used to guess what widget to apply\n",
    "        return {\n",
    "            'FloatText': {\n",
    "                'value_type': \"<class 'float'>\",\n",
    "                'options_type': \"<class 'NoneType'>\",\n",
    "                'min_type': \"<class 'NoneType'>\",\n",
    "                'max_type': \"<class 'NoneType'>\"\n",
    "            },\n",
    "           'FloatSlider': {\n",
    "                'value_type': \"<class 'float'>\",\n",
    "                'options_type': \"<class 'NoneType'>\",\n",
    "                'min_type': \"<class 'float'>\",\n",
    "                'max_type': \"<class 'float'>\"\n",
    "           },\n",
    "           'Dropdown': {\n",
    "                'value_type': 'any',\n",
    "                'options_type': \"<class 'list'>\",\n",
    "                'min_type': \"<class 'NoneType'>\",\n",
    "                'max_type': \"<class 'NoneType'>\"\n",
    "           },\n",
    "           'SelectMultiple': {\n",
    "                'value_type': \"<class 'list'>\",\n",
    "                'options_type': \"<class 'list'>\",\n",
    "                'min_type': \"<class 'NoneType'>\",\n",
    "                'max_type': \"<class 'NoneType'>\"\n",
    "           },\n",
    "           'Checkbox': {\n",
    "                'value_type': \"<class 'bool'>\",\n",
    "                'options_type': \"<class 'NoneType'>\",\n",
    "                'min_type': \"<class 'NoneType'>\",\n",
    "                'max_type': \"<class 'NoneType'>\"\n",
    "           },\n",
    "           'Text': {\n",
    "                'value_type': \"<class 'str'>\",\n",
    "                'options_type': \"<class 'NoneType'>\",\n",
    "                'min_type': \"<class 'NoneType'>\",\n",
    "                'max_type': \"<class 'NoneType'>\"\n",
    "           },\n",
    "           '_recursive_guess': {\n",
    "                'value_type': \"<class 'list'>\",\n",
    "                'options_type': \"<class 'NoneType'>\",\n",
    "                'min_type': \"<class 'NoneType'>\",\n",
    "                'max_type': \"<class 'NoneType'>\"\n",
    "           }\n",
    "        }\n",
    "    \n",
    "    @property\n",
    "    def widget_lkup(self):\n",
    "        return {\n",
    "                'FloatText':widgets.FloatText,\n",
    "                'FloatSlider':widgets.FloatSlider,\n",
    "                'Dropdown':widgets.Dropdown,\n",
    "                'DerivedText':widgets.HTML,\n",
    "                'DatePicker':widgets.DatePicker,\n",
    "                'SelectMultiple':widgets.SelectMultiple,\n",
    "                'Checkbox':widgets.Checkbox,\n",
    "                'Text':widgets.Text,\n",
    "                'Textarea':widgets.Textarea,\n",
    "                '_recursive_guess':self._recursive_guess,\n",
    "                'ipysheet':self._ipysheet\n",
    "            }\n",
    "\n",
    "    \n",
    "class EditDict(EditDictData):\n",
    "    '''\n",
    "    a class that is passed a dict and then guesses the most appropriate \n",
    "    widget from the values in the dict.\n",
    "    - if a nested list of dicts is passed:\n",
    "        => it will create an embedded, clickable show/hide nested input form\n",
    "    - if a json dataframe object is passed as the \"value\" and and the key:value\n",
    "      \"widget\":\"ipysheet\" is passed in the same dict:\n",
    "        => it will create an editable ipysheet dataframe widget\n",
    "    '''\n",
    "    def __init__(self, di):\n",
    "        self.out = widgets.Output()\n",
    "        self.di = di\n",
    "        self.form()\n",
    " \n",
    "    def form(self):\n",
    "        self.di = self._update_di()\n",
    "        if 'widget' not in self.di.keys():\n",
    "            self.di_types = self._get_var_types()\n",
    "            self.widget_name, self.report = self.map_widget()           \n",
    "        else:\n",
    "            self.widget_name = self.di['widget']\n",
    "        self.kwargs = self._kwargfilt()\n",
    "        self.layout = self._build_widget()\n",
    "        if self.widget_name != 'ipysheet' and self.widget_name != '_recursive_guess':\n",
    "            self._init_controls()\n",
    "          \n",
    "    def _init_controls(self):   \n",
    "        self.widget_only.observe(self._update_change, 'value') \n",
    "\n",
    "    def _update_change(self, change):\n",
    "        value = None\n",
    "        if(self.widget_name == \"DatePicker\"):\n",
    "            value = self.widget_only.value.strftime('%d/%m/%Y')\n",
    "        else:\n",
    "            value = self.widget_only.value\n",
    "\n",
    "        self.di['value'] = value\n",
    "\n",
    "    def _build_widget(self):\n",
    "        \n",
    "        if self.widget_name == '_recursive_guess':\n",
    "            self._recursive_guess()\n",
    "        elif self.widget_name == 'ipysheet':\n",
    "            self._ipysheet()\n",
    "        elif self.widget_name == \"DatePicker\":\n",
    "            value = datetime.strptime(self.kwargs['value'], '%d/%m/%Y')\n",
    "            self.widget_only = self.widget_lkup[self.widget_name](value=value)\n",
    "        elif self.widget_name == \"DerivedText\":   \n",
    "            self.widget_only = self.widget_lkup[self.widget_name](**self.kwargs)\n",
    "            self.widget_only.layout=widgets.Layout(border='solid 1px #BBBBBB', padding='0px 10px 0px 10px')\n",
    "        else:\n",
    "            self.widget_only = self.widget_lkup[self.widget_name](**self.kwargs)\n",
    "        self.widget_simple = widgets.HBox([self.widget_only,_markdown(self.di['label'])],layout=self.MF_FORM_ITEM_LAYOUT)\n",
    "        self.widget_row = widgets.HBox([_markdown(self.di['name']),self.widget_simple],layout=self.MF_FORM_ITEM_LAYOUT1)\n",
    "        if 'fpth_help' in self.di.keys():\n",
    "            self.guide = widgets.ToggleButton(icon='fa-question-circle',\n",
    "                                              description='help',\n",
    "                                              tooltip='gives guidance',\n",
    "                                              style={'font_weight':'bold'},\n",
    "                                              layout=widgets.Layout(width='5%'))\n",
    "            self.guide.observe(self._guide, 'value')\n",
    "            layout = widgets.HBox([self.widget_row ,self.guide],layout=self.MF_FORM_ITEM_LAYOUT2)\n",
    "        else:\n",
    "            layout = widgets.HBox([self.widget_row ],layout=self.MF_FORM_ITEM_LAYOUT2)\n",
    "        return layout\n",
    "    \n",
    "    def _guide(self, sender):\n",
    "        with self.out:\n",
    "            if self.guide.value:  \n",
    "                if self.di['fpth_help']==list:\n",
    "                    d = DisplayFiles(self.di['fpth_help'])\n",
    "                    #display(Image(os.path.join(os.environ['mf_root'],r'engDevSetup\\dev\\icons\\icon_png\\help-icon.png')));\n",
    "                    display(d)\n",
    "                else:\n",
    "                    d = DisplayFile(self.di['fpth_help'])\n",
    "                    display(d.preview_fpth())\n",
    "            else:\n",
    "                clear_output()\n",
    "                \n",
    "    def _kwargfilt(self):\n",
    "        return {k:v for (k,v) in self.di.items() if k != 'widget' and k != 'name' and k != 'label' and k != 'fpth_help' and v is not None}\n",
    "        \n",
    "    def _update_di(self):\n",
    "\n",
    "        def add_to_dict(di, keyname='None', valuename=None):\n",
    "            if keyname not in di.keys():\n",
    "                di[keyname]=valuename\n",
    "            return di\n",
    "        tmp = self.di\n",
    "        tmp = add_to_dict(tmp,keyname='min')\n",
    "        tmp = add_to_dict(tmp,keyname='max')\n",
    "        tmp = add_to_dict(tmp,keyname='options')\n",
    "        tmp = add_to_dict(tmp,keyname='name', valuename='name')\n",
    "        tmp = add_to_dict(tmp,keyname='label', valuename='label')\n",
    "        return tmp\n",
    "        \n",
    "    def _get_var_types(self):\n",
    "\n",
    "        def int_type_to_float(di):\n",
    "            di_ = {}\n",
    "            for key, val in di.items():\n",
    "                if val == \"<class 'int'>\":\n",
    "                    di_[key] = \"<class 'float'>\"\n",
    "                else:\n",
    "                    di_[key] = val\n",
    "            return di_\n",
    "        di = self.di\n",
    "        keys = self.map_keys\n",
    "        di_filt = { key: di[key] for key in keys }\n",
    "        di_types = {key+'_type': str(type(di_filt[key])) for key in keys}\n",
    "        di_types= int_type_to_float(di_types)\n",
    "        return di_types\n",
    "    \n",
    "    def map_widget(self):\n",
    "        \"\"\"\n",
    "        uses the types of the different inputs to map an input \n",
    "        to the appropriate widget\n",
    "\n",
    "        Reference:\n",
    "            |                 | value_type      | options_type       | min_type           | max_type           |\n",
    "            |:----------------|:----------------|:-------------------|:-------------------|:-------------------|\n",
    "            | FloatText       | <class 'float'> | <class 'NoneType'> | <class 'NoneType'> | <class 'NoneType'> |\n",
    "            | FloatSlider     | <class 'float'> | <class 'NoneType'> | <class 'float'>    | <class 'float'>    |\n",
    "            | Dropdown        | <class 'float'> | <class 'list'>     | <class 'NoneType'> | <class 'NoneType'> |\n",
    "            | SelectMultiple  | <class 'list'>  | <class 'list'>     | <class 'NoneType'> | <class 'NoneType'> |\n",
    "            | Checkbox        | <class 'bool'>  | <class 'NoneType'> | <class 'NoneType'> | <class 'NoneType'> |\n",
    "            | Text            | <class 'str'>   | <class 'NoneType'> | <class 'NoneType'> | <class 'NoneType'> |\n",
    "            | _recursive_guess| <class 'list'>  | <class 'NoneType'> | <class 'NoneType'> | <class 'NoneType'> |\n",
    "        \"\"\"\n",
    "        di_types = self.di_types\n",
    "        map_widgets = self.map_widgets\n",
    "        m = 0\n",
    "        for k, v in map_widgets.items():\n",
    "            # this settles ambiguity for value type from Dropdown (which could be anything)\n",
    "            #if k == widgets.Dropdown and di_types['value_type'] != \"<class 'list'>\":\n",
    "            if k == 'Dropdown' and di_types['value_type'] != \"<class 'list'>\":\n",
    "                v['value_type'] = di_types['value_type']\n",
    "            if v == di_types:\n",
    "                m=+1\n",
    "                widget_name = k\n",
    "        if m < 1:\n",
    "            report = 'no matching widget found... check inputs...'\n",
    "            print(di_types)\n",
    "            print(report)\n",
    "            widget_name = 'Text'\n",
    "        elif m == 1:\n",
    "            report = 'perfect match!'\n",
    "        else:\n",
    "            report = 'multiple matches found... check code...'\n",
    "            print(di_types)\n",
    "            print(report)\n",
    "        return widget_name, report\n",
    "    \n",
    "    # -------------------------------------------------------------------------     \n",
    "    # code that allows for embedded list of dicts -----------------------------\n",
    "    def _recursive_guess(self):\n",
    "        self.kwargs = {k:v for (k,v) in self.kwargs.items() if k != 'value'}\n",
    "        self.kwargs['icon'] = 'arrow-down'\n",
    "        self.widget_only = widgets.ToggleButton(**self.kwargs)\n",
    "        self._recursive_controls()\n",
    "        \n",
    "    def _recursive_controls(self):\n",
    "        self.widget_only.observe(self._call_GuessWidget, 'value')\n",
    "\n",
    "    def _call_GuessWidget(self, sender):\n",
    "        self.nested_g = EditListOfDicts(self.di['value'])\n",
    "        self.di['value'] = self.nested_g.li\n",
    "        with self.out:\n",
    "            if self.widget_only.value:  \n",
    "                display(self.nested_g)\n",
    "            else:\n",
    "                clear_output()\n",
    "    # --------------------------------------------------------------------------\n",
    "    # code that allows for embedded ipysheets ----------------------------------\n",
    "    def _ipysheet(self):\n",
    "        self.kwargs = {k:v for (k,v) in self.kwargs.items() if k != 'value'}\n",
    "        self.kwargs['icon'] = 'arrow-down'\n",
    "        self.widget_only = widgets.ToggleButton(**self.kwargs)\n",
    "        self.save_ipysheet = widgets.Button(description='save')\n",
    "        self._ipysheet_controls()\n",
    "        \n",
    "    def _ipysheet_controls(self):\n",
    "        self.widget_only.observe(self.call_ipysheet, 'value')\n",
    "        self.save_ipysheet.on_click(self._save_ipysheet)\n",
    "        \n",
    "    def call_ipysheet(self, sender):\n",
    "        tmp = pd.read_json(self.di['value'])\n",
    "        self.sheet = ipysheet.sheet(ipysheet.from_dataframe(tmp)) # initiate sheet\n",
    "        with self.out:\n",
    "            if self.widget_only.value:  \n",
    "                display(self.save_ipysheet)\n",
    "                display(self.sheet)\n",
    "            else:\n",
    "                clear_output()\n",
    "    \n",
    "    def _save_ipysheet(self, change):\n",
    "        tmp = to_dataframe(self.sheet)\n",
    "        self.di['value'] = tmp.to_json()\n",
    "        with self.out:\n",
    "            clear_output()\n",
    "            dateTimeObj = datetime.now()\n",
    "            timestampStr = dateTimeObj.strftime(\"%d-%b-%Y %H:%M:%S:\")\n",
    "            display(Markdown('{0} changes to sheet saved. hit save in main dialog to save to file'.format(timestampStr)))\n",
    "        self.display()\n",
    "    # --------------------------------------------------------------------------\n",
    "\n",
    "    def display(self):\n",
    "        display(self.layout)\n",
    "        display(self.out)\n",
    "         \n",
    "    def _ipython_display_(self):\n",
    "        self.display()    "
   ]
  },
  {
   "cell_type": "code",
   "execution_count": 3,
   "metadata": {
    "lines_to_next_cell": 0
   },
   "outputs": [],
   "source": [
    "class EditListOfDicts():\n",
    "    \"\"\"\n",
    "    builds user input form from a list of dicts by creating a \n",
    "    loop of EditDict objects.\n",
    "    \"\"\"\n",
    "    def __init__(self, li):\n",
    "        \"\"\"\n",
    "        class that builds a user interface based on a list of dicts, where each dict is \n",
    "        a ipywidget user interface object. The class inteprets which widget to select based on the \n",
    "        type of the value and the keys that are passed. The keys are passed to the ipywidget \n",
    "        object as **kwargs.\n",
    "\n",
    "        Args:\n",
    "            li (list): list of dicts. each dict must contain 'name', 'value' and 'label' as the \n",
    "                minimum set of keys for making a ipywidget. additional keys that are passed \n",
    "                get become **kwargs that are passed to the selected ipywidget\n",
    "                \n",
    "        Example:\n",
    "            ```\n",
    "            li = [\n",
    "                    {\n",
    "                        'name':'water_volume_m3',\n",
    "                        'value':15,\n",
    "                        'label':'total volume of water within the closed mechanical system'\n",
    "                    },\n",
    "                    {\n",
    "                        'name':'height_difference_m',\n",
    "                        'value':48,\n",
    "                        'label':'difference in height between the highest and lowest points in the system'\n",
    "                    },\n",
    "                    {\n",
    "                        'name':'eV_acceptance_fraction',\n",
    "                        'value':0.3,\n",
    "                        'min':0,\n",
    "                        'max':1,\n",
    "                        'label':'Expansion vessel acceptance factor (= additional volume / expansion vessel volume):'\n",
    "                    }\n",
    "                ]\n",
    "            ```\n",
    "            \n",
    "            >>> from ipyrun._ipyeditjson import EditListOfDicts\n",
    "            >>> ui = EditListOfDicts(li)\n",
    "            >>> ui\n",
    "            see example image above\n",
    "        Images:\n",
    "            %mf_root%\\ipyrun\\docs\\images\\eg_ui.PNG\n",
    "        \"\"\"\n",
    "        self.out = widgets.Output()\n",
    "        self.li = li\n",
    "        self.form()\n",
    "        self._init_observe()\n",
    "    \n",
    "    def form(self):\n",
    "        self.widgets = []\n",
    "        for l in self.li:\n",
    "            self.widgets.append(EditDict(l))\n",
    "        self._layout()\n",
    "    \n",
    "    def _layout(self):\n",
    "        self.applayout = widgets.VBox([l.layout for l in self.widgets])\n",
    "        \n",
    "    def _init_observe(self): \n",
    "        for l in self.widgets:\n",
    "            l.widget_only.observe(self._update_change, \"value\") \n",
    "    \n",
    "    def _update_change(self, change):\n",
    "        self.li = []\n",
    "        for l in self.widgets:\n",
    "            self.li.append(l.di)\n",
    "        \n",
    "    def _lidi_display(self):\n",
    "        out = [l.layout for l in self.widgets]\n",
    "        self.applayout = widgets.VBox(out)\n",
    "        display(self.applayout)\n",
    "        for l in self.widgets:\n",
    "            display(l.out)\n",
    "            \n",
    "    def _ipython_display_(self):\n",
    "        self._lidi_display()  \n",
    "\n",
    "class EditListOfDictsModelRun(EditListOfDicts):\n",
    "    \"\"\"\n",
    "    Modified version of EditJson, for Model Run spreadsheet\n",
    "    Functionality for DerivedText has been added\n",
    "    \"\"\"\n",
    "    \n",
    "    def __init__(self, li):\n",
    "        super().__init__(li)\n",
    "\n",
    "    def _update_label(self, index, l):\n",
    "        labelVal = \"\"\n",
    "        firstVal = True\n",
    "        for opt in l.di['options']:\n",
    "            try:\n",
    "                \n",
    "                if(index+opt < 0):\n",
    "                    raise Exception(\"Can only get values of positive indices\")\n",
    "\n",
    "                value = self.widgets[index+opt].di[\"value\"]\n",
    "\n",
    "                if(value == \"\"):\n",
    "                    value = \"XX\"\n",
    "                \n",
    "                split_val = str(value).split(\".\")\n",
    "                if(split_val[-1] == \"0\" and split_val[0].isdigit()):\n",
    "                    value = str(int(value)).zfill(3)\n",
    "\n",
    "                if not firstVal:\n",
    "                    labelVal += \"_\"\n",
    "\n",
    "                labelVal += str(value)\n",
    "\n",
    "                firstVal = False\n",
    "            except Exception as e:\n",
    "                pass\n",
    "        return \"{0}\".format(labelVal)\n",
    "    \n",
    "    def _update_change(self, change):\n",
    "        for index, l in enumerate(self.widgets):\n",
    "            if(l.widget_name==\"DerivedText\"):\n",
    "                l.widget_only.value = self._update_label(index, l)\n",
    "    \n",
    "    def _layout(self):\n",
    "        self._update_change(change=None)\n",
    "        super()._layout()"
   ]
  },
  {
   "cell_type": "code",
   "execution_count": 4,
   "metadata": {},
   "outputs": [],
   "source": [
    "class SimpleEditJson(EditListOfDicts):\n",
    "    \"\"\"\n",
    "    inherits EditListOfDicts user input form and manages the reading and \n",
    "    writing the data from a JSON file. \n",
    "    \"\"\"\n",
    "    #def __init__(self, fpth, fdir='.', local_fol='_mfengdev'):\n",
    "    def __init__(self, fpth_in, fpth_out=None):\n",
    "        self.out = widgets.Output()\n",
    "        self.fpth_in = fpth_in\n",
    "        if fpth_out==None:\n",
    "            self.fpth_out = fpth_in\n",
    "        else:\n",
    "            self.fpth_out = fpth_out\n",
    "        #self.fdir = fdir\n",
    "        #self.local_fol = local_fol\n",
    "        #self.fpth_out = self._fpth_out()\n",
    "        self.li = read_json(self.fpth_in)\n",
    "        self.save_changes = widgets.Button(description='save',button_style='success')\n",
    "        self.form()\n",
    "        self._init_observe()\n",
    "        self._init_controls()\n",
    "        \n",
    "    #def _fpth_out(self):\n",
    "    #    fol = os.path.join(self.fdir, self.local_fol)\n",
    "    #    make_dir(fol)\n",
    "    #    return os.path.join(fol,os.path.basename(self.fpth_in))\n",
    "    \n",
    "    def _init_controls(self):  \n",
    "        self.save_changes.on_click(self._save_changes)\n",
    "        \n",
    "    def _save_changes(self, sender):\n",
    "        self.data_out = self.li\n",
    "        #try:\n",
    "            \n",
    "        write_json(self.data_out,\n",
    "                   sort_keys=True,\n",
    "                   indent=4,\n",
    "                   fpth=self.fpth_out,\n",
    "                   print_fpth=False,\n",
    "                   openFile=False)\n",
    "        with self.out:\n",
    "            clear_output()\n",
    "            dateTimeObj = datetime.now()\n",
    "            timestampStr = dateTimeObj.strftime(\"%d-%b-%Y %H:%M:%S:\")\n",
    "            display(Markdown('{0} changes to sheet logged.  to: {1}'.format(timestampStr,self.fpth_out)))\n",
    "            \n",
    "    def display(self):\n",
    "        display(self.save_changes)\n",
    "        out = [l.layout for l in self.widgets]\n",
    "        self.applayout = widgets.VBox(out)\n",
    "        display(self.applayout)\n",
    "        for l in self.widgets:\n",
    "            display(l.out)\n",
    "        display(self.out)\n",
    "            \n",
    "    def _ipython_display_(self):\n",
    "        self.display()  "
   ]
  },
  {
   "cell_type": "code",
   "execution_count": 5,
   "metadata": {
    "lines_to_next_cell": 0
   },
   "outputs": [],
   "source": [
    "class EditJson(EditListOfDicts, FileConfigController):\n",
    "    \"\"\"\n",
    "    inherits EditListOfDicts user input form as well FileConfigController \n",
    "    and manages the reading and writing the data from a JSON file. \n",
    "    \"\"\"\n",
    "    #def __init__(self, fpth, fdir='.', local_fol='_mfengdev'):\n",
    "    def __init__(self, config):\n",
    "        self.out = widgets.Output()\n",
    "        self._errors()\n",
    "        self.config = config\n",
    "        self.user_keys = list(config.keys())\n",
    "        self._update_config()\n",
    "        self.file_control_form()\n",
    "        self.li = read_json(self.fpth_inputs)\n",
    "        self._init_file_controller()\n",
    "        self.__build_widgets()\n",
    "        \n",
    "    def __build_widgets(self):\n",
    "        self.form()\n",
    "        self._init_observe()\n",
    "        \n",
    "    def _revert(self, sender):\n",
    "        \"\"\"revert to last save of working inputs file\"\"\"\n",
    "        fpth = self.fpth_inputs\n",
    "        self.temp_message.value = markdown('revert to inputs in last save of: {0}'.format(fpth))\n",
    "        \n",
    "        # ADD CODE HERE TO REVERT TO LAST SAVE\n",
    "        \n",
    "        self.li = read_json(self.fpth_inputs)\n",
    "        self._update_from_file()\n",
    "        self.update_display()\n",
    "        self.display()\n",
    "\n",
    "        \n",
    "    def _update_from_file(self):\n",
    "        \n",
    "        self.widgets = []\n",
    "        for l in self.li:\n",
    "            self.widgets.append(EditDict(l))\n",
    "            \n",
    "        self.applayout.children = []\n",
    "        self.applayout.children = [w.layout for w in self.widgets]\n",
    "        #for w in self.widgets:\n",
    "        #    self.applayout.children.append(w.layout)\n",
    "            \n",
    "    def _save_changes(self, sender):\n",
    "        \"\"\"save changes to working inputs file\"\"\"\n",
    "        fpth = self.fpth_inputs\n",
    "        \n",
    "        dateTimeObj = datetime.now()\n",
    "        self.save_timestampStr = dateTimeObj.strftime(\"%d-%b-%Y %H:%M:%S\")\n",
    "        self.temp_message.value = markdown('{0} saved at: {1}'.format(fpth, self.save_timestampStr))\n",
    "        print(self.li)\n",
    "        self.data_out = self.li \n",
    "        # add code here to save changes to file\n",
    "        write_json(self.data_out,\n",
    "                   sort_keys=True,\n",
    "                   indent=4,\n",
    "                   fpth=fpth,\n",
    "                   print_fpth=False,\n",
    "                   openFile=False)\n",
    "        \n",
    "        self.update_display()\n",
    "        self.display()\n",
    "        \n",
    "    def _load_inputs(self,sender):\n",
    "        \"\"\"launches the inputs from file dialog\"\"\"\n",
    "        self.temp_message.value = markdown('update the user input form with data from file')\n",
    "        if self.load_inputs.value:\n",
    "            self.inputform.children = [self.load_button, self.choose_inputs]\n",
    "        else:\n",
    "            self.temp_message.value = markdown('')\n",
    "            self.inputform.children = []\n",
    "        self.update_display()\n",
    "        self.display()\n",
    "\n",
    "    def _load(self,sender):\n",
    "\n",
    "        fpth = self.choose_inputs.value\n",
    "        # add code here to load form from file\n",
    "        self.li = read_json(fpth)\n",
    "        self._update_from_file()\n",
    "        self.temp_message.value = markdown('input form load data from: {0}'.format(fpth))\n",
    "        self.update_display()\n",
    "        self.display()\n",
    "        \n",
    "    def update_display(self):\n",
    "        #self._lidi_display()\n",
    "        box = widgets.VBox([\n",
    "            self.button_bar,\n",
    "            self.temp_message,\n",
    "            self.inputform,\n",
    "        ])\n",
    "        self.layout = box\n",
    "        for l in self.widgets:\n",
    "            with self.out:\n",
    "                clear_output()\n",
    "                display(l.out)\n",
    "            \n",
    "    def display(self):\n",
    "        self.update_display()\n",
    "        display(self.layout)\n",
    "        #out = [l.layout for l in self.widgets]\n",
    "        #self.applayout = widgets.VBox(out)\n",
    "        display(self.applayout)\n",
    "        #for l in self.widgets:\n",
    "        #    display(l.out)\n",
    "        display(self.out)\n",
    "            \n",
    "    def _ipython_display_(self):\n",
    "        self.display()  \n",
    "        #self._lidi_display()  \n",
    "\n",
    "class EditJsonModelRun(EditListOfDictsModelRun, EditJson):\n",
    "    \"\"\"\n",
    "    Modified version of EditJson, for Model Run spreadsheet\n",
    "    Functionality for DerivedText has been added\n",
    "    \"\"\"\n",
    "    \n",
    "    def __init__(self, config):\n",
    "        EditJson.__init__(self, config)\n",
    "        \n",
    "    def __build_widgets(self):\n",
    "        EditListOfDictsModelRun.form()\n",
    "        EditListOfDictsModelRun._init_observe()"
   ]
  },
  {
   "cell_type": "code",
   "execution_count": 6,
   "metadata": {},
   "outputs": [],
   "source": [
    "class EditMfJson(SelectEditSaveMfJson, EditListOfDicts):\n",
    "    \"\"\"\n",
    "    \n",
    "    \"\"\"\n",
    "    def __init__(self, fdir, fnm=None):\n",
    "        self.out = widgets.Output()\n",
    "        super().__init__(fdir, fnm=fnm)\n",
    "        \n",
    "    def _save_changes(self, sender):\n",
    "        \"\"\"save changes to working inputs file\"\"\"\n",
    "        self.fpth_out = self.file_chooser.selected\n",
    "        dateTimeObj = datetime.now()\n",
    "        self.save_timestampStr = dateTimeObj.strftime(\"%d-%b-%Y %H:%M:%S\")\n",
    "        self.temp_message.value = markdown('{0} saved at: {1}'.format(self.fpth_out, self.save_timestampStr))\n",
    "        \n",
    "        # add code here to save changes to file\n",
    "        self.data_out = self.li            \n",
    "        write_json(self.data_out,\n",
    "                   sort_keys=True,\n",
    "                   indent=4,\n",
    "                   fpth=self.fpth_out,\n",
    "                   print_fpth=False,\n",
    "                   openFile=False)\n",
    "        \n",
    "        #with self.out:\n",
    "        #    clear_output()\n",
    "        #    dateTimeObj = datetime.now()\n",
    "        #    timestampStr = dateTimeObj.strftime(\"%d-%b-%Y %H:%M:%S:\")\n",
    "        #    display(Markdown('{0} changes to sheet logged.  to: {1}'.format(timestampStr,self.fpth_out)))\n",
    "            \n",
    "        self.update_sse_display()\n",
    "        self.sse_display()\n",
    "        \n",
    "    def _edit_file(self, sender):\n",
    "        \"\"\"save changes to working inputs file\"\"\"\n",
    "        if self.edit_file.value:\n",
    "            fpth = self.file_chooser.selected\n",
    "            self.temp_message.value = markdown('edit inputs below and save to: {0}'.format(fpth))\n",
    "            if os.path.isfile(fpth):\n",
    "                self.li = read_json(fpth)\n",
    "                self.form()\n",
    "                self._init_observe()\n",
    "                \n",
    "                with self.out:\n",
    "                    clear_output()\n",
    "                    out = [l.layout for l in self.widgets]\n",
    "                    self.applayout = widgets.VBox(out)\n",
    "                    display(self.applayout)\n",
    "                    for l in self.widgets:\n",
    "                        display(l.out)\n",
    "            else:\n",
    "                with self.out:\n",
    "                    clear_output()\n",
    "                    display(markdown('{0} not a file'.format(fpth)))\n",
    "\n",
    "        else:\n",
    "            with self.out:\n",
    "                self.temp_message.value = markdown('')\n",
    "                clear_output()\n",
    "        # add code here to save changes to file\n",
    "\n",
    "\n",
    "        self._display()\n",
    "        \n",
    "    def _display(self):\n",
    "        self.update_sse_display()\n",
    "        self.sse_display()\n",
    "        display(self.out)\n",
    "                    \n",
    "    def _ipython_display_(self):\n",
    "        self._display()"
   ]
  },
  {
   "cell_type": "code",
   "execution_count": 7,
   "metadata": {},
   "outputs": [
    {
     "data": {
      "text/markdown": [
       "### Example0"
      ],
      "text/plain": [
       "<IPython.core.display.Markdown object>"
      ]
     },
     "metadata": {},
     "output_type": "display_data"
    },
    {
     "data": {
      "text/markdown": [
       "Edit list of dicts"
      ],
      "text/plain": [
       "<IPython.core.display.Markdown object>"
      ]
     },
     "metadata": {},
     "output_type": "display_data"
    },
    {
     "data": {
      "application/vnd.jupyter.widget-view+json": {
       "model_id": "11bca9d1eff4459dbd0f5afeaacfee81",
       "version_major": 2,
       "version_minor": 0
      },
      "text/plain": [
       "VBox(children=(HBox(children=(HBox(children=(HTML(value='<p>reous foo ous foo st</p>'), HBox(children=(FloatTe…"
      ]
     },
     "metadata": {},
     "output_type": "display_data"
    },
    {
     "data": {
      "application/vnd.jupyter.widget-view+json": {
       "model_id": "4a8c93da14b1487eb714fb273a117064",
       "version_major": 2,
       "version_minor": 0
      },
      "text/plain": [
       "Output()"
      ]
     },
     "metadata": {},
     "output_type": "display_data"
    },
    {
     "data": {
      "application/vnd.jupyter.widget-view+json": {
       "model_id": "1f120067543041609771c0b6c2ef3571",
       "version_major": 2,
       "version_minor": 0
      },
      "text/plain": [
       "Output()"
      ]
     },
     "metadata": {},
     "output_type": "display_data"
    },
    {
     "data": {
      "application/vnd.jupyter.widget-view+json": {
       "model_id": "989afa7e716841d095fbb04103d0f9f3",
       "version_major": 2,
       "version_minor": 0
      },
      "text/plain": [
       "Output()"
      ]
     },
     "metadata": {},
     "output_type": "display_data"
    },
    {
     "data": {
      "application/vnd.jupyter.widget-view+json": {
       "model_id": "a8c422165c5b4a09b733235627218d51",
       "version_major": 2,
       "version_minor": 0
      },
      "text/plain": [
       "Output()"
      ]
     },
     "metadata": {},
     "output_type": "display_data"
    },
    {
     "data": {
      "application/vnd.jupyter.widget-view+json": {
       "model_id": "2fc28051537544e6b75394a50521ce60",
       "version_major": 2,
       "version_minor": 0
      },
      "text/plain": [
       "Output()"
      ]
     },
     "metadata": {},
     "output_type": "display_data"
    },
    {
     "data": {
      "application/vnd.jupyter.widget-view+json": {
       "model_id": "a4691bbf7b8142bb87bfd0f98041142f",
       "version_major": 2,
       "version_minor": 0
      },
      "text/plain": [
       "Output()"
      ]
     },
     "metadata": {},
     "output_type": "display_data"
    },
    {
     "data": {
      "application/vnd.jupyter.widget-view+json": {
       "model_id": "f661b969a36a440a99c988634a6db5ad",
       "version_major": 2,
       "version_minor": 0
      },
      "text/plain": [
       "Output()"
      ]
     },
     "metadata": {},
     "output_type": "display_data"
    },
    {
     "data": {
      "application/vnd.jupyter.widget-view+json": {
       "model_id": "5e0f55e006a043f7904e499a6e1759e5",
       "version_major": 2,
       "version_minor": 0
      },
      "text/plain": [
       "Output()"
      ]
     },
     "metadata": {},
     "output_type": "display_data"
    },
    {
     "data": {
      "text/markdown": [
       "---"
      ],
      "text/plain": [
       "<IPython.core.display.Markdown object>"
      ]
     },
     "metadata": {},
     "output_type": "display_data"
    },
    {
     "data": {
      "text/markdown": [],
      "text/plain": [
       "<IPython.core.display.Markdown object>"
      ]
     },
     "metadata": {},
     "output_type": "display_data"
    },
    {
     "data": {
      "text/markdown": [
       "### Example1"
      ],
      "text/plain": [
       "<IPython.core.display.Markdown object>"
      ]
     },
     "metadata": {},
     "output_type": "display_data"
    },
    {
     "data": {
      "text/markdown": [
       "Simple Edit Json"
      ],
      "text/plain": [
       "<IPython.core.display.Markdown object>"
      ]
     },
     "metadata": {},
     "output_type": "display_data"
    },
    {
     "data": {
      "application/vnd.jupyter.widget-view+json": {
       "model_id": "384261a080214b3b99a83129bb91ead4",
       "version_major": 2,
       "version_minor": 0
      },
      "text/plain": [
       "Button(button_style='success', description='save', style=ButtonStyle())"
      ]
     },
     "metadata": {},
     "output_type": "display_data"
    },
    {
     "data": {
      "application/vnd.jupyter.widget-view+json": {
       "model_id": "ba36314dc4d44f3aaabc05dd4b117735",
       "version_major": 2,
       "version_minor": 0
      },
      "text/plain": [
       "VBox(children=(HBox(children=(HBox(children=(HTML(value='<p>reous foo ous foo st</p>'), HBox(children=(FloatTe…"
      ]
     },
     "metadata": {},
     "output_type": "display_data"
    },
    {
     "data": {
      "application/vnd.jupyter.widget-view+json": {
       "model_id": "46e32d8179054f899724cb71bb076fbc",
       "version_major": 2,
       "version_minor": 0
      },
      "text/plain": [
       "Output()"
      ]
     },
     "metadata": {},
     "output_type": "display_data"
    },
    {
     "data": {
      "application/vnd.jupyter.widget-view+json": {
       "model_id": "67f9c1b4ecf6413e9e8df129d0f3bcaf",
       "version_major": 2,
       "version_minor": 0
      },
      "text/plain": [
       "Output()"
      ]
     },
     "metadata": {},
     "output_type": "display_data"
    },
    {
     "data": {
      "application/vnd.jupyter.widget-view+json": {
       "model_id": "e17c38db88f54b2ca4fcf207c08a2e10",
       "version_major": 2,
       "version_minor": 0
      },
      "text/plain": [
       "Output()"
      ]
     },
     "metadata": {},
     "output_type": "display_data"
    },
    {
     "data": {
      "application/vnd.jupyter.widget-view+json": {
       "model_id": "740fb0c40bc34340a2ab6878c98110fd",
       "version_major": 2,
       "version_minor": 0
      },
      "text/plain": [
       "Output()"
      ]
     },
     "metadata": {},
     "output_type": "display_data"
    },
    {
     "data": {
      "application/vnd.jupyter.widget-view+json": {
       "model_id": "cbf4f13db47c4975affddf8da9d756c9",
       "version_major": 2,
       "version_minor": 0
      },
      "text/plain": [
       "Output()"
      ]
     },
     "metadata": {},
     "output_type": "display_data"
    },
    {
     "data": {
      "application/vnd.jupyter.widget-view+json": {
       "model_id": "84fcd525beda441d82470836324812c6",
       "version_major": 2,
       "version_minor": 0
      },
      "text/plain": [
       "Output()"
      ]
     },
     "metadata": {},
     "output_type": "display_data"
    },
    {
     "data": {
      "application/vnd.jupyter.widget-view+json": {
       "model_id": "065d84d5b84d4c06be4d89a58f95c999",
       "version_major": 2,
       "version_minor": 0
      },
      "text/plain": [
       "Output()"
      ]
     },
     "metadata": {},
     "output_type": "display_data"
    },
    {
     "data": {
      "application/vnd.jupyter.widget-view+json": {
       "model_id": "46d7fb53b1654753bebb37fd432605fc",
       "version_major": 2,
       "version_minor": 0
      },
      "text/plain": [
       "Output()"
      ]
     },
     "metadata": {},
     "output_type": "display_data"
    },
    {
     "data": {
      "application/vnd.jupyter.widget-view+json": {
       "model_id": "a990391fd57147788917a3d0973582f6",
       "version_major": 2,
       "version_minor": 0
      },
      "text/plain": [
       "Output()"
      ]
     },
     "metadata": {},
     "output_type": "display_data"
    },
    {
     "data": {
      "text/markdown": [
       "---"
      ],
      "text/plain": [
       "<IPython.core.display.Markdown object>"
      ]
     },
     "metadata": {},
     "output_type": "display_data"
    },
    {
     "data": {
      "text/markdown": [],
      "text/plain": [
       "<IPython.core.display.Markdown object>"
      ]
     },
     "metadata": {},
     "output_type": "display_data"
    },
    {
     "data": {
      "text/markdown": [
       "### Example2"
      ],
      "text/plain": [
       "<IPython.core.display.Markdown object>"
      ]
     },
     "metadata": {},
     "output_type": "display_data"
    },
    {
     "data": {
      "text/markdown": [
       "EDIT JSON FILE with custom config and file management"
      ],
      "text/plain": [
       "<IPython.core.display.Markdown object>"
      ]
     },
     "metadata": {},
     "output_type": "display_data"
    },
    {
     "data": {
      "application/vnd.jupyter.widget-view+json": {
       "model_id": "62f35444d8584153961770e417d22266",
       "version_major": 2,
       "version_minor": 0
      },
      "text/plain": [
       "VBox(children=(HBox(children=(ToggleButton(value=False, button_style='info', description='inputs from file'), …"
      ]
     },
     "metadata": {},
     "output_type": "display_data"
    },
    {
     "data": {
      "application/vnd.jupyter.widget-view+json": {
       "model_id": "0e6311869771493780668fbe6b0108a9",
       "version_major": 2,
       "version_minor": 0
      },
      "text/plain": [
       "VBox(children=(HBox(children=(HBox(children=(HTML(value='<p>fpth_in</p>'), HBox(children=(Text(value='2'), HTM…"
      ]
     },
     "metadata": {},
     "output_type": "display_data"
    },
    {
     "data": {
      "application/vnd.jupyter.widget-view+json": {
       "model_id": "98955df63a704c41891a0871bce0ec21",
       "version_major": 2,
       "version_minor": 0
      },
      "text/plain": [
       "Output()"
      ]
     },
     "metadata": {},
     "output_type": "display_data"
    },
    {
     "data": {
      "text/markdown": [
       "---"
      ],
      "text/plain": [
       "<IPython.core.display.Markdown object>"
      ]
     },
     "metadata": {},
     "output_type": "display_data"
    },
    {
     "data": {
      "text/markdown": [],
      "text/plain": [
       "<IPython.core.display.Markdown object>"
      ]
     },
     "metadata": {},
     "output_type": "display_data"
    },
    {
     "data": {
      "text/markdown": [
       "### Example3"
      ],
      "text/plain": [
       "<IPython.core.display.Markdown object>"
      ]
     },
     "metadata": {},
     "output_type": "display_data"
    },
    {
     "data": {
      "text/markdown": [
       "EDIT NESTED JSON FILE with custom config and file management"
      ],
      "text/plain": [
       "<IPython.core.display.Markdown object>"
      ]
     },
     "metadata": {},
     "output_type": "display_data"
    },
    {
     "data": {
      "application/vnd.jupyter.widget-view+json": {
       "model_id": "077a58d488df42e985aaa84ef2ac5a09",
       "version_major": 2,
       "version_minor": 0
      },
      "text/plain": [
       "VBox(children=(HBox(children=(ToggleButton(value=False, button_style='info', description='inputs from file'), …"
      ]
     },
     "metadata": {},
     "output_type": "display_data"
    },
    {
     "data": {
      "application/vnd.jupyter.widget-view+json": {
       "model_id": "9c0bbc6521514e68a32b07bda6495804",
       "version_major": 2,
       "version_minor": 0
      },
      "text/plain": [
       "VBox(children=(HBox(children=(HBox(children=(HTML(value='<p>fpth_in</p>'), HBox(children=(Text(value='C:\\\\engD…"
      ]
     },
     "metadata": {},
     "output_type": "display_data"
    },
    {
     "data": {
      "application/vnd.jupyter.widget-view+json": {
       "model_id": "cb7fa08040254f4da29cc68364633b8d",
       "version_major": 2,
       "version_minor": 0
      },
      "text/plain": [
       "Output()"
      ]
     },
     "metadata": {},
     "output_type": "display_data"
    },
    {
     "data": {
      "text/markdown": [
       "---"
      ],
      "text/plain": [
       "<IPython.core.display.Markdown object>"
      ]
     },
     "metadata": {},
     "output_type": "display_data"
    },
    {
     "data": {
      "text/markdown": [],
      "text/plain": [
       "<IPython.core.display.Markdown object>"
      ]
     },
     "metadata": {},
     "output_type": "display_data"
    },
    {
     "data": {
      "text/markdown": [
       "### Example4"
      ],
      "text/plain": [
       "<IPython.core.display.Markdown object>"
      ]
     },
     "metadata": {},
     "output_type": "display_data"
    },
    {
     "data": {
      "text/markdown": [
       "Edit list of dicts iwth date picker and derived input"
      ],
      "text/plain": [
       "<IPython.core.display.Markdown object>"
      ]
     },
     "metadata": {},
     "output_type": "display_data"
    },
    {
     "data": {
      "text/markdown": [
       "EDIT JSON with DatePicker and DerivedText widgetss"
      ],
      "text/plain": [
       "<IPython.core.display.Markdown object>"
      ]
     },
     "metadata": {},
     "output_type": "display_data"
    },
    {
     "data": {
      "application/vnd.jupyter.widget-view+json": {
       "model_id": "414a1db7d73d4cf49dcd350c2792a026",
       "version_major": 2,
       "version_minor": 0
      },
      "text/plain": [
       "VBox(children=(HBox(children=(HBox(children=(HTML(value='<p>Date Picker</p>'), HBox(children=(DatePicker(value…"
      ]
     },
     "metadata": {},
     "output_type": "display_data"
    },
    {
     "data": {
      "application/vnd.jupyter.widget-view+json": {
       "model_id": "d25704724ba74feaa33a106e38c4179f",
       "version_major": 2,
       "version_minor": 0
      },
      "text/plain": [
       "Output()"
      ]
     },
     "metadata": {},
     "output_type": "display_data"
    },
    {
     "data": {
      "application/vnd.jupyter.widget-view+json": {
       "model_id": "d54f8c54f55946f7b9337c5639d56cba",
       "version_major": 2,
       "version_minor": 0
      },
      "text/plain": [
       "Output()"
      ]
     },
     "metadata": {},
     "output_type": "display_data"
    },
    {
     "data": {
      "application/vnd.jupyter.widget-view+json": {
       "model_id": "a8540ee9ca0c41d3a2450b9f663308f1",
       "version_major": 2,
       "version_minor": 0
      },
      "text/plain": [
       "Output()"
      ]
     },
     "metadata": {},
     "output_type": "display_data"
    },
    {
     "data": {
      "application/vnd.jupyter.widget-view+json": {
       "model_id": "30c6992e519345aeb9782b2cf574eb30",
       "version_major": 2,
       "version_minor": 0
      },
      "text/plain": [
       "Output()"
      ]
     },
     "metadata": {},
     "output_type": "display_data"
    },
    {
     "data": {
      "application/vnd.jupyter.widget-view+json": {
       "model_id": "c72f11ba59fa40ffbf99b0d5686a4ebd",
       "version_major": 2,
       "version_minor": 0
      },
      "text/plain": [
       "Output()"
      ]
     },
     "metadata": {},
     "output_type": "display_data"
    },
    {
     "data": {
      "application/vnd.jupyter.widget-view+json": {
       "model_id": "d9635406eb4044619ee402f5914a3ecd",
       "version_major": 2,
       "version_minor": 0
      },
      "text/plain": [
       "Output()"
      ]
     },
     "metadata": {},
     "output_type": "display_data"
    },
    {
     "data": {
      "text/markdown": [
       "---"
      ],
      "text/plain": [
       "<IPython.core.display.Markdown object>"
      ]
     },
     "metadata": {},
     "output_type": "display_data"
    },
    {
     "data": {
      "text/markdown": [],
      "text/plain": [
       "<IPython.core.display.Markdown object>"
      ]
     },
     "metadata": {},
     "output_type": "display_data"
    },
    {
     "data": {
      "text/markdown": [
       "### Example5"
      ],
      "text/plain": [
       "<IPython.core.display.Markdown object>"
      ]
     },
     "metadata": {},
     "output_type": "display_data"
    },
    {
     "data": {
      "text/markdown": [
       "EDIT NESTED JSON FILE with custom config and file management"
      ],
      "text/plain": [
       "<IPython.core.display.Markdown object>"
      ]
     },
     "metadata": {},
     "output_type": "display_data"
    },
    {
     "data": {
      "application/vnd.jupyter.widget-view+json": {
       "model_id": "eff07efd77eb48c79540f4142f9060e9",
       "version_major": 2,
       "version_minor": 0
      },
      "text/plain": [
       "VBox(children=(HBox(children=(ToggleButton(value=False, button_style='info', description='inputs from file'), …"
      ]
     },
     "metadata": {},
     "output_type": "display_data"
    },
    {
     "data": {
      "application/vnd.jupyter.widget-view+json": {
       "model_id": "d294c96338db4025b2fdcabfd60ce8ab",
       "version_major": 2,
       "version_minor": 0
      },
      "text/plain": [
       "VBox(children=(HBox(children=(HBox(children=(HTML(value='<p>fpth_in</p>'), HBox(children=(Text(value='C:\\\\engD…"
      ]
     },
     "metadata": {},
     "output_type": "display_data"
    },
    {
     "data": {
      "application/vnd.jupyter.widget-view+json": {
       "model_id": "7e948356531f42d7896ec957dd8fe1b2",
       "version_major": 2,
       "version_minor": 0
      },
      "text/plain": [
       "Output()"
      ]
     },
     "metadata": {},
     "output_type": "display_data"
    },
    {
     "data": {
      "text/markdown": [
       "---"
      ],
      "text/plain": [
       "<IPython.core.display.Markdown object>"
      ]
     },
     "metadata": {},
     "output_type": "display_data"
    },
    {
     "data": {
      "text/markdown": [],
      "text/plain": [
       "<IPython.core.display.Markdown object>"
      ]
     },
     "metadata": {},
     "output_type": "display_data"
    },
    {
     "data": {
      "text/markdown": [
       "### Example6"
      ],
      "text/plain": [
       "<IPython.core.display.Markdown object>"
      ]
     },
     "metadata": {},
     "output_type": "display_data"
    },
    {
     "data": {
      "text/markdown": [
       "select mf json file and edit"
      ],
      "text/plain": [
       "<IPython.core.display.Markdown object>"
      ]
     },
     "metadata": {},
     "output_type": "display_data"
    },
    {
     "data": {
      "application/vnd.jupyter.widget-view+json": {
       "model_id": "ebc7e68a23c54bafa82a766566a9979b",
       "version_major": 2,
       "version_minor": 0
      },
      "text/plain": [
       "VBox(children=(HBox(children=(ToggleButton(value=False, button_style='info', description='select file'), Toggl…"
      ]
     },
     "metadata": {},
     "output_type": "display_data"
    },
    {
     "data": {
      "application/vnd.jupyter.widget-view+json": {
       "model_id": "42fde80aa5ed47bba5e845184c7828ab",
       "version_major": 2,
       "version_minor": 0
      },
      "text/plain": [
       "Output()"
      ]
     },
     "metadata": {},
     "output_type": "display_data"
    },
    {
     "data": {
      "text/markdown": [
       "---"
      ],
      "text/plain": [
       "<IPython.core.display.Markdown object>"
      ]
     },
     "metadata": {},
     "output_type": "display_data"
    },
    {
     "data": {
      "text/markdown": [],
      "text/plain": [
       "<IPython.core.display.Markdown object>"
      ]
     },
     "metadata": {},
     "output_type": "display_data"
    }
   ],
   "source": [
    "if __name__ =='__main__':\n",
    "    \n",
    "    # FORM ONLY EXAMPLE\n",
    "    NBFDIR = os.path.dirname(os.path.realpath('__file__'))\n",
    "    fpth = os.path.join(NBFDIR,r'appdata\\inputs\\test.json')\n",
    "    li = read_json(fpth)\n",
    "    g = EditListOfDicts(li)\n",
    "    display(Markdown('### Example0'))\n",
    "    display(Markdown('''Edit list of dicts'''))\n",
    "    display(g)\n",
    "    display(Markdown('---'))  \n",
    "    display(Markdown('')) \n",
    "    \n",
    "    # Example1\n",
    "    FDIR = os.path.dirname(os.path.realpath('__file__'))\n",
    "    fpth = os.path.join(FDIR,r'appdata/inputs/test.json')\n",
    "    simpleeditjson = SimpleEditJson(fpth)\n",
    "    # display\n",
    "    display(Markdown('### Example1'))\n",
    "    display(Markdown('''Simple Edit Json'''))\n",
    "    display(simpleeditjson)\n",
    "    display(Markdown('---'))  \n",
    "    display(Markdown('')) \n",
    "    \n",
    "    # Example2\n",
    "    # EDIT JSON FILE with custom config and file management\n",
    "    config={\n",
    "        'fpth_script':os.path.join(os.environ['mf_root'],r'MF_Toolbox\\dev\\mf_scripts\\docx_to_pdf.py'),\n",
    "        'fdir':'.',\n",
    "        'script_outputs': {'0': {\n",
    "            'fdir':'..\\reports',\n",
    "            'fnm': r'JupyterReportDemo.pdf',\n",
    "            'description': \"a pdf report from word\"\n",
    "                }\n",
    "            }\n",
    "        }\n",
    "    editjson = EditJson(config)\n",
    "    # display\n",
    "    display(Markdown('### Example2'))\n",
    "    display(Markdown('''EDIT JSON FILE with custom config and file management'''))\n",
    "    display(editjson)\n",
    "    display(Markdown('---'))  \n",
    "    display(Markdown('')) \n",
    "    \n",
    "\n",
    "    \n",
    "    # Example3\n",
    "    # EDIT NESTED JSON FILE with custom config and file management\n",
    "    nestedconfig={\n",
    "        'fpth_script':os.path.join(os.environ['mf_root'],r'MF_Toolbox\\dev\\mf_scripts\\gbxml.py'),\n",
    "        'fdir':'.',\n",
    "        }\n",
    "    editnestedjson = EditJson(nestedconfig)\n",
    "    # display\n",
    "    display(Markdown('### Example3'))\n",
    "    display(Markdown('''EDIT NESTED JSON FILE with custom config and file management'''))\n",
    "    display(editnestedjson)\n",
    "    display(Markdown('---'))  \n",
    "    display(Markdown('')) \n",
    "\n",
    "        \n",
    "    # Example4\n",
    "    # EDIT JSON with DatePicker and DerivedText widgets\n",
    "    NBFDIR = os.path.dirname(os.path.realpath('__file__'))\n",
    "    fpth = os.path.join(NBFDIR,r'appdata\\inputs\\test-derived-val.json')\n",
    "    li = read_json(fpth)\n",
    "    g = EditListOfDictsModelRun(li)\n",
    "    \n",
    "    display(Markdown('### Example4'))\n",
    "    display(Markdown('''Edit list of dicts iwth date picker and derived input'''))\n",
    "    display(Markdown('''EDIT JSON with DatePicker and DerivedText widgetss'''))\n",
    "    display(g)\n",
    "    display(Markdown('---'))  \n",
    "    display(Markdown('')) \n",
    "    \n",
    "    \n",
    "    # Example5\n",
    "    # EDIT NESTED JSON FILE with custom config and file management\n",
    "    nestedconfig={\n",
    "        'fpth_script':os.path.join(os.environ['mf_root'],r'MF_Toolbox\\dev\\mf_scripts\\gbxml.py'),\n",
    "        'fdir':'.',\n",
    "        }\n",
    "    editnestedjson = EditJsonModelRun(nestedconfig)\n",
    "    # display\n",
    "    display(Markdown('### Example5'))\n",
    "    display(Markdown('''EDIT NESTED JSON FILE with custom config and file management'''))\n",
    "    display(editnestedjson)\n",
    "    display(Markdown('---'))  \n",
    "    display(Markdown('')) \n",
    "    \n",
    "    \n",
    "    # Example5\n",
    "    editmfjson = EditMfJson(r'appdata\\inputs')\n",
    "    # display\n",
    "    display(Markdown('### Example6'))\n",
    "    display(Markdown('''select mf json file and edit'''))\n",
    "    display(editmfjson)\n",
    "    display(Markdown('---'))  \n",
    "    display(Markdown('')) "
   ]
  }
 ],
 "metadata": {
  "jupytext": {
   "formats": "ipynb,py:light"
  },
  "kernelspec": {
   "display_name": "Python [conda env:mf_main] *",
   "language": "python",
   "name": "conda-env-mf_main-py"
  },
  "language_info": {
   "codemirror_mode": {
    "name": "ipython",
    "version": 3
   },
   "file_extension": ".py",
   "mimetype": "text/x-python",
   "name": "python",
   "nbconvert_exporter": "python",
   "pygments_lexer": "ipython3",
   "version": "3.7.7"
  },
  "widgets": {
   "application/vnd.jupyter.widget-state+json": {
    "state": {
     "006561ec29f24cb0b6dac7c84f12a135": {
      "model_module": "@jupyter-widgets/base",
      "model_module_version": "1.2.0",
      "model_name": "LayoutModel",
      "state": {}
     },
     "00c82fe997404c3798567eb033674d45": {
      "model_module": "@jupyter-widgets/controls",
      "model_module_version": "1.5.0",
      "model_name": "ToggleButtonModel",
      "state": {
       "description": "help",
       "icon": "fa-question-circle",
       "layout": "IPY_MODEL_1837256241ef4634b0d54cd7af53f7ad",
       "style": "IPY_MODEL_fba51095a1f04cf785622f9131fd0bcd",
       "tooltip": "gives guidance"
      }
     },
     "0195054c7fb8462daf4c35f4b5481066": {
      "model_module": "@jupyter-widgets/base",
      "model_module_version": "1.2.0",
      "model_name": "LayoutModel",
      "state": {}
     },
     "01a8e18e3be24f3a9457c48d8cb0bb22": {
      "model_module": "@jupyter-widgets/base",
      "model_module_version": "1.2.0",
      "model_name": "LayoutModel",
      "state": {}
     },
     "03cc6f4cd25c409ca8afeb65e77ebd30": {
      "model_module": "@jupyter-widgets/controls",
      "model_module_version": "1.5.0",
      "model_name": "ButtonModel",
      "state": {
       "button_style": "success",
       "description": "save changes",
       "layout": "IPY_MODEL_264800eb4e3e4429b80e2d37ed6d3f13",
       "style": "IPY_MODEL_d31fbedb3cfb4e6598c7b5726d209d62"
      }
     },
     "044e95c1e09746de8d1334236a787f08": {
      "model_module": "@jupyter-widgets/controls",
      "model_module_version": "1.5.0",
      "model_name": "HTMLModel",
      "state": {
       "layout": "IPY_MODEL_33e1fe4368fb4eccb0af68c9f1f6d28c",
       "style": "IPY_MODEL_9d98707aae5f4f9fb4a8ef7cdea9657d",
       "value": "<p>Tag for the Model, used within file naming</p>"
      }
     },
     "04a2f47518b24bc29ffe411af9e92dac": {
      "model_module": "@jupyter-widgets/base",
      "model_module_version": "1.2.0",
      "model_name": "LayoutModel",
      "state": {}
     },
     "04cf50a7e8f647cf9662ea30f4eadbd2": {
      "model_module": "@jupyter-widgets/controls",
      "model_module_version": "1.5.0",
      "model_name": "DropdownModel",
      "state": {
       "_options_labels": [
        "appdata\\inputs",
        "appdata",
        ""
       ],
       "index": 0,
       "layout": "IPY_MODEL_211444cae860462ea605c0741f7e9e12",
       "style": "IPY_MODEL_976ecf8c2f3f47ac9410c84fd4945ec9"
      }
     },
     "04efaf7f9d0b40aa8fbc164aa0aa2a1f": {
      "model_module": "@jupyter-widgets/controls",
      "model_module_version": "1.5.0",
      "model_name": "HBoxModel",
      "state": {
       "children": [
        "IPY_MODEL_62d442a4dcd24a7298d210b29f47762d"
       ],
       "layout": "IPY_MODEL_2fec11453bbb4ecb83e1b95187895f57"
      }
     },
     "04f46649051a4350ad3a5d0835c2c0c0": {
      "model_module": "@jupyter-widgets/controls",
      "model_module_version": "1.5.0",
      "model_name": "SliderStyleModel",
      "state": {
       "description_width": ""
      }
     },
     "051c8c0ad4674432bd3a4b23ba972303": {
      "model_module": "@jupyter-widgets/base",
      "model_module_version": "1.2.0",
      "model_name": "LayoutModel",
      "state": {
       "align_items": "stretch",
       "display": "flex",
       "flex_flow": "row",
       "grid_auto_columns": "True",
       "justify_content": "flex-start",
       "width": "80%"
      }
     },
     "052ff1e9dc5a46fa86d5984d9e166003": {
      "model_module": "@jupyter-widgets/controls",
      "model_module_version": "1.5.0",
      "model_name": "TextModel",
      "state": {
       "layout": "IPY_MODEL_a031213cedb441c2b1d7f72032680511",
       "style": "IPY_MODEL_bac4a685d8304f3f8a105d9a5e1f5a5b",
       "value": "C:\\engDev\\git_mf\\MF_Toolbox\\dev\\examples\\gbxml\\105_LiveseyExchange_heatpump-normal-fabric.xml"
      }
     },
     "0544fbfd462940debed955773e5d8477": {
      "model_module": "@jupyter-widgets/controls",
      "model_module_version": "1.5.0",
      "model_name": "DescriptionStyleModel",
      "state": {
       "description_width": ""
      }
     },
     "0574f86aad5c460c8e1b9139d06b4a29": {
      "model_module": "@jupyter-widgets/base",
      "model_module_version": "1.2.0",
      "model_name": "LayoutModel",
      "state": {
       "align_items": "stretch",
       "display": "flex",
       "flex_flow": "row",
       "grid_auto_columns": "True",
       "justify_content": "flex-start",
       "width": "80%"
      }
     },
     "05fac49787d6417c9b6cc8b6566af0d6": {
      "model_module": "@jupyter-widgets/controls",
      "model_module_version": "1.5.0",
      "model_name": "HTMLModel",
      "state": {
       "layout": "IPY_MODEL_48c233afab6b42648318087eb1bd5710",
       "style": "IPY_MODEL_ce070b34f1934e179a0c9b47e300f482",
       "value": "<p>name</p>"
      }
     },
     "06068303a9d64688ab60ef3a0417903f": {
      "model_module": "@jupyter-widgets/base",
      "model_module_version": "1.2.0",
      "model_name": "LayoutModel",
      "state": {
       "align_items": "stretch",
       "display": "flex",
       "flex_flow": "row",
       "grid_auto_columns": "True",
       "justify_content": "flex-end",
       "width": "90%"
      }
     },
     "061219d3054249448006aa2e9ea8ac3f": {
      "model_module": "@jupyter-widgets/base",
      "model_module_version": "1.2.0",
      "model_name": "LayoutModel",
      "state": {}
     },
     "065d84d5b84d4c06be4d89a58f95c999": {
      "model_module": "@jupyter-widgets/output",
      "model_module_version": "1.0.0",
      "model_name": "OutputModel",
      "state": {
       "layout": "IPY_MODEL_3d116806f64645e5bf48eb18d0af0ea3"
      }
     },
     "0673cdd94813485fb8f1ff07bc87e07d": {
      "model_module": "@jupyter-widgets/controls",
      "model_module_version": "1.5.0",
      "model_name": "DescriptionStyleModel",
      "state": {
       "description_width": ""
      }
     },
     "067ebc42c9b8463caa076b9612311778": {
      "model_module": "@jupyter-widgets/base",
      "model_module_version": "1.2.0",
      "model_name": "LayoutModel",
      "state": {}
     },
     "06ef58123c384a639ab214ac3f36c542": {
      "model_module": "@jupyter-widgets/controls",
      "model_module_version": "1.5.0",
      "model_name": "ButtonStyleModel",
      "state": {}
     },
     "073e3a5bf62948caa5fb042400f6e8fe": {
      "model_module": "@jupyter-widgets/controls",
      "model_module_version": "1.5.0",
      "model_name": "HTMLModel",
      "state": {
       "layout": "IPY_MODEL_3ceb08ff79724a35b9e60873780f620d",
       "style": "IPY_MODEL_ad4819b8b9d7455a9477a6acc93698e6",
       "value": "<p>its a delicious foo cake</p>"
      }
     },
     "077a58d488df42e985aaa84ef2ac5a09": {
      "model_module": "@jupyter-widgets/controls",
      "model_module_version": "1.5.0",
      "model_name": "VBoxModel",
      "state": {
       "children": [
        "IPY_MODEL_9850464c355b4f9dadd46d37514d298c",
        "IPY_MODEL_92add60adb41418cae3668522c24aa50",
        "IPY_MODEL_b33ce88225fc41fba96fad813d1d6635"
       ],
       "layout": "IPY_MODEL_6dcc24afd7bc4b9ebdca42015be7bada"
      }
     },
     "078d2a057fac46dca128457502b75ccf": {
      "model_module": "@jupyter-widgets/controls",
      "model_module_version": "1.5.0",
      "model_name": "HBoxModel",
      "state": {
       "children": [
        "IPY_MODEL_46f66ed68cdd4282a54b26591eca4f6c"
       ],
       "layout": "IPY_MODEL_15b52c102ee447d8833df78bb4c1e2d1"
      }
     },
     "07cf572a1e9f4de48b3d5b108aab46b8": {
      "model_module": "@jupyter-widgets/base",
      "model_module_version": "1.2.0",
      "model_name": "LayoutModel",
      "state": {
       "align_items": "stretch",
       "display": "flex",
       "flex_flow": "row",
       "grid_auto_columns": "True",
       "justify_content": "flex-end",
       "width": "90%"
      }
     },
     "08dd1785ca614cadb4a57f2a251d944c": {
      "model_module": "@jupyter-widgets/controls",
      "model_module_version": "1.5.0",
      "model_name": "DescriptionStyleModel",
      "state": {
       "description_width": ""
      }
     },
     "0952f576d6f04f5987c39559cd5a1a1d": {
      "model_module": "@jupyter-widgets/base",
      "model_module_version": "1.2.0",
      "model_name": "LayoutModel",
      "state": {}
     },
     "0956219ee1034120a1e7d6ce0b06c954": {
      "model_module": "@jupyter-widgets/base",
      "model_module_version": "1.2.0",
      "model_name": "LayoutModel",
      "state": {
       "align_items": "stretch",
       "border": "dashed 0.2px green",
       "display": "flex",
       "flex_flow": "row",
       "grid_auto_columns": "True",
       "justify_content": "flex-start",
       "width": "100%"
      }
     },
     "09a052893e2d49af873d678dd5d58e35": {
      "model_module": "@jupyter-widgets/base",
      "model_module_version": "1.2.0",
      "model_name": "LayoutModel",
      "state": {}
     },
     "0a0523343c6f4ca68f9d59f5f074b74d": {
      "model_module": "@jupyter-widgets/controls",
      "model_module_version": "1.5.0",
      "model_name": "ToggleButtonModel",
      "state": {
       "icon": "arrow-down",
       "layout": "IPY_MODEL_2d8a618678f945798726a40fd5148aab",
       "style": "IPY_MODEL_74852d210d2347c88498e9951835c3be"
      }
     },
     "0a7c2d35bbaf4701b3c541d0e9adb0cc": {
      "model_module": "@jupyter-widgets/controls",
      "model_module_version": "1.5.0",
      "model_name": "HTMLModel",
      "state": {
       "layout": "IPY_MODEL_56a1ab9c21dd4510bfda505efb4607e3",
       "style": "IPY_MODEL_7c0aa3e1eff845ea9cb81bc7816b2494"
      }
     },
     "0b835f83af714e048ed7ca9289ee86b9": {
      "model_module": "@jupyter-widgets/controls",
      "model_module_version": "1.5.0",
      "model_name": "DescriptionStyleModel",
      "state": {
       "description_width": ""
      }
     },
     "0b922824e9564954a09a641195765892": {
      "model_module": "@jupyter-widgets/controls",
      "model_module_version": "1.5.0",
      "model_name": "ButtonStyleModel",
      "state": {}
     },
     "0bd4f3ebfc0345dc828edb5059ffccf9": {
      "model_module": "@jupyter-widgets/base",
      "model_module_version": "1.2.0",
      "model_name": "LayoutModel",
      "state": {}
     },
     "0be7a0337660440398d56231abbeee43": {
      "model_module": "@jupyter-widgets/controls",
      "model_module_version": "1.5.0",
      "model_name": "ButtonModel",
      "state": {
       "description": "Select",
       "layout": "IPY_MODEL_792935a1547b431493210f329a9a5ad2",
       "style": "IPY_MODEL_b1b6b85e6fab4f48999672b071aa13c0"
      }
     },
     "0c3046bc7b3a4d8b88f4c6a6af80245f": {
      "model_module": "@jupyter-widgets/base",
      "model_module_version": "1.2.0",
      "model_name": "LayoutModel",
      "state": {}
     },
     "0cc475a20c2343efa3eba779599e0318": {
      "model_module": "@jupyter-widgets/base",
      "model_module_version": "1.2.0",
      "model_name": "LayoutModel",
      "state": {}
     },
     "0de839f61a29459ab3e981e5c1497485": {
      "model_module": "@jupyter-widgets/controls",
      "model_module_version": "1.5.0",
      "model_name": "TextModel",
      "state": {
       "layout": "IPY_MODEL_55765239272c4103891dddb3601af75f",
       "style": "IPY_MODEL_db2f9cc5f4864cf9892cc4be9a107628",
       "value": "C:\\engDev\\git_mf\\MF_Toolbox\\dev\\examples\\gbxml\\105_LiveseyExchange_heatpump-normal-fabric.xml"
      }
     },
     "0e5fc0bc35b94aed9d6069142a3cff74": {
      "model_module": "@jupyter-widgets/controls",
      "model_module_version": "1.5.0",
      "model_name": "ButtonModel",
      "state": {
       "description": "load",
       "icon": "upload",
       "layout": "IPY_MODEL_0bd4f3ebfc0345dc828edb5059ffccf9",
       "style": "IPY_MODEL_90cef368914142c4b311702d15f92a48"
      }
     },
     "0e6311869771493780668fbe6b0108a9": {
      "model_module": "@jupyter-widgets/controls",
      "model_module_version": "1.5.0",
      "model_name": "VBoxModel",
      "state": {
       "children": [
        "IPY_MODEL_76fbcaf648ac455fb281044b085f1f31"
       ],
       "layout": "IPY_MODEL_76eec545d7b34289847cc9cae5797d85"
      }
     },
     "0e6824e141e6446abc63b3c5e342d8fc": {
      "model_module": "@jupyter-widgets/controls",
      "model_module_version": "1.5.0",
      "model_name": "HBoxModel",
      "state": {
       "children": [
        "IPY_MODEL_2c5bc3a785d44ebe99c70a53cd8ba7b7",
        "IPY_MODEL_5aa9cee66fc144b1b925fa8f9fc4fd80"
       ],
       "layout": "IPY_MODEL_5e3ba7f1103c407792a62c28eaada977"
      }
     },
     "0eb7daf785f04422a3df69eb83d7bdb5": {
      "model_module": "@jupyter-widgets/base",
      "model_module_version": "1.2.0",
      "model_name": "LayoutModel",
      "state": {
       "align_items": "stretch",
       "border": "dashed 0.2px green",
       "display": "flex",
       "flex_flow": "row",
       "grid_auto_columns": "True",
       "justify_content": "flex-start",
       "width": "100%"
      }
     },
     "0ebcc49b2dbe45b6861705e4a8818828": {
      "model_module": "@jupyter-widgets/controls",
      "model_module_version": "1.5.0",
      "model_name": "DescriptionStyleModel",
      "state": {
       "description_width": ""
      }
     },
     "0f43a87d973b468f8e5c3de119b4eaf8": {
      "model_module": "@jupyter-widgets/base",
      "model_module_version": "1.2.0",
      "model_name": "LayoutModel",
      "state": {}
     },
     "0ff0973ce04447adb226a986a3350f0b": {
      "model_module": "@jupyter-widgets/base",
      "model_module_version": "1.2.0",
      "model_name": "LayoutModel",
      "state": {}
     },
     "1016933f15b24069b5753ddc9b4d5738": {
      "model_module": "@jupyter-widgets/base",
      "model_module_version": "1.2.0",
      "model_name": "LayoutModel",
      "state": {}
     },
     "108a0604f94d431d8287b3754f148278": {
      "model_module": "@jupyter-widgets/base",
      "model_module_version": "1.2.0",
      "model_name": "LayoutModel",
      "state": {}
     },
     "111c42a396b44ec49245de458ed4c570": {
      "model_module": "@jupyter-widgets/controls",
      "model_module_version": "1.5.0",
      "model_name": "ButtonStyleModel",
      "state": {
       "font_weight": "bold"
      }
     },
     "11bca9d1eff4459dbd0f5afeaacfee81": {
      "model_module": "@jupyter-widgets/controls",
      "model_module_version": "1.5.0",
      "model_name": "VBoxModel",
      "state": {
       "children": [
        "IPY_MODEL_7e2b8cd6dad94fb59f4b467a539b3f0a",
        "IPY_MODEL_db057bc559aa4dd7b376e5a2d8273aa1",
        "IPY_MODEL_9ce129cd5a2840b9a996e3c0489eaa1a",
        "IPY_MODEL_56ba54f1709945c9a986e371da6bcf4a",
        "IPY_MODEL_5f6ec7a2e79049c78649d446a596ee9f",
        "IPY_MODEL_175983856b8049ee9bbc83d8a1b1e92d",
        "IPY_MODEL_974e242225424df4a76bde9e00bc8058",
        "IPY_MODEL_70ff117e2a784d2288baf56725927baf"
       ],
       "layout": "IPY_MODEL_6d5da59372a244d787b7fa726034e9f2"
      }
     },
     "11f2cddd0ea74638bccb54ae361f6035": {
      "model_module": "@jupyter-widgets/controls",
      "model_module_version": "1.5.0",
      "model_name": "DescriptionStyleModel",
      "state": {
       "description_width": ""
      }
     },
     "124d002ce8e743298a588f26dbda48d3": {
      "model_module": "@jupyter-widgets/controls",
      "model_module_version": "1.5.0",
      "model_name": "HBoxModel",
      "state": {
       "children": [
        "IPY_MODEL_6e25049c20fb4a329511be39c0081849",
        "IPY_MODEL_4d60110742bf49d7be186ab30d4026f4"
       ],
       "layout": "IPY_MODEL_19d3f8fd9af94b91a4a643a099124dbf"
      }
     },
     "12736018bdc742a88d291669834eb2ef": {
      "model_module": "@jupyter-widgets/controls",
      "model_module_version": "1.5.0",
      "model_name": "HBoxModel",
      "state": {
       "children": [
        "IPY_MODEL_0de839f61a29459ab3e981e5c1497485",
        "IPY_MODEL_f0a5ac32fbb3413a947d6d91f5d6065f"
       ],
       "layout": "IPY_MODEL_48a7c671a9924bea9c7ca575c43ae93b"
      }
     },
     "131aee1fd95f4ccdb3464883fa927523": {
      "model_module": "@jupyter-widgets/controls",
      "model_module_version": "1.5.0",
      "model_name": "HTMLModel",
      "state": {
       "layout": "IPY_MODEL_1f3b7d2a153647e5b34a1136ec823f42",
       "style": "IPY_MODEL_be5c5c440fbb462c93b1421262ebc048",
       "value": "<p>reus foo ous oo ous foo st</p>"
      }
     },
     "135479e982bf48a8ac5ca0b593d551c7": {
      "model_module": "@jupyter-widgets/controls",
      "model_module_version": "1.5.0",
      "model_name": "RadioButtonsModel",
      "state": {
       "_options_labels": [
        "TEMPLATE: C:\\engDev\\git_mf\\MF_Toolbox\\dev\\mf_scripts\\template_inputs\\inputs-gbxml.json",
        "PROJECT: C:\\engDev\\git_mf\\ipyrun\\ipyrun\\appdata\\inputs\\inputs-gbxml.json"
       ],
       "index": 0,
       "layout": "IPY_MODEL_fbaf031f1b43499493b79cd363b432aa",
       "style": "IPY_MODEL_0673cdd94813485fb8f1ff07bc87e07d"
      }
     },
     "139cb1daa79a4060bda116a3199325b2": {
      "model_module": "@jupyter-widgets/controls",
      "model_module_version": "1.5.0",
      "model_name": "DescriptionStyleModel",
      "state": {
       "description_width": ""
      }
     },
     "1415c7c5532d4bb19b3799f64fd8a064": {
      "model_module": "@jupyter-widgets/controls",
      "model_module_version": "1.5.0",
      "model_name": "DropdownModel",
      "state": {
       "_options_labels": [
        "asfd",
        "10",
        "asdf"
       ],
       "index": 1,
       "layout": "IPY_MODEL_390356d23faa486481657ce4366f4f6d",
       "style": "IPY_MODEL_b9fbcb87e55546fa925b748f43678932"
      }
     },
     "145ea4a24007432e8e5fc0ca67a90628": {
      "model_module": "@jupyter-widgets/controls",
      "model_module_version": "1.5.0",
      "model_name": "ButtonStyleModel",
      "state": {
       "font_weight": "bold"
      }
     },
     "15087b8942ae4a1c96ca86aedfacef5f": {
      "model_module": "@jupyter-widgets/controls",
      "model_module_version": "1.5.0",
      "model_name": "DescriptionStyleModel",
      "state": {
       "description_width": ""
      }
     },
     "15131360a391483c9a71481f0bc008a8": {
      "model_module": "@jupyter-widgets/base",
      "model_module_version": "1.2.0",
      "model_name": "LayoutModel",
      "state": {
       "align_items": "stretch",
       "display": "flex",
       "flex_flow": "row",
       "grid_auto_columns": "True",
       "justify_content": "flex-end",
       "width": "90%"
      }
     },
     "15b52c102ee447d8833df78bb4c1e2d1": {
      "model_module": "@jupyter-widgets/base",
      "model_module_version": "1.2.0",
      "model_name": "LayoutModel",
      "state": {
       "align_items": "stretch",
       "border": "dashed 0.2px green",
       "display": "flex",
       "flex_flow": "row",
       "grid_auto_columns": "True",
       "justify_content": "flex-start",
       "width": "100%"
      }
     },
     "16a17a266ea042e087af0d3d862b429f": {
      "model_module": "@jupyter-widgets/base",
      "model_module_version": "1.2.0",
      "model_name": "LayoutModel",
      "state": {}
     },
     "170adc1b1ef843248c44b0ea5c62c1d5": {
      "model_module": "@jupyter-widgets/controls",
      "model_module_version": "1.5.0",
      "model_name": "ButtonStyleModel",
      "state": {
       "font_weight": "bold"
      }
     },
     "175983856b8049ee9bbc83d8a1b1e92d": {
      "model_module": "@jupyter-widgets/controls",
      "model_module_version": "1.5.0",
      "model_name": "HBoxModel",
      "state": {
       "children": [
        "IPY_MODEL_636bac0bb8914c1eb18c37221dd2fe1b"
       ],
       "layout": "IPY_MODEL_b84882d0c7b8454cbc19bfb5beaf9e99"
      }
     },
     "180e618d31184de6a8e27bddd55ba30a": {
      "model_module": "@jupyter-widgets/controls",
      "model_module_version": "1.5.0",
      "model_name": "DescriptionStyleModel",
      "state": {
       "description_width": ""
      }
     },
     "1837256241ef4634b0d54cd7af53f7ad": {
      "model_module": "@jupyter-widgets/base",
      "model_module_version": "1.2.0",
      "model_name": "LayoutModel",
      "state": {
       "width": "5%"
      }
     },
     "18734bc38b154c17a724138198a7f947": {
      "model_module": "@jupyter-widgets/base",
      "model_module_version": "1.2.0",
      "model_name": "LayoutModel",
      "state": {
       "align_items": "stretch",
       "display": "flex",
       "flex_flow": "row",
       "grid_auto_columns": "True",
       "justify_content": "flex-end",
       "width": "90%"
      }
     },
     "19115544ddbf4aab83d736e13673692b": {
      "model_module": "@jupyter-widgets/base",
      "model_module_version": "1.2.0",
      "model_name": "LayoutModel",
      "state": {
       "display": "flex",
       "flex_flow": "row",
       "grid_auto_columns": "False",
       "justify_content": "flex-start",
       "width": "100%"
      }
     },
     "19d3f8fd9af94b91a4a643a099124dbf": {
      "model_module": "@jupyter-widgets/base",
      "model_module_version": "1.2.0",
      "model_name": "LayoutModel",
      "state": {
       "align_items": "stretch",
       "display": "flex",
       "flex_flow": "row",
       "grid_auto_columns": "True",
       "justify_content": "flex-end",
       "width": "90%"
      }
     },
     "1a361199aa8f4c048cf2db587a1ce8ac": {
      "model_module": "@jupyter-widgets/controls",
      "model_module_version": "1.5.0",
      "model_name": "ButtonModel",
      "state": {
       "description": "save",
       "layout": "IPY_MODEL_49338de09eb3419eb027cd3815792740",
       "style": "IPY_MODEL_7ef8d5bfa4e146cbaed9a6503db0eefe"
      }
     },
     "1a546e947dce466fbb4c4b8d3570758e": {
      "model_module": "@jupyter-widgets/controls",
      "model_module_version": "1.5.0",
      "model_name": "DescriptionStyleModel",
      "state": {
       "description_width": ""
      }
     },
     "1b79309228d646b48282ab46255595d7": {
      "model_module": "@jupyter-widgets/controls",
      "model_module_version": "1.5.0",
      "model_name": "DescriptionStyleModel",
      "state": {
       "description_width": ""
      }
     },
     "1bbc0463882748568181140f4a3380a5": {
      "model_module": "@jupyter-widgets/controls",
      "model_module_version": "1.5.0",
      "model_name": "HBoxModel",
      "state": {
       "children": [
        "IPY_MODEL_c127c8a714a947dbaa3ef32ef2097770",
        "IPY_MODEL_073e3a5bf62948caa5fb042400f6e8fe"
       ],
       "layout": "IPY_MODEL_e1c1a22b198f44c3b06a65ee90cb3b02"
      }
     },
     "1c5c3112bb0f43a49bb9ec10e68f69ca": {
      "model_module": "@jupyter-widgets/base",
      "model_module_version": "1.2.0",
      "model_name": "LayoutModel",
      "state": {}
     },
     "1c900186ce1240a5a410097ffab9cc98": {
      "model_module": "@jupyter-widgets/base",
      "model_module_version": "1.2.0",
      "model_name": "LayoutModel",
      "state": {
       "align_items": "stretch",
       "border": "dashed 0.2px green",
       "display": "flex",
       "flex_flow": "row",
       "grid_auto_columns": "True",
       "justify_content": "flex-start",
       "width": "100%"
      }
     },
     "1cb8da7ade9e431b9cf0221993fa8325": {
      "model_module": "@jupyter-widgets/controls",
      "model_module_version": "1.5.0",
      "model_name": "HBoxModel",
      "state": {
       "children": [
        "IPY_MODEL_e1ec0d63ef484dbb8a00e385275ef281"
       ],
       "layout": "IPY_MODEL_a3702c9ac8ed4ffb97a61e3d2ca620f3"
      }
     },
     "1cc0c44400be4d29a79c3c6421ed7cdb": {
      "model_module": "@jupyter-widgets/base",
      "model_module_version": "1.2.0",
      "model_name": "LayoutModel",
      "state": {}
     },
     "1d56e998037e40b29a1bd87d459ada97": {
      "model_module": "@jupyter-widgets/controls",
      "model_module_version": "1.5.0",
      "model_name": "DescriptionStyleModel",
      "state": {
       "description_width": ""
      }
     },
     "1eb23585bdd248c193b78f2d995a0b58": {
      "model_module": "@jupyter-widgets/controls",
      "model_module_version": "1.5.0",
      "model_name": "VBoxModel",
      "state": {
       "children": [
        "IPY_MODEL_33aab597e9a6413b8498c842505f813f",
        "IPY_MODEL_c7234387738249ceab67348d2ed2fb56",
        "IPY_MODEL_a435d47d5db048ff9ff79c17d6c6a46e",
        "IPY_MODEL_6dd58d46e80a437d9a115f73c124adff",
        "IPY_MODEL_baf19ef790b4476ca6a88e73a4ea5e54",
        "IPY_MODEL_04efaf7f9d0b40aa8fbc164aa0aa2a1f",
        "IPY_MODEL_238f8a1be5904ca181e91e21ed64dca3",
        "IPY_MODEL_8475c098ecd140369ebe00696d535ff3"
       ],
       "layout": "IPY_MODEL_eb8a72af49e9482bbb96158c9878f7ad"
      }
     },
     "1edf76855d164a9ca1fca2bd624a8131": {
      "model_module": "@jupyter-widgets/base",
      "model_module_version": "1.2.0",
      "model_name": "LayoutModel",
      "state": {
       "align_items": "stretch",
       "border": "dashed 0.2px green",
       "display": "flex",
       "flex_flow": "row",
       "grid_auto_columns": "True",
       "justify_content": "flex-start",
       "width": "100%"
      }
     },
     "1f120067543041609771c0b6c2ef3571": {
      "model_module": "@jupyter-widgets/output",
      "model_module_version": "1.0.0",
      "model_name": "OutputModel",
      "state": {
       "layout": "IPY_MODEL_108a0604f94d431d8287b3754f148278"
      }
     },
     "1f3b7d2a153647e5b34a1136ec823f42": {
      "model_module": "@jupyter-widgets/base",
      "model_module_version": "1.2.0",
      "model_name": "LayoutModel",
      "state": {}
     },
     "1f6bc4a57fec41779b5f1433175d44df": {
      "model_module": "@jupyter-widgets/base",
      "model_module_version": "1.2.0",
      "model_name": "LayoutModel",
      "state": {
       "grid_area": "dircontent",
       "width": "auto"
      }
     },
     "20735a656ff54f8cbba0720b2bb6a157": {
      "model_module": "@jupyter-widgets/controls",
      "model_module_version": "1.5.0",
      "model_name": "DescriptionStyleModel",
      "state": {
       "description_width": ""
      }
     },
     "20bef41c89004b9bbca777d54dd0ddd4": {
      "model_module": "@jupyter-widgets/base",
      "model_module_version": "1.2.0",
      "model_name": "LayoutModel",
      "state": {}
     },
     "20de0de6a8f34427bd73a2432f8d73db": {
      "model_module": "@jupyter-widgets/controls",
      "model_module_version": "1.5.0",
      "model_name": "DescriptionStyleModel",
      "state": {
       "description_width": ""
      }
     },
     "211444cae860462ea605c0741f7e9e12": {
      "model_module": "@jupyter-widgets/base",
      "model_module_version": "1.2.0",
      "model_name": "LayoutModel",
      "state": {
       "grid_area": "pathlist",
       "width": "auto"
      }
     },
     "217d3dd5e41145528feb26ca35b28911": {
      "model_module": "@jupyter-widgets/base",
      "model_module_version": "1.2.0",
      "model_name": "LayoutModel",
      "state": {
       "display": "flex",
       "flex_flow": "row",
       "grid_auto_columns": "False",
       "justify_content": "flex-start",
       "width": "100%"
      }
     },
     "2183f1ce39954cc9b1f01a956f7951dd": {
      "model_module": "@jupyter-widgets/base",
      "model_module_version": "1.2.0",
      "model_name": "LayoutModel",
      "state": {
       "align_items": "stretch",
       "display": "flex",
       "flex_flow": "row",
       "grid_auto_columns": "True",
       "justify_content": "flex-start",
       "width": "80%"
      }
     },
     "21d22b5eb05545acaf1f7914a7404c96": {
      "model_module": "@jupyter-widgets/base",
      "model_module_version": "1.2.0",
      "model_name": "LayoutModel",
      "state": {}
     },
     "2208e70f1ecc4a20b9321a56b7ff518a": {
      "model_module": "@jupyter-widgets/controls",
      "model_module_version": "1.5.0",
      "model_name": "HTMLModel",
      "state": {
       "layout": "IPY_MODEL_2bb27f6f0a9a4943948768b92d220db5",
       "style": "IPY_MODEL_380a6576373346eba880da562aefc03e",
       "value": "<p>reus foo ous oo ous foo st</p>"
      }
     },
     "223a4181049942638fc6d4b7649efe4b": {
      "model_module": "@jupyter-widgets/controls",
      "model_module_version": "1.5.0",
      "model_name": "HTMLModel",
      "state": {
       "layout": "IPY_MODEL_953e33fa337a49d4b347e63a928b0780",
       "placeholder": "",
       "style": "IPY_MODEL_3b4a7eb3ab404a1b95ed473b0d7e250e",
       "value": "<span style=\"margin-left:10px; color:black;\">No file selected</span>"
      }
     },
     "225ce4fd185746d8b7cf164b772e4c92": {
      "model_module": "@jupyter-widgets/controls",
      "model_module_version": "1.5.0",
      "model_name": "DescriptionStyleModel",
      "state": {
       "description_width": ""
      }
     },
     "22d6389826d74e1db9ad547666f4c411": {
      "model_module": "@jupyter-widgets/controls",
      "model_module_version": "1.5.0",
      "model_name": "DescriptionStyleModel",
      "state": {
       "description_width": ""
      }
     },
     "22d8c374a91a4c68a9aa88fcbbebdabc": {
      "model_module": "@jupyter-widgets/controls",
      "model_module_version": "1.5.0",
      "model_name": "DescriptionStyleModel",
      "state": {
       "description_width": ""
      }
     },
     "2357511e333047de810f62c697d7825c": {
      "model_module": "@jupyter-widgets/base",
      "model_module_version": "1.2.0",
      "model_name": "LayoutModel",
      "state": {}
     },
     "238f8a1be5904ca181e91e21ed64dca3": {
      "model_module": "@jupyter-widgets/controls",
      "model_module_version": "1.5.0",
      "model_name": "HBoxModel",
      "state": {
       "children": [
        "IPY_MODEL_e82aef711afd424f8c34bb25fb356bbc"
       ],
       "layout": "IPY_MODEL_ec1e42f402c94bbea5f5051cd3cb6b65"
      }
     },
     "23eb0e8a102d4f28a6f1dc521baa6b16": {
      "model_module": "@jupyter-widgets/controls",
      "model_module_version": "1.5.0",
      "model_name": "DescriptionStyleModel",
      "state": {
       "description_width": ""
      }
     },
     "23fb8ba6f8034ead8a15d11e0d425888": {
      "model_module": "@jupyter-widgets/controls",
      "model_module_version": "1.5.0",
      "model_name": "HTMLModel",
      "state": {
       "layout": "IPY_MODEL_4f507d7ed4dc489db30c508cd3f04f76",
       "style": "IPY_MODEL_295811e1808840acb319ab4332913f27",
       "value": "<p>fpth_in</p>"
      }
     },
     "242591f23ba044bfbaeb7c5c56a36b65": {
      "model_module": "@jupyter-widgets/controls",
      "model_module_version": "1.5.0",
      "model_name": "HTMLModel",
      "state": {
       "layout": "IPY_MODEL_c4cb1c2c0c90439e928bdb07c13becdc",
       "style": "IPY_MODEL_08dd1785ca614cadb4a57f2a251d944c",
       "value": "<p>reous foo ous foo st</p>"
      }
     },
     "2439058473ef41d5acde8e7fed42e8a0": {
      "model_module": "@jupyter-widgets/base",
      "model_module_version": "1.2.0",
      "model_name": "LayoutModel",
      "state": {}
     },
     "247c30e97e504a5f972dc2a3e4d8f494": {
      "model_module": "@jupyter-widgets/controls",
      "model_module_version": "1.5.0",
      "model_name": "DatePickerModel",
      "state": {
       "disabled": false,
       "layout": "IPY_MODEL_b1a7f3a4a8664210acfee2484183a5dc",
       "style": "IPY_MODEL_276f29ba33834a5c88660c066ce523b4",
       "value": {
        "date": 29,
        "month": 5,
        "year": 2020
       }
      }
     },
     "248aa03c77684b4ea87a2b2c48d8120f": {
      "model_module": "@jupyter-widgets/base",
      "model_module_version": "1.2.0",
      "model_name": "LayoutModel",
      "state": {}
     },
     "24a4328f15cb484b816111770d32d54a": {
      "model_module": "@jupyter-widgets/base",
      "model_module_version": "1.2.0",
      "model_name": "LayoutModel",
      "state": {}
     },
     "250fe176774c4bf88190ee7261aabd81": {
      "model_module": "@jupyter-widgets/controls",
      "model_module_version": "1.5.0",
      "model_name": "DescriptionStyleModel",
      "state": {
       "description_width": ""
      }
     },
     "2535663120204692b82cf62dc2ff493e": {
      "model_module": "@jupyter-widgets/output",
      "model_module_version": "1.0.0",
      "model_name": "OutputModel",
      "state": {
       "layout": "IPY_MODEL_5a405e46fbff4340beeb487eaeabe481"
      }
     },
     "25b808c12bbc4ee2808df03e69f12662": {
      "model_module": "@jupyter-widgets/controls",
      "model_module_version": "1.5.0",
      "model_name": "HBoxModel",
      "state": {
       "children": [
        "IPY_MODEL_33ec35c2720c4ef9bc431aa904dd81a3",
        "IPY_MODEL_57e9f5a45ac44a99b4ae83080f148aa2"
       ],
       "layout": "IPY_MODEL_3d51d8d8bbb44e51b65a8b9fd84292bc"
      }
     },
     "264800eb4e3e4429b80e2d37ed6d3f13": {
      "model_module": "@jupyter-widgets/base",
      "model_module_version": "1.2.0",
      "model_name": "LayoutModel",
      "state": {}
     },
     "26d5aab41d694d23ba102516b1d45787": {
      "model_module": "@jupyter-widgets/base",
      "model_module_version": "1.2.0",
      "model_name": "LayoutModel",
      "state": {}
     },
     "2706d70105294bcbb7c8db08f6d24c38": {
      "model_module": "@jupyter-widgets/base",
      "model_module_version": "1.2.0",
      "model_name": "LayoutModel",
      "state": {}
     },
     "270c0e63d48b464a903d05c22a3bc486": {
      "model_module": "@jupyter-widgets/controls",
      "model_module_version": "1.5.0",
      "model_name": "VBoxModel",
      "state": {
       "layout": "IPY_MODEL_7f6f87dc123d416cbae331ffe2d32a55"
      }
     },
     "276712dd2c454475b87c2a81b0cd0abb": {
      "model_module": "@jupyter-widgets/base",
      "model_module_version": "1.2.0",
      "model_name": "LayoutModel",
      "state": {}
     },
     "276f29ba33834a5c88660c066ce523b4": {
      "model_module": "@jupyter-widgets/controls",
      "model_module_version": "1.5.0",
      "model_name": "DescriptionStyleModel",
      "state": {
       "description_width": ""
      }
     },
     "27c7ab3d854c4e0d95e61acdc4936529": {
      "model_module": "@jupyter-widgets/base",
      "model_module_version": "1.2.0",
      "model_name": "LayoutModel",
      "state": {}
     },
     "27d61803b19b4edc9ca75f7636143556": {
      "model_module": "@jupyter-widgets/controls",
      "model_module_version": "1.5.0",
      "model_name": "HBoxModel",
      "state": {
       "children": [
        "IPY_MODEL_6c630aab0ce441ceb9902fdbedd1dc42",
        "IPY_MODEL_c9493b41770b4bb38e22ee26d4c49d1f"
       ],
       "layout": "IPY_MODEL_85cdb97c03a0476b97e98926e98c6f87"
      }
     },
     "27de16cd1a834f219067383da69a73a4": {
      "model_module": "@jupyter-widgets/base",
      "model_module_version": "1.2.0",
      "model_name": "LayoutModel",
      "state": {}
     },
     "280daed00e9146509a6378a946ce97a8": {
      "model_module": "@jupyter-widgets/controls",
      "model_module_version": "1.5.0",
      "model_name": "ButtonModel",
      "state": {
       "button_style": "success",
       "description": "save changes",
       "layout": "IPY_MODEL_5de58ac1857a432082476a16aea703a2",
       "style": "IPY_MODEL_767b45f3c41641ee9260ff90ec92c586"
      }
     },
     "280face27e554771a582e5bbeb06fc97": {
      "model_module": "@jupyter-widgets/controls",
      "model_module_version": "1.5.0",
      "model_name": "CheckboxModel",
      "state": {
       "disabled": false,
       "layout": "IPY_MODEL_435f41285c7141a8a3e176cb0ac8d1f2",
       "style": "IPY_MODEL_dda392cbca684fd996300d80dfceb7bc",
       "value": false
      }
     },
     "289d79bf753b469e9679eb20a2737a62": {
      "model_module": "@jupyter-widgets/base",
      "model_module_version": "1.2.0",
      "model_name": "LayoutModel",
      "state": {}
     },
     "28bf70641d2a44a0b8b3afaf9ae223e5": {
      "model_module": "@jupyter-widgets/controls",
      "model_module_version": "1.5.0",
      "model_name": "RadioButtonsModel",
      "state": {
       "_options_labels": [
        "TEMPLATE: C:\\engDev\\git_mf\\MF_Toolbox\\dev\\mf_scripts\\template_inputs\\inputs-docx_to_pdf.json",
        "PROJECT: C:\\engDev\\git_mf\\ipyrun\\ipyrun\\appdata\\inputs\\inputs-docx_to_pdf.json",
        "PROJECT: C:\\engDev\\git_mf\\ipyrun\\ipyrun\\appdata\\inputs\\archive\\20200610_1134-jg-inputs-docx_to_pdf.json",
        "PROJECT: C:\\engDev\\git_mf\\ipyrun\\ipyrun\\appdata\\inputs\\archive\\20200610_1139-jg-inputs-docx_to_pdf.json",
        "PROJECT: C:\\engDev\\git_mf\\ipyrun\\ipyrun\\appdata\\inputs\\archive\\20200610_1218-jg-inputs-docx_to_pdf.json",
        "PROJECT: C:\\engDev\\git_mf\\ipyrun\\ipyrun\\appdata\\inputs\\archive\\20200610_1220-jg-inputs-docx_to_pdf.json",
        "PROJECT: C:\\engDev\\git_mf\\ipyrun\\ipyrun\\appdata\\inputs\\archive\\20200610_1221-jg-inputs-docx_to_pdf.json",
        "PROJECT: C:\\engDev\\git_mf\\ipyrun\\ipyrun\\appdata\\inputs\\archive\\20200610_1224-jg-inputs-docx_to_pdf.json",
        "PROJECT: C:\\engDev\\git_mf\\ipyrun\\ipyrun\\appdata\\inputs\\archive\\20200610_1225-jg-inputs-docx_to_pdf.json",
        "PROJECT: C:\\engDev\\git_mf\\ipyrun\\ipyrun\\appdata\\inputs\\archive\\20200610_1244-jg-inputs-docx_to_pdf.json",
        "PROJECT: C:\\engDev\\git_mf\\ipyrun\\ipyrun\\appdata\\inputs\\archive\\20200610_1246-jg-inputs-docx_to_pdf.json",
        "PROJECT: C:\\engDev\\git_mf\\ipyrun\\ipyrun\\appdata\\inputs\\archive\\20200610_1419-jg-inputs-docx_to_pdf.json",
        "PROJECT: C:\\engDev\\git_mf\\ipyrun\\ipyrun\\appdata\\inputs\\archive\\20200610_1420-jg-inputs-docx_to_pdf.json",
        "PROJECT: C:\\engDev\\git_mf\\ipyrun\\ipyrun\\appdata\\inputs\\archive\\20200610_1422-jg-inputs-docx_to_pdf.json",
        "PROJECT: C:\\engDev\\git_mf\\ipyrun\\ipyrun\\appdata\\inputs\\archive\\20200610_1425-jg-inputs-docx_to_pdf.json",
        "PROJECT: C:\\engDev\\git_mf\\ipyrun\\ipyrun\\appdata\\inputs\\archive\\20200610_1853-jg-inputs-docx_to_pdf.json",
        "PROJECT: C:\\engDev\\git_mf\\ipyrun\\ipyrun\\appdata\\inputs\\archive\\20200610_1855-jg-inputs-docx_to_pdf.json",
        "PROJECT: C:\\engDev\\git_mf\\ipyrun\\ipyrun\\appdata\\inputs\\archive\\20200611_0748-jg-inputs-docx_to_pdf.json",
        "PROJECT: C:\\engDev\\git_mf\\ipyrun\\ipyrun\\appdata\\inputs\\archive\\20200611_0754-jg-inputs-docx_to_pdf.json",
        "PROJECT: C:\\engDev\\git_mf\\ipyrun\\ipyrun\\appdata\\inputs\\archive\\20200611_0757-jg-inputs-docx_to_pdf.json",
        "PROJECT: C:\\engDev\\git_mf\\ipyrun\\ipyrun\\appdata\\inputs\\archive\\20200616_1026-jg-inputs-docx_to_pdf.json"
       ],
       "index": 0,
       "layout": "IPY_MODEL_b9e07737bbaf4a35b7c689a2956562d9",
       "style": "IPY_MODEL_81d681c489e84942a3314087924e3491"
      }
     },
     "28c834f4e6704568800efecd6a6b2bd4": {
      "model_module": "@jupyter-widgets/controls",
      "model_module_version": "1.5.0",
      "model_name": "VBoxModel",
      "state": {
       "children": [
        "IPY_MODEL_7e2b8cd6dad94fb59f4b467a539b3f0a",
        "IPY_MODEL_db057bc559aa4dd7b376e5a2d8273aa1",
        "IPY_MODEL_9ce129cd5a2840b9a996e3c0489eaa1a",
        "IPY_MODEL_56ba54f1709945c9a986e371da6bcf4a",
        "IPY_MODEL_5f6ec7a2e79049c78649d446a596ee9f",
        "IPY_MODEL_175983856b8049ee9bbc83d8a1b1e92d",
        "IPY_MODEL_974e242225424df4a76bde9e00bc8058",
        "IPY_MODEL_70ff117e2a784d2288baf56725927baf"
       ],
       "layout": "IPY_MODEL_ec6b465e2c8d4f8a92735fb9a753b7f5"
      }
     },
     "28d7b5fd0865497a963fbe6a7f35c962": {
      "model_module": "@jupyter-widgets/base",
      "model_module_version": "1.2.0",
      "model_name": "LayoutModel",
      "state": {
       "align_items": "stretch",
       "display": "flex",
       "flex_flow": "row",
       "grid_auto_columns": "True",
       "justify_content": "flex-start",
       "width": "80%"
      }
     },
     "295811e1808840acb319ab4332913f27": {
      "model_module": "@jupyter-widgets/controls",
      "model_module_version": "1.5.0",
      "model_name": "DescriptionStyleModel",
      "state": {
       "description_width": ""
      }
     },
     "2a3cd57188cd4596aa31126e0bb97d53": {
      "model_module": "@jupyter-widgets/controls",
      "model_module_version": "1.5.0",
      "model_name": "DescriptionStyleModel",
      "state": {
       "description_width": ""
      }
     },
     "2aa9725521c6421bbf553c090690e7c1": {
      "model_module": "@jupyter-widgets/controls",
      "model_module_version": "1.5.0",
      "model_name": "HBoxModel",
      "state": {
       "children": [
        "IPY_MODEL_4391e618bc10426d8acc649cf6376e5d",
        "IPY_MODEL_b9cc3f0140a04170900f23a1959e6687"
       ],
       "layout": "IPY_MODEL_b52e638ab6ef40b9a740a71642470f46"
      }
     },
     "2b3468c5edf9481980c7a894936f0f55": {
      "model_module": "@jupyter-widgets/controls",
      "model_module_version": "1.5.0",
      "model_name": "TextModel",
      "state": {
       "layout": "IPY_MODEL_a522f48e8e1743d78f7e522780e22e29",
       "placeholder": "output filename",
       "style": "IPY_MODEL_90a0b1582c9443d58706cc05322547dd"
      }
     },
     "2bb27f6f0a9a4943948768b92d220db5": {
      "model_module": "@jupyter-widgets/base",
      "model_module_version": "1.2.0",
      "model_name": "LayoutModel",
      "state": {}
     },
     "2c5bc3a785d44ebe99c70a53cd8ba7b7": {
      "model_module": "@jupyter-widgets/controls",
      "model_module_version": "1.5.0",
      "model_name": "HTMLModel",
      "state": {
       "layout": "IPY_MODEL_bf83880581814c96b6b8d761a7d3f757",
       "style": "IPY_MODEL_ee43a7ce6ea84a79a9df71c48aa1019c",
       "value": "<p>foo</p>"
      }
     },
     "2c7b3fc7b13845b69eec99ece70d62a2": {
      "model_module": "@jupyter-widgets/base",
      "model_module_version": "1.2.0",
      "model_name": "LayoutModel",
      "state": {}
     },
     "2d5eb0ac90424013a1f2ee4463c2baf2": {
      "model_module": "@jupyter-widgets/base",
      "model_module_version": "1.2.0",
      "model_name": "LayoutModel",
      "state": {}
     },
     "2d8a618678f945798726a40fd5148aab": {
      "model_module": "@jupyter-widgets/base",
      "model_module_version": "1.2.0",
      "model_name": "LayoutModel",
      "state": {}
     },
     "2d8c77cea4674d95af48cb1f93724876": {
      "model_module": "@jupyter-widgets/base",
      "model_module_version": "1.2.0",
      "model_name": "LayoutModel",
      "state": {}
     },
     "2de546f6205d46da825afc1d697f813a": {
      "model_module": "@jupyter-widgets/base",
      "model_module_version": "1.2.0",
      "model_name": "LayoutModel",
      "state": {}
     },
     "2e5eea667f5f4d9e80c850b1839ab15f": {
      "model_module": "@jupyter-widgets/controls",
      "model_module_version": "1.5.0",
      "model_name": "HTMLModel",
      "state": {
       "layout": "IPY_MODEL_27c7ab3d854c4e0d95e61acdc4936529",
       "style": "IPY_MODEL_0b835f83af714e048ed7ca9289ee86b9",
       "value": "<p>its a foo cake</p>"
      }
     },
     "2ef217d26de8473eaaf24bbdbcf78088": {
      "model_module": "@jupyter-widgets/controls",
      "model_module_version": "1.5.0",
      "model_name": "HBoxModel",
      "state": {
       "children": [
        "IPY_MODEL_53bffa61226e413cb54208961e1befa9",
        "IPY_MODEL_12736018bdc742a88d291669834eb2ef"
       ],
       "layout": "IPY_MODEL_15131360a391483c9a71481f0bc008a8"
      }
     },
     "2fc28051537544e6b75394a50521ce60": {
      "model_module": "@jupyter-widgets/output",
      "model_module_version": "1.0.0",
      "model_name": "OutputModel",
      "state": {
       "layout": "IPY_MODEL_4897fb0ac2e84b7e93c76edbac97fe12"
      }
     },
     "2fea9b876ab54238b087dc6ca49dc545": {
      "model_module": "@jupyter-widgets/controls",
      "model_module_version": "1.5.0",
      "model_name": "DescriptionStyleModel",
      "state": {
       "description_width": ""
      }
     },
     "2fec11453bbb4ecb83e1b95187895f57": {
      "model_module": "@jupyter-widgets/base",
      "model_module_version": "1.2.0",
      "model_name": "LayoutModel",
      "state": {
       "align_items": "stretch",
       "border": "dashed 0.2px green",
       "display": "flex",
       "flex_flow": "row",
       "grid_auto_columns": "True",
       "justify_content": "flex-start",
       "width": "100%"
      }
     },
     "309e1e241acc41e0a95fc6b806cd39f9": {
      "model_module": "@jupyter-widgets/controls",
      "model_module_version": "1.5.0",
      "model_name": "HBoxModel",
      "state": {
       "children": [
        "IPY_MODEL_e40b4b8b27c14ff1b0c3504ca9ddc57a",
        "IPY_MODEL_fd266546680c4754a2e7c80738889b0a"
       ],
       "layout": "IPY_MODEL_43b44679abfd4ee0a997131f349451e8"
      }
     },
     "30c6992e519345aeb9782b2cf574eb30": {
      "model_module": "@jupyter-widgets/output",
      "model_module_version": "1.0.0",
      "model_name": "OutputModel",
      "state": {
       "layout": "IPY_MODEL_a6d631a30fbe4c049a3fc82b98f38ab6"
      }
     },
     "31b8566e9e3f4b71810679698d6c4684": {
      "model_module": "@jupyter-widgets/controls",
      "model_module_version": "1.5.0",
      "model_name": "DescriptionStyleModel",
      "state": {
       "description_width": ""
      }
     },
     "325163f9b92541cf9f076e0ff23e8e6d": {
      "model_module": "@jupyter-widgets/controls",
      "model_module_version": "1.5.0",
      "model_name": "HBoxModel",
      "state": {
       "children": [
        "IPY_MODEL_99b362b7d21142cd9f1520120b350509",
        "IPY_MODEL_39e9cfd102574a31a4b0a8ac2b461235"
       ],
       "layout": "IPY_MODEL_ec69702ddeb44a9a8dcf4463417cbb56"
      }
     },
     "3256184dbb6642f39224d914efa10f62": {
      "model_module": "@jupyter-widgets/base",
      "model_module_version": "1.2.0",
      "model_name": "LayoutModel",
      "state": {}
     },
     "33aab597e9a6413b8498c842505f813f": {
      "model_module": "@jupyter-widgets/controls",
      "model_module_version": "1.5.0",
      "model_name": "HBoxModel",
      "state": {
       "children": [
        "IPY_MODEL_a3a2d4c835dd4858b1bfefb9eab53e3e",
        "IPY_MODEL_9647741ca828484aac5edbe9786949d4"
       ],
       "layout": "IPY_MODEL_7cbe8761b88746c191480d2cb757f1d8"
      }
     },
     "33e1fe4368fb4eccb0af68c9f1f6d28c": {
      "model_module": "@jupyter-widgets/base",
      "model_module_version": "1.2.0",
      "model_name": "LayoutModel",
      "state": {}
     },
     "33ec35c2720c4ef9bc431aa904dd81a3": {
      "model_module": "@jupyter-widgets/controls",
      "model_module_version": "1.5.0",
      "model_name": "FloatTextModel",
      "state": {
       "layout": "IPY_MODEL_de18829e73bc4b5ab5c706042d58bfe7",
       "step": null,
       "style": "IPY_MODEL_efd53a2d5c0546f78374eb9cff41bc42",
       "value": 16
      }
     },
     "3524fb49cc12445eadbe0624e1eed6ff": {
      "model_module": "@jupyter-widgets/base",
      "model_module_version": "1.2.0",
      "model_name": "LayoutModel",
      "state": {
       "align_items": "stretch",
       "border": "dashed 0.2px green",
       "display": "flex",
       "flex_flow": "row",
       "grid_auto_columns": "True",
       "justify_content": "flex-start",
       "width": "100%"
      }
     },
     "35df252b90cd4d6a88441f1af72b4878": {
      "model_module": "@jupyter-widgets/base",
      "model_module_version": "1.2.0",
      "model_name": "LayoutModel",
      "state": {
       "align_items": "stretch",
       "display": "flex",
       "flex_flow": "row",
       "grid_auto_columns": "True",
       "justify_content": "flex-end",
       "width": "90%"
      }
     },
     "362dfbd92edd4121955e7a43dbfb5c44": {
      "model_module": "@jupyter-widgets/base",
      "model_module_version": "1.2.0",
      "model_name": "LayoutModel",
      "state": {
       "align_items": "stretch",
       "border": "dashed 0.2px green",
       "display": "flex",
       "flex_flow": "row",
       "grid_auto_columns": "True",
       "justify_content": "flex-start",
       "width": "100%"
      }
     },
     "36b336b862c146c3b966ccf654601f36": {
      "model_module": "@jupyter-widgets/base",
      "model_module_version": "1.2.0",
      "model_name": "LayoutModel",
      "state": {}
     },
     "3720a1af61a64bdbbaf707d66ef100de": {
      "model_module": "@jupyter-widgets/base",
      "model_module_version": "1.2.0",
      "model_name": "LayoutModel",
      "state": {
       "display": "none",
       "width": "auto"
      }
     },
     "37ecf8e217f041658d401989d64aa51e": {
      "model_module": "@jupyter-widgets/controls",
      "model_module_version": "1.5.0",
      "model_name": "HBoxModel",
      "state": {
       "children": [
        "IPY_MODEL_a886daae15934fb082541f6bfb6aa39c",
        "IPY_MODEL_bf5b7da6f6fb4d58bd5307ad26ea9070"
       ],
       "layout": "IPY_MODEL_924a4a9d55ca49f39a27347cd2e46642"
      }
     },
     "380a6576373346eba880da562aefc03e": {
      "model_module": "@jupyter-widgets/controls",
      "model_module_version": "1.5.0",
      "model_name": "DescriptionStyleModel",
      "state": {
       "description_width": ""
      }
     },
     "384261a080214b3b99a83129bb91ead4": {
      "model_module": "@jupyter-widgets/controls",
      "model_module_version": "1.5.0",
      "model_name": "ButtonModel",
      "state": {
       "button_style": "success",
       "description": "save",
       "layout": "IPY_MODEL_9abb55642d6949289e898f72a60f9179",
       "style": "IPY_MODEL_80396cb1124a4c93826bf56e3c5001c4"
      }
     },
     "38af5963b9e34f08abf8121f60c61aee": {
      "model_module": "@jupyter-widgets/base",
      "model_module_version": "1.2.0",
      "model_name": "LayoutModel",
      "state": {}
     },
     "390356d23faa486481657ce4366f4f6d": {
      "model_module": "@jupyter-widgets/base",
      "model_module_version": "1.2.0",
      "model_name": "LayoutModel",
      "state": {}
     },
     "39695cc65a9945a0ae39e60f34ca8310": {
      "model_module": "@jupyter-widgets/base",
      "model_module_version": "1.2.0",
      "model_name": "LayoutModel",
      "state": {}
     },
     "39a2ba6a7235411da84a781dde19a1ad": {
      "model_module": "@jupyter-widgets/controls",
      "model_module_version": "1.5.0",
      "model_name": "DescriptionStyleModel",
      "state": {
       "description_width": ""
      }
     },
     "39ab82bab9d84942a578242e11c22358": {
      "model_module": "@jupyter-widgets/controls",
      "model_module_version": "1.5.0",
      "model_name": "HBoxModel",
      "state": {
       "children": [
        "IPY_MODEL_f2101c06c1a644ea814f1804b2cfae27",
        "IPY_MODEL_dc7e61cce77e4b0881c1750ad3ca6073"
       ],
       "layout": "IPY_MODEL_57872f918792456e98e121bcd725697c"
      }
     },
     "39e9cfd102574a31a4b0a8ac2b461235": {
      "model_module": "@jupyter-widgets/controls",
      "model_module_version": "1.5.0",
      "model_name": "HTMLModel",
      "state": {
       "layout": "IPY_MODEL_6898eba7773e4bf0b29e49d378ba1e09",
       "style": "IPY_MODEL_58bdac320727438fb53ddab17d33591a",
       "value": "<p>label</p>"
      }
     },
     "3a7a3c52af5a40ed90d30b4dd28a0876": {
      "model_module": "@jupyter-widgets/controls",
      "model_module_version": "1.5.0",
      "model_name": "HTMLModel",
      "state": {
       "layout": "IPY_MODEL_1016933f15b24069b5753ddc9b4d5738",
       "style": "IPY_MODEL_1a546e947dce466fbb4c4b8d3570758e",
       "value": "<p>its a foo cake</p>"
      }
     },
     "3aadcec73aef468bb4a9f5af9d661ea6": {
      "model_module": "@jupyter-widgets/controls",
      "model_module_version": "1.5.0",
      "model_name": "VBoxModel",
      "state": {
       "children": [
        "IPY_MODEL_f85297ab71264a48a8f6a36454bf7386",
        "IPY_MODEL_8af3505349c4425d817f44daa81f4b04"
       ],
       "layout": "IPY_MODEL_16a17a266ea042e087af0d3d862b429f"
      }
     },
     "3b20cccc7fa747c4a7a0388ba2975d82": {
      "model_module": "@jupyter-widgets/base",
      "model_module_version": "1.2.0",
      "model_name": "LayoutModel",
      "state": {
       "align_items": "stretch",
       "display": "flex",
       "flex_flow": "row",
       "grid_auto_columns": "True",
       "justify_content": "flex-start",
       "width": "80%"
      }
     },
     "3b4a7eb3ab404a1b95ed473b0d7e250e": {
      "model_module": "@jupyter-widgets/controls",
      "model_module_version": "1.5.0",
      "model_name": "DescriptionStyleModel",
      "state": {
       "description_width": ""
      }
     },
     "3ba0622300bb4914a5021c315209c9b3": {
      "model_module": "@jupyter-widgets/controls",
      "model_module_version": "1.5.0",
      "model_name": "HBoxModel",
      "state": {
       "children": [
        "IPY_MODEL_d13dfd36faa04165be5763a22ce34d77",
        "IPY_MODEL_cf8b5ec176c642978ae67a8ccb961be2"
       ],
       "layout": "IPY_MODEL_b7688b8e24694558a2e19a34200747c9"
      }
     },
     "3c45ec1a0c254cb392fc38cbc324a233": {
      "model_module": "@jupyter-widgets/base",
      "model_module_version": "1.2.0",
      "model_name": "LayoutModel",
      "state": {}
     },
     "3ce34392104e47318bec600034f047cf": {
      "model_module": "@jupyter-widgets/base",
      "model_module_version": "1.2.0",
      "model_name": "LayoutModel",
      "state": {
       "align_items": "stretch",
       "display": "flex",
       "flex_flow": "row",
       "grid_auto_columns": "True",
       "justify_content": "flex-end",
       "width": "90%"
      }
     },
     "3ceb08ff79724a35b9e60873780f620d": {
      "model_module": "@jupyter-widgets/base",
      "model_module_version": "1.2.0",
      "model_name": "LayoutModel",
      "state": {}
     },
     "3d116806f64645e5bf48eb18d0af0ea3": {
      "model_module": "@jupyter-widgets/base",
      "model_module_version": "1.2.0",
      "model_name": "LayoutModel",
      "state": {}
     },
     "3d51d8d8bbb44e51b65a8b9fd84292bc": {
      "model_module": "@jupyter-widgets/base",
      "model_module_version": "1.2.0",
      "model_name": "LayoutModel",
      "state": {
       "align_items": "stretch",
       "display": "flex",
       "flex_flow": "row",
       "grid_auto_columns": "True",
       "justify_content": "flex-start",
       "width": "80%"
      }
     },
     "3daf9ebfc67548e49f6d9f777b880f36": {
      "model_module": "@jupyter-widgets/controls",
      "model_module_version": "1.5.0",
      "model_name": "ToggleButtonModel",
      "state": {
       "button_style": "warning",
       "description": "edit file",
       "layout": "IPY_MODEL_676e42e240574eccab397eb6561d397e",
       "style": "IPY_MODEL_2a3cd57188cd4596aa31126e0bb97d53"
      }
     },
     "3e0b16717d84412db3d87b6bed12d67b": {
      "model_module": "@jupyter-widgets/base",
      "model_module_version": "1.2.0",
      "model_name": "LayoutModel",
      "state": {}
     },
     "3f93125a9f5a4fb3954dbfa651b404d7": {
      "model_module": "@jupyter-widgets/base",
      "model_module_version": "1.2.0",
      "model_name": "LayoutModel",
      "state": {
       "align_items": "stretch",
       "display": "flex",
       "flex_flow": "row",
       "grid_auto_columns": "True",
       "justify_content": "flex-start",
       "width": "80%"
      }
     },
     "414a1db7d73d4cf49dcd350c2792a026": {
      "model_module": "@jupyter-widgets/controls",
      "model_module_version": "1.5.0",
      "model_name": "VBoxModel",
      "state": {
       "children": [
        "IPY_MODEL_e93c49bdcaf846b09ef655c4e69a1136",
        "IPY_MODEL_ca0047c0369042b08c479e76507b16b7",
        "IPY_MODEL_57c41c19bf6a40d7bbc5a4bd8b2ba2ac",
        "IPY_MODEL_6a448b8232a94bbca8a825a136df5e91",
        "IPY_MODEL_078d2a057fac46dca128457502b75ccf",
        "IPY_MODEL_b3a4d809fa2b4706b3b31f2c75aad70c"
       ],
       "layout": "IPY_MODEL_09a052893e2d49af873d678dd5d58e35"
      }
     },
     "42ddbc05c9b041cb97f42b095fc07005": {
      "model_module": "@jupyter-widgets/controls",
      "model_module_version": "1.5.0",
      "model_name": "ButtonModel",
      "state": {
       "button_style": "warning",
       "description": "revert to last save",
       "layout": "IPY_MODEL_38af5963b9e34f08abf8121f60c61aee",
       "style": "IPY_MODEL_9de526c299804517818b5d6f8ad5d51b"
      }
     },
     "42fde80aa5ed47bba5e845184c7828ab": {
      "model_module": "@jupyter-widgets/output",
      "model_module_version": "1.0.0",
      "model_name": "OutputModel",
      "state": {
       "layout": "IPY_MODEL_6c286a1f5a884c02b46fe918a7828983"
      }
     },
     "435f41285c7141a8a3e176cb0ac8d1f2": {
      "model_module": "@jupyter-widgets/base",
      "model_module_version": "1.2.0",
      "model_name": "LayoutModel",
      "state": {}
     },
     "4391e618bc10426d8acc649cf6376e5d": {
      "model_module": "@jupyter-widgets/controls",
      "model_module_version": "1.5.0",
      "model_name": "ToggleButtonModel",
      "state": {
       "icon": "arrow-down",
       "layout": "IPY_MODEL_fe76de381ef64cf584d7fe034f72bd60",
       "style": "IPY_MODEL_58241690bdb246ea973f4dddc261f79d"
      }
     },
     "43b44679abfd4ee0a997131f349451e8": {
      "model_module": "@jupyter-widgets/base",
      "model_module_version": "1.2.0",
      "model_name": "LayoutModel",
      "state": {
       "align_items": "stretch",
       "display": "flex",
       "flex_flow": "row",
       "grid_auto_columns": "True",
       "justify_content": "flex-start",
       "width": "80%"
      }
     },
     "44becf43c92f40139502d8ca773b1b10": {
      "model_module": "@jupyter-widgets/controls",
      "model_module_version": "1.5.0",
      "model_name": "HBoxModel",
      "state": {
       "children": [
        "IPY_MODEL_c8246e7f81414ad6bcfda8173a9d4c65",
        "IPY_MODEL_25b808c12bbc4ee2808df03e69f12662"
       ],
       "layout": "IPY_MODEL_3ce34392104e47318bec600034f047cf"
      }
     },
     "45141f47ee46419f8e38a2582d2a48a0": {
      "model_module": "@jupyter-widgets/base",
      "model_module_version": "1.2.0",
      "model_name": "LayoutModel",
      "state": {}
     },
     "4592194863924dd98fd7e0e1dbbf63e4": {
      "model_module": "@jupyter-widgets/base",
      "model_module_version": "1.2.0",
      "model_name": "LayoutModel",
      "state": {}
     },
     "45dc9e80db634506be63bc4bb1139b9e": {
      "model_module": "@jupyter-widgets/controls",
      "model_module_version": "1.5.0",
      "model_name": "SelectMultipleModel",
      "state": {
       "_options_labels": [
        "asfd",
        "10",
        "asdf"
       ],
       "index": [
        1
       ],
       "layout": "IPY_MODEL_4592194863924dd98fd7e0e1dbbf63e4",
       "rows": 5,
       "style": "IPY_MODEL_635f15b0372b46e598aff64ea42c2a3f"
      }
     },
     "462558b3ab3e4efe909bc3a256be9322": {
      "model_module": "@jupyter-widgets/controls",
      "model_module_version": "1.5.0",
      "model_name": "HTMLModel",
      "state": {
       "layout": "IPY_MODEL_04a2f47518b24bc29ffe411af9e92dac",
       "style": "IPY_MODEL_6580ca062c074d9eaa9984fe373b2907",
       "value": "<p>its a foo cake</p>"
      }
     },
     "46d7fb53b1654753bebb37fd432605fc": {
      "model_module": "@jupyter-widgets/output",
      "model_module_version": "1.0.0",
      "model_name": "OutputModel",
      "state": {
       "layout": "IPY_MODEL_d05a032335e642c492fe70ddc02b1869"
      }
     },
     "46e32d8179054f899724cb71bb076fbc": {
      "model_module": "@jupyter-widgets/output",
      "model_module_version": "1.0.0",
      "model_name": "OutputModel",
      "state": {
       "layout": "IPY_MODEL_289d79bf753b469e9679eb20a2737a62"
      }
     },
     "46f66ed68cdd4282a54b26591eca4f6c": {
      "model_module": "@jupyter-widgets/controls",
      "model_module_version": "1.5.0",
      "model_name": "HBoxModel",
      "state": {
       "children": [
        "IPY_MODEL_f10f6093b640428a97b0420ac8aca750",
        "IPY_MODEL_faeb2f0229f2400d8a0386c039b691e3"
       ],
       "layout": "IPY_MODEL_eacf4966e9234e66af8b44a4b402cab1"
      }
     },
     "473b0b61add94659b753f1fa64e57bba": {
      "model_module": "@jupyter-widgets/base",
      "model_module_version": "1.2.0",
      "model_name": "LayoutModel",
      "state": {}
     },
     "474792397b144ef288ff1ddf9f5d457e": {
      "model_module": "@jupyter-widgets/controls",
      "model_module_version": "1.5.0",
      "model_name": "HBoxModel",
      "state": {
       "children": [
        "IPY_MODEL_2208e70f1ecc4a20b9321a56b7ff518a",
        "IPY_MODEL_6d00e1186f4f4559a29b80f07476f734"
       ],
       "layout": "IPY_MODEL_e3ee971fc095461981fcbd150cc15df4"
      }
     },
     "47a85e9b7fcb446882239193deaea3f7": {
      "model_module": "@jupyter-widgets/controls",
      "model_module_version": "1.5.0",
      "model_name": "ButtonModel",
      "state": {
       "button_style": "warning",
       "description": "revert to last save",
       "layout": "IPY_MODEL_1c5c3112bb0f43a49bb9ec10e68f69ca",
       "style": "IPY_MODEL_145ea4a24007432e8e5fc0ca67a90628"
      }
     },
     "4897fb0ac2e84b7e93c76edbac97fe12": {
      "model_module": "@jupyter-widgets/base",
      "model_module_version": "1.2.0",
      "model_name": "LayoutModel",
      "state": {}
     },
     "48a7c671a9924bea9c7ca575c43ae93b": {
      "model_module": "@jupyter-widgets/base",
      "model_module_version": "1.2.0",
      "model_name": "LayoutModel",
      "state": {
       "align_items": "stretch",
       "display": "flex",
       "flex_flow": "row",
       "grid_auto_columns": "True",
       "justify_content": "flex-start",
       "width": "80%"
      }
     },
     "48c233afab6b42648318087eb1bd5710": {
      "model_module": "@jupyter-widgets/base",
      "model_module_version": "1.2.0",
      "model_name": "LayoutModel",
      "state": {}
     },
     "49338de09eb3419eb027cd3815792740": {
      "model_module": "@jupyter-widgets/base",
      "model_module_version": "1.2.0",
      "model_name": "LayoutModel",
      "state": {}
     },
     "4a19bbb644ef487a9c181197287f23af": {
      "model_module": "@jupyter-widgets/controls",
      "model_module_version": "1.5.0",
      "model_name": "HTMLModel",
      "state": {
       "layout": "IPY_MODEL_f6626cd799bc4c8db5daffdb32a91f48",
       "style": "IPY_MODEL_20de0de6a8f34427bd73a2432f8d73db"
      }
     },
     "4a8c93da14b1487eb714fb273a117064": {
      "model_module": "@jupyter-widgets/output",
      "model_module_version": "1.0.0",
      "model_name": "OutputModel",
      "state": {
       "layout": "IPY_MODEL_d394f0125faf4abcaacf858db940a44b"
      }
     },
     "4d0b7aaab99b4d76adfb7478aae83568": {
      "model_module": "@jupyter-widgets/controls",
      "model_module_version": "1.5.0",
      "model_name": "HTMLModel",
      "state": {
       "layout": "IPY_MODEL_e78ee6c4d21148ae978616ab87ea6409",
       "style": "IPY_MODEL_7f47ca08e07c4f0b8a3c974efa5c2502",
       "value": "<p>its a foo cake</p>"
      }
     },
     "4d0ca1125bf74c51b5b09001c5a8bb20": {
      "model_module": "@jupyter-widgets/controls",
      "model_module_version": "1.5.0",
      "model_name": "HBoxModel",
      "state": {
       "children": [
        "IPY_MODEL_8265dbed418c475cb1381d789d808389",
        "IPY_MODEL_bb5b00d18fe04f6aa124669a4cae1663"
       ],
       "layout": "IPY_MODEL_06068303a9d64688ab60ef3a0417903f"
      }
     },
     "4d60110742bf49d7be186ab30d4026f4": {
      "model_module": "@jupyter-widgets/controls",
      "model_module_version": "1.5.0",
      "model_name": "HBoxModel",
      "state": {
       "children": [
        "IPY_MODEL_55f67c2598194c78a53bfb8c7b2362b2",
        "IPY_MODEL_4d0b7aaab99b4d76adfb7478aae83568"
       ],
       "layout": "IPY_MODEL_cb9a58869a4246a8af93ee3dc0728896"
      }
     },
     "4e0d878b1321443b8d83c49bdcf3e21e": {
      "model_module": "@jupyter-widgets/base",
      "model_module_version": "1.2.0",
      "model_name": "LayoutModel",
      "state": {}
     },
     "4e56aac1513241398c7abb00c480afe4": {
      "model_module": "@jupyter-widgets/controls",
      "model_module_version": "1.5.0",
      "model_name": "DescriptionStyleModel",
      "state": {
       "description_width": ""
      }
     },
     "4e91da4454be4dfea352d1fcad4b6e90": {
      "model_module": "@jupyter-widgets/controls",
      "model_module_version": "1.5.0",
      "model_name": "DescriptionStyleModel",
      "state": {
       "description_width": ""
      }
     },
     "4e967ee515f24f37986f31a1b6e23579": {
      "model_module": "@jupyter-widgets/base",
      "model_module_version": "1.2.0",
      "model_name": "LayoutModel",
      "state": {
       "align_items": "stretch",
       "display": "flex",
       "flex_flow": "row",
       "grid_auto_columns": "True",
       "justify_content": "flex-end",
       "width": "90%"
      }
     },
     "4f137ce907754ba29eb1a82c51483ad1": {
      "model_module": "@jupyter-widgets/controls",
      "model_module_version": "1.5.0",
      "model_name": "ButtonModel",
      "state": {
       "button_style": "success",
       "description": "save changes",
       "layout": "IPY_MODEL_cc8af367277a42638e9fb31909d50fae",
       "style": "IPY_MODEL_e8f170dd04a34c068e4847a1e1804eaa"
      }
     },
     "4f20e11c547d4e1d83fd9bcfb8b02bdf": {
      "model_module": "@jupyter-widgets/base",
      "model_module_version": "1.2.0",
      "model_name": "LayoutModel",
      "state": {}
     },
     "4f507d7ed4dc489db30c508cd3f04f76": {
      "model_module": "@jupyter-widgets/base",
      "model_module_version": "1.2.0",
      "model_name": "LayoutModel",
      "state": {}
     },
     "4f53bcc5d76c4680a9bb9611c2096142": {
      "model_module": "@jupyter-widgets/base",
      "model_module_version": "1.2.0",
      "model_name": "LayoutModel",
      "state": {}
     },
     "4f63f05f42a3481686dcc41844ab44fe": {
      "model_module": "@jupyter-widgets/base",
      "model_module_version": "1.2.0",
      "model_name": "LayoutModel",
      "state": {
       "align_items": "stretch",
       "display": "flex",
       "flex_flow": "row",
       "grid_auto_columns": "True",
       "justify_content": "flex-end",
       "width": "90%"
      }
     },
     "500c48808688411dafae7acc304eb807": {
      "model_module": "@jupyter-widgets/base",
      "model_module_version": "1.2.0",
      "model_name": "LayoutModel",
      "state": {}
     },
     "513ab54524c94cbf85926b3d3b8dd3bd": {
      "model_module": "@jupyter-widgets/controls",
      "model_module_version": "1.5.0",
      "model_name": "HTMLModel",
      "state": {
       "layout": "IPY_MODEL_612dc48a38ce4a529277fc8e9b2d8702",
       "style": "IPY_MODEL_e936e479e1b04e519911f2499054febe",
       "value": "<p>edit user input form below</p>"
      }
     },
     "514b16f74c3d474f93ad7e335289b0e5": {
      "model_module": "@jupyter-widgets/base",
      "model_module_version": "1.2.0",
      "model_name": "LayoutModel",
      "state": {}
     },
     "51d6865686ee48d6bd6a2a438b73ee28": {
      "model_module": "@jupyter-widgets/controls",
      "model_module_version": "1.5.0",
      "model_name": "HBoxModel",
      "state": {
       "children": [
        "IPY_MODEL_977179767d8045a2955bc57711511a53",
        "IPY_MODEL_658c250589984de0b2dffd6496be7b32"
       ],
       "layout": "IPY_MODEL_5e51d86c7ef54ee69d4df4f36b7d74f5"
      }
     },
     "51f07e7538384d77b8960ff01de9f992": {
      "model_module": "@jupyter-widgets/base",
      "model_module_version": "1.2.0",
      "model_name": "LayoutModel",
      "state": {
       "align_items": "stretch",
       "border": "dashed 0.2px green",
       "display": "flex",
       "flex_flow": "row",
       "grid_auto_columns": "True",
       "justify_content": "flex-start",
       "width": "100%"
      }
     },
     "5200882a014144db9f480ea67095982e": {
      "model_module": "@jupyter-widgets/controls",
      "model_module_version": "1.5.0",
      "model_name": "SelectMultipleModel",
      "state": {
       "_options_labels": [
        "asfd",
        "10",
        "asdf"
       ],
       "index": [
        1
       ],
       "layout": "IPY_MODEL_b034fd396dc743d7a02fe3ea6b8855f1",
       "rows": 5,
       "style": "IPY_MODEL_4e91da4454be4dfea352d1fcad4b6e90"
      }
     },
     "52361e65bfad49a2903428b373724785": {
      "model_module": "@jupyter-widgets/controls",
      "model_module_version": "1.5.0",
      "model_name": "HTMLModel",
      "state": {
       "layout": "IPY_MODEL_bc94243bfdba40ff9f069d40dcc87f14",
       "style": "IPY_MODEL_6fdb216903be4845887d4eb3462f88f8",
       "value": "<p>defines the logic of the space naming. use default value where practical.</p>"
      }
     },
     "53af0e6cebfb4ebf96e20bf53811f360": {
      "model_module": "@jupyter-widgets/base",
      "model_module_version": "1.2.0",
      "model_name": "LayoutModel",
      "state": {}
     },
     "53bffa61226e413cb54208961e1befa9": {
      "model_module": "@jupyter-widgets/controls",
      "model_module_version": "1.5.0",
      "model_name": "HTMLModel",
      "state": {
       "layout": "IPY_MODEL_927b242a9dbb4ba2a34525a859ffe191",
       "style": "IPY_MODEL_fa499d1d46f843ce8d3c4d963a330e08",
       "value": "<p>fpth_in</p>"
      }
     },
     "545199c733ee447f97ed97f558016b43": {
      "model_module": "@jupyter-widgets/controls",
      "model_module_version": "1.5.0",
      "model_name": "DescriptionStyleModel",
      "state": {
       "description_width": ""
      }
     },
     "5527f08218ad4288b7d93d56436cc37b": {
      "model_module": "@jupyter-widgets/controls",
      "model_module_version": "1.5.0",
      "model_name": "HBoxModel",
      "state": {
       "children": [
        "IPY_MODEL_90f3a16c1c62450189f6a2153d38d961",
        "IPY_MODEL_325163f9b92541cf9f076e0ff23e8e6d"
       ],
       "layout": "IPY_MODEL_07cf572a1e9f4de48b3d5b108aab46b8"
      }
     },
     "55765239272c4103891dddb3601af75f": {
      "model_module": "@jupyter-widgets/base",
      "model_module_version": "1.2.0",
      "model_name": "LayoutModel",
      "state": {}
     },
     "55b9274504ad4b67940f7add9c00795f": {
      "model_module": "@jupyter-widgets/base",
      "model_module_version": "1.2.0",
      "model_name": "LayoutModel",
      "state": {}
     },
     "55f67c2598194c78a53bfb8c7b2362b2": {
      "model_module": "@jupyter-widgets/controls",
      "model_module_version": "1.5.0",
      "model_name": "CheckboxModel",
      "state": {
       "disabled": false,
       "layout": "IPY_MODEL_9304c605982846fbaa015c3a5e773efb",
       "style": "IPY_MODEL_c4d0119e9d574893a6b6f277279e9fe4",
       "value": false
      }
     },
     "560ad93c36884af882314d2849cd9671": {
      "model_module": "@jupyter-widgets/base",
      "model_module_version": "1.2.0",
      "model_name": "LayoutModel",
      "state": {
       "align_items": "stretch",
       "display": "flex",
       "flex_flow": "row",
       "grid_auto_columns": "True",
       "justify_content": "flex-start",
       "width": "80%"
      }
     },
     "56a1ab9c21dd4510bfda505efb4607e3": {
      "model_module": "@jupyter-widgets/base",
      "model_module_version": "1.2.0",
      "model_name": "LayoutModel",
      "state": {}
     },
     "56ba54f1709945c9a986e371da6bcf4a": {
      "model_module": "@jupyter-widgets/controls",
      "model_module_version": "1.5.0",
      "model_name": "HBoxModel",
      "state": {
       "children": [
        "IPY_MODEL_37ecf8e217f041658d401989d64aa51e"
       ],
       "layout": "IPY_MODEL_0956219ee1034120a1e7d6ce0b06c954"
      }
     },
     "56ca24afdf3a4d5b9e6fc9fb4c7077d4": {
      "model_module": "@jupyter-widgets/base",
      "model_module_version": "1.2.0",
      "model_name": "LayoutModel",
      "state": {}
     },
     "575a1e660e434172884cdba8726910f9": {
      "model_module": "@jupyter-widgets/controls",
      "model_module_version": "1.5.0",
      "model_name": "DescriptionStyleModel",
      "state": {
       "description_width": ""
      }
     },
     "57872f918792456e98e121bcd725697c": {
      "model_module": "@jupyter-widgets/base",
      "model_module_version": "1.2.0",
      "model_name": "LayoutModel",
      "state": {
       "align_items": "stretch",
       "display": "flex",
       "flex_flow": "row",
       "grid_auto_columns": "True",
       "justify_content": "flex-end",
       "width": "90%"
      }
     },
     "57c41c19bf6a40d7bbc5a4bd8b2ba2ac": {
      "model_module": "@jupyter-widgets/controls",
      "model_module_version": "1.5.0",
      "model_name": "HBoxModel",
      "state": {
       "children": [
        "IPY_MODEL_44becf43c92f40139502d8ca773b1b10"
       ],
       "layout": "IPY_MODEL_aee98cc9794749ee8e158cf1965f7ad0"
      }
     },
     "57e9f5a45ac44a99b4ae83080f148aa2": {
      "model_module": "@jupyter-widgets/controls",
      "model_module_version": "1.5.0",
      "model_name": "HTMLModel",
      "state": {
       "layout": "IPY_MODEL_2706d70105294bcbb7c8db08f6d24c38",
       "style": "IPY_MODEL_9e39610ca4e943e481f9689303be7c13",
       "value": "<p>Number, using to prefix the file name</p>"
      }
     },
     "58241690bdb246ea973f4dddc261f79d": {
      "model_module": "@jupyter-widgets/controls",
      "model_module_version": "1.5.0",
      "model_name": "DescriptionStyleModel",
      "state": {
       "description_width": ""
      }
     },
     "586392f821d64e498704dbbd755b24db": {
      "model_module": "@jupyter-widgets/base",
      "model_module_version": "1.2.0",
      "model_name": "LayoutModel",
      "state": {}
     },
     "58bdac320727438fb53ddab17d33591a": {
      "model_module": "@jupyter-widgets/controls",
      "model_module_version": "1.5.0",
      "model_name": "DescriptionStyleModel",
      "state": {
       "description_width": ""
      }
     },
     "58e2801f46a04aa8aaa6c42fc6e4ea1c": {
      "model_module": "@jupyter-widgets/controls",
      "model_module_version": "1.5.0",
      "model_name": "HTMLModel",
      "state": {
       "layout": "IPY_MODEL_0cc475a20c2343efa3eba779599e0318",
       "style": "IPY_MODEL_23eb0e8a102d4f28a6f1dc521baa6b16",
       "value": "<p>its a foo cake</p>"
      }
     },
     "59560b7c7f3c42d89037c58a58bec16e": {
      "model_module": "@jupyter-widgets/base",
      "model_module_version": "1.2.0",
      "model_name": "LayoutModel",
      "state": {
       "align_items": "stretch",
       "display": "flex",
       "flex_flow": "row",
       "grid_auto_columns": "True",
       "justify_content": "flex-end",
       "width": "90%"
      }
     },
     "597a1e16d1b1469e9310fa30ccf9ce78": {
      "model_module": "@jupyter-widgets/controls",
      "model_module_version": "1.5.0",
      "model_name": "FloatTextModel",
      "state": {
       "layout": "IPY_MODEL_d7c0857f8d2940e186bfb7b7dd1f51fa",
       "step": null,
       "style": "IPY_MODEL_bc6c1a2c283047b18eb20bb7d9875442",
       "value": 9
      }
     },
     "5a405e46fbff4340beeb487eaeabe481": {
      "model_module": "@jupyter-widgets/base",
      "model_module_version": "1.2.0",
      "model_name": "LayoutModel",
      "state": {}
     },
     "5aa9cee66fc144b1b925fa8f9fc4fd80": {
      "model_module": "@jupyter-widgets/controls",
      "model_module_version": "1.5.0",
      "model_name": "HBoxModel",
      "state": {
       "children": [
        "IPY_MODEL_280face27e554771a582e5bbeb06fc97",
        "IPY_MODEL_d9af4ee3156c49d39835b55859576154"
       ],
       "layout": "IPY_MODEL_3f93125a9f5a4fb3954dbfa651b404d7"
      }
     },
     "5bf054bd72c34c478ba238aebf24b241": {
      "model_module": "@jupyter-widgets/controls",
      "model_module_version": "1.5.0",
      "model_name": "ButtonModel",
      "state": {
       "button_style": "warning",
       "description": "revert to last save",
       "layout": "IPY_MODEL_55b9274504ad4b67940f7add9c00795f",
       "style": "IPY_MODEL_e71542da27f24f588477b1349ea0adf7"
      }
     },
     "5cbaa1562173473c9530a3956e80811d": {
      "model_module": "@jupyter-widgets/base",
      "model_module_version": "1.2.0",
      "model_name": "LayoutModel",
      "state": {}
     },
     "5de58ac1857a432082476a16aea703a2": {
      "model_module": "@jupyter-widgets/base",
      "model_module_version": "1.2.0",
      "model_name": "LayoutModel",
      "state": {}
     },
     "5e0f55e006a043f7904e499a6e1759e5": {
      "model_module": "@jupyter-widgets/output",
      "model_module_version": "1.0.0",
      "model_name": "OutputModel",
      "state": {
       "layout": "IPY_MODEL_473b0b61add94659b753f1fa64e57bba"
      }
     },
     "5e3ba7f1103c407792a62c28eaada977": {
      "model_module": "@jupyter-widgets/base",
      "model_module_version": "1.2.0",
      "model_name": "LayoutModel",
      "state": {
       "align_items": "stretch",
       "display": "flex",
       "flex_flow": "row",
       "grid_auto_columns": "True",
       "justify_content": "flex-end",
       "width": "90%"
      }
     },
     "5e414019a7644f6b8d6de9665ecd9a23": {
      "model_module": "@jupyter-widgets/controls",
      "model_module_version": "1.5.0",
      "model_name": "HTMLModel",
      "state": {
       "layout": "IPY_MODEL_6569373bd28e40389786ffe2da1d7bdc",
       "style": "IPY_MODEL_71b3456e7a6745f49e3c2e0ed1343026",
       "value": "<p>name</p>"
      }
     },
     "5e51d86c7ef54ee69d4df4f36b7d74f5": {
      "model_module": "@jupyter-widgets/base",
      "model_module_version": "1.2.0",
      "model_name": "LayoutModel",
      "state": {
       "align_items": "stretch",
       "display": "flex",
       "flex_flow": "row",
       "grid_auto_columns": "True",
       "justify_content": "flex-start",
       "width": "80%"
      }
     },
     "5f6558b729154cb69f4b04c29b0fe4fc": {
      "model_module": "@jupyter-widgets/base",
      "model_module_version": "1.2.0",
      "model_name": "LayoutModel",
      "state": {}
     },
     "5f6ec7a2e79049c78649d446a596ee9f": {
      "model_module": "@jupyter-widgets/controls",
      "model_module_version": "1.5.0",
      "model_name": "HBoxModel",
      "state": {
       "children": [
        "IPY_MODEL_0e6824e141e6446abc63b3c5e342d8fc"
       ],
       "layout": "IPY_MODEL_def3b6aac50a4e7383effbf3af9e5c38"
      }
     },
     "60c8b8dcf00a461aa1dcc90d47468d21": {
      "model_module": "@jupyter-widgets/base",
      "model_module_version": "1.2.0",
      "model_name": "LayoutModel",
      "state": {}
     },
     "60e560d0eb41438694322ecd20aeb2f7": {
      "model_module": "@jupyter-widgets/controls",
      "model_module_version": "1.5.0",
      "model_name": "DescriptionStyleModel",
      "state": {
       "description_width": ""
      }
     },
     "612db50306c64dad83df24ff1272399d": {
      "model_module": "@jupyter-widgets/controls",
      "model_module_version": "1.5.0",
      "model_name": "HTMLModel",
      "state": {
       "layout": "IPY_MODEL_0f43a87d973b468f8e5c3de119b4eaf8",
       "style": "IPY_MODEL_15087b8942ae4a1c96ca86aedfacef5f",
       "value": "<p>spc_name_index</p>"
      }
     },
     "612dc48a38ce4a529277fc8e9b2d8702": {
      "model_module": "@jupyter-widgets/base",
      "model_module_version": "1.2.0",
      "model_name": "LayoutModel",
      "state": {}
     },
     "615cc83ec15343b8aba5e020b8aa1efc": {
      "model_module": "@jupyter-widgets/base",
      "model_module_version": "1.2.0",
      "model_name": "LayoutModel",
      "state": {}
     },
     "619a7336b5d14e47a388116170205fb6": {
      "model_module": "@jupyter-widgets/base",
      "model_module_version": "1.2.0",
      "model_name": "LayoutModel",
      "state": {
       "align_items": "stretch",
       "border": "dashed 0.2px green",
       "display": "flex",
       "flex_flow": "row",
       "grid_auto_columns": "True",
       "justify_content": "flex-start",
       "width": "100%"
      }
     },
     "620097b96fff454fbc3b933fbe1bbfba": {
      "model_module": "@jupyter-widgets/output",
      "model_module_version": "1.0.0",
      "model_name": "OutputModel",
      "state": {
       "layout": "IPY_MODEL_a0ba0e56cf9649f189157f6d2f75741d"
      }
     },
     "625d304fd53e4b498a18daa1681cdc0b": {
      "model_module": "@jupyter-widgets/controls",
      "model_module_version": "1.5.0",
      "model_name": "VBoxModel",
      "state": {
       "layout": "IPY_MODEL_c0e179272233466dbed57e7b02ec7f49"
      }
     },
     "62d442a4dcd24a7298d210b29f47762d": {
      "model_module": "@jupyter-widgets/controls",
      "model_module_version": "1.5.0",
      "model_name": "HBoxModel",
      "state": {
       "children": [
        "IPY_MODEL_9f959f15e879475f80684f3cc27c80af",
        "IPY_MODEL_51d6865686ee48d6bd6a2a438b73ee28"
       ],
       "layout": "IPY_MODEL_4e967ee515f24f37986f31a1b6e23579"
      }
     },
     "62f35444d8584153961770e417d22266": {
      "model_module": "@jupyter-widgets/controls",
      "model_module_version": "1.5.0",
      "model_name": "VBoxModel",
      "state": {
       "children": [
        "IPY_MODEL_e50597bc666549ca892dccaddd6c3716",
        "IPY_MODEL_513ab54524c94cbf85926b3d3b8dd3bd",
        "IPY_MODEL_625d304fd53e4b498a18daa1681cdc0b"
       ],
       "layout": "IPY_MODEL_69b414b1536f468fba4e2a6e80afc066"
      }
     },
     "62f956033c2c4ff7a4feef5ce348c5fc": {
      "model_module": "@jupyter-widgets/base",
      "model_module_version": "1.2.0",
      "model_name": "LayoutModel",
      "state": {}
     },
     "635f15b0372b46e598aff64ea42c2a3f": {
      "model_module": "@jupyter-widgets/controls",
      "model_module_version": "1.5.0",
      "model_name": "DescriptionStyleModel",
      "state": {
       "description_width": ""
      }
     },
     "636bac0bb8914c1eb18c37221dd2fe1b": {
      "model_module": "@jupyter-widgets/controls",
      "model_module_version": "1.5.0",
      "model_name": "HBoxModel",
      "state": {
       "children": [
        "IPY_MODEL_757490a584ca4f69ad4b1b3816db1774",
        "IPY_MODEL_bb4b6d296f60466f81f8db095180d274"
       ],
       "layout": "IPY_MODEL_f567b5740cb6452bb470b5f3c47c09a8"
      }
     },
     "63d3bad049f64606abe5293ac0bf74d9": {
      "model_module": "@jupyter-widgets/base",
      "model_module_version": "1.2.0",
      "model_name": "LayoutModel",
      "state": {}
     },
     "64af941fd18f4cc29cb100ff0b72dff1": {
      "model_module": "@jupyter-widgets/controls",
      "model_module_version": "1.5.0",
      "model_name": "HBoxModel",
      "state": {
       "children": [
        "IPY_MODEL_dfafe9a2ee0e440383937914f483c301",
        "IPY_MODEL_dc7b621b21714003bfa33eceebded88d"
       ],
       "layout": "IPY_MODEL_b97b64b896f541cdb41a56b7c0cae1eb"
      }
     },
     "65449a9c3aaf426fbe8a2e746b6441e8": {
      "model_module": "@jupyter-widgets/controls",
      "model_module_version": "1.5.0",
      "model_name": "ToggleButtonModel",
      "state": {
       "button_style": "info",
       "description": "inputs from file",
       "layout": "IPY_MODEL_2439058473ef41d5acde8e7fed42e8a0",
       "style": "IPY_MODEL_1b79309228d646b48282ab46255595d7"
      }
     },
     "6569373bd28e40389786ffe2da1d7bdc": {
      "model_module": "@jupyter-widgets/base",
      "model_module_version": "1.2.0",
      "model_name": "LayoutModel",
      "state": {}
     },
     "6580ca062c074d9eaa9984fe373b2907": {
      "model_module": "@jupyter-widgets/controls",
      "model_module_version": "1.5.0",
      "model_name": "DescriptionStyleModel",
      "state": {
       "description_width": ""
      }
     },
     "658c250589984de0b2dffd6496be7b32": {
      "model_module": "@jupyter-widgets/controls",
      "model_module_version": "1.5.0",
      "model_name": "HTMLModel",
      "state": {
       "layout": "IPY_MODEL_514b16f74c3d474f93ad7e335289b0e5",
       "style": "IPY_MODEL_6bf56efd67b04a1495e6641d44f56e2d",
       "value": "<p>its a foo cake</p>"
      }
     },
     "65df2c1c1f45422a94bde31d6454e5a7": {
      "model_module": "@jupyter-widgets/controls",
      "model_module_version": "1.5.0",
      "model_name": "DescriptionStyleModel",
      "state": {
       "description_width": ""
      }
     },
     "673175aa2a6c4366bbe542d0d1d705b8": {
      "model_module": "@jupyter-widgets/base",
      "model_module_version": "1.2.0",
      "model_name": "LayoutModel",
      "state": {
       "align_items": "stretch",
       "border": "dashed 0.2px green",
       "display": "flex",
       "flex_flow": "row",
       "grid_auto_columns": "True",
       "justify_content": "flex-start",
       "width": "100%"
      }
     },
     "676e42e240574eccab397eb6561d397e": {
      "model_module": "@jupyter-widgets/base",
      "model_module_version": "1.2.0",
      "model_name": "LayoutModel",
      "state": {}
     },
     "67f9c1b4ecf6413e9e8df129d0f3bcaf": {
      "model_module": "@jupyter-widgets/output",
      "model_module_version": "1.0.0",
      "model_name": "OutputModel",
      "state": {
       "layout": "IPY_MODEL_d7fd7e499af14e30bb2706475222248c"
      }
     },
     "6898eba7773e4bf0b29e49d378ba1e09": {
      "model_module": "@jupyter-widgets/base",
      "model_module_version": "1.2.0",
      "model_name": "LayoutModel",
      "state": {}
     },
     "69175626b5474ecca79108f3e74dd1fb": {
      "model_module": "@jupyter-widgets/base",
      "model_module_version": "1.2.0",
      "model_name": "LayoutModel",
      "state": {}
     },
     "69a5e82e271742d88f1d4a3b0e15b70c": {
      "model_module": "@jupyter-widgets/controls",
      "model_module_version": "1.5.0",
      "model_name": "ButtonStyleModel",
      "state": {
       "font_weight": "bold"
      }
     },
     "69b414b1536f468fba4e2a6e80afc066": {
      "model_module": "@jupyter-widgets/base",
      "model_module_version": "1.2.0",
      "model_name": "LayoutModel",
      "state": {}
     },
     "6a239eaf4cda440f809ebefb9cbaf86a": {
      "model_module": "@jupyter-widgets/controls",
      "model_module_version": "1.5.0",
      "model_name": "HBoxModel",
      "state": {
       "children": [
        "IPY_MODEL_bee3109aa84a44bdb92351930c048336",
        "IPY_MODEL_6b1a236462c34ce59705bfd9a81606cb"
       ],
       "layout": "IPY_MODEL_86edc9b888fc4830837a328770f884c3"
      }
     },
     "6a448b8232a94bbca8a825a136df5e91": {
      "model_module": "@jupyter-widgets/controls",
      "model_module_version": "1.5.0",
      "model_name": "HBoxModel",
      "state": {
       "children": [
        "IPY_MODEL_4d0ca1125bf74c51b5b09001c5a8bb20"
       ],
       "layout": "IPY_MODEL_362dfbd92edd4121955e7a43dbfb5c44"
      }
     },
     "6a4daf994ae8445cac16f22ae041a31b": {
      "model_module": "@jupyter-widgets/controls",
      "model_module_version": "1.5.0",
      "model_name": "HTMLModel",
      "state": {
       "layout": "IPY_MODEL_aff38fe008ae4c22b9971ced2eb81719",
       "style": "IPY_MODEL_22d8c374a91a4c68a9aa88fcbbebdabc",
       "value": "<p>fus foo ous o</p>"
      }
     },
     "6a95a982633c40228f8935f7b24255b4": {
      "model_module": "@jupyter-widgets/controls",
      "model_module_version": "1.5.0",
      "model_name": "DescriptionStyleModel",
      "state": {
       "description_width": ""
      }
     },
     "6b12a10d5c7b42ea9c058c91060d666a": {
      "model_module": "@jupyter-widgets/controls",
      "model_module_version": "1.5.0",
      "model_name": "VBoxModel",
      "state": {
       "layout": "IPY_MODEL_217d3dd5e41145528feb26ca35b28911"
      }
     },
     "6b1a236462c34ce59705bfd9a81606cb": {
      "model_module": "@jupyter-widgets/controls",
      "model_module_version": "1.5.0",
      "model_name": "HTMLModel",
      "state": {
       "layout": "IPY_MODEL_ddbb75ef1ea946b4b5a4673b9b553aed",
       "style": "IPY_MODEL_a2f252bf785b484f98a98dc5a00325e1",
       "value": "<p>label</p>"
      }
     },
     "6b6705d34b414705835227750f66a874": {
      "model_module": "@jupyter-widgets/controls",
      "model_module_version": "1.5.0",
      "model_name": "HBoxModel",
      "state": {
       "children": [
        "IPY_MODEL_7bd4018e9f3d49d28e2eaee703174172",
        "IPY_MODEL_47a85e9b7fcb446882239193deaea3f7",
        "IPY_MODEL_03cc6f4cd25c409ca8afeb65e77ebd30"
       ],
       "layout": "IPY_MODEL_870ca902b860470da29b1aaef0ea4c53"
      }
     },
     "6bf56efd67b04a1495e6641d44f56e2d": {
      "model_module": "@jupyter-widgets/controls",
      "model_module_version": "1.5.0",
      "model_name": "DescriptionStyleModel",
      "state": {
       "description_width": ""
      }
     },
     "6c286a1f5a884c02b46fe918a7828983": {
      "model_module": "@jupyter-widgets/base",
      "model_module_version": "1.2.0",
      "model_name": "LayoutModel",
      "state": {}
     },
     "6c4a9b96ce5444be9cf9ff5365e97a1c": {
      "model_module": "@jupyter-widgets/controls",
      "model_module_version": "1.5.0",
      "model_name": "DescriptionStyleModel",
      "state": {
       "description_width": ""
      }
     },
     "6c57f744118b4696ba2c48fa2c6e39e9": {
      "model_module": "@jupyter-widgets/controls",
      "model_module_version": "1.5.0",
      "model_name": "HBoxModel",
      "state": {
       "children": [
        "IPY_MODEL_5e414019a7644f6b8d6de9665ecd9a23",
        "IPY_MODEL_6a239eaf4cda440f809ebefb9cbaf86a"
       ],
       "layout": "IPY_MODEL_59560b7c7f3c42d89037c58a58bec16e"
      }
     },
     "6c630aab0ce441ceb9902fdbedd1dc42": {
      "model_module": "@jupyter-widgets/controls",
      "model_module_version": "1.5.0",
      "model_name": "HTMLModel",
      "state": {
       "layout": "IPY_MODEL_0952f576d6f04f5987c39559cd5a1a1d",
       "style": "IPY_MODEL_6db9003835de4c7fa07d4f0e137beaac",
       "value": "<p>Date Picker</p>"
      }
     },
     "6d00e1186f4f4559a29b80f07476f734": {
      "model_module": "@jupyter-widgets/controls",
      "model_module_version": "1.5.0",
      "model_name": "HBoxModel",
      "state": {
       "children": [
        "IPY_MODEL_9ea8b55d5144499498b8b73a7d69b68f",
        "IPY_MODEL_58e2801f46a04aa8aaa6c42fc6e4ea1c"
       ],
       "layout": "IPY_MODEL_3b20cccc7fa747c4a7a0388ba2975d82"
      }
     },
     "6d07d4ecbbbe4ea48615bc4f53bb29c7": {
      "model_module": "@jupyter-widgets/controls",
      "model_module_version": "1.5.0",
      "model_name": "ToggleButtonModel",
      "state": {
       "button_style": "info",
       "description": "select file",
       "layout": "IPY_MODEL_71d0b4922d414e5dafaefa3dec57d81f",
       "style": "IPY_MODEL_aa204b1b48ab41b4aa5eec994f9bef24"
      }
     },
     "6d2675f89aeb4166aa3ccf39eb3c2107": {
      "model_module": "@jupyter-widgets/base",
      "model_module_version": "1.2.0",
      "model_name": "LayoutModel",
      "state": {}
     },
     "6d5da59372a244d787b7fa726034e9f2": {
      "model_module": "@jupyter-widgets/base",
      "model_module_version": "1.2.0",
      "model_name": "LayoutModel",
      "state": {}
     },
     "6db9003835de4c7fa07d4f0e137beaac": {
      "model_module": "@jupyter-widgets/controls",
      "model_module_version": "1.5.0",
      "model_name": "DescriptionStyleModel",
      "state": {
       "description_width": ""
      }
     },
     "6dcc24afd7bc4b9ebdca42015be7bada": {
      "model_module": "@jupyter-widgets/base",
      "model_module_version": "1.2.0",
      "model_name": "LayoutModel",
      "state": {}
     },
     "6dd58d46e80a437d9a115f73c124adff": {
      "model_module": "@jupyter-widgets/controls",
      "model_module_version": "1.5.0",
      "model_name": "HBoxModel",
      "state": {
       "children": [
        "IPY_MODEL_a71c16fb330b4772ad037a5083ef05fb"
       ],
       "layout": "IPY_MODEL_c7975f23e9174e48ac6e87e0ab73134d"
      }
     },
     "6df97be488854caca36a3cca9f3d4d06": {
      "model_module": "@jupyter-widgets/controls",
      "model_module_version": "1.5.0",
      "model_name": "HBoxModel",
      "state": {
       "children": [
        "IPY_MODEL_d4d27137a74b4cb7a53d07975da4ab32"
       ],
       "layout": "IPY_MODEL_3524fb49cc12445eadbe0624e1eed6ff"
      }
     },
     "6e25049c20fb4a329511be39c0081849": {
      "model_module": "@jupyter-widgets/controls",
      "model_module_version": "1.5.0",
      "model_name": "HTMLModel",
      "state": {
       "layout": "IPY_MODEL_27de16cd1a834f219067383da69a73a4",
       "style": "IPY_MODEL_545199c733ee447f97ed97f558016b43",
       "value": "<p>foo</p>"
      }
     },
     "6e67b5943d23484b8572331bad8598c5": {
      "model_module": "@jupyter-widgets/controls",
      "model_module_version": "1.5.0",
      "model_name": "DescriptionStyleModel",
      "state": {
       "description_width": ""
      }
     },
     "6f8ddd7035fb406d8f98a19c504397c7": {
      "model_module": "@jupyter-widgets/base",
      "model_module_version": "1.2.0",
      "model_name": "LayoutModel",
      "state": {}
     },
     "6fac31a34935436880b2004a5d6f0cd0": {
      "model_module": "@jupyter-widgets/base",
      "model_module_version": "1.2.0",
      "model_name": "LayoutModel",
      "state": {}
     },
     "6fdb216903be4845887d4eb3462f88f8": {
      "model_module": "@jupyter-widgets/controls",
      "model_module_version": "1.5.0",
      "model_name": "DescriptionStyleModel",
      "state": {
       "description_width": ""
      }
     },
     "6fdc9b0b123f4056bb5857e80f0e9226": {
      "model_module": "@jupyter-widgets/output",
      "model_module_version": "1.0.0",
      "model_name": "OutputModel",
      "state": {
       "layout": "IPY_MODEL_5cbaa1562173473c9530a3956e80811d"
      }
     },
     "7035f869ff7040058b4e0073294d5950": {
      "model_module": "@jupyter-widgets/controls",
      "model_module_version": "1.5.0",
      "model_name": "HBoxModel",
      "state": {
       "children": [
        "IPY_MODEL_b7f7ab998cfe4022965698a60763380f",
        "IPY_MODEL_0a7c2d35bbaf4701b3c541d0e9adb0cc"
       ],
       "layout": "IPY_MODEL_c429e6afb1c74810a4be661824729fa9"
      }
     },
     "70911acda28a4458a79a09ccc5f3c467": {
      "model_module": "@jupyter-widgets/base",
      "model_module_version": "1.2.0",
      "model_name": "LayoutModel",
      "state": {}
     },
     "70ff117e2a784d2288baf56725927baf": {
      "model_module": "@jupyter-widgets/controls",
      "model_module_version": "1.5.0",
      "model_name": "HBoxModel",
      "state": {
       "children": [
        "IPY_MODEL_6c57f744118b4696ba2c48fa2c6e39e9"
       ],
       "layout": "IPY_MODEL_51f07e7538384d77b8960ff01de9f992"
      }
     },
     "718dc0267db94af0bad1b949d7ffa71c": {
      "model_module": "@jupyter-widgets/base",
      "model_module_version": "1.2.0",
      "model_name": "LayoutModel",
      "state": {
       "align_items": "stretch",
       "border": "dashed 0.2px green",
       "display": "flex",
       "flex_flow": "row",
       "grid_auto_columns": "True",
       "justify_content": "flex-start",
       "width": "100%"
      }
     },
     "71b3456e7a6745f49e3c2e0ed1343026": {
      "model_module": "@jupyter-widgets/controls",
      "model_module_version": "1.5.0",
      "model_name": "DescriptionStyleModel",
      "state": {
       "description_width": ""
      }
     },
     "71d0b4922d414e5dafaefa3dec57d81f": {
      "model_module": "@jupyter-widgets/base",
      "model_module_version": "1.2.0",
      "model_name": "LayoutModel",
      "state": {}
     },
     "71e126a3b056495d85f880db4388bbe7": {
      "model_module": "@jupyter-widgets/base",
      "model_module_version": "1.2.0",
      "model_name": "LayoutModel",
      "state": {
       "align_items": "stretch",
       "display": "flex",
       "flex_flow": "row",
       "grid_auto_columns": "True",
       "justify_content": "flex-end",
       "width": "90%"
      }
     },
     "722c0de54ec34517906e9fb68b2d4100": {
      "model_module": "@jupyter-widgets/base",
      "model_module_version": "1.2.0",
      "model_name": "LayoutModel",
      "state": {
       "border": "solid 1px #BBBBBB",
       "padding": "0px 10px 0px 10px"
      }
     },
     "72b506802a9b47188ece5788cddc9940": {
      "model_module": "@jupyter-widgets/controls",
      "model_module_version": "1.5.0",
      "model_name": "DescriptionStyleModel",
      "state": {
       "description_width": ""
      }
     },
     "736cd58eed734093b528dd6e0f03df1d": {
      "model_module": "@jupyter-widgets/base",
      "model_module_version": "1.2.0",
      "model_name": "LayoutModel",
      "state": {}
     },
     "7378c2967835476d850587ea83ee0990": {
      "model_module": "@jupyter-widgets/controls",
      "model_module_version": "1.5.0",
      "model_name": "DescriptionStyleModel",
      "state": {
       "description_width": ""
      }
     },
     "73aab43b6b944c67b8fe27cb4f6628fd": {
      "model_module": "@jupyter-widgets/controls",
      "model_module_version": "1.5.0",
      "model_name": "DescriptionStyleModel",
      "state": {
       "description_width": ""
      }
     },
     "73beca7949e14851a6d15f7df9111f68": {
      "model_module": "@jupyter-widgets/controls",
      "model_module_version": "1.5.0",
      "model_name": "DescriptionStyleModel",
      "state": {
       "description_width": ""
      }
     },
     "73dc9a396d384cd29a0edc4035b6e18a": {
      "model_module": "@jupyter-widgets/controls",
      "model_module_version": "1.5.0",
      "model_name": "HTMLModel",
      "state": {
       "layout": "IPY_MODEL_b1426f5e8dd54adeba02e61ad7962628",
       "style": "IPY_MODEL_22d6389826d74e1db9ad547666f4c411",
       "value": "<p>label</p>"
      }
     },
     "740fb0c40bc34340a2ab6878c98110fd": {
      "model_module": "@jupyter-widgets/output",
      "model_module_version": "1.0.0",
      "model_name": "OutputModel",
      "state": {
       "layout": "IPY_MODEL_6fac31a34935436880b2004a5d6f0cd0"
      }
     },
     "741ee220bbbe44649ca8c75b1c2302dc": {
      "model_module": "@jupyter-widgets/base",
      "model_module_version": "1.2.0",
      "model_name": "LayoutModel",
      "state": {}
     },
     "74852d210d2347c88498e9951835c3be": {
      "model_module": "@jupyter-widgets/controls",
      "model_module_version": "1.5.0",
      "model_name": "DescriptionStyleModel",
      "state": {
       "description_width": ""
      }
     },
     "757490a584ca4f69ad4b1b3816db1774": {
      "model_module": "@jupyter-widgets/controls",
      "model_module_version": "1.5.0",
      "model_name": "HTMLModel",
      "state": {
       "layout": "IPY_MODEL_f436a070aa5a44baa19e35d443286046",
       "style": "IPY_MODEL_7378c2967835476d850587ea83ee0990",
       "value": "<p>foo</p>"
      }
     },
     "767b45f3c41641ee9260ff90ec92c586": {
      "model_module": "@jupyter-widgets/controls",
      "model_module_version": "1.5.0",
      "model_name": "ButtonStyleModel",
      "state": {
       "font_weight": "bold"
      }
     },
     "76e7ece614de4bf2975dc5fbcc825b33": {
      "model_module": "@jupyter-widgets/base",
      "model_module_version": "1.2.0",
      "model_name": "LayoutModel",
      "state": {
       "align_items": "stretch",
       "display": "flex",
       "flex_flow": "row",
       "grid_auto_columns": "True",
       "justify_content": "flex-end",
       "width": "90%"
      }
     },
     "76eec545d7b34289847cc9cae5797d85": {
      "model_module": "@jupyter-widgets/base",
      "model_module_version": "1.2.0",
      "model_name": "LayoutModel",
      "state": {}
     },
     "76fbcaf648ac455fb281044b085f1f31": {
      "model_module": "@jupyter-widgets/controls",
      "model_module_version": "1.5.0",
      "model_name": "HBoxModel",
      "state": {
       "children": [
        "IPY_MODEL_d6181b26b8d94e4f8cccbe7364f6ba32"
       ],
       "layout": "IPY_MODEL_718dc0267db94af0bad1b949d7ffa71c"
      }
     },
     "782fa6810d70481f8e7ab505176cbbe0": {
      "model_module": "@jupyter-widgets/base",
      "model_module_version": "1.2.0",
      "model_name": "LayoutModel",
      "state": {}
     },
     "792935a1547b431493210f329a9a5ad2": {
      "model_module": "@jupyter-widgets/base",
      "model_module_version": "1.2.0",
      "model_name": "LayoutModel",
      "state": {
       "width": "auto"
      }
     },
     "79d9054ee10a4f358e533b0b8b88776c": {
      "model_module": "@jupyter-widgets/base",
      "model_module_version": "1.2.0",
      "model_name": "LayoutModel",
      "state": {
       "width": "auto"
      }
     },
     "7b18ea07e5c948fdbea8da73eded670d": {
      "model_module": "@jupyter-widgets/controls",
      "model_module_version": "1.5.0",
      "model_name": "DescriptionStyleModel",
      "state": {
       "description_width": ""
      }
     },
     "7bd4018e9f3d49d28e2eaee703174172": {
      "model_module": "@jupyter-widgets/controls",
      "model_module_version": "1.5.0",
      "model_name": "ToggleButtonModel",
      "state": {
       "button_style": "info",
       "description": "inputs from file",
       "layout": "IPY_MODEL_845ffb6fb37a41779a91067e9297dc6e",
       "style": "IPY_MODEL_c8c5f03b07f94761aaaad11ad872c715"
      }
     },
     "7bd59eb4f4954220b10fe8432dff6fd1": {
      "model_module": "@jupyter-widgets/controls",
      "model_module_version": "1.5.0",
      "model_name": "HBoxModel",
      "state": {
       "children": [
        "IPY_MODEL_b10456b1be4643f4a223bbf951a3b953",
        "IPY_MODEL_9e47455e97614f38885fadf5f6311043"
       ],
       "layout": "IPY_MODEL_8920e6b0d6c042ca8d90966941e92012"
      }
     },
     "7c0aa3e1eff845ea9cb81bc7816b2494": {
      "model_module": "@jupyter-widgets/controls",
      "model_module_version": "1.5.0",
      "model_name": "DescriptionStyleModel",
      "state": {
       "description_width": ""
      }
     },
     "7cbe8761b88746c191480d2cb757f1d8": {
      "model_module": "@jupyter-widgets/base",
      "model_module_version": "1.2.0",
      "model_name": "LayoutModel",
      "state": {
       "align_items": "stretch",
       "border": "dashed 0.2px green",
       "display": "flex",
       "flex_flow": "row",
       "grid_auto_columns": "True",
       "justify_content": "flex-start",
       "width": "100%"
      }
     },
     "7d4913b5b60b4a99861de3565f408eef": {
      "model_module": "@jupyter-widgets/base",
      "model_module_version": "1.2.0",
      "model_name": "LayoutModel",
      "state": {}
     },
     "7dc5202071624080b2f88ec9c4d1d373": {
      "model_module": "@jupyter-widgets/controls",
      "model_module_version": "1.5.0",
      "model_name": "HBoxModel",
      "state": {
       "children": [
        "IPY_MODEL_6d07d4ecbbbe4ea48615bc4f53bb29c7",
        "IPY_MODEL_3daf9ebfc67548e49f6d9f777b880f36",
        "IPY_MODEL_280daed00e9146509a6378a946ce97a8"
       ],
       "layout": "IPY_MODEL_f74e6326720940149f1dcdb368798718"
      }
     },
     "7e2b8cd6dad94fb59f4b467a539b3f0a": {
      "model_module": "@jupyter-widgets/controls",
      "model_module_version": "1.5.0",
      "model_name": "HBoxModel",
      "state": {
       "children": [
        "IPY_MODEL_7bd59eb4f4954220b10fe8432dff6fd1",
        "IPY_MODEL_00c82fe997404c3798567eb033674d45"
       ],
       "layout": "IPY_MODEL_1edf76855d164a9ca1fca2bd624a8131"
      }
     },
     "7e948356531f42d7896ec957dd8fe1b2": {
      "model_module": "@jupyter-widgets/output",
      "model_module_version": "1.0.0",
      "model_name": "OutputModel",
      "state": {
       "layout": "IPY_MODEL_ccf2614a98744d5fb62c54576c44b9d9",
       "outputs": [
        {
         "data": {
          "application/vnd.jupyter.widget-view+json": {
           "model_id": "f8bdc5b60a3e4db1a801cb593d4b223f",
           "version_major": 2,
           "version_minor": 0
          },
          "text/plain": "Output()"
         },
         "metadata": {},
         "output_type": "display_data"
        }
       ]
      }
     },
     "7eb91ca162824384bb78ee394d796868": {
      "model_module": "@jupyter-widgets/controls",
      "model_module_version": "1.5.0",
      "model_name": "DescriptionStyleModel",
      "state": {
       "description_width": ""
      }
     },
     "7ef8d5bfa4e146cbaed9a6503db0eefe": {
      "model_module": "@jupyter-widgets/controls",
      "model_module_version": "1.5.0",
      "model_name": "ButtonStyleModel",
      "state": {}
     },
     "7f47ca08e07c4f0b8a3c974efa5c2502": {
      "model_module": "@jupyter-widgets/controls",
      "model_module_version": "1.5.0",
      "model_name": "DescriptionStyleModel",
      "state": {
       "description_width": ""
      }
     },
     "7f6f87dc123d416cbae331ffe2d32a55": {
      "model_module": "@jupyter-widgets/base",
      "model_module_version": "1.2.0",
      "model_name": "LayoutModel",
      "state": {
       "display": "flex",
       "flex_flow": "row",
       "grid_auto_columns": "False",
       "justify_content": "flex-start",
       "width": "100%"
      }
     },
     "7f71e8361b4c413c86f533535cbd0c6f": {
      "model_module": "@jupyter-widgets/base",
      "model_module_version": "1.2.0",
      "model_name": "LayoutModel",
      "state": {}
     },
     "80396cb1124a4c93826bf56e3c5001c4": {
      "model_module": "@jupyter-widgets/controls",
      "model_module_version": "1.5.0",
      "model_name": "ButtonStyleModel",
      "state": {}
     },
     "806725c34e914a0fb33932343b08270e": {
      "model_module": "@jupyter-widgets/base",
      "model_module_version": "1.2.0",
      "model_name": "LayoutModel",
      "state": {
       "align_items": "stretch",
       "display": "flex",
       "flex_flow": "row",
       "grid_auto_columns": "True",
       "justify_content": "flex-start",
       "width": "80%"
      }
     },
     "81d681c489e84942a3314087924e3491": {
      "model_module": "@jupyter-widgets/controls",
      "model_module_version": "1.5.0",
      "model_name": "DescriptionStyleModel",
      "state": {
       "description_width": ""
      }
     },
     "8265dbed418c475cb1381d789d808389": {
      "model_module": "@jupyter-widgets/controls",
      "model_module_version": "1.5.0",
      "model_name": "HTMLModel",
      "state": {
       "layout": "IPY_MODEL_276712dd2c454475b87c2a81b0cd0abb",
       "style": "IPY_MODEL_d92d1e7154124279ad79c1a062ddaeb9",
       "value": "<p>File Tag</p>"
      }
     },
     "82bcf79e3d124754b99643756c9c783c": {
      "model_module": "@jupyter-widgets/output",
      "model_module_version": "1.0.0",
      "model_name": "OutputModel",
      "state": {
       "layout": "IPY_MODEL_56ca24afdf3a4d5b9e6fc9fb4c7077d4"
      }
     },
     "82de29cdaed74213ae6fbb09c33e8d74": {
      "model_module": "@jupyter-widgets/controls",
      "model_module_version": "1.5.0",
      "model_name": "DescriptionStyleModel",
      "state": {
       "description_width": ""
      }
     },
     "832a27184da44c0da87f71fd38dd59bb": {
      "model_module": "@jupyter-widgets/controls",
      "model_module_version": "1.5.0",
      "model_name": "DescriptionStyleModel",
      "state": {
       "description_width": ""
      }
     },
     "83c50476935749f0b50c8e01eeaef952": {
      "model_module": "@jupyter-widgets/controls",
      "model_module_version": "1.5.0",
      "model_name": "HBoxModel",
      "state": {
       "children": [
        "IPY_MODEL_05fac49787d6417c9b6cc8b6566af0d6",
        "IPY_MODEL_2aa9725521c6421bbf553c090690e7c1"
       ],
       "layout": "IPY_MODEL_4f63f05f42a3481686dcc41844ab44fe"
      }
     },
     "845ffb6fb37a41779a91067e9297dc6e": {
      "model_module": "@jupyter-widgets/base",
      "model_module_version": "1.2.0",
      "model_name": "LayoutModel",
      "state": {}
     },
     "8475c098ecd140369ebe00696d535ff3": {
      "model_module": "@jupyter-widgets/controls",
      "model_module_version": "1.5.0",
      "model_name": "HBoxModel",
      "state": {
       "children": [
        "IPY_MODEL_83c50476935749f0b50c8e01eeaef952"
       ],
       "layout": "IPY_MODEL_e60af5ce9af84cbd8fecaaa366977997"
      }
     },
     "84fcd525beda441d82470836324812c6": {
      "model_module": "@jupyter-widgets/output",
      "model_module_version": "1.0.0",
      "model_name": "OutputModel",
      "state": {
       "layout": "IPY_MODEL_8dc246dc50194d5b87e1ac8d52a62ab7"
      }
     },
     "85b1037effd240ef994727bcc8e849f6": {
      "model_module": "@jupyter-widgets/controls",
      "model_module_version": "1.5.0",
      "model_name": "ButtonModel",
      "state": {
       "description": "save",
       "layout": "IPY_MODEL_f0c40c3cfc8f4fbcbd0301609a97cd80",
       "style": "IPY_MODEL_0b922824e9564954a09a641195765892"
      }
     },
     "85cdb97c03a0476b97e98926e98c6f87": {
      "model_module": "@jupyter-widgets/base",
      "model_module_version": "1.2.0",
      "model_name": "LayoutModel",
      "state": {
       "align_items": "stretch",
       "display": "flex",
       "flex_flow": "row",
       "grid_auto_columns": "True",
       "justify_content": "flex-end",
       "width": "90%"
      }
     },
     "86cb515d95be4466a8d9ee2fac3feb5b": {
      "model_module": "@jupyter-widgets/base",
      "model_module_version": "1.2.0",
      "model_name": "LayoutModel",
      "state": {}
     },
     "86edc9b888fc4830837a328770f884c3": {
      "model_module": "@jupyter-widgets/base",
      "model_module_version": "1.2.0",
      "model_name": "LayoutModel",
      "state": {
       "align_items": "stretch",
       "display": "flex",
       "flex_flow": "row",
       "grid_auto_columns": "True",
       "justify_content": "flex-start",
       "width": "80%"
      }
     },
     "870ca902b860470da29b1aaef0ea4c53": {
      "model_module": "@jupyter-widgets/base",
      "model_module_version": "1.2.0",
      "model_name": "LayoutModel",
      "state": {}
     },
     "8757fb233cf44b7493d2494d003d3239": {
      "model_module": "@jupyter-widgets/controls",
      "model_module_version": "1.5.0",
      "model_name": "DescriptionStyleModel",
      "state": {
       "description_width": ""
      }
     },
     "88df29be297242dd89564b45a55d9c41": {
      "model_module": "@jupyter-widgets/controls",
      "model_module_version": "1.5.0",
      "model_name": "HTMLModel",
      "state": {
       "layout": "IPY_MODEL_3e0b16717d84412db3d87b6bed12d67b",
       "style": "IPY_MODEL_eba0275702754dd19f5940ed39e94a25",
       "value": "<p>defines the logic of the space naming. use default value where practical.</p>"
      }
     },
     "8920e6b0d6c042ca8d90966941e92012": {
      "model_module": "@jupyter-widgets/base",
      "model_module_version": "1.2.0",
      "model_name": "LayoutModel",
      "state": {
       "align_items": "stretch",
       "display": "flex",
       "flex_flow": "row",
       "grid_auto_columns": "True",
       "justify_content": "flex-end",
       "width": "90%"
      }
     },
     "8af3505349c4425d817f44daa81f4b04": {
      "model_module": "@jupyter-widgets/controls",
      "model_module_version": "1.5.0",
      "model_name": "RadioButtonsModel",
      "state": {
       "_options_labels": [
        "TEMPLATE: C:\\engDev\\git_mf\\MF_Toolbox\\dev\\mf_scripts\\template_inputs\\inputs-gbxml.json",
        "PROJECT: C:\\engDev\\git_mf\\ipyrun\\ipyrun\\appdata\\inputs\\inputs-gbxml.json"
       ],
       "index": 0,
       "layout": "IPY_MODEL_d74364445eed44bc91ec987ccd3b7a52",
       "style": "IPY_MODEL_bf4109bf18074b9d9634a01b1bc61ad7"
      }
     },
     "8af51f35830849809c9e0355800f5081": {
      "model_module": "@jupyter-widgets/controls",
      "model_module_version": "1.5.0",
      "model_name": "HTMLModel",
      "state": {
       "layout": "IPY_MODEL_2d5eb0ac90424013a1f2ee4463c2baf2",
       "style": "IPY_MODEL_0544fbfd462940debed955773e5d8477",
       "value": "<p>edit user input form below</p>"
      }
     },
     "8af97fe2ac7c43739a225386e3db3bf1": {
      "model_module": "@jupyter-widgets/base",
      "model_module_version": "1.2.0",
      "model_name": "LayoutModel",
      "state": {}
     },
     "8b638b9abcf34bad9f7161635fe34953": {
      "model_module": "@jupyter-widgets/controls",
      "model_module_version": "1.5.0",
      "model_name": "HTMLModel",
      "state": {
       "layout": "IPY_MODEL_b8d370604ee94cec9b2bb34c384fc08f",
       "style": "IPY_MODEL_9f5560efd73842bd9e04c82f9a4508aa",
       "value": "<p>General Description of the Model</p>"
      }
     },
     "8d1dc12bbb8c4819a0b7d332aacdfd82": {
      "model_module": "@jupyter-widgets/base",
      "model_module_version": "1.2.0",
      "model_name": "LayoutModel",
      "state": {}
     },
     "8d9910b59d0d4a978d260600f4d32d8b": {
      "model_module": "@jupyter-widgets/controls",
      "model_module_version": "1.5.0",
      "model_name": "HTMLModel",
      "state": {
       "layout": "IPY_MODEL_905678ce2d8d48339a380ebe7b7f6f70",
       "style": "IPY_MODEL_11f2cddd0ea74638bccb54ae361f6035",
       "value": "<p>its a delicious foo cake</p>"
      }
     },
     "8dc246dc50194d5b87e1ac8d52a62ab7": {
      "model_module": "@jupyter-widgets/base",
      "model_module_version": "1.2.0",
      "model_name": "LayoutModel",
      "state": {}
     },
     "8e1eed463de844848d574bd733724423": {
      "model_module": "@jupyter-widgets/base",
      "model_module_version": "1.2.0",
      "model_name": "LayoutModel",
      "state": {}
     },
     "8e57c40c50f149de9166d91ac001848f": {
      "model_module": "@jupyter-widgets/controls",
      "model_module_version": "1.5.0",
      "model_name": "HBoxModel",
      "state": {
       "children": [
        "IPY_MODEL_fd9eaae8c6f34ac48d6eb5ffca7c101d",
        "IPY_MODEL_aa37b6c864b44536b37428d84a1da827"
       ],
       "layout": "IPY_MODEL_e88b152c953f46e3b79f3c356f707099"
      }
     },
     "8f577ee134cc40fab9f748d2d640ba38": {
      "model_module": "@jupyter-widgets/base",
      "model_module_version": "1.2.0",
      "model_name": "LayoutModel",
      "state": {
       "align_items": "stretch",
       "display": "flex",
       "flex_flow": "row",
       "grid_auto_columns": "True",
       "justify_content": "flex-end",
       "width": "90%"
      }
     },
     "905678ce2d8d48339a380ebe7b7f6f70": {
      "model_module": "@jupyter-widgets/base",
      "model_module_version": "1.2.0",
      "model_name": "LayoutModel",
      "state": {}
     },
     "90a0b1582c9443d58706cc05322547dd": {
      "model_module": "@jupyter-widgets/controls",
      "model_module_version": "1.5.0",
      "model_name": "DescriptionStyleModel",
      "state": {
       "description_width": ""
      }
     },
     "90cef368914142c4b311702d15f92a48": {
      "model_module": "@jupyter-widgets/controls",
      "model_module_version": "1.5.0",
      "model_name": "ButtonStyleModel",
      "state": {
       "font_weight": "bold"
      }
     },
     "90f3a16c1c62450189f6a2153d38d961": {
      "model_module": "@jupyter-widgets/controls",
      "model_module_version": "1.5.0",
      "model_name": "HTMLModel",
      "state": {
       "layout": "IPY_MODEL_e3908623ea7641d9a83acd4c20b72ff1",
       "style": "IPY_MODEL_b322e5244e2c4d16b6bcb42b61e49ffd",
       "value": "<p>name</p>"
      }
     },
     "91947e1db108418b9b0f11288d95dafe": {
      "model_module": "@jupyter-widgets/controls",
      "model_module_version": "1.5.0",
      "model_name": "DropdownModel",
      "state": {
       "_options_labels": [
        "asfd",
        "10",
        "asdf"
       ],
       "index": 1,
       "layout": "IPY_MODEL_9c7f3ed541d640a4a460e4ade1c5d36d",
       "style": "IPY_MODEL_bb51a7d5c7f64218b3c4e7918c30a68c"
      }
     },
     "91da44726d784a148eac0c5b2397129f": {
      "model_module": "@jupyter-widgets/base",
      "model_module_version": "1.2.0",
      "model_name": "LayoutModel",
      "state": {}
     },
     "924a4a9d55ca49f39a27347cd2e46642": {
      "model_module": "@jupyter-widgets/base",
      "model_module_version": "1.2.0",
      "model_name": "LayoutModel",
      "state": {
       "align_items": "stretch",
       "display": "flex",
       "flex_flow": "row",
       "grid_auto_columns": "True",
       "justify_content": "flex-end",
       "width": "90%"
      }
     },
     "927b242a9dbb4ba2a34525a859ffe191": {
      "model_module": "@jupyter-widgets/base",
      "model_module_version": "1.2.0",
      "model_name": "LayoutModel",
      "state": {}
     },
     "92add60adb41418cae3668522c24aa50": {
      "model_module": "@jupyter-widgets/controls",
      "model_module_version": "1.5.0",
      "model_name": "HTMLModel",
      "state": {
       "layout": "IPY_MODEL_1cc0c44400be4d29a79c3c6421ed7cdb",
       "style": "IPY_MODEL_225ce4fd185746d8b7cf164b772e4c92",
       "value": "<p>edit user input form below</p>"
      }
     },
     "92c6968d53cf4bc6933e7144724dd1d6": {
      "model_module": "@jupyter-widgets/base",
      "model_module_version": "1.2.0",
      "model_name": "LayoutModel",
      "state": {
       "align_items": "stretch",
       "border": "dashed 0.2px green",
       "display": "flex",
       "flex_flow": "row",
       "grid_auto_columns": "True",
       "justify_content": "flex-start",
       "width": "100%"
      }
     },
     "9304c605982846fbaa015c3a5e773efb": {
      "model_module": "@jupyter-widgets/base",
      "model_module_version": "1.2.0",
      "model_name": "LayoutModel",
      "state": {}
     },
     "93ccf054c8ea48de8e150fe86518b0e8": {
      "model_module": "@jupyter-widgets/controls",
      "model_module_version": "1.5.0",
      "model_name": "ButtonModel",
      "state": {
       "description": "Cancel",
       "layout": "IPY_MODEL_3720a1af61a64bdbbaf707d66ef100de",
       "style": "IPY_MODEL_06ef58123c384a639ab214ac3f36c542"
      }
     },
     "94c20c7dcc12405fad1dcedab620c149": {
      "model_module": "@jupyter-widgets/base",
      "model_module_version": "1.2.0",
      "model_name": "LayoutModel",
      "state": {
       "align_items": "stretch",
       "display": "flex",
       "flex_flow": "row",
       "grid_auto_columns": "True",
       "justify_content": "flex-end",
       "width": "90%"
      }
     },
     "9515d9f9432d40afbe716f9324ff244c": {
      "model_module": "@jupyter-widgets/controls",
      "model_module_version": "1.5.0",
      "model_name": "HBoxModel",
      "state": {
       "children": [
        "IPY_MODEL_a3a051262fa049898d33f6f6fc3de392",
        "IPY_MODEL_88df29be297242dd89564b45a55d9c41"
       ],
       "layout": "IPY_MODEL_560ad93c36884af882314d2849cd9671"
      }
     },
     "953e33fa337a49d4b347e63a928b0780": {
      "model_module": "@jupyter-widgets/base",
      "model_module_version": "1.2.0",
      "model_name": "LayoutModel",
      "state": {}
     },
     "9647741ca828484aac5edbe9786949d4": {
      "model_module": "@jupyter-widgets/controls",
      "model_module_version": "1.5.0",
      "model_name": "ToggleButtonModel",
      "state": {
       "description": "help",
       "icon": "fa-question-circle",
       "layout": "IPY_MODEL_e614ca0a54ec4887ba55f1be1e242ae8",
       "style": "IPY_MODEL_31b8566e9e3f4b71810679698d6c4684",
       "tooltip": "gives guidance"
      }
     },
     "974e242225424df4a76bde9e00bc8058": {
      "model_module": "@jupyter-widgets/controls",
      "model_module_version": "1.5.0",
      "model_name": "HBoxModel",
      "state": {
       "children": [
        "IPY_MODEL_5527f08218ad4288b7d93d56436cc37b"
       ],
       "layout": "IPY_MODEL_b4d8ad19e42d438eacf73550dbeb067b"
      }
     },
     "976ecf8c2f3f47ac9410c84fd4945ec9": {
      "model_module": "@jupyter-widgets/controls",
      "model_module_version": "1.5.0",
      "model_name": "DescriptionStyleModel",
      "state": {
       "description_width": ""
      }
     },
     "977179767d8045a2955bc57711511a53": {
      "model_module": "@jupyter-widgets/controls",
      "model_module_version": "1.5.0",
      "model_name": "FloatSliderModel",
      "state": {
       "layout": "IPY_MODEL_5f6558b729154cb69f4b04c29b0fe4fc",
       "max": 10,
       "style": "IPY_MODEL_04f46649051a4350ad3a5d0835c2c0c0",
       "value": 1
      }
     },
     "97c4719b3ad34aa79eddc37050c9b405": {
      "model_module": "@jupyter-widgets/output",
      "model_module_version": "1.0.0",
      "model_name": "OutputModel",
      "state": {
       "layout": "IPY_MODEL_6d2675f89aeb4166aa3ccf39eb3c2107"
      }
     },
     "9850464c355b4f9dadd46d37514d298c": {
      "model_module": "@jupyter-widgets/controls",
      "model_module_version": "1.5.0",
      "model_name": "HBoxModel",
      "state": {
       "children": [
        "IPY_MODEL_65449a9c3aaf426fbe8a2e746b6441e8",
        "IPY_MODEL_42ddbc05c9b041cb97f42b095fc07005",
        "IPY_MODEL_4f137ce907754ba29eb1a82c51483ad1"
       ],
       "layout": "IPY_MODEL_d70e64f0610d422aa7cc26fea10b6a40"
      }
     },
     "98955df63a704c41891a0871bce0ec21": {
      "model_module": "@jupyter-widgets/output",
      "model_module_version": "1.0.0",
      "model_name": "OutputModel",
      "state": {
       "layout": "IPY_MODEL_586392f821d64e498704dbbd755b24db",
       "outputs": [
        {
         "data": {
          "application/vnd.jupyter.widget-view+json": {
           "model_id": "97c4719b3ad34aa79eddc37050c9b405",
           "version_major": 2,
           "version_minor": 0
          },
          "text/plain": "Output()"
         },
         "metadata": {},
         "output_type": "display_data"
        }
       ]
      }
     },
     "989afa7e716841d095fbb04103d0f9f3": {
      "model_module": "@jupyter-widgets/output",
      "model_module_version": "1.0.0",
      "model_name": "OutputModel",
      "state": {
       "layout": "IPY_MODEL_cfbfb5e4de344de39444aa73991c49b9"
      }
     },
     "99795a15a78d43b79d3220c44f8c7684": {
      "model_module": "@jupyter-widgets/controls",
      "model_module_version": "1.5.0",
      "model_name": "SliderStyleModel",
      "state": {
       "description_width": ""
      }
     },
     "99b362b7d21142cd9f1520120b350509": {
      "model_module": "@jupyter-widgets/controls",
      "model_module_version": "1.5.0",
      "model_name": "ToggleButtonModel",
      "state": {
       "icon": "arrow-down",
       "layout": "IPY_MODEL_a0200d3aab724d188ac54602f5148507",
       "style": "IPY_MODEL_9e24d2feea1c42c3a4f97182997e8df5"
      }
     },
     "99e10e3c75d44661a9a2e0da00b045c3": {
      "model_module": "@jupyter-widgets/base",
      "model_module_version": "1.2.0",
      "model_name": "LayoutModel",
      "state": {
       "width": "auto"
      }
     },
     "9abb55642d6949289e898f72a60f9179": {
      "model_module": "@jupyter-widgets/base",
      "model_module_version": "1.2.0",
      "model_name": "LayoutModel",
      "state": {}
     },
     "9babf4ba3c314d6286d70c7bcb5aff53": {
      "model_module": "@jupyter-widgets/base",
      "model_module_version": "1.2.0",
      "model_name": "LayoutModel",
      "state": {
       "align_items": "stretch",
       "display": "flex",
       "flex_flow": "row",
       "grid_auto_columns": "True",
       "justify_content": "flex-end",
       "width": "90%"
      }
     },
     "9c0bbc6521514e68a32b07bda6495804": {
      "model_module": "@jupyter-widgets/controls",
      "model_module_version": "1.5.0",
      "model_name": "VBoxModel",
      "state": {
       "children": [
        "IPY_MODEL_6df97be488854caca36a3cca9f3d4d06",
        "IPY_MODEL_e35a36b57155481ab0bf266c468cfc39"
       ],
       "layout": "IPY_MODEL_a036e4107e404a3b87991a26d60c4975"
      }
     },
     "9c7f3ed541d640a4a460e4ade1c5d36d": {
      "model_module": "@jupyter-widgets/base",
      "model_module_version": "1.2.0",
      "model_name": "LayoutModel",
      "state": {}
     },
     "9ce129cd5a2840b9a996e3c0489eaa1a": {
      "model_module": "@jupyter-widgets/controls",
      "model_module_version": "1.5.0",
      "model_name": "HBoxModel",
      "state": {
       "children": [
        "IPY_MODEL_cc6552008c4b448cbe1f3d712116c327"
       ],
       "layout": "IPY_MODEL_619a7336b5d14e47a388116170205fb6"
      }
     },
     "9cf79cb205794de6b61d48003edd77b5": {
      "model_module": "@jupyter-widgets/controls",
      "model_module_version": "1.5.0",
      "model_name": "HBoxModel",
      "state": {
       "children": [
        "IPY_MODEL_5200882a014144db9f480ea67095982e",
        "IPY_MODEL_ef449e0978e04e16ae9d415d880742bb"
       ],
       "layout": "IPY_MODEL_0574f86aad5c460c8e1b9139d06b4a29"
      }
     },
     "9d22b719feb7475d9802168e617c904f": {
      "model_module": "@jupyter-widgets/controls",
      "model_module_version": "1.5.0",
      "model_name": "VBoxModel",
      "state": {
       "children": [
        "IPY_MODEL_0e5fc0bc35b94aed9d6069142a3cff74",
        "IPY_MODEL_28bf70641d2a44a0b8b3afaf9ae223e5"
       ],
       "layout": "IPY_MODEL_ece669ce717349a3b865279d1c6bc0b0"
      }
     },
     "9d599a5a066b4270b8a56a8a8244baaa": {
      "model_module": "@jupyter-widgets/controls",
      "model_module_version": "1.5.0",
      "model_name": "DescriptionStyleModel",
      "state": {
       "description_width": ""
      }
     },
     "9d98707aae5f4f9fb4a8ef7cdea9657d": {
      "model_module": "@jupyter-widgets/controls",
      "model_module_version": "1.5.0",
      "model_name": "DescriptionStyleModel",
      "state": {
       "description_width": ""
      }
     },
     "9dc2b15d2c264a279a317b22ba08a184": {
      "model_module": "@jupyter-widgets/base",
      "model_module_version": "1.2.0",
      "model_name": "LayoutModel",
      "state": {}
     },
     "9de526c299804517818b5d6f8ad5d51b": {
      "model_module": "@jupyter-widgets/controls",
      "model_module_version": "1.5.0",
      "model_name": "ButtonStyleModel",
      "state": {
       "font_weight": "bold"
      }
     },
     "9e24d2feea1c42c3a4f97182997e8df5": {
      "model_module": "@jupyter-widgets/controls",
      "model_module_version": "1.5.0",
      "model_name": "DescriptionStyleModel",
      "state": {
       "description_width": ""
      }
     },
     "9e39610ca4e943e481f9689303be7c13": {
      "model_module": "@jupyter-widgets/controls",
      "model_module_version": "1.5.0",
      "model_name": "DescriptionStyleModel",
      "state": {
       "description_width": ""
      }
     },
     "9e47455e97614f38885fadf5f6311043": {
      "model_module": "@jupyter-widgets/controls",
      "model_module_version": "1.5.0",
      "model_name": "HBoxModel",
      "state": {
       "children": [
        "IPY_MODEL_597a1e16d1b1469e9310fa30ccf9ce78",
        "IPY_MODEL_8d9910b59d0d4a978d260600f4d32d8b"
       ],
       "layout": "IPY_MODEL_28d7b5fd0865497a963fbe6a7f35c962"
      }
     },
     "9ea8b55d5144499498b8b73a7d69b68f": {
      "model_module": "@jupyter-widgets/controls",
      "model_module_version": "1.5.0",
      "model_name": "TextareaModel",
      "state": {
       "layout": "IPY_MODEL_dc4ddb8c75b0420992ea4c519e82a354",
       "style": "IPY_MODEL_d007c03f308943b8b3b8593e15db4ffe",
       "value": "asdfasdf"
      }
     },
     "9f5560efd73842bd9e04c82f9a4508aa": {
      "model_module": "@jupyter-widgets/controls",
      "model_module_version": "1.5.0",
      "model_name": "DescriptionStyleModel",
      "state": {
       "description_width": ""
      }
     },
     "9f959f15e879475f80684f3cc27c80af": {
      "model_module": "@jupyter-widgets/controls",
      "model_module_version": "1.5.0",
      "model_name": "HTMLModel",
      "state": {
       "layout": "IPY_MODEL_ae198816f6bb4943995ecc8e520279cd",
       "style": "IPY_MODEL_7eb91ca162824384bb78ee394d796868",
       "value": "<p>foo</p>"
      }
     },
     "9fce38f8b5e54ef5b0c85f71bd415c60": {
      "model_module": "@jupyter-widgets/controls",
      "model_module_version": "1.5.0",
      "model_name": "GridBoxModel",
      "state": {
       "children": [
        "IPY_MODEL_04cf50a7e8f647cf9662ea30f4eadbd2",
        "IPY_MODEL_2b3468c5edf9481980c7a894936f0f55",
        "IPY_MODEL_d3f10b6c9ba843d1b599ff593f224810"
       ],
       "layout": "IPY_MODEL_c9e13decd27241d592a4cfdead01af44"
      }
     },
     "a014efef2fc84e5591483776f84b9f2e": {
      "model_module": "@jupyter-widgets/base",
      "model_module_version": "1.2.0",
      "model_name": "LayoutModel",
      "state": {}
     },
     "a0200d3aab724d188ac54602f5148507": {
      "model_module": "@jupyter-widgets/base",
      "model_module_version": "1.2.0",
      "model_name": "LayoutModel",
      "state": {}
     },
     "a031213cedb441c2b1d7f72032680511": {
      "model_module": "@jupyter-widgets/base",
      "model_module_version": "1.2.0",
      "model_name": "LayoutModel",
      "state": {}
     },
     "a036e4107e404a3b87991a26d60c4975": {
      "model_module": "@jupyter-widgets/base",
      "model_module_version": "1.2.0",
      "model_name": "LayoutModel",
      "state": {}
     },
     "a0ba0e56cf9649f189157f6d2f75741d": {
      "model_module": "@jupyter-widgets/base",
      "model_module_version": "1.2.0",
      "model_name": "LayoutModel",
      "state": {}
     },
     "a14d950a706d43f7a6d3defaff89b0f1": {
      "model_module": "@jupyter-widgets/base",
      "model_module_version": "1.2.0",
      "model_name": "LayoutModel",
      "state": {
       "align_items": "stretch",
       "display": "flex",
       "flex_flow": "row",
       "grid_auto_columns": "True",
       "justify_content": "flex-start",
       "width": "80%"
      }
     },
     "a2d6d053a3d646acb0bc1cd26e575422": {
      "model_module": "@jupyter-widgets/controls",
      "model_module_version": "1.5.0",
      "model_name": "HBoxModel",
      "state": {
       "children": [
        "IPY_MODEL_e1d3f0f5a4314997ab5af98e7411c71b",
        "IPY_MODEL_73dc9a396d384cd29a0edc4035b6e18a"
       ],
       "layout": "IPY_MODEL_ad135c1b0d324a989e20f0a9bcf25faf"
      }
     },
     "a2f252bf785b484f98a98dc5a00325e1": {
      "model_module": "@jupyter-widgets/controls",
      "model_module_version": "1.5.0",
      "model_name": "DescriptionStyleModel",
      "state": {
       "description_width": ""
      }
     },
     "a33279c7dc0447588213aa2ce4280210": {
      "model_module": "@jupyter-widgets/base",
      "model_module_version": "1.2.0",
      "model_name": "LayoutModel",
      "state": {}
     },
     "a3702c9ac8ed4ffb97a61e3d2ca620f3": {
      "model_module": "@jupyter-widgets/base",
      "model_module_version": "1.2.0",
      "model_name": "LayoutModel",
      "state": {
       "align_items": "stretch",
       "border": "dashed 0.2px green",
       "display": "flex",
       "flex_flow": "row",
       "grid_auto_columns": "True",
       "justify_content": "flex-start",
       "width": "100%"
      }
     },
     "a3a051262fa049898d33f6f6fc3de392": {
      "model_module": "@jupyter-widgets/controls",
      "model_module_version": "1.5.0",
      "model_name": "ToggleButtonModel",
      "state": {
       "icon": "arrow-down",
       "layout": "IPY_MODEL_60c8b8dcf00a461aa1dcc90d47468d21",
       "style": "IPY_MODEL_60e560d0eb41438694322ecd20aeb2f7"
      }
     },
     "a3a2d4c835dd4858b1bfefb9eab53e3e": {
      "model_module": "@jupyter-widgets/controls",
      "model_module_version": "1.5.0",
      "model_name": "HBoxModel",
      "state": {
       "children": [
        "IPY_MODEL_242591f23ba044bfbaeb7c5c56a36b65",
        "IPY_MODEL_1bbc0463882748568181140f4a3380a5"
       ],
       "layout": "IPY_MODEL_8f577ee134cc40fab9f748d2d640ba38"
      }
     },
     "a435d47d5db048ff9ff79c17d6c6a46e": {
      "model_module": "@jupyter-widgets/controls",
      "model_module_version": "1.5.0",
      "model_name": "HBoxModel",
      "state": {
       "children": [
        "IPY_MODEL_64af941fd18f4cc29cb100ff0b72dff1"
       ],
       "layout": "IPY_MODEL_c7f774a428da4ff6aee9b125db80b16b"
      }
     },
     "a4691bbf7b8142bb87bfd0f98041142f": {
      "model_module": "@jupyter-widgets/output",
      "model_module_version": "1.0.0",
      "model_name": "OutputModel",
      "state": {
       "layout": "IPY_MODEL_e15bcf19c0bd418c8f4033983c994516"
      }
     },
     "a4c0ba6fdb2c41009e7570aec024b8f6": {
      "model_module": "@jupyter-widgets/controls",
      "model_module_version": "1.5.0",
      "model_name": "HTMLModel",
      "state": {
       "layout": "IPY_MODEL_70911acda28a4458a79a09ccc5f3c467",
       "style": "IPY_MODEL_aacbb1a594c444d783e4e414dbbfd7a8",
       "value": "<p>name</p>"
      }
     },
     "a522f48e8e1743d78f7e522780e22e29": {
      "model_module": "@jupyter-widgets/base",
      "model_module_version": "1.2.0",
      "model_name": "LayoutModel",
      "state": {
       "grid_area": "filename",
       "width": "auto"
      }
     },
     "a6c0a5f7157641249aadc0e821b618a6": {
      "model_module": "@jupyter-widgets/base",
      "model_module_version": "1.2.0",
      "model_name": "LayoutModel",
      "state": {
       "align_items": "stretch",
       "display": "flex",
       "flex_flow": "row",
       "grid_auto_columns": "True",
       "justify_content": "flex-start",
       "width": "80%"
      }
     },
     "a6d631a30fbe4c049a3fc82b98f38ab6": {
      "model_module": "@jupyter-widgets/base",
      "model_module_version": "1.2.0",
      "model_name": "LayoutModel",
      "state": {}
     },
     "a71c16fb330b4772ad037a5083ef05fb": {
      "model_module": "@jupyter-widgets/controls",
      "model_module_version": "1.5.0",
      "model_name": "HBoxModel",
      "state": {
       "children": [
        "IPY_MODEL_c053d0fd58324f8c8b570da631adba59",
        "IPY_MODEL_ef1eb2fae0e64eb093f3610e968e4a25"
       ],
       "layout": "IPY_MODEL_c31e099ceaef446294d61120695a89a4"
      }
     },
     "a8540ee9ca0c41d3a2450b9f663308f1": {
      "model_module": "@jupyter-widgets/output",
      "model_module_version": "1.0.0",
      "model_name": "OutputModel",
      "state": {
       "layout": "IPY_MODEL_daee6cdeb963471f8d3898c9f0ba06d5"
      }
     },
     "a886daae15934fb082541f6bfb6aa39c": {
      "model_module": "@jupyter-widgets/controls",
      "model_module_version": "1.5.0",
      "model_name": "HTMLModel",
      "state": {
       "layout": "IPY_MODEL_20bef41c89004b9bbca777d54dd0ddd4",
       "style": "IPY_MODEL_8757fb233cf44b7493d2494d003d3239",
       "value": "<p>fus foo ous o</p>"
      }
     },
     "a8c422165c5b4a09b733235627218d51": {
      "model_module": "@jupyter-widgets/output",
      "model_module_version": "1.0.0",
      "model_name": "OutputModel",
      "state": {
       "layout": "IPY_MODEL_2de546f6205d46da825afc1d697f813a"
      }
     },
     "a990391fd57147788917a3d0973582f6": {
      "model_module": "@jupyter-widgets/output",
      "model_module_version": "1.0.0",
      "model_name": "OutputModel",
      "state": {
       "layout": "IPY_MODEL_8d1dc12bbb8c4819a0b7d332aacdfd82"
      }
     },
     "aa204b1b48ab41b4aa5eec994f9bef24": {
      "model_module": "@jupyter-widgets/controls",
      "model_module_version": "1.5.0",
      "model_name": "DescriptionStyleModel",
      "state": {
       "description_width": ""
      }
     },
     "aa37b6c864b44536b37428d84a1da827": {
      "model_module": "@jupyter-widgets/controls",
      "model_module_version": "1.5.0",
      "model_name": "HTMLModel",
      "state": {
       "layout": "IPY_MODEL_7f71e8361b4c413c86f533535cbd0c6f",
       "style": "IPY_MODEL_9d599a5a066b4270b8a56a8a8244baaa",
       "value": "<p>input docx filepath</p>"
      }
     },
     "aacbb1a594c444d783e4e414dbbfd7a8": {
      "model_module": "@jupyter-widgets/controls",
      "model_module_version": "1.5.0",
      "model_name": "DescriptionStyleModel",
      "state": {
       "description_width": ""
      }
     },
     "ad135c1b0d324a989e20f0a9bcf25faf": {
      "model_module": "@jupyter-widgets/base",
      "model_module_version": "1.2.0",
      "model_name": "LayoutModel",
      "state": {
       "align_items": "stretch",
       "display": "flex",
       "flex_flow": "row",
       "grid_auto_columns": "True",
       "justify_content": "flex-start",
       "width": "80%"
      }
     },
     "ad4819b8b9d7455a9477a6acc93698e6": {
      "model_module": "@jupyter-widgets/controls",
      "model_module_version": "1.5.0",
      "model_name": "DescriptionStyleModel",
      "state": {
       "description_width": ""
      }
     },
     "ae198816f6bb4943995ecc8e520279cd": {
      "model_module": "@jupyter-widgets/base",
      "model_module_version": "1.2.0",
      "model_name": "LayoutModel",
      "state": {}
     },
     "ae501ec3a8ad43af801693863426b689": {
      "model_module": "@jupyter-widgets/base",
      "model_module_version": "1.2.0",
      "model_name": "LayoutModel",
      "state": {
       "align_items": "stretch",
       "border": "dashed 0.2px green",
       "display": "flex",
       "flex_flow": "row",
       "grid_auto_columns": "True",
       "justify_content": "flex-start",
       "width": "100%"
      }
     },
     "aee98cc9794749ee8e158cf1965f7ad0": {
      "model_module": "@jupyter-widgets/base",
      "model_module_version": "1.2.0",
      "model_name": "LayoutModel",
      "state": {
       "align_items": "stretch",
       "border": "dashed 0.2px green",
       "display": "flex",
       "flex_flow": "row",
       "grid_auto_columns": "True",
       "justify_content": "flex-start",
       "width": "100%"
      }
     },
     "afc72b2d28424fb785af8826b2451b14": {
      "model_module": "@jupyter-widgets/controls",
      "model_module_version": "1.5.0",
      "model_name": "DescriptionStyleModel",
      "state": {
       "description_width": ""
      }
     },
     "aff38fe008ae4c22b9971ced2eb81719": {
      "model_module": "@jupyter-widgets/base",
      "model_module_version": "1.2.0",
      "model_name": "LayoutModel",
      "state": {}
     },
     "b034fd396dc743d7a02fe3ea6b8855f1": {
      "model_module": "@jupyter-widgets/base",
      "model_module_version": "1.2.0",
      "model_name": "LayoutModel",
      "state": {}
     },
     "b10456b1be4643f4a223bbf951a3b953": {
      "model_module": "@jupyter-widgets/controls",
      "model_module_version": "1.5.0",
      "model_name": "HTMLModel",
      "state": {
       "layout": "IPY_MODEL_061219d3054249448006aa2e9ea8ac3f",
       "style": "IPY_MODEL_1d56e998037e40b29a1bd87d459ada97",
       "value": "<p>reous foo ous foo st</p>"
      }
     },
     "b1426f5e8dd54adeba02e61ad7962628": {
      "model_module": "@jupyter-widgets/base",
      "model_module_version": "1.2.0",
      "model_name": "LayoutModel",
      "state": {}
     },
     "b17281c250a64ebbbdc8b8177bdc4802": {
      "model_module": "@jupyter-widgets/output",
      "model_module_version": "1.0.0",
      "model_name": "OutputModel",
      "state": {
       "layout": "IPY_MODEL_ee637fde2e2c43b59b9b07a816a445e1"
      }
     },
     "b1a7f3a4a8664210acfee2484183a5dc": {
      "model_module": "@jupyter-widgets/base",
      "model_module_version": "1.2.0",
      "model_name": "LayoutModel",
      "state": {}
     },
     "b1b6b85e6fab4f48999672b071aa13c0": {
      "model_module": "@jupyter-widgets/controls",
      "model_module_version": "1.5.0",
      "model_name": "ButtonStyleModel",
      "state": {}
     },
     "b2c8cee4967640d188e57805073dacd3": {
      "model_module": "@jupyter-widgets/controls",
      "model_module_version": "1.5.0",
      "model_name": "HBoxModel",
      "state": {
       "children": [
        "IPY_MODEL_d5cbb1ee8a98475c90a183fe18c45bb7",
        "IPY_MODEL_309e1e241acc41e0a95fc6b806cd39f9"
       ],
       "layout": "IPY_MODEL_71e126a3b056495d85f880db4388bbe7"
      }
     },
     "b2cef90eff5949d5a3db9affd036cfff": {
      "model_module": "@jupyter-widgets/controls",
      "model_module_version": "1.5.0",
      "model_name": "TextModel",
      "state": {
       "layout": "IPY_MODEL_b46da2da3c4542c9ac73c15f7d74a82f",
       "style": "IPY_MODEL_832a27184da44c0da87f71fd38dd59bb",
       "value": "YY-OverheatingAnalysis"
      }
     },
     "b322e5244e2c4d16b6bcb42b61e49ffd": {
      "model_module": "@jupyter-widgets/controls",
      "model_module_version": "1.5.0",
      "model_name": "DescriptionStyleModel",
      "state": {
       "description_width": ""
      }
     },
     "b330fb131c084faea9bff25391c71d46": {
      "model_module": "@jupyter-widgets/controls",
      "model_module_version": "1.5.0",
      "model_name": "HTMLModel",
      "state": {
       "layout": "IPY_MODEL_e5b11403d093400abbe88543a701c80e",
       "style": "IPY_MODEL_20735a656ff54f8cbba0720b2bb6a157",
       "value": "<p>edit user input form below</p>"
      }
     },
     "b33ce88225fc41fba96fad813d1d6635": {
      "model_module": "@jupyter-widgets/controls",
      "model_module_version": "1.5.0",
      "model_name": "VBoxModel",
      "state": {
       "layout": "IPY_MODEL_19115544ddbf4aab83d736e13673692b"
      }
     },
     "b3a4d809fa2b4706b3b31f2c75aad70c": {
      "model_module": "@jupyter-widgets/controls",
      "model_module_version": "1.5.0",
      "model_name": "HBoxModel",
      "state": {
       "children": [
        "IPY_MODEL_d8ad8bc000e642089c5c3053810f0659"
       ],
       "layout": "IPY_MODEL_b48e7880967e457b9a219353c263a56c"
      }
     },
     "b46da2da3c4542c9ac73c15f7d74a82f": {
      "model_module": "@jupyter-widgets/base",
      "model_module_version": "1.2.0",
      "model_name": "LayoutModel",
      "state": {}
     },
     "b48e7880967e457b9a219353c263a56c": {
      "model_module": "@jupyter-widgets/base",
      "model_module_version": "1.2.0",
      "model_name": "LayoutModel",
      "state": {
       "align_items": "stretch",
       "border": "dashed 0.2px green",
       "display": "flex",
       "flex_flow": "row",
       "grid_auto_columns": "True",
       "justify_content": "flex-start",
       "width": "100%"
      }
     },
     "b4d8ad19e42d438eacf73550dbeb067b": {
      "model_module": "@jupyter-widgets/base",
      "model_module_version": "1.2.0",
      "model_name": "LayoutModel",
      "state": {
       "align_items": "stretch",
       "border": "dashed 0.2px green",
       "display": "flex",
       "flex_flow": "row",
       "grid_auto_columns": "True",
       "justify_content": "flex-start",
       "width": "100%"
      }
     },
     "b50935b3da9e4707a5da91b23d7e4975": {
      "model_module": "@jupyter-widgets/base",
      "model_module_version": "1.2.0",
      "model_name": "LayoutModel",
      "state": {}
     },
     "b52e638ab6ef40b9a740a71642470f46": {
      "model_module": "@jupyter-widgets/base",
      "model_module_version": "1.2.0",
      "model_name": "LayoutModel",
      "state": {
       "align_items": "stretch",
       "display": "flex",
       "flex_flow": "row",
       "grid_auto_columns": "True",
       "justify_content": "flex-start",
       "width": "80%"
      }
     },
     "b7688b8e24694558a2e19a34200747c9": {
      "model_module": "@jupyter-widgets/base",
      "model_module_version": "1.2.0",
      "model_name": "LayoutModel",
      "state": {
       "align_items": "stretch",
       "display": "flex",
       "flex_flow": "row",
       "grid_auto_columns": "True",
       "justify_content": "flex-start",
       "width": "80%"
      }
     },
     "b7f7ab998cfe4022965698a60763380f": {
      "model_module": "@jupyter-widgets/controls",
      "model_module_version": "1.5.0",
      "model_name": "CheckboxModel",
      "state": {
       "disabled": false,
       "layout": "IPY_MODEL_a33279c7dc0447588213aa2ce4280210",
       "style": "IPY_MODEL_be68d1e40b884e72bb1a6e0695650806",
       "value": true
      }
     },
     "b84882d0c7b8454cbc19bfb5beaf9e99": {
      "model_module": "@jupyter-widgets/base",
      "model_module_version": "1.2.0",
      "model_name": "LayoutModel",
      "state": {
       "align_items": "stretch",
       "border": "dashed 0.2px green",
       "display": "flex",
       "flex_flow": "row",
       "grid_auto_columns": "True",
       "justify_content": "flex-start",
       "width": "100%"
      }
     },
     "b8d370604ee94cec9b2bb34c384fc08f": {
      "model_module": "@jupyter-widgets/base",
      "model_module_version": "1.2.0",
      "model_name": "LayoutModel",
      "state": {}
     },
     "b97b64b896f541cdb41a56b7c0cae1eb": {
      "model_module": "@jupyter-widgets/base",
      "model_module_version": "1.2.0",
      "model_name": "LayoutModel",
      "state": {
       "align_items": "stretch",
       "display": "flex",
       "flex_flow": "row",
       "grid_auto_columns": "True",
       "justify_content": "flex-end",
       "width": "90%"
      }
     },
     "b9cc3f0140a04170900f23a1959e6687": {
      "model_module": "@jupyter-widgets/controls",
      "model_module_version": "1.5.0",
      "model_name": "HTMLModel",
      "state": {
       "layout": "IPY_MODEL_3c45ec1a0c254cb392fc38cbc324a233",
       "style": "IPY_MODEL_575a1e660e434172884cdba8726910f9",
       "value": "<p>label</p>"
      }
     },
     "b9e07737bbaf4a35b7c689a2956562d9": {
      "model_module": "@jupyter-widgets/base",
      "model_module_version": "1.2.0",
      "model_name": "LayoutModel",
      "state": {
       "display": "flex",
       "flex_flow": "row",
       "grid_auto_columns": "False",
       "justify_content": "flex-start",
       "width": "100%"
      }
     },
     "b9fbcb87e55546fa925b748f43678932": {
      "model_module": "@jupyter-widgets/controls",
      "model_module_version": "1.5.0",
      "model_name": "DescriptionStyleModel",
      "state": {
       "description_width": ""
      }
     },
     "ba0f3137c1474bd88f20c85b73f9e294": {
      "model_module": "@jupyter-widgets/controls",
      "model_module_version": "1.5.0",
      "model_name": "DescriptionStyleModel",
      "state": {
       "description_width": ""
      }
     },
     "ba36314dc4d44f3aaabc05dd4b117735": {
      "model_module": "@jupyter-widgets/controls",
      "model_module_version": "1.5.0",
      "model_name": "VBoxModel",
      "state": {
       "children": [
        "IPY_MODEL_33aab597e9a6413b8498c842505f813f",
        "IPY_MODEL_c7234387738249ceab67348d2ed2fb56",
        "IPY_MODEL_a435d47d5db048ff9ff79c17d6c6a46e",
        "IPY_MODEL_6dd58d46e80a437d9a115f73c124adff",
        "IPY_MODEL_baf19ef790b4476ca6a88e73a4ea5e54",
        "IPY_MODEL_04efaf7f9d0b40aa8fbc164aa0aa2a1f",
        "IPY_MODEL_238f8a1be5904ca181e91e21ed64dca3",
        "IPY_MODEL_8475c098ecd140369ebe00696d535ff3"
       ],
       "layout": "IPY_MODEL_f898207019bf43b99c2f32a27900cfa9"
      }
     },
     "ba71386a64ca4f9486491ed99fb1eef2": {
      "model_module": "@jupyter-widgets/controls",
      "model_module_version": "1.5.0",
      "model_name": "DescriptionStyleModel",
      "state": {
       "description_width": ""
      }
     },
     "bac4a685d8304f3f8a105d9a5e1f5a5b": {
      "model_module": "@jupyter-widgets/controls",
      "model_module_version": "1.5.0",
      "model_name": "DescriptionStyleModel",
      "state": {
       "description_width": ""
      }
     },
     "baf19ef790b4476ca6a88e73a4ea5e54": {
      "model_module": "@jupyter-widgets/controls",
      "model_module_version": "1.5.0",
      "model_name": "HBoxModel",
      "state": {
       "children": [
        "IPY_MODEL_124d002ce8e743298a588f26dbda48d3"
       ],
       "layout": "IPY_MODEL_e22a8ddf2409468f8434f1e0c1fa7505"
      }
     },
     "bb4b6d296f60466f81f8db095180d274": {
      "model_module": "@jupyter-widgets/controls",
      "model_module_version": "1.5.0",
      "model_name": "HBoxModel",
      "state": {
       "children": [
        "IPY_MODEL_d2fee00af4544dfa88031ef5204866e2",
        "IPY_MODEL_3a7a3c52af5a40ed90d30b4dd28a0876"
       ],
       "layout": "IPY_MODEL_e41dcdc196804688b4085f4026e11646"
      }
     },
     "bb51a7d5c7f64218b3c4e7918c30a68c": {
      "model_module": "@jupyter-widgets/controls",
      "model_module_version": "1.5.0",
      "model_name": "DescriptionStyleModel",
      "state": {
       "description_width": ""
      }
     },
     "bb5b00d18fe04f6aa124669a4cae1663": {
      "model_module": "@jupyter-widgets/controls",
      "model_module_version": "1.5.0",
      "model_name": "HBoxModel",
      "state": {
       "children": [
        "IPY_MODEL_b2cef90eff5949d5a3db9affd036cfff",
        "IPY_MODEL_044e95c1e09746de8d1334236a787f08"
       ],
       "layout": "IPY_MODEL_051c8c0ad4674432bd3a4b23ba972303"
      }
     },
     "bc64a64ded9340c09f719a13b036ec49": {
      "model_module": "@jupyter-widgets/controls",
      "model_module_version": "1.5.0",
      "model_name": "HTMLModel",
      "state": {
       "layout": "IPY_MODEL_26d5aab41d694d23ba102516b1d45787",
       "style": "IPY_MODEL_afc72b2d28424fb785af8826b2451b14",
       "value": "<p>fpth_in</p>"
      }
     },
     "bc6c1a2c283047b18eb20bb7d9875442": {
      "model_module": "@jupyter-widgets/controls",
      "model_module_version": "1.5.0",
      "model_name": "DescriptionStyleModel",
      "state": {
       "description_width": ""
      }
     },
     "bc94243bfdba40ff9f069d40dcc87f14": {
      "model_module": "@jupyter-widgets/base",
      "model_module_version": "1.2.0",
      "model_name": "LayoutModel",
      "state": {}
     },
     "bd633914adc544d68b6a25dcaee9b4c0": {
      "model_module": "@jupyter-widgets/controls",
      "model_module_version": "1.5.0",
      "model_name": "ButtonModel",
      "state": {
       "button_style": "success",
       "description": "save changes",
       "layout": "IPY_MODEL_741ee220bbbe44649ca8c75b1c2302dc",
       "style": "IPY_MODEL_69a5e82e271742d88f1d4a3b0e15b70c"
      }
     },
     "be5c5c440fbb462c93b1421262ebc048": {
      "model_module": "@jupyter-widgets/controls",
      "model_module_version": "1.5.0",
      "model_name": "DescriptionStyleModel",
      "state": {
       "description_width": ""
      }
     },
     "be68d1e40b884e72bb1a6e0695650806": {
      "model_module": "@jupyter-widgets/controls",
      "model_module_version": "1.5.0",
      "model_name": "DescriptionStyleModel",
      "state": {
       "description_width": ""
      }
     },
     "beaa3ef4a4174d45af44c7dc0b582732": {
      "model_module": "@jupyter-widgets/controls",
      "model_module_version": "1.5.0",
      "model_name": "HBoxModel",
      "state": {
       "children": [
        "IPY_MODEL_052ff1e9dc5a46fa86d5984d9e166003",
        "IPY_MODEL_d2dfc7579afc42aba9e9647479f22cdf"
       ],
       "layout": "IPY_MODEL_806725c34e914a0fb33932343b08270e"
      }
     },
     "bee3109aa84a44bdb92351930c048336": {
      "model_module": "@jupyter-widgets/controls",
      "model_module_version": "1.5.0",
      "model_name": "ToggleButtonModel",
      "state": {
       "icon": "arrow-down",
       "layout": "IPY_MODEL_6f8ddd7035fb406d8f98a19c504397c7",
       "style": "IPY_MODEL_73beca7949e14851a6d15f7df9111f68"
      }
     },
     "befca5db598e40ffbfe87e615a24905d": {
      "model_module": "@jupyter-widgets/base",
      "model_module_version": "1.2.0",
      "model_name": "LayoutModel",
      "state": {
       "align_items": "stretch",
       "display": "flex",
       "flex_flow": "row",
       "grid_auto_columns": "True",
       "justify_content": "flex-start",
       "width": "80%"
      }
     },
     "bf4109bf18074b9d9634a01b1bc61ad7": {
      "model_module": "@jupyter-widgets/controls",
      "model_module_version": "1.5.0",
      "model_name": "DescriptionStyleModel",
      "state": {
       "description_width": ""
      }
     },
     "bf5b7da6f6fb4d58bd5307ad26ea9070": {
      "model_module": "@jupyter-widgets/controls",
      "model_module_version": "1.5.0",
      "model_name": "HBoxModel",
      "state": {
       "children": [
        "IPY_MODEL_1415c7c5532d4bb19b3799f64fd8a064",
        "IPY_MODEL_462558b3ab3e4efe909bc3a256be9322"
       ],
       "layout": "IPY_MODEL_dfa440f9c7f24f879ae29877f9e09fcb"
      }
     },
     "bf83880581814c96b6b8d761a7d3f757": {
      "model_module": "@jupyter-widgets/base",
      "model_module_version": "1.2.0",
      "model_name": "LayoutModel",
      "state": {}
     },
     "c053d0fd58324f8c8b570da631adba59": {
      "model_module": "@jupyter-widgets/controls",
      "model_module_version": "1.5.0",
      "model_name": "HTMLModel",
      "state": {
       "layout": "IPY_MODEL_edfd073c2ef64b1b9c2c775289183bff",
       "style": "IPY_MODEL_f7bc9b6a793349368e3d44b570ce1a92",
       "value": "<p>fus foo ous o</p>"
      }
     },
     "c0e179272233466dbed57e7b02ec7f49": {
      "model_module": "@jupyter-widgets/base",
      "model_module_version": "1.2.0",
      "model_name": "LayoutModel",
      "state": {
       "display": "flex",
       "flex_flow": "row",
       "grid_auto_columns": "False",
       "justify_content": "flex-start",
       "width": "100%"
      }
     },
     "c127c8a714a947dbaa3ef32ef2097770": {
      "model_module": "@jupyter-widgets/controls",
      "model_module_version": "1.5.0",
      "model_name": "FloatTextModel",
      "state": {
       "layout": "IPY_MODEL_c5b0703ccacb4794884f2d8eb351d8f6",
       "step": null,
       "style": "IPY_MODEL_250fe176774c4bf88190ee7261aabd81",
       "value": 9
      }
     },
     "c1a2ce28c7ff4a6599b037b00aebd5cc": {
      "model_module": "@jupyter-widgets/controls",
      "model_module_version": "1.5.0",
      "model_name": "ToggleButtonModel",
      "state": {
       "button_style": "info",
       "description": "inputs from file",
       "layout": "IPY_MODEL_736cd58eed734093b528dd6e0f03df1d",
       "style": "IPY_MODEL_d2e3a1d842834e9786b31adb479eff8a"
      }
     },
     "c2fef7b1db9f437989b7a9f98104ac7d": {
      "model_module": "@jupyter-widgets/controls",
      "model_module_version": "1.5.0",
      "model_name": "TextareaModel",
      "state": {
       "layout": "IPY_MODEL_69175626b5474ecca79108f3e74dd1fb",
       "style": "IPY_MODEL_d00f7b5a18e643feba1137909bab11b9"
      }
     },
     "c3085b9b628940e1942b1f94e1c816c2": {
      "model_module": "@jupyter-widgets/controls",
      "model_module_version": "1.5.0",
      "model_name": "HTMLModel",
      "state": {
       "layout": "IPY_MODEL_615cc83ec15343b8aba5e020b8aa1efc",
       "style": "IPY_MODEL_d7dbc9553328425fab3f5c4c29e2153e",
       "value": "<p>its a foo cake</p>"
      }
     },
     "c31e099ceaef446294d61120695a89a4": {
      "model_module": "@jupyter-widgets/base",
      "model_module_version": "1.2.0",
      "model_name": "LayoutModel",
      "state": {
       "align_items": "stretch",
       "display": "flex",
       "flex_flow": "row",
       "grid_auto_columns": "True",
       "justify_content": "flex-end",
       "width": "90%"
      }
     },
     "c429e6afb1c74810a4be661824729fa9": {
      "model_module": "@jupyter-widgets/base",
      "model_module_version": "1.2.0",
      "model_name": "LayoutModel",
      "state": {
       "align_items": "stretch",
       "display": "flex",
       "flex_flow": "row",
       "grid_auto_columns": "True",
       "justify_content": "flex-start",
       "width": "80%"
      }
     },
     "c4cb1c2c0c90439e928bdb07c13becdc": {
      "model_module": "@jupyter-widgets/base",
      "model_module_version": "1.2.0",
      "model_name": "LayoutModel",
      "state": {}
     },
     "c4d0119e9d574893a6b6f277279e9fe4": {
      "model_module": "@jupyter-widgets/controls",
      "model_module_version": "1.5.0",
      "model_name": "DescriptionStyleModel",
      "state": {
       "description_width": ""
      }
     },
     "c4f6ebe1eca34eee8dcacf8c21987375": {
      "model_module": "@jupyter-widgets/controls",
      "model_module_version": "1.5.0",
      "model_name": "HBoxModel",
      "state": {
       "children": [
        "IPY_MODEL_2ef217d26de8473eaaf24bbdbcf78088"
       ],
       "layout": "IPY_MODEL_673175aa2a6c4366bbe542d0d1d705b8"
      }
     },
     "c5b0703ccacb4794884f2d8eb351d8f6": {
      "model_module": "@jupyter-widgets/base",
      "model_module_version": "1.2.0",
      "model_name": "LayoutModel",
      "state": {}
     },
     "c6fd2d27d428409087747e729159e72a": {
      "model_module": "@jupyter-widgets/controls",
      "model_module_version": "1.5.0",
      "model_name": "VBoxModel",
      "state": {
       "children": [
        "IPY_MODEL_e93c49bdcaf846b09ef655c4e69a1136",
        "IPY_MODEL_ca0047c0369042b08c479e76507b16b7",
        "IPY_MODEL_57c41c19bf6a40d7bbc5a4bd8b2ba2ac",
        "IPY_MODEL_6a448b8232a94bbca8a825a136df5e91",
        "IPY_MODEL_078d2a057fac46dca128457502b75ccf",
        "IPY_MODEL_b3a4d809fa2b4706b3b31f2c75aad70c"
       ],
       "layout": "IPY_MODEL_62f956033c2c4ff7a4feef5ce348c5fc"
      }
     },
     "c7234387738249ceab67348d2ed2fb56": {
      "model_module": "@jupyter-widgets/controls",
      "model_module_version": "1.5.0",
      "model_name": "HBoxModel",
      "state": {
       "children": [
        "IPY_MODEL_f28452d561cd4d699c0b8626d8c77d81"
       ],
       "layout": "IPY_MODEL_1c900186ce1240a5a410097ffab9cc98"
      }
     },
     "c72f11ba59fa40ffbf99b0d5686a4ebd": {
      "model_module": "@jupyter-widgets/output",
      "model_module_version": "1.0.0",
      "model_name": "OutputModel",
      "state": {
       "layout": "IPY_MODEL_4f20e11c547d4e1d83fd9bcfb8b02bdf"
      }
     },
     "c7975f23e9174e48ac6e87e0ab73134d": {
      "model_module": "@jupyter-widgets/base",
      "model_module_version": "1.2.0",
      "model_name": "LayoutModel",
      "state": {
       "align_items": "stretch",
       "border": "dashed 0.2px green",
       "display": "flex",
       "flex_flow": "row",
       "grid_auto_columns": "True",
       "justify_content": "flex-start",
       "width": "100%"
      }
     },
     "c7f774a428da4ff6aee9b125db80b16b": {
      "model_module": "@jupyter-widgets/base",
      "model_module_version": "1.2.0",
      "model_name": "LayoutModel",
      "state": {
       "align_items": "stretch",
       "border": "dashed 0.2px green",
       "display": "flex",
       "flex_flow": "row",
       "grid_auto_columns": "True",
       "justify_content": "flex-start",
       "width": "100%"
      }
     },
     "c8246e7f81414ad6bcfda8173a9d4c65": {
      "model_module": "@jupyter-widgets/controls",
      "model_module_version": "1.5.0",
      "model_name": "HTMLModel",
      "state": {
       "layout": "IPY_MODEL_8af97fe2ac7c43739a225386e3db3bf1",
       "style": "IPY_MODEL_0ebcc49b2dbe45b6861705e4a8818828",
       "value": "<p>File Prefix</p>"
      }
     },
     "c87ac231cbbb45d2a33f7f5ca68e0d2e": {
      "model_module": "@jupyter-widgets/controls",
      "model_module_version": "1.5.0",
      "model_name": "HBoxModel",
      "state": {
       "children": [
        "IPY_MODEL_0be7a0337660440398d56231abbeee43",
        "IPY_MODEL_93ccf054c8ea48de8e150fe86518b0e8",
        "IPY_MODEL_223a4181049942638fc6d4b7649efe4b"
       ],
       "layout": "IPY_MODEL_79d9054ee10a4f358e533b0b8b88776c"
      }
     },
     "c8c5f03b07f94761aaaad11ad872c715": {
      "model_module": "@jupyter-widgets/controls",
      "model_module_version": "1.5.0",
      "model_name": "DescriptionStyleModel",
      "state": {
       "description_width": ""
      }
     },
     "c9493b41770b4bb38e22ee26d4c49d1f": {
      "model_module": "@jupyter-widgets/controls",
      "model_module_version": "1.5.0",
      "model_name": "HBoxModel",
      "state": {
       "children": [
        "IPY_MODEL_247c30e97e504a5f972dc2a3e4d8f494",
        "IPY_MODEL_f66a88d64bf849059c212613700c273e"
       ],
       "layout": "IPY_MODEL_f92e2168995a4c46b496848a2cc31816"
      }
     },
     "c9e13decd27241d592a4cfdead01af44": {
      "model_module": "@jupyter-widgets/base",
      "model_module_version": "1.2.0",
      "model_name": "LayoutModel",
      "state": {
       "display": "none",
       "grid_gap": "0px 0px",
       "grid_template_areas": "\n                    'pathlist filename'\n                    'dircontent dircontent'\n                    ",
       "grid_template_columns": "60% 40%",
       "grid_template_rows": "auto auto",
       "width": "500px"
      }
     },
     "ca0047c0369042b08c479e76507b16b7": {
      "model_module": "@jupyter-widgets/controls",
      "model_module_version": "1.5.0",
      "model_name": "HBoxModel",
      "state": {
       "children": [
        "IPY_MODEL_b2c8cee4967640d188e57805073dacd3"
       ],
       "layout": "IPY_MODEL_ae501ec3a8ad43af801693863426b689"
      }
     },
     "ca15418d49734e5d8ccd59d6f1ed354d": {
      "model_module": "@jupyter-widgets/base",
      "model_module_version": "1.2.0",
      "model_name": "LayoutModel",
      "state": {
       "align_items": "stretch",
       "display": "flex",
       "flex_flow": "row",
       "grid_auto_columns": "True",
       "justify_content": "flex-end",
       "width": "90%"
      }
     },
     "ca2e6c3dba774420a5548f3c4ceaf819": {
      "model_module": "@jupyter-widgets/controls",
      "model_module_version": "1.5.0",
      "model_name": "HTMLModel",
      "state": {
       "layout": "IPY_MODEL_0c3046bc7b3a4d8b88f4c6a6af80245f",
       "style": "IPY_MODEL_139cb1daa79a4060bda116a3199325b2",
       "value": "<p>Report Model Run?</p>"
      }
     },
     "cb7fa08040254f4da29cc68364633b8d": {
      "model_module": "@jupyter-widgets/output",
      "model_module_version": "1.0.0",
      "model_name": "OutputModel",
      "state": {
       "layout": "IPY_MODEL_39695cc65a9945a0ae39e60f34ca8310",
       "outputs": [
        {
         "data": {
          "application/vnd.jupyter.widget-view+json": {
           "model_id": "82bcf79e3d124754b99643756c9c783c",
           "version_major": 2,
           "version_minor": 0
          },
          "text/plain": "Output()"
         },
         "metadata": {},
         "output_type": "display_data"
        }
       ]
      }
     },
     "cb9a58869a4246a8af93ee3dc0728896": {
      "model_module": "@jupyter-widgets/base",
      "model_module_version": "1.2.0",
      "model_name": "LayoutModel",
      "state": {
       "align_items": "stretch",
       "display": "flex",
       "flex_flow": "row",
       "grid_auto_columns": "True",
       "justify_content": "flex-start",
       "width": "80%"
      }
     },
     "cbf4f13db47c4975affddf8da9d756c9": {
      "model_module": "@jupyter-widgets/output",
      "model_module_version": "1.0.0",
      "model_name": "OutputModel",
      "state": {
       "layout": "IPY_MODEL_4f53bcc5d76c4680a9bb9611c2096142"
      }
     },
     "cc6552008c4b448cbe1f3d712116c327": {
      "model_module": "@jupyter-widgets/controls",
      "model_module_version": "1.5.0",
      "model_name": "HBoxModel",
      "state": {
       "children": [
        "IPY_MODEL_6a4daf994ae8445cac16f22ae041a31b",
        "IPY_MODEL_9cf79cb205794de6b61d48003edd77b5"
       ],
       "layout": "IPY_MODEL_ca15418d49734e5d8ccd59d6f1ed354d"
      }
     },
     "cc8af367277a42638e9fb31909d50fae": {
      "model_module": "@jupyter-widgets/base",
      "model_module_version": "1.2.0",
      "model_name": "LayoutModel",
      "state": {}
     },
     "ccf2614a98744d5fb62c54576c44b9d9": {
      "model_module": "@jupyter-widgets/base",
      "model_module_version": "1.2.0",
      "model_name": "LayoutModel",
      "state": {}
     },
     "ce070b34f1934e179a0c9b47e300f482": {
      "model_module": "@jupyter-widgets/controls",
      "model_module_version": "1.5.0",
      "model_name": "DescriptionStyleModel",
      "state": {
       "description_width": ""
      }
     },
     "cf8b5ec176c642978ae67a8ccb961be2": {
      "model_module": "@jupyter-widgets/controls",
      "model_module_version": "1.5.0",
      "model_name": "HTMLModel",
      "state": {
       "layout": "IPY_MODEL_0195054c7fb8462daf4c35f4b5481066",
       "style": "IPY_MODEL_65df2c1c1f45422a94bde31d6454e5a7",
       "value": "<p>its a foo cake</p>"
      }
     },
     "cfbfb5e4de344de39444aa73991c49b9": {
      "model_module": "@jupyter-widgets/base",
      "model_module_version": "1.2.0",
      "model_name": "LayoutModel",
      "state": {}
     },
     "d007c03f308943b8b3b8593e15db4ffe": {
      "model_module": "@jupyter-widgets/controls",
      "model_module_version": "1.5.0",
      "model_name": "DescriptionStyleModel",
      "state": {
       "description_width": ""
      }
     },
     "d00f7b5a18e643feba1137909bab11b9": {
      "model_module": "@jupyter-widgets/controls",
      "model_module_version": "1.5.0",
      "model_name": "DescriptionStyleModel",
      "state": {
       "description_width": ""
      }
     },
     "d05a032335e642c492fe70ddc02b1869": {
      "model_module": "@jupyter-widgets/base",
      "model_module_version": "1.2.0",
      "model_name": "LayoutModel",
      "state": {}
     },
     "d13dfd36faa04165be5763a22ce34d77": {
      "model_module": "@jupyter-widgets/controls",
      "model_module_version": "1.5.0",
      "model_name": "TextareaModel",
      "state": {
       "layout": "IPY_MODEL_d2dda9207c0e457695d0046f486a0636",
       "style": "IPY_MODEL_6c4a9b96ce5444be9cf9ff5365e97a1c",
       "value": "asdfasdf"
      }
     },
     "d25704724ba74feaa33a106e38c4179f": {
      "model_module": "@jupyter-widgets/output",
      "model_module_version": "1.0.0",
      "model_name": "OutputModel",
      "state": {
       "layout": "IPY_MODEL_248aa03c77684b4ea87a2b2c48d8120f"
      }
     },
     "d294c96338db4025b2fdcabfd60ce8ab": {
      "model_module": "@jupyter-widgets/controls",
      "model_module_version": "1.5.0",
      "model_name": "VBoxModel",
      "state": {
       "children": [
        "IPY_MODEL_c4f6ebe1eca34eee8dcacf8c21987375",
        "IPY_MODEL_1cb8da7ade9e431b9cf0221993fa8325"
       ],
       "layout": "IPY_MODEL_21d22b5eb05545acaf1f7914a7404c96"
      }
     },
     "d2dda9207c0e457695d0046f486a0636": {
      "model_module": "@jupyter-widgets/base",
      "model_module_version": "1.2.0",
      "model_name": "LayoutModel",
      "state": {}
     },
     "d2dfc7579afc42aba9e9647479f22cdf": {
      "model_module": "@jupyter-widgets/controls",
      "model_module_version": "1.5.0",
      "model_name": "HTMLModel",
      "state": {
       "layout": "IPY_MODEL_2357511e333047de810f62c697d7825c",
       "style": "IPY_MODEL_7b18ea07e5c948fdbea8da73eded670d",
       "value": "<p>input gbxml filepath</p>"
      }
     },
     "d2e3a1d842834e9786b31adb479eff8a": {
      "model_module": "@jupyter-widgets/controls",
      "model_module_version": "1.5.0",
      "model_name": "DescriptionStyleModel",
      "state": {
       "description_width": ""
      }
     },
     "d2fee00af4544dfa88031ef5204866e2": {
      "model_module": "@jupyter-widgets/controls",
      "model_module_version": "1.5.0",
      "model_name": "FloatSliderModel",
      "state": {
       "layout": "IPY_MODEL_63d3bad049f64606abe5293ac0bf74d9",
       "max": 10,
       "style": "IPY_MODEL_99795a15a78d43b79d3220c44f8c7684",
       "value": 1
      }
     },
     "d314deb1caea409ab6d05f6b121da3d7": {
      "model_module": "@jupyter-widgets/base",
      "model_module_version": "1.2.0",
      "model_name": "LayoutModel",
      "state": {
       "align_items": "stretch",
       "display": "flex",
       "flex_flow": "row",
       "grid_auto_columns": "True",
       "justify_content": "flex-end",
       "width": "90%"
      }
     },
     "d31fbedb3cfb4e6598c7b5726d209d62": {
      "model_module": "@jupyter-widgets/controls",
      "model_module_version": "1.5.0",
      "model_name": "ButtonStyleModel",
      "state": {
       "font_weight": "bold"
      }
     },
     "d394f0125faf4abcaacf858db940a44b": {
      "model_module": "@jupyter-widgets/base",
      "model_module_version": "1.2.0",
      "model_name": "LayoutModel",
      "state": {}
     },
     "d3f10b6c9ba843d1b599ff593f224810": {
      "model_module": "@jupyter-widgets/controls",
      "model_module_version": "1.5.0",
      "model_name": "SelectModel",
      "state": {
       "_options_labels": [
        "..",
        "archive",
        "inputs-create_model_run_file.json",
        "inputs-docx_to_pdf.json",
        "inputs-eplus_pipework_params-1.csv",
        "inputs-eplus_pipework_params.csv",
        "inputs-gbxml.json",
        "test-1.json",
        "test-derived-val.json",
        "test.json"
       ],
       "index": null,
       "layout": "IPY_MODEL_1f6bc4a57fec41779b5f1433175d44df",
       "rows": 8,
       "style": "IPY_MODEL_2fea9b876ab54238b087dc6ca49dc545"
      }
     },
     "d4d27137a74b4cb7a53d07975da4ab32": {
      "model_module": "@jupyter-widgets/controls",
      "model_module_version": "1.5.0",
      "model_name": "HBoxModel",
      "state": {
       "children": [
        "IPY_MODEL_bc64a64ded9340c09f719a13b036ec49",
        "IPY_MODEL_beaa3ef4a4174d45af44c7dc0b582732"
       ],
       "layout": "IPY_MODEL_76e7ece614de4bf2975dc5fbcc825b33"
      }
     },
     "d4f0e30faf244dbc80c83e4fe7523348": {
      "model_module": "@jupyter-widgets/base",
      "model_module_version": "1.2.0",
      "model_name": "LayoutModel",
      "state": {}
     },
     "d54e4c46c7ef4ac2ac278df0394162f4": {
      "model_module": "@jupyter-widgets/base",
      "model_module_version": "1.2.0",
      "model_name": "LayoutModel",
      "state": {}
     },
     "d54f8c54f55946f7b9337c5639d56cba": {
      "model_module": "@jupyter-widgets/output",
      "model_module_version": "1.0.0",
      "model_name": "OutputModel",
      "state": {
       "layout": "IPY_MODEL_b50935b3da9e4707a5da91b23d7e4975"
      }
     },
     "d5cbb1ee8a98475c90a183fe18c45bb7": {
      "model_module": "@jupyter-widgets/controls",
      "model_module_version": "1.5.0",
      "model_name": "HTMLModel",
      "state": {
       "layout": "IPY_MODEL_4e0d878b1321443b8d83c49bdcf3e21e",
       "style": "IPY_MODEL_73aab43b6b944c67b8fe27cb4f6628fd",
       "value": "<p>Derived Text</p>"
      }
     },
     "d6181b26b8d94e4f8cccbe7364f6ba32": {
      "model_module": "@jupyter-widgets/controls",
      "model_module_version": "1.5.0",
      "model_name": "HBoxModel",
      "state": {
       "children": [
        "IPY_MODEL_23fb8ba6f8034ead8a15d11e0d425888",
        "IPY_MODEL_8e57c40c50f149de9166d91ac001848f"
       ],
       "layout": "IPY_MODEL_94c20c7dcc12405fad1dcedab620c149"
      }
     },
     "d70e64f0610d422aa7cc26fea10b6a40": {
      "model_module": "@jupyter-widgets/base",
      "model_module_version": "1.2.0",
      "model_name": "LayoutModel",
      "state": {}
     },
     "d74364445eed44bc91ec987ccd3b7a52": {
      "model_module": "@jupyter-widgets/base",
      "model_module_version": "1.2.0",
      "model_name": "LayoutModel",
      "state": {
       "display": "flex",
       "flex_flow": "row",
       "grid_auto_columns": "False",
       "justify_content": "flex-start",
       "width": "100%"
      }
     },
     "d7c0857f8d2940e186bfb7b7dd1f51fa": {
      "model_module": "@jupyter-widgets/base",
      "model_module_version": "1.2.0",
      "model_name": "LayoutModel",
      "state": {}
     },
     "d7dbc9553328425fab3f5c4c29e2153e": {
      "model_module": "@jupyter-widgets/controls",
      "model_module_version": "1.5.0",
      "model_name": "DescriptionStyleModel",
      "state": {
       "description_width": ""
      }
     },
     "d7fd7e499af14e30bb2706475222248c": {
      "model_module": "@jupyter-widgets/base",
      "model_module_version": "1.2.0",
      "model_name": "LayoutModel",
      "state": {}
     },
     "d8ad8bc000e642089c5c3053810f0659": {
      "model_module": "@jupyter-widgets/controls",
      "model_module_version": "1.5.0",
      "model_name": "HBoxModel",
      "state": {
       "children": [
        "IPY_MODEL_ca2e6c3dba774420a5548f3c4ceaf819",
        "IPY_MODEL_7035f869ff7040058b4e0073294d5950"
       ],
       "layout": "IPY_MODEL_18734bc38b154c17a724138198a7f947"
      }
     },
     "d92d1e7154124279ad79c1a062ddaeb9": {
      "model_module": "@jupyter-widgets/controls",
      "model_module_version": "1.5.0",
      "model_name": "DescriptionStyleModel",
      "state": {
       "description_width": ""
      }
     },
     "d9635406eb4044619ee402f5914a3ecd": {
      "model_module": "@jupyter-widgets/output",
      "model_module_version": "1.0.0",
      "model_name": "OutputModel",
      "state": {
       "layout": "IPY_MODEL_782fa6810d70481f8e7ab505176cbbe0"
      }
     },
     "d9af4ee3156c49d39835b55859576154": {
      "model_module": "@jupyter-widgets/controls",
      "model_module_version": "1.5.0",
      "model_name": "HTMLModel",
      "state": {
       "layout": "IPY_MODEL_a014efef2fc84e5591483776f84b9f2e",
       "style": "IPY_MODEL_ba71386a64ca4f9486491ed99fb1eef2",
       "value": "<p>its a foo cake</p>"
      }
     },
     "daee6cdeb963471f8d3898c9f0ba06d5": {
      "model_module": "@jupyter-widgets/base",
      "model_module_version": "1.2.0",
      "model_name": "LayoutModel",
      "state": {}
     },
     "db057bc559aa4dd7b376e5a2d8273aa1": {
      "model_module": "@jupyter-widgets/controls",
      "model_module_version": "1.5.0",
      "model_name": "HBoxModel",
      "state": {
       "children": [
        "IPY_MODEL_474792397b144ef288ff1ddf9f5d457e"
       ],
       "layout": "IPY_MODEL_f91ccf055e9d4141898cb8d14177bddf"
      }
     },
     "db2f9cc5f4864cf9892cc4be9a107628": {
      "model_module": "@jupyter-widgets/controls",
      "model_module_version": "1.5.0",
      "model_name": "DescriptionStyleModel",
      "state": {
       "description_width": ""
      }
     },
     "dc4ddb8c75b0420992ea4c519e82a354": {
      "model_module": "@jupyter-widgets/base",
      "model_module_version": "1.2.0",
      "model_name": "LayoutModel",
      "state": {}
     },
     "dc7b621b21714003bfa33eceebded88d": {
      "model_module": "@jupyter-widgets/controls",
      "model_module_version": "1.5.0",
      "model_name": "HBoxModel",
      "state": {
       "children": [
        "IPY_MODEL_45dc9e80db634506be63bc4bb1139b9e",
        "IPY_MODEL_2e5eea667f5f4d9e80c850b1839ab15f"
       ],
       "layout": "IPY_MODEL_befca5db598e40ffbfe87e615a24905d"
      }
     },
     "dc7e61cce77e4b0881c1750ad3ca6073": {
      "model_module": "@jupyter-widgets/controls",
      "model_module_version": "1.5.0",
      "model_name": "HBoxModel",
      "state": {
       "children": [
        "IPY_MODEL_0a0523343c6f4ca68f9d59f5f074b74d",
        "IPY_MODEL_52361e65bfad49a2903428b373724785"
       ],
       "layout": "IPY_MODEL_2183f1ce39954cc9b1f01a956f7951dd"
      }
     },
     "dda392cbca684fd996300d80dfceb7bc": {
      "model_module": "@jupyter-widgets/controls",
      "model_module_version": "1.5.0",
      "model_name": "DescriptionStyleModel",
      "state": {
       "description_width": ""
      }
     },
     "ddbb75ef1ea946b4b5a4673b9b553aed": {
      "model_module": "@jupyter-widgets/base",
      "model_module_version": "1.2.0",
      "model_name": "LayoutModel",
      "state": {}
     },
     "de18829e73bc4b5ab5c706042d58bfe7": {
      "model_module": "@jupyter-widgets/base",
      "model_module_version": "1.2.0",
      "model_name": "LayoutModel",
      "state": {}
     },
     "def3b6aac50a4e7383effbf3af9e5c38": {
      "model_module": "@jupyter-widgets/base",
      "model_module_version": "1.2.0",
      "model_name": "LayoutModel",
      "state": {
       "align_items": "stretch",
       "border": "dashed 0.2px green",
       "display": "flex",
       "flex_flow": "row",
       "grid_auto_columns": "True",
       "justify_content": "flex-start",
       "width": "100%"
      }
     },
     "dfa440f9c7f24f879ae29877f9e09fcb": {
      "model_module": "@jupyter-widgets/base",
      "model_module_version": "1.2.0",
      "model_name": "LayoutModel",
      "state": {
       "align_items": "stretch",
       "display": "flex",
       "flex_flow": "row",
       "grid_auto_columns": "True",
       "justify_content": "flex-start",
       "width": "80%"
      }
     },
     "dfafe9a2ee0e440383937914f483c301": {
      "model_module": "@jupyter-widgets/controls",
      "model_module_version": "1.5.0",
      "model_name": "HTMLModel",
      "state": {
       "layout": "IPY_MODEL_067ebc42c9b8463caa076b9612311778",
       "style": "IPY_MODEL_ba0f3137c1474bd88f20c85b73f9e294",
       "value": "<p>fus foo ous o</p>"
      }
     },
     "e15bcf19c0bd418c8f4033983c994516": {
      "model_module": "@jupyter-widgets/base",
      "model_module_version": "1.2.0",
      "model_name": "LayoutModel",
      "state": {}
     },
     "e17c38db88f54b2ca4fcf207c08a2e10": {
      "model_module": "@jupyter-widgets/output",
      "model_module_version": "1.0.0",
      "model_name": "OutputModel",
      "state": {
       "layout": "IPY_MODEL_d4f0e30faf244dbc80c83e4fe7523348"
      }
     },
     "e1c1a22b198f44c3b06a65ee90cb3b02": {
      "model_module": "@jupyter-widgets/base",
      "model_module_version": "1.2.0",
      "model_name": "LayoutModel",
      "state": {
       "align_items": "stretch",
       "display": "flex",
       "flex_flow": "row",
       "grid_auto_columns": "True",
       "justify_content": "flex-start",
       "width": "80%"
      }
     },
     "e1d3f0f5a4314997ab5af98e7411c71b": {
      "model_module": "@jupyter-widgets/controls",
      "model_module_version": "1.5.0",
      "model_name": "ToggleButtonModel",
      "state": {
       "icon": "arrow-down",
       "layout": "IPY_MODEL_36b336b862c146c3b966ccf654601f36",
       "style": "IPY_MODEL_4e56aac1513241398c7abb00c480afe4"
      }
     },
     "e1ec0d63ef484dbb8a00e385275ef281": {
      "model_module": "@jupyter-widgets/controls",
      "model_module_version": "1.5.0",
      "model_name": "HBoxModel",
      "state": {
       "children": [
        "IPY_MODEL_612db50306c64dad83df24ff1272399d",
        "IPY_MODEL_9515d9f9432d40afbe716f9324ff244c"
       ],
       "layout": "IPY_MODEL_35df252b90cd4d6a88441f1af72b4878"
      }
     },
     "e22a8ddf2409468f8434f1e0c1fa7505": {
      "model_module": "@jupyter-widgets/base",
      "model_module_version": "1.2.0",
      "model_name": "LayoutModel",
      "state": {
       "align_items": "stretch",
       "border": "dashed 0.2px green",
       "display": "flex",
       "flex_flow": "row",
       "grid_auto_columns": "True",
       "justify_content": "flex-start",
       "width": "100%"
      }
     },
     "e35a36b57155481ab0bf266c468cfc39": {
      "model_module": "@jupyter-widgets/controls",
      "model_module_version": "1.5.0",
      "model_name": "HBoxModel",
      "state": {
       "children": [
        "IPY_MODEL_39ab82bab9d84942a578242e11c22358"
       ],
       "layout": "IPY_MODEL_92c6968d53cf4bc6933e7144724dd1d6"
      }
     },
     "e3908623ea7641d9a83acd4c20b72ff1": {
      "model_module": "@jupyter-widgets/base",
      "model_module_version": "1.2.0",
      "model_name": "LayoutModel",
      "state": {}
     },
     "e3ee971fc095461981fcbd150cc15df4": {
      "model_module": "@jupyter-widgets/base",
      "model_module_version": "1.2.0",
      "model_name": "LayoutModel",
      "state": {
       "align_items": "stretch",
       "display": "flex",
       "flex_flow": "row",
       "grid_auto_columns": "True",
       "justify_content": "flex-end",
       "width": "90%"
      }
     },
     "e40b4b8b27c14ff1b0c3504ca9ddc57a": {
      "model_module": "@jupyter-widgets/controls",
      "model_module_version": "1.5.0",
      "model_name": "HTMLModel",
      "state": {
       "layout": "IPY_MODEL_722c0de54ec34517906e9fb68b2d4100",
       "style": "IPY_MODEL_6e67b5943d23484b8572331bad8598c5",
       "value": "016"
      }
     },
     "e41dcdc196804688b4085f4026e11646": {
      "model_module": "@jupyter-widgets/base",
      "model_module_version": "1.2.0",
      "model_name": "LayoutModel",
      "state": {
       "align_items": "stretch",
       "display": "flex",
       "flex_flow": "row",
       "grid_auto_columns": "True",
       "justify_content": "flex-start",
       "width": "80%"
      }
     },
     "e49d6abe27ee4f2c87e04840b6b068e0": {
      "model_module": "@jupyter-widgets/base",
      "model_module_version": "1.2.0",
      "model_name": "LayoutModel",
      "state": {}
     },
     "e50597bc666549ca892dccaddd6c3716": {
      "model_module": "@jupyter-widgets/controls",
      "model_module_version": "1.5.0",
      "model_name": "HBoxModel",
      "state": {
       "children": [
        "IPY_MODEL_c1a2ce28c7ff4a6599b037b00aebd5cc",
        "IPY_MODEL_5bf054bd72c34c478ba238aebf24b241",
        "IPY_MODEL_bd633914adc544d68b6a25dcaee9b4c0"
       ],
       "layout": "IPY_MODEL_006561ec29f24cb0b6dac7c84f12a135"
      }
     },
     "e5b11403d093400abbe88543a701c80e": {
      "model_module": "@jupyter-widgets/base",
      "model_module_version": "1.2.0",
      "model_name": "LayoutModel",
      "state": {}
     },
     "e60af5ce9af84cbd8fecaaa366977997": {
      "model_module": "@jupyter-widgets/base",
      "model_module_version": "1.2.0",
      "model_name": "LayoutModel",
      "state": {
       "align_items": "stretch",
       "border": "dashed 0.2px green",
       "display": "flex",
       "flex_flow": "row",
       "grid_auto_columns": "True",
       "justify_content": "flex-start",
       "width": "100%"
      }
     },
     "e614ca0a54ec4887ba55f1be1e242ae8": {
      "model_module": "@jupyter-widgets/base",
      "model_module_version": "1.2.0",
      "model_name": "LayoutModel",
      "state": {
       "width": "5%"
      }
     },
     "e71542da27f24f588477b1349ea0adf7": {
      "model_module": "@jupyter-widgets/controls",
      "model_module_version": "1.5.0",
      "model_name": "ButtonStyleModel",
      "state": {
       "font_weight": "bold"
      }
     },
     "e78ee6c4d21148ae978616ab87ea6409": {
      "model_module": "@jupyter-widgets/base",
      "model_module_version": "1.2.0",
      "model_name": "LayoutModel",
      "state": {}
     },
     "e7ba4e31921a4c16986cf05d2e17e0bf": {
      "model_module": "@jupyter-widgets/output",
      "model_module_version": "1.0.0",
      "model_name": "OutputModel",
      "state": {
       "layout": "IPY_MODEL_e49d6abe27ee4f2c87e04840b6b068e0"
      }
     },
     "e82aef711afd424f8c34bb25fb356bbc": {
      "model_module": "@jupyter-widgets/controls",
      "model_module_version": "1.5.0",
      "model_name": "HBoxModel",
      "state": {
       "children": [
        "IPY_MODEL_a4c0ba6fdb2c41009e7570aec024b8f6",
        "IPY_MODEL_a2d6d053a3d646acb0bc1cd26e575422"
       ],
       "layout": "IPY_MODEL_9babf4ba3c314d6286d70c7bcb5aff53"
      }
     },
     "e88b152c953f46e3b79f3c356f707099": {
      "model_module": "@jupyter-widgets/base",
      "model_module_version": "1.2.0",
      "model_name": "LayoutModel",
      "state": {
       "align_items": "stretch",
       "display": "flex",
       "flex_flow": "row",
       "grid_auto_columns": "True",
       "justify_content": "flex-start",
       "width": "80%"
      }
     },
     "e8f170dd04a34c068e4847a1e1804eaa": {
      "model_module": "@jupyter-widgets/controls",
      "model_module_version": "1.5.0",
      "model_name": "ButtonStyleModel",
      "state": {
       "font_weight": "bold"
      }
     },
     "e936e479e1b04e519911f2499054febe": {
      "model_module": "@jupyter-widgets/controls",
      "model_module_version": "1.5.0",
      "model_name": "DescriptionStyleModel",
      "state": {
       "description_width": ""
      }
     },
     "e93c49bdcaf846b09ef655c4e69a1136": {
      "model_module": "@jupyter-widgets/controls",
      "model_module_version": "1.5.0",
      "model_name": "HBoxModel",
      "state": {
       "children": [
        "IPY_MODEL_27d61803b19b4edc9ca75f7636143556"
       ],
       "layout": "IPY_MODEL_0eb7daf785f04422a3df69eb83d7bdb5"
      }
     },
     "eacf4966e9234e66af8b44a4b402cab1": {
      "model_module": "@jupyter-widgets/base",
      "model_module_version": "1.2.0",
      "model_name": "LayoutModel",
      "state": {
       "align_items": "stretch",
       "display": "flex",
       "flex_flow": "row",
       "grid_auto_columns": "True",
       "justify_content": "flex-end",
       "width": "90%"
      }
     },
     "eb8a72af49e9482bbb96158c9878f7ad": {
      "model_module": "@jupyter-widgets/base",
      "model_module_version": "1.2.0",
      "model_name": "LayoutModel",
      "state": {}
     },
     "eba0275702754dd19f5940ed39e94a25": {
      "model_module": "@jupyter-widgets/controls",
      "model_module_version": "1.5.0",
      "model_name": "DescriptionStyleModel",
      "state": {
       "description_width": ""
      }
     },
     "ebc7e68a23c54bafa82a766566a9979b": {
      "model_module": "@jupyter-widgets/controls",
      "model_module_version": "1.5.0",
      "model_name": "VBoxModel",
      "state": {
       "children": [
        "IPY_MODEL_7dc5202071624080b2f88ec9c4d1d373",
        "IPY_MODEL_b330fb131c084faea9bff25391c71d46",
        "IPY_MODEL_6b12a10d5c7b42ea9c058c91060d666a"
       ],
       "layout": "IPY_MODEL_9dc2b15d2c264a279a317b22ba08a184"
      }
     },
     "ec1e42f402c94bbea5f5051cd3cb6b65": {
      "model_module": "@jupyter-widgets/base",
      "model_module_version": "1.2.0",
      "model_name": "LayoutModel",
      "state": {
       "align_items": "stretch",
       "border": "dashed 0.2px green",
       "display": "flex",
       "flex_flow": "row",
       "grid_auto_columns": "True",
       "justify_content": "flex-start",
       "width": "100%"
      }
     },
     "ec69702ddeb44a9a8dcf4463417cbb56": {
      "model_module": "@jupyter-widgets/base",
      "model_module_version": "1.2.0",
      "model_name": "LayoutModel",
      "state": {
       "align_items": "stretch",
       "display": "flex",
       "flex_flow": "row",
       "grid_auto_columns": "True",
       "justify_content": "flex-start",
       "width": "80%"
      }
     },
     "ec6b465e2c8d4f8a92735fb9a753b7f5": {
      "model_module": "@jupyter-widgets/base",
      "model_module_version": "1.2.0",
      "model_name": "LayoutModel",
      "state": {}
     },
     "ece669ce717349a3b865279d1c6bc0b0": {
      "model_module": "@jupyter-widgets/base",
      "model_module_version": "1.2.0",
      "model_name": "LayoutModel",
      "state": {}
     },
     "edfd073c2ef64b1b9c2c775289183bff": {
      "model_module": "@jupyter-widgets/base",
      "model_module_version": "1.2.0",
      "model_name": "LayoutModel",
      "state": {}
     },
     "ee43a7ce6ea84a79a9df71c48aa1019c": {
      "model_module": "@jupyter-widgets/controls",
      "model_module_version": "1.5.0",
      "model_name": "DescriptionStyleModel",
      "state": {
       "description_width": ""
      }
     },
     "ee637fde2e2c43b59b9b07a816a445e1": {
      "model_module": "@jupyter-widgets/base",
      "model_module_version": "1.2.0",
      "model_name": "LayoutModel",
      "state": {}
     },
     "ef1eb2fae0e64eb093f3610e968e4a25": {
      "model_module": "@jupyter-widgets/controls",
      "model_module_version": "1.5.0",
      "model_name": "HBoxModel",
      "state": {
       "children": [
        "IPY_MODEL_91947e1db108418b9b0f11288d95dafe",
        "IPY_MODEL_c3085b9b628940e1942b1f94e1c816c2"
       ],
       "layout": "IPY_MODEL_a6c0a5f7157641249aadc0e821b618a6"
      }
     },
     "ef449e0978e04e16ae9d415d880742bb": {
      "model_module": "@jupyter-widgets/controls",
      "model_module_version": "1.5.0",
      "model_name": "HTMLModel",
      "state": {
       "layout": "IPY_MODEL_2d8c77cea4674d95af48cb1f93724876",
       "style": "IPY_MODEL_39a2ba6a7235411da84a781dde19a1ad",
       "value": "<p>its a foo cake</p>"
      }
     },
     "efd53a2d5c0546f78374eb9cff41bc42": {
      "model_module": "@jupyter-widgets/controls",
      "model_module_version": "1.5.0",
      "model_name": "DescriptionStyleModel",
      "state": {
       "description_width": ""
      }
     },
     "eff07efd77eb48c79540f4142f9060e9": {
      "model_module": "@jupyter-widgets/controls",
      "model_module_version": "1.5.0",
      "model_name": "VBoxModel",
      "state": {
       "children": [
        "IPY_MODEL_6b6705d34b414705835227750f66a874",
        "IPY_MODEL_8af51f35830849809c9e0355800f5081",
        "IPY_MODEL_270c0e63d48b464a903d05c22a3bc486"
       ],
       "layout": "IPY_MODEL_24a4328f15cb484b816111770d32d54a"
      }
     },
     "f0a5ac32fbb3413a947d6d91f5d6065f": {
      "model_module": "@jupyter-widgets/controls",
      "model_module_version": "1.5.0",
      "model_name": "HTMLModel",
      "state": {
       "layout": "IPY_MODEL_53af0e6cebfb4ebf96e20bf53811f360",
       "style": "IPY_MODEL_6a95a982633c40228f8935f7b24255b4",
       "value": "<p>input gbxml filepath</p>"
      }
     },
     "f0c40c3cfc8f4fbcbd0301609a97cd80": {
      "model_module": "@jupyter-widgets/base",
      "model_module_version": "1.2.0",
      "model_name": "LayoutModel",
      "state": {}
     },
     "f10f6093b640428a97b0420ac8aca750": {
      "model_module": "@jupyter-widgets/controls",
      "model_module_version": "1.5.0",
      "model_name": "HTMLModel",
      "state": {
       "layout": "IPY_MODEL_0ff0973ce04447adb226a986a3350f0b",
       "style": "IPY_MODEL_feacdb7ef70442cda89c7f35e4cb2097",
       "value": "<p>Model Desc</p>"
      }
     },
     "f2101c06c1a644ea814f1804b2cfae27": {
      "model_module": "@jupyter-widgets/controls",
      "model_module_version": "1.5.0",
      "model_name": "HTMLModel",
      "state": {
       "layout": "IPY_MODEL_2c7b3fc7b13845b69eec99ece70d62a2",
       "style": "IPY_MODEL_72b506802a9b47188ece5788cddc9940",
       "value": "<p>spc_name_index</p>"
      }
     },
     "f28452d561cd4d699c0b8626d8c77d81": {
      "model_module": "@jupyter-widgets/controls",
      "model_module_version": "1.5.0",
      "model_name": "HBoxModel",
      "state": {
       "children": [
        "IPY_MODEL_131aee1fd95f4ccdb3464883fa927523",
        "IPY_MODEL_3ba0622300bb4914a5021c315209c9b3"
       ],
       "layout": "IPY_MODEL_d314deb1caea409ab6d05f6b121da3d7"
      }
     },
     "f436a070aa5a44baa19e35d443286046": {
      "model_module": "@jupyter-widgets/base",
      "model_module_version": "1.2.0",
      "model_name": "LayoutModel",
      "state": {}
     },
     "f4a85d8f502445f68a6594c06f59da81": {
      "model_module": "@jupyter-widgets/controls",
      "model_module_version": "1.5.0",
      "model_name": "VBoxModel",
      "state": {
       "children": [
        "IPY_MODEL_4a19bbb644ef487a9c181197287f23af",
        "IPY_MODEL_9fce38f8b5e54ef5b0c85f71bd415c60",
        "IPY_MODEL_c87ac231cbbb45d2a33f7f5ca68e0d2e"
       ],
       "layout": "IPY_MODEL_99e10e3c75d44661a9a2e0da00b045c3"
      }
     },
     "f567b5740cb6452bb470b5f3c47c09a8": {
      "model_module": "@jupyter-widgets/base",
      "model_module_version": "1.2.0",
      "model_name": "LayoutModel",
      "state": {
       "align_items": "stretch",
       "display": "flex",
       "flex_flow": "row",
       "grid_auto_columns": "True",
       "justify_content": "flex-end",
       "width": "90%"
      }
     },
     "f661b969a36a440a99c988634a6db5ad": {
      "model_module": "@jupyter-widgets/output",
      "model_module_version": "1.0.0",
      "model_name": "OutputModel",
      "state": {
       "layout": "IPY_MODEL_86cb515d95be4466a8d9ee2fac3feb5b"
      }
     },
     "f6626cd799bc4c8db5daffdb32a91f48": {
      "model_module": "@jupyter-widgets/base",
      "model_module_version": "1.2.0",
      "model_name": "LayoutModel",
      "state": {
       "display": "none"
      }
     },
     "f66a88d64bf849059c212613700c273e": {
      "model_module": "@jupyter-widgets/controls",
      "model_module_version": "1.5.0",
      "model_name": "HTMLModel",
      "state": {
       "layout": "IPY_MODEL_8e1eed463de844848d574bd733724423",
       "style": "IPY_MODEL_180e618d31184de6a8e27bddd55ba30a",
       "value": "<p>Example use of the DatePicker Widget</p>"
      }
     },
     "f74e6326720940149f1dcdb368798718": {
      "model_module": "@jupyter-widgets/base",
      "model_module_version": "1.2.0",
      "model_name": "LayoutModel",
      "state": {}
     },
     "f7bc9b6a793349368e3d44b570ce1a92": {
      "model_module": "@jupyter-widgets/controls",
      "model_module_version": "1.5.0",
      "model_name": "DescriptionStyleModel",
      "state": {
       "description_width": ""
      }
     },
     "f83cfe7c1c76466e94d85f0d14b77fac": {
      "model_module": "@jupyter-widgets/controls",
      "model_module_version": "1.5.0",
      "model_name": "ButtonModel",
      "state": {
       "description": "load",
       "icon": "upload",
       "layout": "IPY_MODEL_01a8e18e3be24f3a9457c48d8cb0bb22",
       "style": "IPY_MODEL_111c42a396b44ec49245de458ed4c570"
      }
     },
     "f85297ab71264a48a8f6a36454bf7386": {
      "model_module": "@jupyter-widgets/controls",
      "model_module_version": "1.5.0",
      "model_name": "ButtonModel",
      "state": {
       "description": "load",
       "icon": "upload",
       "layout": "IPY_MODEL_7d4913b5b60b4a99861de3565f408eef",
       "style": "IPY_MODEL_170adc1b1ef843248c44b0ea5c62c1d5"
      }
     },
     "f86d03da46fb4ecda0d6e5ab01eb5995": {
      "model_module": "@jupyter-widgets/controls",
      "model_module_version": "1.5.0",
      "model_name": "VBoxModel",
      "state": {
       "children": [
        "IPY_MODEL_f83cfe7c1c76466e94d85f0d14b77fac",
        "IPY_MODEL_135479e982bf48a8ac5ca0b593d551c7"
       ],
       "layout": "IPY_MODEL_3256184dbb6642f39224d914efa10f62"
      }
     },
     "f898207019bf43b99c2f32a27900cfa9": {
      "model_module": "@jupyter-widgets/base",
      "model_module_version": "1.2.0",
      "model_name": "LayoutModel",
      "state": {}
     },
     "f8bdc5b60a3e4db1a801cb593d4b223f": {
      "model_module": "@jupyter-widgets/output",
      "model_module_version": "1.0.0",
      "model_name": "OutputModel",
      "state": {
       "layout": "IPY_MODEL_45141f47ee46419f8e38a2582d2a48a0"
      }
     },
     "f8f4da05871e4637922aae72975a687b": {
      "model_module": "@jupyter-widgets/controls",
      "model_module_version": "1.5.0",
      "model_name": "DescriptionStyleModel",
      "state": {
       "description_width": ""
      }
     },
     "f91ccf055e9d4141898cb8d14177bddf": {
      "model_module": "@jupyter-widgets/base",
      "model_module_version": "1.2.0",
      "model_name": "LayoutModel",
      "state": {
       "align_items": "stretch",
       "border": "dashed 0.2px green",
       "display": "flex",
       "flex_flow": "row",
       "grid_auto_columns": "True",
       "justify_content": "flex-start",
       "width": "100%"
      }
     },
     "f92e2168995a4c46b496848a2cc31816": {
      "model_module": "@jupyter-widgets/base",
      "model_module_version": "1.2.0",
      "model_name": "LayoutModel",
      "state": {
       "align_items": "stretch",
       "display": "flex",
       "flex_flow": "row",
       "grid_auto_columns": "True",
       "justify_content": "flex-start",
       "width": "80%"
      }
     },
     "fa499d1d46f843ce8d3c4d963a330e08": {
      "model_module": "@jupyter-widgets/controls",
      "model_module_version": "1.5.0",
      "model_name": "DescriptionStyleModel",
      "state": {
       "description_width": ""
      }
     },
     "faeb2f0229f2400d8a0386c039b691e3": {
      "model_module": "@jupyter-widgets/controls",
      "model_module_version": "1.5.0",
      "model_name": "HBoxModel",
      "state": {
       "children": [
        "IPY_MODEL_c2fef7b1db9f437989b7a9f98104ac7d",
        "IPY_MODEL_8b638b9abcf34bad9f7161635fe34953"
       ],
       "layout": "IPY_MODEL_a14d950a706d43f7a6d3defaff89b0f1"
      }
     },
     "fba51095a1f04cf785622f9131fd0bcd": {
      "model_module": "@jupyter-widgets/controls",
      "model_module_version": "1.5.0",
      "model_name": "DescriptionStyleModel",
      "state": {
       "description_width": ""
      }
     },
     "fbaf031f1b43499493b79cd363b432aa": {
      "model_module": "@jupyter-widgets/base",
      "model_module_version": "1.2.0",
      "model_name": "LayoutModel",
      "state": {
       "display": "flex",
       "flex_flow": "row",
       "grid_auto_columns": "False",
       "justify_content": "flex-start",
       "width": "100%"
      }
     },
     "fd266546680c4754a2e7c80738889b0a": {
      "model_module": "@jupyter-widgets/controls",
      "model_module_version": "1.5.0",
      "model_name": "HTMLModel",
      "state": {
       "layout": "IPY_MODEL_d54e4c46c7ef4ac2ac278df0394162f4",
       "style": "IPY_MODEL_82de29cdaed74213ae6fbb09c33e8d74",
       "value": "<p>Example use of the DerivedText Widget</p>"
      }
     },
     "fd9eaae8c6f34ac48d6eb5ffca7c101d": {
      "model_module": "@jupyter-widgets/controls",
      "model_module_version": "1.5.0",
      "model_name": "TextModel",
      "state": {
       "layout": "IPY_MODEL_91da44726d784a148eac0c5b2397129f",
       "style": "IPY_MODEL_f8f4da05871e4637922aae72975a687b",
       "value": "2"
      }
     },
     "fe76de381ef64cf584d7fe034f72bd60": {
      "model_module": "@jupyter-widgets/base",
      "model_module_version": "1.2.0",
      "model_name": "LayoutModel",
      "state": {}
     },
     "feacdb7ef70442cda89c7f35e4cb2097": {
      "model_module": "@jupyter-widgets/controls",
      "model_module_version": "1.5.0",
      "model_name": "DescriptionStyleModel",
      "state": {
       "description_width": ""
      }
     }
    },
    "version_major": 2,
    "version_minor": 0
   }
  }
 },
 "nbformat": 4,
 "nbformat_minor": 4
}
