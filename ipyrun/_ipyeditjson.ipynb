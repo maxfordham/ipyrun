{
 "cells": [
  {
   "cell_type": "code",
   "execution_count": 5,
   "metadata": {},
   "outputs": [],
   "source": [
    "import os\n",
    "import pandas as pd\n",
    "from IPython.display import display, Image, JSON, Markdown, HTML, display_pdf, clear_output\n",
    "from markdown import markdown\n",
    "from datetime import datetime\n",
    "\n",
    "# widget stuff\n",
    "import ipywidgets as widgets\n",
    "import ipysheet\n",
    "from ipysheet import from_dataframe, to_dataframe\n",
    "\n",
    "# core mf_modules\n",
    "from mf_modules.pydtype_operations import read_json, write_json \n",
    "from mf_modules.file_operations import make_dir\n",
    "\n",
    "\n",
    "# from this repo\n",
    "# this is an unpleasant hack. should aim to find a better solution\n",
    "try:\n",
    "    from ipyrun._filecontroller import FileConfigController\n",
    "    from ipyrun._runconfig import RunConfig\n",
    "except:\n",
    "    from _filecontroller import FileConfigController\n",
    "    from _runconfig import RunConfig"
   ]
  },
  {
   "cell_type": "code",
   "execution_count": 16,
   "metadata": {},
   "outputs": [],
   "source": [
    "def _markdown(value='_Markdown_',\n",
    "              **kwargs):\n",
    "    \"\"\"\n",
    "    a simple template for markdown text input that templates required input\n",
    "    fields. additional user defined fields can be added as kwargs\n",
    "    \"\"\"\n",
    "    _kwargs = {}\n",
    "    _kwargs['value'] = markdown(value)  # required field\n",
    "    _kwargs.update(kwargs)  # user overides\n",
    "    return widgets.HTML(**_kwargs)\n",
    "\n",
    "class EditDictData():\n",
    "    \"\"\"\n",
    "    contains form layout specs and mapping dict used for associating input\n",
    "    variables to the appropriate widget. \n",
    "    \"\"\"\n",
    "           \n",
    "    @property\n",
    "    def MF_FORM_ITEM_LAYOUT(self):\n",
    "        return widgets.Layout(\n",
    "            display='flex',\n",
    "            flex_flow='row',\n",
    "            justify_content='flex-start',\n",
    "            #border='solid 1px green',\n",
    "            grid_auto_columns='True',\n",
    "            width='80%',\n",
    "            align_items='stretch',  \n",
    "        )\n",
    "    \n",
    "    @property\n",
    "    def MF_FORM_ITEM_LAYOUT1(self):\n",
    "        return widgets.Layout(\n",
    "            display='flex',\n",
    "            flex_flow='row',\n",
    "            justify_content='flex-end',\n",
    "            #border='solid 1px green',\n",
    "            grid_auto_columns='True',\n",
    "            width='90%',\n",
    "            align_items='stretch',  \n",
    "        )\n",
    "    \n",
    "    @property\n",
    "    def MF_FORM_ITEM_LAYOUT2(self):\n",
    "        return widgets.Layout(\n",
    "            display='flex',\n",
    "            flex_flow='row',\n",
    "            justify_content='flex-start',\n",
    "            border='dashed 0.2px green',\n",
    "            grid_auto_columns='True',\n",
    "            width='100%',\n",
    "            align_items='stretch',  \n",
    "        )\n",
    "    \n",
    "    @property\n",
    "    def map_keys(self):\n",
    "        return ['value', 'options', 'min', 'max']\n",
    "    \n",
    "    @property\n",
    "    def map_widgets(self):\n",
    "        # mapping dict used to guess what widget to apply\n",
    "        return {\n",
    "            'FloatText': {\n",
    "                'value_type': \"<class 'float'>\",\n",
    "                'options_type': \"<class 'NoneType'>\",\n",
    "                'min_type': \"<class 'NoneType'>\",\n",
    "                'max_type': \"<class 'NoneType'>\"\n",
    "            },\n",
    "           'FloatSlider': {\n",
    "                'value_type': \"<class 'float'>\",\n",
    "                'options_type': \"<class 'NoneType'>\",\n",
    "                'min_type': \"<class 'float'>\",\n",
    "                'max_type': \"<class 'float'>\"\n",
    "           },\n",
    "           'Dropdown': {\n",
    "                'value_type': 'any',\n",
    "                'options_type': \"<class 'list'>\",\n",
    "                'min_type': \"<class 'NoneType'>\",\n",
    "                'max_type': \"<class 'NoneType'>\"\n",
    "           },\n",
    "           'SelectMultiple': {\n",
    "                'value_type': \"<class 'list'>\",\n",
    "                'options_type': \"<class 'list'>\",\n",
    "                'min_type': \"<class 'NoneType'>\",\n",
    "                'max_type': \"<class 'NoneType'>\"\n",
    "           },\n",
    "           'Checkbox': {\n",
    "                'value_type': \"<class 'bool'>\",\n",
    "                'options_type': \"<class 'NoneType'>\",\n",
    "                'min_type': \"<class 'NoneType'>\",\n",
    "                'max_type': \"<class 'NoneType'>\"\n",
    "           },\n",
    "           'Text': {\n",
    "                'value_type': \"<class 'str'>\",\n",
    "                'options_type': \"<class 'NoneType'>\",\n",
    "                'min_type': \"<class 'NoneType'>\",\n",
    "                'max_type': \"<class 'NoneType'>\"\n",
    "           },\n",
    "           '_recursive_guess': {\n",
    "                'value_type': \"<class 'list'>\",\n",
    "                'options_type': \"<class 'NoneType'>\",\n",
    "                'min_type': \"<class 'NoneType'>\",\n",
    "                'max_type': \"<class 'NoneType'>\"\n",
    "           }\n",
    "        }\n",
    "    \n",
    "    @property\n",
    "    def widget_lkup(self):\n",
    "        return {\n",
    "                'FloatText':widgets.FloatText,\n",
    "                'FloatSlider':widgets.FloatSlider,\n",
    "                'Dropdown':widgets.Dropdown,\n",
    "                'DerivedText':widgets.Label,\n",
    "                'DatePicker':widgets.DatePicker,\n",
    "                'SelectMultiple':widgets.SelectMultiple,\n",
    "                'Checkbox':widgets.Checkbox,\n",
    "                'Text':widgets.Text,\n",
    "                'Textarea':widgets.Textarea,\n",
    "                '_recursive_guess':self._recursive_guess,\n",
    "                'ipysheet':self._ipysheet\n",
    "            }\n",
    "\n",
    "    \n",
    "class EditDict(EditDictData):\n",
    "    '''\n",
    "    a class that is passed a dict and then guesses the most appropriate \n",
    "    widget from the values in the dict.\n",
    "    - if a nested list of dicts is passed:\n",
    "        => it will create an embedded, clickable show/hide nested input form\n",
    "    - if a json dataframe object is passed as the \"value\" and and the key:value\n",
    "      \"widget\":\"ipysheet\" is passed in the same dict:\n",
    "        => it will create an editable ipysheet dataframe widget\n",
    "    '''\n",
    "    def __init__(self, di):\n",
    "        self.out = widgets.Output()\n",
    "        self.di = di\n",
    "        self.form()\n",
    " \n",
    "    def form(self):\n",
    "        self.di = self._update_di()\n",
    "        if 'widget' not in self.di.keys():\n",
    "            self.di_types = self._get_var_types()\n",
    "            self.widget_name, self.report = self.map_widget()           \n",
    "        else:\n",
    "            self.widget_name = self.di['widget']\n",
    "        self.kwargs = self._kwargfilt()\n",
    "        self.layout = self._build_widget()\n",
    "        if self.widget_name != 'ipysheet' and self.widget_name != '_recursive_guess':\n",
    "            self._init_controls()\n",
    "          \n",
    "    def _init_controls(self):   \n",
    "        self.widget_only.observe(self._update_change, 'value') \n",
    "\n",
    "    def _update_change(self, change):\n",
    "        value = None\n",
    "        if(self.widget_name == \"DatePicker\"):\n",
    "            value = self.widget_only.value.strftime('%d/%m/%Y')\n",
    "        else:\n",
    "            value = self.widget_only.value\n",
    "\n",
    "        self.di['value'] = value\n",
    "\n",
    "    def _build_widget(self):\n",
    "        \n",
    "        if self.widget_name == '_recursive_guess':\n",
    "            self._recursive_guess()\n",
    "        elif self.widget_name == 'ipysheet':\n",
    "            self._ipysheet()\n",
    "        elif self.widget_name == \"DatePicker\":\n",
    "            value = datetime.strptime(self.kwargs['value'], '%d/%m/%Y')\n",
    "            self.widget_only = self.widget_lkup[self.widget_name](value=value)\n",
    "        elif self.widget_name == \"DerivedText\":   \n",
    "            self.widget_only = self.widget_lkup[self.widget_name](**self.kwargs)\n",
    "            self.widget_only.layout=widgets.Layout(border='solid 1px #BBBBBB', padding='0px 10px 0px 10px')\n",
    "        else:\n",
    "            self.widget_only = self.widget_lkup[self.widget_name](**self.kwargs)\n",
    "        self.widget_simple = widgets.HBox([self.widget_only,_markdown(self.di['label'])],layout=self.MF_FORM_ITEM_LAYOUT)\n",
    "        self.widget_row = widgets.HBox([_markdown(self.di['name']),self.widget_simple],layout=self.MF_FORM_ITEM_LAYOUT1)\n",
    "        if 'fpth_help' in self.di.keys():\n",
    "            self.guide = widgets.ToggleButton(icon='fa-question-circle',\n",
    "                                              description='help',\n",
    "                                              tooltip='gives guidance',\n",
    "                                              style={'font_weight':'bold'},\n",
    "                                              layout=widgets.Layout(width='5%'))\n",
    "            self.guide.observe(self._guide, 'value')\n",
    "            layout = widgets.HBox([self.widget_row ,self.guide],layout=self.MF_FORM_ITEM_LAYOUT2)\n",
    "        else:\n",
    "            layout = widgets.HBox([self.widget_row ],layout=self.MF_FORM_ITEM_LAYOUT2)\n",
    "        return layout\n",
    "    \n",
    "    def _guide(self, sender):\n",
    "        with self.out:\n",
    "            if self.guide.value:  \n",
    "                display(Image(os.path.join(os.environ['mf_root'],r'engDevSetup\\dev\\icons\\icon_png\\help-icon.png')));\n",
    "            else:\n",
    "                clear_output()\n",
    "                \n",
    "    def _kwargfilt(self):\n",
    "        return {k:v for (k,v) in self.di.items() if k != 'widget' and k != 'name' and k != 'label' and k != 'fpth_help' and v is not None}\n",
    "        \n",
    "    def _update_di(self):\n",
    "\n",
    "        def add_to_dict(di, keyname='None', valuename=None):\n",
    "            if keyname not in di.keys():\n",
    "                di[keyname]=valuename\n",
    "            return di\n",
    "        tmp = self.di\n",
    "        tmp = add_to_dict(tmp,keyname='min')\n",
    "        tmp = add_to_dict(tmp,keyname='max')\n",
    "        tmp = add_to_dict(tmp,keyname='options')\n",
    "        tmp = add_to_dict(tmp,keyname='name', valuename='name')\n",
    "        tmp = add_to_dict(tmp,keyname='label', valuename='label')\n",
    "        return tmp\n",
    "        \n",
    "    def _get_var_types(self):\n",
    "\n",
    "        def int_type_to_float(di):\n",
    "            di_ = {}\n",
    "            for key, val in di.items():\n",
    "                if val == \"<class 'int'>\":\n",
    "                    di_[key] = \"<class 'float'>\"\n",
    "                else:\n",
    "                    di_[key] = val\n",
    "            return di_\n",
    "        di = self.di\n",
    "        keys = self.map_keys\n",
    "        di_filt = { key: di[key] for key in keys }\n",
    "        di_types = {key+'_type': str(type(di_filt[key])) for key in keys}\n",
    "        di_types= int_type_to_float(di_types)\n",
    "        return di_types\n",
    "    \n",
    "    def map_widget(self):\n",
    "        \"\"\"\n",
    "        uses the types of the different inputs to map an input \n",
    "        to the appropriate widget\n",
    "\n",
    "        Reference:\n",
    "            |                 | value_type      | options_type       | min_type           | max_type           |\n",
    "            |:----------------|:----------------|:-------------------|:-------------------|:-------------------|\n",
    "            | FloatText       | <class 'float'> | <class 'NoneType'> | <class 'NoneType'> | <class 'NoneType'> |\n",
    "            | FloatSlider     | <class 'float'> | <class 'NoneType'> | <class 'float'>    | <class 'float'>    |\n",
    "            | Dropdown        | <class 'float'> | <class 'list'>     | <class 'NoneType'> | <class 'NoneType'> |\n",
    "            | SelectMultiple  | <class 'list'>  | <class 'list'>     | <class 'NoneType'> | <class 'NoneType'> |\n",
    "            | Checkbox        | <class 'bool'>  | <class 'NoneType'> | <class 'NoneType'> | <class 'NoneType'> |\n",
    "            | Text            | <class 'str'>   | <class 'NoneType'> | <class 'NoneType'> | <class 'NoneType'> |\n",
    "            | _recursive_guess| <class 'list'>  | <class 'NoneType'> | <class 'NoneType'> | <class 'NoneType'> |\n",
    "        \"\"\"\n",
    "        di_types = self.di_types\n",
    "        map_widgets = self.map_widgets\n",
    "        m = 0\n",
    "        for k, v in map_widgets.items():\n",
    "            # this settles ambiguity for value type from Dropdown (which could be anything)\n",
    "            #if k == widgets.Dropdown and di_types['value_type'] != \"<class 'list'>\":\n",
    "            if k == 'Dropdown' and di_types['value_type'] != \"<class 'list'>\":\n",
    "                v['value_type'] = di_types['value_type']\n",
    "            if v == di_types:\n",
    "                m=+1\n",
    "                widget_name = k\n",
    "        if m < 1:\n",
    "            report = 'no matching widget found... check inputs...'\n",
    "            print(di_types)\n",
    "            print(report)\n",
    "            widget_name = 'Text'\n",
    "        elif m == 1:\n",
    "            report = 'perfect match!'\n",
    "        else:\n",
    "            report = 'multiple matches found... check code...'\n",
    "            print(di_types)\n",
    "            print(report)\n",
    "        return widget_name, report\n",
    "    \n",
    "    # -------------------------------------------------------------------------     \n",
    "    # code that allows for embedded list of dicts -----------------------------\n",
    "    def _recursive_guess(self):\n",
    "        self.kwargs = {k:v for (k,v) in self.kwargs.items() if k != 'value'}\n",
    "        self.kwargs['icon'] = 'arrow-down'\n",
    "        self.widget_only = widgets.ToggleButton(**self.kwargs)\n",
    "        self._recursive_controls()\n",
    "        \n",
    "    def _recursive_controls(self):\n",
    "        self.widget_only.observe(self._call_GuessWidget, 'value')\n",
    "\n",
    "    def _call_GuessWidget(self, sender):\n",
    "        self.nested_g = EditListOfDicts(self.di['value'])\n",
    "        self.di['value'] = self.nested_g.li\n",
    "        with self.out:\n",
    "            if self.widget_only.value:  \n",
    "                display(self.nested_g)\n",
    "            else:\n",
    "                clear_output()\n",
    "    # --------------------------------------------------------------------------\n",
    "    # code that allows for embedded ipysheets ----------------------------------\n",
    "    def _ipysheet(self):\n",
    "        self.kwargs = {k:v for (k,v) in self.kwargs.items() if k != 'value'}\n",
    "        self.kwargs['icon'] = 'arrow-down'\n",
    "        self.widget_only = widgets.ToggleButton(**self.kwargs)\n",
    "        self.save_ipysheet = widgets.Button(description='save')\n",
    "        self._ipysheet_controls()\n",
    "        \n",
    "    def _ipysheet_controls(self):\n",
    "        self.widget_only.observe(self.call_ipysheet, 'value')\n",
    "        self.save_ipysheet.on_click(self._save_ipysheet)\n",
    "        \n",
    "    def call_ipysheet(self, sender):\n",
    "        tmp = pd.read_json(self.di['value'])\n",
    "        self.sheet = ipysheet.sheet(ipysheet.from_dataframe(tmp)) # initiate sheet\n",
    "        with self.out:\n",
    "            if self.widget_only.value:  \n",
    "                display(self.save_ipysheet)\n",
    "                display(self.sheet)\n",
    "            else:\n",
    "                clear_output()\n",
    "    \n",
    "    def _save_ipysheet(self, change):\n",
    "        tmp = to_dataframe(self.sheet)\n",
    "        self.di['value'] = tmp.to_json()\n",
    "        with self.out:\n",
    "            clear_output()\n",
    "            dateTimeObj = datetime.now()\n",
    "            timestampStr = dateTimeObj.strftime(\"%d-%b-%Y %H:%M:%S:\")\n",
    "            display(Markdown('{0} changes to sheet saved. hit save in main dialog to save to file'.format(timestampStr)))\n",
    "        self.display()\n",
    "    # --------------------------------------------------------------------------\n",
    "\n",
    "    def display(self):\n",
    "        display(self.layout)\n",
    "        display(self.out)\n",
    "         \n",
    "    def _ipython_display_(self):\n",
    "        self.display()    "
   ]
  },
  {
   "cell_type": "code",
   "execution_count": 17,
   "metadata": {},
   "outputs": [],
   "source": [
    "class EditListOfDicts():\n",
    "    \"\"\"\n",
    "    builds user input form from a list of dicts by creating a \n",
    "    loop of EditDict objects.\n",
    "    \"\"\"\n",
    "    def __init__(self, li):\n",
    "        \"\"\"\n",
    "        class that builds a user interface based on a list of dicts, where each dict is \n",
    "        a ipywidget user interface object. The class inteprets which widget to select based on the \n",
    "        type of the value and the keys that are passed. The keys are passed to the ipywidget \n",
    "        object as **kwargs.\n",
    "\n",
    "        Args:\n",
    "            li (list): list of dicts. each dict must contain 'name', 'value' and 'label' as the \n",
    "                minimum set of keys for making a ipywidget. additional keys that are passed \n",
    "                get become **kwargs that are passed to the selected ipywidget\n",
    "                \n",
    "        Example:\n",
    "            ```\n",
    "            li = [\n",
    "                    {\n",
    "                        'name':'water_volume_m3',\n",
    "                        'value':15,\n",
    "                        'label':'total volume of water within the closed mechanical system'\n",
    "                    },\n",
    "                    {\n",
    "                        'name':'height_difference_m',\n",
    "                        'value':48,\n",
    "                        'label':'difference in height between the highest and lowest points in the system'\n",
    "                    },\n",
    "                    {\n",
    "                        'name':'eV_acceptance_fraction',\n",
    "                        'value':0.3,\n",
    "                        'min':0,\n",
    "                        'max':1,\n",
    "                        'label':'Expansion vessel acceptance factor (= additional volume / expansion vessel volume):'\n",
    "                    }\n",
    "                ]\n",
    "            ```\n",
    "            \n",
    "            >>> from ipyrun._ipyeditjson import EditListOfDicts\n",
    "            >>> ui = EditListOfDicts(li)\n",
    "            >>> ui\n",
    "            see example image above\n",
    "        Images:\n",
    "            %mf_root%\\ipyrun\\docs\\images\\eg_ui.PNG\n",
    "        \"\"\"\n",
    "        self.out = widgets.Output()\n",
    "        self.li = li\n",
    "        self.form()\n",
    "        self._init_observe()\n",
    "    \n",
    "    def form(self):\n",
    "        self.widgets = []\n",
    "        for l in self.li:\n",
    "            self.widgets.append(EditDict(l))\n",
    "        self._layout()\n",
    "    \n",
    "    def _layout(self):\n",
    "        self.applayout = widgets.VBox([l.layout for l in self.widgets])\n",
    "        \n",
    "    def _init_observe(self): \n",
    "        for l in self.widgets:\n",
    "            l.widget_only.observe(self._update_change, \"value\") \n",
    "    \n",
    "    def _update_change(self, change):\n",
    "        self.li = []\n",
    "        for l in self.widgets:\n",
    "            self.li.append(l.di)\n",
    "        \n",
    "    def _lidi_display(self):\n",
    "        out = [l.layout for l in self.widgets]\n",
    "        self.applayout = widgets.VBox(out)\n",
    "        display(self.applayout)\n",
    "        for l in self.widgets:\n",
    "            display(l.out)\n",
    "            \n",
    "    def _ipython_display_(self):\n",
    "        self._lidi_display()  \n",
    "\n",
    "class EditListOfDictsModelRun(EditListOfDicts):\n",
    "    \"\"\"\n",
    "    Modified version of EditJson, for Model Run spreadsheet\n",
    "    Functionality for DerivedText has been added\n",
    "    \"\"\"\n",
    "    \n",
    "    def __init__(self, li):\n",
    "        super().__init__(li)\n",
    "\n",
    "    def _update_label(self, index, l):\n",
    "        labelVal = \"\"\n",
    "        firstVal = True\n",
    "        for opt in l.di['options']:\n",
    "            try:\n",
    "                if(index+opt < 0):\n",
    "                    raise Exception(\"Can only get values of positive indices\")\n",
    "\n",
    "                value = self.widgets[index+opt].di[\"value\"]\n",
    "\n",
    "                if(value == \"\"):\n",
    "                    value = \"XX\"\n",
    "\n",
    "                if(isinstance(value, float)):\n",
    "                    if(value.is_integer()):\n",
    "                        value = int(value)\n",
    "\n",
    "                if not firstVal:\n",
    "                    labelVal += \"_\"\n",
    "\n",
    "                labelVal += str(value)\n",
    "\n",
    "                firstVal = False\n",
    "            except Exception as e:\n",
    "                pass\n",
    "        return \"{0}\".format(labelVal)\n",
    "    \n",
    "    def _update_change(self, change):\n",
    "        self.li = []\n",
    "        for index, l in enumerate(self.widgets):\n",
    "            if(l.widget_name==\"DerivedText\"):\n",
    "                l.widget_only.value = self._update_label(index, l)\n",
    "            self.li.append(l.di)\n",
    "    \n",
    "    def _layout(self):\n",
    "        self._update_change(\"value\")\n",
    "        super()._layout()"
   ]
  },
  {
   "cell_type": "code",
   "execution_count": 18,
   "metadata": {},
   "outputs": [],
   "source": [
    "class SimpleEditJson(EditListOfDicts):\n",
    "    \"\"\"\n",
    "    inherits EditListOfDicts user input form and manages the reading and \n",
    "    writing the data from a JSON file. \n",
    "    \"\"\"\n",
    "    #def __init__(self, fpth, fdir='.', local_fol='_mfengdev'):\n",
    "    def __init__(self, fpth_in, fpth_out=None):\n",
    "        self.out = widgets.Output()\n",
    "        self.fpth_in = fpth_in\n",
    "        if fpth_out==None:\n",
    "            self.fpth_out = fpth_in\n",
    "        else:\n",
    "            self.fpth_out = fpth_out\n",
    "        #self.fdir = fdir\n",
    "        #self.local_fol = local_fol\n",
    "        #self.fpth_out = self._fpth_out()\n",
    "        self.li = read_json(self.fpth_in)\n",
    "        self.save_changes = widgets.Button(description='save',button_style='success')\n",
    "        self.form()\n",
    "        self._init_observe()\n",
    "        self._init_controls()\n",
    "        \n",
    "    #def _fpth_out(self):\n",
    "    #    fol = os.path.join(self.fdir, self.local_fol)\n",
    "    #    make_dir(fol)\n",
    "    #    return os.path.join(fol,os.path.basename(self.fpth_in))\n",
    "    \n",
    "    def _init_controls(self):  \n",
    "        self.save_changes.on_click(self._save_changes)\n",
    "        \n",
    "    def _save_changes(self, sender):\n",
    "        self.data_out = self.li\n",
    "        #try:\n",
    "            \n",
    "        write_json(self.data_out,\n",
    "                   sort_keys=True,\n",
    "                   indent=4,\n",
    "                   fpth=self.fpth_out,\n",
    "                   print_fpth=False,\n",
    "                   openFile=False)\n",
    "        with self.out:\n",
    "            clear_output()\n",
    "            dateTimeObj = datetime.now()\n",
    "            timestampStr = dateTimeObj.strftime(\"%d-%b-%Y %H:%M:%S:\")\n",
    "            display(Markdown('{0} changes to sheet logged.  to: {1}'.format(timestampStr,self.fpth_out)))\n",
    "            \n",
    "    def display(self):\n",
    "        display(self.save_changes)\n",
    "        out = [l.layout for l in self.widgets]\n",
    "        self.applayout = widgets.VBox(out)\n",
    "        display(self.applayout)\n",
    "        for l in self.widgets:\n",
    "            display(l.out)\n",
    "        display(self.out)\n",
    "            \n",
    "    def _ipython_display_(self):\n",
    "        self.display()  "
   ]
  },
  {
   "cell_type": "code",
   "execution_count": 19,
   "metadata": {
    "lines_to_end_of_cell_marker": 2
   },
   "outputs": [],
   "source": [
    "class EditJson(EditListOfDicts, FileConfigController):\n",
    "    \"\"\"\n",
    "    inherits EditListOfDicts user input form as well FileConfigController \n",
    "    and manages the reading and writing the data from a JSON file. \n",
    "    \"\"\"\n",
    "    #def __init__(self, fpth, fdir='.', local_fol='_mfengdev'):\n",
    "    def __init__(self, config):\n",
    "        self.out = widgets.Output()\n",
    "        self._errors()\n",
    "        self.config = config\n",
    "        self.user_keys = list(config.keys())\n",
    "        self._update_config()\n",
    "        self.file_control_form()\n",
    "        self.li = read_json(self.fpth_inputs)\n",
    "        self._init_file_controller()\n",
    "        self.__build_widgets()\n",
    "        \n",
    "    def __build_widgets(self):\n",
    "        self.form()\n",
    "        self._init_observe()\n",
    "        \n",
    "    def _revert(self, sender):\n",
    "        \"\"\"revert to last save of working inputs file\"\"\"\n",
    "        fpth = self.fpth_inputs\n",
    "        self.temp_message.value = markdown('revert to inputs in last save of: {0}'.format(fpth))\n",
    "        \n",
    "        # ADD CODE HERE TO REVERT TO LAST SAVE\n",
    "        \n",
    "        self.li = read_json(self.fpth_inputs)\n",
    "        self._update_from_file()\n",
    "        self.update_display()\n",
    "        self.display()\n",
    "\n",
    "        \n",
    "    def _update_from_file(self):\n",
    "        for idx, val in enumerate(self.li):\n",
    "            self.widgets[idx].widget_only.value = val['value']\n",
    "            \n",
    "    def _save_changes(self, sender):\n",
    "        \"\"\"save changes to working inputs file\"\"\"\n",
    "        fpth = self.fpth_inputs\n",
    "        dateTimeObj = datetime.now()\n",
    "        self.save_timestampStr = dateTimeObj.strftime(\"%d-%b-%Y %H:%M:%S\")\n",
    "        self.temp_message.value = markdown('{0} saved at: {1}'.format(fpth, self.save_timestampStr))\n",
    "        \n",
    "        self.data_out = self.li \n",
    "        # add code here to save changes to file\n",
    "        write_json(self.data_out,\n",
    "                   sort_keys=True,\n",
    "                   indent=4,\n",
    "                   fpth=fpth,\n",
    "                   print_fpth=False,\n",
    "                   openFile=False)\n",
    "        \n",
    "        self.update_display()\n",
    "        self.display()\n",
    "        \n",
    "    def _load_inputs(self,sender):\n",
    "        \"\"\"launches the inputs from file dialog\"\"\"\n",
    "        self.temp_message.value = markdown('update the user input form with data from file')\n",
    "        if self.load_inputs.value:\n",
    "            self.inputform.children = [self.load_button, self.choose_inputs]\n",
    "        else:\n",
    "            self.temp_message.value = markdown('')\n",
    "            self.inputform.children = []\n",
    "        self.update_display()\n",
    "        self.display()\n",
    "\n",
    "    def _load(self,sender):\n",
    "\n",
    "        fpth = self.choose_inputs.value\n",
    "        # add code here to load form from file\n",
    "        self.li = read_json(fpth)\n",
    "        self._update_from_file()\n",
    "        self.temp_message.value = markdown('input form load data from: {0}'.format(fpth))\n",
    "        self.update_display()\n",
    "        self.display()\n",
    "        \n",
    "    def update_display(self):\n",
    "        #self._lidi_display()\n",
    "        box = widgets.VBox([\n",
    "            self.button_bar,\n",
    "            self.temp_message,\n",
    "            self.inputform,\n",
    "        ])\n",
    "        self.layout = box\n",
    "        for l in self.widgets:\n",
    "            with self.out:\n",
    "                display(l.out)\n",
    "            \n",
    "    def display(self):\n",
    "        self.update_display()\n",
    "        display(self.layout)\n",
    "        #out = [l.layout for l in self.widgets]\n",
    "        #self.applayout = widgets.VBox(out)\n",
    "        display(self.applayout)\n",
    "        #for l in self.widgets:\n",
    "        #    display(l.out)\n",
    "        display(self.out)\n",
    "            \n",
    "    def _ipython_display_(self):\n",
    "        self.display()  \n",
    "        #self._lidi_display()  \n",
    "\n",
    "class EditJsonModelRun(EditListOfDictsModelRun, EditJson):\n",
    "    \"\"\"\n",
    "    Modified version of EditJson, for Model Run spreadsheet\n",
    "    Functionality for DerivedText has been added\n",
    "    \"\"\"\n",
    "    \n",
    "    def __init__(self, config):\n",
    "        EditJson.__init__(self, config)\n",
    "        \n",
    "    def __build_widgets(self):\n",
    "        EditListOfDictsModelRun.form()\n",
    "        EditListOfDictsModelRun._init_observe()"
   ]
  },
  {
   "cell_type": "code",
   "execution_count": 24,
   "metadata": {
    "lines_to_next_cell": 2
   },
   "outputs": [
    {
     "data": {
      "text/markdown": [
       "### Example0"
      ],
      "text/plain": [
       "<IPython.core.display.Markdown object>"
      ]
     },
     "metadata": {},
     "output_type": "display_data"
    },
    {
     "data": {
      "text/markdown": [
       "Edit list of dicts"
      ],
      "text/plain": [
       "<IPython.core.display.Markdown object>"
      ]
     },
     "metadata": {},
     "output_type": "display_data"
    },
    {
     "data": {
      "application/vnd.jupyter.widget-view+json": {
       "model_id": "08e76f95c4b64041bc2a975dabd71623",
       "version_major": 2,
       "version_minor": 0
      },
      "text/plain": [
       "VBox(children=(HBox(children=(HBox(children=(HTML(value='<p>reous foo ous foo st</p>'), HBox(children=(FloatTe…"
      ]
     },
     "metadata": {},
     "output_type": "display_data"
    },
    {
     "data": {
      "application/vnd.jupyter.widget-view+json": {
       "model_id": "83dfa69371564fd1bef96f7fd68fed4a",
       "version_major": 2,
       "version_minor": 0
      },
      "text/plain": [
       "Output()"
      ]
     },
     "metadata": {},
     "output_type": "display_data"
    },
    {
     "data": {
      "application/vnd.jupyter.widget-view+json": {
       "model_id": "b6eadc4530de4c0195e977f892906f63",
       "version_major": 2,
       "version_minor": 0
      },
      "text/plain": [
       "Output()"
      ]
     },
     "metadata": {},
     "output_type": "display_data"
    },
    {
     "data": {
      "application/vnd.jupyter.widget-view+json": {
       "model_id": "72307e642b204de38cc6760c675e1274",
       "version_major": 2,
       "version_minor": 0
      },
      "text/plain": [
       "Output()"
      ]
     },
     "metadata": {},
     "output_type": "display_data"
    },
    {
     "data": {
      "application/vnd.jupyter.widget-view+json": {
       "model_id": "02fe9a4012d746a7bb0246ba4afeb48d",
       "version_major": 2,
       "version_minor": 0
      },
      "text/plain": [
       "Output()"
      ]
     },
     "metadata": {},
     "output_type": "display_data"
    },
    {
     "data": {
      "application/vnd.jupyter.widget-view+json": {
       "model_id": "e33d7d32b84a463ab562aa8b411231d8",
       "version_major": 2,
       "version_minor": 0
      },
      "text/plain": [
       "Output()"
      ]
     },
     "metadata": {},
     "output_type": "display_data"
    },
    {
     "data": {
      "application/vnd.jupyter.widget-view+json": {
       "model_id": "67117dcd8aa84e07b572d137a6a2e4f5",
       "version_major": 2,
       "version_minor": 0
      },
      "text/plain": [
       "Output()"
      ]
     },
     "metadata": {},
     "output_type": "display_data"
    },
    {
     "data": {
      "application/vnd.jupyter.widget-view+json": {
       "model_id": "d5400effa6894cf7be2571ca676a52d7",
       "version_major": 2,
       "version_minor": 0
      },
      "text/plain": [
       "Output()"
      ]
     },
     "metadata": {},
     "output_type": "display_data"
    },
    {
     "data": {
      "application/vnd.jupyter.widget-view+json": {
       "model_id": "39627b565f2c43bba6f0ceafdb2f9582",
       "version_major": 2,
       "version_minor": 0
      },
      "text/plain": [
       "Output()"
      ]
     },
     "metadata": {},
     "output_type": "display_data"
    },
    {
     "data": {
      "text/markdown": [
       "---"
      ],
      "text/plain": [
       "<IPython.core.display.Markdown object>"
      ]
     },
     "metadata": {},
     "output_type": "display_data"
    },
    {
     "data": {
      "text/markdown": [],
      "text/plain": [
       "<IPython.core.display.Markdown object>"
      ]
     },
     "metadata": {},
     "output_type": "display_data"
    },
    {
     "data": {
      "text/markdown": [
       "### Example1"
      ],
      "text/plain": [
       "<IPython.core.display.Markdown object>"
      ]
     },
     "metadata": {},
     "output_type": "display_data"
    },
    {
     "data": {
      "text/markdown": [
       "Simple Edit Json"
      ],
      "text/plain": [
       "<IPython.core.display.Markdown object>"
      ]
     },
     "metadata": {},
     "output_type": "display_data"
    },
    {
     "data": {
      "application/vnd.jupyter.widget-view+json": {
       "model_id": "ea39209537784afcabcd6fe66f321052",
       "version_major": 2,
       "version_minor": 0
      },
      "text/plain": [
       "Button(button_style='success', description='save', style=ButtonStyle())"
      ]
     },
     "metadata": {},
     "output_type": "display_data"
    },
    {
     "data": {
      "application/vnd.jupyter.widget-view+json": {
       "model_id": "e7c4f53eb0f8419c9c3a4dcbc381de30",
       "version_major": 2,
       "version_minor": 0
      },
      "text/plain": [
       "VBox(children=(HBox(children=(HBox(children=(HTML(value='<p>reous foo ous foo st</p>'), HBox(children=(FloatTe…"
      ]
     },
     "metadata": {},
     "output_type": "display_data"
    },
    {
     "data": {
      "application/vnd.jupyter.widget-view+json": {
       "model_id": "30f1b010e12446c69cbb497cd81a54e4",
       "version_major": 2,
       "version_minor": 0
      },
      "text/plain": [
       "Output()"
      ]
     },
     "metadata": {},
     "output_type": "display_data"
    },
    {
     "data": {
      "application/vnd.jupyter.widget-view+json": {
       "model_id": "7a3df7bdc2c9478583ea45ae791d9315",
       "version_major": 2,
       "version_minor": 0
      },
      "text/plain": [
       "Output()"
      ]
     },
     "metadata": {},
     "output_type": "display_data"
    },
    {
     "data": {
      "application/vnd.jupyter.widget-view+json": {
       "model_id": "6bece09ba3c94f438b0f76dac4f69122",
       "version_major": 2,
       "version_minor": 0
      },
      "text/plain": [
       "Output()"
      ]
     },
     "metadata": {},
     "output_type": "display_data"
    },
    {
     "data": {
      "application/vnd.jupyter.widget-view+json": {
       "model_id": "e94115245ebe4384b5a0999960b7718b",
       "version_major": 2,
       "version_minor": 0
      },
      "text/plain": [
       "Output()"
      ]
     },
     "metadata": {},
     "output_type": "display_data"
    },
    {
     "data": {
      "application/vnd.jupyter.widget-view+json": {
       "model_id": "10d91b2531a7410e9b40d2b5cff1d136",
       "version_major": 2,
       "version_minor": 0
      },
      "text/plain": [
       "Output()"
      ]
     },
     "metadata": {},
     "output_type": "display_data"
    },
    {
     "data": {
      "application/vnd.jupyter.widget-view+json": {
       "model_id": "6469909b14844b64aa3acdacd9e49030",
       "version_major": 2,
       "version_minor": 0
      },
      "text/plain": [
       "Output()"
      ]
     },
     "metadata": {},
     "output_type": "display_data"
    },
    {
     "data": {
      "application/vnd.jupyter.widget-view+json": {
       "model_id": "f1491ef053124ec8b113ff0bafac46ad",
       "version_major": 2,
       "version_minor": 0
      },
      "text/plain": [
       "Output()"
      ]
     },
     "metadata": {},
     "output_type": "display_data"
    },
    {
     "data": {
      "application/vnd.jupyter.widget-view+json": {
       "model_id": "65429e86da0a4807a333166c62f9ecde",
       "version_major": 2,
       "version_minor": 0
      },
      "text/plain": [
       "Output()"
      ]
     },
     "metadata": {},
     "output_type": "display_data"
    },
    {
     "data": {
      "application/vnd.jupyter.widget-view+json": {
       "model_id": "356614a4b5074574871c32ff3119ce44",
       "version_major": 2,
       "version_minor": 0
      },
      "text/plain": [
       "Output()"
      ]
     },
     "metadata": {},
     "output_type": "display_data"
    },
    {
     "data": {
      "text/markdown": [
       "---"
      ],
      "text/plain": [
       "<IPython.core.display.Markdown object>"
      ]
     },
     "metadata": {},
     "output_type": "display_data"
    },
    {
     "data": {
      "text/markdown": [],
      "text/plain": [
       "<IPython.core.display.Markdown object>"
      ]
     },
     "metadata": {},
     "output_type": "display_data"
    },
    {
     "data": {
      "text/markdown": [
       "### Example2"
      ],
      "text/plain": [
       "<IPython.core.display.Markdown object>"
      ]
     },
     "metadata": {},
     "output_type": "display_data"
    },
    {
     "data": {
      "text/markdown": [
       "EDIT JSON FILE with custom config and file management"
      ],
      "text/plain": [
       "<IPython.core.display.Markdown object>"
      ]
     },
     "metadata": {},
     "output_type": "display_data"
    },
    {
     "data": {
      "application/vnd.jupyter.widget-view+json": {
       "model_id": "874c95072f4a4b90a397a0cb3831eb96",
       "version_major": 2,
       "version_minor": 0
      },
      "text/plain": [
       "VBox(children=(HBox(children=(ToggleButton(value=False, button_style='info', description='inputs from file'), …"
      ]
     },
     "metadata": {},
     "output_type": "display_data"
    },
    {
     "data": {
      "application/vnd.jupyter.widget-view+json": {
       "model_id": "ce21414ebd6947b6b73d364d0693de32",
       "version_major": 2,
       "version_minor": 0
      },
      "text/plain": [
       "VBox(children=(HBox(children=(HBox(children=(HTML(value='<p>fpth_in</p>'), HBox(children=(Text(value='2'), HTM…"
      ]
     },
     "metadata": {},
     "output_type": "display_data"
    },
    {
     "data": {
      "application/vnd.jupyter.widget-view+json": {
       "model_id": "d108f80586c94a28977b2e5db99a7982",
       "version_major": 2,
       "version_minor": 0
      },
      "text/plain": [
       "Output()"
      ]
     },
     "metadata": {},
     "output_type": "display_data"
    },
    {
     "data": {
      "text/markdown": [
       "---"
      ],
      "text/plain": [
       "<IPython.core.display.Markdown object>"
      ]
     },
     "metadata": {},
     "output_type": "display_data"
    },
    {
     "data": {
      "text/markdown": [],
      "text/plain": [
       "<IPython.core.display.Markdown object>"
      ]
     },
     "metadata": {},
     "output_type": "display_data"
    },
    {
     "data": {
      "text/markdown": [
       "### Example3"
      ],
      "text/plain": [
       "<IPython.core.display.Markdown object>"
      ]
     },
     "metadata": {},
     "output_type": "display_data"
    },
    {
     "data": {
      "text/markdown": [
       "EDIT NESTED JSON FILE with custom config and file management"
      ],
      "text/plain": [
       "<IPython.core.display.Markdown object>"
      ]
     },
     "metadata": {},
     "output_type": "display_data"
    },
    {
     "data": {
      "application/vnd.jupyter.widget-view+json": {
       "model_id": "69c81c21fd7640edb7531836d1166d2c",
       "version_major": 2,
       "version_minor": 0
      },
      "text/plain": [
       "VBox(children=(HBox(children=(ToggleButton(value=False, button_style='info', description='inputs from file'), …"
      ]
     },
     "metadata": {},
     "output_type": "display_data"
    },
    {
     "data": {
      "application/vnd.jupyter.widget-view+json": {
       "model_id": "4cb7f48a2ac94dbba5ce5b27828f587f",
       "version_major": 2,
       "version_minor": 0
      },
      "text/plain": [
       "VBox(children=(HBox(children=(HBox(children=(HTML(value='<p>fpth_in</p>'), HBox(children=(Text(value='C:\\\\engD…"
      ]
     },
     "metadata": {},
     "output_type": "display_data"
    },
    {
     "data": {
      "application/vnd.jupyter.widget-view+json": {
       "model_id": "03b240578da046c18b28dc6c3b574782",
       "version_major": 2,
       "version_minor": 0
      },
      "text/plain": [
       "Output()"
      ]
     },
     "metadata": {},
     "output_type": "display_data"
    },
    {
     "data": {
      "text/markdown": [
       "---"
      ],
      "text/plain": [
       "<IPython.core.display.Markdown object>"
      ]
     },
     "metadata": {},
     "output_type": "display_data"
    },
    {
     "data": {
      "text/markdown": [],
      "text/plain": [
       "<IPython.core.display.Markdown object>"
      ]
     },
     "metadata": {},
     "output_type": "display_data"
    },
    {
     "data": {
      "text/markdown": [
       "### Example4"
      ],
      "text/plain": [
       "<IPython.core.display.Markdown object>"
      ]
     },
     "metadata": {},
     "output_type": "display_data"
    },
    {
     "data": {
      "text/markdown": [
       "EDIT JSON with DatePicker and DerivedText widgetss"
      ],
      "text/plain": [
       "<IPython.core.display.Markdown object>"
      ]
     },
     "metadata": {},
     "output_type": "display_data"
    },
    {
     "data": {
      "application/vnd.jupyter.widget-view+json": {
       "model_id": "75f39093b44f41f392e971a95a3cc4c9",
       "version_major": 2,
       "version_minor": 0
      },
      "text/plain": [
       "VBox(children=(HBox(children=(HBox(children=(HTML(value='<p>Date Picker</p>'), HBox(children=(DatePicker(value…"
      ]
     },
     "metadata": {},
     "output_type": "display_data"
    },
    {
     "data": {
      "application/vnd.jupyter.widget-view+json": {
       "model_id": "4fd2dfb06d5e489ba98d7272c76517a3",
       "version_major": 2,
       "version_minor": 0
      },
      "text/plain": [
       "Output()"
      ]
     },
     "metadata": {},
     "output_type": "display_data"
    },
    {
     "data": {
      "application/vnd.jupyter.widget-view+json": {
       "model_id": "e926eb3f577e4786ae09b73721390b83",
       "version_major": 2,
       "version_minor": 0
      },
      "text/plain": [
       "Output()"
      ]
     },
     "metadata": {},
     "output_type": "display_data"
    },
    {
     "data": {
      "application/vnd.jupyter.widget-view+json": {
       "model_id": "5e296e9f759a43548fada2901f13690f",
       "version_major": 2,
       "version_minor": 0
      },
      "text/plain": [
       "Output()"
      ]
     },
     "metadata": {},
     "output_type": "display_data"
    },
    {
     "data": {
      "application/vnd.jupyter.widget-view+json": {
       "model_id": "633f4030b5604b65b0f9698fb9e6a09e",
       "version_major": 2,
       "version_minor": 0
      },
      "text/plain": [
       "Output()"
      ]
     },
     "metadata": {},
     "output_type": "display_data"
    },
    {
     "data": {
      "application/vnd.jupyter.widget-view+json": {
       "model_id": "55f6f5fc5db949c2aa0f30b5678126e9",
       "version_major": 2,
       "version_minor": 0
      },
      "text/plain": [
       "Output()"
      ]
     },
     "metadata": {},
     "output_type": "display_data"
    },
    {
     "data": {
      "application/vnd.jupyter.widget-view+json": {
       "model_id": "cb89e20434a94605a354bcc3779401b3",
       "version_major": 2,
       "version_minor": 0
      },
      "text/plain": [
       "Output()"
      ]
     },
     "metadata": {},
     "output_type": "display_data"
    },
    {
     "data": {
      "text/markdown": [
       "---"
      ],
      "text/plain": [
       "<IPython.core.display.Markdown object>"
      ]
     },
     "metadata": {},
     "output_type": "display_data"
    },
    {
     "data": {
      "text/markdown": [],
      "text/plain": [
       "<IPython.core.display.Markdown object>"
      ]
     },
     "metadata": {},
     "output_type": "display_data"
    }
   ],
   "source": [
    "if __name__ =='__main__':\n",
    "    \n",
    "    # FORM ONLY EXAMPLE\n",
    "    NBFDIR = os.path.dirname(os.path.realpath('__file__'))\n",
    "    fpth = os.path.join(NBFDIR,r'appdata\\inputs\\test.json')\n",
    "    li = read_json(fpth)\n",
    "    g = EditListOfDicts(li)\n",
    "    display(Markdown('### Example0'))\n",
    "    display(Markdown('''Edit list of dicts'''))\n",
    "    display(g)\n",
    "    display(Markdown('---'))  \n",
    "    display(Markdown('')) \n",
    "    \n",
    "    # Example1\n",
    "    FDIR = os.path.dirname(os.path.realpath('__file__'))\n",
    "    fpth = os.path.join(FDIR,r'appdata/inputs/test.json')\n",
    "    simpleeditjson = SimpleEditJson(fpth)\n",
    "    # display\n",
    "    display(Markdown('### Example1'))\n",
    "    display(Markdown('''Simple Edit Json'''))\n",
    "    display(simpleeditjson)\n",
    "    display(Markdown('---'))  \n",
    "    display(Markdown('')) \n",
    "    \n",
    "    # Example2\n",
    "    # EDIT JSON FILE with custom config and file management\n",
    "    config={\n",
    "        'fpth_script':os.path.join(os.environ['mf_root'],r'MF_Toolbox\\dev\\mf_scripts\\docx_to_pdf.py'),\n",
    "        'fdir':'.',\n",
    "        'script_outputs': {'0': {\n",
    "            'fdir':'..\\reports',\n",
    "            'fnm': r'JupyterReportDemo.pdf',\n",
    "            'description': \"a pdf report from word\"\n",
    "                }\n",
    "            }\n",
    "        }\n",
    "    editjson = EditJson(config)\n",
    "    # display\n",
    "    display(Markdown('### Example2'))\n",
    "    display(Markdown('''EDIT JSON FILE with custom config and file management'''))\n",
    "    display(editjson)\n",
    "    display(Markdown('---'))  \n",
    "    display(Markdown('')) \n",
    "    \n",
    "\n",
    "    \n",
    "    # Example3\n",
    "    # EDIT NESTED JSON FILE with custom config and file management\n",
    "    nestedconfig={\n",
    "        'fpth_script':os.path.join(os.environ['mf_root'],r'MF_Toolbox\\dev\\mf_scripts\\gbxml.py'),\n",
    "        'fdir':'.',\n",
    "        }\n",
    "    editnestedjson = EditJsonModelRun(nestedconfig)\n",
    "    # display\n",
    "    display(Markdown('### Example3'))\n",
    "    display(Markdown('''EDIT NESTED JSON FILE with custom config and file management'''))\n",
    "    display(editnestedjson)\n",
    "    display(Markdown('---'))  \n",
    "    display(Markdown('')) \n",
    "\n",
    "        \n",
    "    # Example4\n",
    "    # EDIT JSON with DatePicker and DerivedText widgets\n",
    "    NBFDIR = os.path.dirname(os.path.realpath('__file__'))\n",
    "    fpth = os.path.join(NBFDIR,r'appdata\\inputs\\test-derived-val.json')\n",
    "    li = read_json(fpth)\n",
    "    g = EditListOfDictsModelRun(li)\n",
    "    display(Markdown('### Example4'))\n",
    "    display(Markdown('''EDIT JSON with DatePicker and DerivedText widgetss'''))\n",
    "    display(g)\n",
    "    display(Markdown('---'))  \n",
    "    display(Markdown('')) "
   ]
  },
  {
   "cell_type": "code",
   "execution_count": null,
   "metadata": {
    "lines_to_next_cell": 2
   },
   "outputs": [],
   "source": []
  },
  {
   "cell_type": "code",
   "execution_count": null,
   "metadata": {},
   "outputs": [],
   "source": []
  },
  {
   "cell_type": "code",
   "execution_count": null,
   "metadata": {},
   "outputs": [],
   "source": []
  },
  {
   "cell_type": "code",
   "execution_count": null,
   "metadata": {},
   "outputs": [],
   "source": []
  },
  {
   "cell_type": "code",
   "execution_count": null,
   "metadata": {
    "lines_to_next_cell": 2
   },
   "outputs": [],
   "source": []
  },
  {
   "cell_type": "code",
   "execution_count": null,
   "metadata": {
    "lines_to_next_cell": 2
   },
   "outputs": [],
   "source": []
  },
  {
   "cell_type": "code",
   "execution_count": null,
   "metadata": {},
   "outputs": [],
   "source": []
  },
  {
   "cell_type": "code",
   "execution_count": null,
   "metadata": {},
   "outputs": [],
   "source": []
  },
  {
   "cell_type": "code",
   "execution_count": null,
   "metadata": {},
   "outputs": [],
   "source": []
  },
  {
   "cell_type": "code",
   "execution_count": null,
   "metadata": {},
   "outputs": [],
   "source": []
  },
  {
   "cell_type": "code",
   "execution_count": null,
   "metadata": {},
   "outputs": [],
   "source": []
  },
  {
   "cell_type": "code",
   "execution_count": null,
   "metadata": {},
   "outputs": [],
   "source": []
  }
 ],
 "metadata": {
  "jupytext": {
   "formats": "ipynb,py:light"
  },
  "kernelspec": {
   "display_name": "Python [conda env:mf_main] *",
   "language": "python",
   "name": "conda-env-mf_main-py"
  },
  "language_info": {
   "codemirror_mode": {
    "name": "ipython",
    "version": 3
   },
   "file_extension": ".py",
   "mimetype": "text/x-python",
   "name": "python",
   "nbconvert_exporter": "python",
   "pygments_lexer": "ipython3",
   "version": "3.7.7"
  },
  "widgets": {
   "application/vnd.jupyter.widget-state+json": {
    "state": {
     "002951d9b642423eabebed2ec3701f91": {
      "model_module": "@jupyter-widgets/controls",
      "model_module_version": "1.5.0",
      "model_name": "ButtonStyleModel",
      "state": {
       "font_weight": "bold"
      }
     },
     "00ae768e5df74b5c8d4e619ef9a11fa9": {
      "model_module": "@jupyter-widgets/controls",
      "model_module_version": "1.5.0",
      "model_name": "ButtonStyleModel",
      "state": {
       "font_weight": "bold"
      }
     },
     "02b4edbc8291496397f6099d08671dad": {
      "model_module": "@jupyter-widgets/controls",
      "model_module_version": "1.5.0",
      "model_name": "ButtonModel",
      "state": {
       "description": "save",
       "layout": "IPY_MODEL_af9626d9258f43f39eea5472683bedba",
       "style": "IPY_MODEL_1b506e2c32834ad4b96d220f656211c1"
      }
     },
     "031e24fa99da44f19118f127d5030efd": {
      "model_module": "@jupyter-widgets/base",
      "model_module_version": "1.2.0",
      "model_name": "LayoutModel",
      "state": {
       "align_items": "stretch",
       "width": "100%"
      }
     },
     "03439d393783407b8492780884c65fde": {
      "model_module": "@jupyter-widgets/controls",
      "model_module_version": "1.5.0",
      "model_name": "DescriptionStyleModel",
      "state": {
       "description_width": ""
      }
     },
     "039567d7d5b14d1f8411c0e3293c4864": {
      "model_module": "@jupyter-widgets/controls",
      "model_module_version": "1.5.0",
      "model_name": "HTMLModel",
      "state": {
       "layout": "IPY_MODEL_fea509fe4ee744c4b83ec6dd1b6e7957",
       "style": "IPY_MODEL_9b99f3781b5741548b38436ac6d21698",
       "value": "<p>its a delicious foo cake</p>"
      }
     },
     "03cb33c8e75c4fcca7032c4197a987f8": {
      "model_module": "@jupyter-widgets/controls",
      "model_module_version": "1.5.0",
      "model_name": "SliderStyleModel",
      "state": {
       "description_width": ""
      }
     },
     "04741517d01449548ab6c577ec30258c": {
      "model_module": "@jupyter-widgets/controls",
      "model_module_version": "1.5.0",
      "model_name": "HTMLModel",
      "state": {
       "layout": "IPY_MODEL_91e1b0055dd54c2494952698039932a0",
       "style": "IPY_MODEL_e2fa6a1f42f749f78e9ed65400b0e46e",
       "value": "<p>fus foo ous o</p>"
      }
     },
     "049fb9e1fdbb47ce99b6ebe348c1dec5": {
      "model_module": "@jupyter-widgets/base",
      "model_module_version": "1.2.0",
      "model_name": "LayoutModel",
      "state": {}
     },
     "04b3c9af906a428d9be60806c1a0277d": {
      "model_module": "@jupyter-widgets/controls",
      "model_module_version": "1.5.0",
      "model_name": "HTMLModel",
      "state": {
       "layout": "IPY_MODEL_2830efdd6b314302b672f21c6af21781",
       "style": "IPY_MODEL_ea608093dd424f73af9563edd5fd5d3f",
       "value": "<p>its a foo cake</p>"
      }
     },
     "05876d7e267e49fab7e97383e8ce6f8a": {
      "model_module": "@jupyter-widgets/base",
      "model_module_version": "1.2.0",
      "model_name": "LayoutModel",
      "state": {
       "display": "flex",
       "flex_flow": "row",
       "grid_auto_columns": "False",
       "justify_content": "flex-start",
       "width": "100%"
      }
     },
     "05e744428d9444afb8b00f84a98b5a2c": {
      "model_module": "@jupyter-widgets/controls",
      "model_module_version": "1.5.0",
      "model_name": "ButtonModel",
      "state": {
       "button_style": "info",
       "description": "show guide",
       "layout": "IPY_MODEL_2a0338cb2bfe4f8ba842ffd7a36e79c4",
       "style": "IPY_MODEL_9e92bde8e4934caaa11f5c4d4f41221a",
       "tooltip": "read the \"docstring\", ie. the documentation that was written to accompany the script"
      }
     },
     "05eca7a510e342659f658ac2319b2097": {
      "model_module": "@jupyter-widgets/base",
      "model_module_version": "1.2.0",
      "model_name": "LayoutModel",
      "state": {}
     },
     "075ef05eeba442629a7de1f291236276": {
      "model_module": "@jupyter-widgets/base",
      "model_module_version": "1.2.0",
      "model_name": "LayoutModel",
      "state": {}
     },
     "076f4b88ef004da2afbe12bb34662637": {
      "model_module": "@jupyter-widgets/base",
      "model_module_version": "1.2.0",
      "model_name": "LayoutModel",
      "state": {}
     },
     "07bbfd65567241a7833ca04e2d70f9cf": {
      "model_module": "@jupyter-widgets/base",
      "model_module_version": "1.2.0",
      "model_name": "LayoutModel",
      "state": {
       "align_items": "stretch",
       "border": "dashed 0.2px green",
       "display": "flex",
       "flex_flow": "row",
       "grid_auto_columns": "True",
       "justify_content": "flex-start",
       "width": "100%"
      }
     },
     "08099f661c3d48809c8ce06342bc3e06": {
      "model_module": "@jupyter-widgets/controls",
      "model_module_version": "1.5.0",
      "model_name": "SelectMultipleModel",
      "state": {
       "_options_labels": [
        "C:\\engDev\\git_mf\\ipyrun\\data\\raw\\gbxml.xml",
        "C:\\engDev\\git_mf\\ipyrun\\data\\interim\\gbjson.json",
        "C:\\engDev\\git_mf\\ipyrun\\data\\processed\\gbxml_datagrab.xlsx",
        "C:\\engDev\\git_mf\\ipyrun\\data\\processed\\gbxml_spcs-treemap.png"
       ],
       "description": "outputs",
       "index": [],
       "layout": "IPY_MODEL_752e159761a542a6bf0dee1fd4af2539",
       "rows": 4,
       "style": "IPY_MODEL_6f3f223e124e41898409d762f3933e16"
      }
     },
     "08fac4e56c98456a963ad8f4cc88dc85": {
      "model_module": "@jupyter-widgets/base",
      "model_module_version": "1.2.0",
      "model_name": "LayoutModel",
      "state": {}
     },
     "094378cf142f4d5a9aa5867a654eb1ec": {
      "model_module": "@jupyter-widgets/controls",
      "model_module_version": "1.5.0",
      "model_name": "ButtonStyleModel",
      "state": {
       "font_weight": "bold"
      }
     },
     "0aa4eeeca229488a98a022b0f4dd7756": {
      "model_module": "@jupyter-widgets/controls",
      "model_module_version": "1.5.0",
      "model_name": "VBoxModel",
      "state": {
       "children": [
        "IPY_MODEL_d011a0f05bfc463ca32fd1cfcbb3fbf8",
        "IPY_MODEL_1dd45f1de95f41cbbdb48736672d54b9"
       ],
       "layout": "IPY_MODEL_e8fcaba790884e0192c00a22e8aa6d0d"
      }
     },
     "0b9fd76c467a4c3ea1aa80e2e9b90919": {
      "model_module": "@jupyter-widgets/base",
      "model_module_version": "1.2.0",
      "model_name": "LayoutModel",
      "state": {
       "align_items": "stretch",
       "border": "dashed 0.2px green",
       "display": "flex",
       "flex_flow": "row",
       "grid_auto_columns": "True",
       "justify_content": "flex-start",
       "width": "100%"
      }
     },
     "0ba0c52da4dd4ee29e136b84ba7d29a7": {
      "model_module": "@jupyter-widgets/controls",
      "model_module_version": "1.5.0",
      "model_name": "DescriptionStyleModel",
      "state": {
       "description_width": ""
      }
     },
     "0d057462f7e24534a585e41b22a67650": {
      "model_module": "@jupyter-widgets/controls",
      "model_module_version": "1.5.0",
      "model_name": "HBoxModel",
      "state": {
       "children": [
        "IPY_MODEL_1c28a313e6f94471acb85e21f089df79",
        "IPY_MODEL_6231c22473a04532b8aec6d5da41f1f4"
       ],
       "layout": "IPY_MODEL_9bd8ed49980b45e893c9ac273f2cd7a6"
      }
     },
     "0ddd6468166a418481b167b1f8ed0525": {
      "model_module": "@jupyter-widgets/controls",
      "model_module_version": "1.5.0",
      "model_name": "FloatTextModel",
      "state": {
       "layout": "IPY_MODEL_6141e70e58b340d18acafea8c6addaef",
       "step": null,
       "style": "IPY_MODEL_1b4ef0dba5724163be3ec50faab30608",
       "value": 9
      }
     },
     "0de67466eb894b0dac3decdd531a4197": {
      "model_module": "@jupyter-widgets/controls",
      "model_module_version": "1.5.0",
      "model_name": "ButtonStyleModel",
      "state": {
       "font_weight": "bold"
      }
     },
     "0e46355a495144518d33fea95acf9859": {
      "model_module": "@jupyter-widgets/base",
      "model_module_version": "1.2.0",
      "model_name": "LayoutModel",
      "state": {}
     },
     "0e55dcbf9e3d4e5e8137665281bac664": {
      "model_module": "@jupyter-widgets/base",
      "model_module_version": "1.2.0",
      "model_name": "LayoutModel",
      "state": {}
     },
     "0fc57bb1e351442998041f6781d16067": {
      "model_module": "@jupyter-widgets/controls",
      "model_module_version": "1.5.0",
      "model_name": "CheckboxModel",
      "state": {
       "disabled": false,
       "layout": "IPY_MODEL_dd059ae665d24fe2b332dfe8c99e7ac8",
       "style": "IPY_MODEL_7ac91285c843486caf8df741e2c5e5e7",
       "value": false
      }
     },
     "1004ef7fecd24a4ba514d4fcff748e1a": {
      "model_module": "@jupyter-widgets/controls",
      "model_module_version": "1.5.0",
      "model_name": "ButtonModel",
      "state": {
       "button_style": "warning",
       "description": "revert to last save",
       "layout": "IPY_MODEL_075ef05eeba442629a7de1f291236276",
       "style": "IPY_MODEL_d9bc20eaa64f420a9ea154ed781fac42"
      }
     },
     "1020ef62516a4dbbad5386f0e1e6d03c": {
      "model_module": "@jupyter-widgets/base",
      "model_module_version": "1.2.0",
      "model_name": "LayoutModel",
      "state": {
       "width": "100%"
      }
     },
     "10238da01ff547ad885da6d361bed3c6": {
      "model_module": "@jupyter-widgets/base",
      "model_module_version": "1.2.0",
      "model_name": "LayoutModel",
      "state": {}
     },
     "10b6f3f723294bfe9920adfc395d534b": {
      "model_module": "@jupyter-widgets/controls",
      "model_module_version": "1.5.0",
      "model_name": "FloatSliderModel",
      "state": {
       "layout": "IPY_MODEL_fc17809a703f44ee8fe976c5614bf09a",
       "max": 10,
       "style": "IPY_MODEL_03cb33c8e75c4fcca7032c4197a987f8",
       "value": 1
      }
     },
     "11dd1f07c56c40cd878448466c87216c": {
      "model_module": "@jupyter-widgets/base",
      "model_module_version": "1.2.0",
      "model_name": "LayoutModel",
      "state": {
       "align_items": "stretch",
       "display": "flex",
       "flex_flow": "row",
       "grid_auto_columns": "True",
       "justify_content": "flex-start",
       "width": "80%"
      }
     },
     "1227e7a21c9d455eb07b317eb68597f4": {
      "model_module": "@jupyter-widgets/base",
      "model_module_version": "1.2.0",
      "model_name": "LayoutModel",
      "state": {}
     },
     "122d76e7601b4302b58061039e2027cd": {
      "model_module": "@jupyter-widgets/output",
      "model_module_version": "1.0.0",
      "model_name": "OutputModel",
      "state": {
       "layout": "IPY_MODEL_1c905657e95942eca2961d4c458cc71b"
      }
     },
     "12e12bfef99e40bd9a2a5c407d39688d": {
      "model_module": "@jupyter-widgets/controls",
      "model_module_version": "1.5.0",
      "model_name": "ButtonStyleModel",
      "state": {}
     },
     "14067c6c00d44e1cb3d0967a766320ed": {
      "model_module": "@jupyter-widgets/controls",
      "model_module_version": "1.5.0",
      "model_name": "TextareaModel",
      "state": {
       "layout": "IPY_MODEL_988e8951847441b88f16170d0829a506",
       "style": "IPY_MODEL_666a173dcaf04ec5b1408464a4a13ce7",
       "value": "asdfasdf"
      }
     },
     "1528fbb9af3b434786296515f3113e9a": {
      "model_module": "@jupyter-widgets/controls",
      "model_module_version": "1.5.0",
      "model_name": "DescriptionStyleModel",
      "state": {
       "description_width": ""
      }
     },
     "15413bed9271491e890e35a2aafa9295": {
      "model_module": "@jupyter-widgets/controls",
      "model_module_version": "1.5.0",
      "model_name": "DescriptionStyleModel",
      "state": {
       "description_width": ""
      }
     },
     "16175c9779674729bbf873151ae7a58b": {
      "model_module": "@jupyter-widgets/base",
      "model_module_version": "1.2.0",
      "model_name": "LayoutModel",
      "state": {
       "align_items": "stretch",
       "border": "dashed 0.2px green",
       "display": "flex",
       "flex_flow": "row",
       "grid_auto_columns": "True",
       "justify_content": "flex-start",
       "width": "100%"
      }
     },
     "1664e98c7870498ea4632508100cf778": {
      "model_module": "@jupyter-widgets/base",
      "model_module_version": "1.2.0",
      "model_name": "LayoutModel",
      "state": {}
     },
     "166c3988ff434e7989e886ea309b7c0d": {
      "model_module": "@jupyter-widgets/controls",
      "model_module_version": "1.5.0",
      "model_name": "HBoxModel",
      "state": {
       "children": [
        "IPY_MODEL_da4c60ae9cc34d5cab575df90cf0c3c2"
       ],
       "layout": "IPY_MODEL_af3a097891c443229995a1dfc1b4ae98"
      }
     },
     "181bfbc7d9794a948f365db80f6dcddd": {
      "model_module": "@jupyter-widgets/base",
      "model_module_version": "1.2.0",
      "model_name": "LayoutModel",
      "state": {}
     },
     "1877293d26e445ff8b5b6dad35352529": {
      "model_module": "@jupyter-widgets/base",
      "model_module_version": "1.2.0",
      "model_name": "LayoutModel",
      "state": {}
     },
     "1900472cee4246e78dc97ae86bd2333a": {
      "model_module": "@jupyter-widgets/base",
      "model_module_version": "1.2.0",
      "model_name": "LayoutModel",
      "state": {}
     },
     "1954fba91f114c93944a3bdb2b76dd3a": {
      "model_module": "@jupyter-widgets/base",
      "model_module_version": "1.2.0",
      "model_name": "LayoutModel",
      "state": {}
     },
     "19aa8b54b2634818835900a91782a902": {
      "model_module": "@jupyter-widgets/controls",
      "model_module_version": "1.5.0",
      "model_name": "HTMLModel",
      "state": {
       "layout": "IPY_MODEL_6f75686865ba4afaae1322029e0bbfcb",
       "style": "IPY_MODEL_afc1680fe7d349aa973e400bd944a430",
       "value": "<p>fus foo ous o</p>"
      }
     },
     "1b4ef0dba5724163be3ec50faab30608": {
      "model_module": "@jupyter-widgets/controls",
      "model_module_version": "1.5.0",
      "model_name": "DescriptionStyleModel",
      "state": {
       "description_width": ""
      }
     },
     "1b506e2c32834ad4b96d220f656211c1": {
      "model_module": "@jupyter-widgets/controls",
      "model_module_version": "1.5.0",
      "model_name": "ButtonStyleModel",
      "state": {}
     },
     "1b95cbe5d0d04744ba7311fcc94fefd4": {
      "model_module": "@jupyter-widgets/controls",
      "model_module_version": "1.5.0",
      "model_name": "HBoxModel",
      "state": {
       "children": [
        "IPY_MODEL_44aed3ca5d1a4bc184aaba7f10fc6c18"
       ],
       "layout": "IPY_MODEL_cb39e218d99d49f9b74c074d16c1584c"
      }
     },
     "1bc83c3d556240b09a5600a81159408a": {
      "model_module": "@jupyter-widgets/controls",
      "model_module_version": "1.5.0",
      "model_name": "HBoxModel",
      "state": {
       "children": [
        "IPY_MODEL_66dcc3767d45469f919c27088f000c47",
        "IPY_MODEL_392c007df69a4dbc8d9b97c5dd484d16"
       ],
       "layout": "IPY_MODEL_9b555386a6944f45bead00ddcf560341"
      }
     },
     "1c28a313e6f94471acb85e21f089df79": {
      "model_module": "@jupyter-widgets/controls",
      "model_module_version": "1.5.0",
      "model_name": "FloatSliderModel",
      "state": {
       "layout": "IPY_MODEL_4c57e89eb56b4c93b2855ffa78e7fdac",
       "max": 10,
       "style": "IPY_MODEL_bd551fa9877442e49b235b2293058a10",
       "value": 1
      }
     },
     "1c41bc753ed6423bae05a61c8c6e211d": {
      "model_module": "@jupyter-widgets/base",
      "model_module_version": "1.2.0",
      "model_name": "LayoutModel",
      "state": {
       "align_items": "stretch",
       "display": "flex",
       "flex_flow": "row",
       "grid_auto_columns": "True",
       "justify_content": "flex-end",
       "width": "90%"
      }
     },
     "1c6d459186fb4358a28cef1cd72b58d1": {
      "model_module": "@jupyter-widgets/base",
      "model_module_version": "1.2.0",
      "model_name": "LayoutModel",
      "state": {
       "align_items": "stretch",
       "display": "flex",
       "flex_flow": "row",
       "grid_auto_columns": "True",
       "justify_content": "flex-start",
       "width": "80%"
      }
     },
     "1c905657e95942eca2961d4c458cc71b": {
      "model_module": "@jupyter-widgets/base",
      "model_module_version": "1.2.0",
      "model_name": "LayoutModel",
      "state": {}
     },
     "1d63985ce928462681c69e18187e3ec4": {
      "model_module": "@jupyter-widgets/base",
      "model_module_version": "1.2.0",
      "model_name": "LayoutModel",
      "state": {}
     },
     "1d9514e037a6472db8611a9617d9692e": {
      "model_module": "@jupyter-widgets/controls",
      "model_module_version": "1.5.0",
      "model_name": "VBoxModel",
      "state": {
       "children": [
        "IPY_MODEL_7fc673c5e6ca46cdb702f0d440351ed6",
        "IPY_MODEL_30ec3e0ce4364f2dacc98a52d11a206c"
       ],
       "layout": "IPY_MODEL_b27f03fb451c4d04b87e924bb2024d05"
      }
     },
     "1dd45f1de95f41cbbdb48736672d54b9": {
      "model_module": "@jupyter-widgets/controls",
      "model_module_version": "1.5.0",
      "model_name": "RadioButtonsModel",
      "state": {
       "_options_labels": [
        "TEMPLATE: C:\\engDev\\git_mf\\MF_Toolbox\\dev\\mf_scripts\\template_inputs\\inputs-gbxml.json",
        "PROJECT: C:\\engDev\\git_mf\\ipyrun\\ipyrun\\appdata\\inputs\\inputs-gbxml.json"
       ],
       "index": 0,
       "layout": "IPY_MODEL_42578f3c42204d29936353b3b87cd8aa",
       "style": "IPY_MODEL_d3a701a41bdf472a839b85d7a2617ab3"
      }
     },
     "1eadea82488f451d8f789a6a18226dea": {
      "model_module": "@jupyter-widgets/controls",
      "model_module_version": "1.5.0",
      "model_name": "HTMLModel",
      "state": {
       "layout": "IPY_MODEL_e2c51f510ead44d1bea741523a56f2e1",
       "style": "IPY_MODEL_b0a2f42743a34290b263d3d767fd245b",
       "value": "<p>its a foo cake</p>"
      }
     },
     "1ff6b9c146c4409bb0cafd7ac5d37c34": {
      "model_module": "@jupyter-widgets/controls",
      "model_module_version": "1.5.0",
      "model_name": "ToggleButtonModel",
      "state": {
       "icon": "arrow-down",
       "layout": "IPY_MODEL_69e5fab6a3dd427d89181eee1d9d9536",
       "style": "IPY_MODEL_bf62b40021d844d4b2e53eee90e2e653"
      }
     },
     "20365782b55c4e6893f9513c816773a6": {
      "model_module": "@jupyter-widgets/base",
      "model_module_version": "1.2.0",
      "model_name": "LayoutModel",
      "state": {
       "align_items": "stretch",
       "display": "flex",
       "flex_flow": "row",
       "grid_auto_columns": "True",
       "justify_content": "flex-end",
       "width": "90%"
      }
     },
     "20fb4cf54d6641bca200561095e716a3": {
      "model_module": "@jupyter-widgets/base",
      "model_module_version": "1.2.0",
      "model_name": "LayoutModel",
      "state": {}
     },
     "211c28280303469e9cf164549aa32088": {
      "model_module": "@jupyter-widgets/controls",
      "model_module_version": "1.5.0",
      "model_name": "DescriptionStyleModel",
      "state": {
       "description_width": ""
      }
     },
     "214618c19f1d47fa99b1d9075a6f16db": {
      "model_module": "@jupyter-widgets/controls",
      "model_module_version": "1.5.0",
      "model_name": "DescriptionStyleModel",
      "state": {
       "description_width": ""
      }
     },
     "236b7fb3d5d84b00ac8100161303154e": {
      "model_module": "@jupyter-widgets/base",
      "model_module_version": "1.2.0",
      "model_name": "LayoutModel",
      "state": {}
     },
     "23d2e7786e68408e9e78f71384c16c8a": {
      "model_module": "@jupyter-widgets/controls",
      "model_module_version": "1.5.0",
      "model_name": "DescriptionStyleModel",
      "state": {
       "description_width": ""
      }
     },
     "243dd2dd1f8746adae4ae29984ef281b": {
      "model_module": "@jupyter-widgets/base",
      "model_module_version": "1.2.0",
      "model_name": "LayoutModel",
      "state": {
       "align_items": "stretch",
       "display": "flex",
       "flex_flow": "row",
       "grid_auto_columns": "True",
       "justify_content": "flex-start",
       "width": "80%"
      }
     },
     "2484adbc53404988bf6b31eb52119d64": {
      "model_module": "@jupyter-widgets/base",
      "model_module_version": "1.2.0",
      "model_name": "LayoutModel",
      "state": {
       "align_items": "stretch",
       "display": "flex",
       "flex_flow": "row",
       "grid_auto_columns": "True",
       "justify_content": "flex-end",
       "width": "90%"
      }
     },
     "24dafe094810408d9bb02ea774b93554": {
      "model_module": "@jupyter-widgets/base",
      "model_module_version": "1.2.0",
      "model_name": "LayoutModel",
      "state": {
       "width": "5%"
      }
     },
     "255a47e446a44e01924d18bf577b2745": {
      "model_module": "@jupyter-widgets/base",
      "model_module_version": "1.2.0",
      "model_name": "LayoutModel",
      "state": {}
     },
     "25d3481d701047088866d5bef9924c0b": {
      "model_module": "@jupyter-widgets/base",
      "model_module_version": "1.2.0",
      "model_name": "LayoutModel",
      "state": {
       "align_items": "stretch",
       "border": "dashed 0.2px green",
       "display": "flex",
       "flex_flow": "row",
       "grid_auto_columns": "True",
       "justify_content": "flex-start",
       "width": "100%"
      }
     },
     "267965ea750c40abb751c89f30159cfc": {
      "model_module": "@jupyter-widgets/controls",
      "model_module_version": "1.5.0",
      "model_name": "DescriptionStyleModel",
      "state": {
       "description_width": ""
      }
     },
     "269ac7947d6244668c1342f5a43a0966": {
      "model_module": "@jupyter-widgets/controls",
      "model_module_version": "1.5.0",
      "model_name": "HBoxModel",
      "state": {
       "children": [
        "IPY_MODEL_e3509823d61b4afc9d6ab7d708d54426",
        "IPY_MODEL_77d0c33b46784f8987a457e06184b8fc"
       ],
       "layout": "IPY_MODEL_bff065adc8fe41049b322fb38c926d3c"
      }
     },
     "2751c0846c2e491ca7538aa7a220491e": {
      "model_module": "@jupyter-widgets/controls",
      "model_module_version": "1.5.0",
      "model_name": "TextModel",
      "state": {
       "layout": "IPY_MODEL_cb67fb3862ad43e485ebc09a65348a64",
       "style": "IPY_MODEL_60a4b369e42d4f56a68605b24faf4a31",
       "value": "C:\\engDev\\git_mf\\MF_Toolbox\\dev\\examples\\gbxml\\105_LiveseyExchange_heatpump-normal-fabric.xml"
      }
     },
     "2770c9f97cff4ec3b21b5881fc8ccd6d": {
      "model_module": "@jupyter-widgets/controls",
      "model_module_version": "1.5.0",
      "model_name": "HBoxModel",
      "state": {
       "children": [
        "IPY_MODEL_d42af25e8e6b49daa9447f08d3c07e64",
        "IPY_MODEL_5a6e52163b3841c8ad04bae06d32a056"
       ],
       "layout": "IPY_MODEL_e3cf4ab66f8f4975babb6a5575a999dc"
      }
     },
     "2776d0e68d4b48cbaa233b4237fb5b98": {
      "model_module": "@jupyter-widgets/controls",
      "model_module_version": "1.5.0",
      "model_name": "HTMLModel",
      "state": {
       "layout": "IPY_MODEL_a9110f5e41524c83ad84aa11f1e1bfc7",
       "style": "IPY_MODEL_a02a51a73a2346cf90d3a45ac887349a",
       "value": "<p>its a foo cake</p>"
      }
     },
     "2810196117234ec1a984b1e7b064c9c8": {
      "model_module": "@jupyter-widgets/controls",
      "model_module_version": "1.5.0",
      "model_name": "HBoxModel",
      "state": {
       "children": [
        "IPY_MODEL_ba896a60553d49c3b36da8ec7be2ed62"
       ],
       "layout": "IPY_MODEL_ca0bb79101df486089845471c90e74b0"
      }
     },
     "2824524b0b4d4984b4ea1ee4a990b8d3": {
      "model_module": "@jupyter-widgets/base",
      "model_module_version": "1.2.0",
      "model_name": "LayoutModel",
      "state": {
       "align_items": "stretch",
       "border": "dashed 0.2px green",
       "display": "flex",
       "flex_flow": "row",
       "grid_auto_columns": "True",
       "justify_content": "flex-start",
       "width": "100%"
      }
     },
     "2830efdd6b314302b672f21c6af21781": {
      "model_module": "@jupyter-widgets/base",
      "model_module_version": "1.2.0",
      "model_name": "LayoutModel",
      "state": {}
     },
     "29e05b0441ef4bed8bb6198314368ec3": {
      "model_module": "@jupyter-widgets/base",
      "model_module_version": "1.2.0",
      "model_name": "LayoutModel",
      "state": {
       "align_items": "stretch",
       "display": "flex",
       "flex_flow": "row",
       "grid_auto_columns": "True",
       "justify_content": "flex-start",
       "width": "80%"
      }
     },
     "2a0338cb2bfe4f8ba842ffd7a36e79c4": {
      "model_module": "@jupyter-widgets/base",
      "model_module_version": "1.2.0",
      "model_name": "LayoutModel",
      "state": {}
     },
     "2be923838e8341829b79a50fd0932a91": {
      "model_module": "@jupyter-widgets/controls",
      "model_module_version": "1.5.0",
      "model_name": "DescriptionStyleModel",
      "state": {
       "description_width": ""
      }
     },
     "2c33425a3eca4b59b64a96e8db1a5951": {
      "model_module": "@jupyter-widgets/output",
      "model_module_version": "1.0.0",
      "model_name": "OutputModel",
      "state": {
       "layout": "IPY_MODEL_cdfba97324194cc2966faa35290581eb",
       "outputs": [
        {
         "data": {
          "application/vnd.jupyter.widget-view+json": {
           "model_id": "3c21b059c04a4452b0236779e71f3b53",
           "version_major": 2,
           "version_minor": 0
          },
          "text/plain": "Output()"
         },
         "metadata": {},
         "output_type": "display_data"
        }
       ]
      }
     },
     "2c6284516b46422894edacf0838d6a53": {
      "model_module": "@jupyter-widgets/base",
      "model_module_version": "1.2.0",
      "model_name": "LayoutModel",
      "state": {
       "align_items": "stretch",
       "display": "flex",
       "flex_flow": "row",
       "grid_auto_columns": "True",
       "justify_content": "flex-start",
       "width": "80%"
      }
     },
     "2ca33823cf5f4b44b53f4d3d6046d3cd": {
      "model_module": "@jupyter-widgets/controls",
      "model_module_version": "1.5.0",
      "model_name": "HBoxModel",
      "state": {
       "children": [
        "IPY_MODEL_58169492429a4deeac061d8b172de5d9",
        "IPY_MODEL_ec92070e0db74429a817b58fedb3485e"
       ],
       "layout": "IPY_MODEL_bb76943df81e43f9b8cfafd9229d3d68"
      }
     },
     "2f1ab9210e5c4e8aa85ba6e90d5fca32": {
      "model_module": "@jupyter-widgets/base",
      "model_module_version": "1.2.0",
      "model_name": "LayoutModel",
      "state": {}
     },
     "2f61b3f8515541a59023625095ebd883": {
      "model_module": "@jupyter-widgets/output",
      "model_module_version": "1.0.0",
      "model_name": "OutputModel",
      "state": {
       "layout": "IPY_MODEL_604e0673eb874653bde257cac4a70c49"
      }
     },
     "300e84691fa943a1b858f795e0181d96": {
      "model_module": "@jupyter-widgets/controls",
      "model_module_version": "1.5.0",
      "model_name": "ButtonStyleModel",
      "state": {}
     },
     "30db2650071148338ee689afbfa2a5ef": {
      "model_module": "@jupyter-widgets/controls",
      "model_module_version": "1.5.0",
      "model_name": "HBoxModel",
      "state": {
       "children": [
        "IPY_MODEL_e0949326cf8c4352a223f53ad5c0a2f8",
        "IPY_MODEL_269ac7947d6244668c1342f5a43a0966"
       ],
       "layout": "IPY_MODEL_4999fbcfb6cd4765b478320d7cc141d4"
      }
     },
     "30ec3e0ce4364f2dacc98a52d11a206c": {
      "model_module": "@jupyter-widgets/controls",
      "model_module_version": "1.5.0",
      "model_name": "VBoxModel",
      "state": {
       "children": [
        "IPY_MODEL_83c6ade8eb0b43dc9a1a801e2ce223be",
        "IPY_MODEL_d2536570eefe4fa7acfb85e036d05e34",
        "IPY_MODEL_08099f661c3d48809c8ce06342bc3e06"
       ],
       "layout": "IPY_MODEL_9b3fc29195a1485a8cf88e8f1bf9cfd7"
      }
     },
     "31826b89a1a446ba9e588827b390f476": {
      "model_module": "@jupyter-widgets/base",
      "model_module_version": "1.2.0",
      "model_name": "LayoutModel",
      "state": {
       "align_items": "stretch",
       "display": "flex",
       "flex_flow": "row",
       "grid_auto_columns": "True",
       "justify_content": "flex-end",
       "width": "90%"
      }
     },
     "328e8bcbebde41189bd26448a1b43f70": {
      "model_module": "@jupyter-widgets/base",
      "model_module_version": "1.2.0",
      "model_name": "LayoutModel",
      "state": {}
     },
     "3327394fb5034a4b84f432e5f584c214": {
      "model_module": "@jupyter-widgets/base",
      "model_module_version": "1.2.0",
      "model_name": "LayoutModel",
      "state": {
       "align_items": "stretch",
       "display": "flex",
       "flex_flow": "row",
       "grid_auto_columns": "True",
       "justify_content": "flex-start",
       "width": "80%"
      }
     },
     "33837e06d3e64fcabee10732c934480a": {
      "model_module": "@jupyter-widgets/controls",
      "model_module_version": "1.5.0",
      "model_name": "HBoxModel",
      "state": {
       "children": [
        "IPY_MODEL_3ef64c87e2364e36817fb728c8906938",
        "IPY_MODEL_54a31aa4df1c47548dde2feb805d65b3"
       ],
       "layout": "IPY_MODEL_2484adbc53404988bf6b31eb52119d64"
      }
     },
     "35f4093a57484a418a97d2c3395e0537": {
      "model_module": "@jupyter-widgets/base",
      "model_module_version": "1.2.0",
      "model_name": "LayoutModel",
      "state": {}
     },
     "369d7288e9f04dab81dde5f23bf6f921": {
      "model_module": "@jupyter-widgets/controls",
      "model_module_version": "1.5.0",
      "model_name": "ButtonStyleModel",
      "state": {
       "font_weight": "bold"
      }
     },
     "3769dd9e6b81490b9812d5f3ea05f7a9": {
      "model_module": "@jupyter-widgets/base",
      "model_module_version": "1.2.0",
      "model_name": "LayoutModel",
      "state": {}
     },
     "38c05c999f88487e8355a54c0e8e31d8": {
      "model_module": "@jupyter-widgets/controls",
      "model_module_version": "1.5.0",
      "model_name": "DescriptionStyleModel",
      "state": {
       "description_width": ""
      }
     },
     "38f9a929701d4ef9bc9c522c04aab0cb": {
      "model_module": "@jupyter-widgets/base",
      "model_module_version": "1.2.0",
      "model_name": "LayoutModel",
      "state": {}
     },
     "392c007df69a4dbc8d9b97c5dd484d16": {
      "model_module": "@jupyter-widgets/controls",
      "model_module_version": "1.5.0",
      "model_name": "AccordionModel",
      "state": {
       "_titles": {
        "0": "gbxml"
       },
       "children": [
        "IPY_MODEL_1d9514e037a6472db8611a9617d9692e"
       ],
       "layout": "IPY_MODEL_1020ef62516a4dbbad5386f0e1e6d03c",
       "selected_index": null
      }
     },
     "3a7cfad6688d4413a7d8e81450f71cfd": {
      "model_module": "@jupyter-widgets/output",
      "model_module_version": "1.0.0",
      "model_name": "OutputModel",
      "state": {
       "layout": "IPY_MODEL_1227e7a21c9d455eb07b317eb68597f4",
       "outputs": [
        {
         "data": {
          "application/vnd.jupyter.widget-view+json": {
           "model_id": "4ff0f5fd66fd460db8aec328045de5b8",
           "version_major": 2,
           "version_minor": 0
          },
          "text/plain": "Output()"
         },
         "metadata": {},
         "output_type": "display_data"
        },
        {
         "data": {
          "application/vnd.jupyter.widget-view+json": {
           "model_id": "2f61b3f8515541a59023625095ebd883",
           "version_major": 2,
           "version_minor": 0
          },
          "text/plain": "Output()"
         },
         "metadata": {},
         "output_type": "display_data"
        }
       ]
      }
     },
     "3a9e4a46c6fc440e91c03d4ca788b76f": {
      "model_module": "@jupyter-widgets/controls",
      "model_module_version": "1.5.0",
      "model_name": "HBoxModel",
      "state": {
       "children": [
        "IPY_MODEL_2751c0846c2e491ca7538aa7a220491e",
        "IPY_MODEL_ac3f365b39c94f078b6fe64840bf8877"
       ],
       "layout": "IPY_MODEL_636dee9111014f43a2043c44ca89882f"
      }
     },
     "3b2acec4522c4b44ab153cef4cb8757f": {
      "model_module": "@jupyter-widgets/controls",
      "model_module_version": "1.5.0",
      "model_name": "DescriptionStyleModel",
      "state": {
       "description_width": ""
      }
     },
     "3b3d7805eb454dba891404270f47e0a0": {
      "model_module": "@jupyter-widgets/base",
      "model_module_version": "1.2.0",
      "model_name": "LayoutModel",
      "state": {}
     },
     "3be210ac0cd74ddfab8d7018504a1e23": {
      "model_module": "@jupyter-widgets/controls",
      "model_module_version": "1.5.0",
      "model_name": "HBoxModel",
      "state": {
       "children": [
        "IPY_MODEL_2770c9f97cff4ec3b21b5881fc8ccd6d"
       ],
       "layout": "IPY_MODEL_16175c9779674729bbf873151ae7a58b"
      }
     },
     "3be5ce20dade4dbbbfd614486309c633": {
      "model_module": "@jupyter-widgets/base",
      "model_module_version": "1.2.0",
      "model_name": "LayoutModel",
      "state": {}
     },
     "3c21b059c04a4452b0236779e71f3b53": {
      "model_module": "@jupyter-widgets/output",
      "model_module_version": "1.0.0",
      "model_name": "OutputModel",
      "state": {
       "layout": "IPY_MODEL_1664e98c7870498ea4632508100cf778"
      }
     },
     "3c329322d7704ec1bdb49f7e61d6d5fa": {
      "model_module": "@jupyter-widgets/base",
      "model_module_version": "1.2.0",
      "model_name": "LayoutModel",
      "state": {}
     },
     "3d65d2108ab1430db09a0dbf032bdef8": {
      "model_module": "@jupyter-widgets/controls",
      "model_module_version": "1.5.0",
      "model_name": "ButtonStyleModel",
      "state": {
       "font_weight": "bold"
      }
     },
     "3eeb9b854d3b49afa2289e21fc07def7": {
      "model_module": "@jupyter-widgets/base",
      "model_module_version": "1.2.0",
      "model_name": "LayoutModel",
      "state": {}
     },
     "3ef64c87e2364e36817fb728c8906938": {
      "model_module": "@jupyter-widgets/controls",
      "model_module_version": "1.5.0",
      "model_name": "HTMLModel",
      "state": {
       "layout": "IPY_MODEL_7bdd9c4b4e644a76b42be5d90743acfb",
       "style": "IPY_MODEL_d1cfa92e8eac4665badd5bf11a82dcfe",
       "value": "<p>name</p>"
      }
     },
     "3fe7814b087a428e85f5c815583a4b57": {
      "model_module": "@jupyter-widgets/base",
      "model_module_version": "1.2.0",
      "model_name": "LayoutModel",
      "state": {}
     },
     "40d3b76923e947adaac59dd8148d86ee": {
      "model_module": "@jupyter-widgets/output",
      "model_module_version": "1.0.0",
      "model_name": "OutputModel",
      "state": {
       "layout": "IPY_MODEL_48afa1e2105b4c8fa261cd6c69a0dfa1"
      }
     },
     "4187d9267d2d4d3e935c3aa4520241c3": {
      "model_module": "@jupyter-widgets/controls",
      "model_module_version": "1.5.0",
      "model_name": "VBoxModel",
      "state": {
       "children": [
        "IPY_MODEL_8f2664130c114b4aa3b74834f0611da1",
        "IPY_MODEL_958ec1b391524264b57feb1c8aa58eaf",
        "IPY_MODEL_1b95cbe5d0d04744ba7311fcc94fefd4",
        "IPY_MODEL_58c5bc58756a4f44b2c10c03b79298c9",
        "IPY_MODEL_72f5925023a443e1a872745be07742ee",
        "IPY_MODEL_ac63b21765014ab5b017098ec5596e5c",
        "IPY_MODEL_bce1da068ce04a0fb17c8e45620ac005",
        "IPY_MODEL_166c3988ff434e7989e886ea309b7c0d"
       ],
       "layout": "IPY_MODEL_3fe7814b087a428e85f5c815583a4b57"
      }
     },
     "41cfadc4243945d8b6f783f0458f3685": {
      "model_module": "@jupyter-widgets/controls",
      "model_module_version": "1.5.0",
      "model_name": "SelectMultipleModel",
      "state": {
       "_options_labels": [
        "asfd",
        "10",
        "asdf"
       ],
       "index": [
        1
       ],
       "layout": "IPY_MODEL_7d2d073b05a74779a1ea1c6c8eee9a38",
       "rows": 5,
       "style": "IPY_MODEL_863bfcd860f6444cb9af478121841cd1"
      }
     },
     "41df45988ade426c83ef15b01a4d15d0": {
      "model_module": "@jupyter-widgets/controls",
      "model_module_version": "1.5.0",
      "model_name": "DescriptionStyleModel",
      "state": {
       "description_width": ""
      }
     },
     "42578f3c42204d29936353b3b87cd8aa": {
      "model_module": "@jupyter-widgets/base",
      "model_module_version": "1.2.0",
      "model_name": "LayoutModel",
      "state": {
       "display": "flex",
       "flex_flow": "row",
       "grid_auto_columns": "False",
       "justify_content": "flex-start",
       "width": "100%"
      }
     },
     "433b9011ef414fc1a6b897d656168efd": {
      "model_module": "@jupyter-widgets/base",
      "model_module_version": "1.2.0",
      "model_name": "LayoutModel",
      "state": {}
     },
     "4355b9c3662344fdb193af2041211614": {
      "model_module": "@jupyter-widgets/base",
      "model_module_version": "1.2.0",
      "model_name": "LayoutModel",
      "state": {}
     },
     "43d1ed2f04024c04a8794587a34359cf": {
      "model_module": "@jupyter-widgets/controls",
      "model_module_version": "1.5.0",
      "model_name": "ButtonModel",
      "state": {
       "button_style": "success",
       "description": "save changes",
       "layout": "IPY_MODEL_dbfb5badcfb74a0b8d351d9a73c89a0a",
       "style": "IPY_MODEL_369d7288e9f04dab81dde5f23bf6f921"
      }
     },
     "441088dc55454707bbae0612a2098d9b": {
      "model_module": "@jupyter-widgets/controls",
      "model_module_version": "1.5.0",
      "model_name": "HTMLModel",
      "state": {
       "layout": "IPY_MODEL_433b9011ef414fc1a6b897d656168efd",
       "style": "IPY_MODEL_fa841fb7c0a04e7998e81fb0531e41cf",
       "value": "<p>foo</p>"
      }
     },
     "4440401857d84d29a167ecbfca608935": {
      "model_module": "@jupyter-widgets/controls",
      "model_module_version": "1.5.0",
      "model_name": "HTMLModel",
      "state": {
       "layout": "IPY_MODEL_181bfbc7d9794a948f365db80f6dcddd",
       "style": "IPY_MODEL_52b8bd4e1dbc41cfa89905a1399e6b81",
       "value": "<p>reous foo ous foo st</p>"
      }
     },
     "44aed3ca5d1a4bc184aaba7f10fc6c18": {
      "model_module": "@jupyter-widgets/controls",
      "model_module_version": "1.5.0",
      "model_name": "HBoxModel",
      "state": {
       "children": [
        "IPY_MODEL_04741517d01449548ab6c577ec30258c",
        "IPY_MODEL_55941d7c04f54ccebde58b7dd9fca3bc"
       ],
       "layout": "IPY_MODEL_dabfdd7a8ffd4dc6a15f69c5763c0499"
      }
     },
     "46b216ff1e5f4556a979d407dd784f39": {
      "model_module": "@jupyter-widgets/base",
      "model_module_version": "1.2.0",
      "model_name": "LayoutModel",
      "state": {}
     },
     "47f543534a834b96ab721cbc9433ba83": {
      "model_module": "@jupyter-widgets/output",
      "model_module_version": "1.0.0",
      "model_name": "OutputModel",
      "state": {
       "layout": "IPY_MODEL_512a2f37424f49ecbab7833aca481dff"
      }
     },
     "487d190045f64c968f15184a5d5e85d7": {
      "model_module": "@jupyter-widgets/output",
      "model_module_version": "1.0.0",
      "model_name": "OutputModel",
      "state": {
       "layout": "IPY_MODEL_38f9a929701d4ef9bc9c522c04aab0cb"
      }
     },
     "48880e7b67da48b18422e57bfbf7b8aa": {
      "model_module": "@jupyter-widgets/controls",
      "model_module_version": "1.5.0",
      "model_name": "DescriptionStyleModel",
      "state": {
       "description_width": ""
      }
     },
     "48afa1e2105b4c8fa261cd6c69a0dfa1": {
      "model_module": "@jupyter-widgets/base",
      "model_module_version": "1.2.0",
      "model_name": "LayoutModel",
      "state": {}
     },
     "4999fbcfb6cd4765b478320d7cc141d4": {
      "model_module": "@jupyter-widgets/base",
      "model_module_version": "1.2.0",
      "model_name": "LayoutModel",
      "state": {
       "align_items": "stretch",
       "display": "flex",
       "flex_flow": "row",
       "grid_auto_columns": "True",
       "justify_content": "flex-end",
       "width": "90%"
      }
     },
     "49ab31afa6a742d3a235befa38171380": {
      "model_module": "@jupyter-widgets/base",
      "model_module_version": "1.2.0",
      "model_name": "LayoutModel",
      "state": {
       "align_items": "stretch",
       "display": "flex",
       "flex_flow": "row",
       "grid_auto_columns": "True",
       "justify_content": "flex-start",
       "width": "80%"
      }
     },
     "4a964159b21a4934b8d81300a9921a77": {
      "model_module": "@jupyter-widgets/controls",
      "model_module_version": "1.5.0",
      "model_name": "ButtonModel",
      "state": {
       "button_style": "warning",
       "description": "edit inputs",
       "layout": "IPY_MODEL_c615880fa98f41e2a8a973a370a8dda1",
       "style": "IPY_MODEL_d2ac8014a54848c3b371655d712ed1e1",
       "tooltip": "edit the user input information that is used when the script is executed"
      }
     },
     "4b16415e6c4c41f28467d0ea85532196": {
      "model_module": "@jupyter-widgets/base",
      "model_module_version": "1.2.0",
      "model_name": "LayoutModel",
      "state": {}
     },
     "4b4bcafdc3264dd6846e03a42958dbf9": {
      "model_module": "@jupyter-widgets/base",
      "model_module_version": "1.2.0",
      "model_name": "LayoutModel",
      "state": {}
     },
     "4bbc57dd650048c1ad19837e15c1c38e": {
      "model_module": "@jupyter-widgets/controls",
      "model_module_version": "1.5.0",
      "model_name": "HTMLModel",
      "state": {
       "layout": "IPY_MODEL_d0ee025c1479444d9faf6d7b12e38499",
       "style": "IPY_MODEL_f7116ff7df3448f4bb6e2651e9a30d98",
       "value": "<p>its a foo cake</p>"
      }
     },
     "4bd37731f00b4538a6326c69426f024e": {
      "model_module": "@jupyter-widgets/base",
      "model_module_version": "1.2.0",
      "model_name": "LayoutModel",
      "state": {
       "width": "5%"
      }
     },
     "4be0aaa23bf845708ac91295d9a345ea": {
      "model_module": "@jupyter-widgets/base",
      "model_module_version": "1.2.0",
      "model_name": "LayoutModel",
      "state": {
       "align_items": "stretch",
       "display": "flex",
       "flex_flow": "row",
       "grid_auto_columns": "True",
       "justify_content": "flex-end",
       "width": "90%"
      }
     },
     "4c30de1ce9f248cd8e7508be9c6eff51": {
      "model_module": "@jupyter-widgets/controls",
      "model_module_version": "1.5.0",
      "model_name": "HBoxModel",
      "state": {
       "children": [
        "IPY_MODEL_f2037349bd47497dade34ca0af3c99fe",
        "IPY_MODEL_ff74cdbada3541879d0cdfef1e621e71",
        "IPY_MODEL_43d1ed2f04024c04a8794587a34359cf"
       ],
       "layout": "IPY_MODEL_855bdc7a307e44bdae39a9b7fb90ff1b"
      }
     },
     "4c57e89eb56b4c93b2855ffa78e7fdac": {
      "model_module": "@jupyter-widgets/base",
      "model_module_version": "1.2.0",
      "model_name": "LayoutModel",
      "state": {}
     },
     "4d1c28dd43dd45ea82d51bd49b2e8c43": {
      "model_module": "@jupyter-widgets/controls",
      "model_module_version": "1.5.0",
      "model_name": "HTMLModel",
      "state": {
       "layout": "IPY_MODEL_67db7d29b1204ff585c5cff0a4cc4da1",
       "style": "IPY_MODEL_41df45988ade426c83ef15b01a4d15d0",
       "value": "<p>label</p>"
      }
     },
     "4d2786a04a074e139fd78205921bb1ff": {
      "model_module": "@jupyter-widgets/base",
      "model_module_version": "1.2.0",
      "model_name": "LayoutModel",
      "state": {
       "height": "30px",
       "width": "auto"
      }
     },
     "4e3527224f074dcda7dc98c878a95f7f": {
      "model_module": "@jupyter-widgets/controls",
      "model_module_version": "1.5.0",
      "model_name": "HTMLModel",
      "state": {
       "layout": "IPY_MODEL_1900472cee4246e78dc97ae86bd2333a",
       "style": "IPY_MODEL_7eb93a40fb7c403ca8e728992f60a63b",
       "value": "<p>its a foo cake</p>"
      }
     },
     "4e9cd00dda0c4ba5ab2b402ac2593416": {
      "model_module": "@jupyter-widgets/base",
      "model_module_version": "1.2.0",
      "model_name": "LayoutModel",
      "state": {}
     },
     "4f1d429b37714f1d80380f6e4d27de5e": {
      "model_module": "@jupyter-widgets/controls",
      "model_module_version": "1.5.0",
      "model_name": "HBoxModel",
      "state": {
       "children": [
        "IPY_MODEL_4440401857d84d29a167ecbfca608935",
        "IPY_MODEL_58c5b610e88b43ba9919f8bc1f18103d"
       ],
       "layout": "IPY_MODEL_869e0cb48a9e46bb9ec3a015101222be"
      }
     },
     "4fc346eb077e45c3b1ec20277d2b4f50": {
      "model_module": "@jupyter-widgets/controls",
      "model_module_version": "1.5.0",
      "model_name": "DescriptionStyleModel",
      "state": {
       "description_width": ""
      }
     },
     "4ff0f5fd66fd460db8aec328045de5b8": {
      "model_module": "@jupyter-widgets/output",
      "model_module_version": "1.0.0",
      "model_name": "OutputModel",
      "state": {
       "layout": "IPY_MODEL_2f1ab9210e5c4e8aa85ba6e90d5fca32"
      }
     },
     "4ff18e4a7b9849fca25d71f6fa2ee3c5": {
      "model_module": "@jupyter-widgets/controls",
      "model_module_version": "1.5.0",
      "model_name": "ToggleButtonModel",
      "state": {
       "icon": "arrow-down",
       "layout": "IPY_MODEL_d481c6b5252d4d6eb3e3ca2990baef77",
       "style": "IPY_MODEL_e5686dedf9b64f81bf616ac76a62f0bf"
      }
     },
     "50db352856aa448bb6abaa9d27b64a36": {
      "model_module": "@jupyter-widgets/base",
      "model_module_version": "1.2.0",
      "model_name": "LayoutModel",
      "state": {}
     },
     "512a2f37424f49ecbab7833aca481dff": {
      "model_module": "@jupyter-widgets/base",
      "model_module_version": "1.2.0",
      "model_name": "LayoutModel",
      "state": {}
     },
     "521933aebc2f4757885c8908dc06cfd4": {
      "model_module": "@jupyter-widgets/base",
      "model_module_version": "1.2.0",
      "model_name": "LayoutModel",
      "state": {}
     },
     "52a387e7d3b24590821b324064cbf026": {
      "model_module": "@jupyter-widgets/base",
      "model_module_version": "1.2.0",
      "model_name": "LayoutModel",
      "state": {}
     },
     "52a52aceee464459a0072fbcc6e7ad8b": {
      "model_module": "@jupyter-widgets/controls",
      "model_module_version": "1.5.0",
      "model_name": "DescriptionStyleModel",
      "state": {
       "description_width": ""
      }
     },
     "52b8bd4e1dbc41cfa89905a1399e6b81": {
      "model_module": "@jupyter-widgets/controls",
      "model_module_version": "1.5.0",
      "model_name": "DescriptionStyleModel",
      "state": {
       "description_width": ""
      }
     },
     "534a2b947c89492b853f74dc41dbb80a": {
      "model_module": "@jupyter-widgets/controls",
      "model_module_version": "1.5.0",
      "model_name": "HTMLModel",
      "state": {
       "layout": "IPY_MODEL_049fb9e1fdbb47ce99b6ebe348c1dec5",
       "style": "IPY_MODEL_f130a12407d9473dba1dec1a9de9eb3d",
       "value": "<p>fus foo ous o</p>"
      }
     },
     "53e48bc9b3be4e3bb4e5f77bffb4972a": {
      "model_module": "@jupyter-widgets/base",
      "model_module_version": "1.2.0",
      "model_name": "LayoutModel",
      "state": {
       "align_items": "stretch",
       "border": "dashed 0.2px green",
       "display": "flex",
       "flex_flow": "row",
       "grid_auto_columns": "True",
       "justify_content": "flex-start",
       "width": "100%"
      }
     },
     "541d128c9e034f7897c87c7372047c2b": {
      "model_module": "@jupyter-widgets/controls",
      "model_module_version": "1.5.0",
      "model_name": "HBoxModel",
      "state": {
       "children": [
        "IPY_MODEL_c9960f1204e94ea2b3bec22c0dfc9a72",
        "IPY_MODEL_1eadea82488f451d8f789a6a18226dea"
       ],
       "layout": "IPY_MODEL_a307355ff3db440797aba3dd66f875c6"
      }
     },
     "54a0c29d7fe54590a511a6d4aee46a44": {
      "model_module": "@jupyter-widgets/controls",
      "model_module_version": "1.5.0",
      "model_name": "DescriptionStyleModel",
      "state": {
       "description_width": ""
      }
     },
     "54a31aa4df1c47548dde2feb805d65b3": {
      "model_module": "@jupyter-widgets/controls",
      "model_module_version": "1.5.0",
      "model_name": "HBoxModel",
      "state": {
       "children": [
        "IPY_MODEL_ed7cd4c176f949d3b8bb6b4ff24c71b9",
        "IPY_MODEL_b7f50b6ccf4c429496c0358f722016bf"
       ],
       "layout": "IPY_MODEL_2c6284516b46422894edacf0838d6a53"
      }
     },
     "54dada3868e8485d82df081251092d65": {
      "model_module": "@jupyter-widgets/controls",
      "model_module_version": "1.5.0",
      "model_name": "DescriptionStyleModel",
      "state": {
       "description_width": ""
      }
     },
     "55941d7c04f54ccebde58b7dd9fca3bc": {
      "model_module": "@jupyter-widgets/controls",
      "model_module_version": "1.5.0",
      "model_name": "HBoxModel",
      "state": {
       "children": [
        "IPY_MODEL_41cfadc4243945d8b6f783f0458f3685",
        "IPY_MODEL_4e3527224f074dcda7dc98c878a95f7f"
       ],
       "layout": "IPY_MODEL_49ab31afa6a742d3a235befa38171380"
      }
     },
     "55d36ccb635a4a849a867a99d1719838": {
      "model_module": "@jupyter-widgets/controls",
      "model_module_version": "1.5.0",
      "model_name": "DescriptionStyleModel",
      "state": {
       "description_width": ""
      }
     },
     "56785ec54fa2413b8d2f309f83cf6374": {
      "model_module": "@jupyter-widgets/controls",
      "model_module_version": "1.5.0",
      "model_name": "DescriptionStyleModel",
      "state": {
       "description_width": ""
      }
     },
     "56d743acabae4edba3b0b6392f54e9bc": {
      "model_module": "@jupyter-widgets/base",
      "model_module_version": "1.2.0",
      "model_name": "LayoutModel",
      "state": {}
     },
     "5774611611b04917bb0e9bfcc941434e": {
      "model_module": "@jupyter-widgets/base",
      "model_module_version": "1.2.0",
      "model_name": "LayoutModel",
      "state": {
       "align_items": "stretch",
       "display": "flex",
       "flex_flow": "row",
       "grid_auto_columns": "True",
       "justify_content": "flex-start",
       "width": "80%"
      }
     },
     "579ab14d1b3840e5af50008373146a32": {
      "model_module": "@jupyter-widgets/base",
      "model_module_version": "1.2.0",
      "model_name": "LayoutModel",
      "state": {}
     },
     "57d05eafb13f42589630320d5f87358e": {
      "model_module": "@jupyter-widgets/controls",
      "model_module_version": "1.5.0",
      "model_name": "VBoxModel",
      "state": {
       "children": [
        "IPY_MODEL_8f2664130c114b4aa3b74834f0611da1",
        "IPY_MODEL_958ec1b391524264b57feb1c8aa58eaf",
        "IPY_MODEL_1b95cbe5d0d04744ba7311fcc94fefd4",
        "IPY_MODEL_58c5bc58756a4f44b2c10c03b79298c9",
        "IPY_MODEL_72f5925023a443e1a872745be07742ee",
        "IPY_MODEL_ac63b21765014ab5b017098ec5596e5c",
        "IPY_MODEL_bce1da068ce04a0fb17c8e45620ac005",
        "IPY_MODEL_166c3988ff434e7989e886ea309b7c0d"
       ],
       "layout": "IPY_MODEL_9f00075845f944fc843cf39f7c267255"
      }
     },
     "58169492429a4deeac061d8b172de5d9": {
      "model_module": "@jupyter-widgets/controls",
      "model_module_version": "1.5.0",
      "model_name": "HTMLModel",
      "state": {
       "layout": "IPY_MODEL_3769dd9e6b81490b9812d5f3ea05f7a9",
       "style": "IPY_MODEL_62360f43b6a54b64a58a1b2abff6395d",
       "value": "<p>fpth_in</p>"
      }
     },
     "582a40f7a7c1466497335f766d3149f7": {
      "model_module": "@jupyter-widgets/controls",
      "model_module_version": "1.5.0",
      "model_name": "HTMLModel",
      "state": {
       "layout": "IPY_MODEL_7a7fc9e988344c9ba58bc11acd3a01be",
       "style": "IPY_MODEL_584cbb55c80842aa81300ceadb3a45f5",
       "value": "<p>foo</p>"
      }
     },
     "584cbb55c80842aa81300ceadb3a45f5": {
      "model_module": "@jupyter-widgets/controls",
      "model_module_version": "1.5.0",
      "model_name": "DescriptionStyleModel",
      "state": {
       "description_width": ""
      }
     },
     "584dbf236da34e0f98d465cc24a317f4": {
      "model_module": "@jupyter-widgets/base",
      "model_module_version": "1.2.0",
      "model_name": "LayoutModel",
      "state": {}
     },
     "58c5b610e88b43ba9919f8bc1f18103d": {
      "model_module": "@jupyter-widgets/controls",
      "model_module_version": "1.5.0",
      "model_name": "HBoxModel",
      "state": {
       "children": [
        "IPY_MODEL_0ddd6468166a418481b167b1f8ed0525",
        "IPY_MODEL_039567d7d5b14d1f8411c0e3293c4864"
       ],
       "layout": "IPY_MODEL_5774611611b04917bb0e9bfcc941434e"
      }
     },
     "58c5bc58756a4f44b2c10c03b79298c9": {
      "model_module": "@jupyter-widgets/controls",
      "model_module_version": "1.5.0",
      "model_name": "HBoxModel",
      "state": {
       "children": [
        "IPY_MODEL_ab4ef5a1feb34f3abd7781e096395041"
       ],
       "layout": "IPY_MODEL_25d3481d701047088866d5bef9924c0b"
      }
     },
     "591f34ef77b448b4b774bd1dbd191944": {
      "model_module": "@jupyter-widgets/base",
      "model_module_version": "1.2.0",
      "model_name": "LayoutModel",
      "state": {
       "align_items": "stretch",
       "border": "dashed 0.2px green",
       "display": "flex",
       "flex_flow": "row",
       "grid_auto_columns": "True",
       "justify_content": "flex-start",
       "width": "100%"
      }
     },
     "5a6e52163b3841c8ad04bae06d32a056": {
      "model_module": "@jupyter-widgets/controls",
      "model_module_version": "1.5.0",
      "model_name": "HBoxModel",
      "state": {
       "children": [
        "IPY_MODEL_909f5299d57f4372b88f9830f06c59ee",
        "IPY_MODEL_f47041a786d940db827e9e47fa370300"
       ],
       "layout": "IPY_MODEL_999625f1fc3045daabe9912fc2378a3e"
      }
     },
     "5a93d6784e714f5390d94d20cc2586bf": {
      "model_module": "@jupyter-widgets/controls",
      "model_module_version": "1.5.0",
      "model_name": "ToggleButtonModel",
      "state": {
       "description": "help",
       "icon": "fa-question-circle",
       "layout": "IPY_MODEL_4bd37731f00b4538a6326c69426f024e",
       "style": "IPY_MODEL_1528fbb9af3b434786296515f3113e9a",
       "tooltip": "gives guidance"
      }
     },
     "5acbad61f626463d85dda922f4751442": {
      "model_module": "@jupyter-widgets/controls",
      "model_module_version": "1.5.0",
      "model_name": "HBoxModel",
      "state": {
       "children": [
        "IPY_MODEL_441088dc55454707bbae0612a2098d9b",
        "IPY_MODEL_0d057462f7e24534a585e41b22a67650"
       ],
       "layout": "IPY_MODEL_4be0aaa23bf845708ac91295d9a345ea"
      }
     },
     "5c54d560dc224953b5bd620db6d2ebfc": {
      "model_module": "@jupyter-widgets/base",
      "model_module_version": "1.2.0",
      "model_name": "LayoutModel",
      "state": {}
     },
     "5dca82d58ab94effa2910f9e5f85f6b1": {
      "model_module": "@jupyter-widgets/controls",
      "model_module_version": "1.5.0",
      "model_name": "HTMLModel",
      "state": {
       "layout": "IPY_MODEL_e8ae3d0281db4c9980f4988222118572",
       "style": "IPY_MODEL_d57ca6cf359f4ebd969770c87ce5d1aa",
       "value": "<p>input docx filepath</p>"
      }
     },
     "5fdf3e2223db4a998e929924c0e3cbce": {
      "model_module": "@jupyter-widgets/base",
      "model_module_version": "1.2.0",
      "model_name": "LayoutModel",
      "state": {
       "align_items": "stretch",
       "border": "dashed 0.2px green",
       "display": "flex",
       "flex_flow": "row",
       "grid_auto_columns": "True",
       "justify_content": "flex-start",
       "width": "100%"
      }
     },
     "604e0673eb874653bde257cac4a70c49": {
      "model_module": "@jupyter-widgets/base",
      "model_module_version": "1.2.0",
      "model_name": "LayoutModel",
      "state": {}
     },
     "60a4b369e42d4f56a68605b24faf4a31": {
      "model_module": "@jupyter-widgets/controls",
      "model_module_version": "1.5.0",
      "model_name": "DescriptionStyleModel",
      "state": {
       "description_width": ""
      }
     },
     "6141e70e58b340d18acafea8c6addaef": {
      "model_module": "@jupyter-widgets/base",
      "model_module_version": "1.2.0",
      "model_name": "LayoutModel",
      "state": {}
     },
     "615754b95bf94647849c50ea1ebb9227": {
      "model_module": "@jupyter-widgets/base",
      "model_module_version": "1.2.0",
      "model_name": "LayoutModel",
      "state": {}
     },
     "621c156cb2b344589903336cae46bba6": {
      "model_module": "@jupyter-widgets/base",
      "model_module_version": "1.2.0",
      "model_name": "LayoutModel",
      "state": {}
     },
     "6231c22473a04532b8aec6d5da41f1f4": {
      "model_module": "@jupyter-widgets/controls",
      "model_module_version": "1.5.0",
      "model_name": "HTMLModel",
      "state": {
       "layout": "IPY_MODEL_6e7b25c9c24e4056b319b444f4638969",
       "style": "IPY_MODEL_2be923838e8341829b79a50fd0932a91",
       "value": "<p>its a foo cake</p>"
      }
     },
     "62360f43b6a54b64a58a1b2abff6395d": {
      "model_module": "@jupyter-widgets/controls",
      "model_module_version": "1.5.0",
      "model_name": "DescriptionStyleModel",
      "state": {
       "description_width": ""
      }
     },
     "63379daae14d4edf96202ab70bb5756b": {
      "model_module": "@jupyter-widgets/base",
      "model_module_version": "1.2.0",
      "model_name": "LayoutModel",
      "state": {}
     },
     "636dee9111014f43a2043c44ca89882f": {
      "model_module": "@jupyter-widgets/base",
      "model_module_version": "1.2.0",
      "model_name": "LayoutModel",
      "state": {
       "align_items": "stretch",
       "display": "flex",
       "flex_flow": "row",
       "grid_auto_columns": "True",
       "justify_content": "flex-start",
       "width": "80%"
      }
     },
     "64a3516a39b94bbe8d0c27919004ffb0": {
      "model_module": "@jupyter-widgets/base",
      "model_module_version": "1.2.0",
      "model_name": "LayoutModel",
      "state": {
       "align_items": "stretch",
       "display": "flex",
       "flex_flow": "row",
       "grid_auto_columns": "True",
       "justify_content": "flex-start",
       "width": "80%"
      }
     },
     "6534cc5292f04de8962b083102a99a56": {
      "model_module": "@jupyter-widgets/base",
      "model_module_version": "1.2.0",
      "model_name": "LayoutModel",
      "state": {}
     },
     "654608010800437991b6791f493c926f": {
      "model_module": "@jupyter-widgets/base",
      "model_module_version": "1.2.0",
      "model_name": "LayoutModel",
      "state": {}
     },
     "666a173dcaf04ec5b1408464a4a13ce7": {
      "model_module": "@jupyter-widgets/controls",
      "model_module_version": "1.5.0",
      "model_name": "DescriptionStyleModel",
      "state": {
       "description_width": ""
      }
     },
     "66862265ed3b46c79cf5c328e877cd02": {
      "model_module": "@jupyter-widgets/controls",
      "model_module_version": "1.5.0",
      "model_name": "HTMLModel",
      "state": {
       "layout": "IPY_MODEL_823f738e810f48b6b239b40ef7aeefaa",
       "style": "IPY_MODEL_54dada3868e8485d82df081251092d65",
       "value": "<p>name</p>"
      }
     },
     "66dcc3767d45469f919c27088f000c47": {
      "model_module": "@jupyter-widgets/controls",
      "model_module_version": "1.5.0",
      "model_name": "CheckboxModel",
      "state": {
       "disabled": false,
       "indent": false,
       "layout": "IPY_MODEL_bd6ec798279947fc82d5e9027fcac7cd",
       "style": "IPY_MODEL_23d2e7786e68408e9e78f71384c16c8a",
       "value": false
      }
     },
     "67db7d29b1204ff585c5cff0a4cc4da1": {
      "model_module": "@jupyter-widgets/base",
      "model_module_version": "1.2.0",
      "model_name": "LayoutModel",
      "state": {}
     },
     "67fcb11e23e9474bac4a8bd3d3ded05b": {
      "model_module": "@jupyter-widgets/controls",
      "model_module_version": "1.5.0",
      "model_name": "DescriptionStyleModel",
      "state": {
       "description_width": ""
      }
     },
     "68e4b70179c847028362ffec10de8d50": {
      "model_module": "@jupyter-widgets/base",
      "model_module_version": "1.2.0",
      "model_name": "LayoutModel",
      "state": {
       "align_items": "stretch",
       "display": "flex",
       "flex_flow": "row",
       "grid_auto_columns": "True",
       "justify_content": "flex-start",
       "width": "80%"
      }
     },
     "6935590c3fc1450daf86ce3b0bd7f0c0": {
      "model_module": "@jupyter-widgets/controls",
      "model_module_version": "1.5.0",
      "model_name": "DescriptionStyleModel",
      "state": {
       "description_width": ""
      }
     },
     "69487635a7074ea7b124530c7c851544": {
      "model_module": "@jupyter-widgets/base",
      "model_module_version": "1.2.0",
      "model_name": "LayoutModel",
      "state": {}
     },
     "69e5fab6a3dd427d89181eee1d9d9536": {
      "model_module": "@jupyter-widgets/base",
      "model_module_version": "1.2.0",
      "model_name": "LayoutModel",
      "state": {}
     },
     "6a6530bc74944c9abfeb35e6b7d4d718": {
      "model_module": "@jupyter-widgets/controls",
      "model_module_version": "1.5.0",
      "model_name": "HBoxModel",
      "state": {
       "children": [
        "IPY_MODEL_4ff18e4a7b9849fca25d71f6fa2ee3c5",
        "IPY_MODEL_f1766e08a8b54cdf89715986b41fd3ef"
       ],
       "layout": "IPY_MODEL_243dd2dd1f8746adae4ae29984ef281b"
      }
     },
     "6abc05aa8e3c4b119bedc1b9daa46e6f": {
      "model_module": "@jupyter-widgets/base",
      "model_module_version": "1.2.0",
      "model_name": "LayoutModel",
      "state": {
       "align_items": "stretch",
       "border": "dashed 0.2px green",
       "display": "flex",
       "flex_flow": "row",
       "grid_auto_columns": "True",
       "justify_content": "flex-start",
       "width": "100%"
      }
     },
     "6b8f8033db394c13af3a992a7a12a34e": {
      "model_module": "@jupyter-widgets/controls",
      "model_module_version": "1.5.0",
      "model_name": "VBoxModel",
      "state": {
       "children": [
        "IPY_MODEL_7b0ceafd706a473392249e9ab7494d25",
        "IPY_MODEL_df0de51951d947af8b66a5c484dc986e",
        "IPY_MODEL_2810196117234ec1a984b1e7b064c9c8",
        "IPY_MODEL_3be210ac0cd74ddfab8d7018504a1e23",
        "IPY_MODEL_bd60df4c6a7a45c8a9c87e133b8d7754",
        "IPY_MODEL_8a44c287dc15446eb51ecd2e40ffdcbc",
        "IPY_MODEL_880cd05fbe9c424bbff158f9af5aa217",
        "IPY_MODEL_df020f8d36cb4dd39d7f7ffa8ebd9ff1"
       ],
       "layout": "IPY_MODEL_abb970500b35420da5fd6d6be5615e0b"
      }
     },
     "6d4aac9fd6f74e35ae729b1d27b640d3": {
      "model_module": "@jupyter-widgets/controls",
      "model_module_version": "1.5.0",
      "model_name": "HBoxModel",
      "state": {
       "children": [
        "IPY_MODEL_d58e680a465d46d0aaaa33f11cbc2263",
        "IPY_MODEL_f39ec27ba4774029a09d3f39625116c1"
       ],
       "layout": "IPY_MODEL_11dd1f07c56c40cd878448466c87216c"
      }
     },
     "6d6b7143a6f945aeb34351ecc09269a2": {
      "model_module": "@jupyter-widgets/controls",
      "model_module_version": "1.5.0",
      "model_name": "HBoxModel",
      "state": {
       "children": [
        "IPY_MODEL_a109494f00194cacb9778ca34a7be32e",
        "IPY_MODEL_84fd5ea2b5514d6a90aafe8031129389"
       ],
       "layout": "IPY_MODEL_8ef11bbf16954fd5b5e24d9e9c434fa2"
      }
     },
     "6e7b25c9c24e4056b319b444f4638969": {
      "model_module": "@jupyter-widgets/base",
      "model_module_version": "1.2.0",
      "model_name": "LayoutModel",
      "state": {}
     },
     "6f3f223e124e41898409d762f3933e16": {
      "model_module": "@jupyter-widgets/controls",
      "model_module_version": "1.5.0",
      "model_name": "DescriptionStyleModel",
      "state": {
       "description_width": ""
      }
     },
     "6f75686865ba4afaae1322029e0bbfcb": {
      "model_module": "@jupyter-widgets/base",
      "model_module_version": "1.2.0",
      "model_name": "LayoutModel",
      "state": {}
     },
     "70cf29e6f0b047868671c5f69a971e99": {
      "model_module": "@jupyter-widgets/base",
      "model_module_version": "1.2.0",
      "model_name": "LayoutModel",
      "state": {
       "display": "flex",
       "flex_flow": "row",
       "grid_auto_columns": "False",
       "justify_content": "flex-start",
       "width": "100%"
      }
     },
     "70f53a3d3b1b4a3898fe562facf8bbfe": {
      "model_module": "@jupyter-widgets/controls",
      "model_module_version": "1.5.0",
      "model_name": "HBoxModel",
      "state": {
       "children": [
        "IPY_MODEL_14067c6c00d44e1cb3d0967a766320ed",
        "IPY_MODEL_4bbc57dd650048c1ad19837e15c1c38e"
       ],
       "layout": "IPY_MODEL_29e05b0441ef4bed8bb6198314368ec3"
      }
     },
     "71e27b4602724afdb0c7ee8acc47fd13": {
      "model_module": "@jupyter-widgets/controls",
      "model_module_version": "1.5.0",
      "model_name": "HBoxModel",
      "state": {
       "children": [
        "IPY_MODEL_2ca33823cf5f4b44b53f4d3d6046d3cd"
       ],
       "layout": "IPY_MODEL_d67bcdce7bb84752812dcea8e2d7fa53"
      }
     },
     "7217fc18360742d88ca5ac4f27fc9609": {
      "model_module": "@jupyter-widgets/controls",
      "model_module_version": "1.5.0",
      "model_name": "TextareaModel",
      "state": {
       "layout": "IPY_MODEL_6534cc5292f04de8962b083102a99a56",
       "style": "IPY_MODEL_ff0c289f19fa43d9a87b023df93a20af",
       "value": "asdfasdf"
      }
     },
     "72aa5ab2210746ecbfe3bb6a69484475": {
      "model_module": "@jupyter-widgets/controls",
      "model_module_version": "1.5.0",
      "model_name": "TextModel",
      "state": {
       "layout": "IPY_MODEL_4b4bcafdc3264dd6846e03a42958dbf9",
       "style": "IPY_MODEL_c16fe2f4f4c3489298c0ec5a507ec159",
       "value": "2"
      }
     },
     "72f5925023a443e1a872745be07742ee": {
      "model_module": "@jupyter-widgets/controls",
      "model_module_version": "1.5.0",
      "model_name": "HBoxModel",
      "state": {
       "children": [
        "IPY_MODEL_e8a7775faad44b38a63846f22a015eed"
       ],
       "layout": "IPY_MODEL_be18f4413e73404f8e5958e32f7da859"
      }
     },
     "752e159761a542a6bf0dee1fd4af2539": {
      "model_module": "@jupyter-widgets/base",
      "model_module_version": "1.2.0",
      "model_name": "LayoutModel",
      "state": {
       "height": "30px",
       "width": "auto"
      }
     },
     "769c118bbf9444db965c14aabccf9160": {
      "model_module": "@jupyter-widgets/controls",
      "model_module_version": "1.5.0",
      "model_name": "ButtonModel",
      "state": {
       "button_style": "success",
       "description": "save changes",
       "layout": "IPY_MODEL_96a2e8f57c69407ea3ef70674ffdb300",
       "style": "IPY_MODEL_90307c13f46f48e6b90c199d3114cf5d"
      }
     },
     "77d0c33b46784f8987a457e06184b8fc": {
      "model_module": "@jupyter-widgets/controls",
      "model_module_version": "1.5.0",
      "model_name": "HTMLModel",
      "state": {
       "layout": "IPY_MODEL_fd5fe455e198419180be40e4baa82ab8",
       "style": "IPY_MODEL_e1b7874efa72438e8c688a0b33cccaab",
       "value": "<p>label</p>"
      }
     },
     "783ffa49e88146dfacbcac66c8218e49": {
      "model_module": "@jupyter-widgets/base",
      "model_module_version": "1.2.0",
      "model_name": "LayoutModel",
      "state": {
       "align_items": "stretch",
       "border": "dashed 0.2px green",
       "display": "flex",
       "flex_flow": "row",
       "grid_auto_columns": "True",
       "justify_content": "flex-start",
       "width": "100%"
      }
     },
     "7a7fc9e988344c9ba58bc11acd3a01be": {
      "model_module": "@jupyter-widgets/base",
      "model_module_version": "1.2.0",
      "model_name": "LayoutModel",
      "state": {}
     },
     "7ac91285c843486caf8df741e2c5e5e7": {
      "model_module": "@jupyter-widgets/controls",
      "model_module_version": "1.5.0",
      "model_name": "DescriptionStyleModel",
      "state": {
       "description_width": ""
      }
     },
     "7b0ceafd706a473392249e9ab7494d25": {
      "model_module": "@jupyter-widgets/controls",
      "model_module_version": "1.5.0",
      "model_name": "HBoxModel",
      "state": {
       "children": [
        "IPY_MODEL_4f1d429b37714f1d80380f6e4d27de5e",
        "IPY_MODEL_fbb89b0850f043c9be19f14c7728e77f"
       ],
       "layout": "IPY_MODEL_591f34ef77b448b4b774bd1dbd191944"
      }
     },
     "7b8b9a56e5784f1ab9eafd286bc22df9": {
      "model_module": "@jupyter-widgets/base",
      "model_module_version": "1.2.0",
      "model_name": "LayoutModel",
      "state": {
       "align_items": "stretch",
       "display": "flex",
       "flex_flow": "row",
       "grid_auto_columns": "True",
       "justify_content": "flex-end",
       "width": "90%"
      }
     },
     "7bdd9c4b4e644a76b42be5d90743acfb": {
      "model_module": "@jupyter-widgets/base",
      "model_module_version": "1.2.0",
      "model_name": "LayoutModel",
      "state": {}
     },
     "7d0e4399a9a74e0288070c3ffd82cd3c": {
      "model_module": "@jupyter-widgets/controls",
      "model_module_version": "1.5.0",
      "model_name": "HBoxModel",
      "state": {
       "children": [
        "IPY_MODEL_1ff6b9c146c4409bb0cafd7ac5d37c34",
        "IPY_MODEL_b7c331f6601f4fe9a6580cdc6d2a1655"
       ],
       "layout": "IPY_MODEL_68e4b70179c847028362ffec10de8d50"
      }
     },
     "7d2d073b05a74779a1ea1c6c8eee9a38": {
      "model_module": "@jupyter-widgets/base",
      "model_module_version": "1.2.0",
      "model_name": "LayoutModel",
      "state": {}
     },
     "7db2c0f7fb2a45daaea3f80196aef2ff": {
      "model_module": "@jupyter-widgets/base",
      "model_module_version": "1.2.0",
      "model_name": "LayoutModel",
      "state": {}
     },
     "7dd100c5bec4421b88465459223e2fdb": {
      "model_module": "@jupyter-widgets/controls",
      "model_module_version": "1.5.0",
      "model_name": "HTMLModel",
      "state": {
       "layout": "IPY_MODEL_654608010800437991b6791f493c926f",
       "style": "IPY_MODEL_15413bed9271491e890e35a2aafa9295",
       "value": "<p>reous foo ous foo st</p>"
      }
     },
     "7de121ff310e43f18adb643c938ddee6": {
      "model_module": "@jupyter-widgets/controls",
      "model_module_version": "1.5.0",
      "model_name": "HBoxModel",
      "state": {
       "children": [
        "IPY_MODEL_e92a9c3b72de4af7a52fb2e60da7fe76",
        "IPY_MODEL_3a9e4a46c6fc440e91c03d4ca788b76f"
       ],
       "layout": "IPY_MODEL_8310ec325d324214874f57c7cdf51a09"
      }
     },
     "7e46b4a6250042128a18ad83ba000193": {
      "model_module": "@jupyter-widgets/output",
      "model_module_version": "1.0.0",
      "model_name": "OutputModel",
      "state": {
       "layout": "IPY_MODEL_f8923930a29b4678be324998f4a4123e"
      }
     },
     "7e66f00a8c064b01b455b9ad629f34f8": {
      "model_module": "@jupyter-widgets/controls",
      "model_module_version": "1.5.0",
      "model_name": "RadioButtonsModel",
      "state": {
       "_options_labels": [
        "TEMPLATE: C:\\engDev\\git_mf\\MF_Toolbox\\dev\\mf_scripts\\template_inputs\\inputs-docx_to_pdf.json",
        "PROJECT: C:\\engDev\\git_mf\\ipyrun\\ipyrun\\appdata\\inputs\\inputs-docx_to_pdf.json",
        "PROJECT: C:\\engDev\\git_mf\\ipyrun\\ipyrun\\appdata\\inputs\\archive\\20200610_1134-jg-inputs-docx_to_pdf.json",
        "PROJECT: C:\\engDev\\git_mf\\ipyrun\\ipyrun\\appdata\\inputs\\archive\\20200610_1139-jg-inputs-docx_to_pdf.json",
        "PROJECT: C:\\engDev\\git_mf\\ipyrun\\ipyrun\\appdata\\inputs\\archive\\20200610_1218-jg-inputs-docx_to_pdf.json",
        "PROJECT: C:\\engDev\\git_mf\\ipyrun\\ipyrun\\appdata\\inputs\\archive\\20200610_1220-jg-inputs-docx_to_pdf.json",
        "PROJECT: C:\\engDev\\git_mf\\ipyrun\\ipyrun\\appdata\\inputs\\archive\\20200610_1221-jg-inputs-docx_to_pdf.json",
        "PROJECT: C:\\engDev\\git_mf\\ipyrun\\ipyrun\\appdata\\inputs\\archive\\20200610_1224-jg-inputs-docx_to_pdf.json",
        "PROJECT: C:\\engDev\\git_mf\\ipyrun\\ipyrun\\appdata\\inputs\\archive\\20200610_1225-jg-inputs-docx_to_pdf.json",
        "PROJECT: C:\\engDev\\git_mf\\ipyrun\\ipyrun\\appdata\\inputs\\archive\\20200610_1244-jg-inputs-docx_to_pdf.json",
        "PROJECT: C:\\engDev\\git_mf\\ipyrun\\ipyrun\\appdata\\inputs\\archive\\20200610_1246-jg-inputs-docx_to_pdf.json",
        "PROJECT: C:\\engDev\\git_mf\\ipyrun\\ipyrun\\appdata\\inputs\\archive\\20200610_1419-jg-inputs-docx_to_pdf.json",
        "PROJECT: C:\\engDev\\git_mf\\ipyrun\\ipyrun\\appdata\\inputs\\archive\\20200610_1420-jg-inputs-docx_to_pdf.json",
        "PROJECT: C:\\engDev\\git_mf\\ipyrun\\ipyrun\\appdata\\inputs\\archive\\20200610_1422-jg-inputs-docx_to_pdf.json",
        "PROJECT: C:\\engDev\\git_mf\\ipyrun\\ipyrun\\appdata\\inputs\\archive\\20200610_1425-jg-inputs-docx_to_pdf.json",
        "PROJECT: C:\\engDev\\git_mf\\ipyrun\\ipyrun\\appdata\\inputs\\archive\\20200610_1853-jg-inputs-docx_to_pdf.json",
        "PROJECT: C:\\engDev\\git_mf\\ipyrun\\ipyrun\\appdata\\inputs\\archive\\20200610_1855-jg-inputs-docx_to_pdf.json",
        "PROJECT: C:\\engDev\\git_mf\\ipyrun\\ipyrun\\appdata\\inputs\\archive\\20200611_0748-jg-inputs-docx_to_pdf.json",
        "PROJECT: C:\\engDev\\git_mf\\ipyrun\\ipyrun\\appdata\\inputs\\archive\\20200611_0754-jg-inputs-docx_to_pdf.json",
        "PROJECT: C:\\engDev\\git_mf\\ipyrun\\ipyrun\\appdata\\inputs\\archive\\20200611_0757-jg-inputs-docx_to_pdf.json",
        "PROJECT: C:\\engDev\\git_mf\\ipyrun\\ipyrun\\appdata\\inputs\\archive\\20200616_1026-jg-inputs-docx_to_pdf.json"
       ],
       "index": 0,
       "layout": "IPY_MODEL_70cf29e6f0b047868671c5f69a971e99",
       "style": "IPY_MODEL_eb0d8b949fff40d2b4f2a3a0e7c66db9"
      }
     },
     "7eb93a40fb7c403ca8e728992f60a63b": {
      "model_module": "@jupyter-widgets/controls",
      "model_module_version": "1.5.0",
      "model_name": "DescriptionStyleModel",
      "state": {
       "description_width": ""
      }
     },
     "7f04b44d269e483a84f2520d6ca32c6d": {
      "model_module": "@jupyter-widgets/base",
      "model_module_version": "1.2.0",
      "model_name": "LayoutModel",
      "state": {
       "align_items": "stretch",
       "border": "dashed 0.2px green",
       "display": "flex",
       "flex_flow": "row",
       "grid_auto_columns": "True",
       "justify_content": "flex-start",
       "width": "100%"
      }
     },
     "7fc673c5e6ca46cdb702f0d440351ed6": {
      "model_module": "@jupyter-widgets/controls",
      "model_module_version": "1.5.0",
      "model_name": "BoxModel",
      "state": {
       "children": [
        "IPY_MODEL_d86101c312724b34bbfd302a10e0cd2a"
       ],
       "layout": "IPY_MODEL_eb5e37c475124e7fa2bdf968ff2dfdaa"
      }
     },
     "7fd16c10a0274aeca8291475d2718e83": {
      "model_module": "@jupyter-widgets/controls",
      "model_module_version": "1.5.0",
      "model_name": "ButtonStyleModel",
      "state": {}
     },
     "80044ebd10864931b1e8b9e5c69c8999": {
      "model_module": "@jupyter-widgets/base",
      "model_module_version": "1.2.0",
      "model_name": "LayoutModel",
      "state": {
       "width": "5%"
      }
     },
     "823f738e810f48b6b239b40ef7aeefaa": {
      "model_module": "@jupyter-widgets/base",
      "model_module_version": "1.2.0",
      "model_name": "LayoutModel",
      "state": {}
     },
     "8310ec325d324214874f57c7cdf51a09": {
      "model_module": "@jupyter-widgets/base",
      "model_module_version": "1.2.0",
      "model_name": "LayoutModel",
      "state": {
       "align_items": "stretch",
       "display": "flex",
       "flex_flow": "row",
       "grid_auto_columns": "True",
       "justify_content": "flex-end",
       "width": "90%"
      }
     },
     "83c6ade8eb0b43dc9a1a801e2ce223be": {
      "model_module": "@jupyter-widgets/controls",
      "model_module_version": "1.5.0",
      "model_name": "TextModel",
      "state": {
       "description": "inputs",
       "disabled": true,
       "layout": "IPY_MODEL_4d2786a04a074e139fd78205921bb1ff",
       "style": "IPY_MODEL_67fcb11e23e9474bac4a8bd3d3ded05b",
       "value": "C:\\engDev\\git_mf\\ipyrun\\ipyrun\\appdata\\inputs\\inputs-gbxml.json"
      }
     },
     "83d9829ef12e489db27c8d562d363f5f": {
      "model_module": "@jupyter-widgets/controls",
      "model_module_version": "1.5.0",
      "model_name": "HTMLModel",
      "state": {
       "layout": "IPY_MODEL_1d63985ce928462681c69e18187e3ec4",
       "style": "IPY_MODEL_a0fd6f4f20304ab88a0300599ea29306",
       "value": "<p>name</p>"
      }
     },
     "84fd5ea2b5514d6a90aafe8031129389": {
      "model_module": "@jupyter-widgets/controls",
      "model_module_version": "1.5.0",
      "model_name": "HBoxModel",
      "state": {
       "children": [
        "IPY_MODEL_7217fc18360742d88ca5ac4f27fc9609",
        "IPY_MODEL_04b3c9af906a428d9be60806c1a0277d"
       ],
       "layout": "IPY_MODEL_93d21570732243859f2a7d6c4547bda2"
      }
     },
     "855bdc7a307e44bdae39a9b7fb90ff1b": {
      "model_module": "@jupyter-widgets/base",
      "model_module_version": "1.2.0",
      "model_name": "LayoutModel",
      "state": {}
     },
     "85ffb3b246c94997852a9f9c0d793cc4": {
      "model_module": "@jupyter-widgets/controls",
      "model_module_version": "1.5.0",
      "model_name": "DropdownModel",
      "state": {
       "_options_labels": [
        "asfd",
        "10",
        "asdf"
       ],
       "index": 1,
       "layout": "IPY_MODEL_954831302bc547f08690d44fe7cf92cf",
       "style": "IPY_MODEL_267965ea750c40abb751c89f30159cfc"
      }
     },
     "863bfcd860f6444cb9af478121841cd1": {
      "model_module": "@jupyter-widgets/controls",
      "model_module_version": "1.5.0",
      "model_name": "DescriptionStyleModel",
      "state": {
       "description_width": ""
      }
     },
     "869e0cb48a9e46bb9ec3a015101222be": {
      "model_module": "@jupyter-widgets/base",
      "model_module_version": "1.2.0",
      "model_name": "LayoutModel",
      "state": {
       "align_items": "stretch",
       "display": "flex",
       "flex_flow": "row",
       "grid_auto_columns": "True",
       "justify_content": "flex-end",
       "width": "90%"
      }
     },
     "87fb46e05e214c18a89984d9e1f3d2b0": {
      "model_module": "@jupyter-widgets/controls",
      "model_module_version": "1.5.0",
      "model_name": "FloatTextModel",
      "state": {
       "layout": "IPY_MODEL_b38bc1d3233b439b809ea8ca8793f255",
       "step": null,
       "style": "IPY_MODEL_3b2acec4522c4b44ab153cef4cb8757f",
       "value": 9
      }
     },
     "880cd05fbe9c424bbff158f9af5aa217": {
      "model_module": "@jupyter-widgets/controls",
      "model_module_version": "1.5.0",
      "model_name": "HBoxModel",
      "state": {
       "children": [
        "IPY_MODEL_9250bcd17b7844108d47c3a5e33a8a99"
       ],
       "layout": "IPY_MODEL_ca1cdaa2ba484695a83e58538d2b8fc1"
      }
     },
     "8a44c287dc15446eb51ecd2e40ffdcbc": {
      "model_module": "@jupyter-widgets/controls",
      "model_module_version": "1.5.0",
      "model_name": "HBoxModel",
      "state": {
       "children": [
        "IPY_MODEL_d4614cb654f94815bf38551d4cc49edf"
       ],
       "layout": "IPY_MODEL_0b9fd76c467a4c3ea1aa80e2e9b90919"
      }
     },
     "8b77b3a2e0ba443cb2ae356b4f603462": {
      "model_module": "@jupyter-widgets/controls",
      "model_module_version": "1.5.0",
      "model_name": "HBoxModel",
      "state": {
       "children": [
        "IPY_MODEL_10b6f3f723294bfe9920adfc395d534b",
        "IPY_MODEL_2776d0e68d4b48cbaa233b4237fb5b98"
       ],
       "layout": "IPY_MODEL_debab8e5146846178a6ec316f5298da6"
      }
     },
     "8cb51a2a79774f2f854212af59c4cfa2": {
      "model_module": "@jupyter-widgets/base",
      "model_module_version": "1.2.0",
      "model_name": "LayoutModel",
      "state": {}
     },
     "8d35d480ed8646c5927b292bb9a36c5e": {
      "model_module": "@jupyter-widgets/controls",
      "model_module_version": "1.5.0",
      "model_name": "VBoxModel",
      "state": {
       "children": [
        "IPY_MODEL_f0d8b50136764a2da3ab0b69b385aa9e",
        "IPY_MODEL_ff6d761629e04d6a91cdd411a29e7d28",
        "IPY_MODEL_a880be6c6e3f4f2894dc9737be86fc2b"
       ],
       "layout": "IPY_MODEL_1877293d26e445ff8b5b6dad35352529"
      }
     },
     "8ef11bbf16954fd5b5e24d9e9c434fa2": {
      "model_module": "@jupyter-widgets/base",
      "model_module_version": "1.2.0",
      "model_name": "LayoutModel",
      "state": {
       "align_items": "stretch",
       "display": "flex",
       "flex_flow": "row",
       "grid_auto_columns": "True",
       "justify_content": "flex-end",
       "width": "90%"
      }
     },
     "8f2664130c114b4aa3b74834f0611da1": {
      "model_module": "@jupyter-widgets/controls",
      "model_module_version": "1.5.0",
      "model_name": "HBoxModel",
      "state": {
       "children": [
        "IPY_MODEL_ea8a7545a7c64237b04cc5337e6c23fa",
        "IPY_MODEL_5a93d6784e714f5390d94d20cc2586bf"
       ],
       "layout": "IPY_MODEL_07bbfd65567241a7833ca04e2d70f9cf"
      }
     },
     "8faec83610c14b6db90adbec9a049328": {
      "model_module": "@jupyter-widgets/base",
      "model_module_version": "1.2.0",
      "model_name": "LayoutModel",
      "state": {
       "width": "5%"
      }
     },
     "90307c13f46f48e6b90c199d3114cf5d": {
      "model_module": "@jupyter-widgets/controls",
      "model_module_version": "1.5.0",
      "model_name": "ButtonStyleModel",
      "state": {
       "font_weight": "bold"
      }
     },
     "9043fae857b143858d2aba35a8bd3ce7": {
      "model_module": "@jupyter-widgets/base",
      "model_module_version": "1.2.0",
      "model_name": "LayoutModel",
      "state": {
       "align_items": "stretch",
       "display": "flex",
       "flex_flow": "row",
       "grid_auto_columns": "True",
       "justify_content": "flex-end",
       "width": "90%"
      }
     },
     "909f5299d57f4372b88f9830f06c59ee": {
      "model_module": "@jupyter-widgets/controls",
      "model_module_version": "1.5.0",
      "model_name": "DropdownModel",
      "state": {
       "_options_labels": [
        "asfd",
        "10",
        "asdf"
       ],
       "index": 1,
       "layout": "IPY_MODEL_a323d78cb9f74123b48bca2f6f238be9",
       "style": "IPY_MODEL_c8e12397322f4870a2484743d938e658"
      }
     },
     "911305d27e3e4a8c9f97cdb64ca22e29": {
      "model_module": "@jupyter-widgets/base",
      "model_module_version": "1.2.0",
      "model_name": "LayoutModel",
      "state": {
       "align_items": "stretch",
       "display": "flex",
       "flex_flow": "row",
       "grid_auto_columns": "True",
       "justify_content": "flex-end",
       "width": "90%"
      }
     },
     "91e1b0055dd54c2494952698039932a0": {
      "model_module": "@jupyter-widgets/base",
      "model_module_version": "1.2.0",
      "model_name": "LayoutModel",
      "state": {}
     },
     "9250bcd17b7844108d47c3a5e33a8a99": {
      "model_module": "@jupyter-widgets/controls",
      "model_module_version": "1.5.0",
      "model_name": "HBoxModel",
      "state": {
       "children": [
        "IPY_MODEL_83d9829ef12e489db27c8d562d363f5f",
        "IPY_MODEL_7d0e4399a9a74e0288070c3ffd82cd3c"
       ],
       "layout": "IPY_MODEL_f9b85983177743639b58167887d06818"
      }
     },
     "92febc8dc4484c71a68edc2de7249cf0": {
      "model_module": "@jupyter-widgets/base",
      "model_module_version": "1.2.0",
      "model_name": "LayoutModel",
      "state": {}
     },
     "93d21570732243859f2a7d6c4547bda2": {
      "model_module": "@jupyter-widgets/base",
      "model_module_version": "1.2.0",
      "model_name": "LayoutModel",
      "state": {
       "align_items": "stretch",
       "display": "flex",
       "flex_flow": "row",
       "grid_auto_columns": "True",
       "justify_content": "flex-start",
       "width": "80%"
      }
     },
     "9410585324c548a5ac5842e781967867": {
      "model_module": "@jupyter-widgets/controls",
      "model_module_version": "1.5.0",
      "model_name": "ButtonModel",
      "state": {
       "icon": "question-circle",
       "layout": "IPY_MODEL_8faec83610c14b6db90adbec9a049328",
       "style": "IPY_MODEL_aaf189c5caae433b98f14b4a9fcabf90",
       "tooltip": "describes the functionality of elements in the RunApp interface"
      }
     },
     "954831302bc547f08690d44fe7cf92cf": {
      "model_module": "@jupyter-widgets/base",
      "model_module_version": "1.2.0",
      "model_name": "LayoutModel",
      "state": {}
     },
     "957ac8cd2c994054ababb973b3cb2684": {
      "model_module": "@jupyter-widgets/controls",
      "model_module_version": "1.5.0",
      "model_name": "DescriptionStyleModel",
      "state": {
       "description_width": ""
      }
     },
     "958ec1b391524264b57feb1c8aa58eaf": {
      "model_module": "@jupyter-widgets/controls",
      "model_module_version": "1.5.0",
      "model_name": "HBoxModel",
      "state": {
       "children": [
        "IPY_MODEL_6d6b7143a6f945aeb34351ecc09269a2"
       ],
       "layout": "IPY_MODEL_783ffa49e88146dfacbcac66c8218e49"
      }
     },
     "9688e98d5ebe48d19165d686234c4c19": {
      "model_module": "@jupyter-widgets/output",
      "model_module_version": "1.0.0",
      "model_name": "OutputModel",
      "state": {
       "layout": "IPY_MODEL_df6b2efda65f4a5d9a8e492626e89d38"
      }
     },
     "96a2e8f57c69407ea3ef70674ffdb300": {
      "model_module": "@jupyter-widgets/base",
      "model_module_version": "1.2.0",
      "model_name": "LayoutModel",
      "state": {}
     },
     "96b0fbb7123646cea7045dfa0497e948": {
      "model_module": "@jupyter-widgets/controls",
      "model_module_version": "1.5.0",
      "model_name": "DescriptionStyleModel",
      "state": {
       "description_width": ""
      }
     },
     "988e8951847441b88f16170d0829a506": {
      "model_module": "@jupyter-widgets/base",
      "model_module_version": "1.2.0",
      "model_name": "LayoutModel",
      "state": {}
     },
     "999625f1fc3045daabe9912fc2378a3e": {
      "model_module": "@jupyter-widgets/base",
      "model_module_version": "1.2.0",
      "model_name": "LayoutModel",
      "state": {
       "align_items": "stretch",
       "display": "flex",
       "flex_flow": "row",
       "grid_auto_columns": "True",
       "justify_content": "flex-start",
       "width": "80%"
      }
     },
     "9a14157db29f45999cf687f9f2bc7a78": {
      "model_module": "@jupyter-widgets/controls",
      "model_module_version": "1.5.0",
      "model_name": "HBoxModel",
      "state": {
       "children": [
        "IPY_MODEL_0fc57bb1e351442998041f6781d16067",
        "IPY_MODEL_bcbf0ec408ca41ac8d1e6ca855e8541b"
       ],
       "layout": "IPY_MODEL_1c6d459186fb4358a28cef1cd72b58d1"
      }
     },
     "9a44029f73074145a9762297ee6e5b74": {
      "model_module": "@jupyter-widgets/controls",
      "model_module_version": "1.5.0",
      "model_name": "DescriptionStyleModel",
      "state": {
       "description_width": ""
      }
     },
     "9b16428ce3bb417caf5819c900df999d": {
      "model_module": "@jupyter-widgets/controls",
      "model_module_version": "1.5.0",
      "model_name": "HTMLModel",
      "state": {
       "layout": "IPY_MODEL_3c329322d7704ec1bdb49f7e61d6d5fa",
       "style": "IPY_MODEL_56785ec54fa2413b8d2f309f83cf6374",
       "value": "<p>foo</p>"
      }
     },
     "9b3fc29195a1485a8cf88e8f1bf9cfd7": {
      "model_module": "@jupyter-widgets/base",
      "model_module_version": "1.2.0",
      "model_name": "LayoutModel",
      "state": {
       "align_items": "stretch",
       "width": "100%"
      }
     },
     "9b555386a6944f45bead00ddcf560341": {
      "model_module": "@jupyter-widgets/base",
      "model_module_version": "1.2.0",
      "model_name": "LayoutModel",
      "state": {
       "border": "0px",
       "margin": "0px",
       "padding": "0px"
      }
     },
     "9b6709e38d5b426ea841086662c56ee6": {
      "model_module": "@jupyter-widgets/base",
      "model_module_version": "1.2.0",
      "model_name": "LayoutModel",
      "state": {}
     },
     "9b99f3781b5741548b38436ac6d21698": {
      "model_module": "@jupyter-widgets/controls",
      "model_module_version": "1.5.0",
      "model_name": "DescriptionStyleModel",
      "state": {
       "description_width": ""
      }
     },
     "9bd8ed49980b45e893c9ac273f2cd7a6": {
      "model_module": "@jupyter-widgets/base",
      "model_module_version": "1.2.0",
      "model_name": "LayoutModel",
      "state": {
       "align_items": "stretch",
       "display": "flex",
       "flex_flow": "row",
       "grid_auto_columns": "True",
       "justify_content": "flex-start",
       "width": "80%"
      }
     },
     "9d599264f0e5497fb2b7e37502c9a69f": {
      "model_module": "@jupyter-widgets/output",
      "model_module_version": "1.0.0",
      "model_name": "OutputModel",
      "state": {
       "layout": "IPY_MODEL_4e9cd00dda0c4ba5ab2b402ac2593416"
      }
     },
     "9d692648a8de44edad52fa11108e1204": {
      "model_module": "@jupyter-widgets/controls",
      "model_module_version": "1.5.0",
      "model_name": "HTMLModel",
      "state": {
       "layout": "IPY_MODEL_bf946e81a72f496e815ea0088d7cf25f",
       "style": "IPY_MODEL_e6e14cf713094adcb7c289da52512cda",
       "value": "<p>reus foo ous oo ous foo st</p>"
      }
     },
     "9e92bde8e4934caaa11f5c4d4f41221a": {
      "model_module": "@jupyter-widgets/controls",
      "model_module_version": "1.5.0",
      "model_name": "ButtonStyleModel",
      "state": {
       "font_weight": "bold"
      }
     },
     "9f00075845f944fc843cf39f7c267255": {
      "model_module": "@jupyter-widgets/base",
      "model_module_version": "1.2.0",
      "model_name": "LayoutModel",
      "state": {}
     },
     "9f39a289c6e34bf786f9c7313166c556": {
      "model_module": "@jupyter-widgets/output",
      "model_module_version": "1.0.0",
      "model_name": "OutputModel",
      "state": {
       "layout": "IPY_MODEL_35f4093a57484a418a97d2c3395e0537"
      }
     },
     "a02a51a73a2346cf90d3a45ac887349a": {
      "model_module": "@jupyter-widgets/controls",
      "model_module_version": "1.5.0",
      "model_name": "DescriptionStyleModel",
      "state": {
       "description_width": ""
      }
     },
     "a07b20665fb34a15a2b2694d89c2f664": {
      "model_module": "@jupyter-widgets/controls",
      "model_module_version": "1.5.0",
      "model_name": "HBoxModel",
      "state": {
       "children": [
        "IPY_MODEL_9d692648a8de44edad52fa11108e1204",
        "IPY_MODEL_70f53a3d3b1b4a3898fe562facf8bbfe"
       ],
       "layout": "IPY_MODEL_31826b89a1a446ba9e588827b390f476"
      }
     },
     "a0fd6f4f20304ab88a0300599ea29306": {
      "model_module": "@jupyter-widgets/controls",
      "model_module_version": "1.5.0",
      "model_name": "DescriptionStyleModel",
      "state": {
       "description_width": ""
      }
     },
     "a109494f00194cacb9778ca34a7be32e": {
      "model_module": "@jupyter-widgets/controls",
      "model_module_version": "1.5.0",
      "model_name": "HTMLModel",
      "state": {
       "layout": "IPY_MODEL_c10d8e072a854e418103458c2db0c392",
       "style": "IPY_MODEL_9a44029f73074145a9762297ee6e5b74",
       "value": "<p>reus foo ous oo ous foo st</p>"
      }
     },
     "a1896ca74d434fa8bdadeabd4320f4c5": {
      "model_module": "@jupyter-widgets/controls",
      "model_module_version": "1.5.0",
      "model_name": "ButtonModel",
      "state": {
       "button_style": "success",
       "description": "run",
       "layout": "IPY_MODEL_d3e07787454c43b39c7beb0fde5c5fb2",
       "style": "IPY_MODEL_cafd6fcd8a8845ec8b9c3f3b640f146f",
       "tooltip": "execute the script based on the user inputs"
      }
     },
     "a2e993a3db644e5c907a675d90b6ed9e": {
      "model_module": "@jupyter-widgets/controls",
      "model_module_version": "1.5.0",
      "model_name": "VBoxModel",
      "state": {
       "layout": "IPY_MODEL_ea0572eb08734c9a8f7a8545496e29db"
      }
     },
     "a307355ff3db440797aba3dd66f875c6": {
      "model_module": "@jupyter-widgets/base",
      "model_module_version": "1.2.0",
      "model_name": "LayoutModel",
      "state": {
       "align_items": "stretch",
       "display": "flex",
       "flex_flow": "row",
       "grid_auto_columns": "True",
       "justify_content": "flex-start",
       "width": "80%"
      }
     },
     "a32132707da14491b695b04aa5e5f72c": {
      "model_module": "@jupyter-widgets/controls",
      "model_module_version": "1.5.0",
      "model_name": "DescriptionStyleModel",
      "state": {
       "description_width": ""
      }
     },
     "a323d78cb9f74123b48bca2f6f238be9": {
      "model_module": "@jupyter-widgets/base",
      "model_module_version": "1.2.0",
      "model_name": "LayoutModel",
      "state": {}
     },
     "a371b00bcdd044e8958db5fe9725550f": {
      "model_module": "@jupyter-widgets/controls",
      "model_module_version": "1.5.0",
      "model_name": "ToggleButtonModel",
      "state": {
       "button_style": "info",
       "description": "inputs from file",
       "layout": "IPY_MODEL_20fb4cf54d6641bca200561095e716a3",
       "style": "IPY_MODEL_d8d7883bb8354445a3a210f227fbf290"
      }
     },
     "a3f4692706fc4222a21d0a9d90fdd0d3": {
      "model_module": "@jupyter-widgets/base",
      "model_module_version": "1.2.0",
      "model_name": "LayoutModel",
      "state": {}
     },
     "a6794c8cc3a946638827ea0a4df47778": {
      "model_module": "@jupyter-widgets/output",
      "model_module_version": "1.0.0",
      "model_name": "OutputModel",
      "state": {
       "layout": "IPY_MODEL_579ab14d1b3840e5af50008373146a32"
      }
     },
     "a880be6c6e3f4f2894dc9737be86fc2b": {
      "model_module": "@jupyter-widgets/controls",
      "model_module_version": "1.5.0",
      "model_name": "VBoxModel",
      "state": {
       "layout": "IPY_MODEL_05876d7e267e49fab7e97383e8ce6f8a"
      }
     },
     "a9110f5e41524c83ad84aa11f1e1bfc7": {
      "model_module": "@jupyter-widgets/base",
      "model_module_version": "1.2.0",
      "model_name": "LayoutModel",
      "state": {}
     },
     "a92c317ffe314c51a0020e251f3d481a": {
      "model_module": "@jupyter-widgets/controls",
      "model_module_version": "1.5.0",
      "model_name": "VBoxModel",
      "state": {
       "children": [
        "IPY_MODEL_eef2a9b767f54aa38b13463d01742551",
        "IPY_MODEL_d10ec4b223a14dd2b514f9c182fe41ab"
       ],
       "layout": "IPY_MODEL_10238da01ff547ad885da6d361bed3c6"
      }
     },
     "aadb72cf6f79496ea72600be5d35e55c": {
      "model_module": "@jupyter-widgets/controls",
      "model_module_version": "1.5.0",
      "model_name": "HBoxModel",
      "state": {
       "children": [
        "IPY_MODEL_85ffb3b246c94997852a9f9c0d793cc4",
        "IPY_MODEL_c28d34e1a66c439689c9366781ec94cf"
       ],
       "layout": "IPY_MODEL_64a3516a39b94bbe8d0c27919004ffb0"
      }
     },
     "aaf189c5caae433b98f14b4a9fcabf90": {
      "model_module": "@jupyter-widgets/controls",
      "model_module_version": "1.5.0",
      "model_name": "ButtonStyleModel",
      "state": {
       "font_weight": "bold"
      }
     },
     "ab4ef5a1feb34f3abd7781e096395041": {
      "model_module": "@jupyter-widgets/controls",
      "model_module_version": "1.5.0",
      "model_name": "HBoxModel",
      "state": {
       "children": [
        "IPY_MODEL_19aa8b54b2634818835900a91782a902",
        "IPY_MODEL_aadb72cf6f79496ea72600be5d35e55c"
       ],
       "layout": "IPY_MODEL_911305d27e3e4a8c9f97cdb64ca22e29"
      }
     },
     "ab65bb322e044bd98fd896b6798a1bbd": {
      "model_module": "@jupyter-widgets/base",
      "model_module_version": "1.2.0",
      "model_name": "LayoutModel",
      "state": {
       "align_items": "stretch",
       "display": "flex",
       "flex_flow": "row",
       "grid_auto_columns": "True",
       "justify_content": "flex-start",
       "width": "80%"
      }
     },
     "abb970500b35420da5fd6d6be5615e0b": {
      "model_module": "@jupyter-widgets/base",
      "model_module_version": "1.2.0",
      "model_name": "LayoutModel",
      "state": {}
     },
     "ac3f365b39c94f078b6fe64840bf8877": {
      "model_module": "@jupyter-widgets/controls",
      "model_module_version": "1.5.0",
      "model_name": "HTMLModel",
      "state": {
       "layout": "IPY_MODEL_bc423416bb104fef8efc6537dc39b113",
       "style": "IPY_MODEL_54a0c29d7fe54590a511a6d4aee46a44",
       "value": "<p>input gbxml filepath</p>"
      }
     },
     "ac63b21765014ab5b017098ec5596e5c": {
      "model_module": "@jupyter-widgets/controls",
      "model_module_version": "1.5.0",
      "model_name": "HBoxModel",
      "state": {
       "children": [
        "IPY_MODEL_5acbad61f626463d85dda922f4751442"
       ],
       "layout": "IPY_MODEL_6abc05aa8e3c4b119bedc1b9daa46e6f"
      }
     },
     "ae61173b90f04afdb4adc9ddc30aa120": {
      "model_module": "@jupyter-widgets/controls",
      "model_module_version": "1.5.0",
      "model_name": "DescriptionStyleModel",
      "state": {
       "description_width": ""
      }
     },
     "ae93cc3aa4c445bc91aaaa47dbf88720": {
      "model_module": "@jupyter-widgets/controls",
      "model_module_version": "1.5.0",
      "model_name": "ButtonModel",
      "state": {
       "description": "load",
       "icon": "upload",
       "layout": "IPY_MODEL_9b6709e38d5b426ea841086662c56ee6",
       "style": "IPY_MODEL_00ae768e5df74b5c8d4e619ef9a11fa9"
      }
     },
     "af3a097891c443229995a1dfc1b4ae98": {
      "model_module": "@jupyter-widgets/base",
      "model_module_version": "1.2.0",
      "model_name": "LayoutModel",
      "state": {
       "align_items": "stretch",
       "border": "dashed 0.2px green",
       "display": "flex",
       "flex_flow": "row",
       "grid_auto_columns": "True",
       "justify_content": "flex-start",
       "width": "100%"
      }
     },
     "af9626d9258f43f39eea5472683bedba": {
      "model_module": "@jupyter-widgets/base",
      "model_module_version": "1.2.0",
      "model_name": "LayoutModel",
      "state": {}
     },
     "afc1680fe7d349aa973e400bd944a430": {
      "model_module": "@jupyter-widgets/controls",
      "model_module_version": "1.5.0",
      "model_name": "DescriptionStyleModel",
      "state": {
       "description_width": ""
      }
     },
     "b0a2f42743a34290b263d3d767fd245b": {
      "model_module": "@jupyter-widgets/controls",
      "model_module_version": "1.5.0",
      "model_name": "DescriptionStyleModel",
      "state": {
       "description_width": ""
      }
     },
     "b0afcf9267c84f2db9a0de03894dff73": {
      "model_module": "@jupyter-widgets/controls",
      "model_module_version": "1.5.0",
      "model_name": "HBoxModel",
      "state": {
       "children": [
        "IPY_MODEL_87fb46e05e214c18a89984d9e1f3d2b0",
        "IPY_MODEL_e3ea9e9941954da6843f8111e0e51d0a"
       ],
       "layout": "IPY_MODEL_3327394fb5034a4b84f432e5f584c214"
      }
     },
     "b124acef9d6b4d9faa06d4f7426acfa9": {
      "model_module": "@jupyter-widgets/output",
      "model_module_version": "1.0.0",
      "model_name": "OutputModel",
      "state": {
       "layout": "IPY_MODEL_b732cfedd93a449cb63f05eb5a6c7ae4"
      }
     },
     "b27f03fb451c4d04b87e924bb2024d05": {
      "model_module": "@jupyter-widgets/base",
      "model_module_version": "1.2.0",
      "model_name": "LayoutModel",
      "state": {}
     },
     "b38bc1d3233b439b809ea8ca8793f255": {
      "model_module": "@jupyter-widgets/base",
      "model_module_version": "1.2.0",
      "model_name": "LayoutModel",
      "state": {}
     },
     "b5b11ea1c23645d0b7959860c08bce74": {
      "model_module": "@jupyter-widgets/output",
      "model_module_version": "1.0.0",
      "model_name": "OutputModel",
      "state": {
       "layout": "IPY_MODEL_5c54d560dc224953b5bd620db6d2ebfc"
      }
     },
     "b67c0beb190c48de8df05294e9d2c4a6": {
      "model_module": "@jupyter-widgets/base",
      "model_module_version": "1.2.0",
      "model_name": "LayoutModel",
      "state": {}
     },
     "b732cfedd93a449cb63f05eb5a6c7ae4": {
      "model_module": "@jupyter-widgets/base",
      "model_module_version": "1.2.0",
      "model_name": "LayoutModel",
      "state": {}
     },
     "b7c331f6601f4fe9a6580cdc6d2a1655": {
      "model_module": "@jupyter-widgets/controls",
      "model_module_version": "1.5.0",
      "model_name": "HTMLModel",
      "state": {
       "layout": "IPY_MODEL_be61ad7263af42b39ba815e7416c90a2",
       "style": "IPY_MODEL_957ac8cd2c994054ababb973b3cb2684",
       "value": "<p>label</p>"
      }
     },
     "b7f50b6ccf4c429496c0358f722016bf": {
      "model_module": "@jupyter-widgets/controls",
      "model_module_version": "1.5.0",
      "model_name": "HTMLModel",
      "state": {
       "layout": "IPY_MODEL_328e8bcbebde41189bd26448a1b43f70",
       "style": "IPY_MODEL_214618c19f1d47fa99b1d9075a6f16db",
       "value": "<p>label</p>"
      }
     },
     "b97238a504fc490aa3a1f2a9ff253431": {
      "model_module": "@jupyter-widgets/controls",
      "model_module_version": "1.5.0",
      "model_name": "ToggleButtonModel",
      "state": {
       "icon": "arrow-down",
       "layout": "IPY_MODEL_ce9f3e3be1bf44458ee97cd40e2ef9f9",
       "style": "IPY_MODEL_211c28280303469e9cf164549aa32088"
      }
     },
     "ba35f1d2e2da424793447b719c16fc62": {
      "model_module": "@jupyter-widgets/output",
      "model_module_version": "1.0.0",
      "model_name": "OutputModel",
      "state": {
       "layout": "IPY_MODEL_cb95825b22414832b9b85afcad57b2c5"
      }
     },
     "ba5fb7f28ce94658b715673e5aeb7cbb": {
      "model_module": "@jupyter-widgets/controls",
      "model_module_version": "1.5.0",
      "model_name": "ButtonModel",
      "state": {
       "button_style": "info",
       "description": "preview outputs",
       "layout": "IPY_MODEL_56d743acabae4edba3b0b6392f54e9bc",
       "style": "IPY_MODEL_ff18a21c8ed7422c8507a9ffbc34b04b",
       "tooltip": "show a preview of the output files generated when the script runs"
      }
     },
     "ba896a60553d49c3b36da8ec7be2ed62": {
      "model_module": "@jupyter-widgets/controls",
      "model_module_version": "1.5.0",
      "model_name": "HBoxModel",
      "state": {
       "children": [
        "IPY_MODEL_534a2b947c89492b853f74dc41dbb80a",
        "IPY_MODEL_6d4aac9fd6f74e35ae729b1d27b640d3"
       ],
       "layout": "IPY_MODEL_20365782b55c4e6893f9513c816773a6"
      }
     },
     "bb5dfaa8c03e446c9680959d3fef15d9": {
      "model_module": "@jupyter-widgets/base",
      "model_module_version": "1.2.0",
      "model_name": "LayoutModel",
      "state": {}
     },
     "bb76943df81e43f9b8cfafd9229d3d68": {
      "model_module": "@jupyter-widgets/base",
      "model_module_version": "1.2.0",
      "model_name": "LayoutModel",
      "state": {
       "align_items": "stretch",
       "display": "flex",
       "flex_flow": "row",
       "grid_auto_columns": "True",
       "justify_content": "flex-end",
       "width": "90%"
      }
     },
     "bc423416bb104fef8efc6537dc39b113": {
      "model_module": "@jupyter-widgets/base",
      "model_module_version": "1.2.0",
      "model_name": "LayoutModel",
      "state": {}
     },
     "bc84a6486b6d4e20a1c9cecc4529c35d": {
      "model_module": "@jupyter-widgets/base",
      "model_module_version": "1.2.0",
      "model_name": "LayoutModel",
      "state": {}
     },
     "bcbf0ec408ca41ac8d1e6ca855e8541b": {
      "model_module": "@jupyter-widgets/controls",
      "model_module_version": "1.5.0",
      "model_name": "HTMLModel",
      "state": {
       "layout": "IPY_MODEL_e3cbc36aafeb4874a1845c2b6da9430c",
       "style": "IPY_MODEL_6935590c3fc1450daf86ce3b0bd7f0c0",
       "value": "<p>its a foo cake</p>"
      }
     },
     "bce1da068ce04a0fb17c8e45620ac005": {
      "model_module": "@jupyter-widgets/controls",
      "model_module_version": "1.5.0",
      "model_name": "HBoxModel",
      "state": {
       "children": [
        "IPY_MODEL_33837e06d3e64fcabee10732c934480a"
       ],
       "layout": "IPY_MODEL_5fdf3e2223db4a998e929924c0e3cbce"
      }
     },
     "bd2a280b10c2425c9bc407667a16f645": {
      "model_module": "@jupyter-widgets/output",
      "model_module_version": "1.0.0",
      "model_name": "OutputModel",
      "state": {
       "layout": "IPY_MODEL_076f4b88ef004da2afbe12bb34662637"
      }
     },
     "bd551fa9877442e49b235b2293058a10": {
      "model_module": "@jupyter-widgets/controls",
      "model_module_version": "1.5.0",
      "model_name": "SliderStyleModel",
      "state": {
       "description_width": ""
      }
     },
     "bd60df4c6a7a45c8a9c87e133b8d7754": {
      "model_module": "@jupyter-widgets/controls",
      "model_module_version": "1.5.0",
      "model_name": "HBoxModel",
      "state": {
       "children": [
        "IPY_MODEL_ebbaeeed26c84dd0aa22d35ec7e2e589"
       ],
       "layout": "IPY_MODEL_2824524b0b4d4984b4ea1ee4a990b8d3"
      }
     },
     "bd6ec798279947fc82d5e9027fcac7cd": {
      "model_module": "@jupyter-widgets/base",
      "model_module_version": "1.2.0",
      "model_name": "LayoutModel",
      "state": {
       "height": "30px",
       "max_width": "30px",
       "padding": "3px"
      }
     },
     "be18f4413e73404f8e5958e32f7da859": {
      "model_module": "@jupyter-widgets/base",
      "model_module_version": "1.2.0",
      "model_name": "LayoutModel",
      "state": {
       "align_items": "stretch",
       "border": "dashed 0.2px green",
       "display": "flex",
       "flex_flow": "row",
       "grid_auto_columns": "True",
       "justify_content": "flex-start",
       "width": "100%"
      }
     },
     "be61ad7263af42b39ba815e7416c90a2": {
      "model_module": "@jupyter-widgets/base",
      "model_module_version": "1.2.0",
      "model_name": "LayoutModel",
      "state": {}
     },
     "bef137767afb45798eb937d3fdce45c3": {
      "model_module": "@jupyter-widgets/base",
      "model_module_version": "1.2.0",
      "model_name": "LayoutModel",
      "state": {}
     },
     "bf62b40021d844d4b2e53eee90e2e653": {
      "model_module": "@jupyter-widgets/controls",
      "model_module_version": "1.5.0",
      "model_name": "DescriptionStyleModel",
      "state": {
       "description_width": ""
      }
     },
     "bf946e81a72f496e815ea0088d7cf25f": {
      "model_module": "@jupyter-widgets/base",
      "model_module_version": "1.2.0",
      "model_name": "LayoutModel",
      "state": {}
     },
     "bff065adc8fe41049b322fb38c926d3c": {
      "model_module": "@jupyter-widgets/base",
      "model_module_version": "1.2.0",
      "model_name": "LayoutModel",
      "state": {
       "align_items": "stretch",
       "display": "flex",
       "flex_flow": "row",
       "grid_auto_columns": "True",
       "justify_content": "flex-start",
       "width": "80%"
      }
     },
     "bff6efc88a1a48eb92ba80048f2a1370": {
      "model_module": "@jupyter-widgets/base",
      "model_module_version": "1.2.0",
      "model_name": "LayoutModel",
      "state": {
       "align_items": "stretch",
       "display": "flex",
       "flex_flow": "row",
       "grid_auto_columns": "True",
       "justify_content": "flex-end",
       "width": "90%"
      }
     },
     "c083c5361cf24c528ab2555e687f2c42": {
      "model_module": "@jupyter-widgets/controls",
      "model_module_version": "1.5.0",
      "model_name": "DescriptionStyleModel",
      "state": {
       "description_width": ""
      }
     },
     "c10d8e072a854e418103458c2db0c392": {
      "model_module": "@jupyter-widgets/base",
      "model_module_version": "1.2.0",
      "model_name": "LayoutModel",
      "state": {}
     },
     "c16fe2f4f4c3489298c0ec5a507ec159": {
      "model_module": "@jupyter-widgets/controls",
      "model_module_version": "1.5.0",
      "model_name": "DescriptionStyleModel",
      "state": {
       "description_width": ""
      }
     },
     "c27279512cb6431ba53a101570cc6e8b": {
      "model_module": "@jupyter-widgets/output",
      "model_module_version": "1.0.0",
      "model_name": "OutputModel",
      "state": {
       "layout": "IPY_MODEL_bef137767afb45798eb937d3fdce45c3"
      }
     },
     "c279a04e292f4c00afce06c628675f00": {
      "model_module": "@jupyter-widgets/output",
      "model_module_version": "1.0.0",
      "model_name": "OutputModel",
      "state": {
       "layout": "IPY_MODEL_4355b9c3662344fdb193af2041211614"
      }
     },
     "c28d34e1a66c439689c9366781ec94cf": {
      "model_module": "@jupyter-widgets/controls",
      "model_module_version": "1.5.0",
      "model_name": "HTMLModel",
      "state": {
       "layout": "IPY_MODEL_50db352856aa448bb6abaa9d27b64a36",
       "style": "IPY_MODEL_0ba0c52da4dd4ee29e136b84ba7d29a7",
       "value": "<p>its a foo cake</p>"
      }
     },
     "c2cf27aff96c46cc811af343b8218ef6": {
      "model_module": "@jupyter-widgets/controls",
      "model_module_version": "1.5.0",
      "model_name": "ButtonModel",
      "state": {
       "description": "save",
       "layout": "IPY_MODEL_236b7fb3d5d84b00ac8100161303154e",
       "style": "IPY_MODEL_7fd16c10a0274aeca8291475d2718e83"
      }
     },
     "c4576bbd26c94bb69f8fdea44ef09648": {
      "model_module": "@jupyter-widgets/controls",
      "model_module_version": "1.5.0",
      "model_name": "DescriptionStyleModel",
      "state": {
       "description_width": ""
      }
     },
     "c505041374814af8b85a6c47ca2badee": {
      "model_module": "@jupyter-widgets/controls",
      "model_module_version": "1.5.0",
      "model_name": "DescriptionStyleModel",
      "state": {
       "description_width": ""
      }
     },
     "c5f84e57295b49a09c3cad8938907aa6": {
      "model_module": "@jupyter-widgets/controls",
      "model_module_version": "1.5.0",
      "model_name": "ButtonModel",
      "state": {
       "icon": "eye-slash",
       "layout": "IPY_MODEL_24dafe094810408d9bb02ea774b93554",
       "style": "IPY_MODEL_002951d9b642423eabebed2ec3701f91",
       "tooltip": "removes temporary output view"
      }
     },
     "c615880fa98f41e2a8a973a370a8dda1": {
      "model_module": "@jupyter-widgets/base",
      "model_module_version": "1.2.0",
      "model_name": "LayoutModel",
      "state": {}
     },
     "c656131ff6f84061bb740c8b40dc556c": {
      "model_module": "@jupyter-widgets/controls",
      "model_module_version": "1.5.0",
      "model_name": "HTMLModel",
      "state": {
       "layout": "IPY_MODEL_4b16415e6c4c41f28467d0ea85532196",
       "style": "IPY_MODEL_ca391e2ecbcc4c80b089ca849759f0af",
       "value": "<p>spc_name_index</p>"
      }
     },
     "c6619e78b78747e2949da6b1ecb2ca50": {
      "model_module": "@jupyter-widgets/output",
      "model_module_version": "1.0.0",
      "model_name": "OutputModel",
      "state": {
       "layout": "IPY_MODEL_7db2c0f7fb2a45daaea3f80196aef2ff"
      }
     },
     "c8e12397322f4870a2484743d938e658": {
      "model_module": "@jupyter-widgets/controls",
      "model_module_version": "1.5.0",
      "model_name": "DescriptionStyleModel",
      "state": {
       "description_width": ""
      }
     },
     "c9960f1204e94ea2b3bec22c0dfc9a72": {
      "model_module": "@jupyter-widgets/controls",
      "model_module_version": "1.5.0",
      "model_name": "CheckboxModel",
      "state": {
       "disabled": false,
       "layout": "IPY_MODEL_b67c0beb190c48de8df05294e9d2c4a6",
       "style": "IPY_MODEL_cea6823e8bd840dd9871e5f344bbf1b8",
       "value": false
      }
     },
     "c9ce2cf1c27f42ecac1286a5bf004848": {
      "model_module": "@jupyter-widgets/output",
      "model_module_version": "1.0.0",
      "model_name": "OutputModel",
      "state": {
       "layout": "IPY_MODEL_da4dfc0f744643caba9fbe2776155e78"
      }
     },
     "ca0bb79101df486089845471c90e74b0": {
      "model_module": "@jupyter-widgets/base",
      "model_module_version": "1.2.0",
      "model_name": "LayoutModel",
      "state": {
       "align_items": "stretch",
       "border": "dashed 0.2px green",
       "display": "flex",
       "flex_flow": "row",
       "grid_auto_columns": "True",
       "justify_content": "flex-start",
       "width": "100%"
      }
     },
     "ca1cdaa2ba484695a83e58538d2b8fc1": {
      "model_module": "@jupyter-widgets/base",
      "model_module_version": "1.2.0",
      "model_name": "LayoutModel",
      "state": {
       "align_items": "stretch",
       "border": "dashed 0.2px green",
       "display": "flex",
       "flex_flow": "row",
       "grid_auto_columns": "True",
       "justify_content": "flex-start",
       "width": "100%"
      }
     },
     "ca391e2ecbcc4c80b089ca849759f0af": {
      "model_module": "@jupyter-widgets/controls",
      "model_module_version": "1.5.0",
      "model_name": "DescriptionStyleModel",
      "state": {
       "description_width": ""
      }
     },
     "caf07f95418741e2af660ef53f9b671b": {
      "model_module": "@jupyter-widgets/base",
      "model_module_version": "1.2.0",
      "model_name": "LayoutModel",
      "state": {
       "align_items": "stretch",
       "border": "dashed 0.2px green",
       "display": "flex",
       "flex_flow": "row",
       "grid_auto_columns": "True",
       "justify_content": "flex-start",
       "width": "100%"
      }
     },
     "cafd6fcd8a8845ec8b9c3f3b640f146f": {
      "model_module": "@jupyter-widgets/controls",
      "model_module_version": "1.5.0",
      "model_name": "ButtonStyleModel",
      "state": {
       "font_weight": "bold"
      }
     },
     "cb035f40a6cd47838081e79a81c1f004": {
      "model_module": "@jupyter-widgets/controls",
      "model_module_version": "1.5.0",
      "model_name": "ButtonModel",
      "state": {
       "button_style": "info",
       "description": "show source code",
       "layout": "IPY_MODEL_92febc8dc4484c71a68edc2de7249cf0",
       "style": "IPY_MODEL_12e12bfef99e40bd9a2a5c407d39688d",
       "tooltip": "shows the raw python code in the preview window below"
      }
     },
     "cb39e218d99d49f9b74c074d16c1584c": {
      "model_module": "@jupyter-widgets/base",
      "model_module_version": "1.2.0",
      "model_name": "LayoutModel",
      "state": {
       "align_items": "stretch",
       "border": "dashed 0.2px green",
       "display": "flex",
       "flex_flow": "row",
       "grid_auto_columns": "True",
       "justify_content": "flex-start",
       "width": "100%"
      }
     },
     "cb67fb3862ad43e485ebc09a65348a64": {
      "model_module": "@jupyter-widgets/base",
      "model_module_version": "1.2.0",
      "model_name": "LayoutModel",
      "state": {}
     },
     "cb6d8ead6b5d499589fa22a2ee605325": {
      "model_module": "@jupyter-widgets/controls",
      "model_module_version": "1.5.0",
      "model_name": "VBoxModel",
      "state": {
       "children": [
        "IPY_MODEL_ae93cc3aa4c445bc91aaaa47dbf88720",
        "IPY_MODEL_7e66f00a8c064b01b455b9ad629f34f8"
       ],
       "layout": "IPY_MODEL_69487635a7074ea7b124530c7c851544"
      }
     },
     "cb95825b22414832b9b85afcad57b2c5": {
      "model_module": "@jupyter-widgets/base",
      "model_module_version": "1.2.0",
      "model_name": "LayoutModel",
      "state": {}
     },
     "cdbbe5442d164c16915fe0e3db113db9": {
      "model_module": "@jupyter-widgets/controls",
      "model_module_version": "1.5.0",
      "model_name": "ButtonModel",
      "state": {
       "button_style": "info",
       "description": "show log",
       "layout": "IPY_MODEL_521933aebc2f4757885c8908dc06cfd4",
       "style": "IPY_MODEL_094378cf142f4d5a9aa5867a654eb1ec",
       "tooltip": "show a log of when the script was executed to generate the outputs, and by who"
      }
     },
     "cdbca47eabb1492c83c10381e67f59d6": {
      "model_module": "@jupyter-widgets/controls",
      "model_module_version": "1.5.0",
      "model_name": "DescriptionStyleModel",
      "state": {
       "description_width": ""
      }
     },
     "cdfba97324194cc2966faa35290581eb": {
      "model_module": "@jupyter-widgets/base",
      "model_module_version": "1.2.0",
      "model_name": "LayoutModel",
      "state": {}
     },
     "ce9f3e3be1bf44458ee97cd40e2ef9f9": {
      "model_module": "@jupyter-widgets/base",
      "model_module_version": "1.2.0",
      "model_name": "LayoutModel",
      "state": {}
     },
     "cea6823e8bd840dd9871e5f344bbf1b8": {
      "model_module": "@jupyter-widgets/controls",
      "model_module_version": "1.5.0",
      "model_name": "DescriptionStyleModel",
      "state": {
       "description_width": ""
      }
     },
     "cfbc3224e9624c9eb6919cb83fbc8b9c": {
      "model_module": "@jupyter-widgets/base",
      "model_module_version": "1.2.0",
      "model_name": "LayoutModel",
      "state": {
       "align_items": "stretch",
       "display": "flex",
       "flex_flow": "row",
       "grid_auto_columns": "True",
       "justify_content": "flex-end",
       "width": "90%"
      }
     },
     "d011a0f05bfc463ca32fd1cfcbb3fbf8": {
      "model_module": "@jupyter-widgets/controls",
      "model_module_version": "1.5.0",
      "model_name": "ButtonModel",
      "state": {
       "description": "load",
       "icon": "upload",
       "layout": "IPY_MODEL_584dbf236da34e0f98d465cc24a317f4",
       "style": "IPY_MODEL_3d65d2108ab1430db09a0dbf032bdef8"
      }
     },
     "d0ee025c1479444d9faf6d7b12e38499": {
      "model_module": "@jupyter-widgets/base",
      "model_module_version": "1.2.0",
      "model_name": "LayoutModel",
      "state": {}
     },
     "d0eeee6b04c64a3f955fdfd6cde2e40a": {
      "model_module": "@jupyter-widgets/controls",
      "model_module_version": "1.5.0",
      "model_name": "VBoxModel",
      "state": {
       "children": [
        "IPY_MODEL_4c30de1ce9f248cd8e7508be9c6eff51",
        "IPY_MODEL_ea6ca82620e8477a9368cb2c9a86cc80",
        "IPY_MODEL_a2e993a3db644e5c907a675d90b6ed9e"
       ],
       "layout": "IPY_MODEL_0e55dcbf9e3d4e5e8137665281bac664"
      }
     },
     "d10ec4b223a14dd2b514f9c182fe41ab": {
      "model_module": "@jupyter-widgets/controls",
      "model_module_version": "1.5.0",
      "model_name": "HBoxModel",
      "state": {
       "children": [
        "IPY_MODEL_f7a51b39dc1e4e42bb233dd974ae7d73"
       ],
       "layout": "IPY_MODEL_53e48bc9b3be4e3bb4e5f77bffb4972a"
      }
     },
     "d1cfa92e8eac4665badd5bf11a82dcfe": {
      "model_module": "@jupyter-widgets/controls",
      "model_module_version": "1.5.0",
      "model_name": "DescriptionStyleModel",
      "state": {
       "description_width": ""
      }
     },
     "d2536570eefe4fa7acfb85e036d05e34": {
      "model_module": "@jupyter-widgets/controls",
      "model_module_version": "1.5.0",
      "model_name": "TextModel",
      "state": {
       "description": "script",
       "disabled": true,
       "layout": "IPY_MODEL_ec333cbbdb844aa9ba46aa279e67f094",
       "style": "IPY_MODEL_52a52aceee464459a0072fbcc6e7ad8b",
       "value": "C:\\engDev\\git_mf\\MF_Toolbox\\dev\\mf_scripts\\gbxml.py"
      }
     },
     "d2ac8014a54848c3b371655d712ed1e1": {
      "model_module": "@jupyter-widgets/controls",
      "model_module_version": "1.5.0",
      "model_name": "ButtonStyleModel",
      "state": {
       "font_weight": "bold"
      }
     },
     "d31e6e95b5cd49e9bed632d23c280977": {
      "model_module": "@jupyter-widgets/controls",
      "model_module_version": "1.5.0",
      "model_name": "DescriptionStyleModel",
      "state": {
       "description_width": ""
      }
     },
     "d3a701a41bdf472a839b85d7a2617ab3": {
      "model_module": "@jupyter-widgets/controls",
      "model_module_version": "1.5.0",
      "model_name": "DescriptionStyleModel",
      "state": {
       "description_width": ""
      }
     },
     "d3e07787454c43b39c7beb0fde5c5fb2": {
      "model_module": "@jupyter-widgets/base",
      "model_module_version": "1.2.0",
      "model_name": "LayoutModel",
      "state": {}
     },
     "d42af25e8e6b49daa9447f08d3c07e64": {
      "model_module": "@jupyter-widgets/controls",
      "model_module_version": "1.5.0",
      "model_name": "HTMLModel",
      "state": {
       "layout": "IPY_MODEL_a3f4692706fc4222a21d0a9d90fdd0d3",
       "style": "IPY_MODEL_c4576bbd26c94bb69f8fdea44ef09648",
       "value": "<p>fus foo ous o</p>"
      }
     },
     "d4614cb654f94815bf38551d4cc49edf": {
      "model_module": "@jupyter-widgets/controls",
      "model_module_version": "1.5.0",
      "model_name": "HBoxModel",
      "state": {
       "children": [
        "IPY_MODEL_e162f7ed8e37444aa8a59548ca037949",
        "IPY_MODEL_8b77b3a2e0ba443cb2ae356b4f603462"
       ],
       "layout": "IPY_MODEL_7b8b9a56e5784f1ab9eafd286bc22df9"
      }
     },
     "d481c6b5252d4d6eb3e3ca2990baef77": {
      "model_module": "@jupyter-widgets/base",
      "model_module_version": "1.2.0",
      "model_name": "LayoutModel",
      "state": {}
     },
     "d57ca6cf359f4ebd969770c87ce5d1aa": {
      "model_module": "@jupyter-widgets/controls",
      "model_module_version": "1.5.0",
      "model_name": "DescriptionStyleModel",
      "state": {
       "description_width": ""
      }
     },
     "d58e680a465d46d0aaaa33f11cbc2263": {
      "model_module": "@jupyter-widgets/controls",
      "model_module_version": "1.5.0",
      "model_name": "SelectMultipleModel",
      "state": {
       "_options_labels": [
        "asfd",
        "10",
        "asdf"
       ],
       "index": [
        1
       ],
       "layout": "IPY_MODEL_e49fd0505cc34b3fb445c40e8d285f06",
       "rows": 5,
       "style": "IPY_MODEL_38c05c999f88487e8355a54c0e8e31d8"
      }
     },
     "d6150569dd904805828125f14d1d1c50": {
      "model_module": "@jupyter-widgets/controls",
      "model_module_version": "1.5.0",
      "model_name": "VBoxModel",
      "state": {
       "children": [
        "IPY_MODEL_71e27b4602724afdb0c7ee8acc47fd13"
       ],
       "layout": "IPY_MODEL_0e46355a495144518d33fea95acf9859"
      }
     },
     "d67bcdce7bb84752812dcea8e2d7fa53": {
      "model_module": "@jupyter-widgets/base",
      "model_module_version": "1.2.0",
      "model_name": "LayoutModel",
      "state": {
       "align_items": "stretch",
       "border": "dashed 0.2px green",
       "display": "flex",
       "flex_flow": "row",
       "grid_auto_columns": "True",
       "justify_content": "flex-start",
       "width": "100%"
      }
     },
     "d86101c312724b34bbfd302a10e0cd2a": {
      "model_module": "@jupyter-widgets/controls",
      "model_module_version": "1.5.0",
      "model_name": "HBoxModel",
      "state": {
       "children": [
        "IPY_MODEL_c5f84e57295b49a09c3cad8938907aa6",
        "IPY_MODEL_9410585324c548a5ac5842e781967867",
        "IPY_MODEL_05e744428d9444afb8b00f84a98b5a2c",
        "IPY_MODEL_4a964159b21a4934b8d81300a9921a77",
        "IPY_MODEL_a1896ca74d434fa8bdadeabd4320f4c5",
        "IPY_MODEL_ba5fb7f28ce94658b715673e5aeb7cbb",
        "IPY_MODEL_cdbbe5442d164c16915fe0e3db113db9"
       ],
       "layout": "IPY_MODEL_031e24fa99da44f19118f127d5030efd"
      }
     },
     "d8af19f545554896b0637368da5a96ee": {
      "model_module": "@jupyter-widgets/output",
      "model_module_version": "1.0.0",
      "model_name": "OutputModel",
      "state": {
       "layout": "IPY_MODEL_8cb51a2a79774f2f854212af59c4cfa2"
      }
     },
     "d8d7883bb8354445a3a210f227fbf290": {
      "model_module": "@jupyter-widgets/controls",
      "model_module_version": "1.5.0",
      "model_name": "DescriptionStyleModel",
      "state": {
       "description_width": ""
      }
     },
     "d9051253f26648cab6e0b5387924ed78": {
      "model_module": "@jupyter-widgets/base",
      "model_module_version": "1.2.0",
      "model_name": "LayoutModel",
      "state": {}
     },
     "d9690626a96a4f1284fce4acaff78a7e": {
      "model_module": "@jupyter-widgets/output",
      "model_module_version": "1.0.0",
      "model_name": "OutputModel",
      "state": {
       "layout": "IPY_MODEL_3b3d7805eb454dba891404270f47e0a0"
      }
     },
     "d9bc20eaa64f420a9ea154ed781fac42": {
      "model_module": "@jupyter-widgets/controls",
      "model_module_version": "1.5.0",
      "model_name": "ButtonStyleModel",
      "state": {
       "font_weight": "bold"
      }
     },
     "d9f1b48643c64bc2a4593a91901453ed": {
      "model_module": "@jupyter-widgets/base",
      "model_module_version": "1.2.0",
      "model_name": "LayoutModel",
      "state": {
       "align_items": "stretch",
       "display": "flex",
       "flex_flow": "row",
       "grid_auto_columns": "True",
       "justify_content": "flex-start",
       "width": "80%"
      }
     },
     "da4c60ae9cc34d5cab575df90cf0c3c2": {
      "model_module": "@jupyter-widgets/controls",
      "model_module_version": "1.5.0",
      "model_name": "HBoxModel",
      "state": {
       "children": [
        "IPY_MODEL_66862265ed3b46c79cf5c328e877cd02",
        "IPY_MODEL_f0717e38daf34897848545f8cd288d83"
       ],
       "layout": "IPY_MODEL_bff6efc88a1a48eb92ba80048f2a1370"
      }
     },
     "da4dfc0f744643caba9fbe2776155e78": {
      "model_module": "@jupyter-widgets/base",
      "model_module_version": "1.2.0",
      "model_name": "LayoutModel",
      "state": {}
     },
     "dabfdd7a8ffd4dc6a15f69c5763c0499": {
      "model_module": "@jupyter-widgets/base",
      "model_module_version": "1.2.0",
      "model_name": "LayoutModel",
      "state": {
       "align_items": "stretch",
       "display": "flex",
       "flex_flow": "row",
       "grid_auto_columns": "True",
       "justify_content": "flex-end",
       "width": "90%"
      }
     },
     "dbaeba7dd7154fc7b7d9cccf595191de": {
      "model_module": "@jupyter-widgets/controls",
      "model_module_version": "1.5.0",
      "model_name": "DescriptionStyleModel",
      "state": {
       "description_width": ""
      }
     },
     "dbfb5badcfb74a0b8d351d9a73c89a0a": {
      "model_module": "@jupyter-widgets/base",
      "model_module_version": "1.2.0",
      "model_name": "LayoutModel",
      "state": {}
     },
     "dd059ae665d24fe2b332dfe8c99e7ac8": {
      "model_module": "@jupyter-widgets/base",
      "model_module_version": "1.2.0",
      "model_name": "LayoutModel",
      "state": {}
     },
     "debab8e5146846178a6ec316f5298da6": {
      "model_module": "@jupyter-widgets/base",
      "model_module_version": "1.2.0",
      "model_name": "LayoutModel",
      "state": {
       "align_items": "stretch",
       "display": "flex",
       "flex_flow": "row",
       "grid_auto_columns": "True",
       "justify_content": "flex-start",
       "width": "80%"
      }
     },
     "df020f8d36cb4dd39d7f7ffa8ebd9ff1": {
      "model_module": "@jupyter-widgets/controls",
      "model_module_version": "1.5.0",
      "model_name": "HBoxModel",
      "state": {
       "children": [
        "IPY_MODEL_30db2650071148338ee689afbfa2a5ef"
       ],
       "layout": "IPY_MODEL_7f04b44d269e483a84f2520d6ca32c6d"
      }
     },
     "df0de51951d947af8b66a5c484dc986e": {
      "model_module": "@jupyter-widgets/controls",
      "model_module_version": "1.5.0",
      "model_name": "HBoxModel",
      "state": {
       "children": [
        "IPY_MODEL_a07b20665fb34a15a2b2694d89c2f664"
       ],
       "layout": "IPY_MODEL_fd30d8f862354ae5b8b350f587825073"
      }
     },
     "df6b2efda65f4a5d9a8e492626e89d38": {
      "model_module": "@jupyter-widgets/base",
      "model_module_version": "1.2.0",
      "model_name": "LayoutModel",
      "state": {}
     },
     "e0949326cf8c4352a223f53ad5c0a2f8": {
      "model_module": "@jupyter-widgets/controls",
      "model_module_version": "1.5.0",
      "model_name": "HTMLModel",
      "state": {
       "layout": "IPY_MODEL_615754b95bf94647849c50ea1ebb9227",
       "style": "IPY_MODEL_55d36ccb635a4a849a867a99d1719838",
       "value": "<p>name</p>"
      }
     },
     "e162f7ed8e37444aa8a59548ca037949": {
      "model_module": "@jupyter-widgets/controls",
      "model_module_version": "1.5.0",
      "model_name": "HTMLModel",
      "state": {
       "layout": "IPY_MODEL_621c156cb2b344589903336cae46bba6",
       "style": "IPY_MODEL_48880e7b67da48b18422e57bfbf7b8aa",
       "value": "<p>foo</p>"
      }
     },
     "e1b7874efa72438e8c688a0b33cccaab": {
      "model_module": "@jupyter-widgets/controls",
      "model_module_version": "1.5.0",
      "model_name": "DescriptionStyleModel",
      "state": {
       "description_width": ""
      }
     },
     "e2c51f510ead44d1bea741523a56f2e1": {
      "model_module": "@jupyter-widgets/base",
      "model_module_version": "1.2.0",
      "model_name": "LayoutModel",
      "state": {}
     },
     "e2fa6a1f42f749f78e9ed65400b0e46e": {
      "model_module": "@jupyter-widgets/controls",
      "model_module_version": "1.5.0",
      "model_name": "DescriptionStyleModel",
      "state": {
       "description_width": ""
      }
     },
     "e3509823d61b4afc9d6ab7d708d54426": {
      "model_module": "@jupyter-widgets/controls",
      "model_module_version": "1.5.0",
      "model_name": "ToggleButtonModel",
      "state": {
       "icon": "arrow-down",
       "layout": "IPY_MODEL_bc84a6486b6d4e20a1c9cecc4529c35d",
       "style": "IPY_MODEL_c083c5361cf24c528ab2555e687f2c42"
      }
     },
     "e3cbc36aafeb4874a1845c2b6da9430c": {
      "model_module": "@jupyter-widgets/base",
      "model_module_version": "1.2.0",
      "model_name": "LayoutModel",
      "state": {}
     },
     "e3cf4ab66f8f4975babb6a5575a999dc": {
      "model_module": "@jupyter-widgets/base",
      "model_module_version": "1.2.0",
      "model_name": "LayoutModel",
      "state": {
       "align_items": "stretch",
       "display": "flex",
       "flex_flow": "row",
       "grid_auto_columns": "True",
       "justify_content": "flex-end",
       "width": "90%"
      }
     },
     "e3ea9e9941954da6843f8111e0e51d0a": {
      "model_module": "@jupyter-widgets/controls",
      "model_module_version": "1.5.0",
      "model_name": "HTMLModel",
      "state": {
       "layout": "IPY_MODEL_63379daae14d4edf96202ab70bb5756b",
       "style": "IPY_MODEL_a32132707da14491b695b04aa5e5f72c",
       "value": "<p>its a delicious foo cake</p>"
      }
     },
     "e49fd0505cc34b3fb445c40e8d285f06": {
      "model_module": "@jupyter-widgets/base",
      "model_module_version": "1.2.0",
      "model_name": "LayoutModel",
      "state": {}
     },
     "e5686dedf9b64f81bf616ac76a62f0bf": {
      "model_module": "@jupyter-widgets/controls",
      "model_module_version": "1.5.0",
      "model_name": "DescriptionStyleModel",
      "state": {
       "description_width": ""
      }
     },
     "e6e14cf713094adcb7c289da52512cda": {
      "model_module": "@jupyter-widgets/controls",
      "model_module_version": "1.5.0",
      "model_name": "DescriptionStyleModel",
      "state": {
       "description_width": ""
      }
     },
     "e8a7775faad44b38a63846f22a015eed": {
      "model_module": "@jupyter-widgets/controls",
      "model_module_version": "1.5.0",
      "model_name": "HBoxModel",
      "state": {
       "children": [
        "IPY_MODEL_9b16428ce3bb417caf5819c900df999d",
        "IPY_MODEL_9a14157db29f45999cf687f9f2bc7a78"
       ],
       "layout": "IPY_MODEL_f58aa6632612491a925cfa4cec87be42"
      }
     },
     "e8ae3d0281db4c9980f4988222118572": {
      "model_module": "@jupyter-widgets/base",
      "model_module_version": "1.2.0",
      "model_name": "LayoutModel",
      "state": {}
     },
     "e8fcaba790884e0192c00a22e8aa6d0d": {
      "model_module": "@jupyter-widgets/base",
      "model_module_version": "1.2.0",
      "model_name": "LayoutModel",
      "state": {}
     },
     "e92a9c3b72de4af7a52fb2e60da7fe76": {
      "model_module": "@jupyter-widgets/controls",
      "model_module_version": "1.5.0",
      "model_name": "HTMLModel",
      "state": {
       "layout": "IPY_MODEL_46b216ff1e5f4556a979d407dd784f39",
       "style": "IPY_MODEL_ae61173b90f04afdb4adc9ddc30aa120",
       "value": "<p>fpth_in</p>"
      }
     },
     "e9d6d8936e124eb2ae7d7de03e228952": {
      "model_module": "@jupyter-widgets/controls",
      "model_module_version": "1.5.0",
      "model_name": "DescriptionStyleModel",
      "state": {
       "description_width": ""
      }
     },
     "ea0572eb08734c9a8f7a8545496e29db": {
      "model_module": "@jupyter-widgets/base",
      "model_module_version": "1.2.0",
      "model_name": "LayoutModel",
      "state": {
       "display": "flex",
       "flex_flow": "row",
       "grid_auto_columns": "False",
       "justify_content": "flex-start",
       "width": "100%"
      }
     },
     "ea608093dd424f73af9563edd5fd5d3f": {
      "model_module": "@jupyter-widgets/controls",
      "model_module_version": "1.5.0",
      "model_name": "DescriptionStyleModel",
      "state": {
       "description_width": ""
      }
     },
     "ea660e7229464630ae5762406576cd8e": {
      "model_module": "@jupyter-widgets/base",
      "model_module_version": "1.2.0",
      "model_name": "LayoutModel",
      "state": {}
     },
     "ea6ca82620e8477a9368cb2c9a86cc80": {
      "model_module": "@jupyter-widgets/controls",
      "model_module_version": "1.5.0",
      "model_name": "HTMLModel",
      "state": {
       "layout": "IPY_MODEL_255a47e446a44e01924d18bf577b2745",
       "style": "IPY_MODEL_4fc346eb077e45c3b1ec20277d2b4f50",
       "value": "<p>edit user input form below</p>"
      }
     },
     "ea8a7545a7c64237b04cc5337e6c23fa": {
      "model_module": "@jupyter-widgets/controls",
      "model_module_version": "1.5.0",
      "model_name": "HBoxModel",
      "state": {
       "children": [
        "IPY_MODEL_7dd100c5bec4421b88465459223e2fdb",
        "IPY_MODEL_b0afcf9267c84f2db9a0de03894dff73"
       ],
       "layout": "IPY_MODEL_cfbc3224e9624c9eb6919cb83fbc8b9c"
      }
     },
     "eb0d8b949fff40d2b4f2a3a0e7c66db9": {
      "model_module": "@jupyter-widgets/controls",
      "model_module_version": "1.5.0",
      "model_name": "DescriptionStyleModel",
      "state": {
       "description_width": ""
      }
     },
     "eb5e37c475124e7fa2bdf968ff2dfdaa": {
      "model_module": "@jupyter-widgets/base",
      "model_module_version": "1.2.0",
      "model_name": "LayoutModel",
      "state": {}
     },
     "ebbaeeed26c84dd0aa22d35ec7e2e589": {
      "model_module": "@jupyter-widgets/controls",
      "model_module_version": "1.5.0",
      "model_name": "HBoxModel",
      "state": {
       "children": [
        "IPY_MODEL_582a40f7a7c1466497335f766d3149f7",
        "IPY_MODEL_541d128c9e034f7897c87c7372047c2b"
       ],
       "layout": "IPY_MODEL_1c41bc753ed6423bae05a61c8c6e211d"
      }
     },
     "ec333cbbdb844aa9ba46aa279e67f094": {
      "model_module": "@jupyter-widgets/base",
      "model_module_version": "1.2.0",
      "model_name": "LayoutModel",
      "state": {
       "height": "30px",
       "width": "auto"
      }
     },
     "ec92070e0db74429a817b58fedb3485e": {
      "model_module": "@jupyter-widgets/controls",
      "model_module_version": "1.5.0",
      "model_name": "HBoxModel",
      "state": {
       "children": [
        "IPY_MODEL_72aa5ab2210746ecbfe3bb6a69484475",
        "IPY_MODEL_5dca82d58ab94effa2910f9e5f85f6b1"
       ],
       "layout": "IPY_MODEL_ab65bb322e044bd98fd896b6798a1bbd"
      }
     },
     "ed7cd4c176f949d3b8bb6b4ff24c71b9": {
      "model_module": "@jupyter-widgets/controls",
      "model_module_version": "1.5.0",
      "model_name": "ToggleButtonModel",
      "state": {
       "icon": "arrow-down",
       "layout": "IPY_MODEL_d9051253f26648cab6e0b5387924ed78",
       "style": "IPY_MODEL_96b0fbb7123646cea7045dfa0497e948"
      }
     },
     "ee3821702f3c46dfa3b993c4635b0bc8": {
      "model_module": "@jupyter-widgets/controls",
      "model_module_version": "1.5.0",
      "model_name": "VBoxModel",
      "state": {
       "children": [
        "IPY_MODEL_7b0ceafd706a473392249e9ab7494d25",
        "IPY_MODEL_df0de51951d947af8b66a5c484dc986e",
        "IPY_MODEL_2810196117234ec1a984b1e7b064c9c8",
        "IPY_MODEL_3be210ac0cd74ddfab8d7018504a1e23",
        "IPY_MODEL_bd60df4c6a7a45c8a9c87e133b8d7754",
        "IPY_MODEL_8a44c287dc15446eb51ecd2e40ffdcbc",
        "IPY_MODEL_880cd05fbe9c424bbff158f9af5aa217",
        "IPY_MODEL_df020f8d36cb4dd39d7f7ffa8ebd9ff1"
       ],
       "layout": "IPY_MODEL_1954fba91f114c93944a3bdb2b76dd3a"
      }
     },
     "eef2a9b767f54aa38b13463d01742551": {
      "model_module": "@jupyter-widgets/controls",
      "model_module_version": "1.5.0",
      "model_name": "HBoxModel",
      "state": {
       "children": [
        "IPY_MODEL_7de121ff310e43f18adb643c938ddee6"
       ],
       "layout": "IPY_MODEL_caf07f95418741e2af660ef53f9b671b"
      }
     },
     "f0717e38daf34897848545f8cd288d83": {
      "model_module": "@jupyter-widgets/controls",
      "model_module_version": "1.5.0",
      "model_name": "HBoxModel",
      "state": {
       "children": [
        "IPY_MODEL_b97238a504fc490aa3a1f2a9ff253431",
        "IPY_MODEL_4d1c28dd43dd45ea82d51bd49b2e8c43"
       ],
       "layout": "IPY_MODEL_d9f1b48643c64bc2a4593a91901453ed"
      }
     },
     "f0d8b50136764a2da3ab0b69b385aa9e": {
      "model_module": "@jupyter-widgets/controls",
      "model_module_version": "1.5.0",
      "model_name": "HBoxModel",
      "state": {
       "children": [
        "IPY_MODEL_a371b00bcdd044e8958db5fe9725550f",
        "IPY_MODEL_1004ef7fecd24a4ba514d4fcff748e1a",
        "IPY_MODEL_769c118bbf9444db965c14aabccf9160"
       ],
       "layout": "IPY_MODEL_ea660e7229464630ae5762406576cd8e"
      }
     },
     "f130a12407d9473dba1dec1a9de9eb3d": {
      "model_module": "@jupyter-widgets/controls",
      "model_module_version": "1.5.0",
      "model_name": "DescriptionStyleModel",
      "state": {
       "description_width": ""
      }
     },
     "f1766e08a8b54cdf89715986b41fd3ef": {
      "model_module": "@jupyter-widgets/controls",
      "model_module_version": "1.5.0",
      "model_name": "HTMLModel",
      "state": {
       "layout": "IPY_MODEL_3eeb9b854d3b49afa2289e21fc07def7",
       "style": "IPY_MODEL_cdbca47eabb1492c83c10381e67f59d6",
       "value": "<p>defines the logic of the space naming. use default value where practical.</p>"
      }
     },
     "f2037349bd47497dade34ca0af3c99fe": {
      "model_module": "@jupyter-widgets/controls",
      "model_module_version": "1.5.0",
      "model_name": "ToggleButtonModel",
      "state": {
       "button_style": "info",
       "description": "inputs from file",
       "layout": "IPY_MODEL_bb5dfaa8c03e446c9680959d3fef15d9",
       "style": "IPY_MODEL_03439d393783407b8492780884c65fde"
      }
     },
     "f39ec27ba4774029a09d3f39625116c1": {
      "model_module": "@jupyter-widgets/controls",
      "model_module_version": "1.5.0",
      "model_name": "HTMLModel",
      "state": {
       "layout": "IPY_MODEL_3be5ce20dade4dbbbfd614486309c633",
       "style": "IPY_MODEL_c505041374814af8b85a6c47ca2badee",
       "value": "<p>its a foo cake</p>"
      }
     },
     "f47041a786d940db827e9e47fa370300": {
      "model_module": "@jupyter-widgets/controls",
      "model_module_version": "1.5.0",
      "model_name": "HTMLModel",
      "state": {
       "layout": "IPY_MODEL_05eca7a510e342659f658ac2319b2097",
       "style": "IPY_MODEL_e9d6d8936e124eb2ae7d7de03e228952",
       "value": "<p>its a foo cake</p>"
      }
     },
     "f58aa6632612491a925cfa4cec87be42": {
      "model_module": "@jupyter-widgets/base",
      "model_module_version": "1.2.0",
      "model_name": "LayoutModel",
      "state": {
       "align_items": "stretch",
       "display": "flex",
       "flex_flow": "row",
       "grid_auto_columns": "True",
       "justify_content": "flex-end",
       "width": "90%"
      }
     },
     "f7116ff7df3448f4bb6e2651e9a30d98": {
      "model_module": "@jupyter-widgets/controls",
      "model_module_version": "1.5.0",
      "model_name": "DescriptionStyleModel",
      "state": {
       "description_width": ""
      }
     },
     "f7a51b39dc1e4e42bb233dd974ae7d73": {
      "model_module": "@jupyter-widgets/controls",
      "model_module_version": "1.5.0",
      "model_name": "HBoxModel",
      "state": {
       "children": [
        "IPY_MODEL_c656131ff6f84061bb740c8b40dc556c",
        "IPY_MODEL_6a6530bc74944c9abfeb35e6b7d4d718"
       ],
       "layout": "IPY_MODEL_9043fae857b143858d2aba35a8bd3ce7"
      }
     },
     "f7d9dea9a7ad4a1793144cec5195fa91": {
      "model_module": "@jupyter-widgets/controls",
      "model_module_version": "1.5.0",
      "model_name": "ButtonModel",
      "state": {
       "button_style": "success",
       "description": "save",
       "layout": "IPY_MODEL_f7ee614da09f4940b71171b0ebcdff76",
       "style": "IPY_MODEL_300e84691fa943a1b858f795e0181d96"
      }
     },
     "f7ee614da09f4940b71171b0ebcdff76": {
      "model_module": "@jupyter-widgets/base",
      "model_module_version": "1.2.0",
      "model_name": "LayoutModel",
      "state": {}
     },
     "f8923930a29b4678be324998f4a4123e": {
      "model_module": "@jupyter-widgets/base",
      "model_module_version": "1.2.0",
      "model_name": "LayoutModel",
      "state": {}
     },
     "f9b85983177743639b58167887d06818": {
      "model_module": "@jupyter-widgets/base",
      "model_module_version": "1.2.0",
      "model_name": "LayoutModel",
      "state": {
       "align_items": "stretch",
       "display": "flex",
       "flex_flow": "row",
       "grid_auto_columns": "True",
       "justify_content": "flex-end",
       "width": "90%"
      }
     },
     "fa841fb7c0a04e7998e81fb0531e41cf": {
      "model_module": "@jupyter-widgets/controls",
      "model_module_version": "1.5.0",
      "model_name": "DescriptionStyleModel",
      "state": {
       "description_width": ""
      }
     },
     "fbb89b0850f043c9be19f14c7728e77f": {
      "model_module": "@jupyter-widgets/controls",
      "model_module_version": "1.5.0",
      "model_name": "ToggleButtonModel",
      "state": {
       "description": "help",
       "icon": "fa-question-circle",
       "layout": "IPY_MODEL_80044ebd10864931b1e8b9e5c69c8999",
       "style": "IPY_MODEL_dbaeba7dd7154fc7b7d9cccf595191de",
       "tooltip": "gives guidance"
      }
     },
     "fc17809a703f44ee8fe976c5614bf09a": {
      "model_module": "@jupyter-widgets/base",
      "model_module_version": "1.2.0",
      "model_name": "LayoutModel",
      "state": {}
     },
     "fd30d8f862354ae5b8b350f587825073": {
      "model_module": "@jupyter-widgets/base",
      "model_module_version": "1.2.0",
      "model_name": "LayoutModel",
      "state": {
       "align_items": "stretch",
       "border": "dashed 0.2px green",
       "display": "flex",
       "flex_flow": "row",
       "grid_auto_columns": "True",
       "justify_content": "flex-start",
       "width": "100%"
      }
     },
     "fd5fe455e198419180be40e4baa82ab8": {
      "model_module": "@jupyter-widgets/base",
      "model_module_version": "1.2.0",
      "model_name": "LayoutModel",
      "state": {}
     },
     "fea509fe4ee744c4b83ec6dd1b6e7957": {
      "model_module": "@jupyter-widgets/base",
      "model_module_version": "1.2.0",
      "model_name": "LayoutModel",
      "state": {}
     },
     "ff0c289f19fa43d9a87b023df93a20af": {
      "model_module": "@jupyter-widgets/controls",
      "model_module_version": "1.5.0",
      "model_name": "DescriptionStyleModel",
      "state": {
       "description_width": ""
      }
     },
     "ff18a21c8ed7422c8507a9ffbc34b04b": {
      "model_module": "@jupyter-widgets/controls",
      "model_module_version": "1.5.0",
      "model_name": "ButtonStyleModel",
      "state": {
       "font_weight": "bold"
      }
     },
     "ff6d761629e04d6a91cdd411a29e7d28": {
      "model_module": "@jupyter-widgets/controls",
      "model_module_version": "1.5.0",
      "model_name": "HTMLModel",
      "state": {
       "layout": "IPY_MODEL_52a387e7d3b24590821b324064cbf026",
       "style": "IPY_MODEL_d31e6e95b5cd49e9bed632d23c280977",
       "value": "<p>edit user input form below</p>"
      }
     },
     "ff74cdbada3541879d0cdfef1e621e71": {
      "model_module": "@jupyter-widgets/controls",
      "model_module_version": "1.5.0",
      "model_name": "ButtonModel",
      "state": {
       "button_style": "warning",
       "description": "revert to last save",
       "layout": "IPY_MODEL_08fac4e56c98456a963ad8f4cc88dc85",
       "style": "IPY_MODEL_0de67466eb894b0dac3decdd531a4197"
      }
     }
    },
    "version_major": 2,
    "version_minor": 0
   }
  }
 },
 "nbformat": 4,
 "nbformat_minor": 4
}
