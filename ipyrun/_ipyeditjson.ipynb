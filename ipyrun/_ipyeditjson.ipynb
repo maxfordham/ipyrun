{
 "cells": [
  {
   "cell_type": "code",
   "execution_count": 1,
   "metadata": {},
   "outputs": [],
   "source": [
    "import os\n",
    "import pandas as pd\n",
    "from IPython.display import display, Image, JSON, Markdown, HTML, display_pdf, clear_output\n",
    "from markdown import markdown\n",
    "from datetime import datetime\n",
    "\n",
    "# widget stuff\n",
    "import ipywidgets as widgets\n",
    "import ipysheet\n",
    "from ipysheet import from_dataframe, to_dataframe\n",
    "\n",
    "# core mf_modules\n",
    "from mf_modules.pydtype_operations import read_json, write_json \n",
    "from mf_modules.file_operations import make_dir\n",
    "\n",
    "\n",
    "# from this repo\n",
    "# this is an unpleasant hack. should aim to find a better solution\n",
    "try:\n",
    "    from ipyrun._filecontroller import FileConfigController\n",
    "    from ipyrun._runconfig import RunConfig\n",
    "except:\n",
    "    from _filecontroller import FileConfigController\n",
    "    from _runconfig import RunConfig"
   ]
  },
  {
   "cell_type": "code",
   "execution_count": 2,
   "metadata": {},
   "outputs": [],
   "source": [
    "def _markdown(value='_Markdown_',\n",
    "              **kwargs):\n",
    "    \"\"\"\n",
    "    a simple template for markdown text input that templates required input\n",
    "    fields. additional user defined fields can be added as kwargs\n",
    "    \"\"\"\n",
    "    _kwargs = {}\n",
    "    _kwargs['value'] = markdown(value)  # required field\n",
    "    _kwargs.update(kwargs)  # user overides\n",
    "    return widgets.HTML(**_kwargs)\n",
    "\n",
    "class EditDictData():\n",
    "    \"\"\"\n",
    "    contains form layout specs and mapping dict used for associating input\n",
    "    variables to the appropriate widget. \n",
    "    \"\"\"\n",
    "           \n",
    "    @property\n",
    "    def MF_FORM_ITEM_LAYOUT(self):\n",
    "        return widgets.Layout(\n",
    "            display='flex',\n",
    "            flex_flow='row',\n",
    "            justify_content='flex-start',\n",
    "            #border='solid 1px green',\n",
    "            grid_auto_columns='True',\n",
    "            width='80%',\n",
    "            align_items='stretch',  \n",
    "        )\n",
    "    \n",
    "    @property\n",
    "    def MF_FORM_ITEM_LAYOUT1(self):\n",
    "        return widgets.Layout(\n",
    "            display='flex',\n",
    "            flex_flow='row',\n",
    "            justify_content='flex-end',\n",
    "            #border='solid 1px green',\n",
    "            grid_auto_columns='True',\n",
    "            width='90%',\n",
    "            align_items='stretch',  \n",
    "        )\n",
    "    \n",
    "    @property\n",
    "    def MF_FORM_ITEM_LAYOUT2(self):\n",
    "        return widgets.Layout(\n",
    "            display='flex',\n",
    "            flex_flow='row',\n",
    "            justify_content='flex-start',\n",
    "            border='dashed 0.2px green',\n",
    "            grid_auto_columns='True',\n",
    "            width='100%',\n",
    "            align_items='stretch',  \n",
    "        )\n",
    "    \n",
    "    @property\n",
    "    def map_keys(self):\n",
    "        return ['value', 'options', 'min', 'max']\n",
    "    \n",
    "    @property\n",
    "    def map_widgets(self):\n",
    "        # mapping dict used to guess what widget to apply\n",
    "        return {\n",
    "            'FloatText': {\n",
    "                'value_type': \"<class 'float'>\",\n",
    "                'options_type': \"<class 'NoneType'>\",\n",
    "                'min_type': \"<class 'NoneType'>\",\n",
    "                'max_type': \"<class 'NoneType'>\"\n",
    "            },\n",
    "           'FloatSlider': {\n",
    "                'value_type': \"<class 'float'>\",\n",
    "                'options_type': \"<class 'NoneType'>\",\n",
    "                'min_type': \"<class 'float'>\",\n",
    "                'max_type': \"<class 'float'>\"\n",
    "           },\n",
    "           'Dropdown': {\n",
    "                'value_type': 'any',\n",
    "                'options_type': \"<class 'list'>\",\n",
    "                'min_type': \"<class 'NoneType'>\",\n",
    "                'max_type': \"<class 'NoneType'>\"\n",
    "           },\n",
    "           'SelectMultiple': {\n",
    "                'value_type': \"<class 'list'>\",\n",
    "                'options_type': \"<class 'list'>\",\n",
    "                'min_type': \"<class 'NoneType'>\",\n",
    "                'max_type': \"<class 'NoneType'>\"\n",
    "           },\n",
    "           'Checkbox': {\n",
    "                'value_type': \"<class 'bool'>\",\n",
    "                'options_type': \"<class 'NoneType'>\",\n",
    "                'min_type': \"<class 'NoneType'>\",\n",
    "                'max_type': \"<class 'NoneType'>\"\n",
    "           },\n",
    "           'Text': {\n",
    "                'value_type': \"<class 'str'>\",\n",
    "                'options_type': \"<class 'NoneType'>\",\n",
    "                'min_type': \"<class 'NoneType'>\",\n",
    "                'max_type': \"<class 'NoneType'>\"\n",
    "           },\n",
    "           '_recursive_guess': {\n",
    "                'value_type': \"<class 'list'>\",\n",
    "                'options_type': \"<class 'NoneType'>\",\n",
    "                'min_type': \"<class 'NoneType'>\",\n",
    "                'max_type': \"<class 'NoneType'>\"\n",
    "           }\n",
    "        }\n",
    "    \n",
    "    @property\n",
    "    def widget_lkup(self):\n",
    "        return {\n",
    "                'FloatText':widgets.FloatText,\n",
    "                'FloatSlider':widgets.FloatSlider,\n",
    "                'Dropdown':widgets.Dropdown,\n",
    "                'DerivedText':widgets.HTML,\n",
    "                'DatePicker':widgets.DatePicker,\n",
    "                'SelectMultiple':widgets.SelectMultiple,\n",
    "                'Checkbox':widgets.Checkbox,\n",
    "                'Text':widgets.Text,\n",
    "                'Textarea':widgets.Textarea,\n",
    "                '_recursive_guess':self._recursive_guess,\n",
    "                'ipysheet':self._ipysheet\n",
    "            }\n",
    "\n",
    "    \n",
    "class EditDict(EditDictData):\n",
    "    '''\n",
    "    a class that is passed a dict and then guesses the most appropriate \n",
    "    widget from the values in the dict.\n",
    "    - if a nested list of dicts is passed:\n",
    "        => it will create an embedded, clickable show/hide nested input form\n",
    "    - if a json dataframe object is passed as the \"value\" and and the key:value\n",
    "      \"widget\":\"ipysheet\" is passed in the same dict:\n",
    "        => it will create an editable ipysheet dataframe widget\n",
    "    '''\n",
    "    def __init__(self, di):\n",
    "        self.out = widgets.Output()\n",
    "        self.di = di\n",
    "        self.form()\n",
    " \n",
    "    def form(self):\n",
    "        self.di = self._update_di()\n",
    "        if 'widget' not in self.di.keys():\n",
    "            self.di_types = self._get_var_types()\n",
    "            self.widget_name, self.report = self.map_widget()           \n",
    "        else:\n",
    "            self.widget_name = self.di['widget']\n",
    "        self.kwargs = self._kwargfilt()\n",
    "        self.layout = self._build_widget()\n",
    "        if self.widget_name != 'ipysheet' and self.widget_name != '_recursive_guess':\n",
    "            self._init_controls()\n",
    "          \n",
    "    def _init_controls(self):   \n",
    "        self.widget_only.observe(self._update_change, 'value') \n",
    "\n",
    "    def _update_change(self, change):\n",
    "        value = None\n",
    "        if(self.widget_name == \"DatePicker\"):\n",
    "            value = self.widget_only.value.strftime('%d/%m/%Y')\n",
    "        else:\n",
    "            value = self.widget_only.value\n",
    "        self.di['value'] = value\n",
    "\n",
    "    def _build_widget(self):\n",
    "        \n",
    "        if self.widget_name == '_recursive_guess':\n",
    "            self._recursive_guess()\n",
    "        elif self.widget_name == 'ipysheet':\n",
    "            self._ipysheet()\n",
    "        elif self.widget_name == \"DatePicker\":\n",
    "            value = datetime.strptime(self.kwargs['value'], '%d/%m/%Y')\n",
    "            self.widget_only = self.widget_lkup[self.widget_name](value=value)\n",
    "        else:\n",
    "            self.widget_only = self.widget_lkup[self.widget_name](**self.kwargs)\n",
    "        self.widget_simple = widgets.HBox([self.widget_only,_markdown(self.di['label'])],layout=self.MF_FORM_ITEM_LAYOUT)\n",
    "        self.widget_row = widgets.HBox([_markdown(self.di['name']),self.widget_simple],layout=self.MF_FORM_ITEM_LAYOUT1)\n",
    "        if 'fpth_help' in self.di.keys():\n",
    "            self.guide = widgets.ToggleButton(icon='fa-question-circle',\n",
    "                                              description='help',\n",
    "                                              tooltip='gives guidance',\n",
    "                                              style={'font_weight':'bold'},\n",
    "                                              layout=widgets.Layout(width='5%'))\n",
    "            self.guide.observe(self._guide, 'value')\n",
    "            layout = widgets.HBox([self.widget_row ,self.guide],layout=self.MF_FORM_ITEM_LAYOUT2)\n",
    "        else:\n",
    "            layout = widgets.HBox([self.widget_row ],layout=self.MF_FORM_ITEM_LAYOUT2)\n",
    "        return layout\n",
    "    \n",
    "    def _guide(self, sender):\n",
    "        with self.out:\n",
    "            if self.guide.value:  \n",
    "                display(Image(os.path.join(os.environ['mf_root'],r'engDevSetup\\dev\\icons\\icon_png\\help-icon.png')));\n",
    "            else:\n",
    "                clear_output()\n",
    "                \n",
    "    def _kwargfilt(self):\n",
    "        return {k:v for (k,v) in self.di.items() if k != 'widget' and k != 'name' and k != 'label' and k != 'fpth_help' and v is not None}\n",
    "        \n",
    "    def _update_di(self):\n",
    "\n",
    "        def add_to_dict(di, keyname='None', valuename=None):\n",
    "            if keyname not in di.keys():\n",
    "                di[keyname]=valuename\n",
    "            return di\n",
    "        tmp = self.di\n",
    "        tmp = add_to_dict(tmp,keyname='min')\n",
    "        tmp = add_to_dict(tmp,keyname='max')\n",
    "        tmp = add_to_dict(tmp,keyname='options')\n",
    "        tmp = add_to_dict(tmp,keyname='name', valuename='name')\n",
    "        tmp = add_to_dict(tmp,keyname='label', valuename='label')\n",
    "        return tmp\n",
    "        \n",
    "    def _get_var_types(self):\n",
    "\n",
    "        def int_type_to_float(di):\n",
    "            di_ = {}\n",
    "            for key, val in di.items():\n",
    "                if val == \"<class 'int'>\":\n",
    "                    di_[key] = \"<class 'float'>\"\n",
    "                else:\n",
    "                    di_[key] = val\n",
    "            return di_\n",
    "        di = self.di\n",
    "        keys = self.map_keys\n",
    "        di_filt = { key: di[key] for key in keys }\n",
    "        di_types = {key+'_type': str(type(di_filt[key])) for key in keys}\n",
    "        di_types= int_type_to_float(di_types)\n",
    "        return di_types\n",
    "    \n",
    "    def map_widget(self):\n",
    "        \"\"\"\n",
    "        uses the types of the different inputs to map an input \n",
    "        to the appropriate widget\n",
    "\n",
    "        Reference:\n",
    "            |                 | value_type      | options_type       | min_type           | max_type           |\n",
    "            |:----------------|:----------------|:-------------------|:-------------------|:-------------------|\n",
    "            | FloatText       | <class 'float'> | <class 'NoneType'> | <class 'NoneType'> | <class 'NoneType'> |\n",
    "            | FloatSlider     | <class 'float'> | <class 'NoneType'> | <class 'float'>    | <class 'float'>    |\n",
    "            | Dropdown        | <class 'float'> | <class 'list'>     | <class 'NoneType'> | <class 'NoneType'> |\n",
    "            | SelectMultiple  | <class 'list'>  | <class 'list'>     | <class 'NoneType'> | <class 'NoneType'> |\n",
    "            | Checkbox        | <class 'bool'>  | <class 'NoneType'> | <class 'NoneType'> | <class 'NoneType'> |\n",
    "            | Text            | <class 'str'>   | <class 'NoneType'> | <class 'NoneType'> | <class 'NoneType'> |\n",
    "            | _recursive_guess| <class 'list'>  | <class 'NoneType'> | <class 'NoneType'> | <class 'NoneType'> |\n",
    "        \"\"\"\n",
    "        di_types = self.di_types\n",
    "        map_widgets = self.map_widgets\n",
    "        m = 0\n",
    "        for k, v in map_widgets.items():\n",
    "            # this settles ambiguity for value type from Dropdown (which could be anything)\n",
    "            #if k == widgets.Dropdown and di_types['value_type'] != \"<class 'list'>\":\n",
    "            if k == 'Dropdown' and di_types['value_type'] != \"<class 'list'>\":\n",
    "                v['value_type'] = di_types['value_type']\n",
    "            if v == di_types:\n",
    "                m=+1\n",
    "                widget_name = k\n",
    "        if m < 1:\n",
    "            report = 'no matching widget found... check inputs...'\n",
    "            print(di_types)\n",
    "            print(report)\n",
    "            widget_name = 'Text'\n",
    "        elif m == 1:\n",
    "            report = 'perfect match!'\n",
    "        else:\n",
    "            report = 'multiple matches found... check code...'\n",
    "            print(di_types)\n",
    "            print(report)\n",
    "        return widget_name, report\n",
    "    \n",
    "    # -------------------------------------------------------------------------     \n",
    "    # code that allows for embedded list of dicts -----------------------------\n",
    "    def _recursive_guess(self):\n",
    "        self.kwargs = {k:v for (k,v) in self.kwargs.items() if k != 'value'}\n",
    "        self.kwargs['icon'] = 'arrow-down'\n",
    "        self.widget_only = widgets.ToggleButton(**self.kwargs)\n",
    "        self._recursive_controls()\n",
    "        \n",
    "    def _recursive_controls(self):\n",
    "        self.widget_only.observe(self._call_GuessWidget, 'value')\n",
    "\n",
    "    def _call_GuessWidget(self, sender):\n",
    "        self.nested_g = EditListOfDicts(self.di['value'])\n",
    "        self.di['value'] = self.nested_g.li\n",
    "        with self.out:\n",
    "            if self.widget_only.value:  \n",
    "                display(self.nested_g)\n",
    "            else:\n",
    "                clear_output()\n",
    "    # --------------------------------------------------------------------------\n",
    "    # code that allows for embedded ipysheets ----------------------------------\n",
    "    def _ipysheet(self):\n",
    "        self.kwargs = {k:v for (k,v) in self.kwargs.items() if k != 'value'}\n",
    "        self.kwargs['icon'] = 'arrow-down'\n",
    "        self.widget_only = widgets.ToggleButton(**self.kwargs)\n",
    "        self.save_ipysheet = widgets.Button(description='save')\n",
    "        self._ipysheet_controls()\n",
    "        \n",
    "    def _ipysheet_controls(self):\n",
    "        self.widget_only.observe(self.call_ipysheet, 'value')\n",
    "        self.save_ipysheet.on_click(self._save_ipysheet)\n",
    "        \n",
    "    def call_ipysheet(self, sender):\n",
    "        tmp = pd.read_json(self.di['value'])\n",
    "        self.sheet = ipysheet.sheet(ipysheet.from_dataframe(tmp)) # initiate sheet\n",
    "        with self.out:\n",
    "            if self.widget_only.value:  \n",
    "                display(self.save_ipysheet)\n",
    "                display(self.sheet)\n",
    "            else:\n",
    "                clear_output()\n",
    "    \n",
    "    def _save_ipysheet(self, change):\n",
    "        tmp = to_dataframe(self.sheet)\n",
    "        self.di['value'] = tmp.to_json()\n",
    "        with self.out:\n",
    "            clear_output()\n",
    "            dateTimeObj = datetime.now()\n",
    "            timestampStr = dateTimeObj.strftime(\"%d-%b-%Y %H:%M:%S:\")\n",
    "            display(Markdown('{0} changes to sheet saved. hit save in main dialog to save to file'.format(timestampStr)))\n",
    "        self.display()\n",
    "    # --------------------------------------------------------------------------\n",
    "\n",
    "    def display(self):\n",
    "        display(self.layout)\n",
    "        display(self.out)\n",
    "         \n",
    "    def _ipython_display_(self):\n",
    "        self.display()    "
   ]
  },
  {
   "cell_type": "code",
   "execution_count": 3,
   "metadata": {},
   "outputs": [],
   "source": [
    "class EditListOfDicts():\n",
    "    \"\"\"\n",
    "    builds user input form from a list of dicts by creating a \n",
    "    loop of EditDict objects.\n",
    "    \"\"\"\n",
    "    def __init__(self, li):\n",
    "        \"\"\"\n",
    "        class that builds a user interface based on a list of dicts, where each dict is \n",
    "        a ipywidget user interface object. The class inteprets which widget to select based on the \n",
    "        type of the value and the keys that are passed. The keys are passed to the ipywidget \n",
    "        object as **kwargs.\n",
    "\n",
    "        Args:\n",
    "            li (list): list of dicts. each dict must contain 'name', 'value' and 'label' as the \n",
    "                minimum set of keys for making a ipywidget. additional keys that are passed \n",
    "                get become **kwargs that are passed to the selected ipywidget\n",
    "                \n",
    "        Example:\n",
    "            ```\n",
    "            li = [\n",
    "                    {\n",
    "                        'name':'water_volume_m3',\n",
    "                        'value':15,\n",
    "                        'label':'total volume of water within the closed mechanical system'\n",
    "                    },\n",
    "                    {\n",
    "                        'name':'height_difference_m',\n",
    "                        'value':48,\n",
    "                        'label':'difference in height between the highest and lowest points in the system'\n",
    "                    },\n",
    "                    {\n",
    "                        'name':'eV_acceptance_fraction',\n",
    "                        'value':0.3,\n",
    "                        'min':0,\n",
    "                        'max':1,\n",
    "                        'label':'Expansion vessel acceptance factor (= additional volume / expansion vessel volume):'\n",
    "                    }\n",
    "                ]\n",
    "            ```\n",
    "            \n",
    "            >>> from ipyrun._ipyeditjson import EditListOfDicts\n",
    "            >>> ui = EditListOfDicts(li)\n",
    "            >>> ui\n",
    "            see example image above\n",
    "        Images:\n",
    "            %mf_root%\\ipyrun\\docs\\images\\eg_ui.PNG\n",
    "        \"\"\"\n",
    "        self.out = widgets.Output()\n",
    "        self.li = li\n",
    "        self.form()\n",
    "        self._init_observe()\n",
    "    \n",
    "    def form(self):\n",
    "        self.widgets = []\n",
    "        for l in self.li:\n",
    "            self.widgets.append(EditDict(l))\n",
    "        self._layout()\n",
    "    \n",
    "    def _layout(self):\n",
    "        self.applayout = widgets.VBox([l.layout for l in self.widgets])\n",
    "        \n",
    "    def _init_observe(self): \n",
    "        for l in self.widgets:\n",
    "            l.widget_only.observe(self._update_change, \"value\") \n",
    "    \n",
    "    def _update_change(self, change):\n",
    "        self.li = []\n",
    "        for l in self.widgets:\n",
    "            self.li.append(l.di)\n",
    "        \n",
    "    def _lidi_display(self):\n",
    "        out = [l.layout for l in self.widgets]\n",
    "        self.applayout = widgets.VBox(out)\n",
    "        display(self.applayout)\n",
    "        for l in self.widgets:\n",
    "            display(l.out)\n",
    "            \n",
    "    def _ipython_display_(self):\n",
    "        self._lidi_display()  \n",
    "\n",
    "class EditListOfDictsModelRun(EditListOfDicts):\n",
    "    \"\"\"\n",
    "    Modified version of EditJson, for Model Run spreadsheet\n",
    "    Functionality for DerivedText has been added\n",
    "    \"\"\"\n",
    "    \n",
    "    def __init__(self, li):\n",
    "        super().__init__(li)\n",
    "\n",
    "    def _update_label(self, index, l):\n",
    "        labelVal = \"\"\n",
    "        firstVal = True\n",
    "        for opt in l.di['options']:\n",
    "            try:\n",
    "                if(index+opt < 0):\n",
    "                    raise Exception(\"Can only get values of positive indices\")\n",
    "\n",
    "                value = self.widgets[index+opt].di[\"value\"]\n",
    "\n",
    "                if(value == \"\"):\n",
    "                    value = \"XX\"\n",
    "\n",
    "                if(isinstance(value, float)):\n",
    "                    if(value.is_integer()):\n",
    "                        value = int(value)\n",
    "\n",
    "                if not firstVal:\n",
    "                    labelVal += \"_\"\n",
    "\n",
    "                labelVal += str(value)\n",
    "\n",
    "                firstVal = False\n",
    "            except Exception as e:\n",
    "                pass\n",
    "        return \"<b>{0}</b>\".format(labelVal)\n",
    "    \n",
    "    def _update_change(self, change):\n",
    "        self.li = []\n",
    "        for index, l in enumerate(self.widgets):\n",
    "            if(l.widget_name==\"DerivedText\"):\n",
    "                l.widget_only.value = self._update_label(index, l)\n",
    "            self.li.append(l.di)\n",
    "    \n",
    "    def _layout(self):\n",
    "        self._update_change(\"value\")\n",
    "        super()._layout()"
   ]
  },
  {
   "cell_type": "code",
   "execution_count": 4,
   "metadata": {},
   "outputs": [],
   "source": [
    "class SimpleEditJson(EditListOfDicts):\n",
    "    \"\"\"\n",
    "    inherits EditListOfDicts user input form and manages the reading and \n",
    "    writing the data from a JSON file. \n",
    "    \"\"\"\n",
    "    #def __init__(self, fpth, fdir='.', local_fol='_mfengdev'):\n",
    "    def __init__(self, fpth_in, fpth_out=None):\n",
    "        self.out = widgets.Output()\n",
    "        self.fpth_in = fpth_in\n",
    "        if fpth_out==None:\n",
    "            self.fpth_out = fpth_in\n",
    "        else:\n",
    "            self.fpth_out = fpth_out\n",
    "        #self.fdir = fdir\n",
    "        #self.local_fol = local_fol\n",
    "        #self.fpth_out = self._fpth_out()\n",
    "        self.li = read_json(self.fpth_in)\n",
    "        self.save_changes = widgets.Button(description='save',button_style='success')\n",
    "        self.form()\n",
    "        self._init_observe()\n",
    "        self._init_controls()\n",
    "        \n",
    "    #def _fpth_out(self):\n",
    "    #    fol = os.path.join(self.fdir, self.local_fol)\n",
    "    #    make_dir(fol)\n",
    "    #    return os.path.join(fol,os.path.basename(self.fpth_in))\n",
    "    \n",
    "    def _init_controls(self):  \n",
    "        self.save_changes.on_click(self._save_changes)\n",
    "        \n",
    "    def _save_changes(self, sender):\n",
    "        self.data_out = self.li\n",
    "        #try:\n",
    "            \n",
    "        write_json(self.data_out,\n",
    "                   sort_keys=True,\n",
    "                   indent=4,\n",
    "                   fpth=self.fpth_out,\n",
    "                   print_fpth=False,\n",
    "                   openFile=False)\n",
    "        with self.out:\n",
    "            clear_output()\n",
    "            dateTimeObj = datetime.now()\n",
    "            timestampStr = dateTimeObj.strftime(\"%d-%b-%Y %H:%M:%S:\")\n",
    "            display(Markdown('{0} changes to sheet logged.  to: {1}'.format(timestampStr,self.fpth_out)))\n",
    "            \n",
    "    def display(self):\n",
    "        display(self.save_changes)\n",
    "        out = [l.layout for l in self.widgets]\n",
    "        self.applayout = widgets.VBox(out)\n",
    "        display(self.applayout)\n",
    "        for l in self.widgets:\n",
    "            display(l.out)\n",
    "        display(self.out)\n",
    "            \n",
    "    def _ipython_display_(self):\n",
    "        self.display()  "
   ]
  },
  {
   "cell_type": "code",
   "execution_count": 5,
   "metadata": {
    "lines_to_end_of_cell_marker": 2
   },
   "outputs": [],
   "source": [
    "class EditJson(EditListOfDicts, FileConfigController):\n",
    "    \"\"\"\n",
    "    inherits EditListOfDicts user input form as well FileConfigController \n",
    "    and manages the reading and writing the data from a JSON file. \n",
    "    \"\"\"\n",
    "    #def __init__(self, fpth, fdir='.', local_fol='_mfengdev'):\n",
    "    def __init__(self, config):\n",
    "        self.out = widgets.Output()\n",
    "        self._errors()\n",
    "        self.config = config\n",
    "        self.user_keys = list(config.keys())\n",
    "        self._update_config()\n",
    "        self.file_control_form()\n",
    "        self.li = read_json(self.fpth_inputs)\n",
    "        self._init_file_controller()\n",
    "        self.__build_widgets()\n",
    "        \n",
    "    def __build_widgets(self):\n",
    "        self.form()\n",
    "        self._init_observe()\n",
    "        \n",
    "    def _revert(self, sender):\n",
    "        \"\"\"revert to last save of working inputs file\"\"\"\n",
    "        fpth = self.fpth_inputs\n",
    "        self.temp_message.value = markdown('revert to inputs in last save of: {0}'.format(fpth))\n",
    "        \n",
    "        # ADD CODE HERE TO REVERT TO LAST SAVE\n",
    "        \n",
    "        self.li = read_json(self.fpth_inputs)\n",
    "        self._update_from_file()\n",
    "        self.update_display()\n",
    "        self.display()\n",
    "\n",
    "        \n",
    "    def _update_from_file(self):\n",
    "        for idx, val in enumerate(self.li):\n",
    "            self.widgets[idx].widget_only.value = val['value']\n",
    "            \n",
    "    def _save_changes(self, sender):\n",
    "        \"\"\"save changes to working inputs file\"\"\"\n",
    "        fpth = self.fpth_inputs\n",
    "        dateTimeObj = datetime.now()\n",
    "        self.save_timestampStr = dateTimeObj.strftime(\"%d-%b-%Y %H:%M:%S\")\n",
    "        self.temp_message.value = markdown('{0} saved at: {1}'.format(fpth, self.save_timestampStr))\n",
    "        \n",
    "        self.data_out = self.li \n",
    "        # add code here to save changes to file\n",
    "        write_json(self.data_out,\n",
    "                   sort_keys=True,\n",
    "                   indent=4,\n",
    "                   fpth=fpth,\n",
    "                   print_fpth=False,\n",
    "                   openFile=False)\n",
    "        \n",
    "        self.update_display()\n",
    "        self.display()\n",
    "        \n",
    "    def _load_inputs(self,sender):\n",
    "        \"\"\"launches the inputs from file dialog\"\"\"\n",
    "        self.temp_message.value = markdown('update the user input form with data from file')\n",
    "        if self.load_inputs.value:\n",
    "            self.inputform.children = [self.load_button, self.choose_inputs]\n",
    "        else:\n",
    "            self.temp_message.value = markdown('')\n",
    "            self.inputform.children = []\n",
    "        self.update_display()\n",
    "        self.display()\n",
    "\n",
    "    def _load(self,sender):\n",
    "\n",
    "        fpth = self.choose_inputs.value\n",
    "        # add code here to load form from file\n",
    "        self.li = read_json(fpth)\n",
    "        self._update_from_file()\n",
    "        self.temp_message.value = markdown('input form load data from: {0}'.format(fpth))\n",
    "        self.update_display()\n",
    "        self.display()\n",
    "        \n",
    "    def update_display(self):\n",
    "        #self._lidi_display()\n",
    "        box = widgets.VBox([\n",
    "            self.button_bar,\n",
    "            self.temp_message,\n",
    "            self.inputform,\n",
    "        ])\n",
    "        self.layout = box\n",
    "        for l in self.widgets:\n",
    "            with self.out:\n",
    "                display(l.out)\n",
    "            \n",
    "    def display(self):\n",
    "        self.update_display()\n",
    "        display(self.layout)\n",
    "        #out = [l.layout for l in self.widgets]\n",
    "        #self.applayout = widgets.VBox(out)\n",
    "        display(self.applayout)\n",
    "        #for l in self.widgets:\n",
    "        #    display(l.out)\n",
    "        display(self.out)\n",
    "            \n",
    "    def _ipython_display_(self):\n",
    "        self.display()  \n",
    "        #self._lidi_display()  \n",
    "\n",
    "class EditJsonModelRun(EditListOfDictsModelRun, EditJson):\n",
    "    \"\"\"\n",
    "    Modified version of EditJson, for Model Run spreadsheet\n",
    "    Functionality for DerivedText has been added\n",
    "    \"\"\"\n",
    "    def __build_widgets(self):\n",
    "        EditListOfDictsModelRun.form()\n",
    "        EditListOfDictsModelRun._init_observe()"
   ]
  },
  {
   "cell_type": "code",
   "execution_count": 8,
   "metadata": {
    "lines_to_next_cell": 2
   },
   "outputs": [
    {
     "data": {
      "text/markdown": [
       "### Example0"
      ],
      "text/plain": [
       "<IPython.core.display.Markdown object>"
      ]
     },
     "metadata": {},
     "output_type": "display_data"
    },
    {
     "data": {
      "text/markdown": [
       "Edit list of dicts"
      ],
      "text/plain": [
       "<IPython.core.display.Markdown object>"
      ]
     },
     "metadata": {},
     "output_type": "display_data"
    },
    {
     "data": {
      "application/vnd.jupyter.widget-view+json": {
       "model_id": "7954ee10eac5444293ebb1fc4930c6f9",
       "version_major": 2,
       "version_minor": 0
      },
      "text/plain": [
       "VBox(children=(HBox(children=(HBox(children=(HTML(value='<p>reous foo ous foo st</p>'), HBox(children=(FloatTe…"
      ]
     },
     "metadata": {},
     "output_type": "display_data"
    },
    {
     "data": {
      "application/vnd.jupyter.widget-view+json": {
       "model_id": "de1391a075774d208346792e9fe376da",
       "version_major": 2,
       "version_minor": 0
      },
      "text/plain": [
       "Output()"
      ]
     },
     "metadata": {},
     "output_type": "display_data"
    },
    {
     "data": {
      "application/vnd.jupyter.widget-view+json": {
       "model_id": "7f4216cb9b78414e8db1f14752bb3473",
       "version_major": 2,
       "version_minor": 0
      },
      "text/plain": [
       "Output()"
      ]
     },
     "metadata": {},
     "output_type": "display_data"
    },
    {
     "data": {
      "application/vnd.jupyter.widget-view+json": {
       "model_id": "0fa3c9236f3548ca921000c827f75a3f",
       "version_major": 2,
       "version_minor": 0
      },
      "text/plain": [
       "Output()"
      ]
     },
     "metadata": {},
     "output_type": "display_data"
    },
    {
     "data": {
      "application/vnd.jupyter.widget-view+json": {
       "model_id": "d5bf43818cc940ec87e534592887ecb2",
       "version_major": 2,
       "version_minor": 0
      },
      "text/plain": [
       "Output()"
      ]
     },
     "metadata": {},
     "output_type": "display_data"
    },
    {
     "data": {
      "application/vnd.jupyter.widget-view+json": {
       "model_id": "8f6c395edac5433087cd2e46e53ac730",
       "version_major": 2,
       "version_minor": 0
      },
      "text/plain": [
       "Output()"
      ]
     },
     "metadata": {},
     "output_type": "display_data"
    },
    {
     "data": {
      "application/vnd.jupyter.widget-view+json": {
       "model_id": "9c4e486172d94a2b9c7dfb627b4c6e95",
       "version_major": 2,
       "version_minor": 0
      },
      "text/plain": [
       "Output()"
      ]
     },
     "metadata": {},
     "output_type": "display_data"
    },
    {
     "data": {
      "application/vnd.jupyter.widget-view+json": {
       "model_id": "698d909b48e545fdb530016f18021c3a",
       "version_major": 2,
       "version_minor": 0
      },
      "text/plain": [
       "Output()"
      ]
     },
     "metadata": {},
     "output_type": "display_data"
    },
    {
     "data": {
      "application/vnd.jupyter.widget-view+json": {
       "model_id": "116236560fc649d89fedcbe1af821bd0",
       "version_major": 2,
       "version_minor": 0
      },
      "text/plain": [
       "Output()"
      ]
     },
     "metadata": {},
     "output_type": "display_data"
    },
    {
     "data": {
      "text/markdown": [
       "---"
      ],
      "text/plain": [
       "<IPython.core.display.Markdown object>"
      ]
     },
     "metadata": {},
     "output_type": "display_data"
    },
    {
     "data": {
      "text/markdown": [],
      "text/plain": [
       "<IPython.core.display.Markdown object>"
      ]
     },
     "metadata": {},
     "output_type": "display_data"
    },
    {
     "data": {
      "text/markdown": [
       "### Example1"
      ],
      "text/plain": [
       "<IPython.core.display.Markdown object>"
      ]
     },
     "metadata": {},
     "output_type": "display_data"
    },
    {
     "data": {
      "text/markdown": [
       "Simple Edit Json"
      ],
      "text/plain": [
       "<IPython.core.display.Markdown object>"
      ]
     },
     "metadata": {},
     "output_type": "display_data"
    },
    {
     "data": {
      "application/vnd.jupyter.widget-view+json": {
       "model_id": "66ba51853c1d4ef9bb8ddd1bcecd1457",
       "version_major": 2,
       "version_minor": 0
      },
      "text/plain": [
       "Button(button_style='success', description='save', style=ButtonStyle())"
      ]
     },
     "metadata": {},
     "output_type": "display_data"
    },
    {
     "data": {
      "application/vnd.jupyter.widget-view+json": {
       "model_id": "8a3633a9bdc648cdb33f9b802bdbfce7",
       "version_major": 2,
       "version_minor": 0
      },
      "text/plain": [
       "VBox(children=(HBox(children=(HBox(children=(HTML(value='<p>reous foo ous foo st</p>'), HBox(children=(FloatTe…"
      ]
     },
     "metadata": {},
     "output_type": "display_data"
    },
    {
     "data": {
      "application/vnd.jupyter.widget-view+json": {
       "model_id": "0c3f1c850768444b9cb1d1971e8d1a77",
       "version_major": 2,
       "version_minor": 0
      },
      "text/plain": [
       "Output()"
      ]
     },
     "metadata": {},
     "output_type": "display_data"
    },
    {
     "data": {
      "application/vnd.jupyter.widget-view+json": {
       "model_id": "d9f87efdcb0846c09bca37bd745f49cf",
       "version_major": 2,
       "version_minor": 0
      },
      "text/plain": [
       "Output()"
      ]
     },
     "metadata": {},
     "output_type": "display_data"
    },
    {
     "data": {
      "application/vnd.jupyter.widget-view+json": {
       "model_id": "82aeca0ca3d74980bfd7b56090c8d6d1",
       "version_major": 2,
       "version_minor": 0
      },
      "text/plain": [
       "Output()"
      ]
     },
     "metadata": {},
     "output_type": "display_data"
    },
    {
     "data": {
      "application/vnd.jupyter.widget-view+json": {
       "model_id": "eaeaf957c99b421d975668edca13d7a1",
       "version_major": 2,
       "version_minor": 0
      },
      "text/plain": [
       "Output()"
      ]
     },
     "metadata": {},
     "output_type": "display_data"
    },
    {
     "data": {
      "application/vnd.jupyter.widget-view+json": {
       "model_id": "51970223eb69427a9bb4d3bc8016a007",
       "version_major": 2,
       "version_minor": 0
      },
      "text/plain": [
       "Output()"
      ]
     },
     "metadata": {},
     "output_type": "display_data"
    },
    {
     "data": {
      "application/vnd.jupyter.widget-view+json": {
       "model_id": "07be3596db234b44a9a843119eff91d3",
       "version_major": 2,
       "version_minor": 0
      },
      "text/plain": [
       "Output()"
      ]
     },
     "metadata": {},
     "output_type": "display_data"
    },
    {
     "data": {
      "application/vnd.jupyter.widget-view+json": {
       "model_id": "139f3a22b22246cbac6580390b90f24b",
       "version_major": 2,
       "version_minor": 0
      },
      "text/plain": [
       "Output()"
      ]
     },
     "metadata": {},
     "output_type": "display_data"
    },
    {
     "data": {
      "application/vnd.jupyter.widget-view+json": {
       "model_id": "4ef46fd0b2f14431bfab2d20bc960734",
       "version_major": 2,
       "version_minor": 0
      },
      "text/plain": [
       "Output()"
      ]
     },
     "metadata": {},
     "output_type": "display_data"
    },
    {
     "data": {
      "application/vnd.jupyter.widget-view+json": {
       "model_id": "4e14a963c7514658a0077f1cb4255d11",
       "version_major": 2,
       "version_minor": 0
      },
      "text/plain": [
       "Output()"
      ]
     },
     "metadata": {},
     "output_type": "display_data"
    },
    {
     "data": {
      "text/markdown": [
       "---"
      ],
      "text/plain": [
       "<IPython.core.display.Markdown object>"
      ]
     },
     "metadata": {},
     "output_type": "display_data"
    },
    {
     "data": {
      "text/markdown": [],
      "text/plain": [
       "<IPython.core.display.Markdown object>"
      ]
     },
     "metadata": {},
     "output_type": "display_data"
    },
    {
     "data": {
      "text/markdown": [
       "### Example2"
      ],
      "text/plain": [
       "<IPython.core.display.Markdown object>"
      ]
     },
     "metadata": {},
     "output_type": "display_data"
    },
    {
     "data": {
      "text/markdown": [
       "EDIT JSON FILE with custom config and file management"
      ],
      "text/plain": [
       "<IPython.core.display.Markdown object>"
      ]
     },
     "metadata": {},
     "output_type": "display_data"
    },
    {
     "data": {
      "application/vnd.jupyter.widget-view+json": {
       "model_id": "fba63748b7334acc97c932456e8593ab",
       "version_major": 2,
       "version_minor": 0
      },
      "text/plain": [
       "VBox(children=(HBox(children=(ToggleButton(value=False, button_style='info', description='inputs from file'), …"
      ]
     },
     "metadata": {},
     "output_type": "display_data"
    },
    {
     "data": {
      "application/vnd.jupyter.widget-view+json": {
       "model_id": "4284b62fa50e4c14ade07b18dc0ddd27",
       "version_major": 2,
       "version_minor": 0
      },
      "text/plain": [
       "VBox(children=(HBox(children=(HBox(children=(HTML(value='<p>fpth_in</p>'), HBox(children=(Text(value='2'), HTM…"
      ]
     },
     "metadata": {},
     "output_type": "display_data"
    },
    {
     "data": {
      "application/vnd.jupyter.widget-view+json": {
       "model_id": "e213c6f47a424a85a291a61f59262a8b",
       "version_major": 2,
       "version_minor": 0
      },
      "text/plain": [
       "Output()"
      ]
     },
     "metadata": {},
     "output_type": "display_data"
    },
    {
     "data": {
      "text/markdown": [
       "---"
      ],
      "text/plain": [
       "<IPython.core.display.Markdown object>"
      ]
     },
     "metadata": {},
     "output_type": "display_data"
    },
    {
     "data": {
      "text/markdown": [],
      "text/plain": [
       "<IPython.core.display.Markdown object>"
      ]
     },
     "metadata": {},
     "output_type": "display_data"
    },
    {
     "data": {
      "text/markdown": [
       "### Example3"
      ],
      "text/plain": [
       "<IPython.core.display.Markdown object>"
      ]
     },
     "metadata": {},
     "output_type": "display_data"
    },
    {
     "data": {
      "text/markdown": [
       "EDIT NESTED JSON FILE with custom config and file management"
      ],
      "text/plain": [
       "<IPython.core.display.Markdown object>"
      ]
     },
     "metadata": {},
     "output_type": "display_data"
    },
    {
     "data": {
      "application/vnd.jupyter.widget-view+json": {
       "model_id": "6c34781a51cc4afaa98b63817b2f6306",
       "version_major": 2,
       "version_minor": 0
      },
      "text/plain": [
       "VBox(children=(HBox(children=(ToggleButton(value=False, button_style='info', description='inputs from file'), …"
      ]
     },
     "metadata": {},
     "output_type": "display_data"
    },
    {
     "data": {
      "application/vnd.jupyter.widget-view+json": {
       "model_id": "e34c010848504b118a49a59e36e2378f",
       "version_major": 2,
       "version_minor": 0
      },
      "text/plain": [
       "VBox(children=(HBox(children=(HBox(children=(HTML(value='<p>fpth_in</p>'), HBox(children=(Text(value='C:\\\\engD…"
      ]
     },
     "metadata": {},
     "output_type": "display_data"
    },
    {
     "data": {
      "application/vnd.jupyter.widget-view+json": {
       "model_id": "a4b83ea44d8e4c57ba6f90a67cfe3058",
       "version_major": 2,
       "version_minor": 0
      },
      "text/plain": [
       "Output()"
      ]
     },
     "metadata": {},
     "output_type": "display_data"
    },
    {
     "data": {
      "text/markdown": [
       "---"
      ],
      "text/plain": [
       "<IPython.core.display.Markdown object>"
      ]
     },
     "metadata": {},
     "output_type": "display_data"
    },
    {
     "data": {
      "text/markdown": [],
      "text/plain": [
       "<IPython.core.display.Markdown object>"
      ]
     },
     "metadata": {},
     "output_type": "display_data"
    },
    {
     "data": {
      "text/markdown": [
       "### Example4"
      ],
      "text/plain": [
       "<IPython.core.display.Markdown object>"
      ]
     },
     "metadata": {},
     "output_type": "display_data"
    },
    {
     "data": {
      "text/markdown": [
       "Edit list of dicts iwth date picker and derived input"
      ],
      "text/plain": [
       "<IPython.core.display.Markdown object>"
      ]
     },
     "metadata": {},
     "output_type": "display_data"
    },
    {
     "data": {
      "application/vnd.jupyter.widget-view+json": {
       "model_id": "ddad7b79482848598ef269c6017ce873",
       "version_major": 2,
       "version_minor": 0
      },
      "text/plain": [
       "VBox(children=(HBox(children=(HBox(children=(HTML(value='<p>Date Picker</p>'), HBox(children=(DatePicker(value…"
      ]
     },
     "metadata": {},
     "output_type": "display_data"
    },
    {
     "data": {
      "application/vnd.jupyter.widget-view+json": {
       "model_id": "3259a52df09d45e88f8ef35cc2c5437a",
       "version_major": 2,
       "version_minor": 0
      },
      "text/plain": [
       "Output()"
      ]
     },
     "metadata": {},
     "output_type": "display_data"
    },
    {
     "data": {
      "application/vnd.jupyter.widget-view+json": {
       "model_id": "660818faea4f4917a7a0b054e9216816",
       "version_major": 2,
       "version_minor": 0
      },
      "text/plain": [
       "Output()"
      ]
     },
     "metadata": {},
     "output_type": "display_data"
    },
    {
     "data": {
      "application/vnd.jupyter.widget-view+json": {
       "model_id": "90c635d4157a483385c3c4456ca4226a",
       "version_major": 2,
       "version_minor": 0
      },
      "text/plain": [
       "Output()"
      ]
     },
     "metadata": {},
     "output_type": "display_data"
    },
    {
     "data": {
      "application/vnd.jupyter.widget-view+json": {
       "model_id": "db4c6d6ce8f34a9d86c49f97003cca9d",
       "version_major": 2,
       "version_minor": 0
      },
      "text/plain": [
       "Output()"
      ]
     },
     "metadata": {},
     "output_type": "display_data"
    },
    {
     "data": {
      "application/vnd.jupyter.widget-view+json": {
       "model_id": "2cf2494d933c4ec5b4df0dd41528a0ad",
       "version_major": 2,
       "version_minor": 0
      },
      "text/plain": [
       "Output()"
      ]
     },
     "metadata": {},
     "output_type": "display_data"
    },
    {
     "data": {
      "application/vnd.jupyter.widget-view+json": {
       "model_id": "eeb62a7bb81b4ae4abf4460731f21369",
       "version_major": 2,
       "version_minor": 0
      },
      "text/plain": [
       "Output()"
      ]
     },
     "metadata": {},
     "output_type": "display_data"
    },
    {
     "data": {
      "text/markdown": [
       "---"
      ],
      "text/plain": [
       "<IPython.core.display.Markdown object>"
      ]
     },
     "metadata": {},
     "output_type": "display_data"
    },
    {
     "data": {
      "text/markdown": [],
      "text/plain": [
       "<IPython.core.display.Markdown object>"
      ]
     },
     "metadata": {},
     "output_type": "display_data"
    }
   ],
   "source": [
    "if __name__ =='__main__':\n",
    "    \n",
    "    # FORM ONLY EXAMPLE\n",
    "    NBFDIR = os.path.dirname(os.path.realpath('__file__'))\n",
    "    fpth = os.path.join(NBFDIR,r'appdata\\inputs\\test.json')\n",
    "    li = read_json(fpth)\n",
    "    g = EditListOfDicts(li)\n",
    "    display(Markdown('### Example0'))\n",
    "    display(Markdown('''Edit list of dicts'''))\n",
    "    display(g)\n",
    "    display(Markdown('---'))  \n",
    "    display(Markdown('')) \n",
    "    \n",
    "    # Example1\n",
    "    FDIR = os.path.dirname(os.path.realpath('__file__'))\n",
    "    fpth = os.path.join(FDIR,r'appdata/inputs/test.json')\n",
    "    simpleeditjson = SimpleEditJson(fpth)\n",
    "    # display\n",
    "    display(Markdown('### Example1'))\n",
    "    display(Markdown('''Simple Edit Json'''))\n",
    "    display(simpleeditjson)\n",
    "    display(Markdown('---'))  \n",
    "    display(Markdown('')) \n",
    "    \n",
    "    # Example2\n",
    "    # EDIT JSON FILE with custom config and file management\n",
    "    config={\n",
    "        'fpth_script':os.path.join(os.environ['mf_root'],r'MF_Toolbox\\dev\\mf_scripts\\docx_to_pdf.py'),\n",
    "        'fdir':'.',\n",
    "        'script_outputs': {'0': {\n",
    "            'fdir':'..\\reports',\n",
    "            'fnm': r'JupyterReportDemo.pdf',\n",
    "            'description': \"a pdf report from word\"\n",
    "                }\n",
    "            }\n",
    "        }\n",
    "    editjson = EditJson(config)\n",
    "    # display\n",
    "    display(Markdown('### Example2'))\n",
    "    display(Markdown('''EDIT JSON FILE with custom config and file management'''))\n",
    "    display(editjson)\n",
    "    display(Markdown('---'))  \n",
    "    display(Markdown('')) \n",
    "    \n",
    "\n",
    "    \n",
    "    # Example3\n",
    "    # EDIT NESTED JSON FILE with custom config and file management\n",
    "    nestedconfig={\n",
    "        'fpth_script':os.path.join(os.environ['mf_root'],r'MF_Toolbox\\dev\\mf_scripts\\gbxml.py'),\n",
    "        'fdir':'.',\n",
    "        }\n",
    "    editnestedjson = EditJsonModelRun(nestedconfig)\n",
    "    # display\n",
    "    display(Markdown('### Example3'))\n",
    "    display(Markdown('''EDIT NESTED JSON FILE with custom config and file management'''))\n",
    "    display(editnestedjson)\n",
    "    display(Markdown('---'))  \n",
    "    display(Markdown('')) \n",
    "\n",
    "        \n",
    "    # FORM ONLY EXAMPLE\n",
    "    NBFDIR = os.path.dirname(os.path.realpath('__file__'))\n",
    "    fpth = os.path.join(NBFDIR,r'appdata\\inputs\\test-derived-val.json')\n",
    "    li = read_json(fpth)\n",
    "    g = EditListOfDictsModelRun(li)\n",
    "    display(Markdown('### Example4'))\n",
    "    display(Markdown('''Edit list of dicts iwth date picker and derived input'''))\n",
    "    display(g)\n",
    "    display(Markdown('---'))  \n",
    "    display(Markdown('')) "
   ]
  },
  {
   "cell_type": "code",
   "execution_count": null,
   "metadata": {
    "lines_to_next_cell": 2
   },
   "outputs": [],
   "source": []
  },
  {
   "cell_type": "code",
   "execution_count": null,
   "metadata": {},
   "outputs": [],
   "source": []
  },
  {
   "cell_type": "code",
   "execution_count": null,
   "metadata": {},
   "outputs": [],
   "source": []
  },
  {
   "cell_type": "code",
   "execution_count": null,
   "metadata": {},
   "outputs": [],
   "source": []
  },
  {
   "cell_type": "code",
   "execution_count": null,
   "metadata": {
    "lines_to_next_cell": 2
   },
   "outputs": [],
   "source": []
  },
  {
   "cell_type": "code",
   "execution_count": null,
   "metadata": {
    "lines_to_next_cell": 2
   },
   "outputs": [],
   "source": []
  },
  {
   "cell_type": "code",
   "execution_count": null,
   "metadata": {},
   "outputs": [],
   "source": []
  },
  {
   "cell_type": "code",
   "execution_count": null,
   "metadata": {},
   "outputs": [],
   "source": []
  }
 ],
 "metadata": {
  "jupytext": {
   "formats": "ipynb,py:light"
  },
  "kernelspec": {
   "display_name": "Python [conda env:mf_main] *",
   "language": "python",
   "name": "conda-env-mf_main-py"
  },
  "language_info": {
   "codemirror_mode": {
    "name": "ipython",
    "version": 3
   },
   "file_extension": ".py",
   "mimetype": "text/x-python",
   "name": "python",
   "nbconvert_exporter": "python",
   "pygments_lexer": "ipython3",
   "version": "3.7.7"
  },
  "widgets": {
   "application/vnd.jupyter.widget-state+json": {
    "state": {
     "001e2802db554b94a0c7581e00893aa0": {
      "model_module": "@jupyter-widgets/base",
      "model_module_version": "1.2.0",
      "model_name": "LayoutModel",
      "state": {}
     },
     "0029a3f460cc49f6a6ea584a9ea2705b": {
      "model_module": "@jupyter-widgets/controls",
      "model_module_version": "1.5.0",
      "model_name": "SliderStyleModel",
      "state": {
       "description_width": ""
      }
     },
     "003b7c3b8bce43c4972ec632e9910f84": {
      "model_module": "@jupyter-widgets/controls",
      "model_module_version": "1.5.0",
      "model_name": "DescriptionStyleModel",
      "state": {
       "description_width": ""
      }
     },
     "004c6796a3b7407eb0c20d6bed0408d4": {
      "model_module": "@jupyter-widgets/base",
      "model_module_version": "1.2.0",
      "model_name": "LayoutModel",
      "state": {}
     },
     "0062681bc76c4b3ebb9a4f9bbb434705": {
      "model_module": "@jupyter-widgets/base",
      "model_module_version": "1.2.0",
      "model_name": "LayoutModel",
      "state": {
       "align_items": "stretch",
       "display": "flex",
       "flex_flow": "row",
       "grid_auto_columns": "True",
       "justify_content": "flex-start",
       "width": "80%"
      }
     },
     "007205ec33f249958296460405497ac1": {
      "model_module": "@jupyter-widgets/base",
      "model_module_version": "1.2.0",
      "model_name": "LayoutModel",
      "state": {
       "display": "flex",
       "flex_flow": "row",
       "grid_auto_columns": "False",
       "justify_content": "flex-start",
       "width": "100%"
      }
     },
     "00a9cd5c3fdb4664b0796b9cc3ae6a10": {
      "model_module": "@jupyter-widgets/controls",
      "model_module_version": "1.5.0",
      "model_name": "DescriptionStyleModel",
      "state": {
       "description_width": ""
      }
     },
     "00bd8e553dcc4e57965a0517113d54a5": {
      "model_module": "@jupyter-widgets/controls",
      "model_module_version": "1.5.0",
      "model_name": "ToggleButtonModel",
      "state": {
       "button_style": "info",
       "description": "inputs from file",
       "layout": "IPY_MODEL_46fcd17c3b394061b651d200944bb897",
       "style": "IPY_MODEL_d02d437ea41349009a0c76a879dfda87"
      }
     },
     "00de7dcf18434b0f8834926fc4a9cefc": {
      "model_module": "@jupyter-widgets/controls",
      "model_module_version": "1.5.0",
      "model_name": "DescriptionStyleModel",
      "state": {
       "description_width": ""
      }
     },
     "01029ee67e7b45e7b8823bf51eada2e8": {
      "model_module": "@jupyter-widgets/controls",
      "model_module_version": "1.5.0",
      "model_name": "TextModel",
      "state": {
       "layout": "IPY_MODEL_ddb55e27d9e646aa8afb3a2b271d3f4b",
       "style": "IPY_MODEL_69fd27f6161947308a08e58a47fe7395",
       "value": "SpaceId"
      }
     },
     "011f093bf80d40acaff025801505e786": {
      "model_module": "@jupyter-widgets/base",
      "model_module_version": "1.2.0",
      "model_name": "LayoutModel",
      "state": {}
     },
     "01241eb1add54a17b543c9838868461a": {
      "model_module": "@jupyter-widgets/base",
      "model_module_version": "1.2.0",
      "model_name": "LayoutModel",
      "state": {}
     },
     "012b1f334e664c7f859615ea27dc68f2": {
      "model_module": "@jupyter-widgets/controls",
      "model_module_version": "1.5.0",
      "model_name": "DescriptionStyleModel",
      "state": {
       "description_width": ""
      }
     },
     "01862b109eec452fbd515f47e1b0d002": {
      "model_module": "@jupyter-widgets/controls",
      "model_module_version": "1.5.0",
      "model_name": "HBoxModel",
      "state": {
       "children": [
        "IPY_MODEL_02d6aec75f6c49a186e72898a96de3a4"
       ],
       "layout": "IPY_MODEL_10897c458f7e4bdca1384cd031cbb990"
      }
     },
     "01cbb91b1a9541e8ab27a165a7850ed5": {
      "model_module": "@jupyter-widgets/base",
      "model_module_version": "1.2.0",
      "model_name": "LayoutModel",
      "state": {}
     },
     "01dd98e8db9a4deba32e520ae34e2688": {
      "model_module": "@jupyter-widgets/base",
      "model_module_version": "1.2.0",
      "model_name": "LayoutModel",
      "state": {}
     },
     "021cfc99413c4a6b8025e99998b254e5": {
      "model_module": "@jupyter-widgets/base",
      "model_module_version": "1.2.0",
      "model_name": "LayoutModel",
      "state": {}
     },
     "0290c706858b4cffba8051be500d5393": {
      "model_module": "@jupyter-widgets/base",
      "model_module_version": "1.2.0",
      "model_name": "LayoutModel",
      "state": {
       "align_items": "stretch",
       "border": "dashed 0.2px green",
       "display": "flex",
       "flex_flow": "row",
       "grid_auto_columns": "True",
       "justify_content": "flex-start",
       "width": "100%"
      }
     },
     "02d09ed68f9043d79fb7b838a5bc9a18": {
      "model_module": "@jupyter-widgets/controls",
      "model_module_version": "1.5.0",
      "model_name": "DescriptionStyleModel",
      "state": {
       "description_width": ""
      }
     },
     "02d6aec75f6c49a186e72898a96de3a4": {
      "model_module": "@jupyter-widgets/controls",
      "model_module_version": "1.5.0",
      "model_name": "HBoxModel",
      "state": {
       "children": [
        "IPY_MODEL_958c05cd2d8543078788ab02ae2a199d",
        "IPY_MODEL_85d2694ecc4b4d028f82ece770579436"
       ],
       "layout": "IPY_MODEL_25478b5f38f9470c8b3ee4e7488022e0"
      }
     },
     "02e0a105a2be4a9398373bfc36d38de4": {
      "model_module": "@jupyter-widgets/base",
      "model_module_version": "1.2.0",
      "model_name": "LayoutModel",
      "state": {}
     },
     "02e55da623e1439ba59a0263a814db50": {
      "model_module": "@jupyter-widgets/base",
      "model_module_version": "1.2.0",
      "model_name": "LayoutModel",
      "state": {}
     },
     "030bfc5566424a2084b7dcea217335ac": {
      "model_module": "@jupyter-widgets/controls",
      "model_module_version": "1.5.0",
      "model_name": "DescriptionStyleModel",
      "state": {
       "description_width": ""
      }
     },
     "03a16e4577f64dbd80b1afd5544e9e94": {
      "model_module": "@jupyter-widgets/base",
      "model_module_version": "1.2.0",
      "model_name": "LayoutModel",
      "state": {}
     },
     "03b0a76151a8443081381bfc17b73154": {
      "model_module": "@jupyter-widgets/controls",
      "model_module_version": "1.5.0",
      "model_name": "ToggleButtonModel",
      "state": {
       "icon": "arrow-down",
       "layout": "IPY_MODEL_1c4104d8ee854a09810c38754c584b57",
       "style": "IPY_MODEL_f0b9505544794a55a2f85ceb34114eeb"
      }
     },
     "03b318afe0c748a181c3ac6cf2d61cbf": {
      "model_module": "@jupyter-widgets/base",
      "model_module_version": "1.2.0",
      "model_name": "LayoutModel",
      "state": {}
     },
     "046c4339dd1b4f5ba2a49b2ff7c2db62": {
      "model_module": "@jupyter-widgets/controls",
      "model_module_version": "1.5.0",
      "model_name": "HBoxModel",
      "state": {
       "children": [
        "IPY_MODEL_c0ba733b76df466a85156a98c1061846",
        "IPY_MODEL_ca8a12f399ad4070aa9bf610ca647794"
       ],
       "layout": "IPY_MODEL_2ce9f1d5c28c496cbd80f56ec271eb0f"
      }
     },
     "04ba8a615e324471b85710119bf5e598": {
      "model_module": "@jupyter-widgets/controls",
      "model_module_version": "1.5.0",
      "model_name": "DescriptionStyleModel",
      "state": {
       "description_width": ""
      }
     },
     "04f164ce683f45718e574d78c31a76ee": {
      "model_module": "@jupyter-widgets/base",
      "model_module_version": "1.2.0",
      "model_name": "LayoutModel",
      "state": {
       "align_items": "stretch",
       "display": "flex",
       "flex_flow": "row",
       "grid_auto_columns": "True",
       "justify_content": "flex-start",
       "width": "80%"
      }
     },
     "050a5c86136e4f3ba64a6d8275fd36f4": {
      "model_module": "@jupyter-widgets/controls",
      "model_module_version": "1.5.0",
      "model_name": "ButtonStyleModel",
      "state": {
       "font_weight": "bold"
      }
     },
     "054ab09cbf6d4cc99d76533d12b75d5b": {
      "model_module": "@jupyter-widgets/controls",
      "model_module_version": "1.5.0",
      "model_name": "HTMLModel",
      "state": {
       "layout": "IPY_MODEL_606b9323080d4f719b4735a41c28e98d",
       "style": "IPY_MODEL_d61f664abf3a42618c5cb799fc2872fb",
       "value": "<p>input docx filepath</p>"
      }
     },
     "055f700debf1419eaef1d883ede17fcf": {
      "model_module": "@jupyter-widgets/base",
      "model_module_version": "1.2.0",
      "model_name": "LayoutModel",
      "state": {}
     },
     "05acf5dd41b54f1ebc0d95e6c4067812": {
      "model_module": "@jupyter-widgets/controls",
      "model_module_version": "1.5.0",
      "model_name": "HTMLModel",
      "state": {
       "layout": "IPY_MODEL_3b86ad446b474400ad3163edbf306c1f",
       "style": "IPY_MODEL_9f83cd1674ec4ef78e058cd19ff28844",
       "value": "<p>Test</p>"
      }
     },
     "05bd9f5c33b24201a7b19a2c2c31aa86": {
      "model_module": "@jupyter-widgets/base",
      "model_module_version": "1.2.0",
      "model_name": "LayoutModel",
      "state": {
       "align_items": "stretch",
       "display": "flex",
       "flex_flow": "row",
       "grid_auto_columns": "True",
       "justify_content": "flex-end",
       "width": "90%"
      }
     },
     "05eb3e7891b640dd94eff4212a0f207a": {
      "model_module": "@jupyter-widgets/controls",
      "model_module_version": "1.5.0",
      "model_name": "HTMLModel",
      "state": {
       "layout": "IPY_MODEL_ec1d6704e13d4b5aaa45c2b5b1a9d1df",
       "style": "IPY_MODEL_7870f66fe8494a19aadd6049676c25ca",
       "value": "<p>2nd section of space name code</p>"
      }
     },
     "05ff9d94a9894031b8fed845f184893c": {
      "model_module": "@jupyter-widgets/base",
      "model_module_version": "1.2.0",
      "model_name": "LayoutModel",
      "state": {
       "align_items": "stretch",
       "display": "flex",
       "flex_flow": "row",
       "grid_auto_columns": "True",
       "justify_content": "flex-start",
       "width": "80%"
      }
     },
     "060d691e57a641f0a67a7667e9373481": {
      "model_module": "@jupyter-widgets/base",
      "model_module_version": "1.2.0",
      "model_name": "LayoutModel",
      "state": {}
     },
     "0642f035fc5f4000bd65d688c26ec569": {
      "model_module": "@jupyter-widgets/base",
      "model_module_version": "1.2.0",
      "model_name": "LayoutModel",
      "state": {}
     },
     "064840cc007a403e8eb522dafe65c1b1": {
      "model_module": "@jupyter-widgets/output",
      "model_module_version": "1.0.0",
      "model_name": "OutputModel",
      "state": {
       "layout": "IPY_MODEL_db50c08087674cd3b0247226f2926adc"
      }
     },
     "0686866ba80a42299488c3920a3d431e": {
      "model_module": "@jupyter-widgets/controls",
      "model_module_version": "1.5.0",
      "model_name": "HBoxModel",
      "state": {
       "children": [
        "IPY_MODEL_0ccec6bd3b3b465284ac9c70849e6d78"
       ],
       "layout": "IPY_MODEL_53742c9831914266ab3c31ee98bd91ca"
      }
     },
     "06f36e1603d247cba2d5b12cf39bb14b": {
      "model_module": "@jupyter-widgets/controls",
      "model_module_version": "1.5.0",
      "model_name": "HBoxModel",
      "state": {
       "children": [
        "IPY_MODEL_c55bb28f8ce147b0a6da3492dfa26c75"
       ],
       "layout": "IPY_MODEL_48a8fc10df3947a186242f0af139c336"
      }
     },
     "07315559ebce43aaaacabfa81fd1adb8": {
      "model_module": "@jupyter-widgets/controls",
      "model_module_version": "1.5.0",
      "model_name": "DescriptionStyleModel",
      "state": {
       "description_width": ""
      }
     },
     "07320b1b5ae6463bab1fb30ed6e5e6b2": {
      "model_module": "@jupyter-widgets/base",
      "model_module_version": "1.2.0",
      "model_name": "LayoutModel",
      "state": {}
     },
     "073e35daf93d4ac98fa4dbd9892a1e5c": {
      "model_module": "@jupyter-widgets/controls",
      "model_module_version": "1.5.0",
      "model_name": "VBoxModel",
      "state": {
       "children": [
        "IPY_MODEL_f9884fd1df264974974250d9439c9296",
        "IPY_MODEL_f9ca993921ca41a29bec6c16aa5a3f80",
        "IPY_MODEL_1450a7885a914dee893d50d127723fc1",
        "IPY_MODEL_95aa24ac06134b9bafa44fa784139464",
        "IPY_MODEL_b23fd03162944ced8eb90ff050850ffe",
        "IPY_MODEL_0dbe48e50887498ea05cdb8ecfdd5d49"
       ],
       "layout": "IPY_MODEL_7410e90167c14ed29fb44ddf82d07eaf"
      }
     },
     "0740dcafdb2a455bbe0df6ae630c021a": {
      "model_module": "@jupyter-widgets/base",
      "model_module_version": "1.2.0",
      "model_name": "LayoutModel",
      "state": {}
     },
     "076be5ad69ed419098af9f5aaac9ca58": {
      "model_module": "@jupyter-widgets/controls",
      "model_module_version": "1.5.0",
      "model_name": "HBoxModel",
      "state": {
       "children": [
        "IPY_MODEL_84cb282bc3024d8492ac679b006a9ea4",
        "IPY_MODEL_c9fee88b51474023a09720e9df163127"
       ],
       "layout": "IPY_MODEL_2a6792ebaa7043a5871698618b7df786"
      }
     },
     "0788aaec8eae4618bcf84c06d05e73a4": {
      "model_module": "@jupyter-widgets/controls",
      "model_module_version": "1.5.0",
      "model_name": "DescriptionStyleModel",
      "state": {
       "description_width": ""
      }
     },
     "07a7a17b8a3b4a5da14797572ff3a703": {
      "model_module": "@jupyter-widgets/base",
      "model_module_version": "1.2.0",
      "model_name": "LayoutModel",
      "state": {
       "align_items": "stretch",
       "display": "flex",
       "flex_flow": "row",
       "grid_auto_columns": "True",
       "justify_content": "flex-start",
       "width": "80%"
      }
     },
     "07b03a52f8f54193beef8c53343d52c8": {
      "model_module": "@jupyter-widgets/controls",
      "model_module_version": "1.5.0",
      "model_name": "HTMLModel",
      "state": {
       "layout": "IPY_MODEL_bb9ad7c14b0443cc81a0f9c5c333589d",
       "style": "IPY_MODEL_a20b70992d314f42bd7a1201fdab0922",
       "value": "<p>its a foo cake</p>"
      }
     },
     "07be3596db234b44a9a843119eff91d3": {
      "model_module": "@jupyter-widgets/output",
      "model_module_version": "1.0.0",
      "model_name": "OutputModel",
      "state": {
       "layout": "IPY_MODEL_9cc6da205d4d48dcb66930510a7ec872"
      }
     },
     "07c7f0a996f444798a856d7c89b4fd4e": {
      "model_module": "@jupyter-widgets/output",
      "model_module_version": "1.0.0",
      "model_name": "OutputModel",
      "state": {
       "layout": "IPY_MODEL_fb24f4753e1e4724bf7232b7d4723091"
      }
     },
     "07f0e2d4b86e45a8a182b669e4c2e4ea": {
      "model_module": "@jupyter-widgets/controls",
      "model_module_version": "1.5.0",
      "model_name": "RadioButtonsModel",
      "state": {
       "_options_labels": [
        "TEMPLATE: C:\\engDev\\git_mf\\MF_Toolbox\\dev\\mf_scripts\\template_inputs\\inputs-docx_to_pdf.json",
        "PROJECT: C:\\engDev\\git_mf\\ipyrun\\ipyrun\\appdata\\inputs\\inputs-docx_to_pdf.json",
        "PROJECT: C:\\engDev\\git_mf\\ipyrun\\ipyrun\\appdata\\inputs\\archive\\20200610_1134-jg-inputs-docx_to_pdf.json",
        "PROJECT: C:\\engDev\\git_mf\\ipyrun\\ipyrun\\appdata\\inputs\\archive\\20200610_1139-jg-inputs-docx_to_pdf.json",
        "PROJECT: C:\\engDev\\git_mf\\ipyrun\\ipyrun\\appdata\\inputs\\archive\\20200610_1218-jg-inputs-docx_to_pdf.json",
        "PROJECT: C:\\engDev\\git_mf\\ipyrun\\ipyrun\\appdata\\inputs\\archive\\20200610_1220-jg-inputs-docx_to_pdf.json",
        "PROJECT: C:\\engDev\\git_mf\\ipyrun\\ipyrun\\appdata\\inputs\\archive\\20200610_1221-jg-inputs-docx_to_pdf.json",
        "PROJECT: C:\\engDev\\git_mf\\ipyrun\\ipyrun\\appdata\\inputs\\archive\\20200610_1224-jg-inputs-docx_to_pdf.json",
        "PROJECT: C:\\engDev\\git_mf\\ipyrun\\ipyrun\\appdata\\inputs\\archive\\20200610_1225-jg-inputs-docx_to_pdf.json",
        "PROJECT: C:\\engDev\\git_mf\\ipyrun\\ipyrun\\appdata\\inputs\\archive\\20200610_1244-jg-inputs-docx_to_pdf.json",
        "PROJECT: C:\\engDev\\git_mf\\ipyrun\\ipyrun\\appdata\\inputs\\archive\\20200610_1246-jg-inputs-docx_to_pdf.json",
        "PROJECT: C:\\engDev\\git_mf\\ipyrun\\ipyrun\\appdata\\inputs\\archive\\20200610_1419-jg-inputs-docx_to_pdf.json",
        "PROJECT: C:\\engDev\\git_mf\\ipyrun\\ipyrun\\appdata\\inputs\\archive\\20200610_1420-jg-inputs-docx_to_pdf.json",
        "PROJECT: C:\\engDev\\git_mf\\ipyrun\\ipyrun\\appdata\\inputs\\archive\\20200610_1422-jg-inputs-docx_to_pdf.json",
        "PROJECT: C:\\engDev\\git_mf\\ipyrun\\ipyrun\\appdata\\inputs\\archive\\20200610_1425-jg-inputs-docx_to_pdf.json",
        "PROJECT: C:\\engDev\\git_mf\\ipyrun\\ipyrun\\appdata\\inputs\\archive\\20200610_1853-jg-inputs-docx_to_pdf.json",
        "PROJECT: C:\\engDev\\git_mf\\ipyrun\\ipyrun\\appdata\\inputs\\archive\\20200610_1855-jg-inputs-docx_to_pdf.json",
        "PROJECT: C:\\engDev\\git_mf\\ipyrun\\ipyrun\\appdata\\inputs\\archive\\20200611_0748-jg-inputs-docx_to_pdf.json",
        "PROJECT: C:\\engDev\\git_mf\\ipyrun\\ipyrun\\appdata\\inputs\\archive\\20200611_0754-jg-inputs-docx_to_pdf.json",
        "PROJECT: C:\\engDev\\git_mf\\ipyrun\\ipyrun\\appdata\\inputs\\archive\\20200611_0757-jg-inputs-docx_to_pdf.json",
        "PROJECT: C:\\engDev\\git_mf\\ipyrun\\ipyrun\\appdata\\inputs\\archive\\20200616_1026-jg-inputs-docx_to_pdf.json"
       ],
       "index": 0,
       "layout": "IPY_MODEL_f1789903b986459e9dea9bb3b7ecd85f",
       "style": "IPY_MODEL_e00f804f1dfc4b508df8b42e49599aed"
      }
     },
     "0840a340871e41b68c9c3c0a19b0459f": {
      "model_module": "@jupyter-widgets/controls",
      "model_module_version": "1.5.0",
      "model_name": "HBoxModel",
      "state": {
       "children": [
        "IPY_MODEL_c8b3ba7b149049fc9d566a5b00761690"
       ],
       "layout": "IPY_MODEL_810458da6ff0473b9aeec6fd1317eb54"
      }
     },
     "0857d9e806534c358e29c0971e1e5ebd": {
      "model_module": "@jupyter-widgets/base",
      "model_module_version": "1.2.0",
      "model_name": "LayoutModel",
      "state": {
       "align_items": "stretch",
       "display": "flex",
       "flex_flow": "row",
       "grid_auto_columns": "True",
       "justify_content": "flex-start",
       "width": "80%"
      }
     },
     "088e8a8ed41543b9911d3c81998239eb": {
      "model_module": "@jupyter-widgets/base",
      "model_module_version": "1.2.0",
      "model_name": "LayoutModel",
      "state": {}
     },
     "08a81186d1944eeb8de8d8f352e641a3": {
      "model_module": "@jupyter-widgets/controls",
      "model_module_version": "1.5.0",
      "model_name": "DescriptionStyleModel",
      "state": {
       "description_width": ""
      }
     },
     "08bae8c3b3f044a4bb637484fed25870": {
      "model_module": "@jupyter-widgets/controls",
      "model_module_version": "1.5.0",
      "model_name": "HBoxModel",
      "state": {
       "children": [
        "IPY_MODEL_bd5b17ac7c02413e930c98508c4602bd"
       ],
       "layout": "IPY_MODEL_ad91d690ca5e4a908445377f7c3c1455"
      }
     },
     "08cc4a17ab9847f791052c12d38ececa": {
      "model_module": "@jupyter-widgets/controls",
      "model_module_version": "1.5.0",
      "model_name": "TextModel",
      "state": {
       "description": "inputs",
       "disabled": true,
       "layout": "IPY_MODEL_4aa8bb173569424ab58d045904ca0470",
       "style": "IPY_MODEL_e47edffee82742cbabf981303414d77d",
       "value": "C:\\engDev\\git_mf\\ipyrun\\ipyrun\\appdata\\inputs\\inputs-gbxml.json"
      }
     },
     "090cfe843e334a14a90472a0a6c1689d": {
      "model_module": "@jupyter-widgets/controls",
      "model_module_version": "1.5.0",
      "model_name": "HBoxModel",
      "state": {
       "children": [
        "IPY_MODEL_cee977b990a0489d9b6f7ef128b1fd78"
       ],
       "layout": "IPY_MODEL_0c1c879bc7a144539f618386d9114f38"
      }
     },
     "091df59a812b4e4ca0d9aa5235be33db": {
      "model_module": "@jupyter-widgets/output",
      "model_module_version": "1.0.0",
      "model_name": "OutputModel",
      "state": {
       "layout": "IPY_MODEL_3920df3313c9462d987dd6590d2ce4d4"
      }
     },
     "0924f655f65a4fb9af174775ff057d7b": {
      "model_module": "@jupyter-widgets/base",
      "model_module_version": "1.2.0",
      "model_name": "LayoutModel",
      "state": {}
     },
     "0932f81039a24b2093544f3d1cca88dc": {
      "model_module": "@jupyter-widgets/controls",
      "model_module_version": "1.5.0",
      "model_name": "HTMLModel",
      "state": {
       "layout": "IPY_MODEL_b1b745b432894a0988818560acece299",
       "style": "IPY_MODEL_b3e04f2112a74471b064b4af8bf61b22",
       "value": "<p>General Description of the Model</p>"
      }
     },
     "095d4d8c952c435fb6b00c22519d03f7": {
      "model_module": "@jupyter-widgets/base",
      "model_module_version": "1.2.0",
      "model_name": "LayoutModel",
      "state": {}
     },
     "095fae032218485a89aa548a2ab51c7f": {
      "model_module": "@jupyter-widgets/base",
      "model_module_version": "1.2.0",
      "model_name": "LayoutModel",
      "state": {
       "align_items": "stretch",
       "display": "flex",
       "flex_flow": "row",
       "grid_auto_columns": "True",
       "justify_content": "flex-end",
       "width": "90%"
      }
     },
     "09690c00ae244b858dad497c10da9e3d": {
      "model_module": "@jupyter-widgets/controls",
      "model_module_version": "1.5.0",
      "model_name": "DescriptionStyleModel",
      "state": {
       "description_width": ""
      }
     },
     "0980ba95d81f4de4bbbb8e29c7fe3c20": {
      "model_module": "@jupyter-widgets/base",
      "model_module_version": "1.2.0",
      "model_name": "LayoutModel",
      "state": {}
     },
     "0986874f9308456194b1e9bdbe015d72": {
      "model_module": "@jupyter-widgets/controls",
      "model_module_version": "1.5.0",
      "model_name": "DescriptionStyleModel",
      "state": {
       "description_width": ""
      }
     },
     "09a12f6d6e8b451d804cf98e7465f7cf": {
      "model_module": "@jupyter-widgets/base",
      "model_module_version": "1.2.0",
      "model_name": "LayoutModel",
      "state": {
       "align_items": "stretch",
       "display": "flex",
       "flex_flow": "row",
       "grid_auto_columns": "True",
       "justify_content": "flex-start",
       "width": "80%"
      }
     },
     "0a40d870af004ea294048d248e7bab25": {
      "model_module": "@jupyter-widgets/base",
      "model_module_version": "1.2.0",
      "model_name": "LayoutModel",
      "state": {}
     },
     "0a6bb6b380d44c549231e250243ce7cc": {
      "model_module": "@jupyter-widgets/base",
      "model_module_version": "1.2.0",
      "model_name": "LayoutModel",
      "state": {}
     },
     "0a81f5eba86e4ba28672e0cd81ba022c": {
      "model_module": "@jupyter-widgets/base",
      "model_module_version": "1.2.0",
      "model_name": "LayoutModel",
      "state": {}
     },
     "0a92935f83ec4b28b290848b5315fa29": {
      "model_module": "@jupyter-widgets/base",
      "model_module_version": "1.2.0",
      "model_name": "LayoutModel",
      "state": {}
     },
     "0aaff9c8440d4a42ae37aeb485c5c0b4": {
      "model_module": "@jupyter-widgets/controls",
      "model_module_version": "1.5.0",
      "model_name": "DescriptionStyleModel",
      "state": {
       "description_width": ""
      }
     },
     "0adfdf035bc84c248d6e86a7c9a412b7": {
      "model_module": "@jupyter-widgets/base",
      "model_module_version": "1.2.0",
      "model_name": "LayoutModel",
      "state": {}
     },
     "0aebbc0f00714f87ab96211c0f40639d": {
      "model_module": "@jupyter-widgets/controls",
      "model_module_version": "1.5.0",
      "model_name": "HBoxModel",
      "state": {
       "children": [
        "IPY_MODEL_43af2ebef81b4c919553ed72d6faa313"
       ],
       "layout": "IPY_MODEL_702b45c3ac24421090445e7ce7e1fd89"
      }
     },
     "0b10a68006c244d9abb6b2166da54852": {
      "model_module": "@jupyter-widgets/controls",
      "model_module_version": "1.5.0",
      "model_name": "HTMLModel",
      "state": {
       "layout": "IPY_MODEL_5063ec551b2c40388119ee2d96eb9a79",
       "style": "IPY_MODEL_9acc759c2c854911a5190b58b8e39c89",
       "value": "<p>its a foo cake</p>"
      }
     },
     "0b1afb92a25945c1b1d792fd3bc55308": {
      "model_module": "@jupyter-widgets/controls",
      "model_module_version": "1.5.0",
      "model_name": "VBoxModel",
      "state": {
       "children": [
        "IPY_MODEL_fb4783d134ad4522a3d4dda3f77270c7",
        "IPY_MODEL_e3c76feed61a4c43bb7ec7dfdd3b0dfd",
        "IPY_MODEL_bad5cdbe25ae4d4eb2d068f5b3ae839e",
        "IPY_MODEL_8416e7e49014411f82d2f0eea767ecba",
        "IPY_MODEL_da923504e25c40dc89ef96f912b07f8c"
       ],
       "layout": "IPY_MODEL_3773b1153b72438c9aa61d3031b9101f"
      }
     },
     "0b36575e8a08445aa9c05a221a153b97": {
      "model_module": "@jupyter-widgets/base",
      "model_module_version": "1.2.0",
      "model_name": "LayoutModel",
      "state": {
       "align_items": "stretch",
       "border": "dashed 0.2px green",
       "display": "flex",
       "flex_flow": "row",
       "grid_auto_columns": "True",
       "justify_content": "flex-start",
       "width": "100%"
      }
     },
     "0b54932b3fea41f1a0b5b1ccbbb6b3d6": {
      "model_module": "@jupyter-widgets/base",
      "model_module_version": "1.2.0",
      "model_name": "LayoutModel",
      "state": {}
     },
     "0b58f2742209445380b809671e8bc739": {
      "model_module": "@jupyter-widgets/controls",
      "model_module_version": "1.5.0",
      "model_name": "ButtonModel",
      "state": {
       "button_style": "success",
       "description": "run",
       "layout": "IPY_MODEL_63efcc79b8c1410fba17c4ef8457f9ae",
       "style": "IPY_MODEL_f453be08ad4640eb89e013d5686581ac",
       "tooltip": "execute the script based on the user inputs"
      }
     },
     "0b7f9a6bfbaf4445a05dbd9f2f5dbbfe": {
      "model_module": "@jupyter-widgets/controls",
      "model_module_version": "1.5.0",
      "model_name": "DescriptionStyleModel",
      "state": {
       "description_width": ""
      }
     },
     "0baa87f73adc4dc78a77911ef3989a75": {
      "model_module": "@jupyter-widgets/controls",
      "model_module_version": "1.5.0",
      "model_name": "DescriptionStyleModel",
      "state": {
       "description_width": ""
      }
     },
     "0bb209524318489690e9d29e22f248ce": {
      "model_module": "@jupyter-widgets/controls",
      "model_module_version": "1.5.0",
      "model_name": "HBoxModel",
      "state": {
       "children": [
        "IPY_MODEL_724565cdf7a346bca324cd866f60e4d0"
       ],
       "layout": "IPY_MODEL_cd74492a3b8a43ae8c878954dafb8790"
      }
     },
     "0c1c879bc7a144539f618386d9114f38": {
      "model_module": "@jupyter-widgets/base",
      "model_module_version": "1.2.0",
      "model_name": "LayoutModel",
      "state": {
       "align_items": "stretch",
       "border": "dashed 0.2px green",
       "display": "flex",
       "flex_flow": "row",
       "grid_auto_columns": "True",
       "justify_content": "flex-start",
       "width": "100%"
      }
     },
     "0c3e9c2f5add413b85b0f59d311529b5": {
      "model_module": "@jupyter-widgets/controls",
      "model_module_version": "1.5.0",
      "model_name": "HTMLModel",
      "state": {
       "layout": "IPY_MODEL_8172077eb6cb41ad8c486e34f2786447",
       "style": "IPY_MODEL_3414b94402954bca8a63772d5af6738d",
       "value": "<p>defines the logic of the space naming. use default value where practical.</p>"
      }
     },
     "0c3f1c850768444b9cb1d1971e8d1a77": {
      "model_module": "@jupyter-widgets/output",
      "model_module_version": "1.0.0",
      "model_name": "OutputModel",
      "state": {
       "layout": "IPY_MODEL_ee6abe4674c94567af1d1fee3a82f7d7"
      }
     },
     "0c43f49e9c624331a20f78849c0f208b": {
      "model_module": "@jupyter-widgets/controls",
      "model_module_version": "1.5.0",
      "model_name": "VBoxModel",
      "state": {
       "children": [
        "IPY_MODEL_da7ae0036f714235a72d92a78a3ca5c1",
        "IPY_MODEL_f0632842429241b7b0076cdbf0efeb3a"
       ],
       "layout": "IPY_MODEL_1c83c0d30c1d432c8b8096f1fc0b7d78"
      }
     },
     "0c4e5c9e032d4516b49d59d847bde569": {
      "model_module": "@jupyter-widgets/controls",
      "model_module_version": "1.5.0",
      "model_name": "HBoxModel",
      "state": {
       "children": [
        "IPY_MODEL_216ac0213bd249d2994f4b31e9b22bad",
        "IPY_MODEL_50c4d2eb8bba46a4819559efd91df55b"
       ],
       "layout": "IPY_MODEL_9e510cc00d70408dac433971a48631f5"
      }
     },
     "0c64f9230b4446709214352c562ef75b": {
      "model_module": "@jupyter-widgets/controls",
      "model_module_version": "1.5.0",
      "model_name": "DescriptionStyleModel",
      "state": {
       "description_width": ""
      }
     },
     "0c9ffeaa23c749189db3e0d6fff171e3": {
      "model_module": "@jupyter-widgets/controls",
      "model_module_version": "1.5.0",
      "model_name": "VBoxModel",
      "state": {
       "children": [
        "IPY_MODEL_08cc4a17ab9847f791052c12d38ececa",
        "IPY_MODEL_d870bf10e55d49be95a8c9673a24506d",
        "IPY_MODEL_e66af87b96f74f61a5107ef780dd8de2"
       ],
       "layout": "IPY_MODEL_a8fb7f86f84946dda8ac4b8d60fdba6a"
      }
     },
     "0ccec6bd3b3b465284ac9c70849e6d78": {
      "model_module": "@jupyter-widgets/controls",
      "model_module_version": "1.5.0",
      "model_name": "HBoxModel",
      "state": {
       "children": [
        "IPY_MODEL_82f05b828e1f4e9595d0de69f27cdc10",
        "IPY_MODEL_3e251fdda7a04102b5993a811b0856c1"
       ],
       "layout": "IPY_MODEL_d828e809c2df4f46bf9311dd26813b3e"
      }
     },
     "0cd3c1f671f44894a4df9f322bc7899e": {
      "model_module": "@jupyter-widgets/base",
      "model_module_version": "1.2.0",
      "model_name": "LayoutModel",
      "state": {
       "align_items": "stretch",
       "border": "dashed 0.2px green",
       "display": "flex",
       "flex_flow": "row",
       "grid_auto_columns": "True",
       "justify_content": "flex-start",
       "width": "100%"
      }
     },
     "0d40731d2d1644b7aa95ca444191a511": {
      "model_module": "@jupyter-widgets/controls",
      "model_module_version": "1.5.0",
      "model_name": "VBoxModel",
      "state": {
       "children": [
        "IPY_MODEL_01862b109eec452fbd515f47e1b0d002"
       ],
       "layout": "IPY_MODEL_b7acde42772245db8d1f30e2f427422d"
      }
     },
     "0d5d63578bd3422c9064d6fd69d314fa": {
      "model_module": "@jupyter-widgets/base",
      "model_module_version": "1.2.0",
      "model_name": "LayoutModel",
      "state": {}
     },
     "0d972bad3e9f4d07888431a70b736f0e": {
      "model_module": "@jupyter-widgets/controls",
      "model_module_version": "1.5.0",
      "model_name": "DescriptionStyleModel",
      "state": {
       "description_width": ""
      }
     },
     "0dbe48e50887498ea05cdb8ecfdd5d49": {
      "model_module": "@jupyter-widgets/controls",
      "model_module_version": "1.5.0",
      "model_name": "HBoxModel",
      "state": {
       "children": [
        "IPY_MODEL_c68ab9e5429c45c7a03586c676d82174"
       ],
       "layout": "IPY_MODEL_4008e03d96914a379cd7dfbb2f4e7601"
      }
     },
     "0e20f361fad146a8a242918e275a2986": {
      "model_module": "@jupyter-widgets/controls",
      "model_module_version": "1.5.0",
      "model_name": "HTMLModel",
      "state": {
       "layout": "IPY_MODEL_1b7646facf654054884a80026d39fc50",
       "style": "IPY_MODEL_f95e63ae622d4c13b1d7e445f4495530",
       "value": "<p>Test</p>"
      }
     },
     "0e3f1fb93e034b31be7a07c65c521d3e": {
      "model_module": "@jupyter-widgets/controls",
      "model_module_version": "1.5.0",
      "model_name": "DropdownModel",
      "state": {
       "_options_labels": [
        "asfd",
        "10",
        "asdf"
       ],
       "index": 1,
       "layout": "IPY_MODEL_ab1a6e562dce4881820a0d617d90999b",
       "style": "IPY_MODEL_80b0ff5644b546ac8912504b69855f33"
      }
     },
     "0e4a04fc57d34017933c308a3fc99eab": {
      "model_module": "@jupyter-widgets/controls",
      "model_module_version": "1.5.0",
      "model_name": "DescriptionStyleModel",
      "state": {
       "description_width": ""
      }
     },
     "0e63f2e365454678ad1b7fdada8e9586": {
      "model_module": "@jupyter-widgets/base",
      "model_module_version": "1.2.0",
      "model_name": "LayoutModel",
      "state": {}
     },
     "0e97293a08fc41a48ab36b0a540c06f7": {
      "model_module": "@jupyter-widgets/controls",
      "model_module_version": "1.5.0",
      "model_name": "ToggleButtonModel",
      "state": {
       "icon": "arrow-down",
       "layout": "IPY_MODEL_e9b6f764697646109c085fc514a3fb82",
       "style": "IPY_MODEL_1595c7c7f5e0443c9280499496fe09b6"
      }
     },
     "0e9d64d496914da291a9281c32e4b2ab": {
      "model_module": "@jupyter-widgets/base",
      "model_module_version": "1.2.0",
      "model_name": "LayoutModel",
      "state": {
       "width": "5%"
      }
     },
     "0ea41d66236447d79a9f13f6b33779c1": {
      "model_module": "@jupyter-widgets/controls",
      "model_module_version": "1.5.0",
      "model_name": "VBoxModel",
      "state": {
       "children": [
        "IPY_MODEL_22e80863e9064332be01b6898679d38c",
        "IPY_MODEL_d65b4d5ac1654d74828db72f79cd36c0",
        "IPY_MODEL_dbb8317dff88491bbd58be8b05cf3908",
        "IPY_MODEL_3d6c19e05cdb4f21a6789f358a96cd02",
        "IPY_MODEL_a0987e89d17c461d8c311753a3414c42",
        "IPY_MODEL_6d9875d6f1f043f0b20ba288e910818b"
       ],
       "layout": "IPY_MODEL_888135bdc4234378b29c2d6392f8a879"
      }
     },
     "0ee6310050de4cbda498c3c21931420c": {
      "model_module": "@jupyter-widgets/controls",
      "model_module_version": "1.5.0",
      "model_name": "VBoxModel",
      "state": {
       "children": [
        "IPY_MODEL_bb36df8a967f479bb699344ea74dd468",
        "IPY_MODEL_a442061f7ec74f6990f9cc7de625d5d8",
        "IPY_MODEL_0aebbc0f00714f87ab96211c0f40639d",
        "IPY_MODEL_dffff0fcb3d14d1a997c4e4ce8f02228",
        "IPY_MODEL_08bae8c3b3f044a4bb637484fed25870"
       ],
       "layout": "IPY_MODEL_e62ccc34f81e4054a02385b171742f20"
      }
     },
     "0ef56ada0b2247588d01ea110258f129": {
      "model_module": "@jupyter-widgets/controls",
      "model_module_version": "1.5.0",
      "model_name": "TextModel",
      "state": {
       "layout": "IPY_MODEL_e76598053e1a47aebd62e5567381e063",
       "style": "IPY_MODEL_826747fe3b34418c84a2d91f1b7160f1",
       "value": "C:\\engDev\\git_mf\\MF_Toolbox\\dev\\examples\\gbxml\\105_LiveseyExchange_heatpump-normal-fabric.xml"
      }
     },
     "0f2061eeb05046bcb22c03cc927a045f": {
      "model_module": "@jupyter-widgets/base",
      "model_module_version": "1.2.0",
      "model_name": "LayoutModel",
      "state": {
       "align_items": "stretch",
       "display": "flex",
       "flex_flow": "row",
       "grid_auto_columns": "True",
       "justify_content": "flex-end",
       "width": "90%"
      }
     },
     "0f315f4ed6ad44a5a74f6234ca750fcb": {
      "model_module": "@jupyter-widgets/base",
      "model_module_version": "1.2.0",
      "model_name": "LayoutModel",
      "state": {
       "align_items": "stretch",
       "display": "flex",
       "flex_flow": "row",
       "grid_auto_columns": "True",
       "justify_content": "flex-start",
       "width": "80%"
      }
     },
     "0f577023f57448ee9322464b88d35dca": {
      "model_module": "@jupyter-widgets/controls",
      "model_module_version": "1.5.0",
      "model_name": "HBoxModel",
      "state": {
       "children": [
        "IPY_MODEL_51ca8c35d75440a59e0a9c57645f1749",
        "IPY_MODEL_07b03a52f8f54193beef8c53343d52c8"
       ],
       "layout": "IPY_MODEL_920fdfd2605342f696bbd3d7851650d5"
      }
     },
     "0f6d4e8fe9d24d29a2ce8a2d2668efb9": {
      "model_module": "@jupyter-widgets/base",
      "model_module_version": "1.2.0",
      "model_name": "LayoutModel",
      "state": {}
     },
     "0f6e48f5cb1a4b88b57cca5e394387b1": {
      "model_module": "@jupyter-widgets/controls",
      "model_module_version": "1.5.0",
      "model_name": "HTMLModel",
      "state": {
       "layout": "IPY_MODEL_44ebc825b14e4765a2613cc9631fe93d",
       "style": "IPY_MODEL_efa1ec0fae34435aa2caf31231c3b539",
       "value": "<p>label</p>"
      }
     },
     "0fa3c9236f3548ca921000c827f75a3f": {
      "model_module": "@jupyter-widgets/output",
      "model_module_version": "1.0.0",
      "model_name": "OutputModel",
      "state": {
       "layout": "IPY_MODEL_f716072146164fe4bf41d24c7d84e130"
      }
     },
     "0fb4d358ffee4fdbb84d37cdbaf883d3": {
      "model_module": "@jupyter-widgets/controls",
      "model_module_version": "1.5.0",
      "model_name": "ToggleButtonModel",
      "state": {
       "button_style": "info",
       "description": "inputs from file",
       "layout": "IPY_MODEL_0b54932b3fea41f1a0b5b1ccbbb6b3d6",
       "style": "IPY_MODEL_e87616aa237d426a9d1dfb9c4114e4b3"
      }
     },
     "0fff611d348e496e926be8a1adc66ebf": {
      "model_module": "@jupyter-widgets/base",
      "model_module_version": "1.2.0",
      "model_name": "LayoutModel",
      "state": {}
     },
     "102bb4e962294cd3982cb10e84d91883": {
      "model_module": "@jupyter-widgets/base",
      "model_module_version": "1.2.0",
      "model_name": "LayoutModel",
      "state": {
       "align_items": "stretch",
       "display": "flex",
       "flex_flow": "row",
       "grid_auto_columns": "True",
       "justify_content": "flex-end",
       "width": "90%"
      }
     },
     "103c4acd362448149b8f22abd08b3ab8": {
      "model_module": "@jupyter-widgets/controls",
      "model_module_version": "1.5.0",
      "model_name": "ButtonModel",
      "state": {
       "icon": "eye-slash",
       "layout": "IPY_MODEL_fd377bdd0ee84843931fd9f1b737a5b3",
       "style": "IPY_MODEL_7e2557947f7b441fb1ebbc666e10e3ce",
       "tooltip": "removes temporary output view"
      }
     },
     "105d317d4c3e4f52971269d597f015ed": {
      "model_module": "@jupyter-widgets/controls",
      "model_module_version": "1.5.0",
      "model_name": "DescriptionStyleModel",
      "state": {
       "description_width": ""
      }
     },
     "10897c458f7e4bdca1384cd031cbb990": {
      "model_module": "@jupyter-widgets/base",
      "model_module_version": "1.2.0",
      "model_name": "LayoutModel",
      "state": {
       "align_items": "stretch",
       "border": "dashed 0.2px green",
       "display": "flex",
       "flex_flow": "row",
       "grid_auto_columns": "True",
       "justify_content": "flex-start",
       "width": "100%"
      }
     },
     "10c1d59b891842c69e0ae4a1c16710a6": {
      "model_module": "@jupyter-widgets/controls",
      "model_module_version": "1.5.0",
      "model_name": "DescriptionStyleModel",
      "state": {
       "description_width": ""
      }
     },
     "10c6a44889d44c47bd1af246d8f6a2f5": {
      "model_module": "@jupyter-widgets/output",
      "model_module_version": "1.0.0",
      "model_name": "OutputModel",
      "state": {
       "layout": "IPY_MODEL_3abf2127a71748a29969e31b7aaca21e"
      }
     },
     "110ae895684445598cc80d3d610bef49": {
      "model_module": "@jupyter-widgets/output",
      "model_module_version": "1.0.0",
      "model_name": "OutputModel",
      "state": {
       "layout": "IPY_MODEL_3ee4b54c202648a0ace5e51e349efd6d"
      }
     },
     "112fd63cf1004ef0b08cd6fa071d9460": {
      "model_module": "@jupyter-widgets/controls",
      "model_module_version": "1.5.0",
      "model_name": "HBoxModel",
      "state": {
       "children": [
        "IPY_MODEL_b2e13fbf953c4ed2b415a65be789d358",
        "IPY_MODEL_78f9646b60884b18a94194b7b4e4a3a8"
       ],
       "layout": "IPY_MODEL_f019a06b3b0d4c9daedb4aae3b5545b0"
      }
     },
     "116236560fc649d89fedcbe1af821bd0": {
      "model_module": "@jupyter-widgets/output",
      "model_module_version": "1.0.0",
      "model_name": "OutputModel",
      "state": {
       "layout": "IPY_MODEL_7d748bc9514b41d2b960ee99dff4af98"
      }
     },
     "118cccf3c2c4435595c821e9b62e0d1c": {
      "model_module": "@jupyter-widgets/base",
      "model_module_version": "1.2.0",
      "model_name": "LayoutModel",
      "state": {}
     },
     "11e0226e344d45a6a191db211c3d7aa6": {
      "model_module": "@jupyter-widgets/base",
      "model_module_version": "1.2.0",
      "model_name": "LayoutModel",
      "state": {
       "align_items": "stretch",
       "display": "flex",
       "flex_flow": "row",
       "grid_auto_columns": "True",
       "justify_content": "flex-start",
       "width": "80%"
      }
     },
     "11f194ff80664b4d805e6d420a1b8f58": {
      "model_module": "@jupyter-widgets/base",
      "model_module_version": "1.2.0",
      "model_name": "LayoutModel",
      "state": {
       "align_items": "stretch",
       "display": "flex",
       "flex_flow": "row",
       "grid_auto_columns": "True",
       "justify_content": "flex-end",
       "width": "90%"
      }
     },
     "122bbce5787b4b2a94a75a1046c63b4f": {
      "model_module": "@jupyter-widgets/base",
      "model_module_version": "1.2.0",
      "model_name": "LayoutModel",
      "state": {}
     },
     "12450d865109404485d0c1a20db2fdaa": {
      "model_module": "@jupyter-widgets/base",
      "model_module_version": "1.2.0",
      "model_name": "LayoutModel",
      "state": {
       "align_items": "stretch",
       "display": "flex",
       "flex_flow": "row",
       "grid_auto_columns": "True",
       "justify_content": "flex-end",
       "width": "90%"
      }
     },
     "124e74167fb345c2b32a197f1e4713b1": {
      "model_module": "@jupyter-widgets/controls",
      "model_module_version": "1.5.0",
      "model_name": "HTMLModel",
      "state": {
       "layout": "IPY_MODEL_f84345e2f421468581af68c8d1610642",
       "style": "IPY_MODEL_e579d3773cb34b0396a96885d8c7f96a",
       "value": "<p>edit user input form below</p>"
      }
     },
     "134fe0fed5c1444491de64ce259f07c6": {
      "model_module": "@jupyter-widgets/controls",
      "model_module_version": "1.5.0",
      "model_name": "HTMLModel",
      "state": {
       "layout": "IPY_MODEL_d8c6b3f8a82740fdaf79c2161f0b5148",
       "style": "IPY_MODEL_09690c00ae244b858dad497c10da9e3d",
       "value": "<p>its a delicious foo cake</p>"
      }
     },
     "13565bf7896c4534ba76b8f5a767eb5f": {
      "model_module": "@jupyter-widgets/controls",
      "model_module_version": "1.5.0",
      "model_name": "DescriptionStyleModel",
      "state": {
       "description_width": ""
      }
     },
     "1359ec97ded9496396a0b708c942907a": {
      "model_module": "@jupyter-widgets/controls",
      "model_module_version": "1.5.0",
      "model_name": "HTMLModel",
      "state": {
       "layout": "IPY_MODEL_e2effc0c146f4064af520ff682d5bf25",
       "style": "IPY_MODEL_7948e15fa7c24a7c80700f6933c57431",
       "value": "<p>foo</p>"
      }
     },
     "137996008c234dc38249963aed08bd90": {
      "model_module": "@jupyter-widgets/base",
      "model_module_version": "1.2.0",
      "model_name": "LayoutModel",
      "state": {}
     },
     "138c7e7cbe744c10bbc20f59f8e4cf77": {
      "model_module": "@jupyter-widgets/controls",
      "model_module_version": "1.5.0",
      "model_name": "DescriptionStyleModel",
      "state": {
       "description_width": ""
      }
     },
     "139f3a22b22246cbac6580390b90f24b": {
      "model_module": "@jupyter-widgets/output",
      "model_module_version": "1.0.0",
      "model_name": "OutputModel",
      "state": {
       "layout": "IPY_MODEL_a84b215664794e7d889d86a8155737f2"
      }
     },
     "13e1458da6f74b5d8bfb478dcdf2b3d5": {
      "model_module": "@jupyter-widgets/base",
      "model_module_version": "1.2.0",
      "model_name": "LayoutModel",
      "state": {}
     },
     "13f8e7dae79d4d738f66902bfab35875": {
      "model_module": "@jupyter-widgets/controls",
      "model_module_version": "1.5.0",
      "model_name": "HBoxModel",
      "state": {
       "children": [
        "IPY_MODEL_2915413983a940f185f212d5ad49f154"
       ],
       "layout": "IPY_MODEL_1e62c98443404d79ac782e93d65242d6"
      }
     },
     "1408975a3c3c422982004a541d2269df": {
      "model_module": "@jupyter-widgets/base",
      "model_module_version": "1.2.0",
      "model_name": "LayoutModel",
      "state": {}
     },
     "1433fc62effd4fd187e31436acd0f77c": {
      "model_module": "@jupyter-widgets/controls",
      "model_module_version": "1.5.0",
      "model_name": "VBoxModel",
      "state": {
       "layout": "IPY_MODEL_f745a02fcd0c494888204af73df312f6"
      }
     },
     "14442dabf3604046a09675876d45ed29": {
      "model_module": "@jupyter-widgets/base",
      "model_module_version": "1.2.0",
      "model_name": "LayoutModel",
      "state": {
       "align_items": "stretch",
       "display": "flex",
       "flex_flow": "row",
       "grid_auto_columns": "True",
       "justify_content": "flex-end",
       "width": "90%"
      }
     },
     "144d31e9151f4c759a73044c27cb57dd": {
      "model_module": "@jupyter-widgets/base",
      "model_module_version": "1.2.0",
      "model_name": "LayoutModel",
      "state": {}
     },
     "1450a7885a914dee893d50d127723fc1": {
      "model_module": "@jupyter-widgets/controls",
      "model_module_version": "1.5.0",
      "model_name": "HBoxModel",
      "state": {
       "children": [
        "IPY_MODEL_a51d6f3c02c04d5ca91207fd3e0559f0"
       ],
       "layout": "IPY_MODEL_72b0ab9a82764b648b580682152b5984"
      }
     },
     "146813779edc4ac69e37e2785ab5d54e": {
      "model_module": "@jupyter-widgets/controls",
      "model_module_version": "1.5.0",
      "model_name": "ButtonModel",
      "state": {
       "description": "save",
       "layout": "IPY_MODEL_7dd9aefc8dbf4a18b66dbc99657dde96",
       "style": "IPY_MODEL_5ddf556cd34d428084470bd80f1c8e80"
      }
     },
     "14701b437c2e4bd6b9f7953b1acb390a": {
      "model_module": "@jupyter-widgets/output",
      "model_module_version": "1.0.0",
      "model_name": "OutputModel",
      "state": {
       "layout": "IPY_MODEL_b191a601cd374a8388ef3ca3c1d989b6"
      }
     },
     "1498672cb56245a38d3bbe58d6d8f033": {
      "model_module": "@jupyter-widgets/base",
      "model_module_version": "1.2.0",
      "model_name": "LayoutModel",
      "state": {}
     },
     "15744b7d2187498ca9197b2b0ab2ed64": {
      "model_module": "@jupyter-widgets/controls",
      "model_module_version": "1.5.0",
      "model_name": "HTMLModel",
      "state": {
       "layout": "IPY_MODEL_01241eb1add54a17b543c9838868461a",
       "style": "IPY_MODEL_e2d2ab3ac7984326b8d1dbd4f79bfe09",
       "value": "<p>defines the logic of the space naming. use default value where practical.</p>"
      }
     },
     "157e969538bc494cadfff424b3cfd2e1": {
      "model_module": "@jupyter-widgets/controls",
      "model_module_version": "1.5.0",
      "model_name": "HBoxModel",
      "state": {
       "children": [
        "IPY_MODEL_680860b1c9594bd4a1649ccd6798e776"
       ],
       "layout": "IPY_MODEL_291d09031bf444e9a4620b4fa3934070"
      }
     },
     "1595c7c7f5e0443c9280499496fe09b6": {
      "model_module": "@jupyter-widgets/controls",
      "model_module_version": "1.5.0",
      "model_name": "DescriptionStyleModel",
      "state": {
       "description_width": ""
      }
     },
     "15d0f1e8461b48ddba0ed0e8a4f340a4": {
      "model_module": "@jupyter-widgets/controls",
      "model_module_version": "1.5.0",
      "model_name": "HTMLModel",
      "state": {
       "layout": "IPY_MODEL_2a87296de2894e14893b376344229312",
       "style": "IPY_MODEL_9ed75cfe139d4a01a2f6ca60286fd877",
       "value": "<p>3</p>"
      }
     },
     "15d976abab1142bda5c03be07223cfa5": {
      "model_module": "@jupyter-widgets/controls",
      "model_module_version": "1.5.0",
      "model_name": "DescriptionStyleModel",
      "state": {
       "description_width": ""
      }
     },
     "15d982b5f6494cbcae6856a34c021fc3": {
      "model_module": "@jupyter-widgets/controls",
      "model_module_version": "1.5.0",
      "model_name": "HBoxModel",
      "state": {
       "children": [
        "IPY_MODEL_a70ffccaba2b44f884095f3811b3dde2",
        "IPY_MODEL_f2f648d65e864803866d8675c6f5c7c6"
       ],
       "layout": "IPY_MODEL_2f5ef85a6ca844538f80f46391a30bcf"
      }
     },
     "15dced10e34d4c73813cdee872eacf02": {
      "model_module": "@jupyter-widgets/base",
      "model_module_version": "1.2.0",
      "model_name": "LayoutModel",
      "state": {
       "align_items": "stretch",
       "border": "dashed 0.2px green",
       "display": "flex",
       "flex_flow": "row",
       "grid_auto_columns": "True",
       "justify_content": "flex-start",
       "width": "100%"
      }
     },
     "15e2803754fa4d3a8fbffe2455b7d46a": {
      "model_module": "@jupyter-widgets/controls",
      "model_module_version": "1.5.0",
      "model_name": "HBoxModel",
      "state": {
       "children": [
        "IPY_MODEL_ac2f1b67056a4fa88136de82076ce6a3",
        "IPY_MODEL_871d83fb18aa4481b9424ab7b5b2c724"
       ],
       "layout": "IPY_MODEL_5680922c16224c5b82d5b260d706dafa"
      }
     },
     "15e6185877f74bcab28321f3ce94f446": {
      "model_module": "@jupyter-widgets/controls",
      "model_module_version": "1.5.0",
      "model_name": "DescriptionStyleModel",
      "state": {
       "description_width": ""
      }
     },
     "1624752e75934c7d8d1e51d8e6efdf55": {
      "model_module": "@jupyter-widgets/controls",
      "model_module_version": "1.5.0",
      "model_name": "TextModel",
      "state": {
       "layout": "IPY_MODEL_9dd8e9884431474cb28077ae53252e42",
       "style": "IPY_MODEL_323176c107624cb7850446bd41748853",
       "value": "TM46Category"
      }
     },
     "162d4c1bd606425f818d4067b68473ff": {
      "model_module": "@jupyter-widgets/controls",
      "model_module_version": "1.5.0",
      "model_name": "HBoxModel",
      "state": {
       "children": [
        "IPY_MODEL_1a1be4f996a740ef9a5b8655f53a912f",
        "IPY_MODEL_f2d2c5f494c2434c9f9f4d87545d2b48"
       ],
       "layout": "IPY_MODEL_5006cc19d9e1432286b13f423547143c"
      }
     },
     "1634058cc88d4edb82e8e52c0fdf558b": {
      "model_module": "@jupyter-widgets/base",
      "model_module_version": "1.2.0",
      "model_name": "LayoutModel",
      "state": {}
     },
     "165966ab13934ddb9053e03cd78ea7ae": {
      "model_module": "@jupyter-widgets/base",
      "model_module_version": "1.2.0",
      "model_name": "LayoutModel",
      "state": {}
     },
     "167d880028b54e4fb30e5531efb44474": {
      "model_module": "@jupyter-widgets/base",
      "model_module_version": "1.2.0",
      "model_name": "LayoutModel",
      "state": {}
     },
     "16a1150d456941379cf77c703434648c": {
      "model_module": "@jupyter-widgets/base",
      "model_module_version": "1.2.0",
      "model_name": "LayoutModel",
      "state": {}
     },
     "16afeb05bc484b699da43c995f88e8d9": {
      "model_module": "@jupyter-widgets/controls",
      "model_module_version": "1.5.0",
      "model_name": "HBoxModel",
      "state": {
       "children": [
        "IPY_MODEL_697e3130b0ad4b6787123b6763610cd0",
        "IPY_MODEL_2b5d04b14e124c958fd77e6f25ec0ad1"
       ],
       "layout": "IPY_MODEL_1c1444222c5741b3b7081b95f378e46a"
      }
     },
     "16e7efde78594cf7a307b55f0f798a90": {
      "model_module": "@jupyter-widgets/controls",
      "model_module_version": "1.5.0",
      "model_name": "VBoxModel",
      "state": {
       "children": [
        "IPY_MODEL_8cf7424a3c2148068636391df207e3b8",
        "IPY_MODEL_9583744e48c14be38423a2b44c10f2ad",
        "IPY_MODEL_ba2405f1b3c54c788a0e670dbe1281f6",
        "IPY_MODEL_8c3f995510134800afb8ceb0093683f5",
        "IPY_MODEL_eb047bcb8a844ccdb7cd04c2e41d795f",
        "IPY_MODEL_157e969538bc494cadfff424b3cfd2e1",
        "IPY_MODEL_a6f2364c90d5401fa2a274540a119e79",
        "IPY_MODEL_090cfe843e334a14a90472a0a6c1689d"
       ],
       "layout": "IPY_MODEL_955a89b82b094b21b8b46d841fd122a6"
      }
     },
     "16fdad7641b34a778d178b29332a230b": {
      "model_module": "@jupyter-widgets/base",
      "model_module_version": "1.2.0",
      "model_name": "LayoutModel",
      "state": {
       "align_items": "stretch",
       "border": "dashed 0.2px green",
       "display": "flex",
       "flex_flow": "row",
       "grid_auto_columns": "True",
       "justify_content": "flex-start",
       "width": "100%"
      }
     },
     "1747f62398a7424284639727b9e4d8df": {
      "model_module": "@jupyter-widgets/base",
      "model_module_version": "1.2.0",
      "model_name": "LayoutModel",
      "state": {}
     },
     "1756b93917314c6da4a2bbcf5abd206f": {
      "model_module": "@jupyter-widgets/controls",
      "model_module_version": "1.5.0",
      "model_name": "DescriptionStyleModel",
      "state": {
       "description_width": ""
      }
     },
     "17d7ffd5c05b4e5796e32c0fb8d18b4e": {
      "model_module": "@jupyter-widgets/controls",
      "model_module_version": "1.5.0",
      "model_name": "DescriptionStyleModel",
      "state": {
       "description_width": ""
      }
     },
     "18123ddc458e4d578a4605089139f491": {
      "model_module": "@jupyter-widgets/base",
      "model_module_version": "1.2.0",
      "model_name": "LayoutModel",
      "state": {
       "align_items": "stretch",
       "display": "flex",
       "flex_flow": "row",
       "grid_auto_columns": "True",
       "justify_content": "flex-start",
       "width": "80%"
      }
     },
     "18bbc5534d614131aa39c101c15ab5fd": {
      "model_module": "@jupyter-widgets/controls",
      "model_module_version": "1.5.0",
      "model_name": "ButtonStyleModel",
      "state": {}
     },
     "18de2951df45482f961ffae3b765e55e": {
      "model_module": "@jupyter-widgets/base",
      "model_module_version": "1.2.0",
      "model_name": "LayoutModel",
      "state": {
       "align_items": "stretch",
       "border": "dashed 0.2px green",
       "display": "flex",
       "flex_flow": "row",
       "grid_auto_columns": "True",
       "justify_content": "flex-start",
       "width": "100%"
      }
     },
     "19081d8b07b24989984d4ca0fcf38bfa": {
      "model_module": "@jupyter-widgets/base",
      "model_module_version": "1.2.0",
      "model_name": "LayoutModel",
      "state": {}
     },
     "195d05c52c5940d2a08d36a53fbc3934": {
      "model_module": "@jupyter-widgets/controls",
      "model_module_version": "1.5.0",
      "model_name": "HBoxModel",
      "state": {
       "children": [
        "IPY_MODEL_2102d7dad3c441988137eeb2e48bfda3"
       ],
       "layout": "IPY_MODEL_47e3311363674a1f84534a32e8b9fe49"
      }
     },
     "197409ded8a0444890a6220756db5e3b": {
      "model_module": "@jupyter-widgets/base",
      "model_module_version": "1.2.0",
      "model_name": "LayoutModel",
      "state": {}
     },
     "19e513ca3eb342ed8b9068a8f4e22137": {
      "model_module": "@jupyter-widgets/base",
      "model_module_version": "1.2.0",
      "model_name": "LayoutModel",
      "state": {}
     },
     "1a11936ba67e46e38c64d84655dff2d8": {
      "model_module": "@jupyter-widgets/controls",
      "model_module_version": "1.5.0",
      "model_name": "HBoxModel",
      "state": {
       "children": [
        "IPY_MODEL_72a3b3aad4fb45a49c4e651c5ef6fcc0",
        "IPY_MODEL_e17c8e483fc84e08ad39b53b800b44dd"
       ],
       "layout": "IPY_MODEL_db78929c0f6d413d973a0cfd8bdbb2e9"
      }
     },
     "1a1be4f996a740ef9a5b8655f53a912f": {
      "model_module": "@jupyter-widgets/controls",
      "model_module_version": "1.5.0",
      "model_name": "CheckboxModel",
      "state": {
       "disabled": false,
       "layout": "IPY_MODEL_bdd5cc500e72479ab9340e478dbce863",
       "style": "IPY_MODEL_6d8a2cf3bc114e1487a087e2586a0aa4",
       "value": false
      }
     },
     "1a6684aa4d764ea88cec79feb665cfda": {
      "model_module": "@jupyter-widgets/controls",
      "model_module_version": "1.5.0",
      "model_name": "ButtonStyleModel",
      "state": {
       "font_weight": "bold"
      }
     },
     "1ad2241472114a9ca1ec00e44dad83a8": {
      "model_module": "@jupyter-widgets/controls",
      "model_module_version": "1.5.0",
      "model_name": "HBoxModel",
      "state": {
       "children": [
        "IPY_MODEL_bf69162e244147d48ab3018f908b2234",
        "IPY_MODEL_acec1604a9ee4b80a27b45a45eff1957",
        "IPY_MODEL_99b033b8742e42388f960700f2c02d62"
       ],
       "layout": "IPY_MODEL_34b98793a9cf4d2dbd3921fd76747362"
      }
     },
     "1b14f7cf777644a7ab04895d7c4e25a4": {
      "model_module": "@jupyter-widgets/output",
      "model_module_version": "1.0.0",
      "model_name": "OutputModel",
      "state": {
       "layout": "IPY_MODEL_83f68969c2614bf19565fff4b0af37b4"
      }
     },
     "1b290d6eda794fb5aa3aee9483239a83": {
      "model_module": "@jupyter-widgets/controls",
      "model_module_version": "1.5.0",
      "model_name": "DescriptionStyleModel",
      "state": {
       "description_width": ""
      }
     },
     "1b3b82254e1d4e06a234dbee1d280a89": {
      "model_module": "@jupyter-widgets/controls",
      "model_module_version": "1.5.0",
      "model_name": "HTMLModel",
      "state": {
       "layout": "IPY_MODEL_747e0178cc4140f4aab9d09d3058ecef",
       "style": "IPY_MODEL_be7524300aed4d7eb2fef36b7d8c9f18",
       "value": "<p>its a foo cake</p>"
      }
     },
     "1b7646facf654054884a80026d39fc50": {
      "model_module": "@jupyter-widgets/base",
      "model_module_version": "1.2.0",
      "model_name": "LayoutModel",
      "state": {}
     },
     "1b7e164c625e44a79210c1a873239424": {
      "model_module": "@jupyter-widgets/base",
      "model_module_version": "1.2.0",
      "model_name": "LayoutModel",
      "state": {}
     },
     "1b93cd69a5e54ea8aab97045e01e8fa7": {
      "model_module": "@jupyter-widgets/controls",
      "model_module_version": "1.5.0",
      "model_name": "DescriptionStyleModel",
      "state": {
       "description_width": ""
      }
     },
     "1bb46504be0041b4b86f28ebb912385b": {
      "model_module": "@jupyter-widgets/controls",
      "model_module_version": "1.5.0",
      "model_name": "HBoxModel",
      "state": {
       "children": [
        "IPY_MODEL_44defa461a9543fa806a4c60588b2ba3",
        "IPY_MODEL_7fce1e15089249f19bf714bc2765c0a3"
       ],
       "layout": "IPY_MODEL_df98843268c541518c49161118c48685"
      }
     },
     "1c031506f7c74528bc3ed8d5a3d9fc90": {
      "model_module": "@jupyter-widgets/base",
      "model_module_version": "1.2.0",
      "model_name": "LayoutModel",
      "state": {
       "align_items": "stretch",
       "border": "dashed 0.2px green",
       "display": "flex",
       "flex_flow": "row",
       "grid_auto_columns": "True",
       "justify_content": "flex-start",
       "width": "100%"
      }
     },
     "1c1444222c5741b3b7081b95f378e46a": {
      "model_module": "@jupyter-widgets/base",
      "model_module_version": "1.2.0",
      "model_name": "LayoutModel",
      "state": {
       "align_items": "stretch",
       "display": "flex",
       "flex_flow": "row",
       "grid_auto_columns": "True",
       "justify_content": "flex-start",
       "width": "80%"
      }
     },
     "1c4104d8ee854a09810c38754c584b57": {
      "model_module": "@jupyter-widgets/base",
      "model_module_version": "1.2.0",
      "model_name": "LayoutModel",
      "state": {}
     },
     "1c83c0d30c1d432c8b8096f1fc0b7d78": {
      "model_module": "@jupyter-widgets/base",
      "model_module_version": "1.2.0",
      "model_name": "LayoutModel",
      "state": {}
     },
     "1cb0bf03ca3e41c9af0694481011e3f1": {
      "model_module": "@jupyter-widgets/controls",
      "model_module_version": "1.5.0",
      "model_name": "TextModel",
      "state": {
       "layout": "IPY_MODEL_691c067c24eb496ba9318103badfc0a8",
       "style": "IPY_MODEL_0b7f9a6bfbaf4445a05dbd9f2f5dbbfe",
       "value": "YY-Odf"
      }
     },
     "1ce1c4d091d348f287f2ca9af7e8eb5d": {
      "model_module": "@jupyter-widgets/output",
      "model_module_version": "1.0.0",
      "model_name": "OutputModel",
      "state": {
       "layout": "IPY_MODEL_0a6bb6b380d44c549231e250243ce7cc",
       "outputs": [
        {
         "data": {
          "application/vnd.jupyter.widget-view+json": {
           "model_id": "",
           "version_major": 2,
           "version_minor": 0
          },
          "text/plain": "Output()"
         },
         "metadata": {},
         "output_type": "display_data"
        }
       ]
      }
     },
     "1ceb7b1e8b6b4827b8a54f22c9788993": {
      "model_module": "@jupyter-widgets/controls",
      "model_module_version": "1.5.0",
      "model_name": "HBoxModel",
      "state": {
       "children": [
        "IPY_MODEL_70f5f19e20b64bed8e3dae467f680401",
        "IPY_MODEL_75b2b1fda0b349e2851a05b9be263dc6"
       ],
       "layout": "IPY_MODEL_9d3c8a9d7d4f4f149e7721fa2b0b4538"
      }
     },
     "1d31546ba6924ccb8bc4a45e35735ac8": {
      "model_module": "@jupyter-widgets/controls",
      "model_module_version": "1.5.0",
      "model_name": "ButtonStyleModel",
      "state": {
       "font_weight": "bold"
      }
     },
     "1d458c9fa3704074ac1497c2b79bf65b": {
      "model_module": "@jupyter-widgets/controls",
      "model_module_version": "1.5.0",
      "model_name": "HBoxModel",
      "state": {
       "children": [
        "IPY_MODEL_e6549c2e9a6044a88011aa198f999522",
        "IPY_MODEL_0c3e9c2f5add413b85b0f59d311529b5"
       ],
       "layout": "IPY_MODEL_c2ca3a0dd42341549cf533ac2e475532"
      }
     },
     "1d4d3cb0f22043debe6eb45b5b2bc8c3": {
      "model_module": "@jupyter-widgets/controls",
      "model_module_version": "1.5.0",
      "model_name": "HTMLModel",
      "state": {
       "layout": "IPY_MODEL_59422767bf404860b46d71d321cd68c4",
       "style": "IPY_MODEL_a21dd743eb9643008e32287da4311b30",
       "value": "<p>label</p>"
      }
     },
     "1d93f09b97284707bfbddec74287e3b0": {
      "model_module": "@jupyter-widgets/base",
      "model_module_version": "1.2.0",
      "model_name": "LayoutModel",
      "state": {
       "align_items": "stretch",
       "border": "dashed 0.2px green",
       "display": "flex",
       "flex_flow": "row",
       "grid_auto_columns": "True",
       "justify_content": "flex-start",
       "width": "100%"
      }
     },
     "1da0097e497242b4b0b9fdceed721328": {
      "model_module": "@jupyter-widgets/controls",
      "model_module_version": "1.5.0",
      "model_name": "DescriptionStyleModel",
      "state": {
       "description_width": ""
      }
     },
     "1dba66ec45b24126948edf2aa493030a": {
      "model_module": "@jupyter-widgets/output",
      "model_module_version": "1.0.0",
      "model_name": "OutputModel",
      "state": {
       "layout": "IPY_MODEL_1498672cb56245a38d3bbe58d6d8f033"
      }
     },
     "1dc08363f96540b89666ddbc6a505313": {
      "model_module": "@jupyter-widgets/base",
      "model_module_version": "1.2.0",
      "model_name": "LayoutModel",
      "state": {}
     },
     "1de42b6599c54481839a16b52dd5b9bd": {
      "model_module": "@jupyter-widgets/base",
      "model_module_version": "1.2.0",
      "model_name": "LayoutModel",
      "state": {
       "align_items": "stretch",
       "display": "flex",
       "flex_flow": "row",
       "grid_auto_columns": "True",
       "justify_content": "flex-start",
       "width": "80%"
      }
     },
     "1e00725b9c1242bab27efdcc9c0279b1": {
      "model_module": "ipysheet",
      "model_module_version": "~0.4.4",
      "model_name": "CellRangeModel",
      "state": {
       "_view_module": null,
       "_view_module_version": "",
       "choice": [],
       "column_end": 6,
       "column_start": 6,
       "numeric_format": null,
       "row_end": 3,
       "row_start": 0,
       "squeeze_row": false,
       "type": "text",
       "value": [
        "<class 'list'>",
        "<class 'NoneType'>",
        "<class 'NoneType'>",
        "<class 'NoneType'>"
       ]
      }
     },
     "1e02b81231714179ab3c96d93a0d63f2": {
      "model_module": "@jupyter-widgets/base",
      "model_module_version": "1.2.0",
      "model_name": "LayoutModel",
      "state": {
       "align_items": "stretch",
       "display": "flex",
       "flex_flow": "row",
       "grid_auto_columns": "True",
       "justify_content": "flex-start",
       "width": "80%"
      }
     },
     "1e5d2d9ae71c45d18472352d98cdbe55": {
      "model_module": "@jupyter-widgets/controls",
      "model_module_version": "1.5.0",
      "model_name": "ButtonModel",
      "state": {
       "button_style": "warning",
       "description": "edit inputs",
       "layout": "IPY_MODEL_5a3f94dce07c4a8ea49341957ab4da80",
       "style": "IPY_MODEL_567196bf777743beb9aae4eb2441026e",
       "tooltip": "edit the user input information that is used when the script is executed"
      }
     },
     "1e62c98443404d79ac782e93d65242d6": {
      "model_module": "@jupyter-widgets/base",
      "model_module_version": "1.2.0",
      "model_name": "LayoutModel",
      "state": {
       "align_items": "stretch",
       "border": "dashed 0.2px green",
       "display": "flex",
       "flex_flow": "row",
       "grid_auto_columns": "True",
       "justify_content": "flex-start",
       "width": "100%"
      }
     },
     "1e833c5171cc48a092623fdd4e147e34": {
      "model_module": "@jupyter-widgets/base",
      "model_module_version": "1.2.0",
      "model_name": "LayoutModel",
      "state": {
       "height": "30px",
       "max_width": "30px",
       "padding": "3px"
      }
     },
     "1e956656cf3744c39f6261516be300bf": {
      "model_module": "@jupyter-widgets/base",
      "model_module_version": "1.2.0",
      "model_name": "LayoutModel",
      "state": {
       "align_items": "stretch",
       "display": "flex",
       "flex_flow": "row",
       "grid_auto_columns": "True",
       "justify_content": "flex-start",
       "width": "80%"
      }
     },
     "1ec15cec67514b339a3cda92009c9095": {
      "model_module": "@jupyter-widgets/base",
      "model_module_version": "1.2.0",
      "model_name": "LayoutModel",
      "state": {}
     },
     "1ed7ca8486c34ba0be406634cd2e9371": {
      "model_module": "@jupyter-widgets/base",
      "model_module_version": "1.2.0",
      "model_name": "LayoutModel",
      "state": {
       "align_items": "stretch",
       "display": "flex",
       "flex_flow": "row",
       "grid_auto_columns": "True",
       "justify_content": "flex-end",
       "width": "90%"
      }
     },
     "1ee73cdf807b44c48ebcfc2f75879da1": {
      "model_module": "@jupyter-widgets/controls",
      "model_module_version": "1.5.0",
      "model_name": "HTMLModel",
      "state": {
       "layout": "IPY_MODEL_35cc1ff5de0d43f98444b0d039543196",
       "style": "IPY_MODEL_d194fe4262cd4ecf83b9938425ffa0e9",
       "value": "<p>its a foo cake</p>"
      }
     },
     "1f43eee8b1a447cd82a007d5bd16bade": {
      "model_module": "@jupyter-widgets/controls",
      "model_module_version": "1.5.0",
      "model_name": "HBoxModel",
      "state": {
       "children": [
        "IPY_MODEL_9e2f7229f00a42a19febd98e287cbacf",
        "IPY_MODEL_e833eeebeb404e039971745148c9b4e8"
       ],
       "layout": "IPY_MODEL_04f164ce683f45718e574d78c31a76ee"
      }
     },
     "1f59d369904b44cf9d6b73473ad481d3": {
      "model_module": "@jupyter-widgets/controls",
      "model_module_version": "1.5.0",
      "model_name": "HBoxModel",
      "state": {
       "children": [
        "IPY_MODEL_b7a65e88fc0d4a8381de299e8951efe5",
        "IPY_MODEL_466b6ad18589415db56a207d2c52b52d"
       ],
       "layout": "IPY_MODEL_623ba8cf18a74aef9cf9fe343430ee9e"
      }
     },
     "1f5fd30eb9274a05b402bff381b2d6f6": {
      "model_module": "@jupyter-widgets/controls",
      "model_module_version": "1.5.0",
      "model_name": "HTMLModel",
      "state": {
       "layout": "IPY_MODEL_20cadbcb7e5140e5b95a9d0cdb70d911",
       "style": "IPY_MODEL_46a97afca8d2498a8d4b307264b22bcd",
       "value": "<p>name</p>"
      }
     },
     "1f6efd25a629489c8c77d861dca50768": {
      "model_module": "@jupyter-widgets/controls",
      "model_module_version": "1.5.0",
      "model_name": "SelectMultipleModel",
      "state": {
       "_options_labels": [
        "asfd",
        "10",
        "asdf"
       ],
       "index": [
        1
       ],
       "layout": "IPY_MODEL_a096c06f83d9403e87b7bbda1aa98d4b",
       "rows": 5,
       "style": "IPY_MODEL_c224a86841c04f659efa8b864cfb39b9"
      }
     },
     "1f9e567f7a1541ae9b0657286f4fcad6": {
      "model_module": "@jupyter-widgets/base",
      "model_module_version": "1.2.0",
      "model_name": "LayoutModel",
      "state": {}
     },
     "20261716f6c24050b75cf2b0dadb2bd2": {
      "model_module": "@jupyter-widgets/controls",
      "model_module_version": "1.5.0",
      "model_name": "HBoxModel",
      "state": {
       "children": [
        "IPY_MODEL_4d85a25d08a64a29af622f426dce7c38",
        "IPY_MODEL_3b46dc3b25a24ac89b72ffbc3c710a85"
       ],
       "layout": "IPY_MODEL_b8261adf353745b789454137483300f1"
      }
     },
     "2046e42217d647c5b78bcceb3f9d3311": {
      "model_module": "@jupyter-widgets/base",
      "model_module_version": "1.2.0",
      "model_name": "LayoutModel",
      "state": {
       "align_items": "stretch",
       "border": "dashed 0.2px green",
       "display": "flex",
       "flex_flow": "row",
       "grid_auto_columns": "True",
       "justify_content": "flex-start",
       "width": "100%"
      }
     },
     "208b8c70f82b40c3aedb72fe7a10c856": {
      "model_module": "@jupyter-widgets/base",
      "model_module_version": "1.2.0",
      "model_name": "LayoutModel",
      "state": {}
     },
     "20a25a6a675745ada949ad47d3def2c9": {
      "model_module": "@jupyter-widgets/controls",
      "model_module_version": "1.5.0",
      "model_name": "HTMLModel",
      "state": {
       "layout": "IPY_MODEL_c532a054caf14be38f902481a5a694b2",
       "style": "IPY_MODEL_f11ad9a31266465e853d09533277f331",
       "value": "<p>foo</p>"
      }
     },
     "20cadbcb7e5140e5b95a9d0cdb70d911": {
      "model_module": "@jupyter-widgets/base",
      "model_module_version": "1.2.0",
      "model_name": "LayoutModel",
      "state": {}
     },
     "20ed13099672467cb18cd02b571f2458": {
      "model_module": "@jupyter-widgets/controls",
      "model_module_version": "1.5.0",
      "model_name": "HTMLModel",
      "state": {
       "layout": "IPY_MODEL_d974a1d9046b482e822c88ea95490a1b",
       "style": "IPY_MODEL_91d0145271cd4d058aa0bc8325374a22",
       "value": "<p>its a foo cake</p>"
      }
     },
     "2102d7dad3c441988137eeb2e48bfda3": {
      "model_module": "@jupyter-widgets/controls",
      "model_module_version": "1.5.0",
      "model_name": "HBoxModel",
      "state": {
       "children": [
        "IPY_MODEL_f0af909a61794865957ac1eba6576b4a",
        "IPY_MODEL_a75df56bbbaf4539b8dae948a37794d4"
       ],
       "layout": "IPY_MODEL_c7870d4511ec485aa78903568e6f3684"
      }
     },
     "2106216f039b4b689cb802e93d6c30a1": {
      "model_module": "@jupyter-widgets/base",
      "model_module_version": "1.2.0",
      "model_name": "LayoutModel",
      "state": {
       "align_items": "stretch",
       "display": "flex",
       "flex_flow": "row",
       "grid_auto_columns": "True",
       "justify_content": "flex-start",
       "width": "80%"
      }
     },
     "211152c9696e426b9eab7af7a51308c2": {
      "model_module": "@jupyter-widgets/base",
      "model_module_version": "1.2.0",
      "model_name": "LayoutModel",
      "state": {}
     },
     "211947fc4fdc426087cb872f0cef74cf": {
      "model_module": "@jupyter-widgets/base",
      "model_module_version": "1.2.0",
      "model_name": "LayoutModel",
      "state": {}
     },
     "212b3595bc16440a93d9296d67438d07": {
      "model_module": "@jupyter-widgets/base",
      "model_module_version": "1.2.0",
      "model_name": "LayoutModel",
      "state": {}
     },
     "2148adce63914f8ca7a3bc5581fc84ef": {
      "model_module": "@jupyter-widgets/controls",
      "model_module_version": "1.5.0",
      "model_name": "DescriptionStyleModel",
      "state": {
       "description_width": ""
      }
     },
     "215c98135be241fa93f8f957fbb308c8": {
      "model_module": "@jupyter-widgets/controls",
      "model_module_version": "1.5.0",
      "model_name": "SliderStyleModel",
      "state": {
       "description_width": ""
      }
     },
     "215dd13a9d11499da7591314c2568f11": {
      "model_module": "@jupyter-widgets/base",
      "model_module_version": "1.2.0",
      "model_name": "LayoutModel",
      "state": {
       "align_items": "stretch",
       "border": "dashed 0.2px green",
       "display": "flex",
       "flex_flow": "row",
       "grid_auto_columns": "True",
       "justify_content": "flex-start",
       "width": "100%"
      }
     },
     "216ac0213bd249d2994f4b31e9b22bad": {
      "model_module": "@jupyter-widgets/controls",
      "model_module_version": "1.5.0",
      "model_name": "HTMLModel",
      "state": {
       "layout": "IPY_MODEL_23ae74008e664db5a0ab3e93ccb74ad2",
       "style": "IPY_MODEL_f7531b1e824b4e64b20923af5490481a",
       "value": "<p>reous foo ous foo st</p>"
      }
     },
     "216dc23fde564dd1910f9952689b1af3": {
      "model_module": "@jupyter-widgets/controls",
      "model_module_version": "1.5.0",
      "model_name": "ButtonModel",
      "state": {
       "button_style": "info",
       "description": "show log",
       "layout": "IPY_MODEL_e108214e3c79499db4b6d93e9de43d7d",
       "style": "IPY_MODEL_32b69b8555fb40ddaecb5030094847c1",
       "tooltip": "show a log of when the script was executed to generate the outputs, and by who"
      }
     },
     "2194fcb888ea4133bc31fde5ffefe531": {
      "model_module": "@jupyter-widgets/controls",
      "model_module_version": "1.5.0",
      "model_name": "HBoxModel",
      "state": {
       "children": [
        "IPY_MODEL_5518ae917b224723a5c68c03e3b789ad"
       ],
       "layout": "IPY_MODEL_88257429a664432ba399efbb67116684"
      }
     },
     "21df8d340aa24392b14bc7f3b98a9aab": {
      "model_module": "@jupyter-widgets/controls",
      "model_module_version": "1.5.0",
      "model_name": "HTMLModel",
      "state": {
       "layout": "IPY_MODEL_0fff611d348e496e926be8a1adc66ebf",
       "style": "IPY_MODEL_2a517b744928448ea04a0f6c90281a0d",
       "value": "<p>its a delicious foo cake</p>"
      }
     },
     "2210b722ca1548b4b0472fdd01aef61d": {
      "model_module": "@jupyter-widgets/base",
      "model_module_version": "1.2.0",
      "model_name": "LayoutModel",
      "state": {
       "display": "flex",
       "flex_flow": "row",
       "grid_auto_columns": "False",
       "justify_content": "flex-start",
       "width": "100%"
      }
     },
     "22308a4c8a074c4689c84430ac9685d0": {
      "model_module": "@jupyter-widgets/base",
      "model_module_version": "1.2.0",
      "model_name": "LayoutModel",
      "state": {
       "align_items": "stretch",
       "display": "flex",
       "flex_flow": "row",
       "grid_auto_columns": "True",
       "justify_content": "flex-start",
       "width": "80%"
      }
     },
     "228b3bd2b84b4f6cb2d6f25c434cbc46": {
      "model_module": "@jupyter-widgets/controls",
      "model_module_version": "1.5.0",
      "model_name": "DescriptionStyleModel",
      "state": {
       "description_width": ""
      }
     },
     "229aa1240f3448efbe080c73b031087c": {
      "model_module": "@jupyter-widgets/controls",
      "model_module_version": "1.5.0",
      "model_name": "DatePickerModel",
      "state": {
       "disabled": false,
       "layout": "IPY_MODEL_cdfdab645859455986353672596a868d",
       "style": "IPY_MODEL_5b1dbe55ab0c40a7a7eb37bd91c388a6",
       "value": {
        "date": 3,
        "month": 5,
        "year": 2020
       }
      }
     },
     "22c36b52f3e3407aa7c14b712518d0b2": {
      "model_module": "@jupyter-widgets/controls",
      "model_module_version": "1.5.0",
      "model_name": "ToggleButtonModel",
      "state": {
       "description": "help",
       "icon": "fa-question-circle",
       "layout": "IPY_MODEL_275e56566e3d444eb98bb3b5754ace0a",
       "style": "IPY_MODEL_5e89edd0199b49cb983e5b9bd21c309b",
       "tooltip": "gives guidance"
      }
     },
     "22e80863e9064332be01b6898679d38c": {
      "model_module": "@jupyter-widgets/controls",
      "model_module_version": "1.5.0",
      "model_name": "HBoxModel",
      "state": {
       "children": [
        "IPY_MODEL_84bafc6717794c108fb133242e6b0c66"
       ],
       "layout": "IPY_MODEL_15dced10e34d4c73813cdee872eacf02"
      }
     },
     "232645e847b14d4abe26e96d970f50be": {
      "model_module": "@jupyter-widgets/base",
      "model_module_version": "1.2.0",
      "model_name": "LayoutModel",
      "state": {}
     },
     "2327f96cd3b8420b9c1b9b47371f35e2": {
      "model_module": "@jupyter-widgets/base",
      "model_module_version": "1.2.0",
      "model_name": "LayoutModel",
      "state": {
       "align_items": "stretch",
       "display": "flex",
       "flex_flow": "row",
       "grid_auto_columns": "True",
       "justify_content": "flex-start",
       "width": "80%"
      }
     },
     "233370a3f0a044699074c5bb0aa54a6d": {
      "model_module": "@jupyter-widgets/base",
      "model_module_version": "1.2.0",
      "model_name": "LayoutModel",
      "state": {}
     },
     "234977c36602460ea7b070b54e239e32": {
      "model_module": "@jupyter-widgets/base",
      "model_module_version": "1.2.0",
      "model_name": "LayoutModel",
      "state": {}
     },
     "2396c347df3c44fa8747f4a39684c4f9": {
      "model_module": "@jupyter-widgets/controls",
      "model_module_version": "1.5.0",
      "model_name": "HBoxModel",
      "state": {
       "children": [
        "IPY_MODEL_5b62b931fbe346e99c7fd12b36ce13fa"
       ],
       "layout": "IPY_MODEL_bf5701669a6246eca3ed0ccaaa589630"
      }
     },
     "23ae74008e664db5a0ab3e93ccb74ad2": {
      "model_module": "@jupyter-widgets/base",
      "model_module_version": "1.2.0",
      "model_name": "LayoutModel",
      "state": {}
     },
     "23cee4a4372447aa916d97f44489cdee": {
      "model_module": "@jupyter-widgets/controls",
      "model_module_version": "1.5.0",
      "model_name": "HBoxModel",
      "state": {
       "children": [
        "IPY_MODEL_f4be26ccc6f848dbadbf876c7ede5b47",
        "IPY_MODEL_ee8fb258f49544ebba7f8ced16a89d5d"
       ],
       "layout": "IPY_MODEL_e5e3ff567601459e9183aae12aa41562"
      }
     },
     "240e3c61cfe645dca1a2b9b7ca6bbd8a": {
      "model_module": "@jupyter-widgets/controls",
      "model_module_version": "1.5.0",
      "model_name": "DescriptionStyleModel",
      "state": {
       "description_width": ""
      }
     },
     "24263755f38743d493b5f2e6a34a2b93": {
      "model_module": "@jupyter-widgets/controls",
      "model_module_version": "1.5.0",
      "model_name": "HTMLModel",
      "state": {
       "layout": "IPY_MODEL_c92defd5c5b940a4bb304cc408113d6a",
       "style": "IPY_MODEL_43c4ffdc1a3d48b7a1a047749334cb8c",
       "value": "<p>its a foo cake</p>"
      }
     },
     "24477acb7053430b9c101ab884901acd": {
      "model_module": "@jupyter-widgets/controls",
      "model_module_version": "1.5.0",
      "model_name": "FloatSliderModel",
      "state": {
       "layout": "IPY_MODEL_896307e6e44048438feff97344b38b5f",
       "max": 10,
       "style": "IPY_MODEL_0029a3f460cc49f6a6ea584a9ea2705b",
       "value": 1
      }
     },
     "2449f98cc60d4078af4230a49a9e85c2": {
      "model_module": "@jupyter-widgets/base",
      "model_module_version": "1.2.0",
      "model_name": "LayoutModel",
      "state": {
       "align_items": "stretch",
       "display": "flex",
       "flex_flow": "row",
       "grid_auto_columns": "True",
       "justify_content": "flex-end",
       "width": "90%"
      }
     },
     "24510f2adf544f869e6b80ff398bc023": {
      "model_module": "@jupyter-widgets/base",
      "model_module_version": "1.2.0",
      "model_name": "LayoutModel",
      "state": {}
     },
     "24a86ad8846b45dcb882872f08698aa5": {
      "model_module": "@jupyter-widgets/controls",
      "model_module_version": "1.5.0",
      "model_name": "FloatSliderModel",
      "state": {
       "layout": "IPY_MODEL_095d4d8c952c435fb6b00c22519d03f7",
       "max": 10,
       "style": "IPY_MODEL_47369d5e9e0842eeb6a1e1493a99fbca",
       "value": 1
      }
     },
     "24c11518e2c147f2bde0d77a00485027": {
      "model_module": "@jupyter-widgets/base",
      "model_module_version": "1.2.0",
      "model_name": "LayoutModel",
      "state": {}
     },
     "24e7842e7a6b4e74a859fbd555bbbaea": {
      "model_module": "@jupyter-widgets/controls",
      "model_module_version": "1.5.0",
      "model_name": "HBoxModel",
      "state": {
       "children": [
        "IPY_MODEL_b9ae44b121ff4905a5275078c5a65769",
        "IPY_MODEL_e4987c3cf4744e6d8c21e662ea2ba827"
       ],
       "layout": "IPY_MODEL_bd3958906d6f4a23a2e7ea3ca4da800a"
      }
     },
     "24fd52558cae44c68799ffb18ff1a8e0": {
      "model_module": "@jupyter-widgets/base",
      "model_module_version": "1.2.0",
      "model_name": "LayoutModel",
      "state": {}
     },
     "2530ba0c38de4715a2fdf370c70ae2e2": {
      "model_module": "@jupyter-widgets/base",
      "model_module_version": "1.2.0",
      "model_name": "LayoutModel",
      "state": {}
     },
     "25395f9839194466bc2d839eb0625f9f": {
      "model_module": "@jupyter-widgets/controls",
      "model_module_version": "1.5.0",
      "model_name": "HTMLModel",
      "state": {
       "layout": "IPY_MODEL_c8267c3e9de2444c9c737c66c2123f5a",
       "style": "IPY_MODEL_bb473f2823e74cde9cc8ce6d9c549db3",
       "value": "<p>reous foo ous foo st</p>"
      }
     },
     "25478b5f38f9470c8b3ee4e7488022e0": {
      "model_module": "@jupyter-widgets/base",
      "model_module_version": "1.2.0",
      "model_name": "LayoutModel",
      "state": {
       "align_items": "stretch",
       "display": "flex",
       "flex_flow": "row",
       "grid_auto_columns": "True",
       "justify_content": "flex-end",
       "width": "90%"
      }
     },
     "2553d42b600b45f2a3cf921cfbc0919a": {
      "model_module": "@jupyter-widgets/controls",
      "model_module_version": "1.5.0",
      "model_name": "VBoxModel",
      "state": {
       "children": [
        "IPY_MODEL_8fa3bc764d7643a0972a6a8fb33bd348",
        "IPY_MODEL_dd4e78efd2d54a17946a7e3ebb54f20e",
        "IPY_MODEL_c54b4898579b47ee8120467b4920a6f0",
        "IPY_MODEL_f23fd5ff82ab4b4b8dd9ad8bda094e2b",
        "IPY_MODEL_6b25382b31154d0dba8431c9d7e1edba",
        "IPY_MODEL_5732b43275c14409a14d04deeda39a1b"
       ],
       "layout": "IPY_MODEL_24c11518e2c147f2bde0d77a00485027"
      }
     },
     "255ad32d272741d6a770893e30ae5e0d": {
      "model_module": "@jupyter-widgets/controls",
      "model_module_version": "1.5.0",
      "model_name": "DescriptionStyleModel",
      "state": {
       "description_width": ""
      }
     },
     "257e981eaccb4ca1865687ad76b8b105": {
      "model_module": "@jupyter-widgets/output",
      "model_module_version": "1.0.0",
      "model_name": "OutputModel",
      "state": {
       "layout": "IPY_MODEL_4f0f6f6fe38e4bf2816c48a53adefbc8"
      }
     },
     "258cea569ebc41b6a2777322d339c6fb": {
      "model_module": "@jupyter-widgets/base",
      "model_module_version": "1.2.0",
      "model_name": "LayoutModel",
      "state": {
       "display": "flex",
       "flex_flow": "row",
       "grid_auto_columns": "False",
       "justify_content": "flex-start",
       "width": "100%"
      }
     },
     "2598fd257a8c4dcb8f3240089862f53d": {
      "model_module": "@jupyter-widgets/controls",
      "model_module_version": "1.5.0",
      "model_name": "DescriptionStyleModel",
      "state": {
       "description_width": ""
      }
     },
     "25ce53ec8f4f4105af277e36afc33917": {
      "model_module": "@jupyter-widgets/base",
      "model_module_version": "1.2.0",
      "model_name": "LayoutModel",
      "state": {}
     },
     "25d5825efe9a43cfa551cbc917eeda61": {
      "model_module": "@jupyter-widgets/controls",
      "model_module_version": "1.5.0",
      "model_name": "ToggleButtonModel",
      "state": {
       "icon": "arrow-down",
       "layout": "IPY_MODEL_4126603dd2b743f9bac7bc83924d52b0",
       "style": "IPY_MODEL_b883446854ac4963945f4de090fea3e4"
      }
     },
     "25db2e4c3ec24d0991500e2ffa7c4289": {
      "model_module": "@jupyter-widgets/controls",
      "model_module_version": "1.5.0",
      "model_name": "TextModel",
      "state": {
       "layout": "IPY_MODEL_118cccf3c2c4435595c821e9b62e0d1c",
       "style": "IPY_MODEL_fb90e73856d246b28621773a3be438fa",
       "value": "Level"
      }
     },
     "25e4288977fa4be18f489f33f8d4be3c": {
      "model_module": "@jupyter-widgets/base",
      "model_module_version": "1.2.0",
      "model_name": "LayoutModel",
      "state": {}
     },
     "25f642bc1f574021ba25b86890087029": {
      "model_module": "@jupyter-widgets/base",
      "model_module_version": "1.2.0",
      "model_name": "LayoutModel",
      "state": {
       "align_items": "stretch",
       "display": "flex",
       "flex_flow": "row",
       "grid_auto_columns": "True",
       "justify_content": "flex-start",
       "width": "80%"
      }
     },
     "2656f8d9c6ab4a149e9652292bbeb43a": {
      "model_module": "@jupyter-widgets/base",
      "model_module_version": "1.2.0",
      "model_name": "LayoutModel",
      "state": {}
     },
     "26a52f6c00d54d6ca713bd8670dad125": {
      "model_module": "@jupyter-widgets/base",
      "model_module_version": "1.2.0",
      "model_name": "LayoutModel",
      "state": {}
     },
     "26c86707d1a640b2a7490c906c50c694": {
      "model_module": "@jupyter-widgets/controls",
      "model_module_version": "1.5.0",
      "model_name": "DescriptionStyleModel",
      "state": {
       "description_width": ""
      }
     },
     "27197e485f17498db287796033c13aa9": {
      "model_module": "@jupyter-widgets/base",
      "model_module_version": "1.2.0",
      "model_name": "LayoutModel",
      "state": {
       "align_items": "stretch",
       "display": "flex",
       "flex_flow": "row",
       "grid_auto_columns": "True",
       "justify_content": "flex-end",
       "width": "90%"
      }
     },
     "271b3693d94d472bb7675a06bbf750c6": {
      "model_module": "@jupyter-widgets/base",
      "model_module_version": "1.2.0",
      "model_name": "LayoutModel",
      "state": {}
     },
     "2724c8c2a25646cca192436ba952a946": {
      "model_module": "@jupyter-widgets/base",
      "model_module_version": "1.2.0",
      "model_name": "LayoutModel",
      "state": {
       "align_items": "stretch",
       "display": "flex",
       "flex_flow": "row",
       "grid_auto_columns": "True",
       "justify_content": "flex-end",
       "width": "90%"
      }
     },
     "275e56566e3d444eb98bb3b5754ace0a": {
      "model_module": "@jupyter-widgets/base",
      "model_module_version": "1.2.0",
      "model_name": "LayoutModel",
      "state": {
       "width": "5%"
      }
     },
     "27906d07279a41bdb9800d916b8bad68": {
      "model_module": "@jupyter-widgets/controls",
      "model_module_version": "1.5.0",
      "model_name": "DescriptionStyleModel",
      "state": {
       "description_width": ""
      }
     },
     "27af9fd95e4342179c81fd90ac248cab": {
      "model_module": "ipysheet",
      "model_module_version": "~0.4.4",
      "model_name": "SheetModel",
      "state": {
       "cells": [
        "IPY_MODEL_424daa94217649beb01c3c8c667aeaa4",
        "IPY_MODEL_3cb91b69c094437cb4141ff78b0f6b76",
        "IPY_MODEL_87ab7dd7c4df46f886d4d03beff225a5",
        "IPY_MODEL_836cdb177b2c4431b5a1498721b7d9c0",
        "IPY_MODEL_86c639f5013a408ab872fe440a66aee6",
        "IPY_MODEL_9036fcf6c50843ba902e9233eb268523",
        "IPY_MODEL_1e00725b9c1242bab27efdcc9c0279b1"
       ],
       "column_headers": [
        "FloatText",
        "FloatSlider",
        "Dropdown",
        "SelectMultiple",
        "Checkbox",
        "Text",
        "_recursive_guess"
       ],
       "columns": 7,
       "layout": "IPY_MODEL_2ebd303bd0d64db99b5b4ae05ad17125",
       "row_headers": [
        "value_type",
        "options_type",
        "min_type",
        "max_type"
       ],
       "rows": 4
      }
     },
     "27dad6531cc24ab28a02384521015679": {
      "model_module": "@jupyter-widgets/controls",
      "model_module_version": "1.5.0",
      "model_name": "HBoxModel",
      "state": {
       "children": [
        "IPY_MODEL_4729ba182fff424b93a17e13fec0553f"
       ],
       "layout": "IPY_MODEL_e0b1e8c7fb3d40ab8601a5c39e431285"
      }
     },
     "27eaa7f3bc0d48e0a3ce67d89e793029": {
      "model_module": "@jupyter-widgets/base",
      "model_module_version": "1.2.0",
      "model_name": "LayoutModel",
      "state": {}
     },
     "281a76b80c464d509a9de91680d3316d": {
      "model_module": "@jupyter-widgets/base",
      "model_module_version": "1.2.0",
      "model_name": "LayoutModel",
      "state": {
       "align_items": "stretch",
       "display": "flex",
       "flex_flow": "row",
       "grid_auto_columns": "True",
       "justify_content": "flex-start",
       "width": "80%"
      }
     },
     "282e95f07f294c9b9b391d19f1f9e007": {
      "model_module": "@jupyter-widgets/base",
      "model_module_version": "1.2.0",
      "model_name": "LayoutModel",
      "state": {
       "align_items": "stretch",
       "display": "flex",
       "flex_flow": "row",
       "grid_auto_columns": "True",
       "justify_content": "flex-end",
       "width": "90%"
      }
     },
     "28377a2a3be0425aa6b7f815ff2239f4": {
      "model_module": "@jupyter-widgets/base",
      "model_module_version": "1.2.0",
      "model_name": "LayoutModel",
      "state": {
       "align_items": "stretch",
       "display": "flex",
       "flex_flow": "row",
       "grid_auto_columns": "True",
       "justify_content": "flex-end",
       "width": "90%"
      }
     },
     "2862465896f24c11abb74b3bd9fd25a5": {
      "model_module": "@jupyter-widgets/controls",
      "model_module_version": "1.5.0",
      "model_name": "ButtonStyleModel",
      "state": {}
     },
     "2874321c110b4c02a2166e8c2aee56b8": {
      "model_module": "@jupyter-widgets/base",
      "model_module_version": "1.2.0",
      "model_name": "LayoutModel",
      "state": {}
     },
     "2895ea9d9a0e4d78b09040b0be81931d": {
      "model_module": "@jupyter-widgets/base",
      "model_module_version": "1.2.0",
      "model_name": "LayoutModel",
      "state": {}
     },
     "28984983bd7549baaaaec1f691b841b1": {
      "model_module": "@jupyter-widgets/controls",
      "model_module_version": "1.5.0",
      "model_name": "DescriptionStyleModel",
      "state": {
       "description_width": ""
      }
     },
     "289c676cbeba42b6885180318e156bee": {
      "model_module": "@jupyter-widgets/controls",
      "model_module_version": "1.5.0",
      "model_name": "HBoxModel",
      "state": {
       "children": [
        "IPY_MODEL_24477acb7053430b9c101ab884901acd",
        "IPY_MODEL_5346ed82489e4ff588f066aae4a14260"
       ],
       "layout": "IPY_MODEL_e247711ea26a4f4a89440995b870230a"
      }
     },
     "28a21831d9834ca2b7f1065f07104ec2": {
      "model_module": "@jupyter-widgets/controls",
      "model_module_version": "1.5.0",
      "model_name": "HTMLModel",
      "state": {
       "layout": "IPY_MODEL_cdf8a85be33a45ca837ff75c2ab991ff",
       "style": "IPY_MODEL_3dcb29bac3cb4c87b9538265351f1e7d",
       "value": "<p>Derived</p>"
      }
     },
     "28a48cc664b74f3396dda1749da117d4": {
      "model_module": "@jupyter-widgets/base",
      "model_module_version": "1.2.0",
      "model_name": "LayoutModel",
      "state": {}
     },
     "28dd4695c3bb4c3891f090c8a6d2ea54": {
      "model_module": "@jupyter-widgets/controls",
      "model_module_version": "1.5.0",
      "model_name": "HBoxModel",
      "state": {
       "children": [
        "IPY_MODEL_5b585f92181947b7ae8026ff1875ff4f"
       ],
       "layout": "IPY_MODEL_b6cb5a462b214c859404ff2b1d229ff7"
      }
     },
     "2915413983a940f185f212d5ad49f154": {
      "model_module": "@jupyter-widgets/controls",
      "model_module_version": "1.5.0",
      "model_name": "HBoxModel",
      "state": {
       "children": [
        "IPY_MODEL_59b4ba57227d47b5bf0d36225993eb20",
        "IPY_MODEL_e8f507477b0541a7b5fa5436ee567285"
       ],
       "layout": "IPY_MODEL_5f9ef3b436b84181846ff6cac7bc38c1"
      }
     },
     "29171f4e164547b0830503568ff8079d": {
      "model_module": "@jupyter-widgets/base",
      "model_module_version": "1.2.0",
      "model_name": "LayoutModel",
      "state": {
       "align_items": "stretch",
       "display": "flex",
       "flex_flow": "row",
       "grid_auto_columns": "True",
       "justify_content": "flex-end",
       "width": "90%"
      }
     },
     "291d09031bf444e9a4620b4fa3934070": {
      "model_module": "@jupyter-widgets/base",
      "model_module_version": "1.2.0",
      "model_name": "LayoutModel",
      "state": {
       "align_items": "stretch",
       "border": "dashed 0.2px green",
       "display": "flex",
       "flex_flow": "row",
       "grid_auto_columns": "True",
       "justify_content": "flex-start",
       "width": "100%"
      }
     },
     "29450ef83b8245f9a8de86d45d06b845": {
      "model_module": "@jupyter-widgets/controls",
      "model_module_version": "1.5.0",
      "model_name": "ButtonModel",
      "state": {
       "button_style": "success",
       "description": "save",
       "layout": "IPY_MODEL_6251fe8863b54664b0c3f5470861b3d9",
       "style": "IPY_MODEL_df010577874944d6a1460a81979f463a"
      }
     },
     "29ad7bfb4b554ba28ccbad735c8e7130": {
      "model_module": "@jupyter-widgets/controls",
      "model_module_version": "1.5.0",
      "model_name": "HTMLModel",
      "state": {
       "layout": "IPY_MODEL_549eda9cb74543b09b0bb3b2ce68cfaa",
       "style": "IPY_MODEL_003b7c3b8bce43c4972ec632e9910f84",
       "value": "<p>Test</p>"
      }
     },
     "29f75fbfecf6484b8257f126ee063671": {
      "model_module": "@jupyter-widgets/base",
      "model_module_version": "1.2.0",
      "model_name": "LayoutModel",
      "state": {}
     },
     "2a517b744928448ea04a0f6c90281a0d": {
      "model_module": "@jupyter-widgets/controls",
      "model_module_version": "1.5.0",
      "model_name": "DescriptionStyleModel",
      "state": {
       "description_width": ""
      }
     },
     "2a6792ebaa7043a5871698618b7df786": {
      "model_module": "@jupyter-widgets/base",
      "model_module_version": "1.2.0",
      "model_name": "LayoutModel",
      "state": {
       "align_items": "stretch",
       "display": "flex",
       "flex_flow": "row",
       "grid_auto_columns": "True",
       "justify_content": "flex-end",
       "width": "90%"
      }
     },
     "2a87296de2894e14893b376344229312": {
      "model_module": "@jupyter-widgets/base",
      "model_module_version": "1.2.0",
      "model_name": "LayoutModel",
      "state": {}
     },
     "2ae213000a304c6e90f0db60af6fcf28": {
      "model_module": "@jupyter-widgets/base",
      "model_module_version": "1.2.0",
      "model_name": "LayoutModel",
      "state": {}
     },
     "2b1b356a93e84235abb5d1e869065bea": {
      "model_module": "@jupyter-widgets/base",
      "model_module_version": "1.2.0",
      "model_name": "LayoutModel",
      "state": {}
     },
     "2b1c9ecf3540421c84a94755f44148fc": {
      "model_module": "@jupyter-widgets/base",
      "model_module_version": "1.2.0",
      "model_name": "LayoutModel",
      "state": {}
     },
     "2b5d04b14e124c958fd77e6f25ec0ad1": {
      "model_module": "@jupyter-widgets/controls",
      "model_module_version": "1.5.0",
      "model_name": "HTMLModel",
      "state": {
       "layout": "IPY_MODEL_e66339d044944850a144e0e7fdc0727f",
       "style": "IPY_MODEL_cbc21076a10346f894055144fbdaf905",
       "value": "<p>Tag for the Model, used within file naming</p>"
      }
     },
     "2b8cab0b17c941408bd6e0248999890d": {
      "model_module": "@jupyter-widgets/controls",
      "model_module_version": "1.5.0",
      "model_name": "HTMLModel",
      "state": {
       "layout": "IPY_MODEL_9fbbbc04342b412cad4c91b7da319f6d",
       "style": "IPY_MODEL_c6f09bce885c4712aea898946319dbb7",
       "value": "<p>Report Model Run?</p>"
      }
     },
     "2b9881049c1e4cc5b3e435342b2f6978": {
      "model_module": "@jupyter-widgets/controls",
      "model_module_version": "1.5.0",
      "model_name": "DescriptionStyleModel",
      "state": {
       "description_width": ""
      }
     },
     "2c6f2f43a9de4eb389723b4c1061ba53": {
      "model_module": "@jupyter-widgets/base",
      "model_module_version": "1.2.0",
      "model_name": "LayoutModel",
      "state": {
       "align_items": "stretch",
       "display": "flex",
       "flex_flow": "row",
       "grid_auto_columns": "True",
       "justify_content": "flex-end",
       "width": "90%"
      }
     },
     "2c9b9edac74f48dc82f4591203f0fd96": {
      "model_module": "@jupyter-widgets/controls",
      "model_module_version": "1.5.0",
      "model_name": "RadioButtonsModel",
      "state": {
       "_options_labels": [
        "TEMPLATE: C:\\engDev\\git_mf\\MF_Toolbox\\dev\\mf_scripts\\template_inputs\\inputs-gbxml.json",
        "PROJECT: C:\\engDev\\git_mf\\ipyrun\\ipyrun\\appdata\\inputs\\inputs-gbxml.json"
       ],
       "index": 0,
       "layout": "IPY_MODEL_d5fa1faf6c6345cc83b169ada69cf820",
       "style": "IPY_MODEL_67b66ea40a5848ca9aa851b09d852313"
      }
     },
     "2cc513a9a61e49119bacd5c77dec4def": {
      "model_module": "@jupyter-widgets/controls",
      "model_module_version": "1.5.0",
      "model_name": "HTMLModel",
      "state": {
       "layout": "IPY_MODEL_39d26dbe85eb4fdab39e813ed69a6095",
       "style": "IPY_MODEL_b929dc877ed54bf2880d72235a77d3f1",
       "value": "<p>its a foo cake</p>"
      }
     },
     "2ce9beee22db4f999e30469c6dac7660": {
      "model_module": "@jupyter-widgets/base",
      "model_module_version": "1.2.0",
      "model_name": "LayoutModel",
      "state": {}
     },
     "2ce9f1d5c28c496cbd80f56ec271eb0f": {
      "model_module": "@jupyter-widgets/base",
      "model_module_version": "1.2.0",
      "model_name": "LayoutModel",
      "state": {
       "align_items": "stretch",
       "display": "flex",
       "flex_flow": "row",
       "grid_auto_columns": "True",
       "justify_content": "flex-start",
       "width": "80%"
      }
     },
     "2cf2494d933c4ec5b4df0dd41528a0ad": {
      "model_module": "@jupyter-widgets/output",
      "model_module_version": "1.0.0",
      "model_name": "OutputModel",
      "state": {
       "layout": "IPY_MODEL_f18babd913e44f678e083f70b6dd2fa1"
      }
     },
     "2cf9a09225654e0ca163b76ac8f7b7ad": {
      "model_module": "@jupyter-widgets/base",
      "model_module_version": "1.2.0",
      "model_name": "LayoutModel",
      "state": {}
     },
     "2d009b888ef440de89f0546e90ac19db": {
      "model_module": "@jupyter-widgets/controls",
      "model_module_version": "1.5.0",
      "model_name": "HBoxModel",
      "state": {
       "children": [
        "IPY_MODEL_5cf1be9d57fe4a91b7967cc1f2a95443",
        "IPY_MODEL_dde363c2d7ee4805b86693402779f9b2"
       ],
       "layout": "IPY_MODEL_65c8dc1006a54961b1268dcd69cc8680"
      }
     },
     "2d049bfaf8b94bbabe7a764fb0dbd3a3": {
      "model_module": "@jupyter-widgets/base",
      "model_module_version": "1.2.0",
      "model_name": "LayoutModel",
      "state": {}
     },
     "2dbc998c96544be281b8772b0178c901": {
      "model_module": "@jupyter-widgets/controls",
      "model_module_version": "1.5.0",
      "model_name": "HTMLModel",
      "state": {
       "layout": "IPY_MODEL_d3f202091462433d89d665dda7ad41e4",
       "style": "IPY_MODEL_e1dd2396085243fd9267b95b751acaa0",
       "value": "<p>its a foo cake</p>"
      }
     },
     "2dbeaa906d794c209d7543d8773d4a63": {
      "model_module": "@jupyter-widgets/base",
      "model_module_version": "1.2.0",
      "model_name": "LayoutModel",
      "state": {
       "align_items": "stretch",
       "display": "flex",
       "flex_flow": "row",
       "grid_auto_columns": "True",
       "justify_content": "flex-end",
       "width": "90%"
      }
     },
     "2dd25c09196f44f2bf5f5f3c18ff66df": {
      "model_module": "@jupyter-widgets/controls",
      "model_module_version": "1.5.0",
      "model_name": "HBoxModel",
      "state": {
       "children": [
        "IPY_MODEL_d216895845874cd28568112a0229db40",
        "IPY_MODEL_bf2bcd910f094e2086498c9d29f88de7"
       ],
       "layout": "IPY_MODEL_7c672d60caae4eb39a51949a707a2d9f"
      }
     },
     "2e21f5d571ab44bd92dc02fa58526204": {
      "model_module": "@jupyter-widgets/controls",
      "model_module_version": "1.5.0",
      "model_name": "HTMLModel",
      "state": {
       "layout": "IPY_MODEL_bf1d818db3dc46d0a5e24b4b4e5f98b8",
       "style": "IPY_MODEL_3ff8fcd215be4c85a25c446edb89c98e",
       "value": "<p>Test</p>"
      }
     },
     "2e318ad2f1554ab3baccbd1a9d959013": {
      "model_module": "@jupyter-widgets/controls",
      "model_module_version": "1.5.0",
      "model_name": "DescriptionStyleModel",
      "state": {
       "description_width": ""
      }
     },
     "2e3299fa173f47e19138793a12e4bed5": {
      "model_module": "@jupyter-widgets/controls",
      "model_module_version": "1.5.0",
      "model_name": "HTMLModel",
      "state": {
       "layout": "IPY_MODEL_02e0a105a2be4a9398373bfc36d38de4",
       "style": "IPY_MODEL_5b1fce71e9b54835809c0ddf893c2db5",
       "value": "<p>reus foo ous oo ous foo st</p>"
      }
     },
     "2e8dcfaf0f0e4c28990751fc068b2883": {
      "model_module": "@jupyter-widgets/controls",
      "model_module_version": "1.5.0",
      "model_name": "HBoxModel",
      "state": {
       "children": [
        "IPY_MODEL_15d0f1e8461b48ddba0ed0e8a4f340a4",
        "IPY_MODEL_624b7816e66c49a9958a6915c2cc9483"
       ],
       "layout": "IPY_MODEL_f927143406a442cd9e5c943bea54ee09"
      }
     },
     "2e918f3774644efeb5b22225000143b8": {
      "model_module": "@jupyter-widgets/output",
      "model_module_version": "1.0.0",
      "model_name": "OutputModel",
      "state": {
       "layout": "IPY_MODEL_cbdd3b10dca1427e9e005c2bff119f15"
      }
     },
     "2ea4af790350462cb7e2017e6603bc29": {
      "model_module": "@jupyter-widgets/controls",
      "model_module_version": "1.5.0",
      "model_name": "ToggleButtonModel",
      "state": {
       "description": "help",
       "icon": "fa-question-circle",
       "layout": "IPY_MODEL_8a425f9a099148aa8f11659f51f82f24",
       "style": "IPY_MODEL_fb5ccdda3899447cb5ffd7b7dc3cac7e",
       "tooltip": "gives guidance"
      }
     },
     "2ea5f6091b454583b110514217c3a272": {
      "model_module": "@jupyter-widgets/controls",
      "model_module_version": "1.5.0",
      "model_name": "HBoxModel",
      "state": {
       "children": [
        "IPY_MODEL_9d2231a8433d478598c9f476f28aed1f",
        "IPY_MODEL_b892018645d44b2e91c8ade73068c1eb"
       ],
       "layout": "IPY_MODEL_39d60be42fd34d4fa158bd7476448768"
      }
     },
     "2ebd303bd0d64db99b5b4ae05ad17125": {
      "model_module": "@jupyter-widgets/base",
      "model_module_version": "1.2.0",
      "model_name": "LayoutModel",
      "state": {
       "height": "auto",
       "width": "auto"
      }
     },
     "2edc433ed5a84a869217c8ce560374f8": {
      "model_module": "@jupyter-widgets/controls",
      "model_module_version": "1.5.0",
      "model_name": "DescriptionStyleModel",
      "state": {
       "description_width": ""
      }
     },
     "2efc2ae4537249958fe75e350e92eb54": {
      "model_module": "@jupyter-widgets/base",
      "model_module_version": "1.2.0",
      "model_name": "LayoutModel",
      "state": {}
     },
     "2f391179aa3b496493e5049ce2f9f8e8": {
      "model_module": "@jupyter-widgets/base",
      "model_module_version": "1.2.0",
      "model_name": "LayoutModel",
      "state": {
       "align_items": "stretch",
       "display": "flex",
       "flex_flow": "row",
       "grid_auto_columns": "True",
       "justify_content": "flex-start",
       "width": "80%"
      }
     },
     "2f55e1f5d06542739a019ac5f6f91ad0": {
      "model_module": "@jupyter-widgets/output",
      "model_module_version": "1.0.0",
      "model_name": "OutputModel",
      "state": {
       "layout": "IPY_MODEL_93e4ba2067fc454aa59d9396cfa99505"
      }
     },
     "2f57413302084dde8ed22c772252faa6": {
      "model_module": "@jupyter-widgets/base",
      "model_module_version": "1.2.0",
      "model_name": "LayoutModel",
      "state": {}
     },
     "2f5e9be459834111a024baad2e30509e": {
      "model_module": "@jupyter-widgets/base",
      "model_module_version": "1.2.0",
      "model_name": "LayoutModel",
      "state": {
       "align_items": "stretch",
       "border": "dashed 0.2px green",
       "display": "flex",
       "flex_flow": "row",
       "grid_auto_columns": "True",
       "justify_content": "flex-start",
       "width": "100%"
      }
     },
     "2f5ef85a6ca844538f80f46391a30bcf": {
      "model_module": "@jupyter-widgets/base",
      "model_module_version": "1.2.0",
      "model_name": "LayoutModel",
      "state": {
       "align_items": "stretch",
       "display": "flex",
       "flex_flow": "row",
       "grid_auto_columns": "True",
       "justify_content": "flex-end",
       "width": "90%"
      }
     },
     "2fbd649003af4e95b2c3a41fc8308f12": {
      "model_module": "@jupyter-widgets/base",
      "model_module_version": "1.2.0",
      "model_name": "LayoutModel",
      "state": {}
     },
     "2fd8f3c2049341fca26c933c9ececb69": {
      "model_module": "@jupyter-widgets/base",
      "model_module_version": "1.2.0",
      "model_name": "LayoutModel",
      "state": {}
     },
     "2ff3839b7b9942c397580d2b76108e69": {
      "model_module": "@jupyter-widgets/controls",
      "model_module_version": "1.5.0",
      "model_name": "HBoxModel",
      "state": {
       "children": [
        "IPY_MODEL_6b946abc8caa4272b7f823f0596a4dcc",
        "IPY_MODEL_dd733dddb1f44b42b782285ca514ca94"
       ],
       "layout": "IPY_MODEL_05ff9d94a9894031b8fed845f184893c"
      }
     },
     "303e3c570b9044b1a1630ffa07bd1aac": {
      "model_module": "@jupyter-widgets/output",
      "model_module_version": "1.0.0",
      "model_name": "OutputModel",
      "state": {
       "layout": "IPY_MODEL_7d71f743136f4cadbc19ca6f13b82473"
      }
     },
     "309cb237354544c2b957536d7a585a84": {
      "model_module": "@jupyter-widgets/base",
      "model_module_version": "1.2.0",
      "model_name": "LayoutModel",
      "state": {}
     },
     "309e1e7567294747a7eb59b65230589b": {
      "model_module": "@jupyter-widgets/controls",
      "model_module_version": "1.5.0",
      "model_name": "HBoxModel",
      "state": {
       "children": [
        "IPY_MODEL_3467e88975c94e6da748fefead46dd5a",
        "IPY_MODEL_63f1430ef2c94f88a2d243e2659f9bf6"
       ],
       "layout": "IPY_MODEL_94cbd73d467e4f5db3388829b94af7d5"
      }
     },
     "30c01d7cb8e6467098c03354cceaf50f": {
      "model_module": "@jupyter-widgets/controls",
      "model_module_version": "1.5.0",
      "model_name": "TextModel",
      "state": {
       "layout": "IPY_MODEL_b9b3cc7174104b6ea7315920572f8c54",
       "style": "IPY_MODEL_c845af1f028c47ff901a200f7ab020dd",
       "value": "2"
      }
     },
     "310692d3f696495799e470fdcc7c460d": {
      "model_module": "@jupyter-widgets/controls",
      "model_module_version": "1.5.0",
      "model_name": "HBoxModel",
      "state": {
       "children": [
        "IPY_MODEL_25d5825efe9a43cfa551cbc917eeda61",
        "IPY_MODEL_0f6e48f5cb1a4b88b57cca5e394387b1"
       ],
       "layout": "IPY_MODEL_97c10ac02366429da38b6015c1f0bf8b"
      }
     },
     "3111fd3d90f1423fadc02531c4257eb9": {
      "model_module": "@jupyter-widgets/base",
      "model_module_version": "1.2.0",
      "model_name": "LayoutModel",
      "state": {}
     },
     "31344da1230e4fe894aae1244e776dd9": {
      "model_module": "@jupyter-widgets/base",
      "model_module_version": "1.2.0",
      "model_name": "LayoutModel",
      "state": {
       "align_items": "stretch",
       "display": "flex",
       "flex_flow": "row",
       "grid_auto_columns": "True",
       "justify_content": "flex-start",
       "width": "80%"
      }
     },
     "31632450513b4f15940a8c2a2f2f7320": {
      "model_module": "@jupyter-widgets/base",
      "model_module_version": "1.2.0",
      "model_name": "LayoutModel",
      "state": {}
     },
     "3199ba9630ea4f44b892de2d5949792e": {
      "model_module": "@jupyter-widgets/controls",
      "model_module_version": "1.5.0",
      "model_name": "HTMLModel",
      "state": {
       "layout": "IPY_MODEL_d307c280500242ce8ebe5fa6795e7588",
       "style": "IPY_MODEL_76500830d7d3428f9176f599badbc3e4",
       "value": "<p>its a foo cake</p>"
      }
     },
     "319e978390c54ebab147da3050448aef": {
      "model_module": "@jupyter-widgets/controls",
      "model_module_version": "1.5.0",
      "model_name": "DescriptionStyleModel",
      "state": {
       "description_width": ""
      }
     },
     "31ab006a5797438cbf64421ec2d716d3": {
      "model_module": "@jupyter-widgets/controls",
      "model_module_version": "1.5.0",
      "model_name": "HBoxModel",
      "state": {
       "children": [
        "IPY_MODEL_6a4f168da22a4277a3c3c9dfa2da7352",
        "IPY_MODEL_cde9dc701ac84be79ac7a92590bee8b8"
       ],
       "layout": "IPY_MODEL_07a7a17b8a3b4a5da14797572ff3a703"
      }
     },
     "31c5420a651c4c3ea52540f8c7a12954": {
      "model_module": "@jupyter-widgets/controls",
      "model_module_version": "1.5.0",
      "model_name": "HBoxModel",
      "state": {
       "children": [
        "IPY_MODEL_103c4acd362448149b8f22abd08b3ab8",
        "IPY_MODEL_f3498ad6f56a4a7e8c6ff2a4acdd0ba6",
        "IPY_MODEL_69eaa541b4c34c21963fbb3e87aca137",
        "IPY_MODEL_1e5d2d9ae71c45d18472352d98cdbe55",
        "IPY_MODEL_0b58f2742209445380b809671e8bc739",
        "IPY_MODEL_8d0352de2ea845f985fa1f1e15b87c7c",
        "IPY_MODEL_216dc23fde564dd1910f9952689b1af3"
       ],
       "layout": "IPY_MODEL_72e80fdd0dc444ac8004255b1bce2622"
      }
     },
     "31cb3e73d43541d1a4d670199580a2ca": {
      "model_module": "@jupyter-widgets/controls",
      "model_module_version": "1.5.0",
      "model_name": "HBoxModel",
      "state": {
       "children": [
        "IPY_MODEL_15d982b5f6494cbcae6856a34c021fc3"
       ],
       "layout": "IPY_MODEL_c834b875bdf14c219b8068da3e697616"
      }
     },
     "31f3770b9fb94e0099b242131309e6a1": {
      "model_module": "@jupyter-widgets/base",
      "model_module_version": "1.2.0",
      "model_name": "LayoutModel",
      "state": {}
     },
     "31f68c2fdf9a418998d3147065462df3": {
      "model_module": "@jupyter-widgets/controls",
      "model_module_version": "1.5.0",
      "model_name": "HBoxModel",
      "state": {
       "children": [
        "IPY_MODEL_5adc3298b2e94504be0e2848d8631e7d",
        "IPY_MODEL_b6f723cca9fb4946bcb77f362e9b1b51"
       ],
       "layout": "IPY_MODEL_2c6f2f43a9de4eb389723b4c1061ba53"
      }
     },
     "323176c107624cb7850446bd41748853": {
      "model_module": "@jupyter-widgets/controls",
      "model_module_version": "1.5.0",
      "model_name": "DescriptionStyleModel",
      "state": {
       "description_width": ""
      }
     },
     "3259a52df09d45e88f8ef35cc2c5437a": {
      "model_module": "@jupyter-widgets/output",
      "model_module_version": "1.0.0",
      "model_name": "OutputModel",
      "state": {
       "layout": "IPY_MODEL_c0d9bb9627204369b1f1e2fc9afce3f6"
      }
     },
     "3262afea411e4cc68213a431e70885ee": {
      "model_module": "@jupyter-widgets/controls",
      "model_module_version": "1.5.0",
      "model_name": "DescriptionStyleModel",
      "state": {
       "description_width": ""
      }
     },
     "3273b34a917648478220b7598a467b23": {
      "model_module": "@jupyter-widgets/base",
      "model_module_version": "1.2.0",
      "model_name": "LayoutModel",
      "state": {
       "align_items": "stretch",
       "border": "dashed 0.2px green",
       "display": "flex",
       "flex_flow": "row",
       "grid_auto_columns": "True",
       "justify_content": "flex-start",
       "width": "100%"
      }
     },
     "3295c869212c4f1a96cc7c41f9d0b0c5": {
      "model_module": "@jupyter-widgets/controls",
      "model_module_version": "1.5.0",
      "model_name": "VBoxModel",
      "state": {
       "children": [
        "IPY_MODEL_a1f534c5f468418daa71a1854be44856",
        "IPY_MODEL_8c1e805ae75546ceac0fb459117ecce8",
        "IPY_MODEL_9d7aebd32390425a8066091538b5a7d7",
        "IPY_MODEL_06f36e1603d247cba2d5b12cf39bb14b",
        "IPY_MODEL_9f7d4a89ad1c41fbaa405c59309c7d8f",
        "IPY_MODEL_a3c2c73a51af4a6fab16db2bb30841bf",
        "IPY_MODEL_fb89cdf1f6bd4517879de2f904e50b07",
        "IPY_MODEL_e55307ad52b54d67bde3ffee72ce8faf"
       ],
       "layout": "IPY_MODEL_db24b9d623a64fec990f5c13bd3994d5"
      }
     },
     "329ca1a64d3d4e859727cb029988e129": {
      "model_module": "@jupyter-widgets/controls",
      "model_module_version": "1.5.0",
      "model_name": "HTMLModel",
      "state": {
       "layout": "IPY_MODEL_2b1c9ecf3540421c84a94755f44148fc",
       "style": "IPY_MODEL_345c359981374c069e34d99a8d0253fa",
       "value": "<p>Report Model Run?</p>"
      }
     },
     "32b69b8555fb40ddaecb5030094847c1": {
      "model_module": "@jupyter-widgets/controls",
      "model_module_version": "1.5.0",
      "model_name": "ButtonStyleModel",
      "state": {
       "font_weight": "bold"
      }
     },
     "32d6771397d04a82b274824756132fab": {
      "model_module": "@jupyter-widgets/controls",
      "model_module_version": "1.5.0",
      "model_name": "RadioButtonsModel",
      "state": {
       "_options_labels": [
        "TEMPLATE: C:\\engDev\\git_mf\\MF_Toolbox\\dev\\mf_scripts\\template_inputs\\inputs-docx_to_pdf.json",
        "PROJECT: C:\\engDev\\git_mf\\ipyrun\\ipyrun\\appdata\\inputs\\inputs-docx_to_pdf.json",
        "PROJECT: C:\\engDev\\git_mf\\ipyrun\\ipyrun\\appdata\\inputs\\archive\\20200610_1134-jg-inputs-docx_to_pdf.json",
        "PROJECT: C:\\engDev\\git_mf\\ipyrun\\ipyrun\\appdata\\inputs\\archive\\20200610_1139-jg-inputs-docx_to_pdf.json",
        "PROJECT: C:\\engDev\\git_mf\\ipyrun\\ipyrun\\appdata\\inputs\\archive\\20200610_1218-jg-inputs-docx_to_pdf.json",
        "PROJECT: C:\\engDev\\git_mf\\ipyrun\\ipyrun\\appdata\\inputs\\archive\\20200610_1220-jg-inputs-docx_to_pdf.json",
        "PROJECT: C:\\engDev\\git_mf\\ipyrun\\ipyrun\\appdata\\inputs\\archive\\20200610_1221-jg-inputs-docx_to_pdf.json",
        "PROJECT: C:\\engDev\\git_mf\\ipyrun\\ipyrun\\appdata\\inputs\\archive\\20200610_1224-jg-inputs-docx_to_pdf.json",
        "PROJECT: C:\\engDev\\git_mf\\ipyrun\\ipyrun\\appdata\\inputs\\archive\\20200610_1225-jg-inputs-docx_to_pdf.json",
        "PROJECT: C:\\engDev\\git_mf\\ipyrun\\ipyrun\\appdata\\inputs\\archive\\20200610_1244-jg-inputs-docx_to_pdf.json",
        "PROJECT: C:\\engDev\\git_mf\\ipyrun\\ipyrun\\appdata\\inputs\\archive\\20200610_1246-jg-inputs-docx_to_pdf.json",
        "PROJECT: C:\\engDev\\git_mf\\ipyrun\\ipyrun\\appdata\\inputs\\archive\\20200610_1419-jg-inputs-docx_to_pdf.json",
        "PROJECT: C:\\engDev\\git_mf\\ipyrun\\ipyrun\\appdata\\inputs\\archive\\20200610_1420-jg-inputs-docx_to_pdf.json",
        "PROJECT: C:\\engDev\\git_mf\\ipyrun\\ipyrun\\appdata\\inputs\\archive\\20200610_1422-jg-inputs-docx_to_pdf.json",
        "PROJECT: C:\\engDev\\git_mf\\ipyrun\\ipyrun\\appdata\\inputs\\archive\\20200610_1425-jg-inputs-docx_to_pdf.json",
        "PROJECT: C:\\engDev\\git_mf\\ipyrun\\ipyrun\\appdata\\inputs\\archive\\20200610_1853-jg-inputs-docx_to_pdf.json",
        "PROJECT: C:\\engDev\\git_mf\\ipyrun\\ipyrun\\appdata\\inputs\\archive\\20200610_1855-jg-inputs-docx_to_pdf.json",
        "PROJECT: C:\\engDev\\git_mf\\ipyrun\\ipyrun\\appdata\\inputs\\archive\\20200611_0748-jg-inputs-docx_to_pdf.json",
        "PROJECT: C:\\engDev\\git_mf\\ipyrun\\ipyrun\\appdata\\inputs\\archive\\20200611_0754-jg-inputs-docx_to_pdf.json",
        "PROJECT: C:\\engDev\\git_mf\\ipyrun\\ipyrun\\appdata\\inputs\\archive\\20200611_0757-jg-inputs-docx_to_pdf.json",
        "PROJECT: C:\\engDev\\git_mf\\ipyrun\\ipyrun\\appdata\\inputs\\archive\\20200616_1026-jg-inputs-docx_to_pdf.json"
       ],
       "index": 0,
       "layout": "IPY_MODEL_5a47c28bee0947e2b7d62866e3cab16d",
       "style": "IPY_MODEL_0d972bad3e9f4d07888431a70b736f0e"
      }
     },
     "32f86ad7473d48a6a0c8858035a649ec": {
      "model_module": "@jupyter-widgets/base",
      "model_module_version": "1.2.0",
      "model_name": "LayoutModel",
      "state": {}
     },
     "33104a88f0da4dc7bd0908342226b1ec": {
      "model_module": "@jupyter-widgets/controls",
      "model_module_version": "1.5.0",
      "model_name": "DescriptionStyleModel",
      "state": {
       "description_width": ""
      }
     },
     "332a1a28930a4f1a8aba8aa8163768c0": {
      "model_module": "@jupyter-widgets/controls",
      "model_module_version": "1.5.0",
      "model_name": "HBoxModel",
      "state": {
       "children": [
        "IPY_MODEL_886589d05a49463aab9d49150e93e46f",
        "IPY_MODEL_4b38c3a988f14cf8a881b488d44e4f42"
       ],
       "layout": "IPY_MODEL_27197e485f17498db287796033c13aa9"
      }
     },
     "332e30c7ae224b73a73ca38afef5f3dc": {
      "model_module": "@jupyter-widgets/controls",
      "model_module_version": "1.5.0",
      "model_name": "HTMLModel",
      "state": {
       "layout": "IPY_MODEL_60431c56caa3412e9908225aa329bbb9",
       "style": "IPY_MODEL_f5494b21cccd4c3a87e38e754a1413e5",
       "value": "<p>fus foo ous o</p>"
      }
     },
     "33a4279d33614388b7ca26d4fadad52b": {
      "model_module": "@jupyter-widgets/base",
      "model_module_version": "1.2.0",
      "model_name": "LayoutModel",
      "state": {}
     },
     "33e6d8f41da64fe2b330e35517556fef": {
      "model_module": "@jupyter-widgets/base",
      "model_module_version": "1.2.0",
      "model_name": "LayoutModel",
      "state": {
       "width": "100%"
      }
     },
     "3414b94402954bca8a63772d5af6738d": {
      "model_module": "@jupyter-widgets/controls",
      "model_module_version": "1.5.0",
      "model_name": "DescriptionStyleModel",
      "state": {
       "description_width": ""
      }
     },
     "3431e1208ffe40b3bdb9b2113bb09c7c": {
      "model_module": "@jupyter-widgets/controls",
      "model_module_version": "1.5.0",
      "model_name": "DescriptionStyleModel",
      "state": {
       "description_width": ""
      }
     },
     "34515964563b4ce98b9675c4d74f32f1": {
      "model_module": "@jupyter-widgets/base",
      "model_module_version": "1.2.0",
      "model_name": "LayoutModel",
      "state": {}
     },
     "345c359981374c069e34d99a8d0253fa": {
      "model_module": "@jupyter-widgets/controls",
      "model_module_version": "1.5.0",
      "model_name": "DescriptionStyleModel",
      "state": {
       "description_width": ""
      }
     },
     "3467e88975c94e6da748fefead46dd5a": {
      "model_module": "@jupyter-widgets/controls",
      "model_module_version": "1.5.0",
      "model_name": "HTMLModel",
      "state": {
       "layout": "IPY_MODEL_4d3ca29bde3b45e2883ff833a3c773cc",
       "style": "IPY_MODEL_15d976abab1142bda5c03be07223cfa5",
       "value": "<p>4</p>"
      }
     },
     "346b2854950b44b79781222dbc2f4335": {
      "model_module": "@jupyter-widgets/controls",
      "model_module_version": "1.5.0",
      "model_name": "DescriptionStyleModel",
      "state": {
       "description_width": ""
      }
     },
     "3496f636a5a94730901105fb687d2ab0": {
      "model_module": "@jupyter-widgets/controls",
      "model_module_version": "1.5.0",
      "model_name": "DescriptionStyleModel",
      "state": {
       "description_width": ""
      }
     },
     "34b98793a9cf4d2dbd3921fd76747362": {
      "model_module": "@jupyter-widgets/base",
      "model_module_version": "1.2.0",
      "model_name": "LayoutModel",
      "state": {}
     },
     "35014bf7f745494e852b862f101fdb22": {
      "model_module": "@jupyter-widgets/base",
      "model_module_version": "1.2.0",
      "model_name": "LayoutModel",
      "state": {}
     },
     "357de7f971334dc7a758b6b462759039": {
      "model_module": "@jupyter-widgets/base",
      "model_module_version": "1.2.0",
      "model_name": "LayoutModel",
      "state": {}
     },
     "358a383e36664ca08de70675e1762e14": {
      "model_module": "@jupyter-widgets/base",
      "model_module_version": "1.2.0",
      "model_name": "LayoutModel",
      "state": {}
     },
     "35aed6ec9e7e4b559a5877dc052626f9": {
      "model_module": "@jupyter-widgets/controls",
      "model_module_version": "1.5.0",
      "model_name": "DescriptionStyleModel",
      "state": {
       "description_width": ""
      }
     },
     "35cc1ff5de0d43f98444b0d039543196": {
      "model_module": "@jupyter-widgets/base",
      "model_module_version": "1.2.0",
      "model_name": "LayoutModel",
      "state": {}
     },
     "36559e1d75b445d28973c950cae0a1f8": {
      "model_module": "ipysheet",
      "model_module_version": "~0.4.4",
      "model_name": "CellRangeModel",
      "state": {
       "_view_module": null,
       "_view_module_version": "",
       "choice": [],
       "column_end": 4,
       "column_start": 4,
       "numeric_format": null,
       "row_end": 3,
       "row_start": 0,
       "squeeze_row": false,
       "type": "text",
       "value": [
        "<class 'bool'>",
        "<class 'NoneType'>",
        "<class 'NoneType'>",
        "<class 'NoneType'>"
       ]
      }
     },
     "365dbba7c662435d9bdc0f28a234a9e5": {
      "model_module": "@jupyter-widgets/base",
      "model_module_version": "1.2.0",
      "model_name": "LayoutModel",
      "state": {}
     },
     "36c399afd3bc4a829da7a654a7e9167b": {
      "model_module": "@jupyter-widgets/controls",
      "model_module_version": "1.5.0",
      "model_name": "ToggleButtonModel",
      "state": {
       "icon": "arrow-down",
       "layout": "IPY_MODEL_a3f7453e5fae4e06b848b41b7c241093",
       "style": "IPY_MODEL_e5072713d3554d198baf694565fc7bce"
      }
     },
     "36cee89890a14a6ba5823bf132bd771f": {
      "model_module": "@jupyter-widgets/base",
      "model_module_version": "1.2.0",
      "model_name": "LayoutModel",
      "state": {}
     },
     "3728e58bbbb34427a8521992928ed7fc": {
      "model_module": "@jupyter-widgets/controls",
      "model_module_version": "1.5.0",
      "model_name": "HBoxModel",
      "state": {
       "children": [
        "IPY_MODEL_b6403d3dea8d4feb9d3f33ef8545171a",
        "IPY_MODEL_1ee73cdf807b44c48ebcfc2f75879da1"
       ],
       "layout": "IPY_MODEL_9cd3c3e598b64a6f9df3dfead324e67c"
      }
     },
     "3773b1153b72438c9aa61d3031b9101f": {
      "model_module": "@jupyter-widgets/base",
      "model_module_version": "1.2.0",
      "model_name": "LayoutModel",
      "state": {}
     },
     "379cd49fdd9e4f0b8a3c7b60f10ea888": {
      "model_module": "@jupyter-widgets/base",
      "model_module_version": "1.2.0",
      "model_name": "LayoutModel",
      "state": {}
     },
     "37e57d80ae5c4b3c88a5f323976ddbc9": {
      "model_module": "@jupyter-widgets/base",
      "model_module_version": "1.2.0",
      "model_name": "LayoutModel",
      "state": {
       "align_items": "stretch",
       "display": "flex",
       "flex_flow": "row",
       "grid_auto_columns": "True",
       "justify_content": "flex-end",
       "width": "90%"
      }
     },
     "37fc3469dc8c43ba9e5dc69033ce0a66": {
      "model_module": "@jupyter-widgets/controls",
      "model_module_version": "1.5.0",
      "model_name": "ButtonModel",
      "state": {
       "description": "load",
       "icon": "upload",
       "layout": "IPY_MODEL_67bb6c6f01a147429c7ed66a21118ba5",
       "style": "IPY_MODEL_1a6684aa4d764ea88cec79feb665cfda"
      }
     },
     "3859e3a51d924f01a4df0caddc6355f9": {
      "model_module": "@jupyter-widgets/base",
      "model_module_version": "1.2.0",
      "model_name": "LayoutModel",
      "state": {
       "align_items": "stretch",
       "display": "flex",
       "flex_flow": "row",
       "grid_auto_columns": "True",
       "justify_content": "flex-start",
       "width": "80%"
      }
     },
     "386df6612412417ab1f4b8a96d6cea00": {
      "model_module": "@jupyter-widgets/controls",
      "model_module_version": "1.5.0",
      "model_name": "VBoxModel",
      "state": {
       "children": [
        "IPY_MODEL_46c8c0a068ce42b2a99de569fd8d451c",
        "IPY_MODEL_b02b0e2074614f0ba314fb6690153b48",
        "IPY_MODEL_90750a3998de48e0beee18d8814216d2",
        "IPY_MODEL_8ebf56d179af4e329f5d3b2527a2c2ac",
        "IPY_MODEL_754bdb10f2f74808bedd19be692ba224",
        "IPY_MODEL_be8cb1703c534a0bbd6b6296d5605bf4",
        "IPY_MODEL_fa94f0d5a6d642d5aaa2fc9a58a938f7",
        "IPY_MODEL_0bb209524318489690e9d29e22f248ce"
       ],
       "layout": "IPY_MODEL_ed2592a1ce6e411da3f227803ae9bd08"
      }
     },
     "3873062abf714b66bda4fc29d37ff1c0": {
      "model_module": "@jupyter-widgets/base",
      "model_module_version": "1.2.0",
      "model_name": "LayoutModel",
      "state": {}
     },
     "38dcfb6c4cd54c609b77ac7bc555efb2": {
      "model_module": "@jupyter-widgets/base",
      "model_module_version": "1.2.0",
      "model_name": "LayoutModel",
      "state": {
       "display": "flex",
       "flex_flow": "row",
       "grid_auto_columns": "False",
       "justify_content": "flex-start",
       "width": "100%"
      }
     },
     "38fa2be86ca94f298a16ffff8842ec59": {
      "model_module": "@jupyter-widgets/controls",
      "model_module_version": "1.5.0",
      "model_name": "HBoxModel",
      "state": {
       "children": [
        "IPY_MODEL_4e9f45c13f86447e984164c8d10613e7"
       ],
       "layout": "IPY_MODEL_a6f41ef33c13494c90e11ec384501785"
      }
     },
     "3910d8f3271b4885be91e0dfaa1f3d43": {
      "model_module": "@jupyter-widgets/output",
      "model_module_version": "1.0.0",
      "model_name": "OutputModel",
      "state": {
       "layout": "IPY_MODEL_c1c32eeb95b64c33a66895c7c963f969"
      }
     },
     "3920df3313c9462d987dd6590d2ce4d4": {
      "model_module": "@jupyter-widgets/base",
      "model_module_version": "1.2.0",
      "model_name": "LayoutModel",
      "state": {}
     },
     "39964524c5864a1ea991d3109c1ed018": {
      "model_module": "@jupyter-widgets/controls",
      "model_module_version": "1.5.0",
      "model_name": "HTMLModel",
      "state": {
       "layout": "IPY_MODEL_9d61df7dadc04f7685b6b558f3d8c70f",
       "style": "IPY_MODEL_28984983bd7549baaaaec1f691b841b1",
       "value": "<p>its a foo cake</p>"
      }
     },
     "39b35bf344a649e9a44c4bf33fd24a87": {
      "model_module": "@jupyter-widgets/base",
      "model_module_version": "1.2.0",
      "model_name": "LayoutModel",
      "state": {
       "align_items": "stretch",
       "display": "flex",
       "flex_flow": "row",
       "grid_auto_columns": "True",
       "justify_content": "flex-start",
       "width": "80%"
      }
     },
     "39d26dbe85eb4fdab39e813ed69a6095": {
      "model_module": "@jupyter-widgets/base",
      "model_module_version": "1.2.0",
      "model_name": "LayoutModel",
      "state": {}
     },
     "39d60be42fd34d4fa158bd7476448768": {
      "model_module": "@jupyter-widgets/base",
      "model_module_version": "1.2.0",
      "model_name": "LayoutModel",
      "state": {
       "align_items": "stretch",
       "display": "flex",
       "flex_flow": "row",
       "grid_auto_columns": "True",
       "justify_content": "flex-start",
       "width": "80%"
      }
     },
     "3a0b03be0d004b7d80645bae7250392b": {
      "model_module": "@jupyter-widgets/controls",
      "model_module_version": "1.5.0",
      "model_name": "HTMLModel",
      "state": {
       "layout": "IPY_MODEL_7e4fbff25a1d477bab85c3584be7629f",
       "style": "IPY_MODEL_3431e1208ffe40b3bdb9b2113bb09c7c",
       "value": "<p>input docx filepath</p>"
      }
     },
     "3a19180472024c5cac228a790dbaf95d": {
      "model_module": "@jupyter-widgets/base",
      "model_module_version": "1.2.0",
      "model_name": "LayoutModel",
      "state": {}
     },
     "3a66723354724fa58118d2a9a064390d": {
      "model_module": "@jupyter-widgets/base",
      "model_module_version": "1.2.0",
      "model_name": "LayoutModel",
      "state": {}
     },
     "3aa08261d1d94a04b76cfca926fcb67a": {
      "model_module": "@jupyter-widgets/controls",
      "model_module_version": "1.5.0",
      "model_name": "HBoxModel",
      "state": {
       "children": [
        "IPY_MODEL_654d365529f24749813a0be6c481dc4e",
        "IPY_MODEL_9fbdf49002f5487a8bcc078897a0ed24"
       ],
       "layout": "IPY_MODEL_cd25d4cc1546450a8f99db6e6d7c52ed"
      }
     },
     "3aac42aca163407db556ce76d7e955dd": {
      "model_module": "@jupyter-widgets/base",
      "model_module_version": "1.2.0",
      "model_name": "LayoutModel",
      "state": {}
     },
     "3ab0c2ec4db34ff39f5804c172d4a01d": {
      "model_module": "@jupyter-widgets/controls",
      "model_module_version": "1.5.0",
      "model_name": "HTMLModel",
      "state": {
       "layout": "IPY_MODEL_e73c31030d074d2187e60c11d7b5db01",
       "style": "IPY_MODEL_ad6e98a9d8704211a5e9d1b60af6daf2",
       "value": "<p>foo</p>"
      }
     },
     "3abf2127a71748a29969e31b7aaca21e": {
      "model_module": "@jupyter-widgets/base",
      "model_module_version": "1.2.0",
      "model_name": "LayoutModel",
      "state": {}
     },
     "3ad0cf9714ef458ca9411f5f2f164e22": {
      "model_module": "@jupyter-widgets/controls",
      "model_module_version": "1.5.0",
      "model_name": "TextModel",
      "state": {
       "layout": "IPY_MODEL_0f6d4e8fe9d24d29a2ce8a2d2668efb9",
       "style": "IPY_MODEL_90d7bfc3b1ba4f38bbf99c67f9d2b550",
       "value": "BlockCode"
      }
     },
     "3ad7d1de92b5483aa880116938e04efd": {
      "model_module": "@jupyter-widgets/base",
      "model_module_version": "1.2.0",
      "model_name": "LayoutModel",
      "state": {
       "align_items": "stretch",
       "border": "dashed 0.2px green",
       "display": "flex",
       "flex_flow": "row",
       "grid_auto_columns": "True",
       "justify_content": "flex-start",
       "width": "100%"
      }
     },
     "3b0413f78a3c4b74ba5c41a3586e3093": {
      "model_module": "@jupyter-widgets/base",
      "model_module_version": "1.2.0",
      "model_name": "LayoutModel",
      "state": {}
     },
     "3b46dc3b25a24ac89b72ffbc3c710a85": {
      "model_module": "@jupyter-widgets/controls",
      "model_module_version": "1.5.0",
      "model_name": "HBoxModel",
      "state": {
       "children": [
        "IPY_MODEL_a6e4f112a25c417c8cb3b16bb64067a1",
        "IPY_MODEL_f4c7d18c2239468699abb8fcc3bc20da"
       ],
       "layout": "IPY_MODEL_913777fd523940d58061a7ae41a42524"
      }
     },
     "3b6faad69c1a481998df0fb83422a7e1": {
      "model_module": "@jupyter-widgets/controls",
      "model_module_version": "1.5.0",
      "model_name": "HBoxModel",
      "state": {
       "children": [
        "IPY_MODEL_5be6baab1b204978bc5113099bde4dbf",
        "IPY_MODEL_1b3b82254e1d4e06a234dbee1d280a89"
       ],
       "layout": "IPY_MODEL_485197820242422595a9c1901b1599c5"
      }
     },
     "3b86ad446b474400ad3163edbf306c1f": {
      "model_module": "@jupyter-widgets/base",
      "model_module_version": "1.2.0",
      "model_name": "LayoutModel",
      "state": {}
     },
     "3b988d4735a2475cad231e7c238da790": {
      "model_module": "@jupyter-widgets/output",
      "model_module_version": "1.0.0",
      "model_name": "OutputModel",
      "state": {
       "layout": "IPY_MODEL_c2a21fcb9f104631a509407dd19ce165"
      }
     },
     "3bbbf861f3694b7e930e549ab6397251": {
      "model_module": "@jupyter-widgets/controls",
      "model_module_version": "1.5.0",
      "model_name": "HTMLModel",
      "state": {
       "layout": "IPY_MODEL_955c177f054d423cbefb884717bab015",
       "style": "IPY_MODEL_a9f7438f6464443d94aebf2e39916fb5",
       "value": "<p>label</p>"
      }
     },
     "3bd5c48d9de74b01b720e31d84a43055": {
      "model_module": "@jupyter-widgets/base",
      "model_module_version": "1.2.0",
      "model_name": "LayoutModel",
      "state": {}
     },
     "3c2e6ecc390e4f21b834f5440413b1c4": {
      "model_module": "@jupyter-widgets/controls",
      "model_module_version": "1.5.0",
      "model_name": "DescriptionStyleModel",
      "state": {
       "description_width": ""
      }
     },
     "3c46855004d04ad9b6ad02434741c0b8": {
      "model_module": "@jupyter-widgets/output",
      "model_module_version": "1.0.0",
      "model_name": "OutputModel",
      "state": {
       "layout": "IPY_MODEL_02e55da623e1439ba59a0263a814db50"
      }
     },
     "3c495961f3b44411be40e48fba33054e": {
      "model_module": "@jupyter-widgets/controls",
      "model_module_version": "1.5.0",
      "model_name": "DescriptionStyleModel",
      "state": {
       "description_width": ""
      }
     },
     "3c5fa03394d84ccba03fb30d9df98fbe": {
      "model_module": "@jupyter-widgets/base",
      "model_module_version": "1.2.0",
      "model_name": "LayoutModel",
      "state": {
       "align_items": "stretch",
       "display": "flex",
       "flex_flow": "row",
       "grid_auto_columns": "True",
       "justify_content": "flex-start",
       "width": "80%"
      }
     },
     "3c6478099d1e4b6fb08952910e84a099": {
      "model_module": "@jupyter-widgets/controls",
      "model_module_version": "1.5.0",
      "model_name": "HBoxModel",
      "state": {
       "children": [
        "IPY_MODEL_412c098f54a647929729fd3784fced4b",
        "IPY_MODEL_1d4d3cb0f22043debe6eb45b5b2bc8c3"
       ],
       "layout": "IPY_MODEL_7eace1bc55894cc298ff0c134dac7d85"
      }
     },
     "3c7d019a3fe44c00935a80d69b28fb08": {
      "model_module": "@jupyter-widgets/base",
      "model_module_version": "1.2.0",
      "model_name": "LayoutModel",
      "state": {
       "align_items": "stretch",
       "display": "flex",
       "flex_flow": "row",
       "grid_auto_columns": "True",
       "justify_content": "flex-end",
       "width": "90%"
      }
     },
     "3c918c7a518e4068b64025f6b07f68fb": {
      "model_module": "@jupyter-widgets/controls",
      "model_module_version": "1.5.0",
      "model_name": "DescriptionStyleModel",
      "state": {
       "description_width": ""
      }
     },
     "3cb91b69c094437cb4141ff78b0f6b76": {
      "model_module": "ipysheet",
      "model_module_version": "~0.4.4",
      "model_name": "CellRangeModel",
      "state": {
       "_view_module": null,
       "_view_module_version": "",
       "choice": [],
       "numeric_format": null,
       "row_end": 3,
       "row_start": 0,
       "squeeze_row": false,
       "type": "text",
       "value": [
        "<class 'float'>",
        "<class 'NoneType'>",
        "<class 'float'>",
        "<class 'float'>"
       ]
      }
     },
     "3cc51f3a09674d329ac971c45d787269": {
      "model_module": "@jupyter-widgets/base",
      "model_module_version": "1.2.0",
      "model_name": "LayoutModel",
      "state": {}
     },
     "3cd032fc5c394fbbb04bd13d0cfff030": {
      "model_module": "@jupyter-widgets/controls",
      "model_module_version": "1.5.0",
      "model_name": "HBoxModel",
      "state": {
       "children": [
        "IPY_MODEL_64070c0478554159b7f902e688ba1882",
        "IPY_MODEL_79422bc409694322899874271608c341"
       ],
       "layout": "IPY_MODEL_2dbeaa906d794c209d7543d8773d4a63"
      }
     },
     "3cf94cebcd144bd7a23684a005a1bdb9": {
      "model_module": "@jupyter-widgets/controls",
      "model_module_version": "1.5.0",
      "model_name": "DescriptionStyleModel",
      "state": {
       "description_width": ""
      }
     },
     "3d6c19e05cdb4f21a6789f358a96cd02": {
      "model_module": "@jupyter-widgets/controls",
      "model_module_version": "1.5.0",
      "model_name": "HBoxModel",
      "state": {
       "children": [
        "IPY_MODEL_2d009b888ef440de89f0546e90ac19db"
       ],
       "layout": "IPY_MODEL_b2be24ff240e4923a16d19ab07bfdd97"
      }
     },
     "3d71d3e3862b4caab0d8e3e3e1bf8aa3": {
      "model_module": "@jupyter-widgets/output",
      "model_module_version": "1.0.0",
      "model_name": "OutputModel",
      "state": {
       "layout": "IPY_MODEL_6e8072b52b534f94b6d64ffcd0c42af0"
      }
     },
     "3d7fb63d27654572ae5d70d6f9b96fa9": {
      "model_module": "@jupyter-widgets/controls",
      "model_module_version": "1.5.0",
      "model_name": "DescriptionStyleModel",
      "state": {
       "description_width": ""
      }
     },
     "3dcb29bac3cb4c87b9538265351f1e7d": {
      "model_module": "@jupyter-widgets/controls",
      "model_module_version": "1.5.0",
      "model_name": "DescriptionStyleModel",
      "state": {
       "description_width": ""
      }
     },
     "3df8670a4e1344a89886b030595ec719": {
      "model_module": "@jupyter-widgets/controls",
      "model_module_version": "1.5.0",
      "model_name": "HTMLModel",
      "state": {
       "layout": "IPY_MODEL_055f700debf1419eaef1d883ede17fcf",
       "style": "IPY_MODEL_71f827ef334a4acca7ce950c6c67bb03",
       "value": "<p>its a foo cake</p>"
      }
     },
     "3e251fdda7a04102b5993a811b0856c1": {
      "model_module": "@jupyter-widgets/controls",
      "model_module_version": "1.5.0",
      "model_name": "HBoxModel",
      "state": {
       "children": [
        "IPY_MODEL_36c399afd3bc4a829da7a654a7e9167b",
        "IPY_MODEL_589591b944164b55b09b743734353dc9"
       ],
       "layout": "IPY_MODEL_8cba3e81536e46c19677de16f2e81cee"
      }
     },
     "3e997fac3fc44da092385b716fb05c65": {
      "model_module": "@jupyter-widgets/base",
      "model_module_version": "1.2.0",
      "model_name": "LayoutModel",
      "state": {}
     },
     "3ea6e7689b394cbe8159661565102f71": {
      "model_module": "@jupyter-widgets/base",
      "model_module_version": "1.2.0",
      "model_name": "LayoutModel",
      "state": {}
     },
     "3eb9a44a185e440bae4ea55b0d56e675": {
      "model_module": "@jupyter-widgets/base",
      "model_module_version": "1.2.0",
      "model_name": "LayoutModel",
      "state": {}
     },
     "3ec911c8af8341c797bd715d2770414c": {
      "model_module": "@jupyter-widgets/output",
      "model_module_version": "1.0.0",
      "model_name": "OutputModel",
      "state": {
       "layout": "IPY_MODEL_6b4f52435d97470d86cd0bb41a4ecd3e",
       "outputs": [
        {
         "data": {
          "application/vnd.jupyter.widget-view+json": {
           "model_id": "",
           "version_major": 2,
           "version_minor": 0
          },
          "text/plain": "Output()"
         },
         "metadata": {},
         "output_type": "display_data"
        },
        {
         "data": {
          "application/vnd.jupyter.widget-view+json": {
           "model_id": "",
           "version_major": 2,
           "version_minor": 0
          },
          "text/plain": "Output()"
         },
         "metadata": {},
         "output_type": "display_data"
        }
       ]
      }
     },
     "3ee4b54c202648a0ace5e51e349efd6d": {
      "model_module": "@jupyter-widgets/base",
      "model_module_version": "1.2.0",
      "model_name": "LayoutModel",
      "state": {}
     },
     "3f828579a3c34acb85bf5b74c8f67e3c": {
      "model_module": "@jupyter-widgets/base",
      "model_module_version": "1.2.0",
      "model_name": "LayoutModel",
      "state": {}
     },
     "3f8a04c8cc634b8aa62775cd92cf5c23": {
      "model_module": "@jupyter-widgets/controls",
      "model_module_version": "1.5.0",
      "model_name": "DescriptionStyleModel",
      "state": {
       "description_width": ""
      }
     },
     "3fbe3f1db2a64a57b40a673c41ef75c9": {
      "model_module": "@jupyter-widgets/base",
      "model_module_version": "1.2.0",
      "model_name": "LayoutModel",
      "state": {}
     },
     "3ff8fcd215be4c85a25c446edb89c98e": {
      "model_module": "@jupyter-widgets/controls",
      "model_module_version": "1.5.0",
      "model_name": "DescriptionStyleModel",
      "state": {
       "description_width": ""
      }
     },
     "4008e03d96914a379cd7dfbb2f4e7601": {
      "model_module": "@jupyter-widgets/base",
      "model_module_version": "1.2.0",
      "model_name": "LayoutModel",
      "state": {
       "align_items": "stretch",
       "border": "dashed 0.2px green",
       "display": "flex",
       "flex_flow": "row",
       "grid_auto_columns": "True",
       "justify_content": "flex-start",
       "width": "100%"
      }
     },
     "402def3e9f4b4e1da4b2698ecf671e59": {
      "model_module": "@jupyter-widgets/controls",
      "model_module_version": "1.5.0",
      "model_name": "HBoxModel",
      "state": {
       "children": [
        "IPY_MODEL_5b20b02a23cd43dfa280f4963dbec2af",
        "IPY_MODEL_20ed13099672467cb18cd02b571f2458"
       ],
       "layout": "IPY_MODEL_d078db30e1994f31adfa7070afa1656e"
      }
     },
     "402f8905633244ec82dedce124028676": {
      "model_module": "@jupyter-widgets/base",
      "model_module_version": "1.2.0",
      "model_name": "LayoutModel",
      "state": {}
     },
     "40738273d57a47ccb3b80147be17fc73": {
      "model_module": "@jupyter-widgets/controls",
      "model_module_version": "1.5.0",
      "model_name": "ButtonStyleModel",
      "state": {
       "font_weight": "bold"
      }
     },
     "4077713ff63c46abbe8431b30a353eb5": {
      "model_module": "@jupyter-widgets/output",
      "model_module_version": "1.0.0",
      "model_name": "OutputModel",
      "state": {
       "layout": "IPY_MODEL_69d16585969f48dd9c2a610e34ff877c"
      }
     },
     "408cb1442412429390252f278e0f4bf9": {
      "model_module": "@jupyter-widgets/base",
      "model_module_version": "1.2.0",
      "model_name": "LayoutModel",
      "state": {}
     },
     "40d7e68887e6489c9438936b66e55537": {
      "model_module": "@jupyter-widgets/controls",
      "model_module_version": "1.5.0",
      "model_name": "DescriptionStyleModel",
      "state": {
       "description_width": ""
      }
     },
     "40dabefe6e2e416aaa3acda7c73d3e42": {
      "model_module": "@jupyter-widgets/controls",
      "model_module_version": "1.5.0",
      "model_name": "ButtonModel",
      "state": {
       "button_style": "success",
       "description": "save changes",
       "layout": "IPY_MODEL_33a4279d33614388b7ca26d4fadad52b",
       "style": "IPY_MODEL_1d31546ba6924ccb8bc4a45e35735ac8"
      }
     },
     "40e79f94b939430fbc6b27689c48f014": {
      "model_module": "@jupyter-widgets/controls",
      "model_module_version": "1.5.0",
      "model_name": "HBoxModel",
      "state": {
       "children": [
        "IPY_MODEL_465a209db4f4411abf0da0dcdc343df4",
        "IPY_MODEL_24e7842e7a6b4e74a859fbd555bbbaea"
       ],
       "layout": "IPY_MODEL_cedf5fc36b1d4c6bb900c2df8d74c8b3"
      }
     },
     "40f169be511743638c85ff06f77ef867": {
      "model_module": "@jupyter-widgets/base",
      "model_module_version": "1.2.0",
      "model_name": "LayoutModel",
      "state": {}
     },
     "4126603dd2b743f9bac7bc83924d52b0": {
      "model_module": "@jupyter-widgets/base",
      "model_module_version": "1.2.0",
      "model_name": "LayoutModel",
      "state": {}
     },
     "412c098f54a647929729fd3784fced4b": {
      "model_module": "@jupyter-widgets/controls",
      "model_module_version": "1.5.0",
      "model_name": "ToggleButtonModel",
      "state": {
       "icon": "arrow-down",
       "layout": "IPY_MODEL_379cd49fdd9e4f0b8a3c7b60f10ea888",
       "style": "IPY_MODEL_c01717f17f9141ed86b763e51d356fa4"
      }
     },
     "416335bcd2b44e22affcc658f4145b41": {
      "model_module": "@jupyter-widgets/base",
      "model_module_version": "1.2.0",
      "model_name": "LayoutModel",
      "state": {}
     },
     "416951b301444cc9a1e86172f8f58d2f": {
      "model_module": "@jupyter-widgets/base",
      "model_module_version": "1.2.0",
      "model_name": "LayoutModel",
      "state": {}
     },
     "416fddd629754fd48569a00ef733ffd3": {
      "model_module": "@jupyter-widgets/base",
      "model_module_version": "1.2.0",
      "model_name": "LayoutModel",
      "state": {}
     },
     "419ddcea7c824eb0be575d96a4924f2e": {
      "model_module": "@jupyter-widgets/controls",
      "model_module_version": "1.5.0",
      "model_name": "DescriptionStyleModel",
      "state": {
       "description_width": ""
      }
     },
     "41b670a4d2774d289139848133a236e8": {
      "model_module": "@jupyter-widgets/output",
      "model_module_version": "1.0.0",
      "model_name": "OutputModel",
      "state": {
       "layout": "IPY_MODEL_3a66723354724fa58118d2a9a064390d"
      }
     },
     "41e6268399ee4f4dba593f5c23eb8320": {
      "model_module": "@jupyter-widgets/controls",
      "model_module_version": "1.5.0",
      "model_name": "HTMLModel",
      "state": {
       "layout": "IPY_MODEL_bfbff28764fa4f8390ca7f84a9a28003",
       "style": "IPY_MODEL_f16b2ebf1578441e883b52639d60c5ad",
       "value": "<p>name</p>"
      }
     },
     "41f2ede03cf04748b310a901ad89f396": {
      "model_module": "@jupyter-widgets/controls",
      "model_module_version": "1.5.0",
      "model_name": "CheckboxModel",
      "state": {
       "disabled": false,
       "layout": "IPY_MODEL_34515964563b4ce98b9675c4d74f32f1",
       "style": "IPY_MODEL_5e051ffa0f244cb1a456e3aa4ea76e13",
       "value": false
      }
     },
     "42302d83e9644d2eb4c96348c44ecce8": {
      "model_module": "@jupyter-widgets/base",
      "model_module_version": "1.2.0",
      "model_name": "LayoutModel",
      "state": {}
     },
     "424daa94217649beb01c3c8c667aeaa4": {
      "model_module": "ipysheet",
      "model_module_version": "~0.4.4",
      "model_name": "CellRangeModel",
      "state": {
       "_view_module": null,
       "_view_module_version": "",
       "choice": [],
       "column_end": 0,
       "column_start": 0,
       "numeric_format": null,
       "row_end": 3,
       "row_start": 0,
       "squeeze_row": false,
       "type": "text",
       "value": [
        "<class 'float'>",
        "<class 'NoneType'>",
        "<class 'NoneType'>",
        "<class 'NoneType'>"
       ]
      }
     },
     "4284b62fa50e4c14ade07b18dc0ddd27": {
      "model_module": "@jupyter-widgets/controls",
      "model_module_version": "1.5.0",
      "model_name": "VBoxModel",
      "state": {
       "children": [
        "IPY_MODEL_ec33f02d70aa48c88bacceaeb43927b0"
       ],
       "layout": "IPY_MODEL_60817a36454e424e80df9a461195b845"
      }
     },
     "42959c0406094d31ada073668b40ca5b": {
      "model_module": "@jupyter-widgets/controls",
      "model_module_version": "1.5.0",
      "model_name": "DescriptionStyleModel",
      "state": {
       "description_width": ""
      }
     },
     "42a2f8b846724e35859298f19b82f648": {
      "model_module": "@jupyter-widgets/controls",
      "model_module_version": "1.5.0",
      "model_name": "FloatTextModel",
      "state": {
       "layout": "IPY_MODEL_b0889a0ec75645449d13e47a98e28226",
       "step": null,
       "style": "IPY_MODEL_26c86707d1a640b2a7490c906c50c694",
       "value": 9
      }
     },
     "431bc2ccbfe2411e8687679a9ec3ac22": {
      "model_module": "@jupyter-widgets/controls",
      "model_module_version": "1.5.0",
      "model_name": "HBoxModel",
      "state": {
       "children": [
        "IPY_MODEL_553e654d4fee485aadae257779e48ceb",
        "IPY_MODEL_86458a95245f4105bcb892b9a20dfa09"
       ],
       "layout": "IPY_MODEL_f1c7c45c4d614bdba5061f4439c8ce6a"
      }
     },
     "433f08b1908447ffbc62a743ced6bcd4": {
      "model_module": "@jupyter-widgets/base",
      "model_module_version": "1.2.0",
      "model_name": "LayoutModel",
      "state": {}
     },
     "4365215ea35b423cb9c17cf609b8034e": {
      "model_module": "@jupyter-widgets/controls",
      "model_module_version": "1.5.0",
      "model_name": "ButtonModel",
      "state": {
       "button_style": "info",
       "description": "show source code",
       "layout": "IPY_MODEL_a8c892d8156046209890c090f5a410ca",
       "style": "IPY_MODEL_c891ea6d0e794dbb85d71f929d764dbb",
       "tooltip": "shows the raw python code in the preview window below"
      }
     },
     "43af2ebef81b4c919553ed72d6faa313": {
      "model_module": "@jupyter-widgets/controls",
      "model_module_version": "1.5.0",
      "model_name": "HBoxModel",
      "state": {
       "children": [
        "IPY_MODEL_4b491328d11346469face57070e3adbc",
        "IPY_MODEL_8bccaf8b9331495580e6f59a83f2975a"
       ],
       "layout": "IPY_MODEL_bacca3be203f447ea1af605ea4cd5085"
      }
     },
     "43c4ffdc1a3d48b7a1a047749334cb8c": {
      "model_module": "@jupyter-widgets/controls",
      "model_module_version": "1.5.0",
      "model_name": "DescriptionStyleModel",
      "state": {
       "description_width": ""
      }
     },
     "43cc90686e4649dcb9f19fcdb2f80823": {
      "model_module": "@jupyter-widgets/output",
      "model_module_version": "1.0.0",
      "model_name": "OutputModel",
      "state": {
       "layout": "IPY_MODEL_73e4d36e49cd49a08b6f2a116ae2e01a"
      }
     },
     "43cdb790bff242c2aca9fb126af83656": {
      "model_module": "@jupyter-widgets/controls",
      "model_module_version": "1.5.0",
      "model_name": "HBoxModel",
      "state": {
       "children": [
        "IPY_MODEL_68a188fc77cd41bda9e3bdc6a1fb0a39",
        "IPY_MODEL_1f43eee8b1a447cd82a007d5bd16bade"
       ],
       "layout": "IPY_MODEL_11f194ff80664b4d805e6d420a1b8f58"
      }
     },
     "43d78dc25e86447194529cc365deda10": {
      "model_module": "@jupyter-widgets/controls",
      "model_module_version": "1.5.0",
      "model_name": "DescriptionStyleModel",
      "state": {
       "description_width": ""
      }
     },
     "43fa8275400d4c6ba2050b2dd9402d5e": {
      "model_module": "@jupyter-widgets/controls",
      "model_module_version": "1.5.0",
      "model_name": "HBoxModel",
      "state": {
       "children": [
        "IPY_MODEL_b84b8541801c47509231704e666b17fb",
        "IPY_MODEL_de46f42af91d4426a5328cc3c92adbd0"
       ],
       "layout": "IPY_MODEL_59b6bca2be3f4e81a7612426871f9009"
      }
     },
     "4406ee935bb4403eb00f3482900c9550": {
      "model_module": "@jupyter-widgets/controls",
      "model_module_version": "1.5.0",
      "model_name": "HBoxModel",
      "state": {
       "children": [
        "IPY_MODEL_e4f9d5c9cc8b43f6b160806ab840f105",
        "IPY_MODEL_d35247d194c64e0b8a196ebb454a3408"
       ],
       "layout": "IPY_MODEL_ca777d93328447c2b9e01c470719e8b4"
      }
     },
     "44468c6feaf64c66a8b94bd74a5833cd": {
      "model_module": "@jupyter-widgets/controls",
      "model_module_version": "1.5.0",
      "model_name": "DescriptionStyleModel",
      "state": {
       "description_width": ""
      }
     },
     "449f20d944a2426ea66c23c917fcd14b": {
      "model_module": "@jupyter-widgets/base",
      "model_module_version": "1.2.0",
      "model_name": "LayoutModel",
      "state": {}
     },
     "44a8fab0a05a49ff831aeecf246ed824": {
      "model_module": "@jupyter-widgets/controls",
      "model_module_version": "1.5.0",
      "model_name": "DescriptionStyleModel",
      "state": {
       "description_width": ""
      }
     },
     "44defa461a9543fa806a4c60588b2ba3": {
      "model_module": "@jupyter-widgets/controls",
      "model_module_version": "1.5.0",
      "model_name": "HTMLModel",
      "state": {
       "layout": "IPY_MODEL_fd9b8fbe51e24c81b7fed178008cce5c",
       "style": "IPY_MODEL_8f851d93de824cdbb72acfcb9d292e2f",
       "value": "<p>Model Desc</p>"
      }
     },
     "44ebc825b14e4765a2613cc9631fe93d": {
      "model_module": "@jupyter-widgets/base",
      "model_module_version": "1.2.0",
      "model_name": "LayoutModel",
      "state": {}
     },
     "4506200af12649709fcfe2e9ea2137f6": {
      "model_module": "@jupyter-widgets/controls",
      "model_module_version": "1.5.0",
      "model_name": "HBoxModel",
      "state": {
       "children": [
        "IPY_MODEL_f1b59d54f3a447e29f9ec81f8337f994",
        "IPY_MODEL_9f4c7ae66f954ce48785cd75589a21ed"
       ],
       "layout": "IPY_MODEL_0f315f4ed6ad44a5a74f6234ca750fcb"
      }
     },
     "451fbcb00d8a4905b9822a1faf7dee59": {
      "model_module": "@jupyter-widgets/controls",
      "model_module_version": "1.5.0",
      "model_name": "ToggleButtonModel",
      "state": {
       "description": "help",
       "icon": "fa-question-circle",
       "layout": "IPY_MODEL_621dba73ed384cd4a982a076f8d95c31",
       "style": "IPY_MODEL_10c1d59b891842c69e0ae4a1c16710a6",
       "tooltip": "gives guidance"
      }
     },
     "4531618929cb47c6bebf4cd02639890f": {
      "model_module": "@jupyter-widgets/base",
      "model_module_version": "1.2.0",
      "model_name": "LayoutModel",
      "state": {}
     },
     "4547f6880a1146489bd63219970f5c18": {
      "model_module": "@jupyter-widgets/controls",
      "model_module_version": "1.5.0",
      "model_name": "TextModel",
      "state": {
       "layout": "IPY_MODEL_edb740bab69b47429e144e2399b4bc43",
       "style": "IPY_MODEL_b27058588a164e0a8dd781854e744633",
       "value": "TM46Category"
      }
     },
     "4566cf73c72e48a580dddcd6a4846983": {
      "model_module": "@jupyter-widgets/controls",
      "model_module_version": "1.5.0",
      "model_name": "HBoxModel",
      "state": {
       "children": [
        "IPY_MODEL_b8d0a6210d284e7ab5a4f273702e6c33",
        "IPY_MODEL_6d0f52cacf0f48789d93150f1a4d6266"
       ],
       "layout": "IPY_MODEL_5013ad7341f54917b52131b800ae2b83"
      }
     },
     "45677d34996145e3b8e87fd4f0d91cd5": {
      "model_module": "@jupyter-widgets/base",
      "model_module_version": "1.2.0",
      "model_name": "LayoutModel",
      "state": {}
     },
     "459d58497b05461183f5014e4973777e": {
      "model_module": "@jupyter-widgets/controls",
      "model_module_version": "1.5.0",
      "model_name": "HBoxModel",
      "state": {
       "children": [
        "IPY_MODEL_f882cb9a184e4ab38de211f831ce3030",
        "IPY_MODEL_9459386c6a2646c8851f6096ca877b36"
       ],
       "layout": "IPY_MODEL_aaf949d0731549e48bee53813c0f8b91"
      }
     },
     "4614c6ccde8c4c388e2c48433800ee61": {
      "model_module": "@jupyter-widgets/base",
      "model_module_version": "1.2.0",
      "model_name": "LayoutModel",
      "state": {}
     },
     "464da05102984793a07b7de8eb45ff8f": {
      "model_module": "@jupyter-widgets/controls",
      "model_module_version": "1.5.0",
      "model_name": "DescriptionStyleModel",
      "state": {
       "description_width": ""
      }
     },
     "46542fc8d83f465d98c139be8e4fe26b": {
      "model_module": "@jupyter-widgets/controls",
      "model_module_version": "1.5.0",
      "model_name": "ButtonStyleModel",
      "state": {
       "font_weight": "bold"
      }
     },
     "465a209db4f4411abf0da0dcdc343df4": {
      "model_module": "@jupyter-widgets/controls",
      "model_module_version": "1.5.0",
      "model_name": "HTMLModel",
      "state": {
       "layout": "IPY_MODEL_e6a24010d8cc49c3bdb44bca005bb1a7",
       "style": "IPY_MODEL_f98c9f95bd754ce4a6c6d024a6b07454",
       "value": "<p>reus foo ous oo ous foo st</p>"
      }
     },
     "466b6ad18589415db56a207d2c52b52d": {
      "model_module": "@jupyter-widgets/controls",
      "model_module_version": "1.5.0",
      "model_name": "HBoxModel",
      "state": {
       "children": [
        "IPY_MODEL_b17f30359b2c454ebb5f0ede8e75a43f",
        "IPY_MODEL_9cc944824a69441aac532818393484cf"
       ],
       "layout": "IPY_MODEL_22308a4c8a074c4689c84430ac9685d0"
      }
     },
     "46a1a5cf0ea64d3fb5669b07224bf248": {
      "model_module": "@jupyter-widgets/controls",
      "model_module_version": "1.5.0",
      "model_name": "HBoxModel",
      "state": {
       "children": [
        "IPY_MODEL_112fd63cf1004ef0b08cd6fa071d9460"
       ],
       "layout": "IPY_MODEL_ecbbe0e3eed145c9b74aad68a517ee5e"
      }
     },
     "46a312d8739f4a35a0ac2c6ebc4465bd": {
      "model_module": "@jupyter-widgets/controls",
      "model_module_version": "1.5.0",
      "model_name": "HBoxModel",
      "state": {
       "children": [
        "IPY_MODEL_fd660e9fdb6542faa02ec49818957cea",
        "IPY_MODEL_99ab9cd5550640bab7fae1c0a2419ee1"
       ],
       "layout": "IPY_MODEL_9652446d389b452a894cdc4bd6eed248"
      }
     },
     "46a97afca8d2498a8d4b307264b22bcd": {
      "model_module": "@jupyter-widgets/controls",
      "model_module_version": "1.5.0",
      "model_name": "DescriptionStyleModel",
      "state": {
       "description_width": ""
      }
     },
     "46c8c0a068ce42b2a99de569fd8d451c": {
      "model_module": "@jupyter-widgets/controls",
      "model_module_version": "1.5.0",
      "model_name": "HBoxModel",
      "state": {
       "children": [
        "IPY_MODEL_0c4e5c9e032d4516b49d59d847bde569",
        "IPY_MODEL_22c36b52f3e3407aa7c14b712518d0b2"
       ],
       "layout": "IPY_MODEL_0290c706858b4cffba8051be500d5393"
      }
     },
     "46e75c8dc65b4c53963a9bfe995e9fb3": {
      "model_module": "@jupyter-widgets/base",
      "model_module_version": "1.2.0",
      "model_name": "LayoutModel",
      "state": {}
     },
     "46fcd17c3b394061b651d200944bb897": {
      "model_module": "@jupyter-widgets/base",
      "model_module_version": "1.2.0",
      "model_name": "LayoutModel",
      "state": {}
     },
     "4705b6c8e04a4012bfed1c602b03ce4a": {
      "model_module": "@jupyter-widgets/output",
      "model_module_version": "1.0.0",
      "model_name": "OutputModel",
      "state": {
       "layout": "IPY_MODEL_9352f8ad3f33434cbc5044bac8ab5672"
      }
     },
     "4729ba182fff424b93a17e13fec0553f": {
      "model_module": "@jupyter-widgets/controls",
      "model_module_version": "1.5.0",
      "model_name": "HBoxModel",
      "state": {
       "children": [
        "IPY_MODEL_7e3ed3e410154ab597652408db8f21d8",
        "IPY_MODEL_310692d3f696495799e470fdcc7c460d"
       ],
       "layout": "IPY_MODEL_9c83e413b9c744309c0252e723ecd789"
      }
     },
     "47369d5e9e0842eeb6a1e1493a99fbca": {
      "model_module": "@jupyter-widgets/controls",
      "model_module_version": "1.5.0",
      "model_name": "SliderStyleModel",
      "state": {
       "description_width": ""
      }
     },
     "47471444df4a47c68e209ae0ebb3dbbd": {
      "model_module": "@jupyter-widgets/output",
      "model_module_version": "1.0.0",
      "model_name": "OutputModel",
      "state": {
       "layout": "IPY_MODEL_d9c5d3a5551c44a0ac23822b49ee69f8"
      }
     },
     "474f35b39e564002bb45c08759351ffa": {
      "model_module": "@jupyter-widgets/controls",
      "model_module_version": "1.5.0",
      "model_name": "DescriptionStyleModel",
      "state": {
       "description_width": ""
      }
     },
     "476394c8d2964af491585b79bf618c53": {
      "model_module": "@jupyter-widgets/controls",
      "model_module_version": "1.5.0",
      "model_name": "HBoxModel",
      "state": {
       "children": [
        "IPY_MODEL_2e3299fa173f47e19138793a12e4bed5",
        "IPY_MODEL_96943b469a7e41338086549e93119240"
       ],
       "layout": "IPY_MODEL_095fae032218485a89aa548a2ab51c7f"
      }
     },
     "4773e993cee843cca6e67703553dbc6f": {
      "model_module": "@jupyter-widgets/controls",
      "model_module_version": "1.5.0",
      "model_name": "HBoxModel",
      "state": {
       "children": [
        "IPY_MODEL_3ab0c2ec4db34ff39f5804c172d4a01d",
        "IPY_MODEL_52f23986971243efbdcccbb097b9a19c"
       ],
       "layout": "IPY_MODEL_eae613c703964675863d4f8c33a66b58"
      }
     },
     "479bc44ccab74d8c92c3dcd74fa5069e": {
      "model_module": "@jupyter-widgets/base",
      "model_module_version": "1.2.0",
      "model_name": "LayoutModel",
      "state": {}
     },
     "47e3311363674a1f84534a32e8b9fe49": {
      "model_module": "@jupyter-widgets/base",
      "model_module_version": "1.2.0",
      "model_name": "LayoutModel",
      "state": {
       "align_items": "stretch",
       "border": "dashed 0.2px green",
       "display": "flex",
       "flex_flow": "row",
       "grid_auto_columns": "True",
       "justify_content": "flex-start",
       "width": "100%"
      }
     },
     "47e866a994354281af3358c4d3888964": {
      "model_module": "@jupyter-widgets/base",
      "model_module_version": "1.2.0",
      "model_name": "LayoutModel",
      "state": {}
     },
     "48010d585c664b9ca13fe4769cce56e5": {
      "model_module": "@jupyter-widgets/output",
      "model_module_version": "1.0.0",
      "model_name": "OutputModel",
      "state": {
       "layout": "IPY_MODEL_ee3948ff4533431ebd9f009505d429a1"
      }
     },
     "4808ec1a0b664f099f6e285310b36d2b": {
      "model_module": "@jupyter-widgets/base",
      "model_module_version": "1.2.0",
      "model_name": "LayoutModel",
      "state": {}
     },
     "4814178db5674113a3f0fc743bf8994a": {
      "model_module": "@jupyter-widgets/controls",
      "model_module_version": "1.5.0",
      "model_name": "HBoxModel",
      "state": {
       "children": [
        "IPY_MODEL_9ebfaba46ca74b2fae73501128daca32",
        "IPY_MODEL_48b67828ec0e4933b43b064e1e809517"
       ],
       "layout": "IPY_MODEL_e9eb52e90c5a4f0f850d9c00ab9f5422"
      }
     },
     "485197820242422595a9c1901b1599c5": {
      "model_module": "@jupyter-widgets/base",
      "model_module_version": "1.2.0",
      "model_name": "LayoutModel",
      "state": {
       "align_items": "stretch",
       "display": "flex",
       "flex_flow": "row",
       "grid_auto_columns": "True",
       "justify_content": "flex-start",
       "width": "80%"
      }
     },
     "4878619b4bee429f992a9d43a1ac32d2": {
      "model_module": "@jupyter-widgets/controls",
      "model_module_version": "1.5.0",
      "model_name": "ToggleButtonModel",
      "state": {
       "icon": "arrow-down",
       "layout": "IPY_MODEL_a0f265a6e4fd4fac96f7e656827233d9",
       "style": "IPY_MODEL_1b290d6eda794fb5aa3aee9483239a83"
      }
     },
     "488c39068329427ba4d6d130c0d1dda4": {
      "model_module": "@jupyter-widgets/base",
      "model_module_version": "1.2.0",
      "model_name": "LayoutModel",
      "state": {
       "align_items": "stretch",
       "display": "flex",
       "flex_flow": "row",
       "grid_auto_columns": "True",
       "justify_content": "flex-start",
       "width": "80%"
      }
     },
     "48a8fc10df3947a186242f0af139c336": {
      "model_module": "@jupyter-widgets/base",
      "model_module_version": "1.2.0",
      "model_name": "LayoutModel",
      "state": {
       "align_items": "stretch",
       "border": "dashed 0.2px green",
       "display": "flex",
       "flex_flow": "row",
       "grid_auto_columns": "True",
       "justify_content": "flex-start",
       "width": "100%"
      }
     },
     "48b67828ec0e4933b43b064e1e809517": {
      "model_module": "@jupyter-widgets/controls",
      "model_module_version": "1.5.0",
      "model_name": "AccordionModel",
      "state": {
       "_titles": {
        "0": "gbxml"
       },
       "children": [
        "IPY_MODEL_9028d10c7b7f44bf94c6c18f6464f88e"
       ],
       "layout": "IPY_MODEL_33e6d8f41da64fe2b330e35517556fef",
       "selected_index": null
      }
     },
     "48b90f95d715466f81878f91068d5d8b": {
      "model_module": "@jupyter-widgets/base",
      "model_module_version": "1.2.0",
      "model_name": "LayoutModel",
      "state": {
       "height": "30px",
       "width": "auto"
      }
     },
     "48c51c5d1565431b8d25f28746a9f26f": {
      "model_module": "@jupyter-widgets/controls",
      "model_module_version": "1.5.0",
      "model_name": "DescriptionStyleModel",
      "state": {
       "description_width": ""
      }
     },
     "49088427d6e94dac82310b30c5c7c072": {
      "model_module": "@jupyter-widgets/controls",
      "model_module_version": "1.5.0",
      "model_name": "HTMLModel",
      "state": {
       "layout": "IPY_MODEL_4c675e9e947b49beb4546d58bd8c65d2",
       "style": "IPY_MODEL_419ddcea7c824eb0be575d96a4924f2e",
       "value": "<p>fpth_in</p>"
      }
     },
     "492de8b672d9414f9a741bbe2f71c8b2": {
      "model_module": "@jupyter-widgets/controls",
      "model_module_version": "1.5.0",
      "model_name": "ButtonStyleModel",
      "state": {
       "font_weight": "bold"
      }
     },
     "4951cd10b82a48bf9950bb026d6154c1": {
      "model_module": "@jupyter-widgets/base",
      "model_module_version": "1.2.0",
      "model_name": "LayoutModel",
      "state": {}
     },
     "499c90a9b6cf4f44b3b03865d2142aa7": {
      "model_module": "@jupyter-widgets/output",
      "model_module_version": "1.0.0",
      "model_name": "OutputModel",
      "state": {
       "layout": "IPY_MODEL_1747f62398a7424284639727b9e4d8df"
      }
     },
     "49d1d478b8104448bc7969ebaf0058d9": {
      "model_module": "ipysheet",
      "model_module_version": "~0.4.4",
      "model_name": "CellRangeModel",
      "state": {
       "_view_module": null,
       "_view_module_version": "",
       "choice": [],
       "column_end": 6,
       "column_start": 6,
       "numeric_format": null,
       "row_end": 3,
       "row_start": 0,
       "squeeze_row": false,
       "type": "text",
       "value": [
        "<class 'list'>",
        "<class 'NoneType'>",
        "<class 'NoneType'>",
        "<class 'NoneType'>"
       ]
      }
     },
     "4a93cb8a52874fdd89b1a98c516b5dbe": {
      "model_module": "@jupyter-widgets/base",
      "model_module_version": "1.2.0",
      "model_name": "LayoutModel",
      "state": {
       "align_items": "stretch",
       "display": "flex",
       "flex_flow": "row",
       "grid_auto_columns": "True",
       "justify_content": "flex-end",
       "width": "90%"
      }
     },
     "4aa8bb173569424ab58d045904ca0470": {
      "model_module": "@jupyter-widgets/base",
      "model_module_version": "1.2.0",
      "model_name": "LayoutModel",
      "state": {
       "height": "30px",
       "width": "auto"
      }
     },
     "4ab128fbafd643bea5bc3ffc60e02503": {
      "model_module": "@jupyter-widgets/controls",
      "model_module_version": "1.5.0",
      "model_name": "ButtonStyleModel",
      "state": {
       "font_weight": "bold"
      }
     },
     "4ad299dfb38c42d797f92d54b6fff3c7": {
      "model_module": "@jupyter-widgets/controls",
      "model_module_version": "1.5.0",
      "model_name": "DescriptionStyleModel",
      "state": {
       "description_width": ""
      }
     },
     "4b0909c5b622449db40f3707c7257f46": {
      "model_module": "@jupyter-widgets/base",
      "model_module_version": "1.2.0",
      "model_name": "LayoutModel",
      "state": {
       "align_items": "stretch",
       "border": "dashed 0.2px green",
       "display": "flex",
       "flex_flow": "row",
       "grid_auto_columns": "True",
       "justify_content": "flex-start",
       "width": "100%"
      }
     },
     "4b38c3a988f14cf8a881b488d44e4f42": {
      "model_module": "@jupyter-widgets/controls",
      "model_module_version": "1.5.0",
      "model_name": "HBoxModel",
      "state": {
       "children": [
        "IPY_MODEL_97a0169d1d8e41d48b3669030ef60a5b",
        "IPY_MODEL_c3c140ba791d405187f046aed4dc92f0"
       ],
       "layout": "IPY_MODEL_798d1ada266f4d688a9a141782586a10"
      }
     },
     "4b491328d11346469face57070e3adbc": {
      "model_module": "@jupyter-widgets/controls",
      "model_module_version": "1.5.0",
      "model_name": "HTMLModel",
      "state": {
       "layout": "IPY_MODEL_74d37a9d047c4304ae2c7fdfd11ff226",
       "style": "IPY_MODEL_3cf94cebcd144bd7a23684a005a1bdb9",
       "value": "<p>2</p>"
      }
     },
     "4b79bec0c7954e6b86be3cc83b338178": {
      "model_module": "@jupyter-widgets/base",
      "model_module_version": "1.2.0",
      "model_name": "LayoutModel",
      "state": {}
     },
     "4b89f3cf840440cb9e09ac4b982c28a2": {
      "model_module": "@jupyter-widgets/base",
      "model_module_version": "1.2.0",
      "model_name": "LayoutModel",
      "state": {}
     },
     "4b9120dd60424d338c0bb627b446e7bd": {
      "model_module": "@jupyter-widgets/controls",
      "model_module_version": "1.5.0",
      "model_name": "HTMLModel",
      "state": {
       "layout": "IPY_MODEL_47e866a994354281af3358c4d3888964",
       "style": "IPY_MODEL_bf409d4cdf5c4f5f91c23a3821d3a17a",
       "value": "<p>Number, using to prefix the file name</p>"
      }
     },
     "4bd6c63ade314ea8aa7d58d3ac50aa96": {
      "model_module": "@jupyter-widgets/controls",
      "model_module_version": "1.5.0",
      "model_name": "ButtonStyleModel",
      "state": {
       "font_weight": "bold"
      }
     },
     "4c58a2d2a2474e1ba4c8b06656b248f6": {
      "model_module": "ipysheet",
      "model_module_version": "~0.4.4",
      "model_name": "SheetModel",
      "state": {
       "cells": [
        "IPY_MODEL_5fb0321ab3d94243ae92e68a3aec6b95",
        "IPY_MODEL_6440a4dc9ca84199947b8d683168aca7",
        "IPY_MODEL_e06a3a20fe9845d8a94b91192260cf37",
        "IPY_MODEL_a6bf1dfb0242461aae670b1e1a27fd98",
        "IPY_MODEL_36559e1d75b445d28973c950cae0a1f8",
        "IPY_MODEL_792d4010462b4d888e6fb1a0a190b134",
        "IPY_MODEL_49d1d478b8104448bc7969ebaf0058d9"
       ],
       "column_headers": [
        "FloatText",
        "FloatSlider",
        "Dropdown",
        "SelectMultiple",
        "Checkbox",
        "Text",
        "_recursive_guess"
       ],
       "columns": 7,
       "layout": "IPY_MODEL_807b133679464a2e95093cd0f9daa709",
       "row_headers": [
        "value_type",
        "options_type",
        "min_type",
        "max_type"
       ],
       "rows": 4
      }
     },
     "4c675e9e947b49beb4546d58bd8c65d2": {
      "model_module": "@jupyter-widgets/base",
      "model_module_version": "1.2.0",
      "model_name": "LayoutModel",
      "state": {}
     },
     "4cca32806e4f411ca31ef4cc9e205bbc": {
      "model_module": "@jupyter-widgets/base",
      "model_module_version": "1.2.0",
      "model_name": "LayoutModel",
      "state": {
       "align_items": "stretch",
       "display": "flex",
       "flex_flow": "row",
       "grid_auto_columns": "True",
       "justify_content": "flex-end",
       "width": "90%"
      }
     },
     "4cd5d38520444a9da84f037ab8eede3f": {
      "model_module": "@jupyter-widgets/output",
      "model_module_version": "1.0.0",
      "model_name": "OutputModel",
      "state": {
       "layout": "IPY_MODEL_29f75fbfecf6484b8257f126ee063671"
      }
     },
     "4ce6e99aa2f24a2eacdd512a12baafdd": {
      "model_module": "@jupyter-widgets/base",
      "model_module_version": "1.2.0",
      "model_name": "LayoutModel",
      "state": {
       "align_items": "stretch",
       "border": "dashed 0.2px green",
       "display": "flex",
       "flex_flow": "row",
       "grid_auto_columns": "True",
       "justify_content": "flex-start",
       "width": "100%"
      }
     },
     "4d116a265f7b4edb8842e651c0b01917": {
      "model_module": "@jupyter-widgets/base",
      "model_module_version": "1.2.0",
      "model_name": "LayoutModel",
      "state": {
       "align_items": "stretch",
       "display": "flex",
       "flex_flow": "row",
       "grid_auto_columns": "True",
       "justify_content": "flex-end",
       "width": "90%"
      }
     },
     "4d1717a65ffa46ffbab52b41acac4d71": {
      "model_module": "@jupyter-widgets/base",
      "model_module_version": "1.2.0",
      "model_name": "LayoutModel",
      "state": {}
     },
     "4d1915c36950419ea6f4eace2fdf6224": {
      "model_module": "@jupyter-widgets/controls",
      "model_module_version": "1.5.0",
      "model_name": "DescriptionStyleModel",
      "state": {
       "description_width": ""
      }
     },
     "4d3ca29bde3b45e2883ff833a3c773cc": {
      "model_module": "@jupyter-widgets/base",
      "model_module_version": "1.2.0",
      "model_name": "LayoutModel",
      "state": {}
     },
     "4d53a01cb85e4c84a0a40b05f5588328": {
      "model_module": "@jupyter-widgets/controls",
      "model_module_version": "1.5.0",
      "model_name": "ButtonModel",
      "state": {
       "button_style": "success",
       "description": "save changes",
       "layout": "IPY_MODEL_7edb40b08923475b9e3c4f76651fadc4",
       "style": "IPY_MODEL_4bd6c63ade314ea8aa7d58d3ac50aa96"
      }
     },
     "4d5b72657b5a48a9b559297e4f314ff7": {
      "model_module": "@jupyter-widgets/controls",
      "model_module_version": "1.5.0",
      "model_name": "CheckboxModel",
      "state": {
       "disabled": false,
       "layout": "IPY_MODEL_9f0b97f32743428fab81a4e4e3449047",
       "style": "IPY_MODEL_02d09ed68f9043d79fb7b838a5bc9a18",
       "value": true
      }
     },
     "4d85a25d08a64a29af622f426dce7c38": {
      "model_module": "@jupyter-widgets/controls",
      "model_module_version": "1.5.0",
      "model_name": "HTMLModel",
      "state": {
       "layout": "IPY_MODEL_b32897120a574e6a9f48a9475ed1d5da",
       "style": "IPY_MODEL_69e01d8903394402b218d34c1b6a50b4",
       "value": "<p>name</p>"
      }
     },
     "4dac33824275435c8cd25c4364a8c1f6": {
      "model_module": "@jupyter-widgets/base",
      "model_module_version": "1.2.0",
      "model_name": "LayoutModel",
      "state": {}
     },
     "4dcbd9929d934feaabb4def3202e3958": {
      "model_module": "@jupyter-widgets/controls",
      "model_module_version": "1.5.0",
      "model_name": "DescriptionStyleModel",
      "state": {
       "description_width": ""
      }
     },
     "4e14a963c7514658a0077f1cb4255d11": {
      "model_module": "@jupyter-widgets/output",
      "model_module_version": "1.0.0",
      "model_name": "OutputModel",
      "state": {
       "layout": "IPY_MODEL_8735471dc3fd4f7ba5c1e47fe3b7cf3c"
      }
     },
     "4e7a5a15de5445e5b0a50731a86b8696": {
      "model_module": "@jupyter-widgets/controls",
      "model_module_version": "1.5.0",
      "model_name": "HBoxModel",
      "state": {
       "children": [
        "IPY_MODEL_5798faa3fba344e7b21394a7e825762a",
        "IPY_MODEL_da73943e3f86419ea883dfed46b4877c"
       ],
       "layout": "IPY_MODEL_9ef6217c18164e96af21731a71dd52fc"
      }
     },
     "4e9f45c13f86447e984164c8d10613e7": {
      "model_module": "@jupyter-widgets/controls",
      "model_module_version": "1.5.0",
      "model_name": "HBoxModel",
      "state": {
       "children": [
        "IPY_MODEL_20a25a6a675745ada949ad47d3def2c9",
        "IPY_MODEL_289c676cbeba42b6885180318e156bee"
       ],
       "layout": "IPY_MODEL_556f19b41c1c4a70b9653a801b21a17c"
      }
     },
     "4ed668789f354f8cb2325404cddb3cd0": {
      "model_module": "@jupyter-widgets/controls",
      "model_module_version": "1.5.0",
      "model_name": "HTMLModel",
      "state": {
       "layout": "IPY_MODEL_e35257a5d5244a4490f3b4ceefeaed7f",
       "style": "IPY_MODEL_c86188223b8b4304a9328c9f990a9709",
       "value": "<p>Number, using to prefix the file name</p>"
      }
     },
     "4ee23652812249f59a50445b5596873e": {
      "model_module": "@jupyter-widgets/controls",
      "model_module_version": "1.5.0",
      "model_name": "DescriptionStyleModel",
      "state": {
       "description_width": ""
      }
     },
     "4ef46fd0b2f14431bfab2d20bc960734": {
      "model_module": "@jupyter-widgets/output",
      "model_module_version": "1.0.0",
      "model_name": "OutputModel",
      "state": {
       "layout": "IPY_MODEL_d4ccd38eb57d439bb5fec34576d9a6db"
      }
     },
     "4f0f6f6fe38e4bf2816c48a53adefbc8": {
      "model_module": "@jupyter-widgets/base",
      "model_module_version": "1.2.0",
      "model_name": "LayoutModel",
      "state": {}
     },
     "500001e946684177882dfa3fbd370d83": {
      "model_module": "@jupyter-widgets/controls",
      "model_module_version": "1.5.0",
      "model_name": "ToggleButtonModel",
      "state": {
       "icon": "arrow-down",
       "layout": "IPY_MODEL_24fd52558cae44c68799ffb18ff1a8e0",
       "style": "IPY_MODEL_f0d2e528cf2e4fc1aa7d52c4ece3c9d8"
      }
     },
     "5006cc19d9e1432286b13f423547143c": {
      "model_module": "@jupyter-widgets/base",
      "model_module_version": "1.2.0",
      "model_name": "LayoutModel",
      "state": {
       "align_items": "stretch",
       "display": "flex",
       "flex_flow": "row",
       "grid_auto_columns": "True",
       "justify_content": "flex-start",
       "width": "80%"
      }
     },
     "5013ad7341f54917b52131b800ae2b83": {
      "model_module": "@jupyter-widgets/base",
      "model_module_version": "1.2.0",
      "model_name": "LayoutModel",
      "state": {
       "align_items": "stretch",
       "display": "flex",
       "flex_flow": "row",
       "grid_auto_columns": "True",
       "justify_content": "flex-end",
       "width": "90%"
      }
     },
     "502b5c82d0994412b8e0d275601fc155": {
      "model_module": "@jupyter-widgets/controls",
      "model_module_version": "1.5.0",
      "model_name": "DescriptionStyleModel",
      "state": {
       "description_width": ""
      }
     },
     "5063ec551b2c40388119ee2d96eb9a79": {
      "model_module": "@jupyter-widgets/base",
      "model_module_version": "1.2.0",
      "model_name": "LayoutModel",
      "state": {}
     },
     "50c4d2eb8bba46a4819559efd91df55b": {
      "model_module": "@jupyter-widgets/controls",
      "model_module_version": "1.5.0",
      "model_name": "HBoxModel",
      "state": {
       "children": [
        "IPY_MODEL_42a2f8b846724e35859298f19b82f648",
        "IPY_MODEL_a53665868b1e4010bf4482f97f89c49c"
       ],
       "layout": "IPY_MODEL_cba0e1ff21484fda9d5c042fb695a21d"
      }
     },
     "513b4f14b69943c7a1241259c7afbac9": {
      "model_module": "@jupyter-widgets/base",
      "model_module_version": "1.2.0",
      "model_name": "LayoutModel",
      "state": {
       "align_items": "stretch",
       "display": "flex",
       "flex_flow": "row",
       "grid_auto_columns": "True",
       "justify_content": "flex-start",
       "width": "80%"
      }
     },
     "5142efe2f4664c7e9af0cbfc69379e12": {
      "model_module": "@jupyter-widgets/base",
      "model_module_version": "1.2.0",
      "model_name": "LayoutModel",
      "state": {}
     },
     "51970223eb69427a9bb4d3bc8016a007": {
      "model_module": "@jupyter-widgets/output",
      "model_module_version": "1.0.0",
      "model_name": "OutputModel",
      "state": {
       "layout": "IPY_MODEL_011f093bf80d40acaff025801505e786"
      }
     },
     "51ca8c35d75440a59e0a9c57645f1749": {
      "model_module": "@jupyter-widgets/controls",
      "model_module_version": "1.5.0",
      "model_name": "TextareaModel",
      "state": {
       "layout": "IPY_MODEL_7269a89807bc41868787a09d9b6152aa",
       "style": "IPY_MODEL_6257faa0bb5b42bcb24e12a33b0f548e",
       "value": "asdfasdf"
      }
     },
     "51ceea048ef84485b037a4a57c291af7": {
      "model_module": "@jupyter-widgets/controls",
      "model_module_version": "1.5.0",
      "model_name": "DescriptionStyleModel",
      "state": {
       "description_width": ""
      }
     },
     "51ea060f25ba4a7ea8db3eadd26b22bc": {
      "model_module": "@jupyter-widgets/base",
      "model_module_version": "1.2.0",
      "model_name": "LayoutModel",
      "state": {}
     },
     "520e7bc5e43948ca9689ad0bd0aeb9bc": {
      "model_module": "@jupyter-widgets/output",
      "model_module_version": "1.0.0",
      "model_name": "OutputModel",
      "state": {
       "layout": "IPY_MODEL_6975b65031fe461e92e5da45c10384b0"
      }
     },
     "523071142a31440f81df7fadd17963fc": {
      "model_module": "@jupyter-widgets/base",
      "model_module_version": "1.2.0",
      "model_name": "LayoutModel",
      "state": {}
     },
     "523203d0b5c64aef9421066451023d56": {
      "model_module": "@jupyter-widgets/controls",
      "model_module_version": "1.5.0",
      "model_name": "DescriptionStyleModel",
      "state": {
       "description_width": ""
      }
     },
     "5299a557d10b4512b36e454057827f7e": {
      "model_module": "@jupyter-widgets/controls",
      "model_module_version": "1.5.0",
      "model_name": "DescriptionStyleModel",
      "state": {
       "description_width": ""
      }
     },
     "52a48e78031d48ab8b314aed5435c231": {
      "model_module": "@jupyter-widgets/controls",
      "model_module_version": "1.5.0",
      "model_name": "DescriptionStyleModel",
      "state": {
       "description_width": ""
      }
     },
     "52d6e399e3fa449c948c3514f528672e": {
      "model_module": "@jupyter-widgets/base",
      "model_module_version": "1.2.0",
      "model_name": "LayoutModel",
      "state": {
       "align_items": "stretch",
       "display": "flex",
       "flex_flow": "row",
       "grid_auto_columns": "True",
       "justify_content": "flex-start",
       "width": "80%"
      }
     },
     "52f23986971243efbdcccbb097b9a19c": {
      "model_module": "@jupyter-widgets/controls",
      "model_module_version": "1.5.0",
      "model_name": "HBoxModel",
      "state": {
       "children": [
        "IPY_MODEL_6275c147bc0b49a594f8df941336a173",
        "IPY_MODEL_5cc2a5dbe7174c789556822de244678f"
       ],
       "layout": "IPY_MODEL_e215ba7e624740b3a19be2934def910b"
      }
     },
     "5301598fda364fdc9623b73cdffad5c8": {
      "model_module": "@jupyter-widgets/controls",
      "model_module_version": "1.5.0",
      "model_name": "HBoxModel",
      "state": {
       "children": [
        "IPY_MODEL_cead7e8d00e5450abfac9384f8c2d7e0"
       ],
       "layout": "IPY_MODEL_950a929224ff4c86be179af69a8614f9"
      }
     },
     "530652f8d5dc466ea8c40fa084df1b61": {
      "model_module": "@jupyter-widgets/base",
      "model_module_version": "1.2.0",
      "model_name": "LayoutModel",
      "state": {}
     },
     "532ce177947441d1b4296bdf4672cea5": {
      "model_module": "@jupyter-widgets/base",
      "model_module_version": "1.2.0",
      "model_name": "LayoutModel",
      "state": {}
     },
     "5346ed82489e4ff588f066aae4a14260": {
      "model_module": "@jupyter-widgets/controls",
      "model_module_version": "1.5.0",
      "model_name": "HTMLModel",
      "state": {
       "layout": "IPY_MODEL_be0bb76cb08c4fcb8d2cff39ea12cddb",
       "style": "IPY_MODEL_3262afea411e4cc68213a431e70885ee",
       "value": "<p>its a foo cake</p>"
      }
     },
     "53742c9831914266ab3c31ee98bd91ca": {
      "model_module": "@jupyter-widgets/base",
      "model_module_version": "1.2.0",
      "model_name": "LayoutModel",
      "state": {
       "align_items": "stretch",
       "border": "dashed 0.2px green",
       "display": "flex",
       "flex_flow": "row",
       "grid_auto_columns": "True",
       "justify_content": "flex-start",
       "width": "100%"
      }
     },
     "53a54130e2544bfd947b09e466e4b193": {
      "model_module": "@jupyter-widgets/base",
      "model_module_version": "1.2.0",
      "model_name": "LayoutModel",
      "state": {
       "align_items": "stretch",
       "display": "flex",
       "flex_flow": "row",
       "grid_auto_columns": "True",
       "justify_content": "flex-start",
       "width": "80%"
      }
     },
     "53e6600164e94777b6bd8bc887ca9dc8": {
      "model_module": "@jupyter-widgets/controls",
      "model_module_version": "1.5.0",
      "model_name": "ButtonStyleModel",
      "state": {}
     },
     "544ab0a9801b4ce89ed30543ecc6c1eb": {
      "model_module": "@jupyter-widgets/output",
      "model_module_version": "1.0.0",
      "model_name": "OutputModel",
      "state": {
       "layout": "IPY_MODEL_f1a3dba09c9f43f6b30c3ab0b2d45609"
      }
     },
     "545b65d311a44c9b9c1c63d97539b2a5": {
      "model_module": "@jupyter-widgets/output",
      "model_module_version": "1.0.0",
      "model_name": "OutputModel",
      "state": {
       "layout": "IPY_MODEL_868644546d88457b856cd9af76f73c2f"
      }
     },
     "545c7f05ad1540568fcb95aff267710c": {
      "model_module": "@jupyter-widgets/controls",
      "model_module_version": "1.5.0",
      "model_name": "HTMLModel",
      "state": {
       "layout": "IPY_MODEL_70f466a46df64ade8d50b52d55511bb4",
       "style": "IPY_MODEL_6ecb5c5fd29a4fd2ba7bd0e85606efaa",
       "value": "<p>foo</p>"
      }
     },
     "549d08dd5a864689a8400f176efd13ae": {
      "model_module": "@jupyter-widgets/controls",
      "model_module_version": "1.5.0",
      "model_name": "DescriptionStyleModel",
      "state": {
       "description_width": ""
      }
     },
     "549eda9cb74543b09b0bb3b2ce68cfaa": {
      "model_module": "@jupyter-widgets/base",
      "model_module_version": "1.2.0",
      "model_name": "LayoutModel",
      "state": {}
     },
     "54f6a1a88cf54d54b578b7de18638787": {
      "model_module": "@jupyter-widgets/controls",
      "model_module_version": "1.5.0",
      "model_name": "HBoxModel",
      "state": {
       "children": [
        "IPY_MODEL_b5efb2d4b85a4a2b9f29fa55daf631a2",
        "IPY_MODEL_db165d7c68e447f9a60a0fb438507924"
       ],
       "layout": "IPY_MODEL_ee1e4daec9064bba8e0f13c31ae3f177"
      }
     },
     "5518ae917b224723a5c68c03e3b789ad": {
      "model_module": "@jupyter-widgets/controls",
      "model_module_version": "1.5.0",
      "model_name": "HBoxModel",
      "state": {
       "children": [
        "IPY_MODEL_eee325e6bcd340eba4658a406de86f5a",
        "IPY_MODEL_88f7196c6a6241dd8237226cbbdc94b4"
       ],
       "layout": "IPY_MODEL_99a61e96672e4d17b0f6287c6059decb"
      }
     },
     "553e654d4fee485aadae257779e48ceb": {
      "model_module": "@jupyter-widgets/controls",
      "model_module_version": "1.5.0",
      "model_name": "HTMLModel",
      "state": {
       "layout": "IPY_MODEL_2f57413302084dde8ed22c772252faa6",
       "style": "IPY_MODEL_3c2e6ecc390e4f21b834f5440413b1c4",
       "value": "<p>Derived</p>"
      }
     },
     "556f19b41c1c4a70b9653a801b21a17c": {
      "model_module": "@jupyter-widgets/base",
      "model_module_version": "1.2.0",
      "model_name": "LayoutModel",
      "state": {
       "align_items": "stretch",
       "display": "flex",
       "flex_flow": "row",
       "grid_auto_columns": "True",
       "justify_content": "flex-end",
       "width": "90%"
      }
     },
     "55af0fc16cd345cc98fe643b9f7efa0a": {
      "model_module": "@jupyter-widgets/output",
      "model_module_version": "1.0.0",
      "model_name": "OutputModel",
      "state": {
       "layout": "IPY_MODEL_7f1789bfd1a0484c9f41ef489ff2c2ac"
      }
     },
     "55b5045c2dff4dfc8328db4836667906": {
      "model_module": "@jupyter-widgets/controls",
      "model_module_version": "1.5.0",
      "model_name": "HTMLModel",
      "state": {
       "layout": "IPY_MODEL_8f66d0ec416544e5b14f36a8ae371019",
       "style": "IPY_MODEL_effb78fffff149a98b9cb7e7e6bb1e91",
       "value": "<p>input docx filepath</p>"
      }
     },
     "55e71e0e3a394eed8e564da127ff800c": {
      "model_module": "@jupyter-widgets/controls",
      "model_module_version": "1.5.0",
      "model_name": "DescriptionStyleModel",
      "state": {
       "description_width": ""
      }
     },
     "56643397798e407183f7da87c93e41c5": {
      "model_module": "@jupyter-widgets/base",
      "model_module_version": "1.2.0",
      "model_name": "LayoutModel",
      "state": {}
     },
     "567196bf777743beb9aae4eb2441026e": {
      "model_module": "@jupyter-widgets/controls",
      "model_module_version": "1.5.0",
      "model_name": "ButtonStyleModel",
      "state": {
       "font_weight": "bold"
      }
     },
     "567e6912ebcb4131ab720e9a563d6980": {
      "model_module": "@jupyter-widgets/base",
      "model_module_version": "1.2.0",
      "model_name": "LayoutModel",
      "state": {}
     },
     "5680922c16224c5b82d5b260d706dafa": {
      "model_module": "@jupyter-widgets/base",
      "model_module_version": "1.2.0",
      "model_name": "LayoutModel",
      "state": {
       "align_items": "stretch",
       "display": "flex",
       "flex_flow": "row",
       "grid_auto_columns": "True",
       "justify_content": "flex-end",
       "width": "90%"
      }
     },
     "56a7fd58e1d64f9dbf5aee201f901016": {
      "model_module": "@jupyter-widgets/controls",
      "model_module_version": "1.5.0",
      "model_name": "ButtonStyleModel",
      "state": {
       "font_weight": "bold"
      }
     },
     "56bd413a6203496a8282c9755de79ba1": {
      "model_module": "@jupyter-widgets/base",
      "model_module_version": "1.2.0",
      "model_name": "LayoutModel",
      "state": {}
     },
     "56dec8ca9420482d8940259c8a9b0088": {
      "model_module": "@jupyter-widgets/controls",
      "model_module_version": "1.5.0",
      "model_name": "HBoxModel",
      "state": {
       "children": [
        "IPY_MODEL_b871ed7545cd4940868bc6cb2dc6b419",
        "IPY_MODEL_b53b9aa34413427da09be5334a0b11d1"
       ],
       "layout": "IPY_MODEL_28377a2a3be0425aa6b7f815ff2239f4"
      }
     },
     "56f4ad17ba974581b4496821719ca778": {
      "model_module": "@jupyter-widgets/base",
      "model_module_version": "1.2.0",
      "model_name": "LayoutModel",
      "state": {}
     },
     "56fd61353ed042ddbf3f74f470885528": {
      "model_module": "@jupyter-widgets/base",
      "model_module_version": "1.2.0",
      "model_name": "LayoutModel",
      "state": {
       "align_items": "stretch",
       "display": "flex",
       "flex_flow": "row",
       "grid_auto_columns": "True",
       "justify_content": "flex-start",
       "width": "80%"
      }
     },
     "571fa5525b6a4f73b6ace6a05b2a7722": {
      "model_module": "@jupyter-widgets/base",
      "model_module_version": "1.2.0",
      "model_name": "LayoutModel",
      "state": {}
     },
     "5729931f2d6246f0a54590f65ce440d3": {
      "model_module": "@jupyter-widgets/controls",
      "model_module_version": "1.5.0",
      "model_name": "ButtonModel",
      "state": {
       "description": "save",
       "layout": "IPY_MODEL_97c4596dd99b443194564aa2d7d8f42a",
       "style": "IPY_MODEL_68835528648743c89fc8bc045628ece1"
      }
     },
     "5732b43275c14409a14d04deeda39a1b": {
      "model_module": "@jupyter-widgets/controls",
      "model_module_version": "1.5.0",
      "model_name": "HBoxModel",
      "state": {
       "children": [
        "IPY_MODEL_a4f274b6779841c4ad7091a47d06f2dd"
       ],
       "layout": "IPY_MODEL_a7ff1d55ca1e4c2785c3b271f91213cb"
      }
     },
     "573df0e0c9ba4d83a0e2d7b8b635a286": {
      "model_module": "@jupyter-widgets/controls",
      "model_module_version": "1.5.0",
      "model_name": "HTMLModel",
      "state": {
       "layout": "IPY_MODEL_45677d34996145e3b8e87fd4f0d91cd5",
       "style": "IPY_MODEL_fc521dfa3f36462b810bc40825c231e9",
       "value": "<p>label</p>"
      }
     },
     "574b2cf1bcf44319b1fe4589894e997f": {
      "model_module": "@jupyter-widgets/base",
      "model_module_version": "1.2.0",
      "model_name": "LayoutModel",
      "state": {}
     },
     "574e4999e4e842f2bad1277ec62a7540": {
      "model_module": "@jupyter-widgets/controls",
      "model_module_version": "1.5.0",
      "model_name": "HBoxModel",
      "state": {
       "children": [
        "IPY_MODEL_545c7f05ad1540568fcb95aff267710c",
        "IPY_MODEL_b24014875e5f4757a4f9b534e4062b60"
       ],
       "layout": "IPY_MODEL_c24f62795038431bb4595ba780df117a"
      }
     },
     "575c874c30e5404482d99ba84861b6f2": {
      "model_module": "@jupyter-widgets/controls",
      "model_module_version": "1.5.0",
      "model_name": "HBoxModel",
      "state": {
       "children": [
        "IPY_MODEL_618406659d134ef3b5a963f89591df1a"
       ],
       "layout": "IPY_MODEL_5c33172b45004aebbfa452d5326c249c"
      }
     },
     "57626fbef14b4bb6bae501becb136183": {
      "model_module": "@jupyter-widgets/base",
      "model_module_version": "1.2.0",
      "model_name": "LayoutModel",
      "state": {
       "align_items": "stretch",
       "border": "dashed 0.2px green",
       "display": "flex",
       "flex_flow": "row",
       "grid_auto_columns": "True",
       "justify_content": "flex-start",
       "width": "100%"
      }
     },
     "5791fc97d6a84289bd845d7b696d69be": {
      "model_module": "@jupyter-widgets/base",
      "model_module_version": "1.2.0",
      "model_name": "LayoutModel",
      "state": {
       "align_items": "stretch",
       "display": "flex",
       "flex_flow": "row",
       "grid_auto_columns": "True",
       "justify_content": "flex-start",
       "width": "80%"
      }
     },
     "5798faa3fba344e7b21394a7e825762a": {
      "model_module": "@jupyter-widgets/controls",
      "model_module_version": "1.5.0",
      "model_name": "CheckboxModel",
      "state": {
       "disabled": false,
       "layout": "IPY_MODEL_8b1f604aab6843d996839e9574982cb0",
       "style": "IPY_MODEL_3c495961f3b44411be40e48fba33054e",
       "value": false
      }
     },
     "57d28c0073644dc79620d7fd29963bd1": {
      "model_module": "@jupyter-widgets/controls",
      "model_module_version": "1.5.0",
      "model_name": "DescriptionStyleModel",
      "state": {
       "description_width": ""
      }
     },
     "57f3637685e94d77bc3885edac1b46a0": {
      "model_module": "@jupyter-widgets/controls",
      "model_module_version": "1.5.0",
      "model_name": "ToggleButtonModel",
      "state": {
       "button_style": "info",
       "description": "inputs from file",
       "layout": "IPY_MODEL_7ba1192cb3c247d2952bcb223e8d6151",
       "style": "IPY_MODEL_966ab9fe7da4460b9bcad97fcf1c771e"
      }
     },
     "57fc2a17152c4ac9b3f24ad99c98eb89": {
      "model_module": "@jupyter-widgets/base",
      "model_module_version": "1.2.0",
      "model_name": "LayoutModel",
      "state": {}
     },
     "584a925bd82a4cffbb12e7f15fed9f3b": {
      "model_module": "@jupyter-widgets/output",
      "model_module_version": "1.0.0",
      "model_name": "OutputModel",
      "state": {
       "layout": "IPY_MODEL_3e997fac3fc44da092385b716fb05c65"
      }
     },
     "58816bce8db747cc8e823e78b4b35c52": {
      "model_module": "@jupyter-widgets/controls",
      "model_module_version": "1.5.0",
      "model_name": "HTMLModel",
      "state": {
       "layout": "IPY_MODEL_e9c132d4434b4cd7841e1335f546bdfb",
       "style": "IPY_MODEL_7d0418e20fd146299759f03789955f8c",
       "value": "<p>fpth_in</p>"
      }
     },
     "589591b944164b55b09b743734353dc9": {
      "model_module": "@jupyter-widgets/controls",
      "model_module_version": "1.5.0",
      "model_name": "HTMLModel",
      "state": {
       "layout": "IPY_MODEL_886a66fccc084b4bb5928844943288b6",
       "style": "IPY_MODEL_0c64f9230b4446709214352c562ef75b",
       "value": "<p>defines the logic of the space naming. use default value where practical.</p>"
      }
     },
     "589bb53b216744539d9562e32c804252": {
      "model_module": "@jupyter-widgets/base",
      "model_module_version": "1.2.0",
      "model_name": "LayoutModel",
      "state": {
       "align_items": "stretch",
       "display": "flex",
       "flex_flow": "row",
       "grid_auto_columns": "True",
       "justify_content": "flex-start",
       "width": "80%"
      }
     },
     "58c783a1a21a42568a5a02e31cec5e08": {
      "model_module": "@jupyter-widgets/controls",
      "model_module_version": "1.5.0",
      "model_name": "DescriptionStyleModel",
      "state": {
       "description_width": ""
      }
     },
     "592a059394fc47e19fe31dc140792da3": {
      "model_module": "@jupyter-widgets/controls",
      "model_module_version": "1.5.0",
      "model_name": "HBoxModel",
      "state": {
       "children": [
        "IPY_MODEL_b88c052e4907484ea6d22b7f37d466dd",
        "IPY_MODEL_a0d67545346246878c07c9c39b3610a4"
       ],
       "layout": "IPY_MODEL_bea935b0cce94f8c80422a11cd902361"
      }
     },
     "59422767bf404860b46d71d321cd68c4": {
      "model_module": "@jupyter-widgets/base",
      "model_module_version": "1.2.0",
      "model_name": "LayoutModel",
      "state": {}
     },
     "59661ded73fe4dc6bb24984c2a10aae7": {
      "model_module": "@jupyter-widgets/controls",
      "model_module_version": "1.5.0",
      "model_name": "SelectMultipleModel",
      "state": {
       "_options_labels": [
        "asfd",
        "10",
        "asdf"
       ],
       "index": [
        1
       ],
       "layout": "IPY_MODEL_d97c0ff90423459b9a38af6885c2e547",
       "rows": 5,
       "style": "IPY_MODEL_acef70b1b6774c05832610f554c9bc41"
      }
     },
     "59a940babae644fb8623d0802c437e90": {
      "model_module": "@jupyter-widgets/controls",
      "model_module_version": "1.5.0",
      "model_name": "DescriptionStyleModel",
      "state": {
       "description_width": ""
      }
     },
     "59b4ba57227d47b5bf0d36225993eb20": {
      "model_module": "@jupyter-widgets/controls",
      "model_module_version": "1.5.0",
      "model_name": "HTMLModel",
      "state": {
       "layout": "IPY_MODEL_f13cc0c1e0224cb5ac0c9184f8afa139",
       "style": "IPY_MODEL_2edc433ed5a84a869217c8ce560374f8",
       "value": "<p>fus foo ous o</p>"
      }
     },
     "59b6bca2be3f4e81a7612426871f9009": {
      "model_module": "@jupyter-widgets/base",
      "model_module_version": "1.2.0",
      "model_name": "LayoutModel",
      "state": {
       "align_items": "stretch",
       "display": "flex",
       "flex_flow": "row",
       "grid_auto_columns": "True",
       "justify_content": "flex-start",
       "width": "80%"
      }
     },
     "59d4a7cc793747fea1aa7c8dd0c6345b": {
      "model_module": "@jupyter-widgets/controls",
      "model_module_version": "1.5.0",
      "model_name": "DescriptionStyleModel",
      "state": {
       "description_width": ""
      }
     },
     "59e0e54201d2468c95f9c710a6b9f0f3": {
      "model_module": "@jupyter-widgets/controls",
      "model_module_version": "1.5.0",
      "model_name": "HTMLModel",
      "state": {
       "layout": "IPY_MODEL_4b89f3cf840440cb9e09ac4b982c28a2",
       "style": "IPY_MODEL_0aaff9c8440d4a42ae37aeb485c5c0b4",
       "value": "<p>5th section of space name code (enter None if 5th section doesn't exist)</p>"
      }
     },
     "5a2b36da149440f6ab2886f81194c98a": {
      "model_module": "@jupyter-widgets/base",
      "model_module_version": "1.2.0",
      "model_name": "LayoutModel",
      "state": {}
     },
     "5a3f94dce07c4a8ea49341957ab4da80": {
      "model_module": "@jupyter-widgets/base",
      "model_module_version": "1.2.0",
      "model_name": "LayoutModel",
      "state": {}
     },
     "5a40b3347dcd4b65b055c3bf94cd3c6d": {
      "model_module": "@jupyter-widgets/controls",
      "model_module_version": "1.5.0",
      "model_name": "DescriptionStyleModel",
      "state": {
       "description_width": ""
      }
     },
     "5a47c28bee0947e2b7d62866e3cab16d": {
      "model_module": "@jupyter-widgets/base",
      "model_module_version": "1.2.0",
      "model_name": "LayoutModel",
      "state": {
       "display": "flex",
       "flex_flow": "row",
       "grid_auto_columns": "False",
       "justify_content": "flex-start",
       "width": "100%"
      }
     },
     "5a4da2d707f8463085ff136d637aad77": {
      "model_module": "@jupyter-widgets/controls",
      "model_module_version": "1.5.0",
      "model_name": "HTMLModel",
      "state": {
       "layout": "IPY_MODEL_31f3770b9fb94e0099b242131309e6a1",
       "style": "IPY_MODEL_88e18abb9f334756ba8d16c76d23308e",
       "value": "<p>3rd section of space name code (enter None if 3rd section doesn't exist)</p>"
      }
     },
     "5a8c5cb600834f8ca595a4f782600485": {
      "model_module": "@jupyter-widgets/controls",
      "model_module_version": "1.5.0",
      "model_name": "ButtonModel",
      "state": {
       "description": "load",
       "icon": "upload",
       "layout": "IPY_MODEL_530652f8d5dc466ea8c40fa084df1b61",
       "style": "IPY_MODEL_050a5c86136e4f3ba64a6d8275fd36f4"
      }
     },
     "5a97f8e2d7004d2fb471b81a4faf944c": {
      "model_module": "@jupyter-widgets/base",
      "model_module_version": "1.2.0",
      "model_name": "LayoutModel",
      "state": {}
     },
     "5ad0bd744a04488fb57fcec0833eb284": {
      "model_module": "@jupyter-widgets/base",
      "model_module_version": "1.2.0",
      "model_name": "LayoutModel",
      "state": {
       "align_items": "stretch",
       "border": "dashed 0.2px green",
       "display": "flex",
       "flex_flow": "row",
       "grid_auto_columns": "True",
       "justify_content": "flex-start",
       "width": "100%"
      }
     },
     "5adc3298b2e94504be0e2848d8631e7d": {
      "model_module": "@jupyter-widgets/controls",
      "model_module_version": "1.5.0",
      "model_name": "HTMLModel",
      "state": {
       "layout": "IPY_MODEL_b8d7df63fce5492a8c4036b758669191",
       "style": "IPY_MODEL_e84718076a6242288dca8edf68accaf3",
       "value": "<p>name</p>"
      }
     },
     "5b09cf5a9af146aeab2ae1cb6c8d07e2": {
      "model_module": "@jupyter-widgets/base",
      "model_module_version": "1.2.0",
      "model_name": "LayoutModel",
      "state": {}
     },
     "5b1dbe55ab0c40a7a7eb37bd91c388a6": {
      "model_module": "@jupyter-widgets/controls",
      "model_module_version": "1.5.0",
      "model_name": "DescriptionStyleModel",
      "state": {
       "description_width": ""
      }
     },
     "5b1fce71e9b54835809c0ddf893c2db5": {
      "model_module": "@jupyter-widgets/controls",
      "model_module_version": "1.5.0",
      "model_name": "DescriptionStyleModel",
      "state": {
       "description_width": ""
      }
     },
     "5b20b02a23cd43dfa280f4963dbec2af": {
      "model_module": "@jupyter-widgets/controls",
      "model_module_version": "1.5.0",
      "model_name": "CheckboxModel",
      "state": {
       "disabled": false,
       "layout": "IPY_MODEL_b2d119e13ff04482a54943df8c05df16",
       "style": "IPY_MODEL_3496f636a5a94730901105fb687d2ab0",
       "value": false
      }
     },
     "5b585f92181947b7ae8026ff1875ff4f": {
      "model_module": "@jupyter-widgets/controls",
      "model_module_version": "1.5.0",
      "model_name": "HBoxModel",
      "state": {
       "children": [
        "IPY_MODEL_6839a4e134f4484d944b7bd51d496cca",
        "IPY_MODEL_3aa08261d1d94a04b76cfca926fcb67a"
       ],
       "layout": "IPY_MODEL_eb2cbd93e6c0461ab1a4cfa193e487be"
      }
     },
     "5b61b8c51582423c9fc2c935096b9292": {
      "model_module": "@jupyter-widgets/controls",
      "model_module_version": "1.5.0",
      "model_name": "HBoxModel",
      "state": {
       "children": [
        "IPY_MODEL_c28ff232c1e44974b02d9c6da94baf60",
        "IPY_MODEL_3a0b03be0d004b7d80645bae7250392b"
       ],
       "layout": "IPY_MODEL_3c5fa03394d84ccba03fb30d9df98fbe"
      }
     },
     "5b62b931fbe346e99c7fd12b36ce13fa": {
      "model_module": "@jupyter-widgets/controls",
      "model_module_version": "1.5.0",
      "model_name": "HBoxModel",
      "state": {
       "children": [
        "IPY_MODEL_49088427d6e94dac82310b30c5c7c072",
        "IPY_MODEL_7fa90df64e19497792fc1a6175f3c3d2"
       ],
       "layout": "IPY_MODEL_2724c8c2a25646cca192436ba952a946"
      }
     },
     "5b6d89d2cab74f299313aa22acbec3ce": {
      "model_module": "@jupyter-widgets/base",
      "model_module_version": "1.2.0",
      "model_name": "LayoutModel",
      "state": {
       "align_items": "stretch",
       "display": "flex",
       "flex_flow": "row",
       "grid_auto_columns": "True",
       "justify_content": "flex-start",
       "width": "80%"
      }
     },
     "5b6ef88639d04257a717a93d4202ca0d": {
      "model_module": "@jupyter-widgets/controls",
      "model_module_version": "1.5.0",
      "model_name": "HTMLModel",
      "state": {
       "layout": "IPY_MODEL_46e75c8dc65b4c53963a9bfe995e9fb3",
       "style": "IPY_MODEL_d6d199fdb3cd43098fa49cb704f0977a",
       "value": "<p>fus foo ous o</p>"
      }
     },
     "5bd5581d1cd7430fb491958a3c9bd235": {
      "model_module": "@jupyter-widgets/controls",
      "model_module_version": "1.5.0",
      "model_name": "HBoxModel",
      "state": {
       "children": [
        "IPY_MODEL_6263b5419b864278b2597c86d2c4b32d",
        "IPY_MODEL_f89cf40faa864552863ac2fc6421f94d"
       ],
       "layout": "IPY_MODEL_9020ade39d6c427c88fdf0d4dfef4002"
      }
     },
     "5be6baab1b204978bc5113099bde4dbf": {
      "model_module": "@jupyter-widgets/controls",
      "model_module_version": "1.5.0",
      "model_name": "CheckboxModel",
      "state": {
       "disabled": false,
       "layout": "IPY_MODEL_bfd1364f7d7d45279f20152526d2cbb3",
       "style": "IPY_MODEL_7079f7aed1f9403897356e9e108d9f8a",
       "value": false
      }
     },
     "5c01f638c72f4eeb9db38951523bb1f9": {
      "model_module": "@jupyter-widgets/base",
      "model_module_version": "1.2.0",
      "model_name": "LayoutModel",
      "state": {}
     },
     "5c053806bb4c4dce90a0a7751c4de63d": {
      "model_module": "@jupyter-widgets/base",
      "model_module_version": "1.2.0",
      "model_name": "LayoutModel",
      "state": {
       "align_items": "stretch",
       "display": "flex",
       "flex_flow": "row",
       "grid_auto_columns": "True",
       "justify_content": "flex-start",
       "width": "80%"
      }
     },
     "5c1a368fae7b4a3d927e4cf4d728b1bc": {
      "model_module": "@jupyter-widgets/base",
      "model_module_version": "1.2.0",
      "model_name": "LayoutModel",
      "state": {
       "align_items": "stretch",
       "border": "dashed 0.2px green",
       "display": "flex",
       "flex_flow": "row",
       "grid_auto_columns": "True",
       "justify_content": "flex-start",
       "width": "100%"
      }
     },
     "5c33172b45004aebbfa452d5326c249c": {
      "model_module": "@jupyter-widgets/base",
      "model_module_version": "1.2.0",
      "model_name": "LayoutModel",
      "state": {
       "align_items": "stretch",
       "border": "dashed 0.2px green",
       "display": "flex",
       "flex_flow": "row",
       "grid_auto_columns": "True",
       "justify_content": "flex-start",
       "width": "100%"
      }
     },
     "5c75246278a44386addde0286c4fa0a0": {
      "model_module": "@jupyter-widgets/base",
      "model_module_version": "1.2.0",
      "model_name": "LayoutModel",
      "state": {}
     },
     "5cb37ad3fc1b4594bf4647e3a4e2adae": {
      "model_module": "@jupyter-widgets/controls",
      "model_module_version": "1.5.0",
      "model_name": "DescriptionStyleModel",
      "state": {
       "description_width": ""
      }
     },
     "5cc2a5dbe7174c789556822de244678f": {
      "model_module": "@jupyter-widgets/controls",
      "model_module_version": "1.5.0",
      "model_name": "HTMLModel",
      "state": {
       "layout": "IPY_MODEL_e2fd2b8b317f4f78be0e7ff2354319fe",
       "style": "IPY_MODEL_664eef857d1f4b9f93a75331988f3253",
       "value": "<p>its a foo cake</p>"
      }
     },
     "5cd013957afe4678a4525c49811016f1": {
      "model_module": "@jupyter-widgets/controls",
      "model_module_version": "1.5.0",
      "model_name": "DescriptionStyleModel",
      "state": {
       "description_width": ""
      }
     },
     "5ce15dd19df1448babff0b48cfedf34d": {
      "model_module": "@jupyter-widgets/controls",
      "model_module_version": "1.5.0",
      "model_name": "HBoxModel",
      "state": {
       "children": [
        "IPY_MODEL_28a21831d9834ca2b7f1065f07104ec2",
        "IPY_MODEL_dc825a9eaef143de90445f073a9a9ac3"
       ],
       "layout": "IPY_MODEL_8df7c845952640dd90f1d0ecf2f86dae"
      }
     },
     "5cf1be9d57fe4a91b7967cc1f2a95443": {
      "model_module": "@jupyter-widgets/controls",
      "model_module_version": "1.5.0",
      "model_name": "HTMLModel",
      "state": {
       "layout": "IPY_MODEL_416335bcd2b44e22affcc658f4145b41",
       "style": "IPY_MODEL_b685db73f88d46288079ff4736b9a293",
       "value": "<p>File Tag</p>"
      }
     },
     "5d1d8a1ff0a4433e8b7886a9e9698c46": {
      "model_module": "@jupyter-widgets/controls",
      "model_module_version": "1.5.0",
      "model_name": "HBoxModel",
      "state": {
       "children": [
        "IPY_MODEL_5bd5581d1cd7430fb491958a3c9bd235",
        "IPY_MODEL_5e364e60df124187bb1354bf38691e7a"
       ],
       "layout": "IPY_MODEL_c06288f7390c4e8591e6d2a3ae619836"
      }
     },
     "5d2dc9030b154d5fbada652a1d5b9bb1": {
      "model_module": "@jupyter-widgets/controls",
      "model_module_version": "1.5.0",
      "model_name": "ButtonModel",
      "state": {
       "button_style": "warning",
       "description": "revert to last save",
       "layout": "IPY_MODEL_0a40d870af004ea294048d248e7bab25",
       "style": "IPY_MODEL_7802fda21c4a4e91b6d28c4ff4162cc2"
      }
     },
     "5d2e2ad52bd54683bfbc78f78e360072": {
      "model_module": "@jupyter-widgets/controls",
      "model_module_version": "1.5.0",
      "model_name": "DescriptionStyleModel",
      "state": {
       "description_width": ""
      }
     },
     "5d33df2517c54e82bb5ba684180c5497": {
      "model_module": "@jupyter-widgets/controls",
      "model_module_version": "1.5.0",
      "model_name": "HTMLModel",
      "state": {
       "layout": "IPY_MODEL_63b4f32002264c29bc5b3b2247fc8c17",
       "style": "IPY_MODEL_0baa87f73adc4dc78a77911ef3989a75",
       "value": "<p>name</p>"
      }
     },
     "5d9f0cde52d646a08e57720288883009": {
      "model_module": "@jupyter-widgets/controls",
      "model_module_version": "1.5.0",
      "model_name": "VBoxModel",
      "state": {
       "children": [
        "IPY_MODEL_78f6117c608d4470b92107a8f3253c28",
        "IPY_MODEL_836d335dd5044441ab1b665ff9eb3210",
        "IPY_MODEL_bb39d0915c60494696ac2190c1681692"
       ],
       "layout": "IPY_MODEL_9af0eb2eeee940868d79c92fcc420b1c"
      }
     },
     "5ddf556cd34d428084470bd80f1c8e80": {
      "model_module": "@jupyter-widgets/controls",
      "model_module_version": "1.5.0",
      "model_name": "ButtonStyleModel",
      "state": {}
     },
     "5de861c2541b42ba819d26bce0748eba": {
      "model_module": "@jupyter-widgets/output",
      "model_module_version": "1.0.0",
      "model_name": "OutputModel",
      "state": {
       "layout": "IPY_MODEL_1ec15cec67514b339a3cda92009c9095",
       "outputs": [
        {
         "data": {
          "application/vnd.jupyter.widget-view+json": {
           "model_id": "",
           "version_major": 2,
           "version_minor": 0
          },
          "text/plain": "Output()"
         },
         "metadata": {},
         "output_type": "display_data"
        }
       ]
      }
     },
     "5e051ffa0f244cb1a456e3aa4ea76e13": {
      "model_module": "@jupyter-widgets/controls",
      "model_module_version": "1.5.0",
      "model_name": "DescriptionStyleModel",
      "state": {
       "description_width": ""
      }
     },
     "5e364e60df124187bb1354bf38691e7a": {
      "model_module": "@jupyter-widgets/controls",
      "model_module_version": "1.5.0",
      "model_name": "ToggleButtonModel",
      "state": {
       "description": "help",
       "icon": "fa-question-circle",
       "layout": "IPY_MODEL_f397c915f9044a40ab44ac3069846e43",
       "style": "IPY_MODEL_0986874f9308456194b1e9bdbe015d72",
       "tooltip": "gives guidance"
      }
     },
     "5e49d395425c4aadb8e35edcef7073a6": {
      "model_module": "@jupyter-widgets/base",
      "model_module_version": "1.2.0",
      "model_name": "LayoutModel",
      "state": {}
     },
     "5e5cbcd9d91141cd8455829327b3020e": {
      "model_module": "@jupyter-widgets/base",
      "model_module_version": "1.2.0",
      "model_name": "LayoutModel",
      "state": {}
     },
     "5e89c77373b9453bb5104762a54f8da3": {
      "model_module": "@jupyter-widgets/base",
      "model_module_version": "1.2.0",
      "model_name": "LayoutModel",
      "state": {}
     },
     "5e89edd0199b49cb983e5b9bd21c309b": {
      "model_module": "@jupyter-widgets/controls",
      "model_module_version": "1.5.0",
      "model_name": "DescriptionStyleModel",
      "state": {
       "description_width": ""
      }
     },
     "5edfea4d081442d7b10fad329f65e456": {
      "model_module": "@jupyter-widgets/base",
      "model_module_version": "1.2.0",
      "model_name": "LayoutModel",
      "state": {}
     },
     "5f079bece2d64167a5f61fd7a35d1b60": {
      "model_module": "@jupyter-widgets/controls",
      "model_module_version": "1.5.0",
      "model_name": "RadioButtonsModel",
      "state": {
       "_options_labels": [
        "TEMPLATE: C:\\engDev\\git_mf\\MF_Toolbox\\dev\\mf_scripts\\template_inputs\\inputs-gbxml.json",
        "PROJECT: C:\\engDev\\git_mf\\ipyrun\\ipyrun\\appdata\\inputs\\inputs-gbxml.json"
       ],
       "index": 0,
       "layout": "IPY_MODEL_fb8959b7461247a3806e28db90ecc274",
       "style": "IPY_MODEL_dec662d5a78d4f9fae807ae7923eba1f"
      }
     },
     "5f1a4711c52449119b597c4ba87ffe0d": {
      "model_module": "@jupyter-widgets/controls",
      "model_module_version": "1.5.0",
      "model_name": "DescriptionStyleModel",
      "state": {
       "description_width": ""
      }
     },
     "5f40a7da44754d26bf28a623109c644e": {
      "model_module": "@jupyter-widgets/controls",
      "model_module_version": "1.5.0",
      "model_name": "VBoxModel",
      "state": {
       "children": [
        "IPY_MODEL_a923d28efa2c4597a021a6e3d72d0a52",
        "IPY_MODEL_32d6771397d04a82b274824756132fab"
       ],
       "layout": "IPY_MODEL_24510f2adf544f869e6b80ff398bc023"
      }
     },
     "5f42b251e2f94c06a9716c5a3daf2a79": {
      "model_module": "@jupyter-widgets/controls",
      "model_module_version": "1.5.0",
      "model_name": "ButtonModel",
      "state": {
       "button_style": "warning",
       "description": "revert to last save",
       "layout": "IPY_MODEL_ed11ddb7cef04967b7a899977c83ddaa",
       "style": "IPY_MODEL_809f0b2c0a4f4592b3fdf2864d90e60d"
      }
     },
     "5f9ef3b436b84181846ff6cac7bc38c1": {
      "model_module": "@jupyter-widgets/base",
      "model_module_version": "1.2.0",
      "model_name": "LayoutModel",
      "state": {
       "align_items": "stretch",
       "display": "flex",
       "flex_flow": "row",
       "grid_auto_columns": "True",
       "justify_content": "flex-end",
       "width": "90%"
      }
     },
     "5fa4324dd51f4be09129fe2ae41e2e99": {
      "model_module": "@jupyter-widgets/controls",
      "model_module_version": "1.5.0",
      "model_name": "ButtonModel",
      "state": {
       "description": "save",
       "layout": "IPY_MODEL_9f84450e9a564bcb96155ad155f15536",
       "style": "IPY_MODEL_53e6600164e94777b6bd8bc887ca9dc8"
      }
     },
     "5fb0321ab3d94243ae92e68a3aec6b95": {
      "model_module": "ipysheet",
      "model_module_version": "~0.4.4",
      "model_name": "CellRangeModel",
      "state": {
       "_view_module": null,
       "_view_module_version": "",
       "choice": [],
       "column_end": 0,
       "column_start": 0,
       "numeric_format": null,
       "row_end": 3,
       "row_start": 0,
       "squeeze_row": false,
       "type": "text",
       "value": [
        "<class 'float'>",
        "<class 'NoneType'>",
        "<class 'NoneType'>",
        "<class 'NoneType'>"
       ]
      }
     },
     "5fb036fd00184aaca94029c4a3fb90b2": {
      "model_module": "@jupyter-widgets/controls",
      "model_module_version": "1.5.0",
      "model_name": "DescriptionStyleModel",
      "state": {
       "description_width": ""
      }
     },
     "5fbd08be050e42a9b6cf9787fdefe0f3": {
      "model_module": "@jupyter-widgets/controls",
      "model_module_version": "1.5.0",
      "model_name": "ToggleButtonModel",
      "state": {
       "icon": "arrow-down",
       "layout": "IPY_MODEL_3bd5c48d9de74b01b720e31d84a43055",
       "style": "IPY_MODEL_c21dcd8a0cf9409e8bafe432fa37a2a4"
      }
     },
     "5fccb86abfbb4fa6879d2c84e3b38d9a": {
      "model_module": "@jupyter-widgets/base",
      "model_module_version": "1.2.0",
      "model_name": "LayoutModel",
      "state": {
       "align_items": "stretch",
       "display": "flex",
       "flex_flow": "row",
       "grid_auto_columns": "True",
       "justify_content": "flex-end",
       "width": "90%"
      }
     },
     "60431c56caa3412e9908225aa329bbb9": {
      "model_module": "@jupyter-widgets/base",
      "model_module_version": "1.2.0",
      "model_name": "LayoutModel",
      "state": {}
     },
     "606b9323080d4f719b4735a41c28e98d": {
      "model_module": "@jupyter-widgets/base",
      "model_module_version": "1.2.0",
      "model_name": "LayoutModel",
      "state": {}
     },
     "60817a36454e424e80df9a461195b845": {
      "model_module": "@jupyter-widgets/base",
      "model_module_version": "1.2.0",
      "model_name": "LayoutModel",
      "state": {}
     },
     "60da534eb3274ed19b79b95f5f56aead": {
      "model_module": "@jupyter-widgets/controls",
      "model_module_version": "1.5.0",
      "model_name": "DescriptionStyleModel",
      "state": {
       "description_width": ""
      }
     },
     "60f19135319d447ebd217e04f12821da": {
      "model_module": "@jupyter-widgets/base",
      "model_module_version": "1.2.0",
      "model_name": "LayoutModel",
      "state": {}
     },
     "60f650ab9a0e4f3e8f8fcd181428ec3d": {
      "model_module": "@jupyter-widgets/output",
      "model_module_version": "1.0.0",
      "model_name": "OutputModel",
      "state": {
       "layout": "IPY_MODEL_661d28d7f4df478286f5dc1efcc3493d"
      }
     },
     "610fc01c70584f1eab10db5a8c810c03": {
      "model_module": "@jupyter-widgets/controls",
      "model_module_version": "1.5.0",
      "model_name": "VBoxModel",
      "state": {
       "layout": "IPY_MODEL_e0f0aac641ef47e9b3a93369754ea70e"
      }
     },
     "6167cfffddcb4c888ca3ab77271c816f": {
      "model_module": "@jupyter-widgets/base",
      "model_module_version": "1.2.0",
      "model_name": "LayoutModel",
      "state": {}
     },
     "618406659d134ef3b5a963f89591df1a": {
      "model_module": "@jupyter-widgets/controls",
      "model_module_version": "1.5.0",
      "model_name": "HBoxModel",
      "state": {
       "children": [
        "IPY_MODEL_fbc7dd1d6fa24ff2afa7d6d28f5cddb3",
        "IPY_MODEL_1d458c9fa3704074ac1497c2b79bf65b"
       ],
       "layout": "IPY_MODEL_fe2f625d696140eb969d09ff8f2cb03c"
      }
     },
     "6201380bce504bef81b8be2541154930": {
      "model_module": "@jupyter-widgets/base",
      "model_module_version": "1.2.0",
      "model_name": "LayoutModel",
      "state": {
       "align_items": "stretch",
       "border": "dashed 0.2px green",
       "display": "flex",
       "flex_flow": "row",
       "grid_auto_columns": "True",
       "justify_content": "flex-start",
       "width": "100%"
      }
     },
     "621dba73ed384cd4a982a076f8d95c31": {
      "model_module": "@jupyter-widgets/base",
      "model_module_version": "1.2.0",
      "model_name": "LayoutModel",
      "state": {
       "width": "5%"
      }
     },
     "623ba8cf18a74aef9cf9fe343430ee9e": {
      "model_module": "@jupyter-widgets/base",
      "model_module_version": "1.2.0",
      "model_name": "LayoutModel",
      "state": {
       "align_items": "stretch",
       "display": "flex",
       "flex_flow": "row",
       "grid_auto_columns": "True",
       "justify_content": "flex-end",
       "width": "90%"
      }
     },
     "6242266a373d4f11b224c049b29a5a35": {
      "model_module": "@jupyter-widgets/controls",
      "model_module_version": "1.5.0",
      "model_name": "HBoxModel",
      "state": {
       "children": [
        "IPY_MODEL_b106f173920047beb047bea41d16b419",
        "IPY_MODEL_1a11936ba67e46e38c64d84655dff2d8"
       ],
       "layout": "IPY_MODEL_f4b9e8a777664b9a882f3532b3cd9ff8"
      }
     },
     "624b7816e66c49a9958a6915c2cc9483": {
      "model_module": "@jupyter-widgets/controls",
      "model_module_version": "1.5.0",
      "model_name": "HBoxModel",
      "state": {
       "children": [
        "IPY_MODEL_01029ee67e7b45e7b8823bf51eada2e8",
        "IPY_MODEL_d83bfdbc696c4836bfa71ef2b7f08d01"
       ],
       "layout": "IPY_MODEL_5b6d89d2cab74f299313aa22acbec3ce"
      }
     },
     "6251fe8863b54664b0c3f5470861b3d9": {
      "model_module": "@jupyter-widgets/base",
      "model_module_version": "1.2.0",
      "model_name": "LayoutModel",
      "state": {}
     },
     "6257faa0bb5b42bcb24e12a33b0f548e": {
      "model_module": "@jupyter-widgets/controls",
      "model_module_version": "1.5.0",
      "model_name": "DescriptionStyleModel",
      "state": {
       "description_width": ""
      }
     },
     "6263b5419b864278b2597c86d2c4b32d": {
      "model_module": "@jupyter-widgets/controls",
      "model_module_version": "1.5.0",
      "model_name": "HTMLModel",
      "state": {
       "layout": "IPY_MODEL_ad557bc2e23c4fa6a444a930fa6007f0",
       "style": "IPY_MODEL_51ceea048ef84485b037a4a57c291af7",
       "value": "<p>reous foo ous foo st</p>"
      }
     },
     "6275c147bc0b49a594f8df941336a173": {
      "model_module": "@jupyter-widgets/controls",
      "model_module_version": "1.5.0",
      "model_name": "FloatSliderModel",
      "state": {
       "layout": "IPY_MODEL_c2af4a76a1be42f0bed59afd9eee01ec",
       "max": 10,
       "style": "IPY_MODEL_215c98135be241fa93f8f957fbb308c8",
       "value": 1
      }
     },
     "62d1bc563cd846cab806764bb7c0d373": {
      "model_module": "@jupyter-widgets/base",
      "model_module_version": "1.2.0",
      "model_name": "LayoutModel",
      "state": {}
     },
     "62df40b4921a4aacaf8c56909bb8adb2": {
      "model_module": "@jupyter-widgets/controls",
      "model_module_version": "1.5.0",
      "model_name": "SliderStyleModel",
      "state": {
       "description_width": ""
      }
     },
     "634aab075b6048748dfb964384ce7c6d": {
      "model_module": "@jupyter-widgets/base",
      "model_module_version": "1.2.0",
      "model_name": "LayoutModel",
      "state": {
       "align_items": "stretch",
       "border": "dashed 0.2px green",
       "display": "flex",
       "flex_flow": "row",
       "grid_auto_columns": "True",
       "justify_content": "flex-start",
       "width": "100%"
      }
     },
     "63b4f32002264c29bc5b3b2247fc8c17": {
      "model_module": "@jupyter-widgets/base",
      "model_module_version": "1.2.0",
      "model_name": "LayoutModel",
      "state": {}
     },
     "63d59b3836904c499f263bfb69e5a033": {
      "model_module": "@jupyter-widgets/controls",
      "model_module_version": "1.5.0",
      "model_name": "HBoxModel",
      "state": {
       "children": [
        "IPY_MODEL_592a059394fc47e19fe31dc140792da3"
       ],
       "layout": "IPY_MODEL_7d7145f39a074ad3a8830f171bdf741e"
      }
     },
     "63efcc79b8c1410fba17c4ef8457f9ae": {
      "model_module": "@jupyter-widgets/base",
      "model_module_version": "1.2.0",
      "model_name": "LayoutModel",
      "state": {}
     },
     "63f1430ef2c94f88a2d243e2659f9bf6": {
      "model_module": "@jupyter-widgets/controls",
      "model_module_version": "1.5.0",
      "model_name": "HBoxModel",
      "state": {
       "children": [
        "IPY_MODEL_66721f13d1d849f78453021b2ef6088c",
        "IPY_MODEL_59e0e54201d2468c95f9c710a6b9f0f3"
       ],
       "layout": "IPY_MODEL_e897a1e722524f968759ef5426933a8a"
      }
     },
     "64070c0478554159b7f902e688ba1882": {
      "model_module": "@jupyter-widgets/controls",
      "model_module_version": "1.5.0",
      "model_name": "HTMLModel",
      "state": {
       "layout": "IPY_MODEL_021cfc99413c4a6b8025e99998b254e5",
       "style": "IPY_MODEL_1da0097e497242b4b0b9fdceed721328",
       "value": "<p>foo</p>"
      }
     },
     "6420cc31d85f49ef95dd98ce08d64447": {
      "model_module": "@jupyter-widgets/base",
      "model_module_version": "1.2.0",
      "model_name": "LayoutModel",
      "state": {}
     },
     "6440a4dc9ca84199947b8d683168aca7": {
      "model_module": "ipysheet",
      "model_module_version": "~0.4.4",
      "model_name": "CellRangeModel",
      "state": {
       "_view_module": null,
       "_view_module_version": "",
       "choice": [],
       "numeric_format": null,
       "row_end": 3,
       "row_start": 0,
       "squeeze_row": false,
       "type": "text",
       "value": [
        "<class 'float'>",
        "<class 'NoneType'>",
        "<class 'float'>",
        "<class 'float'>"
       ]
      }
     },
     "6497689be7ff41bea98249df2f44a921": {
      "model_module": "@jupyter-widgets/base",
      "model_module_version": "1.2.0",
      "model_name": "LayoutModel",
      "state": {
       "align_items": "stretch",
       "display": "flex",
       "flex_flow": "row",
       "grid_auto_columns": "True",
       "justify_content": "flex-start",
       "width": "80%"
      }
     },
     "652a232f08c647739a3e1c8d3ce07a0f": {
      "model_module": "@jupyter-widgets/controls",
      "model_module_version": "1.5.0",
      "model_name": "ToggleButtonModel",
      "state": {
       "button_style": "info",
       "description": "inputs from file",
       "layout": "IPY_MODEL_0642f035fc5f4000bd65d688c26ec569",
       "style": "IPY_MODEL_71da6d3d67454d519db0e9d9c89c520b"
      }
     },
     "6549c33f099a40e48360e228df931ab8": {
      "model_module": "@jupyter-widgets/controls",
      "model_module_version": "1.5.0",
      "model_name": "HTMLModel",
      "state": {
       "layout": "IPY_MODEL_879af986295748179bc03b477e648668",
       "style": "IPY_MODEL_012b1f334e664c7f859615ea27dc68f2",
       "value": "<p>File Tag</p>"
      }
     },
     "654d365529f24749813a0be6c481dc4e": {
      "model_module": "@jupyter-widgets/controls",
      "model_module_version": "1.5.0",
      "model_name": "TextModel",
      "state": {
       "layout": "IPY_MODEL_932b70b742d94f24be47744802ed14f5",
       "style": "IPY_MODEL_87d503663bb84568afd61b175aa7b64f",
       "value": "C:\\engDev\\git_mf\\MF_Toolbox\\dev\\examples\\gbxml\\105_LiveseyExchange_heatpump-normal-fabric.xml"
      }
     },
     "6553622435f848f095409b986da8badc": {
      "model_module": "@jupyter-widgets/controls",
      "model_module_version": "1.5.0",
      "model_name": "ButtonStyleModel",
      "state": {}
     },
     "65655a0be9f64645be3125012b44be8a": {
      "model_module": "@jupyter-widgets/base",
      "model_module_version": "1.2.0",
      "model_name": "LayoutModel",
      "state": {}
     },
     "65c8dc1006a54961b1268dcd69cc8680": {
      "model_module": "@jupyter-widgets/base",
      "model_module_version": "1.2.0",
      "model_name": "LayoutModel",
      "state": {
       "align_items": "stretch",
       "display": "flex",
       "flex_flow": "row",
       "grid_auto_columns": "True",
       "justify_content": "flex-end",
       "width": "90%"
      }
     },
     "660818faea4f4917a7a0b054e9216816": {
      "model_module": "@jupyter-widgets/output",
      "model_module_version": "1.0.0",
      "model_name": "OutputModel",
      "state": {
       "layout": "IPY_MODEL_bbb96d05a11a44db83f4d68208203cab"
      }
     },
     "661d28d7f4df478286f5dc1efcc3493d": {
      "model_module": "@jupyter-widgets/base",
      "model_module_version": "1.2.0",
      "model_name": "LayoutModel",
      "state": {}
     },
     "664eef857d1f4b9f93a75331988f3253": {
      "model_module": "@jupyter-widgets/controls",
      "model_module_version": "1.5.0",
      "model_name": "DescriptionStyleModel",
      "state": {
       "description_width": ""
      }
     },
     "66721f13d1d849f78453021b2ef6088c": {
      "model_module": "@jupyter-widgets/controls",
      "model_module_version": "1.5.0",
      "model_name": "TextModel",
      "state": {
       "layout": "IPY_MODEL_60f19135319d447ebd217e04f12821da",
       "style": "IPY_MODEL_549d08dd5a864689a8400f176efd13ae",
       "value": "SpaceType"
      }
     },
     "66ba51853c1d4ef9bb8ddd1bcecd1457": {
      "model_module": "@jupyter-widgets/controls",
      "model_module_version": "1.5.0",
      "model_name": "ButtonModel",
      "state": {
       "button_style": "success",
       "description": "save",
       "layout": "IPY_MODEL_884cbe406b504a36b279bf9ce4c9538d",
       "style": "IPY_MODEL_b7625dc5b64440bbb7c0628d9f83ccf4"
      }
     },
     "66cb6cd685444d1fbb40b29f96c3a2b5": {
      "model_module": "@jupyter-widgets/output",
      "model_module_version": "1.0.0",
      "model_name": "OutputModel",
      "state": {
       "layout": "IPY_MODEL_eafbfff38cfa44c3abea97757caed024"
      }
     },
     "670fd1899a284a7989c12cf0be38b770": {
      "model_module": "@jupyter-widgets/controls",
      "model_module_version": "1.5.0",
      "model_name": "HTMLModel",
      "state": {
       "layout": "IPY_MODEL_aeda3abd422d43ecbe510880eb894f77",
       "style": "IPY_MODEL_1756b93917314c6da4a2bbcf5abd206f",
       "value": "<p>its a foo cake</p>"
      }
     },
     "673163b7d3d9436d9a8c3759cb43ba0a": {
      "model_module": "@jupyter-widgets/base",
      "model_module_version": "1.2.0",
      "model_name": "LayoutModel",
      "state": {}
     },
     "6767d067e1ef490e9a20e6884e71fa40": {
      "model_module": "@jupyter-widgets/base",
      "model_module_version": "1.2.0",
      "model_name": "LayoutModel",
      "state": {}
     },
     "67b66ea40a5848ca9aa851b09d852313": {
      "model_module": "@jupyter-widgets/controls",
      "model_module_version": "1.5.0",
      "model_name": "DescriptionStyleModel",
      "state": {
       "description_width": ""
      }
     },
     "67bb6c6f01a147429c7ed66a21118ba5": {
      "model_module": "@jupyter-widgets/base",
      "model_module_version": "1.2.0",
      "model_name": "LayoutModel",
      "state": {}
     },
     "67cfadf8aabd4ca2ae159ecd9d8ca5b7": {
      "model_module": "@jupyter-widgets/controls",
      "model_module_version": "1.5.0",
      "model_name": "DescriptionStyleModel",
      "state": {
       "description_width": ""
      }
     },
     "680860b1c9594bd4a1649ccd6798e776": {
      "model_module": "@jupyter-widgets/controls",
      "model_module_version": "1.5.0",
      "model_name": "HBoxModel",
      "state": {
       "children": [
        "IPY_MODEL_1359ec97ded9496396a0b708c942907a",
        "IPY_MODEL_9fc2504d9a6c4401a401feffddbb0982"
       ],
       "layout": "IPY_MODEL_cc95b428f9bf49628b522517df16cffc"
      }
     },
     "682e10e8699d47688a327c49be0a55e2": {
      "model_module": "@jupyter-widgets/controls",
      "model_module_version": "1.5.0",
      "model_name": "DescriptionStyleModel",
      "state": {
       "description_width": ""
      }
     },
     "6839a4e134f4484d944b7bd51d496cca": {
      "model_module": "@jupyter-widgets/controls",
      "model_module_version": "1.5.0",
      "model_name": "HTMLModel",
      "state": {
       "layout": "IPY_MODEL_8f5955a82b094d6baa528cf92c8851b7",
       "style": "IPY_MODEL_27906d07279a41bdb9800d916b8bad68",
       "value": "<p>fpth_in</p>"
      }
     },
     "685288e98bf641e992348da482d3c27e": {
      "model_module": "@jupyter-widgets/controls",
      "model_module_version": "1.5.0",
      "model_name": "HBoxModel",
      "state": {
       "children": [
        "IPY_MODEL_329ca1a64d3d4e859727cb029988e129",
        "IPY_MODEL_23cee4a4372447aa916d97f44489cdee"
       ],
       "layout": "IPY_MODEL_82030a6f53e84f308acc042e32594f04"
      }
     },
     "6856ede7cd6a41c78ade8050c705c2d8": {
      "model_module": "@jupyter-widgets/base",
      "model_module_version": "1.2.0",
      "model_name": "LayoutModel",
      "state": {
       "align_items": "stretch",
       "display": "flex",
       "flex_flow": "row",
       "grid_auto_columns": "True",
       "justify_content": "flex-end",
       "width": "90%"
      }
     },
     "68835528648743c89fc8bc045628ece1": {
      "model_module": "@jupyter-widgets/controls",
      "model_module_version": "1.5.0",
      "model_name": "ButtonStyleModel",
      "state": {}
     },
     "68a188fc77cd41bda9e3bdc6a1fb0a39": {
      "model_module": "@jupyter-widgets/controls",
      "model_module_version": "1.5.0",
      "model_name": "HTMLModel",
      "state": {
       "layout": "IPY_MODEL_80e4d08c99f44a70ae3b1b3bb57ba4f5",
       "style": "IPY_MODEL_9b027951811e47ba8a6781a7e4a3a887",
       "value": "<p>reous foo ous foo st</p>"
      }
     },
     "69083587e9ab4975b508b3f01c264125": {
      "model_module": "@jupyter-widgets/base",
      "model_module_version": "1.2.0",
      "model_name": "LayoutModel",
      "state": {}
     },
     "691c067c24eb496ba9318103badfc0a8": {
      "model_module": "@jupyter-widgets/base",
      "model_module_version": "1.2.0",
      "model_name": "LayoutModel",
      "state": {}
     },
     "696a540166ea43f0afc5f47fe8c27803": {
      "model_module": "@jupyter-widgets/controls",
      "model_module_version": "1.5.0",
      "model_name": "HBoxModel",
      "state": {
       "children": [
        "IPY_MODEL_f75d5330d7e64c63bf13818ee844bbc2",
        "IPY_MODEL_f723f4adc9f2428d80a253c2f9684118"
       ],
       "layout": "IPY_MODEL_29171f4e164547b0830503568ff8079d"
      }
     },
     "6975b65031fe461e92e5da45c10384b0": {
      "model_module": "@jupyter-widgets/base",
      "model_module_version": "1.2.0",
      "model_name": "LayoutModel",
      "state": {}
     },
     "697e3130b0ad4b6787123b6763610cd0": {
      "model_module": "@jupyter-widgets/controls",
      "model_module_version": "1.5.0",
      "model_name": "TextModel",
      "state": {
       "layout": "IPY_MODEL_d63222d1e1bd4c5e8fb711985ff2cc80",
       "style": "IPY_MODEL_4ad299dfb38c42d797f92d54b6fff3c7",
       "value": "YY-OverheatingAnalysis"
      }
     },
     "698d909b48e545fdb530016f18021c3a": {
      "model_module": "@jupyter-widgets/output",
      "model_module_version": "1.0.0",
      "model_name": "OutputModel",
      "state": {
       "layout": "IPY_MODEL_c9ea25e5f6f8485c84a87d674163fb49"
      }
     },
     "69d16585969f48dd9c2a610e34ff877c": {
      "model_module": "@jupyter-widgets/base",
      "model_module_version": "1.2.0",
      "model_name": "LayoutModel",
      "state": {}
     },
     "69e01d8903394402b218d34c1b6a50b4": {
      "model_module": "@jupyter-widgets/controls",
      "model_module_version": "1.5.0",
      "model_name": "DescriptionStyleModel",
      "state": {
       "description_width": ""
      }
     },
     "69eaa541b4c34c21963fbb3e87aca137": {
      "model_module": "@jupyter-widgets/controls",
      "model_module_version": "1.5.0",
      "model_name": "ButtonModel",
      "state": {
       "button_style": "info",
       "description": "show guide",
       "layout": "IPY_MODEL_f9d33f4ddce447f8abfdc850fdebce54",
       "style": "IPY_MODEL_bb45e92d44aa4c68a246db513e2f9331",
       "tooltip": "read the \"docstring\", ie. the documentation that was written to accompany the script"
      }
     },
     "69fd27f6161947308a08e58a47fe7395": {
      "model_module": "@jupyter-widgets/controls",
      "model_module_version": "1.5.0",
      "model_name": "DescriptionStyleModel",
      "state": {
       "description_width": ""
      }
     },
     "6a167648d4484c75816242b3955aa47a": {
      "model_module": "@jupyter-widgets/controls",
      "model_module_version": "1.5.0",
      "model_name": "VBoxModel",
      "state": {
       "children": [
        "IPY_MODEL_a1f534c5f468418daa71a1854be44856",
        "IPY_MODEL_8c1e805ae75546ceac0fb459117ecce8",
        "IPY_MODEL_9d7aebd32390425a8066091538b5a7d7",
        "IPY_MODEL_06f36e1603d247cba2d5b12cf39bb14b",
        "IPY_MODEL_9f7d4a89ad1c41fbaa405c59309c7d8f",
        "IPY_MODEL_a3c2c73a51af4a6fab16db2bb30841bf",
        "IPY_MODEL_fb89cdf1f6bd4517879de2f904e50b07",
        "IPY_MODEL_e55307ad52b54d67bde3ffee72ce8faf"
       ],
       "layout": "IPY_MODEL_fb1449d9575b473387b7de1ede82728a"
      }
     },
     "6a4f168da22a4277a3c3c9dfa2da7352": {
      "model_module": "@jupyter-widgets/controls",
      "model_module_version": "1.5.0",
      "model_name": "DatePickerModel",
      "state": {
       "disabled": false,
       "layout": "IPY_MODEL_6ba2774f92484ae7a860decb70f4221e",
       "style": "IPY_MODEL_7b355878cc224bd6a099aa0d3807da3c",
       "value": {
        "date": 30,
        "month": 5,
        "year": 2020
       }
      }
     },
     "6b25382b31154d0dba8431c9d7e1edba": {
      "model_module": "@jupyter-widgets/controls",
      "model_module_version": "1.5.0",
      "model_name": "HBoxModel",
      "state": {
       "children": [
        "IPY_MODEL_2dd25c09196f44f2bf5f5f3c18ff66df"
       ],
       "layout": "IPY_MODEL_8d531c971ceb429b9ec1ad656bc65bfb"
      }
     },
     "6b2f271db9dd402681478962adbde9af": {
      "model_module": "@jupyter-widgets/controls",
      "model_module_version": "1.5.0",
      "model_name": "HBoxModel",
      "state": {
       "children": [
        "IPY_MODEL_696a540166ea43f0afc5f47fe8c27803"
       ],
       "layout": "IPY_MODEL_88526f1b021b4395824af0fb8a6fdf77"
      }
     },
     "6b4f52435d97470d86cd0bb41a4ecd3e": {
      "model_module": "@jupyter-widgets/base",
      "model_module_version": "1.2.0",
      "model_name": "LayoutModel",
      "state": {}
     },
     "6b7ac945409b4bae95499296a3e99f27": {
      "model_module": "@jupyter-widgets/controls",
      "model_module_version": "1.5.0",
      "model_name": "DescriptionStyleModel",
      "state": {
       "description_width": ""
      }
     },
     "6b946abc8caa4272b7f823f0596a4dcc": {
      "model_module": "@jupyter-widgets/controls",
      "model_module_version": "1.5.0",
      "model_name": "SelectMultipleModel",
      "state": {
       "_options_labels": [
        "asfd",
        "10",
        "asdf"
       ],
       "index": [
        1
       ],
       "layout": "IPY_MODEL_f3c9240acbf0413fbaad697daae96deb",
       "rows": 5,
       "style": "IPY_MODEL_a0ed8c3ea4ca4e20abe5b0d56fc63744"
      }
     },
     "6ba2774f92484ae7a860decb70f4221e": {
      "model_module": "@jupyter-widgets/base",
      "model_module_version": "1.2.0",
      "model_name": "LayoutModel",
      "state": {}
     },
     "6bee9a02afbc4ab9a5b210350f7fcc2c": {
      "model_module": "@jupyter-widgets/base",
      "model_module_version": "1.2.0",
      "model_name": "LayoutModel",
      "state": {
       "align_items": "stretch",
       "display": "flex",
       "flex_flow": "row",
       "grid_auto_columns": "True",
       "justify_content": "flex-start",
       "width": "80%"
      }
     },
     "6c1b3ec2cb084deca4cd3e7ce007f4a3": {
      "model_module": "@jupyter-widgets/base",
      "model_module_version": "1.2.0",
      "model_name": "LayoutModel",
      "state": {}
     },
     "6c34781a51cc4afaa98b63817b2f6306": {
      "model_module": "@jupyter-widgets/controls",
      "model_module_version": "1.5.0",
      "model_name": "VBoxModel",
      "state": {
       "children": [
        "IPY_MODEL_bf0f4bc08b58427cacd293cee0f17d7c",
        "IPY_MODEL_73190159140f4f43b1eb6b466e0276a5",
        "IPY_MODEL_6cd22180cacd4901848cfaa527789a95"
       ],
       "layout": "IPY_MODEL_5c01f638c72f4eeb9db38951523bb1f9"
      }
     },
     "6c44c973355e4104a738b04fb5b37d67": {
      "model_module": "@jupyter-widgets/controls",
      "model_module_version": "1.5.0",
      "model_name": "HTMLModel",
      "state": {
       "layout": "IPY_MODEL_26a52f6c00d54d6ca713bd8670dad125",
       "style": "IPY_MODEL_aa58bfe6ab6d4689af7ed6c6dabbcc0d",
       "value": "<p>its a foo cake</p>"
      }
     },
     "6c5279ec3c664ec99a8430cd0e788e94": {
      "model_module": "@jupyter-widgets/base",
      "model_module_version": "1.2.0",
      "model_name": "LayoutModel",
      "state": {
       "align_items": "stretch",
       "display": "flex",
       "flex_flow": "row",
       "grid_auto_columns": "True",
       "justify_content": "flex-end",
       "width": "90%"
      }
     },
     "6cb52d7a552049708b0ca01d35860f4f": {
      "model_module": "@jupyter-widgets/controls",
      "model_module_version": "1.5.0",
      "model_name": "ToggleButtonModel",
      "state": {
       "description": "help",
       "icon": "fa-question-circle",
       "layout": "IPY_MODEL_fae9ea0b745d4c29a5a350b5c07ca1e9",
       "style": "IPY_MODEL_7010f4afc5f149e187b515f1d1adb832",
       "tooltip": "gives guidance"
      }
     },
     "6cc404b37a614888825f4fe336036d32": {
      "model_module": "@jupyter-widgets/controls",
      "model_module_version": "1.5.0",
      "model_name": "DescriptionStyleModel",
      "state": {
       "description_width": ""
      }
     },
     "6cd22180cacd4901848cfaa527789a95": {
      "model_module": "@jupyter-widgets/controls",
      "model_module_version": "1.5.0",
      "model_name": "VBoxModel",
      "state": {
       "layout": "IPY_MODEL_9a8580f78d7a4e888d6316ad531d5465"
      }
     },
     "6ce3151695df41f2b48c47aa533b5248": {
      "model_module": "@jupyter-widgets/base",
      "model_module_version": "1.2.0",
      "model_name": "LayoutModel",
      "state": {}
     },
     "6cee114c6cf144a2a1682afb07ec6bfd": {
      "model_module": "@jupyter-widgets/controls",
      "model_module_version": "1.5.0",
      "model_name": "DescriptionStyleModel",
      "state": {
       "description_width": ""
      }
     },
     "6d0f52cacf0f48789d93150f1a4d6266": {
      "model_module": "@jupyter-widgets/controls",
      "model_module_version": "1.5.0",
      "model_name": "HBoxModel",
      "state": {
       "children": [
        "IPY_MODEL_1f6efd25a629489c8c77d861dca50768",
        "IPY_MODEL_fe525f6dcf18466590b88e7ad7c3afc6"
       ],
       "layout": "IPY_MODEL_18123ddc458e4d578a4605089139f491"
      }
     },
     "6d1e4b8b446e4020aa7dcb61978ab2be": {
      "model_module": "@jupyter-widgets/controls",
      "model_module_version": "1.5.0",
      "model_name": "DescriptionStyleModel",
      "state": {
       "description_width": ""
      }
     },
     "6d32796a086c44d9af7dd25270008499": {
      "model_module": "@jupyter-widgets/controls",
      "model_module_version": "1.5.0",
      "model_name": "DescriptionStyleModel",
      "state": {
       "description_width": ""
      }
     },
     "6d3b2a087fb9463eaf845efa223260d2": {
      "model_module": "@jupyter-widgets/controls",
      "model_module_version": "1.5.0",
      "model_name": "DescriptionStyleModel",
      "state": {
       "description_width": ""
      }
     },
     "6d8a2cf3bc114e1487a087e2586a0aa4": {
      "model_module": "@jupyter-widgets/controls",
      "model_module_version": "1.5.0",
      "model_name": "DescriptionStyleModel",
      "state": {
       "description_width": ""
      }
     },
     "6d9875d6f1f043f0b20ba288e910818b": {
      "model_module": "@jupyter-widgets/controls",
      "model_module_version": "1.5.0",
      "model_name": "HBoxModel",
      "state": {
       "children": [
        "IPY_MODEL_685288e98bf641e992348da482d3c27e"
       ],
       "layout": "IPY_MODEL_2f5e9be459834111a024baad2e30509e"
      }
     },
     "6dc0eab46ba14438ae66d2a99d743363": {
      "model_module": "@jupyter-widgets/controls",
      "model_module_version": "1.5.0",
      "model_name": "ButtonStyleModel",
      "state": {
       "font_weight": "bold"
      }
     },
     "6dc92abd4875471c837c1a4928e10ee8": {
      "model_module": "@jupyter-widgets/base",
      "model_module_version": "1.2.0",
      "model_name": "LayoutModel",
      "state": {
       "align_items": "stretch",
       "display": "flex",
       "flex_flow": "row",
       "grid_auto_columns": "True",
       "justify_content": "flex-start",
       "width": "80%"
      }
     },
     "6e176ca1722b4561bae27ed451a8406d": {
      "model_module": "@jupyter-widgets/controls",
      "model_module_version": "1.5.0",
      "model_name": "SelectMultipleModel",
      "state": {
       "_options_labels": [
        "asfd",
        "10",
        "asdf"
       ],
       "index": [
        1
       ],
       "layout": "IPY_MODEL_a114cbf2927341fe9e59f8535fb31a8f",
       "rows": 5,
       "style": "IPY_MODEL_fd025b6ceac8478394a4ab6fcfd12cae"
      }
     },
     "6e19820b01fe4db49f72d0957752bb7d": {
      "model_module": "@jupyter-widgets/base",
      "model_module_version": "1.2.0",
      "model_name": "LayoutModel",
      "state": {}
     },
     "6e203303e6d6434686ab2fb90a1d0e10": {
      "model_module": "@jupyter-widgets/controls",
      "model_module_version": "1.5.0",
      "model_name": "VBoxModel",
      "state": {
       "children": [
        "IPY_MODEL_94f80509fcd749d6aecd41a10fb5b6e2",
        "IPY_MODEL_fc4aa6aadb034fe5908d6107aa9f335a"
       ],
       "layout": "IPY_MODEL_2ae213000a304c6e90f0db60af6fcf28"
      }
     },
     "6e22772b74d84952885ab26df1af6ac1": {
      "model_module": "@jupyter-widgets/controls",
      "model_module_version": "1.5.0",
      "model_name": "FloatTextModel",
      "state": {
       "layout": "IPY_MODEL_9238f21f4efe426a87276903e178a43b",
       "step": null,
       "style": "IPY_MODEL_f9dbe306fe994979aa48fcabcb86ddef",
       "value": 9
      }
     },
     "6e5eb2ac0e344c4db862ce33912c17f4": {
      "model_module": "@jupyter-widgets/controls",
      "model_module_version": "1.5.0",
      "model_name": "DescriptionStyleModel",
      "state": {
       "description_width": ""
      }
     },
     "6e8072b52b534f94b6d64ffcd0c42af0": {
      "model_module": "@jupyter-widgets/base",
      "model_module_version": "1.2.0",
      "model_name": "LayoutModel",
      "state": {}
     },
     "6ec9fbd0163540bdb4f40f3a4cb2002d": {
      "model_module": "@jupyter-widgets/base",
      "model_module_version": "1.2.0",
      "model_name": "LayoutModel",
      "state": {}
     },
     "6ecb5c5fd29a4fd2ba7bd0e85606efaa": {
      "model_module": "@jupyter-widgets/controls",
      "model_module_version": "1.5.0",
      "model_name": "DescriptionStyleModel",
      "state": {
       "description_width": ""
      }
     },
     "6f7c4289f1e94012845bfa3d7185db07": {
      "model_module": "@jupyter-widgets/controls",
      "model_module_version": "1.5.0",
      "model_name": "ButtonModel",
      "state": {
       "button_style": "warning",
       "description": "revert to last save",
       "layout": "IPY_MODEL_7a6aa995a0e74bfe8834c2ccee430f6e",
       "style": "IPY_MODEL_40738273d57a47ccb3b80147be17fc73"
      }
     },
     "7010f4afc5f149e187b515f1d1adb832": {
      "model_module": "@jupyter-widgets/controls",
      "model_module_version": "1.5.0",
      "model_name": "DescriptionStyleModel",
      "state": {
       "description_width": ""
      }
     },
     "702b45c3ac24421090445e7ce7e1fd89": {
      "model_module": "@jupyter-widgets/base",
      "model_module_version": "1.2.0",
      "model_name": "LayoutModel",
      "state": {
       "align_items": "stretch",
       "border": "dashed 0.2px green",
       "display": "flex",
       "flex_flow": "row",
       "grid_auto_columns": "True",
       "justify_content": "flex-start",
       "width": "100%"
      }
     },
     "704f28b7d72b44edb881784ccbadc922": {
      "model_module": "@jupyter-widgets/base",
      "model_module_version": "1.2.0",
      "model_name": "LayoutModel",
      "state": {}
     },
     "706f52423a904358a31a8b7a17347db8": {
      "model_module": "@jupyter-widgets/base",
      "model_module_version": "1.2.0",
      "model_name": "LayoutModel",
      "state": {}
     },
     "7079f7aed1f9403897356e9e108d9f8a": {
      "model_module": "@jupyter-widgets/controls",
      "model_module_version": "1.5.0",
      "model_name": "DescriptionStyleModel",
      "state": {
       "description_width": ""
      }
     },
     "70f466a46df64ade8d50b52d55511bb4": {
      "model_module": "@jupyter-widgets/base",
      "model_module_version": "1.2.0",
      "model_name": "LayoutModel",
      "state": {}
     },
     "70f5f19e20b64bed8e3dae467f680401": {
      "model_module": "@jupyter-widgets/controls",
      "model_module_version": "1.5.0",
      "model_name": "ToggleButtonModel",
      "state": {
       "icon": "arrow-down",
       "layout": "IPY_MODEL_96d01e475c8b406487608eb8bf10e962",
       "style": "IPY_MODEL_a96a5f0481c04d4f815eb86f0fb7c9de"
      }
     },
     "7124da2a57f0403b84a2453ef83920be": {
      "model_module": "@jupyter-widgets/base",
      "model_module_version": "1.2.0",
      "model_name": "LayoutModel",
      "state": {
       "align_items": "stretch",
       "border": "dashed 0.2px green",
       "display": "flex",
       "flex_flow": "row",
       "grid_auto_columns": "True",
       "justify_content": "flex-start",
       "width": "100%"
      }
     },
     "71950fbb77c743e29133526b196b6f96": {
      "model_module": "@jupyter-widgets/controls",
      "model_module_version": "1.5.0",
      "model_name": "HTMLModel",
      "state": {
       "layout": "IPY_MODEL_1f9e567f7a1541ae9b0657286f4fcad6",
       "style": "IPY_MODEL_cdf13fe73c234d8ba98183d64a320eed",
       "value": "<p>foo</p>"
      }
     },
     "71afa99ba4484b0ca1e0f9cb4fa56d5e": {
      "model_module": "@jupyter-widgets/controls",
      "model_module_version": "1.5.0",
      "model_name": "DescriptionStyleModel",
      "state": {
       "description_width": ""
      }
     },
     "71da6d3d67454d519db0e9d9c89c520b": {
      "model_module": "@jupyter-widgets/controls",
      "model_module_version": "1.5.0",
      "model_name": "DescriptionStyleModel",
      "state": {
       "description_width": ""
      }
     },
     "71f19a9eb6a84cb9af976a317e04bf77": {
      "model_module": "@jupyter-widgets/controls",
      "model_module_version": "1.5.0",
      "model_name": "HTMLModel",
      "state": {
       "layout": "IPY_MODEL_84daf7fd52734780812ca9c1a29dd90c",
       "style": "IPY_MODEL_74e86add696744e08d6b0f99db074ee4",
       "value": "<p>its a foo cake</p>"
      }
     },
     "71f61174dabe423fbfa7b9cabe08c751": {
      "model_module": "@jupyter-widgets/controls",
      "model_module_version": "1.5.0",
      "model_name": "HTMLModel",
      "state": {
       "layout": "IPY_MODEL_926c7d680acb4062a25574abe5c97715",
       "style": "IPY_MODEL_3c918c7a518e4068b64025f6b07f68fb",
       "value": "<p>Date Picker</p>"
      }
     },
     "71f827ef334a4acca7ce950c6c67bb03": {
      "model_module": "@jupyter-widgets/controls",
      "model_module_version": "1.5.0",
      "model_name": "DescriptionStyleModel",
      "state": {
       "description_width": ""
      }
     },
     "720cc57445854083aa7d392299a29c26": {
      "model_module": "@jupyter-widgets/output",
      "model_module_version": "1.0.0",
      "model_name": "OutputModel",
      "state": {
       "layout": "IPY_MODEL_caa472f14c1a4d4faae7ea13f99eae42"
      }
     },
     "724565cdf7a346bca324cd866f60e4d0": {
      "model_module": "@jupyter-widgets/controls",
      "model_module_version": "1.5.0",
      "model_name": "HBoxModel",
      "state": {
       "children": [
        "IPY_MODEL_fe3696fed3a4404aa62f7705aba61900",
        "IPY_MODEL_43fa8275400d4c6ba2050b2dd9402d5e"
       ],
       "layout": "IPY_MODEL_d70d1dbfab8b4121968ff7ed46431f1e"
      }
     },
     "7269a89807bc41868787a09d9b6152aa": {
      "model_module": "@jupyter-widgets/base",
      "model_module_version": "1.2.0",
      "model_name": "LayoutModel",
      "state": {}
     },
     "7288580582164a3892d8771824d0a758": {
      "model_module": "@jupyter-widgets/base",
      "model_module_version": "1.2.0",
      "model_name": "LayoutModel",
      "state": {
       "align_items": "stretch",
       "display": "flex",
       "flex_flow": "row",
       "grid_auto_columns": "True",
       "justify_content": "flex-start",
       "width": "80%"
      }
     },
     "729d432a372b49adbd3272061717ad9f": {
      "model_module": "@jupyter-widgets/controls",
      "model_module_version": "1.5.0",
      "model_name": "HBoxModel",
      "state": {
       "children": [
        "IPY_MODEL_7e99d0b02fdb4cf1afd07cbfbf343fb1",
        "IPY_MODEL_eb249c4dc9c24aa4a686c2e844f501c5"
       ],
       "layout": "IPY_MODEL_db3f77a7f1704d50a333e62eebf2654c"
      }
     },
     "72a3b3aad4fb45a49c4e651c5ef6fcc0": {
      "model_module": "@jupyter-widgets/controls",
      "model_module_version": "1.5.0",
      "model_name": "TextModel",
      "state": {
       "layout": "IPY_MODEL_4531618929cb47c6bebf4cd02639890f",
       "style": "IPY_MODEL_5d2e2ad52bd54683bfbc78f78e360072",
       "value": "BlockCode"
      }
     },
     "72b0ab9a82764b648b580682152b5984": {
      "model_module": "@jupyter-widgets/base",
      "model_module_version": "1.2.0",
      "model_name": "LayoutModel",
      "state": {
       "align_items": "stretch",
       "border": "dashed 0.2px green",
       "display": "flex",
       "flex_flow": "row",
       "grid_auto_columns": "True",
       "justify_content": "flex-start",
       "width": "100%"
      }
     },
     "72d607553e4f46798a0aa4fa5807bafc": {
      "model_module": "@jupyter-widgets/base",
      "model_module_version": "1.2.0",
      "model_name": "LayoutModel",
      "state": {
       "align_items": "stretch",
       "display": "flex",
       "flex_flow": "row",
       "grid_auto_columns": "True",
       "justify_content": "flex-end",
       "width": "90%"
      }
     },
     "72e30cc8127b4a12b9086b0e1c82d789": {
      "model_module": "@jupyter-widgets/controls",
      "model_module_version": "1.5.0",
      "model_name": "HBoxModel",
      "state": {
       "children": [
        "IPY_MODEL_5b6ef88639d04257a717a93d4202ca0d",
        "IPY_MODEL_4506200af12649709fcfe2e9ea2137f6"
       ],
       "layout": "IPY_MODEL_bac70e267cc340fc8bfc5a50f25bcafa"
      }
     },
     "72e5ff956a6b4409b2a51477487c7e1d": {
      "model_module": "@jupyter-widgets/controls",
      "model_module_version": "1.5.0",
      "model_name": "HBoxModel",
      "state": {
       "children": [
        "IPY_MODEL_43cdb790bff242c2aca9fb126af83656",
        "IPY_MODEL_6cb52d7a552049708b0ca01d35860f4f"
       ],
       "layout": "IPY_MODEL_1d93f09b97284707bfbddec74287e3b0"
      }
     },
     "72e80fdd0dc444ac8004255b1bce2622": {
      "model_module": "@jupyter-widgets/base",
      "model_module_version": "1.2.0",
      "model_name": "LayoutModel",
      "state": {
       "align_items": "stretch",
       "width": "100%"
      }
     },
     "73190159140f4f43b1eb6b466e0276a5": {
      "model_module": "@jupyter-widgets/controls",
      "model_module_version": "1.5.0",
      "model_name": "HTMLModel",
      "state": {
       "layout": "IPY_MODEL_f7748563b6c3457ba42e67ed3614e1d5",
       "style": "IPY_MODEL_83987193df7646ec9d961725452fe47c",
       "value": "<p>edit user input form below</p>"
      }
     },
     "7358552470da46a287427218735ef794": {
      "model_module": "@jupyter-widgets/controls",
      "model_module_version": "1.5.0",
      "model_name": "HBoxModel",
      "state": {
       "children": [
        "IPY_MODEL_a6574949453340539a0ec61e6b5cb224",
        "IPY_MODEL_46a312d8739f4a35a0ac2c6ebc4465bd"
       ],
       "layout": "IPY_MODEL_90be61fa3b7a4095abbcb205e96493f2"
      }
     },
     "7376f0e5ce14481385de568ac8c6c0f2": {
      "model_module": "@jupyter-widgets/controls",
      "model_module_version": "1.5.0",
      "model_name": "HTMLModel",
      "state": {
       "layout": "IPY_MODEL_f767f988e50f4ddb8ae9fce22004534d",
       "style": "IPY_MODEL_8035efd2d7524686a44501a4f44e041b",
       "value": "<b>03/06/2020_YY-OverheatingAnalysis_dfasdfasd_False</b>"
      }
     },
     "739819412ffc43309a432638353aae4a": {
      "model_module": "@jupyter-widgets/base",
      "model_module_version": "1.2.0",
      "model_name": "LayoutModel",
      "state": {}
     },
     "73c737e61dd4428aad27de9ac4eb0b99": {
      "model_module": "@jupyter-widgets/controls",
      "model_module_version": "1.5.0",
      "model_name": "DescriptionStyleModel",
      "state": {
       "description_width": ""
      }
     },
     "73e4d36e49cd49a08b6f2a116ae2e01a": {
      "model_module": "@jupyter-widgets/base",
      "model_module_version": "1.2.0",
      "model_name": "LayoutModel",
      "state": {}
     },
     "7410e90167c14ed29fb44ddf82d07eaf": {
      "model_module": "@jupyter-widgets/base",
      "model_module_version": "1.2.0",
      "model_name": "LayoutModel",
      "state": {}
     },
     "741b0d778d1f44bf8cdf4bd8471bdac0": {
      "model_module": "@jupyter-widgets/output",
      "model_module_version": "1.0.0",
      "model_name": "OutputModel",
      "state": {
       "layout": "IPY_MODEL_cbf16cfc3c6940e9b0415f3739ff6386"
      }
     },
     "742c12c7945047a99e6cdbe8fdcdc6fa": {
      "model_module": "@jupyter-widgets/base",
      "model_module_version": "1.2.0",
      "model_name": "LayoutModel",
      "state": {}
     },
     "74522962b600443485bef10ebdd2b8c4": {
      "model_module": "@jupyter-widgets/output",
      "model_module_version": "1.0.0",
      "model_name": "OutputModel",
      "state": {
       "layout": "IPY_MODEL_c3f0b5f4aa034cc889c4da87e3ca49cd"
      }
     },
     "747e0178cc4140f4aab9d09d3058ecef": {
      "model_module": "@jupyter-widgets/base",
      "model_module_version": "1.2.0",
      "model_name": "LayoutModel",
      "state": {}
     },
     "7494661d3cf94fa3814da031a17d17ee": {
      "model_module": "@jupyter-widgets/controls",
      "model_module_version": "1.5.0",
      "model_name": "DescriptionStyleModel",
      "state": {
       "description_width": ""
      }
     },
     "74c754fa49f2438fbceb41e2016b1c8b": {
      "model_module": "@jupyter-widgets/controls",
      "model_module_version": "1.5.0",
      "model_name": "HBoxModel",
      "state": {
       "children": [
        "IPY_MODEL_41e6268399ee4f4dba593f5c23eb8320",
        "IPY_MODEL_95fabe25568a4c18b6ae388f6f52ad18"
       ],
       "layout": "IPY_MODEL_9956b7eab04a4aba89fbb9c44f097166"
      }
     },
     "74d37a9d047c4304ae2c7fdfd11ff226": {
      "model_module": "@jupyter-widgets/base",
      "model_module_version": "1.2.0",
      "model_name": "LayoutModel",
      "state": {}
     },
     "74e86add696744e08d6b0f99db074ee4": {
      "model_module": "@jupyter-widgets/controls",
      "model_module_version": "1.5.0",
      "model_name": "DescriptionStyleModel",
      "state": {
       "description_width": ""
      }
     },
     "74f6c7c9f4a14bc687be88972ba3207c": {
      "model_module": "@jupyter-widgets/base",
      "model_module_version": "1.2.0",
      "model_name": "LayoutModel",
      "state": {}
     },
     "7504ea2e950b4aa8bf9db2d7fe79112e": {
      "model_module": "@jupyter-widgets/controls",
      "model_module_version": "1.5.0",
      "model_name": "HBoxModel",
      "state": {
       "children": [
        "IPY_MODEL_3ad0cf9714ef458ca9411f5f2f164e22",
        "IPY_MODEL_b4eab559359540d282e3783ad8bef3bc"
       ],
       "layout": "IPY_MODEL_aea2aacb198e4cebb0ddf085dc0be3a4"
      }
     },
     "753e6303bb56440da5faf97ce6fe1838": {
      "model_module": "@jupyter-widgets/base",
      "model_module_version": "1.2.0",
      "model_name": "LayoutModel",
      "state": {}
     },
     "754bdb10f2f74808bedd19be692ba224": {
      "model_module": "@jupyter-widgets/controls",
      "model_module_version": "1.5.0",
      "model_name": "HBoxModel",
      "state": {
       "children": [
        "IPY_MODEL_3cd032fc5c394fbbb04bd13d0cfff030"
       ],
       "layout": "IPY_MODEL_9d11e8174c8042bb992c2a2f30101078"
      }
     },
     "754e1bcf23594507b177e0858b571bb8": {
      "model_module": "@jupyter-widgets/output",
      "model_module_version": "1.0.0",
      "model_name": "OutputModel",
      "state": {
       "layout": "IPY_MODEL_7d96c585ef8e49c899ee1f14510e2f56"
      }
     },
     "759dfb107e324d03a51f5213a389bae1": {
      "model_module": "@jupyter-widgets/controls",
      "model_module_version": "1.5.0",
      "model_name": "DescriptionStyleModel",
      "state": {
       "description_width": ""
      }
     },
     "75b2b1fda0b349e2851a05b9be263dc6": {
      "model_module": "@jupyter-widgets/controls",
      "model_module_version": "1.5.0",
      "model_name": "HTMLModel",
      "state": {
       "layout": "IPY_MODEL_234977c36602460ea7b070b54e239e32",
       "style": "IPY_MODEL_ba83b281c84c40f9926bbbad9d85f627",
       "value": "<p>label</p>"
      }
     },
     "75c979ec5a2d418bba3405261cf062f8": {
      "model_module": "@jupyter-widgets/base",
      "model_module_version": "1.2.0",
      "model_name": "LayoutModel",
      "state": {
       "align_items": "stretch",
       "display": "flex",
       "flex_flow": "row",
       "grid_auto_columns": "True",
       "justify_content": "flex-start",
       "width": "80%"
      }
     },
     "75d42e87d7fa4754b0c74b2f3943112b": {
      "model_module": "@jupyter-widgets/base",
      "model_module_version": "1.2.0",
      "model_name": "LayoutModel",
      "state": {}
     },
     "7618f873a8ac4ca98bff5b99460c6af6": {
      "model_module": "@jupyter-widgets/controls",
      "model_module_version": "1.5.0",
      "model_name": "HBoxModel",
      "state": {
       "children": [
        "IPY_MODEL_332a1a28930a4f1a8aba8aa8163768c0",
        "IPY_MODEL_a8e9f80d158d4cc4a03f9c91527f896b"
       ],
       "layout": "IPY_MODEL_ba01a1d10b034e59ac19d02027035259"
      }
     },
     "76500830d7d3428f9176f599badbc3e4": {
      "model_module": "@jupyter-widgets/controls",
      "model_module_version": "1.5.0",
      "model_name": "DescriptionStyleModel",
      "state": {
       "description_width": ""
      }
     },
     "7666dcea43a048fba8d35729eabb6541": {
      "model_module": "@jupyter-widgets/output",
      "model_module_version": "1.0.0",
      "model_name": "OutputModel",
      "state": {
       "layout": "IPY_MODEL_f4cf1c68e67240589ce8d8a94f7abfb6"
      }
     },
     "76bfbc7bb8124772bbaf119b28503523": {
      "model_module": "@jupyter-widgets/controls",
      "model_module_version": "1.5.0",
      "model_name": "HBoxModel",
      "state": {
       "children": [
        "IPY_MODEL_ef140d9f2209445d9ea0bcd4522240b0",
        "IPY_MODEL_15744b7d2187498ca9197b2b0ab2ed64"
       ],
       "layout": "IPY_MODEL_5c053806bb4c4dce90a0a7751c4de63d"
      }
     },
     "7718bdedd46642aa96ba33cffa0f49c3": {
      "model_module": "@jupyter-widgets/controls",
      "model_module_version": "1.5.0",
      "model_name": "VBoxModel",
      "state": {
       "children": [
        "IPY_MODEL_f9884fd1df264974974250d9439c9296",
        "IPY_MODEL_f9ca993921ca41a29bec6c16aa5a3f80",
        "IPY_MODEL_1450a7885a914dee893d50d127723fc1",
        "IPY_MODEL_95aa24ac06134b9bafa44fa784139464",
        "IPY_MODEL_b23fd03162944ced8eb90ff050850ffe",
        "IPY_MODEL_0dbe48e50887498ea05cdb8ecfdd5d49"
       ],
       "layout": "IPY_MODEL_1dc08363f96540b89666ddbc6a505313"
      }
     },
     "77b7280d2fce4df699182800ea301d5a": {
      "model_module": "@jupyter-widgets/controls",
      "model_module_version": "1.5.0",
      "model_name": "DescriptionStyleModel",
      "state": {
       "description_width": ""
      }
     },
     "7802fda21c4a4e91b6d28c4ff4162cc2": {
      "model_module": "@jupyter-widgets/controls",
      "model_module_version": "1.5.0",
      "model_name": "ButtonStyleModel",
      "state": {
       "font_weight": "bold"
      }
     },
     "781cdc54f3794bba90498bfd7e7101a9": {
      "model_module": "@jupyter-widgets/base",
      "model_module_version": "1.2.0",
      "model_name": "LayoutModel",
      "state": {}
     },
     "7870f66fe8494a19aadd6049676c25ca": {
      "model_module": "@jupyter-widgets/controls",
      "model_module_version": "1.5.0",
      "model_name": "DescriptionStyleModel",
      "state": {
       "description_width": ""
      }
     },
     "787741ee01e84e9d9e3e1045784a882b": {
      "model_module": "@jupyter-widgets/base",
      "model_module_version": "1.2.0",
      "model_name": "LayoutModel",
      "state": {}
     },
     "78840ae5559b4c6face0ef796ecec6fb": {
      "model_module": "@jupyter-widgets/controls",
      "model_module_version": "1.5.0",
      "model_name": "HBoxModel",
      "state": {
       "children": [
        "IPY_MODEL_dce48581f4b04c438ce970207e0da7f4"
       ],
       "layout": "IPY_MODEL_a0846bf144414dc7ac6d9a07d9d04e48"
      }
     },
     "789325ef7ad543eca074a8f2796b117d": {
      "model_module": "@jupyter-widgets/controls",
      "model_module_version": "1.5.0",
      "model_name": "TextareaModel",
      "state": {
       "layout": "IPY_MODEL_9308363015fd4aa289ad8a95eb9d286f",
       "style": "IPY_MODEL_67cfadf8aabd4ca2ae159ecd9d8ca5b7"
      }
     },
     "78a536050f4b42c3aa407ff6aaeea69c": {
      "model_module": "@jupyter-widgets/controls",
      "model_module_version": "1.5.0",
      "model_name": "ButtonModel",
      "state": {
       "description": "save",
       "layout": "IPY_MODEL_3aac42aca163407db556ce76d7e955dd",
       "style": "IPY_MODEL_2862465896f24c11abb74b3bd9fd25a5"
      }
     },
     "78c2a2bcb1244d4e953492e871ee94a4": {
      "model_module": "@jupyter-widgets/output",
      "model_module_version": "1.0.0",
      "model_name": "OutputModel",
      "state": {
       "layout": "IPY_MODEL_f7977dfabf0a44228dc608b6908964e0"
      }
     },
     "78cce428a71f43aebb3df0505747d4c6": {
      "model_module": "@jupyter-widgets/output",
      "model_module_version": "1.0.0",
      "model_name": "OutputModel",
      "state": {
       "layout": "IPY_MODEL_28a48cc664b74f3396dda1749da117d4",
       "outputs": [
        {
         "data": {
          "application/vnd.jupyter.widget-view+json": {
           "model_id": "",
           "version_major": 2,
           "version_minor": 0
          },
          "text/plain": "Output()"
         },
         "metadata": {},
         "output_type": "display_data"
        },
        {
         "data": {
          "application/vnd.jupyter.widget-view+json": {
           "model_id": "",
           "version_major": 2,
           "version_minor": 0
          },
          "text/plain": "Output()"
         },
         "metadata": {},
         "output_type": "display_data"
        }
       ]
      }
     },
     "78cda4afea7f40808d6ff74e9312e811": {
      "model_module": "@jupyter-widgets/controls",
      "model_module_version": "1.5.0",
      "model_name": "HBoxModel",
      "state": {
       "children": [
        "IPY_MODEL_6e176ca1722b4561bae27ed451a8406d",
        "IPY_MODEL_f00eb6d844a347a588a0d6aeb5c8b523"
       ],
       "layout": "IPY_MODEL_281a76b80c464d509a9de91680d3316d"
      }
     },
     "78e2765c37b94c4ea709b919caf4e4a2": {
      "model_module": "@jupyter-widgets/controls",
      "model_module_version": "1.5.0",
      "model_name": "ToggleButtonModel",
      "state": {
       "button_style": "info",
       "description": "inputs from file",
       "layout": "IPY_MODEL_90242202add4461fafa5b46311faf972",
       "style": "IPY_MODEL_7b6d3a9cd1c246eebe7b6b5290b92c5b"
      }
     },
     "78f6117c608d4470b92107a8f3253c28": {
      "model_module": "@jupyter-widgets/controls",
      "model_module_version": "1.5.0",
      "model_name": "HBoxModel",
      "state": {
       "children": [
        "IPY_MODEL_78e2765c37b94c4ea709b919caf4e4a2",
        "IPY_MODEL_5d2dc9030b154d5fbada652a1d5b9bb1",
        "IPY_MODEL_40dabefe6e2e416aaa3acda7c73d3e42"
       ],
       "layout": "IPY_MODEL_1b7e164c625e44a79210c1a873239424"
      }
     },
     "78f9646b60884b18a94194b7b4e4a3a8": {
      "model_module": "@jupyter-widgets/controls",
      "model_module_version": "1.5.0",
      "model_name": "HBoxModel",
      "state": {
       "children": [
        "IPY_MODEL_c746c3af10b94b259831d5100063e621",
        "IPY_MODEL_b4fbd84772ff429f91f9c53d7b685518"
       ],
       "layout": "IPY_MODEL_6dc92abd4875471c837c1a4928e10ee8"
      }
     },
     "791f2a9031db4165ad13ebc466064b19": {
      "model_module": "@jupyter-widgets/controls",
      "model_module_version": "1.5.0",
      "model_name": "HBoxModel",
      "state": {
       "children": [
        "IPY_MODEL_e9f9c73faa504650977e18a241b3f446",
        "IPY_MODEL_0b10a68006c244d9abb6b2166da54852"
       ],
       "layout": "IPY_MODEL_75c979ec5a2d418bba3405261cf062f8"
      }
     },
     "792d4010462b4d888e6fb1a0a190b134": {
      "model_module": "ipysheet",
      "model_module_version": "~0.4.4",
      "model_name": "CellRangeModel",
      "state": {
       "_view_module": null,
       "_view_module_version": "",
       "choice": [],
       "column_end": 5,
       "column_start": 5,
       "numeric_format": null,
       "row_end": 3,
       "row_start": 0,
       "squeeze_row": false,
       "type": "text",
       "value": [
        "<class 'str'>",
        "<class 'NoneType'>",
        "<class 'NoneType'>",
        "<class 'NoneType'>"
       ]
      }
     },
     "79312c31d62e4df7bbb06997dd635a4e": {
      "model_module": "@jupyter-widgets/controls",
      "model_module_version": "1.5.0",
      "model_name": "DescriptionStyleModel",
      "state": {
       "description_width": ""
      }
     },
     "79422bc409694322899874271608c341": {
      "model_module": "@jupyter-widgets/controls",
      "model_module_version": "1.5.0",
      "model_name": "HBoxModel",
      "state": {
       "children": [
        "IPY_MODEL_de2b9a1b812b45098a08bfde6ec91d59",
        "IPY_MODEL_3df8670a4e1344a89886b030595ec719"
       ],
       "layout": "IPY_MODEL_7ec2a6aa1d3c4679aeadaafe02ca1ab9"
      }
     },
     "7948e15fa7c24a7c80700f6933c57431": {
      "model_module": "@jupyter-widgets/controls",
      "model_module_version": "1.5.0",
      "model_name": "DescriptionStyleModel",
      "state": {
       "description_width": ""
      }
     },
     "7954ee10eac5444293ebb1fc4930c6f9": {
      "model_module": "@jupyter-widgets/controls",
      "model_module_version": "1.5.0",
      "model_name": "VBoxModel",
      "state": {
       "children": [
        "IPY_MODEL_7618f873a8ac4ca98bff5b99460c6af6",
        "IPY_MODEL_0840a340871e41b68c9c3c0a19b0459f",
        "IPY_MODEL_78840ae5559b4c6face0ef796ecec6fb",
        "IPY_MODEL_13f8e7dae79d4d738f66902bfab35875",
        "IPY_MODEL_31cb3e73d43541d1a4d670199580a2ca",
        "IPY_MODEL_c36dfbc924514c7aac21075a7767e841",
        "IPY_MODEL_63d59b3836904c499f263bfb69e5a033",
        "IPY_MODEL_b023f787cfc74fb6b5d56bdfb3e88fc5"
       ],
       "layout": "IPY_MODEL_f0c813e3c9954621864f5c4db5915b73"
      }
     },
     "7976eff18ba44568b9b036cf1b60ec4b": {
      "model_module": "@jupyter-widgets/controls",
      "model_module_version": "1.5.0",
      "model_name": "ButtonModel",
      "state": {
       "button_style": "success",
       "description": "save changes",
       "layout": "IPY_MODEL_a75ab4afc0614ce78ee2333434a306ef",
       "style": "IPY_MODEL_82c879193ac64e40911e4787c171b206"
      }
     },
     "798be01dc3de40e78b6339dc502c526f": {
      "model_module": "@jupyter-widgets/base",
      "model_module_version": "1.2.0",
      "model_name": "LayoutModel",
      "state": {}
     },
     "798d1ada266f4d688a9a141782586a10": {
      "model_module": "@jupyter-widgets/base",
      "model_module_version": "1.2.0",
      "model_name": "LayoutModel",
      "state": {
       "align_items": "stretch",
       "display": "flex",
       "flex_flow": "row",
       "grid_auto_columns": "True",
       "justify_content": "flex-start",
       "width": "80%"
      }
     },
     "79b9ea9b2228470f9886e9b8156d2c01": {
      "model_module": "@jupyter-widgets/base",
      "model_module_version": "1.2.0",
      "model_name": "LayoutModel",
      "state": {
       "display": "flex",
       "flex_flow": "row",
       "grid_auto_columns": "False",
       "justify_content": "flex-start",
       "width": "100%"
      }
     },
     "7a192cc260584be1b55ff394ffef4a4d": {
      "model_module": "@jupyter-widgets/controls",
      "model_module_version": "1.5.0",
      "model_name": "FloatSliderModel",
      "state": {
       "layout": "IPY_MODEL_7c5ed707fea243f8b0db77d502ea0a80",
       "max": 10,
       "style": "IPY_MODEL_fc49d13ff441459a93469759ea1b95c2",
       "value": 1
      }
     },
     "7a6aa995a0e74bfe8834c2ccee430f6e": {
      "model_module": "@jupyter-widgets/base",
      "model_module_version": "1.2.0",
      "model_name": "LayoutModel",
      "state": {}
     },
     "7ad4595d0ef54ee5aba5a3d9545ab270": {
      "model_module": "@jupyter-widgets/base",
      "model_module_version": "1.2.0",
      "model_name": "LayoutModel",
      "state": {
       "align_items": "stretch",
       "border": "dashed 0.2px green",
       "display": "flex",
       "flex_flow": "row",
       "grid_auto_columns": "True",
       "justify_content": "flex-start",
       "width": "100%"
      }
     },
     "7ae146258b824e80bfdd2a429ee5286a": {
      "model_module": "@jupyter-widgets/controls",
      "model_module_version": "1.5.0",
      "model_name": "DescriptionStyleModel",
      "state": {
       "description_width": ""
      }
     },
     "7b355878cc224bd6a099aa0d3807da3c": {
      "model_module": "@jupyter-widgets/controls",
      "model_module_version": "1.5.0",
      "model_name": "DescriptionStyleModel",
      "state": {
       "description_width": ""
      }
     },
     "7b6d3a9cd1c246eebe7b6b5290b92c5b": {
      "model_module": "@jupyter-widgets/controls",
      "model_module_version": "1.5.0",
      "model_name": "DescriptionStyleModel",
      "state": {
       "description_width": ""
      }
     },
     "7b78ec24e86f407891b239f3f391d0c7": {
      "model_module": "@jupyter-widgets/controls",
      "model_module_version": "1.5.0",
      "model_name": "HTMLModel",
      "state": {
       "layout": "IPY_MODEL_bb3a9be5e4e54412856f6c9f95c75ece",
       "style": "IPY_MODEL_da69f3cb173f4fb5ae0f3460c88cfe6f",
       "value": "<p>File Prefix</p>"
      }
     },
     "7ba1192cb3c247d2952bcb223e8d6151": {
      "model_module": "@jupyter-widgets/base",
      "model_module_version": "1.2.0",
      "model_name": "LayoutModel",
      "state": {}
     },
     "7c3044edbc4f4098be650f336fbc69b4": {
      "model_module": "@jupyter-widgets/controls",
      "model_module_version": "1.5.0",
      "model_name": "HBoxModel",
      "state": {
       "children": [
        "IPY_MODEL_a6d1c61f96004b2d8cfd37ea58f20db7",
        "IPY_MODEL_402def3e9f4b4e1da4b2698ecf671e59"
       ],
       "layout": "IPY_MODEL_72d607553e4f46798a0aa4fa5807bafc"
      }
     },
     "7c5052885c8740ad99252aa84258a282": {
      "model_module": "@jupyter-widgets/controls",
      "model_module_version": "1.5.0",
      "model_name": "DescriptionStyleModel",
      "state": {
       "description_width": ""
      }
     },
     "7c5ed707fea243f8b0db77d502ea0a80": {
      "model_module": "@jupyter-widgets/base",
      "model_module_version": "1.2.0",
      "model_name": "LayoutModel",
      "state": {}
     },
     "7c672d60caae4eb39a51949a707a2d9f": {
      "model_module": "@jupyter-widgets/base",
      "model_module_version": "1.2.0",
      "model_name": "LayoutModel",
      "state": {
       "align_items": "stretch",
       "display": "flex",
       "flex_flow": "row",
       "grid_auto_columns": "True",
       "justify_content": "flex-end",
       "width": "90%"
      }
     },
     "7c7eeea4ae5b49caa0d19c993a89ecc5": {
      "model_module": "@jupyter-widgets/base",
      "model_module_version": "1.2.0",
      "model_name": "LayoutModel",
      "state": {}
     },
     "7c80063c0abe4cb8b94b03289842399e": {
      "model_module": "@jupyter-widgets/controls",
      "model_module_version": "1.5.0",
      "model_name": "ButtonModel",
      "state": {
       "button_style": "success",
       "description": "save",
       "layout": "IPY_MODEL_f9494d2d893e4674a75acf976792215c",
       "style": "IPY_MODEL_18bbc5534d614131aa39c101c15ab5fd"
      }
     },
     "7c95a997a80a400a972d131f3f99edce": {
      "model_module": "@jupyter-widgets/controls",
      "model_module_version": "1.5.0",
      "model_name": "DescriptionStyleModel",
      "state": {
       "description_width": ""
      }
     },
     "7ce04360c027468a9740bfd9e615cfdc": {
      "model_module": "@jupyter-widgets/controls",
      "model_module_version": "1.5.0",
      "model_name": "HTMLModel",
      "state": {
       "layout": "IPY_MODEL_3111fd3d90f1423fadc02531c4257eb9",
       "style": "IPY_MODEL_f9ab8522b29341babe2310d89142fc8d",
       "value": "<p>name</p>"
      }
     },
     "7cee0fce938d44b1a8279e1e8b16dc69": {
      "model_module": "@jupyter-widgets/controls",
      "model_module_version": "1.5.0",
      "model_name": "DescriptionStyleModel",
      "state": {
       "description_width": ""
      }
     },
     "7d0418e20fd146299759f03789955f8c": {
      "model_module": "@jupyter-widgets/controls",
      "model_module_version": "1.5.0",
      "model_name": "DescriptionStyleModel",
      "state": {
       "description_width": ""
      }
     },
     "7d7145f39a074ad3a8830f171bdf741e": {
      "model_module": "@jupyter-widgets/base",
      "model_module_version": "1.2.0",
      "model_name": "LayoutModel",
      "state": {
       "align_items": "stretch",
       "border": "dashed 0.2px green",
       "display": "flex",
       "flex_flow": "row",
       "grid_auto_columns": "True",
       "justify_content": "flex-start",
       "width": "100%"
      }
     },
     "7d71f743136f4cadbc19ca6f13b82473": {
      "model_module": "@jupyter-widgets/base",
      "model_module_version": "1.2.0",
      "model_name": "LayoutModel",
      "state": {}
     },
     "7d748bc9514b41d2b960ee99dff4af98": {
      "model_module": "@jupyter-widgets/base",
      "model_module_version": "1.2.0",
      "model_name": "LayoutModel",
      "state": {}
     },
     "7d84e6a669b54f1c9a676097cae1644c": {
      "model_module": "@jupyter-widgets/base",
      "model_module_version": "1.2.0",
      "model_name": "LayoutModel",
      "state": {}
     },
     "7d96c585ef8e49c899ee1f14510e2f56": {
      "model_module": "@jupyter-widgets/base",
      "model_module_version": "1.2.0",
      "model_name": "LayoutModel",
      "state": {}
     },
     "7db0352d5b1543268d8310f3add47576": {
      "model_module": "@jupyter-widgets/base",
      "model_module_version": "1.2.0",
      "model_name": "LayoutModel",
      "state": {
       "align_items": "stretch",
       "display": "flex",
       "flex_flow": "row",
       "grid_auto_columns": "True",
       "justify_content": "flex-start",
       "width": "80%"
      }
     },
     "7db29552c47f48698321b8a0f258d5d0": {
      "model_module": "@jupyter-widgets/base",
      "model_module_version": "1.2.0",
      "model_name": "LayoutModel",
      "state": {
       "align_items": "stretch",
       "border": "dashed 0.2px green",
       "display": "flex",
       "flex_flow": "row",
       "grid_auto_columns": "True",
       "justify_content": "flex-start",
       "width": "100%"
      }
     },
     "7dd9aefc8dbf4a18b66dbc99657dde96": {
      "model_module": "@jupyter-widgets/base",
      "model_module_version": "1.2.0",
      "model_name": "LayoutModel",
      "state": {}
     },
     "7e2557947f7b441fb1ebbc666e10e3ce": {
      "model_module": "@jupyter-widgets/controls",
      "model_module_version": "1.5.0",
      "model_name": "ButtonStyleModel",
      "state": {
       "font_weight": "bold"
      }
     },
     "7e3ed3e410154ab597652408db8f21d8": {
      "model_module": "@jupyter-widgets/controls",
      "model_module_version": "1.5.0",
      "model_name": "HTMLModel",
      "state": {
       "layout": "IPY_MODEL_5142efe2f4664c7e9af0cbfc69379e12",
       "style": "IPY_MODEL_6cc404b37a614888825f4fe336036d32",
       "value": "<p>name</p>"
      }
     },
     "7e4fbff25a1d477bab85c3584be7629f": {
      "model_module": "@jupyter-widgets/base",
      "model_module_version": "1.2.0",
      "model_name": "LayoutModel",
      "state": {}
     },
     "7e74d400865240d9aeac95c57114865e": {
      "model_module": "@jupyter-widgets/base",
      "model_module_version": "1.2.0",
      "model_name": "LayoutModel",
      "state": {
       "align_items": "stretch",
       "border": "dashed 0.2px green",
       "display": "flex",
       "flex_flow": "row",
       "grid_auto_columns": "True",
       "justify_content": "flex-start",
       "width": "100%"
      }
     },
     "7e99d0b02fdb4cf1afd07cbfbf343fb1": {
      "model_module": "@jupyter-widgets/controls",
      "model_module_version": "1.5.0",
      "model_name": "DropdownModel",
      "state": {
       "_options_labels": [
        "asfd",
        "10",
        "asdf"
       ],
       "index": 1,
       "layout": "IPY_MODEL_5edfea4d081442d7b10fad329f65e456",
       "style": "IPY_MODEL_f88a853fe1dc4d0a905bf74801f31c79"
      }
     },
     "7eace1bc55894cc298ff0c134dac7d85": {
      "model_module": "@jupyter-widgets/base",
      "model_module_version": "1.2.0",
      "model_name": "LayoutModel",
      "state": {
       "align_items": "stretch",
       "display": "flex",
       "flex_flow": "row",
       "grid_auto_columns": "True",
       "justify_content": "flex-start",
       "width": "80%"
      }
     },
     "7ec2a6aa1d3c4679aeadaafe02ca1ab9": {
      "model_module": "@jupyter-widgets/base",
      "model_module_version": "1.2.0",
      "model_name": "LayoutModel",
      "state": {
       "align_items": "stretch",
       "display": "flex",
       "flex_flow": "row",
       "grid_auto_columns": "True",
       "justify_content": "flex-start",
       "width": "80%"
      }
     },
     "7edb40b08923475b9e3c4f76651fadc4": {
      "model_module": "@jupyter-widgets/base",
      "model_module_version": "1.2.0",
      "model_name": "LayoutModel",
      "state": {}
     },
     "7f1789bfd1a0484c9f41ef489ff2c2ac": {
      "model_module": "@jupyter-widgets/base",
      "model_module_version": "1.2.0",
      "model_name": "LayoutModel",
      "state": {}
     },
     "7f4216cb9b78414e8db1f14752bb3473": {
      "model_module": "@jupyter-widgets/output",
      "model_module_version": "1.0.0",
      "model_name": "OutputModel",
      "state": {
       "layout": "IPY_MODEL_0a92935f83ec4b28b290848b5315fa29"
      }
     },
     "7f8dd0de5f9d4239bce13d431eb402bc": {
      "model_module": "@jupyter-widgets/base",
      "model_module_version": "1.2.0",
      "model_name": "LayoutModel",
      "state": {}
     },
     "7fa90df64e19497792fc1a6175f3c3d2": {
      "model_module": "@jupyter-widgets/controls",
      "model_module_version": "1.5.0",
      "model_name": "HBoxModel",
      "state": {
       "children": [
        "IPY_MODEL_0ef56ada0b2247588d01ea110258f129",
        "IPY_MODEL_abbb4283c77e4743b242234f3ec9d48a"
       ],
       "layout": "IPY_MODEL_2f391179aa3b496493e5049ce2f9f8e8"
      }
     },
     "7fce1e15089249f19bf714bc2765c0a3": {
      "model_module": "@jupyter-widgets/controls",
      "model_module_version": "1.5.0",
      "model_name": "HBoxModel",
      "state": {
       "children": [
        "IPY_MODEL_789325ef7ad543eca074a8f2796b117d",
        "IPY_MODEL_d5b57dae2d424792a4308b170a659c85"
       ],
       "layout": "IPY_MODEL_2327f96cd3b8420b9c1b9b47371f35e2"
      }
     },
     "8001551732e9408ebdeac74c0f403296": {
      "model_module": "@jupyter-widgets/base",
      "model_module_version": "1.2.0",
      "model_name": "LayoutModel",
      "state": {}
     },
     "801b9fa30f79401a82597b1ca48ac51f": {
      "model_module": "@jupyter-widgets/base",
      "model_module_version": "1.2.0",
      "model_name": "LayoutModel",
      "state": {}
     },
     "8035efd2d7524686a44501a4f44e041b": {
      "model_module": "@jupyter-widgets/controls",
      "model_module_version": "1.5.0",
      "model_name": "DescriptionStyleModel",
      "state": {
       "description_width": ""
      }
     },
     "80512ca037554323af12110291d2c09c": {
      "model_module": "@jupyter-widgets/controls",
      "model_module_version": "1.5.0",
      "model_name": "DescriptionStyleModel",
      "state": {
       "description_width": ""
      }
     },
     "8079f9d0b150418987e1f6caba332ad2": {
      "model_module": "@jupyter-widgets/controls",
      "model_module_version": "1.5.0",
      "model_name": "HBoxModel",
      "state": {
       "children": [
        "IPY_MODEL_25395f9839194466bc2d839eb0625f9f",
        "IPY_MODEL_826a6b0596b949dc91f9050e38ff4ae0"
       ],
       "layout": "IPY_MODEL_1ed7ca8486c34ba0be406634cd2e9371"
      }
     },
     "807b133679464a2e95093cd0f9daa709": {
      "model_module": "@jupyter-widgets/base",
      "model_module_version": "1.2.0",
      "model_name": "LayoutModel",
      "state": {
       "height": "auto",
       "width": "auto"
      }
     },
     "809f0b2c0a4f4592b3fdf2864d90e60d": {
      "model_module": "@jupyter-widgets/controls",
      "model_module_version": "1.5.0",
      "model_name": "ButtonStyleModel",
      "state": {
       "font_weight": "bold"
      }
     },
     "80aec32ad9084f0ca5d57ecc373a3b57": {
      "model_module": "@jupyter-widgets/controls",
      "model_module_version": "1.5.0",
      "model_name": "VBoxModel",
      "state": {
       "children": [
        "IPY_MODEL_bb36df8a967f479bb699344ea74dd468",
        "IPY_MODEL_a442061f7ec74f6990f9cc7de625d5d8",
        "IPY_MODEL_0aebbc0f00714f87ab96211c0f40639d",
        "IPY_MODEL_dffff0fcb3d14d1a997c4e4ce8f02228",
        "IPY_MODEL_08bae8c3b3f044a4bb637484fed25870"
       ],
       "layout": "IPY_MODEL_df7b3e2abe184bde9369126eaf90077e"
      }
     },
     "80b0ff5644b546ac8912504b69855f33": {
      "model_module": "@jupyter-widgets/controls",
      "model_module_version": "1.5.0",
      "model_name": "DescriptionStyleModel",
      "state": {
       "description_width": ""
      }
     },
     "80bb38e0fa504c56877d9a0fa30d0c9a": {
      "model_module": "@jupyter-widgets/controls",
      "model_module_version": "1.5.0",
      "model_name": "VBoxModel",
      "state": {
       "children": [
        "IPY_MODEL_22e80863e9064332be01b6898679d38c",
        "IPY_MODEL_d65b4d5ac1654d74828db72f79cd36c0",
        "IPY_MODEL_dbb8317dff88491bbd58be8b05cf3908",
        "IPY_MODEL_3d6c19e05cdb4f21a6789f358a96cd02",
        "IPY_MODEL_a0987e89d17c461d8c311753a3414c42",
        "IPY_MODEL_6d9875d6f1f043f0b20ba288e910818b"
       ],
       "layout": "IPY_MODEL_8617f182b2db48f3b11aa6cbf9b11356"
      }
     },
     "80ded06b32c14170a49016af0fcaa288": {
      "model_module": "@jupyter-widgets/controls",
      "model_module_version": "1.5.0",
      "model_name": "DescriptionStyleModel",
      "state": {
       "description_width": ""
      }
     },
     "80e4d08c99f44a70ae3b1b3bb57ba4f5": {
      "model_module": "@jupyter-widgets/base",
      "model_module_version": "1.2.0",
      "model_name": "LayoutModel",
      "state": {}
     },
     "810458da6ff0473b9aeec6fd1317eb54": {
      "model_module": "@jupyter-widgets/base",
      "model_module_version": "1.2.0",
      "model_name": "LayoutModel",
      "state": {
       "align_items": "stretch",
       "border": "dashed 0.2px green",
       "display": "flex",
       "flex_flow": "row",
       "grid_auto_columns": "True",
       "justify_content": "flex-start",
       "width": "100%"
      }
     },
     "8112584f0ac9460fb33c194471e0f6ac": {
      "model_module": "@jupyter-widgets/controls",
      "model_module_version": "1.5.0",
      "model_name": "DescriptionStyleModel",
      "state": {
       "description_width": ""
      }
     },
     "813a9debef4e431bbcd66cfee458c60e": {
      "model_module": "@jupyter-widgets/controls",
      "model_module_version": "1.5.0",
      "model_name": "DescriptionStyleModel",
      "state": {
       "description_width": ""
      }
     },
     "8153fb50d2d2414e9cfccb62ee363ce1": {
      "model_module": "@jupyter-widgets/controls",
      "model_module_version": "1.5.0",
      "model_name": "HTMLModel",
      "state": {
       "layout": "IPY_MODEL_19081d8b07b24989984d4ca0fcf38bfa",
       "style": "IPY_MODEL_71afa99ba4484b0ca1e0f9cb4fa56d5e",
       "value": "<b>30/06/2020_YY-OverheatingAnalysis_XX_True</b>"
      }
     },
     "8172077eb6cb41ad8c486e34f2786447": {
      "model_module": "@jupyter-widgets/base",
      "model_module_version": "1.2.0",
      "model_name": "LayoutModel",
      "state": {}
     },
     "81760ae931db41d7b91a39d4c27e2062": {
      "model_module": "@jupyter-widgets/controls",
      "model_module_version": "1.5.0",
      "model_name": "HBoxModel",
      "state": {
       "children": [
        "IPY_MODEL_fc16d563932041e9a3bbf38db9f744cf",
        "IPY_MODEL_ad4b2f1b93d642f5b88ee65c70c0e94c"
       ],
       "layout": "IPY_MODEL_8479eddc3aa14d05908c0369dd1a84b2"
      }
     },
     "8178aa3cb10b4699b93499960e8b44ea": {
      "model_module": "@jupyter-widgets/base",
      "model_module_version": "1.2.0",
      "model_name": "LayoutModel",
      "state": {
       "align_items": "stretch",
       "display": "flex",
       "flex_flow": "row",
       "grid_auto_columns": "True",
       "justify_content": "flex-end",
       "width": "90%"
      }
     },
     "817ad9c8957247b6aaf6641bbe382d51": {
      "model_module": "@jupyter-widgets/controls",
      "model_module_version": "1.5.0",
      "model_name": "HTMLModel",
      "state": {
       "layout": "IPY_MODEL_3cc51f3a09674d329ac971c45d787269",
       "style": "IPY_MODEL_813a9debef4e431bbcd66cfee458c60e",
       "value": "<p>fus foo ous o</p>"
      }
     },
     "818e4cc49f644cbd98e5e10d64940f9d": {
      "model_module": "@jupyter-widgets/output",
      "model_module_version": "1.0.0",
      "model_name": "OutputModel",
      "state": {
       "layout": "IPY_MODEL_aeeeb6c4639b4670b1aab6dd1d37ce49"
      }
     },
     "81dfe651e8cb4013ab27b2ec44751c14": {
      "model_module": "@jupyter-widgets/base",
      "model_module_version": "1.2.0",
      "model_name": "LayoutModel",
      "state": {}
     },
     "82030a6f53e84f308acc042e32594f04": {
      "model_module": "@jupyter-widgets/base",
      "model_module_version": "1.2.0",
      "model_name": "LayoutModel",
      "state": {
       "align_items": "stretch",
       "display": "flex",
       "flex_flow": "row",
       "grid_auto_columns": "True",
       "justify_content": "flex-end",
       "width": "90%"
      }
     },
     "820c6bf345fd4682af8df8722141264d": {
      "model_module": "@jupyter-widgets/base",
      "model_module_version": "1.2.0",
      "model_name": "LayoutModel",
      "state": {}
     },
     "82360b91f9714e89b93e357c8335f56d": {
      "model_module": "@jupyter-widgets/controls",
      "model_module_version": "1.5.0",
      "model_name": "HTMLModel",
      "state": {
       "layout": "IPY_MODEL_7f8dd0de5f9d4239bce13d431eb402bc",
       "style": "IPY_MODEL_7ae146258b824e80bfdd2a429ee5286a",
       "value": "<p>Derived</p>"
      }
     },
     "826747fe3b34418c84a2d91f1b7160f1": {
      "model_module": "@jupyter-widgets/controls",
      "model_module_version": "1.5.0",
      "model_name": "DescriptionStyleModel",
      "state": {
       "description_width": ""
      }
     },
     "826a6b0596b949dc91f9050e38ff4ae0": {
      "model_module": "@jupyter-widgets/controls",
      "model_module_version": "1.5.0",
      "model_name": "HBoxModel",
      "state": {
       "children": [
        "IPY_MODEL_b034f53662f44f079ebb9b84e6ce8b2c",
        "IPY_MODEL_d0e880eb8f5c4a4392760b07fead9217"
       ],
       "layout": "IPY_MODEL_09a12f6d6e8b451d804cf98e7465f7cf"
      }
     },
     "82707ca68b1c4f64b0873dad6f3721a2": {
      "model_module": "@jupyter-widgets/base",
      "model_module_version": "1.2.0",
      "model_name": "LayoutModel",
      "state": {}
     },
     "8280867eb3c7487ba5fed40d5705709f": {
      "model_module": "@jupyter-widgets/controls",
      "model_module_version": "1.5.0",
      "model_name": "VBoxModel",
      "state": {
       "children": [
        "IPY_MODEL_5a8c5cb600834f8ca595a4f782600485",
        "IPY_MODEL_2c9b9edac74f48dc82f4591203f0fd96"
       ],
       "layout": "IPY_MODEL_b3f0aab89d9c4e9bb5a36cb1c7bfc79e"
      }
     },
     "82a1e99a9e6746658d1e6e91f8764831": {
      "model_module": "@jupyter-widgets/controls",
      "model_module_version": "1.5.0",
      "model_name": "DescriptionStyleModel",
      "state": {
       "description_width": ""
      }
     },
     "82aeca0ca3d74980bfd7b56090c8d6d1": {
      "model_module": "@jupyter-widgets/output",
      "model_module_version": "1.0.0",
      "model_name": "OutputModel",
      "state": {
       "layout": "IPY_MODEL_df2f4315efe14df8bba72388f2b63862"
      }
     },
     "82c879193ac64e40911e4787c171b206": {
      "model_module": "@jupyter-widgets/controls",
      "model_module_version": "1.5.0",
      "model_name": "ButtonStyleModel",
      "state": {
       "font_weight": "bold"
      }
     },
     "82d7dfc0606b4f0392f96f307e19d308": {
      "model_module": "@jupyter-widgets/controls",
      "model_module_version": "1.5.0",
      "model_name": "HBoxModel",
      "state": {
       "children": [
        "IPY_MODEL_4566cf73c72e48a580dddcd6a4846983"
       ],
       "layout": "IPY_MODEL_d5949f8a86564e84b223caba37299f2d"
      }
     },
     "82da4030eae7491b93a07a8da047d285": {
      "model_module": "@jupyter-widgets/base",
      "model_module_version": "1.2.0",
      "model_name": "LayoutModel",
      "state": {
       "align_items": "stretch",
       "display": "flex",
       "flex_flow": "row",
       "grid_auto_columns": "True",
       "justify_content": "flex-end",
       "width": "90%"
      }
     },
     "82f05b828e1f4e9595d0de69f27cdc10": {
      "model_module": "@jupyter-widgets/controls",
      "model_module_version": "1.5.0",
      "model_name": "HTMLModel",
      "state": {
       "layout": "IPY_MODEL_309cb237354544c2b957536d7a585a84",
       "style": "IPY_MODEL_105d317d4c3e4f52971269d597f015ed",
       "value": "<p>spc_name_index</p>"
      }
     },
     "8304c64ba73f4671b19bfaf839400d3d": {
      "model_module": "@jupyter-widgets/controls",
      "model_module_version": "1.5.0",
      "model_name": "VBoxModel",
      "state": {
       "children": [
        "IPY_MODEL_72e5ff956a6b4409b2a51477487c7e1d",
        "IPY_MODEL_5301598fda364fdc9623b73cdffad5c8",
        "IPY_MODEL_f3aa351516554cc7aa5bd1ec3784820d",
        "IPY_MODEL_2194fcb888ea4133bc31fde5ffefe531",
        "IPY_MODEL_9b05547ed01d4a8ab434217bde816b13",
        "IPY_MODEL_6b2f271db9dd402681478962adbde9af",
        "IPY_MODEL_dcc093ce13724a72ba256966c0fb798c",
        "IPY_MODEL_27dad6531cc24ab28a02384521015679"
       ],
       "layout": "IPY_MODEL_167d880028b54e4fb30e5531efb44474"
      }
     },
     "8307141379a84b14b45329b6c1713ddb": {
      "model_module": "@jupyter-widgets/controls",
      "model_module_version": "1.5.0",
      "model_name": "HBoxModel",
      "state": {
       "children": [
        "IPY_MODEL_b8852e3490b640e7b4ddfccc976e4df5",
        "IPY_MODEL_2ea5f6091b454583b110514217c3a272"
       ],
       "layout": "IPY_MODEL_897375ad697a480fb9f45e1f40da8917"
      }
     },
     "836cdb177b2c4431b5a1498721b7d9c0": {
      "model_module": "ipysheet",
      "model_module_version": "~0.4.4",
      "model_name": "CellRangeModel",
      "state": {
       "_view_module": null,
       "_view_module_version": "",
       "choice": [],
       "column_end": 3,
       "column_start": 3,
       "numeric_format": null,
       "row_end": 3,
       "row_start": 0,
       "squeeze_row": false,
       "type": "text",
       "value": [
        "<class 'list'>",
        "<class 'list'>",
        "<class 'NoneType'>",
        "<class 'NoneType'>"
       ]
      }
     },
     "836d335dd5044441ab1b665ff9eb3210": {
      "model_module": "@jupyter-widgets/controls",
      "model_module_version": "1.5.0",
      "model_name": "HTMLModel",
      "state": {
       "layout": "IPY_MODEL_801b9fa30f79401a82597b1ca48ac51f",
       "style": "IPY_MODEL_40d7e68887e6489c9438936b66e55537",
       "value": "<p>edit user input form below</p>"
      }
     },
     "83769952a04e46769580882d1470f821": {
      "model_module": "@jupyter-widgets/controls",
      "model_module_version": "1.5.0",
      "model_name": "DescriptionStyleModel",
      "state": {
       "description_width": ""
      }
     },
     "83987193df7646ec9d961725452fe47c": {
      "model_module": "@jupyter-widgets/controls",
      "model_module_version": "1.5.0",
      "model_name": "DescriptionStyleModel",
      "state": {
       "description_width": ""
      }
     },
     "83f68969c2614bf19565fff4b0af37b4": {
      "model_module": "@jupyter-widgets/base",
      "model_module_version": "1.2.0",
      "model_name": "LayoutModel",
      "state": {}
     },
     "8416e7e49014411f82d2f0eea767ecba": {
      "model_module": "@jupyter-widgets/controls",
      "model_module_version": "1.5.0",
      "model_name": "HBoxModel",
      "state": {
       "children": [
        "IPY_MODEL_2e8dcfaf0f0e4c28990751fc068b2883"
       ],
       "layout": "IPY_MODEL_aa2980b3bb58494d9adeddea9f50df0a"
      }
     },
     "844829ed8cc447a5b3085b0c75a650e6": {
      "model_module": "@jupyter-widgets/controls",
      "model_module_version": "1.5.0",
      "model_name": "DescriptionStyleModel",
      "state": {
       "description_width": ""
      }
     },
     "8479eddc3aa14d05908c0369dd1a84b2": {
      "model_module": "@jupyter-widgets/base",
      "model_module_version": "1.2.0",
      "model_name": "LayoutModel",
      "state": {
       "align_items": "stretch",
       "display": "flex",
       "flex_flow": "row",
       "grid_auto_columns": "True",
       "justify_content": "flex-end",
       "width": "90%"
      }
     },
     "84bafc6717794c108fb133242e6b0c66": {
      "model_module": "@jupyter-widgets/controls",
      "model_module_version": "1.5.0",
      "model_name": "HBoxModel",
      "state": {
       "children": [
        "IPY_MODEL_71f61174dabe423fbfa7b9cabe08c751",
        "IPY_MODEL_d91c993070124774b07f8cc3280648a5"
       ],
       "layout": "IPY_MODEL_9f9d046f1c264d49a0be6d675b4ffded"
      }
     },
     "84c8ad8c28af4d26a978835dc7a3662d": {
      "model_module": "@jupyter-widgets/base",
      "model_module_version": "1.2.0",
      "model_name": "LayoutModel",
      "state": {
       "align_items": "stretch",
       "display": "flex",
       "flex_flow": "row",
       "grid_auto_columns": "True",
       "justify_content": "flex-end",
       "width": "90%"
      }
     },
     "84cb282bc3024d8492ac679b006a9ea4": {
      "model_module": "@jupyter-widgets/controls",
      "model_module_version": "1.5.0",
      "model_name": "HTMLModel",
      "state": {
       "layout": "IPY_MODEL_271b3693d94d472bb7675a06bbf750c6",
       "style": "IPY_MODEL_43d78dc25e86447194529cc365deda10",
       "value": "<p>File Prefix</p>"
      }
     },
     "84d2c827d88c42c3981b665536c9eeb1": {
      "model_module": "@jupyter-widgets/base",
      "model_module_version": "1.2.0",
      "model_name": "LayoutModel",
      "state": {}
     },
     "84daf7fd52734780812ca9c1a29dd90c": {
      "model_module": "@jupyter-widgets/base",
      "model_module_version": "1.2.0",
      "model_name": "LayoutModel",
      "state": {}
     },
     "84e140fe0ba84ff284b9823b16246807": {
      "model_module": "@jupyter-widgets/controls",
      "model_module_version": "1.5.0",
      "model_name": "DescriptionStyleModel",
      "state": {
       "description_width": ""
      }
     },
     "851dcbbd2246422ba4d6233bbf2df250": {
      "model_module": "@jupyter-widgets/base",
      "model_module_version": "1.2.0",
      "model_name": "LayoutModel",
      "state": {}
     },
     "857f53c8aadb4efbb2c98f83bf33d55e": {
      "model_module": "@jupyter-widgets/base",
      "model_module_version": "1.2.0",
      "model_name": "LayoutModel",
      "state": {
       "align_items": "stretch",
       "border": "dashed 0.2px green",
       "display": "flex",
       "flex_flow": "row",
       "grid_auto_columns": "True",
       "justify_content": "flex-start",
       "width": "100%"
      }
     },
     "858bba71f3a342d58eb73635421e32b0": {
      "model_module": "@jupyter-widgets/controls",
      "model_module_version": "1.5.0",
      "model_name": "HBoxModel",
      "state": {
       "children": [
        "IPY_MODEL_81760ae931db41d7b91a39d4c27e2062"
       ],
       "layout": "IPY_MODEL_e3077f95f87a488aab770ba0ec0d7632"
      }
     },
     "85d2694ecc4b4d028f82ece770579436": {
      "model_module": "@jupyter-widgets/controls",
      "model_module_version": "1.5.0",
      "model_name": "HBoxModel",
      "state": {
       "children": [
        "IPY_MODEL_a501a782faf44cf8930b74687423dee2",
        "IPY_MODEL_054ab09cbf6d4cc99d76533d12b75d5b"
       ],
       "layout": "IPY_MODEL_fda305f0a6e54e489428d45fbe537121"
      }
     },
     "8617f182b2db48f3b11aa6cbf9b11356": {
      "model_module": "@jupyter-widgets/base",
      "model_module_version": "1.2.0",
      "model_name": "LayoutModel",
      "state": {}
     },
     "863ff267e23146b2a03d4e301737ec28": {
      "model_module": "@jupyter-widgets/base",
      "model_module_version": "1.2.0",
      "model_name": "LayoutModel",
      "state": {}
     },
     "86458a95245f4105bcb892b9a20dfa09": {
      "model_module": "@jupyter-widgets/controls",
      "model_module_version": "1.5.0",
      "model_name": "HBoxModel",
      "state": {
       "children": [
        "IPY_MODEL_93b8005df42d4ea38d4954ee1d5d559d",
        "IPY_MODEL_0e20f361fad146a8a242918e275a2986"
       ],
       "layout": "IPY_MODEL_31344da1230e4fe894aae1244e776dd9"
      }
     },
     "866ac1300942479d99331d504b51472b": {
      "model_module": "@jupyter-widgets/controls",
      "model_module_version": "1.5.0",
      "model_name": "HTMLModel",
      "state": {
       "layout": "IPY_MODEL_574b2cf1bcf44319b1fe4589894e997f",
       "style": "IPY_MODEL_dc11159f8a414eb89f72ef46121d1fb1",
       "value": "<p>2</p>"
      }
     },
     "867cf304a56f4d51a51f750b132d492b": {
      "model_module": "@jupyter-widgets/controls",
      "model_module_version": "1.5.0",
      "model_name": "VBoxModel",
      "state": {
       "layout": "IPY_MODEL_2210b722ca1548b4b0472fdd01aef61d"
      }
     },
     "868644546d88457b856cd9af76f73c2f": {
      "model_module": "@jupyter-widgets/base",
      "model_module_version": "1.2.0",
      "model_name": "LayoutModel",
      "state": {}
     },
     "86c639f5013a408ab872fe440a66aee6": {
      "model_module": "ipysheet",
      "model_module_version": "~0.4.4",
      "model_name": "CellRangeModel",
      "state": {
       "_view_module": null,
       "_view_module_version": "",
       "choice": [],
       "column_end": 4,
       "column_start": 4,
       "numeric_format": null,
       "row_end": 3,
       "row_start": 0,
       "squeeze_row": false,
       "type": "text",
       "value": [
        "<class 'bool'>",
        "<class 'NoneType'>",
        "<class 'NoneType'>",
        "<class 'NoneType'>"
       ]
      }
     },
     "871d83fb18aa4481b9424ab7b5b2c724": {
      "model_module": "@jupyter-widgets/controls",
      "model_module_version": "1.5.0",
      "model_name": "HBoxModel",
      "state": {
       "children": [
        "IPY_MODEL_0e97293a08fc41a48ab36b0a540c06f7",
        "IPY_MODEL_573df0e0c9ba4d83a0e2d7b8b635a286"
       ],
       "layout": "IPY_MODEL_ca401aa524404576af6e7e3019018275"
      }
     },
     "8730956791b7493fae6006c97e32236f": {
      "model_module": "@jupyter-widgets/controls",
      "model_module_version": "1.5.0",
      "model_name": "TextModel",
      "state": {
       "layout": "IPY_MODEL_d2eaeb5aa5f344079e54103a40891e72",
       "style": "IPY_MODEL_c17c3e049b5d445997071feef6d9cb01",
       "value": "C:\\engDev\\git_mf\\MF_Toolbox\\dev\\examples\\gbxml\\105_LiveseyExchange_heatpump-normal-fabric.xml"
      }
     },
     "8735471dc3fd4f7ba5c1e47fe3b7cf3c": {
      "model_module": "@jupyter-widgets/base",
      "model_module_version": "1.2.0",
      "model_name": "LayoutModel",
      "state": {}
     },
     "8754b5fe456c482aa5c32a2882dcffcd": {
      "model_module": "@jupyter-widgets/controls",
      "model_module_version": "1.5.0",
      "model_name": "TextModel",
      "state": {
       "layout": "IPY_MODEL_d0a41f7012da42a18bebebcf5e5022fc",
       "style": "IPY_MODEL_d16ab2a360bb4688a26457ee8f442c33",
       "value": "YY-OverheatingAnalysis"
      }
     },
     "8785f61fb0ad4f6d804df442942787a7": {
      "model_module": "@jupyter-widgets/base",
      "model_module_version": "1.2.0",
      "model_name": "LayoutModel",
      "state": {}
     },
     "879af986295748179bc03b477e648668": {
      "model_module": "@jupyter-widgets/base",
      "model_module_version": "1.2.0",
      "model_name": "LayoutModel",
      "state": {}
     },
     "87ab7dd7c4df46f886d4d03beff225a5": {
      "model_module": "ipysheet",
      "model_module_version": "~0.4.4",
      "model_name": "CellRangeModel",
      "state": {
       "_view_module": null,
       "_view_module_version": "",
       "choice": [],
       "column_end": 2,
       "column_start": 2,
       "numeric_format": null,
       "row_end": 3,
       "row_start": 0,
       "squeeze_row": false,
       "type": "text",
       "value": [
        "any",
        "<class 'list'>",
        "<class 'NoneType'>",
        "<class 'NoneType'>"
       ]
      }
     },
     "87b82dda7eb34c08961ab1f1120e0007": {
      "model_module": "@jupyter-widgets/base",
      "model_module_version": "1.2.0",
      "model_name": "LayoutModel",
      "state": {
       "align_items": "stretch",
       "border": "dashed 0.2px green",
       "display": "flex",
       "flex_flow": "row",
       "grid_auto_columns": "True",
       "justify_content": "flex-start",
       "width": "100%"
      }
     },
     "87d503663bb84568afd61b175aa7b64f": {
      "model_module": "@jupyter-widgets/controls",
      "model_module_version": "1.5.0",
      "model_name": "DescriptionStyleModel",
      "state": {
       "description_width": ""
      }
     },
     "87e6ce64020a491093c26dd489c3622d": {
      "model_module": "@jupyter-widgets/output",
      "model_module_version": "1.0.0",
      "model_name": "OutputModel",
      "state": {
       "layout": "IPY_MODEL_986ba55996ad4a57923da1244aee1dfa"
      }
     },
     "8808456fa6004b24aa9f8c55c9f9c81a": {
      "model_module": "@jupyter-widgets/output",
      "model_module_version": "1.0.0",
      "model_name": "OutputModel",
      "state": {
       "layout": "IPY_MODEL_d5fe8bb0d4de446997f91b80611e0a77"
      }
     },
     "88257429a664432ba399efbb67116684": {
      "model_module": "@jupyter-widgets/base",
      "model_module_version": "1.2.0",
      "model_name": "LayoutModel",
      "state": {
       "align_items": "stretch",
       "border": "dashed 0.2px green",
       "display": "flex",
       "flex_flow": "row",
       "grid_auto_columns": "True",
       "justify_content": "flex-start",
       "width": "100%"
      }
     },
     "88282135fbb64c63bce1ac80ec29ccb8": {
      "model_module": "@jupyter-widgets/output",
      "model_module_version": "1.0.0",
      "model_name": "OutputModel",
      "state": {
       "layout": "IPY_MODEL_fb6cb454e1504ceabbfa97bbc4b85411"
      }
     },
     "884cbe406b504a36b279bf9ce4c9538d": {
      "model_module": "@jupyter-widgets/base",
      "model_module_version": "1.2.0",
      "model_name": "LayoutModel",
      "state": {}
     },
     "88526f1b021b4395824af0fb8a6fdf77": {
      "model_module": "@jupyter-widgets/base",
      "model_module_version": "1.2.0",
      "model_name": "LayoutModel",
      "state": {
       "align_items": "stretch",
       "border": "dashed 0.2px green",
       "display": "flex",
       "flex_flow": "row",
       "grid_auto_columns": "True",
       "justify_content": "flex-start",
       "width": "100%"
      }
     },
     "886589d05a49463aab9d49150e93e46f": {
      "model_module": "@jupyter-widgets/controls",
      "model_module_version": "1.5.0",
      "model_name": "HTMLModel",
      "state": {
       "layout": "IPY_MODEL_3fbe3f1db2a64a57b40a673c41ef75c9",
       "style": "IPY_MODEL_cbec460e78a743ae9f8681588b20565f",
       "value": "<p>reous foo ous foo st</p>"
      }
     },
     "886a66fccc084b4bb5928844943288b6": {
      "model_module": "@jupyter-widgets/base",
      "model_module_version": "1.2.0",
      "model_name": "LayoutModel",
      "state": {}
     },
     "886d646aa0f04608b0e4eb2844685d3a": {
      "model_module": "@jupyter-widgets/controls",
      "model_module_version": "1.5.0",
      "model_name": "VBoxModel",
      "state": {
       "children": [
        "IPY_MODEL_7618f873a8ac4ca98bff5b99460c6af6",
        "IPY_MODEL_0840a340871e41b68c9c3c0a19b0459f",
        "IPY_MODEL_78840ae5559b4c6face0ef796ecec6fb",
        "IPY_MODEL_13f8e7dae79d4d738f66902bfab35875",
        "IPY_MODEL_31cb3e73d43541d1a4d670199580a2ca",
        "IPY_MODEL_c36dfbc924514c7aac21075a7767e841",
        "IPY_MODEL_63d59b3836904c499f263bfb69e5a033",
        "IPY_MODEL_b023f787cfc74fb6b5d56bdfb3e88fc5"
       ],
       "layout": "IPY_MODEL_e250d621a4a84a9da146f18f68bdaa1c"
      }
     },
     "888135bdc4234378b29c2d6392f8a879": {
      "model_module": "@jupyter-widgets/base",
      "model_module_version": "1.2.0",
      "model_name": "LayoutModel",
      "state": {}
     },
     "88843c389a7c44c48b3342c7208c68b2": {
      "model_module": "@jupyter-widgets/controls",
      "model_module_version": "1.5.0",
      "model_name": "HBoxModel",
      "state": {
       "children": [
        "IPY_MODEL_652a232f08c647739a3e1c8d3ce07a0f",
        "IPY_MODEL_6f7c4289f1e94012845bfa3d7185db07",
        "IPY_MODEL_9dc02a3e0dd14f6d9770dce221b74857"
       ],
       "layout": "IPY_MODEL_4614c6ccde8c4c388e2c48433800ee61"
      }
     },
     "8886689d93604f3ea656929d81e2a4fd": {
      "model_module": "@jupyter-widgets/base",
      "model_module_version": "1.2.0",
      "model_name": "LayoutModel",
      "state": {
       "align_items": "stretch",
       "display": "flex",
       "flex_flow": "row",
       "grid_auto_columns": "True",
       "justify_content": "flex-start",
       "width": "80%"
      }
     },
     "88e18abb9f334756ba8d16c76d23308e": {
      "model_module": "@jupyter-widgets/controls",
      "model_module_version": "1.5.0",
      "model_name": "DescriptionStyleModel",
      "state": {
       "description_width": ""
      }
     },
     "88f7196c6a6241dd8237226cbbdc94b4": {
      "model_module": "@jupyter-widgets/controls",
      "model_module_version": "1.5.0",
      "model_name": "HBoxModel",
      "state": {
       "children": [
        "IPY_MODEL_0e3f1fb93e034b31be7a07c65c521d3e",
        "IPY_MODEL_2dbc998c96544be281b8772b0178c901"
       ],
       "layout": "IPY_MODEL_53a54130e2544bfd947b09e466e4b193"
      }
     },
     "892a7ba1bb80431bb60791de58bd4fbf": {
      "model_module": "@jupyter-widgets/controls",
      "model_module_version": "1.5.0",
      "model_name": "HTMLModel",
      "state": {
       "layout": "IPY_MODEL_d92ef146915446a5b053cd4fa3de4067",
       "style": "IPY_MODEL_b68b17aef2d54209b28540b63bd522f5"
      }
     },
     "896307e6e44048438feff97344b38b5f": {
      "model_module": "@jupyter-widgets/base",
      "model_module_version": "1.2.0",
      "model_name": "LayoutModel",
      "state": {}
     },
     "896c1f5f756a468aa2e8aa22cbdade3a": {
      "model_module": "@jupyter-widgets/base",
      "model_module_version": "1.2.0",
      "model_name": "LayoutModel",
      "state": {
       "align_items": "stretch",
       "border": "dashed 0.2px green",
       "display": "flex",
       "flex_flow": "row",
       "grid_auto_columns": "True",
       "justify_content": "flex-start",
       "width": "100%"
      }
     },
     "8970e1cacd1b4688941335ece9055630": {
      "model_module": "@jupyter-widgets/base",
      "model_module_version": "1.2.0",
      "model_name": "LayoutModel",
      "state": {
       "align_items": "stretch",
       "border": "dashed 0.2px green",
       "display": "flex",
       "flex_flow": "row",
       "grid_auto_columns": "True",
       "justify_content": "flex-start",
       "width": "100%"
      }
     },
     "897375ad697a480fb9f45e1f40da8917": {
      "model_module": "@jupyter-widgets/base",
      "model_module_version": "1.2.0",
      "model_name": "LayoutModel",
      "state": {
       "align_items": "stretch",
       "display": "flex",
       "flex_flow": "row",
       "grid_auto_columns": "True",
       "justify_content": "flex-end",
       "width": "90%"
      }
     },
     "897dcc8ab79646d0af24ad6bc7a690bc": {
      "model_module": "@jupyter-widgets/base",
      "model_module_version": "1.2.0",
      "model_name": "LayoutModel",
      "state": {
       "align_items": "stretch",
       "border": "dashed 0.2px green",
       "display": "flex",
       "flex_flow": "row",
       "grid_auto_columns": "True",
       "justify_content": "flex-start",
       "width": "100%"
      }
     },
     "89fd65fd201949bf8ad771931bf3f957": {
      "model_module": "@jupyter-widgets/controls",
      "model_module_version": "1.5.0",
      "model_name": "ButtonStyleModel",
      "state": {
       "font_weight": "bold"
      }
     },
     "8a204bf356f7488a922e3fbff3579ac5": {
      "model_module": "@jupyter-widgets/base",
      "model_module_version": "1.2.0",
      "model_name": "LayoutModel",
      "state": {}
     },
     "8a2d03e247264f31a3a1ce9467bc02f3": {
      "model_module": "@jupyter-widgets/controls",
      "model_module_version": "1.5.0",
      "model_name": "HTMLModel",
      "state": {
       "layout": "IPY_MODEL_f07aeda3066f47da9569438cf23c5989",
       "style": "IPY_MODEL_d96f1d319d3440e78d2be34df8c659d0",
       "value": "<p>edit user input form below</p>"
      }
     },
     "8a3633a9bdc648cdb33f9b802bdbfce7": {
      "model_module": "@jupyter-widgets/controls",
      "model_module_version": "1.5.0",
      "model_name": "VBoxModel",
      "state": {
       "children": [
        "IPY_MODEL_46c8c0a068ce42b2a99de569fd8d451c",
        "IPY_MODEL_b02b0e2074614f0ba314fb6690153b48",
        "IPY_MODEL_90750a3998de48e0beee18d8814216d2",
        "IPY_MODEL_8ebf56d179af4e329f5d3b2527a2c2ac",
        "IPY_MODEL_754bdb10f2f74808bedd19be692ba224",
        "IPY_MODEL_be8cb1703c534a0bbd6b6296d5605bf4",
        "IPY_MODEL_fa94f0d5a6d642d5aaa2fc9a58a938f7",
        "IPY_MODEL_0bb209524318489690e9d29e22f248ce"
       ],
       "layout": "IPY_MODEL_6167cfffddcb4c888ca3ab77271c816f"
      }
     },
     "8a425f9a099148aa8f11659f51f82f24": {
      "model_module": "@jupyter-widgets/base",
      "model_module_version": "1.2.0",
      "model_name": "LayoutModel",
      "state": {
       "width": "5%"
      }
     },
     "8a733a3264584f0da87879dcfe7d6983": {
      "model_module": "@jupyter-widgets/controls",
      "model_module_version": "1.5.0",
      "model_name": "FloatSliderModel",
      "state": {
       "layout": "IPY_MODEL_c5e16ffdb7514969906b6fa0e3d2e405",
       "max": 10,
       "style": "IPY_MODEL_62df40b4921a4aacaf8c56909bb8adb2",
       "value": 1
      }
     },
     "8aca91fa04fe48509daeafc6a8da7620": {
      "model_module": "@jupyter-widgets/base",
      "model_module_version": "1.2.0",
      "model_name": "LayoutModel",
      "state": {
       "align_items": "stretch",
       "border": "dashed 0.2px green",
       "display": "flex",
       "flex_flow": "row",
       "grid_auto_columns": "True",
       "justify_content": "flex-start",
       "width": "100%"
      }
     },
     "8b0830ad2a7542b486a14fc5a04bd0ac": {
      "model_module": "@jupyter-widgets/base",
      "model_module_version": "1.2.0",
      "model_name": "LayoutModel",
      "state": {}
     },
     "8b1f604aab6843d996839e9574982cb0": {
      "model_module": "@jupyter-widgets/base",
      "model_module_version": "1.2.0",
      "model_name": "LayoutModel",
      "state": {}
     },
     "8b1f8dedacdc4238bd6e9be58a0162bd": {
      "model_module": "@jupyter-widgets/base",
      "model_module_version": "1.2.0",
      "model_name": "LayoutModel",
      "state": {
       "align_items": "stretch",
       "display": "flex",
       "flex_flow": "row",
       "grid_auto_columns": "True",
       "justify_content": "flex-end",
       "width": "90%"
      }
     },
     "8bc43deff33a491e8a6bbc6c98caf006": {
      "model_module": "@jupyter-widgets/controls",
      "model_module_version": "1.5.0",
      "model_name": "HBoxModel",
      "state": {
       "children": [
        "IPY_MODEL_7ce04360c027468a9740bfd9e615cfdc",
        "IPY_MODEL_1ceb7b1e8b6b4827b8a54f22c9788993"
       ],
       "layout": "IPY_MODEL_ce0400d7312140629a7955b86267e2e7"
      }
     },
     "8bccaf8b9331495580e6f59a83f2975a": {
      "model_module": "@jupyter-widgets/controls",
      "model_module_version": "1.5.0",
      "model_name": "HBoxModel",
      "state": {
       "children": [
        "IPY_MODEL_4547f6880a1146489bd63219970f5c18",
        "IPY_MODEL_5a4da2d707f8463085ff136d637aad77"
       ],
       "layout": "IPY_MODEL_e480e7026a344c61bf0da34373db6efe"
      }
     },
     "8bfc0ef025274423a393927cef2e9a10": {
      "model_module": "@jupyter-widgets/base",
      "model_module_version": "1.2.0",
      "model_name": "LayoutModel",
      "state": {}
     },
     "8c1e805ae75546ceac0fb459117ecce8": {
      "model_module": "@jupyter-widgets/controls",
      "model_module_version": "1.5.0",
      "model_name": "HBoxModel",
      "state": {
       "children": [
        "IPY_MODEL_7358552470da46a287427218735ef794"
       ],
       "layout": "IPY_MODEL_ca6b41fe81fd41c4995e173689c7997b"
      }
     },
     "8c3f995510134800afb8ceb0093683f5": {
      "model_module": "@jupyter-widgets/controls",
      "model_module_version": "1.5.0",
      "model_name": "HBoxModel",
      "state": {
       "children": [
        "IPY_MODEL_fde8a7268ac748d99972fc3031af1015"
       ],
       "layout": "IPY_MODEL_dcdb3778fee042049fe0854b456fa70d"
      }
     },
     "8c4c611a7bd84d319dbb6af625ba61c9": {
      "model_module": "@jupyter-widgets/base",
      "model_module_version": "1.2.0",
      "model_name": "LayoutModel",
      "state": {}
     },
     "8c679b61e84f47b4a48bd129584671c5": {
      "model_module": "@jupyter-widgets/base",
      "model_module_version": "1.2.0",
      "model_name": "LayoutModel",
      "state": {
       "align_items": "stretch",
       "display": "flex",
       "flex_flow": "row",
       "grid_auto_columns": "True",
       "justify_content": "flex-end",
       "width": "90%"
      }
     },
     "8cb82ee5b02a434db2629adba1e5b2aa": {
      "model_module": "@jupyter-widgets/base",
      "model_module_version": "1.2.0",
      "model_name": "LayoutModel",
      "state": {}
     },
     "8cba3e81536e46c19677de16f2e81cee": {
      "model_module": "@jupyter-widgets/base",
      "model_module_version": "1.2.0",
      "model_name": "LayoutModel",
      "state": {
       "align_items": "stretch",
       "display": "flex",
       "flex_flow": "row",
       "grid_auto_columns": "True",
       "justify_content": "flex-start",
       "width": "80%"
      }
     },
     "8cefb2eda6d9458890c9e8755be29f6f": {
      "model_module": "@jupyter-widgets/controls",
      "model_module_version": "1.5.0",
      "model_name": "FloatSliderModel",
      "state": {
       "layout": "IPY_MODEL_c7afa6fc1cf84afcbe97e4751ec5f94c",
       "max": 10,
       "style": "IPY_MODEL_bbb20079cc474f6b9e868d0384ef5bce",
       "value": 1
      }
     },
     "8cf02010305f4533affe5ba9cba742a4": {
      "model_module": "@jupyter-widgets/base",
      "model_module_version": "1.2.0",
      "model_name": "LayoutModel",
      "state": {}
     },
     "8cf7424a3c2148068636391df207e3b8": {
      "model_module": "@jupyter-widgets/controls",
      "model_module_version": "1.5.0",
      "model_name": "HBoxModel",
      "state": {
       "children": [
        "IPY_MODEL_54f6a1a88cf54d54b578b7de18638787",
        "IPY_MODEL_451fbcb00d8a4905b9822a1faf7dee59"
       ],
       "layout": "IPY_MODEL_d8478dfea81342c69276c24ebf388de1"
      }
     },
     "8d0352de2ea845f985fa1f1e15b87c7c": {
      "model_module": "@jupyter-widgets/controls",
      "model_module_version": "1.5.0",
      "model_name": "ButtonModel",
      "state": {
       "button_style": "info",
       "description": "preview outputs",
       "layout": "IPY_MODEL_2ce9beee22db4f999e30469c6dac7660",
       "style": "IPY_MODEL_e4c87c362d064440a27fa73473a7a2e4",
       "tooltip": "show a preview of the output files generated when the script runs"
      }
     },
     "8d17702739614ce3abfa311436fc461f": {
      "model_module": "@jupyter-widgets/controls",
      "model_module_version": "1.5.0",
      "model_name": "VBoxModel",
      "state": {
       "children": [
        "IPY_MODEL_8cf7424a3c2148068636391df207e3b8",
        "IPY_MODEL_9583744e48c14be38423a2b44c10f2ad",
        "IPY_MODEL_ba2405f1b3c54c788a0e670dbe1281f6",
        "IPY_MODEL_8c3f995510134800afb8ceb0093683f5",
        "IPY_MODEL_eb047bcb8a844ccdb7cd04c2e41d795f",
        "IPY_MODEL_157e969538bc494cadfff424b3cfd2e1",
        "IPY_MODEL_a6f2364c90d5401fa2a274540a119e79",
        "IPY_MODEL_090cfe843e334a14a90472a0a6c1689d"
       ],
       "layout": "IPY_MODEL_b049e87020a2453d8c2309f00a3afd63"
      }
     },
     "8d531c971ceb429b9ec1ad656bc65bfb": {
      "model_module": "@jupyter-widgets/base",
      "model_module_version": "1.2.0",
      "model_name": "LayoutModel",
      "state": {
       "align_items": "stretch",
       "border": "dashed 0.2px green",
       "display": "flex",
       "flex_flow": "row",
       "grid_auto_columns": "True",
       "justify_content": "flex-start",
       "width": "100%"
      }
     },
     "8d61575259944f7ca81493d0c70324cb": {
      "model_module": "@jupyter-widgets/controls",
      "model_module_version": "1.5.0",
      "model_name": "DescriptionStyleModel",
      "state": {
       "description_width": ""
      }
     },
     "8d6b1e6e54cc459b9d279b4efd3d2a65": {
      "model_module": "@jupyter-widgets/controls",
      "model_module_version": "1.5.0",
      "model_name": "DescriptionStyleModel",
      "state": {
       "description_width": ""
      }
     },
     "8df7c845952640dd90f1d0ecf2f86dae": {
      "model_module": "@jupyter-widgets/base",
      "model_module_version": "1.2.0",
      "model_name": "LayoutModel",
      "state": {
       "align_items": "stretch",
       "display": "flex",
       "flex_flow": "row",
       "grid_auto_columns": "True",
       "justify_content": "flex-end",
       "width": "90%"
      }
     },
     "8e56f769b3a040ec91f67b4ba6bd4c16": {
      "model_module": "@jupyter-widgets/controls",
      "model_module_version": "1.5.0",
      "model_name": "HBoxModel",
      "state": {
       "children": [
        "IPY_MODEL_25db2e4c3ec24d0991500e2ffa7c4289",
        "IPY_MODEL_dca8eed50d9a4df8a0f74f3cd970a40d"
       ],
       "layout": "IPY_MODEL_56fd61353ed042ddbf3f74f470885528"
      }
     },
     "8ebf56d179af4e329f5d3b2527a2c2ac": {
      "model_module": "@jupyter-widgets/controls",
      "model_module_version": "1.5.0",
      "model_name": "HBoxModel",
      "state": {
       "children": [
        "IPY_MODEL_c78976278fe448f89b8a0f2fe0f3efa5"
       ],
       "layout": "IPY_MODEL_b80923171a284f438768581d4200ac66"
      }
     },
     "8f0b863b706f499e92dd826d1e51d0d7": {
      "model_module": "@jupyter-widgets/output",
      "model_module_version": "1.0.0",
      "model_name": "OutputModel",
      "state": {
       "layout": "IPY_MODEL_ac308b150a654f84b45c50b108b3e465"
      }
     },
     "8f17602831bf43c9af42ae3ff4d1f7c6": {
      "model_module": "@jupyter-widgets/base",
      "model_module_version": "1.2.0",
      "model_name": "LayoutModel",
      "state": {}
     },
     "8f5955a82b094d6baa528cf92c8851b7": {
      "model_module": "@jupyter-widgets/base",
      "model_module_version": "1.2.0",
      "model_name": "LayoutModel",
      "state": {}
     },
     "8f66d0ec416544e5b14f36a8ae371019": {
      "model_module": "@jupyter-widgets/base",
      "model_module_version": "1.2.0",
      "model_name": "LayoutModel",
      "state": {}
     },
     "8f6c395edac5433087cd2e46e53ac730": {
      "model_module": "@jupyter-widgets/output",
      "model_module_version": "1.0.0",
      "model_name": "OutputModel",
      "state": {
       "layout": "IPY_MODEL_365dbba7c662435d9bdc0f28a234a9e5"
      }
     },
     "8f6cae568c33407288272abc326acc20": {
      "model_module": "@jupyter-widgets/controls",
      "model_module_version": "1.5.0",
      "model_name": "DescriptionStyleModel",
      "state": {
       "description_width": ""
      }
     },
     "8f851d93de824cdbb72acfcb9d292e2f": {
      "model_module": "@jupyter-widgets/controls",
      "model_module_version": "1.5.0",
      "model_name": "DescriptionStyleModel",
      "state": {
       "description_width": ""
      }
     },
     "8fa3bc764d7643a0972a6a8fb33bd348": {
      "model_module": "@jupyter-widgets/controls",
      "model_module_version": "1.5.0",
      "model_name": "HBoxModel",
      "state": {
       "children": [
        "IPY_MODEL_c3b32edb1da845d083cfc151bd170dfd"
       ],
       "layout": "IPY_MODEL_d4e1df5ac5604c73b1f6a4f0ad31abd1"
      }
     },
     "8feef38fec7f4d13b78faad49ea5af39": {
      "model_module": "@jupyter-widgets/controls",
      "model_module_version": "1.5.0",
      "model_name": "HBoxModel",
      "state": {
       "children": [
        "IPY_MODEL_82360b91f9714e89b93e357c8335f56d",
        "IPY_MODEL_eb1fb02a62244fbda494b5646b12e368"
       ],
       "layout": "IPY_MODEL_6c5279ec3c664ec99a8430cd0e788e94"
      }
     },
     "9020ade39d6c427c88fdf0d4dfef4002": {
      "model_module": "@jupyter-widgets/base",
      "model_module_version": "1.2.0",
      "model_name": "LayoutModel",
      "state": {
       "align_items": "stretch",
       "display": "flex",
       "flex_flow": "row",
       "grid_auto_columns": "True",
       "justify_content": "flex-end",
       "width": "90%"
      }
     },
     "90242202add4461fafa5b46311faf972": {
      "model_module": "@jupyter-widgets/base",
      "model_module_version": "1.2.0",
      "model_name": "LayoutModel",
      "state": {}
     },
     "9028d10c7b7f44bf94c6c18f6464f88e": {
      "model_module": "@jupyter-widgets/controls",
      "model_module_version": "1.5.0",
      "model_name": "VBoxModel",
      "state": {
       "children": [
        "IPY_MODEL_9f03772cc9414515a50e302cb564e2fd",
        "IPY_MODEL_0c9ffeaa23c749189db3e0d6fff171e3"
       ],
       "layout": "IPY_MODEL_9bc55d4aad7a42eabbbbd13d8f8d3a1a"
      }
     },
     "9036fcf6c50843ba902e9233eb268523": {
      "model_module": "ipysheet",
      "model_module_version": "~0.4.4",
      "model_name": "CellRangeModel",
      "state": {
       "_view_module": null,
       "_view_module_version": "",
       "choice": [],
       "column_end": 5,
       "column_start": 5,
       "numeric_format": null,
       "row_end": 3,
       "row_start": 0,
       "squeeze_row": false,
       "type": "text",
       "value": [
        "<class 'str'>",
        "<class 'NoneType'>",
        "<class 'NoneType'>",
        "<class 'NoneType'>"
       ]
      }
     },
     "90441b8772b04596b1d0a27b58af35f9": {
      "model_module": "@jupyter-widgets/controls",
      "model_module_version": "1.5.0",
      "model_name": "DescriptionStyleModel",
      "state": {
       "description_width": ""
      }
     },
     "90750a3998de48e0beee18d8814216d2": {
      "model_module": "@jupyter-widgets/controls",
      "model_module_version": "1.5.0",
      "model_name": "HBoxModel",
      "state": {
       "children": [
        "IPY_MODEL_e976dc2779874695accd0773ac50bf5b"
       ],
       "layout": "IPY_MODEL_e7b40de00b1541509adb067fe44c60e3"
      }
     },
     "90be61fa3b7a4095abbcb205e96493f2": {
      "model_module": "@jupyter-widgets/base",
      "model_module_version": "1.2.0",
      "model_name": "LayoutModel",
      "state": {
       "align_items": "stretch",
       "display": "flex",
       "flex_flow": "row",
       "grid_auto_columns": "True",
       "justify_content": "flex-end",
       "width": "90%"
      }
     },
     "90c635d4157a483385c3c4456ca4226a": {
      "model_module": "@jupyter-widgets/output",
      "model_module_version": "1.0.0",
      "model_name": "OutputModel",
      "state": {
       "layout": "IPY_MODEL_0740dcafdb2a455bbe0df6ae630c021a"
      }
     },
     "90d7bfc3b1ba4f38bbf99c67f9d2b550": {
      "model_module": "@jupyter-widgets/controls",
      "model_module_version": "1.5.0",
      "model_name": "DescriptionStyleModel",
      "state": {
       "description_width": ""
      }
     },
     "913464c5f60d455a8883f4d23667da1e": {
      "model_module": "@jupyter-widgets/controls",
      "model_module_version": "1.5.0",
      "model_name": "HBoxModel",
      "state": {
       "children": [
        "IPY_MODEL_acbc698225984503880aba166e09a104"
       ],
       "layout": "IPY_MODEL_4ce6e99aa2f24a2eacdd512a12baafdd"
      }
     },
     "913777fd523940d58061a7ae41a42524": {
      "model_module": "@jupyter-widgets/base",
      "model_module_version": "1.2.0",
      "model_name": "LayoutModel",
      "state": {
       "align_items": "stretch",
       "display": "flex",
       "flex_flow": "row",
       "grid_auto_columns": "True",
       "justify_content": "flex-start",
       "width": "80%"
      }
     },
     "914759b3bdde459b971ecb5108abcee4": {
      "model_module": "@jupyter-widgets/base",
      "model_module_version": "1.2.0",
      "model_name": "LayoutModel",
      "state": {
       "align_items": "stretch",
       "border": "dashed 0.2px green",
       "display": "flex",
       "flex_flow": "row",
       "grid_auto_columns": "True",
       "justify_content": "flex-start",
       "width": "100%"
      }
     },
     "91d0145271cd4d058aa0bc8325374a22": {
      "model_module": "@jupyter-widgets/controls",
      "model_module_version": "1.5.0",
      "model_name": "DescriptionStyleModel",
      "state": {
       "description_width": ""
      }
     },
     "920fdfd2605342f696bbd3d7851650d5": {
      "model_module": "@jupyter-widgets/base",
      "model_module_version": "1.2.0",
      "model_name": "LayoutModel",
      "state": {
       "align_items": "stretch",
       "display": "flex",
       "flex_flow": "row",
       "grid_auto_columns": "True",
       "justify_content": "flex-start",
       "width": "80%"
      }
     },
     "9231c17b6214482eafbad2dfeb99812d": {
      "model_module": "@jupyter-widgets/base",
      "model_module_version": "1.2.0",
      "model_name": "LayoutModel",
      "state": {}
     },
     "9238f21f4efe426a87276903e178a43b": {
      "model_module": "@jupyter-widgets/base",
      "model_module_version": "1.2.0",
      "model_name": "LayoutModel",
      "state": {}
     },
     "9264b65bfeb24eb598e7e6cecf059b98": {
      "model_module": "@jupyter-widgets/base",
      "model_module_version": "1.2.0",
      "model_name": "LayoutModel",
      "state": {}
     },
     "926c7d680acb4062a25574abe5c97715": {
      "model_module": "@jupyter-widgets/base",
      "model_module_version": "1.2.0",
      "model_name": "LayoutModel",
      "state": {}
     },
     "927a3c49589f405fbf1c7380f7c9575e": {
      "model_module": "@jupyter-widgets/controls",
      "model_module_version": "1.5.0",
      "model_name": "DescriptionStyleModel",
      "state": {
       "description_width": ""
      }
     },
     "92ce2478b83a4be68d761dc1b95e9e8b": {
      "model_module": "@jupyter-widgets/output",
      "model_module_version": "1.0.0",
      "model_name": "OutputModel",
      "state": {
       "layout": "IPY_MODEL_8bfc0ef025274423a393927cef2e9a10"
      }
     },
     "9308363015fd4aa289ad8a95eb9d286f": {
      "model_module": "@jupyter-widgets/base",
      "model_module_version": "1.2.0",
      "model_name": "LayoutModel",
      "state": {}
     },
     "9321bd59bd2e4193954cb9d3e4d0e5e8": {
      "model_module": "@jupyter-widgets/controls",
      "model_module_version": "1.5.0",
      "model_name": "ButtonModel",
      "state": {
       "description": "save",
       "layout": "IPY_MODEL_ef7b14be4ebe4d559c2a09a2845bd582",
       "style": "IPY_MODEL_f20a5da336264412a7fc1c9c21aa69df"
      }
     },
     "932b70b742d94f24be47744802ed14f5": {
      "model_module": "@jupyter-widgets/base",
      "model_module_version": "1.2.0",
      "model_name": "LayoutModel",
      "state": {}
     },
     "9352f8ad3f33434cbc5044bac8ab5672": {
      "model_module": "@jupyter-widgets/base",
      "model_module_version": "1.2.0",
      "model_name": "LayoutModel",
      "state": {}
     },
     "93b8005df42d4ea38d4954ee1d5d559d": {
      "model_module": "@jupyter-widgets/controls",
      "model_module_version": "1.5.0",
      "model_name": "HTMLModel",
      "state": {
       "layout": "IPY_MODEL_65655a0be9f64645be3125012b44be8a",
       "style": "IPY_MODEL_5f1a4711c52449119b597c4ba87ffe0d",
       "value": "<b>29/06/2020_YY-Odf_XX_True</b>"
      }
     },
     "93e4ba2067fc454aa59d9396cfa99505": {
      "model_module": "@jupyter-widgets/base",
      "model_module_version": "1.2.0",
      "model_name": "LayoutModel",
      "state": {}
     },
     "93f94fb08ee64bc2a252d29254c75923": {
      "model_module": "@jupyter-widgets/controls",
      "model_module_version": "1.5.0",
      "model_name": "TextModel",
      "state": {
       "layout": "IPY_MODEL_f241acdf99874bca90014b1cdfb4f093",
       "style": "IPY_MODEL_240e3c61cfe645dca1a2b9b7ca6bbd8a",
       "value": "Level"
      }
     },
     "9459386c6a2646c8851f6096ca877b36": {
      "model_module": "@jupyter-widgets/controls",
      "model_module_version": "1.5.0",
      "model_name": "HBoxModel",
      "state": {
       "children": [
        "IPY_MODEL_93f94fb08ee64bc2a252d29254c75923",
        "IPY_MODEL_05eb3e7891b640dd94eff4212a0f207a"
       ],
       "layout": "IPY_MODEL_7288580582164a3892d8771824d0a758"
      }
     },
     "948bca0fef2d4af3b679d0218e755127": {
      "model_module": "@jupyter-widgets/controls",
      "model_module_version": "1.5.0",
      "model_name": "HBoxModel",
      "state": {
       "children": [
        "IPY_MODEL_c4afbfba50614e7f89acc84ffbb125a7",
        "IPY_MODEL_3c6478099d1e4b6fb08952910e84a099"
       ],
       "layout": "IPY_MODEL_4cca32806e4f411ca31ef4cc9e205bbc"
      }
     },
     "94aa1bb3a1b24875ac34b46ed11cf9f4": {
      "model_module": "@jupyter-widgets/controls",
      "model_module_version": "1.5.0",
      "model_name": "HBoxModel",
      "state": {
       "children": [
        "IPY_MODEL_e929cfa61f85474293cf9753cb1aac0e",
        "IPY_MODEL_3bbbf861f3694b7e930e549ab6397251"
       ],
       "layout": "IPY_MODEL_6497689be7ff41bea98249df2f44a921"
      }
     },
     "94cbd73d467e4f5db3388829b94af7d5": {
      "model_module": "@jupyter-widgets/base",
      "model_module_version": "1.2.0",
      "model_name": "LayoutModel",
      "state": {
       "align_items": "stretch",
       "display": "flex",
       "flex_flow": "row",
       "grid_auto_columns": "True",
       "justify_content": "flex-end",
       "width": "90%"
      }
     },
     "94e21b874f57472dbdc4b2575de20488": {
      "model_module": "@jupyter-widgets/controls",
      "model_module_version": "1.5.0",
      "model_name": "DescriptionStyleModel",
      "state": {
       "description_width": ""
      }
     },
     "94f80509fcd749d6aecd41a10fb5b6e2": {
      "model_module": "@jupyter-widgets/controls",
      "model_module_version": "1.5.0",
      "model_name": "ButtonModel",
      "state": {
       "description": "load",
       "icon": "upload",
       "layout": "IPY_MODEL_197409ded8a0444890a6220756db5e3b",
       "style": "IPY_MODEL_6dc0eab46ba14438ae66d2a99d743363"
      }
     },
     "950a929224ff4c86be179af69a8614f9": {
      "model_module": "@jupyter-widgets/base",
      "model_module_version": "1.2.0",
      "model_name": "LayoutModel",
      "state": {
       "align_items": "stretch",
       "border": "dashed 0.2px green",
       "display": "flex",
       "flex_flow": "row",
       "grid_auto_columns": "True",
       "justify_content": "flex-start",
       "width": "100%"
      }
     },
     "952ecd426fa4402f9748cdd0f4780da5": {
      "model_module": "@jupyter-widgets/controls",
      "model_module_version": "1.5.0",
      "model_name": "VBoxModel",
      "state": {
       "children": [
        "IPY_MODEL_858bba71f3a342d58eb73635421e32b0"
       ],
       "layout": "IPY_MODEL_416fddd629754fd48569a00ef733ffd3"
      }
     },
     "955a89b82b094b21b8b46d841fd122a6": {
      "model_module": "@jupyter-widgets/base",
      "model_module_version": "1.2.0",
      "model_name": "LayoutModel",
      "state": {}
     },
     "955c177f054d423cbefb884717bab015": {
      "model_module": "@jupyter-widgets/base",
      "model_module_version": "1.2.0",
      "model_name": "LayoutModel",
      "state": {}
     },
     "9583744e48c14be38423a2b44c10f2ad": {
      "model_module": "@jupyter-widgets/controls",
      "model_module_version": "1.5.0",
      "model_name": "HBoxModel",
      "state": {
       "children": [
        "IPY_MODEL_476394c8d2964af491585b79bf618c53"
       ],
       "layout": "IPY_MODEL_896c1f5f756a468aa2e8aa22cbdade3a"
      }
     },
     "958c05cd2d8543078788ab02ae2a199d": {
      "model_module": "@jupyter-widgets/controls",
      "model_module_version": "1.5.0",
      "model_name": "HTMLModel",
      "state": {
       "layout": "IPY_MODEL_fcce2611a8a942c8810d21dd2a9dd069",
       "style": "IPY_MODEL_79312c31d62e4df7bbb06997dd635a4e",
       "value": "<p>fpth_in</p>"
      }
     },
     "95aa24ac06134b9bafa44fa784139464": {
      "model_module": "@jupyter-widgets/controls",
      "model_module_version": "1.5.0",
      "model_name": "HBoxModel",
      "state": {
       "children": [
        "IPY_MODEL_56dec8ca9420482d8940259c8a9b0088"
       ],
       "layout": "IPY_MODEL_b4a3cde5ac364434a5d569c09ed6b102"
      }
     },
     "95b0c46ddcd247beb80a57b333e0a32e": {
      "model_module": "@jupyter-widgets/controls",
      "model_module_version": "1.5.0",
      "model_name": "DescriptionStyleModel",
      "state": {
       "description_width": ""
      }
     },
     "95fabe25568a4c18b6ae388f6f52ad18": {
      "model_module": "@jupyter-widgets/controls",
      "model_module_version": "1.5.0",
      "model_name": "HBoxModel",
      "state": {
       "children": [
        "IPY_MODEL_03b0a76151a8443081381bfc17b73154",
        "IPY_MODEL_a4f84b8387aa4635b7b0187cec7236f3"
       ],
       "layout": "IPY_MODEL_de1c0a88caed4065ae09797c6725a9c2"
      }
     },
     "9647fb54617c42918dc20019b7ef6352": {
      "model_module": "@jupyter-widgets/controls",
      "model_module_version": "1.5.0",
      "model_name": "HTMLModel",
      "state": {
       "layout": "IPY_MODEL_673163b7d3d9436d9a8c3759cb43ba0a",
       "style": "IPY_MODEL_8d6b1e6e54cc459b9d279b4efd3d2a65",
       "value": "<p>Report Model Run?</p>"
      }
     },
     "9652446d389b452a894cdc4bd6eed248": {
      "model_module": "@jupyter-widgets/base",
      "model_module_version": "1.2.0",
      "model_name": "LayoutModel",
      "state": {
       "align_items": "stretch",
       "display": "flex",
       "flex_flow": "row",
       "grid_auto_columns": "True",
       "justify_content": "flex-start",
       "width": "80%"
      }
     },
     "966ab9fe7da4460b9bcad97fcf1c771e": {
      "model_module": "@jupyter-widgets/controls",
      "model_module_version": "1.5.0",
      "model_name": "DescriptionStyleModel",
      "state": {
       "description_width": ""
      }
     },
     "96943b469a7e41338086549e93119240": {
      "model_module": "@jupyter-widgets/controls",
      "model_module_version": "1.5.0",
      "model_name": "HBoxModel",
      "state": {
       "children": [
        "IPY_MODEL_a9ef7b4716714a8995948d89b623eef6",
        "IPY_MODEL_71f19a9eb6a84cb9af976a317e04bf77"
       ],
       "layout": "IPY_MODEL_b8ffab78b8e642aeaef3e35330ce73b0"
      }
     },
     "96d01e475c8b406487608eb8bf10e962": {
      "model_module": "@jupyter-widgets/base",
      "model_module_version": "1.2.0",
      "model_name": "LayoutModel",
      "state": {}
     },
     "9742ccc215ac492db041b219e4d1c4f9": {
      "model_module": "@jupyter-widgets/controls",
      "model_module_version": "1.5.0",
      "model_name": "DescriptionStyleModel",
      "state": {
       "description_width": ""
      }
     },
     "9756f95c3f7445ed927efcf3b89b4641": {
      "model_module": "@jupyter-widgets/controls",
      "model_module_version": "1.5.0",
      "model_name": "DescriptionStyleModel",
      "state": {
       "description_width": ""
      }
     },
     "97a0169d1d8e41d48b3669030ef60a5b": {
      "model_module": "@jupyter-widgets/controls",
      "model_module_version": "1.5.0",
      "model_name": "FloatTextModel",
      "state": {
       "layout": "IPY_MODEL_f913850dc31247cba8a9460fdfda8f90",
       "step": null,
       "style": "IPY_MODEL_0788aaec8eae4618bcf84c06d05e73a4",
       "value": 9
      }
     },
     "97c10ac02366429da38b6015c1f0bf8b": {
      "model_module": "@jupyter-widgets/base",
      "model_module_version": "1.2.0",
      "model_name": "LayoutModel",
      "state": {
       "align_items": "stretch",
       "display": "flex",
       "flex_flow": "row",
       "grid_auto_columns": "True",
       "justify_content": "flex-start",
       "width": "80%"
      }
     },
     "97c2846ef38549d7b6445ea1d8eb1941": {
      "model_module": "@jupyter-widgets/base",
      "model_module_version": "1.2.0",
      "model_name": "LayoutModel",
      "state": {}
     },
     "97c4596dd99b443194564aa2d7d8f42a": {
      "model_module": "@jupyter-widgets/base",
      "model_module_version": "1.2.0",
      "model_name": "LayoutModel",
      "state": {}
     },
     "9826b893a2fb4e6e89d50ab372b8dfb6": {
      "model_module": "@jupyter-widgets/controls",
      "model_module_version": "1.5.0",
      "model_name": "HBoxModel",
      "state": {
       "children": [
        "IPY_MODEL_fea0f11a37b4467582c07e3b535356dc",
        "IPY_MODEL_8e56f769b3a040ec91f67b4ba6bd4c16"
       ],
       "layout": "IPY_MODEL_d7d9c6eaa4f3419f9d8618d9b7476eb9"
      }
     },
     "986ba55996ad4a57923da1244aee1dfa": {
      "model_module": "@jupyter-widgets/base",
      "model_module_version": "1.2.0",
      "model_name": "LayoutModel",
      "state": {}
     },
     "98ede495c1124d11b4a5abf4820f0fd5": {
      "model_module": "@jupyter-widgets/controls",
      "model_module_version": "1.5.0",
      "model_name": "VBoxModel",
      "state": {
       "children": [
        "IPY_MODEL_5d1d8a1ff0a4433e8b7886a9e9698c46",
        "IPY_MODEL_195d05c52c5940d2a08d36a53fbc3934",
        "IPY_MODEL_82d7dfc0606b4f0392f96f307e19d308",
        "IPY_MODEL_46a1a5cf0ea64d3fb5669b07224bf248",
        "IPY_MODEL_fffba519625b4fb99afb0d07444d094f",
        "IPY_MODEL_38fa2be86ca94f298a16ffff8842ec59",
        "IPY_MODEL_d8b181e276cb4ddaa8df07a3ec3a0041",
        "IPY_MODEL_ca604a191e794f108b1be0ac1dfa1142"
       ],
       "layout": "IPY_MODEL_742c12c7945047a99e6cdbe8fdcdc6fa"
      }
     },
     "9900b4428b6d442291c96c17264271bb": {
      "model_module": "@jupyter-widgets/controls",
      "model_module_version": "1.5.0",
      "model_name": "CheckboxModel",
      "state": {
       "disabled": false,
       "layout": "IPY_MODEL_ffffa62ccc4f48dda856eda93262f678",
       "style": "IPY_MODEL_d809305903c747aab8fe660b53385370",
       "value": false
      }
     },
     "9956b7eab04a4aba89fbb9c44f097166": {
      "model_module": "@jupyter-widgets/base",
      "model_module_version": "1.2.0",
      "model_name": "LayoutModel",
      "state": {
       "align_items": "stretch",
       "display": "flex",
       "flex_flow": "row",
       "grid_auto_columns": "True",
       "justify_content": "flex-end",
       "width": "90%"
      }
     },
     "99a61e96672e4d17b0f6287c6059decb": {
      "model_module": "@jupyter-widgets/base",
      "model_module_version": "1.2.0",
      "model_name": "LayoutModel",
      "state": {
       "align_items": "stretch",
       "display": "flex",
       "flex_flow": "row",
       "grid_auto_columns": "True",
       "justify_content": "flex-end",
       "width": "90%"
      }
     },
     "99ab9cd5550640bab7fae1c0a2419ee1": {
      "model_module": "@jupyter-widgets/controls",
      "model_module_version": "1.5.0",
      "model_name": "HTMLModel",
      "state": {
       "layout": "IPY_MODEL_8785f61fb0ad4f6d804df442942787a7",
       "style": "IPY_MODEL_c790a14e825941f3b64e506d95929efb",
       "value": "<p>its a foo cake</p>"
      }
     },
     "99b033b8742e42388f960700f2c02d62": {
      "model_module": "@jupyter-widgets/controls",
      "model_module_version": "1.5.0",
      "model_name": "ButtonModel",
      "state": {
       "button_style": "success",
       "description": "save changes",
       "layout": "IPY_MODEL_6ec9fbd0163540bdb4f40f3a4cb2002d",
       "style": "IPY_MODEL_e3bd2fb038e040baaa67a95cd8d2ae03"
      }
     },
     "99c4eb204dc246a289f7eee53494a473": {
      "model_module": "@jupyter-widgets/output",
      "model_module_version": "1.0.0",
      "model_name": "OutputModel",
      "state": {
       "layout": "IPY_MODEL_8cb82ee5b02a434db2629adba1e5b2aa"
      }
     },
     "99f9e4ec2ba740669930916fc10bfa99": {
      "model_module": "@jupyter-widgets/controls",
      "model_module_version": "1.5.0",
      "model_name": "HBoxModel",
      "state": {
       "children": [
        "IPY_MODEL_00bd8e553dcc4e57965a0517113d54a5",
        "IPY_MODEL_5f42b251e2f94c06a9716c5a3daf2a79",
        "IPY_MODEL_4d53a01cb85e4c84a0a40b05f5588328"
       ],
       "layout": "IPY_MODEL_c4dfa20023444df681e15deb9d726b00"
      }
     },
     "9a001578ba9642e48426fb6512c5c19b": {
      "model_module": "@jupyter-widgets/output",
      "model_module_version": "1.0.0",
      "model_name": "OutputModel",
      "state": {
       "layout": "IPY_MODEL_56643397798e407183f7da87c93e41c5"
      }
     },
     "9a2e72d40f4948a68b561556f883d544": {
      "model_module": "@jupyter-widgets/controls",
      "model_module_version": "1.5.0",
      "model_name": "VBoxModel",
      "state": {
       "children": [
        "IPY_MODEL_99f9e4ec2ba740669930916fc10bfa99",
        "IPY_MODEL_124e74167fb345c2b32a197f1e4713b1",
        "IPY_MODEL_1433fc62effd4fd187e31436acd0f77c"
       ],
       "layout": "IPY_MODEL_bfe439890e2c41a482d773785d353c52"
      }
     },
     "9a4a1e3005824830b9e2f827969a6674": {
      "model_module": "@jupyter-widgets/controls",
      "model_module_version": "1.5.0",
      "model_name": "HTMLModel",
      "state": {
       "layout": "IPY_MODEL_03a16e4577f64dbd80b1afd5544e9e94",
       "style": "IPY_MODEL_59d4a7cc793747fea1aa7c8dd0c6345b",
       "value": "<p>Test</p>"
      }
     },
     "9a8580f78d7a4e888d6316ad531d5465": {
      "model_module": "@jupyter-widgets/base",
      "model_module_version": "1.2.0",
      "model_name": "LayoutModel",
      "state": {
       "display": "flex",
       "flex_flow": "row",
       "grid_auto_columns": "False",
       "justify_content": "flex-start",
       "width": "100%"
      }
     },
     "9a880cbe88cb42b788174e636a97a925": {
      "model_module": "@jupyter-widgets/controls",
      "model_module_version": "1.5.0",
      "model_name": "VBoxModel",
      "state": {
       "children": [
        "IPY_MODEL_1ad2241472114a9ca1ec00e44dad83a8",
        "IPY_MODEL_ced34f2a42924bdd8d7fcc4b32bc3da3",
        "IPY_MODEL_610fc01c70584f1eab10db5a8c810c03"
       ],
       "layout": "IPY_MODEL_bc1903bb82e44e3aab40477d9004a9c2"
      }
     },
     "9acc759c2c854911a5190b58b8e39c89": {
      "model_module": "@jupyter-widgets/controls",
      "model_module_version": "1.5.0",
      "model_name": "DescriptionStyleModel",
      "state": {
       "description_width": ""
      }
     },
     "9af0eb2eeee940868d79c92fcc420b1c": {
      "model_module": "@jupyter-widgets/base",
      "model_module_version": "1.2.0",
      "model_name": "LayoutModel",
      "state": {}
     },
     "9b01e26c2ccc4449b373dc1ca1d3141e": {
      "model_module": "@jupyter-widgets/controls",
      "model_module_version": "1.5.0",
      "model_name": "ButtonStyleModel",
      "state": {
       "font_weight": "bold"
      }
     },
     "9b027951811e47ba8a6781a7e4a3a887": {
      "model_module": "@jupyter-widgets/controls",
      "model_module_version": "1.5.0",
      "model_name": "DescriptionStyleModel",
      "state": {
       "description_width": ""
      }
     },
     "9b05547ed01d4a8ab434217bde816b13": {
      "model_module": "@jupyter-widgets/controls",
      "model_module_version": "1.5.0",
      "model_name": "HBoxModel",
      "state": {
       "children": [
        "IPY_MODEL_7c3044edbc4f4098be650f336fbc69b4"
       ],
       "layout": "IPY_MODEL_2046e42217d647c5b78bcceb3f9d3311"
      }
     },
     "9b391742b07c483795d174909a3950ac": {
      "model_module": "@jupyter-widgets/controls",
      "model_module_version": "1.5.0",
      "model_name": "DescriptionStyleModel",
      "state": {
       "description_width": ""
      }
     },
     "9b841d706139446f93c2c76355e8e622": {
      "model_module": "@jupyter-widgets/controls",
      "model_module_version": "1.5.0",
      "model_name": "DescriptionStyleModel",
      "state": {
       "description_width": ""
      }
     },
     "9ba91c2e633b4bbea0d76036d9af0575": {
      "model_module": "@jupyter-widgets/output",
      "model_module_version": "1.0.0",
      "model_name": "OutputModel",
      "state": {
       "layout": "IPY_MODEL_449f20d944a2426ea66c23c917fcd14b"
      }
     },
     "9bc55d4aad7a42eabbbbd13d8f8d3a1a": {
      "model_module": "@jupyter-widgets/base",
      "model_module_version": "1.2.0",
      "model_name": "LayoutModel",
      "state": {}
     },
     "9bd91b88c17d495f9d2895037fe017fd": {
      "model_module": "@jupyter-widgets/output",
      "model_module_version": "1.0.0",
      "model_name": "OutputModel",
      "state": {
       "layout": "IPY_MODEL_2fd8f3c2049341fca26c933c9ececb69"
      }
     },
     "9beee11f8d0d4de8825f233b7cb8c831": {
      "model_module": "@jupyter-widgets/controls",
      "model_module_version": "1.5.0",
      "model_name": "DescriptionStyleModel",
      "state": {
       "description_width": ""
      }
     },
     "9c100bf16a884514916bd89cff8548eb": {
      "model_module": "@jupyter-widgets/controls",
      "model_module_version": "1.5.0",
      "model_name": "HBoxModel",
      "state": {
       "children": [
        "IPY_MODEL_fe1860c70f6e487d83dee3f1db10193f"
       ],
       "layout": "IPY_MODEL_897dcc8ab79646d0af24ad6bc7a690bc"
      }
     },
     "9c1520180eab48db9196b73654a7d2ac": {
      "model_module": "@jupyter-widgets/controls",
      "model_module_version": "1.5.0",
      "model_name": "HBoxModel",
      "state": {
       "children": [
        "IPY_MODEL_4d5b72657b5a48a9b559297e4f314ff7",
        "IPY_MODEL_892a7ba1bb80431bb60791de58bd4fbf"
       ],
       "layout": "IPY_MODEL_1de42b6599c54481839a16b52dd5b9bd"
      }
     },
     "9c4e486172d94a2b9c7dfb627b4c6e95": {
      "model_module": "@jupyter-widgets/output",
      "model_module_version": "1.0.0",
      "model_name": "OutputModel",
      "state": {
       "layout": "IPY_MODEL_c71e2d5c8758492b951b16e72b03391a"
      }
     },
     "9c83e413b9c744309c0252e723ecd789": {
      "model_module": "@jupyter-widgets/base",
      "model_module_version": "1.2.0",
      "model_name": "LayoutModel",
      "state": {
       "align_items": "stretch",
       "display": "flex",
       "flex_flow": "row",
       "grid_auto_columns": "True",
       "justify_content": "flex-end",
       "width": "90%"
      }
     },
     "9c93904b98c54b12b83e967bbee87cdb": {
      "model_module": "@jupyter-widgets/base",
      "model_module_version": "1.2.0",
      "model_name": "LayoutModel",
      "state": {}
     },
     "9cc6da205d4d48dcb66930510a7ec872": {
      "model_module": "@jupyter-widgets/base",
      "model_module_version": "1.2.0",
      "model_name": "LayoutModel",
      "state": {}
     },
     "9cc944824a69441aac532818393484cf": {
      "model_module": "@jupyter-widgets/controls",
      "model_module_version": "1.5.0",
      "model_name": "HTMLModel",
      "state": {
       "layout": "IPY_MODEL_4951cd10b82a48bf9950bb026d6154c1",
       "style": "IPY_MODEL_9756f95c3f7445ed927efcf3b89b4641",
       "value": "<p>4th section of space name code (enter None if 4th section doesn't exist)</p>"
      }
     },
     "9cd3c3e598b64a6f9df3dfead324e67c": {
      "model_module": "@jupyter-widgets/base",
      "model_module_version": "1.2.0",
      "model_name": "LayoutModel",
      "state": {
       "align_items": "stretch",
       "display": "flex",
       "flex_flow": "row",
       "grid_auto_columns": "True",
       "justify_content": "flex-start",
       "width": "80%"
      }
     },
     "9d0d867d84f8451ea46c97cdca22e2d6": {
      "model_module": "@jupyter-widgets/controls",
      "model_module_version": "1.5.0",
      "model_name": "DescriptionStyleModel",
      "state": {
       "description_width": ""
      }
     },
     "9d11e8174c8042bb992c2a2f30101078": {
      "model_module": "@jupyter-widgets/base",
      "model_module_version": "1.2.0",
      "model_name": "LayoutModel",
      "state": {
       "align_items": "stretch",
       "border": "dashed 0.2px green",
       "display": "flex",
       "flex_flow": "row",
       "grid_auto_columns": "True",
       "justify_content": "flex-start",
       "width": "100%"
      }
     },
     "9d2231a8433d478598c9f476f28aed1f": {
      "model_module": "@jupyter-widgets/controls",
      "model_module_version": "1.5.0",
      "model_name": "TextareaModel",
      "state": {
       "layout": "IPY_MODEL_b8b485eb769847e0a0793eb408b8ac75",
       "style": "IPY_MODEL_c86784e1ec0a477f8b253bdab71f5deb",
       "value": "dfasdfasd"
      }
     },
     "9d27c88dd49746bbbcd8773b6e6d82d4": {
      "model_module": "@jupyter-widgets/base",
      "model_module_version": "1.2.0",
      "model_name": "LayoutModel",
      "state": {}
     },
     "9d3c8a9d7d4f4f149e7721fa2b0b4538": {
      "model_module": "@jupyter-widgets/base",
      "model_module_version": "1.2.0",
      "model_name": "LayoutModel",
      "state": {
       "align_items": "stretch",
       "display": "flex",
       "flex_flow": "row",
       "grid_auto_columns": "True",
       "justify_content": "flex-start",
       "width": "80%"
      }
     },
     "9d61df7dadc04f7685b6b558f3d8c70f": {
      "model_module": "@jupyter-widgets/base",
      "model_module_version": "1.2.0",
      "model_name": "LayoutModel",
      "state": {}
     },
     "9d7aebd32390425a8066091538b5a7d7": {
      "model_module": "@jupyter-widgets/controls",
      "model_module_version": "1.5.0",
      "model_name": "HBoxModel",
      "state": {
       "children": [
        "IPY_MODEL_cc69d23f80ad47278bf904d50cd74bf5"
       ],
       "layout": "IPY_MODEL_dcbd03749d504d32a4de3ac14b140e56"
      }
     },
     "9d81481f39f943a4aee96dbb64f4f36d": {
      "model_module": "@jupyter-widgets/controls",
      "model_module_version": "1.5.0",
      "model_name": "HBoxModel",
      "state": {
       "children": [
        "IPY_MODEL_1624752e75934c7d8d1e51d8e6efdf55",
        "IPY_MODEL_f43d766bcf7e4766ac9916bee5000831"
       ],
       "layout": "IPY_MODEL_52d6e399e3fa449c948c3514f528672e"
      }
     },
     "9dc02a3e0dd14f6d9770dce221b74857": {
      "model_module": "@jupyter-widgets/controls",
      "model_module_version": "1.5.0",
      "model_name": "ButtonModel",
      "state": {
       "button_style": "success",
       "description": "save changes",
       "layout": "IPY_MODEL_781cdc54f3794bba90498bfd7e7101a9",
       "style": "IPY_MODEL_89fd65fd201949bf8ad771931bf3f957"
      }
     },
     "9dd8e9884431474cb28077ae53252e42": {
      "model_module": "@jupyter-widgets/base",
      "model_module_version": "1.2.0",
      "model_name": "LayoutModel",
      "state": {}
     },
     "9deae2d30f234c5a95569c93f704ae71": {
      "model_module": "@jupyter-widgets/base",
      "model_module_version": "1.2.0",
      "model_name": "LayoutModel",
      "state": {}
     },
     "9e2f7229f00a42a19febd98e287cbacf": {
      "model_module": "@jupyter-widgets/controls",
      "model_module_version": "1.5.0",
      "model_name": "FloatTextModel",
      "state": {
       "layout": "IPY_MODEL_baf043a76f604f879ad1e0c1a6b02569",
       "step": null,
       "style": "IPY_MODEL_2148adce63914f8ca7a3bc5581fc84ef",
       "value": 9
      }
     },
     "9e510cc00d70408dac433971a48631f5": {
      "model_module": "@jupyter-widgets/base",
      "model_module_version": "1.2.0",
      "model_name": "LayoutModel",
      "state": {
       "align_items": "stretch",
       "display": "flex",
       "flex_flow": "row",
       "grid_auto_columns": "True",
       "justify_content": "flex-end",
       "width": "90%"
      }
     },
     "9ebfaba46ca74b2fae73501128daca32": {
      "model_module": "@jupyter-widgets/controls",
      "model_module_version": "1.5.0",
      "model_name": "CheckboxModel",
      "state": {
       "disabled": false,
       "indent": false,
       "layout": "IPY_MODEL_1e833c5171cc48a092623fdd4e147e34",
       "style": "IPY_MODEL_d53a7180feaa4364b518d82f63d580aa",
       "value": false
      }
     },
     "9ed75cfe139d4a01a2f6ca60286fd877": {
      "model_module": "@jupyter-widgets/controls",
      "model_module_version": "1.5.0",
      "model_name": "DescriptionStyleModel",
      "state": {
       "description_width": ""
      }
     },
     "9ef6217c18164e96af21731a71dd52fc": {
      "model_module": "@jupyter-widgets/base",
      "model_module_version": "1.2.0",
      "model_name": "LayoutModel",
      "state": {
       "align_items": "stretch",
       "display": "flex",
       "flex_flow": "row",
       "grid_auto_columns": "True",
       "justify_content": "flex-start",
       "width": "80%"
      }
     },
     "9f03772cc9414515a50e302cb564e2fd": {
      "model_module": "@jupyter-widgets/controls",
      "model_module_version": "1.5.0",
      "model_name": "BoxModel",
      "state": {
       "children": [
        "IPY_MODEL_31c5420a651c4c3ea52540f8c7a12954"
       ],
       "layout": "IPY_MODEL_211947fc4fdc426087cb872f0cef74cf"
      }
     },
     "9f0b97f32743428fab81a4e4e3449047": {
      "model_module": "@jupyter-widgets/base",
      "model_module_version": "1.2.0",
      "model_name": "LayoutModel",
      "state": {}
     },
     "9f4c7ae66f954ce48785cd75589a21ed": {
      "model_module": "@jupyter-widgets/controls",
      "model_module_version": "1.5.0",
      "model_name": "HTMLModel",
      "state": {
       "layout": "IPY_MODEL_16a1150d456941379cf77c703434648c",
       "style": "IPY_MODEL_57d28c0073644dc79620d7fd29963bd1",
       "value": "<p>its a foo cake</p>"
      }
     },
     "9f5c7414df104df9a15fd26ad4c404f5": {
      "model_module": "@jupyter-widgets/controls",
      "model_module_version": "1.5.0",
      "model_name": "HTMLModel",
      "state": {
       "layout": "IPY_MODEL_c0f25d0d60524c7699842b6ff69cf512",
       "style": "IPY_MODEL_00a9cd5c3fdb4664b0796b9cc3ae6a10",
       "value": "<p>fus foo ous o</p>"
      }
     },
     "9f6648b2bb7a49b1bd78d5379f62d747": {
      "model_module": "@jupyter-widgets/base",
      "model_module_version": "1.2.0",
      "model_name": "LayoutModel",
      "state": {}
     },
     "9f7d4a89ad1c41fbaa405c59309c7d8f": {
      "model_module": "@jupyter-widgets/controls",
      "model_module_version": "1.5.0",
      "model_name": "HBoxModel",
      "state": {
       "children": [
        "IPY_MODEL_d2caa0604acd417eb0bf11760c7a39ba"
       ],
       "layout": "IPY_MODEL_0b36575e8a08445aa9c05a221a153b97"
      }
     },
     "9f83cd1674ec4ef78e058cd19ff28844": {
      "model_module": "@jupyter-widgets/controls",
      "model_module_version": "1.5.0",
      "model_name": "DescriptionStyleModel",
      "state": {
       "description_width": ""
      }
     },
     "9f84450e9a564bcb96155ad155f15536": {
      "model_module": "@jupyter-widgets/base",
      "model_module_version": "1.2.0",
      "model_name": "LayoutModel",
      "state": {}
     },
     "9f9d046f1c264d49a0be6d675b4ffded": {
      "model_module": "@jupyter-widgets/base",
      "model_module_version": "1.2.0",
      "model_name": "LayoutModel",
      "state": {
       "align_items": "stretch",
       "display": "flex",
       "flex_flow": "row",
       "grid_auto_columns": "True",
       "justify_content": "flex-end",
       "width": "90%"
      }
     },
     "9fb8dd9a0b4f4c79a3ec64c1d89a6b9b": {
      "model_module": "@jupyter-widgets/base",
      "model_module_version": "1.2.0",
      "model_name": "LayoutModel",
      "state": {}
     },
     "9fbbbc04342b412cad4c91b7da319f6d": {
      "model_module": "@jupyter-widgets/base",
      "model_module_version": "1.2.0",
      "model_name": "LayoutModel",
      "state": {}
     },
     "9fbdf49002f5487a8bcc078897a0ed24": {
      "model_module": "@jupyter-widgets/controls",
      "model_module_version": "1.5.0",
      "model_name": "HTMLModel",
      "state": {
       "layout": "IPY_MODEL_75d42e87d7fa4754b0c74b2f3943112b",
       "style": "IPY_MODEL_f4dc417268bf4d9bad4561b472998d54",
       "value": "<p>input gbxml filepath</p>"
      }
     },
     "9fc2504d9a6c4401a401feffddbb0982": {
      "model_module": "@jupyter-widgets/controls",
      "model_module_version": "1.5.0",
      "model_name": "HBoxModel",
      "state": {
       "children": [
        "IPY_MODEL_8a733a3264584f0da87879dcfe7d6983",
        "IPY_MODEL_2cc513a9a61e49119bacd5c77dec4def"
       ],
       "layout": "IPY_MODEL_fa3b98b30c484b64a5150528921608ce"
      }
     },
     "9fea6dd06db347419ccdbffaa60a9c30": {
      "model_module": "@jupyter-widgets/output",
      "model_module_version": "1.0.0",
      "model_name": "OutputModel",
      "state": {
       "layout": "IPY_MODEL_532ce177947441d1b4296bdf4672cea5"
      }
     },
     "a0171967f9e243089711147a9a453d0f": {
      "model_module": "@jupyter-widgets/controls",
      "model_module_version": "1.5.0",
      "model_name": "DescriptionStyleModel",
      "state": {
       "description_width": ""
      }
     },
     "a060679cbb91474d8fc2df1a29396a5c": {
      "model_module": "@jupyter-widgets/controls",
      "model_module_version": "1.5.0",
      "model_name": "HTMLModel",
      "state": {
       "layout": "IPY_MODEL_d74c9ccb9744429eb61ba87503c5a9ee",
       "style": "IPY_MODEL_aae0f795947a4d30a2c3a8a3d51c3b47",
       "value": "<p>fus foo ous o</p>"
      }
     },
     "a073300d424942aa93fbfac0a00d5679": {
      "model_module": "@jupyter-widgets/controls",
      "model_module_version": "1.5.0",
      "model_name": "DescriptionStyleModel",
      "state": {
       "description_width": ""
      }
     },
     "a0846bf144414dc7ac6d9a07d9d04e48": {
      "model_module": "@jupyter-widgets/base",
      "model_module_version": "1.2.0",
      "model_name": "LayoutModel",
      "state": {
       "align_items": "stretch",
       "border": "dashed 0.2px green",
       "display": "flex",
       "flex_flow": "row",
       "grid_auto_columns": "True",
       "justify_content": "flex-start",
       "width": "100%"
      }
     },
     "a096c06f83d9403e87b7bbda1aa98d4b": {
      "model_module": "@jupyter-widgets/base",
      "model_module_version": "1.2.0",
      "model_name": "LayoutModel",
      "state": {}
     },
     "a0987e89d17c461d8c311753a3414c42": {
      "model_module": "@jupyter-widgets/controls",
      "model_module_version": "1.5.0",
      "model_name": "HBoxModel",
      "state": {
       "children": [
        "IPY_MODEL_1bb46504be0041b4b86f28ebb912385b"
       ],
       "layout": "IPY_MODEL_7124da2a57f0403b84a2453ef83920be"
      }
     },
     "a0ae082802c94aa5b7e48e23c8135bdd": {
      "model_module": "@jupyter-widgets/controls",
      "model_module_version": "1.5.0",
      "model_name": "FloatTextModel",
      "state": {
       "layout": "IPY_MODEL_25e4288977fa4be18f489f33f8d4be3c",
       "step": null,
       "style": "IPY_MODEL_07315559ebce43aaaacabfa81fd1adb8",
       "value": 9
      }
     },
     "a0d67545346246878c07c9c39b3610a4": {
      "model_module": "@jupyter-widgets/controls",
      "model_module_version": "1.5.0",
      "model_name": "HBoxModel",
      "state": {
       "children": [
        "IPY_MODEL_4878619b4bee429f992a9d43a1ac32d2",
        "IPY_MODEL_e663fbafec1649acb14ad167af8a7e8b"
       ],
       "layout": "IPY_MODEL_39b35bf344a649e9a44c4bf33fd24a87"
      }
     },
     "a0ed8c3ea4ca4e20abe5b0d56fc63744": {
      "model_module": "@jupyter-widgets/controls",
      "model_module_version": "1.5.0",
      "model_name": "DescriptionStyleModel",
      "state": {
       "description_width": ""
      }
     },
     "a0f265a6e4fd4fac96f7e656827233d9": {
      "model_module": "@jupyter-widgets/base",
      "model_module_version": "1.2.0",
      "model_name": "LayoutModel",
      "state": {}
     },
     "a114cbf2927341fe9e59f8535fb31a8f": {
      "model_module": "@jupyter-widgets/base",
      "model_module_version": "1.2.0",
      "model_name": "LayoutModel",
      "state": {}
     },
     "a159e61d7ee7431b9277a57c4e7c879b": {
      "model_module": "@jupyter-widgets/controls",
      "model_module_version": "1.5.0",
      "model_name": "DescriptionStyleModel",
      "state": {
       "description_width": ""
      }
     },
     "a1735dbfcc5744bdaf1267716a580847": {
      "model_module": "@jupyter-widgets/controls",
      "model_module_version": "1.5.0",
      "model_name": "HBoxModel",
      "state": {
       "children": [
        "IPY_MODEL_866ac1300942479d99331d504b51472b",
        "IPY_MODEL_9d81481f39f943a4aee96dbb64f4f36d"
       ],
       "layout": "IPY_MODEL_05bd9f5c33b24201a7b19a2c2c31aa86"
      }
     },
     "a1979678c89f44e7b8362676e496fbb5": {
      "model_module": "@jupyter-widgets/controls",
      "model_module_version": "1.5.0",
      "model_name": "DescriptionStyleModel",
      "state": {
       "description_width": ""
      }
     },
     "a1b205cfecd340c0a5a167986a279f12": {
      "model_module": "@jupyter-widgets/controls",
      "model_module_version": "1.5.0",
      "model_name": "HBoxModel",
      "state": {
       "children": [
        "IPY_MODEL_b73b1dd2bad542f4a4f08dd60f1a43aa",
        "IPY_MODEL_f6a132a7e36146a7a0af1d918d8ac12a"
       ],
       "layout": "IPY_MODEL_ed717b83ad6f4d2a84bf615188ea71bc"
      }
     },
     "a1f534c5f468418daa71a1854be44856": {
      "model_module": "@jupyter-widgets/controls",
      "model_module_version": "1.5.0",
      "model_name": "HBoxModel",
      "state": {
       "children": [
        "IPY_MODEL_8079f9d0b150418987e1f6caba332ad2",
        "IPY_MODEL_2ea4af790350462cb7e2017e6603bc29"
       ],
       "layout": "IPY_MODEL_914759b3bdde459b971ecb5108abcee4"
      }
     },
     "a20b70992d314f42bd7a1201fdab0922": {
      "model_module": "@jupyter-widgets/controls",
      "model_module_version": "1.5.0",
      "model_name": "DescriptionStyleModel",
      "state": {
       "description_width": ""
      }
     },
     "a21dd743eb9643008e32287da4311b30": {
      "model_module": "@jupyter-widgets/controls",
      "model_module_version": "1.5.0",
      "model_name": "DescriptionStyleModel",
      "state": {
       "description_width": ""
      }
     },
     "a240d5261b174df9bf85d6b658c5aae3": {
      "model_module": "@jupyter-widgets/base",
      "model_module_version": "1.2.0",
      "model_name": "LayoutModel",
      "state": {
       "align_items": "stretch",
       "display": "flex",
       "flex_flow": "row",
       "grid_auto_columns": "True",
       "justify_content": "flex-end",
       "width": "90%"
      }
     },
     "a247a861459c4e019c8a927c05173466": {
      "model_module": "@jupyter-widgets/base",
      "model_module_version": "1.2.0",
      "model_name": "LayoutModel",
      "state": {}
     },
     "a28976d0f612404482e2f6a4bfd3a121": {
      "model_module": "@jupyter-widgets/controls",
      "model_module_version": "1.5.0",
      "model_name": "HBoxModel",
      "state": {
       "children": [
        "IPY_MODEL_59661ded73fe4dc6bb24984c2a10aae7",
        "IPY_MODEL_eeff34dff3254728bb056a0fd8128283"
       ],
       "layout": "IPY_MODEL_25f642bc1f574021ba25b86890087029"
      }
     },
     "a2d84812ee9f4840b5cf57bcb8ddf2e5": {
      "model_module": "@jupyter-widgets/base",
      "model_module_version": "1.2.0",
      "model_name": "LayoutModel",
      "state": {
       "align_items": "stretch",
       "display": "flex",
       "flex_flow": "row",
       "grid_auto_columns": "True",
       "justify_content": "flex-end",
       "width": "90%"
      }
     },
     "a2fe957561cb4fc8af3d18881853ffa2": {
      "model_module": "@jupyter-widgets/base",
      "model_module_version": "1.2.0",
      "model_name": "LayoutModel",
      "state": {
       "align_items": "stretch",
       "border": "dashed 0.2px green",
       "display": "flex",
       "flex_flow": "row",
       "grid_auto_columns": "True",
       "justify_content": "flex-start",
       "width": "100%"
      }
     },
     "a3bf88f8bc1d4778b7d986bdf9160ddf": {
      "model_module": "@jupyter-widgets/base",
      "model_module_version": "1.2.0",
      "model_name": "LayoutModel",
      "state": {
       "align_items": "stretch",
       "border": "dashed 0.2px green",
       "display": "flex",
       "flex_flow": "row",
       "grid_auto_columns": "True",
       "justify_content": "flex-start",
       "width": "100%"
      }
     },
     "a3c2c73a51af4a6fab16db2bb30841bf": {
      "model_module": "@jupyter-widgets/controls",
      "model_module_version": "1.5.0",
      "model_name": "HBoxModel",
      "state": {
       "children": [
        "IPY_MODEL_574e4999e4e842f2bad1277ec62a7540"
       ],
       "layout": "IPY_MODEL_c28c93aa6ac24803983e4c946702755c"
      }
     },
     "a3f7453e5fae4e06b848b41b7c241093": {
      "model_module": "@jupyter-widgets/base",
      "model_module_version": "1.2.0",
      "model_name": "LayoutModel",
      "state": {}
     },
     "a442061f7ec74f6990f9cc7de625d5d8": {
      "model_module": "@jupyter-widgets/controls",
      "model_module_version": "1.5.0",
      "model_name": "HBoxModel",
      "state": {
       "children": [
        "IPY_MODEL_459d58497b05461183f5014e4973777e"
       ],
       "layout": "IPY_MODEL_215dd13a9d11499da7591314c2568f11"
      }
     },
     "a448341e003a439e9707aaaa00782299": {
      "model_module": "@jupyter-widgets/base",
      "model_module_version": "1.2.0",
      "model_name": "LayoutModel",
      "state": {
       "align_items": "stretch",
       "border": "dashed 0.2px green",
       "display": "flex",
       "flex_flow": "row",
       "grid_auto_columns": "True",
       "justify_content": "flex-start",
       "width": "100%"
      }
     },
     "a4b83ea44d8e4c57ba6f90a67cfe3058": {
      "model_module": "@jupyter-widgets/output",
      "model_module_version": "1.0.0",
      "model_name": "OutputModel",
      "state": {
       "layout": "IPY_MODEL_233370a3f0a044699074c5bb0aa54a6d",
       "outputs": [
        {
         "data": {
          "application/vnd.jupyter.widget-view+json": {
           "model_id": "9a001578ba9642e48426fb6512c5c19b",
           "version_major": 2,
           "version_minor": 0
          },
          "text/plain": "Output()"
         },
         "metadata": {},
         "output_type": "display_data"
        },
        {
         "data": {
          "application/vnd.jupyter.widget-view+json": {
           "model_id": "7666dcea43a048fba8d35729eabb6541",
           "version_major": 2,
           "version_minor": 0
          },
          "text/plain": "Output()"
         },
         "metadata": {},
         "output_type": "display_data"
        }
       ]
      }
     },
     "a4f274b6779841c4ad7091a47d06f2dd": {
      "model_module": "@jupyter-widgets/controls",
      "model_module_version": "1.5.0",
      "model_name": "HBoxModel",
      "state": {
       "children": [
        "IPY_MODEL_2b8cab0b17c941408bd6e0248999890d",
        "IPY_MODEL_9c1520180eab48db9196b73654a7d2ac"
       ],
       "layout": "IPY_MODEL_5fccb86abfbb4fa6879d2c84e3b38d9a"
      }
     },
     "a4f45690705f4c779a7671de5c6eed51": {
      "model_module": "@jupyter-widgets/output",
      "model_module_version": "1.0.0",
      "model_name": "OutputModel",
      "state": {
       "layout": "IPY_MODEL_8b0830ad2a7542b486a14fc5a04bd0ac"
      }
     },
     "a4f84b8387aa4635b7b0187cec7236f3": {
      "model_module": "@jupyter-widgets/controls",
      "model_module_version": "1.5.0",
      "model_name": "HTMLModel",
      "state": {
       "layout": "IPY_MODEL_212b3595bc16440a93d9296d67438d07",
       "style": "IPY_MODEL_d4d446dabe824a719c6119cdf4980f62",
       "value": "<p>label</p>"
      }
     },
     "a501a782faf44cf8930b74687423dee2": {
      "model_module": "@jupyter-widgets/controls",
      "model_module_version": "1.5.0",
      "model_name": "TextModel",
      "state": {
       "layout": "IPY_MODEL_dc2e0043fae645b2bb1d4aaf154a5b44",
       "style": "IPY_MODEL_9beee11f8d0d4de8825f233b7cb8c831",
       "value": "2"
      }
     },
     "a51d6f3c02c04d5ca91207fd3e0559f0": {
      "model_module": "@jupyter-widgets/controls",
      "model_module_version": "1.5.0",
      "model_name": "HBoxModel",
      "state": {
       "children": [
        "IPY_MODEL_b1e355ea25d74d1b88b9651f91bbb54f",
        "IPY_MODEL_e828b3622c6d4d1a8525206ef0787998"
       ],
       "layout": "IPY_MODEL_102bb4e962294cd3982cb10e84d91883"
      }
     },
     "a51f3a8f746548d39d23781aa62d1aad": {
      "model_module": "@jupyter-widgets/base",
      "model_module_version": "1.2.0",
      "model_name": "LayoutModel",
      "state": {}
     },
     "a53665868b1e4010bf4482f97f89c49c": {
      "model_module": "@jupyter-widgets/controls",
      "model_module_version": "1.5.0",
      "model_name": "HTMLModel",
      "state": {
       "layout": "IPY_MODEL_479bc44ccab74d8c92c3dcd74fa5069e",
       "style": "IPY_MODEL_a8d11b97afa24b13ae9e5cf87733ca59",
       "value": "<p>its a delicious foo cake</p>"
      }
     },
     "a5eb4f965272408e832d134c9c33a07e": {
      "model_module": "@jupyter-widgets/base",
      "model_module_version": "1.2.0",
      "model_name": "LayoutModel",
      "state": {
       "height": "30px",
       "width": "auto"
      }
     },
     "a61bcbfd127d47caa86f9c215b74eb86": {
      "model_module": "@jupyter-widgets/base",
      "model_module_version": "1.2.0",
      "model_name": "LayoutModel",
      "state": {}
     },
     "a6574949453340539a0ec61e6b5cb224": {
      "model_module": "@jupyter-widgets/controls",
      "model_module_version": "1.5.0",
      "model_name": "HTMLModel",
      "state": {
       "layout": "IPY_MODEL_433f08b1908447ffbc62a743ced6bcd4",
       "style": "IPY_MODEL_4ee23652812249f59a50445b5596873e",
       "value": "<p>reus foo ous oo ous foo st</p>"
      }
     },
     "a6be512ea367475ca409839ad0719818": {
      "model_module": "@jupyter-widgets/base",
      "model_module_version": "1.2.0",
      "model_name": "LayoutModel",
      "state": {}
     },
     "a6bf1dfb0242461aae670b1e1a27fd98": {
      "model_module": "ipysheet",
      "model_module_version": "~0.4.4",
      "model_name": "CellRangeModel",
      "state": {
       "_view_module": null,
       "_view_module_version": "",
       "choice": [],
       "column_end": 3,
       "column_start": 3,
       "numeric_format": null,
       "row_end": 3,
       "row_start": 0,
       "squeeze_row": false,
       "type": "text",
       "value": [
        "<class 'list'>",
        "<class 'list'>",
        "<class 'NoneType'>",
        "<class 'NoneType'>"
       ]
      }
     },
     "a6d1c61f96004b2d8cfd37ea58f20db7": {
      "model_module": "@jupyter-widgets/controls",
      "model_module_version": "1.5.0",
      "model_name": "HTMLModel",
      "state": {
       "layout": "IPY_MODEL_0adfdf035bc84c248d6e86a7c9a412b7",
       "style": "IPY_MODEL_844829ed8cc447a5b3085b0c75a650e6",
       "value": "<p>foo</p>"
      }
     },
     "a6e4f112a25c417c8cb3b16bb64067a1": {
      "model_module": "@jupyter-widgets/controls",
      "model_module_version": "1.5.0",
      "model_name": "ToggleButtonModel",
      "state": {
       "icon": "arrow-down",
       "layout": "IPY_MODEL_357de7f971334dc7a758b6b462759039",
       "style": "IPY_MODEL_319e978390c54ebab147da3050448aef"
      }
     },
     "a6f2364c90d5401fa2a274540a119e79": {
      "model_module": "@jupyter-widgets/controls",
      "model_module_version": "1.5.0",
      "model_name": "HBoxModel",
      "state": {
       "children": [
        "IPY_MODEL_e933cee91d0f4cc6b86cbc785bdce949"
       ],
       "layout": "IPY_MODEL_634aab075b6048748dfb964384ce7c6d"
      }
     },
     "a6f41ef33c13494c90e11ec384501785": {
      "model_module": "@jupyter-widgets/base",
      "model_module_version": "1.2.0",
      "model_name": "LayoutModel",
      "state": {
       "align_items": "stretch",
       "border": "dashed 0.2px green",
       "display": "flex",
       "flex_flow": "row",
       "grid_auto_columns": "True",
       "justify_content": "flex-start",
       "width": "100%"
      }
     },
     "a70ffccaba2b44f884095f3811b3dde2": {
      "model_module": "@jupyter-widgets/controls",
      "model_module_version": "1.5.0",
      "model_name": "HTMLModel",
      "state": {
       "layout": "IPY_MODEL_fb07c91d5f644098bf538fde9e9b0268",
       "style": "IPY_MODEL_4dcbd9929d934feaabb4def3202e3958",
       "value": "<p>foo</p>"
      }
     },
     "a75ab4afc0614ce78ee2333434a306ef": {
      "model_module": "@jupyter-widgets/base",
      "model_module_version": "1.2.0",
      "model_name": "LayoutModel",
      "state": {}
     },
     "a75df56bbbaf4539b8dae948a37794d4": {
      "model_module": "@jupyter-widgets/controls",
      "model_module_version": "1.5.0",
      "model_name": "HBoxModel",
      "state": {
       "children": [
        "IPY_MODEL_b066e8324b9b43088370d77aa83ad5fa",
        "IPY_MODEL_39964524c5864a1ea991d3109c1ed018"
       ],
       "layout": "IPY_MODEL_aea139d26cd74ee89f551cc29d19312d"
      }
     },
     "a7ff1d55ca1e4c2785c3b271f91213cb": {
      "model_module": "@jupyter-widgets/base",
      "model_module_version": "1.2.0",
      "model_name": "LayoutModel",
      "state": {
       "align_items": "stretch",
       "border": "dashed 0.2px green",
       "display": "flex",
       "flex_flow": "row",
       "grid_auto_columns": "True",
       "justify_content": "flex-start",
       "width": "100%"
      }
     },
     "a822a0cb7b7946628e20dd4bf222c8a0": {
      "model_module": "@jupyter-widgets/controls",
      "model_module_version": "1.5.0",
      "model_name": "HTMLModel",
      "state": {
       "layout": "IPY_MODEL_787741ee01e84e9d9e3e1045784a882b",
       "style": "IPY_MODEL_35aed6ec9e7e4b559a5877dc052626f9",
       "value": "<p>its a foo cake</p>"
      }
     },
     "a84b215664794e7d889d86a8155737f2": {
      "model_module": "@jupyter-widgets/base",
      "model_module_version": "1.2.0",
      "model_name": "LayoutModel",
      "state": {}
     },
     "a8c892d8156046209890c090f5a410ca": {
      "model_module": "@jupyter-widgets/base",
      "model_module_version": "1.2.0",
      "model_name": "LayoutModel",
      "state": {}
     },
     "a8c89c92766a47ed84afe901bb41e614": {
      "model_module": "@jupyter-widgets/base",
      "model_module_version": "1.2.0",
      "model_name": "LayoutModel",
      "state": {}
     },
     "a8d11b97afa24b13ae9e5cf87733ca59": {
      "model_module": "@jupyter-widgets/controls",
      "model_module_version": "1.5.0",
      "model_name": "DescriptionStyleModel",
      "state": {
       "description_width": ""
      }
     },
     "a8d3688b370d428eb630526c4e8d5bcc": {
      "model_module": "@jupyter-widgets/base",
      "model_module_version": "1.2.0",
      "model_name": "LayoutModel",
      "state": {
       "align_items": "stretch",
       "border": "dashed 0.2px green",
       "display": "flex",
       "flex_flow": "row",
       "grid_auto_columns": "True",
       "justify_content": "flex-start",
       "width": "100%"
      }
     },
     "a8e669869c684c378d07a7d02389b2fb": {
      "model_module": "@jupyter-widgets/controls",
      "model_module_version": "1.5.0",
      "model_name": "DescriptionStyleModel",
      "state": {
       "description_width": ""
      }
     },
     "a8e9f80d158d4cc4a03f9c91527f896b": {
      "model_module": "@jupyter-widgets/controls",
      "model_module_version": "1.5.0",
      "model_name": "ToggleButtonModel",
      "state": {
       "description": "help",
       "icon": "fa-question-circle",
       "layout": "IPY_MODEL_0e9d64d496914da291a9281c32e4b2ab",
       "style": "IPY_MODEL_f9d65c1e3dda4f47baabfc85146ae941",
       "tooltip": "gives guidance"
      }
     },
     "a8fb7f86f84946dda8ac4b8d60fdba6a": {
      "model_module": "@jupyter-widgets/base",
      "model_module_version": "1.2.0",
      "model_name": "LayoutModel",
      "state": {
       "align_items": "stretch",
       "width": "100%"
      }
     },
     "a923d28efa2c4597a021a6e3d72d0a52": {
      "model_module": "@jupyter-widgets/controls",
      "model_module_version": "1.5.0",
      "model_name": "ButtonModel",
      "state": {
       "description": "load",
       "icon": "upload",
       "layout": "IPY_MODEL_567e6912ebcb4131ab720e9a563d6980",
       "style": "IPY_MODEL_4ab128fbafd643bea5bc3ffc60e02503"
      }
     },
     "a96a5f0481c04d4f815eb86f0fb7c9de": {
      "model_module": "@jupyter-widgets/controls",
      "model_module_version": "1.5.0",
      "model_name": "DescriptionStyleModel",
      "state": {
       "description_width": ""
      }
     },
     "a976413c668640f9ab78d598435055ed": {
      "model_module": "@jupyter-widgets/output",
      "model_module_version": "1.0.0",
      "model_name": "OutputModel",
      "state": {
       "layout": "IPY_MODEL_9f6648b2bb7a49b1bd78d5379f62d747"
      }
     },
     "a9cc0faabc284623b70442a52fa35a88": {
      "model_module": "@jupyter-widgets/base",
      "model_module_version": "1.2.0",
      "model_name": "LayoutModel",
      "state": {}
     },
     "a9ef7b4716714a8995948d89b623eef6": {
      "model_module": "@jupyter-widgets/controls",
      "model_module_version": "1.5.0",
      "model_name": "TextareaModel",
      "state": {
       "layout": "IPY_MODEL_6420cc31d85f49ef95dd98ce08d64447",
       "style": "IPY_MODEL_c14257e9e86a4b0d91887f62661bf7c6",
       "value": "asdfasdf"
      }
     },
     "a9f7438f6464443d94aebf2e39916fb5": {
      "model_module": "@jupyter-widgets/controls",
      "model_module_version": "1.5.0",
      "model_name": "DescriptionStyleModel",
      "state": {
       "description_width": ""
      }
     },
     "aa2980b3bb58494d9adeddea9f50df0a": {
      "model_module": "@jupyter-widgets/base",
      "model_module_version": "1.2.0",
      "model_name": "LayoutModel",
      "state": {
       "align_items": "stretch",
       "border": "dashed 0.2px green",
       "display": "flex",
       "flex_flow": "row",
       "grid_auto_columns": "True",
       "justify_content": "flex-start",
       "width": "100%"
      }
     },
     "aa58bfe6ab6d4689af7ed6c6dabbcc0d": {
      "model_module": "@jupyter-widgets/controls",
      "model_module_version": "1.5.0",
      "model_name": "DescriptionStyleModel",
      "state": {
       "description_width": ""
      }
     },
     "aae0f795947a4d30a2c3a8a3d51c3b47": {
      "model_module": "@jupyter-widgets/controls",
      "model_module_version": "1.5.0",
      "model_name": "DescriptionStyleModel",
      "state": {
       "description_width": ""
      }
     },
     "aaf949d0731549e48bee53813c0f8b91": {
      "model_module": "@jupyter-widgets/base",
      "model_module_version": "1.2.0",
      "model_name": "LayoutModel",
      "state": {
       "align_items": "stretch",
       "display": "flex",
       "flex_flow": "row",
       "grid_auto_columns": "True",
       "justify_content": "flex-end",
       "width": "90%"
      }
     },
     "ab1a6e562dce4881820a0d617d90999b": {
      "model_module": "@jupyter-widgets/base",
      "model_module_version": "1.2.0",
      "model_name": "LayoutModel",
      "state": {}
     },
     "abbb4283c77e4743b242234f3ec9d48a": {
      "model_module": "@jupyter-widgets/controls",
      "model_module_version": "1.5.0",
      "model_name": "HTMLModel",
      "state": {
       "layout": "IPY_MODEL_2530ba0c38de4715a2fdf370c70ae2e2",
       "style": "IPY_MODEL_927a3c49589f405fbf1c7380f7c9575e",
       "value": "<p>input gbxml filepath</p>"
      }
     },
     "abf00fe13a45455babfddffec3eaf1f3": {
      "model_module": "@jupyter-widgets/controls",
      "model_module_version": "1.5.0",
      "model_name": "VBoxModel",
      "state": {
       "children": [
        "IPY_MODEL_28dd4695c3bb4c3891f090c8a6d2ea54",
        "IPY_MODEL_0686866ba80a42299488c3920a3d431e"
       ],
       "layout": "IPY_MODEL_3b0413f78a3c4b74ba5c41a3586e3093"
      }
     },
     "ac06007f7f824d52be50b299fdb1f809": {
      "model_module": "@jupyter-widgets/output",
      "model_module_version": "1.0.0",
      "model_name": "OutputModel",
      "state": {
       "layout": "IPY_MODEL_ce715658e30b43049be75a9d2835d0fe"
      }
     },
     "ac27a04e854a4dfca0e2fc049c5dfef1": {
      "model_module": "@jupyter-widgets/base",
      "model_module_version": "1.2.0",
      "model_name": "LayoutModel",
      "state": {
       "align_items": "stretch",
       "display": "flex",
       "flex_flow": "row",
       "grid_auto_columns": "True",
       "justify_content": "flex-end",
       "width": "90%"
      }
     },
     "ac2f1b67056a4fa88136de82076ce6a3": {
      "model_module": "@jupyter-widgets/controls",
      "model_module_version": "1.5.0",
      "model_name": "HTMLModel",
      "state": {
       "layout": "IPY_MODEL_4808ec1a0b664f099f6e285310b36d2b",
       "style": "IPY_MODEL_cf0ca3cd5f4c433d888c1f6c4eed8a55",
       "value": "<p>name</p>"
      }
     },
     "ac308b150a654f84b45c50b108b3e465": {
      "model_module": "@jupyter-widgets/base",
      "model_module_version": "1.2.0",
      "model_name": "LayoutModel",
      "state": {}
     },
     "aca816141de4466aaeadd53e66dc539e": {
      "model_module": "@jupyter-widgets/output",
      "model_module_version": "1.0.0",
      "model_name": "OutputModel",
      "state": {
       "layout": "IPY_MODEL_060d691e57a641f0a67a7667e9373481"
      }
     },
     "acbc698225984503880aba166e09a104": {
      "model_module": "@jupyter-widgets/controls",
      "model_module_version": "1.5.0",
      "model_name": "HBoxModel",
      "state": {
       "children": [
        "IPY_MODEL_c43219b98e374c1b8c26fa0600239978",
        "IPY_MODEL_76bfbc7bb8124772bbaf119b28503523"
       ],
       "layout": "IPY_MODEL_12450d865109404485d0c1a20db2fdaa"
      }
     },
     "acec1604a9ee4b80a27b45a45eff1957": {
      "model_module": "@jupyter-widgets/controls",
      "model_module_version": "1.5.0",
      "model_name": "ButtonModel",
      "state": {
       "button_style": "warning",
       "description": "revert to last save",
       "layout": "IPY_MODEL_6e19820b01fe4db49f72d0957752bb7d",
       "style": "IPY_MODEL_56a7fd58e1d64f9dbf5aee201f901016"
      }
     },
     "acef70b1b6774c05832610f554c9bc41": {
      "model_module": "@jupyter-widgets/controls",
      "model_module_version": "1.5.0",
      "model_name": "DescriptionStyleModel",
      "state": {
       "description_width": ""
      }
     },
     "acf009c320cb4a18981c28bd85e58920": {
      "model_module": "@jupyter-widgets/controls",
      "model_module_version": "1.5.0",
      "model_name": "HBoxModel",
      "state": {
       "children": [
        "IPY_MODEL_7b78ec24e86f407891b239f3f391d0c7",
        "IPY_MODEL_f2f468847d6748ffa0f7903c5e247c24"
       ],
       "layout": "IPY_MODEL_b28d19ef15bc4d03afd11c3ff0616259"
      }
     },
     "ad3a5d02a74a4d34943b6bc2d328587a": {
      "model_module": "@jupyter-widgets/controls",
      "model_module_version": "1.5.0",
      "model_name": "HTMLModel",
      "state": {
       "layout": "IPY_MODEL_739819412ffc43309a432638353aae4a",
       "style": "IPY_MODEL_a159e61d7ee7431b9277a57c4e7c879b",
       "value": "<p>reus foo ous oo ous foo st</p>"
      }
     },
     "ad4b2f1b93d642f5b88ee65c70c0e94c": {
      "model_module": "@jupyter-widgets/controls",
      "model_module_version": "1.5.0",
      "model_name": "HBoxModel",
      "state": {
       "children": [
        "IPY_MODEL_30c01d7cb8e6467098c03354cceaf50f",
        "IPY_MODEL_55b5045c2dff4dfc8328db4836667906"
       ],
       "layout": "IPY_MODEL_11e0226e344d45a6a191db211c3d7aa6"
      }
     },
     "ad557bc2e23c4fa6a444a930fa6007f0": {
      "model_module": "@jupyter-widgets/base",
      "model_module_version": "1.2.0",
      "model_name": "LayoutModel",
      "state": {}
     },
     "ad6e98a9d8704211a5e9d1b60af6daf2": {
      "model_module": "@jupyter-widgets/controls",
      "model_module_version": "1.5.0",
      "model_name": "DescriptionStyleModel",
      "state": {
       "description_width": ""
      }
     },
     "ad71c71ce1e34462837070d7fbf9e202": {
      "model_module": "@jupyter-widgets/controls",
      "model_module_version": "1.5.0",
      "model_name": "HTMLModel",
      "state": {
       "layout": "IPY_MODEL_19e513ca3eb342ed8b9068a8f4e22137",
       "style": "IPY_MODEL_255ad32d272741d6a770893e30ae5e0d",
       "value": "<p>Tag for the Model, used within file naming</p>"
      }
     },
     "ad91d690ca5e4a908445377f7c3c1455": {
      "model_module": "@jupyter-widgets/base",
      "model_module_version": "1.2.0",
      "model_name": "LayoutModel",
      "state": {
       "align_items": "stretch",
       "border": "dashed 0.2px green",
       "display": "flex",
       "flex_flow": "row",
       "grid_auto_columns": "True",
       "justify_content": "flex-start",
       "width": "100%"
      }
     },
     "ad9801dee85d46ee972c0411c4aacfca": {
      "model_module": "@jupyter-widgets/controls",
      "model_module_version": "1.5.0",
      "model_name": "HTMLModel",
      "state": {
       "layout": "IPY_MODEL_753e6303bb56440da5faf97ce6fe1838",
       "style": "IPY_MODEL_84e140fe0ba84ff284b9823b16246807",
       "value": "<p>input gbxml filepath</p>"
      }
     },
     "ae74a8ab95c84cdc9ad8ff3635682e9e": {
      "model_module": "@jupyter-widgets/controls",
      "model_module_version": "1.5.0",
      "model_name": "DatePickerModel",
      "state": {
       "disabled": false,
       "layout": "IPY_MODEL_84d2c827d88c42c3981b665536c9eeb1",
       "style": "IPY_MODEL_f1c12cc7552e49888e915b17f48c3194",
       "value": {
        "date": 29,
        "month": 5,
        "year": 2020
       }
      }
     },
     "aea139d26cd74ee89f551cc29d19312d": {
      "model_module": "@jupyter-widgets/base",
      "model_module_version": "1.2.0",
      "model_name": "LayoutModel",
      "state": {
       "align_items": "stretch",
       "display": "flex",
       "flex_flow": "row",
       "grid_auto_columns": "True",
       "justify_content": "flex-start",
       "width": "80%"
      }
     },
     "aea2aacb198e4cebb0ddf085dc0be3a4": {
      "model_module": "@jupyter-widgets/base",
      "model_module_version": "1.2.0",
      "model_name": "LayoutModel",
      "state": {
       "align_items": "stretch",
       "display": "flex",
       "flex_flow": "row",
       "grid_auto_columns": "True",
       "justify_content": "flex-start",
       "width": "80%"
      }
     },
     "aeda3abd422d43ecbe510880eb894f77": {
      "model_module": "@jupyter-widgets/base",
      "model_module_version": "1.2.0",
      "model_name": "LayoutModel",
      "state": {}
     },
     "aee0820baf1f4e13be54656848098d35": {
      "model_module": "@jupyter-widgets/controls",
      "model_module_version": "1.5.0",
      "model_name": "FloatTextModel",
      "state": {
       "layout": "IPY_MODEL_5a97f8e2d7004d2fb471b81a4faf944c",
       "step": null,
       "style": "IPY_MODEL_55e71e0e3a394eed8e564da127ff800c",
       "value": 19
      }
     },
     "aeeeb6c4639b4670b1aab6dd1d37ce49": {
      "model_module": "@jupyter-widgets/base",
      "model_module_version": "1.2.0",
      "model_name": "LayoutModel",
      "state": {}
     },
     "b023f787cfc74fb6b5d56bdfb3e88fc5": {
      "model_module": "@jupyter-widgets/controls",
      "model_module_version": "1.5.0",
      "model_name": "HBoxModel",
      "state": {
       "children": [
        "IPY_MODEL_31f68c2fdf9a418998d3147065462df3"
       ],
       "layout": "IPY_MODEL_cd3c27a1289e40758f8798c38fb62ca1"
      }
     },
     "b02b0e2074614f0ba314fb6690153b48": {
      "model_module": "@jupyter-widgets/controls",
      "model_module_version": "1.5.0",
      "model_name": "HBoxModel",
      "state": {
       "children": [
        "IPY_MODEL_40e79f94b939430fbc6b27689c48f014"
       ],
       "layout": "IPY_MODEL_7ad4595d0ef54ee5aba5a3d9545ab270"
      }
     },
     "b034f53662f44f079ebb9b84e6ce8b2c": {
      "model_module": "@jupyter-widgets/controls",
      "model_module_version": "1.5.0",
      "model_name": "FloatTextModel",
      "state": {
       "layout": "IPY_MODEL_3a19180472024c5cac228a790dbaf95d",
       "step": null,
       "style": "IPY_MODEL_da5eae8783ae4394a2d31fd8a039b4c8",
       "value": 9
      }
     },
     "b049e87020a2453d8c2309f00a3afd63": {
      "model_module": "@jupyter-widgets/base",
      "model_module_version": "1.2.0",
      "model_name": "LayoutModel",
      "state": {}
     },
     "b064d32da166402cbec4107f1fa9fd91": {
      "model_module": "@jupyter-widgets/base",
      "model_module_version": "1.2.0",
      "model_name": "LayoutModel",
      "state": {}
     },
     "b066e8324b9b43088370d77aa83ad5fa": {
      "model_module": "@jupyter-widgets/controls",
      "model_module_version": "1.5.0",
      "model_name": "TextareaModel",
      "state": {
       "layout": "IPY_MODEL_dcab3ca80ecc423ea20d2e48fb83c028",
       "style": "IPY_MODEL_cd7b7234db974565a8607dd735c3292a",
       "value": "asdfasdf"
      }
     },
     "b0889a0ec75645449d13e47a98e28226": {
      "model_module": "@jupyter-widgets/base",
      "model_module_version": "1.2.0",
      "model_name": "LayoutModel",
      "state": {}
     },
     "b0b732e4517a4a04ac8200e1e2b2508c": {
      "model_module": "@jupyter-widgets/base",
      "model_module_version": "1.2.0",
      "model_name": "LayoutModel",
      "state": {}
     },
     "b0b9757f71e7400a9300f40d431d3a59": {
      "model_module": "@jupyter-widgets/controls",
      "model_module_version": "1.5.0",
      "model_name": "HBoxModel",
      "state": {
       "children": [
        "IPY_MODEL_58816bce8db747cc8e823e78b4b35c52",
        "IPY_MODEL_5b61b8c51582423c9fc2c935096b9292"
       ],
       "layout": "IPY_MODEL_4a93cb8a52874fdd89b1a98c516b5dbe"
      }
     },
     "b106f173920047beb047bea41d16b419": {
      "model_module": "@jupyter-widgets/controls",
      "model_module_version": "1.5.0",
      "model_name": "HTMLModel",
      "state": {
       "layout": "IPY_MODEL_523071142a31440f81df7fadd17963fc",
       "style": "IPY_MODEL_6d1e4b8b446e4020aa7dcb61978ab2be",
       "value": "<p>0</p>"
      }
     },
     "b1254a39108c4924ab0ebf131bbe75d2": {
      "model_module": "@jupyter-widgets/controls",
      "model_module_version": "1.5.0",
      "model_name": "HTMLModel",
      "state": {
       "layout": "IPY_MODEL_31632450513b4f15940a8c2a2f2f7320",
       "style": "IPY_MODEL_bc5fd5a65ecf4f0cb83288c6b722b558",
       "value": "<p>label</p>"
      }
     },
     "b16f009d87ca4532a40eafd204c1c26a": {
      "model_module": "@jupyter-widgets/output",
      "model_module_version": "1.0.0",
      "model_name": "OutputModel",
      "state": {
       "layout": "IPY_MODEL_165966ab13934ddb9053e03cd78ea7ae"
      }
     },
     "b17f30359b2c454ebb5f0ede8e75a43f": {
      "model_module": "@jupyter-widgets/controls",
      "model_module_version": "1.5.0",
      "model_name": "TextModel",
      "state": {
       "layout": "IPY_MODEL_bd9801d5426a47edb9c983f3ee1a58f9",
       "style": "IPY_MODEL_eafbe13e096241b5b8af14f99e10a7ab",
       "value": "SpaceId"
      }
     },
     "b191a601cd374a8388ef3ca3c1d989b6": {
      "model_module": "@jupyter-widgets/base",
      "model_module_version": "1.2.0",
      "model_name": "LayoutModel",
      "state": {}
     },
     "b1b745b432894a0988818560acece299": {
      "model_module": "@jupyter-widgets/base",
      "model_module_version": "1.2.0",
      "model_name": "LayoutModel",
      "state": {}
     },
     "b1cfd8b2e0114c36b5aa1202cd0bef7a": {
      "model_module": "@jupyter-widgets/base",
      "model_module_version": "1.2.0",
      "model_name": "LayoutModel",
      "state": {
       "align_items": "stretch",
       "display": "flex",
       "flex_flow": "row",
       "grid_auto_columns": "True",
       "justify_content": "flex-start",
       "width": "80%"
      }
     },
     "b1e355ea25d74d1b88b9651f91bbb54f": {
      "model_module": "@jupyter-widgets/controls",
      "model_module_version": "1.5.0",
      "model_name": "HTMLModel",
      "state": {
       "layout": "IPY_MODEL_42302d83e9644d2eb4c96348c44ecce8",
       "style": "IPY_MODEL_82a1e99a9e6746658d1e6e91f8764831",
       "value": "<p>File Prefix</p>"
      }
     },
     "b1e88abadfef4447a572339feb50197e": {
      "model_module": "@jupyter-widgets/controls",
      "model_module_version": "1.5.0",
      "model_name": "ButtonModel",
      "state": {
       "button_style": "success",
       "description": "save changes",
       "layout": "IPY_MODEL_ec879ea32f884696bea2c551d96bc03d",
       "style": "IPY_MODEL_492de8b672d9414f9a741bbe2f71c8b2"
      }
     },
     "b23d526094cb4e84b1058db73c0e364d": {
      "model_module": "@jupyter-widgets/controls",
      "model_module_version": "1.5.0",
      "model_name": "ButtonModel",
      "state": {
       "button_style": "warning",
       "description": "revert to last save",
       "layout": "IPY_MODEL_2fbd649003af4e95b2c3a41fc8308f12",
       "style": "IPY_MODEL_cf5b754bfc0b42c7a5dedaa4c1b0f2b0"
      }
     },
     "b23fd03162944ced8eb90ff050850ffe": {
      "model_module": "@jupyter-widgets/controls",
      "model_module_version": "1.5.0",
      "model_name": "HBoxModel",
      "state": {
       "children": [
        "IPY_MODEL_8307141379a84b14b45329b6c1713ddb"
       ],
       "layout": "IPY_MODEL_0cd3c1f671f44894a4df9f322bc7899e"
      }
     },
     "b24014875e5f4757a4f9b534e4062b60": {
      "model_module": "@jupyter-widgets/controls",
      "model_module_version": "1.5.0",
      "model_name": "HBoxModel",
      "state": {
       "children": [
        "IPY_MODEL_8cefb2eda6d9458890c9e8755be29f6f",
        "IPY_MODEL_a822a0cb7b7946628e20dd4bf222c8a0"
       ],
       "layout": "IPY_MODEL_fc9ab5eed7bf47868a84f8467f36effe"
      }
     },
     "b27058588a164e0a8dd781854e744633": {
      "model_module": "@jupyter-widgets/controls",
      "model_module_version": "1.5.0",
      "model_name": "DescriptionStyleModel",
      "state": {
       "description_width": ""
      }
     },
     "b27c99cf398e4a518c77b02887763bac": {
      "model_module": "@jupyter-widgets/base",
      "model_module_version": "1.2.0",
      "model_name": "LayoutModel",
      "state": {}
     },
     "b28d19ef15bc4d03afd11c3ff0616259": {
      "model_module": "@jupyter-widgets/base",
      "model_module_version": "1.2.0",
      "model_name": "LayoutModel",
      "state": {
       "align_items": "stretch",
       "display": "flex",
       "flex_flow": "row",
       "grid_auto_columns": "True",
       "justify_content": "flex-end",
       "width": "90%"
      }
     },
     "b2be24ff240e4923a16d19ab07bfdd97": {
      "model_module": "@jupyter-widgets/base",
      "model_module_version": "1.2.0",
      "model_name": "LayoutModel",
      "state": {
       "align_items": "stretch",
       "border": "dashed 0.2px green",
       "display": "flex",
       "flex_flow": "row",
       "grid_auto_columns": "True",
       "justify_content": "flex-start",
       "width": "100%"
      }
     },
     "b2d119e13ff04482a54943df8c05df16": {
      "model_module": "@jupyter-widgets/base",
      "model_module_version": "1.2.0",
      "model_name": "LayoutModel",
      "state": {}
     },
     "b2e13fbf953c4ed2b415a65be789d358": {
      "model_module": "@jupyter-widgets/controls",
      "model_module_version": "1.5.0",
      "model_name": "HTMLModel",
      "state": {
       "layout": "IPY_MODEL_004c6796a3b7407eb0c20d6bed0408d4",
       "style": "IPY_MODEL_7cee0fce938d44b1a8279e1e8b16dc69",
       "value": "<p>fus foo ous o</p>"
      }
     },
     "b32897120a574e6a9f48a9475ed1d5da": {
      "model_module": "@jupyter-widgets/base",
      "model_module_version": "1.2.0",
      "model_name": "LayoutModel",
      "state": {}
     },
     "b3953b0c162440438fb14a209a460c9c": {
      "model_module": "@jupyter-widgets/output",
      "model_module_version": "1.0.0",
      "model_name": "OutputModel",
      "state": {
       "layout": "IPY_MODEL_704f28b7d72b44edb881784ccbadc922"
      }
     },
     "b39d7bc7396a4abb8d2f0cd220fb0eb9": {
      "model_module": "@jupyter-widgets/controls",
      "model_module_version": "1.5.0",
      "model_name": "HTMLModel",
      "state": {
       "layout": "IPY_MODEL_01dd98e8db9a4deba32e520ae34e2688",
       "style": "IPY_MODEL_bad5df9ed71b45e5b0e1bfec5c649644",
       "value": "<p>its a foo cake</p>"
      }
     },
     "b3e04f2112a74471b064b4af8bf61b22": {
      "model_module": "@jupyter-widgets/controls",
      "model_module_version": "1.5.0",
      "model_name": "DescriptionStyleModel",
      "state": {
       "description_width": ""
      }
     },
     "b3f0aab89d9c4e9bb5a36cb1c7bfc79e": {
      "model_module": "@jupyter-widgets/base",
      "model_module_version": "1.2.0",
      "model_name": "LayoutModel",
      "state": {}
     },
     "b450becb2f7141d681ac3c98b8e3acfa": {
      "model_module": "@jupyter-widgets/base",
      "model_module_version": "1.2.0",
      "model_name": "LayoutModel",
      "state": {
       "align_items": "stretch",
       "display": "flex",
       "flex_flow": "row",
       "grid_auto_columns": "True",
       "justify_content": "flex-start",
       "width": "80%"
      }
     },
     "b4a3cde5ac364434a5d569c09ed6b102": {
      "model_module": "@jupyter-widgets/base",
      "model_module_version": "1.2.0",
      "model_name": "LayoutModel",
      "state": {
       "align_items": "stretch",
       "border": "dashed 0.2px green",
       "display": "flex",
       "flex_flow": "row",
       "grid_auto_columns": "True",
       "justify_content": "flex-start",
       "width": "100%"
      }
     },
     "b4dccd7754db47bf913e27dedcf55809": {
      "model_module": "@jupyter-widgets/base",
      "model_module_version": "1.2.0",
      "model_name": "LayoutModel",
      "state": {}
     },
     "b4eab559359540d282e3783ad8bef3bc": {
      "model_module": "@jupyter-widgets/controls",
      "model_module_version": "1.5.0",
      "model_name": "HTMLModel",
      "state": {
       "layout": "IPY_MODEL_e4b06915bd1149f18621988f675f113f",
       "style": "IPY_MODEL_d863b2f8c1ad47a9a6ec72b4802ba999",
       "value": "<p>1st section of space name code</p>"
      }
     },
     "b4fbd84772ff429f91f9c53d7b685518": {
      "model_module": "@jupyter-widgets/controls",
      "model_module_version": "1.5.0",
      "model_name": "HTMLModel",
      "state": {
       "layout": "IPY_MODEL_fefc8b0e99b741a7b7c0445825d13ef8",
       "style": "IPY_MODEL_138c7e7cbe744c10bbc20f59f8e4cf77",
       "value": "<p>its a foo cake</p>"
      }
     },
     "b53b9aa34413427da09be5334a0b11d1": {
      "model_module": "@jupyter-widgets/controls",
      "model_module_version": "1.5.0",
      "model_name": "HBoxModel",
      "state": {
       "children": [
        "IPY_MODEL_8754b5fe456c482aa5c32a2882dcffcd",
        "IPY_MODEL_c81d61f164c1458a95c4dfecd4294c5e"
       ],
       "layout": "IPY_MODEL_488c39068329427ba4d6d130c0d1dda4"
      }
     },
     "b5415da03926423e9149ecdcf17b8e93": {
      "model_module": "@jupyter-widgets/controls",
      "model_module_version": "1.5.0",
      "model_name": "HTMLModel",
      "state": {
       "layout": "IPY_MODEL_fa4750535cfc48de8264709f56f5b934",
       "style": "IPY_MODEL_3f8a04c8cc634b8aa62775cd92cf5c23",
       "value": "<p>Date Picker</p>"
      }
     },
     "b54f9378e3344fd483d52abc287af2b9": {
      "model_module": "@jupyter-widgets/controls",
      "model_module_version": "1.5.0",
      "model_name": "HTMLModel",
      "state": {
       "layout": "IPY_MODEL_0a81f5eba86e4ba28672e0cd81ba022c",
       "style": "IPY_MODEL_8d61575259944f7ca81493d0c70324cb",
       "value": "<p>its a foo cake</p>"
      }
     },
     "b5dcbd130d374f799da5905b923f3f44": {
      "model_module": "@jupyter-widgets/controls",
      "model_module_version": "1.5.0",
      "model_name": "TextareaModel",
      "state": {
       "layout": "IPY_MODEL_0e63f2e365454678ad1b7fdada8e9586",
       "style": "IPY_MODEL_a0171967f9e243089711147a9a453d0f"
      }
     },
     "b5efb2d4b85a4a2b9f29fa55daf631a2": {
      "model_module": "@jupyter-widgets/controls",
      "model_module_version": "1.5.0",
      "model_name": "HTMLModel",
      "state": {
       "layout": "IPY_MODEL_b9dfc82da2be4e94a42e346c9962d0ce",
       "style": "IPY_MODEL_759dfb107e324d03a51f5213a389bae1",
       "value": "<p>reous foo ous foo st</p>"
      }
     },
     "b6403d3dea8d4feb9d3f33ef8545171a": {
      "model_module": "@jupyter-widgets/controls",
      "model_module_version": "1.5.0",
      "model_name": "TextareaModel",
      "state": {
       "layout": "IPY_MODEL_a8c89c92766a47ed84afe901bb41e614",
       "style": "IPY_MODEL_59a940babae644fb8623d0802c437e90",
       "value": "asdfasdf"
      }
     },
     "b685db73f88d46288079ff4736b9a293": {
      "model_module": "@jupyter-widgets/controls",
      "model_module_version": "1.5.0",
      "model_name": "DescriptionStyleModel",
      "state": {
       "description_width": ""
      }
     },
     "b68b17aef2d54209b28540b63bd522f5": {
      "model_module": "@jupyter-widgets/controls",
      "model_module_version": "1.5.0",
      "model_name": "DescriptionStyleModel",
      "state": {
       "description_width": ""
      }
     },
     "b6948d8f36314679a044c1477fea748b": {
      "model_module": "@jupyter-widgets/base",
      "model_module_version": "1.2.0",
      "model_name": "LayoutModel",
      "state": {}
     },
     "b6c81311a99c4f3cbca7c0faa9745e2b": {
      "model_module": "@jupyter-widgets/base",
      "model_module_version": "1.2.0",
      "model_name": "LayoutModel",
      "state": {}
     },
     "b6cb5a462b214c859404ff2b1d229ff7": {
      "model_module": "@jupyter-widgets/base",
      "model_module_version": "1.2.0",
      "model_name": "LayoutModel",
      "state": {
       "align_items": "stretch",
       "border": "dashed 0.2px green",
       "display": "flex",
       "flex_flow": "row",
       "grid_auto_columns": "True",
       "justify_content": "flex-start",
       "width": "100%"
      }
     },
     "b6f723cca9fb4946bcb77f362e9b1b51": {
      "model_module": "@jupyter-widgets/controls",
      "model_module_version": "1.5.0",
      "model_name": "HBoxModel",
      "state": {
       "children": [
        "IPY_MODEL_ce58277a4f1c44f184b340881de0145f",
        "IPY_MODEL_c2497fc3fae54ed0a152646bee37e81d"
       ],
       "layout": "IPY_MODEL_513b4f14b69943c7a1241259c7afbac9"
      }
     },
     "b712200d95df4a37a90a64924e230c15": {
      "model_module": "@jupyter-widgets/controls",
      "model_module_version": "1.5.0",
      "model_name": "HTMLModel",
      "state": {
       "layout": "IPY_MODEL_798be01dc3de40e78b6339dc502c526f",
       "style": "IPY_MODEL_9b391742b07c483795d174909a3950ac",
       "value": "<p>0</p>"
      }
     },
     "b73b1dd2bad542f4a4f08dd60f1a43aa": {
      "model_module": "@jupyter-widgets/controls",
      "model_module_version": "1.5.0",
      "model_name": "HTMLModel",
      "state": {
       "layout": "IPY_MODEL_5e49d395425c4aadb8e35edcef7073a6",
       "style": "IPY_MODEL_5cb37ad3fc1b4594bf4647e3a4e2adae",
       "value": "<p>Date Picker</p>"
      }
     },
     "b7625dc5b64440bbb7c0628d9f83ccf4": {
      "model_module": "@jupyter-widgets/controls",
      "model_module_version": "1.5.0",
      "model_name": "ButtonStyleModel",
      "state": {}
     },
     "b7a65e88fc0d4a8381de299e8951efe5": {
      "model_module": "@jupyter-widgets/controls",
      "model_module_version": "1.5.0",
      "model_name": "HTMLModel",
      "state": {
       "layout": "IPY_MODEL_416951b301444cc9a1e86172f8f58d2f",
       "style": "IPY_MODEL_e4f2ea1ffec74560830297d9aa62f929",
       "value": "<p>3</p>"
      }
     },
     "b7acde42772245db8d1f30e2f427422d": {
      "model_module": "@jupyter-widgets/base",
      "model_module_version": "1.2.0",
      "model_name": "LayoutModel",
      "state": {}
     },
     "b80923171a284f438768581d4200ac66": {
      "model_module": "@jupyter-widgets/base",
      "model_module_version": "1.2.0",
      "model_name": "LayoutModel",
      "state": {
       "align_items": "stretch",
       "border": "dashed 0.2px green",
       "display": "flex",
       "flex_flow": "row",
       "grid_auto_columns": "True",
       "justify_content": "flex-start",
       "width": "100%"
      }
     },
     "b8100a983eea47b685a8906ea4835be8": {
      "model_module": "@jupyter-widgets/output",
      "model_module_version": "1.0.0",
      "model_name": "OutputModel",
      "state": {
       "layout": "IPY_MODEL_c3e179308c7e4e07b9d1c77ad59611a1"
      }
     },
     "b8261adf353745b789454137483300f1": {
      "model_module": "@jupyter-widgets/base",
      "model_module_version": "1.2.0",
      "model_name": "LayoutModel",
      "state": {
       "align_items": "stretch",
       "display": "flex",
       "flex_flow": "row",
       "grid_auto_columns": "True",
       "justify_content": "flex-end",
       "width": "90%"
      }
     },
     "b84b8541801c47509231704e666b17fb": {
      "model_module": "@jupyter-widgets/controls",
      "model_module_version": "1.5.0",
      "model_name": "ToggleButtonModel",
      "state": {
       "icon": "arrow-down",
       "layout": "IPY_MODEL_4d1717a65ffa46ffbab52b41acac4d71",
       "style": "IPY_MODEL_2598fd257a8c4dcb8f3240089862f53d"
      }
     },
     "b858180582b3454c8431fded74b7b84a": {
      "model_module": "@jupyter-widgets/controls",
      "model_module_version": "1.5.0",
      "model_name": "HBoxModel",
      "state": {
       "children": [
        "IPY_MODEL_0fb4d358ffee4fdbb84d37cdbaf883d3",
        "IPY_MODEL_b23d526094cb4e84b1058db73c0e364d",
        "IPY_MODEL_7976eff18ba44568b9b036cf1b60ec4b"
       ],
       "layout": "IPY_MODEL_0924f655f65a4fb9af174775ff057d7b"
      }
     },
     "b871ed7545cd4940868bc6cb2dc6b419": {
      "model_module": "@jupyter-widgets/controls",
      "model_module_version": "1.5.0",
      "model_name": "HTMLModel",
      "state": {
       "layout": "IPY_MODEL_8f17602831bf43c9af42ae3ff4d1f7c6",
       "style": "IPY_MODEL_33104a88f0da4dc7bd0908342226b1ec",
       "value": "<p>File Tag</p>"
      }
     },
     "b878123c7671442593d8ac699c0f07ad": {
      "model_module": "@jupyter-widgets/controls",
      "model_module_version": "1.5.0",
      "model_name": "DescriptionStyleModel",
      "state": {
       "description_width": ""
      }
     },
     "b883446854ac4963945f4de090fea3e4": {
      "model_module": "@jupyter-widgets/controls",
      "model_module_version": "1.5.0",
      "model_name": "DescriptionStyleModel",
      "state": {
       "description_width": ""
      }
     },
     "b8852e3490b640e7b4ddfccc976e4df5": {
      "model_module": "@jupyter-widgets/controls",
      "model_module_version": "1.5.0",
      "model_name": "HTMLModel",
      "state": {
       "layout": "IPY_MODEL_5b09cf5a9af146aeab2ae1cb6c8d07e2",
       "style": "IPY_MODEL_44468c6feaf64c66a8b94bd74a5833cd",
       "value": "<p>Model Desc</p>"
      }
     },
     "b88c052e4907484ea6d22b7f37d466dd": {
      "model_module": "@jupyter-widgets/controls",
      "model_module_version": "1.5.0",
      "model_name": "HTMLModel",
      "state": {
       "layout": "IPY_MODEL_211152c9696e426b9eab7af7a51308c2",
       "style": "IPY_MODEL_77b7280d2fce4df699182800ea301d5a",
       "value": "<p>name</p>"
      }
     },
     "b892018645d44b2e91c8ade73068c1eb": {
      "model_module": "@jupyter-widgets/controls",
      "model_module_version": "1.5.0",
      "model_name": "HTMLModel",
      "state": {
       "layout": "IPY_MODEL_e70192fdd5f644b9925da2992f044f2d",
       "style": "IPY_MODEL_7c5052885c8740ad99252aa84258a282",
       "value": "<p>General Description of the Model</p>"
      }
     },
     "b8b485eb769847e0a0793eb408b8ac75": {
      "model_module": "@jupyter-widgets/base",
      "model_module_version": "1.2.0",
      "model_name": "LayoutModel",
      "state": {}
     },
     "b8d0a6210d284e7ab5a4f273702e6c33": {
      "model_module": "@jupyter-widgets/controls",
      "model_module_version": "1.5.0",
      "model_name": "HTMLModel",
      "state": {
       "layout": "IPY_MODEL_fc7c49e01d794b7d89b70617033b01d9",
       "style": "IPY_MODEL_e392fe20301444689555437fe1ff05fc",
       "value": "<p>fus foo ous o</p>"
      }
     },
     "b8d7df63fce5492a8c4036b758669191": {
      "model_module": "@jupyter-widgets/base",
      "model_module_version": "1.2.0",
      "model_name": "LayoutModel",
      "state": {}
     },
     "b8ffab78b8e642aeaef3e35330ce73b0": {
      "model_module": "@jupyter-widgets/base",
      "model_module_version": "1.2.0",
      "model_name": "LayoutModel",
      "state": {
       "align_items": "stretch",
       "display": "flex",
       "flex_flow": "row",
       "grid_auto_columns": "True",
       "justify_content": "flex-start",
       "width": "80%"
      }
     },
     "b90241d1f9f64719ad80dfda85b8d366": {
      "model_module": "@jupyter-widgets/controls",
      "model_module_version": "1.5.0",
      "model_name": "HBoxModel",
      "state": {
       "children": [
        "IPY_MODEL_41f2ede03cf04748b310a901ad89f396",
        "IPY_MODEL_3199ba9630ea4f44b892de2d5949792e"
       ],
       "layout": "IPY_MODEL_8886689d93604f3ea656929d81e2a4fd"
      }
     },
     "b929dc877ed54bf2880d72235a77d3f1": {
      "model_module": "@jupyter-widgets/controls",
      "model_module_version": "1.5.0",
      "model_name": "DescriptionStyleModel",
      "state": {
       "description_width": ""
      }
     },
     "b9696a9add2d4d0198ad6457fc844578": {
      "model_module": "@jupyter-widgets/controls",
      "model_module_version": "1.5.0",
      "model_name": "FloatTextModel",
      "state": {
       "layout": "IPY_MODEL_e9aec51ae14f419fbfbd7743387424d1",
       "step": null,
       "style": "IPY_MODEL_8112584f0ac9460fb33c194471e0f6ac",
       "value": 16
      }
     },
     "b98206f0208045a290d3ea529bcad917": {
      "model_module": "@jupyter-widgets/base",
      "model_module_version": "1.2.0",
      "model_name": "LayoutModel",
      "state": {
       "align_items": "stretch",
       "border": "dashed 0.2px green",
       "display": "flex",
       "flex_flow": "row",
       "grid_auto_columns": "True",
       "justify_content": "flex-start",
       "width": "100%"
      }
     },
     "b9ae44b121ff4905a5275078c5a65769": {
      "model_module": "@jupyter-widgets/controls",
      "model_module_version": "1.5.0",
      "model_name": "TextareaModel",
      "state": {
       "layout": "IPY_MODEL_5e89c77373b9453bb5104762a54f8da3",
       "style": "IPY_MODEL_52a48e78031d48ab8b314aed5435c231",
       "value": "asdfasdf"
      }
     },
     "b9b3cc7174104b6ea7315920572f8c54": {
      "model_module": "@jupyter-widgets/base",
      "model_module_version": "1.2.0",
      "model_name": "LayoutModel",
      "state": {}
     },
     "b9dfc82da2be4e94a42e346c9962d0ce": {
      "model_module": "@jupyter-widgets/base",
      "model_module_version": "1.2.0",
      "model_name": "LayoutModel",
      "state": {}
     },
     "ba01a1d10b034e59ac19d02027035259": {
      "model_module": "@jupyter-widgets/base",
      "model_module_version": "1.2.0",
      "model_name": "LayoutModel",
      "state": {
       "align_items": "stretch",
       "border": "dashed 0.2px green",
       "display": "flex",
       "flex_flow": "row",
       "grid_auto_columns": "True",
       "justify_content": "flex-start",
       "width": "100%"
      }
     },
     "ba2405f1b3c54c788a0e670dbe1281f6": {
      "model_module": "@jupyter-widgets/controls",
      "model_module_version": "1.5.0",
      "model_name": "HBoxModel",
      "state": {
       "children": [
        "IPY_MODEL_e7f46e5b9e184d6fbcec9a92359e6eeb"
       ],
       "layout": "IPY_MODEL_6201380bce504bef81b8be2541154930"
      }
     },
     "ba83b281c84c40f9926bbbad9d85f627": {
      "model_module": "@jupyter-widgets/controls",
      "model_module_version": "1.5.0",
      "model_name": "DescriptionStyleModel",
      "state": {
       "description_width": ""
      }
     },
     "ba870775c88e4327b178647d6fe89714": {
      "model_module": "@jupyter-widgets/base",
      "model_module_version": "1.2.0",
      "model_name": "LayoutModel",
      "state": {}
     },
     "bac4e1fe93364c969a216042179e5c98": {
      "model_module": "@jupyter-widgets/controls",
      "model_module_version": "1.5.0",
      "model_name": "VBoxModel",
      "state": {
       "children": [
        "IPY_MODEL_5d1d8a1ff0a4433e8b7886a9e9698c46",
        "IPY_MODEL_195d05c52c5940d2a08d36a53fbc3934",
        "IPY_MODEL_82d7dfc0606b4f0392f96f307e19d308",
        "IPY_MODEL_46a1a5cf0ea64d3fb5669b07224bf248",
        "IPY_MODEL_fffba519625b4fb99afb0d07444d094f",
        "IPY_MODEL_38fa2be86ca94f298a16ffff8842ec59",
        "IPY_MODEL_d8b181e276cb4ddaa8df07a3ec3a0041",
        "IPY_MODEL_ca604a191e794f108b1be0ac1dfa1142"
       ],
       "layout": "IPY_MODEL_fe942d1e618a453d80dad4803792fb7b"
      }
     },
     "bac70e267cc340fc8bfc5a50f25bcafa": {
      "model_module": "@jupyter-widgets/base",
      "model_module_version": "1.2.0",
      "model_name": "LayoutModel",
      "state": {
       "align_items": "stretch",
       "display": "flex",
       "flex_flow": "row",
       "grid_auto_columns": "True",
       "justify_content": "flex-end",
       "width": "90%"
      }
     },
     "bacca3be203f447ea1af605ea4cd5085": {
      "model_module": "@jupyter-widgets/base",
      "model_module_version": "1.2.0",
      "model_name": "LayoutModel",
      "state": {
       "align_items": "stretch",
       "display": "flex",
       "flex_flow": "row",
       "grid_auto_columns": "True",
       "justify_content": "flex-end",
       "width": "90%"
      }
     },
     "bad5cdbe25ae4d4eb2d068f5b3ae839e": {
      "model_module": "@jupyter-widgets/controls",
      "model_module_version": "1.5.0",
      "model_name": "HBoxModel",
      "state": {
       "children": [
        "IPY_MODEL_a1735dbfcc5744bdaf1267716a580847"
       ],
       "layout": "IPY_MODEL_1c031506f7c74528bc3ed8d5a3d9fc90"
      }
     },
     "bad5df9ed71b45e5b0e1bfec5c649644": {
      "model_module": "@jupyter-widgets/controls",
      "model_module_version": "1.5.0",
      "model_name": "DescriptionStyleModel",
      "state": {
       "description_width": ""
      }
     },
     "baf043a76f604f879ad1e0c1a6b02569": {
      "model_module": "@jupyter-widgets/base",
      "model_module_version": "1.2.0",
      "model_name": "LayoutModel",
      "state": {}
     },
     "baf802a56d7a4d61aa0ec7d36dc678fc": {
      "model_module": "@jupyter-widgets/base",
      "model_module_version": "1.2.0",
      "model_name": "LayoutModel",
      "state": {
       "align_items": "stretch",
       "display": "flex",
       "flex_flow": "row",
       "grid_auto_columns": "True",
       "justify_content": "flex-start",
       "width": "80%"
      }
     },
     "bb36df8a967f479bb699344ea74dd468": {
      "model_module": "@jupyter-widgets/controls",
      "model_module_version": "1.5.0",
      "model_name": "HBoxModel",
      "state": {
       "children": [
        "IPY_MODEL_6242266a373d4f11b224c049b29a5a35"
       ],
       "layout": "IPY_MODEL_7db29552c47f48698321b8a0f258d5d0"
      }
     },
     "bb39d0915c60494696ac2190c1681692": {
      "model_module": "@jupyter-widgets/controls",
      "model_module_version": "1.5.0",
      "model_name": "VBoxModel",
      "state": {
       "layout": "IPY_MODEL_258cea569ebc41b6a2777322d339c6fb"
      }
     },
     "bb3a9be5e4e54412856f6c9f95c75ece": {
      "model_module": "@jupyter-widgets/base",
      "model_module_version": "1.2.0",
      "model_name": "LayoutModel",
      "state": {}
     },
     "bb45e92d44aa4c68a246db513e2f9331": {
      "model_module": "@jupyter-widgets/controls",
      "model_module_version": "1.5.0",
      "model_name": "ButtonStyleModel",
      "state": {
       "font_weight": "bold"
      }
     },
     "bb473f2823e74cde9cc8ce6d9c549db3": {
      "model_module": "@jupyter-widgets/controls",
      "model_module_version": "1.5.0",
      "model_name": "DescriptionStyleModel",
      "state": {
       "description_width": ""
      }
     },
     "bb947907b0cf4dca9c2bd6d820494c20": {
      "model_module": "@jupyter-widgets/controls",
      "model_module_version": "1.5.0",
      "model_name": "HBoxModel",
      "state": {
       "children": [
        "IPY_MODEL_500001e946684177882dfa3fbd370d83",
        "IPY_MODEL_cec53037a60847ff8fbe37092b238411"
       ],
       "layout": "IPY_MODEL_d0a2a476044d44f4bb1c467d5ad39a84"
      }
     },
     "bb9ad7c14b0443cc81a0f9c5c333589d": {
      "model_module": "@jupyter-widgets/base",
      "model_module_version": "1.2.0",
      "model_name": "LayoutModel",
      "state": {}
     },
     "bbb20079cc474f6b9e868d0384ef5bce": {
      "model_module": "@jupyter-widgets/controls",
      "model_module_version": "1.5.0",
      "model_name": "SliderStyleModel",
      "state": {
       "description_width": ""
      }
     },
     "bbb96d05a11a44db83f4d68208203cab": {
      "model_module": "@jupyter-widgets/base",
      "model_module_version": "1.2.0",
      "model_name": "LayoutModel",
      "state": {}
     },
     "bc1903bb82e44e3aab40477d9004a9c2": {
      "model_module": "@jupyter-widgets/base",
      "model_module_version": "1.2.0",
      "model_name": "LayoutModel",
      "state": {}
     },
     "bc5fd5a65ecf4f0cb83288c6b722b558": {
      "model_module": "@jupyter-widgets/controls",
      "model_module_version": "1.5.0",
      "model_name": "DescriptionStyleModel",
      "state": {
       "description_width": ""
      }
     },
     "bc617adceaa64fd0b228346921ee6cf3": {
      "model_module": "@jupyter-widgets/controls",
      "model_module_version": "1.5.0",
      "model_name": "ButtonStyleModel",
      "state": {
       "font_weight": "bold"
      }
     },
     "bca2b176474743a7afbbaca5e328924c": {
      "model_module": "@jupyter-widgets/controls",
      "model_module_version": "1.5.0",
      "model_name": "DescriptionStyleModel",
      "state": {
       "description_width": ""
      }
     },
     "bccae99daa4249a49a79a63a6fb11bc7": {
      "model_module": "@jupyter-widgets/controls",
      "model_module_version": "1.5.0",
      "model_name": "DescriptionStyleModel",
      "state": {
       "description_width": ""
      }
     },
     "bcd5dbff5e964366b274ab29210bde6e": {
      "model_module": "@jupyter-widgets/output",
      "model_module_version": "1.0.0",
      "model_name": "OutputModel",
      "state": {
       "layout": "IPY_MODEL_dd83cbe6a4b946fc8b0b47e4d0cd3903"
      }
     },
     "bcde18ebec39432c9252f0f616bd602e": {
      "model_module": "@jupyter-widgets/controls",
      "model_module_version": "1.5.0",
      "model_name": "HBoxModel",
      "state": {
       "children": [
        "IPY_MODEL_ff184c0c52644bd1a992632c1e86eb96",
        "IPY_MODEL_3b6faad69c1a481998df0fb83422a7e1"
       ],
       "layout": "IPY_MODEL_8b1f8dedacdc4238bd6e9be58a0162bd"
      }
     },
     "bd3958906d6f4a23a2e7ea3ca4da800a": {
      "model_module": "@jupyter-widgets/base",
      "model_module_version": "1.2.0",
      "model_name": "LayoutModel",
      "state": {
       "align_items": "stretch",
       "display": "flex",
       "flex_flow": "row",
       "grid_auto_columns": "True",
       "justify_content": "flex-start",
       "width": "80%"
      }
     },
     "bd48d3377dda4c389c758adf148ff0fc": {
      "model_module": "@jupyter-widgets/output",
      "model_module_version": "1.0.0",
      "model_name": "OutputModel",
      "state": {
       "layout": "IPY_MODEL_706f52423a904358a31a8b7a17347db8"
      }
     },
     "bd5b17ac7c02413e930c98508c4602bd": {
      "model_module": "@jupyter-widgets/controls",
      "model_module_version": "1.5.0",
      "model_name": "HBoxModel",
      "state": {
       "children": [
        "IPY_MODEL_f131d1dc35214c1893ddc45f52cbb1b0",
        "IPY_MODEL_4406ee935bb4403eb00f3482900c9550"
       ],
       "layout": "IPY_MODEL_f84ea236bded404387a51b5763f2ad23"
      }
     },
     "bd9801d5426a47edb9c983f3ee1a58f9": {
      "model_module": "@jupyter-widgets/base",
      "model_module_version": "1.2.0",
      "model_name": "LayoutModel",
      "state": {}
     },
     "bdd5cc500e72479ab9340e478dbce863": {
      "model_module": "@jupyter-widgets/base",
      "model_module_version": "1.2.0",
      "model_name": "LayoutModel",
      "state": {}
     },
     "be0bb76cb08c4fcb8d2cff39ea12cddb": {
      "model_module": "@jupyter-widgets/base",
      "model_module_version": "1.2.0",
      "model_name": "LayoutModel",
      "state": {}
     },
     "be2d0fa2148f4f789a5532112a1ad0de": {
      "model_module": "@jupyter-widgets/base",
      "model_module_version": "1.2.0",
      "model_name": "LayoutModel",
      "state": {}
     },
     "be7524300aed4d7eb2fef36b7d8c9f18": {
      "model_module": "@jupyter-widgets/controls",
      "model_module_version": "1.5.0",
      "model_name": "DescriptionStyleModel",
      "state": {
       "description_width": ""
      }
     },
     "be8cb1703c534a0bbd6b6296d5605bf4": {
      "model_module": "@jupyter-widgets/controls",
      "model_module_version": "1.5.0",
      "model_name": "HBoxModel",
      "state": {
       "children": [
        "IPY_MODEL_4773e993cee843cca6e67703553dbc6f"
       ],
       "layout": "IPY_MODEL_a3bf88f8bc1d4778b7d986bdf9160ddf"
      }
     },
     "bea66c9e792b497cbafb32618b2fbc14": {
      "model_module": "@jupyter-widgets/base",
      "model_module_version": "1.2.0",
      "model_name": "LayoutModel",
      "state": {
       "align_items": "stretch",
       "display": "flex",
       "flex_flow": "row",
       "grid_auto_columns": "True",
       "justify_content": "flex-end",
       "width": "90%"
      }
     },
     "bea935b0cce94f8c80422a11cd902361": {
      "model_module": "@jupyter-widgets/base",
      "model_module_version": "1.2.0",
      "model_name": "LayoutModel",
      "state": {
       "align_items": "stretch",
       "display": "flex",
       "flex_flow": "row",
       "grid_auto_columns": "True",
       "justify_content": "flex-end",
       "width": "90%"
      }
     },
     "bed4bf8862424b1aafc8e7e370858711": {
      "model_module": "@jupyter-widgets/controls",
      "model_module_version": "1.5.0",
      "model_name": "VBoxModel",
      "state": {
       "children": [
        "IPY_MODEL_72e5ff956a6b4409b2a51477487c7e1d",
        "IPY_MODEL_5301598fda364fdc9623b73cdffad5c8",
        "IPY_MODEL_f3aa351516554cc7aa5bd1ec3784820d",
        "IPY_MODEL_2194fcb888ea4133bc31fde5ffefe531",
        "IPY_MODEL_9b05547ed01d4a8ab434217bde816b13",
        "IPY_MODEL_6b2f271db9dd402681478962adbde9af",
        "IPY_MODEL_dcc093ce13724a72ba256966c0fb798c",
        "IPY_MODEL_27dad6531cc24ab28a02384521015679"
       ],
       "layout": "IPY_MODEL_27eaa7f3bc0d48e0a3ce67d89e793029"
      }
     },
     "bf0f4bc08b58427cacd293cee0f17d7c": {
      "model_module": "@jupyter-widgets/controls",
      "model_module_version": "1.5.0",
      "model_name": "HBoxModel",
      "state": {
       "children": [
        "IPY_MODEL_57f3637685e94d77bc3885edac1b46a0",
        "IPY_MODEL_c885042c588b4089a265762174fc3843",
        "IPY_MODEL_b1e88abadfef4447a572339feb50197e"
       ],
       "layout": "IPY_MODEL_b27c99cf398e4a518c77b02887763bac"
      }
     },
     "bf1d818db3dc46d0a5e24b4b4e5f98b8": {
      "model_module": "@jupyter-widgets/base",
      "model_module_version": "1.2.0",
      "model_name": "LayoutModel",
      "state": {}
     },
     "bf2bcd910f094e2086498c9d29f88de7": {
      "model_module": "@jupyter-widgets/controls",
      "model_module_version": "1.5.0",
      "model_name": "HBoxModel",
      "state": {
       "children": [
        "IPY_MODEL_b5dcbd130d374f799da5905b923f3f44",
        "IPY_MODEL_0932f81039a24b2093544f3d1cca88dc"
       ],
       "layout": "IPY_MODEL_7db0352d5b1543268d8310f3add47576"
      }
     },
     "bf409d4cdf5c4f5f91c23a3821d3a17a": {
      "model_module": "@jupyter-widgets/controls",
      "model_module_version": "1.5.0",
      "model_name": "DescriptionStyleModel",
      "state": {
       "description_width": ""
      }
     },
     "bf5701669a6246eca3ed0ccaaa589630": {
      "model_module": "@jupyter-widgets/base",
      "model_module_version": "1.2.0",
      "model_name": "LayoutModel",
      "state": {
       "align_items": "stretch",
       "border": "dashed 0.2px green",
       "display": "flex",
       "flex_flow": "row",
       "grid_auto_columns": "True",
       "justify_content": "flex-start",
       "width": "100%"
      }
     },
     "bf69162e244147d48ab3018f908b2234": {
      "model_module": "@jupyter-widgets/controls",
      "model_module_version": "1.5.0",
      "model_name": "ToggleButtonModel",
      "state": {
       "button_style": "info",
       "description": "inputs from file",
       "layout": "IPY_MODEL_3f828579a3c34acb85bf5b74c8f67e3c",
       "style": "IPY_MODEL_95b0c46ddcd247beb80a57b333e0a32e"
      }
     },
     "bfbff28764fa4f8390ca7f84a9a28003": {
      "model_module": "@jupyter-widgets/base",
      "model_module_version": "1.2.0",
      "model_name": "LayoutModel",
      "state": {}
     },
     "bfd1364f7d7d45279f20152526d2cbb3": {
      "model_module": "@jupyter-widgets/base",
      "model_module_version": "1.2.0",
      "model_name": "LayoutModel",
      "state": {}
     },
     "bfe439890e2c41a482d773785d353c52": {
      "model_module": "@jupyter-widgets/base",
      "model_module_version": "1.2.0",
      "model_name": "LayoutModel",
      "state": {}
     },
     "c01717f17f9141ed86b763e51d356fa4": {
      "model_module": "@jupyter-widgets/controls",
      "model_module_version": "1.5.0",
      "model_name": "DescriptionStyleModel",
      "state": {
       "description_width": ""
      }
     },
     "c06288f7390c4e8591e6d2a3ae619836": {
      "model_module": "@jupyter-widgets/base",
      "model_module_version": "1.2.0",
      "model_name": "LayoutModel",
      "state": {
       "align_items": "stretch",
       "border": "dashed 0.2px green",
       "display": "flex",
       "flex_flow": "row",
       "grid_auto_columns": "True",
       "justify_content": "flex-start",
       "width": "100%"
      }
     },
     "c08887742f7846bf861aa968e5ccb5bd": {
      "model_module": "@jupyter-widgets/controls",
      "model_module_version": "1.5.0",
      "model_name": "SelectMultipleModel",
      "state": {
       "_options_labels": [
        "asfd",
        "10",
        "asdf"
       ],
       "index": [
        1
       ],
       "layout": "IPY_MODEL_9d27c88dd49746bbbcd8773b6e6d82d4",
       "rows": 5,
       "style": "IPY_MODEL_f6144de291c845c389ee75780bcfb819"
      }
     },
     "c0ba733b76df466a85156a98c1061846": {
      "model_module": "@jupyter-widgets/controls",
      "model_module_version": "1.5.0",
      "model_name": "DropdownModel",
      "state": {
       "_options_labels": [
        "asfd",
        "10",
        "asdf"
       ],
       "index": 1,
       "layout": "IPY_MODEL_3ea6e7689b394cbe8159661565102f71",
       "style": "IPY_MODEL_bccae99daa4249a49a79a63a6fb11bc7"
      }
     },
     "c0d9bb9627204369b1f1e2fc9afce3f6": {
      "model_module": "@jupyter-widgets/base",
      "model_module_version": "1.2.0",
      "model_name": "LayoutModel",
      "state": {}
     },
     "c0f25d0d60524c7699842b6ff69cf512": {
      "model_module": "@jupyter-widgets/base",
      "model_module_version": "1.2.0",
      "model_name": "LayoutModel",
      "state": {}
     },
     "c14257e9e86a4b0d91887f62661bf7c6": {
      "model_module": "@jupyter-widgets/controls",
      "model_module_version": "1.5.0",
      "model_name": "DescriptionStyleModel",
      "state": {
       "description_width": ""
      }
     },
     "c17c3e049b5d445997071feef6d9cb01": {
      "model_module": "@jupyter-widgets/controls",
      "model_module_version": "1.5.0",
      "model_name": "DescriptionStyleModel",
      "state": {
       "description_width": ""
      }
     },
     "c1c32eeb95b64c33a66895c7c963f969": {
      "model_module": "@jupyter-widgets/base",
      "model_module_version": "1.2.0",
      "model_name": "LayoutModel",
      "state": {}
     },
     "c200e1ecb93d42fc8ade5035dd1c93ea": {
      "model_module": "@jupyter-widgets/base",
      "model_module_version": "1.2.0",
      "model_name": "LayoutModel",
      "state": {}
     },
     "c21dcd8a0cf9409e8bafe432fa37a2a4": {
      "model_module": "@jupyter-widgets/controls",
      "model_module_version": "1.5.0",
      "model_name": "DescriptionStyleModel",
      "state": {
       "description_width": ""
      }
     },
     "c224a86841c04f659efa8b864cfb39b9": {
      "model_module": "@jupyter-widgets/controls",
      "model_module_version": "1.5.0",
      "model_name": "DescriptionStyleModel",
      "state": {
       "description_width": ""
      }
     },
     "c2497fc3fae54ed0a152646bee37e81d": {
      "model_module": "@jupyter-widgets/controls",
      "model_module_version": "1.5.0",
      "model_name": "HTMLModel",
      "state": {
       "layout": "IPY_MODEL_36cee89890a14a6ba5823bf132bd771f",
       "style": "IPY_MODEL_d2b274c79b3041b1b087a98b675b4e3b",
       "value": "<p>label</p>"
      }
     },
     "c24f62795038431bb4595ba780df117a": {
      "model_module": "@jupyter-widgets/base",
      "model_module_version": "1.2.0",
      "model_name": "LayoutModel",
      "state": {
       "align_items": "stretch",
       "display": "flex",
       "flex_flow": "row",
       "grid_auto_columns": "True",
       "justify_content": "flex-end",
       "width": "90%"
      }
     },
     "c253f25f8c154f308614172ce480fb5b": {
      "model_module": "@jupyter-widgets/base",
      "model_module_version": "1.2.0",
      "model_name": "LayoutModel",
      "state": {}
     },
     "c28c93aa6ac24803983e4c946702755c": {
      "model_module": "@jupyter-widgets/base",
      "model_module_version": "1.2.0",
      "model_name": "LayoutModel",
      "state": {
       "align_items": "stretch",
       "border": "dashed 0.2px green",
       "display": "flex",
       "flex_flow": "row",
       "grid_auto_columns": "True",
       "justify_content": "flex-start",
       "width": "100%"
      }
     },
     "c28ff232c1e44974b02d9c6da94baf60": {
      "model_module": "@jupyter-widgets/controls",
      "model_module_version": "1.5.0",
      "model_name": "TextModel",
      "state": {
       "layout": "IPY_MODEL_5e5cbcd9d91141cd8455829327b3020e",
       "style": "IPY_MODEL_9742ccc215ac492db041b219e4d1c4f9",
       "value": "2"
      }
     },
     "c2a21fcb9f104631a509407dd19ce165": {
      "model_module": "@jupyter-widgets/base",
      "model_module_version": "1.2.0",
      "model_name": "LayoutModel",
      "state": {}
     },
     "c2af4a76a1be42f0bed59afd9eee01ec": {
      "model_module": "@jupyter-widgets/base",
      "model_module_version": "1.2.0",
      "model_name": "LayoutModel",
      "state": {}
     },
     "c2ca3a0dd42341549cf533ac2e475532": {
      "model_module": "@jupyter-widgets/base",
      "model_module_version": "1.2.0",
      "model_name": "LayoutModel",
      "state": {
       "align_items": "stretch",
       "display": "flex",
       "flex_flow": "row",
       "grid_auto_columns": "True",
       "justify_content": "flex-start",
       "width": "80%"
      }
     },
     "c36dfbc924514c7aac21075a7767e841": {
      "model_module": "@jupyter-widgets/controls",
      "model_module_version": "1.5.0",
      "model_name": "HBoxModel",
      "state": {
       "children": [
        "IPY_MODEL_cf3f216a5ec64e5db973f06cfa53e6dd"
       ],
       "layout": "IPY_MODEL_8aca91fa04fe48509daeafc6a8da7620"
      }
     },
     "c3b32edb1da845d083cfc151bd170dfd": {
      "model_module": "@jupyter-widgets/controls",
      "model_module_version": "1.5.0",
      "model_name": "HBoxModel",
      "state": {
       "children": [
        "IPY_MODEL_b5415da03926423e9149ecdcf17b8e93",
        "IPY_MODEL_31ab006a5797438cbf64421ec2d716d3"
       ],
       "layout": "IPY_MODEL_a2d84812ee9f4840b5cf57bcb8ddf2e5"
      }
     },
     "c3c140ba791d405187f046aed4dc92f0": {
      "model_module": "@jupyter-widgets/controls",
      "model_module_version": "1.5.0",
      "model_name": "HTMLModel",
      "state": {
       "layout": "IPY_MODEL_81dfe651e8cb4013ab27b2ec44751c14",
       "style": "IPY_MODEL_9d0d867d84f8451ea46c97cdca22e2d6",
       "value": "<p>its a delicious foo cake</p>"
      }
     },
     "c3e179308c7e4e07b9d1c77ad59611a1": {
      "model_module": "@jupyter-widgets/base",
      "model_module_version": "1.2.0",
      "model_name": "LayoutModel",
      "state": {}
     },
     "c3f0b5f4aa034cc889c4da87e3ca49cd": {
      "model_module": "@jupyter-widgets/base",
      "model_module_version": "1.2.0",
      "model_name": "LayoutModel",
      "state": {}
     },
     "c43219b98e374c1b8c26fa0600239978": {
      "model_module": "@jupyter-widgets/controls",
      "model_module_version": "1.5.0",
      "model_name": "HTMLModel",
      "state": {
       "layout": "IPY_MODEL_d72c16b1fa1a454485ca16a51ba8297d",
       "style": "IPY_MODEL_4d1915c36950419ea6f4eace2fdf6224",
       "value": "<p>spc_name_index</p>"
      }
     },
     "c4afbfba50614e7f89acc84ffbb125a7": {
      "model_module": "@jupyter-widgets/controls",
      "model_module_version": "1.5.0",
      "model_name": "HTMLModel",
      "state": {
       "layout": "IPY_MODEL_851dcbbd2246422ba4d6233bbf2df250",
       "style": "IPY_MODEL_b878123c7671442593d8ac699c0f07ad",
       "value": "<p>name</p>"
      }
     },
     "c4cdfe5238414cf29e7c40a297c7611f": {
      "model_module": "@jupyter-widgets/controls",
      "model_module_version": "1.5.0",
      "model_name": "HBoxModel",
      "state": {
       "children": [
        "IPY_MODEL_7a192cc260584be1b55ff394ffef4a4d",
        "IPY_MODEL_6c44c973355e4104a738b04fb5b37d67"
       ],
       "layout": "IPY_MODEL_e6ea8ba4fc644f05a7faeb76d8c38b7d"
      }
     },
     "c4dfa20023444df681e15deb9d726b00": {
      "model_module": "@jupyter-widgets/base",
      "model_module_version": "1.2.0",
      "model_name": "LayoutModel",
      "state": {}
     },
     "c522c3ffd72547d08ea6629294f955cc": {
      "model_module": "@jupyter-widgets/base",
      "model_module_version": "1.2.0",
      "model_name": "LayoutModel",
      "state": {
       "align_items": "stretch",
       "border": "dashed 0.2px green",
       "display": "flex",
       "flex_flow": "row",
       "grid_auto_columns": "True",
       "justify_content": "flex-start",
       "width": "100%"
      }
     },
     "c532a054caf14be38f902481a5a694b2": {
      "model_module": "@jupyter-widgets/base",
      "model_module_version": "1.2.0",
      "model_name": "LayoutModel",
      "state": {}
     },
     "c54b4898579b47ee8120467b4920a6f0": {
      "model_module": "@jupyter-widgets/controls",
      "model_module_version": "1.5.0",
      "model_name": "HBoxModel",
      "state": {
       "children": [
        "IPY_MODEL_acf009c320cb4a18981c28bd85e58920"
       ],
       "layout": "IPY_MODEL_a448341e003a439e9707aaaa00782299"
      }
     },
     "c55bb28f8ce147b0a6da3492dfa26c75": {
      "model_module": "@jupyter-widgets/controls",
      "model_module_version": "1.5.0",
      "model_name": "HBoxModel",
      "state": {
       "children": [
        "IPY_MODEL_a060679cbb91474d8fc2df1a29396a5c",
        "IPY_MODEL_791f2a9031db4165ad13ebc466064b19"
       ],
       "layout": "IPY_MODEL_37e57d80ae5c4b3c88a5f323976ddbc9"
      }
     },
     "c5a2992d6f0646489cea9525aca247af": {
      "model_module": "@jupyter-widgets/controls",
      "model_module_version": "1.5.0",
      "model_name": "DescriptionStyleModel",
      "state": {
       "description_width": ""
      }
     },
     "c5e16ffdb7514969906b6fa0e3d2e405": {
      "model_module": "@jupyter-widgets/base",
      "model_module_version": "1.2.0",
      "model_name": "LayoutModel",
      "state": {}
     },
     "c5e3a5c478b34637bbca604eea9f6da9": {
      "model_module": "@jupyter-widgets/base",
      "model_module_version": "1.2.0",
      "model_name": "LayoutModel",
      "state": {}
     },
     "c666f846b27e41de934cf24edaad8b50": {
      "model_module": "@jupyter-widgets/base",
      "model_module_version": "1.2.0",
      "model_name": "LayoutModel",
      "state": {}
     },
     "c68ab9e5429c45c7a03586c676d82174": {
      "model_module": "@jupyter-widgets/controls",
      "model_module_version": "1.5.0",
      "model_name": "HBoxModel",
      "state": {
       "children": [
        "IPY_MODEL_9647fb54617c42918dc20019b7ef6352",
        "IPY_MODEL_4e7a5a15de5445e5b0a50731a86b8696"
       ],
       "layout": "IPY_MODEL_82da4030eae7491b93a07a8da047d285"
      }
     },
     "c6f09bce885c4712aea898946319dbb7": {
      "model_module": "@jupyter-widgets/controls",
      "model_module_version": "1.5.0",
      "model_name": "DescriptionStyleModel",
      "state": {
       "description_width": ""
      }
     },
     "c6f2f0ae8c9f48ceacc04e5a6b692c81": {
      "model_module": "@jupyter-widgets/controls",
      "model_module_version": "1.5.0",
      "model_name": "HTMLModel",
      "state": {
       "layout": "IPY_MODEL_2b1b356a93e84235abb5d1e869065bea",
       "style": "IPY_MODEL_08a81186d1944eeb8de8d8f352e641a3",
       "value": "<p>reus foo ous oo ous foo st</p>"
      }
     },
     "c71e2d5c8758492b951b16e72b03391a": {
      "model_module": "@jupyter-widgets/base",
      "model_module_version": "1.2.0",
      "model_name": "LayoutModel",
      "state": {}
     },
     "c746c3af10b94b259831d5100063e621": {
      "model_module": "@jupyter-widgets/controls",
      "model_module_version": "1.5.0",
      "model_name": "DropdownModel",
      "state": {
       "_options_labels": [
        "asfd",
        "10",
        "asdf"
       ],
       "index": 1,
       "layout": "IPY_MODEL_97c2846ef38549d7b6445ea1d8eb1941",
       "style": "IPY_MODEL_58c783a1a21a42568a5a02e31cec5e08"
      }
     },
     "c7870d4511ec485aa78903568e6f3684": {
      "model_module": "@jupyter-widgets/base",
      "model_module_version": "1.2.0",
      "model_name": "LayoutModel",
      "state": {
       "align_items": "stretch",
       "display": "flex",
       "flex_flow": "row",
       "grid_auto_columns": "True",
       "justify_content": "flex-end",
       "width": "90%"
      }
     },
     "c78976278fe448f89b8a0f2fe0f3efa5": {
      "model_module": "@jupyter-widgets/controls",
      "model_module_version": "1.5.0",
      "model_name": "HBoxModel",
      "state": {
       "children": [
        "IPY_MODEL_ee730843348a4a37b583b8eb607f58c7",
        "IPY_MODEL_729d432a372b49adbd3272061717ad9f"
       ],
       "layout": "IPY_MODEL_3c7d019a3fe44c00935a80d69b28fb08"
      }
     },
     "c790a14e825941f3b64e506d95929efb": {
      "model_module": "@jupyter-widgets/controls",
      "model_module_version": "1.5.0",
      "model_name": "DescriptionStyleModel",
      "state": {
       "description_width": ""
      }
     },
     "c7afa6fc1cf84afcbe97e4751ec5f94c": {
      "model_module": "@jupyter-widgets/base",
      "model_module_version": "1.2.0",
      "model_name": "LayoutModel",
      "state": {}
     },
     "c7dd2c63e0df478395089b6ad6654ffd": {
      "model_module": "@jupyter-widgets/output",
      "model_module_version": "1.0.0",
      "model_name": "OutputModel",
      "state": {
       "layout": "IPY_MODEL_358a383e36664ca08de70675e1762e14"
      }
     },
     "c81d61f164c1458a95c4dfecd4294c5e": {
      "model_module": "@jupyter-widgets/controls",
      "model_module_version": "1.5.0",
      "model_name": "HTMLModel",
      "state": {
       "layout": "IPY_MODEL_6c1b3ec2cb084deca4cd3e7ce007f4a3",
       "style": "IPY_MODEL_83769952a04e46769580882d1470f821",
       "value": "<p>Tag for the Model, used within file naming</p>"
      }
     },
     "c8267c3e9de2444c9c737c66c2123f5a": {
      "model_module": "@jupyter-widgets/base",
      "model_module_version": "1.2.0",
      "model_name": "LayoutModel",
      "state": {}
     },
     "c834b875bdf14c219b8068da3e697616": {
      "model_module": "@jupyter-widgets/base",
      "model_module_version": "1.2.0",
      "model_name": "LayoutModel",
      "state": {
       "align_items": "stretch",
       "border": "dashed 0.2px green",
       "display": "flex",
       "flex_flow": "row",
       "grid_auto_columns": "True",
       "justify_content": "flex-start",
       "width": "100%"
      }
     },
     "c845af1f028c47ff901a200f7ab020dd": {
      "model_module": "@jupyter-widgets/controls",
      "model_module_version": "1.5.0",
      "model_name": "DescriptionStyleModel",
      "state": {
       "description_width": ""
      }
     },
     "c86188223b8b4304a9328c9f990a9709": {
      "model_module": "@jupyter-widgets/controls",
      "model_module_version": "1.5.0",
      "model_name": "DescriptionStyleModel",
      "state": {
       "description_width": ""
      }
     },
     "c86784e1ec0a477f8b253bdab71f5deb": {
      "model_module": "@jupyter-widgets/controls",
      "model_module_version": "1.5.0",
      "model_name": "DescriptionStyleModel",
      "state": {
       "description_width": ""
      }
     },
     "c87d1508c6b549998a6cc08160bdc13e": {
      "model_module": "@jupyter-widgets/controls",
      "model_module_version": "1.5.0",
      "model_name": "DescriptionStyleModel",
      "state": {
       "description_width": ""
      }
     },
     "c885042c588b4089a265762174fc3843": {
      "model_module": "@jupyter-widgets/controls",
      "model_module_version": "1.5.0",
      "model_name": "ButtonModel",
      "state": {
       "button_style": "warning",
       "description": "revert to last save",
       "layout": "IPY_MODEL_eb8667abbf074fffaad047c7084589cd",
       "style": "IPY_MODEL_46542fc8d83f465d98c139be8e4fe26b"
      }
     },
     "c891ea6d0e794dbb85d71f929d764dbb": {
      "model_module": "@jupyter-widgets/controls",
      "model_module_version": "1.5.0",
      "model_name": "ButtonStyleModel",
      "state": {}
     },
     "c8b3ba7b149049fc9d566a5b00761690": {
      "model_module": "@jupyter-widgets/controls",
      "model_module_version": "1.5.0",
      "model_name": "HBoxModel",
      "state": {
       "children": [
        "IPY_MODEL_ad3a5d02a74a4d34943b6bc2d328587a",
        "IPY_MODEL_3728e58bbbb34427a8521992928ed7fc"
       ],
       "layout": "IPY_MODEL_6856ede7cd6a41c78ade8050c705c2d8"
      }
     },
     "c8e417b7a14c4de29ca3e3a0e13d8305": {
      "model_module": "@jupyter-widgets/controls",
      "model_module_version": "1.5.0",
      "model_name": "DescriptionStyleModel",
      "state": {
       "description_width": ""
      }
     },
     "c8fbed8e000a4d8e880ca9ad03dbcafc": {
      "model_module": "@jupyter-widgets/base",
      "model_module_version": "1.2.0",
      "model_name": "LayoutModel",
      "state": {
       "align_items": "stretch",
       "border": "dashed 0.2px green",
       "display": "flex",
       "flex_flow": "row",
       "grid_auto_columns": "True",
       "justify_content": "flex-start",
       "width": "100%"
      }
     },
     "c91fe94a7b3b42deadcba5f8b1a67291": {
      "model_module": "@jupyter-widgets/base",
      "model_module_version": "1.2.0",
      "model_name": "LayoutModel",
      "state": {}
     },
     "c92defd5c5b940a4bb304cc408113d6a": {
      "model_module": "@jupyter-widgets/base",
      "model_module_version": "1.2.0",
      "model_name": "LayoutModel",
      "state": {}
     },
     "c9897181fe894b178d4251744ff9bd00": {
      "model_module": "@jupyter-widgets/base",
      "model_module_version": "1.2.0",
      "model_name": "LayoutModel",
      "state": {}
     },
     "c9ea25e5f6f8485c84a87d674163fb49": {
      "model_module": "@jupyter-widgets/base",
      "model_module_version": "1.2.0",
      "model_name": "LayoutModel",
      "state": {}
     },
     "c9fee88b51474023a09720e9df163127": {
      "model_module": "@jupyter-widgets/controls",
      "model_module_version": "1.5.0",
      "model_name": "HBoxModel",
      "state": {
       "children": [
        "IPY_MODEL_aee0820baf1f4e13be54656848098d35",
        "IPY_MODEL_cc076cb940254af7a3b3f2ea920e59f2"
       ],
       "layout": "IPY_MODEL_0062681bc76c4b3ebb9a4f9bbb434705"
      }
     },
     "ca401aa524404576af6e7e3019018275": {
      "model_module": "@jupyter-widgets/base",
      "model_module_version": "1.2.0",
      "model_name": "LayoutModel",
      "state": {
       "align_items": "stretch",
       "display": "flex",
       "flex_flow": "row",
       "grid_auto_columns": "True",
       "justify_content": "flex-start",
       "width": "80%"
      }
     },
     "ca604a191e794f108b1be0ac1dfa1142": {
      "model_module": "@jupyter-widgets/controls",
      "model_module_version": "1.5.0",
      "model_name": "HBoxModel",
      "state": {
       "children": [
        "IPY_MODEL_15e2803754fa4d3a8fbffe2455b7d46a"
       ],
       "layout": "IPY_MODEL_3ad7d1de92b5483aa880116938e04efd"
      }
     },
     "ca6b41fe81fd41c4995e173689c7997b": {
      "model_module": "@jupyter-widgets/base",
      "model_module_version": "1.2.0",
      "model_name": "LayoutModel",
      "state": {
       "align_items": "stretch",
       "border": "dashed 0.2px green",
       "display": "flex",
       "flex_flow": "row",
       "grid_auto_columns": "True",
       "justify_content": "flex-start",
       "width": "100%"
      }
     },
     "ca777d93328447c2b9e01c470719e8b4": {
      "model_module": "@jupyter-widgets/base",
      "model_module_version": "1.2.0",
      "model_name": "LayoutModel",
      "state": {
       "align_items": "stretch",
       "display": "flex",
       "flex_flow": "row",
       "grid_auto_columns": "True",
       "justify_content": "flex-start",
       "width": "80%"
      }
     },
     "ca8a12f399ad4070aa9bf610ca647794": {
      "model_module": "@jupyter-widgets/controls",
      "model_module_version": "1.5.0",
      "model_name": "HTMLModel",
      "state": {
       "layout": "IPY_MODEL_6ce3151695df41f2b48c47aa533b5248",
       "style": "IPY_MODEL_474f35b39e564002bb45c08759351ffa",
       "value": "<p>its a foo cake</p>"
      }
     },
     "caa472f14c1a4d4faae7ea13f99eae42": {
      "model_module": "@jupyter-widgets/base",
      "model_module_version": "1.2.0",
      "model_name": "LayoutModel",
      "state": {}
     },
     "cb4f3c993b7c4ea48da640b936914745": {
      "model_module": "@jupyter-widgets/controls",
      "model_module_version": "1.5.0",
      "model_name": "ButtonStyleModel",
      "state": {
       "font_weight": "bold"
      }
     },
     "cba0e1ff21484fda9d5c042fb695a21d": {
      "model_module": "@jupyter-widgets/base",
      "model_module_version": "1.2.0",
      "model_name": "LayoutModel",
      "state": {
       "align_items": "stretch",
       "display": "flex",
       "flex_flow": "row",
       "grid_auto_columns": "True",
       "justify_content": "flex-start",
       "width": "80%"
      }
     },
     "cba6a0558ad04f30a4514d6d4619a660": {
      "model_module": "@jupyter-widgets/controls",
      "model_module_version": "1.5.0",
      "model_name": "VBoxModel",
      "state": {
       "layout": "IPY_MODEL_38dcfb6c4cd54c609b77ac7bc555efb2"
      }
     },
     "cbc21076a10346f894055144fbdaf905": {
      "model_module": "@jupyter-widgets/controls",
      "model_module_version": "1.5.0",
      "model_name": "DescriptionStyleModel",
      "state": {
       "description_width": ""
      }
     },
     "cbdd3b10dca1427e9e005c2bff119f15": {
      "model_module": "@jupyter-widgets/base",
      "model_module_version": "1.2.0",
      "model_name": "LayoutModel",
      "state": {}
     },
     "cbec460e78a743ae9f8681588b20565f": {
      "model_module": "@jupyter-widgets/controls",
      "model_module_version": "1.5.0",
      "model_name": "DescriptionStyleModel",
      "state": {
       "description_width": ""
      }
     },
     "cbf16cfc3c6940e9b0415f3739ff6386": {
      "model_module": "@jupyter-widgets/base",
      "model_module_version": "1.2.0",
      "model_name": "LayoutModel",
      "state": {}
     },
     "cc076cb940254af7a3b3f2ea920e59f2": {
      "model_module": "@jupyter-widgets/controls",
      "model_module_version": "1.5.0",
      "model_name": "HTMLModel",
      "state": {
       "layout": "IPY_MODEL_a247a861459c4e019c8a927c05173466",
       "style": "IPY_MODEL_9b841d706139446f93c2c76355e8e622",
       "value": "<p>Number, using to prefix the file name</p>"
      }
     },
     "cc69d23f80ad47278bf904d50cd74bf5": {
      "model_module": "@jupyter-widgets/controls",
      "model_module_version": "1.5.0",
      "model_name": "HBoxModel",
      "state": {
       "children": [
        "IPY_MODEL_eca65eb68b46413dae6c60ffcdcbe269",
        "IPY_MODEL_78cda4afea7f40808d6ff74e9312e811"
       ],
       "layout": "IPY_MODEL_2449f98cc60d4078af4230a49a9e85c2"
      }
     },
     "cc79e7fbccb54668808a26781db39ff4": {
      "model_module": "@jupyter-widgets/controls",
      "model_module_version": "1.5.0",
      "model_name": "HBoxModel",
      "state": {
       "children": [
        "IPY_MODEL_8730956791b7493fae6006c97e32236f",
        "IPY_MODEL_ad9801dee85d46ee972c0411c4aacfca"
       ],
       "layout": "IPY_MODEL_5791fc97d6a84289bd845d7b696d69be"
      }
     },
     "cc95b428f9bf49628b522517df16cffc": {
      "model_module": "@jupyter-widgets/base",
      "model_module_version": "1.2.0",
      "model_name": "LayoutModel",
      "state": {
       "align_items": "stretch",
       "display": "flex",
       "flex_flow": "row",
       "grid_auto_columns": "True",
       "justify_content": "flex-end",
       "width": "90%"
      }
     },
     "cd25d4cc1546450a8f99db6e6d7c52ed": {
      "model_module": "@jupyter-widgets/base",
      "model_module_version": "1.2.0",
      "model_name": "LayoutModel",
      "state": {
       "align_items": "stretch",
       "display": "flex",
       "flex_flow": "row",
       "grid_auto_columns": "True",
       "justify_content": "flex-start",
       "width": "80%"
      }
     },
     "cd3c27a1289e40758f8798c38fb62ca1": {
      "model_module": "@jupyter-widgets/base",
      "model_module_version": "1.2.0",
      "model_name": "LayoutModel",
      "state": {
       "align_items": "stretch",
       "border": "dashed 0.2px green",
       "display": "flex",
       "flex_flow": "row",
       "grid_auto_columns": "True",
       "justify_content": "flex-start",
       "width": "100%"
      }
     },
     "cd74492a3b8a43ae8c878954dafb8790": {
      "model_module": "@jupyter-widgets/base",
      "model_module_version": "1.2.0",
      "model_name": "LayoutModel",
      "state": {
       "align_items": "stretch",
       "border": "dashed 0.2px green",
       "display": "flex",
       "flex_flow": "row",
       "grid_auto_columns": "True",
       "justify_content": "flex-start",
       "width": "100%"
      }
     },
     "cd7b7234db974565a8607dd735c3292a": {
      "model_module": "@jupyter-widgets/controls",
      "model_module_version": "1.5.0",
      "model_name": "DescriptionStyleModel",
      "state": {
       "description_width": ""
      }
     },
     "cde9dc701ac84be79ac7a92590bee8b8": {
      "model_module": "@jupyter-widgets/controls",
      "model_module_version": "1.5.0",
      "model_name": "HTMLModel",
      "state": {
       "layout": "IPY_MODEL_571fa5525b6a4f73b6ace6a05b2a7722",
       "style": "IPY_MODEL_04ba8a615e324471b85710119bf5e598",
       "value": "<p>Test</p>"
      }
     },
     "cdf13fe73c234d8ba98183d64a320eed": {
      "model_module": "@jupyter-widgets/controls",
      "model_module_version": "1.5.0",
      "model_name": "DescriptionStyleModel",
      "state": {
       "description_width": ""
      }
     },
     "cdf8a85be33a45ca837ff75c2ab991ff": {
      "model_module": "@jupyter-widgets/base",
      "model_module_version": "1.2.0",
      "model_name": "LayoutModel",
      "state": {}
     },
     "cdfdab645859455986353672596a868d": {
      "model_module": "@jupyter-widgets/base",
      "model_module_version": "1.2.0",
      "model_name": "LayoutModel",
      "state": {}
     },
     "ce0400d7312140629a7955b86267e2e7": {
      "model_module": "@jupyter-widgets/base",
      "model_module_version": "1.2.0",
      "model_name": "LayoutModel",
      "state": {
       "align_items": "stretch",
       "display": "flex",
       "flex_flow": "row",
       "grid_auto_columns": "True",
       "justify_content": "flex-end",
       "width": "90%"
      }
     },
     "ce58277a4f1c44f184b340881de0145f": {
      "model_module": "@jupyter-widgets/controls",
      "model_module_version": "1.5.0",
      "model_name": "ToggleButtonModel",
      "state": {
       "icon": "arrow-down",
       "layout": "IPY_MODEL_35014bf7f745494e852b862f101fdb22",
       "style": "IPY_MODEL_42959c0406094d31ada073668b40ca5b"
      }
     },
     "ce715658e30b43049be75a9d2835d0fe": {
      "model_module": "@jupyter-widgets/base",
      "model_module_version": "1.2.0",
      "model_name": "LayoutModel",
      "state": {}
     },
     "cead7e8d00e5450abfac9384f8c2d7e0": {
      "model_module": "@jupyter-widgets/controls",
      "model_module_version": "1.5.0",
      "model_name": "HBoxModel",
      "state": {
       "children": [
        "IPY_MODEL_c6f2f0ae8c9f48ceacc04e5a6b692c81",
        "IPY_MODEL_0f577023f57448ee9322464b88d35dca"
       ],
       "layout": "IPY_MODEL_282e95f07f294c9b9b391d19f1f9e007"
      }
     },
     "cec53037a60847ff8fbe37092b238411": {
      "model_module": "@jupyter-widgets/controls",
      "model_module_version": "1.5.0",
      "model_name": "HTMLModel",
      "state": {
       "layout": "IPY_MODEL_fcd2acbc8c5744e09c22256276df615a",
       "style": "IPY_MODEL_90441b8772b04596b1d0a27b58af35f9",
       "value": "<p>label</p>"
      }
     },
     "ced34f2a42924bdd8d7fcc4b32bc3da3": {
      "model_module": "@jupyter-widgets/controls",
      "model_module_version": "1.5.0",
      "model_name": "HTMLModel",
      "state": {
       "layout": "IPY_MODEL_b6c81311a99c4f3cbca7c0faa9745e2b",
       "style": "IPY_MODEL_dccfd26bf3184c698c82593e817c3c37",
       "value": "<p>edit user input form below</p>"
      }
     },
     "cedf5fc36b1d4c6bb900c2df8d74c8b3": {
      "model_module": "@jupyter-widgets/base",
      "model_module_version": "1.2.0",
      "model_name": "LayoutModel",
      "state": {
       "align_items": "stretch",
       "display": "flex",
       "flex_flow": "row",
       "grid_auto_columns": "True",
       "justify_content": "flex-end",
       "width": "90%"
      }
     },
     "cee977b990a0489d9b6f7ef128b1fd78": {
      "model_module": "@jupyter-widgets/controls",
      "model_module_version": "1.5.0",
      "model_name": "HBoxModel",
      "state": {
       "children": [
        "IPY_MODEL_d86905ec52d7440f83a4119cf406c9c9",
        "IPY_MODEL_e57efa77fd6745ef8cedda1040e45961"
       ],
       "layout": "IPY_MODEL_a240d5261b174df9bf85d6b658c5aae3"
      }
     },
     "cf0ca3cd5f4c433d888c1f6c4eed8a55": {
      "model_module": "@jupyter-widgets/controls",
      "model_module_version": "1.5.0",
      "model_name": "DescriptionStyleModel",
      "state": {
       "description_width": ""
      }
     },
     "cf3f216a5ec64e5db973f06cfa53e6dd": {
      "model_module": "@jupyter-widgets/controls",
      "model_module_version": "1.5.0",
      "model_name": "HBoxModel",
      "state": {
       "children": [
        "IPY_MODEL_e16153aacdd54554aa0e5d7f1e212d9f",
        "IPY_MODEL_c4cdfe5238414cf29e7c40a297c7611f"
       ],
       "layout": "IPY_MODEL_f45d4d8fdf90473180b5beecc96a0fb6"
      }
     },
     "cf5b754bfc0b42c7a5dedaa4c1b0f2b0": {
      "model_module": "@jupyter-widgets/controls",
      "model_module_version": "1.5.0",
      "model_name": "ButtonStyleModel",
      "state": {
       "font_weight": "bold"
      }
     },
     "cf5d27861ebc4becb60bcf66d7fa8c64": {
      "model_module": "@jupyter-widgets/controls",
      "model_module_version": "1.5.0",
      "model_name": "FloatTextModel",
      "state": {
       "layout": "IPY_MODEL_9deae2d30f234c5a95569c93f704ae71",
       "step": null,
       "style": "IPY_MODEL_c5a2992d6f0646489cea9525aca247af",
       "value": 19
      }
     },
     "cfaac3384f374cfa9eeef3632e028140": {
      "model_module": "@jupyter-widgets/base",
      "model_module_version": "1.2.0",
      "model_name": "LayoutModel",
      "state": {
       "width": "5%"
      }
     },
     "d02d437ea41349009a0c76a879dfda87": {
      "model_module": "@jupyter-widgets/controls",
      "model_module_version": "1.5.0",
      "model_name": "DescriptionStyleModel",
      "state": {
       "description_width": ""
      }
     },
     "d078db30e1994f31adfa7070afa1656e": {
      "model_module": "@jupyter-widgets/base",
      "model_module_version": "1.2.0",
      "model_name": "LayoutModel",
      "state": {
       "align_items": "stretch",
       "display": "flex",
       "flex_flow": "row",
       "grid_auto_columns": "True",
       "justify_content": "flex-start",
       "width": "80%"
      }
     },
     "d0a2a476044d44f4bb1c467d5ad39a84": {
      "model_module": "@jupyter-widgets/base",
      "model_module_version": "1.2.0",
      "model_name": "LayoutModel",
      "state": {
       "align_items": "stretch",
       "display": "flex",
       "flex_flow": "row",
       "grid_auto_columns": "True",
       "justify_content": "flex-start",
       "width": "80%"
      }
     },
     "d0a41f7012da42a18bebebcf5e5022fc": {
      "model_module": "@jupyter-widgets/base",
      "model_module_version": "1.2.0",
      "model_name": "LayoutModel",
      "state": {}
     },
     "d0e880eb8f5c4a4392760b07fead9217": {
      "model_module": "@jupyter-widgets/controls",
      "model_module_version": "1.5.0",
      "model_name": "HTMLModel",
      "state": {
       "layout": "IPY_MODEL_408cb1442412429390252f278e0f4bf9",
       "style": "IPY_MODEL_502b5c82d0994412b8e0d275601fc155",
       "value": "<p>its a delicious foo cake</p>"
      }
     },
     "d16ab2a360bb4688a26457ee8f442c33": {
      "model_module": "@jupyter-widgets/controls",
      "model_module_version": "1.5.0",
      "model_name": "DescriptionStyleModel",
      "state": {
       "description_width": ""
      }
     },
     "d192c44dda0a48fa963b48aa3929baa2": {
      "model_module": "@jupyter-widgets/output",
      "model_module_version": "1.0.0",
      "model_name": "OutputModel",
      "state": {
       "layout": "IPY_MODEL_7d84e6a669b54f1c9a676097cae1644c"
      }
     },
     "d194fe4262cd4ecf83b9938425ffa0e9": {
      "model_module": "@jupyter-widgets/controls",
      "model_module_version": "1.5.0",
      "model_name": "DescriptionStyleModel",
      "state": {
       "description_width": ""
      }
     },
     "d216895845874cd28568112a0229db40": {
      "model_module": "@jupyter-widgets/controls",
      "model_module_version": "1.5.0",
      "model_name": "HTMLModel",
      "state": {
       "layout": "IPY_MODEL_6767d067e1ef490e9a20e6884e71fa40",
       "style": "IPY_MODEL_fbd761e5f3cd4a81902bbc4b2f59f138",
       "value": "<p>Model Desc</p>"
      }
     },
     "d231c01f50c34beeabb47a26cd9e0db3": {
      "model_module": "@jupyter-widgets/base",
      "model_module_version": "1.2.0",
      "model_name": "LayoutModel",
      "state": {
       "align_items": "stretch",
       "border": "dashed 0.2px green",
       "display": "flex",
       "flex_flow": "row",
       "grid_auto_columns": "True",
       "justify_content": "flex-start",
       "width": "100%"
      }
     },
     "d2b274c79b3041b1b087a98b675b4e3b": {
      "model_module": "@jupyter-widgets/controls",
      "model_module_version": "1.5.0",
      "model_name": "DescriptionStyleModel",
      "state": {
       "description_width": ""
      }
     },
     "d2caa0604acd417eb0bf11760c7a39ba": {
      "model_module": "@jupyter-widgets/controls",
      "model_module_version": "1.5.0",
      "model_name": "HBoxModel",
      "state": {
       "children": [
        "IPY_MODEL_e5f9846f59b74814b267bac428f87c79",
        "IPY_MODEL_b90241d1f9f64719ad80dfda85b8d366"
       ],
       "layout": "IPY_MODEL_d4cdd22f6bcc47eab1ca05732892aeee"
      }
     },
     "d2eaeb5aa5f344079e54103a40891e72": {
      "model_module": "@jupyter-widgets/base",
      "model_module_version": "1.2.0",
      "model_name": "LayoutModel",
      "state": {}
     },
     "d307c280500242ce8ebe5fa6795e7588": {
      "model_module": "@jupyter-widgets/base",
      "model_module_version": "1.2.0",
      "model_name": "LayoutModel",
      "state": {}
     },
     "d34edb7cb4a84fcebeb5b024b92c0055": {
      "model_module": "@jupyter-widgets/output",
      "model_module_version": "1.0.0",
      "model_name": "OutputModel",
      "state": {
       "layout": "IPY_MODEL_82707ca68b1c4f64b0873dad6f3721a2"
      }
     },
     "d35247d194c64e0b8a196ebb454a3408": {
      "model_module": "@jupyter-widgets/controls",
      "model_module_version": "1.5.0",
      "model_name": "HTMLModel",
      "state": {
       "layout": "IPY_MODEL_863ff267e23146b2a03d4e301737ec28",
       "style": "IPY_MODEL_a1979678c89f44e7b8362676e496fbb5",
       "value": "<p>5th section of space name code (enter None if 5th section doesn't exist)</p>"
      }
     },
     "d3f202091462433d89d665dda7ad41e4": {
      "model_module": "@jupyter-widgets/base",
      "model_module_version": "1.2.0",
      "model_name": "LayoutModel",
      "state": {}
     },
     "d4bd3710a479438a96f68f0fa8ac5288": {
      "model_module": "@jupyter-widgets/base",
      "model_module_version": "1.2.0",
      "model_name": "LayoutModel",
      "state": {}
     },
     "d4ccd38eb57d439bb5fec34576d9a6db": {
      "model_module": "@jupyter-widgets/base",
      "model_module_version": "1.2.0",
      "model_name": "LayoutModel",
      "state": {}
     },
     "d4cdd22f6bcc47eab1ca05732892aeee": {
      "model_module": "@jupyter-widgets/base",
      "model_module_version": "1.2.0",
      "model_name": "LayoutModel",
      "state": {
       "align_items": "stretch",
       "display": "flex",
       "flex_flow": "row",
       "grid_auto_columns": "True",
       "justify_content": "flex-end",
       "width": "90%"
      }
     },
     "d4d446dabe824a719c6119cdf4980f62": {
      "model_module": "@jupyter-widgets/controls",
      "model_module_version": "1.5.0",
      "model_name": "DescriptionStyleModel",
      "state": {
       "description_width": ""
      }
     },
     "d4e1df5ac5604c73b1f6a4f0ad31abd1": {
      "model_module": "@jupyter-widgets/base",
      "model_module_version": "1.2.0",
      "model_name": "LayoutModel",
      "state": {
       "align_items": "stretch",
       "border": "dashed 0.2px green",
       "display": "flex",
       "flex_flow": "row",
       "grid_auto_columns": "True",
       "justify_content": "flex-start",
       "width": "100%"
      }
     },
     "d4e8779296884a5aac7e001ce7f0f738": {
      "model_module": "@jupyter-widgets/controls",
      "model_module_version": "1.5.0",
      "model_name": "DescriptionStyleModel",
      "state": {
       "description_width": ""
      }
     },
     "d50058716a434d6ea4b8e2112c1efc40": {
      "model_module": "@jupyter-widgets/controls",
      "model_module_version": "1.5.0",
      "model_name": "DescriptionStyleModel",
      "state": {
       "description_width": ""
      }
     },
     "d53a7180feaa4364b518d82f63d580aa": {
      "model_module": "@jupyter-widgets/controls",
      "model_module_version": "1.5.0",
      "model_name": "DescriptionStyleModel",
      "state": {
       "description_width": ""
      }
     },
     "d54cd76b8d6f41e794599d5a21aa2abe": {
      "model_module": "@jupyter-widgets/base",
      "model_module_version": "1.2.0",
      "model_name": "LayoutModel",
      "state": {}
     },
     "d5949f8a86564e84b223caba37299f2d": {
      "model_module": "@jupyter-widgets/base",
      "model_module_version": "1.2.0",
      "model_name": "LayoutModel",
      "state": {
       "align_items": "stretch",
       "border": "dashed 0.2px green",
       "display": "flex",
       "flex_flow": "row",
       "grid_auto_columns": "True",
       "justify_content": "flex-start",
       "width": "100%"
      }
     },
     "d5b57dae2d424792a4308b170a659c85": {
      "model_module": "@jupyter-widgets/controls",
      "model_module_version": "1.5.0",
      "model_name": "HTMLModel",
      "state": {
       "layout": "IPY_MODEL_51ea060f25ba4a7ea8db3eadd26b22bc",
       "style": "IPY_MODEL_bca2b176474743a7afbbaca5e328924c",
       "value": "<p>General Description of the Model</p>"
      }
     },
     "d5bf43818cc940ec87e534592887ecb2": {
      "model_module": "@jupyter-widgets/output",
      "model_module_version": "1.0.0",
      "model_name": "OutputModel",
      "state": {
       "layout": "IPY_MODEL_208b8c70f82b40c3aedb72fe7a10c856"
      }
     },
     "d5f0da38132f4766a28bbedf85d792e4": {
      "model_module": "@jupyter-widgets/controls",
      "model_module_version": "1.5.0",
      "model_name": "DropdownModel",
      "state": {
       "_options_labels": [
        "asfd",
        "10",
        "asdf"
       ],
       "index": 1,
       "layout": "IPY_MODEL_2cf9a09225654e0ca163b76ac8f7b7ad",
       "style": "IPY_MODEL_346b2854950b44b79781222dbc2f4335"
      }
     },
     "d5fa1faf6c6345cc83b169ada69cf820": {
      "model_module": "@jupyter-widgets/base",
      "model_module_version": "1.2.0",
      "model_name": "LayoutModel",
      "state": {
       "display": "flex",
       "flex_flow": "row",
       "grid_auto_columns": "False",
       "justify_content": "flex-start",
       "width": "100%"
      }
     },
     "d5fe8bb0d4de446997f91b80611e0a77": {
      "model_module": "@jupyter-widgets/base",
      "model_module_version": "1.2.0",
      "model_name": "LayoutModel",
      "state": {}
     },
     "d6097a77289c48da91ab68a6cdd6b639": {
      "model_module": "@jupyter-widgets/output",
      "model_module_version": "1.0.0",
      "model_name": "OutputModel",
      "state": {
       "layout": "IPY_MODEL_f619c2e2f39f4222971236e2e9a22174"
      }
     },
     "d61f664abf3a42618c5cb799fc2872fb": {
      "model_module": "@jupyter-widgets/controls",
      "model_module_version": "1.5.0",
      "model_name": "DescriptionStyleModel",
      "state": {
       "description_width": ""
      }
     },
     "d63222d1e1bd4c5e8fb711985ff2cc80": {
      "model_module": "@jupyter-widgets/base",
      "model_module_version": "1.2.0",
      "model_name": "LayoutModel",
      "state": {}
     },
     "d65b4d5ac1654d74828db72f79cd36c0": {
      "model_module": "@jupyter-widgets/controls",
      "model_module_version": "1.5.0",
      "model_name": "HBoxModel",
      "state": {
       "children": [
        "IPY_MODEL_431bc2ccbfe2411e8687679a9ec3ac22"
       ],
       "layout": "IPY_MODEL_18de2951df45482f961ffae3b765e55e"
      }
     },
     "d6d199fdb3cd43098fa49cb704f0977a": {
      "model_module": "@jupyter-widgets/controls",
      "model_module_version": "1.5.0",
      "model_name": "DescriptionStyleModel",
      "state": {
       "description_width": ""
      }
     },
     "d70d1dbfab8b4121968ff7ed46431f1e": {
      "model_module": "@jupyter-widgets/base",
      "model_module_version": "1.2.0",
      "model_name": "LayoutModel",
      "state": {
       "align_items": "stretch",
       "display": "flex",
       "flex_flow": "row",
       "grid_auto_columns": "True",
       "justify_content": "flex-end",
       "width": "90%"
      }
     },
     "d72c16b1fa1a454485ca16a51ba8297d": {
      "model_module": "@jupyter-widgets/base",
      "model_module_version": "1.2.0",
      "model_name": "LayoutModel",
      "state": {}
     },
     "d74c9ccb9744429eb61ba87503c5a9ee": {
      "model_module": "@jupyter-widgets/base",
      "model_module_version": "1.2.0",
      "model_name": "LayoutModel",
      "state": {}
     },
     "d753987d86954cfdabc6e0aab2332f3a": {
      "model_module": "@jupyter-widgets/base",
      "model_module_version": "1.2.0",
      "model_name": "LayoutModel",
      "state": {}
     },
     "d783d58d66e04d72bda767dc597087c1": {
      "model_module": "@jupyter-widgets/output",
      "model_module_version": "1.0.0",
      "model_name": "OutputModel",
      "state": {
       "layout": "IPY_MODEL_b6948d8f36314679a044c1477fea748b"
      }
     },
     "d7c7d82ea37d440ea726297411819471": {
      "model_module": "@jupyter-widgets/base",
      "model_module_version": "1.2.0",
      "model_name": "LayoutModel",
      "state": {}
     },
     "d7d9c6eaa4f3419f9d8618d9b7476eb9": {
      "model_module": "@jupyter-widgets/base",
      "model_module_version": "1.2.0",
      "model_name": "LayoutModel",
      "state": {
       "align_items": "stretch",
       "display": "flex",
       "flex_flow": "row",
       "grid_auto_columns": "True",
       "justify_content": "flex-end",
       "width": "90%"
      }
     },
     "d809305903c747aab8fe660b53385370": {
      "model_module": "@jupyter-widgets/controls",
      "model_module_version": "1.5.0",
      "model_name": "DescriptionStyleModel",
      "state": {
       "description_width": ""
      }
     },
     "d828e809c2df4f46bf9311dd26813b3e": {
      "model_module": "@jupyter-widgets/base",
      "model_module_version": "1.2.0",
      "model_name": "LayoutModel",
      "state": {
       "align_items": "stretch",
       "display": "flex",
       "flex_flow": "row",
       "grid_auto_columns": "True",
       "justify_content": "flex-end",
       "width": "90%"
      }
     },
     "d83bfdbc696c4836bfa71ef2b7f08d01": {
      "model_module": "@jupyter-widgets/controls",
      "model_module_version": "1.5.0",
      "model_name": "HTMLModel",
      "state": {
       "layout": "IPY_MODEL_62d1bc563cd846cab806764bb7c0d373",
       "style": "IPY_MODEL_94e21b874f57472dbdc4b2575de20488",
       "value": "<p>4th section of space name code (enter None if 4th section doesn't exist)</p>"
      }
     },
     "d8478dfea81342c69276c24ebf388de1": {
      "model_module": "@jupyter-widgets/base",
      "model_module_version": "1.2.0",
      "model_name": "LayoutModel",
      "state": {
       "align_items": "stretch",
       "border": "dashed 0.2px green",
       "display": "flex",
       "flex_flow": "row",
       "grid_auto_columns": "True",
       "justify_content": "flex-start",
       "width": "100%"
      }
     },
     "d863b2f8c1ad47a9a6ec72b4802ba999": {
      "model_module": "@jupyter-widgets/controls",
      "model_module_version": "1.5.0",
      "model_name": "DescriptionStyleModel",
      "state": {
       "description_width": ""
      }
     },
     "d86905ec52d7440f83a4119cf406c9c9": {
      "model_module": "@jupyter-widgets/controls",
      "model_module_version": "1.5.0",
      "model_name": "HTMLModel",
      "state": {
       "layout": "IPY_MODEL_01cbb91b1a9541e8ab27a165a7850ed5",
       "style": "IPY_MODEL_44a8fab0a05a49ff831aeecf246ed824",
       "value": "<p>name</p>"
      }
     },
     "d870bf10e55d49be95a8c9673a24506d": {
      "model_module": "@jupyter-widgets/controls",
      "model_module_version": "1.5.0",
      "model_name": "TextModel",
      "state": {
       "description": "script",
       "disabled": true,
       "layout": "IPY_MODEL_a5eb4f965272408e832d134c9c33a07e",
       "style": "IPY_MODEL_15e6185877f74bcab28321f3ce94f446",
       "value": "C:\\engDev\\git_mf\\MF_Toolbox\\dev\\mf_scripts\\gbxml.py"
      }
     },
     "d884ea3312464e319b0c53a8b238e139": {
      "model_module": "@jupyter-widgets/output",
      "model_module_version": "1.0.0",
      "model_name": "OutputModel",
      "state": {
       "layout": "IPY_MODEL_1408975a3c3c422982004a541d2269df"
      }
     },
     "d8b181e276cb4ddaa8df07a3ec3a0041": {
      "model_module": "@jupyter-widgets/controls",
      "model_module_version": "1.5.0",
      "model_name": "HBoxModel",
      "state": {
       "children": [
        "IPY_MODEL_20261716f6c24050b75cf2b0dadb2bd2"
       ],
       "layout": "IPY_MODEL_4b0909c5b622449db40f3707c7257f46"
      }
     },
     "d8c6b3f8a82740fdaf79c2161f0b5148": {
      "model_module": "@jupyter-widgets/base",
      "model_module_version": "1.2.0",
      "model_name": "LayoutModel",
      "state": {}
     },
     "d91c993070124774b07f8cc3280648a5": {
      "model_module": "@jupyter-widgets/controls",
      "model_module_version": "1.5.0",
      "model_name": "HBoxModel",
      "state": {
       "children": [
        "IPY_MODEL_ae74a8ab95c84cdc9ad8ff3635682e9e",
        "IPY_MODEL_05acf5dd41b54f1ebc0d95e6c4067812"
       ],
       "layout": "IPY_MODEL_e4b71104e5994924afcba537e275aa2b"
      }
     },
     "d92ef146915446a5b053cd4fa3de4067": {
      "model_module": "@jupyter-widgets/base",
      "model_module_version": "1.2.0",
      "model_name": "LayoutModel",
      "state": {}
     },
     "d93081a1b89140589361b4d07e7de86e": {
      "model_module": "@jupyter-widgets/base",
      "model_module_version": "1.2.0",
      "model_name": "LayoutModel",
      "state": {}
     },
     "d957d0d072934aaf832c9c0661186682": {
      "model_module": "@jupyter-widgets/controls",
      "model_module_version": "1.5.0",
      "model_name": "HBoxModel",
      "state": {
       "children": [
        "IPY_MODEL_6549c33f099a40e48360e228df931ab8",
        "IPY_MODEL_16afeb05bc484b699da43c995f88e8d9"
       ],
       "layout": "IPY_MODEL_ac27a04e854a4dfca0e2fc049c5dfef1"
      }
     },
     "d96f1d319d3440e78d2be34df8c659d0": {
      "model_module": "@jupyter-widgets/controls",
      "model_module_version": "1.5.0",
      "model_name": "DescriptionStyleModel",
      "state": {
       "description_width": ""
      }
     },
     "d974a1d9046b482e822c88ea95490a1b": {
      "model_module": "@jupyter-widgets/base",
      "model_module_version": "1.2.0",
      "model_name": "LayoutModel",
      "state": {}
     },
     "d97c0ff90423459b9a38af6885c2e547": {
      "model_module": "@jupyter-widgets/base",
      "model_module_version": "1.2.0",
      "model_name": "LayoutModel",
      "state": {}
     },
     "d9c5d3a5551c44a0ac23822b49ee69f8": {
      "model_module": "@jupyter-widgets/base",
      "model_module_version": "1.2.0",
      "model_name": "LayoutModel",
      "state": {}
     },
     "d9d23feffc7a4593b26b3fbee3d7f4ad": {
      "model_module": "@jupyter-widgets/base",
      "model_module_version": "1.2.0",
      "model_name": "LayoutModel",
      "state": {
       "align_items": "stretch",
       "border": "dashed 0.2px green",
       "display": "flex",
       "flex_flow": "row",
       "grid_auto_columns": "True",
       "justify_content": "flex-start",
       "width": "100%"
      }
     },
     "d9f87efdcb0846c09bca37bd745f49cf": {
      "model_module": "@jupyter-widgets/output",
      "model_module_version": "1.0.0",
      "model_name": "OutputModel",
      "state": {
       "layout": "IPY_MODEL_ba870775c88e4327b178647d6fe89714"
      }
     },
     "da5eae8783ae4394a2d31fd8a039b4c8": {
      "model_module": "@jupyter-widgets/controls",
      "model_module_version": "1.5.0",
      "model_name": "DescriptionStyleModel",
      "state": {
       "description_width": ""
      }
     },
     "da69f3cb173f4fb5ae0f3460c88cfe6f": {
      "model_module": "@jupyter-widgets/controls",
      "model_module_version": "1.5.0",
      "model_name": "DescriptionStyleModel",
      "state": {
       "description_width": ""
      }
     },
     "da73943e3f86419ea883dfed46b4877c": {
      "model_module": "@jupyter-widgets/controls",
      "model_module_version": "1.5.0",
      "model_name": "HTMLModel",
      "state": {
       "layout": "IPY_MODEL_1634058cc88d4edb82e8e52c0fdf558b",
       "style": "IPY_MODEL_7494661d3cf94fa3814da031a17d17ee"
      }
     },
     "da7ae0036f714235a72d92a78a3ca5c1": {
      "model_module": "@jupyter-widgets/controls",
      "model_module_version": "1.5.0",
      "model_name": "ButtonModel",
      "state": {
       "description": "load",
       "icon": "upload",
       "layout": "IPY_MODEL_f5ae498ceae14a0abbd5b8ae15feb9d4",
       "style": "IPY_MODEL_cb4f3c993b7c4ea48da640b936914745"
      }
     },
     "da923504e25c40dc89ef96f912b07f8c": {
      "model_module": "@jupyter-widgets/controls",
      "model_module_version": "1.5.0",
      "model_name": "HBoxModel",
      "state": {
       "children": [
        "IPY_MODEL_309e1e7567294747a7eb59b65230589b"
       ],
       "layout": "IPY_MODEL_3273b34a917648478220b7598a467b23"
      }
     },
     "db165d7c68e447f9a60a0fb438507924": {
      "model_module": "@jupyter-widgets/controls",
      "model_module_version": "1.5.0",
      "model_name": "HBoxModel",
      "state": {
       "children": [
        "IPY_MODEL_6e22772b74d84952885ab26df1af6ac1",
        "IPY_MODEL_21df8d340aa24392b14bc7f3b98a9aab"
       ],
       "layout": "IPY_MODEL_589bb53b216744539d9562e32c804252"
      }
     },
     "db24b9d623a64fec990f5c13bd3994d5": {
      "model_module": "@jupyter-widgets/base",
      "model_module_version": "1.2.0",
      "model_name": "LayoutModel",
      "state": {}
     },
     "db3f77a7f1704d50a333e62eebf2654c": {
      "model_module": "@jupyter-widgets/base",
      "model_module_version": "1.2.0",
      "model_name": "LayoutModel",
      "state": {
       "align_items": "stretch",
       "display": "flex",
       "flex_flow": "row",
       "grid_auto_columns": "True",
       "justify_content": "flex-start",
       "width": "80%"
      }
     },
     "db4c6d6ce8f34a9d86c49f97003cca9d": {
      "model_module": "@jupyter-widgets/output",
      "model_module_version": "1.0.0",
      "model_name": "OutputModel",
      "state": {
       "layout": "IPY_MODEL_b064d32da166402cbec4107f1fa9fd91"
      }
     },
     "db50c08087674cd3b0247226f2926adc": {
      "model_module": "@jupyter-widgets/base",
      "model_module_version": "1.2.0",
      "model_name": "LayoutModel",
      "state": {}
     },
     "db78929c0f6d413d973a0cfd8bdbb2e9": {
      "model_module": "@jupyter-widgets/base",
      "model_module_version": "1.2.0",
      "model_name": "LayoutModel",
      "state": {
       "align_items": "stretch",
       "display": "flex",
       "flex_flow": "row",
       "grid_auto_columns": "True",
       "justify_content": "flex-start",
       "width": "80%"
      }
     },
     "dbb8317dff88491bbd58be8b05cf3908": {
      "model_module": "@jupyter-widgets/controls",
      "model_module_version": "1.5.0",
      "model_name": "HBoxModel",
      "state": {
       "children": [
        "IPY_MODEL_076be5ad69ed419098af9f5aaac9ca58"
       ],
       "layout": "IPY_MODEL_87b82dda7eb34c08961ab1f1120e0007"
      }
     },
     "dc11159f8a414eb89f72ef46121d1fb1": {
      "model_module": "@jupyter-widgets/controls",
      "model_module_version": "1.5.0",
      "model_name": "DescriptionStyleModel",
      "state": {
       "description_width": ""
      }
     },
     "dc2e0043fae645b2bb1d4aaf154a5b44": {
      "model_module": "@jupyter-widgets/base",
      "model_module_version": "1.2.0",
      "model_name": "LayoutModel",
      "state": {}
     },
     "dc825a9eaef143de90445f073a9a9ac3": {
      "model_module": "@jupyter-widgets/controls",
      "model_module_version": "1.5.0",
      "model_name": "HBoxModel",
      "state": {
       "children": [
        "IPY_MODEL_7376f0e5ce14481385de568ac8c6c0f2",
        "IPY_MODEL_2e21f5d571ab44bd92dc02fa58526204"
       ],
       "layout": "IPY_MODEL_0857d9e806534c358e29c0971e1e5ebd"
      }
     },
     "dca8eed50d9a4df8a0f74f3cd970a40d": {
      "model_module": "@jupyter-widgets/controls",
      "model_module_version": "1.5.0",
      "model_name": "HTMLModel",
      "state": {
       "layout": "IPY_MODEL_c666f846b27e41de934cf24edaad8b50",
       "style": "IPY_MODEL_c8e417b7a14c4de29ca3e3a0e13d8305",
       "value": "<p>2nd section of space name code</p>"
      }
     },
     "dcab3ca80ecc423ea20d2e48fb83c028": {
      "model_module": "@jupyter-widgets/base",
      "model_module_version": "1.2.0",
      "model_name": "LayoutModel",
      "state": {}
     },
     "dcbd03749d504d32a4de3ac14b140e56": {
      "model_module": "@jupyter-widgets/base",
      "model_module_version": "1.2.0",
      "model_name": "LayoutModel",
      "state": {
       "align_items": "stretch",
       "border": "dashed 0.2px green",
       "display": "flex",
       "flex_flow": "row",
       "grid_auto_columns": "True",
       "justify_content": "flex-start",
       "width": "100%"
      }
     },
     "dcc093ce13724a72ba256966c0fb798c": {
      "model_module": "@jupyter-widgets/controls",
      "model_module_version": "1.5.0",
      "model_name": "HBoxModel",
      "state": {
       "children": [
        "IPY_MODEL_948bca0fef2d4af3b679d0218e755127"
       ],
       "layout": "IPY_MODEL_fb87a755b88645ba9d158219684af50b"
      }
     },
     "dccfd26bf3184c698c82593e817c3c37": {
      "model_module": "@jupyter-widgets/controls",
      "model_module_version": "1.5.0",
      "model_name": "DescriptionStyleModel",
      "state": {
       "description_width": ""
      }
     },
     "dcdb3778fee042049fe0854b456fa70d": {
      "model_module": "@jupyter-widgets/base",
      "model_module_version": "1.2.0",
      "model_name": "LayoutModel",
      "state": {
       "align_items": "stretch",
       "border": "dashed 0.2px green",
       "display": "flex",
       "flex_flow": "row",
       "grid_auto_columns": "True",
       "justify_content": "flex-start",
       "width": "100%"
      }
     },
     "dce48581f4b04c438ce970207e0da7f4": {
      "model_module": "@jupyter-widgets/controls",
      "model_module_version": "1.5.0",
      "model_name": "HBoxModel",
      "state": {
       "children": [
        "IPY_MODEL_817ad9c8957247b6aaf6641bbe382d51",
        "IPY_MODEL_fb01c97ee4ef4fbea089bf7733446dd7"
       ],
       "layout": "IPY_MODEL_f2590eca8f434c50a35b117618ce3bde"
      }
     },
     "dd4e78efd2d54a17946a7e3ebb54f20e": {
      "model_module": "@jupyter-widgets/controls",
      "model_module_version": "1.5.0",
      "model_name": "HBoxModel",
      "state": {
       "children": [
        "IPY_MODEL_8feef38fec7f4d13b78faad49ea5af39"
       ],
       "layout": "IPY_MODEL_5c1a368fae7b4a3d927e4cf4d728b1bc"
      }
     },
     "dd6bb8f4008b401db29414d1a6bd384e": {
      "model_module": "@jupyter-widgets/output",
      "model_module_version": "1.0.0",
      "model_name": "OutputModel",
      "state": {
       "layout": "IPY_MODEL_0980ba95d81f4de4bbbb8e29c7fe3c20"
      }
     },
     "dd733dddb1f44b42b782285ca514ca94": {
      "model_module": "@jupyter-widgets/controls",
      "model_module_version": "1.5.0",
      "model_name": "HTMLModel",
      "state": {
       "layout": "IPY_MODEL_56f4ad17ba974581b4496821719ca778",
       "style": "IPY_MODEL_5299a557d10b4512b36e454057827f7e",
       "value": "<p>its a foo cake</p>"
      }
     },
     "dd83cbe6a4b946fc8b0b47e4d0cd3903": {
      "model_module": "@jupyter-widgets/base",
      "model_module_version": "1.2.0",
      "model_name": "LayoutModel",
      "state": {}
     },
     "ddad7b79482848598ef269c6017ce873": {
      "model_module": "@jupyter-widgets/controls",
      "model_module_version": "1.5.0",
      "model_name": "VBoxModel",
      "state": {
       "children": [
        "IPY_MODEL_8fa3bc764d7643a0972a6a8fb33bd348",
        "IPY_MODEL_dd4e78efd2d54a17946a7e3ebb54f20e",
        "IPY_MODEL_c54b4898579b47ee8120467b4920a6f0",
        "IPY_MODEL_f23fd5ff82ab4b4b8dd9ad8bda094e2b",
        "IPY_MODEL_6b25382b31154d0dba8431c9d7e1edba",
        "IPY_MODEL_5732b43275c14409a14d04deeda39a1b"
       ],
       "layout": "IPY_MODEL_25ce53ec8f4f4105af277e36afc33917"
      }
     },
     "ddb55e27d9e646aa8afb3a2b271d3f4b": {
      "model_module": "@jupyter-widgets/base",
      "model_module_version": "1.2.0",
      "model_name": "LayoutModel",
      "state": {}
     },
     "dde363c2d7ee4805b86693402779f9b2": {
      "model_module": "@jupyter-widgets/controls",
      "model_module_version": "1.5.0",
      "model_name": "HBoxModel",
      "state": {
       "children": [
        "IPY_MODEL_1cb0bf03ca3e41c9af0694481011e3f1",
        "IPY_MODEL_ad71c71ce1e34462837070d7fbf9e202"
       ],
       "layout": "IPY_MODEL_1e02b81231714179ab3c96d93a0d63f2"
      }
     },
     "de1391a075774d208346792e9fe376da": {
      "model_module": "@jupyter-widgets/output",
      "model_module_version": "1.0.0",
      "model_name": "OutputModel",
      "state": {
       "layout": "IPY_MODEL_e32f268636014dcca5042d233f91cd2c"
      }
     },
     "de1c0a88caed4065ae09797c6725a9c2": {
      "model_module": "@jupyter-widgets/base",
      "model_module_version": "1.2.0",
      "model_name": "LayoutModel",
      "state": {
       "align_items": "stretch",
       "display": "flex",
       "flex_flow": "row",
       "grid_auto_columns": "True",
       "justify_content": "flex-start",
       "width": "80%"
      }
     },
     "de2b9a1b812b45098a08bfde6ec91d59": {
      "model_module": "@jupyter-widgets/controls",
      "model_module_version": "1.5.0",
      "model_name": "CheckboxModel",
      "state": {
       "disabled": false,
       "layout": "IPY_MODEL_c91fe94a7b3b42deadcba5f8b1a67291",
       "style": "IPY_MODEL_5cd013957afe4678a4525c49811016f1",
       "value": false
      }
     },
     "de46f42af91d4426a5328cc3c92adbd0": {
      "model_module": "@jupyter-widgets/controls",
      "model_module_version": "1.5.0",
      "model_name": "HTMLModel",
      "state": {
       "layout": "IPY_MODEL_122bbce5787b4b2a94a75a1046c63b4f",
       "style": "IPY_MODEL_d50058716a434d6ea4b8e2112c1efc40",
       "value": "<p>label</p>"
      }
     },
     "de7a51d40e9047d3b4d160d1da89b539": {
      "model_module": "@jupyter-widgets/controls",
      "model_module_version": "1.5.0",
      "model_name": "HTMLModel",
      "state": {
       "layout": "IPY_MODEL_2895ea9d9a0e4d78b09040b0be81931d",
       "style": "IPY_MODEL_6b7ac945409b4bae95499296a3e99f27",
       "value": "<p>edit user input form below</p>"
      }
     },
     "de8ab7f2321746639668074f45aea669": {
      "model_module": "@jupyter-widgets/controls",
      "model_module_version": "1.5.0",
      "model_name": "VBoxModel",
      "state": {
       "children": [
        "IPY_MODEL_ec4015f431c0408a9e8881bcf7a3194d",
        "IPY_MODEL_5f079bece2d64167a5f61fd7a35d1b60"
       ],
       "layout": "IPY_MODEL_c253f25f8c154f308614172ce480fb5b"
      }
     },
     "dec662d5a78d4f9fae807ae7923eba1f": {
      "model_module": "@jupyter-widgets/controls",
      "model_module_version": "1.5.0",
      "model_name": "DescriptionStyleModel",
      "state": {
       "description_width": ""
      }
     },
     "df010577874944d6a1460a81979f463a": {
      "model_module": "@jupyter-widgets/controls",
      "model_module_version": "1.5.0",
      "model_name": "ButtonStyleModel",
      "state": {}
     },
     "df2f4315efe14df8bba72388f2b63862": {
      "model_module": "@jupyter-widgets/base",
      "model_module_version": "1.2.0",
      "model_name": "LayoutModel",
      "state": {}
     },
     "df7b3e2abe184bde9369126eaf90077e": {
      "model_module": "@jupyter-widgets/base",
      "model_module_version": "1.2.0",
      "model_name": "LayoutModel",
      "state": {}
     },
     "df9764083db840f8959e0a76452222f1": {
      "model_module": "@jupyter-widgets/controls",
      "model_module_version": "1.5.0",
      "model_name": "VBoxModel",
      "state": {
       "children": [
        "IPY_MODEL_2396c347df3c44fa8747f4a39684c4f9",
        "IPY_MODEL_913464c5f60d455a8883f4d23667da1e"
       ],
       "layout": "IPY_MODEL_9264b65bfeb24eb598e7e6cecf059b98"
      }
     },
     "df98843268c541518c49161118c48685": {
      "model_module": "@jupyter-widgets/base",
      "model_module_version": "1.2.0",
      "model_name": "LayoutModel",
      "state": {
       "align_items": "stretch",
       "display": "flex",
       "flex_flow": "row",
       "grid_auto_columns": "True",
       "justify_content": "flex-end",
       "width": "90%"
      }
     },
     "dffff0fcb3d14d1a997c4e4ce8f02228": {
      "model_module": "@jupyter-widgets/controls",
      "model_module_version": "1.5.0",
      "model_name": "HBoxModel",
      "state": {
       "children": [
        "IPY_MODEL_1f59d369904b44cf9d6b73473ad481d3"
       ],
       "layout": "IPY_MODEL_a8d3688b370d428eb630526c4e8d5bcc"
      }
     },
     "e00f804f1dfc4b508df8b42e49599aed": {
      "model_module": "@jupyter-widgets/controls",
      "model_module_version": "1.5.0",
      "model_name": "DescriptionStyleModel",
      "state": {
       "description_width": ""
      }
     },
     "e03db43555f24828938921e5ef7dab30": {
      "model_module": "@jupyter-widgets/controls",
      "model_module_version": "1.5.0",
      "model_name": "DescriptionStyleModel",
      "state": {
       "description_width": ""
      }
     },
     "e06a3a20fe9845d8a94b91192260cf37": {
      "model_module": "ipysheet",
      "model_module_version": "~0.4.4",
      "model_name": "CellRangeModel",
      "state": {
       "_view_module": null,
       "_view_module_version": "",
       "choice": [],
       "column_end": 2,
       "column_start": 2,
       "numeric_format": null,
       "row_end": 3,
       "row_start": 0,
       "squeeze_row": false,
       "type": "text",
       "value": [
        "any",
        "<class 'list'>",
        "<class 'NoneType'>",
        "<class 'NoneType'>"
       ]
      }
     },
     "e0b1e8c7fb3d40ab8601a5c39e431285": {
      "model_module": "@jupyter-widgets/base",
      "model_module_version": "1.2.0",
      "model_name": "LayoutModel",
      "state": {
       "align_items": "stretch",
       "border": "dashed 0.2px green",
       "display": "flex",
       "flex_flow": "row",
       "grid_auto_columns": "True",
       "justify_content": "flex-start",
       "width": "100%"
      }
     },
     "e0f0aac641ef47e9b3a93369754ea70e": {
      "model_module": "@jupyter-widgets/base",
      "model_module_version": "1.2.0",
      "model_name": "LayoutModel",
      "state": {
       "display": "flex",
       "flex_flow": "row",
       "grid_auto_columns": "False",
       "justify_content": "flex-start",
       "width": "100%"
      }
     },
     "e108214e3c79499db4b6d93e9de43d7d": {
      "model_module": "@jupyter-widgets/base",
      "model_module_version": "1.2.0",
      "model_name": "LayoutModel",
      "state": {}
     },
     "e136a2897a5c4ae8b006e4c1111de92a": {
      "model_module": "@jupyter-widgets/controls",
      "model_module_version": "1.5.0",
      "model_name": "DescriptionStyleModel",
      "state": {
       "description_width": ""
      }
     },
     "e16153aacdd54554aa0e5d7f1e212d9f": {
      "model_module": "@jupyter-widgets/controls",
      "model_module_version": "1.5.0",
      "model_name": "HTMLModel",
      "state": {
       "layout": "IPY_MODEL_a9cc0faabc284623b70442a52fa35a88",
       "style": "IPY_MODEL_2e318ad2f1554ab3baccbd1a9d959013",
       "value": "<p>foo</p>"
      }
     },
     "e17c8e483fc84e08ad39b53b800b44dd": {
      "model_module": "@jupyter-widgets/controls",
      "model_module_version": "1.5.0",
      "model_name": "HTMLModel",
      "state": {
       "layout": "IPY_MODEL_001e2802db554b94a0c7581e00893aa0",
       "style": "IPY_MODEL_d4e8779296884a5aac7e001ce7f0f738",
       "value": "<p>1st section of space name code</p>"
      }
     },
     "e1dd2396085243fd9267b95b751acaa0": {
      "model_module": "@jupyter-widgets/controls",
      "model_module_version": "1.5.0",
      "model_name": "DescriptionStyleModel",
      "state": {
       "description_width": ""
      }
     },
     "e213c6f47a424a85a291a61f59262a8b": {
      "model_module": "@jupyter-widgets/output",
      "model_module_version": "1.0.0",
      "model_name": "OutputModel",
      "state": {
       "layout": "IPY_MODEL_3873062abf714b66bda4fc29d37ff1c0",
       "outputs": [
        {
         "data": {
          "application/vnd.jupyter.widget-view+json": {
           "model_id": "091df59a812b4e4ca0d9aa5235be33db",
           "version_major": 2,
           "version_minor": 0
          },
          "text/plain": "Output()"
         },
         "metadata": {},
         "output_type": "display_data"
        }
       ]
      }
     },
     "e215ba7e624740b3a19be2934def910b": {
      "model_module": "@jupyter-widgets/base",
      "model_module_version": "1.2.0",
      "model_name": "LayoutModel",
      "state": {
       "align_items": "stretch",
       "display": "flex",
       "flex_flow": "row",
       "grid_auto_columns": "True",
       "justify_content": "flex-start",
       "width": "80%"
      }
     },
     "e247711ea26a4f4a89440995b870230a": {
      "model_module": "@jupyter-widgets/base",
      "model_module_version": "1.2.0",
      "model_name": "LayoutModel",
      "state": {
       "align_items": "stretch",
       "display": "flex",
       "flex_flow": "row",
       "grid_auto_columns": "True",
       "justify_content": "flex-start",
       "width": "80%"
      }
     },
     "e250d621a4a84a9da146f18f68bdaa1c": {
      "model_module": "@jupyter-widgets/base",
      "model_module_version": "1.2.0",
      "model_name": "LayoutModel",
      "state": {}
     },
     "e2d2ab3ac7984326b8d1dbd4f79bfe09": {
      "model_module": "@jupyter-widgets/controls",
      "model_module_version": "1.5.0",
      "model_name": "DescriptionStyleModel",
      "state": {
       "description_width": ""
      }
     },
     "e2effc0c146f4064af520ff682d5bf25": {
      "model_module": "@jupyter-widgets/base",
      "model_module_version": "1.2.0",
      "model_name": "LayoutModel",
      "state": {}
     },
     "e2fd2b8b317f4f78be0e7ff2354319fe": {
      "model_module": "@jupyter-widgets/base",
      "model_module_version": "1.2.0",
      "model_name": "LayoutModel",
      "state": {}
     },
     "e303c72d5f87408bb04dee637c9bd07a": {
      "model_module": "@jupyter-widgets/output",
      "model_module_version": "1.0.0",
      "model_name": "OutputModel",
      "state": {
       "layout": "IPY_MODEL_402f8905633244ec82dedce124028676"
      }
     },
     "e3077f95f87a488aab770ba0ec0d7632": {
      "model_module": "@jupyter-widgets/base",
      "model_module_version": "1.2.0",
      "model_name": "LayoutModel",
      "state": {
       "align_items": "stretch",
       "border": "dashed 0.2px green",
       "display": "flex",
       "flex_flow": "row",
       "grid_auto_columns": "True",
       "justify_content": "flex-start",
       "width": "100%"
      }
     },
     "e32f268636014dcca5042d233f91cd2c": {
      "model_module": "@jupyter-widgets/base",
      "model_module_version": "1.2.0",
      "model_name": "LayoutModel",
      "state": {}
     },
     "e34c010848504b118a49a59e36e2378f": {
      "model_module": "@jupyter-widgets/controls",
      "model_module_version": "1.5.0",
      "model_name": "VBoxModel",
      "state": {
       "children": [
        "IPY_MODEL_9c100bf16a884514916bd89cff8548eb",
        "IPY_MODEL_575c874c30e5404482d99ba84861b6f2"
       ],
       "layout": "IPY_MODEL_2874321c110b4c02a2166e8c2aee56b8"
      }
     },
     "e35257a5d5244a4490f3b4ceefeaed7f": {
      "model_module": "@jupyter-widgets/base",
      "model_module_version": "1.2.0",
      "model_name": "LayoutModel",
      "state": {}
     },
     "e387c8695dd744b29b3494e9fab12509": {
      "model_module": "@jupyter-widgets/output",
      "model_module_version": "1.0.0",
      "model_name": "OutputModel",
      "state": {
       "layout": "IPY_MODEL_d54cd76b8d6f41e794599d5a21aa2abe"
      }
     },
     "e392fe20301444689555437fe1ff05fc": {
      "model_module": "@jupyter-widgets/controls",
      "model_module_version": "1.5.0",
      "model_name": "DescriptionStyleModel",
      "state": {
       "description_width": ""
      }
     },
     "e3bd2fb038e040baaa67a95cd8d2ae03": {
      "model_module": "@jupyter-widgets/controls",
      "model_module_version": "1.5.0",
      "model_name": "ButtonStyleModel",
      "state": {
       "font_weight": "bold"
      }
     },
     "e3c76feed61a4c43bb7ec7dfdd3b0dfd": {
      "model_module": "@jupyter-widgets/controls",
      "model_module_version": "1.5.0",
      "model_name": "HBoxModel",
      "state": {
       "children": [
        "IPY_MODEL_9826b893a2fb4e6e89d50ab372b8dfb6"
       ],
       "layout": "IPY_MODEL_c522c3ffd72547d08ea6629294f955cc"
      }
     },
     "e47edffee82742cbabf981303414d77d": {
      "model_module": "@jupyter-widgets/controls",
      "model_module_version": "1.5.0",
      "model_name": "DescriptionStyleModel",
      "state": {
       "description_width": ""
      }
     },
     "e480e7026a344c61bf0da34373db6efe": {
      "model_module": "@jupyter-widgets/base",
      "model_module_version": "1.2.0",
      "model_name": "LayoutModel",
      "state": {
       "align_items": "stretch",
       "display": "flex",
       "flex_flow": "row",
       "grid_auto_columns": "True",
       "justify_content": "flex-start",
       "width": "80%"
      }
     },
     "e4987c3cf4744e6d8c21e662ea2ba827": {
      "model_module": "@jupyter-widgets/controls",
      "model_module_version": "1.5.0",
      "model_name": "HTMLModel",
      "state": {
       "layout": "IPY_MODEL_d4bd3710a479438a96f68f0fa8ac5288",
       "style": "IPY_MODEL_e8c8e68d60a343579dfc2931c931ca1c",
       "value": "<p>its a foo cake</p>"
      }
     },
     "e4b06915bd1149f18621988f675f113f": {
      "model_module": "@jupyter-widgets/base",
      "model_module_version": "1.2.0",
      "model_name": "LayoutModel",
      "state": {}
     },
     "e4b71104e5994924afcba537e275aa2b": {
      "model_module": "@jupyter-widgets/base",
      "model_module_version": "1.2.0",
      "model_name": "LayoutModel",
      "state": {
       "align_items": "stretch",
       "display": "flex",
       "flex_flow": "row",
       "grid_auto_columns": "True",
       "justify_content": "flex-start",
       "width": "80%"
      }
     },
     "e4c87c362d064440a27fa73473a7a2e4": {
      "model_module": "@jupyter-widgets/controls",
      "model_module_version": "1.5.0",
      "model_name": "ButtonStyleModel",
      "state": {
       "font_weight": "bold"
      }
     },
     "e4f2ea1ffec74560830297d9aa62f929": {
      "model_module": "@jupyter-widgets/controls",
      "model_module_version": "1.5.0",
      "model_name": "DescriptionStyleModel",
      "state": {
       "description_width": ""
      }
     },
     "e4f9d5c9cc8b43f6b160806ab840f105": {
      "model_module": "@jupyter-widgets/controls",
      "model_module_version": "1.5.0",
      "model_name": "TextModel",
      "state": {
       "layout": "IPY_MODEL_8c4c611a7bd84d319dbb6af625ba61c9",
       "style": "IPY_MODEL_60da534eb3274ed19b79b95f5f56aead",
       "value": "SpaceType"
      }
     },
     "e5072713d3554d198baf694565fc7bce": {
      "model_module": "@jupyter-widgets/controls",
      "model_module_version": "1.5.0",
      "model_name": "DescriptionStyleModel",
      "state": {
       "description_width": ""
      }
     },
     "e55307ad52b54d67bde3ffee72ce8faf": {
      "model_module": "@jupyter-widgets/controls",
      "model_module_version": "1.5.0",
      "model_name": "HBoxModel",
      "state": {
       "children": [
        "IPY_MODEL_8bc43deff33a491e8a6bbc6c98caf006"
       ],
       "layout": "IPY_MODEL_857f53c8aadb4efbb2c98f83bf33d55e"
      }
     },
     "e579d3773cb34b0396a96885d8c7f96a": {
      "model_module": "@jupyter-widgets/controls",
      "model_module_version": "1.5.0",
      "model_name": "DescriptionStyleModel",
      "state": {
       "description_width": ""
      }
     },
     "e57efa77fd6745ef8cedda1040e45961": {
      "model_module": "@jupyter-widgets/controls",
      "model_module_version": "1.5.0",
      "model_name": "HBoxModel",
      "state": {
       "children": [
        "IPY_MODEL_5fbd08be050e42a9b6cf9787fdefe0f3",
        "IPY_MODEL_b1254a39108c4924ab0ebf131bbe75d2"
       ],
       "layout": "IPY_MODEL_6bee9a02afbc4ab9a5b210350f7fcc2c"
      }
     },
     "e5e3ff567601459e9183aae12aa41562": {
      "model_module": "@jupyter-widgets/base",
      "model_module_version": "1.2.0",
      "model_name": "LayoutModel",
      "state": {
       "align_items": "stretch",
       "display": "flex",
       "flex_flow": "row",
       "grid_auto_columns": "True",
       "justify_content": "flex-start",
       "width": "80%"
      }
     },
     "e5f9846f59b74814b267bac428f87c79": {
      "model_module": "@jupyter-widgets/controls",
      "model_module_version": "1.5.0",
      "model_name": "HTMLModel",
      "state": {
       "layout": "IPY_MODEL_8cf02010305f4533affe5ba9cba742a4",
       "style": "IPY_MODEL_228b3bd2b84b4f6cb2d6f25c434cbc46",
       "value": "<p>foo</p>"
      }
     },
     "e62ccc34f81e4054a02385b171742f20": {
      "model_module": "@jupyter-widgets/base",
      "model_module_version": "1.2.0",
      "model_name": "LayoutModel",
      "state": {}
     },
     "e6549c2e9a6044a88011aa198f999522": {
      "model_module": "@jupyter-widgets/controls",
      "model_module_version": "1.5.0",
      "model_name": "ToggleButtonModel",
      "state": {
       "icon": "arrow-down",
       "layout": "IPY_MODEL_be2d0fa2148f4f789a5532112a1ad0de",
       "style": "IPY_MODEL_ea2cac40d057424b99ba94d2f0eb2797"
      }
     },
     "e66339d044944850a144e0e7fdc0727f": {
      "model_module": "@jupyter-widgets/base",
      "model_module_version": "1.2.0",
      "model_name": "LayoutModel",
      "state": {}
     },
     "e663fbafec1649acb14ad167af8a7e8b": {
      "model_module": "@jupyter-widgets/controls",
      "model_module_version": "1.5.0",
      "model_name": "HTMLModel",
      "state": {
       "layout": "IPY_MODEL_40f169be511743638c85ff06f77ef867",
       "style": "IPY_MODEL_682e10e8699d47688a327c49be0a55e2",
       "value": "<p>label</p>"
      }
     },
     "e66af87b96f74f61a5107ef780dd8de2": {
      "model_module": "@jupyter-widgets/controls",
      "model_module_version": "1.5.0",
      "model_name": "SelectMultipleModel",
      "state": {
       "_options_labels": [
        "C:\\engDev\\git_mf\\ipyrun\\data\\raw\\gbxml.xml",
        "C:\\engDev\\git_mf\\ipyrun\\data\\interim\\gbjson.json",
        "C:\\engDev\\git_mf\\ipyrun\\data\\processed\\gbxml_datagrab.xlsx",
        "C:\\engDev\\git_mf\\ipyrun\\data\\processed\\gbxml_spcs-treemap.png"
       ],
       "description": "outputs",
       "index": [],
       "layout": "IPY_MODEL_48b90f95d715466f81878f91068d5d8b",
       "rows": 4,
       "style": "IPY_MODEL_3d7fb63d27654572ae5d70d6f9b96fa9"
      }
     },
     "e6a24010d8cc49c3bdb44bca005bb1a7": {
      "model_module": "@jupyter-widgets/base",
      "model_module_version": "1.2.0",
      "model_name": "LayoutModel",
      "state": {}
     },
     "e6ea8ba4fc644f05a7faeb76d8c38b7d": {
      "model_module": "@jupyter-widgets/base",
      "model_module_version": "1.2.0",
      "model_name": "LayoutModel",
      "state": {
       "align_items": "stretch",
       "display": "flex",
       "flex_flow": "row",
       "grid_auto_columns": "True",
       "justify_content": "flex-start",
       "width": "80%"
      }
     },
     "e70192fdd5f644b9925da2992f044f2d": {
      "model_module": "@jupyter-widgets/base",
      "model_module_version": "1.2.0",
      "model_name": "LayoutModel",
      "state": {}
     },
     "e73c31030d074d2187e60c11d7b5db01": {
      "model_module": "@jupyter-widgets/base",
      "model_module_version": "1.2.0",
      "model_name": "LayoutModel",
      "state": {}
     },
     "e76598053e1a47aebd62e5567381e063": {
      "model_module": "@jupyter-widgets/base",
      "model_module_version": "1.2.0",
      "model_name": "LayoutModel",
      "state": {}
     },
     "e7b40de00b1541509adb067fe44c60e3": {
      "model_module": "@jupyter-widgets/base",
      "model_module_version": "1.2.0",
      "model_name": "LayoutModel",
      "state": {
       "align_items": "stretch",
       "border": "dashed 0.2px green",
       "display": "flex",
       "flex_flow": "row",
       "grid_auto_columns": "True",
       "justify_content": "flex-start",
       "width": "100%"
      }
     },
     "e7c095aea70447e1ad55c9a67f7fc4fc": {
      "model_module": "@jupyter-widgets/output",
      "model_module_version": "1.0.0",
      "model_name": "OutputModel",
      "state": {
       "layout": "IPY_MODEL_f2227ab3452b4f869d093b37e0e9ab19"
      }
     },
     "e7f46e5b9e184d6fbcec9a92359e6eeb": {
      "model_module": "@jupyter-widgets/controls",
      "model_module_version": "1.5.0",
      "model_name": "HBoxModel",
      "state": {
       "children": [
        "IPY_MODEL_9f5c7414df104df9a15fd26ad4c404f5",
        "IPY_MODEL_a28976d0f612404482e2f6a4bfd3a121"
       ],
       "layout": "IPY_MODEL_8178aa3cb10b4699b93499960e8b44ea"
      }
     },
     "e828b3622c6d4d1a8525206ef0787998": {
      "model_module": "@jupyter-widgets/controls",
      "model_module_version": "1.5.0",
      "model_name": "HBoxModel",
      "state": {
       "children": [
        "IPY_MODEL_b9696a9add2d4d0198ad6457fc844578",
        "IPY_MODEL_4ed668789f354f8cb2325404cddb3cd0"
       ],
       "layout": "IPY_MODEL_ff5184b04a604aefb3c2ae892737d086"
      }
     },
     "e833eeebeb404e039971745148c9b4e8": {
      "model_module": "@jupyter-widgets/controls",
      "model_module_version": "1.5.0",
      "model_name": "HTMLModel",
      "state": {
       "layout": "IPY_MODEL_13e1458da6f74b5d8bfb478dcdf2b3d5",
       "style": "IPY_MODEL_73c737e61dd4428aad27de9ac4eb0b99",
       "value": "<p>its a delicious foo cake</p>"
      }
     },
     "e84718076a6242288dca8edf68accaf3": {
      "model_module": "@jupyter-widgets/controls",
      "model_module_version": "1.5.0",
      "model_name": "DescriptionStyleModel",
      "state": {
       "description_width": ""
      }
     },
     "e87616aa237d426a9d1dfb9c4114e4b3": {
      "model_module": "@jupyter-widgets/controls",
      "model_module_version": "1.5.0",
      "model_name": "DescriptionStyleModel",
      "state": {
       "description_width": ""
      }
     },
     "e897a1e722524f968759ef5426933a8a": {
      "model_module": "@jupyter-widgets/base",
      "model_module_version": "1.2.0",
      "model_name": "LayoutModel",
      "state": {
       "align_items": "stretch",
       "display": "flex",
       "flex_flow": "row",
       "grid_auto_columns": "True",
       "justify_content": "flex-start",
       "width": "80%"
      }
     },
     "e8c8e68d60a343579dfc2931c931ca1c": {
      "model_module": "@jupyter-widgets/controls",
      "model_module_version": "1.5.0",
      "model_name": "DescriptionStyleModel",
      "state": {
       "description_width": ""
      }
     },
     "e8f507477b0541a7b5fa5436ee567285": {
      "model_module": "@jupyter-widgets/controls",
      "model_module_version": "1.5.0",
      "model_name": "HBoxModel",
      "state": {
       "children": [
        "IPY_MODEL_d5f0da38132f4766a28bbedf85d792e4",
        "IPY_MODEL_24263755f38743d493b5f2e6a34a2b93"
       ],
       "layout": "IPY_MODEL_2106216f039b4b689cb802e93d6c30a1"
      }
     },
     "e929cfa61f85474293cf9753cb1aac0e": {
      "model_module": "@jupyter-widgets/controls",
      "model_module_version": "1.5.0",
      "model_name": "ToggleButtonModel",
      "state": {
       "icon": "arrow-down",
       "layout": "IPY_MODEL_c200e1ecb93d42fc8ade5035dd1c93ea",
       "style": "IPY_MODEL_464da05102984793a07b7de8eb45ff8f"
      }
     },
     "e933cee91d0f4cc6b86cbc785bdce949": {
      "model_module": "@jupyter-widgets/controls",
      "model_module_version": "1.5.0",
      "model_name": "HBoxModel",
      "state": {
       "children": [
        "IPY_MODEL_1f5fd30eb9274a05b402bff381b2d6f6",
        "IPY_MODEL_bb947907b0cf4dca9c2bd6d820494c20"
       ],
       "layout": "IPY_MODEL_0f2061eeb05046bcb22c03cc927a045f"
      }
     },
     "e976dc2779874695accd0773ac50bf5b": {
      "model_module": "@jupyter-widgets/controls",
      "model_module_version": "1.5.0",
      "model_name": "HBoxModel",
      "state": {
       "children": [
        "IPY_MODEL_f2a9d85c35924932892b4a4e4149abf3",
        "IPY_MODEL_2ff3839b7b9942c397580d2b76108e69"
       ],
       "layout": "IPY_MODEL_84c8ad8c28af4d26a978835dc7a3662d"
      }
     },
     "e9aec51ae14f419fbfbd7743387424d1": {
      "model_module": "@jupyter-widgets/base",
      "model_module_version": "1.2.0",
      "model_name": "LayoutModel",
      "state": {}
     },
     "e9b6f764697646109c085fc514a3fb82": {
      "model_module": "@jupyter-widgets/base",
      "model_module_version": "1.2.0",
      "model_name": "LayoutModel",
      "state": {}
     },
     "e9bff9a1d6d646bb98263e0fe233dbdb": {
      "model_module": "@jupyter-widgets/controls",
      "model_module_version": "1.5.0",
      "model_name": "ButtonModel",
      "state": {
       "description": "save",
       "layout": "IPY_MODEL_f3ef097708db403c9b8bd409c234d174",
       "style": "IPY_MODEL_6553622435f848f095409b986da8badc"
      }
     },
     "e9c132d4434b4cd7841e1335f546bdfb": {
      "model_module": "@jupyter-widgets/base",
      "model_module_version": "1.2.0",
      "model_name": "LayoutModel",
      "state": {}
     },
     "e9c2f77e99194a988c30e3f7791b40d2": {
      "model_module": "@jupyter-widgets/output",
      "model_module_version": "1.0.0",
      "model_name": "OutputModel",
      "state": {
       "layout": "IPY_MODEL_d7c7d82ea37d440ea726297411819471"
      }
     },
     "e9eb52e90c5a4f0f850d9c00ab9f5422": {
      "model_module": "@jupyter-widgets/base",
      "model_module_version": "1.2.0",
      "model_name": "LayoutModel",
      "state": {
       "border": "0px",
       "margin": "0px",
       "padding": "0px"
      }
     },
     "e9f9c73faa504650977e18a241b3f446": {
      "model_module": "@jupyter-widgets/controls",
      "model_module_version": "1.5.0",
      "model_name": "DropdownModel",
      "state": {
       "_options_labels": [
        "asfd",
        "10",
        "asdf"
       ],
       "index": 1,
       "layout": "IPY_MODEL_56bd413a6203496a8282c9755de79ba1",
       "style": "IPY_MODEL_1b93cd69a5e54ea8aab97045e01e8fa7"
      }
     },
     "ea2cac40d057424b99ba94d2f0eb2797": {
      "model_module": "@jupyter-widgets/controls",
      "model_module_version": "1.5.0",
      "model_name": "DescriptionStyleModel",
      "state": {
       "description_width": ""
      }
     },
     "ea998d9552c442a88c84fa82e42877d4": {
      "model_module": "@jupyter-widgets/controls",
      "model_module_version": "1.5.0",
      "model_name": "DescriptionStyleModel",
      "state": {
       "description_width": ""
      }
     },
     "eac63597a3964909add9273429a4abae": {
      "model_module": "@jupyter-widgets/controls",
      "model_module_version": "1.5.0",
      "model_name": "VBoxModel",
      "state": {
       "children": [
        "IPY_MODEL_37fc3469dc8c43ba9e5dc69033ce0a66",
        "IPY_MODEL_07f0e2d4b86e45a8a182b669e4c2e4ea"
       ],
       "layout": "IPY_MODEL_2656f8d9c6ab4a149e9652292bbeb43a"
      }
     },
     "eae613c703964675863d4f8c33a66b58": {
      "model_module": "@jupyter-widgets/base",
      "model_module_version": "1.2.0",
      "model_name": "LayoutModel",
      "state": {
       "align_items": "stretch",
       "display": "flex",
       "flex_flow": "row",
       "grid_auto_columns": "True",
       "justify_content": "flex-end",
       "width": "90%"
      }
     },
     "eaeaf957c99b421d975668edca13d7a1": {
      "model_module": "@jupyter-widgets/output",
      "model_module_version": "1.0.0",
      "model_name": "OutputModel",
      "state": {
       "layout": "IPY_MODEL_03b318afe0c748a181c3ac6cf2d61cbf"
      }
     },
     "eafbe13e096241b5b8af14f99e10a7ab": {
      "model_module": "@jupyter-widgets/controls",
      "model_module_version": "1.5.0",
      "model_name": "DescriptionStyleModel",
      "state": {
       "description_width": ""
      }
     },
     "eafbfff38cfa44c3abea97757caed024": {
      "model_module": "@jupyter-widgets/base",
      "model_module_version": "1.2.0",
      "model_name": "LayoutModel",
      "state": {}
     },
     "eb047bcb8a844ccdb7cd04c2e41d795f": {
      "model_module": "@jupyter-widgets/controls",
      "model_module_version": "1.5.0",
      "model_name": "HBoxModel",
      "state": {
       "children": [
        "IPY_MODEL_f5f2a17897034642a57b05e46522fd43"
       ],
       "layout": "IPY_MODEL_16fdad7641b34a778d178b29332a230b"
      }
     },
     "eb1fb02a62244fbda494b5646b12e368": {
      "model_module": "@jupyter-widgets/controls",
      "model_module_version": "1.5.0",
      "model_name": "HBoxModel",
      "state": {
       "children": [
        "IPY_MODEL_8153fb50d2d2414e9cfccb62ee363ce1",
        "IPY_MODEL_9a4a1e3005824830b9e2f827969a6674"
       ],
       "layout": "IPY_MODEL_fa2bba7e62c048a2b2f7d72cf23c7212"
      }
     },
     "eb249c4dc9c24aa4a686c2e844f501c5": {
      "model_module": "@jupyter-widgets/controls",
      "model_module_version": "1.5.0",
      "model_name": "HTMLModel",
      "state": {
       "layout": "IPY_MODEL_d753987d86954cfdabc6e0aab2332f3a",
       "style": "IPY_MODEL_6d32796a086c44d9af7dd25270008499",
       "value": "<p>its a foo cake</p>"
      }
     },
     "eb2cbd93e6c0461ab1a4cfa193e487be": {
      "model_module": "@jupyter-widgets/base",
      "model_module_version": "1.2.0",
      "model_name": "LayoutModel",
      "state": {
       "align_items": "stretch",
       "display": "flex",
       "flex_flow": "row",
       "grid_auto_columns": "True",
       "justify_content": "flex-end",
       "width": "90%"
      }
     },
     "eb72f2e194e94b9b9fa5b4bf8ab14cdf": {
      "model_module": "@jupyter-widgets/base",
      "model_module_version": "1.2.0",
      "model_name": "LayoutModel",
      "state": {
       "align_items": "stretch",
       "display": "flex",
       "flex_flow": "row",
       "grid_auto_columns": "True",
       "justify_content": "flex-end",
       "width": "90%"
      }
     },
     "eb8667abbf074fffaad047c7084589cd": {
      "model_module": "@jupyter-widgets/base",
      "model_module_version": "1.2.0",
      "model_name": "LayoutModel",
      "state": {}
     },
     "ec1d6704e13d4b5aaa45c2b5b1a9d1df": {
      "model_module": "@jupyter-widgets/base",
      "model_module_version": "1.2.0",
      "model_name": "LayoutModel",
      "state": {}
     },
     "ec33f02d70aa48c88bacceaeb43927b0": {
      "model_module": "@jupyter-widgets/controls",
      "model_module_version": "1.5.0",
      "model_name": "HBoxModel",
      "state": {
       "children": [
        "IPY_MODEL_b0b9757f71e7400a9300f40d431d3a59"
       ],
       "layout": "IPY_MODEL_d231c01f50c34beeabb47a26cd9e0db3"
      }
     },
     "ec4015f431c0408a9e8881bcf7a3194d": {
      "model_module": "@jupyter-widgets/controls",
      "model_module_version": "1.5.0",
      "model_name": "ButtonModel",
      "state": {
       "description": "load",
       "icon": "upload",
       "layout": "IPY_MODEL_2d049bfaf8b94bbabe7a764fb0dbd3a3",
       "style": "IPY_MODEL_bc617adceaa64fd0b228346921ee6cf3"
      }
     },
     "ec879ea32f884696bea2c551d96bc03d": {
      "model_module": "@jupyter-widgets/base",
      "model_module_version": "1.2.0",
      "model_name": "LayoutModel",
      "state": {}
     },
     "eca65eb68b46413dae6c60ffcdcbe269": {
      "model_module": "@jupyter-widgets/controls",
      "model_module_version": "1.5.0",
      "model_name": "HTMLModel",
      "state": {
       "layout": "IPY_MODEL_b4dccd7754db47bf913e27dedcf55809",
       "style": "IPY_MODEL_c87d1508c6b549998a6cc08160bdc13e",
       "value": "<p>fus foo ous o</p>"
      }
     },
     "ecbbe0e3eed145c9b74aad68a517ee5e": {
      "model_module": "@jupyter-widgets/base",
      "model_module_version": "1.2.0",
      "model_name": "LayoutModel",
      "state": {
       "align_items": "stretch",
       "border": "dashed 0.2px green",
       "display": "flex",
       "flex_flow": "row",
       "grid_auto_columns": "True",
       "justify_content": "flex-start",
       "width": "100%"
      }
     },
     "eccc78e1d3b64ceda8ab72e7ab2cdbb2": {
      "model_module": "@jupyter-widgets/controls",
      "model_module_version": "1.5.0",
      "model_name": "HTMLModel",
      "state": {
       "layout": "IPY_MODEL_c9897181fe894b178d4251744ff9bd00",
       "style": "IPY_MODEL_0e4a04fc57d34017933c308a3fc99eab",
       "value": "<p>fpth_in</p>"
      }
     },
     "ed11ddb7cef04967b7a899977c83ddaa": {
      "model_module": "@jupyter-widgets/base",
      "model_module_version": "1.2.0",
      "model_name": "LayoutModel",
      "state": {}
     },
     "ed2592a1ce6e411da3f227803ae9bd08": {
      "model_module": "@jupyter-widgets/base",
      "model_module_version": "1.2.0",
      "model_name": "LayoutModel",
      "state": {}
     },
     "ed717b83ad6f4d2a84bf615188ea71bc": {
      "model_module": "@jupyter-widgets/base",
      "model_module_version": "1.2.0",
      "model_name": "LayoutModel",
      "state": {
       "align_items": "stretch",
       "display": "flex",
       "flex_flow": "row",
       "grid_auto_columns": "True",
       "justify_content": "flex-end",
       "width": "90%"
      }
     },
     "edb740bab69b47429e144e2399b4bc43": {
      "model_module": "@jupyter-widgets/base",
      "model_module_version": "1.2.0",
      "model_name": "LayoutModel",
      "state": {}
     },
     "edfa4cfda8e146f4aeb747b007a28804": {
      "model_module": "@jupyter-widgets/controls",
      "model_module_version": "1.5.0",
      "model_name": "DescriptionStyleModel",
      "state": {
       "description_width": ""
      }
     },
     "ee1e4daec9064bba8e0f13c31ae3f177": {
      "model_module": "@jupyter-widgets/base",
      "model_module_version": "1.2.0",
      "model_name": "LayoutModel",
      "state": {
       "align_items": "stretch",
       "display": "flex",
       "flex_flow": "row",
       "grid_auto_columns": "True",
       "justify_content": "flex-end",
       "width": "90%"
      }
     },
     "ee3948ff4533431ebd9f009505d429a1": {
      "model_module": "@jupyter-widgets/base",
      "model_module_version": "1.2.0",
      "model_name": "LayoutModel",
      "state": {}
     },
     "ee4f2250f86b4f8681c87d9393788751": {
      "model_module": "@jupyter-widgets/controls",
      "model_module_version": "1.5.0",
      "model_name": "DescriptionStyleModel",
      "state": {
       "description_width": ""
      }
     },
     "ee6abe4674c94567af1d1fee3a82f7d7": {
      "model_module": "@jupyter-widgets/base",
      "model_module_version": "1.2.0",
      "model_name": "LayoutModel",
      "state": {}
     },
     "ee730843348a4a37b583b8eb607f58c7": {
      "model_module": "@jupyter-widgets/controls",
      "model_module_version": "1.5.0",
      "model_name": "HTMLModel",
      "state": {
       "layout": "IPY_MODEL_4dac33824275435c8cd25c4364a8c1f6",
       "style": "IPY_MODEL_030bfc5566424a2084b7dcea217335ac",
       "value": "<p>fus foo ous o</p>"
      }
     },
     "ee8fb258f49544ebba7f8ced16a89d5d": {
      "model_module": "@jupyter-widgets/controls",
      "model_module_version": "1.5.0",
      "model_name": "HTMLModel",
      "state": {
       "layout": "IPY_MODEL_088e8a8ed41543b9911d3c81998239eb",
       "style": "IPY_MODEL_00de7dcf18434b0f8834926fc4a9cefc"
      }
     },
     "eeb62a7bb81b4ae4abf4460731f21369": {
      "model_module": "@jupyter-widgets/output",
      "model_module_version": "1.0.0",
      "model_name": "OutputModel",
      "state": {
       "layout": "IPY_MODEL_144d31e9151f4c759a73044c27cb57dd"
      }
     },
     "eed8fc4c63d743739e580a3445e3b086": {
      "model_module": "@jupyter-widgets/controls",
      "model_module_version": "1.5.0",
      "model_name": "HBoxModel",
      "state": {
       "children": [
        "IPY_MODEL_b712200d95df4a37a90a64924e230c15",
        "IPY_MODEL_7504ea2e950b4aa8bf9db2d7fe79112e"
       ],
       "layout": "IPY_MODEL_14442dabf3604046a09675876d45ed29"
      }
     },
     "eee325e6bcd340eba4658a406de86f5a": {
      "model_module": "@jupyter-widgets/controls",
      "model_module_version": "1.5.0",
      "model_name": "HTMLModel",
      "state": {
       "layout": "IPY_MODEL_74f6c7c9f4a14bc687be88972ba3207c",
       "style": "IPY_MODEL_f3abf38963984b898e5ffbd0c6871b04",
       "value": "<p>fus foo ous o</p>"
      }
     },
     "eeff34dff3254728bb056a0fd8128283": {
      "model_module": "@jupyter-widgets/controls",
      "model_module_version": "1.5.0",
      "model_name": "HTMLModel",
      "state": {
       "layout": "IPY_MODEL_5c75246278a44386addde0286c4fa0a0",
       "style": "IPY_MODEL_f561af1efb7e48faba92263645435a38",
       "value": "<p>its a foo cake</p>"
      }
     },
     "ef140d9f2209445d9ea0bcd4522240b0": {
      "model_module": "@jupyter-widgets/controls",
      "model_module_version": "1.5.0",
      "model_name": "ToggleButtonModel",
      "state": {
       "icon": "arrow-down",
       "layout": "IPY_MODEL_4b79bec0c7954e6b86be3cc83b338178",
       "style": "IPY_MODEL_edfa4cfda8e146f4aeb747b007a28804"
      }
     },
     "ef7b14be4ebe4d559c2a09a2845bd582": {
      "model_module": "@jupyter-widgets/base",
      "model_module_version": "1.2.0",
      "model_name": "LayoutModel",
      "state": {}
     },
     "efa1ec0fae34435aa2caf31231c3b539": {
      "model_module": "@jupyter-widgets/controls",
      "model_module_version": "1.5.0",
      "model_name": "DescriptionStyleModel",
      "state": {
       "description_width": ""
      }
     },
     "effb78fffff149a98b9cb7e7e6bb1e91": {
      "model_module": "@jupyter-widgets/controls",
      "model_module_version": "1.5.0",
      "model_name": "DescriptionStyleModel",
      "state": {
       "description_width": ""
      }
     },
     "f00eb6d844a347a588a0d6aeb5c8b523": {
      "model_module": "@jupyter-widgets/controls",
      "model_module_version": "1.5.0",
      "model_name": "HTMLModel",
      "state": {
       "layout": "IPY_MODEL_fbf2a8ce35414a0a8e9d22fc83da1806",
       "style": "IPY_MODEL_5fb036fd00184aaca94029c4a3fb90b2",
       "value": "<p>its a foo cake</p>"
      }
     },
     "f019a06b3b0d4c9daedb4aae3b5545b0": {
      "model_module": "@jupyter-widgets/base",
      "model_module_version": "1.2.0",
      "model_name": "LayoutModel",
      "state": {
       "align_items": "stretch",
       "display": "flex",
       "flex_flow": "row",
       "grid_auto_columns": "True",
       "justify_content": "flex-end",
       "width": "90%"
      }
     },
     "f0632842429241b7b0076cdbf0efeb3a": {
      "model_module": "@jupyter-widgets/controls",
      "model_module_version": "1.5.0",
      "model_name": "RadioButtonsModel",
      "state": {
       "_options_labels": [
        "TEMPLATE: C:\\engDev\\git_mf\\MF_Toolbox\\dev\\mf_scripts\\template_inputs\\inputs-gbxml.json",
        "PROJECT: C:\\engDev\\git_mf\\ipyrun\\ipyrun\\appdata\\inputs\\inputs-gbxml.json"
       ],
       "index": 0,
       "layout": "IPY_MODEL_007205ec33f249958296460405497ac1",
       "style": "IPY_MODEL_80512ca037554323af12110291d2c09c"
      }
     },
     "f06ad3d2e3c54b9093c1e929426d8405": {
      "model_module": "@jupyter-widgets/output",
      "model_module_version": "1.0.0",
      "model_name": "OutputModel",
      "state": {
       "layout": "IPY_MODEL_232645e847b14d4abe26e96d970f50be"
      }
     },
     "f072f45e6ec64afaa7b593fe594c7119": {
      "model_module": "@jupyter-widgets/controls",
      "model_module_version": "1.5.0",
      "model_name": "HBoxModel",
      "state": {
       "children": [
        "IPY_MODEL_5d33df2517c54e82bb5ba684180c5497",
        "IPY_MODEL_94aa1bb3a1b24875ac34b46ed11cf9f4"
       ],
       "layout": "IPY_MODEL_4d116a265f7b4edb8842e651c0b01917"
      }
     },
     "f07aeda3066f47da9569438cf23c5989": {
      "model_module": "@jupyter-widgets/base",
      "model_module_version": "1.2.0",
      "model_name": "LayoutModel",
      "state": {}
     },
     "f0af909a61794865957ac1eba6576b4a": {
      "model_module": "@jupyter-widgets/controls",
      "model_module_version": "1.5.0",
      "model_name": "HTMLModel",
      "state": {
       "layout": "IPY_MODEL_b0b732e4517a4a04ac8200e1e2b2508c",
       "style": "IPY_MODEL_13565bf7896c4534ba76b8f5a767eb5f",
       "value": "<p>reus foo ous oo ous foo st</p>"
      }
     },
     "f0b9505544794a55a2f85ceb34114eeb": {
      "model_module": "@jupyter-widgets/controls",
      "model_module_version": "1.5.0",
      "model_name": "DescriptionStyleModel",
      "state": {
       "description_width": ""
      }
     },
     "f0c813e3c9954621864f5c4db5915b73": {
      "model_module": "@jupyter-widgets/base",
      "model_module_version": "1.2.0",
      "model_name": "LayoutModel",
      "state": {}
     },
     "f0d2e528cf2e4fc1aa7d52c4ece3c9d8": {
      "model_module": "@jupyter-widgets/controls",
      "model_module_version": "1.5.0",
      "model_name": "DescriptionStyleModel",
      "state": {
       "description_width": ""
      }
     },
     "f11ad9a31266465e853d09533277f331": {
      "model_module": "@jupyter-widgets/controls",
      "model_module_version": "1.5.0",
      "model_name": "DescriptionStyleModel",
      "state": {
       "description_width": ""
      }
     },
     "f131d1dc35214c1893ddc45f52cbb1b0": {
      "model_module": "@jupyter-widgets/controls",
      "model_module_version": "1.5.0",
      "model_name": "HTMLModel",
      "state": {
       "layout": "IPY_MODEL_d93081a1b89140589361b4d07e7de86e",
       "style": "IPY_MODEL_2b9881049c1e4cc5b3e435342b2f6978",
       "value": "<p>4</p>"
      }
     },
     "f13cc0c1e0224cb5ac0c9184f8afa139": {
      "model_module": "@jupyter-widgets/base",
      "model_module_version": "1.2.0",
      "model_name": "LayoutModel",
      "state": {}
     },
     "f16b2ebf1578441e883b52639d60c5ad": {
      "model_module": "@jupyter-widgets/controls",
      "model_module_version": "1.5.0",
      "model_name": "DescriptionStyleModel",
      "state": {
       "description_width": ""
      }
     },
     "f1789903b986459e9dea9bb3b7ecd85f": {
      "model_module": "@jupyter-widgets/base",
      "model_module_version": "1.2.0",
      "model_name": "LayoutModel",
      "state": {
       "display": "flex",
       "flex_flow": "row",
       "grid_auto_columns": "False",
       "justify_content": "flex-start",
       "width": "100%"
      }
     },
     "f18babd913e44f678e083f70b6dd2fa1": {
      "model_module": "@jupyter-widgets/base",
      "model_module_version": "1.2.0",
      "model_name": "LayoutModel",
      "state": {}
     },
     "f1a3dba09c9f43f6b30c3ab0b2d45609": {
      "model_module": "@jupyter-widgets/base",
      "model_module_version": "1.2.0",
      "model_name": "LayoutModel",
      "state": {}
     },
     "f1b59d54f3a447e29f9ec81f8337f994": {
      "model_module": "@jupyter-widgets/controls",
      "model_module_version": "1.5.0",
      "model_name": "SelectMultipleModel",
      "state": {
       "_options_labels": [
        "asfd",
        "10",
        "asdf"
       ],
       "index": [
        1
       ],
       "layout": "IPY_MODEL_57fc2a17152c4ac9b3f24ad99c98eb89",
       "rows": 5,
       "style": "IPY_MODEL_523203d0b5c64aef9421066451023d56"
      }
     },
     "f1c12cc7552e49888e915b17f48c3194": {
      "model_module": "@jupyter-widgets/controls",
      "model_module_version": "1.5.0",
      "model_name": "DescriptionStyleModel",
      "state": {
       "description_width": ""
      }
     },
     "f1c7c45c4d614bdba5061f4439c8ce6a": {
      "model_module": "@jupyter-widgets/base",
      "model_module_version": "1.2.0",
      "model_name": "LayoutModel",
      "state": {
       "align_items": "stretch",
       "display": "flex",
       "flex_flow": "row",
       "grid_auto_columns": "True",
       "justify_content": "flex-end",
       "width": "90%"
      }
     },
     "f20a5da336264412a7fc1c9c21aa69df": {
      "model_module": "@jupyter-widgets/controls",
      "model_module_version": "1.5.0",
      "model_name": "ButtonStyleModel",
      "state": {}
     },
     "f2227ab3452b4f869d093b37e0e9ab19": {
      "model_module": "@jupyter-widgets/base",
      "model_module_version": "1.2.0",
      "model_name": "LayoutModel",
      "state": {}
     },
     "f23fd5ff82ab4b4b8dd9ad8bda094e2b": {
      "model_module": "@jupyter-widgets/controls",
      "model_module_version": "1.5.0",
      "model_name": "HBoxModel",
      "state": {
       "children": [
        "IPY_MODEL_d957d0d072934aaf832c9c0661186682"
       ],
       "layout": "IPY_MODEL_b98206f0208045a290d3ea529bcad917"
      }
     },
     "f241acdf99874bca90014b1cdfb4f093": {
      "model_module": "@jupyter-widgets/base",
      "model_module_version": "1.2.0",
      "model_name": "LayoutModel",
      "state": {}
     },
     "f2590eca8f434c50a35b117618ce3bde": {
      "model_module": "@jupyter-widgets/base",
      "model_module_version": "1.2.0",
      "model_name": "LayoutModel",
      "state": {
       "align_items": "stretch",
       "display": "flex",
       "flex_flow": "row",
       "grid_auto_columns": "True",
       "justify_content": "flex-end",
       "width": "90%"
      }
     },
     "f2a9d85c35924932892b4a4e4149abf3": {
      "model_module": "@jupyter-widgets/controls",
      "model_module_version": "1.5.0",
      "model_name": "HTMLModel",
      "state": {
       "layout": "IPY_MODEL_f7dbc8235ab548dba2b3bec0eb2ea896",
       "style": "IPY_MODEL_7c95a997a80a400a972d131f3f99edce",
       "value": "<p>fus foo ous o</p>"
      }
     },
     "f2d2c5f494c2434c9f9f4d87545d2b48": {
      "model_module": "@jupyter-widgets/controls",
      "model_module_version": "1.5.0",
      "model_name": "HTMLModel",
      "state": {
       "layout": "IPY_MODEL_9c93904b98c54b12b83e967bbee87cdb",
       "style": "IPY_MODEL_6cee114c6cf144a2a1682afb07ec6bfd",
       "value": "<p>its a foo cake</p>"
      }
     },
     "f2f468847d6748ffa0f7903c5e247c24": {
      "model_module": "@jupyter-widgets/controls",
      "model_module_version": "1.5.0",
      "model_name": "HBoxModel",
      "state": {
       "children": [
        "IPY_MODEL_cf5d27861ebc4becb60bcf66d7fa8c64",
        "IPY_MODEL_4b9120dd60424d338c0bb627b446e7bd"
       ],
       "layout": "IPY_MODEL_b450becb2f7141d681ac3c98b8e3acfa"
      }
     },
     "f2f648d65e864803866d8675c6f5c7c6": {
      "model_module": "@jupyter-widgets/controls",
      "model_module_version": "1.5.0",
      "model_name": "HBoxModel",
      "state": {
       "children": [
        "IPY_MODEL_9900b4428b6d442291c96c17264271bb",
        "IPY_MODEL_b39d7bc7396a4abb8d2f0cd220fb0eb9"
       ],
       "layout": "IPY_MODEL_1e956656cf3744c39f6261516be300bf"
      }
     },
     "f3498ad6f56a4a7e8c6ff2a4acdd0ba6": {
      "model_module": "@jupyter-widgets/controls",
      "model_module_version": "1.5.0",
      "model_name": "ButtonModel",
      "state": {
       "icon": "question-circle",
       "layout": "IPY_MODEL_cfaac3384f374cfa9eeef3632e028140",
       "style": "IPY_MODEL_9b01e26c2ccc4449b373dc1ca1d3141e",
       "tooltip": "describes the functionality of elements in the RunApp interface"
      }
     },
     "f397c915f9044a40ab44ac3069846e43": {
      "model_module": "@jupyter-widgets/base",
      "model_module_version": "1.2.0",
      "model_name": "LayoutModel",
      "state": {
       "width": "5%"
      }
     },
     "f3aa351516554cc7aa5bd1ec3784820d": {
      "model_module": "@jupyter-widgets/controls",
      "model_module_version": "1.5.0",
      "model_name": "HBoxModel",
      "state": {
       "children": [
        "IPY_MODEL_72e30cc8127b4a12b9086b0e1c82d789"
       ],
       "layout": "IPY_MODEL_a2fe957561cb4fc8af3d18881853ffa2"
      }
     },
     "f3abf38963984b898e5ffbd0c6871b04": {
      "model_module": "@jupyter-widgets/controls",
      "model_module_version": "1.5.0",
      "model_name": "DescriptionStyleModel",
      "state": {
       "description_width": ""
      }
     },
     "f3c9240acbf0413fbaad697daae96deb": {
      "model_module": "@jupyter-widgets/base",
      "model_module_version": "1.2.0",
      "model_name": "LayoutModel",
      "state": {}
     },
     "f3ef097708db403c9b8bd409c234d174": {
      "model_module": "@jupyter-widgets/base",
      "model_module_version": "1.2.0",
      "model_name": "LayoutModel",
      "state": {}
     },
     "f43d766bcf7e4766ac9916bee5000831": {
      "model_module": "@jupyter-widgets/controls",
      "model_module_version": "1.5.0",
      "model_name": "HTMLModel",
      "state": {
       "layout": "IPY_MODEL_a61bcbfd127d47caa86f9c215b74eb86",
       "style": "IPY_MODEL_8f6cae568c33407288272abc326acc20",
       "value": "<p>3rd section of space name code (enter None if 3rd section doesn't exist)</p>"
      }
     },
     "f453be08ad4640eb89e013d5686581ac": {
      "model_module": "@jupyter-widgets/controls",
      "model_module_version": "1.5.0",
      "model_name": "ButtonStyleModel",
      "state": {
       "font_weight": "bold"
      }
     },
     "f45d4d8fdf90473180b5beecc96a0fb6": {
      "model_module": "@jupyter-widgets/base",
      "model_module_version": "1.2.0",
      "model_name": "LayoutModel",
      "state": {
       "align_items": "stretch",
       "display": "flex",
       "flex_flow": "row",
       "grid_auto_columns": "True",
       "justify_content": "flex-end",
       "width": "90%"
      }
     },
     "f46daffa9e444a9882d5b8f5c0cb8d07": {
      "model_module": "@jupyter-widgets/output",
      "model_module_version": "1.0.0",
      "model_name": "OutputModel",
      "state": {
       "layout": "IPY_MODEL_137996008c234dc38249963aed08bd90"
      }
     },
     "f4b9e8a777664b9a882f3532b3cd9ff8": {
      "model_module": "@jupyter-widgets/base",
      "model_module_version": "1.2.0",
      "model_name": "LayoutModel",
      "state": {
       "align_items": "stretch",
       "display": "flex",
       "flex_flow": "row",
       "grid_auto_columns": "True",
       "justify_content": "flex-end",
       "width": "90%"
      }
     },
     "f4be26ccc6f848dbadbf876c7ede5b47": {
      "model_module": "@jupyter-widgets/controls",
      "model_module_version": "1.5.0",
      "model_name": "CheckboxModel",
      "state": {
       "disabled": false,
       "layout": "IPY_MODEL_7c7eeea4ae5b49caa0d19c993a89ecc5",
       "style": "IPY_MODEL_48c51c5d1565431b8d25f28746a9f26f",
       "value": true
      }
     },
     "f4c7d18c2239468699abb8fcc3bc20da": {
      "model_module": "@jupyter-widgets/controls",
      "model_module_version": "1.5.0",
      "model_name": "HTMLModel",
      "state": {
       "layout": "IPY_MODEL_9fb8dd9a0b4f4c79a3ec64c1d89a6b9b",
       "style": "IPY_MODEL_ee4f2250f86b4f8681c87d9393788751",
       "value": "<p>label</p>"
      }
     },
     "f4cf1c68e67240589ce8d8a94f7abfb6": {
      "model_module": "@jupyter-widgets/base",
      "model_module_version": "1.2.0",
      "model_name": "LayoutModel",
      "state": {}
     },
     "f4dc417268bf4d9bad4561b472998d54": {
      "model_module": "@jupyter-widgets/controls",
      "model_module_version": "1.5.0",
      "model_name": "DescriptionStyleModel",
      "state": {
       "description_width": ""
      }
     },
     "f5494b21cccd4c3a87e38e754a1413e5": {
      "model_module": "@jupyter-widgets/controls",
      "model_module_version": "1.5.0",
      "model_name": "DescriptionStyleModel",
      "state": {
       "description_width": ""
      }
     },
     "f561af1efb7e48faba92263645435a38": {
      "model_module": "@jupyter-widgets/controls",
      "model_module_version": "1.5.0",
      "model_name": "DescriptionStyleModel",
      "state": {
       "description_width": ""
      }
     },
     "f5ae498ceae14a0abbd5b8ae15feb9d4": {
      "model_module": "@jupyter-widgets/base",
      "model_module_version": "1.2.0",
      "model_name": "LayoutModel",
      "state": {}
     },
     "f5f2a17897034642a57b05e46522fd43": {
      "model_module": "@jupyter-widgets/controls",
      "model_module_version": "1.5.0",
      "model_name": "HBoxModel",
      "state": {
       "children": [
        "IPY_MODEL_71950fbb77c743e29133526b196b6f96",
        "IPY_MODEL_162d4c1bd606425f818d4067b68473ff"
       ],
       "layout": "IPY_MODEL_eb72f2e194e94b9b9fa5b4bf8ab14cdf"
      }
     },
     "f6144de291c845c389ee75780bcfb819": {
      "model_module": "@jupyter-widgets/controls",
      "model_module_version": "1.5.0",
      "model_name": "DescriptionStyleModel",
      "state": {
       "description_width": ""
      }
     },
     "f619c2e2f39f4222971236e2e9a22174": {
      "model_module": "@jupyter-widgets/base",
      "model_module_version": "1.2.0",
      "model_name": "LayoutModel",
      "state": {}
     },
     "f6a132a7e36146a7a0af1d918d8ac12a": {
      "model_module": "@jupyter-widgets/controls",
      "model_module_version": "1.5.0",
      "model_name": "HBoxModel",
      "state": {
       "children": [
        "IPY_MODEL_229aa1240f3448efbe080c73b031087c",
        "IPY_MODEL_29ad7bfb4b554ba28ccbad735c8e7130"
       ],
       "layout": "IPY_MODEL_baf802a56d7a4d61aa0ec7d36dc678fc"
      }
     },
     "f716072146164fe4bf41d24c7d84e130": {
      "model_module": "@jupyter-widgets/base",
      "model_module_version": "1.2.0",
      "model_name": "LayoutModel",
      "state": {}
     },
     "f723f4adc9f2428d80a253c2f9684118": {
      "model_module": "@jupyter-widgets/controls",
      "model_module_version": "1.5.0",
      "model_name": "HBoxModel",
      "state": {
       "children": [
        "IPY_MODEL_24a86ad8846b45dcb882872f08698aa5",
        "IPY_MODEL_b54f9378e3344fd483d52abc287af2b9"
       ],
       "layout": "IPY_MODEL_3859e3a51d924f01a4df0caddc6355f9"
      }
     },
     "f736d83001e6424ca1854009e39bc271": {
      "model_module": "@jupyter-widgets/output",
      "model_module_version": "1.0.0",
      "model_name": "OutputModel",
      "state": {
       "layout": "IPY_MODEL_8a204bf356f7488a922e3fbff3579ac5"
      }
     },
     "f745a02fcd0c494888204af73df312f6": {
      "model_module": "@jupyter-widgets/base",
      "model_module_version": "1.2.0",
      "model_name": "LayoutModel",
      "state": {
       "display": "flex",
       "flex_flow": "row",
       "grid_auto_columns": "False",
       "justify_content": "flex-start",
       "width": "100%"
      }
     },
     "f7531b1e824b4e64b20923af5490481a": {
      "model_module": "@jupyter-widgets/controls",
      "model_module_version": "1.5.0",
      "model_name": "DescriptionStyleModel",
      "state": {
       "description_width": ""
      }
     },
     "f75d5330d7e64c63bf13818ee844bbc2": {
      "model_module": "@jupyter-widgets/controls",
      "model_module_version": "1.5.0",
      "model_name": "HTMLModel",
      "state": {
       "layout": "IPY_MODEL_07320b1b5ae6463bab1fb30ed6e5e6b2",
       "style": "IPY_MODEL_e136a2897a5c4ae8b006e4c1111de92a",
       "value": "<p>foo</p>"
      }
     },
     "f767f988e50f4ddb8ae9fce22004534d": {
      "model_module": "@jupyter-widgets/base",
      "model_module_version": "1.2.0",
      "model_name": "LayoutModel",
      "state": {}
     },
     "f7748563b6c3457ba42e67ed3614e1d5": {
      "model_module": "@jupyter-widgets/base",
      "model_module_version": "1.2.0",
      "model_name": "LayoutModel",
      "state": {}
     },
     "f7977dfabf0a44228dc608b6908964e0": {
      "model_module": "@jupyter-widgets/base",
      "model_module_version": "1.2.0",
      "model_name": "LayoutModel",
      "state": {}
     },
     "f7dbc8235ab548dba2b3bec0eb2ea896": {
      "model_module": "@jupyter-widgets/base",
      "model_module_version": "1.2.0",
      "model_name": "LayoutModel",
      "state": {}
     },
     "f811fa4b81a640298a1af656df544ac8": {
      "model_module": "@jupyter-widgets/controls",
      "model_module_version": "1.5.0",
      "model_name": "VBoxModel",
      "state": {
       "children": [
        "IPY_MODEL_b858180582b3454c8431fded74b7b84a",
        "IPY_MODEL_8a2d03e247264f31a3a1ce9467bc02f3",
        "IPY_MODEL_cba6a0558ad04f30a4514d6d4619a660"
       ],
       "layout": "IPY_MODEL_69083587e9ab4975b508b3f01c264125"
      }
     },
     "f84345e2f421468581af68c8d1610642": {
      "model_module": "@jupyter-widgets/base",
      "model_module_version": "1.2.0",
      "model_name": "LayoutModel",
      "state": {}
     },
     "f84ea236bded404387a51b5763f2ad23": {
      "model_module": "@jupyter-widgets/base",
      "model_module_version": "1.2.0",
      "model_name": "LayoutModel",
      "state": {
       "align_items": "stretch",
       "display": "flex",
       "flex_flow": "row",
       "grid_auto_columns": "True",
       "justify_content": "flex-end",
       "width": "90%"
      }
     },
     "f882cb9a184e4ab38de211f831ce3030": {
      "model_module": "@jupyter-widgets/controls",
      "model_module_version": "1.5.0",
      "model_name": "HTMLModel",
      "state": {
       "layout": "IPY_MODEL_3eb9a44a185e440bae4ea55b0d56e675",
       "style": "IPY_MODEL_ea998d9552c442a88c84fa82e42877d4",
       "value": "<p>1</p>"
      }
     },
     "f88a853fe1dc4d0a905bf74801f31c79": {
      "model_module": "@jupyter-widgets/controls",
      "model_module_version": "1.5.0",
      "model_name": "DescriptionStyleModel",
      "state": {
       "description_width": ""
      }
     },
     "f89cf40faa864552863ac2fc6421f94d": {
      "model_module": "@jupyter-widgets/controls",
      "model_module_version": "1.5.0",
      "model_name": "HBoxModel",
      "state": {
       "children": [
        "IPY_MODEL_a0ae082802c94aa5b7e48e23c8135bdd",
        "IPY_MODEL_134fe0fed5c1444491de64ce259f07c6"
       ],
       "layout": "IPY_MODEL_b1cfd8b2e0114c36b5aa1202cd0bef7a"
      }
     },
     "f913850dc31247cba8a9460fdfda8f90": {
      "model_module": "@jupyter-widgets/base",
      "model_module_version": "1.2.0",
      "model_name": "LayoutModel",
      "state": {}
     },
     "f927143406a442cd9e5c943bea54ee09": {
      "model_module": "@jupyter-widgets/base",
      "model_module_version": "1.2.0",
      "model_name": "LayoutModel",
      "state": {
       "align_items": "stretch",
       "display": "flex",
       "flex_flow": "row",
       "grid_auto_columns": "True",
       "justify_content": "flex-end",
       "width": "90%"
      }
     },
     "f947a8a6dfe7490594d0b9f023f62fd2": {
      "model_module": "@jupyter-widgets/base",
      "model_module_version": "1.2.0",
      "model_name": "LayoutModel",
      "state": {}
     },
     "f9494d2d893e4674a75acf976792215c": {
      "model_module": "@jupyter-widgets/base",
      "model_module_version": "1.2.0",
      "model_name": "LayoutModel",
      "state": {}
     },
     "f95e63ae622d4c13b1d7e445f4495530": {
      "model_module": "@jupyter-widgets/controls",
      "model_module_version": "1.5.0",
      "model_name": "DescriptionStyleModel",
      "state": {
       "description_width": ""
      }
     },
     "f9884fd1df264974974250d9439c9296": {
      "model_module": "@jupyter-widgets/controls",
      "model_module_version": "1.5.0",
      "model_name": "HBoxModel",
      "state": {
       "children": [
        "IPY_MODEL_a1b205cfecd340c0a5a167986a279f12"
       ],
       "layout": "IPY_MODEL_8970e1cacd1b4688941335ece9055630"
      }
     },
     "f98c9f95bd754ce4a6c6d024a6b07454": {
      "model_module": "@jupyter-widgets/controls",
      "model_module_version": "1.5.0",
      "model_name": "DescriptionStyleModel",
      "state": {
       "description_width": ""
      }
     },
     "f9ab8522b29341babe2310d89142fc8d": {
      "model_module": "@jupyter-widgets/controls",
      "model_module_version": "1.5.0",
      "model_name": "DescriptionStyleModel",
      "state": {
       "description_width": ""
      }
     },
     "f9ca993921ca41a29bec6c16aa5a3f80": {
      "model_module": "@jupyter-widgets/controls",
      "model_module_version": "1.5.0",
      "model_name": "HBoxModel",
      "state": {
       "children": [
        "IPY_MODEL_5ce15dd19df1448babff0b48cfedf34d"
       ],
       "layout": "IPY_MODEL_57626fbef14b4bb6bae501becb136183"
      }
     },
     "f9d33f4ddce447f8abfdc850fdebce54": {
      "model_module": "@jupyter-widgets/base",
      "model_module_version": "1.2.0",
      "model_name": "LayoutModel",
      "state": {}
     },
     "f9d65c1e3dda4f47baabfc85146ae941": {
      "model_module": "@jupyter-widgets/controls",
      "model_module_version": "1.5.0",
      "model_name": "DescriptionStyleModel",
      "state": {
       "description_width": ""
      }
     },
     "f9dbe306fe994979aa48fcabcb86ddef": {
      "model_module": "@jupyter-widgets/controls",
      "model_module_version": "1.5.0",
      "model_name": "DescriptionStyleModel",
      "state": {
       "description_width": ""
      }
     },
     "fa2bba7e62c048a2b2f7d72cf23c7212": {
      "model_module": "@jupyter-widgets/base",
      "model_module_version": "1.2.0",
      "model_name": "LayoutModel",
      "state": {
       "align_items": "stretch",
       "display": "flex",
       "flex_flow": "row",
       "grid_auto_columns": "True",
       "justify_content": "flex-start",
       "width": "80%"
      }
     },
     "fa3b98b30c484b64a5150528921608ce": {
      "model_module": "@jupyter-widgets/base",
      "model_module_version": "1.2.0",
      "model_name": "LayoutModel",
      "state": {
       "align_items": "stretch",
       "display": "flex",
       "flex_flow": "row",
       "grid_auto_columns": "True",
       "justify_content": "flex-start",
       "width": "80%"
      }
     },
     "fa4750535cfc48de8264709f56f5b934": {
      "model_module": "@jupyter-widgets/base",
      "model_module_version": "1.2.0",
      "model_name": "LayoutModel",
      "state": {}
     },
     "fa4d63c31ce440c99be40a1a070f0734": {
      "model_module": "@jupyter-widgets/output",
      "model_module_version": "1.0.0",
      "model_name": "OutputModel",
      "state": {
       "layout": "IPY_MODEL_a51f3a8f746548d39d23781aa62d1aad"
      }
     },
     "fa5423c35baf487f83f74bef5d6e2658": {
      "model_module": "@jupyter-widgets/output",
      "model_module_version": "1.0.0",
      "model_name": "OutputModel",
      "state": {
       "layout": "IPY_MODEL_8001551732e9408ebdeac74c0f403296"
      }
     },
     "fa94f0d5a6d642d5aaa2fc9a58a938f7": {
      "model_module": "@jupyter-widgets/controls",
      "model_module_version": "1.5.0",
      "model_name": "HBoxModel",
      "state": {
       "children": [
        "IPY_MODEL_f072f45e6ec64afaa7b593fe594c7119"
       ],
       "layout": "IPY_MODEL_5ad0bd744a04488fb57fcec0833eb284"
      }
     },
     "fae9ea0b745d4c29a5a350b5c07ca1e9": {
      "model_module": "@jupyter-widgets/base",
      "model_module_version": "1.2.0",
      "model_name": "LayoutModel",
      "state": {
       "width": "5%"
      }
     },
     "fb01c97ee4ef4fbea089bf7733446dd7": {
      "model_module": "@jupyter-widgets/controls",
      "model_module_version": "1.5.0",
      "model_name": "HBoxModel",
      "state": {
       "children": [
        "IPY_MODEL_c08887742f7846bf861aa968e5ccb5bd",
        "IPY_MODEL_670fd1899a284a7989c12cf0be38b770"
       ],
       "layout": "IPY_MODEL_fe5bd80d97cc40f29f255ca2d4df77bb"
      }
     },
     "fb07c91d5f644098bf538fde9e9b0268": {
      "model_module": "@jupyter-widgets/base",
      "model_module_version": "1.2.0",
      "model_name": "LayoutModel",
      "state": {}
     },
     "fb1449d9575b473387b7de1ede82728a": {
      "model_module": "@jupyter-widgets/base",
      "model_module_version": "1.2.0",
      "model_name": "LayoutModel",
      "state": {}
     },
     "fb24f4753e1e4724bf7232b7d4723091": {
      "model_module": "@jupyter-widgets/base",
      "model_module_version": "1.2.0",
      "model_name": "LayoutModel",
      "state": {}
     },
     "fb4783d134ad4522a3d4dda3f77270c7": {
      "model_module": "@jupyter-widgets/controls",
      "model_module_version": "1.5.0",
      "model_name": "HBoxModel",
      "state": {
       "children": [
        "IPY_MODEL_eed8fc4c63d743739e580a3445e3b086"
       ],
       "layout": "IPY_MODEL_d9d23feffc7a4593b26b3fbee3d7f4ad"
      }
     },
     "fb5ccdda3899447cb5ffd7b7dc3cac7e": {
      "model_module": "@jupyter-widgets/controls",
      "model_module_version": "1.5.0",
      "model_name": "DescriptionStyleModel",
      "state": {
       "description_width": ""
      }
     },
     "fb6cb454e1504ceabbfa97bbc4b85411": {
      "model_module": "@jupyter-widgets/base",
      "model_module_version": "1.2.0",
      "model_name": "LayoutModel",
      "state": {}
     },
     "fb87a755b88645ba9d158219684af50b": {
      "model_module": "@jupyter-widgets/base",
      "model_module_version": "1.2.0",
      "model_name": "LayoutModel",
      "state": {
       "align_items": "stretch",
       "border": "dashed 0.2px green",
       "display": "flex",
       "flex_flow": "row",
       "grid_auto_columns": "True",
       "justify_content": "flex-start",
       "width": "100%"
      }
     },
     "fb8929805aa243228b9cd82e733fe35b": {
      "model_module": "@jupyter-widgets/output",
      "model_module_version": "1.0.0",
      "model_name": "OutputModel",
      "state": {
       "layout": "IPY_MODEL_2efc2ae4537249958fe75e350e92eb54"
      }
     },
     "fb8959b7461247a3806e28db90ecc274": {
      "model_module": "@jupyter-widgets/base",
      "model_module_version": "1.2.0",
      "model_name": "LayoutModel",
      "state": {
       "display": "flex",
       "flex_flow": "row",
       "grid_auto_columns": "False",
       "justify_content": "flex-start",
       "width": "100%"
      }
     },
     "fb89cdf1f6bd4517879de2f904e50b07": {
      "model_module": "@jupyter-widgets/controls",
      "model_module_version": "1.5.0",
      "model_name": "HBoxModel",
      "state": {
       "children": [
        "IPY_MODEL_74c754fa49f2438fbceb41e2016b1c8b"
       ],
       "layout": "IPY_MODEL_7e74d400865240d9aeac95c57114865e"
      }
     },
     "fb90e73856d246b28621773a3be438fa": {
      "model_module": "@jupyter-widgets/controls",
      "model_module_version": "1.5.0",
      "model_name": "DescriptionStyleModel",
      "state": {
       "description_width": ""
      }
     },
     "fba63748b7334acc97c932456e8593ab": {
      "model_module": "@jupyter-widgets/controls",
      "model_module_version": "1.5.0",
      "model_name": "VBoxModel",
      "state": {
       "children": [
        "IPY_MODEL_88843c389a7c44c48b3342c7208c68b2",
        "IPY_MODEL_de7a51d40e9047d3b4d160d1da89b539",
        "IPY_MODEL_867cf304a56f4d51a51f750b132d492b"
       ],
       "layout": "IPY_MODEL_0d5d63578bd3422c9064d6fd69d314fa"
      }
     },
     "fbc7dd1d6fa24ff2afa7d6d28f5cddb3": {
      "model_module": "@jupyter-widgets/controls",
      "model_module_version": "1.5.0",
      "model_name": "HTMLModel",
      "state": {
       "layout": "IPY_MODEL_820c6bf345fd4682af8df8722141264d",
       "style": "IPY_MODEL_80ded06b32c14170a49016af0fcaa288",
       "value": "<p>spc_name_index</p>"
      }
     },
     "fbd761e5f3cd4a81902bbc4b2f59f138": {
      "model_module": "@jupyter-widgets/controls",
      "model_module_version": "1.5.0",
      "model_name": "DescriptionStyleModel",
      "state": {
       "description_width": ""
      }
     },
     "fbf2a8ce35414a0a8e9d22fc83da1806": {
      "model_module": "@jupyter-widgets/base",
      "model_module_version": "1.2.0",
      "model_name": "LayoutModel",
      "state": {}
     },
     "fc16d563932041e9a3bbf38db9f744cf": {
      "model_module": "@jupyter-widgets/controls",
      "model_module_version": "1.5.0",
      "model_name": "HTMLModel",
      "state": {
       "layout": "IPY_MODEL_32f86ad7473d48a6a0c8858035a649ec",
       "style": "IPY_MODEL_5a40b3347dcd4b65b055c3bf94cd3c6d",
       "value": "<p>fpth_in</p>"
      }
     },
     "fc49d13ff441459a93469759ea1b95c2": {
      "model_module": "@jupyter-widgets/controls",
      "model_module_version": "1.5.0",
      "model_name": "SliderStyleModel",
      "state": {
       "description_width": ""
      }
     },
     "fc4aa6aadb034fe5908d6107aa9f335a": {
      "model_module": "@jupyter-widgets/controls",
      "model_module_version": "1.5.0",
      "model_name": "RadioButtonsModel",
      "state": {
       "_options_labels": [
        "TEMPLATE: C:\\engDev\\git_mf\\MF_Toolbox\\dev\\mf_scripts\\template_inputs\\inputs-docx_to_pdf.json",
        "PROJECT: C:\\engDev\\git_mf\\ipyrun\\ipyrun\\appdata\\inputs\\inputs-docx_to_pdf.json",
        "PROJECT: C:\\engDev\\git_mf\\ipyrun\\ipyrun\\appdata\\inputs\\archive\\20200610_1134-jg-inputs-docx_to_pdf.json",
        "PROJECT: C:\\engDev\\git_mf\\ipyrun\\ipyrun\\appdata\\inputs\\archive\\20200610_1139-jg-inputs-docx_to_pdf.json",
        "PROJECT: C:\\engDev\\git_mf\\ipyrun\\ipyrun\\appdata\\inputs\\archive\\20200610_1218-jg-inputs-docx_to_pdf.json",
        "PROJECT: C:\\engDev\\git_mf\\ipyrun\\ipyrun\\appdata\\inputs\\archive\\20200610_1220-jg-inputs-docx_to_pdf.json",
        "PROJECT: C:\\engDev\\git_mf\\ipyrun\\ipyrun\\appdata\\inputs\\archive\\20200610_1221-jg-inputs-docx_to_pdf.json",
        "PROJECT: C:\\engDev\\git_mf\\ipyrun\\ipyrun\\appdata\\inputs\\archive\\20200610_1224-jg-inputs-docx_to_pdf.json",
        "PROJECT: C:\\engDev\\git_mf\\ipyrun\\ipyrun\\appdata\\inputs\\archive\\20200610_1225-jg-inputs-docx_to_pdf.json",
        "PROJECT: C:\\engDev\\git_mf\\ipyrun\\ipyrun\\appdata\\inputs\\archive\\20200610_1244-jg-inputs-docx_to_pdf.json",
        "PROJECT: C:\\engDev\\git_mf\\ipyrun\\ipyrun\\appdata\\inputs\\archive\\20200610_1246-jg-inputs-docx_to_pdf.json",
        "PROJECT: C:\\engDev\\git_mf\\ipyrun\\ipyrun\\appdata\\inputs\\archive\\20200610_1419-jg-inputs-docx_to_pdf.json",
        "PROJECT: C:\\engDev\\git_mf\\ipyrun\\ipyrun\\appdata\\inputs\\archive\\20200610_1420-jg-inputs-docx_to_pdf.json",
        "PROJECT: C:\\engDev\\git_mf\\ipyrun\\ipyrun\\appdata\\inputs\\archive\\20200610_1422-jg-inputs-docx_to_pdf.json",
        "PROJECT: C:\\engDev\\git_mf\\ipyrun\\ipyrun\\appdata\\inputs\\archive\\20200610_1425-jg-inputs-docx_to_pdf.json",
        "PROJECT: C:\\engDev\\git_mf\\ipyrun\\ipyrun\\appdata\\inputs\\archive\\20200610_1853-jg-inputs-docx_to_pdf.json",
        "PROJECT: C:\\engDev\\git_mf\\ipyrun\\ipyrun\\appdata\\inputs\\archive\\20200610_1855-jg-inputs-docx_to_pdf.json",
        "PROJECT: C:\\engDev\\git_mf\\ipyrun\\ipyrun\\appdata\\inputs\\archive\\20200611_0748-jg-inputs-docx_to_pdf.json",
        "PROJECT: C:\\engDev\\git_mf\\ipyrun\\ipyrun\\appdata\\inputs\\archive\\20200611_0754-jg-inputs-docx_to_pdf.json",
        "PROJECT: C:\\engDev\\git_mf\\ipyrun\\ipyrun\\appdata\\inputs\\archive\\20200611_0757-jg-inputs-docx_to_pdf.json",
        "PROJECT: C:\\engDev\\git_mf\\ipyrun\\ipyrun\\appdata\\inputs\\archive\\20200616_1026-jg-inputs-docx_to_pdf.json"
       ],
       "index": 0,
       "layout": "IPY_MODEL_79b9ea9b2228470f9886e9b8156d2c01",
       "style": "IPY_MODEL_a073300d424942aa93fbfac0a00d5679"
      }
     },
     "fc521dfa3f36462b810bc40825c231e9": {
      "model_module": "@jupyter-widgets/controls",
      "model_module_version": "1.5.0",
      "model_name": "DescriptionStyleModel",
      "state": {
       "description_width": ""
      }
     },
     "fc7c49e01d794b7d89b70617033b01d9": {
      "model_module": "@jupyter-widgets/base",
      "model_module_version": "1.2.0",
      "model_name": "LayoutModel",
      "state": {}
     },
     "fc9ab5eed7bf47868a84f8467f36effe": {
      "model_module": "@jupyter-widgets/base",
      "model_module_version": "1.2.0",
      "model_name": "LayoutModel",
      "state": {
       "align_items": "stretch",
       "display": "flex",
       "flex_flow": "row",
       "grid_auto_columns": "True",
       "justify_content": "flex-start",
       "width": "80%"
      }
     },
     "fcce2611a8a942c8810d21dd2a9dd069": {
      "model_module": "@jupyter-widgets/base",
      "model_module_version": "1.2.0",
      "model_name": "LayoutModel",
      "state": {}
     },
     "fcd2acbc8c5744e09c22256276df615a": {
      "model_module": "@jupyter-widgets/base",
      "model_module_version": "1.2.0",
      "model_name": "LayoutModel",
      "state": {}
     },
     "fd025b6ceac8478394a4ab6fcfd12cae": {
      "model_module": "@jupyter-widgets/controls",
      "model_module_version": "1.5.0",
      "model_name": "DescriptionStyleModel",
      "state": {
       "description_width": ""
      }
     },
     "fd377bdd0ee84843931fd9f1b737a5b3": {
      "model_module": "@jupyter-widgets/base",
      "model_module_version": "1.2.0",
      "model_name": "LayoutModel",
      "state": {
       "width": "5%"
      }
     },
     "fd660e9fdb6542faa02ec49818957cea": {
      "model_module": "@jupyter-widgets/controls",
      "model_module_version": "1.5.0",
      "model_name": "TextareaModel",
      "state": {
       "layout": "IPY_MODEL_f947a8a6dfe7490594d0b9f023f62fd2",
       "style": "IPY_MODEL_17d7ffd5c05b4e5796e32c0fb8d18b4e",
       "value": "asdfasdf"
      }
     },
     "fd9b8fbe51e24c81b7fed178008cce5c": {
      "model_module": "@jupyter-widgets/base",
      "model_module_version": "1.2.0",
      "model_name": "LayoutModel",
      "state": {}
     },
     "fda305f0a6e54e489428d45fbe537121": {
      "model_module": "@jupyter-widgets/base",
      "model_module_version": "1.2.0",
      "model_name": "LayoutModel",
      "state": {
       "align_items": "stretch",
       "display": "flex",
       "flex_flow": "row",
       "grid_auto_columns": "True",
       "justify_content": "flex-start",
       "width": "80%"
      }
     },
     "fde8a7268ac748d99972fc3031af1015": {
      "model_module": "@jupyter-widgets/controls",
      "model_module_version": "1.5.0",
      "model_name": "HBoxModel",
      "state": {
       "children": [
        "IPY_MODEL_332e30c7ae224b73a73ca38afef5f3dc",
        "IPY_MODEL_046c4339dd1b4f5ba2a49b2ff7c2db62"
       ],
       "layout": "IPY_MODEL_8c679b61e84f47b4a48bd129584671c5"
      }
     },
     "fe1860c70f6e487d83dee3f1db10193f": {
      "model_module": "@jupyter-widgets/controls",
      "model_module_version": "1.5.0",
      "model_name": "HBoxModel",
      "state": {
       "children": [
        "IPY_MODEL_eccc78e1d3b64ceda8ab72e7ab2cdbb2",
        "IPY_MODEL_cc79e7fbccb54668808a26781db39ff4"
       ],
       "layout": "IPY_MODEL_bea66c9e792b497cbafb32618b2fbc14"
      }
     },
     "fe2f625d696140eb969d09ff8f2cb03c": {
      "model_module": "@jupyter-widgets/base",
      "model_module_version": "1.2.0",
      "model_name": "LayoutModel",
      "state": {
       "align_items": "stretch",
       "display": "flex",
       "flex_flow": "row",
       "grid_auto_columns": "True",
       "justify_content": "flex-end",
       "width": "90%"
      }
     },
     "fe3696fed3a4404aa62f7705aba61900": {
      "model_module": "@jupyter-widgets/controls",
      "model_module_version": "1.5.0",
      "model_name": "HTMLModel",
      "state": {
       "layout": "IPY_MODEL_a6be512ea367475ca409839ad0719818",
       "style": "IPY_MODEL_a8e669869c684c378d07a7d02389b2fb",
       "value": "<p>name</p>"
      }
     },
     "fe525f6dcf18466590b88e7ad7c3afc6": {
      "model_module": "@jupyter-widgets/controls",
      "model_module_version": "1.5.0",
      "model_name": "HTMLModel",
      "state": {
       "layout": "IPY_MODEL_5a2b36da149440f6ab2886f81194c98a",
       "style": "IPY_MODEL_6e5eb2ac0e344c4db862ce33912c17f4",
       "value": "<p>its a foo cake</p>"
      }
     },
     "fe5bd80d97cc40f29f255ca2d4df77bb": {
      "model_module": "@jupyter-widgets/base",
      "model_module_version": "1.2.0",
      "model_name": "LayoutModel",
      "state": {
       "align_items": "stretch",
       "display": "flex",
       "flex_flow": "row",
       "grid_auto_columns": "True",
       "justify_content": "flex-start",
       "width": "80%"
      }
     },
     "fe942d1e618a453d80dad4803792fb7b": {
      "model_module": "@jupyter-widgets/base",
      "model_module_version": "1.2.0",
      "model_name": "LayoutModel",
      "state": {}
     },
     "fea0f11a37b4467582c07e3b535356dc": {
      "model_module": "@jupyter-widgets/controls",
      "model_module_version": "1.5.0",
      "model_name": "HTMLModel",
      "state": {
       "layout": "IPY_MODEL_9231c17b6214482eafbad2dfeb99812d",
       "style": "IPY_MODEL_e03db43555f24828938921e5ef7dab30",
       "value": "<p>1</p>"
      }
     },
     "fefc8b0e99b741a7b7c0445825d13ef8": {
      "model_module": "@jupyter-widgets/base",
      "model_module_version": "1.2.0",
      "model_name": "LayoutModel",
      "state": {}
     },
     "ff184c0c52644bd1a992632c1e86eb96": {
      "model_module": "@jupyter-widgets/controls",
      "model_module_version": "1.5.0",
      "model_name": "HTMLModel",
      "state": {
       "layout": "IPY_MODEL_c5e3a5c478b34637bbca604eea9f6da9",
       "style": "IPY_MODEL_6d3b2a087fb9463eaf845efa223260d2",
       "value": "<p>foo</p>"
      }
     },
     "ff5184b04a604aefb3c2ae892737d086": {
      "model_module": "@jupyter-widgets/base",
      "model_module_version": "1.2.0",
      "model_name": "LayoutModel",
      "state": {
       "align_items": "stretch",
       "display": "flex",
       "flex_flow": "row",
       "grid_auto_columns": "True",
       "justify_content": "flex-start",
       "width": "80%"
      }
     },
     "fffba519625b4fb99afb0d07444d094f": {
      "model_module": "@jupyter-widgets/controls",
      "model_module_version": "1.5.0",
      "model_name": "HBoxModel",
      "state": {
       "children": [
        "IPY_MODEL_bcde18ebec39432c9252f0f616bd602e"
       ],
       "layout": "IPY_MODEL_c8fbed8e000a4d8e880ca9ad03dbcafc"
      }
     },
     "ffffa62ccc4f48dda856eda93262f678": {
      "model_module": "@jupyter-widgets/base",
      "model_module_version": "1.2.0",
      "model_name": "LayoutModel",
      "state": {}
     }
    },
    "version_major": 2,
    "version_minor": 0
   }
  }
 },
 "nbformat": 4,
 "nbformat_minor": 4
}
