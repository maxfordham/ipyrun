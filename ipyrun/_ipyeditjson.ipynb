{
 "cells": [
  {
   "cell_type": "code",
   "execution_count": 1,
   "metadata": {},
   "outputs": [],
   "source": [
    "import os\n",
    "import pandas as pd\n",
    "from IPython.display import display, Image, JSON, Markdown, HTML, display_pdf, clear_output\n",
    "from markdown import markdown\n",
    "from datetime import datetime\n",
    "\n",
    "# widget stuff\n",
    "import ipywidgets as widgets\n",
    "import ipysheet\n",
    "from ipysheet import from_dataframe, to_dataframe\n",
    "\n",
    "# core mf_modules\n",
    "from mf_modules.pydtype_operations import read_json, write_json \n",
    "from mf_modules.file_operations import make_dir\n",
    "\n",
    "\n",
    "# from this repo\n",
    "# this is an unpleasant hack. should aim to find a better solution\n",
    "try:\n",
    "    from ipyrun._filecontroller import FileConfigController\n",
    "    from ipyrun._runconfig import RunConfig\n",
    "except:\n",
    "    from _filecontroller import FileConfigController\n",
    "    from _runconfig import RunConfig"
   ]
  },
  {
   "cell_type": "code",
   "execution_count": 2,
   "metadata": {},
   "outputs": [],
   "source": [
    "def _markdown(value='_Markdown_',\n",
    "              **kwargs):\n",
    "    \"\"\"\n",
    "    a simple template for markdown text input that templates required input\n",
    "    fields. additional user defined fields can be added as kwargs\n",
    "    \"\"\"\n",
    "    _kwargs = {}\n",
    "    _kwargs['value'] = markdown(value)  # required field\n",
    "    _kwargs.update(kwargs)  # user overides\n",
    "    return widgets.HTML(**_kwargs)\n",
    "\n",
    "class EditDictData():\n",
    "    \"\"\"\n",
    "    contains form layout specs and mapping dict used for associating input\n",
    "    variables to the appropriate widget. \n",
    "    \"\"\"\n",
    "           \n",
    "    @property\n",
    "    def MF_FORM_ITEM_LAYOUT(self):\n",
    "        return widgets.Layout(\n",
    "            display='flex',\n",
    "            flex_flow='row',\n",
    "            justify_content='flex-start',\n",
    "            #border='solid 1px green',\n",
    "            grid_auto_columns='True',\n",
    "            width='80%',\n",
    "            align_items='stretch',  \n",
    "        )\n",
    "    \n",
    "    @property\n",
    "    def MF_FORM_ITEM_LAYOUT1(self):\n",
    "        return widgets.Layout(\n",
    "            display='flex',\n",
    "            flex_flow='row',\n",
    "            justify_content='flex-end',\n",
    "            #border='solid 1px green',\n",
    "            grid_auto_columns='True',\n",
    "            width='90%',\n",
    "            align_items='stretch',  \n",
    "        )\n",
    "    \n",
    "    @property\n",
    "    def MF_FORM_ITEM_LAYOUT2(self):\n",
    "        return widgets.Layout(\n",
    "            display='flex',\n",
    "            flex_flow='row',\n",
    "            justify_content='flex-start',\n",
    "            border='dashed 0.2px green',\n",
    "            grid_auto_columns='True',\n",
    "            width='100%',\n",
    "            align_items='stretch',  \n",
    "        )\n",
    "    \n",
    "    @property\n",
    "    def map_keys(self):\n",
    "        return ['value', 'options', 'min', 'max']\n",
    "    \n",
    "    @property\n",
    "    def map_widgets(self):\n",
    "        # mapping dict used to guess what widget to apply\n",
    "        return {\n",
    "            'FloatText': {\n",
    "                'value_type': \"<class 'float'>\",\n",
    "                'options_type': \"<class 'NoneType'>\",\n",
    "                'min_type': \"<class 'NoneType'>\",\n",
    "                'max_type': \"<class 'NoneType'>\"\n",
    "            },\n",
    "           'FloatSlider': {\n",
    "                'value_type': \"<class 'float'>\",\n",
    "                'options_type': \"<class 'NoneType'>\",\n",
    "                'min_type': \"<class 'float'>\",\n",
    "                'max_type': \"<class 'float'>\"\n",
    "           },\n",
    "           'Dropdown': {\n",
    "                'value_type': 'any',\n",
    "                'options_type': \"<class 'list'>\",\n",
    "                'min_type': \"<class 'NoneType'>\",\n",
    "                'max_type': \"<class 'NoneType'>\"\n",
    "           },\n",
    "           'SelectMultiple': {\n",
    "                'value_type': \"<class 'list'>\",\n",
    "                'options_type': \"<class 'list'>\",\n",
    "                'min_type': \"<class 'NoneType'>\",\n",
    "                'max_type': \"<class 'NoneType'>\"\n",
    "           },\n",
    "           'Checkbox': {\n",
    "                'value_type': \"<class 'bool'>\",\n",
    "                'options_type': \"<class 'NoneType'>\",\n",
    "                'min_type': \"<class 'NoneType'>\",\n",
    "                'max_type': \"<class 'NoneType'>\"\n",
    "           },\n",
    "           'Text': {\n",
    "                'value_type': \"<class 'str'>\",\n",
    "                'options_type': \"<class 'NoneType'>\",\n",
    "                'min_type': \"<class 'NoneType'>\",\n",
    "                'max_type': \"<class 'NoneType'>\"\n",
    "           },\n",
    "           '_recursive_guess': {\n",
    "                'value_type': \"<class 'list'>\",\n",
    "                'options_type': \"<class 'NoneType'>\",\n",
    "                'min_type': \"<class 'NoneType'>\",\n",
    "                'max_type': \"<class 'NoneType'>\"\n",
    "           }\n",
    "        }\n",
    "    \n",
    "    @property\n",
    "    def widget_lkup(self):\n",
    "        return {\n",
    "                'FloatText':widgets.FloatText,\n",
    "                'FloatSlider':widgets.FloatSlider,\n",
    "                'Dropdown':widgets.Dropdown,\n",
    "                'SelectMultiple':widgets.SelectMultiple,\n",
    "                'Checkbox':widgets.Checkbox,\n",
    "                'Text':widgets.Text,\n",
    "                'Textarea':widgets.Textarea,\n",
    "                '_recursive_guess':self._recursive_guess,\n",
    "                'ipysheet':self._ipysheet\n",
    "            }\n",
    "\n",
    "    \n",
    "class EditDict(EditDictData):\n",
    "    '''\n",
    "    a class that is passed a dict and then guesses the most appropriate \n",
    "    widget from the values in the dict.\n",
    "    - if a nested list of dicts is passed:\n",
    "        => it will create an embedded, clickable show/hide nested input form\n",
    "    - if a json dataframe object is passed as the \"value\" and and the key:value\n",
    "      \"widget\":\"ipysheet\" is passed in the same dict:\n",
    "        => it will create an editable ipysheet dataframe widget\n",
    "    '''\n",
    "    def __init__(self, di):\n",
    "        self.out = widgets.Output()\n",
    "        self.di = di\n",
    "        self.form()\n",
    " \n",
    "    def form(self):\n",
    "        self.di = self._update_di()\n",
    "        if 'widget' not in self.di.keys():\n",
    "            self.di_types = self._get_var_types()\n",
    "            self.widget_name, self.report = self.map_widget()           \n",
    "        else:\n",
    "            self.widget_name = self.di['widget']\n",
    "        self.kwargs = self._kwargfilt()\n",
    "        self.layout = self._build_widget()\n",
    "        if self.widget_name != 'ipysheet' and self.widget_name != '_recursive_guess':\n",
    "            self._init_controls()\n",
    "          \n",
    "    def _init_controls(self):   \n",
    "        self.widget_only.observe(self._update_change, 'value') \n",
    "\n",
    "    def _update_change(self, change):\n",
    "        self.di['value'] = self.widget_only.value\n",
    "\n",
    "    def _build_widget(self):\n",
    "        \n",
    "        if self.widget_name == '_recursive_guess':\n",
    "            self._recursive_guess()\n",
    "        elif self.widget_name == 'ipysheet':\n",
    "            self._ipysheet()\n",
    "        else:\n",
    "            self.widget_only = self.widget_lkup[self.widget_name](**self.kwargs)\n",
    "        self.widget_simple = widgets.HBox([self.widget_only,_markdown(self.di['label'])],layout=self.MF_FORM_ITEM_LAYOUT)\n",
    "        self.widget_row = widgets.HBox([_markdown(self.di['name']),self.widget_simple],layout=self.MF_FORM_ITEM_LAYOUT1)\n",
    "        if 'fpth_help' in self.di.keys():\n",
    "            self.guide = widgets.ToggleButton(icon='fa-question-circle',\n",
    "                                              description='help',\n",
    "                                              tooltip='gives guidance',\n",
    "                                              style={'font_weight':'bold'},\n",
    "                                              layout=widgets.Layout(width='5%'))\n",
    "            self.guide.observe(self._guide, 'value')\n",
    "            layout = widgets.HBox([self.widget_row ,self.guide],layout=self.MF_FORM_ITEM_LAYOUT2)\n",
    "        else:\n",
    "            layout = widgets.HBox([self.widget_row ],layout=self.MF_FORM_ITEM_LAYOUT2)\n",
    "        return layout\n",
    "    \n",
    "    def _guide(self, sender):\n",
    "        with self.out:\n",
    "            if self.guide.value:  \n",
    "                display(Image(os.path.join(os.environ['mf_root'],r'engDevSetup\\dev\\icons\\icon_png\\help-icon.png')));\n",
    "            else:\n",
    "                clear_output()\n",
    "                \n",
    "    def _kwargfilt(self):\n",
    "        return {k:v for (k,v) in self.di.items() if k != 'widget' and k != 'name' and k != 'label' and k != 'fpth_help' and v is not None}\n",
    "        \n",
    "    def _update_di(self):\n",
    "\n",
    "        def add_to_dict(di, keyname='None', valuename=None):\n",
    "            if keyname not in di.keys():\n",
    "                di[keyname]=valuename\n",
    "            return di\n",
    "        tmp = self.di\n",
    "        tmp = add_to_dict(tmp,keyname='min')\n",
    "        tmp = add_to_dict(tmp,keyname='max')\n",
    "        tmp = add_to_dict(tmp,keyname='options')\n",
    "        tmp = add_to_dict(tmp,keyname='name', valuename='name')\n",
    "        tmp = add_to_dict(tmp,keyname='label', valuename='label')\n",
    "        return tmp\n",
    "        \n",
    "    def _get_var_types(self):\n",
    "\n",
    "        def int_type_to_float(di):\n",
    "            di_ = {}\n",
    "            for key, val in di.items():\n",
    "                if val == \"<class 'int'>\":\n",
    "                    di_[key] = \"<class 'float'>\"\n",
    "                else:\n",
    "                    di_[key] = val\n",
    "            return di_\n",
    "        di = self.di\n",
    "        keys = self.map_keys\n",
    "        di_filt = { key: di[key] for key in keys }\n",
    "        di_types = {key+'_type': str(type(di_filt[key])) for key in keys}\n",
    "        di_types= int_type_to_float(di_types)\n",
    "        return di_types\n",
    "    \n",
    "    def map_widget(self):\n",
    "        \"\"\"\n",
    "        uses the types of the different inputs to map an input \n",
    "        to the appropriate widget\n",
    "\n",
    "        Reference:\n",
    "            |                 | value_type      | options_type       | min_type           | max_type           |\n",
    "            |:----------------|:----------------|:-------------------|:-------------------|:-------------------|\n",
    "            | FloatText       | <class 'float'> | <class 'NoneType'> | <class 'NoneType'> | <class 'NoneType'> |\n",
    "            | FloatSlider     | <class 'float'> | <class 'NoneType'> | <class 'float'>    | <class 'float'>    |\n",
    "            | Dropdown        | <class 'float'> | <class 'list'>     | <class 'NoneType'> | <class 'NoneType'> |\n",
    "            | SelectMultiple  | <class 'list'>  | <class 'list'>     | <class 'NoneType'> | <class 'NoneType'> |\n",
    "            | Checkbox        | <class 'bool'>  | <class 'NoneType'> | <class 'NoneType'> | <class 'NoneType'> |\n",
    "            | Text            | <class 'str'>   | <class 'NoneType'> | <class 'NoneType'> | <class 'NoneType'> |\n",
    "            | _recursive_guess| <class 'list'>  | <class 'NoneType'> | <class 'NoneType'> | <class 'NoneType'> |\n",
    "        \"\"\"\n",
    "        di_types = self.di_types\n",
    "        map_widgets = self.map_widgets\n",
    "        m = 0\n",
    "        for k, v in map_widgets.items():\n",
    "            # this settles ambiguity for value type from Dropdown (which could be anything)\n",
    "            #if k == widgets.Dropdown and di_types['value_type'] != \"<class 'list'>\":\n",
    "            if k == 'Dropdown' and di_types['value_type'] != \"<class 'list'>\":\n",
    "                v['value_type'] = di_types['value_type']\n",
    "            if v == di_types:\n",
    "                m=+1\n",
    "                widget_name = k\n",
    "        if m < 1:\n",
    "            report = 'no matching widget found... check inputs...'\n",
    "            print(di_types)\n",
    "            print(report)\n",
    "            widget_name = 'Text'\n",
    "        elif m == 1:\n",
    "            report = 'perfect match!'\n",
    "        else:\n",
    "            report = 'multiple matches found... check code...'\n",
    "            print(di_types)\n",
    "            print(report)\n",
    "        return widget_name, report\n",
    "    \n",
    "    # -------------------------------------------------------------------------     \n",
    "    # code that allows for embedded list of dicts -----------------------------\n",
    "    def _recursive_guess(self):\n",
    "        self.kwargs = {k:v for (k,v) in self.kwargs.items() if k != 'value'}\n",
    "        self.widget_only = widgets.ToggleButton(**self.kwargs)\n",
    "        self._recursive_controls()\n",
    "        \n",
    "    def _recursive_controls(self):\n",
    "        self.widget_only.observe(self._call_GuessWidget, 'value')\n",
    "\n",
    "    def _call_GuessWidget(self, sender):\n",
    "        self.nested_g = EditListOfDicts(self.di['value'])\n",
    "        self.di['value'] = self.nested_g.li\n",
    "        with self.out:\n",
    "            if self.widget_only.value:  \n",
    "                display(self.nested_g)\n",
    "            else:\n",
    "                clear_output()\n",
    "    # --------------------------------------------------------------------------\n",
    "    # code that allows for embedded ipysheets ----------------------------------\n",
    "    def _ipysheet(self):\n",
    "        self.kwargs = {k:v for (k,v) in self.kwargs.items() if k != 'value'}\n",
    "        self.widget_only = widgets.ToggleButton(**self.kwargs)\n",
    "        self.save_ipysheet = widgets.Button(description='save')\n",
    "        self._ipysheet_controls()\n",
    "        \n",
    "    def _ipysheet_controls(self):\n",
    "        self.widget_only.observe(self.call_ipysheet, 'value')\n",
    "        self.save_ipysheet.on_click(self._save_ipysheet)\n",
    "        \n",
    "    def call_ipysheet(self, sender):\n",
    "        tmp = pd.read_json(self.di['value'])\n",
    "        self.sheet = ipysheet.sheet(ipysheet.from_dataframe(tmp)) # initiate sheet\n",
    "        with self.out:\n",
    "            if self.widget_only.value:  \n",
    "                display(self.save_ipysheet)\n",
    "                display(self.sheet)\n",
    "            else:\n",
    "                clear_output()\n",
    "    \n",
    "    def _save_ipysheet(self, change):\n",
    "        tmp = to_dataframe(self.sheet)\n",
    "        self.di['value'] = tmp.to_json()\n",
    "        with self.out:\n",
    "            clear_output()\n",
    "            dateTimeObj = datetime.now()\n",
    "            timestampStr = dateTimeObj.strftime(\"%d-%b-%Y %H:%M:%S:\")\n",
    "            display(Markdown('{0} changes to sheet saved. hit save in main dialog to save to file'.format(timestampStr)))\n",
    "        self.display()\n",
    "    # --------------------------------------------------------------------------\n",
    "\n",
    "    def display(self):\n",
    "        display(self.layout)\n",
    "        display(self.out)\n",
    "         \n",
    "    def _ipython_display_(self):\n",
    "        self.display()    "
   ]
  },
  {
   "cell_type": "code",
   "execution_count": 3,
   "metadata": {},
   "outputs": [],
   "source": [
    "class EditListOfDicts():\n",
    "    \"\"\"\n",
    "    builds user input form from a list of dicts by creating a \n",
    "    loop of EditDict objects.\n",
    "    \"\"\"\n",
    "    def __init__(self, li):\n",
    "        \"\"\"\n",
    "        class that builds a user interface based on a list of dicts, where each dict is \n",
    "        a ipywidget user interface object. The class inteprets which widget to select based on the \n",
    "        type of the value and the keys that are passed. The keys are passed to the ipywidget \n",
    "        object as **kwargs.\n",
    "\n",
    "        Args:\n",
    "            li (list): list of dicts. each dict must contain 'name', 'value' and 'label' as the \n",
    "                minimum set of keys for making a ipywidget. additional keys that are passed \n",
    "                get become **kwargs that are passed to the selected ipywidget\n",
    "                \n",
    "        Example:\n",
    "            ```\n",
    "            li = [\n",
    "                    {\n",
    "                        'name':'water_volume_m3',\n",
    "                        'value':15,\n",
    "                        'label':'total volume of water within the closed mechanical system'\n",
    "                    },\n",
    "                    {\n",
    "                        'name':'height_difference_m',\n",
    "                        'value':48,\n",
    "                        'label':'difference in height between the highest and lowest points in the system'\n",
    "                    },\n",
    "                    {\n",
    "                        'name':'eV_acceptance_fraction',\n",
    "                        'value':0.3,\n",
    "                        'min':0,\n",
    "                        'max':1,\n",
    "                        'label':'Expansion vessel acceptance factor (= additional volume / expansion vessel volume):'\n",
    "                    }\n",
    "                ]\n",
    "            ```\n",
    "            \n",
    "            >>> from ipyrun._ipyeditjson import EditListOfDicts\n",
    "            >>> ui = EditListOfDicts(li)\n",
    "            >>> ui\n",
    "            see example image above\n",
    "        Images:\n",
    "            %mf_root%\\ipyrun\\docs\\images\\eg_ui.PNG\n",
    "        \"\"\"\n",
    "        \n",
    "        self.out = widgets.Output()\n",
    "        self.li = li\n",
    "        self.form()\n",
    "        self._init_observe()\n",
    "    \n",
    "    def form(self):\n",
    "        self.widgets = []\n",
    "        for l in self.li:\n",
    "            self.widgets.append(EditDict(l))\n",
    "        self.applayout = widgets.VBox([l.layout for l in self.widgets])\n",
    "        \n",
    "        \n",
    "    def _init_observe(self):  \n",
    "        for l in self.widgets:\n",
    "            l.widget_only.observe(self._update_change, 'value') \n",
    "            \n",
    "    def _update_change(self, change):\n",
    "        self.li = []\n",
    "        for l in self.widgets:\n",
    "            self.li.append(l.di)\n",
    "        \n",
    "    def display(self):\n",
    "        out = [l.layout for l in self.widgets]\n",
    "        self.applayout = widgets.VBox(out)\n",
    "        display(self.applayout)\n",
    "        for l in self.widgets:\n",
    "            display(l.out)\n",
    "            \n",
    "    def _ipython_display_(self):\n",
    "        self.display()  "
   ]
  },
  {
   "cell_type": "code",
   "execution_count": 4,
   "metadata": {},
   "outputs": [],
   "source": [
    "class SimpleEditJson(EditListOfDicts):\n",
    "    \"\"\"\n",
    "    inherits EditListOfDicts user input form and manages the reading and \n",
    "    writing the data from a JSON file. \n",
    "    \"\"\"\n",
    "    #def __init__(self, fpth, fdir='.', local_fol='_mfengdev'):\n",
    "    def __init__(self, fpth_in, fpth_out=None):\n",
    "        self.out = widgets.Output()\n",
    "        self.fpth_in = fpth_in\n",
    "        if fpth_out==None:\n",
    "            self.fpth_out = fpth_in\n",
    "        else:\n",
    "            self.fpth_out = fpth_out\n",
    "        #self.fdir = fdir\n",
    "        #self.local_fol = local_fol\n",
    "        #self.fpth_out = self._fpth_out()\n",
    "        self.li = read_json(self.fpth_in)\n",
    "        self.save_changes = widgets.Button(description='save',button_style='success')\n",
    "        self.form()\n",
    "        self._init_observe()\n",
    "        self._init_controls()\n",
    "        \n",
    "    #def _fpth_out(self):\n",
    "    #    fol = os.path.join(self.fdir, self.local_fol)\n",
    "    #    make_dir(fol)\n",
    "    #    return os.path.join(fol,os.path.basename(self.fpth_in))\n",
    "    \n",
    "    def _init_controls(self):  \n",
    "        self.save_changes.on_click(self._save_changes)\n",
    "        \n",
    "    def _save_changes(self, sender):\n",
    "        self.data_out = self.li\n",
    "        #try:\n",
    "            \n",
    "        write_json(self.data_out,\n",
    "                   sort_keys=True,\n",
    "                   indent=4,\n",
    "                   fpth=self.fpth_out,\n",
    "                   print_fpth=False,\n",
    "                   openFile=False)\n",
    "        with self.out:\n",
    "            clear_output()\n",
    "            dateTimeObj = datetime.now()\n",
    "            timestampStr = dateTimeObj.strftime(\"%d-%b-%Y %H:%M:%S:\")\n",
    "            display(Markdown('{0} changes to sheet logged.  to: {1}'.format(timestampStr,self.fpth_out)))\n",
    "            \n",
    "    def display(self):\n",
    "        display(self.save_changes)\n",
    "        out = [l.layout for l in self.widgets]\n",
    "        self.applayout = widgets.VBox(out)\n",
    "        display(self.applayout)\n",
    "        for l in self.widgets:\n",
    "            display(l.out)\n",
    "        display(self.out)\n",
    "            \n",
    "    def _ipython_display_(self):\n",
    "        self.display()  "
   ]
  },
  {
   "cell_type": "code",
   "execution_count": 5,
   "metadata": {},
   "outputs": [],
   "source": [
    "class EditJson(EditListOfDicts, FileConfigController):\n",
    "    \"\"\"\n",
    "    inherits EditListOfDicts user input form as well FileConfigController \n",
    "    and manages the reading and writing the data from a JSON file. \n",
    "    \"\"\"\n",
    "    #def __init__(self, fpth, fdir='.', local_fol='_mfengdev'):\n",
    "    def __init__(self, config):\n",
    "        self.out = widgets.Output()\n",
    "        self._errors()\n",
    "        self.config = config\n",
    "        self.user_keys = list(config.keys())\n",
    "        self._update_config()\n",
    "        self.li = read_json(self.fpth_inputs)\n",
    "        self.file_control_form()\n",
    "        self._init_file_controller()\n",
    "        self.form()\n",
    "        self._init_observe()\n",
    "        \n",
    "                        \n",
    "    def _revert(self, sender):\n",
    "        \"\"\"revert to last save of working inputs file\"\"\"\n",
    "        fpth = self.fpth_inputs\n",
    "        self.temp_message.value = markdown('revert to inputs in last save of: {0}'.format(fpth))\n",
    "        \n",
    "        # ADD CODE HERE TO REVERT TO LAST SAVE\n",
    "        \n",
    "        self.li = read_json(self.fpth_inputs)\n",
    "        self._update_from_file()\n",
    "        self.update_display()\n",
    "        self.display()\n",
    "\n",
    "        \n",
    "    def _update_from_file(self):\n",
    "        for idx, val in enumerate(self.li):\n",
    "            self.widgets[idx].widget_only.value = val['value']\n",
    "            \n",
    "    def _save_changes(self, sender):\n",
    "        \"\"\"save changes to working inputs file\"\"\"\n",
    "        fpth = self.fpth_inputs\n",
    "        dateTimeObj = datetime.now()\n",
    "        self.save_timestampStr = dateTimeObj.strftime(\"%d-%b-%Y %H:%M:%S\")\n",
    "        self.temp_message.value = markdown('{0} saved at: {1}'.format(fpth, self.save_timestampStr))\n",
    "        \n",
    "        self.data_out = self.li \n",
    "        # add code here to save changes to file\n",
    "        write_json(self.data_out,\n",
    "                   sort_keys=True,\n",
    "                   indent=4,\n",
    "                   fpth=fpth,\n",
    "                   print_fpth=False,\n",
    "                   openFile=False)\n",
    "        \n",
    "        self.update_display()\n",
    "        self.display()\n",
    "        \n",
    "    def _load_inputs(self,sender):\n",
    "        \"\"\"launches the inputs from file dialog\"\"\"\n",
    "        self.temp_message.value = markdown('update the user input form with data from file')\n",
    "        if self.load_inputs.value:\n",
    "            self.inputform.children = [self.load_button, self.choose_inputs]\n",
    "        else:\n",
    "            self.temp_message.value = markdown('')\n",
    "            self.inputform.children = []\n",
    "        self.update_display()\n",
    "        self.display()\n",
    "\n",
    "    def _load(self,sender):\n",
    "\n",
    "        fpth = self.choose_inputs.value\n",
    "        # add code here to load form from file\n",
    "        self.li = read_json(fpth)\n",
    "        self._update_from_file()\n",
    "        self.temp_message.value = markdown('input form load data from: {0}'.format(fpth))\n",
    "        self.update_display()\n",
    "        self.display()\n",
    "        \n",
    "    def update_display(self):\n",
    "        box = widgets.VBox([\n",
    "            self.button_bar,\n",
    "            self.temp_message,\n",
    "            self.inputform,\n",
    "        ])\n",
    "        self.layout = box\n",
    "            \n",
    "    def display(self):\n",
    "        self.update_display()\n",
    "        display(self.layout)\n",
    "        #out = [l.layout for l in self.widgets]\n",
    "        #self.applayout = widgets.VBox(out)\n",
    "        display(self.applayout)\n",
    "        #for l in self.widgets:\n",
    "        #    display(l.out)\n",
    "        display(self.out)\n",
    "            \n",
    "    def _ipython_display_(self):\n",
    "        self.display()  "
   ]
  },
  {
   "cell_type": "code",
   "execution_count": 6,
   "metadata": {},
   "outputs": [
    {
     "data": {
      "application/vnd.jupyter.widget-view+json": {
       "model_id": "cccd1fa119d34a3eab8c6a420e52c2a8",
       "version_major": 2,
       "version_minor": 0
      },
      "text/plain": [
       "Button(button_style='success', description='save', style=ButtonStyle())"
      ]
     },
     "metadata": {},
     "output_type": "display_data"
    },
    {
     "data": {
      "application/vnd.jupyter.widget-view+json": {
       "model_id": "e66f7a8d913a484c90e5b851a781ce45",
       "version_major": 2,
       "version_minor": 0
      },
      "text/plain": [
       "VBox(children=(HBox(children=(HBox(children=(HTML(value='<p>reous foo ous foo st</p>'), HBox(children=(FloatTe…"
      ]
     },
     "metadata": {},
     "output_type": "display_data"
    },
    {
     "data": {
      "application/vnd.jupyter.widget-view+json": {
       "model_id": "5a428dd914694dd08d3e2461d5b5ba5a",
       "version_major": 2,
       "version_minor": 0
      },
      "text/plain": [
       "Output()"
      ]
     },
     "metadata": {},
     "output_type": "display_data"
    },
    {
     "data": {
      "application/vnd.jupyter.widget-view+json": {
       "model_id": "34fb4922b11a44bc8a708eecad167c0b",
       "version_major": 2,
       "version_minor": 0
      },
      "text/plain": [
       "Output()"
      ]
     },
     "metadata": {},
     "output_type": "display_data"
    },
    {
     "data": {
      "application/vnd.jupyter.widget-view+json": {
       "model_id": "fc8dbf0ef98f4abf965739ca4fa059e2",
       "version_major": 2,
       "version_minor": 0
      },
      "text/plain": [
       "Output()"
      ]
     },
     "metadata": {},
     "output_type": "display_data"
    },
    {
     "data": {
      "application/vnd.jupyter.widget-view+json": {
       "model_id": "7b089d812f4f404f83e185a26cbd5140",
       "version_major": 2,
       "version_minor": 0
      },
      "text/plain": [
       "Output()"
      ]
     },
     "metadata": {},
     "output_type": "display_data"
    },
    {
     "data": {
      "application/vnd.jupyter.widget-view+json": {
       "model_id": "c4bc52f4d7c54e338772558db2667d6e",
       "version_major": 2,
       "version_minor": 0
      },
      "text/plain": [
       "Output()"
      ]
     },
     "metadata": {},
     "output_type": "display_data"
    },
    {
     "data": {
      "application/vnd.jupyter.widget-view+json": {
       "model_id": "f32c19e8fe794367831f50a18ea46ac5",
       "version_major": 2,
       "version_minor": 0
      },
      "text/plain": [
       "Output()"
      ]
     },
     "metadata": {},
     "output_type": "display_data"
    },
    {
     "data": {
      "application/vnd.jupyter.widget-view+json": {
       "model_id": "3c8513eed2f544e898ae111eb42db27f",
       "version_major": 2,
       "version_minor": 0
      },
      "text/plain": [
       "Output()"
      ]
     },
     "metadata": {},
     "output_type": "display_data"
    },
    {
     "data": {
      "application/vnd.jupyter.widget-view+json": {
       "model_id": "4355ec651c564dcfa195fa4fdba3db3a",
       "version_major": 2,
       "version_minor": 0
      },
      "text/plain": [
       "Output()"
      ]
     },
     "metadata": {},
     "output_type": "display_data"
    },
    {
     "data": {
      "application/vnd.jupyter.widget-view+json": {
       "model_id": "7f2268f632d841578c58108b9577e205",
       "version_major": 2,
       "version_minor": 0
      },
      "text/plain": [
       "Output()"
      ]
     },
     "metadata": {},
     "output_type": "display_data"
    },
    {
     "data": {
      "application/vnd.jupyter.widget-view+json": {
       "model_id": "24f274b096c14ae7ac5b42509a1886b4",
       "version_major": 2,
       "version_minor": 0
      },
      "text/plain": [
       "VBox(children=(HBox(children=(ToggleButton(value=False, button_style='info', description='inputs from file'), …"
      ]
     },
     "metadata": {},
     "output_type": "display_data"
    },
    {
     "data": {
      "application/vnd.jupyter.widget-view+json": {
       "model_id": "25ca1ecb12c846a5915b5c2e9b07a9d5",
       "version_major": 2,
       "version_minor": 0
      },
      "text/plain": [
       "VBox(children=(HBox(children=(HBox(children=(HTML(value='<p>fpth_in</p>'), HBox(children=(Text(value='2'), HTM…"
      ]
     },
     "metadata": {},
     "output_type": "display_data"
    },
    {
     "data": {
      "application/vnd.jupyter.widget-view+json": {
       "model_id": "78301fff2cac41efa7667ef8ed143e1d",
       "version_major": 2,
       "version_minor": 0
      },
      "text/plain": [
       "Output()"
      ]
     },
     "metadata": {},
     "output_type": "display_data"
    }
   ],
   "source": [
    "if __name__ =='__main__':\n",
    "    \n",
    "    # FORM ONLY EXAMPLE\n",
    "    # FDIR = os.path.dirname(os.path.realpath('__file__'))\n",
    "    # fpth = os.path.join(FDIR,r'_mfengdev/test.json')\n",
    "    # li = read_json(fpth)\n",
    "    # g = EditListOfDicts(li)\n",
    "    # display(g)\n",
    "    \n",
    "    # EDIT JSON FILE SIMPLE EXAMPLE\n",
    "    FDIR = os.path.dirname(os.path.realpath('__file__'))\n",
    "    fpth = os.path.join(FDIR,r'appdata/inputs/test.json')\n",
    "    simpleeditjson = SimpleEditJson(fpth)\n",
    "    display(simpleeditjson)\n",
    "    \n",
    "    # EDIT JSON FILE with custom config and file management\n",
    "    config={\n",
    "        'fpth_script':os.path.join(os.environ['mf_root'],r'MF_Toolbox\\dev\\mf_scripts\\docx_to_pdf.py'),\n",
    "        'fdir':'.',\n",
    "        'script_outputs': {'0': {\n",
    "            'fdir':'..\\reports',\n",
    "            'fnm': r'JupyterReportDemo.pdf',\n",
    "            'description': \"a pdf report from word\"\n",
    "                }\n",
    "            }\n",
    "        }\n",
    "    #from pprint import pprint\n",
    "    #rc = RunConfig(config)\n",
    "    #pprint(rc.config)\n",
    "    editjson = EditJson(config)\n",
    "    display(editjson)"
   ]
  }
 ],
 "metadata": {
  "jupytext": {
   "formats": "ipynb,py:light"
  },
  "kernelspec": {
   "display_name": "Python [conda env:mf_main] *",
   "language": "python",
   "name": "conda-env-mf_main-py"
  },
  "language_info": {
   "codemirror_mode": {
    "name": "ipython",
    "version": 3
   },
   "file_extension": ".py",
   "mimetype": "text/x-python",
   "name": "python",
   "nbconvert_exporter": "python",
   "pygments_lexer": "ipython3",
   "version": "3.7.7"
  },
  "widgets": {
   "application/vnd.jupyter.widget-state+json": {
    "state": {
     "0045ddf24c374909a77151575c6fb5b2": {
      "model_module": "@jupyter-widgets/controls",
      "model_module_version": "1.5.0",
      "model_name": "HTMLModel",
      "state": {
       "layout": "IPY_MODEL_460fd7be1cad488d8ac103b48a063849",
       "style": "IPY_MODEL_8fb8ab210a2b46258a75851abb05a493",
       "value": "<p>its a foo cake</p>"
      }
     },
     "01623f9e07d14907b070d50540bfe8b2": {
      "model_module": "@jupyter-widgets/controls",
      "model_module_version": "1.5.0",
      "model_name": "ButtonModel",
      "state": {
       "description": "load",
       "icon": "upload",
       "layout": "IPY_MODEL_9cd8b180afc8404b9fab380504ccad92",
       "style": "IPY_MODEL_3f5c991f96864c0b9fd7e45507c2a629"
      }
     },
     "0184a47ea4bb4c47920f5311cd936deb": {
      "model_module": "@jupyter-widgets/base",
      "model_module_version": "1.2.0",
      "model_name": "LayoutModel",
      "state": {
       "align_items": "stretch",
       "border": "dashed 0.2px green",
       "display": "flex",
       "flex_flow": "row",
       "grid_auto_columns": "True",
       "justify_content": "flex-start",
       "width": "100%"
      }
     },
     "0201362851284e7ca52ff6764339df9c": {
      "model_module": "@jupyter-widgets/base",
      "model_module_version": "1.2.0",
      "model_name": "LayoutModel",
      "state": {
       "align_items": "stretch",
       "border": "dashed 0.2px green",
       "display": "flex",
       "flex_flow": "row",
       "grid_auto_columns": "True",
       "justify_content": "flex-start",
       "width": "100%"
      }
     },
     "020bb3baaec94b4a8667695a4ebf86f9": {
      "model_module": "@jupyter-widgets/controls",
      "model_module_version": "1.5.0",
      "model_name": "DescriptionStyleModel",
      "state": {
       "description_width": ""
      }
     },
     "0228c6bec83e4b2c842fd8031b53477d": {
      "model_module": "@jupyter-widgets/base",
      "model_module_version": "1.2.0",
      "model_name": "LayoutModel",
      "state": {}
     },
     "02925558503e412fa53fc8c840949504": {
      "model_module": "@jupyter-widgets/controls",
      "model_module_version": "1.5.0",
      "model_name": "VBoxModel",
      "state": {
       "children": [
        "IPY_MODEL_1e2d9334acc34126bfc8f6208d582d79",
        "IPY_MODEL_d0522c09ae114cea94bf1fd83d9dcaed",
        "IPY_MODEL_f04278002fc24120b060cc8bdc92e518",
        "IPY_MODEL_6a21ece1863d41d1abae228076f2d625",
        "IPY_MODEL_3e944ca87e8b4227b41f31e023bc7c58",
        "IPY_MODEL_493807ba793b4dcc98f2846643d5fc85",
        "IPY_MODEL_89b5d506d3794799950aa1f2d092d983",
        "IPY_MODEL_29a811f517d24b6bb08dbb1ae8522f86"
       ],
       "layout": "IPY_MODEL_92c98b6760e54f31a461bb1e3e2542b1"
      }
     },
     "036bd7ee7f9841b4ac25dacd7a9a0591": {
      "model_module": "@jupyter-widgets/base",
      "model_module_version": "1.2.0",
      "model_name": "LayoutModel",
      "state": {}
     },
     "03a968688b8749689f571f1bb885c013": {
      "model_module": "@jupyter-widgets/controls",
      "model_module_version": "1.5.0",
      "model_name": "HTMLModel",
      "state": {
       "layout": "IPY_MODEL_50ed18e42923418293b47a8340592f0e",
       "style": "IPY_MODEL_8ae4607f9ede479d9023201865edbf3f",
       "value": "<p>foo</p>"
      }
     },
     "045e435b5bbb4d46be8746f72fb07655": {
      "model_module": "@jupyter-widgets/base",
      "model_module_version": "1.2.0",
      "model_name": "LayoutModel",
      "state": {
       "align_items": "stretch",
       "display": "flex",
       "flex_flow": "row",
       "grid_auto_columns": "True",
       "justify_content": "flex-start",
       "width": "80%"
      }
     },
     "0493270754f74b2e9f0e85eb80ab4f78": {
      "model_module": "@jupyter-widgets/base",
      "model_module_version": "1.2.0",
      "model_name": "LayoutModel",
      "state": {}
     },
     "05259121e6bf40eeba5e56c5a4ed700c": {
      "model_module": "@jupyter-widgets/controls",
      "model_module_version": "1.5.0",
      "model_name": "DescriptionStyleModel",
      "state": {
       "description_width": ""
      }
     },
     "06a6a8fa387844b4a3c56f5369004689": {
      "model_module": "@jupyter-widgets/controls",
      "model_module_version": "1.5.0",
      "model_name": "HBoxModel",
      "state": {
       "children": [
        "IPY_MODEL_f837e2dfa5c04ff499513fd8a4056402",
        "IPY_MODEL_445c2de3a0b64f4d810e7cc92f5e83c5"
       ],
       "layout": "IPY_MODEL_ce2ff76fa88f4c1a94b5e885729216bf"
      }
     },
     "074c231ac64b40cdb6051454b23e210a": {
      "model_module": "@jupyter-widgets/base",
      "model_module_version": "1.2.0",
      "model_name": "LayoutModel",
      "state": {}
     },
     "0754113beac448999ecc1a3c83f06de5": {
      "model_module": "@jupyter-widgets/controls",
      "model_module_version": "1.5.0",
      "model_name": "DescriptionStyleModel",
      "state": {
       "description_width": ""
      }
     },
     "07c54d03387649a6ae336f9fa38f9988": {
      "model_module": "@jupyter-widgets/base",
      "model_module_version": "1.2.0",
      "model_name": "LayoutModel",
      "state": {}
     },
     "089f59424c0c4bc68d1a8f94cad1d6d3": {
      "model_module": "@jupyter-widgets/base",
      "model_module_version": "1.2.0",
      "model_name": "LayoutModel",
      "state": {}
     },
     "09431dc68f8d4be68d94b40d0f38554e": {
      "model_module": "@jupyter-widgets/controls",
      "model_module_version": "1.5.0",
      "model_name": "FloatTextModel",
      "state": {
       "layout": "IPY_MODEL_abad18933c9c45c6a5ada95a2e1a3d2d",
       "step": null,
       "style": "IPY_MODEL_05259121e6bf40eeba5e56c5a4ed700c",
       "value": 10
      }
     },
     "0990dd8a460342adb91a63ca8b3f6e10": {
      "model_module": "@jupyter-widgets/base",
      "model_module_version": "1.2.0",
      "model_name": "LayoutModel",
      "state": {
       "align_items": "stretch",
       "display": "flex",
       "flex_flow": "row",
       "grid_auto_columns": "True",
       "justify_content": "flex-start",
       "width": "80%"
      }
     },
     "099cbe83021e4818be9e752b1862fa1c": {
      "model_module": "@jupyter-widgets/base",
      "model_module_version": "1.2.0",
      "model_name": "LayoutModel",
      "state": {}
     },
     "09de15952f0041c589dc09faf6d3d2f9": {
      "model_module": "@jupyter-widgets/base",
      "model_module_version": "1.2.0",
      "model_name": "LayoutModel",
      "state": {
       "align_items": "stretch",
       "display": "flex",
       "flex_flow": "row",
       "grid_auto_columns": "True",
       "justify_content": "flex-start",
       "width": "80%"
      }
     },
     "0a359cab02984595986c8e4898536294": {
      "model_module": "@jupyter-widgets/controls",
      "model_module_version": "1.5.0",
      "model_name": "ToggleButtonModel",
      "state": {
       "button_style": "info",
       "description": "inputs from file",
       "layout": "IPY_MODEL_4fc68cb5afba4879b5f4f8c57c471a24",
       "style": "IPY_MODEL_714289e6765b46ce863785bd738b5257"
      }
     },
     "0b181afd3eea4e199d86fcc5635efc11": {
      "model_module": "@jupyter-widgets/controls",
      "model_module_version": "1.5.0",
      "model_name": "VBoxModel",
      "state": {
       "children": [
        "IPY_MODEL_1e2d9334acc34126bfc8f6208d582d79",
        "IPY_MODEL_d0522c09ae114cea94bf1fd83d9dcaed",
        "IPY_MODEL_f04278002fc24120b060cc8bdc92e518",
        "IPY_MODEL_6a21ece1863d41d1abae228076f2d625",
        "IPY_MODEL_3e944ca87e8b4227b41f31e023bc7c58",
        "IPY_MODEL_493807ba793b4dcc98f2846643d5fc85",
        "IPY_MODEL_89b5d506d3794799950aa1f2d092d983",
        "IPY_MODEL_29a811f517d24b6bb08dbb1ae8522f86"
       ],
       "layout": "IPY_MODEL_937fe435d11e45e0b9905d9273246548"
      }
     },
     "0bdbc0458ca3400098991b606718a976": {
      "model_module": "@jupyter-widgets/controls",
      "model_module_version": "1.5.0",
      "model_name": "DescriptionStyleModel",
      "state": {
       "description_width": ""
      }
     },
     "0cf17e866d5044a4b70498896049862e": {
      "model_module": "@jupyter-widgets/base",
      "model_module_version": "1.2.0",
      "model_name": "LayoutModel",
      "state": {
       "align_items": "stretch",
       "display": "flex",
       "flex_flow": "row",
       "grid_auto_columns": "True",
       "justify_content": "flex-end",
       "width": "90%"
      }
     },
     "0e6de7c9d5ff40529e82e86c8e87cfbe": {
      "model_module": "@jupyter-widgets/controls",
      "model_module_version": "1.5.0",
      "model_name": "DescriptionStyleModel",
      "state": {
       "description_width": ""
      }
     },
     "0ebc8a34922c4eb48a27132f6ffaf466": {
      "model_module": "@jupyter-widgets/controls",
      "model_module_version": "1.5.0",
      "model_name": "HBoxModel",
      "state": {
       "children": [
        "IPY_MODEL_1d9389f8a183495c924aefc2f09eb2de",
        "IPY_MODEL_96b8b60b61944915a3800c659d2ebe01"
       ],
       "layout": "IPY_MODEL_ba7e54621ee3416f9e90c2c07583b174"
      }
     },
     "0f7a1ba337a4479691d476945e3b1f71": {
      "model_module": "@jupyter-widgets/base",
      "model_module_version": "1.2.0",
      "model_name": "LayoutModel",
      "state": {
       "align_items": "stretch",
       "border": "dashed 0.2px green",
       "display": "flex",
       "flex_flow": "row",
       "grid_auto_columns": "True",
       "justify_content": "flex-start",
       "width": "100%"
      }
     },
     "0f8d91f666c945fca2bdb8081365bde2": {
      "model_module": "@jupyter-widgets/controls",
      "model_module_version": "1.5.0",
      "model_name": "HBoxModel",
      "state": {
       "children": [
        "IPY_MODEL_1f4d16adfd644698acb52c52e84dbf3c"
       ],
       "layout": "IPY_MODEL_66b47dc5644d47c1aad9d610a0bd6481"
      }
     },
     "0fa93fc8bb59480196e6abfdf0bf20b7": {
      "model_module": "@jupyter-widgets/controls",
      "model_module_version": "1.5.0",
      "model_name": "HBoxModel",
      "state": {
       "children": [
        "IPY_MODEL_f19e915470d24e4eb9c9d71937697be0"
       ],
       "layout": "IPY_MODEL_850e884c39704d4cbb0079957fbc7e30"
      }
     },
     "0fc8cc25c516434790e4fdb30238a4d7": {
      "model_module": "@jupyter-widgets/controls",
      "model_module_version": "1.5.0",
      "model_name": "TextareaModel",
      "state": {
       "layout": "IPY_MODEL_c6ca9bbd41f748759264e89934b86169",
       "style": "IPY_MODEL_ff0ba18374a44aaea3271f238a95094d",
       "value": "This is a very long text areas string that needs a bigger box to fit all of hte verbose nonsense"
      }
     },
     "10697f6edf974b2b9dd87dea0144d299": {
      "model_module": "@jupyter-widgets/base",
      "model_module_version": "1.2.0",
      "model_name": "LayoutModel",
      "state": {
       "align_items": "stretch",
       "display": "flex",
       "flex_flow": "row",
       "grid_auto_columns": "True",
       "justify_content": "flex-end",
       "width": "90%"
      }
     },
     "107008cac2ae4161adf6fead5c6dfbd3": {
      "model_module": "@jupyter-widgets/controls",
      "model_module_version": "1.5.0",
      "model_name": "HBoxModel",
      "state": {
       "children": [
        "IPY_MODEL_6daf254693214e66910b8904cc338a2a"
       ],
       "layout": "IPY_MODEL_247a28b5e36e4f28872a25d0d8dcc5ca"
      }
     },
     "11e20d06a86c45c5987579a077a2103c": {
      "model_module": "@jupyter-widgets/output",
      "model_module_version": "1.0.0",
      "model_name": "OutputModel",
      "state": {
       "layout": "IPY_MODEL_aa7036eb594244539a1a19bd88852bc5"
      }
     },
     "13bd898332a0496f92a261590e520e85": {
      "model_module": "@jupyter-widgets/output",
      "model_module_version": "1.0.0",
      "model_name": "OutputModel",
      "state": {
       "layout": "IPY_MODEL_c1e8c1673a3f475180ae159806322563"
      }
     },
     "14d85cde947346dd8cf6ac1e3f182a63": {
      "model_module": "@jupyter-widgets/controls",
      "model_module_version": "1.5.0",
      "model_name": "DescriptionStyleModel",
      "state": {
       "description_width": ""
      }
     },
     "16589110c1634c2da1baf40b86bbd5a2": {
      "model_module": "@jupyter-widgets/base",
      "model_module_version": "1.2.0",
      "model_name": "LayoutModel",
      "state": {}
     },
     "167c8e2ba6634d15a9433c4f7e3fba58": {
      "model_module": "@jupyter-widgets/base",
      "model_module_version": "1.2.0",
      "model_name": "LayoutModel",
      "state": {
       "align_items": "stretch",
       "display": "flex",
       "flex_flow": "row",
       "grid_auto_columns": "True",
       "justify_content": "flex-start",
       "width": "80%"
      }
     },
     "1aeed02bed0a45b0a888d422107b82c3": {
      "model_module": "@jupyter-widgets/controls",
      "model_module_version": "1.5.0",
      "model_name": "FloatTextModel",
      "state": {
       "layout": "IPY_MODEL_3f3e9854418d440e827d233b6ccd2e5b",
       "step": null,
       "style": "IPY_MODEL_f95c0173cc1a403688a58ba7bd93e53a",
       "value": 10
      }
     },
     "1b645095312d45cb95dbf0f649cc40ba": {
      "model_module": "@jupyter-widgets/controls",
      "model_module_version": "1.5.0",
      "model_name": "HTMLModel",
      "state": {
       "layout": "IPY_MODEL_6e66b66854e74063ab62cec60cb9a9e6",
       "style": "IPY_MODEL_0754113beac448999ecc1a3c83f06de5",
       "value": "<p>name</p>"
      }
     },
     "1cc1eeea93df4206aaf6924878196df2": {
      "model_module": "@jupyter-widgets/output",
      "model_module_version": "1.0.0",
      "model_name": "OutputModel",
      "state": {
       "layout": "IPY_MODEL_b9de5c2ee05748698ddb60af03dfe14a"
      }
     },
     "1d1b788751494d3f9c5503bbe4de1c0a": {
      "model_module": "@jupyter-widgets/base",
      "model_module_version": "1.2.0",
      "model_name": "LayoutModel",
      "state": {
       "align_items": "stretch",
       "border": "dashed 0.2px green",
       "display": "flex",
       "flex_flow": "row",
       "grid_auto_columns": "True",
       "justify_content": "flex-start",
       "width": "100%"
      }
     },
     "1d59f462783740f0bfcf3c8be0af8ba4": {
      "model_module": "@jupyter-widgets/base",
      "model_module_version": "1.2.0",
      "model_name": "LayoutModel",
      "state": {
       "align_items": "stretch",
       "display": "flex",
       "flex_flow": "row",
       "grid_auto_columns": "True",
       "justify_content": "flex-start",
       "width": "80%"
      }
     },
     "1d9389f8a183495c924aefc2f09eb2de": {
      "model_module": "@jupyter-widgets/controls",
      "model_module_version": "1.5.0",
      "model_name": "FloatTextModel",
      "state": {
       "layout": "IPY_MODEL_6b6a1408d1534192ab5142e3fe8eaf9a",
       "step": null,
       "style": "IPY_MODEL_2922c2286932474fbe8a4b6653cd426b",
       "value": 9
      }
     },
     "1db38ccc128342d1b41108348562767a": {
      "model_module": "@jupyter-widgets/base",
      "model_module_version": "1.2.0",
      "model_name": "LayoutModel",
      "state": {
       "align_items": "stretch",
       "display": "flex",
       "flex_flow": "row",
       "grid_auto_columns": "True",
       "justify_content": "flex-start",
       "width": "80%"
      }
     },
     "1dbaea0ca1cc44b9a572e644e47c3c72": {
      "model_module": "@jupyter-widgets/base",
      "model_module_version": "1.2.0",
      "model_name": "LayoutModel",
      "state": {
       "align_items": "stretch",
       "display": "flex",
       "flex_flow": "row",
       "grid_auto_columns": "True",
       "justify_content": "flex-end",
       "width": "90%"
      }
     },
     "1e2d9334acc34126bfc8f6208d582d79": {
      "model_module": "@jupyter-widgets/controls",
      "model_module_version": "1.5.0",
      "model_name": "HBoxModel",
      "state": {
       "children": [
        "IPY_MODEL_27096dbd418f4471bd364b08fc6d5189",
        "IPY_MODEL_f3da93a5f3064e4894881b6cf30cc775"
       ],
       "layout": "IPY_MODEL_0201362851284e7ca52ff6764339df9c"
      }
     },
     "1e96a0b979224a7ba0b242d3590d1d06": {
      "model_module": "@jupyter-widgets/base",
      "model_module_version": "1.2.0",
      "model_name": "LayoutModel",
      "state": {}
     },
     "1ea9aaf33dee4aff878ac076393ac8f8": {
      "model_module": "@jupyter-widgets/controls",
      "model_module_version": "1.5.0",
      "model_name": "ButtonStyleModel",
      "state": {}
     },
     "1eef8cb3f7104f8f8bebeaf4532cee40": {
      "model_module": "@jupyter-widgets/controls",
      "model_module_version": "1.5.0",
      "model_name": "DescriptionStyleModel",
      "state": {
       "description_width": ""
      }
     },
     "1f0d2b6faca3464fb5fe37212f9aaf4a": {
      "model_module": "@jupyter-widgets/controls",
      "model_module_version": "1.5.0",
      "model_name": "RadioButtonsModel",
      "state": {
       "_options_labels": [
        "TEMPLATE: C:\\engDev\\git_mf\\MF_Toolbox\\dev\\mf_scripts\\template_inputs\\inputs-docx_to_pdf.json",
        "PROJECT: C:\\engDev\\git_mf\\ipyrun\\ipyrun\\appdata\\inputs\\inputs-docx_to_pdf.json",
        "PROJECT: C:\\engDev\\git_mf\\ipyrun\\ipyrun\\appdata\\inputs\\archive\\20200610_1134-jg-inputs-docx_to_pdf.json",
        "PROJECT: C:\\engDev\\git_mf\\ipyrun\\ipyrun\\appdata\\inputs\\archive\\20200610_1139-jg-inputs-docx_to_pdf.json",
        "PROJECT: C:\\engDev\\git_mf\\ipyrun\\ipyrun\\appdata\\inputs\\archive\\20200610_1218-jg-inputs-docx_to_pdf.json",
        "PROJECT: C:\\engDev\\git_mf\\ipyrun\\ipyrun\\appdata\\inputs\\archive\\20200610_1220-jg-inputs-docx_to_pdf.json",
        "PROJECT: C:\\engDev\\git_mf\\ipyrun\\ipyrun\\appdata\\inputs\\archive\\20200610_1221-jg-inputs-docx_to_pdf.json",
        "PROJECT: C:\\engDev\\git_mf\\ipyrun\\ipyrun\\appdata\\inputs\\archive\\20200610_1224-jg-inputs-docx_to_pdf.json",
        "PROJECT: C:\\engDev\\git_mf\\ipyrun\\ipyrun\\appdata\\inputs\\archive\\20200610_1225-jg-inputs-docx_to_pdf.json",
        "PROJECT: C:\\engDev\\git_mf\\ipyrun\\ipyrun\\appdata\\inputs\\archive\\20200610_1244-jg-inputs-docx_to_pdf.json",
        "PROJECT: C:\\engDev\\git_mf\\ipyrun\\ipyrun\\appdata\\inputs\\archive\\20200610_1246-jg-inputs-docx_to_pdf.json",
        "PROJECT: C:\\engDev\\git_mf\\ipyrun\\ipyrun\\appdata\\inputs\\archive\\20200610_1419-jg-inputs-docx_to_pdf.json",
        "PROJECT: C:\\engDev\\git_mf\\ipyrun\\ipyrun\\appdata\\inputs\\archive\\20200610_1420-jg-inputs-docx_to_pdf.json",
        "PROJECT: C:\\engDev\\git_mf\\ipyrun\\ipyrun\\appdata\\inputs\\archive\\20200610_1422-jg-inputs-docx_to_pdf.json",
        "PROJECT: C:\\engDev\\git_mf\\ipyrun\\ipyrun\\appdata\\inputs\\archive\\20200610_1425-jg-inputs-docx_to_pdf.json",
        "PROJECT: C:\\engDev\\git_mf\\ipyrun\\ipyrun\\appdata\\inputs\\archive\\20200610_1853-jg-inputs-docx_to_pdf.json",
        "PROJECT: C:\\engDev\\git_mf\\ipyrun\\ipyrun\\appdata\\inputs\\archive\\20200610_1855-jg-inputs-docx_to_pdf.json",
        "PROJECT: C:\\engDev\\git_mf\\ipyrun\\ipyrun\\appdata\\inputs\\archive\\20200611_0748-jg-inputs-docx_to_pdf.json",
        "PROJECT: C:\\engDev\\git_mf\\ipyrun\\ipyrun\\appdata\\inputs\\archive\\20200611_0754-jg-inputs-docx_to_pdf.json",
        "PROJECT: C:\\engDev\\git_mf\\ipyrun\\ipyrun\\appdata\\inputs\\archive\\20200611_0757-jg-inputs-docx_to_pdf.json"
       ],
       "index": 0,
       "layout": "IPY_MODEL_e82246683b69473bad8f0c2fcfd90c51",
       "style": "IPY_MODEL_8cd72fde985b4c12b793b33cc8556aff"
      }
     },
     "1f4d16adfd644698acb52c52e84dbf3c": {
      "model_module": "@jupyter-widgets/controls",
      "model_module_version": "1.5.0",
      "model_name": "HBoxModel",
      "state": {
       "children": [
        "IPY_MODEL_9a73ce47892646bf816c312618b68434",
        "IPY_MODEL_a9512a69e0cc4f5491c7298dd22562af"
       ],
       "layout": "IPY_MODEL_5858e8174d55408aa02e67dc67f0209f"
      }
     },
     "1fe66af02eb946a0921927d7d706a27f": {
      "model_module": "@jupyter-widgets/controls",
      "model_module_version": "1.5.0",
      "model_name": "HBoxModel",
      "state": {
       "children": [
        "IPY_MODEL_d9333029268d4e4bbcf002e5b8ed1873"
       ],
       "layout": "IPY_MODEL_ce2ce47879284412a532329ab3331c5b"
      }
     },
     "204e57780f3d4afd90281dbc404ff50c": {
      "model_module": "@jupyter-widgets/base",
      "model_module_version": "1.2.0",
      "model_name": "LayoutModel",
      "state": {}
     },
     "208e888981f442ac871f7604bbf7bcaf": {
      "model_module": "@jupyter-widgets/base",
      "model_module_version": "1.2.0",
      "model_name": "LayoutModel",
      "state": {}
     },
     "22f019e069394e31b3f67434f1e681b4": {
      "model_module": "@jupyter-widgets/base",
      "model_module_version": "1.2.0",
      "model_name": "LayoutModel",
      "state": {}
     },
     "23a3bb63d652430e9e1eff9e6b125572": {
      "model_module": "@jupyter-widgets/controls",
      "model_module_version": "1.5.0",
      "model_name": "DescriptionStyleModel",
      "state": {
       "description_width": ""
      }
     },
     "23d269b242c34c02a7f09389b0d21a08": {
      "model_module": "@jupyter-widgets/base",
      "model_module_version": "1.2.0",
      "model_name": "LayoutModel",
      "state": {}
     },
     "240322a87ed646adba8de358fdf24c7f": {
      "model_module": "@jupyter-widgets/output",
      "model_module_version": "1.0.0",
      "model_name": "OutputModel",
      "state": {
       "layout": "IPY_MODEL_51abbd176f864d729001f351847a4c49"
      }
     },
     "24743686d1a540e1a4bd4dfdecf15db0": {
      "model_module": "@jupyter-widgets/controls",
      "model_module_version": "1.5.0",
      "model_name": "DescriptionStyleModel",
      "state": {
       "description_width": ""
      }
     },
     "247a28b5e36e4f28872a25d0d8dcc5ca": {
      "model_module": "@jupyter-widgets/base",
      "model_module_version": "1.2.0",
      "model_name": "LayoutModel",
      "state": {
       "align_items": "stretch",
       "border": "dashed 0.2px green",
       "display": "flex",
       "flex_flow": "row",
       "grid_auto_columns": "True",
       "justify_content": "flex-start",
       "width": "100%"
      }
     },
     "24b1ee28394d4ee4946b31ce70fddc35": {
      "model_module": "@jupyter-widgets/controls",
      "model_module_version": "1.5.0",
      "model_name": "DescriptionStyleModel",
      "state": {
       "description_width": ""
      }
     },
     "24f274b096c14ae7ac5b42509a1886b4": {
      "model_module": "@jupyter-widgets/controls",
      "model_module_version": "1.5.0",
      "model_name": "VBoxModel",
      "state": {
       "children": [
        "IPY_MODEL_4c06b49e1f0f480995bb0d3ca6c5f75e",
        "IPY_MODEL_b355979d9922432e865784b79062c23c",
        "IPY_MODEL_416db6617c244669b2545a180b853530"
       ],
       "layout": "IPY_MODEL_16589110c1634c2da1baf40b86bbd5a2"
      }
     },
     "25a11f27e62d4ad8bbc9903b77231a15": {
      "model_module": "@jupyter-widgets/controls",
      "model_module_version": "1.5.0",
      "model_name": "DescriptionStyleModel",
      "state": {
       "description_width": ""
      }
     },
     "25ca1ecb12c846a5915b5c2e9b07a9d5": {
      "model_module": "@jupyter-widgets/controls",
      "model_module_version": "1.5.0",
      "model_name": "VBoxModel",
      "state": {
       "children": [
        "IPY_MODEL_0f8d91f666c945fca2bdb8081365bde2"
       ],
       "layout": "IPY_MODEL_f3d40791a7da4625bd69234a61dde1f5"
      }
     },
     "2635eb86ca9646a0a78895327a3c0795": {
      "model_module": "@jupyter-widgets/controls",
      "model_module_version": "1.5.0",
      "model_name": "DescriptionStyleModel",
      "state": {
       "description_width": ""
      }
     },
     "27096dbd418f4471bd364b08fc6d5189": {
      "model_module": "@jupyter-widgets/controls",
      "model_module_version": "1.5.0",
      "model_name": "HBoxModel",
      "state": {
       "children": [
        "IPY_MODEL_888a4ff9515749388af3f995b32d70b2",
        "IPY_MODEL_0ebc8a34922c4eb48a27132f6ffaf466"
       ],
       "layout": "IPY_MODEL_0cf17e866d5044a4b70498896049862e"
      }
     },
     "27145e36963a44ffabb49e32830b63ed": {
      "model_module": "@jupyter-widgets/controls",
      "model_module_version": "1.5.0",
      "model_name": "HBoxModel",
      "state": {
       "children": [
        "IPY_MODEL_0fc8cc25c516434790e4fdb30238a4d7",
        "IPY_MODEL_df94bd12c6b04bdf883f8a3a2c26dfc9"
       ],
       "layout": "IPY_MODEL_5b3dbebf87a141c7aa1f228986a7e451"
      }
     },
     "2922c2286932474fbe8a4b6653cd426b": {
      "model_module": "@jupyter-widgets/controls",
      "model_module_version": "1.5.0",
      "model_name": "DescriptionStyleModel",
      "state": {
       "description_width": ""
      }
     },
     "29a811f517d24b6bb08dbb1ae8522f86": {
      "model_module": "@jupyter-widgets/controls",
      "model_module_version": "1.5.0",
      "model_name": "HBoxModel",
      "state": {
       "children": [
        "IPY_MODEL_87b805c41694487db2694722335f2f6b"
       ],
       "layout": "IPY_MODEL_c999f58c179f4457b5e5084f5c04f50a"
      }
     },
     "2a439a9ed2d649ea9b4bd188613f4604": {
      "model_module": "@jupyter-widgets/controls",
      "model_module_version": "1.5.0",
      "model_name": "ButtonStyleModel",
      "state": {}
     },
     "2c14b9c858c9455f8727c930856ec0d2": {
      "model_module": "@jupyter-widgets/base",
      "model_module_version": "1.2.0",
      "model_name": "LayoutModel",
      "state": {
       "align_items": "stretch",
       "display": "flex",
       "flex_flow": "row",
       "grid_auto_columns": "True",
       "justify_content": "flex-start",
       "width": "80%"
      }
     },
     "2cd0dd9384a5472c8808323367f7433e": {
      "model_module": "@jupyter-widgets/base",
      "model_module_version": "1.2.0",
      "model_name": "LayoutModel",
      "state": {}
     },
     "2dd1a3291d5c443892d9fce2d9561d31": {
      "model_module": "@jupyter-widgets/base",
      "model_module_version": "1.2.0",
      "model_name": "LayoutModel",
      "state": {}
     },
     "2e0206d147bf4c3f9f9daf9a1a35bba6": {
      "model_module": "@jupyter-widgets/controls",
      "model_module_version": "1.5.0",
      "model_name": "HBoxModel",
      "state": {
       "children": [
        "IPY_MODEL_f8eff6750ea84b1fa799d7b9cc33a824",
        "IPY_MODEL_b92d3696fb1145cb8ad7395dc51911ed"
       ],
       "layout": "IPY_MODEL_0184a47ea4bb4c47920f5311cd936deb"
      }
     },
     "2e3fa6ca8cff41e28c79fd75b43981f6": {
      "model_module": "@jupyter-widgets/controls",
      "model_module_version": "1.5.0",
      "model_name": "HBoxModel",
      "state": {
       "children": [
        "IPY_MODEL_74b7e50ade5c4b4a81321895409698e3",
        "IPY_MODEL_91ee189c40554963b7bf4b6d2ee119d0"
       ],
       "layout": "IPY_MODEL_837f9d140b9b46c29b196bf67ec115f3"
      }
     },
     "2f2f7764f4474fe7a2bb6f05f2afdef3": {
      "model_module": "@jupyter-widgets/controls",
      "model_module_version": "1.5.0",
      "model_name": "HTMLModel",
      "state": {
       "layout": "IPY_MODEL_9100be08a59346c9961fde35a70c1a65",
       "style": "IPY_MODEL_fcef7e5afb7d4b5d89dfbe6a366b342b",
       "value": "<p>name</p>"
      }
     },
     "2f56a3e4096441bdb6769f9f53038071": {
      "model_module": "@jupyter-widgets/controls",
      "model_module_version": "1.5.0",
      "model_name": "HBoxModel",
      "state": {
       "children": [
        "IPY_MODEL_c1a7215e5ac44d7ab9d148b312e7f940",
        "IPY_MODEL_e6c37716035c458fb9e8471e9315e1a2"
       ],
       "layout": "IPY_MODEL_3a92966194f14d62aa21760d0c51b416"
      }
     },
     "2fd0ad9b1c80412092898185e7bb8adc": {
      "model_module": "@jupyter-widgets/base",
      "model_module_version": "1.2.0",
      "model_name": "LayoutModel",
      "state": {
       "display": "flex",
       "flex_flow": "row",
       "grid_auto_columns": "False",
       "justify_content": "flex-start",
       "width": "100%"
      }
     },
     "303335ae0ba14c1c8b91d3b6f5ef55b0": {
      "model_module": "@jupyter-widgets/controls",
      "model_module_version": "1.5.0",
      "model_name": "HTMLModel",
      "state": {
       "layout": "IPY_MODEL_8c2ff997f65343f0bc2dad5ff044fcb5",
       "style": "IPY_MODEL_4bf622d2048241f6a77909f9bf50b492",
       "value": "<p>its a delicious foo cake</p>"
      }
     },
     "305509f3cd3f47daac961af1ffa18adc": {
      "model_module": "@jupyter-widgets/controls",
      "model_module_version": "1.5.0",
      "model_name": "HTMLModel",
      "state": {
       "layout": "IPY_MODEL_07c54d03387649a6ae336f9fa38f9988",
       "style": "IPY_MODEL_7ecb99f512ad4dd59847b795042fe22c",
       "value": "<p>reus foo ous oo ous foo st</p>"
      }
     },
     "3424c9d81ee449caa3c313388f91578c": {
      "model_module": "@jupyter-widgets/controls",
      "model_module_version": "1.5.0",
      "model_name": "ButtonModel",
      "state": {
       "description": "save",
       "layout": "IPY_MODEL_074c231ac64b40cdb6051454b23e210a",
       "style": "IPY_MODEL_2a439a9ed2d649ea9b4bd188613f4604"
      }
     },
     "3495c49d48ce4420bb9cdf3ded86e179": {
      "model_module": "@jupyter-widgets/controls",
      "model_module_version": "1.5.0",
      "model_name": "HBoxModel",
      "state": {
       "children": [
        "IPY_MODEL_9c51323376954f84aac65c396dc0663a",
        "IPY_MODEL_0045ddf24c374909a77151575c6fb5b2"
       ],
       "layout": "IPY_MODEL_855cc4321f20483f898c300556b4c4a9"
      }
     },
     "34fb4922b11a44bc8a708eecad167c0b": {
      "model_module": "@jupyter-widgets/output",
      "model_module_version": "1.0.0",
      "model_name": "OutputModel",
      "state": {
       "layout": "IPY_MODEL_77c66b877cb344fcb2d8c1a15f693798"
      }
     },
     "354f08bbe59c4dac82b7f492d5c416ba": {
      "model_module": "@jupyter-widgets/controls",
      "model_module_version": "1.5.0",
      "model_name": "DescriptionStyleModel",
      "state": {
       "description_width": ""
      }
     },
     "35849dfe166146a8b69d8bb13e6d018b": {
      "model_module": "@jupyter-widgets/base",
      "model_module_version": "1.2.0",
      "model_name": "LayoutModel",
      "state": {}
     },
     "35b80bb6b7784d40b0c28ea6a4bb1289": {
      "model_module": "@jupyter-widgets/controls",
      "model_module_version": "1.5.0",
      "model_name": "HTMLModel",
      "state": {
       "layout": "IPY_MODEL_208e888981f442ac871f7604bbf7bcaf",
       "style": "IPY_MODEL_a49e62bd7719427d8a223747093dbc10",
       "value": "<p>foo</p>"
      }
     },
     "35da05343e7042db9a74bfcb146def3c": {
      "model_module": "@jupyter-widgets/controls",
      "model_module_version": "1.5.0",
      "model_name": "ButtonStyleModel",
      "state": {
       "font_weight": "bold"
      }
     },
     "35f5c7f528bf49108a0d6f7a771ad4e1": {
      "model_module": "@jupyter-widgets/controls",
      "model_module_version": "1.5.0",
      "model_name": "HTMLModel",
      "state": {
       "layout": "IPY_MODEL_3a46782bad0e4b9781f488c02f80172c",
       "style": "IPY_MODEL_71fd7d073f184068a1992c19b5bb10c9",
       "value": "<p>reous foo ous foo st</p>"
      }
     },
     "362f712d407d4d928b077c1c0e726cd7": {
      "model_module": "@jupyter-widgets/base",
      "model_module_version": "1.2.0",
      "model_name": "LayoutModel",
      "state": {}
     },
     "36b1ca810b8c4dc7b1775a2fbd150a9a": {
      "model_module": "@jupyter-widgets/base",
      "model_module_version": "1.2.0",
      "model_name": "LayoutModel",
      "state": {}
     },
     "36dac3dad0074799a02e0df9d84a0a4b": {
      "model_module": "@jupyter-widgets/controls",
      "model_module_version": "1.5.0",
      "model_name": "DescriptionStyleModel",
      "state": {
       "description_width": ""
      }
     },
     "37d64bb005cc46d591af409211c4fa87": {
      "model_module": "@jupyter-widgets/controls",
      "model_module_version": "1.5.0",
      "model_name": "HBoxModel",
      "state": {
       "children": [
        "IPY_MODEL_60cda0e0506f4ddea2b0b380646713c0",
        "IPY_MODEL_56e002f2cd314555a8308829e69545af"
       ],
       "layout": "IPY_MODEL_c482138828814158bf7a639077463069"
      }
     },
     "37e8a086ee074efdb74583117c56e219": {
      "model_module": "@jupyter-widgets/output",
      "model_module_version": "1.0.0",
      "model_name": "OutputModel",
      "state": {
       "layout": "IPY_MODEL_362f712d407d4d928b077c1c0e726cd7"
      }
     },
     "388ae75d604b49798db290eb8320675f": {
      "model_module": "@jupyter-widgets/output",
      "model_module_version": "1.0.0",
      "model_name": "OutputModel",
      "state": {
       "layout": "IPY_MODEL_7b7c5997461f4363a6d7e10cd20c5b7c"
      }
     },
     "39b7a35b69184bddb3877deb855cb5a6": {
      "model_module": "@jupyter-widgets/controls",
      "model_module_version": "1.5.0",
      "model_name": "DescriptionStyleModel",
      "state": {
       "description_width": ""
      }
     },
     "3a065b014c49494f8597f6cd2296aa00": {
      "model_module": "@jupyter-widgets/base",
      "model_module_version": "1.2.0",
      "model_name": "LayoutModel",
      "state": {}
     },
     "3a46782bad0e4b9781f488c02f80172c": {
      "model_module": "@jupyter-widgets/base",
      "model_module_version": "1.2.0",
      "model_name": "LayoutModel",
      "state": {}
     },
     "3a92966194f14d62aa21760d0c51b416": {
      "model_module": "@jupyter-widgets/base",
      "model_module_version": "1.2.0",
      "model_name": "LayoutModel",
      "state": {
       "align_items": "stretch",
       "display": "flex",
       "flex_flow": "row",
       "grid_auto_columns": "True",
       "justify_content": "flex-start",
       "width": "80%"
      }
     },
     "3aab5580ca2e4d62b635ade4e62a3ab1": {
      "model_module": "@jupyter-widgets/controls",
      "model_module_version": "1.5.0",
      "model_name": "DescriptionStyleModel",
      "state": {
       "description_width": ""
      }
     },
     "3b2339867fa040679432b90332a44569": {
      "model_module": "@jupyter-widgets/controls",
      "model_module_version": "1.5.0",
      "model_name": "HBoxModel",
      "state": {
       "children": [
        "IPY_MODEL_d058848b98e74b3ebe40b9e189f1f50c",
        "IPY_MODEL_3495c49d48ce4420bb9cdf3ded86e179"
       ],
       "layout": "IPY_MODEL_f014e6c28224447abc4cc52aff1941dc"
      }
     },
     "3b370e6360a94ab9beb19a2c3685e1a4": {
      "model_module": "@jupyter-widgets/base",
      "model_module_version": "1.2.0",
      "model_name": "LayoutModel",
      "state": {}
     },
     "3b5389a4220c4c8b8fb18d57e158a258": {
      "model_module": "@jupyter-widgets/controls",
      "model_module_version": "1.5.0",
      "model_name": "DescriptionStyleModel",
      "state": {
       "description_width": ""
      }
     },
     "3c8513eed2f544e898ae111eb42db27f": {
      "model_module": "@jupyter-widgets/output",
      "model_module_version": "1.0.0",
      "model_name": "OutputModel",
      "state": {
       "layout": "IPY_MODEL_82dafd8f0b2f441cbc40eb425b52e2e7"
      }
     },
     "3e0549f0f37f4c3fac7245f63a9f7c4e": {
      "model_module": "@jupyter-widgets/controls",
      "model_module_version": "1.5.0",
      "model_name": "HBoxModel",
      "state": {
       "children": [
        "IPY_MODEL_3b2339867fa040679432b90332a44569"
       ],
       "layout": "IPY_MODEL_993726a89176442089846aec8a598efd"
      }
     },
     "3e731a84074742d1b4c9721b1bd5a8e0": {
      "model_module": "@jupyter-widgets/controls",
      "model_module_version": "1.5.0",
      "model_name": "HBoxModel",
      "state": {
       "children": [
        "IPY_MODEL_35b80bb6b7784d40b0c28ea6a4bb1289",
        "IPY_MODEL_5f9fd9b501574d06bad95e0e242e70d8"
       ],
       "layout": "IPY_MODEL_eca0050062044708aff4b9f253bf15c1"
      }
     },
     "3e78b89f810c44239f49fcc8109f475b": {
      "model_module": "@jupyter-widgets/controls",
      "model_module_version": "1.5.0",
      "model_name": "DescriptionStyleModel",
      "state": {
       "description_width": ""
      }
     },
     "3e944ca87e8b4227b41f31e023bc7c58": {
      "model_module": "@jupyter-widgets/controls",
      "model_module_version": "1.5.0",
      "model_name": "HBoxModel",
      "state": {
       "children": [
        "IPY_MODEL_beb06316c7094d5fa6b90e10e6984caf"
       ],
       "layout": "IPY_MODEL_83d6a2442b014dbea7e990e08f16bc36"
      }
     },
     "3f3e9854418d440e827d233b6ccd2e5b": {
      "model_module": "@jupyter-widgets/base",
      "model_module_version": "1.2.0",
      "model_name": "LayoutModel",
      "state": {}
     },
     "3f5c991f96864c0b9fd7e45507c2a629": {
      "model_module": "@jupyter-widgets/controls",
      "model_module_version": "1.5.0",
      "model_name": "ButtonStyleModel",
      "state": {
       "font_weight": "bold"
      }
     },
     "40fb7d0e31bb479bb652b17884a1663e": {
      "model_module": "@jupyter-widgets/base",
      "model_module_version": "1.2.0",
      "model_name": "LayoutModel",
      "state": {}
     },
     "416db6617c244669b2545a180b853530": {
      "model_module": "@jupyter-widgets/controls",
      "model_module_version": "1.5.0",
      "model_name": "VBoxModel",
      "state": {
       "layout": "IPY_MODEL_2fd0ad9b1c80412092898185e7bb8adc"
      }
     },
     "4296703f5ba340b29773c98e659b30af": {
      "model_module": "@jupyter-widgets/base",
      "model_module_version": "1.2.0",
      "model_name": "LayoutModel",
      "state": {}
     },
     "42be29104d0d429b85815db37c154060": {
      "model_module": "@jupyter-widgets/controls",
      "model_module_version": "1.5.0",
      "model_name": "HBoxModel",
      "state": {
       "children": [
        "IPY_MODEL_b6ea60a3046d4f4f8f301bebdfbb57b8",
        "IPY_MODEL_2e3fa6ca8cff41e28c79fd75b43981f6"
       ],
       "layout": "IPY_MODEL_a8fcfa3c900d42e58e7c1e1dd731fe9c"
      }
     },
     "4339a9e503e4419fb08195b7cda4ffeb": {
      "model_module": "@jupyter-widgets/controls",
      "model_module_version": "1.5.0",
      "model_name": "FloatSliderModel",
      "state": {
       "layout": "IPY_MODEL_0493270754f74b2e9f0e85eb80ab4f78",
       "max": 10,
       "style": "IPY_MODEL_ebb2aa7016a34b87a9f54fe3155eda6a",
       "value": 10
      }
     },
     "4355ec651c564dcfa195fa4fdba3db3a": {
      "model_module": "@jupyter-widgets/output",
      "model_module_version": "1.0.0",
      "model_name": "OutputModel",
      "state": {
       "layout": "IPY_MODEL_ff9fb2f2b7254d4180257155fa1c5970"
      }
     },
     "445c2de3a0b64f4d810e7cc92f5e83c5": {
      "model_module": "@jupyter-widgets/controls",
      "model_module_version": "1.5.0",
      "model_name": "HTMLModel",
      "state": {
       "layout": "IPY_MODEL_6ab4ab02e1fc4deeb0834a422d9c9c13",
       "style": "IPY_MODEL_0bdbc0458ca3400098991b606718a976",
       "value": "<p>its a foo cake</p>"
      }
     },
     "4578b826e0ad427b8fb4d9a9b0e895ec": {
      "model_module": "@jupyter-widgets/output",
      "model_module_version": "1.0.0",
      "model_name": "OutputModel",
      "state": {
       "layout": "IPY_MODEL_b577f47d6f814e0787faccdee7a2ee33"
      }
     },
     "460fd7be1cad488d8ac103b48a063849": {
      "model_module": "@jupyter-widgets/base",
      "model_module_version": "1.2.0",
      "model_name": "LayoutModel",
      "state": {}
     },
     "467101726a544504a855b71deb50371c": {
      "model_module": "@jupyter-widgets/controls",
      "model_module_version": "1.5.0",
      "model_name": "DescriptionStyleModel",
      "state": {
       "description_width": ""
      }
     },
     "47cb919baab6410a8da03cdb007439c9": {
      "model_module": "@jupyter-widgets/base",
      "model_module_version": "1.2.0",
      "model_name": "LayoutModel",
      "state": {
       "align_items": "stretch",
       "display": "flex",
       "flex_flow": "row",
       "grid_auto_columns": "True",
       "justify_content": "flex-end",
       "width": "90%"
      }
     },
     "487e20ba2a4f499e9260f4cc3fd3f762": {
      "model_module": "@jupyter-widgets/base",
      "model_module_version": "1.2.0",
      "model_name": "LayoutModel",
      "state": {}
     },
     "489ee871f66545a796255982c4066684": {
      "model_module": "@jupyter-widgets/controls",
      "model_module_version": "1.5.0",
      "model_name": "DescriptionStyleModel",
      "state": {
       "description_width": ""
      }
     },
     "493807ba793b4dcc98f2846643d5fc85": {
      "model_module": "@jupyter-widgets/controls",
      "model_module_version": "1.5.0",
      "model_name": "HBoxModel",
      "state": {
       "children": [
        "IPY_MODEL_42be29104d0d429b85815db37c154060"
       ],
       "layout": "IPY_MODEL_7fc34bacb8ea49239131410b8413ce00"
      }
     },
     "49b197ac14a64708832f17df539838e3": {
      "model_module": "@jupyter-widgets/output",
      "model_module_version": "1.0.0",
      "model_name": "OutputModel",
      "state": {
       "layout": "IPY_MODEL_607a523d2c4f4675a739e2fa8523cde3"
      }
     },
     "4a10b32a91604574badd17ab8ceb2c32": {
      "model_module": "@jupyter-widgets/base",
      "model_module_version": "1.2.0",
      "model_name": "LayoutModel",
      "state": {}
     },
     "4aba476a62e34e6bb09505e733f83773": {
      "model_module": "@jupyter-widgets/controls",
      "model_module_version": "1.5.0",
      "model_name": "DescriptionStyleModel",
      "state": {
       "description_width": ""
      }
     },
     "4bde4db8813d4445a3a104973e3cf039": {
      "model_module": "@jupyter-widgets/base",
      "model_module_version": "1.2.0",
      "model_name": "LayoutModel",
      "state": {
       "align_items": "stretch",
       "display": "flex",
       "flex_flow": "row",
       "grid_auto_columns": "True",
       "justify_content": "flex-start",
       "width": "80%"
      }
     },
     "4bf622d2048241f6a77909f9bf50b492": {
      "model_module": "@jupyter-widgets/controls",
      "model_module_version": "1.5.0",
      "model_name": "DescriptionStyleModel",
      "state": {
       "description_width": ""
      }
     },
     "4c06b49e1f0f480995bb0d3ca6c5f75e": {
      "model_module": "@jupyter-widgets/controls",
      "model_module_version": "1.5.0",
      "model_name": "HBoxModel",
      "state": {
       "children": [
        "IPY_MODEL_0a359cab02984595986c8e4898536294",
        "IPY_MODEL_d5eb3b98d90b4473954a9da29b19d1cb",
        "IPY_MODEL_5a03992e56cd444388603ffb2043ec7d"
       ],
       "layout": "IPY_MODEL_099cbe83021e4818be9e752b1862fa1c"
      }
     },
     "4dc877b2e0814c48a6c664a26bb67f1c": {
      "model_module": "@jupyter-widgets/base",
      "model_module_version": "1.2.0",
      "model_name": "LayoutModel",
      "state": {
       "align_items": "stretch",
       "border": "dashed 0.2px green",
       "display": "flex",
       "flex_flow": "row",
       "grid_auto_columns": "True",
       "justify_content": "flex-start",
       "width": "100%"
      }
     },
     "4e343fedb848438998e2979299b52bc4": {
      "model_module": "@jupyter-widgets/base",
      "model_module_version": "1.2.0",
      "model_name": "LayoutModel",
      "state": {
       "align_items": "stretch",
       "border": "dashed 0.2px green",
       "display": "flex",
       "flex_flow": "row",
       "grid_auto_columns": "True",
       "justify_content": "flex-start",
       "width": "100%"
      }
     },
     "4f1c64a34a144d2bafc4a83192005da7": {
      "model_module": "@jupyter-widgets/controls",
      "model_module_version": "1.5.0",
      "model_name": "VBoxModel",
      "state": {
       "children": [
        "IPY_MODEL_80a6bfc5b1264034b9ecc5f960267afc",
        "IPY_MODEL_75b5350c004c4e79a0a670474b8b3b2f",
        "IPY_MODEL_3e0549f0f37f4c3fac7245f63a9f7c4e",
        "IPY_MODEL_1fe66af02eb946a0921927d7d706a27f",
        "IPY_MODEL_9ff9da6f6dca40e6b7e32f1dd2cb70f6"
       ],
       "layout": "IPY_MODEL_58a27563a751447ebbb290e70fd492fc"
      }
     },
     "4f5265f713454e529beb23a71be20bbb": {
      "model_module": "@jupyter-widgets/base",
      "model_module_version": "1.2.0",
      "model_name": "LayoutModel",
      "state": {}
     },
     "4fc68cb5afba4879b5f4f8c57c471a24": {
      "model_module": "@jupyter-widgets/base",
      "model_module_version": "1.2.0",
      "model_name": "LayoutModel",
      "state": {}
     },
     "50ed18e42923418293b47a8340592f0e": {
      "model_module": "@jupyter-widgets/base",
      "model_module_version": "1.2.0",
      "model_name": "LayoutModel",
      "state": {}
     },
     "51a83bac13eb41ea95775b6ae7d4392e": {
      "model_module": "@jupyter-widgets/controls",
      "model_module_version": "1.5.0",
      "model_name": "DescriptionStyleModel",
      "state": {
       "description_width": ""
      }
     },
     "51abbd176f864d729001f351847a4c49": {
      "model_module": "@jupyter-widgets/base",
      "model_module_version": "1.2.0",
      "model_name": "LayoutModel",
      "state": {}
     },
     "51ccaa51d39641b8b49b3ab78320f1a4": {
      "model_module": "@jupyter-widgets/controls",
      "model_module_version": "1.5.0",
      "model_name": "ToggleButtonModel",
      "state": {
       "layout": "IPY_MODEL_561c82d5aa8d46aea08e61d4f26ba109",
       "style": "IPY_MODEL_5c3b81abe90d4f9282ec9921ee08407c"
      }
     },
     "51ecf157817f413486c64ff2cb2f4cea": {
      "model_module": "@jupyter-widgets/controls",
      "model_module_version": "1.5.0",
      "model_name": "DescriptionStyleModel",
      "state": {
       "description_width": ""
      }
     },
     "5209ec7f02b047919b8dbfe7d0d855c3": {
      "model_module": "@jupyter-widgets/controls",
      "model_module_version": "1.5.0",
      "model_name": "HTMLModel",
      "state": {
       "layout": "IPY_MODEL_87792b7326bb43c7a1c915b6ae4cae15",
       "style": "IPY_MODEL_4aba476a62e34e6bb09505e733f83773",
       "value": "<p>foo</p>"
      }
     },
     "535e1f4e2fce40f0a515edf3af459d6e": {
      "model_module": "@jupyter-widgets/controls",
      "model_module_version": "1.5.0",
      "model_name": "HTMLModel",
      "state": {
       "layout": "IPY_MODEL_8062be25059d4855b34402e5d03434fd",
       "style": "IPY_MODEL_2635eb86ca9646a0a78895327a3c0795",
       "value": "<p>its a foo cake</p>"
      }
     },
     "561c82d5aa8d46aea08e61d4f26ba109": {
      "model_module": "@jupyter-widgets/base",
      "model_module_version": "1.2.0",
      "model_name": "LayoutModel",
      "state": {}
     },
     "562b1706a8d24e3d97fd06f5ddca5d8a": {
      "model_module": "@jupyter-widgets/base",
      "model_module_version": "1.2.0",
      "model_name": "LayoutModel",
      "state": {}
     },
     "56e002f2cd314555a8308829e69545af": {
      "model_module": "@jupyter-widgets/controls",
      "model_module_version": "1.5.0",
      "model_name": "HTMLModel",
      "state": {
       "layout": "IPY_MODEL_f5717b84bda34407b2a0222e467cc94e",
       "style": "IPY_MODEL_86ce6227d5154cfbbea0abe5f02170fc",
       "value": "<p>its a foo cake</p>"
      }
     },
     "5858e8174d55408aa02e67dc67f0209f": {
      "model_module": "@jupyter-widgets/base",
      "model_module_version": "1.2.0",
      "model_name": "LayoutModel",
      "state": {
       "align_items": "stretch",
       "display": "flex",
       "flex_flow": "row",
       "grid_auto_columns": "True",
       "justify_content": "flex-end",
       "width": "90%"
      }
     },
     "58a27563a751447ebbb290e70fd492fc": {
      "model_module": "@jupyter-widgets/base",
      "model_module_version": "1.2.0",
      "model_name": "LayoutModel",
      "state": {}
     },
     "5970768648554ffbb45c65e057ef85a0": {
      "model_module": "@jupyter-widgets/controls",
      "model_module_version": "1.5.0",
      "model_name": "HBoxModel",
      "state": {
       "children": [
        "IPY_MODEL_5c3ed8c693054013b81547f3f5f0434a",
        "IPY_MODEL_535e1f4e2fce40f0a515edf3af459d6e"
       ],
       "layout": "IPY_MODEL_f226d2a270014344ac60688b3af48c04"
      }
     },
     "5a03992e56cd444388603ffb2043ec7d": {
      "model_module": "@jupyter-widgets/controls",
      "model_module_version": "1.5.0",
      "model_name": "ButtonModel",
      "state": {
       "button_style": "success",
       "description": "save changes",
       "layout": "IPY_MODEL_562b1706a8d24e3d97fd06f5ddca5d8a",
       "style": "IPY_MODEL_35da05343e7042db9a74bfcb146def3c"
      }
     },
     "5a428dd914694dd08d3e2461d5b5ba5a": {
      "model_module": "@jupyter-widgets/output",
      "model_module_version": "1.0.0",
      "model_name": "OutputModel",
      "state": {
       "layout": "IPY_MODEL_487e20ba2a4f499e9260f4cc3fd3f762"
      }
     },
     "5b3dbebf87a141c7aa1f228986a7e451": {
      "model_module": "@jupyter-widgets/base",
      "model_module_version": "1.2.0",
      "model_name": "LayoutModel",
      "state": {
       "align_items": "stretch",
       "display": "flex",
       "flex_flow": "row",
       "grid_auto_columns": "True",
       "justify_content": "flex-start",
       "width": "80%"
      }
     },
     "5c3b81abe90d4f9282ec9921ee08407c": {
      "model_module": "@jupyter-widgets/controls",
      "model_module_version": "1.5.0",
      "model_name": "DescriptionStyleModel",
      "state": {
       "description_width": ""
      }
     },
     "5c3ed8c693054013b81547f3f5f0434a": {
      "model_module": "@jupyter-widgets/controls",
      "model_module_version": "1.5.0",
      "model_name": "DropdownModel",
      "state": {
       "_options_labels": [
        "asfd",
        "10",
        "asdf"
       ],
       "index": 1,
       "layout": "IPY_MODEL_ddba56ef2d9d4b99881c1b19ab300bea",
       "style": "IPY_MODEL_a521da7a1c0e44aa8c32b8be5b9b3f56"
      }
     },
     "5ec27b12dff44b0c87795af1d3f3b9de": {
      "model_module": "@jupyter-widgets/controls",
      "model_module_version": "1.5.0",
      "model_name": "HTMLModel",
      "state": {
       "layout": "IPY_MODEL_f423d94571e8476f84f4f9e76b6807f2",
       "style": "IPY_MODEL_ed8eb05b57064952bc9a46c532bd00b5",
       "value": "<p>label</p>"
      }
     },
     "5f9fd9b501574d06bad95e0e242e70d8": {
      "model_module": "@jupyter-widgets/controls",
      "model_module_version": "1.5.0",
      "model_name": "HBoxModel",
      "state": {
       "children": [
        "IPY_MODEL_64274dc29333432ab00a627ca15edcae",
        "IPY_MODEL_c379c15009f343139e5c8c640503089a"
       ],
       "layout": "IPY_MODEL_1d59f462783740f0bfcf3c8be0af8ba4"
      }
     },
     "607a523d2c4f4675a739e2fa8523cde3": {
      "model_module": "@jupyter-widgets/base",
      "model_module_version": "1.2.0",
      "model_name": "LayoutModel",
      "state": {}
     },
     "60cda0e0506f4ddea2b0b380646713c0": {
      "model_module": "@jupyter-widgets/controls",
      "model_module_version": "1.5.0",
      "model_name": "FloatSliderModel",
      "state": {
       "layout": "IPY_MODEL_d373dac3ff0249248c53369d3df0eba7",
       "max": 10,
       "style": "IPY_MODEL_655877c5493d432fa092351ae8557fda",
       "value": 10
      }
     },
     "60dbc7c62fbb46f9b91496af18c9cd90": {
      "model_module": "@jupyter-widgets/base",
      "model_module_version": "1.2.0",
      "model_name": "LayoutModel",
      "state": {
       "width": "5%"
      }
     },
     "6174872e3869405288a622b1b1b7b35f": {
      "model_module": "@jupyter-widgets/base",
      "model_module_version": "1.2.0",
      "model_name": "LayoutModel",
      "state": {}
     },
     "6185c437dad54df59d88eda3357327f5": {
      "model_module": "@jupyter-widgets/base",
      "model_module_version": "1.2.0",
      "model_name": "LayoutModel",
      "state": {}
     },
     "619806da67c142598cd8e9cb5bd5216f": {
      "model_module": "@jupyter-widgets/base",
      "model_module_version": "1.2.0",
      "model_name": "LayoutModel",
      "state": {
       "align_items": "stretch",
       "display": "flex",
       "flex_flow": "row",
       "grid_auto_columns": "True",
       "justify_content": "flex-end",
       "width": "90%"
      }
     },
     "62c109b6a61a4735aacfe3d9a473f61c": {
      "model_module": "@jupyter-widgets/controls",
      "model_module_version": "1.5.0",
      "model_name": "DescriptionStyleModel",
      "state": {
       "description_width": ""
      }
     },
     "64274dc29333432ab00a627ca15edcae": {
      "model_module": "@jupyter-widgets/controls",
      "model_module_version": "1.5.0",
      "model_name": "CheckboxModel",
      "state": {
       "disabled": false,
       "layout": "IPY_MODEL_35849dfe166146a8b69d8bb13e6d018b",
       "style": "IPY_MODEL_7fed313622264818bb51efe92afe41ed",
       "value": true
      }
     },
     "655877c5493d432fa092351ae8557fda": {
      "model_module": "@jupyter-widgets/controls",
      "model_module_version": "1.5.0",
      "model_name": "SliderStyleModel",
      "state": {
       "description_width": ""
      }
     },
     "66b47dc5644d47c1aad9d610a0bd6481": {
      "model_module": "@jupyter-widgets/base",
      "model_module_version": "1.2.0",
      "model_name": "LayoutModel",
      "state": {
       "align_items": "stretch",
       "border": "dashed 0.2px green",
       "display": "flex",
       "flex_flow": "row",
       "grid_auto_columns": "True",
       "justify_content": "flex-start",
       "width": "100%"
      }
     },
     "6729736b9b2c466295bff384d81c238e": {
      "model_module": "@jupyter-widgets/base",
      "model_module_version": "1.2.0",
      "model_name": "LayoutModel",
      "state": {}
     },
     "67d972106ff044c8b0271d8a52c050e4": {
      "model_module": "@jupyter-widgets/base",
      "model_module_version": "1.2.0",
      "model_name": "LayoutModel",
      "state": {}
     },
     "6a21ece1863d41d1abae228076f2d625": {
      "model_module": "@jupyter-widgets/controls",
      "model_module_version": "1.5.0",
      "model_name": "HBoxModel",
      "state": {
       "children": [
        "IPY_MODEL_d190b04e7e2844568710249fd434fec6"
       ],
       "layout": "IPY_MODEL_1d1b788751494d3f9c5503bbe4de1c0a"
      }
     },
     "6aa919b2205e47729edd6372decc9652": {
      "model_module": "@jupyter-widgets/controls",
      "model_module_version": "1.5.0",
      "model_name": "DescriptionStyleModel",
      "state": {
       "description_width": ""
      }
     },
     "6ab4ab02e1fc4deeb0834a422d9c9c13": {
      "model_module": "@jupyter-widgets/base",
      "model_module_version": "1.2.0",
      "model_name": "LayoutModel",
      "state": {}
     },
     "6b6a1408d1534192ab5142e3fe8eaf9a": {
      "model_module": "@jupyter-widgets/base",
      "model_module_version": "1.2.0",
      "model_name": "LayoutModel",
      "state": {}
     },
     "6d1826fe4a8c434b96ccf5206d1f46c7": {
      "model_module": "@jupyter-widgets/controls",
      "model_module_version": "1.5.0",
      "model_name": "HTMLModel",
      "state": {
       "layout": "IPY_MODEL_a5d904ef58d84daa8550e043539bf0b6",
       "style": "IPY_MODEL_9e11a368a94c4c1cb71d4164059cd55a",
       "value": "<p>foo</p>"
      }
     },
     "6daf254693214e66910b8904cc338a2a": {
      "model_module": "@jupyter-widgets/controls",
      "model_module_version": "1.5.0",
      "model_name": "HBoxModel",
      "state": {
       "children": [
        "IPY_MODEL_305509f3cd3f47daac961af1ffa18adc",
        "IPY_MODEL_ac9d42c87a84496489ecdeede7761ed4"
       ],
       "layout": "IPY_MODEL_ce3618da4cfa497688b62a3a330a9926"
      }
     },
     "6e66b66854e74063ab62cec60cb9a9e6": {
      "model_module": "@jupyter-widgets/base",
      "model_module_version": "1.2.0",
      "model_name": "LayoutModel",
      "state": {}
     },
     "6fa1c7e19dc84e93b59d7715169153de": {
      "model_module": "@jupyter-widgets/base",
      "model_module_version": "1.2.0",
      "model_name": "LayoutModel",
      "state": {
       "width": "5%"
      }
     },
     "6ffdd40290174e6dbcfedd010623d425": {
      "model_module": "@jupyter-widgets/controls",
      "model_module_version": "1.5.0",
      "model_name": "HBoxModel",
      "state": {
       "children": [
        "IPY_MODEL_924e6aaf5a88496d8b6a37efca017286",
        "IPY_MODEL_8d3aa01a00ca40f2887471b7e7ce3045"
       ],
       "layout": "IPY_MODEL_045e435b5bbb4d46be8746f72fb07655"
      }
     },
     "714289e6765b46ce863785bd738b5257": {
      "model_module": "@jupyter-widgets/controls",
      "model_module_version": "1.5.0",
      "model_name": "DescriptionStyleModel",
      "state": {
       "description_width": ""
      }
     },
     "719e27c015ff46ed8d90b1cb3ac7ad33": {
      "model_module": "@jupyter-widgets/controls",
      "model_module_version": "1.5.0",
      "model_name": "DescriptionStyleModel",
      "state": {
       "description_width": ""
      }
     },
     "71fd7d073f184068a1992c19b5bb10c9": {
      "model_module": "@jupyter-widgets/controls",
      "model_module_version": "1.5.0",
      "model_name": "DescriptionStyleModel",
      "state": {
       "description_width": ""
      }
     },
     "731fcae3dbb44000ba2491a28271e5de": {
      "model_module": "@jupyter-widgets/base",
      "model_module_version": "1.2.0",
      "model_name": "LayoutModel",
      "state": {}
     },
     "74b7e50ade5c4b4a81321895409698e3": {
      "model_module": "@jupyter-widgets/controls",
      "model_module_version": "1.5.0",
      "model_name": "FloatSliderModel",
      "state": {
       "layout": "IPY_MODEL_dfadf3e25934409c9f1cf3bae851df93",
       "max": 10,
       "style": "IPY_MODEL_a730c9c078044351a06c77179ad4a32f",
       "value": 1
      }
     },
     "75b5350c004c4e79a0a670474b8b3b2f": {
      "model_module": "@jupyter-widgets/controls",
      "model_module_version": "1.5.0",
      "model_name": "HBoxModel",
      "state": {
       "children": [
        "IPY_MODEL_d8178d8305e14590810f3e4aeefb50e1"
       ],
       "layout": "IPY_MODEL_0f7a1ba337a4479691d476945e3b1f71"
      }
     },
     "75d318c0aabc4b0d8bc40ff85bd59236": {
      "model_module": "@jupyter-widgets/controls",
      "model_module_version": "1.5.0",
      "model_name": "DescriptionStyleModel",
      "state": {
       "description_width": ""
      }
     },
     "762b2788ab52403abbe24fe69ec902b2": {
      "model_module": "@jupyter-widgets/base",
      "model_module_version": "1.2.0",
      "model_name": "LayoutModel",
      "state": {}
     },
     "768c7f3175574af78e5082c288a0efc9": {
      "model_module": "@jupyter-widgets/base",
      "model_module_version": "1.2.0",
      "model_name": "LayoutModel",
      "state": {}
     },
     "76ec4f2d668a406e8b651328b689eeca": {
      "model_module": "@jupyter-widgets/output",
      "model_module_version": "1.0.0",
      "model_name": "OutputModel",
      "state": {
       "layout": "IPY_MODEL_9815a101e403400f9d23f5e4e97980e3"
      }
     },
     "77c66b877cb344fcb2d8c1a15f693798": {
      "model_module": "@jupyter-widgets/base",
      "model_module_version": "1.2.0",
      "model_name": "LayoutModel",
      "state": {}
     },
     "78301fff2cac41efa7667ef8ed143e1d": {
      "model_module": "@jupyter-widgets/output",
      "model_module_version": "1.0.0",
      "model_name": "OutputModel",
      "state": {
       "layout": "IPY_MODEL_e8b5b3e306ee4b8a8440200e9a5af5cc"
      }
     },
     "78dc984e12374cedb6fe9f8e812e3808": {
      "model_module": "@jupyter-widgets/base",
      "model_module_version": "1.2.0",
      "model_name": "LayoutModel",
      "state": {}
     },
     "79d37b83f12a40b7a0b38682596f2baa": {
      "model_module": "@jupyter-widgets/output",
      "model_module_version": "1.0.0",
      "model_name": "OutputModel",
      "state": {
       "layout": "IPY_MODEL_de7c7a5317cb48bf90698dcdcc739127"
      }
     },
     "7b089d812f4f404f83e185a26cbd5140": {
      "model_module": "@jupyter-widgets/output",
      "model_module_version": "1.0.0",
      "model_name": "OutputModel",
      "state": {
       "layout": "IPY_MODEL_c830d712031947a09c69dd39667deb68"
      }
     },
     "7b4a47969d9f4184afb977e306c72b45": {
      "model_module": "@jupyter-widgets/base",
      "model_module_version": "1.2.0",
      "model_name": "LayoutModel",
      "state": {}
     },
     "7b7c5997461f4363a6d7e10cd20c5b7c": {
      "model_module": "@jupyter-widgets/base",
      "model_module_version": "1.2.0",
      "model_name": "LayoutModel",
      "state": {}
     },
     "7c59f02780ed479494358a21df96361f": {
      "model_module": "@jupyter-widgets/base",
      "model_module_version": "1.2.0",
      "model_name": "LayoutModel",
      "state": {
       "align_items": "stretch",
       "display": "flex",
       "flex_flow": "row",
       "grid_auto_columns": "True",
       "justify_content": "flex-end",
       "width": "90%"
      }
     },
     "7cd3d55955734d8dbb76c39cd31e845e": {
      "model_module": "@jupyter-widgets/controls",
      "model_module_version": "1.5.0",
      "model_name": "VBoxModel",
      "state": {
       "children": [
        "IPY_MODEL_01623f9e07d14907b070d50540bfe8b2",
        "IPY_MODEL_1f0d2b6faca3464fb5fe37212f9aaf4a"
       ],
       "layout": "IPY_MODEL_78dc984e12374cedb6fe9f8e812e3808"
      }
     },
     "7e6d3f195718423997442cf1f1c5f1f9": {
      "model_module": "@jupyter-widgets/controls",
      "model_module_version": "1.5.0",
      "model_name": "HTMLModel",
      "state": {
       "layout": "IPY_MODEL_a454c47bbe0247bdb357b8d160407e2e",
       "style": "IPY_MODEL_51ecf157817f413486c64ff2cb2f4cea",
       "value": "<p>label</p>"
      }
     },
     "7ecb99f512ad4dd59847b795042fe22c": {
      "model_module": "@jupyter-widgets/controls",
      "model_module_version": "1.5.0",
      "model_name": "DescriptionStyleModel",
      "state": {
       "description_width": ""
      }
     },
     "7f2268f632d841578c58108b9577e205": {
      "model_module": "@jupyter-widgets/output",
      "model_module_version": "1.0.0",
      "model_name": "OutputModel",
      "state": {
       "layout": "IPY_MODEL_c8abebe0d395441d977aa849ee789210"
      }
     },
     "7fc34bacb8ea49239131410b8413ce00": {
      "model_module": "@jupyter-widgets/base",
      "model_module_version": "1.2.0",
      "model_name": "LayoutModel",
      "state": {
       "align_items": "stretch",
       "border": "dashed 0.2px green",
       "display": "flex",
       "flex_flow": "row",
       "grid_auto_columns": "True",
       "justify_content": "flex-start",
       "width": "100%"
      }
     },
     "7fed313622264818bb51efe92afe41ed": {
      "model_module": "@jupyter-widgets/controls",
      "model_module_version": "1.5.0",
      "model_name": "DescriptionStyleModel",
      "state": {
       "description_width": ""
      }
     },
     "8062be25059d4855b34402e5d03434fd": {
      "model_module": "@jupyter-widgets/base",
      "model_module_version": "1.2.0",
      "model_name": "LayoutModel",
      "state": {}
     },
     "80a6bfc5b1264034b9ecc5f960267afc": {
      "model_module": "@jupyter-widgets/controls",
      "model_module_version": "1.5.0",
      "model_name": "HBoxModel",
      "state": {
       "children": [
        "IPY_MODEL_f2754b41d47047a380a398beb1fab3f4",
        "IPY_MODEL_e8091be95458469faab38d307308173d"
       ],
       "layout": "IPY_MODEL_4e343fedb848438998e2979299b52bc4"
      }
     },
     "8139684a4c80485f83c3583ac5d04014": {
      "model_module": "@jupyter-widgets/controls",
      "model_module_version": "1.5.0",
      "model_name": "HBoxModel",
      "state": {
       "children": [
        "IPY_MODEL_09431dc68f8d4be68d94b40d0f38554e",
        "IPY_MODEL_303335ae0ba14c1c8b91d3b6f5ef55b0"
       ],
       "layout": "IPY_MODEL_167c8e2ba6634d15a9433c4f7e3fba58"
      }
     },
     "82dafd8f0b2f441cbc40eb425b52e2e7": {
      "model_module": "@jupyter-widgets/base",
      "model_module_version": "1.2.0",
      "model_name": "LayoutModel",
      "state": {}
     },
     "837f9d140b9b46c29b196bf67ec115f3": {
      "model_module": "@jupyter-widgets/base",
      "model_module_version": "1.2.0",
      "model_name": "LayoutModel",
      "state": {
       "align_items": "stretch",
       "display": "flex",
       "flex_flow": "row",
       "grid_auto_columns": "True",
       "justify_content": "flex-start",
       "width": "80%"
      }
     },
     "83d6a2442b014dbea7e990e08f16bc36": {
      "model_module": "@jupyter-widgets/base",
      "model_module_version": "1.2.0",
      "model_name": "LayoutModel",
      "state": {
       "align_items": "stretch",
       "border": "dashed 0.2px green",
       "display": "flex",
       "flex_flow": "row",
       "grid_auto_columns": "True",
       "justify_content": "flex-start",
       "width": "100%"
      }
     },
     "850e884c39704d4cbb0079957fbc7e30": {
      "model_module": "@jupyter-widgets/base",
      "model_module_version": "1.2.0",
      "model_name": "LayoutModel",
      "state": {
       "align_items": "stretch",
       "border": "dashed 0.2px green",
       "display": "flex",
       "flex_flow": "row",
       "grid_auto_columns": "True",
       "justify_content": "flex-start",
       "width": "100%"
      }
     },
     "852b54c80ede42faa3f910548a9516e0": {
      "model_module": "@jupyter-widgets/controls",
      "model_module_version": "1.5.0",
      "model_name": "DescriptionStyleModel",
      "state": {
       "description_width": ""
      }
     },
     "855cc4321f20483f898c300556b4c4a9": {
      "model_module": "@jupyter-widgets/base",
      "model_module_version": "1.2.0",
      "model_name": "LayoutModel",
      "state": {
       "align_items": "stretch",
       "display": "flex",
       "flex_flow": "row",
       "grid_auto_columns": "True",
       "justify_content": "flex-start",
       "width": "80%"
      }
     },
     "85a832ab712a4141a88e931da9cf7d82": {
      "model_module": "@jupyter-widgets/controls",
      "model_module_version": "1.5.0",
      "model_name": "DescriptionStyleModel",
      "state": {
       "description_width": ""
      }
     },
     "86ce6227d5154cfbbea0abe5f02170fc": {
      "model_module": "@jupyter-widgets/controls",
      "model_module_version": "1.5.0",
      "model_name": "DescriptionStyleModel",
      "state": {
       "description_width": ""
      }
     },
     "87792b7326bb43c7a1c915b6ae4cae15": {
      "model_module": "@jupyter-widgets/base",
      "model_module_version": "1.2.0",
      "model_name": "LayoutModel",
      "state": {}
     },
     "87b805c41694487db2694722335f2f6b": {
      "model_module": "@jupyter-widgets/controls",
      "model_module_version": "1.5.0",
      "model_name": "HBoxModel",
      "state": {
       "children": [
        "IPY_MODEL_2f2f7764f4474fe7a2bb6f05f2afdef3",
        "IPY_MODEL_ab3410af843e4f80bef85d22b09b9df1"
       ],
       "layout": "IPY_MODEL_7c59f02780ed479494358a21df96361f"
      }
     },
     "87f24fb33bb344a4a12d27fdcb1e786c": {
      "model_module": "@jupyter-widgets/base",
      "model_module_version": "1.2.0",
      "model_name": "LayoutModel",
      "state": {
       "align_items": "stretch",
       "border": "dashed 0.2px green",
       "display": "flex",
       "flex_flow": "row",
       "grid_auto_columns": "True",
       "justify_content": "flex-start",
       "width": "100%"
      }
     },
     "88091e3d760c4c8c892d7d19ab84ba7a": {
      "model_module": "@jupyter-widgets/controls",
      "model_module_version": "1.5.0",
      "model_name": "HBoxModel",
      "state": {
       "children": [
        "IPY_MODEL_03a968688b8749689f571f1bb885c013",
        "IPY_MODEL_37d64bb005cc46d591af409211c4fa87"
       ],
       "layout": "IPY_MODEL_a7ec6cb250ea47cd86eed9a8b45f0ef9"
      }
     },
     "888a4ff9515749388af3f995b32d70b2": {
      "model_module": "@jupyter-widgets/controls",
      "model_module_version": "1.5.0",
      "model_name": "HTMLModel",
      "state": {
       "layout": "IPY_MODEL_1e96a0b979224a7ba0b242d3590d1d06",
       "style": "IPY_MODEL_85a832ab712a4141a88e931da9cf7d82",
       "value": "<p>reous foo ous foo st</p>"
      }
     },
     "88ad09a5162141d5930171d7678c1f6e": {
      "model_module": "@jupyter-widgets/controls",
      "model_module_version": "1.5.0",
      "model_name": "SelectMultipleModel",
      "state": {
       "_options_labels": [
        "asfd",
        "10",
        "asdf"
       ],
       "index": [
        1
       ],
       "layout": "IPY_MODEL_fbe5c870c8a642c68647aefa5e9bda45",
       "rows": 5,
       "style": "IPY_MODEL_23a3bb63d652430e9e1eff9e6b125572"
      }
     },
     "89b5d506d3794799950aa1f2d092d983": {
      "model_module": "@jupyter-widgets/controls",
      "model_module_version": "1.5.0",
      "model_name": "HBoxModel",
      "state": {
       "children": [
        "IPY_MODEL_ebaf73f3bba84654adfb3137f7782605"
       ],
       "layout": "IPY_MODEL_4dc877b2e0814c48a6c664a26bb67f1c"
      }
     },
     "8ae4607f9ede479d9023201865edbf3f": {
      "model_module": "@jupyter-widgets/controls",
      "model_module_version": "1.5.0",
      "model_name": "DescriptionStyleModel",
      "state": {
       "description_width": ""
      }
     },
     "8c2ff997f65343f0bc2dad5ff044fcb5": {
      "model_module": "@jupyter-widgets/base",
      "model_module_version": "1.2.0",
      "model_name": "LayoutModel",
      "state": {}
     },
     "8cd72fde985b4c12b793b33cc8556aff": {
      "model_module": "@jupyter-widgets/controls",
      "model_module_version": "1.5.0",
      "model_name": "DescriptionStyleModel",
      "state": {
       "description_width": ""
      }
     },
     "8cf64a17c8184d02a18a6bcdd1701999": {
      "model_module": "@jupyter-widgets/base",
      "model_module_version": "1.2.0",
      "model_name": "LayoutModel",
      "state": {
       "align_items": "stretch",
       "display": "flex",
       "flex_flow": "row",
       "grid_auto_columns": "True",
       "justify_content": "flex-end",
       "width": "90%"
      }
     },
     "8d3aa01a00ca40f2887471b7e7ce3045": {
      "model_module": "@jupyter-widgets/controls",
      "model_module_version": "1.5.0",
      "model_name": "HTMLModel",
      "state": {
       "layout": "IPY_MODEL_3b370e6360a94ab9beb19a2c3685e1a4",
       "style": "IPY_MODEL_24b1ee28394d4ee4946b31ce70fddc35",
       "value": "<p>its a foo cake</p>"
      }
     },
     "8d927ee43f764148abc3d8f50a61d333": {
      "model_module": "@jupyter-widgets/controls",
      "model_module_version": "1.5.0",
      "model_name": "VBoxModel",
      "state": {
       "children": [
        "IPY_MODEL_2e0206d147bf4c3f9f9daf9a1a35bba6",
        "IPY_MODEL_107008cac2ae4161adf6fead5c6dfbd3",
        "IPY_MODEL_e475fcc074b149b583f512329a07b901",
        "IPY_MODEL_afaeb90310374d869f7c5366aff4b8a9",
        "IPY_MODEL_0fa93fc8bb59480196e6abfdf0bf20b7"
       ],
       "layout": "IPY_MODEL_2dd1a3291d5c443892d9fce2d9561d31"
      }
     },
     "8f229e68d6c0430f99d0fcfc3f41425b": {
      "model_module": "@jupyter-widgets/controls",
      "model_module_version": "1.5.0",
      "model_name": "HBoxModel",
      "state": {
       "children": [
        "IPY_MODEL_d80983de6539485abba360e9b0498fbe",
        "IPY_MODEL_5ec27b12dff44b0c87795af1d3f3b9de"
       ],
       "layout": "IPY_MODEL_0990dd8a460342adb91a63ca8b3f6e10"
      }
     },
     "8fb8ab210a2b46258a75851abb05a493": {
      "model_module": "@jupyter-widgets/controls",
      "model_module_version": "1.5.0",
      "model_name": "DescriptionStyleModel",
      "state": {
       "description_width": ""
      }
     },
     "905a8a76ab564e458919d51c3d7d5fc2": {
      "model_module": "@jupyter-widgets/base",
      "model_module_version": "1.2.0",
      "model_name": "LayoutModel",
      "state": {}
     },
     "9100be08a59346c9961fde35a70c1a65": {
      "model_module": "@jupyter-widgets/base",
      "model_module_version": "1.2.0",
      "model_name": "LayoutModel",
      "state": {}
     },
     "91ee189c40554963b7bf4b6d2ee119d0": {
      "model_module": "@jupyter-widgets/controls",
      "model_module_version": "1.5.0",
      "model_name": "HTMLModel",
      "state": {
       "layout": "IPY_MODEL_204e57780f3d4afd90281dbc404ff50c",
       "style": "IPY_MODEL_9684ee6ed15e4874b1257abe2da9abac",
       "value": "<p>its a foo cake</p>"
      }
     },
     "924e6aaf5a88496d8b6a37efca017286": {
      "model_module": "@jupyter-widgets/controls",
      "model_module_version": "1.5.0",
      "model_name": "CheckboxModel",
      "state": {
       "disabled": false,
       "layout": "IPY_MODEL_b10ff9887b7e4f33ba974af8b2d48c34",
       "style": "IPY_MODEL_25a11f27e62d4ad8bbc9903b77231a15",
       "value": true
      }
     },
     "92c98b6760e54f31a461bb1e3e2542b1": {
      "model_module": "@jupyter-widgets/base",
      "model_module_version": "1.2.0",
      "model_name": "LayoutModel",
      "state": {}
     },
     "937fe435d11e45e0b9905d9273246548": {
      "model_module": "@jupyter-widgets/base",
      "model_module_version": "1.2.0",
      "model_name": "LayoutModel",
      "state": {}
     },
     "9684ee6ed15e4874b1257abe2da9abac": {
      "model_module": "@jupyter-widgets/controls",
      "model_module_version": "1.5.0",
      "model_name": "DescriptionStyleModel",
      "state": {
       "description_width": ""
      }
     },
     "96b8b60b61944915a3800c659d2ebe01": {
      "model_module": "@jupyter-widgets/controls",
      "model_module_version": "1.5.0",
      "model_name": "HTMLModel",
      "state": {
       "layout": "IPY_MODEL_dc1c35c51ae0441eb86f38304af7444f",
       "style": "IPY_MODEL_75d318c0aabc4b0d8bc40ff85bd59236",
       "value": "<p>its a delicious foo cake</p>"
      }
     },
     "97438337a8cb4131b6514f7422609387": {
      "model_module": "@jupyter-widgets/base",
      "model_module_version": "1.2.0",
      "model_name": "LayoutModel",
      "state": {
       "align_items": "stretch",
       "display": "flex",
       "flex_flow": "row",
       "grid_auto_columns": "True",
       "justify_content": "flex-end",
       "width": "90%"
      }
     },
     "977f3d599b7e45f0a23ca0ea38af0ad0": {
      "model_module": "@jupyter-widgets/controls",
      "model_module_version": "1.5.0",
      "model_name": "HTMLModel",
      "state": {
       "layout": "IPY_MODEL_a7f3dfdd2c68422096e6e277c01aed4b",
       "style": "IPY_MODEL_354f08bbe59c4dac82b7f492d5c416ba",
       "value": "<p>input docx filepath</p>"
      }
     },
     "9815a101e403400f9d23f5e4e97980e3": {
      "model_module": "@jupyter-widgets/base",
      "model_module_version": "1.2.0",
      "model_name": "LayoutModel",
      "state": {}
     },
     "993726a89176442089846aec8a598efd": {
      "model_module": "@jupyter-widgets/base",
      "model_module_version": "1.2.0",
      "model_name": "LayoutModel",
      "state": {
       "align_items": "stretch",
       "border": "dashed 0.2px green",
       "display": "flex",
       "flex_flow": "row",
       "grid_auto_columns": "True",
       "justify_content": "flex-start",
       "width": "100%"
      }
     },
     "9a73ce47892646bf816c312618b68434": {
      "model_module": "@jupyter-widgets/controls",
      "model_module_version": "1.5.0",
      "model_name": "HTMLModel",
      "state": {
       "layout": "IPY_MODEL_e233f44a1676413f804be56b6edcc8fe",
       "style": "IPY_MODEL_d17e3f4697134accba4bd6c442004b26",
       "value": "<p>fpth_in</p>"
      }
     },
     "9c0f427dd22c4272b2476c139bbada08": {
      "model_module": "@jupyter-widgets/base",
      "model_module_version": "1.2.0",
      "model_name": "LayoutModel",
      "state": {}
     },
     "9c51323376954f84aac65c396dc0663a": {
      "model_module": "@jupyter-widgets/controls",
      "model_module_version": "1.5.0",
      "model_name": "SelectMultipleModel",
      "state": {
       "_options_labels": [
        "asfd",
        "10",
        "asdf"
       ],
       "index": [
        1
       ],
       "layout": "IPY_MODEL_a2d815c8d2ba40be9ffbe5423619c074",
       "rows": 5,
       "style": "IPY_MODEL_3e78b89f810c44239f49fcc8109f475b"
      }
     },
     "9cd8b180afc8404b9fab380504ccad92": {
      "model_module": "@jupyter-widgets/base",
      "model_module_version": "1.2.0",
      "model_name": "LayoutModel",
      "state": {}
     },
     "9e11a368a94c4c1cb71d4164059cd55a": {
      "model_module": "@jupyter-widgets/controls",
      "model_module_version": "1.5.0",
      "model_name": "DescriptionStyleModel",
      "state": {
       "description_width": ""
      }
     },
     "9ff9da6f6dca40e6b7e32f1dd2cb70f6": {
      "model_module": "@jupyter-widgets/controls",
      "model_module_version": "1.5.0",
      "model_name": "HBoxModel",
      "state": {
       "children": [
        "IPY_MODEL_88091e3d760c4c8c892d7d19ab84ba7a"
       ],
       "layout": "IPY_MODEL_87f24fb33bb344a4a12d27fdcb1e786c"
      }
     },
     "a0800f5e995143a6b6e3d33c070469fc": {
      "model_module": "@jupyter-widgets/base",
      "model_module_version": "1.2.0",
      "model_name": "LayoutModel",
      "state": {}
     },
     "a2d815c8d2ba40be9ffbe5423619c074": {
      "model_module": "@jupyter-widgets/base",
      "model_module_version": "1.2.0",
      "model_name": "LayoutModel",
      "state": {}
     },
     "a2fc090ba6fa42e09fc6cc7dcba1ff1d": {
      "model_module": "@jupyter-widgets/base",
      "model_module_version": "1.2.0",
      "model_name": "LayoutModel",
      "state": {}
     },
     "a3c3a7bed4c64a9cb0b0a98f22a0659b": {
      "model_module": "@jupyter-widgets/controls",
      "model_module_version": "1.5.0",
      "model_name": "HTMLModel",
      "state": {
       "layout": "IPY_MODEL_f019b86cdd9a4b4abad3389ecd26f6dd",
       "style": "IPY_MODEL_14d85cde947346dd8cf6ac1e3f182a63",
       "value": "<p>fus foo ous o</p>"
      }
     },
     "a454c47bbe0247bdb357b8d160407e2e": {
      "model_module": "@jupyter-widgets/base",
      "model_module_version": "1.2.0",
      "model_name": "LayoutModel",
      "state": {}
     },
     "a49e62bd7719427d8a223747093dbc10": {
      "model_module": "@jupyter-widgets/controls",
      "model_module_version": "1.5.0",
      "model_name": "DescriptionStyleModel",
      "state": {
       "description_width": ""
      }
     },
     "a521c34edf4c46f29e0b155ca1ad40cb": {
      "model_module": "@jupyter-widgets/output",
      "model_module_version": "1.0.0",
      "model_name": "OutputModel",
      "state": {
       "layout": "IPY_MODEL_ada7d7aa78ed42ae8ac193b13ac04637"
      }
     },
     "a521da7a1c0e44aa8c32b8be5b9b3f56": {
      "model_module": "@jupyter-widgets/controls",
      "model_module_version": "1.5.0",
      "model_name": "DescriptionStyleModel",
      "state": {
       "description_width": ""
      }
     },
     "a5d904ef58d84daa8550e043539bf0b6": {
      "model_module": "@jupyter-widgets/base",
      "model_module_version": "1.2.0",
      "model_name": "LayoutModel",
      "state": {}
     },
     "a730c9c078044351a06c77179ad4a32f": {
      "model_module": "@jupyter-widgets/controls",
      "model_module_version": "1.5.0",
      "model_name": "SliderStyleModel",
      "state": {
       "description_width": ""
      }
     },
     "a75fdd89ed0943069593aa55b9a78cda": {
      "model_module": "@jupyter-widgets/controls",
      "model_module_version": "1.5.0",
      "model_name": "DescriptionStyleModel",
      "state": {
       "description_width": ""
      }
     },
     "a7ec6cb250ea47cd86eed9a8b45f0ef9": {
      "model_module": "@jupyter-widgets/base",
      "model_module_version": "1.2.0",
      "model_name": "LayoutModel",
      "state": {
       "align_items": "stretch",
       "display": "flex",
       "flex_flow": "row",
       "grid_auto_columns": "True",
       "justify_content": "flex-end",
       "width": "90%"
      }
     },
     "a7f3dfdd2c68422096e6e277c01aed4b": {
      "model_module": "@jupyter-widgets/base",
      "model_module_version": "1.2.0",
      "model_name": "LayoutModel",
      "state": {}
     },
     "a8fcfa3c900d42e58e7c1e1dd731fe9c": {
      "model_module": "@jupyter-widgets/base",
      "model_module_version": "1.2.0",
      "model_name": "LayoutModel",
      "state": {
       "align_items": "stretch",
       "display": "flex",
       "flex_flow": "row",
       "grid_auto_columns": "True",
       "justify_content": "flex-end",
       "width": "90%"
      }
     },
     "a9512a69e0cc4f5491c7298dd22562af": {
      "model_module": "@jupyter-widgets/controls",
      "model_module_version": "1.5.0",
      "model_name": "HBoxModel",
      "state": {
       "children": [
        "IPY_MODEL_f921af36ece34608b7835f0e91f50644",
        "IPY_MODEL_977f3d599b7e45f0a23ca0ea38af0ad0"
       ],
       "layout": "IPY_MODEL_09de15952f0041c589dc09faf6d3d2f9"
      }
     },
     "aa4a86e3dd0549e9ba9f455530378d9a": {
      "model_module": "@jupyter-widgets/controls",
      "model_module_version": "1.5.0",
      "model_name": "DescriptionStyleModel",
      "state": {
       "description_width": ""
      }
     },
     "aa4bcea698f5489c86e96c70177f7059": {
      "model_module": "@jupyter-widgets/base",
      "model_module_version": "1.2.0",
      "model_name": "LayoutModel",
      "state": {
       "align_items": "stretch",
       "border": "dashed 0.2px green",
       "display": "flex",
       "flex_flow": "row",
       "grid_auto_columns": "True",
       "justify_content": "flex-start",
       "width": "100%"
      }
     },
     "aa7036eb594244539a1a19bd88852bc5": {
      "model_module": "@jupyter-widgets/base",
      "model_module_version": "1.2.0",
      "model_name": "LayoutModel",
      "state": {}
     },
     "ab3410af843e4f80bef85d22b09b9df1": {
      "model_module": "@jupyter-widgets/controls",
      "model_module_version": "1.5.0",
      "model_name": "HBoxModel",
      "state": {
       "children": [
        "IPY_MODEL_51ccaa51d39641b8b49b3ab78320f1a4",
        "IPY_MODEL_7e6d3f195718423997442cf1f1c5f1f9"
       ],
       "layout": "IPY_MODEL_f45d7d6f954244208d471cd89e5a048a"
      }
     },
     "abad18933c9c45c6a5ada95a2e1a3d2d": {
      "model_module": "@jupyter-widgets/base",
      "model_module_version": "1.2.0",
      "model_name": "LayoutModel",
      "state": {}
     },
     "ac9d42c87a84496489ecdeede7761ed4": {
      "model_module": "@jupyter-widgets/controls",
      "model_module_version": "1.5.0",
      "model_name": "HBoxModel",
      "state": {
       "children": [
        "IPY_MODEL_b56f0e555d004ff49cb267ce3ebc6eab",
        "IPY_MODEL_edec2e3a65b948f9abe7da2ad661f852"
       ],
       "layout": "IPY_MODEL_f303e66ac7cb4c1bb6fc43eede8358cb"
      }
     },
     "accc77769bde4b8796009ccec62bdc22": {
      "model_module": "@jupyter-widgets/controls",
      "model_module_version": "1.5.0",
      "model_name": "HBoxModel",
      "state": {
       "children": [
        "IPY_MODEL_4339a9e503e4419fb08195b7cda4ffeb",
        "IPY_MODEL_deb067dd9bcf495a9291e8fb2e643ebe"
       ],
       "layout": "IPY_MODEL_1db38ccc128342d1b41108348562767a"
      }
     },
     "ada7d7aa78ed42ae8ac193b13ac04637": {
      "model_module": "@jupyter-widgets/base",
      "model_module_version": "1.2.0",
      "model_name": "LayoutModel",
      "state": {}
     },
     "aecb0dad783c4bd3a6da6441e5bf69e8": {
      "model_module": "@jupyter-widgets/controls",
      "model_module_version": "1.5.0",
      "model_name": "DescriptionStyleModel",
      "state": {
       "description_width": ""
      }
     },
     "af3a20b660804a1e86a197f2656802a1": {
      "model_module": "@jupyter-widgets/controls",
      "model_module_version": "1.5.0",
      "model_name": "HTMLModel",
      "state": {
       "layout": "IPY_MODEL_f30c7b10da5d4c3dbec3c19a5a5a2d17",
       "style": "IPY_MODEL_62c109b6a61a4735aacfe3d9a473f61c",
       "value": "<p>its a foo cake</p>"
      }
     },
     "afaeb90310374d869f7c5366aff4b8a9": {
      "model_module": "@jupyter-widgets/controls",
      "model_module_version": "1.5.0",
      "model_name": "HBoxModel",
      "state": {
       "children": [
        "IPY_MODEL_3e731a84074742d1b4c9721b1bd5a8e0"
       ],
       "layout": "IPY_MODEL_aa4bcea698f5489c86e96c70177f7059"
      }
     },
     "b10ff9887b7e4f33ba974af8b2d48c34": {
      "model_module": "@jupyter-widgets/base",
      "model_module_version": "1.2.0",
      "model_name": "LayoutModel",
      "state": {}
     },
     "b1cc583c927e421989fdd7da36a29358": {
      "model_module": "@jupyter-widgets/base",
      "model_module_version": "1.2.0",
      "model_name": "LayoutModel",
      "state": {}
     },
     "b230ff1a16184adf98f8dab46a0f83b1": {
      "model_module": "@jupyter-widgets/base",
      "model_module_version": "1.2.0",
      "model_name": "LayoutModel",
      "state": {
       "align_items": "stretch",
       "display": "flex",
       "flex_flow": "row",
       "grid_auto_columns": "True",
       "justify_content": "flex-end",
       "width": "90%"
      }
     },
     "b355979d9922432e865784b79062c23c": {
      "model_module": "@jupyter-widgets/controls",
      "model_module_version": "1.5.0",
      "model_name": "HTMLModel",
      "state": {
       "layout": "IPY_MODEL_036bd7ee7f9841b4ac25dacd7a9a0591",
       "style": "IPY_MODEL_be569cce5f6942c0bc26c70ae37d7664",
       "value": "<p>edit user input form below</p>"
      }
     },
     "b56f0e555d004ff49cb267ce3ebc6eab": {
      "model_module": "@jupyter-widgets/controls",
      "model_module_version": "1.5.0",
      "model_name": "TextareaModel",
      "state": {
       "layout": "IPY_MODEL_9c0f427dd22c4272b2476c139bbada08",
       "style": "IPY_MODEL_a75fdd89ed0943069593aa55b9a78cda",
       "value": "This is a very long text areas string that needs a bigger box to fit all of hte verbose nonsense"
      }
     },
     "b577f47d6f814e0787faccdee7a2ee33": {
      "model_module": "@jupyter-widgets/base",
      "model_module_version": "1.2.0",
      "model_name": "LayoutModel",
      "state": {}
     },
     "b597bf0506084deeb36f78a20a3c6ff2": {
      "model_module": "@jupyter-widgets/controls",
      "model_module_version": "1.5.0",
      "model_name": "HBoxModel",
      "state": {
       "children": [
        "IPY_MODEL_1aeed02bed0a45b0a888d422107b82c3",
        "IPY_MODEL_cf8ee8a0631f4b6c837bb0c65572eab6"
       ],
       "layout": "IPY_MODEL_2c14b9c858c9455f8727c930856ec0d2"
      }
     },
     "b6ea60a3046d4f4f8f301bebdfbb57b8": {
      "model_module": "@jupyter-widgets/controls",
      "model_module_version": "1.5.0",
      "model_name": "HTMLModel",
      "state": {
       "layout": "IPY_MODEL_2cd0dd9384a5472c8808323367f7433e",
       "style": "IPY_MODEL_b90514b057d447699b40da468537b943",
       "value": "<p>foo</p>"
      }
     },
     "b72597059b324c45be875d876d7b112f": {
      "model_module": "@jupyter-widgets/controls",
      "model_module_version": "1.5.0",
      "model_name": "HTMLModel",
      "state": {
       "layout": "IPY_MODEL_67d972106ff044c8b0271d8a52c050e4",
       "style": "IPY_MODEL_aa4a86e3dd0549e9ba9f455530378d9a",
       "value": "<p>fus foo ous o</p>"
      }
     },
     "b7c5e795b5d14087841729b044428534": {
      "model_module": "@jupyter-widgets/base",
      "model_module_version": "1.2.0",
      "model_name": "LayoutModel",
      "state": {
       "align_items": "stretch",
       "display": "flex",
       "flex_flow": "row",
       "grid_auto_columns": "True",
       "justify_content": "flex-end",
       "width": "90%"
      }
     },
     "b90514b057d447699b40da468537b943": {
      "model_module": "@jupyter-widgets/controls",
      "model_module_version": "1.5.0",
      "model_name": "DescriptionStyleModel",
      "state": {
       "description_width": ""
      }
     },
     "b92d3696fb1145cb8ad7395dc51911ed": {
      "model_module": "@jupyter-widgets/controls",
      "model_module_version": "1.5.0",
      "model_name": "ToggleButtonModel",
      "state": {
       "description": "help",
       "icon": "fa-question-circle",
       "layout": "IPY_MODEL_6fa1c7e19dc84e93b59d7715169153de",
       "style": "IPY_MODEL_467101726a544504a855b71deb50371c",
       "tooltip": "gives guidance"
      }
     },
     "b94d8800debb4ad89152155e22f58a88": {
      "model_module": "@jupyter-widgets/base",
      "model_module_version": "1.2.0",
      "model_name": "LayoutModel",
      "state": {
       "align_items": "stretch",
       "display": "flex",
       "flex_flow": "row",
       "grid_auto_columns": "True",
       "justify_content": "flex-end",
       "width": "90%"
      }
     },
     "b9de5c2ee05748698ddb60af03dfe14a": {
      "model_module": "@jupyter-widgets/base",
      "model_module_version": "1.2.0",
      "model_name": "LayoutModel",
      "state": {}
     },
     "ba7e54621ee3416f9e90c2c07583b174": {
      "model_module": "@jupyter-widgets/base",
      "model_module_version": "1.2.0",
      "model_name": "LayoutModel",
      "state": {
       "align_items": "stretch",
       "display": "flex",
       "flex_flow": "row",
       "grid_auto_columns": "True",
       "justify_content": "flex-start",
       "width": "80%"
      }
     },
     "baa7e00b837a4659a7a7d179c4abce81": {
      "model_module": "@jupyter-widgets/controls",
      "model_module_version": "1.5.0",
      "model_name": "DescriptionStyleModel",
      "state": {
       "description_width": ""
      }
     },
     "bb4092b44127479d8f275717822f8841": {
      "model_module": "@jupyter-widgets/base",
      "model_module_version": "1.2.0",
      "model_name": "LayoutModel",
      "state": {}
     },
     "bb7e83fd653f44d691a535ed593f3fa9": {
      "model_module": "@jupyter-widgets/controls",
      "model_module_version": "1.5.0",
      "model_name": "ButtonStyleModel",
      "state": {
       "font_weight": "bold"
      }
     },
     "bcc06e88a1204146a77297d50d7cc2ab": {
      "model_module": "@jupyter-widgets/controls",
      "model_module_version": "1.5.0",
      "model_name": "HBoxModel",
      "state": {
       "children": [
        "IPY_MODEL_f0b38b36aabf4f29ba44f56136d78f56",
        "IPY_MODEL_06a6a8fa387844b4a3c56f5369004689"
       ],
       "layout": "IPY_MODEL_1dbaea0ca1cc44b9a572e644e47c3c72"
      }
     },
     "be569cce5f6942c0bc26c70ae37d7664": {
      "model_module": "@jupyter-widgets/controls",
      "model_module_version": "1.5.0",
      "model_name": "DescriptionStyleModel",
      "state": {
       "description_width": ""
      }
     },
     "beb06316c7094d5fa6b90e10e6984caf": {
      "model_module": "@jupyter-widgets/controls",
      "model_module_version": "1.5.0",
      "model_name": "HBoxModel",
      "state": {
       "children": [
        "IPY_MODEL_eae9033b1204437b8e150dcc5608f49f",
        "IPY_MODEL_2f56a3e4096441bdb6769f9f53038071"
       ],
       "layout": "IPY_MODEL_47cb919baab6410a8da03cdb007439c9"
      }
     },
     "bfe681f58885419ab5dd37ff7e907b8d": {
      "model_module": "@jupyter-widgets/controls",
      "model_module_version": "1.5.0",
      "model_name": "HTMLModel",
      "state": {
       "layout": "IPY_MODEL_dc9b402152fa4e6782bc88848d78fe74",
       "style": "IPY_MODEL_852b54c80ede42faa3f910548a9516e0",
       "value": "<p>its a foo cake</p>"
      }
     },
     "c05f56cc2af6424ca501507c40c78919": {
      "model_module": "@jupyter-widgets/controls",
      "model_module_version": "1.5.0",
      "model_name": "SelectMultipleModel",
      "state": {
       "_options_labels": [
        "asfd",
        "10",
        "asdf"
       ],
       "index": [
        1
       ],
       "layout": "IPY_MODEL_ce376ad057594a189de7da87031e0c87",
       "rows": 5,
       "style": "IPY_MODEL_36dac3dad0074799a02e0df9d84a0a4b"
      }
     },
     "c1a7215e5ac44d7ab9d148b312e7f940": {
      "model_module": "@jupyter-widgets/controls",
      "model_module_version": "1.5.0",
      "model_name": "CheckboxModel",
      "state": {
       "disabled": false,
       "layout": "IPY_MODEL_dbd87041670f43e9b64d282ad656de8c",
       "style": "IPY_MODEL_719e27c015ff46ed8d90b1cb3ac7ad33",
       "value": false
      }
     },
     "c1c6e8fd4f9e411e83249c4faf961d5b": {
      "model_module": "@jupyter-widgets/base",
      "model_module_version": "1.2.0",
      "model_name": "LayoutModel",
      "state": {
       "align_items": "stretch",
       "border": "dashed 0.2px green",
       "display": "flex",
       "flex_flow": "row",
       "grid_auto_columns": "True",
       "justify_content": "flex-start",
       "width": "100%"
      }
     },
     "c1e8c1673a3f475180ae159806322563": {
      "model_module": "@jupyter-widgets/base",
      "model_module_version": "1.2.0",
      "model_name": "LayoutModel",
      "state": {}
     },
     "c379c15009f343139e5c8c640503089a": {
      "model_module": "@jupyter-widgets/controls",
      "model_module_version": "1.5.0",
      "model_name": "HTMLModel",
      "state": {
       "layout": "IPY_MODEL_d9ed6024afbf4a24921534fa2db59c00",
       "style": "IPY_MODEL_3b5389a4220c4c8b8fb18d57e158a258",
       "value": "<p>its a foo cake</p>"
      }
     },
     "c482138828814158bf7a639077463069": {
      "model_module": "@jupyter-widgets/base",
      "model_module_version": "1.2.0",
      "model_name": "LayoutModel",
      "state": {
       "align_items": "stretch",
       "display": "flex",
       "flex_flow": "row",
       "grid_auto_columns": "True",
       "justify_content": "flex-start",
       "width": "80%"
      }
     },
     "c4bc52f4d7c54e338772558db2667d6e": {
      "model_module": "@jupyter-widgets/output",
      "model_module_version": "1.0.0",
      "model_name": "OutputModel",
      "state": {
       "layout": "IPY_MODEL_4296703f5ba340b29773c98e659b30af"
      }
     },
     "c6ca9bbd41f748759264e89934b86169": {
      "model_module": "@jupyter-widgets/base",
      "model_module_version": "1.2.0",
      "model_name": "LayoutModel",
      "state": {}
     },
     "c830d712031947a09c69dd39667deb68": {
      "model_module": "@jupyter-widgets/base",
      "model_module_version": "1.2.0",
      "model_name": "LayoutModel",
      "state": {}
     },
     "c8abebe0d395441d977aa849ee789210": {
      "model_module": "@jupyter-widgets/base",
      "model_module_version": "1.2.0",
      "model_name": "LayoutModel",
      "state": {}
     },
     "c999f58c179f4457b5e5084f5c04f50a": {
      "model_module": "@jupyter-widgets/base",
      "model_module_version": "1.2.0",
      "model_name": "LayoutModel",
      "state": {
       "align_items": "stretch",
       "border": "dashed 0.2px green",
       "display": "flex",
       "flex_flow": "row",
       "grid_auto_columns": "True",
       "justify_content": "flex-start",
       "width": "100%"
      }
     },
     "caab0a8904bc41088801004d3b2e6025": {
      "model_module": "@jupyter-widgets/base",
      "model_module_version": "1.2.0",
      "model_name": "LayoutModel",
      "state": {
       "align_items": "stretch",
       "border": "dashed 0.2px green",
       "display": "flex",
       "flex_flow": "row",
       "grid_auto_columns": "True",
       "justify_content": "flex-start",
       "width": "100%"
      }
     },
     "cccd1fa119d34a3eab8c6a420e52c2a8": {
      "model_module": "@jupyter-widgets/controls",
      "model_module_version": "1.5.0",
      "model_name": "ButtonModel",
      "state": {
       "button_style": "success",
       "description": "save",
       "layout": "IPY_MODEL_6174872e3869405288a622b1b1b7b35f",
       "style": "IPY_MODEL_1ea9aaf33dee4aff878ac076393ac8f8"
      }
     },
     "cdfd80a260694da2b110c1a4b7b23ddc": {
      "model_module": "@jupyter-widgets/controls",
      "model_module_version": "1.5.0",
      "model_name": "VBoxModel",
      "state": {
       "children": [
        "IPY_MODEL_80a6bfc5b1264034b9ecc5f960267afc",
        "IPY_MODEL_75b5350c004c4e79a0a670474b8b3b2f",
        "IPY_MODEL_3e0549f0f37f4c3fac7245f63a9f7c4e",
        "IPY_MODEL_1fe66af02eb946a0921927d7d706a27f",
        "IPY_MODEL_9ff9da6f6dca40e6b7e32f1dd2cb70f6"
       ],
       "layout": "IPY_MODEL_a2fc090ba6fa42e09fc6cc7dcba1ff1d"
      }
     },
     "ce2ce47879284412a532329ab3331c5b": {
      "model_module": "@jupyter-widgets/base",
      "model_module_version": "1.2.0",
      "model_name": "LayoutModel",
      "state": {
       "align_items": "stretch",
       "border": "dashed 0.2px green",
       "display": "flex",
       "flex_flow": "row",
       "grid_auto_columns": "True",
       "justify_content": "flex-start",
       "width": "100%"
      }
     },
     "ce2ff76fa88f4c1a94b5e885729216bf": {
      "model_module": "@jupyter-widgets/base",
      "model_module_version": "1.2.0",
      "model_name": "LayoutModel",
      "state": {
       "align_items": "stretch",
       "display": "flex",
       "flex_flow": "row",
       "grid_auto_columns": "True",
       "justify_content": "flex-start",
       "width": "80%"
      }
     },
     "ce3618da4cfa497688b62a3a330a9926": {
      "model_module": "@jupyter-widgets/base",
      "model_module_version": "1.2.0",
      "model_name": "LayoutModel",
      "state": {
       "align_items": "stretch",
       "display": "flex",
       "flex_flow": "row",
       "grid_auto_columns": "True",
       "justify_content": "flex-end",
       "width": "90%"
      }
     },
     "ce376ad057594a189de7da87031e0c87": {
      "model_module": "@jupyter-widgets/base",
      "model_module_version": "1.2.0",
      "model_name": "LayoutModel",
      "state": {}
     },
     "ce93392888284c9f97d7c40b0075daa2": {
      "model_module": "@jupyter-widgets/controls",
      "model_module_version": "1.5.0",
      "model_name": "DescriptionStyleModel",
      "state": {
       "description_width": ""
      }
     },
     "cf373d085a814e7fb65db50ef94dc3a7": {
      "model_module": "@jupyter-widgets/base",
      "model_module_version": "1.2.0",
      "model_name": "LayoutModel",
      "state": {
       "align_items": "stretch",
       "border": "dashed 0.2px green",
       "display": "flex",
       "flex_flow": "row",
       "grid_auto_columns": "True",
       "justify_content": "flex-start",
       "width": "100%"
      }
     },
     "cf8ee8a0631f4b6c837bb0c65572eab6": {
      "model_module": "@jupyter-widgets/controls",
      "model_module_version": "1.5.0",
      "model_name": "HTMLModel",
      "state": {
       "layout": "IPY_MODEL_0228c6bec83e4b2c842fd8031b53477d",
       "style": "IPY_MODEL_39b7a35b69184bddb3877deb855cb5a6",
       "value": "<p>its a delicious foo cake</p>"
      }
     },
     "d0522c09ae114cea94bf1fd83d9dcaed": {
      "model_module": "@jupyter-widgets/controls",
      "model_module_version": "1.5.0",
      "model_name": "HBoxModel",
      "state": {
       "children": [
        "IPY_MODEL_bcc06e88a1204146a77297d50d7cc2ab"
       ],
       "layout": "IPY_MODEL_cf373d085a814e7fb65db50ef94dc3a7"
      }
     },
     "d058848b98e74b3ebe40b9e189f1f50c": {
      "model_module": "@jupyter-widgets/controls",
      "model_module_version": "1.5.0",
      "model_name": "HTMLModel",
      "state": {
       "layout": "IPY_MODEL_762b2788ab52403abbe24fe69ec902b2",
       "style": "IPY_MODEL_ce93392888284c9f97d7c40b0075daa2",
       "value": "<p>fus foo ous o</p>"
      }
     },
     "d17e3f4697134accba4bd6c442004b26": {
      "model_module": "@jupyter-widgets/controls",
      "model_module_version": "1.5.0",
      "model_name": "DescriptionStyleModel",
      "state": {
       "description_width": ""
      }
     },
     "d190b04e7e2844568710249fd434fec6": {
      "model_module": "@jupyter-widgets/controls",
      "model_module_version": "1.5.0",
      "model_name": "HBoxModel",
      "state": {
       "children": [
        "IPY_MODEL_b72597059b324c45be875d876d7b112f",
        "IPY_MODEL_5970768648554ffbb45c65e057ef85a0"
       ],
       "layout": "IPY_MODEL_b230ff1a16184adf98f8dab46a0f83b1"
      }
     },
     "d1bba039a0814a73819cb2e58043cecb": {
      "model_module": "@jupyter-widgets/controls",
      "model_module_version": "1.5.0",
      "model_name": "HTMLModel",
      "state": {
       "layout": "IPY_MODEL_d50e1fc259784cc4879f5dee326a6b69",
       "style": "IPY_MODEL_3aab5580ca2e4d62b635ade4e62a3ab1",
       "value": "<p>reus foo ous oo ous foo st</p>"
      }
     },
     "d2a3b0c7baf04bfab753fde812eedb1a": {
      "model_module": "@jupyter-widgets/controls",
      "model_module_version": "1.5.0",
      "model_name": "DescriptionStyleModel",
      "state": {
       "description_width": ""
      }
     },
     "d373dac3ff0249248c53369d3df0eba7": {
      "model_module": "@jupyter-widgets/base",
      "model_module_version": "1.2.0",
      "model_name": "LayoutModel",
      "state": {}
     },
     "d50e1fc259784cc4879f5dee326a6b69": {
      "model_module": "@jupyter-widgets/base",
      "model_module_version": "1.2.0",
      "model_name": "LayoutModel",
      "state": {}
     },
     "d5774d4ce2ba4807a5d7d702910a3f3c": {
      "model_module": "@jupyter-widgets/controls",
      "model_module_version": "1.5.0",
      "model_name": "DescriptionStyleModel",
      "state": {
       "description_width": ""
      }
     },
     "d5eb3b98d90b4473954a9da29b19d1cb": {
      "model_module": "@jupyter-widgets/controls",
      "model_module_version": "1.5.0",
      "model_name": "ButtonModel",
      "state": {
       "button_style": "warning",
       "description": "revert to last save",
       "layout": "IPY_MODEL_36b1ca810b8c4dc7b1775a2fbd150a9a",
       "style": "IPY_MODEL_bb7e83fd653f44d691a535ed593f3fa9"
      }
     },
     "d80983de6539485abba360e9b0498fbe": {
      "model_module": "@jupyter-widgets/controls",
      "model_module_version": "1.5.0",
      "model_name": "ToggleButtonModel",
      "state": {
       "layout": "IPY_MODEL_22f019e069394e31b3f67434f1e681b4",
       "style": "IPY_MODEL_24743686d1a540e1a4bd4dfdecf15db0"
      }
     },
     "d8178d8305e14590810f3e4aeefb50e1": {
      "model_module": "@jupyter-widgets/controls",
      "model_module_version": "1.5.0",
      "model_name": "HBoxModel",
      "state": {
       "children": [
        "IPY_MODEL_d1bba039a0814a73819cb2e58043cecb",
        "IPY_MODEL_27145e36963a44ffabb49e32830b63ed"
       ],
       "layout": "IPY_MODEL_619806da67c142598cd8e9cb5bd5216f"
      }
     },
     "d8ca3d85aeba4b65868c32a673aa7947": {
      "model_module": "@jupyter-widgets/controls",
      "model_module_version": "1.5.0",
      "model_name": "HBoxModel",
      "state": {
       "children": [
        "IPY_MODEL_c05f56cc2af6424ca501507c40c78919",
        "IPY_MODEL_bfe681f58885419ab5dd37ff7e907b8d"
       ],
       "layout": "IPY_MODEL_4bde4db8813d4445a3a104973e3cf039"
      }
     },
     "d9333029268d4e4bbcf002e5b8ed1873": {
      "model_module": "@jupyter-widgets/controls",
      "model_module_version": "1.5.0",
      "model_name": "HBoxModel",
      "state": {
       "children": [
        "IPY_MODEL_6d1826fe4a8c434b96ccf5206d1f46c7",
        "IPY_MODEL_6ffdd40290174e6dbcfedd010623d425"
       ],
       "layout": "IPY_MODEL_10697f6edf974b2b9dd87dea0144d299"
      }
     },
     "d9ed6024afbf4a24921534fa2db59c00": {
      "model_module": "@jupyter-widgets/base",
      "model_module_version": "1.2.0",
      "model_name": "LayoutModel",
      "state": {}
     },
     "dbd87041670f43e9b64d282ad656de8c": {
      "model_module": "@jupyter-widgets/base",
      "model_module_version": "1.2.0",
      "model_name": "LayoutModel",
      "state": {}
     },
     "dc1c35c51ae0441eb86f38304af7444f": {
      "model_module": "@jupyter-widgets/base",
      "model_module_version": "1.2.0",
      "model_name": "LayoutModel",
      "state": {}
     },
     "dc8bbf6883de45198482faadf6baa722": {
      "model_module": "@jupyter-widgets/controls",
      "model_module_version": "1.5.0",
      "model_name": "DescriptionStyleModel",
      "state": {
       "description_width": ""
      }
     },
     "dc9b402152fa4e6782bc88848d78fe74": {
      "model_module": "@jupyter-widgets/base",
      "model_module_version": "1.2.0",
      "model_name": "LayoutModel",
      "state": {}
     },
     "ddba56ef2d9d4b99881c1b19ab300bea": {
      "model_module": "@jupyter-widgets/base",
      "model_module_version": "1.2.0",
      "model_name": "LayoutModel",
      "state": {}
     },
     "de7c7a5317cb48bf90698dcdcc739127": {
      "model_module": "@jupyter-widgets/base",
      "model_module_version": "1.2.0",
      "model_name": "LayoutModel",
      "state": {}
     },
     "deb067dd9bcf495a9291e8fb2e643ebe": {
      "model_module": "@jupyter-widgets/controls",
      "model_module_version": "1.5.0",
      "model_name": "HTMLModel",
      "state": {
       "layout": "IPY_MODEL_a0800f5e995143a6b6e3d33c070469fc",
       "style": "IPY_MODEL_dc8bbf6883de45198482faadf6baa722",
       "value": "<p>its a foo cake</p>"
      }
     },
     "dedcc429c57642c2a215d774ba1d374f": {
      "model_module": "@jupyter-widgets/base",
      "model_module_version": "1.2.0",
      "model_name": "LayoutModel",
      "state": {
       "align_items": "stretch",
       "display": "flex",
       "flex_flow": "row",
       "grid_auto_columns": "True",
       "justify_content": "flex-start",
       "width": "80%"
      }
     },
     "df1d1cd6aea54d149ceb8bd80768bf41": {
      "model_module": "@jupyter-widgets/controls",
      "model_module_version": "1.5.0",
      "model_name": "HTMLModel",
      "state": {
       "layout": "IPY_MODEL_4f5265f713454e529beb23a71be20bbb",
       "style": "IPY_MODEL_d2a3b0c7baf04bfab753fde812eedb1a",
       "value": "<p>reous foo ous foo st</p>"
      }
     },
     "df7a8a1f0a8b43b98f0bd089f2e43107": {
      "model_module": "@jupyter-widgets/base",
      "model_module_version": "1.2.0",
      "model_name": "LayoutModel",
      "state": {
       "width": "5%"
      }
     },
     "df94bd12c6b04bdf883f8a3a2c26dfc9": {
      "model_module": "@jupyter-widgets/controls",
      "model_module_version": "1.5.0",
      "model_name": "HTMLModel",
      "state": {
       "layout": "IPY_MODEL_6185c437dad54df59d88eda3357327f5",
       "style": "IPY_MODEL_020bb3baaec94b4a8667695a4ebf86f9",
       "value": "<p>its a foo cake</p>"
      }
     },
     "dfadf3e25934409c9f1cf3bae851df93": {
      "model_module": "@jupyter-widgets/base",
      "model_module_version": "1.2.0",
      "model_name": "LayoutModel",
      "state": {}
     },
     "e233f44a1676413f804be56b6edcc8fe": {
      "model_module": "@jupyter-widgets/base",
      "model_module_version": "1.2.0",
      "model_name": "LayoutModel",
      "state": {}
     },
     "e475fcc074b149b583f512329a07b901": {
      "model_module": "@jupyter-widgets/controls",
      "model_module_version": "1.5.0",
      "model_name": "HBoxModel",
      "state": {
       "children": [
        "IPY_MODEL_e7d4ee7021e940b4a348ace2142665c2"
       ],
       "layout": "IPY_MODEL_caab0a8904bc41088801004d3b2e6025"
      }
     },
     "e66f7a8d913a484c90e5b851a781ce45": {
      "model_module": "@jupyter-widgets/controls",
      "model_module_version": "1.5.0",
      "model_name": "VBoxModel",
      "state": {
       "children": [
        "IPY_MODEL_1e2d9334acc34126bfc8f6208d582d79",
        "IPY_MODEL_d0522c09ae114cea94bf1fd83d9dcaed",
        "IPY_MODEL_f04278002fc24120b060cc8bdc92e518",
        "IPY_MODEL_6a21ece1863d41d1abae228076f2d625",
        "IPY_MODEL_3e944ca87e8b4227b41f31e023bc7c58",
        "IPY_MODEL_493807ba793b4dcc98f2846643d5fc85",
        "IPY_MODEL_89b5d506d3794799950aa1f2d092d983",
        "IPY_MODEL_29a811f517d24b6bb08dbb1ae8522f86"
       ],
       "layout": "IPY_MODEL_7b4a47969d9f4184afb977e306c72b45"
      }
     },
     "e6c37716035c458fb9e8471e9315e1a2": {
      "model_module": "@jupyter-widgets/controls",
      "model_module_version": "1.5.0",
      "model_name": "HTMLModel",
      "state": {
       "layout": "IPY_MODEL_768c7f3175574af78e5082c288a0efc9",
       "style": "IPY_MODEL_ed6b78b1637c46cb9cad84e90801b3b5",
       "value": "<p>its a foo cake</p>"
      }
     },
     "e7d4ee7021e940b4a348ace2142665c2": {
      "model_module": "@jupyter-widgets/controls",
      "model_module_version": "1.5.0",
      "model_name": "HBoxModel",
      "state": {
       "children": [
        "IPY_MODEL_fcc6cfea1deb45eaacf298777cfb90c8",
        "IPY_MODEL_f1676af6800a40ad9ed35a8441b36ea0"
       ],
       "layout": "IPY_MODEL_b94d8800debb4ad89152155e22f58a88"
      }
     },
     "e8091be95458469faab38d307308173d": {
      "model_module": "@jupyter-widgets/controls",
      "model_module_version": "1.5.0",
      "model_name": "ToggleButtonModel",
      "state": {
       "description": "help",
       "icon": "fa-question-circle",
       "layout": "IPY_MODEL_df7a8a1f0a8b43b98f0bd089f2e43107",
       "style": "IPY_MODEL_d5774d4ce2ba4807a5d7d702910a3f3c",
       "tooltip": "gives guidance"
      }
     },
     "e82246683b69473bad8f0c2fcfd90c51": {
      "model_module": "@jupyter-widgets/base",
      "model_module_version": "1.2.0",
      "model_name": "LayoutModel",
      "state": {
       "display": "flex",
       "flex_flow": "row",
       "grid_auto_columns": "False",
       "justify_content": "flex-start",
       "width": "100%"
      }
     },
     "e8b5b3e306ee4b8a8440200e9a5af5cc": {
      "model_module": "@jupyter-widgets/base",
      "model_module_version": "1.2.0",
      "model_name": "LayoutModel",
      "state": {}
     },
     "e8f53991193c4cf8b51bbcb056b79f1f": {
      "model_module": "@jupyter-widgets/controls",
      "model_module_version": "1.5.0",
      "model_name": "HBoxModel",
      "state": {
       "children": [
        "IPY_MODEL_a3c3a7bed4c64a9cb0b0a98f22a0659b",
        "IPY_MODEL_d8ca3d85aeba4b65868c32a673aa7947"
       ],
       "layout": "IPY_MODEL_97438337a8cb4131b6514f7422609387"
      }
     },
     "e97515dd0ad64096a544a7a34b2526e0": {
      "model_module": "@jupyter-widgets/base",
      "model_module_version": "1.2.0",
      "model_name": "LayoutModel",
      "state": {}
     },
     "eae9033b1204437b8e150dcc5608f49f": {
      "model_module": "@jupyter-widgets/controls",
      "model_module_version": "1.5.0",
      "model_name": "HTMLModel",
      "state": {
       "layout": "IPY_MODEL_4a10b32a91604574badd17ab8ceb2c32",
       "style": "IPY_MODEL_baa7e00b837a4659a7a7d179c4abce81",
       "value": "<p>foo</p>"
      }
     },
     "eb3a8864dc0c4d0581a43619fe030044": {
      "model_module": "@jupyter-widgets/base",
      "model_module_version": "1.2.0",
      "model_name": "LayoutModel",
      "state": {
       "align_items": "stretch",
       "display": "flex",
       "flex_flow": "row",
       "grid_auto_columns": "True",
       "justify_content": "flex-end",
       "width": "90%"
      }
     },
     "ebaf73f3bba84654adfb3137f7782605": {
      "model_module": "@jupyter-widgets/controls",
      "model_module_version": "1.5.0",
      "model_name": "HBoxModel",
      "state": {
       "children": [
        "IPY_MODEL_1b645095312d45cb95dbf0f649cc40ba",
        "IPY_MODEL_8f229e68d6c0430f99d0fcfc3f41425b"
       ],
       "layout": "IPY_MODEL_fcd0e78864a54972ba3040696c635fa0"
      }
     },
     "ebb2aa7016a34b87a9f54fe3155eda6a": {
      "model_module": "@jupyter-widgets/controls",
      "model_module_version": "1.5.0",
      "model_name": "SliderStyleModel",
      "state": {
       "description_width": ""
      }
     },
     "eca0050062044708aff4b9f253bf15c1": {
      "model_module": "@jupyter-widgets/base",
      "model_module_version": "1.2.0",
      "model_name": "LayoutModel",
      "state": {
       "align_items": "stretch",
       "display": "flex",
       "flex_flow": "row",
       "grid_auto_columns": "True",
       "justify_content": "flex-end",
       "width": "90%"
      }
     },
     "ed6b78b1637c46cb9cad84e90801b3b5": {
      "model_module": "@jupyter-widgets/controls",
      "model_module_version": "1.5.0",
      "model_name": "DescriptionStyleModel",
      "state": {
       "description_width": ""
      }
     },
     "ed8eb05b57064952bc9a46c532bd00b5": {
      "model_module": "@jupyter-widgets/controls",
      "model_module_version": "1.5.0",
      "model_name": "DescriptionStyleModel",
      "state": {
       "description_width": ""
      }
     },
     "edec2e3a65b948f9abe7da2ad661f852": {
      "model_module": "@jupyter-widgets/controls",
      "model_module_version": "1.5.0",
      "model_name": "HTMLModel",
      "state": {
       "layout": "IPY_MODEL_bb4092b44127479d8f275717822f8841",
       "style": "IPY_MODEL_0e6de7c9d5ff40529e82e86c8e87cfbe",
       "value": "<p>its a foo cake</p>"
      }
     },
     "ee0fcfb47d7f4b1e8c8bfd9151e5b220": {
      "model_module": "@jupyter-widgets/output",
      "model_module_version": "1.0.0",
      "model_name": "OutputModel",
      "state": {
       "layout": "IPY_MODEL_731fcae3dbb44000ba2491a28271e5de"
      }
     },
     "f014e6c28224447abc4cc52aff1941dc": {
      "model_module": "@jupyter-widgets/base",
      "model_module_version": "1.2.0",
      "model_name": "LayoutModel",
      "state": {
       "align_items": "stretch",
       "display": "flex",
       "flex_flow": "row",
       "grid_auto_columns": "True",
       "justify_content": "flex-end",
       "width": "90%"
      }
     },
     "f019b86cdd9a4b4abad3389ecd26f6dd": {
      "model_module": "@jupyter-widgets/base",
      "model_module_version": "1.2.0",
      "model_name": "LayoutModel",
      "state": {}
     },
     "f04278002fc24120b060cc8bdc92e518": {
      "model_module": "@jupyter-widgets/controls",
      "model_module_version": "1.5.0",
      "model_name": "HBoxModel",
      "state": {
       "children": [
        "IPY_MODEL_e8f53991193c4cf8b51bbcb056b79f1f"
       ],
       "layout": "IPY_MODEL_c1c6e8fd4f9e411e83249c4faf961d5b"
      }
     },
     "f0b38b36aabf4f29ba44f56136d78f56": {
      "model_module": "@jupyter-widgets/controls",
      "model_module_version": "1.5.0",
      "model_name": "HTMLModel",
      "state": {
       "layout": "IPY_MODEL_e97515dd0ad64096a544a7a34b2526e0",
       "style": "IPY_MODEL_aecb0dad783c4bd3a6da6441e5bf69e8",
       "value": "<p>reus foo ous oo ous foo st</p>"
      }
     },
     "f1676af6800a40ad9ed35a8441b36ea0": {
      "model_module": "@jupyter-widgets/controls",
      "model_module_version": "1.5.0",
      "model_name": "HBoxModel",
      "state": {
       "children": [
        "IPY_MODEL_88ad09a5162141d5930171d7678c1f6e",
        "IPY_MODEL_af3a20b660804a1e86a197f2656802a1"
       ],
       "layout": "IPY_MODEL_dedcc429c57642c2a215d774ba1d374f"
      }
     },
     "f19e915470d24e4eb9c9d71937697be0": {
      "model_module": "@jupyter-widgets/controls",
      "model_module_version": "1.5.0",
      "model_name": "HBoxModel",
      "state": {
       "children": [
        "IPY_MODEL_5209ec7f02b047919b8dbfe7d0d855c3",
        "IPY_MODEL_accc77769bde4b8796009ccec62bdc22"
       ],
       "layout": "IPY_MODEL_eb3a8864dc0c4d0581a43619fe030044"
      }
     },
     "f226d2a270014344ac60688b3af48c04": {
      "model_module": "@jupyter-widgets/base",
      "model_module_version": "1.2.0",
      "model_name": "LayoutModel",
      "state": {
       "align_items": "stretch",
       "display": "flex",
       "flex_flow": "row",
       "grid_auto_columns": "True",
       "justify_content": "flex-start",
       "width": "80%"
      }
     },
     "f2754b41d47047a380a398beb1fab3f4": {
      "model_module": "@jupyter-widgets/controls",
      "model_module_version": "1.5.0",
      "model_name": "HBoxModel",
      "state": {
       "children": [
        "IPY_MODEL_35f5c7f528bf49108a0d6f7a771ad4e1",
        "IPY_MODEL_b597bf0506084deeb36f78a20a3c6ff2"
       ],
       "layout": "IPY_MODEL_8cf64a17c8184d02a18a6bcdd1701999"
      }
     },
     "f303e66ac7cb4c1bb6fc43eede8358cb": {
      "model_module": "@jupyter-widgets/base",
      "model_module_version": "1.2.0",
      "model_name": "LayoutModel",
      "state": {
       "align_items": "stretch",
       "display": "flex",
       "flex_flow": "row",
       "grid_auto_columns": "True",
       "justify_content": "flex-start",
       "width": "80%"
      }
     },
     "f30c7b10da5d4c3dbec3c19a5a5a2d17": {
      "model_module": "@jupyter-widgets/base",
      "model_module_version": "1.2.0",
      "model_name": "LayoutModel",
      "state": {}
     },
     "f32c19e8fe794367831f50a18ea46ac5": {
      "model_module": "@jupyter-widgets/output",
      "model_module_version": "1.0.0",
      "model_name": "OutputModel",
      "state": {
       "layout": "IPY_MODEL_40fb7d0e31bb479bb652b17884a1663e"
      }
     },
     "f3d40791a7da4625bd69234a61dde1f5": {
      "model_module": "@jupyter-widgets/base",
      "model_module_version": "1.2.0",
      "model_name": "LayoutModel",
      "state": {}
     },
     "f3da93a5f3064e4894881b6cf30cc775": {
      "model_module": "@jupyter-widgets/controls",
      "model_module_version": "1.5.0",
      "model_name": "ToggleButtonModel",
      "state": {
       "description": "help",
       "icon": "fa-question-circle",
       "layout": "IPY_MODEL_60dbc7c62fbb46f9b91496af18c9cd90",
       "style": "IPY_MODEL_489ee871f66545a796255982c4066684",
       "tooltip": "gives guidance"
      }
     },
     "f423d94571e8476f84f4f9e76b6807f2": {
      "model_module": "@jupyter-widgets/base",
      "model_module_version": "1.2.0",
      "model_name": "LayoutModel",
      "state": {}
     },
     "f45d7d6f954244208d471cd89e5a048a": {
      "model_module": "@jupyter-widgets/base",
      "model_module_version": "1.2.0",
      "model_name": "LayoutModel",
      "state": {
       "align_items": "stretch",
       "display": "flex",
       "flex_flow": "row",
       "grid_auto_columns": "True",
       "justify_content": "flex-start",
       "width": "80%"
      }
     },
     "f4d18e507e124d74b50a62aa62e0f9cd": {
      "model_module": "@jupyter-widgets/output",
      "model_module_version": "1.0.0",
      "model_name": "OutputModel",
      "state": {
       "layout": "IPY_MODEL_905a8a76ab564e458919d51c3d7d5fc2"
      }
     },
     "f5717b84bda34407b2a0222e467cc94e": {
      "model_module": "@jupyter-widgets/base",
      "model_module_version": "1.2.0",
      "model_name": "LayoutModel",
      "state": {}
     },
     "f837e2dfa5c04ff499513fd8a4056402": {
      "model_module": "@jupyter-widgets/controls",
      "model_module_version": "1.5.0",
      "model_name": "TextareaModel",
      "state": {
       "layout": "IPY_MODEL_089f59424c0c4bc68d1a8f94cad1d6d3",
       "style": "IPY_MODEL_6aa919b2205e47729edd6372decc9652",
       "value": "asdfasdf"
      }
     },
     "f8eff6750ea84b1fa799d7b9cc33a824": {
      "model_module": "@jupyter-widgets/controls",
      "model_module_version": "1.5.0",
      "model_name": "HBoxModel",
      "state": {
       "children": [
        "IPY_MODEL_df1d1cd6aea54d149ceb8bd80768bf41",
        "IPY_MODEL_8139684a4c80485f83c3583ac5d04014"
       ],
       "layout": "IPY_MODEL_b7c5e795b5d14087841729b044428534"
      }
     },
     "f921af36ece34608b7835f0e91f50644": {
      "model_module": "@jupyter-widgets/controls",
      "model_module_version": "1.5.0",
      "model_name": "TextModel",
      "state": {
       "layout": "IPY_MODEL_6729736b9b2c466295bff384d81c238e",
       "style": "IPY_MODEL_51a83bac13eb41ea95775b6ae7d4392e",
       "value": "2"
      }
     },
     "f95c0173cc1a403688a58ba7bd93e53a": {
      "model_module": "@jupyter-widgets/controls",
      "model_module_version": "1.5.0",
      "model_name": "DescriptionStyleModel",
      "state": {
       "description_width": ""
      }
     },
     "fbc04263e68d4e8b95de4b7de5754fc6": {
      "model_module": "@jupyter-widgets/base",
      "model_module_version": "1.2.0",
      "model_name": "LayoutModel",
      "state": {}
     },
     "fbe5c870c8a642c68647aefa5e9bda45": {
      "model_module": "@jupyter-widgets/base",
      "model_module_version": "1.2.0",
      "model_name": "LayoutModel",
      "state": {}
     },
     "fc8dbf0ef98f4abf965739ca4fa059e2": {
      "model_module": "@jupyter-widgets/output",
      "model_module_version": "1.0.0",
      "model_name": "OutputModel",
      "state": {
       "layout": "IPY_MODEL_fbc04263e68d4e8b95de4b7de5754fc6"
      }
     },
     "fcc6cfea1deb45eaacf298777cfb90c8": {
      "model_module": "@jupyter-widgets/controls",
      "model_module_version": "1.5.0",
      "model_name": "HTMLModel",
      "state": {
       "layout": "IPY_MODEL_23d269b242c34c02a7f09389b0d21a08",
       "style": "IPY_MODEL_1eef8cb3f7104f8f8bebeaf4532cee40",
       "value": "<p>fus foo ous o</p>"
      }
     },
     "fcd0e78864a54972ba3040696c635fa0": {
      "model_module": "@jupyter-widgets/base",
      "model_module_version": "1.2.0",
      "model_name": "LayoutModel",
      "state": {
       "align_items": "stretch",
       "display": "flex",
       "flex_flow": "row",
       "grid_auto_columns": "True",
       "justify_content": "flex-end",
       "width": "90%"
      }
     },
     "fcef7e5afb7d4b5d89dfbe6a366b342b": {
      "model_module": "@jupyter-widgets/controls",
      "model_module_version": "1.5.0",
      "model_name": "DescriptionStyleModel",
      "state": {
       "description_width": ""
      }
     },
     "febda6c776944e38a3f086929a4256b7": {
      "model_module": "@jupyter-widgets/output",
      "model_module_version": "1.0.0",
      "model_name": "OutputModel",
      "state": {
       "layout": "IPY_MODEL_b1cc583c927e421989fdd7da36a29358"
      }
     },
     "ff0ba18374a44aaea3271f238a95094d": {
      "model_module": "@jupyter-widgets/controls",
      "model_module_version": "1.5.0",
      "model_name": "DescriptionStyleModel",
      "state": {
       "description_width": ""
      }
     },
     "ff26fa21e6394ca88218ae1ef2632e2e": {
      "model_module": "@jupyter-widgets/output",
      "model_module_version": "1.0.0",
      "model_name": "OutputModel",
      "state": {
       "layout": "IPY_MODEL_3a065b014c49494f8597f6cd2296aa00"
      }
     },
     "ff9fb2f2b7254d4180257155fa1c5970": {
      "model_module": "@jupyter-widgets/base",
      "model_module_version": "1.2.0",
      "model_name": "LayoutModel",
      "state": {}
     }
    },
    "version_major": 2,
    "version_minor": 0
   }
  }
 },
 "nbformat": 4,
 "nbformat_minor": 4
}
