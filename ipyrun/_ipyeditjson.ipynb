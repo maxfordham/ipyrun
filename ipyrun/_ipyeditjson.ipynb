{
 "cells": [
  {
   "cell_type": "code",
   "execution_count": 7,
   "metadata": {},
   "outputs": [],
   "source": [
    "import os\n",
    "import pandas as pd\n",
    "from IPython.display import display, Image, JSON, Markdown, HTML, display_pdf, clear_output\n",
    "from markdown import markdown\n",
    "from datetime import datetime\n",
    "\n",
    "# widget stuff\n",
    "import ipywidgets as widgets\n",
    "import ipysheet\n",
    "from ipysheet import from_dataframe, to_dataframe\n",
    "\n",
    "# core mf_modules\n",
    "from mf_modules.pydtype_operations import read_json, write_json \n",
    "from mf_modules.file_operations import make_dir\n",
    "\n",
    "\n",
    "# from this repo\n",
    "# this is an unpleasant hack. should aim to find a better solution\n",
    "try:\n",
    "    from ipyrun._filecontroller import FileConfigController, SelectEditSaveMfJson\n",
    "    from ipyrun._runconfig import RunConfig\n",
    "    from ipyrun._ipydisplayfile import DisplayFile, DisplayFiles\n",
    "except:\n",
    "    from _filecontroller import FileConfigController, SelectEditSaveMfJson\n",
    "    from _runconfig import RunConfig\n",
    "    from _ipydisplayfile import DisplayFile, DisplayFiles"
   ]
  },
  {
   "cell_type": "code",
   "execution_count": 8,
   "metadata": {},
   "outputs": [],
   "source": [
    "def _markdown(value='_Markdown_',\n",
    "              **kwargs):\n",
    "    \"\"\"\n",
    "    a simple template for markdown text input that templates required input\n",
    "    fields. additional user defined fields can be added as kwargs\n",
    "    \"\"\"\n",
    "    _kwargs = {}\n",
    "    _kwargs['value'] = markdown(value)  # required field\n",
    "    _kwargs.update(kwargs)  # user overides\n",
    "    return widgets.HTML(**_kwargs)\n",
    "\n",
    "class EditDictData():\n",
    "    \"\"\"\n",
    "    contains form layout specs and mapping dict used for associating input\n",
    "    variables to the appropriate widget. \n",
    "    \"\"\"\n",
    "           \n",
    "    @property\n",
    "    def MF_FORM_ITEM_LAYOUT(self):\n",
    "        return widgets.Layout(\n",
    "            display='flex',\n",
    "            flex_flow='row',\n",
    "            justify_content='flex-start',\n",
    "            #border='solid 1px green',\n",
    "            grid_auto_columns='True',\n",
    "            width='80%',\n",
    "            align_items='stretch',  \n",
    "        )\n",
    "    \n",
    "    @property\n",
    "    def MF_FORM_ITEM_LAYOUT1(self):\n",
    "        return widgets.Layout(\n",
    "            display='flex',\n",
    "            flex_flow='row',\n",
    "            justify_content='flex-end',\n",
    "            #border='solid 1px green',\n",
    "            grid_auto_columns='True',\n",
    "            width='90%',\n",
    "            align_items='stretch',  \n",
    "        )\n",
    "    \n",
    "    @property\n",
    "    def MF_FORM_ITEM_LAYOUT2(self):\n",
    "        return widgets.Layout(\n",
    "            display='flex',\n",
    "            flex_flow='row',\n",
    "            justify_content='flex-start',\n",
    "            border='dashed 0.2px green',\n",
    "            grid_auto_columns='True',\n",
    "            width='100%',\n",
    "            align_items='stretch',  \n",
    "        )\n",
    "    \n",
    "    @property\n",
    "    def map_keys(self):\n",
    "        return ['value', 'options', 'min', 'max']\n",
    "    \n",
    "    @property\n",
    "    def map_widgets(self):\n",
    "        # mapping dict used to guess what widget to apply\n",
    "        return {\n",
    "            'FloatText': {\n",
    "                'value_type': \"<class 'float'>\",\n",
    "                'options_type': \"<class 'NoneType'>\",\n",
    "                'min_type': \"<class 'NoneType'>\",\n",
    "                'max_type': \"<class 'NoneType'>\"\n",
    "            },\n",
    "           'FloatSlider': {\n",
    "                'value_type': \"<class 'float'>\",\n",
    "                'options_type': \"<class 'NoneType'>\",\n",
    "                'min_type': \"<class 'float'>\",\n",
    "                'max_type': \"<class 'float'>\"\n",
    "           },\n",
    "           'Dropdown': {\n",
    "                'value_type': 'any',\n",
    "                'options_type': \"<class 'list'>\",\n",
    "                'min_type': \"<class 'NoneType'>\",\n",
    "                'max_type': \"<class 'NoneType'>\"\n",
    "           },\n",
    "           'SelectMultiple': {\n",
    "                'value_type': \"<class 'list'>\",\n",
    "                'options_type': \"<class 'list'>\",\n",
    "                'min_type': \"<class 'NoneType'>\",\n",
    "                'max_type': \"<class 'NoneType'>\"\n",
    "           },\n",
    "           'Checkbox': {\n",
    "                'value_type': \"<class 'bool'>\",\n",
    "                'options_type': \"<class 'NoneType'>\",\n",
    "                'min_type': \"<class 'NoneType'>\",\n",
    "                'max_type': \"<class 'NoneType'>\"\n",
    "           },\n",
    "           'Text': {\n",
    "                'value_type': \"<class 'str'>\",\n",
    "                'options_type': \"<class 'NoneType'>\",\n",
    "                'min_type': \"<class 'NoneType'>\",\n",
    "                'max_type': \"<class 'NoneType'>\"\n",
    "           },\n",
    "           '_recursive_guess': {\n",
    "                'value_type': \"<class 'list'>\",\n",
    "                'options_type': \"<class 'NoneType'>\",\n",
    "                'min_type': \"<class 'NoneType'>\",\n",
    "                'max_type': \"<class 'NoneType'>\"\n",
    "           }\n",
    "        }\n",
    "    \n",
    "    @property\n",
    "    def widget_lkup(self):\n",
    "        return {\n",
    "                'FloatText':widgets.FloatText,\n",
    "                'FloatSlider':widgets.FloatSlider,\n",
    "                'Dropdown':widgets.Dropdown,\n",
    "                'DerivedText':widgets.HTML,\n",
    "                'DatePicker':widgets.DatePicker,\n",
    "                'SelectMultiple':widgets.SelectMultiple,\n",
    "                'Checkbox':widgets.Checkbox,\n",
    "                'Text':widgets.Text,\n",
    "                'Textarea':widgets.Textarea,\n",
    "                '_recursive_guess':self._recursive_guess,\n",
    "                'ipysheet':self._ipysheet\n",
    "            }\n",
    "\n",
    "    \n",
    "class EditDict(EditDictData):\n",
    "    '''\n",
    "    a class that is passed a dict and then guesses the most appropriate \n",
    "    widget from the values in the dict.\n",
    "    - if a nested list of dicts is passed:\n",
    "        => it will create an embedded, clickable show/hide nested input form\n",
    "    - if a json dataframe object is passed as the \"value\" and and the key:value\n",
    "      \"widget\":\"ipysheet\" is passed in the same dict:\n",
    "        => it will create an editable ipysheet dataframe widget\n",
    "    '''\n",
    "    def __init__(self, di):\n",
    "        self.out = widgets.Output()\n",
    "        self.di = di\n",
    "        self.form()\n",
    " \n",
    "    def form(self):\n",
    "        self.di = self._update_di()\n",
    "        if 'widget' not in self.di.keys():\n",
    "            self.di_types = self._get_var_types()\n",
    "            self.widget_name, self.report = self.map_widget()           \n",
    "        else:\n",
    "            self.widget_name = self.di['widget']\n",
    "        self.kwargs = self._kwargfilt()\n",
    "        self.layout = self._build_widget()\n",
    "        if self.widget_name != 'ipysheet' and self.widget_name != '_recursive_guess':\n",
    "            self._init_controls()\n",
    "          \n",
    "    def _init_controls(self):   \n",
    "        self.widget_only.observe(self._update_change, 'value') \n",
    "\n",
    "    def _update_change(self, change):\n",
    "        value = None\n",
    "        if(self.widget_name == \"DatePicker\"):\n",
    "            value = self.widget_only.value.strftime('%d/%m/%Y')\n",
    "        else:\n",
    "            value = self.widget_only.value\n",
    "\n",
    "        self.di['value'] = value\n",
    "\n",
    "    def _build_widget(self):\n",
    "        \n",
    "        if self.widget_name == '_recursive_guess':\n",
    "            self._recursive_guess()\n",
    "        elif self.widget_name == 'ipysheet':\n",
    "            self._ipysheet()\n",
    "        elif self.widget_name == \"DatePicker\":\n",
    "            value = datetime.strptime(self.kwargs['value'], '%d/%m/%Y')\n",
    "            self.widget_only = self.widget_lkup[self.widget_name](value=value)\n",
    "        elif self.widget_name == \"DerivedText\":   \n",
    "            self.widget_only = self.widget_lkup[self.widget_name](**self.kwargs)\n",
    "            self.widget_only.layout=widgets.Layout(border='solid 1px #BBBBBB', padding='0px 10px 0px 10px')\n",
    "        else:\n",
    "            self.widget_only = self.widget_lkup[self.widget_name](**self.kwargs)\n",
    "        self.widget_simple = widgets.HBox([self.widget_only,_markdown(self.di['label'])],layout=self.MF_FORM_ITEM_LAYOUT)\n",
    "        self.widget_row = widgets.HBox([_markdown(self.di['name']),self.widget_simple],layout=self.MF_FORM_ITEM_LAYOUT1)\n",
    "        if 'fpth_help' in self.di.keys():\n",
    "            self.guide = widgets.ToggleButton(icon='fa-question-circle',\n",
    "                                              description='help',\n",
    "                                              tooltip='gives guidance',\n",
    "                                              style={'font_weight':'bold'},\n",
    "                                              layout=widgets.Layout(width='5%'))\n",
    "            self.guide.observe(self._guide, 'value')\n",
    "            layout = widgets.HBox([self.widget_row ,self.guide],layout=self.MF_FORM_ITEM_LAYOUT2)\n",
    "        else:\n",
    "            layout = widgets.HBox([self.widget_row ],layout=self.MF_FORM_ITEM_LAYOUT2)\n",
    "        return layout\n",
    "    \n",
    "    def _guide(self, sender):\n",
    "        with self.out:\n",
    "            if self.guide.value:  \n",
    "                if self.di['fpth_help']==list:\n",
    "                    d = DisplayFiles(self.di['fpth_help'])\n",
    "                    #display(Image(os.path.join(os.environ['mf_root'],r'engDevSetup\\dev\\icons\\icon_png\\help-icon.png')));\n",
    "                    display(d)\n",
    "                else:\n",
    "                    d = DisplayFile(self.di['fpth_help'])\n",
    "                    display(d.preview_fpth())\n",
    "            else:\n",
    "                clear_output()\n",
    "                \n",
    "    def _kwargfilt(self):\n",
    "        return {k:v for (k,v) in self.di.items() if k != 'widget' and k != 'name' and k != 'label' and k != 'fpth_help' and v is not None}\n",
    "        \n",
    "    def _update_di(self):\n",
    "\n",
    "        def add_to_dict(di, keyname='None', valuename=None):\n",
    "            if keyname not in di.keys():\n",
    "                di[keyname]=valuename\n",
    "            return di\n",
    "        tmp = self.di\n",
    "        tmp = add_to_dict(tmp,keyname='min')\n",
    "        tmp = add_to_dict(tmp,keyname='max')\n",
    "        tmp = add_to_dict(tmp,keyname='options')\n",
    "        tmp = add_to_dict(tmp,keyname='name', valuename='name')\n",
    "        tmp = add_to_dict(tmp,keyname='label', valuename='label')\n",
    "        return tmp\n",
    "        \n",
    "    def _get_var_types(self):\n",
    "\n",
    "        def int_type_to_float(di):\n",
    "            di_ = {}\n",
    "            for key, val in di.items():\n",
    "                if val == \"<class 'int'>\":\n",
    "                    di_[key] = \"<class 'float'>\"\n",
    "                else:\n",
    "                    di_[key] = val\n",
    "            return di_\n",
    "        di = self.di\n",
    "        keys = self.map_keys\n",
    "        di_filt = { key: di[key] for key in keys }\n",
    "        di_types = {key+'_type': str(type(di_filt[key])) for key in keys}\n",
    "        di_types= int_type_to_float(di_types)\n",
    "        return di_types\n",
    "    \n",
    "    def map_widget(self):\n",
    "        \"\"\"\n",
    "        uses the types of the different inputs to map an input \n",
    "        to the appropriate widget\n",
    "\n",
    "        Reference:\n",
    "            |                 | value_type      | options_type       | min_type           | max_type           |\n",
    "            |:----------------|:----------------|:-------------------|:-------------------|:-------------------|\n",
    "            | FloatText       | <class 'float'> | <class 'NoneType'> | <class 'NoneType'> | <class 'NoneType'> |\n",
    "            | FloatSlider     | <class 'float'> | <class 'NoneType'> | <class 'float'>    | <class 'float'>    |\n",
    "            | Dropdown        | <class 'float'> | <class 'list'>     | <class 'NoneType'> | <class 'NoneType'> |\n",
    "            | SelectMultiple  | <class 'list'>  | <class 'list'>     | <class 'NoneType'> | <class 'NoneType'> |\n",
    "            | Checkbox        | <class 'bool'>  | <class 'NoneType'> | <class 'NoneType'> | <class 'NoneType'> |\n",
    "            | Text            | <class 'str'>   | <class 'NoneType'> | <class 'NoneType'> | <class 'NoneType'> |\n",
    "            | _recursive_guess| <class 'list'>  | <class 'NoneType'> | <class 'NoneType'> | <class 'NoneType'> |\n",
    "        \"\"\"\n",
    "        di_types = self.di_types\n",
    "        map_widgets = self.map_widgets\n",
    "        m = 0\n",
    "        for k, v in map_widgets.items():\n",
    "            # this settles ambiguity for value type from Dropdown (which could be anything)\n",
    "            #if k == widgets.Dropdown and di_types['value_type'] != \"<class 'list'>\":\n",
    "            if k == 'Dropdown' and di_types['value_type'] != \"<class 'list'>\":\n",
    "                v['value_type'] = di_types['value_type']\n",
    "            if v == di_types:\n",
    "                m=+1\n",
    "                widget_name = k\n",
    "        if m < 1:\n",
    "            report = 'no matching widget found... check inputs...'\n",
    "            print(di_types)\n",
    "            print(report)\n",
    "            widget_name = 'Text'\n",
    "        elif m == 1:\n",
    "            report = 'perfect match!'\n",
    "        else:\n",
    "            report = 'multiple matches found... check code...'\n",
    "            print(di_types)\n",
    "            print(report)\n",
    "        return widget_name, report\n",
    "    \n",
    "    # -------------------------------------------------------------------------     \n",
    "    # code that allows for embedded list of dicts -----------------------------\n",
    "    def _recursive_guess(self):\n",
    "        self.kwargs = {k:v for (k,v) in self.kwargs.items() if k != 'value'}\n",
    "        self.kwargs['icon'] = 'arrow-down'\n",
    "        self.widget_only = widgets.ToggleButton(**self.kwargs)\n",
    "        self._recursive_controls()\n",
    "        \n",
    "    def _recursive_controls(self):\n",
    "        self.widget_only.observe(self._call_GuessWidget, 'value')\n",
    "\n",
    "    def _call_GuessWidget(self, sender):\n",
    "        self.nested_g = EditListOfDicts(self.di['value'])\n",
    "        self.di['value'] = self.nested_g.li\n",
    "        with self.out:\n",
    "            if self.widget_only.value:  \n",
    "                display(self.nested_g)\n",
    "            else:\n",
    "                clear_output()\n",
    "    # --------------------------------------------------------------------------\n",
    "    # code that allows for embedded ipysheets ----------------------------------\n",
    "    def _ipysheet(self):\n",
    "        self.kwargs = {k:v for (k,v) in self.kwargs.items() if k != 'value'}\n",
    "        self.kwargs['icon'] = 'arrow-down'\n",
    "        self.widget_only = widgets.ToggleButton(**self.kwargs)\n",
    "        self.save_ipysheet = widgets.Button(description='save')\n",
    "        self._ipysheet_controls()\n",
    "        \n",
    "    def _ipysheet_controls(self):\n",
    "        self.widget_only.observe(self.call_ipysheet, 'value')\n",
    "        self.save_ipysheet.on_click(self._save_ipysheet)\n",
    "        \n",
    "    def call_ipysheet(self, sender):\n",
    "        tmp = pd.read_json(self.di['value'])\n",
    "        self.sheet = ipysheet.sheet(ipysheet.from_dataframe(tmp)) # initiate sheet\n",
    "        with self.out:\n",
    "            if self.widget_only.value:  \n",
    "                display(self.save_ipysheet)\n",
    "                display(self.sheet)\n",
    "            else:\n",
    "                clear_output()\n",
    "    \n",
    "    def _save_ipysheet(self, change):\n",
    "        tmp = to_dataframe(self.sheet)\n",
    "        self.di['value'] = tmp.to_json()\n",
    "        with self.out:\n",
    "            clear_output()\n",
    "            dateTimeObj = datetime.now()\n",
    "            timestampStr = dateTimeObj.strftime(\"%d-%b-%Y %H:%M:%S:\")\n",
    "            display(Markdown('{0} changes to sheet saved. hit save in main dialog to save to file'.format(timestampStr)))\n",
    "        self.display()\n",
    "    # --------------------------------------------------------------------------\n",
    "\n",
    "    def display(self):\n",
    "        display(self.layout)\n",
    "        display(self.out)\n",
    "         \n",
    "    def _ipython_display_(self):\n",
    "        self.display()    "
   ]
  },
  {
   "cell_type": "code",
   "execution_count": 9,
   "metadata": {},
   "outputs": [],
   "source": [
    "class EditListOfDicts():\n",
    "    \"\"\"\n",
    "    builds user input form from a list of dicts by creating a \n",
    "    loop of EditDict objects.\n",
    "    \"\"\"\n",
    "    def __init__(self, li):\n",
    "        \"\"\"\n",
    "        class that builds a user interface based on a list of dicts, where each dict is \n",
    "        a ipywidget user interface object. The class inteprets which widget to select based on the \n",
    "        type of the value and the keys that are passed. The keys are passed to the ipywidget \n",
    "        object as **kwargs.\n",
    "\n",
    "        Args:\n",
    "            li (list): list of dicts. each dict must contain 'name', 'value' and 'label' as the \n",
    "                minimum set of keys for making a ipywidget. additional keys that are passed \n",
    "                get become **kwargs that are passed to the selected ipywidget\n",
    "                \n",
    "        Example:\n",
    "            ```\n",
    "            li = [\n",
    "                    {\n",
    "                        'name':'water_volume_m3',\n",
    "                        'value':15,\n",
    "                        'label':'total volume of water within the closed mechanical system'\n",
    "                    },\n",
    "                    {\n",
    "                        'name':'height_difference_m',\n",
    "                        'value':48,\n",
    "                        'label':'difference in height between the highest and lowest points in the system'\n",
    "                    },\n",
    "                    {\n",
    "                        'name':'eV_acceptance_fraction',\n",
    "                        'value':0.3,\n",
    "                        'min':0,\n",
    "                        'max':1,\n",
    "                        'label':'Expansion vessel acceptance factor (= additional volume / expansion vessel volume):'\n",
    "                    }\n",
    "                ]\n",
    "            ```\n",
    "            \n",
    "            >>> from ipyrun._ipyeditjson import EditListOfDicts\n",
    "            >>> ui = EditListOfDicts(li)\n",
    "            >>> ui\n",
    "            see example image above\n",
    "        Images:\n",
    "            %mf_root%\\ipyrun\\docs\\images\\eg_ui.PNG\n",
    "        \"\"\"\n",
    "        self.out = widgets.Output()\n",
    "        self.li = li\n",
    "        self.form()\n",
    "        self._init_observe()\n",
    "    \n",
    "    def form(self):\n",
    "        self.widgets = []\n",
    "        for l in self.li:\n",
    "            self.widgets.append(EditDict(l))\n",
    "        self._layout()\n",
    "    \n",
    "    def _layout(self):\n",
    "        self.applayout = widgets.VBox([l.layout for l in self.widgets])\n",
    "        \n",
    "    def _init_observe(self): \n",
    "        for l in self.widgets:\n",
    "            l.widget_only.observe(self._update_change, \"value\") \n",
    "    \n",
    "    def _update_change(self, change):\n",
    "        self.li = []\n",
    "        for l in self.widgets:\n",
    "            self.li.append(l.di)\n",
    "        \n",
    "    def _lidi_display(self):\n",
    "        out = [l.layout for l in self.widgets]\n",
    "        self.applayout = widgets.VBox(out)\n",
    "        display(self.applayout)\n",
    "        for l in self.widgets:\n",
    "            display(l.out)\n",
    "            \n",
    "    def _ipython_display_(self):\n",
    "        self._lidi_display()  \n",
    "\n",
    "class EditListOfDictsModelRun(EditListOfDicts):\n",
    "    \"\"\"\n",
    "    Modified version of EditJson, for Model Run spreadsheet\n",
    "    Functionality for DerivedText has been added\n",
    "    \"\"\"\n",
    "    \n",
    "    def __init__(self, li):\n",
    "        super().__init__(li)\n",
    "\n",
    "    def _update_label(self, index, l):\n",
    "        labelVal = \"\"\n",
    "        firstVal = True\n",
    "        for opt in l.di['options']:\n",
    "            try:\n",
    "                \n",
    "                if(index+opt < 0):\n",
    "                    raise Exception(\"Can only get values of positive indices\")\n",
    "\n",
    "                value = self.widgets[index+opt].di[\"value\"]\n",
    "\n",
    "                if(value == \"\"):\n",
    "                    value = \"XX\"\n",
    "                \n",
    "                if(isinstance(value, float)):\n",
    "                    if(value.is_integer()):\n",
    "                        value = str(int(value)).zfill(3)\n",
    "\n",
    "                if not firstVal:\n",
    "                    labelVal += \"_\"\n",
    "\n",
    "                labelVal += str(value)\n",
    "\n",
    "                firstVal = False\n",
    "            except Exception as e:\n",
    "                pass\n",
    "        return \"{0}\".format(labelVal)\n",
    "    \n",
    "    def _update_change(self, change):\n",
    "        self.li = []\n",
    "        for index, l in enumerate(self.widgets):\n",
    "            self.li.append(l.di)\n",
    "            if(l.widget_name==\"DerivedText\"):\n",
    "                l.widget_only.value = self._update_label(index, l)\n",
    "            \n",
    "    \n",
    "    def _layout(self):\n",
    "        self._update_change(\"value\")\n",
    "        super()._layout()"
   ]
  },
  {
   "cell_type": "code",
   "execution_count": 10,
   "metadata": {},
   "outputs": [],
   "source": [
    "class EditMfJson(SelectEditSaveMfJson, EditListOfDicts):\n",
    "    \"\"\"\n",
    "    \n",
    "    \"\"\"\n",
    "    def __init__(self, fdir):\n",
    "        self.out = widgets.Output()\n",
    "        super().__init__(fdir)\n",
    "        \n",
    "    def _save_changes(self, sender):\n",
    "        \"\"\"save changes to working inputs file\"\"\"\n",
    "        self.fpth_out = self.file_chooser.selected\n",
    "        dateTimeObj = datetime.now()\n",
    "        self.save_timestampStr = dateTimeObj.strftime(\"%d-%b-%Y %H:%M:%S\")\n",
    "        self.temp_message.value = markdown('{0} saved at: {1}'.format(self.fpth_out, self.save_timestampStr))\n",
    "        \n",
    "        # add code here to save changes to file\n",
    "        self.data_out = self.li            \n",
    "        write_json(self.data_out,\n",
    "                   sort_keys=True,\n",
    "                   indent=4,\n",
    "                   fpth=self.fpth_out,\n",
    "                   print_fpth=False,\n",
    "                   openFile=False)\n",
    "        \n",
    "        #with self.out:\n",
    "        #    clear_output()\n",
    "        #    dateTimeObj = datetime.now()\n",
    "        #    timestampStr = dateTimeObj.strftime(\"%d-%b-%Y %H:%M:%S:\")\n",
    "        #    display(Markdown('{0} changes to sheet logged.  to: {1}'.format(timestampStr,self.fpth_out)))\n",
    "            \n",
    "        self.update_sse_display()\n",
    "        self.sse_display()\n",
    "        \n",
    "    def _edit_file(self, sender):\n",
    "        \"\"\"save changes to working inputs file\"\"\"\n",
    "        if self.edit_file.value:\n",
    "            fpth = self.file_chooser.selected\n",
    "            self.temp_message.value = markdown('edit inputs below and save to: {0}'.format(fpth))\n",
    "            if os.path.isfile(fpth):\n",
    "                self.li = read_json(fpth)\n",
    "                self.form()\n",
    "                self._init_observe()\n",
    "                \n",
    "                with self.out:\n",
    "                    clear_output()\n",
    "                    out = [l.layout for l in self.widgets]\n",
    "                    self.applayout = widgets.VBox(out)\n",
    "                    display(self.applayout)\n",
    "                    for l in self.widgets:\n",
    "                        display(l.out)\n",
    "            else:\n",
    "                with self.out:\n",
    "                    clear_output()\n",
    "                    display(markdown('{0} not a file'.format(fpth)))\n",
    "\n",
    "        else:\n",
    "            with self.out:\n",
    "                self.temp_message.value = markdown('')\n",
    "                clear_output()\n",
    "        # add code here to save changes to file\n",
    "\n",
    "\n",
    "        self._display()\n",
    "        \n",
    "    def _display(self):\n",
    "        self.update_sse_display()\n",
    "        self.sse_display()\n",
    "        display(self.out)\n",
    "                    \n",
    "    def _ipython_display_(self):\n",
    "        self._display()"
   ]
  },
  {
   "cell_type": "code",
   "execution_count": 11,
   "metadata": {},
   "outputs": [],
   "source": [
    "class SimpleEditJson(EditListOfDicts):\n",
    "    \"\"\"\n",
    "    inherits EditListOfDicts user input form and manages the reading and \n",
    "    writing the data from a JSON file. \n",
    "    \"\"\"\n",
    "    #def __init__(self, fpth, fdir='.', local_fol='_mfengdev'):\n",
    "    def __init__(self, fpth_in, fpth_out=None):\n",
    "        self.out = widgets.Output()\n",
    "        self.fpth_in = fpth_in\n",
    "        if fpth_out==None:\n",
    "            self.fpth_out = fpth_in\n",
    "        else:\n",
    "            self.fpth_out = fpth_out\n",
    "        #self.fdir = fdir\n",
    "        #self.local_fol = local_fol\n",
    "        #self.fpth_out = self._fpth_out()\n",
    "        self.li = read_json(self.fpth_in)\n",
    "        self.save_changes = widgets.Button(description='save',button_style='success')\n",
    "        self.form()\n",
    "        self._init_observe()\n",
    "        self._init_controls()\n",
    "        \n",
    "    #def _fpth_out(self):\n",
    "    #    fol = os.path.join(self.fdir, self.local_fol)\n",
    "    #    make_dir(fol)\n",
    "    #    return os.path.join(fol,os.path.basename(self.fpth_in))\n",
    "    \n",
    "    def _init_controls(self):  \n",
    "        self.save_changes.on_click(self._save_changes)\n",
    "        \n",
    "    def _save_changes(self, sender):\n",
    "        self.data_out = self.li\n",
    "        #try:\n",
    "            \n",
    "        write_json(self.data_out,\n",
    "                   sort_keys=True,\n",
    "                   indent=4,\n",
    "                   fpth=self.fpth_out,\n",
    "                   print_fpth=False,\n",
    "                   openFile=False)\n",
    "        with self.out:\n",
    "            clear_output()\n",
    "            dateTimeObj = datetime.now()\n",
    "            timestampStr = dateTimeObj.strftime(\"%d-%b-%Y %H:%M:%S:\")\n",
    "            display(Markdown('{0} changes to sheet logged.  to: {1}'.format(timestampStr,self.fpth_out)))\n",
    "            \n",
    "    def display(self):\n",
    "        display(self.save_changes)\n",
    "        out = [l.layout for l in self.widgets]\n",
    "        self.applayout = widgets.VBox(out)\n",
    "        display(self.applayout)\n",
    "        for l in self.widgets:\n",
    "            display(l.out)\n",
    "        display(self.out)\n",
    "            \n",
    "    def _ipython_display_(self):\n",
    "        self.display()  "
   ]
  },
  {
   "cell_type": "code",
   "execution_count": 12,
   "metadata": {
    "lines_to_next_cell": 0
   },
   "outputs": [],
   "source": [
    "class EditJson(EditListOfDicts, FileConfigController):\n",
    "    \"\"\"\n",
    "    inherits EditListOfDicts user input form as well FileConfigController \n",
    "    and manages the reading and writing the data from a JSON file. \n",
    "    \"\"\"\n",
    "    #def __init__(self, fpth, fdir='.', local_fol='_mfengdev'):\n",
    "    def __init__(self, config):\n",
    "        self.out = widgets.Output()\n",
    "        self._errors()\n",
    "        self.config = config\n",
    "        self.user_keys = list(config.keys())\n",
    "        self._update_config()\n",
    "        self.file_control_form()\n",
    "        self.li = read_json(self.fpth_inputs)\n",
    "        self._init_file_controller()\n",
    "        self.__build_widgets()\n",
    "        \n",
    "    def __build_widgets(self):\n",
    "        self.form()\n",
    "        self._init_observe()\n",
    "        \n",
    "    def _revert(self, sender):\n",
    "        \"\"\"revert to last save of working inputs file\"\"\"\n",
    "        fpth = self.fpth_inputs\n",
    "        self.temp_message.value = markdown('revert to inputs in last save of: {0}'.format(fpth))\n",
    "        \n",
    "        # ADD CODE HERE TO REVERT TO LAST SAVE\n",
    "        \n",
    "        self.li = read_json(self.fpth_inputs)\n",
    "        self._update_from_file()\n",
    "        self.update_display()\n",
    "        self.display()\n",
    "\n",
    "        \n",
    "    def _update_from_file(self):\n",
    "        for idx, val in enumerate(self.li):\n",
    "            self.widgets[idx].widget_only.value = val['value']\n",
    "            \n",
    "    def _save_changes(self, sender):\n",
    "        \"\"\"save changes to working inputs file\"\"\"\n",
    "        fpth = self.fpth_inputs\n",
    "        dateTimeObj = datetime.now()\n",
    "        self.save_timestampStr = dateTimeObj.strftime(\"%d-%b-%Y %H:%M:%S\")\n",
    "        self.temp_message.value = markdown('{0} saved at: {1}'.format(fpth, self.save_timestampStr))\n",
    "        \n",
    "        self.data_out = self.li \n",
    "        # add code here to save changes to file\n",
    "        write_json(self.data_out,\n",
    "                   sort_keys=True,\n",
    "                   indent=4,\n",
    "                   fpth=fpth,\n",
    "                   print_fpth=False,\n",
    "                   openFile=False)\n",
    "        \n",
    "        self.update_display()\n",
    "        self.display()\n",
    "        \n",
    "    def _load_inputs(self,sender):\n",
    "        \"\"\"launches the inputs from file dialog\"\"\"\n",
    "        self.temp_message.value = markdown('update the user input form with data from file')\n",
    "        if self.load_inputs.value:\n",
    "            self.inputform.children = [self.load_button, self.choose_inputs]\n",
    "        else:\n",
    "            self.temp_message.value = markdown('')\n",
    "            self.inputform.children = []\n",
    "        self.update_display()\n",
    "        self.display()\n",
    "\n",
    "    def _load(self,sender):\n",
    "\n",
    "        fpth = self.choose_inputs.value\n",
    "        # add code here to load form from file\n",
    "        self.li = read_json(fpth)\n",
    "        self._update_from_file()\n",
    "        self.temp_message.value = markdown('input form load data from: {0}'.format(fpth))\n",
    "        self.update_display()\n",
    "        self.display()\n",
    "        \n",
    "    def update_display(self):\n",
    "        #self._lidi_display()\n",
    "        box = widgets.VBox([\n",
    "            self.button_bar,\n",
    "            self.temp_message,\n",
    "            self.inputform,\n",
    "        ])\n",
    "        self.layout = box\n",
    "        for l in self.widgets:\n",
    "            with self.out:\n",
    "                display(l.out)\n",
    "            \n",
    "    def display(self):\n",
    "        self.update_display()\n",
    "        display(self.layout)\n",
    "        #out = [l.layout for l in self.widgets]\n",
    "        #self.applayout = widgets.VBox(out)\n",
    "        display(self.applayout)\n",
    "        #for l in self.widgets:\n",
    "        #    display(l.out)\n",
    "        display(self.out)\n",
    "            \n",
    "    def _ipython_display_(self):\n",
    "        self.display()  \n",
    "        #self._lidi_display()  \n",
    "\n",
    "class EditJsonModelRun(EditListOfDictsModelRun, EditJson):\n",
    "    \"\"\"\n",
    "    Modified version of EditJson, for Model Run spreadsheet\n",
    "    Functionality for DerivedText has been added\n",
    "    \"\"\"\n",
    "    \n",
    "    def __init__(self, config):\n",
    "        EditJson.__init__(self, config)\n",
    "        \n",
    "    def __build_widgets(self):\n",
    "        EditListOfDictsModelRun.form()\n",
    "        EditListOfDictsModelRun._init_observe()"
   ]
  },
  {
   "cell_type": "code",
   "execution_count": null,
   "metadata": {},
   "outputs": [],
   "source": []
  },
  {
   "cell_type": "code",
   "execution_count": null,
   "metadata": {
    "lines_to_next_cell": 2
   },
   "outputs": [],
   "source": []
  },
  {
   "cell_type": "code",
   "execution_count": null,
   "metadata": {
    "lines_to_next_cell": 2
   },
   "outputs": [],
   "source": []
  },
  {
   "cell_type": "code",
   "execution_count": null,
   "metadata": {},
   "outputs": [],
   "source": []
  },
  {
   "cell_type": "code",
   "execution_count": 15,
   "metadata": {},
   "outputs": [
    {
     "data": {
      "text/markdown": [
       "### Example0"
      ],
      "text/plain": [
       "<IPython.core.display.Markdown object>"
      ]
     },
     "metadata": {},
     "output_type": "display_data"
    },
    {
     "data": {
      "text/markdown": [
       "Edit list of dicts"
      ],
      "text/plain": [
       "<IPython.core.display.Markdown object>"
      ]
     },
     "metadata": {},
     "output_type": "display_data"
    },
    {
     "data": {
      "application/vnd.jupyter.widget-view+json": {
       "model_id": "de0e3d70f64a4ebe8d166424c10d9d11",
       "version_major": 2,
       "version_minor": 0
      },
      "text/plain": [
       "VBox(children=(HBox(children=(HBox(children=(HTML(value='<p>reous foo ous foo st</p>'), HBox(children=(FloatTe…"
      ]
     },
     "metadata": {},
     "output_type": "display_data"
    },
    {
     "data": {
      "application/vnd.jupyter.widget-view+json": {
       "model_id": "f4a49c26ea2b456ea057655fe43657cb",
       "version_major": 2,
       "version_minor": 0
      },
      "text/plain": [
       "Output()"
      ]
     },
     "metadata": {},
     "output_type": "display_data"
    },
    {
     "data": {
      "application/vnd.jupyter.widget-view+json": {
       "model_id": "cfbb699189a54a319a3dbe000203cb6e",
       "version_major": 2,
       "version_minor": 0
      },
      "text/plain": [
       "Output()"
      ]
     },
     "metadata": {},
     "output_type": "display_data"
    },
    {
     "data": {
      "application/vnd.jupyter.widget-view+json": {
       "model_id": "405f336ad5364b2f9ab6c5a97eec042e",
       "version_major": 2,
       "version_minor": 0
      },
      "text/plain": [
       "Output()"
      ]
     },
     "metadata": {},
     "output_type": "display_data"
    },
    {
     "data": {
      "application/vnd.jupyter.widget-view+json": {
       "model_id": "ab5aed8960a846c2bfccd465b0742aab",
       "version_major": 2,
       "version_minor": 0
      },
      "text/plain": [
       "Output()"
      ]
     },
     "metadata": {},
     "output_type": "display_data"
    },
    {
     "data": {
      "application/vnd.jupyter.widget-view+json": {
       "model_id": "8afd64c0c35d4d2a91290c3a67c17667",
       "version_major": 2,
       "version_minor": 0
      },
      "text/plain": [
       "Output()"
      ]
     },
     "metadata": {},
     "output_type": "display_data"
    },
    {
     "data": {
      "application/vnd.jupyter.widget-view+json": {
       "model_id": "bb8ed6c80d014d7694995dd1b3854943",
       "version_major": 2,
       "version_minor": 0
      },
      "text/plain": [
       "Output()"
      ]
     },
     "metadata": {},
     "output_type": "display_data"
    },
    {
     "data": {
      "application/vnd.jupyter.widget-view+json": {
       "model_id": "dbc586b76aad4371ab13e3a21b28af5d",
       "version_major": 2,
       "version_minor": 0
      },
      "text/plain": [
       "Output()"
      ]
     },
     "metadata": {},
     "output_type": "display_data"
    },
    {
     "data": {
      "application/vnd.jupyter.widget-view+json": {
       "model_id": "902ae46f08f040498db1d30f0884aafc",
       "version_major": 2,
       "version_minor": 0
      },
      "text/plain": [
       "Output()"
      ]
     },
     "metadata": {},
     "output_type": "display_data"
    },
    {
     "data": {
      "text/markdown": [
       "---"
      ],
      "text/plain": [
       "<IPython.core.display.Markdown object>"
      ]
     },
     "metadata": {},
     "output_type": "display_data"
    },
    {
     "data": {
      "text/markdown": [],
      "text/plain": [
       "<IPython.core.display.Markdown object>"
      ]
     },
     "metadata": {},
     "output_type": "display_data"
    },
    {
     "data": {
      "text/markdown": [
       "### Example1"
      ],
      "text/plain": [
       "<IPython.core.display.Markdown object>"
      ]
     },
     "metadata": {},
     "output_type": "display_data"
    },
    {
     "data": {
      "text/markdown": [
       "Simple Edit Json"
      ],
      "text/plain": [
       "<IPython.core.display.Markdown object>"
      ]
     },
     "metadata": {},
     "output_type": "display_data"
    },
    {
     "data": {
      "application/vnd.jupyter.widget-view+json": {
       "model_id": "463ca2755c8e47e6b9716e1d7ce516c2",
       "version_major": 2,
       "version_minor": 0
      },
      "text/plain": [
       "Button(button_style='success', description='save', style=ButtonStyle())"
      ]
     },
     "metadata": {},
     "output_type": "display_data"
    },
    {
     "data": {
      "application/vnd.jupyter.widget-view+json": {
       "model_id": "6378017c324644dd84bcd1b304222a88",
       "version_major": 2,
       "version_minor": 0
      },
      "text/plain": [
       "VBox(children=(HBox(children=(HBox(children=(HTML(value='<p>reous foo ous foo st</p>'), HBox(children=(FloatTe…"
      ]
     },
     "metadata": {},
     "output_type": "display_data"
    },
    {
     "data": {
      "application/vnd.jupyter.widget-view+json": {
       "model_id": "cab07152611f4cf7a5c18fc86bec61e8",
       "version_major": 2,
       "version_minor": 0
      },
      "text/plain": [
       "Output()"
      ]
     },
     "metadata": {},
     "output_type": "display_data"
    },
    {
     "data": {
      "application/vnd.jupyter.widget-view+json": {
       "model_id": "732d8abe02bd4f9caf3ece231128b1e4",
       "version_major": 2,
       "version_minor": 0
      },
      "text/plain": [
       "Output()"
      ]
     },
     "metadata": {},
     "output_type": "display_data"
    },
    {
     "data": {
      "application/vnd.jupyter.widget-view+json": {
       "model_id": "2054bf2fcd604a538e99041f72c19181",
       "version_major": 2,
       "version_minor": 0
      },
      "text/plain": [
       "Output()"
      ]
     },
     "metadata": {},
     "output_type": "display_data"
    },
    {
     "data": {
      "application/vnd.jupyter.widget-view+json": {
       "model_id": "dd33211dffcd4ac98d9ed41d5e4f5212",
       "version_major": 2,
       "version_minor": 0
      },
      "text/plain": [
       "Output()"
      ]
     },
     "metadata": {},
     "output_type": "display_data"
    },
    {
     "data": {
      "application/vnd.jupyter.widget-view+json": {
       "model_id": "74dda5fbe2e045b688671171be46e078",
       "version_major": 2,
       "version_minor": 0
      },
      "text/plain": [
       "Output()"
      ]
     },
     "metadata": {},
     "output_type": "display_data"
    },
    {
     "data": {
      "application/vnd.jupyter.widget-view+json": {
       "model_id": "0d3b6f3021264b86b44ba3f388f3b274",
       "version_major": 2,
       "version_minor": 0
      },
      "text/plain": [
       "Output()"
      ]
     },
     "metadata": {},
     "output_type": "display_data"
    },
    {
     "data": {
      "application/vnd.jupyter.widget-view+json": {
       "model_id": "b0388d9ff35f46549c28a534fcb6d859",
       "version_major": 2,
       "version_minor": 0
      },
      "text/plain": [
       "Output()"
      ]
     },
     "metadata": {},
     "output_type": "display_data"
    },
    {
     "data": {
      "application/vnd.jupyter.widget-view+json": {
       "model_id": "324ed75aea4d4ae28478e93e503fcb2d",
       "version_major": 2,
       "version_minor": 0
      },
      "text/plain": [
       "Output()"
      ]
     },
     "metadata": {},
     "output_type": "display_data"
    },
    {
     "data": {
      "application/vnd.jupyter.widget-view+json": {
       "model_id": "40e29d2c579141c290ec62c6608514ee",
       "version_major": 2,
       "version_minor": 0
      },
      "text/plain": [
       "Output()"
      ]
     },
     "metadata": {},
     "output_type": "display_data"
    },
    {
     "data": {
      "text/markdown": [
       "---"
      ],
      "text/plain": [
       "<IPython.core.display.Markdown object>"
      ]
     },
     "metadata": {},
     "output_type": "display_data"
    },
    {
     "data": {
      "text/markdown": [],
      "text/plain": [
       "<IPython.core.display.Markdown object>"
      ]
     },
     "metadata": {},
     "output_type": "display_data"
    },
    {
     "data": {
      "text/markdown": [
       "### Example2"
      ],
      "text/plain": [
       "<IPython.core.display.Markdown object>"
      ]
     },
     "metadata": {},
     "output_type": "display_data"
    },
    {
     "data": {
      "text/markdown": [
       "EDIT JSON FILE with custom config and file management"
      ],
      "text/plain": [
       "<IPython.core.display.Markdown object>"
      ]
     },
     "metadata": {},
     "output_type": "display_data"
    },
    {
     "data": {
      "application/vnd.jupyter.widget-view+json": {
       "model_id": "cf500e05215b49a0906f3cad3bd8a2f4",
       "version_major": 2,
       "version_minor": 0
      },
      "text/plain": [
       "VBox(children=(HBox(children=(ToggleButton(value=False, button_style='info', description='inputs from file'), …"
      ]
     },
     "metadata": {},
     "output_type": "display_data"
    },
    {
     "data": {
      "application/vnd.jupyter.widget-view+json": {
       "model_id": "faf7110640584eacbfedd5fcb20c610a",
       "version_major": 2,
       "version_minor": 0
      },
      "text/plain": [
       "VBox(children=(HBox(children=(HBox(children=(HTML(value='<p>fpth_in</p>'), HBox(children=(Text(value='shit'), …"
      ]
     },
     "metadata": {},
     "output_type": "display_data"
    },
    {
     "data": {
      "application/vnd.jupyter.widget-view+json": {
       "model_id": "34310985464d4ff6b2b60946d8689489",
       "version_major": 2,
       "version_minor": 0
      },
      "text/plain": [
       "Output()"
      ]
     },
     "metadata": {},
     "output_type": "display_data"
    },
    {
     "data": {
      "text/markdown": [
       "---"
      ],
      "text/plain": [
       "<IPython.core.display.Markdown object>"
      ]
     },
     "metadata": {},
     "output_type": "display_data"
    },
    {
     "data": {
      "text/markdown": [],
      "text/plain": [
       "<IPython.core.display.Markdown object>"
      ]
     },
     "metadata": {},
     "output_type": "display_data"
    },
    {
     "data": {
      "text/markdown": [
       "### Example3"
      ],
      "text/plain": [
       "<IPython.core.display.Markdown object>"
      ]
     },
     "metadata": {},
     "output_type": "display_data"
    },
    {
     "data": {
      "text/markdown": [
       "EDIT NESTED JSON FILE with custom config and file management"
      ],
      "text/plain": [
       "<IPython.core.display.Markdown object>"
      ]
     },
     "metadata": {},
     "output_type": "display_data"
    },
    {
     "data": {
      "application/vnd.jupyter.widget-view+json": {
       "model_id": "f62cad7362d24274b801ee899c3827db",
       "version_major": 2,
       "version_minor": 0
      },
      "text/plain": [
       "VBox(children=(HBox(children=(ToggleButton(value=False, button_style='info', description='inputs from file'), …"
      ]
     },
     "metadata": {},
     "output_type": "display_data"
    },
    {
     "data": {
      "application/vnd.jupyter.widget-view+json": {
       "model_id": "ca1f85129f9d4208847a022811df504c",
       "version_major": 2,
       "version_minor": 0
      },
      "text/plain": [
       "VBox(children=(HBox(children=(HBox(children=(HTML(value='<p>fpth_in</p>'), HBox(children=(Text(value='C:\\\\engD…"
      ]
     },
     "metadata": {},
     "output_type": "display_data"
    },
    {
     "data": {
      "application/vnd.jupyter.widget-view+json": {
       "model_id": "2f8a6a6d223848e882dd982037ff11e2",
       "version_major": 2,
       "version_minor": 0
      },
      "text/plain": [
       "Output()"
      ]
     },
     "metadata": {},
     "output_type": "display_data"
    },
    {
     "data": {
      "text/markdown": [
       "---"
      ],
      "text/plain": [
       "<IPython.core.display.Markdown object>"
      ]
     },
     "metadata": {},
     "output_type": "display_data"
    },
    {
     "data": {
      "text/markdown": [],
      "text/plain": [
       "<IPython.core.display.Markdown object>"
      ]
     },
     "metadata": {},
     "output_type": "display_data"
    },
    {
     "data": {
      "text/markdown": [
       "### Example4"
      ],
      "text/plain": [
       "<IPython.core.display.Markdown object>"
      ]
     },
     "metadata": {},
     "output_type": "display_data"
    },
    {
     "data": {
      "text/markdown": [
       "Edit list of dicts iwth date picker and derived input"
      ],
      "text/plain": [
       "<IPython.core.display.Markdown object>"
      ]
     },
     "metadata": {},
     "output_type": "display_data"
    },
    {
     "data": {
      "text/markdown": [
       "EDIT JSON with DatePicker and DerivedText widgetss"
      ],
      "text/plain": [
       "<IPython.core.display.Markdown object>"
      ]
     },
     "metadata": {},
     "output_type": "display_data"
    },
    {
     "data": {
      "application/vnd.jupyter.widget-view+json": {
       "model_id": "7859fdeab6b7483db806ca196bc9754f",
       "version_major": 2,
       "version_minor": 0
      },
      "text/plain": [
       "VBox(children=(HBox(children=(HBox(children=(HTML(value='<p>Date Picker</p>'), HBox(children=(DatePicker(value…"
      ]
     },
     "metadata": {},
     "output_type": "display_data"
    },
    {
     "data": {
      "application/vnd.jupyter.widget-view+json": {
       "model_id": "48863a737d1f4908989234eeb0ca6253",
       "version_major": 2,
       "version_minor": 0
      },
      "text/plain": [
       "Output()"
      ]
     },
     "metadata": {},
     "output_type": "display_data"
    },
    {
     "data": {
      "application/vnd.jupyter.widget-view+json": {
       "model_id": "464ef6f0d7b243e3802ef56ad5bfb0d2",
       "version_major": 2,
       "version_minor": 0
      },
      "text/plain": [
       "Output()"
      ]
     },
     "metadata": {},
     "output_type": "display_data"
    },
    {
     "data": {
      "application/vnd.jupyter.widget-view+json": {
       "model_id": "90445d78af564965905109bfc003f1a5",
       "version_major": 2,
       "version_minor": 0
      },
      "text/plain": [
       "Output()"
      ]
     },
     "metadata": {},
     "output_type": "display_data"
    },
    {
     "data": {
      "application/vnd.jupyter.widget-view+json": {
       "model_id": "32c6e0c5f4214902b2ace69b07615db8",
       "version_major": 2,
       "version_minor": 0
      },
      "text/plain": [
       "Output()"
      ]
     },
     "metadata": {},
     "output_type": "display_data"
    },
    {
     "data": {
      "application/vnd.jupyter.widget-view+json": {
       "model_id": "6b920fd59ac94b77bf0b086ab4f9ea0f",
       "version_major": 2,
       "version_minor": 0
      },
      "text/plain": [
       "Output()"
      ]
     },
     "metadata": {},
     "output_type": "display_data"
    },
    {
     "data": {
      "application/vnd.jupyter.widget-view+json": {
       "model_id": "b5439516a9454977820e9accc5ebc77f",
       "version_major": 2,
       "version_minor": 0
      },
      "text/plain": [
       "Output()"
      ]
     },
     "metadata": {},
     "output_type": "display_data"
    },
    {
     "data": {
      "text/markdown": [
       "---"
      ],
      "text/plain": [
       "<IPython.core.display.Markdown object>"
      ]
     },
     "metadata": {},
     "output_type": "display_data"
    },
    {
     "data": {
      "text/markdown": [],
      "text/plain": [
       "<IPython.core.display.Markdown object>"
      ]
     },
     "metadata": {},
     "output_type": "display_data"
    },
    {
     "data": {
      "text/markdown": [
       "### Example5"
      ],
      "text/plain": [
       "<IPython.core.display.Markdown object>"
      ]
     },
     "metadata": {},
     "output_type": "display_data"
    },
    {
     "data": {
      "text/markdown": [
       "select mf json file and edit"
      ],
      "text/plain": [
       "<IPython.core.display.Markdown object>"
      ]
     },
     "metadata": {},
     "output_type": "display_data"
    },
    {
     "data": {
      "application/vnd.jupyter.widget-view+json": {
       "model_id": "46df18d2d2ed47e4bd98bd65ab4a0dd0",
       "version_major": 2,
       "version_minor": 0
      },
      "text/plain": [
       "VBox(children=(HBox(children=(ToggleButton(value=False, button_style='info', description='select file'), Toggl…"
      ]
     },
     "metadata": {},
     "output_type": "display_data"
    },
    {
     "data": {
      "application/vnd.jupyter.widget-view+json": {
       "model_id": "1702c7cea51c4926b981c82159746357",
       "version_major": 2,
       "version_minor": 0
      },
      "text/plain": [
       "Output()"
      ]
     },
     "metadata": {},
     "output_type": "display_data"
    },
    {
     "data": {
      "text/markdown": [
       "---"
      ],
      "text/plain": [
       "<IPython.core.display.Markdown object>"
      ]
     },
     "metadata": {},
     "output_type": "display_data"
    },
    {
     "data": {
      "text/markdown": [],
      "text/plain": [
       "<IPython.core.display.Markdown object>"
      ]
     },
     "metadata": {},
     "output_type": "display_data"
    }
   ],
   "source": [
    "if __name__ =='__main__':\n",
    "    \n",
    "    # FORM ONLY EXAMPLE\n",
    "    NBFDIR = os.path.dirname(os.path.realpath('__file__'))\n",
    "    fpth = os.path.join(NBFDIR,r'appdata\\inputs\\test.json')\n",
    "    li = read_json(fpth)\n",
    "    g = EditListOfDicts(li)\n",
    "    display(Markdown('### Example0'))\n",
    "    display(Markdown('''Edit list of dicts'''))\n",
    "    display(g)\n",
    "    display(Markdown('---'))  \n",
    "    display(Markdown('')) \n",
    "    \n",
    "    # Example1\n",
    "    FDIR = os.path.dirname(os.path.realpath('__file__'))\n",
    "    fpth = os.path.join(FDIR,r'appdata/inputs/test.json')\n",
    "    simpleeditjson = SimpleEditJson(fpth)\n",
    "    # display\n",
    "    display(Markdown('### Example1'))\n",
    "    display(Markdown('''Simple Edit Json'''))\n",
    "    display(simpleeditjson)\n",
    "    display(Markdown('---'))  \n",
    "    display(Markdown('')) \n",
    "    \n",
    "    # Example2\n",
    "    # EDIT JSON FILE with custom config and file management\n",
    "    config={\n",
    "        'fpth_script':os.path.join(os.environ['mf_root'],r'MF_Toolbox\\dev\\mf_scripts\\docx_to_pdf.py'),\n",
    "        'fdir':'.',\n",
    "        'script_outputs': {'0': {\n",
    "            'fdir':'..\\reports',\n",
    "            'fnm': r'JupyterReportDemo.pdf',\n",
    "            'description': \"a pdf report from word\"\n",
    "                }\n",
    "            }\n",
    "        }\n",
    "    editjson = EditJson(config)\n",
    "    # display\n",
    "    display(Markdown('### Example2'))\n",
    "    display(Markdown('''EDIT JSON FILE with custom config and file management'''))\n",
    "    display(editjson)\n",
    "    display(Markdown('---'))  \n",
    "    display(Markdown('')) \n",
    "    \n",
    "\n",
    "    \n",
    "    # Example3\n",
    "    # EDIT NESTED JSON FILE with custom config and file management\n",
    "    nestedconfig={\n",
    "        'fpth_script':os.path.join(os.environ['mf_root'],r'MF_Toolbox\\dev\\mf_scripts\\gbxml.py'),\n",
    "        'fdir':'.',\n",
    "        }\n",
    "    editnestedjson = EditJsonModelRun(nestedconfig)\n",
    "    # display\n",
    "    display(Markdown('### Example3'))\n",
    "    display(Markdown('''EDIT NESTED JSON FILE with custom config and file management'''))\n",
    "    display(editnestedjson)\n",
    "    display(Markdown('---'))  \n",
    "    display(Markdown('')) \n",
    "\n",
    "        \n",
    "    # Example4\n",
    "    # EDIT JSON with DatePicker and DerivedText widgets\n",
    "    NBFDIR = os.path.dirname(os.path.realpath('__file__'))\n",
    "    fpth = os.path.join(NBFDIR,r'appdata\\inputs\\test-derived-val.json')\n",
    "    li = read_json(fpth)\n",
    "    g = EditListOfDictsModelRun(li)\n",
    "    \n",
    "    display(Markdown('### Example4'))\n",
    "    display(Markdown('''Edit list of dicts iwth date picker and derived input'''))\n",
    "    display(Markdown('''EDIT JSON with DatePicker and DerivedText widgetss'''))\n",
    "    display(g)\n",
    "    display(Markdown('---'))  \n",
    "    display(Markdown('')) \n",
    "    \n",
    "    # Example5\n",
    "    editmfjson = EditMfJson(r'appdata\\inputs')\n",
    "    # display\n",
    "    display(Markdown('### Example5'))\n",
    "    display(Markdown('''select mf json file and edit'''))\n",
    "    display(editmfjson)\n",
    "    display(Markdown('---'))  \n",
    "    display(Markdown('')) "
   ]
  }
 ],
 "metadata": {
  "jupytext": {
   "formats": "ipynb,py:light"
  },
  "kernelspec": {
   "display_name": "Python [conda env:mf_main] *",
   "language": "python",
   "name": "conda-env-mf_main-py"
  },
  "language_info": {
   "codemirror_mode": {
    "name": "ipython",
    "version": 3
   },
   "file_extension": ".py",
   "mimetype": "text/x-python",
   "name": "python",
   "nbconvert_exporter": "python",
   "pygments_lexer": "ipython3",
   "version": "3.7.7"
  },
  "widgets": {
   "application/vnd.jupyter.widget-state+json": {
    "state": {
     "000479365b7b43359759eae2f08675f5": {
      "model_module": "@jupyter-widgets/base",
      "model_module_version": "1.2.0",
      "model_name": "LayoutModel",
      "state": {
       "align_items": "stretch",
       "display": "flex",
       "flex_flow": "row",
       "grid_auto_columns": "True",
       "justify_content": "flex-start",
       "width": "80%"
      }
     },
     "0005fe38e5334254a8049768e1eaf6bd": {
      "model_module": "@jupyter-widgets/controls",
      "model_module_version": "1.5.0",
      "model_name": "VBoxModel",
      "state": {
       "layout": "IPY_MODEL_5b3c366e9a7a4b93a3e17f49db547b14"
      }
     },
     "005097af98cf4d1cb6071c61435a2b1e": {
      "model_module": "@jupyter-widgets/base",
      "model_module_version": "1.2.0",
      "model_name": "LayoutModel",
      "state": {}
     },
     "006162829d444f37a09ed039451e7ce9": {
      "model_module": "@jupyter-widgets/base",
      "model_module_version": "1.2.0",
      "model_name": "LayoutModel",
      "state": {}
     },
     "006ee474f9ca4fd8a5f06a307c01aa3f": {
      "model_module": "@jupyter-widgets/output",
      "model_module_version": "1.0.0",
      "model_name": "OutputModel",
      "state": {
       "layout": "IPY_MODEL_2566db25d82e4300b4274f12180c05bf"
      }
     },
     "0078451fa9054c7e8a27928351d24742": {
      "model_module": "@jupyter-widgets/controls",
      "model_module_version": "1.5.0",
      "model_name": "DescriptionStyleModel",
      "state": {
       "description_width": ""
      }
     },
     "0082c5f9f8ce4c5a83db30774045f8d9": {
      "model_module": "@jupyter-widgets/controls",
      "model_module_version": "1.5.0",
      "model_name": "ButtonModel",
      "state": {
       "button_style": "info",
       "description": "show source code",
       "layout": "IPY_MODEL_c661f809a7d84571988f7ba12246fa1c",
       "style": "IPY_MODEL_6f1519d3e3c04ea6966e3c9b8affb0b3",
       "tooltip": "shows the raw python code in the preview window below"
      }
     },
     "00894f67c14f401997f168ba99deaa95": {
      "model_module": "@jupyter-widgets/controls",
      "model_module_version": "1.5.0",
      "model_name": "HBoxModel",
      "state": {
       "children": [
        "IPY_MODEL_5f52699b6bf64ee99731f265372664d1"
       ],
       "layout": "IPY_MODEL_af6ea57dcb644fe5a8ec69f2de08b920"
      }
     },
     "00983c78b0034c868bdd64307144216c": {
      "model_module": "@jupyter-widgets/base",
      "model_module_version": "1.2.0",
      "model_name": "LayoutModel",
      "state": {}
     },
     "00aca93a39c14afda34cb0cbc0504602": {
      "model_module": "@jupyter-widgets/controls",
      "model_module_version": "1.5.0",
      "model_name": "DescriptionStyleModel",
      "state": {
       "description_width": ""
      }
     },
     "00c847b542a14cbabc86fe6340256ab2": {
      "model_module": "@jupyter-widgets/controls",
      "model_module_version": "1.5.0",
      "model_name": "HTMLModel",
      "state": {
       "layout": "IPY_MODEL_674aedfd30bc461cae2b59d3bb4164bd",
       "style": "IPY_MODEL_999bdd9edbf5430b9b3e1a0e1d6cafec",
       "value": "<p>fpth_in</p>"
      }
     },
     "01315b26d58047ae8cb297d5b4ff25be": {
      "model_module": "@jupyter-widgets/base",
      "model_module_version": "1.2.0",
      "model_name": "LayoutModel",
      "state": {}
     },
     "0147b7854dc04b99b3f85935b85af9d0": {
      "model_module": "@jupyter-widgets/controls",
      "model_module_version": "1.5.0",
      "model_name": "HTMLModel",
      "state": {
       "layout": "IPY_MODEL_a7a21a61bb8a44e5ab6550d23f8ddbef",
       "style": "IPY_MODEL_d5599ee55468405e947e8c302c545912",
       "value": "<p>defines the logic of the space naming. use default value where practical.</p>"
      }
     },
     "0149be61781440aa8dbae0ff6f7d3fbb": {
      "model_module": "@jupyter-widgets/base",
      "model_module_version": "1.2.0",
      "model_name": "LayoutModel",
      "state": {
       "align_items": "stretch",
       "display": "flex",
       "flex_flow": "row",
       "grid_auto_columns": "True",
       "justify_content": "flex-start",
       "width": "80%"
      }
     },
     "015361b0646c412b993bed39e9f36ceb": {
      "model_module": "@jupyter-widgets/controls",
      "model_module_version": "1.5.0",
      "model_name": "HBoxModel",
      "state": {
       "children": [
        "IPY_MODEL_84394a44c57344c5ba75f2b223912b62",
        "IPY_MODEL_beb86faabc9241598ba71067b6d15e0b"
       ],
       "layout": "IPY_MODEL_a27e012bc8b5496390ea15d8f52b2c86"
      }
     },
     "015ec6246ba5434c9ae23bce9290a964": {
      "model_module": "@jupyter-widgets/controls",
      "model_module_version": "1.5.0",
      "model_name": "ButtonModel",
      "state": {
       "button_style": "success",
       "description": "save changes",
       "layout": "IPY_MODEL_3b15451bb2124ed690422845a6d7e968",
       "style": "IPY_MODEL_69548247efcf475891df4e7a48655692"
      }
     },
     "016b331ad56940d2b86b81cf72cbaab6": {
      "model_module": "@jupyter-widgets/controls",
      "model_module_version": "1.5.0",
      "model_name": "VBoxModel",
      "state": {
       "children": [
        "IPY_MODEL_d806dfe7ab034543b674c722db279219",
        "IPY_MODEL_fecb62e60d624fe8839b2ac2f6b0bc35"
       ],
       "layout": "IPY_MODEL_7798431ef5094c629a67083b2f3ac9b5"
      }
     },
     "01824268e98242aeab4149a2ae22322e": {
      "model_module": "@jupyter-widgets/base",
      "model_module_version": "1.2.0",
      "model_name": "LayoutModel",
      "state": {}
     },
     "0187bee35ef54e8aa4a1f8ddaf19cef3": {
      "model_module": "@jupyter-widgets/controls",
      "model_module_version": "1.5.0",
      "model_name": "ButtonStyleModel",
      "state": {
       "font_weight": "bold"
      }
     },
     "0192d6ba1c614eefa5bb3b1e8bb95b41": {
      "model_module": "@jupyter-widgets/controls",
      "model_module_version": "1.5.0",
      "model_name": "DescriptionStyleModel",
      "state": {
       "description_width": ""
      }
     },
     "0284d5a8c7a34c6fac7a2c9b45088031": {
      "model_module": "@jupyter-widgets/controls",
      "model_module_version": "1.5.0",
      "model_name": "HBoxModel",
      "state": {
       "children": [
        "IPY_MODEL_22cecb0525f84e41a0824b70af64381d",
        "IPY_MODEL_2d3583fb259f4d9791b48874b5e213da"
       ],
       "layout": "IPY_MODEL_77b1167d28224737912a1fef9439c349"
      }
     },
     "028c9f12f97a432b9d61df9032f551e5": {
      "model_module": "@jupyter-widgets/controls",
      "model_module_version": "1.5.0",
      "model_name": "HBoxModel",
      "state": {
       "children": [
        "IPY_MODEL_6ca4af32c1fc48f78aa6b5cd4d0e12f7",
        "IPY_MODEL_a4ced252fd194cb28921f5e6c457b817"
       ],
       "layout": "IPY_MODEL_cff302c1ae9e4ad0a6bf7aa46175e4c2"
      }
     },
     "028f064a2a12457fa52ecf79175d9034": {
      "model_module": "@jupyter-widgets/controls",
      "model_module_version": "1.5.0",
      "model_name": "ButtonStyleModel",
      "state": {}
     },
     "029d3082ef4240108a976c82a681c7ca": {
      "model_module": "@jupyter-widgets/base",
      "model_module_version": "1.2.0",
      "model_name": "LayoutModel",
      "state": {
       "align_items": "stretch",
       "display": "flex",
       "flex_flow": "row",
       "grid_auto_columns": "True",
       "justify_content": "flex-start",
       "width": "80%"
      }
     },
     "02a2ce34197b4dbc91e028c5000504bd": {
      "model_module": "@jupyter-widgets/base",
      "model_module_version": "1.2.0",
      "model_name": "LayoutModel",
      "state": {}
     },
     "02f8567af588431b8df472b7870b9294": {
      "model_module": "@jupyter-widgets/controls",
      "model_module_version": "1.5.0",
      "model_name": "HBoxModel",
      "state": {
       "children": [
        "IPY_MODEL_ebe4f163b4784beeb1548955446d037b",
        "IPY_MODEL_4e045915f6a541d8af039e33dcfcdfe5"
       ],
       "layout": "IPY_MODEL_9d690f03dcb54bbfaecee970e6b0981f"
      }
     },
     "03284f687967465996897ea32fc70812": {
      "model_module": "@jupyter-widgets/base",
      "model_module_version": "1.2.0",
      "model_name": "LayoutModel",
      "state": {}
     },
     "036cfc13044f4bb49baa127b56bb7f80": {
      "model_module": "@jupyter-widgets/base",
      "model_module_version": "1.2.0",
      "model_name": "LayoutModel",
      "state": {
       "align_items": "stretch",
       "border": "dashed 0.2px green",
       "display": "flex",
       "flex_flow": "row",
       "grid_auto_columns": "True",
       "justify_content": "flex-start",
       "width": "100%"
      }
     },
     "037885ee6899450abe6b6d6bdfaa018f": {
      "model_module": "@jupyter-widgets/output",
      "model_module_version": "1.0.0",
      "model_name": "OutputModel",
      "state": {
       "layout": "IPY_MODEL_446f385df407448d86159819bbb20824"
      }
     },
     "037f7d12da5f4e789e273a7e9e2dccfd": {
      "model_module": "@jupyter-widgets/controls",
      "model_module_version": "1.5.0",
      "model_name": "DescriptionStyleModel",
      "state": {
       "description_width": ""
      }
     },
     "0393ec5a976f46b7ae910e1050297fa9": {
      "model_module": "@jupyter-widgets/controls",
      "model_module_version": "1.5.0",
      "model_name": "HTMLModel",
      "state": {
       "layout": "IPY_MODEL_2511bb5fddb64a269884094c196217c1",
       "style": "IPY_MODEL_c86974863ab54a4087b6b3598f216d3d",
       "value": "<p>Derived Text</p>"
      }
     },
     "03bb511cbc7c4dbea042ce6c54ebab40": {
      "model_module": "@jupyter-widgets/controls",
      "model_module_version": "1.5.0",
      "model_name": "TextModel",
      "state": {
       "layout": "IPY_MODEL_f6c0152c8301456a8902a2709e2062cb",
       "style": "IPY_MODEL_7af49471bcba43e09ba4fa4e4a3ab247",
       "value": "SpaceId"
      }
     },
     "03d7625aca2d43a0a41ce10cfad4d60c": {
      "model_module": "@jupyter-widgets/base",
      "model_module_version": "1.2.0",
      "model_name": "LayoutModel",
      "state": {}
     },
     "03dadd26c7e94e01a973b4270b6a9f88": {
      "model_module": "@jupyter-widgets/controls",
      "model_module_version": "1.5.0",
      "model_name": "HTMLModel",
      "state": {
       "layout": "IPY_MODEL_44f785e2ec6a4e518def0a42116f834b",
       "style": "IPY_MODEL_3cafa27f9ae94c65b876c61363f2e479",
       "value": "<p>label</p>"
      }
     },
     "03e747ba3caf4bcea264e9f12118f8e1": {
      "model_module": "@jupyter-widgets/base",
      "model_module_version": "1.2.0",
      "model_name": "LayoutModel",
      "state": {}
     },
     "03e8dff3af35408ba12b263241f1d377": {
      "model_module": "@jupyter-widgets/base",
      "model_module_version": "1.2.0",
      "model_name": "LayoutModel",
      "state": {}
     },
     "03f033da71c34a19bb006741559042c9": {
      "model_module": "@jupyter-widgets/controls",
      "model_module_version": "1.5.0",
      "model_name": "HBoxModel",
      "state": {
       "children": [
        "IPY_MODEL_8183a90be288410eb486fd078485ab30",
        "IPY_MODEL_db9e890d25774dcbaf0f3b51bdfbaaca"
       ],
       "layout": "IPY_MODEL_ffebeed7b67548bca98a28977ab9930c"
      }
     },
     "03f862cb712a4a7ebcef09b773cc93b0": {
      "model_module": "@jupyter-widgets/base",
      "model_module_version": "1.2.0",
      "model_name": "LayoutModel",
      "state": {}
     },
     "03ff6d9258ba4fad905592bf40850f0d": {
      "model_module": "@jupyter-widgets/controls",
      "model_module_version": "1.5.0",
      "model_name": "DescriptionStyleModel",
      "state": {
       "description_width": ""
      }
     },
     "0404553939a1407bafefa645552617c5": {
      "model_module": "@jupyter-widgets/controls",
      "model_module_version": "1.5.0",
      "model_name": "HTMLModel",
      "state": {
       "layout": "IPY_MODEL_ca164f7a8b324b9398bfa240dc982b34",
       "style": "IPY_MODEL_bb742c4a828041d7b74cf993eb340c3c",
       "value": "<p>label</p>"
      }
     },
     "0420cfdf469d4eba95391ae38d8be4a2": {
      "model_module": "@jupyter-widgets/output",
      "model_module_version": "1.0.0",
      "model_name": "OutputModel",
      "state": {
       "layout": "IPY_MODEL_ac0bbd19cdff4f8893f9a20fa7d52e50"
      }
     },
     "0425c2d33e13432fb527799b8c5b136a": {
      "model_module": "@jupyter-widgets/controls",
      "model_module_version": "1.5.0",
      "model_name": "HTMLModel",
      "state": {
       "layout": "IPY_MODEL_31f0e91d241441b4b58c6b0fa0e47eea",
       "style": "IPY_MODEL_74f5256d0b544d28b3e8783f0c2f0960",
       "value": "<p>2nd section of space name code</p>"
      }
     },
     "0425f45ef6db46e4983fe2db08cd38fa": {
      "model_module": "@jupyter-widgets/base",
      "model_module_version": "1.2.0",
      "model_name": "LayoutModel",
      "state": {
       "align_items": "stretch",
       "border": "dashed 0.2px green",
       "display": "flex",
       "flex_flow": "row",
       "grid_auto_columns": "True",
       "justify_content": "flex-start",
       "width": "100%"
      }
     },
     "0453f54c2e4548b4a7398367beffbaa2": {
      "model_module": "@jupyter-widgets/controls",
      "model_module_version": "1.5.0",
      "model_name": "GridBoxModel",
      "state": {
       "children": [
        "IPY_MODEL_a4295f52946743749d9a660f111268ae",
        "IPY_MODEL_d1ad39230beb4028832af0af534c3776",
        "IPY_MODEL_d9d03fe0784c423ba066533857b3b0cb"
       ],
       "layout": "IPY_MODEL_217d917a292144ff9e7097b333e6e600"
      }
     },
     "0484e481f58d4214b9a79b73aae30f63": {
      "model_module": "@jupyter-widgets/controls",
      "model_module_version": "1.5.0",
      "model_name": "DescriptionStyleModel",
      "state": {
       "description_width": ""
      }
     },
     "0490ff99958b4ec2b7430dd73627f4b2": {
      "model_module": "@jupyter-widgets/base",
      "model_module_version": "1.2.0",
      "model_name": "LayoutModel",
      "state": {
       "align_items": "stretch",
       "display": "flex",
       "flex_flow": "row",
       "grid_auto_columns": "True",
       "justify_content": "flex-end",
       "width": "90%"
      }
     },
     "04a3a005085a4f9bb8270a6c46e43e91": {
      "model_module": "@jupyter-widgets/controls",
      "model_module_version": "1.5.0",
      "model_name": "ToggleButtonModel",
      "state": {
       "icon": "arrow-down",
       "layout": "IPY_MODEL_b1d56bec228b4be19c59c2546e7fbc09",
       "style": "IPY_MODEL_d1eec53a2e9646b3846912b259b49e41"
      }
     },
     "04a4e27275d54adb8ee432c8f0092dd5": {
      "model_module": "@jupyter-widgets/base",
      "model_module_version": "1.2.0",
      "model_name": "LayoutModel",
      "state": {
       "align_items": "stretch",
       "border": "dashed 0.2px green",
       "display": "flex",
       "flex_flow": "row",
       "grid_auto_columns": "True",
       "justify_content": "flex-start",
       "width": "100%"
      }
     },
     "04a9f11940944f78b3af672342687c2d": {
      "model_module": "@jupyter-widgets/controls",
      "model_module_version": "1.5.0",
      "model_name": "HTMLModel",
      "state": {
       "layout": "IPY_MODEL_13ccfee420a144a8bb1f5d98ca9b24e2",
       "style": "IPY_MODEL_a8d847461f72499ba30b753adf6e450c",
       "value": "<p>its a foo cake</p>"
      }
     },
     "04d7e4cc5acf4e58b4ad080be5d38370": {
      "model_module": "@jupyter-widgets/output",
      "model_module_version": "1.0.0",
      "model_name": "OutputModel",
      "state": {
       "layout": "IPY_MODEL_f2c829b74b9840c68ed6def2a60c4875"
      }
     },
     "04f5a860dc1f46ec9c0e23da0471b936": {
      "model_module": "@jupyter-widgets/base",
      "model_module_version": "1.2.0",
      "model_name": "LayoutModel",
      "state": {
       "align_items": "stretch",
       "border": "dashed 0.2px green",
       "display": "flex",
       "flex_flow": "row",
       "grid_auto_columns": "True",
       "justify_content": "flex-start",
       "width": "100%"
      }
     },
     "04fd60ce300345d79258a566133f0fcf": {
      "model_module": "@jupyter-widgets/base",
      "model_module_version": "1.2.0",
      "model_name": "LayoutModel",
      "state": {
       "align_items": "stretch",
       "display": "flex",
       "flex_flow": "row",
       "grid_auto_columns": "True",
       "justify_content": "flex-start",
       "width": "80%"
      }
     },
     "050c254793fe46fb9f2338e5f71e6d8c": {
      "model_module": "@jupyter-widgets/base",
      "model_module_version": "1.2.0",
      "model_name": "LayoutModel",
      "state": {
       "align_items": "stretch",
       "border": "dashed 0.2px green",
       "display": "flex",
       "flex_flow": "row",
       "grid_auto_columns": "True",
       "justify_content": "flex-start",
       "width": "100%"
      }
     },
     "050e584874074f6b960ea5dee5b234d8": {
      "model_module": "@jupyter-widgets/base",
      "model_module_version": "1.2.0",
      "model_name": "LayoutModel",
      "state": {}
     },
     "0522809bd6f34906b2e2d0b5b79701f4": {
      "model_module": "@jupyter-widgets/controls",
      "model_module_version": "1.5.0",
      "model_name": "DescriptionStyleModel",
      "state": {
       "description_width": ""
      }
     },
     "0525c8e3cc6e409aa77fd278ffb472d9": {
      "model_module": "@jupyter-widgets/base",
      "model_module_version": "1.2.0",
      "model_name": "LayoutModel",
      "state": {
       "align_items": "stretch",
       "display": "flex",
       "flex_flow": "row",
       "grid_auto_columns": "True",
       "justify_content": "flex-end",
       "width": "90%"
      }
     },
     "05381f7b9e564e3986285fdfcf02eebe": {
      "model_module": "@jupyter-widgets/base",
      "model_module_version": "1.2.0",
      "model_name": "LayoutModel",
      "state": {
       "align_items": "stretch",
       "border": "dashed 0.2px green",
       "display": "flex",
       "flex_flow": "row",
       "grid_auto_columns": "True",
       "justify_content": "flex-start",
       "width": "100%"
      }
     },
     "054bfc83294c41c385bdce809c57bfeb": {
      "model_module": "@jupyter-widgets/controls",
      "model_module_version": "1.5.0",
      "model_name": "DescriptionStyleModel",
      "state": {
       "description_width": ""
      }
     },
     "054e151b981d434985b24d6975de821b": {
      "model_module": "@jupyter-widgets/controls",
      "model_module_version": "1.5.0",
      "model_name": "ButtonStyleModel",
      "state": {
       "font_weight": "bold"
      }
     },
     "0567c7c3f0da4cacbb353248066b162e": {
      "model_module": "@jupyter-widgets/controls",
      "model_module_version": "1.5.0",
      "model_name": "HBoxModel",
      "state": {
       "children": [
        "IPY_MODEL_43cca6302ca142979917dc56caf48958",
        "IPY_MODEL_24653a4f3db344ce967291d9b84e2c8d"
       ],
       "layout": "IPY_MODEL_f76484026d674fc7a08be21aa7112e5e"
      }
     },
     "05695c0e70b341c18ffd5d020822f550": {
      "model_module": "@jupyter-widgets/controls",
      "model_module_version": "1.5.0",
      "model_name": "HTMLModel",
      "state": {
       "layout": "IPY_MODEL_ce1363f368fa4faf9514cdb3ebc25d4d",
       "style": "IPY_MODEL_0921606301c7498fa03d5a2398ab0118",
       "value": "<p>its a foo cake</p>"
      }
     },
     "05897f909911490ead17e9616aa2b243": {
      "model_module": "@jupyter-widgets/base",
      "model_module_version": "1.2.0",
      "model_name": "LayoutModel",
      "state": {
       "align_items": "stretch",
       "display": "flex",
       "flex_flow": "row",
       "grid_auto_columns": "True",
       "justify_content": "flex-end",
       "width": "90%"
      }
     },
     "05ba9def87ff42ed9c0e2ab225a9a489": {
      "model_module": "@jupyter-widgets/base",
      "model_module_version": "1.2.0",
      "model_name": "LayoutModel",
      "state": {}
     },
     "05c0ac904ab446498a82173a27895fe8": {
      "model_module": "@jupyter-widgets/base",
      "model_module_version": "1.2.0",
      "model_name": "LayoutModel",
      "state": {}
     },
     "06070f16fa764f3991530165194a553b": {
      "model_module": "@jupyter-widgets/base",
      "model_module_version": "1.2.0",
      "model_name": "LayoutModel",
      "state": {
       "align_items": "stretch",
       "border": "dashed 0.2px green",
       "display": "flex",
       "flex_flow": "row",
       "grid_auto_columns": "True",
       "justify_content": "flex-start",
       "width": "100%"
      }
     },
     "062f17bb7f1e4bbaa62c0cc1df855b9c": {
      "model_module": "@jupyter-widgets/controls",
      "model_module_version": "1.5.0",
      "model_name": "VBoxModel",
      "state": {
       "children": [
        "IPY_MODEL_56de79eb3b2e49c68bddb034cf8d01ae",
        "IPY_MODEL_3f9273b712ba409b8c1ed6e6e49dfa6f",
        "IPY_MODEL_91b3231785fe4afc8634df3ebdb938d2"
       ],
       "layout": "IPY_MODEL_817c44f9691747378c7e3bce53132986"
      }
     },
     "0647568417a448cb9a99fd28e404a065": {
      "model_module": "@jupyter-widgets/base",
      "model_module_version": "1.2.0",
      "model_name": "LayoutModel",
      "state": {}
     },
     "06528ac4225b48bb90859bcba7cc6ed3": {
      "model_module": "@jupyter-widgets/controls",
      "model_module_version": "1.5.0",
      "model_name": "DescriptionStyleModel",
      "state": {
       "description_width": ""
      }
     },
     "065d0e2c220f4277a86df7380d338402": {
      "model_module": "@jupyter-widgets/controls",
      "model_module_version": "1.5.0",
      "model_name": "HBoxModel",
      "state": {
       "children": [
        "IPY_MODEL_43159243408d461b8dc73aae82ed2a4f"
       ],
       "layout": "IPY_MODEL_1fdeb1960657403caa5efe289e09cfcb"
      }
     },
     "06a308be488442ecacb4debd643e6575": {
      "model_module": "@jupyter-widgets/controls",
      "model_module_version": "1.5.0",
      "model_name": "ToggleButtonModel",
      "state": {
       "icon": "arrow-down",
       "layout": "IPY_MODEL_7b0c72df3a6e4675b51afa2642928fe1",
       "style": "IPY_MODEL_da613c7946d3443fb69693fa2d448304"
      }
     },
     "06af78456d4a44d28f99cf48ccdfbe06": {
      "model_module": "@jupyter-widgets/controls",
      "model_module_version": "1.5.0",
      "model_name": "HTMLModel",
      "state": {
       "layout": "IPY_MODEL_785069d2da83418bba702d3b6e2c7a48",
       "style": "IPY_MODEL_bd221f792cb2406498bc1b7458f33a47",
       "value": "<p>its a foo cake</p>"
      }
     },
     "0711a490156c485cb9c2a7326906bb66": {
      "model_module": "@jupyter-widgets/controls",
      "model_module_version": "1.5.0",
      "model_name": "HTMLModel",
      "state": {
       "layout": "IPY_MODEL_771dac194fd148a586409972dcddc29f",
       "style": "IPY_MODEL_dc8511d2032c4024ac9a8074d202fef9",
       "value": "<p>foo</p>"
      }
     },
     "0725098ec53c4856b29a5dea0adecf55": {
      "model_module": "@jupyter-widgets/base",
      "model_module_version": "1.2.0",
      "model_name": "LayoutModel",
      "state": {}
     },
     "073252791bcf46f9953e259f5ca18f75": {
      "model_module": "@jupyter-widgets/controls",
      "model_module_version": "1.5.0",
      "model_name": "HTMLModel",
      "state": {
       "layout": "IPY_MODEL_88ebc7cf806347beb0ab666db90b6a63",
       "style": "IPY_MODEL_8af3f336051248108ba34340757e936d",
       "value": "<p>Date Picker</p>"
      }
     },
     "0734cb35a8e044b6b332b0a12be2af17": {
      "model_module": "@jupyter-widgets/controls",
      "model_module_version": "1.5.0",
      "model_name": "DescriptionStyleModel",
      "state": {
       "description_width": ""
      }
     },
     "075f8c1aca274b7a874420545ee00953": {
      "model_module": "@jupyter-widgets/output",
      "model_module_version": "1.0.0",
      "model_name": "OutputModel",
      "state": {
       "layout": "IPY_MODEL_1500c52663334de9b96b665d7e664e38"
      }
     },
     "077f9db2ef9845a892924acadae82abf": {
      "model_module": "@jupyter-widgets/controls",
      "model_module_version": "1.5.0",
      "model_name": "VBoxModel",
      "state": {
       "children": [
        "IPY_MODEL_70e9eebff6944bc2bb38df1b94f004be",
        "IPY_MODEL_7b2066c54bce426cac5335fd811fcb7b",
        "IPY_MODEL_beb01abba1084007ab35f9e0a786a1aa"
       ],
       "layout": "IPY_MODEL_bbbdccac82c34eec8b4d6af40ed88b69"
      }
     },
     "07820de5083b43e197c7faf9a2b9faba": {
      "model_module": "@jupyter-widgets/controls",
      "model_module_version": "1.5.0",
      "model_name": "HTMLModel",
      "state": {
       "layout": "IPY_MODEL_ed3e17d8ec0e4c43b251afebfc599608",
       "style": "IPY_MODEL_90b250e1aa3e4edbb14bc1f78d2b9df5",
       "value": "<p>reous foo ous foo st</p>"
      }
     },
     "0785d90e86544946bd7a2d962b9daa05": {
      "model_module": "@jupyter-widgets/base",
      "model_module_version": "1.2.0",
      "model_name": "LayoutModel",
      "state": {}
     },
     "07879336ee864a2fad5a70598345d409": {
      "model_module": "@jupyter-widgets/base",
      "model_module_version": "1.2.0",
      "model_name": "LayoutModel",
      "state": {
       "width": "5%"
      }
     },
     "07932908d32a44b4a6daa385b4b95b0c": {
      "model_module": "@jupyter-widgets/controls",
      "model_module_version": "1.5.0",
      "model_name": "HTMLModel",
      "state": {
       "layout": "IPY_MODEL_690598bc2b584db99d1f2c9e2d14a294",
       "style": "IPY_MODEL_e7ca5f21672047c6874e88ac071b499e",
       "value": "<p>fus foo ous o</p>"
      }
     },
     "0795669c2fc248c689558e0973b4edac": {
      "model_module": "@jupyter-widgets/controls",
      "model_module_version": "1.5.0",
      "model_name": "HTMLModel",
      "state": {
       "layout": "IPY_MODEL_b37057daab654f90b3822c820eba1d20",
       "style": "IPY_MODEL_3f6ea7a478c149b78bb6f1ed105c0621"
      }
     },
     "07c0b46b7b3e45b5ad3a040da06f23fe": {
      "model_module": "@jupyter-widgets/controls",
      "model_module_version": "1.5.0",
      "model_name": "DescriptionStyleModel",
      "state": {
       "description_width": ""
      }
     },
     "07d7e28b0264480488ad0a62e0380eb9": {
      "model_module": "@jupyter-widgets/controls",
      "model_module_version": "1.5.0",
      "model_name": "HBoxModel",
      "state": {
       "children": [
        "IPY_MODEL_6d2a0131b66b4bf8a55612e60a8206f2",
        "IPY_MODEL_0795669c2fc248c689558e0973b4edac"
       ],
       "layout": "IPY_MODEL_b229541a56264b2da16a448bdb303bc8"
      }
     },
     "08013686593e4a23a362f1ee7a013c2f": {
      "model_module": "@jupyter-widgets/controls",
      "model_module_version": "1.5.0",
      "model_name": "HBoxModel",
      "state": {
       "children": [
        "IPY_MODEL_397a2692808449bf8def4e5b1845f1f0",
        "IPY_MODEL_424841d41ff242369cc2da595c207b90"
       ],
       "layout": "IPY_MODEL_9b0cc1d932534920803ea71d843bcd7b"
      }
     },
     "083835034c6c4fb8834cf502de6a76bb": {
      "model_module": "@jupyter-widgets/controls",
      "model_module_version": "1.5.0",
      "model_name": "DescriptionStyleModel",
      "state": {
       "description_width": ""
      }
     },
     "0853a11c60614afbac1145ebef127ed0": {
      "model_module": "@jupyter-widgets/controls",
      "model_module_version": "1.5.0",
      "model_name": "HBoxModel",
      "state": {
       "children": [
        "IPY_MODEL_0c4d7d4d677a4df88ef2000d4cab8ae2",
        "IPY_MODEL_a6c15df981934d0dab14034c3642d3ab"
       ],
       "layout": "IPY_MODEL_29d1d34736604cd7a2798c96be0a726e"
      }
     },
     "0859792399094bce811c7b661c0e39e0": {
      "model_module": "@jupyter-widgets/controls",
      "model_module_version": "1.5.0",
      "model_name": "DescriptionStyleModel",
      "state": {
       "description_width": ""
      }
     },
     "085e9c1adf4245baaa59168b551b86f6": {
      "model_module": "@jupyter-widgets/base",
      "model_module_version": "1.2.0",
      "model_name": "LayoutModel",
      "state": {
       "align_items": "stretch",
       "display": "flex",
       "flex_flow": "row",
       "grid_auto_columns": "True",
       "justify_content": "flex-start",
       "width": "80%"
      }
     },
     "087cd1e804014dc2a24739ffa1dba019": {
      "model_module": "@jupyter-widgets/base",
      "model_module_version": "1.2.0",
      "model_name": "LayoutModel",
      "state": {}
     },
     "087fadecb5ae49efbfb77896c85ebb24": {
      "model_module": "@jupyter-widgets/base",
      "model_module_version": "1.2.0",
      "model_name": "LayoutModel",
      "state": {}
     },
     "089a1274606c429f84e4033af863b234": {
      "model_module": "@jupyter-widgets/controls",
      "model_module_version": "1.5.0",
      "model_name": "VBoxModel",
      "state": {
       "children": [
        "IPY_MODEL_8866b5cdad974fa5b558660184579c1d",
        "IPY_MODEL_2419fbf7b8a04245b9d405854a516a94",
        "IPY_MODEL_845d3cd71a8742308a4c31b72f378ddb",
        "IPY_MODEL_5054986b86db482cbe484a2fa4f98d23",
        "IPY_MODEL_c5db27377f8449bd96376f8a0c65542a",
        "IPY_MODEL_2d7fbedd9c704818b1c0e3cc1ba2648b",
        "IPY_MODEL_9b8cafb8e5794002b52a401b26109777",
        "IPY_MODEL_aac2aab6f7644399832e5213304de8d9"
       ],
       "layout": "IPY_MODEL_a308da8cf39141199850eadc2ed9d261"
      }
     },
     "08a5e2407b3d4321b5a5acc2430ef17c": {
      "model_module": "@jupyter-widgets/controls",
      "model_module_version": "1.5.0",
      "model_name": "ToggleButtonModel",
      "state": {
       "icon": "arrow-down",
       "layout": "IPY_MODEL_fc849d0763d542e1b462386c07834a38",
       "style": "IPY_MODEL_ad759d1327e64dbfa29879f77b02502d"
      }
     },
     "091d1e82b9474df39b9d80ed90d489eb": {
      "model_module": "@jupyter-widgets/base",
      "model_module_version": "1.2.0",
      "model_name": "LayoutModel",
      "state": {
       "display": "none"
      }
     },
     "0921606301c7498fa03d5a2398ab0118": {
      "model_module": "@jupyter-widgets/controls",
      "model_module_version": "1.5.0",
      "model_name": "DescriptionStyleModel",
      "state": {
       "description_width": ""
      }
     },
     "09231c034ef5488a9203103229fa21a8": {
      "model_module": "@jupyter-widgets/base",
      "model_module_version": "1.2.0",
      "model_name": "LayoutModel",
      "state": {}
     },
     "0964ac712e264afdb9b173afe038f781": {
      "model_module": "@jupyter-widgets/controls",
      "model_module_version": "1.5.0",
      "model_name": "TextModel",
      "state": {
       "layout": "IPY_MODEL_386c2c365b824b32b63358d6208b12ff",
       "style": "IPY_MODEL_00aca93a39c14afda34cb0cbc0504602",
       "value": "YY-OverheatingAnalysis"
      }
     },
     "09a237b702ad47e388ec7b8c2373b27b": {
      "model_module": "@jupyter-widgets/controls",
      "model_module_version": "1.5.0",
      "model_name": "ButtonStyleModel",
      "state": {}
     },
     "09ab4875061849708b290934bac9a04b": {
      "model_module": "@jupyter-widgets/controls",
      "model_module_version": "1.5.0",
      "model_name": "HTMLModel",
      "state": {
       "layout": "IPY_MODEL_973e50913bcf4d07a2636c5cdd9111bd",
       "style": "IPY_MODEL_31bc4b87fd0c4491bee7fe106e95bd3f",
       "value": "<p>Date Picker</p>"
      }
     },
     "09dac008ca084c029d01f72b28cf83f3": {
      "model_module": "@jupyter-widgets/controls",
      "model_module_version": "1.5.0",
      "model_name": "FloatTextModel",
      "state": {
       "layout": "IPY_MODEL_bed854f4183d4dceb737fc31312b028b",
       "step": null,
       "style": "IPY_MODEL_44d5a15400ac4c9ebcc84dadcc4ddf5c",
       "value": 9
      }
     },
     "09ff5bb7120d4fdab5c7dbe58ec8efcd": {
      "model_module": "@jupyter-widgets/controls",
      "model_module_version": "1.5.0",
      "model_name": "HBoxModel",
      "state": {
       "children": [
        "IPY_MODEL_45a30a3f243d42af8cadf371a0d68079",
        "IPY_MODEL_10abd4c19aed454aa319dc9bf9a2d4f3"
       ],
       "layout": "IPY_MODEL_7508e480af224bdf9ae533de3864e25c"
      }
     },
     "0a18bc118b274575a2efe86782828fd5": {
      "model_module": "@jupyter-widgets/controls",
      "model_module_version": "1.5.0",
      "model_name": "DescriptionStyleModel",
      "state": {
       "description_width": ""
      }
     },
     "0a9b4872456f4fdca76573a0c0dda419": {
      "model_module": "@jupyter-widgets/base",
      "model_module_version": "1.2.0",
      "model_name": "LayoutModel",
      "state": {
       "width": "auto"
      }
     },
     "0ac8f05a8d634e1689d78e43f8053e4f": {
      "model_module": "@jupyter-widgets/controls",
      "model_module_version": "1.5.0",
      "model_name": "DescriptionStyleModel",
      "state": {
       "description_width": ""
      }
     },
     "0acc239e81604aa095fe25798b53d3e7": {
      "model_module": "@jupyter-widgets/base",
      "model_module_version": "1.2.0",
      "model_name": "LayoutModel",
      "state": {}
     },
     "0acf885bb8f743909055cc4cf66bb5b1": {
      "model_module": "@jupyter-widgets/controls",
      "model_module_version": "1.5.0",
      "model_name": "HBoxModel",
      "state": {
       "children": [
        "IPY_MODEL_7aa0905751b54ffc86a7427e02b2e957",
        "IPY_MODEL_92a4b8bc21ba4dd499b1f2e9e0808290"
       ],
       "layout": "IPY_MODEL_fec369037ca04f54bab90985a0a50ccc"
      }
     },
     "0ad650b11732485396d6dd29fe77700f": {
      "model_module": "@jupyter-widgets/output",
      "model_module_version": "1.0.0",
      "model_name": "OutputModel",
      "state": {
       "layout": "IPY_MODEL_101719646aa44979bf34eb1e4fe50a09"
      }
     },
     "0b1d9f3cb93c4b5abc9c5e421dd65edc": {
      "model_module": "@jupyter-widgets/controls",
      "model_module_version": "1.5.0",
      "model_name": "DescriptionStyleModel",
      "state": {
       "description_width": ""
      }
     },
     "0b5c1d17ae0f4a8fb2bf9b438f1f9aaf": {
      "model_module": "@jupyter-widgets/controls",
      "model_module_version": "1.5.0",
      "model_name": "DescriptionStyleModel",
      "state": {
       "description_width": ""
      }
     },
     "0ba838c272954c68aa4d58e9030afcaf": {
      "model_module": "@jupyter-widgets/controls",
      "model_module_version": "1.5.0",
      "model_name": "DescriptionStyleModel",
      "state": {
       "description_width": ""
      }
     },
     "0bbc98eb685c4c77b41b5e3d1df12019": {
      "model_module": "@jupyter-widgets/controls",
      "model_module_version": "1.5.0",
      "model_name": "HBoxModel",
      "state": {
       "children": [
        "IPY_MODEL_9fe9abd6095844428826f3a69281f77b",
        "IPY_MODEL_a306dd7a28084bc5987ddbaaf26f5262"
       ],
       "layout": "IPY_MODEL_8e15e1e210834a4586f4328df29b8b28"
      }
     },
     "0c06ab2ab1ca47b88bf446219c99cdbe": {
      "model_module": "@jupyter-widgets/base",
      "model_module_version": "1.2.0",
      "model_name": "LayoutModel",
      "state": {}
     },
     "0c2a0311c3054289bab3b789200cb65b": {
      "model_module": "@jupyter-widgets/controls",
      "model_module_version": "1.5.0",
      "model_name": "DescriptionStyleModel",
      "state": {
       "description_width": ""
      }
     },
     "0c36d03b67a54ab995c1f41a0a8dd8cc": {
      "model_module": "@jupyter-widgets/controls",
      "model_module_version": "1.5.0",
      "model_name": "ButtonModel",
      "state": {
       "description": "Cancel",
       "layout": "IPY_MODEL_311fa24807c04399827e6963f601cc41",
       "style": "IPY_MODEL_10e91497ba184750b6ee6e79d2cfa08f"
      }
     },
     "0c3833d575644e45ad87c71b63086541": {
      "model_module": "@jupyter-widgets/output",
      "model_module_version": "1.0.0",
      "model_name": "OutputModel",
      "state": {
       "layout": "IPY_MODEL_223579313e4a4f328ea71a612857c9a1"
      }
     },
     "0c4d7d4d677a4df88ef2000d4cab8ae2": {
      "model_module": "@jupyter-widgets/controls",
      "model_module_version": "1.5.0",
      "model_name": "TextareaModel",
      "state": {
       "layout": "IPY_MODEL_cf5d10398c714ba3a5fe5f6b5253f3af",
       "style": "IPY_MODEL_df966b262fe84be5a6fc95f5d97978a8"
      }
     },
     "0c54d1300d4f4ea4877668e80f0e3a66": {
      "model_module": "@jupyter-widgets/base",
      "model_module_version": "1.2.0",
      "model_name": "LayoutModel",
      "state": {
       "align_items": "stretch",
       "display": "flex",
       "flex_flow": "row",
       "grid_auto_columns": "True",
       "justify_content": "flex-end",
       "width": "90%"
      }
     },
     "0c5dae9308ec4318bd5eb1f9ecb542c9": {
      "model_module": "@jupyter-widgets/base",
      "model_module_version": "1.2.0",
      "model_name": "LayoutModel",
      "state": {
       "align_items": "stretch",
       "display": "flex",
       "flex_flow": "row",
       "grid_auto_columns": "True",
       "justify_content": "flex-start",
       "width": "80%"
      }
     },
     "0c6cd142946c47759637ca38743214e6": {
      "model_module": "@jupyter-widgets/base",
      "model_module_version": "1.2.0",
      "model_name": "LayoutModel",
      "state": {
       "align_items": "stretch",
       "display": "flex",
       "flex_flow": "row",
       "grid_auto_columns": "True",
       "justify_content": "flex-start",
       "width": "80%"
      }
     },
     "0c98076fb57048599eed33bc74f02619": {
      "model_module": "@jupyter-widgets/controls",
      "model_module_version": "1.5.0",
      "model_name": "HBoxModel",
      "state": {
       "children": [
        "IPY_MODEL_9ecdaeb4088f432f98fdf12489e2a3ae",
        "IPY_MODEL_82f7935097864a169f732ec1362e4c37"
       ],
       "layout": "IPY_MODEL_dfaa83f5b9d44934a146e57cb235f73f"
      }
     },
     "0cda7587f92447dd8c8f80943c283dd3": {
      "model_module": "@jupyter-widgets/controls",
      "model_module_version": "1.5.0",
      "model_name": "ButtonModel",
      "state": {
       "description": "Cancel",
       "layout": "IPY_MODEL_48623b4a5af94e25855c2da14e9c081c",
       "style": "IPY_MODEL_87c29b8750eb46ed93e2cdb00861d88d"
      }
     },
     "0d18f53727054ec2bfd3ac59764d3b87": {
      "model_module": "@jupyter-widgets/output",
      "model_module_version": "1.0.0",
      "model_name": "OutputModel",
      "state": {
       "layout": "IPY_MODEL_543a3f23f41b401382d37de6983b0452"
      }
     },
     "0d2a197edc2d4798b92ec0be93d3df25": {
      "model_module": "@jupyter-widgets/controls",
      "model_module_version": "1.5.0",
      "model_name": "HBoxModel",
      "state": {
       "children": [
        "IPY_MODEL_8a3fc70729574d7bad8c43cd5cbe2a4b",
        "IPY_MODEL_b2c8cca2e9f64589bfdff5d5056a8d76"
       ],
       "layout": "IPY_MODEL_7dd808942ccb472984d0cee3b03d477c"
      }
     },
     "0d3b6f3021264b86b44ba3f388f3b274": {
      "model_module": "@jupyter-widgets/output",
      "model_module_version": "1.0.0",
      "model_name": "OutputModel",
      "state": {
       "layout": "IPY_MODEL_d22f542bd5fa41f99929b8bef7452926"
      }
     },
     "0d52c3d8910b49c2afe3faab632ab8c6": {
      "model_module": "@jupyter-widgets/controls",
      "model_module_version": "1.5.0",
      "model_name": "DescriptionStyleModel",
      "state": {
       "description_width": ""
      }
     },
     "0d62e682c19b4eea80a27ef323d9c278": {
      "model_module": "@jupyter-widgets/controls",
      "model_module_version": "1.5.0",
      "model_name": "DescriptionStyleModel",
      "state": {
       "description_width": ""
      }
     },
     "0d84c4b2f4bc401386f296e6b155fc4d": {
      "model_module": "@jupyter-widgets/base",
      "model_module_version": "1.2.0",
      "model_name": "LayoutModel",
      "state": {
       "align_items": "stretch",
       "border": "dashed 0.2px green",
       "display": "flex",
       "flex_flow": "row",
       "grid_auto_columns": "True",
       "justify_content": "flex-start",
       "width": "100%"
      }
     },
     "0d98b92a84e841bfb174d3ab726969cb": {
      "model_module": "@jupyter-widgets/controls",
      "model_module_version": "1.5.0",
      "model_name": "DescriptionStyleModel",
      "state": {
       "description_width": ""
      }
     },
     "0da5593c55794d859a98b718ac8d7296": {
      "model_module": "@jupyter-widgets/controls",
      "model_module_version": "1.5.0",
      "model_name": "VBoxModel",
      "state": {
       "children": [
        "IPY_MODEL_607fdbedc7e84155b853fd2a56f02caa"
       ],
       "layout": "IPY_MODEL_b03d2530377b4eb2a0be7459702d8da9"
      }
     },
     "0dd20d73d5da4be6b4c342497c0a36b6": {
      "model_module": "@jupyter-widgets/controls",
      "model_module_version": "1.5.0",
      "model_name": "DropdownModel",
      "state": {
       "_options_labels": [
        "appdata\\inputs",
        "appdata",
        ""
       ],
       "index": 0,
       "layout": "IPY_MODEL_c7bc7c81375b4af881d26e242ebdd49c",
       "style": "IPY_MODEL_d512f9a0c8814d628a750011085e2819"
      }
     },
     "0de81abed532436382368635a4f325cd": {
      "model_module": "@jupyter-widgets/controls",
      "model_module_version": "1.5.0",
      "model_name": "DescriptionStyleModel",
      "state": {
       "description_width": ""
      }
     },
     "0e03cafecb5740719ae1a4a891ea5193": {
      "model_module": "@jupyter-widgets/base",
      "model_module_version": "1.2.0",
      "model_name": "LayoutModel",
      "state": {}
     },
     "0e30110e44a54909958d4283a3bf6241": {
      "model_module": "@jupyter-widgets/controls",
      "model_module_version": "1.5.0",
      "model_name": "HBoxModel",
      "state": {
       "children": [
        "IPY_MODEL_1dfa6307a82f4fee814ce083db254def"
       ],
       "layout": "IPY_MODEL_04f5a860dc1f46ec9c0e23da0471b936"
      }
     },
     "0e383e16d5714234914c6c16e0d53380": {
      "model_module": "@jupyter-widgets/base",
      "model_module_version": "1.2.0",
      "model_name": "LayoutModel",
      "state": {}
     },
     "0e44226927924d059077b5aabfeda714": {
      "model_module": "@jupyter-widgets/base",
      "model_module_version": "1.2.0",
      "model_name": "LayoutModel",
      "state": {}
     },
     "0e5a644ce6ff48968ff76b68c8e43125": {
      "model_module": "@jupyter-widgets/controls",
      "model_module_version": "1.5.0",
      "model_name": "DescriptionStyleModel",
      "state": {
       "description_width": ""
      }
     },
     "0e8266a31c5040b4afdfa25840e71995": {
      "model_module": "@jupyter-widgets/base",
      "model_module_version": "1.2.0",
      "model_name": "LayoutModel",
      "state": {}
     },
     "0edf6f82fd6e41ce8d27899b31162fb6": {
      "model_module": "@jupyter-widgets/controls",
      "model_module_version": "1.5.0",
      "model_name": "HTMLModel",
      "state": {
       "layout": "IPY_MODEL_a0b4299f55564e3f8bb649d5b22b1f4c",
       "style": "IPY_MODEL_922a42aa44994b05a662d136da5de78d",
       "value": "<p>4</p>"
      }
     },
     "0f32c19178b947d598fab8c194ed10e0": {
      "model_module": "@jupyter-widgets/base",
      "model_module_version": "1.2.0",
      "model_name": "LayoutModel",
      "state": {}
     },
     "0f401cc6c27b492b9b90aa714d486a7c": {
      "model_module": "@jupyter-widgets/base",
      "model_module_version": "1.2.0",
      "model_name": "LayoutModel",
      "state": {}
     },
     "0f41e2c41b9d4b65bdb2d985054ff82b": {
      "model_module": "@jupyter-widgets/controls",
      "model_module_version": "1.5.0",
      "model_name": "VBoxModel",
      "state": {
       "children": [
        "IPY_MODEL_4f30fd6155f94e22904165370f6dd43e",
        "IPY_MODEL_b0169573aa9e4682afc1ffeff323ff89",
        "IPY_MODEL_4467d3ba9d434dde89819d584f2f7d20"
       ],
       "layout": "IPY_MODEL_e2b4d2b2ae7a42b1bb9d152243a91105"
      }
     },
     "0f6e6b415c3b4b7eb78ed5b8f4c6076c": {
      "model_module": "@jupyter-widgets/controls",
      "model_module_version": "1.5.0",
      "model_name": "ToggleButtonModel",
      "state": {
       "button_style": "info",
       "description": "select file",
       "layout": "IPY_MODEL_33d38d3e34884c96b68c8367c15afdf3",
       "style": "IPY_MODEL_23d28de0d8ae42b18a286ca1b898ce77"
      }
     },
     "0f8866d038e84424b2915a895b7f9764": {
      "model_module": "@jupyter-widgets/controls",
      "model_module_version": "1.5.0",
      "model_name": "HBoxModel",
      "state": {
       "children": [
        "IPY_MODEL_3ab61416a1b04a29813cf1214dc8d76d",
        "IPY_MODEL_c85db312087a4531a9c3cf1b46e23290"
       ],
       "layout": "IPY_MODEL_2441e79b22ce4262a661296cde22ed1e"
      }
     },
     "0fa703ff6549490b82a7b34846bd6906": {
      "model_module": "@jupyter-widgets/base",
      "model_module_version": "1.2.0",
      "model_name": "LayoutModel",
      "state": {}
     },
     "0facd3c2e8d44dc2b3b4f7271cba67fb": {
      "model_module": "@jupyter-widgets/base",
      "model_module_version": "1.2.0",
      "model_name": "LayoutModel",
      "state": {}
     },
     "0fb45a30d610478bb45be3cb5af5942f": {
      "model_module": "@jupyter-widgets/base",
      "model_module_version": "1.2.0",
      "model_name": "LayoutModel",
      "state": {
       "display": "flex",
       "flex_flow": "row",
       "grid_auto_columns": "False",
       "justify_content": "flex-start",
       "width": "100%"
      }
     },
     "100c862f47c2424f8f35001032743aad": {
      "model_module": "@jupyter-widgets/base",
      "model_module_version": "1.2.0",
      "model_name": "LayoutModel",
      "state": {}
     },
     "101719646aa44979bf34eb1e4fe50a09": {
      "model_module": "@jupyter-widgets/base",
      "model_module_version": "1.2.0",
      "model_name": "LayoutModel",
      "state": {}
     },
     "1018e37487554a88bb5df662267c0573": {
      "model_module": "@jupyter-widgets/base",
      "model_module_version": "1.2.0",
      "model_name": "LayoutModel",
      "state": {}
     },
     "101a2ad6848d4a6cb8285bb62956f5ba": {
      "model_module": "@jupyter-widgets/controls",
      "model_module_version": "1.5.0",
      "model_name": "DescriptionStyleModel",
      "state": {
       "description_width": ""
      }
     },
     "1022749b9b2a4395a05e3b5066175898": {
      "model_module": "@jupyter-widgets/base",
      "model_module_version": "1.2.0",
      "model_name": "LayoutModel",
      "state": {
       "align_items": "stretch",
       "border": "dashed 0.2px green",
       "display": "flex",
       "flex_flow": "row",
       "grid_auto_columns": "True",
       "justify_content": "flex-start",
       "width": "100%"
      }
     },
     "1038585617dd467b83ce4404543114a7": {
      "model_module": "@jupyter-widgets/controls",
      "model_module_version": "1.5.0",
      "model_name": "FloatSliderModel",
      "state": {
       "layout": "IPY_MODEL_fbc93822ee734471bb113ab2fb18d9cb",
       "max": 10,
       "style": "IPY_MODEL_fcc23b40bd7a419f9f9366aaa48f6f41",
       "value": 1
      }
     },
     "10432e39805343378b6f329820cff837": {
      "model_module": "@jupyter-widgets/controls",
      "model_module_version": "1.5.0",
      "model_name": "DescriptionStyleModel",
      "state": {
       "description_width": ""
      }
     },
     "1049e3e057354936870a831142b65c22": {
      "model_module": "@jupyter-widgets/output",
      "model_module_version": "1.0.0",
      "model_name": "OutputModel",
      "state": {
       "layout": "IPY_MODEL_c9a4ee35f6bc44d6bd33628823f248f3"
      }
     },
     "105bb3f4eccf427f802024786999cff6": {
      "model_module": "@jupyter-widgets/base",
      "model_module_version": "1.2.0",
      "model_name": "LayoutModel",
      "state": {}
     },
     "10701d7efe6541fc82ffdc0ab5aeb669": {
      "model_module": "@jupyter-widgets/controls",
      "model_module_version": "1.5.0",
      "model_name": "HBoxModel",
      "state": {
       "children": [
        "IPY_MODEL_09ab4875061849708b290934bac9a04b",
        "IPY_MODEL_78306b9f26754276939cee45cf6b9282"
       ],
       "layout": "IPY_MODEL_b30068b3460348bbb9905ff47261d5a2"
      }
     },
     "10abd4c19aed454aa319dc9bf9a2d4f3": {
      "model_module": "@jupyter-widgets/controls",
      "model_module_version": "1.5.0",
      "model_name": "HTMLModel",
      "state": {
       "layout": "IPY_MODEL_3b7ed90b39174763a4b94740bbd56c7b",
       "style": "IPY_MODEL_9b5f9efb8f30454996c15d50725c8206",
       "value": "<p>its a foo cake</p>"
      }
     },
     "10b29d919ea2454b895a2ea671e29e10": {
      "model_module": "@jupyter-widgets/base",
      "model_module_version": "1.2.0",
      "model_name": "LayoutModel",
      "state": {
       "align_items": "stretch",
       "border": "dashed 0.2px green",
       "display": "flex",
       "flex_flow": "row",
       "grid_auto_columns": "True",
       "justify_content": "flex-start",
       "width": "100%"
      }
     },
     "10e8d032d68c471a97cd677e9c3811a7": {
      "model_module": "@jupyter-widgets/controls",
      "model_module_version": "1.5.0",
      "model_name": "HBoxModel",
      "state": {
       "children": [
        "IPY_MODEL_2cf6f42a973f4fae940c8949c58001a0"
       ],
       "layout": "IPY_MODEL_40e9905cf28648ad876d82d9be5230e0"
      }
     },
     "10e91497ba184750b6ee6e79d2cfa08f": {
      "model_module": "@jupyter-widgets/controls",
      "model_module_version": "1.5.0",
      "model_name": "ButtonStyleModel",
      "state": {}
     },
     "1148314c5cc147d999953a36850947f3": {
      "model_module": "@jupyter-widgets/controls",
      "model_module_version": "1.5.0",
      "model_name": "HBoxModel",
      "state": {
       "children": [
        "IPY_MODEL_604c0e6dc62244c38fbc19a1e20cb90a",
        "IPY_MODEL_bf11fb5245eb49a7a3a206b59611aa8e",
        "IPY_MODEL_ab92dadbbb0a42ac8f4dc519bd2e5055"
       ],
       "layout": "IPY_MODEL_c92c3c04328d4bd8a59250041ceb265c"
      }
     },
     "118595da392742d9b7836e23e107d452": {
      "model_module": "@jupyter-widgets/base",
      "model_module_version": "1.2.0",
      "model_name": "LayoutModel",
      "state": {}
     },
     "1186879efbc645518b212afd0965fff2": {
      "model_module": "@jupyter-widgets/base",
      "model_module_version": "1.2.0",
      "model_name": "LayoutModel",
      "state": {}
     },
     "11a2d6ba7f494eaaa2b3c6161ed65b99": {
      "model_module": "@jupyter-widgets/controls",
      "model_module_version": "1.5.0",
      "model_name": "HBoxModel",
      "state": {
       "children": [
        "IPY_MODEL_493dc52bcb3d4e6c81a972bf4c7210e2",
        "IPY_MODEL_d31a06f6dab443968508ce92b1f281c9"
       ],
       "layout": "IPY_MODEL_aca75489c8444a6883714513b5da9177"
      }
     },
     "11a9f4df11f24e988155261adaf0a479": {
      "model_module": "@jupyter-widgets/controls",
      "model_module_version": "1.5.0",
      "model_name": "HTMLModel",
      "state": {
       "layout": "IPY_MODEL_44250b03fe624a048ec63c8f22c7dbf0",
       "style": "IPY_MODEL_2d61f6ffe56f474baa774f951fa0d321",
       "value": "<p>label</p>"
      }
     },
     "11c02dedece248d1bafde7b1e8f7ff94": {
      "model_module": "@jupyter-widgets/controls",
      "model_module_version": "1.5.0",
      "model_name": "DropdownModel",
      "state": {
       "_options_labels": [
        "asfd",
        "10",
        "asdf"
       ],
       "index": 1,
       "layout": "IPY_MODEL_9c047faee5a548699f769244067788b0",
       "style": "IPY_MODEL_5bb6c45369104226a980f7dbeabd1e2c"
      }
     },
     "11d80a1980d94d9884aeeb1c2ca9b513": {
      "model_module": "@jupyter-widgets/output",
      "model_module_version": "1.0.0",
      "model_name": "OutputModel",
      "state": {
       "layout": "IPY_MODEL_8f2cefa7dde94de6bc0db3e47f345f0a"
      }
     },
     "11ed5f2ff0e64aee8cc428535d0d0edd": {
      "model_module": "@jupyter-widgets/controls",
      "model_module_version": "1.5.0",
      "model_name": "DescriptionStyleModel",
      "state": {
       "description_width": ""
      }
     },
     "121befb8c65549f299d6818e149cbd8c": {
      "model_module": "@jupyter-widgets/controls",
      "model_module_version": "1.5.0",
      "model_name": "DescriptionStyleModel",
      "state": {
       "description_width": ""
      }
     },
     "122c9970bef040c4b2803ce78aca0f5e": {
      "model_module": "@jupyter-widgets/controls",
      "model_module_version": "1.5.0",
      "model_name": "DescriptionStyleModel",
      "state": {
       "description_width": ""
      }
     },
     "12343f1044794b5abd51dc12a4cc0ef0": {
      "model_module": "@jupyter-widgets/base",
      "model_module_version": "1.2.0",
      "model_name": "LayoutModel",
      "state": {}
     },
     "12372e2a09bb4ed7ae63fa622158895f": {
      "model_module": "@jupyter-widgets/base",
      "model_module_version": "1.2.0",
      "model_name": "LayoutModel",
      "state": {}
     },
     "123ec2247d8e4a16bf918b4bb3896176": {
      "model_module": "@jupyter-widgets/base",
      "model_module_version": "1.2.0",
      "model_name": "LayoutModel",
      "state": {
       "grid_area": "filename",
       "width": "auto"
      }
     },
     "1255ff144b2644d7acab899710862861": {
      "model_module": "@jupyter-widgets/controls",
      "model_module_version": "1.5.0",
      "model_name": "DescriptionStyleModel",
      "state": {
       "description_width": ""
      }
     },
     "1257910d010a4e4ba18cefe3c4cb4ee1": {
      "model_module": "@jupyter-widgets/controls",
      "model_module_version": "1.5.0",
      "model_name": "HTMLModel",
      "state": {
       "layout": "IPY_MODEL_413d53ab1f1141849155de80c5cfb6a5",
       "style": "IPY_MODEL_34de32fde74b48baac5a8a5411ddfb3b",
       "value": "<p>its a foo cake</p>"
      }
     },
     "125941f5a936449cac3c5e370ee41ecd": {
      "model_module": "@jupyter-widgets/controls",
      "model_module_version": "1.5.0",
      "model_name": "DropdownModel",
      "state": {
       "_options_labels": [
        "asfd",
        "10",
        "asdf"
       ],
       "index": 1,
       "layout": "IPY_MODEL_2f82d8480d2c4222bc114a465feba820",
       "style": "IPY_MODEL_f6fda3905174459497d694fba8bafb9f"
      }
     },
     "126cec8f2c3d4320893c59c3c2953142": {
      "model_module": "@jupyter-widgets/controls",
      "model_module_version": "1.5.0",
      "model_name": "HBoxModel",
      "state": {
       "children": [
        "IPY_MODEL_981c7671a52c4f7b9a55c2594e311bd0",
        "IPY_MODEL_f595e1229db441d2be0c754831093663"
       ],
       "layout": "IPY_MODEL_514932c6d806420ebf5cd5d22cdbc9d4"
      }
     },
     "127e284590b041ce85bcd02f64e29aa1": {
      "model_module": "@jupyter-widgets/controls",
      "model_module_version": "1.5.0",
      "model_name": "ButtonModel",
      "state": {
       "description": "save",
       "layout": "IPY_MODEL_43f0fad904d14152be2f3cd2d026363a",
       "style": "IPY_MODEL_412758596f5849caba5863bf96b61742"
      }
     },
     "129b276683b348629b0032c626fbe360": {
      "model_module": "@jupyter-widgets/controls",
      "model_module_version": "1.5.0",
      "model_name": "DescriptionStyleModel",
      "state": {
       "description_width": ""
      }
     },
     "12a1565fa9c9433f9508a498dd3096b6": {
      "model_module": "@jupyter-widgets/base",
      "model_module_version": "1.2.0",
      "model_name": "LayoutModel",
      "state": {}
     },
     "12bd152f152a4370a06b38289657f8f8": {
      "model_module": "@jupyter-widgets/base",
      "model_module_version": "1.2.0",
      "model_name": "LayoutModel",
      "state": {}
     },
     "130f0c73677a402e969a2f2a677fee59": {
      "model_module": "@jupyter-widgets/controls",
      "model_module_version": "1.5.0",
      "model_name": "HBoxModel",
      "state": {
       "children": [
        "IPY_MODEL_9663ddc478724105baeaf6fe25f9aeeb",
        "IPY_MODEL_9b2166dde662400a9a8700483fdb8c5c"
       ],
       "layout": "IPY_MODEL_0149be61781440aa8dbae0ff6f7d3fbb"
      }
     },
     "1310f8dccfb24463a6ff42d2e5e89c28": {
      "model_module": "@jupyter-widgets/base",
      "model_module_version": "1.2.0",
      "model_name": "LayoutModel",
      "state": {}
     },
     "134418d23940457cb5460c50c1ee5baa": {
      "model_module": "@jupyter-widgets/controls",
      "model_module_version": "1.5.0",
      "model_name": "DescriptionStyleModel",
      "state": {
       "description_width": ""
      }
     },
     "136cfa2f984244bba933fc30ed571b6b": {
      "model_module": "@jupyter-widgets/base",
      "model_module_version": "1.2.0",
      "model_name": "LayoutModel",
      "state": {
       "align_items": "stretch",
       "display": "flex",
       "flex_flow": "row",
       "grid_auto_columns": "True",
       "justify_content": "flex-start",
       "width": "80%"
      }
     },
     "137767c54c624bb8943dd73f250c1acf": {
      "model_module": "@jupyter-widgets/controls",
      "model_module_version": "1.5.0",
      "model_name": "HBoxModel",
      "state": {
       "children": [
        "IPY_MODEL_7a4abb3b8b0942dda17852eb613cfb9a"
       ],
       "layout": "IPY_MODEL_3f5781ba796e44e8b82e1bd6dde1ea6e"
      }
     },
     "137eb4a37fef467d84f706aa4f444af3": {
      "model_module": "@jupyter-widgets/controls",
      "model_module_version": "1.5.0",
      "model_name": "VBoxModel",
      "state": {
       "layout": "IPY_MODEL_e6038928a852422597e83dd545796cf8"
      }
     },
     "1391b81cf4364b1680bd51d30d7c9da0": {
      "model_module": "@jupyter-widgets/controls",
      "model_module_version": "1.5.0",
      "model_name": "HBoxModel",
      "state": {
       "children": [
        "IPY_MODEL_71d9d1ae5880472dbd93afc041311abb",
        "IPY_MODEL_5cdbfc0a4ee645c48649b453c89595aa"
       ],
       "layout": "IPY_MODEL_f5a0ed61babe490a9328613f22f88ad8"
      }
     },
     "13c1ebef4db945d89a4e1491ae02e31e": {
      "model_module": "@jupyter-widgets/controls",
      "model_module_version": "1.5.0",
      "model_name": "VBoxModel",
      "state": {
       "children": [
        "IPY_MODEL_db355d9091284a9b89ed9e24ca7c88eb",
        "IPY_MODEL_db825153b5cd421c87167be82930ffee"
       ],
       "layout": "IPY_MODEL_74b5a4b5366d4111aaa3c520525fbe5e"
      }
     },
     "13c30965e7144d3c88af4071608aed98": {
      "model_module": "@jupyter-widgets/controls",
      "model_module_version": "1.5.0",
      "model_name": "SelectMultipleModel",
      "state": {
       "_options_labels": [
        "asfd",
        "10",
        "asdf"
       ],
       "index": [
        1
       ],
       "layout": "IPY_MODEL_e70ce136d5d846d18b440ce0f6474718",
       "rows": 5,
       "style": "IPY_MODEL_82c7fced0be744b9a9a24613b342f129"
      }
     },
     "13c6f7504b2c48f19ecdcbac88335ffd": {
      "model_module": "@jupyter-widgets/base",
      "model_module_version": "1.2.0",
      "model_name": "LayoutModel",
      "state": {
       "align_items": "stretch",
       "border": "dashed 0.2px green",
       "display": "flex",
       "flex_flow": "row",
       "grid_auto_columns": "True",
       "justify_content": "flex-start",
       "width": "100%"
      }
     },
     "13ccf5cee6d44e809c4d4e13160e2d2c": {
      "model_module": "@jupyter-widgets/controls",
      "model_module_version": "1.5.0",
      "model_name": "HBoxModel",
      "state": {
       "children": [
        "IPY_MODEL_5794af5e2e0a4a609418c22e75479c6c",
        "IPY_MODEL_39adc78960a9470289ffc9c8e443c6da"
       ],
       "layout": "IPY_MODEL_2b1ff09cd70a41c6b7e74b579af6acdf"
      }
     },
     "13ccfee420a144a8bb1f5d98ca9b24e2": {
      "model_module": "@jupyter-widgets/base",
      "model_module_version": "1.2.0",
      "model_name": "LayoutModel",
      "state": {}
     },
     "13df4a90450a4ee3afea41659d34f355": {
      "model_module": "@jupyter-widgets/controls",
      "model_module_version": "1.5.0",
      "model_name": "ButtonStyleModel",
      "state": {
       "font_weight": "bold"
      }
     },
     "13e3933def2c49beb0f52742e0973269": {
      "model_module": "@jupyter-widgets/base",
      "model_module_version": "1.2.0",
      "model_name": "LayoutModel",
      "state": {}
     },
     "13e57fef21d64a4b81940fb9a0d83afe": {
      "model_module": "@jupyter-widgets/controls",
      "model_module_version": "1.5.0",
      "model_name": "HBoxModel",
      "state": {
       "children": [
        "IPY_MODEL_03bb511cbc7c4dbea042ce6c54ebab40",
        "IPY_MODEL_8508e09fc52b4dc7856ebb70cfa21436"
       ],
       "layout": "IPY_MODEL_6338062351d24d298d1b54002968a76d"
      }
     },
     "13fe7ff447e442a190214bcfbe0b7c52": {
      "model_module": "@jupyter-widgets/base",
      "model_module_version": "1.2.0",
      "model_name": "LayoutModel",
      "state": {}
     },
     "140bb96d8062454d857350f73cd96ae6": {
      "model_module": "@jupyter-widgets/controls",
      "model_module_version": "1.5.0",
      "model_name": "ButtonModel",
      "state": {
       "icon": "eye-slash",
       "layout": "IPY_MODEL_534b241aec874fc6beaa75fe6f04e318",
       "style": "IPY_MODEL_d2a807691d4e4943914307f3c784d109",
       "tooltip": "removes temporary output view"
      }
     },
     "14213c6afdb54790b04606f0a019e32f": {
      "model_module": "@jupyter-widgets/controls",
      "model_module_version": "1.5.0",
      "model_name": "TextModel",
      "state": {
       "layout": "IPY_MODEL_1956057bd0d54e85b2929274038b7e1f",
       "placeholder": "output filename",
       "style": "IPY_MODEL_c3503e2c958545259e399082ddd3d132"
      }
     },
     "14268e3a3c2147f4b1017664b6b32622": {
      "model_module": "@jupyter-widgets/controls",
      "model_module_version": "1.5.0",
      "model_name": "HBoxModel",
      "state": {
       "children": [
        "IPY_MODEL_40e2d3213aa046dbb84f3e418385b3fb",
        "IPY_MODEL_596caa5934f24f418c677c68c2f15fef"
       ],
       "layout": "IPY_MODEL_f9702d838c4b45cd9b2c36bee6802173"
      }
     },
     "143a0d0ba71448468004e2d516d1d164": {
      "model_module": "@jupyter-widgets/base",
      "model_module_version": "1.2.0",
      "model_name": "LayoutModel",
      "state": {}
     },
     "1446d96b5f854747b207ac2a21d6fbb3": {
      "model_module": "@jupyter-widgets/controls",
      "model_module_version": "1.5.0",
      "model_name": "HTMLModel",
      "state": {
       "layout": "IPY_MODEL_be0e08ef30d746b1b87e7e3c24b63fae",
       "style": "IPY_MODEL_f2aeff6bf1d447e3a3e238a335f7195f",
       "value": "<p>label</p>"
      }
     },
     "148d6bad3b7a44aba745cd89772c3c0e": {
      "model_module": "@jupyter-widgets/controls",
      "model_module_version": "1.5.0",
      "model_name": "ButtonStyleModel",
      "state": {
       "font_weight": "bold"
      }
     },
     "149263cb84b84d21a9e39516c9d72613": {
      "model_module": "@jupyter-widgets/base",
      "model_module_version": "1.2.0",
      "model_name": "LayoutModel",
      "state": {}
     },
     "14b46f8849994dd18045f010105109de": {
      "model_module": "@jupyter-widgets/base",
      "model_module_version": "1.2.0",
      "model_name": "LayoutModel",
      "state": {}
     },
     "14dc11aabde343178717a38cd178c14a": {
      "model_module": "@jupyter-widgets/controls",
      "model_module_version": "1.5.0",
      "model_name": "ButtonModel",
      "state": {
       "button_style": "success",
       "description": "save changes",
       "layout": "IPY_MODEL_6871faee495d494391a776aa17db2b88",
       "style": "IPY_MODEL_13df4a90450a4ee3afea41659d34f355"
      }
     },
     "14f9d5e552e94c5fbc5600726aa29d07": {
      "model_module": "@jupyter-widgets/controls",
      "model_module_version": "1.5.0",
      "model_name": "DescriptionStyleModel",
      "state": {
       "description_width": ""
      }
     },
     "1500c52663334de9b96b665d7e664e38": {
      "model_module": "@jupyter-widgets/base",
      "model_module_version": "1.2.0",
      "model_name": "LayoutModel",
      "state": {}
     },
     "1505cbc7dd96437096638b9409d6ac20": {
      "model_module": "@jupyter-widgets/base",
      "model_module_version": "1.2.0",
      "model_name": "LayoutModel",
      "state": {}
     },
     "150b9e44a15345c18eeb937efddb7eba": {
      "model_module": "@jupyter-widgets/controls",
      "model_module_version": "1.5.0",
      "model_name": "VBoxModel",
      "state": {
       "children": [
        "IPY_MODEL_70e9eebff6944bc2bb38df1b94f004be",
        "IPY_MODEL_7b2066c54bce426cac5335fd811fcb7b",
        "IPY_MODEL_beb01abba1084007ab35f9e0a786a1aa"
       ],
       "layout": "IPY_MODEL_2aa685b61cad49839589d5d20ebc6a08"
      }
     },
     "153ae03edb0947eb9b2db7bc74eb95e7": {
      "model_module": "@jupyter-widgets/controls",
      "model_module_version": "1.5.0",
      "model_name": "DropdownModel",
      "state": {
       "_options_labels": [
        "asfd",
        "10",
        "asdf"
       ],
       "index": 1,
       "layout": "IPY_MODEL_79282736519d40838b0a5fd49cb73370",
       "style": "IPY_MODEL_9569bf835af64807a5b8b2e8d6e634cb"
      }
     },
     "1547574ce5294be3a8040b3e64965527": {
      "model_module": "@jupyter-widgets/controls",
      "model_module_version": "1.5.0",
      "model_name": "DescriptionStyleModel",
      "state": {
       "description_width": ""
      }
     },
     "158eb91f91d841bcb4daca2da4c47c78": {
      "model_module": "@jupyter-widgets/base",
      "model_module_version": "1.2.0",
      "model_name": "LayoutModel",
      "state": {}
     },
     "15d3f644af3f42598291ba995ec6b50f": {
      "model_module": "@jupyter-widgets/base",
      "model_module_version": "1.2.0",
      "model_name": "LayoutModel",
      "state": {}
     },
     "15e30bcbf4b344e28242f666bb9216c4": {
      "model_module": "@jupyter-widgets/base",
      "model_module_version": "1.2.0",
      "model_name": "LayoutModel",
      "state": {}
     },
     "15e3ea4174eb4c52a6eb1f67e44e03cf": {
      "model_module": "@jupyter-widgets/controls",
      "model_module_version": "1.5.0",
      "model_name": "HTMLModel",
      "state": {
       "layout": "IPY_MODEL_13fe7ff447e442a190214bcfbe0b7c52",
       "style": "IPY_MODEL_de999ccb7fef4792b4f85d01cdbe6dfa",
       "value": "<p>spc_name_index</p>"
      }
     },
     "1620c50430804eb48388e8b3de757ea0": {
      "model_module": "@jupyter-widgets/controls",
      "model_module_version": "1.5.0",
      "model_name": "DescriptionStyleModel",
      "state": {
       "description_width": ""
      }
     },
     "162bd60bb814459fa27f1a048b2ead9e": {
      "model_module": "@jupyter-widgets/controls",
      "model_module_version": "1.5.0",
      "model_name": "TextModel",
      "state": {
       "layout": "IPY_MODEL_ea83137e5cb14ca3a87ea29f4495cc42",
       "placeholder": "output filename",
       "style": "IPY_MODEL_5b3f9c126c1a4d5db6615c05b79f3af4",
       "value": "inputs-gbxml.json"
      }
     },
     "1683f275434c4df5bcd4808830a2a113": {
      "model_module": "@jupyter-widgets/base",
      "model_module_version": "1.2.0",
      "model_name": "LayoutModel",
      "state": {
       "align_items": "stretch",
       "display": "flex",
       "flex_flow": "row",
       "grid_auto_columns": "True",
       "justify_content": "flex-end",
       "width": "90%"
      }
     },
     "16d82d386d5d46ab974004829bd6f2cc": {
      "model_module": "@jupyter-widgets/controls",
      "model_module_version": "1.5.0",
      "model_name": "HBoxModel",
      "state": {
       "children": [
        "IPY_MODEL_d553bc2e8d5747929d8f13505fbc27ec",
        "IPY_MODEL_b86a225a68e445d2b7c148c0de6288e7"
       ],
       "layout": "IPY_MODEL_6621ac95bf13445c882ae27652cdce46"
      }
     },
     "1702c7cea51c4926b981c82159746357": {
      "model_module": "@jupyter-widgets/output",
      "model_module_version": "1.0.0",
      "model_name": "OutputModel",
      "state": {
       "layout": "IPY_MODEL_7c3d29c1039949f693b3c799ba9124a5"
      }
     },
     "170ad5d0004b45ba97da40dd7522b1f5": {
      "model_module": "@jupyter-widgets/base",
      "model_module_version": "1.2.0",
      "model_name": "LayoutModel",
      "state": {
       "align_items": "stretch",
       "display": "flex",
       "flex_flow": "row",
       "grid_auto_columns": "True",
       "justify_content": "flex-start",
       "width": "80%"
      }
     },
     "170da643cf4449248140780d5a36d0d5": {
      "model_module": "@jupyter-widgets/controls",
      "model_module_version": "1.5.0",
      "model_name": "TextModel",
      "state": {
       "layout": "IPY_MODEL_4afdef22127b4150b3acb88847679c8b",
       "style": "IPY_MODEL_a2aa26a7152c4fb6872b1b78aeff0aae",
       "value": "C:\\engDev\\git_mf\\MF_Toolbox\\dev\\examples\\gbxml\\105_LiveseyExchange_heatpump-normal-fabric.xml"
      }
     },
     "171ad0f7917b41e9b8f0a8b0c338b6e5": {
      "model_module": "@jupyter-widgets/controls",
      "model_module_version": "1.5.0",
      "model_name": "HBoxModel",
      "state": {
       "children": [
        "IPY_MODEL_eb8d3de04f6e4d84989817f3cdd56c37",
        "IPY_MODEL_0147b7854dc04b99b3f85935b85af9d0"
       ],
       "layout": "IPY_MODEL_d6aff8d6a65046d7a6c4ce261d22fdb8"
      }
     },
     "171cd70020ec428699980341cad82182": {
      "model_module": "@jupyter-widgets/controls",
      "model_module_version": "1.5.0",
      "model_name": "HBoxModel",
      "state": {
       "children": [
        "IPY_MODEL_8c98546999984253b3b0f2015a7ec2ac",
        "IPY_MODEL_14268e3a3c2147f4b1017664b6b32622"
       ],
       "layout": "IPY_MODEL_7417db29eb534dc9af71594617f69bf9"
      }
     },
     "1731ee3bb99248c584adfd6b72470a6c": {
      "model_module": "@jupyter-widgets/base",
      "model_module_version": "1.2.0",
      "model_name": "LayoutModel",
      "state": {}
     },
     "175a2976e8a4436586a20e8d99309451": {
      "model_module": "@jupyter-widgets/controls",
      "model_module_version": "1.5.0",
      "model_name": "DescriptionStyleModel",
      "state": {
       "description_width": ""
      }
     },
     "175d8d9c625f42c6a9064a7b9b865cf2": {
      "model_module": "@jupyter-widgets/controls",
      "model_module_version": "1.5.0",
      "model_name": "DescriptionStyleModel",
      "state": {
       "description_width": ""
      }
     },
     "17665be58b604b5caa86a2980e3eb7c4": {
      "model_module": "@jupyter-widgets/base",
      "model_module_version": "1.2.0",
      "model_name": "LayoutModel",
      "state": {
       "align_items": "stretch",
       "display": "flex",
       "flex_flow": "row",
       "grid_auto_columns": "True",
       "justify_content": "flex-end",
       "width": "90%"
      }
     },
     "1798fc5390f340e5ad77e87f86f9bb7d": {
      "model_module": "@jupyter-widgets/controls",
      "model_module_version": "1.5.0",
      "model_name": "DescriptionStyleModel",
      "state": {
       "description_width": ""
      }
     },
     "17a06e596859485e9c711d2bbec537d7": {
      "model_module": "@jupyter-widgets/controls",
      "model_module_version": "1.5.0",
      "model_name": "DescriptionStyleModel",
      "state": {
       "description_width": ""
      }
     },
     "17a8c24ec46d4667b5731e00dab71aed": {
      "model_module": "@jupyter-widgets/base",
      "model_module_version": "1.2.0",
      "model_name": "LayoutModel",
      "state": {}
     },
     "17dc5d3041fc4668bb84c0fbc24b899d": {
      "model_module": "@jupyter-widgets/controls",
      "model_module_version": "1.5.0",
      "model_name": "DescriptionStyleModel",
      "state": {
       "description_width": ""
      }
     },
     "18147843753c43d18024c829cb052eb3": {
      "model_module": "@jupyter-widgets/controls",
      "model_module_version": "1.5.0",
      "model_name": "HBoxModel",
      "state": {
       "children": [
        "IPY_MODEL_78b5edafbbbb40dcb1d558c0e43a41be",
        "IPY_MODEL_13e57fef21d64a4b81940fb9a0d83afe"
       ],
       "layout": "IPY_MODEL_19a5c428c54d4a1aa9e8cb74bfc6e312"
      }
     },
     "1830997f05c549688e916b5e4db0f8ab": {
      "model_module": "@jupyter-widgets/controls",
      "model_module_version": "1.5.0",
      "model_name": "HTMLModel",
      "state": {
       "layout": "IPY_MODEL_02a2ce34197b4dbc91e028c5000504bd",
       "style": "IPY_MODEL_5641c9811b174578a4357dcdde591451",
       "value": "<p>its a foo cake</p>"
      }
     },
     "1849e04241e5405783cf23573656a140": {
      "model_module": "@jupyter-widgets/output",
      "model_module_version": "1.0.0",
      "model_name": "OutputModel",
      "state": {
       "layout": "IPY_MODEL_becbd4cb0aef4a599a073e3d4ce737e0"
      }
     },
     "187d5c4cdeb34a7ebf9b11f0c0ecabbd": {
      "model_module": "@jupyter-widgets/base",
      "model_module_version": "1.2.0",
      "model_name": "LayoutModel",
      "state": {
       "align_items": "stretch",
       "display": "flex",
       "flex_flow": "row",
       "grid_auto_columns": "True",
       "justify_content": "flex-start",
       "width": "80%"
      }
     },
     "188d28486ddc4ed29550f21b0e82fa0e": {
      "model_module": "@jupyter-widgets/controls",
      "model_module_version": "1.5.0",
      "model_name": "HBoxModel",
      "state": {
       "children": [
        "IPY_MODEL_c5f9b5ed3ab141c8aa12e5be6f46416d"
       ],
       "layout": "IPY_MODEL_97fea44fceaf45c39f86278dc7bc11aa"
      }
     },
     "1897834605c6489fa905105dab3c50b7": {
      "model_module": "@jupyter-widgets/controls",
      "model_module_version": "1.5.0",
      "model_name": "HTMLModel",
      "state": {
       "layout": "IPY_MODEL_c59cf40f3faf40f2acb38fa5dcda8993",
       "style": "IPY_MODEL_529163a19b21438abecea3f6d5190445",
       "value": "<p>reus foo ous oo ous foo st</p>"
      }
     },
     "1899fa2f0aa7405b88ae37ef10f94f5f": {
      "model_module": "@jupyter-widgets/base",
      "model_module_version": "1.2.0",
      "model_name": "LayoutModel",
      "state": {}
     },
     "18ab47523bee4b3793fd08718984f8e8": {
      "model_module": "@jupyter-widgets/controls",
      "model_module_version": "1.5.0",
      "model_name": "HBoxModel",
      "state": {
       "children": [
        "IPY_MODEL_6061d4bf62b345949bfe1cfe0a99399c",
        "IPY_MODEL_bc48c142c39047628eb49e622aabcc8a"
       ],
       "layout": "IPY_MODEL_1fe120b7817a485aa9d3c3c4ccd54d20"
      }
     },
     "18b2099ea88942efa34d666012973b78": {
      "model_module": "@jupyter-widgets/base",
      "model_module_version": "1.2.0",
      "model_name": "LayoutModel",
      "state": {
       "align_items": "stretch",
       "display": "flex",
       "flex_flow": "row",
       "grid_auto_columns": "True",
       "justify_content": "flex-start",
       "width": "80%"
      }
     },
     "18c2e442d16948c89cf0df9fa4e54c39": {
      "model_module": "@jupyter-widgets/controls",
      "model_module_version": "1.5.0",
      "model_name": "HTMLModel",
      "state": {
       "layout": "IPY_MODEL_90d7f4135dbc4317a7ca04498d1b9b41",
       "style": "IPY_MODEL_134418d23940457cb5460c50c1ee5baa",
       "value": "<p>its a foo cake</p>"
      }
     },
     "18f46608ac194bb596557e1027dd9c4f": {
      "model_module": "@jupyter-widgets/base",
      "model_module_version": "1.2.0",
      "model_name": "LayoutModel",
      "state": {}
     },
     "19096d381c964f76b3ebfdd9caa752f4": {
      "model_module": "@jupyter-widgets/base",
      "model_module_version": "1.2.0",
      "model_name": "LayoutModel",
      "state": {}
     },
     "19453853229b4e9699796b53c609798b": {
      "model_module": "@jupyter-widgets/output",
      "model_module_version": "1.0.0",
      "model_name": "OutputModel",
      "state": {
       "layout": "IPY_MODEL_7059bb475e4f4ebba410db957a1dc075"
      }
     },
     "1946d115239a4f7c8bb8f20a1209a2f0": {
      "model_module": "@jupyter-widgets/output",
      "model_module_version": "1.0.0",
      "model_name": "OutputModel",
      "state": {
       "layout": "IPY_MODEL_60bd336aeedf424097f2816b72917a4c"
      }
     },
     "19540249b90d4d4ca8828407eae53036": {
      "model_module": "@jupyter-widgets/base",
      "model_module_version": "1.2.0",
      "model_name": "LayoutModel",
      "state": {
       "grid_area": "pathlist",
       "width": "auto"
      }
     },
     "1956057bd0d54e85b2929274038b7e1f": {
      "model_module": "@jupyter-widgets/base",
      "model_module_version": "1.2.0",
      "model_name": "LayoutModel",
      "state": {
       "grid_area": "filename",
       "width": "auto"
      }
     },
     "19692397ca1a4c13a08c217d5b06d36d": {
      "model_module": "@jupyter-widgets/base",
      "model_module_version": "1.2.0",
      "model_name": "LayoutModel",
      "state": {}
     },
     "196f860760b44eca902b51f79231647b": {
      "model_module": "@jupyter-widgets/output",
      "model_module_version": "1.0.0",
      "model_name": "OutputModel",
      "state": {
       "layout": "IPY_MODEL_d6c1907936e244278316dd5b4dcc341f"
      }
     },
     "1992b0b5f1a04c38851df727b0fee33c": {
      "model_module": "@jupyter-widgets/base",
      "model_module_version": "1.2.0",
      "model_name": "LayoutModel",
      "state": {}
     },
     "19a5c428c54d4a1aa9e8cb74bfc6e312": {
      "model_module": "@jupyter-widgets/base",
      "model_module_version": "1.2.0",
      "model_name": "LayoutModel",
      "state": {
       "align_items": "stretch",
       "display": "flex",
       "flex_flow": "row",
       "grid_auto_columns": "True",
       "justify_content": "flex-end",
       "width": "90%"
      }
     },
     "19b172a07f5e4433b2aea02c811109f7": {
      "model_module": "@jupyter-widgets/base",
      "model_module_version": "1.2.0",
      "model_name": "LayoutModel",
      "state": {}
     },
     "19d5e3b691db44bf919d3f9b44261b70": {
      "model_module": "@jupyter-widgets/controls",
      "model_module_version": "1.5.0",
      "model_name": "HTMLModel",
      "state": {
       "layout": "IPY_MODEL_4cfc13a92e654560a5fc42bc4a19874f",
       "style": "IPY_MODEL_e4f5270caf594191a5b9bd8dfba93d1c",
       "value": "<p>label</p>"
      }
     },
     "1a1708f124cd452b91a52dcb1a59e475": {
      "model_module": "@jupyter-widgets/controls",
      "model_module_version": "1.5.0",
      "model_name": "HBoxModel",
      "state": {
       "children": [
        "IPY_MODEL_8810f3b33f594ea58bdf6b08f83e04d9"
       ],
       "layout": "IPY_MODEL_a8b78f23d44045b792176e70e225e200"
      }
     },
     "1a1ef3f3b0fd4281b172a6e8056dbf61": {
      "model_module": "@jupyter-widgets/controls",
      "model_module_version": "1.5.0",
      "model_name": "HBoxModel",
      "state": {
       "children": [
        "IPY_MODEL_739ea1bc898b40749f458a2bc828418a",
        "IPY_MODEL_4d1f052727864c769bb42294a8f736b5"
       ],
       "layout": "IPY_MODEL_7aa25c74fcc04ee188d092e59b2742ef"
      }
     },
     "1a2f0d50d28041ec982bc6323f39c3fc": {
      "model_module": "@jupyter-widgets/controls",
      "model_module_version": "1.5.0",
      "model_name": "HBoxModel",
      "state": {
       "children": [
        "IPY_MODEL_ec8188a8ac9e4a94b038a7dddb352a64",
        "IPY_MODEL_32ec2a0d18134861a51397413ef9cdc7",
        "IPY_MODEL_ae39f603ea4b4ac4a530dced1ff4b3a5"
       ],
       "layout": "IPY_MODEL_c2ca0a0ceabc4112a1fd8c5b5c013ae2"
      }
     },
     "1a4368ba66f54ffa9884f3dbc0c321ac": {
      "model_module": "@jupyter-widgets/base",
      "model_module_version": "1.2.0",
      "model_name": "LayoutModel",
      "state": {
       "align_items": "stretch",
       "display": "flex",
       "flex_flow": "row",
       "grid_auto_columns": "True",
       "justify_content": "flex-start",
       "width": "80%"
      }
     },
     "1a55efc7a04948d6b4fff2df31cbdbb7": {
      "model_module": "@jupyter-widgets/controls",
      "model_module_version": "1.5.0",
      "model_name": "ToggleButtonModel",
      "state": {
       "icon": "arrow-down",
       "layout": "IPY_MODEL_5785a5c149f04cc2b6d12a89570eada1",
       "style": "IPY_MODEL_761e6054b43e44279ebe70a535664110"
      }
     },
     "1ab2bc15e0fe467d8948a0c2b10e74cc": {
      "model_module": "@jupyter-widgets/controls",
      "model_module_version": "1.5.0",
      "model_name": "HBoxModel",
      "state": {
       "children": [
        "IPY_MODEL_23e68d3d32e44d10bc75a3ef2b8a70a4",
        "IPY_MODEL_284718c2c6bf4cca8dc1eb1f73d65fec"
       ],
       "layout": "IPY_MODEL_4acc7edc5662441fbac85ab2e486c48e"
      }
     },
     "1ab4678786454b26bf186ac729cd1392": {
      "model_module": "@jupyter-widgets/base",
      "model_module_version": "1.2.0",
      "model_name": "LayoutModel",
      "state": {
       "width": "auto"
      }
     },
     "1ac4695e39ab4809a447176be4392716": {
      "model_module": "@jupyter-widgets/controls",
      "model_module_version": "1.5.0",
      "model_name": "HBoxModel",
      "state": {
       "children": [
        "IPY_MODEL_2e56a495eecf4b50a91d17615023986e",
        "IPY_MODEL_77ffd893bf4140fc99e2dcfc891f1109"
       ],
       "layout": "IPY_MODEL_60eb63c3909e480bb82b6fc8b6ac5feb"
      }
     },
     "1ae7897afb3a4b20bd9d3e83bf740e5d": {
      "model_module": "@jupyter-widgets/controls",
      "model_module_version": "1.5.0",
      "model_name": "DescriptionStyleModel",
      "state": {
       "description_width": ""
      }
     },
     "1af40dcd3ad2431ba7b724024fcfdd57": {
      "model_module": "@jupyter-widgets/base",
      "model_module_version": "1.2.0",
      "model_name": "LayoutModel",
      "state": {
       "width": "100%"
      }
     },
     "1b197f8c8b76482b8e113258d58f075f": {
      "model_module": "@jupyter-widgets/base",
      "model_module_version": "1.2.0",
      "model_name": "LayoutModel",
      "state": {
       "align_items": "stretch",
       "border": "dashed 0.2px green",
       "display": "flex",
       "flex_flow": "row",
       "grid_auto_columns": "True",
       "justify_content": "flex-start",
       "width": "100%"
      }
     },
     "1b21255fb97a416f907621a36a677bb1": {
      "model_module": "@jupyter-widgets/output",
      "model_module_version": "1.0.0",
      "model_name": "OutputModel",
      "state": {
       "layout": "IPY_MODEL_72517547d062477a8e1c4d06d2a4f51a"
      }
     },
     "1b3bcec649894c4288d28d901cafa7e6": {
      "model_module": "@jupyter-widgets/controls",
      "model_module_version": "1.5.0",
      "model_name": "ButtonStyleModel",
      "state": {
       "font_weight": "bold"
      }
     },
     "1b545cb0fadf4c438505dda1d962d1e8": {
      "model_module": "@jupyter-widgets/base",
      "model_module_version": "1.2.0",
      "model_name": "LayoutModel",
      "state": {}
     },
     "1b86eb88470b42a2baef6af21f49de11": {
      "model_module": "@jupyter-widgets/base",
      "model_module_version": "1.2.0",
      "model_name": "LayoutModel",
      "state": {}
     },
     "1be424d037e94584821aa6fb5527407b": {
      "model_module": "@jupyter-widgets/controls",
      "model_module_version": "1.5.0",
      "model_name": "DescriptionStyleModel",
      "state": {
       "description_width": ""
      }
     },
     "1bea95ddeb7e4650b3be274a1690d2c5": {
      "model_module": "@jupyter-widgets/base",
      "model_module_version": "1.2.0",
      "model_name": "LayoutModel",
      "state": {}
     },
     "1c032f36ef57422f8bf3cda4a2e377d2": {
      "model_module": "@jupyter-widgets/base",
      "model_module_version": "1.2.0",
      "model_name": "LayoutModel",
      "state": {}
     },
     "1c05c2c0edf04332993a6aa12737c312": {
      "model_module": "@jupyter-widgets/controls",
      "model_module_version": "1.5.0",
      "model_name": "DescriptionStyleModel",
      "state": {
       "description_width": ""
      }
     },
     "1c2058cfe4ee4267a5f4547949f2967c": {
      "model_module": "@jupyter-widgets/controls",
      "model_module_version": "1.5.0",
      "model_name": "DatePickerModel",
      "state": {
       "disabled": false,
       "layout": "IPY_MODEL_b183efed72a84c359de30f8b63592949",
       "style": "IPY_MODEL_ef5422d50ceb4df580378a0c0a567e74",
       "value": {
        "date": 29,
        "month": 5,
        "year": 2020
       }
      }
     },
     "1c501885d66c4be2be1a1cbb5d449c06": {
      "model_module": "@jupyter-widgets/controls",
      "model_module_version": "1.5.0",
      "model_name": "DescriptionStyleModel",
      "state": {
       "description_width": ""
      }
     },
     "1c9149f43d924acd961d752c0f3c27b1": {
      "model_module": "@jupyter-widgets/controls",
      "model_module_version": "1.5.0",
      "model_name": "DescriptionStyleModel",
      "state": {
       "description_width": ""
      }
     },
     "1c9ea9321ab746248b4d4a16c611c980": {
      "model_module": "@jupyter-widgets/base",
      "model_module_version": "1.2.0",
      "model_name": "LayoutModel",
      "state": {}
     },
     "1c9f6978f2e643e9a2f62c4b9467b1e7": {
      "model_module": "@jupyter-widgets/base",
      "model_module_version": "1.2.0",
      "model_name": "LayoutModel",
      "state": {}
     },
     "1cc1b15143bc4a1690f5c0c41bfcdbad": {
      "model_module": "@jupyter-widgets/base",
      "model_module_version": "1.2.0",
      "model_name": "LayoutModel",
      "state": {}
     },
     "1cdc4ad296894b92855f9cce8d942ee0": {
      "model_module": "@jupyter-widgets/controls",
      "model_module_version": "1.5.0",
      "model_name": "HBoxModel",
      "state": {
       "children": [
        "IPY_MODEL_0964ac712e264afdb9b173afe038f781",
        "IPY_MODEL_75401e227ea34e66a915cad17bab18b3"
       ],
       "layout": "IPY_MODEL_d25d360b79a44204b620647434ae1a40"
      }
     },
     "1d0a5b17d42e4203bd9eb129a683af7b": {
      "model_module": "@jupyter-widgets/controls",
      "model_module_version": "1.5.0",
      "model_name": "HTMLModel",
      "state": {
       "layout": "IPY_MODEL_b8e9f50092294cb5afcb7b42799279d9",
       "style": "IPY_MODEL_43968b8f79384978b0a853b8de2eab62",
       "value": "<p>name</p>"
      }
     },
     "1d1b212eb6cf404da62b46b436bd9070": {
      "model_module": "@jupyter-widgets/controls",
      "model_module_version": "1.5.0",
      "model_name": "HTMLModel",
      "state": {
       "layout": "IPY_MODEL_53c2cee464c84d97928458b5f089a85c",
       "style": "IPY_MODEL_f7108c0fc9fa468aa723ad24c384d412"
      }
     },
     "1d6c076e1d8948d99df6ad6cb0dbed4b": {
      "model_module": "@jupyter-widgets/controls",
      "model_module_version": "1.5.0",
      "model_name": "ButtonModel",
      "state": {
       "button_style": "success",
       "description": "save changes",
       "layout": "IPY_MODEL_5e2373d2ebc8448eb94481a6dc276110",
       "style": "IPY_MODEL_710d1e529aab41398427c6479f7ac781"
      }
     },
     "1d9daeec252c4602b112d0f2e3f9284a": {
      "model_module": "@jupyter-widgets/base",
      "model_module_version": "1.2.0",
      "model_name": "LayoutModel",
      "state": {}
     },
     "1da8b50ced7d452d9cbf54ceede74ef9": {
      "model_module": "@jupyter-widgets/controls",
      "model_module_version": "1.5.0",
      "model_name": "DescriptionStyleModel",
      "state": {
       "description_width": ""
      }
     },
     "1dfa6307a82f4fee814ce083db254def": {
      "model_module": "@jupyter-widgets/controls",
      "model_module_version": "1.5.0",
      "model_name": "HBoxModel",
      "state": {
       "children": [
        "IPY_MODEL_7a4daebd329c40bc90b6c779e1d569e0",
        "IPY_MODEL_c3d1d255f8a745dab4d66474f3130601"
       ],
       "layout": "IPY_MODEL_0525c8e3cc6e409aa77fd278ffb472d9"
      }
     },
     "1e2bbeb6d5c44954a95269405a13bc34": {
      "model_module": "@jupyter-widgets/controls",
      "model_module_version": "1.5.0",
      "model_name": "HTMLModel",
      "state": {
       "layout": "IPY_MODEL_e440b7ffbf724b0f9728ea2662c0c1e8",
       "style": "IPY_MODEL_4b5d0e616b2e4e78b8cd29768f9ab351",
       "value": "<p>label</p>"
      }
     },
     "1e400ea4fd504239b5dd48f9cb17f133": {
      "model_module": "@jupyter-widgets/controls",
      "model_module_version": "1.5.0",
      "model_name": "SelectModel",
      "state": {
       "_options_labels": [
        "..",
        "archive",
        "inputs-docx_to_pdf.json",
        "inputs-eplus_pipework_params-1.csv",
        "inputs-eplus_pipework_params.csv",
        "inputs-gbxml.json",
        "test-1.json",
        "test-derived-val.json",
        "test.json"
       ],
       "index": null,
       "layout": "IPY_MODEL_8838055aac5c44129b25b9da083923bb",
       "rows": 8,
       "style": "IPY_MODEL_0a18bc118b274575a2efe86782828fd5"
      }
     },
     "1e445d22d5bb47e6934c0a172855a716": {
      "model_module": "@jupyter-widgets/output",
      "model_module_version": "1.0.0",
      "model_name": "OutputModel",
      "state": {
       "layout": "IPY_MODEL_f0de179b5fb8480c8081688f4e1cb5b4"
      }
     },
     "1e91291f08e24ed9b7a0286d062ef704": {
      "model_module": "@jupyter-widgets/output",
      "model_module_version": "1.0.0",
      "model_name": "OutputModel",
      "state": {
       "layout": "IPY_MODEL_d593715c58c6494187939852e5e913f8"
      }
     },
     "1ea1768efe694cafad57731c5db3cec4": {
      "model_module": "@jupyter-widgets/controls",
      "model_module_version": "1.5.0",
      "model_name": "DescriptionStyleModel",
      "state": {
       "description_width": ""
      }
     },
     "1eaa1d2715bf4963bfcec22666e49667": {
      "model_module": "@jupyter-widgets/base",
      "model_module_version": "1.2.0",
      "model_name": "LayoutModel",
      "state": {}
     },
     "1ec3994b297640f69a292870878a90a6": {
      "model_module": "@jupyter-widgets/controls",
      "model_module_version": "1.5.0",
      "model_name": "CheckboxModel",
      "state": {
       "disabled": false,
       "layout": "IPY_MODEL_8230799ec5d94e54af8353e20c6ba93f",
       "style": "IPY_MODEL_3cb2b0566b684daca53415e768fae588",
       "value": false
      }
     },
     "1ee69c78864547628389982d708da5fa": {
      "model_module": "@jupyter-widgets/controls",
      "model_module_version": "1.5.0",
      "model_name": "DescriptionStyleModel",
      "state": {
       "description_width": ""
      }
     },
     "1ef42eb4fb704bb8beb2007633743b52": {
      "model_module": "@jupyter-widgets/base",
      "model_module_version": "1.2.0",
      "model_name": "LayoutModel",
      "state": {}
     },
     "1f1e35b015b947538de8c0c0a2645e37": {
      "model_module": "@jupyter-widgets/controls",
      "model_module_version": "1.5.0",
      "model_name": "DescriptionStyleModel",
      "state": {
       "description_width": ""
      }
     },
     "1f5a81fa4fbd42dba5de5f19ccbe974e": {
      "model_module": "@jupyter-widgets/controls",
      "model_module_version": "1.5.0",
      "model_name": "HTMLModel",
      "state": {
       "layout": "IPY_MODEL_42326aed86b84ac2ad38d1b4a3b4cdca",
       "style": "IPY_MODEL_7a5e4a1b0aed4e99981677dde40c00c0",
       "value": "<p>its a foo cake</p>"
      }
     },
     "1f65e1a055114a718d5e8fc642ee1d95": {
      "model_module": "@jupyter-widgets/controls",
      "model_module_version": "1.5.0",
      "model_name": "ToggleButtonModel",
      "state": {
       "button_style": "info",
       "description": "inputs from file",
       "layout": "IPY_MODEL_19692397ca1a4c13a08c217d5b06d36d",
       "style": "IPY_MODEL_d1556ea2d8a1462ebfb602407837b385"
      }
     },
     "1fb03d5d9855416ead3050fe27a61d7e": {
      "model_module": "@jupyter-widgets/controls",
      "model_module_version": "1.5.0",
      "model_name": "DescriptionStyleModel",
      "state": {
       "description_width": ""
      }
     },
     "1fc4608babe2480bbd419c8a25fb60fa": {
      "model_module": "@jupyter-widgets/controls",
      "model_module_version": "1.5.0",
      "model_name": "DescriptionStyleModel",
      "state": {
       "description_width": ""
      }
     },
     "1fdeb1960657403caa5efe289e09cfcb": {
      "model_module": "@jupyter-widgets/base",
      "model_module_version": "1.2.0",
      "model_name": "LayoutModel",
      "state": {
       "align_items": "stretch",
       "border": "dashed 0.2px green",
       "display": "flex",
       "flex_flow": "row",
       "grid_auto_columns": "True",
       "justify_content": "flex-start",
       "width": "100%"
      }
     },
     "1fe120b7817a485aa9d3c3c4ccd54d20": {
      "model_module": "@jupyter-widgets/base",
      "model_module_version": "1.2.0",
      "model_name": "LayoutModel",
      "state": {
       "align_items": "stretch",
       "display": "flex",
       "flex_flow": "row",
       "grid_auto_columns": "True",
       "justify_content": "flex-end",
       "width": "90%"
      }
     },
     "1fed6eac760d4de28942f69c26f4e4b8": {
      "model_module": "@jupyter-widgets/base",
      "model_module_version": "1.2.0",
      "model_name": "LayoutModel",
      "state": {}
     },
     "1ff17feeaa504672b4f68ce2ba66e803": {
      "model_module": "@jupyter-widgets/controls",
      "model_module_version": "1.5.0",
      "model_name": "HBoxModel",
      "state": {
       "children": [
        "IPY_MODEL_75d052c3478b4673a5009c621e0b60da"
       ],
       "layout": "IPY_MODEL_37abb62254b84791ad1725b8a8212b9d"
      }
     },
     "2017f93fdac441aea8690fcee7564f76": {
      "model_module": "@jupyter-widgets/controls",
      "model_module_version": "1.5.0",
      "model_name": "ButtonModel",
      "state": {
       "button_style": "success",
       "description": "run",
       "layout": "IPY_MODEL_b790a2d2110145e0886c75b87ad4c694",
       "style": "IPY_MODEL_c633affc91c04239925eb6e3998bdb43",
       "tooltip": "execute the script based on the user inputs"
      }
     },
     "204f33d36b444e9c977a491d3f3f4ee7": {
      "model_module": "@jupyter-widgets/base",
      "model_module_version": "1.2.0",
      "model_name": "LayoutModel",
      "state": {}
     },
     "205225e53297477899c576d51803b6bf": {
      "model_module": "@jupyter-widgets/controls",
      "model_module_version": "1.5.0",
      "model_name": "ButtonModel",
      "state": {
       "button_style": "info",
       "description": "preview outputs",
       "layout": "IPY_MODEL_37e95e72d0984213946025048c0e7689",
       "style": "IPY_MODEL_e139b57dd65444d8a2a6eda3c22cf652",
       "tooltip": "show a preview of the output files generated when the script runs"
      }
     },
     "2054bf2fcd604a538e99041f72c19181": {
      "model_module": "@jupyter-widgets/output",
      "model_module_version": "1.0.0",
      "model_name": "OutputModel",
      "state": {
       "layout": "IPY_MODEL_6396ea93f189417cae156b357bb36aea"
      }
     },
     "2099975be01e4c958c1541e691048754": {
      "model_module": "@jupyter-widgets/controls",
      "model_module_version": "1.5.0",
      "model_name": "DescriptionStyleModel",
      "state": {
       "description_width": ""
      }
     },
     "20b06572db89421c9a5929e8db564e01": {
      "model_module": "@jupyter-widgets/output",
      "model_module_version": "1.0.0",
      "model_name": "OutputModel",
      "state": {
       "layout": "IPY_MODEL_3bb3b3b941bd4e19b549b07d84be5fec"
      }
     },
     "20b87d592fdf4925936615421478658b": {
      "model_module": "@jupyter-widgets/output",
      "model_module_version": "1.0.0",
      "model_name": "OutputModel",
      "state": {
       "layout": "IPY_MODEL_105bb3f4eccf427f802024786999cff6"
      }
     },
     "20bd2fa3b81842559e8a7d2ea5e4a56c": {
      "model_module": "@jupyter-widgets/controls",
      "model_module_version": "1.5.0",
      "model_name": "DescriptionStyleModel",
      "state": {
       "description_width": ""
      }
     },
     "20ce65d6aa7c4a868a7f48c7acf7fbf0": {
      "model_module": "@jupyter-widgets/controls",
      "model_module_version": "1.5.0",
      "model_name": "HBoxModel",
      "state": {
       "children": [
        "IPY_MODEL_26fee2c0e44d4f959ad713b7418f6d36"
       ],
       "layout": "IPY_MODEL_1b197f8c8b76482b8e113258d58f075f"
      }
     },
     "2110989d8ff5499ea597b87428c6dd2b": {
      "model_module": "@jupyter-widgets/controls",
      "model_module_version": "1.5.0",
      "model_name": "RadioButtonsModel",
      "state": {
       "_options_labels": [
        "TEMPLATE: C:\\engDev\\git_mf\\MF_Toolbox\\dev\\mf_scripts\\template_inputs\\inputs-docx_to_pdf.json",
        "PROJECT: C:\\engDev\\git_mf\\ipyrun\\ipyrun\\appdata\\inputs\\inputs-docx_to_pdf.json",
        "PROJECT: C:\\engDev\\git_mf\\ipyrun\\ipyrun\\appdata\\inputs\\archive\\20200610_1134-jg-inputs-docx_to_pdf.json",
        "PROJECT: C:\\engDev\\git_mf\\ipyrun\\ipyrun\\appdata\\inputs\\archive\\20200610_1139-jg-inputs-docx_to_pdf.json",
        "PROJECT: C:\\engDev\\git_mf\\ipyrun\\ipyrun\\appdata\\inputs\\archive\\20200610_1218-jg-inputs-docx_to_pdf.json",
        "PROJECT: C:\\engDev\\git_mf\\ipyrun\\ipyrun\\appdata\\inputs\\archive\\20200610_1220-jg-inputs-docx_to_pdf.json",
        "PROJECT: C:\\engDev\\git_mf\\ipyrun\\ipyrun\\appdata\\inputs\\archive\\20200610_1221-jg-inputs-docx_to_pdf.json",
        "PROJECT: C:\\engDev\\git_mf\\ipyrun\\ipyrun\\appdata\\inputs\\archive\\20200610_1224-jg-inputs-docx_to_pdf.json",
        "PROJECT: C:\\engDev\\git_mf\\ipyrun\\ipyrun\\appdata\\inputs\\archive\\20200610_1225-jg-inputs-docx_to_pdf.json",
        "PROJECT: C:\\engDev\\git_mf\\ipyrun\\ipyrun\\appdata\\inputs\\archive\\20200610_1244-jg-inputs-docx_to_pdf.json",
        "PROJECT: C:\\engDev\\git_mf\\ipyrun\\ipyrun\\appdata\\inputs\\archive\\20200610_1246-jg-inputs-docx_to_pdf.json",
        "PROJECT: C:\\engDev\\git_mf\\ipyrun\\ipyrun\\appdata\\inputs\\archive\\20200610_1419-jg-inputs-docx_to_pdf.json",
        "PROJECT: C:\\engDev\\git_mf\\ipyrun\\ipyrun\\appdata\\inputs\\archive\\20200610_1420-jg-inputs-docx_to_pdf.json",
        "PROJECT: C:\\engDev\\git_mf\\ipyrun\\ipyrun\\appdata\\inputs\\archive\\20200610_1422-jg-inputs-docx_to_pdf.json",
        "PROJECT: C:\\engDev\\git_mf\\ipyrun\\ipyrun\\appdata\\inputs\\archive\\20200610_1425-jg-inputs-docx_to_pdf.json",
        "PROJECT: C:\\engDev\\git_mf\\ipyrun\\ipyrun\\appdata\\inputs\\archive\\20200610_1853-jg-inputs-docx_to_pdf.json",
        "PROJECT: C:\\engDev\\git_mf\\ipyrun\\ipyrun\\appdata\\inputs\\archive\\20200610_1855-jg-inputs-docx_to_pdf.json",
        "PROJECT: C:\\engDev\\git_mf\\ipyrun\\ipyrun\\appdata\\inputs\\archive\\20200611_0748-jg-inputs-docx_to_pdf.json",
        "PROJECT: C:\\engDev\\git_mf\\ipyrun\\ipyrun\\appdata\\inputs\\archive\\20200611_0754-jg-inputs-docx_to_pdf.json",
        "PROJECT: C:\\engDev\\git_mf\\ipyrun\\ipyrun\\appdata\\inputs\\archive\\20200611_0757-jg-inputs-docx_to_pdf.json",
        "PROJECT: C:\\engDev\\git_mf\\ipyrun\\ipyrun\\appdata\\inputs\\archive\\20200616_1026-jg-inputs-docx_to_pdf.json"
       ],
       "index": 0,
       "layout": "IPY_MODEL_8b2379d11765462cbc9467bf9dc5bc4d",
       "style": "IPY_MODEL_c4b3b515acc74b5c9112c1bd5f8fb5e8"
      }
     },
     "2115714ee8fa4960934da58c731b780a": {
      "model_module": "@jupyter-widgets/controls",
      "model_module_version": "1.5.0",
      "model_name": "HBoxModel",
      "state": {
       "children": [
        "IPY_MODEL_b8b4e7971c8c4409b3ac75b5990b60c6"
       ],
       "layout": "IPY_MODEL_05381f7b9e564e3986285fdfcf02eebe"
      }
     },
     "214f4b5e914844ba9689b4cd17847340": {
      "model_module": "@jupyter-widgets/base",
      "model_module_version": "1.2.0",
      "model_name": "LayoutModel",
      "state": {
       "align_items": "stretch",
       "display": "flex",
       "flex_flow": "row",
       "grid_auto_columns": "True",
       "justify_content": "flex-start",
       "width": "80%"
      }
     },
     "2178a6b3de2d49f4a8018ed9401243d2": {
      "model_module": "@jupyter-widgets/base",
      "model_module_version": "1.2.0",
      "model_name": "LayoutModel",
      "state": {}
     },
     "217d917a292144ff9e7097b333e6e600": {
      "model_module": "@jupyter-widgets/base",
      "model_module_version": "1.2.0",
      "model_name": "LayoutModel",
      "state": {
       "display": "none",
       "grid_gap": "0px 0px",
       "grid_template_areas": "\n                    'pathlist filename'\n                    'dircontent dircontent'\n                    ",
       "grid_template_columns": "60% 40%",
       "grid_template_rows": "auto auto",
       "width": "500px"
      }
     },
     "218285e954c64c2fa6d4a5f387f62a58": {
      "model_module": "@jupyter-widgets/controls",
      "model_module_version": "1.5.0",
      "model_name": "HBoxModel",
      "state": {
       "children": [
        "IPY_MODEL_8a9b164df62f4461b991524fd6f9c2b9",
        "IPY_MODEL_79da3bc6548e4326b9fc170f5c3299f6"
       ],
       "layout": "IPY_MODEL_ee87c22da58649d784a5d2aa617896eb"
      }
     },
     "21bc436a56d3410d89465ccfb02b06bc": {
      "model_module": "@jupyter-widgets/controls",
      "model_module_version": "1.5.0",
      "model_name": "HBoxModel",
      "state": {
       "children": [
        "IPY_MODEL_11c02dedece248d1bafde7b1e8f7ff94",
        "IPY_MODEL_1257910d010a4e4ba18cefe3c4cb4ee1"
       ],
       "layout": "IPY_MODEL_c17786b79a03481e960fed42010486a8"
      }
     },
     "21efbb3e66e548db9eeef5ec6bd40250": {
      "model_module": "@jupyter-widgets/base",
      "model_module_version": "1.2.0",
      "model_name": "LayoutModel",
      "state": {}
     },
     "22170dbf1f33468e990cbc0a71269156": {
      "model_module": "@jupyter-widgets/base",
      "model_module_version": "1.2.0",
      "model_name": "LayoutModel",
      "state": {}
     },
     "222417708fb64666a0537d0a7fb4a95e": {
      "model_module": "@jupyter-widgets/controls",
      "model_module_version": "1.5.0",
      "model_name": "ButtonModel",
      "state": {
       "button_style": "warning",
       "description": "revert to last save",
       "layout": "IPY_MODEL_47172f8e935048d4a035b918200e4c4f",
       "style": "IPY_MODEL_d8126071f65241198d9eaf19585ae85a"
      }
     },
     "223579313e4a4f328ea71a612857c9a1": {
      "model_module": "@jupyter-widgets/base",
      "model_module_version": "1.2.0",
      "model_name": "LayoutModel",
      "state": {}
     },
     "224cf6a32c93456288b2751d16372196": {
      "model_module": "@jupyter-widgets/base",
      "model_module_version": "1.2.0",
      "model_name": "LayoutModel",
      "state": {
       "align_items": "stretch",
       "border": "dashed 0.2px green",
       "display": "flex",
       "flex_flow": "row",
       "grid_auto_columns": "True",
       "justify_content": "flex-start",
       "width": "100%"
      }
     },
     "225a738fafc644639ca37ba2b542f117": {
      "model_module": "@jupyter-widgets/controls",
      "model_module_version": "1.5.0",
      "model_name": "VBoxModel",
      "state": {
       "children": [
        "IPY_MODEL_db355d9091284a9b89ed9e24ca7c88eb",
        "IPY_MODEL_db825153b5cd421c87167be82930ffee"
       ],
       "layout": "IPY_MODEL_8a075eafb10b484db46e3b7dfada4292"
      }
     },
     "225c249eee2c4a36a0bd77e45419314a": {
      "model_module": "@jupyter-widgets/controls",
      "model_module_version": "1.5.0",
      "model_name": "VBoxModel",
      "state": {
       "children": [
        "IPY_MODEL_edadcda829f047f28e1493d93028f147",
        "IPY_MODEL_00894f67c14f401997f168ba99deaa95",
        "IPY_MODEL_c06442cac5d24e74b808573f8abf5469",
        "IPY_MODEL_f02534b995174f5d947b435d79ece215",
        "IPY_MODEL_c50c4e448b5548d9acc8eb7ee5c81389",
        "IPY_MODEL_20ce65d6aa7c4a868a7f48c7acf7fbf0",
        "IPY_MODEL_42717582fb48426c9da14eaae3792b92",
        "IPY_MODEL_d8742385348745a89a2c0b6c1d043621"
       ],
       "layout": "IPY_MODEL_e8e02c240a4649daa4d735e901f2bc29"
      }
     },
     "226521f11e6743dc83c3e8ec7a7961bc": {
      "model_module": "@jupyter-widgets/controls",
      "model_module_version": "1.5.0",
      "model_name": "DescriptionStyleModel",
      "state": {
       "description_width": ""
      }
     },
     "22cecb0525f84e41a0824b70af64381d": {
      "model_module": "@jupyter-widgets/controls",
      "model_module_version": "1.5.0",
      "model_name": "HTMLModel",
      "state": {
       "layout": "IPY_MODEL_c760da1dc76f45a08cd4c00320d53377",
       "style": "IPY_MODEL_33940f626def4208bdb8c33c482afae8",
       "value": "<p>name</p>"
      }
     },
     "230a16c2ba4947238e06c8d2d1d471c3": {
      "model_module": "@jupyter-widgets/base",
      "model_module_version": "1.2.0",
      "model_name": "LayoutModel",
      "state": {
       "align_items": "stretch",
       "border": "dashed 0.2px green",
       "display": "flex",
       "flex_flow": "row",
       "grid_auto_columns": "True",
       "justify_content": "flex-start",
       "width": "100%"
      }
     },
     "231c90bbbeb54631aafc599e9b37f82b": {
      "model_module": "@jupyter-widgets/controls",
      "model_module_version": "1.5.0",
      "model_name": "HTMLModel",
      "state": {
       "layout": "IPY_MODEL_96f45f7043104869a7365f8db6f006ef",
       "style": "IPY_MODEL_291a6eae4a5147288af6f6ac9d604a3c",
       "value": "<p>its a foo cake</p>"
      }
     },
     "2349c79db9374081aea170c55500e920": {
      "model_module": "@jupyter-widgets/base",
      "model_module_version": "1.2.0",
      "model_name": "LayoutModel",
      "state": {
       "align_items": "stretch",
       "border": "dashed 0.2px green",
       "display": "flex",
       "flex_flow": "row",
       "grid_auto_columns": "True",
       "justify_content": "flex-start",
       "width": "100%"
      }
     },
     "2358f822013e4cf7a5cdc63279541bc2": {
      "model_module": "@jupyter-widgets/base",
      "model_module_version": "1.2.0",
      "model_name": "LayoutModel",
      "state": {}
     },
     "2388b4c26e094bf4b28d40174d5c2bf4": {
      "model_module": "@jupyter-widgets/base",
      "model_module_version": "1.2.0",
      "model_name": "LayoutModel",
      "state": {
       "align_items": "stretch",
       "border": "dashed 0.2px green",
       "display": "flex",
       "flex_flow": "row",
       "grid_auto_columns": "True",
       "justify_content": "flex-start",
       "width": "100%"
      }
     },
     "23b01239df5547399c9fdb447c3bf600": {
      "model_module": "@jupyter-widgets/base",
      "model_module_version": "1.2.0",
      "model_name": "LayoutModel",
      "state": {}
     },
     "23ce2ac09828476da8d0eec360177c5c": {
      "model_module": "@jupyter-widgets/controls",
      "model_module_version": "1.5.0",
      "model_name": "ButtonModel",
      "state": {
       "description": "Cancel",
       "layout": "IPY_MODEL_2f3bd300c97141988de43c33dd2f33b6",
       "style": "IPY_MODEL_7cba0d91a8f046c9b49fc5139b292708"
      }
     },
     "23d28de0d8ae42b18a286ca1b898ce77": {
      "model_module": "@jupyter-widgets/controls",
      "model_module_version": "1.5.0",
      "model_name": "DescriptionStyleModel",
      "state": {
       "description_width": ""
      }
     },
     "23dcbfa81d9143528d7a23bedf1745d8": {
      "model_module": "@jupyter-widgets/base",
      "model_module_version": "1.2.0",
      "model_name": "LayoutModel",
      "state": {
       "align_items": "stretch",
       "display": "flex",
       "flex_flow": "row",
       "grid_auto_columns": "True",
       "justify_content": "flex-end",
       "width": "90%"
      }
     },
     "23e4149f978043869b5faf796c32cfa5": {
      "model_module": "@jupyter-widgets/controls",
      "model_module_version": "1.5.0",
      "model_name": "ButtonStyleModel",
      "state": {}
     },
     "23e68d3d32e44d10bc75a3ef2b8a70a4": {
      "model_module": "@jupyter-widgets/controls",
      "model_module_version": "1.5.0",
      "model_name": "HTMLModel",
      "state": {
       "layout": "IPY_MODEL_dd151128bc83428ea95ae8d3d2af1367",
       "style": "IPY_MODEL_4305e5316e964d198cf0e821173ee5f9",
       "value": "<p>4</p>"
      }
     },
     "23f55ed7d9dc4ba3b88b8c1857e0bd20": {
      "model_module": "@jupyter-widgets/base",
      "model_module_version": "1.2.0",
      "model_name": "LayoutModel",
      "state": {
       "align_items": "stretch",
       "display": "flex",
       "flex_flow": "row",
       "grid_auto_columns": "True",
       "justify_content": "flex-start",
       "width": "80%"
      }
     },
     "23fb3e25c11849b3809cd65525b1e857": {
      "model_module": "@jupyter-widgets/controls",
      "model_module_version": "1.5.0",
      "model_name": "DescriptionStyleModel",
      "state": {
       "description_width": ""
      }
     },
     "2419fbf7b8a04245b9d405854a516a94": {
      "model_module": "@jupyter-widgets/controls",
      "model_module_version": "1.5.0",
      "model_name": "HBoxModel",
      "state": {
       "children": [
        "IPY_MODEL_3f1cbba203064cc580e54371cba72537"
       ],
       "layout": "IPY_MODEL_6bb28d8648cf484aae055d188ad44d36"
      }
     },
     "242d0ae151ed4efc9da93d0aa5f0476c": {
      "model_module": "@jupyter-widgets/controls",
      "model_module_version": "1.5.0",
      "model_name": "HBoxModel",
      "state": {
       "children": [
        "IPY_MODEL_799d29d1162141d0a088b75fa8e37202",
        "IPY_MODEL_886b8acf218947c0aaff5c616da67874"
       ],
       "layout": "IPY_MODEL_9695eaa19a404e7e8c5d60692c54719a"
      }
     },
     "243f3bd7b3e24cf48c9628c2e87bcabb": {
      "model_module": "@jupyter-widgets/output",
      "model_module_version": "1.0.0",
      "model_name": "OutputModel",
      "state": {
       "layout": "IPY_MODEL_158eb91f91d841bcb4daca2da4c47c78"
      }
     },
     "2441e79b22ce4262a661296cde22ed1e": {
      "model_module": "@jupyter-widgets/base",
      "model_module_version": "1.2.0",
      "model_name": "LayoutModel",
      "state": {
       "align_items": "stretch",
       "display": "flex",
       "flex_flow": "row",
       "grid_auto_columns": "True",
       "justify_content": "flex-end",
       "width": "90%"
      }
     },
     "24653a4f3db344ce967291d9b84e2c8d": {
      "model_module": "@jupyter-widgets/controls",
      "model_module_version": "1.5.0",
      "model_name": "HBoxModel",
      "state": {
       "children": [
        "IPY_MODEL_7d0300384dc44a6fa60fe77a51362246",
        "IPY_MODEL_6c4f327d15504562ac4cceebabde3a39"
       ],
       "layout": "IPY_MODEL_911b68f5cce244a5a4d4821d8f806c4e"
      }
     },
     "246977cba96b4957a4e1207afe8ad834": {
      "model_module": "@jupyter-widgets/controls",
      "model_module_version": "1.5.0",
      "model_name": "DropdownModel",
      "state": {
       "_options_labels": [
        "asfd",
        "10",
        "asdf"
       ],
       "index": 1,
       "layout": "IPY_MODEL_087fadecb5ae49efbfb77896c85ebb24",
       "style": "IPY_MODEL_8ef3b5be74454f7c9c96819b43e88a8d"
      }
     },
     "249e18863bbb49dc8b171eb6ad4cbde6": {
      "model_module": "@jupyter-widgets/controls",
      "model_module_version": "1.5.0",
      "model_name": "DescriptionStyleModel",
      "state": {
       "description_width": ""
      }
     },
     "24c51e4eb885459694b271bcd9d72822": {
      "model_module": "@jupyter-widgets/base",
      "model_module_version": "1.2.0",
      "model_name": "LayoutModel",
      "state": {
       "width": "auto"
      }
     },
     "24e0c9d5396549bca1c8901ed34e01ec": {
      "model_module": "@jupyter-widgets/base",
      "model_module_version": "1.2.0",
      "model_name": "LayoutModel",
      "state": {}
     },
     "24fa338e494241698e815bcc5f951379": {
      "model_module": "@jupyter-widgets/controls",
      "model_module_version": "1.5.0",
      "model_name": "FloatTextModel",
      "state": {
       "layout": "IPY_MODEL_3290f3568df74663b9c586fdf13c79f1",
       "step": null,
       "style": "IPY_MODEL_23fb3e25c11849b3809cd65525b1e857",
       "value": 16
      }
     },
     "2511bb5fddb64a269884094c196217c1": {
      "model_module": "@jupyter-widgets/base",
      "model_module_version": "1.2.0",
      "model_name": "LayoutModel",
      "state": {}
     },
     "252555c2e30b4c47abe8f0ee69eccd9f": {
      "model_module": "@jupyter-widgets/base",
      "model_module_version": "1.2.0",
      "model_name": "LayoutModel",
      "state": {}
     },
     "252ce3a372d04009976ed2a18fc5628e": {
      "model_module": "@jupyter-widgets/controls",
      "model_module_version": "1.5.0",
      "model_name": "HBoxModel",
      "state": {
       "children": [
        "IPY_MODEL_0bbc98eb685c4c77b41b5e3d1df12019"
       ],
       "layout": "IPY_MODEL_1022749b9b2a4395a05e3b5066175898"
      }
     },
     "2553c3d5ce3b4a0e86b8b2893de99023": {
      "model_module": "@jupyter-widgets/base",
      "model_module_version": "1.2.0",
      "model_name": "LayoutModel",
      "state": {
       "align_items": "stretch",
       "display": "flex",
       "flex_flow": "row",
       "grid_auto_columns": "True",
       "justify_content": "flex-start",
       "width": "80%"
      }
     },
     "2566db25d82e4300b4274f12180c05bf": {
      "model_module": "@jupyter-widgets/base",
      "model_module_version": "1.2.0",
      "model_name": "LayoutModel",
      "state": {}
     },
     "2581a4c115a34d51a2e5f118c5819a03": {
      "model_module": "@jupyter-widgets/controls",
      "model_module_version": "1.5.0",
      "model_name": "DescriptionStyleModel",
      "state": {
       "description_width": ""
      }
     },
     "259f7b939e8d4e7782f43bda6686235d": {
      "model_module": "@jupyter-widgets/controls",
      "model_module_version": "1.5.0",
      "model_name": "FloatTextModel",
      "state": {
       "layout": "IPY_MODEL_7a253f0056ed4d0d86c91349d3819304",
       "step": null,
       "style": "IPY_MODEL_eaa7791e2b2c49a5ba58a01e0df61798",
       "value": 9
      }
     },
     "259fa1e3858a449cadc23e096b1cde2a": {
      "model_module": "@jupyter-widgets/base",
      "model_module_version": "1.2.0",
      "model_name": "LayoutModel",
      "state": {}
     },
     "25a4def1aaf44ff7bb53676d29de200b": {
      "model_module": "@jupyter-widgets/controls",
      "model_module_version": "1.5.0",
      "model_name": "DescriptionStyleModel",
      "state": {
       "description_width": ""
      }
     },
     "25dccaa4f97a497a822a263e636ff6c2": {
      "model_module": "@jupyter-widgets/base",
      "model_module_version": "1.2.0",
      "model_name": "LayoutModel",
      "state": {}
     },
     "25de4698672c4f4eacfe78ed92c89489": {
      "model_module": "@jupyter-widgets/output",
      "model_module_version": "1.0.0",
      "model_name": "OutputModel",
      "state": {
       "layout": "IPY_MODEL_67bdfb44ee504668bbfb0fc2316ce742"
      }
     },
     "2607cea2d36d402f8253c7dafd77f396": {
      "model_module": "@jupyter-widgets/base",
      "model_module_version": "1.2.0",
      "model_name": "LayoutModel",
      "state": {
       "align_items": "stretch",
       "display": "flex",
       "flex_flow": "row",
       "grid_auto_columns": "True",
       "justify_content": "flex-end",
       "width": "90%"
      }
     },
     "261f9cdc5de3481ebd9c1940302ccd3d": {
      "model_module": "@jupyter-widgets/output",
      "model_module_version": "1.0.0",
      "model_name": "OutputModel",
      "state": {
       "layout": "IPY_MODEL_6f4eb5c9e6554ea0a5a5b88a514b985f"
      }
     },
     "263a3245e2734703a9b8b0cb085fe092": {
      "model_module": "@jupyter-widgets/controls",
      "model_module_version": "1.5.0",
      "model_name": "TextModel",
      "state": {
       "layout": "IPY_MODEL_123ec2247d8e4a16bf918b4bb3896176",
       "placeholder": "output filename",
       "style": "IPY_MODEL_2581a4c115a34d51a2e5f118c5819a03"
      }
     },
     "263bbb26cdf94b7c842129ac5bcb4988": {
      "model_module": "@jupyter-widgets/controls",
      "model_module_version": "1.5.0",
      "model_name": "HBoxModel",
      "state": {
       "children": [
        "IPY_MODEL_bdb7478f84154e85974440c462131357"
       ],
       "layout": "IPY_MODEL_224cf6a32c93456288b2751d16372196"
      }
     },
     "265b911f9a734bb08aeb55e3a0b12b46": {
      "model_module": "@jupyter-widgets/base",
      "model_module_version": "1.2.0",
      "model_name": "LayoutModel",
      "state": {
       "align_items": "stretch",
       "display": "flex",
       "flex_flow": "row",
       "grid_auto_columns": "True",
       "justify_content": "flex-end",
       "width": "90%"
      }
     },
     "268bc292ed254391a047cfb43a051f9c": {
      "model_module": "@jupyter-widgets/controls",
      "model_module_version": "1.5.0",
      "model_name": "HBoxModel",
      "state": {
       "children": [
        "IPY_MODEL_35c792092d9848ff861a7d5d8bf28781",
        "IPY_MODEL_7b1021d08a2b488e9fdfaf5b41b42be0"
       ],
       "layout": "IPY_MODEL_f3e79590d09840d6a38a3102befb39a3"
      }
     },
     "268d07d9298a4c4dad706dcd6f225816": {
      "model_module": "@jupyter-widgets/controls",
      "model_module_version": "1.5.0",
      "model_name": "CheckboxModel",
      "state": {
       "disabled": false,
       "layout": "IPY_MODEL_050e584874074f6b960ea5dee5b234d8",
       "style": "IPY_MODEL_b2a8bb222eae4fb0bb1002e0b3a9def8",
       "value": false
      }
     },
     "2691a18de9a34ab8bc7dff2d90ad0e0b": {
      "model_module": "@jupyter-widgets/controls",
      "model_module_version": "1.5.0",
      "model_name": "HBoxModel",
      "state": {
       "children": [
        "IPY_MODEL_321ec85ade2641bbbb9446707d77136f",
        "IPY_MODEL_d1e4ce3691c9422392fda0bc58dcb259"
       ],
       "layout": "IPY_MODEL_3d699b7189ee414290b1a94dbcfad2b1"
      }
     },
     "26e358c80f1540a9bdc06b37e43cf5a1": {
      "model_module": "@jupyter-widgets/controls",
      "model_module_version": "1.5.0",
      "model_name": "HBoxModel",
      "state": {
       "children": [
        "IPY_MODEL_1ec3994b297640f69a292870878a90a6",
        "IPY_MODEL_eba7b4fc3582466f8c3a53013e1c26f5"
       ],
       "layout": "IPY_MODEL_b876f8bfdb56488ca9b53c7d8a4e818a"
      }
     },
     "26fb29d499fe407db6415746742c5159": {
      "model_module": "@jupyter-widgets/base",
      "model_module_version": "1.2.0",
      "model_name": "LayoutModel",
      "state": {
       "align_items": "stretch",
       "display": "flex",
       "flex_flow": "row",
       "grid_auto_columns": "True",
       "justify_content": "flex-end",
       "width": "90%"
      }
     },
     "26fee2c0e44d4f959ad713b7418f6d36": {
      "model_module": "@jupyter-widgets/controls",
      "model_module_version": "1.5.0",
      "model_name": "HBoxModel",
      "state": {
       "children": [
        "IPY_MODEL_93ad57f50aab4469b3b56ab14644573a",
        "IPY_MODEL_56845b9379284c50be3e728f25df05d3"
       ],
       "layout": "IPY_MODEL_9b91760e9f9f4c3dbeb1cbe52a88b2d5"
      }
     },
     "2715f98c78f2409c87b85d5726f13176": {
      "model_module": "@jupyter-widgets/controls",
      "model_module_version": "1.5.0",
      "model_name": "DescriptionStyleModel",
      "state": {
       "description_width": ""
      }
     },
     "273ac6c27c16490cbcb0ec9d10eb1434": {
      "model_module": "@jupyter-widgets/base",
      "model_module_version": "1.2.0",
      "model_name": "LayoutModel",
      "state": {
       "display": "flex",
       "flex_flow": "row",
       "grid_auto_columns": "False",
       "justify_content": "flex-start",
       "width": "100%"
      }
     },
     "27593d87e0304d1eaf6ae518bd572e62": {
      "model_module": "@jupyter-widgets/controls",
      "model_module_version": "1.5.0",
      "model_name": "VBoxModel",
      "state": {
       "children": [
        "IPY_MODEL_2115714ee8fa4960934da58c731b780a",
        "IPY_MODEL_8999bbfc41b0473eb07bf9c2eb4b58ce",
        "IPY_MODEL_336180e5b98c4ef983d6fd052c404a40",
        "IPY_MODEL_5bc1ac0622cf442fb65b16c0c7cc3ce1",
        "IPY_MODEL_e3e30392086a4098a52ba7fefe592335",
        "IPY_MODEL_ae00631fd5e7400e874bfa6137a48aa7"
       ],
       "layout": "IPY_MODEL_bab8195b400f48e99041f89f95b086cc"
      }
     },
     "277771f679a74fa3a70d259ab3422eb7": {
      "model_module": "@jupyter-widgets/controls",
      "model_module_version": "1.5.0",
      "model_name": "VBoxModel",
      "state": {
       "children": [
        "IPY_MODEL_7d5ca30622a44c318fb7dadb84ba78ac",
        "IPY_MODEL_65f9f0b7355c4bc7baad30edad030225"
       ],
       "layout": "IPY_MODEL_682c53d29f4a450991d8a331966ed230"
      }
     },
     "27791923ba9944a697b18084da3bc9b8": {
      "model_module": "@jupyter-widgets/base",
      "model_module_version": "1.2.0",
      "model_name": "LayoutModel",
      "state": {
       "align_items": "stretch",
       "display": "flex",
       "flex_flow": "row",
       "grid_auto_columns": "True",
       "justify_content": "flex-start",
       "width": "80%"
      }
     },
     "27a1394fbf044aa3b5cfcf1b04938b02": {
      "model_module": "@jupyter-widgets/controls",
      "model_module_version": "1.5.0",
      "model_name": "DescriptionStyleModel",
      "state": {
       "description_width": ""
      }
     },
     "27b75c45f23642f5a85b845fe4f39ed9": {
      "model_module": "@jupyter-widgets/controls",
      "model_module_version": "1.5.0",
      "model_name": "DescriptionStyleModel",
      "state": {
       "description_width": ""
      }
     },
     "27d9889e722248899df8eb8390b492c1": {
      "model_module": "@jupyter-widgets/controls",
      "model_module_version": "1.5.0",
      "model_name": "HTMLModel",
      "state": {
       "layout": "IPY_MODEL_1b545cb0fadf4c438505dda1d962d1e8",
       "style": "IPY_MODEL_5cd0ba91e9c14504b6bd274883e57de9",
       "value": "<p>reous foo ous foo st</p>"
      }
     },
     "281d6fbb994b4932a6f904aedf886a94": {
      "model_module": "@jupyter-widgets/controls",
      "model_module_version": "1.5.0",
      "model_name": "HBoxModel",
      "state": {
       "children": [
        "IPY_MODEL_d3d47c8acf294118b2ee000594cb4f7d"
       ],
       "layout": "IPY_MODEL_9cb87acb45c04b679917100ecb20e57f"
      }
     },
     "2820b5c209d5423b8fe2eac5170f42eb": {
      "model_module": "@jupyter-widgets/output",
      "model_module_version": "1.0.0",
      "model_name": "OutputModel",
      "state": {
       "layout": "IPY_MODEL_0785d90e86544946bd7a2d962b9daa05"
      }
     },
     "2844d720c0f04a94adc62a6e10e2bf23": {
      "model_module": "@jupyter-widgets/controls",
      "model_module_version": "1.5.0",
      "model_name": "HTMLModel",
      "state": {
       "layout": "IPY_MODEL_f0b1aa156b1848abb6e2f75444e7d0ef",
       "style": "IPY_MODEL_fc171f5a204741378cd1dd11faebef92",
       "value": "<p>input docx filepath</p>"
      }
     },
     "284718c2c6bf4cca8dc1eb1f73d65fec": {
      "model_module": "@jupyter-widgets/controls",
      "model_module_version": "1.5.0",
      "model_name": "HBoxModel",
      "state": {
       "children": [
        "IPY_MODEL_9e843087ba854324afb4b95a6e0a31b8",
        "IPY_MODEL_ba948bc9f4424e85b35301b099ab02ac"
       ],
       "layout": "IPY_MODEL_2553c3d5ce3b4a0e86b8b2893de99023"
      }
     },
     "28649ded84e5425fa0977b704084acd8": {
      "model_module": "@jupyter-widgets/controls",
      "model_module_version": "1.5.0",
      "model_name": "HBoxModel",
      "state": {
       "children": [
        "IPY_MODEL_84881217f7ad4f4da32ae02a079bdede",
        "IPY_MODEL_57455a610c2947088a8d102fd60dcb4d"
       ],
       "layout": "IPY_MODEL_aa1d0c138e9a444e9da65b102d4dd0c8"
      }
     },
     "291a6eae4a5147288af6f6ac9d604a3c": {
      "model_module": "@jupyter-widgets/controls",
      "model_module_version": "1.5.0",
      "model_name": "DescriptionStyleModel",
      "state": {
       "description_width": ""
      }
     },
     "2923f1addda04db4969b88fbc3208225": {
      "model_module": "@jupyter-widgets/base",
      "model_module_version": "1.2.0",
      "model_name": "LayoutModel",
      "state": {
       "width": "auto"
      }
     },
     "29d1d34736604cd7a2798c96be0a726e": {
      "model_module": "@jupyter-widgets/base",
      "model_module_version": "1.2.0",
      "model_name": "LayoutModel",
      "state": {
       "align_items": "stretch",
       "display": "flex",
       "flex_flow": "row",
       "grid_auto_columns": "True",
       "justify_content": "flex-start",
       "width": "80%"
      }
     },
     "29d8431593cc4c1da95fdc4277a032a5": {
      "model_module": "@jupyter-widgets/controls",
      "model_module_version": "1.5.0",
      "model_name": "TextareaModel",
      "state": {
       "layout": "IPY_MODEL_bde8c81e312f4d7aa88ce16c0f44ebef",
       "style": "IPY_MODEL_3c65dcf350c34018916b8e4eee05b93b",
       "value": "asdfasdf"
      }
     },
     "2a01b66a25284ec192330dd31d1fb4a5": {
      "model_module": "@jupyter-widgets/controls",
      "model_module_version": "1.5.0",
      "model_name": "HTMLModel",
      "state": {
       "layout": "IPY_MODEL_f720833c76034dc48a1793eef613d56d",
       "style": "IPY_MODEL_b6b8b409011a42c9a105076d1fa3922d",
       "value": "<p>Number, using to prefix the file name</p>"
      }
     },
     "2a159f6211fb480a8330fbaae607e530": {
      "model_module": "@jupyter-widgets/base",
      "model_module_version": "1.2.0",
      "model_name": "LayoutModel",
      "state": {
       "align_items": "stretch",
       "border": "dashed 0.2px green",
       "display": "flex",
       "flex_flow": "row",
       "grid_auto_columns": "True",
       "justify_content": "flex-start",
       "width": "100%"
      }
     },
     "2a2075ea916347e2ae0b391f973c0f81": {
      "model_module": "@jupyter-widgets/base",
      "model_module_version": "1.2.0",
      "model_name": "LayoutModel",
      "state": {}
     },
     "2a3e3a5624a14a70ab7c629693bef063": {
      "model_module": "@jupyter-widgets/controls",
      "model_module_version": "1.5.0",
      "model_name": "HTMLModel",
      "state": {
       "layout": "IPY_MODEL_b4932e8064e041b98645a20cd52cec4d",
       "style": "IPY_MODEL_b31fa3d841084aa5900b35d41c2462c5",
       "value": "<p>fus foo ous o</p>"
      }
     },
     "2a493b3d955245f6ac8cc26e267475fb": {
      "model_module": "@jupyter-widgets/base",
      "model_module_version": "1.2.0",
      "model_name": "LayoutModel",
      "state": {}
     },
     "2a503388dea042439012afc9f597831c": {
      "model_module": "@jupyter-widgets/base",
      "model_module_version": "1.2.0",
      "model_name": "LayoutModel",
      "state": {}
     },
     "2a956c2049f24b6ea34030233a66d462": {
      "model_module": "@jupyter-widgets/controls",
      "model_module_version": "1.5.0",
      "model_name": "VBoxModel",
      "state": {
       "children": [
        "IPY_MODEL_015361b0646c412b993bed39e9f36ceb",
        "IPY_MODEL_41687a9ca113414bb35e41629cedd821",
        "IPY_MODEL_e4388fbf6853493083a15655b08bb88f",
        "IPY_MODEL_c474dfda7d7649dc823f4a41197faf2a",
        "IPY_MODEL_e283dd4e388e4fffb9b89e7cd91fa303",
        "IPY_MODEL_44c39348d3244c758699936effd4a7df",
        "IPY_MODEL_c0da5aed3b644b9fad93509227be5dff",
        "IPY_MODEL_b56cddd426a845edbcae6cbcf8ee56be"
       ],
       "layout": "IPY_MODEL_d003d01bb4e64a79af5827d40d621887"
      }
     },
     "2aa685b61cad49839589d5d20ebc6a08": {
      "model_module": "@jupyter-widgets/base",
      "model_module_version": "1.2.0",
      "model_name": "LayoutModel",
      "state": {}
     },
     "2ac5403800ae4fffba420132090ba53b": {
      "model_module": "@jupyter-widgets/controls",
      "model_module_version": "1.5.0",
      "model_name": "DescriptionStyleModel",
      "state": {
       "description_width": ""
      }
     },
     "2aee5e5dbfbc491596c94cb05c6b03df": {
      "model_module": "@jupyter-widgets/base",
      "model_module_version": "1.2.0",
      "model_name": "LayoutModel",
      "state": {}
     },
     "2b1ff09cd70a41c6b7e74b579af6acdf": {
      "model_module": "@jupyter-widgets/base",
      "model_module_version": "1.2.0",
      "model_name": "LayoutModel",
      "state": {
       "align_items": "stretch",
       "display": "flex",
       "flex_flow": "row",
       "grid_auto_columns": "True",
       "justify_content": "flex-start",
       "width": "80%"
      }
     },
     "2b48c0f291264fccb1caa3f10f997e16": {
      "model_module": "@jupyter-widgets/base",
      "model_module_version": "1.2.0",
      "model_name": "LayoutModel",
      "state": {}
     },
     "2b5b7584876d40eeb2ea69f74ec92cba": {
      "model_module": "@jupyter-widgets/base",
      "model_module_version": "1.2.0",
      "model_name": "LayoutModel",
      "state": {}
     },
     "2bbaeab380d9453280af13f24f799e40": {
      "model_module": "@jupyter-widgets/controls",
      "model_module_version": "1.5.0",
      "model_name": "HBoxModel",
      "state": {
       "children": [
        "IPY_MODEL_3b5ff5e7418d4b39bab47607841f17d3",
        "IPY_MODEL_02f8567af588431b8df472b7870b9294"
       ],
       "layout": "IPY_MODEL_7d8b191e647d439f9c21c4413dd8cf6f"
      }
     },
     "2bc70faec97e4085a7b657a1bb255aa0": {
      "model_module": "@jupyter-widgets/controls",
      "model_module_version": "1.5.0",
      "model_name": "HBoxModel",
      "state": {
       "children": [
        "IPY_MODEL_45b867d474f849dea780a0f3fa96ac43",
        "IPY_MODEL_242d0ae151ed4efc9da93d0aa5f0476c"
       ],
       "layout": "IPY_MODEL_672ca765c2da4dcfa854e17646d91ca9"
      }
     },
     "2bda96b88e684dc8910bce19fbb06a73": {
      "model_module": "@jupyter-widgets/base",
      "model_module_version": "1.2.0",
      "model_name": "LayoutModel",
      "state": {}
     },
     "2be2f845083148bdbfd5977eaf049162": {
      "model_module": "@jupyter-widgets/controls",
      "model_module_version": "1.5.0",
      "model_name": "VBoxModel",
      "state": {
       "children": [
        "IPY_MODEL_e717481603cc4ad89f05e1e3ae8d0bdc",
        "IPY_MODEL_e8db52233c244ed19c95f26eb488377d",
        "IPY_MODEL_8134f40824c340ffbfebd49ff4840ec4"
       ],
       "layout": "IPY_MODEL_5b7a314e21684fc1a00b45b188331423"
      }
     },
     "2c1613cb261940c3ae2be3fe75e3190b": {
      "model_module": "@jupyter-widgets/controls",
      "model_module_version": "1.5.0",
      "model_name": "HBoxModel",
      "state": {
       "children": [
        "IPY_MODEL_6a4e1d0ff4394ccdb842781cb4f7b981",
        "IPY_MODEL_8cef15f6b7de41e1926ce19418bf105d"
       ],
       "layout": "IPY_MODEL_029d3082ef4240108a976c82a681c7ca"
      }
     },
     "2c1aa4e2416444cbafe231309538cb4b": {
      "model_module": "@jupyter-widgets/controls",
      "model_module_version": "1.5.0",
      "model_name": "HBoxModel",
      "state": {
       "children": [
        "IPY_MODEL_9d25e65f8a8a4325b6ec6bed79001037"
       ],
       "layout": "IPY_MODEL_82136f0410b74b7dbf4718e3dbcb5b80"
      }
     },
     "2c1bb0acac704506b2c14d08f0d6e793": {
      "model_module": "@jupyter-widgets/controls",
      "model_module_version": "1.5.0",
      "model_name": "HTMLModel",
      "state": {
       "layout": "IPY_MODEL_5f08d68cc4f847f89a5a926cf30daeeb",
       "style": "IPY_MODEL_e1359e9ae6df492990c33a58f0582650",
       "value": "<p>fpth_in</p>"
      }
     },
     "2c32f21fa8714553be9bf23384a2e873": {
      "model_module": "@jupyter-widgets/output",
      "model_module_version": "1.0.0",
      "model_name": "OutputModel",
      "state": {
       "layout": "IPY_MODEL_53b1bf221f70408c898aeecc23a2e603"
      }
     },
     "2c4ef3c41c1b4ac49b2328b693decce9": {
      "model_module": "@jupyter-widgets/controls",
      "model_module_version": "1.5.0",
      "model_name": "DescriptionStyleModel",
      "state": {
       "description_width": ""
      }
     },
     "2ce80064b1e54923b35bddfa6ef589db": {
      "model_module": "@jupyter-widgets/controls",
      "model_module_version": "1.5.0",
      "model_name": "HBoxModel",
      "state": {
       "children": [
        "IPY_MODEL_952a8b232d4b4778bd6b8555eeadfe9c"
       ],
       "layout": "IPY_MODEL_7a9d34f9541b45119cc17102262010e9"
      }
     },
     "2ce83574fe0f45dfad7dbbf640b02675": {
      "model_module": "@jupyter-widgets/controls",
      "model_module_version": "1.5.0",
      "model_name": "HBoxModel",
      "state": {
       "children": [
        "IPY_MODEL_09dac008ca084c029d01f72b28cf83f3",
        "IPY_MODEL_a5327a461d2142de9d9675e2bc691d02"
       ],
       "layout": "IPY_MODEL_04fd60ce300345d79258a566133f0fcf"
      }
     },
     "2cf6f42a973f4fae940c8949c58001a0": {
      "model_module": "@jupyter-widgets/controls",
      "model_module_version": "1.5.0",
      "model_name": "HBoxModel",
      "state": {
       "children": [
        "IPY_MODEL_f47cfe976ab8482682f8eaf3cf8ee345",
        "IPY_MODEL_b08c00c39be846f78a8f10d884d67c89"
       ],
       "layout": "IPY_MODEL_f4e1b0d7f9f44763bf68f9e76305009a"
      }
     },
     "2d039d5e8bca4183bc785a03939a5c0a": {
      "model_module": "@jupyter-widgets/base",
      "model_module_version": "1.2.0",
      "model_name": "LayoutModel",
      "state": {
       "align_items": "stretch",
       "display": "flex",
       "flex_flow": "row",
       "grid_auto_columns": "True",
       "justify_content": "flex-end",
       "width": "90%"
      }
     },
     "2d3583fb259f4d9791b48874b5e213da": {
      "model_module": "@jupyter-widgets/controls",
      "model_module_version": "1.5.0",
      "model_name": "HBoxModel",
      "state": {
       "children": [
        "IPY_MODEL_fd9b95a887d04d708644c472603918c0",
        "IPY_MODEL_19d5e3b691db44bf919d3f9b44261b70"
       ],
       "layout": "IPY_MODEL_47b62b05394b4f67891c2834c4e90e71"
      }
     },
     "2d3cf558cbb04a9395a1a5d8bc816c8f": {
      "model_module": "@jupyter-widgets/base",
      "model_module_version": "1.2.0",
      "model_name": "LayoutModel",
      "state": {
       "align_items": "stretch",
       "border": "dashed 0.2px green",
       "display": "flex",
       "flex_flow": "row",
       "grid_auto_columns": "True",
       "justify_content": "flex-start",
       "width": "100%"
      }
     },
     "2d61f6ffe56f474baa774f951fa0d321": {
      "model_module": "@jupyter-widgets/controls",
      "model_module_version": "1.5.0",
      "model_name": "DescriptionStyleModel",
      "state": {
       "description_width": ""
      }
     },
     "2d7edc53951d4b34aaba409d7040ba91": {
      "model_module": "@jupyter-widgets/controls",
      "model_module_version": "1.5.0",
      "model_name": "DescriptionStyleModel",
      "state": {
       "description_width": ""
      }
     },
     "2d7fbedd9c704818b1c0e3cc1ba2648b": {
      "model_module": "@jupyter-widgets/controls",
      "model_module_version": "1.5.0",
      "model_name": "HBoxModel",
      "state": {
       "children": [
        "IPY_MODEL_df903dc87d1147779078f418c3466b3f"
       ],
       "layout": "IPY_MODEL_230a16c2ba4947238e06c8d2d1d471c3"
      }
     },
     "2dc049c4404946a8936df64903d148bf": {
      "model_module": "@jupyter-widgets/controls",
      "model_module_version": "1.5.0",
      "model_name": "VBoxModel",
      "state": {
       "children": [
        "IPY_MODEL_1a2f0d50d28041ec982bc6323f39c3fc",
        "IPY_MODEL_f9cdc685b21d489a9272b4ece132d78b",
        "IPY_MODEL_7aa43d0219824fb9bf56226e835a95ca"
       ],
       "layout": "IPY_MODEL_3d78bd75f9d248f4ac8d345cd16b542e"
      }
     },
     "2dce8c51e74f4a1ebcb4866291706147": {
      "model_module": "@jupyter-widgets/controls",
      "model_module_version": "1.5.0",
      "model_name": "VBoxModel",
      "state": {
       "children": [
        "IPY_MODEL_015361b0646c412b993bed39e9f36ceb",
        "IPY_MODEL_41687a9ca113414bb35e41629cedd821",
        "IPY_MODEL_e4388fbf6853493083a15655b08bb88f",
        "IPY_MODEL_c474dfda7d7649dc823f4a41197faf2a",
        "IPY_MODEL_e283dd4e388e4fffb9b89e7cd91fa303",
        "IPY_MODEL_44c39348d3244c758699936effd4a7df",
        "IPY_MODEL_c0da5aed3b644b9fad93509227be5dff",
        "IPY_MODEL_b56cddd426a845edbcae6cbcf8ee56be"
       ],
       "layout": "IPY_MODEL_a999c47b3d7542c8ab29fe3f49fee5c0"
      }
     },
     "2dd8baa680c7473d856332094eb1844c": {
      "model_module": "@jupyter-widgets/controls",
      "model_module_version": "1.5.0",
      "model_name": "DescriptionStyleModel",
      "state": {
       "description_width": ""
      }
     },
     "2de4790fe2fb457e87f4ef54ec4e7808": {
      "model_module": "@jupyter-widgets/controls",
      "model_module_version": "1.5.0",
      "model_name": "HTMLModel",
      "state": {
       "layout": "IPY_MODEL_1731ee3bb99248c584adfd6b72470a6c",
       "style": "IPY_MODEL_f0776781704a411ba18d177eca879326",
       "value": "<p>foo</p>"
      }
     },
     "2dfac53dc6c64c678f580d0bec9b0fbb": {
      "model_module": "@jupyter-widgets/controls",
      "model_module_version": "1.5.0",
      "model_name": "DescriptionStyleModel",
      "state": {
       "description_width": ""
      }
     },
     "2e0d27f368584dd487167afa1886ac38": {
      "model_module": "@jupyter-widgets/base",
      "model_module_version": "1.2.0",
      "model_name": "LayoutModel",
      "state": {
       "align_items": "stretch",
       "display": "flex",
       "flex_flow": "row",
       "grid_auto_columns": "True",
       "justify_content": "flex-start",
       "width": "80%"
      }
     },
     "2e282672320148868751073fb782a770": {
      "model_module": "@jupyter-widgets/controls",
      "model_module_version": "1.5.0",
      "model_name": "HBoxModel",
      "state": {
       "children": [
        "IPY_MODEL_f3596293a6f04494a95076384cc67081",
        "IPY_MODEL_4762c294ced7496dbddff83791de7880"
       ],
       "layout": "IPY_MODEL_7936711c44e64702aeb60e0e5413f49e"
      }
     },
     "2e330525ed7344e496810cf1c67749db": {
      "model_module": "@jupyter-widgets/controls",
      "model_module_version": "1.5.0",
      "model_name": "HTMLModel",
      "state": {
       "layout": "IPY_MODEL_6f70cd4ed43b45bcb110a90b0860c169",
       "style": "IPY_MODEL_c191d66641234d329abf09b667a439d1",
       "value": "<p>Example use of the DatePicker Widget</p>"
      }
     },
     "2e4a7b97293542afa242685282269036": {
      "model_module": "@jupyter-widgets/base",
      "model_module_version": "1.2.0",
      "model_name": "LayoutModel",
      "state": {}
     },
     "2e56a495eecf4b50a91d17615023986e": {
      "model_module": "@jupyter-widgets/controls",
      "model_module_version": "1.5.0",
      "model_name": "SelectMultipleModel",
      "state": {
       "_options_labels": [
        "asfd",
        "10",
        "asdf"
       ],
       "index": [
        1
       ],
       "layout": "IPY_MODEL_70ea5bc4f25a40928c5b1f586bea196c",
       "rows": 5,
       "style": "IPY_MODEL_7a2a0f3245b043c8bdf021e51b02f3fa"
      }
     },
     "2e617466266846619a1f7529250ee575": {
      "model_module": "@jupyter-widgets/controls",
      "model_module_version": "1.5.0",
      "model_name": "HTMLModel",
      "state": {
       "layout": "IPY_MODEL_853f820213c6468593a1a5c19f3e42e2",
       "style": "IPY_MODEL_c299dfc5b55047adb60598aa2b12ce65",
       "value": "<p>Example use of the DerivedText Widget</p>"
      }
     },
     "2f3bd300c97141988de43c33dd2f33b6": {
      "model_module": "@jupyter-widgets/base",
      "model_module_version": "1.2.0",
      "model_name": "LayoutModel",
      "state": {
       "display": "none",
       "width": "auto"
      }
     },
     "2f3e884827d945dd9bb22ec4cb49ad8f": {
      "model_module": "@jupyter-widgets/base",
      "model_module_version": "1.2.0",
      "model_name": "LayoutModel",
      "state": {}
     },
     "2f3fa727f0aa4b52a7119a360586cd44": {
      "model_module": "@jupyter-widgets/controls",
      "model_module_version": "1.5.0",
      "model_name": "HBoxModel",
      "state": {
       "children": [
        "IPY_MODEL_1a55efc7a04948d6b4fff2df31cbdbb7",
        "IPY_MODEL_eba6da8478d147a488598cec877ad21f"
       ],
       "layout": "IPY_MODEL_ca86de78b64849089adf9602ecc37929"
      }
     },
     "2f4c6bca794c45afb7c7d2af5fa9e030": {
      "model_module": "@jupyter-widgets/controls",
      "model_module_version": "1.5.0",
      "model_name": "TextareaModel",
      "state": {
       "layout": "IPY_MODEL_fb7327edbed0457585c85943a065cf72",
       "style": "IPY_MODEL_ad104c2b68174c9cb68f3a4a06b287e7"
      }
     },
     "2f673a6f6b5b4bd0a08941a734ce549e": {
      "model_module": "@jupyter-widgets/controls",
      "model_module_version": "1.5.0",
      "model_name": "SliderStyleModel",
      "state": {
       "description_width": ""
      }
     },
     "2f82d8480d2c4222bc114a465feba820": {
      "model_module": "@jupyter-widgets/base",
      "model_module_version": "1.2.0",
      "model_name": "LayoutModel",
      "state": {}
     },
     "2f8a6a6d223848e882dd982037ff11e2": {
      "model_module": "@jupyter-widgets/output",
      "model_module_version": "1.0.0",
      "model_name": "OutputModel",
      "state": {
       "layout": "IPY_MODEL_a2d4ef78e1ba4936a05e735fe0388e79",
       "outputs": [
        {
         "data": {
          "application/vnd.jupyter.widget-view+json": {
           "model_id": "0c3833d575644e45ad87c71b63086541",
           "version_major": 2,
           "version_minor": 0
          },
          "text/plain": "Output()"
         },
         "metadata": {},
         "output_type": "display_data"
        },
        {
         "data": {
          "application/vnd.jupyter.widget-view+json": {
           "model_id": "bc7535c0d0444b8c8db078b104429578",
           "version_major": 2,
           "version_minor": 0
          },
          "text/plain": "Output()"
         },
         "metadata": {},
         "output_type": "display_data"
        }
       ]
      }
     },
     "2fa2cea8044e49dfb024f7c97c9c6175": {
      "model_module": "@jupyter-widgets/controls",
      "model_module_version": "1.5.0",
      "model_name": "HTMLModel",
      "state": {
       "layout": "IPY_MODEL_ca4eeaeb66364d67aa6655d10e6d1af5",
       "style": "IPY_MODEL_d58a0fc2d48140309fd271ea6ac7dfd4",
       "value": "<p>foo</p>"
      }
     },
     "2fac31e26e784195858ef98c5057cf6e": {
      "model_module": "@jupyter-widgets/controls",
      "model_module_version": "1.5.0",
      "model_name": "HBoxModel",
      "state": {
       "children": [
        "IPY_MODEL_b41f9f08816145a4934a43b21dd80278",
        "IPY_MODEL_7a7817d1e62b4ef59460120129b819d3"
       ],
       "layout": "IPY_MODEL_67de7aeb54b6415dba6400b9d0b3b77c"
      }
     },
     "2fbed7b56a194a17b60683e8016daad5": {
      "model_module": "@jupyter-widgets/base",
      "model_module_version": "1.2.0",
      "model_name": "LayoutModel",
      "state": {}
     },
     "2fce63e57954441091bc7fad5d8d7003": {
      "model_module": "@jupyter-widgets/base",
      "model_module_version": "1.2.0",
      "model_name": "LayoutModel",
      "state": {
       "align_items": "stretch",
       "display": "flex",
       "flex_flow": "row",
       "grid_auto_columns": "True",
       "justify_content": "flex-end",
       "width": "90%"
      }
     },
     "30007fea4cc345ba9b9cde50d3578fb7": {
      "model_module": "@jupyter-widgets/controls",
      "model_module_version": "1.5.0",
      "model_name": "TextModel",
      "state": {
       "layout": "IPY_MODEL_adca3af42e8f4627a6b5ad243b11bb63",
       "style": "IPY_MODEL_30e796dbe0d94e80876851a9dc7f0155",
       "value": "TM46Category"
      }
     },
     "3002a099afaf4d2ab88aba1282298ace": {
      "model_module": "@jupyter-widgets/base",
      "model_module_version": "1.2.0",
      "model_name": "LayoutModel",
      "state": {}
     },
     "3010553943fa45fa9290481ee094694c": {
      "model_module": "@jupyter-widgets/controls",
      "model_module_version": "1.5.0",
      "model_name": "ButtonStyleModel",
      "state": {
       "font_weight": "bold"
      }
     },
     "3012c2866e7749b8a5105ae985fdd149": {
      "model_module": "@jupyter-widgets/base",
      "model_module_version": "1.2.0",
      "model_name": "LayoutModel",
      "state": {}
     },
     "303d2f2bc97e4e13a79d0bcdc33dad1a": {
      "model_module": "@jupyter-widgets/base",
      "model_module_version": "1.2.0",
      "model_name": "LayoutModel",
      "state": {}
     },
     "305a1ea52deb4ca6a11e5260d03a04d3": {
      "model_module": "@jupyter-widgets/output",
      "model_module_version": "1.0.0",
      "model_name": "OutputModel",
      "state": {
       "layout": "IPY_MODEL_56723dffbd2c4bb6ac15158068815c40"
      }
     },
     "308576b0ac484b809857d0fbf0e9fc13": {
      "model_module": "@jupyter-widgets/base",
      "model_module_version": "1.2.0",
      "model_name": "LayoutModel",
      "state": {}
     },
     "30a26ea540404ae9966be08b1189e0a8": {
      "model_module": "@jupyter-widgets/controls",
      "model_module_version": "1.5.0",
      "model_name": "ToggleButtonModel",
      "state": {
       "icon": "arrow-down",
       "layout": "IPY_MODEL_b33c60c5f3a549b0af3ed9a7f7d9ada7",
       "style": "IPY_MODEL_35361e45018542e7a37edf805037c290"
      }
     },
     "30c8bd84ab5942d7a8919b421ea21a50": {
      "model_module": "@jupyter-widgets/base",
      "model_module_version": "1.2.0",
      "model_name": "LayoutModel",
      "state": {
       "align_items": "stretch",
       "display": "flex",
       "flex_flow": "row",
       "grid_auto_columns": "True",
       "justify_content": "flex-start",
       "width": "80%"
      }
     },
     "30d33b6f71504d1b922a028531827350": {
      "model_module": "@jupyter-widgets/base",
      "model_module_version": "1.2.0",
      "model_name": "LayoutModel",
      "state": {
       "align_items": "stretch",
       "display": "flex",
       "flex_flow": "row",
       "grid_auto_columns": "True",
       "justify_content": "flex-end",
       "width": "90%"
      }
     },
     "30e796dbe0d94e80876851a9dc7f0155": {
      "model_module": "@jupyter-widgets/controls",
      "model_module_version": "1.5.0",
      "model_name": "DescriptionStyleModel",
      "state": {
       "description_width": ""
      }
     },
     "311fa24807c04399827e6963f601cc41": {
      "model_module": "@jupyter-widgets/base",
      "model_module_version": "1.2.0",
      "model_name": "LayoutModel",
      "state": {
       "display": "none",
       "width": "auto"
      }
     },
     "315bcd85393f498d8aaa83b36155b1c9": {
      "model_module": "@jupyter-widgets/controls",
      "model_module_version": "1.5.0",
      "model_name": "HBoxModel",
      "state": {
       "children": [
        "IPY_MODEL_bf1e2d53d0f247e188e84bc2e07efb54",
        "IPY_MODEL_ad2684769cab4f949c169a4436825fe3"
       ],
       "layout": "IPY_MODEL_be4fd6fd90df4721a2922e48b9a0e8c7"
      }
     },
     "315cf033788640849925873d31c382ec": {
      "model_module": "@jupyter-widgets/base",
      "model_module_version": "1.2.0",
      "model_name": "LayoutModel",
      "state": {
       "align_items": "stretch",
       "border": "dashed 0.2px green",
       "display": "flex",
       "flex_flow": "row",
       "grid_auto_columns": "True",
       "justify_content": "flex-start",
       "width": "100%"
      }
     },
     "317dc110f9ef47499235436b791c0acf": {
      "model_module": "@jupyter-widgets/controls",
      "model_module_version": "1.5.0",
      "model_name": "HBoxModel",
      "state": {
       "children": [
        "IPY_MODEL_140bb96d8062454d857350f73cd96ae6",
        "IPY_MODEL_d6dd76ab6fcc4f619f63eb3c44ea89c3",
        "IPY_MODEL_d8503321f9ad4a82857008a3e4025978",
        "IPY_MODEL_878a7d8d95ce4c8683d8689c17ce6763",
        "IPY_MODEL_2017f93fdac441aea8690fcee7564f76",
        "IPY_MODEL_205225e53297477899c576d51803b6bf",
        "IPY_MODEL_d149fd9bbd094a27a917bd0eed8b4e23"
       ],
       "layout": "IPY_MODEL_3530901d7a0341b3b07e560e83b0a29a"
      }
     },
     "31b59f765fd74fe7ac343e2955057249": {
      "model_module": "@jupyter-widgets/controls",
      "model_module_version": "1.5.0",
      "model_name": "ButtonModel",
      "state": {
       "description": "load",
       "icon": "upload",
       "layout": "IPY_MODEL_527b96e0f5914f0983939e8c21a033a9",
       "style": "IPY_MODEL_f5ea738587a84c34878daa70ec02328d"
      }
     },
     "31bc4b87fd0c4491bee7fe106e95bd3f": {
      "model_module": "@jupyter-widgets/controls",
      "model_module_version": "1.5.0",
      "model_name": "DescriptionStyleModel",
      "state": {
       "description_width": ""
      }
     },
     "31d91302e59c42208e4a16741af34b1b": {
      "model_module": "@jupyter-widgets/controls",
      "model_module_version": "1.5.0",
      "model_name": "ToggleButtonModel",
      "state": {
       "button_style": "warning",
       "description": "edit file",
       "layout": "IPY_MODEL_fb91977fe55549069ee8929681ec3465",
       "style": "IPY_MODEL_78e2cdbcb4bc46d9994edc5ec5faaa50"
      }
     },
     "31f0e91d241441b4b58c6b0fa0e47eea": {
      "model_module": "@jupyter-widgets/base",
      "model_module_version": "1.2.0",
      "model_name": "LayoutModel",
      "state": {}
     },
     "321ec85ade2641bbbb9446707d77136f": {
      "model_module": "@jupyter-widgets/controls",
      "model_module_version": "1.5.0",
      "model_name": "ToggleButtonModel",
      "state": {
       "icon": "arrow-down",
       "layout": "IPY_MODEL_1fed6eac760d4de28942f69c26f4e4b8",
       "style": "IPY_MODEL_56a78ab4b4c5491bb323797382f37e12"
      }
     },
     "322b43177db54357a76a34be00b88614": {
      "model_module": "@jupyter-widgets/base",
      "model_module_version": "1.2.0",
      "model_name": "LayoutModel",
      "state": {
       "align_items": "stretch",
       "border": "dashed 0.2px green",
       "display": "flex",
       "flex_flow": "row",
       "grid_auto_columns": "True",
       "justify_content": "flex-start",
       "width": "100%"
      }
     },
     "324445b9fa404b8f88eeb58d10d746f7": {
      "model_module": "@jupyter-widgets/output",
      "model_module_version": "1.0.0",
      "model_name": "OutputModel",
      "state": {
       "layout": "IPY_MODEL_9a4329444aaa4769803a24ef181df234"
      }
     },
     "324ed75aea4d4ae28478e93e503fcb2d": {
      "model_module": "@jupyter-widgets/output",
      "model_module_version": "1.0.0",
      "model_name": "OutputModel",
      "state": {
       "layout": "IPY_MODEL_d329f252dbd54c7fb5d26abe6bc26f21"
      }
     },
     "327f2d37d9b14463b0008dfe8b4dcb93": {
      "model_module": "@jupyter-widgets/base",
      "model_module_version": "1.2.0",
      "model_name": "LayoutModel",
      "state": {}
     },
     "3290f3568df74663b9c586fdf13c79f1": {
      "model_module": "@jupyter-widgets/base",
      "model_module_version": "1.2.0",
      "model_name": "LayoutModel",
      "state": {}
     },
     "32c6e0c5f4214902b2ace69b07615db8": {
      "model_module": "@jupyter-widgets/output",
      "model_module_version": "1.0.0",
      "model_name": "OutputModel",
      "state": {
       "layout": "IPY_MODEL_4350a7e1271c4bf49535544ca2b765f1"
      }
     },
     "32d66b4c2eeb4306a968034ab3649a1d": {
      "model_module": "@jupyter-widgets/controls",
      "model_module_version": "1.5.0",
      "model_name": "HBoxModel",
      "state": {
       "children": [
        "IPY_MODEL_7a4e63cf6a77423abd85c82a51ad8d92",
        "IPY_MODEL_13ccf5cee6d44e809c4d4e13160e2d2c"
       ],
       "layout": "IPY_MODEL_2fce63e57954441091bc7fad5d8d7003"
      }
     },
     "32ec2a0d18134861a51397413ef9cdc7": {
      "model_module": "@jupyter-widgets/controls",
      "model_module_version": "1.5.0",
      "model_name": "ToggleButtonModel",
      "state": {
       "button_style": "warning",
       "description": "edit file",
       "layout": "IPY_MODEL_3012c2866e7749b8a5105ae985fdd149",
       "style": "IPY_MODEL_71533d9cf8e54c7186fa017e00716d08"
      }
     },
     "3319c02fff204126afdfbd0bfc3026ee": {
      "model_module": "@jupyter-widgets/base",
      "model_module_version": "1.2.0",
      "model_name": "LayoutModel",
      "state": {
       "align_items": "stretch",
       "display": "flex",
       "flex_flow": "row",
       "grid_auto_columns": "True",
       "justify_content": "flex-start",
       "width": "80%"
      }
     },
     "3358973ca5304824bff16b02dea7deb8": {
      "model_module": "@jupyter-widgets/base",
      "model_module_version": "1.2.0",
      "model_name": "LayoutModel",
      "state": {
       "align_items": "stretch",
       "border": "dashed 0.2px green",
       "display": "flex",
       "flex_flow": "row",
       "grid_auto_columns": "True",
       "justify_content": "flex-start",
       "width": "100%"
      }
     },
     "336180e5b98c4ef983d6fd052c404a40": {
      "model_module": "@jupyter-widgets/controls",
      "model_module_version": "1.5.0",
      "model_name": "HBoxModel",
      "state": {
       "children": [
        "IPY_MODEL_7f269e1a3b194a3daf5b58d8ef6fd8db"
       ],
       "layout": "IPY_MODEL_98897bdbe5924902adf34f7a75e9fdaa"
      }
     },
     "33940f626def4208bdb8c33c482afae8": {
      "model_module": "@jupyter-widgets/controls",
      "model_module_version": "1.5.0",
      "model_name": "DescriptionStyleModel",
      "state": {
       "description_width": ""
      }
     },
     "33d38d3e34884c96b68c8367c15afdf3": {
      "model_module": "@jupyter-widgets/base",
      "model_module_version": "1.2.0",
      "model_name": "LayoutModel",
      "state": {}
     },
     "3401ce370a1a454992233801b717eca5": {
      "model_module": "@jupyter-widgets/base",
      "model_module_version": "1.2.0",
      "model_name": "LayoutModel",
      "state": {}
     },
     "341414a9d2694e1ab042a68d0df7e62d": {
      "model_module": "@jupyter-widgets/base",
      "model_module_version": "1.2.0",
      "model_name": "LayoutModel",
      "state": {}
     },
     "34310985464d4ff6b2b60946d8689489": {
      "model_module": "@jupyter-widgets/output",
      "model_module_version": "1.0.0",
      "model_name": "OutputModel",
      "state": {
       "layout": "IPY_MODEL_22170dbf1f33468e990cbc0a71269156",
       "outputs": [
        {
         "data": {
          "application/vnd.jupyter.widget-view+json": {
           "model_id": "6d3ca27d4b6c4fc4b7c962bfbd0fe9db",
           "version_major": 2,
           "version_minor": 0
          },
          "text/plain": "Output()"
         },
         "metadata": {},
         "output_type": "display_data"
        }
       ]
      }
     },
     "3438ca925fac4910acf1e712bda84700": {
      "model_module": "@jupyter-widgets/controls",
      "model_module_version": "1.5.0",
      "model_name": "DescriptionStyleModel",
      "state": {
       "description_width": ""
      }
     },
     "343e5f0bd92d423b875d4a8f716f2e49": {
      "model_module": "@jupyter-widgets/controls",
      "model_module_version": "1.5.0",
      "model_name": "VBoxModel",
      "state": {
       "children": [
        "IPY_MODEL_1d1b212eb6cf404da62b46b436bd9070",
        "IPY_MODEL_fde52001af21446fade8de2e3ca62712",
        "IPY_MODEL_f27028a44b6843aa8075cdba84a7afec"
       ],
       "layout": "IPY_MODEL_bea80ce968b94ad98b445fcfebc318d7"
      }
     },
     "344b45a143b544349b66d9f5f43fc199": {
      "model_module": "@jupyter-widgets/controls",
      "model_module_version": "1.5.0",
      "model_name": "VBoxModel",
      "state": {
       "children": [
        "IPY_MODEL_5592ff2d857845cf86fc8745baf2ebdc",
        "IPY_MODEL_252ce3a372d04009976ed2a18fc5628e",
        "IPY_MODEL_684a8330316f41f1ba2d24585303769b",
        "IPY_MODEL_cb6c8d4489d149edb2e854a14a70c087",
        "IPY_MODEL_b4b9ff03ac2e4998a698f244f7797888",
        "IPY_MODEL_137767c54c624bb8943dd73f250c1acf",
        "IPY_MODEL_065d0e2c220f4277a86df7380d338402",
        "IPY_MODEL_1a1708f124cd452b91a52dcb1a59e475"
       ],
       "layout": "IPY_MODEL_39123c5dd1b046b9899176617dd8916f"
      }
     },
     "346093ab09b140d3a75fb236c0d66039": {
      "model_module": "@jupyter-widgets/controls",
      "model_module_version": "1.5.0",
      "model_name": "ToggleButtonModel",
      "state": {
       "button_style": "warning",
       "description": "edit file",
       "layout": "IPY_MODEL_aacff86309e446618a9bd265137e85ce",
       "style": "IPY_MODEL_ae054205fd9f4427833d10018056ee58"
      }
     },
     "346eabd102f9458d9b499ac4158ce4c7": {
      "model_module": "@jupyter-widgets/base",
      "model_module_version": "1.2.0",
      "model_name": "LayoutModel",
      "state": {
       "align_items": "stretch",
       "display": "flex",
       "flex_flow": "row",
       "grid_auto_columns": "True",
       "justify_content": "flex-start",
       "width": "80%"
      }
     },
     "347709642d9b4784ad5d15c58c7ce317": {
      "model_module": "@jupyter-widgets/base",
      "model_module_version": "1.2.0",
      "model_name": "LayoutModel",
      "state": {
       "align_items": "stretch",
       "border": "dashed 0.2px green",
       "display": "flex",
       "flex_flow": "row",
       "grid_auto_columns": "True",
       "justify_content": "flex-start",
       "width": "100%"
      }
     },
     "34cf553cbfbe4953b6ed7c139c9c4835": {
      "model_module": "@jupyter-widgets/base",
      "model_module_version": "1.2.0",
      "model_name": "LayoutModel",
      "state": {
       "align_items": "stretch",
       "display": "flex",
       "flex_flow": "row",
       "grid_auto_columns": "True",
       "justify_content": "flex-start",
       "width": "80%"
      }
     },
     "34de32fde74b48baac5a8a5411ddfb3b": {
      "model_module": "@jupyter-widgets/controls",
      "model_module_version": "1.5.0",
      "model_name": "DescriptionStyleModel",
      "state": {
       "description_width": ""
      }
     },
     "3514631dd32a455daa004c9d2ebebc5a": {
      "model_module": "@jupyter-widgets/base",
      "model_module_version": "1.2.0",
      "model_name": "LayoutModel",
      "state": {}
     },
     "3530901d7a0341b3b07e560e83b0a29a": {
      "model_module": "@jupyter-widgets/base",
      "model_module_version": "1.2.0",
      "model_name": "LayoutModel",
      "state": {
       "align_items": "stretch",
       "width": "100%"
      }
     },
     "35309fa586684a50b24903cf79159287": {
      "model_module": "@jupyter-widgets/controls",
      "model_module_version": "1.5.0",
      "model_name": "DescriptionStyleModel",
      "state": {
       "description_width": ""
      }
     },
     "35361e45018542e7a37edf805037c290": {
      "model_module": "@jupyter-widgets/controls",
      "model_module_version": "1.5.0",
      "model_name": "DescriptionStyleModel",
      "state": {
       "description_width": ""
      }
     },
     "35482d72220948b18897dfe25890803c": {
      "model_module": "@jupyter-widgets/base",
      "model_module_version": "1.2.0",
      "model_name": "LayoutModel",
      "state": {}
     },
     "35493ba94574458aa9dba83c87970fbe": {
      "model_module": "@jupyter-widgets/controls",
      "model_module_version": "1.5.0",
      "model_name": "ButtonStyleModel",
      "state": {}
     },
     "3587437b442c4b92ad2360cc8f990e47": {
      "model_module": "@jupyter-widgets/controls",
      "model_module_version": "1.5.0",
      "model_name": "HTMLModel",
      "state": {
       "layout": "IPY_MODEL_bc549d940a9a444c935dc554b99b8a62",
       "placeholder": "",
       "style": "IPY_MODEL_ac09d08c39954059978a92eb56c2d88a",
       "value": "<span style=\"margin-left:10px; color:orange;\">appdata\\inputs\\inputs-gbxml.json</span>"
      }
     },
     "358bf1dd4b6f4348878873459941456c": {
      "model_module": "@jupyter-widgets/controls",
      "model_module_version": "1.5.0",
      "model_name": "HBoxModel",
      "state": {
       "children": [
        "IPY_MODEL_b006b4889faf4a66b7435e5eba74eb05"
       ],
       "layout": "IPY_MODEL_e491300ebfa34171af9fd13862d9e00a"
      }
     },
     "359cc814bc4e48a5bfb17e50b3afc9c6": {
      "model_module": "@jupyter-widgets/controls",
      "model_module_version": "1.5.0",
      "model_name": "DescriptionStyleModel",
      "state": {
       "description_width": ""
      }
     },
     "35b22da56c6e4178ac57be01611b9847": {
      "model_module": "@jupyter-widgets/base",
      "model_module_version": "1.2.0",
      "model_name": "LayoutModel",
      "state": {
       "align_items": "stretch",
       "border": "dashed 0.2px green",
       "display": "flex",
       "flex_flow": "row",
       "grid_auto_columns": "True",
       "justify_content": "flex-start",
       "width": "100%"
      }
     },
     "35c792092d9848ff861a7d5d8bf28781": {
      "model_module": "@jupyter-widgets/controls",
      "model_module_version": "1.5.0",
      "model_name": "HTMLModel",
      "state": {
       "layout": "IPY_MODEL_12a1565fa9c9433f9508a498dd3096b6",
       "style": "IPY_MODEL_d049fbbb1de8467c96b3e28f674e92a8",
       "value": "<p>Model Desc</p>"
      }
     },
     "35eca519972c44c6b807e2d469cce7bf": {
      "model_module": "@jupyter-widgets/controls",
      "model_module_version": "1.5.0",
      "model_name": "VBoxModel",
      "state": {
       "children": [
        "IPY_MODEL_b4e631b438f74db3b8531865d0781509",
        "IPY_MODEL_d873fc7739ba48a7870419cfb772bb5b"
       ],
       "layout": "IPY_MODEL_dc1644c478994e379524b71d5f8a1499"
      }
     },
     "35ffff5c15564eb1a9e578ed4fb4dcdf": {
      "model_module": "@jupyter-widgets/controls",
      "model_module_version": "1.5.0",
      "model_name": "DescriptionStyleModel",
      "state": {
       "description_width": ""
      }
     },
     "3630a19c408d473f943d916e10e6b45f": {
      "model_module": "@jupyter-widgets/controls",
      "model_module_version": "1.5.0",
      "model_name": "ButtonModel",
      "state": {
       "button_style": "warning",
       "description": "revert to last save",
       "layout": "IPY_MODEL_3c6853a625234ec9892bf80a187df7fd",
       "style": "IPY_MODEL_a16376eb4a454a81884fa2fddee15f3f"
      }
     },
     "3680032a5ae040c5a5fbf834b7fc7490": {
      "model_module": "@jupyter-widgets/controls",
      "model_module_version": "1.5.0",
      "model_name": "DescriptionStyleModel",
      "state": {
       "description_width": ""
      }
     },
     "368cc31533334ff691ead9c76dc5da17": {
      "model_module": "@jupyter-widgets/controls",
      "model_module_version": "1.5.0",
      "model_name": "HBoxModel",
      "state": {
       "children": [
        "IPY_MODEL_495d78c611534d5896b84a7a05ae645b",
        "IPY_MODEL_126cec8f2c3d4320893c59c3c2953142"
       ],
       "layout": "IPY_MODEL_b17ee37a85d24eaba41eacf02b70d1f2"
      }
     },
     "36971c196af64ee5910fbc8713f8bd93": {
      "model_module": "@jupyter-widgets/controls",
      "model_module_version": "1.5.0",
      "model_name": "DescriptionStyleModel",
      "state": {
       "description_width": ""
      }
     },
     "36a40e1d01a34d65a9f693c37189ba93": {
      "model_module": "@jupyter-widgets/output",
      "model_module_version": "1.0.0",
      "model_name": "OutputModel",
      "state": {
       "layout": "IPY_MODEL_17a8c24ec46d4667b5731e00dab71aed"
      }
     },
     "36d283c7124549f0a229b538d39241cb": {
      "model_module": "@jupyter-widgets/controls",
      "model_module_version": "1.5.0",
      "model_name": "DescriptionStyleModel",
      "state": {
       "description_width": ""
      }
     },
     "36ef272315254cc38c8b15319e13b0f2": {
      "model_module": "@jupyter-widgets/controls",
      "model_module_version": "1.5.0",
      "model_name": "HBoxModel",
      "state": {
       "children": [
        "IPY_MODEL_0711a490156c485cb9c2a7326906bb66",
        "IPY_MODEL_26e358c80f1540a9bdc06b37e43cf5a1"
       ],
       "layout": "IPY_MODEL_6da58265ea084e78b41c4f1b865b7bc2"
      }
     },
     "36f49cb44073473892f4e7bfe9b45fc6": {
      "model_module": "@jupyter-widgets/controls",
      "model_module_version": "1.5.0",
      "model_name": "DescriptionStyleModel",
      "state": {
       "description_width": ""
      }
     },
     "3718761f9412434bb02cb3d1332237e7": {
      "model_module": "@jupyter-widgets/base",
      "model_module_version": "1.2.0",
      "model_name": "LayoutModel",
      "state": {}
     },
     "37413d6564a34682b2b8e4accc662b26": {
      "model_module": "@jupyter-widgets/base",
      "model_module_version": "1.2.0",
      "model_name": "LayoutModel",
      "state": {
       "align_items": "stretch",
       "display": "flex",
       "flex_flow": "row",
       "grid_auto_columns": "True",
       "justify_content": "flex-start",
       "width": "80%"
      }
     },
     "3749a1b2999a4031ac17d1b3061eef7f": {
      "model_module": "@jupyter-widgets/base",
      "model_module_version": "1.2.0",
      "model_name": "LayoutModel",
      "state": {}
     },
     "374cf7309e42494c937abc39609434c8": {
      "model_module": "@jupyter-widgets/base",
      "model_module_version": "1.2.0",
      "model_name": "LayoutModel",
      "state": {}
     },
     "376c158d9adb405b8af217e18c6ee867": {
      "model_module": "@jupyter-widgets/controls",
      "model_module_version": "1.5.0",
      "model_name": "VBoxModel",
      "state": {
       "layout": "IPY_MODEL_5fc7dd5d34f64ef6b949d215e945723c"
      }
     },
     "37826040cf9c4723b2b28f73500b621d": {
      "model_module": "@jupyter-widgets/base",
      "model_module_version": "1.2.0",
      "model_name": "LayoutModel",
      "state": {}
     },
     "379ddbd05c754c9d892aab2db5a8fc5c": {
      "model_module": "@jupyter-widgets/base",
      "model_module_version": "1.2.0",
      "model_name": "LayoutModel",
      "state": {}
     },
     "37abb62254b84791ad1725b8a8212b9d": {
      "model_module": "@jupyter-widgets/base",
      "model_module_version": "1.2.0",
      "model_name": "LayoutModel",
      "state": {
       "align_items": "stretch",
       "border": "dashed 0.2px green",
       "display": "flex",
       "flex_flow": "row",
       "grid_auto_columns": "True",
       "justify_content": "flex-start",
       "width": "100%"
      }
     },
     "37ad5e30ab4041ec9cec05989eecaf64": {
      "model_module": "@jupyter-widgets/base",
      "model_module_version": "1.2.0",
      "model_name": "LayoutModel",
      "state": {}
     },
     "37aface13f764c3cb3e4c793bedcef98": {
      "model_module": "@jupyter-widgets/controls",
      "model_module_version": "1.5.0",
      "model_name": "DescriptionStyleModel",
      "state": {
       "description_width": ""
      }
     },
     "37ced3081c96496cac097ed688652413": {
      "model_module": "@jupyter-widgets/controls",
      "model_module_version": "1.5.0",
      "model_name": "HBoxModel",
      "state": {
       "children": [
        "IPY_MODEL_c7b09aefd01d4a0ca14a0b9afb99bca4"
       ],
       "layout": "IPY_MODEL_cbf652ad44c34236ad37d366666166fc"
      }
     },
     "37e95e72d0984213946025048c0e7689": {
      "model_module": "@jupyter-widgets/base",
      "model_module_version": "1.2.0",
      "model_name": "LayoutModel",
      "state": {}
     },
     "37fe8782dd5f4954b04f5a62dc2cfc74": {
      "model_module": "@jupyter-widgets/base",
      "model_module_version": "1.2.0",
      "model_name": "LayoutModel",
      "state": {
       "grid_area": "dircontent",
       "width": "auto"
      }
     },
     "384765c2e07e4e9693068deba44f0487": {
      "model_module": "@jupyter-widgets/controls",
      "model_module_version": "1.5.0",
      "model_name": "HTMLModel",
      "state": {
       "layout": "IPY_MODEL_46f7afc9253c4aacaa4698a22939ee54",
       "style": "IPY_MODEL_1ae7897afb3a4b20bd9d3e83bf740e5d",
       "value": "<p>defines the logic of the space naming. use default value where practical.</p>"
      }
     },
     "385009a9e39e4e2c8f821f439bf1e2f0": {
      "model_module": "@jupyter-widgets/base",
      "model_module_version": "1.2.0",
      "model_name": "LayoutModel",
      "state": {}
     },
     "386c2c365b824b32b63358d6208b12ff": {
      "model_module": "@jupyter-widgets/base",
      "model_module_version": "1.2.0",
      "model_name": "LayoutModel",
      "state": {}
     },
     "387aa2517aa143b0a8b196de15c7bfd4": {
      "model_module": "@jupyter-widgets/controls",
      "model_module_version": "1.5.0",
      "model_name": "HTMLModel",
      "state": {
       "layout": "IPY_MODEL_3aad4b42be8244e4b305f3f94ad6a91e",
       "style": "IPY_MODEL_79b3c571535443c3938460afe7481a45"
      }
     },
     "387e5787985a44578effda399356218e": {
      "model_module": "@jupyter-widgets/controls",
      "model_module_version": "1.5.0",
      "model_name": "DescriptionStyleModel",
      "state": {
       "description_width": ""
      }
     },
     "38f94bf765ae452bae751412f007f271": {
      "model_module": "@jupyter-widgets/output",
      "model_module_version": "1.0.0",
      "model_name": "OutputModel",
      "state": {
       "layout": "IPY_MODEL_d565c6f7cfe049e4bd9d5edab20ee965",
       "outputs": [
        {
         "data": {
          "application/vnd.jupyter.widget-view+json": {
           "model_id": "",
           "version_major": 2,
           "version_minor": 0
          },
          "text/plain": "Output()"
         },
         "metadata": {},
         "output_type": "display_data"
        },
        {
         "data": {
          "application/vnd.jupyter.widget-view+json": {
           "model_id": "",
           "version_major": 2,
           "version_minor": 0
          },
          "text/plain": "Output()"
         },
         "metadata": {},
         "output_type": "display_data"
        }
       ]
      }
     },
     "39123c5dd1b046b9899176617dd8916f": {
      "model_module": "@jupyter-widgets/base",
      "model_module_version": "1.2.0",
      "model_name": "LayoutModel",
      "state": {}
     },
     "39794ab2bb8c44cbb956ea0480d09359": {
      "model_module": "@jupyter-widgets/controls",
      "model_module_version": "1.5.0",
      "model_name": "HTMLModel",
      "state": {
       "layout": "IPY_MODEL_118595da392742d9b7836e23e107d452",
       "style": "IPY_MODEL_c87c7d49f00e4ecc8f233ed4d54066e5"
      }
     },
     "397a2692808449bf8def4e5b1845f1f0": {
      "model_module": "@jupyter-widgets/controls",
      "model_module_version": "1.5.0",
      "model_name": "HTMLModel",
      "state": {
       "layout": "IPY_MODEL_ed0f14e8c7b147c8bb7e7f1f566ae8ee",
       "style": "IPY_MODEL_9ec210867c204b649b63807ee23ae76d",
       "value": "<p>reus foo ous oo ous foo st</p>"
      }
     },
     "39adc78960a9470289ffc9c8e443c6da": {
      "model_module": "@jupyter-widgets/controls",
      "model_module_version": "1.5.0",
      "model_name": "HTMLModel",
      "state": {
       "layout": "IPY_MODEL_843f5dbac3104d6888270cf215ac740f",
       "style": "IPY_MODEL_872ed3d46d67477299b9e149d54c142b",
       "value": "<p>label</p>"
      }
     },
     "39eb7d1ea9b74ebba5f5464d7c6e79af": {
      "model_module": "@jupyter-widgets/controls",
      "model_module_version": "1.5.0",
      "model_name": "DescriptionStyleModel",
      "state": {
       "description_width": ""
      }
     },
     "3a4f5605a73046f48584e2b61f302ff2": {
      "model_module": "@jupyter-widgets/base",
      "model_module_version": "1.2.0",
      "model_name": "LayoutModel",
      "state": {}
     },
     "3a8496299a584e42b38864cb6312293e": {
      "model_module": "@jupyter-widgets/base",
      "model_module_version": "1.2.0",
      "model_name": "LayoutModel",
      "state": {}
     },
     "3aad4b42be8244e4b305f3f94ad6a91e": {
      "model_module": "@jupyter-widgets/base",
      "model_module_version": "1.2.0",
      "model_name": "LayoutModel",
      "state": {
       "display": "none"
      }
     },
     "3ab61416a1b04a29813cf1214dc8d76d": {
      "model_module": "@jupyter-widgets/controls",
      "model_module_version": "1.5.0",
      "model_name": "HTMLModel",
      "state": {
       "layout": "IPY_MODEL_4aaba77ea48349c8a6f4eff43408041c",
       "style": "IPY_MODEL_e0101ce9ba6041a89b3c499880bbc232",
       "value": "<p>Derived Text</p>"
      }
     },
     "3aba5a0725cb49fb8902a91b91e209e0": {
      "model_module": "@jupyter-widgets/controls",
      "model_module_version": "1.5.0",
      "model_name": "TextModel",
      "state": {
       "layout": "IPY_MODEL_fa7ab8e8064a427daa76bda4648157bf",
       "style": "IPY_MODEL_f6e19287c5294bab89119689051a99cd",
       "value": "shit"
      }
     },
     "3aba5b971fcb4e32b5ff6ed3dfe129a0": {
      "model_module": "@jupyter-widgets/controls",
      "model_module_version": "1.5.0",
      "model_name": "DescriptionStyleModel",
      "state": {
       "description_width": ""
      }
     },
     "3affa3a34b754393a6b2108706c2832d": {
      "model_module": "@jupyter-widgets/controls",
      "model_module_version": "1.5.0",
      "model_name": "HBoxModel",
      "state": {
       "children": [
        "IPY_MODEL_e2d846f1870d4033bc2a037817c5f171",
        "IPY_MODEL_47cef9d5cbce4b26942422e00e80a77e"
       ],
       "layout": "IPY_MODEL_798b0a1a70b3411083eef9ef6b2b1240"
      }
     },
     "3b15451bb2124ed690422845a6d7e968": {
      "model_module": "@jupyter-widgets/base",
      "model_module_version": "1.2.0",
      "model_name": "LayoutModel",
      "state": {}
     },
     "3b2ea15f89694fe680ab55f3723ee627": {
      "model_module": "@jupyter-widgets/output",
      "model_module_version": "1.0.0",
      "model_name": "OutputModel",
      "state": {
       "layout": "IPY_MODEL_f0aa9ce3cd6a457d96ba44c8fbc01cf6"
      }
     },
     "3b5ff5e7418d4b39bab47607841f17d3": {
      "model_module": "@jupyter-widgets/controls",
      "model_module_version": "1.5.0",
      "model_name": "HTMLModel",
      "state": {
       "layout": "IPY_MODEL_da358c59c41a4d4db8af362f68e3dd4c",
       "style": "IPY_MODEL_8fd110a9af5147cfb0cfbeb365f5008d",
       "value": "<p>File Prefix</p>"
      }
     },
     "3b7ed90b39174763a4b94740bbd56c7b": {
      "model_module": "@jupyter-widgets/base",
      "model_module_version": "1.2.0",
      "model_name": "LayoutModel",
      "state": {}
     },
     "3ba4e341454144a9afa1f3fe32e219a9": {
      "model_module": "@jupyter-widgets/controls",
      "model_module_version": "1.5.0",
      "model_name": "HBoxModel",
      "state": {
       "children": [
        "IPY_MODEL_661656c0448c4378a9a7f7ae9b52bc4e",
        "IPY_MODEL_9e44cb98249c4bb7a0e6fb3b0f4cb0bd"
       ],
       "layout": "IPY_MODEL_9e6a836035444703a03a32a4d77ecda8"
      }
     },
     "3bb3b3b941bd4e19b549b07d84be5fec": {
      "model_module": "@jupyter-widgets/base",
      "model_module_version": "1.2.0",
      "model_name": "LayoutModel",
      "state": {}
     },
     "3bbf6cbd6f5a4cb6b4da082c8279b840": {
      "model_module": "@jupyter-widgets/base",
      "model_module_version": "1.2.0",
      "model_name": "LayoutModel",
      "state": {}
     },
     "3bdd695d447f4d6a8a93d0e1ab4d961d": {
      "model_module": "@jupyter-widgets/controls",
      "model_module_version": "1.5.0",
      "model_name": "DropdownModel",
      "state": {
       "_options_labels": [
        "asfd",
        "10",
        "asdf"
       ],
       "index": 1,
       "layout": "IPY_MODEL_f36d6c49096a4770ac11ff69446ad3b2",
       "style": "IPY_MODEL_ab26e560c5aa4d7fb290cdd472721aca"
      }
     },
     "3c1aaf7dbaea450e9f906cbbc51ecf15": {
      "model_module": "@jupyter-widgets/base",
      "model_module_version": "1.2.0",
      "model_name": "LayoutModel",
      "state": {}
     },
     "3c53e695456b4b1fb83ab2c21ac57084": {
      "model_module": "@jupyter-widgets/base",
      "model_module_version": "1.2.0",
      "model_name": "LayoutModel",
      "state": {}
     },
     "3c65dcf350c34018916b8e4eee05b93b": {
      "model_module": "@jupyter-widgets/controls",
      "model_module_version": "1.5.0",
      "model_name": "DescriptionStyleModel",
      "state": {
       "description_width": ""
      }
     },
     "3c6853a625234ec9892bf80a187df7fd": {
      "model_module": "@jupyter-widgets/base",
      "model_module_version": "1.2.0",
      "model_name": "LayoutModel",
      "state": {}
     },
     "3c83cddda9ae4a78a204cd64571a4332": {
      "model_module": "@jupyter-widgets/controls",
      "model_module_version": "1.5.0",
      "model_name": "SelectModel",
      "state": {
       "_options_labels": [
        "..",
        "archive",
        "inputs-docx_to_pdf.json",
        "inputs-eplus_pipework_params-1.csv",
        "inputs-eplus_pipework_params.csv",
        "inputs-gbxml.json",
        "test-1.json",
        "test-derived-val.json",
        "test.json"
       ],
       "index": 5,
       "layout": "IPY_MODEL_d3ccb6614822495c91b6c5c922482e44",
       "rows": 8,
       "style": "IPY_MODEL_e5c4573daaf444dd9a7a9497010d46d3"
      }
     },
     "3c8f267668de4f89bf54cf70abd441a0": {
      "model_module": "@jupyter-widgets/controls",
      "model_module_version": "1.5.0",
      "model_name": "DescriptionStyleModel",
      "state": {
       "description_width": ""
      }
     },
     "3c9115f962214d89a4fdce3882d73f21": {
      "model_module": "@jupyter-widgets/controls",
      "model_module_version": "1.5.0",
      "model_name": "HTMLModel",
      "state": {
       "layout": "IPY_MODEL_4fb2291232c6495b93c9a0f438e7cca6",
       "style": "IPY_MODEL_c42ecb6fdb4048fea6e0183d8c8b5bce",
       "value": "<p>name</p>"
      }
     },
     "3c92d25d7ff5498cacfe5573a1bfec5e": {
      "model_module": "@jupyter-widgets/base",
      "model_module_version": "1.2.0",
      "model_name": "LayoutModel",
      "state": {}
     },
     "3cafa27f9ae94c65b876c61363f2e479": {
      "model_module": "@jupyter-widgets/controls",
      "model_module_version": "1.5.0",
      "model_name": "DescriptionStyleModel",
      "state": {
       "description_width": ""
      }
     },
     "3cb2b0566b684daca53415e768fae588": {
      "model_module": "@jupyter-widgets/controls",
      "model_module_version": "1.5.0",
      "model_name": "DescriptionStyleModel",
      "state": {
       "description_width": ""
      }
     },
     "3ccf0419988348309d95fcd25afce5e4": {
      "model_module": "@jupyter-widgets/controls",
      "model_module_version": "1.5.0",
      "model_name": "DescriptionStyleModel",
      "state": {
       "description_width": ""
      }
     },
     "3cf3be3cbfe942baa53e8807acbf0161": {
      "model_module": "@jupyter-widgets/controls",
      "model_module_version": "1.5.0",
      "model_name": "HBoxModel",
      "state": {
       "children": [
        "IPY_MODEL_07820de5083b43e197c7faf9a2b9faba",
        "IPY_MODEL_c8bfd6391269473db7a12d444aadd224"
       ],
       "layout": "IPY_MODEL_b7235e1d31f940848da0c2a937fd93cd"
      }
     },
     "3d4437a83e864e7c99f43bbd05c7a8c5": {
      "model_module": "@jupyter-widgets/base",
      "model_module_version": "1.2.0",
      "model_name": "LayoutModel",
      "state": {}
     },
     "3d5c45836db04378a0630dbdc7b6b808": {
      "model_module": "@jupyter-widgets/controls",
      "model_module_version": "1.5.0",
      "model_name": "HBoxModel",
      "state": {
       "children": [
        "IPY_MODEL_30007fea4cc345ba9b9cde50d3578fb7",
        "IPY_MODEL_dcce417e873e43fb9b6a7691e6f5aec4"
       ],
       "layout": "IPY_MODEL_c3b48c0bf15b40ae88ad8497ebddac99"
      }
     },
     "3d699b7189ee414290b1a94dbcfad2b1": {
      "model_module": "@jupyter-widgets/base",
      "model_module_version": "1.2.0",
      "model_name": "LayoutModel",
      "state": {
       "align_items": "stretch",
       "display": "flex",
       "flex_flow": "row",
       "grid_auto_columns": "True",
       "justify_content": "flex-start",
       "width": "80%"
      }
     },
     "3d78bd75f9d248f4ac8d345cd16b542e": {
      "model_module": "@jupyter-widgets/base",
      "model_module_version": "1.2.0",
      "model_name": "LayoutModel",
      "state": {}
     },
     "3da2887fd2084a67b1099cc623191c7d": {
      "model_module": "@jupyter-widgets/controls",
      "model_module_version": "1.5.0",
      "model_name": "DescriptionStyleModel",
      "state": {
       "description_width": ""
      }
     },
     "3da48f676759423db43091d678374a5c": {
      "model_module": "@jupyter-widgets/controls",
      "model_module_version": "1.5.0",
      "model_name": "HBoxModel",
      "state": {
       "children": [
        "IPY_MODEL_9cf5d9c6f6c747c9943e45a8410485c6",
        "IPY_MODEL_fb3bc4a596284e388a66d5233a1798ce"
       ],
       "layout": "IPY_MODEL_26fb29d499fe407db6415746742c5159"
      }
     },
     "3db5360ab2f54b1bac41b34677b7539a": {
      "model_module": "@jupyter-widgets/base",
      "model_module_version": "1.2.0",
      "model_name": "LayoutModel",
      "state": {}
     },
     "3dc858e1e2b74ba9a4f4db5ae29a2d35": {
      "model_module": "@jupyter-widgets/controls",
      "model_module_version": "1.5.0",
      "model_name": "HBoxModel",
      "state": {
       "children": [
        "IPY_MODEL_94d34f127c074bd0a288216e3cb9f693",
        "IPY_MODEL_1cdc4ad296894b92855f9cce8d942ee0"
       ],
       "layout": "IPY_MODEL_da69040d915a4e5a8668be75cfe57d4e"
      }
     },
     "3dcb2de76f4a4cd6b3ed9ef9f2aa93c1": {
      "model_module": "@jupyter-widgets/controls",
      "model_module_version": "1.5.0",
      "model_name": "DescriptionStyleModel",
      "state": {
       "description_width": ""
      }
     },
     "3de2f84c27af4b90b99b6b2d656ae722": {
      "model_module": "@jupyter-widgets/output",
      "model_module_version": "1.0.0",
      "model_name": "OutputModel",
      "state": {
       "layout": "IPY_MODEL_5e436747056e4cdd9687a8871e84b4e2"
      }
     },
     "3e2c0e30dbfc4ed790233487d595f92d": {
      "model_module": "@jupyter-widgets/controls",
      "model_module_version": "1.5.0",
      "model_name": "DatePickerModel",
      "state": {
       "disabled": false,
       "layout": "IPY_MODEL_7e9afef135ce4844b9a3f58e10e9f87f",
       "style": "IPY_MODEL_9fa32fb789104e948edea376a68ccd94",
       "value": {
        "date": 29,
        "month": 5,
        "year": 2020
       }
      }
     },
     "3e30ca45b4bd440c90d57a9fc3f8ebe9": {
      "model_module": "@jupyter-widgets/controls",
      "model_module_version": "1.5.0",
      "model_name": "DescriptionStyleModel",
      "state": {
       "description_width": ""
      }
     },
     "3e3405a14fe9451daea4930a72e5a916": {
      "model_module": "@jupyter-widgets/controls",
      "model_module_version": "1.5.0",
      "model_name": "DescriptionStyleModel",
      "state": {
       "description_width": ""
      }
     },
     "3e76391bece04917bb1ccfa80172503d": {
      "model_module": "@jupyter-widgets/controls",
      "model_module_version": "1.5.0",
      "model_name": "DescriptionStyleModel",
      "state": {
       "description_width": ""
      }
     },
     "3e795a7e0f3845c6bfc3190577d3a966": {
      "model_module": "@jupyter-widgets/controls",
      "model_module_version": "1.5.0",
      "model_name": "ButtonStyleModel",
      "state": {
       "font_weight": "bold"
      }
     },
     "3ec209e32bbf4c3e8af89eb392e665fc": {
      "model_module": "@jupyter-widgets/base",
      "model_module_version": "1.2.0",
      "model_name": "LayoutModel",
      "state": {}
     },
     "3ed6c9d5997b490e8280c7093ec75a73": {
      "model_module": "@jupyter-widgets/controls",
      "model_module_version": "1.5.0",
      "model_name": "HBoxModel",
      "state": {
       "children": [
        "IPY_MODEL_b8402faf8a0c4d7d9b9b2646aa0ad3cb",
        "IPY_MODEL_04a9f11940944f78b3af672342687c2d"
       ],
       "layout": "IPY_MODEL_a9e239fba61149449c4188b8fb8ee4e2"
      }
     },
     "3f1cbba203064cc580e54371cba72537": {
      "model_module": "@jupyter-widgets/controls",
      "model_module_version": "1.5.0",
      "model_name": "HBoxModel",
      "state": {
       "children": [
        "IPY_MODEL_1897834605c6489fa905105dab3c50b7",
        "IPY_MODEL_c496d4d7a9c440cd8b181fae18444578"
       ],
       "layout": "IPY_MODEL_f3468d5b85914a1fba1ff3997792232d"
      }
     },
     "3f2dde6049ae402ca6ca063a38c3436e": {
      "model_module": "@jupyter-widgets/output",
      "model_module_version": "1.0.0",
      "model_name": "OutputModel",
      "state": {
       "layout": "IPY_MODEL_70e057e8ac1f47e483996903ce84e6ea"
      }
     },
     "3f3ba0278e6d4aa6b687e65152da25b3": {
      "model_module": "@jupyter-widgets/base",
      "model_module_version": "1.2.0",
      "model_name": "LayoutModel",
      "state": {
       "align_items": "stretch",
       "border": "dashed 0.2px green",
       "display": "flex",
       "flex_flow": "row",
       "grid_auto_columns": "True",
       "justify_content": "flex-start",
       "width": "100%"
      }
     },
     "3f5781ba796e44e8b82e1bd6dde1ea6e": {
      "model_module": "@jupyter-widgets/base",
      "model_module_version": "1.2.0",
      "model_name": "LayoutModel",
      "state": {
       "align_items": "stretch",
       "border": "dashed 0.2px green",
       "display": "flex",
       "flex_flow": "row",
       "grid_auto_columns": "True",
       "justify_content": "flex-start",
       "width": "100%"
      }
     },
     "3f6ea7a478c149b78bb6f1ed105c0621": {
      "model_module": "@jupyter-widgets/controls",
      "model_module_version": "1.5.0",
      "model_name": "DescriptionStyleModel",
      "state": {
       "description_width": ""
      }
     },
     "3f7ba097e42d471c95db0da669761424": {
      "model_module": "@jupyter-widgets/controls",
      "model_module_version": "1.5.0",
      "model_name": "HBoxModel",
      "state": {
       "children": [
        "IPY_MODEL_4e3742bf0ab940d9921bddc56cf88375",
        "IPY_MODEL_721b13dbd1ff42e5a84fc7bfa17204df"
       ],
       "layout": "IPY_MODEL_4fb34279cce14b37bab83e41ce4b5613"
      }
     },
     "3f9273b712ba409b8c1ed6e6e49dfa6f": {
      "model_module": "@jupyter-widgets/controls",
      "model_module_version": "1.5.0",
      "model_name": "HTMLModel",
      "state": {
       "layout": "IPY_MODEL_94611347cd3f4a34a2b84c4979fff0b9",
       "style": "IPY_MODEL_f534f72ab9284f4f82b21f60fbb03449",
       "value": "<p>edit user input form below</p>"
      }
     },
     "3fa5a9e58f0d4ad8929cc724323fd656": {
      "model_module": "@jupyter-widgets/controls",
      "model_module_version": "1.5.0",
      "model_name": "DescriptionStyleModel",
      "state": {
       "description_width": ""
      }
     },
     "3fe50508fb584d388bd4f9cda0f37d56": {
      "model_module": "@jupyter-widgets/base",
      "model_module_version": "1.2.0",
      "model_name": "LayoutModel",
      "state": {}
     },
     "3ff907efc60e461e91038122d1ff23cb": {
      "model_module": "@jupyter-widgets/base",
      "model_module_version": "1.2.0",
      "model_name": "LayoutModel",
      "state": {}
     },
     "3ffdf17db97248f4a45c4af4144a22a6": {
      "model_module": "@jupyter-widgets/base",
      "model_module_version": "1.2.0",
      "model_name": "LayoutModel",
      "state": {}
     },
     "40437b4012fb4d73aaa5e5bb31c6f329": {
      "model_module": "@jupyter-widgets/controls",
      "model_module_version": "1.5.0",
      "model_name": "DescriptionStyleModel",
      "state": {
       "description_width": ""
      }
     },
     "404c6f7368ce46d08159e6fc45ec3ecd": {
      "model_module": "@jupyter-widgets/output",
      "model_module_version": "1.0.0",
      "model_name": "OutputModel",
      "state": {
       "layout": "IPY_MODEL_7755b3408fb140f9b9e0475f23163f3b"
      }
     },
     "405f336ad5364b2f9ab6c5a97eec042e": {
      "model_module": "@jupyter-widgets/output",
      "model_module_version": "1.0.0",
      "model_name": "OutputModel",
      "state": {
       "layout": "IPY_MODEL_fe2ffc772b8f46b587acd2699c13cb36"
      }
     },
     "40b067fc7a814496ba960858bc8c1719": {
      "model_module": "@jupyter-widgets/base",
      "model_module_version": "1.2.0",
      "model_name": "LayoutModel",
      "state": {}
     },
     "40b0adbfe678408ca50d42bfcc7ccd02": {
      "model_module": "@jupyter-widgets/base",
      "model_module_version": "1.2.0",
      "model_name": "LayoutModel",
      "state": {}
     },
     "40e29d2c579141c290ec62c6608514ee": {
      "model_module": "@jupyter-widgets/output",
      "model_module_version": "1.0.0",
      "model_name": "OutputModel",
      "state": {
       "layout": "IPY_MODEL_81798628405640d19df96694650a7bdd"
      }
     },
     "40e2d3213aa046dbb84f3e418385b3fb": {
      "model_module": "@jupyter-widgets/controls",
      "model_module_version": "1.5.0",
      "model_name": "FloatSliderModel",
      "state": {
       "layout": "IPY_MODEL_f6be0c46d8f54e168f42a951002aa928",
       "max": 10,
       "style": "IPY_MODEL_cd1ac643dbdc43e897fca9ae3b462ad3",
       "value": 1
      }
     },
     "40e9905cf28648ad876d82d9be5230e0": {
      "model_module": "@jupyter-widgets/base",
      "model_module_version": "1.2.0",
      "model_name": "LayoutModel",
      "state": {
       "align_items": "stretch",
       "border": "dashed 0.2px green",
       "display": "flex",
       "flex_flow": "row",
       "grid_auto_columns": "True",
       "justify_content": "flex-start",
       "width": "100%"
      }
     },
     "4115aa20e078416ca7b1103f6b703182": {
      "model_module": "@jupyter-widgets/controls",
      "model_module_version": "1.5.0",
      "model_name": "ButtonModel",
      "state": {
       "description": "Select",
       "layout": "IPY_MODEL_0a9b4872456f4fdca76573a0c0dda419",
       "style": "IPY_MODEL_7b8d1f04b3d64259a862e08dc41c627e"
      }
     },
     "412758596f5849caba5863bf96b61742": {
      "model_module": "@jupyter-widgets/controls",
      "model_module_version": "1.5.0",
      "model_name": "ButtonStyleModel",
      "state": {}
     },
     "413d53ab1f1141849155de80c5cfb6a5": {
      "model_module": "@jupyter-widgets/base",
      "model_module_version": "1.2.0",
      "model_name": "LayoutModel",
      "state": {}
     },
     "41687a9ca113414bb35e41629cedd821": {
      "model_module": "@jupyter-widgets/controls",
      "model_module_version": "1.5.0",
      "model_name": "HBoxModel",
      "state": {
       "children": [
        "IPY_MODEL_8ddc0a51ff0b46bcba2dbcecaf0131a8"
       ],
       "layout": "IPY_MODEL_8f5d09bbd0074cd0b05710f12eb74b22"
      }
     },
     "4188233b93d84ab6a4bce3f5f2e3bff9": {
      "model_module": "@jupyter-widgets/controls",
      "model_module_version": "1.5.0",
      "model_name": "SelectMultipleModel",
      "state": {
       "_options_labels": [
        "asfd",
        "10",
        "asdf"
       ],
       "index": [
        1
       ],
       "layout": "IPY_MODEL_440d51c37b6b42f7b08adbed59f8fd73",
       "rows": 5,
       "style": "IPY_MODEL_3c8f267668de4f89bf54cf70abd441a0"
      }
     },
     "419267e996c74686adecba7f5c8adeba": {
      "model_module": "@jupyter-widgets/base",
      "model_module_version": "1.2.0",
      "model_name": "LayoutModel",
      "state": {}
     },
     "41a51012870e47758ad09130821d779d": {
      "model_module": "@jupyter-widgets/base",
      "model_module_version": "1.2.0",
      "model_name": "LayoutModel",
      "state": {
       "width": "5%"
      }
     },
     "41b0b0c1abb848c98f0bce6a38653a4e": {
      "model_module": "@jupyter-widgets/controls",
      "model_module_version": "1.5.0",
      "model_name": "DescriptionStyleModel",
      "state": {
       "description_width": ""
      }
     },
     "41d125cf03384e24ba5e1209b3c18025": {
      "model_module": "@jupyter-widgets/controls",
      "model_module_version": "1.5.0",
      "model_name": "TextModel",
      "state": {
       "layout": "IPY_MODEL_cc469f7dc1974c7cbe9e91f3e85a3c0c",
       "placeholder": "output filename",
       "style": "IPY_MODEL_07c0b46b7b3e45b5ad3a040da06f23fe",
       "value": "inputs-gbxml.json"
      }
     },
     "41e9ad25e8fb43f384989330a575d229": {
      "model_module": "@jupyter-widgets/controls",
      "model_module_version": "1.5.0",
      "model_name": "DescriptionStyleModel",
      "state": {
       "description_width": ""
      }
     },
     "41ee9cd72e7544378d8a0ba776186a78": {
      "model_module": "@jupyter-widgets/controls",
      "model_module_version": "1.5.0",
      "model_name": "DescriptionStyleModel",
      "state": {
       "description_width": ""
      }
     },
     "42326aed86b84ac2ad38d1b4a3b4cdca": {
      "model_module": "@jupyter-widgets/base",
      "model_module_version": "1.2.0",
      "model_name": "LayoutModel",
      "state": {}
     },
     "424841d41ff242369cc2da595c207b90": {
      "model_module": "@jupyter-widgets/controls",
      "model_module_version": "1.5.0",
      "model_name": "HBoxModel",
      "state": {
       "children": [
        "IPY_MODEL_aae6afbb1d8b46a39b7526385dd11689",
        "IPY_MODEL_f2e221e34c2e486685dc1013722aa6dc"
       ],
       "layout": "IPY_MODEL_7f67406ab3e94711828dbde1f761f3f5"
      }
     },
     "42717582fb48426c9da14eaae3792b92": {
      "model_module": "@jupyter-widgets/controls",
      "model_module_version": "1.5.0",
      "model_name": "HBoxModel",
      "state": {
       "children": [
        "IPY_MODEL_a031e0251c00414d90b612bfffb1c6a5"
       ],
       "layout": "IPY_MODEL_49e7131c965145739fe39037fd31be5d"
      }
     },
     "4305e5316e964d198cf0e821173ee5f9": {
      "model_module": "@jupyter-widgets/controls",
      "model_module_version": "1.5.0",
      "model_name": "DescriptionStyleModel",
      "state": {
       "description_width": ""
      }
     },
     "43159243408d461b8dc73aae82ed2a4f": {
      "model_module": "@jupyter-widgets/controls",
      "model_module_version": "1.5.0",
      "model_name": "HBoxModel",
      "state": {
       "children": [
        "IPY_MODEL_3c9115f962214d89a4fdce3882d73f21",
        "IPY_MODEL_7c4c0912573545e3b2f67c063b2c3485"
       ],
       "layout": "IPY_MODEL_a070679a03ce460eb55a5d382bc08637"
      }
     },
     "4339da514823406f9596d83673ff1028": {
      "model_module": "@jupyter-widgets/base",
      "model_module_version": "1.2.0",
      "model_name": "LayoutModel",
      "state": {}
     },
     "433a8d740f514de8beb29838fb79b9f0": {
      "model_module": "@jupyter-widgets/controls",
      "model_module_version": "1.5.0",
      "model_name": "HTMLModel",
      "state": {
       "layout": "IPY_MODEL_0e8266a31c5040b4afdfa25840e71995",
       "style": "IPY_MODEL_5edd12586d5e4bd68f47c8f9ade00622",
       "value": "<p>its a foo cake</p>"
      }
     },
     "4350a7e1271c4bf49535544ca2b765f1": {
      "model_module": "@jupyter-widgets/base",
      "model_module_version": "1.2.0",
      "model_name": "LayoutModel",
      "state": {}
     },
     "436f020c2be54c508f95a3e6fc1aa96b": {
      "model_module": "@jupyter-widgets/output",
      "model_module_version": "1.0.0",
      "model_name": "OutputModel",
      "state": {
       "layout": "IPY_MODEL_143a0d0ba71448468004e2d516d1d164"
      }
     },
     "4378dcaf2a9b4559814cf3ad3d7f9f20": {
      "model_module": "@jupyter-widgets/controls",
      "model_module_version": "1.5.0",
      "model_name": "DescriptionStyleModel",
      "state": {
       "description_width": ""
      }
     },
     "43968b8f79384978b0a853b8de2eab62": {
      "model_module": "@jupyter-widgets/controls",
      "model_module_version": "1.5.0",
      "model_name": "DescriptionStyleModel",
      "state": {
       "description_width": ""
      }
     },
     "43bf6c6ed6924bf6a2534792f819b89d": {
      "model_module": "@jupyter-widgets/base",
      "model_module_version": "1.2.0",
      "model_name": "LayoutModel",
      "state": {}
     },
     "43c6540a16234894800e8b8e6ad922e4": {
      "model_module": "@jupyter-widgets/controls",
      "model_module_version": "1.5.0",
      "model_name": "HTMLModel",
      "state": {
       "layout": "IPY_MODEL_5372ae56d1844d61a99b2f6209447406",
       "style": "IPY_MODEL_ddc44e52596f41fc8e10b505b0e93b5a",
       "value": "<p>fpth_in</p>"
      }
     },
     "43cca6302ca142979917dc56caf48958": {
      "model_module": "@jupyter-widgets/controls",
      "model_module_version": "1.5.0",
      "model_name": "HTMLModel",
      "state": {
       "layout": "IPY_MODEL_cbe20045b5154f0cbfeba6516763ba60",
       "style": "IPY_MODEL_a0978531b09448b095b0565c989f8062",
       "value": "<p>Model Desc</p>"
      }
     },
     "43f0fad904d14152be2f3cd2d026363a": {
      "model_module": "@jupyter-widgets/base",
      "model_module_version": "1.2.0",
      "model_name": "LayoutModel",
      "state": {}
     },
     "440d51c37b6b42f7b08adbed59f8fd73": {
      "model_module": "@jupyter-widgets/base",
      "model_module_version": "1.2.0",
      "model_name": "LayoutModel",
      "state": {}
     },
     "4410cdbc32254597b9a9f9ae00826b13": {
      "model_module": "@jupyter-widgets/controls",
      "model_module_version": "1.5.0",
      "model_name": "HTMLModel",
      "state": {
       "layout": "IPY_MODEL_e8af21bfb0014f4fa9dbf4e45a729ac4",
       "style": "IPY_MODEL_9078dda655bb4065a14b73254bba4e4d",
       "value": "<p>edit user input form below</p>"
      }
     },
     "44250b03fe624a048ec63c8f22c7dbf0": {
      "model_module": "@jupyter-widgets/base",
      "model_module_version": "1.2.0",
      "model_name": "LayoutModel",
      "state": {}
     },
     "4430eb09b5504af98c467c1655333c6e": {
      "model_module": "@jupyter-widgets/base",
      "model_module_version": "1.2.0",
      "model_name": "LayoutModel",
      "state": {}
     },
     "44423ee0b2724786a61eef3e9f3af2f0": {
      "model_module": "@jupyter-widgets/controls",
      "model_module_version": "1.5.0",
      "model_name": "HTMLModel",
      "state": {
       "layout": "IPY_MODEL_05ba9def87ff42ed9c0e2ab225a9a489",
       "style": "IPY_MODEL_633e6323f9954a35a032dd21d3e08a4c",
       "value": "<p>Example use of the DerivedText Widget</p>"
      }
     },
     "445033eaf9d7431081859a6ff0e47f20": {
      "model_module": "@jupyter-widgets/controls",
      "model_module_version": "1.5.0",
      "model_name": "ButtonStyleModel",
      "state": {}
     },
     "4467d3ba9d434dde89819d584f2f7d20": {
      "model_module": "@jupyter-widgets/controls",
      "model_module_version": "1.5.0",
      "model_name": "VBoxModel",
      "state": {
       "layout": "IPY_MODEL_b6cfd17b806049e5a6f7addb81b4ca29"
      }
     },
     "446f385df407448d86159819bbb20824": {
      "model_module": "@jupyter-widgets/base",
      "model_module_version": "1.2.0",
      "model_name": "LayoutModel",
      "state": {}
     },
     "4475b9a194aa48a0bfe7e3a0ed57a8b1": {
      "model_module": "@jupyter-widgets/base",
      "model_module_version": "1.2.0",
      "model_name": "LayoutModel",
      "state": {
       "align_items": "stretch",
       "display": "flex",
       "flex_flow": "row",
       "grid_auto_columns": "True",
       "justify_content": "flex-start",
       "width": "80%"
      }
     },
     "4477a2582361431bbb87aa5563de4608": {
      "model_module": "@jupyter-widgets/base",
      "model_module_version": "1.2.0",
      "model_name": "LayoutModel",
      "state": {
       "align_items": "stretch",
       "border": "dashed 0.2px green",
       "display": "flex",
       "flex_flow": "row",
       "grid_auto_columns": "True",
       "justify_content": "flex-start",
       "width": "100%"
      }
     },
     "44c39348d3244c758699936effd4a7df": {
      "model_module": "@jupyter-widgets/controls",
      "model_module_version": "1.5.0",
      "model_name": "HBoxModel",
      "state": {
       "children": [
        "IPY_MODEL_171cd70020ec428699980341cad82182"
       ],
       "layout": "IPY_MODEL_3358973ca5304824bff16b02dea7deb8"
      }
     },
     "44d5a15400ac4c9ebcc84dadcc4ddf5c": {
      "model_module": "@jupyter-widgets/controls",
      "model_module_version": "1.5.0",
      "model_name": "DescriptionStyleModel",
      "state": {
       "description_width": ""
      }
     },
     "44eb7bfca571492fbd010e49ba4971ba": {
      "model_module": "@jupyter-widgets/output",
      "model_module_version": "1.0.0",
      "model_name": "OutputModel",
      "state": {
       "layout": "IPY_MODEL_53dd4086940348a9a1b48e695c946640"
      }
     },
     "44f4a6c4fa46490fb713f8a6c87d3b0d": {
      "model_module": "@jupyter-widgets/controls",
      "model_module_version": "1.5.0",
      "model_name": "HBoxModel",
      "state": {
       "children": [
        "IPY_MODEL_46e95a8d1b3d4b58a20f1fd6e0ad5e84",
        "IPY_MODEL_5945509a35954e43a2d6cf7b4d69fd54"
       ],
       "layout": "IPY_MODEL_ef6e679bfb114c5ba1a032154e912ab2"
      }
     },
     "44f785e2ec6a4e518def0a42116f834b": {
      "model_module": "@jupyter-widgets/base",
      "model_module_version": "1.2.0",
      "model_name": "LayoutModel",
      "state": {}
     },
     "44fb2eb6affd4ac2880f6946cd33319b": {
      "model_module": "@jupyter-widgets/controls",
      "model_module_version": "1.5.0",
      "model_name": "ButtonModel",
      "state": {
       "button_style": "success",
       "description": "save changes",
       "layout": "IPY_MODEL_a39eff53ff87448ea94713742c39ec12",
       "style": "IPY_MODEL_6d186ab624cd4794acd42aaac12619cc"
      }
     },
     "4539858f22c4466e8be417b4bb69032a": {
      "model_module": "@jupyter-widgets/controls",
      "model_module_version": "1.5.0",
      "model_name": "DescriptionStyleModel",
      "state": {
       "description_width": ""
      }
     },
     "454bc3052d63456e8a8303efcce3f004": {
      "model_module": "@jupyter-widgets/controls",
      "model_module_version": "1.5.0",
      "model_name": "SliderStyleModel",
      "state": {
       "description_width": ""
      }
     },
     "45601d3ebaea4238b755eea0c4ae69a6": {
      "model_module": "@jupyter-widgets/controls",
      "model_module_version": "1.5.0",
      "model_name": "HBoxModel",
      "state": {
       "children": [
        "IPY_MODEL_c97a96410ead4f1fae7d8c15daad9992",
        "IPY_MODEL_1f5a81fa4fbd42dba5de5f19ccbe974e"
       ],
       "layout": "IPY_MODEL_b5d900f8f91e4168baeae3e68765770b"
      }
     },
     "4587e6ee626c44ceb2c5d6326437680f": {
      "model_module": "@jupyter-widgets/controls",
      "model_module_version": "1.5.0",
      "model_name": "HTMLModel",
      "state": {
       "layout": "IPY_MODEL_2358f822013e4cf7a5cdc63279541bc2",
       "style": "IPY_MODEL_9e024043c3e0482f802a73a7a5c8227d",
       "value": "<p>its a foo cake</p>"
      }
     },
     "45a30a3f243d42af8cadf371a0d68079": {
      "model_module": "@jupyter-widgets/controls",
      "model_module_version": "1.5.0",
      "model_name": "SelectMultipleModel",
      "state": {
       "_options_labels": [
        "asfd",
        "10",
        "asdf"
       ],
       "index": [
        1
       ],
       "layout": "IPY_MODEL_baf2b2bd3b01491a9def6d7920b58512",
       "rows": 5,
       "style": "IPY_MODEL_b3768ae3af154b9dbb235c077a66fca7"
      }
     },
     "45b77c16381c481c8ae77094387026c9": {
      "model_module": "@jupyter-widgets/controls",
      "model_module_version": "1.5.0",
      "model_name": "VBoxModel",
      "state": {
       "children": [
        "IPY_MODEL_4c9fc880aa0145da9b669b4c594c501c",
        "IPY_MODEL_4f3565eafc51453ab73090b2fb96119f"
       ],
       "layout": "IPY_MODEL_8040ef3c50b541848b7623c6905fa06f"
      }
     },
     "45b867d474f849dea780a0f3fa96ac43": {
      "model_module": "@jupyter-widgets/controls",
      "model_module_version": "1.5.0",
      "model_name": "HTMLModel",
      "state": {
       "layout": "IPY_MODEL_70845627f17640dea22970928235dc91",
       "style": "IPY_MODEL_75b06bb65a304b278d6ea10abab16fbb",
       "value": "<p>name</p>"
      }
     },
     "45c64068203f4c26a7f5c5806b8474d4": {
      "model_module": "@jupyter-widgets/controls",
      "model_module_version": "1.5.0",
      "model_name": "HTMLModel",
      "state": {
       "layout": "IPY_MODEL_b4ed7040d6664e9a806913186cd55126",
       "style": "IPY_MODEL_81785540170a404298561a6e3f24b750",
       "value": "<p>Example use of the DatePicker Widget</p>"
      }
     },
     "45cde0af436741d682c35dc02faa8f9d": {
      "model_module": "@jupyter-widgets/base",
      "model_module_version": "1.2.0",
      "model_name": "LayoutModel",
      "state": {
       "align_items": "stretch",
       "display": "flex",
       "flex_flow": "row",
       "grid_auto_columns": "True",
       "justify_content": "flex-start",
       "width": "80%"
      }
     },
     "46046137c9ec4e76a954b421990abec1": {
      "model_module": "@jupyter-widgets/controls",
      "model_module_version": "1.5.0",
      "model_name": "ToggleButtonModel",
      "state": {
       "button_style": "info",
       "description": "select file",
       "layout": "IPY_MODEL_4430eb09b5504af98c467c1655333c6e",
       "style": "IPY_MODEL_1f1e35b015b947538de8c0c0a2645e37"
      }
     },
     "460559f74b234c5b9bae4fb8e31f8e94": {
      "model_module": "@jupyter-widgets/controls",
      "model_module_version": "1.5.0",
      "model_name": "DescriptionStyleModel",
      "state": {
       "description_width": ""
      }
     },
     "463ca2755c8e47e6b9716e1d7ce516c2": {
      "model_module": "@jupyter-widgets/controls",
      "model_module_version": "1.5.0",
      "model_name": "ButtonModel",
      "state": {
       "button_style": "success",
       "description": "save",
       "layout": "IPY_MODEL_da89781dea08438a9960817888659f79",
       "style": "IPY_MODEL_f9277a3239f34e25b9cbfeb6bf7af769"
      }
     },
     "464ef6f0d7b243e3802ef56ad5bfb0d2": {
      "model_module": "@jupyter-widgets/output",
      "model_module_version": "1.0.0",
      "model_name": "OutputModel",
      "state": {
       "layout": "IPY_MODEL_6aef3ed86be34ec39685a4ac6b2ab038"
      }
     },
     "46545ac3433443369527d22bba95f22f": {
      "model_module": "@jupyter-widgets/controls",
      "model_module_version": "1.5.0",
      "model_name": "HTMLModel",
      "state": {
       "layout": "IPY_MODEL_149263cb84b84d21a9e39516c9d72613",
       "style": "IPY_MODEL_e43bf5d3dc1643a9aaa6c3c08023b79a",
       "value": "<p>General Description of the Model</p>"
      }
     },
     "465c9210f1f14bb799e5a90e70e5ac60": {
      "model_module": "@jupyter-widgets/controls",
      "model_module_version": "1.5.0",
      "model_name": "DescriptionStyleModel",
      "state": {
       "description_width": ""
      }
     },
     "465f581e99d84aee88c4f3b7a6820371": {
      "model_module": "@jupyter-widgets/base",
      "model_module_version": "1.2.0",
      "model_name": "LayoutModel",
      "state": {
       "grid_area": "filename",
       "width": "auto"
      }
     },
     "469dbca1b214403c821406b8973a6842": {
      "model_module": "@jupyter-widgets/controls",
      "model_module_version": "1.5.0",
      "model_name": "HBoxModel",
      "state": {
       "children": [
        "IPY_MODEL_ef907bea450149d0ac5d03fde6044f38",
        "IPY_MODEL_6e4daac57310434c89fb52693ce4e185"
       ],
       "layout": "IPY_MODEL_8fa024fe0c34478189acc54e0c2e427b"
      }
     },
     "469fd31e8b904d618f1570070f371ef4": {
      "model_module": "@jupyter-widgets/base",
      "model_module_version": "1.2.0",
      "model_name": "LayoutModel",
      "state": {}
     },
     "46bc555acdac4b0b98d2867926743f29": {
      "model_module": "@jupyter-widgets/controls",
      "model_module_version": "1.5.0",
      "model_name": "HTMLModel",
      "state": {
       "layout": "IPY_MODEL_b71ed82de47443399238e30c419feb43",
       "style": "IPY_MODEL_8383907b38a5462997444cbbe255c1da",
       "value": "<p>spc_name_index</p>"
      }
     },
     "46be0797663a4b77b2109e1413d2f839": {
      "model_module": "@jupyter-widgets/controls",
      "model_module_version": "1.5.0",
      "model_name": "DescriptionStyleModel",
      "state": {
       "description_width": ""
      }
     },
     "46df18d2d2ed47e4bd98bd65ab4a0dd0": {
      "model_module": "@jupyter-widgets/controls",
      "model_module_version": "1.5.0",
      "model_name": "VBoxModel",
      "state": {
       "children": [
        "IPY_MODEL_1a2f0d50d28041ec982bc6323f39c3fc",
        "IPY_MODEL_f9cdc685b21d489a9272b4ece132d78b",
        "IPY_MODEL_7aa43d0219824fb9bf56226e835a95ca"
       ],
       "layout": "IPY_MODEL_be7eec2afe0c40199fe8e772270b1f27"
      }
     },
     "46e22bdcf6c94d2faf7817b1ab06e902": {
      "model_module": "@jupyter-widgets/controls",
      "model_module_version": "1.5.0",
      "model_name": "VBoxModel",
      "state": {
       "children": [
        "IPY_MODEL_1a2f0d50d28041ec982bc6323f39c3fc",
        "IPY_MODEL_f9cdc685b21d489a9272b4ece132d78b",
        "IPY_MODEL_7aa43d0219824fb9bf56226e835a95ca"
       ],
       "layout": "IPY_MODEL_72fb5d617b2e40109ba95c6ed9e2bac2"
      }
     },
     "46e95a8d1b3d4b58a20f1fd6e0ad5e84": {
      "model_module": "@jupyter-widgets/controls",
      "model_module_version": "1.5.0",
      "model_name": "HTMLModel",
      "state": {
       "layout": "IPY_MODEL_c3b4a9f4cab74e5797a6985917f6d405",
       "style": "IPY_MODEL_0e5a644ce6ff48968ff76b68c8e43125",
       "value": "<p>fus foo ous o</p>"
      }
     },
     "46edea073c714de69563e9431530e13d": {
      "model_module": "@jupyter-widgets/base",
      "model_module_version": "1.2.0",
      "model_name": "LayoutModel",
      "state": {}
     },
     "46f7afc9253c4aacaa4698a22939ee54": {
      "model_module": "@jupyter-widgets/base",
      "model_module_version": "1.2.0",
      "model_name": "LayoutModel",
      "state": {}
     },
     "470931e7d98d4415ba5c0cc5b7800c90": {
      "model_module": "@jupyter-widgets/controls",
      "model_module_version": "1.5.0",
      "model_name": "DescriptionStyleModel",
      "state": {
       "description_width": ""
      }
     },
     "47172f8e935048d4a035b918200e4c4f": {
      "model_module": "@jupyter-widgets/base",
      "model_module_version": "1.2.0",
      "model_name": "LayoutModel",
      "state": {}
     },
     "4734d7f819b74d2b847621ffd3bf4b10": {
      "model_module": "@jupyter-widgets/base",
      "model_module_version": "1.2.0",
      "model_name": "LayoutModel",
      "state": {}
     },
     "47382d711e7647218c6d57ef24c3cf84": {
      "model_module": "@jupyter-widgets/controls",
      "model_module_version": "1.5.0",
      "model_name": "HTMLModel",
      "state": {
       "layout": "IPY_MODEL_ac15b78e180d4d8ba2a945cb04f6a0a6",
       "style": "IPY_MODEL_5cf657dfd3404a3d83b5dfc36e48226a",
       "value": "<p>its a foo cake</p>"
      }
     },
     "4762c294ced7496dbddff83791de7880": {
      "model_module": "@jupyter-widgets/controls",
      "model_module_version": "1.5.0",
      "model_name": "HTMLModel",
      "state": {
       "layout": "IPY_MODEL_43bf6c6ed6924bf6a2534792f819b89d",
       "style": "IPY_MODEL_cccdf82669844086a022f22d3774684a",
       "value": "<p>label</p>"
      }
     },
     "47656857ecb94982b16369c9840c02a2": {
      "model_module": "@jupyter-widgets/base",
      "model_module_version": "1.2.0",
      "model_name": "LayoutModel",
      "state": {
       "align_items": "stretch",
       "border": "dashed 0.2px green",
       "display": "flex",
       "flex_flow": "row",
       "grid_auto_columns": "True",
       "justify_content": "flex-start",
       "width": "100%"
      }
     },
     "4769c94173d54071a1120b6f7d3b8761": {
      "model_module": "@jupyter-widgets/controls",
      "model_module_version": "1.5.0",
      "model_name": "HTMLModel",
      "state": {
       "layout": "IPY_MODEL_780554c4fd2a48de95139423aac33fd6",
       "style": "IPY_MODEL_1547574ce5294be3a8040b3e64965527",
       "value": "<p>label</p>"
      }
     },
     "479f243127de459187ccf4108cd2bd62": {
      "model_module": "@jupyter-widgets/controls",
      "model_module_version": "1.5.0",
      "model_name": "HBoxModel",
      "state": {
       "children": [
        "IPY_MODEL_73ad5804a8a64ff794ebf57859befde4",
        "IPY_MODEL_7c12360b547746f5972c941ca231f276"
       ],
       "layout": "IPY_MODEL_2e0d27f368584dd487167afa1886ac38"
      }
     },
     "47b62b05394b4f67891c2834c4e90e71": {
      "model_module": "@jupyter-widgets/base",
      "model_module_version": "1.2.0",
      "model_name": "LayoutModel",
      "state": {
       "align_items": "stretch",
       "display": "flex",
       "flex_flow": "row",
       "grid_auto_columns": "True",
       "justify_content": "flex-start",
       "width": "80%"
      }
     },
     "47b63ceb85534e479f3d42275fe15cfa": {
      "model_module": "@jupyter-widgets/controls",
      "model_module_version": "1.5.0",
      "model_name": "HTMLModel",
      "state": {
       "layout": "IPY_MODEL_717d7ef3fc944f009f377c6a0533b3de",
       "style": "IPY_MODEL_0b5c1d17ae0f4a8fb2bf9b438f1f9aaf",
       "value": "<p>1st section of space name code</p>"
      }
     },
     "47bcad98c1174df4be9246c0eacb342a": {
      "model_module": "@jupyter-widgets/base",
      "model_module_version": "1.2.0",
      "model_name": "LayoutModel",
      "state": {}
     },
     "47cef9d5cbce4b26942422e00e80a77e": {
      "model_module": "@jupyter-widgets/controls",
      "model_module_version": "1.5.0",
      "model_name": "HBoxModel",
      "state": {
       "children": [
        "IPY_MODEL_6c9ba26e206841a6851c0310d400ec2b",
        "IPY_MODEL_59b1bbefb94e41bc8d6c8c36102bc047"
       ],
       "layout": "IPY_MODEL_92c660a24b384f24b3cfc016e6cdce80"
      }
     },
     "47e77279219c4cf6939ac08a4291d34d": {
      "model_module": "@jupyter-widgets/controls",
      "model_module_version": "1.5.0",
      "model_name": "DescriptionStyleModel",
      "state": {
       "description_width": ""
      }
     },
     "481daf87f8b34d33a516f55441e4ba01": {
      "model_module": "@jupyter-widgets/controls",
      "model_module_version": "1.5.0",
      "model_name": "HTMLModel",
      "state": {
       "layout": "IPY_MODEL_cf9721b278d744d0a0e011861d46dcbd",
       "style": "IPY_MODEL_d529df5ec1044cc69d1ba9db933c294e",
       "value": "<p>3</p>"
      }
     },
     "485c4cabfb464e96b44855ef4efba5b5": {
      "model_module": "@jupyter-widgets/base",
      "model_module_version": "1.2.0",
      "model_name": "LayoutModel",
      "state": {
       "display": "flex",
       "flex_flow": "row",
       "grid_auto_columns": "False",
       "justify_content": "flex-start",
       "width": "100%"
      }
     },
     "48623b4a5af94e25855c2da14e9c081c": {
      "model_module": "@jupyter-widgets/base",
      "model_module_version": "1.2.0",
      "model_name": "LayoutModel",
      "state": {
       "display": "none",
       "width": "auto"
      }
     },
     "4865e864c4f744fc8be169a935ea7d1e": {
      "model_module": "@jupyter-widgets/controls",
      "model_module_version": "1.5.0",
      "model_name": "HBoxModel",
      "state": {
       "children": [
        "IPY_MODEL_a9e3312908fe4dcfbf1feb24dff23c2f",
        "IPY_MODEL_0c36d03b67a54ab995c1f41a0a8dd8cc",
        "IPY_MODEL_e42267da5980438b843e96e64c92f3f9"
       ],
       "layout": "IPY_MODEL_86ec14fb78c942d3b743e9505fdff671"
      }
     },
     "48863a737d1f4908989234eeb0ca6253": {
      "model_module": "@jupyter-widgets/output",
      "model_module_version": "1.0.0",
      "model_name": "OutputModel",
      "state": {
       "layout": "IPY_MODEL_c76f8a0b1eda41f0bd7aad00219ecd7d"
      }
     },
     "4891df07e9934b0e95c17794c7605b6f": {
      "model_module": "@jupyter-widgets/controls",
      "model_module_version": "1.5.0",
      "model_name": "DescriptionStyleModel",
      "state": {
       "description_width": ""
      }
     },
     "48b64dbcd2ec4312a632b27bb2d0f89d": {
      "model_module": "@jupyter-widgets/controls",
      "model_module_version": "1.5.0",
      "model_name": "DescriptionStyleModel",
      "state": {
       "description_width": ""
      }
     },
     "48cd5a6d2de24d739fa50f23d7012518": {
      "model_module": "@jupyter-widgets/controls",
      "model_module_version": "1.5.0",
      "model_name": "DescriptionStyleModel",
      "state": {
       "description_width": ""
      }
     },
     "48dcdcdefcee4ad5b23e856ff0d2f5d8": {
      "model_module": "@jupyter-widgets/output",
      "model_module_version": "1.0.0",
      "model_name": "OutputModel",
      "state": {
       "layout": "IPY_MODEL_db71d6df08fe45c2a1c714a04b200d8d"
      }
     },
     "49221e585e5f4c3fb9b802436fb13812": {
      "model_module": "@jupyter-widgets/controls",
      "model_module_version": "1.5.0",
      "model_name": "VBoxModel",
      "state": {
       "layout": "IPY_MODEL_0fb45a30d610478bb45be3cb5af5942f"
      }
     },
     "4922de0d7bdc4b94a02f64ab722fdd72": {
      "model_module": "@jupyter-widgets/base",
      "model_module_version": "1.2.0",
      "model_name": "LayoutModel",
      "state": {
       "align_items": "stretch",
       "display": "flex",
       "flex_flow": "row",
       "grid_auto_columns": "True",
       "justify_content": "flex-start",
       "width": "80%"
      }
     },
     "493a00e0e5a4443488cd5ab4da4d72d1": {
      "model_module": "@jupyter-widgets/controls",
      "model_module_version": "1.5.0",
      "model_name": "ButtonStyleModel",
      "state": {}
     },
     "493dc52bcb3d4e6c81a972bf4c7210e2": {
      "model_module": "@jupyter-widgets/controls",
      "model_module_version": "1.5.0",
      "model_name": "HTMLModel",
      "state": {
       "layout": "IPY_MODEL_6c43c4788cfa4d75a14934433b9dbd6d",
       "style": "IPY_MODEL_f8f5044025404f74b112c26429f4071c",
       "value": "<p>1</p>"
      }
     },
     "494156b3c87f41c89a92685b7a14767f": {
      "model_module": "@jupyter-widgets/controls",
      "model_module_version": "1.5.0",
      "model_name": "DescriptionStyleModel",
      "state": {
       "description_width": ""
      }
     },
     "495d78c611534d5896b84a7a05ae645b": {
      "model_module": "@jupyter-widgets/controls",
      "model_module_version": "1.5.0",
      "model_name": "HTMLModel",
      "state": {
       "layout": "IPY_MODEL_3c1aaf7dbaea450e9f906cbbc51ecf15",
       "style": "IPY_MODEL_1fb03d5d9855416ead3050fe27a61d7e",
       "value": "<p>spc_name_index</p>"
      }
     },
     "497a67b25ca041d98a3a1431c007fbf3": {
      "model_module": "@jupyter-widgets/controls",
      "model_module_version": "1.5.0",
      "model_name": "DescriptionStyleModel",
      "state": {
       "description_width": ""
      }
     },
     "498a387666f04d0fba1129e665702bf0": {
      "model_module": "@jupyter-widgets/base",
      "model_module_version": "1.2.0",
      "model_name": "LayoutModel",
      "state": {
       "align_items": "stretch",
       "border": "dashed 0.2px green",
       "display": "flex",
       "flex_flow": "row",
       "grid_auto_columns": "True",
       "justify_content": "flex-start",
       "width": "100%"
      }
     },
     "49d4e5bbab594b05b45a5b7f0c914b3f": {
      "model_module": "@jupyter-widgets/base",
      "model_module_version": "1.2.0",
      "model_name": "LayoutModel",
      "state": {
       "align_items": "stretch",
       "display": "flex",
       "flex_flow": "row",
       "grid_auto_columns": "True",
       "justify_content": "flex-end",
       "width": "90%"
      }
     },
     "49e7131c965145739fe39037fd31be5d": {
      "model_module": "@jupyter-widgets/base",
      "model_module_version": "1.2.0",
      "model_name": "LayoutModel",
      "state": {
       "align_items": "stretch",
       "border": "dashed 0.2px green",
       "display": "flex",
       "flex_flow": "row",
       "grid_auto_columns": "True",
       "justify_content": "flex-start",
       "width": "100%"
      }
     },
     "4a5885cb6b664bb0afaf0c70355925bd": {
      "model_module": "@jupyter-widgets/output",
      "model_module_version": "1.0.0",
      "model_name": "OutputModel",
      "state": {
       "layout": "IPY_MODEL_6d0d1810b8af4d4281dc9a83a3e089ec"
      }
     },
     "4aaba77ea48349c8a6f4eff43408041c": {
      "model_module": "@jupyter-widgets/base",
      "model_module_version": "1.2.0",
      "model_name": "LayoutModel",
      "state": {}
     },
     "4acc7edc5662441fbac85ab2e486c48e": {
      "model_module": "@jupyter-widgets/base",
      "model_module_version": "1.2.0",
      "model_name": "LayoutModel",
      "state": {
       "align_items": "stretch",
       "display": "flex",
       "flex_flow": "row",
       "grid_auto_columns": "True",
       "justify_content": "flex-end",
       "width": "90%"
      }
     },
     "4ae8baf38228419693e821074ca402cb": {
      "model_module": "@jupyter-widgets/controls",
      "model_module_version": "1.5.0",
      "model_name": "HBoxModel",
      "state": {
       "children": [
        "IPY_MODEL_e915d75005b4472f953b5ada6f09eb2e",
        "IPY_MODEL_951403aab9a5442fbc194537ba804a35"
       ],
       "layout": "IPY_MODEL_f323dc2c3dcb479dad29ac924a77a241"
      }
     },
     "4af72998634543e889c4c30e3542e1b4": {
      "model_module": "@jupyter-widgets/controls",
      "model_module_version": "1.5.0",
      "model_name": "DescriptionStyleModel",
      "state": {
       "description_width": ""
      }
     },
     "4afdef22127b4150b3acb88847679c8b": {
      "model_module": "@jupyter-widgets/base",
      "model_module_version": "1.2.0",
      "model_name": "LayoutModel",
      "state": {}
     },
     "4b2c239c3d7a41e1a8ed847891009bf9": {
      "model_module": "@jupyter-widgets/controls",
      "model_module_version": "1.5.0",
      "model_name": "DescriptionStyleModel",
      "state": {
       "description_width": ""
      }
     },
     "4b2cbbe946214c2882d66cb317a66034": {
      "model_module": "@jupyter-widgets/controls",
      "model_module_version": "1.5.0",
      "model_name": "VBoxModel",
      "state": {
       "children": [
        "IPY_MODEL_8866b5cdad974fa5b558660184579c1d",
        "IPY_MODEL_2419fbf7b8a04245b9d405854a516a94",
        "IPY_MODEL_845d3cd71a8742308a4c31b72f378ddb",
        "IPY_MODEL_5054986b86db482cbe484a2fa4f98d23",
        "IPY_MODEL_c5db27377f8449bd96376f8a0c65542a",
        "IPY_MODEL_2d7fbedd9c704818b1c0e3cc1ba2648b",
        "IPY_MODEL_9b8cafb8e5794002b52a401b26109777",
        "IPY_MODEL_aac2aab6f7644399832e5213304de8d9"
       ],
       "layout": "IPY_MODEL_f9b62469dd6045768a7f953a537c2026"
      }
     },
     "4b352fd4bf8a4b00a673f8a64ade39c7": {
      "model_module": "@jupyter-widgets/controls",
      "model_module_version": "1.5.0",
      "model_name": "DescriptionStyleModel",
      "state": {
       "description_width": ""
      }
     },
     "4b46c7d3a1dd4dba8d77d367180560b0": {
      "model_module": "@jupyter-widgets/controls",
      "model_module_version": "1.5.0",
      "model_name": "HBoxModel",
      "state": {
       "children": [
        "IPY_MODEL_afc194c0dd3e47d5917e2753fab9ad1a",
        "IPY_MODEL_77f0754e527a4c139993d2aa906fe8b6"
       ],
       "layout": "IPY_MODEL_a009ea3f440d4c50b40dd09abb672bdf"
      }
     },
     "4b5ab58aceaa4bfebd4243d4d01218bd": {
      "model_module": "@jupyter-widgets/controls",
      "model_module_version": "1.5.0",
      "model_name": "ToggleButtonModel",
      "state": {
       "description": "help",
       "icon": "fa-question-circle",
       "layout": "IPY_MODEL_75470041225a4a8a950b732b3e6a1b26",
       "style": "IPY_MODEL_6c390f8ef4be43a4905f4d4385372a04",
       "tooltip": "gives guidance"
      }
     },
     "4b5d0e616b2e4e78b8cd29768f9ab351": {
      "model_module": "@jupyter-widgets/controls",
      "model_module_version": "1.5.0",
      "model_name": "DescriptionStyleModel",
      "state": {
       "description_width": ""
      }
     },
     "4b687b05f41e4102bf66b91ff99a5c39": {
      "model_module": "@jupyter-widgets/output",
      "model_module_version": "1.0.0",
      "model_name": "OutputModel",
      "state": {
       "layout": "IPY_MODEL_12372e2a09bb4ed7ae63fa622158895f"
      }
     },
     "4b724580dc96408b9b140cf9a3384866": {
      "model_module": "@jupyter-widgets/base",
      "model_module_version": "1.2.0",
      "model_name": "LayoutModel",
      "state": {}
     },
     "4bdd9bd8ad334e1b81bff1253872d52a": {
      "model_module": "@jupyter-widgets/output",
      "model_module_version": "1.0.0",
      "model_name": "OutputModel",
      "state": {
       "layout": "IPY_MODEL_b39cf2e0365841ea9789bace8ecf6d8e"
      }
     },
     "4c0f1947e86e407cb6d29be9a1d3d6ff": {
      "model_module": "@jupyter-widgets/controls",
      "model_module_version": "1.5.0",
      "model_name": "HTMLModel",
      "state": {
       "layout": "IPY_MODEL_8c4b3dde40b247bc9eb01c49a622dd7a",
       "style": "IPY_MODEL_2dfac53dc6c64c678f580d0bec9b0fbb"
      }
     },
     "4c1ae4e4524147d49114f1634de9d513": {
      "model_module": "@jupyter-widgets/controls",
      "model_module_version": "1.5.0",
      "model_name": "HBoxModel",
      "state": {
       "children": [
        "IPY_MODEL_7782ac7e82044c8ba0c75f72a4f8bf29",
        "IPY_MODEL_222417708fb64666a0537d0a7fb4a95e",
        "IPY_MODEL_9e640b4d64cf42b4831f3114aafe4adf"
       ],
       "layout": "IPY_MODEL_2e4a7b97293542afa242685282269036"
      }
     },
     "4c3e3233491e416d95f668aaec277dee": {
      "model_module": "@jupyter-widgets/controls",
      "model_module_version": "1.5.0",
      "model_name": "DescriptionStyleModel",
      "state": {
       "description_width": ""
      }
     },
     "4c97483eb62e417b846dd1eaebf71bb0": {
      "model_module": "@jupyter-widgets/controls",
      "model_module_version": "1.5.0",
      "model_name": "VBoxModel",
      "state": {
       "children": [
        "IPY_MODEL_d3284586449140adbe3c9ab2d14ff5fa",
        "IPY_MODEL_d12064b112904f71b5b16e881592f8e8"
       ],
       "layout": "IPY_MODEL_ca32170a3622438c8ffe207a6c367eee"
      }
     },
     "4c9fc880aa0145da9b669b4c594c501c": {
      "model_module": "@jupyter-widgets/controls",
      "model_module_version": "1.5.0",
      "model_name": "ButtonModel",
      "state": {
       "description": "load",
       "icon": "upload",
       "layout": "IPY_MODEL_37826040cf9c4723b2b28f73500b621d",
       "style": "IPY_MODEL_f56e8b24f1e64536af8b71804b13dd6b"
      }
     },
     "4cc0e1750416417c8dc1593eb99b8174": {
      "model_module": "@jupyter-widgets/controls",
      "model_module_version": "1.5.0",
      "model_name": "HTMLModel",
      "state": {
       "layout": "IPY_MODEL_e146be9ab5df481bb8fd08f702b650ef",
       "style": "IPY_MODEL_03ff6d9258ba4fad905592bf40850f0d",
       "value": "<p>Example use of the DerivedText Widget</p>"
      }
     },
     "4cc45522044a41869ad2f17ba6727373": {
      "model_module": "@jupyter-widgets/base",
      "model_module_version": "1.2.0",
      "model_name": "LayoutModel",
      "state": {}
     },
     "4cd9bc34c526452e8975896e07cf92ca": {
      "model_module": "@jupyter-widgets/output",
      "model_module_version": "1.0.0",
      "model_name": "OutputModel",
      "state": {
       "layout": "IPY_MODEL_cdcd383dea6a4f1e8d4358bde982d7da"
      }
     },
     "4ce9deba95fa479cb4bdb4277442db4e": {
      "model_module": "@jupyter-widgets/base",
      "model_module_version": "1.2.0",
      "model_name": "LayoutModel",
      "state": {
       "align_items": "stretch",
       "display": "flex",
       "flex_flow": "row",
       "grid_auto_columns": "True",
       "justify_content": "flex-end",
       "width": "90%"
      }
     },
     "4cf83009502547a8b6c7e8634fe41dea": {
      "model_module": "@jupyter-widgets/controls",
      "model_module_version": "1.5.0",
      "model_name": "HBoxModel",
      "state": {
       "children": [
        "IPY_MODEL_3cf3be3cbfe942baa53e8807acbf0161",
        "IPY_MODEL_68b2e63a86924191a6905b8e73c76815"
       ],
       "layout": "IPY_MODEL_e3507e5b4c11449580be277c02d091a6"
      }
     },
     "4cfc13a92e654560a5fc42bc4a19874f": {
      "model_module": "@jupyter-widgets/base",
      "model_module_version": "1.2.0",
      "model_name": "LayoutModel",
      "state": {}
     },
     "4cfc65a3cd694432a2c689769cc3377e": {
      "model_module": "@jupyter-widgets/controls",
      "model_module_version": "1.5.0",
      "model_name": "ButtonModel",
      "state": {
       "button_style": "success",
       "description": "save changes",
       "layout": "IPY_MODEL_a30d00f131cb4e02b7048e9dcf971701",
       "style": "IPY_MODEL_9f2123230c1e4aa28ea2970fa81b363e"
      }
     },
     "4d0831d91c1440caa81b49c93af506b8": {
      "model_module": "@jupyter-widgets/controls",
      "model_module_version": "1.5.0",
      "model_name": "HBoxModel",
      "state": {
       "children": [
        "IPY_MODEL_0acf885bb8f743909055cc4cf66bb5b1"
       ],
       "layout": "IPY_MODEL_f88b2bdddc054da4a48ae0ccb2dd3122"
      }
     },
     "4d1f052727864c769bb42294a8f736b5": {
      "model_module": "@jupyter-widgets/controls",
      "model_module_version": "1.5.0",
      "model_name": "HBoxModel",
      "state": {
       "children": [
        "IPY_MODEL_56637dc304774c8a92c8cc27dded856f",
        "IPY_MODEL_61828a07b3034e0cb575ac8f5d8a6344"
       ],
       "layout": "IPY_MODEL_c7deb1dc80dc4284a0af327b8598ba2f"
      }
     },
     "4d203c715e324c6cba342119adfa55d7": {
      "model_module": "@jupyter-widgets/controls",
      "model_module_version": "1.5.0",
      "model_name": "VBoxModel",
      "state": {
       "children": [
        "IPY_MODEL_848f9a7269c3463c8d95fd0e3ffa9c92",
        "IPY_MODEL_d76bc12d6b0c487fbf3cbe954c98c776"
       ],
       "layout": "IPY_MODEL_e88b478bd4914494b2a723418401253f"
      }
     },
     "4d7b777dbaa14906ae1edb46e3721372": {
      "model_module": "@jupyter-widgets/controls",
      "model_module_version": "1.5.0",
      "model_name": "DescriptionStyleModel",
      "state": {
       "description_width": ""
      }
     },
     "4db15157f92f444eb546cc8c63ec635f": {
      "model_module": "@jupyter-widgets/controls",
      "model_module_version": "1.5.0",
      "model_name": "ButtonModel",
      "state": {
       "description": "save",
       "layout": "IPY_MODEL_f1644bf1b76d4261bce6962c916a5efe",
       "style": "IPY_MODEL_028f064a2a12457fa52ecf79175d9034"
      }
     },
     "4de2889815184b21a1e1c8b2aac53aef": {
      "model_module": "@jupyter-widgets/controls",
      "model_module_version": "1.5.0",
      "model_name": "ToggleButtonModel",
      "state": {
       "icon": "arrow-down",
       "layout": "IPY_MODEL_d3261a954dfb41dca29abb8e16855202",
       "style": "IPY_MODEL_59dbc8ae4d3b4b24948e1e6d2e12b7be"
      }
     },
     "4dfed4ee8ea44bcbae48a046bd3ba6da": {
      "model_module": "@jupyter-widgets/base",
      "model_module_version": "1.2.0",
      "model_name": "LayoutModel",
      "state": {
       "align_items": "stretch",
       "display": "flex",
       "flex_flow": "row",
       "grid_auto_columns": "True",
       "justify_content": "flex-end",
       "width": "90%"
      }
     },
     "4e045915f6a541d8af039e33dcfcdfe5": {
      "model_module": "@jupyter-widgets/controls",
      "model_module_version": "1.5.0",
      "model_name": "HTMLModel",
      "state": {
       "layout": "IPY_MODEL_3bbf6cbd6f5a4cb6b4da082c8279b840",
       "style": "IPY_MODEL_d3e2edfd92ef4eb3b9cf13b9d726f6ad",
       "value": "<p>Number, using to prefix the file name</p>"
      }
     },
     "4e3742bf0ab940d9921bddc56cf88375": {
      "model_module": "@jupyter-widgets/controls",
      "model_module_version": "1.5.0",
      "model_name": "TextModel",
      "state": {
       "layout": "IPY_MODEL_e0b05a9aa26e462095800da5ed28fc15",
       "style": "IPY_MODEL_4c3e3233491e416d95f668aaec277dee",
       "value": "C:\\engDev\\git_mf\\MF_Toolbox\\dev\\examples\\gbxml\\105_LiveseyExchange_heatpump-normal-fabric.xml"
      }
     },
     "4e7d2273dcb94ec283d8fd5754ef3a5c": {
      "model_module": "@jupyter-widgets/controls",
      "model_module_version": "1.5.0",
      "model_name": "HTMLModel",
      "state": {
       "layout": "IPY_MODEL_62c7070dea074a49b09acf791594a014",
       "style": "IPY_MODEL_1c05c2c0edf04332993a6aa12737c312",
       "value": "<p>fpth_in</p>"
      }
     },
     "4e80f97528b940849d145016f01559ac": {
      "model_module": "@jupyter-widgets/controls",
      "model_module_version": "1.5.0",
      "model_name": "TextareaModel",
      "state": {
       "layout": "IPY_MODEL_40b067fc7a814496ba960858bc8c1719",
       "style": "IPY_MODEL_175a2976e8a4436586a20e8d99309451",
       "value": "asdfasdf"
      }
     },
     "4ed651d6140b4cce9dc73b1c1b636751": {
      "model_module": "@jupyter-widgets/base",
      "model_module_version": "1.2.0",
      "model_name": "LayoutModel",
      "state": {}
     },
     "4f1785874b114ad4a13d27e1f6ec7978": {
      "model_module": "@jupyter-widgets/controls",
      "model_module_version": "1.5.0",
      "model_name": "ToggleButtonModel",
      "state": {
       "description": "help",
       "icon": "fa-question-circle",
       "layout": "IPY_MODEL_f5180ca47eed4adabca693a51a1a4bc8",
       "style": "IPY_MODEL_175d8d9c625f42c6a9064a7b9b865cf2",
       "tooltip": "gives guidance"
      }
     },
     "4f20425851294712b7da888dd505f3b6": {
      "model_module": "@jupyter-widgets/output",
      "model_module_version": "1.0.0",
      "model_name": "OutputModel",
      "state": {
       "layout": "IPY_MODEL_14b46f8849994dd18045f010105109de"
      }
     },
     "4f30fd6155f94e22904165370f6dd43e": {
      "model_module": "@jupyter-widgets/controls",
      "model_module_version": "1.5.0",
      "model_name": "HBoxModel",
      "state": {
       "children": [
        "IPY_MODEL_b8d6427fb0e44ed982086378d2e2abd4",
        "IPY_MODEL_f484db8acc1a4dff89a3a23f14b091cc",
        "IPY_MODEL_4cfc65a3cd694432a2c689769cc3377e"
       ],
       "layout": "IPY_MODEL_af0583a5e8e64e2282e988ea97687dc7"
      }
     },
     "4f3565eafc51453ab73090b2fb96119f": {
      "model_module": "@jupyter-widgets/controls",
      "model_module_version": "1.5.0",
      "model_name": "RadioButtonsModel",
      "state": {
       "_options_labels": [
        "TEMPLATE: C:\\engDev\\git_mf\\MF_Toolbox\\dev\\mf_scripts\\template_inputs\\inputs-docx_to_pdf.json",
        "PROJECT: C:\\engDev\\git_mf\\ipyrun\\ipyrun\\appdata\\inputs\\inputs-docx_to_pdf.json",
        "PROJECT: C:\\engDev\\git_mf\\ipyrun\\ipyrun\\appdata\\inputs\\archive\\20200610_1134-jg-inputs-docx_to_pdf.json",
        "PROJECT: C:\\engDev\\git_mf\\ipyrun\\ipyrun\\appdata\\inputs\\archive\\20200610_1139-jg-inputs-docx_to_pdf.json",
        "PROJECT: C:\\engDev\\git_mf\\ipyrun\\ipyrun\\appdata\\inputs\\archive\\20200610_1218-jg-inputs-docx_to_pdf.json",
        "PROJECT: C:\\engDev\\git_mf\\ipyrun\\ipyrun\\appdata\\inputs\\archive\\20200610_1220-jg-inputs-docx_to_pdf.json",
        "PROJECT: C:\\engDev\\git_mf\\ipyrun\\ipyrun\\appdata\\inputs\\archive\\20200610_1221-jg-inputs-docx_to_pdf.json",
        "PROJECT: C:\\engDev\\git_mf\\ipyrun\\ipyrun\\appdata\\inputs\\archive\\20200610_1224-jg-inputs-docx_to_pdf.json",
        "PROJECT: C:\\engDev\\git_mf\\ipyrun\\ipyrun\\appdata\\inputs\\archive\\20200610_1225-jg-inputs-docx_to_pdf.json",
        "PROJECT: C:\\engDev\\git_mf\\ipyrun\\ipyrun\\appdata\\inputs\\archive\\20200610_1244-jg-inputs-docx_to_pdf.json",
        "PROJECT: C:\\engDev\\git_mf\\ipyrun\\ipyrun\\appdata\\inputs\\archive\\20200610_1246-jg-inputs-docx_to_pdf.json",
        "PROJECT: C:\\engDev\\git_mf\\ipyrun\\ipyrun\\appdata\\inputs\\archive\\20200610_1419-jg-inputs-docx_to_pdf.json",
        "PROJECT: C:\\engDev\\git_mf\\ipyrun\\ipyrun\\appdata\\inputs\\archive\\20200610_1420-jg-inputs-docx_to_pdf.json",
        "PROJECT: C:\\engDev\\git_mf\\ipyrun\\ipyrun\\appdata\\inputs\\archive\\20200610_1422-jg-inputs-docx_to_pdf.json",
        "PROJECT: C:\\engDev\\git_mf\\ipyrun\\ipyrun\\appdata\\inputs\\archive\\20200610_1425-jg-inputs-docx_to_pdf.json",
        "PROJECT: C:\\engDev\\git_mf\\ipyrun\\ipyrun\\appdata\\inputs\\archive\\20200610_1853-jg-inputs-docx_to_pdf.json",
        "PROJECT: C:\\engDev\\git_mf\\ipyrun\\ipyrun\\appdata\\inputs\\archive\\20200610_1855-jg-inputs-docx_to_pdf.json",
        "PROJECT: C:\\engDev\\git_mf\\ipyrun\\ipyrun\\appdata\\inputs\\archive\\20200611_0748-jg-inputs-docx_to_pdf.json",
        "PROJECT: C:\\engDev\\git_mf\\ipyrun\\ipyrun\\appdata\\inputs\\archive\\20200611_0754-jg-inputs-docx_to_pdf.json",
        "PROJECT: C:\\engDev\\git_mf\\ipyrun\\ipyrun\\appdata\\inputs\\archive\\20200611_0757-jg-inputs-docx_to_pdf.json",
        "PROJECT: C:\\engDev\\git_mf\\ipyrun\\ipyrun\\appdata\\inputs\\archive\\20200616_1026-jg-inputs-docx_to_pdf.json"
       ],
       "index": 0,
       "layout": "IPY_MODEL_f694cd7062764408ba1e364693065542",
       "style": "IPY_MODEL_976cff14021643bfa19295f9b929e882"
      }
     },
     "4fb2291232c6495b93c9a0f438e7cca6": {
      "model_module": "@jupyter-widgets/base",
      "model_module_version": "1.2.0",
      "model_name": "LayoutModel",
      "state": {}
     },
     "4fb31ee24e474dd09eca06bb709cba03": {
      "model_module": "@jupyter-widgets/controls",
      "model_module_version": "1.5.0",
      "model_name": "VBoxModel",
      "state": {
       "children": [
        "IPY_MODEL_9bb96f09b89f44a9bdebdf8157643709",
        "IPY_MODEL_ca50a148ee8a43dfa176e72e622fa0a9",
        "IPY_MODEL_37ced3081c96496cac097ed688652413",
        "IPY_MODEL_263bbb26cdf94b7c842129ac5bcb4988",
        "IPY_MODEL_76f371fd62db4d4e80c5983d4cad550e"
       ],
       "layout": "IPY_MODEL_9a3e4f58f99342498ea48669584d1bb3"
      }
     },
     "4fb34279cce14b37bab83e41ce4b5613": {
      "model_module": "@jupyter-widgets/base",
      "model_module_version": "1.2.0",
      "model_name": "LayoutModel",
      "state": {
       "align_items": "stretch",
       "display": "flex",
       "flex_flow": "row",
       "grid_auto_columns": "True",
       "justify_content": "flex-start",
       "width": "80%"
      }
     },
     "4fd2fdf3b22f4f4c8facba7cf347117c": {
      "model_module": "@jupyter-widgets/base",
      "model_module_version": "1.2.0",
      "model_name": "LayoutModel",
      "state": {
       "align_items": "stretch",
       "display": "flex",
       "flex_flow": "row",
       "grid_auto_columns": "True",
       "justify_content": "flex-end",
       "width": "90%"
      }
     },
     "501f5f29a1c54946ab35158d7ff0c462": {
      "model_module": "@jupyter-widgets/base",
      "model_module_version": "1.2.0",
      "model_name": "LayoutModel",
      "state": {
       "align_items": "stretch",
       "border": "dashed 0.2px green",
       "display": "flex",
       "flex_flow": "row",
       "grid_auto_columns": "True",
       "justify_content": "flex-start",
       "width": "100%"
      }
     },
     "5034598307ee4eb7bfd84177991508f8": {
      "model_module": "@jupyter-widgets/controls",
      "model_module_version": "1.5.0",
      "model_name": "HBoxModel",
      "state": {
       "children": [
        "IPY_MODEL_bdf3a7ce48e2490a81a77a04b635ca38",
        "IPY_MODEL_5a88bb5023514269b3aded41b9cec001"
       ],
       "layout": "IPY_MODEL_bfea92ef8e3e484bbf9ccebbe6e68054"
      }
     },
     "5054986b86db482cbe484a2fa4f98d23": {
      "model_module": "@jupyter-widgets/controls",
      "model_module_version": "1.5.0",
      "model_name": "HBoxModel",
      "state": {
       "children": [
        "IPY_MODEL_03f033da71c34a19bb006741559042c9"
       ],
       "layout": "IPY_MODEL_ac6e8a28da0c4ae1982b25b765f220ea"
      }
     },
     "50765e28f9484be5a9de47f4ca4f05e3": {
      "model_module": "@jupyter-widgets/base",
      "model_module_version": "1.2.0",
      "model_name": "LayoutModel",
      "state": {}
     },
     "5076c95688624e1b8512877f8d2024c8": {
      "model_module": "@jupyter-widgets/base",
      "model_module_version": "1.2.0",
      "model_name": "LayoutModel",
      "state": {}
     },
     "50813d5b1022485daf5e0c4f62b2af0d": {
      "model_module": "@jupyter-widgets/base",
      "model_module_version": "1.2.0",
      "model_name": "LayoutModel",
      "state": {}
     },
     "5088a615d18c4ea894ed53873b881004": {
      "model_module": "@jupyter-widgets/controls",
      "model_module_version": "1.5.0",
      "model_name": "TextModel",
      "state": {
       "layout": "IPY_MODEL_0e383e16d5714234914c6c16e0d53380",
       "style": "IPY_MODEL_5dd684a04a704bffb7317d26ca7b7573",
       "value": "Level"
      }
     },
     "50b96f0b97c94d4b847940051eb90b1b": {
      "model_module": "@jupyter-widgets/base",
      "model_module_version": "1.2.0",
      "model_name": "LayoutModel",
      "state": {}
     },
     "50f6e8787a0f4e40aa5f693f6053ee84": {
      "model_module": "@jupyter-widgets/controls",
      "model_module_version": "1.5.0",
      "model_name": "VBoxModel",
      "state": {
       "children": [
        "IPY_MODEL_1a2f0d50d28041ec982bc6323f39c3fc",
        "IPY_MODEL_f9cdc685b21d489a9272b4ece132d78b",
        "IPY_MODEL_7aa43d0219824fb9bf56226e835a95ca"
       ],
       "layout": "IPY_MODEL_2a493b3d955245f6ac8cc26e267475fb"
      }
     },
     "514932c6d806420ebf5cd5d22cdbc9d4": {
      "model_module": "@jupyter-widgets/base",
      "model_module_version": "1.2.0",
      "model_name": "LayoutModel",
      "state": {
       "align_items": "stretch",
       "display": "flex",
       "flex_flow": "row",
       "grid_auto_columns": "True",
       "justify_content": "flex-start",
       "width": "80%"
      }
     },
     "515692888088476bb589650249c6f633": {
      "model_module": "@jupyter-widgets/controls",
      "model_module_version": "1.5.0",
      "model_name": "DescriptionStyleModel",
      "state": {
       "description_width": ""
      }
     },
     "5164910abef845eea4a0a041cc0504aa": {
      "model_module": "@jupyter-widgets/base",
      "model_module_version": "1.2.0",
      "model_name": "LayoutModel",
      "state": {}
     },
     "5196458bd60343adb30b3ed0e5101712": {
      "model_module": "@jupyter-widgets/base",
      "model_module_version": "1.2.0",
      "model_name": "LayoutModel",
      "state": {}
     },
     "5200ef2b54074841934c28e9b2b3ad03": {
      "model_module": "@jupyter-widgets/base",
      "model_module_version": "1.2.0",
      "model_name": "LayoutModel",
      "state": {
       "display": "none",
       "width": "auto"
      }
     },
     "52024e83c17e4755ade8d3c688b224f5": {
      "model_module": "@jupyter-widgets/base",
      "model_module_version": "1.2.0",
      "model_name": "LayoutModel",
      "state": {
       "display": "flex",
       "flex_flow": "row",
       "grid_auto_columns": "False",
       "justify_content": "flex-start",
       "width": "100%"
      }
     },
     "5230ae69345d4a3b93c7360d20523bb3": {
      "model_module": "@jupyter-widgets/controls",
      "model_module_version": "1.5.0",
      "model_name": "TextModel",
      "state": {
       "layout": "IPY_MODEL_e74c3f100f964a89baa91707f9dcf806",
       "style": "IPY_MODEL_ea5dee7b262d4e55a9169be1874a61ee",
       "value": "TM46Category"
      }
     },
     "524c966e9a734caa9bea0de776d15f4e": {
      "model_module": "@jupyter-widgets/base",
      "model_module_version": "1.2.0",
      "model_name": "LayoutModel",
      "state": {
       "display": "flex",
       "flex_flow": "row",
       "grid_auto_columns": "False",
       "justify_content": "flex-start",
       "width": "100%"
      }
     },
     "5277020a7f8547d4affe6e19316e7c31": {
      "model_module": "@jupyter-widgets/controls",
      "model_module_version": "1.5.0",
      "model_name": "TextareaModel",
      "state": {
       "layout": "IPY_MODEL_24e0c9d5396549bca1c8901ed34e01ec",
       "style": "IPY_MODEL_a63b18bf9af14db69a08228abbf679ee",
       "value": "asdfasdf"
      }
     },
     "527b96e0f5914f0983939e8c21a033a9": {
      "model_module": "@jupyter-widgets/base",
      "model_module_version": "1.2.0",
      "model_name": "LayoutModel",
      "state": {}
     },
     "529163a19b21438abecea3f6d5190445": {
      "model_module": "@jupyter-widgets/controls",
      "model_module_version": "1.5.0",
      "model_name": "DescriptionStyleModel",
      "state": {
       "description_width": ""
      }
     },
     "52922181c8134b5985fcc32b91502d4e": {
      "model_module": "@jupyter-widgets/base",
      "model_module_version": "1.2.0",
      "model_name": "LayoutModel",
      "state": {}
     },
     "5298ba8e6ac84c49af6e129be419a49c": {
      "model_module": "@jupyter-widgets/base",
      "model_module_version": "1.2.0",
      "model_name": "LayoutModel",
      "state": {
       "align_items": "stretch",
       "display": "flex",
       "flex_flow": "row",
       "grid_auto_columns": "True",
       "justify_content": "flex-end",
       "width": "90%"
      }
     },
     "52d178164c144c44b87b04b41d99d3db": {
      "model_module": "@jupyter-widgets/controls",
      "model_module_version": "1.5.0",
      "model_name": "HBoxModel",
      "state": {
       "children": [
        "IPY_MODEL_1f65e1a055114a718d5e8fc642ee1d95",
        "IPY_MODEL_3630a19c408d473f943d916e10e6b45f",
        "IPY_MODEL_015ec6246ba5434c9ae23bce9290a964"
       ],
       "layout": "IPY_MODEL_12bd152f152a4370a06b38289657f8f8"
      }
     },
     "52debdf98092471aa66ba4f50f4408a2": {
      "model_module": "@jupyter-widgets/base",
      "model_module_version": "1.2.0",
      "model_name": "LayoutModel",
      "state": {}
     },
     "52defd7b39294508aa29e9348571e980": {
      "model_module": "@jupyter-widgets/controls",
      "model_module_version": "1.5.0",
      "model_name": "DescriptionStyleModel",
      "state": {
       "description_width": ""
      }
     },
     "52fd9ce8013a46a392d4eb7f3ee5d123": {
      "model_module": "@jupyter-widgets/base",
      "model_module_version": "1.2.0",
      "model_name": "LayoutModel",
      "state": {}
     },
     "5327c8ed5ef3469ab8784e82af29b071": {
      "model_module": "@jupyter-widgets/base",
      "model_module_version": "1.2.0",
      "model_name": "LayoutModel",
      "state": {
       "align_items": "stretch",
       "display": "flex",
       "flex_flow": "row",
       "grid_auto_columns": "True",
       "justify_content": "flex-end",
       "width": "90%"
      }
     },
     "534b241aec874fc6beaa75fe6f04e318": {
      "model_module": "@jupyter-widgets/base",
      "model_module_version": "1.2.0",
      "model_name": "LayoutModel",
      "state": {
       "width": "5%"
      }
     },
     "534f424c31714a47adf713bf526d25e9": {
      "model_module": "@jupyter-widgets/base",
      "model_module_version": "1.2.0",
      "model_name": "LayoutModel",
      "state": {}
     },
     "536d133825e14b2fb58ab36d96944218": {
      "model_module": "@jupyter-widgets/controls",
      "model_module_version": "1.5.0",
      "model_name": "HBoxModel",
      "state": {
       "children": [
        "IPY_MODEL_7ae6b962318e46a19fdca586d00792aa",
        "IPY_MODEL_05695c0e70b341c18ffd5d020822f550"
       ],
       "layout": "IPY_MODEL_fe5101e3f8ff4569bf616d50fcabad92"
      }
     },
     "5372ae56d1844d61a99b2f6209447406": {
      "model_module": "@jupyter-widgets/base",
      "model_module_version": "1.2.0",
      "model_name": "LayoutModel",
      "state": {}
     },
     "538fe8a6992a44f9929e57d2e891ce18": {
      "model_module": "@jupyter-widgets/controls",
      "model_module_version": "1.5.0",
      "model_name": "DescriptionStyleModel",
      "state": {
       "description_width": ""
      }
     },
     "53b1bf221f70408c898aeecc23a2e603": {
      "model_module": "@jupyter-widgets/base",
      "model_module_version": "1.2.0",
      "model_name": "LayoutModel",
      "state": {}
     },
     "53c2cee464c84d97928458b5f089a85c": {
      "model_module": "@jupyter-widgets/base",
      "model_module_version": "1.2.0",
      "model_name": "LayoutModel",
      "state": {
       "display": "none"
      }
     },
     "53c58c12ff844b1eb8af201b2977436c": {
      "model_module": "@jupyter-widgets/controls",
      "model_module_version": "1.5.0",
      "model_name": "HBoxModel",
      "state": {
       "children": [
        "IPY_MODEL_246977cba96b4957a4e1207afe8ad834",
        "IPY_MODEL_433a8d740f514de8beb29838fb79b9f0"
       ],
       "layout": "IPY_MODEL_1a4368ba66f54ffa9884f3dbc0c321ac"
      }
     },
     "53dd4086940348a9a1b48e695c946640": {
      "model_module": "@jupyter-widgets/base",
      "model_module_version": "1.2.0",
      "model_name": "LayoutModel",
      "state": {}
     },
     "53dfe55b0dfd426690e05c5bb244f2f0": {
      "model_module": "@jupyter-widgets/controls",
      "model_module_version": "1.5.0",
      "model_name": "DropdownModel",
      "state": {
       "_options_labels": [
        "asfd",
        "10",
        "asdf"
       ],
       "index": 1,
       "layout": "IPY_MODEL_534f424c31714a47adf713bf526d25e9",
       "style": "IPY_MODEL_ae5b5ad69c0a4408afef7ad1b59fd37a"
      }
     },
     "53eb09fca69c4ab8bc7a9c6e45fee7bd": {
      "model_module": "@jupyter-widgets/base",
      "model_module_version": "1.2.0",
      "model_name": "LayoutModel",
      "state": {
       "align_items": "stretch",
       "display": "flex",
       "flex_flow": "row",
       "grid_auto_columns": "True",
       "justify_content": "flex-end",
       "width": "90%"
      }
     },
     "543a3f23f41b401382d37de6983b0452": {
      "model_module": "@jupyter-widgets/base",
      "model_module_version": "1.2.0",
      "model_name": "LayoutModel",
      "state": {}
     },
     "54826153dbad42cb9650ed5b303b1308": {
      "model_module": "@jupyter-widgets/controls",
      "model_module_version": "1.5.0",
      "model_name": "VBoxModel",
      "state": {
       "children": [
        "IPY_MODEL_70e9eebff6944bc2bb38df1b94f004be",
        "IPY_MODEL_7b2066c54bce426cac5335fd811fcb7b",
        "IPY_MODEL_beb01abba1084007ab35f9e0a786a1aa"
       ],
       "layout": "IPY_MODEL_3002a099afaf4d2ab88aba1282298ace"
      }
     },
     "54d00d5764024eeb8cf29af2d0c31b84": {
      "model_module": "@jupyter-widgets/base",
      "model_module_version": "1.2.0",
      "model_name": "LayoutModel",
      "state": {
       "align_items": "stretch",
       "display": "flex",
       "flex_flow": "row",
       "grid_auto_columns": "True",
       "justify_content": "flex-start",
       "width": "80%"
      }
     },
     "54d512a5481241788d57bc0dec772d3b": {
      "model_module": "@jupyter-widgets/base",
      "model_module_version": "1.2.0",
      "model_name": "LayoutModel",
      "state": {
       "align_items": "stretch",
       "border": "dashed 0.2px green",
       "display": "flex",
       "flex_flow": "row",
       "grid_auto_columns": "True",
       "justify_content": "flex-start",
       "width": "100%"
      }
     },
     "553cf94bcd434c9282eabfb044efc9f1": {
      "model_module": "@jupyter-widgets/controls",
      "model_module_version": "1.5.0",
      "model_name": "HTMLModel",
      "state": {
       "layout": "IPY_MODEL_9c87b6d3d3334fbbaeeb4ed411fc64c8",
       "style": "IPY_MODEL_17dc5d3041fc4668bb84c0fbc24b899d",
       "value": "<p>fus foo ous o</p>"
      }
     },
     "5592ff2d857845cf86fc8745baf2ebdc": {
      "model_module": "@jupyter-widgets/controls",
      "model_module_version": "1.5.0",
      "model_name": "HBoxModel",
      "state": {
       "children": [
        "IPY_MODEL_0c98076fb57048599eed33bc74f02619",
        "IPY_MODEL_4f1785874b114ad4a13d27e1f6ec7978"
       ],
       "layout": "IPY_MODEL_10b29d919ea2454b895a2ea671e29e10"
      }
     },
     "55a1452b92f74afc9e9067e052c40a64": {
      "model_module": "@jupyter-widgets/base",
      "model_module_version": "1.2.0",
      "model_name": "LayoutModel",
      "state": {}
     },
     "55a7480dad84429eb45e913e9e13285c": {
      "model_module": "@jupyter-widgets/controls",
      "model_module_version": "1.5.0",
      "model_name": "HBoxModel",
      "state": {
       "children": [
        "IPY_MODEL_2bbaeab380d9453280af13f24f799e40"
       ],
       "layout": "IPY_MODEL_2349c79db9374081aea170c55500e920"
      }
     },
     "55d6faf68b8944df9ba0872672363f92": {
      "model_module": "@jupyter-widgets/base",
      "model_module_version": "1.2.0",
      "model_name": "LayoutModel",
      "state": {}
     },
     "55f0546f38924682bb6424851797e2cf": {
      "model_module": "@jupyter-widgets/controls",
      "model_module_version": "1.5.0",
      "model_name": "ButtonModel",
      "state": {
       "button_style": "warning",
       "description": "revert to last save",
       "layout": "IPY_MODEL_469fd31e8b904d618f1570070f371ef4",
       "style": "IPY_MODEL_054e151b981d434985b24d6975de821b"
      }
     },
     "55f954cc6fc64dd8a0053f95c66b403d": {
      "model_module": "@jupyter-widgets/base",
      "model_module_version": "1.2.0",
      "model_name": "LayoutModel",
      "state": {
       "align_items": "stretch",
       "display": "flex",
       "flex_flow": "row",
       "grid_auto_columns": "True",
       "justify_content": "flex-start",
       "width": "80%"
      }
     },
     "5641c9811b174578a4357dcdde591451": {
      "model_module": "@jupyter-widgets/controls",
      "model_module_version": "1.5.0",
      "model_name": "DescriptionStyleModel",
      "state": {
       "description_width": ""
      }
     },
     "56637dc304774c8a92c8cc27dded856f": {
      "model_module": "@jupyter-widgets/controls",
      "model_module_version": "1.5.0",
      "model_name": "SelectMultipleModel",
      "state": {
       "_options_labels": [
        "asfd",
        "10",
        "asdf"
       ],
       "index": [
        1
       ],
       "layout": "IPY_MODEL_ce94d028e574482dba3d1837e783d3ae",
       "rows": 5,
       "style": "IPY_MODEL_c06a2c3f88564fb7bfdd6e5655a299af"
      }
     },
     "56723dffbd2c4bb6ac15158068815c40": {
      "model_module": "@jupyter-widgets/base",
      "model_module_version": "1.2.0",
      "model_name": "LayoutModel",
      "state": {}
     },
     "56845b9379284c50be3e728f25df05d3": {
      "model_module": "@jupyter-widgets/controls",
      "model_module_version": "1.5.0",
      "model_name": "HBoxModel",
      "state": {
       "children": [
        "IPY_MODEL_ef37d2aae57e46808c2b5e4abe2fef93",
        "IPY_MODEL_9b9ae67aba2048c09bfdd277190f94c1"
       ],
       "layout": "IPY_MODEL_4475b9a194aa48a0bfe7e3a0ed57a8b1"
      }
     },
     "56a78ab4b4c5491bb323797382f37e12": {
      "model_module": "@jupyter-widgets/controls",
      "model_module_version": "1.5.0",
      "model_name": "DescriptionStyleModel",
      "state": {
       "description_width": ""
      }
     },
     "56de79eb3b2e49c68bddb034cf8d01ae": {
      "model_module": "@jupyter-widgets/controls",
      "model_module_version": "1.5.0",
      "model_name": "HBoxModel",
      "state": {
       "children": [
        "IPY_MODEL_e92a53db9c2649b59443dcaee2cbba24",
        "IPY_MODEL_f4a7fdee74d0454eb73ba3603b9cf2c4",
        "IPY_MODEL_44fb2eb6affd4ac2880f6946cd33319b"
       ],
       "layout": "IPY_MODEL_84a1d85779f14afc9f777f883ef476c5"
      }
     },
     "56fb93538d664dcbb0eefb7e0910b55a": {
      "model_module": "@jupyter-widgets/output",
      "model_module_version": "1.0.0",
      "model_name": "OutputModel",
      "state": {
       "layout": "IPY_MODEL_a8f7d65d22e84dd79e826f9f656fcf44"
      }
     },
     "56fffe0347bc476687c0bf9c19089ea4": {
      "model_module": "@jupyter-widgets/base",
      "model_module_version": "1.2.0",
      "model_name": "LayoutModel",
      "state": {}
     },
     "5710a89e9cce4956b6da64c7bca5ee6f": {
      "model_module": "@jupyter-widgets/controls",
      "model_module_version": "1.5.0",
      "model_name": "HTMLModel",
      "state": {
       "layout": "IPY_MODEL_03e747ba3caf4bcea264e9f12118f8e1",
       "style": "IPY_MODEL_ce65165dfdd14d0586023c592868581d",
       "value": "<p>fpth_in</p>"
      }
     },
     "573e1cb543b5407fbb952d3979d5e03f": {
      "model_module": "@jupyter-widgets/controls",
      "model_module_version": "1.5.0",
      "model_name": "DescriptionStyleModel",
      "state": {
       "description_width": ""
      }
     },
     "57455a610c2947088a8d102fd60dcb4d": {
      "model_module": "@jupyter-widgets/controls",
      "model_module_version": "1.5.0",
      "model_name": "HTMLModel",
      "state": {
       "layout": "IPY_MODEL_af7d8e8032664ceda749338e8f79d45d",
       "style": "IPY_MODEL_b0638c8e7f224a07ba9b61923c183d7b",
       "value": "<p>its a foo cake</p>"
      }
     },
     "576a5a9d23b0417c89247b5a775289be": {
      "model_module": "@jupyter-widgets/base",
      "model_module_version": "1.2.0",
      "model_name": "LayoutModel",
      "state": {}
     },
     "5785a5c149f04cc2b6d12a89570eada1": {
      "model_module": "@jupyter-widgets/base",
      "model_module_version": "1.2.0",
      "model_name": "LayoutModel",
      "state": {}
     },
     "5794af5e2e0a4a609418c22e75479c6c": {
      "model_module": "@jupyter-widgets/controls",
      "model_module_version": "1.5.0",
      "model_name": "ToggleButtonModel",
      "state": {
       "icon": "arrow-down",
       "layout": "IPY_MODEL_e4e8d6f702b942e99ab39ddabe82e359",
       "style": "IPY_MODEL_a0264a25168647419a60b810380460da"
      }
     },
     "57d91d14407b49779627184b39f035af": {
      "model_module": "@jupyter-widgets/base",
      "model_module_version": "1.2.0",
      "model_name": "LayoutModel",
      "state": {}
     },
     "57dcbb58083a4417bdcf743270ff6687": {
      "model_module": "@jupyter-widgets/base",
      "model_module_version": "1.2.0",
      "model_name": "LayoutModel",
      "state": {
       "align_items": "stretch",
       "border": "dashed 0.2px green",
       "display": "flex",
       "flex_flow": "row",
       "grid_auto_columns": "True",
       "justify_content": "flex-start",
       "width": "100%"
      }
     },
     "57e6fe1f61d24b72ac25c6701daa597d": {
      "model_module": "@jupyter-widgets/base",
      "model_module_version": "1.2.0",
      "model_name": "LayoutModel",
      "state": {}
     },
     "57f125a0ea3145d4b652c06d788a3f73": {
      "model_module": "@jupyter-widgets/base",
      "model_module_version": "1.2.0",
      "model_name": "LayoutModel",
      "state": {}
     },
     "57fa3b6012c9483a8b6d4fb6bc95dd67": {
      "model_module": "@jupyter-widgets/controls",
      "model_module_version": "1.5.0",
      "model_name": "DescriptionStyleModel",
      "state": {
       "description_width": ""
      }
     },
     "5826851a3ca8464580d04ea9da836f8f": {
      "model_module": "@jupyter-widgets/controls",
      "model_module_version": "1.5.0",
      "model_name": "DescriptionStyleModel",
      "state": {
       "description_width": ""
      }
     },
     "5861b09a327a4fec9de6fa0b1f62f1b0": {
      "model_module": "@jupyter-widgets/controls",
      "model_module_version": "1.5.0",
      "model_name": "DescriptionStyleModel",
      "state": {
       "description_width": ""
      }
     },
     "58bb59d5bdd445a789196fcce2d3d757": {
      "model_module": "@jupyter-widgets/controls",
      "model_module_version": "1.5.0",
      "model_name": "HBoxModel",
      "state": {
       "children": [
        "IPY_MODEL_6051e6fe97104c81b58685d36f6234c8"
       ],
       "layout": "IPY_MODEL_b257f4013f6e4190a75a5882b6e7075b"
      }
     },
     "5945509a35954e43a2d6cf7b4d69fd54": {
      "model_module": "@jupyter-widgets/controls",
      "model_module_version": "1.5.0",
      "model_name": "HBoxModel",
      "state": {
       "children": [
        "IPY_MODEL_53dfe55b0dfd426690e05c5bb244f2f0",
        "IPY_MODEL_4587e6ee626c44ceb2c5d6326437680f"
       ],
       "layout": "IPY_MODEL_c2002191f1d84c76bbeb40370a06382a"
      }
     },
     "596caa5934f24f418c677c68c2f15fef": {
      "model_module": "@jupyter-widgets/controls",
      "model_module_version": "1.5.0",
      "model_name": "HTMLModel",
      "state": {
       "layout": "IPY_MODEL_1018e37487554a88bb5df662267c0573",
       "style": "IPY_MODEL_d3655093cd94464e8e43273c7a7079a4",
       "value": "<p>its a foo cake</p>"
      }
     },
     "5989d23e5093402a9585f69baf46b72f": {
      "model_module": "@jupyter-widgets/base",
      "model_module_version": "1.2.0",
      "model_name": "LayoutModel",
      "state": {
       "align_items": "stretch",
       "display": "flex",
       "flex_flow": "row",
       "grid_auto_columns": "True",
       "justify_content": "flex-end",
       "width": "90%"
      }
     },
     "5997b6621bc44844b61447364e532c36": {
      "model_module": "@jupyter-widgets/base",
      "model_module_version": "1.2.0",
      "model_name": "LayoutModel",
      "state": {
       "align_items": "stretch",
       "border": "dashed 0.2px green",
       "display": "flex",
       "flex_flow": "row",
       "grid_auto_columns": "True",
       "justify_content": "flex-start",
       "width": "100%"
      }
     },
     "59a5cf5c98f6499898b774a8ec819712": {
      "model_module": "@jupyter-widgets/base",
      "model_module_version": "1.2.0",
      "model_name": "LayoutModel",
      "state": {}
     },
     "59b1bbefb94e41bc8d6c8c36102bc047": {
      "model_module": "@jupyter-widgets/controls",
      "model_module_version": "1.5.0",
      "model_name": "HTMLModel",
      "state": {
       "layout": "IPY_MODEL_fc39e11aa60f4f53ada86b1823b2d18e",
       "style": "IPY_MODEL_40437b4012fb4d73aaa5e5bb31c6f329",
       "value": "<p>its a foo cake</p>"
      }
     },
     "59dbc8ae4d3b4b24948e1e6d2e12b7be": {
      "model_module": "@jupyter-widgets/controls",
      "model_module_version": "1.5.0",
      "model_name": "DescriptionStyleModel",
      "state": {
       "description_width": ""
      }
     },
     "59e71c7d36624a308d8f0e5a14d8538d": {
      "model_module": "@jupyter-widgets/controls",
      "model_module_version": "1.5.0",
      "model_name": "HTMLModel",
      "state": {
       "layout": "IPY_MODEL_9be7aea1651d461a8e49f1fce2ac17ca",
       "style": "IPY_MODEL_b9bc6e548da2462d8d11813d012d8b96",
       "value": "<p>foo</p>"
      }
     },
     "59e7fcdbd6534e4aa281e672f3856c40": {
      "model_module": "@jupyter-widgets/controls",
      "model_module_version": "1.5.0",
      "model_name": "DescriptionStyleModel",
      "state": {
       "description_width": ""
      }
     },
     "5a35ee76aa7c4969a1a76f1b5846942d": {
      "model_module": "@jupyter-widgets/base",
      "model_module_version": "1.2.0",
      "model_name": "LayoutModel",
      "state": {}
     },
     "5a547ddd79cd4221a74e3f6fdd54b381": {
      "model_module": "@jupyter-widgets/controls",
      "model_module_version": "1.5.0",
      "model_name": "HBoxModel",
      "state": {
       "children": [
        "IPY_MODEL_6cb2caa335104c78bc4d62fc95900526"
       ],
       "layout": "IPY_MODEL_6b1a86c8f76d4416804778071d896624"
      }
     },
     "5a88bb5023514269b3aded41b9cec001": {
      "model_module": "@jupyter-widgets/controls",
      "model_module_version": "1.5.0",
      "model_name": "ToggleButtonModel",
      "state": {
       "description": "help",
       "icon": "fa-question-circle",
       "layout": "IPY_MODEL_5c0dd8febb60464c8230bc8bb6bf45f2",
       "style": "IPY_MODEL_b259876dc9314bd38123a7465e99e485",
       "tooltip": "gives guidance"
      }
     },
     "5a8a885d07b74edcbc4290c5c4e73184": {
      "model_module": "@jupyter-widgets/controls",
      "model_module_version": "1.5.0",
      "model_name": "HBoxModel",
      "state": {
       "children": [
        "IPY_MODEL_9d1ee194b8dc4534bab0e2d729738d1e",
        "IPY_MODEL_d4e90956f2124a2ba7c3ba5aebe9c1be"
       ],
       "layout": "IPY_MODEL_bddf453d9208417a816c882203bc8968"
      }
     },
     "5ae558511c514311ac4a79332eaf13a3": {
      "model_module": "@jupyter-widgets/base",
      "model_module_version": "1.2.0",
      "model_name": "LayoutModel",
      "state": {
       "align_items": "stretch",
       "display": "flex",
       "flex_flow": "row",
       "grid_auto_columns": "True",
       "justify_content": "flex-end",
       "width": "90%"
      }
     },
     "5b19708a2d4a4fdeb7ae39be3c2056d7": {
      "model_module": "@jupyter-widgets/base",
      "model_module_version": "1.2.0",
      "model_name": "LayoutModel",
      "state": {
       "align_items": "stretch",
       "display": "flex",
       "flex_flow": "row",
       "grid_auto_columns": "True",
       "justify_content": "flex-end",
       "width": "90%"
      }
     },
     "5b2aa136bc69442cbb62c5fdf193332c": {
      "model_module": "@jupyter-widgets/base",
      "model_module_version": "1.2.0",
      "model_name": "LayoutModel",
      "state": {}
     },
     "5b2f1cbb0ab0454eb898a174213f75ae": {
      "model_module": "@jupyter-widgets/base",
      "model_module_version": "1.2.0",
      "model_name": "LayoutModel",
      "state": {
       "align_items": "stretch",
       "border": "dashed 0.2px green",
       "display": "flex",
       "flex_flow": "row",
       "grid_auto_columns": "True",
       "justify_content": "flex-start",
       "width": "100%"
      }
     },
     "5b3c366e9a7a4b93a3e17f49db547b14": {
      "model_module": "@jupyter-widgets/base",
      "model_module_version": "1.2.0",
      "model_name": "LayoutModel",
      "state": {
       "display": "flex",
       "flex_flow": "row",
       "grid_auto_columns": "False",
       "justify_content": "flex-start",
       "width": "100%"
      }
     },
     "5b3f9c126c1a4d5db6615c05b79f3af4": {
      "model_module": "@jupyter-widgets/controls",
      "model_module_version": "1.5.0",
      "model_name": "DescriptionStyleModel",
      "state": {
       "description_width": ""
      }
     },
     "5b4e4d51d46449848fdf564783cecb39": {
      "model_module": "@jupyter-widgets/base",
      "model_module_version": "1.2.0",
      "model_name": "LayoutModel",
      "state": {}
     },
     "5b6d97a8004c4b15932c5c84a02e2894": {
      "model_module": "@jupyter-widgets/controls",
      "model_module_version": "1.5.0",
      "model_name": "HBoxModel",
      "state": {
       "children": [
        "IPY_MODEL_757765271b0548dab6ac3774fe45084b"
       ],
       "layout": "IPY_MODEL_54d512a5481241788d57bc0dec772d3b"
      }
     },
     "5b7a314e21684fc1a00b45b188331423": {
      "model_module": "@jupyter-widgets/base",
      "model_module_version": "1.2.0",
      "model_name": "LayoutModel",
      "state": {
       "width": "auto"
      }
     },
     "5b7d0bfb58754947836eb3fe4a7b23bf": {
      "model_module": "@jupyter-widgets/controls",
      "model_module_version": "1.5.0",
      "model_name": "HBoxModel",
      "state": {
       "children": [
        "IPY_MODEL_9046b32464e14c68ad9af06d40e8ed34",
        "IPY_MODEL_47b63ceb85534e479f3d42275fe15cfa"
       ],
       "layout": "IPY_MODEL_6984e8a6623b4ce18c7714ed55bc527e"
      }
     },
     "5b9fb72e3ebf488f9e67f206285256e7": {
      "model_module": "@jupyter-widgets/base",
      "model_module_version": "1.2.0",
      "model_name": "LayoutModel",
      "state": {
       "align_items": "stretch",
       "display": "flex",
       "flex_flow": "row",
       "grid_auto_columns": "True",
       "justify_content": "flex-end",
       "width": "90%"
      }
     },
     "5bb6c45369104226a980f7dbeabd1e2c": {
      "model_module": "@jupyter-widgets/controls",
      "model_module_version": "1.5.0",
      "model_name": "DescriptionStyleModel",
      "state": {
       "description_width": ""
      }
     },
     "5bc1ac0622cf442fb65b16c0c7cc3ce1": {
      "model_module": "@jupyter-widgets/controls",
      "model_module_version": "1.5.0",
      "model_name": "HBoxModel",
      "state": {
       "children": [
        "IPY_MODEL_3dc858e1e2b74ba9a4f4db5ae29a2d35"
       ],
       "layout": "IPY_MODEL_832fedb5c0684f63b9d47948f46d4b58"
      }
     },
     "5c0dd8febb60464c8230bc8bb6bf45f2": {
      "model_module": "@jupyter-widgets/base",
      "model_module_version": "1.2.0",
      "model_name": "LayoutModel",
      "state": {
       "width": "5%"
      }
     },
     "5c4af6d284cd46819b250521bd375843": {
      "model_module": "@jupyter-widgets/controls",
      "model_module_version": "1.5.0",
      "model_name": "ButtonModel",
      "state": {
       "description": "save",
       "layout": "IPY_MODEL_5f50d505275c4ba180854ce07c71b949",
       "style": "IPY_MODEL_b10db6fc435f429fa59e89ab0fd3b8e8"
      }
     },
     "5c6384e40ce64e5e9a038d1f2602c34b": {
      "model_module": "@jupyter-widgets/controls",
      "model_module_version": "1.5.0",
      "model_name": "HTMLModel",
      "state": {
       "layout": "IPY_MODEL_03d7625aca2d43a0a41ce10cfad4d60c",
       "style": "IPY_MODEL_799c8001c26c4f29800434f888aced5d",
       "value": "<p>edit user input form below</p>"
      }
     },
     "5c6f3cc7363344d8b2ee5ba92567b267": {
      "model_module": "@jupyter-widgets/controls",
      "model_module_version": "1.5.0",
      "model_name": "HBoxModel",
      "state": {
       "children": [
        "IPY_MODEL_0393ec5a976f46b7ae910e1050297fa9",
        "IPY_MODEL_ac6ecd1740ac4f4cbda5b5d8dece12e6"
       ],
       "layout": "IPY_MODEL_638bf857bf8f46b1bac36584199a3a18"
      }
     },
     "5c709dada9a84d8ca87a4db88ba161de": {
      "model_module": "@jupyter-widgets/controls",
      "model_module_version": "1.5.0",
      "model_name": "SelectModel",
      "state": {
       "_options_labels": [
        "..",
        "archive",
        "inputs-docx_to_pdf.json",
        "inputs-eplus_pipework_params-1.csv",
        "inputs-eplus_pipework_params.csv",
        "inputs-gbxml.json",
        "test-1.json",
        "test-derived-val.json",
        "test.json"
       ],
       "index": 5,
       "layout": "IPY_MODEL_9365ce9762b844d28bdfb69c7aaa8ad4",
       "rows": 8,
       "style": "IPY_MODEL_5ddb1a726a3b43dc869999e0cb05a7df"
      }
     },
     "5cac3c5be4f842df958efe282e92a2fa": {
      "model_module": "@jupyter-widgets/base",
      "model_module_version": "1.2.0",
      "model_name": "LayoutModel",
      "state": {}
     },
     "5cb9b84bb3964219ac5481ea610dd795": {
      "model_module": "@jupyter-widgets/base",
      "model_module_version": "1.2.0",
      "model_name": "LayoutModel",
      "state": {
       "grid_area": "pathlist",
       "width": "auto"
      }
     },
     "5cd0ba91e9c14504b6bd274883e57de9": {
      "model_module": "@jupyter-widgets/controls",
      "model_module_version": "1.5.0",
      "model_name": "DescriptionStyleModel",
      "state": {
       "description_width": ""
      }
     },
     "5cdbfc0a4ee645c48649b453c89595aa": {
      "model_module": "@jupyter-widgets/controls",
      "model_module_version": "1.5.0",
      "model_name": "HBoxModel",
      "state": {
       "children": [
        "IPY_MODEL_4de2889815184b21a1e1c8b2aac53aef",
        "IPY_MODEL_11a9f4df11f24e988155261adaf0a479"
       ],
       "layout": "IPY_MODEL_000479365b7b43359759eae2f08675f5"
      }
     },
     "5ceff4fc1a234f8fa13c51db2dd5e537": {
      "model_module": "@jupyter-widgets/base",
      "model_module_version": "1.2.0",
      "model_name": "LayoutModel",
      "state": {
       "align_items": "stretch",
       "display": "flex",
       "flex_flow": "row",
       "grid_auto_columns": "True",
       "justify_content": "flex-end",
       "width": "90%"
      }
     },
     "5cf657dfd3404a3d83b5dfc36e48226a": {
      "model_module": "@jupyter-widgets/controls",
      "model_module_version": "1.5.0",
      "model_name": "DescriptionStyleModel",
      "state": {
       "description_width": ""
      }
     },
     "5d409b5ca8144962a719ad64cbe48292": {
      "model_module": "@jupyter-widgets/base",
      "model_module_version": "1.2.0",
      "model_name": "LayoutModel",
      "state": {
       "align_items": "stretch",
       "display": "flex",
       "flex_flow": "row",
       "grid_auto_columns": "True",
       "justify_content": "flex-end",
       "width": "90%"
      }
     },
     "5d4d5581e6cb4159a97fd4b3e959e440": {
      "model_module": "@jupyter-widgets/base",
      "model_module_version": "1.2.0",
      "model_name": "LayoutModel",
      "state": {}
     },
     "5d770609ee5e4f66b6cb871db4d548d7": {
      "model_module": "@jupyter-widgets/controls",
      "model_module_version": "1.5.0",
      "model_name": "HTMLModel",
      "state": {
       "layout": "IPY_MODEL_9465095ad32e4368b6dddba185150a1a",
       "style": "IPY_MODEL_2c4ef3c41c1b4ac49b2328b693decce9",
       "value": "<p>its a foo cake</p>"
      }
     },
     "5d890a4a95514e939aa13489261b78aa": {
      "model_module": "@jupyter-widgets/base",
      "model_module_version": "1.2.0",
      "model_name": "LayoutModel",
      "state": {}
     },
     "5d96d7a65b1b4fd99e289bd986cb783f": {
      "model_module": "@jupyter-widgets/controls",
      "model_module_version": "1.5.0",
      "model_name": "HTMLModel",
      "state": {
       "layout": "IPY_MODEL_a1b1ed081d2e4eb6beab7c1e4a1932ab",
       "style": "IPY_MODEL_74ce4cab44b446ffbafd6288eeb92499",
       "value": "<p>its a delicious foo cake</p>"
      }
     },
     "5d97eeebe8134c9cae71b5810ef88285": {
      "model_module": "@jupyter-widgets/controls",
      "model_module_version": "1.5.0",
      "model_name": "HTMLModel",
      "state": {
       "layout": "IPY_MODEL_f87981cceaf84ef99d01612eee68e20d",
       "style": "IPY_MODEL_b979fc89905c4319945519b655f60a80",
       "value": "<p>2</p>"
      }
     },
     "5dc92389a47d4cf8baa5973af1f90636": {
      "model_module": "@jupyter-widgets/base",
      "model_module_version": "1.2.0",
      "model_name": "LayoutModel",
      "state": {}
     },
     "5dd684a04a704bffb7317d26ca7b7573": {
      "model_module": "@jupyter-widgets/controls",
      "model_module_version": "1.5.0",
      "model_name": "DescriptionStyleModel",
      "state": {
       "description_width": ""
      }
     },
     "5ddb1a726a3b43dc869999e0cb05a7df": {
      "model_module": "@jupyter-widgets/controls",
      "model_module_version": "1.5.0",
      "model_name": "DescriptionStyleModel",
      "state": {
       "description_width": ""
      }
     },
     "5e2373d2ebc8448eb94481a6dc276110": {
      "model_module": "@jupyter-widgets/base",
      "model_module_version": "1.2.0",
      "model_name": "LayoutModel",
      "state": {}
     },
     "5e436747056e4cdd9687a8871e84b4e2": {
      "model_module": "@jupyter-widgets/base",
      "model_module_version": "1.2.0",
      "model_name": "LayoutModel",
      "state": {}
     },
     "5e8d148d89ed4c059122853720fff973": {
      "model_module": "@jupyter-widgets/controls",
      "model_module_version": "1.5.0",
      "model_name": "DescriptionStyleModel",
      "state": {
       "description_width": ""
      }
     },
     "5edd12586d5e4bd68f47c8f9ade00622": {
      "model_module": "@jupyter-widgets/controls",
      "model_module_version": "1.5.0",
      "model_name": "DescriptionStyleModel",
      "state": {
       "description_width": ""
      }
     },
     "5f04eed77b3c4c808a9b081d551ba3a3": {
      "model_module": "@jupyter-widgets/controls",
      "model_module_version": "1.5.0",
      "model_name": "HBoxModel",
      "state": {
       "children": [
        "IPY_MODEL_905e2c7ad0604343b6ac386b0a9e92ca",
        "IPY_MODEL_536d133825e14b2fb58ab36d96944218"
       ],
       "layout": "IPY_MODEL_c885cb3965104051a2d5913fe3abb5b9"
      }
     },
     "5f08d68cc4f847f89a5a926cf30daeeb": {
      "model_module": "@jupyter-widgets/base",
      "model_module_version": "1.2.0",
      "model_name": "LayoutModel",
      "state": {}
     },
     "5f0be51f598541d68e72c5926fcc8707": {
      "model_module": "@jupyter-widgets/controls",
      "model_module_version": "1.5.0",
      "model_name": "DescriptionStyleModel",
      "state": {
       "description_width": ""
      }
     },
     "5f3d5eccbfed49cb9838ed00f5b6149f": {
      "model_module": "@jupyter-widgets/output",
      "model_module_version": "1.0.0",
      "model_name": "OutputModel",
      "state": {
       "layout": "IPY_MODEL_b4ebc3316ed646fe8d1c5ce73499c599"
      }
     },
     "5f50d505275c4ba180854ce07c71b949": {
      "model_module": "@jupyter-widgets/base",
      "model_module_version": "1.2.0",
      "model_name": "LayoutModel",
      "state": {}
     },
     "5f52699b6bf64ee99731f265372664d1": {
      "model_module": "@jupyter-widgets/controls",
      "model_module_version": "1.5.0",
      "model_name": "HBoxModel",
      "state": {
       "children": [
        "IPY_MODEL_e7902ed2699c4ec7a38ad87dfb27846d",
        "IPY_MODEL_130f0c73677a402e969a2f2a677fee59"
       ],
       "layout": "IPY_MODEL_05897f909911490ead17e9616aa2b243"
      }
     },
     "5f5918e412bb49a2be72afb2da1a563d": {
      "model_module": "@jupyter-widgets/base",
      "model_module_version": "1.2.0",
      "model_name": "LayoutModel",
      "state": {}
     },
     "5f796e8236ba48d694918aa5a0e0fb42": {
      "model_module": "@jupyter-widgets/base",
      "model_module_version": "1.2.0",
      "model_name": "LayoutModel",
      "state": {
       "align_items": "stretch",
       "border": "dashed 0.2px green",
       "display": "flex",
       "flex_flow": "row",
       "grid_auto_columns": "True",
       "justify_content": "flex-start",
       "width": "100%"
      }
     },
     "5f90d934b31c4ad0b508be4ac6bfd11b": {
      "model_module": "@jupyter-widgets/base",
      "model_module_version": "1.2.0",
      "model_name": "LayoutModel",
      "state": {}
     },
     "5fbdb01ad198497286dc31edf1af5b48": {
      "model_module": "@jupyter-widgets/base",
      "model_module_version": "1.2.0",
      "model_name": "LayoutModel",
      "state": {
       "display": "none"
      }
     },
     "5fc7dd5d34f64ef6b949d215e945723c": {
      "model_module": "@jupyter-widgets/base",
      "model_module_version": "1.2.0",
      "model_name": "LayoutModel",
      "state": {
       "display": "flex",
       "flex_flow": "row",
       "grid_auto_columns": "False",
       "justify_content": "flex-start",
       "width": "100%"
      }
     },
     "603a71bf6ad6473a97d7b2c70099cacb": {
      "model_module": "@jupyter-widgets/controls",
      "model_module_version": "1.5.0",
      "model_name": "HTMLModel",
      "state": {
       "layout": "IPY_MODEL_ef185d520c3c44be86d8cdecfcde9871",
       "style": "IPY_MODEL_fb634c93b5b94a5f835d08f8410ffa76",
       "value": "016"
      }
     },
     "604c0e6dc62244c38fbc19a1e20cb90a": {
      "model_module": "@jupyter-widgets/controls",
      "model_module_version": "1.5.0",
      "model_name": "ToggleButtonModel",
      "state": {
       "button_style": "info",
       "description": "inputs from file",
       "layout": "IPY_MODEL_688e0b56a804472c9bf178833b63a922",
       "style": "IPY_MODEL_0ac8f05a8d634e1689d78e43f8053e4f"
      }
     },
     "6051e6fe97104c81b58685d36f6234c8": {
      "model_module": "@jupyter-widgets/controls",
      "model_module_version": "1.5.0",
      "model_name": "HBoxModel",
      "state": {
       "children": [
        "IPY_MODEL_eb9ce651904d4cb5938a44acb13cfa48",
        "IPY_MODEL_479f243127de459187ccf4108cd2bd62"
       ],
       "layout": "IPY_MODEL_cc45537ce74745f4af5ed6f966298c4e"
      }
     },
     "6061d4bf62b345949bfe1cfe0a99399c": {
      "model_module": "@jupyter-widgets/controls",
      "model_module_version": "1.5.0",
      "model_name": "HTMLModel",
      "state": {
       "layout": "IPY_MODEL_703bf37de3914a4b951180c1bf2ea16a",
       "style": "IPY_MODEL_0484e481f58d4214b9a79b73aae30f63",
       "value": "<p>fus foo ous o</p>"
      }
     },
     "607fdbedc7e84155b853fd2a56f02caa": {
      "model_module": "@jupyter-widgets/controls",
      "model_module_version": "1.5.0",
      "model_name": "HBoxModel",
      "state": {
       "children": [
        "IPY_MODEL_cac37715221e4fd6ad4b22215f9e72d2"
       ],
       "layout": "IPY_MODEL_b2f701cb730440dc824e9487fb6edb55"
      }
     },
     "609d38b0a75049879ac770890c5fce89": {
      "model_module": "@jupyter-widgets/controls",
      "model_module_version": "1.5.0",
      "model_name": "HBoxModel",
      "state": {
       "children": [
        "IPY_MODEL_8ff27cf4f2b149fe8c14f28e6f3179f3",
        "IPY_MODEL_6a46b1f0d3a04842b6e003a3d257c08b"
       ],
       "layout": "IPY_MODEL_7412f5ccb1384196bf41b9924f03efb2"
      }
     },
     "60a1bab01f904c929574376264f7aa42": {
      "model_module": "@jupyter-widgets/base",
      "model_module_version": "1.2.0",
      "model_name": "LayoutModel",
      "state": {
       "align_items": "stretch",
       "border": "dashed 0.2px green",
       "display": "flex",
       "flex_flow": "row",
       "grid_auto_columns": "True",
       "justify_content": "flex-start",
       "width": "100%"
      }
     },
     "60adc947f26847b48a7148a2dd973f24": {
      "model_module": "@jupyter-widgets/base",
      "model_module_version": "1.2.0",
      "model_name": "LayoutModel",
      "state": {
       "align_items": "stretch",
       "border": "dashed 0.2px green",
       "display": "flex",
       "flex_flow": "row",
       "grid_auto_columns": "True",
       "justify_content": "flex-start",
       "width": "100%"
      }
     },
     "60bd336aeedf424097f2816b72917a4c": {
      "model_module": "@jupyter-widgets/base",
      "model_module_version": "1.2.0",
      "model_name": "LayoutModel",
      "state": {}
     },
     "60c9693828364688a1cea51dfb42795d": {
      "model_module": "@jupyter-widgets/controls",
      "model_module_version": "1.5.0",
      "model_name": "TextareaModel",
      "state": {
       "layout": "IPY_MODEL_0f401cc6c27b492b9b90aa714d486a7c",
       "style": "IPY_MODEL_3dcb2de76f4a4cd6b3ed9ef9f2aa93c1",
       "value": "asdfasdf"
      }
     },
     "60cb5145db5c4445a0f8e274cf599ba2": {
      "model_module": "@jupyter-widgets/controls",
      "model_module_version": "1.5.0",
      "model_name": "HBoxModel",
      "state": {
       "children": [
        "IPY_MODEL_3e2c0e30dbfc4ed790233487d595f92d",
        "IPY_MODEL_45c64068203f4c26a7f5c5806b8474d4"
       ],
       "layout": "IPY_MODEL_170ad5d0004b45ba97da40dd7522b1f5"
      }
     },
     "60d16048ee7a4f89877dbe989cab6e8b": {
      "model_module": "@jupyter-widgets/controls",
      "model_module_version": "1.5.0",
      "model_name": "DescriptionStyleModel",
      "state": {
       "description_width": ""
      }
     },
     "60eb63c3909e480bb82b6fc8b6ac5feb": {
      "model_module": "@jupyter-widgets/base",
      "model_module_version": "1.2.0",
      "model_name": "LayoutModel",
      "state": {
       "align_items": "stretch",
       "display": "flex",
       "flex_flow": "row",
       "grid_auto_columns": "True",
       "justify_content": "flex-start",
       "width": "80%"
      }
     },
     "60ef03c2c78d4c998d2252189652ab65": {
      "model_module": "@jupyter-widgets/base",
      "model_module_version": "1.2.0",
      "model_name": "LayoutModel",
      "state": {}
     },
     "6106ffe0c20a48289de86f3eb65fabc8": {
      "model_module": "@jupyter-widgets/controls",
      "model_module_version": "1.5.0",
      "model_name": "VBoxModel",
      "state": {
       "children": [
        "IPY_MODEL_edadcda829f047f28e1493d93028f147",
        "IPY_MODEL_00894f67c14f401997f168ba99deaa95",
        "IPY_MODEL_c06442cac5d24e74b808573f8abf5469",
        "IPY_MODEL_f02534b995174f5d947b435d79ece215",
        "IPY_MODEL_c50c4e448b5548d9acc8eb7ee5c81389",
        "IPY_MODEL_20ce65d6aa7c4a868a7f48c7acf7fbf0",
        "IPY_MODEL_42717582fb48426c9da14eaae3792b92",
        "IPY_MODEL_d8742385348745a89a2c0b6c1d043621"
       ],
       "layout": "IPY_MODEL_ea15575c389b4f54b0a71ec1a53ebad1"
      }
     },
     "6109bb1801c0436c84c043d4037ad364": {
      "model_module": "@jupyter-widgets/controls",
      "model_module_version": "1.5.0",
      "model_name": "HTMLModel",
      "state": {
       "layout": "IPY_MODEL_a9ab30e4dd654477b18c9cfd6c291a56",
       "style": "IPY_MODEL_515692888088476bb589650249c6f633",
       "value": "<p>Tag for the Model, used within file naming</p>"
      }
     },
     "610ac10cdc8f460b827a36fb9a9fd6e9": {
      "model_module": "@jupyter-widgets/output",
      "model_module_version": "1.0.0",
      "model_name": "OutputModel",
      "state": {
       "layout": "IPY_MODEL_d0293b9d5cb543d8a673cfc9d495397d"
      }
     },
     "61454b65116f4859a321ecfd269756d1": {
      "model_module": "@jupyter-widgets/base",
      "model_module_version": "1.2.0",
      "model_name": "LayoutModel",
      "state": {
       "align_items": "stretch",
       "display": "flex",
       "flex_flow": "row",
       "grid_auto_columns": "True",
       "justify_content": "flex-start",
       "width": "80%"
      }
     },
     "61590c179d9142008301ede743e2943c": {
      "model_module": "@jupyter-widgets/output",
      "model_module_version": "1.0.0",
      "model_name": "OutputModel",
      "state": {
       "layout": "IPY_MODEL_c61c9fd0727e4437a987d67f2e018148"
      }
     },
     "61828a07b3034e0cb575ac8f5d8a6344": {
      "model_module": "@jupyter-widgets/controls",
      "model_module_version": "1.5.0",
      "model_name": "HTMLModel",
      "state": {
       "layout": "IPY_MODEL_9c963c859eab41bbb1cde732c968ecbb",
       "style": "IPY_MODEL_6adb6de0b5ec47f7b85a7c37fdb97ef5",
       "value": "<p>its a foo cake</p>"
      }
     },
     "61c51ea3e9244991b24910ad1fa010cb": {
      "model_module": "@jupyter-widgets/base",
      "model_module_version": "1.2.0",
      "model_name": "LayoutModel",
      "state": {
       "align_items": "stretch",
       "display": "flex",
       "flex_flow": "row",
       "grid_auto_columns": "True",
       "justify_content": "flex-end",
       "width": "90%"
      }
     },
     "61faad76c29d404881617f291a94e0ea": {
      "model_module": "@jupyter-widgets/base",
      "model_module_version": "1.2.0",
      "model_name": "LayoutModel",
      "state": {}
     },
     "621b0c660a524c5f9ec3c3aec6dcef04": {
      "model_module": "@jupyter-widgets/base",
      "model_module_version": "1.2.0",
      "model_name": "LayoutModel",
      "state": {
       "align_items": "stretch",
       "display": "flex",
       "flex_flow": "row",
       "grid_auto_columns": "True",
       "justify_content": "flex-end",
       "width": "90%"
      }
     },
     "621dfeca5b57458ca55c26bdc3c2cf9a": {
      "model_module": "@jupyter-widgets/base",
      "model_module_version": "1.2.0",
      "model_name": "LayoutModel",
      "state": {
       "align_items": "stretch",
       "border": "dashed 0.2px green",
       "display": "flex",
       "flex_flow": "row",
       "grid_auto_columns": "True",
       "justify_content": "flex-start",
       "width": "100%"
      }
     },
     "6271ca63e805426a835daef57460ea46": {
      "model_module": "@jupyter-widgets/base",
      "model_module_version": "1.2.0",
      "model_name": "LayoutModel",
      "state": {}
     },
     "62a695cad75a4b758d10b4736bfdf63c": {
      "model_module": "@jupyter-widgets/controls",
      "model_module_version": "1.5.0",
      "model_name": "HTMLModel",
      "state": {
       "layout": "IPY_MODEL_419267e996c74686adecba7f5c8adeba",
       "style": "IPY_MODEL_e39ac263ab4242aeb94c01766e2e0815",
       "value": "<p>Report Model Run?</p>"
      }
     },
     "62b7ad15a13d4726ac6fc2145f0af306": {
      "model_module": "@jupyter-widgets/controls",
      "model_module_version": "1.5.0",
      "model_name": "HTMLModel",
      "state": {
       "layout": "IPY_MODEL_f7fc397740d74ef9a0de07eb682f87fa",
       "style": "IPY_MODEL_b2d29ac372a5436b8a75470832b37c0d",
       "value": "<p>fus foo ous o</p>"
      }
     },
     "62c7070dea074a49b09acf791594a014": {
      "model_module": "@jupyter-widgets/base",
      "model_module_version": "1.2.0",
      "model_name": "LayoutModel",
      "state": {}
     },
     "62d722dbf8a841efa12e1fcc4025ab3a": {
      "model_module": "@jupyter-widgets/controls",
      "model_module_version": "1.5.0",
      "model_name": "DescriptionStyleModel",
      "state": {
       "description_width": ""
      }
     },
     "62e8218da6564e6b865a894d87b939cd": {
      "model_module": "@jupyter-widgets/controls",
      "model_module_version": "1.5.0",
      "model_name": "HTMLModel",
      "state": {
       "layout": "IPY_MODEL_82e41c740c0c4d4aab8877d66e4f9eb4",
       "style": "IPY_MODEL_14f9d5e552e94c5fbc5600726aa29d07",
       "value": "<p>edit user input form below</p>"
      }
     },
     "62eefaa62b3c49488e7e4d2e30c6fd7f": {
      "model_module": "@jupyter-widgets/controls",
      "model_module_version": "1.5.0",
      "model_name": "HTMLModel",
      "state": {
       "layout": "IPY_MODEL_7603378b4ee745359eeed7e7e679ac83",
       "style": "IPY_MODEL_bf8cd45bc2c34ca6a0b2c481f3add111",
       "value": "<p>name</p>"
      }
     },
     "6325edf5e40a4265a2d3c489c8c9dad0": {
      "model_module": "@jupyter-widgets/base",
      "model_module_version": "1.2.0",
      "model_name": "LayoutModel",
      "state": {
       "align_items": "stretch",
       "display": "flex",
       "flex_flow": "row",
       "grid_auto_columns": "True",
       "justify_content": "flex-start",
       "width": "80%"
      }
     },
     "6338062351d24d298d1b54002968a76d": {
      "model_module": "@jupyter-widgets/base",
      "model_module_version": "1.2.0",
      "model_name": "LayoutModel",
      "state": {
       "align_items": "stretch",
       "display": "flex",
       "flex_flow": "row",
       "grid_auto_columns": "True",
       "justify_content": "flex-start",
       "width": "80%"
      }
     },
     "633e6323f9954a35a032dd21d3e08a4c": {
      "model_module": "@jupyter-widgets/controls",
      "model_module_version": "1.5.0",
      "model_name": "DescriptionStyleModel",
      "state": {
       "description_width": ""
      }
     },
     "6378017c324644dd84bcd1b304222a88": {
      "model_module": "@jupyter-widgets/controls",
      "model_module_version": "1.5.0",
      "model_name": "VBoxModel",
      "state": {
       "children": [
        "IPY_MODEL_7c5e2595a5e947a796ec8efaf4c21499",
        "IPY_MODEL_10e8d032d68c471a97cd677e9c3811a7",
        "IPY_MODEL_f28cf17951984da0b75d4664ea0c467c",
        "IPY_MODEL_fc79092421f447f486f12a3ca09d4314",
        "IPY_MODEL_dbc8fab5936840fc9e41d4fb3f3112bc",
        "IPY_MODEL_b2a816c21dd4432296878779ab650e25",
        "IPY_MODEL_281d6fbb994b4932a6f904aedf886a94",
        "IPY_MODEL_358bf1dd4b6f4348878873459941456c"
       ],
       "layout": "IPY_MODEL_647f1ce6dbfe494a8d6312e6a31a0659"
      }
     },
     "638bf857bf8f46b1bac36584199a3a18": {
      "model_module": "@jupyter-widgets/base",
      "model_module_version": "1.2.0",
      "model_name": "LayoutModel",
      "state": {
       "align_items": "stretch",
       "display": "flex",
       "flex_flow": "row",
       "grid_auto_columns": "True",
       "justify_content": "flex-end",
       "width": "90%"
      }
     },
     "6396ea93f189417cae156b357bb36aea": {
      "model_module": "@jupyter-widgets/base",
      "model_module_version": "1.2.0",
      "model_name": "LayoutModel",
      "state": {}
     },
     "63f758a7301347708d073c2edc6b3e0c": {
      "model_module": "@jupyter-widgets/base",
      "model_module_version": "1.2.0",
      "model_name": "LayoutModel",
      "state": {
       "align_items": "stretch",
       "border": "dashed 0.2px green",
       "display": "flex",
       "flex_flow": "row",
       "grid_auto_columns": "True",
       "justify_content": "flex-start",
       "width": "100%"
      }
     },
     "6413320933c042e1be888055d09ba2a9": {
      "model_module": "@jupyter-widgets/base",
      "model_module_version": "1.2.0",
      "model_name": "LayoutModel",
      "state": {}
     },
     "6415a187946141f5ab438aff3094926c": {
      "model_module": "@jupyter-widgets/controls",
      "model_module_version": "1.5.0",
      "model_name": "DescriptionStyleModel",
      "state": {
       "description_width": ""
      }
     },
     "647f1ce6dbfe494a8d6312e6a31a0659": {
      "model_module": "@jupyter-widgets/base",
      "model_module_version": "1.2.0",
      "model_name": "LayoutModel",
      "state": {}
     },
     "648c317403a94259aee7a9d2b8aef1a9": {
      "model_module": "@jupyter-widgets/base",
      "model_module_version": "1.2.0",
      "model_name": "LayoutModel",
      "state": {}
     },
     "64cce5aa4e2b48d29a727cae40bb9612": {
      "model_module": "@jupyter-widgets/controls",
      "model_module_version": "1.5.0",
      "model_name": "DescriptionStyleModel",
      "state": {
       "description_width": ""
      }
     },
     "653bebde575a4ef686a2a7752ac282ed": {
      "model_module": "@jupyter-widgets/base",
      "model_module_version": "1.2.0",
      "model_name": "LayoutModel",
      "state": {}
     },
     "65613ea7f3de49eb9e5ac71c880365d6": {
      "model_module": "@jupyter-widgets/controls",
      "model_module_version": "1.5.0",
      "model_name": "HBoxModel",
      "state": {
       "children": [
        "IPY_MODEL_1038585617dd467b83ce4404543114a7",
        "IPY_MODEL_9a301adafa6443e29cc63dca489b6e36"
       ],
       "layout": "IPY_MODEL_214f4b5e914844ba9689b4cd17847340"
      }
     },
     "65affdff0719478fa62163fd3ad2388f": {
      "model_module": "@jupyter-widgets/base",
      "model_module_version": "1.2.0",
      "model_name": "LayoutModel",
      "state": {
       "align_items": "stretch",
       "display": "flex",
       "flex_flow": "row",
       "grid_auto_columns": "True",
       "justify_content": "flex-start",
       "width": "80%"
      }
     },
     "65efb493b8004e74ac618f67d703137e": {
      "model_module": "@jupyter-widgets/controls",
      "model_module_version": "1.5.0",
      "model_name": "HBoxModel",
      "state": {
       "children": [
        "IPY_MODEL_f84f318ea4db48ac9d65cfb464f80f37",
        "IPY_MODEL_fb3f43db3f504723be526fffdeeb96d8"
       ],
       "layout": "IPY_MODEL_9f9acaa8a26241c395d39d3f2dcc2dd2"
      }
     },
     "65f9f0b7355c4bc7baad30edad030225": {
      "model_module": "@jupyter-widgets/controls",
      "model_module_version": "1.5.0",
      "model_name": "HBoxModel",
      "state": {
       "children": [
        "IPY_MODEL_ac1a309b993849f4a1ebb2b3244bcd94"
       ],
       "layout": "IPY_MODEL_498a387666f04d0fba1129e665702bf0"
      }
     },
     "6614badc12be4cc1b5dcd5e865d11d02": {
      "model_module": "@jupyter-widgets/base",
      "model_module_version": "1.2.0",
      "model_name": "LayoutModel",
      "state": {
       "align_items": "stretch",
       "border": "dashed 0.2px green",
       "display": "flex",
       "flex_flow": "row",
       "grid_auto_columns": "True",
       "justify_content": "flex-start",
       "width": "100%"
      }
     },
     "661656c0448c4378a9a7f7ae9b52bc4e": {
      "model_module": "@jupyter-widgets/controls",
      "model_module_version": "1.5.0",
      "model_name": "HTMLModel",
      "state": {
       "layout": "IPY_MODEL_d07e30d2587948599bf7c7a3bae0834d",
       "style": "IPY_MODEL_9955284a1049450cb20f57398dab82e5",
       "value": "<p>spc_name_index</p>"
      }
     },
     "661c46f6304647068eef6c2048520509": {
      "model_module": "@jupyter-widgets/controls",
      "model_module_version": "1.5.0",
      "model_name": "HTMLModel",
      "state": {
       "layout": "IPY_MODEL_7f4a151bedc14eb0b0a86b856557b4b7",
       "style": "IPY_MODEL_e80fe9763a834c37a65b7742806a02fa",
       "value": "<p>fpth_in</p>"
      }
     },
     "6621ac95bf13445c882ae27652cdce46": {
      "model_module": "@jupyter-widgets/base",
      "model_module_version": "1.2.0",
      "model_name": "LayoutModel",
      "state": {
       "align_items": "stretch",
       "display": "flex",
       "flex_flow": "row",
       "grid_auto_columns": "True",
       "justify_content": "flex-end",
       "width": "90%"
      }
     },
     "665512094dd546888b4f34410765a24a": {
      "model_module": "@jupyter-widgets/base",
      "model_module_version": "1.2.0",
      "model_name": "LayoutModel",
      "state": {}
     },
     "665898ddc27f4c49a2f37956e7460232": {
      "model_module": "@jupyter-widgets/output",
      "model_module_version": "1.0.0",
      "model_name": "OutputModel",
      "state": {
       "layout": "IPY_MODEL_dbc5ada8343f44c78af37ff5e6790fa4"
      }
     },
     "666a9940c663421cb5205b1d2179f45a": {
      "model_module": "@jupyter-widgets/controls",
      "model_module_version": "1.5.0",
      "model_name": "HTMLModel",
      "state": {
       "layout": "IPY_MODEL_3c53e695456b4b1fb83ab2c21ac57084",
       "style": "IPY_MODEL_fb702f3243de4a0582e6794adfdee2c8",
       "value": "<p>File Tag</p>"
      }
     },
     "66795ca9283a4eccb1b4e0b8f638a9d1": {
      "model_module": "@jupyter-widgets/base",
      "model_module_version": "1.2.0",
      "model_name": "LayoutModel",
      "state": {
       "align_items": "stretch",
       "display": "flex",
       "flex_flow": "row",
       "grid_auto_columns": "True",
       "justify_content": "flex-start",
       "width": "80%"
      }
     },
     "66ee35e7229f4e57918cc76d3279e590": {
      "model_module": "@jupyter-widgets/base",
      "model_module_version": "1.2.0",
      "model_name": "LayoutModel",
      "state": {
       "height": "30px",
       "width": "auto"
      }
     },
     "6716aef6e5494d788416817abaf6b12a": {
      "model_module": "@jupyter-widgets/controls",
      "model_module_version": "1.5.0",
      "model_name": "DescriptionStyleModel",
      "state": {
       "description_width": ""
      }
     },
     "672ca765c2da4dcfa854e17646d91ca9": {
      "model_module": "@jupyter-widgets/base",
      "model_module_version": "1.2.0",
      "model_name": "LayoutModel",
      "state": {
       "align_items": "stretch",
       "display": "flex",
       "flex_flow": "row",
       "grid_auto_columns": "True",
       "justify_content": "flex-end",
       "width": "90%"
      }
     },
     "674aedfd30bc461cae2b59d3bb4164bd": {
      "model_module": "@jupyter-widgets/base",
      "model_module_version": "1.2.0",
      "model_name": "LayoutModel",
      "state": {}
     },
     "67669b5dfacf420b9a8d5571a61b37f6": {
      "model_module": "@jupyter-widgets/base",
      "model_module_version": "1.2.0",
      "model_name": "LayoutModel",
      "state": {}
     },
     "678460c043ca4559a4c17d90a78bab22": {
      "model_module": "@jupyter-widgets/controls",
      "model_module_version": "1.5.0",
      "model_name": "DescriptionStyleModel",
      "state": {
       "description_width": ""
      }
     },
     "67bdfb44ee504668bbfb0fc2316ce742": {
      "model_module": "@jupyter-widgets/base",
      "model_module_version": "1.2.0",
      "model_name": "LayoutModel",
      "state": {}
     },
     "67de7aeb54b6415dba6400b9d0b3b77c": {
      "model_module": "@jupyter-widgets/base",
      "model_module_version": "1.2.0",
      "model_name": "LayoutModel",
      "state": {
       "align_items": "stretch",
       "display": "flex",
       "flex_flow": "row",
       "grid_auto_columns": "True",
       "justify_content": "flex-start",
       "width": "80%"
      }
     },
     "67e9dc67a12e488db0ee3bf2e94d1cf2": {
      "model_module": "@jupyter-widgets/controls",
      "model_module_version": "1.5.0",
      "model_name": "HBoxModel",
      "state": {
       "children": [
        "IPY_MODEL_1c2058cfe4ee4267a5f4547949f2967c",
        "IPY_MODEL_d7f4c2a3019b4edc9242989241d3a709"
       ],
       "layout": "IPY_MODEL_cadd487feedd41cb8139c183155d7c73"
      }
     },
     "682c53d29f4a450991d8a331966ed230": {
      "model_module": "@jupyter-widgets/base",
      "model_module_version": "1.2.0",
      "model_name": "LayoutModel",
      "state": {}
     },
     "684a8330316f41f1ba2d24585303769b": {
      "model_module": "@jupyter-widgets/controls",
      "model_module_version": "1.5.0",
      "model_name": "HBoxModel",
      "state": {
       "children": [
        "IPY_MODEL_81428f8928314b91b9065cf035ab1140"
       ],
       "layout": "IPY_MODEL_c6f204d31ee646139aa71659320d83b4"
      }
     },
     "6871faee495d494391a776aa17db2b88": {
      "model_module": "@jupyter-widgets/base",
      "model_module_version": "1.2.0",
      "model_name": "LayoutModel",
      "state": {}
     },
     "688e0b56a804472c9bf178833b63a922": {
      "model_module": "@jupyter-widgets/base",
      "model_module_version": "1.2.0",
      "model_name": "LayoutModel",
      "state": {}
     },
     "68a17652ca6140ba8e94b11119d86a53": {
      "model_module": "@jupyter-widgets/base",
      "model_module_version": "1.2.0",
      "model_name": "LayoutModel",
      "state": {}
     },
     "68b2e63a86924191a6905b8e73c76815": {
      "model_module": "@jupyter-widgets/controls",
      "model_module_version": "1.5.0",
      "model_name": "ToggleButtonModel",
      "state": {
       "description": "help",
       "icon": "fa-question-circle",
       "layout": "IPY_MODEL_d959f90c07c14dc1ac8e2c67850f57ed",
       "style": "IPY_MODEL_3e3405a14fe9451daea4930a72e5a916",
       "tooltip": "gives guidance"
      }
     },
     "68ca26a0b943474c9ebf0c733eff6337": {
      "model_module": "@jupyter-widgets/controls",
      "model_module_version": "1.5.0",
      "model_name": "HBoxModel",
      "state": {
       "children": [
        "IPY_MODEL_c613b204b43349f8a28002ce709e9192",
        "IPY_MODEL_2c1613cb261940c3ae2be3fe75e3190b"
       ],
       "layout": "IPY_MODEL_89432700e5e548229c4380027db48d1b"
      }
     },
     "68db15e0c4504c2b93011a607e24a90b": {
      "model_module": "@jupyter-widgets/controls",
      "model_module_version": "1.5.0",
      "model_name": "DescriptionStyleModel",
      "state": {
       "description_width": ""
      }
     },
     "690598bc2b584db99d1f2c9e2d14a294": {
      "model_module": "@jupyter-widgets/base",
      "model_module_version": "1.2.0",
      "model_name": "LayoutModel",
      "state": {}
     },
     "693f220b935f43fbba7dbeb9413b89f8": {
      "model_module": "@jupyter-widgets/controls",
      "model_module_version": "1.5.0",
      "model_name": "DescriptionStyleModel",
      "state": {
       "description_width": ""
      }
     },
     "69548247efcf475891df4e7a48655692": {
      "model_module": "@jupyter-widgets/controls",
      "model_module_version": "1.5.0",
      "model_name": "ButtonStyleModel",
      "state": {
       "font_weight": "bold"
      }
     },
     "6961834638444452a718700aa1abc840": {
      "model_module": "@jupyter-widgets/base",
      "model_module_version": "1.2.0",
      "model_name": "LayoutModel",
      "state": {}
     },
     "6984e8a6623b4ce18c7714ed55bc527e": {
      "model_module": "@jupyter-widgets/base",
      "model_module_version": "1.2.0",
      "model_name": "LayoutModel",
      "state": {
       "align_items": "stretch",
       "display": "flex",
       "flex_flow": "row",
       "grid_auto_columns": "True",
       "justify_content": "flex-start",
       "width": "80%"
      }
     },
     "699e41bf01f84631a6cbd2f60720b0b7": {
      "model_module": "@jupyter-widgets/controls",
      "model_module_version": "1.5.0",
      "model_name": "FloatSliderModel",
      "state": {
       "layout": "IPY_MODEL_f70faf0e53fd442a8764afb950f62f9c",
       "max": 10,
       "style": "IPY_MODEL_aca1ea09ea56484ba513a0b57cc5501b",
       "value": 1
      }
     },
     "699fbf60a6e24829bcba45e6f319240f": {
      "model_module": "@jupyter-widgets/base",
      "model_module_version": "1.2.0",
      "model_name": "LayoutModel",
      "state": {}
     },
     "69c7ea4dda70493da775fc3045d0070c": {
      "model_module": "@jupyter-widgets/controls",
      "model_module_version": "1.5.0",
      "model_name": "DropdownModel",
      "state": {
       "_options_labels": [
        "appdata\\inputs",
        "appdata",
        ""
       ],
       "index": 0,
       "layout": "IPY_MODEL_d75a611cdad04668bfbba1af1e816ba0",
       "style": "IPY_MODEL_858b775877ef49818cc6d2ec560aa9b1"
      }
     },
     "69cfd810eced4535890c9650fed307f9": {
      "model_module": "@jupyter-widgets/output",
      "model_module_version": "1.0.0",
      "model_name": "OutputModel",
      "state": {
       "layout": "IPY_MODEL_e4e35c807b0a4231831e872cb1eac5ea"
      }
     },
     "6a0a20c8c1484affb5e7d72e3bb64d0d": {
      "model_module": "@jupyter-widgets/controls",
      "model_module_version": "1.5.0",
      "model_name": "DescriptionStyleModel",
      "state": {
       "description_width": ""
      }
     },
     "6a1ceb051ced4a53a2e7a63895480016": {
      "model_module": "@jupyter-widgets/controls",
      "model_module_version": "1.5.0",
      "model_name": "HTMLModel",
      "state": {
       "layout": "IPY_MODEL_8e063ca5f3344d4ebf74b2672adf4689",
       "style": "IPY_MODEL_0192d6ba1c614eefa5bb3b1e8bb95b41",
       "value": "<p>its a foo cake</p>"
      }
     },
     "6a2d9d422b2d4543bba1d8b16cbe9e06": {
      "model_module": "@jupyter-widgets/base",
      "model_module_version": "1.2.0",
      "model_name": "LayoutModel",
      "state": {}
     },
     "6a46b1f0d3a04842b6e003a3d257c08b": {
      "model_module": "@jupyter-widgets/controls",
      "model_module_version": "1.5.0",
      "model_name": "HBoxModel",
      "state": {
       "children": [
        "IPY_MODEL_04a3a005085a4f9bb8270a6c46e43e91",
        "IPY_MODEL_1e2bbeb6d5c44954a95269405a13bc34"
       ],
       "layout": "IPY_MODEL_0c6cd142946c47759637ca38743214e6"
      }
     },
     "6a4e1d0ff4394ccdb842781cb4f7b981": {
      "model_module": "@jupyter-widgets/controls",
      "model_module_version": "1.5.0",
      "model_name": "CheckboxModel",
      "state": {
       "disabled": false,
       "layout": "IPY_MODEL_74efaee902e44abbb7a48a7b871c81f0",
       "style": "IPY_MODEL_dfc0e23a22d546c696320e7e30f7001c",
       "value": false
      }
     },
     "6a6c59fabdc749c893a160a904a3388a": {
      "model_module": "@jupyter-widgets/controls",
      "model_module_version": "1.5.0",
      "model_name": "RadioButtonsModel",
      "state": {
       "_options_labels": [
        "TEMPLATE: C:\\engDev\\git_mf\\MF_Toolbox\\dev\\mf_scripts\\template_inputs\\inputs-gbxml.json",
        "PROJECT: C:\\engDev\\git_mf\\ipyrun\\ipyrun\\appdata\\inputs\\inputs-gbxml.json"
       ],
       "index": 0,
       "layout": "IPY_MODEL_f4bc29c0fb8c4a66b13d2e527f49b216",
       "style": "IPY_MODEL_4378dcaf2a9b4559814cf3ad3d7f9f20"
      }
     },
     "6a9d3a6eae664143b5d912831c7d7a9f": {
      "model_module": "@jupyter-widgets/controls",
      "model_module_version": "1.5.0",
      "model_name": "HBoxModel",
      "state": {
       "children": [
        "IPY_MODEL_32d66b4c2eeb4306a968034ab3649a1d"
       ],
       "layout": "IPY_MODEL_be4007a9853a4d5d9a9acaf94be3c700"
      }
     },
     "6aa5f83bcb194e61ac3672665d447a3d": {
      "model_module": "@jupyter-widgets/controls",
      "model_module_version": "1.5.0",
      "model_name": "HTMLModel",
      "state": {
       "layout": "IPY_MODEL_bb1313e27b244905906f31868d3ad7da",
       "style": "IPY_MODEL_1c9149f43d924acd961d752c0f3c27b1",
       "value": "<p>its a delicious foo cake</p>"
      }
     },
     "6ab9dc0f67a34341ac905420d69f1be9": {
      "model_module": "@jupyter-widgets/output",
      "model_module_version": "1.0.0",
      "model_name": "OutputModel",
      "state": {
       "layout": "IPY_MODEL_47bcad98c1174df4be9246c0eacb342a"
      }
     },
     "6abd6895e22d4251b226622a65fec8c2": {
      "model_module": "@jupyter-widgets/base",
      "model_module_version": "1.2.0",
      "model_name": "LayoutModel",
      "state": {
       "align_items": "stretch",
       "display": "flex",
       "flex_flow": "row",
       "grid_auto_columns": "True",
       "justify_content": "flex-end",
       "width": "90%"
      }
     },
     "6ac0635654d442f0803c30070fc87f35": {
      "model_module": "@jupyter-widgets/controls",
      "model_module_version": "1.5.0",
      "model_name": "VBoxModel",
      "state": {
       "children": [
        "IPY_MODEL_7116de0af7d146b585b6117a2b30722b",
        "IPY_MODEL_97623d12032b4401bb806790dc06a59c"
       ],
       "layout": "IPY_MODEL_df37acd34a3b4f458cd28275f7f59715"
      }
     },
     "6ac910a105514dc69ad7ba74a5fa0d7b": {
      "model_module": "@jupyter-widgets/base",
      "model_module_version": "1.2.0",
      "model_name": "LayoutModel",
      "state": {
       "align_items": "stretch",
       "display": "flex",
       "flex_flow": "row",
       "grid_auto_columns": "True",
       "justify_content": "flex-end",
       "width": "90%"
      }
     },
     "6adb6de0b5ec47f7b85a7c37fdb97ef5": {
      "model_module": "@jupyter-widgets/controls",
      "model_module_version": "1.5.0",
      "model_name": "DescriptionStyleModel",
      "state": {
       "description_width": ""
      }
     },
     "6aef3ed86be34ec39685a4ac6b2ab038": {
      "model_module": "@jupyter-widgets/base",
      "model_module_version": "1.2.0",
      "model_name": "LayoutModel",
      "state": {}
     },
     "6b16b0a26f7c45e7a66f9b076bff7afb": {
      "model_module": "@jupyter-widgets/controls",
      "model_module_version": "1.5.0",
      "model_name": "DescriptionStyleModel",
      "state": {
       "description_width": ""
      }
     },
     "6b1a86c8f76d4416804778071d896624": {
      "model_module": "@jupyter-widgets/base",
      "model_module_version": "1.2.0",
      "model_name": "LayoutModel",
      "state": {
       "align_items": "stretch",
       "border": "dashed 0.2px green",
       "display": "flex",
       "flex_flow": "row",
       "grid_auto_columns": "True",
       "justify_content": "flex-start",
       "width": "100%"
      }
     },
     "6b920fd59ac94b77bf0b086ab4f9ea0f": {
      "model_module": "@jupyter-widgets/output",
      "model_module_version": "1.0.0",
      "model_name": "OutputModel",
      "state": {
       "layout": "IPY_MODEL_753ee93c45f04738b2f03e4051ea74e4"
      }
     },
     "6b97e064706f4797a6390a8e9ca81b87": {
      "model_module": "@jupyter-widgets/base",
      "model_module_version": "1.2.0",
      "model_name": "LayoutModel",
      "state": {
       "align_items": "stretch",
       "display": "flex",
       "flex_flow": "row",
       "grid_auto_columns": "True",
       "justify_content": "flex-start",
       "width": "80%"
      }
     },
     "6bb28d8648cf484aae055d188ad44d36": {
      "model_module": "@jupyter-widgets/base",
      "model_module_version": "1.2.0",
      "model_name": "LayoutModel",
      "state": {
       "align_items": "stretch",
       "border": "dashed 0.2px green",
       "display": "flex",
       "flex_flow": "row",
       "grid_auto_columns": "True",
       "justify_content": "flex-start",
       "width": "100%"
      }
     },
     "6bbe9a2c1e2d4a1f8d8116cc5a02cd68": {
      "model_module": "@jupyter-widgets/controls",
      "model_module_version": "1.5.0",
      "model_name": "DescriptionStyleModel",
      "state": {
       "description_width": ""
      }
     },
     "6bd553d66cc44731bf4a8ba8e6910100": {
      "model_module": "@jupyter-widgets/controls",
      "model_module_version": "1.5.0",
      "model_name": "ButtonStyleModel",
      "state": {
       "font_weight": "bold"
      }
     },
     "6be08dc5e691488abfd9754c6381398b": {
      "model_module": "@jupyter-widgets/controls",
      "model_module_version": "1.5.0",
      "model_name": "HTMLModel",
      "state": {
       "layout": "IPY_MODEL_ac322a3615f14c9091cf2353b3786518",
       "style": "IPY_MODEL_0d52c3d8910b49c2afe3faab632ab8c6",
       "value": "<p>reus foo ous oo ous foo st</p>"
      }
     },
     "6c0aaa04b0ea4a4bb45779c05363b43a": {
      "model_module": "@jupyter-widgets/controls",
      "model_module_version": "1.5.0",
      "model_name": "DescriptionStyleModel",
      "state": {
       "description_width": ""
      }
     },
     "6c390f8ef4be43a4905f4d4385372a04": {
      "model_module": "@jupyter-widgets/controls",
      "model_module_version": "1.5.0",
      "model_name": "DescriptionStyleModel",
      "state": {
       "description_width": ""
      }
     },
     "6c43c4788cfa4d75a14934433b9dbd6d": {
      "model_module": "@jupyter-widgets/base",
      "model_module_version": "1.2.0",
      "model_name": "LayoutModel",
      "state": {}
     },
     "6c4b25922bb6433dbf3b1bd71fc69b3f": {
      "model_module": "@jupyter-widgets/controls",
      "model_module_version": "1.5.0",
      "model_name": "FloatTextModel",
      "state": {
       "layout": "IPY_MODEL_9ce4270cbb1444318934eaaf06098d32",
       "step": null,
       "style": "IPY_MODEL_4539858f22c4466e8be417b4bb69032a",
       "value": 9
      }
     },
     "6c4cf3099f1b4a8699b675abdc18048e": {
      "model_module": "@jupyter-widgets/base",
      "model_module_version": "1.2.0",
      "model_name": "LayoutModel",
      "state": {}
     },
     "6c4f327d15504562ac4cceebabde3a39": {
      "model_module": "@jupyter-widgets/controls",
      "model_module_version": "1.5.0",
      "model_name": "HTMLModel",
      "state": {
       "layout": "IPY_MODEL_2f3e884827d945dd9bb22ec4cb49ad8f",
       "style": "IPY_MODEL_226521f11e6743dc83c3e8ec7a7961bc",
       "value": "<p>General Description of the Model</p>"
      }
     },
     "6c838767a89d493c8b3a2f26eb2c7a54": {
      "model_module": "@jupyter-widgets/controls",
      "model_module_version": "1.5.0",
      "model_name": "HTMLModel",
      "state": {
       "layout": "IPY_MODEL_f8c4cfff1a654890b4adaaf2161eab53",
       "style": "IPY_MODEL_3e76391bece04917bb1ccfa80172503d",
       "value": "<p>foo</p>"
      }
     },
     "6c9ba26e206841a6851c0310d400ec2b": {
      "model_module": "@jupyter-widgets/controls",
      "model_module_version": "1.5.0",
      "model_name": "FloatSliderModel",
      "state": {
       "layout": "IPY_MODEL_379ddbd05c754c9d892aab2db5a8fc5c",
       "max": 10,
       "style": "IPY_MODEL_adad155249304effa2d6e042f763d3f7",
       "value": 1
      }
     },
     "6ca4af32c1fc48f78aa6b5cd4d0e12f7": {
      "model_module": "@jupyter-widgets/controls",
      "model_module_version": "1.5.0",
      "model_name": "TextModel",
      "state": {
       "layout": "IPY_MODEL_e69121a49029473a882fbe56fba5a751",
       "style": "IPY_MODEL_d60dc45b6d2e4a67b6e33ab078722d5f",
       "value": "shit"
      }
     },
     "6ca8ae525e9e4cbda268fcc1405f08fc": {
      "model_module": "@jupyter-widgets/controls",
      "model_module_version": "1.5.0",
      "model_name": "VBoxModel",
      "state": {
       "children": [
        "IPY_MODEL_ab6f19cc60c24a4d9095a5e7e5e79224",
        "IPY_MODEL_5c6384e40ce64e5e9a038d1f2602c34b",
        "IPY_MODEL_137eb4a37fef467d84f706aa4f444af3"
       ],
       "layout": "IPY_MODEL_8d0a4c76a8664feaa1fcaf7b55fc1a9c"
      }
     },
     "6cb2caa335104c78bc4d62fc95900526": {
      "model_module": "@jupyter-widgets/controls",
      "model_module_version": "1.5.0",
      "model_name": "HBoxModel",
      "state": {
       "children": [
        "IPY_MODEL_0edf6f82fd6e41ce8d27899b31162fb6",
        "IPY_MODEL_2fac31e26e784195858ef98c5057cf6e"
       ],
       "layout": "IPY_MODEL_8fa3dedc2f6f4821b7947f1fb4f0d3fb"
      }
     },
     "6cdec8bdd04649888a096f26d3a55349": {
      "model_module": "@jupyter-widgets/controls",
      "model_module_version": "1.5.0",
      "model_name": "BoxModel",
      "state": {
       "children": [
        "IPY_MODEL_317dc110f9ef47499235436b791c0acf"
       ],
       "layout": "IPY_MODEL_ed7d2bdfdb824dc0948ef424cdff764a"
      }
     },
     "6cefe8bb31874565a6b551e510b3e225": {
      "model_module": "@jupyter-widgets/base",
      "model_module_version": "1.2.0",
      "model_name": "LayoutModel",
      "state": {
       "width": "auto"
      }
     },
     "6cfc42bf7859459caecd28116beebd7e": {
      "model_module": "@jupyter-widgets/controls",
      "model_module_version": "1.5.0",
      "model_name": "HTMLModel",
      "state": {
       "layout": "IPY_MODEL_a6b3e418346c479ebb138f3755391cc2",
       "style": "IPY_MODEL_e28237d5fe6244d880a61fe0d36440b4",
       "value": "<p>name</p>"
      }
     },
     "6d0d1810b8af4d4281dc9a83a3e089ec": {
      "model_module": "@jupyter-widgets/base",
      "model_module_version": "1.2.0",
      "model_name": "LayoutModel",
      "state": {}
     },
     "6d186ab624cd4794acd42aaac12619cc": {
      "model_module": "@jupyter-widgets/controls",
      "model_module_version": "1.5.0",
      "model_name": "ButtonStyleModel",
      "state": {
       "font_weight": "bold"
      }
     },
     "6d1e3a0344a94642b7ba89e92a3f2252": {
      "model_module": "@jupyter-widgets/controls",
      "model_module_version": "1.5.0",
      "model_name": "FloatTextModel",
      "state": {
       "layout": "IPY_MODEL_d2ba0da97723477c9b9faf7857076a74",
       "step": null,
       "style": "IPY_MODEL_36d283c7124549f0a229b538d39241cb",
       "value": 9
      }
     },
     "6d2a0131b66b4bf8a55612e60a8206f2": {
      "model_module": "@jupyter-widgets/controls",
      "model_module_version": "1.5.0",
      "model_name": "CheckboxModel",
      "state": {
       "disabled": false,
       "layout": "IPY_MODEL_fd48707be73e4de69a31b1dc5a7d14d0",
       "style": "IPY_MODEL_9a73827950454bf1bb36cd183fab3a35",
       "value": true
      }
     },
     "6d2d79afe029430b8481c2fc260a5ec8": {
      "model_module": "@jupyter-widgets/controls",
      "model_module_version": "1.5.0",
      "model_name": "ButtonModel",
      "state": {
       "button_style": "success",
       "description": "save changes",
       "layout": "IPY_MODEL_56fffe0347bc476687c0bf9c19089ea4",
       "style": "IPY_MODEL_7fb781fda03e4313b5ca90e8e8d75bc8"
      }
     },
     "6d3ca27d4b6c4fc4b7c962bfbd0fe9db": {
      "model_module": "@jupyter-widgets/output",
      "model_module_version": "1.0.0",
      "model_name": "OutputModel",
      "state": {
       "layout": "IPY_MODEL_648c317403a94259aee7a9d2b8aef1a9"
      }
     },
     "6d5699ca218842fab92b1aa641b624b3": {
      "model_module": "@jupyter-widgets/controls",
      "model_module_version": "1.5.0",
      "model_name": "HTMLModel",
      "state": {
       "layout": "IPY_MODEL_6e182b88fc5346c581006c488c5b9b1a",
       "style": "IPY_MODEL_465c9210f1f14bb799e5a90e70e5ac60",
       "value": "<p>1st section of space name code</p>"
      }
     },
     "6d9d0037b4c247878f123cd890554309": {
      "model_module": "@jupyter-widgets/base",
      "model_module_version": "1.2.0",
      "model_name": "LayoutModel",
      "state": {}
     },
     "6da58265ea084e78b41c4f1b865b7bc2": {
      "model_module": "@jupyter-widgets/base",
      "model_module_version": "1.2.0",
      "model_name": "LayoutModel",
      "state": {
       "align_items": "stretch",
       "display": "flex",
       "flex_flow": "row",
       "grid_auto_columns": "True",
       "justify_content": "flex-end",
       "width": "90%"
      }
     },
     "6e182b88fc5346c581006c488c5b9b1a": {
      "model_module": "@jupyter-widgets/base",
      "model_module_version": "1.2.0",
      "model_name": "LayoutModel",
      "state": {}
     },
     "6e1ef2d0187647a296b30de18c283ab1": {
      "model_module": "@jupyter-widgets/controls",
      "model_module_version": "1.5.0",
      "model_name": "HBoxModel",
      "state": {
       "children": [
        "IPY_MODEL_adcdc3ea0b0c4feb9faf2c145b126c68",
        "IPY_MODEL_45601d3ebaea4238b755eea0c4ae69a6"
       ],
       "layout": "IPY_MODEL_5b9fb72e3ebf488f9e67f206285256e7"
      }
     },
     "6e4cec37d1cb4b8aadb597cf42af4eb1": {
      "model_module": "@jupyter-widgets/base",
      "model_module_version": "1.2.0",
      "model_name": "LayoutModel",
      "state": {
       "align_items": "stretch",
       "display": "flex",
       "flex_flow": "row",
       "grid_auto_columns": "True",
       "justify_content": "flex-start",
       "width": "80%"
      }
     },
     "6e4d1fd37d2147acbbbf1a1976bc8838": {
      "model_module": "@jupyter-widgets/controls",
      "model_module_version": "1.5.0",
      "model_name": "ButtonStyleModel",
      "state": {
       "font_weight": "bold"
      }
     },
     "6e4daac57310434c89fb52693ce4e185": {
      "model_module": "@jupyter-widgets/controls",
      "model_module_version": "1.5.0",
      "model_name": "HBoxModel",
      "state": {
       "children": [
        "IPY_MODEL_700fc579802f4127a832c69952039742",
        "IPY_MODEL_ed85a6e70cb84b4db49719e63e1f85b6"
       ],
       "layout": "IPY_MODEL_880770b3f8ab4d799d7061bc57838bc2"
      }
     },
     "6e63ace836a142a38dbe6461cad56749": {
      "model_module": "@jupyter-widgets/base",
      "model_module_version": "1.2.0",
      "model_name": "LayoutModel",
      "state": {}
     },
     "6f1519d3e3c04ea6966e3c9b8affb0b3": {
      "model_module": "@jupyter-widgets/controls",
      "model_module_version": "1.5.0",
      "model_name": "ButtonStyleModel",
      "state": {}
     },
     "6f3dd95145374acf8b6dad7f88af5c57": {
      "model_module": "@jupyter-widgets/output",
      "model_module_version": "1.0.0",
      "model_name": "OutputModel",
      "state": {
       "layout": "IPY_MODEL_baa008530f9443c29740edd9d4aae79d",
       "outputs": [
        {
         "data": {
          "application/vnd.jupyter.widget-view+json": {
           "model_id": "",
           "version_major": 2,
           "version_minor": 0
          },
          "text/plain": "Output()"
         },
         "metadata": {},
         "output_type": "display_data"
        }
       ]
      }
     },
     "6f491fbf9bdf495983b1321f0cd64c89": {
      "model_module": "@jupyter-widgets/output",
      "model_module_version": "1.0.0",
      "model_name": "OutputModel",
      "state": {
       "layout": "IPY_MODEL_abb4188bc8224677b6bfe2ab87a476b9"
      }
     },
     "6f4eb5c9e6554ea0a5a5b88a514b985f": {
      "model_module": "@jupyter-widgets/base",
      "model_module_version": "1.2.0",
      "model_name": "LayoutModel",
      "state": {}
     },
     "6f6835c0ef654bca91badd974ba415e4": {
      "model_module": "@jupyter-widgets/base",
      "model_module_version": "1.2.0",
      "model_name": "LayoutModel",
      "state": {}
     },
     "6f70cd4ed43b45bcb110a90b0860c169": {
      "model_module": "@jupyter-widgets/base",
      "model_module_version": "1.2.0",
      "model_name": "LayoutModel",
      "state": {}
     },
     "6fb8a31a37ea488f9d20ba2904b91c7e": {
      "model_module": "@jupyter-widgets/output",
      "model_module_version": "1.0.0",
      "model_name": "OutputModel",
      "state": {
       "layout": "IPY_MODEL_50b96f0b97c94d4b847940051eb90b1b"
      }
     },
     "6fc9005c51f144c0a2cd9b80515828ba": {
      "model_module": "@jupyter-widgets/controls",
      "model_module_version": "1.5.0",
      "model_name": "DescriptionStyleModel",
      "state": {
       "description_width": ""
      }
     },
     "700fc579802f4127a832c69952039742": {
      "model_module": "@jupyter-widgets/controls",
      "model_module_version": "1.5.0",
      "model_name": "TextModel",
      "state": {
       "layout": "IPY_MODEL_01824268e98242aeab4149a2ae22322e",
       "style": "IPY_MODEL_c060d027cf454f30a8676b90c767ade8",
       "value": "C:\\engDev\\git_mf\\MF_Toolbox\\dev\\examples\\gbxml\\105_LiveseyExchange_heatpump-normal-fabric.xml"
      }
     },
     "703bf37de3914a4b951180c1bf2ea16a": {
      "model_module": "@jupyter-widgets/base",
      "model_module_version": "1.2.0",
      "model_name": "LayoutModel",
      "state": {}
     },
     "7059bb475e4f4ebba410db957a1dc075": {
      "model_module": "@jupyter-widgets/base",
      "model_module_version": "1.2.0",
      "model_name": "LayoutModel",
      "state": {}
     },
     "707cd283ca14460980a2d419860ff2a5": {
      "model_module": "@jupyter-widgets/controls",
      "model_module_version": "1.5.0",
      "model_name": "VBoxModel",
      "state": {
       "children": [
        "IPY_MODEL_1a2f0d50d28041ec982bc6323f39c3fc",
        "IPY_MODEL_f9cdc685b21d489a9272b4ece132d78b",
        "IPY_MODEL_7aa43d0219824fb9bf56226e835a95ca"
       ],
       "layout": "IPY_MODEL_252555c2e30b4c47abe8f0ee69eccd9f"
      }
     },
     "70845349bf1f4138a48b4c45081fa8b6": {
      "model_module": "@jupyter-widgets/base",
      "model_module_version": "1.2.0",
      "model_name": "LayoutModel",
      "state": {}
     },
     "70845627f17640dea22970928235dc91": {
      "model_module": "@jupyter-widgets/base",
      "model_module_version": "1.2.0",
      "model_name": "LayoutModel",
      "state": {}
     },
     "709cedb98919401aad7b98059d2cc1c8": {
      "model_module": "@jupyter-widgets/controls",
      "model_module_version": "1.5.0",
      "model_name": "HBoxModel",
      "state": {
       "children": [
        "IPY_MODEL_df596e82557f44918a672e2193a7cf2e"
       ],
       "layout": "IPY_MODEL_4477a2582361431bbb87aa5563de4608"
      }
     },
     "70a069263fdc46f8aa4e201fd58081c4": {
      "model_module": "@jupyter-widgets/controls",
      "model_module_version": "1.5.0",
      "model_name": "HTMLModel",
      "state": {
       "layout": "IPY_MODEL_05c0ac904ab446498a82173a27895fe8",
       "style": "IPY_MODEL_ee5d2603b42f4ab59f22cc9226efa509",
       "value": "<p>Report Model Run?</p>"
      }
     },
     "70c53b24c1d04da1b55d07a963941a1d": {
      "model_module": "@jupyter-widgets/controls",
      "model_module_version": "1.5.0",
      "model_name": "DescriptionStyleModel",
      "state": {
       "description_width": ""
      }
     },
     "70e057e8ac1f47e483996903ce84e6ea": {
      "model_module": "@jupyter-widgets/base",
      "model_module_version": "1.2.0",
      "model_name": "LayoutModel",
      "state": {}
     },
     "70e9eebff6944bc2bb38df1b94f004be": {
      "model_module": "@jupyter-widgets/controls",
      "model_module_version": "1.5.0",
      "model_name": "HBoxModel",
      "state": {
       "children": [
        "IPY_MODEL_b36dfe75e03441278231107e5add436c",
        "IPY_MODEL_dd2433ce60d34661b2acf5c762d3527b",
        "IPY_MODEL_6d2d79afe029430b8481c2fc260a5ec8"
       ],
       "layout": "IPY_MODEL_50813d5b1022485daf5e0c4f62b2af0d"
      }
     },
     "70ea5bc4f25a40928c5b1f586bea196c": {
      "model_module": "@jupyter-widgets/base",
      "model_module_version": "1.2.0",
      "model_name": "LayoutModel",
      "state": {}
     },
     "710d1e529aab41398427c6479f7ac781": {
      "model_module": "@jupyter-widgets/controls",
      "model_module_version": "1.5.0",
      "model_name": "ButtonStyleModel",
      "state": {
       "font_weight": "bold"
      }
     },
     "7116de0af7d146b585b6117a2b30722b": {
      "model_module": "@jupyter-widgets/controls",
      "model_module_version": "1.5.0",
      "model_name": "ButtonModel",
      "state": {
       "description": "load",
       "icon": "upload",
       "layout": "IPY_MODEL_8fe16232476e4c738c0eb4ff09ad6693",
       "style": "IPY_MODEL_717f1d709d034177b0018fb65e70d9c0"
      }
     },
     "712fa9162a414cc7b928066f7b58a9ee": {
      "model_module": "@jupyter-widgets/base",
      "model_module_version": "1.2.0",
      "model_name": "LayoutModel",
      "state": {}
     },
     "7148c0a1c571426f98743669f7607709": {
      "model_module": "@jupyter-widgets/controls",
      "model_module_version": "1.5.0",
      "model_name": "VBoxModel",
      "state": {
       "children": [
        "IPY_MODEL_1a2f0d50d28041ec982bc6323f39c3fc",
        "IPY_MODEL_f9cdc685b21d489a9272b4ece132d78b",
        "IPY_MODEL_7aa43d0219824fb9bf56226e835a95ca"
       ],
       "layout": "IPY_MODEL_92afe899ad384f428c1548da2f42ec1e"
      }
     },
     "71533d9cf8e54c7186fa017e00716d08": {
      "model_module": "@jupyter-widgets/controls",
      "model_module_version": "1.5.0",
      "model_name": "DescriptionStyleModel",
      "state": {
       "description_width": ""
      }
     },
     "71628874fa854802bc8cf325787fecef": {
      "model_module": "@jupyter-widgets/controls",
      "model_module_version": "1.5.0",
      "model_name": "ButtonModel",
      "state": {
       "button_style": "success",
       "description": "save",
       "layout": "IPY_MODEL_e77483ef030d4192af6f249e57679f6c",
       "style": "IPY_MODEL_09a237b702ad47e388ec7b8c2373b27b"
      }
     },
     "716f250c27374364b964d181b95cebcd": {
      "model_module": "@jupyter-widgets/base",
      "model_module_version": "1.2.0",
      "model_name": "LayoutModel",
      "state": {
       "align_items": "stretch",
       "display": "flex",
       "flex_flow": "row",
       "grid_auto_columns": "True",
       "justify_content": "flex-start",
       "width": "80%"
      }
     },
     "717d7ef3fc944f009f377c6a0533b3de": {
      "model_module": "@jupyter-widgets/base",
      "model_module_version": "1.2.0",
      "model_name": "LayoutModel",
      "state": {}
     },
     "717f1d709d034177b0018fb65e70d9c0": {
      "model_module": "@jupyter-widgets/controls",
      "model_module_version": "1.5.0",
      "model_name": "ButtonStyleModel",
      "state": {
       "font_weight": "bold"
      }
     },
     "719c7b1240564b8397bc59c422b9e6d3": {
      "model_module": "@jupyter-widgets/controls",
      "model_module_version": "1.5.0",
      "model_name": "DescriptionStyleModel",
      "state": {
       "description_width": ""
      }
     },
     "71b1f175911e43aa983c9d7f2f597394": {
      "model_module": "@jupyter-widgets/controls",
      "model_module_version": "1.5.0",
      "model_name": "ButtonModel",
      "state": {
       "button_style": "success",
       "description": "save changes",
       "layout": "IPY_MODEL_8b77b11bc9eb4ecb832c9789e6160d22",
       "style": "IPY_MODEL_88b86d827a2341e5aa18181579bc49e0"
      }
     },
     "71bd8a3f87304644ac451c4c4e9f7ee1": {
      "model_module": "@jupyter-widgets/controls",
      "model_module_version": "1.5.0",
      "model_name": "DescriptionStyleModel",
      "state": {
       "description_width": ""
      }
     },
     "71d9d1ae5880472dbd93afc041311abb": {
      "model_module": "@jupyter-widgets/controls",
      "model_module_version": "1.5.0",
      "model_name": "HTMLModel",
      "state": {
       "layout": "IPY_MODEL_c2bf82ad81fe49c385c659221d0a030d",
       "style": "IPY_MODEL_b3ac7a48e2c34903b125899b4fcb8d6e",
       "value": "<p>name</p>"
      }
     },
     "71dd54ee850249fa9a8c8a863b6d2064": {
      "model_module": "@jupyter-widgets/controls",
      "model_module_version": "1.5.0",
      "model_name": "VBoxModel",
      "state": {
       "children": [
        "IPY_MODEL_2115714ee8fa4960934da58c731b780a",
        "IPY_MODEL_8999bbfc41b0473eb07bf9c2eb4b58ce",
        "IPY_MODEL_336180e5b98c4ef983d6fd052c404a40",
        "IPY_MODEL_5bc1ac0622cf442fb65b16c0c7cc3ce1",
        "IPY_MODEL_e3e30392086a4098a52ba7fefe592335",
        "IPY_MODEL_ae00631fd5e7400e874bfa6137a48aa7"
       ],
       "layout": "IPY_MODEL_c22e253b2d694d6ebb4f3c7f13284aae"
      }
     },
     "720e0d01492d496b91adb7469f16899a": {
      "model_module": "@jupyter-widgets/base",
      "model_module_version": "1.2.0",
      "model_name": "LayoutModel",
      "state": {}
     },
     "721b13dbd1ff42e5a84fc7bfa17204df": {
      "model_module": "@jupyter-widgets/controls",
      "model_module_version": "1.5.0",
      "model_name": "HTMLModel",
      "state": {
       "layout": "IPY_MODEL_3ffdf17db97248f4a45c4af4144a22a6",
       "style": "IPY_MODEL_ee2981af33404e048dbddda4e165edde",
       "value": "<p>input gbxml filepath</p>"
      }
     },
     "72517547d062477a8e1c4d06d2a4f51a": {
      "model_module": "@jupyter-widgets/base",
      "model_module_version": "1.2.0",
      "model_name": "LayoutModel",
      "state": {}
     },
     "7284003beb1d47b38fa28c87988a80ec": {
      "model_module": "@jupyter-widgets/base",
      "model_module_version": "1.2.0",
      "model_name": "LayoutModel",
      "state": {
       "width": "auto"
      }
     },
     "72fb5d617b2e40109ba95c6ed9e2bac2": {
      "model_module": "@jupyter-widgets/base",
      "model_module_version": "1.2.0",
      "model_name": "LayoutModel",
      "state": {}
     },
     "73218d03f63243ca921bd184083b15ff": {
      "model_module": "@jupyter-widgets/base",
      "model_module_version": "1.2.0",
      "model_name": "LayoutModel",
      "state": {}
     },
     "732d8abe02bd4f9caf3ece231128b1e4": {
      "model_module": "@jupyter-widgets/output",
      "model_module_version": "1.0.0",
      "model_name": "OutputModel",
      "state": {
       "layout": "IPY_MODEL_c6a86f7d11474373b87f62c343710354"
      }
     },
     "739ea1bc898b40749f458a2bc828418a": {
      "model_module": "@jupyter-widgets/controls",
      "model_module_version": "1.5.0",
      "model_name": "HTMLModel",
      "state": {
       "layout": "IPY_MODEL_b74e0a227d614aae90db97d744c24643",
       "style": "IPY_MODEL_5f0be51f598541d68e72c5926fcc8707",
       "value": "<p>fus foo ous o</p>"
      }
     },
     "739f4a35d0df4ddda37137d4ecb20793": {
      "model_module": "@jupyter-widgets/base",
      "model_module_version": "1.2.0",
      "model_name": "LayoutModel",
      "state": {
       "align_items": "stretch",
       "display": "flex",
       "flex_flow": "row",
       "grid_auto_columns": "True",
       "justify_content": "flex-start",
       "width": "80%"
      }
     },
     "73a6634ebd174b47a845c60865df2a4f": {
      "model_module": "@jupyter-widgets/base",
      "model_module_version": "1.2.0",
      "model_name": "LayoutModel",
      "state": {
       "align_items": "stretch",
       "border": "dashed 0.2px green",
       "display": "flex",
       "flex_flow": "row",
       "grid_auto_columns": "True",
       "justify_content": "flex-start",
       "width": "100%"
      }
     },
     "73ad5804a8a64ff794ebf57859befde4": {
      "model_module": "@jupyter-widgets/controls",
      "model_module_version": "1.5.0",
      "model_name": "FloatTextModel",
      "state": {
       "layout": "IPY_MODEL_b6b1844fd2d94745b0e15c40098a17bc",
       "step": null,
       "style": "IPY_MODEL_70c53b24c1d04da1b55d07a963941a1d",
       "value": 16
      }
     },
     "73ccdab7b0154f1797716cd3eaa9d62d": {
      "model_module": "@jupyter-widgets/controls",
      "model_module_version": "1.5.0",
      "model_name": "HBoxModel",
      "state": {
       "children": [
        "IPY_MODEL_e8cf7451534f48759a506bc296410eb1",
        "IPY_MODEL_a0ade6965d9342348f9ab938902059eb"
       ],
       "layout": "IPY_MODEL_136cfa2f984244bba933fc30ed571b6b"
      }
     },
     "73d8a47fbde1445992c6be84da4f9cdd": {
      "model_module": "@jupyter-widgets/controls",
      "model_module_version": "1.5.0",
      "model_name": "ButtonModel",
      "state": {
       "description": "save",
       "layout": "IPY_MODEL_a494af60cd634535a812547ea39d9f0e",
       "style": "IPY_MODEL_f8a7d62a7b174abe8d187771c3ad83a0"
      }
     },
     "7412f5ccb1384196bf41b9924f03efb2": {
      "model_module": "@jupyter-widgets/base",
      "model_module_version": "1.2.0",
      "model_name": "LayoutModel",
      "state": {
       "align_items": "stretch",
       "display": "flex",
       "flex_flow": "row",
       "grid_auto_columns": "True",
       "justify_content": "flex-end",
       "width": "90%"
      }
     },
     "7417db29eb534dc9af71594617f69bf9": {
      "model_module": "@jupyter-widgets/base",
      "model_module_version": "1.2.0",
      "model_name": "LayoutModel",
      "state": {
       "align_items": "stretch",
       "display": "flex",
       "flex_flow": "row",
       "grid_auto_columns": "True",
       "justify_content": "flex-end",
       "width": "90%"
      }
     },
     "743756097d504cfdbb8f45e0ee588b1a": {
      "model_module": "@jupyter-widgets/base",
      "model_module_version": "1.2.0",
      "model_name": "LayoutModel",
      "state": {
       "align_items": "stretch",
       "display": "flex",
       "flex_flow": "row",
       "grid_auto_columns": "True",
       "justify_content": "flex-start",
       "width": "80%"
      }
     },
     "7441add00f4e44bf93a1ed12cc01951f": {
      "model_module": "@jupyter-widgets/controls",
      "model_module_version": "1.5.0",
      "model_name": "HBoxModel",
      "state": {
       "children": [
        "IPY_MODEL_6d1e3a0344a94642b7ba89e92a3f2252",
        "IPY_MODEL_aa465f8e1af643ff8957b9410524a18a"
       ],
       "layout": "IPY_MODEL_f879767d682648e7ab419cf97eac8f94"
      }
     },
     "74507825c70f472aad8f69e6dbb4f0db": {
      "model_module": "@jupyter-widgets/controls",
      "model_module_version": "1.5.0",
      "model_name": "DescriptionStyleModel",
      "state": {
       "description_width": ""
      }
     },
     "7450cd7643df462a813a32ee232943db": {
      "model_module": "@jupyter-widgets/controls",
      "model_module_version": "1.5.0",
      "model_name": "HBoxModel",
      "state": {
       "children": [
        "IPY_MODEL_5230ae69345d4a3b93c7360d20523bb3",
        "IPY_MODEL_94518f9894a24f3699770de1c39a7945"
       ],
       "layout": "IPY_MODEL_8aeda2c1c5af444781260eab22ae07de"
      }
     },
     "74b5a4b5366d4111aaa3c520525fbe5e": {
      "model_module": "@jupyter-widgets/base",
      "model_module_version": "1.2.0",
      "model_name": "LayoutModel",
      "state": {}
     },
     "74b9ab30f2694c7a9c9be6c690699240": {
      "model_module": "@jupyter-widgets/base",
      "model_module_version": "1.2.0",
      "model_name": "LayoutModel",
      "state": {}
     },
     "74cb35f21d864d0c92fcde2b25064f02": {
      "model_module": "@jupyter-widgets/output",
      "model_module_version": "1.0.0",
      "model_name": "OutputModel",
      "state": {
       "layout": "IPY_MODEL_c317491cab084b4095b8c57402c03612"
      }
     },
     "74ce4cab44b446ffbafd6288eeb92499": {
      "model_module": "@jupyter-widgets/controls",
      "model_module_version": "1.5.0",
      "model_name": "DescriptionStyleModel",
      "state": {
       "description_width": ""
      }
     },
     "74dda5fbe2e045b688671171be46e078": {
      "model_module": "@jupyter-widgets/output",
      "model_module_version": "1.0.0",
      "model_name": "OutputModel",
      "state": {
       "layout": "IPY_MODEL_ce55cad828b54340b861c695bb71ed6c"
      }
     },
     "74efaee902e44abbb7a48a7b871c81f0": {
      "model_module": "@jupyter-widgets/base",
      "model_module_version": "1.2.0",
      "model_name": "LayoutModel",
      "state": {}
     },
     "74f5256d0b544d28b3e8783f0c2f0960": {
      "model_module": "@jupyter-widgets/controls",
      "model_module_version": "1.5.0",
      "model_name": "DescriptionStyleModel",
      "state": {
       "description_width": ""
      }
     },
     "7505f992607547fc9c51414abb655ec2": {
      "model_module": "@jupyter-widgets/base",
      "model_module_version": "1.2.0",
      "model_name": "LayoutModel",
      "state": {}
     },
     "7508e480af224bdf9ae533de3864e25c": {
      "model_module": "@jupyter-widgets/base",
      "model_module_version": "1.2.0",
      "model_name": "LayoutModel",
      "state": {
       "align_items": "stretch",
       "display": "flex",
       "flex_flow": "row",
       "grid_auto_columns": "True",
       "justify_content": "flex-start",
       "width": "80%"
      }
     },
     "753ee93c45f04738b2f03e4051ea74e4": {
      "model_module": "@jupyter-widgets/base",
      "model_module_version": "1.2.0",
      "model_name": "LayoutModel",
      "state": {}
     },
     "75401e227ea34e66a915cad17bab18b3": {
      "model_module": "@jupyter-widgets/controls",
      "model_module_version": "1.5.0",
      "model_name": "HTMLModel",
      "state": {
       "layout": "IPY_MODEL_e032bc9e563c4b1d823d3239494db94b",
       "style": "IPY_MODEL_0734cb35a8e044b6b332b0a12be2af17",
       "value": "<p>Tag for the Model, used within file naming</p>"
      }
     },
     "75470041225a4a8a950b732b3e6a1b26": {
      "model_module": "@jupyter-widgets/base",
      "model_module_version": "1.2.0",
      "model_name": "LayoutModel",
      "state": {
       "width": "5%"
      }
     },
     "75727f11e2114f23a044547ebcaade7e": {
      "model_module": "@jupyter-widgets/controls",
      "model_module_version": "1.5.0",
      "model_name": "DescriptionStyleModel",
      "state": {
       "description_width": ""
      }
     },
     "757765271b0548dab6ac3774fe45084b": {
      "model_module": "@jupyter-widgets/controls",
      "model_module_version": "1.5.0",
      "model_name": "HBoxModel",
      "state": {
       "children": [
        "IPY_MODEL_daa09ee51d6b47019f8bfc9384599fb8",
        "IPY_MODEL_53c58c12ff844b1eb8af201b2977436c"
       ],
       "layout": "IPY_MODEL_4fd2fdf3b22f4f4c8facba7cf347117c"
      }
     },
     "7597cd7dc56d4e9eadf4a9437312caab": {
      "model_module": "@jupyter-widgets/controls",
      "model_module_version": "1.5.0",
      "model_name": "HBoxModel",
      "state": {
       "children": [
        "IPY_MODEL_3affa3a34b754393a6b2108706c2832d"
       ],
       "layout": "IPY_MODEL_5f796e8236ba48d694918aa5a0e0fb42"
      }
     },
     "75b06bb65a304b278d6ea10abab16fbb": {
      "model_module": "@jupyter-widgets/controls",
      "model_module_version": "1.5.0",
      "model_name": "DescriptionStyleModel",
      "state": {
       "description_width": ""
      }
     },
     "75bcd9612b084001a563e44a612db042": {
      "model_module": "@jupyter-widgets/controls",
      "model_module_version": "1.5.0",
      "model_name": "DescriptionStyleModel",
      "state": {
       "description_width": ""
      }
     },
     "75d052c3478b4673a5009c621e0b60da": {
      "model_module": "@jupyter-widgets/controls",
      "model_module_version": "1.5.0",
      "model_name": "HBoxModel",
      "state": {
       "children": [
        "IPY_MODEL_661c46f6304647068eef6c2048520509",
        "IPY_MODEL_d9e9b9b57d914b25beb80cec951d4958"
       ],
       "layout": "IPY_MODEL_621b0c660a524c5f9ec3c3aec6dcef04"
      }
     },
     "7603378b4ee745359eeed7e7e679ac83": {
      "model_module": "@jupyter-widgets/base",
      "model_module_version": "1.2.0",
      "model_name": "LayoutModel",
      "state": {}
     },
     "760aae974e5f4008a9dc5c02fa14d8ef": {
      "model_module": "@jupyter-widgets/controls",
      "model_module_version": "1.5.0",
      "model_name": "DescriptionStyleModel",
      "state": {
       "description_width": ""
      }
     },
     "761e6054b43e44279ebe70a535664110": {
      "model_module": "@jupyter-widgets/controls",
      "model_module_version": "1.5.0",
      "model_name": "DescriptionStyleModel",
      "state": {
       "description_width": ""
      }
     },
     "763af17f3a2c496cb373affe4a74f1f3": {
      "model_module": "@jupyter-widgets/controls",
      "model_module_version": "1.5.0",
      "model_name": "HBoxModel",
      "state": {
       "children": [
        "IPY_MODEL_913178ff5f5847508c4adf75e3ff5a54",
        "IPY_MODEL_a1f3780eba7043c09cda0c2f4ce4992e"
       ],
       "layout": "IPY_MODEL_bacd85dafd9e45e3b7dc46533708b7c1"
      }
     },
     "7650badb9853454091d2db388d6121f8": {
      "model_module": "@jupyter-widgets/base",
      "model_module_version": "1.2.0",
      "model_name": "LayoutModel",
      "state": {
       "align_items": "stretch",
       "border": "dashed 0.2px green",
       "display": "flex",
       "flex_flow": "row",
       "grid_auto_columns": "True",
       "justify_content": "flex-start",
       "width": "100%"
      }
     },
     "76f371fd62db4d4e80c5983d4cad550e": {
      "model_module": "@jupyter-widgets/controls",
      "model_module_version": "1.5.0",
      "model_name": "HBoxModel",
      "state": {
       "children": [
        "IPY_MODEL_1ab2bc15e0fe467d8948a0c2b10e74cc"
       ],
       "layout": "IPY_MODEL_60adc947f26847b48a7148a2dd973f24"
      }
     },
     "771dac194fd148a586409972dcddc29f": {
      "model_module": "@jupyter-widgets/base",
      "model_module_version": "1.2.0",
      "model_name": "LayoutModel",
      "state": {}
     },
     "7755b3408fb140f9b9e0475f23163f3b": {
      "model_module": "@jupyter-widgets/base",
      "model_module_version": "1.2.0",
      "model_name": "LayoutModel",
      "state": {}
     },
     "77730b3105ac41d6875aeea879047757": {
      "model_module": "@jupyter-widgets/controls",
      "model_module_version": "1.5.0",
      "model_name": "VBoxModel",
      "state": {
       "children": [
        "IPY_MODEL_70e9eebff6944bc2bb38df1b94f004be",
        "IPY_MODEL_7b2066c54bce426cac5335fd811fcb7b",
        "IPY_MODEL_beb01abba1084007ab35f9e0a786a1aa"
       ],
       "layout": "IPY_MODEL_d37af97da8364a44b33ad35a7fdfd470"
      }
     },
     "7782ac7e82044c8ba0c75f72a4f8bf29": {
      "model_module": "@jupyter-widgets/controls",
      "model_module_version": "1.5.0",
      "model_name": "ToggleButtonModel",
      "state": {
       "button_style": "info",
       "description": "inputs from file",
       "layout": "IPY_MODEL_eebffcef729d47e98f0418649549b387",
       "style": "IPY_MODEL_3fa5a9e58f0d4ad8929cc724323fd656"
      }
     },
     "778cc22e47034c608766df6ab3a5d4d0": {
      "model_module": "@jupyter-widgets/base",
      "model_module_version": "1.2.0",
      "model_name": "LayoutModel",
      "state": {}
     },
     "7798431ef5094c629a67083b2f3ac9b5": {
      "model_module": "@jupyter-widgets/base",
      "model_module_version": "1.2.0",
      "model_name": "LayoutModel",
      "state": {}
     },
     "77b1167d28224737912a1fef9439c349": {
      "model_module": "@jupyter-widgets/base",
      "model_module_version": "1.2.0",
      "model_name": "LayoutModel",
      "state": {
       "align_items": "stretch",
       "display": "flex",
       "flex_flow": "row",
       "grid_auto_columns": "True",
       "justify_content": "flex-end",
       "width": "90%"
      }
     },
     "77f0754e527a4c139993d2aa906fe8b6": {
      "model_module": "@jupyter-widgets/controls",
      "model_module_version": "1.5.0",
      "model_name": "HBoxModel",
      "state": {
       "children": [
        "IPY_MODEL_30a26ea540404ae9966be08b1189e0a8",
        "IPY_MODEL_c3982351bfea4699bed80b8d9b57ff21"
       ],
       "layout": "IPY_MODEL_859eb1afb50c47a1bda3f5ca88fecc02"
      }
     },
     "77f522ccf10c4a9485b4915a8edfa120": {
      "model_module": "@jupyter-widgets/base",
      "model_module_version": "1.2.0",
      "model_name": "LayoutModel",
      "state": {
       "align_items": "stretch",
       "display": "flex",
       "flex_flow": "row",
       "grid_auto_columns": "True",
       "justify_content": "flex-start",
       "width": "80%"
      }
     },
     "77ffd893bf4140fc99e2dcfc891f1109": {
      "model_module": "@jupyter-widgets/controls",
      "model_module_version": "1.5.0",
      "model_name": "HTMLModel",
      "state": {
       "layout": "IPY_MODEL_dee7a382cb5241e3bbd4d7fa3177886a",
       "style": "IPY_MODEL_11ed5f2ff0e64aee8cc428535d0d0edd",
       "value": "<p>its a foo cake</p>"
      }
     },
     "780554c4fd2a48de95139423aac33fd6": {
      "model_module": "@jupyter-widgets/base",
      "model_module_version": "1.2.0",
      "model_name": "LayoutModel",
      "state": {}
     },
     "78306b9f26754276939cee45cf6b9282": {
      "model_module": "@jupyter-widgets/controls",
      "model_module_version": "1.5.0",
      "model_name": "HBoxModel",
      "state": {
       "children": [
        "IPY_MODEL_f5aef0621fa8454f8bc182bf97a49769",
        "IPY_MODEL_2e330525ed7344e496810cf1c67749db"
       ],
       "layout": "IPY_MODEL_9c39b1d8af0144ac972d7491d596dd03"
      }
     },
     "785069d2da83418bba702d3b6e2c7a48": {
      "model_module": "@jupyter-widgets/base",
      "model_module_version": "1.2.0",
      "model_name": "LayoutModel",
      "state": {}
     },
     "7859fdeab6b7483db806ca196bc9754f": {
      "model_module": "@jupyter-widgets/controls",
      "model_module_version": "1.5.0",
      "model_name": "VBoxModel",
      "state": {
       "children": [
        "IPY_MODEL_ff9497a83ca64a369ac079ba3aa3580b",
        "IPY_MODEL_94459565eaf14d1996245e485afdf1bd",
        "IPY_MODEL_55a7480dad84429eb45e913e9e13285c",
        "IPY_MODEL_7a3fb27ebf2349a7973eb2989c9bdc4c",
        "IPY_MODEL_c66f130bbc7b4d1ca8dddec750477265",
        "IPY_MODEL_2c1aa4e2416444cbafe231309538cb4b"
       ],
       "layout": "IPY_MODEL_5196458bd60343adb30b3ed0e5101712"
      }
     },
     "78af2806647f406db9bdb46403dca68a": {
      "model_module": "@jupyter-widgets/output",
      "model_module_version": "1.0.0",
      "model_name": "OutputModel",
      "state": {
       "layout": "IPY_MODEL_cf24bda06d1849a4b7f62dbddadf060b"
      }
     },
     "78b5edafbbbb40dcb1d558c0e43a41be": {
      "model_module": "@jupyter-widgets/controls",
      "model_module_version": "1.5.0",
      "model_name": "HTMLModel",
      "state": {
       "layout": "IPY_MODEL_5dc92389a47d4cf8baa5973af1f90636",
       "style": "IPY_MODEL_df5b4cb2fa5b42eaa5534c961ac9d2ed",
       "value": "<p>3</p>"
      }
     },
     "78e2cdbcb4bc46d9994edc5ec5faaa50": {
      "model_module": "@jupyter-widgets/controls",
      "model_module_version": "1.5.0",
      "model_name": "DescriptionStyleModel",
      "state": {
       "description_width": ""
      }
     },
     "7919e42334084b7cb21840040f159c92": {
      "model_module": "@jupyter-widgets/base",
      "model_module_version": "1.2.0",
      "model_name": "LayoutModel",
      "state": {
       "align_items": "stretch",
       "border": "dashed 0.2px green",
       "display": "flex",
       "flex_flow": "row",
       "grid_auto_columns": "True",
       "justify_content": "flex-start",
       "width": "100%"
      }
     },
     "79282736519d40838b0a5fd49cb73370": {
      "model_module": "@jupyter-widgets/base",
      "model_module_version": "1.2.0",
      "model_name": "LayoutModel",
      "state": {}
     },
     "7936711c44e64702aeb60e0e5413f49e": {
      "model_module": "@jupyter-widgets/base",
      "model_module_version": "1.2.0",
      "model_name": "LayoutModel",
      "state": {
       "align_items": "stretch",
       "display": "flex",
       "flex_flow": "row",
       "grid_auto_columns": "True",
       "justify_content": "flex-start",
       "width": "80%"
      }
     },
     "7949d3b5187c485bb7732b79849ddd1f": {
      "model_module": "@jupyter-widgets/controls",
      "model_module_version": "1.5.0",
      "model_name": "ButtonStyleModel",
      "state": {}
     },
     "798b0a1a70b3411083eef9ef6b2b1240": {
      "model_module": "@jupyter-widgets/base",
      "model_module_version": "1.2.0",
      "model_name": "LayoutModel",
      "state": {
       "align_items": "stretch",
       "display": "flex",
       "flex_flow": "row",
       "grid_auto_columns": "True",
       "justify_content": "flex-end",
       "width": "90%"
      }
     },
     "799c8001c26c4f29800434f888aced5d": {
      "model_module": "@jupyter-widgets/controls",
      "model_module_version": "1.5.0",
      "model_name": "DescriptionStyleModel",
      "state": {
       "description_width": ""
      }
     },
     "799d29d1162141d0a088b75fa8e37202": {
      "model_module": "@jupyter-widgets/controls",
      "model_module_version": "1.5.0",
      "model_name": "ToggleButtonModel",
      "state": {
       "icon": "arrow-down",
       "layout": "IPY_MODEL_839e0157da264848bb4a19205a8f4b5e",
       "style": "IPY_MODEL_f6c46c217b7845f796d11558fd5490e1"
      }
     },
     "79b3c571535443c3938460afe7481a45": {
      "model_module": "@jupyter-widgets/controls",
      "model_module_version": "1.5.0",
      "model_name": "DescriptionStyleModel",
      "state": {
       "description_width": ""
      }
     },
     "79da3bc6548e4326b9fc170f5c3299f6": {
      "model_module": "@jupyter-widgets/controls",
      "model_module_version": "1.5.0",
      "model_name": "HBoxModel",
      "state": {
       "children": [
        "IPY_MODEL_fc91fa096d9343f0b4c19662b8dbcd73",
        "IPY_MODEL_4769c94173d54071a1120b6f7d3b8761"
       ],
       "layout": "IPY_MODEL_81c17ad3227d4bb3adfefe6354fba46a"
      }
     },
     "79ea2981c3914abeb3d75118e2f9bdb6": {
      "model_module": "@jupyter-widgets/controls",
      "model_module_version": "1.5.0",
      "model_name": "VBoxModel",
      "state": {
       "children": [
        "IPY_MODEL_4cf83009502547a8b6c7e8634fe41dea",
        "IPY_MODEL_929162a08d9b45fe9cb3718f285ad999",
        "IPY_MODEL_fe0421a1de29474bb6fad8e645412624",
        "IPY_MODEL_f6c8cff0b8bf4b60b9a170980f3f6796",
        "IPY_MODEL_b6daaafc3a2a4fe2b806e0c751d11f2c",
        "IPY_MODEL_7597cd7dc56d4e9eadf4a9437312caab",
        "IPY_MODEL_e381d52c93644894a1c76384ce1e8f43",
        "IPY_MODEL_a0b42288698943f3bd965fcc85ab266e"
       ],
       "layout": "IPY_MODEL_778cc22e47034c608766df6ab3a5d4d0"
      }
     },
     "79f176f4e35e4f0397b7611012b35b04": {
      "model_module": "@jupyter-widgets/controls",
      "model_module_version": "1.5.0",
      "model_name": "HTMLModel",
      "state": {
       "layout": "IPY_MODEL_091d1e82b9474df39b9d80ed90d489eb",
       "style": "IPY_MODEL_6415a187946141f5ab438aff3094926c"
      }
     },
     "79faea6454f04b39a0c3641ee234fab6": {
      "model_module": "@jupyter-widgets/controls",
      "model_module_version": "1.5.0",
      "model_name": "ButtonStyleModel",
      "state": {}
     },
     "7a22499c904e4f1cbb21d7dbe5fa6c8f": {
      "model_module": "@jupyter-widgets/base",
      "model_module_version": "1.2.0",
      "model_name": "LayoutModel",
      "state": {
       "align_items": "stretch",
       "border": "dashed 0.2px green",
       "display": "flex",
       "flex_flow": "row",
       "grid_auto_columns": "True",
       "justify_content": "flex-start",
       "width": "100%"
      }
     },
     "7a253f0056ed4d0d86c91349d3819304": {
      "model_module": "@jupyter-widgets/base",
      "model_module_version": "1.2.0",
      "model_name": "LayoutModel",
      "state": {}
     },
     "7a2a0f3245b043c8bdf021e51b02f3fa": {
      "model_module": "@jupyter-widgets/controls",
      "model_module_version": "1.5.0",
      "model_name": "DescriptionStyleModel",
      "state": {
       "description_width": ""
      }
     },
     "7a3681e5168d4764a13f7313dc01e385": {
      "model_module": "@jupyter-widgets/controls",
      "model_module_version": "1.5.0",
      "model_name": "VBoxModel",
      "state": {
       "children": [
        "IPY_MODEL_90b321b8da8e4d349ef69c1fa8dec773",
        "IPY_MODEL_2110989d8ff5499ea597b87428c6dd2b"
       ],
       "layout": "IPY_MODEL_3749a1b2999a4031ac17d1b3061eef7f"
      }
     },
     "7a3fb27ebf2349a7973eb2989c9bdc4c": {
      "model_module": "@jupyter-widgets/controls",
      "model_module_version": "1.5.0",
      "model_name": "HBoxModel",
      "state": {
       "children": [
        "IPY_MODEL_7f07da22942044b48818733506525d69"
       ],
       "layout": "IPY_MODEL_5b2f1cbb0ab0454eb898a174213f75ae"
      }
     },
     "7a4abb3b8b0942dda17852eb613cfb9a": {
      "model_module": "@jupyter-widgets/controls",
      "model_module_version": "1.5.0",
      "model_name": "HBoxModel",
      "state": {
       "children": [
        "IPY_MODEL_6c838767a89d493c8b3a2f26eb2c7a54",
        "IPY_MODEL_4ae8baf38228419693e821074ca402cb"
       ],
       "layout": "IPY_MODEL_cf84c8d6bd5545de92d44db778643898"
      }
     },
     "7a4d52549fe04d4b8775774bffb334e9": {
      "model_module": "@jupyter-widgets/controls",
      "model_module_version": "1.5.0",
      "model_name": "HTMLModel",
      "state": {
       "layout": "IPY_MODEL_9099394b36844d1aaa6c18b99c446fbf",
       "style": "IPY_MODEL_2d7edc53951d4b34aaba409d7040ba91",
       "value": "<p>its a foo cake</p>"
      }
     },
     "7a4daebd329c40bc90b6c779e1d569e0": {
      "model_module": "@jupyter-widgets/controls",
      "model_module_version": "1.5.0",
      "model_name": "HTMLModel",
      "state": {
       "layout": "IPY_MODEL_100c862f47c2424f8f35001032743aad",
       "style": "IPY_MODEL_57fa3b6012c9483a8b6d4fb6bc95dd67",
       "value": "<p>fus foo ous o</p>"
      }
     },
     "7a4e63cf6a77423abd85c82a51ad8d92": {
      "model_module": "@jupyter-widgets/controls",
      "model_module_version": "1.5.0",
      "model_name": "HTMLModel",
      "state": {
       "layout": "IPY_MODEL_1bea95ddeb7e4650b3be274a1690d2c5",
       "style": "IPY_MODEL_36971c196af64ee5910fbc8713f8bd93",
       "value": "<p>name</p>"
      }
     },
     "7a5e4a1b0aed4e99981677dde40c00c0": {
      "model_module": "@jupyter-widgets/controls",
      "model_module_version": "1.5.0",
      "model_name": "DescriptionStyleModel",
      "state": {
       "description_width": ""
      }
     },
     "7a7817d1e62b4ef59460120129b819d3": {
      "model_module": "@jupyter-widgets/controls",
      "model_module_version": "1.5.0",
      "model_name": "HTMLModel",
      "state": {
       "layout": "IPY_MODEL_ffa47c6c131f44ffb74590d873ca1208",
       "style": "IPY_MODEL_be9ed2d26e564a958e45fac140599e8a",
       "value": "<p>5th section of space name code (enter None if 5th section doesn't exist)</p>"
      }
     },
     "7a8b237acc864769a91d92f495ad98aa": {
      "model_module": "@jupyter-widgets/controls",
      "model_module_version": "1.5.0",
      "model_name": "HBoxModel",
      "state": {
       "children": [
        "IPY_MODEL_666a9940c663421cb5205b1d2179f45a",
        "IPY_MODEL_be4659ebdcae4161b439acd7b21c37d9"
       ],
       "layout": "IPY_MODEL_9b273384e96e44479ecd7e2537dcd0bf"
      }
     },
     "7a9d34f9541b45119cc17102262010e9": {
      "model_module": "@jupyter-widgets/base",
      "model_module_version": "1.2.0",
      "model_name": "LayoutModel",
      "state": {
       "align_items": "stretch",
       "border": "dashed 0.2px green",
       "display": "flex",
       "flex_flow": "row",
       "grid_auto_columns": "True",
       "justify_content": "flex-start",
       "width": "100%"
      }
     },
     "7a9eb8e5f9e34188ae18c145f5a04814": {
      "model_module": "@jupyter-widgets/base",
      "model_module_version": "1.2.0",
      "model_name": "LayoutModel",
      "state": {
       "width": "5%"
      }
     },
     "7aa0905751b54ffc86a7427e02b2e957": {
      "model_module": "@jupyter-widgets/controls",
      "model_module_version": "1.5.0",
      "model_name": "HTMLModel",
      "state": {
       "layout": "IPY_MODEL_68a17652ca6140ba8e94b11119d86a53",
       "style": "IPY_MODEL_8cea300763384c7b8558762deb121f38",
       "value": "<p>1</p>"
      }
     },
     "7aa25c74fcc04ee188d092e59b2742ef": {
      "model_module": "@jupyter-widgets/base",
      "model_module_version": "1.2.0",
      "model_name": "LayoutModel",
      "state": {
       "align_items": "stretch",
       "display": "flex",
       "flex_flow": "row",
       "grid_auto_columns": "True",
       "justify_content": "flex-end",
       "width": "90%"
      }
     },
     "7aa43d0219824fb9bf56226e835a95ca": {
      "model_module": "@jupyter-widgets/controls",
      "model_module_version": "1.5.0",
      "model_name": "VBoxModel",
      "state": {
       "layout": "IPY_MODEL_d208d533427a43faa86c72676bb4bc5c"
      }
     },
     "7ae6b962318e46a19fdca586d00792aa": {
      "model_module": "@jupyter-widgets/controls",
      "model_module_version": "1.5.0",
      "model_name": "TextareaModel",
      "state": {
       "layout": "IPY_MODEL_a7d3c93856674638b723be3cd1c36e4f",
       "style": "IPY_MODEL_2ac5403800ae4fffba420132090ba53b",
       "value": "asdfasdf"
      }
     },
     "7af49471bcba43e09ba4fa4e4a3ab247": {
      "model_module": "@jupyter-widgets/controls",
      "model_module_version": "1.5.0",
      "model_name": "DescriptionStyleModel",
      "state": {
       "description_width": ""
      }
     },
     "7b0c72df3a6e4675b51afa2642928fe1": {
      "model_module": "@jupyter-widgets/base",
      "model_module_version": "1.2.0",
      "model_name": "LayoutModel",
      "state": {}
     },
     "7b1021d08a2b488e9fdfaf5b41b42be0": {
      "model_module": "@jupyter-widgets/controls",
      "model_module_version": "1.5.0",
      "model_name": "HBoxModel",
      "state": {
       "children": [
        "IPY_MODEL_2f4c6bca794c45afb7c7d2af5fa9e030",
        "IPY_MODEL_46545ac3433443369527d22bba95f22f"
       ],
       "layout": "IPY_MODEL_18b2099ea88942efa34d666012973b78"
      }
     },
     "7b2066c54bce426cac5335fd811fcb7b": {
      "model_module": "@jupyter-widgets/controls",
      "model_module_version": "1.5.0",
      "model_name": "HTMLModel",
      "state": {
       "layout": "IPY_MODEL_f000b2e407564f049dd7b33fde853f76",
       "style": "IPY_MODEL_0d62e682c19b4eea80a27ef323d9c278"
      }
     },
     "7b245bcc9f6941a79eb025cd024257c6": {
      "model_module": "@jupyter-widgets/base",
      "model_module_version": "1.2.0",
      "model_name": "LayoutModel",
      "state": {}
     },
     "7b6257c6bd7e4403adee73874031f107": {
      "model_module": "@jupyter-widgets/controls",
      "model_module_version": "1.5.0",
      "model_name": "HBoxModel",
      "state": {
       "children": [
        "IPY_MODEL_bae8802dcd6f4afd87fdf8b40bf311d4",
        "IPY_MODEL_231c90bbbeb54631aafc599e9b37f82b"
       ],
       "layout": "IPY_MODEL_716f250c27374364b964d181b95cebcd"
      }
     },
     "7b8d1f04b3d64259a862e08dc41c627e": {
      "model_module": "@jupyter-widgets/controls",
      "model_module_version": "1.5.0",
      "model_name": "ButtonStyleModel",
      "state": {}
     },
     "7bf74d0629ba4d1aa71e37ee9d64a601": {
      "model_module": "@jupyter-widgets/base",
      "model_module_version": "1.2.0",
      "model_name": "LayoutModel",
      "state": {}
     },
     "7c12360b547746f5972c941ca231f276": {
      "model_module": "@jupyter-widgets/controls",
      "model_module_version": "1.5.0",
      "model_name": "HTMLModel",
      "state": {
       "layout": "IPY_MODEL_d43eb135f2ee4d2f890ef8664e4c65d4",
       "style": "IPY_MODEL_129b276683b348629b0032c626fbe360",
       "value": "<p>Number, using to prefix the file name</p>"
      }
     },
     "7c3d29c1039949f693b3c799ba9124a5": {
      "model_module": "@jupyter-widgets/base",
      "model_module_version": "1.2.0",
      "model_name": "LayoutModel",
      "state": {}
     },
     "7c4a6cce607f4f128ba479cf96987f04": {
      "model_module": "@jupyter-widgets/controls",
      "model_module_version": "1.5.0",
      "model_name": "DescriptionStyleModel",
      "state": {
       "description_width": ""
      }
     },
     "7c4c0912573545e3b2f67c063b2c3485": {
      "model_module": "@jupyter-widgets/controls",
      "model_module_version": "1.5.0",
      "model_name": "HBoxModel",
      "state": {
       "children": [
        "IPY_MODEL_7e381b5bbf0a4d1a97f43a32e6cadc35",
        "IPY_MODEL_8b0b801b853447a09cf9721c13b87eda"
       ],
       "layout": "IPY_MODEL_b4c4b8154cb24971ae0bfb854759c321"
      }
     },
     "7c5e2595a5e947a796ec8efaf4c21499": {
      "model_module": "@jupyter-widgets/controls",
      "model_module_version": "1.5.0",
      "model_name": "HBoxModel",
      "state": {
       "children": [
        "IPY_MODEL_b44e063a99814a139d5d1c7cda6556c9",
        "IPY_MODEL_d206b6f0fe0843deaf6a19a981c050cb"
       ],
       "layout": "IPY_MODEL_63f758a7301347708d073c2edc6b3e0c"
      }
     },
     "7c9b535a28f743e3adb4bb4985613df1": {
      "model_module": "@jupyter-widgets/controls",
      "model_module_version": "1.5.0",
      "model_name": "VBoxModel",
      "state": {
       "children": [
        "IPY_MODEL_70e9eebff6944bc2bb38df1b94f004be",
        "IPY_MODEL_7b2066c54bce426cac5335fd811fcb7b",
        "IPY_MODEL_beb01abba1084007ab35f9e0a786a1aa"
       ],
       "layout": "IPY_MODEL_d4940a2afe0f46f5a68fd9f56250df54"
      }
     },
     "7cba0d91a8f046c9b49fc5139b292708": {
      "model_module": "@jupyter-widgets/controls",
      "model_module_version": "1.5.0",
      "model_name": "ButtonStyleModel",
      "state": {}
     },
     "7ce288864a7e491ca7a6d27878618a80": {
      "model_module": "@jupyter-widgets/base",
      "model_module_version": "1.2.0",
      "model_name": "LayoutModel",
      "state": {}
     },
     "7d0300384dc44a6fa60fe77a51362246": {
      "model_module": "@jupyter-widgets/controls",
      "model_module_version": "1.5.0",
      "model_name": "TextareaModel",
      "state": {
       "layout": "IPY_MODEL_eb80c8712635498f8f477b4469c7f6b8",
       "style": "IPY_MODEL_84d2b2dcf10b4c98a30e4baaefbd1993"
      }
     },
     "7d5ca30622a44c318fb7dadb84ba78ac": {
      "model_module": "@jupyter-widgets/controls",
      "model_module_version": "1.5.0",
      "model_name": "HBoxModel",
      "state": {
       "children": [
        "IPY_MODEL_763af17f3a2c496cb373affe4a74f1f3"
       ],
       "layout": "IPY_MODEL_050c254793fe46fb9f2338e5f71e6d8c"
      }
     },
     "7d88bb2351b945c3a293568824779e83": {
      "model_module": "@jupyter-widgets/controls",
      "model_module_version": "1.5.0",
      "model_name": "HBoxModel",
      "state": {
       "children": [
        "IPY_MODEL_46046137c9ec4e76a954b421990abec1",
        "IPY_MODEL_346093ab09b140d3a75fb236c0d66039",
        "IPY_MODEL_1d6c076e1d8948d99df6ad6cb0dbed4b"
       ],
       "layout": "IPY_MODEL_2fbed7b56a194a17b60683e8016daad5"
      }
     },
     "7d8b191e647d439f9c21c4413dd8cf6f": {
      "model_module": "@jupyter-widgets/base",
      "model_module_version": "1.2.0",
      "model_name": "LayoutModel",
      "state": {
       "align_items": "stretch",
       "display": "flex",
       "flex_flow": "row",
       "grid_auto_columns": "True",
       "justify_content": "flex-end",
       "width": "90%"
      }
     },
     "7dc3147b8ae440bc8f5b81a61b0025db": {
      "model_module": "@jupyter-widgets/controls",
      "model_module_version": "1.5.0",
      "model_name": "ToggleButtonModel",
      "state": {
       "icon": "arrow-down",
       "layout": "IPY_MODEL_01315b26d58047ae8cb297d5b4ff25be",
       "style": "IPY_MODEL_7c4a6cce607f4f128ba479cf96987f04"
      }
     },
     "7dd808942ccb472984d0cee3b03d477c": {
      "model_module": "@jupyter-widgets/base",
      "model_module_version": "1.2.0",
      "model_name": "LayoutModel",
      "state": {
       "align_items": "stretch",
       "display": "flex",
       "flex_flow": "row",
       "grid_auto_columns": "True",
       "justify_content": "flex-end",
       "width": "90%"
      }
     },
     "7e0cf85da60343d087461aeab3afc5a6": {
      "model_module": "@jupyter-widgets/controls",
      "model_module_version": "1.5.0",
      "model_name": "HBoxModel",
      "state": {
       "children": [
        "IPY_MODEL_00c847b542a14cbabc86fe6340256ab2",
        "IPY_MODEL_daee9d1f6b7a4fe9a213cd71b9c90f80"
       ],
       "layout": "IPY_MODEL_89091ebf378e43e2ba8f905178e68389"
      }
     },
     "7e381b5bbf0a4d1a97f43a32e6cadc35": {
      "model_module": "@jupyter-widgets/controls",
      "model_module_version": "1.5.0",
      "model_name": "ToggleButtonModel",
      "state": {
       "icon": "arrow-down",
       "layout": "IPY_MODEL_0facd3c2e8d44dc2b3b4f7271cba67fb",
       "style": "IPY_MODEL_850458c6ab254e11b51d03e7e0c56e01"
      }
     },
     "7e3e9f9c45f14765bf8ff34d6a9cb463": {
      "model_module": "@jupyter-widgets/controls",
      "model_module_version": "1.5.0",
      "model_name": "HBoxModel",
      "state": {
       "children": [
        "IPY_MODEL_fa8214697d5145d1912ca6edc0930b1a",
        "IPY_MODEL_92c683fc8e9d4ca69bc7863d728a1542"
       ],
       "layout": "IPY_MODEL_9ae1a2b5143f42eaa40ec7abde92cba6"
      }
     },
     "7e9afef135ce4844b9a3f58e10e9f87f": {
      "model_module": "@jupyter-widgets/base",
      "model_module_version": "1.2.0",
      "model_name": "LayoutModel",
      "state": {}
     },
     "7f07da22942044b48818733506525d69": {
      "model_module": "@jupyter-widgets/controls",
      "model_module_version": "1.5.0",
      "model_name": "HBoxModel",
      "state": {
       "children": [
        "IPY_MODEL_9bbe99862bb448529d7d889d8d605616",
        "IPY_MODEL_829b8f5a58df4a6985d237c34c180f36"
       ],
       "layout": "IPY_MODEL_0c54d1300d4f4ea4877668e80f0e3a66"
      }
     },
     "7f0c8291edda4ca187c36bb9475e6e2e": {
      "model_module": "@jupyter-widgets/controls",
      "model_module_version": "1.5.0",
      "model_name": "VBoxModel",
      "state": {
       "children": [
        "IPY_MODEL_70e9eebff6944bc2bb38df1b94f004be",
        "IPY_MODEL_7b2066c54bce426cac5335fd811fcb7b",
        "IPY_MODEL_beb01abba1084007ab35f9e0a786a1aa"
       ],
       "layout": "IPY_MODEL_b9d28fdc0e374021b875602f0a373ac5"
      }
     },
     "7f269e1a3b194a3daf5b58d8ef6fd8db": {
      "model_module": "@jupyter-widgets/controls",
      "model_module_version": "1.5.0",
      "model_name": "HBoxModel",
      "state": {
       "children": [
        "IPY_MODEL_c1cfcf53cb274553ae11d9e76326a932",
        "IPY_MODEL_bf2dc0821a4e4916bd41d3849d37a9aa"
       ],
       "layout": "IPY_MODEL_4dfed4ee8ea44bcbae48a046bd3ba6da"
      }
     },
     "7f4a151bedc14eb0b0a86b856557b4b7": {
      "model_module": "@jupyter-widgets/base",
      "model_module_version": "1.2.0",
      "model_name": "LayoutModel",
      "state": {}
     },
     "7f5016093dc0417e85a52d0a9c8d17be": {
      "model_module": "@jupyter-widgets/output",
      "model_module_version": "1.0.0",
      "model_name": "OutputModel",
      "state": {
       "layout": "IPY_MODEL_b343ea5781e44a0e99198a9de12e6cf3"
      }
     },
     "7f67406ab3e94711828dbde1f761f3f5": {
      "model_module": "@jupyter-widgets/base",
      "model_module_version": "1.2.0",
      "model_name": "LayoutModel",
      "state": {
       "align_items": "stretch",
       "display": "flex",
       "flex_flow": "row",
       "grid_auto_columns": "True",
       "justify_content": "flex-start",
       "width": "80%"
      }
     },
     "7f8527a420cc4124b67398debee49c09": {
      "model_module": "@jupyter-widgets/base",
      "model_module_version": "1.2.0",
      "model_name": "LayoutModel",
      "state": {
       "height": "30px",
       "width": "auto"
      }
     },
     "7fb781fda03e4313b5ca90e8e8d75bc8": {
      "model_module": "@jupyter-widgets/controls",
      "model_module_version": "1.5.0",
      "model_name": "ButtonStyleModel",
      "state": {
       "font_weight": "bold"
      }
     },
     "7fe67299e52d43a2bdd4f1fddac2b036": {
      "model_module": "@jupyter-widgets/base",
      "model_module_version": "1.2.0",
      "model_name": "LayoutModel",
      "state": {
       "align_items": "stretch",
       "border": "dashed 0.2px green",
       "display": "flex",
       "flex_flow": "row",
       "grid_auto_columns": "True",
       "justify_content": "flex-start",
       "width": "100%"
      }
     },
     "801de90e9be8490282f119e3e9d78e4d": {
      "model_module": "@jupyter-widgets/controls",
      "model_module_version": "1.5.0",
      "model_name": "HBoxModel",
      "state": {
       "children": [
        "IPY_MODEL_08a5e2407b3d4321b5a5acc2430ef17c",
        "IPY_MODEL_03dadd26c7e94e01a973b4270b6a9f88"
       ],
       "layout": "IPY_MODEL_45cde0af436741d682c35dc02faa8f9d"
      }
     },
     "803ce381f7ed432db3af2821abe7e736": {
      "model_module": "@jupyter-widgets/base",
      "model_module_version": "1.2.0",
      "model_name": "LayoutModel",
      "state": {
       "align_items": "stretch",
       "display": "flex",
       "flex_flow": "row",
       "grid_auto_columns": "True",
       "justify_content": "flex-end",
       "width": "90%"
      }
     },
     "8040ef3c50b541848b7623c6905fa06f": {
      "model_module": "@jupyter-widgets/base",
      "model_module_version": "1.2.0",
      "model_name": "LayoutModel",
      "state": {}
     },
     "8047e4c0493c4429b3c14ca7a6d104e0": {
      "model_module": "@jupyter-widgets/base",
      "model_module_version": "1.2.0",
      "model_name": "LayoutModel",
      "state": {}
     },
     "809d13e959d84fd09c6a4443400daac7": {
      "model_module": "@jupyter-widgets/base",
      "model_module_version": "1.2.0",
      "model_name": "LayoutModel",
      "state": {
       "align_items": "stretch",
       "display": "flex",
       "flex_flow": "row",
       "grid_auto_columns": "True",
       "justify_content": "flex-end",
       "width": "90%"
      }
     },
     "80b3c930f3214dddba07cb2af4d316fa": {
      "model_module": "@jupyter-widgets/controls",
      "model_module_version": "1.5.0",
      "model_name": "ButtonStyleModel",
      "state": {}
     },
     "80c148b9194d4662a2dce611fc890ced": {
      "model_module": "@jupyter-widgets/controls",
      "model_module_version": "1.5.0",
      "model_name": "HTMLModel",
      "state": {
       "layout": "IPY_MODEL_9e16809764064bd4962403706418fb67",
       "style": "IPY_MODEL_054bfc83294c41c385bdce809c57bfeb",
       "value": "<p>edit user input form below</p>"
      }
     },
     "80d64ee27e214020b8d1268139f0f911": {
      "model_module": "@jupyter-widgets/controls",
      "model_module_version": "1.5.0",
      "model_name": "ButtonStyleModel",
      "state": {
       "font_weight": "bold"
      }
     },
     "8134f40824c340ffbfebd49ff4840ec4": {
      "model_module": "@jupyter-widgets/controls",
      "model_module_version": "1.5.0",
      "model_name": "HBoxModel",
      "state": {
       "children": [
        "IPY_MODEL_891ae25cf2724249aa36413e71e5d86a",
        "IPY_MODEL_f0d191db72a54f1292d10802b5375306",
        "IPY_MODEL_f7ef0011f9e949d9b984b8b3f14dd2f0"
       ],
       "layout": "IPY_MODEL_aeaa88fa1d334c088d0575a875906aca"
      }
     },
     "81428f8928314b91b9065cf035ab1140": {
      "model_module": "@jupyter-widgets/controls",
      "model_module_version": "1.5.0",
      "model_name": "HBoxModel",
      "state": {
       "children": [
        "IPY_MODEL_9ff0d9bacd544bd0bf4399ad60b72b3d",
        "IPY_MODEL_28649ded84e5425fa0977b704084acd8"
       ],
       "layout": "IPY_MODEL_2607cea2d36d402f8253c7dafd77f396"
      }
     },
     "81785540170a404298561a6e3f24b750": {
      "model_module": "@jupyter-widgets/controls",
      "model_module_version": "1.5.0",
      "model_name": "DescriptionStyleModel",
      "state": {
       "description_width": ""
      }
     },
     "81798628405640d19df96694650a7bdd": {
      "model_module": "@jupyter-widgets/base",
      "model_module_version": "1.2.0",
      "model_name": "LayoutModel",
      "state": {}
     },
     "817c44f9691747378c7e3bce53132986": {
      "model_module": "@jupyter-widgets/base",
      "model_module_version": "1.2.0",
      "model_name": "LayoutModel",
      "state": {}
     },
     "8183a90be288410eb486fd078485ab30": {
      "model_module": "@jupyter-widgets/controls",
      "model_module_version": "1.5.0",
      "model_name": "HTMLModel",
      "state": {
       "layout": "IPY_MODEL_e6240adf5d2b417d9904c4b1246f1836",
       "style": "IPY_MODEL_2715f98c78f2409c87b85d5726f13176",
       "value": "<p>fus foo ous o</p>"
      }
     },
     "81c17ad3227d4bb3adfefe6354fba46a": {
      "model_module": "@jupyter-widgets/base",
      "model_module_version": "1.2.0",
      "model_name": "LayoutModel",
      "state": {
       "align_items": "stretch",
       "display": "flex",
       "flex_flow": "row",
       "grid_auto_columns": "True",
       "justify_content": "flex-start",
       "width": "80%"
      }
     },
     "82136f0410b74b7dbf4718e3dbcb5b80": {
      "model_module": "@jupyter-widgets/base",
      "model_module_version": "1.2.0",
      "model_name": "LayoutModel",
      "state": {
       "align_items": "stretch",
       "border": "dashed 0.2px green",
       "display": "flex",
       "flex_flow": "row",
       "grid_auto_columns": "True",
       "justify_content": "flex-start",
       "width": "100%"
      }
     },
     "822dd5a13a884c29bb94f96a2429b444": {
      "model_module": "@jupyter-widgets/controls",
      "model_module_version": "1.5.0",
      "model_name": "HBoxModel",
      "state": {
       "children": [
        "IPY_MODEL_3ba4e341454144a9afa1f3fe32e219a9"
       ],
       "layout": "IPY_MODEL_7fe67299e52d43a2bdd4f1fddac2b036"
      }
     },
     "8230799ec5d94e54af8353e20c6ba93f": {
      "model_module": "@jupyter-widgets/base",
      "model_module_version": "1.2.0",
      "model_name": "LayoutModel",
      "state": {}
     },
     "829b8f5a58df4a6985d237c34c180f36": {
      "model_module": "@jupyter-widgets/controls",
      "model_module_version": "1.5.0",
      "model_name": "HBoxModel",
      "state": {
       "children": [
        "IPY_MODEL_d8aea37c389448cb8f8c344cbad4a95b",
        "IPY_MODEL_6109bb1801c0436c84c043d4037ad364"
       ],
       "layout": "IPY_MODEL_ab2921a7cdf24f98b7418a48db23575d"
      }
     },
     "829d615f61ac4b719d981ad224177376": {
      "model_module": "@jupyter-widgets/controls",
      "model_module_version": "1.5.0",
      "model_name": "HBoxModel",
      "state": {
       "children": [
        "IPY_MODEL_553cf94bcd434c9282eabfb044efc9f1",
        "IPY_MODEL_7b6257c6bd7e4403adee73874031f107"
       ],
       "layout": "IPY_MODEL_1683f275434c4df5bcd4808830a2a113"
      }
     },
     "82c3b515740e48999a421a3cb782b335": {
      "model_module": "@jupyter-widgets/controls",
      "model_module_version": "1.5.0",
      "model_name": "ButtonStyleModel",
      "state": {
       "font_weight": "bold"
      }
     },
     "82c7fced0be744b9a9a24613b342f129": {
      "model_module": "@jupyter-widgets/controls",
      "model_module_version": "1.5.0",
      "model_name": "DescriptionStyleModel",
      "state": {
       "description_width": ""
      }
     },
     "82e41c740c0c4d4aab8877d66e4f9eb4": {
      "model_module": "@jupyter-widgets/base",
      "model_module_version": "1.2.0",
      "model_name": "LayoutModel",
      "state": {}
     },
     "82f2c37cab7d4156a0cac49731f68b75": {
      "model_module": "@jupyter-widgets/output",
      "model_module_version": "1.0.0",
      "model_name": "OutputModel",
      "state": {
       "layout": "IPY_MODEL_d17947304ec842679281a0a70457c8df"
      }
     },
     "82f7935097864a169f732ec1362e4c37": {
      "model_module": "@jupyter-widgets/controls",
      "model_module_version": "1.5.0",
      "model_name": "HBoxModel",
      "state": {
       "children": [
        "IPY_MODEL_96ca2dcbdfef42a3b0dd19e3948537ff",
        "IPY_MODEL_bf73646c48cf4573856a2758b1806eee"
       ],
       "layout": "IPY_MODEL_34cf553cbfbe4953b6ed7c139c9c4835"
      }
     },
     "82fac74b0e254994a19ede5f135a4cb8": {
      "model_module": "@jupyter-widgets/base",
      "model_module_version": "1.2.0",
      "model_name": "LayoutModel",
      "state": {
       "align_items": "stretch",
       "display": "flex",
       "flex_flow": "row",
       "grid_auto_columns": "True",
       "justify_content": "flex-end",
       "width": "90%"
      }
     },
     "8327910d0bcd49f890c9d85b54a0e95b": {
      "model_module": "@jupyter-widgets/base",
      "model_module_version": "1.2.0",
      "model_name": "LayoutModel",
      "state": {
       "align_items": "stretch",
       "display": "flex",
       "flex_flow": "row",
       "grid_auto_columns": "True",
       "justify_content": "flex-start",
       "width": "80%"
      }
     },
     "832fedb5c0684f63b9d47948f46d4b58": {
      "model_module": "@jupyter-widgets/base",
      "model_module_version": "1.2.0",
      "model_name": "LayoutModel",
      "state": {
       "align_items": "stretch",
       "border": "dashed 0.2px green",
       "display": "flex",
       "flex_flow": "row",
       "grid_auto_columns": "True",
       "justify_content": "flex-start",
       "width": "100%"
      }
     },
     "8383907b38a5462997444cbbe255c1da": {
      "model_module": "@jupyter-widgets/controls",
      "model_module_version": "1.5.0",
      "model_name": "DescriptionStyleModel",
      "state": {
       "description_width": ""
      }
     },
     "838453bd36a343e58b59b5df827a8c79": {
      "model_module": "@jupyter-widgets/base",
      "model_module_version": "1.2.0",
      "model_name": "LayoutModel",
      "state": {
       "align_items": "stretch",
       "display": "flex",
       "flex_flow": "row",
       "grid_auto_columns": "True",
       "justify_content": "flex-end",
       "width": "90%"
      }
     },
     "8385dd92d03f489285f4bb0fc3920b62": {
      "model_module": "@jupyter-widgets/controls",
      "model_module_version": "1.5.0",
      "model_name": "DescriptionStyleModel",
      "state": {
       "description_width": ""
      }
     },
     "83904d79cddc4bfb810d3e44508be72f": {
      "model_module": "@jupyter-widgets/controls",
      "model_module_version": "1.5.0",
      "model_name": "VBoxModel",
      "state": {
       "children": [
        "IPY_MODEL_70e9eebff6944bc2bb38df1b94f004be",
        "IPY_MODEL_7b2066c54bce426cac5335fd811fcb7b",
        "IPY_MODEL_beb01abba1084007ab35f9e0a786a1aa"
       ],
       "layout": "IPY_MODEL_0fa703ff6549490b82a7b34846bd6906"
      }
     },
     "839e0157da264848bb4a19205a8f4b5e": {
      "model_module": "@jupyter-widgets/base",
      "model_module_version": "1.2.0",
      "model_name": "LayoutModel",
      "state": {}
     },
     "84042166d81c44928744300dd5bd9101": {
      "model_module": "@jupyter-widgets/base",
      "model_module_version": "1.2.0",
      "model_name": "LayoutModel",
      "state": {}
     },
     "8409527a3bed42bfb0d11cff0c39f96d": {
      "model_module": "@jupyter-widgets/controls",
      "model_module_version": "1.5.0",
      "model_name": "VBoxModel",
      "state": {
       "children": [
        "IPY_MODEL_848f9a7269c3463c8d95fd0e3ffa9c92",
        "IPY_MODEL_d76bc12d6b0c487fbf3cbe954c98c776"
       ],
       "layout": "IPY_MODEL_f23da5b2d10b4eb49fdf4d768a657d06"
      }
     },
     "8432590ec0ad4454ae652159c1c501ae": {
      "model_module": "@jupyter-widgets/base",
      "model_module_version": "1.2.0",
      "model_name": "LayoutModel",
      "state": {}
     },
     "843638c11a9749feb00b5d7ca5719a89": {
      "model_module": "@jupyter-widgets/controls",
      "model_module_version": "1.5.0",
      "model_name": "DescriptionStyleModel",
      "state": {
       "description_width": ""
      }
     },
     "84394a44c57344c5ba75f2b223912b62": {
      "model_module": "@jupyter-widgets/controls",
      "model_module_version": "1.5.0",
      "model_name": "HBoxModel",
      "state": {
       "children": [
        "IPY_MODEL_95c9308f98134a98b097d0e377ed8885",
        "IPY_MODEL_c230fe509cd14515a3c9bfb2c5f83e1a"
       ],
       "layout": "IPY_MODEL_9bb3911e295b483abb855518798aff7d"
      }
     },
     "843f5dbac3104d6888270cf215ac740f": {
      "model_module": "@jupyter-widgets/base",
      "model_module_version": "1.2.0",
      "model_name": "LayoutModel",
      "state": {}
     },
     "845d3cd71a8742308a4c31b72f378ddb": {
      "model_module": "@jupyter-widgets/controls",
      "model_module_version": "1.5.0",
      "model_name": "HBoxModel",
      "state": {
       "children": [
        "IPY_MODEL_fce0cfcaa71d46dc98dc2187097af646"
       ],
       "layout": "IPY_MODEL_501f5f29a1c54946ab35158d7ff0c462"
      }
     },
     "845e9c5267aa4a08b88cc6f670215a70": {
      "model_module": "@jupyter-widgets/controls",
      "model_module_version": "1.5.0",
      "model_name": "DescriptionStyleModel",
      "state": {
       "description_width": ""
      }
     },
     "846f891d5e6144e6964a2bf0042bae07": {
      "model_module": "@jupyter-widgets/output",
      "model_module_version": "1.0.0",
      "model_name": "OutputModel",
      "state": {
       "layout": "IPY_MODEL_c35dbe5519bd453487ad96d795766c20"
      }
     },
     "84881217f7ad4f4da32ae02a079bdede": {
      "model_module": "@jupyter-widgets/controls",
      "model_module_version": "1.5.0",
      "model_name": "SelectMultipleModel",
      "state": {
       "_options_labels": [
        "asfd",
        "10",
        "asdf"
       ],
       "index": [
        1
       ],
       "layout": "IPY_MODEL_ef382ce8b51b41aeae9c781b3d304360",
       "rows": 5,
       "style": "IPY_MODEL_de6d7f45d29d4475b0ad7099754e744c"
      }
     },
     "848f9a7269c3463c8d95fd0e3ffa9c92": {
      "model_module": "@jupyter-widgets/controls",
      "model_module_version": "1.5.0",
      "model_name": "HBoxModel",
      "state": {
       "children": [
        "IPY_MODEL_bf7322fd38f4455e96333e98d91e67a9"
       ],
       "layout": "IPY_MODEL_c933efed270a4321933bf05a3864229d"
      }
     },
     "849e9841f9f144eca040ca777add5d4a": {
      "model_module": "@jupyter-widgets/controls",
      "model_module_version": "1.5.0",
      "model_name": "HBoxModel",
      "state": {
       "children": [
        "IPY_MODEL_e4af0e42b8454cd784c0b2ed7d9fea1a"
       ],
       "layout": "IPY_MODEL_036cfc13044f4bb49baa127b56bb7f80"
      }
     },
     "84a1d85779f14afc9f777f883ef476c5": {
      "model_module": "@jupyter-widgets/base",
      "model_module_version": "1.2.0",
      "model_name": "LayoutModel",
      "state": {}
     },
     "84d2b2dcf10b4c98a30e4baaefbd1993": {
      "model_module": "@jupyter-widgets/controls",
      "model_module_version": "1.5.0",
      "model_name": "DescriptionStyleModel",
      "state": {
       "description_width": ""
      }
     },
     "850458c6ab254e11b51d03e7e0c56e01": {
      "model_module": "@jupyter-widgets/controls",
      "model_module_version": "1.5.0",
      "model_name": "DescriptionStyleModel",
      "state": {
       "description_width": ""
      }
     },
     "8508e09fc52b4dc7856ebb70cfa21436": {
      "model_module": "@jupyter-widgets/controls",
      "model_module_version": "1.5.0",
      "model_name": "HTMLModel",
      "state": {
       "layout": "IPY_MODEL_d8a1870eb1e744e19d97539d00409993",
       "style": "IPY_MODEL_359cc814bc4e48a5bfb17e50b3afc9c6",
       "value": "<p>4th section of space name code (enter None if 4th section doesn't exist)</p>"
      }
     },
     "8530d6988b3243ecb60162d04a7b3357": {
      "model_module": "@jupyter-widgets/controls",
      "model_module_version": "1.5.0",
      "model_name": "DescriptionStyleModel",
      "state": {
       "description_width": ""
      }
     },
     "853f820213c6468593a1a5c19f3e42e2": {
      "model_module": "@jupyter-widgets/base",
      "model_module_version": "1.2.0",
      "model_name": "LayoutModel",
      "state": {}
     },
     "856e14e677cc409e8fc278fd619b6a71": {
      "model_module": "@jupyter-widgets/controls",
      "model_module_version": "1.5.0",
      "model_name": "DescriptionStyleModel",
      "state": {
       "description_width": ""
      }
     },
     "858b28ca2a814a8ba4b2a02c45999e7d": {
      "model_module": "@jupyter-widgets/controls",
      "model_module_version": "1.5.0",
      "model_name": "DescriptionStyleModel",
      "state": {
       "description_width": ""
      }
     },
     "858b775877ef49818cc6d2ec560aa9b1": {
      "model_module": "@jupyter-widgets/controls",
      "model_module_version": "1.5.0",
      "model_name": "DescriptionStyleModel",
      "state": {
       "description_width": ""
      }
     },
     "85926266ec03478ea8961243d13be1c2": {
      "model_module": "@jupyter-widgets/controls",
      "model_module_version": "1.5.0",
      "model_name": "HBoxModel",
      "state": {
       "children": [
        "IPY_MODEL_eab29d8ea41b4e5684434190654001bd",
        "IPY_MODEL_0cda7587f92447dd8c8f80943c283dd3",
        "IPY_MODEL_dcfae8d930e64048b2074998472220ef"
       ],
       "layout": "IPY_MODEL_fb7239ff44ae4ba08584beccc04e8f14"
      }
     },
     "859eb1afb50c47a1bda3f5ca88fecc02": {
      "model_module": "@jupyter-widgets/base",
      "model_module_version": "1.2.0",
      "model_name": "LayoutModel",
      "state": {
       "align_items": "stretch",
       "display": "flex",
       "flex_flow": "row",
       "grid_auto_columns": "True",
       "justify_content": "flex-start",
       "width": "80%"
      }
     },
     "85d2bfd56dc64a739746fb123b99416a": {
      "model_module": "@jupyter-widgets/controls",
      "model_module_version": "1.5.0",
      "model_name": "DescriptionStyleModel",
      "state": {
       "description_width": ""
      }
     },
     "85d9aaaabcd245e897d9a4bd901a1f8a": {
      "model_module": "@jupyter-widgets/controls",
      "model_module_version": "1.5.0",
      "model_name": "ButtonModel",
      "state": {
       "button_style": "success",
       "description": "save changes",
       "layout": "IPY_MODEL_665512094dd546888b4f34410765a24a",
       "style": "IPY_MODEL_1b3bcec649894c4288d28d901cafa7e6"
      }
     },
     "86070129b0c345d6a57ff71c08b1f598": {
      "model_module": "@jupyter-widgets/base",
      "model_module_version": "1.2.0",
      "model_name": "LayoutModel",
      "state": {
       "align_items": "stretch",
       "display": "flex",
       "flex_flow": "row",
       "grid_auto_columns": "True",
       "justify_content": "flex-end",
       "width": "90%"
      }
     },
     "86741cac784e417483356f4ac0d27cf5": {
      "model_module": "@jupyter-widgets/output",
      "model_module_version": "1.0.0",
      "model_name": "OutputModel",
      "state": {
       "layout": "IPY_MODEL_e5d1af8fcfa54d6bb9c4812052277437"
      }
     },
     "867c3ccc7d214985a27128c12c5b4a50": {
      "model_module": "@jupyter-widgets/controls",
      "model_module_version": "1.5.0",
      "model_name": "VBoxModel",
      "state": {
       "children": [
        "IPY_MODEL_1ff17feeaa504672b4f68ce2ba66e803",
        "IPY_MODEL_c9b13f70fe4246c7b300b85fc0239f90"
       ],
       "layout": "IPY_MODEL_5f90d934b31c4ad0b508be4ac6bfd11b"
      }
     },
     "86834984675042da8d9db122157f404c": {
      "model_module": "@jupyter-widgets/base",
      "model_module_version": "1.2.0",
      "model_name": "LayoutModel",
      "state": {}
     },
     "8695d34b73604fa6926a9006b41557ba": {
      "model_module": "@jupyter-widgets/controls",
      "model_module_version": "1.5.0",
      "model_name": "TextModel",
      "state": {
       "layout": "IPY_MODEL_005097af98cf4d1cb6071c61435a2b1e",
       "style": "IPY_MODEL_760aae974e5f4008a9dc5c02fa14d8ef",
       "value": "C:\\engDev\\git_mf\\MF_Toolbox\\dev\\examples\\gbxml\\105_LiveseyExchange_heatpump-normal-fabric.xml"
      }
     },
     "86acd0165140417aa090b92db6fd8a38": {
      "model_module": "@jupyter-widgets/base",
      "model_module_version": "1.2.0",
      "model_name": "LayoutModel",
      "state": {
       "align_items": "stretch",
       "border": "dashed 0.2px green",
       "display": "flex",
       "flex_flow": "row",
       "grid_auto_columns": "True",
       "justify_content": "flex-start",
       "width": "100%"
      }
     },
     "86ec14fb78c942d3b743e9505fdff671": {
      "model_module": "@jupyter-widgets/base",
      "model_module_version": "1.2.0",
      "model_name": "LayoutModel",
      "state": {
       "width": "auto"
      }
     },
     "872ed3d46d67477299b9e149d54c142b": {
      "model_module": "@jupyter-widgets/controls",
      "model_module_version": "1.5.0",
      "model_name": "DescriptionStyleModel",
      "state": {
       "description_width": ""
      }
     },
     "878a7d8d95ce4c8683d8689c17ce6763": {
      "model_module": "@jupyter-widgets/controls",
      "model_module_version": "1.5.0",
      "model_name": "ButtonModel",
      "state": {
       "button_style": "warning",
       "description": "edit inputs",
       "layout": "IPY_MODEL_6a2d9d422b2d4543bba1d8b16cbe9e06",
       "style": "IPY_MODEL_80d64ee27e214020b8d1268139f0f911",
       "tooltip": "edit the user input information that is used when the script is executed"
      }
     },
     "87c29b8750eb46ed93e2cdb00861d88d": {
      "model_module": "@jupyter-widgets/controls",
      "model_module_version": "1.5.0",
      "model_name": "ButtonStyleModel",
      "state": {}
     },
     "880770b3f8ab4d799d7061bc57838bc2": {
      "model_module": "@jupyter-widgets/base",
      "model_module_version": "1.2.0",
      "model_name": "LayoutModel",
      "state": {
       "align_items": "stretch",
       "display": "flex",
       "flex_flow": "row",
       "grid_auto_columns": "True",
       "justify_content": "flex-start",
       "width": "80%"
      }
     },
     "8810f3b33f594ea58bdf6b08f83e04d9": {
      "model_module": "@jupyter-widgets/controls",
      "model_module_version": "1.5.0",
      "model_name": "HBoxModel",
      "state": {
       "children": [
        "IPY_MODEL_ffd9e89fa75a4dd1a45f1e6511a34713",
        "IPY_MODEL_2e282672320148868751073fb782a770"
       ],
       "layout": "IPY_MODEL_db0d903cb84149dd824ecb2e12fc7963"
      }
     },
     "8838055aac5c44129b25b9da083923bb": {
      "model_module": "@jupyter-widgets/base",
      "model_module_version": "1.2.0",
      "model_name": "LayoutModel",
      "state": {
       "grid_area": "dircontent",
       "width": "auto"
      }
     },
     "885702307e8c43c1a52973a1c9f1d30d": {
      "model_module": "@jupyter-widgets/base",
      "model_module_version": "1.2.0",
      "model_name": "LayoutModel",
      "state": {
       "align_items": "stretch",
       "display": "flex",
       "flex_flow": "row",
       "grid_auto_columns": "True",
       "justify_content": "flex-start",
       "width": "80%"
      }
     },
     "8866b5cdad974fa5b558660184579c1d": {
      "model_module": "@jupyter-widgets/controls",
      "model_module_version": "1.5.0",
      "model_name": "HBoxModel",
      "state": {
       "children": [
        "IPY_MODEL_9665c3c7f511484cbb9f90feb238f0d3",
        "IPY_MODEL_f3070ed02b004e868d47cc49a16cf21b"
       ],
       "layout": "IPY_MODEL_35b22da56c6e4178ac57be01611b9847"
      }
     },
     "886b8acf218947c0aaff5c616da67874": {
      "model_module": "@jupyter-widgets/controls",
      "model_module_version": "1.5.0",
      "model_name": "HTMLModel",
      "state": {
       "layout": "IPY_MODEL_f2ad7801c1964d4aad7e497bde61eaa8",
       "style": "IPY_MODEL_101a2ad6848d4a6cb8285bb62956f5ba",
       "value": "<p>label</p>"
      }
     },
     "88b86d827a2341e5aa18181579bc49e0": {
      "model_module": "@jupyter-widgets/controls",
      "model_module_version": "1.5.0",
      "model_name": "ButtonStyleModel",
      "state": {
       "font_weight": "bold"
      }
     },
     "88bf7bc2f06946b5b7f0aa7b2f1ff8a8": {
      "model_module": "@jupyter-widgets/output",
      "model_module_version": "1.0.0",
      "model_name": "OutputModel",
      "state": {
       "layout": "IPY_MODEL_70845349bf1f4138a48b4c45081fa8b6"
      }
     },
     "88ebc7cf806347beb0ab666db90b6a63": {
      "model_module": "@jupyter-widgets/base",
      "model_module_version": "1.2.0",
      "model_name": "LayoutModel",
      "state": {}
     },
     "88febfdb68434454b4702ac9a1d29d43": {
      "model_module": "@jupyter-widgets/controls",
      "model_module_version": "1.5.0",
      "model_name": "HTMLModel",
      "state": {
       "layout": "IPY_MODEL_6f6835c0ef654bca91badd974ba415e4",
       "style": "IPY_MODEL_ea6553056c094d5a9a03afe0bba786f2",
       "value": "<p>fus foo ous o</p>"
      }
     },
     "89091ebf378e43e2ba8f905178e68389": {
      "model_module": "@jupyter-widgets/base",
      "model_module_version": "1.2.0",
      "model_name": "LayoutModel",
      "state": {
       "align_items": "stretch",
       "display": "flex",
       "flex_flow": "row",
       "grid_auto_columns": "True",
       "justify_content": "flex-end",
       "width": "90%"
      }
     },
     "89169a971ed24401b4e40e0d17805e0a": {
      "model_module": "@jupyter-widgets/base",
      "model_module_version": "1.2.0",
      "model_name": "LayoutModel",
      "state": {}
     },
     "891ae25cf2724249aa36413e71e5d86a": {
      "model_module": "@jupyter-widgets/controls",
      "model_module_version": "1.5.0",
      "model_name": "ButtonModel",
      "state": {
       "description": "Select",
       "layout": "IPY_MODEL_6cefe8bb31874565a6b551e510b3e225",
       "style": "IPY_MODEL_80b3c930f3214dddba07cb2af4d316fa"
      }
     },
     "8922fc9efffb4a14bcf74173aafe9957": {
      "model_module": "@jupyter-widgets/controls",
      "model_module_version": "1.5.0",
      "model_name": "HBoxModel",
      "state": {
       "children": [
        "IPY_MODEL_268bc292ed254391a047cfb43a051f9c"
       ],
       "layout": "IPY_MODEL_347709642d9b4784ad5d15c58c7ce317"
      }
     },
     "89432700e5e548229c4380027db48d1b": {
      "model_module": "@jupyter-widgets/base",
      "model_module_version": "1.2.0",
      "model_name": "LayoutModel",
      "state": {
       "align_items": "stretch",
       "display": "flex",
       "flex_flow": "row",
       "grid_auto_columns": "True",
       "justify_content": "flex-end",
       "width": "90%"
      }
     },
     "895f1385146e4fb68bdd4d87a520dcc4": {
      "model_module": "@jupyter-widgets/controls",
      "model_module_version": "1.5.0",
      "model_name": "HBoxModel",
      "state": {
       "children": [
        "IPY_MODEL_c940457a23fd459c928b28b395e51164",
        "IPY_MODEL_09ff5bb7120d4fdab5c7dbe58ec8efcd"
       ],
       "layout": "IPY_MODEL_b7a96490a20b4544b92c3d4ab0198237"
      }
     },
     "8999bbfc41b0473eb07bf9c2eb4b58ce": {
      "model_module": "@jupyter-widgets/controls",
      "model_module_version": "1.5.0",
      "model_name": "HBoxModel",
      "state": {
       "children": [
        "IPY_MODEL_5c6f3cc7363344d8b2ee5ba92567b267"
       ],
       "layout": "IPY_MODEL_d89dd4f3ec1946a5a29c919936db7b1e"
      }
     },
     "8a075eafb10b484db46e3b7dfada4292": {
      "model_module": "@jupyter-widgets/base",
      "model_module_version": "1.2.0",
      "model_name": "LayoutModel",
      "state": {}
     },
     "8a3fc70729574d7bad8c43cd5cbe2a4b": {
      "model_module": "@jupyter-widgets/controls",
      "model_module_version": "1.5.0",
      "model_name": "HTMLModel",
      "state": {
       "layout": "IPY_MODEL_374cf7309e42494c937abc39609434c8",
       "style": "IPY_MODEL_e6b778e04b7f41d3b9d4580cc90d5f20",
       "value": "<p>foo</p>"
      }
     },
     "8a4f2eaeab3945cd972f451880476f21": {
      "model_module": "@jupyter-widgets/controls",
      "model_module_version": "1.5.0",
      "model_name": "DescriptionStyleModel",
      "state": {
       "description_width": ""
      }
     },
     "8a61a330259645bbb7fd7c6c0b94dd2d": {
      "model_module": "@jupyter-widgets/base",
      "model_module_version": "1.2.0",
      "model_name": "LayoutModel",
      "state": {
       "width": "auto"
      }
     },
     "8a89f22725974155a28a68e2c9785882": {
      "model_module": "@jupyter-widgets/controls",
      "model_module_version": "1.5.0",
      "model_name": "DescriptionStyleModel",
      "state": {
       "description_width": ""
      }
     },
     "8a90e11b5aa543daaef3ed8bede4de54": {
      "model_module": "@jupyter-widgets/controls",
      "model_module_version": "1.5.0",
      "model_name": "HTMLModel",
      "state": {
       "layout": "IPY_MODEL_d2ac69554ee64a82a6af1f9888bdd83b",
       "style": "IPY_MODEL_4d7b777dbaa14906ae1edb46e3721372",
       "value": "<p>fus foo ous o</p>"
      }
     },
     "8a9b164df62f4461b991524fd6f9c2b9": {
      "model_module": "@jupyter-widgets/controls",
      "model_module_version": "1.5.0",
      "model_name": "HTMLModel",
      "state": {
       "layout": "IPY_MODEL_59a5cf5c98f6499898b774a8ec819712",
       "style": "IPY_MODEL_d8c48579c44f490a8a05e325bf3dee8c",
       "value": "<p>name</p>"
      }
     },
     "8aeda2c1c5af444781260eab22ae07de": {
      "model_module": "@jupyter-widgets/base",
      "model_module_version": "1.2.0",
      "model_name": "LayoutModel",
      "state": {
       "align_items": "stretch",
       "display": "flex",
       "flex_flow": "row",
       "grid_auto_columns": "True",
       "justify_content": "flex-start",
       "width": "80%"
      }
     },
     "8af3f336051248108ba34340757e936d": {
      "model_module": "@jupyter-widgets/controls",
      "model_module_version": "1.5.0",
      "model_name": "DescriptionStyleModel",
      "state": {
       "description_width": ""
      }
     },
     "8afd64c0c35d4d2a91290c3a67c17667": {
      "model_module": "@jupyter-widgets/output",
      "model_module_version": "1.0.0",
      "model_name": "OutputModel",
      "state": {
       "layout": "IPY_MODEL_0c06ab2ab1ca47b88bf446219c99cdbe"
      }
     },
     "8b0b801b853447a09cf9721c13b87eda": {
      "model_module": "@jupyter-widgets/controls",
      "model_module_version": "1.5.0",
      "model_name": "HTMLModel",
      "state": {
       "layout": "IPY_MODEL_2178a6b3de2d49f4a8018ed9401243d2",
       "style": "IPY_MODEL_bb0f8be1fb714e7583471f91c273d646",
       "value": "<p>label</p>"
      }
     },
     "8b2379d11765462cbc9467bf9dc5bc4d": {
      "model_module": "@jupyter-widgets/base",
      "model_module_version": "1.2.0",
      "model_name": "LayoutModel",
      "state": {
       "display": "flex",
       "flex_flow": "row",
       "grid_auto_columns": "False",
       "justify_content": "flex-start",
       "width": "100%"
      }
     },
     "8b41896c43d64bd5ab02d67e3d4a3c95": {
      "model_module": "@jupyter-widgets/output",
      "model_module_version": "1.0.0",
      "model_name": "OutputModel",
      "state": {
       "layout": "IPY_MODEL_929d728b3d3c4244ba5a91dae3e0ac54"
      }
     },
     "8b77b11bc9eb4ecb832c9789e6160d22": {
      "model_module": "@jupyter-widgets/base",
      "model_module_version": "1.2.0",
      "model_name": "LayoutModel",
      "state": {}
     },
     "8bc6a5536f434999a1abd969b2fb27bd": {
      "model_module": "@jupyter-widgets/controls",
      "model_module_version": "1.5.0",
      "model_name": "HBoxModel",
      "state": {
       "children": [
        "IPY_MODEL_46bc555acdac4b0b98d2867926743f29",
        "IPY_MODEL_65efb493b8004e74ac618f67d703137e"
       ],
       "layout": "IPY_MODEL_5d409b5ca8144962a719ad64cbe48292"
      }
     },
     "8c4b3dde40b247bc9eb01c49a622dd7a": {
      "model_module": "@jupyter-widgets/base",
      "model_module_version": "1.2.0",
      "model_name": "LayoutModel",
      "state": {
       "display": "none"
      }
     },
     "8c98546999984253b3b0f2015a7ec2ac": {
      "model_module": "@jupyter-widgets/controls",
      "model_module_version": "1.5.0",
      "model_name": "HTMLModel",
      "state": {
       "layout": "IPY_MODEL_d1a8693235504124904cf37e36edf9f4",
       "style": "IPY_MODEL_47e77279219c4cf6939ac08a4291d34d",
       "value": "<p>foo</p>"
      }
     },
     "8cea300763384c7b8558762deb121f38": {
      "model_module": "@jupyter-widgets/controls",
      "model_module_version": "1.5.0",
      "model_name": "DescriptionStyleModel",
      "state": {
       "description_width": ""
      }
     },
     "8cef15f6b7de41e1926ce19418bf105d": {
      "model_module": "@jupyter-widgets/controls",
      "model_module_version": "1.5.0",
      "model_name": "HTMLModel",
      "state": {
       "layout": "IPY_MODEL_f726b327165640eda6fa99ab44c6252e",
       "style": "IPY_MODEL_ac6ce274a01c436faa6092d1f34603a8",
       "value": "<p>its a foo cake</p>"
      }
     },
     "8d0a4c76a8664feaa1fcaf7b55fc1a9c": {
      "model_module": "@jupyter-widgets/base",
      "model_module_version": "1.2.0",
      "model_name": "LayoutModel",
      "state": {}
     },
     "8d8fa56168c2441992fa60639d01db2b": {
      "model_module": "@jupyter-widgets/base",
      "model_module_version": "1.2.0",
      "model_name": "LayoutModel",
      "state": {
       "align_items": "stretch",
       "border": "dashed 0.2px green",
       "display": "flex",
       "flex_flow": "row",
       "grid_auto_columns": "True",
       "justify_content": "flex-start",
       "width": "100%"
      }
     },
     "8db5b08a2ec7494495038723cb206c33": {
      "model_module": "@jupyter-widgets/controls",
      "model_module_version": "1.5.0",
      "model_name": "HBoxModel",
      "state": {
       "children": [
        "IPY_MODEL_ed4546589d984c7089eda301d2bb556a",
        "IPY_MODEL_f020f14e7e164ce1a07c4e040bad8c96",
        "IPY_MODEL_14dc11aabde343178717a38cd178c14a"
       ],
       "layout": "IPY_MODEL_91733668e873423cbea4ee612bc166f9"
      }
     },
     "8ddc0a51ff0b46bcba2dbcecaf0131a8": {
      "model_module": "@jupyter-widgets/controls",
      "model_module_version": "1.5.0",
      "model_name": "HBoxModel",
      "state": {
       "children": [
        "IPY_MODEL_6be08dc5e691488abfd9754c6381398b",
        "IPY_MODEL_a278d7101cd84fa29903e194698f5cb9"
       ],
       "layout": "IPY_MODEL_c206f3c15b0d4217b6e3cd5517d1baa3"
      }
     },
     "8e063ca5f3344d4ebf74b2672adf4689": {
      "model_module": "@jupyter-widgets/base",
      "model_module_version": "1.2.0",
      "model_name": "LayoutModel",
      "state": {}
     },
     "8e15e1e210834a4586f4328df29b8b28": {
      "model_module": "@jupyter-widgets/base",
      "model_module_version": "1.2.0",
      "model_name": "LayoutModel",
      "state": {
       "align_items": "stretch",
       "display": "flex",
       "flex_flow": "row",
       "grid_auto_columns": "True",
       "justify_content": "flex-end",
       "width": "90%"
      }
     },
     "8e85e54233154c5a8377248c9a674d4f": {
      "model_module": "@jupyter-widgets/controls",
      "model_module_version": "1.5.0",
      "model_name": "VBoxModel",
      "state": {
       "children": [
        "IPY_MODEL_70e9eebff6944bc2bb38df1b94f004be",
        "IPY_MODEL_7b2066c54bce426cac5335fd811fcb7b",
        "IPY_MODEL_beb01abba1084007ab35f9e0a786a1aa"
       ],
       "layout": "IPY_MODEL_b85cd7b3fe43488385d50f31a9a8418b"
      }
     },
     "8e87153c51314ab3b01d22a2e6face2f": {
      "model_module": "@jupyter-widgets/controls",
      "model_module_version": "1.5.0",
      "model_name": "HTMLModel",
      "state": {
       "layout": "IPY_MODEL_b7bf9096eada497bb7aee1202ec5e39f",
       "style": "IPY_MODEL_f2260412b004447999eddcf33c20ef40",
       "value": "<p>Tag for the Model, used within file naming</p>"
      }
     },
     "8e914bd57cde4a9e841dfd5b234cde84": {
      "model_module": "@jupyter-widgets/output",
      "model_module_version": "1.0.0",
      "model_name": "OutputModel",
      "state": {
       "layout": "IPY_MODEL_b91778be032b4555a32a34563adae6d8"
      }
     },
     "8ef3b5be74454f7c9c96819b43e88a8d": {
      "model_module": "@jupyter-widgets/controls",
      "model_module_version": "1.5.0",
      "model_name": "DescriptionStyleModel",
      "state": {
       "description_width": ""
      }
     },
     "8efa25472e984beab08c1f297a9ff117": {
      "model_module": "@jupyter-widgets/controls",
      "model_module_version": "1.5.0",
      "model_name": "HTMLModel",
      "state": {
       "layout": "IPY_MODEL_03e8dff3af35408ba12b263241f1d377",
       "style": "IPY_MODEL_f896367914114c548c1a9f45a83f9229",
       "value": "<p>2nd section of space name code</p>"
      }
     },
     "8f2cefa7dde94de6bc0db3e47f345f0a": {
      "model_module": "@jupyter-widgets/base",
      "model_module_version": "1.2.0",
      "model_name": "LayoutModel",
      "state": {}
     },
     "8f36ec1ecc28463cb493268c14c9b0da": {
      "model_module": "@jupyter-widgets/controls",
      "model_module_version": "1.5.0",
      "model_name": "DescriptionStyleModel",
      "state": {
       "description_width": ""
      }
     },
     "8f51867008464ea1ac8d2dcff207ee1d": {
      "model_module": "@jupyter-widgets/controls",
      "model_module_version": "1.5.0",
      "model_name": "HTMLModel",
      "state": {
       "layout": "IPY_MODEL_ba520004cb9d44b981e699fe17ac0f76",
       "style": "IPY_MODEL_e1c08b9e0cc34a12ac37db897bc3e7b8",
       "value": "016"
      }
     },
     "8f54562bd61c4a8f98fecd8f2e4b4194": {
      "model_module": "@jupyter-widgets/controls",
      "model_module_version": "1.5.0",
      "model_name": "HBoxModel",
      "state": {
       "children": [
        "IPY_MODEL_15e3ea4174eb4c52a6eb1f67e44e03cf",
        "IPY_MODEL_2691a18de9a34ab8bc7dff2d90ad0e0b"
       ],
       "layout": "IPY_MODEL_17665be58b604b5caa86a2980e3eb7c4"
      }
     },
     "8f5675cab54648a79fffaadf064faf10": {
      "model_module": "@jupyter-widgets/output",
      "model_module_version": "1.0.0",
      "model_name": "OutputModel",
      "state": {
       "layout": "IPY_MODEL_3ec209e32bbf4c3e8af89eb392e665fc"
      }
     },
     "8f5d09bbd0074cd0b05710f12eb74b22": {
      "model_module": "@jupyter-widgets/base",
      "model_module_version": "1.2.0",
      "model_name": "LayoutModel",
      "state": {
       "align_items": "stretch",
       "border": "dashed 0.2px green",
       "display": "flex",
       "flex_flow": "row",
       "grid_auto_columns": "True",
       "justify_content": "flex-start",
       "width": "100%"
      }
     },
     "8fa024fe0c34478189acc54e0c2e427b": {
      "model_module": "@jupyter-widgets/base",
      "model_module_version": "1.2.0",
      "model_name": "LayoutModel",
      "state": {
       "align_items": "stretch",
       "display": "flex",
       "flex_flow": "row",
       "grid_auto_columns": "True",
       "justify_content": "flex-end",
       "width": "90%"
      }
     },
     "8fa3dedc2f6f4821b7947f1fb4f0d3fb": {
      "model_module": "@jupyter-widgets/base",
      "model_module_version": "1.2.0",
      "model_name": "LayoutModel",
      "state": {
       "align_items": "stretch",
       "display": "flex",
       "flex_flow": "row",
       "grid_auto_columns": "True",
       "justify_content": "flex-end",
       "width": "90%"
      }
     },
     "8fd110a9af5147cfb0cfbeb365f5008d": {
      "model_module": "@jupyter-widgets/controls",
      "model_module_version": "1.5.0",
      "model_name": "DescriptionStyleModel",
      "state": {
       "description_width": ""
      }
     },
     "8fe16232476e4c738c0eb4ff09ad6693": {
      "model_module": "@jupyter-widgets/base",
      "model_module_version": "1.2.0",
      "model_name": "LayoutModel",
      "state": {}
     },
     "8ff27cf4f2b149fe8c14f28e6f3179f3": {
      "model_module": "@jupyter-widgets/controls",
      "model_module_version": "1.5.0",
      "model_name": "HTMLModel",
      "state": {
       "layout": "IPY_MODEL_edf1a91610604f6f9f0a50ba87aef2ca",
       "style": "IPY_MODEL_c5584af77ad740fda588c18c89d8794a",
       "value": "<p>name</p>"
      }
     },
     "90079bbaa5d44c3ea5e19932c4107170": {
      "model_module": "@jupyter-widgets/base",
      "model_module_version": "1.2.0",
      "model_name": "LayoutModel",
      "state": {
       "align_items": "stretch",
       "display": "flex",
       "flex_flow": "row",
       "grid_auto_columns": "True",
       "justify_content": "flex-start",
       "width": "80%"
      }
     },
     "901178b324dd4b90bf922852804ccfb8": {
      "model_module": "@jupyter-widgets/base",
      "model_module_version": "1.2.0",
      "model_name": "LayoutModel",
      "state": {}
     },
     "902ae46f08f040498db1d30f0884aafc": {
      "model_module": "@jupyter-widgets/output",
      "model_module_version": "1.0.0",
      "model_name": "OutputModel",
      "state": {
       "layout": "IPY_MODEL_901178b324dd4b90bf922852804ccfb8"
      }
     },
     "90445d78af564965905109bfc003f1a5": {
      "model_module": "@jupyter-widgets/output",
      "model_module_version": "1.0.0",
      "model_name": "OutputModel",
      "state": {
       "layout": "IPY_MODEL_c3d066a02ef948d28af2121a1d58e495"
      }
     },
     "9046b32464e14c68ad9af06d40e8ed34": {
      "model_module": "@jupyter-widgets/controls",
      "model_module_version": "1.5.0",
      "model_name": "TextModel",
      "state": {
       "layout": "IPY_MODEL_50765e28f9484be5a9de47f4ca4f05e3",
       "style": "IPY_MODEL_387e5787985a44578effda399356218e",
       "value": "Block"
      }
     },
     "905e2c7ad0604343b6ac386b0a9e92ca": {
      "model_module": "@jupyter-widgets/controls",
      "model_module_version": "1.5.0",
      "model_name": "HTMLModel",
      "state": {
       "layout": "IPY_MODEL_9a58b22f11664cceb0a274e825e9b9f7",
       "style": "IPY_MODEL_4af72998634543e889c4c30e3542e1b4",
       "value": "<p>reus foo ous oo ous foo st</p>"
      }
     },
     "9078dda655bb4065a14b73254bba4e4d": {
      "model_module": "@jupyter-widgets/controls",
      "model_module_version": "1.5.0",
      "model_name": "DescriptionStyleModel",
      "state": {
       "description_width": ""
      }
     },
     "907c2f8f52934c339e45537c83d89e60": {
      "model_module": "@jupyter-widgets/controls",
      "model_module_version": "1.5.0",
      "model_name": "ToggleButtonModel",
      "state": {
       "icon": "arrow-down",
       "layout": "IPY_MODEL_91f3443cb2fa4658b4f0356d90ddb182",
       "style": "IPY_MODEL_c191f795cfe047fd84f54c34e3bfa8da"
      }
     },
     "9099394b36844d1aaa6c18b99c446fbf": {
      "model_module": "@jupyter-widgets/base",
      "model_module_version": "1.2.0",
      "model_name": "LayoutModel",
      "state": {}
     },
     "90af1cd784e54dfdb86c9279147f7fed": {
      "model_module": "@jupyter-widgets/base",
      "model_module_version": "1.2.0",
      "model_name": "LayoutModel",
      "state": {}
     },
     "90b250e1aa3e4edbb14bc1f78d2b9df5": {
      "model_module": "@jupyter-widgets/controls",
      "model_module_version": "1.5.0",
      "model_name": "DescriptionStyleModel",
      "state": {
       "description_width": ""
      }
     },
     "90b321b8da8e4d349ef69c1fa8dec773": {
      "model_module": "@jupyter-widgets/controls",
      "model_module_version": "1.5.0",
      "model_name": "ButtonModel",
      "state": {
       "description": "load",
       "icon": "upload",
       "layout": "IPY_MODEL_6413320933c042e1be888055d09ba2a9",
       "style": "IPY_MODEL_82c3b515740e48999a421a3cb782b335"
      }
     },
     "90b9a308a0eb42408b0ce05933849200": {
      "model_module": "@jupyter-widgets/controls",
      "model_module_version": "1.5.0",
      "model_name": "HBoxModel",
      "state": {
       "children": [
        "IPY_MODEL_8695d34b73604fa6926a9006b41557ba",
        "IPY_MODEL_fa05281fc809443c88e6bbefa16707cc"
       ],
       "layout": "IPY_MODEL_37413d6564a34682b2b8e4accc662b26"
      }
     },
     "90d7f4135dbc4317a7ca04498d1b9b41": {
      "model_module": "@jupyter-widgets/base",
      "model_module_version": "1.2.0",
      "model_name": "LayoutModel",
      "state": {}
     },
     "911b68f5cce244a5a4d4821d8f806c4e": {
      "model_module": "@jupyter-widgets/base",
      "model_module_version": "1.2.0",
      "model_name": "LayoutModel",
      "state": {
       "align_items": "stretch",
       "display": "flex",
       "flex_flow": "row",
       "grid_auto_columns": "True",
       "justify_content": "flex-start",
       "width": "80%"
      }
     },
     "911fe2219bd94695a275e3bb2fb4842d": {
      "model_module": "@jupyter-widgets/controls",
      "model_module_version": "1.5.0",
      "model_name": "DescriptionStyleModel",
      "state": {
       "description_width": ""
      }
     },
     "913178ff5f5847508c4adf75e3ff5a54": {
      "model_module": "@jupyter-widgets/controls",
      "model_module_version": "1.5.0",
      "model_name": "HTMLModel",
      "state": {
       "layout": "IPY_MODEL_a6998e2d985540ed964eed514a66399d",
       "style": "IPY_MODEL_d5172ed393054ee59a312756d9040bc1",
       "value": "<p>fpth_in</p>"
      }
     },
     "9145a9d36d2c4abaa388c9d6774fa6c7": {
      "model_module": "@jupyter-widgets/controls",
      "model_module_version": "1.5.0",
      "model_name": "HTMLModel",
      "state": {
       "layout": "IPY_MODEL_dcca2b11fcb440569716a46e3c88b225",
       "style": "IPY_MODEL_b0d4b5f0e088438cb627ffbca33cccbf",
       "value": "<p>its a foo cake</p>"
      }
     },
     "914db5938e8846a182e7b4c0023ced49": {
      "model_module": "@jupyter-widgets/base",
      "model_module_version": "1.2.0",
      "model_name": "LayoutModel",
      "state": {}
     },
     "914e1bdce16248eb9b1ba2c3f1ea1b98": {
      "model_module": "@jupyter-widgets/base",
      "model_module_version": "1.2.0",
      "model_name": "LayoutModel",
      "state": {}
     },
     "91733668e873423cbea4ee612bc166f9": {
      "model_module": "@jupyter-widgets/base",
      "model_module_version": "1.2.0",
      "model_name": "LayoutModel",
      "state": {}
     },
     "917d4b759d514ac48d990e9e8871caee": {
      "model_module": "@jupyter-widgets/controls",
      "model_module_version": "1.5.0",
      "model_name": "ButtonStyleModel",
      "state": {
       "font_weight": "bold"
      }
     },
     "91b3231785fe4afc8634df3ebdb938d2": {
      "model_module": "@jupyter-widgets/controls",
      "model_module_version": "1.5.0",
      "model_name": "VBoxModel",
      "state": {
       "layout": "IPY_MODEL_aeed7c3b656c4afabe6911fa48de2bab"
      }
     },
     "91d2e6f40e6a44f19e3b8eb39f444d58": {
      "model_module": "@jupyter-widgets/base",
      "model_module_version": "1.2.0",
      "model_name": "LayoutModel",
      "state": {}
     },
     "91f3443cb2fa4658b4f0356d90ddb182": {
      "model_module": "@jupyter-widgets/base",
      "model_module_version": "1.2.0",
      "model_name": "LayoutModel",
      "state": {}
     },
     "91fc52d141a044d5bd2201bfb4ecd298": {
      "model_module": "@jupyter-widgets/controls",
      "model_module_version": "1.5.0",
      "model_name": "DescriptionStyleModel",
      "state": {
       "description_width": ""
      }
     },
     "922a42aa44994b05a662d136da5de78d": {
      "model_module": "@jupyter-widgets/controls",
      "model_module_version": "1.5.0",
      "model_name": "DescriptionStyleModel",
      "state": {
       "description_width": ""
      }
     },
     "9272e3eec13342238182425166536402": {
      "model_module": "@jupyter-widgets/base",
      "model_module_version": "1.2.0",
      "model_name": "LayoutModel",
      "state": {}
     },
     "929162a08d9b45fe9cb3718f285ad999": {
      "model_module": "@jupyter-widgets/controls",
      "model_module_version": "1.5.0",
      "model_name": "HBoxModel",
      "state": {
       "children": [
        "IPY_MODEL_08013686593e4a23a362f1ee7a013c2f"
       ],
       "layout": "IPY_MODEL_57dcbb58083a4417bdcf743270ff6687"
      }
     },
     "9299f690b8dc4caa97593799d5f38955": {
      "model_module": "@jupyter-widgets/controls",
      "model_module_version": "1.5.0",
      "model_name": "HBoxModel",
      "state": {
       "children": [
        "IPY_MODEL_7e0cf85da60343d087461aeab3afc5a6"
       ],
       "layout": "IPY_MODEL_06070f16fa764f3991530165194a553b"
      }
     },
     "929d728b3d3c4244ba5a91dae3e0ac54": {
      "model_module": "@jupyter-widgets/base",
      "model_module_version": "1.2.0",
      "model_name": "LayoutModel",
      "state": {}
     },
     "92a4b8bc21ba4dd499b1f2e9e0808290": {
      "model_module": "@jupyter-widgets/controls",
      "model_module_version": "1.5.0",
      "model_name": "HBoxModel",
      "state": {
       "children": [
        "IPY_MODEL_d81e3f3777d64a44904fa2cbd9ade970",
        "IPY_MODEL_8efa25472e984beab08c1f297a9ff117"
       ],
       "layout": "IPY_MODEL_65affdff0719478fa62163fd3ad2388f"
      }
     },
     "92afe899ad384f428c1548da2f42ec1e": {
      "model_module": "@jupyter-widgets/base",
      "model_module_version": "1.2.0",
      "model_name": "LayoutModel",
      "state": {}
     },
     "92c660a24b384f24b3cfc016e6cdce80": {
      "model_module": "@jupyter-widgets/base",
      "model_module_version": "1.2.0",
      "model_name": "LayoutModel",
      "state": {
       "align_items": "stretch",
       "display": "flex",
       "flex_flow": "row",
       "grid_auto_columns": "True",
       "justify_content": "flex-start",
       "width": "80%"
      }
     },
     "92c683fc8e9d4ca69bc7863d728a1542": {
      "model_module": "@jupyter-widgets/controls",
      "model_module_version": "1.5.0",
      "model_name": "HTMLModel",
      "state": {
       "layout": "IPY_MODEL_cd3078c68a344942b74d43ab0d1a572f",
       "style": "IPY_MODEL_ab72f753dece4a16bfb050e20c1b0510"
      }
     },
     "92d43f7105cf4f3b939dd39e77f33bb3": {
      "model_module": "@jupyter-widgets/controls",
      "model_module_version": "1.5.0",
      "model_name": "HBoxModel",
      "state": {
       "children": [
        "IPY_MODEL_e9b0e894f110492c9b895f0e549eb2e7",
        "IPY_MODEL_acb331c63ffd4a26ad11039553e7dba7"
       ],
       "layout": "IPY_MODEL_c44a63258e5246fe95c58770e3bfc493"
      }
     },
     "92ffd7ebd7d54425ac6fb96f7050a531": {
      "model_module": "@jupyter-widgets/base",
      "model_module_version": "1.2.0",
      "model_name": "LayoutModel",
      "state": {}
     },
     "9310ef44024942f097eb8dea09e56a7b": {
      "model_module": "@jupyter-widgets/base",
      "model_module_version": "1.2.0",
      "model_name": "LayoutModel",
      "state": {
       "align_items": "stretch",
       "display": "flex",
       "flex_flow": "row",
       "grid_auto_columns": "True",
       "justify_content": "flex-end",
       "width": "90%"
      }
     },
     "9331f52afaec4b7c8b17badda94eaf4e": {
      "model_module": "@jupyter-widgets/base",
      "model_module_version": "1.2.0",
      "model_name": "LayoutModel",
      "state": {}
     },
     "9365ce9762b844d28bdfb69c7aaa8ad4": {
      "model_module": "@jupyter-widgets/base",
      "model_module_version": "1.2.0",
      "model_name": "LayoutModel",
      "state": {
       "grid_area": "dircontent",
       "width": "auto"
      }
     },
     "9390b94adbc74f50813d54ee9a191566": {
      "model_module": "@jupyter-widgets/output",
      "model_module_version": "1.0.0",
      "model_name": "OutputModel",
      "state": {
       "layout": "IPY_MODEL_4cc45522044a41869ad2f17ba6727373"
      }
     },
     "9390f4400ca74df6b0d7dc2c58867cbc": {
      "model_module": "@jupyter-widgets/controls",
      "model_module_version": "1.5.0",
      "model_name": "HTMLModel",
      "state": {
       "layout": "IPY_MODEL_3a4f5605a73046f48584e2b61f302ff2",
       "style": "IPY_MODEL_48b64dbcd2ec4312a632b27bb2d0f89d",
       "value": "<p>its a foo cake</p>"
      }
     },
     "93ad57f50aab4469b3b56ab14644573a": {
      "model_module": "@jupyter-widgets/controls",
      "model_module_version": "1.5.0",
      "model_name": "HTMLModel",
      "state": {
       "layout": "IPY_MODEL_2a2075ea916347e2ae0b391f973c0f81",
       "style": "IPY_MODEL_eb9758e82f864f77a806a0b8cc8bf290",
       "value": "<p>foo</p>"
      }
     },
     "93d4a8ed37314170b3b17f02778d35a5": {
      "model_module": "@jupyter-widgets/controls",
      "model_module_version": "1.5.0",
      "model_name": "VBoxModel",
      "state": {
       "children": [
        "IPY_MODEL_70e9eebff6944bc2bb38df1b94f004be",
        "IPY_MODEL_7b2066c54bce426cac5335fd811fcb7b",
        "IPY_MODEL_beb01abba1084007ab35f9e0a786a1aa"
       ],
       "layout": "IPY_MODEL_19b172a07f5e4433b2aea02c811109f7"
      }
     },
     "93d5baec3c1e4b548fe7f6a26c6a8bfc": {
      "model_module": "@jupyter-widgets/base",
      "model_module_version": "1.2.0",
      "model_name": "LayoutModel",
      "state": {
       "align_items": "stretch",
       "display": "flex",
       "flex_flow": "row",
       "grid_auto_columns": "True",
       "justify_content": "flex-end",
       "width": "90%"
      }
     },
     "94459565eaf14d1996245e485afdf1bd": {
      "model_module": "@jupyter-widgets/controls",
      "model_module_version": "1.5.0",
      "model_name": "HBoxModel",
      "state": {
       "children": [
        "IPY_MODEL_0f8866d038e84424b2915a895b7f9764"
       ],
       "layout": "IPY_MODEL_b59cc0a93c22439998941a47eccf569f"
      }
     },
     "94518f9894a24f3699770de1c39a7945": {
      "model_module": "@jupyter-widgets/controls",
      "model_module_version": "1.5.0",
      "model_name": "HTMLModel",
      "state": {
       "layout": "IPY_MODEL_25dccaa4f97a497a822a263e636ff6c2",
       "style": "IPY_MODEL_5e8d148d89ed4c059122853720fff973",
       "value": "<p>3rd section of space name code (enter None if 3rd section doesn't exist)</p>"
      }
     },
     "94611347cd3f4a34a2b84c4979fff0b9": {
      "model_module": "@jupyter-widgets/base",
      "model_module_version": "1.2.0",
      "model_name": "LayoutModel",
      "state": {}
     },
     "9465095ad32e4368b6dddba185150a1a": {
      "model_module": "@jupyter-widgets/base",
      "model_module_version": "1.2.0",
      "model_name": "LayoutModel",
      "state": {}
     },
     "9488ef43ed554ed9aeafd98efff625cc": {
      "model_module": "@jupyter-widgets/controls",
      "model_module_version": "1.5.0",
      "model_name": "FloatTextModel",
      "state": {
       "layout": "IPY_MODEL_23b01239df5547399c9fdb447c3bf600",
       "step": null,
       "style": "IPY_MODEL_68db15e0c4504c2b93011a607e24a90b",
       "value": 9
      }
     },
     "94bfbe481cd64d05aba996b5e31f1afe": {
      "model_module": "@jupyter-widgets/output",
      "model_module_version": "1.0.0",
      "model_name": "OutputModel",
      "state": {
       "layout": "IPY_MODEL_cda6d5f73550420682a9cd8644ed9e38"
      }
     },
     "94d34f127c074bd0a288216e3cb9f693": {
      "model_module": "@jupyter-widgets/controls",
      "model_module_version": "1.5.0",
      "model_name": "HTMLModel",
      "state": {
       "layout": "IPY_MODEL_c7efcbb0ee7043c8ba43e3f4e374bda9",
       "style": "IPY_MODEL_aaae3bcd71064390b315115429314e80",
       "value": "<p>File Tag</p>"
      }
     },
     "951403aab9a5442fbc194537ba804a35": {
      "model_module": "@jupyter-widgets/controls",
      "model_module_version": "1.5.0",
      "model_name": "HTMLModel",
      "state": {
       "layout": "IPY_MODEL_2b48c0f291264fccb1caa3f10f997e16",
       "style": "IPY_MODEL_2dd8baa680c7473d856332094eb1844c",
       "value": "<p>its a foo cake</p>"
      }
     },
     "952a8b232d4b4778bd6b8555eeadfe9c": {
      "model_module": "@jupyter-widgets/controls",
      "model_module_version": "1.5.0",
      "model_name": "HBoxModel",
      "state": {
       "children": [
        "IPY_MODEL_f176470e1e5444258751953e7e76b4a6",
        "IPY_MODEL_d76dd7a87b4049838e66d7c586fd9cb6"
       ],
       "layout": "IPY_MODEL_abc1188ce9fd4608876725a6c12ff5d8"
      }
     },
     "95639a02c5e24f4487c6639c2f00241d": {
      "model_module": "@jupyter-widgets/controls",
      "model_module_version": "1.5.0",
      "model_name": "AccordionModel",
      "state": {
       "_titles": {
        "0": "gbxml"
       },
       "children": [
        "IPY_MODEL_badb4af156744ebaade03e9b25a6a94b"
       ],
       "layout": "IPY_MODEL_1af40dcd3ad2431ba7b724024fcfdd57",
       "selected_index": null
      }
     },
     "9569bf835af64807a5b8b2e8d6e634cb": {
      "model_module": "@jupyter-widgets/controls",
      "model_module_version": "1.5.0",
      "model_name": "DescriptionStyleModel",
      "state": {
       "description_width": ""
      }
     },
     "959247567b0c4851a971bce17e5d4849": {
      "model_module": "@jupyter-widgets/controls",
      "model_module_version": "1.5.0",
      "model_name": "HTMLModel",
      "state": {
       "layout": "IPY_MODEL_60ef03c2c78d4c998d2252189652ab65",
       "style": "IPY_MODEL_b5e50292adf04d5195496ed3df431f82",
       "value": "<p>its a foo cake</p>"
      }
     },
     "95c6f1ce37b2467e96e230e835616b4e": {
      "model_module": "@jupyter-widgets/base",
      "model_module_version": "1.2.0",
      "model_name": "LayoutModel",
      "state": {}
     },
     "95c9308f98134a98b097d0e377ed8885": {
      "model_module": "@jupyter-widgets/controls",
      "model_module_version": "1.5.0",
      "model_name": "HTMLModel",
      "state": {
       "layout": "IPY_MODEL_a501f9d6851a416299f7c6b9eed31ed5",
       "style": "IPY_MODEL_f9f37f2552db42eeaeee242590d3aa34",
       "value": "<p>reous foo ous foo st</p>"
      }
     },
     "961186248cc5496aadb57410ce6f184f": {
      "model_module": "@jupyter-widgets/controls",
      "model_module_version": "1.5.0",
      "model_name": "HTMLModel",
      "state": {
       "layout": "IPY_MODEL_653bebde575a4ef686a2a7752ac282ed",
       "style": "IPY_MODEL_e75265f22e8a4d0cb0469795d8f4316b",
       "value": "<p>name</p>"
      }
     },
     "964e54fd39594de9b3b0d1b7161e9072": {
      "model_module": "@jupyter-widgets/controls",
      "model_module_version": "1.5.0",
      "model_name": "HTMLModel",
      "state": {
       "layout": "IPY_MODEL_0647568417a448cb9a99fd28e404a065",
       "style": "IPY_MODEL_37aface13f764c3cb3e4c793bedcef98",
       "value": "<p>fpth_in</p>"
      }
     },
     "965fcbe47de544feb50b54f52d32d64d": {
      "model_module": "@jupyter-widgets/base",
      "model_module_version": "1.2.0",
      "model_name": "LayoutModel",
      "state": {
       "grid_area": "pathlist",
       "width": "auto"
      }
     },
     "9663ddc478724105baeaf6fe25f9aeeb": {
      "model_module": "@jupyter-widgets/controls",
      "model_module_version": "1.5.0",
      "model_name": "TextareaModel",
      "state": {
       "layout": "IPY_MODEL_4734d7f819b74d2b847621ffd3bf4b10",
       "style": "IPY_MODEL_e14b7c3cfa0e4d3fb48be423ba085509",
       "value": "asdfasdf"
      }
     },
     "9665c3c7f511484cbb9f90feb238f0d3": {
      "model_module": "@jupyter-widgets/controls",
      "model_module_version": "1.5.0",
      "model_name": "HBoxModel",
      "state": {
       "children": [
        "IPY_MODEL_989248a5c0c3453a92d34241b775aaa4",
        "IPY_MODEL_eee6867a27f549f593082a31a7ce3317"
       ],
       "layout": "IPY_MODEL_49d4e5bbab594b05b45a5b7f0c914b3f"
      }
     },
     "9695eaa19a404e7e8c5d60692c54719a": {
      "model_module": "@jupyter-widgets/base",
      "model_module_version": "1.2.0",
      "model_name": "LayoutModel",
      "state": {
       "align_items": "stretch",
       "display": "flex",
       "flex_flow": "row",
       "grid_auto_columns": "True",
       "justify_content": "flex-start",
       "width": "80%"
      }
     },
     "96a001243b184038b8231213b081b4f5": {
      "model_module": "@jupyter-widgets/controls",
      "model_module_version": "1.5.0",
      "model_name": "DescriptionStyleModel",
      "state": {
       "description_width": ""
      }
     },
     "96ca2dcbdfef42a3b0dd19e3948537ff": {
      "model_module": "@jupyter-widgets/controls",
      "model_module_version": "1.5.0",
      "model_name": "FloatTextModel",
      "state": {
       "layout": "IPY_MODEL_1310f8dccfb24463a6ff42d2e5e89c28",
       "step": null,
       "style": "IPY_MODEL_0859792399094bce811c7b661c0e39e0",
       "value": 9
      }
     },
     "96f45f7043104869a7365f8db6f006ef": {
      "model_module": "@jupyter-widgets/base",
      "model_module_version": "1.2.0",
      "model_name": "LayoutModel",
      "state": {}
     },
     "97085d4e9d904139a5630288aad2fadc": {
      "model_module": "@jupyter-widgets/base",
      "model_module_version": "1.2.0",
      "model_name": "LayoutModel",
      "state": {}
     },
     "973e50913bcf4d07a2636c5cdd9111bd": {
      "model_module": "@jupyter-widgets/base",
      "model_module_version": "1.2.0",
      "model_name": "LayoutModel",
      "state": {}
     },
     "97623d12032b4401bb806790dc06a59c": {
      "model_module": "@jupyter-widgets/controls",
      "model_module_version": "1.5.0",
      "model_name": "RadioButtonsModel",
      "state": {
       "_options_labels": [
        "TEMPLATE: C:\\engDev\\git_mf\\MF_Toolbox\\dev\\mf_scripts\\template_inputs\\inputs-docx_to_pdf.json",
        "PROJECT: C:\\engDev\\git_mf\\ipyrun\\ipyrun\\appdata\\inputs\\inputs-docx_to_pdf.json",
        "PROJECT: C:\\engDev\\git_mf\\ipyrun\\ipyrun\\appdata\\inputs\\archive\\20200610_1134-jg-inputs-docx_to_pdf.json",
        "PROJECT: C:\\engDev\\git_mf\\ipyrun\\ipyrun\\appdata\\inputs\\archive\\20200610_1139-jg-inputs-docx_to_pdf.json",
        "PROJECT: C:\\engDev\\git_mf\\ipyrun\\ipyrun\\appdata\\inputs\\archive\\20200610_1218-jg-inputs-docx_to_pdf.json",
        "PROJECT: C:\\engDev\\git_mf\\ipyrun\\ipyrun\\appdata\\inputs\\archive\\20200610_1220-jg-inputs-docx_to_pdf.json",
        "PROJECT: C:\\engDev\\git_mf\\ipyrun\\ipyrun\\appdata\\inputs\\archive\\20200610_1221-jg-inputs-docx_to_pdf.json",
        "PROJECT: C:\\engDev\\git_mf\\ipyrun\\ipyrun\\appdata\\inputs\\archive\\20200610_1224-jg-inputs-docx_to_pdf.json",
        "PROJECT: C:\\engDev\\git_mf\\ipyrun\\ipyrun\\appdata\\inputs\\archive\\20200610_1225-jg-inputs-docx_to_pdf.json",
        "PROJECT: C:\\engDev\\git_mf\\ipyrun\\ipyrun\\appdata\\inputs\\archive\\20200610_1244-jg-inputs-docx_to_pdf.json",
        "PROJECT: C:\\engDev\\git_mf\\ipyrun\\ipyrun\\appdata\\inputs\\archive\\20200610_1246-jg-inputs-docx_to_pdf.json",
        "PROJECT: C:\\engDev\\git_mf\\ipyrun\\ipyrun\\appdata\\inputs\\archive\\20200610_1419-jg-inputs-docx_to_pdf.json",
        "PROJECT: C:\\engDev\\git_mf\\ipyrun\\ipyrun\\appdata\\inputs\\archive\\20200610_1420-jg-inputs-docx_to_pdf.json",
        "PROJECT: C:\\engDev\\git_mf\\ipyrun\\ipyrun\\appdata\\inputs\\archive\\20200610_1422-jg-inputs-docx_to_pdf.json",
        "PROJECT: C:\\engDev\\git_mf\\ipyrun\\ipyrun\\appdata\\inputs\\archive\\20200610_1425-jg-inputs-docx_to_pdf.json",
        "PROJECT: C:\\engDev\\git_mf\\ipyrun\\ipyrun\\appdata\\inputs\\archive\\20200610_1853-jg-inputs-docx_to_pdf.json",
        "PROJECT: C:\\engDev\\git_mf\\ipyrun\\ipyrun\\appdata\\inputs\\archive\\20200610_1855-jg-inputs-docx_to_pdf.json",
        "PROJECT: C:\\engDev\\git_mf\\ipyrun\\ipyrun\\appdata\\inputs\\archive\\20200611_0748-jg-inputs-docx_to_pdf.json",
        "PROJECT: C:\\engDev\\git_mf\\ipyrun\\ipyrun\\appdata\\inputs\\archive\\20200611_0754-jg-inputs-docx_to_pdf.json",
        "PROJECT: C:\\engDev\\git_mf\\ipyrun\\ipyrun\\appdata\\inputs\\archive\\20200611_0757-jg-inputs-docx_to_pdf.json",
        "PROJECT: C:\\engDev\\git_mf\\ipyrun\\ipyrun\\appdata\\inputs\\archive\\20200616_1026-jg-inputs-docx_to_pdf.json"
       ],
       "index": 0,
       "layout": "IPY_MODEL_524c966e9a734caa9bea0de776d15f4e",
       "style": "IPY_MODEL_1620c50430804eb48388e8b3de757ea0"
      }
     },
     "976cff14021643bfa19295f9b929e882": {
      "model_module": "@jupyter-widgets/controls",
      "model_module_version": "1.5.0",
      "model_name": "DescriptionStyleModel",
      "state": {
       "description_width": ""
      }
     },
     "977d6181492f49b9a5a613daa7cda1f3": {
      "model_module": "@jupyter-widgets/controls",
      "model_module_version": "1.5.0",
      "model_name": "HBoxModel",
      "state": {
       "children": [
        "IPY_MODEL_fdf47591bd8c403bb86e720af3be9ec2",
        "IPY_MODEL_7a4d52549fe04d4b8775774bffb334e9"
       ],
       "layout": "IPY_MODEL_daeaec659063409fbaa544ebbc0d4201"
      }
     },
     "9796983a933145f1b2710b965a788ae3": {
      "model_module": "@jupyter-widgets/output",
      "model_module_version": "1.0.0",
      "model_name": "OutputModel",
      "state": {
       "layout": "IPY_MODEL_67669b5dfacf420b9a8d5571a61b37f6"
      }
     },
     "97b1e29cd22947f6b89e532a3bbf1bf2": {
      "model_module": "@jupyter-widgets/controls",
      "model_module_version": "1.5.0",
      "model_name": "DescriptionStyleModel",
      "state": {
       "description_width": ""
      }
     },
     "97fea44fceaf45c39f86278dc7bc11aa": {
      "model_module": "@jupyter-widgets/base",
      "model_module_version": "1.2.0",
      "model_name": "LayoutModel",
      "state": {
       "align_items": "stretch",
       "border": "dashed 0.2px green",
       "display": "flex",
       "flex_flow": "row",
       "grid_auto_columns": "True",
       "justify_content": "flex-start",
       "width": "100%"
      }
     },
     "981c7671a52c4f7b9a55c2594e311bd0": {
      "model_module": "@jupyter-widgets/controls",
      "model_module_version": "1.5.0",
      "model_name": "ToggleButtonModel",
      "state": {
       "icon": "arrow-down",
       "layout": "IPY_MODEL_3fe50508fb584d388bd4f9cda0f37d56",
       "style": "IPY_MODEL_0d98b92a84e841bfb174d3ab726969cb"
      }
     },
     "98897bdbe5924902adf34f7a75e9fdaa": {
      "model_module": "@jupyter-widgets/base",
      "model_module_version": "1.2.0",
      "model_name": "LayoutModel",
      "state": {
       "align_items": "stretch",
       "border": "dashed 0.2px green",
       "display": "flex",
       "flex_flow": "row",
       "grid_auto_columns": "True",
       "justify_content": "flex-start",
       "width": "100%"
      }
     },
     "989248a5c0c3453a92d34241b775aaa4": {
      "model_module": "@jupyter-widgets/controls",
      "model_module_version": "1.5.0",
      "model_name": "HTMLModel",
      "state": {
       "layout": "IPY_MODEL_5164910abef845eea4a0a041cc0504aa",
       "style": "IPY_MODEL_a9cf39f5e27b45708caaac7bb01633bc",
       "value": "<p>reous foo ous foo st</p>"
      }
     },
     "9901d86550b143eaa4e9126119702cba": {
      "model_module": "@jupyter-widgets/controls",
      "model_module_version": "1.5.0",
      "model_name": "HBoxModel",
      "state": {
       "children": [
        "IPY_MODEL_d31dfacfce90452a983406934995a9c7",
        "IPY_MODEL_67e9dc67a12e488db0ee3bf2e94d1cf2"
       ],
       "layout": "IPY_MODEL_9cd9adf5caf44b9185ecf4de3f4bf7aa"
      }
     },
     "99193ed5bde74fff8eaf960f90c94f6d": {
      "model_module": "@jupyter-widgets/base",
      "model_module_version": "1.2.0",
      "model_name": "LayoutModel",
      "state": {}
     },
     "9955284a1049450cb20f57398dab82e5": {
      "model_module": "@jupyter-widgets/controls",
      "model_module_version": "1.5.0",
      "model_name": "DescriptionStyleModel",
      "state": {
       "description_width": ""
      }
     },
     "995ae4f2d1834d41939f6e540da57cae": {
      "model_module": "@jupyter-widgets/base",
      "model_module_version": "1.2.0",
      "model_name": "LayoutModel",
      "state": {
       "align_items": "stretch",
       "display": "flex",
       "flex_flow": "row",
       "grid_auto_columns": "True",
       "justify_content": "flex-end",
       "width": "90%"
      }
     },
     "999bdd9edbf5430b9b3e1a0e1d6cafec": {
      "model_module": "@jupyter-widgets/controls",
      "model_module_version": "1.5.0",
      "model_name": "DescriptionStyleModel",
      "state": {
       "description_width": ""
      }
     },
     "999ddeafabe941ce9a521de4192e39c9": {
      "model_module": "@jupyter-widgets/base",
      "model_module_version": "1.2.0",
      "model_name": "LayoutModel",
      "state": {}
     },
     "99b163c98eb4496ab89de65c8e80556d": {
      "model_module": "@jupyter-widgets/base",
      "model_module_version": "1.2.0",
      "model_name": "LayoutModel",
      "state": {
       "align_items": "stretch",
       "border": "dashed 0.2px green",
       "display": "flex",
       "flex_flow": "row",
       "grid_auto_columns": "True",
       "justify_content": "flex-start",
       "width": "100%"
      }
     },
     "99e3832022294a489eea12463dfe20fa": {
      "model_module": "@jupyter-widgets/controls",
      "model_module_version": "1.5.0",
      "model_name": "VBoxModel",
      "state": {
       "children": [
        "IPY_MODEL_5592ff2d857845cf86fc8745baf2ebdc",
        "IPY_MODEL_252ce3a372d04009976ed2a18fc5628e",
        "IPY_MODEL_684a8330316f41f1ba2d24585303769b",
        "IPY_MODEL_cb6c8d4489d149edb2e854a14a70c087",
        "IPY_MODEL_b4b9ff03ac2e4998a698f244f7797888",
        "IPY_MODEL_137767c54c624bb8943dd73f250c1acf",
        "IPY_MODEL_065d0e2c220f4277a86df7380d338402",
        "IPY_MODEL_1a1708f124cd452b91a52dcb1a59e475"
       ],
       "layout": "IPY_MODEL_3ff907efc60e461e91038122d1ff23cb"
      }
     },
     "9a301adafa6443e29cc63dca489b6e36": {
      "model_module": "@jupyter-widgets/controls",
      "model_module_version": "1.5.0",
      "model_name": "HTMLModel",
      "state": {
       "layout": "IPY_MODEL_00983c78b0034c868bdd64307144216c",
       "style": "IPY_MODEL_add4bfff4bef4db4b7b9cb1721072a86",
       "value": "<p>its a foo cake</p>"
      }
     },
     "9a3e4f58f99342498ea48669584d1bb3": {
      "model_module": "@jupyter-widgets/base",
      "model_module_version": "1.2.0",
      "model_name": "LayoutModel",
      "state": {}
     },
     "9a4329444aaa4769803a24ef181df234": {
      "model_module": "@jupyter-widgets/base",
      "model_module_version": "1.2.0",
      "model_name": "LayoutModel",
      "state": {}
     },
     "9a45d423f93b4f34a02fe272ce68a5ed": {
      "model_module": "@jupyter-widgets/base",
      "model_module_version": "1.2.0",
      "model_name": "LayoutModel",
      "state": {}
     },
     "9a58b22f11664cceb0a274e825e9b9f7": {
      "model_module": "@jupyter-widgets/base",
      "model_module_version": "1.2.0",
      "model_name": "LayoutModel",
      "state": {}
     },
     "9a73827950454bf1bb36cd183fab3a35": {
      "model_module": "@jupyter-widgets/controls",
      "model_module_version": "1.5.0",
      "model_name": "DescriptionStyleModel",
      "state": {
       "description_width": ""
      }
     },
     "9aafc8f9595f4738a381bc0c3e752390": {
      "model_module": "@jupyter-widgets/controls",
      "model_module_version": "1.5.0",
      "model_name": "DescriptionStyleModel",
      "state": {
       "description_width": ""
      }
     },
     "9ab735355f12443fa8c21943d15aef45": {
      "model_module": "@jupyter-widgets/base",
      "model_module_version": "1.2.0",
      "model_name": "LayoutModel",
      "state": {
       "display": "flex",
       "flex_flow": "row",
       "grid_auto_columns": "False",
       "justify_content": "flex-start",
       "width": "100%"
      }
     },
     "9ae1a2b5143f42eaa40ec7abde92cba6": {
      "model_module": "@jupyter-widgets/base",
      "model_module_version": "1.2.0",
      "model_name": "LayoutModel",
      "state": {
       "align_items": "stretch",
       "display": "flex",
       "flex_flow": "row",
       "grid_auto_columns": "True",
       "justify_content": "flex-start",
       "width": "80%"
      }
     },
     "9b0cc1d932534920803ea71d843bcd7b": {
      "model_module": "@jupyter-widgets/base",
      "model_module_version": "1.2.0",
      "model_name": "LayoutModel",
      "state": {
       "align_items": "stretch",
       "display": "flex",
       "flex_flow": "row",
       "grid_auto_columns": "True",
       "justify_content": "flex-end",
       "width": "90%"
      }
     },
     "9b2166dde662400a9a8700483fdb8c5c": {
      "model_module": "@jupyter-widgets/controls",
      "model_module_version": "1.5.0",
      "model_name": "HTMLModel",
      "state": {
       "layout": "IPY_MODEL_9d6ef9700e8d425791b748b357dd3a3b",
       "style": "IPY_MODEL_e0ac6d64ac734caea828f5be78bb0825",
       "value": "<p>its a foo cake</p>"
      }
     },
     "9b26a1f1663f4d7ba39b408be2d52d9c": {
      "model_module": "@jupyter-widgets/base",
      "model_module_version": "1.2.0",
      "model_name": "LayoutModel",
      "state": {}
     },
     "9b273384e96e44479ecd7e2537dcd0bf": {
      "model_module": "@jupyter-widgets/base",
      "model_module_version": "1.2.0",
      "model_name": "LayoutModel",
      "state": {
       "align_items": "stretch",
       "display": "flex",
       "flex_flow": "row",
       "grid_auto_columns": "True",
       "justify_content": "flex-end",
       "width": "90%"
      }
     },
     "9b3a3826ecc7418b9f039755fcb0be7b": {
      "model_module": "@jupyter-widgets/base",
      "model_module_version": "1.2.0",
      "model_name": "LayoutModel",
      "state": {}
     },
     "9b41434e98ab4e9db7987f569d7ff595": {
      "model_module": "@jupyter-widgets/controls",
      "model_module_version": "1.5.0",
      "model_name": "HTMLModel",
      "state": {
       "layout": "IPY_MODEL_308576b0ac484b809857d0fbf0e9fc13",
       "style": "IPY_MODEL_6c0aaa04b0ea4a4bb45779c05363b43a",
       "value": "<p>its a delicious foo cake</p>"
      }
     },
     "9b5f9efb8f30454996c15d50725c8206": {
      "model_module": "@jupyter-widgets/controls",
      "model_module_version": "1.5.0",
      "model_name": "DescriptionStyleModel",
      "state": {
       "description_width": ""
      }
     },
     "9b8cafb8e5794002b52a401b26109777": {
      "model_module": "@jupyter-widgets/controls",
      "model_module_version": "1.5.0",
      "model_name": "HBoxModel",
      "state": {
       "children": [
        "IPY_MODEL_e2f0c56abd704904a186c6b88758728c"
       ],
       "layout": "IPY_MODEL_2d3cf558cbb04a9395a1a5d8bc816c8f"
      }
     },
     "9b91760e9f9f4c3dbeb1cbe52a88b2d5": {
      "model_module": "@jupyter-widgets/base",
      "model_module_version": "1.2.0",
      "model_name": "LayoutModel",
      "state": {
       "align_items": "stretch",
       "display": "flex",
       "flex_flow": "row",
       "grid_auto_columns": "True",
       "justify_content": "flex-end",
       "width": "90%"
      }
     },
     "9b9ae67aba2048c09bfdd277190f94c1": {
      "model_module": "@jupyter-widgets/controls",
      "model_module_version": "1.5.0",
      "model_name": "HTMLModel",
      "state": {
       "layout": "IPY_MODEL_9b3a3826ecc7418b9f039755fcb0be7b",
       "style": "IPY_MODEL_6716aef6e5494d788416817abaf6b12a",
       "value": "<p>its a foo cake</p>"
      }
     },
     "9bb3911e295b483abb855518798aff7d": {
      "model_module": "@jupyter-widgets/base",
      "model_module_version": "1.2.0",
      "model_name": "LayoutModel",
      "state": {
       "align_items": "stretch",
       "display": "flex",
       "flex_flow": "row",
       "grid_auto_columns": "True",
       "justify_content": "flex-end",
       "width": "90%"
      }
     },
     "9bb96f09b89f44a9bdebdf8157643709": {
      "model_module": "@jupyter-widgets/controls",
      "model_module_version": "1.5.0",
      "model_name": "HBoxModel",
      "state": {
       "children": [
        "IPY_MODEL_dab59aa580124e178ee78f43bba9c52d"
       ],
       "layout": "IPY_MODEL_2a159f6211fb480a8330fbaae607e530"
      }
     },
     "9bbc37a04add4db78b3c44f11178399f": {
      "model_module": "@jupyter-widgets/controls",
      "model_module_version": "1.5.0",
      "model_name": "VBoxModel",
      "state": {
       "children": [
        "IPY_MODEL_70e9eebff6944bc2bb38df1b94f004be",
        "IPY_MODEL_7b2066c54bce426cac5335fd811fcb7b",
        "IPY_MODEL_beb01abba1084007ab35f9e0a786a1aa"
       ],
       "layout": "IPY_MODEL_699fbf60a6e24829bcba45e6f319240f"
      }
     },
     "9bbe99862bb448529d7d889d8d605616": {
      "model_module": "@jupyter-widgets/controls",
      "model_module_version": "1.5.0",
      "model_name": "HTMLModel",
      "state": {
       "layout": "IPY_MODEL_dcb35989a0b141acab6ce03fb7d06788",
       "style": "IPY_MODEL_6fc9005c51f144c0a2cd9b80515828ba",
       "value": "<p>File Tag</p>"
      }
     },
     "9be7aea1651d461a8e49f1fce2ac17ca": {
      "model_module": "@jupyter-widgets/base",
      "model_module_version": "1.2.0",
      "model_name": "LayoutModel",
      "state": {}
     },
     "9c047faee5a548699f769244067788b0": {
      "model_module": "@jupyter-widgets/base",
      "model_module_version": "1.2.0",
      "model_name": "LayoutModel",
      "state": {}
     },
     "9c39b1d8af0144ac972d7491d596dd03": {
      "model_module": "@jupyter-widgets/base",
      "model_module_version": "1.2.0",
      "model_name": "LayoutModel",
      "state": {
       "align_items": "stretch",
       "display": "flex",
       "flex_flow": "row",
       "grid_auto_columns": "True",
       "justify_content": "flex-start",
       "width": "80%"
      }
     },
     "9c87b6d3d3334fbbaeeb4ed411fc64c8": {
      "model_module": "@jupyter-widgets/base",
      "model_module_version": "1.2.0",
      "model_name": "LayoutModel",
      "state": {}
     },
     "9c963c859eab41bbb1cde732c968ecbb": {
      "model_module": "@jupyter-widgets/base",
      "model_module_version": "1.2.0",
      "model_name": "LayoutModel",
      "state": {}
     },
     "9cb87acb45c04b679917100ecb20e57f": {
      "model_module": "@jupyter-widgets/base",
      "model_module_version": "1.2.0",
      "model_name": "LayoutModel",
      "state": {
       "align_items": "stretch",
       "border": "dashed 0.2px green",
       "display": "flex",
       "flex_flow": "row",
       "grid_auto_columns": "True",
       "justify_content": "flex-start",
       "width": "100%"
      }
     },
     "9cd9adf5caf44b9185ecf4de3f4bf7aa": {
      "model_module": "@jupyter-widgets/base",
      "model_module_version": "1.2.0",
      "model_name": "LayoutModel",
      "state": {
       "align_items": "stretch",
       "display": "flex",
       "flex_flow": "row",
       "grid_auto_columns": "True",
       "justify_content": "flex-end",
       "width": "90%"
      }
     },
     "9cdc12671ea34f54bb32c28f601f32ff": {
      "model_module": "@jupyter-widgets/controls",
      "model_module_version": "1.5.0",
      "model_name": "DescriptionStyleModel",
      "state": {
       "description_width": ""
      }
     },
     "9ce4270cbb1444318934eaaf06098d32": {
      "model_module": "@jupyter-widgets/base",
      "model_module_version": "1.2.0",
      "model_name": "LayoutModel",
      "state": {}
     },
     "9cf10a8e82ee4eecbf120d89b27f0bf1": {
      "model_module": "@jupyter-widgets/base",
      "model_module_version": "1.2.0",
      "model_name": "LayoutModel",
      "state": {}
     },
     "9cf5d9c6f6c747c9943e45a8410485c6": {
      "model_module": "@jupyter-widgets/controls",
      "model_module_version": "1.5.0",
      "model_name": "HTMLModel",
      "state": {
       "layout": "IPY_MODEL_f98212eec4fd499ebe0875a13efbeed0",
       "style": "IPY_MODEL_41e9ad25e8fb43f384989330a575d229",
       "value": "<p>foo</p>"
      }
     },
     "9d1ee194b8dc4534bab0e2d729738d1e": {
      "model_module": "@jupyter-widgets/controls",
      "model_module_version": "1.5.0",
      "model_name": "ToggleButtonModel",
      "state": {
       "icon": "arrow-down",
       "layout": "IPY_MODEL_e8cbecc4e67d4488be657f63f220ad32",
       "style": "IPY_MODEL_6a0a20c8c1484affb5e7d72e3bb64d0d"
      }
     },
     "9d25e65f8a8a4325b6ec6bed79001037": {
      "model_module": "@jupyter-widgets/controls",
      "model_module_version": "1.5.0",
      "model_name": "HBoxModel",
      "state": {
       "children": [
        "IPY_MODEL_70a069263fdc46f8aa4e201fd58081c4",
        "IPY_MODEL_07d7e28b0264480488ad0a62e0380eb9"
       ],
       "layout": "IPY_MODEL_995ae4f2d1834d41939f6e540da57cae"
      }
     },
     "9d31537862194f15b645e4aee591cd27": {
      "model_module": "@jupyter-widgets/base",
      "model_module_version": "1.2.0",
      "model_name": "LayoutModel",
      "state": {
       "align_items": "stretch",
       "display": "flex",
       "flex_flow": "row",
       "grid_auto_columns": "True",
       "justify_content": "flex-end",
       "width": "90%"
      }
     },
     "9d572c2e07814ea19cf707eb58445bd6": {
      "model_module": "@jupyter-widgets/controls",
      "model_module_version": "1.5.0",
      "model_name": "SelectMultipleModel",
      "state": {
       "_options_labels": [
        "C:\\engDev\\git_mf\\ipyrun\\data\\raw\\gbxml.xml",
        "C:\\engDev\\git_mf\\ipyrun\\data\\interim\\gbjson.json",
        "C:\\engDev\\git_mf\\ipyrun\\data\\processed\\gbxml_datagrab.xlsx",
        "C:\\engDev\\git_mf\\ipyrun\\data\\processed\\gbxml_spcs-treemap.png"
       ],
       "description": "outputs",
       "index": [],
       "layout": "IPY_MODEL_7f8527a420cc4124b67398debee49c09",
       "rows": 4,
       "style": "IPY_MODEL_f54bbf2fe6f948ce8ae7714eea68967b"
      }
     },
     "9d642fff57e94abca771aa42e05448b4": {
      "model_module": "@jupyter-widgets/controls",
      "model_module_version": "1.5.0",
      "model_name": "ButtonModel",
      "state": {
       "button_style": "success",
       "description": "save",
       "layout": "IPY_MODEL_5d890a4a95514e939aa13489261b78aa",
       "style": "IPY_MODEL_d5fa5fe6e140482192de07cf963c19a4"
      }
     },
     "9d690f03dcb54bbfaecee970e6b0981f": {
      "model_module": "@jupyter-widgets/base",
      "model_module_version": "1.2.0",
      "model_name": "LayoutModel",
      "state": {
       "align_items": "stretch",
       "display": "flex",
       "flex_flow": "row",
       "grid_auto_columns": "True",
       "justify_content": "flex-start",
       "width": "80%"
      }
     },
     "9d6ef9700e8d425791b748b357dd3a3b": {
      "model_module": "@jupyter-widgets/base",
      "model_module_version": "1.2.0",
      "model_name": "LayoutModel",
      "state": {}
     },
     "9d98571d8449429e938ff86554c974e0": {
      "model_module": "@jupyter-widgets/controls",
      "model_module_version": "1.5.0",
      "model_name": "HBoxModel",
      "state": {
       "children": [
        "IPY_MODEL_8a90e11b5aa543daaef3ed8bede4de54",
        "IPY_MODEL_21bc436a56d3410d89465ccfb02b06bc"
       ],
       "layout": "IPY_MODEL_6abd6895e22d4251b226622a65fec8c2"
      }
     },
     "9db4ffbe31b94dfab3b2c6893e2a243b": {
      "model_module": "@jupyter-widgets/base",
      "model_module_version": "1.2.0",
      "model_name": "LayoutModel",
      "state": {
       "display": "none",
       "width": "auto"
      }
     },
     "9e024043c3e0482f802a73a7a5c8227d": {
      "model_module": "@jupyter-widgets/controls",
      "model_module_version": "1.5.0",
      "model_name": "DescriptionStyleModel",
      "state": {
       "description_width": ""
      }
     },
     "9e16809764064bd4962403706418fb67": {
      "model_module": "@jupyter-widgets/base",
      "model_module_version": "1.2.0",
      "model_name": "LayoutModel",
      "state": {}
     },
     "9e44cb98249c4bb7a0e6fb3b0f4cb0bd": {
      "model_module": "@jupyter-widgets/controls",
      "model_module_version": "1.5.0",
      "model_name": "HBoxModel",
      "state": {
       "children": [
        "IPY_MODEL_7dc3147b8ae440bc8f5b81a61b0025db",
        "IPY_MODEL_384765c2e07e4e9693068deba44f0487"
       ],
       "layout": "IPY_MODEL_df0af29eedf2462295096bf16ebe7db1"
      }
     },
     "9e640b4d64cf42b4831f3114aafe4adf": {
      "model_module": "@jupyter-widgets/controls",
      "model_module_version": "1.5.0",
      "model_name": "ButtonModel",
      "state": {
       "button_style": "success",
       "description": "save changes",
       "layout": "IPY_MODEL_c70d759e653549769dc5c706d9f83b6d",
       "style": "IPY_MODEL_3e795a7e0f3845c6bfc3190577d3a966"
      }
     },
     "9e6a836035444703a03a32a4d77ecda8": {
      "model_module": "@jupyter-widgets/base",
      "model_module_version": "1.2.0",
      "model_name": "LayoutModel",
      "state": {
       "align_items": "stretch",
       "display": "flex",
       "flex_flow": "row",
       "grid_auto_columns": "True",
       "justify_content": "flex-end",
       "width": "90%"
      }
     },
     "9e843087ba854324afb4b95a6e0a31b8": {
      "model_module": "@jupyter-widgets/controls",
      "model_module_version": "1.5.0",
      "model_name": "TextModel",
      "state": {
       "layout": "IPY_MODEL_84042166d81c44928744300dd5bd9101",
       "style": "IPY_MODEL_1255ff144b2644d7acab899710862861",
       "value": "SpaceType"
      }
     },
     "9eb4b7d0c2ce42398a4d46ddff8f28ad": {
      "model_module": "@jupyter-widgets/controls",
      "model_module_version": "1.5.0",
      "model_name": "DescriptionStyleModel",
      "state": {
       "description_width": ""
      }
     },
     "9ec210867c204b649b63807ee23ae76d": {
      "model_module": "@jupyter-widgets/controls",
      "model_module_version": "1.5.0",
      "model_name": "DescriptionStyleModel",
      "state": {
       "description_width": ""
      }
     },
     "9ecdaeb4088f432f98fdf12489e2a3ae": {
      "model_module": "@jupyter-widgets/controls",
      "model_module_version": "1.5.0",
      "model_name": "HTMLModel",
      "state": {
       "layout": "IPY_MODEL_5b2aa136bc69442cbb62c5fdf193332c",
       "style": "IPY_MODEL_678460c043ca4559a4c17d90a78bab22",
       "value": "<p>reous foo ous foo st</p>"
      }
     },
     "9edaa424a0da4500b4f2d866e9dd5647": {
      "model_module": "@jupyter-widgets/base",
      "model_module_version": "1.2.0",
      "model_name": "LayoutModel",
      "state": {
       "align_items": "stretch",
       "border": "dashed 0.2px green",
       "display": "flex",
       "flex_flow": "row",
       "grid_auto_columns": "True",
       "justify_content": "flex-start",
       "width": "100%"
      }
     },
     "9f0b871207464f658dc2408f16efd079": {
      "model_module": "@jupyter-widgets/controls",
      "model_module_version": "1.5.0",
      "model_name": "DescriptionStyleModel",
      "state": {
       "description_width": ""
      }
     },
     "9f19fc197d794e3aa77fd3ca0efeb959": {
      "model_module": "@jupyter-widgets/base",
      "model_module_version": "1.2.0",
      "model_name": "LayoutModel",
      "state": {}
     },
     "9f2123230c1e4aa28ea2970fa81b363e": {
      "model_module": "@jupyter-widgets/controls",
      "model_module_version": "1.5.0",
      "model_name": "ButtonStyleModel",
      "state": {
       "font_weight": "bold"
      }
     },
     "9f2d9df1dee04fbc93d5a1c232d50e05": {
      "model_module": "@jupyter-widgets/output",
      "model_module_version": "1.0.0",
      "model_name": "OutputModel",
      "state": {
       "layout": "IPY_MODEL_1ef42eb4fb704bb8beb2007633743b52",
       "outputs": [
        {
         "data": {
          "application/vnd.jupyter.widget-view+json": {
           "model_id": "",
           "version_major": 2,
           "version_minor": 0
          },
          "text/plain": "Output()"
         },
         "metadata": {},
         "output_type": "display_data"
        }
       ]
      }
     },
     "9f36f04b78b044bcb6e7f450d48a56b5": {
      "model_module": "@jupyter-widgets/base",
      "model_module_version": "1.2.0",
      "model_name": "LayoutModel",
      "state": {}
     },
     "9f9acaa8a26241c395d39d3f2dcc2dd2": {
      "model_module": "@jupyter-widgets/base",
      "model_module_version": "1.2.0",
      "model_name": "LayoutModel",
      "state": {
       "align_items": "stretch",
       "display": "flex",
       "flex_flow": "row",
       "grid_auto_columns": "True",
       "justify_content": "flex-start",
       "width": "80%"
      }
     },
     "9fa32fb789104e948edea376a68ccd94": {
      "model_module": "@jupyter-widgets/controls",
      "model_module_version": "1.5.0",
      "model_name": "DescriptionStyleModel",
      "state": {
       "description_width": ""
      }
     },
     "9fa7205b35bd4bc090bc38169579378b": {
      "model_module": "@jupyter-widgets/controls",
      "model_module_version": "1.5.0",
      "model_name": "VBoxModel",
      "state": {
       "children": [
        "IPY_MODEL_70e9eebff6944bc2bb38df1b94f004be",
        "IPY_MODEL_7b2066c54bce426cac5335fd811fcb7b",
        "IPY_MODEL_beb01abba1084007ab35f9e0a786a1aa"
       ],
       "layout": "IPY_MODEL_c9d206f548fe42daa61ebe0c0d2c238c"
      }
     },
     "9fbbbcd5f24e44f596a67733b14a2cec": {
      "model_module": "@jupyter-widgets/controls",
      "model_module_version": "1.5.0",
      "model_name": "TextModel",
      "state": {
       "layout": "IPY_MODEL_4339da514823406f9596d83673ff1028",
       "style": "IPY_MODEL_f9ceb407879a42ac9b8c5b2bf9b7a90a",
       "value": "C:\\engDev\\git_mf\\MF_Toolbox\\dev\\examples\\gbxml\\105_LiveseyExchange_heatpump-normal-fabric.xml"
      }
     },
     "9fc15b65ad0b45bf83d1d592dcd441e1": {
      "model_module": "@jupyter-widgets/base",
      "model_module_version": "1.2.0",
      "model_name": "LayoutModel",
      "state": {}
     },
     "9fe9abd6095844428826f3a69281f77b": {
      "model_module": "@jupyter-widgets/controls",
      "model_module_version": "1.5.0",
      "model_name": "HTMLModel",
      "state": {
       "layout": "IPY_MODEL_12343f1044794b5abd51dc12a4cc0ef0",
       "style": "IPY_MODEL_1ea1768efe694cafad57731c5db3cec4",
       "value": "<p>reus foo ous oo ous foo st</p>"
      }
     },
     "9ff0d9bacd544bd0bf4399ad60b72b3d": {
      "model_module": "@jupyter-widgets/controls",
      "model_module_version": "1.5.0",
      "model_name": "HTMLModel",
      "state": {
       "layout": "IPY_MODEL_8047e4c0493c4429b3c14ca7a6d104e0",
       "style": "IPY_MODEL_470931e7d98d4415ba5c0cc5b7800c90",
       "value": "<p>fus foo ous o</p>"
      }
     },
     "a009ea3f440d4c50b40dd09abb672bdf": {
      "model_module": "@jupyter-widgets/base",
      "model_module_version": "1.2.0",
      "model_name": "LayoutModel",
      "state": {
       "align_items": "stretch",
       "display": "flex",
       "flex_flow": "row",
       "grid_auto_columns": "True",
       "justify_content": "flex-end",
       "width": "90%"
      }
     },
     "a0264a25168647419a60b810380460da": {
      "model_module": "@jupyter-widgets/controls",
      "model_module_version": "1.5.0",
      "model_name": "DescriptionStyleModel",
      "state": {
       "description_width": ""
      }
     },
     "a031e0251c00414d90b612bfffb1c6a5": {
      "model_module": "@jupyter-widgets/controls",
      "model_module_version": "1.5.0",
      "model_name": "HBoxModel",
      "state": {
       "children": [
        "IPY_MODEL_1d0a5b17d42e4203bd9eb129a683af7b",
        "IPY_MODEL_b4e6a4f09b474f2aa0a49b130f57ef66"
       ],
       "layout": "IPY_MODEL_23dcbfa81d9143528d7a23bedf1745d8"
      }
     },
     "a070679a03ce460eb55a5d382bc08637": {
      "model_module": "@jupyter-widgets/base",
      "model_module_version": "1.2.0",
      "model_name": "LayoutModel",
      "state": {
       "align_items": "stretch",
       "display": "flex",
       "flex_flow": "row",
       "grid_auto_columns": "True",
       "justify_content": "flex-end",
       "width": "90%"
      }
     },
     "a0978531b09448b095b0565c989f8062": {
      "model_module": "@jupyter-widgets/controls",
      "model_module_version": "1.5.0",
      "model_name": "DescriptionStyleModel",
      "state": {
       "description_width": ""
      }
     },
     "a0ade6965d9342348f9ab938902059eb": {
      "model_module": "@jupyter-widgets/controls",
      "model_module_version": "1.5.0",
      "model_name": "HTMLModel",
      "state": {
       "layout": "IPY_MODEL_a6f46533531f41d3b71d5b61d6029c63",
       "style": "IPY_MODEL_1da8b50ced7d452d9cbf54ceede74ef9",
       "value": "<p>its a foo cake</p>"
      }
     },
     "a0b42288698943f3bd965fcc85ab266e": {
      "model_module": "@jupyter-widgets/controls",
      "model_module_version": "1.5.0",
      "model_name": "HBoxModel",
      "state": {
       "children": [
        "IPY_MODEL_1391b81cf4364b1680bd51d30d7c9da0"
       ],
       "layout": "IPY_MODEL_99b163c98eb4496ab89de65c8e80556d"
      }
     },
     "a0b4299f55564e3f8bb649d5b22b1f4c": {
      "model_module": "@jupyter-widgets/base",
      "model_module_version": "1.2.0",
      "model_name": "LayoutModel",
      "state": {}
     },
     "a0f1ab4feab74f6a91b31bf885b04456": {
      "model_module": "@jupyter-widgets/controls",
      "model_module_version": "1.5.0",
      "model_name": "HBoxModel",
      "state": {
       "children": [
        "IPY_MODEL_9fbbbcd5f24e44f596a67733b14a2cec",
        "IPY_MODEL_e51d2e349e8748b4aa14e6c5e1c754c3"
       ],
       "layout": "IPY_MODEL_66795ca9283a4eccb1b4e0b8f638a9d1"
      }
     },
     "a125f709e46c49bf97183e215210ee45": {
      "model_module": "@jupyter-widgets/controls",
      "model_module_version": "1.5.0",
      "model_name": "HTMLModel",
      "state": {
       "layout": "IPY_MODEL_ad2dfcb39b644eaa9a1fdca49d85c312",
       "style": "IPY_MODEL_121befb8c65549f299d6818e149cbd8c",
       "value": "<p>4th section of space name code (enter None if 4th section doesn't exist)</p>"
      }
     },
     "a13902cc9bcf4f46afaf231f3a5c074f": {
      "model_module": "@jupyter-widgets/output",
      "model_module_version": "1.0.0",
      "model_name": "OutputModel",
      "state": {
       "layout": "IPY_MODEL_d9cf8e5a7db548aca051f1e011ba2a3d"
      }
     },
     "a16376eb4a454a81884fa2fddee15f3f": {
      "model_module": "@jupyter-widgets/controls",
      "model_module_version": "1.5.0",
      "model_name": "ButtonStyleModel",
      "state": {
       "font_weight": "bold"
      }
     },
     "a1b1ed081d2e4eb6beab7c1e4a1932ab": {
      "model_module": "@jupyter-widgets/base",
      "model_module_version": "1.2.0",
      "model_name": "LayoutModel",
      "state": {}
     },
     "a1f3780eba7043c09cda0c2f4ce4992e": {
      "model_module": "@jupyter-widgets/controls",
      "model_module_version": "1.5.0",
      "model_name": "HBoxModel",
      "state": {
       "children": [
        "IPY_MODEL_a2c2a85a7a844f3ab2a0acf019cc90bd",
        "IPY_MODEL_bfa13a3683d4434db9ea96cca76723bf"
       ],
       "layout": "IPY_MODEL_30c8bd84ab5942d7a8919b421ea21a50"
      }
     },
     "a25d3dec1d57497f97926eb2608bae95": {
      "model_module": "@jupyter-widgets/base",
      "model_module_version": "1.2.0",
      "model_name": "LayoutModel",
      "state": {}
     },
     "a278d7101cd84fa29903e194698f5cb9": {
      "model_module": "@jupyter-widgets/controls",
      "model_module_version": "1.5.0",
      "model_name": "HBoxModel",
      "state": {
       "children": [
        "IPY_MODEL_4e80f97528b940849d145016f01559ac",
        "IPY_MODEL_5d770609ee5e4f66b6cb871db4d548d7"
       ],
       "layout": "IPY_MODEL_b44aa94ecbf74731842426c4094b635b"
      }
     },
     "a27e012bc8b5496390ea15d8f52b2c86": {
      "model_module": "@jupyter-widgets/base",
      "model_module_version": "1.2.0",
      "model_name": "LayoutModel",
      "state": {
       "align_items": "stretch",
       "border": "dashed 0.2px green",
       "display": "flex",
       "flex_flow": "row",
       "grid_auto_columns": "True",
       "justify_content": "flex-start",
       "width": "100%"
      }
     },
     "a2aa26a7152c4fb6872b1b78aeff0aae": {
      "model_module": "@jupyter-widgets/controls",
      "model_module_version": "1.5.0",
      "model_name": "DescriptionStyleModel",
      "state": {
       "description_width": ""
      }
     },
     "a2aedb9f04264d9eb9338398c75e2662": {
      "model_module": "@jupyter-widgets/controls",
      "model_module_version": "1.5.0",
      "model_name": "HBoxModel",
      "state": {
       "children": [
        "IPY_MODEL_dd9de3d39bdf40958c2e80d7b9fb6211",
        "IPY_MODEL_95639a02c5e24f4487c6639c2f00241d"
       ],
       "layout": "IPY_MODEL_f6ee282597cb4a9ea32b331c90ea75c5"
      }
     },
     "a2c2a85a7a844f3ab2a0acf019cc90bd": {
      "model_module": "@jupyter-widgets/controls",
      "model_module_version": "1.5.0",
      "model_name": "TextModel",
      "state": {
       "layout": "IPY_MODEL_5b4e4d51d46449848fdf564783cecb39",
       "style": "IPY_MODEL_d5546ee176d24b439a8f152a8a9eaddc",
       "value": "C:\\engDev\\git_mf\\MF_Toolbox\\dev\\examples\\gbxml\\105_LiveseyExchange_heatpump-normal-fabric.xml"
      }
     },
     "a2d4ef78e1ba4936a05e735fe0388e79": {
      "model_module": "@jupyter-widgets/base",
      "model_module_version": "1.2.0",
      "model_name": "LayoutModel",
      "state": {}
     },
     "a306dd7a28084bc5987ddbaaf26f5262": {
      "model_module": "@jupyter-widgets/controls",
      "model_module_version": "1.5.0",
      "model_name": "HBoxModel",
      "state": {
       "children": [
        "IPY_MODEL_5277020a7f8547d4affe6e19316e7c31",
        "IPY_MODEL_1830997f05c549688e916b5e4db0f8ab"
       ],
       "layout": "IPY_MODEL_cb3ae43e663a435e8223007fb3211c93"
      }
     },
     "a308601bd47f443a821dec021ab742e7": {
      "model_module": "@jupyter-widgets/base",
      "model_module_version": "1.2.0",
      "model_name": "LayoutModel",
      "state": {
       "align_items": "stretch",
       "border": "dashed 0.2px green",
       "display": "flex",
       "flex_flow": "row",
       "grid_auto_columns": "True",
       "justify_content": "flex-start",
       "width": "100%"
      }
     },
     "a308da8cf39141199850eadc2ed9d261": {
      "model_module": "@jupyter-widgets/base",
      "model_module_version": "1.2.0",
      "model_name": "LayoutModel",
      "state": {}
     },
     "a30c9abb59c344eca43ee62452a7410a": {
      "model_module": "@jupyter-widgets/controls",
      "model_module_version": "1.5.0",
      "model_name": "VBoxModel",
      "state": {
       "children": [
        "IPY_MODEL_1a2f0d50d28041ec982bc6323f39c3fc",
        "IPY_MODEL_f9cdc685b21d489a9272b4ece132d78b",
        "IPY_MODEL_7aa43d0219824fb9bf56226e835a95ca"
       ],
       "layout": "IPY_MODEL_5cac3c5be4f842df958efe282e92a2fa"
      }
     },
     "a30d00f131cb4e02b7048e9dcf971701": {
      "model_module": "@jupyter-widgets/base",
      "model_module_version": "1.2.0",
      "model_name": "LayoutModel",
      "state": {}
     },
     "a33d48b00f6e4077a3d60d55711ae2ce": {
      "model_module": "@jupyter-widgets/controls",
      "model_module_version": "1.5.0",
      "model_name": "HBoxModel",
      "state": {
       "children": [
        "IPY_MODEL_964e54fd39594de9b3b0d1b7161e9072",
        "IPY_MODEL_a0f1ab4feab74f6a91b31bf885b04456"
       ],
       "layout": "IPY_MODEL_5989d23e5093402a9585f69baf46b72f"
      }
     },
     "a39eff53ff87448ea94713742c39ec12": {
      "model_module": "@jupyter-widgets/base",
      "model_module_version": "1.2.0",
      "model_name": "LayoutModel",
      "state": {}
     },
     "a3dd0ff4ba3b412d915248e065ea3546": {
      "model_module": "@jupyter-widgets/controls",
      "model_module_version": "1.5.0",
      "model_name": "DescriptionStyleModel",
      "state": {
       "description_width": ""
      }
     },
     "a4295f52946743749d9a660f111268ae": {
      "model_module": "@jupyter-widgets/controls",
      "model_module_version": "1.5.0",
      "model_name": "DropdownModel",
      "state": {
       "_options_labels": [
        "appdata\\inputs",
        "appdata",
        ""
       ],
       "index": 0,
       "layout": "IPY_MODEL_19540249b90d4d4ca8828407eae53036",
       "style": "IPY_MODEL_ec59ec123d9d4ef4a6e2aa3e5252d019"
      }
     },
     "a42e8163161c4e05917cf83b699312c7": {
      "model_module": "@jupyter-widgets/base",
      "model_module_version": "1.2.0",
      "model_name": "LayoutModel",
      "state": {}
     },
     "a494af60cd634535a812547ea39d9f0e": {
      "model_module": "@jupyter-widgets/base",
      "model_module_version": "1.2.0",
      "model_name": "LayoutModel",
      "state": {}
     },
     "a4ab61374a184899ac6397cd6706f422": {
      "model_module": "@jupyter-widgets/base",
      "model_module_version": "1.2.0",
      "model_name": "LayoutModel",
      "state": {
       "height": "30px",
       "max_width": "30px",
       "padding": "3px"
      }
     },
     "a4ced252fd194cb28921f5e6c457b817": {
      "model_module": "@jupyter-widgets/controls",
      "model_module_version": "1.5.0",
      "model_name": "HTMLModel",
      "state": {
       "layout": "IPY_MODEL_1d9daeec252c4602b112d0f2e3f9284a",
       "style": "IPY_MODEL_1be424d037e94584821aa6fb5527407b",
       "value": "<p>input docx filepath</p>"
      }
     },
     "a501f9d6851a416299f7c6b9eed31ed5": {
      "model_module": "@jupyter-widgets/base",
      "model_module_version": "1.2.0",
      "model_name": "LayoutModel",
      "state": {}
     },
     "a5327a461d2142de9d9675e2bc691d02": {
      "model_module": "@jupyter-widgets/controls",
      "model_module_version": "1.5.0",
      "model_name": "HTMLModel",
      "state": {
       "layout": "IPY_MODEL_57d91d14407b49779627184b39f035af",
       "style": "IPY_MODEL_0c2a0311c3054289bab3b789200cb65b",
       "value": "<p>its a delicious foo cake</p>"
      }
     },
     "a562d68ddbce44978297ab7c65fe7eea": {
      "model_module": "@jupyter-widgets/controls",
      "model_module_version": "1.5.0",
      "model_name": "DescriptionStyleModel",
      "state": {
       "description_width": ""
      }
     },
     "a594ad37fa6543599975653d6d723186": {
      "model_module": "@jupyter-widgets/output",
      "model_module_version": "1.0.0",
      "model_name": "OutputModel",
      "state": {
       "layout": "IPY_MODEL_0725098ec53c4856b29a5dea0adecf55"
      }
     },
     "a63b18bf9af14db69a08228abbf679ee": {
      "model_module": "@jupyter-widgets/controls",
      "model_module_version": "1.5.0",
      "model_name": "DescriptionStyleModel",
      "state": {
       "description_width": ""
      }
     },
     "a67ab77a56d5447d91d716c9cf94dd62": {
      "model_module": "@jupyter-widgets/base",
      "model_module_version": "1.2.0",
      "model_name": "LayoutModel",
      "state": {
       "align_items": "stretch",
       "border": "dashed 0.2px green",
       "display": "flex",
       "flex_flow": "row",
       "grid_auto_columns": "True",
       "justify_content": "flex-start",
       "width": "100%"
      }
     },
     "a6998e2d985540ed964eed514a66399d": {
      "model_module": "@jupyter-widgets/base",
      "model_module_version": "1.2.0",
      "model_name": "LayoutModel",
      "state": {}
     },
     "a69d907f8bac45ebafaf173c17dd2f20": {
      "model_module": "@jupyter-widgets/base",
      "model_module_version": "1.2.0",
      "model_name": "LayoutModel",
      "state": {}
     },
     "a6b3e418346c479ebb138f3755391cc2": {
      "model_module": "@jupyter-widgets/base",
      "model_module_version": "1.2.0",
      "model_name": "LayoutModel",
      "state": {}
     },
     "a6b46e3f2b2347008a9acd06acf2d38b": {
      "model_module": "@jupyter-widgets/controls",
      "model_module_version": "1.5.0",
      "model_name": "DescriptionStyleModel",
      "state": {
       "description_width": ""
      }
     },
     "a6b967b40fd64c02880a7ff2bfb6043c": {
      "model_module": "@jupyter-widgets/base",
      "model_module_version": "1.2.0",
      "model_name": "LayoutModel",
      "state": {}
     },
     "a6c15df981934d0dab14034c3642d3ab": {
      "model_module": "@jupyter-widgets/controls",
      "model_module_version": "1.5.0",
      "model_name": "HTMLModel",
      "state": {
       "layout": "IPY_MODEL_e2695e0a5ab84ff5992d8f23807e83bd",
       "style": "IPY_MODEL_858b28ca2a814a8ba4b2a02c45999e7d",
       "value": "<p>General Description of the Model</p>"
      }
     },
     "a6d4fc003a124f269444607fce99440f": {
      "model_module": "@jupyter-widgets/base",
      "model_module_version": "1.2.0",
      "model_name": "LayoutModel",
      "state": {}
     },
     "a6f46533531f41d3b71d5b61d6029c63": {
      "model_module": "@jupyter-widgets/base",
      "model_module_version": "1.2.0",
      "model_name": "LayoutModel",
      "state": {}
     },
     "a745f6a3f34f4021aff0bef9537ca875": {
      "model_module": "@jupyter-widgets/controls",
      "model_module_version": "1.5.0",
      "model_name": "ButtonModel",
      "state": {
       "description": "Change",
       "layout": "IPY_MODEL_8a61a330259645bbb7fd7c6c0b94dd2d",
       "style": "IPY_MODEL_7949d3b5187c485bb7732b79849ddd1f"
      }
     },
     "a7a21a61bb8a44e5ab6550d23f8ddbef": {
      "model_module": "@jupyter-widgets/base",
      "model_module_version": "1.2.0",
      "model_name": "LayoutModel",
      "state": {}
     },
     "a7d3c93856674638b723be3cd1c36e4f": {
      "model_module": "@jupyter-widgets/base",
      "model_module_version": "1.2.0",
      "model_name": "LayoutModel",
      "state": {}
     },
     "a7f1d792567e4683a4424bbea72aadec": {
      "model_module": "@jupyter-widgets/controls",
      "model_module_version": "1.5.0",
      "model_name": "DescriptionStyleModel",
      "state": {
       "description_width": ""
      }
     },
     "a8238128120a49a08074aeee5807511c": {
      "model_module": "@jupyter-widgets/controls",
      "model_module_version": "1.5.0",
      "model_name": "GridBoxModel",
      "state": {
       "children": [
        "IPY_MODEL_69c7ea4dda70493da775fc3045d0070c",
        "IPY_MODEL_41d125cf03384e24ba5e1209b3c18025",
        "IPY_MODEL_5c709dada9a84d8ca87a4db88ba161de"
       ],
       "layout": "IPY_MODEL_bdc8e5e375664185afef1a77d57f34f8"
      }
     },
     "a8b78f23d44045b792176e70e225e200": {
      "model_module": "@jupyter-widgets/base",
      "model_module_version": "1.2.0",
      "model_name": "LayoutModel",
      "state": {
       "align_items": "stretch",
       "border": "dashed 0.2px green",
       "display": "flex",
       "flex_flow": "row",
       "grid_auto_columns": "True",
       "justify_content": "flex-start",
       "width": "100%"
      }
     },
     "a8c35eb23a874d41a803e11cd992ac07": {
      "model_module": "@jupyter-widgets/base",
      "model_module_version": "1.2.0",
      "model_name": "LayoutModel",
      "state": {}
     },
     "a8d847461f72499ba30b753adf6e450c": {
      "model_module": "@jupyter-widgets/controls",
      "model_module_version": "1.5.0",
      "model_name": "DescriptionStyleModel",
      "state": {
       "description_width": ""
      }
     },
     "a8f7d65d22e84dd79e826f9f656fcf44": {
      "model_module": "@jupyter-widgets/base",
      "model_module_version": "1.2.0",
      "model_name": "LayoutModel",
      "state": {}
     },
     "a92a5ce0e51849a6abcf60a00e87ca70": {
      "model_module": "@jupyter-widgets/controls",
      "model_module_version": "1.5.0",
      "model_name": "HTMLModel",
      "state": {
       "layout": "IPY_MODEL_f346af409b97457b8ca65dac320e8fb7",
       "style": "IPY_MODEL_4891df07e9934b0e95c17794c7605b6f",
       "value": "<p>name</p>"
      }
     },
     "a93ae21f58024f3d984e96c7a3604db4": {
      "model_module": "@jupyter-widgets/base",
      "model_module_version": "1.2.0",
      "model_name": "LayoutModel",
      "state": {
       "align_items": "stretch",
       "border": "dashed 0.2px green",
       "display": "flex",
       "flex_flow": "row",
       "grid_auto_columns": "True",
       "justify_content": "flex-start",
       "width": "100%"
      }
     },
     "a9961a74cbee4fb5a22ae7d2dca8c700": {
      "model_module": "@jupyter-widgets/controls",
      "model_module_version": "1.5.0",
      "model_name": "DescriptionStyleModel",
      "state": {
       "description_width": ""
      }
     },
     "a999c47b3d7542c8ab29fe3f49fee5c0": {
      "model_module": "@jupyter-widgets/base",
      "model_module_version": "1.2.0",
      "model_name": "LayoutModel",
      "state": {}
     },
     "a9ab30e4dd654477b18c9cfd6c291a56": {
      "model_module": "@jupyter-widgets/base",
      "model_module_version": "1.2.0",
      "model_name": "LayoutModel",
      "state": {}
     },
     "a9b653201dd64f17b85f13c06e55376e": {
      "model_module": "@jupyter-widgets/base",
      "model_module_version": "1.2.0",
      "model_name": "LayoutModel",
      "state": {}
     },
     "a9cf39f5e27b45708caaac7bb01633bc": {
      "model_module": "@jupyter-widgets/controls",
      "model_module_version": "1.5.0",
      "model_name": "DescriptionStyleModel",
      "state": {
       "description_width": ""
      }
     },
     "a9dcfdbe082343e3a9bec3224019c6a7": {
      "model_module": "@jupyter-widgets/base",
      "model_module_version": "1.2.0",
      "model_name": "LayoutModel",
      "state": {
       "display": "none",
       "grid_gap": "0px 0px",
       "grid_template_areas": "\n                    'pathlist filename'\n                    'dircontent dircontent'\n                    ",
       "grid_template_columns": "60% 40%",
       "grid_template_rows": "auto auto",
       "width": "500px"
      }
     },
     "a9e239fba61149449c4188b8fb8ee4e2": {
      "model_module": "@jupyter-widgets/base",
      "model_module_version": "1.2.0",
      "model_name": "LayoutModel",
      "state": {
       "align_items": "stretch",
       "display": "flex",
       "flex_flow": "row",
       "grid_auto_columns": "True",
       "justify_content": "flex-start",
       "width": "80%"
      }
     },
     "a9e3312908fe4dcfbf1feb24dff23c2f": {
      "model_module": "@jupyter-widgets/controls",
      "model_module_version": "1.5.0",
      "model_name": "ButtonModel",
      "state": {
       "description": "Change",
       "layout": "IPY_MODEL_bf98de8a8d014a8aaa3a47d2138d9c22",
       "style": "IPY_MODEL_b6f73989159e461f8964aa9cc355a16e"
      }
     },
     "a9e988fcd51445bf8191d607b527c7b6": {
      "model_module": "@jupyter-widgets/output",
      "model_module_version": "1.0.0",
      "model_name": "OutputModel",
      "state": {
       "layout": "IPY_MODEL_3c92d25d7ff5498cacfe5573a1bfec5e"
      }
     },
     "a9effc0863aa45af85bcc88f057e43f4": {
      "model_module": "@jupyter-widgets/controls",
      "model_module_version": "1.5.0",
      "model_name": "VBoxModel",
      "state": {
       "children": [
        "IPY_MODEL_ff9497a83ca64a369ac079ba3aa3580b",
        "IPY_MODEL_94459565eaf14d1996245e485afdf1bd",
        "IPY_MODEL_55a7480dad84429eb45e913e9e13285c",
        "IPY_MODEL_7a3fb27ebf2349a7973eb2989c9bdc4c",
        "IPY_MODEL_c66f130bbc7b4d1ca8dddec750477265",
        "IPY_MODEL_2c1aa4e2416444cbafe231309538cb4b"
       ],
       "layout": "IPY_MODEL_f89f5803f1f946ffa7c2c56cf49e5281"
      }
     },
     "aa1d0c138e9a444e9da65b102d4dd0c8": {
      "model_module": "@jupyter-widgets/base",
      "model_module_version": "1.2.0",
      "model_name": "LayoutModel",
      "state": {
       "align_items": "stretch",
       "display": "flex",
       "flex_flow": "row",
       "grid_auto_columns": "True",
       "justify_content": "flex-start",
       "width": "80%"
      }
     },
     "aa465f8e1af643ff8957b9410524a18a": {
      "model_module": "@jupyter-widgets/controls",
      "model_module_version": "1.5.0",
      "model_name": "HTMLModel",
      "state": {
       "layout": "IPY_MODEL_385009a9e39e4e2c8f821f439bf1e2f0",
       "style": "IPY_MODEL_4b352fd4bf8a4b00a673f8a64ade39c7",
       "value": "<p>its a delicious foo cake</p>"
      }
     },
     "aaa6e5d6829d4da288338688d0c1ab56": {
      "model_module": "@jupyter-widgets/controls",
      "model_module_version": "1.5.0",
      "model_name": "VBoxModel",
      "state": {
       "children": [
        "IPY_MODEL_4c0f1947e86e407cb6d29be9a1d3d6ff",
        "IPY_MODEL_0453f54c2e4548b4a7398367beffbaa2",
        "IPY_MODEL_85926266ec03478ea8961243d13be1c2"
       ],
       "layout": "IPY_MODEL_1ab4678786454b26bf186ac729cd1392"
      }
     },
     "aaae3bcd71064390b315115429314e80": {
      "model_module": "@jupyter-widgets/controls",
      "model_module_version": "1.5.0",
      "model_name": "DescriptionStyleModel",
      "state": {
       "description_width": ""
      }
     },
     "aab3b3bb86644433afe227b48f3d8875": {
      "model_module": "@jupyter-widgets/controls",
      "model_module_version": "1.5.0",
      "model_name": "FloatTextModel",
      "state": {
       "layout": "IPY_MODEL_57e6fe1f61d24b72ac25c6701daa597d",
       "step": null,
       "style": "IPY_MODEL_460559f74b234c5b9bae4fb8e31f8e94",
       "value": 9
      }
     },
     "aabaf28ad1124140a2d7dcb7a36fe54e": {
      "model_module": "@jupyter-widgets/base",
      "model_module_version": "1.2.0",
      "model_name": "LayoutModel",
      "state": {}
     },
     "aac2aab6f7644399832e5213304de8d9": {
      "model_module": "@jupyter-widgets/controls",
      "model_module_version": "1.5.0",
      "model_name": "HBoxModel",
      "state": {
       "children": [
        "IPY_MODEL_cc83c3f585754e2f9c33e9545c0ebfd5"
       ],
       "layout": "IPY_MODEL_d43ff2c5b36c4a27b0c9752937af643a"
      }
     },
     "aacff86309e446618a9bd265137e85ce": {
      "model_module": "@jupyter-widgets/base",
      "model_module_version": "1.2.0",
      "model_name": "LayoutModel",
      "state": {}
     },
     "aae6afbb1d8b46a39b7526385dd11689": {
      "model_module": "@jupyter-widgets/controls",
      "model_module_version": "1.5.0",
      "model_name": "TextareaModel",
      "state": {
       "layout": "IPY_MODEL_a69d907f8bac45ebafaf173c17dd2f20",
       "style": "IPY_MODEL_62d722dbf8a841efa12e1fcc4025ab3a",
       "value": "asdfasdf"
      }
     },
     "aaebd207064946caa6fdf17e909a7710": {
      "model_module": "@jupyter-widgets/base",
      "model_module_version": "1.2.0",
      "model_name": "LayoutModel",
      "state": {}
     },
     "aaf695f2e72246a0958615bef8089565": {
      "model_module": "@jupyter-widgets/base",
      "model_module_version": "1.2.0",
      "model_name": "LayoutModel",
      "state": {}
     },
     "ab26e560c5aa4d7fb290cdd472721aca": {
      "model_module": "@jupyter-widgets/controls",
      "model_module_version": "1.5.0",
      "model_name": "DescriptionStyleModel",
      "state": {
       "description_width": ""
      }
     },
     "ab2921a7cdf24f98b7418a48db23575d": {
      "model_module": "@jupyter-widgets/base",
      "model_module_version": "1.2.0",
      "model_name": "LayoutModel",
      "state": {
       "align_items": "stretch",
       "display": "flex",
       "flex_flow": "row",
       "grid_auto_columns": "True",
       "justify_content": "flex-start",
       "width": "80%"
      }
     },
     "ab2c3b2e24ec44c7b691de72c9ba11c0": {
      "model_module": "@jupyter-widgets/output",
      "model_module_version": "1.0.0",
      "model_name": "OutputModel",
      "state": {
       "layout": "IPY_MODEL_ec0938145cd144d2ab9ac47e958f366d"
      }
     },
     "ab4fe1b9ebd24a4eb1ef41118d378c48": {
      "model_module": "@jupyter-widgets/controls",
      "model_module_version": "1.5.0",
      "model_name": "SelectModel",
      "state": {
       "_options_labels": [
        "..",
        "archive",
        "inputs-docx_to_pdf.json",
        "inputs-eplus_pipework_params-1.csv",
        "inputs-eplus_pipework_params.csv",
        "inputs-gbxml.json",
        "test-1.json",
        "test-derived-val.json",
        "test.json"
       ],
       "index": null,
       "layout": "IPY_MODEL_37fe8782dd5f4954b04f5a62dc2cfc74",
       "rows": 8,
       "style": "IPY_MODEL_20bd2fa3b81842559e8a7d2ea5e4a56c"
      }
     },
     "ab5aed8960a846c2bfccd465b0742aab": {
      "model_module": "@jupyter-widgets/output",
      "model_module_version": "1.0.0",
      "model_name": "OutputModel",
      "state": {
       "layout": "IPY_MODEL_fb80e16864814208ab35933a474a62ee"
      }
     },
     "ab6f19cc60c24a4d9095a5e7e5e79224": {
      "model_module": "@jupyter-widgets/controls",
      "model_module_version": "1.5.0",
      "model_name": "HBoxModel",
      "state": {
       "children": [
        "IPY_MODEL_ac57b6c63b474eecbf752772d79bc7b7",
        "IPY_MODEL_55f0546f38924682bb6424851797e2cf",
        "IPY_MODEL_71b1f175911e43aa983c9d7f2f597394"
       ],
       "layout": "IPY_MODEL_cb192092fc564fa1b3ff96f05a03dd47"
      }
     },
     "ab72f753dece4a16bfb050e20c1b0510": {
      "model_module": "@jupyter-widgets/controls",
      "model_module_version": "1.5.0",
      "model_name": "DescriptionStyleModel",
      "state": {
       "description_width": ""
      }
     },
     "ab875711011b4c90888b0c027f1c8761": {
      "model_module": "@jupyter-widgets/base",
      "model_module_version": "1.2.0",
      "model_name": "LayoutModel",
      "state": {}
     },
     "ab92dadbbb0a42ac8f4dc519bd2e5055": {
      "model_module": "@jupyter-widgets/controls",
      "model_module_version": "1.5.0",
      "model_name": "ButtonModel",
      "state": {
       "button_style": "success",
       "description": "save changes",
       "layout": "IPY_MODEL_fff3c8ebed594bd2906c4a70260873a4",
       "style": "IPY_MODEL_fa5827130b014d74b7736f009d5334c9"
      }
     },
     "abb4188bc8224677b6bfe2ab87a476b9": {
      "model_module": "@jupyter-widgets/base",
      "model_module_version": "1.2.0",
      "model_name": "LayoutModel",
      "state": {}
     },
     "abbf8f03dea847468b87b07490c7d63f": {
      "model_module": "@jupyter-widgets/controls",
      "model_module_version": "1.5.0",
      "model_name": "DescriptionStyleModel",
      "state": {
       "description_width": ""
      }
     },
     "abc1188ce9fd4608876725a6c12ff5d8": {
      "model_module": "@jupyter-widgets/base",
      "model_module_version": "1.2.0",
      "model_name": "LayoutModel",
      "state": {
       "align_items": "stretch",
       "display": "flex",
       "flex_flow": "row",
       "grid_auto_columns": "True",
       "justify_content": "flex-end",
       "width": "90%"
      }
     },
     "abd8ee4342d149fd9157036746806ebb": {
      "model_module": "@jupyter-widgets/base",
      "model_module_version": "1.2.0",
      "model_name": "LayoutModel",
      "state": {}
     },
     "ac09d08c39954059978a92eb56c2d88a": {
      "model_module": "@jupyter-widgets/controls",
      "model_module_version": "1.5.0",
      "model_name": "DescriptionStyleModel",
      "state": {
       "description_width": ""
      }
     },
     "ac0bbd19cdff4f8893f9a20fa7d52e50": {
      "model_module": "@jupyter-widgets/base",
      "model_module_version": "1.2.0",
      "model_name": "LayoutModel",
      "state": {}
     },
     "ac15b78e180d4d8ba2a945cb04f6a0a6": {
      "model_module": "@jupyter-widgets/base",
      "model_module_version": "1.2.0",
      "model_name": "LayoutModel",
      "state": {}
     },
     "ac1a309b993849f4a1ebb2b3244bcd94": {
      "model_module": "@jupyter-widgets/controls",
      "model_module_version": "1.5.0",
      "model_name": "HBoxModel",
      "state": {
       "children": [
        "IPY_MODEL_cf05e39341a544869ddb09b557b88c13",
        "IPY_MODEL_171ad0f7917b41e9b8f0a8b0c338b6e5"
       ],
       "layout": "IPY_MODEL_30d33b6f71504d1b922a028531827350"
      }
     },
     "ac322a3615f14c9091cf2353b3786518": {
      "model_module": "@jupyter-widgets/base",
      "model_module_version": "1.2.0",
      "model_name": "LayoutModel",
      "state": {}
     },
     "ac57b6c63b474eecbf752772d79bc7b7": {
      "model_module": "@jupyter-widgets/controls",
      "model_module_version": "1.5.0",
      "model_name": "ToggleButtonModel",
      "state": {
       "button_style": "info",
       "description": "inputs from file",
       "layout": "IPY_MODEL_3d4437a83e864e7c99f43bbd05c7a8c5",
       "style": "IPY_MODEL_35ffff5c15564eb1a9e578ed4fb4dcdf"
      }
     },
     "ac599c2a324e4cffb1c667e42186cc9e": {
      "model_module": "@jupyter-widgets/output",
      "model_module_version": "1.0.0",
      "model_name": "OutputModel",
      "state": {
       "layout": "IPY_MODEL_f0fc97c78b7841b4b4e2675f74ee1ade"
      }
     },
     "ac6ce274a01c436faa6092d1f34603a8": {
      "model_module": "@jupyter-widgets/controls",
      "model_module_version": "1.5.0",
      "model_name": "DescriptionStyleModel",
      "state": {
       "description_width": ""
      }
     },
     "ac6e8a28da0c4ae1982b25b765f220ea": {
      "model_module": "@jupyter-widgets/base",
      "model_module_version": "1.2.0",
      "model_name": "LayoutModel",
      "state": {
       "align_items": "stretch",
       "border": "dashed 0.2px green",
       "display": "flex",
       "flex_flow": "row",
       "grid_auto_columns": "True",
       "justify_content": "flex-start",
       "width": "100%"
      }
     },
     "ac6ecd1740ac4f4cbda5b5d8dece12e6": {
      "model_module": "@jupyter-widgets/controls",
      "model_module_version": "1.5.0",
      "model_name": "HBoxModel",
      "state": {
       "children": [
        "IPY_MODEL_d393c670663a4cfea3e3f74b36047106",
        "IPY_MODEL_44423ee0b2724786a61eef3e9f3af2f0"
       ],
       "layout": "IPY_MODEL_23f55ed7d9dc4ba3b88b8c1857e0bd20"
      }
     },
     "aca1ea09ea56484ba513a0b57cc5501b": {
      "model_module": "@jupyter-widgets/controls",
      "model_module_version": "1.5.0",
      "model_name": "SliderStyleModel",
      "state": {
       "description_width": ""
      }
     },
     "aca75489c8444a6883714513b5da9177": {
      "model_module": "@jupyter-widgets/base",
      "model_module_version": "1.2.0",
      "model_name": "LayoutModel",
      "state": {
       "align_items": "stretch",
       "display": "flex",
       "flex_flow": "row",
       "grid_auto_columns": "True",
       "justify_content": "flex-end",
       "width": "90%"
      }
     },
     "acb331c63ffd4a26ad11039553e7dba7": {
      "model_module": "@jupyter-widgets/controls",
      "model_module_version": "1.5.0",
      "model_name": "HBoxModel",
      "state": {
       "children": [
        "IPY_MODEL_8f51867008464ea1ac8d2dcff207ee1d",
        "IPY_MODEL_2e617466266846619a1f7529250ee575"
       ],
       "layout": "IPY_MODEL_885702307e8c43c1a52973a1c9f1d30d"
      }
     },
     "ace710702f2b4e9aa56d894420c51139": {
      "model_module": "@jupyter-widgets/controls",
      "model_module_version": "1.5.0",
      "model_name": "VBoxModel",
      "state": {
       "layout": "IPY_MODEL_273ac6c27c16490cbcb0ec9d10eb1434"
      }
     },
     "acefe821267243609875faf7d62cc45d": {
      "model_module": "@jupyter-widgets/controls",
      "model_module_version": "1.5.0",
      "model_name": "HTMLModel",
      "state": {
       "layout": "IPY_MODEL_6961834638444452a718700aa1abc840",
       "style": "IPY_MODEL_f82c9868859a41afa03d8ad844af26a6",
       "value": "<p>its a foo cake</p>"
      }
     },
     "ad01a8dad5014c5f9d0097f3a2ccda5e": {
      "model_module": "@jupyter-widgets/output",
      "model_module_version": "1.0.0",
      "model_name": "OutputModel",
      "state": {
       "layout": "IPY_MODEL_7505f992607547fc9c51414abb655ec2"
      }
     },
     "ad104c2b68174c9cb68f3a4a06b287e7": {
      "model_module": "@jupyter-widgets/controls",
      "model_module_version": "1.5.0",
      "model_name": "DescriptionStyleModel",
      "state": {
       "description_width": ""
      }
     },
     "ad2684769cab4f949c169a4436825fe3": {
      "model_module": "@jupyter-widgets/controls",
      "model_module_version": "1.5.0",
      "model_name": "HBoxModel",
      "state": {
       "children": [
        "IPY_MODEL_aab3b3bb86644433afe227b48f3d8875",
        "IPY_MODEL_5d96d7a65b1b4fd99e289bd986cb783f"
       ],
       "layout": "IPY_MODEL_4922de0d7bdc4b94a02f64ab722fdd72"
      }
     },
     "ad2dfcb39b644eaa9a1fdca49d85c312": {
      "model_module": "@jupyter-widgets/base",
      "model_module_version": "1.2.0",
      "model_name": "LayoutModel",
      "state": {}
     },
     "ad759d1327e64dbfa29879f77b02502d": {
      "model_module": "@jupyter-widgets/controls",
      "model_module_version": "1.5.0",
      "model_name": "DescriptionStyleModel",
      "state": {
       "description_width": ""
      }
     },
     "ad78a452a3894ab8b49a84a443e7377a": {
      "model_module": "@jupyter-widgets/controls",
      "model_module_version": "1.5.0",
      "model_name": "DescriptionStyleModel",
      "state": {
       "description_width": ""
      }
     },
     "ad86f8c96978465e8e9661f9300136cf": {
      "model_module": "@jupyter-widgets/controls",
      "model_module_version": "1.5.0",
      "model_name": "DescriptionStyleModel",
      "state": {
       "description_width": ""
      }
     },
     "adad155249304effa2d6e042f763d3f7": {
      "model_module": "@jupyter-widgets/controls",
      "model_module_version": "1.5.0",
      "model_name": "SliderStyleModel",
      "state": {
       "description_width": ""
      }
     },
     "adca3af42e8f4627a6b5ad243b11bb63": {
      "model_module": "@jupyter-widgets/base",
      "model_module_version": "1.2.0",
      "model_name": "LayoutModel",
      "state": {}
     },
     "adcdc3ea0b0c4feb9faf2c145b126c68": {
      "model_module": "@jupyter-widgets/controls",
      "model_module_version": "1.5.0",
      "model_name": "HTMLModel",
      "state": {
       "layout": "IPY_MODEL_bb38fad65559493dab260337123fadd6",
       "style": "IPY_MODEL_dbbd6dcce4ec48de85a0682248c3109a",
       "value": "<p>foo</p>"
      }
     },
     "add4bfff4bef4db4b7b9cb1721072a86": {
      "model_module": "@jupyter-widgets/controls",
      "model_module_version": "1.5.0",
      "model_name": "DescriptionStyleModel",
      "state": {
       "description_width": ""
      }
     },
     "ae00631fd5e7400e874bfa6137a48aa7": {
      "model_module": "@jupyter-widgets/controls",
      "model_module_version": "1.5.0",
      "model_name": "HBoxModel",
      "state": {
       "children": [
        "IPY_MODEL_bf3c34cc9946482bad822f85478cf0dd"
       ],
       "layout": "IPY_MODEL_9edaa424a0da4500b4f2d866e9dd5647"
      }
     },
     "ae054205fd9f4427833d10018056ee58": {
      "model_module": "@jupyter-widgets/controls",
      "model_module_version": "1.5.0",
      "model_name": "DescriptionStyleModel",
      "state": {
       "description_width": ""
      }
     },
     "ae39f603ea4b4ac4a530dced1ff4b3a5": {
      "model_module": "@jupyter-widgets/controls",
      "model_module_version": "1.5.0",
      "model_name": "ButtonModel",
      "state": {
       "button_style": "success",
       "description": "save changes",
       "layout": "IPY_MODEL_abd8ee4342d149fd9157036746806ebb",
       "style": "IPY_MODEL_3010553943fa45fa9290481ee094694c"
      }
     },
     "ae5b5ad69c0a4408afef7ad1b59fd37a": {
      "model_module": "@jupyter-widgets/controls",
      "model_module_version": "1.5.0",
      "model_name": "DescriptionStyleModel",
      "state": {
       "description_width": ""
      }
     },
     "aeaa88fa1d334c088d0575a875906aca": {
      "model_module": "@jupyter-widgets/base",
      "model_module_version": "1.2.0",
      "model_name": "LayoutModel",
      "state": {
       "width": "auto"
      }
     },
     "aeed1e4b5a624903b05e79914b9c1548": {
      "model_module": "@jupyter-widgets/base",
      "model_module_version": "1.2.0",
      "model_name": "LayoutModel",
      "state": {
       "align_items": "stretch",
       "width": "100%"
      }
     },
     "aeed7c3b656c4afabe6911fa48de2bab": {
      "model_module": "@jupyter-widgets/base",
      "model_module_version": "1.2.0",
      "model_name": "LayoutModel",
      "state": {
       "display": "flex",
       "flex_flow": "row",
       "grid_auto_columns": "False",
       "justify_content": "flex-start",
       "width": "100%"
      }
     },
     "aef8bc7439ff432fa30c0c17bac04a98": {
      "model_module": "@jupyter-widgets/output",
      "model_module_version": "1.0.0",
      "model_name": "OutputModel",
      "state": {
       "layout": "IPY_MODEL_52fd9ce8013a46a392d4eb7f3ee5d123"
      }
     },
     "af0583a5e8e64e2282e988ea97687dc7": {
      "model_module": "@jupyter-widgets/base",
      "model_module_version": "1.2.0",
      "model_name": "LayoutModel",
      "state": {}
     },
     "af6ea57dcb644fe5a8ec69f2de08b920": {
      "model_module": "@jupyter-widgets/base",
      "model_module_version": "1.2.0",
      "model_name": "LayoutModel",
      "state": {
       "align_items": "stretch",
       "border": "dashed 0.2px green",
       "display": "flex",
       "flex_flow": "row",
       "grid_auto_columns": "True",
       "justify_content": "flex-start",
       "width": "100%"
      }
     },
     "af7d8e8032664ceda749338e8f79d45d": {
      "model_module": "@jupyter-widgets/base",
      "model_module_version": "1.2.0",
      "model_name": "LayoutModel",
      "state": {}
     },
     "afc194c0dd3e47d5917e2753fab9ad1a": {
      "model_module": "@jupyter-widgets/controls",
      "model_module_version": "1.5.0",
      "model_name": "HTMLModel",
      "state": {
       "layout": "IPY_MODEL_a8c35eb23a874d41a803e11cd992ac07",
       "style": "IPY_MODEL_91fc52d141a044d5bd2201bfb4ecd298",
       "value": "<p>spc_name_index</p>"
      }
     },
     "b006b4889faf4a66b7435e5eba74eb05": {
      "model_module": "@jupyter-widgets/controls",
      "model_module_version": "1.5.0",
      "model_name": "HBoxModel",
      "state": {
       "children": [
        "IPY_MODEL_f6858f88643f4d63ae2673a23a26c3d5",
        "IPY_MODEL_d98a3f5ccd02422f9e1700e390ad6128"
       ],
       "layout": "IPY_MODEL_61c51ea3e9244991b24910ad1fa010cb"
      }
     },
     "b00fd6f39950409c8e0b55bf756c1b3b": {
      "model_module": "@jupyter-widgets/controls",
      "model_module_version": "1.5.0",
      "model_name": "ButtonModel",
      "state": {
       "description": "save",
       "layout": "IPY_MODEL_6d9d0037b4c247878f123cd890554309",
       "style": "IPY_MODEL_79faea6454f04b39a0c3641ee234fab6"
      }
     },
     "b0169573aa9e4682afc1ffeff323ff89": {
      "model_module": "@jupyter-widgets/controls",
      "model_module_version": "1.5.0",
      "model_name": "HTMLModel",
      "state": {
       "layout": "IPY_MODEL_1c9ea9321ab746248b4d4a16c611c980",
       "style": "IPY_MODEL_b6beccaed10241e89b03643089a8eba6",
       "value": "<p>edit user input form below</p>"
      }
     },
     "b0388d9ff35f46549c28a534fcb6d859": {
      "model_module": "@jupyter-widgets/output",
      "model_module_version": "1.0.0",
      "model_name": "OutputModel",
      "state": {
       "layout": "IPY_MODEL_21efbb3e66e548db9eeef5ec6bd40250"
      }
     },
     "b03d2530377b4eb2a0be7459702d8da9": {
      "model_module": "@jupyter-widgets/base",
      "model_module_version": "1.2.0",
      "model_name": "LayoutModel",
      "state": {}
     },
     "b052926d437b4f1693fd220859700d47": {
      "model_module": "@jupyter-widgets/controls",
      "model_module_version": "1.5.0",
      "model_name": "DescriptionStyleModel",
      "state": {
       "description_width": ""
      }
     },
     "b0638c8e7f224a07ba9b61923c183d7b": {
      "model_module": "@jupyter-widgets/controls",
      "model_module_version": "1.5.0",
      "model_name": "DescriptionStyleModel",
      "state": {
       "description_width": ""
      }
     },
     "b06b3f87bb934e07add60e7ff0158765": {
      "model_module": "@jupyter-widgets/base",
      "model_module_version": "1.2.0",
      "model_name": "LayoutModel",
      "state": {
       "display": "flex",
       "flex_flow": "row",
       "grid_auto_columns": "False",
       "justify_content": "flex-start",
       "width": "100%"
      }
     },
     "b08c00c39be846f78a8f10d884d67c89": {
      "model_module": "@jupyter-widgets/controls",
      "model_module_version": "1.5.0",
      "model_name": "HBoxModel",
      "state": {
       "children": [
        "IPY_MODEL_29d8431593cc4c1da95fdc4277a032a5",
        "IPY_MODEL_acefe821267243609875faf7d62cc45d"
       ],
       "layout": "IPY_MODEL_fdb566be99e04202aeeab4f86e7466b5"
      }
     },
     "b0a81dfe2c2c42aa8b854079f88d8ffb": {
      "model_module": "@jupyter-widgets/base",
      "model_module_version": "1.2.0",
      "model_name": "LayoutModel",
      "state": {
       "width": "5%"
      }
     },
     "b0d4b5f0e088438cb627ffbca33cccbf": {
      "model_module": "@jupyter-widgets/controls",
      "model_module_version": "1.5.0",
      "model_name": "DescriptionStyleModel",
      "state": {
       "description_width": ""
      }
     },
     "b10db6fc435f429fa59e89ab0fd3b8e8": {
      "model_module": "@jupyter-widgets/controls",
      "model_module_version": "1.5.0",
      "model_name": "ButtonStyleModel",
      "state": {}
     },
     "b15b624d9635466eb99ebab63fbc9b74": {
      "model_module": "@jupyter-widgets/controls",
      "model_module_version": "1.5.0",
      "model_name": "HBoxModel",
      "state": {
       "children": [
        "IPY_MODEL_62b7ad15a13d4726ac6fc2145f0af306",
        "IPY_MODEL_c54114004a8343f79f30671cf6a715f6"
       ],
       "layout": "IPY_MODEL_53eb09fca69c4ab8bc7a9c6e45fee7bd"
      }
     },
     "b17680d75e83419eaea1bb07c0b58609": {
      "model_module": "@jupyter-widgets/controls",
      "model_module_version": "1.5.0",
      "model_name": "DropdownModel",
      "state": {
       "_options_labels": [
        "appdata\\inputs",
        "appdata",
        ""
       ],
       "index": 0,
       "layout": "IPY_MODEL_5cb9b84bb3964219ac5481ea610dd795",
       "style": "IPY_MODEL_0de81abed532436382368635a4f325cd"
      }
     },
     "b17791621da9485eba975959b661db4c": {
      "model_module": "@jupyter-widgets/controls",
      "model_module_version": "1.5.0",
      "model_name": "TextModel",
      "state": {
       "layout": "IPY_MODEL_dab2c58b9c6e4a929bd7c02f53d8b05e",
       "style": "IPY_MODEL_bb66005c2700458a88dc5a15a98f2ca2",
       "value": "Block"
      }
     },
     "b17991f206fd48a582f3497e8ba98eb3": {
      "model_module": "@jupyter-widgets/base",
      "model_module_version": "1.2.0",
      "model_name": "LayoutModel",
      "state": {}
     },
     "b17ee37a85d24eaba41eacf02b70d1f2": {
      "model_module": "@jupyter-widgets/base",
      "model_module_version": "1.2.0",
      "model_name": "LayoutModel",
      "state": {
       "align_items": "stretch",
       "display": "flex",
       "flex_flow": "row",
       "grid_auto_columns": "True",
       "justify_content": "flex-end",
       "width": "90%"
      }
     },
     "b183efed72a84c359de30f8b63592949": {
      "model_module": "@jupyter-widgets/base",
      "model_module_version": "1.2.0",
      "model_name": "LayoutModel",
      "state": {}
     },
     "b1cfa09a5fce46edb784b7191e5f65c1": {
      "model_module": "@jupyter-widgets/output",
      "model_module_version": "1.0.0",
      "model_name": "OutputModel",
      "state": {
       "layout": "IPY_MODEL_13e3933def2c49beb0f52742e0973269"
      }
     },
     "b1d56bec228b4be19c59c2546e7fbc09": {
      "model_module": "@jupyter-widgets/base",
      "model_module_version": "1.2.0",
      "model_name": "LayoutModel",
      "state": {}
     },
     "b20bad52eaa64bfea97cadfd0793a0aa": {
      "model_module": "@jupyter-widgets/controls",
      "model_module_version": "1.5.0",
      "model_name": "ButtonStyleModel",
      "state": {
       "font_weight": "bold"
      }
     },
     "b229541a56264b2da16a448bdb303bc8": {
      "model_module": "@jupyter-widgets/base",
      "model_module_version": "1.2.0",
      "model_name": "LayoutModel",
      "state": {
       "align_items": "stretch",
       "display": "flex",
       "flex_flow": "row",
       "grid_auto_columns": "True",
       "justify_content": "flex-start",
       "width": "80%"
      }
     },
     "b234e469ae034f31bdccf151234ec8a9": {
      "model_module": "@jupyter-widgets/controls",
      "model_module_version": "1.5.0",
      "model_name": "DescriptionStyleModel",
      "state": {
       "description_width": ""
      }
     },
     "b257f4013f6e4190a75a5882b6e7075b": {
      "model_module": "@jupyter-widgets/base",
      "model_module_version": "1.2.0",
      "model_name": "LayoutModel",
      "state": {
       "align_items": "stretch",
       "border": "dashed 0.2px green",
       "display": "flex",
       "flex_flow": "row",
       "grid_auto_columns": "True",
       "justify_content": "flex-start",
       "width": "100%"
      }
     },
     "b259876dc9314bd38123a7465e99e485": {
      "model_module": "@jupyter-widgets/controls",
      "model_module_version": "1.5.0",
      "model_name": "DescriptionStyleModel",
      "state": {
       "description_width": ""
      }
     },
     "b2a816c21dd4432296878779ab650e25": {
      "model_module": "@jupyter-widgets/controls",
      "model_module_version": "1.5.0",
      "model_name": "HBoxModel",
      "state": {
       "children": [
        "IPY_MODEL_0d2a197edc2d4798b92ec0be93d3df25"
       ],
       "layout": "IPY_MODEL_d78f7ad01e6a4cdd9deb072490a8fca9"
      }
     },
     "b2a8bb222eae4fb0bb1002e0b3a9def8": {
      "model_module": "@jupyter-widgets/controls",
      "model_module_version": "1.5.0",
      "model_name": "DescriptionStyleModel",
      "state": {
       "description_width": ""
      }
     },
     "b2b7abacdcaa49309f4ccfbfbd3fda93": {
      "model_module": "@jupyter-widgets/base",
      "model_module_version": "1.2.0",
      "model_name": "LayoutModel",
      "state": {}
     },
     "b2c8cca2e9f64589bfdff5d5056a8d76": {
      "model_module": "@jupyter-widgets/controls",
      "model_module_version": "1.5.0",
      "model_name": "HBoxModel",
      "state": {
       "children": [
        "IPY_MODEL_699e41bf01f84631a6cbd2f60720b0b7",
        "IPY_MODEL_f9226400b34a4d8eab77a38aca5200cd"
       ],
       "layout": "IPY_MODEL_77f522ccf10c4a9485b4915a8edfa120"
      }
     },
     "b2d29ac372a5436b8a75470832b37c0d": {
      "model_module": "@jupyter-widgets/controls",
      "model_module_version": "1.5.0",
      "model_name": "DescriptionStyleModel",
      "state": {
       "description_width": ""
      }
     },
     "b2f701cb730440dc824e9487fb6edb55": {
      "model_module": "@jupyter-widgets/base",
      "model_module_version": "1.2.0",
      "model_name": "LayoutModel",
      "state": {
       "align_items": "stretch",
       "border": "dashed 0.2px green",
       "display": "flex",
       "flex_flow": "row",
       "grid_auto_columns": "True",
       "justify_content": "flex-start",
       "width": "100%"
      }
     },
     "b30068b3460348bbb9905ff47261d5a2": {
      "model_module": "@jupyter-widgets/base",
      "model_module_version": "1.2.0",
      "model_name": "LayoutModel",
      "state": {
       "align_items": "stretch",
       "display": "flex",
       "flex_flow": "row",
       "grid_auto_columns": "True",
       "justify_content": "flex-end",
       "width": "90%"
      }
     },
     "b31fa3d841084aa5900b35d41c2462c5": {
      "model_module": "@jupyter-widgets/controls",
      "model_module_version": "1.5.0",
      "model_name": "DescriptionStyleModel",
      "state": {
       "description_width": ""
      }
     },
     "b33c60c5f3a549b0af3ed9a7f7d9ada7": {
      "model_module": "@jupyter-widgets/base",
      "model_module_version": "1.2.0",
      "model_name": "LayoutModel",
      "state": {}
     },
     "b343ea5781e44a0e99198a9de12e6cf3": {
      "model_module": "@jupyter-widgets/base",
      "model_module_version": "1.2.0",
      "model_name": "LayoutModel",
      "state": {}
     },
     "b36dfe75e03441278231107e5add436c": {
      "model_module": "@jupyter-widgets/controls",
      "model_module_version": "1.5.0",
      "model_name": "ToggleButtonModel",
      "state": {
       "button_style": "info",
       "description": "select file",
       "layout": "IPY_MODEL_f9dbce87dbf24d4c8cd3295f07327958",
       "style": "IPY_MODEL_60d16048ee7a4f89877dbe989cab6e8b"
      }
     },
     "b37057daab654f90b3822c820eba1d20": {
      "model_module": "@jupyter-widgets/base",
      "model_module_version": "1.2.0",
      "model_name": "LayoutModel",
      "state": {}
     },
     "b3768ae3af154b9dbb235c077a66fca7": {
      "model_module": "@jupyter-widgets/controls",
      "model_module_version": "1.5.0",
      "model_name": "DescriptionStyleModel",
      "state": {
       "description_width": ""
      }
     },
     "b39cf2e0365841ea9789bace8ecf6d8e": {
      "model_module": "@jupyter-widgets/base",
      "model_module_version": "1.2.0",
      "model_name": "LayoutModel",
      "state": {}
     },
     "b3ac7a48e2c34903b125899b4fcb8d6e": {
      "model_module": "@jupyter-widgets/controls",
      "model_module_version": "1.5.0",
      "model_name": "DescriptionStyleModel",
      "state": {
       "description_width": ""
      }
     },
     "b3d46295bd8a41298489a0281fb9380f": {
      "model_module": "@jupyter-widgets/output",
      "model_module_version": "1.0.0",
      "model_name": "OutputModel",
      "state": {
       "layout": "IPY_MODEL_55d6faf68b8944df9ba0872672363f92"
      }
     },
     "b40ab225c0bb483fb1fd6d3b0fc8b426": {
      "model_module": "@jupyter-widgets/controls",
      "model_module_version": "1.5.0",
      "model_name": "HBoxModel",
      "state": {
       "children": [
        "IPY_MODEL_ffc0025b13664adf96498cd67fbf9218"
       ],
       "layout": "IPY_MODEL_ff93d072263746b5b77c02268b0e0c15"
      }
     },
     "b40eb9c02a624b74a401cba96773c11c": {
      "model_module": "@jupyter-widgets/base",
      "model_module_version": "1.2.0",
      "model_name": "LayoutModel",
      "state": {
       "display": "none",
       "grid_gap": "0px 0px",
       "grid_template_areas": "\n                    'pathlist filename'\n                    'dircontent dircontent'\n                    ",
       "grid_template_columns": "60% 40%",
       "grid_template_rows": "auto auto",
       "width": "500px"
      }
     },
     "b41f9f08816145a4934a43b21dd80278": {
      "model_module": "@jupyter-widgets/controls",
      "model_module_version": "1.5.0",
      "model_name": "TextModel",
      "state": {
       "layout": "IPY_MODEL_c55e315de69d4259bc363bc8af9f97b9",
       "style": "IPY_MODEL_3e30ca45b4bd440c90d57a9fc3f8ebe9",
       "value": "SpaceType"
      }
     },
     "b425e029cd1849a78c946b20f5666d82": {
      "model_module": "@jupyter-widgets/output",
      "model_module_version": "1.0.0",
      "model_name": "OutputModel",
      "state": {
       "layout": "IPY_MODEL_bd275d47f60945e9b00a4ad97e5a1942"
      }
     },
     "b44aa94ecbf74731842426c4094b635b": {
      "model_module": "@jupyter-widgets/base",
      "model_module_version": "1.2.0",
      "model_name": "LayoutModel",
      "state": {
       "align_items": "stretch",
       "display": "flex",
       "flex_flow": "row",
       "grid_auto_columns": "True",
       "justify_content": "flex-start",
       "width": "80%"
      }
     },
     "b44e063a99814a139d5d1c7cda6556c9": {
      "model_module": "@jupyter-widgets/controls",
      "model_module_version": "1.5.0",
      "model_name": "HBoxModel",
      "state": {
       "children": [
        "IPY_MODEL_fba760e3d42b44208fbd4e29985ffd2a",
        "IPY_MODEL_2ce83574fe0f45dfad7dbbf640b02675"
       ],
       "layout": "IPY_MODEL_d2f303e58b5144b2b76dcdf5773e46bc"
      }
     },
     "b4932e8064e041b98645a20cd52cec4d": {
      "model_module": "@jupyter-widgets/base",
      "model_module_version": "1.2.0",
      "model_name": "LayoutModel",
      "state": {}
     },
     "b4b9ff03ac2e4998a698f244f7797888": {
      "model_module": "@jupyter-widgets/controls",
      "model_module_version": "1.5.0",
      "model_name": "HBoxModel",
      "state": {
       "children": [
        "IPY_MODEL_36ef272315254cc38c8b15319e13b0f2"
       ],
       "layout": "IPY_MODEL_7a22499c904e4f1cbb21d7dbe5fa6c8f"
      }
     },
     "b4c4b8154cb24971ae0bfb854759c321": {
      "model_module": "@jupyter-widgets/base",
      "model_module_version": "1.2.0",
      "model_name": "LayoutModel",
      "state": {
       "align_items": "stretch",
       "display": "flex",
       "flex_flow": "row",
       "grid_auto_columns": "True",
       "justify_content": "flex-start",
       "width": "80%"
      }
     },
     "b4e11505a0554587a46c2cc42b068034": {
      "model_module": "@jupyter-widgets/base",
      "model_module_version": "1.2.0",
      "model_name": "LayoutModel",
      "state": {}
     },
     "b4e631b438f74db3b8531865d0781509": {
      "model_module": "@jupyter-widgets/controls",
      "model_module_version": "1.5.0",
      "model_name": "ButtonModel",
      "state": {
       "description": "load",
       "icon": "upload",
       "layout": "IPY_MODEL_46edea073c714de69563e9431530e13d",
       "style": "IPY_MODEL_f4063e204eb948399b9fcad86973e713"
      }
     },
     "b4e6a4f09b474f2aa0a49b130f57ef66": {
      "model_module": "@jupyter-widgets/controls",
      "model_module_version": "1.5.0",
      "model_name": "HBoxModel",
      "state": {
       "children": [
        "IPY_MODEL_fd0223a45da549e8976c501bf881d8eb",
        "IPY_MODEL_0404553939a1407bafefa645552617c5"
       ],
       "layout": "IPY_MODEL_90079bbaa5d44c3ea5e19932c4107170"
      }
     },
     "b4ebc3316ed646fe8d1c5ce73499c599": {
      "model_module": "@jupyter-widgets/base",
      "model_module_version": "1.2.0",
      "model_name": "LayoutModel",
      "state": {}
     },
     "b4ed7040d6664e9a806913186cd55126": {
      "model_module": "@jupyter-widgets/base",
      "model_module_version": "1.2.0",
      "model_name": "LayoutModel",
      "state": {}
     },
     "b5439516a9454977820e9accc5ebc77f": {
      "model_module": "@jupyter-widgets/output",
      "model_module_version": "1.0.0",
      "model_name": "OutputModel",
      "state": {
       "layout": "IPY_MODEL_a42e8163161c4e05917cf83b699312c7"
      }
     },
     "b56cddd426a845edbcae6cbcf8ee56be": {
      "model_module": "@jupyter-widgets/controls",
      "model_module_version": "1.5.0",
      "model_name": "HBoxModel",
      "state": {
       "children": [
        "IPY_MODEL_0284d5a8c7a34c6fac7a2c9b45088031"
       ],
       "layout": "IPY_MODEL_2388b4c26e094bf4b28d40174d5c2bf4"
      }
     },
     "b57fb98e9506484380fa3d6c480fd6e4": {
      "model_module": "@jupyter-widgets/output",
      "model_module_version": "1.0.0",
      "model_name": "OutputModel",
      "state": {
       "layout": "IPY_MODEL_f57dfca0b62d4f90bf2a82dbf4a16dc2"
      }
     },
     "b59cc0a93c22439998941a47eccf569f": {
      "model_module": "@jupyter-widgets/base",
      "model_module_version": "1.2.0",
      "model_name": "LayoutModel",
      "state": {
       "align_items": "stretch",
       "border": "dashed 0.2px green",
       "display": "flex",
       "flex_flow": "row",
       "grid_auto_columns": "True",
       "justify_content": "flex-start",
       "width": "100%"
      }
     },
     "b5d900f8f91e4168baeae3e68765770b": {
      "model_module": "@jupyter-widgets/base",
      "model_module_version": "1.2.0",
      "model_name": "LayoutModel",
      "state": {
       "align_items": "stretch",
       "display": "flex",
       "flex_flow": "row",
       "grid_auto_columns": "True",
       "justify_content": "flex-start",
       "width": "80%"
      }
     },
     "b5e50292adf04d5195496ed3df431f82": {
      "model_module": "@jupyter-widgets/controls",
      "model_module_version": "1.5.0",
      "model_name": "DescriptionStyleModel",
      "state": {
       "description_width": ""
      }
     },
     "b5f0483a87b44c409504443f45906fb3": {
      "model_module": "@jupyter-widgets/base",
      "model_module_version": "1.2.0",
      "model_name": "LayoutModel",
      "state": {
       "align_items": "stretch",
       "border": "dashed 0.2px green",
       "display": "flex",
       "flex_flow": "row",
       "grid_auto_columns": "True",
       "justify_content": "flex-start",
       "width": "100%"
      }
     },
     "b67581be7ac0419598528186467f4c47": {
      "model_module": "@jupyter-widgets/base",
      "model_module_version": "1.2.0",
      "model_name": "LayoutModel",
      "state": {}
     },
     "b6b1844fd2d94745b0e15c40098a17bc": {
      "model_module": "@jupyter-widgets/base",
      "model_module_version": "1.2.0",
      "model_name": "LayoutModel",
      "state": {}
     },
     "b6b8b409011a42c9a105076d1fa3922d": {
      "model_module": "@jupyter-widgets/controls",
      "model_module_version": "1.5.0",
      "model_name": "DescriptionStyleModel",
      "state": {
       "description_width": ""
      }
     },
     "b6beccaed10241e89b03643089a8eba6": {
      "model_module": "@jupyter-widgets/controls",
      "model_module_version": "1.5.0",
      "model_name": "DescriptionStyleModel",
      "state": {
       "description_width": ""
      }
     },
     "b6cfd17b806049e5a6f7addb81b4ca29": {
      "model_module": "@jupyter-widgets/base",
      "model_module_version": "1.2.0",
      "model_name": "LayoutModel",
      "state": {
       "display": "flex",
       "flex_flow": "row",
       "grid_auto_columns": "False",
       "justify_content": "flex-start",
       "width": "100%"
      }
     },
     "b6daaafc3a2a4fe2b806e0c751d11f2c": {
      "model_module": "@jupyter-widgets/controls",
      "model_module_version": "1.5.0",
      "model_name": "HBoxModel",
      "state": {
       "children": [
        "IPY_MODEL_bffaa68c81474e44b75137a85c3e1921"
       ],
       "layout": "IPY_MODEL_bdb04633a6cf42fc916c1b3eedc9cdf7"
      }
     },
     "b6e84e2f92ae421990c64a2b35e21e29": {
      "model_module": "@jupyter-widgets/base",
      "model_module_version": "1.2.0",
      "model_name": "LayoutModel",
      "state": {}
     },
     "b6ed83ab6a3849c9b0222dbf5f3df064": {
      "model_module": "@jupyter-widgets/base",
      "model_module_version": "1.2.0",
      "model_name": "LayoutModel",
      "state": {}
     },
     "b6f73989159e461f8964aa9cc355a16e": {
      "model_module": "@jupyter-widgets/controls",
      "model_module_version": "1.5.0",
      "model_name": "ButtonStyleModel",
      "state": {}
     },
     "b71ed82de47443399238e30c419feb43": {
      "model_module": "@jupyter-widgets/base",
      "model_module_version": "1.2.0",
      "model_name": "LayoutModel",
      "state": {}
     },
     "b7235e1d31f940848da0c2a937fd93cd": {
      "model_module": "@jupyter-widgets/base",
      "model_module_version": "1.2.0",
      "model_name": "LayoutModel",
      "state": {
       "align_items": "stretch",
       "display": "flex",
       "flex_flow": "row",
       "grid_auto_columns": "True",
       "justify_content": "flex-end",
       "width": "90%"
      }
     },
     "b74e0a227d614aae90db97d744c24643": {
      "model_module": "@jupyter-widgets/base",
      "model_module_version": "1.2.0",
      "model_name": "LayoutModel",
      "state": {}
     },
     "b78def56816b4a5c9687bc8c828b4bbb": {
      "model_module": "@jupyter-widgets/controls",
      "model_module_version": "1.5.0",
      "model_name": "ButtonModel",
      "state": {
       "description": "save",
       "layout": "IPY_MODEL_a9b653201dd64f17b85f13c06e55376e",
       "style": "IPY_MODEL_445033eaf9d7431081859a6ff0e47f20"
      }
     },
     "b790a2d2110145e0886c75b87ad4c694": {
      "model_module": "@jupyter-widgets/base",
      "model_module_version": "1.2.0",
      "model_name": "LayoutModel",
      "state": {}
     },
     "b7a96490a20b4544b92c3d4ab0198237": {
      "model_module": "@jupyter-widgets/base",
      "model_module_version": "1.2.0",
      "model_name": "LayoutModel",
      "state": {
       "align_items": "stretch",
       "display": "flex",
       "flex_flow": "row",
       "grid_auto_columns": "True",
       "justify_content": "flex-end",
       "width": "90%"
      }
     },
     "b7b7a1cfea384c93a645e9927608aa4b": {
      "model_module": "@jupyter-widgets/base",
      "model_module_version": "1.2.0",
      "model_name": "LayoutModel",
      "state": {}
     },
     "b7bf9096eada497bb7aee1202ec5e39f": {
      "model_module": "@jupyter-widgets/base",
      "model_module_version": "1.2.0",
      "model_name": "LayoutModel",
      "state": {}
     },
     "b7f70cbf9d5949de8ecc2b196a61f376": {
      "model_module": "@jupyter-widgets/controls",
      "model_module_version": "1.5.0",
      "model_name": "HBoxModel",
      "state": {
       "children": [
        "IPY_MODEL_d9ee43de05c14ce0830c79f9a27507da"
       ],
       "layout": "IPY_MODEL_e36dcdb010d94374ab561961b8707f62"
      }
     },
     "b82ff2a456c045dea6c652a5b77565af": {
      "model_module": "@jupyter-widgets/controls",
      "model_module_version": "1.5.0",
      "model_name": "HBoxModel",
      "state": {
       "children": [
        "IPY_MODEL_43c6540a16234894800e8b8e6ad922e4",
        "IPY_MODEL_e4e320c953b04234a1982811dc3d9f8e"
       ],
       "layout": "IPY_MODEL_5ceff4fc1a234f8fa13c51db2dd5e537"
      }
     },
     "b8402faf8a0c4d7d9b9b2646aa0ad3cb": {
      "model_module": "@jupyter-widgets/controls",
      "model_module_version": "1.5.0",
      "model_name": "CheckboxModel",
      "state": {
       "disabled": false,
       "layout": "IPY_MODEL_73218d03f63243ca921bd184083b15ff",
       "style": "IPY_MODEL_9cdc12671ea34f54bb32c28f601f32ff",
       "value": false
      }
     },
     "b85cd7b3fe43488385d50f31a9a8418b": {
      "model_module": "@jupyter-widgets/base",
      "model_module_version": "1.2.0",
      "model_name": "LayoutModel",
      "state": {}
     },
     "b86a225a68e445d2b7c148c0de6288e7": {
      "model_module": "@jupyter-widgets/controls",
      "model_module_version": "1.5.0",
      "model_name": "HBoxModel",
      "state": {
       "children": [
        "IPY_MODEL_ddb4c2663ea545e0ad6ec74e42c28f6b",
        "IPY_MODEL_47382d711e7647218c6d57ef24c3cf84"
       ],
       "layout": "IPY_MODEL_085e9c1adf4245baaa59168b551b86f6"
      }
     },
     "b876f8bfdb56488ca9b53c7d8a4e818a": {
      "model_module": "@jupyter-widgets/base",
      "model_module_version": "1.2.0",
      "model_name": "LayoutModel",
      "state": {
       "align_items": "stretch",
       "display": "flex",
       "flex_flow": "row",
       "grid_auto_columns": "True",
       "justify_content": "flex-start",
       "width": "80%"
      }
     },
     "b8b4e7971c8c4409b3ac75b5990b60c6": {
      "model_module": "@jupyter-widgets/controls",
      "model_module_version": "1.5.0",
      "model_name": "HBoxModel",
      "state": {
       "children": [
        "IPY_MODEL_073252791bcf46f9953e259f5ca18f75",
        "IPY_MODEL_60cb5145db5c4445a0f8e274cf599ba2"
       ],
       "layout": "IPY_MODEL_4ce9deba95fa479cb4bdb4277442db4e"
      }
     },
     "b8b729cc8edc4f6fa70410d9a9ac44bf": {
      "model_module": "@jupyter-widgets/base",
      "model_module_version": "1.2.0",
      "model_name": "LayoutModel",
      "state": {
       "align_items": "stretch",
       "border": "dashed 0.2px green",
       "display": "flex",
       "flex_flow": "row",
       "grid_auto_columns": "True",
       "justify_content": "flex-start",
       "width": "100%"
      }
     },
     "b8bea702b8ad48d3a7c275dd3d7f4078": {
      "model_module": "@jupyter-widgets/base",
      "model_module_version": "1.2.0",
      "model_name": "LayoutModel",
      "state": {}
     },
     "b8d6427fb0e44ed982086378d2e2abd4": {
      "model_module": "@jupyter-widgets/controls",
      "model_module_version": "1.5.0",
      "model_name": "ToggleButtonModel",
      "state": {
       "button_style": "info",
       "description": "inputs from file",
       "layout": "IPY_MODEL_ef4037e5506d4442be4cc234b33c035b",
       "style": "IPY_MODEL_06528ac4225b48bb90859bcba7cc6ed3"
      }
     },
     "b8dcb1fd1a854ce5a5fedd5009ff257e": {
      "model_module": "@jupyter-widgets/controls",
      "model_module_version": "1.5.0",
      "model_name": "VBoxModel",
      "state": {
       "children": [
        "IPY_MODEL_5034598307ee4eb7bfd84177991508f8",
        "IPY_MODEL_fffbc83229f94192a8b041a173232964",
        "IPY_MODEL_0e30110e44a54909958d4283a3bf6241",
        "IPY_MODEL_5b6d97a8004c4b15932c5c84a02e2894",
        "IPY_MODEL_188d28486ddc4ed29550f21b0e82fa0e",
        "IPY_MODEL_d9b5f5b8a0064fe18f6a36fe5cd8fcce",
        "IPY_MODEL_709cedb98919401aad7b98059d2cc1c8",
        "IPY_MODEL_6a9d3a6eae664143b5d912831c7d7a9f"
       ],
       "layout": "IPY_MODEL_1c9f6978f2e643e9a2f62c4b9467b1e7"
      }
     },
     "b8e9f50092294cb5afcb7b42799279d9": {
      "model_module": "@jupyter-widgets/base",
      "model_module_version": "1.2.0",
      "model_name": "LayoutModel",
      "state": {}
     },
     "b8fed7831e214d469ac565a0e5cfe6f7": {
      "model_module": "@jupyter-widgets/base",
      "model_module_version": "1.2.0",
      "model_name": "LayoutModel",
      "state": {}
     },
     "b91778be032b4555a32a34563adae6d8": {
      "model_module": "@jupyter-widgets/base",
      "model_module_version": "1.2.0",
      "model_name": "LayoutModel",
      "state": {}
     },
     "b979fc89905c4319945519b655f60a80": {
      "model_module": "@jupyter-widgets/controls",
      "model_module_version": "1.5.0",
      "model_name": "DescriptionStyleModel",
      "state": {
       "description_width": ""
      }
     },
     "b9a1626b33e34bd3883f2cce25f1f738": {
      "model_module": "@jupyter-widgets/controls",
      "model_module_version": "1.5.0",
      "model_name": "HTMLModel",
      "state": {
       "layout": "IPY_MODEL_6271ca63e805426a835daef57460ea46",
       "style": "IPY_MODEL_27b75c45f23642f5a85b845fe4f39ed9",
       "value": "<p>edit user input form below</p>"
      }
     },
     "b9a16d376d0e47308a5c4d4cdc65d17c": {
      "model_module": "@jupyter-widgets/output",
      "model_module_version": "1.0.0",
      "model_name": "OutputModel",
      "state": {
       "layout": "IPY_MODEL_5f5918e412bb49a2be72afb2da1a563d"
      }
     },
     "b9bb7dafbf2d478988dd8c9a990e373f": {
      "model_module": "@jupyter-widgets/controls",
      "model_module_version": "1.5.0",
      "model_name": "DescriptionStyleModel",
      "state": {
       "description_width": ""
      }
     },
     "b9bc6e548da2462d8d11813d012d8b96": {
      "model_module": "@jupyter-widgets/controls",
      "model_module_version": "1.5.0",
      "model_name": "DescriptionStyleModel",
      "state": {
       "description_width": ""
      }
     },
     "b9c3713070fd4a55b82283b179e6d648": {
      "model_module": "@jupyter-widgets/output",
      "model_module_version": "1.0.0",
      "model_name": "OutputModel",
      "state": {
       "layout": "IPY_MODEL_52debdf98092471aa66ba4f50f4408a2"
      }
     },
     "b9d04f9b28524f8b8012f7963f8d501e": {
      "model_module": "@jupyter-widgets/controls",
      "model_module_version": "1.5.0",
      "model_name": "HBoxModel",
      "state": {
       "children": [
        "IPY_MODEL_c996e3f0f16e4f1993ae7ee7f7d51255",
        "IPY_MODEL_959247567b0c4851a971bce17e5d4849"
       ],
       "layout": "IPY_MODEL_743756097d504cfdbb8f45e0ee588b1a"
      }
     },
     "b9d28fdc0e374021b875602f0a373ac5": {
      "model_module": "@jupyter-widgets/base",
      "model_module_version": "1.2.0",
      "model_name": "LayoutModel",
      "state": {}
     },
     "ba520004cb9d44b981e699fe17ac0f76": {
      "model_module": "@jupyter-widgets/base",
      "model_module_version": "1.2.0",
      "model_name": "LayoutModel",
      "state": {
       "border": "solid 1px #BBBBBB",
       "padding": "0px 10px 0px 10px"
      }
     },
     "ba948bc9f4424e85b35301b099ab02ac": {
      "model_module": "@jupyter-widgets/controls",
      "model_module_version": "1.5.0",
      "model_name": "HTMLModel",
      "state": {
       "layout": "IPY_MODEL_303d2f2bc97e4e13a79d0bcdc33dad1a",
       "style": "IPY_MODEL_4b2c239c3d7a41e1a8ed847891009bf9",
       "value": "<p>5th section of space name code (enter None if 5th section doesn't exist)</p>"
      }
     },
     "baa008530f9443c29740edd9d4aae79d": {
      "model_module": "@jupyter-widgets/base",
      "model_module_version": "1.2.0",
      "model_name": "LayoutModel",
      "state": {}
     },
     "bab8195b400f48e99041f89f95b086cc": {
      "model_module": "@jupyter-widgets/base",
      "model_module_version": "1.2.0",
      "model_name": "LayoutModel",
      "state": {}
     },
     "babcc2b5249c40b9abf682e216e08cf2": {
      "model_module": "@jupyter-widgets/controls",
      "model_module_version": "1.5.0",
      "model_name": "HTMLModel",
      "state": {
       "layout": "IPY_MODEL_3a8496299a584e42b38864cb6312293e",
       "style": "IPY_MODEL_573e1cb543b5407fbb952d3979d5e03f",
       "value": "<p>2</p>"
      }
     },
     "bacd85dafd9e45e3b7dc46533708b7c1": {
      "model_module": "@jupyter-widgets/base",
      "model_module_version": "1.2.0",
      "model_name": "LayoutModel",
      "state": {
       "align_items": "stretch",
       "display": "flex",
       "flex_flow": "row",
       "grid_auto_columns": "True",
       "justify_content": "flex-end",
       "width": "90%"
      }
     },
     "badb4af156744ebaade03e9b25a6a94b": {
      "model_module": "@jupyter-widgets/controls",
      "model_module_version": "1.5.0",
      "model_name": "VBoxModel",
      "state": {
       "children": [
        "IPY_MODEL_6cdec8bdd04649888a096f26d3a55349",
        "IPY_MODEL_c40ce688a68243e6b3e18d704a489ea9"
       ],
       "layout": "IPY_MODEL_03284f687967465996897ea32fc70812"
      }
     },
     "bae533d3ae0e46938d3d74f4433e2302": {
      "model_module": "@jupyter-widgets/base",
      "model_module_version": "1.2.0",
      "model_name": "LayoutModel",
      "state": {}
     },
     "bae8802dcd6f4afd87fdf8b40bf311d4": {
      "model_module": "@jupyter-widgets/controls",
      "model_module_version": "1.5.0",
      "model_name": "DropdownModel",
      "state": {
       "_options_labels": [
        "asfd",
        "10",
        "asdf"
       ],
       "index": 1,
       "layout": "IPY_MODEL_087cd1e804014dc2a24739ffa1dba019",
       "style": "IPY_MODEL_f07c115550834debb41c614dea4315b5"
      }
     },
     "baf2b2bd3b01491a9def6d7920b58512": {
      "model_module": "@jupyter-widgets/base",
      "model_module_version": "1.2.0",
      "model_name": "LayoutModel",
      "state": {}
     },
     "bb0f8be1fb714e7583471f91c273d646": {
      "model_module": "@jupyter-widgets/controls",
      "model_module_version": "1.5.0",
      "model_name": "DescriptionStyleModel",
      "state": {
       "description_width": ""
      }
     },
     "bb1198e511544ddd9ec8c840c0469551": {
      "model_module": "@jupyter-widgets/controls",
      "model_module_version": "1.5.0",
      "model_name": "TextModel",
      "state": {
       "layout": "IPY_MODEL_4ed651d6140b4cce9dc73b1c1b636751",
       "style": "IPY_MODEL_ad86f8c96978465e8e9661f9300136cf",
       "value": "shit"
      }
     },
     "bb1313e27b244905906f31868d3ad7da": {
      "model_module": "@jupyter-widgets/base",
      "model_module_version": "1.2.0",
      "model_name": "LayoutModel",
      "state": {}
     },
     "bb38fad65559493dab260337123fadd6": {
      "model_module": "@jupyter-widgets/base",
      "model_module_version": "1.2.0",
      "model_name": "LayoutModel",
      "state": {}
     },
     "bb403f45fb224b07b5ac266d07160c64": {
      "model_module": "@jupyter-widgets/controls",
      "model_module_version": "1.5.0",
      "model_name": "HTMLModel",
      "state": {
       "layout": "IPY_MODEL_18f46608ac194bb596557e1027dd9c4f",
       "style": "IPY_MODEL_46be0797663a4b77b2109e1413d2f839",
       "value": "<p>0</p>"
      }
     },
     "bb4a7e2b634e4799a30fca149e1770b2": {
      "model_module": "@jupyter-widgets/base",
      "model_module_version": "1.2.0",
      "model_name": "LayoutModel",
      "state": {}
     },
     "bb66005c2700458a88dc5a15a98f2ca2": {
      "model_module": "@jupyter-widgets/controls",
      "model_module_version": "1.5.0",
      "model_name": "DescriptionStyleModel",
      "state": {
       "description_width": ""
      }
     },
     "bb742c4a828041d7b74cf993eb340c3c": {
      "model_module": "@jupyter-widgets/controls",
      "model_module_version": "1.5.0",
      "model_name": "DescriptionStyleModel",
      "state": {
       "description_width": ""
      }
     },
     "bb8ed6c80d014d7694995dd1b3854943": {
      "model_module": "@jupyter-widgets/output",
      "model_module_version": "1.0.0",
      "model_name": "OutputModel",
      "state": {
       "layout": "IPY_MODEL_bb4a7e2b634e4799a30fca149e1770b2"
      }
     },
     "bba38c6301874eb5b262f260b4e2662d": {
      "model_module": "@jupyter-widgets/base",
      "model_module_version": "1.2.0",
      "model_name": "LayoutModel",
      "state": {}
     },
     "bbbdccac82c34eec8b4d6af40ed88b69": {
      "model_module": "@jupyter-widgets/base",
      "model_module_version": "1.2.0",
      "model_name": "LayoutModel",
      "state": {}
     },
     "bc3716714b1540c29a2714ae9ca4f770": {
      "model_module": "@jupyter-widgets/base",
      "model_module_version": "1.2.0",
      "model_name": "LayoutModel",
      "state": {}
     },
     "bc48c142c39047628eb49e622aabcc8a": {
      "model_module": "@jupyter-widgets/controls",
      "model_module_version": "1.5.0",
      "model_name": "HBoxModel",
      "state": {
       "children": [
        "IPY_MODEL_153ae03edb0947eb9b2db7bc74eb95e7",
        "IPY_MODEL_cbd10783be714d98aa58412f230b27e1"
       ],
       "layout": "IPY_MODEL_e5f5c44ea7bd4f7eb6586c1f985ab811"
      }
     },
     "bc549d940a9a444c935dc554b99b8a62": {
      "model_module": "@jupyter-widgets/base",
      "model_module_version": "1.2.0",
      "model_name": "LayoutModel",
      "state": {}
     },
     "bc66786d84864d0db5c15173ab513deb": {
      "model_module": "@jupyter-widgets/base",
      "model_module_version": "1.2.0",
      "model_name": "LayoutModel",
      "state": {}
     },
     "bc7535c0d0444b8c8db078b104429578": {
      "model_module": "@jupyter-widgets/output",
      "model_module_version": "1.0.0",
      "model_name": "OutputModel",
      "state": {
       "layout": "IPY_MODEL_90af1cd784e54dfdb86c9279147f7fed"
      }
     },
     "bc8250bad2be409c81ef8dbeb0c7096a": {
      "model_module": "@jupyter-widgets/controls",
      "model_module_version": "1.5.0",
      "model_name": "HBoxModel",
      "state": {
       "children": [
        "IPY_MODEL_92d43f7105cf4f3b939dd39e77f33bb3"
       ],
       "layout": "IPY_MODEL_b8b729cc8edc4f6fa70410d9a9ac44bf"
      }
     },
     "bcef73fb0f4549219fc8b0e577e1ea7b": {
      "model_module": "@jupyter-widgets/controls",
      "model_module_version": "1.5.0",
      "model_name": "DescriptionStyleModel",
      "state": {
       "description_width": ""
      }
     },
     "bd221f792cb2406498bc1b7458f33a47": {
      "model_module": "@jupyter-widgets/controls",
      "model_module_version": "1.5.0",
      "model_name": "DescriptionStyleModel",
      "state": {
       "description_width": ""
      }
     },
     "bd26681125474c8a9ba8f9b9fa820f13": {
      "model_module": "@jupyter-widgets/base",
      "model_module_version": "1.2.0",
      "model_name": "LayoutModel",
      "state": {
       "grid_area": "dircontent",
       "width": "auto"
      }
     },
     "bd275d47f60945e9b00a4ad97e5a1942": {
      "model_module": "@jupyter-widgets/base",
      "model_module_version": "1.2.0",
      "model_name": "LayoutModel",
      "state": {}
     },
     "bdb04633a6cf42fc916c1b3eedc9cdf7": {
      "model_module": "@jupyter-widgets/base",
      "model_module_version": "1.2.0",
      "model_name": "LayoutModel",
      "state": {
       "align_items": "stretch",
       "border": "dashed 0.2px green",
       "display": "flex",
       "flex_flow": "row",
       "grid_auto_columns": "True",
       "justify_content": "flex-start",
       "width": "100%"
      }
     },
     "bdb7478f84154e85974440c462131357": {
      "model_module": "@jupyter-widgets/controls",
      "model_module_version": "1.5.0",
      "model_name": "HBoxModel",
      "state": {
       "children": [
        "IPY_MODEL_481daf87f8b34d33a516f55441e4ba01",
        "IPY_MODEL_d154b8851e1c4dbb86d1d1e175fa64b0"
       ],
       "layout": "IPY_MODEL_9310ef44024942f097eb8dea09e56a7b"
      }
     },
     "bdc8e5e375664185afef1a77d57f34f8": {
      "model_module": "@jupyter-widgets/base",
      "model_module_version": "1.2.0",
      "model_name": "LayoutModel",
      "state": {
       "display": "none",
       "grid_gap": "0px 0px",
       "grid_template_areas": "\n                    'pathlist filename'\n                    'dircontent dircontent'\n                    ",
       "grid_template_columns": "60% 40%",
       "grid_template_rows": "auto auto",
       "width": "500px"
      }
     },
     "bddf453d9208417a816c882203bc8968": {
      "model_module": "@jupyter-widgets/base",
      "model_module_version": "1.2.0",
      "model_name": "LayoutModel",
      "state": {
       "align_items": "stretch",
       "display": "flex",
       "flex_flow": "row",
       "grid_auto_columns": "True",
       "justify_content": "flex-start",
       "width": "80%"
      }
     },
     "bde8c81e312f4d7aa88ce16c0f44ebef": {
      "model_module": "@jupyter-widgets/base",
      "model_module_version": "1.2.0",
      "model_name": "LayoutModel",
      "state": {}
     },
     "bdf3a7ce48e2490a81a77a04b635ca38": {
      "model_module": "@jupyter-widgets/controls",
      "model_module_version": "1.5.0",
      "model_name": "HBoxModel",
      "state": {
       "children": [
        "IPY_MODEL_27d9889e722248899df8eb8390b492c1",
        "IPY_MODEL_7441add00f4e44bf93a1ed12cc01951f"
       ],
       "layout": "IPY_MODEL_838453bd36a343e58b59b5df827a8c79"
      }
     },
     "be0e08ef30d746b1b87e7e3c24b63fae": {
      "model_module": "@jupyter-widgets/base",
      "model_module_version": "1.2.0",
      "model_name": "LayoutModel",
      "state": {}
     },
     "be4007a9853a4d5d9a9acaf94be3c700": {
      "model_module": "@jupyter-widgets/base",
      "model_module_version": "1.2.0",
      "model_name": "LayoutModel",
      "state": {
       "align_items": "stretch",
       "border": "dashed 0.2px green",
       "display": "flex",
       "flex_flow": "row",
       "grid_auto_columns": "True",
       "justify_content": "flex-start",
       "width": "100%"
      }
     },
     "be4659ebdcae4161b439acd7b21c37d9": {
      "model_module": "@jupyter-widgets/controls",
      "model_module_version": "1.5.0",
      "model_name": "HBoxModel",
      "state": {
       "children": [
        "IPY_MODEL_e327ae37261c4639bd0f4b1f466fc10e",
        "IPY_MODEL_8e87153c51314ab3b01d22a2e6face2f"
       ],
       "layout": "IPY_MODEL_8327910d0bcd49f890c9d85b54a0e95b"
      }
     },
     "be4fd6fd90df4721a2922e48b9a0e8c7": {
      "model_module": "@jupyter-widgets/base",
      "model_module_version": "1.2.0",
      "model_name": "LayoutModel",
      "state": {
       "align_items": "stretch",
       "display": "flex",
       "flex_flow": "row",
       "grid_auto_columns": "True",
       "justify_content": "flex-end",
       "width": "90%"
      }
     },
     "be7eec2afe0c40199fe8e772270b1f27": {
      "model_module": "@jupyter-widgets/base",
      "model_module_version": "1.2.0",
      "model_name": "LayoutModel",
      "state": {}
     },
     "be9ed2d26e564a958e45fac140599e8a": {
      "model_module": "@jupyter-widgets/controls",
      "model_module_version": "1.5.0",
      "model_name": "DescriptionStyleModel",
      "state": {
       "description_width": ""
      }
     },
     "bea80ce968b94ad98b445fcfebc318d7": {
      "model_module": "@jupyter-widgets/base",
      "model_module_version": "1.2.0",
      "model_name": "LayoutModel",
      "state": {
       "width": "auto"
      }
     },
     "beb01abba1084007ab35f9e0a786a1aa": {
      "model_module": "@jupyter-widgets/controls",
      "model_module_version": "1.5.0",
      "model_name": "VBoxModel",
      "state": {
       "layout": "IPY_MODEL_b06b3f87bb934e07add60e7ff0158765"
      }
     },
     "beb86faabc9241598ba71067b6d15e0b": {
      "model_module": "@jupyter-widgets/controls",
      "model_module_version": "1.5.0",
      "model_name": "ToggleButtonModel",
      "state": {
       "description": "help",
       "icon": "fa-question-circle",
       "layout": "IPY_MODEL_07879336ee864a2fad5a70598345d409",
       "style": "IPY_MODEL_f15e75ae225a4667881879c358583a0d",
       "tooltip": "gives guidance"
      }
     },
     "bebadaa3f6004360921c05e7922e1438": {
      "model_module": "@jupyter-widgets/controls",
      "model_module_version": "1.5.0",
      "model_name": "HBoxModel",
      "state": {
       "children": [
        "IPY_MODEL_88febfdb68434454b4702ac9a1d29d43",
        "IPY_MODEL_1ac4695e39ab4809a447176be4392716"
       ],
       "layout": "IPY_MODEL_efa3b721e08d47679bc75cc03b04ed96"
      }
     },
     "bec02efb936d433ba33c98e503263f23": {
      "model_module": "@jupyter-widgets/base",
      "model_module_version": "1.2.0",
      "model_name": "LayoutModel",
      "state": {}
     },
     "becbd4cb0aef4a599a073e3d4ce737e0": {
      "model_module": "@jupyter-widgets/base",
      "model_module_version": "1.2.0",
      "model_name": "LayoutModel",
      "state": {}
     },
     "bed854f4183d4dceb737fc31312b028b": {
      "model_module": "@jupyter-widgets/base",
      "model_module_version": "1.2.0",
      "model_name": "LayoutModel",
      "state": {}
     },
     "bedfe4ec23ea46cbbdcbd541bedba816": {
      "model_module": "@jupyter-widgets/output",
      "model_module_version": "1.0.0",
      "model_name": "OutputModel",
      "state": {
       "layout": "IPY_MODEL_d2471998c85a4e6b93cdd770e86a8e12"
      }
     },
     "bf11fb5245eb49a7a3a206b59611aa8e": {
      "model_module": "@jupyter-widgets/controls",
      "model_module_version": "1.5.0",
      "model_name": "ButtonModel",
      "state": {
       "button_style": "warning",
       "description": "revert to last save",
       "layout": "IPY_MODEL_e2b4a1ec2f4f455d8c5f5b3d56795b5e",
       "style": "IPY_MODEL_b20bad52eaa64bfea97cadfd0793a0aa"
      }
     },
     "bf1a6ace8a2d49929bf9760442299fb4": {
      "model_module": "@jupyter-widgets/controls",
      "model_module_version": "1.5.0",
      "model_name": "HTMLModel",
      "state": {
       "layout": "IPY_MODEL_9272e3eec13342238182425166536402",
       "placeholder": "",
       "style": "IPY_MODEL_8a89f22725974155a28a68e2c9785882",
       "value": "<span style=\"margin-left:10px; color:black;\">No file selected</span>"
      }
     },
     "bf1e2d53d0f247e188e84bc2e07efb54": {
      "model_module": "@jupyter-widgets/controls",
      "model_module_version": "1.5.0",
      "model_name": "HTMLModel",
      "state": {
       "layout": "IPY_MODEL_bec02efb936d433ba33c98e503263f23",
       "style": "IPY_MODEL_a6b46e3f2b2347008a9acd06acf2d38b",
       "value": "<p>reous foo ous foo st</p>"
      }
     },
     "bf2dc0821a4e4916bd41d3849d37a9aa": {
      "model_module": "@jupyter-widgets/controls",
      "model_module_version": "1.5.0",
      "model_name": "HBoxModel",
      "state": {
       "children": [
        "IPY_MODEL_24fa338e494241698e815bcc5f951379",
        "IPY_MODEL_2a01b66a25284ec192330dd31d1fb4a5"
       ],
       "layout": "IPY_MODEL_3319c02fff204126afdfbd0bfc3026ee"
      }
     },
     "bf3c34cc9946482bad822f85478cf0dd": {
      "model_module": "@jupyter-widgets/controls",
      "model_module_version": "1.5.0",
      "model_name": "HBoxModel",
      "state": {
       "children": [
        "IPY_MODEL_62a695cad75a4b758d10b4736bfdf63c",
        "IPY_MODEL_7e3e9f9c45f14765bf8ff34d6a9cb463"
       ],
       "layout": "IPY_MODEL_5327c8ed5ef3469ab8784e82af29b071"
      }
     },
     "bf7322fd38f4455e96333e98d91e67a9": {
      "model_module": "@jupyter-widgets/controls",
      "model_module_version": "1.5.0",
      "model_name": "HBoxModel",
      "state": {
       "children": [
        "IPY_MODEL_2c1bb0acac704506b2c14d08f0d6e793",
        "IPY_MODEL_90b9a308a0eb42408b0ce05933849200"
       ],
       "layout": "IPY_MODEL_ffb2d1fcc36143c496beb958d6964aef"
      }
     },
     "bf73646c48cf4573856a2758b1806eee": {
      "model_module": "@jupyter-widgets/controls",
      "model_module_version": "1.5.0",
      "model_name": "HTMLModel",
      "state": {
       "layout": "IPY_MODEL_9a45d423f93b4f34a02fe272ce68a5ed",
       "style": "IPY_MODEL_caa699e4f75b44d79dd3ef847935bb40",
       "value": "<p>its a delicious foo cake</p>"
      }
     },
     "bf8cd45bc2c34ca6a0b2c481f3add111": {
      "model_module": "@jupyter-widgets/controls",
      "model_module_version": "1.5.0",
      "model_name": "DescriptionStyleModel",
      "state": {
       "description_width": ""
      }
     },
     "bf98de8a8d014a8aaa3a47d2138d9c22": {
      "model_module": "@jupyter-widgets/base",
      "model_module_version": "1.2.0",
      "model_name": "LayoutModel",
      "state": {
       "width": "auto"
      }
     },
     "bfa13a3683d4434db9ea96cca76723bf": {
      "model_module": "@jupyter-widgets/controls",
      "model_module_version": "1.5.0",
      "model_name": "HTMLModel",
      "state": {
       "layout": "IPY_MODEL_b8fed7831e214d469ac565a0e5cfe6f7",
       "style": "IPY_MODEL_b052926d437b4f1693fd220859700d47",
       "value": "<p>input gbxml filepath</p>"
      }
     },
     "bfb9ad78fd75412180f2cb3618a6e818": {
      "model_module": "@jupyter-widgets/controls",
      "model_module_version": "1.5.0",
      "model_name": "HTMLModel",
      "state": {
       "layout": "IPY_MODEL_2bda96b88e684dc8910bce19fbb06a73",
       "style": "IPY_MODEL_1fc4608babe2480bbd419c8a25fb60fa",
       "value": "<p>Model Desc</p>"
      }
     },
     "bfe1895358c44a60a0ed30c80e3ef7a6": {
      "model_module": "@jupyter-widgets/base",
      "model_module_version": "1.2.0",
      "model_name": "LayoutModel",
      "state": {}
     },
     "bfea92ef8e3e484bbf9ccebbe6e68054": {
      "model_module": "@jupyter-widgets/base",
      "model_module_version": "1.2.0",
      "model_name": "LayoutModel",
      "state": {
       "align_items": "stretch",
       "border": "dashed 0.2px green",
       "display": "flex",
       "flex_flow": "row",
       "grid_auto_columns": "True",
       "justify_content": "flex-start",
       "width": "100%"
      }
     },
     "bffaa68c81474e44b75137a85c3e1921": {
      "model_module": "@jupyter-widgets/controls",
      "model_module_version": "1.5.0",
      "model_name": "HBoxModel",
      "state": {
       "children": [
        "IPY_MODEL_ca15756102f14ad9bfaaf086b750d5f1",
        "IPY_MODEL_977d6181492f49b9a5a613daa7cda1f3"
       ],
       "layout": "IPY_MODEL_5b19708a2d4a4fdeb7ae39be3c2056d7"
      }
     },
     "c0316e8efdd34931a711fc8b59f40bad": {
      "model_module": "@jupyter-widgets/base",
      "model_module_version": "1.2.0",
      "model_name": "LayoutModel",
      "state": {}
     },
     "c060d027cf454f30a8676b90c767ade8": {
      "model_module": "@jupyter-widgets/controls",
      "model_module_version": "1.5.0",
      "model_name": "DescriptionStyleModel",
      "state": {
       "description_width": ""
      }
     },
     "c06442cac5d24e74b808573f8abf5469": {
      "model_module": "@jupyter-widgets/controls",
      "model_module_version": "1.5.0",
      "model_name": "HBoxModel",
      "state": {
       "children": [
        "IPY_MODEL_1a1ef3f3b0fd4281b172a6e8056dbf61"
       ],
       "layout": "IPY_MODEL_f5c4c532f8d545cf8741b3a119b3f17c"
      }
     },
     "c06a2c3f88564fb7bfdd6e5655a299af": {
      "model_module": "@jupyter-widgets/controls",
      "model_module_version": "1.5.0",
      "model_name": "DescriptionStyleModel",
      "state": {
       "description_width": ""
      }
     },
     "c0da5aed3b644b9fad93509227be5dff": {
      "model_module": "@jupyter-widgets/controls",
      "model_module_version": "1.5.0",
      "model_name": "HBoxModel",
      "state": {
       "children": [
        "IPY_MODEL_609d38b0a75049879ac770890c5fce89"
       ],
       "layout": "IPY_MODEL_ee545beb9be44147a22b28b3c923a3fd"
      }
     },
     "c0e596388dbf4f16b6ae7db588af4c26": {
      "model_module": "@jupyter-widgets/controls",
      "model_module_version": "1.5.0",
      "model_name": "HBoxModel",
      "state": {
       "children": [
        "IPY_MODEL_b82ff2a456c045dea6c652a5b77565af"
       ],
       "layout": "IPY_MODEL_73a6634ebd174b47a845c60865df2a4f"
      }
     },
     "c14d3b2f2db5436eb548cf8ca7cb877d": {
      "model_module": "@jupyter-widgets/controls",
      "model_module_version": "1.5.0",
      "model_name": "VBoxModel",
      "state": {
       "layout": "IPY_MODEL_9ab735355f12443fa8c21943d15aef45"
      }
     },
     "c17786b79a03481e960fed42010486a8": {
      "model_module": "@jupyter-widgets/base",
      "model_module_version": "1.2.0",
      "model_name": "LayoutModel",
      "state": {
       "align_items": "stretch",
       "display": "flex",
       "flex_flow": "row",
       "grid_auto_columns": "True",
       "justify_content": "flex-start",
       "width": "80%"
      }
     },
     "c191d66641234d329abf09b667a439d1": {
      "model_module": "@jupyter-widgets/controls",
      "model_module_version": "1.5.0",
      "model_name": "DescriptionStyleModel",
      "state": {
       "description_width": ""
      }
     },
     "c191f795cfe047fd84f54c34e3bfa8da": {
      "model_module": "@jupyter-widgets/controls",
      "model_module_version": "1.5.0",
      "model_name": "DescriptionStyleModel",
      "state": {
       "description_width": ""
      }
     },
     "c1c53690aafc419eb6def5c3cd19b510": {
      "model_module": "@jupyter-widgets/output",
      "model_module_version": "1.0.0",
      "model_name": "OutputModel",
      "state": {
       "layout": "IPY_MODEL_7b245bcc9f6941a79eb025cd024257c6"
      }
     },
     "c1cfcf53cb274553ae11d9e76326a932": {
      "model_module": "@jupyter-widgets/controls",
      "model_module_version": "1.5.0",
      "model_name": "HTMLModel",
      "state": {
       "layout": "IPY_MODEL_c9da00131105424d8ebf118dab01c903",
       "style": "IPY_MODEL_41b0b0c1abb848c98f0bce6a38653a4e",
       "value": "<p>File Prefix</p>"
      }
     },
     "c1d1ad12f7a546309711b470f3181c4e": {
      "model_module": "@jupyter-widgets/base",
      "model_module_version": "1.2.0",
      "model_name": "LayoutModel",
      "state": {
       "align_items": "stretch",
       "border": "dashed 0.2px green",
       "display": "flex",
       "flex_flow": "row",
       "grid_auto_columns": "True",
       "justify_content": "flex-start",
       "width": "100%"
      }
     },
     "c1eae8f3c4894867bdd4cd60af15b3ed": {
      "model_module": "@jupyter-widgets/controls",
      "model_module_version": "1.5.0",
      "model_name": "HBoxModel",
      "state": {
       "children": [
        "IPY_MODEL_4188233b93d84ab6a4bce3f5f2e3bff9",
        "IPY_MODEL_18c2e442d16948c89cf0df9fa4e54c39"
       ],
       "layout": "IPY_MODEL_f0508ff708af4fb2bc04ec6998cdc864"
      }
     },
     "c2002191f1d84c76bbeb40370a06382a": {
      "model_module": "@jupyter-widgets/base",
      "model_module_version": "1.2.0",
      "model_name": "LayoutModel",
      "state": {
       "align_items": "stretch",
       "display": "flex",
       "flex_flow": "row",
       "grid_auto_columns": "True",
       "justify_content": "flex-start",
       "width": "80%"
      }
     },
     "c206f3c15b0d4217b6e3cd5517d1baa3": {
      "model_module": "@jupyter-widgets/base",
      "model_module_version": "1.2.0",
      "model_name": "LayoutModel",
      "state": {
       "align_items": "stretch",
       "display": "flex",
       "flex_flow": "row",
       "grid_auto_columns": "True",
       "justify_content": "flex-end",
       "width": "90%"
      }
     },
     "c22e253b2d694d6ebb4f3c7f13284aae": {
      "model_module": "@jupyter-widgets/base",
      "model_module_version": "1.2.0",
      "model_name": "LayoutModel",
      "state": {}
     },
     "c230fe509cd14515a3c9bfb2c5f83e1a": {
      "model_module": "@jupyter-widgets/controls",
      "model_module_version": "1.5.0",
      "model_name": "HBoxModel",
      "state": {
       "children": [
        "IPY_MODEL_9488ef43ed554ed9aeafd98efff625cc",
        "IPY_MODEL_9b41434e98ab4e9db7987f569d7ff595"
       ],
       "layout": "IPY_MODEL_0c5dae9308ec4318bd5eb1f9ecb542c9"
      }
     },
     "c231142e311d496f87771a8abdeb85d6": {
      "model_module": "@jupyter-widgets/base",
      "model_module_version": "1.2.0",
      "model_name": "LayoutModel",
      "state": {
       "align_items": "stretch",
       "border": "dashed 0.2px green",
       "display": "flex",
       "flex_flow": "row",
       "grid_auto_columns": "True",
       "justify_content": "flex-start",
       "width": "100%"
      }
     },
     "c299dfc5b55047adb60598aa2b12ce65": {
      "model_module": "@jupyter-widgets/controls",
      "model_module_version": "1.5.0",
      "model_name": "DescriptionStyleModel",
      "state": {
       "description_width": ""
      }
     },
     "c2bf82ad81fe49c385c659221d0a030d": {
      "model_module": "@jupyter-widgets/base",
      "model_module_version": "1.2.0",
      "model_name": "LayoutModel",
      "state": {}
     },
     "c2ca0a0ceabc4112a1fd8c5b5c013ae2": {
      "model_module": "@jupyter-widgets/base",
      "model_module_version": "1.2.0",
      "model_name": "LayoutModel",
      "state": {}
     },
     "c2fd67379d46449aa028e2b83e94b7c6": {
      "model_module": "@jupyter-widgets/base",
      "model_module_version": "1.2.0",
      "model_name": "LayoutModel",
      "state": {}
     },
     "c30098c00b3b4895bffff55454f27530": {
      "model_module": "@jupyter-widgets/controls",
      "model_module_version": "1.5.0",
      "model_name": "VBoxModel",
      "state": {
       "children": [
        "IPY_MODEL_1a2f0d50d28041ec982bc6323f39c3fc",
        "IPY_MODEL_f9cdc685b21d489a9272b4ece132d78b",
        "IPY_MODEL_7aa43d0219824fb9bf56226e835a95ca"
       ],
       "layout": "IPY_MODEL_09231c034ef5488a9203103229fa21a8"
      }
     },
     "c317491cab084b4095b8c57402c03612": {
      "model_module": "@jupyter-widgets/base",
      "model_module_version": "1.2.0",
      "model_name": "LayoutModel",
      "state": {}
     },
     "c337b3ad477043909ec4c7bbf8fab6e1": {
      "model_module": "@jupyter-widgets/controls",
      "model_module_version": "1.5.0",
      "model_name": "HTMLModel",
      "state": {
       "layout": "IPY_MODEL_e1ac237409e14d66a8ddaa4d6b95e960",
       "style": "IPY_MODEL_75727f11e2114f23a044547ebcaade7e",
       "value": "<p>edit user input form below</p>"
      }
     },
     "c3503e2c958545259e399082ddd3d132": {
      "model_module": "@jupyter-widgets/controls",
      "model_module_version": "1.5.0",
      "model_name": "DescriptionStyleModel",
      "state": {
       "description_width": ""
      }
     },
     "c35dbe5519bd453487ad96d795766c20": {
      "model_module": "@jupyter-widgets/base",
      "model_module_version": "1.2.0",
      "model_name": "LayoutModel",
      "state": {}
     },
     "c3982351bfea4699bed80b8d9b57ff21": {
      "model_module": "@jupyter-widgets/controls",
      "model_module_version": "1.5.0",
      "model_name": "HTMLModel",
      "state": {
       "layout": "IPY_MODEL_e26e36db9b524abc921ec98875a6190e",
       "style": "IPY_MODEL_74507825c70f472aad8f69e6dbb4f0db",
       "value": "<p>defines the logic of the space naming. use default value where practical.</p>"
      }
     },
     "c3afb83a468d4913870264344917c19a": {
      "model_module": "@jupyter-widgets/controls",
      "model_module_version": "1.5.0",
      "model_name": "DescriptionStyleModel",
      "state": {
       "description_width": ""
      }
     },
     "c3b48c0bf15b40ae88ad8497ebddac99": {
      "model_module": "@jupyter-widgets/base",
      "model_module_version": "1.2.0",
      "model_name": "LayoutModel",
      "state": {
       "align_items": "stretch",
       "display": "flex",
       "flex_flow": "row",
       "grid_auto_columns": "True",
       "justify_content": "flex-start",
       "width": "80%"
      }
     },
     "c3b4a9f4cab74e5797a6985917f6d405": {
      "model_module": "@jupyter-widgets/base",
      "model_module_version": "1.2.0",
      "model_name": "LayoutModel",
      "state": {}
     },
     "c3c2805f3f7b48f6847d3e41e1c7f997": {
      "model_module": "@jupyter-widgets/controls",
      "model_module_version": "1.5.0",
      "model_name": "DescriptionStyleModel",
      "state": {
       "description_width": ""
      }
     },
     "c3d066a02ef948d28af2121a1d58e495": {
      "model_module": "@jupyter-widgets/base",
      "model_module_version": "1.2.0",
      "model_name": "LayoutModel",
      "state": {}
     },
     "c3d1d255f8a745dab4d66474f3130601": {
      "model_module": "@jupyter-widgets/controls",
      "model_module_version": "1.5.0",
      "model_name": "HBoxModel",
      "state": {
       "children": [
        "IPY_MODEL_13c30965e7144d3c88af4071608aed98",
        "IPY_MODEL_9390f4400ca74df6b0d7dc2c58867cbc"
       ],
       "layout": "IPY_MODEL_db658a3b8ff3445b8279494d6a4adfd2"
      }
     },
     "c4084e57ce0c43c7a1ef7bb00d1651e6": {
      "model_module": "@jupyter-widgets/base",
      "model_module_version": "1.2.0",
      "model_name": "LayoutModel",
      "state": {}
     },
     "c40ce688a68243e6b3e18d704a489ea9": {
      "model_module": "@jupyter-widgets/controls",
      "model_module_version": "1.5.0",
      "model_name": "VBoxModel",
      "state": {
       "children": [
        "IPY_MODEL_d27bbe1f477c41ae92ff8c86a8175b61",
        "IPY_MODEL_fb612e63e3a44b5ca0df6c8d7844c528",
        "IPY_MODEL_9d572c2e07814ea19cf707eb58445bd6"
       ],
       "layout": "IPY_MODEL_aeed1e4b5a624903b05e79914b9c1548"
      }
     },
     "c42ecb6fdb4048fea6e0183d8c8b5bce": {
      "model_module": "@jupyter-widgets/controls",
      "model_module_version": "1.5.0",
      "model_name": "DescriptionStyleModel",
      "state": {
       "description_width": ""
      }
     },
     "c44a63258e5246fe95c58770e3bfc493": {
      "model_module": "@jupyter-widgets/base",
      "model_module_version": "1.2.0",
      "model_name": "LayoutModel",
      "state": {
       "align_items": "stretch",
       "display": "flex",
       "flex_flow": "row",
       "grid_auto_columns": "True",
       "justify_content": "flex-end",
       "width": "90%"
      }
     },
     "c474dfda7d7649dc823f4a41197faf2a": {
      "model_module": "@jupyter-widgets/controls",
      "model_module_version": "1.5.0",
      "model_name": "HBoxModel",
      "state": {
       "children": [
        "IPY_MODEL_9d98571d8449429e938ff86554c974e0"
       ],
       "layout": "IPY_MODEL_ffb928614a8646f28460bd2a051a30d5"
      }
     },
     "c496d4d7a9c440cd8b181fae18444578": {
      "model_module": "@jupyter-widgets/controls",
      "model_module_version": "1.5.0",
      "model_name": "HBoxModel",
      "state": {
       "children": [
        "IPY_MODEL_60c9693828364688a1cea51dfb42795d",
        "IPY_MODEL_c54bd1463a7a4eb28e3851bc72c15fd6"
       ],
       "layout": "IPY_MODEL_27791923ba9944a697b18084da3bc9b8"
      }
     },
     "c4b3b515acc74b5c9112c1bd5f8fb5e8": {
      "model_module": "@jupyter-widgets/controls",
      "model_module_version": "1.5.0",
      "model_name": "DescriptionStyleModel",
      "state": {
       "description_width": ""
      }
     },
     "c4dc5725f48a403389b5087db35a4aa9": {
      "model_module": "@jupyter-widgets/controls",
      "model_module_version": "1.5.0",
      "model_name": "HBoxModel",
      "state": {
       "children": [
        "IPY_MODEL_7a8b237acc864769a91d92f495ad98aa"
       ],
       "layout": "IPY_MODEL_13c6f7504b2c48f19ecdcbac88335ffd"
      }
     },
     "c4ffa6ca529242d0a5fcfe5fdfedb5a5": {
      "model_module": "@jupyter-widgets/controls",
      "model_module_version": "1.5.0",
      "model_name": "DescriptionStyleModel",
      "state": {
       "description_width": ""
      }
     },
     "c50c4e448b5548d9acc8eb7ee5c81389": {
      "model_module": "@jupyter-widgets/controls",
      "model_module_version": "1.5.0",
      "model_name": "HBoxModel",
      "state": {
       "children": [
        "IPY_MODEL_3da48f676759423db43091d678374a5c"
       ],
       "layout": "IPY_MODEL_60a1bab01f904c929574376264f7aa42"
      }
     },
     "c54114004a8343f79f30671cf6a715f6": {
      "model_module": "@jupyter-widgets/controls",
      "model_module_version": "1.5.0",
      "model_name": "HBoxModel",
      "state": {
       "children": [
        "IPY_MODEL_125941f5a936449cac3c5e370ee41ecd",
        "IPY_MODEL_6a1ceb051ced4a53a2e7a63895480016"
       ],
       "layout": "IPY_MODEL_187d5c4cdeb34a7ebf9b11f0c0ecabbd"
      }
     },
     "c54bd1463a7a4eb28e3851bc72c15fd6": {
      "model_module": "@jupyter-widgets/controls",
      "model_module_version": "1.5.0",
      "model_name": "HTMLModel",
      "state": {
       "layout": "IPY_MODEL_99193ed5bde74fff8eaf960f90c94f6d",
       "style": "IPY_MODEL_6b16b0a26f7c45e7a66f9b076bff7afb",
       "value": "<p>its a foo cake</p>"
      }
     },
     "c5584af77ad740fda588c18c89d8794a": {
      "model_module": "@jupyter-widgets/controls",
      "model_module_version": "1.5.0",
      "model_name": "DescriptionStyleModel",
      "state": {
       "description_width": ""
      }
     },
     "c55e315de69d4259bc363bc8af9f97b9": {
      "model_module": "@jupyter-widgets/base",
      "model_module_version": "1.2.0",
      "model_name": "LayoutModel",
      "state": {}
     },
     "c59cf40f3faf40f2acb38fa5dcda8993": {
      "model_module": "@jupyter-widgets/base",
      "model_module_version": "1.2.0",
      "model_name": "LayoutModel",
      "state": {}
     },
     "c5bca1c8401a4a44abcc2113380da852": {
      "model_module": "@jupyter-widgets/base",
      "model_module_version": "1.2.0",
      "model_name": "LayoutModel",
      "state": {
       "width": "auto"
      }
     },
     "c5db27377f8449bd96376f8a0c65542a": {
      "model_module": "@jupyter-widgets/controls",
      "model_module_version": "1.5.0",
      "model_name": "HBoxModel",
      "state": {
       "children": [
        "IPY_MODEL_68ca26a0b943474c9ebf0c733eff6337"
       ],
       "layout": "IPY_MODEL_0425f45ef6db46e4983fe2db08cd38fa"
      }
     },
     "c5f19f1700f6442bb571c2b63f897ca8": {
      "model_module": "@jupyter-widgets/base",
      "model_module_version": "1.2.0",
      "model_name": "LayoutModel",
      "state": {}
     },
     "c5f9b5ed3ab141c8aa12e5be6f46416d": {
      "model_module": "@jupyter-widgets/controls",
      "model_module_version": "1.5.0",
      "model_name": "HBoxModel",
      "state": {
       "children": [
        "IPY_MODEL_2de4790fe2fb457e87f4ef54ec4e7808",
        "IPY_MODEL_3ed6c9d5997b490e8280c7093ec75a73"
       ],
       "layout": "IPY_MODEL_e098a7b39b354decbe4118269730ae81"
      }
     },
     "c613b204b43349f8a28002ce709e9192": {
      "model_module": "@jupyter-widgets/controls",
      "model_module_version": "1.5.0",
      "model_name": "HTMLModel",
      "state": {
       "layout": "IPY_MODEL_b7b7a1cfea384c93a645e9927608aa4b",
       "style": "IPY_MODEL_a9961a74cbee4fb5a22ae7d2dca8c700",
       "value": "<p>foo</p>"
      }
     },
     "c61c9fd0727e4437a987d67f2e018148": {
      "model_module": "@jupyter-widgets/base",
      "model_module_version": "1.2.0",
      "model_name": "LayoutModel",
      "state": {}
     },
     "c633affc91c04239925eb6e3998bdb43": {
      "model_module": "@jupyter-widgets/controls",
      "model_module_version": "1.5.0",
      "model_name": "ButtonStyleModel",
      "state": {
       "font_weight": "bold"
      }
     },
     "c63e5bae1d154be0a963d5b6e826fdd4": {
      "model_module": "@jupyter-widgets/base",
      "model_module_version": "1.2.0",
      "model_name": "LayoutModel",
      "state": {
       "align_items": "stretch",
       "display": "flex",
       "flex_flow": "row",
       "grid_auto_columns": "True",
       "justify_content": "flex-end",
       "width": "90%"
      }
     },
     "c661f809a7d84571988f7ba12246fa1c": {
      "model_module": "@jupyter-widgets/base",
      "model_module_version": "1.2.0",
      "model_name": "LayoutModel",
      "state": {}
     },
     "c66f130bbc7b4d1ca8dddec750477265": {
      "model_module": "@jupyter-widgets/controls",
      "model_module_version": "1.5.0",
      "model_name": "HBoxModel",
      "state": {
       "children": [
        "IPY_MODEL_0567c7c3f0da4cacbb353248066b162e"
       ],
       "layout": "IPY_MODEL_04a4e27275d54adb8ee432c8f0092dd5"
      }
     },
     "c6a86f7d11474373b87f62c343710354": {
      "model_module": "@jupyter-widgets/base",
      "model_module_version": "1.2.0",
      "model_name": "LayoutModel",
      "state": {}
     },
     "c6f204d31ee646139aa71659320d83b4": {
      "model_module": "@jupyter-widgets/base",
      "model_module_version": "1.2.0",
      "model_name": "LayoutModel",
      "state": {
       "align_items": "stretch",
       "border": "dashed 0.2px green",
       "display": "flex",
       "flex_flow": "row",
       "grid_auto_columns": "True",
       "justify_content": "flex-start",
       "width": "100%"
      }
     },
     "c70d759e653549769dc5c706d9f83b6d": {
      "model_module": "@jupyter-widgets/base",
      "model_module_version": "1.2.0",
      "model_name": "LayoutModel",
      "state": {}
     },
     "c760da1dc76f45a08cd4c00320d53377": {
      "model_module": "@jupyter-widgets/base",
      "model_module_version": "1.2.0",
      "model_name": "LayoutModel",
      "state": {}
     },
     "c76f8a0b1eda41f0bd7aad00219ecd7d": {
      "model_module": "@jupyter-widgets/base",
      "model_module_version": "1.2.0",
      "model_name": "LayoutModel",
      "state": {}
     },
     "c7715013061b4180b4b60ea92117786b": {
      "model_module": "@jupyter-widgets/controls",
      "model_module_version": "1.5.0",
      "model_name": "DescriptionStyleModel",
      "state": {
       "description_width": ""
      }
     },
     "c7987c3879ef4699b271c8b8772f2ab5": {
      "model_module": "@jupyter-widgets/base",
      "model_module_version": "1.2.0",
      "model_name": "LayoutModel",
      "state": {
       "align_items": "stretch",
       "display": "flex",
       "flex_flow": "row",
       "grid_auto_columns": "True",
       "justify_content": "flex-start",
       "width": "80%"
      }
     },
     "c7b09aefd01d4a0ca14a0b9afb99bca4": {
      "model_module": "@jupyter-widgets/controls",
      "model_module_version": "1.5.0",
      "model_name": "HBoxModel",
      "state": {
       "children": [
        "IPY_MODEL_5d97eeebe8134c9cae71b5810ef88285",
        "IPY_MODEL_7450cd7643df462a813a32ee232943db"
       ],
       "layout": "IPY_MODEL_fc6b21a20e844b62a97cc36fa6b8ee54"
      }
     },
     "c7bc7c81375b4af881d26e242ebdd49c": {
      "model_module": "@jupyter-widgets/base",
      "model_module_version": "1.2.0",
      "model_name": "LayoutModel",
      "state": {
       "grid_area": "pathlist",
       "width": "auto"
      }
     },
     "c7deb1dc80dc4284a0af327b8598ba2f": {
      "model_module": "@jupyter-widgets/base",
      "model_module_version": "1.2.0",
      "model_name": "LayoutModel",
      "state": {
       "align_items": "stretch",
       "display": "flex",
       "flex_flow": "row",
       "grid_auto_columns": "True",
       "justify_content": "flex-start",
       "width": "80%"
      }
     },
     "c7efcbb0ee7043c8ba43e3f4e374bda9": {
      "model_module": "@jupyter-widgets/base",
      "model_module_version": "1.2.0",
      "model_name": "LayoutModel",
      "state": {}
     },
     "c7f8c6df0c6149bf83a2f5e7ffc00cc8": {
      "model_module": "@jupyter-widgets/base",
      "model_module_version": "1.2.0",
      "model_name": "LayoutModel",
      "state": {
       "align_items": "stretch",
       "display": "flex",
       "flex_flow": "row",
       "grid_auto_columns": "True",
       "justify_content": "flex-start",
       "width": "80%"
      }
     },
     "c83bb0ee91f64a668dceb866f005df5d": {
      "model_module": "@jupyter-widgets/base",
      "model_module_version": "1.2.0",
      "model_name": "LayoutModel",
      "state": {
       "align_items": "stretch",
       "border": "dashed 0.2px green",
       "display": "flex",
       "flex_flow": "row",
       "grid_auto_columns": "True",
       "justify_content": "flex-start",
       "width": "100%"
      }
     },
     "c85db312087a4531a9c3cf1b46e23290": {
      "model_module": "@jupyter-widgets/controls",
      "model_module_version": "1.5.0",
      "model_name": "HBoxModel",
      "state": {
       "children": [
        "IPY_MODEL_603a71bf6ad6473a97d7b2c70099cacb",
        "IPY_MODEL_4cc0e1750416417c8dc1593eb99b8174"
       ],
       "layout": "IPY_MODEL_e40672b301bb4a6d856ac0702e475867"
      }
     },
     "c86974863ab54a4087b6b3598f216d3d": {
      "model_module": "@jupyter-widgets/controls",
      "model_module_version": "1.5.0",
      "model_name": "DescriptionStyleModel",
      "state": {
       "description_width": ""
      }
     },
     "c87c7d49f00e4ecc8f233ed4d54066e5": {
      "model_module": "@jupyter-widgets/controls",
      "model_module_version": "1.5.0",
      "model_name": "DescriptionStyleModel",
      "state": {
       "description_width": ""
      }
     },
     "c885cb3965104051a2d5913fe3abb5b9": {
      "model_module": "@jupyter-widgets/base",
      "model_module_version": "1.2.0",
      "model_name": "LayoutModel",
      "state": {
       "align_items": "stretch",
       "display": "flex",
       "flex_flow": "row",
       "grid_auto_columns": "True",
       "justify_content": "flex-end",
       "width": "90%"
      }
     },
     "c8b526238ddd46e581fbf19f4b606acd": {
      "model_module": "@jupyter-widgets/controls",
      "model_module_version": "1.5.0",
      "model_name": "VBoxModel",
      "state": {
       "children": [
        "IPY_MODEL_79f176f4e35e4f0397b7611012b35b04",
        "IPY_MODEL_e396d7dde8034dbbb15240de195477a6",
        "IPY_MODEL_4865e864c4f744fc8be169a935ea7d1e"
       ],
       "layout": "IPY_MODEL_24c51e4eb885459694b271bcd9d72822"
      }
     },
     "c8bfd6391269473db7a12d444aadd224": {
      "model_module": "@jupyter-widgets/controls",
      "model_module_version": "1.5.0",
      "model_name": "HBoxModel",
      "state": {
       "children": [
        "IPY_MODEL_259f7b939e8d4e7782f43bda6686235d",
        "IPY_MODEL_cd71e7f72e9f44619fa0a014b21d3a9b"
       ],
       "layout": "IPY_MODEL_54d00d5764024eeb8cf29af2d0c31b84"
      }
     },
     "c92c3c04328d4bd8a59250041ceb265c": {
      "model_module": "@jupyter-widgets/base",
      "model_module_version": "1.2.0",
      "model_name": "LayoutModel",
      "state": {}
     },
     "c933efed270a4321933bf05a3864229d": {
      "model_module": "@jupyter-widgets/base",
      "model_module_version": "1.2.0",
      "model_name": "LayoutModel",
      "state": {
       "align_items": "stretch",
       "border": "dashed 0.2px green",
       "display": "flex",
       "flex_flow": "row",
       "grid_auto_columns": "True",
       "justify_content": "flex-start",
       "width": "100%"
      }
     },
     "c940457a23fd459c928b28b395e51164": {
      "model_module": "@jupyter-widgets/controls",
      "model_module_version": "1.5.0",
      "model_name": "HTMLModel",
      "state": {
       "layout": "IPY_MODEL_9f36f04b78b044bcb6e7f450d48a56b5",
       "style": "IPY_MODEL_8f36ec1ecc28463cb493268c14c9b0da",
       "value": "<p>fus foo ous o</p>"
      }
     },
     "c97a96410ead4f1fae7d8c15daad9992": {
      "model_module": "@jupyter-widgets/controls",
      "model_module_version": "1.5.0",
      "model_name": "CheckboxModel",
      "state": {
       "disabled": false,
       "layout": "IPY_MODEL_1cc1b15143bc4a1690f5c0c41bfcdbad",
       "style": "IPY_MODEL_c7715013061b4180b4b60ea92117786b",
       "value": false
      }
     },
     "c983b7fee15346bbb248e9e0a0081fc8": {
      "model_module": "@jupyter-widgets/output",
      "model_module_version": "1.0.0",
      "model_name": "OutputModel",
      "state": {
       "layout": "IPY_MODEL_d85fd2bcecbb40bca9ca8d55f6575e61"
      }
     },
     "c996e3f0f16e4f1993ae7ee7f7d51255": {
      "model_module": "@jupyter-widgets/controls",
      "model_module_version": "1.5.0",
      "model_name": "FloatSliderModel",
      "state": {
       "layout": "IPY_MODEL_f0b463e478844d89a6e654164976673d",
       "max": 10,
       "style": "IPY_MODEL_454bc3052d63456e8a8303efcce3f004",
       "value": 1
      }
     },
     "c9993af7fba64693971236e1935cc540": {
      "model_module": "@jupyter-widgets/base",
      "model_module_version": "1.2.0",
      "model_name": "LayoutModel",
      "state": {}
     },
     "c9a4ee35f6bc44d6bd33628823f248f3": {
      "model_module": "@jupyter-widgets/base",
      "model_module_version": "1.2.0",
      "model_name": "LayoutModel",
      "state": {}
     },
     "c9b13f70fe4246c7b300b85fc0239f90": {
      "model_module": "@jupyter-widgets/controls",
      "model_module_version": "1.5.0",
      "model_name": "HBoxModel",
      "state": {
       "children": [
        "IPY_MODEL_368cc31533334ff691ead9c76dc5da17"
       ],
       "layout": "IPY_MODEL_ddc444b7f44a49249b38fb2961a026e4"
      }
     },
     "c9d206f548fe42daa61ebe0c0d2c238c": {
      "model_module": "@jupyter-widgets/base",
      "model_module_version": "1.2.0",
      "model_name": "LayoutModel",
      "state": {}
     },
     "c9da00131105424d8ebf118dab01c903": {
      "model_module": "@jupyter-widgets/base",
      "model_module_version": "1.2.0",
      "model_name": "LayoutModel",
      "state": {}
     },
     "ca15756102f14ad9bfaaf086b750d5f1": {
      "model_module": "@jupyter-widgets/controls",
      "model_module_version": "1.5.0",
      "model_name": "HTMLModel",
      "state": {
       "layout": "IPY_MODEL_bae533d3ae0e46938d3d74f4433e2302",
       "style": "IPY_MODEL_ad78a452a3894ab8b49a84a443e7377a",
       "value": "<p>foo</p>"
      }
     },
     "ca164f7a8b324b9398bfa240dc982b34": {
      "model_module": "@jupyter-widgets/base",
      "model_module_version": "1.2.0",
      "model_name": "LayoutModel",
      "state": {}
     },
     "ca1f85129f9d4208847a022811df504c": {
      "model_module": "@jupyter-widgets/controls",
      "model_module_version": "1.5.0",
      "model_name": "VBoxModel",
      "state": {
       "children": [
        "IPY_MODEL_b7f70cbf9d5949de8ecc2b196a61f376",
        "IPY_MODEL_822dd5a13a884c29bb94f96a2429b444"
       ],
       "layout": "IPY_MODEL_e97495d3f2c441ac9a1b34bddbc0b968"
      }
     },
     "ca3118b1623f46d9b89eeb81feb6bf0b": {
      "model_module": "@jupyter-widgets/controls",
      "model_module_version": "1.5.0",
      "model_name": "HTMLModel",
      "state": {
       "layout": "IPY_MODEL_8432590ec0ad4454ae652159c1c501ae",
       "style": "IPY_MODEL_96a001243b184038b8231213b081b4f5",
       "value": "<p>label</p>"
      }
     },
     "ca32170a3622438c8ffe207a6c367eee": {
      "model_module": "@jupyter-widgets/base",
      "model_module_version": "1.2.0",
      "model_name": "LayoutModel",
      "state": {}
     },
     "ca3cb3d853dc4130bec5762c7f12d093": {
      "model_module": "@jupyter-widgets/base",
      "model_module_version": "1.2.0",
      "model_name": "LayoutModel",
      "state": {}
     },
     "ca4eeaeb66364d67aa6655d10e6d1af5": {
      "model_module": "@jupyter-widgets/base",
      "model_module_version": "1.2.0",
      "model_name": "LayoutModel",
      "state": {}
     },
     "ca50a148ee8a43dfa176e72e622fa0a9": {
      "model_module": "@jupyter-widgets/controls",
      "model_module_version": "1.5.0",
      "model_name": "HBoxModel",
      "state": {
       "children": [
        "IPY_MODEL_11a2d6ba7f494eaaa2b3c6161ed65b99"
       ],
       "layout": "IPY_MODEL_86acd0165140417aa090b92db6fd8a38"
      }
     },
     "ca86de78b64849089adf9602ecc37929": {
      "model_module": "@jupyter-widgets/base",
      "model_module_version": "1.2.0",
      "model_name": "LayoutModel",
      "state": {
       "align_items": "stretch",
       "display": "flex",
       "flex_flow": "row",
       "grid_auto_columns": "True",
       "justify_content": "flex-start",
       "width": "80%"
      }
     },
     "caa699e4f75b44d79dd3ef847935bb40": {
      "model_module": "@jupyter-widgets/controls",
      "model_module_version": "1.5.0",
      "model_name": "DescriptionStyleModel",
      "state": {
       "description_width": ""
      }
     },
     "cab07152611f4cf7a5c18fc86bec61e8": {
      "model_module": "@jupyter-widgets/output",
      "model_module_version": "1.0.0",
      "model_name": "OutputModel",
      "state": {
       "layout": "IPY_MODEL_f8f836f9db924298b84683396d7a27f8"
      }
     },
     "cac37715221e4fd6ad4b22215f9e72d2": {
      "model_module": "@jupyter-widgets/controls",
      "model_module_version": "1.5.0",
      "model_name": "HBoxModel",
      "state": {
       "children": [
        "IPY_MODEL_5710a89e9cce4956b6da64c7bca5ee6f",
        "IPY_MODEL_028c9f12f97a432b9d61df9032f551e5"
       ],
       "layout": "IPY_MODEL_93d5baec3c1e4b548fe7f6a26c6a8bfc"
      }
     },
     "cadd487feedd41cb8139c183155d7c73": {
      "model_module": "@jupyter-widgets/base",
      "model_module_version": "1.2.0",
      "model_name": "LayoutModel",
      "state": {
       "align_items": "stretch",
       "display": "flex",
       "flex_flow": "row",
       "grid_auto_columns": "True",
       "justify_content": "flex-start",
       "width": "80%"
      }
     },
     "cb192092fc564fa1b3ff96f05a03dd47": {
      "model_module": "@jupyter-widgets/base",
      "model_module_version": "1.2.0",
      "model_name": "LayoutModel",
      "state": {}
     },
     "cb3ae43e663a435e8223007fb3211c93": {
      "model_module": "@jupyter-widgets/base",
      "model_module_version": "1.2.0",
      "model_name": "LayoutModel",
      "state": {
       "align_items": "stretch",
       "display": "flex",
       "flex_flow": "row",
       "grid_auto_columns": "True",
       "justify_content": "flex-start",
       "width": "80%"
      }
     },
     "cb6c8d4489d149edb2e854a14a70c087": {
      "model_module": "@jupyter-widgets/controls",
      "model_module_version": "1.5.0",
      "model_name": "HBoxModel",
      "state": {
       "children": [
        "IPY_MODEL_b15b624d9635466eb99ebab63fbc9b74"
       ],
       "layout": "IPY_MODEL_d1ebb93a2164432f804fd77adc50ebe2"
      }
     },
     "cb9514527acc42978a075417433795c4": {
      "model_module": "@jupyter-widgets/controls",
      "model_module_version": "1.5.0",
      "model_name": "VBoxModel",
      "state": {
       "children": [
        "IPY_MODEL_9299f690b8dc4caa97593799d5f38955"
       ],
       "layout": "IPY_MODEL_b6ed83ab6a3849c9b0222dbf5f3df064"
      }
     },
     "cba9c0db78174ccab173db40c0ca659d": {
      "model_module": "@jupyter-widgets/base",
      "model_module_version": "1.2.0",
      "model_name": "LayoutModel",
      "state": {}
     },
     "cbd10783be714d98aa58412f230b27e1": {
      "model_module": "@jupyter-widgets/controls",
      "model_module_version": "1.5.0",
      "model_name": "HTMLModel",
      "state": {
       "layout": "IPY_MODEL_6c4cf3099f1b4a8699b675abdc18048e",
       "style": "IPY_MODEL_36f49cb44073473892f4e7bfe9b45fc6",
       "value": "<p>its a foo cake</p>"
      }
     },
     "cbe20045b5154f0cbfeba6516763ba60": {
      "model_module": "@jupyter-widgets/base",
      "model_module_version": "1.2.0",
      "model_name": "LayoutModel",
      "state": {}
     },
     "cbf652ad44c34236ad37d366666166fc": {
      "model_module": "@jupyter-widgets/base",
      "model_module_version": "1.2.0",
      "model_name": "LayoutModel",
      "state": {
       "align_items": "stretch",
       "border": "dashed 0.2px green",
       "display": "flex",
       "flex_flow": "row",
       "grid_auto_columns": "True",
       "justify_content": "flex-start",
       "width": "100%"
      }
     },
     "cc1bb7e47258402fa79f75dbb5deac58": {
      "model_module": "@jupyter-widgets/output",
      "model_module_version": "1.0.0",
      "model_name": "OutputModel",
      "state": {
       "layout": "IPY_MODEL_b6e84e2f92ae421990c64a2b35e21e29"
      }
     },
     "cc45537ce74745f4af5ed6f966298c4e": {
      "model_module": "@jupyter-widgets/base",
      "model_module_version": "1.2.0",
      "model_name": "LayoutModel",
      "state": {
       "align_items": "stretch",
       "display": "flex",
       "flex_flow": "row",
       "grid_auto_columns": "True",
       "justify_content": "flex-end",
       "width": "90%"
      }
     },
     "cc469f7dc1974c7cbe9e91f3e85a3c0c": {
      "model_module": "@jupyter-widgets/base",
      "model_module_version": "1.2.0",
      "model_name": "LayoutModel",
      "state": {
       "grid_area": "filename",
       "width": "auto"
      }
     },
     "cc83c3f585754e2f9c33e9545c0ebfd5": {
      "model_module": "@jupyter-widgets/controls",
      "model_module_version": "1.5.0",
      "model_name": "HBoxModel",
      "state": {
       "children": [
        "IPY_MODEL_a92a5ce0e51849a6abcf60a00e87ca70",
        "IPY_MODEL_e9e23df6b17847a992ff7fd692910667"
       ],
       "layout": "IPY_MODEL_5298ba8e6ac84c49af6e129be419a49c"
      }
     },
     "cccdf82669844086a022f22d3774684a": {
      "model_module": "@jupyter-widgets/controls",
      "model_module_version": "1.5.0",
      "model_name": "DescriptionStyleModel",
      "state": {
       "description_width": ""
      }
     },
     "cd1ac643dbdc43e897fca9ae3b462ad3": {
      "model_module": "@jupyter-widgets/controls",
      "model_module_version": "1.5.0",
      "model_name": "SliderStyleModel",
      "state": {
       "description_width": ""
      }
     },
     "cd3078c68a344942b74d43ab0d1a572f": {
      "model_module": "@jupyter-widgets/base",
      "model_module_version": "1.2.0",
      "model_name": "LayoutModel",
      "state": {}
     },
     "cd71e7f72e9f44619fa0a014b21d3a9b": {
      "model_module": "@jupyter-widgets/controls",
      "model_module_version": "1.5.0",
      "model_name": "HTMLModel",
      "state": {
       "layout": "IPY_MODEL_dfcf59329458479d927ede0720f5e252",
       "style": "IPY_MODEL_5826851a3ca8464580d04ea9da836f8f",
       "value": "<p>its a delicious foo cake</p>"
      }
     },
     "cd9912dd42f7480da433de6b32949aa6": {
      "model_module": "@jupyter-widgets/base",
      "model_module_version": "1.2.0",
      "model_name": "LayoutModel",
      "state": {}
     },
     "cda6d5f73550420682a9cd8644ed9e38": {
      "model_module": "@jupyter-widgets/base",
      "model_module_version": "1.2.0",
      "model_name": "LayoutModel",
      "state": {}
     },
     "cdb086a8c1df4d4dba101cdf31aad72a": {
      "model_module": "@jupyter-widgets/output",
      "model_module_version": "1.0.0",
      "model_name": "OutputModel",
      "state": {
       "layout": "IPY_MODEL_2b5b7584876d40eeb2ea69f74ec92cba"
      }
     },
     "cdbeb56060ac41fd8e8077c4fece3ab0": {
      "model_module": "@jupyter-widgets/base",
      "model_module_version": "1.2.0",
      "model_name": "LayoutModel",
      "state": {
       "display": "flex",
       "flex_flow": "row",
       "grid_auto_columns": "False",
       "justify_content": "flex-start",
       "width": "100%"
      }
     },
     "cdcd383dea6a4f1e8d4358bde982d7da": {
      "model_module": "@jupyter-widgets/base",
      "model_module_version": "1.2.0",
      "model_name": "LayoutModel",
      "state": {}
     },
     "ce1363f368fa4faf9514cdb3ebc25d4d": {
      "model_module": "@jupyter-widgets/base",
      "model_module_version": "1.2.0",
      "model_name": "LayoutModel",
      "state": {}
     },
     "ce55cad828b54340b861c695bb71ed6c": {
      "model_module": "@jupyter-widgets/base",
      "model_module_version": "1.2.0",
      "model_name": "LayoutModel",
      "state": {}
     },
     "ce65165dfdd14d0586023c592868581d": {
      "model_module": "@jupyter-widgets/controls",
      "model_module_version": "1.5.0",
      "model_name": "DescriptionStyleModel",
      "state": {
       "description_width": ""
      }
     },
     "ce880b1214d645178b251804f9315bdb": {
      "model_module": "@jupyter-widgets/controls",
      "model_module_version": "1.5.0",
      "model_name": "VBoxModel",
      "state": {
       "children": [
        "IPY_MODEL_5034598307ee4eb7bfd84177991508f8",
        "IPY_MODEL_fffbc83229f94192a8b041a173232964",
        "IPY_MODEL_0e30110e44a54909958d4283a3bf6241",
        "IPY_MODEL_5b6d97a8004c4b15932c5c84a02e2894",
        "IPY_MODEL_188d28486ddc4ed29550f21b0e82fa0e",
        "IPY_MODEL_d9b5f5b8a0064fe18f6a36fe5cd8fcce",
        "IPY_MODEL_709cedb98919401aad7b98059d2cc1c8",
        "IPY_MODEL_6a9d3a6eae664143b5d912831c7d7a9f"
       ],
       "layout": "IPY_MODEL_999ddeafabe941ce9a521de4192e39c9"
      }
     },
     "ce94d028e574482dba3d1837e783d3ae": {
      "model_module": "@jupyter-widgets/base",
      "model_module_version": "1.2.0",
      "model_name": "LayoutModel",
      "state": {}
     },
     "cf05e39341a544869ddb09b557b88c13": {
      "model_module": "@jupyter-widgets/controls",
      "model_module_version": "1.5.0",
      "model_name": "HTMLModel",
      "state": {
       "layout": "IPY_MODEL_ff33314231204c23bcd0d32c6544dec1",
       "style": "IPY_MODEL_25a4def1aaf44ff7bb53676d29de200b",
       "value": "<p>spc_name_index</p>"
      }
     },
     "cf24bda06d1849a4b7f62dbddadf060b": {
      "model_module": "@jupyter-widgets/base",
      "model_module_version": "1.2.0",
      "model_name": "LayoutModel",
      "state": {}
     },
     "cf500e05215b49a0906f3cad3bd8a2f4": {
      "model_module": "@jupyter-widgets/controls",
      "model_module_version": "1.5.0",
      "model_name": "VBoxModel",
      "state": {
       "children": [
        "IPY_MODEL_52d178164c144c44b87b04b41d99d3db",
        "IPY_MODEL_80c148b9194d4662a2dce611fc890ced",
        "IPY_MODEL_376c158d9adb405b8af217e18c6ee867"
       ],
       "layout": "IPY_MODEL_1505cbc7dd96437096638b9409d6ac20"
      }
     },
     "cf5d10398c714ba3a5fe5f6b5253f3af": {
      "model_module": "@jupyter-widgets/base",
      "model_module_version": "1.2.0",
      "model_name": "LayoutModel",
      "state": {}
     },
     "cf84c8d6bd5545de92d44db778643898": {
      "model_module": "@jupyter-widgets/base",
      "model_module_version": "1.2.0",
      "model_name": "LayoutModel",
      "state": {
       "align_items": "stretch",
       "display": "flex",
       "flex_flow": "row",
       "grid_auto_columns": "True",
       "justify_content": "flex-end",
       "width": "90%"
      }
     },
     "cf9721b278d744d0a0e011861d46dcbd": {
      "model_module": "@jupyter-widgets/base",
      "model_module_version": "1.2.0",
      "model_name": "LayoutModel",
      "state": {}
     },
     "cfbb699189a54a319a3dbe000203cb6e": {
      "model_module": "@jupyter-widgets/output",
      "model_module_version": "1.0.0",
      "model_name": "OutputModel",
      "state": {
       "layout": "IPY_MODEL_cba9c0db78174ccab173db40c0ca659d"
      }
     },
     "cfd7635f71e24b0d965e3b25155184b4": {
      "model_module": "@jupyter-widgets/base",
      "model_module_version": "1.2.0",
      "model_name": "LayoutModel",
      "state": {
       "align_items": "stretch",
       "display": "flex",
       "flex_flow": "row",
       "grid_auto_columns": "True",
       "justify_content": "flex-end",
       "width": "90%"
      }
     },
     "cfe49ca6db0c4f10b89fc03b75480c57": {
      "model_module": "@jupyter-widgets/output",
      "model_module_version": "1.0.0",
      "model_name": "OutputModel",
      "state": {
       "layout": "IPY_MODEL_fa6c019e5e034bcb84362de3e76dd104"
      }
     },
     "cff302c1ae9e4ad0a6bf7aa46175e4c2": {
      "model_module": "@jupyter-widgets/base",
      "model_module_version": "1.2.0",
      "model_name": "LayoutModel",
      "state": {
       "align_items": "stretch",
       "display": "flex",
       "flex_flow": "row",
       "grid_auto_columns": "True",
       "justify_content": "flex-start",
       "width": "80%"
      }
     },
     "d003d01bb4e64a79af5827d40d621887": {
      "model_module": "@jupyter-widgets/base",
      "model_module_version": "1.2.0",
      "model_name": "LayoutModel",
      "state": {}
     },
     "d0293b9d5cb543d8a673cfc9d495397d": {
      "model_module": "@jupyter-widgets/base",
      "model_module_version": "1.2.0",
      "model_name": "LayoutModel",
      "state": {}
     },
     "d049fbbb1de8467c96b3e28f674e92a8": {
      "model_module": "@jupyter-widgets/controls",
      "model_module_version": "1.5.0",
      "model_name": "DescriptionStyleModel",
      "state": {
       "description_width": ""
      }
     },
     "d07e30d2587948599bf7c7a3bae0834d": {
      "model_module": "@jupyter-widgets/base",
      "model_module_version": "1.2.0",
      "model_name": "LayoutModel",
      "state": {}
     },
     "d0ed990dc74641fb852ffa55023cf889": {
      "model_module": "@jupyter-widgets/controls",
      "model_module_version": "1.5.0",
      "model_name": "HTMLModel",
      "state": {
       "layout": "IPY_MODEL_f647ef3fdf3a4cc681ea27c0d55450f5",
       "style": "IPY_MODEL_75bcd9612b084001a563e44a612db042",
       "value": "<p>0</p>"
      }
     },
     "d12064b112904f71b5b16e881592f8e8": {
      "model_module": "@jupyter-widgets/controls",
      "model_module_version": "1.5.0",
      "model_name": "HBoxModel",
      "state": {
       "children": [
        "IPY_MODEL_8bc6a5536f434999a1abd969b2fb27bd"
       ],
       "layout": "IPY_MODEL_b5f0483a87b44c409504443f45906fb3"
      }
     },
     "d1239f69bcf14a689a3b24b90f4eca49": {
      "model_module": "@jupyter-widgets/controls",
      "model_module_version": "1.5.0",
      "model_name": "DescriptionStyleModel",
      "state": {
       "description_width": ""
      }
     },
     "d149fd9bbd094a27a917bd0eed8b4e23": {
      "model_module": "@jupyter-widgets/controls",
      "model_module_version": "1.5.0",
      "model_name": "ButtonModel",
      "state": {
       "button_style": "info",
       "description": "show log",
       "layout": "IPY_MODEL_cd9912dd42f7480da433de6b32949aa6",
       "style": "IPY_MODEL_ea9322056e484df89adc73ba2c7f5096",
       "tooltip": "show a log of when the script was executed to generate the outputs, and by who"
      }
     },
     "d154b8851e1c4dbb86d1d1e175fa64b0": {
      "model_module": "@jupyter-widgets/controls",
      "model_module_version": "1.5.0",
      "model_name": "HBoxModel",
      "state": {
       "children": [
        "IPY_MODEL_ddff2d36496c4bb3a5c1481cc6d4289c",
        "IPY_MODEL_a125f709e46c49bf97183e215210ee45"
       ],
       "layout": "IPY_MODEL_6b97e064706f4797a6390a8e9ca81b87"
      }
     },
     "d1556ea2d8a1462ebfb602407837b385": {
      "model_module": "@jupyter-widgets/controls",
      "model_module_version": "1.5.0",
      "model_name": "DescriptionStyleModel",
      "state": {
       "description_width": ""
      }
     },
     "d17947304ec842679281a0a70457c8df": {
      "model_module": "@jupyter-widgets/base",
      "model_module_version": "1.2.0",
      "model_name": "LayoutModel",
      "state": {}
     },
     "d1a8693235504124904cf37e36edf9f4": {
      "model_module": "@jupyter-widgets/base",
      "model_module_version": "1.2.0",
      "model_name": "LayoutModel",
      "state": {}
     },
     "d1ad39230beb4028832af0af534c3776": {
      "model_module": "@jupyter-widgets/controls",
      "model_module_version": "1.5.0",
      "model_name": "TextModel",
      "state": {
       "layout": "IPY_MODEL_465f581e99d84aee88c4f3b7a6820371",
       "placeholder": "output filename",
       "style": "IPY_MODEL_dd1424f683db41c9af19a62d4b2983fe"
      }
     },
     "d1c7e1df8aa84f5ab1afbb5f109858ec": {
      "model_module": "@jupyter-widgets/controls",
      "model_module_version": "1.5.0",
      "model_name": "VBoxModel",
      "state": {
       "children": [
        "IPY_MODEL_feeadebf24904b4e904363f988193d00",
        "IPY_MODEL_bc8250bad2be409c81ef8dbeb0c7096a",
        "IPY_MODEL_58bb59d5bdd445a789196fcce2d3d757",
        "IPY_MODEL_c4dc5725f48a403389b5087db35a4aa9",
        "IPY_MODEL_8922fc9efffb4a14bcf74173aafe9957",
        "IPY_MODEL_2ce80064b1e54923b35bddfa6ef589db"
       ],
       "layout": "IPY_MODEL_b8bea702b8ad48d3a7c275dd3d7f4078"
      }
     },
     "d1e1bfafa1ec4c1686309119f970d51c": {
      "model_module": "@jupyter-widgets/controls",
      "model_module_version": "1.5.0",
      "model_name": "HBoxModel",
      "state": {
       "children": [
        "IPY_MODEL_b17791621da9485eba975959b661db4c",
        "IPY_MODEL_6d5699ca218842fab92b1aa641b624b3"
       ],
       "layout": "IPY_MODEL_c7987c3879ef4699b271c8b8772f2ab5"
      }
     },
     "d1e4ce3691c9422392fda0bc58dcb259": {
      "model_module": "@jupyter-widgets/controls",
      "model_module_version": "1.5.0",
      "model_name": "HTMLModel",
      "state": {
       "layout": "IPY_MODEL_204f33d36b444e9c977a491d3f3f4ee7",
       "style": "IPY_MODEL_48cd5a6d2de24d739fa50f23d7012518",
       "value": "<p>defines the logic of the space naming. use default value where practical.</p>"
      }
     },
     "d1ebb93a2164432f804fd77adc50ebe2": {
      "model_module": "@jupyter-widgets/base",
      "model_module_version": "1.2.0",
      "model_name": "LayoutModel",
      "state": {
       "align_items": "stretch",
       "border": "dashed 0.2px green",
       "display": "flex",
       "flex_flow": "row",
       "grid_auto_columns": "True",
       "justify_content": "flex-start",
       "width": "100%"
      }
     },
     "d1eec53a2e9646b3846912b259b49e41": {
      "model_module": "@jupyter-widgets/controls",
      "model_module_version": "1.5.0",
      "model_name": "DescriptionStyleModel",
      "state": {
       "description_width": ""
      }
     },
     "d206b6f0fe0843deaf6a19a981c050cb": {
      "model_module": "@jupyter-widgets/controls",
      "model_module_version": "1.5.0",
      "model_name": "ToggleButtonModel",
      "state": {
       "description": "help",
       "icon": "fa-question-circle",
       "layout": "IPY_MODEL_41a51012870e47758ad09130821d779d",
       "style": "IPY_MODEL_843638c11a9749feb00b5d7ca5719a89",
       "tooltip": "gives guidance"
      }
     },
     "d208d533427a43faa86c72676bb4bc5c": {
      "model_module": "@jupyter-widgets/base",
      "model_module_version": "1.2.0",
      "model_name": "LayoutModel",
      "state": {
       "display": "flex",
       "flex_flow": "row",
       "grid_auto_columns": "False",
       "justify_content": "flex-start",
       "width": "100%"
      }
     },
     "d22f542bd5fa41f99929b8bef7452926": {
      "model_module": "@jupyter-widgets/base",
      "model_module_version": "1.2.0",
      "model_name": "LayoutModel",
      "state": {}
     },
     "d2427a39f4ab4bf4b3a4883eac6a3115": {
      "model_module": "@jupyter-widgets/output",
      "model_module_version": "1.0.0",
      "model_name": "OutputModel",
      "state": {
       "layout": "IPY_MODEL_1992b0b5f1a04c38851df727b0fee33c"
      }
     },
     "d2471998c85a4e6b93cdd770e86a8e12": {
      "model_module": "@jupyter-widgets/base",
      "model_module_version": "1.2.0",
      "model_name": "LayoutModel",
      "state": {}
     },
     "d25d360b79a44204b620647434ae1a40": {
      "model_module": "@jupyter-widgets/base",
      "model_module_version": "1.2.0",
      "model_name": "LayoutModel",
      "state": {
       "align_items": "stretch",
       "display": "flex",
       "flex_flow": "row",
       "grid_auto_columns": "True",
       "justify_content": "flex-start",
       "width": "80%"
      }
     },
     "d27bbe1f477c41ae92ff8c86a8175b61": {
      "model_module": "@jupyter-widgets/controls",
      "model_module_version": "1.5.0",
      "model_name": "TextModel",
      "state": {
       "description": "inputs",
       "disabled": true,
       "layout": "IPY_MODEL_dbe8645e456840b181fa618c1646a920",
       "style": "IPY_MODEL_a562d68ddbce44978297ab7c65fe7eea",
       "value": "C:\\engDev\\git_mf\\ipyrun\\ipyrun\\appdata\\inputs\\inputs-gbxml.json"
      }
     },
     "d2a807691d4e4943914307f3c784d109": {
      "model_module": "@jupyter-widgets/controls",
      "model_module_version": "1.5.0",
      "model_name": "ButtonStyleModel",
      "state": {
       "font_weight": "bold"
      }
     },
     "d2ac69554ee64a82a6af1f9888bdd83b": {
      "model_module": "@jupyter-widgets/base",
      "model_module_version": "1.2.0",
      "model_name": "LayoutModel",
      "state": {}
     },
     "d2ba0da97723477c9b9faf7857076a74": {
      "model_module": "@jupyter-widgets/base",
      "model_module_version": "1.2.0",
      "model_name": "LayoutModel",
      "state": {}
     },
     "d2f303e58b5144b2b76dcdf5773e46bc": {
      "model_module": "@jupyter-widgets/base",
      "model_module_version": "1.2.0",
      "model_name": "LayoutModel",
      "state": {
       "align_items": "stretch",
       "display": "flex",
       "flex_flow": "row",
       "grid_auto_columns": "True",
       "justify_content": "flex-end",
       "width": "90%"
      }
     },
     "d31a06f6dab443968508ce92b1f281c9": {
      "model_module": "@jupyter-widgets/controls",
      "model_module_version": "1.5.0",
      "model_name": "HBoxModel",
      "state": {
       "children": [
        "IPY_MODEL_5088a615d18c4ea894ed53873b881004",
        "IPY_MODEL_0425c2d33e13432fb527799b8c5b136a"
       ],
       "layout": "IPY_MODEL_c7f8c6df0c6149bf83a2f5e7ffc00cc8"
      }
     },
     "d31dfacfce90452a983406934995a9c7": {
      "model_module": "@jupyter-widgets/controls",
      "model_module_version": "1.5.0",
      "model_name": "HTMLModel",
      "state": {
       "layout": "IPY_MODEL_fc5fab58204147a5a0c6809de322f8ac",
       "style": "IPY_MODEL_249e18863bbb49dc8b171eb6ad4cbde6",
       "value": "<p>Date Picker</p>"
      }
     },
     "d3261a954dfb41dca29abb8e16855202": {
      "model_module": "@jupyter-widgets/base",
      "model_module_version": "1.2.0",
      "model_name": "LayoutModel",
      "state": {}
     },
     "d326e3cb52a843a7a3101b231e4e58d3": {
      "model_module": "@jupyter-widgets/output",
      "model_module_version": "1.0.0",
      "model_name": "OutputModel",
      "state": {
       "layout": "IPY_MODEL_b17991f206fd48a582f3497e8ba98eb3"
      }
     },
     "d3284586449140adbe3c9ab2d14ff5fa": {
      "model_module": "@jupyter-widgets/controls",
      "model_module_version": "1.5.0",
      "model_name": "HBoxModel",
      "state": {
       "children": [
        "IPY_MODEL_469dbca1b214403c821406b8973a6842"
       ],
       "layout": "IPY_MODEL_c83bb0ee91f64a668dceb866f005df5d"
      }
     },
     "d329f252dbd54c7fb5d26abe6bc26f21": {
      "model_module": "@jupyter-widgets/base",
      "model_module_version": "1.2.0",
      "model_name": "LayoutModel",
      "state": {}
     },
     "d3655093cd94464e8e43273c7a7079a4": {
      "model_module": "@jupyter-widgets/controls",
      "model_module_version": "1.5.0",
      "model_name": "DescriptionStyleModel",
      "state": {
       "description_width": ""
      }
     },
     "d37af97da8364a44b33ad35a7fdfd470": {
      "model_module": "@jupyter-widgets/base",
      "model_module_version": "1.2.0",
      "model_name": "LayoutModel",
      "state": {}
     },
     "d393c670663a4cfea3e3f74b36047106": {
      "model_module": "@jupyter-widgets/controls",
      "model_module_version": "1.5.0",
      "model_name": "HTMLModel",
      "state": {
       "layout": "IPY_MODEL_e0b8ba1bb0454cb0979429fc1dec5b11",
       "style": "IPY_MODEL_c3c2805f3f7b48f6847d3e41e1c7f997",
       "value": "016"
      }
     },
     "d3ccb6614822495c91b6c5c922482e44": {
      "model_module": "@jupyter-widgets/base",
      "model_module_version": "1.2.0",
      "model_name": "LayoutModel",
      "state": {
       "grid_area": "dircontent",
       "width": "auto"
      }
     },
     "d3d47c8acf294118b2ee000594cb4f7d": {
      "model_module": "@jupyter-widgets/controls",
      "model_module_version": "1.5.0",
      "model_name": "HBoxModel",
      "state": {
       "children": [
        "IPY_MODEL_62eefaa62b3c49488e7e4d2e30c6fd7f",
        "IPY_MODEL_5a8a885d07b74edcbc4290c5c4e73184"
       ],
       "layout": "IPY_MODEL_82fac74b0e254994a19ede5f135a4cb8"
      }
     },
     "d3e2edfd92ef4eb3b9cf13b9d726f6ad": {
      "model_module": "@jupyter-widgets/controls",
      "model_module_version": "1.5.0",
      "model_name": "DescriptionStyleModel",
      "state": {
       "description_width": ""
      }
     },
     "d3f98b20af654ad9a235ece758d95866": {
      "model_module": "@jupyter-widgets/controls",
      "model_module_version": "1.5.0",
      "model_name": "DropdownModel",
      "state": {
       "_options_labels": [
        "appdata\\inputs",
        "appdata",
        ""
       ],
       "index": 0,
       "layout": "IPY_MODEL_965fcbe47de544feb50b54f52d32d64d",
       "style": "IPY_MODEL_10432e39805343378b6f329820cff837"
      }
     },
     "d43eb135f2ee4d2f890ef8664e4c65d4": {
      "model_module": "@jupyter-widgets/base",
      "model_module_version": "1.2.0",
      "model_name": "LayoutModel",
      "state": {}
     },
     "d43ff2c5b36c4a27b0c9752937af643a": {
      "model_module": "@jupyter-widgets/base",
      "model_module_version": "1.2.0",
      "model_name": "LayoutModel",
      "state": {
       "align_items": "stretch",
       "border": "dashed 0.2px green",
       "display": "flex",
       "flex_flow": "row",
       "grid_auto_columns": "True",
       "justify_content": "flex-start",
       "width": "100%"
      }
     },
     "d4940a2afe0f46f5a68fd9f56250df54": {
      "model_module": "@jupyter-widgets/base",
      "model_module_version": "1.2.0",
      "model_name": "LayoutModel",
      "state": {}
     },
     "d4c112c76fa341728be2501604b0502f": {
      "model_module": "@jupyter-widgets/base",
      "model_module_version": "1.2.0",
      "model_name": "LayoutModel",
      "state": {}
     },
     "d4e89d5a58c74d16b08bbff2d3b28321": {
      "model_module": "@jupyter-widgets/controls",
      "model_module_version": "1.5.0",
      "model_name": "DescriptionStyleModel",
      "state": {
       "description_width": ""
      }
     },
     "d4e90956f2124a2ba7c3ba5aebe9c1be": {
      "model_module": "@jupyter-widgets/controls",
      "model_module_version": "1.5.0",
      "model_name": "HTMLModel",
      "state": {
       "layout": "IPY_MODEL_d4c112c76fa341728be2501604b0502f",
       "style": "IPY_MODEL_693f220b935f43fbba7dbeb9413b89f8",
       "value": "<p>label</p>"
      }
     },
     "d512f9a0c8814d628a750011085e2819": {
      "model_module": "@jupyter-widgets/controls",
      "model_module_version": "1.5.0",
      "model_name": "DescriptionStyleModel",
      "state": {
       "description_width": ""
      }
     },
     "d5172ed393054ee59a312756d9040bc1": {
      "model_module": "@jupyter-widgets/controls",
      "model_module_version": "1.5.0",
      "model_name": "DescriptionStyleModel",
      "state": {
       "description_width": ""
      }
     },
     "d529df5ec1044cc69d1ba9db933c294e": {
      "model_module": "@jupyter-widgets/controls",
      "model_module_version": "1.5.0",
      "model_name": "DescriptionStyleModel",
      "state": {
       "description_width": ""
      }
     },
     "d5348c743a6540359a62fa79be884541": {
      "model_module": "@jupyter-widgets/controls",
      "model_module_version": "1.5.0",
      "model_name": "VBoxModel",
      "state": {
       "children": [
        "IPY_MODEL_feeadebf24904b4e904363f988193d00",
        "IPY_MODEL_bc8250bad2be409c81ef8dbeb0c7096a",
        "IPY_MODEL_58bb59d5bdd445a789196fcce2d3d757",
        "IPY_MODEL_c4dc5725f48a403389b5087db35a4aa9",
        "IPY_MODEL_8922fc9efffb4a14bcf74173aafe9957",
        "IPY_MODEL_2ce80064b1e54923b35bddfa6ef589db"
       ],
       "layout": "IPY_MODEL_0acc239e81604aa095fe25798b53d3e7"
      }
     },
     "d553bc2e8d5747929d8f13505fbc27ec": {
      "model_module": "@jupyter-widgets/controls",
      "model_module_version": "1.5.0",
      "model_name": "HTMLModel",
      "state": {
       "layout": "IPY_MODEL_ea480b0691ce4f339bbe19e5b92a38f1",
       "style": "IPY_MODEL_1798fc5390f340e5ad77e87f86f9bb7d",
       "value": "<p>foo</p>"
      }
     },
     "d5546ee176d24b439a8f152a8a9eaddc": {
      "model_module": "@jupyter-widgets/controls",
      "model_module_version": "1.5.0",
      "model_name": "DescriptionStyleModel",
      "state": {
       "description_width": ""
      }
     },
     "d5599ee55468405e947e8c302c545912": {
      "model_module": "@jupyter-widgets/controls",
      "model_module_version": "1.5.0",
      "model_name": "DescriptionStyleModel",
      "state": {
       "description_width": ""
      }
     },
     "d56533c45bc9490bb4b3d3cbdfaf53cd": {
      "model_module": "@jupyter-widgets/controls",
      "model_module_version": "1.5.0",
      "model_name": "VBoxModel",
      "state": {
       "layout": "IPY_MODEL_cdbeb56060ac41fd8e8077c4fece3ab0"
      }
     },
     "d565c6f7cfe049e4bd9d5edab20ee965": {
      "model_module": "@jupyter-widgets/base",
      "model_module_version": "1.2.0",
      "model_name": "LayoutModel",
      "state": {}
     },
     "d58a0fc2d48140309fd271ea6ac7dfd4": {
      "model_module": "@jupyter-widgets/controls",
      "model_module_version": "1.5.0",
      "model_name": "DescriptionStyleModel",
      "state": {
       "description_width": ""
      }
     },
     "d593715c58c6494187939852e5e913f8": {
      "model_module": "@jupyter-widgets/base",
      "model_module_version": "1.2.0",
      "model_name": "LayoutModel",
      "state": {}
     },
     "d594a110c0114fe6a5d4a9b7b37a191a": {
      "model_module": "@jupyter-widgets/controls",
      "model_module_version": "1.5.0",
      "model_name": "DescriptionStyleModel",
      "state": {
       "description_width": ""
      }
     },
     "d5ecd5401bed41ac80c1313e1bebba32": {
      "model_module": "@jupyter-widgets/output",
      "model_module_version": "1.0.0",
      "model_name": "OutputModel",
      "state": {
       "layout": "IPY_MODEL_aabaf28ad1124140a2d7dcb7a36fe54e"
      }
     },
     "d5fa5fe6e140482192de07cf963c19a4": {
      "model_module": "@jupyter-widgets/controls",
      "model_module_version": "1.5.0",
      "model_name": "ButtonStyleModel",
      "state": {}
     },
     "d60dc45b6d2e4a67b6e33ab078722d5f": {
      "model_module": "@jupyter-widgets/controls",
      "model_module_version": "1.5.0",
      "model_name": "DescriptionStyleModel",
      "state": {
       "description_width": ""
      }
     },
     "d637ec846bc9463994b4eedc7389fd4c": {
      "model_module": "@jupyter-widgets/base",
      "model_module_version": "1.2.0",
      "model_name": "LayoutModel",
      "state": {}
     },
     "d6aff8d6a65046d7a6c4ce261d22fdb8": {
      "model_module": "@jupyter-widgets/base",
      "model_module_version": "1.2.0",
      "model_name": "LayoutModel",
      "state": {
       "align_items": "stretch",
       "display": "flex",
       "flex_flow": "row",
       "grid_auto_columns": "True",
       "justify_content": "flex-start",
       "width": "80%"
      }
     },
     "d6c1907936e244278316dd5b4dcc341f": {
      "model_module": "@jupyter-widgets/base",
      "model_module_version": "1.2.0",
      "model_name": "LayoutModel",
      "state": {}
     },
     "d6dd76ab6fcc4f619f63eb3c44ea89c3": {
      "model_module": "@jupyter-widgets/controls",
      "model_module_version": "1.5.0",
      "model_name": "ButtonModel",
      "state": {
       "icon": "question-circle",
       "layout": "IPY_MODEL_b0a81dfe2c2c42aa8b854079f88d8ffb",
       "style": "IPY_MODEL_917d4b759d514ac48d990e9e8871caee",
       "tooltip": "describes the functionality of elements in the RunApp interface"
      }
     },
     "d70320a722844e0ea2ccc4c5cd905111": {
      "model_module": "@jupyter-widgets/controls",
      "model_module_version": "1.5.0",
      "model_name": "VBoxModel",
      "state": {
       "children": [
        "IPY_MODEL_31b59f765fd74fe7ac343e2955057249",
        "IPY_MODEL_6a6c59fabdc749c893a160a904a3388a"
       ],
       "layout": "IPY_MODEL_3514631dd32a455daa004c9d2ebebc5a"
      }
     },
     "d75a611cdad04668bfbba1af1e816ba0": {
      "model_module": "@jupyter-widgets/base",
      "model_module_version": "1.2.0",
      "model_name": "LayoutModel",
      "state": {
       "grid_area": "pathlist",
       "width": "auto"
      }
     },
     "d760f69a1afc4289ae2417a6ff736875": {
      "model_module": "@jupyter-widgets/controls",
      "model_module_version": "1.5.0",
      "model_name": "HTMLModel",
      "state": {
       "layout": "IPY_MODEL_19096d381c964f76b3ebfdd9caa752f4",
       "style": "IPY_MODEL_6bbe9a2c1e2d4a1f8d8116cc5a02cd68",
       "value": "<p>input docx filepath</p>"
      }
     },
     "d76bc12d6b0c487fbf3cbe954c98c776": {
      "model_module": "@jupyter-widgets/controls",
      "model_module_version": "1.5.0",
      "model_name": "HBoxModel",
      "state": {
       "children": [
        "IPY_MODEL_4b46c7d3a1dd4dba8d77d367180560b0"
       ],
       "layout": "IPY_MODEL_3f3ba0278e6d4aa6b687e65152da25b3"
      }
     },
     "d76dd7a87b4049838e66d7c586fd9cb6": {
      "model_module": "@jupyter-widgets/controls",
      "model_module_version": "1.5.0",
      "model_name": "HBoxModel",
      "state": {
       "children": [
        "IPY_MODEL_d784b1e1c4eb4855869ae768eb7cf049",
        "IPY_MODEL_39794ab2bb8c44cbb956ea0480d09359"
       ],
       "layout": "IPY_MODEL_739f4a35d0df4ddda37137d4ecb20793"
      }
     },
     "d784b1e1c4eb4855869ae768eb7cf049": {
      "model_module": "@jupyter-widgets/controls",
      "model_module_version": "1.5.0",
      "model_name": "CheckboxModel",
      "state": {
       "disabled": false,
       "layout": "IPY_MODEL_1186879efbc645518b212afd0965fff2",
       "style": "IPY_MODEL_0078451fa9054c7e8a27928351d24742",
       "value": true
      }
     },
     "d78f7ad01e6a4cdd9deb072490a8fca9": {
      "model_module": "@jupyter-widgets/base",
      "model_module_version": "1.2.0",
      "model_name": "LayoutModel",
      "state": {
       "align_items": "stretch",
       "border": "dashed 0.2px green",
       "display": "flex",
       "flex_flow": "row",
       "grid_auto_columns": "True",
       "justify_content": "flex-start",
       "width": "100%"
      }
     },
     "d7f4c2a3019b4edc9242989241d3a709": {
      "model_module": "@jupyter-widgets/controls",
      "model_module_version": "1.5.0",
      "model_name": "HTMLModel",
      "state": {
       "layout": "IPY_MODEL_327f2d37d9b14463b0008dfe8b4dcb93",
       "style": "IPY_MODEL_2099975be01e4c958c1541e691048754",
       "value": "<p>Example use of the DatePicker Widget</p>"
      }
     },
     "d806dfe7ab034543b674c722db279219": {
      "model_module": "@jupyter-widgets/controls",
      "model_module_version": "1.5.0",
      "model_name": "ButtonModel",
      "state": {
       "description": "load",
       "icon": "upload",
       "layout": "IPY_MODEL_fbce440715774546963aba59b80cc047",
       "style": "IPY_MODEL_6e4d1fd37d2147acbbbf1a1976bc8838"
      }
     },
     "d8126071f65241198d9eaf19585ae85a": {
      "model_module": "@jupyter-widgets/controls",
      "model_module_version": "1.5.0",
      "model_name": "ButtonStyleModel",
      "state": {
       "font_weight": "bold"
      }
     },
     "d81e3f3777d64a44904fa2cbd9ade970": {
      "model_module": "@jupyter-widgets/controls",
      "model_module_version": "1.5.0",
      "model_name": "TextModel",
      "state": {
       "layout": "IPY_MODEL_c9993af7fba64693971236e1935cc540",
       "style": "IPY_MODEL_52defd7b39294508aa29e9348571e980",
       "value": "Level"
      }
     },
     "d83557bfc3584be385b765196118e8c7": {
      "model_module": "@jupyter-widgets/output",
      "model_module_version": "1.0.0",
      "model_name": "OutputModel",
      "state": {
       "layout": "IPY_MODEL_74b9ab30f2694c7a9c9be6c690699240"
      }
     },
     "d84ebcdc605b484ea881fda7f2d782b1": {
      "model_module": "@jupyter-widgets/controls",
      "model_module_version": "1.5.0",
      "model_name": "HBoxModel",
      "state": {
       "children": [
        "IPY_MODEL_59e71c7d36624a308d8f0e5a14d8538d",
        "IPY_MODEL_b9d04f9b28524f8b8012f7963f8d501e"
       ],
       "layout": "IPY_MODEL_265b911f9a734bb08aeb55e3a0b12b46"
      }
     },
     "d8503321f9ad4a82857008a3e4025978": {
      "model_module": "@jupyter-widgets/controls",
      "model_module_version": "1.5.0",
      "model_name": "ButtonModel",
      "state": {
       "button_style": "info",
       "description": "show guide",
       "layout": "IPY_MODEL_c5f19f1700f6442bb571c2b63f897ca8",
       "style": "IPY_MODEL_148d6bad3b7a44aba745cd89772c3c0e",
       "tooltip": "read the \"docstring\", ie. the documentation that was written to accompany the script"
      }
     },
     "d85fd2bcecbb40bca9ca8d55f6575e61": {
      "model_module": "@jupyter-widgets/base",
      "model_module_version": "1.2.0",
      "model_name": "LayoutModel",
      "state": {}
     },
     "d873fc7739ba48a7870419cfb772bb5b": {
      "model_module": "@jupyter-widgets/controls",
      "model_module_version": "1.5.0",
      "model_name": "RadioButtonsModel",
      "state": {
       "_options_labels": [
        "TEMPLATE: C:\\engDev\\git_mf\\MF_Toolbox\\dev\\mf_scripts\\template_inputs\\inputs-gbxml.json",
        "PROJECT: C:\\engDev\\git_mf\\ipyrun\\ipyrun\\appdata\\inputs\\inputs-gbxml.json"
       ],
       "index": 0,
       "layout": "IPY_MODEL_485c4cabfb464e96b44855ef4efba5b5",
       "style": "IPY_MODEL_037f7d12da5f4e789e273a7e9e2dccfd"
      }
     },
     "d8742385348745a89a2c0b6c1d043621": {
      "model_module": "@jupyter-widgets/controls",
      "model_module_version": "1.5.0",
      "model_name": "HBoxModel",
      "state": {
       "children": [
        "IPY_MODEL_2bc70faec97e4085a7b657a1bb255aa0"
       ],
       "layout": "IPY_MODEL_322b43177db54357a76a34be00b88614"
      }
     },
     "d89dd4f3ec1946a5a29c919936db7b1e": {
      "model_module": "@jupyter-widgets/base",
      "model_module_version": "1.2.0",
      "model_name": "LayoutModel",
      "state": {
       "align_items": "stretch",
       "border": "dashed 0.2px green",
       "display": "flex",
       "flex_flow": "row",
       "grid_auto_columns": "True",
       "justify_content": "flex-start",
       "width": "100%"
      }
     },
     "d8a1870eb1e744e19d97539d00409993": {
      "model_module": "@jupyter-widgets/base",
      "model_module_version": "1.2.0",
      "model_name": "LayoutModel",
      "state": {}
     },
     "d8aea37c389448cb8f8c344cbad4a95b": {
      "model_module": "@jupyter-widgets/controls",
      "model_module_version": "1.5.0",
      "model_name": "TextModel",
      "state": {
       "layout": "IPY_MODEL_a25d3dec1d57497f97926eb2608bae95",
       "style": "IPY_MODEL_b234e469ae034f31bdccf151234ec8a9",
       "value": "YY-OverheatingAnalysis"
      }
     },
     "d8c48579c44f490a8a05e325bf3dee8c": {
      "model_module": "@jupyter-widgets/controls",
      "model_module_version": "1.5.0",
      "model_name": "DescriptionStyleModel",
      "state": {
       "description_width": ""
      }
     },
     "d959f90c07c14dc1ac8e2c67850f57ed": {
      "model_module": "@jupyter-widgets/base",
      "model_module_version": "1.2.0",
      "model_name": "LayoutModel",
      "state": {
       "width": "5%"
      }
     },
     "d98a3f5ccd02422f9e1700e390ad6128": {
      "model_module": "@jupyter-widgets/controls",
      "model_module_version": "1.5.0",
      "model_name": "HBoxModel",
      "state": {
       "children": [
        "IPY_MODEL_907c2f8f52934c339e45537c83d89e60",
        "IPY_MODEL_1446d96b5f854747b207ac2a21d6fbb3"
       ],
       "layout": "IPY_MODEL_da695a560a1e4949bcd5030dcbdf1400"
      }
     },
     "d9ac84bace524c3e960c606cfad4425e": {
      "model_module": "@jupyter-widgets/output",
      "model_module_version": "1.0.0",
      "model_name": "OutputModel",
      "state": {
       "layout": "IPY_MODEL_341414a9d2694e1ab042a68d0df7e62d"
      }
     },
     "d9b5f5b8a0064fe18f6a36fe5cd8fcce": {
      "model_module": "@jupyter-widgets/controls",
      "model_module_version": "1.5.0",
      "model_name": "HBoxModel",
      "state": {
       "children": [
        "IPY_MODEL_d84ebcdc605b484ea881fda7f2d782b1"
       ],
       "layout": "IPY_MODEL_a67ab77a56d5447d91d716c9cf94dd62"
      }
     },
     "d9cf8e5a7db548aca051f1e011ba2a3d": {
      "model_module": "@jupyter-widgets/base",
      "model_module_version": "1.2.0",
      "model_name": "LayoutModel",
      "state": {}
     },
     "d9d03fe0784c423ba066533857b3b0cb": {
      "model_module": "@jupyter-widgets/controls",
      "model_module_version": "1.5.0",
      "model_name": "SelectModel",
      "state": {
       "_options_labels": [
        "..",
        "archive",
        "inputs-docx_to_pdf.json",
        "inputs-eplus_pipework_params-1.csv",
        "inputs-eplus_pipework_params.csv",
        "inputs-gbxml.json",
        "test-1.json",
        "test-derived-val.json",
        "test.json"
       ],
       "index": null,
       "layout": "IPY_MODEL_bd26681125474c8a9ba8f9b9fa820f13",
       "rows": 8,
       "style": "IPY_MODEL_8530d6988b3243ecb60162d04a7b3357"
      }
     },
     "d9e9b9b57d914b25beb80cec951d4958": {
      "model_module": "@jupyter-widgets/controls",
      "model_module_version": "1.5.0",
      "model_name": "HBoxModel",
      "state": {
       "children": [
        "IPY_MODEL_170da643cf4449248140780d5a36d0d5",
        "IPY_MODEL_dac0113aaedd463c98b205235eb5d682"
       ],
       "layout": "IPY_MODEL_6325edf5e40a4265a2d3c489c8c9dad0"
      }
     },
     "d9ee43de05c14ce0830c79f9a27507da": {
      "model_module": "@jupyter-widgets/controls",
      "model_module_version": "1.5.0",
      "model_name": "HBoxModel",
      "state": {
       "children": [
        "IPY_MODEL_4e7d2273dcb94ec283d8fd5754ef3a5c",
        "IPY_MODEL_3f7ba097e42d471c95db0da669761424"
       ],
       "layout": "IPY_MODEL_6ac910a105514dc69ad7ba74a5fa0d7b"
      }
     },
     "da095e08f8ba4eea8a18dde542fc55a2": {
      "model_module": "@jupyter-widgets/base",
      "model_module_version": "1.2.0",
      "model_name": "LayoutModel",
      "state": {}
     },
     "da358c59c41a4d4db8af362f68e3dd4c": {
      "model_module": "@jupyter-widgets/base",
      "model_module_version": "1.2.0",
      "model_name": "LayoutModel",
      "state": {}
     },
     "da613c7946d3443fb69693fa2d448304": {
      "model_module": "@jupyter-widgets/controls",
      "model_module_version": "1.5.0",
      "model_name": "DescriptionStyleModel",
      "state": {
       "description_width": ""
      }
     },
     "da69040d915a4e5a8668be75cfe57d4e": {
      "model_module": "@jupyter-widgets/base",
      "model_module_version": "1.2.0",
      "model_name": "LayoutModel",
      "state": {
       "align_items": "stretch",
       "display": "flex",
       "flex_flow": "row",
       "grid_auto_columns": "True",
       "justify_content": "flex-end",
       "width": "90%"
      }
     },
     "da695a560a1e4949bcd5030dcbdf1400": {
      "model_module": "@jupyter-widgets/base",
      "model_module_version": "1.2.0",
      "model_name": "LayoutModel",
      "state": {
       "align_items": "stretch",
       "display": "flex",
       "flex_flow": "row",
       "grid_auto_columns": "True",
       "justify_content": "flex-start",
       "width": "80%"
      }
     },
     "da89781dea08438a9960817888659f79": {
      "model_module": "@jupyter-widgets/base",
      "model_module_version": "1.2.0",
      "model_name": "LayoutModel",
      "state": {}
     },
     "daa09ee51d6b47019f8bfc9384599fb8": {
      "model_module": "@jupyter-widgets/controls",
      "model_module_version": "1.5.0",
      "model_name": "HTMLModel",
      "state": {
       "layout": "IPY_MODEL_f0cafc4dfc4341a080f3d510f8dc940c",
       "style": "IPY_MODEL_0522809bd6f34906b2e2d0b5b79701f4",
       "value": "<p>fus foo ous o</p>"
      }
     },
     "dab2c58b9c6e4a929bd7c02f53d8b05e": {
      "model_module": "@jupyter-widgets/base",
      "model_module_version": "1.2.0",
      "model_name": "LayoutModel",
      "state": {}
     },
     "dab59aa580124e178ee78f43bba9c52d": {
      "model_module": "@jupyter-widgets/controls",
      "model_module_version": "1.5.0",
      "model_name": "HBoxModel",
      "state": {
       "children": [
        "IPY_MODEL_bb403f45fb224b07b5ac266d07160c64",
        "IPY_MODEL_5b7d0bfb58754947836eb3fe4a7b23bf"
       ],
       "layout": "IPY_MODEL_803ce381f7ed432db3af2821abe7e736"
      }
     },
     "dac0113aaedd463c98b205235eb5d682": {
      "model_module": "@jupyter-widgets/controls",
      "model_module_version": "1.5.0",
      "model_name": "HTMLModel",
      "state": {
       "layout": "IPY_MODEL_ea2aa83c4e5f4b22bc4bcd7a0aa472bc",
       "style": "IPY_MODEL_27a1394fbf044aa3b5cfcf1b04938b02",
       "value": "<p>input gbxml filepath</p>"
      }
     },
     "dad3528c0d3a44f485447f4bc4e9319e": {
      "model_module": "@jupyter-widgets/base",
      "model_module_version": "1.2.0",
      "model_name": "LayoutModel",
      "state": {}
     },
     "daeaec659063409fbaa544ebbc0d4201": {
      "model_module": "@jupyter-widgets/base",
      "model_module_version": "1.2.0",
      "model_name": "LayoutModel",
      "state": {
       "align_items": "stretch",
       "display": "flex",
       "flex_flow": "row",
       "grid_auto_columns": "True",
       "justify_content": "flex-start",
       "width": "80%"
      }
     },
     "daee9d1f6b7a4fe9a213cd71b9c90f80": {
      "model_module": "@jupyter-widgets/controls",
      "model_module_version": "1.5.0",
      "model_name": "HBoxModel",
      "state": {
       "children": [
        "IPY_MODEL_bb1198e511544ddd9ec8c840c0469551",
        "IPY_MODEL_d760f69a1afc4289ae2417a6ff736875"
       ],
       "layout": "IPY_MODEL_61454b65116f4859a321ecfd269756d1"
      }
     },
     "db0d903cb84149dd824ecb2e12fc7963": {
      "model_module": "@jupyter-widgets/base",
      "model_module_version": "1.2.0",
      "model_name": "LayoutModel",
      "state": {
       "align_items": "stretch",
       "display": "flex",
       "flex_flow": "row",
       "grid_auto_columns": "True",
       "justify_content": "flex-end",
       "width": "90%"
      }
     },
     "db355d9091284a9b89ed9e24ca7c88eb": {
      "model_module": "@jupyter-widgets/controls",
      "model_module_version": "1.5.0",
      "model_name": "HBoxModel",
      "state": {
       "children": [
        "IPY_MODEL_a33d48b00f6e4077a3d60d55711ae2ce"
       ],
       "layout": "IPY_MODEL_8d8fa56168c2441992fa60639d01db2b"
      }
     },
     "db658a3b8ff3445b8279494d6a4adfd2": {
      "model_module": "@jupyter-widgets/base",
      "model_module_version": "1.2.0",
      "model_name": "LayoutModel",
      "state": {
       "align_items": "stretch",
       "display": "flex",
       "flex_flow": "row",
       "grid_auto_columns": "True",
       "justify_content": "flex-start",
       "width": "80%"
      }
     },
     "db71d6df08fe45c2a1c714a04b200d8d": {
      "model_module": "@jupyter-widgets/base",
      "model_module_version": "1.2.0",
      "model_name": "LayoutModel",
      "state": {}
     },
     "db825153b5cd421c87167be82930ffee": {
      "model_module": "@jupyter-widgets/controls",
      "model_module_version": "1.5.0",
      "model_name": "HBoxModel",
      "state": {
       "children": [
        "IPY_MODEL_8f54562bd61c4a8f98fecd8f2e4b4194"
       ],
       "layout": "IPY_MODEL_a308601bd47f443a821dec021ab742e7"
      }
     },
     "db9e890d25774dcbaf0f3b51bdfbaaca": {
      "model_module": "@jupyter-widgets/controls",
      "model_module_version": "1.5.0",
      "model_name": "HBoxModel",
      "state": {
       "children": [
        "IPY_MODEL_3bdd695d447f4d6a8a93d0e1ab4d961d",
        "IPY_MODEL_06af78456d4a44d28f99cf48ccdfbe06"
       ],
       "layout": "IPY_MODEL_55f954cc6fc64dd8a0053f95c66b403d"
      }
     },
     "dbbd6dcce4ec48de85a0682248c3109a": {
      "model_module": "@jupyter-widgets/controls",
      "model_module_version": "1.5.0",
      "model_name": "DescriptionStyleModel",
      "state": {
       "description_width": ""
      }
     },
     "dbc586b76aad4371ab13e3a21b28af5d": {
      "model_module": "@jupyter-widgets/output",
      "model_module_version": "1.0.0",
      "model_name": "OutputModel",
      "state": {
       "layout": "IPY_MODEL_bba38c6301874eb5b262f260b4e2662d"
      }
     },
     "dbc5ada8343f44c78af37ff5e6790fa4": {
      "model_module": "@jupyter-widgets/base",
      "model_module_version": "1.2.0",
      "model_name": "LayoutModel",
      "state": {}
     },
     "dbc8fab5936840fc9e41d4fb3f3112bc": {
      "model_module": "@jupyter-widgets/controls",
      "model_module_version": "1.5.0",
      "model_name": "HBoxModel",
      "state": {
       "children": [
        "IPY_MODEL_6e1ef2d0187647a296b30de18c283ab1"
       ],
       "layout": "IPY_MODEL_0d84c4b2f4bc401386f296e6b155fc4d"
      }
     },
     "dbe8645e456840b181fa618c1646a920": {
      "model_module": "@jupyter-widgets/base",
      "model_module_version": "1.2.0",
      "model_name": "LayoutModel",
      "state": {
       "height": "30px",
       "width": "auto"
      }
     },
     "dc1644c478994e379524b71d5f8a1499": {
      "model_module": "@jupyter-widgets/base",
      "model_module_version": "1.2.0",
      "model_name": "LayoutModel",
      "state": {}
     },
     "dc7b1e5e44ad43139195b2aab99d0e63": {
      "model_module": "@jupyter-widgets/base",
      "model_module_version": "1.2.0",
      "model_name": "LayoutModel",
      "state": {}
     },
     "dc8511d2032c4024ac9a8074d202fef9": {
      "model_module": "@jupyter-widgets/controls",
      "model_module_version": "1.5.0",
      "model_name": "DescriptionStyleModel",
      "state": {
       "description_width": ""
      }
     },
     "dc91232da3014a539cd44445550d65bd": {
      "model_module": "@jupyter-widgets/base",
      "model_module_version": "1.2.0",
      "model_name": "LayoutModel",
      "state": {
       "align_items": "stretch",
       "border": "dashed 0.2px green",
       "display": "flex",
       "flex_flow": "row",
       "grid_auto_columns": "True",
       "justify_content": "flex-start",
       "width": "100%"
      }
     },
     "dcb35989a0b141acab6ce03fb7d06788": {
      "model_module": "@jupyter-widgets/base",
      "model_module_version": "1.2.0",
      "model_name": "LayoutModel",
      "state": {}
     },
     "dcca2b11fcb440569716a46e3c88b225": {
      "model_module": "@jupyter-widgets/base",
      "model_module_version": "1.2.0",
      "model_name": "LayoutModel",
      "state": {}
     },
     "dcce417e873e43fb9b6a7691e6f5aec4": {
      "model_module": "@jupyter-widgets/controls",
      "model_module_version": "1.5.0",
      "model_name": "HTMLModel",
      "state": {
       "layout": "IPY_MODEL_9fc15b65ad0b45bf83d1d592dcd441e1",
       "style": "IPY_MODEL_845e9c5267aa4a08b88cc6f670215a70",
       "value": "<p>3rd section of space name code (enter None if 3rd section doesn't exist)</p>"
      }
     },
     "dcf360e6176c461a93700bdbb3723cb0": {
      "model_module": "@jupyter-widgets/base",
      "model_module_version": "1.2.0",
      "model_name": "LayoutModel",
      "state": {
       "display": "none",
       "grid_gap": "0px 0px",
       "grid_template_areas": "\n                    'pathlist filename'\n                    'dircontent dircontent'\n                    ",
       "grid_template_columns": "60% 40%",
       "grid_template_rows": "auto auto",
       "width": "500px"
      }
     },
     "dcfae8d930e64048b2074998472220ef": {
      "model_module": "@jupyter-widgets/controls",
      "model_module_version": "1.5.0",
      "model_name": "HTMLModel",
      "state": {
       "layout": "IPY_MODEL_ab875711011b4c90888b0c027f1c8761",
       "placeholder": "",
       "style": "IPY_MODEL_9eb4b7d0c2ce42398a4d46ddff8f28ad",
       "value": "<span style=\"margin-left:10px; color:black;\">No file selected</span>"
      }
     },
     "dd1424f683db41c9af19a62d4b2983fe": {
      "model_module": "@jupyter-widgets/controls",
      "model_module_version": "1.5.0",
      "model_name": "DescriptionStyleModel",
      "state": {
       "description_width": ""
      }
     },
     "dd151128bc83428ea95ae8d3d2af1367": {
      "model_module": "@jupyter-widgets/base",
      "model_module_version": "1.2.0",
      "model_name": "LayoutModel",
      "state": {}
     },
     "dd2433ce60d34661b2acf5c762d3527b": {
      "model_module": "@jupyter-widgets/controls",
      "model_module_version": "1.5.0",
      "model_name": "ToggleButtonModel",
      "state": {
       "button_style": "warning",
       "description": "edit file",
       "layout": "IPY_MODEL_bc66786d84864d0db5c15173ab513deb",
       "style": "IPY_MODEL_17a06e596859485e9c711d2bbec537d7"
      }
     },
     "dd33211dffcd4ac98d9ed41d5e4f5212": {
      "model_module": "@jupyter-widgets/output",
      "model_module_version": "1.0.0",
      "model_name": "OutputModel",
      "state": {
       "layout": "IPY_MODEL_5d4d5581e6cb4159a97fd4b3e959e440"
      }
     },
     "dd9de3d39bdf40958c2e80d7b9fb6211": {
      "model_module": "@jupyter-widgets/controls",
      "model_module_version": "1.5.0",
      "model_name": "CheckboxModel",
      "state": {
       "disabled": false,
       "indent": false,
       "layout": "IPY_MODEL_a4ab61374a184899ac6397cd6706f422",
       "style": "IPY_MODEL_c3afb83a468d4913870264344917c19a",
       "value": false
      }
     },
     "dda39ec5405943228a64492a93379339": {
      "model_module": "@jupyter-widgets/controls",
      "model_module_version": "1.5.0",
      "model_name": "HBoxModel",
      "state": {
       "children": [
        "IPY_MODEL_18147843753c43d18024c829cb052eb3"
       ],
       "layout": "IPY_MODEL_e1d62c69f64c46059f5937ed338f93e7"
      }
     },
     "ddb4c2663ea545e0ad6ec74e42c28f6b": {
      "model_module": "@jupyter-widgets/controls",
      "model_module_version": "1.5.0",
      "model_name": "CheckboxModel",
      "state": {
       "disabled": false,
       "layout": "IPY_MODEL_0f32c19178b947d598fab8c194ed10e0",
       "style": "IPY_MODEL_8385dd92d03f489285f4bb0fc3920b62",
       "value": false
      }
     },
     "ddc444b7f44a49249b38fb2961a026e4": {
      "model_module": "@jupyter-widgets/base",
      "model_module_version": "1.2.0",
      "model_name": "LayoutModel",
      "state": {
       "align_items": "stretch",
       "border": "dashed 0.2px green",
       "display": "flex",
       "flex_flow": "row",
       "grid_auto_columns": "True",
       "justify_content": "flex-start",
       "width": "100%"
      }
     },
     "ddc44e52596f41fc8e10b505b0e93b5a": {
      "model_module": "@jupyter-widgets/controls",
      "model_module_version": "1.5.0",
      "model_name": "DescriptionStyleModel",
      "state": {
       "description_width": ""
      }
     },
     "ddff2d36496c4bb3a5c1481cc6d4289c": {
      "model_module": "@jupyter-widgets/controls",
      "model_module_version": "1.5.0",
      "model_name": "TextModel",
      "state": {
       "layout": "IPY_MODEL_da095e08f8ba4eea8a18dde542fc55a2",
       "style": "IPY_MODEL_8a4f2eaeab3945cd972f451880476f21",
       "value": "SpaceId"
      }
     },
     "de0e3d70f64a4ebe8d166424c10d9d11": {
      "model_module": "@jupyter-widgets/controls",
      "model_module_version": "1.5.0",
      "model_name": "VBoxModel",
      "state": {
       "children": [
        "IPY_MODEL_4cf83009502547a8b6c7e8634fe41dea",
        "IPY_MODEL_929162a08d9b45fe9cb3718f285ad999",
        "IPY_MODEL_fe0421a1de29474bb6fad8e645412624",
        "IPY_MODEL_f6c8cff0b8bf4b60b9a170980f3f6796",
        "IPY_MODEL_b6daaafc3a2a4fe2b806e0c751d11f2c",
        "IPY_MODEL_7597cd7dc56d4e9eadf4a9437312caab",
        "IPY_MODEL_e381d52c93644894a1c76384ce1e8f43",
        "IPY_MODEL_a0b42288698943f3bd965fcc85ab266e"
       ],
       "layout": "IPY_MODEL_0e44226927924d059077b5aabfeda714"
      }
     },
     "de2c45f1497d41f6a28f758c7bd730a3": {
      "model_module": "@jupyter-widgets/output",
      "model_module_version": "1.0.0",
      "model_name": "OutputModel",
      "state": {
       "layout": "IPY_MODEL_f79f742da8cd421582737e931342d93f"
      }
     },
     "de6d7f45d29d4475b0ad7099754e744c": {
      "model_module": "@jupyter-widgets/controls",
      "model_module_version": "1.5.0",
      "model_name": "DescriptionStyleModel",
      "state": {
       "description_width": ""
      }
     },
     "de999ccb7fef4792b4f85d01cdbe6dfa": {
      "model_module": "@jupyter-widgets/controls",
      "model_module_version": "1.5.0",
      "model_name": "DescriptionStyleModel",
      "state": {
       "description_width": ""
      }
     },
     "dee7a382cb5241e3bbd4d7fa3177886a": {
      "model_module": "@jupyter-widgets/base",
      "model_module_version": "1.2.0",
      "model_name": "LayoutModel",
      "state": {}
     },
     "df0af29eedf2462295096bf16ebe7db1": {
      "model_module": "@jupyter-widgets/base",
      "model_module_version": "1.2.0",
      "model_name": "LayoutModel",
      "state": {
       "align_items": "stretch",
       "display": "flex",
       "flex_flow": "row",
       "grid_auto_columns": "True",
       "justify_content": "flex-start",
       "width": "80%"
      }
     },
     "df204aad0266420d98b386429e391f09": {
      "model_module": "@jupyter-widgets/output",
      "model_module_version": "1.0.0",
      "model_name": "OutputModel",
      "state": {
       "layout": "IPY_MODEL_aaebd207064946caa6fdf17e909a7710",
       "outputs": [
        {
         "data": {
          "application/vnd.jupyter.widget-view+json": {
           "model_id": "",
           "version_major": 2,
           "version_minor": 0
          },
          "text/plain": "Output()"
         },
         "metadata": {},
         "output_type": "display_data"
        },
        {
         "data": {
          "application/vnd.jupyter.widget-view+json": {
           "model_id": "",
           "version_major": 2,
           "version_minor": 0
          },
          "text/plain": "Output()"
         },
         "metadata": {},
         "output_type": "display_data"
        }
       ]
      }
     },
     "df37acd34a3b4f458cd28275f7f59715": {
      "model_module": "@jupyter-widgets/base",
      "model_module_version": "1.2.0",
      "model_name": "LayoutModel",
      "state": {}
     },
     "df596e82557f44918a672e2193a7cf2e": {
      "model_module": "@jupyter-widgets/controls",
      "model_module_version": "1.5.0",
      "model_name": "HBoxModel",
      "state": {
       "children": [
        "IPY_MODEL_6cfc42bf7859459caecd28116beebd7e",
        "IPY_MODEL_2f3fa727f0aa4b52a7119a360586cd44"
       ],
       "layout": "IPY_MODEL_c63e5bae1d154be0a963d5b6e826fdd4"
      }
     },
     "df5b4cb2fa5b42eaa5534c961ac9d2ed": {
      "model_module": "@jupyter-widgets/controls",
      "model_module_version": "1.5.0",
      "model_name": "DescriptionStyleModel",
      "state": {
       "description_width": ""
      }
     },
     "df903dc87d1147779078f418c3466b3f": {
      "model_module": "@jupyter-widgets/controls",
      "model_module_version": "1.5.0",
      "model_name": "HBoxModel",
      "state": {
       "children": [
        "IPY_MODEL_2fa2cea8044e49dfb024f7c97c9c6175",
        "IPY_MODEL_65613ea7f3de49eb9e5ac71c880365d6"
       ],
       "layout": "IPY_MODEL_86070129b0c345d6a57ff71c08b1f598"
      }
     },
     "df966b262fe84be5a6fc95f5d97978a8": {
      "model_module": "@jupyter-widgets/controls",
      "model_module_version": "1.5.0",
      "model_name": "DescriptionStyleModel",
      "state": {
       "description_width": ""
      }
     },
     "dfaa83f5b9d44934a146e57cb235f73f": {
      "model_module": "@jupyter-widgets/base",
      "model_module_version": "1.2.0",
      "model_name": "LayoutModel",
      "state": {
       "align_items": "stretch",
       "display": "flex",
       "flex_flow": "row",
       "grid_auto_columns": "True",
       "justify_content": "flex-end",
       "width": "90%"
      }
     },
     "dfc0e23a22d546c696320e7e30f7001c": {
      "model_module": "@jupyter-widgets/controls",
      "model_module_version": "1.5.0",
      "model_name": "DescriptionStyleModel",
      "state": {
       "description_width": ""
      }
     },
     "dfca0921e5b44f678048bb03dfe279f3": {
      "model_module": "@jupyter-widgets/base",
      "model_module_version": "1.2.0",
      "model_name": "LayoutModel",
      "state": {
       "align_items": "stretch",
       "border": "dashed 0.2px green",
       "display": "flex",
       "flex_flow": "row",
       "grid_auto_columns": "True",
       "justify_content": "flex-start",
       "width": "100%"
      }
     },
     "dfcf59329458479d927ede0720f5e252": {
      "model_module": "@jupyter-widgets/base",
      "model_module_version": "1.2.0",
      "model_name": "LayoutModel",
      "state": {}
     },
     "e0101ce9ba6041a89b3c499880bbc232": {
      "model_module": "@jupyter-widgets/controls",
      "model_module_version": "1.5.0",
      "model_name": "DescriptionStyleModel",
      "state": {
       "description_width": ""
      }
     },
     "e032bc9e563c4b1d823d3239494db94b": {
      "model_module": "@jupyter-widgets/base",
      "model_module_version": "1.2.0",
      "model_name": "LayoutModel",
      "state": {}
     },
     "e04bd5c073484da68677c118407ead9e": {
      "model_module": "@jupyter-widgets/controls",
      "model_module_version": "1.5.0",
      "model_name": "DescriptionStyleModel",
      "state": {
       "description_width": ""
      }
     },
     "e098a7b39b354decbe4118269730ae81": {
      "model_module": "@jupyter-widgets/base",
      "model_module_version": "1.2.0",
      "model_name": "LayoutModel",
      "state": {
       "align_items": "stretch",
       "display": "flex",
       "flex_flow": "row",
       "grid_auto_columns": "True",
       "justify_content": "flex-end",
       "width": "90%"
      }
     },
     "e0ac6d64ac734caea828f5be78bb0825": {
      "model_module": "@jupyter-widgets/controls",
      "model_module_version": "1.5.0",
      "model_name": "DescriptionStyleModel",
      "state": {
       "description_width": ""
      }
     },
     "e0b05a9aa26e462095800da5ed28fc15": {
      "model_module": "@jupyter-widgets/base",
      "model_module_version": "1.2.0",
      "model_name": "LayoutModel",
      "state": {}
     },
     "e0b8ba1bb0454cb0979429fc1dec5b11": {
      "model_module": "@jupyter-widgets/base",
      "model_module_version": "1.2.0",
      "model_name": "LayoutModel",
      "state": {
       "border": "solid 1px #BBBBBB",
       "padding": "0px 10px 0px 10px"
      }
     },
     "e1359e9ae6df492990c33a58f0582650": {
      "model_module": "@jupyter-widgets/controls",
      "model_module_version": "1.5.0",
      "model_name": "DescriptionStyleModel",
      "state": {
       "description_width": ""
      }
     },
     "e139b57dd65444d8a2a6eda3c22cf652": {
      "model_module": "@jupyter-widgets/controls",
      "model_module_version": "1.5.0",
      "model_name": "ButtonStyleModel",
      "state": {
       "font_weight": "bold"
      }
     },
     "e146be9ab5df481bb8fd08f702b650ef": {
      "model_module": "@jupyter-widgets/base",
      "model_module_version": "1.2.0",
      "model_name": "LayoutModel",
      "state": {}
     },
     "e14b7c3cfa0e4d3fb48be423ba085509": {
      "model_module": "@jupyter-widgets/controls",
      "model_module_version": "1.5.0",
      "model_name": "DescriptionStyleModel",
      "state": {
       "description_width": ""
      }
     },
     "e153ba1649f24b948eff4538968610e9": {
      "model_module": "@jupyter-widgets/base",
      "model_module_version": "1.2.0",
      "model_name": "LayoutModel",
      "state": {}
     },
     "e197e2bc8e7640bf9fcf87efc47eae22": {
      "model_module": "@jupyter-widgets/controls",
      "model_module_version": "1.5.0",
      "model_name": "DescriptionStyleModel",
      "state": {
       "description_width": ""
      }
     },
     "e1ac237409e14d66a8ddaa4d6b95e960": {
      "model_module": "@jupyter-widgets/base",
      "model_module_version": "1.2.0",
      "model_name": "LayoutModel",
      "state": {}
     },
     "e1c01ee0be7740b6a0a423749fc31262": {
      "model_module": "@jupyter-widgets/controls",
      "model_module_version": "1.5.0",
      "model_name": "ButtonModel",
      "state": {
       "description": "save",
       "layout": "IPY_MODEL_d637ec846bc9463994b4eedc7389fd4c",
       "style": "IPY_MODEL_493a00e0e5a4443488cd5ab4da4d72d1"
      }
     },
     "e1c08b9e0cc34a12ac37db897bc3e7b8": {
      "model_module": "@jupyter-widgets/controls",
      "model_module_version": "1.5.0",
      "model_name": "DescriptionStyleModel",
      "state": {
       "description_width": ""
      }
     },
     "e1d62c69f64c46059f5937ed338f93e7": {
      "model_module": "@jupyter-widgets/base",
      "model_module_version": "1.2.0",
      "model_name": "LayoutModel",
      "state": {
       "align_items": "stretch",
       "border": "dashed 0.2px green",
       "display": "flex",
       "flex_flow": "row",
       "grid_auto_columns": "True",
       "justify_content": "flex-start",
       "width": "100%"
      }
     },
     "e1f4638512cc4b08bcae9ca71651f86b": {
      "model_module": "@jupyter-widgets/controls",
      "model_module_version": "1.5.0",
      "model_name": "HBoxModel",
      "state": {
       "children": [
        "IPY_MODEL_bfb9ad78fd75412180f2cb3618a6e818",
        "IPY_MODEL_0853a11c60614afbac1145ebef127ed0"
       ],
       "layout": "IPY_MODEL_2d039d5e8bca4183bc785a03939a5c0a"
      }
     },
     "e220456070af42cba4732e1302d6c9ca": {
      "model_module": "@jupyter-widgets/output",
      "model_module_version": "1.0.0",
      "model_name": "OutputModel",
      "state": {
       "layout": "IPY_MODEL_40b0adbfe678408ca50d42bfcc7ccd02"
      }
     },
     "e2695e0a5ab84ff5992d8f23807e83bd": {
      "model_module": "@jupyter-widgets/base",
      "model_module_version": "1.2.0",
      "model_name": "LayoutModel",
      "state": {}
     },
     "e26e36db9b524abc921ec98875a6190e": {
      "model_module": "@jupyter-widgets/base",
      "model_module_version": "1.2.0",
      "model_name": "LayoutModel",
      "state": {}
     },
     "e28237d5fe6244d880a61fe0d36440b4": {
      "model_module": "@jupyter-widgets/controls",
      "model_module_version": "1.5.0",
      "model_name": "DescriptionStyleModel",
      "state": {
       "description_width": ""
      }
     },
     "e283dd4e388e4fffb9b89e7cd91fa303": {
      "model_module": "@jupyter-widgets/controls",
      "model_module_version": "1.5.0",
      "model_name": "HBoxModel",
      "state": {
       "children": [
        "IPY_MODEL_16d82d386d5d46ab974004829bd6f2cc"
       ],
       "layout": "IPY_MODEL_e77599fb40824c649e4cc86299d0a996"
      }
     },
     "e2b4a1ec2f4f455d8c5f5b3d56795b5e": {
      "model_module": "@jupyter-widgets/base",
      "model_module_version": "1.2.0",
      "model_name": "LayoutModel",
      "state": {}
     },
     "e2b4d2b2ae7a42b1bb9d152243a91105": {
      "model_module": "@jupyter-widgets/base",
      "model_module_version": "1.2.0",
      "model_name": "LayoutModel",
      "state": {}
     },
     "e2d846f1870d4033bc2a037817c5f171": {
      "model_module": "@jupyter-widgets/controls",
      "model_module_version": "1.5.0",
      "model_name": "HTMLModel",
      "state": {
       "layout": "IPY_MODEL_61faad76c29d404881617f291a94e0ea",
       "style": "IPY_MODEL_d1239f69bcf14a689a3b24b90f4eca49",
       "value": "<p>foo</p>"
      }
     },
     "e2eee11a362140c5822a5dd6db851d29": {
      "model_module": "@jupyter-widgets/base",
      "model_module_version": "1.2.0",
      "model_name": "LayoutModel",
      "state": {}
     },
     "e2f0c56abd704904a186c6b88758728c": {
      "model_module": "@jupyter-widgets/controls",
      "model_module_version": "1.5.0",
      "model_name": "HBoxModel",
      "state": {
       "children": [
        "IPY_MODEL_961186248cc5496aadb57410ce6f184f",
        "IPY_MODEL_801de90e9be8490282f119e3e9d78e4d"
       ],
       "layout": "IPY_MODEL_9d31537862194f15b645e4aee591cd27"
      }
     },
     "e2f3cf6e2a084a3388a138730be5683e": {
      "model_module": "@jupyter-widgets/controls",
      "model_module_version": "1.5.0",
      "model_name": "VBoxModel",
      "state": {
       "children": [
        "IPY_MODEL_70e9eebff6944bc2bb38df1b94f004be",
        "IPY_MODEL_7b2066c54bce426cac5335fd811fcb7b",
        "IPY_MODEL_beb01abba1084007ab35f9e0a786a1aa"
       ],
       "layout": "IPY_MODEL_91d2e6f40e6a44f19e3b8eb39f444d58"
      }
     },
     "e327ae37261c4639bd0f4b1f466fc10e": {
      "model_module": "@jupyter-widgets/controls",
      "model_module_version": "1.5.0",
      "model_name": "TextModel",
      "state": {
       "layout": "IPY_MODEL_dad3528c0d3a44f485447f4bc4e9319e",
       "style": "IPY_MODEL_497a67b25ca041d98a3a1431c007fbf3",
       "value": "YY-OverheatingAnalysis"
      }
     },
     "e3507e5b4c11449580be277c02d091a6": {
      "model_module": "@jupyter-widgets/base",
      "model_module_version": "1.2.0",
      "model_name": "LayoutModel",
      "state": {
       "align_items": "stretch",
       "border": "dashed 0.2px green",
       "display": "flex",
       "flex_flow": "row",
       "grid_auto_columns": "True",
       "justify_content": "flex-start",
       "width": "100%"
      }
     },
     "e36dcdb010d94374ab561961b8707f62": {
      "model_module": "@jupyter-widgets/base",
      "model_module_version": "1.2.0",
      "model_name": "LayoutModel",
      "state": {
       "align_items": "stretch",
       "border": "dashed 0.2px green",
       "display": "flex",
       "flex_flow": "row",
       "grid_auto_columns": "True",
       "justify_content": "flex-start",
       "width": "100%"
      }
     },
     "e381d52c93644894a1c76384ce1e8f43": {
      "model_module": "@jupyter-widgets/controls",
      "model_module_version": "1.5.0",
      "model_name": "HBoxModel",
      "state": {
       "children": [
        "IPY_MODEL_218285e954c64c2fa6d4a5f387f62a58"
       ],
       "layout": "IPY_MODEL_621dfeca5b57458ca55c26bdc3c2cf9a"
      }
     },
     "e396d7dde8034dbbb15240de195477a6": {
      "model_module": "@jupyter-widgets/controls",
      "model_module_version": "1.5.0",
      "model_name": "GridBoxModel",
      "state": {
       "children": [
        "IPY_MODEL_d3f98b20af654ad9a235ece758d95866",
        "IPY_MODEL_162bd60bb814459fa27f1a048b2ead9e",
        "IPY_MODEL_3c83cddda9ae4a78a204cd64571a4332"
       ],
       "layout": "IPY_MODEL_dcf360e6176c461a93700bdbb3723cb0"
      }
     },
     "e39ac263ab4242aeb94c01766e2e0815": {
      "model_module": "@jupyter-widgets/controls",
      "model_module_version": "1.5.0",
      "model_name": "DescriptionStyleModel",
      "state": {
       "description_width": ""
      }
     },
     "e3e30392086a4098a52ba7fefe592335": {
      "model_module": "@jupyter-widgets/controls",
      "model_module_version": "1.5.0",
      "model_name": "HBoxModel",
      "state": {
       "children": [
        "IPY_MODEL_e1f4638512cc4b08bcae9ca71651f86b"
       ],
       "layout": "IPY_MODEL_315cf033788640849925873d31c382ec"
      }
     },
     "e40672b301bb4a6d856ac0702e475867": {
      "model_module": "@jupyter-widgets/base",
      "model_module_version": "1.2.0",
      "model_name": "LayoutModel",
      "state": {
       "align_items": "stretch",
       "display": "flex",
       "flex_flow": "row",
       "grid_auto_columns": "True",
       "justify_content": "flex-start",
       "width": "80%"
      }
     },
     "e42267da5980438b843e96e64c92f3f9": {
      "model_module": "@jupyter-widgets/controls",
      "model_module_version": "1.5.0",
      "model_name": "HTMLModel",
      "state": {
       "layout": "IPY_MODEL_576a5a9d23b0417c89247b5a775289be",
       "placeholder": "",
       "style": "IPY_MODEL_3ccf0419988348309d95fcd25afce5e4",
       "value": "<span style=\"margin-left:10px; color:orange;\">appdata\\inputs\\inputs-gbxml.json</span>"
      }
     },
     "e4388fbf6853493083a15655b08bb88f": {
      "model_module": "@jupyter-widgets/controls",
      "model_module_version": "1.5.0",
      "model_name": "HBoxModel",
      "state": {
       "children": [
        "IPY_MODEL_895f1385146e4fb68bdd4d87a520dcc4"
       ],
       "layout": "IPY_MODEL_47656857ecb94982b16369c9840c02a2"
      }
     },
     "e43bf5d3dc1643a9aaa6c3c08023b79a": {
      "model_module": "@jupyter-widgets/controls",
      "model_module_version": "1.5.0",
      "model_name": "DescriptionStyleModel",
      "state": {
       "description_width": ""
      }
     },
     "e440b7ffbf724b0f9728ea2662c0c1e8": {
      "model_module": "@jupyter-widgets/base",
      "model_module_version": "1.2.0",
      "model_name": "LayoutModel",
      "state": {}
     },
     "e462d0e2a73845a5bf50c088d2a2c210": {
      "model_module": "@jupyter-widgets/output",
      "model_module_version": "1.0.0",
      "model_name": "OutputModel",
      "state": {
       "layout": "IPY_MODEL_55a1452b92f74afc9e9067e052c40a64"
      }
     },
     "e491300ebfa34171af9fd13862d9e00a": {
      "model_module": "@jupyter-widgets/base",
      "model_module_version": "1.2.0",
      "model_name": "LayoutModel",
      "state": {
       "align_items": "stretch",
       "border": "dashed 0.2px green",
       "display": "flex",
       "flex_flow": "row",
       "grid_auto_columns": "True",
       "justify_content": "flex-start",
       "width": "100%"
      }
     },
     "e4af0e42b8454cd784c0b2ed7d9fea1a": {
      "model_module": "@jupyter-widgets/controls",
      "model_module_version": "1.5.0",
      "model_name": "HBoxModel",
      "state": {
       "children": [
        "IPY_MODEL_d0ed990dc74641fb852ffa55023cf889",
        "IPY_MODEL_d1e1bfafa1ec4c1686309119f970d51c"
       ],
       "layout": "IPY_MODEL_5ae558511c514311ac4a79332eaf13a3"
      }
     },
     "e4e320c953b04234a1982811dc3d9f8e": {
      "model_module": "@jupyter-widgets/controls",
      "model_module_version": "1.5.0",
      "model_name": "HBoxModel",
      "state": {
       "children": [
        "IPY_MODEL_3aba5a0725cb49fb8902a91b91e209e0",
        "IPY_MODEL_2844d720c0f04a94adc62a6e10e2bf23"
       ],
       "layout": "IPY_MODEL_346eabd102f9458d9b499ac4158ce4c7"
      }
     },
     "e4e35c807b0a4231831e872cb1eac5ea": {
      "model_module": "@jupyter-widgets/base",
      "model_module_version": "1.2.0",
      "model_name": "LayoutModel",
      "state": {}
     },
     "e4e8d6f702b942e99ab39ddabe82e359": {
      "model_module": "@jupyter-widgets/base",
      "model_module_version": "1.2.0",
      "model_name": "LayoutModel",
      "state": {}
     },
     "e4f5270caf594191a5b9bd8dfba93d1c": {
      "model_module": "@jupyter-widgets/controls",
      "model_module_version": "1.5.0",
      "model_name": "DescriptionStyleModel",
      "state": {
       "description_width": ""
      }
     },
     "e51d2e349e8748b4aa14e6c5e1c754c3": {
      "model_module": "@jupyter-widgets/controls",
      "model_module_version": "1.5.0",
      "model_name": "HTMLModel",
      "state": {
       "layout": "IPY_MODEL_1b86eb88470b42a2baef6af21f49de11",
       "style": "IPY_MODEL_1c501885d66c4be2be1a1cbb5d449c06",
       "value": "<p>input gbxml filepath</p>"
      }
     },
     "e56cbecf60ba44dea91ca6c7b78717f6": {
      "model_module": "@jupyter-widgets/controls",
      "model_module_version": "1.5.0",
      "model_name": "VBoxModel",
      "state": {
       "children": [
        "IPY_MODEL_387aa2517aa143b0a8b196de15c7bfd4",
        "IPY_MODEL_a8238128120a49a08074aeee5807511c",
        "IPY_MODEL_ee0ca2e0a4824f1fae8bbf5bffaff36c"
       ],
       "layout": "IPY_MODEL_e5ac46b759d64ac6882a1acc1f38e274"
      }
     },
     "e5ac46b759d64ac6882a1acc1f38e274": {
      "model_module": "@jupyter-widgets/base",
      "model_module_version": "1.2.0",
      "model_name": "LayoutModel",
      "state": {
       "width": "auto"
      }
     },
     "e5b3e1c2980d41ee852ba93384b7f1c5": {
      "model_module": "@jupyter-widgets/output",
      "model_module_version": "1.0.0",
      "model_name": "OutputModel",
      "state": {
       "layout": "IPY_MODEL_914e1bdce16248eb9b1ba2c3f1ea1b98"
      }
     },
     "e5c4573daaf444dd9a7a9497010d46d3": {
      "model_module": "@jupyter-widgets/controls",
      "model_module_version": "1.5.0",
      "model_name": "DescriptionStyleModel",
      "state": {
       "description_width": ""
      }
     },
     "e5d1af8fcfa54d6bb9c4812052277437": {
      "model_module": "@jupyter-widgets/base",
      "model_module_version": "1.2.0",
      "model_name": "LayoutModel",
      "state": {}
     },
     "e5f5c44ea7bd4f7eb6586c1f985ab811": {
      "model_module": "@jupyter-widgets/base",
      "model_module_version": "1.2.0",
      "model_name": "LayoutModel",
      "state": {
       "align_items": "stretch",
       "display": "flex",
       "flex_flow": "row",
       "grid_auto_columns": "True",
       "justify_content": "flex-start",
       "width": "80%"
      }
     },
     "e6038928a852422597e83dd545796cf8": {
      "model_module": "@jupyter-widgets/base",
      "model_module_version": "1.2.0",
      "model_name": "LayoutModel",
      "state": {
       "display": "flex",
       "flex_flow": "row",
       "grid_auto_columns": "False",
       "justify_content": "flex-start",
       "width": "100%"
      }
     },
     "e6240adf5d2b417d9904c4b1246f1836": {
      "model_module": "@jupyter-widgets/base",
      "model_module_version": "1.2.0",
      "model_name": "LayoutModel",
      "state": {}
     },
     "e642f82af20c4acd8ce7755a6dffb8ac": {
      "model_module": "@jupyter-widgets/base",
      "model_module_version": "1.2.0",
      "model_name": "LayoutModel",
      "state": {}
     },
     "e661248b286a42f9964ed54b031a4955": {
      "model_module": "@jupyter-widgets/controls",
      "model_module_version": "1.5.0",
      "model_name": "HTMLModel",
      "state": {
       "layout": "IPY_MODEL_fbad311322ca464086f224c316414075",
       "style": "IPY_MODEL_64cce5aa4e2b48d29a727cae40bb9612",
       "value": "<p>edit user input form below</p>"
      }
     },
     "e69121a49029473a882fbe56fba5a751": {
      "model_module": "@jupyter-widgets/base",
      "model_module_version": "1.2.0",
      "model_name": "LayoutModel",
      "state": {}
     },
     "e6b778e04b7f41d3b9d4580cc90d5f20": {
      "model_module": "@jupyter-widgets/controls",
      "model_module_version": "1.5.0",
      "model_name": "DescriptionStyleModel",
      "state": {
       "description_width": ""
      }
     },
     "e70ce136d5d846d18b440ce0f6474718": {
      "model_module": "@jupyter-widgets/base",
      "model_module_version": "1.2.0",
      "model_name": "LayoutModel",
      "state": {}
     },
     "e717481603cc4ad89f05e1e3ae8d0bdc": {
      "model_module": "@jupyter-widgets/controls",
      "model_module_version": "1.5.0",
      "model_name": "HTMLModel",
      "state": {
       "layout": "IPY_MODEL_5fbdb01ad198497286dc31edf1af5b48",
       "style": "IPY_MODEL_3438ca925fac4910acf1e712bda84700"
      }
     },
     "e74c3f100f964a89baa91707f9dcf806": {
      "model_module": "@jupyter-widgets/base",
      "model_module_version": "1.2.0",
      "model_name": "LayoutModel",
      "state": {}
     },
     "e75265f22e8a4d0cb0469795d8f4316b": {
      "model_module": "@jupyter-widgets/controls",
      "model_module_version": "1.5.0",
      "model_name": "DescriptionStyleModel",
      "state": {
       "description_width": ""
      }
     },
     "e77483ef030d4192af6f249e57679f6c": {
      "model_module": "@jupyter-widgets/base",
      "model_module_version": "1.2.0",
      "model_name": "LayoutModel",
      "state": {}
     },
     "e77599fb40824c649e4cc86299d0a996": {
      "model_module": "@jupyter-widgets/base",
      "model_module_version": "1.2.0",
      "model_name": "LayoutModel",
      "state": {
       "align_items": "stretch",
       "border": "dashed 0.2px green",
       "display": "flex",
       "flex_flow": "row",
       "grid_auto_columns": "True",
       "justify_content": "flex-start",
       "width": "100%"
      }
     },
     "e7902ed2699c4ec7a38ad87dfb27846d": {
      "model_module": "@jupyter-widgets/controls",
      "model_module_version": "1.5.0",
      "model_name": "HTMLModel",
      "state": {
       "layout": "IPY_MODEL_712fa9162a414cc7b928066f7b58a9ee",
       "style": "IPY_MODEL_538fe8a6992a44f9929e57d2e891ce18",
       "value": "<p>reus foo ous oo ous foo st</p>"
      }
     },
     "e7ca5f21672047c6874e88ac071b499e": {
      "model_module": "@jupyter-widgets/controls",
      "model_module_version": "1.5.0",
      "model_name": "DescriptionStyleModel",
      "state": {
       "description_width": ""
      }
     },
     "e7db548b6bb744a3ae940ba8b6b7da5f": {
      "model_module": "@jupyter-widgets/output",
      "model_module_version": "1.0.0",
      "model_name": "OutputModel",
      "state": {
       "layout": "IPY_MODEL_3db5360ab2f54b1bac41b34677b7539a"
      }
     },
     "e80fe9763a834c37a65b7742806a02fa": {
      "model_module": "@jupyter-widgets/controls",
      "model_module_version": "1.5.0",
      "model_name": "DescriptionStyleModel",
      "state": {
       "description_width": ""
      }
     },
     "e88b478bd4914494b2a723418401253f": {
      "model_module": "@jupyter-widgets/base",
      "model_module_version": "1.2.0",
      "model_name": "LayoutModel",
      "state": {}
     },
     "e8af21bfb0014f4fa9dbf4e45a729ac4": {
      "model_module": "@jupyter-widgets/base",
      "model_module_version": "1.2.0",
      "model_name": "LayoutModel",
      "state": {}
     },
     "e8cbecc4e67d4488be657f63f220ad32": {
      "model_module": "@jupyter-widgets/base",
      "model_module_version": "1.2.0",
      "model_name": "LayoutModel",
      "state": {}
     },
     "e8cf7451534f48759a506bc296410eb1": {
      "model_module": "@jupyter-widgets/controls",
      "model_module_version": "1.5.0",
      "model_name": "SelectMultipleModel",
      "state": {
       "_options_labels": [
        "asfd",
        "10",
        "asdf"
       ],
       "index": [
        1
       ],
       "layout": "IPY_MODEL_6e63ace836a142a38dbe6461cad56749",
       "rows": 5,
       "style": "IPY_MODEL_f68136bffa17458886ed4e56fc162da7"
      }
     },
     "e8db52233c244ed19c95f26eb488377d": {
      "model_module": "@jupyter-widgets/controls",
      "model_module_version": "1.5.0",
      "model_name": "GridBoxModel",
      "state": {
       "children": [
        "IPY_MODEL_0dd20d73d5da4be6b4c342497c0a36b6",
        "IPY_MODEL_14213c6afdb54790b04606f0a019e32f",
        "IPY_MODEL_ab4fe1b9ebd24a4eb1ef41118d378c48"
       ],
       "layout": "IPY_MODEL_b40eb9c02a624b74a401cba96773c11c"
      }
     },
     "e8e02c240a4649daa4d735e901f2bc29": {
      "model_module": "@jupyter-widgets/base",
      "model_module_version": "1.2.0",
      "model_name": "LayoutModel",
      "state": {}
     },
     "e8fcb4f97bcc4983acd3af35c5c04e18": {
      "model_module": "@jupyter-widgets/controls",
      "model_module_version": "1.5.0",
      "model_name": "DescriptionStyleModel",
      "state": {
       "description_width": ""
      }
     },
     "e915d75005b4472f953b5ada6f09eb2e": {
      "model_module": "@jupyter-widgets/controls",
      "model_module_version": "1.5.0",
      "model_name": "FloatSliderModel",
      "state": {
       "layout": "IPY_MODEL_1c032f36ef57422f8bf3cda4a2e377d2",
       "max": 10,
       "style": "IPY_MODEL_fa3dd729ff474c08a22744650b5f2b80",
       "value": 1
      }
     },
     "e92a53db9c2649b59443dcaee2cbba24": {
      "model_module": "@jupyter-widgets/controls",
      "model_module_version": "1.5.0",
      "model_name": "ToggleButtonModel",
      "state": {
       "button_style": "info",
       "description": "inputs from file",
       "layout": "IPY_MODEL_9b26a1f1663f4d7ba39b408be2d52d9c",
       "style": "IPY_MODEL_85d2bfd56dc64a739746fb123b99416a"
      }
     },
     "e97495d3f2c441ac9a1b34bddbc0b968": {
      "model_module": "@jupyter-widgets/base",
      "model_module_version": "1.2.0",
      "model_name": "LayoutModel",
      "state": {}
     },
     "e9b0e894f110492c9b895f0e549eb2e7": {
      "model_module": "@jupyter-widgets/controls",
      "model_module_version": "1.5.0",
      "model_name": "HTMLModel",
      "state": {
       "layout": "IPY_MODEL_c2fd67379d46449aa028e2b83e94b7c6",
       "style": "IPY_MODEL_1ee69c78864547628389982d708da5fa",
       "value": "<p>Derived Text</p>"
      }
     },
     "e9e23df6b17847a992ff7fd692910667": {
      "model_module": "@jupyter-widgets/controls",
      "model_module_version": "1.5.0",
      "model_name": "HBoxModel",
      "state": {
       "children": [
        "IPY_MODEL_06a308be488442ecacb4debd643e6575",
        "IPY_MODEL_ca3118b1623f46d9b89eeb81feb6bf0b"
       ],
       "layout": "IPY_MODEL_6e4cec37d1cb4b8aadb597cf42af4eb1"
      }
     },
     "ea15575c389b4f54b0a71ec1a53ebad1": {
      "model_module": "@jupyter-widgets/base",
      "model_module_version": "1.2.0",
      "model_name": "LayoutModel",
      "state": {}
     },
     "ea2aa83c4e5f4b22bc4bcd7a0aa472bc": {
      "model_module": "@jupyter-widgets/base",
      "model_module_version": "1.2.0",
      "model_name": "LayoutModel",
      "state": {}
     },
     "ea480b0691ce4f339bbe19e5b92a38f1": {
      "model_module": "@jupyter-widgets/base",
      "model_module_version": "1.2.0",
      "model_name": "LayoutModel",
      "state": {}
     },
     "ea5dee7b262d4e55a9169be1874a61ee": {
      "model_module": "@jupyter-widgets/controls",
      "model_module_version": "1.5.0",
      "model_name": "DescriptionStyleModel",
      "state": {
       "description_width": ""
      }
     },
     "ea6553056c094d5a9a03afe0bba786f2": {
      "model_module": "@jupyter-widgets/controls",
      "model_module_version": "1.5.0",
      "model_name": "DescriptionStyleModel",
      "state": {
       "description_width": ""
      }
     },
     "ea83137e5cb14ca3a87ea29f4495cc42": {
      "model_module": "@jupyter-widgets/base",
      "model_module_version": "1.2.0",
      "model_name": "LayoutModel",
      "state": {
       "grid_area": "filename",
       "width": "auto"
      }
     },
     "ea8fedab2d1f4410be434be7f1c64c6c": {
      "model_module": "@jupyter-widgets/controls",
      "model_module_version": "1.5.0",
      "model_name": "VBoxModel",
      "state": {
       "children": [
        "IPY_MODEL_1148314c5cc147d999953a36850947f3",
        "IPY_MODEL_4410cdbc32254597b9a9f9ae00826b13",
        "IPY_MODEL_0005fe38e5334254a8049768e1eaf6bd"
       ],
       "layout": "IPY_MODEL_e2eee11a362140c5822a5dd6db851d29"
      }
     },
     "ea9322056e484df89adc73ba2c7f5096": {
      "model_module": "@jupyter-widgets/controls",
      "model_module_version": "1.5.0",
      "model_name": "ButtonStyleModel",
      "state": {
       "font_weight": "bold"
      }
     },
     "eaa7791e2b2c49a5ba58a01e0df61798": {
      "model_module": "@jupyter-widgets/controls",
      "model_module_version": "1.5.0",
      "model_name": "DescriptionStyleModel",
      "state": {
       "description_width": ""
      }
     },
     "eab29d8ea41b4e5684434190654001bd": {
      "model_module": "@jupyter-widgets/controls",
      "model_module_version": "1.5.0",
      "model_name": "ButtonModel",
      "state": {
       "description": "Select",
       "layout": "IPY_MODEL_2923f1addda04db4969b88fbc3208225",
       "style": "IPY_MODEL_23e4149f978043869b5faf796c32cfa5"
      }
     },
     "eb19dfd3989f40b9be9e077a806d921f": {
      "model_module": "@jupyter-widgets/controls",
      "model_module_version": "1.5.0",
      "model_name": "VBoxModel",
      "state": {
       "children": [
        "IPY_MODEL_849e9841f9f144eca040ca777add5d4a",
        "IPY_MODEL_4d0831d91c1440caa81b49c93af506b8",
        "IPY_MODEL_b40ab225c0bb483fb1fd6d3b0fc8b426",
        "IPY_MODEL_dda39ec5405943228a64492a93379339",
        "IPY_MODEL_5a547ddd79cd4221a74e3f6fdd54b381"
       ],
       "layout": "IPY_MODEL_720e0d01492d496b91adb7469f16899a"
      }
     },
     "eb19f484a9074ce9965d80c4c7e98aa2": {
      "model_module": "@jupyter-widgets/output",
      "model_module_version": "1.0.0",
      "model_name": "OutputModel",
      "state": {
       "layout": "IPY_MODEL_fc3fac7ba94546f5a94dad1f1fae3b93"
      }
     },
     "eb80c8712635498f8f477b4469c7f6b8": {
      "model_module": "@jupyter-widgets/base",
      "model_module_version": "1.2.0",
      "model_name": "LayoutModel",
      "state": {}
     },
     "eb8d3de04f6e4d84989817f3cdd56c37": {
      "model_module": "@jupyter-widgets/controls",
      "model_module_version": "1.5.0",
      "model_name": "ToggleButtonModel",
      "state": {
       "icon": "arrow-down",
       "layout": "IPY_MODEL_95c6f1ce37b2467e96e230e835616b4e",
       "style": "IPY_MODEL_5861b09a327a4fec9de6fa0b1f62f1b0"
      }
     },
     "eb9758e82f864f77a806a0b8cc8bf290": {
      "model_module": "@jupyter-widgets/controls",
      "model_module_version": "1.5.0",
      "model_name": "DescriptionStyleModel",
      "state": {
       "description_width": ""
      }
     },
     "eb9ce651904d4cb5938a44acb13cfa48": {
      "model_module": "@jupyter-widgets/controls",
      "model_module_version": "1.5.0",
      "model_name": "HTMLModel",
      "state": {
       "layout": "IPY_MODEL_ef3505567895472eb85b8b8bd274af96",
       "style": "IPY_MODEL_c4ffa6ca529242d0a5fcfe5fdfedb5a5",
       "value": "<p>File Prefix</p>"
      }
     },
     "eba6da8478d147a488598cec877ad21f": {
      "model_module": "@jupyter-widgets/controls",
      "model_module_version": "1.5.0",
      "model_name": "HTMLModel",
      "state": {
       "layout": "IPY_MODEL_92ffd7ebd7d54425ac6fb96f7050a531",
       "style": "IPY_MODEL_9aafc8f9595f4738a381bc0c3e752390",
       "value": "<p>label</p>"
      }
     },
     "eba7b4fc3582466f8c3a53013e1c26f5": {
      "model_module": "@jupyter-widgets/controls",
      "model_module_version": "1.5.0",
      "model_name": "HTMLModel",
      "state": {
       "layout": "IPY_MODEL_0e03cafecb5740719ae1a4a891ea5193",
       "style": "IPY_MODEL_e197e2bc8e7640bf9fcf87efc47eae22",
       "value": "<p>its a foo cake</p>"
      }
     },
     "ebe4f163b4784beeb1548955446d037b": {
      "model_module": "@jupyter-widgets/controls",
      "model_module_version": "1.5.0",
      "model_name": "FloatTextModel",
      "state": {
       "layout": "IPY_MODEL_3401ce370a1a454992233801b717eca5",
       "step": null,
       "style": "IPY_MODEL_bcef73fb0f4549219fc8b0e577e1ea7b",
       "value": 16
      }
     },
     "ec0938145cd144d2ab9ac47e958f366d": {
      "model_module": "@jupyter-widgets/base",
      "model_module_version": "1.2.0",
      "model_name": "LayoutModel",
      "state": {}
     },
     "ec59ec123d9d4ef4a6e2aa3e5252d019": {
      "model_module": "@jupyter-widgets/controls",
      "model_module_version": "1.5.0",
      "model_name": "DescriptionStyleModel",
      "state": {
       "description_width": ""
      }
     },
     "ec5e505e8f444d75afe8e5625f9f398e": {
      "model_module": "@jupyter-widgets/controls",
      "model_module_version": "1.5.0",
      "model_name": "DescriptionStyleModel",
      "state": {
       "description_width": ""
      }
     },
     "ec8188a8ac9e4a94b038a7dddb352a64": {
      "model_module": "@jupyter-widgets/controls",
      "model_module_version": "1.5.0",
      "model_name": "ToggleButtonModel",
      "state": {
       "button_style": "info",
       "description": "select file",
       "layout": "IPY_MODEL_006162829d444f37a09ed039451e7ce9",
       "style": "IPY_MODEL_abbf8f03dea847468b87b07490c7d63f"
      }
     },
     "ed0f14e8c7b147c8bb7e7f1f566ae8ee": {
      "model_module": "@jupyter-widgets/base",
      "model_module_version": "1.2.0",
      "model_name": "LayoutModel",
      "state": {}
     },
     "ed3e17d8ec0e4c43b251afebfc599608": {
      "model_module": "@jupyter-widgets/base",
      "model_module_version": "1.2.0",
      "model_name": "LayoutModel",
      "state": {}
     },
     "ed4546589d984c7089eda301d2bb556a": {
      "model_module": "@jupyter-widgets/controls",
      "model_module_version": "1.5.0",
      "model_name": "ToggleButtonModel",
      "state": {
       "button_style": "info",
       "description": "select file",
       "layout": "IPY_MODEL_7bf74d0629ba4d1aa71e37ee9d64a601",
       "style": "IPY_MODEL_0ba838c272954c68aa4d58e9030afcaf"
      }
     },
     "ed7d2bdfdb824dc0948ef424cdff764a": {
      "model_module": "@jupyter-widgets/base",
      "model_module_version": "1.2.0",
      "model_name": "LayoutModel",
      "state": {}
     },
     "ed85a6e70cb84b4db49719e63e1f85b6": {
      "model_module": "@jupyter-widgets/controls",
      "model_module_version": "1.5.0",
      "model_name": "HTMLModel",
      "state": {
       "layout": "IPY_MODEL_9331f52afaec4b7c8b17badda94eaf4e",
       "style": "IPY_MODEL_a7f1d792567e4683a4424bbea72aadec",
       "value": "<p>input gbxml filepath</p>"
      }
     },
     "edadcda829f047f28e1493d93028f147": {
      "model_module": "@jupyter-widgets/controls",
      "model_module_version": "1.5.0",
      "model_name": "HBoxModel",
      "state": {
       "children": [
        "IPY_MODEL_315bcd85393f498d8aaa83b36155b1c9",
        "IPY_MODEL_4b5ab58aceaa4bfebd4243d4d01218bd"
       ],
       "layout": "IPY_MODEL_c1d1ad12f7a546309711b470f3181c4e"
      }
     },
     "edf1a91610604f6f9f0a50ba87aef2ca": {
      "model_module": "@jupyter-widgets/base",
      "model_module_version": "1.2.0",
      "model_name": "LayoutModel",
      "state": {}
     },
     "ee0ca2e0a4824f1fae8bbf5bffaff36c": {
      "model_module": "@jupyter-widgets/controls",
      "model_module_version": "1.5.0",
      "model_name": "HBoxModel",
      "state": {
       "children": [
        "IPY_MODEL_a745f6a3f34f4021aff0bef9537ca875",
        "IPY_MODEL_fec7e5204afd4e61ababc1bc3205ca98",
        "IPY_MODEL_3587437b442c4b92ad2360cc8f990e47"
       ],
       "layout": "IPY_MODEL_c5bca1c8401a4a44abcc2113380da852"
      }
     },
     "ee2981af33404e048dbddda4e165edde": {
      "model_module": "@jupyter-widgets/controls",
      "model_module_version": "1.5.0",
      "model_name": "DescriptionStyleModel",
      "state": {
       "description_width": ""
      }
     },
     "ee2bfde123d148b89ddc7d6b639b154b": {
      "model_module": "@jupyter-widgets/base",
      "model_module_version": "1.2.0",
      "model_name": "LayoutModel",
      "state": {
       "align_items": "stretch",
       "display": "flex",
       "flex_flow": "row",
       "grid_auto_columns": "True",
       "justify_content": "flex-start",
       "width": "80%"
      }
     },
     "ee545beb9be44147a22b28b3c923a3fd": {
      "model_module": "@jupyter-widgets/base",
      "model_module_version": "1.2.0",
      "model_name": "LayoutModel",
      "state": {
       "align_items": "stretch",
       "border": "dashed 0.2px green",
       "display": "flex",
       "flex_flow": "row",
       "grid_auto_columns": "True",
       "justify_content": "flex-start",
       "width": "100%"
      }
     },
     "ee5d2603b42f4ab59f22cc9226efa509": {
      "model_module": "@jupyter-widgets/controls",
      "model_module_version": "1.5.0",
      "model_name": "DescriptionStyleModel",
      "state": {
       "description_width": ""
      }
     },
     "ee87c22da58649d784a5d2aa617896eb": {
      "model_module": "@jupyter-widgets/base",
      "model_module_version": "1.2.0",
      "model_name": "LayoutModel",
      "state": {
       "align_items": "stretch",
       "display": "flex",
       "flex_flow": "row",
       "grid_auto_columns": "True",
       "justify_content": "flex-end",
       "width": "90%"
      }
     },
     "eebffcef729d47e98f0418649549b387": {
      "model_module": "@jupyter-widgets/base",
      "model_module_version": "1.2.0",
      "model_name": "LayoutModel",
      "state": {}
     },
     "eee6867a27f549f593082a31a7ce3317": {
      "model_module": "@jupyter-widgets/controls",
      "model_module_version": "1.5.0",
      "model_name": "HBoxModel",
      "state": {
       "children": [
        "IPY_MODEL_6c4b25922bb6433dbf3b1bd71fc69b3f",
        "IPY_MODEL_6aa5f83bcb194e61ac3672665d447a3d"
       ],
       "layout": "IPY_MODEL_f843b22f840a4c1c9ca4cccb15337323"
      }
     },
     "ef185d520c3c44be86d8cdecfcde9871": {
      "model_module": "@jupyter-widgets/base",
      "model_module_version": "1.2.0",
      "model_name": "LayoutModel",
      "state": {
       "border": "solid 1px #BBBBBB",
       "padding": "0px 10px 0px 10px"
      }
     },
     "ef24a6c4516941e5ad4282dad31c5fe8": {
      "model_module": "@jupyter-widgets/controls",
      "model_module_version": "1.5.0",
      "model_name": "VBoxModel",
      "state": {
       "children": [
        "IPY_MODEL_7c5e2595a5e947a796ec8efaf4c21499",
        "IPY_MODEL_10e8d032d68c471a97cd677e9c3811a7",
        "IPY_MODEL_f28cf17951984da0b75d4664ea0c467c",
        "IPY_MODEL_fc79092421f447f486f12a3ca09d4314",
        "IPY_MODEL_dbc8fab5936840fc9e41d4fb3f3112bc",
        "IPY_MODEL_b2a816c21dd4432296878779ab650e25",
        "IPY_MODEL_281d6fbb994b4932a6f904aedf886a94",
        "IPY_MODEL_358bf1dd4b6f4348878873459941456c"
       ],
       "layout": "IPY_MODEL_e642f82af20c4acd8ce7755a6dffb8ac"
      }
     },
     "ef3505567895472eb85b8b8bd274af96": {
      "model_module": "@jupyter-widgets/base",
      "model_module_version": "1.2.0",
      "model_name": "LayoutModel",
      "state": {}
     },
     "ef37d2aae57e46808c2b5e4abe2fef93": {
      "model_module": "@jupyter-widgets/controls",
      "model_module_version": "1.5.0",
      "model_name": "FloatSliderModel",
      "state": {
       "layout": "IPY_MODEL_f2e3c87e761b4105a7b7ccb136f73dc9",
       "max": 10,
       "style": "IPY_MODEL_2f673a6f6b5b4bd0a08941a734ce549e",
       "value": 1
      }
     },
     "ef382ce8b51b41aeae9c781b3d304360": {
      "model_module": "@jupyter-widgets/base",
      "model_module_version": "1.2.0",
      "model_name": "LayoutModel",
      "state": {}
     },
     "ef4037e5506d4442be4cc234b33c035b": {
      "model_module": "@jupyter-widgets/base",
      "model_module_version": "1.2.0",
      "model_name": "LayoutModel",
      "state": {}
     },
     "ef5422d50ceb4df580378a0c0a567e74": {
      "model_module": "@jupyter-widgets/controls",
      "model_module_version": "1.5.0",
      "model_name": "DescriptionStyleModel",
      "state": {
       "description_width": ""
      }
     },
     "ef6e679bfb114c5ba1a032154e912ab2": {
      "model_module": "@jupyter-widgets/base",
      "model_module_version": "1.2.0",
      "model_name": "LayoutModel",
      "state": {
       "align_items": "stretch",
       "display": "flex",
       "flex_flow": "row",
       "grid_auto_columns": "True",
       "justify_content": "flex-end",
       "width": "90%"
      }
     },
     "ef907bea450149d0ac5d03fde6044f38": {
      "model_module": "@jupyter-widgets/controls",
      "model_module_version": "1.5.0",
      "model_name": "HTMLModel",
      "state": {
       "layout": "IPY_MODEL_2aee5e5dbfbc491596c94cb05c6b03df",
       "style": "IPY_MODEL_e8fcb4f97bcc4983acd3af35c5c04e18",
       "value": "<p>fpth_in</p>"
      }
     },
     "efa1790137ab4eec8bad2f055c110a50": {
      "model_module": "@jupyter-widgets/output",
      "model_module_version": "1.0.0",
      "model_name": "OutputModel",
      "state": {
       "layout": "IPY_MODEL_a6b967b40fd64c02880a7ff2bfb6043c"
      }
     },
     "efa3b721e08d47679bc75cc03b04ed96": {
      "model_module": "@jupyter-widgets/base",
      "model_module_version": "1.2.0",
      "model_name": "LayoutModel",
      "state": {
       "align_items": "stretch",
       "display": "flex",
       "flex_flow": "row",
       "grid_auto_columns": "True",
       "justify_content": "flex-end",
       "width": "90%"
      }
     },
     "f000b2e407564f049dd7b33fde853f76": {
      "model_module": "@jupyter-widgets/base",
      "model_module_version": "1.2.0",
      "model_name": "LayoutModel",
      "state": {}
     },
     "f020f14e7e164ce1a07c4e040bad8c96": {
      "model_module": "@jupyter-widgets/controls",
      "model_module_version": "1.5.0",
      "model_name": "ToggleButtonModel",
      "state": {
       "button_style": "warning",
       "description": "edit file",
       "layout": "IPY_MODEL_5076c95688624e1b8512877f8d2024c8",
       "style": "IPY_MODEL_3aba5b971fcb4e32b5ff6ed3dfe129a0"
      }
     },
     "f02534b995174f5d947b435d79ece215": {
      "model_module": "@jupyter-widgets/controls",
      "model_module_version": "1.5.0",
      "model_name": "HBoxModel",
      "state": {
       "children": [
        "IPY_MODEL_18ab47523bee4b3793fd08718984f8e8"
       ],
       "layout": "IPY_MODEL_5997b6621bc44844b61447364e532c36"
      }
     },
     "f0508ff708af4fb2bc04ec6998cdc864": {
      "model_module": "@jupyter-widgets/base",
      "model_module_version": "1.2.0",
      "model_name": "LayoutModel",
      "state": {
       "align_items": "stretch",
       "display": "flex",
       "flex_flow": "row",
       "grid_auto_columns": "True",
       "justify_content": "flex-start",
       "width": "80%"
      }
     },
     "f0776781704a411ba18d177eca879326": {
      "model_module": "@jupyter-widgets/controls",
      "model_module_version": "1.5.0",
      "model_name": "DescriptionStyleModel",
      "state": {
       "description_width": ""
      }
     },
     "f07c115550834debb41c614dea4315b5": {
      "model_module": "@jupyter-widgets/controls",
      "model_module_version": "1.5.0",
      "model_name": "DescriptionStyleModel",
      "state": {
       "description_width": ""
      }
     },
     "f0aa9ce3cd6a457d96ba44c8fbc01cf6": {
      "model_module": "@jupyter-widgets/base",
      "model_module_version": "1.2.0",
      "model_name": "LayoutModel",
      "state": {}
     },
     "f0b1aa156b1848abb6e2f75444e7d0ef": {
      "model_module": "@jupyter-widgets/base",
      "model_module_version": "1.2.0",
      "model_name": "LayoutModel",
      "state": {}
     },
     "f0b463e478844d89a6e654164976673d": {
      "model_module": "@jupyter-widgets/base",
      "model_module_version": "1.2.0",
      "model_name": "LayoutModel",
      "state": {}
     },
     "f0cafc4dfc4341a080f3d510f8dc940c": {
      "model_module": "@jupyter-widgets/base",
      "model_module_version": "1.2.0",
      "model_name": "LayoutModel",
      "state": {}
     },
     "f0d191db72a54f1292d10802b5375306": {
      "model_module": "@jupyter-widgets/controls",
      "model_module_version": "1.5.0",
      "model_name": "ButtonModel",
      "state": {
       "description": "Cancel",
       "layout": "IPY_MODEL_5200ef2b54074841934c28e9b2b3ad03",
       "style": "IPY_MODEL_35493ba94574458aa9dba83c87970fbe"
      }
     },
     "f0de179b5fb8480c8081688f4e1cb5b4": {
      "model_module": "@jupyter-widgets/base",
      "model_module_version": "1.2.0",
      "model_name": "LayoutModel",
      "state": {}
     },
     "f0fc97c78b7841b4b4e2675f74ee1ade": {
      "model_module": "@jupyter-widgets/base",
      "model_module_version": "1.2.0",
      "model_name": "LayoutModel",
      "state": {}
     },
     "f1082498a3cc49fc9862806cd92e59a3": {
      "model_module": "@jupyter-widgets/output",
      "model_module_version": "1.0.0",
      "model_name": "OutputModel",
      "state": {
       "layout": "IPY_MODEL_35482d72220948b18897dfe25890803c"
      }
     },
     "f15e75ae225a4667881879c358583a0d": {
      "model_module": "@jupyter-widgets/controls",
      "model_module_version": "1.5.0",
      "model_name": "DescriptionStyleModel",
      "state": {
       "description_width": ""
      }
     },
     "f1644bf1b76d4261bce6962c916a5efe": {
      "model_module": "@jupyter-widgets/base",
      "model_module_version": "1.2.0",
      "model_name": "LayoutModel",
      "state": {}
     },
     "f176470e1e5444258751953e7e76b4a6": {
      "model_module": "@jupyter-widgets/controls",
      "model_module_version": "1.5.0",
      "model_name": "HTMLModel",
      "state": {
       "layout": "IPY_MODEL_e153ba1649f24b948eff4538968610e9",
       "style": "IPY_MODEL_ec5e505e8f444d75afe8e5625f9f398e",
       "value": "<p>Report Model Run?</p>"
      }
     },
     "f1e7c54f3f504730ac612e78f18512cd": {
      "model_module": "@jupyter-widgets/controls",
      "model_module_version": "1.5.0",
      "model_name": "VBoxModel",
      "state": {
       "children": [
        "IPY_MODEL_d3284586449140adbe3c9ab2d14ff5fa",
        "IPY_MODEL_d12064b112904f71b5b16e881592f8e8"
       ],
       "layout": "IPY_MODEL_57f125a0ea3145d4b652c06d788a3f73"
      }
     },
     "f2260412b004447999eddcf33c20ef40": {
      "model_module": "@jupyter-widgets/controls",
      "model_module_version": "1.5.0",
      "model_name": "DescriptionStyleModel",
      "state": {
       "description_width": ""
      }
     },
     "f23da5b2d10b4eb49fdf4d768a657d06": {
      "model_module": "@jupyter-widgets/base",
      "model_module_version": "1.2.0",
      "model_name": "LayoutModel",
      "state": {}
     },
     "f27028a44b6843aa8075cdba84a7afec": {
      "model_module": "@jupyter-widgets/controls",
      "model_module_version": "1.5.0",
      "model_name": "HBoxModel",
      "state": {
       "children": [
        "IPY_MODEL_4115aa20e078416ca7b1103f6b703182",
        "IPY_MODEL_23ce2ac09828476da8d0eec360177c5c",
        "IPY_MODEL_bf1a6ace8a2d49929bf9760442299fb4"
       ],
       "layout": "IPY_MODEL_7284003beb1d47b38fa28c87988a80ec"
      }
     },
     "f28cf17951984da0b75d4664ea0c467c": {
      "model_module": "@jupyter-widgets/controls",
      "model_module_version": "1.5.0",
      "model_name": "HBoxModel",
      "state": {
       "children": [
        "IPY_MODEL_bebadaa3f6004360921c05e7922e1438"
       ],
       "layout": "IPY_MODEL_c231142e311d496f87771a8abdeb85d6"
      }
     },
     "f2ad7801c1964d4aad7e497bde61eaa8": {
      "model_module": "@jupyter-widgets/base",
      "model_module_version": "1.2.0",
      "model_name": "LayoutModel",
      "state": {}
     },
     "f2aeff6bf1d447e3a3e238a335f7195f": {
      "model_module": "@jupyter-widgets/controls",
      "model_module_version": "1.5.0",
      "model_name": "DescriptionStyleModel",
      "state": {
       "description_width": ""
      }
     },
     "f2c829b74b9840c68ed6def2a60c4875": {
      "model_module": "@jupyter-widgets/base",
      "model_module_version": "1.2.0",
      "model_name": "LayoutModel",
      "state": {}
     },
     "f2e221e34c2e486685dc1013722aa6dc": {
      "model_module": "@jupyter-widgets/controls",
      "model_module_version": "1.5.0",
      "model_name": "HTMLModel",
      "state": {
       "layout": "IPY_MODEL_7ce288864a7e491ca7a6d27878618a80",
       "style": "IPY_MODEL_d594a110c0114fe6a5d4a9b7b37a191a",
       "value": "<p>its a foo cake</p>"
      }
     },
     "f2e3c87e761b4105a7b7ccb136f73dc9": {
      "model_module": "@jupyter-widgets/base",
      "model_module_version": "1.2.0",
      "model_name": "LayoutModel",
      "state": {}
     },
     "f303c9fcb49143c6ab2b902c2e31c8eb": {
      "model_module": "@jupyter-widgets/controls",
      "model_module_version": "1.5.0",
      "model_name": "HBoxModel",
      "state": {
       "children": [
        "IPY_MODEL_2a3e3a5624a14a70ab7c629693bef063",
        "IPY_MODEL_73ccdab7b0154f1797716cd3eaa9d62d"
       ],
       "layout": "IPY_MODEL_809d13e959d84fd09c6a4443400daac7"
      }
     },
     "f3070ed02b004e868d47cc49a16cf21b": {
      "model_module": "@jupyter-widgets/controls",
      "model_module_version": "1.5.0",
      "model_name": "ToggleButtonModel",
      "state": {
       "description": "help",
       "icon": "fa-question-circle",
       "layout": "IPY_MODEL_7a9eb8e5f9e34188ae18c145f5a04814",
       "style": "IPY_MODEL_e04bd5c073484da68677c118407ead9e",
       "tooltip": "gives guidance"
      }
     },
     "f323dc2c3dcb479dad29ac924a77a241": {
      "model_module": "@jupyter-widgets/base",
      "model_module_version": "1.2.0",
      "model_name": "LayoutModel",
      "state": {
       "align_items": "stretch",
       "display": "flex",
       "flex_flow": "row",
       "grid_auto_columns": "True",
       "justify_content": "flex-start",
       "width": "80%"
      }
     },
     "f3468d5b85914a1fba1ff3997792232d": {
      "model_module": "@jupyter-widgets/base",
      "model_module_version": "1.2.0",
      "model_name": "LayoutModel",
      "state": {
       "align_items": "stretch",
       "display": "flex",
       "flex_flow": "row",
       "grid_auto_columns": "True",
       "justify_content": "flex-end",
       "width": "90%"
      }
     },
     "f346af409b97457b8ca65dac320e8fb7": {
      "model_module": "@jupyter-widgets/base",
      "model_module_version": "1.2.0",
      "model_name": "LayoutModel",
      "state": {}
     },
     "f3596293a6f04494a95076384cc67081": {
      "model_module": "@jupyter-widgets/controls",
      "model_module_version": "1.5.0",
      "model_name": "ToggleButtonModel",
      "state": {
       "icon": "arrow-down",
       "layout": "IPY_MODEL_1eaa1d2715bf4963bfcec22666e49667",
       "style": "IPY_MODEL_0b1d9f3cb93c4b5abc9c5e421dd65edc"
      }
     },
     "f35c8afa027c4e6d8946dc4c1a616d6b": {
      "model_module": "@jupyter-widgets/output",
      "model_module_version": "1.0.0",
      "model_name": "OutputModel",
      "state": {
       "layout": "IPY_MODEL_2a503388dea042439012afc9f597831c"
      }
     },
     "f36d6c49096a4770ac11ff69446ad3b2": {
      "model_module": "@jupyter-widgets/base",
      "model_module_version": "1.2.0",
      "model_name": "LayoutModel",
      "state": {}
     },
     "f3e79590d09840d6a38a3102befb39a3": {
      "model_module": "@jupyter-widgets/base",
      "model_module_version": "1.2.0",
      "model_name": "LayoutModel",
      "state": {
       "align_items": "stretch",
       "display": "flex",
       "flex_flow": "row",
       "grid_auto_columns": "True",
       "justify_content": "flex-end",
       "width": "90%"
      }
     },
     "f4063e204eb948399b9fcad86973e713": {
      "model_module": "@jupyter-widgets/controls",
      "model_module_version": "1.5.0",
      "model_name": "ButtonStyleModel",
      "state": {
       "font_weight": "bold"
      }
     },
     "f47cfe976ab8482682f8eaf3cf8ee345": {
      "model_module": "@jupyter-widgets/controls",
      "model_module_version": "1.5.0",
      "model_name": "HTMLModel",
      "state": {
       "layout": "IPY_MODEL_9f19fc197d794e3aa77fd3ca0efeb959",
       "style": "IPY_MODEL_35309fa586684a50b24903cf79159287",
       "value": "<p>reus foo ous oo ous foo st</p>"
      }
     },
     "f484db8acc1a4dff89a3a23f14b091cc": {
      "model_module": "@jupyter-widgets/controls",
      "model_module_version": "1.5.0",
      "model_name": "ButtonModel",
      "state": {
       "button_style": "warning",
       "description": "revert to last save",
       "layout": "IPY_MODEL_b4e11505a0554587a46c2cc42b068034",
       "style": "IPY_MODEL_0187bee35ef54e8aa4a1f8ddaf19cef3"
      }
     },
     "f4a49c26ea2b456ea057655fe43657cb": {
      "model_module": "@jupyter-widgets/output",
      "model_module_version": "1.0.0",
      "model_name": "OutputModel",
      "state": {
       "layout": "IPY_MODEL_97085d4e9d904139a5630288aad2fadc"
      }
     },
     "f4a7fdee74d0454eb73ba3603b9cf2c4": {
      "model_module": "@jupyter-widgets/controls",
      "model_module_version": "1.5.0",
      "model_name": "ButtonModel",
      "state": {
       "button_style": "warning",
       "description": "revert to last save",
       "layout": "IPY_MODEL_b67581be7ac0419598528186467f4c47",
       "style": "IPY_MODEL_6bd553d66cc44731bf4a8ba8e6910100"
      }
     },
     "f4bc29c0fb8c4a66b13d2e527f49b216": {
      "model_module": "@jupyter-widgets/base",
      "model_module_version": "1.2.0",
      "model_name": "LayoutModel",
      "state": {
       "display": "flex",
       "flex_flow": "row",
       "grid_auto_columns": "False",
       "justify_content": "flex-start",
       "width": "100%"
      }
     },
     "f4e1b0d7f9f44763bf68f9e76305009a": {
      "model_module": "@jupyter-widgets/base",
      "model_module_version": "1.2.0",
      "model_name": "LayoutModel",
      "state": {
       "align_items": "stretch",
       "display": "flex",
       "flex_flow": "row",
       "grid_auto_columns": "True",
       "justify_content": "flex-end",
       "width": "90%"
      }
     },
     "f5180ca47eed4adabca693a51a1a4bc8": {
      "model_module": "@jupyter-widgets/base",
      "model_module_version": "1.2.0",
      "model_name": "LayoutModel",
      "state": {
       "width": "5%"
      }
     },
     "f52c1dd74674458e9129408b0c1e40b1": {
      "model_module": "@jupyter-widgets/controls",
      "model_module_version": "1.5.0",
      "model_name": "DescriptionStyleModel",
      "state": {
       "description_width": ""
      }
     },
     "f534f72ab9284f4f82b21f60fbb03449": {
      "model_module": "@jupyter-widgets/controls",
      "model_module_version": "1.5.0",
      "model_name": "DescriptionStyleModel",
      "state": {
       "description_width": ""
      }
     },
     "f54bbf2fe6f948ce8ae7714eea68967b": {
      "model_module": "@jupyter-widgets/controls",
      "model_module_version": "1.5.0",
      "model_name": "DescriptionStyleModel",
      "state": {
       "description_width": ""
      }
     },
     "f56e8b24f1e64536af8b71804b13dd6b": {
      "model_module": "@jupyter-widgets/controls",
      "model_module_version": "1.5.0",
      "model_name": "ButtonStyleModel",
      "state": {
       "font_weight": "bold"
      }
     },
     "f57dfca0b62d4f90bf2a82dbf4a16dc2": {
      "model_module": "@jupyter-widgets/base",
      "model_module_version": "1.2.0",
      "model_name": "LayoutModel",
      "state": {}
     },
     "f595e1229db441d2be0c754831093663": {
      "model_module": "@jupyter-widgets/controls",
      "model_module_version": "1.5.0",
      "model_name": "HTMLModel",
      "state": {
       "layout": "IPY_MODEL_aaf695f2e72246a0958615bef8089565",
       "style": "IPY_MODEL_122c9970bef040c4b2803ce78aca0f5e",
       "value": "<p>defines the logic of the space naming. use default value where practical.</p>"
      }
     },
     "f5a0ed61babe490a9328613f22f88ad8": {
      "model_module": "@jupyter-widgets/base",
      "model_module_version": "1.2.0",
      "model_name": "LayoutModel",
      "state": {
       "align_items": "stretch",
       "display": "flex",
       "flex_flow": "row",
       "grid_auto_columns": "True",
       "justify_content": "flex-end",
       "width": "90%"
      }
     },
     "f5aef0621fa8454f8bc182bf97a49769": {
      "model_module": "@jupyter-widgets/controls",
      "model_module_version": "1.5.0",
      "model_name": "DatePickerModel",
      "state": {
       "disabled": false,
       "layout": "IPY_MODEL_ca3cb3d853dc4130bec5762c7f12d093",
       "style": "IPY_MODEL_f52c1dd74674458e9129408b0c1e40b1",
       "value": {
        "date": 29,
        "month": 5,
        "year": 2020
       }
      }
     },
     "f5c4c532f8d545cf8741b3a119b3f17c": {
      "model_module": "@jupyter-widgets/base",
      "model_module_version": "1.2.0",
      "model_name": "LayoutModel",
      "state": {
       "align_items": "stretch",
       "border": "dashed 0.2px green",
       "display": "flex",
       "flex_flow": "row",
       "grid_auto_columns": "True",
       "justify_content": "flex-start",
       "width": "100%"
      }
     },
     "f5ea738587a84c34878daa70ec02328d": {
      "model_module": "@jupyter-widgets/controls",
      "model_module_version": "1.5.0",
      "model_name": "ButtonStyleModel",
      "state": {
       "font_weight": "bold"
      }
     },
     "f62cad7362d24274b801ee899c3827db": {
      "model_module": "@jupyter-widgets/controls",
      "model_module_version": "1.5.0",
      "model_name": "VBoxModel",
      "state": {
       "children": [
        "IPY_MODEL_4c1ae4e4524147d49114f1634de9d513",
        "IPY_MODEL_e661248b286a42f9964ed54b031a4955",
        "IPY_MODEL_ace710702f2b4e9aa56d894420c51139"
       ],
       "layout": "IPY_MODEL_c4084e57ce0c43c7a1ef7bb00d1651e6"
      }
     },
     "f647ef3fdf3a4cc681ea27c0d55450f5": {
      "model_module": "@jupyter-widgets/base",
      "model_module_version": "1.2.0",
      "model_name": "LayoutModel",
      "state": {}
     },
     "f68136bffa17458886ed4e56fc162da7": {
      "model_module": "@jupyter-widgets/controls",
      "model_module_version": "1.5.0",
      "model_name": "DescriptionStyleModel",
      "state": {
       "description_width": ""
      }
     },
     "f6858f88643f4d63ae2673a23a26c3d5": {
      "model_module": "@jupyter-widgets/controls",
      "model_module_version": "1.5.0",
      "model_name": "HTMLModel",
      "state": {
       "layout": "IPY_MODEL_86834984675042da8d9db122157f404c",
       "style": "IPY_MODEL_d4e89d5a58c74d16b08bbff2d3b28321",
       "value": "<p>name</p>"
      }
     },
     "f694cd7062764408ba1e364693065542": {
      "model_module": "@jupyter-widgets/base",
      "model_module_version": "1.2.0",
      "model_name": "LayoutModel",
      "state": {
       "display": "flex",
       "flex_flow": "row",
       "grid_auto_columns": "False",
       "justify_content": "flex-start",
       "width": "100%"
      }
     },
     "f6be0c46d8f54e168f42a951002aa928": {
      "model_module": "@jupyter-widgets/base",
      "model_module_version": "1.2.0",
      "model_name": "LayoutModel",
      "state": {}
     },
     "f6c0152c8301456a8902a2709e2062cb": {
      "model_module": "@jupyter-widgets/base",
      "model_module_version": "1.2.0",
      "model_name": "LayoutModel",
      "state": {}
     },
     "f6c46c217b7845f796d11558fd5490e1": {
      "model_module": "@jupyter-widgets/controls",
      "model_module_version": "1.5.0",
      "model_name": "DescriptionStyleModel",
      "state": {
       "description_width": ""
      }
     },
     "f6c8cff0b8bf4b60b9a170980f3f6796": {
      "model_module": "@jupyter-widgets/controls",
      "model_module_version": "1.5.0",
      "model_name": "HBoxModel",
      "state": {
       "children": [
        "IPY_MODEL_44f4a6c4fa46490fb713f8a6c87d3b0d"
       ],
       "layout": "IPY_MODEL_a93ae21f58024f3d984e96c7a3604db4"
      }
     },
     "f6e19287c5294bab89119689051a99cd": {
      "model_module": "@jupyter-widgets/controls",
      "model_module_version": "1.5.0",
      "model_name": "DescriptionStyleModel",
      "state": {
       "description_width": ""
      }
     },
     "f6ee282597cb4a9ea32b331c90ea75c5": {
      "model_module": "@jupyter-widgets/base",
      "model_module_version": "1.2.0",
      "model_name": "LayoutModel",
      "state": {
       "border": "0px",
       "margin": "0px",
       "padding": "0px"
      }
     },
     "f6fda3905174459497d694fba8bafb9f": {
      "model_module": "@jupyter-widgets/controls",
      "model_module_version": "1.5.0",
      "model_name": "DescriptionStyleModel",
      "state": {
       "description_width": ""
      }
     },
     "f70faf0e53fd442a8764afb950f62f9c": {
      "model_module": "@jupyter-widgets/base",
      "model_module_version": "1.2.0",
      "model_name": "LayoutModel",
      "state": {}
     },
     "f7108c0fc9fa468aa723ad24c384d412": {
      "model_module": "@jupyter-widgets/controls",
      "model_module_version": "1.5.0",
      "model_name": "DescriptionStyleModel",
      "state": {
       "description_width": ""
      }
     },
     "f720833c76034dc48a1793eef613d56d": {
      "model_module": "@jupyter-widgets/base",
      "model_module_version": "1.2.0",
      "model_name": "LayoutModel",
      "state": {}
     },
     "f726b327165640eda6fa99ab44c6252e": {
      "model_module": "@jupyter-widgets/base",
      "model_module_version": "1.2.0",
      "model_name": "LayoutModel",
      "state": {}
     },
     "f729fe80aa6a4f699dc24ffd3bc3d37e": {
      "model_module": "@jupyter-widgets/controls",
      "model_module_version": "1.5.0",
      "model_name": "HBoxModel",
      "state": {
       "children": [
        "IPY_MODEL_0f6e6b415c3b4b7eb78ed5b8f4c6076c",
        "IPY_MODEL_31d91302e59c42208e4a16741af34b1b",
        "IPY_MODEL_85d9aaaabcd245e897d9a4bd901a1f8a"
       ],
       "layout": "IPY_MODEL_fb7e5a0c20594c089233bb303903e73c"
      }
     },
     "f76484026d674fc7a08be21aa7112e5e": {
      "model_module": "@jupyter-widgets/base",
      "model_module_version": "1.2.0",
      "model_name": "LayoutModel",
      "state": {
       "align_items": "stretch",
       "display": "flex",
       "flex_flow": "row",
       "grid_auto_columns": "True",
       "justify_content": "flex-end",
       "width": "90%"
      }
     },
     "f79f742da8cd421582737e931342d93f": {
      "model_module": "@jupyter-widgets/base",
      "model_module_version": "1.2.0",
      "model_name": "LayoutModel",
      "state": {}
     },
     "f7da62f9dd5641e3a74ec9e15ad0de21": {
      "model_module": "@jupyter-widgets/controls",
      "model_module_version": "1.5.0",
      "model_name": "ButtonStyleModel",
      "state": {}
     },
     "f7ef0011f9e949d9b984b8b3f14dd2f0": {
      "model_module": "@jupyter-widgets/controls",
      "model_module_version": "1.5.0",
      "model_name": "HTMLModel",
      "state": {
       "layout": "IPY_MODEL_9cf10a8e82ee4eecbf120d89b27f0bf1",
       "placeholder": "",
       "style": "IPY_MODEL_59e7fcdbd6534e4aa281e672f3856c40",
       "value": "<span style=\"margin-left:10px; color:black;\">No file selected</span>"
      }
     },
     "f7fc397740d74ef9a0de07eb682f87fa": {
      "model_module": "@jupyter-widgets/base",
      "model_module_version": "1.2.0",
      "model_name": "LayoutModel",
      "state": {}
     },
     "f82c9868859a41afa03d8ad844af26a6": {
      "model_module": "@jupyter-widgets/controls",
      "model_module_version": "1.5.0",
      "model_name": "DescriptionStyleModel",
      "state": {
       "description_width": ""
      }
     },
     "f843b22f840a4c1c9ca4cccb15337323": {
      "model_module": "@jupyter-widgets/base",
      "model_module_version": "1.2.0",
      "model_name": "LayoutModel",
      "state": {
       "align_items": "stretch",
       "display": "flex",
       "flex_flow": "row",
       "grid_auto_columns": "True",
       "justify_content": "flex-start",
       "width": "80%"
      }
     },
     "f84f318ea4db48ac9d65cfb464f80f37": {
      "model_module": "@jupyter-widgets/controls",
      "model_module_version": "1.5.0",
      "model_name": "ToggleButtonModel",
      "state": {
       "icon": "arrow-down",
       "layout": "IPY_MODEL_15d3f644af3f42598291ba995ec6b50f",
       "style": "IPY_MODEL_97b1e29cd22947f6b89e532a3bbf1bf2"
      }
     },
     "f879767d682648e7ab419cf97eac8f94": {
      "model_module": "@jupyter-widgets/base",
      "model_module_version": "1.2.0",
      "model_name": "LayoutModel",
      "state": {
       "align_items": "stretch",
       "display": "flex",
       "flex_flow": "row",
       "grid_auto_columns": "True",
       "justify_content": "flex-start",
       "width": "80%"
      }
     },
     "f87981cceaf84ef99d01612eee68e20d": {
      "model_module": "@jupyter-widgets/base",
      "model_module_version": "1.2.0",
      "model_name": "LayoutModel",
      "state": {}
     },
     "f88b2bdddc054da4a48ae0ccb2dd3122": {
      "model_module": "@jupyter-widgets/base",
      "model_module_version": "1.2.0",
      "model_name": "LayoutModel",
      "state": {
       "align_items": "stretch",
       "border": "dashed 0.2px green",
       "display": "flex",
       "flex_flow": "row",
       "grid_auto_columns": "True",
       "justify_content": "flex-start",
       "width": "100%"
      }
     },
     "f896367914114c548c1a9f45a83f9229": {
      "model_module": "@jupyter-widgets/controls",
      "model_module_version": "1.5.0",
      "model_name": "DescriptionStyleModel",
      "state": {
       "description_width": ""
      }
     },
     "f89f5803f1f946ffa7c2c56cf49e5281": {
      "model_module": "@jupyter-widgets/base",
      "model_module_version": "1.2.0",
      "model_name": "LayoutModel",
      "state": {}
     },
     "f8a7d62a7b174abe8d187771c3ad83a0": {
      "model_module": "@jupyter-widgets/controls",
      "model_module_version": "1.5.0",
      "model_name": "ButtonStyleModel",
      "state": {}
     },
     "f8c4cfff1a654890b4adaaf2161eab53": {
      "model_module": "@jupyter-widgets/base",
      "model_module_version": "1.2.0",
      "model_name": "LayoutModel",
      "state": {}
     },
     "f8f5044025404f74b112c26429f4071c": {
      "model_module": "@jupyter-widgets/controls",
      "model_module_version": "1.5.0",
      "model_name": "DescriptionStyleModel",
      "state": {
       "description_width": ""
      }
     },
     "f8f836f9db924298b84683396d7a27f8": {
      "model_module": "@jupyter-widgets/base",
      "model_module_version": "1.2.0",
      "model_name": "LayoutModel",
      "state": {}
     },
     "f9226400b34a4d8eab77a38aca5200cd": {
      "model_module": "@jupyter-widgets/controls",
      "model_module_version": "1.5.0",
      "model_name": "HTMLModel",
      "state": {
       "layout": "IPY_MODEL_dc7b1e5e44ad43139195b2aab99d0e63",
       "style": "IPY_MODEL_b9bb7dafbf2d478988dd8c9a990e373f",
       "value": "<p>its a foo cake</p>"
      }
     },
     "f9277a3239f34e25b9cbfeb6bf7af769": {
      "model_module": "@jupyter-widgets/controls",
      "model_module_version": "1.5.0",
      "model_name": "ButtonStyleModel",
      "state": {}
     },
     "f9702d838c4b45cd9b2c36bee6802173": {
      "model_module": "@jupyter-widgets/base",
      "model_module_version": "1.2.0",
      "model_name": "LayoutModel",
      "state": {
       "align_items": "stretch",
       "display": "flex",
       "flex_flow": "row",
       "grid_auto_columns": "True",
       "justify_content": "flex-start",
       "width": "80%"
      }
     },
     "f98212eec4fd499ebe0875a13efbeed0": {
      "model_module": "@jupyter-widgets/base",
      "model_module_version": "1.2.0",
      "model_name": "LayoutModel",
      "state": {}
     },
     "f9b62469dd6045768a7f953a537c2026": {
      "model_module": "@jupyter-widgets/base",
      "model_module_version": "1.2.0",
      "model_name": "LayoutModel",
      "state": {}
     },
     "f9cdc685b21d489a9272b4ece132d78b": {
      "model_module": "@jupyter-widgets/controls",
      "model_module_version": "1.5.0",
      "model_name": "HTMLModel",
      "state": {
       "layout": "IPY_MODEL_914db5938e8846a182e7b4c0023ced49",
       "style": "IPY_MODEL_41ee9cd72e7544378d8a0ba776186a78"
      }
     },
     "f9ceb407879a42ac9b8c5b2bf9b7a90a": {
      "model_module": "@jupyter-widgets/controls",
      "model_module_version": "1.5.0",
      "model_name": "DescriptionStyleModel",
      "state": {
       "description_width": ""
      }
     },
     "f9dbce87dbf24d4c8cd3295f07327958": {
      "model_module": "@jupyter-widgets/base",
      "model_module_version": "1.2.0",
      "model_name": "LayoutModel",
      "state": {}
     },
     "f9f37f2552db42eeaeee242590d3aa34": {
      "model_module": "@jupyter-widgets/controls",
      "model_module_version": "1.5.0",
      "model_name": "DescriptionStyleModel",
      "state": {
       "description_width": ""
      }
     },
     "fa05281fc809443c88e6bbefa16707cc": {
      "model_module": "@jupyter-widgets/controls",
      "model_module_version": "1.5.0",
      "model_name": "HTMLModel",
      "state": {
       "layout": "IPY_MODEL_89169a971ed24401b4e40e0d17805e0a",
       "style": "IPY_MODEL_71bd8a3f87304644ac451c4c4e9f7ee1",
       "value": "<p>input gbxml filepath</p>"
      }
     },
     "fa3dd729ff474c08a22744650b5f2b80": {
      "model_module": "@jupyter-widgets/controls",
      "model_module_version": "1.5.0",
      "model_name": "SliderStyleModel",
      "state": {
       "description_width": ""
      }
     },
     "fa5827130b014d74b7736f009d5334c9": {
      "model_module": "@jupyter-widgets/controls",
      "model_module_version": "1.5.0",
      "model_name": "ButtonStyleModel",
      "state": {
       "font_weight": "bold"
      }
     },
     "fa6c019e5e034bcb84362de3e76dd104": {
      "model_module": "@jupyter-widgets/base",
      "model_module_version": "1.2.0",
      "model_name": "LayoutModel",
      "state": {}
     },
     "fa7ab8e8064a427daa76bda4648157bf": {
      "model_module": "@jupyter-widgets/base",
      "model_module_version": "1.2.0",
      "model_name": "LayoutModel",
      "state": {}
     },
     "fa8214697d5145d1912ca6edc0930b1a": {
      "model_module": "@jupyter-widgets/controls",
      "model_module_version": "1.5.0",
      "model_name": "CheckboxModel",
      "state": {
       "disabled": false,
       "layout": "IPY_MODEL_03f862cb712a4a7ebcef09b773cc93b0",
       "style": "IPY_MODEL_911fe2219bd94695a275e3bb2fb4842d",
       "value": true
      }
     },
     "faf7110640584eacbfedd5fcb20c610a": {
      "model_module": "@jupyter-widgets/controls",
      "model_module_version": "1.5.0",
      "model_name": "VBoxModel",
      "state": {
       "children": [
        "IPY_MODEL_c0e596388dbf4f16b6ae7db588af4c26"
       ],
       "layout": "IPY_MODEL_52922181c8134b5985fcc32b91502d4e"
      }
     },
     "fb3bc4a596284e388a66d5233a1798ce": {
      "model_module": "@jupyter-widgets/controls",
      "model_module_version": "1.5.0",
      "model_name": "HBoxModel",
      "state": {
       "children": [
        "IPY_MODEL_268d07d9298a4c4dad706dcd6f225816",
        "IPY_MODEL_9145a9d36d2c4abaa388c9d6774fa6c7"
       ],
       "layout": "IPY_MODEL_ee2bfde123d148b89ddc7d6b639b154b"
      }
     },
     "fb3f43db3f504723be526fffdeeb96d8": {
      "model_module": "@jupyter-widgets/controls",
      "model_module_version": "1.5.0",
      "model_name": "HTMLModel",
      "state": {
       "layout": "IPY_MODEL_fcbcb7f2529544208d9ee1ab7839e025",
       "style": "IPY_MODEL_856e14e677cc409e8fc278fd619b6a71",
       "value": "<p>defines the logic of the space naming. use default value where practical.</p>"
      }
     },
     "fb612e63e3a44b5ca0df6c8d7844c528": {
      "model_module": "@jupyter-widgets/controls",
      "model_module_version": "1.5.0",
      "model_name": "TextModel",
      "state": {
       "description": "script",
       "disabled": true,
       "layout": "IPY_MODEL_66ee35e7229f4e57918cc76d3279e590",
       "style": "IPY_MODEL_3da2887fd2084a67b1099cc623191c7d",
       "value": "C:\\engDev\\git_mf\\MF_Toolbox\\dev\\mf_scripts\\gbxml.py"
      }
     },
     "fb634c93b5b94a5f835d08f8410ffa76": {
      "model_module": "@jupyter-widgets/controls",
      "model_module_version": "1.5.0",
      "model_name": "DescriptionStyleModel",
      "state": {
       "description_width": ""
      }
     },
     "fb702f3243de4a0582e6794adfdee2c8": {
      "model_module": "@jupyter-widgets/controls",
      "model_module_version": "1.5.0",
      "model_name": "DescriptionStyleModel",
      "state": {
       "description_width": ""
      }
     },
     "fb7239ff44ae4ba08584beccc04e8f14": {
      "model_module": "@jupyter-widgets/base",
      "model_module_version": "1.2.0",
      "model_name": "LayoutModel",
      "state": {
       "width": "auto"
      }
     },
     "fb7327edbed0457585c85943a065cf72": {
      "model_module": "@jupyter-widgets/base",
      "model_module_version": "1.2.0",
      "model_name": "LayoutModel",
      "state": {}
     },
     "fb7e5a0c20594c089233bb303903e73c": {
      "model_module": "@jupyter-widgets/base",
      "model_module_version": "1.2.0",
      "model_name": "LayoutModel",
      "state": {}
     },
     "fb80e16864814208ab35933a474a62ee": {
      "model_module": "@jupyter-widgets/base",
      "model_module_version": "1.2.0",
      "model_name": "LayoutModel",
      "state": {}
     },
     "fb91977fe55549069ee8929681ec3465": {
      "model_module": "@jupyter-widgets/base",
      "model_module_version": "1.2.0",
      "model_name": "LayoutModel",
      "state": {}
     },
     "fba760e3d42b44208fbd4e29985ffd2a": {
      "model_module": "@jupyter-widgets/controls",
      "model_module_version": "1.5.0",
      "model_name": "HTMLModel",
      "state": {
       "layout": "IPY_MODEL_5a35ee76aa7c4969a1a76f1b5846942d",
       "style": "IPY_MODEL_083835034c6c4fb8834cf502de6a76bb",
       "value": "<p>reous foo ous foo st</p>"
      }
     },
     "fbad311322ca464086f224c316414075": {
      "model_module": "@jupyter-widgets/base",
      "model_module_version": "1.2.0",
      "model_name": "LayoutModel",
      "state": {}
     },
     "fbc93822ee734471bb113ab2fb18d9cb": {
      "model_module": "@jupyter-widgets/base",
      "model_module_version": "1.2.0",
      "model_name": "LayoutModel",
      "state": {}
     },
     "fbce440715774546963aba59b80cc047": {
      "model_module": "@jupyter-widgets/base",
      "model_module_version": "1.2.0",
      "model_name": "LayoutModel",
      "state": {}
     },
     "fc171f5a204741378cd1dd11faebef92": {
      "model_module": "@jupyter-widgets/controls",
      "model_module_version": "1.5.0",
      "model_name": "DescriptionStyleModel",
      "state": {
       "description_width": ""
      }
     },
     "fc39e11aa60f4f53ada86b1823b2d18e": {
      "model_module": "@jupyter-widgets/base",
      "model_module_version": "1.2.0",
      "model_name": "LayoutModel",
      "state": {}
     },
     "fc3fac7ba94546f5a94dad1f1fae3b93": {
      "model_module": "@jupyter-widgets/base",
      "model_module_version": "1.2.0",
      "model_name": "LayoutModel",
      "state": {}
     },
     "fc4ecfb99bb341d0a0e9522210adf3c8": {
      "model_module": "@jupyter-widgets/controls",
      "model_module_version": "1.5.0",
      "model_name": "VBoxModel",
      "state": {
       "children": [
        "IPY_MODEL_849e9841f9f144eca040ca777add5d4a",
        "IPY_MODEL_4d0831d91c1440caa81b49c93af506b8",
        "IPY_MODEL_b40ab225c0bb483fb1fd6d3b0fc8b426",
        "IPY_MODEL_dda39ec5405943228a64492a93379339",
        "IPY_MODEL_5a547ddd79cd4221a74e3f6fdd54b381"
       ],
       "layout": "IPY_MODEL_15e30bcbf4b344e28242f666bb9216c4"
      }
     },
     "fc5fab58204147a5a0c6809de322f8ac": {
      "model_module": "@jupyter-widgets/base",
      "model_module_version": "1.2.0",
      "model_name": "LayoutModel",
      "state": {}
     },
     "fc6b21a20e844b62a97cc36fa6b8ee54": {
      "model_module": "@jupyter-widgets/base",
      "model_module_version": "1.2.0",
      "model_name": "LayoutModel",
      "state": {
       "align_items": "stretch",
       "display": "flex",
       "flex_flow": "row",
       "grid_auto_columns": "True",
       "justify_content": "flex-end",
       "width": "90%"
      }
     },
     "fc79092421f447f486f12a3ca09d4314": {
      "model_module": "@jupyter-widgets/controls",
      "model_module_version": "1.5.0",
      "model_name": "HBoxModel",
      "state": {
       "children": [
        "IPY_MODEL_829d615f61ac4b719d981ad224177376"
       ],
       "layout": "IPY_MODEL_7919e42334084b7cb21840040f159c92"
      }
     },
     "fc849d0763d542e1b462386c07834a38": {
      "model_module": "@jupyter-widgets/base",
      "model_module_version": "1.2.0",
      "model_name": "LayoutModel",
      "state": {}
     },
     "fc91fa096d9343f0b4c19662b8dbcd73": {
      "model_module": "@jupyter-widgets/controls",
      "model_module_version": "1.5.0",
      "model_name": "ToggleButtonModel",
      "state": {
       "icon": "arrow-down",
       "layout": "IPY_MODEL_4b724580dc96408b9b140cf9a3384866",
       "style": "IPY_MODEL_494156b3c87f41c89a92685b7a14767f"
      }
     },
     "fcbcb7f2529544208d9ee1ab7839e025": {
      "model_module": "@jupyter-widgets/base",
      "model_module_version": "1.2.0",
      "model_name": "LayoutModel",
      "state": {}
     },
     "fcc23b40bd7a419f9f9366aaa48f6f41": {
      "model_module": "@jupyter-widgets/controls",
      "model_module_version": "1.5.0",
      "model_name": "SliderStyleModel",
      "state": {
       "description_width": ""
      }
     },
     "fce0cfcaa71d46dc98dc2187097af646": {
      "model_module": "@jupyter-widgets/controls",
      "model_module_version": "1.5.0",
      "model_name": "HBoxModel",
      "state": {
       "children": [
        "IPY_MODEL_07932908d32a44b4a6daa385b4b95b0c",
        "IPY_MODEL_c1eae8f3c4894867bdd4cd60af15b3ed"
       ],
       "layout": "IPY_MODEL_0490ff99958b4ec2b7430dd73627f4b2"
      }
     },
     "fd0223a45da549e8976c501bf881d8eb": {
      "model_module": "@jupyter-widgets/controls",
      "model_module_version": "1.5.0",
      "model_name": "ToggleButtonModel",
      "state": {
       "icon": "arrow-down",
       "layout": "IPY_MODEL_259fa1e3858a449cadc23e096b1cde2a",
       "style": "IPY_MODEL_a3dd0ff4ba3b412d915248e065ea3546"
      }
     },
     "fd48707be73e4de69a31b1dc5a7d14d0": {
      "model_module": "@jupyter-widgets/base",
      "model_module_version": "1.2.0",
      "model_name": "LayoutModel",
      "state": {}
     },
     "fd9b95a887d04d708644c472603918c0": {
      "model_module": "@jupyter-widgets/controls",
      "model_module_version": "1.5.0",
      "model_name": "ToggleButtonModel",
      "state": {
       "icon": "arrow-down",
       "layout": "IPY_MODEL_b2b7abacdcaa49309f4ccfbfbd3fda93",
       "style": "IPY_MODEL_3680032a5ae040c5a5fbf834b7fc7490"
      }
     },
     "fdb566be99e04202aeeab4f86e7466b5": {
      "model_module": "@jupyter-widgets/base",
      "model_module_version": "1.2.0",
      "model_name": "LayoutModel",
      "state": {
       "align_items": "stretch",
       "display": "flex",
       "flex_flow": "row",
       "grid_auto_columns": "True",
       "justify_content": "flex-start",
       "width": "80%"
      }
     },
     "fde52001af21446fade8de2e3ca62712": {
      "model_module": "@jupyter-widgets/controls",
      "model_module_version": "1.5.0",
      "model_name": "GridBoxModel",
      "state": {
       "children": [
        "IPY_MODEL_b17680d75e83419eaea1bb07c0b58609",
        "IPY_MODEL_263a3245e2734703a9b8b0cb085fe092",
        "IPY_MODEL_1e400ea4fd504239b5dd48f9cb17f133"
       ],
       "layout": "IPY_MODEL_a9dcfdbe082343e3a9bec3224019c6a7"
      }
     },
     "fde622426d8c4fb7ba972cd77b2b203c": {
      "model_module": "@jupyter-widgets/output",
      "model_module_version": "1.0.0",
      "model_name": "OutputModel",
      "state": {
       "layout": "IPY_MODEL_bfe1895358c44a60a0ed30c80e3ef7a6"
      }
     },
     "fdf47591bd8c403bb86e720af3be9ec2": {
      "model_module": "@jupyter-widgets/controls",
      "model_module_version": "1.5.0",
      "model_name": "CheckboxModel",
      "state": {
       "disabled": false,
       "layout": "IPY_MODEL_37ad5e30ab4041ec9cec05989eecaf64",
       "style": "IPY_MODEL_9f0b871207464f658dc2408f16efd079",
       "value": false
      }
     },
     "fe0421a1de29474bb6fad8e645412624": {
      "model_module": "@jupyter-widgets/controls",
      "model_module_version": "1.5.0",
      "model_name": "HBoxModel",
      "state": {
       "children": [
        "IPY_MODEL_f303c9fcb49143c6ab2b902c2e31c8eb"
       ],
       "layout": "IPY_MODEL_6614badc12be4cc1b5dcd5e865d11d02"
      }
     },
     "fe2ffc772b8f46b587acd2699c13cb36": {
      "model_module": "@jupyter-widgets/base",
      "model_module_version": "1.2.0",
      "model_name": "LayoutModel",
      "state": {}
     },
     "fe5101e3f8ff4569bf616d50fcabad92": {
      "model_module": "@jupyter-widgets/base",
      "model_module_version": "1.2.0",
      "model_name": "LayoutModel",
      "state": {
       "align_items": "stretch",
       "display": "flex",
       "flex_flow": "row",
       "grid_auto_columns": "True",
       "justify_content": "flex-start",
       "width": "80%"
      }
     },
     "fec369037ca04f54bab90985a0a50ccc": {
      "model_module": "@jupyter-widgets/base",
      "model_module_version": "1.2.0",
      "model_name": "LayoutModel",
      "state": {
       "align_items": "stretch",
       "display": "flex",
       "flex_flow": "row",
       "grid_auto_columns": "True",
       "justify_content": "flex-end",
       "width": "90%"
      }
     },
     "fec7e5204afd4e61ababc1bc3205ca98": {
      "model_module": "@jupyter-widgets/controls",
      "model_module_version": "1.5.0",
      "model_name": "ButtonModel",
      "state": {
       "description": "Cancel",
       "layout": "IPY_MODEL_9db4ffbe31b94dfab3b2c6893e2a243b",
       "style": "IPY_MODEL_f7da62f9dd5641e3a74ec9e15ad0de21"
      }
     },
     "fecb62e60d624fe8839b2ac2f6b0bc35": {
      "model_module": "@jupyter-widgets/controls",
      "model_module_version": "1.5.0",
      "model_name": "RadioButtonsModel",
      "state": {
       "_options_labels": [
        "TEMPLATE: C:\\engDev\\git_mf\\MF_Toolbox\\dev\\mf_scripts\\template_inputs\\inputs-gbxml.json",
        "PROJECT: C:\\engDev\\git_mf\\ipyrun\\ipyrun\\appdata\\inputs\\inputs-gbxml.json"
       ],
       "index": 0,
       "layout": "IPY_MODEL_52024e83c17e4755ade8d3c688b224f5",
       "style": "IPY_MODEL_39eb7d1ea9b74ebba5f5464d7c6e79af"
      }
     },
     "feeadebf24904b4e904363f988193d00": {
      "model_module": "@jupyter-widgets/controls",
      "model_module_version": "1.5.0",
      "model_name": "HBoxModel",
      "state": {
       "children": [
        "IPY_MODEL_10701d7efe6541fc82ffdc0ab5aeb669"
       ],
       "layout": "IPY_MODEL_7650badb9853454091d2db388d6121f8"
      }
     },
     "ff33314231204c23bcd0d32c6544dec1": {
      "model_module": "@jupyter-widgets/base",
      "model_module_version": "1.2.0",
      "model_name": "LayoutModel",
      "state": {}
     },
     "ff93d072263746b5b77c02268b0e0c15": {
      "model_module": "@jupyter-widgets/base",
      "model_module_version": "1.2.0",
      "model_name": "LayoutModel",
      "state": {
       "align_items": "stretch",
       "border": "dashed 0.2px green",
       "display": "flex",
       "flex_flow": "row",
       "grid_auto_columns": "True",
       "justify_content": "flex-start",
       "width": "100%"
      }
     },
     "ff9497a83ca64a369ac079ba3aa3580b": {
      "model_module": "@jupyter-widgets/controls",
      "model_module_version": "1.5.0",
      "model_name": "HBoxModel",
      "state": {
       "children": [
        "IPY_MODEL_9901d86550b143eaa4e9126119702cba"
       ],
       "layout": "IPY_MODEL_dfca0921e5b44f678048bb03dfe279f3"
      }
     },
     "ffa47c6c131f44ffb74590d873ca1208": {
      "model_module": "@jupyter-widgets/base",
      "model_module_version": "1.2.0",
      "model_name": "LayoutModel",
      "state": {}
     },
     "ffa49f6f30f140198194649ee3c12224": {
      "model_module": "@jupyter-widgets/output",
      "model_module_version": "1.0.0",
      "model_name": "OutputModel",
      "state": {
       "layout": "IPY_MODEL_3718761f9412434bb02cb3d1332237e7"
      }
     },
     "ffb2d1fcc36143c496beb958d6964aef": {
      "model_module": "@jupyter-widgets/base",
      "model_module_version": "1.2.0",
      "model_name": "LayoutModel",
      "state": {
       "align_items": "stretch",
       "display": "flex",
       "flex_flow": "row",
       "grid_auto_columns": "True",
       "justify_content": "flex-end",
       "width": "90%"
      }
     },
     "ffb928614a8646f28460bd2a051a30d5": {
      "model_module": "@jupyter-widgets/base",
      "model_module_version": "1.2.0",
      "model_name": "LayoutModel",
      "state": {
       "align_items": "stretch",
       "border": "dashed 0.2px green",
       "display": "flex",
       "flex_flow": "row",
       "grid_auto_columns": "True",
       "justify_content": "flex-start",
       "width": "100%"
      }
     },
     "ffc0025b13664adf96498cd67fbf9218": {
      "model_module": "@jupyter-widgets/controls",
      "model_module_version": "1.5.0",
      "model_name": "HBoxModel",
      "state": {
       "children": [
        "IPY_MODEL_babcc2b5249c40b9abf682e216e08cf2",
        "IPY_MODEL_3d5c45836db04378a0630dbdc7b6b808"
       ],
       "layout": "IPY_MODEL_cfd7635f71e24b0d965e3b25155184b4"
      }
     },
     "ffd9e89fa75a4dd1a45f1e6511a34713": {
      "model_module": "@jupyter-widgets/controls",
      "model_module_version": "1.5.0",
      "model_name": "HTMLModel",
      "state": {
       "layout": "IPY_MODEL_a6d4fc003a124f269444607fce99440f",
       "style": "IPY_MODEL_719c7b1240564b8397bc59c422b9e6d3",
       "value": "<p>name</p>"
      }
     },
     "ffebeed7b67548bca98a28977ab9930c": {
      "model_module": "@jupyter-widgets/base",
      "model_module_version": "1.2.0",
      "model_name": "LayoutModel",
      "state": {
       "align_items": "stretch",
       "display": "flex",
       "flex_flow": "row",
       "grid_auto_columns": "True",
       "justify_content": "flex-end",
       "width": "90%"
      }
     },
     "fff3c8ebed594bd2906c4a70260873a4": {
      "model_module": "@jupyter-widgets/base",
      "model_module_version": "1.2.0",
      "model_name": "LayoutModel",
      "state": {}
     },
     "fffbc83229f94192a8b041a173232964": {
      "model_module": "@jupyter-widgets/controls",
      "model_module_version": "1.5.0",
      "model_name": "HBoxModel",
      "state": {
       "children": [
        "IPY_MODEL_5f04eed77b3c4c808a9b081d551ba3a3"
       ],
       "layout": "IPY_MODEL_dc91232da3014a539cd44445550d65bd"
      }
     }
    },
    "version_major": 2,
    "version_minor": 0
   }
  }
 },
 "nbformat": 4,
 "nbformat_minor": 4
}
