{
 "cells": [
  {
   "cell_type": "code",
   "execution_count": 1,
   "metadata": {},
   "outputs": [],
   "source": [
    "import os\n",
    "import pandas as pd\n",
    "from IPython.display import display, Image, JSON, Markdown, HTML, display_pdf, clear_output\n",
    "from markdown import markdown\n",
    "from datetime import datetime\n",
    "\n",
    "# widget stuff\n",
    "import ipywidgets as widgets\n",
    "import ipysheet\n",
    "from ipysheet import from_dataframe, to_dataframe\n",
    "\n",
    "# core mf_modules\n",
    "from mf_modules.pydtype_operations import read_json, write_json \n",
    "from mf_modules.file_operations import make_dir\n",
    "\n",
    "\n",
    "# from this repo\n",
    "# this is an unpleasant hack. should aim to find a better solution\n",
    "try:\n",
    "    from ipyrun._filecontroller import FileConfigController\n",
    "    from ipyrun._runconfig import RunConfig\n",
    "except:\n",
    "    from _filecontroller import FileConfigController\n",
    "    from _runconfig import RunConfig"
   ]
  },
  {
   "cell_type": "code",
   "execution_count": 13,
   "metadata": {},
   "outputs": [],
   "source": [
    "def _markdown(value='_Markdown_',\n",
    "              **kwargs):\n",
    "    \"\"\"\n",
    "    a simple template for markdown text input that templates required input\n",
    "    fields. additional user defined fields can be added as kwargs\n",
    "    \"\"\"\n",
    "    _kwargs = {}\n",
    "    _kwargs['value'] = markdown(value)  # required field\n",
    "    _kwargs.update(kwargs)  # user overides\n",
    "    return widgets.HTML(**_kwargs)\n",
    "\n",
    "class EditDictData():\n",
    "    \"\"\"\n",
    "    contains form layout specs and mapping dict used for associating input\n",
    "    variables to the appropriate widget. \n",
    "    \"\"\"\n",
    "           \n",
    "    @property\n",
    "    def MF_FORM_ITEM_LAYOUT(self):\n",
    "        return widgets.Layout(\n",
    "            display='flex',\n",
    "            flex_flow='row',\n",
    "            justify_content='flex-start',\n",
    "            #border='solid 1px green',\n",
    "            grid_auto_columns='True',\n",
    "            width='80%',\n",
    "            align_items='stretch',  \n",
    "        )\n",
    "    \n",
    "    @property\n",
    "    def MF_FORM_ITEM_LAYOUT1(self):\n",
    "        return widgets.Layout(\n",
    "            display='flex',\n",
    "            flex_flow='row',\n",
    "            justify_content='flex-end',\n",
    "            #border='solid 1px green',\n",
    "            grid_auto_columns='True',\n",
    "            width='90%',\n",
    "            align_items='stretch',  \n",
    "        )\n",
    "    \n",
    "    @property\n",
    "    def MF_FORM_ITEM_LAYOUT2(self):\n",
    "        return widgets.Layout(\n",
    "            display='flex',\n",
    "            flex_flow='row',\n",
    "            justify_content='flex-start',\n",
    "            border='dashed 0.2px green',\n",
    "            grid_auto_columns='True',\n",
    "            width='100%',\n",
    "            align_items='stretch',  \n",
    "        )\n",
    "    \n",
    "    @property\n",
    "    def map_keys(self):\n",
    "        return ['value', 'options', 'min', 'max']\n",
    "    \n",
    "    @property\n",
    "    def map_widgets(self):\n",
    "        # mapping dict used to guess what widget to apply\n",
    "        return {\n",
    "            'FloatText': {\n",
    "                'value_type': \"<class 'float'>\",\n",
    "                'options_type': \"<class 'NoneType'>\",\n",
    "                'min_type': \"<class 'NoneType'>\",\n",
    "                'max_type': \"<class 'NoneType'>\"\n",
    "            },\n",
    "           'FloatSlider': {\n",
    "                'value_type': \"<class 'float'>\",\n",
    "                'options_type': \"<class 'NoneType'>\",\n",
    "                'min_type': \"<class 'float'>\",\n",
    "                'max_type': \"<class 'float'>\"\n",
    "           },\n",
    "           'Dropdown': {\n",
    "                'value_type': 'any',\n",
    "                'options_type': \"<class 'list'>\",\n",
    "                'min_type': \"<class 'NoneType'>\",\n",
    "                'max_type': \"<class 'NoneType'>\"\n",
    "           },\n",
    "           'SelectMultiple': {\n",
    "                'value_type': \"<class 'list'>\",\n",
    "                'options_type': \"<class 'list'>\",\n",
    "                'min_type': \"<class 'NoneType'>\",\n",
    "                'max_type': \"<class 'NoneType'>\"\n",
    "           },\n",
    "           'Checkbox': {\n",
    "                'value_type': \"<class 'bool'>\",\n",
    "                'options_type': \"<class 'NoneType'>\",\n",
    "                'min_type': \"<class 'NoneType'>\",\n",
    "                'max_type': \"<class 'NoneType'>\"\n",
    "           },\n",
    "           'Text': {\n",
    "                'value_type': \"<class 'str'>\",\n",
    "                'options_type': \"<class 'NoneType'>\",\n",
    "                'min_type': \"<class 'NoneType'>\",\n",
    "                'max_type': \"<class 'NoneType'>\"\n",
    "           },\n",
    "           '_recursive_guess': {\n",
    "                'value_type': \"<class 'list'>\",\n",
    "                'options_type': \"<class 'NoneType'>\",\n",
    "                'min_type': \"<class 'NoneType'>\",\n",
    "                'max_type': \"<class 'NoneType'>\"\n",
    "           }\n",
    "        }\n",
    "    \n",
    "    @property\n",
    "    def widget_lkup(self):\n",
    "        return {\n",
    "                'FloatText':widgets.FloatText,\n",
    "                'FloatSlider':widgets.FloatSlider,\n",
    "                'Dropdown':widgets.Dropdown,\n",
    "                'SelectMultiple':widgets.SelectMultiple,\n",
    "                'Checkbox':widgets.Checkbox,\n",
    "                'Text':widgets.Text,\n",
    "                'Textarea':widgets.Textarea,\n",
    "                '_recursive_guess':self._recursive_guess,\n",
    "                'ipysheet':self._ipysheet\n",
    "            }\n",
    "\n",
    "    \n",
    "class EditDict(EditDictData):\n",
    "    '''\n",
    "    a class that is passed a dict and then guesses the most appropriate \n",
    "    widget from the values in the dict.\n",
    "    - if a nested list of dicts is passed:\n",
    "        => it will create an embedded, clickable show/hide nested input form\n",
    "    - if a json dataframe object is passed as the \"value\" and and the key:value\n",
    "      \"widget\":\"ipysheet\" is passed in the same dict:\n",
    "        => it will create an editable ipysheet dataframe widget\n",
    "    '''\n",
    "    def __init__(self, di):\n",
    "        self.out = widgets.Output()\n",
    "        self.di = di\n",
    "        self.form()\n",
    " \n",
    "    def form(self):\n",
    "        self.di = self._update_di()\n",
    "        if 'widget' not in self.di.keys():\n",
    "            self.di_types = self._get_var_types()\n",
    "            self.widget_name, self.report = self.map_widget()           \n",
    "        else:\n",
    "            self.widget_name = self.di['widget']\n",
    "        self.kwargs = self._kwargfilt()\n",
    "        self.layout = self._build_widget()\n",
    "        if self.widget_name != 'ipysheet' and self.widget_name != '_recursive_guess':\n",
    "            self._init_controls()\n",
    "          \n",
    "    def _init_controls(self):   \n",
    "        self.widget_only.observe(self._update_change, 'value') \n",
    "\n",
    "    def _update_change(self, change):\n",
    "        self.di['value'] = self.widget_only.value\n",
    "\n",
    "    def _build_widget(self):\n",
    "        \n",
    "        if self.widget_name == '_recursive_guess':\n",
    "            self._recursive_guess()\n",
    "        elif self.widget_name == 'ipysheet':\n",
    "            self._ipysheet()\n",
    "        else:\n",
    "            self.widget_only = self.widget_lkup[self.widget_name](**self.kwargs)\n",
    "        self.widget_simple = widgets.HBox([self.widget_only,_markdown(self.di['label'])],layout=self.MF_FORM_ITEM_LAYOUT)\n",
    "        self.widget_row = widgets.HBox([_markdown(self.di['name']),self.widget_simple],layout=self.MF_FORM_ITEM_LAYOUT1)\n",
    "        if 'fpth_help' in self.di.keys():\n",
    "            self.guide = widgets.ToggleButton(icon='fa-question-circle',\n",
    "                                              description='help',\n",
    "                                              tooltip='gives guidance',\n",
    "                                              style={'font_weight':'bold'},\n",
    "                                              layout=widgets.Layout(width='5%'))\n",
    "            self.guide.observe(self._guide, 'value')\n",
    "            layout = widgets.HBox([self.widget_row ,self.guide],layout=self.MF_FORM_ITEM_LAYOUT2)\n",
    "        else:\n",
    "            layout = widgets.HBox([self.widget_row ],layout=self.MF_FORM_ITEM_LAYOUT2)\n",
    "        return layout\n",
    "    \n",
    "    def _guide(self, sender):\n",
    "        with self.out:\n",
    "            if self.guide.value:  \n",
    "                display(Image(os.path.join(os.environ['mf_root'],r'engDevSetup\\dev\\icons\\icon_png\\help-icon.png')));\n",
    "            else:\n",
    "                clear_output()\n",
    "                \n",
    "    def _kwargfilt(self):\n",
    "        return {k:v for (k,v) in self.di.items() if k != 'widget' and k != 'name' and k != 'label' and k != 'fpth_help' and v is not None}\n",
    "        \n",
    "    def _update_di(self):\n",
    "\n",
    "        def add_to_dict(di, keyname='None', valuename=None):\n",
    "            if keyname not in di.keys():\n",
    "                di[keyname]=valuename\n",
    "            return di\n",
    "        tmp = self.di\n",
    "        tmp = add_to_dict(tmp,keyname='min')\n",
    "        tmp = add_to_dict(tmp,keyname='max')\n",
    "        tmp = add_to_dict(tmp,keyname='options')\n",
    "        tmp = add_to_dict(tmp,keyname='name', valuename='name')\n",
    "        tmp = add_to_dict(tmp,keyname='label', valuename='label')\n",
    "        return tmp\n",
    "        \n",
    "    def _get_var_types(self):\n",
    "\n",
    "        def int_type_to_float(di):\n",
    "            di_ = {}\n",
    "            for key, val in di.items():\n",
    "                if val == \"<class 'int'>\":\n",
    "                    di_[key] = \"<class 'float'>\"\n",
    "                else:\n",
    "                    di_[key] = val\n",
    "            return di_\n",
    "        di = self.di\n",
    "        keys = self.map_keys\n",
    "        di_filt = { key: di[key] for key in keys }\n",
    "        di_types = {key+'_type': str(type(di_filt[key])) for key in keys}\n",
    "        di_types= int_type_to_float(di_types)\n",
    "        return di_types\n",
    "    \n",
    "    def map_widget(self):\n",
    "        \"\"\"\n",
    "        uses the types of the different inputs to map an input \n",
    "        to the appropriate widget\n",
    "\n",
    "        Reference:\n",
    "            |                 | value_type      | options_type       | min_type           | max_type           |\n",
    "            |:----------------|:----------------|:-------------------|:-------------------|:-------------------|\n",
    "            | FloatText       | <class 'float'> | <class 'NoneType'> | <class 'NoneType'> | <class 'NoneType'> |\n",
    "            | FloatSlider     | <class 'float'> | <class 'NoneType'> | <class 'float'>    | <class 'float'>    |\n",
    "            | Dropdown        | <class 'float'> | <class 'list'>     | <class 'NoneType'> | <class 'NoneType'> |\n",
    "            | SelectMultiple  | <class 'list'>  | <class 'list'>     | <class 'NoneType'> | <class 'NoneType'> |\n",
    "            | Checkbox        | <class 'bool'>  | <class 'NoneType'> | <class 'NoneType'> | <class 'NoneType'> |\n",
    "            | Text            | <class 'str'>   | <class 'NoneType'> | <class 'NoneType'> | <class 'NoneType'> |\n",
    "            | _recursive_guess| <class 'list'>  | <class 'NoneType'> | <class 'NoneType'> | <class 'NoneType'> |\n",
    "        \"\"\"\n",
    "        di_types = self.di_types\n",
    "        map_widgets = self.map_widgets\n",
    "        m = 0\n",
    "        for k, v in map_widgets.items():\n",
    "            # this settles ambiguity for value type from Dropdown (which could be anything)\n",
    "            #if k == widgets.Dropdown and di_types['value_type'] != \"<class 'list'>\":\n",
    "            if k == 'Dropdown' and di_types['value_type'] != \"<class 'list'>\":\n",
    "                v['value_type'] = di_types['value_type']\n",
    "            if v == di_types:\n",
    "                m=+1\n",
    "                widget_name = k\n",
    "        if m < 1:\n",
    "            report = 'no matching widget found... check inputs...'\n",
    "            print(di_types)\n",
    "            print(report)\n",
    "            widget_name = 'Text'\n",
    "        elif m == 1:\n",
    "            report = 'perfect match!'\n",
    "        else:\n",
    "            report = 'multiple matches found... check code...'\n",
    "            print(di_types)\n",
    "            print(report)\n",
    "        return widget_name, report\n",
    "    \n",
    "    # -------------------------------------------------------------------------     \n",
    "    # code that allows for embedded list of dicts -----------------------------\n",
    "    def _recursive_guess(self):\n",
    "        self.kwargs = {k:v for (k,v) in self.kwargs.items() if k != 'value'}\n",
    "        self.kwargs['icon'] = 'arrow-down'\n",
    "        self.widget_only = widgets.ToggleButton(**self.kwargs)\n",
    "        self._recursive_controls()\n",
    "        \n",
    "    def _recursive_controls(self):\n",
    "        self.widget_only.observe(self._call_GuessWidget, 'value')\n",
    "\n",
    "    def _call_GuessWidget(self, sender):\n",
    "        self.nested_g = EditListOfDicts(self.di['value'])\n",
    "        self.di['value'] = self.nested_g.li\n",
    "        with self.out:\n",
    "            if self.widget_only.value:  \n",
    "                display(self.nested_g)\n",
    "            else:\n",
    "                clear_output()\n",
    "    # --------------------------------------------------------------------------\n",
    "    # code that allows for embedded ipysheets ----------------------------------\n",
    "    def _ipysheet(self):\n",
    "        self.kwargs = {k:v for (k,v) in self.kwargs.items() if k != 'value'}\n",
    "        self.kwargs['icon'] = 'arrow-down'\n",
    "        self.widget_only = widgets.ToggleButton(**self.kwargs)\n",
    "        self.save_ipysheet = widgets.Button(description='save')\n",
    "        self._ipysheet_controls()\n",
    "        \n",
    "    def _ipysheet_controls(self):\n",
    "        self.widget_only.observe(self.call_ipysheet, 'value')\n",
    "        self.save_ipysheet.on_click(self._save_ipysheet)\n",
    "        \n",
    "    def call_ipysheet(self, sender):\n",
    "        tmp = pd.read_json(self.di['value'])\n",
    "        self.sheet = ipysheet.sheet(ipysheet.from_dataframe(tmp)) # initiate sheet\n",
    "        with self.out:\n",
    "            if self.widget_only.value:  \n",
    "                display(self.save_ipysheet)\n",
    "                display(self.sheet)\n",
    "            else:\n",
    "                clear_output()\n",
    "    \n",
    "    def _save_ipysheet(self, change):\n",
    "        tmp = to_dataframe(self.sheet)\n",
    "        self.di['value'] = tmp.to_json()\n",
    "        with self.out:\n",
    "            clear_output()\n",
    "            dateTimeObj = datetime.now()\n",
    "            timestampStr = dateTimeObj.strftime(\"%d-%b-%Y %H:%M:%S:\")\n",
    "            display(Markdown('{0} changes to sheet saved. hit save in main dialog to save to file'.format(timestampStr)))\n",
    "        self.display()\n",
    "    # --------------------------------------------------------------------------\n",
    "\n",
    "    def display(self):\n",
    "        display(self.layout)\n",
    "        display(self.out)\n",
    "         \n",
    "    def _ipython_display_(self):\n",
    "        self.display()    "
   ]
  },
  {
   "cell_type": "code",
   "execution_count": 14,
   "metadata": {},
   "outputs": [],
   "source": [
    "class EditListOfDicts():\n",
    "    \"\"\"\n",
    "    builds user input form from a list of dicts by creating a \n",
    "    loop of EditDict objects.\n",
    "    \"\"\"\n",
    "    def __init__(self, li):\n",
    "        \"\"\"\n",
    "        class that builds a user interface based on a list of dicts, where each dict is \n",
    "        a ipywidget user interface object. The class inteprets which widget to select based on the \n",
    "        type of the value and the keys that are passed. The keys are passed to the ipywidget \n",
    "        object as **kwargs.\n",
    "\n",
    "        Args:\n",
    "            li (list): list of dicts. each dict must contain 'name', 'value' and 'label' as the \n",
    "                minimum set of keys for making a ipywidget. additional keys that are passed \n",
    "                get become **kwargs that are passed to the selected ipywidget\n",
    "                \n",
    "        Example:\n",
    "            ```\n",
    "            li = [\n",
    "                    {\n",
    "                        'name':'water_volume_m3',\n",
    "                        'value':15,\n",
    "                        'label':'total volume of water within the closed mechanical system'\n",
    "                    },\n",
    "                    {\n",
    "                        'name':'height_difference_m',\n",
    "                        'value':48,\n",
    "                        'label':'difference in height between the highest and lowest points in the system'\n",
    "                    },\n",
    "                    {\n",
    "                        'name':'eV_acceptance_fraction',\n",
    "                        'value':0.3,\n",
    "                        'min':0,\n",
    "                        'max':1,\n",
    "                        'label':'Expansion vessel acceptance factor (= additional volume / expansion vessel volume):'\n",
    "                    }\n",
    "                ]\n",
    "            ```\n",
    "            \n",
    "            >>> from ipyrun._ipyeditjson import EditListOfDicts\n",
    "            >>> ui = EditListOfDicts(li)\n",
    "            >>> ui\n",
    "            see example image above\n",
    "        Images:\n",
    "            %mf_root%\\ipyrun\\docs\\images\\eg_ui.PNG\n",
    "        \"\"\"\n",
    "        \n",
    "        self.out = widgets.Output()\n",
    "        self.li = li\n",
    "        self.form()\n",
    "        self._init_observe()\n",
    "    \n",
    "    def form(self):\n",
    "        self.widgets = []\n",
    "        for l in self.li:\n",
    "            self.widgets.append(EditDict(l))\n",
    "        self.applayout = widgets.VBox([l.layout for l in self.widgets])\n",
    "        \n",
    "        \n",
    "    def _init_observe(self):  \n",
    "        for l in self.widgets:\n",
    "            l.widget_only.observe(self._update_change, 'value') \n",
    "            \n",
    "    def _update_change(self, change):\n",
    "        self.li = []\n",
    "        for l in self.widgets:\n",
    "            self.li.append(l.di)\n",
    "        \n",
    "    def display(self):\n",
    "        out = [l.layout for l in self.widgets]\n",
    "        self.applayout = widgets.VBox(out)\n",
    "        display(self.applayout)\n",
    "        for l in self.widgets:\n",
    "            display(l.out)\n",
    "            \n",
    "    def _ipython_display_(self):\n",
    "        self.display()  "
   ]
  },
  {
   "cell_type": "code",
   "execution_count": 15,
   "metadata": {},
   "outputs": [],
   "source": [
    "class SimpleEditJson(EditListOfDicts):\n",
    "    \"\"\"\n",
    "    inherits EditListOfDicts user input form and manages the reading and \n",
    "    writing the data from a JSON file. \n",
    "    \"\"\"\n",
    "    #def __init__(self, fpth, fdir='.', local_fol='_mfengdev'):\n",
    "    def __init__(self, fpth_in, fpth_out=None):\n",
    "        self.out = widgets.Output()\n",
    "        self.fpth_in = fpth_in\n",
    "        if fpth_out==None:\n",
    "            self.fpth_out = fpth_in\n",
    "        else:\n",
    "            self.fpth_out = fpth_out\n",
    "        #self.fdir = fdir\n",
    "        #self.local_fol = local_fol\n",
    "        #self.fpth_out = self._fpth_out()\n",
    "        self.li = read_json(self.fpth_in)\n",
    "        self.save_changes = widgets.Button(description='save',button_style='success')\n",
    "        self.form()\n",
    "        self._init_observe()\n",
    "        self._init_controls()\n",
    "        \n",
    "    #def _fpth_out(self):\n",
    "    #    fol = os.path.join(self.fdir, self.local_fol)\n",
    "    #    make_dir(fol)\n",
    "    #    return os.path.join(fol,os.path.basename(self.fpth_in))\n",
    "    \n",
    "    def _init_controls(self):  \n",
    "        self.save_changes.on_click(self._save_changes)\n",
    "        \n",
    "    def _save_changes(self, sender):\n",
    "        self.data_out = self.li\n",
    "        #try:\n",
    "            \n",
    "        write_json(self.data_out,\n",
    "                   sort_keys=True,\n",
    "                   indent=4,\n",
    "                   fpth=self.fpth_out,\n",
    "                   print_fpth=False,\n",
    "                   openFile=False)\n",
    "        with self.out:\n",
    "            clear_output()\n",
    "            dateTimeObj = datetime.now()\n",
    "            timestampStr = dateTimeObj.strftime(\"%d-%b-%Y %H:%M:%S:\")\n",
    "            display(Markdown('{0} changes to sheet logged.  to: {1}'.format(timestampStr,self.fpth_out)))\n",
    "            \n",
    "    def display(self):\n",
    "        display(self.save_changes)\n",
    "        out = [l.layout for l in self.widgets]\n",
    "        self.applayout = widgets.VBox(out)\n",
    "        display(self.applayout)\n",
    "        for l in self.widgets:\n",
    "            display(l.out)\n",
    "        display(self.out)\n",
    "            \n",
    "    def _ipython_display_(self):\n",
    "        self.display()  "
   ]
  },
  {
   "cell_type": "code",
   "execution_count": 16,
   "metadata": {},
   "outputs": [],
   "source": [
    "class EditJson(EditListOfDicts, FileConfigController):\n",
    "    \"\"\"\n",
    "    inherits EditListOfDicts user input form as well FileConfigController \n",
    "    and manages the reading and writing the data from a JSON file. \n",
    "    \"\"\"\n",
    "    #def __init__(self, fpth, fdir='.', local_fol='_mfengdev'):\n",
    "    def __init__(self, config):\n",
    "        self.out = widgets.Output()\n",
    "        self._errors()\n",
    "        self.config = config\n",
    "        self.user_keys = list(config.keys())\n",
    "        self._update_config()\n",
    "        self.li = read_json(self.fpth_inputs)\n",
    "        self.file_control_form()\n",
    "        self._init_file_controller()\n",
    "        self.form()\n",
    "        self._init_observe()\n",
    "        \n",
    "                        \n",
    "    def _revert(self, sender):\n",
    "        \"\"\"revert to last save of working inputs file\"\"\"\n",
    "        fpth = self.fpth_inputs\n",
    "        self.temp_message.value = markdown('revert to inputs in last save of: {0}'.format(fpth))\n",
    "        \n",
    "        # ADD CODE HERE TO REVERT TO LAST SAVE\n",
    "        \n",
    "        self.li = read_json(self.fpth_inputs)\n",
    "        self._update_from_file()\n",
    "        self.update_display()\n",
    "        self.display()\n",
    "\n",
    "        \n",
    "    def _update_from_file(self):\n",
    "        for idx, val in enumerate(self.li):\n",
    "            self.widgets[idx].widget_only.value = val['value']\n",
    "            \n",
    "    def _save_changes(self, sender):\n",
    "        \"\"\"save changes to working inputs file\"\"\"\n",
    "        fpth = self.fpth_inputs\n",
    "        dateTimeObj = datetime.now()\n",
    "        self.save_timestampStr = dateTimeObj.strftime(\"%d-%b-%Y %H:%M:%S\")\n",
    "        self.temp_message.value = markdown('{0} saved at: {1}'.format(fpth, self.save_timestampStr))\n",
    "        \n",
    "        self.data_out = self.li \n",
    "        # add code here to save changes to file\n",
    "        write_json(self.data_out,\n",
    "                   sort_keys=True,\n",
    "                   indent=4,\n",
    "                   fpth=fpth,\n",
    "                   print_fpth=False,\n",
    "                   openFile=False)\n",
    "        \n",
    "        self.update_display()\n",
    "        self.display()\n",
    "        \n",
    "    def _load_inputs(self,sender):\n",
    "        \"\"\"launches the inputs from file dialog\"\"\"\n",
    "        self.temp_message.value = markdown('update the user input form with data from file')\n",
    "        if self.load_inputs.value:\n",
    "            self.inputform.children = [self.load_button, self.choose_inputs]\n",
    "        else:\n",
    "            self.temp_message.value = markdown('')\n",
    "            self.inputform.children = []\n",
    "        self.update_display()\n",
    "        self.display()\n",
    "\n",
    "    def _load(self,sender):\n",
    "\n",
    "        fpth = self.choose_inputs.value\n",
    "        # add code here to load form from file\n",
    "        self.li = read_json(fpth)\n",
    "        self._update_from_file()\n",
    "        self.temp_message.value = markdown('input form load data from: {0}'.format(fpth))\n",
    "        self.update_display()\n",
    "        self.display()\n",
    "        \n",
    "    def update_display(self):\n",
    "        box = widgets.VBox([\n",
    "            self.button_bar,\n",
    "            self.temp_message,\n",
    "            self.inputform,\n",
    "        ])\n",
    "        self.layout = box\n",
    "            \n",
    "    def display(self):\n",
    "        self.update_display()\n",
    "        display(self.layout)\n",
    "        #out = [l.layout for l in self.widgets]\n",
    "        #self.applayout = widgets.VBox(out)\n",
    "        display(self.applayout)\n",
    "        #for l in self.widgets:\n",
    "        #    display(l.out)\n",
    "        display(self.out)\n",
    "            \n",
    "    def _ipython_display_(self):\n",
    "        self.display()  "
   ]
  },
  {
   "cell_type": "code",
   "execution_count": 17,
   "metadata": {},
   "outputs": [
    {
     "data": {
      "application/vnd.jupyter.widget-view+json": {
       "model_id": "6943f1bfdee747ae83eabdb074f4a4fb",
       "version_major": 2,
       "version_minor": 0
      },
      "text/plain": [
       "Button(button_style='success', description='save', style=ButtonStyle())"
      ]
     },
     "metadata": {},
     "output_type": "display_data"
    },
    {
     "data": {
      "application/vnd.jupyter.widget-view+json": {
       "model_id": "c314e4739e4f418db01b7f52778ff17b",
       "version_major": 2,
       "version_minor": 0
      },
      "text/plain": [
       "VBox(children=(HBox(children=(HBox(children=(HTML(value='<p>reous foo ous foo st</p>'), HBox(children=(FloatTe…"
      ]
     },
     "metadata": {},
     "output_type": "display_data"
    },
    {
     "data": {
      "application/vnd.jupyter.widget-view+json": {
       "model_id": "9bcd061ca8614927b72715e3dc19d4e5",
       "version_major": 2,
       "version_minor": 0
      },
      "text/plain": [
       "Output()"
      ]
     },
     "metadata": {},
     "output_type": "display_data"
    },
    {
     "data": {
      "application/vnd.jupyter.widget-view+json": {
       "model_id": "f706ce2f21aa4b22963408729669f0eb",
       "version_major": 2,
       "version_minor": 0
      },
      "text/plain": [
       "Output()"
      ]
     },
     "metadata": {},
     "output_type": "display_data"
    },
    {
     "data": {
      "application/vnd.jupyter.widget-view+json": {
       "model_id": "d7d15991584c4ab3a9933a3821c4b3e9",
       "version_major": 2,
       "version_minor": 0
      },
      "text/plain": [
       "Output()"
      ]
     },
     "metadata": {},
     "output_type": "display_data"
    },
    {
     "data": {
      "application/vnd.jupyter.widget-view+json": {
       "model_id": "b83f1d36296d4d4bb5c1a5d0af65630e",
       "version_major": 2,
       "version_minor": 0
      },
      "text/plain": [
       "Output()"
      ]
     },
     "metadata": {},
     "output_type": "display_data"
    },
    {
     "data": {
      "application/vnd.jupyter.widget-view+json": {
       "model_id": "4f119bb202a64dc38f9b053e2ecdb935",
       "version_major": 2,
       "version_minor": 0
      },
      "text/plain": [
       "Output()"
      ]
     },
     "metadata": {},
     "output_type": "display_data"
    },
    {
     "data": {
      "application/vnd.jupyter.widget-view+json": {
       "model_id": "66d49b4f63fb4555b227c8680ac75d90",
       "version_major": 2,
       "version_minor": 0
      },
      "text/plain": [
       "Output()"
      ]
     },
     "metadata": {},
     "output_type": "display_data"
    },
    {
     "data": {
      "application/vnd.jupyter.widget-view+json": {
       "model_id": "e44daaf3d8b8425a8373a52b7be58061",
       "version_major": 2,
       "version_minor": 0
      },
      "text/plain": [
       "Output()"
      ]
     },
     "metadata": {},
     "output_type": "display_data"
    },
    {
     "data": {
      "application/vnd.jupyter.widget-view+json": {
       "model_id": "06c0abe521564fe49a952f95d6c97cbb",
       "version_major": 2,
       "version_minor": 0
      },
      "text/plain": [
       "Output()"
      ]
     },
     "metadata": {},
     "output_type": "display_data"
    },
    {
     "data": {
      "application/vnd.jupyter.widget-view+json": {
       "model_id": "85a232b1bc8344199e736113e72dca14",
       "version_major": 2,
       "version_minor": 0
      },
      "text/plain": [
       "Output()"
      ]
     },
     "metadata": {},
     "output_type": "display_data"
    },
    {
     "data": {
      "application/vnd.jupyter.widget-view+json": {
       "model_id": "3a64d7a9c9b44802a89dc60538a0795f",
       "version_major": 2,
       "version_minor": 0
      },
      "text/plain": [
       "VBox(children=(HBox(children=(ToggleButton(value=False, button_style='info', description='inputs from file'), …"
      ]
     },
     "metadata": {},
     "output_type": "display_data"
    },
    {
     "data": {
      "application/vnd.jupyter.widget-view+json": {
       "model_id": "d3cc99e3bb434e7b892332aa96ec9f40",
       "version_major": 2,
       "version_minor": 0
      },
      "text/plain": [
       "VBox(children=(HBox(children=(HBox(children=(HTML(value='<p>fpth_in</p>'), HBox(children=(Text(value='2'), HTM…"
      ]
     },
     "metadata": {},
     "output_type": "display_data"
    },
    {
     "data": {
      "application/vnd.jupyter.widget-view+json": {
       "model_id": "d8475d9759b143189a1fbfd90cb5a0ac",
       "version_major": 2,
       "version_minor": 0
      },
      "text/plain": [
       "Output()"
      ]
     },
     "metadata": {},
     "output_type": "display_data"
    }
   ],
   "source": [
    "if __name__ =='__main__':\n",
    "    \n",
    "    # FORM ONLY EXAMPLE\n",
    "    # FDIR = os.path.dirname(os.path.realpath('__file__'))\n",
    "    # fpth = os.path.join(FDIR,r'_mfengdev/test.json')\n",
    "    # li = read_json(fpth)\n",
    "    # g = EditListOfDicts(li)\n",
    "    # display(g)\n",
    "    \n",
    "    # EDIT JSON FILE SIMPLE EXAMPLE\n",
    "    FDIR = os.path.dirname(os.path.realpath('__file__'))\n",
    "    fpth = os.path.join(FDIR,r'appdata/inputs/test.json')\n",
    "    simpleeditjson = SimpleEditJson(fpth)\n",
    "    display(simpleeditjson)\n",
    "    \n",
    "    # EDIT JSON FILE with custom config and file management\n",
    "    config={\n",
    "        'fpth_script':os.path.join(os.environ['mf_root'],r'MF_Toolbox\\dev\\mf_scripts\\docx_to_pdf.py'),\n",
    "        'fdir':'.',\n",
    "        'script_outputs': {'0': {\n",
    "            'fdir':'..\\reports',\n",
    "            'fnm': r'JupyterReportDemo.pdf',\n",
    "            'description': \"a pdf report from word\"\n",
    "                }\n",
    "            }\n",
    "        }\n",
    "    #from pprint import pprint\n",
    "    #rc = RunConfig(config)\n",
    "    #pprint(rc.config)\n",
    "    editjson = EditJson(config)\n",
    "    display(editjson)"
   ]
  },
  {
   "cell_type": "code",
   "execution_count": null,
   "metadata": {},
   "outputs": [],
   "source": []
  }
 ],
 "metadata": {
  "jupytext": {
   "formats": "ipynb,py:light"
  },
  "kernelspec": {
   "display_name": "Python [conda env:mf_main] *",
   "language": "python",
   "name": "conda-env-mf_main-py"
  },
  "language_info": {
   "codemirror_mode": {
    "name": "ipython",
    "version": 3
   },
   "file_extension": ".py",
   "mimetype": "text/x-python",
   "name": "python",
   "nbconvert_exporter": "python",
   "pygments_lexer": "ipython3",
   "version": "3.7.7"
  },
  "widgets": {
   "application/vnd.jupyter.widget-state+json": {
    "state": {
     "0073a97de735481698d100cf7bccb6cc": {
      "model_module": "@jupyter-widgets/controls",
      "model_module_version": "1.5.0",
      "model_name": "SliderStyleModel",
      "state": {
       "description_width": ""
      }
     },
     "00839519aa244229b13930a9b8542eb0": {
      "model_module": "@jupyter-widgets/base",
      "model_module_version": "1.2.0",
      "model_name": "LayoutModel",
      "state": {
       "align_items": "stretch",
       "display": "flex",
       "flex_flow": "row",
       "grid_auto_columns": "True",
       "justify_content": "flex-start",
       "width": "80%"
      }
     },
     "00cd9fa7dfcc42f8978b7202acb4b7d2": {
      "model_module": "@jupyter-widgets/controls",
      "model_module_version": "1.5.0",
      "model_name": "HBoxModel",
      "state": {
       "children": [
        "IPY_MODEL_87f745f821b44aa386fd12fe93c1106b",
        "IPY_MODEL_ef857964e6bf4d518664842e53b0848b"
       ],
       "layout": "IPY_MODEL_b9a0caa391644af997374bd76dd30aff"
      }
     },
     "0146c18e26ca4e02a76ce81b9c755954": {
      "model_module": "@jupyter-widgets/controls",
      "model_module_version": "1.5.0",
      "model_name": "ToggleButtonModel",
      "state": {
       "layout": "IPY_MODEL_2bc8d6b280de48d99535f54494c12020",
       "style": "IPY_MODEL_3a2a3a7dbb724a51bc054969b7b44bea"
      }
     },
     "0168321536d6481098d009aabe31b1f5": {
      "model_module": "@jupyter-widgets/base",
      "model_module_version": "1.2.0",
      "model_name": "LayoutModel",
      "state": {}
     },
     "01d259d4fa654c4fbd35977aaaaea394": {
      "model_module": "@jupyter-widgets/controls",
      "model_module_version": "1.5.0",
      "model_name": "DescriptionStyleModel",
      "state": {
       "description_width": ""
      }
     },
     "01eb26e33e0449e2a1d686fd66192c20": {
      "model_module": "@jupyter-widgets/controls",
      "model_module_version": "1.5.0",
      "model_name": "HBoxModel",
      "state": {
       "children": [
        "IPY_MODEL_ad86cb5ac03848c2bf46fd964d5f57eb",
        "IPY_MODEL_2e1dcd24e2ad40629cb669d173641131"
       ],
       "layout": "IPY_MODEL_c697069aa7d84ad8b6ca4e4ec516ca94"
      }
     },
     "0234d893bf9449ae9b05134d500082f7": {
      "model_module": "@jupyter-widgets/base",
      "model_module_version": "1.2.0",
      "model_name": "LayoutModel",
      "state": {
       "align_items": "stretch",
       "display": "flex",
       "flex_flow": "row",
       "grid_auto_columns": "True",
       "justify_content": "flex-start",
       "width": "80%"
      }
     },
     "028a8a8911fc4815b2e4e22675496793": {
      "model_module": "@jupyter-widgets/base",
      "model_module_version": "1.2.0",
      "model_name": "LayoutModel",
      "state": {
       "align_items": "stretch",
       "display": "flex",
       "flex_flow": "row",
       "grid_auto_columns": "True",
       "justify_content": "flex-start",
       "width": "80%"
      }
     },
     "02b70d5feb2749b0b8bf3fcdfe876a49": {
      "model_module": "@jupyter-widgets/base",
      "model_module_version": "1.2.0",
      "model_name": "LayoutModel",
      "state": {}
     },
     "02bb651431de42f98b737f1afa9c595e": {
      "model_module": "@jupyter-widgets/controls",
      "model_module_version": "1.5.0",
      "model_name": "DescriptionStyleModel",
      "state": {
       "description_width": ""
      }
     },
     "039179c35a7b423baa162af858c463f0": {
      "model_module": "@jupyter-widgets/output",
      "model_module_version": "1.0.0",
      "model_name": "OutputModel",
      "state": {
       "layout": "IPY_MODEL_89812393f0fd47d482248993dd4083eb"
      }
     },
     "03e0fd204f0943869564b16efd16bb6d": {
      "model_module": "@jupyter-widgets/base",
      "model_module_version": "1.2.0",
      "model_name": "LayoutModel",
      "state": {}
     },
     "0407b870e4204d4ba2fe5b112ad9864c": {
      "model_module": "@jupyter-widgets/controls",
      "model_module_version": "1.5.0",
      "model_name": "HTMLModel",
      "state": {
       "layout": "IPY_MODEL_0c2f87c4ac134e849e565ee371617f63",
       "style": "IPY_MODEL_53034f905a7e419fbc7aefe1b9a2211f",
       "value": "<p>its a foo cake</p>"
      }
     },
     "0413b83dd7be4a5f8aa16990cb013561": {
      "model_module": "@jupyter-widgets/controls",
      "model_module_version": "1.5.0",
      "model_name": "FloatSliderModel",
      "state": {
       "layout": "IPY_MODEL_160b419159984b278dec96764fd7d3dd",
       "max": 10,
       "style": "IPY_MODEL_4871edc8ed1142a0882678714704a23d",
       "value": 10
      }
     },
     "04150175e2224c6481900acc730c3a95": {
      "model_module": "@jupyter-widgets/controls",
      "model_module_version": "1.5.0",
      "model_name": "ButtonModel",
      "state": {
       "description": "save",
       "layout": "IPY_MODEL_0e89c1dedc894e57b5bcf8e5a1c037f8",
       "style": "IPY_MODEL_9e90bd6916f04c54b0b84155810aa9aa"
      }
     },
     "04bd99eb498040278c8ea36935e89236": {
      "model_module": "@jupyter-widgets/output",
      "model_module_version": "1.0.0",
      "model_name": "OutputModel",
      "state": {
       "layout": "IPY_MODEL_5c5e3da91a42485b9829b8371f421f7b"
      }
     },
     "057f183b15674f0ab989da739d09040f": {
      "model_module": "@jupyter-widgets/base",
      "model_module_version": "1.2.0",
      "model_name": "LayoutModel",
      "state": {
       "display": "flex",
       "flex_flow": "row",
       "grid_auto_columns": "False",
       "justify_content": "flex-start",
       "width": "100%"
      }
     },
     "05a0435e601f4b4297936e8f8ca87ff4": {
      "model_module": "@jupyter-widgets/base",
      "model_module_version": "1.2.0",
      "model_name": "LayoutModel",
      "state": {
       "align_items": "stretch",
       "border": "dashed 0.2px green",
       "display": "flex",
       "flex_flow": "row",
       "grid_auto_columns": "True",
       "justify_content": "flex-start",
       "width": "100%"
      }
     },
     "05a3bec137c34945b2dfa07939ba7779": {
      "model_module": "@jupyter-widgets/base",
      "model_module_version": "1.2.0",
      "model_name": "LayoutModel",
      "state": {}
     },
     "05c22188571c4f54892a73ca92854501": {
      "model_module": "@jupyter-widgets/controls",
      "model_module_version": "1.5.0",
      "model_name": "HBoxModel",
      "state": {
       "children": [
        "IPY_MODEL_23c8c222d93b47839af5f66e009bb4de"
       ],
       "layout": "IPY_MODEL_b1b8c7a6dc2347e796511f52c7db8b21"
      }
     },
     "05d2669a19584edc84000691a3f2926f": {
      "model_module": "@jupyter-widgets/base",
      "model_module_version": "1.2.0",
      "model_name": "LayoutModel",
      "state": {
       "align_items": "stretch",
       "display": "flex",
       "flex_flow": "row",
       "grid_auto_columns": "True",
       "justify_content": "flex-start",
       "width": "80%"
      }
     },
     "0692f88e52ab4629bb635ec5f0daffdd": {
      "model_module": "@jupyter-widgets/controls",
      "model_module_version": "1.5.0",
      "model_name": "ButtonStyleModel",
      "state": {}
     },
     "0694d180453d4edba1a192726d9b7387": {
      "model_module": "@jupyter-widgets/controls",
      "model_module_version": "1.5.0",
      "model_name": "HBoxModel",
      "state": {
       "children": [
        "IPY_MODEL_5be94f85ec1a4e45bb3e32256e7c9ac4",
        "IPY_MODEL_b8fb8b26106347d0b7ee3fbb46d1f7ac"
       ],
       "layout": "IPY_MODEL_80ec5a7a4524400986a3b8d41cac48a0"
      }
     },
     "06c0abe521564fe49a952f95d6c97cbb": {
      "model_module": "@jupyter-widgets/output",
      "model_module_version": "1.0.0",
      "model_name": "OutputModel",
      "state": {
       "layout": "IPY_MODEL_d2b8ac2068004c0ab79d4c3e98c74351"
      }
     },
     "06febeb255c0461abfadf43f97012d1b": {
      "model_module": "@jupyter-widgets/controls",
      "model_module_version": "1.5.0",
      "model_name": "SliderStyleModel",
      "state": {
       "description_width": ""
      }
     },
     "070cf78b8ec44201b59b50bd38f47f0d": {
      "model_module": "@jupyter-widgets/controls",
      "model_module_version": "1.5.0",
      "model_name": "DescriptionStyleModel",
      "state": {
       "description_width": ""
      }
     },
     "071b478fa9af4e9593dc5a02a15c6258": {
      "model_module": "@jupyter-widgets/controls",
      "model_module_version": "1.5.0",
      "model_name": "DescriptionStyleModel",
      "state": {
       "description_width": ""
      }
     },
     "072c869e33d54a7ebab3758f4ae3ef91": {
      "model_module": "@jupyter-widgets/controls",
      "model_module_version": "1.5.0",
      "model_name": "DescriptionStyleModel",
      "state": {
       "description_width": ""
      }
     },
     "075c8a5a27914dcf9de9d089d2f0ee6d": {
      "model_module": "@jupyter-widgets/controls",
      "model_module_version": "1.5.0",
      "model_name": "TextareaModel",
      "state": {
       "layout": "IPY_MODEL_1d51a72995b34a7c8a7e463953c6a677",
       "style": "IPY_MODEL_1722eeb0451c4c3085df4e29766111d2",
       "value": "This is a very long text areas string that needs a bigger box to fit all of hte verbose nonsense"
      }
     },
     "07db8917414d4e6cb3447d893f5beb21": {
      "model_module": "@jupyter-widgets/base",
      "model_module_version": "1.2.0",
      "model_name": "LayoutModel",
      "state": {}
     },
     "07fe27181abe439c800466e8727979af": {
      "model_module": "@jupyter-widgets/controls",
      "model_module_version": "1.5.0",
      "model_name": "HBoxModel",
      "state": {
       "children": [
        "IPY_MODEL_8e1a55ffc67b48f498b7a80cd430e7d7"
       ],
       "layout": "IPY_MODEL_426d803ff53447b9a9a080ebedc773c4"
      }
     },
     "08395771d26e4d13841657608476fb10": {
      "model_module": "@jupyter-widgets/base",
      "model_module_version": "1.2.0",
      "model_name": "LayoutModel",
      "state": {
       "align_items": "stretch",
       "display": "flex",
       "flex_flow": "row",
       "grid_auto_columns": "True",
       "justify_content": "flex-end",
       "width": "90%"
      }
     },
     "085973956d814869bc8785b78155875d": {
      "model_module": "@jupyter-widgets/base",
      "model_module_version": "1.2.0",
      "model_name": "LayoutModel",
      "state": {}
     },
     "089092dd04c04dacb1a10a0a8893093b": {
      "model_module": "@jupyter-widgets/controls",
      "model_module_version": "1.5.0",
      "model_name": "TextareaModel",
      "state": {
       "layout": "IPY_MODEL_f57965730ffe490582514f725f3be619",
       "style": "IPY_MODEL_c91dd01706a14d3299bd3c6f0a887bb5",
       "value": "This is a very long text areas string that needs a bigger box to fit all of hte verbose nonsense"
      }
     },
     "089d83539ca14c039b50ed03567d3a02": {
      "model_module": "ipysheet",
      "model_module_version": "~0.4.4",
      "model_name": "CellRangeModel",
      "state": {
       "_view_module": null,
       "_view_module_version": "",
       "choice": [],
       "column_end": 6,
       "column_start": 6,
       "numeric_format": null,
       "row_end": 3,
       "row_start": 0,
       "squeeze_row": false,
       "type": "text",
       "value": [
        "<class 'list'>",
        "<class 'NoneType'>",
        "<class 'NoneType'>",
        "<class 'NoneType'>"
       ]
      }
     },
     "09128b2abb82457ea8e1155490b1707d": {
      "model_module": "@jupyter-widgets/base",
      "model_module_version": "1.2.0",
      "model_name": "LayoutModel",
      "state": {
       "align_items": "stretch",
       "display": "flex",
       "flex_flow": "row",
       "grid_auto_columns": "True",
       "justify_content": "flex-end",
       "width": "90%"
      }
     },
     "091705a1d555410489482ee38d938d07": {
      "model_module": "@jupyter-widgets/base",
      "model_module_version": "1.2.0",
      "model_name": "LayoutModel",
      "state": {}
     },
     "09e6a32ccab3463eb8072085d31c8533": {
      "model_module": "@jupyter-widgets/base",
      "model_module_version": "1.2.0",
      "model_name": "LayoutModel",
      "state": {}
     },
     "0a134b289a934e7baef49f9ab49845bc": {
      "model_module": "@jupyter-widgets/controls",
      "model_module_version": "1.5.0",
      "model_name": "HBoxModel",
      "state": {
       "children": [
        "IPY_MODEL_0d93551f82f54c778159ac351b618ed3",
        "IPY_MODEL_959019adfe7b4a6fac3e2736494026f0"
       ],
       "layout": "IPY_MODEL_4c849dbd27254cfab87e1ff5015607fd"
      }
     },
     "0a8236ee49f24c5cb9d677dad4d75b20": {
      "model_module": "@jupyter-widgets/base",
      "model_module_version": "1.2.0",
      "model_name": "LayoutModel",
      "state": {
       "display": "flex",
       "flex_flow": "row",
       "grid_auto_columns": "False",
       "justify_content": "flex-start",
       "width": "100%"
      }
     },
     "0aa75925e7be44108def00ac30776822": {
      "model_module": "@jupyter-widgets/controls",
      "model_module_version": "1.5.0",
      "model_name": "HBoxModel",
      "state": {
       "children": [
        "IPY_MODEL_9de949dcda0b44c3bd8d130a7e6a65bf"
       ],
       "layout": "IPY_MODEL_165c6d0fcb924f9d8a459e52ed4073e9"
      }
     },
     "0b11b1511be640fc954cf3bcc84dfe86": {
      "model_module": "@jupyter-widgets/controls",
      "model_module_version": "1.5.0",
      "model_name": "DescriptionStyleModel",
      "state": {
       "description_width": ""
      }
     },
     "0b1bf18f0dd14ed1811d22fce9a0927a": {
      "model_module": "@jupyter-widgets/base",
      "model_module_version": "1.2.0",
      "model_name": "LayoutModel",
      "state": {
       "align_items": "stretch",
       "border": "dashed 0.2px green",
       "display": "flex",
       "flex_flow": "row",
       "grid_auto_columns": "True",
       "justify_content": "flex-start",
       "width": "100%"
      }
     },
     "0b40a95ea0704d90b4c5b4c941f9a88a": {
      "model_module": "@jupyter-widgets/controls",
      "model_module_version": "1.5.0",
      "model_name": "HBoxModel",
      "state": {
       "children": [
        "IPY_MODEL_4430840cf6fc475ab992f238df438ed1"
       ],
       "layout": "IPY_MODEL_c0688d5083f24411b8c48f1cca60c3f8"
      }
     },
     "0b7099129a81452cabc616b8dbd43d15": {
      "model_module": "@jupyter-widgets/base",
      "model_module_version": "1.2.0",
      "model_name": "LayoutModel",
      "state": {}
     },
     "0b72d93ce71a4a829ba985f81eb1071d": {
      "model_module": "@jupyter-widgets/controls",
      "model_module_version": "1.5.0",
      "model_name": "HBoxModel",
      "state": {
       "children": [
        "IPY_MODEL_30fdb2a50c0b49959aba6938f727a085",
        "IPY_MODEL_5fc65e60e73f43738b00edf76b57648a"
       ],
       "layout": "IPY_MODEL_8f29d4f136e844849afd89cc3be1d138"
      }
     },
     "0bb0e593682c4b1489d4284bc84ebd68": {
      "model_module": "@jupyter-widgets/base",
      "model_module_version": "1.2.0",
      "model_name": "LayoutModel",
      "state": {}
     },
     "0bcb1f9797494d2a9f1c81689b23bd6f": {
      "model_module": "@jupyter-widgets/controls",
      "model_module_version": "1.5.0",
      "model_name": "VBoxModel",
      "state": {
       "children": [
        "IPY_MODEL_220341caea1844d0885ecb06a8e4cd74",
        "IPY_MODEL_2e41bfb216374ed8b8d20bbb3ef67bd2",
        "IPY_MODEL_6f9efcefb50147d3a7d2088560cc92e6",
        "IPY_MODEL_c3aab282602a4deab176df806d11b303",
        "IPY_MODEL_33fc7cc860264d3cbc39a377cec429ab"
       ],
       "layout": "IPY_MODEL_091705a1d555410489482ee38d938d07"
      }
     },
     "0c2f4ae2e8f94c0ba33d591d02640582": {
      "model_module": "@jupyter-widgets/controls",
      "model_module_version": "1.5.0",
      "model_name": "DescriptionStyleModel",
      "state": {
       "description_width": ""
      }
     },
     "0c2f87c4ac134e849e565ee371617f63": {
      "model_module": "@jupyter-widgets/base",
      "model_module_version": "1.2.0",
      "model_name": "LayoutModel",
      "state": {}
     },
     "0c4adaa85ffb43e2bf0b9a1bb5714fcd": {
      "model_module": "@jupyter-widgets/controls",
      "model_module_version": "1.5.0",
      "model_name": "HBoxModel",
      "state": {
       "children": [
        "IPY_MODEL_ec9514e2747c4ad2b41792e8bf8db2ad",
        "IPY_MODEL_e398477841754458ad5811c529e567ca"
       ],
       "layout": "IPY_MODEL_df38edafb5ee4202956181787d0bdf46"
      }
     },
     "0c67ae4318d64d01aa8ba5e4eff9212d": {
      "model_module": "@jupyter-widgets/base",
      "model_module_version": "1.2.0",
      "model_name": "LayoutModel",
      "state": {
       "align_items": "stretch",
       "display": "flex",
       "flex_flow": "row",
       "grid_auto_columns": "True",
       "justify_content": "flex-start",
       "width": "80%"
      }
     },
     "0cc99b9dbea14d85b3ae965feb9e7a08": {
      "model_module": "@jupyter-widgets/controls",
      "model_module_version": "1.5.0",
      "model_name": "HBoxModel",
      "state": {
       "children": [
        "IPY_MODEL_b3971914ad634dc29228311d866f3da6",
        "IPY_MODEL_f9838530abb0484195c3de7b78b0ae97"
       ],
       "layout": "IPY_MODEL_dd6dd142b9714538b308a7278efafebc"
      }
     },
     "0d8107724e6047b2a888595c6aed7159": {
      "model_module": "@jupyter-widgets/base",
      "model_module_version": "1.2.0",
      "model_name": "LayoutModel",
      "state": {}
     },
     "0d85a6bb4176496c9fa6184c7b12c26c": {
      "model_module": "@jupyter-widgets/controls",
      "model_module_version": "1.5.0",
      "model_name": "HBoxModel",
      "state": {
       "children": [
        "IPY_MODEL_d0f8be5d98a746939cedfb792b989647",
        "IPY_MODEL_a449698232d54bc4957c50f67016e080"
       ],
       "layout": "IPY_MODEL_280f8fbc61b54509845d848d4f459317"
      }
     },
     "0d887c10d1314fe98c3233f7e827106d": {
      "model_module": "@jupyter-widgets/base",
      "model_module_version": "1.2.0",
      "model_name": "LayoutModel",
      "state": {}
     },
     "0d93551f82f54c778159ac351b618ed3": {
      "model_module": "@jupyter-widgets/controls",
      "model_module_version": "1.5.0",
      "model_name": "SelectMultipleModel",
      "state": {
       "_options_labels": [
        "asfd",
        "10",
        "asdf"
       ],
       "index": [
        1
       ],
       "layout": "IPY_MODEL_3e0b9ba7d4704b5ab33dd29b9171524a",
       "rows": 5,
       "style": "IPY_MODEL_fdc2b6fc9d92442c8971d9d0a3cae940"
      }
     },
     "0e1d7ce6cd1c4fcebe96b4243d1adb6a": {
      "model_module": "@jupyter-widgets/base",
      "model_module_version": "1.2.0",
      "model_name": "LayoutModel",
      "state": {}
     },
     "0e279c358ef24d32a7558e631cfcb22e": {
      "model_module": "@jupyter-widgets/controls",
      "model_module_version": "1.5.0",
      "model_name": "HBoxModel",
      "state": {
       "children": [
        "IPY_MODEL_dddc005a6bfd4d6f89415e9aa91dab8d"
       ],
       "layout": "IPY_MODEL_5ef8db5469184002a6b1d6cc860e6173"
      }
     },
     "0e3c5b4744d149b3bf54c62ac0129930": {
      "model_module": "@jupyter-widgets/controls",
      "model_module_version": "1.5.0",
      "model_name": "DescriptionStyleModel",
      "state": {
       "description_width": ""
      }
     },
     "0e89c1dedc894e57b5bcf8e5a1c037f8": {
      "model_module": "@jupyter-widgets/base",
      "model_module_version": "1.2.0",
      "model_name": "LayoutModel",
      "state": {}
     },
     "0ed500d2a2e34a66b64343df295361bd": {
      "model_module": "@jupyter-widgets/base",
      "model_module_version": "1.2.0",
      "model_name": "LayoutModel",
      "state": {}
     },
     "0ef5fe3bd3344792939f79ef7209ff03": {
      "model_module": "@jupyter-widgets/base",
      "model_module_version": "1.2.0",
      "model_name": "LayoutModel",
      "state": {}
     },
     "0efc018121814450b7b9eb20eedb1c6d": {
      "model_module": "@jupyter-widgets/controls",
      "model_module_version": "1.5.0",
      "model_name": "DescriptionStyleModel",
      "state": {
       "description_width": ""
      }
     },
     "0f433f6cd57a4717bed3a81b4c3af57e": {
      "model_module": "@jupyter-widgets/controls",
      "model_module_version": "1.5.0",
      "model_name": "DescriptionStyleModel",
      "state": {
       "description_width": ""
      }
     },
     "0f52d309762049449d6e88ea6bcc51f4": {
      "model_module": "@jupyter-widgets/controls",
      "model_module_version": "1.5.0",
      "model_name": "DescriptionStyleModel",
      "state": {
       "description_width": ""
      }
     },
     "0f81d8f969c944fab9430c40ed149342": {
      "model_module": "@jupyter-widgets/base",
      "model_module_version": "1.2.0",
      "model_name": "LayoutModel",
      "state": {}
     },
     "0fda9da7bcba4805809fa18b372ac76a": {
      "model_module": "@jupyter-widgets/controls",
      "model_module_version": "1.5.0",
      "model_name": "FloatTextModel",
      "state": {
       "layout": "IPY_MODEL_ae571ce130d248828da33551880c3a45",
       "step": null,
       "style": "IPY_MODEL_f899b45fd010421bb5d1307c56723ce5",
       "value": 10
      }
     },
     "0fdf0854650047599a4d308ac3057b0b": {
      "model_module": "@jupyter-widgets/base",
      "model_module_version": "1.2.0",
      "model_name": "LayoutModel",
      "state": {}
     },
     "1038cc9e6af3427bba04d98c64229e63": {
      "model_module": "@jupyter-widgets/base",
      "model_module_version": "1.2.0",
      "model_name": "LayoutModel",
      "state": {}
     },
     "103ad9794ad04828bea0373a37419cf6": {
      "model_module": "@jupyter-widgets/base",
      "model_module_version": "1.2.0",
      "model_name": "LayoutModel",
      "state": {}
     },
     "10f5469c62ec417c9006c4608cd37bdf": {
      "model_module": "@jupyter-widgets/controls",
      "model_module_version": "1.5.0",
      "model_name": "HTMLModel",
      "state": {
       "layout": "IPY_MODEL_5181210d323247c1ba1a6f80a7d2f90b",
       "style": "IPY_MODEL_7a5e1105cf6146c9b61fd12c02b4bf8d",
       "value": "<p>fus foo ous o</p>"
      }
     },
     "11b225bf63ec4e75b427019f459585a0": {
      "model_module": "@jupyter-widgets/controls",
      "model_module_version": "1.5.0",
      "model_name": "SliderStyleModel",
      "state": {
       "description_width": ""
      }
     },
     "11cbcf4d2ebb4b4884fc8f2a33866acb": {
      "model_module": "@jupyter-widgets/base",
      "model_module_version": "1.2.0",
      "model_name": "LayoutModel",
      "state": {
       "align_items": "stretch",
       "border": "dashed 0.2px green",
       "display": "flex",
       "flex_flow": "row",
       "grid_auto_columns": "True",
       "justify_content": "flex-start",
       "width": "100%"
      }
     },
     "11cd6027fce6408eb8e4f3043473dce4": {
      "model_module": "@jupyter-widgets/base",
      "model_module_version": "1.2.0",
      "model_name": "LayoutModel",
      "state": {}
     },
     "11f6230278f04687858333e24e7e9d36": {
      "model_module": "@jupyter-widgets/controls",
      "model_module_version": "1.5.0",
      "model_name": "HTMLModel",
      "state": {
       "layout": "IPY_MODEL_d87bdad2068042adacd507e88d52bdf1",
       "style": "IPY_MODEL_df4d031ce16c40d38c3ac885056531c6",
       "value": "<p>its a foo cake</p>"
      }
     },
     "1217e105910845d5952c53aa3b27473f": {
      "model_module": "@jupyter-widgets/controls",
      "model_module_version": "1.5.0",
      "model_name": "DescriptionStyleModel",
      "state": {
       "description_width": ""
      }
     },
     "1220fcd017f54aa588de5a802529b343": {
      "model_module": "@jupyter-widgets/controls",
      "model_module_version": "1.5.0",
      "model_name": "HTMLModel",
      "state": {
       "layout": "IPY_MODEL_6f119cfb381b4e0886340d3ff41124f7",
       "style": "IPY_MODEL_bcd34331ebd0498e908a1edfff4b28af",
       "value": "<p>its a foo cake</p>"
      }
     },
     "125b342796c54bbb8b87cd665158fe38": {
      "model_module": "@jupyter-widgets/controls",
      "model_module_version": "1.5.0",
      "model_name": "HBoxModel",
      "state": {
       "children": [
        "IPY_MODEL_ca56cd3891ee4bf0b496d189d5397d7a",
        "IPY_MODEL_4f47caefe47b4a4d9f920638f02c98d2"
       ],
       "layout": "IPY_MODEL_df2d90bfea2d422e9720c836ad719c93"
      }
     },
     "1292b3e753ee439ca9ed5fbc61e67f8f": {
      "model_module": "@jupyter-widgets/base",
      "model_module_version": "1.2.0",
      "model_name": "LayoutModel",
      "state": {
       "align_items": "stretch",
       "border": "dashed 0.2px green",
       "display": "flex",
       "flex_flow": "row",
       "grid_auto_columns": "True",
       "justify_content": "flex-start",
       "width": "100%"
      }
     },
     "12d4db927b19455b9d05e388aa38a975": {
      "model_module": "@jupyter-widgets/base",
      "model_module_version": "1.2.0",
      "model_name": "LayoutModel",
      "state": {}
     },
     "12d68148671d41caaabf88f8d7421ec5": {
      "model_module": "@jupyter-widgets/base",
      "model_module_version": "1.2.0",
      "model_name": "LayoutModel",
      "state": {}
     },
     "13055f9e9b1949789ae99e6803904bf3": {
      "model_module": "@jupyter-widgets/base",
      "model_module_version": "1.2.0",
      "model_name": "LayoutModel",
      "state": {}
     },
     "130baf6426e549d8bbbbb2318e7c5021": {
      "model_module": "@jupyter-widgets/controls",
      "model_module_version": "1.5.0",
      "model_name": "HBoxModel",
      "state": {
       "children": [
        "IPY_MODEL_f8106a966713469c92df4e471ba94ab3",
        "IPY_MODEL_f79c557991d145f2a32a9adc04bd13c0"
       ],
       "layout": "IPY_MODEL_1956a5ead1a444cf8b8efcecc4b22f86"
      }
     },
     "13270cf0a18e49a28021f26300534081": {
      "model_module": "@jupyter-widgets/controls",
      "model_module_version": "1.5.0",
      "model_name": "ToggleButtonModel",
      "state": {
       "description": "help",
       "icon": "fa-question-circle",
       "layout": "IPY_MODEL_3d035cb71c2444e39bdc3509b634c46a",
       "style": "IPY_MODEL_d007892bd5dd4a56be08aea9db6767c1",
       "tooltip": "gives guidance"
      }
     },
     "134cbaacf0da4bada4c9c2f9f1d2eb30": {
      "model_module": "@jupyter-widgets/controls",
      "model_module_version": "1.5.0",
      "model_name": "HBoxModel",
      "state": {
       "children": [
        "IPY_MODEL_fc25c03d18184cf990e077c67921552e"
       ],
       "layout": "IPY_MODEL_2b6f03fdbb464fc98457e27a7afdf49a"
      }
     },
     "1358f8b120ad4ca28f0cbbf85f212a34": {
      "model_module": "@jupyter-widgets/controls",
      "model_module_version": "1.5.0",
      "model_name": "DescriptionStyleModel",
      "state": {
       "description_width": ""
      }
     },
     "13711e108c4943aaadddeefb1bfc1af9": {
      "model_module": "@jupyter-widgets/base",
      "model_module_version": "1.2.0",
      "model_name": "LayoutModel",
      "state": {}
     },
     "13a556245edd42899bf34e746456a730": {
      "model_module": "@jupyter-widgets/base",
      "model_module_version": "1.2.0",
      "model_name": "LayoutModel",
      "state": {
       "align_items": "stretch",
       "display": "flex",
       "flex_flow": "row",
       "grid_auto_columns": "True",
       "justify_content": "flex-end",
       "width": "90%"
      }
     },
     "13cae9b5ee20445d8460c23583bb339f": {
      "model_module": "@jupyter-widgets/controls",
      "model_module_version": "1.5.0",
      "model_name": "ToggleButtonModel",
      "state": {
       "description": "help",
       "icon": "fa-question-circle",
       "layout": "IPY_MODEL_a0ca42b1e38e49c1b68a8e8db5ea2043",
       "style": "IPY_MODEL_4eb9df6c01814ea491759bd897357f97",
       "tooltip": "gives guidance"
      }
     },
     "13d0fd2f027f4967a36fb8d2ef4a82a0": {
      "model_module": "@jupyter-widgets/controls",
      "model_module_version": "1.5.0",
      "model_name": "HBoxModel",
      "state": {
       "children": [
        "IPY_MODEL_c3ec10dc15894ceaacb4a9446f7bae42",
        "IPY_MODEL_d293c92167f645a285c0728319ba4f93"
       ],
       "layout": "IPY_MODEL_85b0924062b74c6aa23b2a189c7b4e9d"
      }
     },
     "1426436a617545e498f06d2f4f3e5b12": {
      "model_module": "@jupyter-widgets/controls",
      "model_module_version": "1.5.0",
      "model_name": "DescriptionStyleModel",
      "state": {
       "description_width": ""
      }
     },
     "1464665cbd21476f8bd1d0e838adb540": {
      "model_module": "@jupyter-widgets/base",
      "model_module_version": "1.2.0",
      "model_name": "LayoutModel",
      "state": {
       "align_items": "stretch",
       "border": "dashed 0.2px green",
       "display": "flex",
       "flex_flow": "row",
       "grid_auto_columns": "True",
       "justify_content": "flex-start",
       "width": "100%"
      }
     },
     "1493f9d42baa48df85a34f9e5a1abef2": {
      "model_module": "@jupyter-widgets/base",
      "model_module_version": "1.2.0",
      "model_name": "LayoutModel",
      "state": {}
     },
     "14c3775ee39044168b89f24e14297655": {
      "model_module": "@jupyter-widgets/controls",
      "model_module_version": "1.5.0",
      "model_name": "DescriptionStyleModel",
      "state": {
       "description_width": ""
      }
     },
     "150a8759b9484e05a670b7b8ee9a1b90": {
      "model_module": "@jupyter-widgets/controls",
      "model_module_version": "1.5.0",
      "model_name": "DescriptionStyleModel",
      "state": {
       "description_width": ""
      }
     },
     "151b27fa4b7e41d59cb7e1973c9ecef2": {
      "model_module": "@jupyter-widgets/controls",
      "model_module_version": "1.5.0",
      "model_name": "FloatTextModel",
      "state": {
       "layout": "IPY_MODEL_c6ed28f5943d4709a2932b0b0a1526e1",
       "step": null,
       "style": "IPY_MODEL_15e0eef62b80427180931deaaf2fb274",
       "value": 9
      }
     },
     "1525316c9fc14425bfe284c267a92de4": {
      "model_module": "@jupyter-widgets/controls",
      "model_module_version": "1.5.0",
      "model_name": "DescriptionStyleModel",
      "state": {
       "description_width": ""
      }
     },
     "15515b7a0ce04580a166567b4162f7c8": {
      "model_module": "@jupyter-widgets/base",
      "model_module_version": "1.2.0",
      "model_name": "LayoutModel",
      "state": {
       "align_items": "stretch",
       "display": "flex",
       "flex_flow": "row",
       "grid_auto_columns": "True",
       "justify_content": "flex-end",
       "width": "90%"
      }
     },
     "155d239ca0574ab7a18a08ef7baea7e1": {
      "model_module": "@jupyter-widgets/controls",
      "model_module_version": "1.5.0",
      "model_name": "HTMLModel",
      "state": {
       "layout": "IPY_MODEL_9df8318038624ec9831f80fe638cad07",
       "style": "IPY_MODEL_9bf8ba3a1a214b6fbce32ba38fa8d5e7",
       "value": "<p>reous foo ous foo st</p>"
      }
     },
     "15789ff421c84fbcad52ce2fbf632d36": {
      "model_module": "@jupyter-widgets/controls",
      "model_module_version": "1.5.0",
      "model_name": "HTMLModel",
      "state": {
       "layout": "IPY_MODEL_457dcbefc5844a20a10c8c6f93648629",
       "style": "IPY_MODEL_4133821653e84344902c84199b37b765",
       "value": "<p>foo</p>"
      }
     },
     "159f995f6ace4f7a832f612f5bd7374c": {
      "model_module": "@jupyter-widgets/controls",
      "model_module_version": "1.5.0",
      "model_name": "HTMLModel",
      "state": {
       "layout": "IPY_MODEL_13711e108c4943aaadddeefb1bfc1af9",
       "style": "IPY_MODEL_7bf6c9aefc2144a7b41fae367c9a7f95",
       "value": "<p>reus foo ous oo ous foo st</p>"
      }
     },
     "15e0eef62b80427180931deaaf2fb274": {
      "model_module": "@jupyter-widgets/controls",
      "model_module_version": "1.5.0",
      "model_name": "DescriptionStyleModel",
      "state": {
       "description_width": ""
      }
     },
     "160b419159984b278dec96764fd7d3dd": {
      "model_module": "@jupyter-widgets/base",
      "model_module_version": "1.2.0",
      "model_name": "LayoutModel",
      "state": {}
     },
     "161119e0dd9f4ab195cfa33327fc47e7": {
      "model_module": "@jupyter-widgets/controls",
      "model_module_version": "1.5.0",
      "model_name": "HTMLModel",
      "state": {
       "layout": "IPY_MODEL_f7bbe4069e6d43b38d236204b20095b8",
       "style": "IPY_MODEL_3b4bcb76d63d45afbb76ad5c559af18e",
       "value": "<p>foo</p>"
      }
     },
     "165c6d0fcb924f9d8a459e52ed4073e9": {
      "model_module": "@jupyter-widgets/base",
      "model_module_version": "1.2.0",
      "model_name": "LayoutModel",
      "state": {
       "align_items": "stretch",
       "border": "dashed 0.2px green",
       "display": "flex",
       "flex_flow": "row",
       "grid_auto_columns": "True",
       "justify_content": "flex-start",
       "width": "100%"
      }
     },
     "16a32b7c021c4e67852ba63250fc324a": {
      "model_module": "@jupyter-widgets/output",
      "model_module_version": "1.0.0",
      "model_name": "OutputModel",
      "state": {
       "layout": "IPY_MODEL_95fe4e23f5fb4576bb0d349427ca7cf1"
      }
     },
     "16e52a8cbd244384931279e0c5ae0207": {
      "model_module": "@jupyter-widgets/controls",
      "model_module_version": "1.5.0",
      "model_name": "SelectMultipleModel",
      "state": {
       "_options_labels": [
        "asfd",
        "10",
        "asdf"
       ],
       "index": [
        1
       ],
       "layout": "IPY_MODEL_a586b395cc53458ebe1b7c18c616456a",
       "rows": 5,
       "style": "IPY_MODEL_25125dc576dc4c40a0bf5c2542c83654"
      }
     },
     "1722eeb0451c4c3085df4e29766111d2": {
      "model_module": "@jupyter-widgets/controls",
      "model_module_version": "1.5.0",
      "model_name": "DescriptionStyleModel",
      "state": {
       "description_width": ""
      }
     },
     "178cb2fb99104621b17e7c2c770b265f": {
      "model_module": "@jupyter-widgets/controls",
      "model_module_version": "1.5.0",
      "model_name": "ButtonModel",
      "state": {
       "button_style": "warning",
       "description": "revert to last save",
       "layout": "IPY_MODEL_dae08040c96a411e9718d847fe35ad0d",
       "style": "IPY_MODEL_26ec4c1b0c6946fe8181185df7556dd7"
      }
     },
     "181c6c30305a430b8efd26be7b95a431": {
      "model_module": "@jupyter-widgets/controls",
      "model_module_version": "1.5.0",
      "model_name": "ButtonStyleModel",
      "state": {
       "font_weight": "bold"
      }
     },
     "18279701cdb04d118307cdfee2a428d8": {
      "model_module": "@jupyter-widgets/controls",
      "model_module_version": "1.5.0",
      "model_name": "ToggleButtonModel",
      "state": {
       "icon": "eye",
       "layout": "IPY_MODEL_ef16cd4d43f44a399a8073ce471cf4ea",
       "style": "IPY_MODEL_150a8759b9484e05a670b7b8ee9a1b90"
      }
     },
     "18331df1afe34586a7eb0cbbd555bf86": {
      "model_module": "@jupyter-widgets/base",
      "model_module_version": "1.2.0",
      "model_name": "LayoutModel",
      "state": {}
     },
     "186000dde4f14c68889e287a57788a7c": {
      "model_module": "@jupyter-widgets/controls",
      "model_module_version": "1.5.0",
      "model_name": "HTMLModel",
      "state": {
       "layout": "IPY_MODEL_86febddd085b4020b75ebf20d6cca914",
       "style": "IPY_MODEL_a06f77ff67b347548657b415d25da91d",
       "value": "<p>fus foo ous o</p>"
      }
     },
     "188a39b3fadc4f23aed4acb68e8c1dc3": {
      "model_module": "@jupyter-widgets/base",
      "model_module_version": "1.2.0",
      "model_name": "LayoutModel",
      "state": {
       "align_items": "stretch",
       "display": "flex",
       "flex_flow": "row",
       "grid_auto_columns": "True",
       "justify_content": "flex-end",
       "width": "90%"
      }
     },
     "18d6275c2db546f89ca3e1a0307c4f23": {
      "model_module": "@jupyter-widgets/base",
      "model_module_version": "1.2.0",
      "model_name": "LayoutModel",
      "state": {}
     },
     "18ff5240164b4fdeb5c15eb6e6201e74": {
      "model_module": "@jupyter-widgets/controls",
      "model_module_version": "1.5.0",
      "model_name": "ToggleButtonModel",
      "state": {
       "button_style": "info",
       "description": "inputs from file",
       "layout": "IPY_MODEL_09e6a32ccab3463eb8072085d31c8533",
       "style": "IPY_MODEL_43c17749e53c460099709645a3c47cd0"
      }
     },
     "1956a5ead1a444cf8b8efcecc4b22f86": {
      "model_module": "@jupyter-widgets/base",
      "model_module_version": "1.2.0",
      "model_name": "LayoutModel",
      "state": {
       "align_items": "stretch",
       "display": "flex",
       "flex_flow": "row",
       "grid_auto_columns": "True",
       "justify_content": "flex-start",
       "width": "80%"
      }
     },
     "195df04754b64d7f8db960e1714990e8": {
      "model_module": "@jupyter-widgets/controls",
      "model_module_version": "1.5.0",
      "model_name": "DescriptionStyleModel",
      "state": {
       "description_width": ""
      }
     },
     "1960d09323d64e0394f1826179a18c32": {
      "model_module": "@jupyter-widgets/base",
      "model_module_version": "1.2.0",
      "model_name": "LayoutModel",
      "state": {
       "align_items": "stretch",
       "border": "dashed 0.2px green",
       "display": "flex",
       "flex_flow": "row",
       "grid_auto_columns": "True",
       "justify_content": "flex-start",
       "width": "100%"
      }
     },
     "19a3e6fa35d0471f8dde1b339aa406c9": {
      "model_module": "@jupyter-widgets/base",
      "model_module_version": "1.2.0",
      "model_name": "LayoutModel",
      "state": {
       "align_items": "stretch",
       "display": "flex",
       "flex_flow": "row",
       "grid_auto_columns": "True",
       "justify_content": "flex-start",
       "width": "80%"
      }
     },
     "19f63d8088e342ef8a80795c9fe29ad5": {
      "model_module": "@jupyter-widgets/controls",
      "model_module_version": "1.5.0",
      "model_name": "HTMLModel",
      "state": {
       "layout": "IPY_MODEL_4ab912714dff4f6fa44d376408da20be",
       "style": "IPY_MODEL_7ea8e4ca337640b99797ef5d33fd3762",
       "value": "<p>foo</p>"
      }
     },
     "19f82e412f7c4b12b4c363742bd15f9e": {
      "model_module": "@jupyter-widgets/base",
      "model_module_version": "1.2.0",
      "model_name": "LayoutModel",
      "state": {
       "align_items": "stretch",
       "display": "flex",
       "flex_flow": "row",
       "grid_auto_columns": "True",
       "justify_content": "flex-start",
       "width": "80%"
      }
     },
     "19fb8d4857e6432685f81947cf442da0": {
      "model_module": "@jupyter-widgets/base",
      "model_module_version": "1.2.0",
      "model_name": "LayoutModel",
      "state": {
       "align_items": "stretch",
       "display": "flex",
       "flex_flow": "row",
       "grid_auto_columns": "True",
       "justify_content": "flex-end",
       "width": "90%"
      }
     },
     "1a0fba6140d041bf878fd80c11f48922": {
      "model_module": "@jupyter-widgets/controls",
      "model_module_version": "1.5.0",
      "model_name": "HTMLModel",
      "state": {
       "layout": "IPY_MODEL_5b8dd128e7aa4f1a8797f5dd4edbeaf8",
       "style": "IPY_MODEL_5eb4d3449dda428ea72747e8a1a443a1",
       "value": "<p>fus foo ous o</p>"
      }
     },
     "1a300bf989c24b148dc5849f0d772fb7": {
      "model_module": "ipysheet",
      "model_module_version": "~0.4.4",
      "model_name": "CellRangeModel",
      "state": {
       "_view_module": null,
       "_view_module_version": "",
       "choice": [],
       "column_end": 3,
       "column_start": 3,
       "numeric_format": null,
       "row_end": 3,
       "row_start": 0,
       "squeeze_row": false,
       "type": "text",
       "value": [
        "<class 'list'>",
        "<class 'list'>",
        "<class 'NoneType'>",
        "<class 'NoneType'>"
       ]
      }
     },
     "1a5b99c608984aa887e59ce9f86eda08": {
      "model_module": "@jupyter-widgets/base",
      "model_module_version": "1.2.0",
      "model_name": "LayoutModel",
      "state": {
       "align_items": "stretch",
       "display": "flex",
       "flex_flow": "row",
       "grid_auto_columns": "True",
       "justify_content": "flex-start",
       "width": "80%"
      }
     },
     "1b0937ee1b8b4e68a9fb7dfc9e6d1e05": {
      "model_module": "@jupyter-widgets/controls",
      "model_module_version": "1.5.0",
      "model_name": "DescriptionStyleModel",
      "state": {
       "description_width": ""
      }
     },
     "1b71bee15eb74ffe8c78d658e04738c9": {
      "model_module": "@jupyter-widgets/controls",
      "model_module_version": "1.5.0",
      "model_name": "DescriptionStyleModel",
      "state": {
       "description_width": ""
      }
     },
     "1b8547dfae4a4edc8c95cda5aa3e7d29": {
      "model_module": "@jupyter-widgets/base",
      "model_module_version": "1.2.0",
      "model_name": "LayoutModel",
      "state": {
       "align_items": "stretch",
       "display": "flex",
       "flex_flow": "row",
       "grid_auto_columns": "True",
       "justify_content": "flex-start",
       "width": "80%"
      }
     },
     "1bb4718be16948ecb625ff6a51b30934": {
      "model_module": "@jupyter-widgets/controls",
      "model_module_version": "1.5.0",
      "model_name": "HTMLModel",
      "state": {
       "layout": "IPY_MODEL_e3c9ef9d4ddd481babc19322d982b0be",
       "style": "IPY_MODEL_3299039ad16945cab07fe7deebedb34c",
       "value": "<p>its a foo cake</p>"
      }
     },
     "1bc3a37c9a7947d09053cb83cd1ab4d3": {
      "model_module": "@jupyter-widgets/base",
      "model_module_version": "1.2.0",
      "model_name": "LayoutModel",
      "state": {
       "align_items": "stretch",
       "display": "flex",
       "flex_flow": "row",
       "grid_auto_columns": "True",
       "justify_content": "flex-end",
       "width": "90%"
      }
     },
     "1beb93e7ae7a450b9f0b0c0ccc119c74": {
      "model_module": "@jupyter-widgets/controls",
      "model_module_version": "1.5.0",
      "model_name": "DescriptionStyleModel",
      "state": {
       "description_width": ""
      }
     },
     "1c3c813836ed44ef9419c75433675ea2": {
      "model_module": "@jupyter-widgets/base",
      "model_module_version": "1.2.0",
      "model_name": "LayoutModel",
      "state": {
       "width": "5%"
      }
     },
     "1d4bd43465f34f0b8af124038cd9d600": {
      "model_module": "@jupyter-widgets/base",
      "model_module_version": "1.2.0",
      "model_name": "LayoutModel",
      "state": {}
     },
     "1d51a72995b34a7c8a7e463953c6a677": {
      "model_module": "@jupyter-widgets/base",
      "model_module_version": "1.2.0",
      "model_name": "LayoutModel",
      "state": {}
     },
     "1d55be1a72b348f5800863af6df2edd9": {
      "model_module": "@jupyter-widgets/controls",
      "model_module_version": "1.5.0",
      "model_name": "HTMLModel",
      "state": {
       "layout": "IPY_MODEL_2325c375bae64f8090e727b1587e5995",
       "style": "IPY_MODEL_d2c7722fdd8f4462b698eabfa4a8cd24",
       "value": "<p>its a delicious foo cake</p>"
      }
     },
     "1d86e6d6729b40f881a45fc7a1fa7c92": {
      "model_module": "@jupyter-widgets/base",
      "model_module_version": "1.2.0",
      "model_name": "LayoutModel",
      "state": {
       "align_items": "stretch",
       "display": "flex",
       "flex_flow": "row",
       "grid_auto_columns": "True",
       "justify_content": "flex-start",
       "width": "80%"
      }
     },
     "1da212ceb3934820b417f025510671fe": {
      "model_module": "@jupyter-widgets/controls",
      "model_module_version": "1.5.0",
      "model_name": "DescriptionStyleModel",
      "state": {
       "description_width": ""
      }
     },
     "1dc52c86b6ca424cb2f46bfcab1f3088": {
      "model_module": "@jupyter-widgets/controls",
      "model_module_version": "1.5.0",
      "model_name": "HTMLModel",
      "state": {
       "layout": "IPY_MODEL_72834fbe72fa4bbeafefabde50e47070",
       "style": "IPY_MODEL_3d2e8bd46dbe4b5898a3ec5988df46c3",
       "value": "<p>its a foo cake</p>"
      }
     },
     "1dcbfed853e247c1a82874f1e3be0063": {
      "model_module": "@jupyter-widgets/controls",
      "model_module_version": "1.5.0",
      "model_name": "DescriptionStyleModel",
      "state": {
       "description_width": ""
      }
     },
     "1df9955bf11e4dcfba65321ed6df4d5c": {
      "model_module": "@jupyter-widgets/controls",
      "model_module_version": "1.5.0",
      "model_name": "DescriptionStyleModel",
      "state": {
       "description_width": ""
      }
     },
     "1ed9253e67cd49a197b47b24d07dcd14": {
      "model_module": "@jupyter-widgets/controls",
      "model_module_version": "1.5.0",
      "model_name": "HBoxModel",
      "state": {
       "children": [
        "IPY_MODEL_7cc4d4015c0a4b00abf2ef3cfaa67630",
        "IPY_MODEL_bad7210971244a9786c9b9a3ffc66e18"
       ],
       "layout": "IPY_MODEL_78e53a41c1fa4d6580adaced286ef45f"
      }
     },
     "1ef43078c24942e6ac0fb48107da17f1": {
      "model_module": "@jupyter-widgets/controls",
      "model_module_version": "1.5.0",
      "model_name": "HTMLModel",
      "state": {
       "layout": "IPY_MODEL_59c17fb21a6645b1b10bb70adc23f802",
       "style": "IPY_MODEL_6960236eeed642e7b6a62a4c0dc44835",
       "value": "<p>reous foo ous foo st</p>"
      }
     },
     "1eff508946944cd38bf8227fc9b9a6dc": {
      "model_module": "@jupyter-widgets/controls",
      "model_module_version": "1.5.0",
      "model_name": "DescriptionStyleModel",
      "state": {
       "description_width": ""
      }
     },
     "1f0f6957d2274674a3e1f9e0596bba2c": {
      "model_module": "@jupyter-widgets/controls",
      "model_module_version": "1.5.0",
      "model_name": "SelectMultipleModel",
      "state": {
       "_options_labels": [
        "asfd",
        "10",
        "asdf"
       ],
       "index": [
        1
       ],
       "layout": "IPY_MODEL_b73e5378b32243289c94a9038e46cad2",
       "rows": 5,
       "style": "IPY_MODEL_963afd83eb7c41a09c210cc5bb641833"
      }
     },
     "1f133e6bd9224e8a9d5fa3584ca52523": {
      "model_module": "@jupyter-widgets/controls",
      "model_module_version": "1.5.0",
      "model_name": "HBoxModel",
      "state": {
       "children": [
        "IPY_MODEL_c8b338125bd54c1788fa419ddf525367",
        "IPY_MODEL_4a5eb25a41d54895a106390ddf9c0dcc"
       ],
       "layout": "IPY_MODEL_05d2669a19584edc84000691a3f2926f"
      }
     },
     "1f5f04515f744256b5c96e7579c0f35f": {
      "model_module": "@jupyter-widgets/controls",
      "model_module_version": "1.5.0",
      "model_name": "HBoxModel",
      "state": {
       "children": [
        "IPY_MODEL_96345ac4a5f34a8dbb72585718961926"
       ],
       "layout": "IPY_MODEL_a14f9ab2d07a46a49e8b84d0f3ac7cac"
      }
     },
     "1fb7087c266741d18e789f0d3047ac41": {
      "model_module": "@jupyter-widgets/base",
      "model_module_version": "1.2.0",
      "model_name": "LayoutModel",
      "state": {
       "align_items": "stretch",
       "display": "flex",
       "flex_flow": "row",
       "grid_auto_columns": "True",
       "justify_content": "flex-end",
       "width": "90%"
      }
     },
     "205e509940d94399851e3d65247dcb03": {
      "model_module": "@jupyter-widgets/controls",
      "model_module_version": "1.5.0",
      "model_name": "DescriptionStyleModel",
      "state": {
       "description_width": ""
      }
     },
     "2060a01d696a4e2abdaf2250baf5653f": {
      "model_module": "@jupyter-widgets/controls",
      "model_module_version": "1.5.0",
      "model_name": "HTMLModel",
      "state": {
       "layout": "IPY_MODEL_fb150412ab54454384571dbe57303fbe",
       "style": "IPY_MODEL_3be543c23b884e0ca879dacb07402fb0",
       "value": "<p>its a foo cake</p>"
      }
     },
     "2080c6b7443d4abb8d6e8395d4285625": {
      "model_module": "@jupyter-widgets/base",
      "model_module_version": "1.2.0",
      "model_name": "LayoutModel",
      "state": {
       "align_items": "stretch",
       "border": "dashed 0.2px green",
       "display": "flex",
       "flex_flow": "row",
       "grid_auto_columns": "True",
       "justify_content": "flex-start",
       "width": "100%"
      }
     },
     "20be6f5377f74a38b11ba2c2b6d90876": {
      "model_module": "@jupyter-widgets/base",
      "model_module_version": "1.2.0",
      "model_name": "LayoutModel",
      "state": {}
     },
     "20cf7d78c5a44ec9941c9a1b13ca1e0c": {
      "model_module": "@jupyter-widgets/base",
      "model_module_version": "1.2.0",
      "model_name": "LayoutModel",
      "state": {
       "align_items": "stretch",
       "border": "dashed 0.2px green",
       "display": "flex",
       "flex_flow": "row",
       "grid_auto_columns": "True",
       "justify_content": "flex-start",
       "width": "100%"
      }
     },
     "2126e7172c134c0a804ef88fe6395160": {
      "model_module": "@jupyter-widgets/base",
      "model_module_version": "1.2.0",
      "model_name": "LayoutModel",
      "state": {}
     },
     "21462c3f9cb04bdbb81ea6c91dd4cd11": {
      "model_module": "@jupyter-widgets/base",
      "model_module_version": "1.2.0",
      "model_name": "LayoutModel",
      "state": {
       "align_items": "stretch",
       "border": "dashed 0.2px green",
       "display": "flex",
       "flex_flow": "row",
       "grid_auto_columns": "True",
       "justify_content": "flex-start",
       "width": "100%"
      }
     },
     "21976af49fe24230a983a6954f0d7ef6": {
      "model_module": "@jupyter-widgets/base",
      "model_module_version": "1.2.0",
      "model_name": "LayoutModel",
      "state": {
       "align_items": "stretch",
       "display": "flex",
       "flex_flow": "row",
       "grid_auto_columns": "True",
       "justify_content": "flex-end",
       "width": "90%"
      }
     },
     "21ccfc8033be4df993d1346f175004d0": {
      "model_module": "@jupyter-widgets/base",
      "model_module_version": "1.2.0",
      "model_name": "LayoutModel",
      "state": {
       "align_items": "stretch",
       "border": "dashed 0.2px green",
       "display": "flex",
       "flex_flow": "row",
       "grid_auto_columns": "True",
       "justify_content": "flex-start",
       "width": "100%"
      }
     },
     "21d1cf480a8c4e069c05e41c45c1972e": {
      "model_module": "@jupyter-widgets/controls",
      "model_module_version": "1.5.0",
      "model_name": "DescriptionStyleModel",
      "state": {
       "description_width": ""
      }
     },
     "21e7fbcfbf2649609d397ca103516bb9": {
      "model_module": "@jupyter-widgets/controls",
      "model_module_version": "1.5.0",
      "model_name": "HBoxModel",
      "state": {
       "children": [
        "IPY_MODEL_0413b83dd7be4a5f8aa16990cb013561",
        "IPY_MODEL_69687acaa90049dd9a4c38c43aca2667"
       ],
       "layout": "IPY_MODEL_4da5801a414641d5a0fee03dbacaf118"
      }
     },
     "21fbefbe8363428a8428df2c739fcbe9": {
      "model_module": "@jupyter-widgets/controls",
      "model_module_version": "1.5.0",
      "model_name": "ButtonStyleModel",
      "state": {}
     },
     "220341caea1844d0885ecb06a8e4cd74": {
      "model_module": "@jupyter-widgets/controls",
      "model_module_version": "1.5.0",
      "model_name": "HBoxModel",
      "state": {
       "children": [
        "IPY_MODEL_d69771b4a7554191bb9b2af1bb1c259d",
        "IPY_MODEL_13cae9b5ee20445d8460c23583bb339f"
       ],
       "layout": "IPY_MODEL_b6514aa1fa5741b88e0685b95e3ebd8c"
      }
     },
     "222b7f6dac7b44429ca4e1ff3aaf2c23": {
      "model_module": "@jupyter-widgets/controls",
      "model_module_version": "1.5.0",
      "model_name": "HTMLModel",
      "state": {
       "layout": "IPY_MODEL_400072b9f69f4228805c4c64c644f044",
       "style": "IPY_MODEL_bb3987316d004f1ba9d9b2ee344ae4c6",
       "value": "<p>reus foo ous oo ous foo st</p>"
      }
     },
     "22524069b88748a2aaaeff850b975809": {
      "model_module": "@jupyter-widgets/controls",
      "model_module_version": "1.5.0",
      "model_name": "HBoxModel",
      "state": {
       "children": [
        "IPY_MODEL_d1597c70fb1e421d935cdef28f2d0011",
        "IPY_MODEL_21e7fbcfbf2649609d397ca103516bb9"
       ],
       "layout": "IPY_MODEL_2f615a7dbc06454cabc9066dcd37ece9"
      }
     },
     "22657f24a67145ce8cabae2a8cd41330": {
      "model_module": "@jupyter-widgets/controls",
      "model_module_version": "1.5.0",
      "model_name": "HBoxModel",
      "state": {
       "children": [
        "IPY_MODEL_42e3244eb8854fcb91cc666f0d3197e5",
        "IPY_MODEL_5b3eb3e300174dfeb38b0181af4a72f4"
       ],
       "layout": "IPY_MODEL_8f0bed8c9830433eb8dd190253c21bf3"
      }
     },
     "227179b974da4e58bd70544e840baf77": {
      "model_module": "@jupyter-widgets/base",
      "model_module_version": "1.2.0",
      "model_name": "LayoutModel",
      "state": {}
     },
     "22cd61e6b2544035a9c8c93360763442": {
      "model_module": "@jupyter-widgets/base",
      "model_module_version": "1.2.0",
      "model_name": "LayoutModel",
      "state": {}
     },
     "22eba596bce84d74aa6e67e9b0453db9": {
      "model_module": "@jupyter-widgets/base",
      "model_module_version": "1.2.0",
      "model_name": "LayoutModel",
      "state": {}
     },
     "22fbc82fce244487a6de6b7537d9b623": {
      "model_module": "@jupyter-widgets/base",
      "model_module_version": "1.2.0",
      "model_name": "LayoutModel",
      "state": {}
     },
     "2325c375bae64f8090e727b1587e5995": {
      "model_module": "@jupyter-widgets/base",
      "model_module_version": "1.2.0",
      "model_name": "LayoutModel",
      "state": {}
     },
     "235cd7243f224665b7e4bd59a8d9f668": {
      "model_module": "@jupyter-widgets/base",
      "model_module_version": "1.2.0",
      "model_name": "LayoutModel",
      "state": {}
     },
     "2394677321e8472ba36fe229e6eaf60f": {
      "model_module": "@jupyter-widgets/output",
      "model_module_version": "1.0.0",
      "model_name": "OutputModel",
      "state": {
       "layout": "IPY_MODEL_26d7a8e4fe7b41f6b3766777429b3593"
      }
     },
     "23c8c222d93b47839af5f66e009bb4de": {
      "model_module": "@jupyter-widgets/controls",
      "model_module_version": "1.5.0",
      "model_name": "HBoxModel",
      "state": {
       "children": [
        "IPY_MODEL_7d313892a4364cbabaadda3f370fa80c",
        "IPY_MODEL_d8dcf9e9fb8c40948014790c42126f32"
       ],
       "layout": "IPY_MODEL_8fc352f98b5e490eab6fbcb935f8bcc6"
      }
     },
     "2423779cefd34e97979ce49190270e54": {
      "model_module": "@jupyter-widgets/controls",
      "model_module_version": "1.5.0",
      "model_name": "HBoxModel",
      "state": {
       "children": [
        "IPY_MODEL_fcb00f55ed604af1abaed3b7b2df4f71"
       ],
       "layout": "IPY_MODEL_4898bc86dc614614a3dcb42d9f4f0fa6"
      }
     },
     "2491c64721d447c59d5515723b1bf977": {
      "model_module": "@jupyter-widgets/controls",
      "model_module_version": "1.5.0",
      "model_name": "FloatTextModel",
      "state": {
       "layout": "IPY_MODEL_4224dec63df0493d8cbe78afcb83578f",
       "step": null,
       "style": "IPY_MODEL_b9fa3cb6b0a84d0c930f2ed3827e519e",
       "value": 10
      }
     },
     "24a674c7522c4bb9a1c4b4ef89f3d036": {
      "model_module": "@jupyter-widgets/controls",
      "model_module_version": "1.5.0",
      "model_name": "HTMLModel",
      "state": {
       "layout": "IPY_MODEL_ed849c92ae8d4343ae438cb946bd840f",
       "style": "IPY_MODEL_cd9f9a6f486545fb9e19ee77f4ceb697",
       "value": "<p>fpth_in</p>"
      }
     },
     "24e0e5d7e56e40f0869bebf970e5b845": {
      "model_module": "@jupyter-widgets/output",
      "model_module_version": "1.0.0",
      "model_name": "OutputModel",
      "state": {
       "layout": "IPY_MODEL_7a03df3eef69437ea89af06f4e84d0da"
      }
     },
     "25125dc576dc4c40a0bf5c2542c83654": {
      "model_module": "@jupyter-widgets/controls",
      "model_module_version": "1.5.0",
      "model_name": "DescriptionStyleModel",
      "state": {
       "description_width": ""
      }
     },
     "251ad100624443a7918488ecaf287dbf": {
      "model_module": "@jupyter-widgets/controls",
      "model_module_version": "1.5.0",
      "model_name": "DescriptionStyleModel",
      "state": {
       "description_width": ""
      }
     },
     "2529dd9a1331471380eaa04e8049faf2": {
      "model_module": "@jupyter-widgets/controls",
      "model_module_version": "1.5.0",
      "model_name": "HTMLModel",
      "state": {
       "layout": "IPY_MODEL_9b1e0a6a7ce9456fb45f476ad56d8bcd",
       "style": "IPY_MODEL_1525316c9fc14425bfe284c267a92de4",
       "value": "<p>its a foo cake</p>"
      }
     },
     "252bec4cd86f469fbf95a83e188379ba": {
      "model_module": "@jupyter-widgets/base",
      "model_module_version": "1.2.0",
      "model_name": "LayoutModel",
      "state": {
       "align_items": "stretch",
       "border": "dashed 0.2px green",
       "display": "flex",
       "flex_flow": "row",
       "grid_auto_columns": "True",
       "justify_content": "flex-start",
       "width": "100%"
      }
     },
     "25887cf8f2ab45de8b361ffad32fc407": {
      "model_module": "@jupyter-widgets/base",
      "model_module_version": "1.2.0",
      "model_name": "LayoutModel",
      "state": {}
     },
     "259e1aa049f747b7ab859fbad2366886": {
      "model_module": "@jupyter-widgets/base",
      "model_module_version": "1.2.0",
      "model_name": "LayoutModel",
      "state": {
       "align_items": "stretch",
       "display": "flex",
       "flex_flow": "row",
       "grid_auto_columns": "True",
       "justify_content": "flex-start",
       "width": "80%"
      }
     },
     "25d6330a69174727a341c2e8b1b24d4b": {
      "model_module": "@jupyter-widgets/controls",
      "model_module_version": "1.5.0",
      "model_name": "DescriptionStyleModel",
      "state": {
       "description_width": ""
      }
     },
     "25e97868f5604601ac7a975b31a5fa11": {
      "model_module": "@jupyter-widgets/base",
      "model_module_version": "1.2.0",
      "model_name": "LayoutModel",
      "state": {}
     },
     "2605491064534c82b008c3a1d9a1109d": {
      "model_module": "@jupyter-widgets/base",
      "model_module_version": "1.2.0",
      "model_name": "LayoutModel",
      "state": {
       "align_items": "stretch",
       "display": "flex",
       "flex_flow": "row",
       "grid_auto_columns": "True",
       "justify_content": "flex-start",
       "width": "80%"
      }
     },
     "2651a7223808418d86abb7e859c14940": {
      "model_module": "@jupyter-widgets/controls",
      "model_module_version": "1.5.0",
      "model_name": "DescriptionStyleModel",
      "state": {
       "description_width": ""
      }
     },
     "265c19dbf3254043a401607d20752aca": {
      "model_module": "@jupyter-widgets/controls",
      "model_module_version": "1.5.0",
      "model_name": "HTMLModel",
      "state": {
       "layout": "IPY_MODEL_36e025e5268b4b4896c7f133df671392",
       "style": "IPY_MODEL_934517b00333449a8536d00ba615ba01",
       "value": "<p>name</p>"
      }
     },
     "266610c5e4ac45bd8c42878e4251ddd7": {
      "model_module": "@jupyter-widgets/controls",
      "model_module_version": "1.5.0",
      "model_name": "TextareaModel",
      "state": {
       "layout": "IPY_MODEL_81b2a0e63a8449b18b63e2275cc3aab3",
       "style": "IPY_MODEL_51024da5b60e441cb7f1e1e68d17d63e",
       "value": "asdfasdf"
      }
     },
     "267b6331933e4ada8c41e92ccab16934": {
      "model_module": "@jupyter-widgets/base",
      "model_module_version": "1.2.0",
      "model_name": "LayoutModel",
      "state": {}
     },
     "269af6a556ad44e1b8e2b04448b5730e": {
      "model_module": "@jupyter-widgets/controls",
      "model_module_version": "1.5.0",
      "model_name": "HTMLModel",
      "state": {
       "layout": "IPY_MODEL_fd11dcb40bd343d2b323ec7d3b7ef91c",
       "style": "IPY_MODEL_3a1c944453e248f6943fd569ccf92e86",
       "value": "<p>reous foo ous foo st</p>"
      }
     },
     "26d1c0fe24e74c30bd7c0e19293759b4": {
      "model_module": "@jupyter-widgets/controls",
      "model_module_version": "1.5.0",
      "model_name": "HBoxModel",
      "state": {
       "children": [
        "IPY_MODEL_5d6ea20ca7fc493fa1eba6ee2d4e28b6",
        "IPY_MODEL_b105eabe5bac4f359550697850c1dc74"
       ],
       "layout": "IPY_MODEL_0234d893bf9449ae9b05134d500082f7"
      }
     },
     "26d7a8e4fe7b41f6b3766777429b3593": {
      "model_module": "@jupyter-widgets/base",
      "model_module_version": "1.2.0",
      "model_name": "LayoutModel",
      "state": {}
     },
     "26ec4c1b0c6946fe8181185df7556dd7": {
      "model_module": "@jupyter-widgets/controls",
      "model_module_version": "1.5.0",
      "model_name": "ButtonStyleModel",
      "state": {
       "font_weight": "bold"
      }
     },
     "271aae613c4d4e84b936cea5621b01df": {
      "model_module": "@jupyter-widgets/output",
      "model_module_version": "1.0.0",
      "model_name": "OutputModel",
      "state": {
       "layout": "IPY_MODEL_f793504101f64a70a584e07c4aa609b4"
      }
     },
     "2738829484be4c51a7f25d5e57869cd1": {
      "model_module": "@jupyter-widgets/output",
      "model_module_version": "1.0.0",
      "model_name": "OutputModel",
      "state": {
       "layout": "IPY_MODEL_307b02b6027748ccae2bf697a9b1e0f6"
      }
     },
     "273f8184579b48d1ba1aadd3e7a264bd": {
      "model_module": "ipysheet",
      "model_module_version": "~0.4.4",
      "model_name": "CellRangeModel",
      "state": {
       "_view_module": null,
       "_view_module_version": "",
       "choice": [],
       "column_end": 3,
       "column_start": 3,
       "numeric_format": null,
       "row_end": 3,
       "row_start": 0,
       "squeeze_row": false,
       "type": "text",
       "value": [
        "<class 'list'>",
        "<class 'list'>",
        "<class 'NoneType'>",
        "<class 'NoneType'>"
       ]
      }
     },
     "275540f4aa71450da7080dc9b924618f": {
      "model_module": "@jupyter-widgets/base",
      "model_module_version": "1.2.0",
      "model_name": "LayoutModel",
      "state": {}
     },
     "2765bcf79881413fb7b2e79da60d73f8": {
      "model_module": "@jupyter-widgets/base",
      "model_module_version": "1.2.0",
      "model_name": "LayoutModel",
      "state": {
       "align_items": "stretch",
       "display": "flex",
       "flex_flow": "row",
       "grid_auto_columns": "True",
       "justify_content": "flex-start",
       "width": "80%"
      }
     },
     "276657c1e61548d18df243a14a94c435": {
      "model_module": "@jupyter-widgets/controls",
      "model_module_version": "1.5.0",
      "model_name": "DescriptionStyleModel",
      "state": {
       "description_width": ""
      }
     },
     "27785b82e5c94267bc60055599621604": {
      "model_module": "@jupyter-widgets/controls",
      "model_module_version": "1.5.0",
      "model_name": "DescriptionStyleModel",
      "state": {
       "description_width": ""
      }
     },
     "27902b1216f24d82b1b36620a13af2b5": {
      "model_module": "@jupyter-widgets/controls",
      "model_module_version": "1.5.0",
      "model_name": "DescriptionStyleModel",
      "state": {
       "description_width": ""
      }
     },
     "27adf745185a4c869ccc145ed0595141": {
      "model_module": "@jupyter-widgets/base",
      "model_module_version": "1.2.0",
      "model_name": "LayoutModel",
      "state": {}
     },
     "280f8fbc61b54509845d848d4f459317": {
      "model_module": "@jupyter-widgets/base",
      "model_module_version": "1.2.0",
      "model_name": "LayoutModel",
      "state": {
       "align_items": "stretch",
       "display": "flex",
       "flex_flow": "row",
       "grid_auto_columns": "True",
       "justify_content": "flex-start",
       "width": "80%"
      }
     },
     "284d7061968646d8b8dd47d9c72eefde": {
      "model_module": "@jupyter-widgets/controls",
      "model_module_version": "1.5.0",
      "model_name": "HBoxModel",
      "state": {
       "children": [
        "IPY_MODEL_15789ff421c84fbcad52ce2fbf632d36",
        "IPY_MODEL_dae867e39f3442d59c959dcaeb09f827"
       ],
       "layout": "IPY_MODEL_1fb7087c266741d18e789f0d3047ac41"
      }
     },
     "28bd875838b04728b18336602be921c0": {
      "model_module": "@jupyter-widgets/controls",
      "model_module_version": "1.5.0",
      "model_name": "CheckboxModel",
      "state": {
       "disabled": false,
       "layout": "IPY_MODEL_37ba54e70456495b866ed6f5278ae7f3",
       "style": "IPY_MODEL_2e19fe92842f45038885b850631dc20f",
       "value": true
      }
     },
     "28df027452ff4c26ba46307aebe30999": {
      "model_module": "@jupyter-widgets/base",
      "model_module_version": "1.2.0",
      "model_name": "LayoutModel",
      "state": {
       "align_items": "stretch",
       "border": "dashed 0.2px green",
       "display": "flex",
       "flex_flow": "row",
       "grid_auto_columns": "True",
       "justify_content": "flex-start",
       "width": "100%"
      }
     },
     "28fef6b26c0e4806866a16b03ab58135": {
      "model_module": "@jupyter-widgets/base",
      "model_module_version": "1.2.0",
      "model_name": "LayoutModel",
      "state": {}
     },
     "2903f52504e14d81a191aa836c655e57": {
      "model_module": "@jupyter-widgets/controls",
      "model_module_version": "1.5.0",
      "model_name": "HTMLModel",
      "state": {
       "layout": "IPY_MODEL_cf60dd5d88894e419bc9cc75f55ae699",
       "style": "IPY_MODEL_c27e5d207da84f36b1307ed1ff09c3ac",
       "value": "<p>its a foo cake</p>"
      }
     },
     "2919a5065a4b4bbca2e0f5b15f1ed13e": {
      "model_module": "@jupyter-widgets/base",
      "model_module_version": "1.2.0",
      "model_name": "LayoutModel",
      "state": {
       "align_items": "stretch",
       "display": "flex",
       "flex_flow": "row",
       "grid_auto_columns": "True",
       "justify_content": "flex-start",
       "width": "80%"
      }
     },
     "2958bf29a47649b78509995b3466542d": {
      "model_module": "@jupyter-widgets/base",
      "model_module_version": "1.2.0",
      "model_name": "LayoutModel",
      "state": {
       "align_items": "stretch",
       "border": "dashed 0.2px green",
       "display": "flex",
       "flex_flow": "row",
       "grid_auto_columns": "True",
       "justify_content": "flex-start",
       "width": "100%"
      }
     },
     "29c894d3366b41fd94d21304bfedfb54": {
      "model_module": "@jupyter-widgets/output",
      "model_module_version": "1.0.0",
      "model_name": "OutputModel",
      "state": {
       "layout": "IPY_MODEL_658ce983f9d04e5cbea26bc0d56587c5"
      }
     },
     "29eceb7a60494eb383925e0ebbca098e": {
      "model_module": "@jupyter-widgets/base",
      "model_module_version": "1.2.0",
      "model_name": "LayoutModel",
      "state": {}
     },
     "2a003ea0a1fd4480a9e875798e491a92": {
      "model_module": "@jupyter-widgets/base",
      "model_module_version": "1.2.0",
      "model_name": "LayoutModel",
      "state": {}
     },
     "2a26dcd5991c4dce89ac20ebf8fc6783": {
      "model_module": "@jupyter-widgets/controls",
      "model_module_version": "1.5.0",
      "model_name": "SliderStyleModel",
      "state": {
       "description_width": ""
      }
     },
     "2aa957429b13432f90a7b0fcb9b67704": {
      "model_module": "@jupyter-widgets/controls",
      "model_module_version": "1.5.0",
      "model_name": "HBoxModel",
      "state": {
       "children": [
        "IPY_MODEL_cc92ddaa24014657971fbd51338bc32c"
       ],
       "layout": "IPY_MODEL_11cbcf4d2ebb4b4884fc8f2a33866acb"
      }
     },
     "2ab15219e17e4d82b985d675072e9c73": {
      "model_module": "@jupyter-widgets/base",
      "model_module_version": "1.2.0",
      "model_name": "LayoutModel",
      "state": {}
     },
     "2ab330068f174aebb92b87b330693f61": {
      "model_module": "@jupyter-widgets/controls",
      "model_module_version": "1.5.0",
      "model_name": "ToggleButtonModel",
      "state": {
       "description": "help",
       "icon": "fa-question-circle",
       "layout": "IPY_MODEL_c94e40bc715643aa91a699f762862823",
       "style": "IPY_MODEL_276657c1e61548d18df243a14a94c435",
       "tooltip": "gives guidance"
      }
     },
     "2ade0f985a0a49768e1c21b72a3fb950": {
      "model_module": "@jupyter-widgets/controls",
      "model_module_version": "1.5.0",
      "model_name": "DescriptionStyleModel",
      "state": {
       "description_width": ""
      }
     },
     "2afee98d9f6e4e4f849dc7954ed9bb05": {
      "model_module": "@jupyter-widgets/base",
      "model_module_version": "1.2.0",
      "model_name": "LayoutModel",
      "state": {}
     },
     "2b1111b20f5b49358004a67b969536cc": {
      "model_module": "@jupyter-widgets/controls",
      "model_module_version": "1.5.0",
      "model_name": "DescriptionStyleModel",
      "state": {
       "description_width": ""
      }
     },
     "2b21075298db423199a9e5b866239ff1": {
      "model_module": "@jupyter-widgets/base",
      "model_module_version": "1.2.0",
      "model_name": "LayoutModel",
      "state": {
       "align_items": "stretch",
       "display": "flex",
       "flex_flow": "row",
       "grid_auto_columns": "True",
       "justify_content": "flex-end",
       "width": "90%"
      }
     },
     "2b5196840da341fd8540bf726f25256f": {
      "model_module": "@jupyter-widgets/base",
      "model_module_version": "1.2.0",
      "model_name": "LayoutModel",
      "state": {}
     },
     "2b63eb55813a4e8da401af28e6afd506": {
      "model_module": "@jupyter-widgets/base",
      "model_module_version": "1.2.0",
      "model_name": "LayoutModel",
      "state": {}
     },
     "2b6f03fdbb464fc98457e27a7afdf49a": {
      "model_module": "@jupyter-widgets/base",
      "model_module_version": "1.2.0",
      "model_name": "LayoutModel",
      "state": {
       "align_items": "stretch",
       "border": "dashed 0.2px green",
       "display": "flex",
       "flex_flow": "row",
       "grid_auto_columns": "True",
       "justify_content": "flex-start",
       "width": "100%"
      }
     },
     "2b9d6c30fc794e9094fc3946f8e5f61d": {
      "model_module": "@jupyter-widgets/base",
      "model_module_version": "1.2.0",
      "model_name": "LayoutModel",
      "state": {}
     },
     "2bb98fa468484397968b25c37156c67e": {
      "model_module": "@jupyter-widgets/controls",
      "model_module_version": "1.5.0",
      "model_name": "HTMLModel",
      "state": {
       "layout": "IPY_MODEL_a6fa73e0aea24452b8b9542c24a63742",
       "style": "IPY_MODEL_d4029ee06bd84dc492199f9d4739c534",
       "value": "<p>foo</p>"
      }
     },
     "2bc80725cd404c198f029d3d5efeb996": {
      "model_module": "@jupyter-widgets/base",
      "model_module_version": "1.2.0",
      "model_name": "LayoutModel",
      "state": {}
     },
     "2bc8d6b280de48d99535f54494c12020": {
      "model_module": "@jupyter-widgets/base",
      "model_module_version": "1.2.0",
      "model_name": "LayoutModel",
      "state": {}
     },
     "2c1d8279825b466db3a405cc45e2859a": {
      "model_module": "@jupyter-widgets/controls",
      "model_module_version": "1.5.0",
      "model_name": "HBoxModel",
      "state": {
       "children": [
        "IPY_MODEL_34d66feb43d84f6cb5ad79084e2c34ad"
       ],
       "layout": "IPY_MODEL_b7a326ef3e874765b3d54104d899cf8e"
      }
     },
     "2c5a8d4d1a324ad8a330feaad7cd9522": {
      "model_module": "@jupyter-widgets/base",
      "model_module_version": "1.2.0",
      "model_name": "LayoutModel",
      "state": {}
     },
     "2c8dc221b9b54dddb069d47bae6cb7a0": {
      "model_module": "@jupyter-widgets/output",
      "model_module_version": "1.0.0",
      "model_name": "OutputModel",
      "state": {
       "layout": "IPY_MODEL_709006d7750b4cfaa00db778e47c5086"
      }
     },
     "2c9d8658787d480f81ace14d6b56aa7d": {
      "model_module": "@jupyter-widgets/base",
      "model_module_version": "1.2.0",
      "model_name": "LayoutModel",
      "state": {}
     },
     "2d2c57d6b4c74a0192c923632a9338ad": {
      "model_module": "@jupyter-widgets/controls",
      "model_module_version": "1.5.0",
      "model_name": "HBoxModel",
      "state": {
       "children": [
        "IPY_MODEL_f872214c73774cb78a8a61860df9a0de",
        "IPY_MODEL_f5b32ca927d742b6a5f5a73dc3b93112"
       ],
       "layout": "IPY_MODEL_557e6903285b47e0a57493137f52fb83"
      }
     },
     "2d92061fd13c409896cb136ba01fae93": {
      "model_module": "@jupyter-widgets/base",
      "model_module_version": "1.2.0",
      "model_name": "LayoutModel",
      "state": {}
     },
     "2daa37b848be40cdabc5c196362017a2": {
      "model_module": "@jupyter-widgets/controls",
      "model_module_version": "1.5.0",
      "model_name": "DescriptionStyleModel",
      "state": {
       "description_width": ""
      }
     },
     "2df82f77ca0147849038dbecf5bd1f40": {
      "model_module": "@jupyter-widgets/controls",
      "model_module_version": "1.5.0",
      "model_name": "CheckboxModel",
      "state": {
       "disabled": false,
       "layout": "IPY_MODEL_d476042b5dd942ceab080529f09834c7",
       "style": "IPY_MODEL_30de34cd03b4450c9fcf4e294770b58a",
       "value": true
      }
     },
     "2e19fe92842f45038885b850631dc20f": {
      "model_module": "@jupyter-widgets/controls",
      "model_module_version": "1.5.0",
      "model_name": "DescriptionStyleModel",
      "state": {
       "description_width": ""
      }
     },
     "2e1dcd24e2ad40629cb669d173641131": {
      "model_module": "@jupyter-widgets/controls",
      "model_module_version": "1.5.0",
      "model_name": "HTMLModel",
      "state": {
       "layout": "IPY_MODEL_e5618c63e404471da903db1c4f407611",
       "style": "IPY_MODEL_6ab2e9a1d0c94e5a80d1eca8ad16168f",
       "value": "<p>its a foo cake</p>"
      }
     },
     "2e41bfb216374ed8b8d20bbb3ef67bd2": {
      "model_module": "@jupyter-widgets/controls",
      "model_module_version": "1.5.0",
      "model_name": "HBoxModel",
      "state": {
       "children": [
        "IPY_MODEL_50be814a5e4c48608c0c8f466e5f6f2f"
       ],
       "layout": "IPY_MODEL_8e1d296670b940ecaebeb8a7281a619c"
      }
     },
     "2e66925f21e846ebacdd54e59be42a03": {
      "model_module": "@jupyter-widgets/controls",
      "model_module_version": "1.5.0",
      "model_name": "HBoxModel",
      "state": {
       "children": [
        "IPY_MODEL_455dba8d05c34064abe3b2a28033bd89",
        "IPY_MODEL_3bca64f96b4a463a87360a38c5bc55f7"
       ],
       "layout": "IPY_MODEL_3b531da06b7043d1a568a0ac95316926"
      }
     },
     "2e69c7ca24a74c22bc1a9ac777cfb4e0": {
      "model_module": "@jupyter-widgets/output",
      "model_module_version": "1.0.0",
      "model_name": "OutputModel",
      "state": {
       "layout": "IPY_MODEL_e416967f22614579a2ed481a8e23b1c1"
      }
     },
     "2e9fd83bf0be419db7c7c772b033655b": {
      "model_module": "@jupyter-widgets/controls",
      "model_module_version": "1.5.0",
      "model_name": "DescriptionStyleModel",
      "state": {
       "description_width": ""
      }
     },
     "2ea6a57473524d0d943b415fb3536904": {
      "model_module": "@jupyter-widgets/base",
      "model_module_version": "1.2.0",
      "model_name": "LayoutModel",
      "state": {
       "align_items": "stretch",
       "display": "flex",
       "flex_flow": "row",
       "grid_auto_columns": "True",
       "justify_content": "flex-end",
       "width": "90%"
      }
     },
     "2ef2bf3387e04fa6813ea1db455d495f": {
      "model_module": "@jupyter-widgets/controls",
      "model_module_version": "1.5.0",
      "model_name": "FloatSliderModel",
      "state": {
       "layout": "IPY_MODEL_2b9d6c30fc794e9094fc3946f8e5f61d",
       "max": 10,
       "style": "IPY_MODEL_2a26dcd5991c4dce89ac20ebf8fc6783",
       "value": 10
      }
     },
     "2f1ae5362c854000b4044dd554bd7629": {
      "model_module": "@jupyter-widgets/controls",
      "model_module_version": "1.5.0",
      "model_name": "DescriptionStyleModel",
      "state": {
       "description_width": ""
      }
     },
     "2f615a7dbc06454cabc9066dcd37ece9": {
      "model_module": "@jupyter-widgets/base",
      "model_module_version": "1.2.0",
      "model_name": "LayoutModel",
      "state": {
       "align_items": "stretch",
       "display": "flex",
       "flex_flow": "row",
       "grid_auto_columns": "True",
       "justify_content": "flex-end",
       "width": "90%"
      }
     },
     "2f7e98caf4a64b1f98064772de466402": {
      "model_module": "@jupyter-widgets/base",
      "model_module_version": "1.2.0",
      "model_name": "LayoutModel",
      "state": {}
     },
     "2fe9def838ab4ed1927ea20a6a490998": {
      "model_module": "@jupyter-widgets/controls",
      "model_module_version": "1.5.0",
      "model_name": "SliderStyleModel",
      "state": {
       "description_width": ""
      }
     },
     "300022eb21b2429fa237ef21dcfbbccb": {
      "model_module": "@jupyter-widgets/controls",
      "model_module_version": "1.5.0",
      "model_name": "DescriptionStyleModel",
      "state": {
       "description_width": ""
      }
     },
     "300e0c1a75b746f5aca1b2fb30307829": {
      "model_module": "ipysheet",
      "model_module_version": "~0.4.4",
      "model_name": "CellRangeModel",
      "state": {
       "_view_module": null,
       "_view_module_version": "",
       "choice": [],
       "column_end": 5,
       "column_start": 5,
       "numeric_format": null,
       "row_end": 3,
       "row_start": 0,
       "squeeze_row": false,
       "type": "text",
       "value": [
        "<class 'str'>",
        "<class 'NoneType'>",
        "<class 'NoneType'>",
        "<class 'NoneType'>"
       ]
      }
     },
     "303d923116b64b409c8ed653bdcbc7d4": {
      "model_module": "@jupyter-widgets/base",
      "model_module_version": "1.2.0",
      "model_name": "LayoutModel",
      "state": {
       "align_items": "stretch",
       "display": "flex",
       "flex_flow": "row",
       "grid_auto_columns": "True",
       "justify_content": "flex-end",
       "width": "90%"
      }
     },
     "307b02b6027748ccae2bf697a9b1e0f6": {
      "model_module": "@jupyter-widgets/base",
      "model_module_version": "1.2.0",
      "model_name": "LayoutModel",
      "state": {}
     },
     "30d55a640fc144b0b5756fa2b0393d7c": {
      "model_module": "@jupyter-widgets/controls",
      "model_module_version": "1.5.0",
      "model_name": "HBoxModel",
      "state": {
       "children": [
        "IPY_MODEL_d67409db1c2f497b8672bab37000bf02",
        "IPY_MODEL_bfd150a150954beaa2e6ad964bfdb15e"
       ],
       "layout": "IPY_MODEL_330ad033c5dc49ddacb76a94318b361b"
      }
     },
     "30de34cd03b4450c9fcf4e294770b58a": {
      "model_module": "@jupyter-widgets/controls",
      "model_module_version": "1.5.0",
      "model_name": "DescriptionStyleModel",
      "state": {
       "description_width": ""
      }
     },
     "30f2a7d8150841829ed9560b18d5af2f": {
      "model_module": "@jupyter-widgets/base",
      "model_module_version": "1.2.0",
      "model_name": "LayoutModel",
      "state": {
       "align_items": "stretch",
       "display": "flex",
       "flex_flow": "row",
       "grid_auto_columns": "True",
       "justify_content": "flex-start",
       "width": "80%"
      }
     },
     "30fdb2a50c0b49959aba6938f727a085": {
      "model_module": "@jupyter-widgets/controls",
      "model_module_version": "1.5.0",
      "model_name": "HTMLModel",
      "state": {
       "layout": "IPY_MODEL_49236882b8f94797a37f4d963c42e665",
       "style": "IPY_MODEL_0efc018121814450b7b9eb20eedb1c6d",
       "value": "<p>foo</p>"
      }
     },
     "31c6c204860d40cca9e4b0e1b51ac245": {
      "model_module": "@jupyter-widgets/output",
      "model_module_version": "1.0.0",
      "model_name": "OutputModel",
      "state": {
       "layout": "IPY_MODEL_668f47df9387468d9927f128d873b3f8"
      }
     },
     "3256374eadf64920aa783b341c92da89": {
      "model_module": "@jupyter-widgets/controls",
      "model_module_version": "1.5.0",
      "model_name": "HTMLModel",
      "state": {
       "layout": "IPY_MODEL_4424667c85e04e7d8937ccd5316886d7",
       "style": "IPY_MODEL_ffbc1c2c8b9e4ad7b6f0e198bb4bfd87",
       "value": "<p>foo</p>"
      }
     },
     "32565bc57ac448c796f3d94ec3156cbd": {
      "model_module": "@jupyter-widgets/controls",
      "model_module_version": "1.5.0",
      "model_name": "DescriptionStyleModel",
      "state": {
       "description_width": ""
      }
     },
     "3299039ad16945cab07fe7deebedb34c": {
      "model_module": "@jupyter-widgets/controls",
      "model_module_version": "1.5.0",
      "model_name": "DescriptionStyleModel",
      "state": {
       "description_width": ""
      }
     },
     "330ad033c5dc49ddacb76a94318b361b": {
      "model_module": "@jupyter-widgets/base",
      "model_module_version": "1.2.0",
      "model_name": "LayoutModel",
      "state": {
       "align_items": "stretch",
       "display": "flex",
       "flex_flow": "row",
       "grid_auto_columns": "True",
       "justify_content": "flex-end",
       "width": "90%"
      }
     },
     "332b6e31a7e34debbbd83214e9809c2a": {
      "model_module": "@jupyter-widgets/controls",
      "model_module_version": "1.5.0",
      "model_name": "HTMLModel",
      "state": {
       "layout": "IPY_MODEL_eb73686a35a74e9ab10cc80962e852b5",
       "style": "IPY_MODEL_2b1111b20f5b49358004a67b969536cc",
       "value": "<p>its a foo cake</p>"
      }
     },
     "334519eb014a4f7f912826474de1ecd4": {
      "model_module": "@jupyter-widgets/controls",
      "model_module_version": "1.5.0",
      "model_name": "TextareaModel",
      "state": {
       "layout": "IPY_MODEL_a5387d35349c455ca67af829bfc6f218",
       "style": "IPY_MODEL_87f3f164d1824d22b227590b5244f838",
       "value": "This is a very long text areas string that needs a bigger box to fit all of hte verbose nonsense"
      }
     },
     "3385ce9f72e144d481391a8cb63030e1": {
      "model_module": "@jupyter-widgets/controls",
      "model_module_version": "1.5.0",
      "model_name": "VBoxModel",
      "state": {
       "children": [
        "IPY_MODEL_d3b5707bd07e486ab5d8ea577c135a30",
        "IPY_MODEL_613a2b20c9d44805993b4697861eccac",
        "IPY_MODEL_a649af4dcdb441408e384db452e25074",
        "IPY_MODEL_627d4c1c93df4989b0d1020e3756a0ec",
        "IPY_MODEL_0b40a95ea0704d90b4c5b4c941f9a88a"
       ],
       "layout": "IPY_MODEL_f2ec8ae6c60144e892cacf629d6fee28"
      }
     },
     "339abdaa81474e818fdfe1adff8b30ad": {
      "model_module": "@jupyter-widgets/output",
      "model_module_version": "1.0.0",
      "model_name": "OutputModel",
      "state": {
       "layout": "IPY_MODEL_2f7e98caf4a64b1f98064772de466402"
      }
     },
     "33a0cf1b18c248938b6cf565ee9159be": {
      "model_module": "@jupyter-widgets/controls",
      "model_module_version": "1.5.0",
      "model_name": "HBoxModel",
      "state": {
       "children": [
        "IPY_MODEL_ba90e3ec87b84304b0601a6f7d3ad26f"
       ],
       "layout": "IPY_MODEL_92cb5f4e425a4c16a90208b18f71d681"
      }
     },
     "33a229a28fe347ba8767c0f4d9f9ce3b": {
      "model_module": "@jupyter-widgets/base",
      "model_module_version": "1.2.0",
      "model_name": "LayoutModel",
      "state": {}
     },
     "33c71216a1b943c893bdc799633f5e23": {
      "model_module": "@jupyter-widgets/base",
      "model_module_version": "1.2.0",
      "model_name": "LayoutModel",
      "state": {}
     },
     "33e6eecfabfd45dbb289257251933bff": {
      "model_module": "@jupyter-widgets/base",
      "model_module_version": "1.2.0",
      "model_name": "LayoutModel",
      "state": {
       "align_items": "stretch",
       "border": "dashed 0.2px green",
       "display": "flex",
       "flex_flow": "row",
       "grid_auto_columns": "True",
       "justify_content": "flex-start",
       "width": "100%"
      }
     },
     "33fc7cc860264d3cbc39a377cec429ab": {
      "model_module": "@jupyter-widgets/controls",
      "model_module_version": "1.5.0",
      "model_name": "HBoxModel",
      "state": {
       "children": [
        "IPY_MODEL_22524069b88748a2aaaeff850b975809"
       ],
       "layout": "IPY_MODEL_21ccfc8033be4df993d1346f175004d0"
      }
     },
     "3408df4930e642a1b1c450ce4bf0ad20": {
      "model_module": "@jupyter-widgets/base",
      "model_module_version": "1.2.0",
      "model_name": "LayoutModel",
      "state": {}
     },
     "341b1098f2b94305a26785368bb81668": {
      "model_module": "@jupyter-widgets/controls",
      "model_module_version": "1.5.0",
      "model_name": "DescriptionStyleModel",
      "state": {
       "description_width": ""
      }
     },
     "3421c08b0468415fa0b38765b3f86619": {
      "model_module": "@jupyter-widgets/controls",
      "model_module_version": "1.5.0",
      "model_name": "HTMLModel",
      "state": {
       "layout": "IPY_MODEL_6b4aef39e61748d4a67d380e67e50875",
       "style": "IPY_MODEL_57e6f0b89490465e840f9d2a9e113374",
       "value": "<p>its a foo cake</p>"
      }
     },
     "3453e4d7a2d04503bb2e7ba30d5c8e5a": {
      "model_module": "@jupyter-widgets/controls",
      "model_module_version": "1.5.0",
      "model_name": "ToggleButtonModel",
      "state": {
       "button_style": "info",
       "description": "inputs from file",
       "layout": "IPY_MODEL_953ae24bb79b49b3a670f3e3633c6d3d",
       "style": "IPY_MODEL_cc183f93059243f8b71686b040f59665"
      }
     },
     "34d02a91c1db4c98b97174e3e0a458d1": {
      "model_module": "@jupyter-widgets/base",
      "model_module_version": "1.2.0",
      "model_name": "LayoutModel",
      "state": {}
     },
     "34d66feb43d84f6cb5ad79084e2c34ad": {
      "model_module": "@jupyter-widgets/controls",
      "model_module_version": "1.5.0",
      "model_name": "HBoxModel",
      "state": {
       "children": [
        "IPY_MODEL_4245c8bb854d4c84ae105938cf001230",
        "IPY_MODEL_8ad6ccf9faf74f25923883276f370b5d"
       ],
       "layout": "IPY_MODEL_b3a45b32a8d34d36a91201c48e5e3097"
      }
     },
     "353523a55e42452ea1769367996e3d16": {
      "model_module": "@jupyter-widgets/controls",
      "model_module_version": "1.5.0",
      "model_name": "HTMLModel",
      "state": {
       "layout": "IPY_MODEL_d3bd8d5eb7f54efc956374c04bf1eb7e",
       "style": "IPY_MODEL_d038c9992cf24bc28dc6cf26c0cc7244",
       "value": "<p>reus foo ous oo ous foo st</p>"
      }
     },
     "353960e990ae47898b0893400a33ad49": {
      "model_module": "@jupyter-widgets/base",
      "model_module_version": "1.2.0",
      "model_name": "LayoutModel",
      "state": {}
     },
     "35424cd51967470bbd2fe0c1296ebf7c": {
      "model_module": "@jupyter-widgets/controls",
      "model_module_version": "1.5.0",
      "model_name": "HBoxModel",
      "state": {
       "children": [
        "IPY_MODEL_6fe085c70fef44aa89852d4a37c22de5",
        "IPY_MODEL_749048e751a6472992db674a124e219e"
       ],
       "layout": "IPY_MODEL_5418f0ad898d4d2fa7168209f6c3f633"
      }
     },
     "3611669d089244369150243ee237d8ff": {
      "model_module": "@jupyter-widgets/controls",
      "model_module_version": "1.5.0",
      "model_name": "TextModel",
      "state": {
       "layout": "IPY_MODEL_fc7f4ca0b2654a599b1bb80d1dcbd026",
       "style": "IPY_MODEL_21d1cf480a8c4e069c05e41c45c1972e",
       "value": "2"
      }
     },
     "36180a6032264ed68fd10869419b85b8": {
      "model_module": "@jupyter-widgets/controls",
      "model_module_version": "1.5.0",
      "model_name": "FloatTextModel",
      "state": {
       "layout": "IPY_MODEL_0d887c10d1314fe98c3233f7e827106d",
       "step": null,
       "style": "IPY_MODEL_3aee414c0aa5469bbdefa3a87808c80f",
       "value": 10
      }
     },
     "36480821ae3a4023a99885e25c1e44bd": {
      "model_module": "@jupyter-widgets/base",
      "model_module_version": "1.2.0",
      "model_name": "LayoutModel",
      "state": {
       "align_items": "stretch",
       "display": "flex",
       "flex_flow": "row",
       "grid_auto_columns": "True",
       "justify_content": "flex-end",
       "width": "90%"
      }
     },
     "36e025e5268b4b4896c7f133df671392": {
      "model_module": "@jupyter-widgets/base",
      "model_module_version": "1.2.0",
      "model_name": "LayoutModel",
      "state": {}
     },
     "36ed81e059c140feb826b62e2af279b4": {
      "model_module": "@jupyter-widgets/base",
      "model_module_version": "1.2.0",
      "model_name": "LayoutModel",
      "state": {}
     },
     "372dd57be4964bcd8203a1a2d3982da8": {
      "model_module": "@jupyter-widgets/controls",
      "model_module_version": "1.5.0",
      "model_name": "DescriptionStyleModel",
      "state": {
       "description_width": ""
      }
     },
     "374188c8e5ea47fbaa2416941101e19c": {
      "model_module": "@jupyter-widgets/controls",
      "model_module_version": "1.5.0",
      "model_name": "DescriptionStyleModel",
      "state": {
       "description_width": ""
      }
     },
     "374cb2000fbe4a7b965bf057078876b4": {
      "model_module": "@jupyter-widgets/base",
      "model_module_version": "1.2.0",
      "model_name": "LayoutModel",
      "state": {}
     },
     "375c67d2695c4d559b3f711a4ce39f69": {
      "model_module": "@jupyter-widgets/output",
      "model_module_version": "1.0.0",
      "model_name": "OutputModel",
      "state": {
       "layout": "IPY_MODEL_33a229a28fe347ba8767c0f4d9f9ce3b"
      }
     },
     "378455e43fe048fc9be9036ad7458ad2": {
      "model_module": "@jupyter-widgets/base",
      "model_module_version": "1.2.0",
      "model_name": "LayoutModel",
      "state": {}
     },
     "37b722f9e5c742d2a46888fd173ccf4c": {
      "model_module": "@jupyter-widgets/base",
      "model_module_version": "1.2.0",
      "model_name": "LayoutModel",
      "state": {
       "align_items": "stretch",
       "display": "flex",
       "flex_flow": "row",
       "grid_auto_columns": "True",
       "justify_content": "flex-end",
       "width": "90%"
      }
     },
     "37ba54e70456495b866ed6f5278ae7f3": {
      "model_module": "@jupyter-widgets/base",
      "model_module_version": "1.2.0",
      "model_name": "LayoutModel",
      "state": {}
     },
     "37e2f581d0d44123bb964388b35913c2": {
      "model_module": "@jupyter-widgets/controls",
      "model_module_version": "1.5.0",
      "model_name": "HBoxModel",
      "state": {
       "children": [
        "IPY_MODEL_6ba0e309396442839fd0265dbb72b777",
        "IPY_MODEL_95637d3a88a24051a11e426ddae48c7e"
       ],
       "layout": "IPY_MODEL_15515b7a0ce04580a166567b4162f7c8"
      }
     },
     "37e7b79216c34eb48296757493b59596": {
      "model_module": "@jupyter-widgets/base",
      "model_module_version": "1.2.0",
      "model_name": "LayoutModel",
      "state": {}
     },
     "37ec25b7318648f884b664b6e0c3b638": {
      "model_module": "@jupyter-widgets/controls",
      "model_module_version": "1.5.0",
      "model_name": "FloatSliderModel",
      "state": {
       "layout": "IPY_MODEL_2126e7172c134c0a804ef88fe6395160",
       "max": 10,
       "style": "IPY_MODEL_2fe9def838ab4ed1927ea20a6a490998",
       "value": 10
      }
     },
     "38c244cc42d14a59ac75306d0ba1666f": {
      "model_module": "@jupyter-widgets/output",
      "model_module_version": "1.0.0",
      "model_name": "OutputModel",
      "state": {
       "layout": "IPY_MODEL_4ddd31f4b29a4fa8aac7ea5bc9c6ff91"
      }
     },
     "38c71a3ab1fa4aeb8957ec9c81248f9a": {
      "model_module": "@jupyter-widgets/controls",
      "model_module_version": "1.5.0",
      "model_name": "DescriptionStyleModel",
      "state": {
       "description_width": ""
      }
     },
     "392320b41fcd45a6a60b4d23a8c39b4e": {
      "model_module": "@jupyter-widgets/controls",
      "model_module_version": "1.5.0",
      "model_name": "HBoxModel",
      "state": {
       "children": [
        "IPY_MODEL_547224283beb4c9fa29d4a50755b832d",
        "IPY_MODEL_0d85a6bb4176496c9fa6184c7b12c26c"
       ],
       "layout": "IPY_MODEL_feb1580d0c9e4021b035db470f490be2"
      }
     },
     "3935d8053dc24a4795f09a4b9c7683db": {
      "model_module": "@jupyter-widgets/base",
      "model_module_version": "1.2.0",
      "model_name": "LayoutModel",
      "state": {
       "align_items": "stretch",
       "display": "flex",
       "flex_flow": "row",
       "grid_auto_columns": "True",
       "justify_content": "flex-start",
       "width": "80%"
      }
     },
     "39d77a848b234c1bbe610fb8db7ffce1": {
      "model_module": "@jupyter-widgets/base",
      "model_module_version": "1.2.0",
      "model_name": "LayoutModel",
      "state": {}
     },
     "3a1c944453e248f6943fd569ccf92e86": {
      "model_module": "@jupyter-widgets/controls",
      "model_module_version": "1.5.0",
      "model_name": "DescriptionStyleModel",
      "state": {
       "description_width": ""
      }
     },
     "3a20ca8656c14755a41f0f986c371e39": {
      "model_module": "@jupyter-widgets/controls",
      "model_module_version": "1.5.0",
      "model_name": "SliderStyleModel",
      "state": {
       "description_width": ""
      }
     },
     "3a2a3a7dbb724a51bc054969b7b44bea": {
      "model_module": "@jupyter-widgets/controls",
      "model_module_version": "1.5.0",
      "model_name": "DescriptionStyleModel",
      "state": {
       "description_width": ""
      }
     },
     "3a64d7a9c9b44802a89dc60538a0795f": {
      "model_module": "@jupyter-widgets/controls",
      "model_module_version": "1.5.0",
      "model_name": "VBoxModel",
      "state": {
       "children": [
        "IPY_MODEL_d58a6ca486e345e5ab4fd26a74d68dbf",
        "IPY_MODEL_a86b3e3ddd444bb6a38191cce5a84b97",
        "IPY_MODEL_66f94889ea634623b47ff1d702cded2c"
       ],
       "layout": "IPY_MODEL_0bb0e593682c4b1489d4284bc84ebd68"
      }
     },
     "3a8613e04bdd47cb9f6b172a7cebf0b3": {
      "model_module": "@jupyter-widgets/controls",
      "model_module_version": "1.5.0",
      "model_name": "HBoxModel",
      "state": {
       "children": [
        "IPY_MODEL_3acba87a1c614f4dbdb900a1366e267a",
        "IPY_MODEL_4c53c8b9a1994910a26003711086da24"
       ],
       "layout": "IPY_MODEL_44c1c6a30d414e889ae4a076a5df8eef"
      }
     },
     "3a92aa3d7da94e36adcc3754bd8d2527": {
      "model_module": "@jupyter-widgets/controls",
      "model_module_version": "1.5.0",
      "model_name": "HBoxModel",
      "state": {
       "children": [
        "IPY_MODEL_633e1ff4a376484699594b086168be94",
        "IPY_MODEL_6d80cf9f8ecb416f8dc1974c4058b782"
       ],
       "layout": "IPY_MODEL_ab93d999522c4c70a94e653dab406fba"
      }
     },
     "3ac12bd71c414bdaae32457191c1363d": {
      "model_module": "@jupyter-widgets/controls",
      "model_module_version": "1.5.0",
      "model_name": "HBoxModel",
      "state": {
       "children": [
        "IPY_MODEL_36180a6032264ed68fd10869419b85b8",
        "IPY_MODEL_c0108199926f4fc897da3137f370deae"
       ],
       "layout": "IPY_MODEL_91e79dde339f45e9877f7af7360ea224"
      }
     },
     "3acba87a1c614f4dbdb900a1366e267a": {
      "model_module": "@jupyter-widgets/controls",
      "model_module_version": "1.5.0",
      "model_name": "HTMLModel",
      "state": {
       "layout": "IPY_MODEL_f794215723774eb2aa5b2e9efe092718",
       "style": "IPY_MODEL_7430d5e0b10a4f4eb44b33affa933ef6",
       "value": "<p>reus foo ous oo ous foo st</p>"
      }
     },
     "3adac338f4f64c8c9938b59bc47af501": {
      "model_module": "@jupyter-widgets/controls",
      "model_module_version": "1.5.0",
      "model_name": "HTMLModel",
      "state": {
       "layout": "IPY_MODEL_33c71216a1b943c893bdc799633f5e23",
       "style": "IPY_MODEL_1426436a617545e498f06d2f4f3e5b12",
       "value": "<p>its a foo cake</p>"
      }
     },
     "3aee414c0aa5469bbdefa3a87808c80f": {
      "model_module": "@jupyter-widgets/controls",
      "model_module_version": "1.5.0",
      "model_name": "DescriptionStyleModel",
      "state": {
       "description_width": ""
      }
     },
     "3b18e6f5e16b4abc804d9456fdb27b9f": {
      "model_module": "@jupyter-widgets/base",
      "model_module_version": "1.2.0",
      "model_name": "LayoutModel",
      "state": {
       "align_items": "stretch",
       "display": "flex",
       "flex_flow": "row",
       "grid_auto_columns": "True",
       "justify_content": "flex-end",
       "width": "90%"
      }
     },
     "3b4bcb76d63d45afbb76ad5c559af18e": {
      "model_module": "@jupyter-widgets/controls",
      "model_module_version": "1.5.0",
      "model_name": "DescriptionStyleModel",
      "state": {
       "description_width": ""
      }
     },
     "3b531da06b7043d1a568a0ac95316926": {
      "model_module": "@jupyter-widgets/base",
      "model_module_version": "1.2.0",
      "model_name": "LayoutModel",
      "state": {
       "align_items": "stretch",
       "display": "flex",
       "flex_flow": "row",
       "grid_auto_columns": "True",
       "justify_content": "flex-start",
       "width": "80%"
      }
     },
     "3b5addb933314dfb9a74a6670f17c7a3": {
      "model_module": "@jupyter-widgets/controls",
      "model_module_version": "1.5.0",
      "model_name": "DescriptionStyleModel",
      "state": {
       "description_width": ""
      }
     },
     "3b74262ea8904ae38c424b1e4cfa071b": {
      "model_module": "@jupyter-widgets/controls",
      "model_module_version": "1.5.0",
      "model_name": "HBoxModel",
      "state": {
       "children": [
        "IPY_MODEL_624bc256e30b4f2b980519377daf8c61",
        "IPY_MODEL_62cbae0ba6b64d6e999d0a445e648875"
       ],
       "layout": "IPY_MODEL_4dc8b20eca0b493ea4ea72691215042c"
      }
     },
     "3b78ddc094364ceeae427c5bb61b2834": {
      "model_module": "@jupyter-widgets/controls",
      "model_module_version": "1.5.0",
      "model_name": "HBoxModel",
      "state": {
       "children": [
        "IPY_MODEL_c081312f344241099ce99eded064347f",
        "IPY_MODEL_44d1d51534b0461990f1da91007f477a"
       ],
       "layout": "IPY_MODEL_09128b2abb82457ea8e1155490b1707d"
      }
     },
     "3baf8017d0fa49f082b11d158f7fc614": {
      "model_module": "@jupyter-widgets/base",
      "model_module_version": "1.2.0",
      "model_name": "LayoutModel",
      "state": {
       "align_items": "stretch",
       "border": "dashed 0.2px green",
       "display": "flex",
       "flex_flow": "row",
       "grid_auto_columns": "True",
       "justify_content": "flex-start",
       "width": "100%"
      }
     },
     "3bbb551b72e1400f810fb92cf6d48201": {
      "model_module": "@jupyter-widgets/base",
      "model_module_version": "1.2.0",
      "model_name": "LayoutModel",
      "state": {}
     },
     "3bca64f96b4a463a87360a38c5bc55f7": {
      "model_module": "@jupyter-widgets/controls",
      "model_module_version": "1.5.0",
      "model_name": "HTMLModel",
      "state": {
       "layout": "IPY_MODEL_593ae57470c1481fa9badcc714ae1c60",
       "style": "IPY_MODEL_1b71bee15eb74ffe8c78d658e04738c9",
       "value": "<p>its a foo cake</p>"
      }
     },
     "3be543c23b884e0ca879dacb07402fb0": {
      "model_module": "@jupyter-widgets/controls",
      "model_module_version": "1.5.0",
      "model_name": "DescriptionStyleModel",
      "state": {
       "description_width": ""
      }
     },
     "3c4a2f596b84451f8f54f3422488258d": {
      "model_module": "@jupyter-widgets/controls",
      "model_module_version": "1.5.0",
      "model_name": "HBoxModel",
      "state": {
       "children": [
        "IPY_MODEL_30d55a640fc144b0b5756fa2b0393d7c"
       ],
       "layout": "IPY_MODEL_f1124ad400d248f6a87f9b7e0c7aa517"
      }
     },
     "3c9e0b8045204af4b6b7f9ce14287baf": {
      "model_module": "@jupyter-widgets/base",
      "model_module_version": "1.2.0",
      "model_name": "LayoutModel",
      "state": {}
     },
     "3cc4f477411341b28d47ccc1841c9a06": {
      "model_module": "@jupyter-widgets/controls",
      "model_module_version": "1.5.0",
      "model_name": "HTMLModel",
      "state": {
       "layout": "IPY_MODEL_085973956d814869bc8785b78155875d",
       "style": "IPY_MODEL_6e5558f0673a4d5f8567a2a2248a537e",
       "value": "<p>edit user input form below</p>"
      }
     },
     "3ce2755c71b8469b92468f7c81bcab00": {
      "model_module": "@jupyter-widgets/base",
      "model_module_version": "1.2.0",
      "model_name": "LayoutModel",
      "state": {
       "align_items": "stretch",
       "display": "flex",
       "flex_flow": "row",
       "grid_auto_columns": "True",
       "justify_content": "flex-start",
       "width": "80%"
      }
     },
     "3d035cb71c2444e39bdc3509b634c46a": {
      "model_module": "@jupyter-widgets/base",
      "model_module_version": "1.2.0",
      "model_name": "LayoutModel",
      "state": {
       "width": "5%"
      }
     },
     "3d20871d96e14d8aafa816cb3774e8bd": {
      "model_module": "@jupyter-widgets/controls",
      "model_module_version": "1.5.0",
      "model_name": "DescriptionStyleModel",
      "state": {
       "description_width": ""
      }
     },
     "3d2e8bd46dbe4b5898a3ec5988df46c3": {
      "model_module": "@jupyter-widgets/controls",
      "model_module_version": "1.5.0",
      "model_name": "DescriptionStyleModel",
      "state": {
       "description_width": ""
      }
     },
     "3d7ce419450747b3a31a05e4a37a9270": {
      "model_module": "@jupyter-widgets/base",
      "model_module_version": "1.2.0",
      "model_name": "LayoutModel",
      "state": {
       "align_items": "stretch",
       "display": "flex",
       "flex_flow": "row",
       "grid_auto_columns": "True",
       "justify_content": "flex-end",
       "width": "90%"
      }
     },
     "3d8ee2ddbb4d4243813034efd854cf25": {
      "model_module": "@jupyter-widgets/controls",
      "model_module_version": "1.5.0",
      "model_name": "HBoxModel",
      "state": {
       "children": [
        "IPY_MODEL_ab46d325db2f407ca65c685f6b1d0f03",
        "IPY_MODEL_7998a1d459a94984bd32474cb48ec852"
       ],
       "layout": "IPY_MODEL_616575337b694691822ddce9c46f6f8b"
      }
     },
     "3db7da5c426a48f190f19716e4459938": {
      "model_module": "ipysheet",
      "model_module_version": "~0.4.4",
      "model_name": "SheetModel",
      "state": {
       "cells": [
        "IPY_MODEL_4249dc63d3f046b3be2acb57c4080965",
        "IPY_MODEL_79365890bbd14570be9e407e7fd8d2d4",
        "IPY_MODEL_4dbff7533a1d4315a021318e248a6fba",
        "IPY_MODEL_273f8184579b48d1ba1aadd3e7a264bd",
        "IPY_MODEL_4ef10e7597ef4306aca5a15dd03552c5",
        "IPY_MODEL_300e0c1a75b746f5aca1b2fb30307829",
        "IPY_MODEL_089d83539ca14c039b50ed03567d3a02"
       ],
       "column_headers": [
        "FloatText",
        "FloatSlider",
        "Dropdown",
        "SelectMultiple",
        "Checkbox",
        "Text",
        "_recursive_guess"
       ],
       "columns": 7,
       "layout": "IPY_MODEL_f38469a9f04d4ef6964194a300e7b131",
       "row_headers": [
        "value_type",
        "options_type",
        "min_type",
        "max_type"
       ],
       "rows": 4
      }
     },
     "3dd083f748a841a4b45efdc5b6791b18": {
      "model_module": "@jupyter-widgets/base",
      "model_module_version": "1.2.0",
      "model_name": "LayoutModel",
      "state": {}
     },
     "3e0b9ba7d4704b5ab33dd29b9171524a": {
      "model_module": "@jupyter-widgets/base",
      "model_module_version": "1.2.0",
      "model_name": "LayoutModel",
      "state": {}
     },
     "3e24549ab64e49998086ed55dd83194a": {
      "model_module": "@jupyter-widgets/base",
      "model_module_version": "1.2.0",
      "model_name": "LayoutModel",
      "state": {}
     },
     "3ef9f1aa3ef04e33b5a09fb993984bdb": {
      "model_module": "@jupyter-widgets/controls",
      "model_module_version": "1.5.0",
      "model_name": "TextareaModel",
      "state": {
       "layout": "IPY_MODEL_d07ce39f717a477c9c97891105ebc87c",
       "style": "IPY_MODEL_5784c15bd3a04f0da6da6ce20fce55b0",
       "value": "asdfasdf"
      }
     },
     "3f09dcad532f45b4821f1c3d16a597ac": {
      "model_module": "@jupyter-widgets/controls",
      "model_module_version": "1.5.0",
      "model_name": "HTMLModel",
      "state": {
       "layout": "IPY_MODEL_13055f9e9b1949789ae99e6803904bf3",
       "style": "IPY_MODEL_a46a8b35ea034aa385a2b350e8704e73",
       "value": "<p>reous foo ous foo st</p>"
      }
     },
     "3f37f47f55ba421e99fea47d5a44d8ab": {
      "model_module": "@jupyter-widgets/base",
      "model_module_version": "1.2.0",
      "model_name": "LayoutModel",
      "state": {}
     },
     "3f4475587a9e451da781486ae5433a4d": {
      "model_module": "@jupyter-widgets/base",
      "model_module_version": "1.2.0",
      "model_name": "LayoutModel",
      "state": {}
     },
     "3f5010419f1d47759031183159cc1958": {
      "model_module": "@jupyter-widgets/controls",
      "model_module_version": "1.5.0",
      "model_name": "HTMLModel",
      "state": {
       "layout": "IPY_MODEL_a024245935634cc9a579d8db84d320b8",
       "style": "IPY_MODEL_41556c64187342deb486ff62a60ffc7f",
       "value": "<p>reus foo ous oo ous foo st</p>"
      }
     },
     "400072b9f69f4228805c4c64c644f044": {
      "model_module": "@jupyter-widgets/base",
      "model_module_version": "1.2.0",
      "model_name": "LayoutModel",
      "state": {}
     },
     "403fa08dda1f4ed8844762a6b8b2b5f3": {
      "model_module": "@jupyter-widgets/base",
      "model_module_version": "1.2.0",
      "model_name": "LayoutModel",
      "state": {
       "align_items": "stretch",
       "border": "dashed 0.2px green",
       "display": "flex",
       "flex_flow": "row",
       "grid_auto_columns": "True",
       "justify_content": "flex-start",
       "width": "100%"
      }
     },
     "4066a38f5d0c4d228ec0e17b22e5b450": {
      "model_module": "@jupyter-widgets/controls",
      "model_module_version": "1.5.0",
      "model_name": "HTMLModel",
      "state": {
       "layout": "IPY_MODEL_90d67c9ea5e64f0c92ede64fffb618c8",
       "style": "IPY_MODEL_e5028d375d9044aaa4a56e5c515a32c2",
       "value": "<p>its a delicious foo cake</p>"
      }
     },
     "4133821653e84344902c84199b37b765": {
      "model_module": "@jupyter-widgets/controls",
      "model_module_version": "1.5.0",
      "model_name": "DescriptionStyleModel",
      "state": {
       "description_width": ""
      }
     },
     "41556c64187342deb486ff62a60ffc7f": {
      "model_module": "@jupyter-widgets/controls",
      "model_module_version": "1.5.0",
      "model_name": "DescriptionStyleModel",
      "state": {
       "description_width": ""
      }
     },
     "41e4889e9f9a458ab664b48bf3b21335": {
      "model_module": "@jupyter-widgets/base",
      "model_module_version": "1.2.0",
      "model_name": "LayoutModel",
      "state": {}
     },
     "4205faf84c3e40798065bc9c824e8049": {
      "model_module": "@jupyter-widgets/controls",
      "model_module_version": "1.5.0",
      "model_name": "HBoxModel",
      "state": {
       "children": [
        "IPY_MODEL_6ce74e2b3ab3486d802e582eb7bfdac5"
       ],
       "layout": "IPY_MODEL_f74c2e73185e4ee3a680508188770d3f"
      }
     },
     "4223aa5d52a044b1bce5f5a2796032da": {
      "model_module": "@jupyter-widgets/base",
      "model_module_version": "1.2.0",
      "model_name": "LayoutModel",
      "state": {
       "align_items": "stretch",
       "display": "flex",
       "flex_flow": "row",
       "grid_auto_columns": "True",
       "justify_content": "flex-end",
       "width": "90%"
      }
     },
     "4224dec63df0493d8cbe78afcb83578f": {
      "model_module": "@jupyter-widgets/base",
      "model_module_version": "1.2.0",
      "model_name": "LayoutModel",
      "state": {}
     },
     "423b1ed416ac47ffafb6bf1736b84c7c": {
      "model_module": "@jupyter-widgets/controls",
      "model_module_version": "1.5.0",
      "model_name": "ButtonStyleModel",
      "state": {
       "font_weight": "bold"
      }
     },
     "4245c8bb854d4c84ae105938cf001230": {
      "model_module": "@jupyter-widgets/controls",
      "model_module_version": "1.5.0",
      "model_name": "HTMLModel",
      "state": {
       "layout": "IPY_MODEL_5a42139caf5e4b15955e5b6d00c089e4",
       "style": "IPY_MODEL_25d6330a69174727a341c2e8b1b24d4b",
       "value": "<p>foo</p>"
      }
     },
     "4249dc63d3f046b3be2acb57c4080965": {
      "model_module": "ipysheet",
      "model_module_version": "~0.4.4",
      "model_name": "CellRangeModel",
      "state": {
       "_view_module": null,
       "_view_module_version": "",
       "choice": [],
       "column_end": 0,
       "column_start": 0,
       "numeric_format": null,
       "row_end": 3,
       "row_start": 0,
       "squeeze_row": false,
       "type": "text",
       "value": [
        "<class 'float'>",
        "<class 'NoneType'>",
        "<class 'NoneType'>",
        "<class 'NoneType'>"
       ]
      }
     },
     "426d803ff53447b9a9a080ebedc773c4": {
      "model_module": "@jupyter-widgets/base",
      "model_module_version": "1.2.0",
      "model_name": "LayoutModel",
      "state": {
       "align_items": "stretch",
       "border": "dashed 0.2px green",
       "display": "flex",
       "flex_flow": "row",
       "grid_auto_columns": "True",
       "justify_content": "flex-start",
       "width": "100%"
      }
     },
     "4292a560fb6d46d4b70bc021deef1614": {
      "model_module": "@jupyter-widgets/controls",
      "model_module_version": "1.5.0",
      "model_name": "DescriptionStyleModel",
      "state": {
       "description_width": ""
      }
     },
     "42d9b659ffad4ad0ae83ba211821b955": {
      "model_module": "@jupyter-widgets/base",
      "model_module_version": "1.2.0",
      "model_name": "LayoutModel",
      "state": {}
     },
     "42e3244eb8854fcb91cc666f0d3197e5": {
      "model_module": "@jupyter-widgets/controls",
      "model_module_version": "1.5.0",
      "model_name": "HTMLModel",
      "state": {
       "layout": "IPY_MODEL_11cd6027fce6408eb8e4f3043473dce4",
       "style": "IPY_MODEL_b19ad99bd6cf4f10afcd7b729a6375fa",
       "value": "<p>reous foo ous foo st</p>"
      }
     },
     "434e05f42871428f98552965acde437b": {
      "model_module": "@jupyter-widgets/base",
      "model_module_version": "1.2.0",
      "model_name": "LayoutModel",
      "state": {}
     },
     "43b152b72e844121a5177335537007ee": {
      "model_module": "@jupyter-widgets/base",
      "model_module_version": "1.2.0",
      "model_name": "LayoutModel",
      "state": {
       "align_items": "stretch",
       "display": "flex",
       "flex_flow": "row",
       "grid_auto_columns": "True",
       "justify_content": "flex-end",
       "width": "90%"
      }
     },
     "43c17749e53c460099709645a3c47cd0": {
      "model_module": "@jupyter-widgets/controls",
      "model_module_version": "1.5.0",
      "model_name": "DescriptionStyleModel",
      "state": {
       "description_width": ""
      }
     },
     "43f27d61937647aeabb63eff6663cf25": {
      "model_module": "@jupyter-widgets/controls",
      "model_module_version": "1.5.0",
      "model_name": "DescriptionStyleModel",
      "state": {
       "description_width": ""
      }
     },
     "44080c63038a4a75ab09b3c9823be356": {
      "model_module": "@jupyter-widgets/controls",
      "model_module_version": "1.5.0",
      "model_name": "HBoxModel",
      "state": {
       "children": [
        "IPY_MODEL_753beb8ab5a0447bb9b7c79b235f656d",
        "IPY_MODEL_cb0bd4d387b54d409e1ff58be2f7bae8"
       ],
       "layout": "IPY_MODEL_77f916cda1f249fda915fdd9f30c19ea"
      }
     },
     "4424667c85e04e7d8937ccd5316886d7": {
      "model_module": "@jupyter-widgets/base",
      "model_module_version": "1.2.0",
      "model_name": "LayoutModel",
      "state": {}
     },
     "4430840cf6fc475ab992f238df438ed1": {
      "model_module": "@jupyter-widgets/controls",
      "model_module_version": "1.5.0",
      "model_name": "HBoxModel",
      "state": {
       "children": [
        "IPY_MODEL_4c515624fc0e41bf901f198ba4799640",
        "IPY_MODEL_5a32f18fe875461c9e4a7c6275957043"
       ],
       "layout": "IPY_MODEL_8e954f49a35249898c0cd04e1d994120"
      }
     },
     "444e3eb05d594c7a89aa7b5df5f9e666": {
      "model_module": "@jupyter-widgets/controls",
      "model_module_version": "1.5.0",
      "model_name": "HTMLModel",
      "state": {
       "layout": "IPY_MODEL_3bbb551b72e1400f810fb92cf6d48201",
       "style": "IPY_MODEL_1358f8b120ad4ca28f0cbbf85f212a34",
       "value": "<p>its a foo cake</p>"
      }
     },
     "4474b01fbe7a4904adc436a6d1c4180b": {
      "model_module": "@jupyter-widgets/controls",
      "model_module_version": "1.5.0",
      "model_name": "HBoxModel",
      "state": {
       "children": [
        "IPY_MODEL_37ec25b7318648f884b664b6e0c3b638",
        "IPY_MODEL_a133d3026518480b8b4533a6cf806eff"
       ],
       "layout": "IPY_MODEL_485c12b75d8f40e09ae5ded82d0a7ee2"
      }
     },
     "4483d4faf1cd41519cb6e2d12cf67503": {
      "model_module": "@jupyter-widgets/controls",
      "model_module_version": "1.5.0",
      "model_name": "DescriptionStyleModel",
      "state": {
       "description_width": ""
      }
     },
     "44c1c6a30d414e889ae4a076a5df8eef": {
      "model_module": "@jupyter-widgets/base",
      "model_module_version": "1.2.0",
      "model_name": "LayoutModel",
      "state": {
       "align_items": "stretch",
       "display": "flex",
       "flex_flow": "row",
       "grid_auto_columns": "True",
       "justify_content": "flex-end",
       "width": "90%"
      }
     },
     "44d1d51534b0461990f1da91007f477a": {
      "model_module": "@jupyter-widgets/controls",
      "model_module_version": "1.5.0",
      "model_name": "HBoxModel",
      "state": {
       "children": [
        "IPY_MODEL_a39114a01eaa4264a4013573628b0297",
        "IPY_MODEL_a884a3d4ba5a4f4bb0858833faf46883"
       ],
       "layout": "IPY_MODEL_c54defc9cf4b4440aeb2bc2c62c0c12f"
      }
     },
     "4511199a8ef944e39fbe90fff7f7f8ae": {
      "model_module": "@jupyter-widgets/base",
      "model_module_version": "1.2.0",
      "model_name": "LayoutModel",
      "state": {}
     },
     "4512f9eb66f44d369c2a4517c9082c57": {
      "model_module": "@jupyter-widgets/base",
      "model_module_version": "1.2.0",
      "model_name": "LayoutModel",
      "state": {
       "align_items": "stretch",
       "border": "dashed 0.2px green",
       "display": "flex",
       "flex_flow": "row",
       "grid_auto_columns": "True",
       "justify_content": "flex-start",
       "width": "100%"
      }
     },
     "455dba8d05c34064abe3b2a28033bd89": {
      "model_module": "@jupyter-widgets/controls",
      "model_module_version": "1.5.0",
      "model_name": "FloatSliderModel",
      "state": {
       "layout": "IPY_MODEL_1d4bd43465f34f0b8af124038cd9d600",
       "max": 10,
       "style": "IPY_MODEL_3a20ca8656c14755a41f0f986c371e39",
       "value": 10
      }
     },
     "457dcbefc5844a20a10c8c6f93648629": {
      "model_module": "@jupyter-widgets/base",
      "model_module_version": "1.2.0",
      "model_name": "LayoutModel",
      "state": {}
     },
     "4582b51183b0455c877c6abe576de8a5": {
      "model_module": "@jupyter-widgets/output",
      "model_module_version": "1.0.0",
      "model_name": "OutputModel",
      "state": {
       "layout": "IPY_MODEL_0b7099129a81452cabc616b8dbd43d15"
      }
     },
     "46453ce70b624a0d9fc89ed6facc29da": {
      "model_module": "@jupyter-widgets/controls",
      "model_module_version": "1.5.0",
      "model_name": "DescriptionStyleModel",
      "state": {
       "description_width": ""
      }
     },
     "4661c43c54c6422aa77861f181af2940": {
      "model_module": "@jupyter-widgets/base",
      "model_module_version": "1.2.0",
      "model_name": "LayoutModel",
      "state": {
       "align_items": "stretch",
       "display": "flex",
       "flex_flow": "row",
       "grid_auto_columns": "True",
       "justify_content": "flex-end",
       "width": "90%"
      }
     },
     "467b4fd95c88481cb54ba1b660004471": {
      "model_module": "@jupyter-widgets/controls",
      "model_module_version": "1.5.0",
      "model_name": "HBoxModel",
      "state": {
       "children": [
        "IPY_MODEL_90e5fdef30ca4964b03949d47174570b"
       ],
       "layout": "IPY_MODEL_8b27576c964848f2b2314999b39b7762"
      }
     },
     "46b777a6fa884ea4891a91d4e02bdee5": {
      "model_module": "@jupyter-widgets/base",
      "model_module_version": "1.2.0",
      "model_name": "LayoutModel",
      "state": {
       "align_items": "stretch",
       "display": "flex",
       "flex_flow": "row",
       "grid_auto_columns": "True",
       "justify_content": "flex-start",
       "width": "80%"
      }
     },
     "47aa9eeb5cbe4d5b986518539627f49c": {
      "model_module": "@jupyter-widgets/controls",
      "model_module_version": "1.5.0",
      "model_name": "HBoxModel",
      "state": {
       "children": [
        "IPY_MODEL_dc5f9195ac9d4eeea2109c105438bfd4",
        "IPY_MODEL_a70b161dae9e4b9db165d52ad1c29089"
       ],
       "layout": "IPY_MODEL_3d7ce419450747b3a31a05e4a37a9270"
      }
     },
     "47ddc442041344529f27d807976eb9fa": {
      "model_module": "@jupyter-widgets/controls",
      "model_module_version": "1.5.0",
      "model_name": "HTMLModel",
      "state": {
       "layout": "IPY_MODEL_826629cb9c274be3b37c0e4379d7aba8",
       "style": "IPY_MODEL_afef35d60c3b4055853a3ea8743d623c",
       "value": "<p>foo</p>"
      }
     },
     "4814ffd68c82462b96c701f1c657f227": {
      "model_module": "@jupyter-widgets/base",
      "model_module_version": "1.2.0",
      "model_name": "LayoutModel",
      "state": {
       "align_items": "stretch",
       "border": "dashed 0.2px green",
       "display": "flex",
       "flex_flow": "row",
       "grid_auto_columns": "True",
       "justify_content": "flex-start",
       "width": "100%"
      }
     },
     "48360ed9942b45b395431bf2dac32207": {
      "model_module": "@jupyter-widgets/base",
      "model_module_version": "1.2.0",
      "model_name": "LayoutModel",
      "state": {}
     },
     "485c12b75d8f40e09ae5ded82d0a7ee2": {
      "model_module": "@jupyter-widgets/base",
      "model_module_version": "1.2.0",
      "model_name": "LayoutModel",
      "state": {
       "align_items": "stretch",
       "display": "flex",
       "flex_flow": "row",
       "grid_auto_columns": "True",
       "justify_content": "flex-start",
       "width": "80%"
      }
     },
     "4871edc8ed1142a0882678714704a23d": {
      "model_module": "@jupyter-widgets/controls",
      "model_module_version": "1.5.0",
      "model_name": "SliderStyleModel",
      "state": {
       "description_width": ""
      }
     },
     "4893616d8ebc4409a32dfde3070edd33": {
      "model_module": "@jupyter-widgets/controls",
      "model_module_version": "1.5.0",
      "model_name": "ButtonStyleModel",
      "state": {}
     },
     "4898bc86dc614614a3dcb42d9f4f0fa6": {
      "model_module": "@jupyter-widgets/base",
      "model_module_version": "1.2.0",
      "model_name": "LayoutModel",
      "state": {
       "align_items": "stretch",
       "border": "dashed 0.2px green",
       "display": "flex",
       "flex_flow": "row",
       "grid_auto_columns": "True",
       "justify_content": "flex-start",
       "width": "100%"
      }
     },
     "48a5eec7fd754c809e51112b6cb6acae": {
      "model_module": "@jupyter-widgets/base",
      "model_module_version": "1.2.0",
      "model_name": "LayoutModel",
      "state": {}
     },
     "48d2d7d085b343709a6cca7b8a88b938": {
      "model_module": "@jupyter-widgets/output",
      "model_module_version": "1.0.0",
      "model_name": "OutputModel",
      "state": {
       "layout": "IPY_MODEL_434e05f42871428f98552965acde437b"
      }
     },
     "48e340d83d744d4c8a4bfbe6edacfdcf": {
      "model_module": "@jupyter-widgets/base",
      "model_module_version": "1.2.0",
      "model_name": "LayoutModel",
      "state": {}
     },
     "49236882b8f94797a37f4d963c42e665": {
      "model_module": "@jupyter-widgets/base",
      "model_module_version": "1.2.0",
      "model_name": "LayoutModel",
      "state": {}
     },
     "49329a1ece8b4ae082e478fb838249ed": {
      "model_module": "@jupyter-widgets/controls",
      "model_module_version": "1.5.0",
      "model_name": "HTMLModel",
      "state": {
       "layout": "IPY_MODEL_a4a36fc3f61041d09e8fef78719e0939",
       "style": "IPY_MODEL_a1e52c9c1eac4728b8693147b6a7fae9",
       "value": "<p>reous foo ous foo st</p>"
      }
     },
     "498fb24fcf3841b4b1ccf79d29bf2b9f": {
      "model_module": "@jupyter-widgets/base",
      "model_module_version": "1.2.0",
      "model_name": "LayoutModel",
      "state": {}
     },
     "49c7adfd5d374c5e8ac6efdcf2101df0": {
      "model_module": "@jupyter-widgets/controls",
      "model_module_version": "1.5.0",
      "model_name": "HTMLModel",
      "state": {
       "layout": "IPY_MODEL_6ac7da2a882d49738cc8df6d4d65f841",
       "style": "IPY_MODEL_f650101fea214444ab918a79f97852c7",
       "value": "<p>reus foo ous oo ous foo st</p>"
      }
     },
     "4a0f87d0cd1f42398cc9922146282045": {
      "model_module": "@jupyter-widgets/base",
      "model_module_version": "1.2.0",
      "model_name": "LayoutModel",
      "state": {
       "align_items": "stretch",
       "border": "dashed 0.2px green",
       "display": "flex",
       "flex_flow": "row",
       "grid_auto_columns": "True",
       "justify_content": "flex-start",
       "width": "100%"
      }
     },
     "4a179b3b04c7430eaef3c4f64eae2169": {
      "model_module": "@jupyter-widgets/controls",
      "model_module_version": "1.5.0",
      "model_name": "HBoxModel",
      "state": {
       "children": [
        "IPY_MODEL_a908b4ad0e864733b802f42154a00728",
        "IPY_MODEL_59724e5ebcda493c865156581ac53c8a"
       ],
       "layout": "IPY_MODEL_ea803636a3bc4dd29fcf2de3c1df6ab8"
      }
     },
     "4a5eb25a41d54895a106390ddf9c0dcc": {
      "model_module": "@jupyter-widgets/controls",
      "model_module_version": "1.5.0",
      "model_name": "HTMLModel",
      "state": {
       "layout": "IPY_MODEL_e7c90db23d6042e38d76ae865e95bcee",
       "style": "IPY_MODEL_82fb9d28a86a4a93afb47482b5751cec",
       "value": "<p>its a foo cake</p>"
      }
     },
     "4a69b208c43f47e9beeb76506151a964": {
      "model_module": "@jupyter-widgets/base",
      "model_module_version": "1.2.0",
      "model_name": "LayoutModel",
      "state": {}
     },
     "4a7692668e7647978264bfea2feefe80": {
      "model_module": "@jupyter-widgets/controls",
      "model_module_version": "1.5.0",
      "model_name": "ToggleButtonModel",
      "state": {
       "description": "help",
       "icon": "fa-question-circle",
       "layout": "IPY_MODEL_e07abb429a784211b655d889ebb0847e",
       "style": "IPY_MODEL_c7a97324c5da4e2e9ee1e3b6167692bc",
       "tooltip": "gives guidance"
      }
     },
     "4ab912714dff4f6fa44d376408da20be": {
      "model_module": "@jupyter-widgets/base",
      "model_module_version": "1.2.0",
      "model_name": "LayoutModel",
      "state": {}
     },
     "4b8281c45ff94545a34615177b06b616": {
      "model_module": "@jupyter-widgets/base",
      "model_module_version": "1.2.0",
      "model_name": "LayoutModel",
      "state": {}
     },
     "4b8e4ba856b54c4c8c6be1f6e44f9599": {
      "model_module": "@jupyter-widgets/base",
      "model_module_version": "1.2.0",
      "model_name": "LayoutModel",
      "state": {}
     },
     "4ba8716aec7a452ca50b33f17dd6d3db": {
      "model_module": "@jupyter-widgets/controls",
      "model_module_version": "1.5.0",
      "model_name": "HTMLModel",
      "state": {
       "layout": "IPY_MODEL_36ed81e059c140feb826b62e2af279b4",
       "style": "IPY_MODEL_cfc407924d8f4522a15a6e1fc11c817a",
       "value": "<p>foo</p>"
      }
     },
     "4bb221dbd1454133aac74558d3f4fe68": {
      "model_module": "ipysheet",
      "model_module_version": "~0.4.4",
      "model_name": "SheetModel",
      "state": {
       "cells": [
        "IPY_MODEL_63c86d2bed7e44edaa849b9647719d85",
        "IPY_MODEL_d8a3715edefa4b4fb6e005a962a8341e",
        "IPY_MODEL_cfb048dde2f94788812ab99880d48f15",
        "IPY_MODEL_1a300bf989c24b148dc5849f0d772fb7",
        "IPY_MODEL_6f3a64a8d00f441f9b544b52e55750fa",
        "IPY_MODEL_8602eb1e07da4386aa21a31bea1467d6",
        "IPY_MODEL_7bfed182e4774233a78eeb5f3c976bc6"
       ],
       "column_headers": [
        "FloatText",
        "FloatSlider",
        "Dropdown",
        "SelectMultiple",
        "Checkbox",
        "Text",
        "_recursive_guess"
       ],
       "columns": 7,
       "layout": "IPY_MODEL_ccffe6bcc8b2404d93569925ea7f9fe3",
       "row_headers": [
        "value_type",
        "options_type",
        "min_type",
        "max_type"
       ],
       "rows": 4
      }
     },
     "4beb0874ebfd4d3cb2d989e91004044d": {
      "model_module": "@jupyter-widgets/controls",
      "model_module_version": "1.5.0",
      "model_name": "HBoxModel",
      "state": {
       "children": [
        "IPY_MODEL_3f5010419f1d47759031183159cc1958",
        "IPY_MODEL_9599b2553c774a74829223c56cdbf20d"
       ],
       "layout": "IPY_MODEL_c707a2b4a39948a2b33604e9b4af844a"
      }
     },
     "4c3da7315def4267912e7d2ec1c5f8b1": {
      "model_module": "@jupyter-widgets/base",
      "model_module_version": "1.2.0",
      "model_name": "LayoutModel",
      "state": {
       "align_items": "stretch",
       "display": "flex",
       "flex_flow": "row",
       "grid_auto_columns": "True",
       "justify_content": "flex-end",
       "width": "90%"
      }
     },
     "4c515624fc0e41bf901f198ba4799640": {
      "model_module": "@jupyter-widgets/controls",
      "model_module_version": "1.5.0",
      "model_name": "HTMLModel",
      "state": {
       "layout": "IPY_MODEL_52069df94d6049049e52bf4dbc93ea67",
       "style": "IPY_MODEL_57d5237be4ee4b0199ea898a9e74c2f5",
       "value": "<p>foo</p>"
      }
     },
     "4c53c8b9a1994910a26003711086da24": {
      "model_module": "@jupyter-widgets/controls",
      "model_module_version": "1.5.0",
      "model_name": "HBoxModel",
      "state": {
       "children": [
        "IPY_MODEL_3ef9f1aa3ef04e33b5a09fb993984bdb",
        "IPY_MODEL_2903f52504e14d81a191aa836c655e57"
       ],
       "layout": "IPY_MODEL_2765bcf79881413fb7b2e79da60d73f8"
      }
     },
     "4c540e7b967846cdb1a5cb20e5eb04d1": {
      "model_module": "@jupyter-widgets/controls",
      "model_module_version": "1.5.0",
      "model_name": "HBoxModel",
      "state": {
       "children": [
        "IPY_MODEL_265c19dbf3254043a401607d20752aca",
        "IPY_MODEL_a821cc63ad81401aa849b515d078889e"
       ],
       "layout": "IPY_MODEL_d9adffc6f8f045549e71be2c81e1c104"
      }
     },
     "4c849dbd27254cfab87e1ff5015607fd": {
      "model_module": "@jupyter-widgets/base",
      "model_module_version": "1.2.0",
      "model_name": "LayoutModel",
      "state": {
       "align_items": "stretch",
       "display": "flex",
       "flex_flow": "row",
       "grid_auto_columns": "True",
       "justify_content": "flex-start",
       "width": "80%"
      }
     },
     "4c8f23a763e24d5dbf8908e2fea08d3f": {
      "model_module": "@jupyter-widgets/base",
      "model_module_version": "1.2.0",
      "model_name": "LayoutModel",
      "state": {}
     },
     "4cd81a1afa4242169190e602d3a5eef3": {
      "model_module": "@jupyter-widgets/base",
      "model_module_version": "1.2.0",
      "model_name": "LayoutModel",
      "state": {}
     },
     "4cea787d752a47f3849e4ef6842554a9": {
      "model_module": "@jupyter-widgets/controls",
      "model_module_version": "1.5.0",
      "model_name": "HTMLModel",
      "state": {
       "layout": "IPY_MODEL_dfbbfad899fb438d88a55e1b2faf2c69",
       "style": "IPY_MODEL_e9c62007fc8a4ffda404b3954c0b27a4",
       "value": "<p>its a foo cake</p>"
      }
     },
     "4d0da77d28234ea0966fbf950c3d3a15": {
      "model_module": "@jupyter-widgets/base",
      "model_module_version": "1.2.0",
      "model_name": "LayoutModel",
      "state": {
       "width": "5%"
      }
     },
     "4d6e85e22bb4425d957691b0306b3084": {
      "model_module": "@jupyter-widgets/controls",
      "model_module_version": "1.5.0",
      "model_name": "DescriptionStyleModel",
      "state": {
       "description_width": ""
      }
     },
     "4d6fd08042984f609820a431dabda75b": {
      "model_module": "@jupyter-widgets/controls",
      "model_module_version": "1.5.0",
      "model_name": "HBoxModel",
      "state": {
       "children": [
        "IPY_MODEL_284d7061968646d8b8dd47d9c72eefde"
       ],
       "layout": "IPY_MODEL_2958bf29a47649b78509995b3466542d"
      }
     },
     "4da4b2eca5ca4a57876298ca200169e4": {
      "model_module": "@jupyter-widgets/controls",
      "model_module_version": "1.5.0",
      "model_name": "DescriptionStyleModel",
      "state": {
       "description_width": ""
      }
     },
     "4da5801a414641d5a0fee03dbacaf118": {
      "model_module": "@jupyter-widgets/base",
      "model_module_version": "1.2.0",
      "model_name": "LayoutModel",
      "state": {
       "align_items": "stretch",
       "display": "flex",
       "flex_flow": "row",
       "grid_auto_columns": "True",
       "justify_content": "flex-start",
       "width": "80%"
      }
     },
     "4dbff7533a1d4315a021318e248a6fba": {
      "model_module": "ipysheet",
      "model_module_version": "~0.4.4",
      "model_name": "CellRangeModel",
      "state": {
       "_view_module": null,
       "_view_module_version": "",
       "choice": [],
       "column_end": 2,
       "column_start": 2,
       "numeric_format": null,
       "row_end": 3,
       "row_start": 0,
       "squeeze_row": false,
       "type": "text",
       "value": [
        "any",
        "<class 'list'>",
        "<class 'NoneType'>",
        "<class 'NoneType'>"
       ]
      }
     },
     "4dc8b20eca0b493ea4ea72691215042c": {
      "model_module": "@jupyter-widgets/base",
      "model_module_version": "1.2.0",
      "model_name": "LayoutModel",
      "state": {
       "align_items": "stretch",
       "display": "flex",
       "flex_flow": "row",
       "grid_auto_columns": "True",
       "justify_content": "flex-start",
       "width": "80%"
      }
     },
     "4ddd31f4b29a4fa8aac7ea5bc9c6ff91": {
      "model_module": "@jupyter-widgets/base",
      "model_module_version": "1.2.0",
      "model_name": "LayoutModel",
      "state": {}
     },
     "4ddea81a839f4b389b63974fa5cdf297": {
      "model_module": "@jupyter-widgets/controls",
      "model_module_version": "1.5.0",
      "model_name": "ToggleButtonModel",
      "state": {
       "layout": "IPY_MODEL_37e7b79216c34eb48296757493b59596",
       "style": "IPY_MODEL_ac4b39090ade4ee198b568dbf914062c"
      }
     },
     "4e1421b04ff144d7a66c9bd83c9c2a6d": {
      "model_module": "@jupyter-widgets/controls",
      "model_module_version": "1.5.0",
      "model_name": "ButtonStyleModel",
      "state": {}
     },
     "4e15851e62f04eb88be7455ec9c5bc99": {
      "model_module": "@jupyter-widgets/controls",
      "model_module_version": "1.5.0",
      "model_name": "TextareaModel",
      "state": {
       "layout": "IPY_MODEL_56f7de08a54d4f1f92e5ce8e24b7bea3",
       "style": "IPY_MODEL_5ff4e60440f94c65bc3a7616c6ccbb9f",
       "value": "This is a very long text areas string that needs a bigger box to fit all of hte verbose nonsense"
      }
     },
     "4e260abb916e45f788c5d6abd00167ce": {
      "model_module": "@jupyter-widgets/controls",
      "model_module_version": "1.5.0",
      "model_name": "DescriptionStyleModel",
      "state": {
       "description_width": ""
      }
     },
     "4e88c2e9761e485f9d82752c207bd720": {
      "model_module": "@jupyter-widgets/controls",
      "model_module_version": "1.5.0",
      "model_name": "HBoxModel",
      "state": {
       "children": [
        "IPY_MODEL_3453e4d7a2d04503bb2e7ba30d5c8e5a",
        "IPY_MODEL_63b26b4191284839b06e441e373d2cae",
        "IPY_MODEL_9bc46d2daa52436085587e751d13bdb7"
       ],
       "layout": "IPY_MODEL_9ce36ba1d96242d38ea592df0fd5ed9d"
      }
     },
     "4e8a696092cf40f391156d16bf004b2c": {
      "model_module": "@jupyter-widgets/base",
      "model_module_version": "1.2.0",
      "model_name": "LayoutModel",
      "state": {}
     },
     "4eb9df6c01814ea491759bd897357f97": {
      "model_module": "@jupyter-widgets/controls",
      "model_module_version": "1.5.0",
      "model_name": "DescriptionStyleModel",
      "state": {
       "description_width": ""
      }
     },
     "4ecc3e1cb64f4c5aa032d454de12f9b6": {
      "model_module": "@jupyter-widgets/base",
      "model_module_version": "1.2.0",
      "model_name": "LayoutModel",
      "state": {
       "align_items": "stretch",
       "border": "dashed 0.2px green",
       "display": "flex",
       "flex_flow": "row",
       "grid_auto_columns": "True",
       "justify_content": "flex-start",
       "width": "100%"
      }
     },
     "4ecf40ff05604b0a80f13eea4f58bb09": {
      "model_module": "@jupyter-widgets/base",
      "model_module_version": "1.2.0",
      "model_name": "LayoutModel",
      "state": {}
     },
     "4ef10e7597ef4306aca5a15dd03552c5": {
      "model_module": "ipysheet",
      "model_module_version": "~0.4.4",
      "model_name": "CellRangeModel",
      "state": {
       "_view_module": null,
       "_view_module_version": "",
       "choice": [],
       "column_end": 4,
       "column_start": 4,
       "numeric_format": null,
       "row_end": 3,
       "row_start": 0,
       "squeeze_row": false,
       "type": "text",
       "value": [
        "<class 'bool'>",
        "<class 'NoneType'>",
        "<class 'NoneType'>",
        "<class 'NoneType'>"
       ]
      }
     },
     "4f0edb6a5592459eb347bfb4609ae62d": {
      "model_module": "@jupyter-widgets/output",
      "model_module_version": "1.0.0",
      "model_name": "OutputModel",
      "state": {
       "layout": "IPY_MODEL_a1e74b8d1bec419795067b0a301a0ac8"
      }
     },
     "4f119bb202a64dc38f9b053e2ecdb935": {
      "model_module": "@jupyter-widgets/output",
      "model_module_version": "1.0.0",
      "model_name": "OutputModel",
      "state": {
       "layout": "IPY_MODEL_275540f4aa71450da7080dc9b924618f"
      }
     },
     "4f356c425e044121809315b4b65dc60b": {
      "model_module": "@jupyter-widgets/base",
      "model_module_version": "1.2.0",
      "model_name": "LayoutModel",
      "state": {}
     },
     "4f47caefe47b4a4d9f920638f02c98d2": {
      "model_module": "@jupyter-widgets/controls",
      "model_module_version": "1.5.0",
      "model_name": "HBoxModel",
      "state": {
       "children": [
        "IPY_MODEL_d5e7a76528144a7fbeb787010feb1094",
        "IPY_MODEL_c936c7d9b11a4c60b415926f8785b56d"
       ],
       "layout": "IPY_MODEL_eddc4fdf411b463c93849a9e3f38ce6f"
      }
     },
     "4ffd67b311ec445d926f8042935e4a5b": {
      "model_module": "@jupyter-widgets/base",
      "model_module_version": "1.2.0",
      "model_name": "LayoutModel",
      "state": {
       "align_items": "stretch",
       "border": "dashed 0.2px green",
       "display": "flex",
       "flex_flow": "row",
       "grid_auto_columns": "True",
       "justify_content": "flex-start",
       "width": "100%"
      }
     },
     "4ffe20fdbc1b4dfdb47180cebdfb3557": {
      "model_module": "@jupyter-widgets/base",
      "model_module_version": "1.2.0",
      "model_name": "LayoutModel",
      "state": {
       "align_items": "stretch",
       "display": "flex",
       "flex_flow": "row",
       "grid_auto_columns": "True",
       "justify_content": "flex-start",
       "width": "80%"
      }
     },
     "5084b18562504cf69761ee9d2bcfe15a": {
      "model_module": "@jupyter-widgets/controls",
      "model_module_version": "1.5.0",
      "model_name": "CheckboxModel",
      "state": {
       "disabled": false,
       "layout": "IPY_MODEL_a702f2bf86e0492688377839731ac2c0",
       "style": "IPY_MODEL_4da4b2eca5ca4a57876298ca200169e4",
       "value": false
      }
     },
     "50be814a5e4c48608c0c8f466e5f6f2f": {
      "model_module": "@jupyter-widgets/controls",
      "model_module_version": "1.5.0",
      "model_name": "HBoxModel",
      "state": {
       "children": [
        "IPY_MODEL_90b517c9b9ec4d89bae69c143632d84d",
        "IPY_MODEL_cfae6d022cfe44d58a974d36ab0b0e2b"
       ],
       "layout": "IPY_MODEL_19fb8d4857e6432685f81947cf442da0"
      }
     },
     "51024da5b60e441cb7f1e1e68d17d63e": {
      "model_module": "@jupyter-widgets/controls",
      "model_module_version": "1.5.0",
      "model_name": "DescriptionStyleModel",
      "state": {
       "description_width": ""
      }
     },
     "51464aaf7bb345adb00a60e9cd57d8e7": {
      "model_module": "@jupyter-widgets/controls",
      "model_module_version": "1.5.0",
      "model_name": "HBoxModel",
      "state": {
       "children": [
        "IPY_MODEL_24a674c7522c4bb9a1c4b4ef89f3d036",
        "IPY_MODEL_906e3947cfa94b9ea20567850243b621"
       ],
       "layout": "IPY_MODEL_4c3da7315def4267912e7d2ec1c5f8b1"
      }
     },
     "51508c879d6944cca7569c8e343850bf": {
      "model_module": "@jupyter-widgets/base",
      "model_module_version": "1.2.0",
      "model_name": "LayoutModel",
      "state": {}
     },
     "517ed3cb83c94306bbbe9a23d72409ae": {
      "model_module": "@jupyter-widgets/controls",
      "model_module_version": "1.5.0",
      "model_name": "ToggleButtonModel",
      "state": {
       "icon": "arrow-down",
       "layout": "IPY_MODEL_580290d498354a91bae69d21950f93cb",
       "style": "IPY_MODEL_bf649b04c1314516a84b5fcefcff2fb0"
      }
     },
     "5181210d323247c1ba1a6f80a7d2f90b": {
      "model_module": "@jupyter-widgets/base",
      "model_module_version": "1.2.0",
      "model_name": "LayoutModel",
      "state": {}
     },
     "51cf63f9641b4d059743d111a8e848e0": {
      "model_module": "@jupyter-widgets/controls",
      "model_module_version": "1.5.0",
      "model_name": "HBoxModel",
      "state": {
       "children": [
        "IPY_MODEL_78ff642a6050493b8fdb5f76027701a2",
        "IPY_MODEL_a500f684b93045178f5dc3e338233f39"
       ],
       "layout": "IPY_MODEL_f37a28f4e946416f830e945a8e652087"
      }
     },
     "51f35a0bf8554a19aeeed5f952fd031d": {
      "model_module": "@jupyter-widgets/output",
      "model_module_version": "1.0.0",
      "model_name": "OutputModel",
      "state": {
       "layout": "IPY_MODEL_4511199a8ef944e39fbe90fff7f7f8ae"
      }
     },
     "52069df94d6049049e52bf4dbc93ea67": {
      "model_module": "@jupyter-widgets/base",
      "model_module_version": "1.2.0",
      "model_name": "LayoutModel",
      "state": {}
     },
     "524c3e2a54ea4e989a02b82bd70e16bc": {
      "model_module": "@jupyter-widgets/controls",
      "model_module_version": "1.5.0",
      "model_name": "VBoxModel",
      "state": {
       "children": [
        "IPY_MODEL_d952a838464244dcb6ef5609274131ad",
        "IPY_MODEL_dc263532c9664143b16d1f12ed5d00e6"
       ],
       "layout": "IPY_MODEL_da8fe3bb0ef145c19c35a9606b673ea2"
      }
     },
     "5254abab65f9405eb3a4c26ab385b129": {
      "model_module": "@jupyter-widgets/base",
      "model_module_version": "1.2.0",
      "model_name": "LayoutModel",
      "state": {}
     },
     "526a6429ff7d46978e25bbe3099e9d97": {
      "model_module": "@jupyter-widgets/controls",
      "model_module_version": "1.5.0",
      "model_name": "HBoxModel",
      "state": {
       "children": [
        "IPY_MODEL_85f40027e2564172b7a8cd1fb3200753"
       ],
       "layout": "IPY_MODEL_f92a97c63e0f48f789d707bf667e92c9"
      }
     },
     "5275365b897e4c9b98ef2dec0b83c991": {
      "model_module": "@jupyter-widgets/output",
      "model_module_version": "1.0.0",
      "model_name": "OutputModel",
      "state": {
       "layout": "IPY_MODEL_bbeb10bedef348dd97dd7f8cc0e9dd73"
      }
     },
     "52ee8cedf5c54710b405c5b82c0c394f": {
      "model_module": "@jupyter-widgets/controls",
      "model_module_version": "1.5.0",
      "model_name": "HBoxModel",
      "state": {
       "children": [
        "IPY_MODEL_2df82f77ca0147849038dbecf5bd1f40",
        "IPY_MODEL_d7b4bb64dde0427f911deb20f6e1aa4a"
       ],
       "layout": "IPY_MODEL_ebba701b4e8e4549ae5e1ed90a4a616a"
      }
     },
     "53034f905a7e419fbc7aefe1b9a2211f": {
      "model_module": "@jupyter-widgets/controls",
      "model_module_version": "1.5.0",
      "model_name": "DescriptionStyleModel",
      "state": {
       "description_width": ""
      }
     },
     "53a1ed0b55a148bda55110b71f7f8ee5": {
      "model_module": "@jupyter-widgets/base",
      "model_module_version": "1.2.0",
      "model_name": "LayoutModel",
      "state": {
       "align_items": "stretch",
       "display": "flex",
       "flex_flow": "row",
       "grid_auto_columns": "True",
       "justify_content": "flex-start",
       "width": "80%"
      }
     },
     "541099275baa4e9ebc15670c86f9a01f": {
      "model_module": "@jupyter-widgets/controls",
      "model_module_version": "1.5.0",
      "model_name": "DescriptionStyleModel",
      "state": {
       "description_width": ""
      }
     },
     "5418f0ad898d4d2fa7168209f6c3f633": {
      "model_module": "@jupyter-widgets/base",
      "model_module_version": "1.2.0",
      "model_name": "LayoutModel",
      "state": {
       "align_items": "stretch",
       "display": "flex",
       "flex_flow": "row",
       "grid_auto_columns": "True",
       "justify_content": "flex-end",
       "width": "90%"
      }
     },
     "547224283beb4c9fa29d4a50755b832d": {
      "model_module": "@jupyter-widgets/controls",
      "model_module_version": "1.5.0",
      "model_name": "HTMLModel",
      "state": {
       "layout": "IPY_MODEL_b1a3788a73494cb994c4b7303f160b7f",
       "style": "IPY_MODEL_38c71a3ab1fa4aeb8957ec9c81248f9a",
       "value": "<p>fus foo ous o</p>"
      }
     },
     "54c0aceaa14544d5b6b1d1f887c5654d": {
      "model_module": "@jupyter-widgets/controls",
      "model_module_version": "1.5.0",
      "model_name": "HTMLModel",
      "state": {
       "layout": "IPY_MODEL_74d2cb74d9414c578a42dd898c3df652",
       "style": "IPY_MODEL_7515b801bfb64d8a916019b8ab8b73eb",
       "value": "<p>its a foo cake</p>"
      }
     },
     "55102409d32d435e8a22f695d08b0825": {
      "model_module": "@jupyter-widgets/base",
      "model_module_version": "1.2.0",
      "model_name": "LayoutModel",
      "state": {
       "align_items": "stretch",
       "border": "dashed 0.2px green",
       "display": "flex",
       "flex_flow": "row",
       "grid_auto_columns": "True",
       "justify_content": "flex-start",
       "width": "100%"
      }
     },
     "557e6903285b47e0a57493137f52fb83": {
      "model_module": "@jupyter-widgets/base",
      "model_module_version": "1.2.0",
      "model_name": "LayoutModel",
      "state": {
       "align_items": "stretch",
       "display": "flex",
       "flex_flow": "row",
       "grid_auto_columns": "True",
       "justify_content": "flex-start",
       "width": "80%"
      }
     },
     "55a3d40300fd4d05a4d965117e0eea30": {
      "model_module": "@jupyter-widgets/controls",
      "model_module_version": "1.5.0",
      "model_name": "HBoxModel",
      "state": {
       "children": [
        "IPY_MODEL_269af6a556ad44e1b8e2b04448b5730e",
        "IPY_MODEL_95da3e1edc9a41c3b207286d0f9ac6ab"
       ],
       "layout": "IPY_MODEL_bfeed18de9364b3292ce1fb9143264bd"
      }
     },
     "55eeb3600a784cdb83709933b84326db": {
      "model_module": "@jupyter-widgets/controls",
      "model_module_version": "1.5.0",
      "model_name": "HBoxModel",
      "state": {
       "children": [
        "IPY_MODEL_c590ea6a887b491f9a28bc14ccd83643"
       ],
       "layout": "IPY_MODEL_7050a5766690441da739513336f4e906"
      }
     },
     "560f4a9064474d9594554d21805b2c61": {
      "model_module": "@jupyter-widgets/controls",
      "model_module_version": "1.5.0",
      "model_name": "HBoxModel",
      "state": {
       "children": [
        "IPY_MODEL_4ddea81a839f4b389b63974fa5cdf297",
        "IPY_MODEL_99482f2924754d4d9d542a6b840ea42a"
       ],
       "layout": "IPY_MODEL_7d6fef0d97574024a04ab22952eb395d"
      }
     },
     "5638f3efc71b4b1c9d070dc12cc5c024": {
      "model_module": "@jupyter-widgets/controls",
      "model_module_version": "1.5.0",
      "model_name": "HBoxModel",
      "state": {
       "children": [
        "IPY_MODEL_fde10c70d3244b6a83d33d8f5d8613ce",
        "IPY_MODEL_01eb26e33e0449e2a1d686fd66192c20"
       ],
       "layout": "IPY_MODEL_9e2df18ace9d487182815026067e1385"
      }
     },
     "5694b29b74af4b9fb6a3d63a70edf1e9": {
      "model_module": "@jupyter-widgets/base",
      "model_module_version": "1.2.0",
      "model_name": "LayoutModel",
      "state": {}
     },
     "56f7de08a54d4f1f92e5ce8e24b7bea3": {
      "model_module": "@jupyter-widgets/base",
      "model_module_version": "1.2.0",
      "model_name": "LayoutModel",
      "state": {}
     },
     "57379f0d33184c01a62552923f075bcc": {
      "model_module": "@jupyter-widgets/controls",
      "model_module_version": "1.5.0",
      "model_name": "DescriptionStyleModel",
      "state": {
       "description_width": ""
      }
     },
     "576e2f5fc7f843978330e3c24fff56ee": {
      "model_module": "@jupyter-widgets/base",
      "model_module_version": "1.2.0",
      "model_name": "LayoutModel",
      "state": {
       "align_items": "stretch",
       "border": "dashed 0.2px green",
       "display": "flex",
       "flex_flow": "row",
       "grid_auto_columns": "True",
       "justify_content": "flex-start",
       "width": "100%"
      }
     },
     "5780b186dc394430aba7e86684c4fbc2": {
      "model_module": "@jupyter-widgets/base",
      "model_module_version": "1.2.0",
      "model_name": "LayoutModel",
      "state": {
       "align_items": "stretch",
       "display": "flex",
       "flex_flow": "row",
       "grid_auto_columns": "True",
       "justify_content": "flex-start",
       "width": "80%"
      }
     },
     "5784c15bd3a04f0da6da6ce20fce55b0": {
      "model_module": "@jupyter-widgets/controls",
      "model_module_version": "1.5.0",
      "model_name": "DescriptionStyleModel",
      "state": {
       "description_width": ""
      }
     },
     "57d5237be4ee4b0199ea898a9e74c2f5": {
      "model_module": "@jupyter-widgets/controls",
      "model_module_version": "1.5.0",
      "model_name": "DescriptionStyleModel",
      "state": {
       "description_width": ""
      }
     },
     "57e6f0b89490465e840f9d2a9e113374": {
      "model_module": "@jupyter-widgets/controls",
      "model_module_version": "1.5.0",
      "model_name": "DescriptionStyleModel",
      "state": {
       "description_width": ""
      }
     },
     "57e965f93e894bf68add8be496eec207": {
      "model_module": "@jupyter-widgets/base",
      "model_module_version": "1.2.0",
      "model_name": "LayoutModel",
      "state": {}
     },
     "580290d498354a91bae69d21950f93cb": {
      "model_module": "@jupyter-widgets/base",
      "model_module_version": "1.2.0",
      "model_name": "LayoutModel",
      "state": {}
     },
     "5812a66148f840bd8e80816a59f90f3b": {
      "model_module": "@jupyter-widgets/controls",
      "model_module_version": "1.5.0",
      "model_name": "HTMLModel",
      "state": {
       "layout": "IPY_MODEL_e9423f0464754a8aa6f45606a988011f",
       "style": "IPY_MODEL_7dd21efbf0ea4a09a43ceeb6c0c9cdfb",
       "value": "<p>fpth_in</p>"
      }
     },
     "584b0d351f3e4915a854560120111396": {
      "model_module": "@jupyter-widgets/base",
      "model_module_version": "1.2.0",
      "model_name": "LayoutModel",
      "state": {
       "align_items": "stretch",
       "display": "flex",
       "flex_flow": "row",
       "grid_auto_columns": "True",
       "justify_content": "flex-start",
       "width": "80%"
      }
     },
     "587eb00c980742b7a8606c71eb5d41c9": {
      "model_module": "@jupyter-widgets/base",
      "model_module_version": "1.2.0",
      "model_name": "LayoutModel",
      "state": {
       "align_items": "stretch",
       "display": "flex",
       "flex_flow": "row",
       "grid_auto_columns": "True",
       "justify_content": "flex-start",
       "width": "80%"
      }
     },
     "589225ec5a694fe7a86781bd38ae42cf": {
      "model_module": "@jupyter-widgets/base",
      "model_module_version": "1.2.0",
      "model_name": "LayoutModel",
      "state": {}
     },
     "58bfdc59bbc34d27b519a6d10fa083a9": {
      "model_module": "@jupyter-widgets/base",
      "model_module_version": "1.2.0",
      "model_name": "LayoutModel",
      "state": {}
     },
     "59118c80d42147a1a15cab4bc4ec2d41": {
      "model_module": "@jupyter-widgets/base",
      "model_module_version": "1.2.0",
      "model_name": "LayoutModel",
      "state": {
       "align_items": "stretch",
       "display": "flex",
       "flex_flow": "row",
       "grid_auto_columns": "True",
       "justify_content": "flex-start",
       "width": "80%"
      }
     },
     "593ae57470c1481fa9badcc714ae1c60": {
      "model_module": "@jupyter-widgets/base",
      "model_module_version": "1.2.0",
      "model_name": "LayoutModel",
      "state": {}
     },
     "59724e5ebcda493c865156581ac53c8a": {
      "model_module": "@jupyter-widgets/controls",
      "model_module_version": "1.5.0",
      "model_name": "HBoxModel",
      "state": {
       "children": [
        "IPY_MODEL_d48f6ed7dc8048ebac9ee40c52d0702c",
        "IPY_MODEL_e0c4cb8e72fe4cce9dbc9b2841eec60f"
       ],
       "layout": "IPY_MODEL_19a3e6fa35d0471f8dde1b339aa406c9"
      }
     },
     "59a94cfdf975443db0ce87bd5c107230": {
      "model_module": "@jupyter-widgets/base",
      "model_module_version": "1.2.0",
      "model_name": "LayoutModel",
      "state": {}
     },
     "59c17fb21a6645b1b10bb70adc23f802": {
      "model_module": "@jupyter-widgets/base",
      "model_module_version": "1.2.0",
      "model_name": "LayoutModel",
      "state": {}
     },
     "59db7f5ca29c44f68b2d645295aa1467": {
      "model_module": "@jupyter-widgets/controls",
      "model_module_version": "1.5.0",
      "model_name": "HBoxModel",
      "state": {
       "children": [
        "IPY_MODEL_b1ccbc9a77554ea9b6ca038c744dfd0a"
       ],
       "layout": "IPY_MODEL_c03a5e7f99164a169e80c9b08469b4dc"
      }
     },
     "5a28aad1529f4ad78c7dfd4ce3bc2890": {
      "model_module": "@jupyter-widgets/controls",
      "model_module_version": "1.5.0",
      "model_name": "VBoxModel",
      "state": {
       "children": [
        "IPY_MODEL_6ff3d4c342e941a3820ab262a83cca34",
        "IPY_MODEL_9313dc1c29c449708dd0a80edda4af1d",
        "IPY_MODEL_f32ab56f2b6e4c828f25792c701df4a2",
        "IPY_MODEL_a89a219c37c94a3aa9c56741fd210049",
        "IPY_MODEL_59db7f5ca29c44f68b2d645295aa1467"
       ],
       "layout": "IPY_MODEL_0d8107724e6047b2a888595c6aed7159"
      }
     },
     "5a2ee7e0faec4ac2a734e733bd764a9d": {
      "model_module": "@jupyter-widgets/base",
      "model_module_version": "1.2.0",
      "model_name": "LayoutModel",
      "state": {}
     },
     "5a32f18fe875461c9e4a7c6275957043": {
      "model_module": "@jupyter-widgets/controls",
      "model_module_version": "1.5.0",
      "model_name": "HBoxModel",
      "state": {
       "children": [
        "IPY_MODEL_a317286748cd4938ae810d06f122a998",
        "IPY_MODEL_6b00691a263f48ae886d83ae0a3c1702"
       ],
       "layout": "IPY_MODEL_afb839e59eab42e0b38adc38fa501113"
      }
     },
     "5a42139caf5e4b15955e5b6d00c089e4": {
      "model_module": "@jupyter-widgets/base",
      "model_module_version": "1.2.0",
      "model_name": "LayoutModel",
      "state": {}
     },
     "5a482dd8269249bda6a468297ce2e37e": {
      "model_module": "@jupyter-widgets/controls",
      "model_module_version": "1.5.0",
      "model_name": "FloatTextModel",
      "state": {
       "layout": "IPY_MODEL_29eceb7a60494eb383925e0ebbca098e",
       "step": null,
       "style": "IPY_MODEL_070cf78b8ec44201b59b50bd38f47f0d",
       "value": 9
      }
     },
     "5a494f1df577488ab3a942c36d5fcd6c": {
      "model_module": "@jupyter-widgets/base",
      "model_module_version": "1.2.0",
      "model_name": "LayoutModel",
      "state": {
       "display": "flex",
       "flex_flow": "row",
       "grid_auto_columns": "False",
       "justify_content": "flex-start",
       "width": "100%"
      }
     },
     "5a8828c3d7854ffb99340986a7e6cc07": {
      "model_module": "@jupyter-widgets/controls",
      "model_module_version": "1.5.0",
      "model_name": "DescriptionStyleModel",
      "state": {
       "description_width": ""
      }
     },
     "5afb5228a6e84e22b1c7a93ead93e9a7": {
      "model_module": "@jupyter-widgets/base",
      "model_module_version": "1.2.0",
      "model_name": "LayoutModel",
      "state": {
       "align_items": "stretch",
       "display": "flex",
       "flex_flow": "row",
       "grid_auto_columns": "True",
       "justify_content": "flex-end",
       "width": "90%"
      }
     },
     "5b3eb3e300174dfeb38b0181af4a72f4": {
      "model_module": "@jupyter-widgets/controls",
      "model_module_version": "1.5.0",
      "model_name": "HBoxModel",
      "state": {
       "children": [
        "IPY_MODEL_9b1fe18fd4a3497c9ad99485107b7abb",
        "IPY_MODEL_a405bdc5c3e341e39befc1355d1ae128"
       ],
       "layout": "IPY_MODEL_46b777a6fa884ea4891a91d4e02bdee5"
      }
     },
     "5b3f32ad41c14989a124b32ff69e1e17": {
      "model_module": "@jupyter-widgets/controls",
      "model_module_version": "1.5.0",
      "model_name": "HBoxModel",
      "state": {
       "children": [
        "IPY_MODEL_69dccf7101b64d46a88d24dfe8d2c74d",
        "IPY_MODEL_873f2db5a0df4415b7273cb2dd01c184"
       ],
       "layout": "IPY_MODEL_a1a0f5053f0a440f8c7aa00e92c3057e"
      }
     },
     "5b8dd128e7aa4f1a8797f5dd4edbeaf8": {
      "model_module": "@jupyter-widgets/base",
      "model_module_version": "1.2.0",
      "model_name": "LayoutModel",
      "state": {}
     },
     "5be94f85ec1a4e45bb3e32256e7c9ac4": {
      "model_module": "@jupyter-widgets/controls",
      "model_module_version": "1.5.0",
      "model_name": "TextareaModel",
      "state": {
       "layout": "IPY_MODEL_4e8a696092cf40f391156d16bf004b2c",
       "style": "IPY_MODEL_14c3775ee39044168b89f24e14297655",
       "value": "This is a very long text areas string that needs a bigger box to fit all of hte verbose nonsense"
      }
     },
     "5bf4c6ec2ce74b7d947383ad4267dd1f": {
      "model_module": "@jupyter-widgets/controls",
      "model_module_version": "1.5.0",
      "model_name": "FloatSliderModel",
      "state": {
       "layout": "IPY_MODEL_5254abab65f9405eb3a4c26ab385b129",
       "max": 10,
       "style": "IPY_MODEL_a97dc5ca86fc4d558d0e0bc995aa1a3d",
       "value": 1
      }
     },
     "5c5e3da91a42485b9829b8371f421f7b": {
      "model_module": "@jupyter-widgets/base",
      "model_module_version": "1.2.0",
      "model_name": "LayoutModel",
      "state": {}
     },
     "5c67e821ad1840fe9a0ab19d7b771c47": {
      "model_module": "@jupyter-widgets/controls",
      "model_module_version": "1.5.0",
      "model_name": "HTMLModel",
      "state": {
       "layout": "IPY_MODEL_48e340d83d744d4c8a4bfbe6edacfdcf",
       "style": "IPY_MODEL_e6c4a5ebb3004d25887caa14626a1b8f",
       "value": "<p>label</p>"
      }
     },
     "5cab38e998e14a52a25ab2189c4b90fc": {
      "model_module": "@jupyter-widgets/controls",
      "model_module_version": "1.5.0",
      "model_name": "HBoxModel",
      "state": {
       "children": [
        "IPY_MODEL_7e7cb6588569422083b904badd53048c",
        "IPY_MODEL_c3d65a4ffd2a439eb291da58b6b207b0"
       ],
       "layout": "IPY_MODEL_787563bdc641445c9f3e608a84edef05"
      }
     },
     "5cc98c1a41e54952a503ab43de0c9cfe": {
      "model_module": "@jupyter-widgets/controls",
      "model_module_version": "1.5.0",
      "model_name": "HTMLModel",
      "state": {
       "layout": "IPY_MODEL_f77683dd61b34b018cc8c6180524ddf9",
       "style": "IPY_MODEL_57379f0d33184c01a62552923f075bcc",
       "value": "<p>fus foo ous o</p>"
      }
     },
     "5ccce83d23ec43539590eca394b9224d": {
      "model_module": "@jupyter-widgets/base",
      "model_module_version": "1.2.0",
      "model_name": "LayoutModel",
      "state": {}
     },
     "5ce1d00c25c2403caed40f508c078462": {
      "model_module": "@jupyter-widgets/controls",
      "model_module_version": "1.5.0",
      "model_name": "ButtonStyleModel",
      "state": {
       "font_weight": "bold"
      }
     },
     "5cebd818c5184c53af02ca949ca06a0f": {
      "model_module": "@jupyter-widgets/controls",
      "model_module_version": "1.5.0",
      "model_name": "HBoxModel",
      "state": {
       "children": [
        "IPY_MODEL_f63230aa796744e98a7b6ea30b067ec4",
        "IPY_MODEL_b67ac3b5e9dc4c0ebb1fc474b8b49169"
       ],
       "layout": "IPY_MODEL_994404a660a74ceeb06a5b7eb77a6c81"
      }
     },
     "5d64c49ad0854371bfd4a3b879b32c52": {
      "model_module": "@jupyter-widgets/controls",
      "model_module_version": "1.5.0",
      "model_name": "HBoxModel",
      "state": {
       "children": [
        "IPY_MODEL_3a8613e04bdd47cb9f6b172a7cebf0b3"
       ],
       "layout": "IPY_MODEL_4ecc3e1cb64f4c5aa032d454de12f9b6"
      }
     },
     "5d6ea20ca7fc493fa1eba6ee2d4e28b6": {
      "model_module": "@jupyter-widgets/controls",
      "model_module_version": "1.5.0",
      "model_name": "FloatSliderModel",
      "state": {
       "layout": "IPY_MODEL_f253297f61ce42f38132aaf0096a2b38",
       "max": 10,
       "style": "IPY_MODEL_5feb218f43844256bc28a10e37954444",
       "value": 10
      }
     },
     "5db745661a86411f8ab0f354827990c9": {
      "model_module": "@jupyter-widgets/controls",
      "model_module_version": "1.5.0",
      "model_name": "HBoxModel",
      "state": {
       "children": [
        "IPY_MODEL_2ef2bf3387e04fa6813ea1db455d495f",
        "IPY_MODEL_9ce766701ab64887a6fca53fc8eecf25"
       ],
       "layout": "IPY_MODEL_d47754b8b28547958c58fa2ec5f9b745"
      }
     },
     "5e2875ecf04843608c0fb92613ab60c3": {
      "model_module": "@jupyter-widgets/controls",
      "model_module_version": "1.5.0",
      "model_name": "HBoxModel",
      "state": {
       "children": [
        "IPY_MODEL_dd918d2297e84372a524e1ccae4dd9ef",
        "IPY_MODEL_6f9dd253ea0f49f2a9f30325708ebda2"
       ],
       "layout": "IPY_MODEL_1b8547dfae4a4edc8c95cda5aa3e7d29"
      }
     },
     "5e95e32478094a5fa884f00ba2bd09f7": {
      "model_module": "@jupyter-widgets/controls",
      "model_module_version": "1.5.0",
      "model_name": "HTMLModel",
      "state": {
       "layout": "IPY_MODEL_0fdf0854650047599a4d308ac3057b0b",
       "style": "IPY_MODEL_950106f829384271bb92f402d2752bfe",
       "value": "<p>its a delicious foo cake</p>"
      }
     },
     "5ea08b9918ca4068bbd1451ae8aae646": {
      "model_module": "@jupyter-widgets/controls",
      "model_module_version": "1.5.0",
      "model_name": "DescriptionStyleModel",
      "state": {
       "description_width": ""
      }
     },
     "5ea90e396880484984060260ff88b562": {
      "model_module": "@jupyter-widgets/base",
      "model_module_version": "1.2.0",
      "model_name": "LayoutModel",
      "state": {}
     },
     "5eb4d3449dda428ea72747e8a1a443a1": {
      "model_module": "@jupyter-widgets/controls",
      "model_module_version": "1.5.0",
      "model_name": "DescriptionStyleModel",
      "state": {
       "description_width": ""
      }
     },
     "5ef8db5469184002a6b1d6cc860e6173": {
      "model_module": "@jupyter-widgets/base",
      "model_module_version": "1.2.0",
      "model_name": "LayoutModel",
      "state": {
       "align_items": "stretch",
       "border": "dashed 0.2px green",
       "display": "flex",
       "flex_flow": "row",
       "grid_auto_columns": "True",
       "justify_content": "flex-start",
       "width": "100%"
      }
     },
     "5fc65e60e73f43738b00edf76b57648a": {
      "model_module": "@jupyter-widgets/controls",
      "model_module_version": "1.5.0",
      "model_name": "HBoxModel",
      "state": {
       "children": [
        "IPY_MODEL_5bf4c6ec2ce74b7d947383ad4267dd1f",
        "IPY_MODEL_86318cab59584c7db03247c88643d04d"
       ],
       "layout": "IPY_MODEL_3935d8053dc24a4795f09a4b9c7683db"
      }
     },
     "5feb218f43844256bc28a10e37954444": {
      "model_module": "@jupyter-widgets/controls",
      "model_module_version": "1.5.0",
      "model_name": "SliderStyleModel",
      "state": {
       "description_width": ""
      }
     },
     "5ff4e60440f94c65bc3a7616c6ccbb9f": {
      "model_module": "@jupyter-widgets/controls",
      "model_module_version": "1.5.0",
      "model_name": "DescriptionStyleModel",
      "state": {
       "description_width": ""
      }
     },
     "6131a64422ff4c6ebf2b79704fa1b67e": {
      "model_module": "@jupyter-widgets/controls",
      "model_module_version": "1.5.0",
      "model_name": "CheckboxModel",
      "state": {
       "disabled": false,
       "layout": "IPY_MODEL_7eed9d8bb4084244863966480f702efc",
       "style": "IPY_MODEL_c0b08b63b28d4cfeb1e876eec5c466ba",
       "value": true
      }
     },
     "613a2b20c9d44805993b4697861eccac": {
      "model_module": "@jupyter-widgets/controls",
      "model_module_version": "1.5.0",
      "model_name": "HBoxModel",
      "state": {
       "children": [
        "IPY_MODEL_a27566d4c00f449f9b584a3e56e756cc"
       ],
       "layout": "IPY_MODEL_96fc959cc5a24fd5a79151f63a00d678"
      }
     },
     "613c401e81ea4e939287c3a3d71ca1ac": {
      "model_module": "@jupyter-widgets/controls",
      "model_module_version": "1.5.0",
      "model_name": "DescriptionStyleModel",
      "state": {
       "description_width": ""
      }
     },
     "616575337b694691822ddce9c46f6f8b": {
      "model_module": "@jupyter-widgets/base",
      "model_module_version": "1.2.0",
      "model_name": "LayoutModel",
      "state": {
       "align_items": "stretch",
       "display": "flex",
       "flex_flow": "row",
       "grid_auto_columns": "True",
       "justify_content": "flex-start",
       "width": "80%"
      }
     },
     "61d020fdfaab48aca833ebc41c57e7a7": {
      "model_module": "@jupyter-widgets/controls",
      "model_module_version": "1.5.0",
      "model_name": "HTMLModel",
      "state": {
       "layout": "IPY_MODEL_d0e080eeea0341f7bf75bb587c1403fa",
       "style": "IPY_MODEL_66ed6c55c62e4e03b338f5440c0b7d73",
       "value": "<p>its a foo cake</p>"
      }
     },
     "624bc256e30b4f2b980519377daf8c61": {
      "model_module": "@jupyter-widgets/controls",
      "model_module_version": "1.5.0",
      "model_name": "TextareaModel",
      "state": {
       "layout": "IPY_MODEL_ebded6953c174db7b9e693f79ecfef6a",
       "style": "IPY_MODEL_4483d4faf1cd41519cb6e2d12cf67503",
       "value": "asdfasdf"
      }
     },
     "627af741b72d4144ab94d5c0ff0eb5f7": {
      "model_module": "@jupyter-widgets/base",
      "model_module_version": "1.2.0",
      "model_name": "LayoutModel",
      "state": {}
     },
     "627d4c1c93df4989b0d1020e3756a0ec": {
      "model_module": "@jupyter-widgets/controls",
      "model_module_version": "1.5.0",
      "model_name": "HBoxModel",
      "state": {
       "children": [
        "IPY_MODEL_a42da9ae552d444a8d466f63b44fd162"
       ],
       "layout": "IPY_MODEL_1464665cbd21476f8bd1d0e838adb540"
      }
     },
     "62c8728ff650418daea1d454caefe9ba": {
      "model_module": "@jupyter-widgets/output",
      "model_module_version": "1.0.0",
      "model_name": "OutputModel",
      "state": {
       "layout": "IPY_MODEL_34d02a91c1db4c98b97174e3e0a458d1"
      }
     },
     "62cbae0ba6b64d6e999d0a445e648875": {
      "model_module": "@jupyter-widgets/controls",
      "model_module_version": "1.5.0",
      "model_name": "HTMLModel",
      "state": {
       "layout": "IPY_MODEL_7f59a031df8642aba1fe5823ed18b151",
       "style": "IPY_MODEL_4d6e85e22bb4425d957691b0306b3084",
       "value": "<p>its a foo cake</p>"
      }
     },
     "6331b56e41e04027bb81911e7cb2f03d": {
      "model_module": "@jupyter-widgets/controls",
      "model_module_version": "1.5.0",
      "model_name": "HBoxModel",
      "state": {
       "children": [
        "IPY_MODEL_91a3e96bb8a24e54b520f7acf7ebb5b0",
        "IPY_MODEL_b7415cf92e4c44ebb6e2442250aa0709"
       ],
       "layout": "IPY_MODEL_259e1aa049f747b7ab859fbad2366886"
      }
     },
     "633e1ff4a376484699594b086168be94": {
      "model_module": "@jupyter-widgets/controls",
      "model_module_version": "1.5.0",
      "model_name": "CheckboxModel",
      "state": {
       "disabled": false,
       "layout": "IPY_MODEL_374cb2000fbe4a7b965bf057078876b4",
       "style": "IPY_MODEL_9335fc26519040459bacc0da8b11d9b3",
       "value": false
      }
     },
     "63b26b4191284839b06e441e373d2cae": {
      "model_module": "@jupyter-widgets/controls",
      "model_module_version": "1.5.0",
      "model_name": "ButtonModel",
      "state": {
       "button_style": "warning",
       "description": "revert to last save",
       "layout": "IPY_MODEL_ddfcfd73e08b43e082ab6384ab827a28",
       "style": "IPY_MODEL_cf32b4b4a48149979c56351810e446a8"
      }
     },
     "63c31d1687f8471db3af64dfeb580dcb": {
      "model_module": "@jupyter-widgets/controls",
      "model_module_version": "1.5.0",
      "model_name": "DescriptionStyleModel",
      "state": {
       "description_width": ""
      }
     },
     "63c3fa42810f4f6da38b3e694644747e": {
      "model_module": "@jupyter-widgets/controls",
      "model_module_version": "1.5.0",
      "model_name": "DescriptionStyleModel",
      "state": {
       "description_width": ""
      }
     },
     "63c86d2bed7e44edaa849b9647719d85": {
      "model_module": "ipysheet",
      "model_module_version": "~0.4.4",
      "model_name": "CellRangeModel",
      "state": {
       "_view_module": null,
       "_view_module_version": "",
       "choice": [],
       "column_end": 0,
       "column_start": 0,
       "numeric_format": null,
       "row_end": 3,
       "row_start": 0,
       "squeeze_row": false,
       "type": "text",
       "value": [
        "<class 'float'>",
        "<class 'NoneType'>",
        "<class 'NoneType'>",
        "<class 'NoneType'>"
       ]
      }
     },
     "640edabedbec49989c0690e26069ffc5": {
      "model_module": "@jupyter-widgets/base",
      "model_module_version": "1.2.0",
      "model_name": "LayoutModel",
      "state": {}
     },
     "6439247b2e354a5e9d0ec1874adaca87": {
      "model_module": "@jupyter-widgets/controls",
      "model_module_version": "1.5.0",
      "model_name": "HBoxModel",
      "state": {
       "children": [
        "IPY_MODEL_fc5eff2106d142fb862a2799ab8f4c3d",
        "IPY_MODEL_3d8ee2ddbb4d4243813034efd854cf25"
       ],
       "layout": "IPY_MODEL_1bc3a37c9a7947d09053cb83cd1ab4d3"
      }
     },
     "6448d5059df04bc4be0351aaa1178c8c": {
      "model_module": "@jupyter-widgets/base",
      "model_module_version": "1.2.0",
      "model_name": "LayoutModel",
      "state": {}
     },
     "6464a844bb4d439ba72fa6eaab10d1b8": {
      "model_module": "@jupyter-widgets/base",
      "model_module_version": "1.2.0",
      "model_name": "LayoutModel",
      "state": {}
     },
     "64a2e5ad30784a929835e1659ae4bbf0": {
      "model_module": "@jupyter-widgets/base",
      "model_module_version": "1.2.0",
      "model_name": "LayoutModel",
      "state": {}
     },
     "658ce983f9d04e5cbea26bc0d56587c5": {
      "model_module": "@jupyter-widgets/base",
      "model_module_version": "1.2.0",
      "model_name": "LayoutModel",
      "state": {}
     },
     "6595dc16effd4e14baabb9faeab0b743": {
      "model_module": "@jupyter-widgets/base",
      "model_module_version": "1.2.0",
      "model_name": "LayoutModel",
      "state": {
       "align_items": "stretch",
       "border": "dashed 0.2px green",
       "display": "flex",
       "flex_flow": "row",
       "grid_auto_columns": "True",
       "justify_content": "flex-start",
       "width": "100%"
      }
     },
     "6597a89591124986bb1fe29ae4ca30fe": {
      "model_module": "@jupyter-widgets/controls",
      "model_module_version": "1.5.0",
      "model_name": "HBoxModel",
      "state": {
       "children": [
        "IPY_MODEL_7504fec39faa4b9194c2901ffedccddb",
        "IPY_MODEL_d7895fe7ef1d4d36a54b601fecaab5ff"
       ],
       "layout": "IPY_MODEL_bf8e403cb45f4962b03a575ca24580ad"
      }
     },
     "65cb1be1e92d4e2784a93fed556489cd": {
      "model_module": "@jupyter-widgets/output",
      "model_module_version": "1.0.0",
      "model_name": "OutputModel",
      "state": {
       "layout": "IPY_MODEL_41e4889e9f9a458ab664b48bf3b21335"
      }
     },
     "6645af5f8fe34eff9ad5953b943f0974": {
      "model_module": "@jupyter-widgets/controls",
      "model_module_version": "1.5.0",
      "model_name": "DescriptionStyleModel",
      "state": {
       "description_width": ""
      }
     },
     "668f47df9387468d9927f128d873b3f8": {
      "model_module": "@jupyter-widgets/base",
      "model_module_version": "1.2.0",
      "model_name": "LayoutModel",
      "state": {}
     },
     "669abcb445074553a9db5356138bb3d6": {
      "model_module": "@jupyter-widgets/controls",
      "model_module_version": "1.5.0",
      "model_name": "ToggleButtonModel",
      "state": {
       "button_style": "info",
       "description": "inputs from file",
       "layout": "IPY_MODEL_de9d4c3ea3814a80b929a8979c41f58b",
       "style": "IPY_MODEL_802bfc1b14544a30b5c061b55405d0db"
      }
     },
     "66ab29255e724eb2939e4d729b8814c1": {
      "model_module": "@jupyter-widgets/controls",
      "model_module_version": "1.5.0",
      "model_name": "CheckboxModel",
      "state": {
       "disabled": false,
       "layout": "IPY_MODEL_8d4e6a26d9364afe9aae8bcdb14e2488",
       "style": "IPY_MODEL_c55d58fdd20448d281cf05ee187f5b89",
       "value": true
      }
     },
     "66be1aa9ccec4d1fad4c34ec3d3ed411": {
      "model_module": "@jupyter-widgets/output",
      "model_module_version": "1.0.0",
      "model_name": "OutputModel",
      "state": {
       "layout": "IPY_MODEL_64a2e5ad30784a929835e1659ae4bbf0"
      }
     },
     "66d49b4f63fb4555b227c8680ac75d90": {
      "model_module": "@jupyter-widgets/output",
      "model_module_version": "1.0.0",
      "model_name": "OutputModel",
      "state": {
       "layout": "IPY_MODEL_72d21676ba78472682b99ac1ab24d49b"
      }
     },
     "66ed6c55c62e4e03b338f5440c0b7d73": {
      "model_module": "@jupyter-widgets/controls",
      "model_module_version": "1.5.0",
      "model_name": "DescriptionStyleModel",
      "state": {
       "description_width": ""
      }
     },
     "66f7a81cdcea4307b7c237e9018de9e5": {
      "model_module": "@jupyter-widgets/controls",
      "model_module_version": "1.5.0",
      "model_name": "HBoxModel",
      "state": {
       "children": [
        "IPY_MODEL_37e2f581d0d44123bb964388b35913c2"
       ],
       "layout": "IPY_MODEL_6aa498ccb463481990f7b1add3a4c28d"
      }
     },
     "66f94889ea634623b47ff1d702cded2c": {
      "model_module": "@jupyter-widgets/controls",
      "model_module_version": "1.5.0",
      "model_name": "VBoxModel",
      "state": {
       "layout": "IPY_MODEL_b059f071c6ef4cf5958b98bed3a8e1a8"
      }
     },
     "674a851b065648fc998e979ea949878f": {
      "model_module": "@jupyter-widgets/base",
      "model_module_version": "1.2.0",
      "model_name": "LayoutModel",
      "state": {}
     },
     "6789952dcc2944f29e5af789235be5aa": {
      "model_module": "@jupyter-widgets/controls",
      "model_module_version": "1.5.0",
      "model_name": "HBoxModel",
      "state": {
       "children": [
        "IPY_MODEL_f29e6350c1d44ef7b43e99e022514178"
       ],
       "layout": "IPY_MODEL_a4bac7b8661547b289ee180add0e4e7e"
      }
     },
     "67b15fd1bbc44772ae39c2df84c3dba6": {
      "model_module": "@jupyter-widgets/output",
      "model_module_version": "1.0.0",
      "model_name": "OutputModel",
      "state": {
       "layout": "IPY_MODEL_4c8f23a763e24d5dbf8908e2fea08d3f"
      }
     },
     "67c7a42229db4e3ba98373367b16a801": {
      "model_module": "@jupyter-widgets/controls",
      "model_module_version": "1.5.0",
      "model_name": "HTMLModel",
      "state": {
       "layout": "IPY_MODEL_f27f86e59cca44d3ab0990e885dfba86",
       "style": "IPY_MODEL_dd1c1ec2327a40bda3c8d844d65be8d7",
       "value": "<p>label</p>"
      }
     },
     "67ccf6fc3b7d4e08ad896cc7369b7d3d": {
      "model_module": "@jupyter-widgets/base",
      "model_module_version": "1.2.0",
      "model_name": "LayoutModel",
      "state": {}
     },
     "684fa5d3c7ac4b6eb78d525dae0c7606": {
      "model_module": "@jupyter-widgets/base",
      "model_module_version": "1.2.0",
      "model_name": "LayoutModel",
      "state": {}
     },
     "6860f7e8c01642bea10d35699939f9c9": {
      "model_module": "@jupyter-widgets/output",
      "model_module_version": "1.0.0",
      "model_name": "OutputModel",
      "state": {
       "layout": "IPY_MODEL_b3faed0e4b3943cbac52973b073ca882"
      }
     },
     "68aa16a2ba134568b8e014b192bb05d7": {
      "model_module": "@jupyter-widgets/controls",
      "model_module_version": "1.5.0",
      "model_name": "HBoxModel",
      "state": {
       "children": [
        "IPY_MODEL_d1ed82d766674063901c7833ec5d5909"
       ],
       "layout": "IPY_MODEL_576e2f5fc7f843978330e3c24fff56ee"
      }
     },
     "691c6dfdf0e246ef92079de0752f399a": {
      "model_module": "@jupyter-widgets/output",
      "model_module_version": "1.0.0",
      "model_name": "OutputModel",
      "state": {
       "layout": "IPY_MODEL_86a856539fb345c6a041ddf765457719"
      }
     },
     "6943f1bfdee747ae83eabdb074f4a4fb": {
      "model_module": "@jupyter-widgets/controls",
      "model_module_version": "1.5.0",
      "model_name": "ButtonModel",
      "state": {
       "button_style": "success",
       "description": "save",
       "layout": "IPY_MODEL_12d68148671d41caaabf88f8d7421ec5",
       "style": "IPY_MODEL_21fbefbe8363428a8428df2c739fcbe9"
      }
     },
     "6952e841bb464ab3b9495959369a79eb": {
      "model_module": "@jupyter-widgets/base",
      "model_module_version": "1.2.0",
      "model_name": "LayoutModel",
      "state": {
       "width": "5%"
      }
     },
     "695ebff1b17749538778ee5b6a23e4fa": {
      "model_module": "@jupyter-widgets/base",
      "model_module_version": "1.2.0",
      "model_name": "LayoutModel",
      "state": {}
     },
     "6960236eeed642e7b6a62a4c0dc44835": {
      "model_module": "@jupyter-widgets/controls",
      "model_module_version": "1.5.0",
      "model_name": "DescriptionStyleModel",
      "state": {
       "description_width": ""
      }
     },
     "69687acaa90049dd9a4c38c43aca2667": {
      "model_module": "@jupyter-widgets/controls",
      "model_module_version": "1.5.0",
      "model_name": "HTMLModel",
      "state": {
       "layout": "IPY_MODEL_4b8281c45ff94545a34615177b06b616",
       "style": "IPY_MODEL_4e260abb916e45f788c5d6abd00167ce",
       "value": "<p>its a foo cake</p>"
      }
     },
     "697520d3ae794128a1d71c05651f9398": {
      "model_module": "@jupyter-widgets/controls",
      "model_module_version": "1.5.0",
      "model_name": "HBoxModel",
      "state": {
       "children": [
        "IPY_MODEL_0cc99b9dbea14d85b3ae965feb9e7a08"
       ],
       "layout": "IPY_MODEL_f73e5b6e64ec47848f09443207b73be8"
      }
     },
     "69b4b02ec31148668d8929a20e3f6078": {
      "model_module": "@jupyter-widgets/base",
      "model_module_version": "1.2.0",
      "model_name": "LayoutModel",
      "state": {
       "align_items": "stretch",
       "border": "dashed 0.2px green",
       "display": "flex",
       "flex_flow": "row",
       "grid_auto_columns": "True",
       "justify_content": "flex-start",
       "width": "100%"
      }
     },
     "69bb75955bfc4a5a9b489cb73927d9c1": {
      "model_module": "@jupyter-widgets/base",
      "model_module_version": "1.2.0",
      "model_name": "LayoutModel",
      "state": {}
     },
     "69dccf7101b64d46a88d24dfe8d2c74d": {
      "model_module": "@jupyter-widgets/controls",
      "model_module_version": "1.5.0",
      "model_name": "FloatTextModel",
      "state": {
       "layout": "IPY_MODEL_22eba596bce84d74aa6e67e9b0453db9",
       "step": null,
       "style": "IPY_MODEL_dc3a2af50a974beeaf2ef7b5ea4064d2",
       "value": 10
      }
     },
     "69fc62b40e83486685a1e70515e81048": {
      "model_module": "@jupyter-widgets/base",
      "model_module_version": "1.2.0",
      "model_name": "LayoutModel",
      "state": {}
     },
     "6a886ae6ba5a4b0babb938dd400803b6": {
      "model_module": "@jupyter-widgets/base",
      "model_module_version": "1.2.0",
      "model_name": "LayoutModel",
      "state": {
       "align_items": "stretch",
       "display": "flex",
       "flex_flow": "row",
       "grid_auto_columns": "True",
       "justify_content": "flex-start",
       "width": "80%"
      }
     },
     "6aa498ccb463481990f7b1add3a4c28d": {
      "model_module": "@jupyter-widgets/base",
      "model_module_version": "1.2.0",
      "model_name": "LayoutModel",
      "state": {
       "align_items": "stretch",
       "border": "dashed 0.2px green",
       "display": "flex",
       "flex_flow": "row",
       "grid_auto_columns": "True",
       "justify_content": "flex-start",
       "width": "100%"
      }
     },
     "6ab2e9a1d0c94e5a80d1eca8ad16168f": {
      "model_module": "@jupyter-widgets/controls",
      "model_module_version": "1.5.0",
      "model_name": "DescriptionStyleModel",
      "state": {
       "description_width": ""
      }
     },
     "6ac7da2a882d49738cc8df6d4d65f841": {
      "model_module": "@jupyter-widgets/base",
      "model_module_version": "1.2.0",
      "model_name": "LayoutModel",
      "state": {}
     },
     "6b00691a263f48ae886d83ae0a3c1702": {
      "model_module": "@jupyter-widgets/controls",
      "model_module_version": "1.5.0",
      "model_name": "HTMLModel",
      "state": {
       "layout": "IPY_MODEL_d0578d47b7214c11b599d91eab03dd10",
       "style": "IPY_MODEL_9eebe4c96014496c97c2ac0a296fbcf2",
       "value": "<p>its a foo cake</p>"
      }
     },
     "6b14ac8d5f234d669696784745be70ea": {
      "model_module": "@jupyter-widgets/base",
      "model_module_version": "1.2.0",
      "model_name": "LayoutModel",
      "state": {
       "align_items": "stretch",
       "display": "flex",
       "flex_flow": "row",
       "grid_auto_columns": "True",
       "justify_content": "flex-end",
       "width": "90%"
      }
     },
     "6b4aef39e61748d4a67d380e67e50875": {
      "model_module": "@jupyter-widgets/base",
      "model_module_version": "1.2.0",
      "model_name": "LayoutModel",
      "state": {}
     },
     "6b5081d1d9e64f5a8d00f753b2876fcd": {
      "model_module": "@jupyter-widgets/controls",
      "model_module_version": "1.5.0",
      "model_name": "DescriptionStyleModel",
      "state": {
       "description_width": ""
      }
     },
     "6ba0e309396442839fd0265dbb72b777": {
      "model_module": "@jupyter-widgets/controls",
      "model_module_version": "1.5.0",
      "model_name": "HTMLModel",
      "state": {
       "layout": "IPY_MODEL_89e367e5210c4eca8015ffc6eab3c384",
       "style": "IPY_MODEL_613c401e81ea4e939287c3a3d71ca1ac",
       "value": "<p>foo</p>"
      }
     },
     "6bca838978a2434fa7fe4de76c3c96e9": {
      "model_module": "@jupyter-widgets/controls",
      "model_module_version": "1.5.0",
      "model_name": "VBoxModel",
      "state": {
       "layout": "IPY_MODEL_0a8236ee49f24c5cb9d677dad4d75b20"
      }
     },
     "6c05a4b06f6f43afb96867a44535458d": {
      "model_module": "@jupyter-widgets/controls",
      "model_module_version": "1.5.0",
      "model_name": "DescriptionStyleModel",
      "state": {
       "description_width": ""
      }
     },
     "6c1cf9d6a6fd43b8bf49fd74b72609dc": {
      "model_module": "@jupyter-widgets/base",
      "model_module_version": "1.2.0",
      "model_name": "LayoutModel",
      "state": {}
     },
     "6c5bb40fc51f4d30a66579255e63ef04": {
      "model_module": "@jupyter-widgets/base",
      "model_module_version": "1.2.0",
      "model_name": "LayoutModel",
      "state": {}
     },
     "6cbfa4b0dab640a49330ce4ab931b80a": {
      "model_module": "@jupyter-widgets/output",
      "model_module_version": "1.0.0",
      "model_name": "OutputModel",
      "state": {
       "layout": "IPY_MODEL_ee0ad1b9f12245839f9de340261361ee"
      }
     },
     "6ce74e2b3ab3486d802e582eb7bfdac5": {
      "model_module": "@jupyter-widgets/controls",
      "model_module_version": "1.5.0",
      "model_name": "HBoxModel",
      "state": {
       "children": [
        "IPY_MODEL_ee7b5b70497d4da59df28fd1eefc5c0e",
        "IPY_MODEL_be5f6acc2278411ba8a8a9c6e2dee44c"
       ],
       "layout": "IPY_MODEL_d49ec4c7c2b94b33ad00d9a297bdd4c5"
      }
     },
     "6d0a46196c1042bca0921554c99d8b09": {
      "model_module": "@jupyter-widgets/controls",
      "model_module_version": "1.5.0",
      "model_name": "DescriptionStyleModel",
      "state": {
       "description_width": ""
      }
     },
     "6d80cf9f8ecb416f8dc1974c4058b782": {
      "model_module": "@jupyter-widgets/controls",
      "model_module_version": "1.5.0",
      "model_name": "HTMLModel",
      "state": {
       "layout": "IPY_MODEL_6f3db5fe74db4a5e9d6a42a01afc021a",
       "style": "IPY_MODEL_1beb93e7ae7a450b9f0b0c0ccc119c74",
       "value": "<p>its a foo cake</p>"
      }
     },
     "6d9fc81d83b84d6e8ce3dbeade70a903": {
      "model_module": "@jupyter-widgets/controls",
      "model_module_version": "1.5.0",
      "model_name": "HBoxModel",
      "state": {
       "children": [
        "IPY_MODEL_a4c6f0e989c2481999d0abd9abd8341c",
        "IPY_MODEL_560f4a9064474d9594554d21805b2c61"
       ],
       "layout": "IPY_MODEL_86f798a18d694ecfb85b2b93f0eeeb3d"
      }
     },
     "6dd54e406e1e420999b91320ff432980": {
      "model_module": "@jupyter-widgets/controls",
      "model_module_version": "1.5.0",
      "model_name": "HBoxModel",
      "state": {
       "children": [
        "IPY_MODEL_0b72d93ce71a4a829ba985f81eb1071d"
       ],
       "layout": "IPY_MODEL_4ffd67b311ec445d926f8042935e4a5b"
      }
     },
     "6e22dcd8171843648d2d9e8d1307b363": {
      "model_module": "@jupyter-widgets/controls",
      "model_module_version": "1.5.0",
      "model_name": "DescriptionStyleModel",
      "state": {
       "description_width": ""
      }
     },
     "6e27aa22b3704e7e8962ed145357baf9": {
      "model_module": "@jupyter-widgets/controls",
      "model_module_version": "1.5.0",
      "model_name": "DescriptionStyleModel",
      "state": {
       "description_width": ""
      }
     },
     "6e2db39ed421435d8e4a3b509d0e7efd": {
      "model_module": "@jupyter-widgets/controls",
      "model_module_version": "1.5.0",
      "model_name": "HTMLModel",
      "state": {
       "layout": "IPY_MODEL_22fbc82fce244487a6de6b7537d9b623",
       "style": "IPY_MODEL_e6228bb662d64f239ee158fa58c72349",
       "value": "<p>its a foo cake</p>"
      }
     },
     "6e4353b03b2d4b8bb16e5ac629050861": {
      "model_module": "@jupyter-widgets/base",
      "model_module_version": "1.2.0",
      "model_name": "LayoutModel",
      "state": {}
     },
     "6e5558f0673a4d5f8567a2a2248a537e": {
      "model_module": "@jupyter-widgets/controls",
      "model_module_version": "1.5.0",
      "model_name": "DescriptionStyleModel",
      "state": {
       "description_width": ""
      }
     },
     "6eb2d6b647564e909bcf11b87893cb83": {
      "model_module": "@jupyter-widgets/controls",
      "model_module_version": "1.5.0",
      "model_name": "HBoxModel",
      "state": {
       "children": [
        "IPY_MODEL_e4f6a5b056da4b709c42f7d57bb5da89",
        "IPY_MODEL_af57587361304ea7a98b627a13c9cb3f"
       ],
       "layout": "IPY_MODEL_e6d7716feb734707b904655677d6be6b"
      }
     },
     "6ef3ba572cbc4793aaed4f69c2c5e14c": {
      "model_module": "@jupyter-widgets/controls",
      "model_module_version": "1.5.0",
      "model_name": "HBoxModel",
      "state": {
       "children": [
        "IPY_MODEL_353523a55e42452ea1769367996e3d16",
        "IPY_MODEL_92869e7366b9407f80f5f385436413c3"
       ],
       "layout": "IPY_MODEL_c2d97d95d186416b84d191984946dcf6"
      }
     },
     "6f119cfb381b4e0886340d3ff41124f7": {
      "model_module": "@jupyter-widgets/base",
      "model_module_version": "1.2.0",
      "model_name": "LayoutModel",
      "state": {}
     },
     "6f3a64a8d00f441f9b544b52e55750fa": {
      "model_module": "ipysheet",
      "model_module_version": "~0.4.4",
      "model_name": "CellRangeModel",
      "state": {
       "_view_module": null,
       "_view_module_version": "",
       "choice": [],
       "column_end": 4,
       "column_start": 4,
       "numeric_format": null,
       "row_end": 3,
       "row_start": 0,
       "squeeze_row": false,
       "type": "text",
       "value": [
        "<class 'bool'>",
        "<class 'NoneType'>",
        "<class 'NoneType'>",
        "<class 'NoneType'>"
       ]
      }
     },
     "6f3db5fe74db4a5e9d6a42a01afc021a": {
      "model_module": "@jupyter-widgets/base",
      "model_module_version": "1.2.0",
      "model_name": "LayoutModel",
      "state": {}
     },
     "6f6da877b71b422192057268357568e0": {
      "model_module": "@jupyter-widgets/base",
      "model_module_version": "1.2.0",
      "model_name": "LayoutModel",
      "state": {}
     },
     "6f7e069dd0474941b693d3b6f3e0bf63": {
      "model_module": "@jupyter-widgets/controls",
      "model_module_version": "1.5.0",
      "model_name": "HBoxModel",
      "state": {
       "children": [
        "IPY_MODEL_1ef43078c24942e6ac0fb48107da17f1",
        "IPY_MODEL_7b601e62fa714559b0b7b1b2b6028be7"
       ],
       "layout": "IPY_MODEL_7d2b8d5cac2145c4ba875dc8e84560f5"
      }
     },
     "6f9dd253ea0f49f2a9f30325708ebda2": {
      "model_module": "@jupyter-widgets/controls",
      "model_module_version": "1.5.0",
      "model_name": "HTMLModel",
      "state": {
       "layout": "IPY_MODEL_6464a844bb4d439ba72fa6eaab10d1b8",
       "style": "IPY_MODEL_9aff2d634a1e41ccb549db4ecea82d3c",
       "value": "<p>its a foo cake</p>"
      }
     },
     "6f9efcefb50147d3a7d2088560cc92e6": {
      "model_module": "@jupyter-widgets/controls",
      "model_module_version": "1.5.0",
      "model_name": "HBoxModel",
      "state": {
       "children": [
        "IPY_MODEL_c83986ddaa11464886b3f2f768919809"
       ],
       "layout": "IPY_MODEL_21462c3f9cb04bdbb81ea6c91dd4cd11"
      }
     },
     "6fe085c70fef44aa89852d4a37c22de5": {
      "model_module": "@jupyter-widgets/controls",
      "model_module_version": "1.5.0",
      "model_name": "HTMLModel",
      "state": {
       "layout": "IPY_MODEL_7c7294dddd0b4e3a9685e907cfd9ddad",
       "style": "IPY_MODEL_c1647c85e0da438ab2f28939f06f8c60",
       "value": "<p>foo</p>"
      }
     },
     "6ff3d4c342e941a3820ab262a83cca34": {
      "model_module": "@jupyter-widgets/controls",
      "model_module_version": "1.5.0",
      "model_name": "HBoxModel",
      "state": {
       "children": [
        "IPY_MODEL_55a3d40300fd4d05a4d965117e0eea30",
        "IPY_MODEL_13270cf0a18e49a28021f26300534081"
       ],
       "layout": "IPY_MODEL_f38ad05862fc4e03ab662f9c448538a0"
      }
     },
     "70094816779349fa8d252c1d7f3d6e74": {
      "model_module": "@jupyter-widgets/controls",
      "model_module_version": "1.5.0",
      "model_name": "DescriptionStyleModel",
      "state": {
       "description_width": ""
      }
     },
     "7027bf1071ac49e78a5fdb0101cf3bef": {
      "model_module": "@jupyter-widgets/base",
      "model_module_version": "1.2.0",
      "model_name": "LayoutModel",
      "state": {
       "align_items": "stretch",
       "border": "dashed 0.2px green",
       "display": "flex",
       "flex_flow": "row",
       "grid_auto_columns": "True",
       "justify_content": "flex-start",
       "width": "100%"
      }
     },
     "703310c5ba4d4414b5779a3f35bcdd0c": {
      "model_module": "@jupyter-widgets/controls",
      "model_module_version": "1.5.0",
      "model_name": "HTMLModel",
      "state": {
       "layout": "IPY_MODEL_b53c9313a01c4b44a690837e68694a0a",
       "style": "IPY_MODEL_9e2b2068266b42948286dc61e7df32b9",
       "value": "<p>reous foo ous foo st</p>"
      }
     },
     "7050a5766690441da739513336f4e906": {
      "model_module": "@jupyter-widgets/base",
      "model_module_version": "1.2.0",
      "model_name": "LayoutModel",
      "state": {
       "align_items": "stretch",
       "border": "dashed 0.2px green",
       "display": "flex",
       "flex_flow": "row",
       "grid_auto_columns": "True",
       "justify_content": "flex-start",
       "width": "100%"
      }
     },
     "7058c0c7b2a049ccbf3be473153dcc9a": {
      "model_module": "@jupyter-widgets/output",
      "model_module_version": "1.0.0",
      "model_name": "OutputModel",
      "state": {
       "layout": "IPY_MODEL_e8d6dff5a5cc4fb187a68bdde34fb0c7"
      }
     },
     "709006d7750b4cfaa00db778e47c5086": {
      "model_module": "@jupyter-widgets/base",
      "model_module_version": "1.2.0",
      "model_name": "LayoutModel",
      "state": {}
     },
     "70b0168cd5c9475799a150cda1c805b0": {
      "model_module": "@jupyter-widgets/base",
      "model_module_version": "1.2.0",
      "model_name": "LayoutModel",
      "state": {}
     },
     "70ebefbb76a241b1810a61cdf28c1ace": {
      "model_module": "@jupyter-widgets/controls",
      "model_module_version": "1.5.0",
      "model_name": "DescriptionStyleModel",
      "state": {
       "description_width": ""
      }
     },
     "7122b82214244d7593c881a217ba9065": {
      "model_module": "@jupyter-widgets/base",
      "model_module_version": "1.2.0",
      "model_name": "LayoutModel",
      "state": {}
     },
     "716a50d49eb640b9a203bf437830b6d1": {
      "model_module": "@jupyter-widgets/base",
      "model_module_version": "1.2.0",
      "model_name": "LayoutModel",
      "state": {}
     },
     "717b4f896ebd47789c78bd6612c51f7a": {
      "model_module": "@jupyter-widgets/base",
      "model_module_version": "1.2.0",
      "model_name": "LayoutModel",
      "state": {}
     },
     "717df69ea20b42058c6460489cb2d4c0": {
      "model_module": "@jupyter-widgets/controls",
      "model_module_version": "1.5.0",
      "model_name": "HBoxModel",
      "state": {
       "children": [
        "IPY_MODEL_5cab38e998e14a52a25ab2189c4b90fc"
       ],
       "layout": "IPY_MODEL_1960d09323d64e0394f1826179a18c32"
      }
     },
     "71a3fb3d77e94bbe8b22eed161ef013d": {
      "model_module": "@jupyter-widgets/base",
      "model_module_version": "1.2.0",
      "model_name": "LayoutModel",
      "state": {
       "align_items": "stretch",
       "display": "flex",
       "flex_flow": "row",
       "grid_auto_columns": "True",
       "justify_content": "flex-start",
       "width": "80%"
      }
     },
     "71fee09de0e04451ba3a58f7b98a6543": {
      "model_module": "@jupyter-widgets/controls",
      "model_module_version": "1.5.0",
      "model_name": "DescriptionStyleModel",
      "state": {
       "description_width": ""
      }
     },
     "72834fbe72fa4bbeafefabde50e47070": {
      "model_module": "@jupyter-widgets/base",
      "model_module_version": "1.2.0",
      "model_name": "LayoutModel",
      "state": {}
     },
     "72a200575d0a416bb0a3851849add724": {
      "model_module": "@jupyter-widgets/controls",
      "model_module_version": "1.5.0",
      "model_name": "HBoxModel",
      "state": {
       "children": [
        "IPY_MODEL_bb4c9bbc8712469e92bd4ab137688f82"
       ],
       "layout": "IPY_MODEL_55102409d32d435e8a22f695d08b0825"
      }
     },
     "72c036987efc4b94b0058271b42db779": {
      "model_module": "@jupyter-widgets/base",
      "model_module_version": "1.2.0",
      "model_name": "LayoutModel",
      "state": {}
     },
     "72d21676ba78472682b99ac1ab24d49b": {
      "model_module": "@jupyter-widgets/base",
      "model_module_version": "1.2.0",
      "model_name": "LayoutModel",
      "state": {}
     },
     "73151d252ae141f8926657a63774a9d0": {
      "model_module": "@jupyter-widgets/controls",
      "model_module_version": "1.5.0",
      "model_name": "HTMLModel",
      "state": {
       "layout": "IPY_MODEL_c1971a21024d4a378a3aecfa41eb55b0",
       "style": "IPY_MODEL_c8cb1f27fb6b4501a4dff98a1212caf2",
       "value": "<p>reous foo ous foo st</p>"
      }
     },
     "7326f830db684c1d854bc99ae436ea70": {
      "model_module": "@jupyter-widgets/controls",
      "model_module_version": "1.5.0",
      "model_name": "SliderStyleModel",
      "state": {
       "description_width": ""
      }
     },
     "736442aff1824088ab7debe595d93638": {
      "model_module": "@jupyter-widgets/controls",
      "model_module_version": "1.5.0",
      "model_name": "DescriptionStyleModel",
      "state": {
       "description_width": ""
      }
     },
     "73cac6fdbd694f4981f2565c286f6c0a": {
      "model_module": "@jupyter-widgets/controls",
      "model_module_version": "1.5.0",
      "model_name": "SelectMultipleModel",
      "state": {
       "_options_labels": [
        "asfd",
        "10",
        "asdf"
       ],
       "index": [
        1
       ],
       "layout": "IPY_MODEL_e6ec5429809e44d3bd71fc805d8cfe04",
       "rows": 5,
       "style": "IPY_MODEL_bf650bbc3dee4172befdf9f5e6ce896c"
      }
     },
     "7430d5e0b10a4f4eb44b33affa933ef6": {
      "model_module": "@jupyter-widgets/controls",
      "model_module_version": "1.5.0",
      "model_name": "DescriptionStyleModel",
      "state": {
       "description_width": ""
      }
     },
     "748a9adde4f74e51b2d6b0dfac946aa5": {
      "model_module": "@jupyter-widgets/base",
      "model_module_version": "1.2.0",
      "model_name": "LayoutModel",
      "state": {}
     },
     "749048e751a6472992db674a124e219e": {
      "model_module": "@jupyter-widgets/controls",
      "model_module_version": "1.5.0",
      "model_name": "HBoxModel",
      "state": {
       "children": [
        "IPY_MODEL_66ab29255e724eb2939e4d729b8814c1",
        "IPY_MODEL_edb2936d214b4802b9ba656e8c4bc438"
       ],
       "layout": "IPY_MODEL_71a3fb3d77e94bbe8b22eed161ef013d"
      }
     },
     "74ccf0da64a64bbc898914ec8fc87129": {
      "model_module": "@jupyter-widgets/base",
      "model_module_version": "1.2.0",
      "model_name": "LayoutModel",
      "state": {}
     },
     "74d2cb74d9414c578a42dd898c3df652": {
      "model_module": "@jupyter-widgets/base",
      "model_module_version": "1.2.0",
      "model_name": "LayoutModel",
      "state": {}
     },
     "74d97e8e1fb54e6aa0bb3d5d6281d880": {
      "model_module": "@jupyter-widgets/base",
      "model_module_version": "1.2.0",
      "model_name": "LayoutModel",
      "state": {}
     },
     "7504fec39faa4b9194c2901ffedccddb": {
      "model_module": "@jupyter-widgets/controls",
      "model_module_version": "1.5.0",
      "model_name": "HTMLModel",
      "state": {
       "layout": "IPY_MODEL_4f356c425e044121809315b4b65dc60b",
       "style": "IPY_MODEL_c636baa2b965480ca6371e977a78909d",
       "value": "<p>fus foo ous o</p>"
      }
     },
     "7515b801bfb64d8a916019b8ab8b73eb": {
      "model_module": "@jupyter-widgets/controls",
      "model_module_version": "1.5.0",
      "model_name": "DescriptionStyleModel",
      "state": {
       "description_width": ""
      }
     },
     "75342b6c39f84cf88e6cec8350703e1f": {
      "model_module": "@jupyter-widgets/base",
      "model_module_version": "1.2.0",
      "model_name": "LayoutModel",
      "state": {}
     },
     "753beb8ab5a0447bb9b7c79b235f656d": {
      "model_module": "@jupyter-widgets/controls",
      "model_module_version": "1.5.0",
      "model_name": "TextModel",
      "state": {
       "layout": "IPY_MODEL_b96b016ebcc64531b81997ffc5536b74",
       "style": "IPY_MODEL_b7f18d554ddc4509a039a174817afe39",
       "value": "2"
      }
     },
     "756e9329c41c48e694b87199b94a822b": {
      "model_module": "@jupyter-widgets/base",
      "model_module_version": "1.2.0",
      "model_name": "LayoutModel",
      "state": {}
     },
     "75ceefabec2d4139bc1a6808f824706b": {
      "model_module": "@jupyter-widgets/output",
      "model_module_version": "1.0.0",
      "model_name": "OutputModel",
      "state": {
       "layout": "IPY_MODEL_353960e990ae47898b0893400a33ad49"
      }
     },
     "7705d3e93b314810ba54e614f19a9efc": {
      "model_module": "@jupyter-widgets/controls",
      "model_module_version": "1.5.0",
      "model_name": "DescriptionStyleModel",
      "state": {
       "description_width": ""
      }
     },
     "77ce1e5f8b7a47af9b879bdf8e2cd38b": {
      "model_module": "@jupyter-widgets/base",
      "model_module_version": "1.2.0",
      "model_name": "LayoutModel",
      "state": {
       "align_items": "stretch",
       "border": "dashed 0.2px green",
       "display": "flex",
       "flex_flow": "row",
       "grid_auto_columns": "True",
       "justify_content": "flex-start",
       "width": "100%"
      }
     },
     "77e04fc41c92439c97f505ffea176cc7": {
      "model_module": "@jupyter-widgets/base",
      "model_module_version": "1.2.0",
      "model_name": "LayoutModel",
      "state": {}
     },
     "77f916cda1f249fda915fdd9f30c19ea": {
      "model_module": "@jupyter-widgets/base",
      "model_module_version": "1.2.0",
      "model_name": "LayoutModel",
      "state": {
       "align_items": "stretch",
       "display": "flex",
       "flex_flow": "row",
       "grid_auto_columns": "True",
       "justify_content": "flex-start",
       "width": "80%"
      }
     },
     "785b1bff10254e3c997e8babff6a6cc3": {
      "model_module": "@jupyter-widgets/controls",
      "model_module_version": "1.5.0",
      "model_name": "HTMLModel",
      "state": {
       "layout": "IPY_MODEL_4a69b208c43f47e9beeb76506151a964",
       "style": "IPY_MODEL_3b5addb933314dfb9a74a6670f17c7a3",
       "value": "<p>foo</p>"
      }
     },
     "787563bdc641445c9f3e608a84edef05": {
      "model_module": "@jupyter-widgets/base",
      "model_module_version": "1.2.0",
      "model_name": "LayoutModel",
      "state": {
       "align_items": "stretch",
       "display": "flex",
       "flex_flow": "row",
       "grid_auto_columns": "True",
       "justify_content": "flex-end",
       "width": "90%"
      }
     },
     "78e53a41c1fa4d6580adaced286ef45f": {
      "model_module": "@jupyter-widgets/base",
      "model_module_version": "1.2.0",
      "model_name": "LayoutModel",
      "state": {
       "align_items": "stretch",
       "display": "flex",
       "flex_flow": "row",
       "grid_auto_columns": "True",
       "justify_content": "flex-end",
       "width": "90%"
      }
     },
     "78ff642a6050493b8fdb5f76027701a2": {
      "model_module": "@jupyter-widgets/controls",
      "model_module_version": "1.5.0",
      "model_name": "FloatSliderModel",
      "state": {
       "layout": "IPY_MODEL_8852b5940dec454aa52547697f1cf12a",
       "max": 10,
       "style": "IPY_MODEL_7326f830db684c1d854bc99ae436ea70",
       "value": 1
      }
     },
     "792889b30b864a44acd219c4e50f34b1": {
      "model_module": "@jupyter-widgets/controls",
      "model_module_version": "1.5.0",
      "model_name": "VBoxModel",
      "state": {
       "children": [
        "IPY_MODEL_5cebd818c5184c53af02ca949ca06a0f",
        "IPY_MODEL_d9fe5cf0f2c04cd29a50ffe338080ec2",
        "IPY_MODEL_bc1d133b6902405f94b2ccff2cdc12e7",
        "IPY_MODEL_66f7a81cdcea4307b7c237e9018de9e5",
        "IPY_MODEL_33a0cf1b18c248938b6cf565ee9159be"
       ],
       "layout": "IPY_MODEL_02b70d5feb2749b0b8bf3fcdfe876a49"
      }
     },
     "79365890bbd14570be9e407e7fd8d2d4": {
      "model_module": "ipysheet",
      "model_module_version": "~0.4.4",
      "model_name": "CellRangeModel",
      "state": {
       "_view_module": null,
       "_view_module_version": "",
       "choice": [],
       "numeric_format": null,
       "row_end": 3,
       "row_start": 0,
       "squeeze_row": false,
       "type": "text",
       "value": [
        "<class 'float'>",
        "<class 'NoneType'>",
        "<class 'float'>",
        "<class 'float'>"
       ]
      }
     },
     "7956bfdc02884ad68275a81243bc52c2": {
      "model_module": "@jupyter-widgets/controls",
      "model_module_version": "1.5.0",
      "model_name": "HTMLModel",
      "state": {
       "layout": "IPY_MODEL_7b8f0d8f2ad243d19e71613f58c9f0be",
       "style": "IPY_MODEL_e7bf46ab21ab48c6bf8f439f0460fb9a",
       "value": "<p>reous foo ous foo st</p>"
      }
     },
     "7998a1d459a94984bd32474cb48ec852": {
      "model_module": "@jupyter-widgets/controls",
      "model_module_version": "1.5.0",
      "model_name": "HTMLModel",
      "state": {
       "layout": "IPY_MODEL_b7b5ecf4d2894783920138f87c28b785",
       "style": "IPY_MODEL_9cdc091e7a6f417d8629dc3cbfdf77ae",
       "value": "<p>its a foo cake</p>"
      }
     },
     "79bef1c903a0400b892ad8a273354a67": {
      "model_module": "@jupyter-widgets/controls",
      "model_module_version": "1.5.0",
      "model_name": "TextareaModel",
      "state": {
       "layout": "IPY_MODEL_2ab15219e17e4d82b985d675072e9c73",
       "style": "IPY_MODEL_e561bebb34c2409491c147505ad3b4e5",
       "value": "This is a very long text areas string that needs a bigger box to fit all of hte verbose nonsense"
      }
     },
     "7a03df3eef69437ea89af06f4e84d0da": {
      "model_module": "@jupyter-widgets/base",
      "model_module_version": "1.2.0",
      "model_name": "LayoutModel",
      "state": {}
     },
     "7a5e1105cf6146c9b61fd12c02b4bf8d": {
      "model_module": "@jupyter-widgets/controls",
      "model_module_version": "1.5.0",
      "model_name": "DescriptionStyleModel",
      "state": {
       "description_width": ""
      }
     },
     "7a8aec1b04e24523bd51e38024e7c35b": {
      "model_module": "@jupyter-widgets/controls",
      "model_module_version": "1.5.0",
      "model_name": "DescriptionStyleModel",
      "state": {
       "description_width": ""
      }
     },
     "7a9da0f5bcf645499242739e5b9f00c2": {
      "model_module": "@jupyter-widgets/base",
      "model_module_version": "1.2.0",
      "model_name": "LayoutModel",
      "state": {}
     },
     "7ad72086f7424b819ec940bd54fa0f7e": {
      "model_module": "@jupyter-widgets/base",
      "model_module_version": "1.2.0",
      "model_name": "LayoutModel",
      "state": {
       "align_items": "stretch",
       "display": "flex",
       "flex_flow": "row",
       "grid_auto_columns": "True",
       "justify_content": "flex-end",
       "width": "90%"
      }
     },
     "7adbea76ddc948ba82e5e1f9875cf147": {
      "model_module": "@jupyter-widgets/controls",
      "model_module_version": "1.5.0",
      "model_name": "VBoxModel",
      "state": {
       "children": [
        "IPY_MODEL_cb287a90777946a08d2173a797a8536b",
        "IPY_MODEL_3cc4f477411341b28d47ccc1841c9a06",
        "IPY_MODEL_fb6ba2a4c37b49878cbc767c902d0ba1"
       ],
       "layout": "IPY_MODEL_589225ec5a694fe7a86781bd38ae42cf"
      }
     },
     "7b0f56d8e8c446b0abae373c2c7eaac9": {
      "model_module": "@jupyter-widgets/output",
      "model_module_version": "1.0.0",
      "model_name": "OutputModel",
      "state": {
       "layout": "IPY_MODEL_b8471d7228314dc7824e409656e44f43"
      }
     },
     "7b601e62fa714559b0b7b1b2b6028be7": {
      "model_module": "@jupyter-widgets/controls",
      "model_module_version": "1.5.0",
      "model_name": "HBoxModel",
      "state": {
       "children": [
        "IPY_MODEL_151b27fa4b7e41d59cb7e1973c9ecef2",
        "IPY_MODEL_4066a38f5d0c4d228ec0e17b22e5b450"
       ],
       "layout": "IPY_MODEL_2605491064534c82b008c3a1d9a1109d"
      }
     },
     "7b89b4fa9bf64ca38bb03bf069f6a00b": {
      "model_module": "@jupyter-widgets/controls",
      "model_module_version": "1.5.0",
      "model_name": "DescriptionStyleModel",
      "state": {
       "description_width": ""
      }
     },
     "7b8f0d8f2ad243d19e71613f58c9f0be": {
      "model_module": "@jupyter-widgets/base",
      "model_module_version": "1.2.0",
      "model_name": "LayoutModel",
      "state": {}
     },
     "7b9f0a7ca8dc4dbfb8671f7b4287c738": {
      "model_module": "@jupyter-widgets/base",
      "model_module_version": "1.2.0",
      "model_name": "LayoutModel",
      "state": {}
     },
     "7bf6c9aefc2144a7b41fae367c9a7f95": {
      "model_module": "@jupyter-widgets/controls",
      "model_module_version": "1.5.0",
      "model_name": "DescriptionStyleModel",
      "state": {
       "description_width": ""
      }
     },
     "7bfed182e4774233a78eeb5f3c976bc6": {
      "model_module": "ipysheet",
      "model_module_version": "~0.4.4",
      "model_name": "CellRangeModel",
      "state": {
       "_view_module": null,
       "_view_module_version": "",
       "choice": [],
       "column_end": 6,
       "column_start": 6,
       "numeric_format": null,
       "row_end": 3,
       "row_start": 0,
       "squeeze_row": false,
       "type": "text",
       "value": [
        "<class 'list'>",
        "<class 'NoneType'>",
        "<class 'NoneType'>",
        "<class 'NoneType'>"
       ]
      }
     },
     "7c49b4f29ad5401da831765ad01d0b28": {
      "model_module": "@jupyter-widgets/base",
      "model_module_version": "1.2.0",
      "model_name": "LayoutModel",
      "state": {
       "align_items": "stretch",
       "display": "flex",
       "flex_flow": "row",
       "grid_auto_columns": "True",
       "justify_content": "flex-end",
       "width": "90%"
      }
     },
     "7c61d7955fb44eaf82a08910b1201ea7": {
      "model_module": "@jupyter-widgets/base",
      "model_module_version": "1.2.0",
      "model_name": "LayoutModel",
      "state": {
       "align_items": "stretch",
       "display": "flex",
       "flex_flow": "row",
       "grid_auto_columns": "True",
       "justify_content": "flex-start",
       "width": "80%"
      }
     },
     "7c7294dddd0b4e3a9685e907cfd9ddad": {
      "model_module": "@jupyter-widgets/base",
      "model_module_version": "1.2.0",
      "model_name": "LayoutModel",
      "state": {}
     },
     "7c75c71e4df847dc873d63bbc94ce735": {
      "model_module": "@jupyter-widgets/base",
      "model_module_version": "1.2.0",
      "model_name": "LayoutModel",
      "state": {}
     },
     "7cc4d4015c0a4b00abf2ef3cfaa67630": {
      "model_module": "@jupyter-widgets/controls",
      "model_module_version": "1.5.0",
      "model_name": "HTMLModel",
      "state": {
       "layout": "IPY_MODEL_9b941f4fd5064d0d92dba834f74f0b6d",
       "style": "IPY_MODEL_4292a560fb6d46d4b70bc021deef1614",
       "value": "<p>foo</p>"
      }
     },
     "7cdf480657c948719d63aab9b56dd425": {
      "model_module": "@jupyter-widgets/controls",
      "model_module_version": "1.5.0",
      "model_name": "DescriptionStyleModel",
      "state": {
       "description_width": ""
      }
     },
     "7d2b8d5cac2145c4ba875dc8e84560f5": {
      "model_module": "@jupyter-widgets/base",
      "model_module_version": "1.2.0",
      "model_name": "LayoutModel",
      "state": {
       "align_items": "stretch",
       "display": "flex",
       "flex_flow": "row",
       "grid_auto_columns": "True",
       "justify_content": "flex-end",
       "width": "90%"
      }
     },
     "7d313892a4364cbabaadda3f370fa80c": {
      "model_module": "@jupyter-widgets/controls",
      "model_module_version": "1.5.0",
      "model_name": "HTMLModel",
      "state": {
       "layout": "IPY_MODEL_bb33fe6095a04c83bd42ff7a7ce64cea",
       "style": "IPY_MODEL_e9fe202df9b540738d4b47ea14e342cc",
       "value": "<p>foo</p>"
      }
     },
     "7d6df9cd48c94183b9a8d5d1e494e091": {
      "model_module": "@jupyter-widgets/controls",
      "model_module_version": "1.5.0",
      "model_name": "DescriptionStyleModel",
      "state": {
       "description_width": ""
      }
     },
     "7d6fef0d97574024a04ab22952eb395d": {
      "model_module": "@jupyter-widgets/base",
      "model_module_version": "1.2.0",
      "model_name": "LayoutModel",
      "state": {
       "align_items": "stretch",
       "display": "flex",
       "flex_flow": "row",
       "grid_auto_columns": "True",
       "justify_content": "flex-start",
       "width": "80%"
      }
     },
     "7d8f462fd26f415c80a33c33ce8f6bad": {
      "model_module": "@jupyter-widgets/output",
      "model_module_version": "1.0.0",
      "model_name": "OutputModel",
      "state": {
       "layout": "IPY_MODEL_efc72f0690bf421181a16aba9444f39b"
      }
     },
     "7dd21efbf0ea4a09a43ceeb6c0c9cdfb": {
      "model_module": "@jupyter-widgets/controls",
      "model_module_version": "1.5.0",
      "model_name": "DescriptionStyleModel",
      "state": {
       "description_width": ""
      }
     },
     "7ddf8d34386f451c85edc7d68a63fb86": {
      "model_module": "@jupyter-widgets/controls",
      "model_module_version": "1.5.0",
      "model_name": "VBoxModel",
      "state": {
       "children": [
        "IPY_MODEL_a6647d15364a45269a5dad99cf7cd044",
        "IPY_MODEL_7ff4636d374743bb87f22d63546e30fc"
       ],
       "layout": "IPY_MODEL_69fc62b40e83486685a1e70515e81048"
      }
     },
     "7e7cb6588569422083b904badd53048c": {
      "model_module": "@jupyter-widgets/controls",
      "model_module_version": "1.5.0",
      "model_name": "HTMLModel",
      "state": {
       "layout": "IPY_MODEL_3f4475587a9e451da781486ae5433a4d",
       "style": "IPY_MODEL_e03af630f04048f28fd3211eb8c35eae",
       "value": "<p>foo</p>"
      }
     },
     "7ea8e4ca337640b99797ef5d33fd3762": {
      "model_module": "@jupyter-widgets/controls",
      "model_module_version": "1.5.0",
      "model_name": "DescriptionStyleModel",
      "state": {
       "description_width": ""
      }
     },
     "7eb5ee73bc244cb1a2b5586969f3e3ed": {
      "model_module": "@jupyter-widgets/controls",
      "model_module_version": "1.5.0",
      "model_name": "HBoxModel",
      "state": {
       "children": [
        "IPY_MODEL_dd64862bcfe543168aa66d7b28feb560",
        "IPY_MODEL_940c655426dc47d3a98e302f596b589c"
       ],
       "layout": "IPY_MODEL_97353dd3e63a44a397d3cc4855fd44dd"
      }
     },
     "7eed9d8bb4084244863966480f702efc": {
      "model_module": "@jupyter-widgets/base",
      "model_module_version": "1.2.0",
      "model_name": "LayoutModel",
      "state": {}
     },
     "7f59a031df8642aba1fe5823ed18b151": {
      "model_module": "@jupyter-widgets/base",
      "model_module_version": "1.2.0",
      "model_name": "LayoutModel",
      "state": {}
     },
     "7f7e2fd5dda54ee2a3dd096fd98fd7f7": {
      "model_module": "@jupyter-widgets/controls",
      "model_module_version": "1.5.0",
      "model_name": "CheckboxModel",
      "state": {
       "disabled": false,
       "layout": "IPY_MODEL_d2e6a1a15b724111a397e82eb84987b3",
       "style": "IPY_MODEL_de3e3cf4b8fc430d8d5e0c2f04a46eb4",
       "value": true
      }
     },
     "7ff4636d374743bb87f22d63546e30fc": {
      "model_module": "@jupyter-widgets/controls",
      "model_module_version": "1.5.0",
      "model_name": "RadioButtonsModel",
      "state": {
       "_options_labels": [
        "TEMPLATE: C:\\engDev\\git_mf\\MF_Toolbox\\dev\\mf_scripts\\template_inputs\\inputs-docx_to_pdf.json",
        "PROJECT: C:\\engDev\\git_mf\\ipyrun\\ipyrun\\appdata\\inputs\\inputs-docx_to_pdf.json",
        "PROJECT: C:\\engDev\\git_mf\\ipyrun\\ipyrun\\appdata\\inputs\\archive\\20200610_1134-jg-inputs-docx_to_pdf.json",
        "PROJECT: C:\\engDev\\git_mf\\ipyrun\\ipyrun\\appdata\\inputs\\archive\\20200610_1139-jg-inputs-docx_to_pdf.json",
        "PROJECT: C:\\engDev\\git_mf\\ipyrun\\ipyrun\\appdata\\inputs\\archive\\20200610_1218-jg-inputs-docx_to_pdf.json",
        "PROJECT: C:\\engDev\\git_mf\\ipyrun\\ipyrun\\appdata\\inputs\\archive\\20200610_1220-jg-inputs-docx_to_pdf.json",
        "PROJECT: C:\\engDev\\git_mf\\ipyrun\\ipyrun\\appdata\\inputs\\archive\\20200610_1221-jg-inputs-docx_to_pdf.json",
        "PROJECT: C:\\engDev\\git_mf\\ipyrun\\ipyrun\\appdata\\inputs\\archive\\20200610_1224-jg-inputs-docx_to_pdf.json",
        "PROJECT: C:\\engDev\\git_mf\\ipyrun\\ipyrun\\appdata\\inputs\\archive\\20200610_1225-jg-inputs-docx_to_pdf.json",
        "PROJECT: C:\\engDev\\git_mf\\ipyrun\\ipyrun\\appdata\\inputs\\archive\\20200610_1244-jg-inputs-docx_to_pdf.json",
        "PROJECT: C:\\engDev\\git_mf\\ipyrun\\ipyrun\\appdata\\inputs\\archive\\20200610_1246-jg-inputs-docx_to_pdf.json",
        "PROJECT: C:\\engDev\\git_mf\\ipyrun\\ipyrun\\appdata\\inputs\\archive\\20200610_1419-jg-inputs-docx_to_pdf.json",
        "PROJECT: C:\\engDev\\git_mf\\ipyrun\\ipyrun\\appdata\\inputs\\archive\\20200610_1420-jg-inputs-docx_to_pdf.json",
        "PROJECT: C:\\engDev\\git_mf\\ipyrun\\ipyrun\\appdata\\inputs\\archive\\20200610_1422-jg-inputs-docx_to_pdf.json",
        "PROJECT: C:\\engDev\\git_mf\\ipyrun\\ipyrun\\appdata\\inputs\\archive\\20200610_1425-jg-inputs-docx_to_pdf.json",
        "PROJECT: C:\\engDev\\git_mf\\ipyrun\\ipyrun\\appdata\\inputs\\archive\\20200610_1853-jg-inputs-docx_to_pdf.json",
        "PROJECT: C:\\engDev\\git_mf\\ipyrun\\ipyrun\\appdata\\inputs\\archive\\20200610_1855-jg-inputs-docx_to_pdf.json",
        "PROJECT: C:\\engDev\\git_mf\\ipyrun\\ipyrun\\appdata\\inputs\\archive\\20200611_0748-jg-inputs-docx_to_pdf.json",
        "PROJECT: C:\\engDev\\git_mf\\ipyrun\\ipyrun\\appdata\\inputs\\archive\\20200611_0754-jg-inputs-docx_to_pdf.json",
        "PROJECT: C:\\engDev\\git_mf\\ipyrun\\ipyrun\\appdata\\inputs\\archive\\20200611_0757-jg-inputs-docx_to_pdf.json",
        "PROJECT: C:\\engDev\\git_mf\\ipyrun\\ipyrun\\appdata\\inputs\\archive\\20200616_1026-jg-inputs-docx_to_pdf.json"
       ],
       "index": 0,
       "layout": "IPY_MODEL_be7f65ad532843aa84e0e785b242675a",
       "style": "IPY_MODEL_ceca84e201db4250a09bd6429331920d"
      }
     },
     "802bfc1b14544a30b5c061b55405d0db": {
      "model_module": "@jupyter-widgets/controls",
      "model_module_version": "1.5.0",
      "model_name": "DescriptionStyleModel",
      "state": {
       "description_width": ""
      }
     },
     "80756bf87c1a491682ade8c4209c1b6c": {
      "model_module": "@jupyter-widgets/base",
      "model_module_version": "1.2.0",
      "model_name": "LayoutModel",
      "state": {}
     },
     "8099746b766d49eeaf15c637774d42da": {
      "model_module": "@jupyter-widgets/controls",
      "model_module_version": "1.5.0",
      "model_name": "DescriptionStyleModel",
      "state": {
       "description_width": ""
      }
     },
     "80ec5a7a4524400986a3b8d41cac48a0": {
      "model_module": "@jupyter-widgets/base",
      "model_module_version": "1.2.0",
      "model_name": "LayoutModel",
      "state": {
       "align_items": "stretch",
       "display": "flex",
       "flex_flow": "row",
       "grid_auto_columns": "True",
       "justify_content": "flex-start",
       "width": "80%"
      }
     },
     "81b2a0e63a8449b18b63e2275cc3aab3": {
      "model_module": "@jupyter-widgets/base",
      "model_module_version": "1.2.0",
      "model_name": "LayoutModel",
      "state": {}
     },
     "826629cb9c274be3b37c0e4379d7aba8": {
      "model_module": "@jupyter-widgets/base",
      "model_module_version": "1.2.0",
      "model_name": "LayoutModel",
      "state": {}
     },
     "828d5642d55c4e46b8667c1e4f627191": {
      "model_module": "@jupyter-widgets/controls",
      "model_module_version": "1.5.0",
      "model_name": "VBoxModel",
      "state": {
       "children": [
        "IPY_MODEL_7eb5ee73bc244cb1a2b5586969f3e3ed",
        "IPY_MODEL_526a6429ff7d46978e25bbe3099e9d97",
        "IPY_MODEL_89082914dfc947e7a09897c2c2fbfb24",
        "IPY_MODEL_ac9c4d95b5714a079f1e1af678565e6c",
        "IPY_MODEL_ea091545d97048589fa711b564fe7041",
        "IPY_MODEL_6dd54e406e1e420999b91320ff432980",
        "IPY_MODEL_697520d3ae794128a1d71c05651f9398",
        "IPY_MODEL_3c4a2f596b84451f8f54f3422488258d"
       ],
       "layout": "IPY_MODEL_f257e444327240ea9a244e1729a3d889"
      }
     },
     "82fb9d28a86a4a93afb47482b5751cec": {
      "model_module": "@jupyter-widgets/controls",
      "model_module_version": "1.5.0",
      "model_name": "DescriptionStyleModel",
      "state": {
       "description_width": ""
      }
     },
     "836f257544e2452297487c078505b682": {
      "model_module": "@jupyter-widgets/controls",
      "model_module_version": "1.5.0",
      "model_name": "VBoxModel",
      "state": {
       "children": [
        "IPY_MODEL_ee44a7d0f2fc41aba290ff925d915fe9"
       ],
       "layout": "IPY_MODEL_b074474282b2423c8ec6b2a338bac618"
      }
     },
     "837d9744655c49aebdc046d30147870e": {
      "model_module": "@jupyter-widgets/base",
      "model_module_version": "1.2.0",
      "model_name": "LayoutModel",
      "state": {}
     },
     "8393e093e1734373a8a71571c12504fd": {
      "model_module": "@jupyter-widgets/base",
      "model_module_version": "1.2.0",
      "model_name": "LayoutModel",
      "state": {}
     },
     "83a18c8bf81f4e73879d2bdc1429f675": {
      "model_module": "@jupyter-widgets/base",
      "model_module_version": "1.2.0",
      "model_name": "LayoutModel",
      "state": {}
     },
     "83c7e5d7147447ee9859ceebf0e0ec35": {
      "model_module": "@jupyter-widgets/controls",
      "model_module_version": "1.5.0",
      "model_name": "DescriptionStyleModel",
      "state": {
       "description_width": ""
      }
     },
     "83e01227ad0942c5b1e961b9fa0fa2f5": {
      "model_module": "@jupyter-widgets/base",
      "model_module_version": "1.2.0",
      "model_name": "LayoutModel",
      "state": {}
     },
     "8450da4bb2984f1d98546a5aac635f12": {
      "model_module": "@jupyter-widgets/base",
      "model_module_version": "1.2.0",
      "model_name": "LayoutModel",
      "state": {
       "align_items": "stretch",
       "display": "flex",
       "flex_flow": "row",
       "grid_auto_columns": "True",
       "justify_content": "flex-start",
       "width": "80%"
      }
     },
     "84fdb29b3eb249b2a183bb4de7f927de": {
      "model_module": "@jupyter-widgets/base",
      "model_module_version": "1.2.0",
      "model_name": "LayoutModel",
      "state": {}
     },
     "8506a9148a734e11bdce6e0a4eaa7b70": {
      "model_module": "@jupyter-widgets/controls",
      "model_module_version": "1.5.0",
      "model_name": "VBoxModel",
      "state": {
       "children": [
        "IPY_MODEL_a5203026ab65407db6febf30e5fd48ce",
        "IPY_MODEL_f83d687567c04a37802b7efc8c59b6bb",
        "IPY_MODEL_913605fec04e43efbc02c148523ccd9a",
        "IPY_MODEL_4d6fd08042984f609820a431dabda75b",
        "IPY_MODEL_a0aa6b54ed164218a15587c11faf7118"
       ],
       "layout": "IPY_MODEL_da6c4eae6be74f2289e0d1dac71b19d5"
      }
     },
     "8575cdedafb443b3be0608279412f1ce": {
      "model_module": "@jupyter-widgets/output",
      "model_module_version": "1.0.0",
      "model_name": "OutputModel",
      "state": {
       "layout": "IPY_MODEL_22cd61e6b2544035a9c8c93360763442"
      }
     },
     "8588ae79e6be40a18953157badfcd48c": {
      "model_module": "@jupyter-widgets/controls",
      "model_module_version": "1.5.0",
      "model_name": "FloatTextModel",
      "state": {
       "layout": "IPY_MODEL_227179b974da4e58bd70544e840baf77",
       "step": null,
       "style": "IPY_MODEL_5ea08b9918ca4068bbd1451ae8aae646",
       "value": 9
      }
     },
     "85947ed6ff364161b5c372ed8495f42b": {
      "model_module": "@jupyter-widgets/controls",
      "model_module_version": "1.5.0",
      "model_name": "HBoxModel",
      "state": {
       "children": [
        "IPY_MODEL_089092dd04c04dacb1a10a0a8893093b",
        "IPY_MODEL_8b8f292eaf294fa98809ff40edaa70c9"
       ],
       "layout": "IPY_MODEL_6a886ae6ba5a4b0babb938dd400803b6"
      }
     },
     "85a232b1bc8344199e736113e72dca14": {
      "model_module": "@jupyter-widgets/output",
      "model_module_version": "1.0.0",
      "model_name": "OutputModel",
      "state": {
       "layout": "IPY_MODEL_378455e43fe048fc9be9036ad7458ad2"
      }
     },
     "85b0924062b74c6aa23b2a189c7b4e9d": {
      "model_module": "@jupyter-widgets/base",
      "model_module_version": "1.2.0",
      "model_name": "LayoutModel",
      "state": {
       "align_items": "stretch",
       "border": "dashed 0.2px green",
       "display": "flex",
       "flex_flow": "row",
       "grid_auto_columns": "True",
       "justify_content": "flex-start",
       "width": "100%"
      }
     },
     "85f40027e2564172b7a8cd1fb3200753": {
      "model_module": "@jupyter-widgets/controls",
      "model_module_version": "1.5.0",
      "model_name": "HBoxModel",
      "state": {
       "children": [
        "IPY_MODEL_eb23044963434ec6a12a8c56cdd2f3b9",
        "IPY_MODEL_3b74262ea8904ae38c424b1e4cfa071b"
       ],
       "layout": "IPY_MODEL_c52a03e42dd047388e5e7810b39d8dba"
      }
     },
     "8602eb1e07da4386aa21a31bea1467d6": {
      "model_module": "ipysheet",
      "model_module_version": "~0.4.4",
      "model_name": "CellRangeModel",
      "state": {
       "_view_module": null,
       "_view_module_version": "",
       "choice": [],
       "column_end": 5,
       "column_start": 5,
       "numeric_format": null,
       "row_end": 3,
       "row_start": 0,
       "squeeze_row": false,
       "type": "text",
       "value": [
        "<class 'str'>",
        "<class 'NoneType'>",
        "<class 'NoneType'>",
        "<class 'NoneType'>"
       ]
      }
     },
     "86318cab59584c7db03247c88643d04d": {
      "model_module": "@jupyter-widgets/controls",
      "model_module_version": "1.5.0",
      "model_name": "HTMLModel",
      "state": {
       "layout": "IPY_MODEL_affaddc86cc94dabab1caeb68476fb29",
       "style": "IPY_MODEL_374188c8e5ea47fbaa2416941101e19c",
       "value": "<p>its a foo cake</p>"
      }
     },
     "864595be4d364a7fa5978ba88030b4ef": {
      "model_module": "@jupyter-widgets/controls",
      "model_module_version": "1.5.0",
      "model_name": "ButtonStyleModel",
      "state": {
       "font_weight": "bold"
      }
     },
     "8651155643cc49f988aad17a036f3fbe": {
      "model_module": "@jupyter-widgets/controls",
      "model_module_version": "1.5.0",
      "model_name": "ButtonStyleModel",
      "state": {
       "font_weight": "bold"
      }
     },
     "86a856539fb345c6a041ddf765457719": {
      "model_module": "@jupyter-widgets/base",
      "model_module_version": "1.2.0",
      "model_name": "LayoutModel",
      "state": {}
     },
     "86adedc762334295924a146e3f21e816": {
      "model_module": "@jupyter-widgets/base",
      "model_module_version": "1.2.0",
      "model_name": "LayoutModel",
      "state": {
       "align_items": "stretch",
       "border": "dashed 0.2px green",
       "display": "flex",
       "flex_flow": "row",
       "grid_auto_columns": "True",
       "justify_content": "flex-start",
       "width": "100%"
      }
     },
     "86c3fc0ff3ba4c95b8b1ab5ccb7193f0": {
      "model_module": "@jupyter-widgets/controls",
      "model_module_version": "1.5.0",
      "model_name": "HBoxModel",
      "state": {
       "children": [
        "IPY_MODEL_4c540e7b967846cdb1a5cb20e5eb04d1"
       ],
       "layout": "IPY_MODEL_1292b3e753ee439ca9ed5fbc61e67f8f"
      }
     },
     "86f798a18d694ecfb85b2b93f0eeeb3d": {
      "model_module": "@jupyter-widgets/base",
      "model_module_version": "1.2.0",
      "model_name": "LayoutModel",
      "state": {
       "align_items": "stretch",
       "display": "flex",
       "flex_flow": "row",
       "grid_auto_columns": "True",
       "justify_content": "flex-end",
       "width": "90%"
      }
     },
     "86febddd085b4020b75ebf20d6cca914": {
      "model_module": "@jupyter-widgets/base",
      "model_module_version": "1.2.0",
      "model_name": "LayoutModel",
      "state": {}
     },
     "873f2db5a0df4415b7273cb2dd01c184": {
      "model_module": "@jupyter-widgets/controls",
      "model_module_version": "1.5.0",
      "model_name": "HTMLModel",
      "state": {
       "layout": "IPY_MODEL_8393e093e1734373a8a71571c12504fd",
       "style": "IPY_MODEL_e0862f1ef28f435387e0a1f7cb1b41ec",
       "value": "<p>its a delicious foo cake</p>"
      }
     },
     "878f7e81b80a4c2a87625ee4a06560b7": {
      "model_module": "@jupyter-widgets/output",
      "model_module_version": "1.0.0",
      "model_name": "OutputModel",
      "state": {
       "layout": "IPY_MODEL_8e4c03fc90144b208ccdf427ad348b43"
      }
     },
     "87b498e99ec44f71adea8616ebc29dea": {
      "model_module": "@jupyter-widgets/controls",
      "model_module_version": "1.5.0",
      "model_name": "VBoxModel",
      "state": {
       "children": [
        "IPY_MODEL_950a78b5b837438ca0fb8c78a12e45a3",
        "IPY_MODEL_68aa16a2ba134568b8e014b192bb05d7",
        "IPY_MODEL_f0d177f16fde4a2298e7021b44329878",
        "IPY_MODEL_467b4fd95c88481cb54ba1b660004471",
        "IPY_MODEL_1f5f04515f744256b5c96e7579c0f35f"
       ],
       "layout": "IPY_MODEL_2c9d8658787d480f81ace14d6b56aa7d"
      }
     },
     "87f3f164d1824d22b227590b5244f838": {
      "model_module": "@jupyter-widgets/controls",
      "model_module_version": "1.5.0",
      "model_name": "DescriptionStyleModel",
      "state": {
       "description_width": ""
      }
     },
     "87f52e6764604b659ed8a011603d3836": {
      "model_module": "@jupyter-widgets/controls",
      "model_module_version": "1.5.0",
      "model_name": "DescriptionStyleModel",
      "state": {
       "description_width": ""
      }
     },
     "87f745f821b44aa386fd12fe93c1106b": {
      "model_module": "@jupyter-widgets/controls",
      "model_module_version": "1.5.0",
      "model_name": "HTMLModel",
      "state": {
       "layout": "IPY_MODEL_684fa5d3c7ac4b6eb78d525dae0c7606",
       "style": "IPY_MODEL_1eff508946944cd38bf8227fc9b9a6dc",
       "value": "<p>name</p>"
      }
     },
     "8852b5940dec454aa52547697f1cf12a": {
      "model_module": "@jupyter-widgets/base",
      "model_module_version": "1.2.0",
      "model_name": "LayoutModel",
      "state": {}
     },
     "8904e685250841c7966c55707d1593b1": {
      "model_module": "@jupyter-widgets/controls",
      "model_module_version": "1.5.0",
      "model_name": "HBoxModel",
      "state": {
       "children": [
        "IPY_MODEL_186000dde4f14c68889e287a57788a7c",
        "IPY_MODEL_fae2e11a183b4ddd93f4fcb6fdd208e4"
       ],
       "layout": "IPY_MODEL_08395771d26e4d13841657608476fb10"
      }
     },
     "89082914dfc947e7a09897c2c2fbfb24": {
      "model_module": "@jupyter-widgets/controls",
      "model_module_version": "1.5.0",
      "model_name": "HBoxModel",
      "state": {
       "children": [
        "IPY_MODEL_5638f3efc71b4b1c9d070dc12cc5c024"
       ],
       "layout": "IPY_MODEL_86adedc762334295924a146e3f21e816"
      }
     },
     "896cfb6e88dd4b6c90e39a896c447bbb": {
      "model_module": "@jupyter-widgets/controls",
      "model_module_version": "1.5.0",
      "model_name": "DescriptionStyleModel",
      "state": {
       "description_width": ""
      }
     },
     "89812393f0fd47d482248993dd4083eb": {
      "model_module": "@jupyter-widgets/base",
      "model_module_version": "1.2.0",
      "model_name": "LayoutModel",
      "state": {}
     },
     "89e367e5210c4eca8015ffc6eab3c384": {
      "model_module": "@jupyter-widgets/base",
      "model_module_version": "1.2.0",
      "model_name": "LayoutModel",
      "state": {}
     },
     "8a79a1c2b7534723b037a78091217898": {
      "model_module": "@jupyter-widgets/base",
      "model_module_version": "1.2.0",
      "model_name": "LayoutModel",
      "state": {}
     },
     "8a8fb80be6f346e49de7afea8622f50c": {
      "model_module": "@jupyter-widgets/controls",
      "model_module_version": "1.5.0",
      "model_name": "FloatSliderModel",
      "state": {
       "layout": "IPY_MODEL_b1206d9816e8493ea3cb7841b50a6fae",
       "max": 10,
       "style": "IPY_MODEL_f2c83adcc0e947c399ebd31839c6b2fa",
       "value": 10
      }
     },
     "8ad6ccf9faf74f25923883276f370b5d": {
      "model_module": "@jupyter-widgets/controls",
      "model_module_version": "1.5.0",
      "model_name": "HBoxModel",
      "state": {
       "children": [
        "IPY_MODEL_98285325d37a416bb1792726cdd098a6",
        "IPY_MODEL_11f6230278f04687858333e24e7e9d36"
       ],
       "layout": "IPY_MODEL_9c7d1effc1c748a18972a9875d8d9211"
      }
     },
     "8adf3ebe04454af4b0576c5d8273148d": {
      "model_module": "@jupyter-widgets/controls",
      "model_module_version": "1.5.0",
      "model_name": "HBoxModel",
      "state": {
       "children": [
        "IPY_MODEL_35424cd51967470bbd2fe0c1296ebf7c"
       ],
       "layout": "IPY_MODEL_2080c6b7443d4abb8d6e8395d4285625"
      }
     },
     "8af5b94ce48d42c4923c96d0ccc2f367": {
      "model_module": "@jupyter-widgets/base",
      "model_module_version": "1.2.0",
      "model_name": "LayoutModel",
      "state": {}
     },
     "8afbbd50eef4402ebb98bcb05bb8f7d4": {
      "model_module": "@jupyter-widgets/controls",
      "model_module_version": "1.5.0",
      "model_name": "HTMLModel",
      "state": {
       "layout": "IPY_MODEL_3dd083f748a841a4b45efdc5b6791b18",
       "style": "IPY_MODEL_ca3fe477249c47de835e3d26c8dc076c",
       "value": "<p>fus foo ous o</p>"
      }
     },
     "8b08cdc1764d47179d057f38fcf8d26d": {
      "model_module": "@jupyter-widgets/controls",
      "model_module_version": "1.5.0",
      "model_name": "HBoxModel",
      "state": {
       "children": [
        "IPY_MODEL_8a8fb80be6f346e49de7afea8622f50c",
        "IPY_MODEL_bdf30d9df37a46739f674de59176f123"
       ],
       "layout": "IPY_MODEL_9007679422124cf18e122f85b6b718ac"
      }
     },
     "8b27576c964848f2b2314999b39b7762": {
      "model_module": "@jupyter-widgets/base",
      "model_module_version": "1.2.0",
      "model_name": "LayoutModel",
      "state": {
       "align_items": "stretch",
       "border": "dashed 0.2px green",
       "display": "flex",
       "flex_flow": "row",
       "grid_auto_columns": "True",
       "justify_content": "flex-start",
       "width": "100%"
      }
     },
     "8b8f292eaf294fa98809ff40edaa70c9": {
      "model_module": "@jupyter-widgets/controls",
      "model_module_version": "1.5.0",
      "model_name": "HTMLModel",
      "state": {
       "layout": "IPY_MODEL_e360803a4c8b4277ae12f8d1fafc149a",
       "style": "IPY_MODEL_b937813f80994e6d99e61549293cd700",
       "value": "<p>its a foo cake</p>"
      }
     },
     "8bdb500b476e434da7009aebf6bd5890": {
      "model_module": "@jupyter-widgets/output",
      "model_module_version": "1.0.0",
      "model_name": "OutputModel",
      "state": {
       "layout": "IPY_MODEL_67ccf6fc3b7d4e08ad896cc7369b7d3d"
      }
     },
     "8bfd394de08743748e8b91ee307c7904": {
      "model_module": "@jupyter-widgets/base",
      "model_module_version": "1.2.0",
      "model_name": "LayoutModel",
      "state": {
       "align_items": "stretch",
       "display": "flex",
       "flex_flow": "row",
       "grid_auto_columns": "True",
       "justify_content": "flex-end",
       "width": "90%"
      }
     },
     "8c2327d4609e4f3b8fac257eb9a8bb89": {
      "model_module": "@jupyter-widgets/output",
      "model_module_version": "1.0.0",
      "model_name": "OutputModel",
      "state": {
       "layout": "IPY_MODEL_4cd81a1afa4242169190e602d3a5eef3"
      }
     },
     "8c37efd0d9544b4db5ef1035de956297": {
      "model_module": "@jupyter-widgets/controls",
      "model_module_version": "1.5.0",
      "model_name": "HBoxModel",
      "state": {
       "children": [
        "IPY_MODEL_d4a7be99e8134cbaac6a0e335dc29a77",
        "IPY_MODEL_130baf6426e549d8bbbbb2318e7c5021"
       ],
       "layout": "IPY_MODEL_eed0d943f4e040888e0872a4f00daf72"
      }
     },
     "8d0bdbb5e7984aa4a3e5b51390604dfc": {
      "model_module": "@jupyter-widgets/controls",
      "model_module_version": "1.5.0",
      "model_name": "HTMLModel",
      "state": {
       "layout": "IPY_MODEL_b05274ddd2134ca2b171dca4d30cb9cf",
       "style": "IPY_MODEL_43f27d61937647aeabb63eff6663cf25",
       "value": "<p>fus foo ous o</p>"
      }
     },
     "8d48bda8a0224a87ac7365036a449247": {
      "model_module": "@jupyter-widgets/controls",
      "model_module_version": "1.5.0",
      "model_name": "DescriptionStyleModel",
      "state": {
       "description_width": ""
      }
     },
     "8d4e6a26d9364afe9aae8bcdb14e2488": {
      "model_module": "@jupyter-widgets/base",
      "model_module_version": "1.2.0",
      "model_name": "LayoutModel",
      "state": {}
     },
     "8d8ae5e404b24f96a6dd9b7a3f0807dc": {
      "model_module": "@jupyter-widgets/controls",
      "model_module_version": "1.5.0",
      "model_name": "HBoxModel",
      "state": {
       "children": [
        "IPY_MODEL_8dad5c2bde2741c3a53462600881f37a",
        "IPY_MODEL_54c0aceaa14544d5b6b1d1f887c5654d"
       ],
       "layout": "IPY_MODEL_9782b2d5864e4ba5bca7ef041968904e"
      }
     },
     "8dad5c2bde2741c3a53462600881f37a": {
      "model_module": "@jupyter-widgets/controls",
      "model_module_version": "1.5.0",
      "model_name": "TextareaModel",
      "state": {
       "layout": "IPY_MODEL_c6a32b0731234e5dae008583b68c5d33",
       "style": "IPY_MODEL_e1a1503ae67248bd9c9040e4ebd5a160",
       "value": "This is a very long text areas string that needs a bigger box to fit all of hte verbose nonsense"
      }
     },
     "8df7aada59f04ff6b7f7b796277132d8": {
      "model_module": "@jupyter-widgets/controls",
      "model_module_version": "1.5.0",
      "model_name": "HBoxModel",
      "state": {
       "children": [
        "IPY_MODEL_222b7f6dac7b44429ca4e1ff3aaf2c23",
        "IPY_MODEL_acbbd4242dce42f3b528fe2551c213eb"
       ],
       "layout": "IPY_MODEL_2b21075298db423199a9e5b866239ff1"
      }
     },
     "8e1a55ffc67b48f498b7a80cd430e7d7": {
      "model_module": "@jupyter-widgets/controls",
      "model_module_version": "1.5.0",
      "model_name": "HBoxModel",
      "state": {
       "children": [
        "IPY_MODEL_49c7adfd5d374c5e8ac6efdcf2101df0",
        "IPY_MODEL_fab8aaebf91d464db3e118e8c77746e6"
       ],
       "layout": "IPY_MODEL_d4a1a3eaff804a7d92a8518a2d68ec47"
      }
     },
     "8e1d296670b940ecaebeb8a7281a619c": {
      "model_module": "@jupyter-widgets/base",
      "model_module_version": "1.2.0",
      "model_name": "LayoutModel",
      "state": {
       "align_items": "stretch",
       "border": "dashed 0.2px green",
       "display": "flex",
       "flex_flow": "row",
       "grid_auto_columns": "True",
       "justify_content": "flex-start",
       "width": "100%"
      }
     },
     "8e4c03fc90144b208ccdf427ad348b43": {
      "model_module": "@jupyter-widgets/base",
      "model_module_version": "1.2.0",
      "model_name": "LayoutModel",
      "state": {}
     },
     "8e575406efde42729cd07ba834b43ebf": {
      "model_module": "@jupyter-widgets/base",
      "model_module_version": "1.2.0",
      "model_name": "LayoutModel",
      "state": {
       "display": "flex",
       "flex_flow": "row",
       "grid_auto_columns": "False",
       "justify_content": "flex-start",
       "width": "100%"
      }
     },
     "8e954f49a35249898c0cd04e1d994120": {
      "model_module": "@jupyter-widgets/base",
      "model_module_version": "1.2.0",
      "model_name": "LayoutModel",
      "state": {
       "align_items": "stretch",
       "display": "flex",
       "flex_flow": "row",
       "grid_auto_columns": "True",
       "justify_content": "flex-end",
       "width": "90%"
      }
     },
     "8f0bed8c9830433eb8dd190253c21bf3": {
      "model_module": "@jupyter-widgets/base",
      "model_module_version": "1.2.0",
      "model_name": "LayoutModel",
      "state": {
       "align_items": "stretch",
       "display": "flex",
       "flex_flow": "row",
       "grid_auto_columns": "True",
       "justify_content": "flex-end",
       "width": "90%"
      }
     },
     "8f29d4f136e844849afd89cc3be1d138": {
      "model_module": "@jupyter-widgets/base",
      "model_module_version": "1.2.0",
      "model_name": "LayoutModel",
      "state": {
       "align_items": "stretch",
       "display": "flex",
       "flex_flow": "row",
       "grid_auto_columns": "True",
       "justify_content": "flex-end",
       "width": "90%"
      }
     },
     "8fc352f98b5e490eab6fbcb935f8bcc6": {
      "model_module": "@jupyter-widgets/base",
      "model_module_version": "1.2.0",
      "model_name": "LayoutModel",
      "state": {
       "align_items": "stretch",
       "display": "flex",
       "flex_flow": "row",
       "grid_auto_columns": "True",
       "justify_content": "flex-end",
       "width": "90%"
      }
     },
     "8ff5219f75b74da2ac16c1439d51fec7": {
      "model_module": "@jupyter-widgets/base",
      "model_module_version": "1.2.0",
      "model_name": "LayoutModel",
      "state": {
       "align_items": "stretch",
       "display": "flex",
       "flex_flow": "row",
       "grid_auto_columns": "True",
       "justify_content": "flex-start",
       "width": "80%"
      }
     },
     "9007679422124cf18e122f85b6b718ac": {
      "model_module": "@jupyter-widgets/base",
      "model_module_version": "1.2.0",
      "model_name": "LayoutModel",
      "state": {
       "align_items": "stretch",
       "display": "flex",
       "flex_flow": "row",
       "grid_auto_columns": "True",
       "justify_content": "flex-start",
       "width": "80%"
      }
     },
     "906e3947cfa94b9ea20567850243b621": {
      "model_module": "@jupyter-widgets/controls",
      "model_module_version": "1.5.0",
      "model_name": "HBoxModel",
      "state": {
       "children": [
        "IPY_MODEL_3611669d089244369150243ee237d8ff",
        "IPY_MODEL_c34d0ab9126d4a059eaf14b7990cc0a3"
       ],
       "layout": "IPY_MODEL_bf74113534ef4016a415be59aab669ab"
      }
     },
     "90b517c9b9ec4d89bae69c143632d84d": {
      "model_module": "@jupyter-widgets/controls",
      "model_module_version": "1.5.0",
      "model_name": "HTMLModel",
      "state": {
       "layout": "IPY_MODEL_7c75c71e4df847dc873d63bbc94ce735",
       "style": "IPY_MODEL_1217e105910845d5952c53aa3b27473f",
       "value": "<p>reus foo ous oo ous foo st</p>"
      }
     },
     "90d67c9ea5e64f0c92ede64fffb618c8": {
      "model_module": "@jupyter-widgets/base",
      "model_module_version": "1.2.0",
      "model_name": "LayoutModel",
      "state": {}
     },
     "90e5fdef30ca4964b03949d47174570b": {
      "model_module": "@jupyter-widgets/controls",
      "model_module_version": "1.5.0",
      "model_name": "HBoxModel",
      "state": {
       "children": [
        "IPY_MODEL_2bb98fa468484397968b25c37156c67e",
        "IPY_MODEL_1f133e6bd9224e8a9d5fa3584ca52523"
       ],
       "layout": "IPY_MODEL_a007330b750349d087692e6aabbcc88c"
      }
     },
     "913605fec04e43efbc02c148523ccd9a": {
      "model_module": "@jupyter-widgets/controls",
      "model_module_version": "1.5.0",
      "model_name": "HBoxModel",
      "state": {
       "children": [
        "IPY_MODEL_a00166f88e484766b1a2824edb9a8183"
       ],
       "layout": "IPY_MODEL_77ce1e5f8b7a47af9b879bdf8e2cd38b"
      }
     },
     "9192143f43834912a3d1588b7e16e534": {
      "model_module": "@jupyter-widgets/base",
      "model_module_version": "1.2.0",
      "model_name": "LayoutModel",
      "state": {}
     },
     "91a3e96bb8a24e54b520f7acf7ebb5b0": {
      "model_module": "@jupyter-widgets/controls",
      "model_module_version": "1.5.0",
      "model_name": "FloatSliderModel",
      "state": {
       "layout": "IPY_MODEL_c1abc17508be4687929aa5e19681d4fc",
       "max": 10,
       "style": "IPY_MODEL_11b225bf63ec4e75b427019f459585a0",
       "value": 10
      }
     },
     "91e79dde339f45e9877f7af7360ea224": {
      "model_module": "@jupyter-widgets/base",
      "model_module_version": "1.2.0",
      "model_name": "LayoutModel",
      "state": {
       "align_items": "stretch",
       "display": "flex",
       "flex_flow": "row",
       "grid_auto_columns": "True",
       "justify_content": "flex-start",
       "width": "80%"
      }
     },
     "923a03dbab3d41f9aff47fc8d2282064": {
      "model_module": "@jupyter-widgets/controls",
      "model_module_version": "1.5.0",
      "model_name": "DescriptionStyleModel",
      "state": {
       "description_width": ""
      }
     },
     "9280199346514568a7b8bf1dab179383": {
      "model_module": "@jupyter-widgets/base",
      "model_module_version": "1.2.0",
      "model_name": "LayoutModel",
      "state": {
       "align_items": "stretch",
       "display": "flex",
       "flex_flow": "row",
       "grid_auto_columns": "True",
       "justify_content": "flex-end",
       "width": "90%"
      }
     },
     "92869e7366b9407f80f5f385436413c3": {
      "model_module": "@jupyter-widgets/controls",
      "model_module_version": "1.5.0",
      "model_name": "HBoxModel",
      "state": {
       "children": [
        "IPY_MODEL_334519eb014a4f7f912826474de1ecd4",
        "IPY_MODEL_e888fb535e224b8ea2f3ed9936e459f7"
       ],
       "layout": "IPY_MODEL_1d86e6d6729b40f881a45fc7a1fa7c92"
      }
     },
     "92cb5f4e425a4c16a90208b18f71d681": {
      "model_module": "@jupyter-widgets/base",
      "model_module_version": "1.2.0",
      "model_name": "LayoutModel",
      "state": {
       "align_items": "stretch",
       "border": "dashed 0.2px green",
       "display": "flex",
       "flex_flow": "row",
       "grid_auto_columns": "True",
       "justify_content": "flex-start",
       "width": "100%"
      }
     },
     "9313dc1c29c449708dd0a80edda4af1d": {
      "model_module": "@jupyter-widgets/controls",
      "model_module_version": "1.5.0",
      "model_name": "HBoxModel",
      "state": {
       "children": [
        "IPY_MODEL_6439247b2e354a5e9d0ec1874adaca87"
       ],
       "layout": "IPY_MODEL_e9ac7fdb409b4ebe97dce3c24a890fa1"
      }
     },
     "9325be59a21a4eb1a484f0d47bdf1822": {
      "model_module": "@jupyter-widgets/controls",
      "model_module_version": "1.5.0",
      "model_name": "FloatTextModel",
      "state": {
       "layout": "IPY_MODEL_e5103846ade84a19ac6354581e0620ec",
       "step": null,
       "style": "IPY_MODEL_e353bcce5c14440fbce40c5a38693fe7",
       "value": 10
      }
     },
     "9335fc26519040459bacc0da8b11d9b3": {
      "model_module": "@jupyter-widgets/controls",
      "model_module_version": "1.5.0",
      "model_name": "DescriptionStyleModel",
      "state": {
       "description_width": ""
      }
     },
     "934517b00333449a8536d00ba615ba01": {
      "model_module": "@jupyter-widgets/controls",
      "model_module_version": "1.5.0",
      "model_name": "DescriptionStyleModel",
      "state": {
       "description_width": ""
      }
     },
     "936bcbe62bcf41d2a41653038ae95646": {
      "model_module": "@jupyter-widgets/base",
      "model_module_version": "1.2.0",
      "model_name": "LayoutModel",
      "state": {
       "align_items": "stretch",
       "display": "flex",
       "flex_flow": "row",
       "grid_auto_columns": "True",
       "justify_content": "flex-start",
       "width": "80%"
      }
     },
     "940c655426dc47d3a98e302f596b589c": {
      "model_module": "@jupyter-widgets/controls",
      "model_module_version": "1.5.0",
      "model_name": "ToggleButtonModel",
      "state": {
       "description": "help",
       "icon": "fa-question-circle",
       "layout": "IPY_MODEL_a25a9d14f9a6444bb8f2fb473f9a7e88",
       "style": "IPY_MODEL_9fbcabe324e44148b6b65ed58c92b82e",
       "tooltip": "gives guidance"
      }
     },
     "941c227bc09f4525ad9f4acebbb4500b": {
      "model_module": "@jupyter-widgets/base",
      "model_module_version": "1.2.0",
      "model_name": "LayoutModel",
      "state": {
       "align_items": "stretch",
       "border": "dashed 0.2px green",
       "display": "flex",
       "flex_flow": "row",
       "grid_auto_columns": "True",
       "justify_content": "flex-start",
       "width": "100%"
      }
     },
     "948a1103b76345c497d61c7b92532abf": {
      "model_module": "@jupyter-widgets/controls",
      "model_module_version": "1.5.0",
      "model_name": "HTMLModel",
      "state": {
       "layout": "IPY_MODEL_df2ae41823b04df19888ceebe4df442b",
       "style": "IPY_MODEL_1b0937ee1b8b4e68a9fb7dfc9e6d1e05",
       "value": "<p>its a foo cake</p>"
      }
     },
     "94d2a886f1a542d2857220139e299cea": {
      "model_module": "@jupyter-widgets/controls",
      "model_module_version": "1.5.0",
      "model_name": "ToggleButtonModel",
      "state": {
       "description": "help",
       "icon": "fa-question-circle",
       "layout": "IPY_MODEL_6952e841bb464ab3b9495959369a79eb",
       "style": "IPY_MODEL_341b1098f2b94305a26785368bb81668",
       "tooltip": "gives guidance"
      }
     },
     "94feb2eca47a411393456ebd5202ef9c": {
      "model_module": "@jupyter-widgets/controls",
      "model_module_version": "1.5.0",
      "model_name": "HBoxModel",
      "state": {
       "children": [
        "IPY_MODEL_6d9fc81d83b84d6e8ce3dbeade70a903"
       ],
       "layout": "IPY_MODEL_d9df614748d0421fa333ec8d94b38231"
      }
     },
     "950106f829384271bb92f402d2752bfe": {
      "model_module": "@jupyter-widgets/controls",
      "model_module_version": "1.5.0",
      "model_name": "DescriptionStyleModel",
      "state": {
       "description_width": ""
      }
     },
     "950a78b5b837438ca0fb8c78a12e45a3": {
      "model_module": "@jupyter-widgets/controls",
      "model_module_version": "1.5.0",
      "model_name": "HBoxModel",
      "state": {
       "children": [
        "IPY_MODEL_fa2c6bd694f440659fda484963c32338",
        "IPY_MODEL_94d2a886f1a542d2857220139e299cea"
       ],
       "layout": "IPY_MODEL_941c227bc09f4525ad9f4acebbb4500b"
      }
     },
     "953ae24bb79b49b3a670f3e3633c6d3d": {
      "model_module": "@jupyter-widgets/base",
      "model_module_version": "1.2.0",
      "model_name": "LayoutModel",
      "state": {}
     },
     "95637d3a88a24051a11e426ddae48c7e": {
      "model_module": "@jupyter-widgets/controls",
      "model_module_version": "1.5.0",
      "model_name": "HBoxModel",
      "state": {
       "children": [
        "IPY_MODEL_b7c4f43c228543f7b63cebec3e7319a3",
        "IPY_MODEL_d88b6c7db4f0428e835d79b474bd729f"
       ],
       "layout": "IPY_MODEL_9cacc286bb4f4237bb35abb87d4c7b2f"
      }
     },
     "959019adfe7b4a6fac3e2736494026f0": {
      "model_module": "@jupyter-widgets/controls",
      "model_module_version": "1.5.0",
      "model_name": "HTMLModel",
      "state": {
       "layout": "IPY_MODEL_2d92061fd13c409896cb136ba01fae93",
       "style": "IPY_MODEL_ffc5c7bffc9f4d43a0e353039df89fc4",
       "value": "<p>its a foo cake</p>"
      }
     },
     "9599b2553c774a74829223c56cdbf20d": {
      "model_module": "@jupyter-widgets/controls",
      "model_module_version": "1.5.0",
      "model_name": "HBoxModel",
      "state": {
       "children": [
        "IPY_MODEL_79bef1c903a0400b892ad8a273354a67",
        "IPY_MODEL_0407b870e4204d4ba2fe5b112ad9864c"
       ],
       "layout": "IPY_MODEL_8450da4bb2984f1d98546a5aac635f12"
      }
     },
     "95da3e1edc9a41c3b207286d0f9ac6ab": {
      "model_module": "@jupyter-widgets/controls",
      "model_module_version": "1.5.0",
      "model_name": "HBoxModel",
      "state": {
       "children": [
        "IPY_MODEL_0fda9da7bcba4805809fa18b372ac76a",
        "IPY_MODEL_c32e0e378ab3426db79b757862bae307"
       ],
       "layout": "IPY_MODEL_028a8a8911fc4815b2e4e22675496793"
      }
     },
     "95fe4e23f5fb4576bb0d349427ca7cf1": {
      "model_module": "@jupyter-widgets/base",
      "model_module_version": "1.2.0",
      "model_name": "LayoutModel",
      "state": {}
     },
     "9603ad3c138f476385966bd284486b0d": {
      "model_module": "@jupyter-widgets/base",
      "model_module_version": "1.2.0",
      "model_name": "LayoutModel",
      "state": {
       "align_items": "stretch",
       "display": "flex",
       "flex_flow": "row",
       "grid_auto_columns": "True",
       "justify_content": "flex-end",
       "width": "90%"
      }
     },
     "960af65826e44c6fb885356be1da0778": {
      "model_module": "@jupyter-widgets/base",
      "model_module_version": "1.2.0",
      "model_name": "LayoutModel",
      "state": {}
     },
     "96345ac4a5f34a8dbb72585718961926": {
      "model_module": "@jupyter-widgets/controls",
      "model_module_version": "1.5.0",
      "model_name": "HBoxModel",
      "state": {
       "children": [
        "IPY_MODEL_161119e0dd9f4ab195cfa33327fc47e7",
        "IPY_MODEL_4474b01fbe7a4904adc436a6d1c4180b"
       ],
       "layout": "IPY_MODEL_a4219e8f93774b7f93ff5ab9d07e526e"
      }
     },
     "963afd83eb7c41a09c210cc5bb641833": {
      "model_module": "@jupyter-widgets/controls",
      "model_module_version": "1.5.0",
      "model_name": "DescriptionStyleModel",
      "state": {
       "description_width": ""
      }
     },
     "965794884e0c489d9c113139687a5269": {
      "model_module": "@jupyter-widgets/base",
      "model_module_version": "1.2.0",
      "model_name": "LayoutModel",
      "state": {
       "align_items": "stretch",
       "border": "dashed 0.2px green",
       "display": "flex",
       "flex_flow": "row",
       "grid_auto_columns": "True",
       "justify_content": "flex-start",
       "width": "100%"
      }
     },
     "9692439a12664e2a95837dfafa3317b2": {
      "model_module": "@jupyter-widgets/controls",
      "model_module_version": "1.5.0",
      "model_name": "VBoxModel",
      "state": {
       "children": [
        "IPY_MODEL_950a78b5b837438ca0fb8c78a12e45a3",
        "IPY_MODEL_68aa16a2ba134568b8e014b192bb05d7",
        "IPY_MODEL_f0d177f16fde4a2298e7021b44329878",
        "IPY_MODEL_467b4fd95c88481cb54ba1b660004471",
        "IPY_MODEL_1f5f04515f744256b5c96e7579c0f35f"
       ],
       "layout": "IPY_MODEL_b7a823fd1c14411e9f8952ad77c036da"
      }
     },
     "96fc959cc5a24fd5a79151f63a00d678": {
      "model_module": "@jupyter-widgets/base",
      "model_module_version": "1.2.0",
      "model_name": "LayoutModel",
      "state": {
       "align_items": "stretch",
       "border": "dashed 0.2px green",
       "display": "flex",
       "flex_flow": "row",
       "grid_auto_columns": "True",
       "justify_content": "flex-start",
       "width": "100%"
      }
     },
     "97353dd3e63a44a397d3cc4855fd44dd": {
      "model_module": "@jupyter-widgets/base",
      "model_module_version": "1.2.0",
      "model_name": "LayoutModel",
      "state": {
       "align_items": "stretch",
       "border": "dashed 0.2px green",
       "display": "flex",
       "flex_flow": "row",
       "grid_auto_columns": "True",
       "justify_content": "flex-start",
       "width": "100%"
      }
     },
     "9742229710544cb68413324c0799d9c7": {
      "model_module": "@jupyter-widgets/base",
      "model_module_version": "1.2.0",
      "model_name": "LayoutModel",
      "state": {}
     },
     "9782b2d5864e4ba5bca7ef041968904e": {
      "model_module": "@jupyter-widgets/base",
      "model_module_version": "1.2.0",
      "model_name": "LayoutModel",
      "state": {
       "align_items": "stretch",
       "display": "flex",
       "flex_flow": "row",
       "grid_auto_columns": "True",
       "justify_content": "flex-start",
       "width": "80%"
      }
     },
     "97a8091ba0d14cd689e5ccaafa305210": {
      "model_module": "@jupyter-widgets/output",
      "model_module_version": "1.0.0",
      "model_name": "OutputModel",
      "state": {
       "layout": "IPY_MODEL_2bc80725cd404c198f029d3d5efeb996"
      }
     },
     "97acd3ed26854a66a980b90eee2e40a9": {
      "model_module": "@jupyter-widgets/base",
      "model_module_version": "1.2.0",
      "model_name": "LayoutModel",
      "state": {}
     },
     "97fd3a2465754b11bd17970f7cd44bdd": {
      "model_module": "@jupyter-widgets/base",
      "model_module_version": "1.2.0",
      "model_name": "LayoutModel",
      "state": {}
     },
     "98285325d37a416bb1792726cdd098a6": {
      "model_module": "@jupyter-widgets/controls",
      "model_module_version": "1.5.0",
      "model_name": "CheckboxModel",
      "state": {
       "disabled": false,
       "layout": "IPY_MODEL_640edabedbec49989c0690e26069ffc5",
       "style": "IPY_MODEL_f71f5686f1f041d3919554ef3c8b4054",
       "value": true
      }
     },
     "994404a660a74ceeb06a5b7eb77a6c81": {
      "model_module": "@jupyter-widgets/base",
      "model_module_version": "1.2.0",
      "model_name": "LayoutModel",
      "state": {
       "align_items": "stretch",
       "border": "dashed 0.2px green",
       "display": "flex",
       "flex_flow": "row",
       "grid_auto_columns": "True",
       "justify_content": "flex-start",
       "width": "100%"
      }
     },
     "99482f2924754d4d9d542a6b840ea42a": {
      "model_module": "@jupyter-widgets/controls",
      "model_module_version": "1.5.0",
      "model_name": "HTMLModel",
      "state": {
       "layout": "IPY_MODEL_48360ed9942b45b395431bf2dac32207",
       "style": "IPY_MODEL_1da212ceb3934820b417f025510671fe",
       "value": "<p>label</p>"
      }
     },
     "997a69a4bba44ccba8c570f74609fad3": {
      "model_module": "@jupyter-widgets/controls",
      "model_module_version": "1.5.0",
      "model_name": "HBoxModel",
      "state": {
       "children": [
        "IPY_MODEL_47aa9eeb5cbe4d5b986518539627f49c"
       ],
       "layout": "IPY_MODEL_4a0f87d0cd1f42398cc9922146282045"
      }
     },
     "997c9bfa6200459d8ff458c9bb565ed5": {
      "model_module": "@jupyter-widgets/controls",
      "model_module_version": "1.5.0",
      "model_name": "HTMLModel",
      "state": {
       "layout": "IPY_MODEL_05a3bec137c34945b2dfa07939ba7779",
       "style": "IPY_MODEL_46453ce70b624a0d9fc89ed6facc29da",
       "value": "<p>edit user input form below</p>"
      }
     },
     "99aa790028444c13bb8f138ef8e3cfba": {
      "model_module": "@jupyter-widgets/controls",
      "model_module_version": "1.5.0",
      "model_name": "DescriptionStyleModel",
      "state": {
       "description_width": ""
      }
     },
     "99ee1cc541f84521ac85e159c3da125a": {
      "model_module": "@jupyter-widgets/controls",
      "model_module_version": "1.5.0",
      "model_name": "ButtonModel",
      "state": {
       "description": "load",
       "icon": "upload",
       "layout": "IPY_MODEL_d43d1c68d2284ef884c7725e3471aea9",
       "style": "IPY_MODEL_8651155643cc49f988aad17a036f3fbe"
      }
     },
     "9a1f9b44004447b0bb697228a9a48e42": {
      "model_module": "@jupyter-widgets/output",
      "model_module_version": "1.0.0",
      "model_name": "OutputModel",
      "state": {
       "layout": "IPY_MODEL_d462bfd2bd734957aeb79c7ebfe29b7b"
      }
     },
     "9a6f39611d2a4a8db56c5584b8a60480": {
      "model_module": "@jupyter-widgets/controls",
      "model_module_version": "1.5.0",
      "model_name": "DescriptionStyleModel",
      "state": {
       "description_width": ""
      }
     },
     "9aff2d634a1e41ccb549db4ecea82d3c": {
      "model_module": "@jupyter-widgets/controls",
      "model_module_version": "1.5.0",
      "model_name": "DescriptionStyleModel",
      "state": {
       "description_width": ""
      }
     },
     "9b1e0a6a7ce9456fb45f476ad56d8bcd": {
      "model_module": "@jupyter-widgets/base",
      "model_module_version": "1.2.0",
      "model_name": "LayoutModel",
      "state": {}
     },
     "9b1fe18fd4a3497c9ad99485107b7abb": {
      "model_module": "@jupyter-widgets/controls",
      "model_module_version": "1.5.0",
      "model_name": "FloatTextModel",
      "state": {
       "layout": "IPY_MODEL_97fd3a2465754b11bd17970f7cd44bdd",
       "step": null,
       "style": "IPY_MODEL_251ad100624443a7918488ecaf287dbf",
       "value": 10
      }
     },
     "9b941f4fd5064d0d92dba834f74f0b6d": {
      "model_module": "@jupyter-widgets/base",
      "model_module_version": "1.2.0",
      "model_name": "LayoutModel",
      "state": {}
     },
     "9bc46d2daa52436085587e751d13bdb7": {
      "model_module": "@jupyter-widgets/controls",
      "model_module_version": "1.5.0",
      "model_name": "ButtonModel",
      "state": {
       "button_style": "success",
       "description": "save changes",
       "layout": "IPY_MODEL_ea03f32792734c54a4e0dd1cb9bfcefc",
       "style": "IPY_MODEL_5ce1d00c25c2403caed40f508c078462"
      }
     },
     "9bcd061ca8614927b72715e3dc19d4e5": {
      "model_module": "@jupyter-widgets/output",
      "model_module_version": "1.0.0",
      "model_name": "OutputModel",
      "state": {
       "layout": "IPY_MODEL_72c036987efc4b94b0058271b42db779"
      }
     },
     "9bf8ba3a1a214b6fbce32ba38fa8d5e7": {
      "model_module": "@jupyter-widgets/controls",
      "model_module_version": "1.5.0",
      "model_name": "DescriptionStyleModel",
      "state": {
       "description_width": ""
      }
     },
     "9c4c6a701bcc4719a507a523d988fbc2": {
      "model_module": "@jupyter-widgets/controls",
      "model_module_version": "1.5.0",
      "model_name": "VBoxModel",
      "state": {
       "children": [
        "IPY_MODEL_13d0fd2f027f4967a36fb8d2ef4a82a0",
        "IPY_MODEL_5d64c49ad0854371bfd4a3b879b32c52",
        "IPY_MODEL_ec741cd2955746e6ad00f35d0cf70b9f",
        "IPY_MODEL_aadf62314057441b9a25b011823909f9",
        "IPY_MODEL_717df69ea20b42058c6460489cb2d4c0",
        "IPY_MODEL_05c22188571c4f54892a73ca92854501",
        "IPY_MODEL_f92dc3d442624cd7a7edf5c70d18aad8",
        "IPY_MODEL_94feb2eca47a411393456ebd5202ef9c"
       ],
       "layout": "IPY_MODEL_9fbcaf75936e41e7aa1ade486db673b7"
      }
     },
     "9c649439288e4e2fbe8d44b7f638454a": {
      "model_module": "@jupyter-widgets/controls",
      "model_module_version": "1.5.0",
      "model_name": "DescriptionStyleModel",
      "state": {
       "description_width": ""
      }
     },
     "9c7d1effc1c748a18972a9875d8d9211": {
      "model_module": "@jupyter-widgets/base",
      "model_module_version": "1.2.0",
      "model_name": "LayoutModel",
      "state": {
       "align_items": "stretch",
       "display": "flex",
       "flex_flow": "row",
       "grid_auto_columns": "True",
       "justify_content": "flex-start",
       "width": "80%"
      }
     },
     "9cacc286bb4f4237bb35abb87d4c7b2f": {
      "model_module": "@jupyter-widgets/base",
      "model_module_version": "1.2.0",
      "model_name": "LayoutModel",
      "state": {
       "align_items": "stretch",
       "display": "flex",
       "flex_flow": "row",
       "grid_auto_columns": "True",
       "justify_content": "flex-start",
       "width": "80%"
      }
     },
     "9cd22d2542914d64aee9b318ad2aa4ac": {
      "model_module": "@jupyter-widgets/output",
      "model_module_version": "1.0.0",
      "model_name": "OutputModel",
      "state": {
       "layout": "IPY_MODEL_2a003ea0a1fd4480a9e875798e491a92"
      }
     },
     "9cdc091e7a6f417d8629dc3cbfdf77ae": {
      "model_module": "@jupyter-widgets/controls",
      "model_module_version": "1.5.0",
      "model_name": "DescriptionStyleModel",
      "state": {
       "description_width": ""
      }
     },
     "9ce36ba1d96242d38ea592df0fd5ed9d": {
      "model_module": "@jupyter-widgets/base",
      "model_module_version": "1.2.0",
      "model_name": "LayoutModel",
      "state": {}
     },
     "9ce766701ab64887a6fca53fc8eecf25": {
      "model_module": "@jupyter-widgets/controls",
      "model_module_version": "1.5.0",
      "model_name": "HTMLModel",
      "state": {
       "layout": "IPY_MODEL_716a50d49eb640b9a203bf437830b6d1",
       "style": "IPY_MODEL_e8e4b6f6e4bd41f5acf4714e619dd1b0",
       "value": "<p>its a foo cake</p>"
      }
     },
     "9d702f4aca7b421395d046dec9fd5083": {
      "model_module": "@jupyter-widgets/base",
      "model_module_version": "1.2.0",
      "model_name": "LayoutModel",
      "state": {}
     },
     "9d7607a0929f4fe78ebef0ac87dcaf11": {
      "model_module": "@jupyter-widgets/output",
      "model_module_version": "1.0.0",
      "model_name": "OutputModel",
      "state": {
       "layout": "IPY_MODEL_6e4353b03b2d4b8bb16e5ac629050861"
      }
     },
     "9de949dcda0b44c3bd8d130a7e6a65bf": {
      "model_module": "@jupyter-widgets/controls",
      "model_module_version": "1.5.0",
      "model_name": "HBoxModel",
      "state": {
       "children": [
        "IPY_MODEL_5812a66148f840bd8e80816a59f90f3b",
        "IPY_MODEL_44080c63038a4a75ab09b3c9823be356"
       ],
       "layout": "IPY_MODEL_188a39b3fadc4f23aed4acb68e8c1dc3"
      }
     },
     "9df8318038624ec9831f80fe638cad07": {
      "model_module": "@jupyter-widgets/base",
      "model_module_version": "1.2.0",
      "model_name": "LayoutModel",
      "state": {}
     },
     "9e27552558674346a73ec4d5993cce30": {
      "model_module": "@jupyter-widgets/base",
      "model_module_version": "1.2.0",
      "model_name": "LayoutModel",
      "state": {}
     },
     "9e2b2068266b42948286dc61e7df32b9": {
      "model_module": "@jupyter-widgets/controls",
      "model_module_version": "1.5.0",
      "model_name": "DescriptionStyleModel",
      "state": {
       "description_width": ""
      }
     },
     "9e2df18ace9d487182815026067e1385": {
      "model_module": "@jupyter-widgets/base",
      "model_module_version": "1.2.0",
      "model_name": "LayoutModel",
      "state": {
       "align_items": "stretch",
       "display": "flex",
       "flex_flow": "row",
       "grid_auto_columns": "True",
       "justify_content": "flex-end",
       "width": "90%"
      }
     },
     "9e90bd6916f04c54b0b84155810aa9aa": {
      "model_module": "@jupyter-widgets/controls",
      "model_module_version": "1.5.0",
      "model_name": "ButtonStyleModel",
      "state": {}
     },
     "9eebe4c96014496c97c2ac0a296fbcf2": {
      "model_module": "@jupyter-widgets/controls",
      "model_module_version": "1.5.0",
      "model_name": "DescriptionStyleModel",
      "state": {
       "description_width": ""
      }
     },
     "9ef63939ac8d4c8c864b609e0db536ff": {
      "model_module": "@jupyter-widgets/output",
      "model_module_version": "1.0.0",
      "model_name": "OutputModel",
      "state": {
       "layout": "IPY_MODEL_28fef6b26c0e4806866a16b03ab58135"
      }
     },
     "9f50a11a192643cc8def736ecdbf1ed8": {
      "model_module": "@jupyter-widgets/base",
      "model_module_version": "1.2.0",
      "model_name": "LayoutModel",
      "state": {
       "align_items": "stretch",
       "display": "flex",
       "flex_flow": "row",
       "grid_auto_columns": "True",
       "justify_content": "flex-end",
       "width": "90%"
      }
     },
     "9f82d7fe8cf8408fb3d7bc835134cf66": {
      "model_module": "@jupyter-widgets/base",
      "model_module_version": "1.2.0",
      "model_name": "LayoutModel",
      "state": {}
     },
     "9fbcabe324e44148b6b65ed58c92b82e": {
      "model_module": "@jupyter-widgets/controls",
      "model_module_version": "1.5.0",
      "model_name": "DescriptionStyleModel",
      "state": {
       "description_width": ""
      }
     },
     "9fbcaf75936e41e7aa1ade486db673b7": {
      "model_module": "@jupyter-widgets/base",
      "model_module_version": "1.2.0",
      "model_name": "LayoutModel",
      "state": {}
     },
     "a00166f88e484766b1a2824edb9a8183": {
      "model_module": "@jupyter-widgets/controls",
      "model_module_version": "1.5.0",
      "model_name": "HBoxModel",
      "state": {
       "children": [
        "IPY_MODEL_5cc98c1a41e54952a503ab43de0c9cfe",
        "IPY_MODEL_6eb2d6b647564e909bcf11b87893cb83"
       ],
       "layout": "IPY_MODEL_bac16a4a1999470489d45ffeebb974ba"
      }
     },
     "a007330b750349d087692e6aabbcc88c": {
      "model_module": "@jupyter-widgets/base",
      "model_module_version": "1.2.0",
      "model_name": "LayoutModel",
      "state": {
       "align_items": "stretch",
       "display": "flex",
       "flex_flow": "row",
       "grid_auto_columns": "True",
       "justify_content": "flex-end",
       "width": "90%"
      }
     },
     "a01b3e79b711441fa0485d700809152f": {
      "model_module": "@jupyter-widgets/output",
      "model_module_version": "1.0.0",
      "model_name": "OutputModel",
      "state": {
       "layout": "IPY_MODEL_e06581a58cb74f98ab848e351bd8c1ae"
      }
     },
     "a024245935634cc9a579d8db84d320b8": {
      "model_module": "@jupyter-widgets/base",
      "model_module_version": "1.2.0",
      "model_name": "LayoutModel",
      "state": {}
     },
     "a06f77ff67b347548657b415d25da91d": {
      "model_module": "@jupyter-widgets/controls",
      "model_module_version": "1.5.0",
      "model_name": "DescriptionStyleModel",
      "state": {
       "description_width": ""
      }
     },
     "a0aa6b54ed164218a15587c11faf7118": {
      "model_module": "@jupyter-widgets/controls",
      "model_module_version": "1.5.0",
      "model_name": "HBoxModel",
      "state": {
       "children": [
        "IPY_MODEL_df3b7df9fcad4e6188126521f9cbbc65"
       ],
       "layout": "IPY_MODEL_e0a7e5bb0b4c4a879c5daa7eef438448"
      }
     },
     "a0ca42b1e38e49c1b68a8e8db5ea2043": {
      "model_module": "@jupyter-widgets/base",
      "model_module_version": "1.2.0",
      "model_name": "LayoutModel",
      "state": {
       "width": "5%"
      }
     },
     "a129c7adfeca41a3abe2b30e9e960bb0": {
      "model_module": "@jupyter-widgets/output",
      "model_module_version": "1.0.0",
      "model_name": "OutputModel",
      "state": {
       "layout": "IPY_MODEL_e844f428fec848f296717c34bbd017a0"
      }
     },
     "a133d3026518480b8b4533a6cf806eff": {
      "model_module": "@jupyter-widgets/controls",
      "model_module_version": "1.5.0",
      "model_name": "HTMLModel",
      "state": {
       "layout": "IPY_MODEL_ca5c2ef3965442468053a6b03a59ff08",
       "style": "IPY_MODEL_5a8828c3d7854ffb99340986a7e6cc07",
       "value": "<p>its a foo cake</p>"
      }
     },
     "a14f9ab2d07a46a49e8b84d0f3ac7cac": {
      "model_module": "@jupyter-widgets/base",
      "model_module_version": "1.2.0",
      "model_name": "LayoutModel",
      "state": {
       "align_items": "stretch",
       "border": "dashed 0.2px green",
       "display": "flex",
       "flex_flow": "row",
       "grid_auto_columns": "True",
       "justify_content": "flex-start",
       "width": "100%"
      }
     },
     "a1984dbbc77c49bc9de737b862864bb0": {
      "model_module": "@jupyter-widgets/output",
      "model_module_version": "1.0.0",
      "model_name": "OutputModel",
      "state": {
       "layout": "IPY_MODEL_f5fa4a6eca5b4624b815736b1e087257"
      }
     },
     "a1a0f5053f0a440f8c7aa00e92c3057e": {
      "model_module": "@jupyter-widgets/base",
      "model_module_version": "1.2.0",
      "model_name": "LayoutModel",
      "state": {
       "align_items": "stretch",
       "display": "flex",
       "flex_flow": "row",
       "grid_auto_columns": "True",
       "justify_content": "flex-start",
       "width": "80%"
      }
     },
     "a1e52c9c1eac4728b8693147b6a7fae9": {
      "model_module": "@jupyter-widgets/controls",
      "model_module_version": "1.5.0",
      "model_name": "DescriptionStyleModel",
      "state": {
       "description_width": ""
      }
     },
     "a1e74b8d1bec419795067b0a301a0ac8": {
      "model_module": "@jupyter-widgets/base",
      "model_module_version": "1.2.0",
      "model_name": "LayoutModel",
      "state": {}
     },
     "a25a9d14f9a6444bb8f2fb473f9a7e88": {
      "model_module": "@jupyter-widgets/base",
      "model_module_version": "1.2.0",
      "model_name": "LayoutModel",
      "state": {
       "width": "5%"
      }
     },
     "a27566d4c00f449f9b584a3e56e756cc": {
      "model_module": "@jupyter-widgets/controls",
      "model_module_version": "1.5.0",
      "model_name": "HBoxModel",
      "state": {
       "children": [
        "IPY_MODEL_cecd2a342cff4d9384f203598559ef1f",
        "IPY_MODEL_0694d180453d4edba1a192726d9b7387"
       ],
       "layout": "IPY_MODEL_9603ad3c138f476385966bd284486b0d"
      }
     },
     "a317286748cd4938ae810d06f122a998": {
      "model_module": "@jupyter-widgets/controls",
      "model_module_version": "1.5.0",
      "model_name": "FloatSliderModel",
      "state": {
       "layout": "IPY_MODEL_18d6275c2db546f89ca3e1a0307c4f23",
       "max": 10,
       "style": "IPY_MODEL_0073a97de735481698d100cf7bccb6cc",
       "value": 10
      }
     },
     "a337a8d3110746b4aea21f32afa47a0d": {
      "model_module": "@jupyter-widgets/controls",
      "model_module_version": "1.5.0",
      "model_name": "ButtonModel",
      "state": {
       "button_style": "success",
       "description": "save changes",
       "layout": "IPY_MODEL_960af65826e44c6fb885356be1da0778",
       "style": "IPY_MODEL_864595be4d364a7fa5978ba88030b4ef"
      }
     },
     "a34012afa86648808cba5677ef5457b3": {
      "model_module": "@jupyter-widgets/output",
      "model_module_version": "1.0.0",
      "model_name": "OutputModel",
      "state": {
       "layout": "IPY_MODEL_b1797932b8054b9991712a29ec018cbb"
      }
     },
     "a365ea2c3677436d8319a7038993efe1": {
      "model_module": "@jupyter-widgets/output",
      "model_module_version": "1.0.0",
      "model_name": "OutputModel",
      "state": {
       "layout": "IPY_MODEL_c0f6e8a5a72948ed98f8ef438f74c067"
      }
     },
     "a39114a01eaa4264a4013573628b0297": {
      "model_module": "@jupyter-widgets/controls",
      "model_module_version": "1.5.0",
      "model_name": "SelectMultipleModel",
      "state": {
       "_options_labels": [
        "asfd",
        "10",
        "asdf"
       ],
       "index": [
        1
       ],
       "layout": "IPY_MODEL_d6c7cbb46ce14075a50397baadf893c5",
       "rows": 5,
       "style": "IPY_MODEL_1df9955bf11e4dcfba65321ed6df4d5c"
      }
     },
     "a3ae14252c2149f8b37998fcfee2125f": {
      "model_module": "@jupyter-widgets/controls",
      "model_module_version": "1.5.0",
      "model_name": "DescriptionStyleModel",
      "state": {
       "description_width": ""
      }
     },
     "a3f3b998998a47339c9a6620ca36118f": {
      "model_module": "@jupyter-widgets/base",
      "model_module_version": "1.2.0",
      "model_name": "LayoutModel",
      "state": {
       "align_items": "stretch",
       "border": "dashed 0.2px green",
       "display": "flex",
       "flex_flow": "row",
       "grid_auto_columns": "True",
       "justify_content": "flex-start",
       "width": "100%"
      }
     },
     "a405bdc5c3e341e39befc1355d1ae128": {
      "model_module": "@jupyter-widgets/controls",
      "model_module_version": "1.5.0",
      "model_name": "HTMLModel",
      "state": {
       "layout": "IPY_MODEL_c0e12b0130024ab98875eab9220390b3",
       "style": "IPY_MODEL_fe16ea38419e405b9cfbe20b954c9f53",
       "value": "<p>its a delicious foo cake</p>"
      }
     },
     "a4219e8f93774b7f93ff5ab9d07e526e": {
      "model_module": "@jupyter-widgets/base",
      "model_module_version": "1.2.0",
      "model_name": "LayoutModel",
      "state": {
       "align_items": "stretch",
       "display": "flex",
       "flex_flow": "row",
       "grid_auto_columns": "True",
       "justify_content": "flex-end",
       "width": "90%"
      }
     },
     "a42da9ae552d444a8d466f63b44fd162": {
      "model_module": "@jupyter-widgets/controls",
      "model_module_version": "1.5.0",
      "model_name": "HBoxModel",
      "state": {
       "children": [
        "IPY_MODEL_785b1bff10254e3c997e8babff6a6cc3",
        "IPY_MODEL_52ee8cedf5c54710b405c5b82c0c394f"
       ],
       "layout": "IPY_MODEL_3b18e6f5e16b4abc804d9456fdb27b9f"
      }
     },
     "a433d7540ab643f38907dfc4a039cb4f": {
      "model_module": "@jupyter-widgets/controls",
      "model_module_version": "1.5.0",
      "model_name": "ButtonModel",
      "state": {
       "button_style": "warning",
       "description": "revert to last save",
       "layout": "IPY_MODEL_e43507136aeb4c39a55d99339b5d3d28",
       "style": "IPY_MODEL_423b1ed416ac47ffafb6bf1736b84c7c"
      }
     },
     "a449698232d54bc4957c50f67016e080": {
      "model_module": "@jupyter-widgets/controls",
      "model_module_version": "1.5.0",
      "model_name": "HTMLModel",
      "state": {
       "layout": "IPY_MODEL_6c5bb40fc51f4d30a66579255e63ef04",
       "style": "IPY_MODEL_0f52d309762049449d6e88ea6bcc51f4",
       "value": "<p>its a foo cake</p>"
      }
     },
     "a46a8b35ea034aa385a2b350e8704e73": {
      "model_module": "@jupyter-widgets/controls",
      "model_module_version": "1.5.0",
      "model_name": "DescriptionStyleModel",
      "state": {
       "description_width": ""
      }
     },
     "a4a36fc3f61041d09e8fef78719e0939": {
      "model_module": "@jupyter-widgets/base",
      "model_module_version": "1.2.0",
      "model_name": "LayoutModel",
      "state": {}
     },
     "a4bac7b8661547b289ee180add0e4e7e": {
      "model_module": "@jupyter-widgets/base",
      "model_module_version": "1.2.0",
      "model_name": "LayoutModel",
      "state": {
       "align_items": "stretch",
       "border": "dashed 0.2px green",
       "display": "flex",
       "flex_flow": "row",
       "grid_auto_columns": "True",
       "justify_content": "flex-start",
       "width": "100%"
      }
     },
     "a4c6f0e989c2481999d0abd9abd8341c": {
      "model_module": "@jupyter-widgets/controls",
      "model_module_version": "1.5.0",
      "model_name": "HTMLModel",
      "state": {
       "layout": "IPY_MODEL_b1401d2c8f6843f8863476559d41cf75",
       "style": "IPY_MODEL_2e9fd83bf0be419db7c7c772b033655b",
       "value": "<p>name</p>"
      }
     },
     "a4de1de23f1443b1aa48b37c4be7eee9": {
      "model_module": "@jupyter-widgets/controls",
      "model_module_version": "1.5.0",
      "model_name": "DescriptionStyleModel",
      "state": {
       "description_width": ""
      }
     },
     "a500f684b93045178f5dc3e338233f39": {
      "model_module": "@jupyter-widgets/controls",
      "model_module_version": "1.5.0",
      "model_name": "HTMLModel",
      "state": {
       "layout": "IPY_MODEL_1493f9d42baa48df85a34f9e5a1abef2",
       "style": "IPY_MODEL_372dd57be4964bcd8203a1a2d3982da8",
       "value": "<p>its a foo cake</p>"
      }
     },
     "a5202356c6d34d96a796a8dee1ba4870": {
      "model_module": "@jupyter-widgets/controls",
      "model_module_version": "1.5.0",
      "model_name": "DescriptionStyleModel",
      "state": {
       "description_width": ""
      }
     },
     "a5203026ab65407db6febf30e5fd48ce": {
      "model_module": "@jupyter-widgets/controls",
      "model_module_version": "1.5.0",
      "model_name": "HBoxModel",
      "state": {
       "children": [
        "IPY_MODEL_22657f24a67145ce8cabae2a8cd41330",
        "IPY_MODEL_2ab330068f174aebb92b87b330693f61"
       ],
       "layout": "IPY_MODEL_965794884e0c489d9c113139687a5269"
      }
     },
     "a5387d35349c455ca67af829bfc6f218": {
      "model_module": "@jupyter-widgets/base",
      "model_module_version": "1.2.0",
      "model_name": "LayoutModel",
      "state": {}
     },
     "a5824d6dfe1b4c7da6102d4eacc7fbac": {
      "model_module": "@jupyter-widgets/controls",
      "model_module_version": "1.5.0",
      "model_name": "HBoxModel",
      "state": {
       "children": [
        "IPY_MODEL_d904fcf56e3b472195ae54ada3a09bb1",
        "IPY_MODEL_df915de5e34d451fa5df10443263ffb1"
       ],
       "layout": "IPY_MODEL_ae23a9fd9c89426298dcf5c5dfd03191"
      }
     },
     "a586b395cc53458ebe1b7c18c616456a": {
      "model_module": "@jupyter-widgets/base",
      "model_module_version": "1.2.0",
      "model_name": "LayoutModel",
      "state": {}
     },
     "a5be3abcdbd7410d8e2b0ee4afac31bf": {
      "model_module": "@jupyter-widgets/output",
      "model_module_version": "1.0.0",
      "model_name": "OutputModel",
      "state": {
       "layout": "IPY_MODEL_0e1d7ce6cd1c4fcebe96b4243d1adb6a"
      }
     },
     "a5e816b231614a52844db4a7f557cc35": {
      "model_module": "@jupyter-widgets/controls",
      "model_module_version": "1.5.0",
      "model_name": "DescriptionStyleModel",
      "state": {
       "description_width": ""
      }
     },
     "a618747809c54e19a460465aae55b6a4": {
      "model_module": "@jupyter-widgets/output",
      "model_module_version": "1.0.0",
      "model_name": "OutputModel",
      "state": {
       "layout": "IPY_MODEL_9192143f43834912a3d1588b7e16e534"
      }
     },
     "a63b2c89d36c467cafae90f751f6e6d0": {
      "model_module": "@jupyter-widgets/output",
      "model_module_version": "1.0.0",
      "model_name": "OutputModel",
      "state": {
       "layout": "IPY_MODEL_c8ce108981854ec2bb073dd3790f33b5"
      }
     },
     "a649af4dcdb441408e384db452e25074": {
      "model_module": "@jupyter-widgets/controls",
      "model_module_version": "1.5.0",
      "model_name": "HBoxModel",
      "state": {
       "children": [
        "IPY_MODEL_392320b41fcd45a6a60b4d23a8c39b4e"
       ],
       "layout": "IPY_MODEL_bdf9a24d66e64fa59d69ecbc8b7e7d84"
      }
     },
     "a6647d15364a45269a5dad99cf7cd044": {
      "model_module": "@jupyter-widgets/controls",
      "model_module_version": "1.5.0",
      "model_name": "ButtonModel",
      "state": {
       "description": "load",
       "icon": "upload",
       "layout": "IPY_MODEL_ba48f9f78f804b79a1d5db78b0e3c1e6",
       "style": "IPY_MODEL_d1abbc3c1a274fdb9eaf9a9981753c27"
      }
     },
     "a6fa73e0aea24452b8b9542c24a63742": {
      "model_module": "@jupyter-widgets/base",
      "model_module_version": "1.2.0",
      "model_name": "LayoutModel",
      "state": {}
     },
     "a702f2bf86e0492688377839731ac2c0": {
      "model_module": "@jupyter-widgets/base",
      "model_module_version": "1.2.0",
      "model_name": "LayoutModel",
      "state": {}
     },
     "a70b161dae9e4b9db165d52ad1c29089": {
      "model_module": "@jupyter-widgets/controls",
      "model_module_version": "1.5.0",
      "model_name": "HBoxModel",
      "state": {
       "children": [
        "IPY_MODEL_73cac6fdbd694f4981f2565c286f6c0a",
        "IPY_MODEL_3421c08b0468415fa0b38765b3f86619"
       ],
       "layout": "IPY_MODEL_ce7c0c62dd9a4a89a0911e7b32481497"
      }
     },
     "a7b90bce9b764855ac0b67b471a0a6e6": {
      "model_module": "@jupyter-widgets/controls",
      "model_module_version": "1.5.0",
      "model_name": "ToggleButtonModel",
      "state": {
       "description": "help",
       "icon": "fa-question-circle",
       "layout": "IPY_MODEL_4d0da77d28234ea0966fbf950c3d3a15",
       "style": "IPY_MODEL_dd34bd76d6b449db8b99584c68f35cc6",
       "tooltip": "gives guidance"
      }
     },
     "a7c8552762414c30b7be5d46d5fac6f6": {
      "model_module": "@jupyter-widgets/controls",
      "model_module_version": "1.5.0",
      "model_name": "VBoxModel",
      "state": {
       "children": [
        "IPY_MODEL_a5203026ab65407db6febf30e5fd48ce",
        "IPY_MODEL_f83d687567c04a37802b7efc8c59b6bb",
        "IPY_MODEL_913605fec04e43efbc02c148523ccd9a",
        "IPY_MODEL_4d6fd08042984f609820a431dabda75b",
        "IPY_MODEL_a0aa6b54ed164218a15587c11faf7118"
       ],
       "layout": "IPY_MODEL_bba4313fc6a2471190ad33a05c4f7668"
      }
     },
     "a81bbe341e894df3a5192af352a3adc2": {
      "model_module": "@jupyter-widgets/base",
      "model_module_version": "1.2.0",
      "model_name": "LayoutModel",
      "state": {}
     },
     "a821cc63ad81401aa849b515d078889e": {
      "model_module": "@jupyter-widgets/controls",
      "model_module_version": "1.5.0",
      "model_name": "HBoxModel",
      "state": {
       "children": [
        "IPY_MODEL_517ed3cb83c94306bbbe9a23d72409ae",
        "IPY_MODEL_5c67e821ad1840fe9a0ab19d7b771c47"
       ],
       "layout": "IPY_MODEL_e522866d273e4aa2a1fadbab72e16475"
      }
     },
     "a82eb6dbf4e94f77a4d9e3229ee53c6b": {
      "model_module": "@jupyter-widgets/output",
      "model_module_version": "1.0.0",
      "model_name": "OutputModel",
      "state": {
       "layout": "IPY_MODEL_e5bf618343be473099479f13d8a19fa0"
      }
     },
     "a86b3e3ddd444bb6a38191cce5a84b97": {
      "model_module": "@jupyter-widgets/controls",
      "model_module_version": "1.5.0",
      "model_name": "HTMLModel",
      "state": {
       "layout": "IPY_MODEL_74ccf0da64a64bbc898914ec8fc87129",
       "style": "IPY_MODEL_0c2f4ae2e8f94c0ba33d591d02640582",
       "value": "<p>edit user input form below</p>"
      }
     },
     "a884a3d4ba5a4f4bb0858833faf46883": {
      "model_module": "@jupyter-widgets/controls",
      "model_module_version": "1.5.0",
      "model_name": "HTMLModel",
      "state": {
       "layout": "IPY_MODEL_de950a5d601e4605b2bb5d09306e3d1c",
       "style": "IPY_MODEL_0f433f6cd57a4717bed3a81b4c3af57e",
       "value": "<p>its a foo cake</p>"
      }
     },
     "a89a219c37c94a3aa9c56741fd210049": {
      "model_module": "@jupyter-widgets/controls",
      "model_module_version": "1.5.0",
      "model_name": "HBoxModel",
      "state": {
       "children": [
        "IPY_MODEL_1ed9253e67cd49a197b47b24d07dcd14"
       ],
       "layout": "IPY_MODEL_3baf8017d0fa49f082b11d158f7fc614"
      }
     },
     "a908b4ad0e864733b802f42154a00728": {
      "model_module": "@jupyter-widgets/controls",
      "model_module_version": "1.5.0",
      "model_name": "HTMLModel",
      "state": {
       "layout": "IPY_MODEL_5694b29b74af4b9fb6a3d63a70edf1e9",
       "style": "IPY_MODEL_beab3ddde5444f8d93958457ba94562b",
       "value": "<p>reous foo ous foo st</p>"
      }
     },
     "a917ae58d2d847be8f62d501bedd552a": {
      "model_module": "@jupyter-widgets/base",
      "model_module_version": "1.2.0",
      "model_name": "LayoutModel",
      "state": {}
     },
     "a93413c252504f3cb0a9a5abf002a9b3": {
      "model_module": "@jupyter-widgets/output",
      "model_module_version": "1.0.0",
      "model_name": "OutputModel",
      "state": {
       "layout": "IPY_MODEL_3e24549ab64e49998086ed55dd83194a"
      }
     },
     "a97dc5ca86fc4d558d0e0bc995aa1a3d": {
      "model_module": "@jupyter-widgets/controls",
      "model_module_version": "1.5.0",
      "model_name": "SliderStyleModel",
      "state": {
       "description_width": ""
      }
     },
     "aa948b58880341298424a6a7a07a2ac8": {
      "model_module": "@jupyter-widgets/base",
      "model_module_version": "1.2.0",
      "model_name": "LayoutModel",
      "state": {}
     },
     "aadf62314057441b9a25b011823909f9": {
      "model_module": "@jupyter-widgets/controls",
      "model_module_version": "1.5.0",
      "model_name": "HBoxModel",
      "state": {
       "children": [
        "IPY_MODEL_8904e685250841c7966c55707d1593b1"
       ],
       "layout": "IPY_MODEL_ada66a2cdd14407f9f3a5631ae348160"
      }
     },
     "aaea4e1f8d8b42f88ced4343e34cf51d": {
      "model_module": "@jupyter-widgets/base",
      "model_module_version": "1.2.0",
      "model_name": "LayoutModel",
      "state": {}
     },
     "ab46d325db2f407ca65c685f6b1d0f03": {
      "model_module": "@jupyter-widgets/controls",
      "model_module_version": "1.5.0",
      "model_name": "TextareaModel",
      "state": {
       "layout": "IPY_MODEL_d32287e1101e41438bf8f6747fd22620",
       "style": "IPY_MODEL_9c649439288e4e2fbe8d44b7f638454a",
       "value": "This is a very long text areas string that needs a bigger box to fit all of hte verbose nonsense"
      }
     },
     "ab7b2109a70c4e3a8064c63beec341e1": {
      "model_module": "@jupyter-widgets/base",
      "model_module_version": "1.2.0",
      "model_name": "LayoutModel",
      "state": {}
     },
     "ab93d999522c4c70a94e653dab406fba": {
      "model_module": "@jupyter-widgets/base",
      "model_module_version": "1.2.0",
      "model_name": "LayoutModel",
      "state": {
       "align_items": "stretch",
       "display": "flex",
       "flex_flow": "row",
       "grid_auto_columns": "True",
       "justify_content": "flex-start",
       "width": "80%"
      }
     },
     "ac16c0d9c7c44fd3b6fd685b9092e5d2": {
      "model_module": "@jupyter-widgets/controls",
      "model_module_version": "1.5.0",
      "model_name": "ButtonStyleModel",
      "state": {
       "font_weight": "bold"
      }
     },
     "ac4b39090ade4ee198b568dbf914062c": {
      "model_module": "@jupyter-widgets/controls",
      "model_module_version": "1.5.0",
      "model_name": "DescriptionStyleModel",
      "state": {
       "description_width": ""
      }
     },
     "ac922312edaf4568818e7327edc5e971": {
      "model_module": "@jupyter-widgets/controls",
      "model_module_version": "1.5.0",
      "model_name": "HBoxModel",
      "state": {
       "children": [
        "IPY_MODEL_19f63d8088e342ef8a80795c9fe29ad5",
        "IPY_MODEL_5e2875ecf04843608c0fb92613ab60c3"
       ],
       "layout": "IPY_MODEL_e404c456505843ae930f21664508ae58"
      }
     },
     "ac9c4d95b5714a079f1e1af678565e6c": {
      "model_module": "@jupyter-widgets/controls",
      "model_module_version": "1.5.0",
      "model_name": "HBoxModel",
      "state": {
       "children": [
        "IPY_MODEL_d96ee0b512fa4698a1a098370b78d523"
       ],
       "layout": "IPY_MODEL_403fa08dda1f4ed8844762a6b8b2b5f3"
      }
     },
     "acb80e171eb343f2bd510dabeb8604d6": {
      "model_module": "@jupyter-widgets/controls",
      "model_module_version": "1.5.0",
      "model_name": "HTMLModel",
      "state": {
       "layout": "IPY_MODEL_fef31240427d44ae98fa10b2fc1a89bc",
       "style": "IPY_MODEL_f75167d6ddbe4457b550b4f06ff4fe19",
       "value": "<p>fus foo ous o</p>"
      }
     },
     "acbbd4242dce42f3b528fe2551c213eb": {
      "model_module": "@jupyter-widgets/controls",
      "model_module_version": "1.5.0",
      "model_name": "HBoxModel",
      "state": {
       "children": [
        "IPY_MODEL_075c8a5a27914dcf9de9d089d2f0ee6d",
        "IPY_MODEL_948a1103b76345c497d61c7b92532abf"
       ],
       "layout": "IPY_MODEL_5780b186dc394430aba7e86684c4fbc2"
      }
     },
     "ad86cb5ac03848c2bf46fd964d5f57eb": {
      "model_module": "@jupyter-widgets/controls",
      "model_module_version": "1.5.0",
      "model_name": "SelectMultipleModel",
      "state": {
       "_options_labels": [
        "asfd",
        "10",
        "asdf"
       ],
       "index": [
        1
       ],
       "layout": "IPY_MODEL_cacda9f6b0c74b0eaf4bff17c6f4bcec",
       "rows": 5,
       "style": "IPY_MODEL_d802fef539324fa2a63fec8387373211"
      }
     },
     "ad8cee9e556d43bc86dcb0950e1daeef": {
      "model_module": "@jupyter-widgets/controls",
      "model_module_version": "1.5.0",
      "model_name": "HTMLModel",
      "state": {
       "layout": "IPY_MODEL_42d9b659ffad4ad0ae83ba211821b955",
       "style": "IPY_MODEL_eff8cf555ec445a3a373883e38bd190e",
       "value": "<p>reus foo ous oo ous foo st</p>"
      }
     },
     "ad9936638cb64a5f8f659db61e8a4917": {
      "model_module": "@jupyter-widgets/base",
      "model_module_version": "1.2.0",
      "model_name": "LayoutModel",
      "state": {
       "align_items": "stretch",
       "display": "flex",
       "flex_flow": "row",
       "grid_auto_columns": "True",
       "justify_content": "flex-start",
       "width": "80%"
      }
     },
     "ada66a2cdd14407f9f3a5631ae348160": {
      "model_module": "@jupyter-widgets/base",
      "model_module_version": "1.2.0",
      "model_name": "LayoutModel",
      "state": {
       "align_items": "stretch",
       "border": "dashed 0.2px green",
       "display": "flex",
       "flex_flow": "row",
       "grid_auto_columns": "True",
       "justify_content": "flex-start",
       "width": "100%"
      }
     },
     "ae23a9fd9c89426298dcf5c5dfd03191": {
      "model_module": "@jupyter-widgets/base",
      "model_module_version": "1.2.0",
      "model_name": "LayoutModel",
      "state": {
       "align_items": "stretch",
       "display": "flex",
       "flex_flow": "row",
       "grid_auto_columns": "True",
       "justify_content": "flex-start",
       "width": "80%"
      }
     },
     "ae571ce130d248828da33551880c3a45": {
      "model_module": "@jupyter-widgets/base",
      "model_module_version": "1.2.0",
      "model_name": "LayoutModel",
      "state": {}
     },
     "ae60cb057df14e058fec1eafb7a9f3b4": {
      "model_module": "@jupyter-widgets/output",
      "model_module_version": "1.0.0",
      "model_name": "OutputModel",
      "state": {
       "layout": "IPY_MODEL_dcf93534491b4c72a51946087e9b966c"
      }
     },
     "ae6f2e9dcf8c4ad98a827488f76c426c": {
      "model_module": "@jupyter-widgets/controls",
      "model_module_version": "1.5.0",
      "model_name": "HBoxModel",
      "state": {
       "children": [
        "IPY_MODEL_10f5469c62ec417c9006c4608cd37bdf",
        "IPY_MODEL_da30724ef4d2428885ec070ea0fa5b07"
       ],
       "layout": "IPY_MODEL_43b152b72e844121a5177335537007ee"
      }
     },
     "af14d6f8389a430f8c08ae04b24ae974": {
      "model_module": "@jupyter-widgets/base",
      "model_module_version": "1.2.0",
      "model_name": "LayoutModel",
      "state": {
       "align_items": "stretch",
       "display": "flex",
       "flex_flow": "row",
       "grid_auto_columns": "True",
       "justify_content": "flex-end",
       "width": "90%"
      }
     },
     "af57587361304ea7a98b627a13c9cb3f": {
      "model_module": "@jupyter-widgets/controls",
      "model_module_version": "1.5.0",
      "model_name": "HTMLModel",
      "state": {
       "layout": "IPY_MODEL_f1d758fe2f414a8dad087c8a9ffbeef6",
       "style": "IPY_MODEL_d4a3d2ed4cdf44ed91b052542ef5828a",
       "value": "<p>its a foo cake</p>"
      }
     },
     "afb839e59eab42e0b38adc38fa501113": {
      "model_module": "@jupyter-widgets/base",
      "model_module_version": "1.2.0",
      "model_name": "LayoutModel",
      "state": {
       "align_items": "stretch",
       "display": "flex",
       "flex_flow": "row",
       "grid_auto_columns": "True",
       "justify_content": "flex-start",
       "width": "80%"
      }
     },
     "afef35d60c3b4055853a3ea8743d623c": {
      "model_module": "@jupyter-widgets/controls",
      "model_module_version": "1.5.0",
      "model_name": "DescriptionStyleModel",
      "state": {
       "description_width": ""
      }
     },
     "affaddc86cc94dabab1caeb68476fb29": {
      "model_module": "@jupyter-widgets/base",
      "model_module_version": "1.2.0",
      "model_name": "LayoutModel",
      "state": {}
     },
     "b05274ddd2134ca2b171dca4d30cb9cf": {
      "model_module": "@jupyter-widgets/base",
      "model_module_version": "1.2.0",
      "model_name": "LayoutModel",
      "state": {}
     },
     "b059f071c6ef4cf5958b98bed3a8e1a8": {
      "model_module": "@jupyter-widgets/base",
      "model_module_version": "1.2.0",
      "model_name": "LayoutModel",
      "state": {
       "display": "flex",
       "flex_flow": "row",
       "grid_auto_columns": "False",
       "justify_content": "flex-start",
       "width": "100%"
      }
     },
     "b074474282b2423c8ec6b2a338bac618": {
      "model_module": "@jupyter-widgets/base",
      "model_module_version": "1.2.0",
      "model_name": "LayoutModel",
      "state": {}
     },
     "b0ddba76f80e46f98e0c143390a0b4ac": {
      "model_module": "@jupyter-widgets/controls",
      "model_module_version": "1.5.0",
      "model_name": "DescriptionStyleModel",
      "state": {
       "description_width": ""
      }
     },
     "b105eabe5bac4f359550697850c1dc74": {
      "model_module": "@jupyter-widgets/controls",
      "model_module_version": "1.5.0",
      "model_name": "HTMLModel",
      "state": {
       "layout": "IPY_MODEL_25887cf8f2ab45de8b361ffad32fc407",
       "style": "IPY_MODEL_7cdf480657c948719d63aab9b56dd425",
       "value": "<p>its a foo cake</p>"
      }
     },
     "b1206d9816e8493ea3cb7841b50a6fae": {
      "model_module": "@jupyter-widgets/base",
      "model_module_version": "1.2.0",
      "model_name": "LayoutModel",
      "state": {}
     },
     "b129405356cc480b87d8d74c091d776e": {
      "model_module": "@jupyter-widgets/controls",
      "model_module_version": "1.5.0",
      "model_name": "DescriptionStyleModel",
      "state": {
       "description_width": ""
      }
     },
     "b1401d2c8f6843f8863476559d41cf75": {
      "model_module": "@jupyter-widgets/base",
      "model_module_version": "1.2.0",
      "model_name": "LayoutModel",
      "state": {}
     },
     "b1797932b8054b9991712a29ec018cbb": {
      "model_module": "@jupyter-widgets/base",
      "model_module_version": "1.2.0",
      "model_name": "LayoutModel",
      "state": {}
     },
     "b19ad99bd6cf4f10afcd7b729a6375fa": {
      "model_module": "@jupyter-widgets/controls",
      "model_module_version": "1.5.0",
      "model_name": "DescriptionStyleModel",
      "state": {
       "description_width": ""
      }
     },
     "b1a3788a73494cb994c4b7303f160b7f": {
      "model_module": "@jupyter-widgets/base",
      "model_module_version": "1.2.0",
      "model_name": "LayoutModel",
      "state": {}
     },
     "b1b8c7a6dc2347e796511f52c7db8b21": {
      "model_module": "@jupyter-widgets/base",
      "model_module_version": "1.2.0",
      "model_name": "LayoutModel",
      "state": {
       "align_items": "stretch",
       "border": "dashed 0.2px green",
       "display": "flex",
       "flex_flow": "row",
       "grid_auto_columns": "True",
       "justify_content": "flex-start",
       "width": "100%"
      }
     },
     "b1ccbc9a77554ea9b6ca038c744dfd0a": {
      "model_module": "@jupyter-widgets/controls",
      "model_module_version": "1.5.0",
      "model_name": "HBoxModel",
      "state": {
       "children": [
        "IPY_MODEL_ea9d74dd194b44b8911a355ad26658d7",
        "IPY_MODEL_6331b56e41e04027bb81911e7cb2f03d"
       ],
       "layout": "IPY_MODEL_b7ec2ed4236645bda228ab5d11971e0b"
      }
     },
     "b20ed8444e834aeeaa8d73dd6600d73b": {
      "model_module": "@jupyter-widgets/controls",
      "model_module_version": "1.5.0",
      "model_name": "VBoxModel",
      "state": {
       "children": [
        "IPY_MODEL_99ee1cc541f84521ac85e159c3da125a",
        "IPY_MODEL_e9dc62961f0f4f1eac1cfd4cda186740"
       ],
       "layout": "IPY_MODEL_27adf745185a4c869ccc145ed0595141"
      }
     },
     "b2682d50fb6245419ec520e01565dd13": {
      "model_module": "@jupyter-widgets/base",
      "model_module_version": "1.2.0",
      "model_name": "LayoutModel",
      "state": {
       "align_items": "stretch",
       "display": "flex",
       "flex_flow": "row",
       "grid_auto_columns": "True",
       "justify_content": "flex-start",
       "width": "80%"
      }
     },
     "b341a8d3d70d41d6a6a908776a2b44ce": {
      "model_module": "@jupyter-widgets/output",
      "model_module_version": "1.0.0",
      "model_name": "OutputModel",
      "state": {
       "layout": "IPY_MODEL_e758c53f325b4cfc8f8714dd88f66942"
      }
     },
     "b3971914ad634dc29228311d866f3da6": {
      "model_module": "@jupyter-widgets/controls",
      "model_module_version": "1.5.0",
      "model_name": "HTMLModel",
      "state": {
       "layout": "IPY_MODEL_cf451cf59ee744718413a08f4862bc1d",
       "style": "IPY_MODEL_6e22dcd8171843648d2d9e8d1307b363",
       "value": "<p>name</p>"
      }
     },
     "b3a45b32a8d34d36a91201c48e5e3097": {
      "model_module": "@jupyter-widgets/base",
      "model_module_version": "1.2.0",
      "model_name": "LayoutModel",
      "state": {
       "align_items": "stretch",
       "display": "flex",
       "flex_flow": "row",
       "grid_auto_columns": "True",
       "justify_content": "flex-end",
       "width": "90%"
      }
     },
     "b3f42671926440b291ac06c429ee1a1b": {
      "model_module": "@jupyter-widgets/base",
      "model_module_version": "1.2.0",
      "model_name": "LayoutModel",
      "state": {
       "align_items": "stretch",
       "display": "flex",
       "flex_flow": "row",
       "grid_auto_columns": "True",
       "justify_content": "flex-start",
       "width": "80%"
      }
     },
     "b3faed0e4b3943cbac52973b073ca882": {
      "model_module": "@jupyter-widgets/base",
      "model_module_version": "1.2.0",
      "model_name": "LayoutModel",
      "state": {}
     },
     "b4b562bba0c74184befe21aed4357553": {
      "model_module": "@jupyter-widgets/base",
      "model_module_version": "1.2.0",
      "model_name": "LayoutModel",
      "state": {}
     },
     "b4f2496c120e4053a50c7677aac078ed": {
      "model_module": "@jupyter-widgets/controls",
      "model_module_version": "1.5.0",
      "model_name": "HBoxModel",
      "state": {
       "children": [
        "IPY_MODEL_2491c64721d447c59d5515723b1bf977",
        "IPY_MODEL_cf84bcefcb164dd0b8136ea181c0d2bd"
       ],
       "layout": "IPY_MODEL_53a1ed0b55a148bda55110b71f7f8ee5"
      }
     },
     "b4ffa1de58664dd0b3a45c5a8a1e3d62": {
      "model_module": "@jupyter-widgets/base",
      "model_module_version": "1.2.0",
      "model_name": "LayoutModel",
      "state": {
       "align_items": "stretch",
       "border": "dashed 0.2px green",
       "display": "flex",
       "flex_flow": "row",
       "grid_auto_columns": "True",
       "justify_content": "flex-start",
       "width": "100%"
      }
     },
     "b53c9313a01c4b44a690837e68694a0a": {
      "model_module": "@jupyter-widgets/base",
      "model_module_version": "1.2.0",
      "model_name": "LayoutModel",
      "state": {}
     },
     "b5ce4dfe64b3414ea67ecab941254455": {
      "model_module": "@jupyter-widgets/controls",
      "model_module_version": "1.5.0",
      "model_name": "HBoxModel",
      "state": {
       "children": [
        "IPY_MODEL_4beb0874ebfd4d3cb2d989e91004044d"
       ],
       "layout": "IPY_MODEL_252bec4cd86f469fbf95a83e188379ba"
      }
     },
     "b6514aa1fa5741b88e0685b95e3ebd8c": {
      "model_module": "@jupyter-widgets/base",
      "model_module_version": "1.2.0",
      "model_name": "LayoutModel",
      "state": {
       "align_items": "stretch",
       "border": "dashed 0.2px green",
       "display": "flex",
       "flex_flow": "row",
       "grid_auto_columns": "True",
       "justify_content": "flex-start",
       "width": "100%"
      }
     },
     "b656df7b76ea4017b529a064df534b7b": {
      "model_module": "@jupyter-widgets/output",
      "model_module_version": "1.0.0",
      "model_name": "OutputModel",
      "state": {
       "layout": "IPY_MODEL_bcf66e06edb349fab5f421d29ac3a0d5"
      }
     },
     "b67462c5ed564bab837e3df75fa0b5b2": {
      "model_module": "@jupyter-widgets/controls",
      "model_module_version": "1.5.0",
      "model_name": "HBoxModel",
      "state": {
       "children": [
        "IPY_MODEL_f54b483dc0ab41a0a651ca4ce6629271",
        "IPY_MODEL_fb5ec3d104354a51acf95f90fae98b40"
       ],
       "layout": "IPY_MODEL_69b4b02ec31148668d8929a20e3f6078"
      }
     },
     "b67ac3b5e9dc4c0ebb1fc474b8b49169": {
      "model_module": "@jupyter-widgets/controls",
      "model_module_version": "1.5.0",
      "model_name": "ToggleButtonModel",
      "state": {
       "description": "help",
       "icon": "fa-question-circle",
       "layout": "IPY_MODEL_e8f75aa91b9f479bb24048ddd8b5dd6f",
       "style": "IPY_MODEL_d98161c5bc394326818f04cc122fe622",
       "tooltip": "gives guidance"
      }
     },
     "b6cf1acfd28a48948dcce96744e2fff7": {
      "model_module": "@jupyter-widgets/output",
      "model_module_version": "1.0.0",
      "model_name": "OutputModel",
      "state": {
       "layout": "IPY_MODEL_7a9da0f5bcf645499242739e5b9f00c2"
      }
     },
     "b6f0947921354f89b6452b48039356d3": {
      "model_module": "@jupyter-widgets/controls",
      "model_module_version": "1.5.0",
      "model_name": "DescriptionStyleModel",
      "state": {
       "description_width": ""
      }
     },
     "b6fbdaf7256743fca8e38aa0b17a5265": {
      "model_module": "@jupyter-widgets/output",
      "model_module_version": "1.0.0",
      "model_name": "OutputModel",
      "state": {
       "layout": "IPY_MODEL_7b9f0a7ca8dc4dbfb8671f7b4287c738"
      }
     },
     "b739273afdff4dd181e354a8b4c26675": {
      "model_module": "@jupyter-widgets/base",
      "model_module_version": "1.2.0",
      "model_name": "LayoutModel",
      "state": {}
     },
     "b73e5378b32243289c94a9038e46cad2": {
      "model_module": "@jupyter-widgets/base",
      "model_module_version": "1.2.0",
      "model_name": "LayoutModel",
      "state": {}
     },
     "b7415cf92e4c44ebb6e2442250aa0709": {
      "model_module": "@jupyter-widgets/controls",
      "model_module_version": "1.5.0",
      "model_name": "HTMLModel",
      "state": {
       "layout": "IPY_MODEL_837d9744655c49aebdc046d30147870e",
       "style": "IPY_MODEL_6c05a4b06f6f43afb96867a44535458d",
       "value": "<p>its a foo cake</p>"
      }
     },
     "b7a326ef3e874765b3d54104d899cf8e": {
      "model_module": "@jupyter-widgets/base",
      "model_module_version": "1.2.0",
      "model_name": "LayoutModel",
      "state": {
       "align_items": "stretch",
       "border": "dashed 0.2px green",
       "display": "flex",
       "flex_flow": "row",
       "grid_auto_columns": "True",
       "justify_content": "flex-start",
       "width": "100%"
      }
     },
     "b7a823fd1c14411e9f8952ad77c036da": {
      "model_module": "@jupyter-widgets/base",
      "model_module_version": "1.2.0",
      "model_name": "LayoutModel",
      "state": {}
     },
     "b7b5ecf4d2894783920138f87c28b785": {
      "model_module": "@jupyter-widgets/base",
      "model_module_version": "1.2.0",
      "model_name": "LayoutModel",
      "state": {}
     },
     "b7c4f43c228543f7b63cebec3e7319a3": {
      "model_module": "@jupyter-widgets/controls",
      "model_module_version": "1.5.0",
      "model_name": "CheckboxModel",
      "state": {
       "disabled": false,
       "layout": "IPY_MODEL_5ea90e396880484984060260ff88b562",
       "style": "IPY_MODEL_b8c2fe0362e44cb983e46a226a7390c2",
       "value": true
      }
     },
     "b7ec2ed4236645bda228ab5d11971e0b": {
      "model_module": "@jupyter-widgets/base",
      "model_module_version": "1.2.0",
      "model_name": "LayoutModel",
      "state": {
       "align_items": "stretch",
       "display": "flex",
       "flex_flow": "row",
       "grid_auto_columns": "True",
       "justify_content": "flex-end",
       "width": "90%"
      }
     },
     "b7f18d554ddc4509a039a174817afe39": {
      "model_module": "@jupyter-widgets/controls",
      "model_module_version": "1.5.0",
      "model_name": "DescriptionStyleModel",
      "state": {
       "description_width": ""
      }
     },
     "b83f1d36296d4d4bb5c1a5d0af65630e": {
      "model_module": "@jupyter-widgets/output",
      "model_module_version": "1.0.0",
      "model_name": "OutputModel",
      "state": {
       "layout": "IPY_MODEL_f1edd92db79f4e94ac5a9d9a97501069"
      }
     },
     "b8471d7228314dc7824e409656e44f43": {
      "model_module": "@jupyter-widgets/base",
      "model_module_version": "1.2.0",
      "model_name": "LayoutModel",
      "state": {}
     },
     "b8c2fe0362e44cb983e46a226a7390c2": {
      "model_module": "@jupyter-widgets/controls",
      "model_module_version": "1.5.0",
      "model_name": "DescriptionStyleModel",
      "state": {
       "description_width": ""
      }
     },
     "b8e84973afa74c0a9f9bfb2f999240ab": {
      "model_module": "@jupyter-widgets/controls",
      "model_module_version": "1.5.0",
      "model_name": "DescriptionStyleModel",
      "state": {
       "description_width": ""
      }
     },
     "b8fb8b26106347d0b7ee3fbb46d1f7ac": {
      "model_module": "@jupyter-widgets/controls",
      "model_module_version": "1.5.0",
      "model_name": "HTMLModel",
      "state": {
       "layout": "IPY_MODEL_9742229710544cb68413324c0799d9c7",
       "style": "IPY_MODEL_896cfb6e88dd4b6c90e39a896c447bbb",
       "value": "<p>its a foo cake</p>"
      }
     },
     "b937813f80994e6d99e61549293cd700": {
      "model_module": "@jupyter-widgets/controls",
      "model_module_version": "1.5.0",
      "model_name": "DescriptionStyleModel",
      "state": {
       "description_width": ""
      }
     },
     "b96b016ebcc64531b81997ffc5536b74": {
      "model_module": "@jupyter-widgets/base",
      "model_module_version": "1.2.0",
      "model_name": "LayoutModel",
      "state": {}
     },
     "b9a0caa391644af997374bd76dd30aff": {
      "model_module": "@jupyter-widgets/base",
      "model_module_version": "1.2.0",
      "model_name": "LayoutModel",
      "state": {
       "align_items": "stretch",
       "display": "flex",
       "flex_flow": "row",
       "grid_auto_columns": "True",
       "justify_content": "flex-end",
       "width": "90%"
      }
     },
     "b9fa3cb6b0a84d0c930f2ed3827e519e": {
      "model_module": "@jupyter-widgets/controls",
      "model_module_version": "1.5.0",
      "model_name": "DescriptionStyleModel",
      "state": {
       "description_width": ""
      }
     },
     "ba48f9f78f804b79a1d5db78b0e3c1e6": {
      "model_module": "@jupyter-widgets/base",
      "model_module_version": "1.2.0",
      "model_name": "LayoutModel",
      "state": {}
     },
     "ba90e3ec87b84304b0601a6f7d3ad26f": {
      "model_module": "@jupyter-widgets/controls",
      "model_module_version": "1.5.0",
      "model_name": "HBoxModel",
      "state": {
       "children": [
        "IPY_MODEL_fb64e2575bd647b99ce95b0c8fbab53e",
        "IPY_MODEL_8b08cdc1764d47179d057f38fcf8d26d"
       ],
       "layout": "IPY_MODEL_cb41ec28d9f84bd1a94261282835350d"
      }
     },
     "bac16a4a1999470489d45ffeebb974ba": {
      "model_module": "@jupyter-widgets/base",
      "model_module_version": "1.2.0",
      "model_name": "LayoutModel",
      "state": {
       "align_items": "stretch",
       "display": "flex",
       "flex_flow": "row",
       "grid_auto_columns": "True",
       "justify_content": "flex-end",
       "width": "90%"
      }
     },
     "bad7210971244a9786c9b9a3ffc66e18": {
      "model_module": "@jupyter-widgets/controls",
      "model_module_version": "1.5.0",
      "model_name": "HBoxModel",
      "state": {
       "children": [
        "IPY_MODEL_6131a64422ff4c6ebf2b79704fa1b67e",
        "IPY_MODEL_2060a01d696a4e2abdaf2250baf5653f"
       ],
       "layout": "IPY_MODEL_4ffe20fdbc1b4dfdb47180cebdfb3557"
      }
     },
     "bae4ea3bc2a94481b3205048416b1382": {
      "model_module": "@jupyter-widgets/base",
      "model_module_version": "1.2.0",
      "model_name": "LayoutModel",
      "state": {}
     },
     "bb33fe6095a04c83bd42ff7a7ce64cea": {
      "model_module": "@jupyter-widgets/base",
      "model_module_version": "1.2.0",
      "model_name": "LayoutModel",
      "state": {}
     },
     "bb3987316d004f1ba9d9b2ee344ae4c6": {
      "model_module": "@jupyter-widgets/controls",
      "model_module_version": "1.5.0",
      "model_name": "DescriptionStyleModel",
      "state": {
       "description_width": ""
      }
     },
     "bb4c9bbc8712469e92bd4ab137688f82": {
      "model_module": "@jupyter-widgets/controls",
      "model_module_version": "1.5.0",
      "model_name": "HBoxModel",
      "state": {
       "children": [
        "IPY_MODEL_3256374eadf64920aa783b341c92da89",
        "IPY_MODEL_3a92aa3d7da94e36adcc3754bd8d2527"
       ],
       "layout": "IPY_MODEL_4661c43c54c6422aa77861f181af2940"
      }
     },
     "bba4313fc6a2471190ad33a05c4f7668": {
      "model_module": "@jupyter-widgets/base",
      "model_module_version": "1.2.0",
      "model_name": "LayoutModel",
      "state": {}
     },
     "bbeb10bedef348dd97dd7f8cc0e9dd73": {
      "model_module": "@jupyter-widgets/base",
      "model_module_version": "1.2.0",
      "model_name": "LayoutModel",
      "state": {}
     },
     "bc1d133b6902405f94b2ccff2cdc12e7": {
      "model_module": "@jupyter-widgets/controls",
      "model_module_version": "1.5.0",
      "model_name": "HBoxModel",
      "state": {
       "children": [
        "IPY_MODEL_125b342796c54bbb8b87cd665158fe38"
       ],
       "layout": "IPY_MODEL_4814ffd68c82462b96c701f1c657f227"
      }
     },
     "bc36b256278841af84057c104b831812": {
      "model_module": "@jupyter-widgets/base",
      "model_module_version": "1.2.0",
      "model_name": "LayoutModel",
      "state": {
       "align_items": "stretch",
       "display": "flex",
       "flex_flow": "row",
       "grid_auto_columns": "True",
       "justify_content": "flex-start",
       "width": "80%"
      }
     },
     "bc7fee48faa84fd38cbfefabc82c6dbd": {
      "model_module": "@jupyter-widgets/controls",
      "model_module_version": "1.5.0",
      "model_name": "FloatSliderModel",
      "state": {
       "layout": "IPY_MODEL_59a94cfdf975443db0ce87bd5c107230",
       "max": 10,
       "style": "IPY_MODEL_06febeb255c0461abfadf43f97012d1b",
       "value": 1
      }
     },
     "bc83931a32de49ed94041be354aa243b": {
      "model_module": "@jupyter-widgets/controls",
      "model_module_version": "1.5.0",
      "model_name": "HTMLModel",
      "state": {
       "layout": "IPY_MODEL_a917ae58d2d847be8f62d501bedd552a",
       "style": "IPY_MODEL_e8b7001f741b42cfb45cf9785969144d",
       "value": "<p>foo</p>"
      }
     },
     "bcc89ba2d80a49199d39c383fee5870d": {
      "model_module": "@jupyter-widgets/controls",
      "model_module_version": "1.5.0",
      "model_name": "HTMLModel",
      "state": {
       "layout": "IPY_MODEL_77e04fc41c92439c97f505ffea176cc7",
       "style": "IPY_MODEL_2651a7223808418d86abb7e859c14940",
       "value": "<p>label</p>"
      }
     },
     "bcd34331ebd0498e908a1edfff4b28af": {
      "model_module": "@jupyter-widgets/controls",
      "model_module_version": "1.5.0",
      "model_name": "DescriptionStyleModel",
      "state": {
       "description_width": ""
      }
     },
     "bcf66e06edb349fab5f421d29ac3a0d5": {
      "model_module": "@jupyter-widgets/base",
      "model_module_version": "1.2.0",
      "model_name": "LayoutModel",
      "state": {}
     },
     "bdf30d9df37a46739f674de59176f123": {
      "model_module": "@jupyter-widgets/controls",
      "model_module_version": "1.5.0",
      "model_name": "HTMLModel",
      "state": {
       "layout": "IPY_MODEL_e15ca146bd7d4639b42d748fc8295e44",
       "style": "IPY_MODEL_27902b1216f24d82b1b36620a13af2b5",
       "value": "<p>its a foo cake</p>"
      }
     },
     "bdf9a24d66e64fa59d69ecbc8b7e7d84": {
      "model_module": "@jupyter-widgets/base",
      "model_module_version": "1.2.0",
      "model_name": "LayoutModel",
      "state": {
       "align_items": "stretch",
       "border": "dashed 0.2px green",
       "display": "flex",
       "flex_flow": "row",
       "grid_auto_columns": "True",
       "justify_content": "flex-start",
       "width": "100%"
      }
     },
     "be5001cf08b849ecbc2f28a67780adbc": {
      "model_module": "@jupyter-widgets/controls",
      "model_module_version": "1.5.0",
      "model_name": "VBoxModel",
      "state": {
       "children": [
        "IPY_MODEL_7eb5ee73bc244cb1a2b5586969f3e3ed",
        "IPY_MODEL_526a6429ff7d46978e25bbe3099e9d97",
        "IPY_MODEL_89082914dfc947e7a09897c2c2fbfb24",
        "IPY_MODEL_ac9c4d95b5714a079f1e1af678565e6c",
        "IPY_MODEL_ea091545d97048589fa711b564fe7041",
        "IPY_MODEL_6dd54e406e1e420999b91320ff432980",
        "IPY_MODEL_697520d3ae794128a1d71c05651f9398",
        "IPY_MODEL_3c4a2f596b84451f8f54f3422488258d"
       ],
       "layout": "IPY_MODEL_5ccce83d23ec43539590eca394b9224d"
      }
     },
     "be5f6acc2278411ba8a8a9c6e2dee44c": {
      "model_module": "@jupyter-widgets/controls",
      "model_module_version": "1.5.0",
      "model_name": "HBoxModel",
      "state": {
       "children": [
        "IPY_MODEL_cc4964f470cf40a1b10e7ca7e41096ee",
        "IPY_MODEL_e34fbe98aa9543deaed859cfb0f8f2a5"
       ],
       "layout": "IPY_MODEL_2919a5065a4b4bbca2e0f5b15f1ed13e"
      }
     },
     "be6399086e734991b509dda75f38ccbc": {
      "model_module": "@jupyter-widgets/controls",
      "model_module_version": "1.5.0",
      "model_name": "SelectMultipleModel",
      "state": {
       "_options_labels": [
        "asfd",
        "10",
        "asdf"
       ],
       "index": [
        1
       ],
       "layout": "IPY_MODEL_627af741b72d4144ab94d5c0ff0eb5f7",
       "rows": 5,
       "style": "IPY_MODEL_70ebefbb76a241b1810a61cdf28c1ace"
      }
     },
     "be7f65ad532843aa84e0e785b242675a": {
      "model_module": "@jupyter-widgets/base",
      "model_module_version": "1.2.0",
      "model_name": "LayoutModel",
      "state": {
       "display": "flex",
       "flex_flow": "row",
       "grid_auto_columns": "False",
       "justify_content": "flex-start",
       "width": "100%"
      }
     },
     "beab3ddde5444f8d93958457ba94562b": {
      "model_module": "@jupyter-widgets/controls",
      "model_module_version": "1.5.0",
      "model_name": "DescriptionStyleModel",
      "state": {
       "description_width": ""
      }
     },
     "bf001c2542c54bbd944dc2142b9a0395": {
      "model_module": "@jupyter-widgets/output",
      "model_module_version": "1.0.0",
      "model_name": "OutputModel",
      "state": {
       "layout": "IPY_MODEL_9d702f4aca7b421395d046dec9fd5083"
      }
     },
     "bf333f72f25a4e439e55f937493f03bd": {
      "model_module": "@jupyter-widgets/controls",
      "model_module_version": "1.5.0",
      "model_name": "VBoxModel",
      "state": {
       "children": [
        "IPY_MODEL_b67462c5ed564bab837e3df75fa0b5b2",
        "IPY_MODEL_b5ce4dfe64b3414ea67ecab941254455",
        "IPY_MODEL_997a69a4bba44ccba8c570f74609fad3",
        "IPY_MODEL_8adf3ebe04454af4b0576c5d8273148d",
        "IPY_MODEL_134cbaacf0da4bada4c9c2f9f1d2eb30"
       ],
       "layout": "IPY_MODEL_3c9e0b8045204af4b6b7f9ce14287baf"
      }
     },
     "bf649b04c1314516a84b5fcefcff2fb0": {
      "model_module": "@jupyter-widgets/controls",
      "model_module_version": "1.5.0",
      "model_name": "DescriptionStyleModel",
      "state": {
       "description_width": ""
      }
     },
     "bf650bbc3dee4172befdf9f5e6ce896c": {
      "model_module": "@jupyter-widgets/controls",
      "model_module_version": "1.5.0",
      "model_name": "DescriptionStyleModel",
      "state": {
       "description_width": ""
      }
     },
     "bf74113534ef4016a415be59aab669ab": {
      "model_module": "@jupyter-widgets/base",
      "model_module_version": "1.2.0",
      "model_name": "LayoutModel",
      "state": {
       "align_items": "stretch",
       "display": "flex",
       "flex_flow": "row",
       "grid_auto_columns": "True",
       "justify_content": "flex-start",
       "width": "80%"
      }
     },
     "bf8e403cb45f4962b03a575ca24580ad": {
      "model_module": "@jupyter-widgets/base",
      "model_module_version": "1.2.0",
      "model_name": "LayoutModel",
      "state": {
       "align_items": "stretch",
       "display": "flex",
       "flex_flow": "row",
       "grid_auto_columns": "True",
       "justify_content": "flex-end",
       "width": "90%"
      }
     },
     "bf99fa14fd35407880c3bc82d11f7cbc": {
      "model_module": "@jupyter-widgets/base",
      "model_module_version": "1.2.0",
      "model_name": "LayoutModel",
      "state": {
       "width": "5%"
      }
     },
     "bfd150a150954beaa2e6ad964bfdb15e": {
      "model_module": "@jupyter-widgets/controls",
      "model_module_version": "1.5.0",
      "model_name": "HBoxModel",
      "state": {
       "children": [
        "IPY_MODEL_0146c18e26ca4e02a76ce81b9c755954",
        "IPY_MODEL_ebb50584ae4148fa835a820a6e72099a"
       ],
       "layout": "IPY_MODEL_d3bbdcc493984b79ba0f38d0782dbf6d"
      }
     },
     "bfeed18de9364b3292ce1fb9143264bd": {
      "model_module": "@jupyter-widgets/base",
      "model_module_version": "1.2.0",
      "model_name": "LayoutModel",
      "state": {
       "align_items": "stretch",
       "display": "flex",
       "flex_flow": "row",
       "grid_auto_columns": "True",
       "justify_content": "flex-end",
       "width": "90%"
      }
     },
     "c0108199926f4fc897da3137f370deae": {
      "model_module": "@jupyter-widgets/controls",
      "model_module_version": "1.5.0",
      "model_name": "HTMLModel",
      "state": {
       "layout": "IPY_MODEL_d6077a88672c4f068f4b374c7920e026",
       "style": "IPY_MODEL_99aa790028444c13bb8f138ef8e3cfba",
       "value": "<p>its a delicious foo cake</p>"
      }
     },
     "c03a5e7f99164a169e80c9b08469b4dc": {
      "model_module": "@jupyter-widgets/base",
      "model_module_version": "1.2.0",
      "model_name": "LayoutModel",
      "state": {
       "align_items": "stretch",
       "border": "dashed 0.2px green",
       "display": "flex",
       "flex_flow": "row",
       "grid_auto_columns": "True",
       "justify_content": "flex-start",
       "width": "100%"
      }
     },
     "c0688d5083f24411b8c48f1cca60c3f8": {
      "model_module": "@jupyter-widgets/base",
      "model_module_version": "1.2.0",
      "model_name": "LayoutModel",
      "state": {
       "align_items": "stretch",
       "border": "dashed 0.2px green",
       "display": "flex",
       "flex_flow": "row",
       "grid_auto_columns": "True",
       "justify_content": "flex-start",
       "width": "100%"
      }
     },
     "c07dc6ccc7194ef4833d9f4612d55fb0": {
      "model_module": "@jupyter-widgets/controls",
      "model_module_version": "1.5.0",
      "model_name": "HTMLModel",
      "state": {
       "layout": "IPY_MODEL_0168321536d6481098d009aabe31b1f5",
       "style": "IPY_MODEL_a5e816b231614a52844db4a7f557cc35",
       "value": "<p>reous foo ous foo st</p>"
      }
     },
     "c081312f344241099ce99eded064347f": {
      "model_module": "@jupyter-widgets/controls",
      "model_module_version": "1.5.0",
      "model_name": "HTMLModel",
      "state": {
       "layout": "IPY_MODEL_39d77a848b234c1bbe610fb8db7ffce1",
       "style": "IPY_MODEL_a5202356c6d34d96a796a8dee1ba4870",
       "value": "<p>fus foo ous o</p>"
      }
     },
     "c0b08b63b28d4cfeb1e876eec5c466ba": {
      "model_module": "@jupyter-widgets/controls",
      "model_module_version": "1.5.0",
      "model_name": "DescriptionStyleModel",
      "state": {
       "description_width": ""
      }
     },
     "c0e12b0130024ab98875eab9220390b3": {
      "model_module": "@jupyter-widgets/base",
      "model_module_version": "1.2.0",
      "model_name": "LayoutModel",
      "state": {}
     },
     "c0f6e8a5a72948ed98f8ef438f74c067": {
      "model_module": "@jupyter-widgets/base",
      "model_module_version": "1.2.0",
      "model_name": "LayoutModel",
      "state": {}
     },
     "c11a0346ea6143e597b61dfd2c990a66": {
      "model_module": "@jupyter-widgets/output",
      "model_module_version": "1.0.0",
      "model_name": "OutputModel",
      "state": {
       "layout": "IPY_MODEL_f4085bd4f2f146b7b9f5874add73ab17"
      }
     },
     "c1647c85e0da438ab2f28939f06f8c60": {
      "model_module": "@jupyter-widgets/controls",
      "model_module_version": "1.5.0",
      "model_name": "DescriptionStyleModel",
      "state": {
       "description_width": ""
      }
     },
     "c16775f5fe7746e3a994a0811e45fa31": {
      "model_module": "@jupyter-widgets/base",
      "model_module_version": "1.2.0",
      "model_name": "LayoutModel",
      "state": {}
     },
     "c16fb0e0aece4df4bef1b3ad454ac2e5": {
      "model_module": "@jupyter-widgets/controls",
      "model_module_version": "1.5.0",
      "model_name": "VBoxModel",
      "state": {
       "children": [
        "IPY_MODEL_13d0fd2f027f4967a36fb8d2ef4a82a0",
        "IPY_MODEL_5d64c49ad0854371bfd4a3b879b32c52",
        "IPY_MODEL_ec741cd2955746e6ad00f35d0cf70b9f",
        "IPY_MODEL_aadf62314057441b9a25b011823909f9",
        "IPY_MODEL_717df69ea20b42058c6460489cb2d4c0",
        "IPY_MODEL_05c22188571c4f54892a73ca92854501",
        "IPY_MODEL_f92dc3d442624cd7a7edf5c70d18aad8",
        "IPY_MODEL_94feb2eca47a411393456ebd5202ef9c"
       ],
       "layout": "IPY_MODEL_6c1cf9d6a6fd43b8bf49fd74b72609dc"
      }
     },
     "c1971a21024d4a378a3aecfa41eb55b0": {
      "model_module": "@jupyter-widgets/base",
      "model_module_version": "1.2.0",
      "model_name": "LayoutModel",
      "state": {}
     },
     "c1abc17508be4687929aa5e19681d4fc": {
      "model_module": "@jupyter-widgets/base",
      "model_module_version": "1.2.0",
      "model_name": "LayoutModel",
      "state": {}
     },
     "c1ebbcaab4b1409997f92b89b8f8f9b0": {
      "model_module": "@jupyter-widgets/output",
      "model_module_version": "1.0.0",
      "model_name": "OutputModel",
      "state": {
       "layout": "IPY_MODEL_d27ecbb739a84929bd9d50d7f38122d3"
      }
     },
     "c27e5d207da84f36b1307ed1ff09c3ac": {
      "model_module": "@jupyter-widgets/controls",
      "model_module_version": "1.5.0",
      "model_name": "DescriptionStyleModel",
      "state": {
       "description_width": ""
      }
     },
     "c2d97d95d186416b84d191984946dcf6": {
      "model_module": "@jupyter-widgets/base",
      "model_module_version": "1.2.0",
      "model_name": "LayoutModel",
      "state": {
       "align_items": "stretch",
       "display": "flex",
       "flex_flow": "row",
       "grid_auto_columns": "True",
       "justify_content": "flex-end",
       "width": "90%"
      }
     },
     "c314e4739e4f418db01b7f52778ff17b": {
      "model_module": "@jupyter-widgets/controls",
      "model_module_version": "1.5.0",
      "model_name": "VBoxModel",
      "state": {
       "children": [
        "IPY_MODEL_cf1e22baf325411e82f89efc6b2d1fa6",
        "IPY_MODEL_07fe27181abe439c800466e8727979af",
        "IPY_MODEL_0e279c358ef24d32a7558e631cfcb22e",
        "IPY_MODEL_ebfc0a35c50444e3add00896959372f8",
        "IPY_MODEL_72a200575d0a416bb0a3851849add724",
        "IPY_MODEL_2aa957429b13432f90a7b0fcb9b67704",
        "IPY_MODEL_4205faf84c3e40798065bc9c824e8049",
        "IPY_MODEL_86c3fc0ff3ba4c95b8b1ab5ccb7193f0"
       ],
       "layout": "IPY_MODEL_9e27552558674346a73ec4d5993cce30"
      }
     },
     "c32e0e378ab3426db79b757862bae307": {
      "model_module": "@jupyter-widgets/controls",
      "model_module_version": "1.5.0",
      "model_name": "HTMLModel",
      "state": {
       "layout": "IPY_MODEL_07db8917414d4e6cb3447d893f5beb21",
       "style": "IPY_MODEL_e02f1179ee0e4d68bd755085b05add5a",
       "value": "<p>its a delicious foo cake</p>"
      }
     },
     "c34d0ab9126d4a059eaf14b7990cc0a3": {
      "model_module": "@jupyter-widgets/controls",
      "model_module_version": "1.5.0",
      "model_name": "HTMLModel",
      "state": {
       "layout": "IPY_MODEL_18331df1afe34586a7eb0cbbd555bf86",
       "style": "IPY_MODEL_6d0a46196c1042bca0921554c99d8b09",
       "value": "<p>input docx filepath</p>"
      }
     },
     "c36a02e80b204fe48b6ee3941c315737": {
      "model_module": "@jupyter-widgets/controls",
      "model_module_version": "1.5.0",
      "model_name": "VBoxModel",
      "state": {
       "children": [
        "IPY_MODEL_cf1e22baf325411e82f89efc6b2d1fa6",
        "IPY_MODEL_07fe27181abe439c800466e8727979af",
        "IPY_MODEL_0e279c358ef24d32a7558e631cfcb22e",
        "IPY_MODEL_ebfc0a35c50444e3add00896959372f8",
        "IPY_MODEL_72a200575d0a416bb0a3851849add724",
        "IPY_MODEL_2aa957429b13432f90a7b0fcb9b67704",
        "IPY_MODEL_4205faf84c3e40798065bc9c824e8049",
        "IPY_MODEL_86c3fc0ff3ba4c95b8b1ab5ccb7193f0"
       ],
       "layout": "IPY_MODEL_74d97e8e1fb54e6aa0bb3d5d6281d880"
      }
     },
     "c3aab282602a4deab176df806d11b303": {
      "model_module": "@jupyter-widgets/controls",
      "model_module_version": "1.5.0",
      "model_name": "HBoxModel",
      "state": {
       "children": [
        "IPY_MODEL_e4364d8ce6134f46b72b16e3f520179e"
       ],
       "layout": "IPY_MODEL_cef6ca708dfd420bb1845e5bebe1d53c"
      }
     },
     "c3b059508e814e928729c28d0eb5b5de": {
      "model_module": "@jupyter-widgets/controls",
      "model_module_version": "1.5.0",
      "model_name": "DescriptionStyleModel",
      "state": {
       "description_width": ""
      }
     },
     "c3d65a4ffd2a439eb291da58b6b207b0": {
      "model_module": "@jupyter-widgets/controls",
      "model_module_version": "1.5.0",
      "model_name": "HBoxModel",
      "state": {
       "children": [
        "IPY_MODEL_5084b18562504cf69761ee9d2bcfe15a",
        "IPY_MODEL_1bb4718be16948ecb625ff6a51b30934"
       ],
       "layout": "IPY_MODEL_ad9936638cb64a5f8f659db61e8a4917"
      }
     },
     "c3ec10dc15894ceaacb4a9446f7bae42": {
      "model_module": "@jupyter-widgets/controls",
      "model_module_version": "1.5.0",
      "model_name": "HBoxModel",
      "state": {
       "children": [
        "IPY_MODEL_703310c5ba4d4414b5779a3f35bcdd0c",
        "IPY_MODEL_d1502890c94440d986bb9adbfe0c4722"
       ],
       "layout": "IPY_MODEL_7c49b4f29ad5401da831765ad01d0b28"
      }
     },
     "c4af81b94cf947a48c97f13b4ddb577c": {
      "model_module": "@jupyter-widgets/base",
      "model_module_version": "1.2.0",
      "model_name": "LayoutModel",
      "state": {}
     },
     "c52a03e42dd047388e5e7810b39d8dba": {
      "model_module": "@jupyter-widgets/base",
      "model_module_version": "1.2.0",
      "model_name": "LayoutModel",
      "state": {
       "align_items": "stretch",
       "display": "flex",
       "flex_flow": "row",
       "grid_auto_columns": "True",
       "justify_content": "flex-end",
       "width": "90%"
      }
     },
     "c52cba2c9b184556a5819d1e5565b319": {
      "model_module": "@jupyter-widgets/base",
      "model_module_version": "1.2.0",
      "model_name": "LayoutModel",
      "state": {}
     },
     "c54defc9cf4b4440aeb2bc2c62c0c12f": {
      "model_module": "@jupyter-widgets/base",
      "model_module_version": "1.2.0",
      "model_name": "LayoutModel",
      "state": {
       "align_items": "stretch",
       "display": "flex",
       "flex_flow": "row",
       "grid_auto_columns": "True",
       "justify_content": "flex-start",
       "width": "80%"
      }
     },
     "c55d58fdd20448d281cf05ee187f5b89": {
      "model_module": "@jupyter-widgets/controls",
      "model_module_version": "1.5.0",
      "model_name": "DescriptionStyleModel",
      "state": {
       "description_width": ""
      }
     },
     "c57434c0c04849a69463c05bf767c816": {
      "model_module": "@jupyter-widgets/base",
      "model_module_version": "1.2.0",
      "model_name": "LayoutModel",
      "state": {
       "align_items": "stretch",
       "border": "dashed 0.2px green",
       "display": "flex",
       "flex_flow": "row",
       "grid_auto_columns": "True",
       "justify_content": "flex-start",
       "width": "100%"
      }
     },
     "c590ea6a887b491f9a28bc14ccd83643": {
      "model_module": "@jupyter-widgets/controls",
      "model_module_version": "1.5.0",
      "model_name": "HBoxModel",
      "state": {
       "children": [
        "IPY_MODEL_8d0bdbb5e7984aa4a3e5b51390604dfc",
        "IPY_MODEL_a5824d6dfe1b4c7da6102d4eacc7fbac"
       ],
       "layout": "IPY_MODEL_da9294566e1a4cff929f2e42f8e627e4"
      }
     },
     "c5faf84f36894df2a693c2a897186301": {
      "model_module": "@jupyter-widgets/base",
      "model_module_version": "1.2.0",
      "model_name": "LayoutModel",
      "state": {}
     },
     "c636baa2b965480ca6371e977a78909d": {
      "model_module": "@jupyter-widgets/controls",
      "model_module_version": "1.5.0",
      "model_name": "DescriptionStyleModel",
      "state": {
       "description_width": ""
      }
     },
     "c697069aa7d84ad8b6ca4e4ec516ca94": {
      "model_module": "@jupyter-widgets/base",
      "model_module_version": "1.2.0",
      "model_name": "LayoutModel",
      "state": {
       "align_items": "stretch",
       "display": "flex",
       "flex_flow": "row",
       "grid_auto_columns": "True",
       "justify_content": "flex-start",
       "width": "80%"
      }
     },
     "c6a32b0731234e5dae008583b68c5d33": {
      "model_module": "@jupyter-widgets/base",
      "model_module_version": "1.2.0",
      "model_name": "LayoutModel",
      "state": {}
     },
     "c6ed28f5943d4709a2932b0b0a1526e1": {
      "model_module": "@jupyter-widgets/base",
      "model_module_version": "1.2.0",
      "model_name": "LayoutModel",
      "state": {}
     },
     "c707a2b4a39948a2b33604e9b4af844a": {
      "model_module": "@jupyter-widgets/base",
      "model_module_version": "1.2.0",
      "model_name": "LayoutModel",
      "state": {
       "align_items": "stretch",
       "display": "flex",
       "flex_flow": "row",
       "grid_auto_columns": "True",
       "justify_content": "flex-end",
       "width": "90%"
      }
     },
     "c7a97324c5da4e2e9ee1e3b6167692bc": {
      "model_module": "@jupyter-widgets/controls",
      "model_module_version": "1.5.0",
      "model_name": "DescriptionStyleModel",
      "state": {
       "description_width": ""
      }
     },
     "c83986ddaa11464886b3f2f768919809": {
      "model_module": "@jupyter-widgets/controls",
      "model_module_version": "1.5.0",
      "model_name": "HBoxModel",
      "state": {
       "children": [
        "IPY_MODEL_1a0fba6140d041bf878fd80c11f48922",
        "IPY_MODEL_cac4af37a0954fb4830a6ac1dd643ac4"
       ],
       "layout": "IPY_MODEL_2ea6a57473524d0d943b415fb3536904"
      }
     },
     "c8b338125bd54c1788fa419ddf525367": {
      "model_module": "@jupyter-widgets/controls",
      "model_module_version": "1.5.0",
      "model_name": "CheckboxModel",
      "state": {
       "disabled": false,
       "layout": "IPY_MODEL_69bb75955bfc4a5a9b489cb73927d9c1",
       "style": "IPY_MODEL_a4de1de23f1443b1aa48b37c4be7eee9",
       "value": true
      }
     },
     "c8cb1f27fb6b4501a4dff98a1212caf2": {
      "model_module": "@jupyter-widgets/controls",
      "model_module_version": "1.5.0",
      "model_name": "DescriptionStyleModel",
      "state": {
       "description_width": ""
      }
     },
     "c8ce108981854ec2bb073dd3790f33b5": {
      "model_module": "@jupyter-widgets/base",
      "model_module_version": "1.2.0",
      "model_name": "LayoutModel",
      "state": {}
     },
     "c8fe039c748847598d2866431a9ab114": {
      "model_module": "@jupyter-widgets/output",
      "model_module_version": "1.0.0",
      "model_name": "OutputModel",
      "state": {
       "layout": "IPY_MODEL_25e97868f5604601ac7a975b31a5fa11"
      }
     },
     "c91dd01706a14d3299bd3c6f0a887bb5": {
      "model_module": "@jupyter-widgets/controls",
      "model_module_version": "1.5.0",
      "model_name": "DescriptionStyleModel",
      "state": {
       "description_width": ""
      }
     },
     "c936c7d9b11a4c60b415926f8785b56d": {
      "model_module": "@jupyter-widgets/controls",
      "model_module_version": "1.5.0",
      "model_name": "HTMLModel",
      "state": {
       "layout": "IPY_MODEL_bae4ea3bc2a94481b3205048416b1382",
       "style": "IPY_MODEL_8d48bda8a0224a87ac7365036a449247",
       "value": "<p>its a foo cake</p>"
      }
     },
     "c94e40bc715643aa91a699f762862823": {
      "model_module": "@jupyter-widgets/base",
      "model_module_version": "1.2.0",
      "model_name": "LayoutModel",
      "state": {
       "width": "5%"
      }
     },
     "ca3fe477249c47de835e3d26c8dc076c": {
      "model_module": "@jupyter-widgets/controls",
      "model_module_version": "1.5.0",
      "model_name": "DescriptionStyleModel",
      "state": {
       "description_width": ""
      }
     },
     "ca56cd3891ee4bf0b496d189d5397d7a": {
      "model_module": "@jupyter-widgets/controls",
      "model_module_version": "1.5.0",
      "model_name": "HTMLModel",
      "state": {
       "layout": "IPY_MODEL_748a9adde4f74e51b2d6b0dfac946aa5",
       "style": "IPY_MODEL_63c31d1687f8471db3af64dfeb580dcb",
       "value": "<p>fus foo ous o</p>"
      }
     },
     "ca5c2ef3965442468053a6b03a59ff08": {
      "model_module": "@jupyter-widgets/base",
      "model_module_version": "1.2.0",
      "model_name": "LayoutModel",
      "state": {}
     },
     "cac4af37a0954fb4830a6ac1dd643ac4": {
      "model_module": "@jupyter-widgets/controls",
      "model_module_version": "1.5.0",
      "model_name": "HBoxModel",
      "state": {
       "children": [
        "IPY_MODEL_be6399086e734991b509dda75f38ccbc",
        "IPY_MODEL_61d020fdfaab48aca833ebc41c57e7a7"
       ],
       "layout": "IPY_MODEL_59118c80d42147a1a15cab4bc4ec2d41"
      }
     },
     "cacda9f6b0c74b0eaf4bff17c6f4bcec": {
      "model_module": "@jupyter-widgets/base",
      "model_module_version": "1.2.0",
      "model_name": "LayoutModel",
      "state": {}
     },
     "cb0bd4d387b54d409e1ff58be2f7bae8": {
      "model_module": "@jupyter-widgets/controls",
      "model_module_version": "1.5.0",
      "model_name": "HTMLModel",
      "state": {
       "layout": "IPY_MODEL_103ad9794ad04828bea0373a37419cf6",
       "style": "IPY_MODEL_70094816779349fa8d252c1d7f3d6e74",
       "value": "<p>input docx filepath</p>"
      }
     },
     "cb287a90777946a08d2173a797a8536b": {
      "model_module": "@jupyter-widgets/controls",
      "model_module_version": "1.5.0",
      "model_name": "HBoxModel",
      "state": {
       "children": [
        "IPY_MODEL_669abcb445074553a9db5356138bb3d6",
        "IPY_MODEL_a433d7540ab643f38907dfc4a039cb4f",
        "IPY_MODEL_a337a8d3110746b4aea21f32afa47a0d"
       ],
       "layout": "IPY_MODEL_b739273afdff4dd181e354a8b4c26675"
      }
     },
     "cb41ec28d9f84bd1a94261282835350d": {
      "model_module": "@jupyter-widgets/base",
      "model_module_version": "1.2.0",
      "model_name": "LayoutModel",
      "state": {
       "align_items": "stretch",
       "display": "flex",
       "flex_flow": "row",
       "grid_auto_columns": "True",
       "justify_content": "flex-end",
       "width": "90%"
      }
     },
     "cc183f93059243f8b71686b040f59665": {
      "model_module": "@jupyter-widgets/controls",
      "model_module_version": "1.5.0",
      "model_name": "DescriptionStyleModel",
      "state": {
       "description_width": ""
      }
     },
     "cc4964f470cf40a1b10e7ca7e41096ee": {
      "model_module": "@jupyter-widgets/controls",
      "model_module_version": "1.5.0",
      "model_name": "ToggleButtonModel",
      "state": {
       "icon": "arrow-down",
       "layout": "IPY_MODEL_f93ddde64fcf475291ce274351a25d10",
       "style": "IPY_MODEL_8099746b766d49eeaf15c637774d42da"
      }
     },
     "cc5070a3a0ef4d279de069e7863a9910": {
      "model_module": "@jupyter-widgets/controls",
      "model_module_version": "1.5.0",
      "model_name": "VBoxModel",
      "state": {
       "children": [
        "IPY_MODEL_0aa75925e7be44108def00ac30776822"
       ],
       "layout": "IPY_MODEL_75342b6c39f84cf88e6cec8350703e1f"
      }
     },
     "cc92ddaa24014657971fbd51338bc32c": {
      "model_module": "@jupyter-widgets/controls",
      "model_module_version": "1.5.0",
      "model_name": "HBoxModel",
      "state": {
       "children": [
        "IPY_MODEL_bc83931a32de49ed94041be354aa243b",
        "IPY_MODEL_51cf63f9641b4d059743d111a8e848e0"
       ],
       "layout": "IPY_MODEL_f98323e49a8947558db80337b7c7ba4e"
      }
     },
     "ccffe6bcc8b2404d93569925ea7f9fe3": {
      "model_module": "@jupyter-widgets/base",
      "model_module_version": "1.2.0",
      "model_name": "LayoutModel",
      "state": {
       "height": "auto",
       "width": "auto"
      }
     },
     "cd39062d41864b888aceb59c2b7afc73": {
      "model_module": "@jupyter-widgets/controls",
      "model_module_version": "1.5.0",
      "model_name": "HTMLModel",
      "state": {
       "layout": "IPY_MODEL_48a5eec7fd754c809e51112b6cb6acae",
       "style": "IPY_MODEL_2ade0f985a0a49768e1c21b72a3fb950",
       "value": "<p>foo</p>"
      }
     },
     "cd535c88a74347fcb5b697882484f8b6": {
      "model_module": "@jupyter-widgets/controls",
      "model_module_version": "1.5.0",
      "model_name": "ButtonStyleModel",
      "state": {}
     },
     "cd77b66da2954872a0af3fcfc07b1af0": {
      "model_module": "@jupyter-widgets/controls",
      "model_module_version": "1.5.0",
      "model_name": "DescriptionStyleModel",
      "state": {
       "description_width": ""
      }
     },
     "cd7a9eeb469045fdb0fcfc34d58ee8f4": {
      "model_module": "@jupyter-widgets/controls",
      "model_module_version": "1.5.0",
      "model_name": "HTMLModel",
      "state": {
       "layout": "IPY_MODEL_267b6331933e4ada8c41e92ccab16934",
       "style": "IPY_MODEL_2daa37b848be40cdabc5c196362017a2",
       "value": "<p>fus foo ous o</p>"
      }
     },
     "cd9f9a6f486545fb9e19ee77f4ceb697": {
      "model_module": "@jupyter-widgets/controls",
      "model_module_version": "1.5.0",
      "model_name": "DescriptionStyleModel",
      "state": {
       "description_width": ""
      }
     },
     "cdf97b058b434b6e83e4c56ba1e6211d": {
      "model_module": "@jupyter-widgets/output",
      "model_module_version": "1.0.0",
      "model_name": "OutputModel",
      "state": {
       "layout": "IPY_MODEL_51508c879d6944cca7569c8e343850bf"
      }
     },
     "ce516c9780f5472a81250cb9826a7a4b": {
      "model_module": "@jupyter-widgets/controls",
      "model_module_version": "1.5.0",
      "model_name": "ToggleButtonModel",
      "state": {
       "description": "help",
       "icon": "fa-question-circle",
       "layout": "IPY_MODEL_eceabc535fa94b78933fc62d35c352a2",
       "style": "IPY_MODEL_01d259d4fa654c4fbd35977aaaaea394",
       "tooltip": "gives guidance"
      }
     },
     "ce7c0c62dd9a4a89a0911e7b32481497": {
      "model_module": "@jupyter-widgets/base",
      "model_module_version": "1.2.0",
      "model_name": "LayoutModel",
      "state": {
       "align_items": "stretch",
       "display": "flex",
       "flex_flow": "row",
       "grid_auto_columns": "True",
       "justify_content": "flex-start",
       "width": "80%"
      }
     },
     "ce7d7981dc6b4d788adb0ebb61a886ce": {
      "model_module": "@jupyter-widgets/controls",
      "model_module_version": "1.5.0",
      "model_name": "ButtonModel",
      "state": {
       "button_style": "success",
       "description": "save",
       "layout": "IPY_MODEL_6448d5059df04bc4be0351aaa1178c8c",
       "style": "IPY_MODEL_4e1421b04ff144d7a66c9bd83c9c2a6d"
      }
     },
     "ceca84e201db4250a09bd6429331920d": {
      "model_module": "@jupyter-widgets/controls",
      "model_module_version": "1.5.0",
      "model_name": "DescriptionStyleModel",
      "state": {
       "description_width": ""
      }
     },
     "cecd2a342cff4d9384f203598559ef1f": {
      "model_module": "@jupyter-widgets/controls",
      "model_module_version": "1.5.0",
      "model_name": "HTMLModel",
      "state": {
       "layout": "IPY_MODEL_7122b82214244d7593c881a217ba9065",
       "style": "IPY_MODEL_63c3fa42810f4f6da38b3e694644747e",
       "value": "<p>reus foo ous oo ous foo st</p>"
      }
     },
     "cef6ca708dfd420bb1845e5bebe1d53c": {
      "model_module": "@jupyter-widgets/base",
      "model_module_version": "1.2.0",
      "model_name": "LayoutModel",
      "state": {
       "align_items": "stretch",
       "border": "dashed 0.2px green",
       "display": "flex",
       "flex_flow": "row",
       "grid_auto_columns": "True",
       "justify_content": "flex-start",
       "width": "100%"
      }
     },
     "cf1e22baf325411e82f89efc6b2d1fa6": {
      "model_module": "@jupyter-widgets/controls",
      "model_module_version": "1.5.0",
      "model_name": "HBoxModel",
      "state": {
       "children": [
        "IPY_MODEL_6f7e069dd0474941b693d3b6f3e0bf63",
        "IPY_MODEL_a7b90bce9b764855ac0b67b471a0a6e6"
       ],
       "layout": "IPY_MODEL_f1ea0805ffa440a09c4c0b1797eb206a"
      }
     },
     "cf32b4b4a48149979c56351810e446a8": {
      "model_module": "@jupyter-widgets/controls",
      "model_module_version": "1.5.0",
      "model_name": "ButtonStyleModel",
      "state": {
       "font_weight": "bold"
      }
     },
     "cf451cf59ee744718413a08f4862bc1d": {
      "model_module": "@jupyter-widgets/base",
      "model_module_version": "1.2.0",
      "model_name": "LayoutModel",
      "state": {}
     },
     "cf60dd5d88894e419bc9cc75f55ae699": {
      "model_module": "@jupyter-widgets/base",
      "model_module_version": "1.2.0",
      "model_name": "LayoutModel",
      "state": {}
     },
     "cf84bcefcb164dd0b8136ea181c0d2bd": {
      "model_module": "@jupyter-widgets/controls",
      "model_module_version": "1.5.0",
      "model_name": "HTMLModel",
      "state": {
       "layout": "IPY_MODEL_c4af81b94cf947a48c97f13b4ddb577c",
       "style": "IPY_MODEL_f3d85388e6fc4f7db62916424a8d43fe",
       "value": "<p>its a delicious foo cake</p>"
      }
     },
     "cfae6d022cfe44d58a974d36ab0b0e2b": {
      "model_module": "@jupyter-widgets/controls",
      "model_module_version": "1.5.0",
      "model_name": "HBoxModel",
      "state": {
       "children": [
        "IPY_MODEL_4e15851e62f04eb88be7455ec9c5bc99",
        "IPY_MODEL_2529dd9a1331471380eaa04e8049faf2"
       ],
       "layout": "IPY_MODEL_30f2a7d8150841829ed9560b18d5af2f"
      }
     },
     "cfb048dde2f94788812ab99880d48f15": {
      "model_module": "ipysheet",
      "model_module_version": "~0.4.4",
      "model_name": "CellRangeModel",
      "state": {
       "_view_module": null,
       "_view_module_version": "",
       "choice": [],
       "column_end": 2,
       "column_start": 2,
       "numeric_format": null,
       "row_end": 3,
       "row_start": 0,
       "squeeze_row": false,
       "type": "text",
       "value": [
        "any",
        "<class 'list'>",
        "<class 'NoneType'>",
        "<class 'NoneType'>"
       ]
      }
     },
     "cfb252be93af4246bcf92fafc5bbcfa9": {
      "model_module": "@jupyter-widgets/output",
      "model_module_version": "1.0.0",
      "model_name": "OutputModel",
      "state": {
       "layout": "IPY_MODEL_d3b971fbb1d7467e95b01f94c23a7983"
      }
     },
     "cfc407924d8f4522a15a6e1fc11c817a": {
      "model_module": "@jupyter-widgets/controls",
      "model_module_version": "1.5.0",
      "model_name": "DescriptionStyleModel",
      "state": {
       "description_width": ""
      }
     },
     "d007892bd5dd4a56be08aea9db6767c1": {
      "model_module": "@jupyter-widgets/controls",
      "model_module_version": "1.5.0",
      "model_name": "DescriptionStyleModel",
      "state": {
       "description_width": ""
      }
     },
     "d038c9992cf24bc28dc6cf26c0cc7244": {
      "model_module": "@jupyter-widgets/controls",
      "model_module_version": "1.5.0",
      "model_name": "DescriptionStyleModel",
      "state": {
       "description_width": ""
      }
     },
     "d0578d47b7214c11b599d91eab03dd10": {
      "model_module": "@jupyter-widgets/base",
      "model_module_version": "1.2.0",
      "model_name": "LayoutModel",
      "state": {}
     },
     "d07ce39f717a477c9c97891105ebc87c": {
      "model_module": "@jupyter-widgets/base",
      "model_module_version": "1.2.0",
      "model_name": "LayoutModel",
      "state": {}
     },
     "d0e080eeea0341f7bf75bb587c1403fa": {
      "model_module": "@jupyter-widgets/base",
      "model_module_version": "1.2.0",
      "model_name": "LayoutModel",
      "state": {}
     },
     "d0f8be5d98a746939cedfb792b989647": {
      "model_module": "@jupyter-widgets/controls",
      "model_module_version": "1.5.0",
      "model_name": "SelectMultipleModel",
      "state": {
       "_options_labels": [
        "asfd",
        "10",
        "asdf"
       ],
       "index": [
        1
       ],
       "layout": "IPY_MODEL_2b5196840da341fd8540bf726f25256f",
       "rows": 5,
       "style": "IPY_MODEL_7705d3e93b314810ba54e614f19a9efc"
      }
     },
     "d136aa88c6b547579f4c1a01162c9c19": {
      "model_module": "@jupyter-widgets/controls",
      "model_module_version": "1.5.0",
      "model_name": "HBoxModel",
      "state": {
       "children": [
        "IPY_MODEL_28bd875838b04728b18336602be921c0",
        "IPY_MODEL_444e3eb05d594c7a89aa7b5df5f9e666"
       ],
       "layout": "IPY_MODEL_7c61d7955fb44eaf82a08910b1201ea7"
      }
     },
     "d1502890c94440d986bb9adbfe0c4722": {
      "model_module": "@jupyter-widgets/controls",
      "model_module_version": "1.5.0",
      "model_name": "HBoxModel",
      "state": {
       "children": [
        "IPY_MODEL_5a482dd8269249bda6a468297ce2e37e",
        "IPY_MODEL_1d55be1a72b348f5800863af6df2edd9"
       ],
       "layout": "IPY_MODEL_0c67ae4318d64d01aa8ba5e4eff9212d"
      }
     },
     "d1597c70fb1e421d935cdef28f2d0011": {
      "model_module": "@jupyter-widgets/controls",
      "model_module_version": "1.5.0",
      "model_name": "HTMLModel",
      "state": {
       "layout": "IPY_MODEL_2afee98d9f6e4e4f849dc7954ed9bb05",
       "style": "IPY_MODEL_071b478fa9af4e9593dc5a02a15c6258",
       "value": "<p>foo</p>"
      }
     },
     "d1868323052c4998bbd8816d82b03ed1": {
      "model_module": "@jupyter-widgets/controls",
      "model_module_version": "1.5.0",
      "model_name": "HBoxModel",
      "state": {
       "children": [
        "IPY_MODEL_16e52a8cbd244384931279e0c5ae0207",
        "IPY_MODEL_4cea787d752a47f3849e4ef6842554a9"
       ],
       "layout": "IPY_MODEL_19f82e412f7c4b12b4c363742bd15f9e"
      }
     },
     "d1abbc3c1a274fdb9eaf9a9981753c27": {
      "model_module": "@jupyter-widgets/controls",
      "model_module_version": "1.5.0",
      "model_name": "ButtonStyleModel",
      "state": {
       "font_weight": "bold"
      }
     },
     "d1b12871a96c43cbbe060c9d522f269b": {
      "model_module": "@jupyter-widgets/controls",
      "model_module_version": "1.5.0",
      "model_name": "DescriptionStyleModel",
      "state": {
       "description_width": ""
      }
     },
     "d1ed82d766674063901c7833ec5d5909": {
      "model_module": "@jupyter-widgets/controls",
      "model_module_version": "1.5.0",
      "model_name": "HBoxModel",
      "state": {
       "children": [
        "IPY_MODEL_ad8cee9e556d43bc86dcb0950e1daeef",
        "IPY_MODEL_85947ed6ff364161b5c372ed8495f42b"
       ],
       "layout": "IPY_MODEL_9280199346514568a7b8bf1dab179383"
      }
     },
     "d1f32e7d3c8b418dbb419f12d7277b23": {
      "model_module": "@jupyter-widgets/controls",
      "model_module_version": "1.5.0",
      "model_name": "ButtonModel",
      "state": {
       "description": "save",
       "layout": "IPY_MODEL_03e0fd204f0943869564b16efd16bb6d",
       "style": "IPY_MODEL_0692f88e52ab4629bb635ec5f0daffdd"
      }
     },
     "d21f6006409040be85bcf799d694bc83": {
      "model_module": "@jupyter-widgets/controls",
      "model_module_version": "1.5.0",
      "model_name": "DropdownModel",
      "state": {
       "_options_labels": [
        "asfd",
        "10",
        "asdf"
       ],
       "index": 1,
       "layout": "IPY_MODEL_aa948b58880341298424a6a7a07a2ac8",
       "style": "IPY_MODEL_cd77b66da2954872a0af3fcfc07b1af0"
      }
     },
     "d2461a487b3941afb17ad7decca7646d": {
      "model_module": "@jupyter-widgets/base",
      "model_module_version": "1.2.0",
      "model_name": "LayoutModel",
      "state": {}
     },
     "d27ecbb739a84929bd9d50d7f38122d3": {
      "model_module": "@jupyter-widgets/base",
      "model_module_version": "1.2.0",
      "model_name": "LayoutModel",
      "state": {}
     },
     "d293c92167f645a285c0728319ba4f93": {
      "model_module": "@jupyter-widgets/controls",
      "model_module_version": "1.5.0",
      "model_name": "ToggleButtonModel",
      "state": {
       "description": "help",
       "icon": "fa-question-circle",
       "layout": "IPY_MODEL_1c3c813836ed44ef9419c75433675ea2",
       "style": "IPY_MODEL_27785b82e5c94267bc60055599621604",
       "tooltip": "gives guidance"
      }
     },
     "d2abe4ce848d43fb9c0c6b91cb0e585e": {
      "model_module": "@jupyter-widgets/output",
      "model_module_version": "1.0.0",
      "model_name": "OutputModel",
      "state": {
       "layout": "IPY_MODEL_695ebff1b17749538778ee5b6a23e4fa"
      }
     },
     "d2b8ac2068004c0ab79d4c3e98c74351": {
      "model_module": "@jupyter-widgets/base",
      "model_module_version": "1.2.0",
      "model_name": "LayoutModel",
      "state": {}
     },
     "d2c7722fdd8f4462b698eabfa4a8cd24": {
      "model_module": "@jupyter-widgets/controls",
      "model_module_version": "1.5.0",
      "model_name": "DescriptionStyleModel",
      "state": {
       "description_width": ""
      }
     },
     "d2e6a1a15b724111a397e82eb84987b3": {
      "model_module": "@jupyter-widgets/base",
      "model_module_version": "1.2.0",
      "model_name": "LayoutModel",
      "state": {}
     },
     "d32287e1101e41438bf8f6747fd22620": {
      "model_module": "@jupyter-widgets/base",
      "model_module_version": "1.2.0",
      "model_name": "LayoutModel",
      "state": {}
     },
     "d3b5707bd07e486ab5d8ea577c135a30": {
      "model_module": "@jupyter-widgets/controls",
      "model_module_version": "1.5.0",
      "model_name": "HBoxModel",
      "state": {
       "children": [
        "IPY_MODEL_4a179b3b04c7430eaef3c4f64eae2169",
        "IPY_MODEL_4a7692668e7647978264bfea2feefe80"
       ],
       "layout": "IPY_MODEL_6595dc16effd4e14baabb9faeab0b743"
      }
     },
     "d3b971fbb1d7467e95b01f94c23a7983": {
      "model_module": "@jupyter-widgets/base",
      "model_module_version": "1.2.0",
      "model_name": "LayoutModel",
      "state": {}
     },
     "d3bbdcc493984b79ba0f38d0782dbf6d": {
      "model_module": "@jupyter-widgets/base",
      "model_module_version": "1.2.0",
      "model_name": "LayoutModel",
      "state": {
       "align_items": "stretch",
       "display": "flex",
       "flex_flow": "row",
       "grid_auto_columns": "True",
       "justify_content": "flex-start",
       "width": "80%"
      }
     },
     "d3bd8d5eb7f54efc956374c04bf1eb7e": {
      "model_module": "@jupyter-widgets/base",
      "model_module_version": "1.2.0",
      "model_name": "LayoutModel",
      "state": {}
     },
     "d3cc99e3bb434e7b892332aa96ec9f40": {
      "model_module": "@jupyter-widgets/controls",
      "model_module_version": "1.5.0",
      "model_name": "VBoxModel",
      "state": {
       "children": [
        "IPY_MODEL_f4d9ea2a0bd845c3919c670cb4557ef9"
       ],
       "layout": "IPY_MODEL_f92e64d5617344b18fb2417a07775a8c"
      }
     },
     "d4029ee06bd84dc492199f9d4739c534": {
      "model_module": "@jupyter-widgets/controls",
      "model_module_version": "1.5.0",
      "model_name": "DescriptionStyleModel",
      "state": {
       "description_width": ""
      }
     },
     "d43d1c68d2284ef884c7725e3471aea9": {
      "model_module": "@jupyter-widgets/base",
      "model_module_version": "1.2.0",
      "model_name": "LayoutModel",
      "state": {}
     },
     "d462bfd2bd734957aeb79c7ebfe29b7b": {
      "model_module": "@jupyter-widgets/base",
      "model_module_version": "1.2.0",
      "model_name": "LayoutModel",
      "state": {}
     },
     "d476042b5dd942ceab080529f09834c7": {
      "model_module": "@jupyter-widgets/base",
      "model_module_version": "1.2.0",
      "model_name": "LayoutModel",
      "state": {}
     },
     "d47754b8b28547958c58fa2ec5f9b745": {
      "model_module": "@jupyter-widgets/base",
      "model_module_version": "1.2.0",
      "model_name": "LayoutModel",
      "state": {
       "align_items": "stretch",
       "display": "flex",
       "flex_flow": "row",
       "grid_auto_columns": "True",
       "justify_content": "flex-start",
       "width": "80%"
      }
     },
     "d479447716d04e94acf88e5d0154fc18": {
      "model_module": "@jupyter-widgets/output",
      "model_module_version": "1.0.0",
      "model_name": "OutputModel",
      "state": {
       "layout": "IPY_MODEL_84fdb29b3eb249b2a183bb4de7f927de"
      }
     },
     "d48f6ed7dc8048ebac9ee40c52d0702c": {
      "model_module": "@jupyter-widgets/controls",
      "model_module_version": "1.5.0",
      "model_name": "FloatTextModel",
      "state": {
       "layout": "IPY_MODEL_fe5d877b60b143798685bbdc3397fbea",
       "step": null,
       "style": "IPY_MODEL_fbb3099b1d60435ca23e6162da4991a1",
       "value": 10
      }
     },
     "d49ec4c7c2b94b33ad00d9a297bdd4c5": {
      "model_module": "@jupyter-widgets/base",
      "model_module_version": "1.2.0",
      "model_name": "LayoutModel",
      "state": {
       "align_items": "stretch",
       "display": "flex",
       "flex_flow": "row",
       "grid_auto_columns": "True",
       "justify_content": "flex-end",
       "width": "90%"
      }
     },
     "d4a1a3eaff804a7d92a8518a2d68ec47": {
      "model_module": "@jupyter-widgets/base",
      "model_module_version": "1.2.0",
      "model_name": "LayoutModel",
      "state": {
       "align_items": "stretch",
       "display": "flex",
       "flex_flow": "row",
       "grid_auto_columns": "True",
       "justify_content": "flex-end",
       "width": "90%"
      }
     },
     "d4a3d2ed4cdf44ed91b052542ef5828a": {
      "model_module": "@jupyter-widgets/controls",
      "model_module_version": "1.5.0",
      "model_name": "DescriptionStyleModel",
      "state": {
       "description_width": ""
      }
     },
     "d4a7be99e8134cbaac6a0e335dc29a77": {
      "model_module": "@jupyter-widgets/controls",
      "model_module_version": "1.5.0",
      "model_name": "HTMLModel",
      "state": {
       "layout": "IPY_MODEL_8af5b94ce48d42c4923c96d0ccc2f367",
       "style": "IPY_MODEL_923a03dbab3d41f9aff47fc8d2282064",
       "value": "<p>fpth_in</p>"
      }
     },
     "d58a6ca486e345e5ab4fd26a74d68dbf": {
      "model_module": "@jupyter-widgets/controls",
      "model_module_version": "1.5.0",
      "model_name": "HBoxModel",
      "state": {
       "children": [
        "IPY_MODEL_18ff5240164b4fdeb5c15eb6e6201e74",
        "IPY_MODEL_178cb2fb99104621b17e7c2c770b265f",
        "IPY_MODEL_fd0d0053c8634e0c8434542032c33615"
       ],
       "layout": "IPY_MODEL_c52cba2c9b184556a5819d1e5565b319"
      }
     },
     "d5d9dd9db01e4f7aad9a2bbd6a3e6a1b": {
      "model_module": "@jupyter-widgets/base",
      "model_module_version": "1.2.0",
      "model_name": "LayoutModel",
      "state": {}
     },
     "d5e7a76528144a7fbeb787010feb1094": {
      "model_module": "@jupyter-widgets/controls",
      "model_module_version": "1.5.0",
      "model_name": "SelectMultipleModel",
      "state": {
       "_options_labels": [
        "asfd",
        "10",
        "asdf"
       ],
       "index": [
        1
       ],
       "layout": "IPY_MODEL_0ed500d2a2e34a66b64343df295361bd",
       "rows": 5,
       "style": "IPY_MODEL_072c869e33d54a7ebab3758f4ae3ef91"
      }
     },
     "d6077a88672c4f068f4b374c7920e026": {
      "model_module": "@jupyter-widgets/base",
      "model_module_version": "1.2.0",
      "model_name": "LayoutModel",
      "state": {}
     },
     "d67409db1c2f497b8672bab37000bf02": {
      "model_module": "@jupyter-widgets/controls",
      "model_module_version": "1.5.0",
      "model_name": "HTMLModel",
      "state": {
       "layout": "IPY_MODEL_d2461a487b3941afb17ad7decca7646d",
       "style": "IPY_MODEL_3d20871d96e14d8aafa816cb3774e8bd",
       "value": "<p>name</p>"
      }
     },
     "d69771b4a7554191bb9b2af1bb1c259d": {
      "model_module": "@jupyter-widgets/controls",
      "model_module_version": "1.5.0",
      "model_name": "HBoxModel",
      "state": {
       "children": [
        "IPY_MODEL_155d239ca0574ab7a18a08ef7baea7e1",
        "IPY_MODEL_2d2c57d6b4c74a0192c923632a9338ad"
       ],
       "layout": "IPY_MODEL_e5a044d66c97431a860d46aeb17b5df7"
      }
     },
     "d6c7cbb46ce14075a50397baadf893c5": {
      "model_module": "@jupyter-widgets/base",
      "model_module_version": "1.2.0",
      "model_name": "LayoutModel",
      "state": {}
     },
     "d7895fe7ef1d4d36a54b601fecaab5ff": {
      "model_module": "@jupyter-widgets/controls",
      "model_module_version": "1.5.0",
      "model_name": "HBoxModel",
      "state": {
       "children": [
        "IPY_MODEL_e0106a64231e48dab2fa555f14531aa6",
        "IPY_MODEL_332b6e31a7e34debbbd83214e9809c2a"
       ],
       "layout": "IPY_MODEL_1a5b99c608984aa887e59ce9f86eda08"
      }
     },
     "d7a14827ac8d4c57a727283ce88f32ad": {
      "model_module": "@jupyter-widgets/output",
      "model_module_version": "1.0.0",
      "model_name": "OutputModel",
      "state": {
       "layout": "IPY_MODEL_57e965f93e894bf68add8be496eec207"
      }
     },
     "d7b4bb64dde0427f911deb20f6e1aa4a": {
      "model_module": "@jupyter-widgets/controls",
      "model_module_version": "1.5.0",
      "model_name": "HTMLModel",
      "state": {
       "layout": "IPY_MODEL_83e01227ad0942c5b1e961b9fa0fa2f5",
       "style": "IPY_MODEL_b6f0947921354f89b6452b48039356d3",
       "value": "<p>its a foo cake</p>"
      }
     },
     "d7d15991584c4ab3a9933a3821c4b3e9": {
      "model_module": "@jupyter-widgets/output",
      "model_module_version": "1.0.0",
      "model_name": "OutputModel",
      "state": {
       "layout": "IPY_MODEL_e9d90bff634e40bd946919190f27918b"
      }
     },
     "d802fef539324fa2a63fec8387373211": {
      "model_module": "@jupyter-widgets/controls",
      "model_module_version": "1.5.0",
      "model_name": "DescriptionStyleModel",
      "state": {
       "description_width": ""
      }
     },
     "d820d25440344fe09fa62210f6a6a7d1": {
      "model_module": "@jupyter-widgets/base",
      "model_module_version": "1.2.0",
      "model_name": "LayoutModel",
      "state": {}
     },
     "d8475d9759b143189a1fbfd90cb5a0ac": {
      "model_module": "@jupyter-widgets/output",
      "model_module_version": "1.0.0",
      "model_name": "OutputModel",
      "state": {
       "layout": "IPY_MODEL_d5d9dd9db01e4f7aad9a2bbd6a3e6a1b"
      }
     },
     "d85ec985160c40d4af25088a972308aa": {
      "model_module": "@jupyter-widgets/output",
      "model_module_version": "1.0.0",
      "model_name": "OutputModel",
      "state": {
       "layout": "IPY_MODEL_f6c1936dcee3412393b0b9eaa3b722e2"
      }
     },
     "d87bdad2068042adacd507e88d52bdf1": {
      "model_module": "@jupyter-widgets/base",
      "model_module_version": "1.2.0",
      "model_name": "LayoutModel",
      "state": {}
     },
     "d88b6c7db4f0428e835d79b474bd729f": {
      "model_module": "@jupyter-widgets/controls",
      "model_module_version": "1.5.0",
      "model_name": "HTMLModel",
      "state": {
       "layout": "IPY_MODEL_70b0168cd5c9475799a150cda1c805b0",
       "style": "IPY_MODEL_205e509940d94399851e3d65247dcb03",
       "value": "<p>its a foo cake</p>"
      }
     },
     "d8a3715edefa4b4fb6e005a962a8341e": {
      "model_module": "ipysheet",
      "model_module_version": "~0.4.4",
      "model_name": "CellRangeModel",
      "state": {
       "_view_module": null,
       "_view_module_version": "",
       "choice": [],
       "numeric_format": null,
       "row_end": 3,
       "row_start": 0,
       "squeeze_row": false,
       "type": "text",
       "value": [
        "<class 'float'>",
        "<class 'NoneType'>",
        "<class 'float'>",
        "<class 'float'>"
       ]
      }
     },
     "d8dcf9e9fb8c40948014790c42126f32": {
      "model_module": "@jupyter-widgets/controls",
      "model_module_version": "1.5.0",
      "model_name": "HBoxModel",
      "state": {
       "children": [
        "IPY_MODEL_bc7fee48faa84fd38cbfefabc82c6dbd",
        "IPY_MODEL_6e2db39ed421435d8e4a3b509d0e7efd"
       ],
       "layout": "IPY_MODEL_584b0d351f3e4915a854560120111396"
      }
     },
     "d904fcf56e3b472195ae54ada3a09bb1": {
      "model_module": "@jupyter-widgets/controls",
      "model_module_version": "1.5.0",
      "model_name": "SelectMultipleModel",
      "state": {
       "_options_labels": [
        "asfd",
        "10",
        "asdf"
       ],
       "index": [
        1
       ],
       "layout": "IPY_MODEL_fadab0d3d8d042b0af4c89e9573176ef",
       "rows": 5,
       "style": "IPY_MODEL_dbbad50261044a2ebc9309be44c50559"
      }
     },
     "d952a838464244dcb6ef5609274131ad": {
      "model_module": "@jupyter-widgets/controls",
      "model_module_version": "1.5.0",
      "model_name": "ButtonModel",
      "state": {
       "description": "load",
       "icon": "upload",
       "layout": "IPY_MODEL_0ef5fe3bd3344792939f79ef7209ff03",
       "style": "IPY_MODEL_ac16c0d9c7c44fd3b6fd685b9092e5d2"
      }
     },
     "d96ee0b512fa4698a1a098370b78d523": {
      "model_module": "@jupyter-widgets/controls",
      "model_module_version": "1.5.0",
      "model_name": "HBoxModel",
      "state": {
       "children": [
        "IPY_MODEL_8afbbd50eef4402ebb98bcb05bb8f7d4",
        "IPY_MODEL_0c4adaa85ffb43e2bf0b9a1bb5714fcd"
       ],
       "layout": "IPY_MODEL_303d923116b64b409c8ed653bdcbc7d4"
      }
     },
     "d98161c5bc394326818f04cc122fe622": {
      "model_module": "@jupyter-widgets/controls",
      "model_module_version": "1.5.0",
      "model_name": "DescriptionStyleModel",
      "state": {
       "description_width": ""
      }
     },
     "d9adffc6f8f045549e71be2c81e1c104": {
      "model_module": "@jupyter-widgets/base",
      "model_module_version": "1.2.0",
      "model_name": "LayoutModel",
      "state": {
       "align_items": "stretch",
       "display": "flex",
       "flex_flow": "row",
       "grid_auto_columns": "True",
       "justify_content": "flex-end",
       "width": "90%"
      }
     },
     "d9df614748d0421fa333ec8d94b38231": {
      "model_module": "@jupyter-widgets/base",
      "model_module_version": "1.2.0",
      "model_name": "LayoutModel",
      "state": {
       "align_items": "stretch",
       "border": "dashed 0.2px green",
       "display": "flex",
       "flex_flow": "row",
       "grid_auto_columns": "True",
       "justify_content": "flex-start",
       "width": "100%"
      }
     },
     "d9fe5cf0f2c04cd29a50ffe338080ec2": {
      "model_module": "@jupyter-widgets/controls",
      "model_module_version": "1.5.0",
      "model_name": "HBoxModel",
      "state": {
       "children": [
        "IPY_MODEL_8df7aada59f04ff6b7f7b796277132d8"
       ],
       "layout": "IPY_MODEL_20cf7d78c5a44ec9941c9a1b13ca1e0c"
      }
     },
     "da30724ef4d2428885ec070ea0fa5b07": {
      "model_module": "@jupyter-widgets/controls",
      "model_module_version": "1.5.0",
      "model_name": "HBoxModel",
      "state": {
       "children": [
        "IPY_MODEL_1f0f6957d2274674a3e1f9e0596bba2c",
        "IPY_MODEL_1220fcd017f54aa588de5a802529b343"
       ],
       "layout": "IPY_MODEL_587eb00c980742b7a8606c71eb5d41c9"
      }
     },
     "da312ae8d3c7490db0021be59b7677da": {
      "model_module": "@jupyter-widgets/controls",
      "model_module_version": "1.5.0",
      "model_name": "ButtonModel",
      "state": {
       "description": "save",
       "layout": "IPY_MODEL_df6fc62a1dd94aec8871726fdbab03d9",
       "style": "IPY_MODEL_cd535c88a74347fcb5b697882484f8b6"
      }
     },
     "da3f229e18204dc6b0f13e39f48acf3e": {
      "model_module": "@jupyter-widgets/controls",
      "model_module_version": "1.5.0",
      "model_name": "HTMLModel",
      "state": {
       "layout": "IPY_MODEL_2c5a8d4d1a324ad8a330feaad7cd9522",
       "style": "IPY_MODEL_d1b12871a96c43cbbe060c9d522f269b",
       "value": "<p>foo</p>"
      }
     },
     "da6c4eae6be74f2289e0d1dac71b19d5": {
      "model_module": "@jupyter-widgets/base",
      "model_module_version": "1.2.0",
      "model_name": "LayoutModel",
      "state": {}
     },
     "da8fe3bb0ef145c19c35a9606b673ea2": {
      "model_module": "@jupyter-widgets/base",
      "model_module_version": "1.2.0",
      "model_name": "LayoutModel",
      "state": {}
     },
     "da9294566e1a4cff929f2e42f8e627e4": {
      "model_module": "@jupyter-widgets/base",
      "model_module_version": "1.2.0",
      "model_name": "LayoutModel",
      "state": {
       "align_items": "stretch",
       "display": "flex",
       "flex_flow": "row",
       "grid_auto_columns": "True",
       "justify_content": "flex-end",
       "width": "90%"
      }
     },
     "dae08040c96a411e9718d847fe35ad0d": {
      "model_module": "@jupyter-widgets/base",
      "model_module_version": "1.2.0",
      "model_name": "LayoutModel",
      "state": {}
     },
     "dae867e39f3442d59c959dcaeb09f827": {
      "model_module": "@jupyter-widgets/controls",
      "model_module_version": "1.5.0",
      "model_name": "HBoxModel",
      "state": {
       "children": [
        "IPY_MODEL_7f7e2fd5dda54ee2a3dd096fd98fd7f7",
        "IPY_MODEL_e05e9e30e6a44b789459bef1fadf310b"
       ],
       "layout": "IPY_MODEL_b3f42671926440b291ac06c429ee1a1b"
      }
     },
     "db690c0875a64a9cba13bde7646aaf3c": {
      "model_module": "@jupyter-widgets/base",
      "model_module_version": "1.2.0",
      "model_name": "LayoutModel",
      "state": {}
     },
     "dbbad50261044a2ebc9309be44c50559": {
      "model_module": "@jupyter-widgets/controls",
      "model_module_version": "1.5.0",
      "model_name": "DescriptionStyleModel",
      "state": {
       "description_width": ""
      }
     },
     "dc263532c9664143b16d1f12ed5d00e6": {
      "model_module": "@jupyter-widgets/controls",
      "model_module_version": "1.5.0",
      "model_name": "RadioButtonsModel",
      "state": {
       "_options_labels": [
        "TEMPLATE: C:\\engDev\\git_mf\\MF_Toolbox\\dev\\mf_scripts\\template_inputs\\inputs-docx_to_pdf.json",
        "PROJECT: C:\\engDev\\git_mf\\ipyrun\\ipyrun\\appdata\\inputs\\inputs-docx_to_pdf.json",
        "PROJECT: C:\\engDev\\git_mf\\ipyrun\\ipyrun\\appdata\\inputs\\archive\\20200610_1134-jg-inputs-docx_to_pdf.json",
        "PROJECT: C:\\engDev\\git_mf\\ipyrun\\ipyrun\\appdata\\inputs\\archive\\20200610_1139-jg-inputs-docx_to_pdf.json",
        "PROJECT: C:\\engDev\\git_mf\\ipyrun\\ipyrun\\appdata\\inputs\\archive\\20200610_1218-jg-inputs-docx_to_pdf.json",
        "PROJECT: C:\\engDev\\git_mf\\ipyrun\\ipyrun\\appdata\\inputs\\archive\\20200610_1220-jg-inputs-docx_to_pdf.json",
        "PROJECT: C:\\engDev\\git_mf\\ipyrun\\ipyrun\\appdata\\inputs\\archive\\20200610_1221-jg-inputs-docx_to_pdf.json",
        "PROJECT: C:\\engDev\\git_mf\\ipyrun\\ipyrun\\appdata\\inputs\\archive\\20200610_1224-jg-inputs-docx_to_pdf.json",
        "PROJECT: C:\\engDev\\git_mf\\ipyrun\\ipyrun\\appdata\\inputs\\archive\\20200610_1225-jg-inputs-docx_to_pdf.json",
        "PROJECT: C:\\engDev\\git_mf\\ipyrun\\ipyrun\\appdata\\inputs\\archive\\20200610_1244-jg-inputs-docx_to_pdf.json",
        "PROJECT: C:\\engDev\\git_mf\\ipyrun\\ipyrun\\appdata\\inputs\\archive\\20200610_1246-jg-inputs-docx_to_pdf.json",
        "PROJECT: C:\\engDev\\git_mf\\ipyrun\\ipyrun\\appdata\\inputs\\archive\\20200610_1419-jg-inputs-docx_to_pdf.json",
        "PROJECT: C:\\engDev\\git_mf\\ipyrun\\ipyrun\\appdata\\inputs\\archive\\20200610_1420-jg-inputs-docx_to_pdf.json",
        "PROJECT: C:\\engDev\\git_mf\\ipyrun\\ipyrun\\appdata\\inputs\\archive\\20200610_1422-jg-inputs-docx_to_pdf.json",
        "PROJECT: C:\\engDev\\git_mf\\ipyrun\\ipyrun\\appdata\\inputs\\archive\\20200610_1425-jg-inputs-docx_to_pdf.json",
        "PROJECT: C:\\engDev\\git_mf\\ipyrun\\ipyrun\\appdata\\inputs\\archive\\20200610_1853-jg-inputs-docx_to_pdf.json",
        "PROJECT: C:\\engDev\\git_mf\\ipyrun\\ipyrun\\appdata\\inputs\\archive\\20200610_1855-jg-inputs-docx_to_pdf.json",
        "PROJECT: C:\\engDev\\git_mf\\ipyrun\\ipyrun\\appdata\\inputs\\archive\\20200611_0748-jg-inputs-docx_to_pdf.json",
        "PROJECT: C:\\engDev\\git_mf\\ipyrun\\ipyrun\\appdata\\inputs\\archive\\20200611_0754-jg-inputs-docx_to_pdf.json",
        "PROJECT: C:\\engDev\\git_mf\\ipyrun\\ipyrun\\appdata\\inputs\\archive\\20200611_0757-jg-inputs-docx_to_pdf.json",
        "PROJECT: C:\\engDev\\git_mf\\ipyrun\\ipyrun\\appdata\\inputs\\archive\\20200616_1026-jg-inputs-docx_to_pdf.json"
       ],
       "index": 0,
       "layout": "IPY_MODEL_8e575406efde42729cd07ba834b43ebf",
       "style": "IPY_MODEL_195df04754b64d7f8db960e1714990e8"
      }
     },
     "dc3a2af50a974beeaf2ef7b5ea4064d2": {
      "model_module": "@jupyter-widgets/controls",
      "model_module_version": "1.5.0",
      "model_name": "DescriptionStyleModel",
      "state": {
       "description_width": ""
      }
     },
     "dc5f9195ac9d4eeea2109c105438bfd4": {
      "model_module": "@jupyter-widgets/controls",
      "model_module_version": "1.5.0",
      "model_name": "HTMLModel",
      "state": {
       "layout": "IPY_MODEL_8a79a1c2b7534723b037a78091217898",
       "style": "IPY_MODEL_de19b306148241698e6e5870780a1ca0",
       "value": "<p>fus foo ous o</p>"
      }
     },
     "dc62f743075547e7941b313cc6e2f896": {
      "model_module": "@jupyter-widgets/output",
      "model_module_version": "1.0.0",
      "model_name": "OutputModel",
      "state": {
       "layout": "IPY_MODEL_5a2ee7e0faec4ac2a734e733bd764a9d"
      }
     },
     "dcf93534491b4c72a51946087e9b966c": {
      "model_module": "@jupyter-widgets/base",
      "model_module_version": "1.2.0",
      "model_name": "LayoutModel",
      "state": {}
     },
     "dd1c1ec2327a40bda3c8d844d65be8d7": {
      "model_module": "@jupyter-widgets/controls",
      "model_module_version": "1.5.0",
      "model_name": "DescriptionStyleModel",
      "state": {
       "description_width": ""
      }
     },
     "dd34bd76d6b449db8b99584c68f35cc6": {
      "model_module": "@jupyter-widgets/controls",
      "model_module_version": "1.5.0",
      "model_name": "DescriptionStyleModel",
      "state": {
       "description_width": ""
      }
     },
     "dd64862bcfe543168aa66d7b28feb560": {
      "model_module": "@jupyter-widgets/controls",
      "model_module_version": "1.5.0",
      "model_name": "HBoxModel",
      "state": {
       "children": [
        "IPY_MODEL_7956bfdc02884ad68275a81243bc52c2",
        "IPY_MODEL_f6e67eae4e5c4830995f5916f72a989c"
       ],
       "layout": "IPY_MODEL_13a556245edd42899bf34e746456a730"
      }
     },
     "dd6dd142b9714538b308a7278efafebc": {
      "model_module": "@jupyter-widgets/base",
      "model_module_version": "1.2.0",
      "model_name": "LayoutModel",
      "state": {
       "align_items": "stretch",
       "display": "flex",
       "flex_flow": "row",
       "grid_auto_columns": "True",
       "justify_content": "flex-end",
       "width": "90%"
      }
     },
     "dd9024394e3e4261a5eda67b546b0628": {
      "model_module": "@jupyter-widgets/base",
      "model_module_version": "1.2.0",
      "model_name": "LayoutModel",
      "state": {}
     },
     "dd918d2297e84372a524e1ccae4dd9ef": {
      "model_module": "@jupyter-widgets/controls",
      "model_module_version": "1.5.0",
      "model_name": "CheckboxModel",
      "state": {
       "disabled": false,
       "layout": "IPY_MODEL_eee23dc696fa4a498d13f2df10be0727",
       "style": "IPY_MODEL_1dcbfed853e247c1a82874f1e3be0063",
       "value": false
      }
     },
     "dddc005a6bfd4d6f89415e9aa91dab8d": {
      "model_module": "@jupyter-widgets/controls",
      "model_module_version": "1.5.0",
      "model_name": "HBoxModel",
      "state": {
       "children": [
        "IPY_MODEL_cd7a9eeb469045fdb0fcfc34d58ee8f4",
        "IPY_MODEL_d1868323052c4998bbd8816d82b03ed1"
       ],
       "layout": "IPY_MODEL_9f50a11a192643cc8def736ecdbf1ed8"
      }
     },
     "ddfcfd73e08b43e082ab6384ab827a28": {
      "model_module": "@jupyter-widgets/base",
      "model_module_version": "1.2.0",
      "model_name": "LayoutModel",
      "state": {}
     },
     "de15c512a16e4b76a2793967fd57ab34": {
      "model_module": "@jupyter-widgets/output",
      "model_module_version": "1.0.0",
      "model_name": "OutputModel",
      "state": {
       "layout": "IPY_MODEL_4b8e4ba856b54c4c8c6be1f6e44f9599"
      }
     },
     "de19b306148241698e6e5870780a1ca0": {
      "model_module": "@jupyter-widgets/controls",
      "model_module_version": "1.5.0",
      "model_name": "DescriptionStyleModel",
      "state": {
       "description_width": ""
      }
     },
     "de3e3cf4b8fc430d8d5e0c2f04a46eb4": {
      "model_module": "@jupyter-widgets/controls",
      "model_module_version": "1.5.0",
      "model_name": "DescriptionStyleModel",
      "state": {
       "description_width": ""
      }
     },
     "de950a5d601e4605b2bb5d09306e3d1c": {
      "model_module": "@jupyter-widgets/base",
      "model_module_version": "1.2.0",
      "model_name": "LayoutModel",
      "state": {}
     },
     "de9d4c3ea3814a80b929a8979c41f58b": {
      "model_module": "@jupyter-widgets/base",
      "model_module_version": "1.2.0",
      "model_name": "LayoutModel",
      "state": {}
     },
     "dec62e801c4246bebbaa7c6a95b49f75": {
      "model_module": "@jupyter-widgets/base",
      "model_module_version": "1.2.0",
      "model_name": "LayoutModel",
      "state": {}
     },
     "df2ae41823b04df19888ceebe4df442b": {
      "model_module": "@jupyter-widgets/base",
      "model_module_version": "1.2.0",
      "model_name": "LayoutModel",
      "state": {}
     },
     "df2d90bfea2d422e9720c836ad719c93": {
      "model_module": "@jupyter-widgets/base",
      "model_module_version": "1.2.0",
      "model_name": "LayoutModel",
      "state": {
       "align_items": "stretch",
       "display": "flex",
       "flex_flow": "row",
       "grid_auto_columns": "True",
       "justify_content": "flex-end",
       "width": "90%"
      }
     },
     "df38edafb5ee4202956181787d0bdf46": {
      "model_module": "@jupyter-widgets/base",
      "model_module_version": "1.2.0",
      "model_name": "LayoutModel",
      "state": {
       "align_items": "stretch",
       "display": "flex",
       "flex_flow": "row",
       "grid_auto_columns": "True",
       "justify_content": "flex-start",
       "width": "80%"
      }
     },
     "df3b7df9fcad4e6188126521f9cbbc65": {
      "model_module": "@jupyter-widgets/controls",
      "model_module_version": "1.5.0",
      "model_name": "HBoxModel",
      "state": {
       "children": [
        "IPY_MODEL_4ba8716aec7a452ca50b33f17dd6d3db",
        "IPY_MODEL_26d1c0fe24e74c30bd7c0e19293759b4"
       ],
       "layout": "IPY_MODEL_6b14ac8d5f234d669696784745be70ea"
      }
     },
     "df4d031ce16c40d38c3ac885056531c6": {
      "model_module": "@jupyter-widgets/controls",
      "model_module_version": "1.5.0",
      "model_name": "DescriptionStyleModel",
      "state": {
       "description_width": ""
      }
     },
     "df6fc62a1dd94aec8871726fdbab03d9": {
      "model_module": "@jupyter-widgets/base",
      "model_module_version": "1.2.0",
      "model_name": "LayoutModel",
      "state": {}
     },
     "df915de5e34d451fa5df10443263ffb1": {
      "model_module": "@jupyter-widgets/controls",
      "model_module_version": "1.5.0",
      "model_name": "HTMLModel",
      "state": {
       "layout": "IPY_MODEL_ec3e8b660a8b4fff9e8c51cc8ac50214",
       "style": "IPY_MODEL_32565bc57ac448c796f3d94ec3156cbd",
       "value": "<p>its a foo cake</p>"
      }
     },
     "dfbb39c8508b4681aa57e175dc1f16c4": {
      "model_module": "@jupyter-widgets/controls",
      "model_module_version": "1.5.0",
      "model_name": "VBoxModel",
      "state": {
       "children": [
        "IPY_MODEL_b67462c5ed564bab837e3df75fa0b5b2",
        "IPY_MODEL_b5ce4dfe64b3414ea67ecab941254455",
        "IPY_MODEL_997a69a4bba44ccba8c570f74609fad3",
        "IPY_MODEL_8adf3ebe04454af4b0576c5d8273148d",
        "IPY_MODEL_134cbaacf0da4bada4c9c2f9f1d2eb30"
       ],
       "layout": "IPY_MODEL_1038cc9e6af3427bba04d98c64229e63"
      }
     },
     "dfbbfad899fb438d88a55e1b2faf2c69": {
      "model_module": "@jupyter-widgets/base",
      "model_module_version": "1.2.0",
      "model_name": "LayoutModel",
      "state": {}
     },
     "e0106a64231e48dab2fa555f14531aa6": {
      "model_module": "@jupyter-widgets/controls",
      "model_module_version": "1.5.0",
      "model_name": "DropdownModel",
      "state": {
       "_options_labels": [
        "asfd",
        "10",
        "asdf"
       ],
       "index": 1,
       "layout": "IPY_MODEL_fc9376c43d104f2e8e33efcbfa196746",
       "style": "IPY_MODEL_b129405356cc480b87d8d74c091d776e"
      }
     },
     "e02f1179ee0e4d68bd755085b05add5a": {
      "model_module": "@jupyter-widgets/controls",
      "model_module_version": "1.5.0",
      "model_name": "DescriptionStyleModel",
      "state": {
       "description_width": ""
      }
     },
     "e03af630f04048f28fd3211eb8c35eae": {
      "model_module": "@jupyter-widgets/controls",
      "model_module_version": "1.5.0",
      "model_name": "DescriptionStyleModel",
      "state": {
       "description_width": ""
      }
     },
     "e05e9e30e6a44b789459bef1fadf310b": {
      "model_module": "@jupyter-widgets/controls",
      "model_module_version": "1.5.0",
      "model_name": "HTMLModel",
      "state": {
       "layout": "IPY_MODEL_eccea4887bce4e38bd29647e9f8bb298",
       "style": "IPY_MODEL_7a8aec1b04e24523bd51e38024e7c35b",
       "value": "<p>its a foo cake</p>"
      }
     },
     "e06581a58cb74f98ab848e351bd8c1ae": {
      "model_module": "@jupyter-widgets/base",
      "model_module_version": "1.2.0",
      "model_name": "LayoutModel",
      "state": {}
     },
     "e07abb429a784211b655d889ebb0847e": {
      "model_module": "@jupyter-widgets/base",
      "model_module_version": "1.2.0",
      "model_name": "LayoutModel",
      "state": {
       "width": "5%"
      }
     },
     "e0862f1ef28f435387e0a1f7cb1b41ec": {
      "model_module": "@jupyter-widgets/controls",
      "model_module_version": "1.5.0",
      "model_name": "DescriptionStyleModel",
      "state": {
       "description_width": ""
      }
     },
     "e0a7e5bb0b4c4a879c5daa7eef438448": {
      "model_module": "@jupyter-widgets/base",
      "model_module_version": "1.2.0",
      "model_name": "LayoutModel",
      "state": {
       "align_items": "stretch",
       "border": "dashed 0.2px green",
       "display": "flex",
       "flex_flow": "row",
       "grid_auto_columns": "True",
       "justify_content": "flex-start",
       "width": "100%"
      }
     },
     "e0b8ea8e3a324031910d7ffde80a905d": {
      "model_module": "@jupyter-widgets/controls",
      "model_module_version": "1.5.0",
      "model_name": "HBoxModel",
      "state": {
       "children": [
        "IPY_MODEL_c07dc6ccc7194ef4833d9f4612d55fb0",
        "IPY_MODEL_ff4d69aaa0d240c3918495d2bc0d58d6"
       ],
       "layout": "IPY_MODEL_5afb5228a6e84e22b1c7a93ead93e9a7"
      }
     },
     "e0c4cb8e72fe4cce9dbc9b2841eec60f": {
      "model_module": "@jupyter-widgets/controls",
      "model_module_version": "1.5.0",
      "model_name": "HTMLModel",
      "state": {
       "layout": "IPY_MODEL_d820d25440344fe09fa62210f6a6a7d1",
       "style": "IPY_MODEL_6645af5f8fe34eff9ad5953b943f0974",
       "value": "<p>its a delicious foo cake</p>"
      }
     },
     "e15ca146bd7d4639b42d748fc8295e44": {
      "model_module": "@jupyter-widgets/base",
      "model_module_version": "1.2.0",
      "model_name": "LayoutModel",
      "state": {}
     },
     "e1a1503ae67248bd9c9040e4ebd5a160": {
      "model_module": "@jupyter-widgets/controls",
      "model_module_version": "1.5.0",
      "model_name": "DescriptionStyleModel",
      "state": {
       "description_width": ""
      }
     },
     "e1bc47a554dc4a92829ba6a7053ed8f5": {
      "model_module": "@jupyter-widgets/controls",
      "model_module_version": "1.5.0",
      "model_name": "ToggleButtonModel",
      "state": {
       "layout": "IPY_MODEL_3f37f47f55ba421e99fea47d5a44d8ab",
       "style": "IPY_MODEL_fa6bc8a28fcf49bd8495e6786faebfae"
      }
     },
     "e1bd3edfd8d3493e90f900a50ed8ed14": {
      "model_module": "@jupyter-widgets/base",
      "model_module_version": "1.2.0",
      "model_name": "LayoutModel",
      "state": {}
     },
     "e1ead4d2697943c3947213e3f9819a99": {
      "model_module": "@jupyter-widgets/base",
      "model_module_version": "1.2.0",
      "model_name": "LayoutModel",
      "state": {
       "align_items": "stretch",
       "display": "flex",
       "flex_flow": "row",
       "grid_auto_columns": "True",
       "justify_content": "flex-end",
       "width": "90%"
      }
     },
     "e2a5657d135e40da8902c60db934ba90": {
      "model_module": "@jupyter-widgets/controls",
      "model_module_version": "1.5.0",
      "model_name": "VBoxModel",
      "state": {
       "children": [
        "IPY_MODEL_7eb5ee73bc244cb1a2b5586969f3e3ed",
        "IPY_MODEL_526a6429ff7d46978e25bbe3099e9d97",
        "IPY_MODEL_89082914dfc947e7a09897c2c2fbfb24",
        "IPY_MODEL_ac9c4d95b5714a079f1e1af678565e6c",
        "IPY_MODEL_ea091545d97048589fa711b564fe7041",
        "IPY_MODEL_6dd54e406e1e420999b91320ff432980",
        "IPY_MODEL_697520d3ae794128a1d71c05651f9398",
        "IPY_MODEL_3c4a2f596b84451f8f54f3422488258d"
       ],
       "layout": "IPY_MODEL_2b63eb55813a4e8da401af28e6afd506"
      }
     },
     "e340f69e24b44bd48be2aad0ac5eb0dd": {
      "model_module": "@jupyter-widgets/controls",
      "model_module_version": "1.5.0",
      "model_name": "VBoxModel",
      "state": {
       "children": [
        "IPY_MODEL_4e88c2e9761e485f9d82752c207bd720",
        "IPY_MODEL_997c9bfa6200459d8ff458c9bb565ed5",
        "IPY_MODEL_6bca838978a2434fa7fe4de76c3c96e9"
       ],
       "layout": "IPY_MODEL_c16775f5fe7746e3a994a0811e45fa31"
      }
     },
     "e34fbe98aa9543deaed859cfb0f8f2a5": {
      "model_module": "@jupyter-widgets/controls",
      "model_module_version": "1.5.0",
      "model_name": "HTMLModel",
      "state": {
       "layout": "IPY_MODEL_20be6f5377f74a38b11ba2c2b6d90876",
       "style": "IPY_MODEL_83c7e5d7147447ee9859ceebf0e0ec35",
       "value": "<p>label</p>"
      }
     },
     "e353bcce5c14440fbce40c5a38693fe7": {
      "model_module": "@jupyter-widgets/controls",
      "model_module_version": "1.5.0",
      "model_name": "DescriptionStyleModel",
      "state": {
       "description_width": ""
      }
     },
     "e360803a4c8b4277ae12f8d1fafc149a": {
      "model_module": "@jupyter-widgets/base",
      "model_module_version": "1.2.0",
      "model_name": "LayoutModel",
      "state": {}
     },
     "e398477841754458ad5811c529e567ca": {
      "model_module": "@jupyter-widgets/controls",
      "model_module_version": "1.5.0",
      "model_name": "HTMLModel",
      "state": {
       "layout": "IPY_MODEL_c5faf84f36894df2a693c2a897186301",
       "style": "IPY_MODEL_736442aff1824088ab7debe595d93638",
       "value": "<p>its a foo cake</p>"
      }
     },
     "e3c9ef9d4ddd481babc19322d982b0be": {
      "model_module": "@jupyter-widgets/base",
      "model_module_version": "1.2.0",
      "model_name": "LayoutModel",
      "state": {}
     },
     "e404c456505843ae930f21664508ae58": {
      "model_module": "@jupyter-widgets/base",
      "model_module_version": "1.2.0",
      "model_name": "LayoutModel",
      "state": {
       "align_items": "stretch",
       "display": "flex",
       "flex_flow": "row",
       "grid_auto_columns": "True",
       "justify_content": "flex-end",
       "width": "90%"
      }
     },
     "e416967f22614579a2ed481a8e23b1c1": {
      "model_module": "@jupyter-widgets/base",
      "model_module_version": "1.2.0",
      "model_name": "LayoutModel",
      "state": {}
     },
     "e43507136aeb4c39a55d99339b5d3d28": {
      "model_module": "@jupyter-widgets/base",
      "model_module_version": "1.2.0",
      "model_name": "LayoutModel",
      "state": {}
     },
     "e4364d8ce6134f46b72b16e3f520179e": {
      "model_module": "@jupyter-widgets/controls",
      "model_module_version": "1.5.0",
      "model_name": "HBoxModel",
      "state": {
       "children": [
        "IPY_MODEL_da3f229e18204dc6b0f13e39f48acf3e",
        "IPY_MODEL_d136aa88c6b547579f4c1a01162c9c19"
       ],
       "layout": "IPY_MODEL_4223aa5d52a044b1bce5f5a2796032da"
      }
     },
     "e44daaf3d8b8425a8373a52b7be58061": {
      "model_module": "@jupyter-widgets/output",
      "model_module_version": "1.0.0",
      "model_name": "OutputModel",
      "state": {
       "layout": "IPY_MODEL_97acd3ed26854a66a980b90eee2e40a9"
      }
     },
     "e4f6a5b056da4b709c42f7d57bb5da89": {
      "model_module": "@jupyter-widgets/controls",
      "model_module_version": "1.5.0",
      "model_name": "SelectMultipleModel",
      "state": {
       "_options_labels": [
        "asfd",
        "10",
        "asdf"
       ],
       "index": [
        1
       ],
       "layout": "IPY_MODEL_db690c0875a64a9cba13bde7646aaf3c",
       "rows": 5,
       "style": "IPY_MODEL_300022eb21b2429fa237ef21dcfbbccb"
      }
     },
     "e5028d375d9044aaa4a56e5c515a32c2": {
      "model_module": "@jupyter-widgets/controls",
      "model_module_version": "1.5.0",
      "model_name": "DescriptionStyleModel",
      "state": {
       "description_width": ""
      }
     },
     "e5103846ade84a19ac6354581e0620ec": {
      "model_module": "@jupyter-widgets/base",
      "model_module_version": "1.2.0",
      "model_name": "LayoutModel",
      "state": {}
     },
     "e522866d273e4aa2a1fadbab72e16475": {
      "model_module": "@jupyter-widgets/base",
      "model_module_version": "1.2.0",
      "model_name": "LayoutModel",
      "state": {
       "align_items": "stretch",
       "display": "flex",
       "flex_flow": "row",
       "grid_auto_columns": "True",
       "justify_content": "flex-start",
       "width": "80%"
      }
     },
     "e5618c63e404471da903db1c4f407611": {
      "model_module": "@jupyter-widgets/base",
      "model_module_version": "1.2.0",
      "model_name": "LayoutModel",
      "state": {}
     },
     "e561bebb34c2409491c147505ad3b4e5": {
      "model_module": "@jupyter-widgets/controls",
      "model_module_version": "1.5.0",
      "model_name": "DescriptionStyleModel",
      "state": {
       "description_width": ""
      }
     },
     "e5a044d66c97431a860d46aeb17b5df7": {
      "model_module": "@jupyter-widgets/base",
      "model_module_version": "1.2.0",
      "model_name": "LayoutModel",
      "state": {
       "align_items": "stretch",
       "display": "flex",
       "flex_flow": "row",
       "grid_auto_columns": "True",
       "justify_content": "flex-end",
       "width": "90%"
      }
     },
     "e5bf618343be473099479f13d8a19fa0": {
      "model_module": "@jupyter-widgets/base",
      "model_module_version": "1.2.0",
      "model_name": "LayoutModel",
      "state": {}
     },
     "e6228bb662d64f239ee158fa58c72349": {
      "model_module": "@jupyter-widgets/controls",
      "model_module_version": "1.5.0",
      "model_name": "DescriptionStyleModel",
      "state": {
       "description_width": ""
      }
     },
     "e6c4a5ebb3004d25887caa14626a1b8f": {
      "model_module": "@jupyter-widgets/controls",
      "model_module_version": "1.5.0",
      "model_name": "DescriptionStyleModel",
      "state": {
       "description_width": ""
      }
     },
     "e6d7716feb734707b904655677d6be6b": {
      "model_module": "@jupyter-widgets/base",
      "model_module_version": "1.2.0",
      "model_name": "LayoutModel",
      "state": {
       "align_items": "stretch",
       "display": "flex",
       "flex_flow": "row",
       "grid_auto_columns": "True",
       "justify_content": "flex-start",
       "width": "80%"
      }
     },
     "e6ec5429809e44d3bd71fc805d8cfe04": {
      "model_module": "@jupyter-widgets/base",
      "model_module_version": "1.2.0",
      "model_name": "LayoutModel",
      "state": {}
     },
     "e715aea5325542ffa27b89e8dfa0006d": {
      "model_module": "@jupyter-widgets/output",
      "model_module_version": "1.0.0",
      "model_name": "OutputModel",
      "state": {
       "layout": "IPY_MODEL_80756bf87c1a491682ade8c4209c1b6c"
      }
     },
     "e758c53f325b4cfc8f8714dd88f66942": {
      "model_module": "@jupyter-widgets/base",
      "model_module_version": "1.2.0",
      "model_name": "LayoutModel",
      "state": {}
     },
     "e7a7a63f970a423887114909455aa509": {
      "model_module": "@jupyter-widgets/base",
      "model_module_version": "1.2.0",
      "model_name": "LayoutModel",
      "state": {}
     },
     "e7bf46ab21ab48c6bf8f439f0460fb9a": {
      "model_module": "@jupyter-widgets/controls",
      "model_module_version": "1.5.0",
      "model_name": "DescriptionStyleModel",
      "state": {
       "description_width": ""
      }
     },
     "e7c90db23d6042e38d76ae865e95bcee": {
      "model_module": "@jupyter-widgets/base",
      "model_module_version": "1.2.0",
      "model_name": "LayoutModel",
      "state": {}
     },
     "e844f428fec848f296717c34bbd017a0": {
      "model_module": "@jupyter-widgets/base",
      "model_module_version": "1.2.0",
      "model_name": "LayoutModel",
      "state": {}
     },
     "e888fb535e224b8ea2f3ed9936e459f7": {
      "model_module": "@jupyter-widgets/controls",
      "model_module_version": "1.5.0",
      "model_name": "HTMLModel",
      "state": {
       "layout": "IPY_MODEL_aaea4e1f8d8b42f88ced4343e34cf51d",
       "style": "IPY_MODEL_c3b059508e814e928729c28d0eb5b5de",
       "value": "<p>its a foo cake</p>"
      }
     },
     "e8b7001f741b42cfb45cf9785969144d": {
      "model_module": "@jupyter-widgets/controls",
      "model_module_version": "1.5.0",
      "model_name": "DescriptionStyleModel",
      "state": {
       "description_width": ""
      }
     },
     "e8d6dff5a5cc4fb187a68bdde34fb0c7": {
      "model_module": "@jupyter-widgets/base",
      "model_module_version": "1.2.0",
      "model_name": "LayoutModel",
      "state": {}
     },
     "e8e4b6f6e4bd41f5acf4714e619dd1b0": {
      "model_module": "@jupyter-widgets/controls",
      "model_module_version": "1.5.0",
      "model_name": "DescriptionStyleModel",
      "state": {
       "description_width": ""
      }
     },
     "e8f75aa91b9f479bb24048ddd8b5dd6f": {
      "model_module": "@jupyter-widgets/base",
      "model_module_version": "1.2.0",
      "model_name": "LayoutModel",
      "state": {
       "width": "5%"
      }
     },
     "e8fcb33518e248309140edd09a088f4e": {
      "model_module": "@jupyter-widgets/base",
      "model_module_version": "1.2.0",
      "model_name": "LayoutModel",
      "state": {}
     },
     "e9423f0464754a8aa6f45606a988011f": {
      "model_module": "@jupyter-widgets/base",
      "model_module_version": "1.2.0",
      "model_name": "LayoutModel",
      "state": {}
     },
     "e9561fa713cd45b5b3ebca1329ad61ae": {
      "model_module": "@jupyter-widgets/controls",
      "model_module_version": "1.5.0",
      "model_name": "VBoxModel",
      "state": {
       "children": [
        "IPY_MODEL_5cebd818c5184c53af02ca949ca06a0f",
        "IPY_MODEL_d9fe5cf0f2c04cd29a50ffe338080ec2",
        "IPY_MODEL_bc1d133b6902405f94b2ccff2cdc12e7",
        "IPY_MODEL_66f7a81cdcea4307b7c237e9018de9e5",
        "IPY_MODEL_33a0cf1b18c248938b6cf565ee9159be"
       ],
       "layout": "IPY_MODEL_498fb24fcf3841b4b1ccf79d29bf2b9f"
      }
     },
     "e9ac7fdb409b4ebe97dce3c24a890fa1": {
      "model_module": "@jupyter-widgets/base",
      "model_module_version": "1.2.0",
      "model_name": "LayoutModel",
      "state": {
       "align_items": "stretch",
       "border": "dashed 0.2px green",
       "display": "flex",
       "flex_flow": "row",
       "grid_auto_columns": "True",
       "justify_content": "flex-start",
       "width": "100%"
      }
     },
     "e9c62007fc8a4ffda404b3954c0b27a4": {
      "model_module": "@jupyter-widgets/controls",
      "model_module_version": "1.5.0",
      "model_name": "DescriptionStyleModel",
      "state": {
       "description_width": ""
      }
     },
     "e9d90bff634e40bd946919190f27918b": {
      "model_module": "@jupyter-widgets/base",
      "model_module_version": "1.2.0",
      "model_name": "LayoutModel",
      "state": {}
     },
     "e9dc62961f0f4f1eac1cfd4cda186740": {
      "model_module": "@jupyter-widgets/controls",
      "model_module_version": "1.5.0",
      "model_name": "RadioButtonsModel",
      "state": {
       "_options_labels": [
        "TEMPLATE: C:\\engDev\\git_mf\\MF_Toolbox\\dev\\mf_scripts\\template_inputs\\inputs-docx_to_pdf.json",
        "PROJECT: C:\\engDev\\git_mf\\ipyrun\\ipyrun\\appdata\\inputs\\inputs-docx_to_pdf.json",
        "PROJECT: C:\\engDev\\git_mf\\ipyrun\\ipyrun\\appdata\\inputs\\archive\\20200610_1134-jg-inputs-docx_to_pdf.json",
        "PROJECT: C:\\engDev\\git_mf\\ipyrun\\ipyrun\\appdata\\inputs\\archive\\20200610_1139-jg-inputs-docx_to_pdf.json",
        "PROJECT: C:\\engDev\\git_mf\\ipyrun\\ipyrun\\appdata\\inputs\\archive\\20200610_1218-jg-inputs-docx_to_pdf.json",
        "PROJECT: C:\\engDev\\git_mf\\ipyrun\\ipyrun\\appdata\\inputs\\archive\\20200610_1220-jg-inputs-docx_to_pdf.json",
        "PROJECT: C:\\engDev\\git_mf\\ipyrun\\ipyrun\\appdata\\inputs\\archive\\20200610_1221-jg-inputs-docx_to_pdf.json",
        "PROJECT: C:\\engDev\\git_mf\\ipyrun\\ipyrun\\appdata\\inputs\\archive\\20200610_1224-jg-inputs-docx_to_pdf.json",
        "PROJECT: C:\\engDev\\git_mf\\ipyrun\\ipyrun\\appdata\\inputs\\archive\\20200610_1225-jg-inputs-docx_to_pdf.json",
        "PROJECT: C:\\engDev\\git_mf\\ipyrun\\ipyrun\\appdata\\inputs\\archive\\20200610_1244-jg-inputs-docx_to_pdf.json",
        "PROJECT: C:\\engDev\\git_mf\\ipyrun\\ipyrun\\appdata\\inputs\\archive\\20200610_1246-jg-inputs-docx_to_pdf.json",
        "PROJECT: C:\\engDev\\git_mf\\ipyrun\\ipyrun\\appdata\\inputs\\archive\\20200610_1419-jg-inputs-docx_to_pdf.json",
        "PROJECT: C:\\engDev\\git_mf\\ipyrun\\ipyrun\\appdata\\inputs\\archive\\20200610_1420-jg-inputs-docx_to_pdf.json",
        "PROJECT: C:\\engDev\\git_mf\\ipyrun\\ipyrun\\appdata\\inputs\\archive\\20200610_1422-jg-inputs-docx_to_pdf.json",
        "PROJECT: C:\\engDev\\git_mf\\ipyrun\\ipyrun\\appdata\\inputs\\archive\\20200610_1425-jg-inputs-docx_to_pdf.json",
        "PROJECT: C:\\engDev\\git_mf\\ipyrun\\ipyrun\\appdata\\inputs\\archive\\20200610_1853-jg-inputs-docx_to_pdf.json",
        "PROJECT: C:\\engDev\\git_mf\\ipyrun\\ipyrun\\appdata\\inputs\\archive\\20200610_1855-jg-inputs-docx_to_pdf.json",
        "PROJECT: C:\\engDev\\git_mf\\ipyrun\\ipyrun\\appdata\\inputs\\archive\\20200611_0748-jg-inputs-docx_to_pdf.json",
        "PROJECT: C:\\engDev\\git_mf\\ipyrun\\ipyrun\\appdata\\inputs\\archive\\20200611_0754-jg-inputs-docx_to_pdf.json",
        "PROJECT: C:\\engDev\\git_mf\\ipyrun\\ipyrun\\appdata\\inputs\\archive\\20200611_0757-jg-inputs-docx_to_pdf.json",
        "PROJECT: C:\\engDev\\git_mf\\ipyrun\\ipyrun\\appdata\\inputs\\archive\\20200616_1026-jg-inputs-docx_to_pdf.json"
       ],
       "index": 0,
       "layout": "IPY_MODEL_5a494f1df577488ab3a942c36d5fcd6c",
       "style": "IPY_MODEL_b8e84973afa74c0a9f9bfb2f999240ab"
      }
     },
     "e9fe202df9b540738d4b47ea14e342cc": {
      "model_module": "@jupyter-widgets/controls",
      "model_module_version": "1.5.0",
      "model_name": "DescriptionStyleModel",
      "state": {
       "description_width": ""
      }
     },
     "ea03f32792734c54a4e0dd1cb9bfcefc": {
      "model_module": "@jupyter-widgets/base",
      "model_module_version": "1.2.0",
      "model_name": "LayoutModel",
      "state": {}
     },
     "ea091545d97048589fa711b564fe7041": {
      "model_module": "@jupyter-widgets/controls",
      "model_module_version": "1.5.0",
      "model_name": "HBoxModel",
      "state": {
       "children": [
        "IPY_MODEL_ac922312edaf4568818e7327edc5e971"
       ],
       "layout": "IPY_MODEL_28df027452ff4c26ba46307aebe30999"
      }
     },
     "ea803636a3bc4dd29fcf2de3c1df6ab8": {
      "model_module": "@jupyter-widgets/base",
      "model_module_version": "1.2.0",
      "model_name": "LayoutModel",
      "state": {
       "align_items": "stretch",
       "display": "flex",
       "flex_flow": "row",
       "grid_auto_columns": "True",
       "justify_content": "flex-end",
       "width": "90%"
      }
     },
     "ea9d74dd194b44b8911a355ad26658d7": {
      "model_module": "@jupyter-widgets/controls",
      "model_module_version": "1.5.0",
      "model_name": "HTMLModel",
      "state": {
       "layout": "IPY_MODEL_3408df4930e642a1b1c450ce4bf0ad20",
       "style": "IPY_MODEL_02bb651431de42f98b737f1afa9c595e",
       "value": "<p>foo</p>"
      }
     },
     "eab5039fed234144b937f38990bdb0b5": {
      "model_module": "@jupyter-widgets/controls",
      "model_module_version": "1.5.0",
      "model_name": "HBoxModel",
      "state": {
       "children": [
        "IPY_MODEL_acb80e171eb343f2bd510dabeb8604d6",
        "IPY_MODEL_0a134b289a934e7baef49f9ab49845bc"
       ],
       "layout": "IPY_MODEL_7ad72086f7424b819ec940bd54fa0f7e"
      }
     },
     "eb23044963434ec6a12a8c56cdd2f3b9": {
      "model_module": "@jupyter-widgets/controls",
      "model_module_version": "1.5.0",
      "model_name": "HTMLModel",
      "state": {
       "layout": "IPY_MODEL_e8fcb33518e248309140edd09a088f4e",
       "style": "IPY_MODEL_7d6df9cd48c94183b9a8d5d1e494e091",
       "value": "<p>reus foo ous oo ous foo st</p>"
      }
     },
     "eb5017bd58414bd2a051a52eb4a383db": {
      "model_module": "@jupyter-widgets/controls",
      "model_module_version": "1.5.0",
      "model_name": "ButtonModel",
      "state": {
       "button_style": "success",
       "description": "save",
       "layout": "IPY_MODEL_235cd7243f224665b7e4bd59a8d9f668",
       "style": "IPY_MODEL_4893616d8ebc4409a32dfde3070edd33"
      }
     },
     "eb73686a35a74e9ab10cc80962e852b5": {
      "model_module": "@jupyter-widgets/base",
      "model_module_version": "1.2.0",
      "model_name": "LayoutModel",
      "state": {}
     },
     "ebb50584ae4148fa835a820a6e72099a": {
      "model_module": "@jupyter-widgets/controls",
      "model_module_version": "1.5.0",
      "model_name": "HTMLModel",
      "state": {
       "layout": "IPY_MODEL_4ecf40ff05604b0a80f13eea4f58bb09",
       "style": "IPY_MODEL_a3ae14252c2149f8b37998fcfee2125f",
       "value": "<p>label</p>"
      }
     },
     "ebba701b4e8e4549ae5e1ed90a4a616a": {
      "model_module": "@jupyter-widgets/base",
      "model_module_version": "1.2.0",
      "model_name": "LayoutModel",
      "state": {
       "align_items": "stretch",
       "display": "flex",
       "flex_flow": "row",
       "grid_auto_columns": "True",
       "justify_content": "flex-start",
       "width": "80%"
      }
     },
     "ebded6953c174db7b9e693f79ecfef6a": {
      "model_module": "@jupyter-widgets/base",
      "model_module_version": "1.2.0",
      "model_name": "LayoutModel",
      "state": {}
     },
     "ebfc0a35c50444e3add00896959372f8": {
      "model_module": "@jupyter-widgets/controls",
      "model_module_version": "1.5.0",
      "model_name": "HBoxModel",
      "state": {
       "children": [
        "IPY_MODEL_6597a89591124986bb1fe29ae4ca30fe"
       ],
       "layout": "IPY_MODEL_0b1bf18f0dd14ed1811d22fce9a0927a"
      }
     },
     "ec3e8b660a8b4fff9e8c51cc8ac50214": {
      "model_module": "@jupyter-widgets/base",
      "model_module_version": "1.2.0",
      "model_name": "LayoutModel",
      "state": {}
     },
     "ec741cd2955746e6ad00f35d0cf70b9f": {
      "model_module": "@jupyter-widgets/controls",
      "model_module_version": "1.5.0",
      "model_name": "HBoxModel",
      "state": {
       "children": [
        "IPY_MODEL_eab5039fed234144b937f38990bdb0b5"
       ],
       "layout": "IPY_MODEL_c57434c0c04849a69463c05bf767c816"
      }
     },
     "ec9514e2747c4ad2b41792e8bf8db2ad": {
      "model_module": "@jupyter-widgets/controls",
      "model_module_version": "1.5.0",
      "model_name": "DropdownModel",
      "state": {
       "_options_labels": [
        "asfd",
        "10",
        "asdf"
       ],
       "index": 1,
       "layout": "IPY_MODEL_674a851b065648fc998e979ea949878f",
       "style": "IPY_MODEL_541099275baa4e9ebc15670c86f9a01f"
      }
     },
     "eccea4887bce4e38bd29647e9f8bb298": {
      "model_module": "@jupyter-widgets/base",
      "model_module_version": "1.2.0",
      "model_name": "LayoutModel",
      "state": {}
     },
     "eceabc535fa94b78933fc62d35c352a2": {
      "model_module": "@jupyter-widgets/base",
      "model_module_version": "1.2.0",
      "model_name": "LayoutModel",
      "state": {
       "width": "5%"
      }
     },
     "ed849c92ae8d4343ae438cb946bd840f": {
      "model_module": "@jupyter-widgets/base",
      "model_module_version": "1.2.0",
      "model_name": "LayoutModel",
      "state": {}
     },
     "edb2936d214b4802b9ba656e8c4bc438": {
      "model_module": "@jupyter-widgets/controls",
      "model_module_version": "1.5.0",
      "model_name": "HTMLModel",
      "state": {
       "layout": "IPY_MODEL_0f81d8f969c944fab9430c40ed149342",
       "style": "IPY_MODEL_87f52e6764604b659ed8a011603d3836",
       "value": "<p>its a foo cake</p>"
      }
     },
     "eddc4fdf411b463c93849a9e3f38ce6f": {
      "model_module": "@jupyter-widgets/base",
      "model_module_version": "1.2.0",
      "model_name": "LayoutModel",
      "state": {
       "align_items": "stretch",
       "display": "flex",
       "flex_flow": "row",
       "grid_auto_columns": "True",
       "justify_content": "flex-start",
       "width": "80%"
      }
     },
     "ee0ad1b9f12245839f9de340261361ee": {
      "model_module": "@jupyter-widgets/base",
      "model_module_version": "1.2.0",
      "model_name": "LayoutModel",
      "state": {}
     },
     "ee44a7d0f2fc41aba290ff925d915fe9": {
      "model_module": "@jupyter-widgets/controls",
      "model_module_version": "1.5.0",
      "model_name": "HBoxModel",
      "state": {
       "children": [
        "IPY_MODEL_8c37efd0d9544b4db5ef1035de956297"
       ],
       "layout": "IPY_MODEL_7027bf1071ac49e78a5fdb0101cf3bef"
      }
     },
     "ee4aa1ba29d343a8babae76c563fc705": {
      "model_module": "@jupyter-widgets/controls",
      "model_module_version": "1.5.0",
      "model_name": "DescriptionStyleModel",
      "state": {
       "description_width": ""
      }
     },
     "ee7b5b70497d4da59df28fd1eefc5c0e": {
      "model_module": "@jupyter-widgets/controls",
      "model_module_version": "1.5.0",
      "model_name": "HTMLModel",
      "state": {
       "layout": "IPY_MODEL_ab7b2109a70c4e3a8064c63beec341e1",
       "style": "IPY_MODEL_ee4aa1ba29d343a8babae76c563fc705",
       "value": "<p>name</p>"
      }
     },
     "eed0d943f4e040888e0872a4f00daf72": {
      "model_module": "@jupyter-widgets/base",
      "model_module_version": "1.2.0",
      "model_name": "LayoutModel",
      "state": {
       "align_items": "stretch",
       "display": "flex",
       "flex_flow": "row",
       "grid_auto_columns": "True",
       "justify_content": "flex-end",
       "width": "90%"
      }
     },
     "eee23dc696fa4a498d13f2df10be0727": {
      "model_module": "@jupyter-widgets/base",
      "model_module_version": "1.2.0",
      "model_name": "LayoutModel",
      "state": {}
     },
     "ef16cd4d43f44a399a8073ce471cf4ea": {
      "model_module": "@jupyter-widgets/base",
      "model_module_version": "1.2.0",
      "model_name": "LayoutModel",
      "state": {}
     },
     "ef857964e6bf4d518664842e53b0848b": {
      "model_module": "@jupyter-widgets/controls",
      "model_module_version": "1.5.0",
      "model_name": "HBoxModel",
      "state": {
       "children": [
        "IPY_MODEL_18279701cdb04d118307cdfee2a428d8",
        "IPY_MODEL_bcc89ba2d80a49199d39c383fee5870d"
       ],
       "layout": "IPY_MODEL_00839519aa244229b13930a9b8542eb0"
      }
     },
     "efc72f0690bf421181a16aba9444f39b": {
      "model_module": "@jupyter-widgets/base",
      "model_module_version": "1.2.0",
      "model_name": "LayoutModel",
      "state": {}
     },
     "efd19e53257546ae95de4324fd4cabbc": {
      "model_module": "@jupyter-widgets/controls",
      "model_module_version": "1.5.0",
      "model_name": "HBoxModel",
      "state": {
       "children": [
        "IPY_MODEL_e0b8ea8e3a324031910d7ffde80a905d",
        "IPY_MODEL_ce516c9780f5472a81250cb9826a7a4b"
       ],
       "layout": "IPY_MODEL_a3f3b998998a47339c9a6620ca36118f"
      }
     },
     "eff8cf555ec445a3a373883e38bd190e": {
      "model_module": "@jupyter-widgets/controls",
      "model_module_version": "1.5.0",
      "model_name": "DescriptionStyleModel",
      "state": {
       "description_width": ""
      }
     },
     "f0d177f16fde4a2298e7021b44329878": {
      "model_module": "@jupyter-widgets/controls",
      "model_module_version": "1.5.0",
      "model_name": "HBoxModel",
      "state": {
       "children": [
        "IPY_MODEL_ae6f2e9dcf8c4ad98a827488f76c426c"
       ],
       "layout": "IPY_MODEL_b4ffa1de58664dd0b3a45c5a8a1e3d62"
      }
     },
     "f1124ad400d248f6a87f9b7e0c7aa517": {
      "model_module": "@jupyter-widgets/base",
      "model_module_version": "1.2.0",
      "model_name": "LayoutModel",
      "state": {
       "align_items": "stretch",
       "border": "dashed 0.2px green",
       "display": "flex",
       "flex_flow": "row",
       "grid_auto_columns": "True",
       "justify_content": "flex-start",
       "width": "100%"
      }
     },
     "f173b779cbbf406a859b84b59e613af9": {
      "model_module": "@jupyter-widgets/controls",
      "model_module_version": "1.5.0",
      "model_name": "VBoxModel",
      "state": {
       "children": [
        "IPY_MODEL_efd19e53257546ae95de4324fd4cabbc",
        "IPY_MODEL_2423779cefd34e97979ce49190270e54",
        "IPY_MODEL_55eeb3600a784cdb83709933b84326db",
        "IPY_MODEL_2c1d8279825b466db3a405cc45e2859a",
        "IPY_MODEL_6789952dcc2944f29e5af789235be5aa"
       ],
       "layout": "IPY_MODEL_12d4db927b19455b9d05e388aa38a975"
      }
     },
     "f1d758fe2f414a8dad087c8a9ffbeef6": {
      "model_module": "@jupyter-widgets/base",
      "model_module_version": "1.2.0",
      "model_name": "LayoutModel",
      "state": {}
     },
     "f1ea0805ffa440a09c4c0b1797eb206a": {
      "model_module": "@jupyter-widgets/base",
      "model_module_version": "1.2.0",
      "model_name": "LayoutModel",
      "state": {
       "align_items": "stretch",
       "border": "dashed 0.2px green",
       "display": "flex",
       "flex_flow": "row",
       "grid_auto_columns": "True",
       "justify_content": "flex-start",
       "width": "100%"
      }
     },
     "f1edd92db79f4e94ac5a9d9a97501069": {
      "model_module": "@jupyter-widgets/base",
      "model_module_version": "1.2.0",
      "model_name": "LayoutModel",
      "state": {}
     },
     "f253297f61ce42f38132aaf0096a2b38": {
      "model_module": "@jupyter-widgets/base",
      "model_module_version": "1.2.0",
      "model_name": "LayoutModel",
      "state": {}
     },
     "f257e444327240ea9a244e1729a3d889": {
      "model_module": "@jupyter-widgets/base",
      "model_module_version": "1.2.0",
      "model_name": "LayoutModel",
      "state": {}
     },
     "f27f86e59cca44d3ab0990e885dfba86": {
      "model_module": "@jupyter-widgets/base",
      "model_module_version": "1.2.0",
      "model_name": "LayoutModel",
      "state": {}
     },
     "f29e6350c1d44ef7b43e99e022514178": {
      "model_module": "@jupyter-widgets/controls",
      "model_module_version": "1.5.0",
      "model_name": "HBoxModel",
      "state": {
       "children": [
        "IPY_MODEL_cd39062d41864b888aceb59c2b7afc73",
        "IPY_MODEL_2e66925f21e846ebacdd54e59be42a03"
       ],
       "layout": "IPY_MODEL_af14d6f8389a430f8c08ae04b24ae974"
      }
     },
     "f2c83adcc0e947c399ebd31839c6b2fa": {
      "model_module": "@jupyter-widgets/controls",
      "model_module_version": "1.5.0",
      "model_name": "SliderStyleModel",
      "state": {
       "description_width": ""
      }
     },
     "f2ec8ae6c60144e892cacf629d6fee28": {
      "model_module": "@jupyter-widgets/base",
      "model_module_version": "1.2.0",
      "model_name": "LayoutModel",
      "state": {}
     },
     "f322c1c6c1c44b4b8d408937882a4e7c": {
      "model_module": "@jupyter-widgets/base",
      "model_module_version": "1.2.0",
      "model_name": "LayoutModel",
      "state": {}
     },
     "f32ab56f2b6e4c828f25792c701df4a2": {
      "model_module": "@jupyter-widgets/controls",
      "model_module_version": "1.5.0",
      "model_name": "HBoxModel",
      "state": {
       "children": [
        "IPY_MODEL_3b78ddc094364ceeae427c5bb61b2834"
       ],
       "layout": "IPY_MODEL_4512f9eb66f44d369c2a4517c9082c57"
      }
     },
     "f37a28f4e946416f830e945a8e652087": {
      "model_module": "@jupyter-widgets/base",
      "model_module_version": "1.2.0",
      "model_name": "LayoutModel",
      "state": {
       "align_items": "stretch",
       "display": "flex",
       "flex_flow": "row",
       "grid_auto_columns": "True",
       "justify_content": "flex-start",
       "width": "80%"
      }
     },
     "f38469a9f04d4ef6964194a300e7b131": {
      "model_module": "@jupyter-widgets/base",
      "model_module_version": "1.2.0",
      "model_name": "LayoutModel",
      "state": {
       "height": "auto",
       "width": "auto"
      }
     },
     "f38ad05862fc4e03ab662f9c448538a0": {
      "model_module": "@jupyter-widgets/base",
      "model_module_version": "1.2.0",
      "model_name": "LayoutModel",
      "state": {
       "align_items": "stretch",
       "border": "dashed 0.2px green",
       "display": "flex",
       "flex_flow": "row",
       "grid_auto_columns": "True",
       "justify_content": "flex-start",
       "width": "100%"
      }
     },
     "f3a31854246e4d31838bba010c731981": {
      "model_module": "@jupyter-widgets/controls",
      "model_module_version": "1.5.0",
      "model_name": "HTMLModel",
      "state": {
       "layout": "IPY_MODEL_58bfdc59bbc34d27b519a6d10fa083a9",
       "style": "IPY_MODEL_6e27aa22b3704e7e8962ed145357baf9",
       "value": "<p>its a delicious foo cake</p>"
      }
     },
     "f3d85388e6fc4f7db62916424a8d43fe": {
      "model_module": "@jupyter-widgets/controls",
      "model_module_version": "1.5.0",
      "model_name": "DescriptionStyleModel",
      "state": {
       "description_width": ""
      }
     },
     "f4085bd4f2f146b7b9f5874add73ab17": {
      "model_module": "@jupyter-widgets/base",
      "model_module_version": "1.2.0",
      "model_name": "LayoutModel",
      "state": {}
     },
     "f4520d46327b4ffb990039ee8aefbd6f": {
      "model_module": "@jupyter-widgets/base",
      "model_module_version": "1.2.0",
      "model_name": "LayoutModel",
      "state": {
       "align_items": "stretch",
       "border": "dashed 0.2px green",
       "display": "flex",
       "flex_flow": "row",
       "grid_auto_columns": "True",
       "justify_content": "flex-start",
       "width": "100%"
      }
     },
     "f4d9ea2a0bd845c3919c670cb4557ef9": {
      "model_module": "@jupyter-widgets/controls",
      "model_module_version": "1.5.0",
      "model_name": "HBoxModel",
      "state": {
       "children": [
        "IPY_MODEL_51464aaf7bb345adb00a60e9cd57d8e7"
       ],
       "layout": "IPY_MODEL_05a0435e601f4b4297936e8f8ca87ff4"
      }
     },
     "f54b483dc0ab41a0a651ca4ce6629271": {
      "model_module": "@jupyter-widgets/controls",
      "model_module_version": "1.5.0",
      "model_name": "HBoxModel",
      "state": {
       "children": [
        "IPY_MODEL_73151d252ae141f8926657a63774a9d0",
        "IPY_MODEL_b4f2496c120e4053a50c7677aac078ed"
       ],
       "layout": "IPY_MODEL_8bfd394de08743748e8b91ee307c7904"
      }
     },
     "f57965730ffe490582514f725f3be619": {
      "model_module": "@jupyter-widgets/base",
      "model_module_version": "1.2.0",
      "model_name": "LayoutModel",
      "state": {}
     },
     "f5b32ca927d742b6a5f5a73dc3b93112": {
      "model_module": "@jupyter-widgets/controls",
      "model_module_version": "1.5.0",
      "model_name": "HTMLModel",
      "state": {
       "layout": "IPY_MODEL_e1bd3edfd8d3493e90f900a50ed8ed14",
       "style": "IPY_MODEL_b0ddba76f80e46f98e0c143390a0b4ac",
       "value": "<p>its a delicious foo cake</p>"
      }
     },
     "f5fa4a6eca5b4624b815736b1e087257": {
      "model_module": "@jupyter-widgets/base",
      "model_module_version": "1.2.0",
      "model_name": "LayoutModel",
      "state": {}
     },
     "f63230aa796744e98a7b6ea30b067ec4": {
      "model_module": "@jupyter-widgets/controls",
      "model_module_version": "1.5.0",
      "model_name": "HBoxModel",
      "state": {
       "children": [
        "IPY_MODEL_49329a1ece8b4ae082e478fb838249ed",
        "IPY_MODEL_5b3f32ad41c14989a124b32ff69e1e17"
       ],
       "layout": "IPY_MODEL_21976af49fe24230a983a6954f0d7ef6"
      }
     },
     "f650101fea214444ab918a79f97852c7": {
      "model_module": "@jupyter-widgets/controls",
      "model_module_version": "1.5.0",
      "model_name": "DescriptionStyleModel",
      "state": {
       "description_width": ""
      }
     },
     "f673f326a990451e972ac648fde7de02": {
      "model_module": "@jupyter-widgets/output",
      "model_module_version": "1.0.0",
      "model_name": "OutputModel",
      "state": {
       "layout": "IPY_MODEL_9f82d7fe8cf8408fb3d7bc835134cf66"
      }
     },
     "f6c1936dcee3412393b0b9eaa3b722e2": {
      "model_module": "@jupyter-widgets/base",
      "model_module_version": "1.2.0",
      "model_name": "LayoutModel",
      "state": {}
     },
     "f6e67eae4e5c4830995f5916f72a989c": {
      "model_module": "@jupyter-widgets/controls",
      "model_module_version": "1.5.0",
      "model_name": "HBoxModel",
      "state": {
       "children": [
        "IPY_MODEL_8588ae79e6be40a18953157badfcd48c",
        "IPY_MODEL_5e95e32478094a5fa884f00ba2bd09f7"
       ],
       "layout": "IPY_MODEL_936bcbe62bcf41d2a41653038ae95646"
      }
     },
     "f706ce2f21aa4b22963408729669f0eb": {
      "model_module": "@jupyter-widgets/output",
      "model_module_version": "1.0.0",
      "model_name": "OutputModel",
      "state": {
       "layout": "IPY_MODEL_dec62e801c4246bebbaa7c6a95b49f75"
      }
     },
     "f71f5686f1f041d3919554ef3c8b4054": {
      "model_module": "@jupyter-widgets/controls",
      "model_module_version": "1.5.0",
      "model_name": "DescriptionStyleModel",
      "state": {
       "description_width": ""
      }
     },
     "f73e5b6e64ec47848f09443207b73be8": {
      "model_module": "@jupyter-widgets/base",
      "model_module_version": "1.2.0",
      "model_name": "LayoutModel",
      "state": {
       "align_items": "stretch",
       "border": "dashed 0.2px green",
       "display": "flex",
       "flex_flow": "row",
       "grid_auto_columns": "True",
       "justify_content": "flex-start",
       "width": "100%"
      }
     },
     "f74c2e73185e4ee3a680508188770d3f": {
      "model_module": "@jupyter-widgets/base",
      "model_module_version": "1.2.0",
      "model_name": "LayoutModel",
      "state": {
       "align_items": "stretch",
       "border": "dashed 0.2px green",
       "display": "flex",
       "flex_flow": "row",
       "grid_auto_columns": "True",
       "justify_content": "flex-start",
       "width": "100%"
      }
     },
     "f75167d6ddbe4457b550b4f06ff4fe19": {
      "model_module": "@jupyter-widgets/controls",
      "model_module_version": "1.5.0",
      "model_name": "DescriptionStyleModel",
      "state": {
       "description_width": ""
      }
     },
     "f77683dd61b34b018cc8c6180524ddf9": {
      "model_module": "@jupyter-widgets/base",
      "model_module_version": "1.2.0",
      "model_name": "LayoutModel",
      "state": {}
     },
     "f793504101f64a70a584e07c4aa609b4": {
      "model_module": "@jupyter-widgets/base",
      "model_module_version": "1.2.0",
      "model_name": "LayoutModel",
      "state": {}
     },
     "f794215723774eb2aa5b2e9efe092718": {
      "model_module": "@jupyter-widgets/base",
      "model_module_version": "1.2.0",
      "model_name": "LayoutModel",
      "state": {}
     },
     "f79c557991d145f2a32a9adc04bd13c0": {
      "model_module": "@jupyter-widgets/controls",
      "model_module_version": "1.5.0",
      "model_name": "HTMLModel",
      "state": {
       "layout": "IPY_MODEL_fea13c2d5cc643cfab997e094aadbf71",
       "style": "IPY_MODEL_0e3c5b4744d149b3bf54c62ac0129930",
       "value": "<p>input docx filepath</p>"
      }
     },
     "f7bbe4069e6d43b38d236204b20095b8": {
      "model_module": "@jupyter-widgets/base",
      "model_module_version": "1.2.0",
      "model_name": "LayoutModel",
      "state": {}
     },
     "f8106a966713469c92df4e471ba94ab3": {
      "model_module": "@jupyter-widgets/controls",
      "model_module_version": "1.5.0",
      "model_name": "TextModel",
      "state": {
       "layout": "IPY_MODEL_717b4f896ebd47789c78bd6612c51f7a",
       "style": "IPY_MODEL_2f1ae5362c854000b4044dd554bd7629",
       "value": "2"
      }
     },
     "f83d687567c04a37802b7efc8c59b6bb": {
      "model_module": "@jupyter-widgets/controls",
      "model_module_version": "1.5.0",
      "model_name": "HBoxModel",
      "state": {
       "children": [
        "IPY_MODEL_6ef3ba572cbc4793aaed4f69c2c5e14c"
       ],
       "layout": "IPY_MODEL_33e6eecfabfd45dbb289257251933bff"
      }
     },
     "f872214c73774cb78a8a61860df9a0de": {
      "model_module": "@jupyter-widgets/controls",
      "model_module_version": "1.5.0",
      "model_name": "FloatTextModel",
      "state": {
       "layout": "IPY_MODEL_dd9024394e3e4261a5eda67b546b0628",
       "step": null,
       "style": "IPY_MODEL_71fee09de0e04451ba3a58f7b98a6543",
       "value": 10
      }
     },
     "f899b45fd010421bb5d1307c56723ce5": {
      "model_module": "@jupyter-widgets/controls",
      "model_module_version": "1.5.0",
      "model_name": "DescriptionStyleModel",
      "state": {
       "description_width": ""
      }
     },
     "f92a97c63e0f48f789d707bf667e92c9": {
      "model_module": "@jupyter-widgets/base",
      "model_module_version": "1.2.0",
      "model_name": "LayoutModel",
      "state": {
       "align_items": "stretch",
       "border": "dashed 0.2px green",
       "display": "flex",
       "flex_flow": "row",
       "grid_auto_columns": "True",
       "justify_content": "flex-start",
       "width": "100%"
      }
     },
     "f92dc3d442624cd7a7edf5c70d18aad8": {
      "model_module": "@jupyter-widgets/controls",
      "model_module_version": "1.5.0",
      "model_name": "HBoxModel",
      "state": {
       "children": [
        "IPY_MODEL_00cd9fa7dfcc42f8978b7202acb4b7d2"
       ],
       "layout": "IPY_MODEL_f4520d46327b4ffb990039ee8aefbd6f"
      }
     },
     "f92e64d5617344b18fb2417a07775a8c": {
      "model_module": "@jupyter-widgets/base",
      "model_module_version": "1.2.0",
      "model_name": "LayoutModel",
      "state": {}
     },
     "f93ddde64fcf475291ce274351a25d10": {
      "model_module": "@jupyter-widgets/base",
      "model_module_version": "1.2.0",
      "model_name": "LayoutModel",
      "state": {}
     },
     "f98323e49a8947558db80337b7c7ba4e": {
      "model_module": "@jupyter-widgets/base",
      "model_module_version": "1.2.0",
      "model_name": "LayoutModel",
      "state": {
       "align_items": "stretch",
       "display": "flex",
       "flex_flow": "row",
       "grid_auto_columns": "True",
       "justify_content": "flex-end",
       "width": "90%"
      }
     },
     "f9838530abb0484195c3de7b78b0ae97": {
      "model_module": "@jupyter-widgets/controls",
      "model_module_version": "1.5.0",
      "model_name": "HBoxModel",
      "state": {
       "children": [
        "IPY_MODEL_e1bc47a554dc4a92829ba6a7053ed8f5",
        "IPY_MODEL_67c7a42229db4e3ba98373367b16a801"
       ],
       "layout": "IPY_MODEL_b2682d50fb6245419ec520e01565dd13"
      }
     },
     "fa189ecde89e48118fd2eebbf1c60337": {
      "model_module": "@jupyter-widgets/output",
      "model_module_version": "1.0.0",
      "model_name": "OutputModel",
      "state": {
       "layout": "IPY_MODEL_756e9329c41c48e694b87199b94a822b"
      }
     },
     "fa2c6bd694f440659fda484963c32338": {
      "model_module": "@jupyter-widgets/controls",
      "model_module_version": "1.5.0",
      "model_name": "HBoxModel",
      "state": {
       "children": [
        "IPY_MODEL_3f09dcad532f45b4821f1c3d16a597ac",
        "IPY_MODEL_3ac12bd71c414bdaae32457191c1363d"
       ],
       "layout": "IPY_MODEL_37b722f9e5c742d2a46888fd173ccf4c"
      }
     },
     "fa6bc8a28fcf49bd8495e6786faebfae": {
      "model_module": "@jupyter-widgets/controls",
      "model_module_version": "1.5.0",
      "model_name": "DescriptionStyleModel",
      "state": {
       "description_width": ""
      }
     },
     "fab8aaebf91d464db3e118e8c77746e6": {
      "model_module": "@jupyter-widgets/controls",
      "model_module_version": "1.5.0",
      "model_name": "HBoxModel",
      "state": {
       "children": [
        "IPY_MODEL_266610c5e4ac45bd8c42878e4251ddd7",
        "IPY_MODEL_1dc52c86b6ca424cb2f46bfcab1f3088"
       ],
       "layout": "IPY_MODEL_3ce2755c71b8469b92468f7c81bcab00"
      }
     },
     "fad90b09c5474973b01487887cf3bd99": {
      "model_module": "@jupyter-widgets/output",
      "model_module_version": "1.0.0",
      "model_name": "OutputModel",
      "state": {
       "layout": "IPY_MODEL_83a18c8bf81f4e73879d2bdc1429f675"
      }
     },
     "fadab0d3d8d042b0af4c89e9573176ef": {
      "model_module": "@jupyter-widgets/base",
      "model_module_version": "1.2.0",
      "model_name": "LayoutModel",
      "state": {}
     },
     "fae2e11a183b4ddd93f4fcb6fdd208e4": {
      "model_module": "@jupyter-widgets/controls",
      "model_module_version": "1.5.0",
      "model_name": "HBoxModel",
      "state": {
       "children": [
        "IPY_MODEL_d21f6006409040be85bcf799d694bc83",
        "IPY_MODEL_3adac338f4f64c8c9938b59bc47af501"
       ],
       "layout": "IPY_MODEL_bc36b256278841af84057c104b831812"
      }
     },
     "fb150412ab54454384571dbe57303fbe": {
      "model_module": "@jupyter-widgets/base",
      "model_module_version": "1.2.0",
      "model_name": "LayoutModel",
      "state": {}
     },
     "fb5ec3d104354a51acf95f90fae98b40": {
      "model_module": "@jupyter-widgets/controls",
      "model_module_version": "1.5.0",
      "model_name": "ToggleButtonModel",
      "state": {
       "description": "help",
       "icon": "fa-question-circle",
       "layout": "IPY_MODEL_bf99fa14fd35407880c3bc82d11f7cbc",
       "style": "IPY_MODEL_6b5081d1d9e64f5a8d00f753b2876fcd",
       "tooltip": "gives guidance"
      }
     },
     "fb64e2575bd647b99ce95b0c8fbab53e": {
      "model_module": "@jupyter-widgets/controls",
      "model_module_version": "1.5.0",
      "model_name": "HTMLModel",
      "state": {
       "layout": "IPY_MODEL_a81bbe341e894df3a5192af352a3adc2",
       "style": "IPY_MODEL_7b89b4fa9bf64ca38bb03bf069f6a00b",
       "value": "<p>foo</p>"
      }
     },
     "fb6ba2a4c37b49878cbc767c902d0ba1": {
      "model_module": "@jupyter-widgets/controls",
      "model_module_version": "1.5.0",
      "model_name": "VBoxModel",
      "state": {
       "layout": "IPY_MODEL_057f183b15674f0ab989da739d09040f"
      }
     },
     "fbb3099b1d60435ca23e6162da4991a1": {
      "model_module": "@jupyter-widgets/controls",
      "model_module_version": "1.5.0",
      "model_name": "DescriptionStyleModel",
      "state": {
       "description_width": ""
      }
     },
     "fc030c3ceebc43198672b138c963c43b": {
      "model_module": "@jupyter-widgets/output",
      "model_module_version": "1.0.0",
      "model_name": "OutputModel",
      "state": {
       "layout": "IPY_MODEL_f322c1c6c1c44b4b8d408937882a4e7c"
      }
     },
     "fc25c03d18184cf990e077c67921552e": {
      "model_module": "@jupyter-widgets/controls",
      "model_module_version": "1.5.0",
      "model_name": "HBoxModel",
      "state": {
       "children": [
        "IPY_MODEL_47ddc442041344529f27d807976eb9fa",
        "IPY_MODEL_5db745661a86411f8ab0f354827990c9"
       ],
       "layout": "IPY_MODEL_36480821ae3a4023a99885e25c1e44bd"
      }
     },
     "fc5eff2106d142fb862a2799ab8f4c3d": {
      "model_module": "@jupyter-widgets/controls",
      "model_module_version": "1.5.0",
      "model_name": "HTMLModel",
      "state": {
       "layout": "IPY_MODEL_e7a7a63f970a423887114909455aa509",
       "style": "IPY_MODEL_9a6f39611d2a4a8db56c5584b8a60480",
       "value": "<p>reus foo ous oo ous foo st</p>"
      }
     },
     "fc7f4ca0b2654a599b1bb80d1dcbd026": {
      "model_module": "@jupyter-widgets/base",
      "model_module_version": "1.2.0",
      "model_name": "LayoutModel",
      "state": {}
     },
     "fc9376c43d104f2e8e33efcbfa196746": {
      "model_module": "@jupyter-widgets/base",
      "model_module_version": "1.2.0",
      "model_name": "LayoutModel",
      "state": {}
     },
     "fcb00f55ed604af1abaed3b7b2df4f71": {
      "model_module": "@jupyter-widgets/controls",
      "model_module_version": "1.5.0",
      "model_name": "HBoxModel",
      "state": {
       "children": [
        "IPY_MODEL_159f995f6ace4f7a832f612f5bd7374c",
        "IPY_MODEL_8d8ae5e404b24f96a6dd9b7a3f0807dc"
       ],
       "layout": "IPY_MODEL_e1ead4d2697943c3947213e3f9819a99"
      }
     },
     "fd0d0053c8634e0c8434542032c33615": {
      "model_module": "@jupyter-widgets/controls",
      "model_module_version": "1.5.0",
      "model_name": "ButtonModel",
      "state": {
       "button_style": "success",
       "description": "save changes",
       "layout": "IPY_MODEL_b4b562bba0c74184befe21aed4357553",
       "style": "IPY_MODEL_181c6c30305a430b8efd26be7b95a431"
      }
     },
     "fd11dcb40bd343d2b323ec7d3b7ef91c": {
      "model_module": "@jupyter-widgets/base",
      "model_module_version": "1.2.0",
      "model_name": "LayoutModel",
      "state": {}
     },
     "fdc2b6fc9d92442c8971d9d0a3cae940": {
      "model_module": "@jupyter-widgets/controls",
      "model_module_version": "1.5.0",
      "model_name": "DescriptionStyleModel",
      "state": {
       "description_width": ""
      }
     },
     "fde10c70d3244b6a83d33d8f5d8613ce": {
      "model_module": "@jupyter-widgets/controls",
      "model_module_version": "1.5.0",
      "model_name": "HTMLModel",
      "state": {
       "layout": "IPY_MODEL_6f6da877b71b422192057268357568e0",
       "style": "IPY_MODEL_0b11b1511be640fc954cf3bcc84dfe86",
       "value": "<p>fus foo ous o</p>"
      }
     },
     "fe16ea38419e405b9cfbe20b954c9f53": {
      "model_module": "@jupyter-widgets/controls",
      "model_module_version": "1.5.0",
      "model_name": "DescriptionStyleModel",
      "state": {
       "description_width": ""
      }
     },
     "fe5d877b60b143798685bbdc3397fbea": {
      "model_module": "@jupyter-widgets/base",
      "model_module_version": "1.2.0",
      "model_name": "LayoutModel",
      "state": {}
     },
     "fea13c2d5cc643cfab997e094aadbf71": {
      "model_module": "@jupyter-widgets/base",
      "model_module_version": "1.2.0",
      "model_name": "LayoutModel",
      "state": {}
     },
     "feb1580d0c9e4021b035db470f490be2": {
      "model_module": "@jupyter-widgets/base",
      "model_module_version": "1.2.0",
      "model_name": "LayoutModel",
      "state": {
       "align_items": "stretch",
       "display": "flex",
       "flex_flow": "row",
       "grid_auto_columns": "True",
       "justify_content": "flex-end",
       "width": "90%"
      }
     },
     "fef31240427d44ae98fa10b2fc1a89bc": {
      "model_module": "@jupyter-widgets/base",
      "model_module_version": "1.2.0",
      "model_name": "LayoutModel",
      "state": {}
     },
     "ff4d69aaa0d240c3918495d2bc0d58d6": {
      "model_module": "@jupyter-widgets/controls",
      "model_module_version": "1.5.0",
      "model_name": "HBoxModel",
      "state": {
       "children": [
        "IPY_MODEL_9325be59a21a4eb1a484f0d47bdf1822",
        "IPY_MODEL_f3a31854246e4d31838bba010c731981"
       ],
       "layout": "IPY_MODEL_8ff5219f75b74da2ac16c1439d51fec7"
      }
     },
     "ffbc1c2c8b9e4ad7b6f0e198bb4bfd87": {
      "model_module": "@jupyter-widgets/controls",
      "model_module_version": "1.5.0",
      "model_name": "DescriptionStyleModel",
      "state": {
       "description_width": ""
      }
     },
     "ffc5c7bffc9f4d43a0e353039df89fc4": {
      "model_module": "@jupyter-widgets/controls",
      "model_module_version": "1.5.0",
      "model_name": "DescriptionStyleModel",
      "state": {
       "description_width": ""
      }
     }
    },
    "version_major": 2,
    "version_minor": 0
   }
  }
 },
 "nbformat": 4,
 "nbformat_minor": 4
}
