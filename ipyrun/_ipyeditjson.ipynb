{
 "cells": [
  {
   "cell_type": "code",
   "execution_count": 14,
   "metadata": {},
   "outputs": [],
   "source": [
    "import os\n",
    "import pandas as pd\n",
    "from IPython.display import display, Image, JSON, Markdown, HTML, display_pdf, clear_output\n",
    "from markdown import markdown\n",
    "from datetime import datetime\n",
    "\n",
    "# widget stuff\n",
    "import ipywidgets as widgets\n",
    "import ipysheet\n",
    "from ipysheet import from_dataframe, to_dataframe\n",
    "\n",
    "# core mf_modules\n",
    "from mf_modules.pydtype_operations import read_json, write_json \n",
    "from mf_modules.file_operations import make_dir\n",
    "\n",
    "\n",
    "# from this repo\n",
    "# this is an unpleasant hack. should aim to find a better solution\n",
    "try:\n",
    "    from ipyrun._filecontroller import FileConfigController\n",
    "    from ipyrun._runconfig import RunConfig\n",
    "    from ipyrun._ipydisplayfile import DisplayFile, DisplayFiles\n",
    "except:\n",
    "    from _filecontroller import FileConfigController\n",
    "    from _runconfig import RunConfig\n",
    "    from _ipydisplayfile import DisplayFile, DisplayFiles"
   ]
  },
  {
   "cell_type": "code",
   "execution_count": 15,
   "metadata": {},
   "outputs": [],
   "source": [
    "def _markdown(value='_Markdown_',\n",
    "              **kwargs):\n",
    "    \"\"\"\n",
    "    a simple template for markdown text input that templates required input\n",
    "    fields. additional user defined fields can be added as kwargs\n",
    "    \"\"\"\n",
    "    _kwargs = {}\n",
    "    _kwargs['value'] = markdown(value)  # required field\n",
    "    _kwargs.update(kwargs)  # user overides\n",
    "    return widgets.HTML(**_kwargs)\n",
    "\n",
    "class EditDictData():\n",
    "    \"\"\"\n",
    "    contains form layout specs and mapping dict used for associating input\n",
    "    variables to the appropriate widget. \n",
    "    \"\"\"\n",
    "           \n",
    "    @property\n",
    "    def MF_FORM_ITEM_LAYOUT(self):\n",
    "        return widgets.Layout(\n",
    "            display='flex',\n",
    "            flex_flow='row',\n",
    "            justify_content='flex-start',\n",
    "            #border='solid 1px green',\n",
    "            grid_auto_columns='True',\n",
    "            width='80%',\n",
    "            align_items='stretch',  \n",
    "        )\n",
    "    \n",
    "    @property\n",
    "    def MF_FORM_ITEM_LAYOUT1(self):\n",
    "        return widgets.Layout(\n",
    "            display='flex',\n",
    "            flex_flow='row',\n",
    "            justify_content='flex-end',\n",
    "            #border='solid 1px green',\n",
    "            grid_auto_columns='True',\n",
    "            width='90%',\n",
    "            align_items='stretch',  \n",
    "        )\n",
    "    \n",
    "    @property\n",
    "    def MF_FORM_ITEM_LAYOUT2(self):\n",
    "        return widgets.Layout(\n",
    "            display='flex',\n",
    "            flex_flow='row',\n",
    "            justify_content='flex-start',\n",
    "            border='dashed 0.2px green',\n",
    "            grid_auto_columns='True',\n",
    "            width='100%',\n",
    "            align_items='stretch',  \n",
    "        )\n",
    "    \n",
    "    @property\n",
    "    def map_keys(self):\n",
    "        return ['value', 'options', 'min', 'max']\n",
    "    \n",
    "    @property\n",
    "    def map_widgets(self):\n",
    "        # mapping dict used to guess what widget to apply\n",
    "        return {\n",
    "            'FloatText': {\n",
    "                'value_type': \"<class 'float'>\",\n",
    "                'options_type': \"<class 'NoneType'>\",\n",
    "                'min_type': \"<class 'NoneType'>\",\n",
    "                'max_type': \"<class 'NoneType'>\"\n",
    "            },\n",
    "           'FloatSlider': {\n",
    "                'value_type': \"<class 'float'>\",\n",
    "                'options_type': \"<class 'NoneType'>\",\n",
    "                'min_type': \"<class 'float'>\",\n",
    "                'max_type': \"<class 'float'>\"\n",
    "           },\n",
    "           'Dropdown': {\n",
    "                'value_type': 'any',\n",
    "                'options_type': \"<class 'list'>\",\n",
    "                'min_type': \"<class 'NoneType'>\",\n",
    "                'max_type': \"<class 'NoneType'>\"\n",
    "           },\n",
    "           'SelectMultiple': {\n",
    "                'value_type': \"<class 'list'>\",\n",
    "                'options_type': \"<class 'list'>\",\n",
    "                'min_type': \"<class 'NoneType'>\",\n",
    "                'max_type': \"<class 'NoneType'>\"\n",
    "           },\n",
    "           'Checkbox': {\n",
    "                'value_type': \"<class 'bool'>\",\n",
    "                'options_type': \"<class 'NoneType'>\",\n",
    "                'min_type': \"<class 'NoneType'>\",\n",
    "                'max_type': \"<class 'NoneType'>\"\n",
    "           },\n",
    "           'Text': {\n",
    "                'value_type': \"<class 'str'>\",\n",
    "                'options_type': \"<class 'NoneType'>\",\n",
    "                'min_type': \"<class 'NoneType'>\",\n",
    "                'max_type': \"<class 'NoneType'>\"\n",
    "           },\n",
    "           '_recursive_guess': {\n",
    "                'value_type': \"<class 'list'>\",\n",
    "                'options_type': \"<class 'NoneType'>\",\n",
    "                'min_type': \"<class 'NoneType'>\",\n",
    "                'max_type': \"<class 'NoneType'>\"\n",
    "           }\n",
    "        }\n",
    "    \n",
    "    @property\n",
    "    def widget_lkup(self):\n",
    "        return {\n",
    "                'FloatText':widgets.FloatText,\n",
    "                'FloatSlider':widgets.FloatSlider,\n",
    "                'Dropdown':widgets.Dropdown,\n",
    "                'DerivedText':widgets.HTML,\n",
    "                'DatePicker':widgets.DatePicker,\n",
    "                'SelectMultiple':widgets.SelectMultiple,\n",
    "                'Checkbox':widgets.Checkbox,\n",
    "                'Text':widgets.Text,\n",
    "                'Textarea':widgets.Textarea,\n",
    "                '_recursive_guess':self._recursive_guess,\n",
    "                'ipysheet':self._ipysheet\n",
    "            }\n",
    "\n",
    "    \n",
    "class EditDict(EditDictData):\n",
    "    '''\n",
    "    a class that is passed a dict and then guesses the most appropriate \n",
    "    widget from the values in the dict.\n",
    "    - if a nested list of dicts is passed:\n",
    "        => it will create an embedded, clickable show/hide nested input form\n",
    "    - if a json dataframe object is passed as the \"value\" and and the key:value\n",
    "      \"widget\":\"ipysheet\" is passed in the same dict:\n",
    "        => it will create an editable ipysheet dataframe widget\n",
    "    '''\n",
    "    def __init__(self, di):\n",
    "        self.out = widgets.Output()\n",
    "        self.di = di\n",
    "        self.form()\n",
    " \n",
    "    def form(self):\n",
    "        self.di = self._update_di()\n",
    "        if 'widget' not in self.di.keys():\n",
    "            self.di_types = self._get_var_types()\n",
    "            self.widget_name, self.report = self.map_widget()           \n",
    "        else:\n",
    "            self.widget_name = self.di['widget']\n",
    "        self.kwargs = self._kwargfilt()\n",
    "        self.layout = self._build_widget()\n",
    "        if self.widget_name != 'ipysheet' and self.widget_name != '_recursive_guess':\n",
    "            self._init_controls()\n",
    "          \n",
    "    def _init_controls(self):   \n",
    "        self.widget_only.observe(self._update_change, 'value') \n",
    "\n",
    "    def _update_change(self, change):\n",
    "        value = None\n",
    "        if(self.widget_name == \"DatePicker\"):\n",
    "            value = self.widget_only.value.strftime('%d/%m/%Y')\n",
    "        else:\n",
    "            value = self.widget_only.value\n",
    "\n",
    "        self.di['value'] = value\n",
    "\n",
    "    def _build_widget(self):\n",
    "        \n",
    "        if self.widget_name == '_recursive_guess':\n",
    "            self._recursive_guess()\n",
    "        elif self.widget_name == 'ipysheet':\n",
    "            self._ipysheet()\n",
    "        elif self.widget_name == \"DatePicker\":\n",
    "            value = datetime.strptime(self.kwargs['value'], '%d/%m/%Y')\n",
    "            self.widget_only = self.widget_lkup[self.widget_name](value=value)\n",
    "        elif self.widget_name == \"DerivedText\":   \n",
    "            self.widget_only = self.widget_lkup[self.widget_name](**self.kwargs)\n",
    "            self.widget_only.layout=widgets.Layout(border='solid 1px #BBBBBB', padding='0px 10px 0px 10px')\n",
    "        else:\n",
    "            self.widget_only = self.widget_lkup[self.widget_name](**self.kwargs)\n",
    "        self.widget_simple = widgets.HBox([self.widget_only,_markdown(self.di['label'])],layout=self.MF_FORM_ITEM_LAYOUT)\n",
    "        self.widget_row = widgets.HBox([_markdown(self.di['name']),self.widget_simple],layout=self.MF_FORM_ITEM_LAYOUT1)\n",
    "        if 'fpth_help' in self.di.keys():\n",
    "            self.guide = widgets.ToggleButton(icon='fa-question-circle',\n",
    "                                              description='help',\n",
    "                                              tooltip='gives guidance',\n",
    "                                              style={'font_weight':'bold'},\n",
    "                                              layout=widgets.Layout(width='5%'))\n",
    "            self.guide.observe(self._guide, 'value')\n",
    "            layout = widgets.HBox([self.widget_row ,self.guide],layout=self.MF_FORM_ITEM_LAYOUT2)\n",
    "        else:\n",
    "            layout = widgets.HBox([self.widget_row ],layout=self.MF_FORM_ITEM_LAYOUT2)\n",
    "        return layout\n",
    "    \n",
    "    def _guide(self, sender):\n",
    "        with self.out:\n",
    "            if self.guide.value:  \n",
    "                if self.di['fpth_help']==list:\n",
    "                    d = DisplayFiles(self.di['fpth_help'])\n",
    "                    #display(Image(os.path.join(os.environ['mf_root'],r'engDevSetup\\dev\\icons\\icon_png\\help-icon.png')));\n",
    "                    display(d)\n",
    "                else:\n",
    "                    d = DisplayFile(self.di['fpth_help'])\n",
    "                    display(d.preview_fpth())\n",
    "            else:\n",
    "                clear_output()\n",
    "                \n",
    "    def _kwargfilt(self):\n",
    "        return {k:v for (k,v) in self.di.items() if k != 'widget' and k != 'name' and k != 'label' and k != 'fpth_help' and v is not None}\n",
    "        \n",
    "    def _update_di(self):\n",
    "\n",
    "        def add_to_dict(di, keyname='None', valuename=None):\n",
    "            if keyname not in di.keys():\n",
    "                di[keyname]=valuename\n",
    "            return di\n",
    "        tmp = self.di\n",
    "        tmp = add_to_dict(tmp,keyname='min')\n",
    "        tmp = add_to_dict(tmp,keyname='max')\n",
    "        tmp = add_to_dict(tmp,keyname='options')\n",
    "        tmp = add_to_dict(tmp,keyname='name', valuename='name')\n",
    "        tmp = add_to_dict(tmp,keyname='label', valuename='label')\n",
    "        return tmp\n",
    "        \n",
    "    def _get_var_types(self):\n",
    "\n",
    "        def int_type_to_float(di):\n",
    "            di_ = {}\n",
    "            for key, val in di.items():\n",
    "                if val == \"<class 'int'>\":\n",
    "                    di_[key] = \"<class 'float'>\"\n",
    "                else:\n",
    "                    di_[key] = val\n",
    "            return di_\n",
    "        di = self.di\n",
    "        keys = self.map_keys\n",
    "        di_filt = { key: di[key] for key in keys }\n",
    "        di_types = {key+'_type': str(type(di_filt[key])) for key in keys}\n",
    "        di_types= int_type_to_float(di_types)\n",
    "        return di_types\n",
    "    \n",
    "    def map_widget(self):\n",
    "        \"\"\"\n",
    "        uses the types of the different inputs to map an input \n",
    "        to the appropriate widget\n",
    "\n",
    "        Reference:\n",
    "            |                 | value_type      | options_type       | min_type           | max_type           |\n",
    "            |:----------------|:----------------|:-------------------|:-------------------|:-------------------|\n",
    "            | FloatText       | <class 'float'> | <class 'NoneType'> | <class 'NoneType'> | <class 'NoneType'> |\n",
    "            | FloatSlider     | <class 'float'> | <class 'NoneType'> | <class 'float'>    | <class 'float'>    |\n",
    "            | Dropdown        | <class 'float'> | <class 'list'>     | <class 'NoneType'> | <class 'NoneType'> |\n",
    "            | SelectMultiple  | <class 'list'>  | <class 'list'>     | <class 'NoneType'> | <class 'NoneType'> |\n",
    "            | Checkbox        | <class 'bool'>  | <class 'NoneType'> | <class 'NoneType'> | <class 'NoneType'> |\n",
    "            | Text            | <class 'str'>   | <class 'NoneType'> | <class 'NoneType'> | <class 'NoneType'> |\n",
    "            | _recursive_guess| <class 'list'>  | <class 'NoneType'> | <class 'NoneType'> | <class 'NoneType'> |\n",
    "        \"\"\"\n",
    "        di_types = self.di_types\n",
    "        map_widgets = self.map_widgets\n",
    "        m = 0\n",
    "        for k, v in map_widgets.items():\n",
    "            # this settles ambiguity for value type from Dropdown (which could be anything)\n",
    "            #if k == widgets.Dropdown and di_types['value_type'] != \"<class 'list'>\":\n",
    "            if k == 'Dropdown' and di_types['value_type'] != \"<class 'list'>\":\n",
    "                v['value_type'] = di_types['value_type']\n",
    "            if v == di_types:\n",
    "                m=+1\n",
    "                widget_name = k\n",
    "        if m < 1:\n",
    "            report = 'no matching widget found... check inputs...'\n",
    "            print(di_types)\n",
    "            print(report)\n",
    "            widget_name = 'Text'\n",
    "        elif m == 1:\n",
    "            report = 'perfect match!'\n",
    "        else:\n",
    "            report = 'multiple matches found... check code...'\n",
    "            print(di_types)\n",
    "            print(report)\n",
    "        return widget_name, report\n",
    "    \n",
    "    # -------------------------------------------------------------------------     \n",
    "    # code that allows for embedded list of dicts -----------------------------\n",
    "    def _recursive_guess(self):\n",
    "        self.kwargs = {k:v for (k,v) in self.kwargs.items() if k != 'value'}\n",
    "        self.kwargs['icon'] = 'arrow-down'\n",
    "        self.widget_only = widgets.ToggleButton(**self.kwargs)\n",
    "        self._recursive_controls()\n",
    "        \n",
    "    def _recursive_controls(self):\n",
    "        self.widget_only.observe(self._call_GuessWidget, 'value')\n",
    "\n",
    "    def _call_GuessWidget(self, sender):\n",
    "        self.nested_g = EditListOfDicts(self.di['value'])\n",
    "        self.di['value'] = self.nested_g.li\n",
    "        with self.out:\n",
    "            if self.widget_only.value:  \n",
    "                display(self.nested_g)\n",
    "            else:\n",
    "                clear_output()\n",
    "    # --------------------------------------------------------------------------\n",
    "    # code that allows for embedded ipysheets ----------------------------------\n",
    "    def _ipysheet(self):\n",
    "        self.kwargs = {k:v for (k,v) in self.kwargs.items() if k != 'value'}\n",
    "        self.kwargs['icon'] = 'arrow-down'\n",
    "        self.widget_only = widgets.ToggleButton(**self.kwargs)\n",
    "        self.save_ipysheet = widgets.Button(description='save')\n",
    "        self._ipysheet_controls()\n",
    "        \n",
    "    def _ipysheet_controls(self):\n",
    "        self.widget_only.observe(self.call_ipysheet, 'value')\n",
    "        self.save_ipysheet.on_click(self._save_ipysheet)\n",
    "        \n",
    "    def call_ipysheet(self, sender):\n",
    "        tmp = pd.read_json(self.di['value'])\n",
    "        self.sheet = ipysheet.sheet(ipysheet.from_dataframe(tmp)) # initiate sheet\n",
    "        with self.out:\n",
    "            if self.widget_only.value:  \n",
    "                display(self.save_ipysheet)\n",
    "                display(self.sheet)\n",
    "            else:\n",
    "                clear_output()\n",
    "    \n",
    "    def _save_ipysheet(self, change):\n",
    "        tmp = to_dataframe(self.sheet)\n",
    "        self.di['value'] = tmp.to_json()\n",
    "        with self.out:\n",
    "            clear_output()\n",
    "            dateTimeObj = datetime.now()\n",
    "            timestampStr = dateTimeObj.strftime(\"%d-%b-%Y %H:%M:%S:\")\n",
    "            display(Markdown('{0} changes to sheet saved. hit save in main dialog to save to file'.format(timestampStr)))\n",
    "        self.display()\n",
    "    # --------------------------------------------------------------------------\n",
    "\n",
    "    def display(self):\n",
    "        display(self.layout)\n",
    "        display(self.out)\n",
    "         \n",
    "    def _ipython_display_(self):\n",
    "        self.display()    "
   ]
  },
  {
   "cell_type": "code",
   "execution_count": 16,
   "metadata": {},
   "outputs": [],
   "source": [
    "class EditListOfDicts():\n",
    "    \"\"\"\n",
    "    builds user input form from a list of dicts by creating a \n",
    "    loop of EditDict objects.\n",
    "    \"\"\"\n",
    "    def __init__(self, li):\n",
    "        \"\"\"\n",
    "        class that builds a user interface based on a list of dicts, where each dict is \n",
    "        a ipywidget user interface object. The class inteprets which widget to select based on the \n",
    "        type of the value and the keys that are passed. The keys are passed to the ipywidget \n",
    "        object as **kwargs.\n",
    "\n",
    "        Args:\n",
    "            li (list): list of dicts. each dict must contain 'name', 'value' and 'label' as the \n",
    "                minimum set of keys for making a ipywidget. additional keys that are passed \n",
    "                get become **kwargs that are passed to the selected ipywidget\n",
    "                \n",
    "        Example:\n",
    "            ```\n",
    "            li = [\n",
    "                    {\n",
    "                        'name':'water_volume_m3',\n",
    "                        'value':15,\n",
    "                        'label':'total volume of water within the closed mechanical system'\n",
    "                    },\n",
    "                    {\n",
    "                        'name':'height_difference_m',\n",
    "                        'value':48,\n",
    "                        'label':'difference in height between the highest and lowest points in the system'\n",
    "                    },\n",
    "                    {\n",
    "                        'name':'eV_acceptance_fraction',\n",
    "                        'value':0.3,\n",
    "                        'min':0,\n",
    "                        'max':1,\n",
    "                        'label':'Expansion vessel acceptance factor (= additional volume / expansion vessel volume):'\n",
    "                    }\n",
    "                ]\n",
    "            ```\n",
    "            \n",
    "            >>> from ipyrun._ipyeditjson import EditListOfDicts\n",
    "            >>> ui = EditListOfDicts(li)\n",
    "            >>> ui\n",
    "            see example image above\n",
    "        Images:\n",
    "            %mf_root%\\ipyrun\\docs\\images\\eg_ui.PNG\n",
    "        \"\"\"\n",
    "        self.out = widgets.Output()\n",
    "        self.li = li\n",
    "        self.form()\n",
    "        self._init_observe()\n",
    "    \n",
    "    def form(self):\n",
    "        self.widgets = []\n",
    "        for l in self.li:\n",
    "            self.widgets.append(EditDict(l))\n",
    "        self._layout()\n",
    "    \n",
    "    def _layout(self):\n",
    "        self.applayout = widgets.VBox([l.layout for l in self.widgets])\n",
    "        \n",
    "    def _init_observe(self): \n",
    "        for l in self.widgets:\n",
    "            l.widget_only.observe(self._update_change, \"value\") \n",
    "    \n",
    "    def _update_change(self, change):\n",
    "        self.li = []\n",
    "        for l in self.widgets:\n",
    "            self.li.append(l.di)\n",
    "        \n",
    "    def _lidi_display(self):\n",
    "        out = [l.layout for l in self.widgets]\n",
    "        self.applayout = widgets.VBox(out)\n",
    "        display(self.applayout)\n",
    "        for l in self.widgets:\n",
    "            display(l.out)\n",
    "            \n",
    "    def _ipython_display_(self):\n",
    "        self._lidi_display()  \n",
    "\n",
    "class EditListOfDictsModelRun(EditListOfDicts):\n",
    "    \"\"\"\n",
    "    Modified version of EditJson, for Model Run spreadsheet\n",
    "    Functionality for DerivedText has been added\n",
    "    \"\"\"\n",
    "    \n",
    "    def __init__(self, li):\n",
    "        super().__init__(li)\n",
    "\n",
    "    def _update_label(self, index, l):\n",
    "        labelVal = \"\"\n",
    "        firstVal = True\n",
    "        for opt in l.di['options']:\n",
    "            try:\n",
    "                \n",
    "                if(index+opt < 0):\n",
    "                    raise Exception(\"Can only get values of positive indices\")\n",
    "\n",
    "                value = self.widgets[index+opt].di[\"value\"]\n",
    "\n",
    "                if(value == \"\"):\n",
    "                    value = \"XX\"\n",
    "                \n",
    "                if(isinstance(value, float)):\n",
    "                    if(value.is_integer()):\n",
    "                        value = str(int(value)).zfill(3)\n",
    "\n",
    "                if not firstVal:\n",
    "                    labelVal += \"_\"\n",
    "\n",
    "                labelVal += str(value)\n",
    "\n",
    "                firstVal = False\n",
    "            except Exception as e:\n",
    "                pass\n",
    "        return \"{0}\".format(labelVal)\n",
    "    \n",
    "    def _update_change(self, change):\n",
    "        self.li = []\n",
    "        for index, l in enumerate(self.widgets):\n",
    "            self.li.append(l.di)\n",
    "            if(l.widget_name==\"DerivedText\"):\n",
    "                l.widget_only.value = self._update_label(index, l)\n",
    "            \n",
    "    \n",
    "    def _layout(self):\n",
    "        self._update_change(\"value\")\n",
    "        super()._layout()"
   ]
  },
  {
   "cell_type": "code",
   "execution_count": 17,
   "metadata": {},
   "outputs": [],
   "source": [
    "class SimpleEditJson(EditListOfDicts):\n",
    "    \"\"\"\n",
    "    inherits EditListOfDicts user input form and manages the reading and \n",
    "    writing the data from a JSON file. \n",
    "    \"\"\"\n",
    "    #def __init__(self, fpth, fdir='.', local_fol='_mfengdev'):\n",
    "    def __init__(self, fpth_in, fpth_out=None):\n",
    "        self.out = widgets.Output()\n",
    "        self.fpth_in = fpth_in\n",
    "        if fpth_out==None:\n",
    "            self.fpth_out = fpth_in\n",
    "        else:\n",
    "            self.fpth_out = fpth_out\n",
    "        #self.fdir = fdir\n",
    "        #self.local_fol = local_fol\n",
    "        #self.fpth_out = self._fpth_out()\n",
    "        self.li = read_json(self.fpth_in)\n",
    "        self.save_changes = widgets.Button(description='save',button_style='success')\n",
    "        self.form()\n",
    "        self._init_observe()\n",
    "        self._init_controls()\n",
    "        \n",
    "    #def _fpth_out(self):\n",
    "    #    fol = os.path.join(self.fdir, self.local_fol)\n",
    "    #    make_dir(fol)\n",
    "    #    return os.path.join(fol,os.path.basename(self.fpth_in))\n",
    "    \n",
    "    def _init_controls(self):  \n",
    "        self.save_changes.on_click(self._save_changes)\n",
    "        \n",
    "    def _save_changes(self, sender):\n",
    "        self.data_out = self.li\n",
    "        #try:\n",
    "            \n",
    "        write_json(self.data_out,\n",
    "                   sort_keys=True,\n",
    "                   indent=4,\n",
    "                   fpth=self.fpth_out,\n",
    "                   print_fpth=False,\n",
    "                   openFile=False)\n",
    "        with self.out:\n",
    "            clear_output()\n",
    "            dateTimeObj = datetime.now()\n",
    "            timestampStr = dateTimeObj.strftime(\"%d-%b-%Y %H:%M:%S:\")\n",
    "            display(Markdown('{0} changes to sheet logged.  to: {1}'.format(timestampStr,self.fpth_out)))\n",
    "            \n",
    "    def display(self):\n",
    "        display(self.save_changes)\n",
    "        out = [l.layout for l in self.widgets]\n",
    "        self.applayout = widgets.VBox(out)\n",
    "        display(self.applayout)\n",
    "        for l in self.widgets:\n",
    "            display(l.out)\n",
    "        display(self.out)\n",
    "            \n",
    "    def _ipython_display_(self):\n",
    "        self.display()  "
   ]
  },
  {
   "cell_type": "code",
   "execution_count": 18,
   "metadata": {},
   "outputs": [],
   "source": [
    "class EditJson(EditListOfDicts, FileConfigController):\n",
    "    \"\"\"\n",
    "    inherits EditListOfDicts user input form as well FileConfigController \n",
    "    and manages the reading and writing the data from a JSON file. \n",
    "    \"\"\"\n",
    "    #def __init__(self, fpth, fdir='.', local_fol='_mfengdev'):\n",
    "    def __init__(self, config):\n",
    "        self.out = widgets.Output()\n",
    "        self._errors()\n",
    "        self.config = config\n",
    "        self.user_keys = list(config.keys())\n",
    "        self._update_config()\n",
    "        self.file_control_form()\n",
    "        self.li = read_json(self.fpth_inputs)\n",
    "        self._init_file_controller()\n",
    "        self.__build_widgets()\n",
    "        \n",
    "    def __build_widgets(self):\n",
    "        self.form()\n",
    "        self._init_observe()\n",
    "        \n",
    "    def _revert(self, sender):\n",
    "        \"\"\"revert to last save of working inputs file\"\"\"\n",
    "        fpth = self.fpth_inputs\n",
    "        self.temp_message.value = markdown('revert to inputs in last save of: {0}'.format(fpth))\n",
    "        \n",
    "        # ADD CODE HERE TO REVERT TO LAST SAVE\n",
    "        \n",
    "        self.li = read_json(self.fpth_inputs)\n",
    "        self._update_from_file()\n",
    "        self.update_display()\n",
    "        self.display()\n",
    "\n",
    "        \n",
    "    def _update_from_file(self):\n",
    "        for idx, val in enumerate(self.li):\n",
    "            self.widgets[idx].widget_only.value = val['value']\n",
    "            \n",
    "    def _save_changes(self, sender):\n",
    "        \"\"\"save changes to working inputs file\"\"\"\n",
    "        fpth = self.fpth_inputs\n",
    "        dateTimeObj = datetime.now()\n",
    "        self.save_timestampStr = dateTimeObj.strftime(\"%d-%b-%Y %H:%M:%S\")\n",
    "        self.temp_message.value = markdown('{0} saved at: {1}'.format(fpth, self.save_timestampStr))\n",
    "        \n",
    "        self.data_out = self.li \n",
    "        # add code here to save changes to file\n",
    "        write_json(self.data_out,\n",
    "                   sort_keys=True,\n",
    "                   indent=4,\n",
    "                   fpth=fpth,\n",
    "                   print_fpth=False,\n",
    "                   openFile=False)\n",
    "        \n",
    "        self.update_display()\n",
    "        self.display()\n",
    "        \n",
    "    def _load_inputs(self,sender):\n",
    "        \"\"\"launches the inputs from file dialog\"\"\"\n",
    "        self.temp_message.value = markdown('update the user input form with data from file')\n",
    "        if self.load_inputs.value:\n",
    "            self.inputform.children = [self.load_button, self.choose_inputs]\n",
    "        else:\n",
    "            self.temp_message.value = markdown('')\n",
    "            self.inputform.children = []\n",
    "        self.update_display()\n",
    "        self.display()\n",
    "\n",
    "    def _load(self,sender):\n",
    "\n",
    "        fpth = self.choose_inputs.value\n",
    "        # add code here to load form from file\n",
    "        self.li = read_json(fpth)\n",
    "        self._update_from_file()\n",
    "        self.temp_message.value = markdown('input form load data from: {0}'.format(fpth))\n",
    "        self.update_display()\n",
    "        self.display()\n",
    "        \n",
    "    def update_display(self):\n",
    "        #self._lidi_display()\n",
    "        box = widgets.VBox([\n",
    "            self.button_bar,\n",
    "            self.temp_message,\n",
    "            self.inputform,\n",
    "        ])\n",
    "        self.layout = box\n",
    "        for l in self.widgets:\n",
    "            with self.out:\n",
    "                display(l.out)\n",
    "            \n",
    "    def display(self):\n",
    "        self.update_display()\n",
    "        display(self.layout)\n",
    "        #out = [l.layout for l in self.widgets]\n",
    "        #self.applayout = widgets.VBox(out)\n",
    "        display(self.applayout)\n",
    "        #for l in self.widgets:\n",
    "        #    display(l.out)\n",
    "        display(self.out)\n",
    "            \n",
    "    def _ipython_display_(self):\n",
    "        self.display()  \n",
    "        #self._lidi_display()  \n",
    "\n",
    "class EditJsonModelRun(EditListOfDictsModelRun, EditJson):\n",
    "    \"\"\"\n",
    "    Modified version of EditJson, for Model Run spreadsheet\n",
    "    Functionality for DerivedText has been added\n",
    "    \"\"\"\n",
    "    \n",
    "    def __init__(self, config):\n",
    "        EditJson.__init__(self, config)\n",
    "        \n",
    "    def __build_widgets(self):\n",
    "        EditListOfDictsModelRun.form()\n",
    "        EditListOfDictsModelRun._init_observe()"
   ]
  },
  {
   "cell_type": "code",
   "execution_count": 20,
   "metadata": {},
   "outputs": [
    {
     "data": {
      "text/markdown": [
       "### Example0"
      ],
      "text/plain": [
       "<IPython.core.display.Markdown object>"
      ]
     },
     "metadata": {},
     "output_type": "display_data"
    },
    {
     "data": {
      "text/markdown": [
       "Edit list of dicts"
      ],
      "text/plain": [
       "<IPython.core.display.Markdown object>"
      ]
     },
     "metadata": {},
     "output_type": "display_data"
    },
    {
     "data": {
      "application/vnd.jupyter.widget-view+json": {
       "model_id": "db322b67c8cd4466b0e146b6437d16f2",
       "version_major": 2,
       "version_minor": 0
      },
      "text/plain": [
       "VBox(children=(HBox(children=(HBox(children=(HTML(value='<p>reous foo ous foo st</p>'), HBox(children=(FloatTe…"
      ]
     },
     "metadata": {},
     "output_type": "display_data"
    },
    {
     "data": {
      "application/vnd.jupyter.widget-view+json": {
       "model_id": "5f87e8c318844b8495f65c1fc4a418be",
       "version_major": 2,
       "version_minor": 0
      },
      "text/plain": [
       "Output()"
      ]
     },
     "metadata": {},
     "output_type": "display_data"
    },
    {
     "data": {
      "application/vnd.jupyter.widget-view+json": {
       "model_id": "00b9ab1d5da5419a9bbe98d3dda2181e",
       "version_major": 2,
       "version_minor": 0
      },
      "text/plain": [
       "Output()"
      ]
     },
     "metadata": {},
     "output_type": "display_data"
    },
    {
     "data": {
      "application/vnd.jupyter.widget-view+json": {
       "model_id": "167697e0fd0749d996ea1af3a3d45e93",
       "version_major": 2,
       "version_minor": 0
      },
      "text/plain": [
       "Output()"
      ]
     },
     "metadata": {},
     "output_type": "display_data"
    },
    {
     "data": {
      "application/vnd.jupyter.widget-view+json": {
       "model_id": "a160ba39c1ed48a3820b9e2ab47faee8",
       "version_major": 2,
       "version_minor": 0
      },
      "text/plain": [
       "Output()"
      ]
     },
     "metadata": {},
     "output_type": "display_data"
    },
    {
     "data": {
      "application/vnd.jupyter.widget-view+json": {
       "model_id": "140ebd4e70e448f78cac35704b06b449",
       "version_major": 2,
       "version_minor": 0
      },
      "text/plain": [
       "Output()"
      ]
     },
     "metadata": {},
     "output_type": "display_data"
    },
    {
     "data": {
      "application/vnd.jupyter.widget-view+json": {
       "model_id": "304db6c530214fe09e8ccde882cc72bd",
       "version_major": 2,
       "version_minor": 0
      },
      "text/plain": [
       "Output()"
      ]
     },
     "metadata": {},
     "output_type": "display_data"
    },
    {
     "data": {
      "application/vnd.jupyter.widget-view+json": {
       "model_id": "87086e850d3446328c9ce46ca8d0aad5",
       "version_major": 2,
       "version_minor": 0
      },
      "text/plain": [
       "Output()"
      ]
     },
     "metadata": {},
     "output_type": "display_data"
    },
    {
     "data": {
      "application/vnd.jupyter.widget-view+json": {
       "model_id": "b453c1cef3af4694bc4894a5ef68de4f",
       "version_major": 2,
       "version_minor": 0
      },
      "text/plain": [
       "Output()"
      ]
     },
     "metadata": {},
     "output_type": "display_data"
    },
    {
     "data": {
      "text/markdown": [
       "---"
      ],
      "text/plain": [
       "<IPython.core.display.Markdown object>"
      ]
     },
     "metadata": {},
     "output_type": "display_data"
    },
    {
     "data": {
      "text/markdown": [],
      "text/plain": [
       "<IPython.core.display.Markdown object>"
      ]
     },
     "metadata": {},
     "output_type": "display_data"
    },
    {
     "data": {
      "text/markdown": [
       "### Example1"
      ],
      "text/plain": [
       "<IPython.core.display.Markdown object>"
      ]
     },
     "metadata": {},
     "output_type": "display_data"
    },
    {
     "data": {
      "text/markdown": [
       "Simple Edit Json"
      ],
      "text/plain": [
       "<IPython.core.display.Markdown object>"
      ]
     },
     "metadata": {},
     "output_type": "display_data"
    },
    {
     "data": {
      "application/vnd.jupyter.widget-view+json": {
       "model_id": "46b13dd6d82e40efb38d85e7659e6932",
       "version_major": 2,
       "version_minor": 0
      },
      "text/plain": [
       "Button(button_style='success', description='save', style=ButtonStyle())"
      ]
     },
     "metadata": {},
     "output_type": "display_data"
    },
    {
     "data": {
      "application/vnd.jupyter.widget-view+json": {
       "model_id": "63fa8b09fc684975948a3b6fdc5f0aeb",
       "version_major": 2,
       "version_minor": 0
      },
      "text/plain": [
       "VBox(children=(HBox(children=(HBox(children=(HTML(value='<p>reous foo ous foo st</p>'), HBox(children=(FloatTe…"
      ]
     },
     "metadata": {},
     "output_type": "display_data"
    },
    {
     "data": {
      "application/vnd.jupyter.widget-view+json": {
       "model_id": "860ef30fe8664f6ea427e7792ffc8dc6",
       "version_major": 2,
       "version_minor": 0
      },
      "text/plain": [
       "Output()"
      ]
     },
     "metadata": {},
     "output_type": "display_data"
    },
    {
     "data": {
      "application/vnd.jupyter.widget-view+json": {
       "model_id": "07436156a5334f98b38ff3e0dd4077ee",
       "version_major": 2,
       "version_minor": 0
      },
      "text/plain": [
       "Output()"
      ]
     },
     "metadata": {},
     "output_type": "display_data"
    },
    {
     "data": {
      "application/vnd.jupyter.widget-view+json": {
       "model_id": "fec8892580f140049f11efe9e38a098d",
       "version_major": 2,
       "version_minor": 0
      },
      "text/plain": [
       "Output()"
      ]
     },
     "metadata": {},
     "output_type": "display_data"
    },
    {
     "data": {
      "application/vnd.jupyter.widget-view+json": {
       "model_id": "f67d4c0afc554a5c8ea652c519370859",
       "version_major": 2,
       "version_minor": 0
      },
      "text/plain": [
       "Output()"
      ]
     },
     "metadata": {},
     "output_type": "display_data"
    },
    {
     "data": {
      "application/vnd.jupyter.widget-view+json": {
       "model_id": "77d87dc3e305490790bb13bb9848a64a",
       "version_major": 2,
       "version_minor": 0
      },
      "text/plain": [
       "Output()"
      ]
     },
     "metadata": {},
     "output_type": "display_data"
    },
    {
     "data": {
      "application/vnd.jupyter.widget-view+json": {
       "model_id": "1f85fcd4ad3845e4b41df81285e83a30",
       "version_major": 2,
       "version_minor": 0
      },
      "text/plain": [
       "Output()"
      ]
     },
     "metadata": {},
     "output_type": "display_data"
    },
    {
     "data": {
      "application/vnd.jupyter.widget-view+json": {
       "model_id": "41794f2a5cb544f5971a66bb449801a7",
       "version_major": 2,
       "version_minor": 0
      },
      "text/plain": [
       "Output()"
      ]
     },
     "metadata": {},
     "output_type": "display_data"
    },
    {
     "data": {
      "application/vnd.jupyter.widget-view+json": {
       "model_id": "46a3fb6550c84d40ad7dda6cf8554730",
       "version_major": 2,
       "version_minor": 0
      },
      "text/plain": [
       "Output()"
      ]
     },
     "metadata": {},
     "output_type": "display_data"
    },
    {
     "data": {
      "application/vnd.jupyter.widget-view+json": {
       "model_id": "b93b042232764707ac502c3d2dbfff60",
       "version_major": 2,
       "version_minor": 0
      },
      "text/plain": [
       "Output()"
      ]
     },
     "metadata": {},
     "output_type": "display_data"
    },
    {
     "data": {
      "text/markdown": [
       "---"
      ],
      "text/plain": [
       "<IPython.core.display.Markdown object>"
      ]
     },
     "metadata": {},
     "output_type": "display_data"
    },
    {
     "data": {
      "text/markdown": [],
      "text/plain": [
       "<IPython.core.display.Markdown object>"
      ]
     },
     "metadata": {},
     "output_type": "display_data"
    },
    {
     "data": {
      "text/markdown": [
       "### Example2"
      ],
      "text/plain": [
       "<IPython.core.display.Markdown object>"
      ]
     },
     "metadata": {},
     "output_type": "display_data"
    },
    {
     "data": {
      "text/markdown": [
       "EDIT JSON FILE with custom config and file management"
      ],
      "text/plain": [
       "<IPython.core.display.Markdown object>"
      ]
     },
     "metadata": {},
     "output_type": "display_data"
    },
    {
     "data": {
      "application/vnd.jupyter.widget-view+json": {
       "model_id": "e5336319ac394077b19952cad4e923a0",
       "version_major": 2,
       "version_minor": 0
      },
      "text/plain": [
       "VBox(children=(HBox(children=(ToggleButton(value=False, button_style='info', description='inputs from file'), …"
      ]
     },
     "metadata": {},
     "output_type": "display_data"
    },
    {
     "data": {
      "application/vnd.jupyter.widget-view+json": {
       "model_id": "ec62a2e99fc24a0daf3b7f9da87ed415",
       "version_major": 2,
       "version_minor": 0
      },
      "text/plain": [
       "VBox(children=(HBox(children=(HBox(children=(HTML(value='<p>fpth_in</p>'), HBox(children=(Text(value='2'), HTM…"
      ]
     },
     "metadata": {},
     "output_type": "display_data"
    },
    {
     "data": {
      "application/vnd.jupyter.widget-view+json": {
       "model_id": "954dedac3ea8442bb62109dc2053689b",
       "version_major": 2,
       "version_minor": 0
      },
      "text/plain": [
       "Output()"
      ]
     },
     "metadata": {},
     "output_type": "display_data"
    },
    {
     "data": {
      "text/markdown": [
       "---"
      ],
      "text/plain": [
       "<IPython.core.display.Markdown object>"
      ]
     },
     "metadata": {},
     "output_type": "display_data"
    },
    {
     "data": {
      "text/markdown": [],
      "text/plain": [
       "<IPython.core.display.Markdown object>"
      ]
     },
     "metadata": {},
     "output_type": "display_data"
    },
    {
     "data": {
      "text/markdown": [
       "### Example3"
      ],
      "text/plain": [
       "<IPython.core.display.Markdown object>"
      ]
     },
     "metadata": {},
     "output_type": "display_data"
    },
    {
     "data": {
      "text/markdown": [
       "EDIT NESTED JSON FILE with custom config and file management"
      ],
      "text/plain": [
       "<IPython.core.display.Markdown object>"
      ]
     },
     "metadata": {},
     "output_type": "display_data"
    },
    {
     "data": {
      "application/vnd.jupyter.widget-view+json": {
       "model_id": "ecdf979530744bc09c29ff0fcc05ceb9",
       "version_major": 2,
       "version_minor": 0
      },
      "text/plain": [
       "VBox(children=(HBox(children=(ToggleButton(value=False, button_style='info', description='inputs from file'), …"
      ]
     },
     "metadata": {},
     "output_type": "display_data"
    },
    {
     "data": {
      "application/vnd.jupyter.widget-view+json": {
       "model_id": "bd2793da10334337a1e094edebcbe9bd",
       "version_major": 2,
       "version_minor": 0
      },
      "text/plain": [
       "VBox(children=(HBox(children=(HBox(children=(HTML(value='<p>fpth_in</p>'), HBox(children=(Text(value='C:\\\\engD…"
      ]
     },
     "metadata": {},
     "output_type": "display_data"
    },
    {
     "data": {
      "application/vnd.jupyter.widget-view+json": {
       "model_id": "fb6e93c1a8544598802232bf31336591",
       "version_major": 2,
       "version_minor": 0
      },
      "text/plain": [
       "Output()"
      ]
     },
     "metadata": {},
     "output_type": "display_data"
    },
    {
     "data": {
      "text/markdown": [
       "---"
      ],
      "text/plain": [
       "<IPython.core.display.Markdown object>"
      ]
     },
     "metadata": {},
     "output_type": "display_data"
    },
    {
     "data": {
      "text/markdown": [],
      "text/plain": [
       "<IPython.core.display.Markdown object>"
      ]
     },
     "metadata": {},
     "output_type": "display_data"
    },
    {
     "data": {
      "text/markdown": [
       "### Example4"
      ],
      "text/plain": [
       "<IPython.core.display.Markdown object>"
      ]
     },
     "metadata": {},
     "output_type": "display_data"
    },
    {
     "data": {
      "text/markdown": [
       "Edit list of dicts iwth date picker and derived input"
      ],
      "text/plain": [
       "<IPython.core.display.Markdown object>"
      ]
     },
     "metadata": {},
     "output_type": "display_data"
    },
    {
     "data": {
      "text/markdown": [
       "EDIT JSON with DatePicker and DerivedText widgetss"
      ],
      "text/plain": [
       "<IPython.core.display.Markdown object>"
      ]
     },
     "metadata": {},
     "output_type": "display_data"
    },
    {
     "data": {
      "application/vnd.jupyter.widget-view+json": {
       "model_id": "6a5fc4626b88469f8778472c148f2b8c",
       "version_major": 2,
       "version_minor": 0
      },
      "text/plain": [
       "VBox(children=(HBox(children=(HBox(children=(HTML(value='<p>Date Picker</p>'), HBox(children=(DatePicker(value…"
      ]
     },
     "metadata": {},
     "output_type": "display_data"
    },
    {
     "data": {
      "application/vnd.jupyter.widget-view+json": {
       "model_id": "3da559a880be4b25aa615814eea6b109",
       "version_major": 2,
       "version_minor": 0
      },
      "text/plain": [
       "Output()"
      ]
     },
     "metadata": {},
     "output_type": "display_data"
    },
    {
     "data": {
      "application/vnd.jupyter.widget-view+json": {
       "model_id": "56401ec291fe498a831e783fa1b54791",
       "version_major": 2,
       "version_minor": 0
      },
      "text/plain": [
       "Output()"
      ]
     },
     "metadata": {},
     "output_type": "display_data"
    },
    {
     "data": {
      "application/vnd.jupyter.widget-view+json": {
       "model_id": "dd5a9825ece94792847936e12fa65ce1",
       "version_major": 2,
       "version_minor": 0
      },
      "text/plain": [
       "Output()"
      ]
     },
     "metadata": {},
     "output_type": "display_data"
    },
    {
     "data": {
      "application/vnd.jupyter.widget-view+json": {
       "model_id": "bb1726b82e7849c1a2b4b1f2f0062230",
       "version_major": 2,
       "version_minor": 0
      },
      "text/plain": [
       "Output()"
      ]
     },
     "metadata": {},
     "output_type": "display_data"
    },
    {
     "data": {
      "application/vnd.jupyter.widget-view+json": {
       "model_id": "bac6f902e5a24c53872813e8313272a2",
       "version_major": 2,
       "version_minor": 0
      },
      "text/plain": [
       "Output()"
      ]
     },
     "metadata": {},
     "output_type": "display_data"
    },
    {
     "data": {
      "application/vnd.jupyter.widget-view+json": {
       "model_id": "b4ee9bd92ff04195ada952eac9df1974",
       "version_major": 2,
       "version_minor": 0
      },
      "text/plain": [
       "Output()"
      ]
     },
     "metadata": {},
     "output_type": "display_data"
    },
    {
     "data": {
      "text/markdown": [
       "---"
      ],
      "text/plain": [
       "<IPython.core.display.Markdown object>"
      ]
     },
     "metadata": {},
     "output_type": "display_data"
    },
    {
     "data": {
      "text/markdown": [],
      "text/plain": [
       "<IPython.core.display.Markdown object>"
      ]
     },
     "metadata": {},
     "output_type": "display_data"
    }
   ],
   "source": [
    "if __name__ =='__main__':\n",
    "    \n",
    "    # FORM ONLY EXAMPLE\n",
    "    NBFDIR = os.path.dirname(os.path.realpath('__file__'))\n",
    "    fpth = os.path.join(NBFDIR,r'appdata\\inputs\\test.json')\n",
    "    li = read_json(fpth)\n",
    "    g = EditListOfDicts(li)\n",
    "    display(Markdown('### Example0'))\n",
    "    display(Markdown('''Edit list of dicts'''))\n",
    "    display(g)\n",
    "    display(Markdown('---'))  \n",
    "    display(Markdown('')) \n",
    "    \n",
    "    # Example1\n",
    "    FDIR = os.path.dirname(os.path.realpath('__file__'))\n",
    "    fpth = os.path.join(FDIR,r'appdata/inputs/test.json')\n",
    "    simpleeditjson = SimpleEditJson(fpth)\n",
    "    # display\n",
    "    display(Markdown('### Example1'))\n",
    "    display(Markdown('''Simple Edit Json'''))\n",
    "    display(simpleeditjson)\n",
    "    display(Markdown('---'))  \n",
    "    display(Markdown('')) \n",
    "    \n",
    "    # Example2\n",
    "    # EDIT JSON FILE with custom config and file management\n",
    "    config={\n",
    "        'fpth_script':os.path.join(os.environ['mf_root'],r'MF_Toolbox\\dev\\mf_scripts\\docx_to_pdf.py'),\n",
    "        'fdir':'.',\n",
    "        'script_outputs': {'0': {\n",
    "            'fdir':'..\\reports',\n",
    "            'fnm': r'JupyterReportDemo.pdf',\n",
    "            'description': \"a pdf report from word\"\n",
    "                }\n",
    "            }\n",
    "        }\n",
    "    editjson = EditJson(config)\n",
    "    # display\n",
    "    display(Markdown('### Example2'))\n",
    "    display(Markdown('''EDIT JSON FILE with custom config and file management'''))\n",
    "    display(editjson)\n",
    "    display(Markdown('---'))  \n",
    "    display(Markdown('')) \n",
    "    \n",
    "\n",
    "    \n",
    "    # Example3\n",
    "    # EDIT NESTED JSON FILE with custom config and file management\n",
    "    nestedconfig={\n",
    "        'fpth_script':os.path.join(os.environ['mf_root'],r'MF_Toolbox\\dev\\mf_scripts\\gbxml.py'),\n",
    "        'fdir':'.',\n",
    "        }\n",
    "    editnestedjson = EditJsonModelRun(nestedconfig)\n",
    "    # display\n",
    "    display(Markdown('### Example3'))\n",
    "    display(Markdown('''EDIT NESTED JSON FILE with custom config and file management'''))\n",
    "    display(editnestedjson)\n",
    "    display(Markdown('---'))  \n",
    "    display(Markdown('')) \n",
    "\n",
    "        \n",
    "    # Example4\n",
    "    # EDIT JSON with DatePicker and DerivedText widgets\n",
    "    NBFDIR = os.path.dirname(os.path.realpath('__file__'))\n",
    "    fpth = os.path.join(NBFDIR,r'appdata\\inputs\\test-derived-val.json')\n",
    "    li = read_json(fpth)\n",
    "    g = EditListOfDictsModelRun(li)\n",
    "    display(Markdown('### Example4'))\n",
    "\n",
    "    display(Markdown('''Edit list of dicts iwth date picker and derived input'''))\n",
    "\n",
    "    display(Markdown('''EDIT JSON with DatePicker and DerivedText widgetss'''))\n",
    "\n",
    "    display(g)\n",
    "    display(Markdown('---'))  \n",
    "    display(Markdown('')) "
   ]
  },
  {
   "cell_type": "code",
   "execution_count": null,
   "metadata": {},
   "outputs": [],
   "source": []
  },
  {
   "cell_type": "code",
   "execution_count": null,
   "metadata": {},
   "outputs": [],
   "source": []
  },
  {
   "cell_type": "code",
   "execution_count": null,
   "metadata": {},
   "outputs": [],
   "source": []
  },
  {
   "cell_type": "code",
   "execution_count": null,
   "metadata": {},
   "outputs": [],
   "source": []
  },
  {
   "cell_type": "code",
   "execution_count": null,
   "metadata": {},
   "outputs": [],
   "source": []
  },
  {
   "cell_type": "code",
   "execution_count": null,
   "metadata": {},
   "outputs": [],
   "source": []
  },
  {
   "cell_type": "code",
   "execution_count": null,
   "metadata": {},
   "outputs": [],
   "source": []
  }
 ],
 "metadata": {
  "jupytext": {
   "formats": "ipynb,py:light"
  },
  "kernelspec": {
   "display_name": "Python [conda env:mf_main] *",
   "language": "python",
   "name": "conda-env-mf_main-py"
  },
  "language_info": {
   "codemirror_mode": {
    "name": "ipython",
    "version": 3
   },
   "file_extension": ".py",
   "mimetype": "text/x-python",
   "name": "python",
   "nbconvert_exporter": "python",
   "pygments_lexer": "ipython3",
   "version": "3.7.7"
  },
  "widgets": {
   "application/vnd.jupyter.widget-state+json": {
    "state": {
     "000fc1faaebf4602ace2f81f934d81ee": {
      "model_module": "@jupyter-widgets/controls",
      "model_module_version": "1.5.0",
      "model_name": "TextModel",
      "state": {
       "layout": "IPY_MODEL_73ba315fcf194e11855833bcad67a810",
       "style": "IPY_MODEL_4ba2f1982b484e4fbb0e234b78ce0900",
       "value": "2"
      }
     },
     "00325c66d24d41f0a0c4aa2f87e11256": {
      "model_module": "@jupyter-widgets/controls",
      "model_module_version": "1.5.0",
      "model_name": "HBoxModel",
      "state": {
       "children": [
        "IPY_MODEL_09c69c3da5bf49848e3ce50fe1ea0b6c",
        "IPY_MODEL_46adea635e67489c95c1bf9529374895"
       ],
       "layout": "IPY_MODEL_97873448f2fe48f68617ba80f396970a"
      }
     },
     "0068a3f4b6a643cbb44fd1aca778fde4": {
      "model_module": "@jupyter-widgets/controls",
      "model_module_version": "1.5.0",
      "model_name": "HTMLModel",
      "state": {
       "layout": "IPY_MODEL_02fc0daa402346849d3b2461504a1b05",
       "style": "IPY_MODEL_8a3cc9c27f454de28327e0241e58f6a4",
       "value": "<p>label</p>"
      }
     },
     "007f7614e22e4b8d981ed3514688cb32": {
      "model_module": "@jupyter-widgets/controls",
      "model_module_version": "1.5.0",
      "model_name": "DescriptionStyleModel",
      "state": {
       "description_width": ""
      }
     },
     "009ec31ae36241578b3a6be7bae96371": {
      "model_module": "@jupyter-widgets/controls",
      "model_module_version": "1.5.0",
      "model_name": "HTMLModel",
      "state": {
       "layout": "IPY_MODEL_bce6791006a84374bff14420dd55b28a",
       "style": "IPY_MODEL_7eddcf794fe644fbb34f09218057ad43",
       "value": "<p>label</p>"
      }
     },
     "00b9ab1d5da5419a9bbe98d3dda2181e": {
      "model_module": "@jupyter-widgets/output",
      "model_module_version": "1.0.0",
      "model_name": "OutputModel",
      "state": {
       "layout": "IPY_MODEL_9a1d379a4ab84c06b805ebb9e21077e5"
      }
     },
     "00bd813c34df4636b3ea0e17a8808ffd": {
      "model_module": "@jupyter-widgets/controls",
      "model_module_version": "1.5.0",
      "model_name": "HBoxModel",
      "state": {
       "children": [
        "IPY_MODEL_c48729332f794850a59bd1b5552e02f7",
        "IPY_MODEL_d9d57f556e474c8fbc9f117a9e4c35c4"
       ],
       "layout": "IPY_MODEL_78a2cf9bbcc24d24b01b3c751c83f8ff"
      }
     },
     "00f2f97e2b1e4d6fa959d59f4233c4b5": {
      "model_module": "@jupyter-widgets/controls",
      "model_module_version": "1.5.0",
      "model_name": "HTMLModel",
      "state": {
       "layout": "IPY_MODEL_b183c5af819943898071833405e1061b",
       "style": "IPY_MODEL_a8b0b77575364205945ced64579ccf47",
       "value": "<p>foo</p>"
      }
     },
     "00f9ca60d21142ff8eecc2632f2b33f6": {
      "model_module": "@jupyter-widgets/controls",
      "model_module_version": "1.5.0",
      "model_name": "DropdownModel",
      "state": {
       "_options_labels": [
        "asfd",
        "10",
        "asdf"
       ],
       "index": 1,
       "layout": "IPY_MODEL_8e3e51d937814843801a4ae17540a2ee",
       "style": "IPY_MODEL_42d97b23f40a4fbfb9717825f985ea42"
      }
     },
     "0106bd9e090f4bba80e82aaed7b25261": {
      "model_module": "@jupyter-widgets/controls",
      "model_module_version": "1.5.0",
      "model_name": "ButtonStyleModel",
      "state": {
       "font_weight": "bold"
      }
     },
     "018be7a354db4bf28d87330f4a172381": {
      "model_module": "@jupyter-widgets/controls",
      "model_module_version": "1.5.0",
      "model_name": "HBoxModel",
      "state": {
       "children": [
        "IPY_MODEL_56cabb96f2eb46d2bbd63f907cda72f8",
        "IPY_MODEL_f1d4d7c1452f47ec97d156d19269950e"
       ],
       "layout": "IPY_MODEL_ed6aa494daaf4a89a7d8db27e6750612"
      }
     },
     "019332aaadf44cafb3adce985fc7b33b": {
      "model_module": "@jupyter-widgets/base",
      "model_module_version": "1.2.0",
      "model_name": "LayoutModel",
      "state": {}
     },
     "019804e15e8c407aa2dabe4e9feb3706": {
      "model_module": "@jupyter-widgets/controls",
      "model_module_version": "1.5.0",
      "model_name": "HBoxModel",
      "state": {
       "children": [
        "IPY_MODEL_7d37c47abda4410a9fde3e55feab0304",
        "IPY_MODEL_653f0efceb324415b9a920d4a57525fa"
       ],
       "layout": "IPY_MODEL_4f09861936ed456fbc2f8434b2522f41"
      }
     },
     "019bfbc8414e4feea91386fe35d8417e": {
      "model_module": "@jupyter-widgets/controls",
      "model_module_version": "1.5.0",
      "model_name": "HBoxModel",
      "state": {
       "children": [
        "IPY_MODEL_48cb92b8134d4369bcf28254233f3215",
        "IPY_MODEL_b6b4aa8c671d416a9b8365c0fb4d0531"
       ],
       "layout": "IPY_MODEL_b004504fbb8449cd8f1cf2740df21d5b"
      }
     },
     "01d54ef7363f4345ad33a8a78afe845d": {
      "model_module": "@jupyter-widgets/base",
      "model_module_version": "1.2.0",
      "model_name": "LayoutModel",
      "state": {}
     },
     "01e10cb0f548454cace04597bcb74107": {
      "model_module": "@jupyter-widgets/controls",
      "model_module_version": "1.5.0",
      "model_name": "DescriptionStyleModel",
      "state": {
       "description_width": ""
      }
     },
     "01fab4ec56da400f909f035b2f00b42e": {
      "model_module": "@jupyter-widgets/controls",
      "model_module_version": "1.5.0",
      "model_name": "HBoxModel",
      "state": {
       "children": [
        "IPY_MODEL_58ad577922274c35bb39266d19722512",
        "IPY_MODEL_63c1f147ffe84f7f8699bdcfa8da3856"
       ],
       "layout": "IPY_MODEL_66b51e22273349b98d4ffe819513f143"
      }
     },
     "021167ad01fe49a390a2fc778d2ced2f": {
      "model_module": "@jupyter-widgets/base",
      "model_module_version": "1.2.0",
      "model_name": "LayoutModel",
      "state": {
       "align_items": "stretch",
       "border": "dashed 0.2px green",
       "display": "flex",
       "flex_flow": "row",
       "grid_auto_columns": "True",
       "justify_content": "flex-start",
       "width": "100%"
      }
     },
     "021ea271b8964ebeb4ffb7c683d4e0cb": {
      "model_module": "@jupyter-widgets/controls",
      "model_module_version": "1.5.0",
      "model_name": "SelectMultipleModel",
      "state": {
       "_options_labels": [
        "asfd",
        "10",
        "asdf"
       ],
       "index": [
        1
       ],
       "layout": "IPY_MODEL_3dc9885988e546dc83a60e0bc5a92446",
       "rows": 5,
       "style": "IPY_MODEL_cd97affbf14143598aa5534a883eaa44"
      }
     },
     "0243e084d521425fab263c5b1ac703f3": {
      "model_module": "@jupyter-widgets/controls",
      "model_module_version": "1.5.0",
      "model_name": "DropdownModel",
      "state": {
       "_options_labels": [
        "asfd",
        "10",
        "asdf"
       ],
       "index": 1,
       "layout": "IPY_MODEL_a63bc648485c409f92be87aa80145b0c",
       "style": "IPY_MODEL_dd1cfb2f31644463933a0968144dd76c"
      }
     },
     "027cb65a434340a5adf12afaa83ad483": {
      "model_module": "@jupyter-widgets/controls",
      "model_module_version": "1.5.0",
      "model_name": "DescriptionStyleModel",
      "state": {
       "description_width": ""
      }
     },
     "02b2db2d6d99486ba5d94e6ce84d4bf4": {
      "model_module": "@jupyter-widgets/controls",
      "model_module_version": "1.5.0",
      "model_name": "SliderStyleModel",
      "state": {
       "description_width": ""
      }
     },
     "02b3f57ad1204540907c9be2c9526255": {
      "model_module": "@jupyter-widgets/base",
      "model_module_version": "1.2.0",
      "model_name": "LayoutModel",
      "state": {
       "align_items": "stretch",
       "display": "flex",
       "flex_flow": "row",
       "grid_auto_columns": "True",
       "justify_content": "flex-start",
       "width": "80%"
      }
     },
     "02c2e190fd51405cb53f0613a7fda62f": {
      "model_module": "@jupyter-widgets/controls",
      "model_module_version": "1.5.0",
      "model_name": "VBoxModel",
      "state": {
       "layout": "IPY_MODEL_dbc4ac2cfcaa4b12a7f9833226251d57"
      }
     },
     "02fc0daa402346849d3b2461504a1b05": {
      "model_module": "@jupyter-widgets/base",
      "model_module_version": "1.2.0",
      "model_name": "LayoutModel",
      "state": {}
     },
     "030c74e4800e4fcb9a10f89b63298808": {
      "model_module": "@jupyter-widgets/controls",
      "model_module_version": "1.5.0",
      "model_name": "HTMLModel",
      "state": {
       "layout": "IPY_MODEL_5b5e6bfb45c7444782482e89a8e6bd7a",
       "style": "IPY_MODEL_191d0ffac1a04982ac3f1fbb67d98f9b",
       "value": "<p>File Tag</p>"
      }
     },
     "0311a3218fb4451aaf95dcd6a25e28d3": {
      "model_module": "@jupyter-widgets/controls",
      "model_module_version": "1.5.0",
      "model_name": "HTMLModel",
      "state": {
       "layout": "IPY_MODEL_d35abc036af04f229a7dff3e37f0571d",
       "style": "IPY_MODEL_d00b5e72556f4930b86b4a631e82a182",
       "value": "<p>General Description of the Model</p>"
      }
     },
     "037bebe9dbf648759483178d535c21e5": {
      "model_module": "@jupyter-widgets/base",
      "model_module_version": "1.2.0",
      "model_name": "LayoutModel",
      "state": {
       "align_items": "stretch",
       "border": "dashed 0.2px green",
       "display": "flex",
       "flex_flow": "row",
       "grid_auto_columns": "True",
       "justify_content": "flex-start",
       "width": "100%"
      }
     },
     "037f10d2f290472bb721904b7b305f1d": {
      "model_module": "@jupyter-widgets/controls",
      "model_module_version": "1.5.0",
      "model_name": "DescriptionStyleModel",
      "state": {
       "description_width": ""
      }
     },
     "03964f9c32f846808108bb16174b7054": {
      "model_module": "@jupyter-widgets/controls",
      "model_module_version": "1.5.0",
      "model_name": "DescriptionStyleModel",
      "state": {
       "description_width": ""
      }
     },
     "03cfc3484a484918bce557789a8fff0a": {
      "model_module": "@jupyter-widgets/base",
      "model_module_version": "1.2.0",
      "model_name": "LayoutModel",
      "state": {}
     },
     "03f4925f04e948ba87131c82d4518df7": {
      "model_module": "@jupyter-widgets/controls",
      "model_module_version": "1.5.0",
      "model_name": "HTMLModel",
      "state": {
       "layout": "IPY_MODEL_97ad1ab7497a47d8b93fd567450092d2",
       "style": "IPY_MODEL_f5ea58a731924e0ea4ab42f7159101ba",
       "value": "<p>its a foo cake</p>"
      }
     },
     "04492a8ea9f5411e95d737e27da2d6c3": {
      "model_module": "@jupyter-widgets/controls",
      "model_module_version": "1.5.0",
      "model_name": "DescriptionStyleModel",
      "state": {
       "description_width": ""
      }
     },
     "046e2fb9d0564a91b736329cae237a39": {
      "model_module": "@jupyter-widgets/base",
      "model_module_version": "1.2.0",
      "model_name": "LayoutModel",
      "state": {
       "width": "5%"
      }
     },
     "04a2d054479a4ebebdc8640c4c8c9ad3": {
      "model_module": "@jupyter-widgets/base",
      "model_module_version": "1.2.0",
      "model_name": "LayoutModel",
      "state": {}
     },
     "04a7494989df4371bb84d07f8b29bf42": {
      "model_module": "@jupyter-widgets/base",
      "model_module_version": "1.2.0",
      "model_name": "LayoutModel",
      "state": {
       "align_items": "stretch",
       "display": "flex",
       "flex_flow": "row",
       "grid_auto_columns": "True",
       "justify_content": "flex-end",
       "width": "90%"
      }
     },
     "04bc8698d042419c8d0d4de45dcfbb41": {
      "model_module": "@jupyter-widgets/output",
      "model_module_version": "1.0.0",
      "model_name": "OutputModel",
      "state": {
       "layout": "IPY_MODEL_986061033e1047b88041ca6b780468a9"
      }
     },
     "04e2d27f9618408190099d00f2635f49": {
      "model_module": "@jupyter-widgets/base",
      "model_module_version": "1.2.0",
      "model_name": "LayoutModel",
      "state": {
       "align_items": "stretch",
       "border": "dashed 0.2px green",
       "display": "flex",
       "flex_flow": "row",
       "grid_auto_columns": "True",
       "justify_content": "flex-start",
       "width": "100%"
      }
     },
     "0512481085bd42b683b698b0408e2dfb": {
      "model_module": "@jupyter-widgets/controls",
      "model_module_version": "1.5.0",
      "model_name": "HTMLModel",
      "state": {
       "layout": "IPY_MODEL_804ae7aa710f48d082d1609b0d55fad7",
       "style": "IPY_MODEL_c143bc2cd08643cb9d0cbecf01d1ca96",
       "value": "<p>its a foo cake</p>"
      }
     },
     "05702f9cb7c44f34b1e640ce213c3929": {
      "model_module": "@jupyter-widgets/controls",
      "model_module_version": "1.5.0",
      "model_name": "HBoxModel",
      "state": {
       "children": [
        "IPY_MODEL_a30395ebdda64d6296988e7c9aaad682",
        "IPY_MODEL_9b7d78b0e9ba46fdaf0aeae526a58ff9"
       ],
       "layout": "IPY_MODEL_7a5ff6255e5b4035baaa2d86f07e5865"
      }
     },
     "067e864e52e141bf9c35387aad57d452": {
      "model_module": "@jupyter-widgets/controls",
      "model_module_version": "1.5.0",
      "model_name": "DescriptionStyleModel",
      "state": {
       "description_width": ""
      }
     },
     "06a4047a69a54f568ddbdf1013a6123c": {
      "model_module": "@jupyter-widgets/controls",
      "model_module_version": "1.5.0",
      "model_name": "HTMLModel",
      "state": {
       "layout": "IPY_MODEL_6f3c2d6ed3da4e1cb7e73852c54abf1e",
       "style": "IPY_MODEL_3e891a597db34114aed649046736e37d",
       "value": "<p>reus foo ous oo ous foo st</p>"
      }
     },
     "070c7355fc374a0cbc38eb1b142eef2a": {
      "model_module": "@jupyter-widgets/controls",
      "model_module_version": "1.5.0",
      "model_name": "HBoxModel",
      "state": {
       "children": [
        "IPY_MODEL_5745fa939d71446082bf8071f879ef34"
       ],
       "layout": "IPY_MODEL_4678920468a740fab12aa5a608c5fbec"
      }
     },
     "072310461dee4288bad6a1f9e8fbe93d": {
      "model_module": "@jupyter-widgets/base",
      "model_module_version": "1.2.0",
      "model_name": "LayoutModel",
      "state": {}
     },
     "0732cac589c045e3b639d1f0f8d36b79": {
      "model_module": "@jupyter-widgets/output",
      "model_module_version": "1.0.0",
      "model_name": "OutputModel",
      "state": {
       "layout": "IPY_MODEL_e554aa770baf466080baac541544774b"
      }
     },
     "073ff92a8ffd4b019235c339228c371d": {
      "model_module": "@jupyter-widgets/controls",
      "model_module_version": "1.5.0",
      "model_name": "ButtonStyleModel",
      "state": {
       "font_weight": "bold"
      }
     },
     "07436156a5334f98b38ff3e0dd4077ee": {
      "model_module": "@jupyter-widgets/output",
      "model_module_version": "1.0.0",
      "model_name": "OutputModel",
      "state": {
       "layout": "IPY_MODEL_cba3fb62dff24d07b8bc9841b585f569"
      }
     },
     "07c941d9eddf4dcabf7e0a01383bd952": {
      "model_module": "@jupyter-widgets/base",
      "model_module_version": "1.2.0",
      "model_name": "LayoutModel",
      "state": {
       "align_items": "stretch",
       "display": "flex",
       "flex_flow": "row",
       "grid_auto_columns": "True",
       "justify_content": "flex-start",
       "width": "80%"
      }
     },
     "088c4ba26a7a4c30b8d1e28384f01bba": {
      "model_module": "@jupyter-widgets/controls",
      "model_module_version": "1.5.0",
      "model_name": "HBoxModel",
      "state": {
       "children": [
        "IPY_MODEL_d4d59d4346bf4b64a7e049a49ac5c673",
        "IPY_MODEL_d08479e6c49e4f2aa4138bae94e9f076"
       ],
       "layout": "IPY_MODEL_786caed3219b4c66bf150eeeaf00a16c"
      }
     },
     "089cbf67c40342a092f4c9c37ce112d6": {
      "model_module": "@jupyter-widgets/controls",
      "model_module_version": "1.5.0",
      "model_name": "DescriptionStyleModel",
      "state": {
       "description_width": ""
      }
     },
     "08c51ac57bd44a9ead1d5697346d37d4": {
      "model_module": "@jupyter-widgets/base",
      "model_module_version": "1.2.0",
      "model_name": "LayoutModel",
      "state": {}
     },
     "08e7a21ce63d419a8a46fc8f8b668636": {
      "model_module": "@jupyter-widgets/controls",
      "model_module_version": "1.5.0",
      "model_name": "ButtonStyleModel",
      "state": {
       "font_weight": "bold"
      }
     },
     "08fa96ec805347d4aada4cf66d82c780": {
      "model_module": "@jupyter-widgets/base",
      "model_module_version": "1.2.0",
      "model_name": "LayoutModel",
      "state": {
       "align_items": "stretch",
       "border": "dashed 0.2px green",
       "display": "flex",
       "flex_flow": "row",
       "grid_auto_columns": "True",
       "justify_content": "flex-start",
       "width": "100%"
      }
     },
     "097cbab9fc414f238371a4f0a78af612": {
      "model_module": "@jupyter-widgets/controls",
      "model_module_version": "1.5.0",
      "model_name": "DescriptionStyleModel",
      "state": {
       "description_width": ""
      }
     },
     "0996a1965dc14309a6378d3f9694f0e8": {
      "model_module": "@jupyter-widgets/base",
      "model_module_version": "1.2.0",
      "model_name": "LayoutModel",
      "state": {
       "align_items": "stretch",
       "display": "flex",
       "flex_flow": "row",
       "grid_auto_columns": "True",
       "justify_content": "flex-start",
       "width": "80%"
      }
     },
     "09ba5f5caaf44e4c95d9810ebb30011d": {
      "model_module": "@jupyter-widgets/base",
      "model_module_version": "1.2.0",
      "model_name": "LayoutModel",
      "state": {
       "align_items": "stretch",
       "display": "flex",
       "flex_flow": "row",
       "grid_auto_columns": "True",
       "justify_content": "flex-start",
       "width": "80%"
      }
     },
     "09c69c3da5bf49848e3ce50fe1ea0b6c": {
      "model_module": "@jupyter-widgets/controls",
      "model_module_version": "1.5.0",
      "model_name": "ToggleButtonModel",
      "state": {
       "icon": "arrow-down",
       "layout": "IPY_MODEL_f442c286ec5b4e08b165ba3947aeb9eb",
       "style": "IPY_MODEL_6575859dc3764e72a9b074146a4b3c03"
      }
     },
     "09d2aa2c39494140b509e84060d7d478": {
      "model_module": "@jupyter-widgets/controls",
      "model_module_version": "1.5.0",
      "model_name": "DropdownModel",
      "state": {
       "_options_labels": [
        "asfd",
        "10",
        "asdf"
       ],
       "index": 1,
       "layout": "IPY_MODEL_8e723f3dafeb4000bf6c898126d51345",
       "style": "IPY_MODEL_f2251bdb69594a1bba131d469759792b"
      }
     },
     "0a0025743bdf4069830467a43ad9060c": {
      "model_module": "@jupyter-widgets/controls",
      "model_module_version": "1.5.0",
      "model_name": "DescriptionStyleModel",
      "state": {
       "description_width": ""
      }
     },
     "0a6662f17d574ac2b0cfd1deef738517": {
      "model_module": "@jupyter-widgets/controls",
      "model_module_version": "1.5.0",
      "model_name": "HTMLModel",
      "state": {
       "layout": "IPY_MODEL_75a89f5d2f7445529cd2c352f2513323",
       "style": "IPY_MODEL_86b3152b9faf438f80e5fa41dca84edc",
       "value": "<p>name</p>"
      }
     },
     "0a8522060fbd41d5bc6fd46c3b6440f4": {
      "model_module": "@jupyter-widgets/base",
      "model_module_version": "1.2.0",
      "model_name": "LayoutModel",
      "state": {}
     },
     "0ac23a67a1d148aa9f6263458a76ef50": {
      "model_module": "@jupyter-widgets/base",
      "model_module_version": "1.2.0",
      "model_name": "LayoutModel",
      "state": {}
     },
     "0aed1e3e2b8a49509e5a095c7c5b8c5d": {
      "model_module": "@jupyter-widgets/base",
      "model_module_version": "1.2.0",
      "model_name": "LayoutModel",
      "state": {
       "align_items": "stretch",
       "display": "flex",
       "flex_flow": "row",
       "grid_auto_columns": "True",
       "justify_content": "flex-start",
       "width": "80%"
      }
     },
     "0b03b1e16899451d822781797a28257e": {
      "model_module": "@jupyter-widgets/base",
      "model_module_version": "1.2.0",
      "model_name": "LayoutModel",
      "state": {}
     },
     "0b6a50aef5344601b379a1249293e77c": {
      "model_module": "@jupyter-widgets/controls",
      "model_module_version": "1.5.0",
      "model_name": "HBoxModel",
      "state": {
       "children": [
        "IPY_MODEL_6dc65a308bbd479095fbd2e9ebc122d8",
        "IPY_MODEL_580da66f72c04c71be594be5d6769042"
       ],
       "layout": "IPY_MODEL_3ffea3606a4a426796db06097bb25d62"
      }
     },
     "0bc6087823a84ea8b576e73ae902514f": {
      "model_module": "@jupyter-widgets/controls",
      "model_module_version": "1.5.0",
      "model_name": "FloatTextModel",
      "state": {
       "layout": "IPY_MODEL_43e974bc904844f7adeec20c5f5ce931",
       "step": null,
       "style": "IPY_MODEL_770b669588284136bc7bb237a8a71e81",
       "value": 9
      }
     },
     "0bcc4f606f374c9bbb3c0d2005b69501": {
      "model_module": "@jupyter-widgets/base",
      "model_module_version": "1.2.0",
      "model_name": "LayoutModel",
      "state": {
       "display": "flex",
       "flex_flow": "row",
       "grid_auto_columns": "False",
       "justify_content": "flex-start",
       "width": "100%"
      }
     },
     "0c028eac598f4335b5544573a9da32c8": {
      "model_module": "@jupyter-widgets/base",
      "model_module_version": "1.2.0",
      "model_name": "LayoutModel",
      "state": {}
     },
     "0c1205e9eaf74a00b0e797f66b423c28": {
      "model_module": "@jupyter-widgets/base",
      "model_module_version": "1.2.0",
      "model_name": "LayoutModel",
      "state": {}
     },
     "0c48e9e56f674eca82be86359c36a65f": {
      "model_module": "@jupyter-widgets/controls",
      "model_module_version": "1.5.0",
      "model_name": "DescriptionStyleModel",
      "state": {
       "description_width": ""
      }
     },
     "0c797caa814e4ee6bb8e774975f8672c": {
      "model_module": "@jupyter-widgets/controls",
      "model_module_version": "1.5.0",
      "model_name": "HBoxModel",
      "state": {
       "children": [
        "IPY_MODEL_ab8ce0612f3d404b85c3a3c99f845703",
        "IPY_MODEL_d56a7e07ecfa49f794135dbc7b4d9c91"
       ],
       "layout": "IPY_MODEL_8a61a1362f40491c92c89d6d18d54870"
      }
     },
     "0c8e881764a744c28c8f9d67142690db": {
      "model_module": "@jupyter-widgets/controls",
      "model_module_version": "1.5.0",
      "model_name": "DescriptionStyleModel",
      "state": {
       "description_width": ""
      }
     },
     "0c93ccdbf17a480b8328e5ef0b89b48f": {
      "model_module": "@jupyter-widgets/controls",
      "model_module_version": "1.5.0",
      "model_name": "HBoxModel",
      "state": {
       "children": [
        "IPY_MODEL_7f3ff4f5d3e14365863c2e71fe655818",
        "IPY_MODEL_758e3a6ba7664f57a23cb2550dfb0185"
       ],
       "layout": "IPY_MODEL_04a7494989df4371bb84d07f8b29bf42"
      }
     },
     "0cb0077998714e508fa51ce1a6ba354b": {
      "model_module": "@jupyter-widgets/output",
      "model_module_version": "1.0.0",
      "model_name": "OutputModel",
      "state": {
       "layout": "IPY_MODEL_ecab64e51be34260b7e54d29032b77f3"
      }
     },
     "0d037a99972c48a18ed4749f3100bbac": {
      "model_module": "@jupyter-widgets/controls",
      "model_module_version": "1.5.0",
      "model_name": "HBoxModel",
      "state": {
       "children": [
        "IPY_MODEL_0c93ccdbf17a480b8328e5ef0b89b48f"
       ],
       "layout": "IPY_MODEL_021167ad01fe49a390a2fc778d2ced2f"
      }
     },
     "0d6a06be373349f790d7f60b2ef228bb": {
      "model_module": "@jupyter-widgets/base",
      "model_module_version": "1.2.0",
      "model_name": "LayoutModel",
      "state": {
       "align_items": "stretch",
       "border": "dashed 0.2px green",
       "display": "flex",
       "flex_flow": "row",
       "grid_auto_columns": "True",
       "justify_content": "flex-start",
       "width": "100%"
      }
     },
     "0d7300344d11487e9bcd6f2aeee14bf4": {
      "model_module": "@jupyter-widgets/controls",
      "model_module_version": "1.5.0",
      "model_name": "HBoxModel",
      "state": {
       "children": [
        "IPY_MODEL_c2519152f3744f41bf1b0680977e2fc4",
        "IPY_MODEL_389aadd41895441da052858ff954d897"
       ],
       "layout": "IPY_MODEL_1d8c8e9e6a8d46aeb17d0e9c661bde9d"
      }
     },
     "0d9c45f3a5e140eeaeb9cda3446f5631": {
      "model_module": "@jupyter-widgets/base",
      "model_module_version": "1.2.0",
      "model_name": "LayoutModel",
      "state": {}
     },
     "0e4ce78b21874c86827329f976008f38": {
      "model_module": "@jupyter-widgets/controls",
      "model_module_version": "1.5.0",
      "model_name": "HBoxModel",
      "state": {
       "children": [
        "IPY_MODEL_95eef279681c43cb96202e06f5d40be4",
        "IPY_MODEL_f33ae701996f47598165b58188d5536d"
       ],
       "layout": "IPY_MODEL_2dd3d3679ea84f0bbef03d1deaeeaeff"
      }
     },
     "0ea1def6065f48a2bb25518d090a15a9": {
      "model_module": "@jupyter-widgets/controls",
      "model_module_version": "1.5.0",
      "model_name": "DescriptionStyleModel",
      "state": {
       "description_width": ""
      }
     },
     "0eb9ee83181c4381b26d5441b6867aa2": {
      "model_module": "@jupyter-widgets/base",
      "model_module_version": "1.2.0",
      "model_name": "LayoutModel",
      "state": {
       "align_items": "stretch",
       "display": "flex",
       "flex_flow": "row",
       "grid_auto_columns": "True",
       "justify_content": "flex-end",
       "width": "90%"
      }
     },
     "0ec0375da2c84d5098ea90494c29b3af": {
      "model_module": "@jupyter-widgets/controls",
      "model_module_version": "1.5.0",
      "model_name": "DescriptionStyleModel",
      "state": {
       "description_width": ""
      }
     },
     "0ed807f181134864b38520a6662ab9fe": {
      "model_module": "@jupyter-widgets/base",
      "model_module_version": "1.2.0",
      "model_name": "LayoutModel",
      "state": {
       "align_items": "stretch",
       "display": "flex",
       "flex_flow": "row",
       "grid_auto_columns": "True",
       "justify_content": "flex-end",
       "width": "90%"
      }
     },
     "0f186d19979d4f2ebcc40e48148ae457": {
      "model_module": "@jupyter-widgets/controls",
      "model_module_version": "1.5.0",
      "model_name": "HTMLModel",
      "state": {
       "layout": "IPY_MODEL_2a54c071967049f8ac88ce31653d2eed",
       "style": "IPY_MODEL_26dc918527bb4f11bb7307305d100fc3",
       "value": "016"
      }
     },
     "0f461644575e4ba8a0a1519a97e75c30": {
      "model_module": "@jupyter-widgets/base",
      "model_module_version": "1.2.0",
      "model_name": "LayoutModel",
      "state": {
       "align_items": "stretch",
       "display": "flex",
       "flex_flow": "row",
       "grid_auto_columns": "True",
       "justify_content": "flex-end",
       "width": "90%"
      }
     },
     "0f51a1355e4e4d5da86a9bae490dcfe9": {
      "model_module": "@jupyter-widgets/output",
      "model_module_version": "1.0.0",
      "model_name": "OutputModel",
      "state": {
       "layout": "IPY_MODEL_94bf740370c74ab2b69d048f2027c113"
      }
     },
     "0f8354415df8407e8e15afbc510e717e": {
      "model_module": "@jupyter-widgets/controls",
      "model_module_version": "1.5.0",
      "model_name": "HBoxModel",
      "state": {
       "children": [
        "IPY_MODEL_8468a4225c1f43feafc172b21bd99ed3"
       ],
       "layout": "IPY_MODEL_b2b146ff4f0742dcbcc92f93368ea4c1"
      }
     },
     "0f9fd5454a2044a3a09319a43dbaf47b": {
      "model_module": "@jupyter-widgets/base",
      "model_module_version": "1.2.0",
      "model_name": "LayoutModel",
      "state": {
       "align_items": "stretch",
       "display": "flex",
       "flex_flow": "row",
       "grid_auto_columns": "True",
       "justify_content": "flex-end",
       "width": "90%"
      }
     },
     "0fb7cd7768174905a50acf6b04de4b71": {
      "model_module": "@jupyter-widgets/controls",
      "model_module_version": "1.5.0",
      "model_name": "ButtonModel",
      "state": {
       "description": "save",
       "layout": "IPY_MODEL_5697c1f1e740460d878dbc8adc5f0fa4",
       "style": "IPY_MODEL_3b8c9a892f584f84aab3e611af71182b"
      }
     },
     "0fdd127e27e64d7cb09b554c6cb72822": {
      "model_module": "@jupyter-widgets/controls",
      "model_module_version": "1.5.0",
      "model_name": "FloatTextModel",
      "state": {
       "layout": "IPY_MODEL_2133b8697e8549509f3254baa3287224",
       "step": null,
       "style": "IPY_MODEL_0c8e881764a744c28c8f9d67142690db",
       "value": 9
      }
     },
     "0ff8c43c88ba402c8caf8b36461eb98b": {
      "model_module": "@jupyter-widgets/controls",
      "model_module_version": "1.5.0",
      "model_name": "HTMLModel",
      "state": {
       "layout": "IPY_MODEL_1234a657790f4999a532244da2cc28e4",
       "style": "IPY_MODEL_796f383c07c04132adbd2af9bb8f0c4f",
       "value": "<p>foo</p>"
      }
     },
     "100cf953dc234cb38d4130aed6f31f2e": {
      "model_module": "@jupyter-widgets/base",
      "model_module_version": "1.2.0",
      "model_name": "LayoutModel",
      "state": {
       "align_items": "stretch",
       "width": "100%"
      }
     },
     "101f9f77515e4e3ba20c423b9c9cafd2": {
      "model_module": "@jupyter-widgets/controls",
      "model_module_version": "1.5.0",
      "model_name": "HTMLModel",
      "state": {
       "layout": "IPY_MODEL_603064db21ed403ba37a2d05c7174a22",
       "style": "IPY_MODEL_a8d6b16a4fd6477090684737c52c0962",
       "value": "<p>fus foo ous o</p>"
      }
     },
     "1026cd63d48641518a2f12d040b8b672": {
      "model_module": "@jupyter-widgets/controls",
      "model_module_version": "1.5.0",
      "model_name": "DescriptionStyleModel",
      "state": {
       "description_width": ""
      }
     },
     "105ea0af59d84e15a8e4d8fa51d7fe7c": {
      "model_module": "@jupyter-widgets/controls",
      "model_module_version": "1.5.0",
      "model_name": "HBoxModel",
      "state": {
       "children": [
        "IPY_MODEL_3df9326ce15545938ad8c1f41b0742e1",
        "IPY_MODEL_66b74b5b17c4432ca31ad1f93951464d"
       ],
       "layout": "IPY_MODEL_d804476e6d08479c98dacc0a10e4e094"
      }
     },
     "108798c16f234e46a444506f3cd5e6af": {
      "model_module": "@jupyter-widgets/controls",
      "model_module_version": "1.5.0",
      "model_name": "SliderStyleModel",
      "state": {
       "description_width": ""
      }
     },
     "109439e42a4a40deb334f4a0a21563f3": {
      "model_module": "@jupyter-widgets/controls",
      "model_module_version": "1.5.0",
      "model_name": "HBoxModel",
      "state": {
       "children": [
        "IPY_MODEL_12421784dfca4308903a9624cf8eb83d",
        "IPY_MODEL_e58be7d0bdce4762a99791171cb2e1bb"
       ],
       "layout": "IPY_MODEL_0aed1e3e2b8a49509e5a095c7c5b8c5d"
      }
     },
     "10c9f3b552734dbfa451b6ccaaecabd3": {
      "model_module": "@jupyter-widgets/base",
      "model_module_version": "1.2.0",
      "model_name": "LayoutModel",
      "state": {
       "align_items": "stretch",
       "border": "dashed 0.2px green",
       "display": "flex",
       "flex_flow": "row",
       "grid_auto_columns": "True",
       "justify_content": "flex-start",
       "width": "100%"
      }
     },
     "10df09f34e0c419fb342ce404535da33": {
      "model_module": "@jupyter-widgets/base",
      "model_module_version": "1.2.0",
      "model_name": "LayoutModel",
      "state": {
       "border": "solid 1px #BBBBBB",
       "padding": "0px 10px 0px 10px"
      }
     },
     "110e152a7915424cb58ae90bd26c5745": {
      "model_module": "@jupyter-widgets/controls",
      "model_module_version": "1.5.0",
      "model_name": "ButtonModel",
      "state": {
       "icon": "question-circle",
       "layout": "IPY_MODEL_046e2fb9d0564a91b736329cae237a39",
       "style": "IPY_MODEL_a53f00f732f04f63b6b24f2ba7f7cf67",
       "tooltip": "describes the functionality of elements in the RunApp interface"
      }
     },
     "112e0967cda34e4181dd2bba0af38b5c": {
      "model_module": "@jupyter-widgets/controls",
      "model_module_version": "1.5.0",
      "model_name": "HBoxModel",
      "state": {
       "children": [
        "IPY_MODEL_a4851bac54544279ac6d851ec991a36f",
        "IPY_MODEL_93b0ece46d354f2f9c613d9bef56eb82"
       ],
       "layout": "IPY_MODEL_b3f130504c1b458989ae498c923c6fa6"
      }
     },
     "1174f48385ca4345bda2877184d8c166": {
      "model_module": "@jupyter-widgets/controls",
      "model_module_version": "1.5.0",
      "model_name": "DescriptionStyleModel",
      "state": {
       "description_width": ""
      }
     },
     "11a6180c4b754183bddee17175c064f0": {
      "model_module": "@jupyter-widgets/controls",
      "model_module_version": "1.5.0",
      "model_name": "DescriptionStyleModel",
      "state": {
       "description_width": ""
      }
     },
     "11b157d696974667a6c1e67e516300ee": {
      "model_module": "@jupyter-widgets/controls",
      "model_module_version": "1.5.0",
      "model_name": "DescriptionStyleModel",
      "state": {
       "description_width": ""
      }
     },
     "11f5d239654b446f982b98616a61357f": {
      "model_module": "@jupyter-widgets/base",
      "model_module_version": "1.2.0",
      "model_name": "LayoutModel",
      "state": {}
     },
     "123258c304804f249a2e612a6ee2a4b1": {
      "model_module": "@jupyter-widgets/base",
      "model_module_version": "1.2.0",
      "model_name": "LayoutModel",
      "state": {
       "align_items": "stretch",
       "display": "flex",
       "flex_flow": "row",
       "grid_auto_columns": "True",
       "justify_content": "flex-start",
       "width": "80%"
      }
     },
     "1234a657790f4999a532244da2cc28e4": {
      "model_module": "@jupyter-widgets/base",
      "model_module_version": "1.2.0",
      "model_name": "LayoutModel",
      "state": {}
     },
     "12421784dfca4308903a9624cf8eb83d": {
      "model_module": "@jupyter-widgets/controls",
      "model_module_version": "1.5.0",
      "model_name": "CheckboxModel",
      "state": {
       "disabled": false,
       "layout": "IPY_MODEL_5adcf779887f4b2c82d17fce320dea6d",
       "style": "IPY_MODEL_eb2887647b6d4d32b1f1f4897ce17824",
       "value": false
      }
     },
     "124b567e7aa844a6a64fb26592a63f08": {
      "model_module": "@jupyter-widgets/base",
      "model_module_version": "1.2.0",
      "model_name": "LayoutModel",
      "state": {
       "align_items": "stretch",
       "display": "flex",
       "flex_flow": "row",
       "grid_auto_columns": "True",
       "justify_content": "flex-start",
       "width": "80%"
      }
     },
     "127246ed7dce4ebf96e408c998cd4b5d": {
      "model_module": "@jupyter-widgets/controls",
      "model_module_version": "1.5.0",
      "model_name": "VBoxModel",
      "state": {
       "layout": "IPY_MODEL_334df0d3a6a74b1db7eaec4abdaa991b"
      }
     },
     "129ad7aa395349778c38b5e37061617f": {
      "model_module": "@jupyter-widgets/base",
      "model_module_version": "1.2.0",
      "model_name": "LayoutModel",
      "state": {}
     },
     "12ee596c56f340d3bfa66297407aab73": {
      "model_module": "@jupyter-widgets/controls",
      "model_module_version": "1.5.0",
      "model_name": "ButtonModel",
      "state": {
       "button_style": "warning",
       "description": "revert to last save",
       "layout": "IPY_MODEL_680cefcfd87c4c25b30ee3388cf5f7c7",
       "style": "IPY_MODEL_a1c530b19ed348fa8dac8db8ee454e47"
      }
     },
     "132aca45ba984096a1f3f48b63595785": {
      "model_module": "@jupyter-widgets/controls",
      "model_module_version": "1.5.0",
      "model_name": "HTMLModel",
      "state": {
       "layout": "IPY_MODEL_99d7f9fdcd34457b9476a6adb28047ff",
       "style": "IPY_MODEL_795c71759be54ddb9c10b6727698836a",
       "value": "<p>foo</p>"
      }
     },
     "134593f541c44a4ab69e664df7e85d6f": {
      "model_module": "@jupyter-widgets/base",
      "model_module_version": "1.2.0",
      "model_name": "LayoutModel",
      "state": {
       "width": "5%"
      }
     },
     "139f30eafbb14595b6de9e7d8ad9aac7": {
      "model_module": "@jupyter-widgets/controls",
      "model_module_version": "1.5.0",
      "model_name": "HBoxModel",
      "state": {
       "children": [
        "IPY_MODEL_29c0a3104ba14336a651b1fbb0857889",
        "IPY_MODEL_22757f7597074b30a08c924b864ccc19"
       ],
       "layout": "IPY_MODEL_bf4b77e5a91a4300a5ef31cfe046eba8"
      }
     },
     "13a195d0fa344052b3ff866806b412c6": {
      "model_module": "@jupyter-widgets/base",
      "model_module_version": "1.2.0",
      "model_name": "LayoutModel",
      "state": {}
     },
     "13acafee44044c7ab476350bd8c4bbae": {
      "model_module": "@jupyter-widgets/base",
      "model_module_version": "1.2.0",
      "model_name": "LayoutModel",
      "state": {}
     },
     "13b95ad796fa431b8625e4579036b7e5": {
      "model_module": "@jupyter-widgets/base",
      "model_module_version": "1.2.0",
      "model_name": "LayoutModel",
      "state": {}
     },
     "140ebd4e70e448f78cac35704b06b449": {
      "model_module": "@jupyter-widgets/output",
      "model_module_version": "1.0.0",
      "model_name": "OutputModel",
      "state": {
       "layout": "IPY_MODEL_ea8369ee010e40c1b211fbf02e5947b9"
      }
     },
     "14ae11ff5f98488585c618742594c528": {
      "model_module": "@jupyter-widgets/base",
      "model_module_version": "1.2.0",
      "model_name": "LayoutModel",
      "state": {
       "align_items": "stretch",
       "border": "dashed 0.2px green",
       "display": "flex",
       "flex_flow": "row",
       "grid_auto_columns": "True",
       "justify_content": "flex-start",
       "width": "100%"
      }
     },
     "14ba47c97bd645ce89e93dd08e2751e3": {
      "model_module": "@jupyter-widgets/controls",
      "model_module_version": "1.5.0",
      "model_name": "VBoxModel",
      "state": {
       "layout": "IPY_MODEL_6e11e6dabfba43a08f71a8e99eb803ab"
      }
     },
     "14dee301cbba4304a128679910a5ba39": {
      "model_module": "@jupyter-widgets/controls",
      "model_module_version": "1.5.0",
      "model_name": "HBoxModel",
      "state": {
       "children": [
        "IPY_MODEL_a1f59e90c7534b4b86c87ec045d9e5d5",
        "IPY_MODEL_6b9815b8c13240b1b9e1b4757d81dea9"
       ],
       "layout": "IPY_MODEL_6a6c654ae7f647b68518c91a61029059"
      }
     },
     "14eea55eca2643de80ad18b98926ccae": {
      "model_module": "@jupyter-widgets/base",
      "model_module_version": "1.2.0",
      "model_name": "LayoutModel",
      "state": {}
     },
     "14eed62cd5884b2d90d5c44b8dfdbb5f": {
      "model_module": "@jupyter-widgets/controls",
      "model_module_version": "1.5.0",
      "model_name": "HBoxModel",
      "state": {
       "children": [
        "IPY_MODEL_8caf3dbc05dd479f8ebda2b259fecaf0",
        "IPY_MODEL_be6d178421f1476186aefee6e709b04d"
       ],
       "layout": "IPY_MODEL_617b2acfbca645c68884a6d7b9609081"
      }
     },
     "1506a49fca0e49a49e09f266707860f4": {
      "model_module": "@jupyter-widgets/controls",
      "model_module_version": "1.5.0",
      "model_name": "VBoxModel",
      "state": {
       "children": [
        "IPY_MODEL_38e3adee73e64516a5ea97b1eadd1599",
        "IPY_MODEL_0d037a99972c48a18ed4749f3100bbac"
       ],
       "layout": "IPY_MODEL_a1d5c2a4776042f4ad8028c00ff99f2b"
      }
     },
     "1536f08900da427dad22bcb18ad2687e": {
      "model_module": "@jupyter-widgets/base",
      "model_module_version": "1.2.0",
      "model_name": "LayoutModel",
      "state": {}
     },
     "156c49c73bd34514bc87422957b00f18": {
      "model_module": "@jupyter-widgets/controls",
      "model_module_version": "1.5.0",
      "model_name": "HBoxModel",
      "state": {
       "children": [
        "IPY_MODEL_f8c2b647332b445c9059f53c3e4b7a68",
        "IPY_MODEL_2711ef5f42d44048be5b7c1f90ef6938"
       ],
       "layout": "IPY_MODEL_2c655b1d075b4a56a264525be56b7242"
      }
     },
     "1597fc07b3a34a3c97a5fcef2776a91d": {
      "model_module": "@jupyter-widgets/controls",
      "model_module_version": "1.5.0",
      "model_name": "ButtonStyleModel",
      "state": {
       "font_weight": "bold"
      }
     },
     "15be7e0b0cd342d6b50d7d133691ef83": {
      "model_module": "@jupyter-widgets/controls",
      "model_module_version": "1.5.0",
      "model_name": "DescriptionStyleModel",
      "state": {
       "description_width": ""
      }
     },
     "15fbf76ea5db405bb49e72585ae5dffc": {
      "model_module": "@jupyter-widgets/base",
      "model_module_version": "1.2.0",
      "model_name": "LayoutModel",
      "state": {}
     },
     "16415a2349e34b51a731c77c642fe279": {
      "model_module": "@jupyter-widgets/base",
      "model_module_version": "1.2.0",
      "model_name": "LayoutModel",
      "state": {}
     },
     "1646d5dc295c49f597853389a98d02e5": {
      "model_module": "@jupyter-widgets/output",
      "model_module_version": "1.0.0",
      "model_name": "OutputModel",
      "state": {
       "layout": "IPY_MODEL_daa12cd6474545edb1af1223a427b475"
      }
     },
     "164f91e8530b4c3cb71967290ae5dd61": {
      "model_module": "@jupyter-widgets/controls",
      "model_module_version": "1.5.0",
      "model_name": "ToggleButtonModel",
      "state": {
       "icon": "arrow-down",
       "layout": "IPY_MODEL_f6a73a39314e493687ecd23c454b8a43",
       "style": "IPY_MODEL_4f10f1a605404e1798dbd767f36600df"
      }
     },
     "167697e0fd0749d996ea1af3a3d45e93": {
      "model_module": "@jupyter-widgets/output",
      "model_module_version": "1.0.0",
      "model_name": "OutputModel",
      "state": {
       "layout": "IPY_MODEL_3fcf48b8c8ec47da8bb4eda4cb7330a8"
      }
     },
     "168c73d1e15444c2aaa27f2692520047": {
      "model_module": "@jupyter-widgets/controls",
      "model_module_version": "1.5.0",
      "model_name": "HBoxModel",
      "state": {
       "children": [
        "IPY_MODEL_6f7afaee94f34b1187d5f4ef17f339b2"
       ],
       "layout": "IPY_MODEL_c4f9951891144038b25e7c83c61750a3"
      }
     },
     "1692988e97434e4db293d8fe2b3549b4": {
      "model_module": "@jupyter-widgets/base",
      "model_module_version": "1.2.0",
      "model_name": "LayoutModel",
      "state": {}
     },
     "16c12a788f574718b65607934f10e258": {
      "model_module": "@jupyter-widgets/base",
      "model_module_version": "1.2.0",
      "model_name": "LayoutModel",
      "state": {}
     },
     "17012d6304204c0ba8b8e9b679169c8a": {
      "model_module": "@jupyter-widgets/controls",
      "model_module_version": "1.5.0",
      "model_name": "HBoxModel",
      "state": {
       "children": [
        "IPY_MODEL_1fb17221505240b588a028725acca170",
        "IPY_MODEL_c8700c3aa91d4b80a59d9e43a349e904"
       ],
       "layout": "IPY_MODEL_42227de7b4b246fea2782bcb9d110260"
      }
     },
     "170d05cd724f455bb36ec3279b983b1c": {
      "model_module": "@jupyter-widgets/base",
      "model_module_version": "1.2.0",
      "model_name": "LayoutModel",
      "state": {}
     },
     "1745b9cd895340959148fe8e7b4fbce3": {
      "model_module": "@jupyter-widgets/base",
      "model_module_version": "1.2.0",
      "model_name": "LayoutModel",
      "state": {
       "align_items": "stretch",
       "display": "flex",
       "flex_flow": "row",
       "grid_auto_columns": "True",
       "justify_content": "flex-end",
       "width": "90%"
      }
     },
     "17760d2ab3f341a99a225b0cab7add34": {
      "model_module": "@jupyter-widgets/controls",
      "model_module_version": "1.5.0",
      "model_name": "DescriptionStyleModel",
      "state": {
       "description_width": ""
      }
     },
     "17bbfa9f5e96481d9573f65c9a225dbc": {
      "model_module": "@jupyter-widgets/controls",
      "model_module_version": "1.5.0",
      "model_name": "HBoxModel",
      "state": {
       "children": [
        "IPY_MODEL_1eb7b0a09aa6460a8ab1bd23d9601ab1"
       ],
       "layout": "IPY_MODEL_dbfa8237eab84d689932961593a7c3e2"
      }
     },
     "18158589dca44494b21fe2c4bcd67f53": {
      "model_module": "@jupyter-widgets/controls",
      "model_module_version": "1.5.0",
      "model_name": "HBoxModel",
      "state": {
       "children": [
        "IPY_MODEL_e0380d00ed6b4fe0b93e778457dfea68",
        "IPY_MODEL_0311a3218fb4451aaf95dcd6a25e28d3"
       ],
       "layout": "IPY_MODEL_1b340b02fb614dcfafd88389eefede42"
      }
     },
     "183340d0a7204edcb4630d10cab68db9": {
      "model_module": "@jupyter-widgets/base",
      "model_module_version": "1.2.0",
      "model_name": "LayoutModel",
      "state": {
       "align_items": "stretch",
       "display": "flex",
       "flex_flow": "row",
       "grid_auto_columns": "True",
       "justify_content": "flex-start",
       "width": "80%"
      }
     },
     "184e0d7296484b7fb66e2669cf4c416c": {
      "model_module": "@jupyter-widgets/controls",
      "model_module_version": "1.5.0",
      "model_name": "HTMLModel",
      "state": {
       "layout": "IPY_MODEL_4d68b93d0a794ba3a9893b2c9456359a",
       "style": "IPY_MODEL_8a9e850756e34b37a1425182cf8334fa",
       "value": "<p>Example use of the DerivedText Widget</p>"
      }
     },
     "18526a20ca9148bc862ad50e077578d5": {
      "model_module": "@jupyter-widgets/controls",
      "model_module_version": "1.5.0",
      "model_name": "HBoxModel",
      "state": {
       "children": [
        "IPY_MODEL_f9d0258a3dfa41039ae4705b1925447a",
        "IPY_MODEL_ea334658ce9e4fdf9f9421e8f22d7862"
       ],
       "layout": "IPY_MODEL_53b3f9134a054db8855ae30e15d8dcf1"
      }
     },
     "186b13d2735a40a99f4269480f64a6bb": {
      "model_module": "@jupyter-widgets/base",
      "model_module_version": "1.2.0",
      "model_name": "LayoutModel",
      "state": {
       "align_items": "stretch",
       "display": "flex",
       "flex_flow": "row",
       "grid_auto_columns": "True",
       "justify_content": "flex-end",
       "width": "90%"
      }
     },
     "1890e59ddbbd4e748a0ebc973ee0896f": {
      "model_module": "@jupyter-widgets/controls",
      "model_module_version": "1.5.0",
      "model_name": "DescriptionStyleModel",
      "state": {
       "description_width": ""
      }
     },
     "1893c4d81ef74312bb6fb8124c8169d1": {
      "model_module": "@jupyter-widgets/controls",
      "model_module_version": "1.5.0",
      "model_name": "HBoxModel",
      "state": {
       "children": [
        "IPY_MODEL_0ff8c43c88ba402c8caf8b36461eb98b",
        "IPY_MODEL_3edaa497120c43e89e189a2e1f3fa378"
       ],
       "layout": "IPY_MODEL_a5ea343c48e94d7ab7890c4c67404857"
      }
     },
     "18b77c8b6fcd40a28b94fca8f2ea4df6": {
      "model_module": "@jupyter-widgets/controls",
      "model_module_version": "1.5.0",
      "model_name": "HTMLModel",
      "state": {
       "layout": "IPY_MODEL_b6231f12fc1e4caf83040c14bca82aa5",
       "style": "IPY_MODEL_7871915ef48a4b22b4ae4a453a9705a1",
       "value": "<p>foo</p>"
      }
     },
     "18eee6c1db5b4bd3920b5415b2d5322f": {
      "model_module": "@jupyter-widgets/output",
      "model_module_version": "1.0.0",
      "model_name": "OutputModel",
      "state": {
       "layout": "IPY_MODEL_a5cf30b8532a4d0eb18de294ed200981",
       "outputs": [
        {
         "data": {
          "application/vnd.jupyter.widget-view+json": {
           "model_id": "",
           "version_major": 2,
           "version_minor": 0
          },
          "text/plain": "Output()"
         },
         "metadata": {},
         "output_type": "display_data"
        }
       ]
      }
     },
     "1909726259564d7fa6d3bc4cc09f23e8": {
      "model_module": "@jupyter-widgets/base",
      "model_module_version": "1.2.0",
      "model_name": "LayoutModel",
      "state": {}
     },
     "191d0ffac1a04982ac3f1fbb67d98f9b": {
      "model_module": "@jupyter-widgets/controls",
      "model_module_version": "1.5.0",
      "model_name": "DescriptionStyleModel",
      "state": {
       "description_width": ""
      }
     },
     "1930ab65d88741d08794703f11b259c9": {
      "model_module": "@jupyter-widgets/base",
      "model_module_version": "1.2.0",
      "model_name": "LayoutModel",
      "state": {
       "align_items": "stretch",
       "display": "flex",
       "flex_flow": "row",
       "grid_auto_columns": "True",
       "justify_content": "flex-start",
       "width": "80%"
      }
     },
     "19bfa245b92043e2aa4f8ce7cc7e1dab": {
      "model_module": "@jupyter-widgets/controls",
      "model_module_version": "1.5.0",
      "model_name": "DescriptionStyleModel",
      "state": {
       "description_width": ""
      }
     },
     "19d57dfdf9134c8cb98b7fb2ee226055": {
      "model_module": "@jupyter-widgets/controls",
      "model_module_version": "1.5.0",
      "model_name": "HTMLModel",
      "state": {
       "layout": "IPY_MODEL_877a035d57504e5bab8f4f9ef1bce60e",
       "style": "IPY_MODEL_5f085b86312341978a5a88e7016a231d",
       "value": "<p>reus foo ous oo ous foo st</p>"
      }
     },
     "1a2d69c890af49d4b5834a5aaeb6176d": {
      "model_module": "@jupyter-widgets/controls",
      "model_module_version": "1.5.0",
      "model_name": "ButtonStyleModel",
      "state": {}
     },
     "1a6f3263f5734f2e90224a5d072529b4": {
      "model_module": "@jupyter-widgets/controls",
      "model_module_version": "1.5.0",
      "model_name": "HBoxModel",
      "state": {
       "children": [
        "IPY_MODEL_3dc72872368e46df9e9f97f6e7253250"
       ],
       "layout": "IPY_MODEL_e86ee6fbb7344e379b6c46131bb6c705"
      }
     },
     "1a8ca04f26564426b95afc3a5b73f1b3": {
      "model_module": "@jupyter-widgets/base",
      "model_module_version": "1.2.0",
      "model_name": "LayoutModel",
      "state": {}
     },
     "1b27de9e26464229b99bbfa614e5569b": {
      "model_module": "@jupyter-widgets/controls",
      "model_module_version": "1.5.0",
      "model_name": "VBoxModel",
      "state": {
       "children": [
        "IPY_MODEL_bbae172ec63549699939eb6ae1454d53",
        "IPY_MODEL_f3f2103fa3df4d44bf4322bace81514b",
        "IPY_MODEL_6e74eb0f40174884a211adca39b94c67",
        "IPY_MODEL_cd33f81a39ac46e78c66491c5006a801",
        "IPY_MODEL_678942322f4d484c8ca6b89e8129cbf8",
        "IPY_MODEL_6998a83e9ceb4a44bef88270611968f2",
        "IPY_MODEL_49d47aefaa714af697e84dd9f21b6d9c",
        "IPY_MODEL_2e6763187194467ab441f65ad21dc7e7"
       ],
       "layout": "IPY_MODEL_d1f50320d78f414bb2a23c60fda917ed"
      }
     },
     "1b340b02fb614dcfafd88389eefede42": {
      "model_module": "@jupyter-widgets/base",
      "model_module_version": "1.2.0",
      "model_name": "LayoutModel",
      "state": {
       "align_items": "stretch",
       "display": "flex",
       "flex_flow": "row",
       "grid_auto_columns": "True",
       "justify_content": "flex-start",
       "width": "80%"
      }
     },
     "1b6dcbb9b31845e4b9d84a583b41149b": {
      "model_module": "@jupyter-widgets/base",
      "model_module_version": "1.2.0",
      "model_name": "LayoutModel",
      "state": {
       "align_items": "stretch",
       "display": "flex",
       "flex_flow": "row",
       "grid_auto_columns": "True",
       "justify_content": "flex-start",
       "width": "80%"
      }
     },
     "1bd71f2eac604342a1e534a4fe8b8297": {
      "model_module": "@jupyter-widgets/output",
      "model_module_version": "1.0.0",
      "model_name": "OutputModel",
      "state": {
       "layout": "IPY_MODEL_fa8b576d5b5a4e429a19582104b0d9c8"
      }
     },
     "1ca147cedb4b4a3f980daf74c8388667": {
      "model_module": "@jupyter-widgets/base",
      "model_module_version": "1.2.0",
      "model_name": "LayoutModel",
      "state": {}
     },
     "1cd9378fc98b45abb639ec6fcec1d4f1": {
      "model_module": "@jupyter-widgets/controls",
      "model_module_version": "1.5.0",
      "model_name": "DescriptionStyleModel",
      "state": {
       "description_width": ""
      }
     },
     "1ceda26c87b345f9a189ed39872d26f9": {
      "model_module": "@jupyter-widgets/base",
      "model_module_version": "1.2.0",
      "model_name": "LayoutModel",
      "state": {}
     },
     "1d15e0bb51dc43b1b97687701fa9ec29": {
      "model_module": "@jupyter-widgets/base",
      "model_module_version": "1.2.0",
      "model_name": "LayoutModel",
      "state": {}
     },
     "1d44a22a4a164e4fa7e4049794f9f317": {
      "model_module": "@jupyter-widgets/controls",
      "model_module_version": "1.5.0",
      "model_name": "DescriptionStyleModel",
      "state": {
       "description_width": ""
      }
     },
     "1d5eb1b5f48e40eb8d4de7df9bbc1889": {
      "model_module": "@jupyter-widgets/base",
      "model_module_version": "1.2.0",
      "model_name": "LayoutModel",
      "state": {
       "align_items": "stretch",
       "width": "100%"
      }
     },
     "1d6e9afbdad9497d8acf435ea3a374ee": {
      "model_module": "@jupyter-widgets/base",
      "model_module_version": "1.2.0",
      "model_name": "LayoutModel",
      "state": {}
     },
     "1d85f15befc34e708c42acbc4e70f05c": {
      "model_module": "@jupyter-widgets/base",
      "model_module_version": "1.2.0",
      "model_name": "LayoutModel",
      "state": {
       "align_items": "stretch",
       "display": "flex",
       "flex_flow": "row",
       "grid_auto_columns": "True",
       "justify_content": "flex-start",
       "width": "80%"
      }
     },
     "1d8c8e9e6a8d46aeb17d0e9c661bde9d": {
      "model_module": "@jupyter-widgets/base",
      "model_module_version": "1.2.0",
      "model_name": "LayoutModel",
      "state": {
       "align_items": "stretch",
       "display": "flex",
       "flex_flow": "row",
       "grid_auto_columns": "True",
       "justify_content": "flex-start",
       "width": "80%"
      }
     },
     "1dc98da627474bf7ac2b9ed19d0acb3a": {
      "model_module": "@jupyter-widgets/controls",
      "model_module_version": "1.5.0",
      "model_name": "HBoxModel",
      "state": {
       "children": [
        "IPY_MODEL_eb5f2c184b7c4fbfa9b320526edfbe37",
        "IPY_MODEL_2255818249a440a78e517fddee9d10da"
       ],
       "layout": "IPY_MODEL_d077c4157439496da635a4b1b1a85829"
      }
     },
     "1de44bffd1aa432d9fe95cae01673426": {
      "model_module": "@jupyter-widgets/base",
      "model_module_version": "1.2.0",
      "model_name": "LayoutModel",
      "state": {}
     },
     "1dec5e6348064552bbb7d1f3fd9ac422": {
      "model_module": "@jupyter-widgets/base",
      "model_module_version": "1.2.0",
      "model_name": "LayoutModel",
      "state": {}
     },
     "1e167c37718441cca6f77d23dc4f1f1c": {
      "model_module": "@jupyter-widgets/controls",
      "model_module_version": "1.5.0",
      "model_name": "ButtonModel",
      "state": {
       "button_style": "warning",
       "description": "revert to last save",
       "layout": "IPY_MODEL_281ee23d96244caebeec2a8bd7cd31fe",
       "style": "IPY_MODEL_073ff92a8ffd4b019235c339228c371d"
      }
     },
     "1e271885fcd84553b80b5cf8a8f324f0": {
      "model_module": "@jupyter-widgets/controls",
      "model_module_version": "1.5.0",
      "model_name": "DescriptionStyleModel",
      "state": {
       "description_width": ""
      }
     },
     "1eb00dc2d543486d8fce35b99936593a": {
      "model_module": "@jupyter-widgets/controls",
      "model_module_version": "1.5.0",
      "model_name": "HBoxModel",
      "state": {
       "children": [
        "IPY_MODEL_908228476da94002aca8c9f0e40d590b",
        "IPY_MODEL_cd79ca08100542eaa2229bff415005db"
       ],
       "layout": "IPY_MODEL_370d7abd4b5f41aabf71df34165010a7"
      }
     },
     "1eb293d04a6b4dfabb20bf2d6737aa1b": {
      "model_module": "@jupyter-widgets/controls",
      "model_module_version": "1.5.0",
      "model_name": "DescriptionStyleModel",
      "state": {
       "description_width": ""
      }
     },
     "1eb7b0a09aa6460a8ab1bd23d9601ab1": {
      "model_module": "@jupyter-widgets/controls",
      "model_module_version": "1.5.0",
      "model_name": "HBoxModel",
      "state": {
       "children": [
        "IPY_MODEL_d2e102bab8b8401f9bdb5550c3bd123e",
        "IPY_MODEL_cc9a1231be7546368f9ae02ccb7e3f6f"
       ],
       "layout": "IPY_MODEL_23afe93334964ad0868726c733bb470d"
      }
     },
     "1edd11315dbd4630bee4caa31c8da666": {
      "model_module": "@jupyter-widgets/controls",
      "model_module_version": "1.5.0",
      "model_name": "DescriptionStyleModel",
      "state": {
       "description_width": ""
      }
     },
     "1f2ebb8671704c5a93f7c211870dfcd0": {
      "model_module": "@jupyter-widgets/base",
      "model_module_version": "1.2.0",
      "model_name": "LayoutModel",
      "state": {}
     },
     "1f630a893c5d4bcfb1e356d7736fcf88": {
      "model_module": "@jupyter-widgets/controls",
      "model_module_version": "1.5.0",
      "model_name": "ButtonModel",
      "state": {
       "description": "save",
       "layout": "IPY_MODEL_b78da30d62944f87b41e017342b82481",
       "style": "IPY_MODEL_8c32e4c595004c2ea099087690ed059a"
      }
     },
     "1f85fcd4ad3845e4b41df81285e83a30": {
      "model_module": "@jupyter-widgets/output",
      "model_module_version": "1.0.0",
      "model_name": "OutputModel",
      "state": {
       "layout": "IPY_MODEL_386320a582594b58922eb0b647442dcd"
      }
     },
     "1fa966fe7c7d44bfb9bb97bbf7ebd591": {
      "model_module": "@jupyter-widgets/controls",
      "model_module_version": "1.5.0",
      "model_name": "HBoxModel",
      "state": {
       "children": [
        "IPY_MODEL_b4978d510af240ca92a46829bd040e9e"
       ],
       "layout": "IPY_MODEL_6afa96279d114559b3f4bcec7ef1d6e0"
      }
     },
     "1fb17221505240b588a028725acca170": {
      "model_module": "@jupyter-widgets/controls",
      "model_module_version": "1.5.0",
      "model_name": "SelectMultipleModel",
      "state": {
       "_options_labels": [
        "asfd",
        "10",
        "asdf"
       ],
       "index": [
        1
       ],
       "layout": "IPY_MODEL_c1867b3cabb14b638c09e59efc41f98a",
       "rows": 5,
       "style": "IPY_MODEL_b1e38eed0398447fa25cef6254fb50bb"
      }
     },
     "1fcb5e32e4d24f9ebc2fb45c7144b0b0": {
      "model_module": "@jupyter-widgets/base",
      "model_module_version": "1.2.0",
      "model_name": "LayoutModel",
      "state": {}
     },
     "1ff16ffa2e76424e8bd7360b2f50c4e8": {
      "model_module": "@jupyter-widgets/controls",
      "model_module_version": "1.5.0",
      "model_name": "HBoxModel",
      "state": {
       "children": [
        "IPY_MODEL_85f4c3b0715e4637af48a437b9047025",
        "IPY_MODEL_3c50fceb84b1413295ac0e2f1607c75a"
       ],
       "layout": "IPY_MODEL_927cb46af9ac4514873279ce25a666e1"
      }
     },
     "204419ae218b4b679738c0b9a55ab5d3": {
      "model_module": "@jupyter-widgets/controls",
      "model_module_version": "1.5.0",
      "model_name": "HBoxModel",
      "state": {
       "children": [
        "IPY_MODEL_55349ce0d94b470cb2d13e9106fb54a7",
        "IPY_MODEL_a13104739ad14fd6811e74592986e190"
       ],
       "layout": "IPY_MODEL_1745b9cd895340959148fe8e7b4fbce3"
      }
     },
     "207021a096974e2b97b4b3da52c05ae2": {
      "model_module": "@jupyter-widgets/base",
      "model_module_version": "1.2.0",
      "model_name": "LayoutModel",
      "state": {}
     },
     "20837cb2bae048ab9380b51f37f947c5": {
      "model_module": "@jupyter-widgets/base",
      "model_module_version": "1.2.0",
      "model_name": "LayoutModel",
      "state": {}
     },
     "20b71854cbac4ecfa4ccd568285468df": {
      "model_module": "@jupyter-widgets/controls",
      "model_module_version": "1.5.0",
      "model_name": "ButtonModel",
      "state": {
       "description": "load",
       "icon": "upload",
       "layout": "IPY_MODEL_7d08f9f9f60f42b7ac5b36d646a1abc3",
       "style": "IPY_MODEL_3aff337322a74327aea3879ccb3e2c81"
      }
     },
     "2133b8697e8549509f3254baa3287224": {
      "model_module": "@jupyter-widgets/base",
      "model_module_version": "1.2.0",
      "model_name": "LayoutModel",
      "state": {}
     },
     "214764f514bc42239734f7e7a7dadf79": {
      "model_module": "@jupyter-widgets/base",
      "model_module_version": "1.2.0",
      "model_name": "LayoutModel",
      "state": {
       "align_items": "stretch",
       "display": "flex",
       "flex_flow": "row",
       "grid_auto_columns": "True",
       "justify_content": "flex-end",
       "width": "90%"
      }
     },
     "216843c31191437f8403a89f7a66004d": {
      "model_module": "@jupyter-widgets/base",
      "model_module_version": "1.2.0",
      "model_name": "LayoutModel",
      "state": {}
     },
     "21739764550f412fb2962e6c984f3e1d": {
      "model_module": "@jupyter-widgets/controls",
      "model_module_version": "1.5.0",
      "model_name": "DescriptionStyleModel",
      "state": {
       "description_width": ""
      }
     },
     "219be7b9ba1e4362bda3a43cc5d918e8": {
      "model_module": "@jupyter-widgets/controls",
      "model_module_version": "1.5.0",
      "model_name": "HTMLModel",
      "state": {
       "layout": "IPY_MODEL_92da6a76ba9d4564bfe56c3972c27cde",
       "style": "IPY_MODEL_ae388e490ea24197b5b2382be4720f22",
       "value": "<p>fpth_in</p>"
      }
     },
     "21a5223f40e843c5854fe325b72e586f": {
      "model_module": "@jupyter-widgets/controls",
      "model_module_version": "1.5.0",
      "model_name": "HTMLModel",
      "state": {
       "layout": "IPY_MODEL_c7cfd722d4c341508edb6d3b8fbb2b7e",
       "style": "IPY_MODEL_ee563055dca14bce9a677d9f55ef70ac",
       "value": "<p>fpth_in</p>"
      }
     },
     "21a7e174472f425b9aa7da02e839cd57": {
      "model_module": "@jupyter-widgets/base",
      "model_module_version": "1.2.0",
      "model_name": "LayoutModel",
      "state": {
       "display": "flex",
       "flex_flow": "row",
       "grid_auto_columns": "False",
       "justify_content": "flex-start",
       "width": "100%"
      }
     },
     "21b9c20856624b68a8b815c49851d2e7": {
      "model_module": "@jupyter-widgets/base",
      "model_module_version": "1.2.0",
      "model_name": "LayoutModel",
      "state": {}
     },
     "21db6d2709b34640b68cf8e01272a093": {
      "model_module": "@jupyter-widgets/controls",
      "model_module_version": "1.5.0",
      "model_name": "HTMLModel",
      "state": {
       "layout": "IPY_MODEL_66ba641d953e417888f55b4d9b255bd9",
       "style": "IPY_MODEL_77ee9b1d210f493e96780ad9e61e9a3f",
       "value": "<p>its a foo cake</p>"
      }
     },
     "2245874031e24aef88f18af2bb7904c1": {
      "model_module": "@jupyter-widgets/controls",
      "model_module_version": "1.5.0",
      "model_name": "DescriptionStyleModel",
      "state": {
       "description_width": ""
      }
     },
     "225492307b5f42688026a0d894d5e735": {
      "model_module": "@jupyter-widgets/base",
      "model_module_version": "1.2.0",
      "model_name": "LayoutModel",
      "state": {
       "align_items": "stretch",
       "display": "flex",
       "flex_flow": "row",
       "grid_auto_columns": "True",
       "justify_content": "flex-end",
       "width": "90%"
      }
     },
     "2255818249a440a78e517fddee9d10da": {
      "model_module": "@jupyter-widgets/controls",
      "model_module_version": "1.5.0",
      "model_name": "HTMLModel",
      "state": {
       "layout": "IPY_MODEL_9ae923996eca45ce9c85429001ce7909",
       "style": "IPY_MODEL_6573ecb278c147d390d90b2faf873764",
       "value": "<p>its a foo cake</p>"
      }
     },
     "22757f7597074b30a08c924b864ccc19": {
      "model_module": "@jupyter-widgets/controls",
      "model_module_version": "1.5.0",
      "model_name": "HTMLModel",
      "state": {
       "layout": "IPY_MODEL_cd27b67f085d424e854d0fedb6a685f8",
       "style": "IPY_MODEL_85209004e7b24b6494ee8dc7b5270500",
       "value": "<p>defines the logic of the space naming. use default value where practical.</p>"
      }
     },
     "2282dc7e87204883a99692c94f2378fa": {
      "model_module": "@jupyter-widgets/controls",
      "model_module_version": "1.5.0",
      "model_name": "DescriptionStyleModel",
      "state": {
       "description_width": ""
      }
     },
     "22a0d287661343dcb33aef865c82d2b4": {
      "model_module": "@jupyter-widgets/controls",
      "model_module_version": "1.5.0",
      "model_name": "DescriptionStyleModel",
      "state": {
       "description_width": ""
      }
     },
     "22e6797137ed4e8395c56483bba6acd7": {
      "model_module": "@jupyter-widgets/base",
      "model_module_version": "1.2.0",
      "model_name": "LayoutModel",
      "state": {
       "width": "5%"
      }
     },
     "230f108eb7144b8da16ef9e861687d84": {
      "model_module": "@jupyter-widgets/controls",
      "model_module_version": "1.5.0",
      "model_name": "HBoxModel",
      "state": {
       "children": [
        "IPY_MODEL_322167ca728e4fdba5bc8335f58eac7b",
        "IPY_MODEL_e70a98ce280b46dabd9d57a0855106bd"
       ],
       "layout": "IPY_MODEL_0eb9ee83181c4381b26d5441b6867aa2"
      }
     },
     "230f689ed26745c2b1bba21a6fc1226b": {
      "model_module": "@jupyter-widgets/base",
      "model_module_version": "1.2.0",
      "model_name": "LayoutModel",
      "state": {}
     },
     "2329978e701d4cfaa94da9900e386cea": {
      "model_module": "@jupyter-widgets/controls",
      "model_module_version": "1.5.0",
      "model_name": "SelectMultipleModel",
      "state": {
       "_options_labels": [
        "C:\\engDev\\git_mf\\ipyrun\\data\\raw\\gbxml.xml",
        "C:\\engDev\\git_mf\\ipyrun\\data\\interim\\gbjson.json",
        "C:\\engDev\\git_mf\\ipyrun\\data\\processed\\gbxml_datagrab.xlsx",
        "C:\\engDev\\git_mf\\ipyrun\\data\\processed\\gbxml_spcs-treemap.png"
       ],
       "description": "outputs",
       "index": [],
       "layout": "IPY_MODEL_3935c004416a46ea97b585daeffce8b8",
       "rows": 4,
       "style": "IPY_MODEL_ff5d67f7847c4d1e81402143f672113c"
      }
     },
     "23947c8da04c4235afb2fa3f4f43626a": {
      "model_module": "@jupyter-widgets/controls",
      "model_module_version": "1.5.0",
      "model_name": "HBoxModel",
      "state": {
       "children": [
        "IPY_MODEL_3580f943dc1c4ca28ca67db779aeed57",
        "IPY_MODEL_1e167c37718441cca6f77d23dc4f1f1c",
        "IPY_MODEL_ce8b40602f174138a8b379cee3c76961"
       ],
       "layout": "IPY_MODEL_ecff5da4c828491085b1d0eb02fc0b97"
      }
     },
     "2395e0b5b3584a29aa55cbb0200c7231": {
      "model_module": "@jupyter-widgets/controls",
      "model_module_version": "1.5.0",
      "model_name": "DropdownModel",
      "state": {
       "_options_labels": [
        "asfd",
        "10",
        "asdf"
       ],
       "index": 1,
       "layout": "IPY_MODEL_230f689ed26745c2b1bba21a6fc1226b",
       "style": "IPY_MODEL_8a089272bb004d2a906c7a890df86892"
      }
     },
     "23afe93334964ad0868726c733bb470d": {
      "model_module": "@jupyter-widgets/base",
      "model_module_version": "1.2.0",
      "model_name": "LayoutModel",
      "state": {
       "align_items": "stretch",
       "display": "flex",
       "flex_flow": "row",
       "grid_auto_columns": "True",
       "justify_content": "flex-end",
       "width": "90%"
      }
     },
     "23ba2fbe97eb4c95b73b460881a580d7": {
      "model_module": "@jupyter-widgets/controls",
      "model_module_version": "1.5.0",
      "model_name": "DescriptionStyleModel",
      "state": {
       "description_width": ""
      }
     },
     "23d75bd4f469484b841856c93b07b047": {
      "model_module": "@jupyter-widgets/base",
      "model_module_version": "1.2.0",
      "model_name": "LayoutModel",
      "state": {}
     },
     "23e6dd38a08949588ee977cfdf04e534": {
      "model_module": "@jupyter-widgets/base",
      "model_module_version": "1.2.0",
      "model_name": "LayoutModel",
      "state": {}
     },
     "24308cb7ea5347d0b284ec0daff9e6ba": {
      "model_module": "@jupyter-widgets/controls",
      "model_module_version": "1.5.0",
      "model_name": "HBoxModel",
      "state": {
       "children": [
        "IPY_MODEL_1893c4d81ef74312bb6fb8124c8169d1"
       ],
       "layout": "IPY_MODEL_57d9ecd2577c4df58c9fbcde5c86d764"
      }
     },
     "243c6150a38b4151b1e4a902d109bc44": {
      "model_module": "@jupyter-widgets/base",
      "model_module_version": "1.2.0",
      "model_name": "LayoutModel",
      "state": {}
     },
     "244b2aecd7794d97a206edc7955c0374": {
      "model_module": "@jupyter-widgets/controls",
      "model_module_version": "1.5.0",
      "model_name": "DescriptionStyleModel",
      "state": {
       "description_width": ""
      }
     },
     "2452df9592fd48549df0cfb8b6b78486": {
      "model_module": "@jupyter-widgets/controls",
      "model_module_version": "1.5.0",
      "model_name": "HTMLModel",
      "state": {
       "layout": "IPY_MODEL_c652bd5259aa417cb55b03af3b9ef710",
       "style": "IPY_MODEL_88cdfec3636b4b0b8f77bb4b14922d7e",
       "value": "<p>edit user input form below</p>"
      }
     },
     "249dece1775749039950a658a48621a8": {
      "model_module": "@jupyter-widgets/base",
      "model_module_version": "1.2.0",
      "model_name": "LayoutModel",
      "state": {
       "align_items": "stretch",
       "border": "dashed 0.2px green",
       "display": "flex",
       "flex_flow": "row",
       "grid_auto_columns": "True",
       "justify_content": "flex-start",
       "width": "100%"
      }
     },
     "252cd85d74234feb84c653e8a9880ace": {
      "model_module": "@jupyter-widgets/controls",
      "model_module_version": "1.5.0",
      "model_name": "DescriptionStyleModel",
      "state": {
       "description_width": ""
      }
     },
     "256e4cac2c3546acbf41f7fd7ecb6b4e": {
      "model_module": "@jupyter-widgets/controls",
      "model_module_version": "1.5.0",
      "model_name": "HBoxModel",
      "state": {
       "children": [
        "IPY_MODEL_35eb0b7f5a774b669dffd7d93d33f024",
        "IPY_MODEL_8d47866c45cf4071a075be3b246a7597"
       ],
       "layout": "IPY_MODEL_88409358568a499d870c47b07d4f9adf"
      }
     },
     "25acf58351314a5f861a9149bfba12eb": {
      "model_module": "@jupyter-widgets/controls",
      "model_module_version": "1.5.0",
      "model_name": "ButtonStyleModel",
      "state": {}
     },
     "25c0237d4cb743a1b6ef5a700b1e004a": {
      "model_module": "@jupyter-widgets/base",
      "model_module_version": "1.2.0",
      "model_name": "LayoutModel",
      "state": {
       "align_items": "stretch",
       "display": "flex",
       "flex_flow": "row",
       "grid_auto_columns": "True",
       "justify_content": "flex-end",
       "width": "90%"
      }
     },
     "25c6708d90c24bb096f49b1644d035f9": {
      "model_module": "@jupyter-widgets/base",
      "model_module_version": "1.2.0",
      "model_name": "LayoutModel",
      "state": {}
     },
     "25d9e20f06664e5392ce6fa271cbd524": {
      "model_module": "@jupyter-widgets/controls",
      "model_module_version": "1.5.0",
      "model_name": "DescriptionStyleModel",
      "state": {
       "description_width": ""
      }
     },
     "2619f63aa2df433db1f47a3753805e4a": {
      "model_module": "@jupyter-widgets/base",
      "model_module_version": "1.2.0",
      "model_name": "LayoutModel",
      "state": {}
     },
     "262a9d6173a04f2dacc11c8f4dd003cc": {
      "model_module": "@jupyter-widgets/controls",
      "model_module_version": "1.5.0",
      "model_name": "DescriptionStyleModel",
      "state": {
       "description_width": ""
      }
     },
     "26305f3fe7074427b7d04fdb2b4f3e43": {
      "model_module": "@jupyter-widgets/base",
      "model_module_version": "1.2.0",
      "model_name": "LayoutModel",
      "state": {}
     },
     "26c1aca4ee584e08b0ac27b9be4f3ba6": {
      "model_module": "@jupyter-widgets/base",
      "model_module_version": "1.2.0",
      "model_name": "LayoutModel",
      "state": {}
     },
     "26dc918527bb4f11bb7307305d100fc3": {
      "model_module": "@jupyter-widgets/controls",
      "model_module_version": "1.5.0",
      "model_name": "DescriptionStyleModel",
      "state": {
       "description_width": ""
      }
     },
     "26ebf441b7674456807eb4051573c62b": {
      "model_module": "@jupyter-widgets/controls",
      "model_module_version": "1.5.0",
      "model_name": "DescriptionStyleModel",
      "state": {
       "description_width": ""
      }
     },
     "2711ef5f42d44048be5b7c1f90ef6938": {
      "model_module": "@jupyter-widgets/controls",
      "model_module_version": "1.5.0",
      "model_name": "HBoxModel",
      "state": {
       "children": [
        "IPY_MODEL_794086b1dd694c128a2439056b096e79",
        "IPY_MODEL_2fb80d5e2bff43de9197e6fbf7d5810f"
       ],
       "layout": "IPY_MODEL_53867cc1a1c44deb8ad7bdec5cd6e60f"
      }
     },
     "27177658844a40e58b08a3559ae989fb": {
      "model_module": "@jupyter-widgets/controls",
      "model_module_version": "1.5.0",
      "model_name": "HBoxModel",
      "state": {
       "children": [
        "IPY_MODEL_ce98b8fa97984a339ebab3500623fd6e"
       ],
       "layout": "IPY_MODEL_a5fcdd09c6e74d72859ee2dd58f7cda6"
      }
     },
     "273ddcfd826e43b984f184461a8abd16": {
      "model_module": "@jupyter-widgets/controls",
      "model_module_version": "1.5.0",
      "model_name": "DescriptionStyleModel",
      "state": {
       "description_width": ""
      }
     },
     "274ee1ff15054c1a932e2d7118c7993c": {
      "model_module": "@jupyter-widgets/base",
      "model_module_version": "1.2.0",
      "model_name": "LayoutModel",
      "state": {}
     },
     "27a80b413f5a464c8aa57ce51b5b24ec": {
      "model_module": "@jupyter-widgets/base",
      "model_module_version": "1.2.0",
      "model_name": "LayoutModel",
      "state": {
       "align_items": "stretch",
       "display": "flex",
       "flex_flow": "row",
       "grid_auto_columns": "True",
       "justify_content": "flex-end",
       "width": "90%"
      }
     },
     "27b1f6091801480c955fc8b89a9ca56f": {
      "model_module": "@jupyter-widgets/controls",
      "model_module_version": "1.5.0",
      "model_name": "CheckboxModel",
      "state": {
       "disabled": false,
       "layout": "IPY_MODEL_b40d6d579e6e43dcab72cde2af106ae4",
       "style": "IPY_MODEL_8cb836fa14d14bd19292e82f8b2e4aa1",
       "value": true
      }
     },
     "27ca141afd284adcb0598696475547e9": {
      "model_module": "@jupyter-widgets/base",
      "model_module_version": "1.2.0",
      "model_name": "LayoutModel",
      "state": {}
     },
     "27ccf6455271443d9b5d8f12c1edbf17": {
      "model_module": "@jupyter-widgets/base",
      "model_module_version": "1.2.0",
      "model_name": "LayoutModel",
      "state": {}
     },
     "27fdf0a9b50342d38a5de6f863f05c9c": {
      "model_module": "@jupyter-widgets/base",
      "model_module_version": "1.2.0",
      "model_name": "LayoutModel",
      "state": {
       "align_items": "stretch",
       "border": "dashed 0.2px green",
       "display": "flex",
       "flex_flow": "row",
       "grid_auto_columns": "True",
       "justify_content": "flex-start",
       "width": "100%"
      }
     },
     "2810e9d139a24426b47c11bf2ff82470": {
      "model_module": "@jupyter-widgets/base",
      "model_module_version": "1.2.0",
      "model_name": "LayoutModel",
      "state": {
       "width": "5%"
      }
     },
     "2817ee17b08441b7a760274cfbb31556": {
      "model_module": "@jupyter-widgets/controls",
      "model_module_version": "1.5.0",
      "model_name": "HTMLModel",
      "state": {
       "layout": "IPY_MODEL_8950bcfef082490d94bde7b6b283dea5",
       "style": "IPY_MODEL_0ec0375da2c84d5098ea90494c29b3af",
       "value": "<p>name</p>"
      }
     },
     "281ee23d96244caebeec2a8bd7cd31fe": {
      "model_module": "@jupyter-widgets/base",
      "model_module_version": "1.2.0",
      "model_name": "LayoutModel",
      "state": {}
     },
     "287e823a282a46438928d9c1dbbed18f": {
      "model_module": "@jupyter-widgets/controls",
      "model_module_version": "1.5.0",
      "model_name": "DescriptionStyleModel",
      "state": {
       "description_width": ""
      }
     },
     "289a2023513e479c91806705892e03bc": {
      "model_module": "@jupyter-widgets/controls",
      "model_module_version": "1.5.0",
      "model_name": "DescriptionStyleModel",
      "state": {
       "description_width": ""
      }
     },
     "29543e2909264b8c96532c2e9f57f709": {
      "model_module": "@jupyter-widgets/base",
      "model_module_version": "1.2.0",
      "model_name": "LayoutModel",
      "state": {}
     },
     "2962375f96d44b40980c4056c0b39759": {
      "model_module": "@jupyter-widgets/base",
      "model_module_version": "1.2.0",
      "model_name": "LayoutModel",
      "state": {}
     },
     "296a4cf1eb804fa5b3864bfef511e894": {
      "model_module": "@jupyter-widgets/base",
      "model_module_version": "1.2.0",
      "model_name": "LayoutModel",
      "state": {}
     },
     "29801009411e436aa58efa2ffbfbd219": {
      "model_module": "@jupyter-widgets/controls",
      "model_module_version": "1.5.0",
      "model_name": "HBoxModel",
      "state": {
       "children": [
        "IPY_MODEL_32fa251abc8d421a8b61ebb9ec433b16"
       ],
       "layout": "IPY_MODEL_eb5cbd08b4344212b0e0908f750bf69a"
      }
     },
     "29c0a3104ba14336a651b1fbb0857889": {
      "model_module": "@jupyter-widgets/controls",
      "model_module_version": "1.5.0",
      "model_name": "ToggleButtonModel",
      "state": {
       "icon": "arrow-down",
       "layout": "IPY_MODEL_4f0fe969e5b64981b6b45823c3628354",
       "style": "IPY_MODEL_d95d361c0f51412fbabf2b197ab832ed"
      }
     },
     "29cafb0fc4844078b015ae6a105a2233": {
      "model_module": "@jupyter-widgets/output",
      "model_module_version": "1.0.0",
      "model_name": "OutputModel",
      "state": {
       "layout": "IPY_MODEL_60dca57a9bbc4fde96621ae19ab61a19"
      }
     },
     "29e09847b0b740638a16f77ce37f32fb": {
      "model_module": "@jupyter-widgets/base",
      "model_module_version": "1.2.0",
      "model_name": "LayoutModel",
      "state": {}
     },
     "29eceb5ec90844d8afdc712cf035ed0c": {
      "model_module": "@jupyter-widgets/controls",
      "model_module_version": "1.5.0",
      "model_name": "HBoxModel",
      "state": {
       "children": [
        "IPY_MODEL_09d2aa2c39494140b509e84060d7d478",
        "IPY_MODEL_b5910f33582a442ea9103a7323a72617"
       ],
       "layout": "IPY_MODEL_35e07f6882e34b25af3ea4460eef911e"
      }
     },
     "2a40503f911a442fbe87b369b7c0b36f": {
      "model_module": "@jupyter-widgets/controls",
      "model_module_version": "1.5.0",
      "model_name": "ButtonStyleModel",
      "state": {
       "font_weight": "bold"
      }
     },
     "2a4189e6fbf04dfc88c0e9b3c348779d": {
      "model_module": "@jupyter-widgets/base",
      "model_module_version": "1.2.0",
      "model_name": "LayoutModel",
      "state": {
       "align_items": "stretch",
       "display": "flex",
       "flex_flow": "row",
       "grid_auto_columns": "True",
       "justify_content": "flex-start",
       "width": "80%"
      }
     },
     "2a54c071967049f8ac88ce31653d2eed": {
      "model_module": "@jupyter-widgets/base",
      "model_module_version": "1.2.0",
      "model_name": "LayoutModel",
      "state": {
       "border": "solid 1px #BBBBBB",
       "padding": "0px 10px 0px 10px"
      }
     },
     "2ab6e63892a74f419ae8410e7b008191": {
      "model_module": "@jupyter-widgets/base",
      "model_module_version": "1.2.0",
      "model_name": "LayoutModel",
      "state": {}
     },
     "2adbb09228254b72b979a3319f747f0f": {
      "model_module": "@jupyter-widgets/controls",
      "model_module_version": "1.5.0",
      "model_name": "HBoxModel",
      "state": {
       "children": [
        "IPY_MODEL_7f841c1782b74bec86add8678f4ef447",
        "IPY_MODEL_2fede26da4014f95b393b858f7a1d6c8"
       ],
       "layout": "IPY_MODEL_34ace7bf32fb47e7a5f4f9b6fc9a06b8"
      }
     },
     "2ae156f49db74d2e8e01296e633113ac": {
      "model_module": "@jupyter-widgets/base",
      "model_module_version": "1.2.0",
      "model_name": "LayoutModel",
      "state": {
       "border": "solid 1px #BBBBBB",
       "padding": "0px 10px 0px 10px"
      }
     },
     "2aea0eeb608f429ca25ca330bc24b559": {
      "model_module": "@jupyter-widgets/controls",
      "model_module_version": "1.5.0",
      "model_name": "CheckboxModel",
      "state": {
       "disabled": false,
       "layout": "IPY_MODEL_730601c01e424907bb30291f829f2fce",
       "style": "IPY_MODEL_3997656e6207482badc725c6a2bb191f",
       "value": false
      }
     },
     "2af49f3411684c43b05b2b1098e8c48e": {
      "model_module": "@jupyter-widgets/controls",
      "model_module_version": "1.5.0",
      "model_name": "HBoxModel",
      "state": {
       "children": [
        "IPY_MODEL_91c4e8d72f2a44e7be50189f1311ddb3"
       ],
       "layout": "IPY_MODEL_b58f63c266f4475c8e0a7295f460767d"
      }
     },
     "2afb20a95e9349ffaa888668b95ffb68": {
      "model_module": "@jupyter-widgets/output",
      "model_module_version": "1.0.0",
      "model_name": "OutputModel",
      "state": {
       "layout": "IPY_MODEL_5662408860204b67af83b2016ef4c6db"
      }
     },
     "2b111e68b37b4dadb7d6957a09f83327": {
      "model_module": "@jupyter-widgets/controls",
      "model_module_version": "1.5.0",
      "model_name": "HBoxModel",
      "state": {
       "children": [
        "IPY_MODEL_81abcc17095e419c845f9c0d0ca7b91b"
       ],
       "layout": "IPY_MODEL_fcc2a5ec2983462fb1f11e0f53bae36c"
      }
     },
     "2b46f6ad8bc7487899adf0a210c41fd1": {
      "model_module": "@jupyter-widgets/base",
      "model_module_version": "1.2.0",
      "model_name": "LayoutModel",
      "state": {
       "align_items": "stretch",
       "display": "flex",
       "flex_flow": "row",
       "grid_auto_columns": "True",
       "justify_content": "flex-start",
       "width": "80%"
      }
     },
     "2b472a771f3b4e75b868d7d76379bb1d": {
      "model_module": "@jupyter-widgets/base",
      "model_module_version": "1.2.0",
      "model_name": "LayoutModel",
      "state": {}
     },
     "2b947642e2254c0b8b3bc8f4314f4950": {
      "model_module": "@jupyter-widgets/base",
      "model_module_version": "1.2.0",
      "model_name": "LayoutModel",
      "state": {}
     },
     "2bb06819b5024387bc636196d8cfa4aa": {
      "model_module": "@jupyter-widgets/controls",
      "model_module_version": "1.5.0",
      "model_name": "HBoxModel",
      "state": {
       "children": [
        "IPY_MODEL_b6678a887ebc4a5f9bf705f813fe7c79",
        "IPY_MODEL_f289977a040f46228f5103879e6d541b"
       ],
       "layout": "IPY_MODEL_5ef3b208d1be4340987333ab96eb6a75"
      }
     },
     "2bc3ea94a3ac4845a083f248e123f934": {
      "model_module": "@jupyter-widgets/base",
      "model_module_version": "1.2.0",
      "model_name": "LayoutModel",
      "state": {}
     },
     "2c07444bc99b4c66834b72e4ada6c9fa": {
      "model_module": "@jupyter-widgets/base",
      "model_module_version": "1.2.0",
      "model_name": "LayoutModel",
      "state": {}
     },
     "2c655b1d075b4a56a264525be56b7242": {
      "model_module": "@jupyter-widgets/base",
      "model_module_version": "1.2.0",
      "model_name": "LayoutModel",
      "state": {
       "align_items": "stretch",
       "display": "flex",
       "flex_flow": "row",
       "grid_auto_columns": "True",
       "justify_content": "flex-end",
       "width": "90%"
      }
     },
     "2c6baeb20f20412b88ba5ea7d8c84079": {
      "model_module": "@jupyter-widgets/controls",
      "model_module_version": "1.5.0",
      "model_name": "SliderStyleModel",
      "state": {
       "description_width": ""
      }
     },
     "2c79ae282cc042bab991318c2adec518": {
      "model_module": "@jupyter-widgets/base",
      "model_module_version": "1.2.0",
      "model_name": "LayoutModel",
      "state": {}
     },
     "2d06878e6c2a4eb5b1d2ca2af1eacac4": {
      "model_module": "@jupyter-widgets/controls",
      "model_module_version": "1.5.0",
      "model_name": "DescriptionStyleModel",
      "state": {
       "description_width": ""
      }
     },
     "2d1b2b6a1cfa4363adb649722f846981": {
      "model_module": "@jupyter-widgets/base",
      "model_module_version": "1.2.0",
      "model_name": "LayoutModel",
      "state": {
       "align_items": "stretch",
       "border": "dashed 0.2px green",
       "display": "flex",
       "flex_flow": "row",
       "grid_auto_columns": "True",
       "justify_content": "flex-start",
       "width": "100%"
      }
     },
     "2d243411012d4be6997267c67bdf63b1": {
      "model_module": "@jupyter-widgets/base",
      "model_module_version": "1.2.0",
      "model_name": "LayoutModel",
      "state": {
       "border": "0px",
       "margin": "0px",
       "padding": "0px"
      }
     },
     "2d2d3d4b6a8d446dbf9effb1d3a4ab01": {
      "model_module": "@jupyter-widgets/base",
      "model_module_version": "1.2.0",
      "model_name": "LayoutModel",
      "state": {}
     },
     "2d4eca05badc43a782eeef45a33886ea": {
      "model_module": "@jupyter-widgets/controls",
      "model_module_version": "1.5.0",
      "model_name": "DescriptionStyleModel",
      "state": {
       "description_width": ""
      }
     },
     "2d55efd4d2954a299144c2a903f850ce": {
      "model_module": "@jupyter-widgets/base",
      "model_module_version": "1.2.0",
      "model_name": "LayoutModel",
      "state": {}
     },
     "2d5aae01adf04ff988293fd33d0bbbbf": {
      "model_module": "@jupyter-widgets/base",
      "model_module_version": "1.2.0",
      "model_name": "LayoutModel",
      "state": {}
     },
     "2d97733463664a3b919b9c02f2a4dcf1": {
      "model_module": "@jupyter-widgets/controls",
      "model_module_version": "1.5.0",
      "model_name": "HBoxModel",
      "state": {
       "children": [
        "IPY_MODEL_f19a105873a84496988dac658186f7f3",
        "IPY_MODEL_bad4d821d45a4260a77e01b1137a9849"
       ],
       "layout": "IPY_MODEL_f5bb64cbf21f4cf59d7c66f9e0c31cc7"
      }
     },
     "2dd3d3679ea84f0bbef03d1deaeeaeff": {
      "model_module": "@jupyter-widgets/base",
      "model_module_version": "1.2.0",
      "model_name": "LayoutModel",
      "state": {
       "align_items": "stretch",
       "display": "flex",
       "flex_flow": "row",
       "grid_auto_columns": "True",
       "justify_content": "flex-start",
       "width": "80%"
      }
     },
     "2ddf7fd089734c75a3898dc65786cf81": {
      "model_module": "@jupyter-widgets/base",
      "model_module_version": "1.2.0",
      "model_name": "LayoutModel",
      "state": {}
     },
     "2dfedcb80aea4cd6915dbd16fdbc1f05": {
      "model_module": "@jupyter-widgets/base",
      "model_module_version": "1.2.0",
      "model_name": "LayoutModel",
      "state": {
       "align_items": "stretch",
       "border": "dashed 0.2px green",
       "display": "flex",
       "flex_flow": "row",
       "grid_auto_columns": "True",
       "justify_content": "flex-start",
       "width": "100%"
      }
     },
     "2e23b036a6eb405aab037e1015176b66": {
      "model_module": "@jupyter-widgets/base",
      "model_module_version": "1.2.0",
      "model_name": "LayoutModel",
      "state": {}
     },
     "2e4a4788865a43c7850f85d13842d5f7": {
      "model_module": "@jupyter-widgets/base",
      "model_module_version": "1.2.0",
      "model_name": "LayoutModel",
      "state": {
       "align_items": "stretch",
       "display": "flex",
       "flex_flow": "row",
       "grid_auto_columns": "True",
       "justify_content": "flex-end",
       "width": "90%"
      }
     },
     "2e5f3905656842c59b7fffa7a5f1847d": {
      "model_module": "@jupyter-widgets/controls",
      "model_module_version": "1.5.0",
      "model_name": "DatePickerModel",
      "state": {
       "disabled": false,
       "layout": "IPY_MODEL_7d155dd77d4f48a2aaa5e9b0449855a6",
       "style": "IPY_MODEL_ddfd8f718aa64090bd6aa8a7c76e5272",
       "value": {
        "date": 29,
        "month": 5,
        "year": 2020
       }
      }
     },
     "2e6763187194467ab441f65ad21dc7e7": {
      "model_module": "@jupyter-widgets/controls",
      "model_module_version": "1.5.0",
      "model_name": "HBoxModel",
      "state": {
       "children": [
        "IPY_MODEL_6b9be7bf9e8d46d5b8e2bd493d64c167"
       ],
       "layout": "IPY_MODEL_be9feeaf5ae941cf8367ae7c274037f1"
      }
     },
     "2eb7fb0a7c944d3e83d21b5c1b5da716": {
      "model_module": "@jupyter-widgets/base",
      "model_module_version": "1.2.0",
      "model_name": "LayoutModel",
      "state": {}
     },
     "2eb98b601333447196cf875c7214c197": {
      "model_module": "@jupyter-widgets/base",
      "model_module_version": "1.2.0",
      "model_name": "LayoutModel",
      "state": {}
     },
     "2edd79a574b14143b82cbbd4c16a8931": {
      "model_module": "@jupyter-widgets/controls",
      "model_module_version": "1.5.0",
      "model_name": "VBoxModel",
      "state": {
       "layout": "IPY_MODEL_336d2a59141b4bc29180ba2cde2929f0"
      }
     },
     "2ee19eaf44374f2995af734a2fdc3317": {
      "model_module": "@jupyter-widgets/base",
      "model_module_version": "1.2.0",
      "model_name": "LayoutModel",
      "state": {}
     },
     "2f793a77c6074eccb4fee3d7b28641e6": {
      "model_module": "@jupyter-widgets/controls",
      "model_module_version": "1.5.0",
      "model_name": "HBoxModel",
      "state": {
       "children": [
        "IPY_MODEL_3f9639703c4b43ccb16d3e5cec24662d"
       ],
       "layout": "IPY_MODEL_c637651718db4cdc851fd45621890c40"
      }
     },
     "2f89b76093ad445f817aac31fc0aa960": {
      "model_module": "@jupyter-widgets/base",
      "model_module_version": "1.2.0",
      "model_name": "LayoutModel",
      "state": {}
     },
     "2faf0f923fbe48e1bc71a6c8b4aa74e1": {
      "model_module": "@jupyter-widgets/base",
      "model_module_version": "1.2.0",
      "model_name": "LayoutModel",
      "state": {
       "align_items": "stretch",
       "border": "dashed 0.2px green",
       "display": "flex",
       "flex_flow": "row",
       "grid_auto_columns": "True",
       "justify_content": "flex-start",
       "width": "100%"
      }
     },
     "2fb80d5e2bff43de9197e6fbf7d5810f": {
      "model_module": "@jupyter-widgets/controls",
      "model_module_version": "1.5.0",
      "model_name": "HTMLModel",
      "state": {
       "layout": "IPY_MODEL_c7519a8af97749638ad4dcb947a8fea0",
       "style": "IPY_MODEL_1eb293d04a6b4dfabb20bf2d6737aa1b",
       "value": "<p>its a foo cake</p>"
      }
     },
     "2fc2435aa4ac4fb1b1c66133b524a59d": {
      "model_module": "@jupyter-widgets/controls",
      "model_module_version": "1.5.0",
      "model_name": "DescriptionStyleModel",
      "state": {
       "description_width": ""
      }
     },
     "2fd341e4e0824a6ea895cd697d76125b": {
      "model_module": "@jupyter-widgets/controls",
      "model_module_version": "1.5.0",
      "model_name": "HBoxModel",
      "state": {
       "children": [
        "IPY_MODEL_883ea0caa0a649f4ac1bdb5b1b5c9cba"
       ],
       "layout": "IPY_MODEL_366e8f5d30da472591db77ab548029a0"
      }
     },
     "2fede26da4014f95b393b858f7a1d6c8": {
      "model_module": "@jupyter-widgets/controls",
      "model_module_version": "1.5.0",
      "model_name": "HTMLModel",
      "state": {
       "layout": "IPY_MODEL_b7cdaf4fd8c0492f9706c68214b4d33a",
       "style": "IPY_MODEL_11a6180c4b754183bddee17175c064f0",
       "value": "<p>its a foo cake</p>"
      }
     },
     "3022e22cfba34877b91d67e7c6ff1a3b": {
      "model_module": "@jupyter-widgets/base",
      "model_module_version": "1.2.0",
      "model_name": "LayoutModel",
      "state": {
       "align_items": "stretch",
       "display": "flex",
       "flex_flow": "row",
       "grid_auto_columns": "True",
       "justify_content": "flex-start",
       "width": "80%"
      }
     },
     "3029a02e54ff4d3fb0d22265678f12ca": {
      "model_module": "@jupyter-widgets/base",
      "model_module_version": "1.2.0",
      "model_name": "LayoutModel",
      "state": {
       "align_items": "stretch",
       "display": "flex",
       "flex_flow": "row",
       "grid_auto_columns": "True",
       "justify_content": "flex-start",
       "width": "80%"
      }
     },
     "304db6c530214fe09e8ccde882cc72bd": {
      "model_module": "@jupyter-widgets/output",
      "model_module_version": "1.0.0",
      "model_name": "OutputModel",
      "state": {
       "layout": "IPY_MODEL_461b6593eb994ace914f901e99192313"
      }
     },
     "3052344d1d404976a3608d198bb19ab0": {
      "model_module": "@jupyter-widgets/controls",
      "model_module_version": "1.5.0",
      "model_name": "ToggleButtonModel",
      "state": {
       "icon": "arrow-down",
       "layout": "IPY_MODEL_9a3aff6b595c437f8c39ddc761e12d86",
       "style": "IPY_MODEL_5003c11eb3d54a3b8c244d29c84b3f45"
      }
     },
     "3074c92644e04390a6b3e5b6c5536705": {
      "model_module": "@jupyter-widgets/base",
      "model_module_version": "1.2.0",
      "model_name": "LayoutModel",
      "state": {}
     },
     "308cd979424345de89eb87c46665f5ca": {
      "model_module": "@jupyter-widgets/controls",
      "model_module_version": "1.5.0",
      "model_name": "ButtonStyleModel",
      "state": {
       "font_weight": "bold"
      }
     },
     "308e6776424c492e9bcfed2fdc04489f": {
      "model_module": "@jupyter-widgets/controls",
      "model_module_version": "1.5.0",
      "model_name": "ButtonModel",
      "state": {
       "description": "load",
       "icon": "upload",
       "layout": "IPY_MODEL_8140d6b231f8413c901da21df7221b0b",
       "style": "IPY_MODEL_91b6f3292a6a4ec0ad6df2f17fac3e9d"
      }
     },
     "313112cbcb684120a7b4335ac000b6b3": {
      "model_module": "@jupyter-widgets/output",
      "model_module_version": "1.0.0",
      "model_name": "OutputModel",
      "state": {
       "layout": "IPY_MODEL_6acf3e38c30541c686dadf2ce4a6f45d"
      }
     },
     "314a645939b346f6a9df6ccf6c327148": {
      "model_module": "@jupyter-widgets/base",
      "model_module_version": "1.2.0",
      "model_name": "LayoutModel",
      "state": {}
     },
     "31a3df60371a49138a1461f2aaedf5fb": {
      "model_module": "@jupyter-widgets/controls",
      "model_module_version": "1.5.0",
      "model_name": "DescriptionStyleModel",
      "state": {
       "description_width": ""
      }
     },
     "31c5f2c6d57a42b9a5a744f6c56d7d58": {
      "model_module": "@jupyter-widgets/controls",
      "model_module_version": "1.5.0",
      "model_name": "DescriptionStyleModel",
      "state": {
       "description_width": ""
      }
     },
     "31d19a583816414aa83239b1c1bfda32": {
      "model_module": "@jupyter-widgets/base",
      "model_module_version": "1.2.0",
      "model_name": "LayoutModel",
      "state": {}
     },
     "31d5daf491cd42828cbccbcf802c1a9b": {
      "model_module": "@jupyter-widgets/controls",
      "model_module_version": "1.5.0",
      "model_name": "HTMLModel",
      "state": {
       "layout": "IPY_MODEL_b835e3e622f145c3af14c967ac40a9dd",
       "style": "IPY_MODEL_2282dc7e87204883a99692c94f2378fa",
       "value": "<p>its a foo cake</p>"
      }
     },
     "31e71b7732944b688e440c8c8755c6b7": {
      "model_module": "@jupyter-widgets/base",
      "model_module_version": "1.2.0",
      "model_name": "LayoutModel",
      "state": {
       "align_items": "stretch",
       "border": "dashed 0.2px green",
       "display": "flex",
       "flex_flow": "row",
       "grid_auto_columns": "True",
       "justify_content": "flex-start",
       "width": "100%"
      }
     },
     "3202caa9909f4cd0ab74b47e574a51ef": {
      "model_module": "@jupyter-widgets/controls",
      "model_module_version": "1.5.0",
      "model_name": "HBoxModel",
      "state": {
       "children": [
        "IPY_MODEL_0bc6087823a84ea8b576e73ae902514f",
        "IPY_MODEL_a38195c0b11c4c1b8420c98808e206a5"
       ],
       "layout": "IPY_MODEL_c4f2eb2bf0a2428a9ce3671f9c7b9244"
      }
     },
     "322167ca728e4fdba5bc8335f58eac7b": {
      "model_module": "@jupyter-widgets/controls",
      "model_module_version": "1.5.0",
      "model_name": "HTMLModel",
      "state": {
       "layout": "IPY_MODEL_3b8e547246cb419aacf0495e70a15b09",
       "style": "IPY_MODEL_4347b168d7444035818b6c096c0ed768",
       "value": "<p>Report Model Run?</p>"
      }
     },
     "323f69087ef1480a8bded6ac180b86aa": {
      "model_module": "@jupyter-widgets/controls",
      "model_module_version": "1.5.0",
      "model_name": "RadioButtonsModel",
      "state": {
       "_options_labels": [
        "TEMPLATE: C:\\engDev\\git_mf\\MF_Toolbox\\dev\\mf_scripts\\template_inputs\\inputs-docx_to_pdf.json",
        "PROJECT: C:\\engDev\\git_mf\\ipyrun\\ipyrun\\appdata\\inputs\\inputs-docx_to_pdf.json",
        "PROJECT: C:\\engDev\\git_mf\\ipyrun\\ipyrun\\appdata\\inputs\\archive\\20200610_1134-jg-inputs-docx_to_pdf.json",
        "PROJECT: C:\\engDev\\git_mf\\ipyrun\\ipyrun\\appdata\\inputs\\archive\\20200610_1139-jg-inputs-docx_to_pdf.json",
        "PROJECT: C:\\engDev\\git_mf\\ipyrun\\ipyrun\\appdata\\inputs\\archive\\20200610_1218-jg-inputs-docx_to_pdf.json",
        "PROJECT: C:\\engDev\\git_mf\\ipyrun\\ipyrun\\appdata\\inputs\\archive\\20200610_1220-jg-inputs-docx_to_pdf.json",
        "PROJECT: C:\\engDev\\git_mf\\ipyrun\\ipyrun\\appdata\\inputs\\archive\\20200610_1221-jg-inputs-docx_to_pdf.json",
        "PROJECT: C:\\engDev\\git_mf\\ipyrun\\ipyrun\\appdata\\inputs\\archive\\20200610_1224-jg-inputs-docx_to_pdf.json",
        "PROJECT: C:\\engDev\\git_mf\\ipyrun\\ipyrun\\appdata\\inputs\\archive\\20200610_1225-jg-inputs-docx_to_pdf.json",
        "PROJECT: C:\\engDev\\git_mf\\ipyrun\\ipyrun\\appdata\\inputs\\archive\\20200610_1244-jg-inputs-docx_to_pdf.json",
        "PROJECT: C:\\engDev\\git_mf\\ipyrun\\ipyrun\\appdata\\inputs\\archive\\20200610_1246-jg-inputs-docx_to_pdf.json",
        "PROJECT: C:\\engDev\\git_mf\\ipyrun\\ipyrun\\appdata\\inputs\\archive\\20200610_1419-jg-inputs-docx_to_pdf.json",
        "PROJECT: C:\\engDev\\git_mf\\ipyrun\\ipyrun\\appdata\\inputs\\archive\\20200610_1420-jg-inputs-docx_to_pdf.json",
        "PROJECT: C:\\engDev\\git_mf\\ipyrun\\ipyrun\\appdata\\inputs\\archive\\20200610_1422-jg-inputs-docx_to_pdf.json",
        "PROJECT: C:\\engDev\\git_mf\\ipyrun\\ipyrun\\appdata\\inputs\\archive\\20200610_1425-jg-inputs-docx_to_pdf.json",
        "PROJECT: C:\\engDev\\git_mf\\ipyrun\\ipyrun\\appdata\\inputs\\archive\\20200610_1853-jg-inputs-docx_to_pdf.json",
        "PROJECT: C:\\engDev\\git_mf\\ipyrun\\ipyrun\\appdata\\inputs\\archive\\20200610_1855-jg-inputs-docx_to_pdf.json",
        "PROJECT: C:\\engDev\\git_mf\\ipyrun\\ipyrun\\appdata\\inputs\\archive\\20200611_0748-jg-inputs-docx_to_pdf.json",
        "PROJECT: C:\\engDev\\git_mf\\ipyrun\\ipyrun\\appdata\\inputs\\archive\\20200611_0754-jg-inputs-docx_to_pdf.json",
        "PROJECT: C:\\engDev\\git_mf\\ipyrun\\ipyrun\\appdata\\inputs\\archive\\20200611_0757-jg-inputs-docx_to_pdf.json",
        "PROJECT: C:\\engDev\\git_mf\\ipyrun\\ipyrun\\appdata\\inputs\\archive\\20200616_1026-jg-inputs-docx_to_pdf.json"
       ],
       "index": 0,
       "layout": "IPY_MODEL_0bcc4f606f374c9bbb3c0d2005b69501",
       "style": "IPY_MODEL_d369c523e54a4effad2982877f1e422e"
      }
     },
     "32938d6e40864f0f90cff640106ee678": {
      "model_module": "@jupyter-widgets/base",
      "model_module_version": "1.2.0",
      "model_name": "LayoutModel",
      "state": {}
     },
     "32c535f61c70480cb09fe3a787c9f093": {
      "model_module": "@jupyter-widgets/controls",
      "model_module_version": "1.5.0",
      "model_name": "DescriptionStyleModel",
      "state": {
       "description_width": ""
      }
     },
     "32edc2b766554a929b4ddfdbf9599f92": {
      "model_module": "@jupyter-widgets/base",
      "model_module_version": "1.2.0",
      "model_name": "LayoutModel",
      "state": {}
     },
     "32fa251abc8d421a8b61ebb9ec433b16": {
      "model_module": "@jupyter-widgets/controls",
      "model_module_version": "1.5.0",
      "model_name": "HBoxModel",
      "state": {
       "children": [
        "IPY_MODEL_00f2f97e2b1e4d6fa959d59f4233c4b5",
        "IPY_MODEL_4f561e686b824c0bb70fb4e4aadb9486"
       ],
       "layout": "IPY_MODEL_27a80b413f5a464c8aa57ce51b5b24ec"
      }
     },
     "3302d204df7a406e810391f2ae15a881": {
      "model_module": "@jupyter-widgets/controls",
      "model_module_version": "1.5.0",
      "model_name": "DescriptionStyleModel",
      "state": {
       "description_width": ""
      }
     },
     "330acb886c6541b9a166a71abd271f25": {
      "model_module": "@jupyter-widgets/base",
      "model_module_version": "1.2.0",
      "model_name": "LayoutModel",
      "state": {
       "align_items": "stretch",
       "border": "dashed 0.2px green",
       "display": "flex",
       "flex_flow": "row",
       "grid_auto_columns": "True",
       "justify_content": "flex-start",
       "width": "100%"
      }
     },
     "33224c1a4aac4308a2120492eec34d9c": {
      "model_module": "@jupyter-widgets/base",
      "model_module_version": "1.2.0",
      "model_name": "LayoutModel",
      "state": {}
     },
     "333954e6eb7049aea46dbdb141358128": {
      "model_module": "@jupyter-widgets/controls",
      "model_module_version": "1.5.0",
      "model_name": "DescriptionStyleModel",
      "state": {
       "description_width": ""
      }
     },
     "334230c3b49041d290659eb48a33aa7c": {
      "model_module": "@jupyter-widgets/base",
      "model_module_version": "1.2.0",
      "model_name": "LayoutModel",
      "state": {}
     },
     "334df0d3a6a74b1db7eaec4abdaa991b": {
      "model_module": "@jupyter-widgets/base",
      "model_module_version": "1.2.0",
      "model_name": "LayoutModel",
      "state": {
       "display": "flex",
       "flex_flow": "row",
       "grid_auto_columns": "False",
       "justify_content": "flex-start",
       "width": "100%"
      }
     },
     "336d2a59141b4bc29180ba2cde2929f0": {
      "model_module": "@jupyter-widgets/base",
      "model_module_version": "1.2.0",
      "model_name": "LayoutModel",
      "state": {
       "display": "flex",
       "flex_flow": "row",
       "grid_auto_columns": "False",
       "justify_content": "flex-start",
       "width": "100%"
      }
     },
     "33bf9dd59e8941beb026de9eaa4dc4c8": {
      "model_module": "@jupyter-widgets/controls",
      "model_module_version": "1.5.0",
      "model_name": "HBoxModel",
      "state": {
       "children": [
        "IPY_MODEL_5d9f30643f8f4208b3ef883a7e85ec04",
        "IPY_MODEL_7920afb5d796441eacc33a6e6630e4d7"
       ],
       "layout": "IPY_MODEL_99be01f90fa345749b2c28c773186e54"
      }
     },
     "33dd5f326c364b68bcbde4f49f2d5b1f": {
      "model_module": "@jupyter-widgets/controls",
      "model_module_version": "1.5.0",
      "model_name": "DescriptionStyleModel",
      "state": {
       "description_width": ""
      }
     },
     "33e4a0e5f1b04969b33d816eeeef470f": {
      "model_module": "@jupyter-widgets/base",
      "model_module_version": "1.2.0",
      "model_name": "LayoutModel",
      "state": {}
     },
     "33ef7fdb52554b7087167ea31092350b": {
      "model_module": "@jupyter-widgets/controls",
      "model_module_version": "1.5.0",
      "model_name": "HBoxModel",
      "state": {
       "children": [
        "IPY_MODEL_2395e0b5b3584a29aa55cbb0200c7231",
        "IPY_MODEL_5a7f6425478346c8966d1bbc75237c79"
       ],
       "layout": "IPY_MODEL_3c54bca54fd74c93bc72956dc631ef09"
      }
     },
     "33f78235ea174e74ab96b54c92fdb1f2": {
      "model_module": "@jupyter-widgets/controls",
      "model_module_version": "1.5.0",
      "model_name": "HBoxModel",
      "state": {
       "children": [
        "IPY_MODEL_61a7a1b08f964fb882e33b83945c02ee",
        "IPY_MODEL_a52d32577d144918baf2886610961455"
       ],
       "layout": "IPY_MODEL_5b4a08a73604450ca25dcb084a106308"
      }
     },
     "34646aac6bfe4ea38ae5ad9034404e8e": {
      "model_module": "@jupyter-widgets/controls",
      "model_module_version": "1.5.0",
      "model_name": "HBoxModel",
      "state": {
       "children": [
        "IPY_MODEL_230f108eb7144b8da16ef9e861687d84"
       ],
       "layout": "IPY_MODEL_4b58fe4ee2ef4688bd4b583ebe398dd2"
      }
     },
     "34aab1e58c4949148d721e59c226b877": {
      "model_module": "@jupyter-widgets/controls",
      "model_module_version": "1.5.0",
      "model_name": "HBoxModel",
      "state": {
       "children": [
        "IPY_MODEL_1eb00dc2d543486d8fce35b99936593a"
       ],
       "layout": "IPY_MODEL_3d478dca99f04a2bba594f6096432f33"
      }
     },
     "34ace7bf32fb47e7a5f4f9b6fc9a06b8": {
      "model_module": "@jupyter-widgets/base",
      "model_module_version": "1.2.0",
      "model_name": "LayoutModel",
      "state": {
       "align_items": "stretch",
       "display": "flex",
       "flex_flow": "row",
       "grid_auto_columns": "True",
       "justify_content": "flex-start",
       "width": "80%"
      }
     },
     "3545d3004f0c4db68299782f4f57c13a": {
      "model_module": "@jupyter-widgets/controls",
      "model_module_version": "1.5.0",
      "model_name": "ButtonStyleModel",
      "state": {}
     },
     "35537f65b5ac4f62979381fbc2315fd6": {
      "model_module": "@jupyter-widgets/base",
      "model_module_version": "1.2.0",
      "model_name": "LayoutModel",
      "state": {
       "align_items": "stretch",
       "display": "flex",
       "flex_flow": "row",
       "grid_auto_columns": "True",
       "justify_content": "flex-end",
       "width": "90%"
      }
     },
     "3580f943dc1c4ca28ca67db779aeed57": {
      "model_module": "@jupyter-widgets/controls",
      "model_module_version": "1.5.0",
      "model_name": "ToggleButtonModel",
      "state": {
       "button_style": "info",
       "description": "inputs from file",
       "layout": "IPY_MODEL_2b947642e2254c0b8b3bc8f4314f4950",
       "style": "IPY_MODEL_5193bc4034b440268a3430ea60d30b30"
      }
     },
     "35843c45c7ef4632a382a67696343062": {
      "model_module": "@jupyter-widgets/controls",
      "model_module_version": "1.5.0",
      "model_name": "DescriptionStyleModel",
      "state": {
       "description_width": ""
      }
     },
     "35ba5ac185824eb988684a983f44dfa2": {
      "model_module": "@jupyter-widgets/controls",
      "model_module_version": "1.5.0",
      "model_name": "ButtonModel",
      "state": {
       "description": "save",
       "layout": "IPY_MODEL_cd23a97278f64755a80532985344dfce",
       "style": "IPY_MODEL_3626909c8a1a408490f95e9f1937fbca"
      }
     },
     "35bd64a539be4f7294267efb710ec0af": {
      "model_module": "@jupyter-widgets/controls",
      "model_module_version": "1.5.0",
      "model_name": "TextareaModel",
      "state": {
       "layout": "IPY_MODEL_c386f875ac2d47fab47dce6ae6e287c6",
       "style": "IPY_MODEL_1890e59ddbbd4e748a0ebc973ee0896f"
      }
     },
     "35d5bae3503f46e09c8af513d79eb3b4": {
      "model_module": "@jupyter-widgets/controls",
      "model_module_version": "1.5.0",
      "model_name": "HBoxModel",
      "state": {
       "children": [
        "IPY_MODEL_97eea370635e46669538b5a6fc4930a4"
       ],
       "layout": "IPY_MODEL_6ce8b3b302b943669e951755ba044267"
      }
     },
     "35e07f6882e34b25af3ea4460eef911e": {
      "model_module": "@jupyter-widgets/base",
      "model_module_version": "1.2.0",
      "model_name": "LayoutModel",
      "state": {
       "align_items": "stretch",
       "display": "flex",
       "flex_flow": "row",
       "grid_auto_columns": "True",
       "justify_content": "flex-start",
       "width": "80%"
      }
     },
     "35e9f2f6a49e48c19eaa5fbe3fc84acf": {
      "model_module": "@jupyter-widgets/controls",
      "model_module_version": "1.5.0",
      "model_name": "HBoxModel",
      "state": {
       "children": [
        "IPY_MODEL_d1f2c14e89544e41b003ce5018d2d8cc",
        "IPY_MODEL_46050c61e49c434d9ec3457746e610f0"
       ],
       "layout": "IPY_MODEL_da2a034f9ceb4777b0097d8e59a86628"
      }
     },
     "35eb0b7f5a774b669dffd7d93d33f024": {
      "model_module": "@jupyter-widgets/controls",
      "model_module_version": "1.5.0",
      "model_name": "FloatTextModel",
      "state": {
       "layout": "IPY_MODEL_13b95ad796fa431b8625e4579036b7e5",
       "step": null,
       "style": "IPY_MODEL_c8baf7fe1b974077b9d210eb04b30923",
       "value": 9
      }
     },
     "35fceec39ed64c73a5b1f54026c71aa9": {
      "model_module": "@jupyter-widgets/controls",
      "model_module_version": "1.5.0",
      "model_name": "HBoxModel",
      "state": {
       "children": [
        "IPY_MODEL_d50048239b8c417a9cfb398ed792ec75"
       ],
       "layout": "IPY_MODEL_9460244a05b74555905c5a19dc88ad5d"
      }
     },
     "3626909c8a1a408490f95e9f1937fbca": {
      "model_module": "@jupyter-widgets/controls",
      "model_module_version": "1.5.0",
      "model_name": "ButtonStyleModel",
      "state": {}
     },
     "363e3b14e02946069a884095066e7444": {
      "model_module": "@jupyter-widgets/output",
      "model_module_version": "1.0.0",
      "model_name": "OutputModel",
      "state": {
       "layout": "IPY_MODEL_216843c31191437f8403a89f7a66004d"
      }
     },
     "366e8f5d30da472591db77ab548029a0": {
      "model_module": "@jupyter-widgets/base",
      "model_module_version": "1.2.0",
      "model_name": "LayoutModel",
      "state": {
       "align_items": "stretch",
       "border": "dashed 0.2px green",
       "display": "flex",
       "flex_flow": "row",
       "grid_auto_columns": "True",
       "justify_content": "flex-start",
       "width": "100%"
      }
     },
     "367b8d3e6acc4667bdf7f2cd6693ce24": {
      "model_module": "@jupyter-widgets/controls",
      "model_module_version": "1.5.0",
      "model_name": "DescriptionStyleModel",
      "state": {
       "description_width": ""
      }
     },
     "36877a61c6f1490b8735d176a3071943": {
      "model_module": "@jupyter-widgets/controls",
      "model_module_version": "1.5.0",
      "model_name": "ToggleButtonModel",
      "state": {
       "button_style": "info",
       "description": "inputs from file",
       "layout": "IPY_MODEL_87af303d71a24b9c8f0128e0c6e127f9",
       "style": "IPY_MODEL_757addbd17a744c8aa585a9a844789e2"
      }
     },
     "368d84a6864d4710b3403c4a4c9f8804": {
      "model_module": "@jupyter-widgets/controls",
      "model_module_version": "1.5.0",
      "model_name": "HTMLModel",
      "state": {
       "layout": "IPY_MODEL_dd5616e91e95443681c1e5342e5d9932",
       "style": "IPY_MODEL_6e01f4b7373e4a5381396f07fdd19d03",
       "value": "<p>edit user input form below</p>"
      }
     },
     "369e046776384c22af6362405b9c9c52": {
      "model_module": "@jupyter-widgets/controls",
      "model_module_version": "1.5.0",
      "model_name": "DescriptionStyleModel",
      "state": {
       "description_width": ""
      }
     },
     "36f26506834944d6a95c679471973f53": {
      "model_module": "@jupyter-widgets/controls",
      "model_module_version": "1.5.0",
      "model_name": "ButtonStyleModel",
      "state": {}
     },
     "370d7abd4b5f41aabf71df34165010a7": {
      "model_module": "@jupyter-widgets/base",
      "model_module_version": "1.2.0",
      "model_name": "LayoutModel",
      "state": {
       "align_items": "stretch",
       "display": "flex",
       "flex_flow": "row",
       "grid_auto_columns": "True",
       "justify_content": "flex-end",
       "width": "90%"
      }
     },
     "3749fc00959b4c25b8717c83b56d3df3": {
      "model_module": "@jupyter-widgets/controls",
      "model_module_version": "1.5.0",
      "model_name": "DescriptionStyleModel",
      "state": {
       "description_width": ""
      }
     },
     "3759f955c4584987914459dbe5b9d9e0": {
      "model_module": "@jupyter-widgets/base",
      "model_module_version": "1.2.0",
      "model_name": "LayoutModel",
      "state": {
       "align_items": "stretch",
       "display": "flex",
       "flex_flow": "row",
       "grid_auto_columns": "True",
       "justify_content": "flex-start",
       "width": "80%"
      }
     },
     "377a63ca335c4710b45568e55e60c687": {
      "model_module": "@jupyter-widgets/base",
      "model_module_version": "1.2.0",
      "model_name": "LayoutModel",
      "state": {}
     },
     "37834b82c47c441e9873aae92ce8235e": {
      "model_module": "@jupyter-widgets/controls",
      "model_module_version": "1.5.0",
      "model_name": "HTMLModel",
      "state": {
       "layout": "IPY_MODEL_2619f63aa2df433db1f47a3753805e4a",
       "style": "IPY_MODEL_1edd11315dbd4630bee4caa31c8da666",
       "value": "<p>Example use of the DatePicker Widget</p>"
      }
     },
     "37dfe1728b9e42d5b5a69b72ec6bae13": {
      "model_module": "@jupyter-widgets/controls",
      "model_module_version": "1.5.0",
      "model_name": "HTMLModel",
      "state": {
       "layout": "IPY_MODEL_94cf970e52c544e19e8699b5d4cdb954",
       "style": "IPY_MODEL_f1315447c91046b58cf507d25627e5e4",
       "value": "<p>label</p>"
      }
     },
     "3818787f4f6c4697bdfa818ca4b6d9a6": {
      "model_module": "@jupyter-widgets/output",
      "model_module_version": "1.0.0",
      "model_name": "OutputModel",
      "state": {
       "layout": "IPY_MODEL_ce87575271ae4fb791e4a1562a9126c8"
      }
     },
     "386320a582594b58922eb0b647442dcd": {
      "model_module": "@jupyter-widgets/base",
      "model_module_version": "1.2.0",
      "model_name": "LayoutModel",
      "state": {}
     },
     "38650f52866443f6adb85b8d566192bd": {
      "model_module": "@jupyter-widgets/controls",
      "model_module_version": "1.5.0",
      "model_name": "HBoxModel",
      "state": {
       "children": [
        "IPY_MODEL_5d273ed98a9a48168833286759f9087c"
       ],
       "layout": "IPY_MODEL_330acb886c6541b9a166a71abd271f25"
      }
     },
     "389aadd41895441da052858ff954d897": {
      "model_module": "@jupyter-widgets/controls",
      "model_module_version": "1.5.0",
      "model_name": "HTMLModel",
      "state": {
       "layout": "IPY_MODEL_89b87e4e0a1d4915bb1c7adfa9b8c17d",
       "style": "IPY_MODEL_19bfa245b92043e2aa4f8ce7cc7e1dab",
       "value": "<p>input gbxml filepath</p>"
      }
     },
     "38d9c9d265144008a896a0fda7d5cfb6": {
      "model_module": "@jupyter-widgets/output",
      "model_module_version": "1.0.0",
      "model_name": "OutputModel",
      "state": {
       "layout": "IPY_MODEL_9a22d51836be4c158c235431b97dc564"
      }
     },
     "38e3adee73e64516a5ea97b1eadd1599": {
      "model_module": "@jupyter-widgets/controls",
      "model_module_version": "1.5.0",
      "model_name": "HBoxModel",
      "state": {
       "children": [
        "IPY_MODEL_5765b8f4cabc407a84bdfa5293982b11"
       ],
       "layout": "IPY_MODEL_7625b4e392b04bb1b84f7d9fcaa38fa5"
      }
     },
     "3935c004416a46ea97b585daeffce8b8": {
      "model_module": "@jupyter-widgets/base",
      "model_module_version": "1.2.0",
      "model_name": "LayoutModel",
      "state": {
       "height": "30px",
       "width": "auto"
      }
     },
     "393b3d725ce4482db0bc2953b19a319b": {
      "model_module": "@jupyter-widgets/base",
      "model_module_version": "1.2.0",
      "model_name": "LayoutModel",
      "state": {
       "align_items": "stretch",
       "display": "flex",
       "flex_flow": "row",
       "grid_auto_columns": "True",
       "justify_content": "flex-end",
       "width": "90%"
      }
     },
     "395ad12192d3407cad7fcef50c75f99d": {
      "model_module": "@jupyter-widgets/controls",
      "model_module_version": "1.5.0",
      "model_name": "ButtonModel",
      "state": {
       "button_style": "success",
       "description": "save changes",
       "layout": "IPY_MODEL_acd07915e5c54c85951a3163b27a69a1",
       "style": "IPY_MODEL_d7f3236ae60b4f0c94c1b0b4338a714e"
      }
     },
     "3997656e6207482badc725c6a2bb191f": {
      "model_module": "@jupyter-widgets/controls",
      "model_module_version": "1.5.0",
      "model_name": "DescriptionStyleModel",
      "state": {
       "description_width": ""
      }
     },
     "3999df35916b459eb130999233964d32": {
      "model_module": "@jupyter-widgets/controls",
      "model_module_version": "1.5.0",
      "model_name": "DescriptionStyleModel",
      "state": {
       "description_width": ""
      }
     },
     "399a65b1641342c0af1650b95f59861d": {
      "model_module": "@jupyter-widgets/controls",
      "model_module_version": "1.5.0",
      "model_name": "ToggleButtonModel",
      "state": {
       "description": "help",
       "icon": "fa-question-circle",
       "layout": "IPY_MODEL_950daa2c956c4afa86d3642476ace944",
       "style": "IPY_MODEL_67baf8b98a91423b9eeefceb07e1bdcb",
       "tooltip": "gives guidance"
      }
     },
     "39a98aeaeeed4fc89d8e36a3be70bbdc": {
      "model_module": "@jupyter-widgets/controls",
      "model_module_version": "1.5.0",
      "model_name": "HBoxModel",
      "state": {
       "children": [
        "IPY_MODEL_85ad0b4151d84a21b6c740bad18f2c74",
        "IPY_MODEL_0c797caa814e4ee6bb8e774975f8672c"
       ],
       "layout": "IPY_MODEL_99fca91f5eda4c358db7113aa3ab58de"
      }
     },
     "39c24ba3772946948a9f2d1d758a0900": {
      "model_module": "@jupyter-widgets/base",
      "model_module_version": "1.2.0",
      "model_name": "LayoutModel",
      "state": {}
     },
     "3a2c33452ef5425fbf548c8633df9b86": {
      "model_module": "@jupyter-widgets/controls",
      "model_module_version": "1.5.0",
      "model_name": "DescriptionStyleModel",
      "state": {
       "description_width": ""
      }
     },
     "3a3a404565d74ddcaebd0080c4fce0f8": {
      "model_module": "@jupyter-widgets/controls",
      "model_module_version": "1.5.0",
      "model_name": "DescriptionStyleModel",
      "state": {
       "description_width": ""
      }
     },
     "3a5d0e1db7454ca2a7b6a829d75a1dac": {
      "model_module": "@jupyter-widgets/base",
      "model_module_version": "1.2.0",
      "model_name": "LayoutModel",
      "state": {
       "align_items": "stretch",
       "display": "flex",
       "flex_flow": "row",
       "grid_auto_columns": "True",
       "justify_content": "flex-end",
       "width": "90%"
      }
     },
     "3a8e12b99a2b4dd3bfb02c733c8c4830": {
      "model_module": "@jupyter-widgets/base",
      "model_module_version": "1.2.0",
      "model_name": "LayoutModel",
      "state": {}
     },
     "3ac8ad5da3584b4881050b52b842e799": {
      "model_module": "@jupyter-widgets/base",
      "model_module_version": "1.2.0",
      "model_name": "LayoutModel",
      "state": {
       "align_items": "stretch",
       "display": "flex",
       "flex_flow": "row",
       "grid_auto_columns": "True",
       "justify_content": "flex-start",
       "width": "80%"
      }
     },
     "3aff337322a74327aea3879ccb3e2c81": {
      "model_module": "@jupyter-widgets/controls",
      "model_module_version": "1.5.0",
      "model_name": "ButtonStyleModel",
      "state": {
       "font_weight": "bold"
      }
     },
     "3b0a28b4f1f74e49b5b51c51a6d614f6": {
      "model_module": "@jupyter-widgets/controls",
      "model_module_version": "1.5.0",
      "model_name": "RadioButtonsModel",
      "state": {
       "_options_labels": [
        "TEMPLATE: C:\\engDev\\git_mf\\MF_Toolbox\\dev\\mf_scripts\\template_inputs\\inputs-gbxml.json",
        "PROJECT: C:\\engDev\\git_mf\\ipyrun\\ipyrun\\appdata\\inputs\\inputs-gbxml.json"
       ],
       "index": 0,
       "layout": "IPY_MODEL_c00ad30e1b20467fb118fb7ad1cd4d7b",
       "style": "IPY_MODEL_0ea1def6065f48a2bb25518d090a15a9"
      }
     },
     "3b51deb1590a4d8cbfcfbe12681e1925": {
      "model_module": "@jupyter-widgets/base",
      "model_module_version": "1.2.0",
      "model_name": "LayoutModel",
      "state": {
       "align_items": "stretch",
       "display": "flex",
       "flex_flow": "row",
       "grid_auto_columns": "True",
       "justify_content": "flex-start",
       "width": "80%"
      }
     },
     "3b5d513b333a4a649dd698b4a301f904": {
      "model_module": "@jupyter-widgets/controls",
      "model_module_version": "1.5.0",
      "model_name": "DescriptionStyleModel",
      "state": {
       "description_width": ""
      }
     },
     "3b61e3431dc44b75b41f740d181fc304": {
      "model_module": "@jupyter-widgets/base",
      "model_module_version": "1.2.0",
      "model_name": "LayoutModel",
      "state": {}
     },
     "3b716b4d197a4b5698fb30b4f60e509e": {
      "model_module": "@jupyter-widgets/base",
      "model_module_version": "1.2.0",
      "model_name": "LayoutModel",
      "state": {
       "align_items": "stretch",
       "display": "flex",
       "flex_flow": "row",
       "grid_auto_columns": "True",
       "justify_content": "flex-end",
       "width": "90%"
      }
     },
     "3b8c9a892f584f84aab3e611af71182b": {
      "model_module": "@jupyter-widgets/controls",
      "model_module_version": "1.5.0",
      "model_name": "ButtonStyleModel",
      "state": {}
     },
     "3b8e547246cb419aacf0495e70a15b09": {
      "model_module": "@jupyter-widgets/base",
      "model_module_version": "1.2.0",
      "model_name": "LayoutModel",
      "state": {}
     },
     "3baeec691f12440591870ece8031b4ff": {
      "model_module": "@jupyter-widgets/controls",
      "model_module_version": "1.5.0",
      "model_name": "HBoxModel",
      "state": {
       "children": [
        "IPY_MODEL_ec522b22d0d7443a97b77a297c641ce3"
       ],
       "layout": "IPY_MODEL_5fda78edc0ec4e25b45f31f80febab82"
      }
     },
     "3baf733c18324d0fbce14f722b3e4164": {
      "model_module": "@jupyter-widgets/base",
      "model_module_version": "1.2.0",
      "model_name": "LayoutModel",
      "state": {
       "align_items": "stretch",
       "display": "flex",
       "flex_flow": "row",
       "grid_auto_columns": "True",
       "justify_content": "flex-end",
       "width": "90%"
      }
     },
     "3bafccaf53ec480d8f6a36fb89286cee": {
      "model_module": "@jupyter-widgets/output",
      "model_module_version": "1.0.0",
      "model_name": "OutputModel",
      "state": {
       "layout": "IPY_MODEL_89c00fb2f01e435ba5943e793d21e831"
      }
     },
     "3bb731a2562644829783f946b9ee5a18": {
      "model_module": "@jupyter-widgets/base",
      "model_module_version": "1.2.0",
      "model_name": "LayoutModel",
      "state": {}
     },
     "3c0406da335e437c849068a253fb993f": {
      "model_module": "@jupyter-widgets/controls",
      "model_module_version": "1.5.0",
      "model_name": "DescriptionStyleModel",
      "state": {
       "description_width": ""
      }
     },
     "3c50fceb84b1413295ac0e2f1607c75a": {
      "model_module": "@jupyter-widgets/controls",
      "model_module_version": "1.5.0",
      "model_name": "HBoxModel",
      "state": {
       "children": [
        "IPY_MODEL_63846e55159a4d2dadf2041b3bdd2c2c",
        "IPY_MODEL_92bf58d2c18c49d79b1efa8f367a53f2"
       ],
       "layout": "IPY_MODEL_de2c328f538545b68dda7c6d908fa63b"
      }
     },
     "3c54bca54fd74c93bc72956dc631ef09": {
      "model_module": "@jupyter-widgets/base",
      "model_module_version": "1.2.0",
      "model_name": "LayoutModel",
      "state": {
       "align_items": "stretch",
       "display": "flex",
       "flex_flow": "row",
       "grid_auto_columns": "True",
       "justify_content": "flex-start",
       "width": "80%"
      }
     },
     "3cf95c528c8141d0b1a9cb77d1d2dcb5": {
      "model_module": "@jupyter-widgets/controls",
      "model_module_version": "1.5.0",
      "model_name": "DescriptionStyleModel",
      "state": {
       "description_width": ""
      }
     },
     "3d00aaf8dca3482c9c60a968b50a0ccc": {
      "model_module": "@jupyter-widgets/controls",
      "model_module_version": "1.5.0",
      "model_name": "DescriptionStyleModel",
      "state": {
       "description_width": ""
      }
     },
     "3d478dca99f04a2bba594f6096432f33": {
      "model_module": "@jupyter-widgets/base",
      "model_module_version": "1.2.0",
      "model_name": "LayoutModel",
      "state": {
       "align_items": "stretch",
       "border": "dashed 0.2px green",
       "display": "flex",
       "flex_flow": "row",
       "grid_auto_columns": "True",
       "justify_content": "flex-start",
       "width": "100%"
      }
     },
     "3d4a2525f30d4b40b64420de058f8f3c": {
      "model_module": "@jupyter-widgets/controls",
      "model_module_version": "1.5.0",
      "model_name": "HBoxModel",
      "state": {
       "children": [
        "IPY_MODEL_b184413541764b149779b14cda746415"
       ],
       "layout": "IPY_MODEL_d4e49127c0214267976a538acd6093c8"
      }
     },
     "3d4a5681d3d74131a5282958a893d7b3": {
      "model_module": "@jupyter-widgets/output",
      "model_module_version": "1.0.0",
      "model_name": "OutputModel",
      "state": {
       "layout": "IPY_MODEL_52b69139cba64a758064301551510d4a",
       "outputs": [
        {
         "data": {
          "application/vnd.jupyter.widget-view+json": {
           "model_id": "",
           "version_major": 2,
           "version_minor": 0
          },
          "text/plain": "Output()"
         },
         "metadata": {},
         "output_type": "display_data"
        },
        {
         "data": {
          "application/vnd.jupyter.widget-view+json": {
           "model_id": "",
           "version_major": 2,
           "version_minor": 0
          },
          "text/plain": "Output()"
         },
         "metadata": {},
         "output_type": "display_data"
        }
       ]
      }
     },
     "3d576d4781fa4c54b40af1d476430142": {
      "model_module": "@jupyter-widgets/controls",
      "model_module_version": "1.5.0",
      "model_name": "HTMLModel",
      "state": {
       "layout": "IPY_MODEL_9027107308df461c982831d3382cbb78",
       "style": "IPY_MODEL_aa095e2aa0bb44d09562edaa14a0b688",
       "value": "<p><code>asdf</code></p>"
      }
     },
     "3d7ec6adfd1f4076aef06f5a922d3734": {
      "model_module": "@jupyter-widgets/controls",
      "model_module_version": "1.5.0",
      "model_name": "DescriptionStyleModel",
      "state": {
       "description_width": ""
      }
     },
     "3d8cf6c5c7e846c8ae80826f2215d0fd": {
      "model_module": "@jupyter-widgets/output",
      "model_module_version": "1.0.0",
      "model_name": "OutputModel",
      "state": {
       "layout": "IPY_MODEL_b5372840672845149e89dcee5887cd8f"
      }
     },
     "3d8d51cd6c69469784dbbb81ce62c17c": {
      "model_module": "@jupyter-widgets/controls",
      "model_module_version": "1.5.0",
      "model_name": "DescriptionStyleModel",
      "state": {
       "description_width": ""
      }
     },
     "3d8f07d0b8b941529a0e182e6fdcee78": {
      "model_module": "@jupyter-widgets/controls",
      "model_module_version": "1.5.0",
      "model_name": "ToggleButtonModel",
      "state": {
       "button_style": "info",
       "description": "inputs from file",
       "layout": "IPY_MODEL_334230c3b49041d290659eb48a33aa7c",
       "style": "IPY_MODEL_333954e6eb7049aea46dbdb141358128"
      }
     },
     "3d960f99aa3d4ac4bd1acc9458b398b6": {
      "model_module": "@jupyter-widgets/base",
      "model_module_version": "1.2.0",
      "model_name": "LayoutModel",
      "state": {}
     },
     "3da559a880be4b25aa615814eea6b109": {
      "model_module": "@jupyter-widgets/output",
      "model_module_version": "1.0.0",
      "model_name": "OutputModel",
      "state": {
       "layout": "IPY_MODEL_e16bb51de52943739927691f95211f83"
      }
     },
     "3dc72872368e46df9e9f97f6e7253250": {
      "model_module": "@jupyter-widgets/controls",
      "model_module_version": "1.5.0",
      "model_name": "HBoxModel",
      "state": {
       "children": [
        "IPY_MODEL_480ec8322ea748b4912b210152444675",
        "IPY_MODEL_74af2eb76a5a445da638e5ed6150493f"
       ],
       "layout": "IPY_MODEL_35537f65b5ac4f62979381fbc2315fd6"
      }
     },
     "3dc9885988e546dc83a60e0bc5a92446": {
      "model_module": "@jupyter-widgets/base",
      "model_module_version": "1.2.0",
      "model_name": "LayoutModel",
      "state": {}
     },
     "3de6a212c37d464aa0a0d04a5eb7662c": {
      "model_module": "@jupyter-widgets/controls",
      "model_module_version": "1.5.0",
      "model_name": "HBoxModel",
      "state": {
       "children": [
        "IPY_MODEL_00bd813c34df4636b3ea0e17a8808ffd"
       ],
       "layout": "IPY_MODEL_55e7d6d4162b409bb4cfddac8d038059"
      }
     },
     "3df2cf1548de46788fe63cf797c7b331": {
      "model_module": "@jupyter-widgets/controls",
      "model_module_version": "1.5.0",
      "model_name": "HTMLModel",
      "state": {
       "layout": "IPY_MODEL_a24ed9d445e94d24b4dfbf09ecd8f1ff",
       "style": "IPY_MODEL_7b0eaa805fe44ad2ba09ae3d604c8026",
       "value": "<p>its a foo cake</p>"
      }
     },
     "3df9326ce15545938ad8c1f41b0742e1": {
      "model_module": "@jupyter-widgets/controls",
      "model_module_version": "1.5.0",
      "model_name": "TextModel",
      "state": {
       "layout": "IPY_MODEL_2eb98b601333447196cf875c7214c197",
       "style": "IPY_MODEL_ea8462521453446a85086af52a5a1688",
       "value": "C:\\engDev\\git_mf\\MF_Toolbox\\dev\\examples\\gbxml\\105_LiveseyExchange_heatpump-normal-fabric.xml"
      }
     },
     "3e01703c302f47f3b515bc4f132a7957": {
      "model_module": "@jupyter-widgets/base",
      "model_module_version": "1.2.0",
      "model_name": "LayoutModel",
      "state": {
       "align_items": "stretch",
       "display": "flex",
       "flex_flow": "row",
       "grid_auto_columns": "True",
       "justify_content": "flex-end",
       "width": "90%"
      }
     },
     "3e6c749434a846e081da67c836fce74c": {
      "model_module": "@jupyter-widgets/controls",
      "model_module_version": "1.5.0",
      "model_name": "CheckboxModel",
      "state": {
       "disabled": false,
       "layout": "IPY_MODEL_b89fe7e642be43c79645d1600b6a98dd",
       "style": "IPY_MODEL_c7aa5d0efc1f423dafaa31f4ce415a9f",
       "value": false
      }
     },
     "3e891a597db34114aed649046736e37d": {
      "model_module": "@jupyter-widgets/controls",
      "model_module_version": "1.5.0",
      "model_name": "DescriptionStyleModel",
      "state": {
       "description_width": ""
      }
     },
     "3e9196030d9e4d45ad503fa13cb66c6d": {
      "model_module": "@jupyter-widgets/base",
      "model_module_version": "1.2.0",
      "model_name": "LayoutModel",
      "state": {}
     },
     "3e95fd77c90c4ff796ebdc7980f92c64": {
      "model_module": "@jupyter-widgets/base",
      "model_module_version": "1.2.0",
      "model_name": "LayoutModel",
      "state": {
       "align_items": "stretch",
       "border": "dashed 0.2px green",
       "display": "flex",
       "flex_flow": "row",
       "grid_auto_columns": "True",
       "justify_content": "flex-start",
       "width": "100%"
      }
     },
     "3eb1038389ee406d9081addaddb9f6bf": {
      "model_module": "@jupyter-widgets/controls",
      "model_module_version": "1.5.0",
      "model_name": "HTMLModel",
      "state": {
       "layout": "IPY_MODEL_be6ed062ad26451fbb32b032cffe17e7",
       "style": "IPY_MODEL_73ca260d6935450a9ae5b8f79d02e909",
       "value": "<p>foo</p>"
      }
     },
     "3ec015ad908f452ebeb238cacb0a27e4": {
      "model_module": "@jupyter-widgets/base",
      "model_module_version": "1.2.0",
      "model_name": "LayoutModel",
      "state": {}
     },
     "3ec1159605e644d18c6e804123a2c6fd": {
      "model_module": "@jupyter-widgets/base",
      "model_module_version": "1.2.0",
      "model_name": "LayoutModel",
      "state": {}
     },
     "3edaa01630d54266908708b2cf88d067": {
      "model_module": "@jupyter-widgets/base",
      "model_module_version": "1.2.0",
      "model_name": "LayoutModel",
      "state": {
       "align_items": "stretch",
       "border": "dashed 0.2px green",
       "display": "flex",
       "flex_flow": "row",
       "grid_auto_columns": "True",
       "justify_content": "flex-start",
       "width": "100%"
      }
     },
     "3edaa497120c43e89e189a2e1f3fa378": {
      "model_module": "@jupyter-widgets/controls",
      "model_module_version": "1.5.0",
      "model_name": "HBoxModel",
      "state": {
       "children": [
        "IPY_MODEL_2aea0eeb608f429ca25ca330bc24b559",
        "IPY_MODEL_65089770cccd432490139097d7f6e5c6"
       ],
       "layout": "IPY_MODEL_f590832eba0b439488c037fb527d63d3"
      }
     },
     "3f0489fb9e724a4ab964ae54c4f4599c": {
      "model_module": "@jupyter-widgets/controls",
      "model_module_version": "1.5.0",
      "model_name": "VBoxModel",
      "state": {
       "children": [
        "IPY_MODEL_61b2274ddbe9418fb6eab547f8eaadd3",
        "IPY_MODEL_a38ceee2349542bbbd3faf8afa709827",
        "IPY_MODEL_dcb6861a335946239bfdf416cb9417d7",
        "IPY_MODEL_890ac42f2bab4a178f047e68801deb53",
        "IPY_MODEL_1fa966fe7c7d44bfb9bb97bbf7ebd591",
        "IPY_MODEL_bb0c5689781c447aa9c6f833af787884",
        "IPY_MODEL_35d5bae3503f46e09c8af513d79eb3b4",
        "IPY_MODEL_e5685833453c434fa4a5d57f9b8a3921"
       ],
       "layout": "IPY_MODEL_458e6e74cdc541628017a699405f682d"
      }
     },
     "3f19d195dcd349be995c6eea3e78ea33": {
      "model_module": "@jupyter-widgets/controls",
      "model_module_version": "1.5.0",
      "model_name": "DescriptionStyleModel",
      "state": {
       "description_width": ""
      }
     },
     "3f9639703c4b43ccb16d3e5cec24662d": {
      "model_module": "@jupyter-widgets/controls",
      "model_module_version": "1.5.0",
      "model_name": "HBoxModel",
      "state": {
       "children": [
        "IPY_MODEL_2817ee17b08441b7a760274cfbb31556",
        "IPY_MODEL_61ab46d50329417c825a62651ab4cca1"
       ],
       "layout": "IPY_MODEL_94ec8294bda349d4ba17814e562d4718"
      }
     },
     "3fc527e42091477d83345e6dad59a213": {
      "model_module": "@jupyter-widgets/base",
      "model_module_version": "1.2.0",
      "model_name": "LayoutModel",
      "state": {}
     },
     "3fcf48b8c8ec47da8bb4eda4cb7330a8": {
      "model_module": "@jupyter-widgets/base",
      "model_module_version": "1.2.0",
      "model_name": "LayoutModel",
      "state": {}
     },
     "3fd46956773a493287d21aa066417787": {
      "model_module": "@jupyter-widgets/base",
      "model_module_version": "1.2.0",
      "model_name": "LayoutModel",
      "state": {}
     },
     "3ffea3606a4a426796db06097bb25d62": {
      "model_module": "@jupyter-widgets/base",
      "model_module_version": "1.2.0",
      "model_name": "LayoutModel",
      "state": {
       "align_items": "stretch",
       "display": "flex",
       "flex_flow": "row",
       "grid_auto_columns": "True",
       "justify_content": "flex-start",
       "width": "80%"
      }
     },
     "4037ea21548748f59f9717395add6601": {
      "model_module": "@jupyter-widgets/base",
      "model_module_version": "1.2.0",
      "model_name": "LayoutModel",
      "state": {
       "align_items": "stretch",
       "border": "dashed 0.2px green",
       "display": "flex",
       "flex_flow": "row",
       "grid_auto_columns": "True",
       "justify_content": "flex-start",
       "width": "100%"
      }
     },
     "410278239ec0426f9456f080167635ce": {
      "model_module": "@jupyter-widgets/controls",
      "model_module_version": "1.5.0",
      "model_name": "DescriptionStyleModel",
      "state": {
       "description_width": ""
      }
     },
     "4114b6f4c40243b09d8026d8e9fd3c0d": {
      "model_module": "@jupyter-widgets/controls",
      "model_module_version": "1.5.0",
      "model_name": "DescriptionStyleModel",
      "state": {
       "description_width": ""
      }
     },
     "413f5b519c5242d18c83b2d4a7850c45": {
      "model_module": "@jupyter-widgets/base",
      "model_module_version": "1.2.0",
      "model_name": "LayoutModel",
      "state": {}
     },
     "416caf44ae3443d4bcffe6efedcde16d": {
      "model_module": "@jupyter-widgets/controls",
      "model_module_version": "1.5.0",
      "model_name": "DescriptionStyleModel",
      "state": {
       "description_width": ""
      }
     },
     "41794f2a5cb544f5971a66bb449801a7": {
      "model_module": "@jupyter-widgets/output",
      "model_module_version": "1.0.0",
      "model_name": "OutputModel",
      "state": {
       "layout": "IPY_MODEL_27ca141afd284adcb0598696475547e9"
      }
     },
     "41988729ea5041ebbb51a78a836b5807": {
      "model_module": "@jupyter-widgets/controls",
      "model_module_version": "1.5.0",
      "model_name": "HBoxModel",
      "state": {
       "children": [
        "IPY_MODEL_0243e084d521425fab263c5b1ac703f3",
        "IPY_MODEL_0512481085bd42b683b698b0408e2dfb"
       ],
       "layout": "IPY_MODEL_02b3f57ad1204540907c9be2c9526255"
      }
     },
     "41b541094f2e4df39078036c6c3ba9d7": {
      "model_module": "@jupyter-widgets/output",
      "model_module_version": "1.0.0",
      "model_name": "OutputModel",
      "state": {
       "layout": "IPY_MODEL_29543e2909264b8c96532c2e9f57f709"
      }
     },
     "41da5014c72748fab09de657c8969699": {
      "model_module": "@jupyter-widgets/controls",
      "model_module_version": "1.5.0",
      "model_name": "HTMLModel",
      "state": {
       "layout": "IPY_MODEL_44546b9b3b9d4cc59d588de2a6f936b7",
       "style": "IPY_MODEL_027cb65a434340a5adf12afaa83ad483",
       "value": "<p>reous foo ous foo st</p>"
      }
     },
     "42082e2b81f14e91a528447e1b06dfa1": {
      "model_module": "@jupyter-widgets/base",
      "model_module_version": "1.2.0",
      "model_name": "LayoutModel",
      "state": {
       "height": "30px",
       "width": "auto"
      }
     },
     "42227de7b4b246fea2782bcb9d110260": {
      "model_module": "@jupyter-widgets/base",
      "model_module_version": "1.2.0",
      "model_name": "LayoutModel",
      "state": {
       "align_items": "stretch",
       "display": "flex",
       "flex_flow": "row",
       "grid_auto_columns": "True",
       "justify_content": "flex-start",
       "width": "80%"
      }
     },
     "4245fc125fb54fa79fce05898ed3b515": {
      "model_module": "@jupyter-widgets/base",
      "model_module_version": "1.2.0",
      "model_name": "LayoutModel",
      "state": {}
     },
     "4269dd54c4734e509a70a90faa3644d3": {
      "model_module": "@jupyter-widgets/controls",
      "model_module_version": "1.5.0",
      "model_name": "DescriptionStyleModel",
      "state": {
       "description_width": ""
      }
     },
     "4276938541514f8888ce64065e06d7ab": {
      "model_module": "@jupyter-widgets/base",
      "model_module_version": "1.2.0",
      "model_name": "LayoutModel",
      "state": {}
     },
     "4299df1529ce4c579fc81fba86787691": {
      "model_module": "@jupyter-widgets/base",
      "model_module_version": "1.2.0",
      "model_name": "LayoutModel",
      "state": {}
     },
     "42a71f15dd19423cbbe183f956acfe60": {
      "model_module": "@jupyter-widgets/base",
      "model_module_version": "1.2.0",
      "model_name": "LayoutModel",
      "state": {}
     },
     "42ac20415f344615b15f181e236ca032": {
      "model_module": "@jupyter-widgets/controls",
      "model_module_version": "1.5.0",
      "model_name": "HBoxModel",
      "state": {
       "children": [
        "IPY_MODEL_c55d0d46da864478a461c8aa1784fca6",
        "IPY_MODEL_6c48e07024024092ad1e38d75caac84d"
       ],
       "layout": "IPY_MODEL_6ef48e165e154c8b8a6d6f22d5a2cb27"
      }
     },
     "42c265ac83914c5b93e94cd91c8a49aa": {
      "model_module": "@jupyter-widgets/base",
      "model_module_version": "1.2.0",
      "model_name": "LayoutModel",
      "state": {}
     },
     "42d97b23f40a4fbfb9717825f985ea42": {
      "model_module": "@jupyter-widgets/controls",
      "model_module_version": "1.5.0",
      "model_name": "DescriptionStyleModel",
      "state": {
       "description_width": ""
      }
     },
     "42fae9d20acb459baf84c6553a1ae99d": {
      "model_module": "@jupyter-widgets/base",
      "model_module_version": "1.2.0",
      "model_name": "LayoutModel",
      "state": {
       "align_items": "stretch",
       "border": "dashed 0.2px green",
       "display": "flex",
       "flex_flow": "row",
       "grid_auto_columns": "True",
       "justify_content": "flex-start",
       "width": "100%"
      }
     },
     "4302847f0f5f463fbd7b87522763130a": {
      "model_module": "@jupyter-widgets/base",
      "model_module_version": "1.2.0",
      "model_name": "LayoutModel",
      "state": {}
     },
     "4304956596614910964d9c663b0e7e92": {
      "model_module": "@jupyter-widgets/output",
      "model_module_version": "1.0.0",
      "model_name": "OutputModel",
      "state": {
       "layout": "IPY_MODEL_31d19a583816414aa83239b1c1bfda32"
      }
     },
     "432285c28a2e459f86cc2a7d0d111806": {
      "model_module": "@jupyter-widgets/base",
      "model_module_version": "1.2.0",
      "model_name": "LayoutModel",
      "state": {}
     },
     "4335bf88d67e413a80994e243148672f": {
      "model_module": "@jupyter-widgets/controls",
      "model_module_version": "1.5.0",
      "model_name": "HTMLModel",
      "state": {
       "layout": "IPY_MODEL_af7d53180a944a58a9ff13c0ad7d4a64",
       "style": "IPY_MODEL_6da69e84a7d3416da4b1d438d20d77a6",
       "value": "<p>its a foo cake</p>"
      }
     },
     "4347b168d7444035818b6c096c0ed768": {
      "model_module": "@jupyter-widgets/controls",
      "model_module_version": "1.5.0",
      "model_name": "DescriptionStyleModel",
      "state": {
       "description_width": ""
      }
     },
     "43bfcae65d744b38804543709158fd9b": {
      "model_module": "@jupyter-widgets/base",
      "model_module_version": "1.2.0",
      "model_name": "LayoutModel",
      "state": {}
     },
     "43c636b8903646be9413581d91ec0d0d": {
      "model_module": "@jupyter-widgets/controls",
      "model_module_version": "1.5.0",
      "model_name": "HBoxModel",
      "state": {
       "children": [
        "IPY_MODEL_5534a0eacfe44185b19c80a06c798c3b",
        "IPY_MODEL_bf0ccbfbfad7431ca65f801140afa232"
       ],
       "layout": "IPY_MODEL_74632a1e3ce142c2804178466d0d7b74"
      }
     },
     "43e647202cf347f2bda4110f5e6decde": {
      "model_module": "@jupyter-widgets/controls",
      "model_module_version": "1.5.0",
      "model_name": "HBoxModel",
      "state": {
       "children": [
        "IPY_MODEL_0fdd127e27e64d7cb09b554c6cb72822",
        "IPY_MODEL_b5ab681771294c5f933418b324533bda"
       ],
       "layout": "IPY_MODEL_ef1a2c86b2284532a40c6ddd0ee39c6f"
      }
     },
     "43e974bc904844f7adeec20c5f5ce931": {
      "model_module": "@jupyter-widgets/base",
      "model_module_version": "1.2.0",
      "model_name": "LayoutModel",
      "state": {}
     },
     "43fe051b280740db800aa29270f52358": {
      "model_module": "@jupyter-widgets/controls",
      "model_module_version": "1.5.0",
      "model_name": "ButtonModel",
      "state": {
       "description": "load",
       "icon": "upload",
       "layout": "IPY_MODEL_2d55efd4d2954a299144c2a903f850ce",
       "style": "IPY_MODEL_308cd979424345de89eb87c46665f5ca"
      }
     },
     "44087653b4c54b74842f6e6e3d62315f": {
      "model_module": "@jupyter-widgets/base",
      "model_module_version": "1.2.0",
      "model_name": "LayoutModel",
      "state": {}
     },
     "44546b9b3b9d4cc59d588de2a6f936b7": {
      "model_module": "@jupyter-widgets/base",
      "model_module_version": "1.2.0",
      "model_name": "LayoutModel",
      "state": {}
     },
     "44d26126ef37459f8cac1c6660dadd9b": {
      "model_module": "@jupyter-widgets/controls",
      "model_module_version": "1.5.0",
      "model_name": "HBoxModel",
      "state": {
       "children": [
        "IPY_MODEL_ab7e25e35cac46b79ee26c97191f5049",
        "IPY_MODEL_37834b82c47c441e9873aae92ce8235e"
       ],
       "layout": "IPY_MODEL_3022e22cfba34877b91d67e7c6ff1a3b"
      }
     },
     "44de871af59046a4b18221ed209f8f9b": {
      "model_module": "@jupyter-widgets/controls",
      "model_module_version": "1.5.0",
      "model_name": "HBoxModel",
      "state": {
       "children": [
        "IPY_MODEL_33bf9dd59e8941beb026de9eaa4dc4c8"
       ],
       "layout": "IPY_MODEL_e5c4854eac20408aa8761fd73b4ab1ae"
      }
     },
     "4502803923ce45d981bf0578d8b84d6a": {
      "model_module": "@jupyter-widgets/output",
      "model_module_version": "1.0.0",
      "model_name": "OutputModel",
      "state": {
       "layout": "IPY_MODEL_314a645939b346f6a9df6ccf6c327148"
      }
     },
     "45376ece1b834be5abc1e02bcb9fc297": {
      "model_module": "@jupyter-widgets/base",
      "model_module_version": "1.2.0",
      "model_name": "LayoutModel",
      "state": {
       "align_items": "stretch",
       "display": "flex",
       "flex_flow": "row",
       "grid_auto_columns": "True",
       "justify_content": "flex-start",
       "width": "80%"
      }
     },
     "458e6e74cdc541628017a699405f682d": {
      "model_module": "@jupyter-widgets/base",
      "model_module_version": "1.2.0",
      "model_name": "LayoutModel",
      "state": {}
     },
     "45abbe357d13432688dd1845111379e1": {
      "model_module": "@jupyter-widgets/controls",
      "model_module_version": "1.5.0",
      "model_name": "ButtonModel",
      "state": {
       "button_style": "success",
       "description": "save",
       "layout": "IPY_MODEL_7daf9b1f5af842e6ade757c5a8bb71c2",
       "style": "IPY_MODEL_36f26506834944d6a95c679471973f53"
      }
     },
     "45b9c8c8d7744b1598279db9c9811c76": {
      "model_module": "@jupyter-widgets/base",
      "model_module_version": "1.2.0",
      "model_name": "LayoutModel",
      "state": {
       "align_items": "stretch",
       "display": "flex",
       "flex_flow": "row",
       "grid_auto_columns": "True",
       "justify_content": "flex-start",
       "width": "80%"
      }
     },
     "46050c61e49c434d9ec3457746e610f0": {
      "model_module": "@jupyter-widgets/controls",
      "model_module_version": "1.5.0",
      "model_name": "HTMLModel",
      "state": {
       "layout": "IPY_MODEL_bf9b1b76bdb2467881081ea8ace9cecd",
       "style": "IPY_MODEL_6137acc018b54fc4831ff279808a0c5b",
       "value": "<p>Number, using to prefix the file name</p>"
      }
     },
     "461b6593eb994ace914f901e99192313": {
      "model_module": "@jupyter-widgets/base",
      "model_module_version": "1.2.0",
      "model_name": "LayoutModel",
      "state": {}
     },
     "46755b41839f448084f963af871f35a3": {
      "model_module": "@jupyter-widgets/controls",
      "model_module_version": "1.5.0",
      "model_name": "HBoxModel",
      "state": {
       "children": [
        "IPY_MODEL_a3eb5580f8e4407bac39e5fc6e06723c",
        "IPY_MODEL_d3769369d502406a8613e16248e62947"
       ],
       "layout": "IPY_MODEL_7bf231f186f74cf1bad7885b874b1f4f"
      }
     },
     "4678103165b34a27b85d519be6637d3a": {
      "model_module": "@jupyter-widgets/base",
      "model_module_version": "1.2.0",
      "model_name": "LayoutModel",
      "state": {}
     },
     "4678920468a740fab12aa5a608c5fbec": {
      "model_module": "@jupyter-widgets/base",
      "model_module_version": "1.2.0",
      "model_name": "LayoutModel",
      "state": {
       "align_items": "stretch",
       "border": "dashed 0.2px green",
       "display": "flex",
       "flex_flow": "row",
       "grid_auto_columns": "True",
       "justify_content": "flex-start",
       "width": "100%"
      }
     },
     "468d49983a974aad94dfd0b3a29fbb72": {
      "model_module": "@jupyter-widgets/base",
      "model_module_version": "1.2.0",
      "model_name": "LayoutModel",
      "state": {}
     },
     "46a3fb6550c84d40ad7dda6cf8554730": {
      "model_module": "@jupyter-widgets/output",
      "model_module_version": "1.0.0",
      "model_name": "OutputModel",
      "state": {
       "layout": "IPY_MODEL_1ceda26c87b345f9a189ed39872d26f9"
      }
     },
     "46adea635e67489c95c1bf9529374895": {
      "model_module": "@jupyter-widgets/controls",
      "model_module_version": "1.5.0",
      "model_name": "HTMLModel",
      "state": {
       "layout": "IPY_MODEL_7d1047d8fccb40a0bd5b6bd366cc7b7a",
       "style": "IPY_MODEL_eddd0453b0d44436af17aca8426b39f4",
       "value": "<p>label</p>"
      }
     },
     "46b13dd6d82e40efb38d85e7659e6932": {
      "model_module": "@jupyter-widgets/controls",
      "model_module_version": "1.5.0",
      "model_name": "ButtonModel",
      "state": {
       "button_style": "success",
       "description": "save",
       "layout": "IPY_MODEL_ad7625c93c694f72a8958fdbf7c46032",
       "style": "IPY_MODEL_5967a4c5301541909800d93c8779397b"
      }
     },
     "46b5a443bab243928be807e2a021267d": {
      "model_module": "@jupyter-widgets/controls",
      "model_module_version": "1.5.0",
      "model_name": "VBoxModel",
      "state": {
       "children": [
        "IPY_MODEL_bdfbb3b337a64d5d9fb80045e0d0d92e",
        "IPY_MODEL_2452df9592fd48549df0cfb8b6b78486",
        "IPY_MODEL_abcf90459f834c879cfec4bb4c70380f"
       ],
       "layout": "IPY_MODEL_e2d0c15af2fa453286dffb0737a08f52"
      }
     },
     "472eeb4d6ec243e9814a3063baf99745": {
      "model_module": "@jupyter-widgets/base",
      "model_module_version": "1.2.0",
      "model_name": "LayoutModel",
      "state": {
       "align_items": "stretch",
       "border": "dashed 0.2px green",
       "display": "flex",
       "flex_flow": "row",
       "grid_auto_columns": "True",
       "justify_content": "flex-start",
       "width": "100%"
      }
     },
     "473087e7e74e4216ba1ff7cdb8bef66d": {
      "model_module": "@jupyter-widgets/base",
      "model_module_version": "1.2.0",
      "model_name": "LayoutModel",
      "state": {}
     },
     "473a89dd3c8b4df2941d6e81f9fab754": {
      "model_module": "@jupyter-widgets/controls",
      "model_module_version": "1.5.0",
      "model_name": "HBoxModel",
      "state": {
       "children": [
        "IPY_MODEL_36877a61c6f1490b8735d176a3071943",
        "IPY_MODEL_708370184a0e4d27a57bda1e59759613",
        "IPY_MODEL_f05089bda43e42389bf6d1100260e966"
       ],
       "layout": "IPY_MODEL_8a42e1addcd34e22900a4f2958e07946"
      }
     },
     "4754137585f045af99a90c05db2ef538": {
      "model_module": "@jupyter-widgets/controls",
      "model_module_version": "1.5.0",
      "model_name": "DescriptionStyleModel",
      "state": {
       "description_width": ""
      }
     },
     "475ea61d288c40ae99934c3f603e69e1": {
      "model_module": "@jupyter-widgets/controls",
      "model_module_version": "1.5.0",
      "model_name": "DescriptionStyleModel",
      "state": {
       "description_width": ""
      }
     },
     "476ee2631cf44a76abd33055a8ae23d0": {
      "model_module": "@jupyter-widgets/base",
      "model_module_version": "1.2.0",
      "model_name": "LayoutModel",
      "state": {}
     },
     "477ff1ce4d164b5e8f6db1cc0f7ff2a3": {
      "model_module": "@jupyter-widgets/controls",
      "model_module_version": "1.5.0",
      "model_name": "ToggleButtonModel",
      "state": {
       "icon": "arrow-down",
       "layout": "IPY_MODEL_2bc3ea94a3ac4845a083f248e123f934",
       "style": "IPY_MODEL_c76aa6f6cb2645e788e4086758634421"
      }
     },
     "4788cae39fc64acca090f12a0aef2cd6": {
      "model_module": "@jupyter-widgets/controls",
      "model_module_version": "1.5.0",
      "model_name": "DescriptionStyleModel",
      "state": {
       "description_width": ""
      }
     },
     "47b5715a63724c709de26816ac73a123": {
      "model_module": "@jupyter-widgets/base",
      "model_module_version": "1.2.0",
      "model_name": "LayoutModel",
      "state": {}
     },
     "480ec8322ea748b4912b210152444675": {
      "model_module": "@jupyter-widgets/controls",
      "model_module_version": "1.5.0",
      "model_name": "HTMLModel",
      "state": {
       "layout": "IPY_MODEL_6bfd6603a2e240cc8793dc60411f145f",
       "style": "IPY_MODEL_04492a8ea9f5411e95d737e27da2d6c3",
       "value": "<p>Date Picker</p>"
      }
     },
     "4833f5814744443295c78e0069c5da76": {
      "model_module": "@jupyter-widgets/controls",
      "model_module_version": "1.5.0",
      "model_name": "ToggleButtonModel",
      "state": {
       "button_style": "info",
       "description": "inputs from file",
       "layout": "IPY_MODEL_e57d4d67d51a4fa7a7031d2c187c44d9",
       "style": "IPY_MODEL_31c5f2c6d57a42b9a5a744f6c56d7d58"
      }
     },
     "484cecce8d224b56a18ac5d49be5830f": {
      "model_module": "@jupyter-widgets/controls",
      "model_module_version": "1.5.0",
      "model_name": "ToggleButtonModel",
      "state": {
       "icon": "arrow-down",
       "layout": "IPY_MODEL_d28c8f92437e4acba39745af3474a6f9",
       "style": "IPY_MODEL_b06d5d2d1e4e4d15b47f035b0506559a"
      }
     },
     "4866c0228c3548899993cd76901a1037": {
      "model_module": "@jupyter-widgets/controls",
      "model_module_version": "1.5.0",
      "model_name": "HBoxModel",
      "state": {
       "children": [
        "IPY_MODEL_b109e6a71b8048cdbad08aeb2dee539f",
        "IPY_MODEL_890bdfe08de64ddb969533db7fc9684d"
       ],
       "layout": "IPY_MODEL_b97eda7d490d4a67a37b25ff5a221c8b"
      }
     },
     "4878be42652242c894f35b489ae3f310": {
      "model_module": "@jupyter-widgets/controls",
      "model_module_version": "1.5.0",
      "model_name": "HBoxModel",
      "state": {
       "children": [
        "IPY_MODEL_ed0976d3a4234d129aab6578c8e219e9"
       ],
       "layout": "IPY_MODEL_6a4a7025d3f74dec9971c6406f7e2e1d"
      }
     },
     "48cb92b8134d4369bcf28254233f3215": {
      "model_module": "@jupyter-widgets/controls",
      "model_module_version": "1.5.0",
      "model_name": "TextareaModel",
      "state": {
       "layout": "IPY_MODEL_fa68307f10794a4585c076811c66d9aa",
       "style": "IPY_MODEL_3d7ec6adfd1f4076aef06f5a922d3734",
       "value": "asdfasdf"
      }
     },
     "491b594c6bb64ccf9754642c8a14334e": {
      "model_module": "@jupyter-widgets/controls",
      "model_module_version": "1.5.0",
      "model_name": "HBoxModel",
      "state": {
       "children": [
        "IPY_MODEL_101f9f77515e4e3ba20c423b9c9cafd2",
        "IPY_MODEL_6668ad48b0b34436b96c1610551b938e"
       ],
       "layout": "IPY_MODEL_9b62ab78026e41eca2128c594e9219f9"
      }
     },
     "49298d217d604f0489de941aef311aa1": {
      "model_module": "@jupyter-widgets/controls",
      "model_module_version": "1.5.0",
      "model_name": "DescriptionStyleModel",
      "state": {
       "description_width": ""
      }
     },
     "4955eadea3014d15ad3bbff045d5472f": {
      "model_module": "@jupyter-widgets/output",
      "model_module_version": "1.0.0",
      "model_name": "OutputModel",
      "state": {
       "layout": "IPY_MODEL_43bfcae65d744b38804543709158fd9b"
      }
     },
     "49d47aefaa714af697e84dd9f21b6d9c": {
      "model_module": "@jupyter-widgets/controls",
      "model_module_version": "1.5.0",
      "model_name": "HBoxModel",
      "state": {
       "children": [
        "IPY_MODEL_39a98aeaeeed4fc89d8e36a3be70bbdc"
       ],
       "layout": "IPY_MODEL_2dfedcb80aea4cd6915dbd16fdbc1f05"
      }
     },
     "49ec5e59d2794f1abea5f406b4874a01": {
      "model_module": "@jupyter-widgets/controls",
      "model_module_version": "1.5.0",
      "model_name": "ToggleButtonModel",
      "state": {
       "button_style": "info",
       "description": "inputs from file",
       "layout": "IPY_MODEL_63dddfaad64541dfaddb0988256d802b",
       "style": "IPY_MODEL_c92f1980542d45a79e35028884fde5c6"
      }
     },
     "4a0c6e6e298a4d01b19b9f0bd7aeacad": {
      "model_module": "@jupyter-widgets/base",
      "model_module_version": "1.2.0",
      "model_name": "LayoutModel",
      "state": {}
     },
     "4a1387fbb27841a6b2633a814ee1229f": {
      "model_module": "@jupyter-widgets/controls",
      "model_module_version": "1.5.0",
      "model_name": "HTMLModel",
      "state": {
       "layout": "IPY_MODEL_26c1aca4ee584e08b0ac27b9be4f3ba6",
       "style": "IPY_MODEL_b7550be14d3048a1958c1f288cd9508d",
       "value": "<p>its a foo cake</p>"
      }
     },
     "4a1a69857036444fa26d136773780164": {
      "model_module": "@jupyter-widgets/controls",
      "model_module_version": "1.5.0",
      "model_name": "HTMLModel",
      "state": {
       "layout": "IPY_MODEL_377a63ca335c4710b45568e55e60c687",
       "style": "IPY_MODEL_d3612115ca1148ea86ec1a80955833c0",
       "value": "<p>fus foo ous o</p>"
      }
     },
     "4a2b99d374d3440ea900a067e95ed05c": {
      "model_module": "@jupyter-widgets/base",
      "model_module_version": "1.2.0",
      "model_name": "LayoutModel",
      "state": {}
     },
     "4a66c2f7f7ac49428f50f16bd8b84e1d": {
      "model_module": "@jupyter-widgets/base",
      "model_module_version": "1.2.0",
      "model_name": "LayoutModel",
      "state": {
       "align_items": "stretch",
       "display": "flex",
       "flex_flow": "row",
       "grid_auto_columns": "True",
       "justify_content": "flex-end",
       "width": "90%"
      }
     },
     "4a68b6496eb543499768167f290a2261": {
      "model_module": "@jupyter-widgets/controls",
      "model_module_version": "1.5.0",
      "model_name": "HBoxModel",
      "state": {
       "children": [
        "IPY_MODEL_ddce1d3029084a73ad3da83d4c9ca583"
       ],
       "layout": "IPY_MODEL_14ae11ff5f98488585c618742594c528"
      }
     },
     "4b57cf6af76f41f79057b5e44cddfc8d": {
      "model_module": "@jupyter-widgets/controls",
      "model_module_version": "1.5.0",
      "model_name": "HTMLModel",
      "state": {
       "layout": "IPY_MODEL_86e3710ba8074d1eb1a3967453b9e5c1",
       "style": "IPY_MODEL_e58ab8c3d4e24db38ac8cd6543d25fe5",
       "value": "<p>fpth_in</p>"
      }
     },
     "4b58fe4ee2ef4688bd4b583ebe398dd2": {
      "model_module": "@jupyter-widgets/base",
      "model_module_version": "1.2.0",
      "model_name": "LayoutModel",
      "state": {
       "align_items": "stretch",
       "border": "dashed 0.2px green",
       "display": "flex",
       "flex_flow": "row",
       "grid_auto_columns": "True",
       "justify_content": "flex-start",
       "width": "100%"
      }
     },
     "4b71279087f94f6ca0701fbd401773b0": {
      "model_module": "@jupyter-widgets/controls",
      "model_module_version": "1.5.0",
      "model_name": "DescriptionStyleModel",
      "state": {
       "description_width": ""
      }
     },
     "4ba2f1982b484e4fbb0e234b78ce0900": {
      "model_module": "@jupyter-widgets/controls",
      "model_module_version": "1.5.0",
      "model_name": "DescriptionStyleModel",
      "state": {
       "description_width": ""
      }
     },
     "4ba5ae2e0fcc4b9093dfe2af7f87c178": {
      "model_module": "@jupyter-widgets/output",
      "model_module_version": "1.0.0",
      "model_name": "OutputModel",
      "state": {
       "layout": "IPY_MODEL_eec2ca29553749909d8bb3c45b400afb"
      }
     },
     "4bc7d85d5baf46a994ba539458a2a355": {
      "model_module": "@jupyter-widgets/controls",
      "model_module_version": "1.5.0",
      "model_name": "TextareaModel",
      "state": {
       "layout": "IPY_MODEL_c07270d14d564adf9b772e52006887cb",
       "style": "IPY_MODEL_3a2c33452ef5425fbf548c8633df9b86",
       "value": "asdfasdf"
      }
     },
     "4bcbfcb0a7264cb2a7ce6e6617501be9": {
      "model_module": "@jupyter-widgets/controls",
      "model_module_version": "1.5.0",
      "model_name": "HBoxModel",
      "state": {
       "children": [
        "IPY_MODEL_d74faa729dca4a098f8841bf3fdcf535",
        "IPY_MODEL_fdc033767b93475dbbacaf78ec0074eb"
       ],
       "layout": "IPY_MODEL_d6eaaa103ce84fd98f2e3765a3622411"
      }
     },
     "4c4c9eb4f66047e5a4091b65e7eb29c8": {
      "model_module": "@jupyter-widgets/output",
      "model_module_version": "1.0.0",
      "model_name": "OutputModel",
      "state": {
       "layout": "IPY_MODEL_b6d44bb1e0ec496cbcc9786b5c88a51e"
      }
     },
     "4cc0a676d1694815ad8272eada8b4764": {
      "model_module": "@jupyter-widgets/controls",
      "model_module_version": "1.5.0",
      "model_name": "FloatSliderModel",
      "state": {
       "layout": "IPY_MODEL_274ee1ff15054c1a932e2d7118c7993c",
       "max": 10,
       "style": "IPY_MODEL_02b2db2d6d99486ba5d94e6ce84d4bf4",
       "value": 1
      }
     },
     "4d607d51f0e0454687e3e09ddc2448f0": {
      "model_module": "@jupyter-widgets/controls",
      "model_module_version": "1.5.0",
      "model_name": "ButtonModel",
      "state": {
       "description": "save",
       "layout": "IPY_MODEL_b599495deedf47dc9ec8be54289e1b99",
       "style": "IPY_MODEL_fa7bc6afe74b41a8a66ddea0fa45b298"
      }
     },
     "4d68b93d0a794ba3a9893b2c9456359a": {
      "model_module": "@jupyter-widgets/base",
      "model_module_version": "1.2.0",
      "model_name": "LayoutModel",
      "state": {}
     },
     "4d7577328e0d4b4098345c6e2d4c6f46": {
      "model_module": "@jupyter-widgets/controls",
      "model_module_version": "1.5.0",
      "model_name": "HTMLModel",
      "state": {
       "layout": "IPY_MODEL_bf2aca50e8664ef7915461c2fcde580a",
       "style": "IPY_MODEL_3749fc00959b4c25b8717c83b56d3df3",
       "value": "<p>Date Picker</p>"
      }
     },
     "4d7667876d3c492a9ecb060125ab1a1a": {
      "model_module": "@jupyter-widgets/controls",
      "model_module_version": "1.5.0",
      "model_name": "DescriptionStyleModel",
      "state": {
       "description_width": ""
      }
     },
     "4d7cc01e327c413da75b0671f84f39ee": {
      "model_module": "@jupyter-widgets/controls",
      "model_module_version": "1.5.0",
      "model_name": "HTMLModel",
      "state": {
       "layout": "IPY_MODEL_23e6dd38a08949588ee977cfdf04e534",
       "style": "IPY_MODEL_8affa32ff7504a448a253c12d585494a",
       "value": "<p>reus foo ous oo ous foo st</p>"
      }
     },
     "4d9602e076354bba9b1f89b77a5fcdce": {
      "model_module": "@jupyter-widgets/controls",
      "model_module_version": "1.5.0",
      "model_name": "HBoxModel",
      "state": {
       "children": [
        "IPY_MODEL_d03b0bfae19b4fe5b2e1244a79366fd9",
        "IPY_MODEL_66f5a60da892495db28f4d426813e056"
       ],
       "layout": "IPY_MODEL_2d243411012d4be6997267c67bdf63b1"
      }
     },
     "4dab3217ff0144d0b87bbb0c85baa784": {
      "model_module": "@jupyter-widgets/controls",
      "model_module_version": "1.5.0",
      "model_name": "HTMLModel",
      "state": {
       "layout": "IPY_MODEL_747d441a1a9b4903b571385faeb9c698",
       "style": "IPY_MODEL_dc50d64db71648f5b932a048a5c1265b",
       "value": "<p>label</p>"
      }
     },
     "4dba5bd4cebb430bbd64a138df8c7183": {
      "model_module": "@jupyter-widgets/base",
      "model_module_version": "1.2.0",
      "model_name": "LayoutModel",
      "state": {
       "align_items": "stretch",
       "display": "flex",
       "flex_flow": "row",
       "grid_auto_columns": "True",
       "justify_content": "flex-end",
       "width": "90%"
      }
     },
     "4dc140550e35417caa1947c69037cc63": {
      "model_module": "@jupyter-widgets/base",
      "model_module_version": "1.2.0",
      "model_name": "LayoutModel",
      "state": {}
     },
     "4de9a5f5ce31416992f9d04a8123bfbe": {
      "model_module": "@jupyter-widgets/base",
      "model_module_version": "1.2.0",
      "model_name": "LayoutModel",
      "state": {}
     },
     "4e9de5408a1c4cf4b38fb59576580928": {
      "model_module": "@jupyter-widgets/output",
      "model_module_version": "1.0.0",
      "model_name": "OutputModel",
      "state": {
       "layout": "IPY_MODEL_e84b055d64b2458e94c20cfe7f1c4333"
      }
     },
     "4eb4b3fc6e9c4a93b773afcc20385efa": {
      "model_module": "@jupyter-widgets/controls",
      "model_module_version": "1.5.0",
      "model_name": "DescriptionStyleModel",
      "state": {
       "description_width": ""
      }
     },
     "4ec381e818f741579cb06d17470e085b": {
      "model_module": "@jupyter-widgets/base",
      "model_module_version": "1.2.0",
      "model_name": "LayoutModel",
      "state": {}
     },
     "4ec834eb260a4091a6046754b03ec16c": {
      "model_module": "@jupyter-widgets/controls",
      "model_module_version": "1.5.0",
      "model_name": "HTMLModel",
      "state": {
       "layout": "IPY_MODEL_57f89a3ee2694e089d3b3cad6e9495af",
       "style": "IPY_MODEL_76f14b0aaf134dab9cafffe96ea438be",
       "value": "<p>File Tag</p>"
      }
     },
     "4f09861936ed456fbc2f8434b2522f41": {
      "model_module": "@jupyter-widgets/base",
      "model_module_version": "1.2.0",
      "model_name": "LayoutModel",
      "state": {
       "align_items": "stretch",
       "display": "flex",
       "flex_flow": "row",
       "grid_auto_columns": "True",
       "justify_content": "flex-end",
       "width": "90%"
      }
     },
     "4f0fe969e5b64981b6b45823c3628354": {
      "model_module": "@jupyter-widgets/base",
      "model_module_version": "1.2.0",
      "model_name": "LayoutModel",
      "state": {}
     },
     "4f10f1a605404e1798dbd767f36600df": {
      "model_module": "@jupyter-widgets/controls",
      "model_module_version": "1.5.0",
      "model_name": "DescriptionStyleModel",
      "state": {
       "description_width": ""
      }
     },
     "4f561e686b824c0bb70fb4e4aadb9486": {
      "model_module": "@jupyter-widgets/controls",
      "model_module_version": "1.5.0",
      "model_name": "HBoxModel",
      "state": {
       "children": [
        "IPY_MODEL_4cc0a676d1694815ad8272eada8b4764",
        "IPY_MODEL_b822d0a844614902804a422b44d3f406"
       ],
       "layout": "IPY_MODEL_f6235f5daa0d414e92e34435f9844815"
      }
     },
     "4f67871541164860ac598632bda6f643": {
      "model_module": "@jupyter-widgets/base",
      "model_module_version": "1.2.0",
      "model_name": "LayoutModel",
      "state": {
       "display": "flex",
       "flex_flow": "row",
       "grid_auto_columns": "False",
       "justify_content": "flex-start",
       "width": "100%"
      }
     },
     "4fd5be59890d4cd79aef874f6bf5099e": {
      "model_module": "@jupyter-widgets/controls",
      "model_module_version": "1.5.0",
      "model_name": "HBoxModel",
      "state": {
       "children": [
        "IPY_MODEL_b2b4989b870a42a7b9f98cd7fa704008"
       ],
       "layout": "IPY_MODEL_f3cf3f7f23f94b40938a8dd3fbfa392a"
      }
     },
     "5003c11eb3d54a3b8c244d29c84b3f45": {
      "model_module": "@jupyter-widgets/controls",
      "model_module_version": "1.5.0",
      "model_name": "DescriptionStyleModel",
      "state": {
       "description_width": ""
      }
     },
     "5017e72948a54d35a972941d74166544": {
      "model_module": "@jupyter-widgets/base",
      "model_module_version": "1.2.0",
      "model_name": "LayoutModel",
      "state": {
       "align_items": "stretch",
       "display": "flex",
       "flex_flow": "row",
       "grid_auto_columns": "True",
       "justify_content": "flex-start",
       "width": "80%"
      }
     },
     "50ac7ae9a9024eb1aa5ae1e0a005f456": {
      "model_module": "@jupyter-widgets/controls",
      "model_module_version": "1.5.0",
      "model_name": "DescriptionStyleModel",
      "state": {
       "description_width": ""
      }
     },
     "50dace9596a94962a664513eed20118f": {
      "model_module": "@jupyter-widgets/controls",
      "model_module_version": "1.5.0",
      "model_name": "DescriptionStyleModel",
      "state": {
       "description_width": ""
      }
     },
     "50eed374e329491883ccf8879a1c157e": {
      "model_module": "@jupyter-widgets/controls",
      "model_module_version": "1.5.0",
      "model_name": "HTMLModel",
      "state": {
       "layout": "IPY_MODEL_bbc546bd21c14bbf9516ac984676e64c",
       "style": "IPY_MODEL_d00f8cd6c9f543da841e517c724edc3b",
       "value": "<p>label</p>"
      }
     },
     "51408a79f8fd4194b06bb73313676d87": {
      "model_module": "@jupyter-widgets/output",
      "model_module_version": "1.0.0",
      "model_name": "OutputModel",
      "state": {
       "layout": "IPY_MODEL_9bfc1d57f73449cc9f8a61480cc5abe0"
      }
     },
     "515bafc7764e4092821a8c5cd3591683": {
      "model_module": "@jupyter-widgets/controls",
      "model_module_version": "1.5.0",
      "model_name": "DescriptionStyleModel",
      "state": {
       "description_width": ""
      }
     },
     "515d468c7314474d961f2b4217201961": {
      "model_module": "@jupyter-widgets/base",
      "model_module_version": "1.2.0",
      "model_name": "LayoutModel",
      "state": {
       "align_items": "stretch",
       "border": "dashed 0.2px green",
       "display": "flex",
       "flex_flow": "row",
       "grid_auto_columns": "True",
       "justify_content": "flex-start",
       "width": "100%"
      }
     },
     "518f5eed911f41978401c4335ab2a0fd": {
      "model_module": "@jupyter-widgets/controls",
      "model_module_version": "1.5.0",
      "model_name": "DescriptionStyleModel",
      "state": {
       "description_width": ""
      }
     },
     "5193bc4034b440268a3430ea60d30b30": {
      "model_module": "@jupyter-widgets/controls",
      "model_module_version": "1.5.0",
      "model_name": "DescriptionStyleModel",
      "state": {
       "description_width": ""
      }
     },
     "51f6a442500646f4af487b4dc023e8da": {
      "model_module": "@jupyter-widgets/controls",
      "model_module_version": "1.5.0",
      "model_name": "DescriptionStyleModel",
      "state": {
       "description_width": ""
      }
     },
     "5217230e583d45eb82728102e6ae6129": {
      "model_module": "@jupyter-widgets/base",
      "model_module_version": "1.2.0",
      "model_name": "LayoutModel",
      "state": {}
     },
     "52b69139cba64a758064301551510d4a": {
      "model_module": "@jupyter-widgets/base",
      "model_module_version": "1.2.0",
      "model_name": "LayoutModel",
      "state": {}
     },
     "5302f79a5acc45bd94f81d7514fc43fa": {
      "model_module": "@jupyter-widgets/controls",
      "model_module_version": "1.5.0",
      "model_name": "HTMLModel",
      "state": {
       "layout": "IPY_MODEL_ec917739cdf343c2856f7cf8880f49f5",
       "style": "IPY_MODEL_4754137585f045af99a90c05db2ef538",
       "value": "<p>foo</p>"
      }
     },
     "53049f96be0c4ee4b2f48f4088e4715e": {
      "model_module": "@jupyter-widgets/base",
      "model_module_version": "1.2.0",
      "model_name": "LayoutModel",
      "state": {
       "align_items": "stretch",
       "display": "flex",
       "flex_flow": "row",
       "grid_auto_columns": "True",
       "justify_content": "flex-start",
       "width": "80%"
      }
     },
     "5342aa57b7e4495386626637ff627f6d": {
      "model_module": "@jupyter-widgets/controls",
      "model_module_version": "1.5.0",
      "model_name": "HBoxModel",
      "state": {
       "children": [
        "IPY_MODEL_35bd64a539be4f7294267efb710ec0af",
        "IPY_MODEL_cb94c0985dec47e0b85a3e7aeafdee65"
       ],
       "layout": "IPY_MODEL_8e1cad78934c45b5b33b0853b7e4db30"
      }
     },
     "53867cc1a1c44deb8ad7bdec5cd6e60f": {
      "model_module": "@jupyter-widgets/base",
      "model_module_version": "1.2.0",
      "model_name": "LayoutModel",
      "state": {
       "align_items": "stretch",
       "display": "flex",
       "flex_flow": "row",
       "grid_auto_columns": "True",
       "justify_content": "flex-start",
       "width": "80%"
      }
     },
     "53b3f9134a054db8855ae30e15d8dcf1": {
      "model_module": "@jupyter-widgets/base",
      "model_module_version": "1.2.0",
      "model_name": "LayoutModel",
      "state": {
       "align_items": "stretch",
       "display": "flex",
       "flex_flow": "row",
       "grid_auto_columns": "True",
       "justify_content": "flex-end",
       "width": "90%"
      }
     },
     "53b91fe6875e4b59848f3d76b4c9b7b8": {
      "model_module": "@jupyter-widgets/base",
      "model_module_version": "1.2.0",
      "model_name": "LayoutModel",
      "state": {}
     },
     "53bedfcce130496dbdc8fca8b766bbee": {
      "model_module": "@jupyter-widgets/controls",
      "model_module_version": "1.5.0",
      "model_name": "HBoxModel",
      "state": {
       "children": [
        "IPY_MODEL_1ff16ffa2e76424e8bd7360b2f50c4e8"
       ],
       "layout": "IPY_MODEL_58e6e50e818f479ea1245211dd911a2d"
      }
     },
     "53e2115fd12043459e899680555df217": {
      "model_module": "@jupyter-widgets/controls",
      "model_module_version": "1.5.0",
      "model_name": "DescriptionStyleModel",
      "state": {
       "description_width": ""
      }
     },
     "5426adc1e26441ea95b95a33c78ec22a": {
      "model_module": "@jupyter-widgets/base",
      "model_module_version": "1.2.0",
      "model_name": "LayoutModel",
      "state": {
       "align_items": "stretch",
       "display": "flex",
       "flex_flow": "row",
       "grid_auto_columns": "True",
       "justify_content": "flex-start",
       "width": "80%"
      }
     },
     "543520aadc5f41e0a75e3963cdf07ea2": {
      "model_module": "@jupyter-widgets/controls",
      "model_module_version": "1.5.0",
      "model_name": "HBoxModel",
      "state": {
       "children": [
        "IPY_MODEL_0f186d19979d4f2ebcc40e48148ae457",
        "IPY_MODEL_184e0d7296484b7fb66e2669cf4c416c"
       ],
       "layout": "IPY_MODEL_a887891f3f694f2192005f221bb264c6"
      }
     },
     "545339d71c8e451ba2bdb151d4de59cf": {
      "model_module": "@jupyter-widgets/base",
      "model_module_version": "1.2.0",
      "model_name": "LayoutModel",
      "state": {
       "align_items": "stretch",
       "display": "flex",
       "flex_flow": "row",
       "grid_auto_columns": "True",
       "justify_content": "flex-end",
       "width": "90%"
      }
     },
     "551740580eff452490ea6c48568a7ade": {
      "model_module": "@jupyter-widgets/base",
      "model_module_version": "1.2.0",
      "model_name": "LayoutModel",
      "state": {}
     },
     "55349ce0d94b470cb2d13e9106fb54a7": {
      "model_module": "@jupyter-widgets/controls",
      "model_module_version": "1.5.0",
      "model_name": "HTMLModel",
      "state": {
       "layout": "IPY_MODEL_8e5ddef033684e37ba006b9e0e2c66ca",
       "style": "IPY_MODEL_3a3a404565d74ddcaebd0080c4fce0f8",
       "value": "<p>fus foo ous o</p>"
      }
     },
     "5534a0eacfe44185b19c80a06c798c3b": {
      "model_module": "@jupyter-widgets/controls",
      "model_module_version": "1.5.0",
      "model_name": "HTMLModel",
      "state": {
       "layout": "IPY_MODEL_e734b311b8594941a4f9fb280124e35e",
       "style": "IPY_MODEL_4eb4b3fc6e9c4a93b773afcc20385efa",
       "value": "<p>File Prefix</p>"
      }
     },
     "5562537ed8a544a7bd42953945883704": {
      "model_module": "@jupyter-widgets/base",
      "model_module_version": "1.2.0",
      "model_name": "LayoutModel",
      "state": {
       "align_items": "stretch",
       "display": "flex",
       "flex_flow": "row",
       "grid_auto_columns": "True",
       "justify_content": "flex-start",
       "width": "80%"
      }
     },
     "5576341dd88c47be9e75e2c4cb9a65d8": {
      "model_module": "@jupyter-widgets/base",
      "model_module_version": "1.2.0",
      "model_name": "LayoutModel",
      "state": {}
     },
     "558538af6cd04111b627a0d42d4789cb": {
      "model_module": "@jupyter-widgets/controls",
      "model_module_version": "1.5.0",
      "model_name": "ButtonStyleModel",
      "state": {
       "font_weight": "bold"
      }
     },
     "55ca9c12a04d421c8f06852613bbf0a8": {
      "model_module": "@jupyter-widgets/controls",
      "model_module_version": "1.5.0",
      "model_name": "ButtonModel",
      "state": {
       "description": "load",
       "icon": "upload",
       "layout": "IPY_MODEL_4678103165b34a27b85d519be6637d3a",
       "style": "IPY_MODEL_e66a88aca87c40e8897bfefa87aec4d2"
      }
     },
     "55e7d6d4162b409bb4cfddac8d038059": {
      "model_module": "@jupyter-widgets/base",
      "model_module_version": "1.2.0",
      "model_name": "LayoutModel",
      "state": {
       "align_items": "stretch",
       "border": "dashed 0.2px green",
       "display": "flex",
       "flex_flow": "row",
       "grid_auto_columns": "True",
       "justify_content": "flex-start",
       "width": "100%"
      }
     },
     "561fafa4d51c4ed3bfc95887afa5e1c2": {
      "model_module": "@jupyter-widgets/base",
      "model_module_version": "1.2.0",
      "model_name": "LayoutModel",
      "state": {
       "align_items": "stretch",
       "display": "flex",
       "flex_flow": "row",
       "grid_auto_columns": "True",
       "justify_content": "flex-end",
       "width": "90%"
      }
     },
     "5623a9e5a56e4f728468771f1cf192c6": {
      "model_module": "@jupyter-widgets/base",
      "model_module_version": "1.2.0",
      "model_name": "LayoutModel",
      "state": {}
     },
     "56401ec291fe498a831e783fa1b54791": {
      "model_module": "@jupyter-widgets/output",
      "model_module_version": "1.0.0",
      "model_name": "OutputModel",
      "state": {
       "layout": "IPY_MODEL_8bab6aa429724dbba0908290a0b50e6b"
      }
     },
     "5662408860204b67af83b2016ef4c6db": {
      "model_module": "@jupyter-widgets/base",
      "model_module_version": "1.2.0",
      "model_name": "LayoutModel",
      "state": {}
     },
     "5697c1f1e740460d878dbc8adc5f0fa4": {
      "model_module": "@jupyter-widgets/base",
      "model_module_version": "1.2.0",
      "model_name": "LayoutModel",
      "state": {}
     },
     "56cabb96f2eb46d2bbd63f907cda72f8": {
      "model_module": "@jupyter-widgets/controls",
      "model_module_version": "1.5.0",
      "model_name": "HBoxModel",
      "state": {
       "children": [
        "IPY_MODEL_7805fbe354534d01943339a20d138d4d",
        "IPY_MODEL_2bb06819b5024387bc636196d8cfa4aa"
       ],
       "layout": "IPY_MODEL_a25ed9578d2540a28cc49a215b0138b4"
      }
     },
     "5700c13bb7ac4813a7fb0056c334ab0f": {
      "model_module": "@jupyter-widgets/output",
      "model_module_version": "1.0.0",
      "model_name": "OutputModel",
      "state": {
       "layout": "IPY_MODEL_d7e880a2945e4b3db2d23b8ee9ace39b",
       "outputs": [
        {
         "data": {
          "application/vnd.jupyter.widget-view+json": {
           "model_id": "",
           "version_major": 2,
           "version_minor": 0
          },
          "text/plain": "Output()"
         },
         "metadata": {},
         "output_type": "display_data"
        },
        {
         "data": {
          "application/vnd.jupyter.widget-view+json": {
           "model_id": "",
           "version_major": 2,
           "version_minor": 0
          },
          "text/plain": "Output()"
         },
         "metadata": {},
         "output_type": "display_data"
        }
       ]
      }
     },
     "571830f912614dfb8f4e73779886fd37": {
      "model_module": "@jupyter-widgets/base",
      "model_module_version": "1.2.0",
      "model_name": "LayoutModel",
      "state": {
       "align_items": "stretch",
       "display": "flex",
       "flex_flow": "row",
       "grid_auto_columns": "True",
       "justify_content": "flex-start",
       "width": "80%"
      }
     },
     "5745fa939d71446082bf8071f879ef34": {
      "model_module": "@jupyter-widgets/controls",
      "model_module_version": "1.5.0",
      "model_name": "HBoxModel",
      "state": {
       "children": [
        "IPY_MODEL_19d57dfdf9134c8cb98b7fb2ee226055",
        "IPY_MODEL_8e3d864d2fae4f1d86fabbfa92175944"
       ],
       "layout": "IPY_MODEL_0f461644575e4ba8a0a1519a97e75c30"
      }
     },
     "57475cd4ad1e4b908b37b08bc512ede1": {
      "model_module": "@jupyter-widgets/controls",
      "model_module_version": "1.5.0",
      "model_name": "HBoxModel",
      "state": {
       "children": [
        "IPY_MODEL_856f550f5c8649649530c5108284094a"
       ],
       "layout": "IPY_MODEL_515d468c7314474d961f2b4217201961"
      }
     },
     "5765b8f4cabc407a84bdfa5293982b11": {
      "model_module": "@jupyter-widgets/controls",
      "model_module_version": "1.5.0",
      "model_name": "HBoxModel",
      "state": {
       "children": [
        "IPY_MODEL_21a5223f40e843c5854fe325b72e586f",
        "IPY_MODEL_0b6a50aef5344601b379a1249293e77c"
       ],
       "layout": "IPY_MODEL_60aa75abf66c4e0082c164cb7b08e008"
      }
     },
     "5770d1421e7d4fea8429142a7c0e222a": {
      "model_module": "@jupyter-widgets/controls",
      "model_module_version": "1.5.0",
      "model_name": "HBoxModel",
      "state": {
       "children": [
        "IPY_MODEL_000fc1faaebf4602ace2f81f934d81ee",
        "IPY_MODEL_90f990d70c1f4ad5a13d7ab1f1f6f76e"
       ],
       "layout": "IPY_MODEL_1b6dcbb9b31845e4b9d84a583b41149b"
      }
     },
     "5793a2599a964b2db06491b3383fd425": {
      "model_module": "@jupyter-widgets/base",
      "model_module_version": "1.2.0",
      "model_name": "LayoutModel",
      "state": {
       "align_items": "stretch",
       "display": "flex",
       "flex_flow": "row",
       "grid_auto_columns": "True",
       "justify_content": "flex-end",
       "width": "90%"
      }
     },
     "579a0d6540074ea0a74962d3bff21e42": {
      "model_module": "@jupyter-widgets/controls",
      "model_module_version": "1.5.0",
      "model_name": "DescriptionStyleModel",
      "state": {
       "description_width": ""
      }
     },
     "57d9ecd2577c4df58c9fbcde5c86d764": {
      "model_module": "@jupyter-widgets/base",
      "model_module_version": "1.2.0",
      "model_name": "LayoutModel",
      "state": {
       "align_items": "stretch",
       "border": "dashed 0.2px green",
       "display": "flex",
       "flex_flow": "row",
       "grid_auto_columns": "True",
       "justify_content": "flex-start",
       "width": "100%"
      }
     },
     "57f89a3ee2694e089d3b3cad6e9495af": {
      "model_module": "@jupyter-widgets/base",
      "model_module_version": "1.2.0",
      "model_name": "LayoutModel",
      "state": {}
     },
     "580da66f72c04c71be594be5d6769042": {
      "model_module": "@jupyter-widgets/controls",
      "model_module_version": "1.5.0",
      "model_name": "HTMLModel",
      "state": {
       "layout": "IPY_MODEL_11f5d239654b446f982b98616a61357f",
       "style": "IPY_MODEL_11b157d696974667a6c1e67e516300ee",
       "value": "<p>input gbxml filepath</p>"
      }
     },
     "58ad577922274c35bb39266d19722512": {
      "model_module": "@jupyter-widgets/controls",
      "model_module_version": "1.5.0",
      "model_name": "HTMLModel",
      "state": {
       "layout": "IPY_MODEL_af38a2d3efca4034b76c8531118d2494",
       "style": "IPY_MODEL_35843c45c7ef4632a382a67696343062",
       "value": "<p>name</p>"
      }
     },
     "58b73f9e8f074c7aaaaf09fa703497b9": {
      "model_module": "@jupyter-widgets/base",
      "model_module_version": "1.2.0",
      "model_name": "LayoutModel",
      "state": {}
     },
     "58e6e50e818f479ea1245211dd911a2d": {
      "model_module": "@jupyter-widgets/base",
      "model_module_version": "1.2.0",
      "model_name": "LayoutModel",
      "state": {
       "align_items": "stretch",
       "border": "dashed 0.2px green",
       "display": "flex",
       "flex_flow": "row",
       "grid_auto_columns": "True",
       "justify_content": "flex-start",
       "width": "100%"
      }
     },
     "593d1b60396b45cd8eaa9cd52041dda6": {
      "model_module": "@jupyter-widgets/controls",
      "model_module_version": "1.5.0",
      "model_name": "DescriptionStyleModel",
      "state": {
       "description_width": ""
      }
     },
     "5967a4c5301541909800d93c8779397b": {
      "model_module": "@jupyter-widgets/controls",
      "model_module_version": "1.5.0",
      "model_name": "ButtonStyleModel",
      "state": {}
     },
     "598883b99d8545c9b869dd1b56462e1a": {
      "model_module": "@jupyter-widgets/controls",
      "model_module_version": "1.5.0",
      "model_name": "DescriptionStyleModel",
      "state": {
       "description_width": ""
      }
     },
     "599e9652c53d49119c9ec78d1ef92a1d": {
      "model_module": "@jupyter-widgets/base",
      "model_module_version": "1.2.0",
      "model_name": "LayoutModel",
      "state": {
       "align_items": "stretch",
       "display": "flex",
       "flex_flow": "row",
       "grid_auto_columns": "True",
       "justify_content": "flex-end",
       "width": "90%"
      }
     },
     "5a1ce59c768e4801857a8ec8805b4937": {
      "model_module": "@jupyter-widgets/controls",
      "model_module_version": "1.5.0",
      "model_name": "HBoxModel",
      "state": {
       "children": [
        "IPY_MODEL_6926239d2d8e4ef4b6c29ac1e480cdde",
        "IPY_MODEL_656821a8906f4617b224f2c678319a13"
       ],
       "layout": "IPY_MODEL_94ded6d1c7e04c1c9d2127fb2eed80d9"
      }
     },
     "5a510a0e634349c6bfa7d11a8e64df82": {
      "model_module": "@jupyter-widgets/controls",
      "model_module_version": "1.5.0",
      "model_name": "VBoxModel",
      "state": {
       "children": [
        "IPY_MODEL_f83829351476457b956ff15ee1ad1045",
        "IPY_MODEL_e55e151ca48c4ef885b52bb2caf4bccf",
        "IPY_MODEL_c000b3465b0341a8affe3e27044aa4d2",
        "IPY_MODEL_aa2d90f475a24fe29ce9fb9896b80129",
        "IPY_MODEL_3de6a212c37d464aa0a0d04a5eb7662c",
        "IPY_MODEL_bf96d072f3724c409e48920113824935",
        "IPY_MODEL_27177658844a40e58b08a3559ae989fb",
        "IPY_MODEL_17bbfa9f5e96481d9573f65c9a225dbc"
       ],
       "layout": "IPY_MODEL_551740580eff452490ea6c48568a7ade"
      }
     },
     "5a6d23db51474244a9b333895424e057": {
      "model_module": "@jupyter-widgets/base",
      "model_module_version": "1.2.0",
      "model_name": "LayoutModel",
      "state": {
       "align_items": "stretch",
       "border": "dashed 0.2px green",
       "display": "flex",
       "flex_flow": "row",
       "grid_auto_columns": "True",
       "justify_content": "flex-start",
       "width": "100%"
      }
     },
     "5a7f4ded163f471eaa196fe79dbf19a8": {
      "model_module": "@jupyter-widgets/controls",
      "model_module_version": "1.5.0",
      "model_name": "TextareaModel",
      "state": {
       "layout": "IPY_MODEL_39c24ba3772946948a9f2d1d758a0900",
       "style": "IPY_MODEL_0a0025743bdf4069830467a43ad9060c",
       "value": "asdfasdf"
      }
     },
     "5a7f6425478346c8966d1bbc75237c79": {
      "model_module": "@jupyter-widgets/controls",
      "model_module_version": "1.5.0",
      "model_name": "HTMLModel",
      "state": {
       "layout": "IPY_MODEL_f0d9a176d4e34145bbae607ea9df07fe",
       "style": "IPY_MODEL_fdff935e9a974667881fb9afa236fbac",
       "value": "<p>its a foo cake</p>"
      }
     },
     "5a829a169e0a4972be03e55cb7b5bdae": {
      "model_module": "@jupyter-widgets/controls",
      "model_module_version": "1.5.0",
      "model_name": "ButtonStyleModel",
      "state": {
       "font_weight": "bold"
      }
     },
     "5a9e236ba74e4116bfb6061a519a3d75": {
      "model_module": "@jupyter-widgets/controls",
      "model_module_version": "1.5.0",
      "model_name": "HBoxModel",
      "state": {
       "children": [
        "IPY_MODEL_731e2ffb637f409b98d9c18244d11ea0",
        "IPY_MODEL_a3dedc5716f14bbb9232942b701f8d32"
       ],
       "layout": "IPY_MODEL_5a6d23db51474244a9b333895424e057"
      }
     },
     "5aba91ef30494d4eaaa5da57756a266f": {
      "model_module": "@jupyter-widgets/controls",
      "model_module_version": "1.5.0",
      "model_name": "HBoxModel",
      "state": {
       "children": [
        "IPY_MODEL_63d45caf819b4a36b142a030903f4835",
        "IPY_MODEL_18158589dca44494b21fe2c4bcd67f53"
       ],
       "layout": "IPY_MODEL_cbd6e33db1ea4f2fae9ef57428b88c04"
      }
     },
     "5adcf779887f4b2c82d17fce320dea6d": {
      "model_module": "@jupyter-widgets/base",
      "model_module_version": "1.2.0",
      "model_name": "LayoutModel",
      "state": {}
     },
     "5aea394efb3845e9b919ed155e854066": {
      "model_module": "@jupyter-widgets/controls",
      "model_module_version": "1.5.0",
      "model_name": "HBoxModel",
      "state": {
       "children": [
        "IPY_MODEL_a23d082f56dc4eb9a93f9ad2863d9cb8",
        "IPY_MODEL_be318bdc82ae4c26897757370864589b"
       ],
       "layout": "IPY_MODEL_b4d12daa7a4f48eb999c8e6b9028298b"
      }
     },
     "5b4a08a73604450ca25dcb084a106308": {
      "model_module": "@jupyter-widgets/base",
      "model_module_version": "1.2.0",
      "model_name": "LayoutModel",
      "state": {
       "align_items": "stretch",
       "display": "flex",
       "flex_flow": "row",
       "grid_auto_columns": "True",
       "justify_content": "flex-end",
       "width": "90%"
      }
     },
     "5b5e6bfb45c7444782482e89a8e6bd7a": {
      "model_module": "@jupyter-widgets/base",
      "model_module_version": "1.2.0",
      "model_name": "LayoutModel",
      "state": {}
     },
     "5b69d402738c4ac1926251d988afa4b7": {
      "model_module": "@jupyter-widgets/base",
      "model_module_version": "1.2.0",
      "model_name": "LayoutModel",
      "state": {}
     },
     "5bcb56cd96d34dd5b2bb89204b6f2340": {
      "model_module": "@jupyter-widgets/controls",
      "model_module_version": "1.5.0",
      "model_name": "HTMLModel",
      "state": {
       "layout": "IPY_MODEL_724e8e36b934461db7ea0337418452ef",
       "style": "IPY_MODEL_3b5d513b333a4a649dd698b4a301f904",
       "value": "<p>its a foo cake</p>"
      }
     },
     "5c10bf1b957641b0aa2fa4f076589048": {
      "model_module": "@jupyter-widgets/base",
      "model_module_version": "1.2.0",
      "model_name": "LayoutModel",
      "state": {}
     },
     "5cbf192af94544bc82cb09e7c2e3911f": {
      "model_module": "@jupyter-widgets/controls",
      "model_module_version": "1.5.0",
      "model_name": "ToggleButtonModel",
      "state": {
       "icon": "arrow-down",
       "layout": "IPY_MODEL_bc13c8e433824e4f8347bf52bfa755bd",
       "style": "IPY_MODEL_83d7c463742e4d32a5a935a3d0a260de"
      }
     },
     "5ccc3bbfea8b49cd897d48ea92f2f974": {
      "model_module": "@jupyter-widgets/controls",
      "model_module_version": "1.5.0",
      "model_name": "HTMLModel",
      "state": {
       "layout": "IPY_MODEL_2ee19eaf44374f2995af734a2fdc3317",
       "style": "IPY_MODEL_d7c8ba28fd4b4651b8ebcc2d2f4b7d89",
       "value": "<p>foo</p>"
      }
     },
     "5ce4f063d39b4a24a2fa4a425fb98091": {
      "model_module": "@jupyter-widgets/controls",
      "model_module_version": "1.5.0",
      "model_name": "VBoxModel",
      "state": {
       "children": [
        "IPY_MODEL_c62e6f566ce743af99ddb08c17cb5e47",
        "IPY_MODEL_c268fb5e263c46b480804f518db8d8a9",
        "IPY_MODEL_2edd79a574b14143b82cbbd4c16a8931"
       ],
       "layout": "IPY_MODEL_a2917cfae4cb479e8c314b2f72ff5a77"
      }
     },
     "5d273ed98a9a48168833286759f9087c": {
      "model_module": "@jupyter-widgets/controls",
      "model_module_version": "1.5.0",
      "model_name": "HBoxModel",
      "state": {
       "children": [
        "IPY_MODEL_132aca45ba984096a1f3f48b63595785",
        "IPY_MODEL_d155dbb3437e40deb61d1d079d1ae47b"
       ],
       "layout": "IPY_MODEL_5793a2599a964b2db06491b3383fd425"
      }
     },
     "5d4c3ffcf90141f0b9561e3d29c6cb91": {
      "model_module": "@jupyter-widgets/base",
      "model_module_version": "1.2.0",
      "model_name": "LayoutModel",
      "state": {}
     },
     "5d6409dde6764729b4e7b2fa0af781f6": {
      "model_module": "@jupyter-widgets/controls",
      "model_module_version": "1.5.0",
      "model_name": "HTMLModel",
      "state": {
       "layout": "IPY_MODEL_c77b03842947473aaf3644e6daf29576",
       "style": "IPY_MODEL_23ba2fbe97eb4c95b73b460881a580d7",
       "value": "<p>its a foo cake</p>"
      }
     },
     "5d7d67284da84f2aa41e79a7d5ba965a": {
      "model_module": "@jupyter-widgets/base",
      "model_module_version": "1.2.0",
      "model_name": "LayoutModel",
      "state": {}
     },
     "5d9f30643f8f4208b3ef883a7e85ec04": {
      "model_module": "@jupyter-widgets/controls",
      "model_module_version": "1.5.0",
      "model_name": "HTMLModel",
      "state": {
       "layout": "IPY_MODEL_78a18714070f4773aebea8110cc22157",
       "style": "IPY_MODEL_2245874031e24aef88f18af2bb7904c1",
       "value": "<p>fus foo ous o</p>"
      }
     },
     "5da8b63c4a8543919150368273f5d199": {
      "model_module": "@jupyter-widgets/controls",
      "model_module_version": "1.5.0",
      "model_name": "DescriptionStyleModel",
      "state": {
       "description_width": ""
      }
     },
     "5ddebffae1a04b8f990c6b74bb972a42": {
      "model_module": "@jupyter-widgets/base",
      "model_module_version": "1.2.0",
      "model_name": "LayoutModel",
      "state": {}
     },
     "5e805e9aba814d73ab962aa6ad19e9f4": {
      "model_module": "@jupyter-widgets/controls",
      "model_module_version": "1.5.0",
      "model_name": "HBoxModel",
      "state": {
       "children": [
        "IPY_MODEL_a483894050954af0ae6dea3a11fd492f"
       ],
       "layout": "IPY_MODEL_42fae9d20acb459baf84c6553a1ae99d"
      }
     },
     "5ef3b208d1be4340987333ab96eb6a75": {
      "model_module": "@jupyter-widgets/base",
      "model_module_version": "1.2.0",
      "model_name": "LayoutModel",
      "state": {
       "align_items": "stretch",
       "display": "flex",
       "flex_flow": "row",
       "grid_auto_columns": "True",
       "justify_content": "flex-start",
       "width": "80%"
      }
     },
     "5f085b86312341978a5a88e7016a231d": {
      "model_module": "@jupyter-widgets/controls",
      "model_module_version": "1.5.0",
      "model_name": "DescriptionStyleModel",
      "state": {
       "description_width": ""
      }
     },
     "5f0a6cd719654ffabb5597e861b4158c": {
      "model_module": "@jupyter-widgets/base",
      "model_module_version": "1.2.0",
      "model_name": "LayoutModel",
      "state": {}
     },
     "5f2535a2cfa74fe6b6583300e1d4b00e": {
      "model_module": "@jupyter-widgets/controls",
      "model_module_version": "1.5.0",
      "model_name": "DescriptionStyleModel",
      "state": {
       "description_width": ""
      }
     },
     "5f87e8c318844b8495f65c1fc4a418be": {
      "model_module": "@jupyter-widgets/output",
      "model_module_version": "1.0.0",
      "model_name": "OutputModel",
      "state": {
       "layout": "IPY_MODEL_7b2173e94f324ff58d040c959096a37c"
      }
     },
     "5f9ef9e5a35e48858fabcad3205719b1": {
      "model_module": "@jupyter-widgets/controls",
      "model_module_version": "1.5.0",
      "model_name": "ButtonModel",
      "state": {
       "button_style": "success",
       "description": "save changes",
       "layout": "IPY_MODEL_58b73f9e8f074c7aaaaf09fa703497b9",
       "style": "IPY_MODEL_cd80166573ee43b28d0bdb2d363f9e79"
      }
     },
     "5fba39f6d75c4bce816804bf2d04092b": {
      "model_module": "@jupyter-widgets/base",
      "model_module_version": "1.2.0",
      "model_name": "LayoutModel",
      "state": {}
     },
     "5fda78edc0ec4e25b45f31f80febab82": {
      "model_module": "@jupyter-widgets/base",
      "model_module_version": "1.2.0",
      "model_name": "LayoutModel",
      "state": {
       "align_items": "stretch",
       "border": "dashed 0.2px green",
       "display": "flex",
       "flex_flow": "row",
       "grid_auto_columns": "True",
       "justify_content": "flex-start",
       "width": "100%"
      }
     },
     "5fe91761819d441ea0e8447984bc2073": {
      "model_module": "@jupyter-widgets/controls",
      "model_module_version": "1.5.0",
      "model_name": "HTMLModel",
      "state": {
       "layout": "IPY_MODEL_1fcb5e32e4d24f9ebc2fb45c7144b0b0",
       "style": "IPY_MODEL_636f923b0f7848ef8ded715e6ea63a57",
       "value": "<p>spc_name_index</p>"
      }
     },
     "601a95662f784652b1b81a3968014758": {
      "model_module": "@jupyter-widgets/base",
      "model_module_version": "1.2.0",
      "model_name": "LayoutModel",
      "state": {
       "align_items": "stretch",
       "display": "flex",
       "flex_flow": "row",
       "grid_auto_columns": "True",
       "justify_content": "flex-end",
       "width": "90%"
      }
     },
     "6024a8fdc42a47f9a0e316d840bf7c1e": {
      "model_module": "@jupyter-widgets/base",
      "model_module_version": "1.2.0",
      "model_name": "LayoutModel",
      "state": {}
     },
     "603064db21ed403ba37a2d05c7174a22": {
      "model_module": "@jupyter-widgets/base",
      "model_module_version": "1.2.0",
      "model_name": "LayoutModel",
      "state": {}
     },
     "60aa75abf66c4e0082c164cb7b08e008": {
      "model_module": "@jupyter-widgets/base",
      "model_module_version": "1.2.0",
      "model_name": "LayoutModel",
      "state": {
       "align_items": "stretch",
       "display": "flex",
       "flex_flow": "row",
       "grid_auto_columns": "True",
       "justify_content": "flex-end",
       "width": "90%"
      }
     },
     "60dca57a9bbc4fde96621ae19ab61a19": {
      "model_module": "@jupyter-widgets/base",
      "model_module_version": "1.2.0",
      "model_name": "LayoutModel",
      "state": {}
     },
     "6137acc018b54fc4831ff279808a0c5b": {
      "model_module": "@jupyter-widgets/controls",
      "model_module_version": "1.5.0",
      "model_name": "DescriptionStyleModel",
      "state": {
       "description_width": ""
      }
     },
     "617b2acfbca645c68884a6d7b9609081": {
      "model_module": "@jupyter-widgets/base",
      "model_module_version": "1.2.0",
      "model_name": "LayoutModel",
      "state": {
       "align_items": "stretch",
       "display": "flex",
       "flex_flow": "row",
       "grid_auto_columns": "True",
       "justify_content": "flex-start",
       "width": "80%"
      }
     },
     "618721bbce5942d98667909ade308796": {
      "model_module": "@jupyter-widgets/controls",
      "model_module_version": "1.5.0",
      "model_name": "DescriptionStyleModel",
      "state": {
       "description_width": ""
      }
     },
     "61a7a1b08f964fb882e33b83945c02ee": {
      "model_module": "@jupyter-widgets/controls",
      "model_module_version": "1.5.0",
      "model_name": "HTMLModel",
      "state": {
       "layout": "IPY_MODEL_760cc5cdd4bf42fdabceacc73fbc72a6",
       "style": "IPY_MODEL_17760d2ab3f341a99a225b0cab7add34",
       "value": "<p>Model Desc</p>"
      }
     },
     "61ab46d50329417c825a62651ab4cca1": {
      "model_module": "@jupyter-widgets/controls",
      "model_module_version": "1.5.0",
      "model_name": "HBoxModel",
      "state": {
       "children": [
        "IPY_MODEL_3052344d1d404976a3608d198bb19ab0",
        "IPY_MODEL_50eed374e329491883ccf8879a1c157e"
       ],
       "layout": "IPY_MODEL_0996a1965dc14309a6378d3f9694f0e8"
      }
     },
     "61ac86103584467d87a21677ac3acd48": {
      "model_module": "@jupyter-widgets/base",
      "model_module_version": "1.2.0",
      "model_name": "LayoutModel",
      "state": {}
     },
     "61b2274ddbe9418fb6eab547f8eaadd3": {
      "model_module": "@jupyter-widgets/controls",
      "model_module_version": "1.5.0",
      "model_name": "HBoxModel",
      "state": {
       "children": [
        "IPY_MODEL_9f4852e363bc421e990d3d3e4f08342f",
        "IPY_MODEL_8cd04ac3c213424188e3f0b22df84e07"
       ],
       "layout": "IPY_MODEL_73d7776c37e1431abac06681943a3e04"
      }
     },
     "61bbd56bcea44190939b8bb5d48af3c8": {
      "model_module": "@jupyter-widgets/base",
      "model_module_version": "1.2.0",
      "model_name": "LayoutModel",
      "state": {}
     },
     "61c4f8ae2cfc4e89b8869c07a7527f36": {
      "model_module": "@jupyter-widgets/controls",
      "model_module_version": "1.5.0",
      "model_name": "DescriptionStyleModel",
      "state": {
       "description_width": ""
      }
     },
     "61dd0c73c98e4b569adf023c2b9e4f7a": {
      "model_module": "@jupyter-widgets/controls",
      "model_module_version": "1.5.0",
      "model_name": "ButtonModel",
      "state": {
       "button_style": "success",
       "description": "save changes",
       "layout": "IPY_MODEL_413f5b519c5242d18c83b2d4a7850c45",
       "style": "IPY_MODEL_fdf1ea9d73c2467fa44c3f067e142865"
      }
     },
     "627709569d0d44a299b986261f3da557": {
      "model_module": "@jupyter-widgets/output",
      "model_module_version": "1.0.0",
      "model_name": "OutputModel",
      "state": {
       "layout": "IPY_MODEL_0ac23a67a1d148aa9f6263458a76ef50"
      }
     },
     "62cc6b14a68346dfbf1fcdbfc57b75e7": {
      "model_module": "@jupyter-widgets/controls",
      "model_module_version": "1.5.0",
      "model_name": "HBoxModel",
      "state": {
       "children": [
        "IPY_MODEL_d96cf3747a6241ce9b2f89d4f1fe8b6e"
       ],
       "layout": "IPY_MODEL_7cb146b45a4340e3bc7fd89dd8ddbdd5"
      }
     },
     "633224e769c6456a9acb3042fda62627": {
      "model_module": "@jupyter-widgets/base",
      "model_module_version": "1.2.0",
      "model_name": "LayoutModel",
      "state": {
       "align_items": "stretch",
       "display": "flex",
       "flex_flow": "row",
       "grid_auto_columns": "True",
       "justify_content": "flex-start",
       "width": "80%"
      }
     },
     "63618c7018254c69827100c4a1e78105": {
      "model_module": "@jupyter-widgets/output",
      "model_module_version": "1.0.0",
      "model_name": "OutputModel",
      "state": {
       "layout": "IPY_MODEL_2eb7fb0a7c944d3e83d21b5c1b5da716"
      }
     },
     "636f923b0f7848ef8ded715e6ea63a57": {
      "model_module": "@jupyter-widgets/controls",
      "model_module_version": "1.5.0",
      "model_name": "DescriptionStyleModel",
      "state": {
       "description_width": ""
      }
     },
     "63846e55159a4d2dadf2041b3bdd2c2c": {
      "model_module": "@jupyter-widgets/controls",
      "model_module_version": "1.5.0",
      "model_name": "FloatTextModel",
      "state": {
       "layout": "IPY_MODEL_e9267d121d7841e09401fa9591f34f23",
       "step": null,
       "style": "IPY_MODEL_22a0d287661343dcb33aef865c82d2b4",
       "value": 16
      }
     },
     "638e158c62b4453592f91ba36fda0309": {
      "model_module": "@jupyter-widgets/controls",
      "model_module_version": "1.5.0",
      "model_name": "DescriptionStyleModel",
      "state": {
       "description_width": ""
      }
     },
     "63c1f147ffe84f7f8699bdcfa8da3856": {
      "model_module": "@jupyter-widgets/controls",
      "model_module_version": "1.5.0",
      "model_name": "HBoxModel",
      "state": {
       "children": [
        "IPY_MODEL_a90a2803297b4e8e94853901b556e40c",
        "IPY_MODEL_a2dc4783670041fe9cc5f155409716ef"
       ],
       "layout": "IPY_MODEL_efd8facc66a94d9885cfdd2e8903e900"
      }
     },
     "63ccacf5318a4b828401d9946cd8c615": {
      "model_module": "@jupyter-widgets/controls",
      "model_module_version": "1.5.0",
      "model_name": "HBoxModel",
      "state": {
       "children": [
        "IPY_MODEL_752bce0dda814032b3f569a341bced3f"
       ],
       "layout": "IPY_MODEL_04e2d27f9618408190099d00f2635f49"
      }
     },
     "63d45caf819b4a36b142a030903f4835": {
      "model_module": "@jupyter-widgets/controls",
      "model_module_version": "1.5.0",
      "model_name": "HTMLModel",
      "state": {
       "layout": "IPY_MODEL_64860a5c249e4bdc9a6c5bdb318dc619",
       "style": "IPY_MODEL_e1beb3932d574d008da21c713f7933b1",
       "value": "<p>Model Desc</p>"
      }
     },
     "63dddfaad64541dfaddb0988256d802b": {
      "model_module": "@jupyter-widgets/base",
      "model_module_version": "1.2.0",
      "model_name": "LayoutModel",
      "state": {}
     },
     "63fa8b09fc684975948a3b6fdc5f0aeb": {
      "model_module": "@jupyter-widgets/controls",
      "model_module_version": "1.5.0",
      "model_name": "VBoxModel",
      "state": {
       "children": [
        "IPY_MODEL_018be7a354db4bf28d87330f4a172381",
        "IPY_MODEL_070c7355fc374a0cbc38eb1b142eef2a",
        "IPY_MODEL_881ce2d8cd8b4add9c89b011c750a818",
        "IPY_MODEL_b00ba8b166a2436292564a3b2d60bc1f",
        "IPY_MODEL_24308cb7ea5347d0b284ec0daff9e6ba",
        "IPY_MODEL_38650f52866443f6adb85b8d566192bd",
        "IPY_MODEL_4fd5be59890d4cd79aef874f6bf5099e",
        "IPY_MODEL_35fceec39ed64c73a5b1f54026c71aa9"
       ],
       "layout": "IPY_MODEL_d638cb163b8243d6adaf7e11a712edaf"
      }
     },
     "64648707385447849b7b4851e1a4c326": {
      "model_module": "@jupyter-widgets/controls",
      "model_module_version": "1.5.0",
      "model_name": "DescriptionStyleModel",
      "state": {
       "description_width": ""
      }
     },
     "64860a5c249e4bdc9a6c5bdb318dc619": {
      "model_module": "@jupyter-widgets/base",
      "model_module_version": "1.2.0",
      "model_name": "LayoutModel",
      "state": {}
     },
     "64954ffccec441f6810b6f573d487da1": {
      "model_module": "@jupyter-widgets/base",
      "model_module_version": "1.2.0",
      "model_name": "LayoutModel",
      "state": {}
     },
     "649af3300b81414b991a05728831a940": {
      "model_module": "@jupyter-widgets/controls",
      "model_module_version": "1.5.0",
      "model_name": "DescriptionStyleModel",
      "state": {
       "description_width": ""
      }
     },
     "649b38bc6d6347619be20ea568241cda": {
      "model_module": "@jupyter-widgets/controls",
      "model_module_version": "1.5.0",
      "model_name": "HBoxModel",
      "state": {
       "children": [
        "IPY_MODEL_c73b612b2526440b9adce997cbf120a4",
        "IPY_MODEL_65181eafae494b4f9866808ed328f2d9"
       ],
       "layout": "IPY_MODEL_e0a2c5b4c633457b900d1feb5931f411"
      }
     },
     "64f4276e0f784fd98f1d11e56d09884f": {
      "model_module": "@jupyter-widgets/controls",
      "model_module_version": "1.5.0",
      "model_name": "DescriptionStyleModel",
      "state": {
       "description_width": ""
      }
     },
     "65089770cccd432490139097d7f6e5c6": {
      "model_module": "@jupyter-widgets/controls",
      "model_module_version": "1.5.0",
      "model_name": "HTMLModel",
      "state": {
       "layout": "IPY_MODEL_c353200522cd499bbe1f439a96e029c3",
       "style": "IPY_MODEL_649af3300b81414b991a05728831a940",
       "value": "<p>its a foo cake</p>"
      }
     },
     "65181eafae494b4f9866808ed328f2d9": {
      "model_module": "@jupyter-widgets/controls",
      "model_module_version": "1.5.0",
      "model_name": "HTMLModel",
      "state": {
       "layout": "IPY_MODEL_7be91d32e70b4e8aa126fdf76b3c7ae9",
       "style": "IPY_MODEL_666a38ba5f9d43b49ba9c72d1f563516",
       "value": "<p>label</p>"
      }
     },
     "651c0598a4bb491f9160bd24a27280b7": {
      "model_module": "@jupyter-widgets/controls",
      "model_module_version": "1.5.0",
      "model_name": "TextModel",
      "state": {
       "description": "inputs",
       "disabled": true,
       "layout": "IPY_MODEL_a2c84fb4e8c84565a0f0c99d022723cf",
       "style": "IPY_MODEL_410278239ec0426f9456f080167635ce",
       "value": "C:\\engDev\\git_mf\\ipyrun\\ipyrun\\appdata\\inputs\\inputs-gbxml.json"
      }
     },
     "653936f8cfda41368b136991f82a3dc8": {
      "model_module": "@jupyter-widgets/base",
      "model_module_version": "1.2.0",
      "model_name": "LayoutModel",
      "state": {}
     },
     "653f0efceb324415b9a920d4a57525fa": {
      "model_module": "@jupyter-widgets/controls",
      "model_module_version": "1.5.0",
      "model_name": "HBoxModel",
      "state": {
       "children": [
        "IPY_MODEL_7869135e460d4004a9e01b69cd988aaa",
        "IPY_MODEL_fb55907e95614cab9d589248bbe6c790"
       ],
       "layout": "IPY_MODEL_ac365ad4c024425891ccf00221517956"
      }
     },
     "656821a8906f4617b224f2c678319a13": {
      "model_module": "@jupyter-widgets/controls",
      "model_module_version": "1.5.0",
      "model_name": "HBoxModel",
      "state": {
       "children": [
        "IPY_MODEL_164f91e8530b4c3cb71967290ae5dd61",
        "IPY_MODEL_85d10f400a234b05a10eb9ca0a945d9f"
       ],
       "layout": "IPY_MODEL_b7b345ffe1b64f98b19aa020481ae2df"
      }
     },
     "6573ecb278c147d390d90b2faf873764": {
      "model_module": "@jupyter-widgets/controls",
      "model_module_version": "1.5.0",
      "model_name": "DescriptionStyleModel",
      "state": {
       "description_width": ""
      }
     },
     "65749716d53544b1a57e2f6e0c785904": {
      "model_module": "@jupyter-widgets/controls",
      "model_module_version": "1.5.0",
      "model_name": "VBoxModel",
      "state": {
       "children": [
        "IPY_MODEL_93d2a1533328460ea1fbecf640795dbe",
        "IPY_MODEL_86ba0c5a74a049768aa87601d99558cc"
       ],
       "layout": "IPY_MODEL_931eb29466714938ae2cd9c8a4d8cd6d"
      }
     },
     "6575859dc3764e72a9b074146a4b3c03": {
      "model_module": "@jupyter-widgets/controls",
      "model_module_version": "1.5.0",
      "model_name": "DescriptionStyleModel",
      "state": {
       "description_width": ""
      }
     },
     "657fc17b7ef54ba09ac6caab356a42c4": {
      "model_module": "@jupyter-widgets/controls",
      "model_module_version": "1.5.0",
      "model_name": "DescriptionStyleModel",
      "state": {
       "description_width": ""
      }
     },
     "65bcf51ab9b64e4198ec57da0077f14d": {
      "model_module": "@jupyter-widgets/base",
      "model_module_version": "1.2.0",
      "model_name": "LayoutModel",
      "state": {}
     },
     "65eeb3e881b748c6abe614d16a7160c5": {
      "model_module": "@jupyter-widgets/base",
      "model_module_version": "1.2.0",
      "model_name": "LayoutModel",
      "state": {
       "align_items": "stretch",
       "border": "dashed 0.2px green",
       "display": "flex",
       "flex_flow": "row",
       "grid_auto_columns": "True",
       "justify_content": "flex-start",
       "width": "100%"
      }
     },
     "665aa64952324c5d9ce4523f74c8b185": {
      "model_module": "@jupyter-widgets/base",
      "model_module_version": "1.2.0",
      "model_name": "LayoutModel",
      "state": {}
     },
     "6668ad48b0b34436b96c1610551b938e": {
      "model_module": "@jupyter-widgets/controls",
      "model_module_version": "1.5.0",
      "model_name": "HBoxModel",
      "state": {
       "children": [
        "IPY_MODEL_021ea271b8964ebeb4ffb7c683d4e0cb",
        "IPY_MODEL_8f9e95afb86d45f5bc13b981ae93b000"
       ],
       "layout": "IPY_MODEL_571830f912614dfb8f4e73779886fd37"
      }
     },
     "666a38ba5f9d43b49ba9c72d1f563516": {
      "model_module": "@jupyter-widgets/controls",
      "model_module_version": "1.5.0",
      "model_name": "DescriptionStyleModel",
      "state": {
       "description_width": ""
      }
     },
     "66b51e22273349b98d4ffe819513f143": {
      "model_module": "@jupyter-widgets/base",
      "model_module_version": "1.2.0",
      "model_name": "LayoutModel",
      "state": {
       "align_items": "stretch",
       "display": "flex",
       "flex_flow": "row",
       "grid_auto_columns": "True",
       "justify_content": "flex-end",
       "width": "90%"
      }
     },
     "66b74b5b17c4432ca31ad1f93951464d": {
      "model_module": "@jupyter-widgets/controls",
      "model_module_version": "1.5.0",
      "model_name": "HTMLModel",
      "state": {
       "layout": "IPY_MODEL_d8df4ab91151404b923d2f1a67547230",
       "style": "IPY_MODEL_e08e53a7dfde485c8a14cf2c4bcc0566",
       "value": "<p>input gbxml filepath</p>"
      }
     },
     "66ba641d953e417888f55b4d9b255bd9": {
      "model_module": "@jupyter-widgets/base",
      "model_module_version": "1.2.0",
      "model_name": "LayoutModel",
      "state": {}
     },
     "66dea4e09bc94f8ca43b0044bd890ca5": {
      "model_module": "@jupyter-widgets/controls",
      "model_module_version": "1.5.0",
      "model_name": "HBoxModel",
      "state": {
       "children": [
        "IPY_MODEL_cbabc2c8d14942d7872877d2dc42826a",
        "IPY_MODEL_5770d1421e7d4fea8429142a7c0e222a"
       ],
       "layout": "IPY_MODEL_186b13d2735a40a99f4269480f64a6bb"
      }
     },
     "66f5a60da892495db28f4d426813e056": {
      "model_module": "@jupyter-widgets/controls",
      "model_module_version": "1.5.0",
      "model_name": "AccordionModel",
      "state": {
       "_titles": {
        "0": "gbxml"
       },
       "children": [
        "IPY_MODEL_65749716d53544b1a57e2f6e0c785904"
       ],
       "layout": "IPY_MODEL_8801bc5b51c347ecbd0544da768c055a",
       "selected_index": null
      }
     },
     "6734edd8d935414c8857f956953f8a83": {
      "model_module": "@jupyter-widgets/base",
      "model_module_version": "1.2.0",
      "model_name": "LayoutModel",
      "state": {}
     },
     "67552bf815334daf9f63617414fcdbba": {
      "model_module": "@jupyter-widgets/controls",
      "model_module_version": "1.5.0",
      "model_name": "DescriptionStyleModel",
      "state": {
       "description_width": ""
      }
     },
     "678942322f4d484c8ca6b89e8129cbf8": {
      "model_module": "@jupyter-widgets/controls",
      "model_module_version": "1.5.0",
      "model_name": "HBoxModel",
      "state": {
       "children": [
        "IPY_MODEL_bf60237b672e4b1bb98d07bbefd80d92"
       ],
       "layout": "IPY_MODEL_e70f53d793e54c69a639387b35a7217b"
      }
     },
     "67baf8b98a91423b9eeefceb07e1bdcb": {
      "model_module": "@jupyter-widgets/controls",
      "model_module_version": "1.5.0",
      "model_name": "DescriptionStyleModel",
      "state": {
       "description_width": ""
      }
     },
     "680cefcfd87c4c25b30ee3388cf5f7c7": {
      "model_module": "@jupyter-widgets/base",
      "model_module_version": "1.2.0",
      "model_name": "LayoutModel",
      "state": {}
     },
     "682fd4d88c5a4675a6e72b8fef2acc3c": {
      "model_module": "@jupyter-widgets/base",
      "model_module_version": "1.2.0",
      "model_name": "LayoutModel",
      "state": {
       "align_items": "stretch",
       "display": "flex",
       "flex_flow": "row",
       "grid_auto_columns": "True",
       "justify_content": "flex-end",
       "width": "90%"
      }
     },
     "684542faeefe4e6691ee0267cd782095": {
      "model_module": "@jupyter-widgets/controls",
      "model_module_version": "1.5.0",
      "model_name": "HBoxModel",
      "state": {
       "children": [
        "IPY_MODEL_01fab4ec56da400f909f035b2f00b42e"
       ],
       "layout": "IPY_MODEL_911d307d095c459a9b35402c7705d940"
      }
     },
     "6870aafe908d4b71bdee3179f49a2b1f": {
      "model_module": "@jupyter-widgets/base",
      "model_module_version": "1.2.0",
      "model_name": "LayoutModel",
      "state": {
       "align_items": "stretch",
       "display": "flex",
       "flex_flow": "row",
       "grid_auto_columns": "True",
       "justify_content": "flex-start",
       "width": "80%"
      }
     },
     "68a7fb5e29004667b4d4e64ff5a8c474": {
      "model_module": "@jupyter-widgets/controls",
      "model_module_version": "1.5.0",
      "model_name": "HBoxModel",
      "state": {
       "children": [
        "IPY_MODEL_fd534d5649094db7a5327c2a34072b9a",
        "IPY_MODEL_d1fdb08e8b944accac2b7c30c03c1971"
       ],
       "layout": "IPY_MODEL_b0bd802f56b1469e97b24e6c035b261d"
      }
     },
     "68f639dc4c6e49ac83e57100f0831bff": {
      "model_module": "@jupyter-widgets/base",
      "model_module_version": "1.2.0",
      "model_name": "LayoutModel",
      "state": {
       "align_items": "stretch",
       "display": "flex",
       "flex_flow": "row",
       "grid_auto_columns": "True",
       "justify_content": "flex-end",
       "width": "90%"
      }
     },
     "68fa77bc4fc1417e8c2018f51045a05b": {
      "model_module": "@jupyter-widgets/base",
      "model_module_version": "1.2.0",
      "model_name": "LayoutModel",
      "state": {}
     },
     "6926239d2d8e4ef4b6c29ac1e480cdde": {
      "model_module": "@jupyter-widgets/controls",
      "model_module_version": "1.5.0",
      "model_name": "HTMLModel",
      "state": {
       "layout": "IPY_MODEL_d249cccc40e04f83892d383fea225927",
       "style": "IPY_MODEL_089cbf67c40342a092f4c9c37ce112d6",
       "value": "<p>name</p>"
      }
     },
     "6998a83e9ceb4a44bef88270611968f2": {
      "model_module": "@jupyter-widgets/controls",
      "model_module_version": "1.5.0",
      "model_name": "HBoxModel",
      "state": {
       "children": [
        "IPY_MODEL_18526a20ca9148bc862ad50e077578d5"
       ],
       "layout": "IPY_MODEL_aa2e22d431734cb4a96cb4104b6c49d1"
      }
     },
     "6998e72745ec4b17a06184a7f926da22": {
      "model_module": "@jupyter-widgets/controls",
      "model_module_version": "1.5.0",
      "model_name": "HTMLModel",
      "state": {
       "layout": "IPY_MODEL_5576341dd88c47be9e75e2c4cb9a65d8",
       "style": "IPY_MODEL_657fc17b7ef54ba09ac6caab356a42c4",
       "value": "<p>label</p>"
      }
     },
     "69f3d5e51c554a8cb54adaabec34f300": {
      "model_module": "@jupyter-widgets/controls",
      "model_module_version": "1.5.0",
      "model_name": "ButtonModel",
      "state": {
       "button_style": "info",
       "description": "show log",
       "layout": "IPY_MODEL_1dec5e6348064552bbb7d1f3fd9ac422",
       "style": "IPY_MODEL_bda1dfef492d4954a9f38030989e2848",
       "tooltip": "show a log of when the script was executed to generate the outputs, and by who"
      }
     },
     "6a4a7025d3f74dec9971c6406f7e2e1d": {
      "model_module": "@jupyter-widgets/base",
      "model_module_version": "1.2.0",
      "model_name": "LayoutModel",
      "state": {
       "align_items": "stretch",
       "border": "dashed 0.2px green",
       "display": "flex",
       "flex_flow": "row",
       "grid_auto_columns": "True",
       "justify_content": "flex-start",
       "width": "100%"
      }
     },
     "6a5fc4626b88469f8778472c148f2b8c": {
      "model_module": "@jupyter-widgets/controls",
      "model_module_version": "1.5.0",
      "model_name": "VBoxModel",
      "state": {
       "children": [
        "IPY_MODEL_1a6f3263f5734f2e90224a5d072529b4",
        "IPY_MODEL_e9009aa5df4343b58c7b30db2e030e37",
        "IPY_MODEL_53bedfcce130496dbdc8fca8b766bbee",
        "IPY_MODEL_3baeec691f12440591870ece8031b4ff",
        "IPY_MODEL_bd155e5e08ff415b93973ee1ca293bf0",
        "IPY_MODEL_34646aac6bfe4ea38ae5ad9034404e8e"
       ],
       "layout": "IPY_MODEL_473087e7e74e4216ba1ff7cdb8bef66d"
      }
     },
     "6a6c654ae7f647b68518c91a61029059": {
      "model_module": "@jupyter-widgets/base",
      "model_module_version": "1.2.0",
      "model_name": "LayoutModel",
      "state": {}
     },
     "6a77ee1f5fb542bd874778bcfa39f9c6": {
      "model_module": "@jupyter-widgets/controls",
      "model_module_version": "1.5.0",
      "model_name": "VBoxModel",
      "state": {
       "children": [
        "IPY_MODEL_018be7a354db4bf28d87330f4a172381",
        "IPY_MODEL_070c7355fc374a0cbc38eb1b142eef2a",
        "IPY_MODEL_881ce2d8cd8b4add9c89b011c750a818",
        "IPY_MODEL_b00ba8b166a2436292564a3b2d60bc1f",
        "IPY_MODEL_24308cb7ea5347d0b284ec0daff9e6ba",
        "IPY_MODEL_38650f52866443f6adb85b8d566192bd",
        "IPY_MODEL_4fd5be59890d4cd79aef874f6bf5099e",
        "IPY_MODEL_35fceec39ed64c73a5b1f54026c71aa9"
       ],
       "layout": "IPY_MODEL_c47a799c5179486eac1b7d8950aa8ec9"
      }
     },
     "6acf3e38c30541c686dadf2ce4a6f45d": {
      "model_module": "@jupyter-widgets/base",
      "model_module_version": "1.2.0",
      "model_name": "LayoutModel",
      "state": {}
     },
     "6afa96279d114559b3f4bcec7ef1d6e0": {
      "model_module": "@jupyter-widgets/base",
      "model_module_version": "1.2.0",
      "model_name": "LayoutModel",
      "state": {
       "align_items": "stretch",
       "border": "dashed 0.2px green",
       "display": "flex",
       "flex_flow": "row",
       "grid_auto_columns": "True",
       "justify_content": "flex-start",
       "width": "100%"
      }
     },
     "6b9815b8c13240b1b9e1b4757d81dea9": {
      "model_module": "@jupyter-widgets/controls",
      "model_module_version": "1.5.0",
      "model_name": "HTMLModel",
      "state": {
       "layout": "IPY_MODEL_04a2d054479a4ebebdc8640c4c8c9ad3",
       "style": "IPY_MODEL_91a607172abb4feba3fc9a78c1588cc3",
       "value": "<p><code>asdf</code></p>"
      }
     },
     "6b9be7bf9e8d46d5b8e2bd493d64c167": {
      "model_module": "@jupyter-widgets/controls",
      "model_module_version": "1.5.0",
      "model_name": "HBoxModel",
      "state": {
       "children": [
        "IPY_MODEL_0a6662f17d574ac2b0cfd1deef738517",
        "IPY_MODEL_7070b313ced84339a6c7b86df9a271d6"
       ],
       "layout": "IPY_MODEL_3b716b4d197a4b5698fb30b4f60e509e"
      }
     },
     "6bfd6603a2e240cc8793dc60411f145f": {
      "model_module": "@jupyter-widgets/base",
      "model_module_version": "1.2.0",
      "model_name": "LayoutModel",
      "state": {}
     },
     "6c48e07024024092ad1e38d75caac84d": {
      "model_module": "@jupyter-widgets/controls",
      "model_module_version": "1.5.0",
      "model_name": "HTMLModel",
      "state": {
       "layout": "IPY_MODEL_1d6e9afbdad9497d8acf435ea3a374ee",
       "style": "IPY_MODEL_923bcd057ece44438d2f98987c593d14",
       "value": "<p>its a foo cake</p>"
      }
     },
     "6cd32c32ce75414c921f29386437065e": {
      "model_module": "@jupyter-widgets/base",
      "model_module_version": "1.2.0",
      "model_name": "LayoutModel",
      "state": {
       "align_items": "stretch",
       "border": "dashed 0.2px green",
       "display": "flex",
       "flex_flow": "row",
       "grid_auto_columns": "True",
       "justify_content": "flex-start",
       "width": "100%"
      }
     },
     "6cde2227497641469cbf16628f74285e": {
      "model_module": "@jupyter-widgets/base",
      "model_module_version": "1.2.0",
      "model_name": "LayoutModel",
      "state": {}
     },
     "6ce8b3b302b943669e951755ba044267": {
      "model_module": "@jupyter-widgets/base",
      "model_module_version": "1.2.0",
      "model_name": "LayoutModel",
      "state": {
       "align_items": "stretch",
       "border": "dashed 0.2px green",
       "display": "flex",
       "flex_flow": "row",
       "grid_auto_columns": "True",
       "justify_content": "flex-start",
       "width": "100%"
      }
     },
     "6d94813ddf4e4f72b80789743c5588bf": {
      "model_module": "@jupyter-widgets/base",
      "model_module_version": "1.2.0",
      "model_name": "LayoutModel",
      "state": {
       "align_items": "stretch",
       "display": "flex",
       "flex_flow": "row",
       "grid_auto_columns": "True",
       "justify_content": "flex-start",
       "width": "80%"
      }
     },
     "6da69e84a7d3416da4b1d438d20d77a6": {
      "model_module": "@jupyter-widgets/controls",
      "model_module_version": "1.5.0",
      "model_name": "DescriptionStyleModel",
      "state": {
       "description_width": ""
      }
     },
     "6dbd3c62856c4fa0813943f75466bcc8": {
      "model_module": "@jupyter-widgets/base",
      "model_module_version": "1.2.0",
      "model_name": "LayoutModel",
      "state": {}
     },
     "6dc65a308bbd479095fbd2e9ebc122d8": {
      "model_module": "@jupyter-widgets/controls",
      "model_module_version": "1.5.0",
      "model_name": "TextModel",
      "state": {
       "layout": "IPY_MODEL_a84320944ee04917b5238ba76f7ded81",
       "style": "IPY_MODEL_d90e68e2dd024d29b6fa0e3e3311bb64",
       "value": "C:\\engDev\\git_mf\\MF_Toolbox\\dev\\examples\\gbxml\\105_LiveseyExchange_heatpump-normal-fabric.xml"
      }
     },
     "6dca0e24c874474fbf8fd4f84c3f4269": {
      "model_module": "@jupyter-widgets/output",
      "model_module_version": "1.0.0",
      "model_name": "OutputModel",
      "state": {
       "layout": "IPY_MODEL_4302847f0f5f463fbd7b87522763130a"
      }
     },
     "6dec64421a2e434289451669b08f907a": {
      "model_module": "@jupyter-widgets/base",
      "model_module_version": "1.2.0",
      "model_name": "LayoutModel",
      "state": {
       "align_items": "stretch",
       "display": "flex",
       "flex_flow": "row",
       "grid_auto_columns": "True",
       "justify_content": "flex-start",
       "width": "80%"
      }
     },
     "6e01f4b7373e4a5381396f07fdd19d03": {
      "model_module": "@jupyter-widgets/controls",
      "model_module_version": "1.5.0",
      "model_name": "DescriptionStyleModel",
      "state": {
       "description_width": ""
      }
     },
     "6e11e6dabfba43a08f71a8e99eb803ab": {
      "model_module": "@jupyter-widgets/base",
      "model_module_version": "1.2.0",
      "model_name": "LayoutModel",
      "state": {
       "display": "flex",
       "flex_flow": "row",
       "grid_auto_columns": "False",
       "justify_content": "flex-start",
       "width": "100%"
      }
     },
     "6e518b174a584b5c91c7de70c5626a55": {
      "model_module": "@jupyter-widgets/base",
      "model_module_version": "1.2.0",
      "model_name": "LayoutModel",
      "state": {}
     },
     "6e74eb0f40174884a211adca39b94c67": {
      "model_module": "@jupyter-widgets/controls",
      "model_module_version": "1.5.0",
      "model_name": "HBoxModel",
      "state": {
       "children": [
        "IPY_MODEL_68a7fb5e29004667b4d4e64ff5a8c474"
       ],
       "layout": "IPY_MODEL_65eeb3e881b748c6abe614d16a7160c5"
      }
     },
     "6e7b818faa56402d910b9fd737cabf4b": {
      "model_module": "@jupyter-widgets/controls",
      "model_module_version": "1.5.0",
      "model_name": "HBoxModel",
      "state": {
       "children": [
        "IPY_MODEL_4d7cc01e327c413da75b0671f84f39ee",
        "IPY_MODEL_2adbb09228254b72b979a3319f747f0f"
       ],
       "layout": "IPY_MODEL_f89ef862aade46dc9a708d74b44ddda1"
      }
     },
     "6e923eeb43e849a8b5beb4838d49f4c6": {
      "model_module": "@jupyter-widgets/controls",
      "model_module_version": "1.5.0",
      "model_name": "HBoxModel",
      "state": {
       "children": [
        "IPY_MODEL_06a4047a69a54f568ddbdf1013a6123c",
        "IPY_MODEL_8cf4da83a6a74384b3d295d98a880993"
       ],
       "layout": "IPY_MODEL_545339d71c8e451ba2bdb151d4de59cf"
      }
     },
     "6ea69bd6887f44f5aa9e680cb983f933": {
      "model_module": "@jupyter-widgets/base",
      "model_module_version": "1.2.0",
      "model_name": "LayoutModel",
      "state": {}
     },
     "6ef48e165e154c8b8a6d6f22d5a2cb27": {
      "model_module": "@jupyter-widgets/base",
      "model_module_version": "1.2.0",
      "model_name": "LayoutModel",
      "state": {
       "align_items": "stretch",
       "display": "flex",
       "flex_flow": "row",
       "grid_auto_columns": "True",
       "justify_content": "flex-start",
       "width": "80%"
      }
     },
     "6f22f950b4e84158b90e6fbd26b6e92a": {
      "model_module": "@jupyter-widgets/base",
      "model_module_version": "1.2.0",
      "model_name": "LayoutModel",
      "state": {
       "align_items": "stretch",
       "display": "flex",
       "flex_flow": "row",
       "grid_auto_columns": "True",
       "justify_content": "flex-end",
       "width": "90%"
      }
     },
     "6f3c2d6ed3da4e1cb7e73852c54abf1e": {
      "model_module": "@jupyter-widgets/base",
      "model_module_version": "1.2.0",
      "model_name": "LayoutModel",
      "state": {}
     },
     "6f5ccf5a89d44aa8a74c0e70b1a89411": {
      "model_module": "@jupyter-widgets/base",
      "model_module_version": "1.2.0",
      "model_name": "LayoutModel",
      "state": {}
     },
     "6f7afaee94f34b1187d5f4ef17f339b2": {
      "model_module": "@jupyter-widgets/controls",
      "model_module_version": "1.5.0",
      "model_name": "HBoxModel",
      "state": {
       "children": [
        "IPY_MODEL_e8a17ab860764d4eb61421aa4804ec3f",
        "IPY_MODEL_35e9f2f6a49e48c19eaa5fbe3fc84acf"
       ],
       "layout": "IPY_MODEL_fdb0f071fab845b59f95b5fd15333fca"
      }
     },
     "6fae897dd69a4872a126a77657d33c80": {
      "model_module": "@jupyter-widgets/controls",
      "model_module_version": "1.5.0",
      "model_name": "HTMLModel",
      "state": {
       "layout": "IPY_MODEL_2ae156f49db74d2e8e01296e633113ac",
       "style": "IPY_MODEL_9d0899794fa5434abd6f087630f737e5",
       "value": "016"
      }
     },
     "7007120e59c7491a9dc6b73dbc9bc743": {
      "model_module": "@jupyter-widgets/controls",
      "model_module_version": "1.5.0",
      "model_name": "VBoxModel",
      "state": {
       "children": [
        "IPY_MODEL_a889ce35bf994e23813eda9619ebce06",
        "IPY_MODEL_0f8354415df8407e8e15afbc510e717e"
       ],
       "layout": "IPY_MODEL_6f5ccf5a89d44aa8a74c0e70b1a89411"
      }
     },
     "7070b313ced84339a6c7b86df9a271d6": {
      "model_module": "@jupyter-widgets/controls",
      "model_module_version": "1.5.0",
      "model_name": "HBoxModel",
      "state": {
       "children": [
        "IPY_MODEL_ecf9fea9053747c8b4d9d9735d8b8fe8",
        "IPY_MODEL_0068a3f4b6a643cbb44fd1aca778fde4"
       ],
       "layout": "IPY_MODEL_1930ab65d88741d08794703f11b259c9"
      }
     },
     "7081381cc800474285fb42d1a33b8eae": {
      "model_module": "@jupyter-widgets/controls",
      "model_module_version": "1.5.0",
      "model_name": "ButtonModel",
      "state": {
       "button_style": "success",
       "description": "open file",
       "layout": "IPY_MODEL_26305f3fe7074427b7d04fdb2b4f3e43",
       "style": "IPY_MODEL_1a2d69c890af49d4b5834a5aaeb6176d"
      }
     },
     "708370184a0e4d27a57bda1e59759613": {
      "model_module": "@jupyter-widgets/controls",
      "model_module_version": "1.5.0",
      "model_name": "ButtonModel",
      "state": {
       "button_style": "warning",
       "description": "revert to last save",
       "layout": "IPY_MODEL_8beebb4924b44678915d79cd27ba147f",
       "style": "IPY_MODEL_2a40503f911a442fbe87b369b7c0b36f"
      }
     },
     "712b0cd86d3848ceb1d072f4e2cd85c0": {
      "model_module": "@jupyter-widgets/controls",
      "model_module_version": "1.5.0",
      "model_name": "VBoxModel",
      "state": {
       "children": [
        "IPY_MODEL_63ccacf5318a4b828401d9946cd8c615"
       ],
       "layout": "IPY_MODEL_23d75bd4f469484b841856c93b07b047"
      }
     },
     "7143bd599e35449f8a51952f55dc97ac": {
      "model_module": "@jupyter-widgets/base",
      "model_module_version": "1.2.0",
      "model_name": "LayoutModel",
      "state": {}
     },
     "716530df76664c6982c706cd13a2a1dd": {
      "model_module": "@jupyter-widgets/base",
      "model_module_version": "1.2.0",
      "model_name": "LayoutModel",
      "state": {}
     },
     "71d526535d8e4c4a86c0f12fad2de9d9": {
      "model_module": "@jupyter-widgets/base",
      "model_module_version": "1.2.0",
      "model_name": "LayoutModel",
      "state": {}
     },
     "71e0b807dcc241799f1bb36cc5515bc6": {
      "model_module": "@jupyter-widgets/controls",
      "model_module_version": "1.5.0",
      "model_name": "TextModel",
      "state": {
       "layout": "IPY_MODEL_b7be71695e474406865dcedbaf008cd1",
       "style": "IPY_MODEL_367b8d3e6acc4667bdf7f2cd6693ce24",
       "value": "YY-OverheatingAnalysis"
      }
     },
     "7202fbedf8894166951947720c2fa828": {
      "model_module": "@jupyter-widgets/output",
      "model_module_version": "1.0.0",
      "model_name": "OutputModel",
      "state": {
       "layout": "IPY_MODEL_82418b999aaa4530a59842deb394e78f"
      }
     },
     "722e21603594468ca3bd0f1318997c77": {
      "model_module": "@jupyter-widgets/base",
      "model_module_version": "1.2.0",
      "model_name": "LayoutModel",
      "state": {}
     },
     "7235e30ac9504516a623454cd264b0c3": {
      "model_module": "@jupyter-widgets/controls",
      "model_module_version": "1.5.0",
      "model_name": "HBoxModel",
      "state": {
       "children": [
        "IPY_MODEL_726b8fbb1b764d168625bbd2ae4d5907",
        "IPY_MODEL_105ea0af59d84e15a8e4d8fa51d7fe7c"
       ],
       "layout": "IPY_MODEL_3baf733c18324d0fbce14f722b3e4164"
      }
     },
     "724e8e36b934461db7ea0337418452ef": {
      "model_module": "@jupyter-widgets/base",
      "model_module_version": "1.2.0",
      "model_name": "LayoutModel",
      "state": {}
     },
     "726b8fbb1b764d168625bbd2ae4d5907": {
      "model_module": "@jupyter-widgets/controls",
      "model_module_version": "1.5.0",
      "model_name": "HTMLModel",
      "state": {
       "layout": "IPY_MODEL_8107ab537a6b41e48cf4ac7c9fc57057",
       "style": "IPY_MODEL_4d7667876d3c492a9ecb060125ab1a1a",
       "value": "<p>fpth_in</p>"
      }
     },
     "72adad20ed4c4e97af6ce714d5f2e937": {
      "model_module": "@jupyter-widgets/controls",
      "model_module_version": "1.5.0",
      "model_name": "ToggleButtonModel",
      "state": {
       "description": "help",
       "icon": "fa-question-circle",
       "layout": "IPY_MODEL_c7cbc7248b6c481594f38ac9cc2dc83d",
       "style": "IPY_MODEL_4269dd54c4734e509a70a90faa3644d3",
       "tooltip": "gives guidance"
      }
     },
     "730601c01e424907bb30291f829f2fce": {
      "model_module": "@jupyter-widgets/base",
      "model_module_version": "1.2.0",
      "model_name": "LayoutModel",
      "state": {}
     },
     "731e2ffb637f409b98d9c18244d11ea0": {
      "model_module": "@jupyter-widgets/controls",
      "model_module_version": "1.5.0",
      "model_name": "HBoxModel",
      "state": {
       "children": [
        "IPY_MODEL_41da5014c72748fab09de657c8969699",
        "IPY_MODEL_43e647202cf347f2bda4110f5e6decde"
       ],
       "layout": "IPY_MODEL_0f9fd5454a2044a3a09319a43dbaf47b"
      }
     },
     "73234eb13edb41fea61b17286d0733ca": {
      "model_module": "@jupyter-widgets/controls",
      "model_module_version": "1.5.0",
      "model_name": "HBoxModel",
      "state": {
       "children": [
        "IPY_MODEL_7fdfd965b9524633938c6c56fa07058e",
        "IPY_MODEL_17012d6304204c0ba8b8e9b679169c8a"
       ],
       "layout": "IPY_MODEL_601a95662f784652b1b81a3968014758"
      }
     },
     "73316059f2394655b7f28375d82291ba": {
      "model_module": "@jupyter-widgets/base",
      "model_module_version": "1.2.0",
      "model_name": "LayoutModel",
      "state": {}
     },
     "7342d94c06ca4545bb99ad38aa169a4d": {
      "model_module": "@jupyter-widgets/base",
      "model_module_version": "1.2.0",
      "model_name": "LayoutModel",
      "state": {
       "align_items": "stretch",
       "display": "flex",
       "flex_flow": "row",
       "grid_auto_columns": "True",
       "justify_content": "flex-end",
       "width": "90%"
      }
     },
     "73ba315fcf194e11855833bcad67a810": {
      "model_module": "@jupyter-widgets/base",
      "model_module_version": "1.2.0",
      "model_name": "LayoutModel",
      "state": {}
     },
     "73ca260d6935450a9ae5b8f79d02e909": {
      "model_module": "@jupyter-widgets/controls",
      "model_module_version": "1.5.0",
      "model_name": "DescriptionStyleModel",
      "state": {
       "description_width": ""
      }
     },
     "73d7776c37e1431abac06681943a3e04": {
      "model_module": "@jupyter-widgets/base",
      "model_module_version": "1.2.0",
      "model_name": "LayoutModel",
      "state": {
       "align_items": "stretch",
       "border": "dashed 0.2px green",
       "display": "flex",
       "flex_flow": "row",
       "grid_auto_columns": "True",
       "justify_content": "flex-start",
       "width": "100%"
      }
     },
     "73fe018371c5460bbf04a5869ac073c5": {
      "model_module": "@jupyter-widgets/base",
      "model_module_version": "1.2.0",
      "model_name": "LayoutModel",
      "state": {
       "align_items": "stretch",
       "border": "dashed 0.2px green",
       "display": "flex",
       "flex_flow": "row",
       "grid_auto_columns": "True",
       "justify_content": "flex-start",
       "width": "100%"
      }
     },
     "74152743e4134feb96d57fbfc971888a": {
      "model_module": "@jupyter-widgets/controls",
      "model_module_version": "1.5.0",
      "model_name": "ButtonModel",
      "state": {
       "button_style": "info",
       "description": "show guide",
       "layout": "IPY_MODEL_4276938541514f8888ce64065e06d7ab",
       "style": "IPY_MODEL_7436cb617c6346909f6c0a22a1606ceb",
       "tooltip": "read the \"docstring\", ie. the documentation that was written to accompany the script"
      }
     },
     "741bbbc2ab83444881341b1bcb3e9cda": {
      "model_module": "@jupyter-widgets/base",
      "model_module_version": "1.2.0",
      "model_name": "LayoutModel",
      "state": {}
     },
     "7429d1b7c0dc4e1d86422e30204694e8": {
      "model_module": "@jupyter-widgets/controls",
      "model_module_version": "1.5.0",
      "model_name": "DescriptionStyleModel",
      "state": {
       "description_width": ""
      }
     },
     "7436cb617c6346909f6c0a22a1606ceb": {
      "model_module": "@jupyter-widgets/controls",
      "model_module_version": "1.5.0",
      "model_name": "ButtonStyleModel",
      "state": {
       "font_weight": "bold"
      }
     },
     "74632a1e3ce142c2804178466d0d7b74": {
      "model_module": "@jupyter-widgets/base",
      "model_module_version": "1.2.0",
      "model_name": "LayoutModel",
      "state": {
       "align_items": "stretch",
       "display": "flex",
       "flex_flow": "row",
       "grid_auto_columns": "True",
       "justify_content": "flex-end",
       "width": "90%"
      }
     },
     "747d441a1a9b4903b571385faeb9c698": {
      "model_module": "@jupyter-widgets/base",
      "model_module_version": "1.2.0",
      "model_name": "LayoutModel",
      "state": {}
     },
     "74814179cab64342bbbd0a6b53412cfe": {
      "model_module": "@jupyter-widgets/base",
      "model_module_version": "1.2.0",
      "model_name": "LayoutModel",
      "state": {
       "align_items": "stretch",
       "display": "flex",
       "flex_flow": "row",
       "grid_auto_columns": "True",
       "justify_content": "flex-end",
       "width": "90%"
      }
     },
     "749fe5b3d57a47439f35b19a52914bcb": {
      "model_module": "@jupyter-widgets/base",
      "model_module_version": "1.2.0",
      "model_name": "LayoutModel",
      "state": {}
     },
     "74ad85c5f4c34de89b40da8e21d73bcb": {
      "model_module": "@jupyter-widgets/base",
      "model_module_version": "1.2.0",
      "model_name": "LayoutModel",
      "state": {
       "align_items": "stretch",
       "display": "flex",
       "flex_flow": "row",
       "grid_auto_columns": "True",
       "justify_content": "flex-end",
       "width": "90%"
      }
     },
     "74af2eb76a5a445da638e5ed6150493f": {
      "model_module": "@jupyter-widgets/controls",
      "model_module_version": "1.5.0",
      "model_name": "HBoxModel",
      "state": {
       "children": [
        "IPY_MODEL_e9b9256e3a6c4b3996ef20bdccbc0eb7",
        "IPY_MODEL_8f6802296cba4c77bac2555fb54616ba"
       ],
       "layout": "IPY_MODEL_dc51c2d6e8cf492fa31d5018233ed839"
      }
     },
     "74beaab3185a40339c28991c40d72c74": {
      "model_module": "@jupyter-widgets/base",
      "model_module_version": "1.2.0",
      "model_name": "LayoutModel",
      "state": {
       "display": "flex",
       "flex_flow": "row",
       "grid_auto_columns": "False",
       "justify_content": "flex-start",
       "width": "100%"
      }
     },
     "74e3d2126b644eafa8c4bc00b8fcefee": {
      "model_module": "@jupyter-widgets/controls",
      "model_module_version": "1.5.0",
      "model_name": "DescriptionStyleModel",
      "state": {
       "description_width": ""
      }
     },
     "7529dd111f0f4d3dbc66993eb7d29cd6": {
      "model_module": "@jupyter-widgets/controls",
      "model_module_version": "1.5.0",
      "model_name": "VBoxModel",
      "state": {
       "children": [
        "IPY_MODEL_55ca9c12a04d421c8f06852613bbf0a8",
        "IPY_MODEL_323f69087ef1480a8bded6ac180b86aa"
       ],
       "layout": "IPY_MODEL_47b5715a63724c709de26816ac73a123"
      }
     },
     "752bce0dda814032b3f569a341bced3f": {
      "model_module": "@jupyter-widgets/controls",
      "model_module_version": "1.5.0",
      "model_name": "HBoxModel",
      "state": {
       "children": [
        "IPY_MODEL_4b57cf6af76f41f79057b5e44cddfc8d",
        "IPY_MODEL_ae50e49e856944c7a4d9af5d4ada8aae"
       ],
       "layout": "IPY_MODEL_d42325ce0cf843fa823b088c340cebd4"
      }
     },
     "7562051d1f9b44fda6e76abe5fc4a111": {
      "model_module": "@jupyter-widgets/controls",
      "model_module_version": "1.5.0",
      "model_name": "DescriptionStyleModel",
      "state": {
       "description_width": ""
      }
     },
     "757186292d0946e5b7fc11eb2df6cd6b": {
      "model_module": "@jupyter-widgets/base",
      "model_module_version": "1.2.0",
      "model_name": "LayoutModel",
      "state": {
       "align_items": "stretch",
       "display": "flex",
       "flex_flow": "row",
       "grid_auto_columns": "True",
       "justify_content": "flex-end",
       "width": "90%"
      }
     },
     "757addbd17a744c8aa585a9a844789e2": {
      "model_module": "@jupyter-widgets/controls",
      "model_module_version": "1.5.0",
      "model_name": "DescriptionStyleModel",
      "state": {
       "description_width": ""
      }
     },
     "757f92b29b1c4cdf96b29faaa6a9f2a7": {
      "model_module": "@jupyter-widgets/controls",
      "model_module_version": "1.5.0",
      "model_name": "FloatTextModel",
      "state": {
       "layout": "IPY_MODEL_e7d8d4f707684429b1aa2ce1669d424b",
       "step": null,
       "style": "IPY_MODEL_faacb8ad561d4b4094726c1989950b48",
       "value": 9
      }
     },
     "758e3a6ba7664f57a23cb2550dfb0185": {
      "model_module": "@jupyter-widgets/controls",
      "model_module_version": "1.5.0",
      "model_name": "HBoxModel",
      "state": {
       "children": [
        "IPY_MODEL_7de4ab214f7a44e381b355839fdf57a0",
        "IPY_MODEL_f347fe61513e46de93da9e37dce2ee75"
       ],
       "layout": "IPY_MODEL_6870aafe908d4b71bdee3179f49a2b1f"
      }
     },
     "75a89f5d2f7445529cd2c352f2513323": {
      "model_module": "@jupyter-widgets/base",
      "model_module_version": "1.2.0",
      "model_name": "LayoutModel",
      "state": {}
     },
     "760cc5cdd4bf42fdabceacc73fbc72a6": {
      "model_module": "@jupyter-widgets/base",
      "model_module_version": "1.2.0",
      "model_name": "LayoutModel",
      "state": {}
     },
     "761c71555fa54147826c0e4a6dbc3ba4": {
      "model_module": "@jupyter-widgets/controls",
      "model_module_version": "1.5.0",
      "model_name": "HTMLModel",
      "state": {
       "layout": "IPY_MODEL_170d05cd724f455bb36ec3279b983b1c",
       "style": "IPY_MODEL_4114b6f4c40243b09d8026d8e9fd3c0d",
       "value": "<p>foo</p>"
      }
     },
     "7625b4e392b04bb1b84f7d9fcaa38fa5": {
      "model_module": "@jupyter-widgets/base",
      "model_module_version": "1.2.0",
      "model_name": "LayoutModel",
      "state": {
       "align_items": "stretch",
       "border": "dashed 0.2px green",
       "display": "flex",
       "flex_flow": "row",
       "grid_auto_columns": "True",
       "justify_content": "flex-start",
       "width": "100%"
      }
     },
     "7630a68c7da849be99a0b2047b01482e": {
      "model_module": "@jupyter-widgets/controls",
      "model_module_version": "1.5.0",
      "model_name": "HTMLModel",
      "state": {
       "layout": "IPY_MODEL_b1148a7eacdf436bb6aa158b668c348b",
       "style": "IPY_MODEL_fc302e1339f4410db35a705425afd69f",
       "value": "<p>reous foo ous foo st</p>"
      }
     },
     "7640a6827d934c3baad743ea184b24a4": {
      "model_module": "@jupyter-widgets/base",
      "model_module_version": "1.2.0",
      "model_name": "LayoutModel",
      "state": {}
     },
     "7656d07aa0fa4ecbbb24297c0eac0a09": {
      "model_module": "@jupyter-widgets/base",
      "model_module_version": "1.2.0",
      "model_name": "LayoutModel",
      "state": {
       "align_items": "stretch",
       "display": "flex",
       "flex_flow": "row",
       "grid_auto_columns": "True",
       "justify_content": "flex-end",
       "width": "90%"
      }
     },
     "76a7df714b2f46d2a3ce7e8c49ce878a": {
      "model_module": "@jupyter-widgets/controls",
      "model_module_version": "1.5.0",
      "model_name": "DescriptionStyleModel",
      "state": {
       "description_width": ""
      }
     },
     "76bd7d56d8cc42e6987732480b52e848": {
      "model_module": "@jupyter-widgets/controls",
      "model_module_version": "1.5.0",
      "model_name": "HTMLModel",
      "state": {
       "layout": "IPY_MODEL_42a71f15dd19423cbbe183f956acfe60",
       "style": "IPY_MODEL_be8ef93a7e8e45d781f6ffbe45aeb7a1",
       "value": "<p>defines the logic of the space naming. use default value where practical.</p>"
      }
     },
     "76db258b67674169a1a73b8099b6c3a5": {
      "model_module": "@jupyter-widgets/base",
      "model_module_version": "1.2.0",
      "model_name": "LayoutModel",
      "state": {}
     },
     "76dd608c3f70411b9b387eec887994ed": {
      "model_module": "@jupyter-widgets/controls",
      "model_module_version": "1.5.0",
      "model_name": "ButtonStyleModel",
      "state": {}
     },
     "76f14b0aaf134dab9cafffe96ea438be": {
      "model_module": "@jupyter-widgets/controls",
      "model_module_version": "1.5.0",
      "model_name": "DescriptionStyleModel",
      "state": {
       "description_width": ""
      }
     },
     "76f1eefd4d3244eea3d951533ef29a48": {
      "model_module": "@jupyter-widgets/base",
      "model_module_version": "1.2.0",
      "model_name": "LayoutModel",
      "state": {
       "align_items": "stretch",
       "display": "flex",
       "flex_flow": "row",
       "grid_auto_columns": "True",
       "justify_content": "flex-start",
       "width": "80%"
      }
     },
     "770b669588284136bc7bb237a8a71e81": {
      "model_module": "@jupyter-widgets/controls",
      "model_module_version": "1.5.0",
      "model_name": "DescriptionStyleModel",
      "state": {
       "description_width": ""
      }
     },
     "770f7832310e4096a09f62d2d046ad19": {
      "model_module": "@jupyter-widgets/controls",
      "model_module_version": "1.5.0",
      "model_name": "DescriptionStyleModel",
      "state": {
       "description_width": ""
      }
     },
     "774222684f314c22b3b3dcb7cf5ddbf1": {
      "model_module": "@jupyter-widgets/controls",
      "model_module_version": "1.5.0",
      "model_name": "VBoxModel",
      "state": {
       "children": [
        "IPY_MODEL_f83829351476457b956ff15ee1ad1045",
        "IPY_MODEL_e55e151ca48c4ef885b52bb2caf4bccf",
        "IPY_MODEL_c000b3465b0341a8affe3e27044aa4d2",
        "IPY_MODEL_aa2d90f475a24fe29ce9fb9896b80129",
        "IPY_MODEL_3de6a212c37d464aa0a0d04a5eb7662c",
        "IPY_MODEL_bf96d072f3724c409e48920113824935",
        "IPY_MODEL_27177658844a40e58b08a3559ae989fb",
        "IPY_MODEL_17bbfa9f5e96481d9573f65c9a225dbc"
       ],
       "layout": "IPY_MODEL_5ddebffae1a04b8f990c6b74bb972a42"
      }
     },
     "77be548fb3da40b0b7e17769d299579b": {
      "model_module": "@jupyter-widgets/base",
      "model_module_version": "1.2.0",
      "model_name": "LayoutModel",
      "state": {}
     },
     "77d87dc3e305490790bb13bb9848a64a": {
      "model_module": "@jupyter-widgets/output",
      "model_module_version": "1.0.0",
      "model_name": "OutputModel",
      "state": {
       "layout": "IPY_MODEL_803080f2b5d549c99dfed4ef38b1d8b1"
      }
     },
     "77ee9b1d210f493e96780ad9e61e9a3f": {
      "model_module": "@jupyter-widgets/controls",
      "model_module_version": "1.5.0",
      "model_name": "DescriptionStyleModel",
      "state": {
       "description_width": ""
      }
     },
     "77f8283ced4841c2bea697802e2103f0": {
      "model_module": "@jupyter-widgets/base",
      "model_module_version": "1.2.0",
      "model_name": "LayoutModel",
      "state": {
       "align_items": "stretch",
       "border": "dashed 0.2px green",
       "display": "flex",
       "flex_flow": "row",
       "grid_auto_columns": "True",
       "justify_content": "flex-start",
       "width": "100%"
      }
     },
     "7805fbe354534d01943339a20d138d4d": {
      "model_module": "@jupyter-widgets/controls",
      "model_module_version": "1.5.0",
      "model_name": "HTMLModel",
      "state": {
       "layout": "IPY_MODEL_e362e7fe93a345088a44f8754334ddcb",
       "style": "IPY_MODEL_67552bf815334daf9f63617414fcdbba",
       "value": "<p>reous foo ous foo st</p>"
      }
     },
     "7847f178f5cb4b3b9ebeac3c9536723f": {
      "model_module": "@jupyter-widgets/controls",
      "model_module_version": "1.5.0",
      "model_name": "RadioButtonsModel",
      "state": {
       "_options_labels": [
        "TEMPLATE: C:\\engDev\\git_mf\\MF_Toolbox\\dev\\mf_scripts\\template_inputs\\inputs-docx_to_pdf.json",
        "PROJECT: C:\\engDev\\git_mf\\ipyrun\\ipyrun\\appdata\\inputs\\inputs-docx_to_pdf.json",
        "PROJECT: C:\\engDev\\git_mf\\ipyrun\\ipyrun\\appdata\\inputs\\archive\\20200610_1134-jg-inputs-docx_to_pdf.json",
        "PROJECT: C:\\engDev\\git_mf\\ipyrun\\ipyrun\\appdata\\inputs\\archive\\20200610_1139-jg-inputs-docx_to_pdf.json",
        "PROJECT: C:\\engDev\\git_mf\\ipyrun\\ipyrun\\appdata\\inputs\\archive\\20200610_1218-jg-inputs-docx_to_pdf.json",
        "PROJECT: C:\\engDev\\git_mf\\ipyrun\\ipyrun\\appdata\\inputs\\archive\\20200610_1220-jg-inputs-docx_to_pdf.json",
        "PROJECT: C:\\engDev\\git_mf\\ipyrun\\ipyrun\\appdata\\inputs\\archive\\20200610_1221-jg-inputs-docx_to_pdf.json",
        "PROJECT: C:\\engDev\\git_mf\\ipyrun\\ipyrun\\appdata\\inputs\\archive\\20200610_1224-jg-inputs-docx_to_pdf.json",
        "PROJECT: C:\\engDev\\git_mf\\ipyrun\\ipyrun\\appdata\\inputs\\archive\\20200610_1225-jg-inputs-docx_to_pdf.json",
        "PROJECT: C:\\engDev\\git_mf\\ipyrun\\ipyrun\\appdata\\inputs\\archive\\20200610_1244-jg-inputs-docx_to_pdf.json",
        "PROJECT: C:\\engDev\\git_mf\\ipyrun\\ipyrun\\appdata\\inputs\\archive\\20200610_1246-jg-inputs-docx_to_pdf.json",
        "PROJECT: C:\\engDev\\git_mf\\ipyrun\\ipyrun\\appdata\\inputs\\archive\\20200610_1419-jg-inputs-docx_to_pdf.json",
        "PROJECT: C:\\engDev\\git_mf\\ipyrun\\ipyrun\\appdata\\inputs\\archive\\20200610_1420-jg-inputs-docx_to_pdf.json",
        "PROJECT: C:\\engDev\\git_mf\\ipyrun\\ipyrun\\appdata\\inputs\\archive\\20200610_1422-jg-inputs-docx_to_pdf.json",
        "PROJECT: C:\\engDev\\git_mf\\ipyrun\\ipyrun\\appdata\\inputs\\archive\\20200610_1425-jg-inputs-docx_to_pdf.json",
        "PROJECT: C:\\engDev\\git_mf\\ipyrun\\ipyrun\\appdata\\inputs\\archive\\20200610_1853-jg-inputs-docx_to_pdf.json",
        "PROJECT: C:\\engDev\\git_mf\\ipyrun\\ipyrun\\appdata\\inputs\\archive\\20200610_1855-jg-inputs-docx_to_pdf.json",
        "PROJECT: C:\\engDev\\git_mf\\ipyrun\\ipyrun\\appdata\\inputs\\archive\\20200611_0748-jg-inputs-docx_to_pdf.json",
        "PROJECT: C:\\engDev\\git_mf\\ipyrun\\ipyrun\\appdata\\inputs\\archive\\20200611_0754-jg-inputs-docx_to_pdf.json",
        "PROJECT: C:\\engDev\\git_mf\\ipyrun\\ipyrun\\appdata\\inputs\\archive\\20200611_0757-jg-inputs-docx_to_pdf.json",
        "PROJECT: C:\\engDev\\git_mf\\ipyrun\\ipyrun\\appdata\\inputs\\archive\\20200616_1026-jg-inputs-docx_to_pdf.json"
       ],
       "index": 0,
       "layout": "IPY_MODEL_21a7e174472f425b9aa7da02e839cd57",
       "style": "IPY_MODEL_d2c873a1f746455bb9ce0ecb7825fd1a"
      }
     },
     "7857c3fc99dc4418a57dc549d39cf23f": {
      "model_module": "@jupyter-widgets/base",
      "model_module_version": "1.2.0",
      "model_name": "LayoutModel",
      "state": {}
     },
     "7869135e460d4004a9e01b69cd988aaa": {
      "model_module": "@jupyter-widgets/controls",
      "model_module_version": "1.5.0",
      "model_name": "CheckboxModel",
      "state": {
       "disabled": false,
       "layout": "IPY_MODEL_e08846ab005148958c1da0f547522f95",
       "style": "IPY_MODEL_f77ff69cbedc4142822d3c1f4ebb8bd7",
       "value": true
      }
     },
     "786caed3219b4c66bf150eeeaf00a16c": {
      "model_module": "@jupyter-widgets/base",
      "model_module_version": "1.2.0",
      "model_name": "LayoutModel",
      "state": {
       "align_items": "stretch",
       "display": "flex",
       "flex_flow": "row",
       "grid_auto_columns": "True",
       "justify_content": "flex-end",
       "width": "90%"
      }
     },
     "7871915ef48a4b22b4ae4a453a9705a1": {
      "model_module": "@jupyter-widgets/controls",
      "model_module_version": "1.5.0",
      "model_name": "DescriptionStyleModel",
      "state": {
       "description_width": ""
      }
     },
     "78a18714070f4773aebea8110cc22157": {
      "model_module": "@jupyter-widgets/base",
      "model_module_version": "1.2.0",
      "model_name": "LayoutModel",
      "state": {}
     },
     "78a2cf9bbcc24d24b01b3c751c83f8ff": {
      "model_module": "@jupyter-widgets/base",
      "model_module_version": "1.2.0",
      "model_name": "LayoutModel",
      "state": {
       "align_items": "stretch",
       "display": "flex",
       "flex_flow": "row",
       "grid_auto_columns": "True",
       "justify_content": "flex-end",
       "width": "90%"
      }
     },
     "78ca8b30cf8f4d9582ae67d55b3a1f4e": {
      "model_module": "@jupyter-widgets/base",
      "model_module_version": "1.2.0",
      "model_name": "LayoutModel",
      "state": {}
     },
     "7920afb5d796441eacc33a6e6630e4d7": {
      "model_module": "@jupyter-widgets/controls",
      "model_module_version": "1.5.0",
      "model_name": "HBoxModel",
      "state": {
       "children": [
        "IPY_MODEL_00f9ca60d21142ff8eecc2632f2b33f6",
        "IPY_MODEL_21db6d2709b34640b68cf8e01272a093"
       ],
       "layout": "IPY_MODEL_f27a3c79f8b84507b2457fd6294fe211"
      }
     },
     "7931340aae634d028f2a516dd90180bd": {
      "model_module": "@jupyter-widgets/base",
      "model_module_version": "1.2.0",
      "model_name": "LayoutModel",
      "state": {
       "align_items": "stretch",
       "border": "dashed 0.2px green",
       "display": "flex",
       "flex_flow": "row",
       "grid_auto_columns": "True",
       "justify_content": "flex-start",
       "width": "100%"
      }
     },
     "794086b1dd694c128a2439056b096e79": {
      "model_module": "@jupyter-widgets/controls",
      "model_module_version": "1.5.0",
      "model_name": "DropdownModel",
      "state": {
       "_options_labels": [
        "asfd",
        "10",
        "asdf"
       ],
       "index": 1,
       "layout": "IPY_MODEL_f2c6aca7bc284e3fa88521707b272942",
       "style": "IPY_MODEL_964f0b63c7b84173aaa26c4796f9eb50"
      }
     },
     "795c71759be54ddb9c10b6727698836a": {
      "model_module": "@jupyter-widgets/controls",
      "model_module_version": "1.5.0",
      "model_name": "DescriptionStyleModel",
      "state": {
       "description_width": ""
      }
     },
     "796f383c07c04132adbd2af9bb8f0c4f": {
      "model_module": "@jupyter-widgets/controls",
      "model_module_version": "1.5.0",
      "model_name": "DescriptionStyleModel",
      "state": {
       "description_width": ""
      }
     },
     "798cea9c714845f1a616125c38575cb9": {
      "model_module": "@jupyter-widgets/controls",
      "model_module_version": "1.5.0",
      "model_name": "DescriptionStyleModel",
      "state": {
       "description_width": ""
      }
     },
     "79abc0d3c2f94187855cea9c0a627833": {
      "model_module": "@jupyter-widgets/controls",
      "model_module_version": "1.5.0",
      "model_name": "VBoxModel",
      "state": {
       "children": [
        "IPY_MODEL_a8ad6e127e6644518fc8ce153b69f097"
       ],
       "layout": "IPY_MODEL_d8d2d89da5f04771bf9a4d77276dd047"
      }
     },
     "7a1db569c3a046e6879edf28831db7cb": {
      "model_module": "@jupyter-widgets/controls",
      "model_module_version": "1.5.0",
      "model_name": "HTMLModel",
      "state": {
       "layout": "IPY_MODEL_ab107134f92342afb7f73f54c67795f3",
       "style": "IPY_MODEL_c39ddfbcaac94982abf716ba097456b8",
       "value": "<p>fus foo ous o</p>"
      }
     },
     "7a23fdaf4de844a0abec0b92f81acf2c": {
      "model_module": "@jupyter-widgets/controls",
      "model_module_version": "1.5.0",
      "model_name": "HTMLModel",
      "state": {
       "layout": "IPY_MODEL_e15369624e1740908fe98359394703ed",
       "style": "IPY_MODEL_76a7df714b2f46d2a3ce7e8c49ce878a"
      }
     },
     "7a31c01e8e72461d8573697861f1443c": {
      "model_module": "@jupyter-widgets/output",
      "model_module_version": "1.0.0",
      "model_name": "OutputModel",
      "state": {
       "layout": "IPY_MODEL_9a54d86149694b0087fc53d562889674"
      }
     },
     "7a5ff6255e5b4035baaa2d86f07e5865": {
      "model_module": "@jupyter-widgets/base",
      "model_module_version": "1.2.0",
      "model_name": "LayoutModel",
      "state": {
       "align_items": "stretch",
       "display": "flex",
       "flex_flow": "row",
       "grid_auto_columns": "True",
       "justify_content": "flex-end",
       "width": "90%"
      }
     },
     "7ae20c1659c34e28868c26eaece2e9ed": {
      "model_module": "@jupyter-widgets/controls",
      "model_module_version": "1.5.0",
      "model_name": "DescriptionStyleModel",
      "state": {
       "description_width": ""
      }
     },
     "7af780d177004816b6be82e886375c19": {
      "model_module": "@jupyter-widgets/controls",
      "model_module_version": "1.5.0",
      "model_name": "VBoxModel",
      "state": {
       "children": [
        "IPY_MODEL_20b71854cbac4ecfa4ccd568285468df",
        "IPY_MODEL_86211c7dbec3401498cf5d11638f78cd"
       ],
       "layout": "IPY_MODEL_476ee2631cf44a76abd33055a8ae23d0"
      }
     },
     "7b074c62fcc14ab18f2d523390721cb7": {
      "model_module": "@jupyter-widgets/base",
      "model_module_version": "1.2.0",
      "model_name": "LayoutModel",
      "state": {}
     },
     "7b0eaa805fe44ad2ba09ae3d604c8026": {
      "model_module": "@jupyter-widgets/controls",
      "model_module_version": "1.5.0",
      "model_name": "DescriptionStyleModel",
      "state": {
       "description_width": ""
      }
     },
     "7b2173e94f324ff58d040c959096a37c": {
      "model_module": "@jupyter-widgets/base",
      "model_module_version": "1.2.0",
      "model_name": "LayoutModel",
      "state": {}
     },
     "7b5412d13680454e975a8d74cc14fce9": {
      "model_module": "@jupyter-widgets/controls",
      "model_module_version": "1.5.0",
      "model_name": "HTMLModel",
      "state": {
       "layout": "IPY_MODEL_1692988e97434e4db293d8fe2b3549b4",
       "style": "IPY_MODEL_b902e884c2e044e08a57fb4b696f517b",
       "value": "<p>fus foo ous o</p>"
      }
     },
     "7bbfa3d5836542d6855d22d296cd2edd": {
      "model_module": "@jupyter-widgets/controls",
      "model_module_version": "1.5.0",
      "model_name": "DescriptionStyleModel",
      "state": {
       "description_width": ""
      }
     },
     "7bce019bfa6d482aad77ae14841602a5": {
      "model_module": "@jupyter-widgets/controls",
      "model_module_version": "1.5.0",
      "model_name": "HTMLModel",
      "state": {
       "layout": "IPY_MODEL_fb006296b230493fa485696cb3f543aa",
       "style": "IPY_MODEL_49298d217d604f0489de941aef311aa1",
       "value": "<p>its a foo cake</p>"
      }
     },
     "7bd264f814b44a88b168a95f5357a8ed": {
      "model_module": "@jupyter-widgets/controls",
      "model_module_version": "1.5.0",
      "model_name": "HTMLModel",
      "state": {
       "layout": "IPY_MODEL_c1e8da453b35417d9f296fef367366e1",
       "style": "IPY_MODEL_bdc999dad0ed40899a13b363f0039a74",
       "value": "<p>Number, using to prefix the file name</p>"
      }
     },
     "7be5b15345134cccae92307c2ae38d33": {
      "model_module": "@jupyter-widgets/base",
      "model_module_version": "1.2.0",
      "model_name": "LayoutModel",
      "state": {}
     },
     "7be91d32e70b4e8aa126fdf76b3c7ae9": {
      "model_module": "@jupyter-widgets/base",
      "model_module_version": "1.2.0",
      "model_name": "LayoutModel",
      "state": {}
     },
     "7bf231f186f74cf1bad7885b874b1f4f": {
      "model_module": "@jupyter-widgets/base",
      "model_module_version": "1.2.0",
      "model_name": "LayoutModel",
      "state": {
       "align_items": "stretch",
       "display": "flex",
       "flex_flow": "row",
       "grid_auto_columns": "True",
       "justify_content": "flex-start",
       "width": "80%"
      }
     },
     "7c32113c53e04f1dbfea6adbdd9bf77d": {
      "model_module": "@jupyter-widgets/base",
      "model_module_version": "1.2.0",
      "model_name": "LayoutModel",
      "state": {}
     },
     "7c47e043dc664bc297c60c25d7fda0ec": {
      "model_module": "@jupyter-widgets/controls",
      "model_module_version": "1.5.0",
      "model_name": "DescriptionStyleModel",
      "state": {
       "description_width": ""
      }
     },
     "7c58b1bebb9148ecb1a8d855678ba910": {
      "model_module": "@jupyter-widgets/controls",
      "model_module_version": "1.5.0",
      "model_name": "HTMLModel",
      "state": {
       "layout": "IPY_MODEL_a3bf071c6ac34b9d95a010b61441dab1",
       "style": "IPY_MODEL_51f6a442500646f4af487b4dc023e8da",
       "value": "<p>foo</p>"
      }
     },
     "7c5c7305c133495e8f727a9c6ebb3cd8": {
      "model_module": "@jupyter-widgets/base",
      "model_module_version": "1.2.0",
      "model_name": "LayoutModel",
      "state": {}
     },
     "7c9dfa8a511045e596f29c035280a14d": {
      "model_module": "@jupyter-widgets/base",
      "model_module_version": "1.2.0",
      "model_name": "LayoutModel",
      "state": {}
     },
     "7cb146b45a4340e3bc7fd89dd8ddbdd5": {
      "model_module": "@jupyter-widgets/base",
      "model_module_version": "1.2.0",
      "model_name": "LayoutModel",
      "state": {
       "align_items": "stretch",
       "border": "dashed 0.2px green",
       "display": "flex",
       "flex_flow": "row",
       "grid_auto_columns": "True",
       "justify_content": "flex-start",
       "width": "100%"
      }
     },
     "7ce7391f8d004f2abc923b00ffc57cdd": {
      "model_module": "@jupyter-widgets/controls",
      "model_module_version": "1.5.0",
      "model_name": "HBoxModel",
      "state": {
       "children": [
        "IPY_MODEL_5a1ce59c768e4801857a8ec8805b4937"
       ],
       "layout": "IPY_MODEL_b5d8d13eb0a64a28bb946ff41ce72af0"
      }
     },
     "7d08f9f9f60f42b7ac5b36d646a1abc3": {
      "model_module": "@jupyter-widgets/base",
      "model_module_version": "1.2.0",
      "model_name": "LayoutModel",
      "state": {}
     },
     "7d1047d8fccb40a0bd5b6bd366cc7b7a": {
      "model_module": "@jupyter-widgets/base",
      "model_module_version": "1.2.0",
      "model_name": "LayoutModel",
      "state": {}
     },
     "7d155dd77d4f48a2aaa5e9b0449855a6": {
      "model_module": "@jupyter-widgets/base",
      "model_module_version": "1.2.0",
      "model_name": "LayoutModel",
      "state": {}
     },
     "7d290b9982ec4b98873187fad38276bb": {
      "model_module": "@jupyter-widgets/base",
      "model_module_version": "1.2.0",
      "model_name": "LayoutModel",
      "state": {}
     },
     "7d37c47abda4410a9fde3e55feab0304": {
      "model_module": "@jupyter-widgets/controls",
      "model_module_version": "1.5.0",
      "model_name": "HTMLModel",
      "state": {
       "layout": "IPY_MODEL_01d54ef7363f4345ad33a8a78afe845d",
       "style": "IPY_MODEL_26ebf441b7674456807eb4051573c62b",
       "value": "<p>Report Model Run?</p>"
      }
     },
     "7d530048b56c4a659a940e5a4a396d5d": {
      "model_module": "@jupyter-widgets/base",
      "model_module_version": "1.2.0",
      "model_name": "LayoutModel",
      "state": {}
     },
     "7daf9b1f5af842e6ade757c5a8bb71c2": {
      "model_module": "@jupyter-widgets/base",
      "model_module_version": "1.2.0",
      "model_name": "LayoutModel",
      "state": {}
     },
     "7de4ab214f7a44e381b355839fdf57a0": {
      "model_module": "@jupyter-widgets/controls",
      "model_module_version": "1.5.0",
      "model_name": "ToggleButtonModel",
      "state": {
       "icon": "arrow-down",
       "layout": "IPY_MODEL_86cb36487c654b9a935ae5cc5191f44e",
       "style": "IPY_MODEL_475ea61d288c40ae99934c3f603e69e1"
      }
     },
     "7e03e87406e842119e8ef1f6c3d368c6": {
      "model_module": "@jupyter-widgets/base",
      "model_module_version": "1.2.0",
      "model_name": "LayoutModel",
      "state": {}
     },
     "7e1f09a6e49341d2800c8239e9821a02": {
      "model_module": "@jupyter-widgets/controls",
      "model_module_version": "1.5.0",
      "model_name": "DescriptionStyleModel",
      "state": {
       "description_width": ""
      }
     },
     "7e26dc2be122420ab5d1ff40c41aa35e": {
      "model_module": "@jupyter-widgets/base",
      "model_module_version": "1.2.0",
      "model_name": "LayoutModel",
      "state": {}
     },
     "7e87e38bda704012a5d181a15042ebb7": {
      "model_module": "@jupyter-widgets/output",
      "model_module_version": "1.0.0",
      "model_name": "OutputModel",
      "state": {
       "layout": "IPY_MODEL_13acafee44044c7ab476350bd8c4bbae"
      }
     },
     "7ed728b3025b498e858a2c525cd0f567": {
      "model_module": "@jupyter-widgets/base",
      "model_module_version": "1.2.0",
      "model_name": "LayoutModel",
      "state": {}
     },
     "7eddcf794fe644fbb34f09218057ad43": {
      "model_module": "@jupyter-widgets/controls",
      "model_module_version": "1.5.0",
      "model_name": "DescriptionStyleModel",
      "state": {
       "description_width": ""
      }
     },
     "7f2f8e7822e54a4b982a487a56e700cc": {
      "model_module": "@jupyter-widgets/controls",
      "model_module_version": "1.5.0",
      "model_name": "SelectMultipleModel",
      "state": {
       "_options_labels": [
        "asfd",
        "10",
        "asdf"
       ],
       "index": [
        1
       ],
       "layout": "IPY_MODEL_1ca147cedb4b4a3f980daf74c8388667",
       "rows": 5,
       "style": "IPY_MODEL_798cea9c714845f1a616125c38575cb9"
      }
     },
     "7f3ff4f5d3e14365863c2e71fe655818": {
      "model_module": "@jupyter-widgets/controls",
      "model_module_version": "1.5.0",
      "model_name": "HTMLModel",
      "state": {
       "layout": "IPY_MODEL_ed0efe77ce3642ec9b68d1567af8d46c",
       "style": "IPY_MODEL_d9e7404bf68349e49911b6e809579ad4",
       "value": "<p>spc_name_index</p>"
      }
     },
     "7f841c1782b74bec86add8678f4ef447": {
      "model_module": "@jupyter-widgets/controls",
      "model_module_version": "1.5.0",
      "model_name": "TextareaModel",
      "state": {
       "layout": "IPY_MODEL_ae7a3107d2a74fe39a9a4795763f7791",
       "style": "IPY_MODEL_fbaa58e8e73142f78cdaf8459d7ad1f8",
       "value": "asdfasdf"
      }
     },
     "7fdfd965b9524633938c6c56fa07058e": {
      "model_module": "@jupyter-widgets/controls",
      "model_module_version": "1.5.0",
      "model_name": "HTMLModel",
      "state": {
       "layout": "IPY_MODEL_13a195d0fa344052b3ff866806b412c6",
       "style": "IPY_MODEL_50dace9596a94962a664513eed20118f",
       "value": "<p>fus foo ous o</p>"
      }
     },
     "803080f2b5d549c99dfed4ef38b1d8b1": {
      "model_module": "@jupyter-widgets/base",
      "model_module_version": "1.2.0",
      "model_name": "LayoutModel",
      "state": {}
     },
     "804ae7aa710f48d082d1609b0d55fad7": {
      "model_module": "@jupyter-widgets/base",
      "model_module_version": "1.2.0",
      "model_name": "LayoutModel",
      "state": {}
     },
     "806676fdb0b247c08623889548fa40ee": {
      "model_module": "@jupyter-widgets/controls",
      "model_module_version": "1.5.0",
      "model_name": "VBoxModel",
      "state": {
       "children": [
        "IPY_MODEL_5a9e236ba74e4116bfb6061a519a3d75",
        "IPY_MODEL_34aab1e58c4949148d721e59c226b877",
        "IPY_MODEL_a762d4d9bfab423fa59b987030dcb483",
        "IPY_MODEL_44de871af59046a4b18221ed209f8f9b",
        "IPY_MODEL_57475cd4ad1e4b908b37b08bc512ede1",
        "IPY_MODEL_29801009411e436aa58efa2ffbfbd219",
        "IPY_MODEL_4878be42652242c894f35b489ae3f310",
        "IPY_MODEL_2f793a77c6074eccb4fee3d7b28641e6"
       ],
       "layout": "IPY_MODEL_a4d16a61744d466bb34cb9f548a32939"
      }
     },
     "80d70811ee9a49078e39813dc7a689f5": {
      "model_module": "@jupyter-widgets/controls",
      "model_module_version": "1.5.0",
      "model_name": "DescriptionStyleModel",
      "state": {
       "description_width": ""
      }
     },
     "8107ab537a6b41e48cf4ac7c9fc57057": {
      "model_module": "@jupyter-widgets/base",
      "model_module_version": "1.2.0",
      "model_name": "LayoutModel",
      "state": {}
     },
     "8140d6b231f8413c901da21df7221b0b": {
      "model_module": "@jupyter-widgets/base",
      "model_module_version": "1.2.0",
      "model_name": "LayoutModel",
      "state": {}
     },
     "8155a7e7f5594c8587aa5224b75dec8a": {
      "model_module": "@jupyter-widgets/controls",
      "model_module_version": "1.5.0",
      "model_name": "DescriptionStyleModel",
      "state": {
       "description_width": ""
      }
     },
     "815be3129f4843e69ddd245a7cff0445": {
      "model_module": "@jupyter-widgets/base",
      "model_module_version": "1.2.0",
      "model_name": "LayoutModel",
      "state": {}
     },
     "81abcc17095e419c845f9c0d0ca7b91b": {
      "model_module": "@jupyter-widgets/controls",
      "model_module_version": "1.5.0",
      "model_name": "HBoxModel",
      "state": {
       "children": [
        "IPY_MODEL_4d7577328e0d4b4098345c6e2d4c6f46",
        "IPY_MODEL_e1d1947f09b046e4baa341ba2f97ac23"
       ],
       "layout": "IPY_MODEL_d01dd07a4c03412894ba10779ace702d"
      }
     },
     "82418b999aaa4530a59842deb394e78f": {
      "model_module": "@jupyter-widgets/base",
      "model_module_version": "1.2.0",
      "model_name": "LayoutModel",
      "state": {}
     },
     "8253f192854b483e82cfdb5870d3d590": {
      "model_module": "@jupyter-widgets/output",
      "model_module_version": "1.0.0",
      "model_name": "OutputModel",
      "state": {
       "layout": "IPY_MODEL_969a40640add4a67a321b38b014d65d6"
      }
     },
     "829761b099464399b8958553ce1c41b9": {
      "model_module": "@jupyter-widgets/controls",
      "model_module_version": "1.5.0",
      "model_name": "SelectMultipleModel",
      "state": {
       "_options_labels": [
        "asfd",
        "10",
        "asdf"
       ],
       "index": [
        1
       ],
       "layout": "IPY_MODEL_1a8ca04f26564426b95afc3a5b73f1b3",
       "rows": 5,
       "style": "IPY_MODEL_86d3b44b2268470b9b0ae5640489b47a"
      }
     },
     "830ce48bc2f349b68a12f3b222bc524b": {
      "model_module": "@jupyter-widgets/base",
      "model_module_version": "1.2.0",
      "model_name": "LayoutModel",
      "state": {}
     },
     "837ec758322c480d93abf1e3add83ada": {
      "model_module": "@jupyter-widgets/base",
      "model_module_version": "1.2.0",
      "model_name": "LayoutModel",
      "state": {
       "display": "flex",
       "flex_flow": "row",
       "grid_auto_columns": "False",
       "justify_content": "flex-start",
       "width": "100%"
      }
     },
     "83d7c463742e4d32a5a935a3d0a260de": {
      "model_module": "@jupyter-widgets/controls",
      "model_module_version": "1.5.0",
      "model_name": "DescriptionStyleModel",
      "state": {
       "description_width": ""
      }
     },
     "83e8db8fc61541dfb3c630ed6a3b90b6": {
      "model_module": "@jupyter-widgets/controls",
      "model_module_version": "1.5.0",
      "model_name": "HBoxModel",
      "state": {
       "children": [
        "IPY_MODEL_7081381cc800474285fb42d1a33b8eae",
        "IPY_MODEL_3d576d4781fa4c54b40af1d476430142"
       ],
       "layout": "IPY_MODEL_a74eaf4ded094cc286a32e19d205577b"
      }
     },
     "8468a4225c1f43feafc172b21bd99ed3": {
      "model_module": "@jupyter-widgets/controls",
      "model_module_version": "1.5.0",
      "model_name": "HBoxModel",
      "state": {
       "children": [
        "IPY_MODEL_5fe91761819d441ea0e8447984bc2073",
        "IPY_MODEL_139f30eafbb14595b6de9e7d8ad9aac7"
       ],
       "layout": "IPY_MODEL_74814179cab64342bbbd0a6b53412cfe"
      }
     },
     "84c22f4cb8c14e0d9638e9959582ea39": {
      "model_module": "@jupyter-widgets/controls",
      "model_module_version": "1.5.0",
      "model_name": "SliderStyleModel",
      "state": {
       "description_width": ""
      }
     },
     "85209004e7b24b6494ee8dc7b5270500": {
      "model_module": "@jupyter-widgets/controls",
      "model_module_version": "1.5.0",
      "model_name": "DescriptionStyleModel",
      "state": {
       "description_width": ""
      }
     },
     "852b2935986345099b4d254cc9f7bfd1": {
      "model_module": "@jupyter-widgets/output",
      "model_module_version": "1.0.0",
      "model_name": "OutputModel",
      "state": {
       "layout": "IPY_MODEL_a8f12582f30645ddb54776a16da11973"
      }
     },
     "853164be928049438ead64af5c3e9546": {
      "model_module": "@jupyter-widgets/controls",
      "model_module_version": "1.5.0",
      "model_name": "ButtonStyleModel",
      "state": {}
     },
     "85432d97501d4618826b7867d8cb1a6c": {
      "model_module": "@jupyter-widgets/controls",
      "model_module_version": "1.5.0",
      "model_name": "HBoxModel",
      "state": {
       "children": [
        "IPY_MODEL_019804e15e8c407aa2dabe4e9feb3706"
       ],
       "layout": "IPY_MODEL_dc46f85c44c7451c8cfe4cc7c7904604"
      }
     },
     "856f550f5c8649649530c5108284094a": {
      "model_module": "@jupyter-widgets/controls",
      "model_module_version": "1.5.0",
      "model_name": "HBoxModel",
      "state": {
       "children": [
        "IPY_MODEL_7c58b1bebb9148ecb1a8d855678ba910",
        "IPY_MODEL_109439e42a4a40deb334f4a0a21563f3"
       ],
       "layout": "IPY_MODEL_225492307b5f42688026a0d894d5e735"
      }
     },
     "8574f4b877d640668637c5e43d9b3c61": {
      "model_module": "@jupyter-widgets/controls",
      "model_module_version": "1.5.0",
      "model_name": "CheckboxModel",
      "state": {
       "disabled": false,
       "layout": "IPY_MODEL_5b69d402738c4ac1926251d988afa4b7",
       "style": "IPY_MODEL_885ee73f240443459091a20d3addedbd",
       "value": true
      }
     },
     "858424419c4e4fff982e1ddaa2f14c52": {
      "model_module": "@jupyter-widgets/controls",
      "model_module_version": "1.5.0",
      "model_name": "HTMLModel",
      "state": {
       "layout": "IPY_MODEL_722e21603594468ca3bd0f1318997c77",
       "style": "IPY_MODEL_252cd85d74234feb84c653e8a9880ace",
       "value": "<p>edit user input form below</p>"
      }
     },
     "858ac04e35aa4fe8a97dae86df7d3fa3": {
      "model_module": "@jupyter-widgets/controls",
      "model_module_version": "1.5.0",
      "model_name": "DescriptionStyleModel",
      "state": {
       "description_width": ""
      }
     },
     "85a683bfeb324aec9c49b82b57149475": {
      "model_module": "@jupyter-widgets/controls",
      "model_module_version": "1.5.0",
      "model_name": "DescriptionStyleModel",
      "state": {
       "description_width": ""
      }
     },
     "85ad0b4151d84a21b6c740bad18f2c74": {
      "model_module": "@jupyter-widgets/controls",
      "model_module_version": "1.5.0",
      "model_name": "HTMLModel",
      "state": {
       "layout": "IPY_MODEL_facf7ef182b0416bb1a92d722e0be58d",
       "style": "IPY_MODEL_8b82da59f2a94fcda132da0944584d49",
       "value": "<p>name</p>"
      }
     },
     "85d10f400a234b05a10eb9ca0a945d9f": {
      "model_module": "@jupyter-widgets/controls",
      "model_module_version": "1.5.0",
      "model_name": "HTMLModel",
      "state": {
       "layout": "IPY_MODEL_ab76dad6c601437999598c1c32c44a4a",
       "style": "IPY_MODEL_7429d1b7c0dc4e1d86422e30204694e8",
       "value": "<p>label</p>"
      }
     },
     "85f4c3b0715e4637af48a437b9047025": {
      "model_module": "@jupyter-widgets/controls",
      "model_module_version": "1.5.0",
      "model_name": "HTMLModel",
      "state": {
       "layout": "IPY_MODEL_5fba39f6d75c4bce816804bf2d04092b",
       "style": "IPY_MODEL_883474c8bd4b44a69a6e7419e097554e",
       "value": "<p>File Prefix</p>"
      }
     },
     "8609260ba55a47f1b9d1279c45e6e4b6": {
      "model_module": "@jupyter-widgets/controls",
      "model_module_version": "1.5.0",
      "model_name": "DescriptionStyleModel",
      "state": {
       "description_width": ""
      }
     },
     "860ef30fe8664f6ea427e7792ffc8dc6": {
      "model_module": "@jupyter-widgets/output",
      "model_module_version": "1.0.0",
      "model_name": "OutputModel",
      "state": {
       "layout": "IPY_MODEL_243c6150a38b4151b1e4a902d109bc44"
      }
     },
     "86211c7dbec3401498cf5d11638f78cd": {
      "model_module": "@jupyter-widgets/controls",
      "model_module_version": "1.5.0",
      "model_name": "RadioButtonsModel",
      "state": {
       "_options_labels": [
        "TEMPLATE: C:\\engDev\\git_mf\\MF_Toolbox\\dev\\mf_scripts\\template_inputs\\inputs-docx_to_pdf.json",
        "PROJECT: C:\\engDev\\git_mf\\ipyrun\\ipyrun\\appdata\\inputs\\inputs-docx_to_pdf.json",
        "PROJECT: C:\\engDev\\git_mf\\ipyrun\\ipyrun\\appdata\\inputs\\archive\\20200610_1134-jg-inputs-docx_to_pdf.json",
        "PROJECT: C:\\engDev\\git_mf\\ipyrun\\ipyrun\\appdata\\inputs\\archive\\20200610_1139-jg-inputs-docx_to_pdf.json",
        "PROJECT: C:\\engDev\\git_mf\\ipyrun\\ipyrun\\appdata\\inputs\\archive\\20200610_1218-jg-inputs-docx_to_pdf.json",
        "PROJECT: C:\\engDev\\git_mf\\ipyrun\\ipyrun\\appdata\\inputs\\archive\\20200610_1220-jg-inputs-docx_to_pdf.json",
        "PROJECT: C:\\engDev\\git_mf\\ipyrun\\ipyrun\\appdata\\inputs\\archive\\20200610_1221-jg-inputs-docx_to_pdf.json",
        "PROJECT: C:\\engDev\\git_mf\\ipyrun\\ipyrun\\appdata\\inputs\\archive\\20200610_1224-jg-inputs-docx_to_pdf.json",
        "PROJECT: C:\\engDev\\git_mf\\ipyrun\\ipyrun\\appdata\\inputs\\archive\\20200610_1225-jg-inputs-docx_to_pdf.json",
        "PROJECT: C:\\engDev\\git_mf\\ipyrun\\ipyrun\\appdata\\inputs\\archive\\20200610_1244-jg-inputs-docx_to_pdf.json",
        "PROJECT: C:\\engDev\\git_mf\\ipyrun\\ipyrun\\appdata\\inputs\\archive\\20200610_1246-jg-inputs-docx_to_pdf.json",
        "PROJECT: C:\\engDev\\git_mf\\ipyrun\\ipyrun\\appdata\\inputs\\archive\\20200610_1419-jg-inputs-docx_to_pdf.json",
        "PROJECT: C:\\engDev\\git_mf\\ipyrun\\ipyrun\\appdata\\inputs\\archive\\20200610_1420-jg-inputs-docx_to_pdf.json",
        "PROJECT: C:\\engDev\\git_mf\\ipyrun\\ipyrun\\appdata\\inputs\\archive\\20200610_1422-jg-inputs-docx_to_pdf.json",
        "PROJECT: C:\\engDev\\git_mf\\ipyrun\\ipyrun\\appdata\\inputs\\archive\\20200610_1425-jg-inputs-docx_to_pdf.json",
        "PROJECT: C:\\engDev\\git_mf\\ipyrun\\ipyrun\\appdata\\inputs\\archive\\20200610_1853-jg-inputs-docx_to_pdf.json",
        "PROJECT: C:\\engDev\\git_mf\\ipyrun\\ipyrun\\appdata\\inputs\\archive\\20200610_1855-jg-inputs-docx_to_pdf.json",
        "PROJECT: C:\\engDev\\git_mf\\ipyrun\\ipyrun\\appdata\\inputs\\archive\\20200611_0748-jg-inputs-docx_to_pdf.json",
        "PROJECT: C:\\engDev\\git_mf\\ipyrun\\ipyrun\\appdata\\inputs\\archive\\20200611_0754-jg-inputs-docx_to_pdf.json",
        "PROJECT: C:\\engDev\\git_mf\\ipyrun\\ipyrun\\appdata\\inputs\\archive\\20200611_0757-jg-inputs-docx_to_pdf.json",
        "PROJECT: C:\\engDev\\git_mf\\ipyrun\\ipyrun\\appdata\\inputs\\archive\\20200616_1026-jg-inputs-docx_to_pdf.json"
       ],
       "index": 0,
       "layout": "IPY_MODEL_74beaab3185a40339c28991c40d72c74",
       "style": "IPY_MODEL_64f4276e0f784fd98f1d11e56d09884f"
      }
     },
     "865173420c364311bbf06e80a3c52507": {
      "model_module": "@jupyter-widgets/controls",
      "model_module_version": "1.5.0",
      "model_name": "VBoxModel",
      "state": {
       "children": [
        "IPY_MODEL_aa9d44fb2a7f4ff0854112396d2ac59c",
        "IPY_MODEL_a64e9a0283cb4c65b908dd68359dbb5a"
       ],
       "layout": "IPY_MODEL_bada2e62a427498cb593108782a7b859"
      }
     },
     "8696f101232e490dac144a61720a5fe4": {
      "model_module": "@jupyter-widgets/controls",
      "model_module_version": "1.5.0",
      "model_name": "FloatTextModel",
      "state": {
       "layout": "IPY_MODEL_665aa64952324c5d9ce4523f74c8b185",
       "step": null,
       "style": "IPY_MODEL_8a3d2010c2c04e94b5cd0f36cfa7532d",
       "value": 9
      }
     },
     "869da2ab56f64fdfa6c08d2c6a2e23d0": {
      "model_module": "@jupyter-widgets/controls",
      "model_module_version": "1.5.0",
      "model_name": "DescriptionStyleModel",
      "state": {
       "description_width": ""
      }
     },
     "86b3152b9faf438f80e5fa41dca84edc": {
      "model_module": "@jupyter-widgets/controls",
      "model_module_version": "1.5.0",
      "model_name": "DescriptionStyleModel",
      "state": {
       "description_width": ""
      }
     },
     "86b38d5a6188429296ae1163a1063592": {
      "model_module": "@jupyter-widgets/base",
      "model_module_version": "1.2.0",
      "model_name": "LayoutModel",
      "state": {
       "align_items": "stretch",
       "display": "flex",
       "flex_flow": "row",
       "grid_auto_columns": "True",
       "justify_content": "flex-end",
       "width": "90%"
      }
     },
     "86ba0c5a74a049768aa87601d99558cc": {
      "model_module": "@jupyter-widgets/controls",
      "model_module_version": "1.5.0",
      "model_name": "VBoxModel",
      "state": {
       "children": [
        "IPY_MODEL_651c0598a4bb491f9160bd24a27280b7",
        "IPY_MODEL_8a9a93be1f8246eba0c603d62ea313a2",
        "IPY_MODEL_2329978e701d4cfaa94da9900e386cea"
       ],
       "layout": "IPY_MODEL_100cf953dc234cb38d4130aed6f31f2e"
      }
     },
     "86cb36487c654b9a935ae5cc5191f44e": {
      "model_module": "@jupyter-widgets/base",
      "model_module_version": "1.2.0",
      "model_name": "LayoutModel",
      "state": {}
     },
     "86d3b44b2268470b9b0ae5640489b47a": {
      "model_module": "@jupyter-widgets/controls",
      "model_module_version": "1.5.0",
      "model_name": "DescriptionStyleModel",
      "state": {
       "description_width": ""
      }
     },
     "86e3710ba8074d1eb1a3967453b9e5c1": {
      "model_module": "@jupyter-widgets/base",
      "model_module_version": "1.2.0",
      "model_name": "LayoutModel",
      "state": {}
     },
     "86e3a6355c5345eaa75c057a1e334aef": {
      "model_module": "@jupyter-widgets/base",
      "model_module_version": "1.2.0",
      "model_name": "LayoutModel",
      "state": {
       "align_items": "stretch",
       "display": "flex",
       "flex_flow": "row",
       "grid_auto_columns": "True",
       "justify_content": "flex-end",
       "width": "90%"
      }
     },
     "87086e850d3446328c9ce46ca8d0aad5": {
      "model_module": "@jupyter-widgets/output",
      "model_module_version": "1.0.0",
      "model_name": "OutputModel",
      "state": {
       "layout": "IPY_MODEL_653936f8cfda41368b136991f82a3dc8"
      }
     },
     "87432580654e4e0fb2e6c4b9ec4587f0": {
      "model_module": "@jupyter-widgets/base",
      "model_module_version": "1.2.0",
      "model_name": "LayoutModel",
      "state": {}
     },
     "874795900ba644adaea9cf08385edfcd": {
      "model_module": "@jupyter-widgets/base",
      "model_module_version": "1.2.0",
      "model_name": "LayoutModel",
      "state": {}
     },
     "876d5d0047ab4282b88e49d884f36ddf": {
      "model_module": "@jupyter-widgets/controls",
      "model_module_version": "1.5.0",
      "model_name": "HBoxModel",
      "state": {
       "children": [
        "IPY_MODEL_d75d578894df4371be21a7f039c4be8d",
        "IPY_MODEL_91bcedcca63946069d99fb7c43162967"
       ],
       "layout": "IPY_MODEL_86e3a6355c5345eaa75c057a1e334aef"
      }
     },
     "8779f331327b4877ad3f12af8df36324": {
      "model_module": "@jupyter-widgets/controls",
      "model_module_version": "1.5.0",
      "model_name": "DescriptionStyleModel",
      "state": {
       "description_width": ""
      }
     },
     "877a035d57504e5bab8f4f9ef1bce60e": {
      "model_module": "@jupyter-widgets/base",
      "model_module_version": "1.2.0",
      "model_name": "LayoutModel",
      "state": {}
     },
     "87af303d71a24b9c8f0128e0c6e127f9": {
      "model_module": "@jupyter-widgets/base",
      "model_module_version": "1.2.0",
      "model_name": "LayoutModel",
      "state": {}
     },
     "87b1d8c35b0e40e090e00285be3f6c79": {
      "model_module": "@jupyter-widgets/controls",
      "model_module_version": "1.5.0",
      "model_name": "HBoxModel",
      "state": {
       "children": [
        "IPY_MODEL_db273ca942a94baa938b25f4eaa60357",
        "IPY_MODEL_33ef7fdb52554b7087167ea31092350b"
       ],
       "layout": "IPY_MODEL_599e9652c53d49119c9ec78d1ef92a1d"
      }
     },
     "87e726743a1849df89bdd74dd1fcc501": {
      "model_module": "@jupyter-widgets/controls",
      "model_module_version": "1.5.0",
      "model_name": "ButtonModel",
      "state": {
       "description": "save",
       "layout": "IPY_MODEL_65bcf51ab9b64e4198ec57da0077f14d",
       "style": "IPY_MODEL_f7aa15ef52af4ad99d99d379b6f300f0"
      }
     },
     "8801bc5b51c347ecbd0544da768c055a": {
      "model_module": "@jupyter-widgets/base",
      "model_module_version": "1.2.0",
      "model_name": "LayoutModel",
      "state": {
       "width": "100%"
      }
     },
     "881ce2d8cd8b4add9c89b011c750a818": {
      "model_module": "@jupyter-widgets/controls",
      "model_module_version": "1.5.0",
      "model_name": "HBoxModel",
      "state": {
       "children": [
        "IPY_MODEL_73234eb13edb41fea61b17286d0733ca"
       ],
       "layout": "IPY_MODEL_10c9f3b552734dbfa451b6ccaaecabd3"
      }
     },
     "8830869f2e7544b3b49d4fdedabfa5ab": {
      "model_module": "@jupyter-widgets/controls",
      "model_module_version": "1.5.0",
      "model_name": "HBoxModel",
      "state": {
       "children": [
        "IPY_MODEL_d6618787c18644b1ad03b59a6683d5e8"
       ],
       "layout": "IPY_MODEL_08fa96ec805347d4aada4cf66d82c780"
      }
     },
     "883474c8bd4b44a69a6e7419e097554e": {
      "model_module": "@jupyter-widgets/controls",
      "model_module_version": "1.5.0",
      "model_name": "DescriptionStyleModel",
      "state": {
       "description_width": ""
      }
     },
     "883ea0caa0a649f4ac1bdb5b1b5c9cba": {
      "model_module": "@jupyter-widgets/controls",
      "model_module_version": "1.5.0",
      "model_name": "HBoxModel",
      "state": {
       "children": [
        "IPY_MODEL_ca554dca91c6458083d0923efe202948",
        "IPY_MODEL_abceae7e89b745889f518d4836a359b5"
       ],
       "layout": "IPY_MODEL_393b3d725ce4482db0bc2953b19a319b"
      }
     },
     "88409358568a499d870c47b07d4f9adf": {
      "model_module": "@jupyter-widgets/base",
      "model_module_version": "1.2.0",
      "model_name": "LayoutModel",
      "state": {
       "align_items": "stretch",
       "display": "flex",
       "flex_flow": "row",
       "grid_auto_columns": "True",
       "justify_content": "flex-start",
       "width": "80%"
      }
     },
     "884b646d5e6f4f0b87e16868fb5f46eb": {
      "model_module": "@jupyter-widgets/controls",
      "model_module_version": "1.5.0",
      "model_name": "ToggleButtonModel",
      "state": {
       "icon": "arrow-down",
       "layout": "IPY_MODEL_072310461dee4288bad6a1f9e8fbe93d",
       "style": "IPY_MODEL_31a3df60371a49138a1461f2aaedf5fb"
      }
     },
     "885ee73f240443459091a20d3addedbd": {
      "model_module": "@jupyter-widgets/controls",
      "model_module_version": "1.5.0",
      "model_name": "DescriptionStyleModel",
      "state": {
       "description_width": ""
      }
     },
     "88b6797bd4674ac9870b077d9f190c6a": {
      "model_module": "@jupyter-widgets/base",
      "model_module_version": "1.2.0",
      "model_name": "LayoutModel",
      "state": {}
     },
     "88cdfec3636b4b0b8f77bb4b14922d7e": {
      "model_module": "@jupyter-widgets/controls",
      "model_module_version": "1.5.0",
      "model_name": "DescriptionStyleModel",
      "state": {
       "description_width": ""
      }
     },
     "890ac42f2bab4a178f047e68801deb53": {
      "model_module": "@jupyter-widgets/controls",
      "model_module_version": "1.5.0",
      "model_name": "HBoxModel",
      "state": {
       "children": [
        "IPY_MODEL_b9b2c044d74142a0b9cfdc382b2d9426"
       ],
       "layout": "IPY_MODEL_037bebe9dbf648759483178d535c21e5"
      }
     },
     "890bdfe08de64ddb969533db7fc9684d": {
      "model_module": "@jupyter-widgets/controls",
      "model_module_version": "1.5.0",
      "model_name": "HTMLModel",
      "state": {
       "layout": "IPY_MODEL_5f0a6cd719654ffabb5597e861b4158c",
       "style": "IPY_MODEL_8609260ba55a47f1b9d1279c45e6e4b6",
       "value": "<p>its a foo cake</p>"
      }
     },
     "894f008d52614f89aa59300d43a04a14": {
      "model_module": "@jupyter-widgets/base",
      "model_module_version": "1.2.0",
      "model_name": "LayoutModel",
      "state": {}
     },
     "8950bcfef082490d94bde7b6b283dea5": {
      "model_module": "@jupyter-widgets/base",
      "model_module_version": "1.2.0",
      "model_name": "LayoutModel",
      "state": {}
     },
     "8953a5332dae4d43b0a6291cbe6d4984": {
      "model_module": "@jupyter-widgets/base",
      "model_module_version": "1.2.0",
      "model_name": "LayoutModel",
      "state": {}
     },
     "89b712c0d2864ebc9f6a3ced15156db5": {
      "model_module": "@jupyter-widgets/controls",
      "model_module_version": "1.5.0",
      "model_name": "FloatSliderModel",
      "state": {
       "layout": "IPY_MODEL_0a8522060fbd41d5bc6fd46c3b6440f4",
       "max": 10,
       "style": "IPY_MODEL_108798c16f234e46a444506f3cd5e6af",
       "value": 1
      }
     },
     "89b87e4e0a1d4915bb1c7adfa9b8c17d": {
      "model_module": "@jupyter-widgets/base",
      "model_module_version": "1.2.0",
      "model_name": "LayoutModel",
      "state": {}
     },
     "89c00fb2f01e435ba5943e793d21e831": {
      "model_module": "@jupyter-widgets/base",
      "model_module_version": "1.2.0",
      "model_name": "LayoutModel",
      "state": {}
     },
     "8a089272bb004d2a906c7a890df86892": {
      "model_module": "@jupyter-widgets/controls",
      "model_module_version": "1.5.0",
      "model_name": "DescriptionStyleModel",
      "state": {
       "description_width": ""
      }
     },
     "8a3cc9c27f454de28327e0241e58f6a4": {
      "model_module": "@jupyter-widgets/controls",
      "model_module_version": "1.5.0",
      "model_name": "DescriptionStyleModel",
      "state": {
       "description_width": ""
      }
     },
     "8a3d2010c2c04e94b5cd0f36cfa7532d": {
      "model_module": "@jupyter-widgets/controls",
      "model_module_version": "1.5.0",
      "model_name": "DescriptionStyleModel",
      "state": {
       "description_width": ""
      }
     },
     "8a42e1addcd34e22900a4f2958e07946": {
      "model_module": "@jupyter-widgets/base",
      "model_module_version": "1.2.0",
      "model_name": "LayoutModel",
      "state": {}
     },
     "8a5f07601c814b889a6c90ee838467c2": {
      "model_module": "@jupyter-widgets/controls",
      "model_module_version": "1.5.0",
      "model_name": "ButtonModel",
      "state": {
       "button_style": "warning",
       "description": "revert to last save",
       "layout": "IPY_MODEL_15fbf76ea5db405bb49e72585ae5dffc",
       "style": "IPY_MODEL_baf151f0c05243d8b89633115068d44b"
      }
     },
     "8a61a1362f40491c92c89d6d18d54870": {
      "model_module": "@jupyter-widgets/base",
      "model_module_version": "1.2.0",
      "model_name": "LayoutModel",
      "state": {
       "align_items": "stretch",
       "display": "flex",
       "flex_flow": "row",
       "grid_auto_columns": "True",
       "justify_content": "flex-start",
       "width": "80%"
      }
     },
     "8a9a93be1f8246eba0c603d62ea313a2": {
      "model_module": "@jupyter-widgets/controls",
      "model_module_version": "1.5.0",
      "model_name": "TextModel",
      "state": {
       "description": "script",
       "disabled": true,
       "layout": "IPY_MODEL_42082e2b81f14e91a528447e1b06dfa1",
       "style": "IPY_MODEL_f83dd0c7ed414547b35a97d1499e4f98",
       "value": "C:\\engDev\\git_mf\\MF_Toolbox\\dev\\mf_scripts\\gbxml.py"
      }
     },
     "8a9e850756e34b37a1425182cf8334fa": {
      "model_module": "@jupyter-widgets/controls",
      "model_module_version": "1.5.0",
      "model_name": "DescriptionStyleModel",
      "state": {
       "description_width": ""
      }
     },
     "8affa32ff7504a448a253c12d585494a": {
      "model_module": "@jupyter-widgets/controls",
      "model_module_version": "1.5.0",
      "model_name": "DescriptionStyleModel",
      "state": {
       "description_width": ""
      }
     },
     "8b05b1eb0867420e8139bf415264ca6b": {
      "model_module": "@jupyter-widgets/controls",
      "model_module_version": "1.5.0",
      "model_name": "VBoxModel",
      "state": {
       "layout": "IPY_MODEL_4f67871541164860ac598632bda6f643"
      }
     },
     "8b82da59f2a94fcda132da0944584d49": {
      "model_module": "@jupyter-widgets/controls",
      "model_module_version": "1.5.0",
      "model_name": "DescriptionStyleModel",
      "state": {
       "description_width": ""
      }
     },
     "8ba8c945e77743b1b0ec846716ba55f1": {
      "model_module": "@jupyter-widgets/base",
      "model_module_version": "1.2.0",
      "model_name": "LayoutModel",
      "state": {}
     },
     "8bab6aa429724dbba0908290a0b50e6b": {
      "model_module": "@jupyter-widgets/base",
      "model_module_version": "1.2.0",
      "model_name": "LayoutModel",
      "state": {}
     },
     "8bbc5213396345d69a3475325583afc2": {
      "model_module": "@jupyter-widgets/controls",
      "model_module_version": "1.5.0",
      "model_name": "DescriptionStyleModel",
      "state": {
       "description_width": ""
      }
     },
     "8beebb4924b44678915d79cd27ba147f": {
      "model_module": "@jupyter-widgets/base",
      "model_module_version": "1.2.0",
      "model_name": "LayoutModel",
      "state": {}
     },
     "8c32e4c595004c2ea099087690ed059a": {
      "model_module": "@jupyter-widgets/controls",
      "model_module_version": "1.5.0",
      "model_name": "ButtonStyleModel",
      "state": {}
     },
     "8c51304d61f14a1f8b7c4ad2ce24b51a": {
      "model_module": "@jupyter-widgets/base",
      "model_module_version": "1.2.0",
      "model_name": "LayoutModel",
      "state": {}
     },
     "8caf3dbc05dd479f8ebda2b259fecaf0": {
      "model_module": "@jupyter-widgets/controls",
      "model_module_version": "1.5.0",
      "model_name": "HTMLModel",
      "state": {
       "layout": "IPY_MODEL_10df09f34e0c419fb342ce404535da33",
       "style": "IPY_MODEL_515bafc7764e4092821a8c5cd3591683",
       "value": "016"
      }
     },
     "8cb836fa14d14bd19292e82f8b2e4aa1": {
      "model_module": "@jupyter-widgets/controls",
      "model_module_version": "1.5.0",
      "model_name": "DescriptionStyleModel",
      "state": {
       "description_width": ""
      }
     },
     "8cb9a89fe2274c0f9ca66b6f649e8658": {
      "model_module": "@jupyter-widgets/base",
      "model_module_version": "1.2.0",
      "model_name": "LayoutModel",
      "state": {}
     },
     "8cd04ac3c213424188e3f0b22df84e07": {
      "model_module": "@jupyter-widgets/controls",
      "model_module_version": "1.5.0",
      "model_name": "ToggleButtonModel",
      "state": {
       "description": "help",
       "icon": "fa-question-circle",
       "layout": "IPY_MODEL_134593f541c44a4ab69e664df7e85d6f",
       "style": "IPY_MODEL_4788cae39fc64acca090f12a0aef2cd6",
       "tooltip": "gives guidance"
      }
     },
     "8cf4da83a6a74384b3d295d98a880993": {
      "model_module": "@jupyter-widgets/controls",
      "model_module_version": "1.5.0",
      "model_name": "HBoxModel",
      "state": {
       "children": [
        "IPY_MODEL_def317b3f7cc4e2984c87bf1158e805c",
        "IPY_MODEL_4335bf88d67e413a80994e243148672f"
       ],
       "layout": "IPY_MODEL_53049f96be0c4ee4b2f48f4088e4715e"
      }
     },
     "8d47866c45cf4071a075be3b246a7597": {
      "model_module": "@jupyter-widgets/controls",
      "model_module_version": "1.5.0",
      "model_name": "HTMLModel",
      "state": {
       "layout": "IPY_MODEL_7d290b9982ec4b98873187fad38276bb",
       "style": "IPY_MODEL_d3681eec5e8c4c17bc9469b515c84556",
       "value": "<p>its a delicious foo cake</p>"
      }
     },
     "8d9fc40d76a74f72b82503be08237c20": {
      "model_module": "@jupyter-widgets/controls",
      "model_module_version": "1.5.0",
      "model_name": "VBoxModel",
      "state": {
       "children": [
        "IPY_MODEL_ed66070a583346d78c287fafdecbab63",
        "IPY_MODEL_3b0a28b4f1f74e49b5b51c51a6d614f6"
       ],
       "layout": "IPY_MODEL_5c10bf1b957641b0aa2fa4f076589048"
      }
     },
     "8e0ef4ab742e4cc5b344944ed8e11de9": {
      "model_module": "@jupyter-widgets/controls",
      "model_module_version": "1.5.0",
      "model_name": "DescriptionStyleModel",
      "state": {
       "description_width": ""
      }
     },
     "8e1cad78934c45b5b33b0853b7e4db30": {
      "model_module": "@jupyter-widgets/base",
      "model_module_version": "1.2.0",
      "model_name": "LayoutModel",
      "state": {
       "align_items": "stretch",
       "display": "flex",
       "flex_flow": "row",
       "grid_auto_columns": "True",
       "justify_content": "flex-start",
       "width": "80%"
      }
     },
     "8e3d4b62d56e47e0bdc02b1bf0237f48": {
      "model_module": "@jupyter-widgets/controls",
      "model_module_version": "1.5.0",
      "model_name": "DescriptionStyleModel",
      "state": {
       "description_width": ""
      }
     },
     "8e3d864d2fae4f1d86fabbfa92175944": {
      "model_module": "@jupyter-widgets/controls",
      "model_module_version": "1.5.0",
      "model_name": "HBoxModel",
      "state": {
       "children": [
        "IPY_MODEL_4bc7d85d5baf46a994ba539458a2a355",
        "IPY_MODEL_f5ee7a3449384ece9c631b35eb734a01"
       ],
       "layout": "IPY_MODEL_6dec64421a2e434289451669b08f907a"
      }
     },
     "8e3e51d937814843801a4ae17540a2ee": {
      "model_module": "@jupyter-widgets/base",
      "model_module_version": "1.2.0",
      "model_name": "LayoutModel",
      "state": {}
     },
     "8e427e30f62c4ad3ab9250b71a436876": {
      "model_module": "@jupyter-widgets/base",
      "model_module_version": "1.2.0",
      "model_name": "LayoutModel",
      "state": {}
     },
     "8e5ddef033684e37ba006b9e0e2c66ca": {
      "model_module": "@jupyter-widgets/base",
      "model_module_version": "1.2.0",
      "model_name": "LayoutModel",
      "state": {}
     },
     "8e723f3dafeb4000bf6c898126d51345": {
      "model_module": "@jupyter-widgets/base",
      "model_module_version": "1.2.0",
      "model_name": "LayoutModel",
      "state": {}
     },
     "8f1d61a195a94d6db5175a1e4c8edc10": {
      "model_module": "@jupyter-widgets/base",
      "model_module_version": "1.2.0",
      "model_name": "LayoutModel",
      "state": {}
     },
     "8f249b204d804197ae57c0b208242643": {
      "model_module": "@jupyter-widgets/controls",
      "model_module_version": "1.5.0",
      "model_name": "HBoxModel",
      "state": {
       "children": [
        "IPY_MODEL_33f78235ea174e74ab96b54c92fdb1f2"
       ],
       "layout": "IPY_MODEL_6cd32c32ce75414c921f29386437065e"
      }
     },
     "8f477423f73640f2a022d4ed554f3b01": {
      "model_module": "@jupyter-widgets/base",
      "model_module_version": "1.2.0",
      "model_name": "LayoutModel",
      "state": {}
     },
     "8f6802296cba4c77bac2555fb54616ba": {
      "model_module": "@jupyter-widgets/controls",
      "model_module_version": "1.5.0",
      "model_name": "HTMLModel",
      "state": {
       "layout": "IPY_MODEL_ae3edc372487432db55f6522112c47f5",
       "style": "IPY_MODEL_c1a1e8a5e2354bdbaeeec27c18f9a3dd",
       "value": "<p>Example use of the DatePicker Widget</p>"
      }
     },
     "8f9e95afb86d45f5bc13b981ae93b000": {
      "model_module": "@jupyter-widgets/controls",
      "model_module_version": "1.5.0",
      "model_name": "HTMLModel",
      "state": {
       "layout": "IPY_MODEL_73316059f2394655b7f28375d82291ba",
       "style": "IPY_MODEL_c0f436c4030b4896acd95b4b07ca8779",
       "value": "<p>its a foo cake</p>"
      }
     },
     "8fcd76c5b89e414c97c46c99b5686a12": {
      "model_module": "@jupyter-widgets/controls",
      "model_module_version": "1.5.0",
      "model_name": "ToggleButtonModel",
      "state": {
       "description": "help",
       "icon": "fa-question-circle",
       "layout": "IPY_MODEL_fabc8995e2ab4be48a3a18c2426fe7dd",
       "style": "IPY_MODEL_8e0ef4ab742e4cc5b344944ed8e11de9",
       "tooltip": "gives guidance"
      }
     },
     "9008d122b1ed4a86a7558922bf2e6648": {
      "model_module": "@jupyter-widgets/base",
      "model_module_version": "1.2.0",
      "model_name": "LayoutModel",
      "state": {
       "align_items": "stretch",
       "border": "dashed 0.2px green",
       "display": "flex",
       "flex_flow": "row",
       "grid_auto_columns": "True",
       "justify_content": "flex-start",
       "width": "100%"
      }
     },
     "9027107308df461c982831d3382cbb78": {
      "model_module": "@jupyter-widgets/base",
      "model_module_version": "1.2.0",
      "model_name": "LayoutModel",
      "state": {}
     },
     "902c35c831e2465bb370c44ba7afc325": {
      "model_module": "@jupyter-widgets/controls",
      "model_module_version": "1.5.0",
      "model_name": "VBoxModel",
      "state": {
       "children": [
        "IPY_MODEL_1a6f3263f5734f2e90224a5d072529b4",
        "IPY_MODEL_e9009aa5df4343b58c7b30db2e030e37",
        "IPY_MODEL_53bedfcce130496dbdc8fca8b766bbee",
        "IPY_MODEL_3baeec691f12440591870ece8031b4ff",
        "IPY_MODEL_bd155e5e08ff415b93973ee1ca293bf0",
        "IPY_MODEL_34646aac6bfe4ea38ae5ad9034404e8e"
       ],
       "layout": "IPY_MODEL_2d2d3d4b6a8d446dbf9effb1d3a4ab01"
      }
     },
     "908228476da94002aca8c9f0e40d590b": {
      "model_module": "@jupyter-widgets/controls",
      "model_module_version": "1.5.0",
      "model_name": "HTMLModel",
      "state": {
       "layout": "IPY_MODEL_2c79ae282cc042bab991318c2adec518",
       "style": "IPY_MODEL_e816a10afe0b49f88468fac3e4453223",
       "value": "<p>reus foo ous oo ous foo st</p>"
      }
     },
     "909c9370e7734473b025e1093e9ddb11": {
      "model_module": "@jupyter-widgets/controls",
      "model_module_version": "1.5.0",
      "model_name": "HTMLModel",
      "state": {
       "layout": "IPY_MODEL_2b472a771f3b4e75b868d7d76379bb1d",
       "style": "IPY_MODEL_3302d204df7a406e810391f2ae15a881",
       "value": "<p>Example use of the DerivedText Widget</p>"
      }
     },
     "90f990d70c1f4ad5a13d7ab1f1f6f76e": {
      "model_module": "@jupyter-widgets/controls",
      "model_module_version": "1.5.0",
      "model_name": "HTMLModel",
      "state": {
       "layout": "IPY_MODEL_9d87788c2be748528ddd1d428fc43627",
       "style": "IPY_MODEL_007f7614e22e4b8d981ed3514688cb32",
       "value": "<p>input docx filepath</p>"
      }
     },
     "911d307d095c459a9b35402c7705d940": {
      "model_module": "@jupyter-widgets/base",
      "model_module_version": "1.2.0",
      "model_name": "LayoutModel",
      "state": {
       "align_items": "stretch",
       "border": "dashed 0.2px green",
       "display": "flex",
       "flex_flow": "row",
       "grid_auto_columns": "True",
       "justify_content": "flex-start",
       "width": "100%"
      }
     },
     "91a607172abb4feba3fc9a78c1588cc3": {
      "model_module": "@jupyter-widgets/controls",
      "model_module_version": "1.5.0",
      "model_name": "DescriptionStyleModel",
      "state": {
       "description_width": ""
      }
     },
     "91b6f3292a6a4ec0ad6df2f17fac3e9d": {
      "model_module": "@jupyter-widgets/controls",
      "model_module_version": "1.5.0",
      "model_name": "ButtonStyleModel",
      "state": {
       "font_weight": "bold"
      }
     },
     "91bcedcca63946069d99fb7c43162967": {
      "model_module": "@jupyter-widgets/controls",
      "model_module_version": "1.5.0",
      "model_name": "HBoxModel",
      "state": {
       "children": [
        "IPY_MODEL_757f92b29b1c4cdf96b29faaa6a9f2a7",
        "IPY_MODEL_a596836cc4d94ad4ab9deceeb1354bb1"
       ],
       "layout": "IPY_MODEL_09ba5f5caaf44e4c95d9810ebb30011d"
      }
     },
     "91c4e8d72f2a44e7be50189f1311ddb3": {
      "model_module": "@jupyter-widgets/controls",
      "model_module_version": "1.5.0",
      "model_name": "HBoxModel",
      "state": {
       "children": [
        "IPY_MODEL_4a1a69857036444fa26d136773780164",
        "IPY_MODEL_29eceb5ec90844d8afdc712cf035ed0c"
       ],
       "layout": "IPY_MODEL_de202a9044c44c3eb209b68aaa9df917"
      }
     },
     "9229e92e2d804945853023b2adf8f4d0": {
      "model_module": "@jupyter-widgets/controls",
      "model_module_version": "1.5.0",
      "model_name": "ButtonStyleModel",
      "state": {
       "font_weight": "bold"
      }
     },
     "923bcd057ece44438d2f98987c593d14": {
      "model_module": "@jupyter-widgets/controls",
      "model_module_version": "1.5.0",
      "model_name": "DescriptionStyleModel",
      "state": {
       "description_width": ""
      }
     },
     "927cb46af9ac4514873279ce25a666e1": {
      "model_module": "@jupyter-widgets/base",
      "model_module_version": "1.2.0",
      "model_name": "LayoutModel",
      "state": {
       "align_items": "stretch",
       "display": "flex",
       "flex_flow": "row",
       "grid_auto_columns": "True",
       "justify_content": "flex-end",
       "width": "90%"
      }
     },
     "929be329c04b48328c24def51dae6836": {
      "model_module": "@jupyter-widgets/controls",
      "model_module_version": "1.5.0",
      "model_name": "DescriptionStyleModel",
      "state": {
       "description_width": ""
      }
     },
     "92bf58d2c18c49d79b1efa8f367a53f2": {
      "model_module": "@jupyter-widgets/controls",
      "model_module_version": "1.5.0",
      "model_name": "HTMLModel",
      "state": {
       "layout": "IPY_MODEL_e9ec2e93c8974a1b99eaf44e14ca36e8",
       "style": "IPY_MODEL_d7ab111af47547699cfc60e9222c5d34",
       "value": "<p>Number, using to prefix the file name</p>"
      }
     },
     "92da6a76ba9d4564bfe56c3972c27cde": {
      "model_module": "@jupyter-widgets/base",
      "model_module_version": "1.2.0",
      "model_name": "LayoutModel",
      "state": {}
     },
     "92f1cba0147548c2b6ac2d013328e46b": {
      "model_module": "@jupyter-widgets/output",
      "model_module_version": "1.0.0",
      "model_name": "OutputModel",
      "state": {
       "layout": "IPY_MODEL_4299df1529ce4c579fc81fba86787691"
      }
     },
     "931eb29466714938ae2cd9c8a4d8cd6d": {
      "model_module": "@jupyter-widgets/base",
      "model_module_version": "1.2.0",
      "model_name": "LayoutModel",
      "state": {}
     },
     "935aeafb8a0a41579aa9ebf7cb8051a7": {
      "model_module": "@jupyter-widgets/controls",
      "model_module_version": "1.5.0",
      "model_name": "ToggleButtonModel",
      "state": {
       "icon": "arrow-down",
       "layout": "IPY_MODEL_a71166233c964d609112416d63312ae9",
       "style": "IPY_MODEL_d61fb1718c344abba120d32795e46fb5"
      }
     },
     "93b0ece46d354f2f9c613d9bef56eb82": {
      "model_module": "@jupyter-widgets/controls",
      "model_module_version": "1.5.0",
      "model_name": "HTMLModel",
      "state": {
       "layout": "IPY_MODEL_a4d4c0b154fa49758971aeccac27d236",
       "style": "IPY_MODEL_988e1f7b2efc44b18ce3d4075c0c8041",
       "value": "<p>its a foo cake</p>"
      }
     },
     "93d2a1533328460ea1fbecf640795dbe": {
      "model_module": "@jupyter-widgets/controls",
      "model_module_version": "1.5.0",
      "model_name": "BoxModel",
      "state": {
       "children": [
        "IPY_MODEL_c870c0b92d6c4bfcb92387322ef02a3a"
       ],
       "layout": "IPY_MODEL_3074c92644e04390a6b3e5b6c5536705"
      }
     },
     "93d7f42730614eac81de456abaf5f840": {
      "model_module": "@jupyter-widgets/base",
      "model_module_version": "1.2.0",
      "model_name": "LayoutModel",
      "state": {}
     },
     "9460244a05b74555905c5a19dc88ad5d": {
      "model_module": "@jupyter-widgets/base",
      "model_module_version": "1.2.0",
      "model_name": "LayoutModel",
      "state": {
       "align_items": "stretch",
       "border": "dashed 0.2px green",
       "display": "flex",
       "flex_flow": "row",
       "grid_auto_columns": "True",
       "justify_content": "flex-start",
       "width": "100%"
      }
     },
     "94bf740370c74ab2b69d048f2027c113": {
      "model_module": "@jupyter-widgets/base",
      "model_module_version": "1.2.0",
      "model_name": "LayoutModel",
      "state": {}
     },
     "94cf970e52c544e19e8699b5d4cdb954": {
      "model_module": "@jupyter-widgets/base",
      "model_module_version": "1.2.0",
      "model_name": "LayoutModel",
      "state": {}
     },
     "94ded6d1c7e04c1c9d2127fb2eed80d9": {
      "model_module": "@jupyter-widgets/base",
      "model_module_version": "1.2.0",
      "model_name": "LayoutModel",
      "state": {
       "align_items": "stretch",
       "display": "flex",
       "flex_flow": "row",
       "grid_auto_columns": "True",
       "justify_content": "flex-end",
       "width": "90%"
      }
     },
     "94ec8294bda349d4ba17814e562d4718": {
      "model_module": "@jupyter-widgets/base",
      "model_module_version": "1.2.0",
      "model_name": "LayoutModel",
      "state": {
       "align_items": "stretch",
       "display": "flex",
       "flex_flow": "row",
       "grid_auto_columns": "True",
       "justify_content": "flex-end",
       "width": "90%"
      }
     },
     "950daa2c956c4afa86d3642476ace944": {
      "model_module": "@jupyter-widgets/base",
      "model_module_version": "1.2.0",
      "model_name": "LayoutModel",
      "state": {
       "width": "5%"
      }
     },
     "954dedac3ea8442bb62109dc2053689b": {
      "model_module": "@jupyter-widgets/output",
      "model_module_version": "1.0.0",
      "model_name": "OutputModel",
      "state": {
       "layout": "IPY_MODEL_7be5b15345134cccae92307c2ae38d33",
       "outputs": [
        {
         "data": {
          "application/vnd.jupyter.widget-view+json": {
           "model_id": "f3f9eb860d8e4cecb24daf5e45a73d2c",
           "version_major": 2,
           "version_minor": 0
          },
          "text/plain": "Output()"
         },
         "metadata": {},
         "output_type": "display_data"
        }
       ]
      }
     },
     "95c5310cfc6243c0a6c9cd6cfa463136": {
      "model_module": "@jupyter-widgets/controls",
      "model_module_version": "1.5.0",
      "model_name": "VBoxModel",
      "state": {
       "children": [
        "IPY_MODEL_5a9e236ba74e4116bfb6061a519a3d75",
        "IPY_MODEL_34aab1e58c4949148d721e59c226b877",
        "IPY_MODEL_a762d4d9bfab423fa59b987030dcb483",
        "IPY_MODEL_44de871af59046a4b18221ed209f8f9b",
        "IPY_MODEL_57475cd4ad1e4b908b37b08bc512ede1",
        "IPY_MODEL_29801009411e436aa58efa2ffbfbd219",
        "IPY_MODEL_4878be42652242c894f35b489ae3f310",
        "IPY_MODEL_2f793a77c6074eccb4fee3d7b28641e6"
       ],
       "layout": "IPY_MODEL_7143bd599e35449f8a51952f55dc97ac"
      }
     },
     "95d5c234f8b64618bb9beb706f32ac2f": {
      "model_module": "@jupyter-widgets/base",
      "model_module_version": "1.2.0",
      "model_name": "LayoutModel",
      "state": {
       "align_items": "stretch",
       "border": "dashed 0.2px green",
       "display": "flex",
       "flex_flow": "row",
       "grid_auto_columns": "True",
       "justify_content": "flex-start",
       "width": "100%"
      }
     },
     "95eef279681c43cb96202e06f5d40be4": {
      "model_module": "@jupyter-widgets/controls",
      "model_module_version": "1.5.0",
      "model_name": "TextModel",
      "state": {
       "layout": "IPY_MODEL_3fd46956773a493287d21aa066417787",
       "style": "IPY_MODEL_e4f9f0e30b9d46959cd91d5020392234",
       "value": "YY-OverheatingAnalysis"
      }
     },
     "95fc4623bcd843678c77e187893b1003": {
      "model_module": "@jupyter-widgets/controls",
      "model_module_version": "1.5.0",
      "model_name": "HBoxModel",
      "state": {
       "children": [
        "IPY_MODEL_b5b11eb5455b429d8ee2308be8e8a5cd",
        "IPY_MODEL_14eed62cd5884b2d90d5c44b8dfdbb5f"
       ],
       "layout": "IPY_MODEL_2e4a4788865a43c7850f85d13842d5f7"
      }
     },
     "964f0b63c7b84173aaa26c4796f9eb50": {
      "model_module": "@jupyter-widgets/controls",
      "model_module_version": "1.5.0",
      "model_name": "DescriptionStyleModel",
      "state": {
       "description_width": ""
      }
     },
     "9668bcb41a4c462bbf7f4d85d383e2e5": {
      "model_module": "@jupyter-widgets/controls",
      "model_module_version": "1.5.0",
      "model_name": "DescriptionStyleModel",
      "state": {
       "description_width": ""
      }
     },
     "969a40640add4a67a321b38b014d65d6": {
      "model_module": "@jupyter-widgets/base",
      "model_module_version": "1.2.0",
      "model_name": "LayoutModel",
      "state": {}
     },
     "97873448f2fe48f68617ba80f396970a": {
      "model_module": "@jupyter-widgets/base",
      "model_module_version": "1.2.0",
      "model_name": "LayoutModel",
      "state": {
       "align_items": "stretch",
       "display": "flex",
       "flex_flow": "row",
       "grid_auto_columns": "True",
       "justify_content": "flex-start",
       "width": "80%"
      }
     },
     "97ad1ab7497a47d8b93fd567450092d2": {
      "model_module": "@jupyter-widgets/base",
      "model_module_version": "1.2.0",
      "model_name": "LayoutModel",
      "state": {}
     },
     "97c832bd9270425ea925f2db1538a421": {
      "model_module": "@jupyter-widgets/controls",
      "model_module_version": "1.5.0",
      "model_name": "HTMLModel",
      "state": {
       "layout": "IPY_MODEL_c3d7ffe59cd144fa88dfe90264b55227",
       "style": "IPY_MODEL_d379dc411032400ea3306154fea83b23",
       "value": "<p>name</p>"
      }
     },
     "97cd39cc4a4e4c55bdb8e6be0bc0db44": {
      "model_module": "@jupyter-widgets/base",
      "model_module_version": "1.2.0",
      "model_name": "LayoutModel",
      "state": {}
     },
     "97eea370635e46669538b5a6fc4930a4": {
      "model_module": "@jupyter-widgets/controls",
      "model_module_version": "1.5.0",
      "model_name": "HBoxModel",
      "state": {
       "children": [
        "IPY_MODEL_9a44c58b515843fe97b6ef7f1090ddb7",
        "IPY_MODEL_00325c66d24d41f0a0c4aa2f87e11256"
       ],
       "layout": "IPY_MODEL_682fd4d88c5a4675a6e72b8fef2acc3c"
      }
     },
     "9830beca662b4464b80ad5ee2d4a1f87": {
      "model_module": "@jupyter-widgets/base",
      "model_module_version": "1.2.0",
      "model_name": "LayoutModel",
      "state": {
       "align_items": "stretch",
       "display": "flex",
       "flex_flow": "row",
       "grid_auto_columns": "True",
       "justify_content": "flex-end",
       "width": "90%"
      }
     },
     "986061033e1047b88041ca6b780468a9": {
      "model_module": "@jupyter-widgets/base",
      "model_module_version": "1.2.0",
      "model_name": "LayoutModel",
      "state": {}
     },
     "988e1f7b2efc44b18ce3d4075c0c8041": {
      "model_module": "@jupyter-widgets/controls",
      "model_module_version": "1.5.0",
      "model_name": "DescriptionStyleModel",
      "state": {
       "description_width": ""
      }
     },
     "98f0716a03bd407695ad13baa1120015": {
      "model_module": "@jupyter-widgets/controls",
      "model_module_version": "1.5.0",
      "model_name": "DescriptionStyleModel",
      "state": {
       "description_width": ""
      }
     },
     "9918ec56fe324e5c9632bfe5483d7946": {
      "model_module": "@jupyter-widgets/base",
      "model_module_version": "1.2.0",
      "model_name": "LayoutModel",
      "state": {}
     },
     "997efe4b6f204938a00b954638d323fd": {
      "model_module": "@jupyter-widgets/output",
      "model_module_version": "1.0.0",
      "model_name": "OutputModel",
      "state": {
       "layout": "IPY_MODEL_bb5e13ccafd749b5a8dbfef82dda4813"
      }
     },
     "999b4978caa74ef0a498f121db2b5bff": {
      "model_module": "@jupyter-widgets/base",
      "model_module_version": "1.2.0",
      "model_name": "LayoutModel",
      "state": {}
     },
     "99be01f90fa345749b2c28c773186e54": {
      "model_module": "@jupyter-widgets/base",
      "model_module_version": "1.2.0",
      "model_name": "LayoutModel",
      "state": {
       "align_items": "stretch",
       "display": "flex",
       "flex_flow": "row",
       "grid_auto_columns": "True",
       "justify_content": "flex-end",
       "width": "90%"
      }
     },
     "99d7f9fdcd34457b9476a6adb28047ff": {
      "model_module": "@jupyter-widgets/base",
      "model_module_version": "1.2.0",
      "model_name": "LayoutModel",
      "state": {}
     },
     "99fca91f5eda4c358db7113aa3ab58de": {
      "model_module": "@jupyter-widgets/base",
      "model_module_version": "1.2.0",
      "model_name": "LayoutModel",
      "state": {
       "align_items": "stretch",
       "display": "flex",
       "flex_flow": "row",
       "grid_auto_columns": "True",
       "justify_content": "flex-end",
       "width": "90%"
      }
     },
     "9a1d379a4ab84c06b805ebb9e21077e5": {
      "model_module": "@jupyter-widgets/base",
      "model_module_version": "1.2.0",
      "model_name": "LayoutModel",
      "state": {}
     },
     "9a22d51836be4c158c235431b97dc564": {
      "model_module": "@jupyter-widgets/base",
      "model_module_version": "1.2.0",
      "model_name": "LayoutModel",
      "state": {}
     },
     "9a3aff6b595c437f8c39ddc761e12d86": {
      "model_module": "@jupyter-widgets/base",
      "model_module_version": "1.2.0",
      "model_name": "LayoutModel",
      "state": {}
     },
     "9a44c58b515843fe97b6ef7f1090ddb7": {
      "model_module": "@jupyter-widgets/controls",
      "model_module_version": "1.5.0",
      "model_name": "HTMLModel",
      "state": {
       "layout": "IPY_MODEL_5217230e583d45eb82728102e6ae6129",
       "style": "IPY_MODEL_21739764550f412fb2962e6c984f3e1d",
       "value": "<p>name</p>"
      }
     },
     "9a540c7a595f4c6aaac181cffc46d40f": {
      "model_module": "@jupyter-widgets/controls",
      "model_module_version": "1.5.0",
      "model_name": "HTMLModel",
      "state": {
       "layout": "IPY_MODEL_c821d52af7b34684bb4e324e80d6df1e",
       "style": "IPY_MODEL_287e823a282a46438928d9c1dbbed18f",
       "value": "<p>reus foo ous oo ous foo st</p>"
      }
     },
     "9a54d86149694b0087fc53d562889674": {
      "model_module": "@jupyter-widgets/base",
      "model_module_version": "1.2.0",
      "model_name": "LayoutModel",
      "state": {}
     },
     "9ae923996eca45ce9c85429001ce7909": {
      "model_module": "@jupyter-widgets/base",
      "model_module_version": "1.2.0",
      "model_name": "LayoutModel",
      "state": {}
     },
     "9afac665700e4405b0efcbfd82689caa": {
      "model_module": "@jupyter-widgets/controls",
      "model_module_version": "1.5.0",
      "model_name": "DescriptionStyleModel",
      "state": {
       "description_width": ""
      }
     },
     "9b3523cc11b94a11bdc0dea13eb4d4aa": {
      "model_module": "@jupyter-widgets/controls",
      "model_module_version": "1.5.0",
      "model_name": "SelectMultipleModel",
      "state": {
       "_options_labels": [
        "asfd",
        "10",
        "asdf"
       ],
       "index": [
        1
       ],
       "layout": "IPY_MODEL_a04f97cc18944b08b3e5b159a0b05c37",
       "rows": 5,
       "style": "IPY_MODEL_638e158c62b4453592f91ba36fda0309"
      }
     },
     "9b39b0ec999940209366f7090fa49833": {
      "model_module": "@jupyter-widgets/controls",
      "model_module_version": "1.5.0",
      "model_name": "TextareaModel",
      "state": {
       "layout": "IPY_MODEL_a0ff076b14494a0dbaa38e442cb9f305",
       "style": "IPY_MODEL_2fc2435aa4ac4fb1b1c66133b524a59d",
       "value": "asdfasdf"
      }
     },
     "9b57e3bacef2422691acfb6f8a09a1a7": {
      "model_module": "@jupyter-widgets/controls",
      "model_module_version": "1.5.0",
      "model_name": "ButtonModel",
      "state": {
       "button_style": "warning",
       "description": "revert to last save",
       "layout": "IPY_MODEL_468d49983a974aad94dfd0b3a29fbb72",
       "style": "IPY_MODEL_b5a0c26e6db2464f830fabb15cf46edc"
      }
     },
     "9b62ab78026e41eca2128c594e9219f9": {
      "model_module": "@jupyter-widgets/base",
      "model_module_version": "1.2.0",
      "model_name": "LayoutModel",
      "state": {
       "align_items": "stretch",
       "display": "flex",
       "flex_flow": "row",
       "grid_auto_columns": "True",
       "justify_content": "flex-end",
       "width": "90%"
      }
     },
     "9b7d78b0e9ba46fdaf0aeae526a58ff9": {
      "model_module": "@jupyter-widgets/controls",
      "model_module_version": "1.5.0",
      "model_name": "HBoxModel",
      "state": {
       "children": [
        "IPY_MODEL_477ff1ce4d164b5e8f6db1cc0f7ff2a3",
        "IPY_MODEL_76bd7d56d8cc42e6987732480b52e848"
       ],
       "layout": "IPY_MODEL_3029a02e54ff4d3fb0d22265678f12ca"
      }
     },
     "9bc8ebb0f39944e7927669e603698d1f": {
      "model_module": "@jupyter-widgets/controls",
      "model_module_version": "1.5.0",
      "model_name": "HBoxModel",
      "state": {
       "children": [
        "IPY_MODEL_71e0b807dcc241799f1bb36cc5515bc6",
        "IPY_MODEL_9bdd942006024a4eb3355b95bf150323"
       ],
       "layout": "IPY_MODEL_3b51deb1590a4d8cbfcfbe12681e1925"
      }
     },
     "9bdd942006024a4eb3355b95bf150323": {
      "model_module": "@jupyter-widgets/controls",
      "model_module_version": "1.5.0",
      "model_name": "HTMLModel",
      "state": {
       "layout": "IPY_MODEL_c03435a181614dda888f87617ba1be65",
       "style": "IPY_MODEL_9ebc4029d9e94e46ae6509e09357244f",
       "value": "<p>Tag for the Model, used within file naming</p>"
      }
     },
     "9bfc1d57f73449cc9f8a61480cc5abe0": {
      "model_module": "@jupyter-widgets/base",
      "model_module_version": "1.2.0",
      "model_name": "LayoutModel",
      "state": {}
     },
     "9c015ed6def34854ac76524ab2bf5bf4": {
      "model_module": "@jupyter-widgets/controls",
      "model_module_version": "1.5.0",
      "model_name": "VBoxModel",
      "state": {
       "children": [
        "IPY_MODEL_43fe051b280740db800aa29270f52358",
        "IPY_MODEL_7847f178f5cb4b3b9ebeac3c9536723f"
       ],
       "layout": "IPY_MODEL_3ec015ad908f452ebeb238cacb0a27e4"
      }
     },
     "9c0efd4fede443a28835ffcec633c18e": {
      "model_module": "@jupyter-widgets/base",
      "model_module_version": "1.2.0",
      "model_name": "LayoutModel",
      "state": {
       "align_items": "stretch",
       "border": "dashed 0.2px green",
       "display": "flex",
       "flex_flow": "row",
       "grid_auto_columns": "True",
       "justify_content": "flex-start",
       "width": "100%"
      }
     },
     "9cc7fba3138c440fb31a7774da526f2c": {
      "model_module": "@jupyter-widgets/base",
      "model_module_version": "1.2.0",
      "model_name": "LayoutModel",
      "state": {
       "align_items": "stretch",
       "border": "dashed 0.2px green",
       "display": "flex",
       "flex_flow": "row",
       "grid_auto_columns": "True",
       "justify_content": "flex-start",
       "width": "100%"
      }
     },
     "9d0899794fa5434abd6f087630f737e5": {
      "model_module": "@jupyter-widgets/controls",
      "model_module_version": "1.5.0",
      "model_name": "DescriptionStyleModel",
      "state": {
       "description_width": ""
      }
     },
     "9d14798ccab447feb8792f373aa7d409": {
      "model_module": "@jupyter-widgets/base",
      "model_module_version": "1.2.0",
      "model_name": "LayoutModel",
      "state": {
       "align_items": "stretch",
       "border": "dashed 0.2px green",
       "display": "flex",
       "flex_flow": "row",
       "grid_auto_columns": "True",
       "justify_content": "flex-start",
       "width": "100%"
      }
     },
     "9d25198f8f17415f9dba6720642fa855": {
      "model_module": "@jupyter-widgets/base",
      "model_module_version": "1.2.0",
      "model_name": "LayoutModel",
      "state": {}
     },
     "9d5ad37e25144351b3f9602cb1ca3254": {
      "model_module": "@jupyter-widgets/base",
      "model_module_version": "1.2.0",
      "model_name": "LayoutModel",
      "state": {}
     },
     "9d6fbc42c82340dcb308d4dcef1016a9": {
      "model_module": "@jupyter-widgets/controls",
      "model_module_version": "1.5.0",
      "model_name": "HTMLModel",
      "state": {
       "layout": "IPY_MODEL_019332aaadf44cafb3adce985fc7b33b",
       "style": "IPY_MODEL_64648707385447849b7b4851e1a4c326",
       "value": "<p>Derived Text</p>"
      }
     },
     "9d87788c2be748528ddd1d428fc43627": {
      "model_module": "@jupyter-widgets/base",
      "model_module_version": "1.2.0",
      "model_name": "LayoutModel",
      "state": {}
     },
     "9e233a5a52224c0ba9c89e26add1bfcf": {
      "model_module": "@jupyter-widgets/base",
      "model_module_version": "1.2.0",
      "model_name": "LayoutModel",
      "state": {
       "align_items": "stretch",
       "display": "flex",
       "flex_flow": "row",
       "grid_auto_columns": "True",
       "justify_content": "flex-end",
       "width": "90%"
      }
     },
     "9e6fd1703331408ba6bf6af177ec7358": {
      "model_module": "@jupyter-widgets/controls",
      "model_module_version": "1.5.0",
      "model_name": "FloatSliderModel",
      "state": {
       "layout": "IPY_MODEL_b492666620fe455d81ba820c258dfa67",
       "max": 10,
       "style": "IPY_MODEL_84c22f4cb8c14e0d9638e9959582ea39",
       "value": 1
      }
     },
     "9ebc4029d9e94e46ae6509e09357244f": {
      "model_module": "@jupyter-widgets/controls",
      "model_module_version": "1.5.0",
      "model_name": "DescriptionStyleModel",
      "state": {
       "description_width": ""
      }
     },
     "9edcc0922a0949c8a4fe6286cb4e76dc": {
      "model_module": "@jupyter-widgets/controls",
      "model_module_version": "1.5.0",
      "model_name": "HTMLModel",
      "state": {
       "layout": "IPY_MODEL_c83c4148b722477d9351068b46713b4b",
       "style": "IPY_MODEL_770f7832310e4096a09f62d2d046ad19",
       "value": "<p>its a foo cake</p>"
      }
     },
     "9f2ac08a4406467c86bf75d4238d70f3": {
      "model_module": "@jupyter-widgets/controls",
      "model_module_version": "1.5.0",
      "model_name": "FloatSliderModel",
      "state": {
       "layout": "IPY_MODEL_1909726259564d7fa6d3bc4cc09f23e8",
       "max": 10,
       "style": "IPY_MODEL_dd607566bf204363bc9a03c0ae649608",
       "value": 1
      }
     },
     "9f387b5e530544079f254023dd23c692": {
      "model_module": "@jupyter-widgets/base",
      "model_module_version": "1.2.0",
      "model_name": "LayoutModel",
      "state": {}
     },
     "9f4852e363bc421e990d3d3e4f08342f": {
      "model_module": "@jupyter-widgets/controls",
      "model_module_version": "1.5.0",
      "model_name": "HBoxModel",
      "state": {
       "children": [
        "IPY_MODEL_7630a68c7da849be99a0b2047b01482e",
        "IPY_MODEL_256e4cac2c3546acbf41f7fd7ecb6b4e"
       ],
       "layout": "IPY_MODEL_e34a7b5ccfd44356bc9c3b23fa8b4118"
      }
     },
     "a00a0a3287254b0f8f04bdfc70e48019": {
      "model_module": "@jupyter-widgets/base",
      "model_module_version": "1.2.0",
      "model_name": "LayoutModel",
      "state": {}
     },
     "a04f97cc18944b08b3e5b159a0b05c37": {
      "model_module": "@jupyter-widgets/base",
      "model_module_version": "1.2.0",
      "model_name": "LayoutModel",
      "state": {}
     },
     "a0b5e2df485f40e9b93922368fd4357b": {
      "model_module": "@jupyter-widgets/controls",
      "model_module_version": "1.5.0",
      "model_name": "DescriptionStyleModel",
      "state": {
       "description_width": ""
      }
     },
     "a0ff076b14494a0dbaa38e442cb9f305": {
      "model_module": "@jupyter-widgets/base",
      "model_module_version": "1.2.0",
      "model_name": "LayoutModel",
      "state": {}
     },
     "a10f76b929e34b6a94a263553c23a6b6": {
      "model_module": "@jupyter-widgets/base",
      "model_module_version": "1.2.0",
      "model_name": "LayoutModel",
      "state": {
       "align_items": "stretch",
       "display": "flex",
       "flex_flow": "row",
       "grid_auto_columns": "True",
       "justify_content": "flex-start",
       "width": "80%"
      }
     },
     "a116dbdd62144e1bb8daff9b481ca805": {
      "model_module": "@jupyter-widgets/controls",
      "model_module_version": "1.5.0",
      "model_name": "VBoxModel",
      "state": {
       "children": [
        "IPY_MODEL_2b111e68b37b4dadb7d6957a09f83327",
        "IPY_MODEL_2fd341e4e0824a6ea895cd697d76125b",
        "IPY_MODEL_168c73d1e15444c2aaa27f2692520047",
        "IPY_MODEL_ba795e24162c49438f47bb58551462bb",
        "IPY_MODEL_8f249b204d804197ae57c0b208242643",
        "IPY_MODEL_85432d97501d4618826b7867d8cb1a6c"
       ],
       "layout": "IPY_MODEL_bcba2f06d9d1433eb18ffdda483a2428"
      }
     },
     "a13104739ad14fd6811e74592986e190": {
      "model_module": "@jupyter-widgets/controls",
      "model_module_version": "1.5.0",
      "model_name": "HBoxModel",
      "state": {
       "children": [
        "IPY_MODEL_9b3523cc11b94a11bdc0dea13eb4d4aa",
        "IPY_MODEL_4a1387fbb27841a6b2633a814ee1229f"
       ],
       "layout": "IPY_MODEL_a6ed11e0b72a429da002b4fb9f4a362e"
      }
     },
     "a160ba39c1ed48a3820b9e2ab47faee8": {
      "model_module": "@jupyter-widgets/output",
      "model_module_version": "1.0.0",
      "model_name": "OutputModel",
      "state": {
       "layout": "IPY_MODEL_8f477423f73640f2a022d4ed554f3b01"
      }
     },
     "a1c530b19ed348fa8dac8db8ee454e47": {
      "model_module": "@jupyter-widgets/controls",
      "model_module_version": "1.5.0",
      "model_name": "ButtonStyleModel",
      "state": {
       "font_weight": "bold"
      }
     },
     "a1d5c2a4776042f4ad8028c00ff99f2b": {
      "model_module": "@jupyter-widgets/base",
      "model_module_version": "1.2.0",
      "model_name": "LayoutModel",
      "state": {}
     },
     "a1e802e45c1c446f88f774ab3b6e1005": {
      "model_module": "@jupyter-widgets/controls",
      "model_module_version": "1.5.0",
      "model_name": "DescriptionStyleModel",
      "state": {
       "description_width": ""
      }
     },
     "a1f59e90c7534b4b86c87ec045d9e5d5": {
      "model_module": "@jupyter-widgets/controls",
      "model_module_version": "1.5.0",
      "model_name": "ButtonModel",
      "state": {
       "button_style": "success",
       "description": "open file",
       "layout": "IPY_MODEL_33224c1a4aac4308a2120492eec34d9c",
       "style": "IPY_MODEL_3545d3004f0c4db68299782f4f57c13a"
      }
     },
     "a23d082f56dc4eb9a93f9ad2863d9cb8": {
      "model_module": "@jupyter-widgets/controls",
      "model_module_version": "1.5.0",
      "model_name": "HTMLModel",
      "state": {
       "layout": "IPY_MODEL_d811e8212a2d44e2bdc53f80884325a5",
       "style": "IPY_MODEL_1026cd63d48641518a2f12d040b8b672",
       "value": "<p>name</p>"
      }
     },
     "a24ed9d445e94d24b4dfbf09ecd8f1ff": {
      "model_module": "@jupyter-widgets/base",
      "model_module_version": "1.2.0",
      "model_name": "LayoutModel",
      "state": {}
     },
     "a25ed9578d2540a28cc49a215b0138b4": {
      "model_module": "@jupyter-widgets/base",
      "model_module_version": "1.2.0",
      "model_name": "LayoutModel",
      "state": {
       "align_items": "stretch",
       "display": "flex",
       "flex_flow": "row",
       "grid_auto_columns": "True",
       "justify_content": "flex-end",
       "width": "90%"
      }
     },
     "a2917cfae4cb479e8c314b2f72ff5a77": {
      "model_module": "@jupyter-widgets/base",
      "model_module_version": "1.2.0",
      "model_name": "LayoutModel",
      "state": {}
     },
     "a2c84fb4e8c84565a0f0c99d022723cf": {
      "model_module": "@jupyter-widgets/base",
      "model_module_version": "1.2.0",
      "model_name": "LayoutModel",
      "state": {
       "height": "30px",
       "width": "auto"
      }
     },
     "a2dc4783670041fe9cc5f155409716ef": {
      "model_module": "@jupyter-widgets/controls",
      "model_module_version": "1.5.0",
      "model_name": "HTMLModel",
      "state": {
       "layout": "IPY_MODEL_5d4c3ffcf90141f0b9561e3d29c6cb91",
       "style": "IPY_MODEL_1e271885fcd84553b80b5cf8a8f324f0",
       "value": "<p>label</p>"
      }
     },
     "a2fa8ed4e31b40328ef56c465e25143c": {
      "model_module": "@jupyter-widgets/output",
      "model_module_version": "1.0.0",
      "model_name": "OutputModel",
      "state": {
       "layout": "IPY_MODEL_71d526535d8e4c4a86c0f12fad2de9d9"
      }
     },
     "a30395ebdda64d6296988e7c9aaad682": {
      "model_module": "@jupyter-widgets/controls",
      "model_module_version": "1.5.0",
      "model_name": "HTMLModel",
      "state": {
       "layout": "IPY_MODEL_e98b2ab13a2748c2b07f574501ae2417",
       "style": "IPY_MODEL_32c535f61c70480cb09fe3a787c9f093",
       "value": "<p>spc_name_index</p>"
      }
     },
     "a38195c0b11c4c1b8420c98808e206a5": {
      "model_module": "@jupyter-widgets/controls",
      "model_module_version": "1.5.0",
      "model_name": "HTMLModel",
      "state": {
       "layout": "IPY_MODEL_a00a0a3287254b0f8f04bdfc70e48019",
       "style": "IPY_MODEL_1174f48385ca4345bda2877184d8c166",
       "value": "<p>its a delicious foo cake</p>"
      }
     },
     "a38ceee2349542bbbd3faf8afa709827": {
      "model_module": "@jupyter-widgets/controls",
      "model_module_version": "1.5.0",
      "model_name": "HBoxModel",
      "state": {
       "children": [
        "IPY_MODEL_6e923eeb43e849a8b5beb4838d49f4c6"
       ],
       "layout": "IPY_MODEL_0d6a06be373349f790d7f60b2ef228bb"
      }
     },
     "a3bf071c6ac34b9d95a010b61441dab1": {
      "model_module": "@jupyter-widgets/base",
      "model_module_version": "1.2.0",
      "model_name": "LayoutModel",
      "state": {}
     },
     "a3dedc5716f14bbb9232942b701f8d32": {
      "model_module": "@jupyter-widgets/controls",
      "model_module_version": "1.5.0",
      "model_name": "ToggleButtonModel",
      "state": {
       "description": "help",
       "icon": "fa-question-circle",
       "layout": "IPY_MODEL_22e6797137ed4e8395c56483bba6acd7",
       "style": "IPY_MODEL_7562051d1f9b44fda6e76abe5fc4a111",
       "tooltip": "gives guidance"
      }
     },
     "a3e0303ebc414704938b5f845a967673": {
      "model_module": "@jupyter-widgets/controls",
      "model_module_version": "1.5.0",
      "model_name": "DescriptionStyleModel",
      "state": {
       "description_width": ""
      }
     },
     "a3eb5580f8e4407bac39e5fc6e06723c": {
      "model_module": "@jupyter-widgets/controls",
      "model_module_version": "1.5.0",
      "model_name": "TextModel",
      "state": {
       "layout": "IPY_MODEL_1d15e0bb51dc43b1b97687701fa9ec29",
       "style": "IPY_MODEL_f86a2fc3a4d142079c81976997fa54eb",
       "value": "2"
      }
     },
     "a415fb6cce394b7eb27dfb3c13a9b940": {
      "model_module": "@jupyter-widgets/base",
      "model_module_version": "1.2.0",
      "model_name": "LayoutModel",
      "state": {
       "align_items": "stretch",
       "border": "dashed 0.2px green",
       "display": "flex",
       "flex_flow": "row",
       "grid_auto_columns": "True",
       "justify_content": "flex-start",
       "width": "100%"
      }
     },
     "a43cc341c74e4f139b14d230b425408b": {
      "model_module": "@jupyter-widgets/controls",
      "model_module_version": "1.5.0",
      "model_name": "DescriptionStyleModel",
      "state": {
       "description_width": ""
      }
     },
     "a43d326961de4fed9f7496b151fb237e": {
      "model_module": "@jupyter-widgets/controls",
      "model_module_version": "1.5.0",
      "model_name": "VBoxModel",
      "state": {
       "children": [
        "IPY_MODEL_473a89dd3c8b4df2941d6e81f9fab754",
        "IPY_MODEL_858424419c4e4fff982e1ddaa2f14c52",
        "IPY_MODEL_8b05b1eb0867420e8139bf415264ca6b"
       ],
       "layout": "IPY_MODEL_bdc8c49de92a4916b98aaef0e717e75c"
      }
     },
     "a483894050954af0ae6dea3a11fd492f": {
      "model_module": "@jupyter-widgets/controls",
      "model_module_version": "1.5.0",
      "model_name": "HBoxModel",
      "state": {
       "children": [
        "IPY_MODEL_4ec834eb260a4091a6046754b03ec16c",
        "IPY_MODEL_0e4ce78b21874c86827329f976008f38"
       ],
       "layout": "IPY_MODEL_4a66c2f7f7ac49428f50f16bd8b84e1d"
      }
     },
     "a4851bac54544279ac6d851ec991a36f": {
      "model_module": "@jupyter-widgets/controls",
      "model_module_version": "1.5.0",
      "model_name": "FloatSliderModel",
      "state": {
       "layout": "IPY_MODEL_3bb731a2562644829783f946b9ee5a18",
       "max": 10,
       "style": "IPY_MODEL_2c6baeb20f20412b88ba5ea7d8c84079",
       "value": 1
      }
     },
     "a4a05cbda4c345b8bfb92b253a4578e4": {
      "model_module": "@jupyter-widgets/controls",
      "model_module_version": "1.5.0",
      "model_name": "HTMLModel",
      "state": {
       "layout": "IPY_MODEL_2f89b76093ad445f817aac31fc0aa960",
       "style": "IPY_MODEL_593d1b60396b45cd8eaa9cd52041dda6",
       "value": "<p>Date Picker</p>"
      }
     },
     "a4d16a61744d466bb34cb9f548a32939": {
      "model_module": "@jupyter-widgets/base",
      "model_module_version": "1.2.0",
      "model_name": "LayoutModel",
      "state": {}
     },
     "a4d4c0b154fa49758971aeccac27d236": {
      "model_module": "@jupyter-widgets/base",
      "model_module_version": "1.2.0",
      "model_name": "LayoutModel",
      "state": {}
     },
     "a52d32577d144918baf2886610961455": {
      "model_module": "@jupyter-widgets/controls",
      "model_module_version": "1.5.0",
      "model_name": "HBoxModel",
      "state": {
       "children": [
        "IPY_MODEL_f0e1185dc80b45eb86aa54023b407b75",
        "IPY_MODEL_c1defc47dd9b4ea5b78678fb951fe452"
       ],
       "layout": "IPY_MODEL_c6f28b7ea6564108ad913d8f958abee5"
      }
     },
     "a53f00f732f04f63b6b24f2ba7f7cf67": {
      "model_module": "@jupyter-widgets/controls",
      "model_module_version": "1.5.0",
      "model_name": "ButtonStyleModel",
      "state": {
       "font_weight": "bold"
      }
     },
     "a549c2ee152642f2ad374d920b73e8af": {
      "model_module": "@jupyter-widgets/controls",
      "model_module_version": "1.5.0",
      "model_name": "DescriptionStyleModel",
      "state": {
       "description_width": ""
      }
     },
     "a55eaf633b4d4e359cf194d0b5d8bca3": {
      "model_module": "@jupyter-widgets/controls",
      "model_module_version": "1.5.0",
      "model_name": "HTMLModel",
      "state": {
       "layout": "IPY_MODEL_999b4978caa74ef0a498f121db2b5bff",
       "style": "IPY_MODEL_579a0d6540074ea0a74962d3bff21e42",
       "value": "<p>foo</p>"
      }
     },
     "a56db6bb4d064177935e036af9fd3c8d": {
      "model_module": "@jupyter-widgets/controls",
      "model_module_version": "1.5.0",
      "model_name": "HBoxModel",
      "state": {
       "children": [
        "IPY_MODEL_89b712c0d2864ebc9f6a3ced15156db5",
        "IPY_MODEL_3df2cf1548de46788fe63cf797c7b331"
       ],
       "layout": "IPY_MODEL_3ac8ad5da3584b4881050b52b842e799"
      }
     },
     "a57560ae4c8e4a57aa674db08a4a2d8e": {
      "model_module": "@jupyter-widgets/output",
      "model_module_version": "1.0.0",
      "model_name": "OutputModel",
      "state": {
       "layout": "IPY_MODEL_7d530048b56c4a659a940e5a4a396d5d"
      }
     },
     "a596836cc4d94ad4ab9deceeb1354bb1": {
      "model_module": "@jupyter-widgets/controls",
      "model_module_version": "1.5.0",
      "model_name": "HTMLModel",
      "state": {
       "layout": "IPY_MODEL_c5df6ae0858d488490477fce52fa0e39",
       "style": "IPY_MODEL_d92ab03fd3b94499a4a3464ec30acfb3",
       "value": "<p>its a delicious foo cake</p>"
      }
     },
     "a596d95da0f64cdbb05214ffcb176b42": {
      "model_module": "@jupyter-widgets/controls",
      "model_module_version": "1.5.0",
      "model_name": "VBoxModel",
      "state": {
       "children": [
        "IPY_MODEL_3d4a2525f30d4b40b64420de058f8f3c",
        "IPY_MODEL_8830869f2e7544b3b49d4fdedabfa5ab",
        "IPY_MODEL_ea16120d7b8d4b15871e1ff588bf9f2c",
        "IPY_MODEL_5e805e9aba814d73ab962aa6ad19e9f4",
        "IPY_MODEL_c0aac93300664548b6a607d62ef55218",
        "IPY_MODEL_62cc6b14a68346dfbf1fcdbfc57b75e7"
       ],
       "layout": "IPY_MODEL_c7881bb8712943c0be7ddec62d4ae778"
      }
     },
     "a59b1baf385148c1a653c3f5f9946e93": {
      "model_module": "@jupyter-widgets/output",
      "model_module_version": "1.0.0",
      "model_name": "OutputModel",
      "state": {
       "layout": "IPY_MODEL_5d7d67284da84f2aa41e79a7d5ba965a",
       "outputs": [
        {
         "data": {
          "application/vnd.jupyter.widget-view+json": {
           "model_id": "",
           "version_major": 2,
           "version_minor": 0
          },
          "text/plain": "Output()"
         },
         "metadata": {},
         "output_type": "display_data"
        }
       ]
      }
     },
     "a5cf30b8532a4d0eb18de294ed200981": {
      "model_module": "@jupyter-widgets/base",
      "model_module_version": "1.2.0",
      "model_name": "LayoutModel",
      "state": {}
     },
     "a5ea343c48e94d7ab7890c4c67404857": {
      "model_module": "@jupyter-widgets/base",
      "model_module_version": "1.2.0",
      "model_name": "LayoutModel",
      "state": {
       "align_items": "stretch",
       "display": "flex",
       "flex_flow": "row",
       "grid_auto_columns": "True",
       "justify_content": "flex-end",
       "width": "90%"
      }
     },
     "a5eae3cc099c410d8f6ab326d9b722fb": {
      "model_module": "@jupyter-widgets/base",
      "model_module_version": "1.2.0",
      "model_name": "LayoutModel",
      "state": {
       "align_items": "stretch",
       "display": "flex",
       "flex_flow": "row",
       "grid_auto_columns": "True",
       "justify_content": "flex-start",
       "width": "80%"
      }
     },
     "a5fcdd09c6e74d72859ee2dd58f7cda6": {
      "model_module": "@jupyter-widgets/base",
      "model_module_version": "1.2.0",
      "model_name": "LayoutModel",
      "state": {
       "align_items": "stretch",
       "border": "dashed 0.2px green",
       "display": "flex",
       "flex_flow": "row",
       "grid_auto_columns": "True",
       "justify_content": "flex-start",
       "width": "100%"
      }
     },
     "a63bc648485c409f92be87aa80145b0c": {
      "model_module": "@jupyter-widgets/base",
      "model_module_version": "1.2.0",
      "model_name": "LayoutModel",
      "state": {}
     },
     "a64e9a0283cb4c65b908dd68359dbb5a": {
      "model_module": "@jupyter-widgets/controls",
      "model_module_version": "1.5.0",
      "model_name": "RadioButtonsModel",
      "state": {
       "_options_labels": [
        "TEMPLATE: C:\\engDev\\git_mf\\MF_Toolbox\\dev\\mf_scripts\\template_inputs\\inputs-gbxml.json",
        "PROJECT: C:\\engDev\\git_mf\\ipyrun\\ipyrun\\appdata\\inputs\\inputs-gbxml.json"
       ],
       "index": 0,
       "layout": "IPY_MODEL_df4140e3e3b7468fb88faa36d90b24c1",
       "style": "IPY_MODEL_416caf44ae3443d4bcffe6efedcde16d"
      }
     },
     "a6ed11e0b72a429da002b4fb9f4a362e": {
      "model_module": "@jupyter-widgets/base",
      "model_module_version": "1.2.0",
      "model_name": "LayoutModel",
      "state": {
       "align_items": "stretch",
       "display": "flex",
       "flex_flow": "row",
       "grid_auto_columns": "True",
       "justify_content": "flex-start",
       "width": "80%"
      }
     },
     "a70e123ac0244816a56ebc6ad7da83fa": {
      "model_module": "@jupyter-widgets/output",
      "model_module_version": "1.0.0",
      "model_name": "OutputModel",
      "state": {
       "layout": "IPY_MODEL_afa4b37f8e5f4da398d9fff5c5e96ba3"
      }
     },
     "a71166233c964d609112416d63312ae9": {
      "model_module": "@jupyter-widgets/base",
      "model_module_version": "1.2.0",
      "model_name": "LayoutModel",
      "state": {}
     },
     "a73ba7f4dc8743db93bb1c25bcd1eec1": {
      "model_module": "@jupyter-widgets/controls",
      "model_module_version": "1.5.0",
      "model_name": "HTMLModel",
      "state": {
       "layout": "IPY_MODEL_a9292ebd0637439c9f16003b31c0d16b",
       "style": "IPY_MODEL_5f2535a2cfa74fe6b6583300e1d4b00e",
       "value": "<p>Report Model Run?</p>"
      }
     },
     "a74eaf4ded094cc286a32e19d205577b": {
      "model_module": "@jupyter-widgets/base",
      "model_module_version": "1.2.0",
      "model_name": "LayoutModel",
      "state": {}
     },
     "a750f6a05bfe4c75b8c018332ed0cd83": {
      "model_module": "@jupyter-widgets/output",
      "model_module_version": "1.0.0",
      "model_name": "OutputModel",
      "state": {
       "layout": "IPY_MODEL_3fc527e42091477d83345e6dad59a213"
      }
     },
     "a762d4d9bfab423fa59b987030dcb483": {
      "model_module": "@jupyter-widgets/controls",
      "model_module_version": "1.5.0",
      "model_name": "HBoxModel",
      "state": {
       "children": [
        "IPY_MODEL_491b594c6bb64ccf9754642c8a14334e"
       ],
       "layout": "IPY_MODEL_3edaa01630d54266908708b2cf88d067"
      }
     },
     "a7b7e52ee12f4e45800b464a0968d3ab": {
      "model_module": "@jupyter-widgets/controls",
      "model_module_version": "1.5.0",
      "model_name": "HBoxModel",
      "state": {
       "children": [
        "IPY_MODEL_935aeafb8a0a41579aa9ebf7cb8051a7",
        "IPY_MODEL_e767917ec6244a448a095d78f9aac169"
       ],
       "layout": "IPY_MODEL_123258c304804f249a2e612a6ee2a4b1"
      }
     },
     "a7b82a3b179a4a4fbb7c8516d3e7ce4f": {
      "model_module": "@jupyter-widgets/controls",
      "model_module_version": "1.5.0",
      "model_name": "DescriptionStyleModel",
      "state": {
       "description_width": ""
      }
     },
     "a7cc951b0f5944689b9c78005718a092": {
      "model_module": "@jupyter-widgets/controls",
      "model_module_version": "1.5.0",
      "model_name": "VBoxModel",
      "state": {
       "children": [
        "IPY_MODEL_61b2274ddbe9418fb6eab547f8eaadd3",
        "IPY_MODEL_a38ceee2349542bbbd3faf8afa709827",
        "IPY_MODEL_dcb6861a335946239bfdf416cb9417d7",
        "IPY_MODEL_890ac42f2bab4a178f047e68801deb53",
        "IPY_MODEL_1fa966fe7c7d44bfb9bb97bbf7ebd591",
        "IPY_MODEL_bb0c5689781c447aa9c6f833af787884",
        "IPY_MODEL_35d5bae3503f46e09c8af513d79eb3b4",
        "IPY_MODEL_e5685833453c434fa4a5d57f9b8a3921"
       ],
       "layout": "IPY_MODEL_f3aaf43484014c40bbcb5ebd09160b74"
      }
     },
     "a7e7ff352e144baa8b44e25cd893a04b": {
      "model_module": "@jupyter-widgets/base",
      "model_module_version": "1.2.0",
      "model_name": "LayoutModel",
      "state": {}
     },
     "a84320944ee04917b5238ba76f7ded81": {
      "model_module": "@jupyter-widgets/base",
      "model_module_version": "1.2.0",
      "model_name": "LayoutModel",
      "state": {}
     },
     "a887891f3f694f2192005f221bb264c6": {
      "model_module": "@jupyter-widgets/base",
      "model_module_version": "1.2.0",
      "model_name": "LayoutModel",
      "state": {
       "align_items": "stretch",
       "display": "flex",
       "flex_flow": "row",
       "grid_auto_columns": "True",
       "justify_content": "flex-start",
       "width": "80%"
      }
     },
     "a889ce35bf994e23813eda9619ebce06": {
      "model_module": "@jupyter-widgets/controls",
      "model_module_version": "1.5.0",
      "model_name": "HBoxModel",
      "state": {
       "children": [
        "IPY_MODEL_7235e30ac9504516a623454cd264b0c3"
       ],
       "layout": "IPY_MODEL_bca0e964cbab40c49675da7a55a6e079"
      }
     },
     "a8ad6e127e6644518fc8ce153b69f097": {
      "model_module": "@jupyter-widgets/controls",
      "model_module_version": "1.5.0",
      "model_name": "HBoxModel",
      "state": {
       "children": [
        "IPY_MODEL_66dea4e09bc94f8ca43b0044bd890ca5"
       ],
       "layout": "IPY_MODEL_ca7aec08ca2b4ce29aa044451261658e"
      }
     },
     "a8b0b77575364205945ced64579ccf47": {
      "model_module": "@jupyter-widgets/controls",
      "model_module_version": "1.5.0",
      "model_name": "DescriptionStyleModel",
      "state": {
       "description_width": ""
      }
     },
     "a8d6b16a4fd6477090684737c52c0962": {
      "model_module": "@jupyter-widgets/controls",
      "model_module_version": "1.5.0",
      "model_name": "DescriptionStyleModel",
      "state": {
       "description_width": ""
      }
     },
     "a8f12582f30645ddb54776a16da11973": {
      "model_module": "@jupyter-widgets/base",
      "model_module_version": "1.2.0",
      "model_name": "LayoutModel",
      "state": {}
     },
     "a90a2803297b4e8e94853901b556e40c": {
      "model_module": "@jupyter-widgets/controls",
      "model_module_version": "1.5.0",
      "model_name": "ToggleButtonModel",
      "state": {
       "icon": "arrow-down",
       "layout": "IPY_MODEL_d71460f6a6174ffaa37b85318035d46c",
       "style": "IPY_MODEL_01e10cb0f548454cace04597bcb74107"
      }
     },
     "a91618d6e4cf40a3b805cc4383317f6e": {
      "model_module": "@jupyter-widgets/controls",
      "model_module_version": "1.5.0",
      "model_name": "SliderStyleModel",
      "state": {
       "description_width": ""
      }
     },
     "a9292ebd0637439c9f16003b31c0d16b": {
      "model_module": "@jupyter-widgets/base",
      "model_module_version": "1.2.0",
      "model_name": "LayoutModel",
      "state": {}
     },
     "a96356eb4a224788b721e22f9f6fb591": {
      "model_module": "@jupyter-widgets/base",
      "model_module_version": "1.2.0",
      "model_name": "LayoutModel",
      "state": {
       "align_items": "stretch",
       "border": "dashed 0.2px green",
       "display": "flex",
       "flex_flow": "row",
       "grid_auto_columns": "True",
       "justify_content": "flex-start",
       "width": "100%"
      }
     },
     "aa095e2aa0bb44d09562edaa14a0b688": {
      "model_module": "@jupyter-widgets/controls",
      "model_module_version": "1.5.0",
      "model_name": "DescriptionStyleModel",
      "state": {
       "description_width": ""
      }
     },
     "aa2d90f475a24fe29ce9fb9896b80129": {
      "model_module": "@jupyter-widgets/controls",
      "model_module_version": "1.5.0",
      "model_name": "HBoxModel",
      "state": {
       "children": [
        "IPY_MODEL_156c49c73bd34514bc87422957b00f18"
       ],
       "layout": "IPY_MODEL_3e95fd77c90c4ff796ebdc7980f92c64"
      }
     },
     "aa2e22d431734cb4a96cb4104b6c49d1": {
      "model_module": "@jupyter-widgets/base",
      "model_module_version": "1.2.0",
      "model_name": "LayoutModel",
      "state": {
       "align_items": "stretch",
       "border": "dashed 0.2px green",
       "display": "flex",
       "flex_flow": "row",
       "grid_auto_columns": "True",
       "justify_content": "flex-start",
       "width": "100%"
      }
     },
     "aa386d9077454715a757b633320a61c6": {
      "model_module": "@jupyter-widgets/output",
      "model_module_version": "1.0.0",
      "model_name": "OutputModel",
      "state": {
       "layout": "IPY_MODEL_207021a096974e2b97b4b3da52c05ae2"
      }
     },
     "aa7f5c9620fa438c97dc431a826fdb8c": {
      "model_module": "@jupyter-widgets/controls",
      "model_module_version": "1.5.0",
      "model_name": "HTMLModel",
      "state": {
       "layout": "IPY_MODEL_9918ec56fe324e5c9632bfe5483d7946",
       "style": "IPY_MODEL_244b2aecd7794d97a206edc7955c0374",
       "value": "<p>fus foo ous o</p>"
      }
     },
     "aa8cd89d16064d609ffb231326aa1e09": {
      "model_module": "@jupyter-widgets/output",
      "model_module_version": "1.0.0",
      "model_name": "OutputModel",
      "state": {
       "layout": "IPY_MODEL_6ea69bd6887f44f5aa9e680cb983f933"
      }
     },
     "aa9d44fb2a7f4ff0854112396d2ac59c": {
      "model_module": "@jupyter-widgets/controls",
      "model_module_version": "1.5.0",
      "model_name": "ButtonModel",
      "state": {
       "description": "load",
       "icon": "upload",
       "layout": "IPY_MODEL_dc40c8ee20194a58a5fd50f79efd612f",
       "style": "IPY_MODEL_f6641762a2bc4377a22f09d642ea30f6"
      }
     },
     "ab0d9c5116f44648ad0d3a4318ef937d": {
      "model_module": "@jupyter-widgets/base",
      "model_module_version": "1.2.0",
      "model_name": "LayoutModel",
      "state": {}
     },
     "ab107134f92342afb7f73f54c67795f3": {
      "model_module": "@jupyter-widgets/base",
      "model_module_version": "1.2.0",
      "model_name": "LayoutModel",
      "state": {}
     },
     "ab76dad6c601437999598c1c32c44a4a": {
      "model_module": "@jupyter-widgets/base",
      "model_module_version": "1.2.0",
      "model_name": "LayoutModel",
      "state": {}
     },
     "ab7e25e35cac46b79ee26c97191f5049": {
      "model_module": "@jupyter-widgets/controls",
      "model_module_version": "1.5.0",
      "model_name": "DatePickerModel",
      "state": {
       "disabled": false,
       "layout": "IPY_MODEL_c002dc1dabfa4751be0468b54841156f",
       "style": "IPY_MODEL_9668bcb41a4c462bbf7f4d85d383e2e5",
       "value": {
        "date": 29,
        "month": 5,
        "year": 2020
       }
      }
     },
     "ab8ce0612f3d404b85c3a3c99f845703": {
      "model_module": "@jupyter-widgets/controls",
      "model_module_version": "1.5.0",
      "model_name": "ToggleButtonModel",
      "state": {
       "icon": "arrow-down",
       "layout": "IPY_MODEL_741bbbc2ab83444881341b1bcb3e9cda",
       "style": "IPY_MODEL_037f10d2f290472bb721904b7b305f1d"
      }
     },
     "ab97f0cefb0b4937abe55f89879a123a": {
      "model_module": "@jupyter-widgets/base",
      "model_module_version": "1.2.0",
      "model_name": "LayoutModel",
      "state": {}
     },
     "abceae7e89b745889f518d4836a359b5": {
      "model_module": "@jupyter-widgets/controls",
      "model_module_version": "1.5.0",
      "model_name": "HBoxModel",
      "state": {
       "children": [
        "IPY_MODEL_6fae897dd69a4872a126a77657d33c80",
        "IPY_MODEL_909c9370e7734473b025e1093e9ddb11"
       ],
       "layout": "IPY_MODEL_07c941d9eddf4dcabf7e0a01383bd952"
      }
     },
     "abcf90459f834c879cfec4bb4c70380f": {
      "model_module": "@jupyter-widgets/controls",
      "model_module_version": "1.5.0",
      "model_name": "VBoxModel",
      "state": {
       "layout": "IPY_MODEL_837ec758322c480d93abf1e3add83ada"
      }
     },
     "ac31ef68d0df4bc4ae71cb26f4e8975c": {
      "model_module": "@jupyter-widgets/base",
      "model_module_version": "1.2.0",
      "model_name": "LayoutModel",
      "state": {
       "align_items": "stretch",
       "border": "dashed 0.2px green",
       "display": "flex",
       "flex_flow": "row",
       "grid_auto_columns": "True",
       "justify_content": "flex-start",
       "width": "100%"
      }
     },
     "ac365ad4c024425891ccf00221517956": {
      "model_module": "@jupyter-widgets/base",
      "model_module_version": "1.2.0",
      "model_name": "LayoutModel",
      "state": {
       "align_items": "stretch",
       "display": "flex",
       "flex_flow": "row",
       "grid_auto_columns": "True",
       "justify_content": "flex-start",
       "width": "80%"
      }
     },
     "ac54634fc1b34db993346a85081a0720": {
      "model_module": "@jupyter-widgets/controls",
      "model_module_version": "1.5.0",
      "model_name": "DescriptionStyleModel",
      "state": {
       "description_width": ""
      }
     },
     "acbee10908484345ad2d7b23558c28fc": {
      "model_module": "@jupyter-widgets/output",
      "model_module_version": "1.0.0",
      "model_name": "OutputModel",
      "state": {
       "layout": "IPY_MODEL_8953a5332dae4d43b0a6291cbe6d4984"
      }
     },
     "acd07915e5c54c85951a3163b27a69a1": {
      "model_module": "@jupyter-widgets/base",
      "model_module_version": "1.2.0",
      "model_name": "LayoutModel",
      "state": {}
     },
     "acf80cdee04a4ac890d8fc1640d87ef2": {
      "model_module": "@jupyter-widgets/controls",
      "model_module_version": "1.5.0",
      "model_name": "HBoxModel",
      "state": {
       "children": [
        "IPY_MODEL_baaaec9689514c7a85ca5b63188b614c",
        "IPY_MODEL_5342aa57b7e4495386626637ff627f6d"
       ],
       "layout": "IPY_MODEL_68f639dc4c6e49ac83e57100f0831bff"
      }
     },
     "ad1d186f73634123a174019c56c70318": {
      "model_module": "@jupyter-widgets/base",
      "model_module_version": "1.2.0",
      "model_name": "LayoutModel",
      "state": {
       "align_items": "stretch",
       "border": "dashed 0.2px green",
       "display": "flex",
       "flex_flow": "row",
       "grid_auto_columns": "True",
       "justify_content": "flex-start",
       "width": "100%"
      }
     },
     "ad7625c93c694f72a8958fdbf7c46032": {
      "model_module": "@jupyter-widgets/base",
      "model_module_version": "1.2.0",
      "model_name": "LayoutModel",
      "state": {}
     },
     "ad9478802d7c420b9e7ac76bf4ed4696": {
      "model_module": "@jupyter-widgets/controls",
      "model_module_version": "1.5.0",
      "model_name": "DescriptionStyleModel",
      "state": {
       "description_width": ""
      }
     },
     "add19a508676403db6037cf02db99480": {
      "model_module": "@jupyter-widgets/output",
      "model_module_version": "1.0.0",
      "model_name": "OutputModel",
      "state": {
       "layout": "IPY_MODEL_874795900ba644adaea9cf08385edfcd"
      }
     },
     "ae388e490ea24197b5b2382be4720f22": {
      "model_module": "@jupyter-widgets/controls",
      "model_module_version": "1.5.0",
      "model_name": "DescriptionStyleModel",
      "state": {
       "description_width": ""
      }
     },
     "ae3edc372487432db55f6522112c47f5": {
      "model_module": "@jupyter-widgets/base",
      "model_module_version": "1.2.0",
      "model_name": "LayoutModel",
      "state": {}
     },
     "ae50e49e856944c7a4d9af5d4ada8aae": {
      "model_module": "@jupyter-widgets/controls",
      "model_module_version": "1.5.0",
      "model_name": "HBoxModel",
      "state": {
       "children": [
        "IPY_MODEL_d68cf73ea0f649f9a20e183286af2c56",
        "IPY_MODEL_b1a368555f0d416b83306a8fea893109"
       ],
       "layout": "IPY_MODEL_183340d0a7204edcb4630d10cab68db9"
      }
     },
     "ae7a3107d2a74fe39a9a4795763f7791": {
      "model_module": "@jupyter-widgets/base",
      "model_module_version": "1.2.0",
      "model_name": "LayoutModel",
      "state": {}
     },
     "aee9f9ab9ac54a97a91acb1f37404cc3": {
      "model_module": "@jupyter-widgets/controls",
      "model_module_version": "1.5.0",
      "model_name": "DescriptionStyleModel",
      "state": {
       "description_width": ""
      }
     },
     "aeed26a2adc64c95a18735dbc406c904": {
      "model_module": "@jupyter-widgets/output",
      "model_module_version": "1.0.0",
      "model_name": "OutputModel",
      "state": {
       "layout": "IPY_MODEL_296a4cf1eb804fa5b3864bfef511e894"
      }
     },
     "af113e61de59407b9fb9655581a0166f": {
      "model_module": "@jupyter-widgets/controls",
      "model_module_version": "1.5.0",
      "model_name": "HTMLModel",
      "state": {
       "layout": "IPY_MODEL_ab97f0cefb0b4937abe55f89879a123a",
       "style": "IPY_MODEL_25d9e20f06664e5392ce6fa271cbd524",
       "value": "<p>edit user input form below</p>"
      }
     },
     "af38a2d3efca4034b76c8531118d2494": {
      "model_module": "@jupyter-widgets/base",
      "model_module_version": "1.2.0",
      "model_name": "LayoutModel",
      "state": {}
     },
     "af592c82f60d45638867c91dde0ee97d": {
      "model_module": "@jupyter-widgets/controls",
      "model_module_version": "1.5.0",
      "model_name": "DropdownModel",
      "state": {
       "_options_labels": [
        "asfd",
        "10",
        "asdf"
       ],
       "index": 1,
       "layout": "IPY_MODEL_c1b98f857b4144cf931268bcf6c40002",
       "style": "IPY_MODEL_369e046776384c22af6362405b9c9c52"
      }
     },
     "af7d53180a944a58a9ff13c0ad7d4a64": {
      "model_module": "@jupyter-widgets/base",
      "model_module_version": "1.2.0",
      "model_name": "LayoutModel",
      "state": {}
     },
     "af85096c29bd4f8181ac902e01493edf": {
      "model_module": "@jupyter-widgets/base",
      "model_module_version": "1.2.0",
      "model_name": "LayoutModel",
      "state": {}
     },
     "afa4b37f8e5f4da398d9fff5c5e96ba3": {
      "model_module": "@jupyter-widgets/base",
      "model_module_version": "1.2.0",
      "model_name": "LayoutModel",
      "state": {}
     },
     "afdaa9d3d6b2459c888a4e24b6a50525": {
      "model_module": "@jupyter-widgets/base",
      "model_module_version": "1.2.0",
      "model_name": "LayoutModel",
      "state": {
       "align_items": "stretch",
       "border": "dashed 0.2px green",
       "display": "flex",
       "flex_flow": "row",
       "grid_auto_columns": "True",
       "justify_content": "flex-start",
       "width": "100%"
      }
     },
     "b004504fbb8449cd8f1cf2740df21d5b": {
      "model_module": "@jupyter-widgets/base",
      "model_module_version": "1.2.0",
      "model_name": "LayoutModel",
      "state": {
       "align_items": "stretch",
       "display": "flex",
       "flex_flow": "row",
       "grid_auto_columns": "True",
       "justify_content": "flex-start",
       "width": "80%"
      }
     },
     "b00ba8b166a2436292564a3b2d60bc1f": {
      "model_module": "@jupyter-widgets/controls",
      "model_module_version": "1.5.0",
      "model_name": "HBoxModel",
      "state": {
       "children": [
        "IPY_MODEL_2d97733463664a3b919b9c02f2a4dcf1"
       ],
       "layout": "IPY_MODEL_b40edc60a0e54ee99eb6ac166d26a86a"
      }
     },
     "b06a773108e44999b5e0a0c0143acd38": {
      "model_module": "@jupyter-widgets/controls",
      "model_module_version": "1.5.0",
      "model_name": "ButtonModel",
      "state": {
       "button_style": "success",
       "description": "save",
       "layout": "IPY_MODEL_87432580654e4e0fb2e6c4b9ec4587f0",
       "style": "IPY_MODEL_853164be928049438ead64af5c3e9546"
      }
     },
     "b06d5d2d1e4e4d15b47f035b0506559a": {
      "model_module": "@jupyter-widgets/controls",
      "model_module_version": "1.5.0",
      "model_name": "DescriptionStyleModel",
      "state": {
       "description_width": ""
      }
     },
     "b09e182610c24992983dbe25ad9d25ea": {
      "model_module": "@jupyter-widgets/controls",
      "model_module_version": "1.5.0",
      "model_name": "HTMLModel",
      "state": {
       "layout": "IPY_MODEL_b92a76a4d1c545e4bc35f922ef5ecf7a",
       "style": "IPY_MODEL_7c47e043dc664bc297c60c25d7fda0ec",
       "value": "<p>Example use of the DatePicker Widget</p>"
      }
     },
     "b0bd802f56b1469e97b24e6c035b261d": {
      "model_module": "@jupyter-widgets/base",
      "model_module_version": "1.2.0",
      "model_name": "LayoutModel",
      "state": {
       "align_items": "stretch",
       "display": "flex",
       "flex_flow": "row",
       "grid_auto_columns": "True",
       "justify_content": "flex-end",
       "width": "90%"
      }
     },
     "b0c628b6311a4b049c782da2cbe57103": {
      "model_module": "@jupyter-widgets/output",
      "model_module_version": "1.0.0",
      "model_name": "OutputModel",
      "state": {
       "layout": "IPY_MODEL_b302f61e2d9e4e99b1d66f42ea50e095"
      }
     },
     "b0fc1f373e7544c2a57acf902a8d1c2f": {
      "model_module": "@jupyter-widgets/controls",
      "model_module_version": "1.5.0",
      "model_name": "VBoxModel",
      "state": {
       "children": [
        "IPY_MODEL_bbae172ec63549699939eb6ae1454d53",
        "IPY_MODEL_f3f2103fa3df4d44bf4322bace81514b",
        "IPY_MODEL_6e74eb0f40174884a211adca39b94c67",
        "IPY_MODEL_cd33f81a39ac46e78c66491c5006a801",
        "IPY_MODEL_678942322f4d484c8ca6b89e8129cbf8",
        "IPY_MODEL_6998a83e9ceb4a44bef88270611968f2",
        "IPY_MODEL_49d47aefaa714af697e84dd9f21b6d9c",
        "IPY_MODEL_2e6763187194467ab441f65ad21dc7e7"
       ],
       "layout": "IPY_MODEL_fe14f39d07474db78da1414c1fd1df88"
      }
     },
     "b109e6a71b8048cdbad08aeb2dee539f": {
      "model_module": "@jupyter-widgets/controls",
      "model_module_version": "1.5.0",
      "model_name": "FloatSliderModel",
      "state": {
       "layout": "IPY_MODEL_7c9dfa8a511045e596f29c035280a14d",
       "max": 10,
       "style": "IPY_MODEL_a91618d6e4cf40a3b805cc4383317f6e",
       "value": 1
      }
     },
     "b1148a7eacdf436bb6aa158b668c348b": {
      "model_module": "@jupyter-widgets/base",
      "model_module_version": "1.2.0",
      "model_name": "LayoutModel",
      "state": {}
     },
     "b183c5af819943898071833405e1061b": {
      "model_module": "@jupyter-widgets/base",
      "model_module_version": "1.2.0",
      "model_name": "LayoutModel",
      "state": {}
     },
     "b184413541764b149779b14cda746415": {
      "model_module": "@jupyter-widgets/controls",
      "model_module_version": "1.5.0",
      "model_name": "HBoxModel",
      "state": {
       "children": [
        "IPY_MODEL_a4a05cbda4c345b8bfb92b253a4578e4",
        "IPY_MODEL_44d26126ef37459f8cac1c6660dadd9b"
       ],
       "layout": "IPY_MODEL_757186292d0946e5b7fc11eb2df6cd6b"
      }
     },
     "b18d1934c4b34d39b2df4904265bc2e0": {
      "model_module": "@jupyter-widgets/base",
      "model_module_version": "1.2.0",
      "model_name": "LayoutModel",
      "state": {
       "height": "30px",
       "max_width": "30px",
       "padding": "3px"
      }
     },
     "b1a368555f0d416b83306a8fea893109": {
      "model_module": "@jupyter-widgets/controls",
      "model_module_version": "1.5.0",
      "model_name": "HTMLModel",
      "state": {
       "layout": "IPY_MODEL_b3dc7cb2f61d43fe8b2afe86ca1dafbb",
       "style": "IPY_MODEL_e5405d6780514db4ab3265f6e093e85d",
       "value": "<p>input docx filepath</p>"
      }
     },
     "b1e38eed0398447fa25cef6254fb50bb": {
      "model_module": "@jupyter-widgets/controls",
      "model_module_version": "1.5.0",
      "model_name": "DescriptionStyleModel",
      "state": {
       "description_width": ""
      }
     },
     "b1fb99ac020a474b9e7c8f49bdf50d85": {
      "model_module": "@jupyter-widgets/controls",
      "model_module_version": "1.5.0",
      "model_name": "SelectMultipleModel",
      "state": {
       "_options_labels": [
        "asfd",
        "10",
        "asdf"
       ],
       "index": [
        1
       ],
       "layout": "IPY_MODEL_d8e8f295c90a4986a90f02761f44deaf",
       "rows": 5,
       "style": "IPY_MODEL_273ddcfd826e43b984f184461a8abd16"
      }
     },
     "b218ad6a10684b19b0f15ac7d7662028": {
      "model_module": "@jupyter-widgets/controls",
      "model_module_version": "1.5.0",
      "model_name": "RadioButtonsModel",
      "state": {
       "_options_labels": [
        "TEMPLATE: C:\\engDev\\git_mf\\MF_Toolbox\\dev\\mf_scripts\\template_inputs\\inputs-gbxml.json",
        "PROJECT: C:\\engDev\\git_mf\\ipyrun\\ipyrun\\appdata\\inputs\\inputs-gbxml.json"
       ],
       "index": 0,
       "layout": "IPY_MODEL_cb49b39a9afc498c962b21beb4b5d575",
       "style": "IPY_MODEL_ed2176dce25540d2a14fe6bd0da96ef8"
      }
     },
     "b2b146ff4f0742dcbcc92f93368ea4c1": {
      "model_module": "@jupyter-widgets/base",
      "model_module_version": "1.2.0",
      "model_name": "LayoutModel",
      "state": {
       "align_items": "stretch",
       "border": "dashed 0.2px green",
       "display": "flex",
       "flex_flow": "row",
       "grid_auto_columns": "True",
       "justify_content": "flex-start",
       "width": "100%"
      }
     },
     "b2b4989b870a42a7b9f98cd7fa704008": {
      "model_module": "@jupyter-widgets/controls",
      "model_module_version": "1.5.0",
      "model_name": "HBoxModel",
      "state": {
       "children": [
        "IPY_MODEL_97c832bd9270425ea925f2db1538a421",
        "IPY_MODEL_fd69f87147ca4484b0e06922031adbc9"
       ],
       "layout": "IPY_MODEL_faeab245c3554b7493fa8812385ca255"
      }
     },
     "b302f61e2d9e4e99b1d66f42ea50e095": {
      "model_module": "@jupyter-widgets/base",
      "model_module_version": "1.2.0",
      "model_name": "LayoutModel",
      "state": {}
     },
     "b37973874bca4382844eb2c493367895": {
      "model_module": "@jupyter-widgets/output",
      "model_module_version": "1.0.0",
      "model_name": "OutputModel",
      "state": {
       "layout": "IPY_MODEL_8c51304d61f14a1f8b7c4ad2ce24b51a"
      }
     },
     "b3dc7cb2f61d43fe8b2afe86ca1dafbb": {
      "model_module": "@jupyter-widgets/base",
      "model_module_version": "1.2.0",
      "model_name": "LayoutModel",
      "state": {}
     },
     "b3f130504c1b458989ae498c923c6fa6": {
      "model_module": "@jupyter-widgets/base",
      "model_module_version": "1.2.0",
      "model_name": "LayoutModel",
      "state": {
       "align_items": "stretch",
       "display": "flex",
       "flex_flow": "row",
       "grid_auto_columns": "True",
       "justify_content": "flex-start",
       "width": "80%"
      }
     },
     "b40d6d579e6e43dcab72cde2af106ae4": {
      "model_module": "@jupyter-widgets/base",
      "model_module_version": "1.2.0",
      "model_name": "LayoutModel",
      "state": {}
     },
     "b40edc60a0e54ee99eb6ac166d26a86a": {
      "model_module": "@jupyter-widgets/base",
      "model_module_version": "1.2.0",
      "model_name": "LayoutModel",
      "state": {
       "align_items": "stretch",
       "border": "dashed 0.2px green",
       "display": "flex",
       "flex_flow": "row",
       "grid_auto_columns": "True",
       "justify_content": "flex-start",
       "width": "100%"
      }
     },
     "b453c1cef3af4694bc4894a5ef68de4f": {
      "model_module": "@jupyter-widgets/output",
      "model_module_version": "1.0.0",
      "model_name": "OutputModel",
      "state": {
       "layout": "IPY_MODEL_fd1c063e736e497baad10db362dfba6f"
      }
     },
     "b455e90c311b4728971a39f2d48eaf72": {
      "model_module": "@jupyter-widgets/output",
      "model_module_version": "1.0.0",
      "model_name": "OutputModel",
      "state": {
       "layout": "IPY_MODEL_2ddf7fd089734c75a3898dc65786cf81"
      }
     },
     "b4899a2031d24732b861221b87257295": {
      "model_module": "@jupyter-widgets/controls",
      "model_module_version": "1.5.0",
      "model_name": "DescriptionStyleModel",
      "state": {
       "description_width": ""
      }
     },
     "b492666620fe455d81ba820c258dfa67": {
      "model_module": "@jupyter-widgets/base",
      "model_module_version": "1.2.0",
      "model_name": "LayoutModel",
      "state": {}
     },
     "b4978d510af240ca92a46829bd040e9e": {
      "model_module": "@jupyter-widgets/controls",
      "model_module_version": "1.5.0",
      "model_name": "HBoxModel",
      "state": {
       "children": [
        "IPY_MODEL_a55eaf633b4d4e359cf194d0b5d8bca3",
        "IPY_MODEL_f195fbbd761b4d1dbdb8024fc644751a"
       ],
       "layout": "IPY_MODEL_25c0237d4cb743a1b6ef5a700b1e004a"
      }
     },
     "b4aed40173434617b19ed4b2fcef36a6": {
      "model_module": "@jupyter-widgets/output",
      "model_module_version": "1.0.0",
      "model_name": "OutputModel",
      "state": {
       "layout": "IPY_MODEL_e317e204894b43f0a988ab9781153020"
      }
     },
     "b4d12daa7a4f48eb999c8e6b9028298b": {
      "model_module": "@jupyter-widgets/base",
      "model_module_version": "1.2.0",
      "model_name": "LayoutModel",
      "state": {
       "align_items": "stretch",
       "display": "flex",
       "flex_flow": "row",
       "grid_auto_columns": "True",
       "justify_content": "flex-end",
       "width": "90%"
      }
     },
     "b4ee8df0e083445086d3647518b6b798": {
      "model_module": "@jupyter-widgets/base",
      "model_module_version": "1.2.0",
      "model_name": "LayoutModel",
      "state": {}
     },
     "b4ee9bd92ff04195ada952eac9df1974": {
      "model_module": "@jupyter-widgets/output",
      "model_module_version": "1.0.0",
      "model_name": "OutputModel",
      "state": {
       "layout": "IPY_MODEL_0c1205e9eaf74a00b0e797f66b423c28"
      }
     },
     "b506fcdbdb5f4975901eb6f508160229": {
      "model_module": "@jupyter-widgets/output",
      "model_module_version": "1.0.0",
      "model_name": "OutputModel",
      "state": {
       "layout": "IPY_MODEL_4a0c6e6e298a4d01b19b9f0bd7aeacad"
      }
     },
     "b5372840672845149e89dcee5887cd8f": {
      "model_module": "@jupyter-widgets/base",
      "model_module_version": "1.2.0",
      "model_name": "LayoutModel",
      "state": {}
     },
     "b58f63c266f4475c8e0a7295f460767d": {
      "model_module": "@jupyter-widgets/base",
      "model_module_version": "1.2.0",
      "model_name": "LayoutModel",
      "state": {
       "align_items": "stretch",
       "border": "dashed 0.2px green",
       "display": "flex",
       "flex_flow": "row",
       "grid_auto_columns": "True",
       "justify_content": "flex-start",
       "width": "100%"
      }
     },
     "b5910f33582a442ea9103a7323a72617": {
      "model_module": "@jupyter-widgets/controls",
      "model_module_version": "1.5.0",
      "model_name": "HTMLModel",
      "state": {
       "layout": "IPY_MODEL_ab0d9c5116f44648ad0d3a4318ef937d",
       "style": "IPY_MODEL_598883b99d8545c9b869dd1b56462e1a",
       "value": "<p>its a foo cake</p>"
      }
     },
     "b599495deedf47dc9ec8be54289e1b99": {
      "model_module": "@jupyter-widgets/base",
      "model_module_version": "1.2.0",
      "model_name": "LayoutModel",
      "state": {}
     },
     "b5a0c26e6db2464f830fabb15cf46edc": {
      "model_module": "@jupyter-widgets/controls",
      "model_module_version": "1.5.0",
      "model_name": "ButtonStyleModel",
      "state": {
       "font_weight": "bold"
      }
     },
     "b5ab681771294c5f933418b324533bda": {
      "model_module": "@jupyter-widgets/controls",
      "model_module_version": "1.5.0",
      "model_name": "HTMLModel",
      "state": {
       "layout": "IPY_MODEL_8cb9a89fe2274c0f9ca66b6f649e8658",
       "style": "IPY_MODEL_e338ec08f338481080e54a92ad6c0cfa",
       "value": "<p>its a delicious foo cake</p>"
      }
     },
     "b5b11eb5455b429d8ee2308be8e8a5cd": {
      "model_module": "@jupyter-widgets/controls",
      "model_module_version": "1.5.0",
      "model_name": "HTMLModel",
      "state": {
       "layout": "IPY_MODEL_9d5ad37e25144351b3f9602cb1ca3254",
       "style": "IPY_MODEL_d7da7a4bc9b14707899193bece07603d",
       "value": "<p>Derived Text</p>"
      }
     },
     "b5d8d13eb0a64a28bb946ff41ce72af0": {
      "model_module": "@jupyter-widgets/base",
      "model_module_version": "1.2.0",
      "model_name": "LayoutModel",
      "state": {
       "align_items": "stretch",
       "border": "dashed 0.2px green",
       "display": "flex",
       "flex_flow": "row",
       "grid_auto_columns": "True",
       "justify_content": "flex-start",
       "width": "100%"
      }
     },
     "b6083b7eadd24979ba97be69ad512d0f": {
      "model_module": "@jupyter-widgets/controls",
      "model_module_version": "1.5.0",
      "model_name": "ButtonStyleModel",
      "state": {
       "font_weight": "bold"
      }
     },
     "b6231f12fc1e4caf83040c14bca82aa5": {
      "model_module": "@jupyter-widgets/base",
      "model_module_version": "1.2.0",
      "model_name": "LayoutModel",
      "state": {}
     },
     "b663d4a082df46f0a03e82fabba540de": {
      "model_module": "@jupyter-widgets/base",
      "model_module_version": "1.2.0",
      "model_name": "LayoutModel",
      "state": {}
     },
     "b6678a887ebc4a5f9bf705f813fe7c79": {
      "model_module": "@jupyter-widgets/controls",
      "model_module_version": "1.5.0",
      "model_name": "FloatTextModel",
      "state": {
       "layout": "IPY_MODEL_93d7f42730614eac81de456abaf5f840",
       "step": null,
       "style": "IPY_MODEL_a43cc341c74e4f139b14d230b425408b",
       "value": 9
      }
     },
     "b6b2c79644304158af0a59d9c7d238f1": {
      "model_module": "@jupyter-widgets/controls",
      "model_module_version": "1.5.0",
      "model_name": "ButtonModel",
      "state": {
       "description": "save",
       "layout": "IPY_MODEL_21b9c20856624b68a8b815c49851d2e7",
       "style": "IPY_MODEL_25acf58351314a5f861a9149bfba12eb"
      }
     },
     "b6b4aa8c671d416a9b8365c0fb4d0531": {
      "model_module": "@jupyter-widgets/controls",
      "model_module_version": "1.5.0",
      "model_name": "HTMLModel",
      "state": {
       "layout": "IPY_MODEL_1536f08900da427dad22bcb18ad2687e",
       "style": "IPY_MODEL_e9b026d04ba74a2ba0a5f1e76a2dced4",
       "value": "<p>its a foo cake</p>"
      }
     },
     "b6d44bb1e0ec496cbcc9786b5c88a51e": {
      "model_module": "@jupyter-widgets/base",
      "model_module_version": "1.2.0",
      "model_name": "LayoutModel",
      "state": {}
     },
     "b72f7548ba6a451f8cd1541e1e30c4b6": {
      "model_module": "@jupyter-widgets/controls",
      "model_module_version": "1.5.0",
      "model_name": "HTMLModel",
      "state": {
       "layout": "IPY_MODEL_b663d4a082df46f0a03e82fabba540de",
       "style": "IPY_MODEL_067e864e52e141bf9c35387aad57d452",
       "value": "<p>name</p>"
      }
     },
     "b7550be14d3048a1958c1f288cd9508d": {
      "model_module": "@jupyter-widgets/controls",
      "model_module_version": "1.5.0",
      "model_name": "DescriptionStyleModel",
      "state": {
       "description_width": ""
      }
     },
     "b7688f5b866940c691cea51f8efd8e67": {
      "model_module": "@jupyter-widgets/controls",
      "model_module_version": "1.5.0",
      "model_name": "HBoxModel",
      "state": {
       "children": [
        "IPY_MODEL_7f2f8e7822e54a4b982a487a56e700cc",
        "IPY_MODEL_5d6409dde6764729b4e7b2fa0af781f6"
       ],
       "layout": "IPY_MODEL_3759f955c4584987914459dbe5b9d9e0"
      }
     },
     "b78da30d62944f87b41e017342b82481": {
      "model_module": "@jupyter-widgets/base",
      "model_module_version": "1.2.0",
      "model_name": "LayoutModel",
      "state": {}
     },
     "b7b345ffe1b64f98b19aa020481ae2df": {
      "model_module": "@jupyter-widgets/base",
      "model_module_version": "1.2.0",
      "model_name": "LayoutModel",
      "state": {
       "align_items": "stretch",
       "display": "flex",
       "flex_flow": "row",
       "grid_auto_columns": "True",
       "justify_content": "flex-start",
       "width": "80%"
      }
     },
     "b7be71695e474406865dcedbaf008cd1": {
      "model_module": "@jupyter-widgets/base",
      "model_module_version": "1.2.0",
      "model_name": "LayoutModel",
      "state": {}
     },
     "b7cdaf4fd8c0492f9706c68214b4d33a": {
      "model_module": "@jupyter-widgets/base",
      "model_module_version": "1.2.0",
      "model_name": "LayoutModel",
      "state": {}
     },
     "b822d0a844614902804a422b44d3f406": {
      "model_module": "@jupyter-widgets/controls",
      "model_module_version": "1.5.0",
      "model_name": "HTMLModel",
      "state": {
       "layout": "IPY_MODEL_3d960f99aa3d4ac4bd1acc9458b398b6",
       "style": "IPY_MODEL_03964f9c32f846808108bb16174b7054",
       "value": "<p>its a foo cake</p>"
      }
     },
     "b835e3e622f145c3af14c967ac40a9dd": {
      "model_module": "@jupyter-widgets/base",
      "model_module_version": "1.2.0",
      "model_name": "LayoutModel",
      "state": {}
     },
     "b89fe7e642be43c79645d1600b6a98dd": {
      "model_module": "@jupyter-widgets/base",
      "model_module_version": "1.2.0",
      "model_name": "LayoutModel",
      "state": {}
     },
     "b8eb81d96d9b47dfb3603c4661b3843e": {
      "model_module": "@jupyter-widgets/base",
      "model_module_version": "1.2.0",
      "model_name": "LayoutModel",
      "state": {}
     },
     "b902e884c2e044e08a57fb4b696f517b": {
      "model_module": "@jupyter-widgets/controls",
      "model_module_version": "1.5.0",
      "model_name": "DescriptionStyleModel",
      "state": {
       "description_width": ""
      }
     },
     "b913c6d06d724ac9827483c30ef27929": {
      "model_module": "@jupyter-widgets/base",
      "model_module_version": "1.2.0",
      "model_name": "LayoutModel",
      "state": {}
     },
     "b92a76a4d1c545e4bc35f922ef5ecf7a": {
      "model_module": "@jupyter-widgets/base",
      "model_module_version": "1.2.0",
      "model_name": "LayoutModel",
      "state": {}
     },
     "b9373183ba714d28bdb8922959be96f1": {
      "model_module": "@jupyter-widgets/base",
      "model_module_version": "1.2.0",
      "model_name": "LayoutModel",
      "state": {}
     },
     "b93b042232764707ac502c3d2dbfff60": {
      "model_module": "@jupyter-widgets/output",
      "model_module_version": "1.0.0",
      "model_name": "OutputModel",
      "state": {
       "layout": "IPY_MODEL_6e518b174a584b5c91c7de70c5626a55"
      }
     },
     "b97124ce86914e9090a8a34e06730da6": {
      "model_module": "@jupyter-widgets/controls",
      "model_module_version": "1.5.0",
      "model_name": "DescriptionStyleModel",
      "state": {
       "description_width": ""
      }
     },
     "b97eda7d490d4a67a37b25ff5a221c8b": {
      "model_module": "@jupyter-widgets/base",
      "model_module_version": "1.2.0",
      "model_name": "LayoutModel",
      "state": {
       "align_items": "stretch",
       "display": "flex",
       "flex_flow": "row",
       "grid_auto_columns": "True",
       "justify_content": "flex-start",
       "width": "80%"
      }
     },
     "b9b2c044d74142a0b9cfdc382b2d9426": {
      "model_module": "@jupyter-widgets/controls",
      "model_module_version": "1.5.0",
      "model_name": "HBoxModel",
      "state": {
       "children": [
        "IPY_MODEL_7b5412d13680454e975a8d74cc14fce9",
        "IPY_MODEL_41988729ea5041ebbb51a78a836b5807"
       ],
       "layout": "IPY_MODEL_74ad85c5f4c34de89b40da8e21d73bcb"
      }
     },
     "ba51f535be7c4d448ecd0c648a613780": {
      "model_module": "@jupyter-widgets/output",
      "model_module_version": "1.0.0",
      "model_name": "OutputModel",
      "state": {
       "layout": "IPY_MODEL_5623a9e5a56e4f728468771f1cf192c6"
      }
     },
     "ba795e24162c49438f47bb58551462bb": {
      "model_module": "@jupyter-widgets/controls",
      "model_module_version": "1.5.0",
      "model_name": "HBoxModel",
      "state": {
       "children": [
        "IPY_MODEL_e0c3a01231314446bf92ed3f885797cc"
       ],
       "layout": "IPY_MODEL_27fdf0a9b50342d38a5de6f863f05c9c"
      }
     },
     "baaaec9689514c7a85ca5b63188b614c": {
      "model_module": "@jupyter-widgets/controls",
      "model_module_version": "1.5.0",
      "model_name": "HTMLModel",
      "state": {
       "layout": "IPY_MODEL_6cde2227497641469cbf16628f74285e",
       "style": "IPY_MODEL_a0b5e2df485f40e9b93922368fd4357b",
       "value": "<p>Model Desc</p>"
      }
     },
     "bac6f902e5a24c53872813e8313272a2": {
      "model_module": "@jupyter-widgets/output",
      "model_module_version": "1.0.0",
      "model_name": "OutputModel",
      "state": {
       "layout": "IPY_MODEL_d07b020f5c2447fa9d6acd9074559b12"
      }
     },
     "bad4d821d45a4260a77e01b1137a9849": {
      "model_module": "@jupyter-widgets/controls",
      "model_module_version": "1.5.0",
      "model_name": "HBoxModel",
      "state": {
       "children": [
        "IPY_MODEL_af592c82f60d45638867c91dde0ee97d",
        "IPY_MODEL_d30b7a81b08940c58bdef6d2a46b97a6"
       ],
       "layout": "IPY_MODEL_dbc6989d2c2c44bf92aa9d18ed3c24d5"
      }
     },
     "bada2e62a427498cb593108782a7b859": {
      "model_module": "@jupyter-widgets/base",
      "model_module_version": "1.2.0",
      "model_name": "LayoutModel",
      "state": {}
     },
     "baf151f0c05243d8b89633115068d44b": {
      "model_module": "@jupyter-widgets/controls",
      "model_module_version": "1.5.0",
      "model_name": "ButtonStyleModel",
      "state": {
       "font_weight": "bold"
      }
     },
     "bb0c5689781c447aa9c6f833af787884": {
      "model_module": "@jupyter-widgets/controls",
      "model_module_version": "1.5.0",
      "model_name": "HBoxModel",
      "state": {
       "children": [
        "IPY_MODEL_f817ed8c6b4f425daf30820fa90e8152"
       ],
       "layout": "IPY_MODEL_f6b55edfa03443eba194d97546748f7e"
      }
     },
     "bb1726b82e7849c1a2b4b1f2f0062230": {
      "model_module": "@jupyter-widgets/output",
      "model_module_version": "1.0.0",
      "model_name": "OutputModel",
      "state": {
       "layout": "IPY_MODEL_7ed728b3025b498e858a2c525cd0f567"
      }
     },
     "bb5e13ccafd749b5a8dbfef82dda4813": {
      "model_module": "@jupyter-widgets/base",
      "model_module_version": "1.2.0",
      "model_name": "LayoutModel",
      "state": {}
     },
     "bbae172ec63549699939eb6ae1454d53": {
      "model_module": "@jupyter-widgets/controls",
      "model_module_version": "1.5.0",
      "model_name": "HBoxModel",
      "state": {
       "children": [
        "IPY_MODEL_e579a72fb4324a7589b8c0f676aec815",
        "IPY_MODEL_72adad20ed4c4e97af6ce714d5f2e937"
       ],
       "layout": "IPY_MODEL_ac31ef68d0df4bc4ae71cb26f4e8975c"
      }
     },
     "bbc546bd21c14bbf9516ac984676e64c": {
      "model_module": "@jupyter-widgets/base",
      "model_module_version": "1.2.0",
      "model_name": "LayoutModel",
      "state": {}
     },
     "bc13c8e433824e4f8347bf52bfa755bd": {
      "model_module": "@jupyter-widgets/base",
      "model_module_version": "1.2.0",
      "model_name": "LayoutModel",
      "state": {}
     },
     "bca0e964cbab40c49675da7a55a6e079": {
      "model_module": "@jupyter-widgets/base",
      "model_module_version": "1.2.0",
      "model_name": "LayoutModel",
      "state": {
       "align_items": "stretch",
       "border": "dashed 0.2px green",
       "display": "flex",
       "flex_flow": "row",
       "grid_auto_columns": "True",
       "justify_content": "flex-start",
       "width": "100%"
      }
     },
     "bcba2f06d9d1433eb18ffdda483a2428": {
      "model_module": "@jupyter-widgets/base",
      "model_module_version": "1.2.0",
      "model_name": "LayoutModel",
      "state": {}
     },
     "bcce1e12552a4a5e9e605f8181d35aa2": {
      "model_module": "@jupyter-widgets/base",
      "model_module_version": "1.2.0",
      "model_name": "LayoutModel",
      "state": {}
     },
     "bce6791006a84374bff14420dd55b28a": {
      "model_module": "@jupyter-widgets/base",
      "model_module_version": "1.2.0",
      "model_name": "LayoutModel",
      "state": {}
     },
     "bcec64f6920045629ba0f0bf7fcf62bc": {
      "model_module": "@jupyter-widgets/controls",
      "model_module_version": "1.5.0",
      "model_name": "HBoxModel",
      "state": {
       "children": [
        "IPY_MODEL_7a1db569c3a046e6879edf28831db7cb",
        "IPY_MODEL_b7688f5b866940c691cea51f8efd8e67"
       ],
       "layout": "IPY_MODEL_fd84fbbbd5814b3fadb3b1611c646a9c"
      }
     },
     "bd155e5e08ff415b93973ee1ca293bf0": {
      "model_module": "@jupyter-widgets/controls",
      "model_module_version": "1.5.0",
      "model_name": "HBoxModel",
      "state": {
       "children": [
        "IPY_MODEL_5aba91ef30494d4eaaa5da57756a266f"
       ],
       "layout": "IPY_MODEL_9cc7fba3138c440fb31a7774da526f2c"
      }
     },
     "bd2793da10334337a1e094edebcbe9bd": {
      "model_module": "@jupyter-widgets/controls",
      "model_module_version": "1.5.0",
      "model_name": "VBoxModel",
      "state": {
       "children": [
        "IPY_MODEL_e1ac43725c834673b6b8fab36873bb3b",
        "IPY_MODEL_eacc7905c6aa4418a580ece47b595311"
       ],
       "layout": "IPY_MODEL_7e03e87406e842119e8ef1f6c3d368c6"
      }
     },
     "bd5c659561d44bb894c80566030aae69": {
      "model_module": "@jupyter-widgets/controls",
      "model_module_version": "1.5.0",
      "model_name": "HBoxModel",
      "state": {
       "children": [
        "IPY_MODEL_3eb1038389ee406d9081addaddb9f6bf",
        "IPY_MODEL_a56db6bb4d064177935e036af9fd3c8d"
       ],
       "layout": "IPY_MODEL_9e233a5a52224c0ba9c89e26add1bfcf"
      }
     },
     "bda1dfef492d4954a9f38030989e2848": {
      "model_module": "@jupyter-widgets/controls",
      "model_module_version": "1.5.0",
      "model_name": "ButtonStyleModel",
      "state": {
       "font_weight": "bold"
      }
     },
     "bda4bd26d4824e1dbd76727d8b37581b": {
      "model_module": "@jupyter-widgets/controls",
      "model_module_version": "1.5.0",
      "model_name": "VBoxModel",
      "state": {
       "children": [
        "IPY_MODEL_c6d14fc35163421bad6f7ac07e463988",
        "IPY_MODEL_af113e61de59407b9fb9655581a0166f",
        "IPY_MODEL_127246ed7dce4ebf96e408c998cd4b5d"
       ],
       "layout": "IPY_MODEL_cfdb647ac5674f589e383cf398640b57"
      }
     },
     "bdc8c49de92a4916b98aaef0e717e75c": {
      "model_module": "@jupyter-widgets/base",
      "model_module_version": "1.2.0",
      "model_name": "LayoutModel",
      "state": {}
     },
     "bdc999dad0ed40899a13b363f0039a74": {
      "model_module": "@jupyter-widgets/controls",
      "model_module_version": "1.5.0",
      "model_name": "DescriptionStyleModel",
      "state": {
       "description_width": ""
      }
     },
     "bdd34e1e47aa43d79a9246a1807ce237": {
      "model_module": "@jupyter-widgets/controls",
      "model_module_version": "1.5.0",
      "model_name": "HTMLModel",
      "state": {
       "layout": "IPY_MODEL_c137b5e9bcf640d2a445679ce4535282",
       "style": "IPY_MODEL_b97124ce86914e9090a8a34e06730da6",
       "value": "<p>name</p>"
      }
     },
     "bdfbb3b337a64d5d9fb80045e0d0d92e": {
      "model_module": "@jupyter-widgets/controls",
      "model_module_version": "1.5.0",
      "model_name": "HBoxModel",
      "state": {
       "children": [
        "IPY_MODEL_4833f5814744443295c78e0069c5da76",
        "IPY_MODEL_9b57e3bacef2422691acfb6f8a09a1a7",
        "IPY_MODEL_cd59cdb3f4ff4297a5c294855807ab95"
       ],
       "layout": "IPY_MODEL_bcce1e12552a4a5e9e605f8181d35aa2"
      }
     },
     "be318bdc82ae4c26897757370864589b": {
      "model_module": "@jupyter-widgets/controls",
      "model_module_version": "1.5.0",
      "model_name": "HBoxModel",
      "state": {
       "children": [
        "IPY_MODEL_484cecce8d224b56a18ac5d49be5830f",
        "IPY_MODEL_009ec31ae36241578b3a6be7bae96371"
       ],
       "layout": "IPY_MODEL_5426adc1e26441ea95b95a33c78ec22a"
      }
     },
     "be5787a519d64597b769f9e48daf6766": {
      "model_module": "@jupyter-widgets/output",
      "model_module_version": "1.0.0",
      "model_name": "OutputModel",
      "state": {
       "layout": "IPY_MODEL_3a8e12b99a2b4dd3bfb02c733c8c4830"
      }
     },
     "be6d178421f1476186aefee6e709b04d": {
      "model_module": "@jupyter-widgets/controls",
      "model_module_version": "1.5.0",
      "model_name": "HTMLModel",
      "state": {
       "layout": "IPY_MODEL_6734edd8d935414c8857f956953f8a83",
       "style": "IPY_MODEL_74e3d2126b644eafa8c4bc00b8fcefee",
       "value": "<p>Example use of the DerivedText Widget</p>"
      }
     },
     "be6ed062ad26451fbb32b032cffe17e7": {
      "model_module": "@jupyter-widgets/base",
      "model_module_version": "1.2.0",
      "model_name": "LayoutModel",
      "state": {}
     },
     "be8ef93a7e8e45d781f6ffbe45aeb7a1": {
      "model_module": "@jupyter-widgets/controls",
      "model_module_version": "1.5.0",
      "model_name": "DescriptionStyleModel",
      "state": {
       "description_width": ""
      }
     },
     "be9feeaf5ae941cf8367ae7c274037f1": {
      "model_module": "@jupyter-widgets/base",
      "model_module_version": "1.2.0",
      "model_name": "LayoutModel",
      "state": {
       "align_items": "stretch",
       "border": "dashed 0.2px green",
       "display": "flex",
       "flex_flow": "row",
       "grid_auto_columns": "True",
       "justify_content": "flex-start",
       "width": "100%"
      }
     },
     "bed5c7305de54764997469403841ac58": {
      "model_module": "@jupyter-widgets/base",
      "model_module_version": "1.2.0",
      "model_name": "LayoutModel",
      "state": {}
     },
     "bf0ccbfbfad7431ca65f801140afa232": {
      "model_module": "@jupyter-widgets/controls",
      "model_module_version": "1.5.0",
      "model_name": "HBoxModel",
      "state": {
       "children": [
        "IPY_MODEL_d9f4147f7814407c9eaa49bd2cc26473",
        "IPY_MODEL_7bd264f814b44a88b168a95f5357a8ed"
       ],
       "layout": "IPY_MODEL_76f1eefd4d3244eea3d951533ef29a48"
      }
     },
     "bf184c79458d422cbf0de8773f8c57e5": {
      "model_module": "@jupyter-widgets/controls",
      "model_module_version": "1.5.0",
      "model_name": "HTMLModel",
      "state": {
       "layout": "IPY_MODEL_2962375f96d44b40980c4056c0b39759",
       "style": "IPY_MODEL_2d4eca05badc43a782eeef45a33886ea",
       "value": "<p>fpth_in</p>"
      }
     },
     "bf2aca50e8664ef7915461c2fcde580a": {
      "model_module": "@jupyter-widgets/base",
      "model_module_version": "1.2.0",
      "model_name": "LayoutModel",
      "state": {}
     },
     "bf4b77e5a91a4300a5ef31cfe046eba8": {
      "model_module": "@jupyter-widgets/base",
      "model_module_version": "1.2.0",
      "model_name": "LayoutModel",
      "state": {
       "align_items": "stretch",
       "display": "flex",
       "flex_flow": "row",
       "grid_auto_columns": "True",
       "justify_content": "flex-start",
       "width": "80%"
      }
     },
     "bf60237b672e4b1bb98d07bbefd80d92": {
      "model_module": "@jupyter-widgets/controls",
      "model_module_version": "1.5.0",
      "model_name": "HBoxModel",
      "state": {
       "children": [
        "IPY_MODEL_5302f79a5acc45bd94f81d7514fc43fa",
        "IPY_MODEL_1dc98da627474bf7ac2b9ed19d0acb3a"
       ],
       "layout": "IPY_MODEL_f6a5f6dfb0024a36aa421508b760b28b"
      }
     },
     "bf96d072f3724c409e48920113824935": {
      "model_module": "@jupyter-widgets/controls",
      "model_module_version": "1.5.0",
      "model_name": "HBoxModel",
      "state": {
       "children": [
        "IPY_MODEL_d923c2a121b1462b8ce381799fb65bde"
       ],
       "layout": "IPY_MODEL_73fe018371c5460bbf04a5869ac073c5"
      }
     },
     "bf9b1b76bdb2467881081ea8ace9cecd": {
      "model_module": "@jupyter-widgets/base",
      "model_module_version": "1.2.0",
      "model_name": "LayoutModel",
      "state": {}
     },
     "c000b3465b0341a8affe3e27044aa4d2": {
      "model_module": "@jupyter-widgets/controls",
      "model_module_version": "1.5.0",
      "model_name": "HBoxModel",
      "state": {
       "children": [
        "IPY_MODEL_bcec64f6920045629ba0f0bf7fcf62bc"
       ],
       "layout": "IPY_MODEL_2d1b2b6a1cfa4363adb649722f846981"
      }
     },
     "c002dc1dabfa4751be0468b54841156f": {
      "model_module": "@jupyter-widgets/base",
      "model_module_version": "1.2.0",
      "model_name": "LayoutModel",
      "state": {}
     },
     "c00ad30e1b20467fb118fb7ad1cd4d7b": {
      "model_module": "@jupyter-widgets/base",
      "model_module_version": "1.2.0",
      "model_name": "LayoutModel",
      "state": {
       "display": "flex",
       "flex_flow": "row",
       "grid_auto_columns": "False",
       "justify_content": "flex-start",
       "width": "100%"
      }
     },
     "c03435a181614dda888f87617ba1be65": {
      "model_module": "@jupyter-widgets/base",
      "model_module_version": "1.2.0",
      "model_name": "LayoutModel",
      "state": {}
     },
     "c07270d14d564adf9b772e52006887cb": {
      "model_module": "@jupyter-widgets/base",
      "model_module_version": "1.2.0",
      "model_name": "LayoutModel",
      "state": {}
     },
     "c095f11e826a4ab597a4494bd98e8515": {
      "model_module": "@jupyter-widgets/controls",
      "model_module_version": "1.5.0",
      "model_name": "HTMLModel",
      "state": {
       "layout": "IPY_MODEL_61bbd56bcea44190939b8bb5d48af3c8",
       "style": "IPY_MODEL_a1e802e45c1c446f88f774ab3b6e1005",
       "value": "<p>its a delicious foo cake</p>"
      }
     },
     "c0aac93300664548b6a607d62ef55218": {
      "model_module": "@jupyter-widgets/controls",
      "model_module_version": "1.5.0",
      "model_name": "HBoxModel",
      "state": {
       "children": [
        "IPY_MODEL_acf80cdee04a4ac890d8fc1640d87ef2"
       ],
       "layout": "IPY_MODEL_472eeb4d6ec243e9814a3063baf99745"
      }
     },
     "c0ab3a9369224881a3922ec4de9a3de1": {
      "model_module": "@jupyter-widgets/base",
      "model_module_version": "1.2.0",
      "model_name": "LayoutModel",
      "state": {}
     },
     "c0f436c4030b4896acd95b4b07ca8779": {
      "model_module": "@jupyter-widgets/controls",
      "model_module_version": "1.5.0",
      "model_name": "DescriptionStyleModel",
      "state": {
       "description_width": ""
      }
     },
     "c137b5e9bcf640d2a445679ce4535282": {
      "model_module": "@jupyter-widgets/base",
      "model_module_version": "1.2.0",
      "model_name": "LayoutModel",
      "state": {}
     },
     "c143bc2cd08643cb9d0cbecf01d1ca96": {
      "model_module": "@jupyter-widgets/controls",
      "model_module_version": "1.5.0",
      "model_name": "DescriptionStyleModel",
      "state": {
       "description_width": ""
      }
     },
     "c1867b3cabb14b638c09e59efc41f98a": {
      "model_module": "@jupyter-widgets/base",
      "model_module_version": "1.2.0",
      "model_name": "LayoutModel",
      "state": {}
     },
     "c1a1e8a5e2354bdbaeeec27c18f9a3dd": {
      "model_module": "@jupyter-widgets/controls",
      "model_module_version": "1.5.0",
      "model_name": "DescriptionStyleModel",
      "state": {
       "description_width": ""
      }
     },
     "c1b98f857b4144cf931268bcf6c40002": {
      "model_module": "@jupyter-widgets/base",
      "model_module_version": "1.2.0",
      "model_name": "LayoutModel",
      "state": {}
     },
     "c1defc47dd9b4ea5b78678fb951fe452": {
      "model_module": "@jupyter-widgets/controls",
      "model_module_version": "1.5.0",
      "model_name": "HTMLModel",
      "state": {
       "layout": "IPY_MODEL_1f2ebb8671704c5a93f7c211870dfcd0",
       "style": "IPY_MODEL_3f19d195dcd349be995c6eea3e78ea33",
       "value": "<p>General Description of the Model</p>"
      }
     },
     "c1e8da453b35417d9f296fef367366e1": {
      "model_module": "@jupyter-widgets/base",
      "model_module_version": "1.2.0",
      "model_name": "LayoutModel",
      "state": {}
     },
     "c20de65566154c0fb224f2f980d30794": {
      "model_module": "@jupyter-widgets/controls",
      "model_module_version": "1.5.0",
      "model_name": "HBoxModel",
      "state": {
       "children": [
        "IPY_MODEL_bd5c659561d44bb894c80566030aae69"
       ],
       "layout": "IPY_MODEL_e3890ada07d04e43ba19001dfc793c7c"
      }
     },
     "c210c4e875f048e88c651bec8214090a": {
      "model_module": "@jupyter-widgets/base",
      "model_module_version": "1.2.0",
      "model_name": "LayoutModel",
      "state": {}
     },
     "c22c39754b1b418ca978231268f8e193": {
      "model_module": "@jupyter-widgets/controls",
      "model_module_version": "1.5.0",
      "model_name": "DescriptionStyleModel",
      "state": {
       "description_width": ""
      }
     },
     "c2519152f3744f41bf1b0680977e2fc4": {
      "model_module": "@jupyter-widgets/controls",
      "model_module_version": "1.5.0",
      "model_name": "TextModel",
      "state": {
       "layout": "IPY_MODEL_33e4a0e5f1b04969b33d816eeeef470f",
       "style": "IPY_MODEL_858ac04e35aa4fe8a97dae86df7d3fa3",
       "value": "C:\\engDev\\git_mf\\MF_Toolbox\\dev\\examples\\gbxml\\105_LiveseyExchange_heatpump-normal-fabric.xml"
      }
     },
     "c268fb5e263c46b480804f518db8d8a9": {
      "model_module": "@jupyter-widgets/controls",
      "model_module_version": "1.5.0",
      "model_name": "HTMLModel",
      "state": {
       "layout": "IPY_MODEL_4de9a5f5ce31416992f9d04a8123bfbe",
       "style": "IPY_MODEL_3d8d51cd6c69469784dbbb81ce62c17c",
       "value": "<p>edit user input form below</p>"
      }
     },
     "c271457c0ff04992b4e0363fe30feca2": {
      "model_module": "@jupyter-widgets/controls",
      "model_module_version": "1.5.0",
      "model_name": "HBoxModel",
      "state": {
       "children": [
        "IPY_MODEL_3d8f07d0b8b941529a0e182e6fdcee78",
        "IPY_MODEL_12ee596c56f340d3bfa66297407aab73",
        "IPY_MODEL_61dd0c73c98e4b569adf023c2b9e4f7a"
       ],
       "layout": "IPY_MODEL_7c5c7305c133495e8f727a9c6ebb3cd8"
      }
     },
     "c2bba3952cfd40e19ca36157cfb6c98c": {
      "model_module": "@jupyter-widgets/controls",
      "model_module_version": "1.5.0",
      "model_name": "HBoxModel",
      "state": {
       "children": [
        "IPY_MODEL_761c71555fa54147826c0e4a6dbc3ba4",
        "IPY_MODEL_42ac20415f344615b15f181e236ca032"
       ],
       "layout": "IPY_MODEL_3a5d0e1db7454ca2a7b6a829d75a1dac"
      }
     },
     "c2eac9aed15644ab8e4287f015ed410a": {
      "model_module": "@jupyter-widgets/controls",
      "model_module_version": "1.5.0",
      "model_name": "HBoxModel",
      "state": {
       "children": [
        "IPY_MODEL_088c4ba26a7a4c30b8d1e28384f01bba",
        "IPY_MODEL_8fcd76c5b89e414c97c46c99b5686a12"
       ],
       "layout": "IPY_MODEL_2faf0f923fbe48e1bc71a6c8b4aa74e1"
      }
     },
     "c353200522cd499bbe1f439a96e029c3": {
      "model_module": "@jupyter-widgets/base",
      "model_module_version": "1.2.0",
      "model_name": "LayoutModel",
      "state": {}
     },
     "c386f875ac2d47fab47dce6ae6e287c6": {
      "model_module": "@jupyter-widgets/base",
      "model_module_version": "1.2.0",
      "model_name": "LayoutModel",
      "state": {}
     },
     "c39ddfbcaac94982abf716ba097456b8": {
      "model_module": "@jupyter-widgets/controls",
      "model_module_version": "1.5.0",
      "model_name": "DescriptionStyleModel",
      "state": {
       "description_width": ""
      }
     },
     "c3ce312cdbb045708214a53ef10f5007": {
      "model_module": "@jupyter-widgets/controls",
      "model_module_version": "1.5.0",
      "model_name": "HTMLModel",
      "state": {
       "layout": "IPY_MODEL_cd3fdbc5dda844c4934f78596a8c14e5",
       "style": "IPY_MODEL_0c48e9e56f674eca82be86359c36a65f",
       "value": "<p>File Tag</p>"
      }
     },
     "c3d7ffe59cd144fa88dfe90264b55227": {
      "model_module": "@jupyter-widgets/base",
      "model_module_version": "1.2.0",
      "model_name": "LayoutModel",
      "state": {}
     },
     "c4179ff32f37475d8964491ad57e0e2a": {
      "model_module": "@jupyter-widgets/controls",
      "model_module_version": "1.5.0",
      "model_name": "ButtonModel",
      "state": {
       "button_style": "info",
       "description": "preview outputs",
       "layout": "IPY_MODEL_4a2b99d374d3440ea900a067e95ed05c",
       "style": "IPY_MODEL_5a829a169e0a4972be03e55cb7b5bdae",
       "tooltip": "show a preview of the output files generated when the script runs"
      }
     },
     "c4403135d87d480ba1f457abd5020502": {
      "model_module": "@jupyter-widgets/controls",
      "model_module_version": "1.5.0",
      "model_name": "ButtonModel",
      "state": {
       "button_style": "warning",
       "description": "edit inputs",
       "layout": "IPY_MODEL_44087653b4c54b74842f6e6e3d62315f",
       "style": "IPY_MODEL_0106bd9e090f4bba80e82aaed7b25261",
       "tooltip": "edit the user input information that is used when the script is executed"
      }
     },
     "c47a799c5179486eac1b7d8950aa8ec9": {
      "model_module": "@jupyter-widgets/base",
      "model_module_version": "1.2.0",
      "model_name": "LayoutModel",
      "state": {}
     },
     "c48729332f794850a59bd1b5552e02f7": {
      "model_module": "@jupyter-widgets/controls",
      "model_module_version": "1.5.0",
      "model_name": "HTMLModel",
      "state": {
       "layout": "IPY_MODEL_9d25198f8f17415f9dba6720642fa855",
       "style": "IPY_MODEL_3999df35916b459eb130999233964d32",
       "value": "<p>foo</p>"
      }
     },
     "c4f2eb2bf0a2428a9ce3671f9c7b9244": {
      "model_module": "@jupyter-widgets/base",
      "model_module_version": "1.2.0",
      "model_name": "LayoutModel",
      "state": {
       "align_items": "stretch",
       "display": "flex",
       "flex_flow": "row",
       "grid_auto_columns": "True",
       "justify_content": "flex-start",
       "width": "80%"
      }
     },
     "c4f9951891144038b25e7c83c61750a3": {
      "model_module": "@jupyter-widgets/base",
      "model_module_version": "1.2.0",
      "model_name": "LayoutModel",
      "state": {
       "align_items": "stretch",
       "border": "dashed 0.2px green",
       "display": "flex",
       "flex_flow": "row",
       "grid_auto_columns": "True",
       "justify_content": "flex-start",
       "width": "100%"
      }
     },
     "c52da20961fb4754965cb5887b1076ba": {
      "model_module": "@jupyter-widgets/controls",
      "model_module_version": "1.5.0",
      "model_name": "VBoxModel",
      "state": {
       "children": [
        "IPY_MODEL_c2eac9aed15644ab8e4287f015ed410a",
        "IPY_MODEL_4a68b6496eb543499768167f290a2261",
        "IPY_MODEL_d3161368bb90432c82e13b3c974cfd95",
        "IPY_MODEL_2af49f3411684c43b05b2b1098e8c48e",
        "IPY_MODEL_e266c0f5f023457dbbf9f345c47db974",
        "IPY_MODEL_c20de65566154c0fb224f2f980d30794",
        "IPY_MODEL_684542faeefe4e6691ee0267cd782095",
        "IPY_MODEL_7ce7391f8d004f2abc923b00ffc57cdd"
       ],
       "layout": "IPY_MODEL_77be548fb3da40b0b7e17769d299579b"
      }
     },
     "c55d0d46da864478a461c8aa1784fca6": {
      "model_module": "@jupyter-widgets/controls",
      "model_module_version": "1.5.0",
      "model_name": "CheckboxModel",
      "state": {
       "disabled": false,
       "layout": "IPY_MODEL_b4ee8df0e083445086d3647518b6b798",
       "style": "IPY_MODEL_2d06878e6c2a4eb5b1d2ca2af1eacac4",
       "value": false
      }
     },
     "c57b9463f8a44971a4231702be897927": {
      "model_module": "@jupyter-widgets/controls",
      "model_module_version": "1.5.0",
      "model_name": "ButtonModel",
      "state": {
       "button_style": "info",
       "description": "show source code",
       "layout": "IPY_MODEL_7e26dc2be122420ab5d1ff40c41aa35e",
       "style": "IPY_MODEL_76dd608c3f70411b9b387eec887994ed",
       "tooltip": "shows the raw python code in the preview window below"
      }
     },
     "c5c38273657b41aca21eefb6a8fa1b1a": {
      "model_module": "@jupyter-widgets/base",
      "model_module_version": "1.2.0",
      "model_name": "LayoutModel",
      "state": {}
     },
     "c5df6ae0858d488490477fce52fa0e39": {
      "model_module": "@jupyter-widgets/base",
      "model_module_version": "1.2.0",
      "model_name": "LayoutModel",
      "state": {}
     },
     "c62e6f566ce743af99ddb08c17cb5e47": {
      "model_module": "@jupyter-widgets/controls",
      "model_module_version": "1.5.0",
      "model_name": "HBoxModel",
      "state": {
       "children": [
        "IPY_MODEL_f245560105dc4fef8ce394a3488a0ef2",
        "IPY_MODEL_8a5f07601c814b889a6c90ee838467c2",
        "IPY_MODEL_5f9ef9e5a35e48858fabcad3205719b1"
       ],
       "layout": "IPY_MODEL_0d9c45f3a5e140eeaeb9cda3446f5631"
      }
     },
     "c637651718db4cdc851fd45621890c40": {
      "model_module": "@jupyter-widgets/base",
      "model_module_version": "1.2.0",
      "model_name": "LayoutModel",
      "state": {
       "align_items": "stretch",
       "border": "dashed 0.2px green",
       "display": "flex",
       "flex_flow": "row",
       "grid_auto_columns": "True",
       "justify_content": "flex-start",
       "width": "100%"
      }
     },
     "c652bd5259aa417cb55b03af3b9ef710": {
      "model_module": "@jupyter-widgets/base",
      "model_module_version": "1.2.0",
      "model_name": "LayoutModel",
      "state": {}
     },
     "c6761c8f9497497a9fb9bdd310b9ba1c": {
      "model_module": "@jupyter-widgets/base",
      "model_module_version": "1.2.0",
      "model_name": "LayoutModel",
      "state": {}
     },
     "c6d14fc35163421bad6f7ac07e463988": {
      "model_module": "@jupyter-widgets/controls",
      "model_module_version": "1.5.0",
      "model_name": "HBoxModel",
      "state": {
       "children": [
        "IPY_MODEL_49ec5e59d2794f1abea5f406b4874a01",
        "IPY_MODEL_dc9f59d58b8e461c9fb2cff6ec0d310d",
        "IPY_MODEL_395ad12192d3407cad7fcef50c75f99d"
       ],
       "layout": "IPY_MODEL_68fa77bc4fc1417e8c2018f51045a05b"
      }
     },
     "c6f28b7ea6564108ad913d8f958abee5": {
      "model_module": "@jupyter-widgets/base",
      "model_module_version": "1.2.0",
      "model_name": "LayoutModel",
      "state": {
       "align_items": "stretch",
       "display": "flex",
       "flex_flow": "row",
       "grid_auto_columns": "True",
       "justify_content": "flex-start",
       "width": "80%"
      }
     },
     "c6f3a4d30702429dbe7fe7dfab9005d4": {
      "model_module": "@jupyter-widgets/base",
      "model_module_version": "1.2.0",
      "model_name": "LayoutModel",
      "state": {}
     },
     "c7180dca423343288d3b60d9f8690a51": {
      "model_module": "@jupyter-widgets/controls",
      "model_module_version": "1.5.0",
      "model_name": "HBoxModel",
      "state": {
       "children": [
        "IPY_MODEL_9a540c7a595f4c6aaac181cffc46d40f",
        "IPY_MODEL_fa0d46f43c1349f18362308a50cd2c58"
       ],
       "layout": "IPY_MODEL_0ed807f181134864b38520a6662ab9fe"
      }
     },
     "c73b612b2526440b9adce997cbf120a4": {
      "model_module": "@jupyter-widgets/controls",
      "model_module_version": "1.5.0",
      "model_name": "ToggleButtonModel",
      "state": {
       "icon": "arrow-down",
       "layout": "IPY_MODEL_2c07444bc99b4c66834b72e4ada6c9fa",
       "style": "IPY_MODEL_61c4f8ae2cfc4e89b8869c07a7527f36"
      }
     },
     "c7519a8af97749638ad4dcb947a8fea0": {
      "model_module": "@jupyter-widgets/base",
      "model_module_version": "1.2.0",
      "model_name": "LayoutModel",
      "state": {}
     },
     "c76aa6f6cb2645e788e4086758634421": {
      "model_module": "@jupyter-widgets/controls",
      "model_module_version": "1.5.0",
      "model_name": "DescriptionStyleModel",
      "state": {
       "description_width": ""
      }
     },
     "c77b03842947473aaf3644e6daf29576": {
      "model_module": "@jupyter-widgets/base",
      "model_module_version": "1.2.0",
      "model_name": "LayoutModel",
      "state": {}
     },
     "c7881bb8712943c0be7ddec62d4ae778": {
      "model_module": "@jupyter-widgets/base",
      "model_module_version": "1.2.0",
      "model_name": "LayoutModel",
      "state": {}
     },
     "c7aa5d0efc1f423dafaa31f4ce415a9f": {
      "model_module": "@jupyter-widgets/controls",
      "model_module_version": "1.5.0",
      "model_name": "DescriptionStyleModel",
      "state": {
       "description_width": ""
      }
     },
     "c7cbc7248b6c481594f38ac9cc2dc83d": {
      "model_module": "@jupyter-widgets/base",
      "model_module_version": "1.2.0",
      "model_name": "LayoutModel",
      "state": {
       "width": "5%"
      }
     },
     "c7cfd722d4c341508edb6d3b8fbb2b7e": {
      "model_module": "@jupyter-widgets/base",
      "model_module_version": "1.2.0",
      "model_name": "LayoutModel",
      "state": {}
     },
     "c821d52af7b34684bb4e324e80d6df1e": {
      "model_module": "@jupyter-widgets/base",
      "model_module_version": "1.2.0",
      "model_name": "LayoutModel",
      "state": {}
     },
     "c83c4148b722477d9351068b46713b4b": {
      "model_module": "@jupyter-widgets/base",
      "model_module_version": "1.2.0",
      "model_name": "LayoutModel",
      "state": {}
     },
     "c8700c3aa91d4b80a59d9e43a349e904": {
      "model_module": "@jupyter-widgets/controls",
      "model_module_version": "1.5.0",
      "model_name": "HTMLModel",
      "state": {
       "layout": "IPY_MODEL_e2be698dcb2c4b058095c3b5552312a9",
       "style": "IPY_MODEL_3d00aaf8dca3482c9c60a968b50a0ccc",
       "value": "<p>its a foo cake</p>"
      }
     },
     "c870c0b92d6c4bfcb92387322ef02a3a": {
      "model_module": "@jupyter-widgets/controls",
      "model_module_version": "1.5.0",
      "model_name": "HBoxModel",
      "state": {
       "children": [
        "IPY_MODEL_d18f546cfa84452d8bfba7c81da8db6d",
        "IPY_MODEL_110e152a7915424cb58ae90bd26c5745",
        "IPY_MODEL_74152743e4134feb96d57fbfc971888a",
        "IPY_MODEL_c4403135d87d480ba1f457abd5020502",
        "IPY_MODEL_d170d4086b0f4bc4a0753ef86b819067",
        "IPY_MODEL_c4179ff32f37475d8964491ad57e0e2a",
        "IPY_MODEL_69f3d5e51c554a8cb54adaabec34f300"
       ],
       "layout": "IPY_MODEL_1d5eb1b5f48e40eb8d4de7df9bbc1889"
      }
     },
     "c87afdbe697b44c18d927f22417e8716": {
      "model_module": "@jupyter-widgets/output",
      "model_module_version": "1.0.0",
      "model_name": "OutputModel",
      "state": {
       "layout": "IPY_MODEL_894f008d52614f89aa59300d43a04a14"
      }
     },
     "c8baf7fe1b974077b9d210eb04b30923": {
      "model_module": "@jupyter-widgets/controls",
      "model_module_version": "1.5.0",
      "model_name": "DescriptionStyleModel",
      "state": {
       "description_width": ""
      }
     },
     "c92f1980542d45a79e35028884fde5c6": {
      "model_module": "@jupyter-widgets/controls",
      "model_module_version": "1.5.0",
      "model_name": "DescriptionStyleModel",
      "state": {
       "description_width": ""
      }
     },
     "c94bbd3134144d4f90d5bb719eb891ef": {
      "model_module": "@jupyter-widgets/controls",
      "model_module_version": "1.5.0",
      "model_name": "HBoxModel",
      "state": {
       "children": [
        "IPY_MODEL_d8f61353d7914151adad262efa020482",
        "IPY_MODEL_6998e72745ec4b17a06184a7f926da22"
       ],
       "layout": "IPY_MODEL_5017e72948a54d35a972941d74166544"
      }
     },
     "c979c595a13f45be95ed2a98abec1a8c": {
      "model_module": "@jupyter-widgets/controls",
      "model_module_version": "1.5.0",
      "model_name": "DescriptionStyleModel",
      "state": {
       "description_width": ""
      }
     },
     "c9b04e6b67e64864bec42bf9c40b39a6": {
      "model_module": "@jupyter-widgets/base",
      "model_module_version": "1.2.0",
      "model_name": "LayoutModel",
      "state": {}
     },
     "c9fff8032b704f94a067232242a16505": {
      "model_module": "@jupyter-widgets/base",
      "model_module_version": "1.2.0",
      "model_name": "LayoutModel",
      "state": {}
     },
     "ca554dca91c6458083d0923efe202948": {
      "model_module": "@jupyter-widgets/controls",
      "model_module_version": "1.5.0",
      "model_name": "HTMLModel",
      "state": {
       "layout": "IPY_MODEL_53b91fe6875e4b59848f3d76b4c9b7b8",
       "style": "IPY_MODEL_faa33613247f469288bf266aa8e76ed5",
       "value": "<p>Derived Text</p>"
      }
     },
     "ca7aec08ca2b4ce29aa044451261658e": {
      "model_module": "@jupyter-widgets/base",
      "model_module_version": "1.2.0",
      "model_name": "LayoutModel",
      "state": {
       "align_items": "stretch",
       "border": "dashed 0.2px green",
       "display": "flex",
       "flex_flow": "row",
       "grid_auto_columns": "True",
       "justify_content": "flex-start",
       "width": "100%"
      }
     },
     "cb49b39a9afc498c962b21beb4b5d575": {
      "model_module": "@jupyter-widgets/base",
      "model_module_version": "1.2.0",
      "model_name": "LayoutModel",
      "state": {
       "display": "flex",
       "flex_flow": "row",
       "grid_auto_columns": "False",
       "justify_content": "flex-start",
       "width": "100%"
      }
     },
     "cb8c20beefc14a13b579741afaeea33b": {
      "model_module": "@jupyter-widgets/output",
      "model_module_version": "1.0.0",
      "model_name": "OutputModel",
      "state": {
       "layout": "IPY_MODEL_7857c3fc99dc4418a57dc549d39cf23f"
      }
     },
     "cb94c0985dec47e0b85a3e7aeafdee65": {
      "model_module": "@jupyter-widgets/controls",
      "model_module_version": "1.5.0",
      "model_name": "HTMLModel",
      "state": {
       "layout": "IPY_MODEL_e4ce817e3ca44ed29bc6ab6b52027e3c",
       "style": "IPY_MODEL_c22c39754b1b418ca978231268f8e193",
       "value": "<p>General Description of the Model</p>"
      }
     },
     "cba3fb62dff24d07b8bc9841b585f569": {
      "model_module": "@jupyter-widgets/base",
      "model_module_version": "1.2.0",
      "model_name": "LayoutModel",
      "state": {}
     },
     "cbabc2c8d14942d7872877d2dc42826a": {
      "model_module": "@jupyter-widgets/controls",
      "model_module_version": "1.5.0",
      "model_name": "HTMLModel",
      "state": {
       "layout": "IPY_MODEL_03cfc3484a484918bce557789a8fff0a",
       "style": "IPY_MODEL_3cf95c528c8141d0b1a9cb77d1d2dcb5",
       "value": "<p>fpth_in</p>"
      }
     },
     "cbd6e33db1ea4f2fae9ef57428b88c04": {
      "model_module": "@jupyter-widgets/base",
      "model_module_version": "1.2.0",
      "model_name": "LayoutModel",
      "state": {
       "align_items": "stretch",
       "display": "flex",
       "flex_flow": "row",
       "grid_auto_columns": "True",
       "justify_content": "flex-end",
       "width": "90%"
      }
     },
     "cc0aff5298ef49709ff1486a3375c76c": {
      "model_module": "@jupyter-widgets/base",
      "model_module_version": "1.2.0",
      "model_name": "LayoutModel",
      "state": {}
     },
     "cc4ae4cf4ae64db98fc29a2f9e358b50": {
      "model_module": "@jupyter-widgets/controls",
      "model_module_version": "1.5.0",
      "model_name": "DescriptionStyleModel",
      "state": {
       "description_width": ""
      }
     },
     "cc65f707f7d3400f932f47aeb685b4ef": {
      "model_module": "@jupyter-widgets/controls",
      "model_module_version": "1.5.0",
      "model_name": "DescriptionStyleModel",
      "state": {
       "description_width": ""
      }
     },
     "cc9a1231be7546368f9ae02ccb7e3f6f": {
      "model_module": "@jupyter-widgets/controls",
      "model_module_version": "1.5.0",
      "model_name": "HBoxModel",
      "state": {
       "children": [
        "IPY_MODEL_884b646d5e6f4f0b87e16868fb5f46eb",
        "IPY_MODEL_4dab3217ff0144d0b87bbb0c85baa784"
       ],
       "layout": "IPY_MODEL_124b567e7aa844a6a64fb26592a63f08"
      }
     },
     "cd23a97278f64755a80532985344dfce": {
      "model_module": "@jupyter-widgets/base",
      "model_module_version": "1.2.0",
      "model_name": "LayoutModel",
      "state": {}
     },
     "cd27b67f085d424e854d0fedb6a685f8": {
      "model_module": "@jupyter-widgets/base",
      "model_module_version": "1.2.0",
      "model_name": "LayoutModel",
      "state": {}
     },
     "cd33f81a39ac46e78c66491c5006a801": {
      "model_module": "@jupyter-widgets/controls",
      "model_module_version": "1.5.0",
      "model_name": "HBoxModel",
      "state": {
       "children": [
        "IPY_MODEL_87b1d8c35b0e40e090e00285be3f6c79"
       ],
       "layout": "IPY_MODEL_9c0efd4fede443a28835ffcec633c18e"
      }
     },
     "cd3fdbc5dda844c4934f78596a8c14e5": {
      "model_module": "@jupyter-widgets/base",
      "model_module_version": "1.2.0",
      "model_name": "LayoutModel",
      "state": {}
     },
     "cd59cdb3f4ff4297a5c294855807ab95": {
      "model_module": "@jupyter-widgets/controls",
      "model_module_version": "1.5.0",
      "model_name": "ButtonModel",
      "state": {
       "button_style": "success",
       "description": "save changes",
       "layout": "IPY_MODEL_4245fc125fb54fa79fce05898ed3b515",
       "style": "IPY_MODEL_da6def29054c48d8a14a944853c2eb90"
      }
     },
     "cd79ca08100542eaa2229bff415005db": {
      "model_module": "@jupyter-widgets/controls",
      "model_module_version": "1.5.0",
      "model_name": "HBoxModel",
      "state": {
       "children": [
        "IPY_MODEL_5a7f4ded163f471eaa196fe79dbf19a8",
        "IPY_MODEL_f1917019cc5146dfa7f0b6418e2cf684"
       ],
       "layout": "IPY_MODEL_1d85f15befc34e708c42acbc4e70f05c"
      }
     },
     "cd80166573ee43b28d0bdb2d363f9e79": {
      "model_module": "@jupyter-widgets/controls",
      "model_module_version": "1.5.0",
      "model_name": "ButtonStyleModel",
      "state": {
       "font_weight": "bold"
      }
     },
     "cd97affbf14143598aa5534a883eaa44": {
      "model_module": "@jupyter-widgets/controls",
      "model_module_version": "1.5.0",
      "model_name": "DescriptionStyleModel",
      "state": {
       "description_width": ""
      }
     },
     "ce0fd6f6ad924706aee560b8e6dfece0": {
      "model_module": "@jupyter-widgets/controls",
      "model_module_version": "1.5.0",
      "model_name": "CheckboxModel",
      "state": {
       "disabled": false,
       "layout": "IPY_MODEL_3b61e3431dc44b75b41f740d181fc304",
       "style": "IPY_MODEL_cc65f707f7d3400f932f47aeb685b4ef",
       "value": false
      }
     },
     "ce87575271ae4fb791e4a1562a9126c8": {
      "model_module": "@jupyter-widgets/base",
      "model_module_version": "1.2.0",
      "model_name": "LayoutModel",
      "state": {}
     },
     "ce8b40602f174138a8b379cee3c76961": {
      "model_module": "@jupyter-widgets/controls",
      "model_module_version": "1.5.0",
      "model_name": "ButtonModel",
      "state": {
       "button_style": "success",
       "description": "save changes",
       "layout": "IPY_MODEL_a7e7ff352e144baa8b44e25cd893a04b",
       "style": "IPY_MODEL_d0bf8fbb7adf4b35b6e7e8f27d97455e"
      }
     },
     "ce98b8fa97984a339ebab3500623fd6e": {
      "model_module": "@jupyter-widgets/controls",
      "model_module_version": "1.5.0",
      "model_name": "HBoxModel",
      "state": {
       "children": [
        "IPY_MODEL_bdd34e1e47aa43d79a9246a1807ce237",
        "IPY_MODEL_a7b7e52ee12f4e45800b464a0968d3ab"
       ],
       "layout": "IPY_MODEL_3e01703c302f47f3b515bc4f132a7957"
      }
     },
     "cf599b2314da464db814e4acc6e35fae": {
      "model_module": "@jupyter-widgets/output",
      "model_module_version": "1.0.0",
      "model_name": "OutputModel",
      "state": {
       "layout": "IPY_MODEL_14eea55eca2643de80ad18b98926ccae"
      }
     },
     "cfdb647ac5674f589e383cf398640b57": {
      "model_module": "@jupyter-widgets/base",
      "model_module_version": "1.2.0",
      "model_name": "LayoutModel",
      "state": {}
     },
     "d00b5e72556f4930b86b4a631e82a182": {
      "model_module": "@jupyter-widgets/controls",
      "model_module_version": "1.5.0",
      "model_name": "DescriptionStyleModel",
      "state": {
       "description_width": ""
      }
     },
     "d00f8cd6c9f543da841e517c724edc3b": {
      "model_module": "@jupyter-widgets/controls",
      "model_module_version": "1.5.0",
      "model_name": "DescriptionStyleModel",
      "state": {
       "description_width": ""
      }
     },
     "d01dd07a4c03412894ba10779ace702d": {
      "model_module": "@jupyter-widgets/base",
      "model_module_version": "1.2.0",
      "model_name": "LayoutModel",
      "state": {
       "align_items": "stretch",
       "display": "flex",
       "flex_flow": "row",
       "grid_auto_columns": "True",
       "justify_content": "flex-end",
       "width": "90%"
      }
     },
     "d03b0bfae19b4fe5b2e1244a79366fd9": {
      "model_module": "@jupyter-widgets/controls",
      "model_module_version": "1.5.0",
      "model_name": "CheckboxModel",
      "state": {
       "disabled": false,
       "indent": false,
       "layout": "IPY_MODEL_b18d1934c4b34d39b2df4904265bc2e0",
       "style": "IPY_MODEL_a549c2ee152642f2ad374d920b73e8af",
       "value": false
      }
     },
     "d077c4157439496da635a4b1b1a85829": {
      "model_module": "@jupyter-widgets/base",
      "model_module_version": "1.2.0",
      "model_name": "LayoutModel",
      "state": {
       "align_items": "stretch",
       "display": "flex",
       "flex_flow": "row",
       "grid_auto_columns": "True",
       "justify_content": "flex-start",
       "width": "80%"
      }
     },
     "d07b020f5c2447fa9d6acd9074559b12": {
      "model_module": "@jupyter-widgets/base",
      "model_module_version": "1.2.0",
      "model_name": "LayoutModel",
      "state": {}
     },
     "d08479e6c49e4f2aa4138bae94e9f076": {
      "model_module": "@jupyter-widgets/controls",
      "model_module_version": "1.5.0",
      "model_name": "HBoxModel",
      "state": {
       "children": [
        "IPY_MODEL_8696f101232e490dac144a61720a5fe4",
        "IPY_MODEL_c095f11e826a4ab597a4494bd98e8515"
       ],
       "layout": "IPY_MODEL_633224e769c6456a9acb3042fda62627"
      }
     },
     "d0bf8fbb7adf4b35b6e7e8f27d97455e": {
      "model_module": "@jupyter-widgets/controls",
      "model_module_version": "1.5.0",
      "model_name": "ButtonStyleModel",
      "state": {
       "font_weight": "bold"
      }
     },
     "d155dbb3437e40deb61d1d079d1ae47b": {
      "model_module": "@jupyter-widgets/controls",
      "model_module_version": "1.5.0",
      "model_name": "HBoxModel",
      "state": {
       "children": [
        "IPY_MODEL_9e6fd1703331408ba6bf6af177ec7358",
        "IPY_MODEL_eeca5034d84a4159830f8399ea1f1cb4"
       ],
       "layout": "IPY_MODEL_2b46f6ad8bc7487899adf0a210c41fd1"
      }
     },
     "d170d4086b0f4bc4a0753ef86b819067": {
      "model_module": "@jupyter-widgets/controls",
      "model_module_version": "1.5.0",
      "model_name": "ButtonModel",
      "state": {
       "button_style": "success",
       "description": "run",
       "layout": "IPY_MODEL_b913c6d06d724ac9827483c30ef27929",
       "style": "IPY_MODEL_08e7a21ce63d419a8a46fc8f8b668636",
       "tooltip": "execute the script based on the user inputs"
      }
     },
     "d18f546cfa84452d8bfba7c81da8db6d": {
      "model_module": "@jupyter-widgets/controls",
      "model_module_version": "1.5.0",
      "model_name": "ButtonModel",
      "state": {
       "icon": "eye-slash",
       "layout": "IPY_MODEL_d467a5899c6a413491d96fcd4ecd62a2",
       "style": "IPY_MODEL_1597fc07b3a34a3c97a5fcef2776a91d",
       "tooltip": "removes temporary output view"
      }
     },
     "d1f2c14e89544e41b003ce5018d2d8cc": {
      "model_module": "@jupyter-widgets/controls",
      "model_module_version": "1.5.0",
      "model_name": "FloatTextModel",
      "state": {
       "layout": "IPY_MODEL_c9fff8032b704f94a067232242a16505",
       "step": null,
       "style": "IPY_MODEL_53e2115fd12043459e899680555df217",
       "value": 16
      }
     },
     "d1f50320d78f414bb2a23c60fda917ed": {
      "model_module": "@jupyter-widgets/base",
      "model_module_version": "1.2.0",
      "model_name": "LayoutModel",
      "state": {}
     },
     "d1fdb08e8b944accac2b7c30c03c1971": {
      "model_module": "@jupyter-widgets/controls",
      "model_module_version": "1.5.0",
      "model_name": "HBoxModel",
      "state": {
       "children": [
        "IPY_MODEL_b1fb99ac020a474b9e7c8f49bdf50d85",
        "IPY_MODEL_e033c574d7f3455088f98739a6e9e4aa"
       ],
       "layout": "IPY_MODEL_45b9c8c8d7744b1598279db9c9811c76"
      }
     },
     "d249cccc40e04f83892d383fea225927": {
      "model_module": "@jupyter-widgets/base",
      "model_module_version": "1.2.0",
      "model_name": "LayoutModel",
      "state": {}
     },
     "d28c8f92437e4acba39745af3474a6f9": {
      "model_module": "@jupyter-widgets/base",
      "model_module_version": "1.2.0",
      "model_name": "LayoutModel",
      "state": {}
     },
     "d2c873a1f746455bb9ce0ecb7825fd1a": {
      "model_module": "@jupyter-widgets/controls",
      "model_module_version": "1.5.0",
      "model_name": "DescriptionStyleModel",
      "state": {
       "description_width": ""
      }
     },
     "d2e102bab8b8401f9bdb5550c3bd123e": {
      "model_module": "@jupyter-widgets/controls",
      "model_module_version": "1.5.0",
      "model_name": "HTMLModel",
      "state": {
       "layout": "IPY_MODEL_3e9196030d9e4d45ad503fa13cb66c6d",
       "style": "IPY_MODEL_8155a7e7f5594c8587aa5224b75dec8a",
       "value": "<p>name</p>"
      }
     },
     "d30b7a81b08940c58bdef6d2a46b97a6": {
      "model_module": "@jupyter-widgets/controls",
      "model_module_version": "1.5.0",
      "model_name": "HTMLModel",
      "state": {
       "layout": "IPY_MODEL_4ec381e818f741579cb06d17470e085b",
       "style": "IPY_MODEL_50ac7ae9a9024eb1aa5ae1e0a005f456",
       "value": "<p>its a foo cake</p>"
      }
     },
     "d3161368bb90432c82e13b3c974cfd95": {
      "model_module": "@jupyter-widgets/controls",
      "model_module_version": "1.5.0",
      "model_name": "HBoxModel",
      "state": {
       "children": [
        "IPY_MODEL_fb68d29cc70a4e2aa009325c7e99241a"
       ],
       "layout": "IPY_MODEL_9d14798ccab447feb8792f373aa7d409"
      }
     },
     "d35abc036af04f229a7dff3e37f0571d": {
      "model_module": "@jupyter-widgets/base",
      "model_module_version": "1.2.0",
      "model_name": "LayoutModel",
      "state": {}
     },
     "d3612115ca1148ea86ec1a80955833c0": {
      "model_module": "@jupyter-widgets/controls",
      "model_module_version": "1.5.0",
      "model_name": "DescriptionStyleModel",
      "state": {
       "description_width": ""
      }
     },
     "d3681eec5e8c4c17bc9469b515c84556": {
      "model_module": "@jupyter-widgets/controls",
      "model_module_version": "1.5.0",
      "model_name": "DescriptionStyleModel",
      "state": {
       "description_width": ""
      }
     },
     "d369c523e54a4effad2982877f1e422e": {
      "model_module": "@jupyter-widgets/controls",
      "model_module_version": "1.5.0",
      "model_name": "DescriptionStyleModel",
      "state": {
       "description_width": ""
      }
     },
     "d3769369d502406a8613e16248e62947": {
      "model_module": "@jupyter-widgets/controls",
      "model_module_version": "1.5.0",
      "model_name": "HTMLModel",
      "state": {
       "layout": "IPY_MODEL_08c51ac57bd44a9ead1d5697346d37d4",
       "style": "IPY_MODEL_e11881c232ac4600842b2a061c3f61e5",
       "value": "<p>input docx filepath</p>"
      }
     },
     "d379dc411032400ea3306154fea83b23": {
      "model_module": "@jupyter-widgets/controls",
      "model_module_version": "1.5.0",
      "model_name": "DescriptionStyleModel",
      "state": {
       "description_width": ""
      }
     },
     "d42325ce0cf843fa823b088c340cebd4": {
      "model_module": "@jupyter-widgets/base",
      "model_module_version": "1.2.0",
      "model_name": "LayoutModel",
      "state": {
       "align_items": "stretch",
       "display": "flex",
       "flex_flow": "row",
       "grid_auto_columns": "True",
       "justify_content": "flex-end",
       "width": "90%"
      }
     },
     "d467a5899c6a413491d96fcd4ecd62a2": {
      "model_module": "@jupyter-widgets/base",
      "model_module_version": "1.2.0",
      "model_name": "LayoutModel",
      "state": {
       "width": "5%"
      }
     },
     "d4d59d4346bf4b64a7e049a49ac5c673": {
      "model_module": "@jupyter-widgets/controls",
      "model_module_version": "1.5.0",
      "model_name": "HTMLModel",
      "state": {
       "layout": "IPY_MODEL_fd277f5eccdc4d45827486daf5babdb2",
       "style": "IPY_MODEL_3c0406da335e437c849068a253fb993f",
       "value": "<p>reous foo ous foo st</p>"
      }
     },
     "d4e49127c0214267976a538acd6093c8": {
      "model_module": "@jupyter-widgets/base",
      "model_module_version": "1.2.0",
      "model_name": "LayoutModel",
      "state": {
       "align_items": "stretch",
       "border": "dashed 0.2px green",
       "display": "flex",
       "flex_flow": "row",
       "grid_auto_columns": "True",
       "justify_content": "flex-start",
       "width": "100%"
      }
     },
     "d50048239b8c417a9cfb398ed792ec75": {
      "model_module": "@jupyter-widgets/controls",
      "model_module_version": "1.5.0",
      "model_name": "HBoxModel",
      "state": {
       "children": [
        "IPY_MODEL_fca261456dd84de3aaa517adc8932ea4",
        "IPY_MODEL_649b38bc6d6347619be20ea568241cda"
       ],
       "layout": "IPY_MODEL_e2b2bf9892b94283886b9162e988f462"
      }
     },
     "d56a7e07ecfa49f794135dbc7b4d9c91": {
      "model_module": "@jupyter-widgets/controls",
      "model_module_version": "1.5.0",
      "model_name": "HTMLModel",
      "state": {
       "layout": "IPY_MODEL_64954ffccec441f6810b6f573d487da1",
       "style": "IPY_MODEL_a7b82a3b179a4a4fbb7c8516d3e7ce4f",
       "value": "<p>label</p>"
      }
     },
     "d61fb1718c344abba120d32795e46fb5": {
      "model_module": "@jupyter-widgets/controls",
      "model_module_version": "1.5.0",
      "model_name": "DescriptionStyleModel",
      "state": {
       "description_width": ""
      }
     },
     "d638cb163b8243d6adaf7e11a712edaf": {
      "model_module": "@jupyter-widgets/base",
      "model_module_version": "1.2.0",
      "model_name": "LayoutModel",
      "state": {}
     },
     "d6618787c18644b1ad03b59a6683d5e8": {
      "model_module": "@jupyter-widgets/controls",
      "model_module_version": "1.5.0",
      "model_name": "HBoxModel",
      "state": {
       "children": [
        "IPY_MODEL_9d6fbc42c82340dcb308d4dcef1016a9",
        "IPY_MODEL_543520aadc5f41e0a75e3963cdf07ea2"
       ],
       "layout": "IPY_MODEL_fa3731a8cae04583a138ad7b242ec3a5"
      }
     },
     "d68cf73ea0f649f9a20e183286af2c56": {
      "model_module": "@jupyter-widgets/controls",
      "model_module_version": "1.5.0",
      "model_name": "TextModel",
      "state": {
       "layout": "IPY_MODEL_e7fb66da77954b9b94a023bef2ca5985",
       "style": "IPY_MODEL_ac54634fc1b34db993346a85081a0720",
       "value": "2"
      }
     },
     "d6eaaa103ce84fd98f2e3765a3622411": {
      "model_module": "@jupyter-widgets/base",
      "model_module_version": "1.2.0",
      "model_name": "LayoutModel",
      "state": {
       "align_items": "stretch",
       "display": "flex",
       "flex_flow": "row",
       "grid_auto_columns": "True",
       "justify_content": "flex-start",
       "width": "80%"
      }
     },
     "d71460f6a6174ffaa37b85318035d46c": {
      "model_module": "@jupyter-widgets/base",
      "model_module_version": "1.2.0",
      "model_name": "LayoutModel",
      "state": {}
     },
     "d74faa729dca4a098f8841bf3fdcf535": {
      "model_module": "@jupyter-widgets/controls",
      "model_module_version": "1.5.0",
      "model_name": "TextModel",
      "state": {
       "layout": "IPY_MODEL_129ad7aa395349778c38b5e37061617f",
       "style": "IPY_MODEL_8779f331327b4877ad3f12af8df36324",
       "value": "YY-OverheatingAnalysis"
      }
     },
     "d75d578894df4371be21a7f039c4be8d": {
      "model_module": "@jupyter-widgets/controls",
      "model_module_version": "1.5.0",
      "model_name": "HTMLModel",
      "state": {
       "layout": "IPY_MODEL_16415a2349e34b51a731c77c642fe279",
       "style": "IPY_MODEL_7e1f09a6e49341d2800c8239e9821a02",
       "value": "<p>reous foo ous foo st</p>"
      }
     },
     "d785f95f044f470bbec19e8fd5093332": {
      "model_module": "@jupyter-widgets/base",
      "model_module_version": "1.2.0",
      "model_name": "LayoutModel",
      "state": {}
     },
     "d79a2245de60411eb98b4241a71a340a": {
      "model_module": "@jupyter-widgets/controls",
      "model_module_version": "1.5.0",
      "model_name": "HTMLModel",
      "state": {
       "layout": "IPY_MODEL_b8eb81d96d9b47dfb3603c4661b3843e",
       "style": "IPY_MODEL_869da2ab56f64fdfa6c08d2c6a2e23d0",
       "value": "<p>reous foo ous foo st</p>"
      }
     },
     "d7ab111af47547699cfc60e9222c5d34": {
      "model_module": "@jupyter-widgets/controls",
      "model_module_version": "1.5.0",
      "model_name": "DescriptionStyleModel",
      "state": {
       "description_width": ""
      }
     },
     "d7c8ba28fd4b4651b8ebcc2d2f4b7d89": {
      "model_module": "@jupyter-widgets/controls",
      "model_module_version": "1.5.0",
      "model_name": "DescriptionStyleModel",
      "state": {
       "description_width": ""
      }
     },
     "d7da7a4bc9b14707899193bece07603d": {
      "model_module": "@jupyter-widgets/controls",
      "model_module_version": "1.5.0",
      "model_name": "DescriptionStyleModel",
      "state": {
       "description_width": ""
      }
     },
     "d7e880a2945e4b3db2d23b8ee9ace39b": {
      "model_module": "@jupyter-widgets/base",
      "model_module_version": "1.2.0",
      "model_name": "LayoutModel",
      "state": {}
     },
     "d7f3236ae60b4f0c94c1b0b4338a714e": {
      "model_module": "@jupyter-widgets/controls",
      "model_module_version": "1.5.0",
      "model_name": "ButtonStyleModel",
      "state": {
       "font_weight": "bold"
      }
     },
     "d804476e6d08479c98dacc0a10e4e094": {
      "model_module": "@jupyter-widgets/base",
      "model_module_version": "1.2.0",
      "model_name": "LayoutModel",
      "state": {
       "align_items": "stretch",
       "display": "flex",
       "flex_flow": "row",
       "grid_auto_columns": "True",
       "justify_content": "flex-start",
       "width": "80%"
      }
     },
     "d811e8212a2d44e2bdc53f80884325a5": {
      "model_module": "@jupyter-widgets/base",
      "model_module_version": "1.2.0",
      "model_name": "LayoutModel",
      "state": {}
     },
     "d842e7e251a64b1a99d5e161b80c1d58": {
      "model_module": "@jupyter-widgets/base",
      "model_module_version": "1.2.0",
      "model_name": "LayoutModel",
      "state": {}
     },
     "d8d2d89da5f04771bf9a4d77276dd047": {
      "model_module": "@jupyter-widgets/base",
      "model_module_version": "1.2.0",
      "model_name": "LayoutModel",
      "state": {}
     },
     "d8df4ab91151404b923d2f1a67547230": {
      "model_module": "@jupyter-widgets/base",
      "model_module_version": "1.2.0",
      "model_name": "LayoutModel",
      "state": {}
     },
     "d8e8f295c90a4986a90f02761f44deaf": {
      "model_module": "@jupyter-widgets/base",
      "model_module_version": "1.2.0",
      "model_name": "LayoutModel",
      "state": {}
     },
     "d8f61353d7914151adad262efa020482": {
      "model_module": "@jupyter-widgets/controls",
      "model_module_version": "1.5.0",
      "model_name": "ToggleButtonModel",
      "state": {
       "icon": "arrow-down",
       "layout": "IPY_MODEL_e111ec52342441fe91234657390e34db",
       "style": "IPY_MODEL_cc4ae4cf4ae64db98fc29a2f9e358b50"
      }
     },
     "d900ba2b55f24f069066205b70d9435b": {
      "model_module": "@jupyter-widgets/base",
      "model_module_version": "1.2.0",
      "model_name": "LayoutModel",
      "state": {}
     },
     "d90e68e2dd024d29b6fa0e3e3311bb64": {
      "model_module": "@jupyter-widgets/controls",
      "model_module_version": "1.5.0",
      "model_name": "DescriptionStyleModel",
      "state": {
       "description_width": ""
      }
     },
     "d923c2a121b1462b8ce381799fb65bde": {
      "model_module": "@jupyter-widgets/controls",
      "model_module_version": "1.5.0",
      "model_name": "HBoxModel",
      "state": {
       "children": [
        "IPY_MODEL_5ccc3bbfea8b49cd897d48ea92f2f974",
        "IPY_MODEL_4866c0228c3548899993cd76901a1037"
       ],
       "layout": "IPY_MODEL_d969471bd8b144b1ab9b2383aa2d8ded"
      }
     },
     "d92ab03fd3b94499a4a3464ec30acfb3": {
      "model_module": "@jupyter-widgets/controls",
      "model_module_version": "1.5.0",
      "model_name": "DescriptionStyleModel",
      "state": {
       "description_width": ""
      }
     },
     "d95d361c0f51412fbabf2b197ab832ed": {
      "model_module": "@jupyter-widgets/controls",
      "model_module_version": "1.5.0",
      "model_name": "DescriptionStyleModel",
      "state": {
       "description_width": ""
      }
     },
     "d969471bd8b144b1ab9b2383aa2d8ded": {
      "model_module": "@jupyter-widgets/base",
      "model_module_version": "1.2.0",
      "model_name": "LayoutModel",
      "state": {
       "align_items": "stretch",
       "display": "flex",
       "flex_flow": "row",
       "grid_auto_columns": "True",
       "justify_content": "flex-end",
       "width": "90%"
      }
     },
     "d96cf3747a6241ce9b2f89d4f1fe8b6e": {
      "model_module": "@jupyter-widgets/controls",
      "model_module_version": "1.5.0",
      "model_name": "HBoxModel",
      "state": {
       "children": [
        "IPY_MODEL_a73ba7f4dc8743db93bb1c25bcd1eec1",
        "IPY_MODEL_de2d71a2358d478999ca5141f894455a"
       ],
       "layout": "IPY_MODEL_4dba5bd4cebb430bbd64a138df8c7183"
      }
     },
     "d99ec6cf5d114358a146b87ae17ac034": {
      "model_module": "@jupyter-widgets/base",
      "model_module_version": "1.2.0",
      "model_name": "LayoutModel",
      "state": {}
     },
     "d9d57f556e474c8fbc9f117a9e4c35c4": {
      "model_module": "@jupyter-widgets/controls",
      "model_module_version": "1.5.0",
      "model_name": "HBoxModel",
      "state": {
       "children": [
        "IPY_MODEL_3e6c749434a846e081da67c836fce74c",
        "IPY_MODEL_5bcb56cd96d34dd5b2bb89204b6f2340"
       ],
       "layout": "IPY_MODEL_f071c3bab74b4cb2aec2ef2a3b9f9026"
      }
     },
     "d9e7404bf68349e49911b6e809579ad4": {
      "model_module": "@jupyter-widgets/controls",
      "model_module_version": "1.5.0",
      "model_name": "DescriptionStyleModel",
      "state": {
       "description_width": ""
      }
     },
     "d9f4147f7814407c9eaa49bd2cc26473": {
      "model_module": "@jupyter-widgets/controls",
      "model_module_version": "1.5.0",
      "model_name": "FloatTextModel",
      "state": {
       "layout": "IPY_MODEL_f289a69f5e904f9da71c3f3568ce60f9",
       "step": null,
       "style": "IPY_MODEL_f768093ae772498a9996b3f9a37ee903",
       "value": 16
      }
     },
     "da0ecf37c1614c23b9de2ce111f75b47": {
      "model_module": "@jupyter-widgets/controls",
      "model_module_version": "1.5.0",
      "model_name": "HBoxModel",
      "state": {
       "children": [
        "IPY_MODEL_bf184c79458d422cbf0de8773f8c57e5",
        "IPY_MODEL_0d7300344d11487e9bcd6f2aeee14bf4"
       ],
       "layout": "IPY_MODEL_9830beca662b4464b80ad5ee2d4a1f87"
      }
     },
     "da2a034f9ceb4777b0097d8e59a86628": {
      "model_module": "@jupyter-widgets/base",
      "model_module_version": "1.2.0",
      "model_name": "LayoutModel",
      "state": {
       "align_items": "stretch",
       "display": "flex",
       "flex_flow": "row",
       "grid_auto_columns": "True",
       "justify_content": "flex-start",
       "width": "80%"
      }
     },
     "da6def29054c48d8a14a944853c2eb90": {
      "model_module": "@jupyter-widgets/controls",
      "model_module_version": "1.5.0",
      "model_name": "ButtonStyleModel",
      "state": {
       "font_weight": "bold"
      }
     },
     "daa12cd6474545edb1af1223a427b475": {
      "model_module": "@jupyter-widgets/base",
      "model_module_version": "1.2.0",
      "model_name": "LayoutModel",
      "state": {}
     },
     "db273ca942a94baa938b25f4eaa60357": {
      "model_module": "@jupyter-widgets/controls",
      "model_module_version": "1.5.0",
      "model_name": "HTMLModel",
      "state": {
       "layout": "IPY_MODEL_78ca8b30cf8f4d9582ae67d55b3a1f4e",
       "style": "IPY_MODEL_b4899a2031d24732b861221b87257295",
       "value": "<p>fus foo ous o</p>"
      }
     },
     "db322b67c8cd4466b0e146b6437d16f2": {
      "model_module": "@jupyter-widgets/controls",
      "model_module_version": "1.5.0",
      "model_name": "VBoxModel",
      "state": {
       "children": [
        "IPY_MODEL_c2eac9aed15644ab8e4287f015ed410a",
        "IPY_MODEL_4a68b6496eb543499768167f290a2261",
        "IPY_MODEL_d3161368bb90432c82e13b3c974cfd95",
        "IPY_MODEL_2af49f3411684c43b05b2b1098e8c48e",
        "IPY_MODEL_e266c0f5f023457dbbf9f345c47db974",
        "IPY_MODEL_c20de65566154c0fb224f2f980d30794",
        "IPY_MODEL_684542faeefe4e6691ee0267cd782095",
        "IPY_MODEL_7ce7391f8d004f2abc923b00ffc57cdd"
       ],
       "layout": "IPY_MODEL_8ba8c945e77743b1b0ec846716ba55f1"
      }
     },
     "dbc4ac2cfcaa4b12a7f9833226251d57": {
      "model_module": "@jupyter-widgets/base",
      "model_module_version": "1.2.0",
      "model_name": "LayoutModel",
      "state": {
       "display": "flex",
       "flex_flow": "row",
       "grid_auto_columns": "False",
       "justify_content": "flex-start",
       "width": "100%"
      }
     },
     "dbc6989d2c2c44bf92aa9d18ed3c24d5": {
      "model_module": "@jupyter-widgets/base",
      "model_module_version": "1.2.0",
      "model_name": "LayoutModel",
      "state": {
       "align_items": "stretch",
       "display": "flex",
       "flex_flow": "row",
       "grid_auto_columns": "True",
       "justify_content": "flex-start",
       "width": "80%"
      }
     },
     "dbfa8237eab84d689932961593a7c3e2": {
      "model_module": "@jupyter-widgets/base",
      "model_module_version": "1.2.0",
      "model_name": "LayoutModel",
      "state": {
       "align_items": "stretch",
       "border": "dashed 0.2px green",
       "display": "flex",
       "flex_flow": "row",
       "grid_auto_columns": "True",
       "justify_content": "flex-start",
       "width": "100%"
      }
     },
     "dc40c8ee20194a58a5fd50f79efd612f": {
      "model_module": "@jupyter-widgets/base",
      "model_module_version": "1.2.0",
      "model_name": "LayoutModel",
      "state": {}
     },
     "dc46f85c44c7451c8cfe4cc7c7904604": {
      "model_module": "@jupyter-widgets/base",
      "model_module_version": "1.2.0",
      "model_name": "LayoutModel",
      "state": {
       "align_items": "stretch",
       "border": "dashed 0.2px green",
       "display": "flex",
       "flex_flow": "row",
       "grid_auto_columns": "True",
       "justify_content": "flex-start",
       "width": "100%"
      }
     },
     "dc50d64db71648f5b932a048a5c1265b": {
      "model_module": "@jupyter-widgets/controls",
      "model_module_version": "1.5.0",
      "model_name": "DescriptionStyleModel",
      "state": {
       "description_width": ""
      }
     },
     "dc51c2d6e8cf492fa31d5018233ed839": {
      "model_module": "@jupyter-widgets/base",
      "model_module_version": "1.2.0",
      "model_name": "LayoutModel",
      "state": {
       "align_items": "stretch",
       "display": "flex",
       "flex_flow": "row",
       "grid_auto_columns": "True",
       "justify_content": "flex-start",
       "width": "80%"
      }
     },
     "dc5b42299c6a4a448cbe9e41194c5aed": {
      "model_module": "@jupyter-widgets/base",
      "model_module_version": "1.2.0",
      "model_name": "LayoutModel",
      "state": {
       "align_items": "stretch",
       "display": "flex",
       "flex_flow": "row",
       "grid_auto_columns": "True",
       "justify_content": "flex-end",
       "width": "90%"
      }
     },
     "dc9f59d58b8e461c9fb2cff6ec0d310d": {
      "model_module": "@jupyter-widgets/controls",
      "model_module_version": "1.5.0",
      "model_name": "ButtonModel",
      "state": {
       "button_style": "warning",
       "description": "revert to last save",
       "layout": "IPY_MODEL_97cd39cc4a4e4c55bdb8e6be0bc0db44",
       "style": "IPY_MODEL_9229e92e2d804945853023b2adf8f4d0"
      }
     },
     "dcb6861a335946239bfdf416cb9417d7": {
      "model_module": "@jupyter-widgets/controls",
      "model_module_version": "1.5.0",
      "model_name": "HBoxModel",
      "state": {
       "children": [
        "IPY_MODEL_204419ae218b4b679738c0b9a55ab5d3"
       ],
       "layout": "IPY_MODEL_9008d122b1ed4a86a7558922bf2e6648"
      }
     },
     "dcca2d8f5a9342df97f0f13401a302dc": {
      "model_module": "@jupyter-widgets/output",
      "model_module_version": "1.0.0",
      "model_name": "OutputModel",
      "state": {
       "layout": "IPY_MODEL_c0ab3a9369224881a3922ec4de9a3de1"
      }
     },
     "dd1cfb2f31644463933a0968144dd76c": {
      "model_module": "@jupyter-widgets/controls",
      "model_module_version": "1.5.0",
      "model_name": "DescriptionStyleModel",
      "state": {
       "description_width": ""
      }
     },
     "dd5616e91e95443681c1e5342e5d9932": {
      "model_module": "@jupyter-widgets/base",
      "model_module_version": "1.2.0",
      "model_name": "LayoutModel",
      "state": {}
     },
     "dd5a9825ece94792847936e12fa65ce1": {
      "model_module": "@jupyter-widgets/output",
      "model_module_version": "1.0.0",
      "model_name": "OutputModel",
      "state": {
       "layout": "IPY_MODEL_749fe5b3d57a47439f35b19a52914bcb"
      }
     },
     "dd607566bf204363bc9a03c0ae649608": {
      "model_module": "@jupyter-widgets/controls",
      "model_module_version": "1.5.0",
      "model_name": "SliderStyleModel",
      "state": {
       "description_width": ""
      }
     },
     "ddce1d3029084a73ad3da83d4c9ca583": {
      "model_module": "@jupyter-widgets/controls",
      "model_module_version": "1.5.0",
      "model_name": "HBoxModel",
      "state": {
       "children": [
        "IPY_MODEL_ddd3aabbe507463ba1fd89ae95aca729",
        "IPY_MODEL_019bfbc8414e4feea91386fe35d8417e"
       ],
       "layout": "IPY_MODEL_f05e2f45bfbe4cb286b043bcd5556d5a"
      }
     },
     "ddd3aabbe507463ba1fd89ae95aca729": {
      "model_module": "@jupyter-widgets/controls",
      "model_module_version": "1.5.0",
      "model_name": "HTMLModel",
      "state": {
       "layout": "IPY_MODEL_e20bd7300ab74bdc90965703143902ac",
       "style": "IPY_MODEL_98f0716a03bd407695ad13baa1120015",
       "value": "<p>reus foo ous oo ous foo st</p>"
      }
     },
     "ddfb608efc014e478d610e7513f7262e": {
      "model_module": "@jupyter-widgets/output",
      "model_module_version": "1.0.0",
      "model_name": "OutputModel",
      "state": {
       "layout": "IPY_MODEL_d785f95f044f470bbec19e8fd5093332"
      }
     },
     "ddfd8f718aa64090bd6aa8a7c76e5272": {
      "model_module": "@jupyter-widgets/controls",
      "model_module_version": "1.5.0",
      "model_name": "DescriptionStyleModel",
      "state": {
       "description_width": ""
      }
     },
     "de202a9044c44c3eb209b68aaa9df917": {
      "model_module": "@jupyter-widgets/base",
      "model_module_version": "1.2.0",
      "model_name": "LayoutModel",
      "state": {
       "align_items": "stretch",
       "display": "flex",
       "flex_flow": "row",
       "grid_auto_columns": "True",
       "justify_content": "flex-end",
       "width": "90%"
      }
     },
     "de2c328f538545b68dda7c6d908fa63b": {
      "model_module": "@jupyter-widgets/base",
      "model_module_version": "1.2.0",
      "model_name": "LayoutModel",
      "state": {
       "align_items": "stretch",
       "display": "flex",
       "flex_flow": "row",
       "grid_auto_columns": "True",
       "justify_content": "flex-start",
       "width": "80%"
      }
     },
     "de2d71a2358d478999ca5141f894455a": {
      "model_module": "@jupyter-widgets/controls",
      "model_module_version": "1.5.0",
      "model_name": "HBoxModel",
      "state": {
       "children": [
        "IPY_MODEL_27b1f6091801480c955fc8b89a9ca56f",
        "IPY_MODEL_e56561175a594189ae21f86e14f19c8d"
       ],
       "layout": "IPY_MODEL_a10f76b929e34b6a94a263553c23a6b6"
      }
     },
     "def317b3f7cc4e2984c87bf1158e805c": {
      "model_module": "@jupyter-widgets/controls",
      "model_module_version": "1.5.0",
      "model_name": "TextareaModel",
      "state": {
       "layout": "IPY_MODEL_fd4614be6ad74c2d9b1cb12046b51d58",
       "style": "IPY_MODEL_4b71279087f94f6ca0701fbd401773b0",
       "value": "asdfasdf"
      }
     },
     "df4140e3e3b7468fb88faa36d90b24c1": {
      "model_module": "@jupyter-widgets/base",
      "model_module_version": "1.2.0",
      "model_name": "LayoutModel",
      "state": {
       "display": "flex",
       "flex_flow": "row",
       "grid_auto_columns": "False",
       "justify_content": "flex-start",
       "width": "100%"
      }
     },
     "df4fe0fbb9d04409acb0239f12a7c03f": {
      "model_module": "@jupyter-widgets/base",
      "model_module_version": "1.2.0",
      "model_name": "LayoutModel",
      "state": {}
     },
     "e033c574d7f3455088f98739a6e9e4aa": {
      "model_module": "@jupyter-widgets/controls",
      "model_module_version": "1.5.0",
      "model_name": "HTMLModel",
      "state": {
       "layout": "IPY_MODEL_20837cb2bae048ab9380b51f37f947c5",
       "style": "IPY_MODEL_518f5eed911f41978401c4335ab2a0fd",
       "value": "<p>its a foo cake</p>"
      }
     },
     "e0380d00ed6b4fe0b93e778457dfea68": {
      "model_module": "@jupyter-widgets/controls",
      "model_module_version": "1.5.0",
      "model_name": "TextareaModel",
      "state": {
       "layout": "IPY_MODEL_c5c38273657b41aca21eefb6a8fa1b1a",
       "style": "IPY_MODEL_1cd9378fc98b45abb639ec6fcec1d4f1"
      }
     },
     "e08846ab005148958c1da0f547522f95": {
      "model_module": "@jupyter-widgets/base",
      "model_module_version": "1.2.0",
      "model_name": "LayoutModel",
      "state": {}
     },
     "e08e53a7dfde485c8a14cf2c4bcc0566": {
      "model_module": "@jupyter-widgets/controls",
      "model_module_version": "1.5.0",
      "model_name": "DescriptionStyleModel",
      "state": {
       "description_width": ""
      }
     },
     "e0a2c5b4c633457b900d1feb5931f411": {
      "model_module": "@jupyter-widgets/base",
      "model_module_version": "1.2.0",
      "model_name": "LayoutModel",
      "state": {
       "align_items": "stretch",
       "display": "flex",
       "flex_flow": "row",
       "grid_auto_columns": "True",
       "justify_content": "flex-start",
       "width": "80%"
      }
     },
     "e0c3a01231314446bf92ed3f885797cc": {
      "model_module": "@jupyter-widgets/controls",
      "model_module_version": "1.5.0",
      "model_name": "HBoxModel",
      "state": {
       "children": [
        "IPY_MODEL_030c74e4800e4fcb9a10f89b63298808",
        "IPY_MODEL_4bcbfcb0a7264cb2a7ce6e6617501be9"
       ],
       "layout": "IPY_MODEL_6f22f950b4e84158b90e6fbd26b6e92a"
      }
     },
     "e111ec52342441fe91234657390e34db": {
      "model_module": "@jupyter-widgets/base",
      "model_module_version": "1.2.0",
      "model_name": "LayoutModel",
      "state": {}
     },
     "e11881c232ac4600842b2a061c3f61e5": {
      "model_module": "@jupyter-widgets/controls",
      "model_module_version": "1.5.0",
      "model_name": "DescriptionStyleModel",
      "state": {
       "description_width": ""
      }
     },
     "e15369624e1740908fe98359394703ed": {
      "model_module": "@jupyter-widgets/base",
      "model_module_version": "1.2.0",
      "model_name": "LayoutModel",
      "state": {}
     },
     "e16bb51de52943739927691f95211f83": {
      "model_module": "@jupyter-widgets/base",
      "model_module_version": "1.2.0",
      "model_name": "LayoutModel",
      "state": {}
     },
     "e1ac43725c834673b6b8fab36873bb3b": {
      "model_module": "@jupyter-widgets/controls",
      "model_module_version": "1.5.0",
      "model_name": "HBoxModel",
      "state": {
       "children": [
        "IPY_MODEL_da0ecf37c1614c23b9de2ce111f75b47"
       ],
       "layout": "IPY_MODEL_4037ea21548748f59f9717395add6601"
      }
     },
     "e1beb3932d574d008da21c713f7933b1": {
      "model_module": "@jupyter-widgets/controls",
      "model_module_version": "1.5.0",
      "model_name": "DescriptionStyleModel",
      "state": {
       "description_width": ""
      }
     },
     "e1d1947f09b046e4baa341ba2f97ac23": {
      "model_module": "@jupyter-widgets/controls",
      "model_module_version": "1.5.0",
      "model_name": "HBoxModel",
      "state": {
       "children": [
        "IPY_MODEL_2e5f3905656842c59b7fffa7a5f1847d",
        "IPY_MODEL_b09e182610c24992983dbe25ad9d25ea"
       ],
       "layout": "IPY_MODEL_a5eae3cc099c410d8f6ab326d9b722fb"
      }
     },
     "e20bd7300ab74bdc90965703143902ac": {
      "model_module": "@jupyter-widgets/base",
      "model_module_version": "1.2.0",
      "model_name": "LayoutModel",
      "state": {}
     },
     "e266c0f5f023457dbbf9f345c47db974": {
      "model_module": "@jupyter-widgets/controls",
      "model_module_version": "1.5.0",
      "model_name": "HBoxModel",
      "state": {
       "children": [
        "IPY_MODEL_c2bba3952cfd40e19ca36157cfb6c98c"
       ],
       "layout": "IPY_MODEL_afdaa9d3d6b2459c888a4e24b6a50525"
      }
     },
     "e2b2bf9892b94283886b9162e988f462": {
      "model_module": "@jupyter-widgets/base",
      "model_module_version": "1.2.0",
      "model_name": "LayoutModel",
      "state": {
       "align_items": "stretch",
       "display": "flex",
       "flex_flow": "row",
       "grid_auto_columns": "True",
       "justify_content": "flex-end",
       "width": "90%"
      }
     },
     "e2be698dcb2c4b058095c3b5552312a9": {
      "model_module": "@jupyter-widgets/base",
      "model_module_version": "1.2.0",
      "model_name": "LayoutModel",
      "state": {}
     },
     "e2d0c15af2fa453286dffb0737a08f52": {
      "model_module": "@jupyter-widgets/base",
      "model_module_version": "1.2.0",
      "model_name": "LayoutModel",
      "state": {}
     },
     "e3103e3d48964751bfedb84a62bdcc36": {
      "model_module": "@jupyter-widgets/output",
      "model_module_version": "1.0.0",
      "model_name": "OutputModel",
      "state": {
       "layout": "IPY_MODEL_e7faa593f031491d910864777ba8e2d9"
      }
     },
     "e317e204894b43f0a988ab9781153020": {
      "model_module": "@jupyter-widgets/base",
      "model_module_version": "1.2.0",
      "model_name": "LayoutModel",
      "state": {}
     },
     "e338ec08f338481080e54a92ad6c0cfa": {
      "model_module": "@jupyter-widgets/controls",
      "model_module_version": "1.5.0",
      "model_name": "DescriptionStyleModel",
      "state": {
       "description_width": ""
      }
     },
     "e34a7b5ccfd44356bc9c3b23fa8b4118": {
      "model_module": "@jupyter-widgets/base",
      "model_module_version": "1.2.0",
      "model_name": "LayoutModel",
      "state": {
       "align_items": "stretch",
       "display": "flex",
       "flex_flow": "row",
       "grid_auto_columns": "True",
       "justify_content": "flex-end",
       "width": "90%"
      }
     },
     "e362e7fe93a345088a44f8754334ddcb": {
      "model_module": "@jupyter-widgets/base",
      "model_module_version": "1.2.0",
      "model_name": "LayoutModel",
      "state": {}
     },
     "e3890ada07d04e43ba19001dfc793c7c": {
      "model_module": "@jupyter-widgets/base",
      "model_module_version": "1.2.0",
      "model_name": "LayoutModel",
      "state": {
       "align_items": "stretch",
       "border": "dashed 0.2px green",
       "display": "flex",
       "flex_flow": "row",
       "grid_auto_columns": "True",
       "justify_content": "flex-start",
       "width": "100%"
      }
     },
     "e4058f3c180244efb3f54bea463e880c": {
      "model_module": "@jupyter-widgets/base",
      "model_module_version": "1.2.0",
      "model_name": "LayoutModel",
      "state": {}
     },
     "e493587aacbf4d599c51c9933838e33b": {
      "model_module": "@jupyter-widgets/controls",
      "model_module_version": "1.5.0",
      "model_name": "DescriptionStyleModel",
      "state": {
       "description_width": ""
      }
     },
     "e4ce817e3ca44ed29bc6ab6b52027e3c": {
      "model_module": "@jupyter-widgets/base",
      "model_module_version": "1.2.0",
      "model_name": "LayoutModel",
      "state": {}
     },
     "e4f9f0e30b9d46959cd91d5020392234": {
      "model_module": "@jupyter-widgets/controls",
      "model_module_version": "1.5.0",
      "model_name": "DescriptionStyleModel",
      "state": {
       "description_width": ""
      }
     },
     "e5336319ac394077b19952cad4e923a0": {
      "model_module": "@jupyter-widgets/controls",
      "model_module_version": "1.5.0",
      "model_name": "VBoxModel",
      "state": {
       "children": [
        "IPY_MODEL_23947c8da04c4235afb2fa3f4f43626a",
        "IPY_MODEL_368d84a6864d4710b3403c4a4c9f8804",
        "IPY_MODEL_14ba47c97bd645ce89e93dd08e2751e3"
       ],
       "layout": "IPY_MODEL_76db258b67674169a1a73b8099b6c3a5"
      }
     },
     "e5405d6780514db4ab3265f6e093e85d": {
      "model_module": "@jupyter-widgets/controls",
      "model_module_version": "1.5.0",
      "model_name": "DescriptionStyleModel",
      "state": {
       "description_width": ""
      }
     },
     "e554aa770baf466080baac541544774b": {
      "model_module": "@jupyter-widgets/base",
      "model_module_version": "1.2.0",
      "model_name": "LayoutModel",
      "state": {}
     },
     "e55e151ca48c4ef885b52bb2caf4bccf": {
      "model_module": "@jupyter-widgets/controls",
      "model_module_version": "1.5.0",
      "model_name": "HBoxModel",
      "state": {
       "children": [
        "IPY_MODEL_c7180dca423343288d3b60d9f8690a51"
       ],
       "layout": "IPY_MODEL_7931340aae634d028f2a516dd90180bd"
      }
     },
     "e56561175a594189ae21f86e14f19c8d": {
      "model_module": "@jupyter-widgets/controls",
      "model_module_version": "1.5.0",
      "model_name": "HTMLModel",
      "state": {
       "layout": "IPY_MODEL_27ccf6455271443d9b5d8f12c1edbf17",
       "style": "IPY_MODEL_f5afb5d5ab184ac4ba4fa9d5fe1919b2"
      }
     },
     "e5685833453c434fa4a5d57f9b8a3921": {
      "model_module": "@jupyter-widgets/controls",
      "model_module_version": "1.5.0",
      "model_name": "HBoxModel",
      "state": {
       "children": [
        "IPY_MODEL_5aea394efb3845e9b919ed155e854066"
       ],
       "layout": "IPY_MODEL_a415fb6cce394b7eb27dfb3c13a9b940"
      }
     },
     "e579a72fb4324a7589b8c0f676aec815": {
      "model_module": "@jupyter-widgets/controls",
      "model_module_version": "1.5.0",
      "model_name": "HBoxModel",
      "state": {
       "children": [
        "IPY_MODEL_d79a2245de60411eb98b4241a71a340a",
        "IPY_MODEL_3202caa9909f4cd0ab74b47e574a51ef"
       ],
       "layout": "IPY_MODEL_7342d94c06ca4545bb99ad38aa169a4d"
      }
     },
     "e57d4d67d51a4fa7a7031d2c187c44d9": {
      "model_module": "@jupyter-widgets/base",
      "model_module_version": "1.2.0",
      "model_name": "LayoutModel",
      "state": {}
     },
     "e58ab8c3d4e24db38ac8cd6543d25fe5": {
      "model_module": "@jupyter-widgets/controls",
      "model_module_version": "1.5.0",
      "model_name": "DescriptionStyleModel",
      "state": {
       "description_width": ""
      }
     },
     "e58be7d0bdce4762a99791171cb2e1bb": {
      "model_module": "@jupyter-widgets/controls",
      "model_module_version": "1.5.0",
      "model_name": "HTMLModel",
      "state": {
       "layout": "IPY_MODEL_29e09847b0b740638a16f77ce37f32fb",
       "style": "IPY_MODEL_097cbab9fc414f238371a4f0a78af612",
       "value": "<p>its a foo cake</p>"
      }
     },
     "e5c4854eac20408aa8761fd73b4ab1ae": {
      "model_module": "@jupyter-widgets/base",
      "model_module_version": "1.2.0",
      "model_name": "LayoutModel",
      "state": {
       "align_items": "stretch",
       "border": "dashed 0.2px green",
       "display": "flex",
       "flex_flow": "row",
       "grid_auto_columns": "True",
       "justify_content": "flex-start",
       "width": "100%"
      }
     },
     "e6415dd53fcf42959c6aee4b81d3e332": {
      "model_module": "@jupyter-widgets/controls",
      "model_module_version": "1.5.0",
      "model_name": "VBoxModel",
      "state": {
       "children": [
        "IPY_MODEL_3d4a2525f30d4b40b64420de058f8f3c",
        "IPY_MODEL_8830869f2e7544b3b49d4fdedabfa5ab",
        "IPY_MODEL_ea16120d7b8d4b15871e1ff588bf9f2c",
        "IPY_MODEL_5e805e9aba814d73ab962aa6ad19e9f4",
        "IPY_MODEL_c0aac93300664548b6a607d62ef55218",
        "IPY_MODEL_62cc6b14a68346dfbf1fcdbfc57b75e7"
       ],
       "layout": "IPY_MODEL_c210c4e875f048e88c651bec8214090a"
      }
     },
     "e64c7bbc6ed7430bba2048630fc4b55b": {
      "model_module": "@jupyter-widgets/base",
      "model_module_version": "1.2.0",
      "model_name": "LayoutModel",
      "state": {
       "align_items": "stretch",
       "display": "flex",
       "flex_flow": "row",
       "grid_auto_columns": "True",
       "justify_content": "flex-start",
       "width": "80%"
      }
     },
     "e66a88aca87c40e8897bfefa87aec4d2": {
      "model_module": "@jupyter-widgets/controls",
      "model_module_version": "1.5.0",
      "model_name": "ButtonStyleModel",
      "state": {
       "font_weight": "bold"
      }
     },
     "e70a98ce280b46dabd9d57a0855106bd": {
      "model_module": "@jupyter-widgets/controls",
      "model_module_version": "1.5.0",
      "model_name": "HBoxModel",
      "state": {
       "children": [
        "IPY_MODEL_8574f4b877d640668637c5e43d9b3c61",
        "IPY_MODEL_7a23fdaf4de844a0abec0b92f81acf2c"
       ],
       "layout": "IPY_MODEL_f19a51147d344fb0956ebbc09ae29830"
      }
     },
     "e70f53d793e54c69a639387b35a7217b": {
      "model_module": "@jupyter-widgets/base",
      "model_module_version": "1.2.0",
      "model_name": "LayoutModel",
      "state": {
       "align_items": "stretch",
       "border": "dashed 0.2px green",
       "display": "flex",
       "flex_flow": "row",
       "grid_auto_columns": "True",
       "justify_content": "flex-start",
       "width": "100%"
      }
     },
     "e734b311b8594941a4f9fb280124e35e": {
      "model_module": "@jupyter-widgets/base",
      "model_module_version": "1.2.0",
      "model_name": "LayoutModel",
      "state": {}
     },
     "e767917ec6244a448a095d78f9aac169": {
      "model_module": "@jupyter-widgets/controls",
      "model_module_version": "1.5.0",
      "model_name": "HTMLModel",
      "state": {
       "layout": "IPY_MODEL_e4058f3c180244efb3f54bea463e880c",
       "style": "IPY_MODEL_80d70811ee9a49078e39813dc7a689f5",
       "value": "<p>label</p>"
      }
     },
     "e7d8d4f707684429b1aa2ce1669d424b": {
      "model_module": "@jupyter-widgets/base",
      "model_module_version": "1.2.0",
      "model_name": "LayoutModel",
      "state": {}
     },
     "e7faa593f031491d910864777ba8e2d9": {
      "model_module": "@jupyter-widgets/base",
      "model_module_version": "1.2.0",
      "model_name": "LayoutModel",
      "state": {}
     },
     "e7fb66da77954b9b94a023bef2ca5985": {
      "model_module": "@jupyter-widgets/base",
      "model_module_version": "1.2.0",
      "model_name": "LayoutModel",
      "state": {}
     },
     "e816a10afe0b49f88468fac3e4453223": {
      "model_module": "@jupyter-widgets/controls",
      "model_module_version": "1.5.0",
      "model_name": "DescriptionStyleModel",
      "state": {
       "description_width": ""
      }
     },
     "e81da750452c41a7bfc34a5e37c530d2": {
      "model_module": "@jupyter-widgets/controls",
      "model_module_version": "1.5.0",
      "model_name": "VBoxModel",
      "state": {
       "children": [
        "IPY_MODEL_2b111e68b37b4dadb7d6957a09f83327",
        "IPY_MODEL_2fd341e4e0824a6ea895cd697d76125b",
        "IPY_MODEL_168c73d1e15444c2aaa27f2692520047",
        "IPY_MODEL_ba795e24162c49438f47bb58551462bb",
        "IPY_MODEL_8f249b204d804197ae57c0b208242643",
        "IPY_MODEL_85432d97501d4618826b7867d8cb1a6c"
       ],
       "layout": "IPY_MODEL_3ec1159605e644d18c6e804123a2c6fd"
      }
     },
     "e84b055d64b2458e94c20cfe7f1c4333": {
      "model_module": "@jupyter-widgets/base",
      "model_module_version": "1.2.0",
      "model_name": "LayoutModel",
      "state": {}
     },
     "e86ee6fbb7344e379b6c46131bb6c705": {
      "model_module": "@jupyter-widgets/base",
      "model_module_version": "1.2.0",
      "model_name": "LayoutModel",
      "state": {
       "align_items": "stretch",
       "border": "dashed 0.2px green",
       "display": "flex",
       "flex_flow": "row",
       "grid_auto_columns": "True",
       "justify_content": "flex-start",
       "width": "100%"
      }
     },
     "e8a17ab860764d4eb61421aa4804ec3f": {
      "model_module": "@jupyter-widgets/controls",
      "model_module_version": "1.5.0",
      "model_name": "HTMLModel",
      "state": {
       "layout": "IPY_MODEL_4dc140550e35417caa1947c69037cc63",
       "style": "IPY_MODEL_618721bbce5942d98667909ade308796",
       "value": "<p>File Prefix</p>"
      }
     },
     "e9009aa5df4343b58c7b30db2e030e37": {
      "model_module": "@jupyter-widgets/controls",
      "model_module_version": "1.5.0",
      "model_name": "HBoxModel",
      "state": {
       "children": [
        "IPY_MODEL_95fc4623bcd843678c77e187893b1003"
       ],
       "layout": "IPY_MODEL_ad1d186f73634123a174019c56c70318"
      }
     },
     "e9267d121d7841e09401fa9591f34f23": {
      "model_module": "@jupyter-widgets/base",
      "model_module_version": "1.2.0",
      "model_name": "LayoutModel",
      "state": {}
     },
     "e98b2ab13a2748c2b07f574501ae2417": {
      "model_module": "@jupyter-widgets/base",
      "model_module_version": "1.2.0",
      "model_name": "LayoutModel",
      "state": {}
     },
     "e9b026d04ba74a2ba0a5f1e76a2dced4": {
      "model_module": "@jupyter-widgets/controls",
      "model_module_version": "1.5.0",
      "model_name": "DescriptionStyleModel",
      "state": {
       "description_width": ""
      }
     },
     "e9b9256e3a6c4b3996ef20bdccbc0eb7": {
      "model_module": "@jupyter-widgets/controls",
      "model_module_version": "1.5.0",
      "model_name": "DatePickerModel",
      "state": {
       "disabled": false,
       "layout": "IPY_MODEL_c6f3a4d30702429dbe7fe7dfab9005d4",
       "style": "IPY_MODEL_33dd5f326c364b68bcbde4f49f2d5b1f",
       "value": {
        "date": 29,
        "month": 5,
        "year": 2020
       }
      }
     },
     "e9ec2e93c8974a1b99eaf44e14ca36e8": {
      "model_module": "@jupyter-widgets/base",
      "model_module_version": "1.2.0",
      "model_name": "LayoutModel",
      "state": {}
     },
     "ea16120d7b8d4b15871e1ff588bf9f2c": {
      "model_module": "@jupyter-widgets/controls",
      "model_module_version": "1.5.0",
      "model_name": "HBoxModel",
      "state": {
       "children": [
        "IPY_MODEL_43c636b8903646be9413581d91ec0d0d"
       ],
       "layout": "IPY_MODEL_a96356eb4a224788b721e22f9f6fb591"
      }
     },
     "ea334658ce9e4fdf9f9421e8f22d7862": {
      "model_module": "@jupyter-widgets/controls",
      "model_module_version": "1.5.0",
      "model_name": "HBoxModel",
      "state": {
       "children": [
        "IPY_MODEL_9f2ac08a4406467c86bf75d4238d70f3",
        "IPY_MODEL_31d5daf491cd42828cbccbcf802c1a9b"
       ],
       "layout": "IPY_MODEL_45376ece1b834be5abc1e02bcb9fc297"
      }
     },
     "ea8369ee010e40c1b211fbf02e5947b9": {
      "model_module": "@jupyter-widgets/base",
      "model_module_version": "1.2.0",
      "model_name": "LayoutModel",
      "state": {}
     },
     "ea8462521453446a85086af52a5a1688": {
      "model_module": "@jupyter-widgets/controls",
      "model_module_version": "1.5.0",
      "model_name": "DescriptionStyleModel",
      "state": {
       "description_width": ""
      }
     },
     "eacc7905c6aa4418a580ece47b595311": {
      "model_module": "@jupyter-widgets/controls",
      "model_module_version": "1.5.0",
      "model_name": "HBoxModel",
      "state": {
       "children": [
        "IPY_MODEL_05702f9cb7c44f34b1e640ce213c3929"
       ],
       "layout": "IPY_MODEL_95d5c234f8b64618bb9beb706f32ac2f"
      }
     },
     "eb2887647b6d4d32b1f1f4897ce17824": {
      "model_module": "@jupyter-widgets/controls",
      "model_module_version": "1.5.0",
      "model_name": "DescriptionStyleModel",
      "state": {
       "description_width": ""
      }
     },
     "eb5cbd08b4344212b0e0908f750bf69a": {
      "model_module": "@jupyter-widgets/base",
      "model_module_version": "1.2.0",
      "model_name": "LayoutModel",
      "state": {
       "align_items": "stretch",
       "border": "dashed 0.2px green",
       "display": "flex",
       "flex_flow": "row",
       "grid_auto_columns": "True",
       "justify_content": "flex-start",
       "width": "100%"
      }
     },
     "eb5f2c184b7c4fbfa9b320526edfbe37": {
      "model_module": "@jupyter-widgets/controls",
      "model_module_version": "1.5.0",
      "model_name": "CheckboxModel",
      "state": {
       "disabled": false,
       "layout": "IPY_MODEL_815be3129f4843e69ddd245a7cff0445",
       "style": "IPY_MODEL_ad9478802d7c420b9e7ac76bf4ed4696",
       "value": false
      }
     },
     "ec522b22d0d7443a97b77a297c641ce3": {
      "model_module": "@jupyter-widgets/controls",
      "model_module_version": "1.5.0",
      "model_name": "HBoxModel",
      "state": {
       "children": [
        "IPY_MODEL_c3ce312cdbb045708214a53ef10f5007",
        "IPY_MODEL_9bc8ebb0f39944e7927669e603698d1f"
       ],
       "layout": "IPY_MODEL_214764f514bc42239734f7e7a7dadf79"
      }
     },
     "ec62a2e99fc24a0daf3b7f9da87ed415": {
      "model_module": "@jupyter-widgets/controls",
      "model_module_version": "1.5.0",
      "model_name": "VBoxModel",
      "state": {
       "children": [
        "IPY_MODEL_fbefc35a02904c07a8a353240815e08a"
       ],
       "layout": "IPY_MODEL_32938d6e40864f0f90cff640106ee678"
      }
     },
     "ec917739cdf343c2856f7cf8880f49f5": {
      "model_module": "@jupyter-widgets/base",
      "model_module_version": "1.2.0",
      "model_name": "LayoutModel",
      "state": {}
     },
     "ecab64e51be34260b7e54d29032b77f3": {
      "model_module": "@jupyter-widgets/base",
      "model_module_version": "1.2.0",
      "model_name": "LayoutModel",
      "state": {}
     },
     "ecdf979530744bc09c29ff0fcc05ceb9": {
      "model_module": "@jupyter-widgets/controls",
      "model_module_version": "1.5.0",
      "model_name": "VBoxModel",
      "state": {
       "children": [
        "IPY_MODEL_c271457c0ff04992b4e0363fe30feca2",
        "IPY_MODEL_fc70c79064944d6b8149a8f60ab0c6f4",
        "IPY_MODEL_02c2e190fd51405cb53f0613a7fda62f"
       ],
       "layout": "IPY_MODEL_7640a6827d934c3baad743ea184b24a4"
      }
     },
     "ecf9fea9053747c8b4d9d9735d8b8fe8": {
      "model_module": "@jupyter-widgets/controls",
      "model_module_version": "1.5.0",
      "model_name": "ToggleButtonModel",
      "state": {
       "icon": "arrow-down",
       "layout": "IPY_MODEL_1de44bffd1aa432d9fe95cae01673426",
       "style": "IPY_MODEL_7bbfa3d5836542d6855d22d296cd2edd"
      }
     },
     "ecfbd71c879448ad8bdf65bf0e8b3d24": {
      "model_module": "@jupyter-widgets/controls",
      "model_module_version": "1.5.0",
      "model_name": "DescriptionStyleModel",
      "state": {
       "description_width": ""
      }
     },
     "ecff5da4c828491085b1d0eb02fc0b97": {
      "model_module": "@jupyter-widgets/base",
      "model_module_version": "1.2.0",
      "model_name": "LayoutModel",
      "state": {}
     },
     "ed0976d3a4234d129aab6578c8e219e9": {
      "model_module": "@jupyter-widgets/controls",
      "model_module_version": "1.5.0",
      "model_name": "HBoxModel",
      "state": {
       "children": [
        "IPY_MODEL_b72f7548ba6a451f8cd1541e1e30c4b6",
        "IPY_MODEL_c94bbd3134144d4f90d5bb719eb891ef"
       ],
       "layout": "IPY_MODEL_7656d07aa0fa4ecbbb24297c0eac0a09"
      }
     },
     "ed0efe77ce3642ec9b68d1567af8d46c": {
      "model_module": "@jupyter-widgets/base",
      "model_module_version": "1.2.0",
      "model_name": "LayoutModel",
      "state": {}
     },
     "ed2176dce25540d2a14fe6bd0da96ef8": {
      "model_module": "@jupyter-widgets/controls",
      "model_module_version": "1.5.0",
      "model_name": "DescriptionStyleModel",
      "state": {
       "description_width": ""
      }
     },
     "ed66070a583346d78c287fafdecbab63": {
      "model_module": "@jupyter-widgets/controls",
      "model_module_version": "1.5.0",
      "model_name": "ButtonModel",
      "state": {
       "description": "load",
       "icon": "upload",
       "layout": "IPY_MODEL_88b6797bd4674ac9870b077d9f190c6a",
       "style": "IPY_MODEL_b6083b7eadd24979ba97be69ad512d0f"
      }
     },
     "ed6aa494daaf4a89a7d8db27e6750612": {
      "model_module": "@jupyter-widgets/base",
      "model_module_version": "1.2.0",
      "model_name": "LayoutModel",
      "state": {
       "align_items": "stretch",
       "border": "dashed 0.2px green",
       "display": "flex",
       "flex_flow": "row",
       "grid_auto_columns": "True",
       "justify_content": "flex-start",
       "width": "100%"
      }
     },
     "eddd0453b0d44436af17aca8426b39f4": {
      "model_module": "@jupyter-widgets/controls",
      "model_module_version": "1.5.0",
      "model_name": "DescriptionStyleModel",
      "state": {
       "description_width": ""
      }
     },
     "ee563055dca14bce9a677d9f55ef70ac": {
      "model_module": "@jupyter-widgets/controls",
      "model_module_version": "1.5.0",
      "model_name": "DescriptionStyleModel",
      "state": {
       "description_width": ""
      }
     },
     "eec2ca29553749909d8bb3c45b400afb": {
      "model_module": "@jupyter-widgets/base",
      "model_module_version": "1.2.0",
      "model_name": "LayoutModel",
      "state": {}
     },
     "eeca5034d84a4159830f8399ea1f1cb4": {
      "model_module": "@jupyter-widgets/controls",
      "model_module_version": "1.5.0",
      "model_name": "HTMLModel",
      "state": {
       "layout": "IPY_MODEL_c9b04e6b67e64864bec42bf9c40b39a6",
       "style": "IPY_MODEL_8bbc5213396345d69a3475325583afc2",
       "value": "<p>its a foo cake</p>"
      }
     },
     "ef1a2c86b2284532a40c6ddd0ee39c6f": {
      "model_module": "@jupyter-widgets/base",
      "model_module_version": "1.2.0",
      "model_name": "LayoutModel",
      "state": {
       "align_items": "stretch",
       "display": "flex",
       "flex_flow": "row",
       "grid_auto_columns": "True",
       "justify_content": "flex-start",
       "width": "80%"
      }
     },
     "efd8facc66a94d9885cfdd2e8903e900": {
      "model_module": "@jupyter-widgets/base",
      "model_module_version": "1.2.0",
      "model_name": "LayoutModel",
      "state": {
       "align_items": "stretch",
       "display": "flex",
       "flex_flow": "row",
       "grid_auto_columns": "True",
       "justify_content": "flex-start",
       "width": "80%"
      }
     },
     "f05089bda43e42389bf6d1100260e966": {
      "model_module": "@jupyter-widgets/controls",
      "model_module_version": "1.5.0",
      "model_name": "ButtonModel",
      "state": {
       "button_style": "success",
       "description": "save changes",
       "layout": "IPY_MODEL_d842e7e251a64b1a99d5e161b80c1d58",
       "style": "IPY_MODEL_558538af6cd04111b627a0d42d4789cb"
      }
     },
     "f05e2f45bfbe4cb286b043bcd5556d5a": {
      "model_module": "@jupyter-widgets/base",
      "model_module_version": "1.2.0",
      "model_name": "LayoutModel",
      "state": {
       "align_items": "stretch",
       "display": "flex",
       "flex_flow": "row",
       "grid_auto_columns": "True",
       "justify_content": "flex-end",
       "width": "90%"
      }
     },
     "f071c3bab74b4cb2aec2ef2a3b9f9026": {
      "model_module": "@jupyter-widgets/base",
      "model_module_version": "1.2.0",
      "model_name": "LayoutModel",
      "state": {
       "align_items": "stretch",
       "display": "flex",
       "flex_flow": "row",
       "grid_auto_columns": "True",
       "justify_content": "flex-start",
       "width": "80%"
      }
     },
     "f0d9a176d4e34145bbae607ea9df07fe": {
      "model_module": "@jupyter-widgets/base",
      "model_module_version": "1.2.0",
      "model_name": "LayoutModel",
      "state": {}
     },
     "f0e1185dc80b45eb86aa54023b407b75": {
      "model_module": "@jupyter-widgets/controls",
      "model_module_version": "1.5.0",
      "model_name": "TextareaModel",
      "state": {
       "layout": "IPY_MODEL_df4fe0fbb9d04409acb0239f12a7c03f",
       "style": "IPY_MODEL_9afac665700e4405b0efcbfd82689caa"
      }
     },
     "f1315447c91046b58cf507d25627e5e4": {
      "model_module": "@jupyter-widgets/controls",
      "model_module_version": "1.5.0",
      "model_name": "DescriptionStyleModel",
      "state": {
       "description_width": ""
      }
     },
     "f1917019cc5146dfa7f0b6418e2cf684": {
      "model_module": "@jupyter-widgets/controls",
      "model_module_version": "1.5.0",
      "model_name": "HTMLModel",
      "state": {
       "layout": "IPY_MODEL_25c6708d90c24bb096f49b1644d035f9",
       "style": "IPY_MODEL_15be7e0b0cd342d6b50d7d133691ef83",
       "value": "<p>its a foo cake</p>"
      }
     },
     "f195fbbd761b4d1dbdb8024fc644751a": {
      "model_module": "@jupyter-widgets/controls",
      "model_module_version": "1.5.0",
      "model_name": "HBoxModel",
      "state": {
       "children": [
        "IPY_MODEL_ce0fd6f6ad924706aee560b8e6dfece0",
        "IPY_MODEL_9edcc0922a0949c8a4fe6286cb4e76dc"
       ],
       "layout": "IPY_MODEL_6d94813ddf4e4f72b80789743c5588bf"
      }
     },
     "f19a105873a84496988dac658186f7f3": {
      "model_module": "@jupyter-widgets/controls",
      "model_module_version": "1.5.0",
      "model_name": "HTMLModel",
      "state": {
       "layout": "IPY_MODEL_42c265ac83914c5b93e94cd91c8a49aa",
       "style": "IPY_MODEL_929be329c04b48328c24def51dae6836",
       "value": "<p>fus foo ous o</p>"
      }
     },
     "f19a51147d344fb0956ebbc09ae29830": {
      "model_module": "@jupyter-widgets/base",
      "model_module_version": "1.2.0",
      "model_name": "LayoutModel",
      "state": {
       "align_items": "stretch",
       "display": "flex",
       "flex_flow": "row",
       "grid_auto_columns": "True",
       "justify_content": "flex-start",
       "width": "80%"
      }
     },
     "f1d4d7c1452f47ec97d156d19269950e": {
      "model_module": "@jupyter-widgets/controls",
      "model_module_version": "1.5.0",
      "model_name": "ToggleButtonModel",
      "state": {
       "description": "help",
       "icon": "fa-question-circle",
       "layout": "IPY_MODEL_2810e9d139a24426b47c11bf2ff82470",
       "style": "IPY_MODEL_aee9f9ab9ac54a97a91acb1f37404cc3",
       "tooltip": "gives guidance"
      }
     },
     "f2251bdb69594a1bba131d469759792b": {
      "model_module": "@jupyter-widgets/controls",
      "model_module_version": "1.5.0",
      "model_name": "DescriptionStyleModel",
      "state": {
       "description_width": ""
      }
     },
     "f245560105dc4fef8ce394a3488a0ef2": {
      "model_module": "@jupyter-widgets/controls",
      "model_module_version": "1.5.0",
      "model_name": "ToggleButtonModel",
      "state": {
       "button_style": "info",
       "description": "inputs from file",
       "layout": "IPY_MODEL_6dbd3c62856c4fa0813943f75466bcc8",
       "style": "IPY_MODEL_289a2023513e479c91806705892e03bc"
      }
     },
     "f27a3c79f8b84507b2457fd6294fe211": {
      "model_module": "@jupyter-widgets/base",
      "model_module_version": "1.2.0",
      "model_name": "LayoutModel",
      "state": {
       "align_items": "stretch",
       "display": "flex",
       "flex_flow": "row",
       "grid_auto_columns": "True",
       "justify_content": "flex-start",
       "width": "80%"
      }
     },
     "f289977a040f46228f5103879e6d541b": {
      "model_module": "@jupyter-widgets/controls",
      "model_module_version": "1.5.0",
      "model_name": "HTMLModel",
      "state": {
       "layout": "IPY_MODEL_6024a8fdc42a47f9a0e316d840bf7c1e",
       "style": "IPY_MODEL_a3e0303ebc414704938b5f845a967673",
       "value": "<p>its a delicious foo cake</p>"
      }
     },
     "f289a69f5e904f9da71c3f3568ce60f9": {
      "model_module": "@jupyter-widgets/base",
      "model_module_version": "1.2.0",
      "model_name": "LayoutModel",
      "state": {}
     },
     "f2c6aca7bc284e3fa88521707b272942": {
      "model_module": "@jupyter-widgets/base",
      "model_module_version": "1.2.0",
      "model_name": "LayoutModel",
      "state": {}
     },
     "f33ae701996f47598165b58188d5536d": {
      "model_module": "@jupyter-widgets/controls",
      "model_module_version": "1.5.0",
      "model_name": "HTMLModel",
      "state": {
       "layout": "IPY_MODEL_d99ec6cf5d114358a146b87ae17ac034",
       "style": "IPY_MODEL_5da8b63c4a8543919150368273f5d199",
       "value": "<p>Tag for the Model, used within file naming</p>"
      }
     },
     "f347fe61513e46de93da9e37dce2ee75": {
      "model_module": "@jupyter-widgets/controls",
      "model_module_version": "1.5.0",
      "model_name": "HTMLModel",
      "state": {
       "layout": "IPY_MODEL_8f1d61a195a94d6db5175a1e4c8edc10",
       "style": "IPY_MODEL_c979c595a13f45be95ed2a98abec1a8c",
       "value": "<p>defines the logic of the space naming. use default value where practical.</p>"
      }
     },
     "f3aaf43484014c40bbcb5ebd09160b74": {
      "model_module": "@jupyter-widgets/base",
      "model_module_version": "1.2.0",
      "model_name": "LayoutModel",
      "state": {}
     },
     "f3cf3f7f23f94b40938a8dd3fbfa392a": {
      "model_module": "@jupyter-widgets/base",
      "model_module_version": "1.2.0",
      "model_name": "LayoutModel",
      "state": {
       "align_items": "stretch",
       "border": "dashed 0.2px green",
       "display": "flex",
       "flex_flow": "row",
       "grid_auto_columns": "True",
       "justify_content": "flex-start",
       "width": "100%"
      }
     },
     "f3f2103fa3df4d44bf4322bace81514b": {
      "model_module": "@jupyter-widgets/controls",
      "model_module_version": "1.5.0",
      "model_name": "HBoxModel",
      "state": {
       "children": [
        "IPY_MODEL_6e7b818faa56402d910b9fd737cabf4b"
       ],
       "layout": "IPY_MODEL_249dece1775749039950a658a48621a8"
      }
     },
     "f3f9eb860d8e4cecb24daf5e45a73d2c": {
      "model_module": "@jupyter-widgets/output",
      "model_module_version": "1.0.0",
      "model_name": "OutputModel",
      "state": {
       "layout": "IPY_MODEL_d900ba2b55f24f069066205b70d9435b"
      }
     },
     "f442c286ec5b4e08b165ba3947aeb9eb": {
      "model_module": "@jupyter-widgets/base",
      "model_module_version": "1.2.0",
      "model_name": "LayoutModel",
      "state": {}
     },
     "f4584a5444694443b0d14ba88db98b42": {
      "model_module": "@jupyter-widgets/base",
      "model_module_version": "1.2.0",
      "model_name": "LayoutModel",
      "state": {}
     },
     "f590832eba0b439488c037fb527d63d3": {
      "model_module": "@jupyter-widgets/base",
      "model_module_version": "1.2.0",
      "model_name": "LayoutModel",
      "state": {
       "align_items": "stretch",
       "display": "flex",
       "flex_flow": "row",
       "grid_auto_columns": "True",
       "justify_content": "flex-start",
       "width": "80%"
      }
     },
     "f5afb5d5ab184ac4ba4fa9d5fe1919b2": {
      "model_module": "@jupyter-widgets/controls",
      "model_module_version": "1.5.0",
      "model_name": "DescriptionStyleModel",
      "state": {
       "description_width": ""
      }
     },
     "f5bb64cbf21f4cf59d7c66f9e0c31cc7": {
      "model_module": "@jupyter-widgets/base",
      "model_module_version": "1.2.0",
      "model_name": "LayoutModel",
      "state": {
       "align_items": "stretch",
       "display": "flex",
       "flex_flow": "row",
       "grid_auto_columns": "True",
       "justify_content": "flex-end",
       "width": "90%"
      }
     },
     "f5ea58a731924e0ea4ab42f7159101ba": {
      "model_module": "@jupyter-widgets/controls",
      "model_module_version": "1.5.0",
      "model_name": "DescriptionStyleModel",
      "state": {
       "description_width": ""
      }
     },
     "f5ee7a3449384ece9c631b35eb734a01": {
      "model_module": "@jupyter-widgets/controls",
      "model_module_version": "1.5.0",
      "model_name": "HTMLModel",
      "state": {
       "layout": "IPY_MODEL_2ab6e63892a74f419ae8410e7b008191",
       "style": "IPY_MODEL_ecfbd71c879448ad8bdf65bf0e8b3d24",
       "value": "<p>its a foo cake</p>"
      }
     },
     "f6235f5daa0d414e92e34435f9844815": {
      "model_module": "@jupyter-widgets/base",
      "model_module_version": "1.2.0",
      "model_name": "LayoutModel",
      "state": {
       "align_items": "stretch",
       "display": "flex",
       "flex_flow": "row",
       "grid_auto_columns": "True",
       "justify_content": "flex-start",
       "width": "80%"
      }
     },
     "f6641762a2bc4377a22f09d642ea30f6": {
      "model_module": "@jupyter-widgets/controls",
      "model_module_version": "1.5.0",
      "model_name": "ButtonStyleModel",
      "state": {
       "font_weight": "bold"
      }
     },
     "f67d4c0afc554a5c8ea652c519370859": {
      "model_module": "@jupyter-widgets/output",
      "model_module_version": "1.0.0",
      "model_name": "OutputModel",
      "state": {
       "layout": "IPY_MODEL_9f387b5e530544079f254023dd23c692"
      }
     },
     "f6a5f6dfb0024a36aa421508b760b28b": {
      "model_module": "@jupyter-widgets/base",
      "model_module_version": "1.2.0",
      "model_name": "LayoutModel",
      "state": {
       "align_items": "stretch",
       "display": "flex",
       "flex_flow": "row",
       "grid_auto_columns": "True",
       "justify_content": "flex-end",
       "width": "90%"
      }
     },
     "f6a73a39314e493687ecd23c454b8a43": {
      "model_module": "@jupyter-widgets/base",
      "model_module_version": "1.2.0",
      "model_name": "LayoutModel",
      "state": {}
     },
     "f6b55edfa03443eba194d97546748f7e": {
      "model_module": "@jupyter-widgets/base",
      "model_module_version": "1.2.0",
      "model_name": "LayoutModel",
      "state": {
       "align_items": "stretch",
       "border": "dashed 0.2px green",
       "display": "flex",
       "flex_flow": "row",
       "grid_auto_columns": "True",
       "justify_content": "flex-start",
       "width": "100%"
      }
     },
     "f71c29ed02614236bedc9baeee26b2d4": {
      "model_module": "@jupyter-widgets/controls",
      "model_module_version": "1.5.0",
      "model_name": "DescriptionStyleModel",
      "state": {
       "description_width": ""
      }
     },
     "f768093ae772498a9996b3f9a37ee903": {
      "model_module": "@jupyter-widgets/controls",
      "model_module_version": "1.5.0",
      "model_name": "DescriptionStyleModel",
      "state": {
       "description_width": ""
      }
     },
     "f775a978d86b48a29b6b0b6f03d31245": {
      "model_module": "@jupyter-widgets/controls",
      "model_module_version": "1.5.0",
      "model_name": "HBoxModel",
      "state": {
       "children": [
        "IPY_MODEL_829761b099464399b8958553ce1c41b9",
        "IPY_MODEL_03f4925f04e948ba87131c82d4518df7"
       ],
       "layout": "IPY_MODEL_2a4189e6fbf04dfc88c0e9b3c348779d"
      }
     },
     "f77ff69cbedc4142822d3c1f4ebb8bd7": {
      "model_module": "@jupyter-widgets/controls",
      "model_module_version": "1.5.0",
      "model_name": "DescriptionStyleModel",
      "state": {
       "description_width": ""
      }
     },
     "f7aa15ef52af4ad99d99d379b6f300f0": {
      "model_module": "@jupyter-widgets/controls",
      "model_module_version": "1.5.0",
      "model_name": "ButtonStyleModel",
      "state": {}
     },
     "f7cb5a4d0efd4844abe8914c709b80de": {
      "model_module": "@jupyter-widgets/base",
      "model_module_version": "1.2.0",
      "model_name": "LayoutModel",
      "state": {}
     },
     "f7e8dda896014e0e9574a3ad00fc7fe0": {
      "model_module": "@jupyter-widgets/output",
      "model_module_version": "1.0.0",
      "model_name": "OutputModel",
      "state": {
       "layout": "IPY_MODEL_cc0aff5298ef49709ff1486a3375c76c"
      }
     },
     "f817ed8c6b4f425daf30820fa90e8152": {
      "model_module": "@jupyter-widgets/controls",
      "model_module_version": "1.5.0",
      "model_name": "HBoxModel",
      "state": {
       "children": [
        "IPY_MODEL_18b77c8b6fcd40a28b94fca8f2ea4df6",
        "IPY_MODEL_112e0967cda34e4181dd2bba0af38b5c"
       ],
       "layout": "IPY_MODEL_86b38d5a6188429296ae1163a1063592"
      }
     },
     "f83829351476457b956ff15ee1ad1045": {
      "model_module": "@jupyter-widgets/controls",
      "model_module_version": "1.5.0",
      "model_name": "HBoxModel",
      "state": {
       "children": [
        "IPY_MODEL_876d5d0047ab4282b88e49d884f36ddf",
        "IPY_MODEL_399a65b1641342c0af1650b95f59861d"
       ],
       "layout": "IPY_MODEL_77f8283ced4841c2bea697802e2103f0"
      }
     },
     "f83dd0c7ed414547b35a97d1499e4f98": {
      "model_module": "@jupyter-widgets/controls",
      "model_module_version": "1.5.0",
      "model_name": "DescriptionStyleModel",
      "state": {
       "description_width": ""
      }
     },
     "f86a2fc3a4d142079c81976997fa54eb": {
      "model_module": "@jupyter-widgets/controls",
      "model_module_version": "1.5.0",
      "model_name": "DescriptionStyleModel",
      "state": {
       "description_width": ""
      }
     },
     "f88c6662c5f540de891948bde07da022": {
      "model_module": "@jupyter-widgets/output",
      "model_module_version": "1.0.0",
      "model_name": "OutputModel",
      "state": {
       "layout": "IPY_MODEL_32edc2b766554a929b4ddfdbf9599f92"
      }
     },
     "f89ef862aade46dc9a708d74b44ddda1": {
      "model_module": "@jupyter-widgets/base",
      "model_module_version": "1.2.0",
      "model_name": "LayoutModel",
      "state": {
       "align_items": "stretch",
       "display": "flex",
       "flex_flow": "row",
       "grid_auto_columns": "True",
       "justify_content": "flex-end",
       "width": "90%"
      }
     },
     "f8c2b647332b445c9059f53c3e4b7a68": {
      "model_module": "@jupyter-widgets/controls",
      "model_module_version": "1.5.0",
      "model_name": "HTMLModel",
      "state": {
       "layout": "IPY_MODEL_2e23b036a6eb405aab037e1015176b66",
       "style": "IPY_MODEL_f71c29ed02614236bedc9baeee26b2d4",
       "value": "<p>fus foo ous o</p>"
      }
     },
     "f9d0258a3dfa41039ae4705b1925447a": {
      "model_module": "@jupyter-widgets/controls",
      "model_module_version": "1.5.0",
      "model_name": "HTMLModel",
      "state": {
       "layout": "IPY_MODEL_830ce48bc2f349b68a12f3b222bc524b",
       "style": "IPY_MODEL_e493587aacbf4d599c51c9933838e33b",
       "value": "<p>foo</p>"
      }
     },
     "f9dac68434124e4aa6bdf7d871c2c1e4": {
      "model_module": "@jupyter-widgets/controls",
      "model_module_version": "1.5.0",
      "model_name": "VBoxModel",
      "state": {
       "children": [
        "IPY_MODEL_308e6776424c492e9bcfed2fdc04489f",
        "IPY_MODEL_b218ad6a10684b19b0f15ac7d7662028"
       ],
       "layout": "IPY_MODEL_c6761c8f9497497a9fb9bdd310b9ba1c"
      }
     },
     "fa0d46f43c1349f18362308a50cd2c58": {
      "model_module": "@jupyter-widgets/controls",
      "model_module_version": "1.5.0",
      "model_name": "HBoxModel",
      "state": {
       "children": [
        "IPY_MODEL_9b39b0ec999940209366f7090fa49833",
        "IPY_MODEL_7bce019bfa6d482aad77ae14841602a5"
       ],
       "layout": "IPY_MODEL_e64c7bbc6ed7430bba2048630fc4b55b"
      }
     },
     "fa3731a8cae04583a138ad7b242ec3a5": {
      "model_module": "@jupyter-widgets/base",
      "model_module_version": "1.2.0",
      "model_name": "LayoutModel",
      "state": {
       "align_items": "stretch",
       "display": "flex",
       "flex_flow": "row",
       "grid_auto_columns": "True",
       "justify_content": "flex-end",
       "width": "90%"
      }
     },
     "fa68307f10794a4585c076811c66d9aa": {
      "model_module": "@jupyter-widgets/base",
      "model_module_version": "1.2.0",
      "model_name": "LayoutModel",
      "state": {}
     },
     "fa7bc6afe74b41a8a66ddea0fa45b298": {
      "model_module": "@jupyter-widgets/controls",
      "model_module_version": "1.5.0",
      "model_name": "ButtonStyleModel",
      "state": {}
     },
     "fa8b576d5b5a4e429a19582104b0d9c8": {
      "model_module": "@jupyter-widgets/base",
      "model_module_version": "1.2.0",
      "model_name": "LayoutModel",
      "state": {}
     },
     "faa33613247f469288bf266aa8e76ed5": {
      "model_module": "@jupyter-widgets/controls",
      "model_module_version": "1.5.0",
      "model_name": "DescriptionStyleModel",
      "state": {
       "description_width": ""
      }
     },
     "faacb8ad561d4b4094726c1989950b48": {
      "model_module": "@jupyter-widgets/controls",
      "model_module_version": "1.5.0",
      "model_name": "DescriptionStyleModel",
      "state": {
       "description_width": ""
      }
     },
     "fabb4089580c445ab2c3a88cc0352759": {
      "model_module": "@jupyter-widgets/output",
      "model_module_version": "1.0.0",
      "model_name": "OutputModel",
      "state": {
       "layout": "IPY_MODEL_7c32113c53e04f1dbfea6adbdd9bf77d"
      }
     },
     "fabc8995e2ab4be48a3a18c2426fe7dd": {
      "model_module": "@jupyter-widgets/base",
      "model_module_version": "1.2.0",
      "model_name": "LayoutModel",
      "state": {
       "width": "5%"
      }
     },
     "fac738f9fd1747109d60cc96c76aef0c": {
      "model_module": "@jupyter-widgets/controls",
      "model_module_version": "1.5.0",
      "model_name": "HBoxModel",
      "state": {
       "children": [
        "IPY_MODEL_219be7b9ba1e4362bda3a43cc5d918e8",
        "IPY_MODEL_46755b41839f448084f963af871f35a3"
       ],
       "layout": "IPY_MODEL_dc5b42299c6a4a448cbe9e41194c5aed"
      }
     },
     "facf7ef182b0416bb1a92d722e0be58d": {
      "model_module": "@jupyter-widgets/base",
      "model_module_version": "1.2.0",
      "model_name": "LayoutModel",
      "state": {}
     },
     "faeab245c3554b7493fa8812385ca255": {
      "model_module": "@jupyter-widgets/base",
      "model_module_version": "1.2.0",
      "model_name": "LayoutModel",
      "state": {
       "align_items": "stretch",
       "display": "flex",
       "flex_flow": "row",
       "grid_auto_columns": "True",
       "justify_content": "flex-end",
       "width": "90%"
      }
     },
     "fb006296b230493fa485696cb3f543aa": {
      "model_module": "@jupyter-widgets/base",
      "model_module_version": "1.2.0",
      "model_name": "LayoutModel",
      "state": {}
     },
     "fb55907e95614cab9d589248bbe6c790": {
      "model_module": "@jupyter-widgets/controls",
      "model_module_version": "1.5.0",
      "model_name": "HTMLModel",
      "state": {
       "layout": "IPY_MODEL_432285c28a2e459f86cc2a7d0d111806",
       "style": "IPY_MODEL_85a683bfeb324aec9c49b82b57149475"
      }
     },
     "fb68d29cc70a4e2aa009325c7e99241a": {
      "model_module": "@jupyter-widgets/controls",
      "model_module_version": "1.5.0",
      "model_name": "HBoxModel",
      "state": {
       "children": [
        "IPY_MODEL_aa7f5c9620fa438c97dc431a826fdb8c",
        "IPY_MODEL_f775a978d86b48a29b6b0b6f03d31245"
       ],
       "layout": "IPY_MODEL_561fafa4d51c4ed3bfc95887afa5e1c2"
      }
     },
     "fb6e93c1a8544598802232bf31336591": {
      "model_module": "@jupyter-widgets/output",
      "model_module_version": "1.0.0",
      "model_name": "OutputModel",
      "state": {
       "layout": "IPY_MODEL_f7cb5a4d0efd4844abe8914c709b80de",
       "outputs": [
        {
         "data": {
          "application/vnd.jupyter.widget-view+json": {
           "model_id": "c87afdbe697b44c18d927f22417e8716",
           "version_major": 2,
           "version_minor": 0
          },
          "text/plain": "Output()"
         },
         "metadata": {},
         "output_type": "display_data"
        },
        {
         "data": {
          "application/vnd.jupyter.widget-view+json": {
           "model_id": "b4aed40173434617b19ed4b2fcef36a6",
           "version_major": 2,
           "version_minor": 0
          },
          "text/plain": "Output()"
         },
         "metadata": {},
         "output_type": "display_data"
        }
       ]
      }
     },
     "fbaa58e8e73142f78cdaf8459d7ad1f8": {
      "model_module": "@jupyter-widgets/controls",
      "model_module_version": "1.5.0",
      "model_name": "DescriptionStyleModel",
      "state": {
       "description_width": ""
      }
     },
     "fbefc35a02904c07a8a353240815e08a": {
      "model_module": "@jupyter-widgets/controls",
      "model_module_version": "1.5.0",
      "model_name": "HBoxModel",
      "state": {
       "children": [
        "IPY_MODEL_fac738f9fd1747109d60cc96c76aef0c"
       ],
       "layout": "IPY_MODEL_31e71b7732944b688e440c8c8755c6b7"
      }
     },
     "fbfbaee6daf748fda9ee2ea98ebae0af": {
      "model_module": "@jupyter-widgets/output",
      "model_module_version": "1.0.0",
      "model_name": "OutputModel",
      "state": {
       "layout": "IPY_MODEL_af85096c29bd4f8181ac902e01493edf"
      }
     },
     "fc302e1339f4410db35a705425afd69f": {
      "model_module": "@jupyter-widgets/controls",
      "model_module_version": "1.5.0",
      "model_name": "DescriptionStyleModel",
      "state": {
       "description_width": ""
      }
     },
     "fc70c79064944d6b8149a8f60ab0c6f4": {
      "model_module": "@jupyter-widgets/controls",
      "model_module_version": "1.5.0",
      "model_name": "HTMLModel",
      "state": {
       "layout": "IPY_MODEL_16c12a788f574718b65607934f10e258",
       "style": "IPY_MODEL_1d44a22a4a164e4fa7e4049794f9f317",
       "value": "<p>edit user input form below</p>"
      }
     },
     "fca261456dd84de3aaa517adc8932ea4": {
      "model_module": "@jupyter-widgets/controls",
      "model_module_version": "1.5.0",
      "model_name": "HTMLModel",
      "state": {
       "layout": "IPY_MODEL_61ac86103584467d87a21677ac3acd48",
       "style": "IPY_MODEL_7ae20c1659c34e28868c26eaece2e9ed",
       "value": "<p>name</p>"
      }
     },
     "fcc2a5ec2983462fb1f11e0f53bae36c": {
      "model_module": "@jupyter-widgets/base",
      "model_module_version": "1.2.0",
      "model_name": "LayoutModel",
      "state": {
       "align_items": "stretch",
       "border": "dashed 0.2px green",
       "display": "flex",
       "flex_flow": "row",
       "grid_auto_columns": "True",
       "justify_content": "flex-start",
       "width": "100%"
      }
     },
     "fd1c063e736e497baad10db362dfba6f": {
      "model_module": "@jupyter-widgets/base",
      "model_module_version": "1.2.0",
      "model_name": "LayoutModel",
      "state": {}
     },
     "fd1c1acc857a4c1ca474d2c089d507e5": {
      "model_module": "@jupyter-widgets/output",
      "model_module_version": "1.0.0",
      "model_name": "OutputModel",
      "state": {
       "layout": "IPY_MODEL_b9373183ba714d28bdb8922959be96f1"
      }
     },
     "fd277f5eccdc4d45827486daf5babdb2": {
      "model_module": "@jupyter-widgets/base",
      "model_module_version": "1.2.0",
      "model_name": "LayoutModel",
      "state": {}
     },
     "fd4614be6ad74c2d9b1cb12046b51d58": {
      "model_module": "@jupyter-widgets/base",
      "model_module_version": "1.2.0",
      "model_name": "LayoutModel",
      "state": {}
     },
     "fd534d5649094db7a5327c2a34072b9a": {
      "model_module": "@jupyter-widgets/controls",
      "model_module_version": "1.5.0",
      "model_name": "HTMLModel",
      "state": {
       "layout": "IPY_MODEL_bed5c7305de54764997469403841ac58",
       "style": "IPY_MODEL_8e3d4b62d56e47e0bdc02b1bf0237f48",
       "value": "<p>fus foo ous o</p>"
      }
     },
     "fd69f87147ca4484b0e06922031adbc9": {
      "model_module": "@jupyter-widgets/controls",
      "model_module_version": "1.5.0",
      "model_name": "HBoxModel",
      "state": {
       "children": [
        "IPY_MODEL_5cbf192af94544bc82cb09e7c2e3911f",
        "IPY_MODEL_37dfe1728b9e42d5b5a69b72ec6bae13"
       ],
       "layout": "IPY_MODEL_5562537ed8a544a7bd42953945883704"
      }
     },
     "fd84fbbbd5814b3fadb3b1611c646a9c": {
      "model_module": "@jupyter-widgets/base",
      "model_module_version": "1.2.0",
      "model_name": "LayoutModel",
      "state": {
       "align_items": "stretch",
       "display": "flex",
       "flex_flow": "row",
       "grid_auto_columns": "True",
       "justify_content": "flex-end",
       "width": "90%"
      }
     },
     "fdb0f071fab845b59f95b5fd15333fca": {
      "model_module": "@jupyter-widgets/base",
      "model_module_version": "1.2.0",
      "model_name": "LayoutModel",
      "state": {
       "align_items": "stretch",
       "display": "flex",
       "flex_flow": "row",
       "grid_auto_columns": "True",
       "justify_content": "flex-end",
       "width": "90%"
      }
     },
     "fdc033767b93475dbbacaf78ec0074eb": {
      "model_module": "@jupyter-widgets/controls",
      "model_module_version": "1.5.0",
      "model_name": "HTMLModel",
      "state": {
       "layout": "IPY_MODEL_f4584a5444694443b0d14ba88db98b42",
       "style": "IPY_MODEL_262a9d6173a04f2dacc11c8f4dd003cc",
       "value": "<p>Tag for the Model, used within file naming</p>"
      }
     },
     "fdf1ea9d73c2467fa44c3f067e142865": {
      "model_module": "@jupyter-widgets/controls",
      "model_module_version": "1.5.0",
      "model_name": "ButtonStyleModel",
      "state": {
       "font_weight": "bold"
      }
     },
     "fdff935e9a974667881fb9afa236fbac": {
      "model_module": "@jupyter-widgets/controls",
      "model_module_version": "1.5.0",
      "model_name": "DescriptionStyleModel",
      "state": {
       "description_width": ""
      }
     },
     "fe14f39d07474db78da1414c1fd1df88": {
      "model_module": "@jupyter-widgets/base",
      "model_module_version": "1.2.0",
      "model_name": "LayoutModel",
      "state": {}
     },
     "fec8892580f140049f11efe9e38a098d": {
      "model_module": "@jupyter-widgets/output",
      "model_module_version": "1.0.0",
      "model_name": "OutputModel",
      "state": {
       "layout": "IPY_MODEL_7b074c62fcc14ab18f2d523390721cb7"
      }
     },
     "fee29f7c1e364d479436e400caca6da0": {
      "model_module": "@jupyter-widgets/output",
      "model_module_version": "1.0.0",
      "model_name": "OutputModel",
      "state": {
       "layout": "IPY_MODEL_0b03b1e16899451d822781797a28257e"
      }
     },
     "ff2696bdf54443a9b80f7866efb06ebc": {
      "model_module": "@jupyter-widgets/output",
      "model_module_version": "1.0.0",
      "model_name": "OutputModel",
      "state": {
       "layout": "IPY_MODEL_8e427e30f62c4ad3ab9250b71a436876"
      }
     },
     "ff5d67f7847c4d1e81402143f672113c": {
      "model_module": "@jupyter-widgets/controls",
      "model_module_version": "1.5.0",
      "model_name": "DescriptionStyleModel",
      "state": {
       "description_width": ""
      }
     }
    },
    "version_major": 2,
    "version_minor": 0
   }
  }
 },
 "nbformat": 4,
 "nbformat_minor": 4
}
