{
 "cells": [
  {
   "cell_type": "code",
   "execution_count": 1,
   "metadata": {},
   "outputs": [],
   "source": [
    "import os\n",
    "import pandas as pd\n",
    "from IPython.display import display, Image, JSON, Markdown, HTML, display_pdf, clear_output\n",
    "import time\n",
    "from ipyaggrid import Grid\n",
    "import ipywidgets as widgets\n",
    "from markdown import markdown\n",
    "import plotly.io as pio\n",
    "\n",
    "from mf_modules.mydocstring_display import display_module_docstring\n",
    "from mf_modules.pandas_operations import del_matching\n",
    "from mf_modules.jupyter_formatting import md_fromfile\n",
    "from mf_modules.jupyter_formatting import display_python_file\n",
    "from mf_modules.file_operations import open_file\n",
    "from mf_modules.pydtype_operations import read_json, read_txt, read_yaml"
   ]
  },
  {
   "cell_type": "code",
   "execution_count": 2,
   "metadata": {},
   "outputs": [],
   "source": [
    "\n",
    "def default_ipyagrid(df):\n",
    "    \n",
    "    \"\"\"\n",
    "    returns a default ipyagrid class\n",
    "    \n",
    "    Reference:\n",
    "        https://dgothrek.gitlab.io/ipyaggrid/\n",
    "    \"\"\"\n",
    "    #https://dgothrek.gitlab.io/ipyaggrid/\n",
    "    grid_options = {\n",
    "        #'columnDefs' : column_defs,\n",
    "        'enableSorting': True,\n",
    "        'enableFilter': True,\n",
    "        'enableColResize': True,\n",
    "        'enableRangeSelection': True,\n",
    "    }\n",
    "    g = Grid(grid_data=df,\n",
    "            grid_options=grid_options,\n",
    "            quick_filter=True,\n",
    "            theme='ag-theme-balham')\n",
    "    return g\n",
    "\n",
    "def _markdown(value='_Markdown_',\n",
    "              **kwargs):\n",
    "    \"\"\"\n",
    "    a simple template for markdown text input that templates required input\n",
    "    fields. additional user defined fields can be added as kwargs\n",
    "    \"\"\"\n",
    "    _kwargs = {}\n",
    "    _kwargs['value'] = markdown(value)  # required field\n",
    "    _kwargs.update(kwargs)  # user overides\n",
    "    return widgets.HTML(**_kwargs)\n",
    "\n",
    "\n",
    "class PreviewPy():\n",
    "    \"\"\"\n",
    "    pass the class either a filepath or an imported \n",
    "    module and get a display output of the modules\n",
    "    docstring with a toggle option to view the code\n",
    "    \"\"\"\n",
    "    \n",
    "    def __init__(self, module):\n",
    "        self.input = module\n",
    "        self.out = widgets.Output()\n",
    "        self.fpth = self._handle_input()\n",
    "        self._init_form()\n",
    "        self._init_controls()\n",
    "        self._show_docstring()\n",
    "    \n",
    "    def _handle_input(self):\n",
    "        if str(type(self.input)) == \"<class 'module'>\":\n",
    "            fpth = self.input.__file__\n",
    "        else:\n",
    "            fpth = self.input\n",
    "        if os.path.splitext(fpth)[1] !='.py':\n",
    "            print('{0}: not a python file'.format(fpth))\n",
    "        return fpth\n",
    "\n",
    "    def _init_form(self):\n",
    "        self.show_me_the_code = widgets.ToggleButton(description='show source code',\n",
    "                              tooltip='shows the raw python code in the preview window below',\n",
    "                              button_style='info')\n",
    "    def _init_controls(self):\n",
    "        self.show_me_the_code.observe(self._show_me_the_code, 'value')\n",
    "        \n",
    "    def _show_docstring(self):\n",
    "        with self.out:\n",
    "            clear_output()\n",
    "            display(self.show_me_the_code)\n",
    "            display_module_docstring(self.fpth)\n",
    "        \n",
    "    def _show_me_the_code(self, sender):           \n",
    "        with self.out:\n",
    "            clear_output()\n",
    "            if self.show_me_the_code.value:  \n",
    "                display(self.show_me_the_code)\n",
    "                display(display_python_file(self.fpth))\n",
    "            else:\n",
    "                self._show_docstring()\n",
    "                \n",
    "    def display(self):\n",
    "        display(self.out)\n",
    "        \n",
    "    def _ipython_display_(self):\n",
    "        self.display()    \n",
    "        \n",
    "\n",
    "class DisplayFile():\n",
    "    \"\"\"\n",
    "    displays the contents of a file in the notebook. \n",
    "    where this requires data to be loaded in this is stored\n",
    "    as DisplayFile().data. Maps to the appropriate viewer using \n",
    "    the file extension. \n",
    "        self.map = {\n",
    "            '.csv':self.df_prev,\n",
    "            #'.xlsx':self.xl_prev,\n",
    "            '.xlsx':self._open_file,\n",
    "            '.json':self.json_prev,\n",
    "            '.yaml':self.yaml_prev,\n",
    "            '.yml':self.yaml_prev,\n",
    "            '.png':self.img_prev,\n",
    "            '.jpg':self.img_prev,\n",
    "            #'.obj':self.obj_prev,\n",
    "            #'.txt':self.txt_prev,\n",
    "            '.md':self.md_prev,\n",
    "            '.py':self.py_prev,\n",
    "            '.pdf':self._open_file,\n",
    "            '.docx':self._open_file,\n",
    "        }\n",
    "    \"\"\"\n",
    "    def __init__(self,\n",
    "                 fpth=os.path.join(os.environ['mf_root'],r'ipyrun\\data\\eg_filetypes\\eg_plotly.plotly'),\n",
    "                 description=None,\n",
    "                 mf_excel=True):\n",
    "        self.fpth = fpth\n",
    "        self.mf_excel = mf_excel\n",
    "        self.ext = os.path.splitext(fpth)[1].lower()\n",
    "    \n",
    "    @property\n",
    "    def _map(self):\n",
    "        return {\n",
    "            '.csv':self.df_prev,\n",
    "            '.xlsx':self.xl_prev,\n",
    "            #'.xlsx':self._open_option,\n",
    "            '.json':self.json_prev,\n",
    "            '.plotly':self.plotly_prev,\n",
    "            '.yaml':self.yaml_prev,\n",
    "            '.yml':self.yaml_prev,\n",
    "            '.png':self.img_prev,\n",
    "            '.jpg':self.img_prev,\n",
    "            #'.obj':self.obj_prev,\n",
    "            #'.txt':self.txt_prev,\n",
    "            '.md':self.md_prev,\n",
    "            '.py':self.py_prev,\n",
    "            '.pdf':self._open_option,\n",
    "            '.docx':self._open_option,\n",
    "        }        \n",
    "    \n",
    "    def preview_fpth(self): \n",
    "        self.ext_map = self._map\n",
    "        if self.ext not in list(self.ext_map.keys()):\n",
    "            self.ext_map[self.ext]=self._open_option           \n",
    "        fn = self.ext_map[self.ext]\n",
    "        fn()\n",
    "        \n",
    "    def _display_meta(self):\n",
    "        self.text = _markdown('`{0}`'.format(self.fpth))\n",
    "        \n",
    "    def _init_controls(self):\n",
    "        self.open_file.on_click(self._open_file)\n",
    "    \n",
    "    def _open_form(self):\n",
    "        self.open_file = widgets.Button(description='open file',button_style='success')\n",
    "        #self.text = widgets.Text(value=self.fpth,locked=True)\n",
    "        self.text = _markdown('`{0}`'.format(self.fpth))\n",
    "        self.open_form = widgets.HBox([self.open_file,self.text])\n",
    "        \n",
    "    def _open_option(self):\n",
    "        self._open_form()\n",
    "        self._init_controls()\n",
    "        display(self.open_form)\n",
    "        \n",
    "    def _open_file(self, sender):\n",
    "        open_file(self.fpth)\n",
    "        self.text.value = markdown('opening: `{0}`'.format(self.fpth))\n",
    "        time.sleep(5)\n",
    "        self.text.value = markdown('`{0}`'.format(self.fpth))\n",
    "        \n",
    "    def df_prev(self):\n",
    "        \"\"\"\n",
    "        previes dataframe using the awesome ipyagrid\n",
    "        \n",
    "        Reference:\n",
    "            https://dgothrek.gitlab.io/ipyaggrid/\n",
    "        \"\"\"\n",
    "        self.data = del_matching(pd.read_csv(self.fpth),'Unnamed')\n",
    "        try:\n",
    "            g = default_ipyagrid(self.data)\n",
    "            display(g)\n",
    "        except:\n",
    "            display(self.data.style)\n",
    "        \n",
    "    def json_prev(self):\n",
    "        self.data = read_json(self.fpth)\n",
    "        display(JSON(self.data))\n",
    "        \n",
    "    def plotly_prev(self):\n",
    "        \"\"\"\n",
    "        display a plotly json file\n",
    "        \"\"\"\n",
    "        display(pio.read_json(self.fpth))\n",
    "            \n",
    "    def yaml_prev(self):\n",
    "        self.data = read_yaml(self.fpth)\n",
    "        display(JSON(self.data))\n",
    "    \n",
    "    def img_prev(self):\n",
    "        display(Image(self.fpth))\n",
    "        \n",
    "    def md_prev(self):\n",
    "        display(Markdown(\"`IMAGES WON'T DISPLAY UNLESS THE MARKDOWN FILE IS IN THE SAME FOLDER AS THIS JUPYTER NOTEBOOK`\"))\n",
    "        md_fromfile(self.fpth)\n",
    "        \n",
    "    def py_prev(self):\n",
    "        \"\"\"\n",
    "        pass the fpth of a python file and get a \n",
    "        rendered view of the code. \n",
    "        \"\"\"\n",
    "        p = PreviewPy(self.fpth)\n",
    "        display(p)\n",
    "        \n",
    "    def xl_prev(self):\n",
    "        \"\"\"\n",
    "        \n",
    "        \"\"\"\n",
    "        if self.mf_excel:\n",
    "            cols = ['sheet_name','description']\n",
    "            li = pd.read_excel(self.fpth,sheet_name='readme').set_index('index').T[cols].to_dict(orient='rows')\n",
    "            for l in li:\n",
    "                l['grid'] = default_ipyagrid(pd.read_excel(self.fpth,sheet_name=l['sheet_name']))\n",
    "                display(Markdown('### {0}'.format(l['sheet_name'])))\n",
    "                display(Markdown('{0}'.format(l['description'])))\n",
    "                display(l['grid'])\n",
    "        else:\n",
    "            self._open_option()"
   ]
  },
  {
   "cell_type": "code",
   "execution_count": 3,
   "metadata": {},
   "outputs": [],
   "source": [
    "class DisplayFiles():\n",
    "    def __init__(self, fpths):\n",
    "        self.out = widgets.Output();\n",
    "        if type(fpths) != list:\n",
    "            self.fpths = [fpths]\n",
    "        else:\n",
    "            self.fpths = fpths\n",
    "        self.fnms = [os.path.basename(fpth) for fpth in self.fpths];\n",
    "        self._init_previews()\n",
    "        self._init_form()\n",
    "        self._init_controls()\n",
    "\n",
    "    def _init_previews(self):\n",
    "        self.previews = [DisplayFile(fpth) for fpth in self.fpths];\n",
    "        self.map_previews = dict(zip(self.fnms,self.previews))\n",
    "        self.map_fpths = dict(zip(self.fnms,self.fpths))\n",
    "        \n",
    "    def _init_form(self):\n",
    "        self.outputsfpth = widgets.SelectMultiple(options=self.fnms,\n",
    "                                           layout=widgets.Layout(indent=False,\n",
    "                                                      width='auto',\n",
    "                                                      height='auto',\n",
    "                                                      flex_flow='column'))\n",
    "        self.show_hide = widgets.ToggleButton(description='display/hide files',\n",
    "                              tooltip='shows and hides display outputs of the files selected in the SelectMultiple dropdown menu',\n",
    "                              button_style='success')\n",
    "        \n",
    "    def _init_controls(self):\n",
    "        self.show_hide.observe(self._show_hide, 'value')\n",
    "        self.outputsfpth.observe(self._show_hide, 'value')\n",
    "    \n",
    "    def display_previews(self):\n",
    "        for file in self.outputsfpth.value:\n",
    "            display(Markdown('#### {0}'.format(os.path.splitext(os.path.basename(file))[0])))\n",
    "            s = str(self.map_previews[file]._map[self.map_previews[file].ext])\n",
    "            if 'DisplayFile._open_option' not in s:\n",
    "                display(Markdown('`{0}`'.format(self.map_fpths[file])))\n",
    "            self.map_previews[file].preview_fpth()\n",
    "            \n",
    "    def _show_hide(self, sender):\n",
    "        with self.out:\n",
    "            clear_output()\n",
    "            if self.show_hide.value:  \n",
    "                self.display_previews()\n",
    "            else:\n",
    "                pass\n",
    "        \n",
    "    def display(self):\n",
    "        display(self.show_hide)\n",
    "        display(self.outputsfpth)\n",
    "        display(self.out)\n",
    "        \n",
    "    def _ipython_display_(self):\n",
    "        self.display() "
   ]
  },
  {
   "cell_type": "code",
   "execution_count": 4,
   "metadata": {
    "lines_to_end_of_cell_marker": 2,
    "lines_to_next_cell": 0
   },
   "outputs": [
    {
     "data": {
      "text/markdown": [
       "### Example0"
      ],
      "text/plain": [
       "<IPython.core.display.Markdown object>"
      ]
     },
     "metadata": {},
     "output_type": "display_data"
    },
    {
     "data": {
      "text/markdown": [
       "display single file"
      ],
      "text/plain": [
       "<IPython.core.display.Markdown object>"
      ]
     },
     "metadata": {},
     "output_type": "display_data"
    },
    {
     "data": {
      "application/vnd.jupyter.widget-view+json": {
       "model_id": "291dd1d012b14b11877f7dfaaf3ff29d",
       "version_major": 2,
       "version_minor": 0
      },
      "text/plain": [
       "Grid(columns_fit='size_to_fit', compress_data=True, export_mode='disabled', height='350px', menu={'buttons': […"
      ]
     },
     "metadata": {},
     "output_type": "display_data"
    },
    {
     "data": {
      "text/plain": [
       "None"
      ]
     },
     "metadata": {},
     "output_type": "display_data"
    },
    {
     "data": {
      "text/markdown": [
       "---"
      ],
      "text/plain": [
       "<IPython.core.display.Markdown object>"
      ]
     },
     "metadata": {},
     "output_type": "display_data"
    },
    {
     "data": {
      "text/markdown": [],
      "text/plain": [
       "<IPython.core.display.Markdown object>"
      ]
     },
     "metadata": {},
     "output_type": "display_data"
    },
    {
     "data": {
      "text/markdown": [
       "### Example1"
      ],
      "text/plain": [
       "<IPython.core.display.Markdown object>"
      ]
     },
     "metadata": {},
     "output_type": "display_data"
    },
    {
     "data": {
      "text/markdown": [
       "display single file"
      ],
      "text/plain": [
       "<IPython.core.display.Markdown object>"
      ]
     },
     "metadata": {},
     "output_type": "display_data"
    },
    {
     "data": {
      "application/vnd.jupyter.widget-view+json": {
       "model_id": "52da50e372114f728822597900140ac4",
       "version_major": 2,
       "version_minor": 0
      },
      "text/plain": [
       "ToggleButton(value=False, button_style='success', description='display/hide files', tooltip='shows and hides d…"
      ]
     },
     "metadata": {},
     "output_type": "display_data"
    },
    {
     "data": {
      "application/vnd.jupyter.widget-view+json": {
       "model_id": "90414298662446648989184e6d767993",
       "version_major": 2,
       "version_minor": 0
      },
      "text/plain": [
       "SelectMultiple(layout=Layout(flex_flow='column', height='auto', width='auto'), options=('eg_csv.csv', 'eg_docx…"
      ]
     },
     "metadata": {},
     "output_type": "display_data"
    },
    {
     "data": {
      "application/vnd.jupyter.widget-view+json": {
       "model_id": "cefe2d64effb4850acd9476db580c34a",
       "version_major": 2,
       "version_minor": 0
      },
      "text/plain": [
       "Output()"
      ]
     },
     "metadata": {},
     "output_type": "display_data"
    },
    {
     "data": {
      "text/markdown": [
       "---"
      ],
      "text/plain": [
       "<IPython.core.display.Markdown object>"
      ]
     },
     "metadata": {},
     "output_type": "display_data"
    },
    {
     "data": {
      "text/markdown": [],
      "text/plain": [
       "<IPython.core.display.Markdown object>"
      ]
     },
     "metadata": {},
     "output_type": "display_data"
    }
   ],
   "source": [
    "if __name__ =='__main__':\n",
    "    # NOTE FOR FUTURE:\n",
    "    # the below can be used to make documentation that looks at all functions or classes \n",
    "    # rather than only the module level docstring. this would be an update to the PreviewPy class\n",
    "    # +\n",
    "    from inspect import getmembers, isfunction, isclass\n",
    "    from mf_modules import mydocstring_display\n",
    "\n",
    "    functions_list = [o for o in getmembers(mydocstring_display) if isfunction(o[1])]\n",
    "    class_list = [o for o in getmembers(mydocstring_display) if isclass(o[1])]\n",
    "    #functions_list\n",
    "    #class_list\n",
    "    # -\n",
    "    \n",
    "    \n",
    "    fdir = os.path.dirname(os.path.realpath('__file__'))\n",
    "    fdir = os.path.realpath(os.path.join(fdir,r'..\\data\\eg_filetypes'))\n",
    "\n",
    "    from mf_modules.datamine_functions import recursive_glob\n",
    "    fpths = recursive_glob(rootdir=fdir)\n",
    "    \n",
    "    # single file\n",
    "    d0 = DisplayFile(fpths[0])\n",
    "    display(Markdown('### Example0'))\n",
    "    display(Markdown('''display single file'''))\n",
    "    display(d0.preview_fpth())\n",
    "    display(Markdown('---'))  \n",
    "    display(Markdown('')) \n",
    "    \n",
    "    # multiple file\n",
    "    d1 = DisplayFiles(fpths)\n",
    "    display(Markdown('### Example1'))\n",
    "    display(Markdown('''display single file'''))\n",
    "    display(d1)\n",
    "    display(Markdown('---'))  \n",
    "    display(Markdown('')) "
   ]
  },
  {
   "cell_type": "code",
   "execution_count": null,
   "metadata": {},
   "outputs": [],
   "source": []
  },
  {
   "cell_type": "code",
   "execution_count": null,
   "metadata": {
    "lines_to_next_cell": 2
   },
   "outputs": [],
   "source": []
  }
 ],
 "metadata": {
  "jupytext": {
   "formats": "ipynb,py:light"
  },
  "kernelspec": {
   "display_name": "Python [conda env:mf_main] *",
   "language": "python",
   "name": "conda-env-mf_main-py"
  },
  "language_info": {
   "codemirror_mode": {
    "name": "ipython",
    "version": 3
   },
   "file_extension": ".py",
   "mimetype": "text/x-python",
   "name": "python",
   "nbconvert_exporter": "python",
   "pygments_lexer": "ipython3",
   "version": "3.7.7"
  },
  "widgets": {
   "application/vnd.jupyter.widget-state+json": {
    "state": {
     "031fbf927f064466977bda7d4ef9b67a": {
      "buffers": [
       {
        "data": "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",
        "encoding": "base64",
        "path": [
         "_grid_data_up"
        ]
       }
      ],
      "model_module": "ipyaggrid",
      "model_module_version": "~0.2.1",
      "model_name": "AgGridModel",
      "state": {
       "_grid_data_down": [
        {
         "description": "one minute time step in seconds",
         "names": "InnerDeltaTime",
         "units": null
        },
        {
         "description": "Number of Pipe Heat Transfer objects",
         "names": "nsvNumOfPipeHT",
         "units": null
        },
        {
         "description": "module variable for inlet node number",
         "names": "nsvInletNodeNum",
         "units": null
        },
        {
         "description": "module variable for outlet node number",
         "names": "nsvOutletNodeNum",
         "units": null
        },
        {
         "description": "object index",
         "names": "nsvPipeHTNum",
         "units": null
        },
        {
         "description": "pipe mass flow rate",
         "names": "nsvMassFlowRate",
         "units": null
        },
        {
         "description": "pipe volumetric flow rate",
         "names": "nsvVolumeFlowRate",
         "units": null
        },
        {
         "description": "time change from last update",
         "names": "nsvDeltaTime",
         "units": null
        },
        {
         "description": "pipe inlet temperature",
         "names": "nsvInletTemp",
         "units": null
        },
        {
         "description": "pipe outlet temperature",
         "names": "nsvOutletTemp",
         "units": null
        },
        {
         "description": "environmental temperature (surrounding pipe)",
         "names": "nsvEnvironmentTemp",
         "units": null
        },
        {
         "description": "heat loss rate from pipe to the environment",
         "names": "nsvEnvHeatLossRate",
         "units": null
        },
        {
         "description": "overall heat loss from fluid to pipe",
         "names": "nsvFluidHeatLossRate",
         "units": null
        },
        {
         "description": "the number of \"inner\" time steps for our model",
         "names": "nsvNumInnerTimeSteps",
         "units": null
        },
        {
         "description": "First time, input is \"gotten\"",
         "names": "GetPipeInputFlag",
         "units": null
        },
        {
         "description": "construction object name",
         "names": "Construction",
         "units": null
        },
        {
         "description": "keyword:  'Schedule', 'OutdoorAir', 'Zone'",
         "names": "Environment",
         "units": null
        },
        {
         "description": "temperature schedule for environmental temp",
         "names": "EnvrSchedule",
         "units": null
        },
        {
         "description": "temperature schedule for environmental temp",
         "names": "EnvrVelSchedule",
         "units": null
        },
        {
         "description": "zone providing environmental temp",
         "names": "EnvrZone",
         "units": null
        },
        {
         "description": "outside air node providing environmental temp",
         "names": "EnvrAirNode",
         "units": null
        },
        {
         "description": "total pipe length [m]",
         "names": "Length",
         "units": "m"
        },
        {
         "description": "pipe inside diameter [m]",
         "names": "PipeID",
         "units": "m"
        },
        {
         "description": "inlet node name",
         "names": "InletNode",
         "units": null
        },
        {
         "description": "outlet node name",
         "names": "OutletNode",
         "units": null
        },
        {
         "description": "inlet node number",
         "names": "InletNodeNum",
         "units": null
        },
        {
         "description": "outlet node number",
         "names": "OutletNodeNum",
         "units": null
        },
        {
         "description": "Type of pipe",
         "names": "TypeOf",
         "units": null
        },
        {
         "description": "construction ref number",
         "names": "ConstructionNum",
         "units": null
        },
        {
         "description": "pointer to schedule used to set environmental temp",
         "names": "EnvrSchedPtr",
         "units": null
        },
        {
         "description": "pointer to schedule used to set environmental temp",
         "names": "EnvrVelSchedPtr",
         "units": null
        },
        {
         "description": "pointer to zone number used to set environmental temp",
         "names": "EnvrZonePtr",
         "units": null
        },
        {
         "description": "pointer to outside air node used to set environmental temp",
         "names": "EnvrAirNodeNum",
         "units": null
        },
        {
         "description": "total number of nodes along pipe length",
         "names": "NumSections",
         "units": null
        },
        {
         "description": "fluid Cp [J/kg.K]",
         "names": "FluidSpecHeat",
         "units": "J/kg.K"
        },
        {
         "description": "density [kg/m3]",
         "names": "FluidDensity",
         "units": "kg/m3"
        },
        {
         "description": "max flow rate (from loop/node data)",
         "names": "MaxFlowRate",
         "units": null
        },
        {
         "description": "volume of each pipe section (node) [m^3]",
         "names": "FluidSectionVol",
         "units": "m^3"
        },
        {
         "description": "pipe section inside surface area [m^2]",
         "names": "InsideArea",
         "units": "m^2"
        },
        {
         "description": "pipe section outside surface area [m^2]",
         "names": "OutsideArea",
         "units": "m^2"
        },
        {
         "description": "cross sectional area [m^2]",
         "names": "SectionArea",
         "units": "m^2"
        },
        {
         "description": "heat capacity of pipe section [J/m.K]",
         "names": "PipeHeatCapacity",
         "units": "J/m.K"
        },
        {
         "description": "pipe outside diameter [m]",
         "names": "PipeOD",
         "units": "m"
        },
        {
         "description": "pipe materail Cp [J/kg.K]",
         "names": "PipeCp",
         "units": "J/kg.K"
        },
        {
         "description": "pipe material density [kg/m3]",
         "names": "PipeDensity",
         "units": "kg/m3"
        },
        {
         "description": "pipe material thermal conductivity [W/m.K]",
         "names": "PipeConductivity",
         "units": "W/m.K"
        },
        {
         "description": "insulation outside diameter [m]",
         "names": "InsulationOD",
         "units": "m"
        },
        {
         "description": "insulation  specific heat [J/kg.K]",
         "names": "InsulationCp",
         "units": "J/kg.K"
        },
        {
         "description": "insulation density [kg/m3]",
         "names": "InsulationDensity",
         "units": "kg/m3"
        },
        {
         "description": "insulation conductivity [W/m.K]",
         "names": "InsulationConductivity",
         "units": "W/m.K"
        },
        {
         "description": "insulation thickness [m]",
         "names": "InsulationThickness",
         "units": "m"
        },
        {
         "description": "Insulation thermal resistance [m2.K/W]",
         "names": "InsulationResistance",
         "units": "m2.K/W"
        },
        {
         "description": "Current simulation time [hr]",
         "names": "CurrentSimTime",
         "units": "hr"
        },
        {
         "description": "simulation time the report data was last updated",
         "names": "PreviousSimTime",
         "units": null
        },
        {
         "description": "arrays for fluid and pipe temperatures at each node",
         "names": "FluidTemp",
         "units": null
        },
        {
         "description": "number of soil grid points in the depth direction",
         "names": "NumDepthNodes",
         "units": null
        },
        {
         "description": "soil depth grid point where pipe is located",
         "names": "PipeNodeDepth",
         "units": null
        },
        {
         "description": "soil width grid point where pipe is located",
         "names": "PipeNodeWidth",
         "units": null
        },
        {
         "description": "pipe burial depth [m]",
         "names": "PipeDepth",
         "units": "m"
        },
        {
         "description": "soil grid depth [m]",
         "names": "DomainDepth",
         "units": "m"
        },
        {
         "description": "grid spacing in cartesian domain [m]",
         "names": "dSregular",
         "units": "m"
        },
        {
         "description": "soil to air convection coefficient [W/m2.K]",
         "names": "OutdoorConvCoef",
         "units": "W/m2.K"
        },
        {
         "description": "name of soil material:regular object",
         "names": "SoilMaterial",
         "units": null
        },
        {
         "description": "soil material index in material data structure",
         "names": "SoilMaterialNum",
         "units": null
        },
        {
         "description": "month of minimum ground surface temperature",
         "names": "MonthOfMinSurfTemp",
         "units": null
        },
        {
         "description": "minimum annual surface temperature [C]",
         "names": "MinSurfTemp",
         "units": "C"
        },
        {
         "description": "density of soil [kg/m3]",
         "names": "SoilDensity",
         "units": "kg/m3"
        },
        {
         "description": "thickness of soil [m]",
         "names": "SoilDepth",
         "units": "m"
        },
        {
         "description": "specific heat of soil [J/kg.K]",
         "names": "SoilCp",
         "units": "J/kg.K"
        },
        {
         "description": "thermal conductivity of soil [W/m.K]",
         "names": "SoilConductivity",
         "units": "W/m.K"
        },
        {
         "description": "ground surface roughness",
         "names": "SoilRoughness",
         "units": null
        },
        {
         "description": "ground surface thermal absorptivity",
         "names": "SoilThermAbs",
         "units": null
        },
        {
         "description": "ground surface solar absorptivity",
         "names": "SoilSolarAbs",
         "units": null
        },
        {
         "description": "soil surface finite difference coefficient",
         "names": "CoefS1",
         "units": null
        },
        {
         "description": "soil surface finite difference coefficient",
         "names": "CoefS2",
         "units": null
        },
        {
         "description": "soil finite difference coefficient",
         "names": "CoefA1",
         "units": null
        },
        {
         "description": "soil finite difference coefficient",
         "names": "CoefA2",
         "units": null
        },
        {
         "description": "soil Fourier number based on grid spacing",
         "names": "FourierDS",
         "units": null
        },
        {
         "description": "soil thermal diffusivity [m2/s]",
         "names": "SoilDiffusivity",
         "units": "m2/s"
        },
        {
         "description": "soil thermal diffusivity [m2/day]",
         "names": "SoilDiffusivityPerDay",
         "units": "m2/day"
        },
        {
         "description": "soil temperature array",
         "names": "T",
         "units": null
        },
        {
         "description": "begin sim and begin environment flag",
         "names": "BeginSimInit",
         "units": null
        },
        {
         "description": "begin sim and begin environment flag",
         "names": "BeginSimEnvrn",
         "units": null
        },
        {
         "description": "Flag to determine if solar is included at ground surface",
         "names": "SolarExposed",
         "units": null
        },
        {
         "description": "Sum of thickness/conductivity over all material layers",
         "names": "SumTK",
         "units": null
        },
        {
         "description": "Lagged energy summation for zone heat gain {W}",
         "names": "ZoneHeatGainRate",
         "units": null
        },
        {
         "description": "PlantLoop index where this pipe lies",
         "names": "LoopNum",
         "units": null
        },
        {
         "description": "PlantLoop%LoopSide index where this pipe lies",
         "names": "LoopSideNum",
         "units": null
        },
        {
         "description": "..LoopSide%Branch index where this pipe lies",
         "names": "BranchNum",
         "units": null
        },
        {
         "description": "..Branch%Comp index where this pipe lies",
         "names": "CompNum",
         "units": null
        },
        {
         "description": "inlet temperature [C]",
         "names": "FluidInletTemp",
         "units": "C"
        },
        {
         "description": "outlet temperature [C]",
         "names": "FluidOutletTemp",
         "units": "C"
        },
        {
         "description": "mass flow rate [kg/s]",
         "names": "MassFlowRate",
         "units": "kg/s"
        },
        {
         "description": "overall heat transfer rate from fluid to pipe [W]",
         "names": "FluidHeatLossRate",
         "units": "W"
        },
        {
         "description": "energy transferred from fluid to pipe [J]",
         "names": "FluidHeatLossEnergy",
         "units": "J"
        },
        {
         "description": "pipe temperature at inlet [C]",
         "names": "PipeInletTemp",
         "units": "C"
        },
        {
         "description": "pipe temperature at Oulet [C]",
         "names": "PipeOutletTemp",
         "units": "C"
        },
        {
         "description": "overall heat transfer rate from pipe to environment [W]",
         "names": "EnvironmentHeatLossRate",
         "units": "W"
        },
        {
         "description": "energy transferred from pipe to environment [J]",
         "names": "EnvHeatLossEnergy",
         "units": "J"
        },
        {
         "description": "component number",
         "names": "error",
         "units": null
        },
        {
         "description": "Current Depth",
         "names": "error",
         "units": null
        },
        {
         "description": "Current Simulation Day",
         "names": "error",
         "units": null
        },
        {
         "description": "Temperature of water entering the surface, in C",
         "names": "error",
         "units": null
        },
        {
         "description": "Mass flow rate, in kg/s",
         "names": "error",
         "units": null
        },
        {
         "description": "Pipe diameter, m",
         "names": "error",
         "units": null
        },
        {
         "description": "Index for the surface under consideration",
         "names": "ReportPipesHeatTransfer()",
         "units": null
        },
        {
         "description": "module object of pipe (error messages)",
         "names": "error",
         "units": null
        },
        {
         "description": "construction name of pipe (error messages)",
         "names": "error",
         "units": null
        },
        {
         "description": "fieldname of pipe (error messages)",
         "names": "error",
         "units": null
        },
        {
         "description": "pointer into construction data",
         "names": "error",
         "units": null
        },
        {
         "description": "set to true if errors found here",
         "names": "error",
         "units": null
        }
       ],
       "_grid_data_up": {},
       "_grid_options_mono_down": "{\"enableSorting\": true, \"enableFilter\": true, \"enableColResize\": true, \"enableRangeSelection\": true, \"columnDefs\": [{\"field\": \"names\", \"type\": \"textColumn\", \"headerName\": \"Names\"}, {\"field\": \"description\", \"type\": \"textColumn\", \"headerName\": \"Description\"}, {\"field\": \"units\", \"type\": \"textColumn\", \"headerName\": \"Units\"}], \"columnTypes\": {\"numberColumn\": {\"filter\": \"agNumberColumnFilter\"}, \"textColumn\": {\"filter\": \"agTextColumnFilter\"}, \"dateColumn\": {\"valueFormatter\": \"helpers.dateFormatter\", \"filter\": \"agDateColumnFilter\", \"filterParams\": {\"comparator\": \"helpers.compareDates\"}}}}",
       "_id": 944126260,
       "_js_helpers_builtin": "helpersBuiltin = {\n    dateFormatter: function(node) {\n        // make sure date is not undefined\n        if (node && node.value) {\n            let d = new Date(node.value);\n            let h = d.getHours();\n            let m = d.getMinutes();\n            let s = d.getSeconds();\n            const offset = d.getTimezoneOffset() * 60000;\n            d = new Date(d.getTime() - offset);\n            const ymd = d.toISOString().substring(0, 10);\n            if (h === 0 && m === 0 && s === 0) {\n                return ymd;\n            }\n            if (h === 0) h = '00';\n            if (m === 0) m = '00';\n            if (s === 0) s = '00';\n            return `${ymd} ${h}:${m}:${s}`;\n        }\n        return null;\n    },\n\n    formatInt: d3.format(',.0f'),\n    formatFloat: d3.format(',.2f'),\n\n    intFormatter: function(node) {\n        return formatInt(node.value);\n    },\n\n    floatFormatter: function(node) {\n        return formatFloat(node.value);\n    },\n\n    compareDates: function(filterLocalDate, cellValue) {\n        // Assume dates are stored as iso\n        const cellDate = new Date(cellValue);\n\n        if (cellDate < filterLocalDate) {\n            return -1;\n        } else if (cellDate > filterLocalDate) {\n            return 1;\n        }\n        return 0;\n    },\n\n    sizeToFit: function(gridOptions) {\n        gridOptions.api.sizeColumnsToFit();\n    },\n\n    autoSizeAll: function(gridOptions) {\n        const allColumnIds = [];\n        gridOptions.columnApi.getAllColumns().forEach(column => {\n            allColumnIds.push(column.colId);\n        });\n        gridOptions.columnApi.autoSizeColumns(allColumnIds);\n    },\n\n    /**\n     * Exporting data to CSV using ag-Grid api.\n     * @param {Object} gridOptions\n     */\n    exportToCsv: function(gridOptions) {\n        const params = {\n            skipHeader: false,\n            columnGroups: true,\n            skipFooters: false,\n            skipGroups: false,\n            skipPinnedTop: false,\n            skipPinnedBottom: false,\n            allColumns: true,\n            onlySelected: false,\n            suppressQuotes: true,\n            fileName: 'my_file.csv',\n            sheetName: 'my_sheet',\n            shouldRowBeSkipped: () => false,\n            processCellCallback: param => param.value,\n            processHeaderCallback: null,\n        };\n        gridOptions.api.exportDataAsCsv(params);\n    },\n\n    /**\n     * Exporting data to Excel using ag-Grid api.\n     * @param {Object} gridOptions\n     */\n    exportToExcel: function(gridOptions) {\n        const params = {\n            skipHeader: false,\n            columnGroups: true,\n            skipFooters: false,\n            skipGroups: false,\n            skipPinnedTop: false,\n            skipPinnedBottom: false,\n            allColumns: true,\n            onlySelected: false,\n            suppressQuotes: true,\n            fileName: 'my_file.xls',\n            sheetName: 'my_sheet',\n            shouldRowBeSkipped: () => false, // TODO : check\n            processCellCallback: param => param.value,\n            processHeaderCallback: null,\n        };\n        gridOptions.api.exportDataAsExcel(params);\n    },\n};\n",
       "columns_fit": "size_to_fit",
       "compress_data": true,
       "export_mode": "disabled",
       "height": "350px",
       "js_helpers": "{\"dateFormatter\":\"function(node) {\\n        // make sure date is not undefined\\n        if (node && node.value) {\\n            let d = new Date(node.value);\\n            let h = d.getHours();\\n            let m = d.getMinutes();\\n            let s = d.getSeconds();\\n            const offset = d.getTimezoneOffset() * 60000;\\n            d = new Date(d.getTime() - offset);\\n            const ymd = d.toISOString().substring(0, 10);\\n            if (h === 0 && m === 0 && s === 0) {\\n                return ymd;\\n            }\\n            if (h === 0) h = '00';\\n            if (m === 0) m = '00';\\n            if (s === 0) s = '00';\\n            return `${ymd} ${h}:${m}:${s}`;\\n        }\\n        return null;\\n    }\",\"formatInt\":\" >-,.0f\",\"formatFloat\":\" >-,.2f\",\"intFormatter\":\"function(node) {\\n        return formatInt(node.value);\\n    }\",\"floatFormatter\":\"function(node) {\\n        return formatFloat(node.value);\\n    }\",\"compareDates\":\"function(filterLocalDate, cellValue) {\\n        // Assume dates are stored as iso\\n        const cellDate = new Date(cellValue);\\n\\n        if (cellDate < filterLocalDate) {\\n            return -1;\\n        } else if (cellDate > filterLocalDate) {\\n            return 1;\\n        }\\n        return 0;\\n    }\",\"sizeToFit\":\"function(gridOptions) {\\n        gridOptions.api.sizeColumnsToFit();\\n    }\",\"autoSizeAll\":\"function(gridOptions) {\\n        const allColumnIds = [];\\n        gridOptions.columnApi.getAllColumns().forEach(column => {\\n            allColumnIds.push(column.colId);\\n        });\\n        gridOptions.columnApi.autoSizeColumns(allColumnIds);\\n    }\",\"exportToCsv\":\"function(gridOptions) {\\n        const params = {\\n            skipHeader: false,\\n            columnGroups: true,\\n            skipFooters: false,\\n            skipGroups: false,\\n            skipPinnedTop: false,\\n            skipPinnedBottom: false,\\n            allColumns: true,\\n            onlySelected: false,\\n            suppressQuotes: true,\\n            fileName: 'my_file.csv',\\n            sheetName: 'my_sheet',\\n            shouldRowBeSkipped: () => false,\\n            processCellCallback: param => param.value,\\n            processHeaderCallback: null,\\n        };\\n        gridOptions.api.exportDataAsCsv(params);\\n    }\",\"exportToExcel\":\"function(gridOptions) {\\n        const params = {\\n            skipHeader: false,\\n            columnGroups: true,\\n            skipFooters: false,\\n            skipGroups: false,\\n            skipPinnedTop: false,\\n            skipPinnedBottom: false,\\n            allColumns: true,\\n            onlySelected: false,\\n            suppressQuotes: true,\\n            fileName: 'my_file.xls',\\n            sheetName: 'my_sheet',\\n            shouldRowBeSkipped: () => false, // TODO : check\\n            processCellCallback: param => param.value,\\n            processHeaderCallback: null,\\n        };\\n        gridOptions.api.exportDataAsExcel(params);\\n    }\"}",
       "layout": "IPY_MODEL_3113bff577d941f09cd4844441280a65",
       "menu": {
        "button_div_css": ".flex-button-div-944126260 {\ndisplay: flex;\njustify-content: flex-start;\nalign-items: flex-start;\nalign-content: flex-start;\nflex-flow: row wrap;\n}\n",
        "buttons": [],
        "input_div_css": ".flex-input-div-944126260 {\ndisplay: flex;\njustify-content: flex-start;\nalign-items: baseline;\nalign-content: flex-start;\nflex-flow: row wrap;\n}\n",
        "inputs": [
         {
          "css": ".flex-child-quick-filter-944126260 {\norder: 0;\nalign-self: auto;\nmargin: 5px;\nflex: 0.00 1.00 auto;\nwidth: 150px;\n}\n",
          "name": "Quick Filter"
         }
        ],
        "menu_div_css": ".flex-menu-div-944126260 {\ndisplay: flex;\njustify-content: flex-start;\nalign-items: flex-start;\nalign-content: flex-start;\nflex-flow: row wrap;\n}\n"
       },
       "theme": "ag-theme-balham",
       "width": "100%"
      }
     },
     "04b1147f54ad46bba95255fa34d4bc62": {
      "model_module": "@jupyter-widgets/controls",
      "model_module_version": "1.5.0",
      "model_name": "ToggleButtonModel",
      "state": {
       "button_style": "success",
       "description": "display/hide files",
       "layout": "IPY_MODEL_f0899ed1e49b4e509fe8fef2560887cb",
       "style": "IPY_MODEL_aee10645c4b04936b2532d3b84f58bcb",
       "tooltip": "shows and hides display outputs of the files selected in the SelectMultiple dropdown menu"
      }
     },
     "058437f726e14049b9e33d6e252ed8da": {
      "model_module": "@jupyter-widgets/controls",
      "model_module_version": "1.5.0",
      "model_name": "DescriptionStyleModel",
      "state": {
       "description_width": ""
      }
     },
     "090f88789a004679bed8b6a226add148": {
      "buffers": [
       {
        "data": "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",
        "encoding": "base64",
        "path": [
         "_grid_data_up"
        ]
       }
      ],
      "model_module": "ipyaggrid",
      "model_module_version": "~0.2.1",
      "model_name": "AgGridModel",
      "state": {
       "_grid_data_down": [
        {
         "description": "one minute time step in seconds",
         "names": "InnerDeltaTime",
         "units": null
        },
        {
         "description": "Number of Pipe Heat Transfer objects",
         "names": "nsvNumOfPipeHT",
         "units": null
        },
        {
         "description": "module variable for inlet node number",
         "names": "nsvInletNodeNum",
         "units": null
        },
        {
         "description": "module variable for outlet node number",
         "names": "nsvOutletNodeNum",
         "units": null
        },
        {
         "description": "object index",
         "names": "nsvPipeHTNum",
         "units": null
        },
        {
         "description": "pipe mass flow rate",
         "names": "nsvMassFlowRate",
         "units": null
        },
        {
         "description": "pipe volumetric flow rate",
         "names": "nsvVolumeFlowRate",
         "units": null
        },
        {
         "description": "time change from last update",
         "names": "nsvDeltaTime",
         "units": null
        },
        {
         "description": "pipe inlet temperature",
         "names": "nsvInletTemp",
         "units": null
        },
        {
         "description": "pipe outlet temperature",
         "names": "nsvOutletTemp",
         "units": null
        },
        {
         "description": "environmental temperature (surrounding pipe)",
         "names": "nsvEnvironmentTemp",
         "units": null
        },
        {
         "description": "heat loss rate from pipe to the environment",
         "names": "nsvEnvHeatLossRate",
         "units": null
        },
        {
         "description": "overall heat loss from fluid to pipe",
         "names": "nsvFluidHeatLossRate",
         "units": null
        },
        {
         "description": "the number of \"inner\" time steps for our model",
         "names": "nsvNumInnerTimeSteps",
         "units": null
        },
        {
         "description": "First time, input is \"gotten\"",
         "names": "GetPipeInputFlag",
         "units": null
        },
        {
         "description": "construction object name",
         "names": "Construction",
         "units": null
        },
        {
         "description": "keyword:  'Schedule', 'OutdoorAir', 'Zone'",
         "names": "Environment",
         "units": null
        },
        {
         "description": "temperature schedule for environmental temp",
         "names": "EnvrSchedule",
         "units": null
        },
        {
         "description": "temperature schedule for environmental temp",
         "names": "EnvrVelSchedule",
         "units": null
        },
        {
         "description": "zone providing environmental temp",
         "names": "EnvrZone",
         "units": null
        },
        {
         "description": "outside air node providing environmental temp",
         "names": "EnvrAirNode",
         "units": null
        },
        {
         "description": "total pipe length [m]",
         "names": "Length",
         "units": "m"
        },
        {
         "description": "pipe inside diameter [m]",
         "names": "PipeID",
         "units": "m"
        },
        {
         "description": "inlet node name",
         "names": "InletNode",
         "units": null
        },
        {
         "description": "outlet node name",
         "names": "OutletNode",
         "units": null
        },
        {
         "description": "inlet node number",
         "names": "InletNodeNum",
         "units": null
        },
        {
         "description": "outlet node number",
         "names": "OutletNodeNum",
         "units": null
        },
        {
         "description": "Type of pipe",
         "names": "TypeOf",
         "units": null
        },
        {
         "description": "construction ref number",
         "names": "ConstructionNum",
         "units": null
        },
        {
         "description": "pointer to schedule used to set environmental temp",
         "names": "EnvrSchedPtr",
         "units": null
        },
        {
         "description": "pointer to schedule used to set environmental temp",
         "names": "EnvrVelSchedPtr",
         "units": null
        },
        {
         "description": "pointer to zone number used to set environmental temp",
         "names": "EnvrZonePtr",
         "units": null
        },
        {
         "description": "pointer to outside air node used to set environmental temp",
         "names": "EnvrAirNodeNum",
         "units": null
        },
        {
         "description": "total number of nodes along pipe length",
         "names": "NumSections",
         "units": null
        },
        {
         "description": "fluid Cp [J/kg.K]",
         "names": "FluidSpecHeat",
         "units": "J/kg.K"
        },
        {
         "description": "density [kg/m3]",
         "names": "FluidDensity",
         "units": "kg/m3"
        },
        {
         "description": "max flow rate (from loop/node data)",
         "names": "MaxFlowRate",
         "units": null
        },
        {
         "description": "volume of each pipe section (node) [m^3]",
         "names": "FluidSectionVol",
         "units": "m^3"
        },
        {
         "description": "pipe section inside surface area [m^2]",
         "names": "InsideArea",
         "units": "m^2"
        },
        {
         "description": "pipe section outside surface area [m^2]",
         "names": "OutsideArea",
         "units": "m^2"
        },
        {
         "description": "cross sectional area [m^2]",
         "names": "SectionArea",
         "units": "m^2"
        },
        {
         "description": "heat capacity of pipe section [J/m.K]",
         "names": "PipeHeatCapacity",
         "units": "J/m.K"
        },
        {
         "description": "pipe outside diameter [m]",
         "names": "PipeOD",
         "units": "m"
        },
        {
         "description": "pipe materail Cp [J/kg.K]",
         "names": "PipeCp",
         "units": "J/kg.K"
        },
        {
         "description": "pipe material density [kg/m3]",
         "names": "PipeDensity",
         "units": "kg/m3"
        },
        {
         "description": "pipe material thermal conductivity [W/m.K]",
         "names": "PipeConductivity",
         "units": "W/m.K"
        },
        {
         "description": "insulation outside diameter [m]",
         "names": "InsulationOD",
         "units": "m"
        },
        {
         "description": "insulation  specific heat [J/kg.K]",
         "names": "InsulationCp",
         "units": "J/kg.K"
        },
        {
         "description": "insulation density [kg/m3]",
         "names": "InsulationDensity",
         "units": "kg/m3"
        },
        {
         "description": "insulation conductivity [W/m.K]",
         "names": "InsulationConductivity",
         "units": "W/m.K"
        },
        {
         "description": "insulation thickness [m]",
         "names": "InsulationThickness",
         "units": "m"
        },
        {
         "description": "Insulation thermal resistance [m2.K/W]",
         "names": "InsulationResistance",
         "units": "m2.K/W"
        },
        {
         "description": "Current simulation time [hr]",
         "names": "CurrentSimTime",
         "units": "hr"
        },
        {
         "description": "simulation time the report data was last updated",
         "names": "PreviousSimTime",
         "units": null
        },
        {
         "description": "arrays for fluid and pipe temperatures at each node",
         "names": "FluidTemp",
         "units": null
        },
        {
         "description": "number of soil grid points in the depth direction",
         "names": "NumDepthNodes",
         "units": null
        },
        {
         "description": "soil depth grid point where pipe is located",
         "names": "PipeNodeDepth",
         "units": null
        },
        {
         "description": "soil width grid point where pipe is located",
         "names": "PipeNodeWidth",
         "units": null
        },
        {
         "description": "pipe burial depth [m]",
         "names": "PipeDepth",
         "units": "m"
        },
        {
         "description": "soil grid depth [m]",
         "names": "DomainDepth",
         "units": "m"
        },
        {
         "description": "grid spacing in cartesian domain [m]",
         "names": "dSregular",
         "units": "m"
        },
        {
         "description": "soil to air convection coefficient [W/m2.K]",
         "names": "OutdoorConvCoef",
         "units": "W/m2.K"
        },
        {
         "description": "name of soil material:regular object",
         "names": "SoilMaterial",
         "units": null
        },
        {
         "description": "soil material index in material data structure",
         "names": "SoilMaterialNum",
         "units": null
        },
        {
         "description": "month of minimum ground surface temperature",
         "names": "MonthOfMinSurfTemp",
         "units": null
        },
        {
         "description": "minimum annual surface temperature [C]",
         "names": "MinSurfTemp",
         "units": "C"
        },
        {
         "description": "density of soil [kg/m3]",
         "names": "SoilDensity",
         "units": "kg/m3"
        },
        {
         "description": "thickness of soil [m]",
         "names": "SoilDepth",
         "units": "m"
        },
        {
         "description": "specific heat of soil [J/kg.K]",
         "names": "SoilCp",
         "units": "J/kg.K"
        },
        {
         "description": "thermal conductivity of soil [W/m.K]",
         "names": "SoilConductivity",
         "units": "W/m.K"
        },
        {
         "description": "ground surface roughness",
         "names": "SoilRoughness",
         "units": null
        },
        {
         "description": "ground surface thermal absorptivity",
         "names": "SoilThermAbs",
         "units": null
        },
        {
         "description": "ground surface solar absorptivity",
         "names": "SoilSolarAbs",
         "units": null
        },
        {
         "description": "soil surface finite difference coefficient",
         "names": "CoefS1",
         "units": null
        },
        {
         "description": "soil surface finite difference coefficient",
         "names": "CoefS2",
         "units": null
        },
        {
         "description": "soil finite difference coefficient",
         "names": "CoefA1",
         "units": null
        },
        {
         "description": "soil finite difference coefficient",
         "names": "CoefA2",
         "units": null
        },
        {
         "description": "soil Fourier number based on grid spacing",
         "names": "FourierDS",
         "units": null
        },
        {
         "description": "soil thermal diffusivity [m2/s]",
         "names": "SoilDiffusivity",
         "units": "m2/s"
        },
        {
         "description": "soil thermal diffusivity [m2/day]",
         "names": "SoilDiffusivityPerDay",
         "units": "m2/day"
        },
        {
         "description": "soil temperature array",
         "names": "T",
         "units": null
        },
        {
         "description": "begin sim and begin environment flag",
         "names": "BeginSimInit",
         "units": null
        },
        {
         "description": "begin sim and begin environment flag",
         "names": "BeginSimEnvrn",
         "units": null
        },
        {
         "description": "Flag to determine if solar is included at ground surface",
         "names": "SolarExposed",
         "units": null
        },
        {
         "description": "Sum of thickness/conductivity over all material layers",
         "names": "SumTK",
         "units": null
        },
        {
         "description": "Lagged energy summation for zone heat gain {W}",
         "names": "ZoneHeatGainRate",
         "units": null
        },
        {
         "description": "PlantLoop index where this pipe lies",
         "names": "LoopNum",
         "units": null
        },
        {
         "description": "PlantLoop%LoopSide index where this pipe lies",
         "names": "LoopSideNum",
         "units": null
        },
        {
         "description": "..LoopSide%Branch index where this pipe lies",
         "names": "BranchNum",
         "units": null
        },
        {
         "description": "..Branch%Comp index where this pipe lies",
         "names": "CompNum",
         "units": null
        },
        {
         "description": "inlet temperature [C]",
         "names": "FluidInletTemp",
         "units": "C"
        },
        {
         "description": "outlet temperature [C]",
         "names": "FluidOutletTemp",
         "units": "C"
        },
        {
         "description": "mass flow rate [kg/s]",
         "names": "MassFlowRate",
         "units": "kg/s"
        },
        {
         "description": "overall heat transfer rate from fluid to pipe [W]",
         "names": "FluidHeatLossRate",
         "units": "W"
        },
        {
         "description": "energy transferred from fluid to pipe [J]",
         "names": "FluidHeatLossEnergy",
         "units": "J"
        },
        {
         "description": "pipe temperature at inlet [C]",
         "names": "PipeInletTemp",
         "units": "C"
        },
        {
         "description": "pipe temperature at Oulet [C]",
         "names": "PipeOutletTemp",
         "units": "C"
        },
        {
         "description": "overall heat transfer rate from pipe to environment [W]",
         "names": "EnvironmentHeatLossRate",
         "units": "W"
        },
        {
         "description": "energy transferred from pipe to environment [J]",
         "names": "EnvHeatLossEnergy",
         "units": "J"
        },
        {
         "description": "component number",
         "names": "error",
         "units": null
        },
        {
         "description": "Current Depth",
         "names": "error",
         "units": null
        },
        {
         "description": "Current Simulation Day",
         "names": "error",
         "units": null
        },
        {
         "description": "Temperature of water entering the surface, in C",
         "names": "error",
         "units": null
        },
        {
         "description": "Mass flow rate, in kg/s",
         "names": "error",
         "units": null
        },
        {
         "description": "Pipe diameter, m",
         "names": "error",
         "units": null
        },
        {
         "description": "Index for the surface under consideration",
         "names": "ReportPipesHeatTransfer()",
         "units": null
        },
        {
         "description": "module object of pipe (error messages)",
         "names": "error",
         "units": null
        },
        {
         "description": "construction name of pipe (error messages)",
         "names": "error",
         "units": null
        },
        {
         "description": "fieldname of pipe (error messages)",
         "names": "error",
         "units": null
        },
        {
         "description": "pointer into construction data",
         "names": "error",
         "units": null
        },
        {
         "description": "set to true if errors found here",
         "names": "error",
         "units": null
        }
       ],
       "_grid_data_up": {},
       "_grid_options_mono_down": "{\"enableSorting\": true, \"enableFilter\": true, \"enableColResize\": true, \"enableRangeSelection\": true, \"columnDefs\": [{\"field\": \"names\", \"type\": \"textColumn\", \"headerName\": \"Names\"}, {\"field\": \"description\", \"type\": \"textColumn\", \"headerName\": \"Description\"}, {\"field\": \"units\", \"type\": \"textColumn\", \"headerName\": \"Units\"}], \"columnTypes\": {\"numberColumn\": {\"filter\": \"agNumberColumnFilter\"}, \"textColumn\": {\"filter\": \"agTextColumnFilter\"}, \"dateColumn\": {\"valueFormatter\": \"helpers.dateFormatter\", \"filter\": \"agDateColumnFilter\", \"filterParams\": {\"comparator\": \"helpers.compareDates\"}}}}",
       "_id": 624829675,
       "_js_helpers_builtin": "helpersBuiltin = {\n    dateFormatter: function(node) {\n        // make sure date is not undefined\n        if (node && node.value) {\n            let d = new Date(node.value);\n            let h = d.getHours();\n            let m = d.getMinutes();\n            let s = d.getSeconds();\n            const offset = d.getTimezoneOffset() * 60000;\n            d = new Date(d.getTime() - offset);\n            const ymd = d.toISOString().substring(0, 10);\n            if (h === 0 && m === 0 && s === 0) {\n                return ymd;\n            }\n            if (h === 0) h = '00';\n            if (m === 0) m = '00';\n            if (s === 0) s = '00';\n            return `${ymd} ${h}:${m}:${s}`;\n        }\n        return null;\n    },\n\n    formatInt: d3.format(',.0f'),\n    formatFloat: d3.format(',.2f'),\n\n    intFormatter: function(node) {\n        return formatInt(node.value);\n    },\n\n    floatFormatter: function(node) {\n        return formatFloat(node.value);\n    },\n\n    compareDates: function(filterLocalDate, cellValue) {\n        // Assume dates are stored as iso\n        const cellDate = new Date(cellValue);\n\n        if (cellDate < filterLocalDate) {\n            return -1;\n        } else if (cellDate > filterLocalDate) {\n            return 1;\n        }\n        return 0;\n    },\n\n    sizeToFit: function(gridOptions) {\n        gridOptions.api.sizeColumnsToFit();\n    },\n\n    autoSizeAll: function(gridOptions) {\n        const allColumnIds = [];\n        gridOptions.columnApi.getAllColumns().forEach(column => {\n            allColumnIds.push(column.colId);\n        });\n        gridOptions.columnApi.autoSizeColumns(allColumnIds);\n    },\n\n    /**\n     * Exporting data to CSV using ag-Grid api.\n     * @param {Object} gridOptions\n     */\n    exportToCsv: function(gridOptions) {\n        const params = {\n            skipHeader: false,\n            columnGroups: true,\n            skipFooters: false,\n            skipGroups: false,\n            skipPinnedTop: false,\n            skipPinnedBottom: false,\n            allColumns: true,\n            onlySelected: false,\n            suppressQuotes: true,\n            fileName: 'my_file.csv',\n            sheetName: 'my_sheet',\n            shouldRowBeSkipped: () => false,\n            processCellCallback: param => param.value,\n            processHeaderCallback: null,\n        };\n        gridOptions.api.exportDataAsCsv(params);\n    },\n\n    /**\n     * Exporting data to Excel using ag-Grid api.\n     * @param {Object} gridOptions\n     */\n    exportToExcel: function(gridOptions) {\n        const params = {\n            skipHeader: false,\n            columnGroups: true,\n            skipFooters: false,\n            skipGroups: false,\n            skipPinnedTop: false,\n            skipPinnedBottom: false,\n            allColumns: true,\n            onlySelected: false,\n            suppressQuotes: true,\n            fileName: 'my_file.xls',\n            sheetName: 'my_sheet',\n            shouldRowBeSkipped: () => false, // TODO : check\n            processCellCallback: param => param.value,\n            processHeaderCallback: null,\n        };\n        gridOptions.api.exportDataAsExcel(params);\n    },\n};\n",
       "columns_fit": "size_to_fit",
       "compress_data": true,
       "export_mode": "disabled",
       "height": "350px",
       "js_helpers": "{\"dateFormatter\":\"function(node) {\\n        // make sure date is not undefined\\n        if (node && node.value) {\\n            let d = new Date(node.value);\\n            let h = d.getHours();\\n            let m = d.getMinutes();\\n            let s = d.getSeconds();\\n            const offset = d.getTimezoneOffset() * 60000;\\n            d = new Date(d.getTime() - offset);\\n            const ymd = d.toISOString().substring(0, 10);\\n            if (h === 0 && m === 0 && s === 0) {\\n                return ymd;\\n            }\\n            if (h === 0) h = '00';\\n            if (m === 0) m = '00';\\n            if (s === 0) s = '00';\\n            return `${ymd} ${h}:${m}:${s}`;\\n        }\\n        return null;\\n    }\",\"formatInt\":\" >-,.0f\",\"formatFloat\":\" >-,.2f\",\"intFormatter\":\"function(node) {\\n        return formatInt(node.value);\\n    }\",\"floatFormatter\":\"function(node) {\\n        return formatFloat(node.value);\\n    }\",\"compareDates\":\"function(filterLocalDate, cellValue) {\\n        // Assume dates are stored as iso\\n        const cellDate = new Date(cellValue);\\n\\n        if (cellDate < filterLocalDate) {\\n            return -1;\\n        } else if (cellDate > filterLocalDate) {\\n            return 1;\\n        }\\n        return 0;\\n    }\",\"sizeToFit\":\"function(gridOptions) {\\n        gridOptions.api.sizeColumnsToFit();\\n    }\",\"autoSizeAll\":\"function(gridOptions) {\\n        const allColumnIds = [];\\n        gridOptions.columnApi.getAllColumns().forEach(column => {\\n            allColumnIds.push(column.colId);\\n        });\\n        gridOptions.columnApi.autoSizeColumns(allColumnIds);\\n    }\",\"exportToCsv\":\"function(gridOptions) {\\n        const params = {\\n            skipHeader: false,\\n            columnGroups: true,\\n            skipFooters: false,\\n            skipGroups: false,\\n            skipPinnedTop: false,\\n            skipPinnedBottom: false,\\n            allColumns: true,\\n            onlySelected: false,\\n            suppressQuotes: true,\\n            fileName: 'my_file.csv',\\n            sheetName: 'my_sheet',\\n            shouldRowBeSkipped: () => false,\\n            processCellCallback: param => param.value,\\n            processHeaderCallback: null,\\n        };\\n        gridOptions.api.exportDataAsCsv(params);\\n    }\",\"exportToExcel\":\"function(gridOptions) {\\n        const params = {\\n            skipHeader: false,\\n            columnGroups: true,\\n            skipFooters: false,\\n            skipGroups: false,\\n            skipPinnedTop: false,\\n            skipPinnedBottom: false,\\n            allColumns: true,\\n            onlySelected: false,\\n            suppressQuotes: true,\\n            fileName: 'my_file.xls',\\n            sheetName: 'my_sheet',\\n            shouldRowBeSkipped: () => false, // TODO : check\\n            processCellCallback: param => param.value,\\n            processHeaderCallback: null,\\n        };\\n        gridOptions.api.exportDataAsExcel(params);\\n    }\"}",
       "layout": "IPY_MODEL_6209802bde6c4c7fbca6a9e845ee4078",
       "menu": {
        "button_div_css": ".flex-button-div-624829675 {\ndisplay: flex;\njustify-content: flex-start;\nalign-items: flex-start;\nalign-content: flex-start;\nflex-flow: row wrap;\n}\n",
        "buttons": [],
        "input_div_css": ".flex-input-div-624829675 {\ndisplay: flex;\njustify-content: flex-start;\nalign-items: baseline;\nalign-content: flex-start;\nflex-flow: row wrap;\n}\n",
        "inputs": [
         {
          "css": ".flex-child-quick-filter-624829675 {\norder: 0;\nalign-self: auto;\nmargin: 5px;\nflex: 0.00 1.00 auto;\nwidth: 150px;\n}\n",
          "name": "Quick Filter"
         }
        ],
        "menu_div_css": ".flex-menu-div-624829675 {\ndisplay: flex;\njustify-content: flex-start;\nalign-items: flex-start;\nalign-content: flex-start;\nflex-flow: row wrap;\n}\n"
       },
       "theme": "ag-theme-balham",
       "width": "100%"
      }
     },
     "0fad122d17d443558a83d26333632e24": {
      "buffers": [
       {
        "data": "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",
        "encoding": "base64",
        "path": [
         "_grid_data_up"
        ]
       }
      ],
      "model_module": "ipyaggrid",
      "model_module_version": "~0.2.1",
      "model_name": "AgGridModel",
      "state": {
       "_grid_data_down": [
        {
         "description": "one minute time step in seconds",
         "names": "InnerDeltaTime",
         "units": null
        },
        {
         "description": "Number of Pipe Heat Transfer objects",
         "names": "nsvNumOfPipeHT",
         "units": null
        },
        {
         "description": "module variable for inlet node number",
         "names": "nsvInletNodeNum",
         "units": null
        },
        {
         "description": "module variable for outlet node number",
         "names": "nsvOutletNodeNum",
         "units": null
        },
        {
         "description": "object index",
         "names": "nsvPipeHTNum",
         "units": null
        },
        {
         "description": "pipe mass flow rate",
         "names": "nsvMassFlowRate",
         "units": null
        },
        {
         "description": "pipe volumetric flow rate",
         "names": "nsvVolumeFlowRate",
         "units": null
        },
        {
         "description": "time change from last update",
         "names": "nsvDeltaTime",
         "units": null
        },
        {
         "description": "pipe inlet temperature",
         "names": "nsvInletTemp",
         "units": null
        },
        {
         "description": "pipe outlet temperature",
         "names": "nsvOutletTemp",
         "units": null
        },
        {
         "description": "environmental temperature (surrounding pipe)",
         "names": "nsvEnvironmentTemp",
         "units": null
        },
        {
         "description": "heat loss rate from pipe to the environment",
         "names": "nsvEnvHeatLossRate",
         "units": null
        },
        {
         "description": "overall heat loss from fluid to pipe",
         "names": "nsvFluidHeatLossRate",
         "units": null
        },
        {
         "description": "the number of \"inner\" time steps for our model",
         "names": "nsvNumInnerTimeSteps",
         "units": null
        },
        {
         "description": "First time, input is \"gotten\"",
         "names": "GetPipeInputFlag",
         "units": null
        },
        {
         "description": "construction object name",
         "names": "Construction",
         "units": null
        },
        {
         "description": "keyword:  'Schedule', 'OutdoorAir', 'Zone'",
         "names": "Environment",
         "units": null
        },
        {
         "description": "temperature schedule for environmental temp",
         "names": "EnvrSchedule",
         "units": null
        },
        {
         "description": "temperature schedule for environmental temp",
         "names": "EnvrVelSchedule",
         "units": null
        },
        {
         "description": "zone providing environmental temp",
         "names": "EnvrZone",
         "units": null
        },
        {
         "description": "outside air node providing environmental temp",
         "names": "EnvrAirNode",
         "units": null
        },
        {
         "description": "total pipe length [m]",
         "names": "Length",
         "units": "m"
        },
        {
         "description": "pipe inside diameter [m]",
         "names": "PipeID",
         "units": "m"
        },
        {
         "description": "inlet node name",
         "names": "InletNode",
         "units": null
        },
        {
         "description": "outlet node name",
         "names": "OutletNode",
         "units": null
        },
        {
         "description": "inlet node number",
         "names": "InletNodeNum",
         "units": null
        },
        {
         "description": "outlet node number",
         "names": "OutletNodeNum",
         "units": null
        },
        {
         "description": "Type of pipe",
         "names": "TypeOf",
         "units": null
        },
        {
         "description": "construction ref number",
         "names": "ConstructionNum",
         "units": null
        },
        {
         "description": "pointer to schedule used to set environmental temp",
         "names": "EnvrSchedPtr",
         "units": null
        },
        {
         "description": "pointer to schedule used to set environmental temp",
         "names": "EnvrVelSchedPtr",
         "units": null
        },
        {
         "description": "pointer to zone number used to set environmental temp",
         "names": "EnvrZonePtr",
         "units": null
        },
        {
         "description": "pointer to outside air node used to set environmental temp",
         "names": "EnvrAirNodeNum",
         "units": null
        },
        {
         "description": "total number of nodes along pipe length",
         "names": "NumSections",
         "units": null
        },
        {
         "description": "fluid Cp [J/kg.K]",
         "names": "FluidSpecHeat",
         "units": "J/kg.K"
        },
        {
         "description": "density [kg/m3]",
         "names": "FluidDensity",
         "units": "kg/m3"
        },
        {
         "description": "max flow rate (from loop/node data)",
         "names": "MaxFlowRate",
         "units": null
        },
        {
         "description": "volume of each pipe section (node) [m^3]",
         "names": "FluidSectionVol",
         "units": "m^3"
        },
        {
         "description": "pipe section inside surface area [m^2]",
         "names": "InsideArea",
         "units": "m^2"
        },
        {
         "description": "pipe section outside surface area [m^2]",
         "names": "OutsideArea",
         "units": "m^2"
        },
        {
         "description": "cross sectional area [m^2]",
         "names": "SectionArea",
         "units": "m^2"
        },
        {
         "description": "heat capacity of pipe section [J/m.K]",
         "names": "PipeHeatCapacity",
         "units": "J/m.K"
        },
        {
         "description": "pipe outside diameter [m]",
         "names": "PipeOD",
         "units": "m"
        },
        {
         "description": "pipe materail Cp [J/kg.K]",
         "names": "PipeCp",
         "units": "J/kg.K"
        },
        {
         "description": "pipe material density [kg/m3]",
         "names": "PipeDensity",
         "units": "kg/m3"
        },
        {
         "description": "pipe material thermal conductivity [W/m.K]",
         "names": "PipeConductivity",
         "units": "W/m.K"
        },
        {
         "description": "insulation outside diameter [m]",
         "names": "InsulationOD",
         "units": "m"
        },
        {
         "description": "insulation  specific heat [J/kg.K]",
         "names": "InsulationCp",
         "units": "J/kg.K"
        },
        {
         "description": "insulation density [kg/m3]",
         "names": "InsulationDensity",
         "units": "kg/m3"
        },
        {
         "description": "insulation conductivity [W/m.K]",
         "names": "InsulationConductivity",
         "units": "W/m.K"
        },
        {
         "description": "insulation thickness [m]",
         "names": "InsulationThickness",
         "units": "m"
        },
        {
         "description": "Insulation thermal resistance [m2.K/W]",
         "names": "InsulationResistance",
         "units": "m2.K/W"
        },
        {
         "description": "Current simulation time [hr]",
         "names": "CurrentSimTime",
         "units": "hr"
        },
        {
         "description": "simulation time the report data was last updated",
         "names": "PreviousSimTime",
         "units": null
        },
        {
         "description": "arrays for fluid and pipe temperatures at each node",
         "names": "FluidTemp",
         "units": null
        },
        {
         "description": "number of soil grid points in the depth direction",
         "names": "NumDepthNodes",
         "units": null
        },
        {
         "description": "soil depth grid point where pipe is located",
         "names": "PipeNodeDepth",
         "units": null
        },
        {
         "description": "soil width grid point where pipe is located",
         "names": "PipeNodeWidth",
         "units": null
        },
        {
         "description": "pipe burial depth [m]",
         "names": "PipeDepth",
         "units": "m"
        },
        {
         "description": "soil grid depth [m]",
         "names": "DomainDepth",
         "units": "m"
        },
        {
         "description": "grid spacing in cartesian domain [m]",
         "names": "dSregular",
         "units": "m"
        },
        {
         "description": "soil to air convection coefficient [W/m2.K]",
         "names": "OutdoorConvCoef",
         "units": "W/m2.K"
        },
        {
         "description": "name of soil material:regular object",
         "names": "SoilMaterial",
         "units": null
        },
        {
         "description": "soil material index in material data structure",
         "names": "SoilMaterialNum",
         "units": null
        },
        {
         "description": "month of minimum ground surface temperature",
         "names": "MonthOfMinSurfTemp",
         "units": null
        },
        {
         "description": "minimum annual surface temperature [C]",
         "names": "MinSurfTemp",
         "units": "C"
        },
        {
         "description": "density of soil [kg/m3]",
         "names": "SoilDensity",
         "units": "kg/m3"
        },
        {
         "description": "thickness of soil [m]",
         "names": "SoilDepth",
         "units": "m"
        },
        {
         "description": "specific heat of soil [J/kg.K]",
         "names": "SoilCp",
         "units": "J/kg.K"
        },
        {
         "description": "thermal conductivity of soil [W/m.K]",
         "names": "SoilConductivity",
         "units": "W/m.K"
        },
        {
         "description": "ground surface roughness",
         "names": "SoilRoughness",
         "units": null
        },
        {
         "description": "ground surface thermal absorptivity",
         "names": "SoilThermAbs",
         "units": null
        },
        {
         "description": "ground surface solar absorptivity",
         "names": "SoilSolarAbs",
         "units": null
        },
        {
         "description": "soil surface finite difference coefficient",
         "names": "CoefS1",
         "units": null
        },
        {
         "description": "soil surface finite difference coefficient",
         "names": "CoefS2",
         "units": null
        },
        {
         "description": "soil finite difference coefficient",
         "names": "CoefA1",
         "units": null
        },
        {
         "description": "soil finite difference coefficient",
         "names": "CoefA2",
         "units": null
        },
        {
         "description": "soil Fourier number based on grid spacing",
         "names": "FourierDS",
         "units": null
        },
        {
         "description": "soil thermal diffusivity [m2/s]",
         "names": "SoilDiffusivity",
         "units": "m2/s"
        },
        {
         "description": "soil thermal diffusivity [m2/day]",
         "names": "SoilDiffusivityPerDay",
         "units": "m2/day"
        },
        {
         "description": "soil temperature array",
         "names": "T",
         "units": null
        },
        {
         "description": "begin sim and begin environment flag",
         "names": "BeginSimInit",
         "units": null
        },
        {
         "description": "begin sim and begin environment flag",
         "names": "BeginSimEnvrn",
         "units": null
        },
        {
         "description": "Flag to determine if solar is included at ground surface",
         "names": "SolarExposed",
         "units": null
        },
        {
         "description": "Sum of thickness/conductivity over all material layers",
         "names": "SumTK",
         "units": null
        },
        {
         "description": "Lagged energy summation for zone heat gain {W}",
         "names": "ZoneHeatGainRate",
         "units": null
        },
        {
         "description": "PlantLoop index where this pipe lies",
         "names": "LoopNum",
         "units": null
        },
        {
         "description": "PlantLoop%LoopSide index where this pipe lies",
         "names": "LoopSideNum",
         "units": null
        },
        {
         "description": "..LoopSide%Branch index where this pipe lies",
         "names": "BranchNum",
         "units": null
        },
        {
         "description": "..Branch%Comp index where this pipe lies",
         "names": "CompNum",
         "units": null
        },
        {
         "description": "inlet temperature [C]",
         "names": "FluidInletTemp",
         "units": "C"
        },
        {
         "description": "outlet temperature [C]",
         "names": "FluidOutletTemp",
         "units": "C"
        },
        {
         "description": "mass flow rate [kg/s]",
         "names": "MassFlowRate",
         "units": "kg/s"
        },
        {
         "description": "overall heat transfer rate from fluid to pipe [W]",
         "names": "FluidHeatLossRate",
         "units": "W"
        },
        {
         "description": "energy transferred from fluid to pipe [J]",
         "names": "FluidHeatLossEnergy",
         "units": "J"
        },
        {
         "description": "pipe temperature at inlet [C]",
         "names": "PipeInletTemp",
         "units": "C"
        },
        {
         "description": "pipe temperature at Oulet [C]",
         "names": "PipeOutletTemp",
         "units": "C"
        },
        {
         "description": "overall heat transfer rate from pipe to environment [W]",
         "names": "EnvironmentHeatLossRate",
         "units": "W"
        },
        {
         "description": "energy transferred from pipe to environment [J]",
         "names": "EnvHeatLossEnergy",
         "units": "J"
        },
        {
         "description": "component number",
         "names": "error",
         "units": null
        },
        {
         "description": "Current Depth",
         "names": "error",
         "units": null
        },
        {
         "description": "Current Simulation Day",
         "names": "error",
         "units": null
        },
        {
         "description": "Temperature of water entering the surface, in C",
         "names": "error",
         "units": null
        },
        {
         "description": "Mass flow rate, in kg/s",
         "names": "error",
         "units": null
        },
        {
         "description": "Pipe diameter, m",
         "names": "error",
         "units": null
        },
        {
         "description": "Index for the surface under consideration",
         "names": "ReportPipesHeatTransfer()",
         "units": null
        },
        {
         "description": "module object of pipe (error messages)",
         "names": "error",
         "units": null
        },
        {
         "description": "construction name of pipe (error messages)",
         "names": "error",
         "units": null
        },
        {
         "description": "fieldname of pipe (error messages)",
         "names": "error",
         "units": null
        },
        {
         "description": "pointer into construction data",
         "names": "error",
         "units": null
        },
        {
         "description": "set to true if errors found here",
         "names": "error",
         "units": null
        }
       ],
       "_grid_data_up": {},
       "_grid_options_mono_down": "{\"enableSorting\": true, \"enableFilter\": true, \"enableColResize\": true, \"enableRangeSelection\": true, \"columnDefs\": [{\"field\": \"names\", \"type\": \"textColumn\", \"headerName\": \"Names\"}, {\"field\": \"description\", \"type\": \"textColumn\", \"headerName\": \"Description\"}, {\"field\": \"units\", \"type\": \"textColumn\", \"headerName\": \"Units\"}], \"columnTypes\": {\"numberColumn\": {\"filter\": \"agNumberColumnFilter\"}, \"textColumn\": {\"filter\": \"agTextColumnFilter\"}, \"dateColumn\": {\"valueFormatter\": \"helpers.dateFormatter\", \"filter\": \"agDateColumnFilter\", \"filterParams\": {\"comparator\": \"helpers.compareDates\"}}}}",
       "_id": 542274460,
       "_js_helpers_builtin": "helpersBuiltin = {\n    dateFormatter: function(node) {\n        // make sure date is not undefined\n        if (node && node.value) {\n            let d = new Date(node.value);\n            let h = d.getHours();\n            let m = d.getMinutes();\n            let s = d.getSeconds();\n            const offset = d.getTimezoneOffset() * 60000;\n            d = new Date(d.getTime() - offset);\n            const ymd = d.toISOString().substring(0, 10);\n            if (h === 0 && m === 0 && s === 0) {\n                return ymd;\n            }\n            if (h === 0) h = '00';\n            if (m === 0) m = '00';\n            if (s === 0) s = '00';\n            return `${ymd} ${h}:${m}:${s}`;\n        }\n        return null;\n    },\n\n    formatInt: d3.format(',.0f'),\n    formatFloat: d3.format(',.2f'),\n\n    intFormatter: function(node) {\n        return formatInt(node.value);\n    },\n\n    floatFormatter: function(node) {\n        return formatFloat(node.value);\n    },\n\n    compareDates: function(filterLocalDate, cellValue) {\n        // Assume dates are stored as iso\n        const cellDate = new Date(cellValue);\n\n        if (cellDate < filterLocalDate) {\n            return -1;\n        } else if (cellDate > filterLocalDate) {\n            return 1;\n        }\n        return 0;\n    },\n\n    sizeToFit: function(gridOptions) {\n        gridOptions.api.sizeColumnsToFit();\n    },\n\n    autoSizeAll: function(gridOptions) {\n        const allColumnIds = [];\n        gridOptions.columnApi.getAllColumns().forEach(column => {\n            allColumnIds.push(column.colId);\n        });\n        gridOptions.columnApi.autoSizeColumns(allColumnIds);\n    },\n\n    /**\n     * Exporting data to CSV using ag-Grid api.\n     * @param {Object} gridOptions\n     */\n    exportToCsv: function(gridOptions) {\n        const params = {\n            skipHeader: false,\n            columnGroups: true,\n            skipFooters: false,\n            skipGroups: false,\n            skipPinnedTop: false,\n            skipPinnedBottom: false,\n            allColumns: true,\n            onlySelected: false,\n            suppressQuotes: true,\n            fileName: 'my_file.csv',\n            sheetName: 'my_sheet',\n            shouldRowBeSkipped: () => false,\n            processCellCallback: param => param.value,\n            processHeaderCallback: null,\n        };\n        gridOptions.api.exportDataAsCsv(params);\n    },\n\n    /**\n     * Exporting data to Excel using ag-Grid api.\n     * @param {Object} gridOptions\n     */\n    exportToExcel: function(gridOptions) {\n        const params = {\n            skipHeader: false,\n            columnGroups: true,\n            skipFooters: false,\n            skipGroups: false,\n            skipPinnedTop: false,\n            skipPinnedBottom: false,\n            allColumns: true,\n            onlySelected: false,\n            suppressQuotes: true,\n            fileName: 'my_file.xls',\n            sheetName: 'my_sheet',\n            shouldRowBeSkipped: () => false, // TODO : check\n            processCellCallback: param => param.value,\n            processHeaderCallback: null,\n        };\n        gridOptions.api.exportDataAsExcel(params);\n    },\n};\n",
       "columns_fit": "size_to_fit",
       "compress_data": true,
       "export_mode": "disabled",
       "height": "350px",
       "js_helpers": "{\"dateFormatter\":\"function(node) {\\n        // make sure date is not undefined\\n        if (node && node.value) {\\n            let d = new Date(node.value);\\n            let h = d.getHours();\\n            let m = d.getMinutes();\\n            let s = d.getSeconds();\\n            const offset = d.getTimezoneOffset() * 60000;\\n            d = new Date(d.getTime() - offset);\\n            const ymd = d.toISOString().substring(0, 10);\\n            if (h === 0 && m === 0 && s === 0) {\\n                return ymd;\\n            }\\n            if (h === 0) h = '00';\\n            if (m === 0) m = '00';\\n            if (s === 0) s = '00';\\n            return `${ymd} ${h}:${m}:${s}`;\\n        }\\n        return null;\\n    }\",\"formatInt\":\" >-,.0f\",\"formatFloat\":\" >-,.2f\",\"intFormatter\":\"function(node) {\\n        return formatInt(node.value);\\n    }\",\"floatFormatter\":\"function(node) {\\n        return formatFloat(node.value);\\n    }\",\"compareDates\":\"function(filterLocalDate, cellValue) {\\n        // Assume dates are stored as iso\\n        const cellDate = new Date(cellValue);\\n\\n        if (cellDate < filterLocalDate) {\\n            return -1;\\n        } else if (cellDate > filterLocalDate) {\\n            return 1;\\n        }\\n        return 0;\\n    }\",\"sizeToFit\":\"function(gridOptions) {\\n        gridOptions.api.sizeColumnsToFit();\\n    }\",\"autoSizeAll\":\"function(gridOptions) {\\n        const allColumnIds = [];\\n        gridOptions.columnApi.getAllColumns().forEach(column => {\\n            allColumnIds.push(column.colId);\\n        });\\n        gridOptions.columnApi.autoSizeColumns(allColumnIds);\\n    }\",\"exportToCsv\":\"function(gridOptions) {\\n        const params = {\\n            skipHeader: false,\\n            columnGroups: true,\\n            skipFooters: false,\\n            skipGroups: false,\\n            skipPinnedTop: false,\\n            skipPinnedBottom: false,\\n            allColumns: true,\\n            onlySelected: false,\\n            suppressQuotes: true,\\n            fileName: 'my_file.csv',\\n            sheetName: 'my_sheet',\\n            shouldRowBeSkipped: () => false,\\n            processCellCallback: param => param.value,\\n            processHeaderCallback: null,\\n        };\\n        gridOptions.api.exportDataAsCsv(params);\\n    }\",\"exportToExcel\":\"function(gridOptions) {\\n        const params = {\\n            skipHeader: false,\\n            columnGroups: true,\\n            skipFooters: false,\\n            skipGroups: false,\\n            skipPinnedTop: false,\\n            skipPinnedBottom: false,\\n            allColumns: true,\\n            onlySelected: false,\\n            suppressQuotes: true,\\n            fileName: 'my_file.xls',\\n            sheetName: 'my_sheet',\\n            shouldRowBeSkipped: () => false, // TODO : check\\n            processCellCallback: param => param.value,\\n            processHeaderCallback: null,\\n        };\\n        gridOptions.api.exportDataAsExcel(params);\\n    }\"}",
       "layout": "IPY_MODEL_f1232769d5044bcb88ac22c46b5056eb",
       "menu": {
        "button_div_css": ".flex-button-div-542274460 {\ndisplay: flex;\njustify-content: flex-start;\nalign-items: flex-start;\nalign-content: flex-start;\nflex-flow: row wrap;\n}\n",
        "buttons": [],
        "input_div_css": ".flex-input-div-542274460 {\ndisplay: flex;\njustify-content: flex-start;\nalign-items: baseline;\nalign-content: flex-start;\nflex-flow: row wrap;\n}\n",
        "inputs": [
         {
          "css": ".flex-child-quick-filter-542274460 {\norder: 0;\nalign-self: auto;\nmargin: 5px;\nflex: 0.00 1.00 auto;\nwidth: 150px;\n}\n",
          "name": "Quick Filter"
         }
        ],
        "menu_div_css": ".flex-menu-div-542274460 {\ndisplay: flex;\njustify-content: flex-start;\nalign-items: flex-start;\nalign-content: flex-start;\nflex-flow: row wrap;\n}\n"
       },
       "theme": "ag-theme-balham",
       "width": "100%"
      }
     },
     "127147f9115741e3a7882b09f8205352": {
      "model_module": "@jupyter-widgets/controls",
      "model_module_version": "1.5.0",
      "model_name": "DescriptionStyleModel",
      "state": {
       "description_width": ""
      }
     },
     "15cafd55bac24724b9864c089fd3b2bc": {
      "model_module": "@jupyter-widgets/controls",
      "model_module_version": "1.5.0",
      "model_name": "ToggleButtonModel",
      "state": {
       "button_style": "success",
       "description": "display/hide files",
       "layout": "IPY_MODEL_83a7508b344f44bdb61a1dee793837cf",
       "style": "IPY_MODEL_3f6e3f210b3e4d2da70527a95075ba21",
       "tooltip": "shows and hides display outputs of the files selected in the SelectMultiple dropdown menu",
       "value": true
      }
     },
     "297b8073c1d54d2a9835690f94a529ee": {
      "model_module": "@jupyter-widgets/controls",
      "model_module_version": "1.5.0",
      "model_name": "SelectMultipleModel",
      "state": {
       "_options_labels": [
        "eg_csv.csv",
        "eg_docx.docx",
        "eg_gbxml.xml",
        "eg_jpg.jpg",
        "eg_json.json",
        "eg_md.md",
        "eg_pdf.pdf",
        "eg_plotly.plotly",
        "eg_plotly.plotly.json",
        "eg_png.png",
        "eg_py.py",
        "eg_xlsx.xlsx",
        "eg_YAML.YAML",
        "eg_plotly-checkpoint.plotly",
        "eg_plotly.plotly-checkpoint.json"
       ],
       "index": [],
       "layout": "IPY_MODEL_d31496383ace4c82a975f2cf3a003e95",
       "rows": 5,
       "style": "IPY_MODEL_b2d4bfc600c8416e95932278cb0fbba0"
      }
     },
     "2de57a3fb1b8454b9d67848e7ff9536e": {
      "model_module": "@jupyter-widgets/base",
      "model_module_version": "1.2.0",
      "model_name": "LayoutModel",
      "state": {}
     },
     "3113bff577d941f09cd4844441280a65": {
      "model_module": "@jupyter-widgets/base",
      "model_module_version": "1.2.0",
      "model_name": "LayoutModel",
      "state": {}
     },
     "33906bd731bd416e93e9bb4b274213f8": {
      "model_module": "@jupyter-widgets/controls",
      "model_module_version": "1.5.0",
      "model_name": "DescriptionStyleModel",
      "state": {
       "description_width": ""
      }
     },
     "37589dae3f564c86976db6b91e353355": {
      "model_module": "@jupyter-widgets/controls",
      "model_module_version": "1.5.0",
      "model_name": "DescriptionStyleModel",
      "state": {
       "description_width": ""
      }
     },
     "3f6e3f210b3e4d2da70527a95075ba21": {
      "model_module": "@jupyter-widgets/controls",
      "model_module_version": "1.5.0",
      "model_name": "DescriptionStyleModel",
      "state": {
       "description_width": ""
      }
     },
     "4076c531852d4cf1b503746bc0ea9525": {
      "model_module": "@jupyter-widgets/base",
      "model_module_version": "1.2.0",
      "model_name": "LayoutModel",
      "state": {
       "flex_flow": "column",
       "height": "auto",
       "width": "auto"
      }
     },
     "4b97ec3c402b4879bed8daea29eec64a": {
      "model_module": "@jupyter-widgets/controls",
      "model_module_version": "1.5.0",
      "model_name": "DescriptionStyleModel",
      "state": {
       "description_width": ""
      }
     },
     "54b5ee0f32c541d192351fcd69f9ba4c": {
      "model_module": "@jupyter-widgets/base",
      "model_module_version": "1.2.0",
      "model_name": "LayoutModel",
      "state": {}
     },
     "56e32b6d87904413b06eaa5ee7a5c921": {
      "model_module": "@jupyter-widgets/controls",
      "model_module_version": "1.5.0",
      "model_name": "ToggleButtonModel",
      "state": {
       "button_style": "success",
       "description": "display/hide files",
       "layout": "IPY_MODEL_c1af68b216ee4732baaa06c0320b8d72",
       "style": "IPY_MODEL_37589dae3f564c86976db6b91e353355",
       "tooltip": "shows and hides display outputs of the files selected in the SelectMultiple dropdown menu"
      }
     },
     "5c55a6ed0d2145fa985b8e9e207481d8": {
      "model_module": "@jupyter-widgets/base",
      "model_module_version": "1.2.0",
      "model_name": "LayoutModel",
      "state": {}
     },
     "5c80077c733f4fe287ebad1d9ce6e351": {
      "model_module": "@jupyter-widgets/output",
      "model_module_version": "1.0.0",
      "model_name": "OutputModel",
      "state": {
       "layout": "IPY_MODEL_5c55a6ed0d2145fa985b8e9e207481d8",
       "outputs": [
        {
         "data": {
          "text/markdown": "#### eg_csv",
          "text/plain": "<IPython.core.display.Markdown object>"
         },
         "metadata": {},
         "output_type": "display_data"
        },
        {
         "data": {
          "text/markdown": "`C:\\engDev\\git_mf\\ipyrun\\data\\eg_filetypes\\eg_csv.csv`",
          "text/plain": "<IPython.core.display.Markdown object>"
         },
         "metadata": {},
         "output_type": "display_data"
        },
        {
         "data": {
          "application/vnd.jupyter.widget-view+json": {
           "model_id": "f0d9223363174440baccb017d31b607f",
           "version_major": 2,
           "version_minor": 0
          },
          "text/plain": "Grid(columns_fit='size_to_fit', compress_data=True, export_mode='disabled', height='350px', menu={'buttons': […"
         },
         "metadata": {},
         "output_type": "display_data"
        }
       ]
      }
     },
     "5dbaff3b217146daa114750c570d5797": {
      "model_module": "@jupyter-widgets/base",
      "model_module_version": "1.2.0",
      "model_name": "LayoutModel",
      "state": {}
     },
     "5ddc8a689df447f19d827d7e46343239": {
      "model_module": "@jupyter-widgets/base",
      "model_module_version": "1.2.0",
      "model_name": "LayoutModel",
      "state": {
       "flex_flow": "column",
       "height": "auto",
       "width": "auto"
      }
     },
     "6209802bde6c4c7fbca6a9e845ee4078": {
      "model_module": "@jupyter-widgets/base",
      "model_module_version": "1.2.0",
      "model_name": "LayoutModel",
      "state": {}
     },
     "64117df22f644e7b8f53a9ad091514f0": {
      "model_module": "@jupyter-widgets/output",
      "model_module_version": "1.0.0",
      "model_name": "OutputModel",
      "state": {
       "layout": "IPY_MODEL_e42e14f6bb4848a09dd39bafc4bc1dbd"
      }
     },
     "652f3fb6f6fa4fc88952c6c4adc19310": {
      "model_module": "@jupyter-widgets/output",
      "model_module_version": "1.0.0",
      "model_name": "OutputModel",
      "state": {
       "layout": "IPY_MODEL_d83c33828da34236bb7ba61ad5e22cb2"
      }
     },
     "6570c34ed2fd40248a963a2f5afa6fbe": {
      "model_module": "@jupyter-widgets/base",
      "model_module_version": "1.2.0",
      "model_name": "LayoutModel",
      "state": {}
     },
     "805ba7f4ddab46a3bdd0f917866c854d": {
      "model_module": "@jupyter-widgets/base",
      "model_module_version": "1.2.0",
      "model_name": "LayoutModel",
      "state": {}
     },
     "8162bac62cfd4a32b5e1f8a1db9d15f5": {
      "buffers": [
       {
        "data": "H4sIAAAAAAACA62ZXW/buBKG/wphoGgLBE1i57N33aTd7bbZFHWwBY7bPWAk2uapJAqk5DRb9L+feYekRNlOmmD3wo1EzTMkZ4bDIft9tLA6H738PsplI0cvZ7PR26pS9lwVjbzSpRrtjEylRKmrtlGioRbhGlULXQmnMlPlbrRTtUXxZWc2qtzqj7a8nH/Qtfrtikh6u1ZWmLlAk/hNyUZcWVm5OVqv/6eyZoi/rQrV/GFyRSTxpcnbQomVtFpe08PcWOqYRERFMqJi9QMFl23zUw2GZe5U4UfvcT9G6jNX3wZCF9K5N4W5+SgbmKjG9EpqE3NqFJZbE/E/TdGWah1YcWtjdXYHlnqBTZ8tZbWgWVhTikK6RrR1vg6xDa9UWcduvMUaalHUQ2vVFoul8sE+dwGvq5W2pipVFSnVt8gi5cQz11pr2irX1UJA+fN1VYiJ98a5YJclQqSgdzaGnygPqjGiWSqRdDXQ9KZodb6my6xoGEUhep2sbg5R6IPe9eDl4IfFpxTkDmZfxiBBGH8eaQh8HvUrwYWYsoJiTRW9wl9Vg1B6W9Vt86aQC1L2RlvyGdAd8gq1C+1I58I0jao+j3r2zFSusW3WaFMRlyWvYd2ISpbJ6F+ndhl9Vbc3xuYvhXg6zZYKS+DpjnhKrs6Nsa+0xdt/aF0/HWiwURjzTrzoQjPPdNPZQx1/quLfUIPREf83kk9tzUpzCP2Moqlh7cP5beM0LXCprV/pD1PyXlWLZomBG3zk0Cu4TczKL0goI4ixY8/7BcZd5Zpc0lCgpJJdRqOWNHUNvNdnLT/yO8TWsuM9mXA9Dd6X8q5ua3U5JyE8IMiH6yINRa9sEI1WzTc0dqH0obGwkdEVzEJLrguB1ileg45G9dCI+ne0IbA2NHGYhWX+GGUh3rxdEn0b0fdQpaRpqtiyrgvCPv1AlROyMCGbhtDscU6D01plSIWkwOe6s1rMft/9unjxDnHpn0ad+Lmi8G1u6Uvun8Ts62K3nECWH1j0Qn5Ltq9Sfuu3LPHM70fG1Ls8WZQSz9cH5WdFGyHhfuPDjJTMln4qzguIZ1DxnNbQXzwC+hPWEQz6yioZV10EwuqjnWYuMzI5iYAee3o8CuvhLjy66l4+jD7wmcVmEhSQg7YiXEaQF85kLTNvX96IsvAeV1o3EHJRGT1UBgdByeV5sjHfnWggelb3tQh9l7q42/eQ713fQ5omdF8gcD9U92H9r7bBtGPakv5miZCYfYqT+9RNjlzaFhJz5ynq7vX+ifYYTzfBhKPI13Mqp9jS2+fd4/3sEx33TT3peWiAhH/ErK+WOvtaKeeGGprYfMesPyqnXSOrDAvxbcp5u9vuOykYv3i3+4m18BOrOqOajHLPVJehtAwNwumyU4byZra0QJfWO96qlTat67l1edRKVtXGNpwCxI10aZWar6WEUD1Ka+Wtr6J8upJVHmq+vnigrNf4ZFHxLpnky3NVN0tkYdixz5XOUPTjcCM4LzucWDDAHOIUWVaF6iqqQmBDDevD7KDAS/dqxA1ZWfnhUe1WmGw4sajkk857JTd4eaSSOAoWum7DsqzX6pBzU0pdDUbM3WxK5lOrFuQtbHws4pCGaB8hs2TSNhQ0kqKf9Q3AUDRSxK/OjJrHbmgvw+ZG4b4K+Sujr7T2NCIJgT/uIn8cQn9K4EVIE/CV9HsA64vp42UYZihze6OksN9vB5w/o2E2fRZDDPpKZXCGuTBVs7ycX+hqSjk/RGGJRoyGTroU1iXZEeeWblvYehpaUxFIWVUtdb+FFLMzmOSss8bm3hvtsS3/eML7us8SHZE4DZKcHYcZsRPdmhkZGia2rbm807Ilu0HHR9MuliGvrVnR9p9Sv16hm1fXW4A4AHntjK3juFJ2aihatrIOX+4gEcrT/RhEkZiTBxtsO/M5LVBk0CSo1+DxP4BfdT0/Bho/EnpDh1Kt7Pk0cqEhFpTXEkUprdw0HwyNe05dtC5Gg1/4wSN5/wn7zK7zu8yuG22BP9Aw5E9V5PI2KKEnVnPVIcki4g2jH+cvakHLUNPRXaPkvcYrtjLeR/xbUnHTHiMXmzCK+erRNMfe62+1cUjfI5zykRhz1CyUDSi7z0MUauw/WdHmZHFaiMNITRS25dU70kR/scy6Rb47XIAr8h5uNrpUV8hbZZNFhUMOis9fKZuHkv29XCyoc1Upu7ilnsvS79zYd/n4wxligfT//dOP5ERMZb3Ptx8KWTV4DbnW72I0RhcOI1q5ITfV8WzUsU9i+4OU/GKpjll6FS9eRPSJb36QhjNT1pH32BM0PYjlKiW9Ttu4SRskdBYfXKdt3qQNgLVLxOH9Ie8ALmwAru/gvkuuJt6t9pdng9suStmcrje1veaw4Ls8jo+oyVLIbNPzO+8d/V3I+p3jYL024QoynTufbDauHtewy3YdS+65HmmIeIuYrubUHMld5E+NsVVXYhISNZZvSsqalhZ9Xb8iiRKx9A7b+l2fp32lfZ7mvih3ldiN8sYN8gKNDtmBSjyUvSHV4N5RnG0quBjEHktx2G0I8kV+PJftiLKX+MiVP747GDLe8z97zscUrDakmmQsglKg4hIShz0rh+V47DDc4Idbz3hofsafRUm5US6Ue77JDW6pYqn5QHauVZE/kom3P/SvEYPO+X9WNuRxE4RLbdvyNsHNOAVhX0BWCsQXZB0y3n+tuXH4fxoMix5m3qYUbqOVLFpumu1RB/v0G9NvQr8D+h3S74h+x/Q7od8pZFgQkvsQ3YfsPoT3Ib0P8X3I7wPYBzEGMWbdIMYgxiDGIMYgxiDGIMYgJiAmICY8HBATEBMQExATEBMQExAHIA5AHIA44BmAOABxAOIAxAGIAxCHIA5BHII4BHHIkwZxCOIQxCGIQxBHII5AHIE4AnEE4ojtBOIIxBGIIxDHII5BHIM4BnEM4hjEMZsWxDGIYxAnIE5AnIA4AXEC4gTECYgT9gaIExCnIE5BnII4BXEK4hTEKYhTEKfsQO9BduEe+3CPnbjHXtxjN+6xH/fYkXvsyT125R6z5P4vP2JcZbiLqzh8QmzxcVG5zOqalyTeWyqu6MuXHz/+D9ipuWsyHAAA",
        "encoding": "base64",
        "path": [
         "_grid_data_up"
        ]
       }
      ],
      "model_module": "ipyaggrid",
      "model_module_version": "~0.2.1",
      "model_name": "AgGridModel",
      "state": {
       "_grid_data_down": [
        {
         "description": "one minute time step in seconds",
         "names": "InnerDeltaTime",
         "units": null
        },
        {
         "description": "Number of Pipe Heat Transfer objects",
         "names": "nsvNumOfPipeHT",
         "units": null
        },
        {
         "description": "module variable for inlet node number",
         "names": "nsvInletNodeNum",
         "units": null
        },
        {
         "description": "module variable for outlet node number",
         "names": "nsvOutletNodeNum",
         "units": null
        },
        {
         "description": "object index",
         "names": "nsvPipeHTNum",
         "units": null
        },
        {
         "description": "pipe mass flow rate",
         "names": "nsvMassFlowRate",
         "units": null
        },
        {
         "description": "pipe volumetric flow rate",
         "names": "nsvVolumeFlowRate",
         "units": null
        },
        {
         "description": "time change from last update",
         "names": "nsvDeltaTime",
         "units": null
        },
        {
         "description": "pipe inlet temperature",
         "names": "nsvInletTemp",
         "units": null
        },
        {
         "description": "pipe outlet temperature",
         "names": "nsvOutletTemp",
         "units": null
        },
        {
         "description": "environmental temperature (surrounding pipe)",
         "names": "nsvEnvironmentTemp",
         "units": null
        },
        {
         "description": "heat loss rate from pipe to the environment",
         "names": "nsvEnvHeatLossRate",
         "units": null
        },
        {
         "description": "overall heat loss from fluid to pipe",
         "names": "nsvFluidHeatLossRate",
         "units": null
        },
        {
         "description": "the number of \"inner\" time steps for our model",
         "names": "nsvNumInnerTimeSteps",
         "units": null
        },
        {
         "description": "First time, input is \"gotten\"",
         "names": "GetPipeInputFlag",
         "units": null
        },
        {
         "description": "construction object name",
         "names": "Construction",
         "units": null
        },
        {
         "description": "keyword:  'Schedule', 'OutdoorAir', 'Zone'",
         "names": "Environment",
         "units": null
        },
        {
         "description": "temperature schedule for environmental temp",
         "names": "EnvrSchedule",
         "units": null
        },
        {
         "description": "temperature schedule for environmental temp",
         "names": "EnvrVelSchedule",
         "units": null
        },
        {
         "description": "zone providing environmental temp",
         "names": "EnvrZone",
         "units": null
        },
        {
         "description": "outside air node providing environmental temp",
         "names": "EnvrAirNode",
         "units": null
        },
        {
         "description": "total pipe length [m]",
         "names": "Length",
         "units": "m"
        },
        {
         "description": "pipe inside diameter [m]",
         "names": "PipeID",
         "units": "m"
        },
        {
         "description": "inlet node name",
         "names": "InletNode",
         "units": null
        },
        {
         "description": "outlet node name",
         "names": "OutletNode",
         "units": null
        },
        {
         "description": "inlet node number",
         "names": "InletNodeNum",
         "units": null
        },
        {
         "description": "outlet node number",
         "names": "OutletNodeNum",
         "units": null
        },
        {
         "description": "Type of pipe",
         "names": "TypeOf",
         "units": null
        },
        {
         "description": "construction ref number",
         "names": "ConstructionNum",
         "units": null
        },
        {
         "description": "pointer to schedule used to set environmental temp",
         "names": "EnvrSchedPtr",
         "units": null
        },
        {
         "description": "pointer to schedule used to set environmental temp",
         "names": "EnvrVelSchedPtr",
         "units": null
        },
        {
         "description": "pointer to zone number used to set environmental temp",
         "names": "EnvrZonePtr",
         "units": null
        },
        {
         "description": "pointer to outside air node used to set environmental temp",
         "names": "EnvrAirNodeNum",
         "units": null
        },
        {
         "description": "total number of nodes along pipe length",
         "names": "NumSections",
         "units": null
        },
        {
         "description": "fluid Cp [J/kg.K]",
         "names": "FluidSpecHeat",
         "units": "J/kg.K"
        },
        {
         "description": "density [kg/m3]",
         "names": "FluidDensity",
         "units": "kg/m3"
        },
        {
         "description": "max flow rate (from loop/node data)",
         "names": "MaxFlowRate",
         "units": null
        },
        {
         "description": "volume of each pipe section (node) [m^3]",
         "names": "FluidSectionVol",
         "units": "m^3"
        },
        {
         "description": "pipe section inside surface area [m^2]",
         "names": "InsideArea",
         "units": "m^2"
        },
        {
         "description": "pipe section outside surface area [m^2]",
         "names": "OutsideArea",
         "units": "m^2"
        },
        {
         "description": "cross sectional area [m^2]",
         "names": "SectionArea",
         "units": "m^2"
        },
        {
         "description": "heat capacity of pipe section [J/m.K]",
         "names": "PipeHeatCapacity",
         "units": "J/m.K"
        },
        {
         "description": "pipe outside diameter [m]",
         "names": "PipeOD",
         "units": "m"
        },
        {
         "description": "pipe materail Cp [J/kg.K]",
         "names": "PipeCp",
         "units": "J/kg.K"
        },
        {
         "description": "pipe material density [kg/m3]",
         "names": "PipeDensity",
         "units": "kg/m3"
        },
        {
         "description": "pipe material thermal conductivity [W/m.K]",
         "names": "PipeConductivity",
         "units": "W/m.K"
        },
        {
         "description": "insulation outside diameter [m]",
         "names": "InsulationOD",
         "units": "m"
        },
        {
         "description": "insulation  specific heat [J/kg.K]",
         "names": "InsulationCp",
         "units": "J/kg.K"
        },
        {
         "description": "insulation density [kg/m3]",
         "names": "InsulationDensity",
         "units": "kg/m3"
        },
        {
         "description": "insulation conductivity [W/m.K]",
         "names": "InsulationConductivity",
         "units": "W/m.K"
        },
        {
         "description": "insulation thickness [m]",
         "names": "InsulationThickness",
         "units": "m"
        },
        {
         "description": "Insulation thermal resistance [m2.K/W]",
         "names": "InsulationResistance",
         "units": "m2.K/W"
        },
        {
         "description": "Current simulation time [hr]",
         "names": "CurrentSimTime",
         "units": "hr"
        },
        {
         "description": "simulation time the report data was last updated",
         "names": "PreviousSimTime",
         "units": null
        },
        {
         "description": "arrays for fluid and pipe temperatures at each node",
         "names": "FluidTemp",
         "units": null
        },
        {
         "description": "number of soil grid points in the depth direction",
         "names": "NumDepthNodes",
         "units": null
        },
        {
         "description": "soil depth grid point where pipe is located",
         "names": "PipeNodeDepth",
         "units": null
        },
        {
         "description": "soil width grid point where pipe is located",
         "names": "PipeNodeWidth",
         "units": null
        },
        {
         "description": "pipe burial depth [m]",
         "names": "PipeDepth",
         "units": "m"
        },
        {
         "description": "soil grid depth [m]",
         "names": "DomainDepth",
         "units": "m"
        },
        {
         "description": "grid spacing in cartesian domain [m]",
         "names": "dSregular",
         "units": "m"
        },
        {
         "description": "soil to air convection coefficient [W/m2.K]",
         "names": "OutdoorConvCoef",
         "units": "W/m2.K"
        },
        {
         "description": "name of soil material:regular object",
         "names": "SoilMaterial",
         "units": null
        },
        {
         "description": "soil material index in material data structure",
         "names": "SoilMaterialNum",
         "units": null
        },
        {
         "description": "month of minimum ground surface temperature",
         "names": "MonthOfMinSurfTemp",
         "units": null
        },
        {
         "description": "minimum annual surface temperature [C]",
         "names": "MinSurfTemp",
         "units": "C"
        },
        {
         "description": "density of soil [kg/m3]",
         "names": "SoilDensity",
         "units": "kg/m3"
        },
        {
         "description": "thickness of soil [m]",
         "names": "SoilDepth",
         "units": "m"
        },
        {
         "description": "specific heat of soil [J/kg.K]",
         "names": "SoilCp",
         "units": "J/kg.K"
        },
        {
         "description": "thermal conductivity of soil [W/m.K]",
         "names": "SoilConductivity",
         "units": "W/m.K"
        },
        {
         "description": "ground surface roughness",
         "names": "SoilRoughness",
         "units": null
        },
        {
         "description": "ground surface thermal absorptivity",
         "names": "SoilThermAbs",
         "units": null
        },
        {
         "description": "ground surface solar absorptivity",
         "names": "SoilSolarAbs",
         "units": null
        },
        {
         "description": "soil surface finite difference coefficient",
         "names": "CoefS1",
         "units": null
        },
        {
         "description": "soil surface finite difference coefficient",
         "names": "CoefS2",
         "units": null
        },
        {
         "description": "soil finite difference coefficient",
         "names": "CoefA1",
         "units": null
        },
        {
         "description": "soil finite difference coefficient",
         "names": "CoefA2",
         "units": null
        },
        {
         "description": "soil Fourier number based on grid spacing",
         "names": "FourierDS",
         "units": null
        },
        {
         "description": "soil thermal diffusivity [m2/s]",
         "names": "SoilDiffusivity",
         "units": "m2/s"
        },
        {
         "description": "soil thermal diffusivity [m2/day]",
         "names": "SoilDiffusivityPerDay",
         "units": "m2/day"
        },
        {
         "description": "soil temperature array",
         "names": "T",
         "units": null
        },
        {
         "description": "begin sim and begin environment flag",
         "names": "BeginSimInit",
         "units": null
        },
        {
         "description": "begin sim and begin environment flag",
         "names": "BeginSimEnvrn",
         "units": null
        },
        {
         "description": "Flag to determine if solar is included at ground surface",
         "names": "SolarExposed",
         "units": null
        },
        {
         "description": "Sum of thickness/conductivity over all material layers",
         "names": "SumTK",
         "units": null
        },
        {
         "description": "Lagged energy summation for zone heat gain {W}",
         "names": "ZoneHeatGainRate",
         "units": null
        },
        {
         "description": "PlantLoop index where this pipe lies",
         "names": "LoopNum",
         "units": null
        },
        {
         "description": "PlantLoop%LoopSide index where this pipe lies",
         "names": "LoopSideNum",
         "units": null
        },
        {
         "description": "..LoopSide%Branch index where this pipe lies",
         "names": "BranchNum",
         "units": null
        },
        {
         "description": "..Branch%Comp index where this pipe lies",
         "names": "CompNum",
         "units": null
        },
        {
         "description": "inlet temperature [C]",
         "names": "FluidInletTemp",
         "units": "C"
        },
        {
         "description": "outlet temperature [C]",
         "names": "FluidOutletTemp",
         "units": "C"
        },
        {
         "description": "mass flow rate [kg/s]",
         "names": "MassFlowRate",
         "units": "kg/s"
        },
        {
         "description": "overall heat transfer rate from fluid to pipe [W]",
         "names": "FluidHeatLossRate",
         "units": "W"
        },
        {
         "description": "energy transferred from fluid to pipe [J]",
         "names": "FluidHeatLossEnergy",
         "units": "J"
        },
        {
         "description": "pipe temperature at inlet [C]",
         "names": "PipeInletTemp",
         "units": "C"
        },
        {
         "description": "pipe temperature at Oulet [C]",
         "names": "PipeOutletTemp",
         "units": "C"
        },
        {
         "description": "overall heat transfer rate from pipe to environment [W]",
         "names": "EnvironmentHeatLossRate",
         "units": "W"
        },
        {
         "description": "energy transferred from pipe to environment [J]",
         "names": "EnvHeatLossEnergy",
         "units": "J"
        },
        {
         "description": "component number",
         "names": "error",
         "units": null
        },
        {
         "description": "Current Depth",
         "names": "error",
         "units": null
        },
        {
         "description": "Current Simulation Day",
         "names": "error",
         "units": null
        },
        {
         "description": "Temperature of water entering the surface, in C",
         "names": "error",
         "units": null
        },
        {
         "description": "Mass flow rate, in kg/s",
         "names": "error",
         "units": null
        },
        {
         "description": "Pipe diameter, m",
         "names": "error",
         "units": null
        },
        {
         "description": "Index for the surface under consideration",
         "names": "ReportPipesHeatTransfer()",
         "units": null
        },
        {
         "description": "module object of pipe (error messages)",
         "names": "error",
         "units": null
        },
        {
         "description": "construction name of pipe (error messages)",
         "names": "error",
         "units": null
        },
        {
         "description": "fieldname of pipe (error messages)",
         "names": "error",
         "units": null
        },
        {
         "description": "pointer into construction data",
         "names": "error",
         "units": null
        },
        {
         "description": "set to true if errors found here",
         "names": "error",
         "units": null
        }
       ],
       "_grid_data_up": {},
       "_grid_options_mono_down": "{\"enableSorting\": true, \"enableFilter\": true, \"enableColResize\": true, \"enableRangeSelection\": true, \"columnDefs\": [{\"field\": \"names\", \"type\": \"textColumn\", \"headerName\": \"Names\"}, {\"field\": \"description\", \"type\": \"textColumn\", \"headerName\": \"Description\"}, {\"field\": \"units\", \"type\": \"textColumn\", \"headerName\": \"Units\"}], \"columnTypes\": {\"numberColumn\": {\"filter\": \"agNumberColumnFilter\"}, \"textColumn\": {\"filter\": \"agTextColumnFilter\"}, \"dateColumn\": {\"valueFormatter\": \"helpers.dateFormatter\", \"filter\": \"agDateColumnFilter\", \"filterParams\": {\"comparator\": \"helpers.compareDates\"}}}}",
       "_id": 69787898,
       "_js_helpers_builtin": "helpersBuiltin = {\n    dateFormatter: function(node) {\n        // make sure date is not undefined\n        if (node && node.value) {\n            let d = new Date(node.value);\n            let h = d.getHours();\n            let m = d.getMinutes();\n            let s = d.getSeconds();\n            const offset = d.getTimezoneOffset() * 60000;\n            d = new Date(d.getTime() - offset);\n            const ymd = d.toISOString().substring(0, 10);\n            if (h === 0 && m === 0 && s === 0) {\n                return ymd;\n            }\n            if (h === 0) h = '00';\n            if (m === 0) m = '00';\n            if (s === 0) s = '00';\n            return `${ymd} ${h}:${m}:${s}`;\n        }\n        return null;\n    },\n\n    formatInt: d3.format(',.0f'),\n    formatFloat: d3.format(',.2f'),\n\n    intFormatter: function(node) {\n        return formatInt(node.value);\n    },\n\n    floatFormatter: function(node) {\n        return formatFloat(node.value);\n    },\n\n    compareDates: function(filterLocalDate, cellValue) {\n        // Assume dates are stored as iso\n        const cellDate = new Date(cellValue);\n\n        if (cellDate < filterLocalDate) {\n            return -1;\n        } else if (cellDate > filterLocalDate) {\n            return 1;\n        }\n        return 0;\n    },\n\n    sizeToFit: function(gridOptions) {\n        gridOptions.api.sizeColumnsToFit();\n    },\n\n    autoSizeAll: function(gridOptions) {\n        const allColumnIds = [];\n        gridOptions.columnApi.getAllColumns().forEach(column => {\n            allColumnIds.push(column.colId);\n        });\n        gridOptions.columnApi.autoSizeColumns(allColumnIds);\n    },\n\n    /**\n     * Exporting data to CSV using ag-Grid api.\n     * @param {Object} gridOptions\n     */\n    exportToCsv: function(gridOptions) {\n        const params = {\n            skipHeader: false,\n            columnGroups: true,\n            skipFooters: false,\n            skipGroups: false,\n            skipPinnedTop: false,\n            skipPinnedBottom: false,\n            allColumns: true,\n            onlySelected: false,\n            suppressQuotes: true,\n            fileName: 'my_file.csv',\n            sheetName: 'my_sheet',\n            shouldRowBeSkipped: () => false,\n            processCellCallback: param => param.value,\n            processHeaderCallback: null,\n        };\n        gridOptions.api.exportDataAsCsv(params);\n    },\n\n    /**\n     * Exporting data to Excel using ag-Grid api.\n     * @param {Object} gridOptions\n     */\n    exportToExcel: function(gridOptions) {\n        const params = {\n            skipHeader: false,\n            columnGroups: true,\n            skipFooters: false,\n            skipGroups: false,\n            skipPinnedTop: false,\n            skipPinnedBottom: false,\n            allColumns: true,\n            onlySelected: false,\n            suppressQuotes: true,\n            fileName: 'my_file.xls',\n            sheetName: 'my_sheet',\n            shouldRowBeSkipped: () => false, // TODO : check\n            processCellCallback: param => param.value,\n            processHeaderCallback: null,\n        };\n        gridOptions.api.exportDataAsExcel(params);\n    },\n};\n",
       "columns_fit": "size_to_fit",
       "compress_data": true,
       "export_mode": "disabled",
       "height": "350px",
       "js_helpers": "{\"dateFormatter\":\"function(node) {\\n        // make sure date is not undefined\\n        if (node && node.value) {\\n            let d = new Date(node.value);\\n            let h = d.getHours();\\n            let m = d.getMinutes();\\n            let s = d.getSeconds();\\n            const offset = d.getTimezoneOffset() * 60000;\\n            d = new Date(d.getTime() - offset);\\n            const ymd = d.toISOString().substring(0, 10);\\n            if (h === 0 && m === 0 && s === 0) {\\n                return ymd;\\n            }\\n            if (h === 0) h = '00';\\n            if (m === 0) m = '00';\\n            if (s === 0) s = '00';\\n            return `${ymd} ${h}:${m}:${s}`;\\n        }\\n        return null;\\n    }\",\"formatInt\":\" >-,.0f\",\"formatFloat\":\" >-,.2f\",\"intFormatter\":\"function(node) {\\n        return formatInt(node.value);\\n    }\",\"floatFormatter\":\"function(node) {\\n        return formatFloat(node.value);\\n    }\",\"compareDates\":\"function(filterLocalDate, cellValue) {\\n        // Assume dates are stored as iso\\n        const cellDate = new Date(cellValue);\\n\\n        if (cellDate < filterLocalDate) {\\n            return -1;\\n        } else if (cellDate > filterLocalDate) {\\n            return 1;\\n        }\\n        return 0;\\n    }\",\"sizeToFit\":\"function(gridOptions) {\\n        gridOptions.api.sizeColumnsToFit();\\n    }\",\"autoSizeAll\":\"function(gridOptions) {\\n        const allColumnIds = [];\\n        gridOptions.columnApi.getAllColumns().forEach(column => {\\n            allColumnIds.push(column.colId);\\n        });\\n        gridOptions.columnApi.autoSizeColumns(allColumnIds);\\n    }\",\"exportToCsv\":\"function(gridOptions) {\\n        const params = {\\n            skipHeader: false,\\n            columnGroups: true,\\n            skipFooters: false,\\n            skipGroups: false,\\n            skipPinnedTop: false,\\n            skipPinnedBottom: false,\\n            allColumns: true,\\n            onlySelected: false,\\n            suppressQuotes: true,\\n            fileName: 'my_file.csv',\\n            sheetName: 'my_sheet',\\n            shouldRowBeSkipped: () => false,\\n            processCellCallback: param => param.value,\\n            processHeaderCallback: null,\\n        };\\n        gridOptions.api.exportDataAsCsv(params);\\n    }\",\"exportToExcel\":\"function(gridOptions) {\\n        const params = {\\n            skipHeader: false,\\n            columnGroups: true,\\n            skipFooters: false,\\n            skipGroups: false,\\n            skipPinnedTop: false,\\n            skipPinnedBottom: false,\\n            allColumns: true,\\n            onlySelected: false,\\n            suppressQuotes: true,\\n            fileName: 'my_file.xls',\\n            sheetName: 'my_sheet',\\n            shouldRowBeSkipped: () => false, // TODO : check\\n            processCellCallback: param => param.value,\\n            processHeaderCallback: null,\\n        };\\n        gridOptions.api.exportDataAsExcel(params);\\n    }\"}",
       "layout": "IPY_MODEL_805ba7f4ddab46a3bdd0f917866c854d",
       "menu": {
        "button_div_css": ".flex-button-div-69787898 {\ndisplay: flex;\njustify-content: flex-start;\nalign-items: flex-start;\nalign-content: flex-start;\nflex-flow: row wrap;\n}\n",
        "buttons": [],
        "input_div_css": ".flex-input-div-69787898 {\ndisplay: flex;\njustify-content: flex-start;\nalign-items: baseline;\nalign-content: flex-start;\nflex-flow: row wrap;\n}\n",
        "inputs": [
         {
          "css": ".flex-child-quick-filter-69787898 {\norder: 0;\nalign-self: auto;\nmargin: 5px;\nflex: 0.00 1.00 auto;\nwidth: 150px;\n}\n",
          "name": "Quick Filter"
         }
        ],
        "menu_div_css": ".flex-menu-div-69787898 {\ndisplay: flex;\njustify-content: flex-start;\nalign-items: flex-start;\nalign-content: flex-start;\nflex-flow: row wrap;\n}\n"
       },
       "theme": "ag-theme-balham",
       "width": "100%"
      }
     },
     "82092e033c2749178eaab4d25c363f00": {
      "model_module": "@jupyter-widgets/controls",
      "model_module_version": "1.5.0",
      "model_name": "DescriptionStyleModel",
      "state": {
       "description_width": ""
      }
     },
     "8275c6f04fcb4f5ca7b4eb2146d7ba91": {
      "model_module": "@jupyter-widgets/controls",
      "model_module_version": "1.5.0",
      "model_name": "ToggleButtonModel",
      "state": {
       "button_style": "success",
       "description": "display/hide files",
       "layout": "IPY_MODEL_54b5ee0f32c541d192351fcd69f9ba4c",
       "style": "IPY_MODEL_33906bd731bd416e93e9bb4b274213f8",
       "tooltip": "shows and hides display outputs of the files selected in the SelectMultiple dropdown menu"
      }
     },
     "83a7508b344f44bdb61a1dee793837cf": {
      "model_module": "@jupyter-widgets/base",
      "model_module_version": "1.2.0",
      "model_name": "LayoutModel",
      "state": {}
     },
     "89bfff01400f4f74b5a015eeec6ed87b": {
      "model_module": "@jupyter-widgets/controls",
      "model_module_version": "1.5.0",
      "model_name": "ToggleButtonModel",
      "state": {
       "button_style": "success",
       "description": "display/hide files",
       "layout": "IPY_MODEL_6570c34ed2fd40248a963a2f5afa6fbe",
       "style": "IPY_MODEL_127147f9115741e3a7882b09f8205352",
       "tooltip": "shows and hides display outputs of the files selected in the SelectMultiple dropdown menu"
      }
     },
     "8b169264b93044b2919ae14c73098e90": {
      "model_module": "@jupyter-widgets/output",
      "model_module_version": "1.0.0",
      "model_name": "OutputModel",
      "state": {
       "layout": "IPY_MODEL_9f2c2411c96a4d23bdc535cfde20e4c6"
      }
     },
     "93903cfde70642088e0db76dc566c04c": {
      "model_module": "@jupyter-widgets/controls",
      "model_module_version": "1.5.0",
      "model_name": "DescriptionStyleModel",
      "state": {
       "description_width": ""
      }
     },
     "98da4052986b488ea4922e9b03f0de0a": {
      "buffers": [
       {
        "data": "H4sIAAAAAAACA62ZXW/buBKG/wphoGgLBE1i57N33aTd7bbZFHWwBY7bPWAk2uapJAqk5DRb9L+feYekRNlOmmD3wo1EzTMkZ4bDIft9tLA6H738PsplI0cvZ7PR26pS9lwVjbzSpRrtjEylRKmrtlGioRbhGlULXQmnMlPlbrRTtUXxZWc2qtzqj7a8nH/Qtfrtikh6u1ZWmLlAk/hNyUZcWVm5OVqv/6eyZoi/rQrV/GFyRSTxpcnbQomVtFpe08PcWOqYRERFMqJi9QMFl23zUw2GZe5U4UfvcT9G6jNX3wZCF9K5N4W5+SgbmKjG9EpqE3NqFJZbE/E/TdGWah1YcWtjdXYHlnqBTZ8tZbWgWVhTikK6RrR1vg6xDa9UWcduvMUaalHUQ2vVFoul8sE+dwGvq5W2pipVFSnVt8gi5cQz11pr2irX1UJA+fN1VYiJ98a5YJclQqSgdzaGnygPqjGiWSqRdDXQ9KZodb6my6xoGEUhep2sbg5R6IPe9eDl4IfFpxTkDmZfxiBBGH8eaQh8HvUrwYWYsoJiTRW9wl9Vg1B6W9Vt86aQC1L2RlvyGdAd8gq1C+1I58I0jao+j3r2zFSusW3WaFMRlyWvYd2ISpbJ6F+ndhl9Vbc3xuYvhXg6zZYKS+DpjnhKrs6Nsa+0xdt/aF0/HWiwURjzTrzoQjPPdNPZQx1/quLfUIPREf83kk9tzUpzCP2Moqlh7cP5beM0LXCprV/pD1PyXlWLZomBG3zk0Cu4TczKL0goI4ixY8/7BcZd5Zpc0lCgpJJdRqOWNHUNvNdnLT/yO8TWsuM9mXA9Dd6X8q5ua3U5JyE8IMiH6yINRa9sEI1WzTc0dqH0obGwkdEVzEJLrguB1ileg45G9dCI+ne0IbA2NHGYhWX+GGUh3rxdEn0b0fdQpaRpqtiyrgvCPv1AlROyMCGbhtDscU6D01plSIWkwOe6s1rMft/9unjxDnHpn0ad+Lmi8G1u6Uvun8Ts62K3nECWH1j0Qn5Ltq9Sfuu3LPHM70fG1Ls8WZQSz9cH5WdFGyHhfuPDjJTMln4qzguIZ1DxnNbQXzwC+hPWEQz6yioZV10EwuqjnWYuMzI5iYAee3o8CuvhLjy66l4+jD7wmcVmEhSQg7YiXEaQF85kLTNvX96IsvAeV1o3EHJRGT1UBgdByeV5sjHfnWggelb3tQh9l7q42/eQ713fQ5omdF8gcD9U92H9r7bBtGPakv5miZCYfYqT+9RNjlzaFhJz5ynq7vX+ifYYTzfBhKPI13Mqp9jS2+fd4/3sEx33TT3peWiAhH/ErK+WOvtaKeeGGprYfMesPyqnXSOrDAvxbcp5u9vuOykYv3i3+4m18BOrOqOajHLPVJehtAwNwumyU4byZra0QJfWO96qlTat67l1edRKVtXGNpwCxI10aZWar6WEUD1Ka+Wtr6J8upJVHmq+vnigrNf4ZFHxLpnky3NVN0tkYdixz5XOUPTjcCM4LzucWDDAHOIUWVaF6iqqQmBDDevD7KDAS/dqxA1ZWfnhUe1WmGw4sajkk857JTd4eaSSOAoWum7DsqzX6pBzU0pdDUbM3WxK5lOrFuQtbHws4pCGaB8hs2TSNhQ0kqKf9Q3AUDRSxK/OjJrHbmgvw+ZG4b4K+Sujr7T2NCIJgT/uIn8cQn9K4EVIE/CV9HsA64vp42UYZihze6OksN9vB5w/o2E2fRZDDPpKZXCGuTBVs7ycX+hqSjk/RGGJRoyGTroU1iXZEeeWblvYehpaUxFIWVUtdb+FFLMzmOSss8bm3hvtsS3/eML7us8SHZE4DZKcHYcZsRPdmhkZGia2rbm807Ilu0HHR9MuliGvrVnR9p9Sv16hm1fXW4A4AHntjK3juFJ2aihatrIOX+4gEcrT/RhEkZiTBxtsO/M5LVBk0CSo1+DxP4BfdT0/Bho/EnpDh1Kt7Pk0cqEhFpTXEkUprdw0HwyNe05dtC5Gg1/4wSN5/wn7zK7zu8yuG22BP9Aw5E9V5PI2KKEnVnPVIcki4g2jH+cvakHLUNPRXaPkvcYrtjLeR/xbUnHTHiMXmzCK+erRNMfe62+1cUjfI5zykRhz1CyUDSi7z0MUauw/WdHmZHFaiMNITRS25dU70kR/scy6Rb47XIAr8h5uNrpUV8hbZZNFhUMOis9fKZuHkv29XCyoc1Upu7ilnsvS79zYd/n4wxligfT//dOP5ERMZb3Ptx8KWTV4DbnW72I0RhcOI1q5ITfV8WzUsU9i+4OU/GKpjll6FS9eRPSJb36QhjNT1pH32BM0PYjlKiW9Ttu4SRskdBYfXKdt3qQNgLVLxOH9Ie8ALmwAru/gvkuuJt6t9pdng9suStmcrje1veaw4Ls8jo+oyVLIbNPzO+8d/V3I+p3jYL024QoynTufbDauHtewy3YdS+65HmmIeIuYrubUHMld5E+NsVVXYhISNZZvSsqalhZ9Xb8iiRKx9A7b+l2fp32lfZ7mvih3ldiN8sYN8gKNDtmBSjyUvSHV4N5RnG0quBjEHktx2G0I8kV+PJftiLKX+MiVP747GDLe8z97zscUrDakmmQsglKg4hIShz0rh+V47DDc4Idbz3hofsafRUm5US6Ue77JDW6pYqn5QHauVZE/kom3P/SvEYPO+X9WNuRxE4RLbdvyNsHNOAVhX0BWCsQXZB0y3n+tuXH4fxoMix5m3qYUbqOVLFpumu1RB/v0G9NvQr8D+h3S74h+x/Q7od8pZFgQkvsQ3YfsPoT3Ib0P8X3I7wPYBzEGMWbdIMYgxiDGIMYgxiDGIMYgJiAmICY8HBATEBMQExATEBMQExAHIA5AHIA44BmAOABxAOIAxAGIAxCHIA5BHII4BHHIkwZxCOIQxCGIQxBHII5AHIE4AnEE4ojtBOIIxBGIIxDHII5BHIM4BnEM4hjEMZsWxDGIYxAnIE5AnIA4AXEC4gTECYgT9gaIExCnIE5BnII4BXEK4hTEKYhTEKfsQO9BduEe+3CPnbjHXtxjN+6xH/fYkXvsyT125R6z5P4vP2JcZbiLqzh8QmzxcVG5zOqalyTeWyqu6MuXHz/+D9ipuWsyHAAA",
        "encoding": "base64",
        "path": [
         "_grid_data_up"
        ]
       }
      ],
      "model_module": "ipyaggrid",
      "model_module_version": "~0.2.1",
      "model_name": "AgGridModel",
      "state": {
       "_grid_data_down": [
        {
         "description": "one minute time step in seconds",
         "names": "InnerDeltaTime",
         "units": null
        },
        {
         "description": "Number of Pipe Heat Transfer objects",
         "names": "nsvNumOfPipeHT",
         "units": null
        },
        {
         "description": "module variable for inlet node number",
         "names": "nsvInletNodeNum",
         "units": null
        },
        {
         "description": "module variable for outlet node number",
         "names": "nsvOutletNodeNum",
         "units": null
        },
        {
         "description": "object index",
         "names": "nsvPipeHTNum",
         "units": null
        },
        {
         "description": "pipe mass flow rate",
         "names": "nsvMassFlowRate",
         "units": null
        },
        {
         "description": "pipe volumetric flow rate",
         "names": "nsvVolumeFlowRate",
         "units": null
        },
        {
         "description": "time change from last update",
         "names": "nsvDeltaTime",
         "units": null
        },
        {
         "description": "pipe inlet temperature",
         "names": "nsvInletTemp",
         "units": null
        },
        {
         "description": "pipe outlet temperature",
         "names": "nsvOutletTemp",
         "units": null
        },
        {
         "description": "environmental temperature (surrounding pipe)",
         "names": "nsvEnvironmentTemp",
         "units": null
        },
        {
         "description": "heat loss rate from pipe to the environment",
         "names": "nsvEnvHeatLossRate",
         "units": null
        },
        {
         "description": "overall heat loss from fluid to pipe",
         "names": "nsvFluidHeatLossRate",
         "units": null
        },
        {
         "description": "the number of \"inner\" time steps for our model",
         "names": "nsvNumInnerTimeSteps",
         "units": null
        },
        {
         "description": "First time, input is \"gotten\"",
         "names": "GetPipeInputFlag",
         "units": null
        },
        {
         "description": "construction object name",
         "names": "Construction",
         "units": null
        },
        {
         "description": "keyword:  'Schedule', 'OutdoorAir', 'Zone'",
         "names": "Environment",
         "units": null
        },
        {
         "description": "temperature schedule for environmental temp",
         "names": "EnvrSchedule",
         "units": null
        },
        {
         "description": "temperature schedule for environmental temp",
         "names": "EnvrVelSchedule",
         "units": null
        },
        {
         "description": "zone providing environmental temp",
         "names": "EnvrZone",
         "units": null
        },
        {
         "description": "outside air node providing environmental temp",
         "names": "EnvrAirNode",
         "units": null
        },
        {
         "description": "total pipe length [m]",
         "names": "Length",
         "units": "m"
        },
        {
         "description": "pipe inside diameter [m]",
         "names": "PipeID",
         "units": "m"
        },
        {
         "description": "inlet node name",
         "names": "InletNode",
         "units": null
        },
        {
         "description": "outlet node name",
         "names": "OutletNode",
         "units": null
        },
        {
         "description": "inlet node number",
         "names": "InletNodeNum",
         "units": null
        },
        {
         "description": "outlet node number",
         "names": "OutletNodeNum",
         "units": null
        },
        {
         "description": "Type of pipe",
         "names": "TypeOf",
         "units": null
        },
        {
         "description": "construction ref number",
         "names": "ConstructionNum",
         "units": null
        },
        {
         "description": "pointer to schedule used to set environmental temp",
         "names": "EnvrSchedPtr",
         "units": null
        },
        {
         "description": "pointer to schedule used to set environmental temp",
         "names": "EnvrVelSchedPtr",
         "units": null
        },
        {
         "description": "pointer to zone number used to set environmental temp",
         "names": "EnvrZonePtr",
         "units": null
        },
        {
         "description": "pointer to outside air node used to set environmental temp",
         "names": "EnvrAirNodeNum",
         "units": null
        },
        {
         "description": "total number of nodes along pipe length",
         "names": "NumSections",
         "units": null
        },
        {
         "description": "fluid Cp [J/kg.K]",
         "names": "FluidSpecHeat",
         "units": "J/kg.K"
        },
        {
         "description": "density [kg/m3]",
         "names": "FluidDensity",
         "units": "kg/m3"
        },
        {
         "description": "max flow rate (from loop/node data)",
         "names": "MaxFlowRate",
         "units": null
        },
        {
         "description": "volume of each pipe section (node) [m^3]",
         "names": "FluidSectionVol",
         "units": "m^3"
        },
        {
         "description": "pipe section inside surface area [m^2]",
         "names": "InsideArea",
         "units": "m^2"
        },
        {
         "description": "pipe section outside surface area [m^2]",
         "names": "OutsideArea",
         "units": "m^2"
        },
        {
         "description": "cross sectional area [m^2]",
         "names": "SectionArea",
         "units": "m^2"
        },
        {
         "description": "heat capacity of pipe section [J/m.K]",
         "names": "PipeHeatCapacity",
         "units": "J/m.K"
        },
        {
         "description": "pipe outside diameter [m]",
         "names": "PipeOD",
         "units": "m"
        },
        {
         "description": "pipe materail Cp [J/kg.K]",
         "names": "PipeCp",
         "units": "J/kg.K"
        },
        {
         "description": "pipe material density [kg/m3]",
         "names": "PipeDensity",
         "units": "kg/m3"
        },
        {
         "description": "pipe material thermal conductivity [W/m.K]",
         "names": "PipeConductivity",
         "units": "W/m.K"
        },
        {
         "description": "insulation outside diameter [m]",
         "names": "InsulationOD",
         "units": "m"
        },
        {
         "description": "insulation  specific heat [J/kg.K]",
         "names": "InsulationCp",
         "units": "J/kg.K"
        },
        {
         "description": "insulation density [kg/m3]",
         "names": "InsulationDensity",
         "units": "kg/m3"
        },
        {
         "description": "insulation conductivity [W/m.K]",
         "names": "InsulationConductivity",
         "units": "W/m.K"
        },
        {
         "description": "insulation thickness [m]",
         "names": "InsulationThickness",
         "units": "m"
        },
        {
         "description": "Insulation thermal resistance [m2.K/W]",
         "names": "InsulationResistance",
         "units": "m2.K/W"
        },
        {
         "description": "Current simulation time [hr]",
         "names": "CurrentSimTime",
         "units": "hr"
        },
        {
         "description": "simulation time the report data was last updated",
         "names": "PreviousSimTime",
         "units": null
        },
        {
         "description": "arrays for fluid and pipe temperatures at each node",
         "names": "FluidTemp",
         "units": null
        },
        {
         "description": "number of soil grid points in the depth direction",
         "names": "NumDepthNodes",
         "units": null
        },
        {
         "description": "soil depth grid point where pipe is located",
         "names": "PipeNodeDepth",
         "units": null
        },
        {
         "description": "soil width grid point where pipe is located",
         "names": "PipeNodeWidth",
         "units": null
        },
        {
         "description": "pipe burial depth [m]",
         "names": "PipeDepth",
         "units": "m"
        },
        {
         "description": "soil grid depth [m]",
         "names": "DomainDepth",
         "units": "m"
        },
        {
         "description": "grid spacing in cartesian domain [m]",
         "names": "dSregular",
         "units": "m"
        },
        {
         "description": "soil to air convection coefficient [W/m2.K]",
         "names": "OutdoorConvCoef",
         "units": "W/m2.K"
        },
        {
         "description": "name of soil material:regular object",
         "names": "SoilMaterial",
         "units": null
        },
        {
         "description": "soil material index in material data structure",
         "names": "SoilMaterialNum",
         "units": null
        },
        {
         "description": "month of minimum ground surface temperature",
         "names": "MonthOfMinSurfTemp",
         "units": null
        },
        {
         "description": "minimum annual surface temperature [C]",
         "names": "MinSurfTemp",
         "units": "C"
        },
        {
         "description": "density of soil [kg/m3]",
         "names": "SoilDensity",
         "units": "kg/m3"
        },
        {
         "description": "thickness of soil [m]",
         "names": "SoilDepth",
         "units": "m"
        },
        {
         "description": "specific heat of soil [J/kg.K]",
         "names": "SoilCp",
         "units": "J/kg.K"
        },
        {
         "description": "thermal conductivity of soil [W/m.K]",
         "names": "SoilConductivity",
         "units": "W/m.K"
        },
        {
         "description": "ground surface roughness",
         "names": "SoilRoughness",
         "units": null
        },
        {
         "description": "ground surface thermal absorptivity",
         "names": "SoilThermAbs",
         "units": null
        },
        {
         "description": "ground surface solar absorptivity",
         "names": "SoilSolarAbs",
         "units": null
        },
        {
         "description": "soil surface finite difference coefficient",
         "names": "CoefS1",
         "units": null
        },
        {
         "description": "soil surface finite difference coefficient",
         "names": "CoefS2",
         "units": null
        },
        {
         "description": "soil finite difference coefficient",
         "names": "CoefA1",
         "units": null
        },
        {
         "description": "soil finite difference coefficient",
         "names": "CoefA2",
         "units": null
        },
        {
         "description": "soil Fourier number based on grid spacing",
         "names": "FourierDS",
         "units": null
        },
        {
         "description": "soil thermal diffusivity [m2/s]",
         "names": "SoilDiffusivity",
         "units": "m2/s"
        },
        {
         "description": "soil thermal diffusivity [m2/day]",
         "names": "SoilDiffusivityPerDay",
         "units": "m2/day"
        },
        {
         "description": "soil temperature array",
         "names": "T",
         "units": null
        },
        {
         "description": "begin sim and begin environment flag",
         "names": "BeginSimInit",
         "units": null
        },
        {
         "description": "begin sim and begin environment flag",
         "names": "BeginSimEnvrn",
         "units": null
        },
        {
         "description": "Flag to determine if solar is included at ground surface",
         "names": "SolarExposed",
         "units": null
        },
        {
         "description": "Sum of thickness/conductivity over all material layers",
         "names": "SumTK",
         "units": null
        },
        {
         "description": "Lagged energy summation for zone heat gain {W}",
         "names": "ZoneHeatGainRate",
         "units": null
        },
        {
         "description": "PlantLoop index where this pipe lies",
         "names": "LoopNum",
         "units": null
        },
        {
         "description": "PlantLoop%LoopSide index where this pipe lies",
         "names": "LoopSideNum",
         "units": null
        },
        {
         "description": "..LoopSide%Branch index where this pipe lies",
         "names": "BranchNum",
         "units": null
        },
        {
         "description": "..Branch%Comp index where this pipe lies",
         "names": "CompNum",
         "units": null
        },
        {
         "description": "inlet temperature [C]",
         "names": "FluidInletTemp",
         "units": "C"
        },
        {
         "description": "outlet temperature [C]",
         "names": "FluidOutletTemp",
         "units": "C"
        },
        {
         "description": "mass flow rate [kg/s]",
         "names": "MassFlowRate",
         "units": "kg/s"
        },
        {
         "description": "overall heat transfer rate from fluid to pipe [W]",
         "names": "FluidHeatLossRate",
         "units": "W"
        },
        {
         "description": "energy transferred from fluid to pipe [J]",
         "names": "FluidHeatLossEnergy",
         "units": "J"
        },
        {
         "description": "pipe temperature at inlet [C]",
         "names": "PipeInletTemp",
         "units": "C"
        },
        {
         "description": "pipe temperature at Oulet [C]",
         "names": "PipeOutletTemp",
         "units": "C"
        },
        {
         "description": "overall heat transfer rate from pipe to environment [W]",
         "names": "EnvironmentHeatLossRate",
         "units": "W"
        },
        {
         "description": "energy transferred from pipe to environment [J]",
         "names": "EnvHeatLossEnergy",
         "units": "J"
        },
        {
         "description": "component number",
         "names": "error",
         "units": null
        },
        {
         "description": "Current Depth",
         "names": "error",
         "units": null
        },
        {
         "description": "Current Simulation Day",
         "names": "error",
         "units": null
        },
        {
         "description": "Temperature of water entering the surface, in C",
         "names": "error",
         "units": null
        },
        {
         "description": "Mass flow rate, in kg/s",
         "names": "error",
         "units": null
        },
        {
         "description": "Pipe diameter, m",
         "names": "error",
         "units": null
        },
        {
         "description": "Index for the surface under consideration",
         "names": "ReportPipesHeatTransfer()",
         "units": null
        },
        {
         "description": "module object of pipe (error messages)",
         "names": "error",
         "units": null
        },
        {
         "description": "construction name of pipe (error messages)",
         "names": "error",
         "units": null
        },
        {
         "description": "fieldname of pipe (error messages)",
         "names": "error",
         "units": null
        },
        {
         "description": "pointer into construction data",
         "names": "error",
         "units": null
        },
        {
         "description": "set to true if errors found here",
         "names": "error",
         "units": null
        }
       ],
       "_grid_data_up": {},
       "_grid_options_mono_down": "{\"enableSorting\": true, \"enableFilter\": true, \"enableColResize\": true, \"enableRangeSelection\": true, \"columnDefs\": [{\"field\": \"names\", \"type\": \"textColumn\", \"headerName\": \"Names\"}, {\"field\": \"description\", \"type\": \"textColumn\", \"headerName\": \"Description\"}, {\"field\": \"units\", \"type\": \"textColumn\", \"headerName\": \"Units\"}], \"columnTypes\": {\"numberColumn\": {\"filter\": \"agNumberColumnFilter\"}, \"textColumn\": {\"filter\": \"agTextColumnFilter\"}, \"dateColumn\": {\"valueFormatter\": \"helpers.dateFormatter\", \"filter\": \"agDateColumnFilter\", \"filterParams\": {\"comparator\": \"helpers.compareDates\"}}}}",
       "_id": 213825113,
       "_js_helpers_builtin": "helpersBuiltin = {\n    dateFormatter: function(node) {\n        // make sure date is not undefined\n        if (node && node.value) {\n            let d = new Date(node.value);\n            let h = d.getHours();\n            let m = d.getMinutes();\n            let s = d.getSeconds();\n            const offset = d.getTimezoneOffset() * 60000;\n            d = new Date(d.getTime() - offset);\n            const ymd = d.toISOString().substring(0, 10);\n            if (h === 0 && m === 0 && s === 0) {\n                return ymd;\n            }\n            if (h === 0) h = '00';\n            if (m === 0) m = '00';\n            if (s === 0) s = '00';\n            return `${ymd} ${h}:${m}:${s}`;\n        }\n        return null;\n    },\n\n    formatInt: d3.format(',.0f'),\n    formatFloat: d3.format(',.2f'),\n\n    intFormatter: function(node) {\n        return formatInt(node.value);\n    },\n\n    floatFormatter: function(node) {\n        return formatFloat(node.value);\n    },\n\n    compareDates: function(filterLocalDate, cellValue) {\n        // Assume dates are stored as iso\n        const cellDate = new Date(cellValue);\n\n        if (cellDate < filterLocalDate) {\n            return -1;\n        } else if (cellDate > filterLocalDate) {\n            return 1;\n        }\n        return 0;\n    },\n\n    sizeToFit: function(gridOptions) {\n        gridOptions.api.sizeColumnsToFit();\n    },\n\n    autoSizeAll: function(gridOptions) {\n        const allColumnIds = [];\n        gridOptions.columnApi.getAllColumns().forEach(column => {\n            allColumnIds.push(column.colId);\n        });\n        gridOptions.columnApi.autoSizeColumns(allColumnIds);\n    },\n\n    /**\n     * Exporting data to CSV using ag-Grid api.\n     * @param {Object} gridOptions\n     */\n    exportToCsv: function(gridOptions) {\n        const params = {\n            skipHeader: false,\n            columnGroups: true,\n            skipFooters: false,\n            skipGroups: false,\n            skipPinnedTop: false,\n            skipPinnedBottom: false,\n            allColumns: true,\n            onlySelected: false,\n            suppressQuotes: true,\n            fileName: 'my_file.csv',\n            sheetName: 'my_sheet',\n            shouldRowBeSkipped: () => false,\n            processCellCallback: param => param.value,\n            processHeaderCallback: null,\n        };\n        gridOptions.api.exportDataAsCsv(params);\n    },\n\n    /**\n     * Exporting data to Excel using ag-Grid api.\n     * @param {Object} gridOptions\n     */\n    exportToExcel: function(gridOptions) {\n        const params = {\n            skipHeader: false,\n            columnGroups: true,\n            skipFooters: false,\n            skipGroups: false,\n            skipPinnedTop: false,\n            skipPinnedBottom: false,\n            allColumns: true,\n            onlySelected: false,\n            suppressQuotes: true,\n            fileName: 'my_file.xls',\n            sheetName: 'my_sheet',\n            shouldRowBeSkipped: () => false, // TODO : check\n            processCellCallback: param => param.value,\n            processHeaderCallback: null,\n        };\n        gridOptions.api.exportDataAsExcel(params);\n    },\n};\n",
       "columns_fit": "size_to_fit",
       "compress_data": true,
       "export_mode": "disabled",
       "height": "350px",
       "js_helpers": "{\"dateFormatter\":\"function(node) {\\n        // make sure date is not undefined\\n        if (node && node.value) {\\n            let d = new Date(node.value);\\n            let h = d.getHours();\\n            let m = d.getMinutes();\\n            let s = d.getSeconds();\\n            const offset = d.getTimezoneOffset() * 60000;\\n            d = new Date(d.getTime() - offset);\\n            const ymd = d.toISOString().substring(0, 10);\\n            if (h === 0 && m === 0 && s === 0) {\\n                return ymd;\\n            }\\n            if (h === 0) h = '00';\\n            if (m === 0) m = '00';\\n            if (s === 0) s = '00';\\n            return `${ymd} ${h}:${m}:${s}`;\\n        }\\n        return null;\\n    }\",\"formatInt\":\" >-,.0f\",\"formatFloat\":\" >-,.2f\",\"intFormatter\":\"function(node) {\\n        return formatInt(node.value);\\n    }\",\"floatFormatter\":\"function(node) {\\n        return formatFloat(node.value);\\n    }\",\"compareDates\":\"function(filterLocalDate, cellValue) {\\n        // Assume dates are stored as iso\\n        const cellDate = new Date(cellValue);\\n\\n        if (cellDate < filterLocalDate) {\\n            return -1;\\n        } else if (cellDate > filterLocalDate) {\\n            return 1;\\n        }\\n        return 0;\\n    }\",\"sizeToFit\":\"function(gridOptions) {\\n        gridOptions.api.sizeColumnsToFit();\\n    }\",\"autoSizeAll\":\"function(gridOptions) {\\n        const allColumnIds = [];\\n        gridOptions.columnApi.getAllColumns().forEach(column => {\\n            allColumnIds.push(column.colId);\\n        });\\n        gridOptions.columnApi.autoSizeColumns(allColumnIds);\\n    }\",\"exportToCsv\":\"function(gridOptions) {\\n        const params = {\\n            skipHeader: false,\\n            columnGroups: true,\\n            skipFooters: false,\\n            skipGroups: false,\\n            skipPinnedTop: false,\\n            skipPinnedBottom: false,\\n            allColumns: true,\\n            onlySelected: false,\\n            suppressQuotes: true,\\n            fileName: 'my_file.csv',\\n            sheetName: 'my_sheet',\\n            shouldRowBeSkipped: () => false,\\n            processCellCallback: param => param.value,\\n            processHeaderCallback: null,\\n        };\\n        gridOptions.api.exportDataAsCsv(params);\\n    }\",\"exportToExcel\":\"function(gridOptions) {\\n        const params = {\\n            skipHeader: false,\\n            columnGroups: true,\\n            skipFooters: false,\\n            skipGroups: false,\\n            skipPinnedTop: false,\\n            skipPinnedBottom: false,\\n            allColumns: true,\\n            onlySelected: false,\\n            suppressQuotes: true,\\n            fileName: 'my_file.xls',\\n            sheetName: 'my_sheet',\\n            shouldRowBeSkipped: () => false, // TODO : check\\n            processCellCallback: param => param.value,\\n            processHeaderCallback: null,\\n        };\\n        gridOptions.api.exportDataAsExcel(params);\\n    }\"}",
       "layout": "IPY_MODEL_e6c93f2db34943268725ec1e2d24e9f9",
       "menu": {
        "button_div_css": ".flex-button-div-213825113 {\ndisplay: flex;\njustify-content: flex-start;\nalign-items: flex-start;\nalign-content: flex-start;\nflex-flow: row wrap;\n}\n",
        "buttons": [],
        "input_div_css": ".flex-input-div-213825113 {\ndisplay: flex;\njustify-content: flex-start;\nalign-items: baseline;\nalign-content: flex-start;\nflex-flow: row wrap;\n}\n",
        "inputs": [
         {
          "css": ".flex-child-quick-filter-213825113 {\norder: 0;\nalign-self: auto;\nmargin: 5px;\nflex: 0.00 1.00 auto;\nwidth: 150px;\n}\n",
          "name": "Quick Filter"
         }
        ],
        "menu_div_css": ".flex-menu-div-213825113 {\ndisplay: flex;\njustify-content: flex-start;\nalign-items: flex-start;\nalign-content: flex-start;\nflex-flow: row wrap;\n}\n"
       },
       "theme": "ag-theme-balham",
       "width": "100%"
      }
     },
     "9f2c2411c96a4d23bdc535cfde20e4c6": {
      "model_module": "@jupyter-widgets/base",
      "model_module_version": "1.2.0",
      "model_name": "LayoutModel",
      "state": {}
     },
     "9fed578e9b954760b7f9cc09d6e1ea78": {
      "model_module": "@jupyter-widgets/base",
      "model_module_version": "1.2.0",
      "model_name": "LayoutModel",
      "state": {
       "flex_flow": "column",
       "height": "auto",
       "width": "auto"
      }
     },
     "a2b5ee3aab9e411fb7312e98d30787f3": {
      "model_module": "@jupyter-widgets/controls",
      "model_module_version": "1.5.0",
      "model_name": "SelectMultipleModel",
      "state": {
       "_options_labels": [
        "eg_csv.csv",
        "eg_docx.docx",
        "eg_gbxml.xml",
        "eg_jpg.jpg",
        "eg_json.json",
        "eg_md.md",
        "eg_pdf.pdf",
        "eg_plotly.plotly",
        "eg_plotly.plotly.json",
        "eg_png.png",
        "eg_py.py",
        "eg_xlsx.xlsx",
        "eg_YAML.YAML",
        "eg_plotly-checkpoint.plotly",
        "eg_plotly.plotly-checkpoint.json"
       ],
       "index": [],
       "layout": "IPY_MODEL_5ddc8a689df447f19d827d7e46343239",
       "rows": 5,
       "style": "IPY_MODEL_058437f726e14049b9e33d6e252ed8da"
      }
     },
     "a56d372d74044b7ebd859ca4bf0440f9": {
      "buffers": [
       {
        "data": "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",
        "encoding": "base64",
        "path": [
         "_grid_data_up"
        ]
       }
      ],
      "model_module": "ipyaggrid",
      "model_module_version": "~0.2.1",
      "model_name": "AgGridModel",
      "state": {
       "_grid_data_down": [
        {
         "description": "one minute time step in seconds",
         "names": "InnerDeltaTime",
         "units": null
        },
        {
         "description": "Number of Pipe Heat Transfer objects",
         "names": "nsvNumOfPipeHT",
         "units": null
        },
        {
         "description": "module variable for inlet node number",
         "names": "nsvInletNodeNum",
         "units": null
        },
        {
         "description": "module variable for outlet node number",
         "names": "nsvOutletNodeNum",
         "units": null
        },
        {
         "description": "object index",
         "names": "nsvPipeHTNum",
         "units": null
        },
        {
         "description": "pipe mass flow rate",
         "names": "nsvMassFlowRate",
         "units": null
        },
        {
         "description": "pipe volumetric flow rate",
         "names": "nsvVolumeFlowRate",
         "units": null
        },
        {
         "description": "time change from last update",
         "names": "nsvDeltaTime",
         "units": null
        },
        {
         "description": "pipe inlet temperature",
         "names": "nsvInletTemp",
         "units": null
        },
        {
         "description": "pipe outlet temperature",
         "names": "nsvOutletTemp",
         "units": null
        },
        {
         "description": "environmental temperature (surrounding pipe)",
         "names": "nsvEnvironmentTemp",
         "units": null
        },
        {
         "description": "heat loss rate from pipe to the environment",
         "names": "nsvEnvHeatLossRate",
         "units": null
        },
        {
         "description": "overall heat loss from fluid to pipe",
         "names": "nsvFluidHeatLossRate",
         "units": null
        },
        {
         "description": "the number of \"inner\" time steps for our model",
         "names": "nsvNumInnerTimeSteps",
         "units": null
        },
        {
         "description": "First time, input is \"gotten\"",
         "names": "GetPipeInputFlag",
         "units": null
        },
        {
         "description": "construction object name",
         "names": "Construction",
         "units": null
        },
        {
         "description": "keyword:  'Schedule', 'OutdoorAir', 'Zone'",
         "names": "Environment",
         "units": null
        },
        {
         "description": "temperature schedule for environmental temp",
         "names": "EnvrSchedule",
         "units": null
        },
        {
         "description": "temperature schedule for environmental temp",
         "names": "EnvrVelSchedule",
         "units": null
        },
        {
         "description": "zone providing environmental temp",
         "names": "EnvrZone",
         "units": null
        },
        {
         "description": "outside air node providing environmental temp",
         "names": "EnvrAirNode",
         "units": null
        },
        {
         "description": "total pipe length [m]",
         "names": "Length",
         "units": "m"
        },
        {
         "description": "pipe inside diameter [m]",
         "names": "PipeID",
         "units": "m"
        },
        {
         "description": "inlet node name",
         "names": "InletNode",
         "units": null
        },
        {
         "description": "outlet node name",
         "names": "OutletNode",
         "units": null
        },
        {
         "description": "inlet node number",
         "names": "InletNodeNum",
         "units": null
        },
        {
         "description": "outlet node number",
         "names": "OutletNodeNum",
         "units": null
        },
        {
         "description": "Type of pipe",
         "names": "TypeOf",
         "units": null
        },
        {
         "description": "construction ref number",
         "names": "ConstructionNum",
         "units": null
        },
        {
         "description": "pointer to schedule used to set environmental temp",
         "names": "EnvrSchedPtr",
         "units": null
        },
        {
         "description": "pointer to schedule used to set environmental temp",
         "names": "EnvrVelSchedPtr",
         "units": null
        },
        {
         "description": "pointer to zone number used to set environmental temp",
         "names": "EnvrZonePtr",
         "units": null
        },
        {
         "description": "pointer to outside air node used to set environmental temp",
         "names": "EnvrAirNodeNum",
         "units": null
        },
        {
         "description": "total number of nodes along pipe length",
         "names": "NumSections",
         "units": null
        },
        {
         "description": "fluid Cp [J/kg.K]",
         "names": "FluidSpecHeat",
         "units": "J/kg.K"
        },
        {
         "description": "density [kg/m3]",
         "names": "FluidDensity",
         "units": "kg/m3"
        },
        {
         "description": "max flow rate (from loop/node data)",
         "names": "MaxFlowRate",
         "units": null
        },
        {
         "description": "volume of each pipe section (node) [m^3]",
         "names": "FluidSectionVol",
         "units": "m^3"
        },
        {
         "description": "pipe section inside surface area [m^2]",
         "names": "InsideArea",
         "units": "m^2"
        },
        {
         "description": "pipe section outside surface area [m^2]",
         "names": "OutsideArea",
         "units": "m^2"
        },
        {
         "description": "cross sectional area [m^2]",
         "names": "SectionArea",
         "units": "m^2"
        },
        {
         "description": "heat capacity of pipe section [J/m.K]",
         "names": "PipeHeatCapacity",
         "units": "J/m.K"
        },
        {
         "description": "pipe outside diameter [m]",
         "names": "PipeOD",
         "units": "m"
        },
        {
         "description": "pipe materail Cp [J/kg.K]",
         "names": "PipeCp",
         "units": "J/kg.K"
        },
        {
         "description": "pipe material density [kg/m3]",
         "names": "PipeDensity",
         "units": "kg/m3"
        },
        {
         "description": "pipe material thermal conductivity [W/m.K]",
         "names": "PipeConductivity",
         "units": "W/m.K"
        },
        {
         "description": "insulation outside diameter [m]",
         "names": "InsulationOD",
         "units": "m"
        },
        {
         "description": "insulation  specific heat [J/kg.K]",
         "names": "InsulationCp",
         "units": "J/kg.K"
        },
        {
         "description": "insulation density [kg/m3]",
         "names": "InsulationDensity",
         "units": "kg/m3"
        },
        {
         "description": "insulation conductivity [W/m.K]",
         "names": "InsulationConductivity",
         "units": "W/m.K"
        },
        {
         "description": "insulation thickness [m]",
         "names": "InsulationThickness",
         "units": "m"
        },
        {
         "description": "Insulation thermal resistance [m2.K/W]",
         "names": "InsulationResistance",
         "units": "m2.K/W"
        },
        {
         "description": "Current simulation time [hr]",
         "names": "CurrentSimTime",
         "units": "hr"
        },
        {
         "description": "simulation time the report data was last updated",
         "names": "PreviousSimTime",
         "units": null
        },
        {
         "description": "arrays for fluid and pipe temperatures at each node",
         "names": "FluidTemp",
         "units": null
        },
        {
         "description": "number of soil grid points in the depth direction",
         "names": "NumDepthNodes",
         "units": null
        },
        {
         "description": "soil depth grid point where pipe is located",
         "names": "PipeNodeDepth",
         "units": null
        },
        {
         "description": "soil width grid point where pipe is located",
         "names": "PipeNodeWidth",
         "units": null
        },
        {
         "description": "pipe burial depth [m]",
         "names": "PipeDepth",
         "units": "m"
        },
        {
         "description": "soil grid depth [m]",
         "names": "DomainDepth",
         "units": "m"
        },
        {
         "description": "grid spacing in cartesian domain [m]",
         "names": "dSregular",
         "units": "m"
        },
        {
         "description": "soil to air convection coefficient [W/m2.K]",
         "names": "OutdoorConvCoef",
         "units": "W/m2.K"
        },
        {
         "description": "name of soil material:regular object",
         "names": "SoilMaterial",
         "units": null
        },
        {
         "description": "soil material index in material data structure",
         "names": "SoilMaterialNum",
         "units": null
        },
        {
         "description": "month of minimum ground surface temperature",
         "names": "MonthOfMinSurfTemp",
         "units": null
        },
        {
         "description": "minimum annual surface temperature [C]",
         "names": "MinSurfTemp",
         "units": "C"
        },
        {
         "description": "density of soil [kg/m3]",
         "names": "SoilDensity",
         "units": "kg/m3"
        },
        {
         "description": "thickness of soil [m]",
         "names": "SoilDepth",
         "units": "m"
        },
        {
         "description": "specific heat of soil [J/kg.K]",
         "names": "SoilCp",
         "units": "J/kg.K"
        },
        {
         "description": "thermal conductivity of soil [W/m.K]",
         "names": "SoilConductivity",
         "units": "W/m.K"
        },
        {
         "description": "ground surface roughness",
         "names": "SoilRoughness",
         "units": null
        },
        {
         "description": "ground surface thermal absorptivity",
         "names": "SoilThermAbs",
         "units": null
        },
        {
         "description": "ground surface solar absorptivity",
         "names": "SoilSolarAbs",
         "units": null
        },
        {
         "description": "soil surface finite difference coefficient",
         "names": "CoefS1",
         "units": null
        },
        {
         "description": "soil surface finite difference coefficient",
         "names": "CoefS2",
         "units": null
        },
        {
         "description": "soil finite difference coefficient",
         "names": "CoefA1",
         "units": null
        },
        {
         "description": "soil finite difference coefficient",
         "names": "CoefA2",
         "units": null
        },
        {
         "description": "soil Fourier number based on grid spacing",
         "names": "FourierDS",
         "units": null
        },
        {
         "description": "soil thermal diffusivity [m2/s]",
         "names": "SoilDiffusivity",
         "units": "m2/s"
        },
        {
         "description": "soil thermal diffusivity [m2/day]",
         "names": "SoilDiffusivityPerDay",
         "units": "m2/day"
        },
        {
         "description": "soil temperature array",
         "names": "T",
         "units": null
        },
        {
         "description": "begin sim and begin environment flag",
         "names": "BeginSimInit",
         "units": null
        },
        {
         "description": "begin sim and begin environment flag",
         "names": "BeginSimEnvrn",
         "units": null
        },
        {
         "description": "Flag to determine if solar is included at ground surface",
         "names": "SolarExposed",
         "units": null
        },
        {
         "description": "Sum of thickness/conductivity over all material layers",
         "names": "SumTK",
         "units": null
        },
        {
         "description": "Lagged energy summation for zone heat gain {W}",
         "names": "ZoneHeatGainRate",
         "units": null
        },
        {
         "description": "PlantLoop index where this pipe lies",
         "names": "LoopNum",
         "units": null
        },
        {
         "description": "PlantLoop%LoopSide index where this pipe lies",
         "names": "LoopSideNum",
         "units": null
        },
        {
         "description": "..LoopSide%Branch index where this pipe lies",
         "names": "BranchNum",
         "units": null
        },
        {
         "description": "..Branch%Comp index where this pipe lies",
         "names": "CompNum",
         "units": null
        },
        {
         "description": "inlet temperature [C]",
         "names": "FluidInletTemp",
         "units": "C"
        },
        {
         "description": "outlet temperature [C]",
         "names": "FluidOutletTemp",
         "units": "C"
        },
        {
         "description": "mass flow rate [kg/s]",
         "names": "MassFlowRate",
         "units": "kg/s"
        },
        {
         "description": "overall heat transfer rate from fluid to pipe [W]",
         "names": "FluidHeatLossRate",
         "units": "W"
        },
        {
         "description": "energy transferred from fluid to pipe [J]",
         "names": "FluidHeatLossEnergy",
         "units": "J"
        },
        {
         "description": "pipe temperature at inlet [C]",
         "names": "PipeInletTemp",
         "units": "C"
        },
        {
         "description": "pipe temperature at Oulet [C]",
         "names": "PipeOutletTemp",
         "units": "C"
        },
        {
         "description": "overall heat transfer rate from pipe to environment [W]",
         "names": "EnvironmentHeatLossRate",
         "units": "W"
        },
        {
         "description": "energy transferred from pipe to environment [J]",
         "names": "EnvHeatLossEnergy",
         "units": "J"
        },
        {
         "description": "component number",
         "names": "error",
         "units": null
        },
        {
         "description": "Current Depth",
         "names": "error",
         "units": null
        },
        {
         "description": "Current Simulation Day",
         "names": "error",
         "units": null
        },
        {
         "description": "Temperature of water entering the surface, in C",
         "names": "error",
         "units": null
        },
        {
         "description": "Mass flow rate, in kg/s",
         "names": "error",
         "units": null
        },
        {
         "description": "Pipe diameter, m",
         "names": "error",
         "units": null
        },
        {
         "description": "Index for the surface under consideration",
         "names": "ReportPipesHeatTransfer()",
         "units": null
        },
        {
         "description": "module object of pipe (error messages)",
         "names": "error",
         "units": null
        },
        {
         "description": "construction name of pipe (error messages)",
         "names": "error",
         "units": null
        },
        {
         "description": "fieldname of pipe (error messages)",
         "names": "error",
         "units": null
        },
        {
         "description": "pointer into construction data",
         "names": "error",
         "units": null
        },
        {
         "description": "set to true if errors found here",
         "names": "error",
         "units": null
        }
       ],
       "_grid_data_up": {},
       "_grid_options_mono_down": "{\"enableSorting\": true, \"enableFilter\": true, \"enableColResize\": true, \"enableRangeSelection\": true, \"columnDefs\": [{\"field\": \"names\", \"type\": \"textColumn\", \"headerName\": \"Names\"}, {\"field\": \"description\", \"type\": \"textColumn\", \"headerName\": \"Description\"}, {\"field\": \"units\", \"type\": \"textColumn\", \"headerName\": \"Units\"}], \"columnTypes\": {\"numberColumn\": {\"filter\": \"agNumberColumnFilter\"}, \"textColumn\": {\"filter\": \"agTextColumnFilter\"}, \"dateColumn\": {\"valueFormatter\": \"helpers.dateFormatter\", \"filter\": \"agDateColumnFilter\", \"filterParams\": {\"comparator\": \"helpers.compareDates\"}}}}",
       "_id": 215147700,
       "_js_helpers_builtin": "helpersBuiltin = {\n    dateFormatter: function(node) {\n        // make sure date is not undefined\n        if (node && node.value) {\n            let d = new Date(node.value);\n            let h = d.getHours();\n            let m = d.getMinutes();\n            let s = d.getSeconds();\n            const offset = d.getTimezoneOffset() * 60000;\n            d = new Date(d.getTime() - offset);\n            const ymd = d.toISOString().substring(0, 10);\n            if (h === 0 && m === 0 && s === 0) {\n                return ymd;\n            }\n            if (h === 0) h = '00';\n            if (m === 0) m = '00';\n            if (s === 0) s = '00';\n            return `${ymd} ${h}:${m}:${s}`;\n        }\n        return null;\n    },\n\n    formatInt: d3.format(',.0f'),\n    formatFloat: d3.format(',.2f'),\n\n    intFormatter: function(node) {\n        return formatInt(node.value);\n    },\n\n    floatFormatter: function(node) {\n        return formatFloat(node.value);\n    },\n\n    compareDates: function(filterLocalDate, cellValue) {\n        // Assume dates are stored as iso\n        const cellDate = new Date(cellValue);\n\n        if (cellDate < filterLocalDate) {\n            return -1;\n        } else if (cellDate > filterLocalDate) {\n            return 1;\n        }\n        return 0;\n    },\n\n    sizeToFit: function(gridOptions) {\n        gridOptions.api.sizeColumnsToFit();\n    },\n\n    autoSizeAll: function(gridOptions) {\n        const allColumnIds = [];\n        gridOptions.columnApi.getAllColumns().forEach(column => {\n            allColumnIds.push(column.colId);\n        });\n        gridOptions.columnApi.autoSizeColumns(allColumnIds);\n    },\n\n    /**\n     * Exporting data to CSV using ag-Grid api.\n     * @param {Object} gridOptions\n     */\n    exportToCsv: function(gridOptions) {\n        const params = {\n            skipHeader: false,\n            columnGroups: true,\n            skipFooters: false,\n            skipGroups: false,\n            skipPinnedTop: false,\n            skipPinnedBottom: false,\n            allColumns: true,\n            onlySelected: false,\n            suppressQuotes: true,\n            fileName: 'my_file.csv',\n            sheetName: 'my_sheet',\n            shouldRowBeSkipped: () => false,\n            processCellCallback: param => param.value,\n            processHeaderCallback: null,\n        };\n        gridOptions.api.exportDataAsCsv(params);\n    },\n\n    /**\n     * Exporting data to Excel using ag-Grid api.\n     * @param {Object} gridOptions\n     */\n    exportToExcel: function(gridOptions) {\n        const params = {\n            skipHeader: false,\n            columnGroups: true,\n            skipFooters: false,\n            skipGroups: false,\n            skipPinnedTop: false,\n            skipPinnedBottom: false,\n            allColumns: true,\n            onlySelected: false,\n            suppressQuotes: true,\n            fileName: 'my_file.xls',\n            sheetName: 'my_sheet',\n            shouldRowBeSkipped: () => false, // TODO : check\n            processCellCallback: param => param.value,\n            processHeaderCallback: null,\n        };\n        gridOptions.api.exportDataAsExcel(params);\n    },\n};\n",
       "columns_fit": "size_to_fit",
       "compress_data": true,
       "export_mode": "disabled",
       "height": "350px",
       "js_helpers": "{\"dateFormatter\":\"function(node) {\\n        // make sure date is not undefined\\n        if (node && node.value) {\\n            let d = new Date(node.value);\\n            let h = d.getHours();\\n            let m = d.getMinutes();\\n            let s = d.getSeconds();\\n            const offset = d.getTimezoneOffset() * 60000;\\n            d = new Date(d.getTime() - offset);\\n            const ymd = d.toISOString().substring(0, 10);\\n            if (h === 0 && m === 0 && s === 0) {\\n                return ymd;\\n            }\\n            if (h === 0) h = '00';\\n            if (m === 0) m = '00';\\n            if (s === 0) s = '00';\\n            return `${ymd} ${h}:${m}:${s}`;\\n        }\\n        return null;\\n    }\",\"formatInt\":\" >-,.0f\",\"formatFloat\":\" >-,.2f\",\"intFormatter\":\"function(node) {\\n        return formatInt(node.value);\\n    }\",\"floatFormatter\":\"function(node) {\\n        return formatFloat(node.value);\\n    }\",\"compareDates\":\"function(filterLocalDate, cellValue) {\\n        // Assume dates are stored as iso\\n        const cellDate = new Date(cellValue);\\n\\n        if (cellDate < filterLocalDate) {\\n            return -1;\\n        } else if (cellDate > filterLocalDate) {\\n            return 1;\\n        }\\n        return 0;\\n    }\",\"sizeToFit\":\"function(gridOptions) {\\n        gridOptions.api.sizeColumnsToFit();\\n    }\",\"autoSizeAll\":\"function(gridOptions) {\\n        const allColumnIds = [];\\n        gridOptions.columnApi.getAllColumns().forEach(column => {\\n            allColumnIds.push(column.colId);\\n        });\\n        gridOptions.columnApi.autoSizeColumns(allColumnIds);\\n    }\",\"exportToCsv\":\"function(gridOptions) {\\n        const params = {\\n            skipHeader: false,\\n            columnGroups: true,\\n            skipFooters: false,\\n            skipGroups: false,\\n            skipPinnedTop: false,\\n            skipPinnedBottom: false,\\n            allColumns: true,\\n            onlySelected: false,\\n            suppressQuotes: true,\\n            fileName: 'my_file.csv',\\n            sheetName: 'my_sheet',\\n            shouldRowBeSkipped: () => false,\\n            processCellCallback: param => param.value,\\n            processHeaderCallback: null,\\n        };\\n        gridOptions.api.exportDataAsCsv(params);\\n    }\",\"exportToExcel\":\"function(gridOptions) {\\n        const params = {\\n            skipHeader: false,\\n            columnGroups: true,\\n            skipFooters: false,\\n            skipGroups: false,\\n            skipPinnedTop: false,\\n            skipPinnedBottom: false,\\n            allColumns: true,\\n            onlySelected: false,\\n            suppressQuotes: true,\\n            fileName: 'my_file.xls',\\n            sheetName: 'my_sheet',\\n            shouldRowBeSkipped: () => false, // TODO : check\\n            processCellCallback: param => param.value,\\n            processHeaderCallback: null,\\n        };\\n        gridOptions.api.exportDataAsExcel(params);\\n    }\"}",
       "layout": "IPY_MODEL_c44bf6f332b142d6bee4388c7f05d55c",
       "menu": {
        "button_div_css": ".flex-button-div-215147700 {\ndisplay: flex;\njustify-content: flex-start;\nalign-items: flex-start;\nalign-content: flex-start;\nflex-flow: row wrap;\n}\n",
        "buttons": [],
        "input_div_css": ".flex-input-div-215147700 {\ndisplay: flex;\njustify-content: flex-start;\nalign-items: baseline;\nalign-content: flex-start;\nflex-flow: row wrap;\n}\n",
        "inputs": [
         {
          "css": ".flex-child-quick-filter-215147700 {\norder: 0;\nalign-self: auto;\nmargin: 5px;\nflex: 0.00 1.00 auto;\nwidth: 150px;\n}\n",
          "name": "Quick Filter"
         }
        ],
        "menu_div_css": ".flex-menu-div-215147700 {\ndisplay: flex;\njustify-content: flex-start;\nalign-items: flex-start;\nalign-content: flex-start;\nflex-flow: row wrap;\n}\n"
       },
       "theme": "ag-theme-balham",
       "width": "100%"
      }
     },
     "aee10645c4b04936b2532d3b84f58bcb": {
      "model_module": "@jupyter-widgets/controls",
      "model_module_version": "1.5.0",
      "model_name": "DescriptionStyleModel",
      "state": {
       "description_width": ""
      }
     },
     "b0ab1c1b806c4968a43286838a778f52": {
      "buffers": [
       {
        "data": "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",
        "encoding": "base64",
        "path": [
         "_grid_data_up"
        ]
       }
      ],
      "model_module": "ipyaggrid",
      "model_module_version": "~0.2.1",
      "model_name": "AgGridModel",
      "state": {
       "_grid_data_down": [
        {
         "description": "one minute time step in seconds",
         "names": "InnerDeltaTime",
         "units": null
        },
        {
         "description": "Number of Pipe Heat Transfer objects",
         "names": "nsvNumOfPipeHT",
         "units": null
        },
        {
         "description": "module variable for inlet node number",
         "names": "nsvInletNodeNum",
         "units": null
        },
        {
         "description": "module variable for outlet node number",
         "names": "nsvOutletNodeNum",
         "units": null
        },
        {
         "description": "object index",
         "names": "nsvPipeHTNum",
         "units": null
        },
        {
         "description": "pipe mass flow rate",
         "names": "nsvMassFlowRate",
         "units": null
        },
        {
         "description": "pipe volumetric flow rate",
         "names": "nsvVolumeFlowRate",
         "units": null
        },
        {
         "description": "time change from last update",
         "names": "nsvDeltaTime",
         "units": null
        },
        {
         "description": "pipe inlet temperature",
         "names": "nsvInletTemp",
         "units": null
        },
        {
         "description": "pipe outlet temperature",
         "names": "nsvOutletTemp",
         "units": null
        },
        {
         "description": "environmental temperature (surrounding pipe)",
         "names": "nsvEnvironmentTemp",
         "units": null
        },
        {
         "description": "heat loss rate from pipe to the environment",
         "names": "nsvEnvHeatLossRate",
         "units": null
        },
        {
         "description": "overall heat loss from fluid to pipe",
         "names": "nsvFluidHeatLossRate",
         "units": null
        },
        {
         "description": "the number of \"inner\" time steps for our model",
         "names": "nsvNumInnerTimeSteps",
         "units": null
        },
        {
         "description": "First time, input is \"gotten\"",
         "names": "GetPipeInputFlag",
         "units": null
        },
        {
         "description": "construction object name",
         "names": "Construction",
         "units": null
        },
        {
         "description": "keyword:  'Schedule', 'OutdoorAir', 'Zone'",
         "names": "Environment",
         "units": null
        },
        {
         "description": "temperature schedule for environmental temp",
         "names": "EnvrSchedule",
         "units": null
        },
        {
         "description": "temperature schedule for environmental temp",
         "names": "EnvrVelSchedule",
         "units": null
        },
        {
         "description": "zone providing environmental temp",
         "names": "EnvrZone",
         "units": null
        },
        {
         "description": "outside air node providing environmental temp",
         "names": "EnvrAirNode",
         "units": null
        },
        {
         "description": "total pipe length [m]",
         "names": "Length",
         "units": "m"
        },
        {
         "description": "pipe inside diameter [m]",
         "names": "PipeID",
         "units": "m"
        },
        {
         "description": "inlet node name",
         "names": "InletNode",
         "units": null
        },
        {
         "description": "outlet node name",
         "names": "OutletNode",
         "units": null
        },
        {
         "description": "inlet node number",
         "names": "InletNodeNum",
         "units": null
        },
        {
         "description": "outlet node number",
         "names": "OutletNodeNum",
         "units": null
        },
        {
         "description": "Type of pipe",
         "names": "TypeOf",
         "units": null
        },
        {
         "description": "construction ref number",
         "names": "ConstructionNum",
         "units": null
        },
        {
         "description": "pointer to schedule used to set environmental temp",
         "names": "EnvrSchedPtr",
         "units": null
        },
        {
         "description": "pointer to schedule used to set environmental temp",
         "names": "EnvrVelSchedPtr",
         "units": null
        },
        {
         "description": "pointer to zone number used to set environmental temp",
         "names": "EnvrZonePtr",
         "units": null
        },
        {
         "description": "pointer to outside air node used to set environmental temp",
         "names": "EnvrAirNodeNum",
         "units": null
        },
        {
         "description": "total number of nodes along pipe length",
         "names": "NumSections",
         "units": null
        },
        {
         "description": "fluid Cp [J/kg.K]",
         "names": "FluidSpecHeat",
         "units": "J/kg.K"
        },
        {
         "description": "density [kg/m3]",
         "names": "FluidDensity",
         "units": "kg/m3"
        },
        {
         "description": "max flow rate (from loop/node data)",
         "names": "MaxFlowRate",
         "units": null
        },
        {
         "description": "volume of each pipe section (node) [m^3]",
         "names": "FluidSectionVol",
         "units": "m^3"
        },
        {
         "description": "pipe section inside surface area [m^2]",
         "names": "InsideArea",
         "units": "m^2"
        },
        {
         "description": "pipe section outside surface area [m^2]",
         "names": "OutsideArea",
         "units": "m^2"
        },
        {
         "description": "cross sectional area [m^2]",
         "names": "SectionArea",
         "units": "m^2"
        },
        {
         "description": "heat capacity of pipe section [J/m.K]",
         "names": "PipeHeatCapacity",
         "units": "J/m.K"
        },
        {
         "description": "pipe outside diameter [m]",
         "names": "PipeOD",
         "units": "m"
        },
        {
         "description": "pipe materail Cp [J/kg.K]",
         "names": "PipeCp",
         "units": "J/kg.K"
        },
        {
         "description": "pipe material density [kg/m3]",
         "names": "PipeDensity",
         "units": "kg/m3"
        },
        {
         "description": "pipe material thermal conductivity [W/m.K]",
         "names": "PipeConductivity",
         "units": "W/m.K"
        },
        {
         "description": "insulation outside diameter [m]",
         "names": "InsulationOD",
         "units": "m"
        },
        {
         "description": "insulation  specific heat [J/kg.K]",
         "names": "InsulationCp",
         "units": "J/kg.K"
        },
        {
         "description": "insulation density [kg/m3]",
         "names": "InsulationDensity",
         "units": "kg/m3"
        },
        {
         "description": "insulation conductivity [W/m.K]",
         "names": "InsulationConductivity",
         "units": "W/m.K"
        },
        {
         "description": "insulation thickness [m]",
         "names": "InsulationThickness",
         "units": "m"
        },
        {
         "description": "Insulation thermal resistance [m2.K/W]",
         "names": "InsulationResistance",
         "units": "m2.K/W"
        },
        {
         "description": "Current simulation time [hr]",
         "names": "CurrentSimTime",
         "units": "hr"
        },
        {
         "description": "simulation time the report data was last updated",
         "names": "PreviousSimTime",
         "units": null
        },
        {
         "description": "arrays for fluid and pipe temperatures at each node",
         "names": "FluidTemp",
         "units": null
        },
        {
         "description": "number of soil grid points in the depth direction",
         "names": "NumDepthNodes",
         "units": null
        },
        {
         "description": "soil depth grid point where pipe is located",
         "names": "PipeNodeDepth",
         "units": null
        },
        {
         "description": "soil width grid point where pipe is located",
         "names": "PipeNodeWidth",
         "units": null
        },
        {
         "description": "pipe burial depth [m]",
         "names": "PipeDepth",
         "units": "m"
        },
        {
         "description": "soil grid depth [m]",
         "names": "DomainDepth",
         "units": "m"
        },
        {
         "description": "grid spacing in cartesian domain [m]",
         "names": "dSregular",
         "units": "m"
        },
        {
         "description": "soil to air convection coefficient [W/m2.K]",
         "names": "OutdoorConvCoef",
         "units": "W/m2.K"
        },
        {
         "description": "name of soil material:regular object",
         "names": "SoilMaterial",
         "units": null
        },
        {
         "description": "soil material index in material data structure",
         "names": "SoilMaterialNum",
         "units": null
        },
        {
         "description": "month of minimum ground surface temperature",
         "names": "MonthOfMinSurfTemp",
         "units": null
        },
        {
         "description": "minimum annual surface temperature [C]",
         "names": "MinSurfTemp",
         "units": "C"
        },
        {
         "description": "density of soil [kg/m3]",
         "names": "SoilDensity",
         "units": "kg/m3"
        },
        {
         "description": "thickness of soil [m]",
         "names": "SoilDepth",
         "units": "m"
        },
        {
         "description": "specific heat of soil [J/kg.K]",
         "names": "SoilCp",
         "units": "J/kg.K"
        },
        {
         "description": "thermal conductivity of soil [W/m.K]",
         "names": "SoilConductivity",
         "units": "W/m.K"
        },
        {
         "description": "ground surface roughness",
         "names": "SoilRoughness",
         "units": null
        },
        {
         "description": "ground surface thermal absorptivity",
         "names": "SoilThermAbs",
         "units": null
        },
        {
         "description": "ground surface solar absorptivity",
         "names": "SoilSolarAbs",
         "units": null
        },
        {
         "description": "soil surface finite difference coefficient",
         "names": "CoefS1",
         "units": null
        },
        {
         "description": "soil surface finite difference coefficient",
         "names": "CoefS2",
         "units": null
        },
        {
         "description": "soil finite difference coefficient",
         "names": "CoefA1",
         "units": null
        },
        {
         "description": "soil finite difference coefficient",
         "names": "CoefA2",
         "units": null
        },
        {
         "description": "soil Fourier number based on grid spacing",
         "names": "FourierDS",
         "units": null
        },
        {
         "description": "soil thermal diffusivity [m2/s]",
         "names": "SoilDiffusivity",
         "units": "m2/s"
        },
        {
         "description": "soil thermal diffusivity [m2/day]",
         "names": "SoilDiffusivityPerDay",
         "units": "m2/day"
        },
        {
         "description": "soil temperature array",
         "names": "T",
         "units": null
        },
        {
         "description": "begin sim and begin environment flag",
         "names": "BeginSimInit",
         "units": null
        },
        {
         "description": "begin sim and begin environment flag",
         "names": "BeginSimEnvrn",
         "units": null
        },
        {
         "description": "Flag to determine if solar is included at ground surface",
         "names": "SolarExposed",
         "units": null
        },
        {
         "description": "Sum of thickness/conductivity over all material layers",
         "names": "SumTK",
         "units": null
        },
        {
         "description": "Lagged energy summation for zone heat gain {W}",
         "names": "ZoneHeatGainRate",
         "units": null
        },
        {
         "description": "PlantLoop index where this pipe lies",
         "names": "LoopNum",
         "units": null
        },
        {
         "description": "PlantLoop%LoopSide index where this pipe lies",
         "names": "LoopSideNum",
         "units": null
        },
        {
         "description": "..LoopSide%Branch index where this pipe lies",
         "names": "BranchNum",
         "units": null
        },
        {
         "description": "..Branch%Comp index where this pipe lies",
         "names": "CompNum",
         "units": null
        },
        {
         "description": "inlet temperature [C]",
         "names": "FluidInletTemp",
         "units": "C"
        },
        {
         "description": "outlet temperature [C]",
         "names": "FluidOutletTemp",
         "units": "C"
        },
        {
         "description": "mass flow rate [kg/s]",
         "names": "MassFlowRate",
         "units": "kg/s"
        },
        {
         "description": "overall heat transfer rate from fluid to pipe [W]",
         "names": "FluidHeatLossRate",
         "units": "W"
        },
        {
         "description": "energy transferred from fluid to pipe [J]",
         "names": "FluidHeatLossEnergy",
         "units": "J"
        },
        {
         "description": "pipe temperature at inlet [C]",
         "names": "PipeInletTemp",
         "units": "C"
        },
        {
         "description": "pipe temperature at Oulet [C]",
         "names": "PipeOutletTemp",
         "units": "C"
        },
        {
         "description": "overall heat transfer rate from pipe to environment [W]",
         "names": "EnvironmentHeatLossRate",
         "units": "W"
        },
        {
         "description": "energy transferred from pipe to environment [J]",
         "names": "EnvHeatLossEnergy",
         "units": "J"
        },
        {
         "description": "component number",
         "names": "error",
         "units": null
        },
        {
         "description": "Current Depth",
         "names": "error",
         "units": null
        },
        {
         "description": "Current Simulation Day",
         "names": "error",
         "units": null
        },
        {
         "description": "Temperature of water entering the surface, in C",
         "names": "error",
         "units": null
        },
        {
         "description": "Mass flow rate, in kg/s",
         "names": "error",
         "units": null
        },
        {
         "description": "Pipe diameter, m",
         "names": "error",
         "units": null
        },
        {
         "description": "Index for the surface under consideration",
         "names": "ReportPipesHeatTransfer()",
         "units": null
        },
        {
         "description": "module object of pipe (error messages)",
         "names": "error",
         "units": null
        },
        {
         "description": "construction name of pipe (error messages)",
         "names": "error",
         "units": null
        },
        {
         "description": "fieldname of pipe (error messages)",
         "names": "error",
         "units": null
        },
        {
         "description": "pointer into construction data",
         "names": "error",
         "units": null
        },
        {
         "description": "set to true if errors found here",
         "names": "error",
         "units": null
        }
       ],
       "_grid_data_up": {},
       "_grid_options_mono_down": "{\"enableSorting\": true, \"enableFilter\": true, \"enableColResize\": true, \"enableRangeSelection\": true, \"columnDefs\": [{\"field\": \"names\", \"type\": \"textColumn\", \"headerName\": \"Names\"}, {\"field\": \"description\", \"type\": \"textColumn\", \"headerName\": \"Description\"}, {\"field\": \"units\", \"type\": \"textColumn\", \"headerName\": \"Units\"}], \"columnTypes\": {\"numberColumn\": {\"filter\": \"agNumberColumnFilter\"}, \"textColumn\": {\"filter\": \"agTextColumnFilter\"}, \"dateColumn\": {\"valueFormatter\": \"helpers.dateFormatter\", \"filter\": \"agDateColumnFilter\", \"filterParams\": {\"comparator\": \"helpers.compareDates\"}}}}",
       "_id": 130266545,
       "_js_helpers_builtin": "helpersBuiltin = {\n    dateFormatter: function(node) {\n        // make sure date is not undefined\n        if (node && node.value) {\n            let d = new Date(node.value);\n            let h = d.getHours();\n            let m = d.getMinutes();\n            let s = d.getSeconds();\n            const offset = d.getTimezoneOffset() * 60000;\n            d = new Date(d.getTime() - offset);\n            const ymd = d.toISOString().substring(0, 10);\n            if (h === 0 && m === 0 && s === 0) {\n                return ymd;\n            }\n            if (h === 0) h = '00';\n            if (m === 0) m = '00';\n            if (s === 0) s = '00';\n            return `${ymd} ${h}:${m}:${s}`;\n        }\n        return null;\n    },\n\n    formatInt: d3.format(',.0f'),\n    formatFloat: d3.format(',.2f'),\n\n    intFormatter: function(node) {\n        return formatInt(node.value);\n    },\n\n    floatFormatter: function(node) {\n        return formatFloat(node.value);\n    },\n\n    compareDates: function(filterLocalDate, cellValue) {\n        // Assume dates are stored as iso\n        const cellDate = new Date(cellValue);\n\n        if (cellDate < filterLocalDate) {\n            return -1;\n        } else if (cellDate > filterLocalDate) {\n            return 1;\n        }\n        return 0;\n    },\n\n    sizeToFit: function(gridOptions) {\n        gridOptions.api.sizeColumnsToFit();\n    },\n\n    autoSizeAll: function(gridOptions) {\n        const allColumnIds = [];\n        gridOptions.columnApi.getAllColumns().forEach(column => {\n            allColumnIds.push(column.colId);\n        });\n        gridOptions.columnApi.autoSizeColumns(allColumnIds);\n    },\n\n    /**\n     * Exporting data to CSV using ag-Grid api.\n     * @param {Object} gridOptions\n     */\n    exportToCsv: function(gridOptions) {\n        const params = {\n            skipHeader: false,\n            columnGroups: true,\n            skipFooters: false,\n            skipGroups: false,\n            skipPinnedTop: false,\n            skipPinnedBottom: false,\n            allColumns: true,\n            onlySelected: false,\n            suppressQuotes: true,\n            fileName: 'my_file.csv',\n            sheetName: 'my_sheet',\n            shouldRowBeSkipped: () => false,\n            processCellCallback: param => param.value,\n            processHeaderCallback: null,\n        };\n        gridOptions.api.exportDataAsCsv(params);\n    },\n\n    /**\n     * Exporting data to Excel using ag-Grid api.\n     * @param {Object} gridOptions\n     */\n    exportToExcel: function(gridOptions) {\n        const params = {\n            skipHeader: false,\n            columnGroups: true,\n            skipFooters: false,\n            skipGroups: false,\n            skipPinnedTop: false,\n            skipPinnedBottom: false,\n            allColumns: true,\n            onlySelected: false,\n            suppressQuotes: true,\n            fileName: 'my_file.xls',\n            sheetName: 'my_sheet',\n            shouldRowBeSkipped: () => false, // TODO : check\n            processCellCallback: param => param.value,\n            processHeaderCallback: null,\n        };\n        gridOptions.api.exportDataAsExcel(params);\n    },\n};\n",
       "columns_fit": "size_to_fit",
       "compress_data": true,
       "export_mode": "disabled",
       "height": "350px",
       "js_helpers": "{\"dateFormatter\":\"function(node) {\\n        // make sure date is not undefined\\n        if (node && node.value) {\\n            let d = new Date(node.value);\\n            let h = d.getHours();\\n            let m = d.getMinutes();\\n            let s = d.getSeconds();\\n            const offset = d.getTimezoneOffset() * 60000;\\n            d = new Date(d.getTime() - offset);\\n            const ymd = d.toISOString().substring(0, 10);\\n            if (h === 0 && m === 0 && s === 0) {\\n                return ymd;\\n            }\\n            if (h === 0) h = '00';\\n            if (m === 0) m = '00';\\n            if (s === 0) s = '00';\\n            return `${ymd} ${h}:${m}:${s}`;\\n        }\\n        return null;\\n    }\",\"formatInt\":\" >-,.0f\",\"formatFloat\":\" >-,.2f\",\"intFormatter\":\"function(node) {\\n        return formatInt(node.value);\\n    }\",\"floatFormatter\":\"function(node) {\\n        return formatFloat(node.value);\\n    }\",\"compareDates\":\"function(filterLocalDate, cellValue) {\\n        // Assume dates are stored as iso\\n        const cellDate = new Date(cellValue);\\n\\n        if (cellDate < filterLocalDate) {\\n            return -1;\\n        } else if (cellDate > filterLocalDate) {\\n            return 1;\\n        }\\n        return 0;\\n    }\",\"sizeToFit\":\"function(gridOptions) {\\n        gridOptions.api.sizeColumnsToFit();\\n    }\",\"autoSizeAll\":\"function(gridOptions) {\\n        const allColumnIds = [];\\n        gridOptions.columnApi.getAllColumns().forEach(column => {\\n            allColumnIds.push(column.colId);\\n        });\\n        gridOptions.columnApi.autoSizeColumns(allColumnIds);\\n    }\",\"exportToCsv\":\"function(gridOptions) {\\n        const params = {\\n            skipHeader: false,\\n            columnGroups: true,\\n            skipFooters: false,\\n            skipGroups: false,\\n            skipPinnedTop: false,\\n            skipPinnedBottom: false,\\n            allColumns: true,\\n            onlySelected: false,\\n            suppressQuotes: true,\\n            fileName: 'my_file.csv',\\n            sheetName: 'my_sheet',\\n            shouldRowBeSkipped: () => false,\\n            processCellCallback: param => param.value,\\n            processHeaderCallback: null,\\n        };\\n        gridOptions.api.exportDataAsCsv(params);\\n    }\",\"exportToExcel\":\"function(gridOptions) {\\n        const params = {\\n            skipHeader: false,\\n            columnGroups: true,\\n            skipFooters: false,\\n            skipGroups: false,\\n            skipPinnedTop: false,\\n            skipPinnedBottom: false,\\n            allColumns: true,\\n            onlySelected: false,\\n            suppressQuotes: true,\\n            fileName: 'my_file.xls',\\n            sheetName: 'my_sheet',\\n            shouldRowBeSkipped: () => false, // TODO : check\\n            processCellCallback: param => param.value,\\n            processHeaderCallback: null,\\n        };\\n        gridOptions.api.exportDataAsExcel(params);\\n    }\"}",
       "layout": "IPY_MODEL_2de57a3fb1b8454b9d67848e7ff9536e",
       "menu": {
        "button_div_css": ".flex-button-div-130266545 {\ndisplay: flex;\njustify-content: flex-start;\nalign-items: flex-start;\nalign-content: flex-start;\nflex-flow: row wrap;\n}\n",
        "buttons": [],
        "input_div_css": ".flex-input-div-130266545 {\ndisplay: flex;\njustify-content: flex-start;\nalign-items: baseline;\nalign-content: flex-start;\nflex-flow: row wrap;\n}\n",
        "inputs": [
         {
          "css": ".flex-child-quick-filter-130266545 {\norder: 0;\nalign-self: auto;\nmargin: 5px;\nflex: 0.00 1.00 auto;\nwidth: 150px;\n}\n",
          "name": "Quick Filter"
         }
        ],
        "menu_div_css": ".flex-menu-div-130266545 {\ndisplay: flex;\njustify-content: flex-start;\nalign-items: flex-start;\nalign-content: flex-start;\nflex-flow: row wrap;\n}\n"
       },
       "theme": "ag-theme-balham",
       "width": "100%"
      }
     },
     "b1a248ad904647d096ac384fae4b0154": {
      "model_module": "@jupyter-widgets/controls",
      "model_module_version": "1.5.0",
      "model_name": "DescriptionStyleModel",
      "state": {
       "description_width": ""
      }
     },
     "b2ce41c2e53b443d9aca4ff7635dad94": {
      "model_module": "@jupyter-widgets/controls",
      "model_module_version": "1.5.0",
      "model_name": "ToggleButtonModel",
      "state": {
       "button_style": "success",
       "description": "display/hide files",
       "layout": "IPY_MODEL_b8f701e9b7fd4625a102db4a72d4fde6",
       "style": "IPY_MODEL_c4fb2602a17444ea8b85024c0b30490a",
       "tooltip": "shows and hides display outputs of the files selected in the SelectMultiple dropdown menu"
      }
     },
     "b2d4bfc600c8416e95932278cb0fbba0": {
      "model_module": "@jupyter-widgets/controls",
      "model_module_version": "1.5.0",
      "model_name": "DescriptionStyleModel",
      "state": {
       "description_width": ""
      }
     },
     "b67da5547b6849e7a0a83f17de3e2a2c": {
      "model_module": "@jupyter-widgets/controls",
      "model_module_version": "1.5.0",
      "model_name": "SelectMultipleModel",
      "state": {
       "_options_labels": [
        "eg_csv.csv"
       ],
       "index": [
        0
       ],
       "layout": "IPY_MODEL_cae1e03331594e0783e20624802b16fa",
       "rows": 5,
       "style": "IPY_MODEL_93903cfde70642088e0db76dc566c04c"
      }
     },
     "b8f701e9b7fd4625a102db4a72d4fde6": {
      "model_module": "@jupyter-widgets/base",
      "model_module_version": "1.2.0",
      "model_name": "LayoutModel",
      "state": {}
     },
     "bd2c1fdf897e401d9e9a82109afe0479": {
      "model_module": "@jupyter-widgets/base",
      "model_module_version": "1.2.0",
      "model_name": "LayoutModel",
      "state": {
       "flex_flow": "column",
       "height": "auto",
       "width": "auto"
      }
     },
     "c1af68b216ee4732baaa06c0320b8d72": {
      "model_module": "@jupyter-widgets/base",
      "model_module_version": "1.2.0",
      "model_name": "LayoutModel",
      "state": {}
     },
     "c44bf6f332b142d6bee4388c7f05d55c": {
      "model_module": "@jupyter-widgets/base",
      "model_module_version": "1.2.0",
      "model_name": "LayoutModel",
      "state": {}
     },
     "c4fb2602a17444ea8b85024c0b30490a": {
      "model_module": "@jupyter-widgets/controls",
      "model_module_version": "1.5.0",
      "model_name": "DescriptionStyleModel",
      "state": {
       "description_width": ""
      }
     },
     "c79baad88a5146b383799840f0a72896": {
      "model_module": "@jupyter-widgets/base",
      "model_module_version": "1.2.0",
      "model_name": "LayoutModel",
      "state": {}
     },
     "cae1e03331594e0783e20624802b16fa": {
      "model_module": "@jupyter-widgets/base",
      "model_module_version": "1.2.0",
      "model_name": "LayoutModel",
      "state": {
       "flex_flow": "column",
       "height": "auto",
       "width": "auto"
      }
     },
     "d18f3596fc9f4841b6c69e8897f50cc7": {
      "model_module": "@jupyter-widgets/controls",
      "model_module_version": "1.5.0",
      "model_name": "SelectMultipleModel",
      "state": {
       "_options_labels": [
        "eg_csv.csv",
        "eg_docx.docx",
        "eg_gbxml.xml",
        "eg_jpg.jpg",
        "eg_json.json",
        "eg_md.md",
        "eg_pdf.pdf",
        "eg_plotly.plotly",
        "eg_plotly.plotly.json",
        "eg_png.png",
        "eg_py.py",
        "eg_xlsx.xlsx",
        "eg_YAML.YAML",
        "eg_plotly-checkpoint.plotly",
        "eg_plotly.plotly-checkpoint.json"
       ],
       "index": [],
       "layout": "IPY_MODEL_bd2c1fdf897e401d9e9a82109afe0479",
       "rows": 5,
       "style": "IPY_MODEL_4b97ec3c402b4879bed8daea29eec64a"
      }
     },
     "d31496383ace4c82a975f2cf3a003e95": {
      "model_module": "@jupyter-widgets/base",
      "model_module_version": "1.2.0",
      "model_name": "LayoutModel",
      "state": {
       "flex_flow": "column",
       "height": "auto",
       "width": "auto"
      }
     },
     "d39d81bec9794ae78e84ceb522540e3a": {
      "model_module": "@jupyter-widgets/controls",
      "model_module_version": "1.5.0",
      "model_name": "SelectMultipleModel",
      "state": {
       "_options_labels": [
        "eg_csv.csv",
        "eg_docx.docx",
        "eg_gbxml.xml",
        "eg_jpg.jpg",
        "eg_json.json",
        "eg_md.md",
        "eg_pdf.pdf",
        "eg_plotly.plotly",
        "eg_plotly.plotly.json",
        "eg_png.png",
        "eg_py.py",
        "eg_xlsx.xlsx",
        "eg_YAML.YAML",
        "eg_plotly-checkpoint.plotly",
        "eg_plotly.plotly-checkpoint.json"
       ],
       "index": [],
       "layout": "IPY_MODEL_4076c531852d4cf1b503746bc0ea9525",
       "rows": 5,
       "style": "IPY_MODEL_b1a248ad904647d096ac384fae4b0154"
      }
     },
     "d776f54d2ce84d52bfa6ddfc5de38c4f": {
      "model_module": "@jupyter-widgets/output",
      "model_module_version": "1.0.0",
      "model_name": "OutputModel",
      "state": {
       "layout": "IPY_MODEL_c79baad88a5146b383799840f0a72896"
      }
     },
     "d83c33828da34236bb7ba61ad5e22cb2": {
      "model_module": "@jupyter-widgets/base",
      "model_module_version": "1.2.0",
      "model_name": "LayoutModel",
      "state": {}
     },
     "dfdd6efa45934e938c20e9c44763bb8a": {
      "model_module": "@jupyter-widgets/output",
      "model_module_version": "1.0.0",
      "model_name": "OutputModel",
      "state": {
       "layout": "IPY_MODEL_5dbaff3b217146daa114750c570d5797"
      }
     },
     "e208a2b1495f47c6bb045896c88880a4": {
      "model_module": "@jupyter-widgets/controls",
      "model_module_version": "1.5.0",
      "model_name": "SelectMultipleModel",
      "state": {
       "_options_labels": [
        "eg_csv.csv",
        "eg_docx.docx",
        "eg_gbxml.xml",
        "eg_jpg.jpg",
        "eg_json.json",
        "eg_md.md",
        "eg_pdf.pdf",
        "eg_plotly.plotly",
        "eg_plotly.plotly.json",
        "eg_png.png",
        "eg_py.py",
        "eg_xlsx.xlsx",
        "eg_YAML.YAML",
        "eg_plotly-checkpoint.plotly",
        "eg_plotly.plotly-checkpoint.json"
       ],
       "index": [],
       "layout": "IPY_MODEL_9fed578e9b954760b7f9cc09d6e1ea78",
       "rows": 5,
       "style": "IPY_MODEL_82092e033c2749178eaab4d25c363f00"
      }
     },
     "e42e14f6bb4848a09dd39bafc4bc1dbd": {
      "model_module": "@jupyter-widgets/base",
      "model_module_version": "1.2.0",
      "model_name": "LayoutModel",
      "state": {}
     },
     "e6c93f2db34943268725ec1e2d24e9f9": {
      "model_module": "@jupyter-widgets/base",
      "model_module_version": "1.2.0",
      "model_name": "LayoutModel",
      "state": {}
     },
     "e950a0b3fa73439182db869c228e6321": {
      "model_module": "@jupyter-widgets/base",
      "model_module_version": "1.2.0",
      "model_name": "LayoutModel",
      "state": {}
     },
     "f0899ed1e49b4e509fe8fef2560887cb": {
      "model_module": "@jupyter-widgets/base",
      "model_module_version": "1.2.0",
      "model_name": "LayoutModel",
      "state": {}
     },
     "f0d9223363174440baccb017d31b607f": {
      "buffers": [
       {
        "data": "H4sIAAAAAAACA62ZXW/buBKG/wphoGgLBE1i57N33aTd7bbZFHWwBY7bPWAk2uapJAqk5DRb9L+feYekRNlOmmD3wo1EzTMkZ4bDIft9tLA6H738PsplI0cvZ7PR26pS9lwVjbzSpRrtjEylRKmrtlGioRbhGlULXQmnMlPlbrRTtUXxZWc2qtzqj7a8nH/Qtfrtikh6u1ZWmLlAk/hNyUZcWVm5OVqv/6eyZoi/rQrV/GFyRSTxpcnbQomVtFpe08PcWOqYRERFMqJi9QMFl23zUw2GZe5U4UfvcT9G6jNX3wZCF9K5N4W5+SgbmKjG9EpqE3NqFJZbE/E/TdGWah1YcWtjdXYHlnqBTZ8tZbWgWVhTikK6RrR1vg6xDa9UWcduvMUaalHUQ2vVFoul8sE+dwGvq5W2pipVFSnVt8gi5cQz11pr2irX1UJA+fN1VYiJ98a5YJclQqSgdzaGnygPqjGiWSqRdDXQ9KZodb6my6xoGEUhep2sbg5R6IPe9eDl4IfFpxTkDmZfxiBBGH8eaQh8HvUrwYWYsoJiTRW9wl9Vg1B6W9Vt86aQC1L2RlvyGdAd8gq1C+1I58I0jao+j3r2zFSusW3WaFMRlyWvYd2ISpbJ6F+ndhl9Vbc3xuYvhXg6zZYKS+DpjnhKrs6Nsa+0xdt/aF0/HWiwURjzTrzoQjPPdNPZQx1/quLfUIPREf83kk9tzUpzCP2Moqlh7cP5beM0LXCprV/pD1PyXlWLZomBG3zk0Cu4TczKL0goI4ixY8/7BcZd5Zpc0lCgpJJdRqOWNHUNvNdnLT/yO8TWsuM9mXA9Dd6X8q5ua3U5JyE8IMiH6yINRa9sEI1WzTc0dqH0obGwkdEVzEJLrguB1ileg45G9dCI+ne0IbA2NHGYhWX+GGUh3rxdEn0b0fdQpaRpqtiyrgvCPv1AlROyMCGbhtDscU6D01plSIWkwOe6s1rMft/9unjxDnHpn0ad+Lmi8G1u6Uvun8Ts62K3nECWH1j0Qn5Ltq9Sfuu3LPHM70fG1Ls8WZQSz9cH5WdFGyHhfuPDjJTMln4qzguIZ1DxnNbQXzwC+hPWEQz6yioZV10EwuqjnWYuMzI5iYAee3o8CuvhLjy66l4+jD7wmcVmEhSQg7YiXEaQF85kLTNvX96IsvAeV1o3EHJRGT1UBgdByeV5sjHfnWggelb3tQh9l7q42/eQ713fQ5omdF8gcD9U92H9r7bBtGPakv5miZCYfYqT+9RNjlzaFhJz5ynq7vX+ifYYTzfBhKPI13Mqp9jS2+fd4/3sEx33TT3peWiAhH/ErK+WOvtaKeeGGprYfMesPyqnXSOrDAvxbcp5u9vuOykYv3i3+4m18BOrOqOajHLPVJehtAwNwumyU4byZra0QJfWO96qlTat67l1edRKVtXGNpwCxI10aZWar6WEUD1Ka+Wtr6J8upJVHmq+vnigrNf4ZFHxLpnky3NVN0tkYdixz5XOUPTjcCM4LzucWDDAHOIUWVaF6iqqQmBDDevD7KDAS/dqxA1ZWfnhUe1WmGw4sajkk857JTd4eaSSOAoWum7DsqzX6pBzU0pdDUbM3WxK5lOrFuQtbHws4pCGaB8hs2TSNhQ0kqKf9Q3AUDRSxK/OjJrHbmgvw+ZG4b4K+Sujr7T2NCIJgT/uIn8cQn9K4EVIE/CV9HsA64vp42UYZihze6OksN9vB5w/o2E2fRZDDPpKZXCGuTBVs7ycX+hqSjk/RGGJRoyGTroU1iXZEeeWblvYehpaUxFIWVUtdb+FFLMzmOSss8bm3hvtsS3/eML7us8SHZE4DZKcHYcZsRPdmhkZGia2rbm807Ilu0HHR9MuliGvrVnR9p9Sv16hm1fXW4A4AHntjK3juFJ2aihatrIOX+4gEcrT/RhEkZiTBxtsO/M5LVBk0CSo1+DxP4BfdT0/Bho/EnpDh1Kt7Pk0cqEhFpTXEkUprdw0HwyNe05dtC5Gg1/4wSN5/wn7zK7zu8yuG22BP9Aw5E9V5PI2KKEnVnPVIcki4g2jH+cvakHLUNPRXaPkvcYrtjLeR/xbUnHTHiMXmzCK+erRNMfe62+1cUjfI5zykRhz1CyUDSi7z0MUauw/WdHmZHFaiMNITRS25dU70kR/scy6Rb47XIAr8h5uNrpUV8hbZZNFhUMOis9fKZuHkv29XCyoc1Upu7ilnsvS79zYd/n4wxligfT//dOP5ERMZb3Ptx8KWTV4DbnW72I0RhcOI1q5ITfV8WzUsU9i+4OU/GKpjll6FS9eRPSJb36QhjNT1pH32BM0PYjlKiW9Ttu4SRskdBYfXKdt3qQNgLVLxOH9Ie8ALmwAru/gvkuuJt6t9pdng9suStmcrje1veaw4Ls8jo+oyVLIbNPzO+8d/V3I+p3jYL024QoynTufbDauHtewy3YdS+65HmmIeIuYrubUHMld5E+NsVVXYhISNZZvSsqalhZ9Xb8iiRKx9A7b+l2fp32lfZ7mvih3ldiN8sYN8gKNDtmBSjyUvSHV4N5RnG0quBjEHktx2G0I8kV+PJftiLKX+MiVP747GDLe8z97zscUrDakmmQsglKg4hIShz0rh+V47DDc4Idbz3hofsafRUm5US6Ue77JDW6pYqn5QHauVZE/kom3P/SvEYPO+X9WNuRxE4RLbdvyNsHNOAVhX0BWCsQXZB0y3n+tuXH4fxoMix5m3qYUbqOVLFpumu1RB/v0G9NvQr8D+h3S74h+x/Q7od8pZFgQkvsQ3YfsPoT3Ib0P8X3I7wPYBzEGMWbdIMYgxiDGIMYgxiDGIMYgJiAmICY8HBATEBMQExATEBMQExAHIA5AHIA44BmAOABxAOIAxAGIAxCHIA5BHII4BHHIkwZxCOIQxCGIQxBHII5AHIE4AnEE4ojtBOIIxBGIIxDHII5BHIM4BnEM4hjEMZsWxDGIYxAnIE5AnIA4AXEC4gTECYgT9gaIExCnIE5BnII4BXEK4hTEKYhTEKfsQO9BduEe+3CPnbjHXtxjN+6xH/fYkXvsyT125R6z5P4vP2JcZbiLqzh8QmzxcVG5zOqalyTeWyqu6MuXHz/+D9ipuWsyHAAA",
        "encoding": "base64",
        "path": [
         "_grid_data_up"
        ]
       }
      ],
      "model_module": "ipyaggrid",
      "model_module_version": "~0.2.1",
      "model_name": "AgGridModel",
      "state": {
       "_grid_data_down": [
        {
         "description": "one minute time step in seconds",
         "names": "InnerDeltaTime",
         "units": null
        },
        {
         "description": "Number of Pipe Heat Transfer objects",
         "names": "nsvNumOfPipeHT",
         "units": null
        },
        {
         "description": "module variable for inlet node number",
         "names": "nsvInletNodeNum",
         "units": null
        },
        {
         "description": "module variable for outlet node number",
         "names": "nsvOutletNodeNum",
         "units": null
        },
        {
         "description": "object index",
         "names": "nsvPipeHTNum",
         "units": null
        },
        {
         "description": "pipe mass flow rate",
         "names": "nsvMassFlowRate",
         "units": null
        },
        {
         "description": "pipe volumetric flow rate",
         "names": "nsvVolumeFlowRate",
         "units": null
        },
        {
         "description": "time change from last update",
         "names": "nsvDeltaTime",
         "units": null
        },
        {
         "description": "pipe inlet temperature",
         "names": "nsvInletTemp",
         "units": null
        },
        {
         "description": "pipe outlet temperature",
         "names": "nsvOutletTemp",
         "units": null
        },
        {
         "description": "environmental temperature (surrounding pipe)",
         "names": "nsvEnvironmentTemp",
         "units": null
        },
        {
         "description": "heat loss rate from pipe to the environment",
         "names": "nsvEnvHeatLossRate",
         "units": null
        },
        {
         "description": "overall heat loss from fluid to pipe",
         "names": "nsvFluidHeatLossRate",
         "units": null
        },
        {
         "description": "the number of \"inner\" time steps for our model",
         "names": "nsvNumInnerTimeSteps",
         "units": null
        },
        {
         "description": "First time, input is \"gotten\"",
         "names": "GetPipeInputFlag",
         "units": null
        },
        {
         "description": "construction object name",
         "names": "Construction",
         "units": null
        },
        {
         "description": "keyword:  'Schedule', 'OutdoorAir', 'Zone'",
         "names": "Environment",
         "units": null
        },
        {
         "description": "temperature schedule for environmental temp",
         "names": "EnvrSchedule",
         "units": null
        },
        {
         "description": "temperature schedule for environmental temp",
         "names": "EnvrVelSchedule",
         "units": null
        },
        {
         "description": "zone providing environmental temp",
         "names": "EnvrZone",
         "units": null
        },
        {
         "description": "outside air node providing environmental temp",
         "names": "EnvrAirNode",
         "units": null
        },
        {
         "description": "total pipe length [m]",
         "names": "Length",
         "units": "m"
        },
        {
         "description": "pipe inside diameter [m]",
         "names": "PipeID",
         "units": "m"
        },
        {
         "description": "inlet node name",
         "names": "InletNode",
         "units": null
        },
        {
         "description": "outlet node name",
         "names": "OutletNode",
         "units": null
        },
        {
         "description": "inlet node number",
         "names": "InletNodeNum",
         "units": null
        },
        {
         "description": "outlet node number",
         "names": "OutletNodeNum",
         "units": null
        },
        {
         "description": "Type of pipe",
         "names": "TypeOf",
         "units": null
        },
        {
         "description": "construction ref number",
         "names": "ConstructionNum",
         "units": null
        },
        {
         "description": "pointer to schedule used to set environmental temp",
         "names": "EnvrSchedPtr",
         "units": null
        },
        {
         "description": "pointer to schedule used to set environmental temp",
         "names": "EnvrVelSchedPtr",
         "units": null
        },
        {
         "description": "pointer to zone number used to set environmental temp",
         "names": "EnvrZonePtr",
         "units": null
        },
        {
         "description": "pointer to outside air node used to set environmental temp",
         "names": "EnvrAirNodeNum",
         "units": null
        },
        {
         "description": "total number of nodes along pipe length",
         "names": "NumSections",
         "units": null
        },
        {
         "description": "fluid Cp [J/kg.K]",
         "names": "FluidSpecHeat",
         "units": "J/kg.K"
        },
        {
         "description": "density [kg/m3]",
         "names": "FluidDensity",
         "units": "kg/m3"
        },
        {
         "description": "max flow rate (from loop/node data)",
         "names": "MaxFlowRate",
         "units": null
        },
        {
         "description": "volume of each pipe section (node) [m^3]",
         "names": "FluidSectionVol",
         "units": "m^3"
        },
        {
         "description": "pipe section inside surface area [m^2]",
         "names": "InsideArea",
         "units": "m^2"
        },
        {
         "description": "pipe section outside surface area [m^2]",
         "names": "OutsideArea",
         "units": "m^2"
        },
        {
         "description": "cross sectional area [m^2]",
         "names": "SectionArea",
         "units": "m^2"
        },
        {
         "description": "heat capacity of pipe section [J/m.K]",
         "names": "PipeHeatCapacity",
         "units": "J/m.K"
        },
        {
         "description": "pipe outside diameter [m]",
         "names": "PipeOD",
         "units": "m"
        },
        {
         "description": "pipe materail Cp [J/kg.K]",
         "names": "PipeCp",
         "units": "J/kg.K"
        },
        {
         "description": "pipe material density [kg/m3]",
         "names": "PipeDensity",
         "units": "kg/m3"
        },
        {
         "description": "pipe material thermal conductivity [W/m.K]",
         "names": "PipeConductivity",
         "units": "W/m.K"
        },
        {
         "description": "insulation outside diameter [m]",
         "names": "InsulationOD",
         "units": "m"
        },
        {
         "description": "insulation  specific heat [J/kg.K]",
         "names": "InsulationCp",
         "units": "J/kg.K"
        },
        {
         "description": "insulation density [kg/m3]",
         "names": "InsulationDensity",
         "units": "kg/m3"
        },
        {
         "description": "insulation conductivity [W/m.K]",
         "names": "InsulationConductivity",
         "units": "W/m.K"
        },
        {
         "description": "insulation thickness [m]",
         "names": "InsulationThickness",
         "units": "m"
        },
        {
         "description": "Insulation thermal resistance [m2.K/W]",
         "names": "InsulationResistance",
         "units": "m2.K/W"
        },
        {
         "description": "Current simulation time [hr]",
         "names": "CurrentSimTime",
         "units": "hr"
        },
        {
         "description": "simulation time the report data was last updated",
         "names": "PreviousSimTime",
         "units": null
        },
        {
         "description": "arrays for fluid and pipe temperatures at each node",
         "names": "FluidTemp",
         "units": null
        },
        {
         "description": "number of soil grid points in the depth direction",
         "names": "NumDepthNodes",
         "units": null
        },
        {
         "description": "soil depth grid point where pipe is located",
         "names": "PipeNodeDepth",
         "units": null
        },
        {
         "description": "soil width grid point where pipe is located",
         "names": "PipeNodeWidth",
         "units": null
        },
        {
         "description": "pipe burial depth [m]",
         "names": "PipeDepth",
         "units": "m"
        },
        {
         "description": "soil grid depth [m]",
         "names": "DomainDepth",
         "units": "m"
        },
        {
         "description": "grid spacing in cartesian domain [m]",
         "names": "dSregular",
         "units": "m"
        },
        {
         "description": "soil to air convection coefficient [W/m2.K]",
         "names": "OutdoorConvCoef",
         "units": "W/m2.K"
        },
        {
         "description": "name of soil material:regular object",
         "names": "SoilMaterial",
         "units": null
        },
        {
         "description": "soil material index in material data structure",
         "names": "SoilMaterialNum",
         "units": null
        },
        {
         "description": "month of minimum ground surface temperature",
         "names": "MonthOfMinSurfTemp",
         "units": null
        },
        {
         "description": "minimum annual surface temperature [C]",
         "names": "MinSurfTemp",
         "units": "C"
        },
        {
         "description": "density of soil [kg/m3]",
         "names": "SoilDensity",
         "units": "kg/m3"
        },
        {
         "description": "thickness of soil [m]",
         "names": "SoilDepth",
         "units": "m"
        },
        {
         "description": "specific heat of soil [J/kg.K]",
         "names": "SoilCp",
         "units": "J/kg.K"
        },
        {
         "description": "thermal conductivity of soil [W/m.K]",
         "names": "SoilConductivity",
         "units": "W/m.K"
        },
        {
         "description": "ground surface roughness",
         "names": "SoilRoughness",
         "units": null
        },
        {
         "description": "ground surface thermal absorptivity",
         "names": "SoilThermAbs",
         "units": null
        },
        {
         "description": "ground surface solar absorptivity",
         "names": "SoilSolarAbs",
         "units": null
        },
        {
         "description": "soil surface finite difference coefficient",
         "names": "CoefS1",
         "units": null
        },
        {
         "description": "soil surface finite difference coefficient",
         "names": "CoefS2",
         "units": null
        },
        {
         "description": "soil finite difference coefficient",
         "names": "CoefA1",
         "units": null
        },
        {
         "description": "soil finite difference coefficient",
         "names": "CoefA2",
         "units": null
        },
        {
         "description": "soil Fourier number based on grid spacing",
         "names": "FourierDS",
         "units": null
        },
        {
         "description": "soil thermal diffusivity [m2/s]",
         "names": "SoilDiffusivity",
         "units": "m2/s"
        },
        {
         "description": "soil thermal diffusivity [m2/day]",
         "names": "SoilDiffusivityPerDay",
         "units": "m2/day"
        },
        {
         "description": "soil temperature array",
         "names": "T",
         "units": null
        },
        {
         "description": "begin sim and begin environment flag",
         "names": "BeginSimInit",
         "units": null
        },
        {
         "description": "begin sim and begin environment flag",
         "names": "BeginSimEnvrn",
         "units": null
        },
        {
         "description": "Flag to determine if solar is included at ground surface",
         "names": "SolarExposed",
         "units": null
        },
        {
         "description": "Sum of thickness/conductivity over all material layers",
         "names": "SumTK",
         "units": null
        },
        {
         "description": "Lagged energy summation for zone heat gain {W}",
         "names": "ZoneHeatGainRate",
         "units": null
        },
        {
         "description": "PlantLoop index where this pipe lies",
         "names": "LoopNum",
         "units": null
        },
        {
         "description": "PlantLoop%LoopSide index where this pipe lies",
         "names": "LoopSideNum",
         "units": null
        },
        {
         "description": "..LoopSide%Branch index where this pipe lies",
         "names": "BranchNum",
         "units": null
        },
        {
         "description": "..Branch%Comp index where this pipe lies",
         "names": "CompNum",
         "units": null
        },
        {
         "description": "inlet temperature [C]",
         "names": "FluidInletTemp",
         "units": "C"
        },
        {
         "description": "outlet temperature [C]",
         "names": "FluidOutletTemp",
         "units": "C"
        },
        {
         "description": "mass flow rate [kg/s]",
         "names": "MassFlowRate",
         "units": "kg/s"
        },
        {
         "description": "overall heat transfer rate from fluid to pipe [W]",
         "names": "FluidHeatLossRate",
         "units": "W"
        },
        {
         "description": "energy transferred from fluid to pipe [J]",
         "names": "FluidHeatLossEnergy",
         "units": "J"
        },
        {
         "description": "pipe temperature at inlet [C]",
         "names": "PipeInletTemp",
         "units": "C"
        },
        {
         "description": "pipe temperature at Oulet [C]",
         "names": "PipeOutletTemp",
         "units": "C"
        },
        {
         "description": "overall heat transfer rate from pipe to environment [W]",
         "names": "EnvironmentHeatLossRate",
         "units": "W"
        },
        {
         "description": "energy transferred from pipe to environment [J]",
         "names": "EnvHeatLossEnergy",
         "units": "J"
        },
        {
         "description": "component number",
         "names": "error",
         "units": null
        },
        {
         "description": "Current Depth",
         "names": "error",
         "units": null
        },
        {
         "description": "Current Simulation Day",
         "names": "error",
         "units": null
        },
        {
         "description": "Temperature of water entering the surface, in C",
         "names": "error",
         "units": null
        },
        {
         "description": "Mass flow rate, in kg/s",
         "names": "error",
         "units": null
        },
        {
         "description": "Pipe diameter, m",
         "names": "error",
         "units": null
        },
        {
         "description": "Index for the surface under consideration",
         "names": "ReportPipesHeatTransfer()",
         "units": null
        },
        {
         "description": "module object of pipe (error messages)",
         "names": "error",
         "units": null
        },
        {
         "description": "construction name of pipe (error messages)",
         "names": "error",
         "units": null
        },
        {
         "description": "fieldname of pipe (error messages)",
         "names": "error",
         "units": null
        },
        {
         "description": "pointer into construction data",
         "names": "error",
         "units": null
        },
        {
         "description": "set to true if errors found here",
         "names": "error",
         "units": null
        }
       ],
       "_grid_data_up": {},
       "_grid_options_mono_down": "{\"enableSorting\": true, \"enableFilter\": true, \"enableColResize\": true, \"enableRangeSelection\": true, \"columnDefs\": [{\"field\": \"names\", \"type\": \"textColumn\", \"headerName\": \"Names\"}, {\"field\": \"description\", \"type\": \"textColumn\", \"headerName\": \"Description\"}, {\"field\": \"units\", \"type\": \"textColumn\", \"headerName\": \"Units\"}], \"columnTypes\": {\"numberColumn\": {\"filter\": \"agNumberColumnFilter\"}, \"textColumn\": {\"filter\": \"agTextColumnFilter\"}, \"dateColumn\": {\"valueFormatter\": \"helpers.dateFormatter\", \"filter\": \"agDateColumnFilter\", \"filterParams\": {\"comparator\": \"helpers.compareDates\"}}}}",
       "_id": 547020902,
       "_js_helpers_builtin": "helpersBuiltin = {\n    dateFormatter: function(node) {\n        // make sure date is not undefined\n        if (node && node.value) {\n            let d = new Date(node.value);\n            let h = d.getHours();\n            let m = d.getMinutes();\n            let s = d.getSeconds();\n            const offset = d.getTimezoneOffset() * 60000;\n            d = new Date(d.getTime() - offset);\n            const ymd = d.toISOString().substring(0, 10);\n            if (h === 0 && m === 0 && s === 0) {\n                return ymd;\n            }\n            if (h === 0) h = '00';\n            if (m === 0) m = '00';\n            if (s === 0) s = '00';\n            return `${ymd} ${h}:${m}:${s}`;\n        }\n        return null;\n    },\n\n    formatInt: d3.format(',.0f'),\n    formatFloat: d3.format(',.2f'),\n\n    intFormatter: function(node) {\n        return formatInt(node.value);\n    },\n\n    floatFormatter: function(node) {\n        return formatFloat(node.value);\n    },\n\n    compareDates: function(filterLocalDate, cellValue) {\n        // Assume dates are stored as iso\n        const cellDate = new Date(cellValue);\n\n        if (cellDate < filterLocalDate) {\n            return -1;\n        } else if (cellDate > filterLocalDate) {\n            return 1;\n        }\n        return 0;\n    },\n\n    sizeToFit: function(gridOptions) {\n        gridOptions.api.sizeColumnsToFit();\n    },\n\n    autoSizeAll: function(gridOptions) {\n        const allColumnIds = [];\n        gridOptions.columnApi.getAllColumns().forEach(column => {\n            allColumnIds.push(column.colId);\n        });\n        gridOptions.columnApi.autoSizeColumns(allColumnIds);\n    },\n\n    /**\n     * Exporting data to CSV using ag-Grid api.\n     * @param {Object} gridOptions\n     */\n    exportToCsv: function(gridOptions) {\n        const params = {\n            skipHeader: false,\n            columnGroups: true,\n            skipFooters: false,\n            skipGroups: false,\n            skipPinnedTop: false,\n            skipPinnedBottom: false,\n            allColumns: true,\n            onlySelected: false,\n            suppressQuotes: true,\n            fileName: 'my_file.csv',\n            sheetName: 'my_sheet',\n            shouldRowBeSkipped: () => false,\n            processCellCallback: param => param.value,\n            processHeaderCallback: null,\n        };\n        gridOptions.api.exportDataAsCsv(params);\n    },\n\n    /**\n     * Exporting data to Excel using ag-Grid api.\n     * @param {Object} gridOptions\n     */\n    exportToExcel: function(gridOptions) {\n        const params = {\n            skipHeader: false,\n            columnGroups: true,\n            skipFooters: false,\n            skipGroups: false,\n            skipPinnedTop: false,\n            skipPinnedBottom: false,\n            allColumns: true,\n            onlySelected: false,\n            suppressQuotes: true,\n            fileName: 'my_file.xls',\n            sheetName: 'my_sheet',\n            shouldRowBeSkipped: () => false, // TODO : check\n            processCellCallback: param => param.value,\n            processHeaderCallback: null,\n        };\n        gridOptions.api.exportDataAsExcel(params);\n    },\n};\n",
       "columns_fit": "size_to_fit",
       "compress_data": true,
       "export_mode": "disabled",
       "height": "350px",
       "js_helpers": "{\"dateFormatter\":\"function(node) {\\n        // make sure date is not undefined\\n        if (node && node.value) {\\n            let d = new Date(node.value);\\n            let h = d.getHours();\\n            let m = d.getMinutes();\\n            let s = d.getSeconds();\\n            const offset = d.getTimezoneOffset() * 60000;\\n            d = new Date(d.getTime() - offset);\\n            const ymd = d.toISOString().substring(0, 10);\\n            if (h === 0 && m === 0 && s === 0) {\\n                return ymd;\\n            }\\n            if (h === 0) h = '00';\\n            if (m === 0) m = '00';\\n            if (s === 0) s = '00';\\n            return `${ymd} ${h}:${m}:${s}`;\\n        }\\n        return null;\\n    }\",\"formatInt\":\" >-,.0f\",\"formatFloat\":\" >-,.2f\",\"intFormatter\":\"function(node) {\\n        return formatInt(node.value);\\n    }\",\"floatFormatter\":\"function(node) {\\n        return formatFloat(node.value);\\n    }\",\"compareDates\":\"function(filterLocalDate, cellValue) {\\n        // Assume dates are stored as iso\\n        const cellDate = new Date(cellValue);\\n\\n        if (cellDate < filterLocalDate) {\\n            return -1;\\n        } else if (cellDate > filterLocalDate) {\\n            return 1;\\n        }\\n        return 0;\\n    }\",\"sizeToFit\":\"function(gridOptions) {\\n        gridOptions.api.sizeColumnsToFit();\\n    }\",\"autoSizeAll\":\"function(gridOptions) {\\n        const allColumnIds = [];\\n        gridOptions.columnApi.getAllColumns().forEach(column => {\\n            allColumnIds.push(column.colId);\\n        });\\n        gridOptions.columnApi.autoSizeColumns(allColumnIds);\\n    }\",\"exportToCsv\":\"function(gridOptions) {\\n        const params = {\\n            skipHeader: false,\\n            columnGroups: true,\\n            skipFooters: false,\\n            skipGroups: false,\\n            skipPinnedTop: false,\\n            skipPinnedBottom: false,\\n            allColumns: true,\\n            onlySelected: false,\\n            suppressQuotes: true,\\n            fileName: 'my_file.csv',\\n            sheetName: 'my_sheet',\\n            shouldRowBeSkipped: () => false,\\n            processCellCallback: param => param.value,\\n            processHeaderCallback: null,\\n        };\\n        gridOptions.api.exportDataAsCsv(params);\\n    }\",\"exportToExcel\":\"function(gridOptions) {\\n        const params = {\\n            skipHeader: false,\\n            columnGroups: true,\\n            skipFooters: false,\\n            skipGroups: false,\\n            skipPinnedTop: false,\\n            skipPinnedBottom: false,\\n            allColumns: true,\\n            onlySelected: false,\\n            suppressQuotes: true,\\n            fileName: 'my_file.xls',\\n            sheetName: 'my_sheet',\\n            shouldRowBeSkipped: () => false, // TODO : check\\n            processCellCallback: param => param.value,\\n            processHeaderCallback: null,\\n        };\\n        gridOptions.api.exportDataAsExcel(params);\\n    }\"}",
       "layout": "IPY_MODEL_e950a0b3fa73439182db869c228e6321",
       "menu": {
        "button_div_css": ".flex-button-div-547020902 {\ndisplay: flex;\njustify-content: flex-start;\nalign-items: flex-start;\nalign-content: flex-start;\nflex-flow: row wrap;\n}\n",
        "buttons": [],
        "input_div_css": ".flex-input-div-547020902 {\ndisplay: flex;\njustify-content: flex-start;\nalign-items: baseline;\nalign-content: flex-start;\nflex-flow: row wrap;\n}\n",
        "inputs": [
         {
          "css": ".flex-child-quick-filter-547020902 {\norder: 0;\nalign-self: auto;\nmargin: 5px;\nflex: 0.00 1.00 auto;\nwidth: 150px;\n}\n",
          "name": "Quick Filter"
         }
        ],
        "menu_div_css": ".flex-menu-div-547020902 {\ndisplay: flex;\njustify-content: flex-start;\nalign-items: flex-start;\nalign-content: flex-start;\nflex-flow: row wrap;\n}\n"
       },
       "theme": "ag-theme-balham",
       "width": "100%"
      }
     },
     "f1232769d5044bcb88ac22c46b5056eb": {
      "model_module": "@jupyter-widgets/base",
      "model_module_version": "1.2.0",
      "model_name": "LayoutModel",
      "state": {}
     }
    },
    "version_major": 2,
    "version_minor": 0
   }
  }
 },
 "nbformat": 4,
 "nbformat_minor": 4
}
