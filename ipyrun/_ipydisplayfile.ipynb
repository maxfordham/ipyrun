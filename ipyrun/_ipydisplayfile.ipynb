{
 "cells": [
  {
   "cell_type": "code",
   "execution_count": 1,
   "metadata": {},
   "outputs": [],
   "source": [
    "import os\n",
    "import sys\n",
    "import pandas as pd\n",
    "from IPython.display import display,  JSON, Markdown, HTML, IFrame, clear_output #Image,\n",
    "import time\n",
    "from ipyaggrid import Grid\n",
    "import ipywidgets as widgets\n",
    "from markdown import markdown\n",
    "import plotly.io as pio\n",
    "import copy\n",
    "\n",
    "from mf_modules.mydocstring_display import display_module_docstring\n",
    "from mf_modules.pandas_operations import del_matching\n",
    "from mf_modules.jupyter_formatting import md_fromfile\n",
    "from mf_modules.jupyter_formatting import display_python_file\n",
    "from mf_modules.file_operations import open_file\n",
    "from mf_modules.pydtype_operations import read_json, read_txt, read_yaml\n",
    "from mf_modules.datamine_functions import recursive_glob\n",
    "from mf_modules.excel_in import mfexcel_in"
   ]
  },
  {
   "cell_type": "code",
   "execution_count": 2,
   "metadata": {},
   "outputs": [],
   "source": [
    "\n",
    "def default_ipyagrid(df,**kwargs):\n",
    "\n",
    "    \"\"\"\n",
    "    returns a default ipyagrid class\n",
    "\n",
    "    Reference:\n",
    "        https://dgothrek.gitlab.io/ipyaggrid/\n",
    "\n",
    "    Code:\n",
    "        from ipyaggrid import Grid\n",
    "        grid_options = {\n",
    "            #'columnDefs' : column_defs,\n",
    "            'enableSorting': True,\n",
    "            'enableFilter': True,\n",
    "            'enableColResize': True,\n",
    "            'enableRangeSelection': True,\n",
    "            'enableCellTextSelection':True\n",
    "        }\n",
    "        g = Grid(grid_data=df,\n",
    "                grid_options=grid_options,\n",
    "                quick_filter=True,\n",
    "                theme='ag-theme-balham')\n",
    "        return g\n",
    "    \"\"\"\n",
    "    #https://dgothrek.gitlab.io/ipyaggrid/\n",
    "    grid_options = {\n",
    "        #'columnDefs' : column_defs,\n",
    "        'enableSorting': True,\n",
    "        'enableFilter': True,\n",
    "        'enableColResize': True,\n",
    "        'enableRangeSelection': True,\n",
    "        'enableCellTextSelection':True\n",
    "    }\n",
    "    _kwargs = {\n",
    "        'grid_data':df,\n",
    "        'grid_options':grid_options,\n",
    "        'show_toggle_edit':False,\n",
    "        'quick_filter':True,\n",
    "        'theme':'ag-theme-balham',\n",
    "    }\n",
    "    _kwargs.update(kwargs)  # user overides\n",
    "    g = Grid(**_kwargs)\n",
    "    return g\n",
    "\n",
    "def mfexcel_display(fpth):\n",
    "    \"\"\"\n",
    "    displays mfexcel (written using xlsx_templater) using ipyaggrid\n",
    "    \"\"\"\n",
    "    li = mfexcel_in(fpth)\n",
    "    for l in li:\n",
    "        l['grid'] = default_ipyagrid(l['df'])\n",
    "        display(Markdown('### {0}'.format(l['sheet_name'])))\n",
    "        display(Markdown('{0}'.format(l['description'])))\n",
    "        display(l['grid'])\n",
    "\n",
    "def _markdown(value='_Markdown_',\n",
    "              **kwargs):\n",
    "    \"\"\"\n",
    "    a simple template for markdown text input that templates required input\n",
    "    fields. additional user defined fields can be added as kwargs\n",
    "    \"\"\"\n",
    "    _kwargs = {}\n",
    "    _kwargs['value'] = markdown(value)  # required field\n",
    "    _kwargs.update(kwargs)  # user overides\n",
    "    return widgets.HTML(**_kwargs)\n",
    "\n",
    "\n",
    "class PreviewPy():\n",
    "    \"\"\"\n",
    "    pass the class either a filepath or an imported\n",
    "    module and get a display output of the modules\n",
    "    docstring with a toggle option to view the code\n",
    "    \"\"\"\n",
    "\n",
    "    def __init__(self, module):\n",
    "        self.input = module\n",
    "        self.out = widgets.Output()\n",
    "        self.fpth = self._handle_input()\n",
    "        self._init_form()\n",
    "        self._init_controls()\n",
    "        self._show_docstring()\n",
    "\n",
    "    def _handle_input(self):\n",
    "        if str(type(self.input)) == \"<class 'module'>\":\n",
    "            fpth = self.input.__file__\n",
    "        else:\n",
    "            fpth = self.input\n",
    "        if os.path.splitext(fpth)[1] !='.py':\n",
    "            print('{0}: not a python file'.format(fpth))\n",
    "        return fpth\n",
    "\n",
    "    def _init_form(self):\n",
    "        self.show_me_the_code = widgets.ToggleButton(description='show source code',\n",
    "                              tooltip='shows the raw python code in the preview window below',\n",
    "                              button_style='info')\n",
    "    def _init_controls(self):\n",
    "        self.show_me_the_code.observe(self._show_me_the_code, 'value')\n",
    "\n",
    "    def _show_docstring(self):\n",
    "        with self.out:\n",
    "            clear_output()\n",
    "            display(self.show_me_the_code)\n",
    "            display_module_docstring(self.fpth)\n",
    "\n",
    "    def _show_me_the_code(self, sender):\n",
    "        with self.out:\n",
    "            clear_output()\n",
    "            if self.show_me_the_code.value:\n",
    "                display(self.show_me_the_code)\n",
    "                display(display_python_file(self.fpth))\n",
    "            else:\n",
    "                self._show_docstring()\n",
    "\n",
    "    def display(self):\n",
    "        display(self.out)\n",
    "\n",
    "    def _ipython_display_(self):\n",
    "        self.display()\n",
    "\n",
    "\n",
    "class DisplayFile():\n",
    "    \"\"\"\n",
    "    displays the contents of a file in the notebook.\n",
    "    where this requires data to be loaded in this is stored\n",
    "    as DisplayFile().data. Maps to the appropriate viewer using\n",
    "    the file extension.\n",
    "        self.map = {\n",
    "            '.csv':self.df_prev,\n",
    "            #'.xlsx':self.xl_prev,\n",
    "            '.xlsx':self._open_file,\n",
    "            '.json':self.json_prev,\n",
    "            '.yaml':self.yaml_prev,\n",
    "            '.yml':self.yaml_prev,\n",
    "            '.png':self.img_prev,\n",
    "            '.jpg':self.img_prev,\n",
    "            '.jpeg':self.img_prev,\n",
    "            #'.obj':self.obj_prev,\n",
    "            #'.txt':self.txt_prev,\n",
    "            '.md':self.md_prev,\n",
    "            '.py':self.py_prev,\n",
    "            '.pdf':self._open_file,\n",
    "            '.docx':self._open_file,\n",
    "        }\n",
    "    \"\"\"\n",
    "    def __init__(self,\n",
    "                 fpth=os.path.join(os.environ['MF_ROOT'],r'ipyrun\\data\\eg_filetypes\\eg_plotly.plotly'),\n",
    "                 description=None,\n",
    "                 mf_excel=True):\n",
    "        self.fpth = fpth\n",
    "        self.mf_excel = mf_excel\n",
    "        self.ext = os.path.splitext(fpth)[1].lower()\n",
    "\n",
    "    @property\n",
    "    def _map(self):\n",
    "        return {\n",
    "            '.csv':self.df_prev,\n",
    "            '.xlsx':self.xl_prev,\n",
    "            #'.xlsx':self._open_option,\n",
    "            '.json':self.json_prev,\n",
    "            '.plotly':self.plotly_prev,\n",
    "            '.yaml':self.yaml_prev,\n",
    "            '.yml':self.yaml_prev,\n",
    "            '.png':self.img_prev,\n",
    "            '.jpg':self.img_prev,\n",
    "            '.jpeg':self.img_prev,\n",
    "            #'.obj':self.obj_prev,\n",
    "            #'.txt':self.txt_prev,\n",
    "            '.md':self.md_prev,\n",
    "            '.py':self.py_prev,\n",
    "            '.pdf':self.pdf_prev,\n",
    "            '.docx':self._open_option,\n",
    "        }\n",
    "\n",
    "    def preview_fpth(self):\n",
    "        self.ext_map = self._map\n",
    "        if self.ext not in list(self.ext_map.keys()):\n",
    "            self.ext_map[self.ext]=self._open_option\n",
    "        fn = self.ext_map[self.ext]\n",
    "        fn()\n",
    "\n",
    "    def _display_meta(self):\n",
    "        self.text = _markdown('`{0}`'.format(self.fpth))\n",
    "\n",
    "    def _init_controls(self):\n",
    "        self.open_file.on_click(self._open_file)\n",
    "\n",
    "    def _open_form(self):\n",
    "        self.open_file = widgets.Button(description='open file',button_style='success')\n",
    "        #self.text = widgets.Text(value=self.fpth,locked=True)\n",
    "        self.text = _markdown('`{0}`'.format(self.fpth))\n",
    "        self.open_form = widgets.HBox([self.open_file,self.text])\n",
    "\n",
    "    def _open_option(self):\n",
    "        self._open_form()\n",
    "        self._init_controls()\n",
    "        display(self.open_form)\n",
    "\n",
    "    def _open_file(self, sender):\n",
    "        open_file(self.fpth)\n",
    "        self.text.value = markdown('opening: `{0}`'.format(self.fpth))\n",
    "        time.sleep(5)\n",
    "        self.text.value = markdown('`{0}`'.format(self.fpth))\n",
    "        \n",
    "    def pdf_prev(self):\n",
    "        display(IFrame(self.fpth, width=1000, height=600))\n",
    "\n",
    "    def df_prev(self):\n",
    "        \"\"\"\n",
    "        previes dataframe using the awesome ipyagrid\n",
    "\n",
    "        Reference:\n",
    "            https://dgothrek.gitlab.io/ipyaggrid/\n",
    "        \"\"\"\n",
    "        self.data = del_matching(pd.read_csv(self.fpth),'Unnamed')\n",
    "        try:\n",
    "            g = default_ipyagrid(self.data)\n",
    "            display(g)\n",
    "        except:\n",
    "            display(self.data.style)\n",
    "\n",
    "    def json_prev(self):\n",
    "        self.data = read_json(self.fpth)\n",
    "        display(JSON(self.data))\n",
    "\n",
    "    def plotly_prev(self):\n",
    "        \"\"\"\n",
    "        display a plotly json file\n",
    "        \"\"\"\n",
    "        display(pio.read_json(self.fpth))\n",
    "\n",
    "    def yaml_prev(self):\n",
    "        self.data = read_yaml(self.fpth)\n",
    "        display(JSON(self.data))\n",
    "\n",
    "    def img_prev(self):\n",
    "        display(Image(self.fpth))\n",
    "\n",
    "    def md_prev(self):\n",
    "        display(Markdown(\"`IMAGES WON'T DISPLAY UNLESS THE MARKDOWN FILE IS IN THE SAME FOLDER AS THIS JUPYTER NOTEBOOK`\"))\n",
    "        md_fromfile(self.fpth)\n",
    "\n",
    "    def py_prev(self):\n",
    "        \"\"\"\n",
    "        pass the fpth of a python file and get a\n",
    "        rendered view of the code.\n",
    "        \"\"\"\n",
    "        p = PreviewPy(self.fpth)\n",
    "        display(p)\n",
    "\n",
    "    def xl_prev(self):\n",
    "        \"\"\"\n",
    "\n",
    "        \"\"\"\n",
    "        if self.mf_excel:\n",
    "            mfexcel_display(self.fpth)\n",
    "        else:\n",
    "            self._open_option()"
   ]
  },
  {
   "cell_type": "code",
   "execution_count": 3,
   "metadata": {},
   "outputs": [],
   "source": [
    "class DisplayFiles():\n",
    "    def __init__(self, fpths, fpths_ignore=[], fpth_prefix=''):\n",
    "        self.out = widgets.Output();\n",
    "        fpths_temp = copy.deepcopy(fpths)\n",
    "\n",
    "        if type(fpths_temp) != list:\n",
    "            fpths_temp = [fpths_temp]\n",
    "        else:\n",
    "            fpths_temp = fpths_temp\n",
    "\n",
    "        self.fpths = copy.deepcopy(fpths_temp)\n",
    "        for fpth in fpths_temp:\n",
    "            if '.' not in fpth:\n",
    "                self.fpths.remove(fpth)\n",
    "                self.fpths += recursive_glob(rootdir=fpth)\n",
    "\n",
    "        fpths_temp = copy.deepcopy(self.fpths)\n",
    "\n",
    "        for fpth in fpths_temp:\n",
    "            ext = os.path.splitext(fpth)[1].lower()\n",
    "            if (ext in fpths_ignore) or (ext not in DisplayFile()._map.keys()):\n",
    "                self.fpths.remove(fpth)\n",
    "            elif fpth_prefix:\n",
    "                if not os.path.basename(fpth).startswith(fpth_prefix):\n",
    "                    self.fpths.remove(fpth)\n",
    "\n",
    "        self.fpths = list(set(self.fpths))\n",
    "        self.fpths.sort()\n",
    "        self.fnms = [os.path.basename(fpth) for fpth in self.fpths];\n",
    "        self._init_previews()\n",
    "        self._init_form()\n",
    "        \n",
    "        self._init_controls()\n",
    "\n",
    "    def _init_previews(self):\n",
    "        self.previews = [DisplayFile(fpth) for fpth in self.fpths];\n",
    "        self.map_previews = dict(zip(self.fnms,self.previews))\n",
    "        self.map_fpths = dict(zip(self.fnms,self.fpths))\n",
    "\n",
    "    def _init_form(self):\n",
    "        self.outputsfpth = widgets.SelectMultiple(options=self.fnms,\n",
    "                                                  layout=widgets.Layout(indent=True,\n",
    "                                                              width='30%',\n",
    "                                                              height='auto'))\n",
    "        self.show_hide = widgets.ToggleButton(description='display/hide files',\n",
    "                              tooltip='shows and hides display outputs of the files selected in the SelectMultiple dropdown menu',\n",
    "                              button_style='success')\n",
    "        self.ui = widgets.VBox([self.show_hide,\n",
    "                      self.outputsfpth,\n",
    "                      self.out])\n",
    "\n",
    "    def _init_controls(self):\n",
    "        self.show_hide.observe(self._show_hide, 'value')\n",
    "        self.outputsfpth.observe(self._show_hide, 'value')\n",
    "\n",
    "    def display_previews(self):\n",
    "        #print(self.outputsfpth.value)\n",
    "        display(Markdown(''))\n",
    "        for file in self.outputsfpth.value:\n",
    "            display(Markdown('#### {0}'.format(os.path.splitext(os.path.basename(file))[0])))\n",
    "            s = str(self.map_previews[file]._map[self.map_previews[file].ext])\n",
    "            if 'DisplayFile._open_option' not in s:\n",
    "                display(Markdown('`{0}`'.format(self.map_fpths[file])))\n",
    "            self.map_previews[file].preview_fpth()\n",
    "\n",
    "    def _show_hide(self, sender):\n",
    "        with self.out:\n",
    "            clear_output()\n",
    "            if self.show_hide.value:\n",
    "                self.display_previews()\n",
    "            else:\n",
    "                pass\n",
    "\n",
    "    def display(self):\n",
    "        display(self.ui)\n",
    "        #display(self.outputsfpth)\n",
    "        #display(self.out)\n",
    "\n",
    "    def _ipython_display_(self):\n",
    "        self.display()"
   ]
  },
  {
   "cell_type": "code",
   "execution_count": 4,
   "metadata": {
    "lines_to_next_cell": 2
   },
   "outputs": [
    {
     "data": {
      "text/markdown": [
       "### Example0"
      ],
      "text/plain": [
       "<IPython.core.display.Markdown object>"
      ]
     },
     "metadata": {},
     "output_type": "display_data"
    },
    {
     "data": {
      "text/markdown": [
       "display single file"
      ],
      "text/plain": [
       "<IPython.core.display.Markdown object>"
      ]
     },
     "metadata": {},
     "output_type": "display_data"
    },
    {
     "data": {
      "application/vnd.jupyter.widget-view+json": {
       "model_id": "93a57e4eca4b40a0b6af16b6f41523a5",
       "version_major": 2,
       "version_minor": 0
      },
      "text/plain": [
       "Grid(columns_fit='size_to_fit', compress_data=True, export_mode='disabled', height='350px', menu={'buttons': […"
      ]
     },
     "metadata": {},
     "output_type": "display_data"
    },
    {
     "data": {
      "text/plain": [
       "None"
      ]
     },
     "metadata": {},
     "output_type": "display_data"
    },
    {
     "data": {
      "text/markdown": [
       "---"
      ],
      "text/plain": [
       "<IPython.core.display.Markdown object>"
      ]
     },
     "metadata": {},
     "output_type": "display_data"
    },
    {
     "data": {
      "text/markdown": [],
      "text/plain": [
       "<IPython.core.display.Markdown object>"
      ]
     },
     "metadata": {},
     "output_type": "display_data"
    },
    {
     "data": {
      "text/markdown": [
       "### Example1"
      ],
      "text/plain": [
       "<IPython.core.display.Markdown object>"
      ]
     },
     "metadata": {},
     "output_type": "display_data"
    },
    {
     "data": {
      "text/markdown": [
       "display single file"
      ],
      "text/plain": [
       "<IPython.core.display.Markdown object>"
      ]
     },
     "metadata": {},
     "output_type": "display_data"
    },
    {
     "data": {
      "application/vnd.jupyter.widget-view+json": {
       "model_id": "16a6fe52256e47edbff1c562f6da4d04",
       "version_major": 2,
       "version_minor": 0
      },
      "text/plain": [
       "VBox(children=(ToggleButton(value=False, button_style='success', description='display/hide files', tooltip='sh…"
      ]
     },
     "metadata": {},
     "output_type": "display_data"
    },
    {
     "data": {
      "text/markdown": [
       "---"
      ],
      "text/plain": [
       "<IPython.core.display.Markdown object>"
      ]
     },
     "metadata": {},
     "output_type": "display_data"
    },
    {
     "data": {
      "text/markdown": [],
      "text/plain": [
       "<IPython.core.display.Markdown object>"
      ]
     },
     "metadata": {},
     "output_type": "display_data"
    },
    {
     "data": {
      "text/markdown": [
       "### Example3"
      ],
      "text/plain": [
       "<IPython.core.display.Markdown object>"
      ]
     },
     "metadata": {},
     "output_type": "display_data"
    },
    {
     "data": {
      "text/markdown": [
       "display eg directory"
      ],
      "text/plain": [
       "<IPython.core.display.Markdown object>"
      ]
     },
     "metadata": {},
     "output_type": "display_data"
    },
    {
     "data": {
      "application/vnd.jupyter.widget-view+json": {
       "model_id": "dd151b6107f342bbbfaa689636e08b93",
       "version_major": 2,
       "version_minor": 0
      },
      "text/plain": [
       "VBox(children=(ToggleButton(value=False, button_style='success', description='display/hide files', tooltip='sh…"
      ]
     },
     "metadata": {},
     "output_type": "display_data"
    },
    {
     "data": {
      "text/markdown": [
       "### Example4"
      ],
      "text/plain": [
       "<IPython.core.display.Markdown object>"
      ]
     },
     "metadata": {},
     "output_type": "display_data"
    },
    {
     "data": {
      "text/markdown": [
       "example, with fpths_ignore and fpth_prefix"
      ],
      "text/plain": [
       "<IPython.core.display.Markdown object>"
      ]
     },
     "metadata": {},
     "output_type": "display_data"
    },
    {
     "data": {
      "application/vnd.jupyter.widget-view+json": {
       "model_id": "e1205729001f41bc9bc7b51accdb3d33",
       "version_major": 2,
       "version_minor": 0
      },
      "text/plain": [
       "VBox(children=(ToggleButton(value=False, button_style='success', description='display/hide files', tooltip='sh…"
      ]
     },
     "metadata": {},
     "output_type": "display_data"
    }
   ],
   "source": [
    "if __name__ =='__main__':\n",
    "    # NOTE FOR FUTURE:\n",
    "    # the below can be used to make documentation that looks at all functions or classes\n",
    "    # rather than only the module level docstring. this would be an update to the PreviewPy class\n",
    "    # +\n",
    "    from inspect import getmembers, isfunction, isclass\n",
    "    from mf_modules import mydocstring_display\n",
    "\n",
    "    functions_list = [o for o in getmembers(mydocstring_display) if isfunction(o[1])]\n",
    "    class_list = [o for o in getmembers(mydocstring_display) if isclass(o[1])]\n",
    "    #functions_list\n",
    "    #class_list\n",
    "    # -\n",
    "\n",
    "    fdir = os.path.dirname(os.path.realpath('__file__'))\n",
    "    rel = os.path.join('..','data','eg_filetypes')\n",
    "    fdir = os.path.realpath(os.path.join(fdir,rel))\n",
    "\n",
    "    fpths = recursive_glob(rootdir=fdir)\n",
    "\n",
    "    # single file\n",
    "    d0 = DisplayFile(fpths[0])\n",
    "    display(Markdown('### Example0'))\n",
    "    display(Markdown('''display single file'''))\n",
    "    display(d0.preview_fpth())\n",
    "    display(Markdown('---'))\n",
    "    display(Markdown(''))\n",
    "\n",
    "    # multiple file\n",
    "    d1 = DisplayFiles(fpths)\n",
    "    display(Markdown('### Example1'))\n",
    "    display(Markdown('''display single file'''))\n",
    "    display(d1)\n",
    "    display(Markdown('---'))\n",
    "    display(Markdown(''))\n",
    "\n",
    "    fdir_eg = os.path.realpath(os.path.join(fdir,'eg_dir'))\n",
    "    d2= DisplayFiles(fdir_eg)\n",
    "    display(Markdown('### Example3'))\n",
    "    display(Markdown('''display eg directory'''))\n",
    "    display(d2)\n",
    "\n",
    "    fdir_eg = os.path.realpath(os.path.join(fdir,'eg_dir'))\n",
    "    d3 = DisplayFiles(fdir_eg, fpths_ignore=['.png'], fpth_prefix='eg')\n",
    "    display(Markdown('### Example4'))\n",
    "    display(Markdown('''example, with fpths_ignore and fpth_prefix'''))\n",
    "    display(d3)"
   ]
  },
  {
   "cell_type": "code",
   "execution_count": null,
   "metadata": {
    "lines_to_next_cell": 2
   },
   "outputs": [],
   "source": []
  }
 ],
 "metadata": {
  "jupytext": {
   "formats": "ipynb,py:light"
  },
  "kernelspec": {
   "display_name": "Python 3",
   "language": "python",
   "name": "python3"
  },
  "language_info": {
   "codemirror_mode": {
    "name": "ipython",
    "version": 3
   },
   "file_extension": ".py",
   "mimetype": "text/x-python",
   "name": "python",
   "nbconvert_exporter": "python",
   "pygments_lexer": "ipython3",
   "version": "3.7.7"
  }
 },
 "nbformat": 4,
 "nbformat_minor": 4
}
