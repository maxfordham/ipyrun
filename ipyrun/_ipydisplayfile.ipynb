{
 "cells": [
  {
   "cell_type": "code",
   "execution_count": 2,
   "metadata": {},
   "outputs": [],
   "source": [
    "import os\n",
    "import pandas as pd\n",
    "from IPython.display import display, Image, JSON, Markdown, HTML, display_pdf, clear_output\n",
    "import time\n",
    "from ipyaggrid import Grid\n",
    "import ipywidgets as widgets\n",
    "from markdown import markdown\n",
    "import plotly.io as pio\n",
    "\n",
    "from mf_modules.mydocstring_display import display_module_docstring\n",
    "from mf_modules.pandas_operations import del_matching\n",
    "from mf_modules.jupyter_formatting import md_fromfile\n",
    "from mf_modules.jupyter_formatting import display_python_file\n",
    "from mf_modules.file_operations import open_file\n",
    "from mf_modules.pydtype_operations import read_json, read_txt, read_yaml"
   ]
  },
  {
   "cell_type": "code",
   "execution_count": 6,
   "metadata": {},
   "outputs": [],
   "source": [
    "\n",
    "def _markdown(value='_Markdown_',\n",
    "              **kwargs):\n",
    "    \"\"\"\n",
    "    a simple template for markdown text input that templates required input\n",
    "    fields. additional user defined fields can be added as kwargs\n",
    "    \"\"\"\n",
    "    _kwargs = {}\n",
    "    _kwargs['value'] = markdown(value)  # required field\n",
    "    _kwargs.update(kwargs)  # user overides\n",
    "    return widgets.HTML(**_kwargs)\n",
    "\n",
    "\n",
    "class PreviewPy():\n",
    "    \"\"\"\n",
    "    pass the class either a filepath or an imported \n",
    "    module and get a display output of the modules\n",
    "    docstring with a toggle option to view the code\n",
    "    \"\"\"\n",
    "    \n",
    "    def __init__(self, module):\n",
    "        self.input = module\n",
    "        self.out = widgets.Output()\n",
    "        self.fpth = self._handle_input()\n",
    "        self._init_form()\n",
    "        self._init_controls()\n",
    "        self._show_docstring()\n",
    "    \n",
    "    def _handle_input(self):\n",
    "        if str(type(self.input)) == \"<class 'module'>\":\n",
    "            fpth = self.input.__file__\n",
    "        else:\n",
    "            fpth = self.input\n",
    "        if os.path.splitext(fpth)[1] !='.py':\n",
    "            print('{0}: not a python file'.format(fpth))\n",
    "        return fpth\n",
    "\n",
    "    def _init_form(self):\n",
    "        self.show_me_the_code = widgets.ToggleButton(description='show source code',\n",
    "                              tooltip='shows the raw python code in the preview window below',\n",
    "                              button_style='info')\n",
    "    def _init_controls(self):\n",
    "        self.show_me_the_code.observe(self._show_me_the_code, 'value')\n",
    "        \n",
    "    def _show_docstring(self):\n",
    "        with self.out:\n",
    "            clear_output()\n",
    "            display(self.show_me_the_code)\n",
    "            display_module_docstring(self.fpth)\n",
    "        \n",
    "    def _show_me_the_code(self, sender):           \n",
    "        with self.out:\n",
    "            clear_output()\n",
    "            if self.show_me_the_code.value:  \n",
    "                display(self.show_me_the_code)\n",
    "                display(display_python_file(self.fpth))\n",
    "            else:\n",
    "                self._show_docstring()\n",
    "                \n",
    "    def display(self):\n",
    "        display(self.out)\n",
    "        \n",
    "    def _ipython_display_(self):\n",
    "        self.display()    \n",
    "        \n",
    "\n",
    "class DisplayFile():\n",
    "    \"\"\"\n",
    "    displays the contents of a file in the notebook. \n",
    "    where this requires data to be loaded in this is stored\n",
    "    as DisplayFile().data. Maps to the appropriate viewer using \n",
    "    the file extension. \n",
    "        self.map = {\n",
    "            '.csv':self.df_prev,\n",
    "            #'.xlsx':self.xl_prev,\n",
    "            '.xlsx':self._open_file,\n",
    "            '.json':self.json_prev,\n",
    "            '.yaml':self.yaml_prev,\n",
    "            '.yml':self.yaml_prev,\n",
    "            '.png':self.img_prev,\n",
    "            '.jpg':self.img_prev,\n",
    "            #'.obj':self.obj_prev,\n",
    "            #'.txt':self.txt_prev,\n",
    "            '.md':self.md_prev,\n",
    "            '.py':self.py_prev,\n",
    "            '.pdf':self._open_file,\n",
    "            '.docx':self._open_file,\n",
    "        }\n",
    "    \"\"\"\n",
    "    def __init__(self,fpth, mf_excel=True):\n",
    "        self.fpth = fpth\n",
    "        self.mf_excel = mf_excel\n",
    "        self.ext = os.path.splitext(fpth)[1].lower()\n",
    "    \n",
    "    @property\n",
    "    def _map(self):\n",
    "        return {\n",
    "            '.csv':self.df_prev,\n",
    "            #'.xlsx':self.xl_prev,\n",
    "            '.xlsx':self._open_option,\n",
    "            '.json':self.json_prev,\n",
    "            '.plotly':self.plotly_prev,\n",
    "            '.yaml':self.yaml_prev,\n",
    "            '.yml':self.yaml_prev,\n",
    "            '.png':self.img_prev,\n",
    "            '.jpg':self.img_prev,\n",
    "            #'.obj':self.obj_prev,\n",
    "            #'.txt':self.txt_prev,\n",
    "            '.md':self.md_prev,\n",
    "            '.py':self.py_prev,\n",
    "            '.pdf':self._open_option,\n",
    "            '.docx':self._open_option,\n",
    "        }\n",
    "    \n",
    "\n",
    "    def preview_fpth(self): \n",
    "        self.ext_map = self._map\n",
    "        if self.ext not in list(self.ext_map.keys()):\n",
    "            self.ext_map[self.ext]=self._open_option           \n",
    "        fn = self.ext_map[self.ext]\n",
    "        fn()\n",
    "        \n",
    "    def _init_controls(self):\n",
    "        self.open_file.on_click(self._open_file)\n",
    "    \n",
    "    def _open_form(self):\n",
    "        self.open_file = widgets.Button(description='open file',button_style='success')\n",
    "        #self.text = widgets.Text(value=self.fpth,locked=True)\n",
    "        self.text = _markdown('`{0}`'.format(self.fpth))\n",
    "        self.open_form = widgets.HBox([self.open_file,self.text])\n",
    "        \n",
    "    def _open_option(self):\n",
    "        self._open_form()\n",
    "        self._init_controls()\n",
    "        display(self.open_form)\n",
    "        \n",
    "    def _open_file(self, sender):\n",
    "        open_file(self.fpth)\n",
    "        self.text.value = markdown('opening: `{0}`'.format(self.fpth))\n",
    "        time.sleep(5)\n",
    "        self.text.value = markdown('`{0}`'.format(self.fpth))\n",
    "        \n",
    "        \n",
    "    def df_prev(self):\n",
    "        \"\"\"\n",
    "        previes dataframe using the awesome ipyagrid\n",
    "        \n",
    "        Reference:\n",
    "            https://dgothrek.gitlab.io/ipyaggrid/\n",
    "        \"\"\"\n",
    "        self.data = del_matching(pd.read_csv(self.fpth),'Unnamed')\n",
    "        try:\n",
    "            #https://dgothrek.gitlab.io/ipyaggrid/\n",
    "            grid_options = {\n",
    "                #'columnDefs' : column_defs,\n",
    "                'enableSorting': True,\n",
    "                'enableFilter': True,\n",
    "                'enableColResize': True,\n",
    "                'enableRangeSelection': True,\n",
    "            }\n",
    "            g = Grid(grid_data=self.data,\n",
    "                    grid_options=grid_options,\n",
    "                    quick_filter=True,\n",
    "                    theme='ag-theme-balham')\n",
    "            display(g)\n",
    "        except:\n",
    "            display(self.data.style)\n",
    "        \n",
    "    def json_prev(self):\n",
    "        self.data = read_json(self.fpth)\n",
    "        display(JSON(self.data))\n",
    "        \n",
    "    def plotly_prev(self):\n",
    "        \"\"\"\n",
    "        display a plotly json file\n",
    "        \"\"\"\n",
    "        display(pio.read_json(self.fpth))\n",
    "            \n",
    "    def yaml_prev(self):\n",
    "        self.data = read_yaml(self.fpth)\n",
    "        display(JSON(self.data))\n",
    "    \n",
    "    def img_prev(self):\n",
    "        display(Image(self.fpth))\n",
    "        \n",
    "    def md_prev(self):\n",
    "        display(Markdown(\"`IMAGES WON'T DISPLAY UNLESS THE MARKDOWN FILE IS IN THE SAME FOLDER AS THIS JUPYTER NOTEBOOK`\"))\n",
    "        md_fromfile(self.fpth)\n",
    "        \n",
    "    def py_prev(self):\n",
    "        \"\"\"\n",
    "        pass the fpth of a python file and get a \n",
    "        rendered view of the code. \n",
    "        \"\"\"\n",
    "        p = PreviewPy(self.fpth)\n",
    "        display(p)\n",
    "        \n",
    "    def xl_prev(self):\n",
    "        \"\"\"\n",
    "        \n",
    "        \"\"\"\n",
    "        if self.mf_excel:\n",
    "            xl = pd.ExcelFile(filename)\n",
    "            sheets = xl.sheet_name\n",
    "        else:\n",
    "            self._open_option()"
   ]
  },
  {
   "cell_type": "code",
   "execution_count": 7,
   "metadata": {},
   "outputs": [],
   "source": [
    "class DisplayFiles():\n",
    "    def __init__(self, fpths):\n",
    "        self.out = widgets.Output();\n",
    "        if type(fpths)!=list:\n",
    "            self.fpths = [fpths]\n",
    "        else:\n",
    "            self.fpths = fpths\n",
    "        self.fnms = [os.path.basename(fpth) for fpth in self.fpths];\n",
    "        self._init_previews()\n",
    "        self._init_form()\n",
    "        self._init_controls()\n",
    "\n",
    "    def _init_previews(self):\n",
    "        self.previews = [DisplayFile(fpth) for fpth in self.fpths];\n",
    "        self.map_previews = dict(zip(self.fnms,self.previews))\n",
    "        self.map_fpths = dict(zip(self.fnms,self.fpths))\n",
    "        \n",
    "    def _init_form(self):\n",
    "        self.outputsfpth = widgets.SelectMultiple(options=self.fnms,\n",
    "                                           layout=widgets.Layout(indent=False,\n",
    "                                                      width='auto',\n",
    "                                                      height='auto',\n",
    "                                                      flex_flow='column'))\n",
    "        self.show_hide = widgets.ToggleButton(description='display/hide files',\n",
    "                              tooltip='shows and hides display outputs of the files selected in the SelectMultiple dropdown menu',\n",
    "                              button_style='success')\n",
    "        \n",
    "    def _init_controls(self):\n",
    "        self.show_hide.observe(self._show_hide, 'value')\n",
    "    \n",
    "    def display_previews(self):\n",
    "        for file in self.outputsfpth.value:\n",
    "            display(Markdown('#### {0}'.format(os.path.splitext(os.path.basename(file))[0])))\n",
    "            s = str(d.map_previews[file]._map[d.map_previews[file].ext])\n",
    "            if 'DisplayFile._open_option' not in s:\n",
    "                display(Markdown('`{0}`'.format(self.map_fpths[file])))\n",
    "            self.map_previews[file].preview_fpth()\n",
    "            \n",
    "    def _show_hide(self, sender):\n",
    "        with self.out:\n",
    "            clear_output()\n",
    "            if self.show_hide.value:  \n",
    "                self.display_previews()\n",
    "            else:\n",
    "                pass\n",
    "        \n",
    "    def display(self):\n",
    "        display(self.show_hide)\n",
    "        display(self.outputsfpth)\n",
    "        display(self.out)\n",
    "        \n",
    "    def _ipython_display_(self):\n",
    "        self.display() "
   ]
  },
  {
   "cell_type": "code",
   "execution_count": 8,
   "metadata": {},
   "outputs": [
    {
     "data": {
      "application/vnd.jupyter.widget-view+json": {
       "model_id": "6df91eefcfae41bf9851fd2c259c6080",
       "version_major": 2,
       "version_minor": 0
      },
      "text/plain": [
       "ToggleButton(value=False, button_style='success', description='display/hide files', tooltip='shows and hides d…"
      ]
     },
     "metadata": {},
     "output_type": "display_data"
    },
    {
     "data": {
      "application/vnd.jupyter.widget-view+json": {
       "model_id": "f4be830c862e4efeacad7f89e9235d2f",
       "version_major": 2,
       "version_minor": 0
      },
      "text/plain": [
       "SelectMultiple(layout=Layout(flex_flow='column', height='auto', width='auto'), options=('eg_csv.csv', 'eg_docx…"
      ]
     },
     "metadata": {},
     "output_type": "display_data"
    },
    {
     "data": {
      "application/vnd.jupyter.widget-view+json": {
       "model_id": "b7f8f48804064360b28fc855b0d4e996",
       "version_major": 2,
       "version_minor": 0
      },
      "text/plain": [
       "Output()"
      ]
     },
     "metadata": {},
     "output_type": "display_data"
    }
   ],
   "source": [
    "if __name__ =='__main__':\n",
    "    fdir = os.path.dirname(os.path.realpath('__file__'))\n",
    "    fdir = os.path.realpath(os.path.join(fdir,r'..\\data\\eg_filetypes'))\n",
    "\n",
    "    from mf_modules.datamine_functions import recursive_glob\n",
    "    fpths = recursive_glob(rootdir=fdir)\n",
    "    \n",
    "    # single file\n",
    "    # d = DisplayFile(fpths[0])\n",
    "    # d.preview_fpth()\n",
    "    \n",
    "    d = DisplayFiles(fpths)\n",
    "    display(d)"
   ]
  }
 ],
 "metadata": {
  "jupytext": {
   "formats": "ipynb,py:light"
  },
  "kernelspec": {
   "display_name": "Python [conda env:mf_main] *",
   "language": "python",
   "name": "conda-env-mf_main-py"
  },
  "language_info": {
   "codemirror_mode": {
    "name": "ipython",
    "version": 3
   },
   "file_extension": ".py",
   "mimetype": "text/x-python",
   "name": "python",
   "nbconvert_exporter": "python",
   "pygments_lexer": "ipython3",
   "version": "3.7.7"
  },
  "widgets": {
   "application/vnd.jupyter.widget-state+json": {
    "state": {
     "0032b7d67d0248f39b30f4a33ca48dac": {
      "model_module": "@jupyter-widgets/base",
      "model_module_version": "1.2.0",
      "model_name": "LayoutModel",
      "state": {
       "flex_flow": "column",
       "height": "auto",
       "width": "auto"
      }
     },
     "0699f72ffb374d9793b9b1d416588802": {
      "model_module": "@jupyter-widgets/controls",
      "model_module_version": "1.5.0",
      "model_name": "DescriptionStyleModel",
      "state": {
       "description_width": ""
      }
     },
     "200577238b82427aa13c5993d7d59591": {
      "model_module": "@jupyter-widgets/base",
      "model_module_version": "1.2.0",
      "model_name": "LayoutModel",
      "state": {}
     },
     "245d5768f7ca49658d1b98286b96597c": {
      "model_module": "@jupyter-widgets/controls",
      "model_module_version": "1.5.0",
      "model_name": "DescriptionStyleModel",
      "state": {
       "description_width": ""
      }
     },
     "6dd60ad5a75242ecb6715d9688f0c71b": {
      "model_module": "@jupyter-widgets/base",
      "model_module_version": "1.2.0",
      "model_name": "LayoutModel",
      "state": {}
     },
     "6df91eefcfae41bf9851fd2c259c6080": {
      "model_module": "@jupyter-widgets/controls",
      "model_module_version": "1.5.0",
      "model_name": "ToggleButtonModel",
      "state": {
       "button_style": "success",
       "description": "display/hide files",
       "layout": "IPY_MODEL_200577238b82427aa13c5993d7d59591",
       "style": "IPY_MODEL_7612702403064f929dc750854dc9018e",
       "tooltip": "shows and hides display outputs of the files selected in the SelectMultiple dropdown menu",
       "value": true
      }
     },
     "6e601fb6bff64cba97d1899799b4c133": {
      "model_module": "@jupyter-widgets/controls",
      "model_module_version": "1.5.0",
      "model_name": "DescriptionStyleModel",
      "state": {
       "description_width": ""
      }
     },
     "70bf1779dc9f49efb987c38b2995902b": {
      "model_module": "@jupyter-widgets/base",
      "model_module_version": "1.2.0",
      "model_name": "LayoutModel",
      "state": {
       "flex_flow": "column",
       "height": "auto",
       "width": "auto"
      }
     },
     "7612702403064f929dc750854dc9018e": {
      "model_module": "@jupyter-widgets/controls",
      "model_module_version": "1.5.0",
      "model_name": "DescriptionStyleModel",
      "state": {
       "description_width": ""
      }
     },
     "b7f8f48804064360b28fc855b0d4e996": {
      "model_module": "@jupyter-widgets/output",
      "model_module_version": "1.0.0",
      "model_name": "OutputModel",
      "state": {
       "layout": "IPY_MODEL_e880bd3f509e402da0365f988defe0a1",
       "outputs": [
        {
         "data": {
          "text/markdown": "#### eg_plotly",
          "text/plain": "<IPython.core.display.Markdown object>"
         },
         "metadata": {},
         "output_type": "display_data"
        },
        {
         "data": {
          "text/markdown": "`C:\\engDev\\git_mf\\ipyrun\\data\\eg_filetypes\\eg_plotly.plotly`",
          "text/plain": "<IPython.core.display.Markdown object>"
         },
         "metadata": {},
         "output_type": "display_data"
        },
        {
         "data": {
          "application/vnd.plotly.v1+json": {
           "config": {
            "plotlyServerURL": "https://plot.ly"
           },
           "data": [
            {
             "connector": {
              "line": {
               "color": "rgb(63, 63, 63)"
              }
             },
             "decreasing": {
              "marker": {
               "color": "lightyellow",
               "line": {
                "color": "grey",
                "width": 0.5
               }
              }
             },
             "increasing": {
              "marker": {
               "color": "tomato"
              }
             },
             "measure": [
              "relative",
              "relative",
              "relative",
              "relative",
              "relative",
              "relative",
              "total"
             ],
             "name": "Energy Use",
             "orientation": "v",
             "text": [
              "Systems on<br> but not<br> commissioned",
              "Hot water<br>pipework<br>re-lagged",
              "Lighting<br> controls<br> optimised",
              "Kill switches<br> enabled",
              "Entrance doors<br> auto-close",
              "Occupant zoning",
              "Optimized<br> Building<br> Performance"
             ],
             "textfont": {
              "size": 24
             },
             "textposition": "outside",
             "totals": {
              "marker": {
               "color": "springgreen",
               "line": {
                "color": "grey",
                "width": 0.5
               }
              }
             },
             "type": "waterfall",
             "x": [
              "Report0",
              "Report1",
              "Report2",
              "Report3",
              "Report4",
              "Report5",
              "Report6"
             ],
             "y": [
              40,
              -8,
              -6,
              -4,
              -5,
              -3,
              14
             ]
            },
            {
             "marker": {
              "color": "grey",
              "line": {
               "color": "grey",
               "width": 2
              },
              "size": 6
             },
             "mode": "lines+markers+text",
             "name": "Passivhaus<br> min",
             "text": [
              "Passivhaus<br> min"
             ],
             "textposition": "top center",
             "type": "scatter",
             "x": [
              "benchmarks"
             ],
             "y": [
              15
             ]
            },
            {
             "marker": {
              "color": "grey",
              "line": {
               "color": "grey",
               "width": 2
              },
              "size": 6
             },
             "mode": "lines+markers+text",
             "name": "MF TM54<br> prediction",
             "text": [
              "MF TM54<br> prediction"
             ],
             "textposition": "bottom center",
             "type": "scatter",
             "x": [
              "benchmarks"
             ],
             "y": [
              12
             ]
            },
            {
             "marker": {
              "color": "grey",
              "line": {
               "color": "grey",
               "width": 2
              },
              "size": 6
             },
             "mode": "lines+markers+text",
             "name": "Part L",
             "text": [
              "Part L"
             ],
             "textposition": "bottom center",
             "type": "scatter",
             "x": [
              "benchmarks"
             ],
             "y": [
              27
             ]
            }
           ],
           "layout": {
            "autosize": false,
            "height": 600,
            "margin": {
             "b": 100,
             "l": 50,
             "pad": 4,
             "r": 50,
             "t": 100
            },
            "paper_bgcolor": "white",
            "shapes": [
             {
              "line": {
               "color": "grey",
               "dash": "dashdot",
               "width": 2
              },
              "type": "line",
              "x0": -1,
              "x1": 7,
              "y0": 15,
              "y1": 15
             },
             {
              "line": {
               "color": "grey",
               "dash": "dashdot",
               "width": 2
              },
              "type": "line",
              "x0": -1,
              "x1": 7,
              "y0": 12,
              "y1": 12
             },
             {
              "line": {
               "color": "grey",
               "dash": "dashdot",
               "width": 2
              },
              "type": "line",
              "x0": -1,
              "x1": 7,
              "y0": 27,
              "y1": 27
             }
            ],
            "showlegend": true,
            "template": {
             "data": {
              "bar": [
               {
                "error_x": {
                 "color": "#2a3f5f"
                },
                "error_y": {
                 "color": "#2a3f5f"
                },
                "marker": {
                 "line": {
                  "color": "white",
                  "width": 0.5
                 }
                },
                "type": "bar"
               }
              ],
              "barpolar": [
               {
                "marker": {
                 "line": {
                  "color": "white",
                  "width": 0.5
                 }
                },
                "type": "barpolar"
               }
              ],
              "carpet": [
               {
                "aaxis": {
                 "endlinecolor": "#2a3f5f",
                 "gridcolor": "#C8D4E3",
                 "linecolor": "#C8D4E3",
                 "minorgridcolor": "#C8D4E3",
                 "startlinecolor": "#2a3f5f"
                },
                "baxis": {
                 "endlinecolor": "#2a3f5f",
                 "gridcolor": "#C8D4E3",
                 "linecolor": "#C8D4E3",
                 "minorgridcolor": "#C8D4E3",
                 "startlinecolor": "#2a3f5f"
                },
                "type": "carpet"
               }
              ],
              "choropleth": [
               {
                "colorbar": {
                 "outlinewidth": 0,
                 "ticks": ""
                },
                "type": "choropleth"
               }
              ],
              "contour": [
               {
                "colorbar": {
                 "outlinewidth": 0,
                 "ticks": ""
                },
                "colorscale": [
                 [
                  0,
                  "#0d0887"
                 ],
                 [
                  0.1111111111111111,
                  "#46039f"
                 ],
                 [
                  0.2222222222222222,
                  "#7201a8"
                 ],
                 [
                  0.3333333333333333,
                  "#9c179e"
                 ],
                 [
                  0.4444444444444444,
                  "#bd3786"
                 ],
                 [
                  0.5555555555555556,
                  "#d8576b"
                 ],
                 [
                  0.6666666666666666,
                  "#ed7953"
                 ],
                 [
                  0.7777777777777778,
                  "#fb9f3a"
                 ],
                 [
                  0.8888888888888888,
                  "#fdca26"
                 ],
                 [
                  1,
                  "#f0f921"
                 ]
                ],
                "type": "contour"
               }
              ],
              "contourcarpet": [
               {
                "colorbar": {
                 "outlinewidth": 0,
                 "ticks": ""
                },
                "type": "contourcarpet"
               }
              ],
              "heatmap": [
               {
                "colorbar": {
                 "outlinewidth": 0,
                 "ticks": ""
                },
                "colorscale": [
                 [
                  0,
                  "#0d0887"
                 ],
                 [
                  0.1111111111111111,
                  "#46039f"
                 ],
                 [
                  0.2222222222222222,
                  "#7201a8"
                 ],
                 [
                  0.3333333333333333,
                  "#9c179e"
                 ],
                 [
                  0.4444444444444444,
                  "#bd3786"
                 ],
                 [
                  0.5555555555555556,
                  "#d8576b"
                 ],
                 [
                  0.6666666666666666,
                  "#ed7953"
                 ],
                 [
                  0.7777777777777778,
                  "#fb9f3a"
                 ],
                 [
                  0.8888888888888888,
                  "#fdca26"
                 ],
                 [
                  1,
                  "#f0f921"
                 ]
                ],
                "type": "heatmap"
               }
              ],
              "heatmapgl": [
               {
                "colorbar": {
                 "outlinewidth": 0,
                 "ticks": ""
                },
                "colorscale": [
                 [
                  0,
                  "#0d0887"
                 ],
                 [
                  0.1111111111111111,
                  "#46039f"
                 ],
                 [
                  0.2222222222222222,
                  "#7201a8"
                 ],
                 [
                  0.3333333333333333,
                  "#9c179e"
                 ],
                 [
                  0.4444444444444444,
                  "#bd3786"
                 ],
                 [
                  0.5555555555555556,
                  "#d8576b"
                 ],
                 [
                  0.6666666666666666,
                  "#ed7953"
                 ],
                 [
                  0.7777777777777778,
                  "#fb9f3a"
                 ],
                 [
                  0.8888888888888888,
                  "#fdca26"
                 ],
                 [
                  1,
                  "#f0f921"
                 ]
                ],
                "type": "heatmapgl"
               }
              ],
              "histogram": [
               {
                "marker": {
                 "colorbar": {
                  "outlinewidth": 0,
                  "ticks": ""
                 }
                },
                "type": "histogram"
               }
              ],
              "histogram2d": [
               {
                "colorbar": {
                 "outlinewidth": 0,
                 "ticks": ""
                },
                "colorscale": [
                 [
                  0,
                  "#0d0887"
                 ],
                 [
                  0.1111111111111111,
                  "#46039f"
                 ],
                 [
                  0.2222222222222222,
                  "#7201a8"
                 ],
                 [
                  0.3333333333333333,
                  "#9c179e"
                 ],
                 [
                  0.4444444444444444,
                  "#bd3786"
                 ],
                 [
                  0.5555555555555556,
                  "#d8576b"
                 ],
                 [
                  0.6666666666666666,
                  "#ed7953"
                 ],
                 [
                  0.7777777777777778,
                  "#fb9f3a"
                 ],
                 [
                  0.8888888888888888,
                  "#fdca26"
                 ],
                 [
                  1,
                  "#f0f921"
                 ]
                ],
                "type": "histogram2d"
               }
              ],
              "histogram2dcontour": [
               {
                "colorbar": {
                 "outlinewidth": 0,
                 "ticks": ""
                },
                "colorscale": [
                 [
                  0,
                  "#0d0887"
                 ],
                 [
                  0.1111111111111111,
                  "#46039f"
                 ],
                 [
                  0.2222222222222222,
                  "#7201a8"
                 ],
                 [
                  0.3333333333333333,
                  "#9c179e"
                 ],
                 [
                  0.4444444444444444,
                  "#bd3786"
                 ],
                 [
                  0.5555555555555556,
                  "#d8576b"
                 ],
                 [
                  0.6666666666666666,
                  "#ed7953"
                 ],
                 [
                  0.7777777777777778,
                  "#fb9f3a"
                 ],
                 [
                  0.8888888888888888,
                  "#fdca26"
                 ],
                 [
                  1,
                  "#f0f921"
                 ]
                ],
                "type": "histogram2dcontour"
               }
              ],
              "mesh3d": [
               {
                "colorbar": {
                 "outlinewidth": 0,
                 "ticks": ""
                },
                "type": "mesh3d"
               }
              ],
              "parcoords": [
               {
                "line": {
                 "colorbar": {
                  "outlinewidth": 0,
                  "ticks": ""
                 }
                },
                "type": "parcoords"
               }
              ],
              "pie": [
               {
                "automargin": true,
                "type": "pie"
               }
              ],
              "scatter": [
               {
                "marker": {
                 "colorbar": {
                  "outlinewidth": 0,
                  "ticks": ""
                 }
                },
                "type": "scatter"
               }
              ],
              "scatter3d": [
               {
                "line": {
                 "colorbar": {
                  "outlinewidth": 0,
                  "ticks": ""
                 }
                },
                "marker": {
                 "colorbar": {
                  "outlinewidth": 0,
                  "ticks": ""
                 }
                },
                "type": "scatter3d"
               }
              ],
              "scattercarpet": [
               {
                "marker": {
                 "colorbar": {
                  "outlinewidth": 0,
                  "ticks": ""
                 }
                },
                "type": "scattercarpet"
               }
              ],
              "scattergeo": [
               {
                "marker": {
                 "colorbar": {
                  "outlinewidth": 0,
                  "ticks": ""
                 }
                },
                "type": "scattergeo"
               }
              ],
              "scattergl": [
               {
                "marker": {
                 "colorbar": {
                  "outlinewidth": 0,
                  "ticks": ""
                 }
                },
                "type": "scattergl"
               }
              ],
              "scattermapbox": [
               {
                "marker": {
                 "colorbar": {
                  "outlinewidth": 0,
                  "ticks": ""
                 }
                },
                "type": "scattermapbox"
               }
              ],
              "scatterpolar": [
               {
                "marker": {
                 "colorbar": {
                  "outlinewidth": 0,
                  "ticks": ""
                 }
                },
                "type": "scatterpolar"
               }
              ],
              "scatterpolargl": [
               {
                "marker": {
                 "colorbar": {
                  "outlinewidth": 0,
                  "ticks": ""
                 }
                },
                "type": "scatterpolargl"
               }
              ],
              "scatterternary": [
               {
                "marker": {
                 "colorbar": {
                  "outlinewidth": 0,
                  "ticks": ""
                 }
                },
                "type": "scatterternary"
               }
              ],
              "surface": [
               {
                "colorbar": {
                 "outlinewidth": 0,
                 "ticks": ""
                },
                "colorscale": [
                 [
                  0,
                  "#0d0887"
                 ],
                 [
                  0.1111111111111111,
                  "#46039f"
                 ],
                 [
                  0.2222222222222222,
                  "#7201a8"
                 ],
                 [
                  0.3333333333333333,
                  "#9c179e"
                 ],
                 [
                  0.4444444444444444,
                  "#bd3786"
                 ],
                 [
                  0.5555555555555556,
                  "#d8576b"
                 ],
                 [
                  0.6666666666666666,
                  "#ed7953"
                 ],
                 [
                  0.7777777777777778,
                  "#fb9f3a"
                 ],
                 [
                  0.8888888888888888,
                  "#fdca26"
                 ],
                 [
                  1,
                  "#f0f921"
                 ]
                ],
                "type": "surface"
               }
              ],
              "table": [
               {
                "cells": {
                 "fill": {
                  "color": "#EBF0F8"
                 },
                 "line": {
                  "color": "white"
                 }
                },
                "header": {
                 "fill": {
                  "color": "#C8D4E3"
                 },
                 "line": {
                  "color": "white"
                 }
                },
                "type": "table"
               }
              ]
             },
             "layout": {
              "annotationdefaults": {
               "arrowcolor": "#2a3f5f",
               "arrowhead": 0,
               "arrowwidth": 1
              },
              "coloraxis": {
               "colorbar": {
                "outlinewidth": 0,
                "ticks": ""
               }
              },
              "colorscale": {
               "diverging": [
                [
                 0,
                 "#8e0152"
                ],
                [
                 0.1,
                 "#c51b7d"
                ],
                [
                 0.2,
                 "#de77ae"
                ],
                [
                 0.3,
                 "#f1b6da"
                ],
                [
                 0.4,
                 "#fde0ef"
                ],
                [
                 0.5,
                 "#f7f7f7"
                ],
                [
                 0.6,
                 "#e6f5d0"
                ],
                [
                 0.7,
                 "#b8e186"
                ],
                [
                 0.8,
                 "#7fbc41"
                ],
                [
                 0.9,
                 "#4d9221"
                ],
                [
                 1,
                 "#276419"
                ]
               ],
               "sequential": [
                [
                 0,
                 "#0d0887"
                ],
                [
                 0.1111111111111111,
                 "#46039f"
                ],
                [
                 0.2222222222222222,
                 "#7201a8"
                ],
                [
                 0.3333333333333333,
                 "#9c179e"
                ],
                [
                 0.4444444444444444,
                 "#bd3786"
                ],
                [
                 0.5555555555555556,
                 "#d8576b"
                ],
                [
                 0.6666666666666666,
                 "#ed7953"
                ],
                [
                 0.7777777777777778,
                 "#fb9f3a"
                ],
                [
                 0.8888888888888888,
                 "#fdca26"
                ],
                [
                 1,
                 "#f0f921"
                ]
               ],
               "sequentialminus": [
                [
                 0,
                 "#0d0887"
                ],
                [
                 0.1111111111111111,
                 "#46039f"
                ],
                [
                 0.2222222222222222,
                 "#7201a8"
                ],
                [
                 0.3333333333333333,
                 "#9c179e"
                ],
                [
                 0.4444444444444444,
                 "#bd3786"
                ],
                [
                 0.5555555555555556,
                 "#d8576b"
                ],
                [
                 0.6666666666666666,
                 "#ed7953"
                ],
                [
                 0.7777777777777778,
                 "#fb9f3a"
                ],
                [
                 0.8888888888888888,
                 "#fdca26"
                ],
                [
                 1,
                 "#f0f921"
                ]
               ]
              },
              "colorway": [
               "#636efa",
               "#EF553B",
               "#00cc96",
               "#ab63fa",
               "#FFA15A",
               "#19d3f3",
               "#FF6692",
               "#B6E880",
               "#FF97FF",
               "#FECB52"
              ],
              "font": {
               "color": "#2a3f5f"
              },
              "geo": {
               "bgcolor": "white",
               "lakecolor": "white",
               "landcolor": "white",
               "showlakes": true,
               "showland": true,
               "subunitcolor": "#C8D4E3"
              },
              "hoverlabel": {
               "align": "left"
              },
              "hovermode": "closest",
              "mapbox": {
               "style": "light"
              },
              "paper_bgcolor": "white",
              "plot_bgcolor": "white",
              "polar": {
               "angularaxis": {
                "gridcolor": "#EBF0F8",
                "linecolor": "#EBF0F8",
                "ticks": ""
               },
               "bgcolor": "white",
               "radialaxis": {
                "gridcolor": "#EBF0F8",
                "linecolor": "#EBF0F8",
                "ticks": ""
               }
              },
              "scene": {
               "xaxis": {
                "backgroundcolor": "white",
                "gridcolor": "#DFE8F3",
                "gridwidth": 2,
                "linecolor": "#EBF0F8",
                "showbackground": true,
                "ticks": "",
                "zerolinecolor": "#EBF0F8"
               },
               "yaxis": {
                "backgroundcolor": "white",
                "gridcolor": "#DFE8F3",
                "gridwidth": 2,
                "linecolor": "#EBF0F8",
                "showbackground": true,
                "ticks": "",
                "zerolinecolor": "#EBF0F8"
               },
               "zaxis": {
                "backgroundcolor": "white",
                "gridcolor": "#DFE8F3",
                "gridwidth": 2,
                "linecolor": "#EBF0F8",
                "showbackground": true,
                "ticks": "",
                "zerolinecolor": "#EBF0F8"
               }
              },
              "shapedefaults": {
               "line": {
                "color": "#2a3f5f"
               }
              },
              "ternary": {
               "aaxis": {
                "gridcolor": "#DFE8F3",
                "linecolor": "#A2B1C6",
                "ticks": ""
               },
               "baxis": {
                "gridcolor": "#DFE8F3",
                "linecolor": "#A2B1C6",
                "ticks": ""
               },
               "bgcolor": "white",
               "caxis": {
                "gridcolor": "#DFE8F3",
                "linecolor": "#A2B1C6",
                "ticks": ""
               }
              },
              "title": {
               "x": 0.05
              },
              "xaxis": {
               "automargin": true,
               "gridcolor": "#EBF0F8",
               "linecolor": "#EBF0F8",
               "ticks": "",
               "title": {
                "standoff": 15
               },
               "zerolinecolor": "#EBF0F8",
               "zerolinewidth": 2
              },
              "yaxis": {
               "automargin": true,
               "gridcolor": "#EBF0F8",
               "linecolor": "#EBF0F8",
               "ticks": "",
               "title": {
                "standoff": 15
               },
               "zerolinecolor": "#EBF0F8",
               "zerolinewidth": 2
              }
             }
            },
            "title": {
             "text": "DataDriven Commissioning and PoE period"
            },
            "width": 1000,
            "xaxis": {
             "autorange": true,
             "range": [
              -1.0105792118487174,
              7.463369478973816
             ],
             "type": "category"
            },
            "yaxis": {
             "range": [
              0,
              50
             ],
             "title": {
              "text": "estimated energy use (kwhr/m2.yr)"
             },
             "type": "linear"
            }
           }
          },
          "text/html": "<div>\n        \n        \n            <div id=\"ef52d1f9-f3fd-4195-9e2e-970a5cb9a5aa\" class=\"plotly-graph-div\" style=\"height:600px; width:1000px;\"></div>\n            <script type=\"text/javascript\">\n                require([\"plotly\"], function(Plotly) {\n                    window.PLOTLYENV=window.PLOTLYENV || {};\n                    \n                if (document.getElementById(\"ef52d1f9-f3fd-4195-9e2e-970a5cb9a5aa\")) {\n                    Plotly.newPlot(\n                        'ef52d1f9-f3fd-4195-9e2e-970a5cb9a5aa',\n                        [{\"connector\": {\"line\": {\"color\": \"rgb(63, 63, 63)\"}}, \"decreasing\": {\"marker\": {\"color\": \"lightyellow\", \"line\": {\"color\": \"grey\", \"width\": 0.5}}}, \"increasing\": {\"marker\": {\"color\": \"tomato\"}}, \"measure\": [\"relative\", \"relative\", \"relative\", \"relative\", \"relative\", \"relative\", \"total\"], \"name\": \"Energy Use\", \"orientation\": \"v\", \"text\": [\"Systems on<br> but not<br> commissioned\", \"Hot water<br>pipework<br>re-lagged\", \"Lighting<br> controls<br> optimised\", \"Kill switches<br> enabled\", \"Entrance doors<br> auto-close\", \"Occupant zoning\", \"Optimized<br> Building<br> Performance\"], \"textfont\": {\"size\": 24}, \"textposition\": \"outside\", \"totals\": {\"marker\": {\"color\": \"springgreen\", \"line\": {\"color\": \"grey\", \"width\": 0.5}}}, \"type\": \"waterfall\", \"x\": [\"Report0\", \"Report1\", \"Report2\", \"Report3\", \"Report4\", \"Report5\", \"Report6\"], \"y\": [40, -8, -6, -4, -5, -3, 14]}, {\"marker\": {\"color\": \"grey\", \"line\": {\"color\": \"grey\", \"width\": 2}, \"size\": 6}, \"mode\": \"lines+markers+text\", \"name\": \"Passivhaus<br> min\", \"text\": [\"Passivhaus<br> min\"], \"textposition\": \"top center\", \"type\": \"scatter\", \"x\": [\"benchmarks\"], \"y\": [15]}, {\"marker\": {\"color\": \"grey\", \"line\": {\"color\": \"grey\", \"width\": 2}, \"size\": 6}, \"mode\": \"lines+markers+text\", \"name\": \"MF TM54<br> prediction\", \"text\": [\"MF TM54<br> prediction\"], \"textposition\": \"bottom center\", \"type\": \"scatter\", \"x\": [\"benchmarks\"], \"y\": [12]}, {\"marker\": {\"color\": \"grey\", \"line\": {\"color\": \"grey\", \"width\": 2}, \"size\": 6}, \"mode\": \"lines+markers+text\", \"name\": \"Part L\", \"text\": [\"Part L\"], \"textposition\": \"bottom center\", \"type\": \"scatter\", \"x\": [\"benchmarks\"], \"y\": [27]}],\n                        {\"autosize\": false, \"height\": 600, \"margin\": {\"b\": 100, \"l\": 50, \"pad\": 4, \"r\": 50, \"t\": 100}, \"paper_bgcolor\": \"white\", \"shapes\": [{\"line\": {\"color\": \"grey\", \"dash\": \"dashdot\", \"width\": 2}, \"type\": \"line\", \"x0\": -1, \"x1\": 7, \"y0\": 15, \"y1\": 15}, {\"line\": {\"color\": \"grey\", \"dash\": \"dashdot\", \"width\": 2}, \"type\": \"line\", \"x0\": -1, \"x1\": 7, \"y0\": 12, \"y1\": 12}, {\"line\": {\"color\": \"grey\", \"dash\": \"dashdot\", \"width\": 2}, \"type\": \"line\", \"x0\": -1, \"x1\": 7, \"y0\": 27, \"y1\": 27}], \"showlegend\": true, \"template\": {\"data\": {\"bar\": [{\"error_x\": {\"color\": \"#2a3f5f\"}, \"error_y\": {\"color\": \"#2a3f5f\"}, \"marker\": {\"line\": {\"color\": \"white\", \"width\": 0.5}}, \"type\": \"bar\"}], \"barpolar\": [{\"marker\": {\"line\": {\"color\": \"white\", \"width\": 0.5}}, \"type\": \"barpolar\"}], \"carpet\": [{\"aaxis\": {\"endlinecolor\": \"#2a3f5f\", \"gridcolor\": \"#C8D4E3\", \"linecolor\": \"#C8D4E3\", \"minorgridcolor\": \"#C8D4E3\", \"startlinecolor\": \"#2a3f5f\"}, \"baxis\": {\"endlinecolor\": \"#2a3f5f\", \"gridcolor\": \"#C8D4E3\", \"linecolor\": \"#C8D4E3\", \"minorgridcolor\": \"#C8D4E3\", \"startlinecolor\": \"#2a3f5f\"}, \"type\": \"carpet\"}], \"choropleth\": [{\"colorbar\": {\"outlinewidth\": 0, \"ticks\": \"\"}, \"type\": \"choropleth\"}], \"contour\": [{\"colorbar\": {\"outlinewidth\": 0, \"ticks\": \"\"}, \"colorscale\": [[0.0, \"#0d0887\"], [0.1111111111111111, \"#46039f\"], [0.2222222222222222, \"#7201a8\"], [0.3333333333333333, \"#9c179e\"], [0.4444444444444444, \"#bd3786\"], [0.5555555555555556, \"#d8576b\"], [0.6666666666666666, \"#ed7953\"], [0.7777777777777778, \"#fb9f3a\"], [0.8888888888888888, \"#fdca26\"], [1.0, \"#f0f921\"]], \"type\": \"contour\"}], \"contourcarpet\": [{\"colorbar\": {\"outlinewidth\": 0, \"ticks\": \"\"}, \"type\": \"contourcarpet\"}], \"heatmap\": [{\"colorbar\": {\"outlinewidth\": 0, \"ticks\": \"\"}, \"colorscale\": [[0.0, \"#0d0887\"], [0.1111111111111111, \"#46039f\"], [0.2222222222222222, \"#7201a8\"], [0.3333333333333333, \"#9c179e\"], [0.4444444444444444, \"#bd3786\"], [0.5555555555555556, \"#d8576b\"], [0.6666666666666666, \"#ed7953\"], [0.7777777777777778, \"#fb9f3a\"], [0.8888888888888888, \"#fdca26\"], [1.0, \"#f0f921\"]], \"type\": \"heatmap\"}], \"heatmapgl\": [{\"colorbar\": {\"outlinewidth\": 0, \"ticks\": \"\"}, \"colorscale\": [[0.0, \"#0d0887\"], [0.1111111111111111, \"#46039f\"], [0.2222222222222222, \"#7201a8\"], [0.3333333333333333, \"#9c179e\"], [0.4444444444444444, \"#bd3786\"], [0.5555555555555556, \"#d8576b\"], [0.6666666666666666, \"#ed7953\"], [0.7777777777777778, \"#fb9f3a\"], [0.8888888888888888, \"#fdca26\"], [1.0, \"#f0f921\"]], \"type\": \"heatmapgl\"}], \"histogram\": [{\"marker\": {\"colorbar\": {\"outlinewidth\": 0, \"ticks\": \"\"}}, \"type\": \"histogram\"}], \"histogram2d\": [{\"colorbar\": {\"outlinewidth\": 0, \"ticks\": \"\"}, \"colorscale\": [[0.0, \"#0d0887\"], [0.1111111111111111, \"#46039f\"], [0.2222222222222222, \"#7201a8\"], [0.3333333333333333, \"#9c179e\"], [0.4444444444444444, \"#bd3786\"], [0.5555555555555556, \"#d8576b\"], [0.6666666666666666, \"#ed7953\"], [0.7777777777777778, \"#fb9f3a\"], [0.8888888888888888, \"#fdca26\"], [1.0, \"#f0f921\"]], \"type\": \"histogram2d\"}], \"histogram2dcontour\": [{\"colorbar\": {\"outlinewidth\": 0, \"ticks\": \"\"}, \"colorscale\": [[0.0, \"#0d0887\"], [0.1111111111111111, \"#46039f\"], [0.2222222222222222, \"#7201a8\"], [0.3333333333333333, \"#9c179e\"], [0.4444444444444444, \"#bd3786\"], [0.5555555555555556, \"#d8576b\"], [0.6666666666666666, \"#ed7953\"], [0.7777777777777778, \"#fb9f3a\"], [0.8888888888888888, \"#fdca26\"], [1.0, \"#f0f921\"]], \"type\": \"histogram2dcontour\"}], \"mesh3d\": [{\"colorbar\": {\"outlinewidth\": 0, \"ticks\": \"\"}, \"type\": \"mesh3d\"}], \"parcoords\": [{\"line\": {\"colorbar\": {\"outlinewidth\": 0, \"ticks\": \"\"}}, \"type\": \"parcoords\"}], \"pie\": [{\"automargin\": true, \"type\": \"pie\"}], \"scatter\": [{\"marker\": {\"colorbar\": {\"outlinewidth\": 0, \"ticks\": \"\"}}, \"type\": \"scatter\"}], \"scatter3d\": [{\"line\": {\"colorbar\": {\"outlinewidth\": 0, \"ticks\": \"\"}}, \"marker\": {\"colorbar\": {\"outlinewidth\": 0, \"ticks\": \"\"}}, \"type\": \"scatter3d\"}], \"scattercarpet\": [{\"marker\": {\"colorbar\": {\"outlinewidth\": 0, \"ticks\": \"\"}}, \"type\": \"scattercarpet\"}], \"scattergeo\": [{\"marker\": {\"colorbar\": {\"outlinewidth\": 0, \"ticks\": \"\"}}, \"type\": \"scattergeo\"}], \"scattergl\": [{\"marker\": {\"colorbar\": {\"outlinewidth\": 0, \"ticks\": \"\"}}, \"type\": \"scattergl\"}], \"scattermapbox\": [{\"marker\": {\"colorbar\": {\"outlinewidth\": 0, \"ticks\": \"\"}}, \"type\": \"scattermapbox\"}], \"scatterpolar\": [{\"marker\": {\"colorbar\": {\"outlinewidth\": 0, \"ticks\": \"\"}}, \"type\": \"scatterpolar\"}], \"scatterpolargl\": [{\"marker\": {\"colorbar\": {\"outlinewidth\": 0, \"ticks\": \"\"}}, \"type\": \"scatterpolargl\"}], \"scatterternary\": [{\"marker\": {\"colorbar\": {\"outlinewidth\": 0, \"ticks\": \"\"}}, \"type\": \"scatterternary\"}], \"surface\": [{\"colorbar\": {\"outlinewidth\": 0, \"ticks\": \"\"}, \"colorscale\": [[0.0, \"#0d0887\"], [0.1111111111111111, \"#46039f\"], [0.2222222222222222, \"#7201a8\"], [0.3333333333333333, \"#9c179e\"], [0.4444444444444444, \"#bd3786\"], [0.5555555555555556, \"#d8576b\"], [0.6666666666666666, \"#ed7953\"], [0.7777777777777778, \"#fb9f3a\"], [0.8888888888888888, \"#fdca26\"], [1.0, \"#f0f921\"]], \"type\": \"surface\"}], \"table\": [{\"cells\": {\"fill\": {\"color\": \"#EBF0F8\"}, \"line\": {\"color\": \"white\"}}, \"header\": {\"fill\": {\"color\": \"#C8D4E3\"}, \"line\": {\"color\": \"white\"}}, \"type\": \"table\"}]}, \"layout\": {\"annotationdefaults\": {\"arrowcolor\": \"#2a3f5f\", \"arrowhead\": 0, \"arrowwidth\": 1}, \"coloraxis\": {\"colorbar\": {\"outlinewidth\": 0, \"ticks\": \"\"}}, \"colorscale\": {\"diverging\": [[0, \"#8e0152\"], [0.1, \"#c51b7d\"], [0.2, \"#de77ae\"], [0.3, \"#f1b6da\"], [0.4, \"#fde0ef\"], [0.5, \"#f7f7f7\"], [0.6, \"#e6f5d0\"], [0.7, \"#b8e186\"], [0.8, \"#7fbc41\"], [0.9, \"#4d9221\"], [1, \"#276419\"]], \"sequential\": [[0.0, \"#0d0887\"], [0.1111111111111111, \"#46039f\"], [0.2222222222222222, \"#7201a8\"], [0.3333333333333333, \"#9c179e\"], [0.4444444444444444, \"#bd3786\"], [0.5555555555555556, \"#d8576b\"], [0.6666666666666666, \"#ed7953\"], [0.7777777777777778, \"#fb9f3a\"], [0.8888888888888888, \"#fdca26\"], [1.0, \"#f0f921\"]], \"sequentialminus\": [[0.0, \"#0d0887\"], [0.1111111111111111, \"#46039f\"], [0.2222222222222222, \"#7201a8\"], [0.3333333333333333, \"#9c179e\"], [0.4444444444444444, \"#bd3786\"], [0.5555555555555556, \"#d8576b\"], [0.6666666666666666, \"#ed7953\"], [0.7777777777777778, \"#fb9f3a\"], [0.8888888888888888, \"#fdca26\"], [1.0, \"#f0f921\"]]}, \"colorway\": [\"#636efa\", \"#EF553B\", \"#00cc96\", \"#ab63fa\", \"#FFA15A\", \"#19d3f3\", \"#FF6692\", \"#B6E880\", \"#FF97FF\", \"#FECB52\"], \"font\": {\"color\": \"#2a3f5f\"}, \"geo\": {\"bgcolor\": \"white\", \"lakecolor\": \"white\", \"landcolor\": \"white\", \"showlakes\": true, \"showland\": true, \"subunitcolor\": \"#C8D4E3\"}, \"hoverlabel\": {\"align\": \"left\"}, \"hovermode\": \"closest\", \"mapbox\": {\"style\": \"light\"}, \"paper_bgcolor\": \"white\", \"plot_bgcolor\": \"white\", \"polar\": {\"angularaxis\": {\"gridcolor\": \"#EBF0F8\", \"linecolor\": \"#EBF0F8\", \"ticks\": \"\"}, \"bgcolor\": \"white\", \"radialaxis\": {\"gridcolor\": \"#EBF0F8\", \"linecolor\": \"#EBF0F8\", \"ticks\": \"\"}}, \"scene\": {\"xaxis\": {\"backgroundcolor\": \"white\", \"gridcolor\": \"#DFE8F3\", \"gridwidth\": 2, \"linecolor\": \"#EBF0F8\", \"showbackground\": true, \"ticks\": \"\", \"zerolinecolor\": \"#EBF0F8\"}, \"yaxis\": {\"backgroundcolor\": \"white\", \"gridcolor\": \"#DFE8F3\", \"gridwidth\": 2, \"linecolor\": \"#EBF0F8\", \"showbackground\": true, \"ticks\": \"\", \"zerolinecolor\": \"#EBF0F8\"}, \"zaxis\": {\"backgroundcolor\": \"white\", \"gridcolor\": \"#DFE8F3\", \"gridwidth\": 2, \"linecolor\": \"#EBF0F8\", \"showbackground\": true, \"ticks\": \"\", \"zerolinecolor\": \"#EBF0F8\"}}, \"shapedefaults\": {\"line\": {\"color\": \"#2a3f5f\"}}, \"ternary\": {\"aaxis\": {\"gridcolor\": \"#DFE8F3\", \"linecolor\": \"#A2B1C6\", \"ticks\": \"\"}, \"baxis\": {\"gridcolor\": \"#DFE8F3\", \"linecolor\": \"#A2B1C6\", \"ticks\": \"\"}, \"bgcolor\": \"white\", \"caxis\": {\"gridcolor\": \"#DFE8F3\", \"linecolor\": \"#A2B1C6\", \"ticks\": \"\"}}, \"title\": {\"x\": 0.05}, \"xaxis\": {\"automargin\": true, \"gridcolor\": \"#EBF0F8\", \"linecolor\": \"#EBF0F8\", \"ticks\": \"\", \"title\": {\"standoff\": 15}, \"zerolinecolor\": \"#EBF0F8\", \"zerolinewidth\": 2}, \"yaxis\": {\"automargin\": true, \"gridcolor\": \"#EBF0F8\", \"linecolor\": \"#EBF0F8\", \"ticks\": \"\", \"title\": {\"standoff\": 15}, \"zerolinecolor\": \"#EBF0F8\", \"zerolinewidth\": 2}}}, \"title\": {\"text\": \"DataDriven Commissioning and PoE period\"}, \"width\": 1000, \"yaxis\": {\"range\": [0, 50], \"title\": {\"text\": \"estimated energy use (kwhr/m2.yr)\"}}},\n                        {\"responsive\": true}\n                    ).then(function(){\n                            \nvar gd = document.getElementById('ef52d1f9-f3fd-4195-9e2e-970a5cb9a5aa');\nvar x = new MutationObserver(function (mutations, observer) {{\n        var display = window.getComputedStyle(gd).display;\n        if (!display || display === 'none') {{\n            console.log([gd, 'removed!']);\n            Plotly.purge(gd);\n            observer.disconnect();\n        }}\n}});\n\n// Listen for the removal of the full notebook cells\nvar notebookContainer = gd.closest('#notebook-container');\nif (notebookContainer) {{\n    x.observe(notebookContainer, {childList: true});\n}}\n\n// Listen for the clearing of the current output cell\nvar outputEl = gd.closest('.output');\nif (outputEl) {{\n    x.observe(outputEl, {childList: true});\n}}\n\n                        })\n                };\n                });\n            </script>\n        </div>"
         },
         "metadata": {},
         "output_type": "display_data"
        }
       ]
      }
     },
     "bcc93d2432aa45e299050ae875203322": {
      "model_module": "@jupyter-widgets/base",
      "model_module_version": "1.2.0",
      "model_name": "LayoutModel",
      "state": {}
     },
     "d861258f00894497aac2d01a6be42fc6": {
      "model_module": "@jupyter-widgets/output",
      "model_module_version": "1.0.0",
      "model_name": "OutputModel",
      "state": {
       "layout": "IPY_MODEL_6dd60ad5a75242ecb6715d9688f0c71b",
       "outputs": [
        {
         "data": {
          "text/markdown": "#### eg_plotly",
          "text/plain": "<IPython.core.display.Markdown object>"
         },
         "metadata": {},
         "output_type": "display_data"
        },
        {
         "data": {
          "text/markdown": "`C:\\engDev\\git_mf\\ipyrun\\data\\eg_filetypes\\eg_plotly.plotly`",
          "text/plain": "<IPython.core.display.Markdown object>"
         },
         "metadata": {},
         "output_type": "display_data"
        },
        {
         "ename": "NameError",
         "evalue": "name 'fpth' is not defined",
         "output_type": "error",
         "traceback": [
          "\u001b[1;31m---------------------------------------------------------------------------\u001b[0m",
          "\u001b[1;31mNameError\u001b[0m                                 Traceback (most recent call last)",
          "\u001b[1;32m<ipython-input-4-52aac5cd107b>\u001b[0m in \u001b[0;36m_show_hide\u001b[1;34m(self, sender)\u001b[0m\n\u001b[0;32m     41\u001b[0m             \u001b[0mclear_output\u001b[0m\u001b[1;33m(\u001b[0m\u001b[1;33m)\u001b[0m\u001b[1;33m\u001b[0m\u001b[1;33m\u001b[0m\u001b[0m\n\u001b[0;32m     42\u001b[0m             \u001b[1;32mif\u001b[0m \u001b[0mself\u001b[0m\u001b[1;33m.\u001b[0m\u001b[0mshow_hide\u001b[0m\u001b[1;33m.\u001b[0m\u001b[0mvalue\u001b[0m\u001b[1;33m:\u001b[0m\u001b[1;33m\u001b[0m\u001b[1;33m\u001b[0m\u001b[0m\n\u001b[1;32m---> 43\u001b[1;33m                 \u001b[0mself\u001b[0m\u001b[1;33m.\u001b[0m\u001b[0mdisplay_previews\u001b[0m\u001b[1;33m(\u001b[0m\u001b[1;33m)\u001b[0m\u001b[1;33m\u001b[0m\u001b[1;33m\u001b[0m\u001b[0m\n\u001b[0m\u001b[0;32m     44\u001b[0m             \u001b[1;32melse\u001b[0m\u001b[1;33m:\u001b[0m\u001b[1;33m\u001b[0m\u001b[1;33m\u001b[0m\u001b[0m\n\u001b[0;32m     45\u001b[0m                 \u001b[1;32mpass\u001b[0m\u001b[1;33m\u001b[0m\u001b[1;33m\u001b[0m\u001b[0m\n",
          "\u001b[1;32m<ipython-input-4-52aac5cd107b>\u001b[0m in \u001b[0;36mdisplay_previews\u001b[1;34m(self)\u001b[0m\n\u001b[0;32m     35\u001b[0m             \u001b[1;32mif\u001b[0m \u001b[1;34m'DisplayFile._open_option'\u001b[0m \u001b[1;32mnot\u001b[0m \u001b[1;32min\u001b[0m \u001b[0ms\u001b[0m\u001b[1;33m:\u001b[0m\u001b[1;33m\u001b[0m\u001b[1;33m\u001b[0m\u001b[0m\n\u001b[0;32m     36\u001b[0m                 \u001b[0mdisplay\u001b[0m\u001b[1;33m(\u001b[0m\u001b[0mMarkdown\u001b[0m\u001b[1;33m(\u001b[0m\u001b[1;34m'`{0}`'\u001b[0m\u001b[1;33m.\u001b[0m\u001b[0mformat\u001b[0m\u001b[1;33m(\u001b[0m\u001b[0mself\u001b[0m\u001b[1;33m.\u001b[0m\u001b[0mmap_fpths\u001b[0m\u001b[1;33m[\u001b[0m\u001b[0mfile\u001b[0m\u001b[1;33m]\u001b[0m\u001b[1;33m)\u001b[0m\u001b[1;33m)\u001b[0m\u001b[1;33m)\u001b[0m\u001b[1;33m\u001b[0m\u001b[1;33m\u001b[0m\u001b[0m\n\u001b[1;32m---> 37\u001b[1;33m             \u001b[0mself\u001b[0m\u001b[1;33m.\u001b[0m\u001b[0mmap_previews\u001b[0m\u001b[1;33m[\u001b[0m\u001b[0mfile\u001b[0m\u001b[1;33m]\u001b[0m\u001b[1;33m.\u001b[0m\u001b[0mpreview_fpth\u001b[0m\u001b[1;33m(\u001b[0m\u001b[1;33m)\u001b[0m\u001b[1;33m\u001b[0m\u001b[1;33m\u001b[0m\u001b[0m\n\u001b[0m\u001b[0;32m     38\u001b[0m \u001b[1;33m\u001b[0m\u001b[0m\n\u001b[0;32m     39\u001b[0m     \u001b[1;32mdef\u001b[0m \u001b[0m_show_hide\u001b[0m\u001b[1;33m(\u001b[0m\u001b[0mself\u001b[0m\u001b[1;33m,\u001b[0m \u001b[0msender\u001b[0m\u001b[1;33m)\u001b[0m\u001b[1;33m:\u001b[0m\u001b[1;33m\u001b[0m\u001b[1;33m\u001b[0m\u001b[0m\n",
          "\u001b[1;32m<ipython-input-3-114224acb84a>\u001b[0m in \u001b[0;36mpreview_fpth\u001b[1;34m(self)\u001b[0m\n\u001b[0;32m    118\u001b[0m             \u001b[0mself\u001b[0m\u001b[1;33m.\u001b[0m\u001b[0mext_map\u001b[0m\u001b[1;33m[\u001b[0m\u001b[0mself\u001b[0m\u001b[1;33m.\u001b[0m\u001b[0mext\u001b[0m\u001b[1;33m]\u001b[0m\u001b[1;33m=\u001b[0m\u001b[0mself\u001b[0m\u001b[1;33m.\u001b[0m\u001b[0m_open_option\u001b[0m\u001b[1;33m\u001b[0m\u001b[1;33m\u001b[0m\u001b[0m\n\u001b[0;32m    119\u001b[0m         \u001b[0mfn\u001b[0m \u001b[1;33m=\u001b[0m \u001b[0mself\u001b[0m\u001b[1;33m.\u001b[0m\u001b[0mext_map\u001b[0m\u001b[1;33m[\u001b[0m\u001b[0mself\u001b[0m\u001b[1;33m.\u001b[0m\u001b[0mext\u001b[0m\u001b[1;33m]\u001b[0m\u001b[1;33m\u001b[0m\u001b[1;33m\u001b[0m\u001b[0m\n\u001b[1;32m--> 120\u001b[1;33m         \u001b[0mfn\u001b[0m\u001b[1;33m(\u001b[0m\u001b[1;33m)\u001b[0m\u001b[1;33m\u001b[0m\u001b[1;33m\u001b[0m\u001b[0m\n\u001b[0m\u001b[0;32m    121\u001b[0m \u001b[1;33m\u001b[0m\u001b[0m\n\u001b[0;32m    122\u001b[0m     \u001b[1;32mdef\u001b[0m \u001b[0m_init_controls\u001b[0m\u001b[1;33m(\u001b[0m\u001b[0mself\u001b[0m\u001b[1;33m)\u001b[0m\u001b[1;33m:\u001b[0m\u001b[1;33m\u001b[0m\u001b[1;33m\u001b[0m\u001b[0m\n",
          "\u001b[1;32m<ipython-input-3-114224acb84a>\u001b[0m in \u001b[0;36mplotly_prev\u001b[1;34m(self)\u001b[0m\n\u001b[0;32m    174\u001b[0m         \u001b[0mdisplay\u001b[0m \u001b[0ma\u001b[0m \u001b[0mplotly\u001b[0m \u001b[0mjson\u001b[0m \u001b[0mfile\u001b[0m\u001b[1;33m\u001b[0m\u001b[1;33m\u001b[0m\u001b[0m\n\u001b[0;32m    175\u001b[0m         \"\"\"\n\u001b[1;32m--> 176\u001b[1;33m         \u001b[0mdisplay\u001b[0m\u001b[1;33m(\u001b[0m\u001b[0mpio\u001b[0m\u001b[1;33m.\u001b[0m\u001b[0mread_json\u001b[0m\u001b[1;33m(\u001b[0m\u001b[0mfpth\u001b[0m\u001b[1;33m)\u001b[0m\u001b[1;33m)\u001b[0m\u001b[1;33m\u001b[0m\u001b[1;33m\u001b[0m\u001b[0m\n\u001b[0m\u001b[0;32m    177\u001b[0m \u001b[1;33m\u001b[0m\u001b[0m\n\u001b[0;32m    178\u001b[0m     \u001b[1;32mdef\u001b[0m \u001b[0myaml_prev\u001b[0m\u001b[1;33m(\u001b[0m\u001b[0mself\u001b[0m\u001b[1;33m)\u001b[0m\u001b[1;33m:\u001b[0m\u001b[1;33m\u001b[0m\u001b[1;33m\u001b[0m\u001b[0m\n",
          "\u001b[1;31mNameError\u001b[0m: name 'fpth' is not defined"
         ]
        }
       ]
      }
     },
     "e880bd3f509e402da0365f988defe0a1": {
      "model_module": "@jupyter-widgets/base",
      "model_module_version": "1.2.0",
      "model_name": "LayoutModel",
      "state": {}
     },
     "f1e98706d90c49f78e5d0b95ad640747": {
      "model_module": "@jupyter-widgets/controls",
      "model_module_version": "1.5.0",
      "model_name": "ToggleButtonModel",
      "state": {
       "button_style": "success",
       "description": "display/hide files",
       "layout": "IPY_MODEL_bcc93d2432aa45e299050ae875203322",
       "style": "IPY_MODEL_245d5768f7ca49658d1b98286b96597c",
       "tooltip": "shows and hides display outputs of the files selected in the SelectMultiple dropdown menu",
       "value": true
      }
     },
     "f4be830c862e4efeacad7f89e9235d2f": {
      "model_module": "@jupyter-widgets/controls",
      "model_module_version": "1.5.0",
      "model_name": "SelectMultipleModel",
      "state": {
       "_options_labels": [
        "eg_csv.csv",
        "eg_docx.docx",
        "eg_jpg.jpg",
        "eg_json.json",
        "eg_md.md",
        "eg_pdf.pdf",
        "eg_plotly.plotly",
        "eg_png.png",
        "eg_py.py",
        "eg_xlsx.xlsx",
        "eg_YAML.YAML"
       ],
       "index": [
        6
       ],
       "layout": "IPY_MODEL_70bf1779dc9f49efb987c38b2995902b",
       "rows": 5,
       "style": "IPY_MODEL_6e601fb6bff64cba97d1899799b4c133"
      }
     },
     "fd94e9fa5d274be4ab57690dc737ca07": {
      "model_module": "@jupyter-widgets/controls",
      "model_module_version": "1.5.0",
      "model_name": "SelectMultipleModel",
      "state": {
       "_options_labels": [
        "eg_csv.csv",
        "eg_docx.docx",
        "eg_jpg.jpg",
        "eg_json.json",
        "eg_md.md",
        "eg_pdf.pdf",
        "eg_plotly.plotly",
        "eg_png.png",
        "eg_py.py",
        "eg_xlsx.xlsx",
        "eg_YAML.YAML"
       ],
       "index": [
        6
       ],
       "layout": "IPY_MODEL_0032b7d67d0248f39b30f4a33ca48dac",
       "rows": 5,
       "style": "IPY_MODEL_0699f72ffb374d9793b9b1d416588802"
      }
     }
    },
    "version_major": 2,
    "version_minor": 0
   }
  }
 },
 "nbformat": 4,
 "nbformat_minor": 4
}
