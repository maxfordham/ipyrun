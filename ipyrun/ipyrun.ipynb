{
 "cells": [
  {
   "cell_type": "code",
   "execution_count": 5,
   "metadata": {},
   "outputs": [],
   "source": [
    "import os\n",
    "NBFDIR = os.path.dirname(os.path.realpath('__file__'))\n",
    "import pandas as pd\n",
    "from IPython.display import update_display, display, Image, JSON, Markdown, HTML, clear_output\n",
    "import subprocess\n",
    "from shutil import copyfile\n",
    "import getpass\n",
    "import importlib.util\n",
    "import copy \n",
    "\n",
    "# widget stuff\n",
    "import ipywidgets as widgets\n",
    "from ipysheet import from_dataframe, to_dataframe\n",
    "import ipysheet\n",
    "\n",
    "# core mf_modules\n",
    "from mf_modules.file_operations import make_dir\n",
    "from mf_modules.pandas_operations import del_matching\n",
    "from mf_modules.mydocstring_display import display_module_docstring\n",
    "from mf_modules.jupyter_formatting import display_python_file\n",
    "\n",
    "# from this repo\n",
    "# this is an unpleasant hack. should aim to find a better solution\n",
    "try:\n",
    "    from ipyrun._runconfig import RunConfig\n",
    "    from ipyrun._ipyeditcsv import EditCsv\n",
    "    from ipyrun._ipyeditjson import EditJson, EditJsonModelRun\n",
    "    from ipyrun._ipydisplayfile import DisplayFile, DisplayFiles\n",
    "except:\n",
    "    from _runconfig import RunConfig\n",
    "    from _ipyeditcsv import EditCsv\n",
    "    from _ipyeditjson import EditJson, EditJsonModelRun\n",
    "    from _ipydisplayfile import DisplayFile, DisplayFiles\n",
    "\n",
    "def get_mfuser_initials():\n",
    "    user = getpass.getuser()\n",
    "    return user[0]+user[2]\n"
   ]
  },
  {
   "cell_type": "code",
   "execution_count": 6,
   "metadata": {
    "lines_to_next_cell": 0
   },
   "outputs": [],
   "source": [
    "class RunForm():\n",
    "    \"\"\"\n",
    "    simple user input form for running scripts. \n",
    "    the buttons are not connected to actions in this class. \n",
    "    \"\"\"\n",
    "    def __init__(self):\n",
    "        \"\"\"\n",
    "        to inputs required. this class is intended to be inherited by RunApp\n",
    "        \"\"\"\n",
    "        self.config = {'fpth_script':'script fpth','fpth_inputs':'script config','process_name':'process_name'}\n",
    "        self.form()\n",
    "        display(self.layout)\n",
    "        \n",
    "    def form(self):\n",
    "        self.reset = widgets.Button(icon='fa-eye-slash',#'fa-repeat'\n",
    "                                tooltip='removes temporary output view',\n",
    "                                style={'font_weight':'bold'},\n",
    "                                layout=widgets.Layout(width='5%'))\n",
    "        self.help = widgets.Button(icon='fa-question-circle',\n",
    "                                tooltip='describes the functionality of elements in the RunApp interface',\n",
    "                                style={'font_weight':'bold'},\n",
    "                                layout=widgets.Layout(width='5%'))\n",
    "        self.edit_inputs = widgets.Button(description='edit inputs',\n",
    "                                tooltip='edit the user input information that is used when the script is executed',\n",
    "                                button_style='warning',\n",
    "                                style={'font_weight':'bold'})\n",
    "        self.show_docstring = widgets.Button(description='show guide',\n",
    "                                tooltip='read the \"docstring\", ie. the documentation that was written to accompany the script',\n",
    "                                button_style='info',\n",
    "                                style={'font_weight':'bold'})\n",
    "        self.run_script = widgets.Button(description='run',\n",
    "                                tooltip='execute the script based on the user inputs',\n",
    "                                button_style='success',\n",
    "                                style={'font_weight':'bold'})\n",
    "        self.preview_outputs = widgets.Button(description='preview outputs',\n",
    "                                tooltip='show a preview of the output files generated when the script runs',\n",
    "                                button_style='info',\n",
    "                                style={'font_weight':'bold'})\n",
    "        self.show_log = widgets.Button(description='show log',\n",
    "                                tooltip='show a log of when the script was executed to generate the outputs, and by who',\n",
    "                                button_style='info',\n",
    "                                style={'font_weight':'bold'})\n",
    "        self.scriptfpth = widgets.Text(value=self.config['fpth_script'],\n",
    "                                description='script',\n",
    "                                layout=widgets.Layout(indent=False,\n",
    "                                                      width='auto',\n",
    "                                                      height='30px'), disabled=True)\n",
    "        self.configfpth = widgets.Text(value=self.config['fpth_inputs'],\n",
    "                                description='inputs',\n",
    "                                layout=widgets.Layout(indent=False,\n",
    "                                                      width='auto',\n",
    "                                                      height='30px'), disabled=True)\n",
    "        self.outputsfpth = widgets.SelectMultiple(description='outputs',\n",
    "                                           options=[],\n",
    "                                           rows=4,\n",
    "                                           layout=widgets.Layout(indent=False,\n",
    "                                                      width='auto',\n",
    "                                                      height='30px'))\n",
    "        self.check = widgets.Checkbox(\n",
    "                        value=False,\n",
    "                        disabled=False,\n",
    "                        indent=False,\n",
    "                        layout=widgets.Layout(max_width='30px',height='30px', padding='3px')\n",
    "                        )\n",
    "        self.form = widgets.HBox([self.reset, self.help, self.show_docstring, self.edit_inputs, self.run_script, self.preview_outputs, self.show_log],\n",
    "                    layout=widgets.Layout(width='100%',align_items='stretch'))\n",
    "        self.paths = widgets.VBox([self.configfpth,self.scriptfpth,self.outputsfpth],\n",
    "                    layout=widgets.Layout(width='100%',align_items='stretch')) \n",
    "        self.acc = widgets.Accordion(children=[widgets.VBox([widgets.Box([self.form]),self.paths])],selected_index=None,layout=widgets.Layout(width='100%'))\n",
    "        self.acc.set_title(0,self.config['process_name'])\n",
    "        self.layout = widgets.HBox([self.check,self.acc],layout=widgets.Layout(margin='0px',padding='0px',border='0px'))\n",
    "    \n",
    "#RunForm()"
   ]
  },
  {
   "cell_type": "code",
   "execution_count": 15,
   "metadata": {
    "lines_to_next_cell": 0
   },
   "outputs": [],
   "source": [
    "class RunApp(RunForm, RunConfig):\n",
    "    \"\"\"\n",
    "    app for managing the execution of python scripts using an ipywidgets user interface\n",
    "    \"\"\"\n",
    "    def __init__(self,config):\n",
    "        \"\"\"\n",
    "        class that builds a user interface for:\n",
    "        - editing inputs, \n",
    "        - running a script, \n",
    "        - reviewing the files output by the script\n",
    "        - maintaining a log of when the script was last run, by who, and what the inputs were\n",
    "        - allows users to reload previous input runs. \n",
    "        \n",
    "        Args:\n",
    "            config (dict): a dict that defines the script path, inputs path, archive inputs path, \n",
    "                log file path, output paths etc. this class inherits the RunConfig class which \n",
    "                has a default configuration for all of these things allowing the user to pass minimal \n",
    "                amounts of information to setup. \n",
    "                \n",
    "        Example:\n",
    "            ```\n",
    "            config={\n",
    "                'fpth_script':os.path.join(os.environ['mf_root'],r'MF_Toolbox\\dev\\mf_scripts\\docx_to_pdf.py'),\n",
    "                'fdir':NBFDIR,\n",
    "                }    \n",
    "\n",
    "            r = RunApp(config) \n",
    "            from ipyrun._ipyeditjson import \n",
    "            \n",
    "            ui = EditListOfDicts(li)\n",
    "            ui\n",
    "            ```\n",
    "        \"\"\"\n",
    "        self.out = widgets.Output()\n",
    "        self.config = config\n",
    "        self.user_keys = list(config.keys())\n",
    "        self.errors = []\n",
    "        self._update_config()\n",
    "        self.form()\n",
    "        self.outputsfpth.options = list(self.fpths_outputs.values())\n",
    "        self.show_me_the_code = widgets.Button(description='show source code',\n",
    "                      tooltip='shows the raw python code in the preview window below',\n",
    "                      button_style='info')\n",
    "        self._init_controls()\n",
    "\n",
    "    def _init_controls(self):\n",
    "        self.help.on_click(self._help)\n",
    "        self.reset.on_click(self._reset)\n",
    "        self.edit_inputs.on_click(self._edit_inputs)\n",
    "        self.show_docstring.on_click(self._show_docstring)\n",
    "        self.run_script.on_click(self._run_script)\n",
    "        self.show_me_the_code.on_click(self._show_me_the_code)\n",
    "        self.preview_outputs.on_click(self._preview_outputs)\n",
    "        self.show_log.on_click(self._show_log)\n",
    "        self.acc.observe(self._close_acc, names='selected_index')\n",
    "        \n",
    "    def _close_acc(self, change):\n",
    "        if self.acc.selected_index!=0:\n",
    "            self._reset(None)\n",
    "        \n",
    "    def _show_me_the_code(self, sender):\n",
    "        with self.out:\n",
    "            clear_output()\n",
    "            display(display_python_file(self.config['fpth_script']))\n",
    "            \n",
    "    def _help(self, sender):\n",
    "        with self.out:\n",
    "            clear_output()\n",
    "            fpth = os.path.join(os.environ['mf_root'],r'ipyrun\\docs\\images\\RunApp.png')\n",
    "            display(Image(fpth))\n",
    "            \n",
    "    def _reset(self, sender):\n",
    "        with self.out:\n",
    "            clear_output()\n",
    "    \n",
    "    def _edit_inputs(self, sender):\n",
    "        with self.out:\n",
    "            clear_output()\n",
    "            #display(EditCsv(self.config))\n",
    "            display(EditJson(self.config))\n",
    "\n",
    "    def _show_docstring(self, sender):\n",
    "        with self.out:\n",
    "            clear_output()\n",
    "            display(self.show_me_the_code)\n",
    "            display_module_docstring(self.config['fpth_script'])\n",
    "            \n",
    "    def archive_inputs(self):\n",
    "        timestamp = str(pd.to_datetime('today'))[:-9].replace(':','').replace('-','').replace(' ','_')\n",
    "        initals = get_mfuser_initials()\n",
    "        ext = os.path.splitext(self.fpth_inputs)[1]\n",
    "        fnm = timestamp + '-' + initals + '-' + os.path.splitext(os.path.basename(self.fpth_inputs))[0] + ext\n",
    "        self.fpth_inputs_archive = os.path.join(self.fdir_inputs_archive,fnm)\n",
    "        copyfile(self.fpth_inputs,self.fpth_inputs_archive)\n",
    "        \n",
    "    def _run_script(self, sender):\n",
    "        self.config_to_json()\n",
    "        self.archive_inputs()\n",
    "        self._log()\n",
    "        with self.out:\n",
    "            clear_output()\n",
    "            if os.path.isfile(self.config['fpth_inputs']):\n",
    "                display(self.config['pretty_name'])\n",
    "                display(subprocess.check_output(['python','-O', self.config['fpth_script'], self.config['fpth_config'], self.config['fpth_inputs']]))\n",
    "                #display(subprocess.check_output(['conda', 'run', '-n', 'mf_main', 'python','-O', self.config['fpth_script'], self.config['fpth_config'], self.config['fpth_inputs']]))\n",
    "            else:\n",
    "                display(Markdown(\"## inputs have not been saved\"))\n",
    "                display(Markdown('click on the \"edit inputs\" button to edit inputs and hit save when done'))\n",
    "                display(Markdown('this will save a datafile that is passed to the script when you press run'))\n",
    "                display(Markdown('the input datafile should be saved here:'))\n",
    "                display(Markdown('`{0}`'.format(self.config['fpth_inputs'])))\n",
    "\n",
    "    def _log(self):\n",
    "        if os.path.isfile(self.fpth_log):\n",
    "            self.df_log = del_matching(pd.read_csv(self.fpth_log),'Unnamed')\n",
    "        else:\n",
    "            di = {\n",
    "                'processName':[],\n",
    "                'user':[],\n",
    "                'datetime':[],\n",
    "                'formalIssue':[],\n",
    "                'tags':[],\n",
    "                'fpthInputs':[]\n",
    "            }\n",
    "            self.df_log = pd.DataFrame(di).rename_axis(\"index\")\n",
    "        \n",
    "        user = getpass.getuser()\n",
    "        timestamp = str(pd.to_datetime('today'))\n",
    "        timestamp = timestamp[:-7]\n",
    "        \n",
    "        tmp = pd.DataFrame({\n",
    "            'processName':[self.process_name],\n",
    "            'user':[user],\n",
    "            'datetime':[timestamp],\n",
    "            'formalIssue':[''],\n",
    "            'tags':[''],\n",
    "            'fpthInputs':[self.fpth_inputs_archive]\n",
    "        })\n",
    "        self.df_log = self.df_log.append(tmp).reset_index(drop=True)\n",
    "        make_dir(self.fdir_log)\n",
    "        self.df_log.to_csv(self.fpth_log)\n",
    "        \n",
    "    def _preview_outputs(self, sender):\n",
    "        with self.out:\n",
    "            clear_output()\n",
    "            \n",
    "            #fpths = self.outputsfpth.options\n",
    "            #for fpth in fpths:\n",
    "             #   display(Markdown('#### {0}'.format(os.path.splitext(os.path.basename(fpth))[0])))\n",
    "            #    display(Markdown('`{0}`'.format(fpth)))\n",
    "            #    d = DisplayFile(fpth)\n",
    "            #    d.preview_fpth()\n",
    "                \n",
    "            fpths = [v for k,v in self.fpths_outputs.items()]\n",
    "            if len(fpths)==0:\n",
    "                display(Markdown('select the file(s) that you would like to display from the \"outputs\" list above '))\n",
    "            else:\n",
    "\n",
    "                display(DisplayFiles(fpths))\n",
    "                \n",
    "    def _show_log(self, sender):\n",
    "        with self.out:\n",
    "            clear_output()\n",
    "            if os.path.isfile(self.fpth_log):\n",
    "                d = DisplayFile(self.fpth_log)\n",
    "                d.preview_fpth()\n",
    "            else:  \n",
    "                display(Markdown('### A log file does not yet exist.'))\n",
    "                display(Markdown('### This indicates that the script has not yet been run.'))\n",
    "             \n",
    "    def display(self):\n",
    "        display(self.layout, self.out)\n",
    "            \n",
    "    def _ipython_display_(self):\n",
    "        self.display()\n",
    "\n",
    "class RunAppModelRun(RunApp):\n",
    "    \"\"\"\n",
    "    Modified version of EditJson, for Model Run spreadsheet\n",
    "    Functionality for DerivedText has been added\n",
    "    \"\"\"\n",
    "    def _edit_inputs(self, sender):\n",
    "        with self.out:\n",
    "            clear_output()\n",
    "            display(EditJsonModelRun(self.config))\n",
    "    \n",
    "# IT WOULD BE GOOD TO ADD A PROGRESS BAR\n",
    "# i think this would require us to time how long it takes for a script to execute and use that \n",
    "# as a first estimate. we could also then keep an ongoing record of time-taken to run a script within\n",
    "# the log file which could be used to keep the assumed time up-to-date / more accurate.\n",
    "# E.G. owen's example:\n",
    "# (but there is a fancy looking ipywidget we could use...)\n",
    "# fpth = r'C:\\engDev\\git_mf\\MF_Toolbox\\dev\\mf_modules\\progress_bar.py'\n",
    "# %run $fpth\n",
    "\n",
    "class RunApps():\n",
    "    \n",
    "    def __init__(self,configs):\n",
    "        \"\"\"\n",
    "        Args:\n",
    "            configs (list): list of RunApp input configs. \n",
    "                can explicitly specify a different RunApp to be used when passing \n",
    "                the list \n",
    "        \"\"\"\n",
    "        self.inputconfigs = configs\n",
    "        self.processes = self._update_configs()\n",
    "        self.li = []\n",
    "        self._form()\n",
    "        self._init_controls()\n",
    "        for process in self.processes:\n",
    "            self.li.append(process['app'](process['config']))   \n",
    "        self.out = widgets.Output()\n",
    "    \n",
    "    def _update_configs(self):\n",
    "        newconfigs = []\n",
    "        for config in self.inputconfigs:\n",
    "            if list(config.keys()) == ['app','config']:\n",
    "                # app to use already explicitly specified\n",
    "                newconfigs.append(config)     \n",
    "            else:\n",
    "                # assume the config got passed without the associated app\n",
    "                newconfigs.append({'app': RunApp, 'config': config})     \n",
    "        return newconfigs\n",
    "        \n",
    "    def _form(self):\n",
    "        \n",
    "        self.reset = widgets.Button(icon='fa-eye-slash',#'fa-repeat'\n",
    "                                tooltip='removes temporary output view',\n",
    "                                style={'font_weight':'bold'},\n",
    "                                layout=widgets.Layout(width='5%'))\n",
    "        self.help = widgets.Button(icon='fa-question-circle',\n",
    "                                tooltip='describes the functionality of elements in the RunApp interface',\n",
    "                                style={'font_weight':'bold'},\n",
    "                                layout=widgets.Layout(width='5%'))\n",
    "        self.run_batch = widgets.Button(description='run batch',\n",
    "                                tooltip='execute checked processes below',\n",
    "                                button_style='success',\n",
    "                                style={'font_weight':'bold'})\n",
    "        self.form = widgets.HBox([self.reset, self.help, self.run_batch],\n",
    "                        layout=widgets.Layout(width='100%',align_items='stretch'))   \n",
    "    \n",
    "    def _init_controls(self):\n",
    "        self.help.on_click(self._help)\n",
    "        self.reset.on_click(self._reset)\n",
    "        self.run_batch.on_click(self._run_batch)\n",
    "        \n",
    "    def _help(self, sender):\n",
    "        \n",
    "        with self.out:\n",
    "            clear_output()\n",
    "            fpth = os.path.join(os.environ['mf_root'],r'ipyrun\\docs\\images\\RunBatch.png')\n",
    "            display(Image(fpth))\n",
    "            \n",
    "    def _reset(self, sender):\n",
    "        with self.out:\n",
    "            clear_output()\n",
    "        for l in self.li:\n",
    "            l._reset(sender)\n",
    "    \n",
    "    def _run_batch(self, sender):\n",
    "        cnt = 0\n",
    "        ttl = 0\n",
    "        for l in self.li:\n",
    "            ttl = ttl + 1\n",
    "            if l.check.value:\n",
    "                cnt = cnt + 1\n",
    "        \n",
    "        with self.out:\n",
    "            clear_output()\n",
    "            display(Markdown('{0} out of {1} scripts selected to be run'.format(cnt,ttl)))\n",
    "            for l in self.li:\n",
    "                if l.check.value:\n",
    "                    display(Markdown('running: {0}'.format(l.config['process_name'])))\n",
    "                    l._run_script('sender')\n",
    "                    l._log() # 'sender'\n",
    "\n",
    "    def display(self):\n",
    "        display(self.form)\n",
    "        display(self.out)\n",
    "        [display(l) for l in self.li]; \n",
    "        \n",
    "    def _ipython_display_(self):\n",
    "        self.display() \n",
    "\n",
    "class RunAppsMruns():\n",
    "    \n",
    "    def __init__(self,configs):\n",
    "        \"\"\"\n",
    "        Args:\n",
    "            configs (list): list of RunApp input configs. \n",
    "                can explicitly specify a different RunApp to be used when passing \n",
    "                the list \n",
    "        \"\"\"\n",
    "        self.inputconfigs = configs\n",
    "        self.processes = self._update_configs()\n",
    "        self.li = []\n",
    "        self._form()\n",
    "        self._init_controls()\n",
    "         \n",
    "        for process in self.processes:\n",
    "            self.li.append(process['app'](process['config']))   \n",
    "        self.out = widgets.Output()\n",
    "    \n",
    "    def _update_configs(self):\n",
    "        newconfigs = []\n",
    "        for config in self.inputconfigs:\n",
    "            newconfigs.append(self._create_config(config))\n",
    "        return newconfigs\n",
    "\n",
    "    def _create_config(self, config):\n",
    "        if list(config.keys()) == ['app','config']:\n",
    "            # app to use already explicitly specified\n",
    "            return config  \n",
    "        else:\n",
    "            # assume the config got passed without the associated app\n",
    "            return{'app': RunApp, 'config': config}\n",
    "\n",
    "        \n",
    "    def _form(self):\n",
    "        self.reset = widgets.Button(icon='fa-eye-slash',#'fa-repeat'\n",
    "                                tooltip='removes temporary output view',\n",
    "                                style={'font_weight':'bold'},\n",
    "                                layout=widgets.Layout(width='5%'))\n",
    "        self.help = widgets.Button(icon='fa-question-circle',\n",
    "                                tooltip='describes the functionality of elements in the RunApp interface',\n",
    "                                style={'font_weight':'bold'},\n",
    "                                layout=widgets.Layout(width='5%'))\n",
    "        self.run_batch = widgets.Button(description='run batch',\n",
    "                                tooltip='execute checked processes below',\n",
    "                                button_style='success',\n",
    "                                style={'font_weight':'add'})\n",
    "        self.add_run = widgets.Button(description='add run',\n",
    "                                tooltip='add new run, based on another run',\n",
    "                                button_style='warning',\n",
    "                                style={'font_weight':'bold'})\n",
    "        self.form = widgets.HBox([self.reset, self.help, self.run_batch, self.add_run],\n",
    "                        layout=widgets.Layout(width='100%',align_items='stretch'))   \n",
    "    \n",
    "    def _init_controls(self):\n",
    "        self.help.on_click(self._help)\n",
    "        self.reset.on_click(self._reset)\n",
    "        self.run_batch.on_click(self._run_batch)\n",
    "        self.add_run.on_click(self._add_run)\n",
    "        \n",
    "    def _help(self, sender):\n",
    "        with self.out:\n",
    "            clear_output()\n",
    "            fpth = os.path.join(os.environ['mf_root'],r'ipyrun\\docs\\images\\RunBatch.png')\n",
    "            display(Image(fpth))\n",
    "            \n",
    "    def _reset(self, sender):\n",
    "        with self.out:\n",
    "            clear_output()\n",
    "        for l in self.li:\n",
    "            l._reset(sender)\n",
    "\n",
    "    def _get_process_names(self):\n",
    "        return [process['config']['process_name'] for process in self.processes]\n",
    "    \n",
    "    def _get_apps_layout(self):\n",
    "        return [widgets.VBox([l.layout, l.out]) for l in self.li]\n",
    "        \n",
    "    def _add_run(self, sender):\n",
    "        \n",
    "        # Create Dropdown & Run Button\n",
    "        self.add_run_dd = widgets.Dropdown(\n",
    "                options=self._get_process_names(),\n",
    "                description='Run to Copy:',\n",
    "                disabled=False)\n",
    "        self.add_run_btn = widgets.Button(description='add chosen run',\n",
    "                    tooltip='add chosen run',\n",
    "                    button_style='primary',\n",
    "                    style={'font_weight':'bold'})\n",
    "        \n",
    "        self.add_run_btn.on_click(self._run_add_run) # OnClick method\n",
    "        with self.out:\n",
    "            clear_output()\n",
    "            display(self.add_run_dd)\n",
    "            display(self.add_run_btn)\n",
    "    \n",
    "    def _run_add_run(self,sender):\n",
    "        \n",
    "        # Pull selected process from dropdown\n",
    "        dd_val = self.add_run_dd.value\n",
    "        dd_split = str(self.add_run_dd.value).split('_')\n",
    "        \n",
    "        # Get basename of selected process\n",
    "        if(dd_split[-1].isdigit()):\n",
    "            dd_process_name_base = \"_\".join(dd_split[:-1])\n",
    "        else:\n",
    "            dd_process_name_base = dd_val\n",
    "            \n",
    "        # Create new process name, by\n",
    "        # appending the next number to the basename\n",
    "        current_num = 0\n",
    "        num_exists = True\n",
    "        new_process_name = \"\"\n",
    "        while (num_exists):\n",
    "            new_process_name = '{0}_{1}'.format(dd_process_name_base,current_num)\n",
    "            if new_process_name in self._get_process_names():\n",
    "                current_num = current_num + 1   \n",
    "            else:\n",
    "                num_exists = False\n",
    "\n",
    "        # Copy the selected process to the new process\n",
    "        new_process = None\n",
    "        for process in self.processes:\n",
    "            if(process['config']['process_name'] == dd_val):\n",
    "                new_process = copy.deepcopy(process)\n",
    "        \n",
    "        # Copy old inputs file, to create new inputs file\n",
    "        src = new_process['config']['fpth_inputs']\n",
    "        fdir_inputs = new_process['config']['fdir_inputs']\n",
    "        dst = os.path.join(fdir_inputs , '{0}{1}'.format(new_process_name,os.path.splitext(src)[1]))\n",
    "        copyfile(src,dst)\n",
    "        \n",
    "        # Update config of new process\n",
    "        new_process['config']['fpth_inputs'] = dst\n",
    "        new_process['config']['process_name'] = new_process_name\n",
    "        new_process = self._create_config(new_process)\n",
    "        \n",
    "        # Add new process to data within RunApps \n",
    "        self.inputconfigs.append(new_process)\n",
    "        self.processes.append(new_process)\n",
    "        self.li.append(new_process['app'](new_process['config']))\n",
    "        self.add_run_dd.options=self._get_process_names() # Update Dropdown\n",
    "        \n",
    "        # Display new process\n",
    "        self.apps_layout.children = self._get_apps_layout()\n",
    "        '''with self.out:\n",
    "            display(self.li[-1])'''\n",
    "\n",
    "    def _run_batch(self, sender):\n",
    "        cnt = 0\n",
    "        ttl = 0\n",
    "        for l in self.li:\n",
    "            ttl = ttl + 1\n",
    "            if l.check.value:\n",
    "                cnt = cnt + 1\n",
    "        \n",
    "        with self.out:\n",
    "            clear_output()\n",
    "            display(Markdown('{0} out of {1} scripts selected to be run'.format(cnt,ttl)))\n",
    "            for l in self.li:\n",
    "                if l.check.value:\n",
    "                    display(Markdown('running: {0}'.format(l.config['process_name'])))\n",
    "                    l._run_script('sender')\n",
    "                    l._log() # 'sender'\n",
    "                    \n",
    "    def display(self):\n",
    "        display(self.form)\n",
    "        display(self.out)\n",
    "        self.apps_layout = widgets.VBox(self._get_apps_layout())\n",
    "        display(self.apps_layout)\n",
    "        \n",
    "    def _ipython_display_(self):\n",
    "        self.display() \n",
    "        \n",
    "\n",
    "# SUPERCEDED\n",
    "\n",
    "#def run_py_script(fpth,arg):\n",
    "#    \"\"\"\n",
    "#    NOT IN USE\n",
    "#    run a script using python magic\n",
    "#    (% means it can't be imported as a script)\n",
    "#    \"\"\"\n",
    "#    if os.path.isfile(fpth):\n",
    "#        print('run {0}'.format(fpth))\n",
    "#        %run -i $fpth $arg #-i\n",
    "#    elif fpth == 'READ PROCESSED DATA ONLY':\n",
    "#        pass\n",
    "#    else:\n",
    "#        print(\"{0} doesn't exist\".format(fpth))\n",
    "\n",
    "# option 2: looks better but the outputs appear at the bottom instead of in-line\n",
    "class RunApps_SS():\n",
    "    \n",
    "    def __init__(self,configs):\n",
    "        self.out = widgets.Output()\n",
    "        self.configs = configs\n",
    "        self.li = []\n",
    "        for config in configs:\n",
    "            self.li.append(RunApp(config))\n",
    "        self.display()\n",
    "            \n",
    "    def display(self):\n",
    "        \n",
    "        out = [l.layout for l in self.li]\n",
    "        self.applayout = widgets.VBox(out)\n",
    "        display(self.applayout)\n",
    "        for l in self.li:\n",
    "            display(l.out)\n"
   ]
  },
  {
   "cell_type": "code",
   "execution_count": null,
   "metadata": {},
   "outputs": [],
   "source": []
  },
  {
   "cell_type": "code",
   "execution_count": null,
   "metadata": {},
   "outputs": [],
   "source": []
  },
  {
   "cell_type": "code",
   "execution_count": 17,
   "metadata": {
    "lines_to_end_of_cell_marker": 2,
    "lines_to_next_cell": 0
   },
   "outputs": [
    {
     "data": {
      "text/markdown": [
       "### Example1"
      ],
      "text/plain": [
       "<IPython.core.display.Markdown object>"
      ]
     },
     "metadata": {},
     "output_type": "display_data"
    },
    {
     "data": {
      "text/markdown": [
       "default RunApp."
      ],
      "text/plain": [
       "<IPython.core.display.Markdown object>"
      ]
     },
     "metadata": {},
     "output_type": "display_data"
    },
    {
     "data": {
      "application/vnd.jupyter.widget-view+json": {
       "model_id": "3e2b137bc67c4504b02509befb368545",
       "version_major": 2,
       "version_minor": 0
      },
      "text/plain": [
       "HBox(children=(Checkbox(value=False, indent=False, layout=Layout(height='30px', max_width='30px', padding='3px…"
      ]
     },
     "metadata": {},
     "output_type": "display_data"
    },
    {
     "data": {
      "application/vnd.jupyter.widget-view+json": {
       "model_id": "d09e054d437f480284236bad0e20df0a",
       "version_major": 2,
       "version_minor": 0
      },
      "text/plain": [
       "Output()"
      ]
     },
     "metadata": {},
     "output_type": "display_data"
    },
    {
     "data": {
      "text/markdown": [
       "---"
      ],
      "text/plain": [
       "<IPython.core.display.Markdown object>"
      ]
     },
     "metadata": {},
     "output_type": "display_data"
    },
    {
     "data": {
      "text/markdown": [],
      "text/plain": [
       "<IPython.core.display.Markdown object>"
      ]
     },
     "metadata": {},
     "output_type": "display_data"
    },
    {
     "data": {
      "text/markdown": [
       "### Example2"
      ],
      "text/plain": [
       "<IPython.core.display.Markdown object>"
      ]
     },
     "metadata": {},
     "output_type": "display_data"
    },
    {
     "data": {
      "text/markdown": [
       "example where the RunApp class has been extended by inheriting the \n",
       "    RunApp and overwriting the _edit_inputs\n",
       "    take a simple csv file as an input instead of a JSON file...\n",
       "    the main funtions that can be overwritten to extend the class in this way are:\n",
       "\n",
       "    - _help\n",
       "    - _show_guide\n",
       "    - _edit_inputs\n",
       "    - _run\n",
       "    - _preview_outputs"
      ],
      "text/plain": [
       "<IPython.core.display.Markdown object>"
      ]
     },
     "metadata": {},
     "output_type": "display_data"
    },
    {
     "data": {
      "application/vnd.jupyter.widget-view+json": {
       "model_id": "34b7857b89c346afa7c8752fc99aea40",
       "version_major": 2,
       "version_minor": 0
      },
      "text/plain": [
       "HBox(children=(Checkbox(value=False, indent=False, layout=Layout(height='30px', max_width='30px', padding='3px…"
      ]
     },
     "metadata": {},
     "output_type": "display_data"
    },
    {
     "data": {
      "application/vnd.jupyter.widget-view+json": {
       "model_id": "9e7ec832bf8b4059940c74a7dca37150",
       "version_major": 2,
       "version_minor": 0
      },
      "text/plain": [
       "Output()"
      ]
     },
     "metadata": {},
     "output_type": "display_data"
    },
    {
     "data": {
      "text/markdown": [
       "---"
      ],
      "text/plain": [
       "<IPython.core.display.Markdown object>"
      ]
     },
     "metadata": {},
     "output_type": "display_data"
    },
    {
     "data": {
      "text/markdown": [],
      "text/plain": [
       "<IPython.core.display.Markdown object>"
      ]
     },
     "metadata": {},
     "output_type": "display_data"
    },
    {
     "data": {
      "text/markdown": [
       "### Example3"
      ],
      "text/plain": [
       "<IPython.core.display.Markdown object>"
      ]
     },
     "metadata": {},
     "output_type": "display_data"
    },
    {
     "data": {
      "text/markdown": [
       "\n",
       "    demonstrates how multiple RunApp's can be ran as a batch. if not explicitly defined, the app assumes the default\n",
       "    RunApp is used.<br> it is also possible to explictly pass a RunApp variant, and it will still be executed within the batch:  \n",
       "\n",
       "    ```\n",
       "        di={\n",
       "            'fpth_script':os.path.join(os.environ['mf_root'],r'MF_Toolbox\\dev\\mf_scripts\\eplus_pipework_params.py'),\n",
       "            #'process_name':os.path.basename(os.path.join(os.environ['mf_root'],r'MF_Toolbox\\dev\\mf_scripts\\eplus_pipework_params.py')),\n",
       "            #'fpth_inputs':os.path.join(os.environ['mf_root'],r'MF_Toolbox\\dev\\mf_scripts\\configs\\eplus_pipework_params.csv'),\n",
       "            'fdir':os.path.join(NBFDIR,'notebooks'),\n",
       "            'fdir_outputs':os.path.join(NBFDIR,'notebooks')\n",
       "            }  \n",
       "\n",
       "        defaultrunapp={\n",
       "            'fpth_script':os.path.join(os.environ['mf_root'],r'MF_Toolbox\\dev\\mf_scripts\\docx_to_pdf.py'),\n",
       "            'fdir':NBFDIR,\n",
       "            'script_outputs': {'0': {\n",
       "                'fdir':r'..\r",
       "eports',\n",
       "                'fnm': r'JupyterReportDemo.pdf',\n",
       "                'description': \"a pdf report from word\"\n",
       "                    }\n",
       "                }\n",
       "            }\n",
       "\n",
       "        runappcsv = {'app':RunAppEditCsv,'config':di}\n",
       "        configs = [runappcsv,defaultrunapp,runappcsv]\n",
       "        runapps = RunApps(configs)  \n",
       "        display(runapps)\n",
       "    ```\n",
       "    "
      ],
      "text/plain": [
       "<IPython.core.display.Markdown object>"
      ]
     },
     "metadata": {},
     "output_type": "display_data"
    },
    {
     "data": {
      "application/vnd.jupyter.widget-view+json": {
       "model_id": "c97667620737445d9d7b3fc0fabaf949",
       "version_major": 2,
       "version_minor": 0
      },
      "text/plain": [
       "HBox(children=(Button(icon='eye-slash', layout=Layout(width='5%'), style=ButtonStyle(font_weight='bold'), tool…"
      ]
     },
     "metadata": {},
     "output_type": "display_data"
    },
    {
     "data": {
      "application/vnd.jupyter.widget-view+json": {
       "model_id": "7d93b236551b438eb5368ad5101f64d8",
       "version_major": 2,
       "version_minor": 0
      },
      "text/plain": [
       "Output()"
      ]
     },
     "metadata": {},
     "output_type": "display_data"
    },
    {
     "data": {
      "application/vnd.jupyter.widget-view+json": {
       "model_id": "c1f387cd78ed494bb282c57eaae6bd2c",
       "version_major": 2,
       "version_minor": 0
      },
      "text/plain": [
       "HBox(children=(Checkbox(value=False, indent=False, layout=Layout(height='30px', max_width='30px', padding='3px…"
      ]
     },
     "metadata": {},
     "output_type": "display_data"
    },
    {
     "data": {
      "application/vnd.jupyter.widget-view+json": {
       "model_id": "7616221162c04ac3b72a617dd4b32e29",
       "version_major": 2,
       "version_minor": 0
      },
      "text/plain": [
       "Output()"
      ]
     },
     "metadata": {},
     "output_type": "display_data"
    },
    {
     "data": {
      "application/vnd.jupyter.widget-view+json": {
       "model_id": "3b06a7f8a81c4d79a632d325610a37a2",
       "version_major": 2,
       "version_minor": 0
      },
      "text/plain": [
       "HBox(children=(Checkbox(value=False, indent=False, layout=Layout(height='30px', max_width='30px', padding='3px…"
      ]
     },
     "metadata": {},
     "output_type": "display_data"
    },
    {
     "data": {
      "application/vnd.jupyter.widget-view+json": {
       "model_id": "509cffcf648849b390b33c6304938b66",
       "version_major": 2,
       "version_minor": 0
      },
      "text/plain": [
       "Output()"
      ]
     },
     "metadata": {},
     "output_type": "display_data"
    },
    {
     "data": {
      "application/vnd.jupyter.widget-view+json": {
       "model_id": "bdf0ae22ef1348c0ae939c68643c44d0",
       "version_major": 2,
       "version_minor": 0
      },
      "text/plain": [
       "HBox(children=(Checkbox(value=False, indent=False, layout=Layout(height='30px', max_width='30px', padding='3px…"
      ]
     },
     "metadata": {},
     "output_type": "display_data"
    },
    {
     "data": {
      "application/vnd.jupyter.widget-view+json": {
       "model_id": "bb139e5ecf5e4b8ca3e252f055413df0",
       "version_major": 2,
       "version_minor": 0
      },
      "text/plain": [
       "Output()"
      ]
     },
     "metadata": {},
     "output_type": "display_data"
    },
    {
     "data": {
      "text/markdown": [
       "---"
      ],
      "text/plain": [
       "<IPython.core.display.Markdown object>"
      ]
     },
     "metadata": {},
     "output_type": "display_data"
    },
    {
     "data": {
      "text/markdown": [],
      "text/plain": [
       "<IPython.core.display.Markdown object>"
      ]
     },
     "metadata": {},
     "output_type": "display_data"
    },
    {
     "data": {
      "text/markdown": [
       "### Example4"
      ],
      "text/plain": [
       "<IPython.core.display.Markdown object>"
      ]
     },
     "metadata": {},
     "output_type": "display_data"
    },
    {
     "data": {
      "text/markdown": [
       "\n",
       "    as above but with an add run feature added. \n",
       "\n",
       "    ```\n",
       "        di={\n",
       "            'fpth_script':os.path.join(os.environ['mf_root'],r'MF_Toolbox\\dev\\mf_scripts\\eplus_pipework_params.py'),\n",
       "            #'process_name':os.path.basename(os.path.join(os.environ['mf_root'],r'MF_Toolbox\\dev\\mf_scripts\\eplus_pipework_params.py')),\n",
       "            #'fpth_inputs':os.path.join(os.environ['mf_root'],r'MF_Toolbox\\dev\\mf_scripts\\configs\\eplus_pipework_params.csv'),\n",
       "            'fdir':os.path.join(NBFDIR,'notebooks'),\n",
       "            'fdir_outputs':os.path.join(NBFDIR,'notebooks')\n",
       "            }  \n",
       "\n",
       "        defaultrunapp={\n",
       "            'fpth_script':os.path.join(os.environ['mf_root'],r'MF_Toolbox\\dev\\mf_scripts\\docx_to_pdf.py'),\n",
       "            'fdir':NBFDIR,\n",
       "            'script_outputs': {'0': {\n",
       "                'fdir':r'..\r",
       "eports',\n",
       "                'fnm': r'JupyterReportDemo.pdf',\n",
       "                'description': \"a pdf report from word\"\n",
       "                    }\n",
       "                }\n",
       "            }\n",
       "\n",
       "        runappcsv = {'app':RunAppEditCsv,'config':di}\n",
       "        configs = [runappcsv,defaultrunapp,runappcsv]\n",
       "        runapps = RunApps(configs)  \n",
       "        display(runapps)\n",
       "    ```\n",
       "    "
      ],
      "text/plain": [
       "<IPython.core.display.Markdown object>"
      ]
     },
     "metadata": {},
     "output_type": "display_data"
    },
    {
     "data": {
      "application/vnd.jupyter.widget-view+json": {
       "model_id": "bbe343270c0b4753bf517c38d90294bc",
       "version_major": 2,
       "version_minor": 0
      },
      "text/plain": [
       "HBox(children=(Button(icon='eye-slash', layout=Layout(width='5%'), style=ButtonStyle(font_weight='bold'), tool…"
      ]
     },
     "metadata": {},
     "output_type": "display_data"
    },
    {
     "data": {
      "application/vnd.jupyter.widget-view+json": {
       "model_id": "f114b4c1dbda448b8d009f1e3fe55a1c",
       "version_major": 2,
       "version_minor": 0
      },
      "text/plain": [
       "Output()"
      ]
     },
     "metadata": {},
     "output_type": "display_data"
    },
    {
     "data": {
      "application/vnd.jupyter.widget-view+json": {
       "model_id": "ae3a652ec6264f1ab4fde37b3d4a6b4b",
       "version_major": 2,
       "version_minor": 0
      },
      "text/plain": [
       "VBox(children=(VBox(children=(HBox(children=(Checkbox(value=False, indent=False, layout=Layout(height='30px', …"
      ]
     },
     "metadata": {},
     "output_type": "display_data"
    },
    {
     "data": {
      "text/markdown": [
       "---"
      ],
      "text/plain": [
       "<IPython.core.display.Markdown object>"
      ]
     },
     "metadata": {},
     "output_type": "display_data"
    },
    {
     "data": {
      "text/markdown": [],
      "text/plain": [
       "<IPython.core.display.Markdown object>"
      ]
     },
     "metadata": {},
     "output_type": "display_data"
    },
    {
     "ename": "FileNotFoundError",
     "evalue": "[WinError 3] The system cannot find the path specified: 'C:\\\\engDev\\\\git_mf\\\\ipyrun\\\\ipyrun\\\\appdata\\\\inputs\\\\modelruninputs'",
     "output_type": "error",
     "traceback": [
      "\u001b[1;31m---------------------------------------------------------------------------\u001b[0m",
      "\u001b[1;31mFileNotFoundError\u001b[0m                         Traceback (most recent call last)",
      "\u001b[1;32m<ipython-input-17-c6ee1d95c902>\u001b[0m in \u001b[0;36m<module>\u001b[1;34m\u001b[0m\n\u001b[0;32m    214\u001b[0m         \u001b[1;32mreturn\u001b[0m \u001b[0mbatch\u001b[0m\u001b[1;33m\u001b[0m\u001b[1;33m\u001b[0m\u001b[0m\n\u001b[0;32m    215\u001b[0m \u001b[1;33m\u001b[0m\u001b[0m\n\u001b[1;32m--> 216\u001b[1;33m     \u001b[1;32mfor\u001b[0m \u001b[0mfilename\u001b[0m \u001b[1;32min\u001b[0m \u001b[0mos\u001b[0m\u001b[1;33m.\u001b[0m\u001b[0mlistdir\u001b[0m\u001b[1;33m(\u001b[0m\u001b[0mfdir_modelruninput\u001b[0m\u001b[1;33m)\u001b[0m\u001b[1;33m:\u001b[0m\u001b[1;33m\u001b[0m\u001b[1;33m\u001b[0m\u001b[0m\n\u001b[0m\u001b[0;32m    217\u001b[0m         \u001b[1;32mif\u001b[0m \u001b[0mfilename\u001b[0m\u001b[1;33m.\u001b[0m\u001b[0mendswith\u001b[0m\u001b[1;33m(\u001b[0m\u001b[1;34m\".json\"\u001b[0m\u001b[1;33m)\u001b[0m\u001b[1;33m:\u001b[0m\u001b[1;33m\u001b[0m\u001b[1;33m\u001b[0m\u001b[0m\n\u001b[0;32m    218\u001b[0m             \u001b[0mbatch\u001b[0m \u001b[1;33m=\u001b[0m \u001b[0madd_to_batch\u001b[0m\u001b[1;33m(\u001b[0m\u001b[0mos\u001b[0m\u001b[1;33m.\u001b[0m\u001b[0mpath\u001b[0m\u001b[1;33m.\u001b[0m\u001b[0msplitext\u001b[0m\u001b[1;33m(\u001b[0m\u001b[0mfilename\u001b[0m\u001b[1;33m)\u001b[0m\u001b[1;33m[\u001b[0m\u001b[1;36m0\u001b[0m\u001b[1;33m]\u001b[0m\u001b[1;33m,\u001b[0m \u001b[0mfdir_modelruninput\u001b[0m\u001b[1;33m,\u001b[0m \u001b[0mdi\u001b[0m\u001b[1;33m,\u001b[0m \u001b[0mbatch\u001b[0m\u001b[1;33m)\u001b[0m\u001b[1;33m\u001b[0m\u001b[1;33m\u001b[0m\u001b[0m\n",
      "\u001b[1;31mFileNotFoundError\u001b[0m: [WinError 3] The system cannot find the path specified: 'C:\\\\engDev\\\\git_mf\\\\ipyrun\\\\ipyrun\\\\appdata\\\\inputs\\\\modelruninputs'"
     ]
    }
   ],
   "source": [
    "if __name__ =='__main__':\n",
    "\n",
    "    \n",
    "    \n",
    "    # dumb form\n",
    "    #form = RunForm()\n",
    "    #form\n",
    "\n",
    "\n",
    "    # Example1 --------------------------\n",
    "    # RunApp example, using a default JSON file\n",
    "    # EDIT JSON FILE with custom config and file management\n",
    "\n",
    "    config={\n",
    "        'fpth_script':os.path.join(os.environ['mf_root'],r'MF_Toolbox\\dev\\mf_scripts\\docx_to_pdf.py'),\n",
    "        'fdir':NBFDIR,\n",
    "        'script_outputs': {'0': {\n",
    "            'fdir':r'..\\reports',\n",
    "            'fnm': r'JupyterReportDemo.pdf',\n",
    "            'description': \"a pdf report from word\"\n",
    "                }\n",
    "            }\n",
    "        }    \n",
    "\n",
    "    rjson = RunAppModelRun(config)  \n",
    "    display(Markdown('### Example1'))\n",
    "    display(Markdown('''default RunApp.'''))\n",
    "    display(rjson)\n",
    "\n",
    "    display(Markdown('---'))  \n",
    "    display(Markdown(''))  \n",
    "\n",
    "    # Example2 --------------------------\n",
    "    class RunAppEditCsv(RunApp):\n",
    "\n",
    "        def __init__(self, config):\n",
    "            super().__init__(config)\n",
    "\n",
    "        def _edit_inputs(self, sender):\n",
    "            with self.out:\n",
    "                clear_output()\n",
    "                display(EditCsv(self.config))\n",
    "\n",
    "    di={\n",
    "        'fpth_script':os.path.join(os.environ['mf_root'],r'MF_Toolbox\\dev\\mf_scripts\\eplus_pipework_params.py'),\n",
    "        #'process_name':os.path.basename(os.path.join(os.environ['mf_root'],r'MF_Toolbox\\dev\\mf_scripts\\eplus_pipework_params.py')),\n",
    "        #'fpth_inputs':os.path.join(os.environ['mf_root'],r'MF_Toolbox\\dev\\mf_scripts\\configs\\eplus_pipework_params.csv'),\n",
    "        'fdir':NBFDIR,\n",
    "        #'fpth_log':os.path.join(NBFDIR,'notebooks',config),\n",
    "        #'fdir_outputs':os.path.join(NBFDIR,'notebooks')\n",
    "        #'RunApp_help':RunApp_help\n",
    "        }  \n",
    "    rcsv = RunAppEditCsv(di)  \n",
    "    display(Markdown('### Example2'))\n",
    "    display(Markdown('''example where the RunApp class has been extended by inheriting the \n",
    "    RunApp and overwriting the _edit_inputs\n",
    "    take a simple csv file as an input instead of a JSON file...\n",
    "    the main funtions that can be overwritten to extend the class in this way are:\n",
    "\n",
    "    - _help\n",
    "    - _show_guide\n",
    "    - _edit_inputs\n",
    "    - _run\n",
    "    - _preview_outputs'''))\n",
    "    display(rcsv)\n",
    "    display(Markdown('---'))  \n",
    "    display(Markdown(''))  \n",
    "\n",
    "    # Example3 --------------------------\n",
    "    di={\n",
    "        'fpth_script':os.path.join(os.environ['mf_root'],r'MF_Toolbox\\dev\\mf_scripts\\eplus_pipework_params.py'),\n",
    "        #'process_name':os.path.basename(os.path.join(os.environ['mf_root'],r'MF_Toolbox\\dev\\mf_scripts\\eplus_pipework_params.py')),\n",
    "        #'fpth_inputs':os.path.join(os.environ['mf_root'],r'MF_Toolbox\\dev\\mf_scripts\\configs\\eplus_pipework_params.csv'),\n",
    "        'fdir':os.path.join(NBFDIR,'notebooks'),\n",
    "        'fdir_outputs':os.path.join(NBFDIR,'notebooks')\n",
    "        }  \n",
    "\n",
    "    defaultrunapp={\n",
    "        'fpth_script':os.path.join(os.environ['mf_root'],r'MF_Toolbox\\dev\\mf_scripts\\docx_to_pdf.py'),\n",
    "        'fdir':NBFDIR,\n",
    "        'script_outputs': {'0': {\n",
    "            'fdir':r'..\\reports',\n",
    "            'fnm': r'JupyterReportDemo.pdf',\n",
    "            'description': \"a pdf report from word\"\n",
    "                }\n",
    "            }\n",
    "        }\n",
    "\n",
    "    runappcsv = {'app':RunAppEditCsv,'config':di}\n",
    "    configs = [runappcsv,defaultrunapp,runappcsv]\n",
    "    runapps = RunApps(configs)  \n",
    "\n",
    "    display(Markdown('### Example3'))\n",
    "    display(Markdown('''\n",
    "    demonstrates how multiple RunApp's can be ran as a batch. if not explicitly defined, the app assumes the default\n",
    "    RunApp is used.<br> it is also possible to explictly pass a RunApp variant, and it will still be executed within the batch:  \n",
    "\n",
    "    ```\n",
    "        di={\n",
    "            'fpth_script':os.path.join(os.environ['mf_root'],r'MF_Toolbox\\dev\\mf_scripts\\eplus_pipework_params.py'),\n",
    "            #'process_name':os.path.basename(os.path.join(os.environ['mf_root'],r'MF_Toolbox\\dev\\mf_scripts\\eplus_pipework_params.py')),\n",
    "            #'fpth_inputs':os.path.join(os.environ['mf_root'],r'MF_Toolbox\\dev\\mf_scripts\\configs\\eplus_pipework_params.csv'),\n",
    "            'fdir':os.path.join(NBFDIR,'notebooks'),\n",
    "            'fdir_outputs':os.path.join(NBFDIR,'notebooks')\n",
    "            }  \n",
    "\n",
    "        defaultrunapp={\n",
    "            'fpth_script':os.path.join(os.environ['mf_root'],r'MF_Toolbox\\dev\\mf_scripts\\docx_to_pdf.py'),\n",
    "            'fdir':NBFDIR,\n",
    "            'script_outputs': {'0': {\n",
    "                'fdir':r'..\\reports',\n",
    "                'fnm': r'JupyterReportDemo.pdf',\n",
    "                'description': \"a pdf report from word\"\n",
    "                    }\n",
    "                }\n",
    "            }\n",
    "\n",
    "        runappcsv = {'app':RunAppEditCsv,'config':di}\n",
    "        configs = [runappcsv,defaultrunapp,runappcsv]\n",
    "        runapps = RunApps(configs)  \n",
    "        display(runapps)\n",
    "    ```\n",
    "    '''))\n",
    "    display(runapps)\n",
    "    display(Markdown('---'))  \n",
    "    display(Markdown('')) \n",
    "\n",
    "    # Example4 --------------------------\n",
    "    di={\n",
    "        'fpth_script':os.path.join(os.environ['mf_root'],r'MF_Toolbox\\dev\\mf_scripts\\eplus_pipework_params.py'),\n",
    "        #'process_name':os.path.basename(os.path.join(os.environ['mf_root'],r'MF_Toolbox\\dev\\mf_scripts\\eplus_pipework_params.py')),\n",
    "        #'fpth_inputs':os.path.join(os.environ['mf_root'],r'MF_Toolbox\\dev\\mf_scripts\\configs\\eplus_pipework_params.csv'),\n",
    "        'fdir':os.path.join(NBFDIR,'notebooks'),\n",
    "        'fdir_outputs':os.path.join(NBFDIR,'notebooks')\n",
    "        }  \n",
    "\n",
    "    defaultrunapp={\n",
    "        'fpth_script':os.path.join(os.environ['mf_root'],r'MF_Toolbox\\dev\\mf_scripts\\docx_to_pdf.py'),\n",
    "        'fdir':NBFDIR,\n",
    "        'script_outputs': {'0': {\n",
    "            'fdir':r'..\\reports',\n",
    "            'fnm': r'JupyterReportDemo.pdf',\n",
    "            'description': \"a pdf report from word\"\n",
    "                }\n",
    "            }\n",
    "        }\n",
    "\n",
    "    runappcsv = {'app':RunAppEditCsv,'config':di}\n",
    "    configs = [runappcsv,defaultrunapp,runappcsv]\n",
    "    runapps = RunAppsMruns(configs)  \n",
    "\n",
    "    display(Markdown('### Example4'))\n",
    "    display(Markdown('''\n",
    "    as above but with an add run feature added. \n",
    "\n",
    "    ```\n",
    "        di={\n",
    "            'fpth_script':os.path.join(os.environ['mf_root'],r'MF_Toolbox\\dev\\mf_scripts\\eplus_pipework_params.py'),\n",
    "            #'process_name':os.path.basename(os.path.join(os.environ['mf_root'],r'MF_Toolbox\\dev\\mf_scripts\\eplus_pipework_params.py')),\n",
    "            #'fpth_inputs':os.path.join(os.environ['mf_root'],r'MF_Toolbox\\dev\\mf_scripts\\configs\\eplus_pipework_params.csv'),\n",
    "            'fdir':os.path.join(NBFDIR,'notebooks'),\n",
    "            'fdir_outputs':os.path.join(NBFDIR,'notebooks')\n",
    "            }  \n",
    "\n",
    "        defaultrunapp={\n",
    "            'fpth_script':os.path.join(os.environ['mf_root'],r'MF_Toolbox\\dev\\mf_scripts\\docx_to_pdf.py'),\n",
    "            'fdir':NBFDIR,\n",
    "            'script_outputs': {'0': {\n",
    "                'fdir':r'..\\reports',\n",
    "                'fnm': r'JupyterReportDemo.pdf',\n",
    "                'description': \"a pdf report from word\"\n",
    "                    }\n",
    "                }\n",
    "            }\n",
    "\n",
    "        runappcsv = {'app':RunAppEditCsv,'config':di}\n",
    "        configs = [runappcsv,defaultrunapp,runappcsv]\n",
    "        runapps = RunApps(configs)  \n",
    "        display(runapps)\n",
    "    ```\n",
    "    '''))\n",
    "    display(runapps)\n",
    "    display(Markdown('---'))  \n",
    "    display(Markdown('')) \n",
    "    \n",
    "    \n",
    "    \n",
    "    \n",
    "    fpth_script = os.path.join(os.environ['mf_root'],r'MF_Toolbox\\dev\\mf_scripts\\gbxml.py')\n",
    "    config={\n",
    "        'fpth_script':os.path.realpath(fpth_script),\n",
    "        'fdir':NBFDIR\n",
    "        }  \n",
    "    r = RunApp(config)\n",
    "    r\n",
    "\n",
    "   # Example5 --------------------------\n",
    "    fpth_script = r'..\\examples\\scripts\\create_model_run_file.py'\n",
    "    di={\n",
    "        'fpth_script':os.path.realpath(fpth_script),\n",
    "        'fdir':os.path.join(NBFDIR),\n",
    "    } \n",
    "    di_config = RunConfig(di).config\n",
    "    batch = []\n",
    "    fdir_modelruninput = os.path.join(di_config['fdir_inputs'], r'modelruninputs')\n",
    "    \n",
    "    def add_to_batch(process_name, fdir_modelruninput, di, batch):\n",
    "        tmp = di.copy()\n",
    "        fpth_modelruninput = os.path.join(fdir_modelruninput, '{0}{1}'.format(process_name,'.json'))\n",
    "        tmp['fpth_inputs'] = fpth_modelruninput\n",
    "        tmp['fdir_inputs'] = fdir_modelruninput\n",
    "        tmp.update({'process_name':process_name})\n",
    "        batch.append({'app':RunAppModelRun,'config':tmp})\n",
    "        return batch\n",
    "    \n",
    "    for filename in os.listdir(fdir_modelruninput):\n",
    "        if filename.endswith(\".json\"):\n",
    "            batch = add_to_batch(os.path.splitext(filename)[0], fdir_modelruninput, di, batch)\n",
    "\n",
    "    filename = os.path.basename(fpth_script)\n",
    "    process_name = '{0}_{1}'.format(os.path.splitext(filename)[0],'0')\n",
    "    if not batch:\n",
    "        batch = add_to_batch(process_name, fdir_modelruninput, di, batch)\n",
    "        \n",
    "    runapps = RunAppsMruns(batch)  \n",
    "    display(Markdown('### Example5'))\n",
    "    display(Markdown('''Batch Run of RunApps, for ModelRun'''))\n",
    "    display(runapps, display_id=True)\n",
    "    \n",
    "\n",
    "\n"
   ]
  },
  {
   "cell_type": "code",
   "execution_count": null,
   "metadata": {},
   "outputs": [],
   "source": []
  },
  {
   "cell_type": "code",
   "execution_count": null,
   "metadata": {},
   "outputs": [],
   "source": []
  }
 ],
 "metadata": {
  "jupytext": {
   "formats": "ipynb,py:light"
  },
  "kernelspec": {
   "display_name": "Python [conda env:mf_main] *",
   "language": "python",
   "name": "conda-env-mf_main-py"
  },
  "language_info": {
   "codemirror_mode": {
    "name": "ipython",
    "version": 3
   },
   "file_extension": ".py",
   "mimetype": "text/x-python",
   "name": "python",
   "nbconvert_exporter": "python",
   "pygments_lexer": "ipython3",
   "version": "3.7.7"
  },
  "widgets": {
   "application/vnd.jupyter.widget-state+json": {
    "state": {
     "00032d78ed3e4462b46a62bee69e923f": {
      "model_module": "@jupyter-widgets/base",
      "model_module_version": "1.2.0",
      "model_name": "LayoutModel",
      "state": {
       "height": "30px",
       "width": "auto"
      }
     },
     "0021006a2a3f4fcda54374f8213d7065": {
      "model_module": "@jupyter-widgets/base",
      "model_module_version": "1.2.0",
      "model_name": "LayoutModel",
      "state": {}
     },
     "00294f971b9a4e2e8dc93f287c690228": {
      "model_module": "@jupyter-widgets/base",
      "model_module_version": "1.2.0",
      "model_name": "LayoutModel",
      "state": {
       "align_items": "stretch",
       "width": "100%"
      }
     },
     "00365e897a274fd789adee4530f78315": {
      "model_module": "@jupyter-widgets/base",
      "model_module_version": "1.2.0",
      "model_name": "LayoutModel",
      "state": {
       "height": "30px",
       "width": "auto"
      }
     },
     "00411fe00ff6425ab42bf6cf5de3a551": {
      "model_module": "@jupyter-widgets/base",
      "model_module_version": "1.2.0",
      "model_name": "LayoutModel",
      "state": {}
     },
     "005e170e1eab49c7a7f774a1428efe51": {
      "model_module": "@jupyter-widgets/controls",
      "model_module_version": "1.5.0",
      "model_name": "ButtonStyleModel",
      "state": {}
     },
     "00695587e5704ffe81285526c908ff87": {
      "model_module": "@jupyter-widgets/controls",
      "model_module_version": "1.5.0",
      "model_name": "DescriptionStyleModel",
      "state": {
       "description_width": ""
      }
     },
     "006df06e2d5f430f9c927f63fcfdd965": {
      "model_module": "@jupyter-widgets/base",
      "model_module_version": "1.2.0",
      "model_name": "LayoutModel",
      "state": {}
     },
     "007fe7441b0249b58a5e72cad7ccdc4f": {
      "model_module": "@jupyter-widgets/controls",
      "model_module_version": "1.5.0",
      "model_name": "AccordionModel",
      "state": {
       "_titles": {
        "0": "docx_to_pdf"
       },
       "children": [
        "IPY_MODEL_2249135af3e9486895ab5201095209f6"
       ],
       "layout": "IPY_MODEL_03a983884f72468eb19fda80fddc09be",
       "selected_index": null
      }
     },
     "009106f690804d52a9346ed94d758cbb": {
      "model_module": "@jupyter-widgets/base",
      "model_module_version": "1.2.0",
      "model_name": "LayoutModel",
      "state": {
       "width": "5%"
      }
     },
     "0096de116d7844ef87ad552922003b72": {
      "model_module": "@jupyter-widgets/base",
      "model_module_version": "1.2.0",
      "model_name": "LayoutModel",
      "state": {}
     },
     "00a09ae8447f45358024a7c893d9856d": {
      "model_module": "@jupyter-widgets/base",
      "model_module_version": "1.2.0",
      "model_name": "LayoutModel",
      "state": {}
     },
     "00a8119235d24e2a9a9c05efce61df4e": {
      "model_module": "@jupyter-widgets/base",
      "model_module_version": "1.2.0",
      "model_name": "LayoutModel",
      "state": {}
     },
     "00d98e2f3a7d4b5bb9cfe9439c0e5601": {
      "model_module": "@jupyter-widgets/controls",
      "model_module_version": "1.5.0",
      "model_name": "TextModel",
      "state": {
       "description": "script",
       "disabled": true,
       "layout": "IPY_MODEL_e5aeba9806e746318da1db886b50a5da",
       "style": "IPY_MODEL_80b41f3fee6c49a4998477ecfeebdd93",
       "value": "C:\\engDev\\git_mf\\MF_Toolbox\\dev\\mf_scripts\\eplus_pipework_params.py"
      }
     },
     "00e4d347224f489886ecb62ad05b1396": {
      "model_module": "@jupyter-widgets/controls",
      "model_module_version": "1.5.0",
      "model_name": "ButtonStyleModel",
      "state": {
       "font_weight": "bold"
      }
     },
     "00f65f5e57cb460d8374caa4f049599e": {
      "model_module": "@jupyter-widgets/controls",
      "model_module_version": "1.5.0",
      "model_name": "AccordionModel",
      "state": {
       "_titles": {
        "0": "docx_to_pdf"
       },
       "children": [
        "IPY_MODEL_5c018950aa954364a64716f698149ede"
       ],
       "layout": "IPY_MODEL_5a2da352bcb4459ba615d270c6bc5de5",
       "selected_index": null
      }
     },
     "012092a2e5c94f03918939902cea6541": {
      "model_module": "@jupyter-widgets/base",
      "model_module_version": "1.2.0",
      "model_name": "LayoutModel",
      "state": {
       "align_items": "stretch",
       "width": "100%"
      }
     },
     "0153406294e846a1adce8791df5559f1": {
      "model_module": "@jupyter-widgets/controls",
      "model_module_version": "1.5.0",
      "model_name": "DescriptionStyleModel",
      "state": {
       "description_width": ""
      }
     },
     "0158c32468d1487f8522fd304a31732e": {
      "model_module": "@jupyter-widgets/base",
      "model_module_version": "1.2.0",
      "model_name": "LayoutModel",
      "state": {}
     },
     "017e9c94d07d44a483b4e3342a8dadd2": {
      "model_module": "@jupyter-widgets/output",
      "model_module_version": "1.0.0",
      "model_name": "OutputModel",
      "state": {
       "layout": "IPY_MODEL_98e8362b282f41f9b3bbcde4dc19eb53"
      }
     },
     "0193807bf451458bb2a3b1f7c9599a5f": {
      "model_module": "@jupyter-widgets/controls",
      "model_module_version": "1.5.0",
      "model_name": "ButtonModel",
      "state": {
       "button_style": "warning",
       "description": "edit inputs",
       "layout": "IPY_MODEL_dbdc05e07286497abea6196b71cb9bb0",
       "style": "IPY_MODEL_17068f9081e84e8dbb300528b89053b9",
       "tooltip": "edit the user input information that is used when the script is executed"
      }
     },
     "01e3000bb88e4919b9d48db22a440333": {
      "model_module": "@jupyter-widgets/controls",
      "model_module_version": "1.5.0",
      "model_name": "ButtonModel",
      "state": {
       "icon": "question-circle",
       "layout": "IPY_MODEL_77108cf349cf4d60b860aebdd7adb777",
       "style": "IPY_MODEL_ea994b122dfa4cd3b48313e308c09870",
       "tooltip": "describes the functionality of elements in the RunApp interface"
      }
     },
     "0237f57aaf5a4beebcdf204bae70b4ac": {
      "model_module": "@jupyter-widgets/base",
      "model_module_version": "1.2.0",
      "model_name": "LayoutModel",
      "state": {
       "align_items": "stretch",
       "width": "100%"
      }
     },
     "023870be337c420590802895254d8751": {
      "model_module": "@jupyter-widgets/controls",
      "model_module_version": "1.5.0",
      "model_name": "VBoxModel",
      "state": {
       "children": [
        "IPY_MODEL_a6cbaf85e0b6464daa0d3b1dbb3bc33d",
        "IPY_MODEL_c3b10b10d5cd433c9e6ab159c9fa838e"
       ],
       "layout": "IPY_MODEL_faacc51bfa3b45d7989046096ee41f9b"
      }
     },
     "028185b99b204e64bbe4c25cad08eedc": {
      "model_module": "@jupyter-widgets/controls",
      "model_module_version": "1.5.0",
      "model_name": "ButtonModel",
      "state": {
       "button_style": "info",
       "description": "show log",
       "layout": "IPY_MODEL_0654eef8ec7c4216880e7973827ae390",
       "style": "IPY_MODEL_3861cef043824aae8323e7056c67299b",
       "tooltip": "show a log of when the script was executed to generate the outputs, and by who"
      }
     },
     "0286e66cae5c4467813625bb4f233f5c": {
      "model_module": "@jupyter-widgets/controls",
      "model_module_version": "1.5.0",
      "model_name": "ButtonStyleModel",
      "state": {
       "font_weight": "bold"
      }
     },
     "02999691bd894b568567878fe0761ea3": {
      "model_module": "@jupyter-widgets/base",
      "model_module_version": "1.2.0",
      "model_name": "LayoutModel",
      "state": {}
     },
     "02c3e5a2e043417aa99c6941fa5a3939": {
      "model_module": "@jupyter-widgets/base",
      "model_module_version": "1.2.0",
      "model_name": "LayoutModel",
      "state": {
       "height": "30px",
       "width": "auto"
      }
     },
     "02d0de2ce0f5456f88e437155a2c654e": {
      "model_module": "@jupyter-widgets/controls",
      "model_module_version": "1.5.0",
      "model_name": "ButtonStyleModel",
      "state": {
       "font_weight": "bold"
      }
     },
     "02d17c15ae184e1aba65e1d645e82223": {
      "model_module": "@jupyter-widgets/controls",
      "model_module_version": "1.5.0",
      "model_name": "DescriptionStyleModel",
      "state": {
       "description_width": ""
      }
     },
     "02d83021a2974be9b4a4b1b43af264b5": {
      "model_module": "@jupyter-widgets/controls",
      "model_module_version": "1.5.0",
      "model_name": "ButtonStyleModel",
      "state": {
       "font_weight": "bold"
      }
     },
     "02da5f2ae6434a6f80b215872666df9e": {
      "model_module": "@jupyter-widgets/controls",
      "model_module_version": "1.5.0",
      "model_name": "ButtonModel",
      "state": {
       "button_style": "info",
       "description": "show source code",
       "layout": "IPY_MODEL_d87f3a75c2ab460abb1a512c70e4ca10",
       "style": "IPY_MODEL_8c3d5b231eab4da8b4d67e8810d1dff4",
       "tooltip": "shows the raw python code in the preview window below"
      }
     },
     "02e776017b644af3aab82e4c4931e570": {
      "model_module": "@jupyter-widgets/controls",
      "model_module_version": "1.5.0",
      "model_name": "ButtonModel",
      "state": {
       "button_style": "warning",
       "description": "edit inputs",
       "layout": "IPY_MODEL_bf55e93d3cbb408ebd46439314a28574",
       "style": "IPY_MODEL_da06f7ec9c5749d3ba728a52900a0b0c",
       "tooltip": "edit the user input information that is used when the script is executed"
      }
     },
     "02fa8cf6a8fd44418549b301178a45b5": {
      "model_module": "@jupyter-widgets/base",
      "model_module_version": "1.2.0",
      "model_name": "LayoutModel",
      "state": {}
     },
     "02fb332cc4f14a4ea7b15ea1d49f5989": {
      "model_module": "@jupyter-widgets/controls",
      "model_module_version": "1.5.0",
      "model_name": "ButtonModel",
      "state": {
       "button_style": "info",
       "description": "show guide",
       "layout": "IPY_MODEL_0fd1bf20f3f44beeb84b254cd22d9b89",
       "style": "IPY_MODEL_42c9292b675943dca825ff8fad538398",
       "tooltip": "read the \"docstring\", ie. the documentation that was written to accompany the script"
      }
     },
     "02ff593b108c4f248f3ac013a83a5991": {
      "model_module": "@jupyter-widgets/base",
      "model_module_version": "1.2.0",
      "model_name": "LayoutModel",
      "state": {
       "height": "30px",
       "width": "auto"
      }
     },
     "0301fa10a314486cb12add5686965292": {
      "model_module": "@jupyter-widgets/controls",
      "model_module_version": "1.5.0",
      "model_name": "ButtonStyleModel",
      "state": {
       "font_weight": "bold"
      }
     },
     "03048e1cc7ed4c9fa11417f2cdededd2": {
      "model_module": "@jupyter-widgets/base",
      "model_module_version": "1.2.0",
      "model_name": "LayoutModel",
      "state": {}
     },
     "030ab31c2b5e4fca92e38b73a88019ad": {
      "model_module": "@jupyter-widgets/controls",
      "model_module_version": "1.5.0",
      "model_name": "DescriptionStyleModel",
      "state": {
       "description_width": ""
      }
     },
     "032218dfadbe42fcb2e9fd7dc06d9f1d": {
      "model_module": "@jupyter-widgets/base",
      "model_module_version": "1.2.0",
      "model_name": "LayoutModel",
      "state": {
       "align_items": "stretch",
       "width": "100%"
      }
     },
     "034f727cd56142449db48acbeb2a0360": {
      "model_module": "@jupyter-widgets/base",
      "model_module_version": "1.2.0",
      "model_name": "LayoutModel",
      "state": {
       "height": "30px",
       "width": "auto"
      }
     },
     "0353fe127ea04461a8dab8e346833e87": {
      "model_module": "@jupyter-widgets/controls",
      "model_module_version": "1.5.0",
      "model_name": "DescriptionStyleModel",
      "state": {
       "description_width": ""
      }
     },
     "0354dc4cf3e64c968ccc7133acaefeaa": {
      "model_module": "@jupyter-widgets/base",
      "model_module_version": "1.2.0",
      "model_name": "LayoutModel",
      "state": {
       "width": "100%"
      }
     },
     "0364ebba0f4643f295d2c4004a3cf9ed": {
      "model_module": "@jupyter-widgets/base",
      "model_module_version": "1.2.0",
      "model_name": "LayoutModel",
      "state": {
       "width": "5%"
      }
     },
     "0398f7cb392a4738a505330b5bc383d0": {
      "model_module": "@jupyter-widgets/output",
      "model_module_version": "1.0.0",
      "model_name": "OutputModel",
      "state": {
       "layout": "IPY_MODEL_a625f25dcfa84f4ab6a4d979d9d21f28"
      }
     },
     "03a2be77dbed4b3483749b0dc2d759ee": {
      "model_module": "@jupyter-widgets/base",
      "model_module_version": "1.2.0",
      "model_name": "LayoutModel",
      "state": {
       "width": "100%"
      }
     },
     "03a983884f72468eb19fda80fddc09be": {
      "model_module": "@jupyter-widgets/base",
      "model_module_version": "1.2.0",
      "model_name": "LayoutModel",
      "state": {
       "width": "100%"
      }
     },
     "03b4517c980c4398a077763d2f22309e": {
      "model_module": "@jupyter-widgets/base",
      "model_module_version": "1.2.0",
      "model_name": "LayoutModel",
      "state": {}
     },
     "040b2c149c2440dfa8eedd8f4783a5e2": {
      "model_module": "@jupyter-widgets/controls",
      "model_module_version": "1.5.0",
      "model_name": "ButtonModel",
      "state": {
       "button_style": "info",
       "description": "show guide",
       "layout": "IPY_MODEL_5f5922b9309d4aaf8a325765829aa741",
       "style": "IPY_MODEL_da3981c5a2994cc3b4aed03c82bb54dc",
       "tooltip": "read the \"docstring\", ie. the documentation that was written to accompany the script"
      }
     },
     "04111d2e59dc4dbeabab63202f58fbc0": {
      "model_module": "@jupyter-widgets/controls",
      "model_module_version": "1.5.0",
      "model_name": "DescriptionStyleModel",
      "state": {
       "description_width": ""
      }
     },
     "0425832106874a8092b5a7784ac4bd3a": {
      "model_module": "@jupyter-widgets/controls",
      "model_module_version": "1.5.0",
      "model_name": "CheckboxModel",
      "state": {
       "disabled": false,
       "indent": false,
       "layout": "IPY_MODEL_c2f91b3b929d430791af120e1758fb3d",
       "style": "IPY_MODEL_97109657589749868d2cb11c6da11db1",
       "value": false
      }
     },
     "042cf03d76ce401d8a511ebf85a50440": {
      "model_module": "@jupyter-widgets/output",
      "model_module_version": "1.0.0",
      "model_name": "OutputModel",
      "state": {
       "layout": "IPY_MODEL_20574927fb8d433e83a72252d9ec192b"
      }
     },
     "043c5f62d11244d1873fb3c216e907cd": {
      "model_module": "@jupyter-widgets/base",
      "model_module_version": "1.2.0",
      "model_name": "LayoutModel",
      "state": {
       "align_items": "stretch",
       "width": "100%"
      }
     },
     "0446abc86e1c491c87f7d3d65c79f949": {
      "model_module": "@jupyter-widgets/controls",
      "model_module_version": "1.5.0",
      "model_name": "ButtonStyleModel",
      "state": {
       "font_weight": "bold"
      }
     },
     "044d76bd420345ef94dd8a928896d40f": {
      "model_module": "@jupyter-widgets/controls",
      "model_module_version": "1.5.0",
      "model_name": "DescriptionStyleModel",
      "state": {
       "description_width": ""
      }
     },
     "045452f559bb48a9b3607975fb8abed1": {
      "model_module": "@jupyter-widgets/base",
      "model_module_version": "1.2.0",
      "model_name": "LayoutModel",
      "state": {}
     },
     "045b2d54500544c998b2ae4254841091": {
      "model_module": "@jupyter-widgets/controls",
      "model_module_version": "1.5.0",
      "model_name": "VBoxModel",
      "state": {
       "children": [
        "IPY_MODEL_4578a0dd2b1f440ba7407dcbec646cd7",
        "IPY_MODEL_d48eddbb067741c5b298ee77a6a7add9"
       ],
       "layout": "IPY_MODEL_4fa5ad0c204048ca81811b8457163bf7"
      }
     },
     "046afa55fea44587b594e655f73b0dfa": {
      "model_module": "@jupyter-widgets/base",
      "model_module_version": "1.2.0",
      "model_name": "LayoutModel",
      "state": {
       "border": "0px",
       "margin": "0px",
       "padding": "0px"
      }
     },
     "0472889f5e4841ed8a48db8c62e1df57": {
      "model_module": "@jupyter-widgets/base",
      "model_module_version": "1.2.0",
      "model_name": "LayoutModel",
      "state": {}
     },
     "048a558969064230bec9902495975ec8": {
      "model_module": "@jupyter-widgets/controls",
      "model_module_version": "1.5.0",
      "model_name": "HBoxModel",
      "state": {
       "children": [
        "IPY_MODEL_4bcf1b25590f46728ded2f8d9d373e3e",
        "IPY_MODEL_d350351328b846da8d0d92b096b3f94a",
        "IPY_MODEL_b37e7998eb87477189450103477b919c",
        "IPY_MODEL_f3ca1cfece1847bf93659fb40706eb4c",
        "IPY_MODEL_c051e741356f4d548e3495e4681af148",
        "IPY_MODEL_5090816b52054d039ada285034239f4e",
        "IPY_MODEL_36af419234e74e9389cb54aa645da358"
       ],
       "layout": "IPY_MODEL_8b5e79e575f443a5b9432fe84d6bc570"
      }
     },
     "048ecf4365274f3e87c7909718feff1f": {
      "model_module": "@jupyter-widgets/base",
      "model_module_version": "1.2.0",
      "model_name": "LayoutModel",
      "state": {
       "height": "30px",
       "width": "auto"
      }
     },
     "04a5ddede7f54ffb82f915a3cb3e93f9": {
      "model_module": "@jupyter-widgets/controls",
      "model_module_version": "1.5.0",
      "model_name": "HBoxModel",
      "state": {
       "children": [
        "IPY_MODEL_d2bab63559624db7b461e3688c435aee",
        "IPY_MODEL_50769b06d07c4ce6a7b3a6661fe8d6e9"
       ],
       "layout": "IPY_MODEL_e6dcc0f3b71f48edacf352c91cfc7010"
      }
     },
     "04b2c7527c8f42a096532e7f66bed750": {
      "model_module": "@jupyter-widgets/controls",
      "model_module_version": "1.5.0",
      "model_name": "ButtonStyleModel",
      "state": {
       "font_weight": "bold"
      }
     },
     "04b5da16b6e348cbafaf73a1422888a2": {
      "model_module": "@jupyter-widgets/base",
      "model_module_version": "1.2.0",
      "model_name": "LayoutModel",
      "state": {}
     },
     "04c3245d8fdb4fd3aafcab54dbc2feb8": {
      "model_module": "@jupyter-widgets/base",
      "model_module_version": "1.2.0",
      "model_name": "LayoutModel",
      "state": {}
     },
     "04cbc3d876f7490083b153d59f114dc6": {
      "model_module": "@jupyter-widgets/base",
      "model_module_version": "1.2.0",
      "model_name": "LayoutModel",
      "state": {}
     },
     "04d5092589744e44a4c9d2bfe3da0990": {
      "model_module": "@jupyter-widgets/controls",
      "model_module_version": "1.5.0",
      "model_name": "ButtonModel",
      "state": {
       "button_style": "success",
       "description": "run",
       "layout": "IPY_MODEL_f31a6e6e413342d0a21eaa03b4d7fb5d",
       "style": "IPY_MODEL_94279c164dc941ab94aa1655bc8c4224",
       "tooltip": "execute the script based on the user inputs"
      }
     },
     "04e1559b45114c048543f97500e808f4": {
      "model_module": "@jupyter-widgets/controls",
      "model_module_version": "1.5.0",
      "model_name": "TextModel",
      "state": {
       "description": "inputs",
       "disabled": true,
       "layout": "IPY_MODEL_e5708ca59b554773ad1040f742dbe2e4",
       "style": "IPY_MODEL_25ce555305304013ab1b10021f4d0581",
       "value": "C:\\engDev\\git_mf\\ipyrun\\ipyrun\\appdata\\inputs\\inputs-gbxml.json"
      }
     },
     "04f351fb60174db09c039a9954683acc": {
      "model_module": "@jupyter-widgets/controls",
      "model_module_version": "1.5.0",
      "model_name": "AccordionModel",
      "state": {
       "_titles": {
        "0": "eplus_pipework_params"
       },
       "children": [
        "IPY_MODEL_3c6f7c5c8dae48dea7852c37dc43b981"
       ],
       "layout": "IPY_MODEL_a52c3a598f8e467b9ef9b2adf25960a2",
       "selected_index": null
      }
     },
     "0515f4282fe145bcbccdd3f6dac2f345": {
      "model_module": "@jupyter-widgets/controls",
      "model_module_version": "1.5.0",
      "model_name": "ButtonModel",
      "state": {
       "button_style": "info",
       "description": "show guide",
       "layout": "IPY_MODEL_a6ea620c93e9445eb12c20d16b2c9781",
       "style": "IPY_MODEL_6d1e1e15a482467aacce852f6832a6f3",
       "tooltip": "read the \"docstring\", ie. the documentation that was written to accompany the script"
      }
     },
     "0516423ea22841fb8ab657d19c3e9317": {
      "model_module": "@jupyter-widgets/controls",
      "model_module_version": "1.5.0",
      "model_name": "DescriptionStyleModel",
      "state": {
       "description_width": ""
      }
     },
     "0560eafa9a664be6bbf65e5dac562660": {
      "model_module": "@jupyter-widgets/controls",
      "model_module_version": "1.5.0",
      "model_name": "TextModel",
      "state": {
       "description": "inputs",
       "disabled": true,
       "layout": "IPY_MODEL_62f12c2f29864f8188c098f900292978",
       "style": "IPY_MODEL_2de082e6b5ff4941aaa0377b16b99b24",
       "value": "C:\\engDev\\git_mf\\ipyrun\\ipyrun\\appdata\\inputs\\inputs-gbxml.json"
      }
     },
     "058f5d24d57e4c4585644406f5a28f85": {
      "model_module": "@jupyter-widgets/base",
      "model_module_version": "1.2.0",
      "model_name": "LayoutModel",
      "state": {
       "width": "5%"
      }
     },
     "05a8dc8078184dfdb85184a4ec6b870c": {
      "model_module": "@jupyter-widgets/base",
      "model_module_version": "1.2.0",
      "model_name": "LayoutModel",
      "state": {
       "height": "30px",
       "width": "auto"
      }
     },
     "05b29a823f2c4836b4e98e8d3ffed019": {
      "model_module": "@jupyter-widgets/controls",
      "model_module_version": "1.5.0",
      "model_name": "ButtonModel",
      "state": {
       "button_style": "warning",
       "description": "edit inputs",
       "layout": "IPY_MODEL_115712967df74fbb9eece169f424cf2f",
       "style": "IPY_MODEL_818618563924404789b3a37bcd65058b",
       "tooltip": "edit the user input information that is used when the script is executed"
      }
     },
     "060b67d05f2e4522a7176f96922bfda1": {
      "model_module": "@jupyter-widgets/base",
      "model_module_version": "1.2.0",
      "model_name": "LayoutModel",
      "state": {
       "border": "0px",
       "margin": "0px",
       "padding": "0px"
      }
     },
     "0628afa094e14ca2bd509bc5966863b2": {
      "model_module": "@jupyter-widgets/controls",
      "model_module_version": "1.5.0",
      "model_name": "ButtonStyleModel",
      "state": {
       "font_weight": "bold"
      }
     },
     "06290cc399594ab5bb31c571ebe82dcf": {
      "model_module": "@jupyter-widgets/base",
      "model_module_version": "1.2.0",
      "model_name": "LayoutModel",
      "state": {}
     },
     "062e3437ae8340d6af5725d3b9556863": {
      "model_module": "@jupyter-widgets/base",
      "model_module_version": "1.2.0",
      "model_name": "LayoutModel",
      "state": {}
     },
     "062e87872fa04c1db15c0b1b39c6e45b": {
      "model_module": "@jupyter-widgets/controls",
      "model_module_version": "1.5.0",
      "model_name": "ButtonModel",
      "state": {
       "icon": "eye-slash",
       "layout": "IPY_MODEL_f14477124bcc4d83970fce432a32b71f",
       "style": "IPY_MODEL_714ec1b3db5c4e069934e2813fb11664",
       "tooltip": "removes temporary output view"
      }
     },
     "0636f5634049478b9808afa20cfc93f4": {
      "model_module": "@jupyter-widgets/controls",
      "model_module_version": "1.5.0",
      "model_name": "ButtonStyleModel",
      "state": {}
     },
     "0654eef8ec7c4216880e7973827ae390": {
      "model_module": "@jupyter-widgets/base",
      "model_module_version": "1.2.0",
      "model_name": "LayoutModel",
      "state": {}
     },
     "066ddbd2fd0f4dec89f8c703dd93db2f": {
      "model_module": "@jupyter-widgets/base",
      "model_module_version": "1.2.0",
      "model_name": "LayoutModel",
      "state": {
       "width": "5%"
      }
     },
     "06a80a340e784322946e6b95d894b5e7": {
      "model_module": "@jupyter-widgets/base",
      "model_module_version": "1.2.0",
      "model_name": "LayoutModel",
      "state": {}
     },
     "06d7e9f05d3e42bd8496162bd5598c28": {
      "model_module": "@jupyter-widgets/base",
      "model_module_version": "1.2.0",
      "model_name": "LayoutModel",
      "state": {
       "width": "5%"
      }
     },
     "0706bbf208e849be98be9b376d2aeab4": {
      "model_module": "@jupyter-widgets/base",
      "model_module_version": "1.2.0",
      "model_name": "LayoutModel",
      "state": {
       "height": "30px",
       "width": "auto"
      }
     },
     "071eeb39e6014e20b7d06dbe99eebd3f": {
      "model_module": "@jupyter-widgets/controls",
      "model_module_version": "1.5.0",
      "model_name": "ButtonModel",
      "state": {
       "button_style": "info",
       "description": "show log",
       "layout": "IPY_MODEL_beaadc2b13fb42d0899a5cf495329ecd",
       "style": "IPY_MODEL_bd151c1e961642ca9fbbe532d1b087fb",
       "tooltip": "show a log of when the script was executed to generate the outputs, and by who"
      }
     },
     "071fd860804c47358e05ffbe0db3c5d8": {
      "model_module": "@jupyter-widgets/controls",
      "model_module_version": "1.5.0",
      "model_name": "HBoxModel",
      "state": {
       "children": [
        "IPY_MODEL_e3f183eaedbf4a3aa9453380b5f0e407",
        "IPY_MODEL_ebc33bb732eb4f68847327bd2c96e475",
        "IPY_MODEL_46727aff0430429c875fb267acab058e",
        "IPY_MODEL_c5d1ed96b7ac4b3fb38fee1075802b57",
        "IPY_MODEL_5e582dfe36344e8ebc0e389e99e7059e",
        "IPY_MODEL_63e7a11fac0746cd8b3ffa942b9b5f75",
        "IPY_MODEL_37deb7304ae746edb029646c11dba388"
       ],
       "layout": "IPY_MODEL_23fa369b5ba4431a90cb88b0671f7e9f"
      }
     },
     "073cce6f09a24f3babe1bbcf7da3b90a": {
      "model_module": "@jupyter-widgets/controls",
      "model_module_version": "1.5.0",
      "model_name": "TextModel",
      "state": {
       "description": "inputs",
       "disabled": true,
       "layout": "IPY_MODEL_5ce11a224e0f4785840d9108f26962df",
       "style": "IPY_MODEL_ad303d73b1cb4514bc91c2735ba7c2d3",
       "value": "C:\\engDev\\git_mf\\ipyrun\\ipyrun\\appdata\\inputs\\inputs-gbxml.json"
      }
     },
     "074efce9799d42829f9c3248f5db3518": {
      "model_module": "@jupyter-widgets/base",
      "model_module_version": "1.2.0",
      "model_name": "LayoutModel",
      "state": {}
     },
     "0755b270b5db46c2a975c269a05100f6": {
      "model_module": "@jupyter-widgets/base",
      "model_module_version": "1.2.0",
      "model_name": "LayoutModel",
      "state": {}
     },
     "078eddd2f9494223a53f854452abc46d": {
      "model_module": "@jupyter-widgets/controls",
      "model_module_version": "1.5.0",
      "model_name": "ButtonStyleModel",
      "state": {
       "font_weight": "bold"
      }
     },
     "079e28efede14721bcf4f2a9d25e2d01": {
      "model_module": "@jupyter-widgets/controls",
      "model_module_version": "1.5.0",
      "model_name": "DescriptionStyleModel",
      "state": {
       "description_width": ""
      }
     },
     "07cb3f3eb804468da56952dfc68b8ae7": {
      "model_module": "@jupyter-widgets/base",
      "model_module_version": "1.2.0",
      "model_name": "LayoutModel",
      "state": {
       "height": "30px",
       "width": "auto"
      }
     },
     "07dd06f2df03422cb419a7f21129907d": {
      "model_module": "@jupyter-widgets/base",
      "model_module_version": "1.2.0",
      "model_name": "LayoutModel",
      "state": {
       "width": "5%"
      }
     },
     "07e6a7cc4dd3418d8cb10cce6b626894": {
      "model_module": "@jupyter-widgets/base",
      "model_module_version": "1.2.0",
      "model_name": "LayoutModel",
      "state": {
       "width": "100%"
      }
     },
     "0802fdd54e72436f8192046f2bbc8d1e": {
      "model_module": "@jupyter-widgets/controls",
      "model_module_version": "1.5.0",
      "model_name": "ButtonStyleModel",
      "state": {
       "font_weight": "bold"
      }
     },
     "081fdfe840914ccb9911b275d9f12eb4": {
      "model_module": "@jupyter-widgets/base",
      "model_module_version": "1.2.0",
      "model_name": "LayoutModel",
      "state": {
       "height": "30px",
       "max_width": "30px",
       "padding": "3px"
      }
     },
     "08761c8bdd3748fc9fa00ee683cf1384": {
      "model_module": "@jupyter-widgets/base",
      "model_module_version": "1.2.0",
      "model_name": "LayoutModel",
      "state": {}
     },
     "0885cd97599446a089cc64977ff8c780": {
      "model_module": "@jupyter-widgets/controls",
      "model_module_version": "1.5.0",
      "model_name": "DescriptionStyleModel",
      "state": {
       "description_width": ""
      }
     },
     "08957187802045deab67e4a74adc2b81": {
      "model_module": "@jupyter-widgets/controls",
      "model_module_version": "1.5.0",
      "model_name": "DescriptionStyleModel",
      "state": {
       "description_width": ""
      }
     },
     "08a0557a0c60406eb4046038a5d8545c": {
      "model_module": "@jupyter-widgets/controls",
      "model_module_version": "1.5.0",
      "model_name": "ButtonModel",
      "state": {
       "icon": "eye-slash",
       "layout": "IPY_MODEL_bf4b6dad872a49e8ad6815d9df2f030f",
       "style": "IPY_MODEL_d835b728d29942fc9e924f8b9aa4fc3c",
       "tooltip": "removes temporary output view"
      }
     },
     "08c3565e58244e9cb7601f568176462d": {
      "model_module": "@jupyter-widgets/base",
      "model_module_version": "1.2.0",
      "model_name": "LayoutModel",
      "state": {
       "height": "30px",
       "width": "auto"
      }
     },
     "08cb83c45da944b58a1c79e42263b6cd": {
      "model_module": "@jupyter-widgets/controls",
      "model_module_version": "1.5.0",
      "model_name": "ButtonModel",
      "state": {
       "button_style": "info",
       "description": "show source code",
       "layout": "IPY_MODEL_3f63bb3515ac4ece87637e60b1672e2c",
       "style": "IPY_MODEL_803cd26aca1d4720a4a602a4471cc13d",
       "tooltip": "shows the raw python code in the preview window below"
      }
     },
     "08e386c7723649c6bf37b3e09a2a0703": {
      "model_module": "@jupyter-widgets/controls",
      "model_module_version": "1.5.0",
      "model_name": "CheckboxModel",
      "state": {
       "disabled": false,
       "indent": false,
       "layout": "IPY_MODEL_45e2587c8b6e4a958f6a4b3b80a3f63d",
       "style": "IPY_MODEL_fa09a607ef03472fb330e971720abd42",
       "value": false
      }
     },
     "08e643402d114784bb0ecdbd31681610": {
      "model_module": "@jupyter-widgets/controls",
      "model_module_version": "1.5.0",
      "model_name": "DescriptionStyleModel",
      "state": {
       "description_width": ""
      }
     },
     "08f0fbd6b4034556a18dc85e0fe5fb24": {
      "model_module": "@jupyter-widgets/controls",
      "model_module_version": "1.5.0",
      "model_name": "ButtonModel",
      "state": {
       "button_style": "info",
       "description": "show source code",
       "layout": "IPY_MODEL_d0f550a1be2244fa9d7b9ae0ca55482b",
       "style": "IPY_MODEL_45c475caf7ab4f9089846d2020f8ca79",
       "tooltip": "shows the raw python code in the preview window below"
      }
     },
     "08fff3d63d2b45a582cb0b8429412143": {
      "model_module": "@jupyter-widgets/base",
      "model_module_version": "1.2.0",
      "model_name": "LayoutModel",
      "state": {
       "width": "5%"
      }
     },
     "09270c8d676b42e6bfb588948dcc88c0": {
      "model_module": "@jupyter-widgets/base",
      "model_module_version": "1.2.0",
      "model_name": "LayoutModel",
      "state": {}
     },
     "097219c000624ba3932a58700646f319": {
      "model_module": "@jupyter-widgets/base",
      "model_module_version": "1.2.0",
      "model_name": "LayoutModel",
      "state": {
       "height": "30px",
       "width": "auto"
      }
     },
     "09769a05d9ab4bd88e0c06d5707e8e26": {
      "model_module": "@jupyter-widgets/controls",
      "model_module_version": "1.5.0",
      "model_name": "ButtonModel",
      "state": {
       "button_style": "info",
       "description": "show guide",
       "layout": "IPY_MODEL_e0850f0ad8a04c1bb68efee7dfdacc3f",
       "style": "IPY_MODEL_98cc297ff2874831a3136c0cfa107ed0",
       "tooltip": "read the \"docstring\", ie. the documentation that was written to accompany the script"
      }
     },
     "09859787c97c4bc0af362fad25c159a8": {
      "model_module": "@jupyter-widgets/base",
      "model_module_version": "1.2.0",
      "model_name": "LayoutModel",
      "state": {
       "align_items": "stretch",
       "width": "100%"
      }
     },
     "0994d4ecddc34d929bea2ae863997a9b": {
      "model_module": "@jupyter-widgets/controls",
      "model_module_version": "1.5.0",
      "model_name": "ButtonStyleModel",
      "state": {
       "font_weight": "bold"
      }
     },
     "09a2db6d68634e58924e29323e978fef": {
      "model_module": "@jupyter-widgets/controls",
      "model_module_version": "1.5.0",
      "model_name": "DescriptionStyleModel",
      "state": {
       "description_width": ""
      }
     },
     "09d6a56a68fd4300a89f413d4e167d32": {
      "model_module": "@jupyter-widgets/controls",
      "model_module_version": "1.5.0",
      "model_name": "ButtonStyleModel",
      "state": {
       "font_weight": "add"
      }
     },
     "09d9e186c2a64f8f97d2e1db2cfcd562": {
      "model_module": "@jupyter-widgets/base",
      "model_module_version": "1.2.0",
      "model_name": "LayoutModel",
      "state": {
       "width": "5%"
      }
     },
     "09ed8e3417394c95a5c89255a3d3e7ae": {
      "model_module": "@jupyter-widgets/base",
      "model_module_version": "1.2.0",
      "model_name": "LayoutModel",
      "state": {
       "width": "5%"
      }
     },
     "09f05ac2127c47da8ee911fbb62c5a5f": {
      "model_module": "@jupyter-widgets/controls",
      "model_module_version": "1.5.0",
      "model_name": "CheckboxModel",
      "state": {
       "disabled": false,
       "indent": false,
       "layout": "IPY_MODEL_e99d3e7668c44af38d496b0e026a4acc",
       "style": "IPY_MODEL_5b3b2b5fbe6d4df28c0ccf2f41674860",
       "value": false
      }
     },
     "0a12f1d870cb406785f2a7ecc5b66269": {
      "model_module": "@jupyter-widgets/controls",
      "model_module_version": "1.5.0",
      "model_name": "ButtonModel",
      "state": {
       "button_style": "info",
       "description": "show log",
       "layout": "IPY_MODEL_1f11883d9eef4fa698e8e1291c723062",
       "style": "IPY_MODEL_fc10475254ba46229387cdd4618195ca",
       "tooltip": "show a log of when the script was executed to generate the outputs, and by who"
      }
     },
     "0a2e28e6aefa44a2abdc7412d4349397": {
      "model_module": "@jupyter-widgets/controls",
      "model_module_version": "1.5.0",
      "model_name": "BoxModel",
      "state": {
       "children": [
        "IPY_MODEL_1d0d825dd0274cab97128f9ce82672ff"
       ],
       "layout": "IPY_MODEL_a8b4900c96b64d55926c2876f3c7174d"
      }
     },
     "0a2e51c85cdd47e3a96253d8d1fec07c": {
      "model_module": "@jupyter-widgets/base",
      "model_module_version": "1.2.0",
      "model_name": "LayoutModel",
      "state": {
       "height": "30px",
       "width": "auto"
      }
     },
     "0a48bca97e7946e5a749d1f579edfb2e": {
      "model_module": "@jupyter-widgets/base",
      "model_module_version": "1.2.0",
      "model_name": "LayoutModel",
      "state": {
       "height": "30px",
       "width": "auto"
      }
     },
     "0a4b25d3f7b341e8a84f2111f21fb83e": {
      "model_module": "@jupyter-widgets/controls",
      "model_module_version": "1.5.0",
      "model_name": "TextModel",
      "state": {
       "description": "script",
       "disabled": true,
       "layout": "IPY_MODEL_f90a4100416f4b12835ad69bd28938ad",
       "style": "IPY_MODEL_a8f7f892310c420eafb49e0039463c0b",
       "value": "C:\\engDev\\git_mf\\MF_Toolbox\\dev\\mf_scripts\\docx_to_pdf.py"
      }
     },
     "0a50f9140ca842f3966c94ec9fa45e67": {
      "model_module": "@jupyter-widgets/base",
      "model_module_version": "1.2.0",
      "model_name": "LayoutModel",
      "state": {
       "height": "30px",
       "width": "auto"
      }
     },
     "0a5286c7d3cb452e8715c87c638f3099": {
      "model_module": "@jupyter-widgets/controls",
      "model_module_version": "1.5.0",
      "model_name": "ButtonModel",
      "state": {
       "button_style": "warning",
       "description": "edit inputs",
       "layout": "IPY_MODEL_6302dafae2c345f7b4c764c8efc84bad",
       "style": "IPY_MODEL_7c0be0ffe33f48a3985cdc1f41b81712",
       "tooltip": "edit the user input information that is used when the script is executed"
      }
     },
     "0a763ac2f8db4b009086ab3754e9843f": {
      "model_module": "@jupyter-widgets/controls",
      "model_module_version": "1.5.0",
      "model_name": "TextModel",
      "state": {
       "description": "script",
       "disabled": true,
       "layout": "IPY_MODEL_1ef475be02b64ebebf04b0ac47da8ca4",
       "style": "IPY_MODEL_caa5ce22ae2445cab0e4f87b8ac5f9fd",
       "value": "C:\\engDev\\git_mf\\MF_Toolbox\\dev\\mf_scripts\\eplus_pipework_params.py"
      }
     },
     "0a7642ddf0ad40c1acab24e68f5dc762": {
      "model_module": "@jupyter-widgets/base",
      "model_module_version": "1.2.0",
      "model_name": "LayoutModel",
      "state": {}
     },
     "0a931d26dc3947dd98616b2e7494e76d": {
      "model_module": "@jupyter-widgets/base",
      "model_module_version": "1.2.0",
      "model_name": "LayoutModel",
      "state": {
       "width": "5%"
      }
     },
     "0a995b224b024dee8911425e3b117050": {
      "model_module": "@jupyter-widgets/base",
      "model_module_version": "1.2.0",
      "model_name": "LayoutModel",
      "state": {
       "height": "30px",
       "width": "auto"
      }
     },
     "0a9d9ed060104471b0050b3a17f84d46": {
      "model_module": "@jupyter-widgets/controls",
      "model_module_version": "1.5.0",
      "model_name": "TextModel",
      "state": {
       "description": "inputs",
       "disabled": true,
       "layout": "IPY_MODEL_a2ad3773594b4f48843bc6c6c16e3540",
       "style": "IPY_MODEL_c30183cb3fc04ccb9ef3ba8e6b2bd838",
       "value": "C:\\engDev\\git_mf\\ipyrun\\ipyrun\\appdata\\inputs\\inputs-gbxml.json"
      }
     },
     "0ae34c2e2a1f4fc7997435d5bd4b756f": {
      "model_module": "@jupyter-widgets/controls",
      "model_module_version": "1.5.0",
      "model_name": "BoxModel",
      "state": {
       "children": [
        "IPY_MODEL_16a54c3bafaa4dd88e33e45c715f6250"
       ],
       "layout": "IPY_MODEL_c6aa649f4d8f4005881878541470ec5c"
      }
     },
     "0b18d685918948e9a70afe004444498f": {
      "model_module": "@jupyter-widgets/base",
      "model_module_version": "1.2.0",
      "model_name": "LayoutModel",
      "state": {}
     },
     "0b1cdff14f184c1882ec3976d7be853c": {
      "model_module": "@jupyter-widgets/controls",
      "model_module_version": "1.5.0",
      "model_name": "HBoxModel",
      "state": {
       "children": [
        "IPY_MODEL_9195932400034187baff3debf4278136",
        "IPY_MODEL_99a41f544f70475593c7d108e1c66c2e",
        "IPY_MODEL_5d79c147a0bd40299f8caec668322ea8",
        "IPY_MODEL_33ce68711e46427f83c854f413a23501",
        "IPY_MODEL_55bcf7b41228443f90ad64b7a986ada6",
        "IPY_MODEL_a643edd0b242482f86f0a0bf3f10bceb",
        "IPY_MODEL_3e1077629c4b4fb58c5972d23a17e5cd"
       ],
       "layout": "IPY_MODEL_8d275922fc7140f4a10ba67917bcbfc7"
      }
     },
     "0b2b52839b434f02b9ce5589b775cdb3": {
      "model_module": "@jupyter-widgets/controls",
      "model_module_version": "1.5.0",
      "model_name": "DescriptionStyleModel",
      "state": {
       "description_width": ""
      }
     },
     "0b5184398f8f4e79bfb0d414300978a1": {
      "model_module": "@jupyter-widgets/controls",
      "model_module_version": "1.5.0",
      "model_name": "ButtonStyleModel",
      "state": {
       "font_weight": "bold"
      }
     },
     "0b910d479b6741c0aaf8be1bc6c6be91": {
      "model_module": "@jupyter-widgets/base",
      "model_module_version": "1.2.0",
      "model_name": "LayoutModel",
      "state": {
       "align_items": "stretch",
       "width": "100%"
      }
     },
     "0b91c945c8a143a4b1f0ee80017c7427": {
      "model_module": "@jupyter-widgets/base",
      "model_module_version": "1.2.0",
      "model_name": "LayoutModel",
      "state": {}
     },
     "0ba6828d73e84f54801b2344efcbef28": {
      "model_module": "@jupyter-widgets/base",
      "model_module_version": "1.2.0",
      "model_name": "LayoutModel",
      "state": {}
     },
     "0bb67cce31f74253a6c5713a78da5974": {
      "model_module": "@jupyter-widgets/controls",
      "model_module_version": "1.5.0",
      "model_name": "ButtonModel",
      "state": {
       "button_style": "info",
       "description": "show log",
       "layout": "IPY_MODEL_de2055c4f9484855bb0cea255c83239a",
       "style": "IPY_MODEL_21e5469e78d5404987260318b3154e9a",
       "tooltip": "show a log of when the script was executed to generate the outputs, and by who"
      }
     },
     "0bc4bc88380e4ac5beab64f32ed2f683": {
      "model_module": "@jupyter-widgets/controls",
      "model_module_version": "1.5.0",
      "model_name": "ButtonModel",
      "state": {
       "button_style": "warning",
       "description": "edit inputs",
       "layout": "IPY_MODEL_92682256e8da479cac419fbfb9ff69ad",
       "style": "IPY_MODEL_02d0de2ce0f5456f88e437155a2c654e",
       "tooltip": "edit the user input information that is used when the script is executed"
      }
     },
     "0be1af79b6a04ef7b383e01b99f92ff0": {
      "model_module": "@jupyter-widgets/controls",
      "model_module_version": "1.5.0",
      "model_name": "ButtonStyleModel",
      "state": {
       "font_weight": "bold"
      }
     },
     "0be9474c738f4a308551d8ef4b6ccc02": {
      "model_module": "@jupyter-widgets/base",
      "model_module_version": "1.2.0",
      "model_name": "LayoutModel",
      "state": {}
     },
     "0c17fe5a91f7457da33ef4a98feaf3cb": {
      "model_module": "@jupyter-widgets/controls",
      "model_module_version": "1.5.0",
      "model_name": "VBoxModel",
      "state": {
       "children": [
        "IPY_MODEL_a63385f938db47739dcecad53248d510",
        "IPY_MODEL_7e71fc96f82d45048ff3f40cab79b52b",
        "IPY_MODEL_ec983b99bb5548859d0c70088f2f6ad7"
       ],
       "layout": "IPY_MODEL_99ccc456604c4f1b8a0d8dd3232dc17a"
      }
     },
     "0c1fbb3f49df442f8181e8312ab16913": {
      "model_module": "@jupyter-widgets/base",
      "model_module_version": "1.2.0",
      "model_name": "LayoutModel",
      "state": {}
     },
     "0c34ea83697a4e899c7ab03dc89baf10": {
      "model_module": "@jupyter-widgets/controls",
      "model_module_version": "1.5.0",
      "model_name": "ButtonModel",
      "state": {
       "button_style": "warning",
       "description": "edit inputs",
       "layout": "IPY_MODEL_f34b2121c215444bb9fb0956de05e8c6",
       "style": "IPY_MODEL_32e11f0ed1a344c0b717f9257780bd17",
       "tooltip": "edit the user input information that is used when the script is executed"
      }
     },
     "0c351227689f4639b12cfbeabc0b0a33": {
      "model_module": "@jupyter-widgets/base",
      "model_module_version": "1.2.0",
      "model_name": "LayoutModel",
      "state": {
       "height": "30px",
       "width": "auto"
      }
     },
     "0c493ae1d653442c9a952ba18350a9d9": {
      "model_module": "@jupyter-widgets/controls",
      "model_module_version": "1.5.0",
      "model_name": "ButtonStyleModel",
      "state": {
       "font_weight": "bold"
      }
     },
     "0c5b1ade36304d20a0418edde80909fc": {
      "model_module": "@jupyter-widgets/controls",
      "model_module_version": "1.5.0",
      "model_name": "HBoxModel",
      "state": {
       "children": [
        "IPY_MODEL_3dbe283c3e184fd6886a346b7ef58fdc",
        "IPY_MODEL_01e3000bb88e4919b9d48db22a440333",
        "IPY_MODEL_243d6fc46b144b3e8170f2dc1fb75422",
        "IPY_MODEL_e5958b1083b0404195bdb8f73b189d66",
        "IPY_MODEL_13de77e2fa93420b8b8f5da15f4e2f7a",
        "IPY_MODEL_4b12cfe6c5e647dabc318c2edbb3b1cd",
        "IPY_MODEL_028185b99b204e64bbe4c25cad08eedc"
       ],
       "layout": "IPY_MODEL_745938f33ead410d99a158df4c12f93b"
      }
     },
     "0ca6b1fe222b40769090ffe408130e10": {
      "model_module": "@jupyter-widgets/base",
      "model_module_version": "1.2.0",
      "model_name": "LayoutModel",
      "state": {}
     },
     "0ca8f05320234fcc99afcf0a8dbd1d04": {
      "model_module": "@jupyter-widgets/base",
      "model_module_version": "1.2.0",
      "model_name": "LayoutModel",
      "state": {}
     },
     "0cb98a5e2d5a42e8a7c1312d35eecb89": {
      "model_module": "@jupyter-widgets/controls",
      "model_module_version": "1.5.0",
      "model_name": "ButtonStyleModel",
      "state": {
       "font_weight": "bold"
      }
     },
     "0ccb55e6d90d452489389cff75912d5d": {
      "model_module": "@jupyter-widgets/controls",
      "model_module_version": "1.5.0",
      "model_name": "ButtonModel",
      "state": {
       "button_style": "info",
       "description": "show log",
       "layout": "IPY_MODEL_4e3a19b992ca4088a8346a39b92a31bc",
       "style": "IPY_MODEL_95ef4f07120c4e979bee658fa8b64880",
       "tooltip": "show a log of when the script was executed to generate the outputs, and by who"
      }
     },
     "0ccedaafd7fb4fff8acc7ddb9eebe1f9": {
      "model_module": "@jupyter-widgets/base",
      "model_module_version": "1.2.0",
      "model_name": "LayoutModel",
      "state": {}
     },
     "0cdac7f484844288882f2184154317a6": {
      "model_module": "@jupyter-widgets/base",
      "model_module_version": "1.2.0",
      "model_name": "LayoutModel",
      "state": {
       "align_items": "stretch",
       "width": "100%"
      }
     },
     "0cf654b93e074b108853f274418519b1": {
      "model_module": "@jupyter-widgets/controls",
      "model_module_version": "1.5.0",
      "model_name": "ButtonModel",
      "state": {
       "icon": "question-circle",
       "layout": "IPY_MODEL_f7f4f8287a8d41fc98a57cf20f56f08a",
       "style": "IPY_MODEL_b4c3104c3410488cb4fa635d8e34ab4d",
       "tooltip": "describes the functionality of elements in the RunApp interface"
      }
     },
     "0d179b8491b441e9a829fcf9e597b2d2": {
      "model_module": "@jupyter-widgets/base",
      "model_module_version": "1.2.0",
      "model_name": "LayoutModel",
      "state": {
       "height": "30px",
       "width": "auto"
      }
     },
     "0d3051355a2f4e609cb40ee81f949151": {
      "model_module": "@jupyter-widgets/output",
      "model_module_version": "1.0.0",
      "model_name": "OutputModel",
      "state": {
       "layout": "IPY_MODEL_441fbb263dde4d0eac42c270b3aead36"
      }
     },
     "0d3b1948e77f4bdbb0f4999fc1c8a445": {
      "model_module": "@jupyter-widgets/base",
      "model_module_version": "1.2.0",
      "model_name": "LayoutModel",
      "state": {
       "width": "100%"
      }
     },
     "0d3b8d71cd564a2ab3add3f970045b29": {
      "model_module": "@jupyter-widgets/controls",
      "model_module_version": "1.5.0",
      "model_name": "ButtonModel",
      "state": {
       "button_style": "info",
       "description": "preview outputs",
       "layout": "IPY_MODEL_7505f3973ba9473a8d171731188ff404",
       "style": "IPY_MODEL_bca7eedae1734499b7cb7f8f95af3b9d",
       "tooltip": "show a preview of the output files generated when the script runs"
      }
     },
     "0d4360911a49465ab2e7b9b3ae9d9e1f": {
      "model_module": "@jupyter-widgets/controls",
      "model_module_version": "1.5.0",
      "model_name": "ButtonModel",
      "state": {
       "button_style": "info",
       "description": "show source code",
       "layout": "IPY_MODEL_f247bce9568a4817b817859fed6a23d9",
       "style": "IPY_MODEL_d8ce5031cecc4a409de805a3cae97bc9",
       "tooltip": "shows the raw python code in the preview window below"
      }
     },
     "0d4aefd4379a45d6a6a519d0d26ed319": {
      "model_module": "@jupyter-widgets/base",
      "model_module_version": "1.2.0",
      "model_name": "LayoutModel",
      "state": {}
     },
     "0d601fba4c0d4dcabd2570d47a4d6c28": {
      "model_module": "@jupyter-widgets/controls",
      "model_module_version": "1.5.0",
      "model_name": "BoxModel",
      "state": {
       "children": [
        "IPY_MODEL_797890e8e5894b4f9026512db87914de"
       ],
       "layout": "IPY_MODEL_a4de04b9cc4c4ab0b584d240ed14cf3c"
      }
     },
     "0d941eca2ff540829204dd622f30cfc1": {
      "model_module": "@jupyter-widgets/base",
      "model_module_version": "1.2.0",
      "model_name": "LayoutModel",
      "state": {
       "width": "5%"
      }
     },
     "0dab65b0e84d4506aaea2b9c684fd5b1": {
      "model_module": "@jupyter-widgets/controls",
      "model_module_version": "1.5.0",
      "model_name": "TextModel",
      "state": {
       "description": "inputs",
       "disabled": true,
       "layout": "IPY_MODEL_3f57dd04c97e4a23889c643cbd5497fc",
       "style": "IPY_MODEL_4db6af23edb5419ea680fa999dc109d1",
       "value": "C:\\engDev\\git_mf\\ipyrun\\ipyrun\\appdata\\inputs\\inputs-docx_to_pdf.json"
      }
     },
     "0db0d915307847c1a05e90979296f2db": {
      "model_module": "@jupyter-widgets/controls",
      "model_module_version": "1.5.0",
      "model_name": "ButtonStyleModel",
      "state": {
       "font_weight": "bold"
      }
     },
     "0dbe7487d566413e8aee66557dade99d": {
      "model_module": "@jupyter-widgets/controls",
      "model_module_version": "1.5.0",
      "model_name": "SelectMultipleModel",
      "state": {
       "_options_labels": [
        "C:\\engDev\\git_mf\\ipyrun\\data\\external\\eplus_pipework_params.csv"
       ],
       "description": "outputs",
       "index": [],
       "layout": "IPY_MODEL_08c3565e58244e9cb7601f568176462d",
       "rows": 4,
       "style": "IPY_MODEL_3fa1b2d88d474f0ba4de5fe595e52401"
      }
     },
     "0dfa9d60f5a1442698776cdf80251d0b": {
      "model_module": "@jupyter-widgets/output",
      "model_module_version": "1.0.0",
      "model_name": "OutputModel",
      "state": {
       "layout": "IPY_MODEL_a2e4677b7d774317ac70dc22baeda601"
      }
     },
     "0e0819d7556643beb26ddabcb643e7e7": {
      "model_module": "@jupyter-widgets/controls",
      "model_module_version": "1.5.0",
      "model_name": "ButtonStyleModel",
      "state": {
       "font_weight": "bold"
      }
     },
     "0e0fbf3e39c849f19fdeff7ad413a849": {
      "model_module": "@jupyter-widgets/base",
      "model_module_version": "1.2.0",
      "model_name": "LayoutModel",
      "state": {}
     },
     "0e2a1dfbd7a44c54ae92bc2396029806": {
      "model_module": "@jupyter-widgets/output",
      "model_module_version": "1.0.0",
      "model_name": "OutputModel",
      "state": {
       "layout": "IPY_MODEL_4221441617f84a6c8cb55603c54ff1b0"
      }
     },
     "0e515828a98f419d8d4e7eb0b70041d3": {
      "model_module": "@jupyter-widgets/controls",
      "model_module_version": "1.5.0",
      "model_name": "SelectMultipleModel",
      "state": {
       "_options_labels": [
        "C:\\engDev\\git_mf\\ipyrun\\data\\external\\eplus_pipework_params.csv"
       ],
       "description": "outputs",
       "index": [],
       "layout": "IPY_MODEL_0a50f9140ca842f3966c94ec9fa45e67",
       "rows": 4,
       "style": "IPY_MODEL_27d4f8f7402b4c4f91c87a47d141ff7f"
      }
     },
     "0e62239885684dac909965830a13d776": {
      "model_module": "@jupyter-widgets/controls",
      "model_module_version": "1.5.0",
      "model_name": "DescriptionStyleModel",
      "state": {
       "description_width": ""
      }
     },
     "0e7367fc79c14e44a9a3d754720b0182": {
      "model_module": "@jupyter-widgets/controls",
      "model_module_version": "1.5.0",
      "model_name": "HBoxModel",
      "state": {
       "children": [
        "IPY_MODEL_54a536e5a025489986cb3e0fe5464807",
        "IPY_MODEL_f53abe2143624f04a0a74f2924f4912e"
       ],
       "layout": "IPY_MODEL_766c40b9f4a04428acbf269efac91594"
      }
     },
     "0e7826b58c84449c99e05617d5dbf4dd": {
      "model_module": "@jupyter-widgets/controls",
      "model_module_version": "1.5.0",
      "model_name": "VBoxModel",
      "state": {
       "children": [
        "IPY_MODEL_1863ce112e364cb48de61898e84957e2",
        "IPY_MODEL_690ee27469fb4d569448e603767b1077",
        "IPY_MODEL_f75d05d7e65746a8b127c876ed98c8b8"
       ],
       "layout": "IPY_MODEL_b56f8139435a44b88faba557161c59af"
      }
     },
     "0e7b097d0d114d86a9aadfa3ef4095ed": {
      "model_module": "@jupyter-widgets/base",
      "model_module_version": "1.2.0",
      "model_name": "LayoutModel",
      "state": {
       "width": "5%"
      }
     },
     "0e7b6fc3afc24e9c85eea1d59bfdb236": {
      "model_module": "@jupyter-widgets/controls",
      "model_module_version": "1.5.0",
      "model_name": "ButtonStyleModel",
      "state": {
       "font_weight": "bold"
      }
     },
     "0e8412690f4647a4ad566919dfb821ba": {
      "model_module": "@jupyter-widgets/controls",
      "model_module_version": "1.5.0",
      "model_name": "ButtonModel",
      "state": {
       "icon": "eye-slash",
       "layout": "IPY_MODEL_180a765bdc8b4bf3bec6ebb47db6609b",
       "style": "IPY_MODEL_b806495b495043b8b59ad80752c3335e",
       "tooltip": "removes temporary output view"
      }
     },
     "0ea2dfbdb77c45e0a0f8f732eef8bc1d": {
      "model_module": "@jupyter-widgets/base",
      "model_module_version": "1.2.0",
      "model_name": "LayoutModel",
      "state": {
       "height": "30px",
       "width": "auto"
      }
     },
     "0eb53743c53d4ccc9ae7ed2fbb5adf25": {
      "model_module": "@jupyter-widgets/base",
      "model_module_version": "1.2.0",
      "model_name": "LayoutModel",
      "state": {
       "align_items": "stretch",
       "width": "100%"
      }
     },
     "0eb6fe729c614cdeafcf19d3228f4654": {
      "model_module": "@jupyter-widgets/base",
      "model_module_version": "1.2.0",
      "model_name": "LayoutModel",
      "state": {
       "width": "5%"
      }
     },
     "0ee346a1a8b04f8e95ff0a1f1bb71e7f": {
      "model_module": "@jupyter-widgets/base",
      "model_module_version": "1.2.0",
      "model_name": "LayoutModel",
      "state": {}
     },
     "0f06be104b724d63a24384ca8d65e58e": {
      "model_module": "@jupyter-widgets/base",
      "model_module_version": "1.2.0",
      "model_name": "LayoutModel",
      "state": {}
     },
     "0f104fe8a6d549898bd0b7f0bf94f2b4": {
      "model_module": "@jupyter-widgets/controls",
      "model_module_version": "1.5.0",
      "model_name": "DescriptionStyleModel",
      "state": {
       "description_width": ""
      }
     },
     "0f4e1cd6f95d4a6ebb618c0c60e709f4": {
      "model_module": "@jupyter-widgets/controls",
      "model_module_version": "1.5.0",
      "model_name": "BoxModel",
      "state": {
       "children": [
        "IPY_MODEL_1f9bfd9e7b564d89bd920e2d8d0822eb"
       ],
       "layout": "IPY_MODEL_29ada813ab64491b91385f93cd33ba00"
      }
     },
     "0f8488a371d34949aaba8d9dfc1b0de7": {
      "model_module": "@jupyter-widgets/controls",
      "model_module_version": "1.5.0",
      "model_name": "TextModel",
      "state": {
       "description": "inputs",
       "disabled": true,
       "layout": "IPY_MODEL_0d179b8491b441e9a829fcf9e597b2d2",
       "style": "IPY_MODEL_c845f64f05df446e8a399737bf0d7377",
       "value": "C:\\engDev\\git_mf\\ipyrun\\ipyrun\\appdata\\inputs\\inputs-docx_to_pdf.json"
      }
     },
     "0f85b23cba61497182feaabcbcb4b27f": {
      "model_module": "@jupyter-widgets/controls",
      "model_module_version": "1.5.0",
      "model_name": "ButtonModel",
      "state": {
       "button_style": "success",
       "description": "run",
       "layout": "IPY_MODEL_5398feda3b464bd1b8cb21630246721b",
       "style": "IPY_MODEL_c2138fe73b6f4470aa6affcba969a5b9",
       "tooltip": "execute the script based on the user inputs"
      }
     },
     "0f8e6d40da664d13b932a59de2ba9374": {
      "model_module": "@jupyter-widgets/controls",
      "model_module_version": "1.5.0",
      "model_name": "AccordionModel",
      "state": {
       "_titles": {
        "0": "gbxml"
       },
       "children": [
        "IPY_MODEL_9e6369b8ef8248619bb21ca8e50ea37d"
       ],
       "layout": "IPY_MODEL_0354dc4cf3e64c968ccc7133acaefeaa",
       "selected_index": null
      }
     },
     "0f9fb21159814794a8179aa0064c07b9": {
      "model_module": "@jupyter-widgets/base",
      "model_module_version": "1.2.0",
      "model_name": "LayoutModel",
      "state": {}
     },
     "0fba331dcb1e4ae681f02510588c1ce4": {
      "model_module": "@jupyter-widgets/base",
      "model_module_version": "1.2.0",
      "model_name": "LayoutModel",
      "state": {}
     },
     "0fd1bf20f3f44beeb84b254cd22d9b89": {
      "model_module": "@jupyter-widgets/base",
      "model_module_version": "1.2.0",
      "model_name": "LayoutModel",
      "state": {}
     },
     "0fd5bf338da9442da524870275dd7e59": {
      "model_module": "@jupyter-widgets/controls",
      "model_module_version": "1.5.0",
      "model_name": "AccordionModel",
      "state": {
       "_titles": {
        "0": "docx_to_pdf"
       },
       "children": [
        "IPY_MODEL_1f4cda48c3f74ab2af1bdf716471c411"
       ],
       "layout": "IPY_MODEL_2a6cebb217e44b8d85320ddf99162497",
       "selected_index": null
      }
     },
     "0ffe90a644a040eeae05600a5424c421": {
      "model_module": "@jupyter-widgets/controls",
      "model_module_version": "1.5.0",
      "model_name": "ButtonModel",
      "state": {
       "button_style": "info",
       "description": "preview outputs",
       "layout": "IPY_MODEL_86a408dc5906448c92e5cd499d1022ce",
       "style": "IPY_MODEL_532d5367522b463facacba3bd11f4c44",
       "tooltip": "show a preview of the output files generated when the script runs"
      }
     },
     "1009ee462e684e6287f01d51642ad722": {
      "model_module": "@jupyter-widgets/controls",
      "model_module_version": "1.5.0",
      "model_name": "ButtonModel",
      "state": {
       "button_style": "warning",
       "description": "edit inputs",
       "layout": "IPY_MODEL_42e6c8e4c8114431a32e1a96f1f4ff3b",
       "style": "IPY_MODEL_e0713940bb3848a5adbba283dd1b09af",
       "tooltip": "edit the user input information that is used when the script is executed"
      }
     },
     "102073100d814d1bb9004f363f865007": {
      "model_module": "@jupyter-widgets/base",
      "model_module_version": "1.2.0",
      "model_name": "LayoutModel",
      "state": {}
     },
     "105b7faa1bdf45ec81f4d8baf07393c1": {
      "model_module": "@jupyter-widgets/controls",
      "model_module_version": "1.5.0",
      "model_name": "AccordionModel",
      "state": {
       "_titles": {
        "0": "eplus_pipework_params"
       },
       "children": [
        "IPY_MODEL_023870be337c420590802895254d8751"
       ],
       "layout": "IPY_MODEL_8bfe412a3f1f40778b0faddd42ec3e99",
       "selected_index": null
      }
     },
     "1089565d0e55467a956e10ba8a97d7ed": {
      "model_module": "@jupyter-widgets/base",
      "model_module_version": "1.2.0",
      "model_name": "LayoutModel",
      "state": {
       "align_items": "stretch",
       "width": "100%"
      }
     },
     "10974121bb2c4880853b6ee086642c94": {
      "model_module": "@jupyter-widgets/controls",
      "model_module_version": "1.5.0",
      "model_name": "ButtonStyleModel",
      "state": {
       "font_weight": "bold"
      }
     },
     "10cae5dfad39474ea39583aa65e0c4ec": {
      "model_module": "@jupyter-widgets/controls",
      "model_module_version": "1.5.0",
      "model_name": "AccordionModel",
      "state": {
       "_titles": {
        "0": "eplus_pipework_params"
       },
       "children": [
        "IPY_MODEL_7680060004324cd78df7aee7b5ede894"
       ],
       "layout": "IPY_MODEL_25669bd0128a42d0a48dec3a828238b0",
       "selected_index": null
      }
     },
     "10cd9e40e4b842519090c3974b623434": {
      "model_module": "@jupyter-widgets/base",
      "model_module_version": "1.2.0",
      "model_name": "LayoutModel",
      "state": {}
     },
     "1107067cb3a7405b9eb4035244825393": {
      "model_module": "@jupyter-widgets/controls",
      "model_module_version": "1.5.0",
      "model_name": "ButtonModel",
      "state": {
       "button_style": "info",
       "description": "preview outputs",
       "layout": "IPY_MODEL_0096de116d7844ef87ad552922003b72",
       "style": "IPY_MODEL_f2a0c42d45c3414a98d559c4823116b4",
       "tooltip": "show a preview of the output files generated when the script runs"
      }
     },
     "110a3d39674a4d07a4c5f5b635ebea18": {
      "model_module": "@jupyter-widgets/controls",
      "model_module_version": "1.5.0",
      "model_name": "ButtonModel",
      "state": {
       "icon": "question-circle",
       "layout": "IPY_MODEL_33f7e27810274f8aa2725647738f2638",
       "style": "IPY_MODEL_f82e8ccd68004fe0a2095908204e69f9",
       "tooltip": "describes the functionality of elements in the RunApp interface"
      }
     },
     "111693f838d0463387acc9ea61d46094": {
      "model_module": "@jupyter-widgets/base",
      "model_module_version": "1.2.0",
      "model_name": "LayoutModel",
      "state": {}
     },
     "1150591c5a4a4646881ea0b2e219de59": {
      "model_module": "@jupyter-widgets/controls",
      "model_module_version": "1.5.0",
      "model_name": "ButtonModel",
      "state": {
       "button_style": "success",
       "description": "run",
       "layout": "IPY_MODEL_1884ba3cf58b40f0afcaf75bac3ad806",
       "style": "IPY_MODEL_97b8f5f197214350b8c3ace100e5a91c",
       "tooltip": "execute the script based on the user inputs"
      }
     },
     "1150d0ffc67849db91d6ddaaee52912f": {
      "model_module": "@jupyter-widgets/base",
      "model_module_version": "1.2.0",
      "model_name": "LayoutModel",
      "state": {
       "align_items": "stretch",
       "width": "100%"
      }
     },
     "115712967df74fbb9eece169f424cf2f": {
      "model_module": "@jupyter-widgets/base",
      "model_module_version": "1.2.0",
      "model_name": "LayoutModel",
      "state": {}
     },
     "115952d6cf4f4eeaacd5bebb4b73a394": {
      "model_module": "@jupyter-widgets/controls",
      "model_module_version": "1.5.0",
      "model_name": "SelectMultipleModel",
      "state": {
       "_options_labels": [
        "C:\\engDev\\git_mf\\ipyrun\\data\\external\\eplus_pipework_params.csv"
       ],
       "description": "outputs",
       "index": [],
       "layout": "IPY_MODEL_43d6cf94a43d4972bfa25154ea8fabf0",
       "rows": 4,
       "style": "IPY_MODEL_1980565a30b040289d61f41d561496c0"
      }
     },
     "117b1c77308346e4bd549f041655f5a3": {
      "model_module": "@jupyter-widgets/controls",
      "model_module_version": "1.5.0",
      "model_name": "TextModel",
      "state": {
       "description": "inputs",
       "disabled": true,
       "layout": "IPY_MODEL_4a88ab3907244b28a315410a465049a8",
       "style": "IPY_MODEL_40394ab279124159baed6875c2eb0c90",
       "value": "C:\\engDev\\git_mf\\ipyrun\\ipyrun\\appdata\\inputs\\inputs-docx_to_pdf.json"
      }
     },
     "118c283691ee41fdb328db8245e579e1": {
      "model_module": "@jupyter-widgets/base",
      "model_module_version": "1.2.0",
      "model_name": "LayoutModel",
      "state": {}
     },
     "1194392e31a24265a24483cccdbd4ee8": {
      "model_module": "@jupyter-widgets/base",
      "model_module_version": "1.2.0",
      "model_name": "LayoutModel",
      "state": {
       "align_items": "stretch",
       "width": "100%"
      }
     },
     "11aeb85814894e98a1bf3bf0a087fb9d": {
      "model_module": "@jupyter-widgets/controls",
      "model_module_version": "1.5.0",
      "model_name": "ButtonStyleModel",
      "state": {
       "font_weight": "bold"
      }
     },
     "11b464fe1e084206a66d57c25f6df4a7": {
      "model_module": "@jupyter-widgets/controls",
      "model_module_version": "1.5.0",
      "model_name": "ButtonModel",
      "state": {
       "button_style": "info",
       "description": "show source code",
       "layout": "IPY_MODEL_4964ea4b9f44473cb7713ff5c474f9e6",
       "style": "IPY_MODEL_f2bf5e06a77a42b1a097fe6fb089a639",
       "tooltip": "shows the raw python code in the preview window below"
      }
     },
     "11bb638afc43495e95d58824bff0b513": {
      "model_module": "@jupyter-widgets/controls",
      "model_module_version": "1.5.0",
      "model_name": "ButtonModel",
      "state": {
       "button_style": "info",
       "description": "show guide",
       "layout": "IPY_MODEL_2658e5371afa44e6982c0e6991ac5f02",
       "style": "IPY_MODEL_51e5810b87394f249bf8c9c54cca77e6",
       "tooltip": "read the \"docstring\", ie. the documentation that was written to accompany the script"
      }
     },
     "11d699a641d741eeb92150a8883d368a": {
      "model_module": "@jupyter-widgets/controls",
      "model_module_version": "1.5.0",
      "model_name": "ButtonModel",
      "state": {
       "button_style": "info",
       "description": "preview outputs",
       "layout": "IPY_MODEL_3d8c22725c3c4741a94048a544c45f40",
       "style": "IPY_MODEL_4b5b1c015445481c994f672c8b4d1278",
       "tooltip": "show a preview of the output files generated when the script runs"
      }
     },
     "11dfd4082d1445e79b450b4a59a77098": {
      "model_module": "@jupyter-widgets/controls",
      "model_module_version": "1.5.0",
      "model_name": "ButtonStyleModel",
      "state": {
       "font_weight": "bold"
      }
     },
     "1215448ac9ca4df998e800434ad79222": {
      "model_module": "@jupyter-widgets/controls",
      "model_module_version": "1.5.0",
      "model_name": "BoxModel",
      "state": {
       "children": [
        "IPY_MODEL_919b5ea2d9dc492ea6d09210719450d0"
       ],
       "layout": "IPY_MODEL_006df06e2d5f430f9c927f63fcfdd965"
      }
     },
     "1224a9ec6e7b4849b038471de0712ba2": {
      "model_module": "@jupyter-widgets/base",
      "model_module_version": "1.2.0",
      "model_name": "LayoutModel",
      "state": {
       "width": "5%"
      }
     },
     "1251b400890c4ce4942a96bc6252da2c": {
      "model_module": "@jupyter-widgets/base",
      "model_module_version": "1.2.0",
      "model_name": "LayoutModel",
      "state": {
       "border": "0px",
       "margin": "0px",
       "padding": "0px"
      }
     },
     "125209a0b1a24da99d8b22e87d1a6425": {
      "model_module": "@jupyter-widgets/base",
      "model_module_version": "1.2.0",
      "model_name": "LayoutModel",
      "state": {}
     },
     "12591245cbdf4e6a8370bccebdc685b9": {
      "model_module": "@jupyter-widgets/controls",
      "model_module_version": "1.5.0",
      "model_name": "ButtonStyleModel",
      "state": {
       "font_weight": "bold"
      }
     },
     "125b7909b59e4960a1b2d1214f929205": {
      "model_module": "@jupyter-widgets/controls",
      "model_module_version": "1.5.0",
      "model_name": "VBoxModel",
      "state": {
       "children": [
        "IPY_MODEL_e2863aed8ad94aca8e33cbf22684a76a",
        "IPY_MODEL_b7b3a7af416e42fabf21a3d427c748ad",
        "IPY_MODEL_d29fe00f6c2d4591aa9959052b245590"
       ],
       "layout": "IPY_MODEL_a7735dcf26e742579840f250668d924d"
      }
     },
     "125e8a474d7d4b1584029ee6381dab41": {
      "model_module": "@jupyter-widgets/base",
      "model_module_version": "1.2.0",
      "model_name": "LayoutModel",
      "state": {
       "border": "0px",
       "margin": "0px",
       "padding": "0px"
      }
     },
     "127b3ed6005a4bec984590d7ef245c64": {
      "model_module": "@jupyter-widgets/controls",
      "model_module_version": "1.5.0",
      "model_name": "CheckboxModel",
      "state": {
       "disabled": false,
       "indent": false,
       "layout": "IPY_MODEL_d0c75e265c264f63bd87f1ef9b71726d",
       "style": "IPY_MODEL_868bab877e9b4d7186418416dd04515a",
       "value": false
      }
     },
     "129bc942209d4b5c86ee03d9e8a617f8": {
      "model_module": "@jupyter-widgets/base",
      "model_module_version": "1.2.0",
      "model_name": "LayoutModel",
      "state": {}
     },
     "12ff3e9f976f41278215a4a1dcd2349a": {
      "model_module": "@jupyter-widgets/controls",
      "model_module_version": "1.5.0",
      "model_name": "VBoxModel",
      "state": {
       "children": [
        "IPY_MODEL_f3db76575ace44d39b9a396f65633da0",
        "IPY_MODEL_90753e8d2f534dbfb2c808caf0c3e509"
       ],
       "layout": "IPY_MODEL_c862a743f24f4256b838b85dc82544b8"
      }
     },
     "1330e9be65184602a57deab16098b12a": {
      "model_module": "@jupyter-widgets/controls",
      "model_module_version": "1.5.0",
      "model_name": "DescriptionStyleModel",
      "state": {
       "description_width": ""
      }
     },
     "13779f2e458e466da0918e36b5a32324": {
      "model_module": "@jupyter-widgets/controls",
      "model_module_version": "1.5.0",
      "model_name": "ButtonModel",
      "state": {
       "button_style": "success",
       "description": "run",
       "layout": "IPY_MODEL_42b9910465dc4e15a704c43c1705f732",
       "style": "IPY_MODEL_88bb49cf87c947c09cefb449b2398866",
       "tooltip": "execute the script based on the user inputs"
      }
     },
     "1393bd3392dc40e383cef7904a59be1c": {
      "model_module": "@jupyter-widgets/controls",
      "model_module_version": "1.5.0",
      "model_name": "DescriptionStyleModel",
      "state": {
       "description_width": ""
      }
     },
     "13af1a7c343f47198ca0bf0835efcb2b": {
      "model_module": "@jupyter-widgets/controls",
      "model_module_version": "1.5.0",
      "model_name": "ButtonStyleModel",
      "state": {}
     },
     "13b816525d2245929622922e2ea71d6e": {
      "model_module": "@jupyter-widgets/base",
      "model_module_version": "1.2.0",
      "model_name": "LayoutModel",
      "state": {}
     },
     "13d372d1302f4d15a2fa6964659aedaa": {
      "model_module": "@jupyter-widgets/controls",
      "model_module_version": "1.5.0",
      "model_name": "ButtonModel",
      "state": {
       "button_style": "info",
       "description": "preview outputs",
       "layout": "IPY_MODEL_6fd04da6b083497c86daeab6fb470a9e",
       "style": "IPY_MODEL_464d8cf8c3b9412da0a242f66da46eab",
       "tooltip": "show a preview of the output files generated when the script runs"
      }
     },
     "13de77e2fa93420b8b8f5da15f4e2f7a": {
      "model_module": "@jupyter-widgets/controls",
      "model_module_version": "1.5.0",
      "model_name": "ButtonModel",
      "state": {
       "button_style": "success",
       "description": "run",
       "layout": "IPY_MODEL_4294caaca8cf4dc1ade4634a71a7920a",
       "style": "IPY_MODEL_2dfbeef0a3e44c72a85d7d8c5bfb2889",
       "tooltip": "execute the script based on the user inputs"
      }
     },
     "1417ae0a9b3e4597b50f241f304b2c78": {
      "model_module": "@jupyter-widgets/controls",
      "model_module_version": "1.5.0",
      "model_name": "HBoxModel",
      "state": {
       "children": [
        "IPY_MODEL_0e8412690f4647a4ad566919dfb821ba",
        "IPY_MODEL_c8b415b689414423959333e1c540dd34",
        "IPY_MODEL_2307a866838843fbb69a884711e3e14f",
        "IPY_MODEL_886ef0a1f30f406584da9fa13333fe68",
        "IPY_MODEL_6c44c75e4e164a1abb45c314612084c3",
        "IPY_MODEL_3073cbed7c63457abae41bafc1cc3eeb",
        "IPY_MODEL_938f87042639400cbc178c9da80af69c"
       ],
       "layout": "IPY_MODEL_63f24d1f446a445c99d048e7fc6de0fc"
      }
     },
     "14291799381b47848ce808a3ab1778df": {
      "model_module": "@jupyter-widgets/base",
      "model_module_version": "1.2.0",
      "model_name": "LayoutModel",
      "state": {
       "height": "30px",
       "max_width": "30px",
       "padding": "3px"
      }
     },
     "14da9f59eb1146e6bbac2ed470dffd83": {
      "model_module": "@jupyter-widgets/base",
      "model_module_version": "1.2.0",
      "model_name": "LayoutModel",
      "state": {}
     },
     "14e60539817240ae9f41f1a5554386a2": {
      "model_module": "@jupyter-widgets/controls",
      "model_module_version": "1.5.0",
      "model_name": "ButtonModel",
      "state": {
       "button_style": "warning",
       "description": "edit inputs",
       "layout": "IPY_MODEL_00411fe00ff6425ab42bf6cf5de3a551",
       "style": "IPY_MODEL_45e8c5f1aa0b46fe80e9b3ba032f5634",
       "tooltip": "edit the user input information that is used when the script is executed"
      }
     },
     "14ecd038d731433693e4f86032fc75c0": {
      "model_module": "@jupyter-widgets/controls",
      "model_module_version": "1.5.0",
      "model_name": "ButtonStyleModel",
      "state": {
       "font_weight": "bold"
      }
     },
     "14f875a9681143b4bca6f4212777b8dd": {
      "model_module": "@jupyter-widgets/base",
      "model_module_version": "1.2.0",
      "model_name": "LayoutModel",
      "state": {}
     },
     "153244eccf8e44889da87e6d74d898cc": {
      "model_module": "@jupyter-widgets/base",
      "model_module_version": "1.2.0",
      "model_name": "LayoutModel",
      "state": {}
     },
     "156249079d2a40b89668012ce13e8c0e": {
      "model_module": "@jupyter-widgets/controls",
      "model_module_version": "1.5.0",
      "model_name": "CheckboxModel",
      "state": {
       "disabled": false,
       "indent": false,
       "layout": "IPY_MODEL_29d0a7ffda3a4a519637341db3ec009a",
       "style": "IPY_MODEL_edfc340c312c486d8519317dc3c74d3a",
       "value": false
      }
     },
     "156c6eb841434153be810cf1f8bc3d01": {
      "model_module": "@jupyter-widgets/controls",
      "model_module_version": "1.5.0",
      "model_name": "ButtonModel",
      "state": {
       "icon": "question-circle",
       "layout": "IPY_MODEL_4ee87063745b48e9a78c620ebeb21ff9",
       "style": "IPY_MODEL_a549b7ae999645bb9fcf4691ea2dfdec",
       "tooltip": "describes the functionality of elements in the RunApp interface"
      }
     },
     "158392d0c6af43b68483cb7ab9d5a459": {
      "model_module": "@jupyter-widgets/base",
      "model_module_version": "1.2.0",
      "model_name": "LayoutModel",
      "state": {
       "border": "0px",
       "margin": "0px",
       "padding": "0px"
      }
     },
     "158d177a79cf44ff812039419f45cbe7": {
      "model_module": "@jupyter-widgets/base",
      "model_module_version": "1.2.0",
      "model_name": "LayoutModel",
      "state": {
       "width": "5%"
      }
     },
     "159942cf83bd4c15b044a4eed7690e69": {
      "model_module": "@jupyter-widgets/controls",
      "model_module_version": "1.5.0",
      "model_name": "ButtonStyleModel",
      "state": {
       "font_weight": "bold"
      }
     },
     "1599697265044c5bac9d22f120778b4e": {
      "model_module": "@jupyter-widgets/base",
      "model_module_version": "1.2.0",
      "model_name": "LayoutModel",
      "state": {
       "height": "30px",
       "width": "auto"
      }
     },
     "1599c0bfc1e742608882a58b523f031d": {
      "model_module": "@jupyter-widgets/base",
      "model_module_version": "1.2.0",
      "model_name": "LayoutModel",
      "state": {
       "height": "30px",
       "max_width": "30px",
       "padding": "3px"
      }
     },
     "15a145ce81534a0eb21b439e9574d097": {
      "model_module": "@jupyter-widgets/controls",
      "model_module_version": "1.5.0",
      "model_name": "VBoxModel",
      "state": {
       "children": [
        "IPY_MODEL_fcfa99c3eb4e4f1080df12953412d1d2",
        "IPY_MODEL_4b08ff6187e14a03ac0514b918b2a576"
       ],
       "layout": "IPY_MODEL_0ccedaafd7fb4fff8acc7ddb9eebe1f9"
      }
     },
     "15b3bc164e05483cac7d5a4d18f3d7f6": {
      "model_module": "@jupyter-widgets/controls",
      "model_module_version": "1.5.0",
      "model_name": "ButtonStyleModel",
      "state": {
       "font_weight": "bold"
      }
     },
     "15b922a4c6504b999c279007dd070c62": {
      "model_module": "@jupyter-widgets/controls",
      "model_module_version": "1.5.0",
      "model_name": "DescriptionStyleModel",
      "state": {
       "description_width": ""
      }
     },
     "161305cef9244b4497ab3a926f928f82": {
      "model_module": "@jupyter-widgets/base",
      "model_module_version": "1.2.0",
      "model_name": "LayoutModel",
      "state": {
       "height": "30px",
       "width": "auto"
      }
     },
     "162e2203cd7d47f6ad531ae62717000e": {
      "model_module": "@jupyter-widgets/base",
      "model_module_version": "1.2.0",
      "model_name": "LayoutModel",
      "state": {}
     },
     "1636bc49f0c24959bcea9ef7f0a1d12b": {
      "model_module": "@jupyter-widgets/controls",
      "model_module_version": "1.5.0",
      "model_name": "ButtonModel",
      "state": {
       "icon": "question-circle",
       "layout": "IPY_MODEL_27ced6d1a09e49e19e9dec8135313b90",
       "style": "IPY_MODEL_7581a5113ed84584ae21b0e7d9f50ddb",
       "tooltip": "describes the functionality of elements in the RunApp interface"
      }
     },
     "163a6ec38c1e4d73b777732256a26714": {
      "model_module": "@jupyter-widgets/controls",
      "model_module_version": "1.5.0",
      "model_name": "ButtonStyleModel",
      "state": {
       "font_weight": "bold"
      }
     },
     "163feca0e8ab457d9077fec884c7d829": {
      "model_module": "@jupyter-widgets/base",
      "model_module_version": "1.2.0",
      "model_name": "LayoutModel",
      "state": {}
     },
     "165567b53de8497383e73e10e303688d": {
      "model_module": "@jupyter-widgets/controls",
      "model_module_version": "1.5.0",
      "model_name": "ButtonStyleModel",
      "state": {
       "font_weight": "bold"
      }
     },
     "16978849771b47088932c5016be6c655": {
      "model_module": "@jupyter-widgets/controls",
      "model_module_version": "1.5.0",
      "model_name": "ButtonModel",
      "state": {
       "button_style": "info",
       "description": "show source code",
       "layout": "IPY_MODEL_427e13a3d3cd4094934744a01ca6661b",
       "style": "IPY_MODEL_36939c60394041ce835fa0e564616ff1",
       "tooltip": "shows the raw python code in the preview window below"
      }
     },
     "169b44200f9747659232187c4ca1e0d4": {
      "model_module": "@jupyter-widgets/base",
      "model_module_version": "1.2.0",
      "model_name": "LayoutModel",
      "state": {
       "height": "30px",
       "width": "auto"
      }
     },
     "16a54c3bafaa4dd88e33e45c715f6250": {
      "model_module": "@jupyter-widgets/controls",
      "model_module_version": "1.5.0",
      "model_name": "HBoxModel",
      "state": {
       "children": [
        "IPY_MODEL_f4e33da986ba45e99d561e21a919991b",
        "IPY_MODEL_4684e2edb2174ec8b50f43d0513bfc62",
        "IPY_MODEL_fc1ca2ada31b4b55a147d0b5a37a5322",
        "IPY_MODEL_6b1205f9b4d849bd9870dad9ae3f11c3",
        "IPY_MODEL_29e4f8770874423ebede5380979eed9f",
        "IPY_MODEL_9ffb84ab9d134974bd29f2bcfa4410f8",
        "IPY_MODEL_3ad64c10092c42dba9982f3f0ac02aa8"
       ],
       "layout": "IPY_MODEL_1f1191a21b4544159bec483b9df09c4e"
      }
     },
     "16ae96fa61264f7ba9b2d7b615196a17": {
      "model_module": "@jupyter-widgets/base",
      "model_module_version": "1.2.0",
      "model_name": "LayoutModel",
      "state": {
       "height": "30px",
       "width": "auto"
      }
     },
     "16b22b4c254540878d0f8ba30add37f1": {
      "model_module": "@jupyter-widgets/base",
      "model_module_version": "1.2.0",
      "model_name": "LayoutModel",
      "state": {}
     },
     "16c0ce18d2ad44f5a0fa9d1c12783eff": {
      "model_module": "@jupyter-widgets/controls",
      "model_module_version": "1.5.0",
      "model_name": "TextModel",
      "state": {
       "description": "script",
       "disabled": true,
       "layout": "IPY_MODEL_8d960bc9c5ab496fad6f838356d385a6",
       "style": "IPY_MODEL_7459ef073b8e4a73a53d2749ee1059ef",
       "value": "C:\\engDev\\git_mf\\MF_Toolbox\\dev\\mf_scripts\\eplus_pipework_params.py"
      }
     },
     "16c82ff755024607a7c5e5db7285e0c3": {
      "model_module": "@jupyter-widgets/controls",
      "model_module_version": "1.5.0",
      "model_name": "ButtonModel",
      "state": {
       "button_style": "success",
       "description": "run",
       "layout": "IPY_MODEL_bdf15c2d897b4b4b92fa7655fdd66953",
       "style": "IPY_MODEL_ba034c1fea144d489cbe74701dd10734",
       "tooltip": "execute the script based on the user inputs"
      }
     },
     "16df707371264d3484ce0e52eeb122b9": {
      "model_module": "@jupyter-widgets/output",
      "model_module_version": "1.0.0",
      "model_name": "OutputModel",
      "state": {
       "layout": "IPY_MODEL_ebff6c6459c74cf58d71f63c0c810fd6"
      }
     },
     "1704c99e70ce44d8b5be134c504c52b9": {
      "model_module": "@jupyter-widgets/base",
      "model_module_version": "1.2.0",
      "model_name": "LayoutModel",
      "state": {
       "height": "30px",
       "max_width": "30px",
       "padding": "3px"
      }
     },
     "17068f9081e84e8dbb300528b89053b9": {
      "model_module": "@jupyter-widgets/controls",
      "model_module_version": "1.5.0",
      "model_name": "ButtonStyleModel",
      "state": {
       "font_weight": "bold"
      }
     },
     "1716a56b743248a581a9abcd5610c435": {
      "model_module": "@jupyter-widgets/controls",
      "model_module_version": "1.5.0",
      "model_name": "SelectMultipleModel",
      "state": {
       "_options_labels": [
        "C:\\engDev\\git_mf\\ipyrun\\reports\\JupyterReportDemo.pdf"
       ],
       "description": "outputs",
       "index": [],
       "layout": "IPY_MODEL_83cc82c24c474cab8887ee9709a023dd",
       "rows": 4,
       "style": "IPY_MODEL_a913afb1076b494a9732c92d9eb05540"
      }
     },
     "172be12063df421d9f401b6719fb35b0": {
      "model_module": "@jupyter-widgets/controls",
      "model_module_version": "1.5.0",
      "model_name": "ButtonStyleModel",
      "state": {
       "font_weight": "bold"
      }
     },
     "174a2a6eec2b412484f53bd61fecd35a": {
      "model_module": "@jupyter-widgets/controls",
      "model_module_version": "1.5.0",
      "model_name": "BoxModel",
      "state": {
       "children": [
        "IPY_MODEL_0c5b1ade36304d20a0418edde80909fc"
       ],
       "layout": "IPY_MODEL_6045a8e4fa384d80a4977fb2c92b7fe4"
      }
     },
     "1764b6ff636448bc9c0433060b85bd93": {
      "model_module": "@jupyter-widgets/base",
      "model_module_version": "1.2.0",
      "model_name": "LayoutModel",
      "state": {}
     },
     "1770e5b0db4c45d18f1e4a88ea57f052": {
      "model_module": "@jupyter-widgets/controls",
      "model_module_version": "1.5.0",
      "model_name": "DescriptionStyleModel",
      "state": {
       "description_width": ""
      }
     },
     "178a402298ae49679e979cefae93c093": {
      "model_module": "@jupyter-widgets/base",
      "model_module_version": "1.2.0",
      "model_name": "LayoutModel",
      "state": {
       "width": "5%"
      }
     },
     "178bea7140b44721af435e7e8f1aa937": {
      "model_module": "@jupyter-widgets/base",
      "model_module_version": "1.2.0",
      "model_name": "LayoutModel",
      "state": {}
     },
     "178e57fe641246bfbed5531fe4d5f981": {
      "model_module": "@jupyter-widgets/base",
      "model_module_version": "1.2.0",
      "model_name": "LayoutModel",
      "state": {}
     },
     "17e3132fa6054cb3a80880f9c6732ec6": {
      "model_module": "@jupyter-widgets/base",
      "model_module_version": "1.2.0",
      "model_name": "LayoutModel",
      "state": {
       "height": "30px",
       "width": "auto"
      }
     },
     "17f2e620280f4af0bedcb6a3f54e9775": {
      "model_module": "@jupyter-widgets/controls",
      "model_module_version": "1.5.0",
      "model_name": "VBoxModel",
      "state": {
       "children": [
        "IPY_MODEL_4e8abfb403a14c15b4fc48acd478cc60",
        "IPY_MODEL_d570bde8a30246db966de91fe1db82c9",
        "IPY_MODEL_4919086f320d46df9370fc3ec87aca72"
       ],
       "layout": "IPY_MODEL_b353f5af4cb540ea95c84bd2a0ad9e76"
      }
     },
     "1807ec13759743afbadb2e0db368c906": {
      "model_module": "@jupyter-widgets/controls",
      "model_module_version": "1.5.0",
      "model_name": "ButtonStyleModel",
      "state": {}
     },
     "180a765bdc8b4bf3bec6ebb47db6609b": {
      "model_module": "@jupyter-widgets/base",
      "model_module_version": "1.2.0",
      "model_name": "LayoutModel",
      "state": {
       "width": "5%"
      }
     },
     "180fc9bc60f24a839c38aea36ce8add8": {
      "model_module": "@jupyter-widgets/base",
      "model_module_version": "1.2.0",
      "model_name": "LayoutModel",
      "state": {}
     },
     "182a864f268144fbbf9bd2e6510272eb": {
      "model_module": "@jupyter-widgets/base",
      "model_module_version": "1.2.0",
      "model_name": "LayoutModel",
      "state": {}
     },
     "1847e4b6ced04a00be87c15c494c30db": {
      "model_module": "@jupyter-widgets/controls",
      "model_module_version": "1.5.0",
      "model_name": "ButtonStyleModel",
      "state": {
       "font_weight": "bold"
      }
     },
     "1863015e8b2b4b0da6eb0415e9f4fc6f": {
      "model_module": "@jupyter-widgets/controls",
      "model_module_version": "1.5.0",
      "model_name": "DescriptionStyleModel",
      "state": {
       "description_width": ""
      }
     },
     "1863ce112e364cb48de61898e84957e2": {
      "model_module": "@jupyter-widgets/controls",
      "model_module_version": "1.5.0",
      "model_name": "TextModel",
      "state": {
       "description": "inputs",
       "disabled": true,
       "layout": "IPY_MODEL_eade0ff46faf4300948d2130b5770c5c",
       "style": "IPY_MODEL_736cbad673884907a82e212c13c41b53",
       "value": "C:\\engDev\\git_mf\\ipyrun\\ipyrun\\appdata\\inputs\\inputs-eplus_pipework_params.csv"
      }
     },
     "187f5cc2c216455491395ca17f5c9229": {
      "model_module": "@jupyter-widgets/base",
      "model_module_version": "1.2.0",
      "model_name": "LayoutModel",
      "state": {
       "align_items": "stretch",
       "width": "100%"
      }
     },
     "1884ba3cf58b40f0afcaf75bac3ad806": {
      "model_module": "@jupyter-widgets/base",
      "model_module_version": "1.2.0",
      "model_name": "LayoutModel",
      "state": {}
     },
     "1890b00a8ad448d29c926e5626d62222": {
      "model_module": "@jupyter-widgets/controls",
      "model_module_version": "1.5.0",
      "model_name": "HBoxModel",
      "state": {
       "children": [
        "IPY_MODEL_8a72ab98a6b84c04af0f88fbd3a2a114",
        "IPY_MODEL_f5593bb7e2ca40569426cad46bbea690"
       ],
       "layout": "IPY_MODEL_c9f20b5129014b93ae40c89817fad9c3"
      }
     },
     "18b040671ad04f429d03d551db9d6d76": {
      "model_module": "@jupyter-widgets/controls",
      "model_module_version": "1.5.0",
      "model_name": "SelectMultipleModel",
      "state": {
       "_options_labels": [
        "C:\\engDev\\git_mf\\ipyrun\\data\\raw\\gbxml.xml",
        "C:\\engDev\\git_mf\\ipyrun\\data\\interim\\gbjson.json",
        "C:\\engDev\\git_mf\\ipyrun\\data\\processed\\gbxml_datagrab.xlsx",
        "C:\\engDev\\git_mf\\ipyrun\\data\\processed\\gbxml_spcs-treemap.png"
       ],
       "description": "outputs",
       "index": [],
       "layout": "IPY_MODEL_696a7e8af1dd4269bd2ea5f057e0e5d9",
       "rows": 4,
       "style": "IPY_MODEL_c5015cc52c67414384f75f12603fc2a2"
      }
     },
     "18c4f7c3231943b8a24ccb5e2c4d92a0": {
      "model_module": "@jupyter-widgets/controls",
      "model_module_version": "1.5.0",
      "model_name": "ButtonModel",
      "state": {
       "button_style": "success",
       "description": "run batch",
       "layout": "IPY_MODEL_08761c8bdd3748fc9fa00ee683cf1384",
       "style": "IPY_MODEL_09d6a56a68fd4300a89f413d4e167d32",
       "tooltip": "execute checked processes below"
      }
     },
     "18ff1b18c4b94af8bb2797911b04710e": {
      "model_module": "@jupyter-widgets/controls",
      "model_module_version": "1.5.0",
      "model_name": "DescriptionStyleModel",
      "state": {
       "description_width": ""
      }
     },
     "1902a142acb84c09ae7bf731fc56a26b": {
      "model_module": "@jupyter-widgets/controls",
      "model_module_version": "1.5.0",
      "model_name": "VBoxModel",
      "state": {
       "children": [
        "IPY_MODEL_c4a7879b3cf14e3b84a4ceadc939b62c",
        "IPY_MODEL_461d2a31c3dc4734b455a02b6cf2c762"
       ],
       "layout": "IPY_MODEL_3b4643b337e84f2ca86168d49cd9a0d2"
      }
     },
     "1903899a26324641b1cc1177c089fbb6": {
      "model_module": "@jupyter-widgets/controls",
      "model_module_version": "1.5.0",
      "model_name": "ButtonModel",
      "state": {
       "button_style": "info",
       "description": "preview outputs",
       "layout": "IPY_MODEL_88e18e2d659944e8a6d553bc45217ba3",
       "style": "IPY_MODEL_0cb98a5e2d5a42e8a7c1312d35eecb89",
       "tooltip": "show a preview of the output files generated when the script runs"
      }
     },
     "191c474b60ef4a5c8c7ce83d702b75b3": {
      "model_module": "@jupyter-widgets/base",
      "model_module_version": "1.2.0",
      "model_name": "LayoutModel",
      "state": {
       "height": "30px",
       "width": "auto"
      }
     },
     "19376df607d04e6dafa6388988a6cf6c": {
      "model_module": "@jupyter-widgets/controls",
      "model_module_version": "1.5.0",
      "model_name": "ButtonModel",
      "state": {
       "button_style": "info",
       "description": "preview outputs",
       "layout": "IPY_MODEL_549fe35e18414258b725e69cd7e51480",
       "style": "IPY_MODEL_e90406cfcf9840f9bf9a744744b432c3",
       "tooltip": "show a preview of the output files generated when the script runs"
      }
     },
     "1959119f86f54fcfb600a756c7740c3a": {
      "model_module": "@jupyter-widgets/base",
      "model_module_version": "1.2.0",
      "model_name": "LayoutModel",
      "state": {
       "width": "100%"
      }
     },
     "1980565a30b040289d61f41d561496c0": {
      "model_module": "@jupyter-widgets/controls",
      "model_module_version": "1.5.0",
      "model_name": "DescriptionStyleModel",
      "state": {
       "description_width": ""
      }
     },
     "198606342dc34749b2b35ddc270deedd": {
      "model_module": "@jupyter-widgets/controls",
      "model_module_version": "1.5.0",
      "model_name": "HBoxModel",
      "state": {
       "children": [
        "IPY_MODEL_c6d9f90a20264df3bdce0e9ef9ccc0fc",
        "IPY_MODEL_8fe03b31762546d2b0c814a9edc59e6f",
        "IPY_MODEL_ecca7feee348459b97163dbfed544847",
        "IPY_MODEL_9cbe4ea0ef3b45b181cf4c5b5d07227a",
        "IPY_MODEL_f232a3777c1c476e8ddc3138196573c0",
        "IPY_MODEL_c3e883da0ca44e58afcbe83ddaddf94c",
        "IPY_MODEL_d78e818ac903444397bdcfcc16125567"
       ],
       "layout": "IPY_MODEL_f594d7e5df494e448864755732ee0cfd"
      }
     },
     "199a6855d1954d8688a5cd3c849f0326": {
      "model_module": "@jupyter-widgets/base",
      "model_module_version": "1.2.0",
      "model_name": "LayoutModel",
      "state": {
       "height": "30px",
       "width": "auto"
      }
     },
     "19a119780a2d47a8970810b883430437": {
      "model_module": "@jupyter-widgets/controls",
      "model_module_version": "1.5.0",
      "model_name": "TextModel",
      "state": {
       "description": "script",
       "disabled": true,
       "layout": "IPY_MODEL_681698d966804277b7b1fb7c64faf1a3",
       "style": "IPY_MODEL_747e00d0f9ee42bb95f615d227499909",
       "value": "C:\\engDev\\git_mf\\MF_Toolbox\\dev\\mf_scripts\\eplus_pipework_params.py"
      }
     },
     "19bfc4d9612748888119771249d05acd": {
      "model_module": "@jupyter-widgets/base",
      "model_module_version": "1.2.0",
      "model_name": "LayoutModel",
      "state": {}
     },
     "19d15a4d91d94ee98c03590cd543020d": {
      "model_module": "@jupyter-widgets/base",
      "model_module_version": "1.2.0",
      "model_name": "LayoutModel",
      "state": {}
     },
     "19d9e5da183a49ddbc3dfb39c0187e45": {
      "model_module": "@jupyter-widgets/base",
      "model_module_version": "1.2.0",
      "model_name": "LayoutModel",
      "state": {
       "width": "5%"
      }
     },
     "1a11d6fc737f4449803eb728b8e41791": {
      "model_module": "@jupyter-widgets/controls",
      "model_module_version": "1.5.0",
      "model_name": "ButtonModel",
      "state": {
       "button_style": "info",
       "description": "show source code",
       "layout": "IPY_MODEL_2c7b60991c3342a28abcf281785f7a01",
       "style": "IPY_MODEL_005e170e1eab49c7a7f774a1428efe51",
       "tooltip": "shows the raw python code in the preview window below"
      }
     },
     "1a1ca9eecf26432d8d884837ed3366f9": {
      "model_module": "@jupyter-widgets/controls",
      "model_module_version": "1.5.0",
      "model_name": "HBoxModel",
      "state": {
       "children": [
        "IPY_MODEL_b58a622e8a554314ae025a7d5cbb370e",
        "IPY_MODEL_fb3c1c3ac0c942d483652452b6a6667e",
        "IPY_MODEL_02fb332cc4f14a4ea7b15ea1d49f5989",
        "IPY_MODEL_7ced0bfbe8e74f5d95a4d51ac2c6158c",
        "IPY_MODEL_9f30329ef9fc4d379f1592ffaa09821f",
        "IPY_MODEL_6d0b6ce1a4874856b4f2a564e47ca46f",
        "IPY_MODEL_9f647c554aa84190a1db66c7ddbe7e39"
       ],
       "layout": "IPY_MODEL_3a4272a3f8eb42dba00e90022156217f"
      }
     },
     "1a6242d61458483b818fc35f310b0328": {
      "model_module": "@jupyter-widgets/base",
      "model_module_version": "1.2.0",
      "model_name": "LayoutModel",
      "state": {
       "height": "30px",
       "max_width": "30px",
       "padding": "3px"
      }
     },
     "1aa3030a09644f53a3b62be509807179": {
      "model_module": "@jupyter-widgets/controls",
      "model_module_version": "1.5.0",
      "model_name": "ButtonStyleModel",
      "state": {}
     },
     "1aa35d0c93434c6c8e653411b3202e13": {
      "model_module": "@jupyter-widgets/base",
      "model_module_version": "1.2.0",
      "model_name": "LayoutModel",
      "state": {}
     },
     "1ab1c808b29d4b7c8f565d614720422a": {
      "model_module": "@jupyter-widgets/controls",
      "model_module_version": "1.5.0",
      "model_name": "ButtonModel",
      "state": {
       "icon": "question-circle",
       "layout": "IPY_MODEL_b3780a396cc64b9691aeec2eb9ffc5cf",
       "style": "IPY_MODEL_b2289c776e7341528f6d4f783dc7f896",
       "tooltip": "describes the functionality of elements in the RunApp interface"
      }
     },
     "1ac6eeb78bd24875b91f50f355f399eb": {
      "model_module": "@jupyter-widgets/controls",
      "model_module_version": "1.5.0",
      "model_name": "ButtonModel",
      "state": {
       "button_style": "info",
       "description": "preview outputs",
       "layout": "IPY_MODEL_0b18d685918948e9a70afe004444498f",
       "style": "IPY_MODEL_6faaed3b819e4c56a870fdb84af9d872",
       "tooltip": "show a preview of the output files generated when the script runs"
      }
     },
     "1ac985cbbc2140a6ba7b15158aa85174": {
      "model_module": "@jupyter-widgets/controls",
      "model_module_version": "1.5.0",
      "model_name": "ButtonStyleModel",
      "state": {
       "font_weight": "bold"
      }
     },
     "1b04d15bceec43f2881409a9eb716e98": {
      "model_module": "@jupyter-widgets/base",
      "model_module_version": "1.2.0",
      "model_name": "LayoutModel",
      "state": {
       "height": "30px",
       "width": "auto"
      }
     },
     "1b2f8a10ae5845b290062282570d5e3b": {
      "model_module": "@jupyter-widgets/controls",
      "model_module_version": "1.5.0",
      "model_name": "ButtonStyleModel",
      "state": {}
     },
     "1b35b16fc7354edfb647ddb045f37e50": {
      "model_module": "@jupyter-widgets/base",
      "model_module_version": "1.2.0",
      "model_name": "LayoutModel",
      "state": {}
     },
     "1b42c01bad5c459dbbc167f2af8a7157": {
      "model_module": "@jupyter-widgets/base",
      "model_module_version": "1.2.0",
      "model_name": "LayoutModel",
      "state": {}
     },
     "1b4825be4c524e8db1cc1a4f446f2b24": {
      "model_module": "@jupyter-widgets/base",
      "model_module_version": "1.2.0",
      "model_name": "LayoutModel",
      "state": {
       "height": "30px",
       "max_width": "30px",
       "padding": "3px"
      }
     },
     "1b50542165954665bd935543ce638c06": {
      "model_module": "@jupyter-widgets/controls",
      "model_module_version": "1.5.0",
      "model_name": "SelectMultipleModel",
      "state": {
       "_options_labels": [
        "C:\\engDev\\git_mf\\ipyrun\\reports\\JupyterReportDemo.pdf"
       ],
       "description": "outputs",
       "index": [],
       "layout": "IPY_MODEL_0a995b224b024dee8911425e3b117050",
       "rows": 4,
       "style": "IPY_MODEL_7fcb91098fc3465facd6a5fa749ae361"
      }
     },
     "1ba215db58f54d3b9a06fcf78dd28518": {
      "model_module": "@jupyter-widgets/base",
      "model_module_version": "1.2.0",
      "model_name": "LayoutModel",
      "state": {}
     },
     "1bd3b6de08a64d36bb587b095fdbddfa": {
      "model_module": "@jupyter-widgets/base",
      "model_module_version": "1.2.0",
      "model_name": "LayoutModel",
      "state": {}
     },
     "1c1fc4a1696d4d8e8816fda0b5c21050": {
      "model_module": "@jupyter-widgets/base",
      "model_module_version": "1.2.0",
      "model_name": "LayoutModel",
      "state": {
       "height": "30px",
       "max_width": "30px",
       "padding": "3px"
      }
     },
     "1c2a1d5819aa450797b7a925eb00daf5": {
      "model_module": "@jupyter-widgets/controls",
      "model_module_version": "1.5.0",
      "model_name": "TextModel",
      "state": {
       "description": "script",
       "disabled": true,
       "layout": "IPY_MODEL_f7d7e0e6c2d340fe9c15b0cee36281db",
       "style": "IPY_MODEL_cc119f06397f4f7682154c965308e8e4",
       "value": "C:\\engDev\\git_mf\\MF_Toolbox\\dev\\mf_scripts\\gbxml.py"
      }
     },
     "1c461528155f4bb6a8271f9a1e51b754": {
      "model_module": "@jupyter-widgets/controls",
      "model_module_version": "1.5.0",
      "model_name": "ButtonModel",
      "state": {
       "button_style": "info",
       "description": "preview outputs",
       "layout": "IPY_MODEL_fa1526623bfb4152a6ae3ae5d8ad471a",
       "style": "IPY_MODEL_1dd03b9a25eb4d9594b5accdfd3f84ad",
       "tooltip": "show a preview of the output files generated when the script runs"
      }
     },
     "1c556c6a1c044c9db669d30843ad4413": {
      "model_module": "@jupyter-widgets/controls",
      "model_module_version": "1.5.0",
      "model_name": "ButtonStyleModel",
      "state": {
       "font_weight": "bold"
      }
     },
     "1c56b683767f40ed8d3e23faae2b26b9": {
      "model_module": "@jupyter-widgets/controls",
      "model_module_version": "1.5.0",
      "model_name": "DescriptionStyleModel",
      "state": {
       "description_width": ""
      }
     },
     "1c5acf32403c45398d9f98c23287d6e0": {
      "model_module": "@jupyter-widgets/base",
      "model_module_version": "1.2.0",
      "model_name": "LayoutModel",
      "state": {
       "height": "30px",
       "max_width": "30px",
       "padding": "3px"
      }
     },
     "1c6af35e5dfd41b28ad6c498ea44bfec": {
      "model_module": "@jupyter-widgets/base",
      "model_module_version": "1.2.0",
      "model_name": "LayoutModel",
      "state": {}
     },
     "1c85f4be92524f32b7d5133d5f166d37": {
      "model_module": "@jupyter-widgets/controls",
      "model_module_version": "1.5.0",
      "model_name": "ButtonStyleModel",
      "state": {
       "font_weight": "bold"
      }
     },
     "1c9aa5e33c4349b993429f26efb1217e": {
      "model_module": "@jupyter-widgets/controls",
      "model_module_version": "1.5.0",
      "model_name": "ButtonModel",
      "state": {
       "button_style": "info",
       "description": "show source code",
       "layout": "IPY_MODEL_5bba1c7c6c9b4af591007e4672d6c55f",
       "style": "IPY_MODEL_b6dee82113f245d087e2eba2515fecfe",
       "tooltip": "shows the raw python code in the preview window below"
      }
     },
     "1ca98f5e356d43a58a71ff0dd1cfa59e": {
      "model_module": "@jupyter-widgets/controls",
      "model_module_version": "1.5.0",
      "model_name": "ButtonStyleModel",
      "state": {
       "font_weight": "bold"
      }
     },
     "1ccce22d3238443cb0f56cd885b1e6a4": {
      "model_module": "@jupyter-widgets/base",
      "model_module_version": "1.2.0",
      "model_name": "LayoutModel",
      "state": {
       "border": "0px",
       "margin": "0px",
       "padding": "0px"
      }
     },
     "1cd7536ce58a44e1a7681f79ba55dcd8": {
      "model_module": "@jupyter-widgets/base",
      "model_module_version": "1.2.0",
      "model_name": "LayoutModel",
      "state": {}
     },
     "1ce896914bd84cb389973542728f4148": {
      "model_module": "@jupyter-widgets/controls",
      "model_module_version": "1.5.0",
      "model_name": "ButtonModel",
      "state": {
       "icon": "question-circle",
       "layout": "IPY_MODEL_dc5dd23e6aa240bf817c0aaa9bcc872e",
       "style": "IPY_MODEL_d8c3d73a91c143b3b56647be4fd5d8e3",
       "tooltip": "describes the functionality of elements in the RunApp interface"
      }
     },
     "1ceec74da65b43c4a698acfaedc4aad2": {
      "model_module": "@jupyter-widgets/base",
      "model_module_version": "1.2.0",
      "model_name": "LayoutModel",
      "state": {}
     },
     "1d07dd3c5b624072a7bce048f3f42291": {
      "model_module": "@jupyter-widgets/base",
      "model_module_version": "1.2.0",
      "model_name": "LayoutModel",
      "state": {
       "height": "30px",
       "max_width": "30px",
       "padding": "3px"
      }
     },
     "1d0d825dd0274cab97128f9ce82672ff": {
      "model_module": "@jupyter-widgets/controls",
      "model_module_version": "1.5.0",
      "model_name": "HBoxModel",
      "state": {
       "children": [
        "IPY_MODEL_a477d6d5514f4c5b86a3cb4a1b13fc01",
        "IPY_MODEL_44ef9d48491f47b9b0c81747de700e1f",
        "IPY_MODEL_5fa21248f98e47a68bdd18d788415a16",
        "IPY_MODEL_02e776017b644af3aab82e4c4931e570",
        "IPY_MODEL_8840c03b6d1a4285bbd591e98106bcf5",
        "IPY_MODEL_f14ae84f0d4f40bb88b24d755c7c5327",
        "IPY_MODEL_54eb139686764083bcd2135bbd76acb0"
       ],
       "layout": "IPY_MODEL_5b5633f17d0c406c86d1545d2a5382c8"
      }
     },
     "1d1c1db23f6741ddb23e0e3527d1af42": {
      "model_module": "@jupyter-widgets/controls",
      "model_module_version": "1.5.0",
      "model_name": "HBoxModel",
      "state": {
       "children": [
        "IPY_MODEL_5b527b0131be440383c9a88452292218",
        "IPY_MODEL_1f28bcbfa09f441dbbfb2ea970c7d56e"
       ],
       "layout": "IPY_MODEL_368e3645ed7f464191ab2c05627e0e0a"
      }
     },
     "1d32b2b913f3415eba6ed1b5fb1cd129": {
      "model_module": "@jupyter-widgets/base",
      "model_module_version": "1.2.0",
      "model_name": "LayoutModel",
      "state": {}
     },
     "1d40febc3257480caff3b439e3704713": {
      "model_module": "@jupyter-widgets/controls",
      "model_module_version": "1.5.0",
      "model_name": "ButtonStyleModel",
      "state": {
       "font_weight": "bold"
      }
     },
     "1db4f47270f14c8389aa78cce6eaaba0": {
      "model_module": "@jupyter-widgets/controls",
      "model_module_version": "1.5.0",
      "model_name": "ButtonStyleModel",
      "state": {
       "font_weight": "bold"
      }
     },
     "1db7a486c54a41ecba5e475c73e86037": {
      "model_module": "@jupyter-widgets/base",
      "model_module_version": "1.2.0",
      "model_name": "LayoutModel",
      "state": {
       "align_items": "stretch",
       "width": "100%"
      }
     },
     "1dd03b9a25eb4d9594b5accdfd3f84ad": {
      "model_module": "@jupyter-widgets/controls",
      "model_module_version": "1.5.0",
      "model_name": "ButtonStyleModel",
      "state": {
       "font_weight": "bold"
      }
     },
     "1e0cc79e5bb34613b9883723ef50623c": {
      "model_module": "@jupyter-widgets/controls",
      "model_module_version": "1.5.0",
      "model_name": "ButtonModel",
      "state": {
       "button_style": "success",
       "description": "run",
       "layout": "IPY_MODEL_5cdf4511f75a4562b3be7807a5c464bf",
       "style": "IPY_MODEL_8936ce12f4be4878969c1af54da0df15",
       "tooltip": "execute the script based on the user inputs"
      }
     },
     "1e29a1bd2aa34944acaafc9a3b3e67f1": {
      "model_module": "@jupyter-widgets/controls",
      "model_module_version": "1.5.0",
      "model_name": "DescriptionStyleModel",
      "state": {
       "description_width": ""
      }
     },
     "1e3ac695eaef418e998ce2949f5b526f": {
      "model_module": "@jupyter-widgets/base",
      "model_module_version": "1.2.0",
      "model_name": "LayoutModel",
      "state": {}
     },
     "1e5233bc33064f858cf6dcfedd9f0e92": {
      "model_module": "@jupyter-widgets/base",
      "model_module_version": "1.2.0",
      "model_name": "LayoutModel",
      "state": {
       "height": "30px",
       "width": "auto"
      }
     },
     "1e5f98862fd549b98c309c274c9e8c2b": {
      "model_module": "@jupyter-widgets/controls",
      "model_module_version": "1.5.0",
      "model_name": "BoxModel",
      "state": {
       "children": [
        "IPY_MODEL_a6cac4d7f1ce4f0fbaafceec34f70118"
       ],
       "layout": "IPY_MODEL_d3a7683ae5e845d3aa7cefd858833f11"
      }
     },
     "1eae6193c0334feabc2e89f4359fcdc8": {
      "model_module": "@jupyter-widgets/base",
      "model_module_version": "1.2.0",
      "model_name": "LayoutModel",
      "state": {}
     },
     "1eb708dde1cd4ce09407fe0f9c6d5279": {
      "model_module": "@jupyter-widgets/base",
      "model_module_version": "1.2.0",
      "model_name": "LayoutModel",
      "state": {}
     },
     "1ed5825e8cdb4542a58b193c792b8b76": {
      "model_module": "@jupyter-widgets/controls",
      "model_module_version": "1.5.0",
      "model_name": "ButtonModel",
      "state": {
       "icon": "eye-slash",
       "layout": "IPY_MODEL_261efc16e1204d3fa74bd048cb867996",
       "style": "IPY_MODEL_6885be5e3d014e08ac563a8a0a5792db",
       "tooltip": "removes temporary output view"
      }
     },
     "1ed831a4a168468c95419af2072ace63": {
      "model_module": "@jupyter-widgets/base",
      "model_module_version": "1.2.0",
      "model_name": "LayoutModel",
      "state": {}
     },
     "1ee10296be3d4f2dbce72240b8c141a3": {
      "model_module": "@jupyter-widgets/controls",
      "model_module_version": "1.5.0",
      "model_name": "ButtonStyleModel",
      "state": {
       "font_weight": "bold"
      }
     },
     "1ef475be02b64ebebf04b0ac47da8ca4": {
      "model_module": "@jupyter-widgets/base",
      "model_module_version": "1.2.0",
      "model_name": "LayoutModel",
      "state": {
       "height": "30px",
       "width": "auto"
      }
     },
     "1f11883d9eef4fa698e8e1291c723062": {
      "model_module": "@jupyter-widgets/base",
      "model_module_version": "1.2.0",
      "model_name": "LayoutModel",
      "state": {}
     },
     "1f1191a21b4544159bec483b9df09c4e": {
      "model_module": "@jupyter-widgets/base",
      "model_module_version": "1.2.0",
      "model_name": "LayoutModel",
      "state": {
       "align_items": "stretch",
       "width": "100%"
      }
     },
     "1f28bcbfa09f441dbbfb2ea970c7d56e": {
      "model_module": "@jupyter-widgets/controls",
      "model_module_version": "1.5.0",
      "model_name": "AccordionModel",
      "state": {
       "_titles": {
        "0": "eplus_pipework_params"
       },
       "children": [
        "IPY_MODEL_da31558c14934b3d85b2ccebf7d6eff1"
       ],
       "layout": "IPY_MODEL_9f3ed1e3c3e24b828868a5bb3250f727",
       "selected_index": null
      }
     },
     "1f4a9d172db54879bc0f7689cee170ac": {
      "model_module": "@jupyter-widgets/controls",
      "model_module_version": "1.5.0",
      "model_name": "DescriptionStyleModel",
      "state": {
       "description_width": ""
      }
     },
     "1f4cda48c3f74ab2af1bdf716471c411": {
      "model_module": "@jupyter-widgets/controls",
      "model_module_version": "1.5.0",
      "model_name": "VBoxModel",
      "state": {
       "children": [
        "IPY_MODEL_a0ce6d87c7714ae3ab20034de2311f93",
        "IPY_MODEL_a862453a587140a49aae25f2137e4244"
       ],
       "layout": "IPY_MODEL_772938db34114725aceb189204281393"
      }
     },
     "1f8656dd727442a8b26d1a3bdd48456c": {
      "model_module": "@jupyter-widgets/controls",
      "model_module_version": "1.5.0",
      "model_name": "HBoxModel",
      "state": {
       "children": [
        "IPY_MODEL_f3c325b38a4246d3bc93baf1d0ee05f7",
        "IPY_MODEL_28c8d4183d9c457887661890f847fc27",
        "IPY_MODEL_f79cded74a1d49bb85cb729fa9b0a01b",
        "IPY_MODEL_d86f2b77c35b452c870e0dfc81ea1d62",
        "IPY_MODEL_c4e993b873ce4c76ad180bf2838c0934",
        "IPY_MODEL_a6a4989d038342f882c2ca61a9d1f1a0",
        "IPY_MODEL_0a12f1d870cb406785f2a7ecc5b66269"
       ],
       "layout": "IPY_MODEL_7ebd039fa9f541eab3cfa7ad35842984"
      }
     },
     "1f9bfd9e7b564d89bd920e2d8d0822eb": {
      "model_module": "@jupyter-widgets/controls",
      "model_module_version": "1.5.0",
      "model_name": "HBoxModel",
      "state": {
       "children": [
        "IPY_MODEL_c11fe807070d479ca1487d924da93430",
        "IPY_MODEL_b30cc995743e4a8c84002769cd490ae7",
        "IPY_MODEL_cc146ba151914aefb3fb9f1cbd0f69a4",
        "IPY_MODEL_0193807bf451458bb2a3b1f7c9599a5f",
        "IPY_MODEL_769e9af3e81c4234bbf8e60c2a5a8083",
        "IPY_MODEL_13d372d1302f4d15a2fa6964659aedaa",
        "IPY_MODEL_0bb67cce31f74253a6c5713a78da5974"
       ],
       "layout": "IPY_MODEL_d8a132636e8d492b8b995027f99ea292"
      }
     },
     "1fa94d5a71f94b5db1066e68addf4fc5": {
      "model_module": "@jupyter-widgets/controls",
      "model_module_version": "1.5.0",
      "model_name": "ButtonModel",
      "state": {
       "icon": "question-circle",
       "layout": "IPY_MODEL_5908e28f1e534eac9737f87327c9b028",
       "style": "IPY_MODEL_3f9c510f32944574a213fa126ea41352",
       "tooltip": "describes the functionality of elements in the RunApp interface"
      }
     },
     "1fc25e8b9c2f46fe9e59a13af93d652b": {
      "model_module": "@jupyter-widgets/controls",
      "model_module_version": "1.5.0",
      "model_name": "DescriptionStyleModel",
      "state": {
       "description_width": ""
      }
     },
     "1fdc08fc943e48b69ee732c92531300b": {
      "model_module": "@jupyter-widgets/base",
      "model_module_version": "1.2.0",
      "model_name": "LayoutModel",
      "state": {
       "width": "5%"
      }
     },
     "1ff01216dbf04ff48f9a5889f9b631e7": {
      "model_module": "@jupyter-widgets/controls",
      "model_module_version": "1.5.0",
      "model_name": "ButtonStyleModel",
      "state": {}
     },
     "201376f9d4494debbe54855aebd3ccc9": {
      "model_module": "@jupyter-widgets/controls",
      "model_module_version": "1.5.0",
      "model_name": "CheckboxModel",
      "state": {
       "disabled": false,
       "indent": false,
       "layout": "IPY_MODEL_ae1a4aae28a949248ca766f7dbcaa789",
       "style": "IPY_MODEL_bde9110b42a04eeaa51ddaba41c3c354",
       "value": false
      }
     },
     "203dc07fab3a48af9f6006d0ad1d224b": {
      "model_module": "@jupyter-widgets/controls",
      "model_module_version": "1.5.0",
      "model_name": "AccordionModel",
      "state": {
       "_titles": {
        "0": "eplus_pipework_params"
       },
       "children": [
        "IPY_MODEL_86923f5a15254aef8c6912f57b293a9d"
       ],
       "layout": "IPY_MODEL_d912c4e5791d405db3fb38598f927395",
       "selected_index": null
      }
     },
     "20574927fb8d433e83a72252d9ec192b": {
      "model_module": "@jupyter-widgets/base",
      "model_module_version": "1.2.0",
      "model_name": "LayoutModel",
      "state": {}
     },
     "2069761b1e7e4fa8a4bda9fb92aad1ae": {
      "model_module": "@jupyter-widgets/controls",
      "model_module_version": "1.5.0",
      "model_name": "ButtonModel",
      "state": {
       "button_style": "info",
       "description": "show log",
       "layout": "IPY_MODEL_381f709ba9ab4f4fbd9a81063d45083e",
       "style": "IPY_MODEL_acf6d5511954400cbaacdbeb169f9be4",
       "tooltip": "show a log of when the script was executed to generate the outputs, and by who"
      }
     },
     "208a4d28cfc24252a6b4869f8598449f": {
      "model_module": "@jupyter-widgets/controls",
      "model_module_version": "1.5.0",
      "model_name": "ButtonStyleModel",
      "state": {
       "font_weight": "bold"
      }
     },
     "208ad46c453a4e9195b07566bc5b22d2": {
      "model_module": "@jupyter-widgets/base",
      "model_module_version": "1.2.0",
      "model_name": "LayoutModel",
      "state": {}
     },
     "20a4faf952eb47a7afd8c37fa21a8f9e": {
      "model_module": "@jupyter-widgets/controls",
      "model_module_version": "1.5.0",
      "model_name": "ButtonModel",
      "state": {
       "button_style": "info",
       "description": "show guide",
       "layout": "IPY_MODEL_e14b0832081b425d9d13484bc65c313d",
       "style": "IPY_MODEL_8d993470d8cd4baa9ddafeb321465b47",
       "tooltip": "read the \"docstring\", ie. the documentation that was written to accompany the script"
      }
     },
     "20d8fe342ae54d31ac7f8575093a5922": {
      "model_module": "@jupyter-widgets/controls",
      "model_module_version": "1.5.0",
      "model_name": "ButtonModel",
      "state": {
       "button_style": "info",
       "description": "show log",
       "layout": "IPY_MODEL_dd01b9e5a58444b08397d6392105585a",
       "style": "IPY_MODEL_208a4d28cfc24252a6b4869f8598449f",
       "tooltip": "show a log of when the script was executed to generate the outputs, and by who"
      }
     },
     "20fba361266f48e2ae6287117c0884a2": {
      "model_module": "@jupyter-widgets/controls",
      "model_module_version": "1.5.0",
      "model_name": "ButtonModel",
      "state": {
       "button_style": "info",
       "description": "show guide",
       "layout": "IPY_MODEL_c1104251f11e48788651b18711ddd31e",
       "style": "IPY_MODEL_e49819abbe2c40e69ee7efcaa69e5c77",
       "tooltip": "read the \"docstring\", ie. the documentation that was written to accompany the script"
      }
     },
     "2109cd066e6248a093ec33717c022663": {
      "model_module": "@jupyter-widgets/base",
      "model_module_version": "1.2.0",
      "model_name": "LayoutModel",
      "state": {}
     },
     "2110e4d15e924815b6191f59fd4a154d": {
      "model_module": "@jupyter-widgets/controls",
      "model_module_version": "1.5.0",
      "model_name": "ButtonStyleModel",
      "state": {
       "font_weight": "bold"
      }
     },
     "213a53af98f24b68b1f97745b4ead0bd": {
      "model_module": "@jupyter-widgets/controls",
      "model_module_version": "1.5.0",
      "model_name": "ButtonStyleModel",
      "state": {}
     },
     "213efc9eadf641f7b8a9954cfe60250f": {
      "model_module": "@jupyter-widgets/controls",
      "model_module_version": "1.5.0",
      "model_name": "ButtonStyleModel",
      "state": {
       "font_weight": "bold"
      }
     },
     "21843d15e2b6462790dcd85aaffd9e93": {
      "model_module": "@jupyter-widgets/controls",
      "model_module_version": "1.5.0",
      "model_name": "TextModel",
      "state": {
       "description": "inputs",
       "disabled": true,
       "layout": "IPY_MODEL_28f21307ce114ff9a66ab1546e4a98a8",
       "style": "IPY_MODEL_525056a904314f6ab90696f48c03d46b",
       "value": "C:\\engDev\\git_mf\\ipyrun\\ipyrun\\appdata\\inputs\\inputs-gbxml.json"
      }
     },
     "2195a39928424f1196ecfba0123d3b40": {
      "model_module": "@jupyter-widgets/controls",
      "model_module_version": "1.5.0",
      "model_name": "AccordionModel",
      "state": {
       "_titles": {
        "0": "eplus_pipework_params"
       },
       "children": [
        "IPY_MODEL_452f8492ecbe497dada5ffd16aa28d8b"
       ],
       "layout": "IPY_MODEL_e3ce5a83c4c74b6d84c94875b0ea445f",
       "selected_index": null
      }
     },
     "21bc33dd9def4dc68f90333a4e077898": {
      "model_module": "@jupyter-widgets/controls",
      "model_module_version": "1.5.0",
      "model_name": "ButtonStyleModel",
      "state": {
       "font_weight": "bold"
      }
     },
     "21bca2508a4e4b17a026ae81a7502477": {
      "model_module": "@jupyter-widgets/controls",
      "model_module_version": "1.5.0",
      "model_name": "ButtonModel",
      "state": {
       "button_style": "success",
       "description": "run",
       "layout": "IPY_MODEL_d568cbc1c5144a5c96373f204d14c8fb",
       "style": "IPY_MODEL_718a55106352412db7d7090b20cdc283",
       "tooltip": "execute the script based on the user inputs"
      }
     },
     "21dbe2ba1ef14ea5b50b310162d446e1": {
      "model_module": "@jupyter-widgets/controls",
      "model_module_version": "1.5.0",
      "model_name": "CheckboxModel",
      "state": {
       "disabled": false,
       "indent": false,
       "layout": "IPY_MODEL_f45b1cd29de34ae5b1feb36eca7f9cef",
       "style": "IPY_MODEL_b3b95320ce6340d4bcb760f0e99c8406",
       "value": false
      }
     },
     "21e5469e78d5404987260318b3154e9a": {
      "model_module": "@jupyter-widgets/controls",
      "model_module_version": "1.5.0",
      "model_name": "ButtonStyleModel",
      "state": {
       "font_weight": "bold"
      }
     },
     "21ef036f50db4fa1818728fdcc72617a": {
      "model_module": "@jupyter-widgets/controls",
      "model_module_version": "1.5.0",
      "model_name": "TextModel",
      "state": {
       "description": "script",
       "disabled": true,
       "layout": "IPY_MODEL_0ea2dfbdb77c45e0a0f8f732eef8bc1d",
       "style": "IPY_MODEL_0885cd97599446a089cc64977ff8c780",
       "value": "C:\\engDev\\git_mf\\MF_Toolbox\\dev\\mf_scripts\\docx_to_pdf.py"
      }
     },
     "2202169591a24cadbe8806358b80be91": {
      "model_module": "@jupyter-widgets/base",
      "model_module_version": "1.2.0",
      "model_name": "LayoutModel",
      "state": {}
     },
     "22153c2123be4250aa06a69107a9e567": {
      "model_module": "@jupyter-widgets/base",
      "model_module_version": "1.2.0",
      "model_name": "LayoutModel",
      "state": {}
     },
     "2223fd95cc1643fcbb4627145641dc40": {
      "model_module": "@jupyter-widgets/output",
      "model_module_version": "1.0.0",
      "model_name": "OutputModel",
      "state": {
       "layout": "IPY_MODEL_e889bf8a39804a0983817196e39d3f75"
      }
     },
     "2225604a77674b19be75e44c5a125662": {
      "model_module": "@jupyter-widgets/controls",
      "model_module_version": "1.5.0",
      "model_name": "HBoxModel",
      "state": {
       "children": [
        "IPY_MODEL_9d4928ed26b047c59064b4b44f523a8f",
        "IPY_MODEL_f5e24639b6f241ef809afb3e78b138a5"
       ],
       "layout": "IPY_MODEL_712766d633674d519ad97e63d1a7614f"
      }
     },
     "222e5615cd0f4a6b89fc12fb6b18fd36": {
      "model_module": "@jupyter-widgets/controls",
      "model_module_version": "1.5.0",
      "model_name": "ButtonStyleModel",
      "state": {
       "font_weight": "bold"
      }
     },
     "223e11d23f314473bb1181d5bbfbcccd": {
      "model_module": "@jupyter-widgets/base",
      "model_module_version": "1.2.0",
      "model_name": "LayoutModel",
      "state": {}
     },
     "224490dd2d7c427c8e5e4789dec1a5d4": {
      "model_module": "@jupyter-widgets/base",
      "model_module_version": "1.2.0",
      "model_name": "LayoutModel",
      "state": {
       "width": "5%"
      }
     },
     "22460e9806144550b6a355169d1d43bb": {
      "model_module": "@jupyter-widgets/controls",
      "model_module_version": "1.5.0",
      "model_name": "BoxModel",
      "state": {
       "children": [
        "IPY_MODEL_b05611575fae4f2b97a450f6ff6d80bd"
       ],
       "layout": "IPY_MODEL_5fd74d9bb5734d98b73e4e7372d7ed74"
      }
     },
     "2249135af3e9486895ab5201095209f6": {
      "model_module": "@jupyter-widgets/controls",
      "model_module_version": "1.5.0",
      "model_name": "VBoxModel",
      "state": {
       "children": [
        "IPY_MODEL_1e5f98862fd549b98c309c274c9e8c2b",
        "IPY_MODEL_608eb6756bc0425dbb46669f4b03ac5b"
       ],
       "layout": "IPY_MODEL_da62fd34b69141bebe71c0de66c8b884"
      }
     },
     "226f6b37d0bd43c7882ea67c083ee67b": {
      "model_module": "@jupyter-widgets/controls",
      "model_module_version": "1.5.0",
      "model_name": "ButtonModel",
      "state": {
       "button_style": "info",
       "description": "show guide",
       "layout": "IPY_MODEL_129bc942209d4b5c86ee03d9e8a617f8",
       "style": "IPY_MODEL_10974121bb2c4880853b6ee086642c94",
       "tooltip": "read the \"docstring\", ie. the documentation that was written to accompany the script"
      }
     },
     "226f777f38074aa7a04412cc17063261": {
      "model_module": "@jupyter-widgets/base",
      "model_module_version": "1.2.0",
      "model_name": "LayoutModel",
      "state": {}
     },
     "229b56c4688d4491b44f005285aadd79": {
      "model_module": "@jupyter-widgets/base",
      "model_module_version": "1.2.0",
      "model_name": "LayoutModel",
      "state": {
       "align_items": "stretch",
       "width": "100%"
      }
     },
     "22a88ca523774756b437295396c9a086": {
      "model_module": "@jupyter-widgets/controls",
      "model_module_version": "1.5.0",
      "model_name": "ButtonModel",
      "state": {
       "button_style": "info",
       "description": "show source code",
       "layout": "IPY_MODEL_a7a731608095468bb33db3eb11ef2936",
       "style": "IPY_MODEL_a58c7c1df5e545a2b825d81d824f20c2",
       "tooltip": "shows the raw python code in the preview window below"
      }
     },
     "22dbe25b4c4a4a9397e413368d3f7bcf": {
      "model_module": "@jupyter-widgets/controls",
      "model_module_version": "1.5.0",
      "model_name": "ButtonStyleModel",
      "state": {
       "font_weight": "bold"
      }
     },
     "22df23a5bf6544a0a8847a68221bb1ef": {
      "model_module": "@jupyter-widgets/controls",
      "model_module_version": "1.5.0",
      "model_name": "DescriptionStyleModel",
      "state": {
       "description_width": ""
      }
     },
     "230560072b1c4054b6d548e1d33a7f21": {
      "model_module": "@jupyter-widgets/controls",
      "model_module_version": "1.5.0",
      "model_name": "AccordionModel",
      "state": {
       "_titles": {
        "0": "gbxml"
       },
       "children": [
        "IPY_MODEL_fea77f284f60431f899375f09dfb7fb7"
       ],
       "layout": "IPY_MODEL_a62fc42a0e0447bebd1d7ad3c7cd79ea",
       "selected_index": null
      }
     },
     "2307a866838843fbb69a884711e3e14f": {
      "model_module": "@jupyter-widgets/controls",
      "model_module_version": "1.5.0",
      "model_name": "ButtonModel",
      "state": {
       "button_style": "info",
       "description": "show guide",
       "layout": "IPY_MODEL_82a4bfe230544d85a69d04b740832efe",
       "style": "IPY_MODEL_60eace387868485ca903a81fe8caf76b",
       "tooltip": "read the \"docstring\", ie. the documentation that was written to accompany the script"
      }
     },
     "231c8f222d074b4d8225263da8070fa1": {
      "model_module": "@jupyter-widgets/controls",
      "model_module_version": "1.5.0",
      "model_name": "AccordionModel",
      "state": {
       "_titles": {
        "0": "eplus_pipework_params"
       },
       "children": [
        "IPY_MODEL_c520a7ae884d413cad1a529572390645"
       ],
       "layout": "IPY_MODEL_0d3b1948e77f4bdbb0f4999fc1c8a445",
       "selected_index": null
      }
     },
     "2394166b81e2420d97e627412c32f37e": {
      "model_module": "@jupyter-widgets/base",
      "model_module_version": "1.2.0",
      "model_name": "LayoutModel",
      "state": {}
     },
     "239d262a0c9643519b27130d4e8fa1a5": {
      "model_module": "@jupyter-widgets/base",
      "model_module_version": "1.2.0",
      "model_name": "LayoutModel",
      "state": {
       "width": "5%"
      }
     },
     "23b16888a3274c48bf5887bd7ee88655": {
      "model_module": "@jupyter-widgets/controls",
      "model_module_version": "1.5.0",
      "model_name": "ButtonStyleModel",
      "state": {}
     },
     "23b633d8ea994b2aa4eec373853a3ef4": {
      "model_module": "@jupyter-widgets/base",
      "model_module_version": "1.2.0",
      "model_name": "LayoutModel",
      "state": {
       "width": "5%"
      }
     },
     "23c4abea72f648ee82be338caf130a0b": {
      "model_module": "@jupyter-widgets/base",
      "model_module_version": "1.2.0",
      "model_name": "LayoutModel",
      "state": {}
     },
     "23c7f5271e4c415f9cdfcdc0795f52e4": {
      "model_module": "@jupyter-widgets/controls",
      "model_module_version": "1.5.0",
      "model_name": "DescriptionStyleModel",
      "state": {
       "description_width": ""
      }
     },
     "23c88a881ef045b0ac02768f70d33bee": {
      "model_module": "@jupyter-widgets/controls",
      "model_module_version": "1.5.0",
      "model_name": "ButtonStyleModel",
      "state": {
       "font_weight": "bold"
      }
     },
     "23ce0e05a3ef4e3a97c75dedc046de35": {
      "model_module": "@jupyter-widgets/base",
      "model_module_version": "1.2.0",
      "model_name": "LayoutModel",
      "state": {}
     },
     "23d183412e85427fa9e702389dd91fcd": {
      "model_module": "@jupyter-widgets/controls",
      "model_module_version": "1.5.0",
      "model_name": "BoxModel",
      "state": {
       "children": [
        "IPY_MODEL_d6197c1d99a741acad75113436f21453"
       ],
       "layout": "IPY_MODEL_3a12d43d068b40a8968678ad1a074feb"
      }
     },
     "23e334628779479fb6baded02a79f275": {
      "model_module": "@jupyter-widgets/controls",
      "model_module_version": "1.5.0",
      "model_name": "ButtonStyleModel",
      "state": {
       "font_weight": "bold"
      }
     },
     "23fa369b5ba4431a90cb88b0671f7e9f": {
      "model_module": "@jupyter-widgets/base",
      "model_module_version": "1.2.0",
      "model_name": "LayoutModel",
      "state": {
       "align_items": "stretch",
       "width": "100%"
      }
     },
     "243d6fc46b144b3e8170f2dc1fb75422": {
      "model_module": "@jupyter-widgets/controls",
      "model_module_version": "1.5.0",
      "model_name": "ButtonModel",
      "state": {
       "button_style": "info",
       "description": "show guide",
       "layout": "IPY_MODEL_a7f87532dc6d4072a427812c56e49d95",
       "style": "IPY_MODEL_1ca98f5e356d43a58a71ff0dd1cfa59e",
       "tooltip": "read the \"docstring\", ie. the documentation that was written to accompany the script"
      }
     },
     "244a19eda6a34b9184147b315d831f50": {
      "model_module": "@jupyter-widgets/controls",
      "model_module_version": "1.5.0",
      "model_name": "AccordionModel",
      "state": {
       "_titles": {
        "0": "eplus_pipework_params"
       },
       "children": [
        "IPY_MODEL_d79d3032e8444cc886544bc8214e1d2e"
       ],
       "layout": "IPY_MODEL_8d3cbd1436b94a0aa0cbf0545ee79154",
       "selected_index": null
      }
     },
     "244cef56b82c4bcb80ebacce8693d0fe": {
      "model_module": "@jupyter-widgets/controls",
      "model_module_version": "1.5.0",
      "model_name": "DescriptionStyleModel",
      "state": {
       "description_width": ""
      }
     },
     "244d54ab5a364c3685ea16d5529c93da": {
      "model_module": "@jupyter-widgets/controls",
      "model_module_version": "1.5.0",
      "model_name": "VBoxModel",
      "state": {
       "children": [
        "IPY_MODEL_b18de4da5f954d7eb305691953cae474",
        "IPY_MODEL_ed624c72b8c946e59fb6978b7deacc03"
       ],
       "layout": "IPY_MODEL_6cffa83b33114c9fbc2ff8855f9b5add"
      }
     },
     "2485743f50b841cc84276a6f31794f0f": {
      "model_module": "@jupyter-widgets/controls",
      "model_module_version": "1.5.0",
      "model_name": "ButtonStyleModel",
      "state": {
       "font_weight": "bold"
      }
     },
     "248595b19a5a4cc19560ebe1469b51d2": {
      "model_module": "@jupyter-widgets/controls",
      "model_module_version": "1.5.0",
      "model_name": "ButtonStyleModel",
      "state": {
       "font_weight": "bold"
      }
     },
     "24d34319a0b449399440feb81232a990": {
      "model_module": "@jupyter-widgets/controls",
      "model_module_version": "1.5.0",
      "model_name": "TextModel",
      "state": {
       "description": "script",
       "disabled": true,
       "layout": "IPY_MODEL_9eae3935b9e2460098f259203b3dd60a",
       "style": "IPY_MODEL_e16759c414014a6bb4dab21a2143f5a9",
       "value": "C:\\engDev\\git_mf\\MF_Toolbox\\dev\\mf_scripts\\eplus_pipework_params.py"
      }
     },
     "24dba731937840f8a2ce3a1500956f55": {
      "model_module": "@jupyter-widgets/base",
      "model_module_version": "1.2.0",
      "model_name": "LayoutModel",
      "state": {}
     },
     "24f848ffb73c4f85bd2b8fd1e21c5000": {
      "model_module": "@jupyter-widgets/controls",
      "model_module_version": "1.5.0",
      "model_name": "HBoxModel",
      "state": {
       "children": [
        "IPY_MODEL_999e6bb3ffd447358f53e4cf21a7066d",
        "IPY_MODEL_2ee1704405994616921c38ef9ea1159f",
        "IPY_MODEL_809d3896eece4ac2a9a14ce478a5b0b6",
        "IPY_MODEL_4e0155555d9c4ee4b67fb63f72aeac8b",
        "IPY_MODEL_1e0cc79e5bb34613b9883723ef50623c",
        "IPY_MODEL_5d399ccf3fb946328fd20e64aae20bb3",
        "IPY_MODEL_74fdde9942c14471815c88fa558bf61f"
       ],
       "layout": "IPY_MODEL_ae5d599cae0947bda4ee50c2e3daf204"
      }
     },
     "2507b3dfaacd4530a52a0bde3c795315": {
      "model_module": "@jupyter-widgets/base",
      "model_module_version": "1.2.0",
      "model_name": "LayoutModel",
      "state": {
       "width": "5%"
      }
     },
     "25299b730a5f4bf99b6dafcff7da8a02": {
      "model_module": "@jupyter-widgets/controls",
      "model_module_version": "1.5.0",
      "model_name": "ButtonModel",
      "state": {
       "button_style": "success",
       "description": "run",
       "layout": "IPY_MODEL_14f875a9681143b4bca6f4212777b8dd",
       "style": "IPY_MODEL_49d461e8b19b47d18f0560ca2bef1910",
       "tooltip": "execute the script based on the user inputs"
      }
     },
     "254f137fd03445aeb1d7e40387e9a5bf": {
      "model_module": "@jupyter-widgets/base",
      "model_module_version": "1.2.0",
      "model_name": "LayoutModel",
      "state": {}
     },
     "25669bd0128a42d0a48dec3a828238b0": {
      "model_module": "@jupyter-widgets/base",
      "model_module_version": "1.2.0",
      "model_name": "LayoutModel",
      "state": {
       "width": "100%"
      }
     },
     "2586ff5fb97b45fe9335f4b34371b03a": {
      "model_module": "@jupyter-widgets/base",
      "model_module_version": "1.2.0",
      "model_name": "LayoutModel",
      "state": {
       "width": "5%"
      }
     },
     "25894d58c87843b5bda9ae0502df4645": {
      "model_module": "@jupyter-widgets/base",
      "model_module_version": "1.2.0",
      "model_name": "LayoutModel",
      "state": {
       "width": "5%"
      }
     },
     "25ac320508374067b65d723c9fd9b310": {
      "model_module": "@jupyter-widgets/controls",
      "model_module_version": "1.5.0",
      "model_name": "ButtonModel",
      "state": {
       "button_style": "success",
       "description": "run batch",
       "layout": "IPY_MODEL_47ba540d1d6c4c5095116b68b9fcb93f",
       "style": "IPY_MODEL_bd465beee28046ff8519f8cafab13446",
       "tooltip": "execute checked processes below"
      }
     },
     "25ce555305304013ab1b10021f4d0581": {
      "model_module": "@jupyter-widgets/controls",
      "model_module_version": "1.5.0",
      "model_name": "DescriptionStyleModel",
      "state": {
       "description_width": ""
      }
     },
     "25f660a12ca5428ead2f84737440182f": {
      "model_module": "@jupyter-widgets/controls",
      "model_module_version": "1.5.0",
      "model_name": "VBoxModel",
      "state": {
       "children": [
        "IPY_MODEL_f70a02ff4b3746a189af61a96926ad1c",
        "IPY_MODEL_0d3051355a2f4e609cb40ee81f949151"
       ],
       "layout": "IPY_MODEL_c0b0b70da917493f800ce96293712860"
      }
     },
     "261efc16e1204d3fa74bd048cb867996": {
      "model_module": "@jupyter-widgets/base",
      "model_module_version": "1.2.0",
      "model_name": "LayoutModel",
      "state": {
       "width": "5%"
      }
     },
     "262c1033c0924c9d85c5bea6251efe2b": {
      "model_module": "@jupyter-widgets/controls",
      "model_module_version": "1.5.0",
      "model_name": "ButtonModel",
      "state": {
       "button_style": "info",
       "description": "show source code",
       "layout": "IPY_MODEL_a832aa54a7034afcaa616d59cc29489e",
       "style": "IPY_MODEL_2c325be9d1694daa96cd021dc82e3c54",
       "tooltip": "shows the raw python code in the preview window below"
      }
     },
     "26304523a582457a99ae86cacc7ae60e": {
      "model_module": "@jupyter-widgets/base",
      "model_module_version": "1.2.0",
      "model_name": "LayoutModel",
      "state": {
       "border": "0px",
       "margin": "0px",
       "padding": "0px"
      }
     },
     "2646147efe7e45ce8b6984f65cd65519": {
      "model_module": "@jupyter-widgets/controls",
      "model_module_version": "1.5.0",
      "model_name": "TextModel",
      "state": {
       "description": "script",
       "disabled": true,
       "layout": "IPY_MODEL_b506458a3c4644b1a4269f927c17c862",
       "style": "IPY_MODEL_04111d2e59dc4dbeabab63202f58fbc0",
       "value": "C:\\engDev\\git_mf\\MF_Toolbox\\dev\\mf_scripts\\eplus_pipework_params.py"
      }
     },
     "264aa13939c9461799c81c843d6b7473": {
      "model_module": "@jupyter-widgets/controls",
      "model_module_version": "1.5.0",
      "model_name": "BoxModel",
      "state": {
       "children": [
        "IPY_MODEL_de5196eb50d64c63b6f2c8267da6344f"
       ],
       "layout": "IPY_MODEL_895f125e830642049c1185ee15fc3022"
      }
     },
     "2658e5371afa44e6982c0e6991ac5f02": {
      "model_module": "@jupyter-widgets/base",
      "model_module_version": "1.2.0",
      "model_name": "LayoutModel",
      "state": {}
     },
     "267ac06a4d5e416eb0018ed261c4924a": {
      "model_module": "@jupyter-widgets/controls",
      "model_module_version": "1.5.0",
      "model_name": "ButtonModel",
      "state": {
       "button_style": "info",
       "description": "preview outputs",
       "layout": "IPY_MODEL_810c58de0c3043209a4e889f10129f20",
       "style": "IPY_MODEL_4d2682abc0654822a7c7c9eee18e17a5",
       "tooltip": "show a preview of the output files generated when the script runs"
      }
     },
     "26b3b0a360304ff59bfd23ab449f536b": {
      "model_module": "@jupyter-widgets/base",
      "model_module_version": "1.2.0",
      "model_name": "LayoutModel",
      "state": {
       "border": "0px",
       "margin": "0px",
       "padding": "0px"
      }
     },
     "26c222cd7ab743478f49ae2e96e1979b": {
      "model_module": "@jupyter-widgets/controls",
      "model_module_version": "1.5.0",
      "model_name": "ButtonStyleModel",
      "state": {
       "font_weight": "bold"
      }
     },
     "26c8e21ae505436fab304efb33349a91": {
      "model_module": "@jupyter-widgets/controls",
      "model_module_version": "1.5.0",
      "model_name": "ButtonModel",
      "state": {
       "icon": "question-circle",
       "layout": "IPY_MODEL_06d7e9f05d3e42bd8496162bd5598c28",
       "style": "IPY_MODEL_550a1a657b1d47e7b52bb98db05dde67",
       "tooltip": "describes the functionality of elements in the RunApp interface"
      }
     },
     "26d6f0edcb194b81b2a04bca2c544664": {
      "model_module": "@jupyter-widgets/base",
      "model_module_version": "1.2.0",
      "model_name": "LayoutModel",
      "state": {}
     },
     "26da621b91d949da801563275c0338ab": {
      "model_module": "@jupyter-widgets/controls",
      "model_module_version": "1.5.0",
      "model_name": "SelectMultipleModel",
      "state": {
       "_options_labels": [
        "C:\\engDev\\git_mf\\ipyrun\\data\\external\\eplus_pipework_params.csv"
       ],
       "description": "outputs",
       "index": [],
       "layout": "IPY_MODEL_983552d15aa54445844522bcdf7a96fa",
       "rows": 4,
       "style": "IPY_MODEL_273ca10262d241c7a273953a16bd4cd9"
      }
     },
     "26f341a415d24540ab5dd5de7befc3ea": {
      "model_module": "@jupyter-widgets/controls",
      "model_module_version": "1.5.0",
      "model_name": "ButtonStyleModel",
      "state": {
       "font_weight": "bold"
      }
     },
     "26f4952cc86040069d591b8e346cbe75": {
      "model_module": "@jupyter-widgets/base",
      "model_module_version": "1.2.0",
      "model_name": "LayoutModel",
      "state": {}
     },
     "27150e0063704ff1814366980c1787ca": {
      "model_module": "@jupyter-widgets/base",
      "model_module_version": "1.2.0",
      "model_name": "LayoutModel",
      "state": {
       "height": "30px",
       "max_width": "30px",
       "padding": "3px"
      }
     },
     "273728f3ef0948e183fc66c3ec0f4a0d": {
      "model_module": "@jupyter-widgets/base",
      "model_module_version": "1.2.0",
      "model_name": "LayoutModel",
      "state": {}
     },
     "273ca10262d241c7a273953a16bd4cd9": {
      "model_module": "@jupyter-widgets/controls",
      "model_module_version": "1.5.0",
      "model_name": "DescriptionStyleModel",
      "state": {
       "description_width": ""
      }
     },
     "273d45b371b444af8412fb4c52f17b91": {
      "model_module": "@jupyter-widgets/base",
      "model_module_version": "1.2.0",
      "model_name": "LayoutModel",
      "state": {}
     },
     "27458cfbe2b64b3196a8f7f26552aaf5": {
      "model_module": "@jupyter-widgets/controls",
      "model_module_version": "1.5.0",
      "model_name": "ButtonModel",
      "state": {
       "button_style": "warning",
       "description": "edit inputs",
       "layout": "IPY_MODEL_49d60b78234b4c4a98aed55df4eadaa9",
       "style": "IPY_MODEL_b53f01f732194364a657e4de953358e5",
       "tooltip": "edit the user input information that is used when the script is executed"
      }
     },
     "274ec5633d2d40c085341433b2d63068": {
      "model_module": "@jupyter-widgets/controls",
      "model_module_version": "1.5.0",
      "model_name": "ButtonModel",
      "state": {
       "icon": "eye-slash",
       "layout": "IPY_MODEL_a3e8732cb6074208aa470549e90bfe87",
       "style": "IPY_MODEL_de8e8ec6cc90435a97202debe85de75f",
       "tooltip": "removes temporary output view"
      }
     },
     "27796ea511944ade9774a81652a1ce5f": {
      "model_module": "@jupyter-widgets/output",
      "model_module_version": "1.0.0",
      "model_name": "OutputModel",
      "state": {
       "layout": "IPY_MODEL_dc3a46aa5ef64ff28583fe06e2d460da"
      }
     },
     "277c8def0e6a4681bf9e86d1be162d16": {
      "model_module": "@jupyter-widgets/controls",
      "model_module_version": "1.5.0",
      "model_name": "ButtonStyleModel",
      "state": {}
     },
     "27ced6d1a09e49e19e9dec8135313b90": {
      "model_module": "@jupyter-widgets/base",
      "model_module_version": "1.2.0",
      "model_name": "LayoutModel",
      "state": {
       "width": "5%"
      }
     },
     "27d4f8f7402b4c4f91c87a47d141ff7f": {
      "model_module": "@jupyter-widgets/controls",
      "model_module_version": "1.5.0",
      "model_name": "DescriptionStyleModel",
      "state": {
       "description_width": ""
      }
     },
     "27eeb70e14264faba85cb411bada9c1b": {
      "model_module": "@jupyter-widgets/controls",
      "model_module_version": "1.5.0",
      "model_name": "HBoxModel",
      "state": {
       "children": [
        "IPY_MODEL_9b5e2dc0f9d4457997cee6ca724ed2bb",
        "IPY_MODEL_f600063be4d54ca6b7933c896a71f921",
        "IPY_MODEL_20fba361266f48e2ae6287117c0884a2",
        "IPY_MODEL_8182492cecfa4458ae11ec4c7ac58905",
        "IPY_MODEL_fa9e63d57dba4cd083a489190ad44c16",
        "IPY_MODEL_267ac06a4d5e416eb0018ed261c4924a",
        "IPY_MODEL_f241997d45bd4ada9ecfc1da956c0e26"
       ],
       "layout": "IPY_MODEL_5862bcf753124874b58bcc49dc6a8039"
      }
     },
     "27f55d94ffac4f28b4dbb1c226ed4a84": {
      "model_module": "@jupyter-widgets/base",
      "model_module_version": "1.2.0",
      "model_name": "LayoutModel",
      "state": {
       "height": "30px",
       "width": "auto"
      }
     },
     "2805e68334454e03b1ab69bd8eb304f2": {
      "model_module": "@jupyter-widgets/output",
      "model_module_version": "1.0.0",
      "model_name": "OutputModel",
      "state": {
       "layout": "IPY_MODEL_0b91c945c8a143a4b1f0ee80017c7427"
      }
     },
     "282337e439ec4bf6940737c40ff14263": {
      "model_module": "@jupyter-widgets/controls",
      "model_module_version": "1.5.0",
      "model_name": "TextModel",
      "state": {
       "description": "script",
       "disabled": true,
       "layout": "IPY_MODEL_02ff593b108c4f248f3ac013a83a5991",
       "style": "IPY_MODEL_1f4a9d172db54879bc0f7689cee170ac",
       "value": "C:\\engDev\\git_mf\\MF_Toolbox\\dev\\mf_scripts\\gbxml.py"
      }
     },
     "2833cb518f9046ebb370f5e6d7e800aa": {
      "model_module": "@jupyter-widgets/controls",
      "model_module_version": "1.5.0",
      "model_name": "ButtonModel",
      "state": {
       "button_style": "info",
       "description": "preview outputs",
       "layout": "IPY_MODEL_7ff2595b7b67418a9fe9fe305aaaab17",
       "style": "IPY_MODEL_91190ec188e14892908b8184af0ea9ce",
       "tooltip": "show a preview of the output files generated when the script runs"
      }
     },
     "2845939c7a7a4a419d08fbb33a674440": {
      "model_module": "@jupyter-widgets/controls",
      "model_module_version": "1.5.0",
      "model_name": "DescriptionStyleModel",
      "state": {
       "description_width": ""
      }
     },
     "284a4aab554842c5b1c5e4a17ba39066": {
      "model_module": "@jupyter-widgets/controls",
      "model_module_version": "1.5.0",
      "model_name": "ButtonModel",
      "state": {
       "icon": "eye-slash",
       "layout": "IPY_MODEL_2a2148d38558472abe32b2b041cb4cc5",
       "style": "IPY_MODEL_f93cc60574dc43bba88d4e9c82f9beb7",
       "tooltip": "removes temporary output view"
      }
     },
     "2883522d60d448f89ca13b2222bd5359": {
      "model_module": "@jupyter-widgets/controls",
      "model_module_version": "1.5.0",
      "model_name": "AccordionModel",
      "state": {
       "_titles": {
        "0": "eplus_pipework_params"
       },
       "children": [
        "IPY_MODEL_6162ea9bc35a4a26b473c684de55d3df"
       ],
       "layout": "IPY_MODEL_376e4ddc7d344633a18271b8fd71c290",
       "selected_index": null
      }
     },
     "28aa65d8e354434b9ec87e886debbe0e": {
      "model_module": "@jupyter-widgets/base",
      "model_module_version": "1.2.0",
      "model_name": "LayoutModel",
      "state": {
       "height": "30px",
       "width": "auto"
      }
     },
     "28c8d4183d9c457887661890f847fc27": {
      "model_module": "@jupyter-widgets/controls",
      "model_module_version": "1.5.0",
      "model_name": "ButtonModel",
      "state": {
       "icon": "question-circle",
       "layout": "IPY_MODEL_6a364fe3a2f74229b6dd87b2eb8fa461",
       "style": "IPY_MODEL_fad91923489b4827bc267750b98a059b",
       "tooltip": "describes the functionality of elements in the RunApp interface"
      }
     },
     "28cbe0db6a1f4be9b30ccc5e7a56a057": {
      "model_module": "@jupyter-widgets/controls",
      "model_module_version": "1.5.0",
      "model_name": "ButtonStyleModel",
      "state": {
       "font_weight": "bold"
      }
     },
     "28d1acf2b62442b8a7632e83b52dc941": {
      "model_module": "@jupyter-widgets/controls",
      "model_module_version": "1.5.0",
      "model_name": "AccordionModel",
      "state": {
       "_titles": {
        "0": "gbxml"
       },
       "children": [
        "IPY_MODEL_37d9a75268be443786d7705646f7ed62"
       ],
       "layout": "IPY_MODEL_618e651a21b34c6f853237ec55cfbc8a",
       "selected_index": null
      }
     },
     "28e352e1474b495195fc248100275863": {
      "model_module": "@jupyter-widgets/controls",
      "model_module_version": "1.5.0",
      "model_name": "ButtonModel",
      "state": {
       "button_style": "warning",
       "description": "edit inputs",
       "layout": "IPY_MODEL_4d171dcdde944038b9f31531192763e7",
       "style": "IPY_MODEL_f61ea9227ded4d8cbfeee2ddef70e6c5",
       "tooltip": "edit the user input information that is used when the script is executed"
      }
     },
     "28f21307ce114ff9a66ab1546e4a98a8": {
      "model_module": "@jupyter-widgets/base",
      "model_module_version": "1.2.0",
      "model_name": "LayoutModel",
      "state": {
       "height": "30px",
       "width": "auto"
      }
     },
     "28f7451ad9324b6ca5709d0ef9b40957": {
      "model_module": "@jupyter-widgets/controls",
      "model_module_version": "1.5.0",
      "model_name": "ButtonModel",
      "state": {
       "button_style": "success",
       "description": "run batch",
       "layout": "IPY_MODEL_cd8bd25229f6446dba4918083842bc71",
       "style": "IPY_MODEL_570c27819f22421eaf7926e62117066d",
       "tooltip": "execute checked processes below"
      }
     },
     "28f957d2829d4c739da6089ba1b31cd4": {
      "model_module": "@jupyter-widgets/base",
      "model_module_version": "1.2.0",
      "model_name": "LayoutModel",
      "state": {}
     },
     "28fdc98615d94d1a8253cb25d0cd41ba": {
      "model_module": "@jupyter-widgets/controls",
      "model_module_version": "1.5.0",
      "model_name": "ButtonModel",
      "state": {
       "icon": "eye-slash",
       "layout": "IPY_MODEL_08fff3d63d2b45a582cb0b8429412143",
       "style": "IPY_MODEL_a9ef1db473fc49a295a30e8417868811",
       "tooltip": "removes temporary output view"
      }
     },
     "291212d912a644b0b0443bcbd3b31889": {
      "model_module": "@jupyter-widgets/controls",
      "model_module_version": "1.5.0",
      "model_name": "ButtonStyleModel",
      "state": {
       "font_weight": "bold"
      }
     },
     "2964dbc5d3094f119f8acea418aa6848": {
      "model_module": "@jupyter-widgets/controls",
      "model_module_version": "1.5.0",
      "model_name": "ButtonStyleModel",
      "state": {
       "font_weight": "bold"
      }
     },
     "2988a0747b6d4b08869895329550016c": {
      "model_module": "@jupyter-widgets/base",
      "model_module_version": "1.2.0",
      "model_name": "LayoutModel",
      "state": {}
     },
     "299529a3084541a8afbe86e5138ca430": {
      "model_module": "@jupyter-widgets/base",
      "model_module_version": "1.2.0",
      "model_name": "LayoutModel",
      "state": {}
     },
     "299e824a684e4426a04e4ee28776602e": {
      "model_module": "@jupyter-widgets/output",
      "model_module_version": "1.0.0",
      "model_name": "OutputModel",
      "state": {
       "layout": "IPY_MODEL_a898c9b17c89427488b44e3204c92897"
      }
     },
     "29a14a01b1a44098a92d67cf6aee9cf7": {
      "model_module": "@jupyter-widgets/controls",
      "model_module_version": "1.5.0",
      "model_name": "ButtonStyleModel",
      "state": {
       "font_weight": "bold"
      }
     },
     "29a7d7286c464be4864c3fe8e14da42e": {
      "model_module": "@jupyter-widgets/controls",
      "model_module_version": "1.5.0",
      "model_name": "SelectMultipleModel",
      "state": {
       "_options_labels": [
        "C:\\engDev\\git_mf\\ipyrun\\data\\raw\\gbxml.xml",
        "C:\\engDev\\git_mf\\ipyrun\\data\\interim\\gbjson.json",
        "C:\\engDev\\git_mf\\ipyrun\\data\\processed\\gbxml_datagrab.xlsx",
        "C:\\engDev\\git_mf\\ipyrun\\data\\processed\\gbxml_spcs-treemap.png"
       ],
       "description": "outputs",
       "index": [],
       "layout": "IPY_MODEL_71b8c8decd554031925279b55419b9e5",
       "rows": 4,
       "style": "IPY_MODEL_48787c4cfd114836b3258e990fb07978"
      }
     },
     "29ada813ab64491b91385f93cd33ba00": {
      "model_module": "@jupyter-widgets/base",
      "model_module_version": "1.2.0",
      "model_name": "LayoutModel",
      "state": {}
     },
     "29b96b2067a44b25b74ae8eeeaa678e1": {
      "model_module": "@jupyter-widgets/base",
      "model_module_version": "1.2.0",
      "model_name": "LayoutModel",
      "state": {}
     },
     "29bf6e2315c043f2a9f3a5bdba25cfc0": {
      "model_module": "@jupyter-widgets/controls",
      "model_module_version": "1.5.0",
      "model_name": "ButtonStyleModel",
      "state": {
       "font_weight": "bold"
      }
     },
     "29c099fc07c84d428ae2babffb5195a3": {
      "model_module": "@jupyter-widgets/controls",
      "model_module_version": "1.5.0",
      "model_name": "ButtonStyleModel",
      "state": {
       "font_weight": "bold"
      }
     },
     "29d0a7ffda3a4a519637341db3ec009a": {
      "model_module": "@jupyter-widgets/base",
      "model_module_version": "1.2.0",
      "model_name": "LayoutModel",
      "state": {
       "height": "30px",
       "max_width": "30px",
       "padding": "3px"
      }
     },
     "29d8c14626e74fc8b9aecfd3b7c6c304": {
      "model_module": "@jupyter-widgets/controls",
      "model_module_version": "1.5.0",
      "model_name": "VBoxModel",
      "state": {
       "children": [
        "IPY_MODEL_44c91809a4274d99b0f5471debfbfdac",
        "IPY_MODEL_ad6e67137a6249669245db1325affb10",
        "IPY_MODEL_0dbe7487d566413e8aee66557dade99d"
       ],
       "layout": "IPY_MODEL_3fe6b7bc78ff4c8eb894100bf359915c"
      }
     },
     "29e4f8770874423ebede5380979eed9f": {
      "model_module": "@jupyter-widgets/controls",
      "model_module_version": "1.5.0",
      "model_name": "ButtonModel",
      "state": {
       "button_style": "success",
       "description": "run",
       "layout": "IPY_MODEL_77b79e19ecb64ae2bca9683de00fb7f7",
       "style": "IPY_MODEL_29f5bfc9e5264aa8858c8e396349c8ba",
       "tooltip": "execute the script based on the user inputs"
      }
     },
     "29f5bfc9e5264aa8858c8e396349c8ba": {
      "model_module": "@jupyter-widgets/controls",
      "model_module_version": "1.5.0",
      "model_name": "ButtonStyleModel",
      "state": {
       "font_weight": "bold"
      }
     },
     "29fabd07aa0f478cb4894cba91be2038": {
      "model_module": "@jupyter-widgets/base",
      "model_module_version": "1.2.0",
      "model_name": "LayoutModel",
      "state": {
       "height": "30px",
       "max_width": "30px",
       "padding": "3px"
      }
     },
     "2a081a315ab64800be119e43a0d5f877": {
      "model_module": "@jupyter-widgets/controls",
      "model_module_version": "1.5.0",
      "model_name": "TextModel",
      "state": {
       "description": "inputs",
       "disabled": true,
       "layout": "IPY_MODEL_e7d0f58767a3430e9c90c773878f802d",
       "style": "IPY_MODEL_4e600636d7714c009701dd02cdf8ed1b",
       "value": "C:\\engDev\\git_mf\\ipyrun\\ipyrun\\notebooks\\appdata\\inputs\\inputs-eplus_pipework_params.csv"
      }
     },
     "2a09d41a5bbd4801a3de46c153eff8e7": {
      "model_module": "@jupyter-widgets/base",
      "model_module_version": "1.2.0",
      "model_name": "LayoutModel",
      "state": {
       "height": "30px",
       "width": "auto"
      }
     },
     "2a15d57a17094a3bb12fbad0d3a51f7e": {
      "model_module": "@jupyter-widgets/base",
      "model_module_version": "1.2.0",
      "model_name": "LayoutModel",
      "state": {
       "height": "30px",
       "width": "auto"
      }
     },
     "2a2148d38558472abe32b2b041cb4cc5": {
      "model_module": "@jupyter-widgets/base",
      "model_module_version": "1.2.0",
      "model_name": "LayoutModel",
      "state": {
       "width": "5%"
      }
     },
     "2a4980180bb643119d24c73865998b06": {
      "model_module": "@jupyter-widgets/controls",
      "model_module_version": "1.5.0",
      "model_name": "ButtonStyleModel",
      "state": {
       "font_weight": "bold"
      }
     },
     "2a4f1ef454d243bcb9ec368a9befffaa": {
      "model_module": "@jupyter-widgets/base",
      "model_module_version": "1.2.0",
      "model_name": "LayoutModel",
      "state": {
       "width": "5%"
      }
     },
     "2a6ab91f993145e7be94bebec23fc7bc": {
      "model_module": "@jupyter-widgets/base",
      "model_module_version": "1.2.0",
      "model_name": "LayoutModel",
      "state": {
       "width": "5%"
      }
     },
     "2a6cebb217e44b8d85320ddf99162497": {
      "model_module": "@jupyter-widgets/base",
      "model_module_version": "1.2.0",
      "model_name": "LayoutModel",
      "state": {
       "width": "100%"
      }
     },
     "2a95bbac9adc4967b47e8b2fc2ff156a": {
      "model_module": "@jupyter-widgets/controls",
      "model_module_version": "1.5.0",
      "model_name": "CheckboxModel",
      "state": {
       "disabled": false,
       "indent": false,
       "layout": "IPY_MODEL_3e53066c52ca4d29abdbe6923fa876e2",
       "style": "IPY_MODEL_5c00b779592d4c518ba6cbec8f14cc80",
       "value": false
      }
     },
     "2abd6c8bda7d4c3782d931a9d18ae827": {
      "model_module": "@jupyter-widgets/base",
      "model_module_version": "1.2.0",
      "model_name": "LayoutModel",
      "state": {
       "height": "30px",
       "width": "auto"
      }
     },
     "2ad8e86ffe414ac685d6666ba182cacb": {
      "model_module": "@jupyter-widgets/controls",
      "model_module_version": "1.5.0",
      "model_name": "ButtonStyleModel",
      "state": {
       "font_weight": "bold"
      }
     },
     "2ada040209a7464ea8121168f5ef4da9": {
      "model_module": "@jupyter-widgets/controls",
      "model_module_version": "1.5.0",
      "model_name": "DescriptionStyleModel",
      "state": {
       "description_width": ""
      }
     },
     "2af128b245284c118a215e592a9d80d5": {
      "model_module": "@jupyter-widgets/controls",
      "model_module_version": "1.5.0",
      "model_name": "ButtonStyleModel",
      "state": {
       "font_weight": "bold"
      }
     },
     "2afcd0eca0c8433f90bfdd9db2f7e56b": {
      "model_module": "@jupyter-widgets/base",
      "model_module_version": "1.2.0",
      "model_name": "LayoutModel",
      "state": {
       "width": "100%"
      }
     },
     "2b077383a7874d35ad2119ee89f0c4ae": {
      "model_module": "@jupyter-widgets/base",
      "model_module_version": "1.2.0",
      "model_name": "LayoutModel",
      "state": {}
     },
     "2b2e217877224e08aaa82d5176cefe99": {
      "model_module": "@jupyter-widgets/controls",
      "model_module_version": "1.5.0",
      "model_name": "ButtonStyleModel",
      "state": {
       "font_weight": "bold"
      }
     },
     "2b33cca5c3ec4e8abcd129e7522275dc": {
      "model_module": "@jupyter-widgets/base",
      "model_module_version": "1.2.0",
      "model_name": "LayoutModel",
      "state": {
       "height": "30px",
       "width": "auto"
      }
     },
     "2b4299b90ad64831b59ea4a2e14ae0d5": {
      "model_module": "@jupyter-widgets/controls",
      "model_module_version": "1.5.0",
      "model_name": "DescriptionStyleModel",
      "state": {
       "description_width": ""
      }
     },
     "2b937bf58935403a82059b53953335b3": {
      "model_module": "@jupyter-widgets/output",
      "model_module_version": "1.0.0",
      "model_name": "OutputModel",
      "state": {
       "layout": "IPY_MODEL_85b7fc1e55e7460c9c4833c44d4021e8"
      }
     },
     "2b9fa0db97424f6c9e9f9d9df9300575": {
      "model_module": "@jupyter-widgets/base",
      "model_module_version": "1.2.0",
      "model_name": "LayoutModel",
      "state": {
       "width": "5%"
      }
     },
     "2bb92a14925f42928174e7867b6badfe": {
      "model_module": "@jupyter-widgets/base",
      "model_module_version": "1.2.0",
      "model_name": "LayoutModel",
      "state": {
       "height": "30px",
       "width": "auto"
      }
     },
     "2bc14936d4e843fc894fc6c90b627935": {
      "model_module": "@jupyter-widgets/base",
      "model_module_version": "1.2.0",
      "model_name": "LayoutModel",
      "state": {
       "width": "5%"
      }
     },
     "2bf4ec6120f849088ab022dff2822804": {
      "model_module": "@jupyter-widgets/controls",
      "model_module_version": "1.5.0",
      "model_name": "HBoxModel",
      "state": {
       "children": [
        "IPY_MODEL_bc0e87762fea4dc7946f9c917acac7d7",
        "IPY_MODEL_7f02953b2f8f489483aa6d92aa4abfe8",
        "IPY_MODEL_e0d0723861e74bd98b84f35f324f7587",
        "IPY_MODEL_954225fa5cdd4c208eed48f0d041ceb1",
        "IPY_MODEL_c867c8ae0fab42a8a500912eee62bc30",
        "IPY_MODEL_2833cb518f9046ebb370f5e6d7e800aa",
        "IPY_MODEL_7bbcf973d7e243a98f10a18e178a0de6"
       ],
       "layout": "IPY_MODEL_404991eda5944d8b811960c0162301fb"
      }
     },
     "2c1ef20396694fabb247c519f90b263c": {
      "model_module": "@jupyter-widgets/controls",
      "model_module_version": "1.5.0",
      "model_name": "ButtonModel",
      "state": {
       "button_style": "info",
       "description": "show guide",
       "layout": "IPY_MODEL_e65044de1237437b86871a8cca6a519b",
       "style": "IPY_MODEL_d11325d5aec346cdad4edf41bef5a8d3",
       "tooltip": "read the \"docstring\", ie. the documentation that was written to accompany the script"
      }
     },
     "2c325be9d1694daa96cd021dc82e3c54": {
      "model_module": "@jupyter-widgets/controls",
      "model_module_version": "1.5.0",
      "model_name": "ButtonStyleModel",
      "state": {}
     },
     "2c58e98d4ec5487f9159341d80576c03": {
      "model_module": "@jupyter-widgets/controls",
      "model_module_version": "1.5.0",
      "model_name": "ButtonModel",
      "state": {
       "button_style": "success",
       "description": "run batch",
       "layout": "IPY_MODEL_36a73db401db44978a7f61c32d1d4956",
       "style": "IPY_MODEL_b1efd0289a2c4d27964653c13a15bf1c",
       "tooltip": "execute checked processes below"
      }
     },
     "2c7b60991c3342a28abcf281785f7a01": {
      "model_module": "@jupyter-widgets/base",
      "model_module_version": "1.2.0",
      "model_name": "LayoutModel",
      "state": {}
     },
     "2cb07be0d73f404c9ccbefb918919afb": {
      "model_module": "@jupyter-widgets/base",
      "model_module_version": "1.2.0",
      "model_name": "LayoutModel",
      "state": {
       "height": "30px",
       "width": "auto"
      }
     },
     "2cc0696fa0ee43ada1a7c5b8729d3612": {
      "model_module": "@jupyter-widgets/controls",
      "model_module_version": "1.5.0",
      "model_name": "BoxModel",
      "state": {
       "children": [
        "IPY_MODEL_93631e57bfab4b26a4d65bd3cb24555d"
       ],
       "layout": "IPY_MODEL_16b22b4c254540878d0f8ba30add37f1"
      }
     },
     "2cd5f798d6b94aefbfb7726c57cad617": {
      "model_module": "@jupyter-widgets/base",
      "model_module_version": "1.2.0",
      "model_name": "LayoutModel",
      "state": {
       "height": "30px",
       "width": "auto"
      }
     },
     "2d2e1fa75a714fbaaaca9cc894aa0904": {
      "model_module": "@jupyter-widgets/controls",
      "model_module_version": "1.5.0",
      "model_name": "ButtonStyleModel",
      "state": {}
     },
     "2d3fab9cb3a34d948b98d55819a4d47f": {
      "model_module": "@jupyter-widgets/base",
      "model_module_version": "1.2.0",
      "model_name": "LayoutModel",
      "state": {
       "height": "30px",
       "width": "auto"
      }
     },
     "2d713356453841e792a45a94f60a4fb1": {
      "model_module": "@jupyter-widgets/controls",
      "model_module_version": "1.5.0",
      "model_name": "TextModel",
      "state": {
       "description": "inputs",
       "disabled": true,
       "layout": "IPY_MODEL_9825835bf8f7483599f6b543eb8975c4",
       "style": "IPY_MODEL_789ede39833246a69c830e7c128fccb9",
       "value": "C:\\engDev\\git_mf\\ipyrun\\ipyrun\\appdata\\inputs\\inputs-docx_to_pdf.json"
      }
     },
     "2da240a9b5384055bed6f3921e2a1b9e": {
      "model_module": "@jupyter-widgets/controls",
      "model_module_version": "1.5.0",
      "model_name": "DescriptionStyleModel",
      "state": {
       "description_width": ""
      }
     },
     "2dae878379964c9eb34dac8d76b256c1": {
      "model_module": "@jupyter-widgets/base",
      "model_module_version": "1.2.0",
      "model_name": "LayoutModel",
      "state": {}
     },
     "2dda6d5c97034b0a9f5529abb2e8ccdb": {
      "model_module": "@jupyter-widgets/controls",
      "model_module_version": "1.5.0",
      "model_name": "ButtonStyleModel",
      "state": {
       "font_weight": "bold"
      }
     },
     "2de082e6b5ff4941aaa0377b16b99b24": {
      "model_module": "@jupyter-widgets/controls",
      "model_module_version": "1.5.0",
      "model_name": "DescriptionStyleModel",
      "state": {
       "description_width": ""
      }
     },
     "2de47095359d42fa8924209e590fdaab": {
      "model_module": "@jupyter-widgets/controls",
      "model_module_version": "1.5.0",
      "model_name": "ButtonModel",
      "state": {
       "icon": "eye-slash",
       "layout": "IPY_MODEL_99faee01b29d4e73a9551f8500083ac9",
       "style": "IPY_MODEL_c3b6d989d6ce45b6b5dd7a6d50a091b9",
       "tooltip": "removes temporary output view"
      }
     },
     "2dfbeef0a3e44c72a85d7d8c5bfb2889": {
      "model_module": "@jupyter-widgets/controls",
      "model_module_version": "1.5.0",
      "model_name": "ButtonStyleModel",
      "state": {
       "font_weight": "bold"
      }
     },
     "2dfd2d2f63824ad0af707afeab829e07": {
      "model_module": "@jupyter-widgets/controls",
      "model_module_version": "1.5.0",
      "model_name": "DescriptionStyleModel",
      "state": {
       "description_width": ""
      }
     },
     "2e0a9da053544ccaaf129dba5cf34961": {
      "model_module": "@jupyter-widgets/base",
      "model_module_version": "1.2.0",
      "model_name": "LayoutModel",
      "state": {}
     },
     "2e2e6773bdb2425e87553b3c3bb50cdd": {
      "model_module": "@jupyter-widgets/base",
      "model_module_version": "1.2.0",
      "model_name": "LayoutModel",
      "state": {
       "border": "0px",
       "margin": "0px",
       "padding": "0px"
      }
     },
     "2e44547b021540799b5ab46de37c22f9": {
      "model_module": "@jupyter-widgets/base",
      "model_module_version": "1.2.0",
      "model_name": "LayoutModel",
      "state": {
       "height": "30px",
       "width": "auto"
      }
     },
     "2e4f73430f3f40fc9796acb8f6406e07": {
      "model_module": "@jupyter-widgets/controls",
      "model_module_version": "1.5.0",
      "model_name": "VBoxModel",
      "state": {
       "children": [
        "IPY_MODEL_b16f0446c2e642dc8c4658d6c6e4990f",
        "IPY_MODEL_0a763ac2f8db4b009086ab3754e9843f",
        "IPY_MODEL_3dbba3e0357246eea021be9fab829020"
       ],
       "layout": "IPY_MODEL_a3d70868a2b64fd3a08b870ed5905d4e"
      }
     },
     "2e4fad9e093a444f8c206b6bf3453f81": {
      "model_module": "@jupyter-widgets/controls",
      "model_module_version": "1.5.0",
      "model_name": "ButtonStyleModel",
      "state": {
       "font_weight": "bold"
      }
     },
     "2e5524092a0443ff8e2bbc6951a58a95": {
      "model_module": "@jupyter-widgets/base",
      "model_module_version": "1.2.0",
      "model_name": "LayoutModel",
      "state": {
       "height": "30px",
       "width": "auto"
      }
     },
     "2e687c8c77f34e6fb329d27febe225ab": {
      "model_module": "@jupyter-widgets/base",
      "model_module_version": "1.2.0",
      "model_name": "LayoutModel",
      "state": {
       "align_items": "stretch",
       "width": "100%"
      }
     },
     "2ebc523999ab4ed6a80290e80466b021": {
      "model_module": "@jupyter-widgets/controls",
      "model_module_version": "1.5.0",
      "model_name": "TextModel",
      "state": {
       "description": "script",
       "disabled": true,
       "layout": "IPY_MODEL_2cd5f798d6b94aefbfb7726c57cad617",
       "style": "IPY_MODEL_3726c7060fe54b00ac0cf19cf5a8d198",
       "value": "C:\\engDev\\git_mf\\MF_Toolbox\\dev\\mf_scripts\\eplus_pipework_params.py"
      }
     },
     "2ee1704405994616921c38ef9ea1159f": {
      "model_module": "@jupyter-widgets/controls",
      "model_module_version": "1.5.0",
      "model_name": "ButtonModel",
      "state": {
       "icon": "question-circle",
       "layout": "IPY_MODEL_1224a9ec6e7b4849b038471de0712ba2",
       "style": "IPY_MODEL_f646d721ebc64e06b23560847c961791",
       "tooltip": "describes the functionality of elements in the RunApp interface"
      }
     },
     "2ee24a33122b442d933bf8892eacb835": {
      "model_module": "@jupyter-widgets/base",
      "model_module_version": "1.2.0",
      "model_name": "LayoutModel",
      "state": {
       "width": "5%"
      }
     },
     "2f4708fb7df44bfcb2414160a68bbf21": {
      "model_module": "@jupyter-widgets/controls",
      "model_module_version": "1.5.0",
      "model_name": "ButtonStyleModel",
      "state": {
       "font_weight": "bold"
      }
     },
     "2f4b6e6f63ed42b48d825203934eeb81": {
      "model_module": "@jupyter-widgets/controls",
      "model_module_version": "1.5.0",
      "model_name": "ButtonModel",
      "state": {
       "button_style": "info",
       "description": "show guide",
       "layout": "IPY_MODEL_6e716db7d67d430c9cfe13dc62499060",
       "style": "IPY_MODEL_1c85f4be92524f32b7d5133d5f166d37",
       "tooltip": "read the \"docstring\", ie. the documentation that was written to accompany the script"
      }
     },
     "2f8d49752ac6447691458931677d8e6f": {
      "model_module": "@jupyter-widgets/controls",
      "model_module_version": "1.5.0",
      "model_name": "ButtonStyleModel",
      "state": {
       "font_weight": "bold"
      }
     },
     "2fa445aa7c0e4aeeb56d0e9e63beb5af": {
      "model_module": "@jupyter-widgets/base",
      "model_module_version": "1.2.0",
      "model_name": "LayoutModel",
      "state": {
       "border": "0px",
       "margin": "0px",
       "padding": "0px"
      }
     },
     "2fbba48d33fa40c282016f7098b5a7f1": {
      "model_module": "@jupyter-widgets/controls",
      "model_module_version": "1.5.0",
      "model_name": "TextModel",
      "state": {
       "description": "script",
       "disabled": true,
       "layout": "IPY_MODEL_e8fa6288fd9941028d0a95b0a42dcef7",
       "style": "IPY_MODEL_46e1d003246c4862997025ad34ff4022",
       "value": "C:\\engDev\\git_mf\\MF_Toolbox\\dev\\mf_scripts\\eplus_pipework_params.py"
      }
     },
     "2fcd5fc8768c45e4a408ca9884e0431e": {
      "model_module": "@jupyter-widgets/controls",
      "model_module_version": "1.5.0",
      "model_name": "TextModel",
      "state": {
       "description": "script",
       "disabled": true,
       "layout": "IPY_MODEL_7a563d5bf5064dcb8b2c88c9ee4c3f4a",
       "style": "IPY_MODEL_b235e10377634d27ae6b07dad48269ed",
       "value": "C:\\engDev\\git_mf\\MF_Toolbox\\dev\\mf_scripts\\eplus_pipework_params.py"
      }
     },
     "2fe88ac4c3de4236b8b1b728f23f284a": {
      "model_module": "@jupyter-widgets/controls",
      "model_module_version": "1.5.0",
      "model_name": "ButtonStyleModel",
      "state": {
       "font_weight": "bold"
      }
     },
     "30002f76a219405fbf1b7eb08f2dd6e3": {
      "model_module": "@jupyter-widgets/controls",
      "model_module_version": "1.5.0",
      "model_name": "DescriptionStyleModel",
      "state": {
       "description_width": ""
      }
     },
     "301219064a9f42c19f3104c6633d9778": {
      "model_module": "@jupyter-widgets/controls",
      "model_module_version": "1.5.0",
      "model_name": "CheckboxModel",
      "state": {
       "disabled": false,
       "indent": false,
       "layout": "IPY_MODEL_8580f5acffcb446fae757bc3099a6ef9",
       "style": "IPY_MODEL_4de6b8616c304bf6bf7de719b6504aca",
       "value": false
      }
     },
     "3018ea8394404954a99919eefa5c566f": {
      "model_module": "@jupyter-widgets/controls",
      "model_module_version": "1.5.0",
      "model_name": "ButtonModel",
      "state": {
       "button_style": "success",
       "description": "run",
       "layout": "IPY_MODEL_f3ed08ecc4be44bc9322f64b7e4365bc",
       "style": "IPY_MODEL_539d5837a0f84158a84914e19e77622b",
       "tooltip": "execute the script based on the user inputs"
      }
     },
     "303f09a569344e7f94b4c6a6d3405d99": {
      "model_module": "@jupyter-widgets/controls",
      "model_module_version": "1.5.0",
      "model_name": "ButtonStyleModel",
      "state": {
       "font_weight": "bold"
      }
     },
     "303f85f1a8b54fb4ae20290f06874c4e": {
      "model_module": "@jupyter-widgets/base",
      "model_module_version": "1.2.0",
      "model_name": "LayoutModel",
      "state": {}
     },
     "305ab5f850c64d64aa85323e427acd3a": {
      "model_module": "@jupyter-widgets/controls",
      "model_module_version": "1.5.0",
      "model_name": "ButtonModel",
      "state": {
       "button_style": "info",
       "description": "show guide",
       "layout": "IPY_MODEL_87df10f7f8ff4d56a61e11ebab05c05c",
       "style": "IPY_MODEL_5604fb8775ee4be4b9405f39e9767ba4",
       "tooltip": "read the \"docstring\", ie. the documentation that was written to accompany the script"
      }
     },
     "3068b0ba06f04987be43e5d582a599bb": {
      "model_module": "@jupyter-widgets/controls",
      "model_module_version": "1.5.0",
      "model_name": "ButtonModel",
      "state": {
       "button_style": "info",
       "description": "show log",
       "layout": "IPY_MODEL_26d6f0edcb194b81b2a04bca2c544664",
       "style": "IPY_MODEL_c99dac3f44c94662bf4939c76befcb0f",
       "tooltip": "show a log of when the script was executed to generate the outputs, and by who"
      }
     },
     "306e81d7cf3641d385b337ce141ea6c0": {
      "model_module": "@jupyter-widgets/base",
      "model_module_version": "1.2.0",
      "model_name": "LayoutModel",
      "state": {
       "border": "0px",
       "margin": "0px",
       "padding": "0px"
      }
     },
     "3073cbed7c63457abae41bafc1cc3eeb": {
      "model_module": "@jupyter-widgets/controls",
      "model_module_version": "1.5.0",
      "model_name": "ButtonModel",
      "state": {
       "button_style": "info",
       "description": "preview outputs",
       "layout": "IPY_MODEL_6b424dfd94014f64aeb29afa15095992",
       "style": "IPY_MODEL_3b7dfb53250b483e95faf27b34939e86",
       "tooltip": "show a preview of the output files generated when the script runs"
      }
     },
     "30b1a0ac28d84817ba513c13ff0ae824": {
      "model_module": "@jupyter-widgets/controls",
      "model_module_version": "1.5.0",
      "model_name": "VBoxModel",
      "state": {
       "children": [
        "IPY_MODEL_d0235081d34342d29e47ca508c2472de",
        "IPY_MODEL_6146515f352847cb94d2e2d957eaffe5"
       ],
       "layout": "IPY_MODEL_04c3245d8fdb4fd3aafcab54dbc2feb8"
      }
     },
     "30b621691bb14593bf65e7d061821379": {
      "model_module": "@jupyter-widgets/base",
      "model_module_version": "1.2.0",
      "model_name": "LayoutModel",
      "state": {}
     },
     "30bfdd8742b0449d8343e776521598c6": {
      "model_module": "@jupyter-widgets/controls",
      "model_module_version": "1.5.0",
      "model_name": "ButtonModel",
      "state": {
       "button_style": "success",
       "description": "run",
       "layout": "IPY_MODEL_46b37619cda04847991fa9b2a71b3bbf",
       "style": "IPY_MODEL_34316ab5696340779b02b4007849baec",
       "tooltip": "execute the script based on the user inputs"
      }
     },
     "30c805eaa3f94e96adbc917d89c8cd85": {
      "model_module": "@jupyter-widgets/base",
      "model_module_version": "1.2.0",
      "model_name": "LayoutModel",
      "state": {
       "border": "0px",
       "margin": "0px",
       "padding": "0px"
      }
     },
     "30f1c9bbc01d4e19a954787e2a48961f": {
      "model_module": "@jupyter-widgets/base",
      "model_module_version": "1.2.0",
      "model_name": "LayoutModel",
      "state": {}
     },
     "30f4d238f1ec4c5aa0556fc20d08f5ef": {
      "model_module": "@jupyter-widgets/base",
      "model_module_version": "1.2.0",
      "model_name": "LayoutModel",
      "state": {}
     },
     "311a7b705c91484ca9eda36d9efc5b7f": {
      "model_module": "@jupyter-widgets/base",
      "model_module_version": "1.2.0",
      "model_name": "LayoutModel",
      "state": {
       "align_items": "stretch",
       "width": "100%"
      }
     },
     "311eb6e996a74fb9893b520d84521e2c": {
      "model_module": "@jupyter-widgets/base",
      "model_module_version": "1.2.0",
      "model_name": "LayoutModel",
      "state": {
       "width": "100%"
      }
     },
     "3126e8a348f84215b9eedc61ef713ef7": {
      "model_module": "@jupyter-widgets/controls",
      "model_module_version": "1.5.0",
      "model_name": "ButtonStyleModel",
      "state": {
       "font_weight": "bold"
      }
     },
     "3149cf5bbe17447389ea563dd4fea30e": {
      "model_module": "@jupyter-widgets/controls",
      "model_module_version": "1.5.0",
      "model_name": "HBoxModel",
      "state": {
       "children": [
        "IPY_MODEL_08a0557a0c60406eb4046038a5d8545c",
        "IPY_MODEL_b2057f5e9d244f04883229636805bc30",
        "IPY_MODEL_8d16c66b1f7a478f9638277a1b74bcea",
        "IPY_MODEL_37fbe7aaec3e449b9a3c599eafdf0e8a",
        "IPY_MODEL_7f2e632d2a304f75b9b7e7bd5c141490",
        "IPY_MODEL_b6db2afe241d4e05a8464b4603f6542e",
        "IPY_MODEL_9c14f9eeb81b452f81743f966b7175b0"
       ],
       "layout": "IPY_MODEL_55b8961dda3943c7bd3c9fad08a59a17"
      }
     },
     "315dc9a3610741c0979e39ac82d73184": {
      "model_module": "@jupyter-widgets/controls",
      "model_module_version": "1.5.0",
      "model_name": "ButtonModel",
      "state": {
       "icon": "question-circle",
       "layout": "IPY_MODEL_ae89e0ce5db345ef9bdfeb2b0c5f971f",
       "style": "IPY_MODEL_29a14a01b1a44098a92d67cf6aee9cf7",
       "tooltip": "describes the functionality of elements in the RunApp interface"
      }
     },
     "31861efa08a9458eada49c42d806e0e5": {
      "model_module": "@jupyter-widgets/controls",
      "model_module_version": "1.5.0",
      "model_name": "ButtonModel",
      "state": {
       "button_style": "warning",
       "description": "edit inputs",
       "layout": "IPY_MODEL_500516924e6e462c8cef27c1ed02c572",
       "style": "IPY_MODEL_f9d45263b90f4af5a4aa5a660abc7ee9",
       "tooltip": "edit the user input information that is used when the script is executed"
      }
     },
     "31a3eb4eeffd488393a9b3b91f004906": {
      "model_module": "@jupyter-widgets/controls",
      "model_module_version": "1.5.0",
      "model_name": "ButtonModel",
      "state": {
       "icon": "eye-slash",
       "layout": "IPY_MODEL_2b9fa0db97424f6c9e9f9d9df9300575",
       "style": "IPY_MODEL_77841d0ba29342af9c18375c840bf6ec",
       "tooltip": "removes temporary output view"
      }
     },
     "31f16931c617491b9fba8cb5a0b74358": {
      "model_module": "@jupyter-widgets/base",
      "model_module_version": "1.2.0",
      "model_name": "LayoutModel",
      "state": {
       "border": "0px",
       "margin": "0px",
       "padding": "0px"
      }
     },
     "323f18ad497440f595dea1ced490acfc": {
      "model_module": "@jupyter-widgets/base",
      "model_module_version": "1.2.0",
      "model_name": "LayoutModel",
      "state": {
       "height": "30px",
       "width": "auto"
      }
     },
     "326988a1df634c90b2e761bbd53afa21": {
      "model_module": "@jupyter-widgets/controls",
      "model_module_version": "1.5.0",
      "model_name": "TextModel",
      "state": {
       "description": "script",
       "disabled": true,
       "layout": "IPY_MODEL_d2dca15d551d4a038d0c4c030f4d1c79",
       "style": "IPY_MODEL_56d589dd334f4cc7b2d9e4399bd76326",
       "value": "C:\\engDev\\git_mf\\MF_Toolbox\\dev\\mf_scripts\\docx_to_pdf.py"
      }
     },
     "32acc2cad9e64bb482bc3c82ac3d4e6a": {
      "model_module": "@jupyter-widgets/controls",
      "model_module_version": "1.5.0",
      "model_name": "ButtonModel",
      "state": {
       "icon": "eye-slash",
       "layout": "IPY_MODEL_224490dd2d7c427c8e5e4789dec1a5d4",
       "style": "IPY_MODEL_5374c2bfee394667a67dd539bb17999b",
       "tooltip": "removes temporary output view"
      }
     },
     "32b110094f9b49469e99a0f0bf0ce23c": {
      "model_module": "@jupyter-widgets/base",
      "model_module_version": "1.2.0",
      "model_name": "LayoutModel",
      "state": {}
     },
     "32b92d9e01374aee9947157b0c946a64": {
      "model_module": "@jupyter-widgets/base",
      "model_module_version": "1.2.0",
      "model_name": "LayoutModel",
      "state": {
       "align_items": "stretch",
       "width": "100%"
      }
     },
     "32d81729a0bf45efa6109c795f96317f": {
      "model_module": "@jupyter-widgets/base",
      "model_module_version": "1.2.0",
      "model_name": "LayoutModel",
      "state": {}
     },
     "32e11f0ed1a344c0b717f9257780bd17": {
      "model_module": "@jupyter-widgets/controls",
      "model_module_version": "1.5.0",
      "model_name": "ButtonStyleModel",
      "state": {
       "font_weight": "bold"
      }
     },
     "32e83c5e26cb439ca837fe3b4133ab6e": {
      "model_module": "@jupyter-widgets/controls",
      "model_module_version": "1.5.0",
      "model_name": "HBoxModel",
      "state": {
       "children": [
        "IPY_MODEL_93432e6841c74e64b2b82c585428154b",
        "IPY_MODEL_d12c808a2d514af48e02ca0014c8f3e2"
       ],
       "layout": "IPY_MODEL_6833959d90f74b5894d360fc4dc5dfe7"
      }
     },
     "32ec6730d372412cbca4b7c1f09feeb1": {
      "model_module": "@jupyter-widgets/base",
      "model_module_version": "1.2.0",
      "model_name": "LayoutModel",
      "state": {
       "width": "5%"
      }
     },
     "330d65a33041483cab9a397a045c7803": {
      "model_module": "@jupyter-widgets/controls",
      "model_module_version": "1.5.0",
      "model_name": "ButtonStyleModel",
      "state": {
       "font_weight": "bold"
      }
     },
     "3317d3df1da84603aeedce0b7076d21a": {
      "model_module": "@jupyter-widgets/base",
      "model_module_version": "1.2.0",
      "model_name": "LayoutModel",
      "state": {}
     },
     "3325061ccbfc4581b18c4646525767c5": {
      "model_module": "@jupyter-widgets/base",
      "model_module_version": "1.2.0",
      "model_name": "LayoutModel",
      "state": {
       "width": "5%"
      }
     },
     "333dc2ac716e4a408a6920717891ea56": {
      "model_module": "@jupyter-widgets/controls",
      "model_module_version": "1.5.0",
      "model_name": "DescriptionStyleModel",
      "state": {
       "description_width": ""
      }
     },
     "33560855ca144fce882063db91a28cc5": {
      "model_module": "@jupyter-widgets/controls",
      "model_module_version": "1.5.0",
      "model_name": "ButtonModel",
      "state": {
       "button_style": "info",
       "description": "show source code",
       "layout": "IPY_MODEL_d92e98734df3435cb1aff0b240c56464",
       "style": "IPY_MODEL_83c22ffc90a04155b0d5f9f072c39947",
       "tooltip": "shows the raw python code in the preview window below"
      }
     },
     "3399a2cad9f145eda8ad7d8fa392ac62": {
      "model_module": "@jupyter-widgets/controls",
      "model_module_version": "1.5.0",
      "model_name": "HBoxModel",
      "state": {
       "children": [
        "IPY_MODEL_a440cc24cd1d4a9ea3e8ce67d84366c6",
        "IPY_MODEL_203dc07fab3a48af9f6006d0ad1d224b"
       ],
       "layout": "IPY_MODEL_e2f2856e69e54f9e923a7880298915b1"
      }
     },
     "33b43ac03b1540beb7e4165363a4b905": {
      "model_module": "@jupyter-widgets/controls",
      "model_module_version": "1.5.0",
      "model_name": "HBoxModel",
      "state": {
       "children": [
        "IPY_MODEL_f0212ff3263c433aae8a8530ac419220",
        "IPY_MODEL_5322388a72a2401f951e2a57c8a7e605",
        "IPY_MODEL_6ac83f6990b04c419d5c038afe907287"
       ],
       "layout": "IPY_MODEL_d76f141c9e3f4c409399d9f91c9e7391"
      }
     },
     "33c3ddfcf1874cbcbb963a3b993e9a9d": {
      "model_module": "@jupyter-widgets/base",
      "model_module_version": "1.2.0",
      "model_name": "LayoutModel",
      "state": {}
     },
     "33ce68711e46427f83c854f413a23501": {
      "model_module": "@jupyter-widgets/controls",
      "model_module_version": "1.5.0",
      "model_name": "ButtonModel",
      "state": {
       "button_style": "warning",
       "description": "edit inputs",
       "layout": "IPY_MODEL_411f3a67c2214f0f9bdd966b8c17c37f",
       "style": "IPY_MODEL_c90b46b8c24945a3ac39b49db5bf6372",
       "tooltip": "edit the user input information that is used when the script is executed"
      }
     },
     "33e4a1020b4b41ecbd8c0bec371e6fed": {
      "model_module": "@jupyter-widgets/controls",
      "model_module_version": "1.5.0",
      "model_name": "ButtonModel",
      "state": {
       "button_style": "success",
       "description": "run",
       "layout": "IPY_MODEL_36785610da7140449063a428cbec148d",
       "style": "IPY_MODEL_95f9ca84dfb34ef4b7884539efe86bf7",
       "tooltip": "execute the script based on the user inputs"
      }
     },
     "33f7e27810274f8aa2725647738f2638": {
      "model_module": "@jupyter-widgets/base",
      "model_module_version": "1.2.0",
      "model_name": "LayoutModel",
      "state": {
       "width": "5%"
      }
     },
     "340b36e84c634aa3bc91c5f56617859f": {
      "model_module": "@jupyter-widgets/controls",
      "model_module_version": "1.5.0",
      "model_name": "DescriptionStyleModel",
      "state": {
       "description_width": ""
      }
     },
     "34316ab5696340779b02b4007849baec": {
      "model_module": "@jupyter-widgets/controls",
      "model_module_version": "1.5.0",
      "model_name": "ButtonStyleModel",
      "state": {
       "font_weight": "bold"
      }
     },
     "343b6476295b461ba9940eadeed8705c": {
      "model_module": "@jupyter-widgets/controls",
      "model_module_version": "1.5.0",
      "model_name": "TextModel",
      "state": {
       "description": "script",
       "disabled": true,
       "layout": "IPY_MODEL_0a2e51c85cdd47e3a96253d8d1fec07c",
       "style": "IPY_MODEL_bd5a3711330341ef988dae87069da041",
       "value": "C:\\engDev\\git_mf\\MF_Toolbox\\dev\\mf_scripts\\eplus_pipework_params.py"
      }
     },
     "3443555062c74bfa9cf39d81093ee017": {
      "model_module": "@jupyter-widgets/controls",
      "model_module_version": "1.5.0",
      "model_name": "DescriptionStyleModel",
      "state": {
       "description_width": ""
      }
     },
     "3452285866ea408cbe100cc976f5f159": {
      "model_module": "@jupyter-widgets/base",
      "model_module_version": "1.2.0",
      "model_name": "LayoutModel",
      "state": {
       "width": "5%"
      }
     },
     "345cabd8641f4c5bafcb4645bfe4219a": {
      "model_module": "@jupyter-widgets/controls",
      "model_module_version": "1.5.0",
      "model_name": "DescriptionStyleModel",
      "state": {
       "description_width": ""
      }
     },
     "347d4f92a9424067b0e7978470515454": {
      "model_module": "@jupyter-widgets/controls",
      "model_module_version": "1.5.0",
      "model_name": "ButtonModel",
      "state": {
       "button_style": "info",
       "description": "show source code",
       "layout": "IPY_MODEL_3c0abe09ad8b46ef8f4ea2e5e4cbb061",
       "style": "IPY_MODEL_4a5119f434a04f95a0d9cd47132a29b3",
       "tooltip": "shows the raw python code in the preview window below"
      }
     },
     "348ae564cadb45ea943033a247bf6e5c": {
      "model_module": "@jupyter-widgets/controls",
      "model_module_version": "1.5.0",
      "model_name": "ButtonStyleModel",
      "state": {
       "font_weight": "bold"
      }
     },
     "34b7857b89c346afa7c8752fc99aea40": {
      "model_module": "@jupyter-widgets/controls",
      "model_module_version": "1.5.0",
      "model_name": "HBoxModel",
      "state": {
       "children": [
        "IPY_MODEL_d30d390a00714d2db2b613fb42e55633",
        "IPY_MODEL_b39ef619b39f4cf49e64e6e0c4be9cf2"
       ],
       "layout": "IPY_MODEL_f1d69ecfa77d4c298bf89955f08739b5"
      }
     },
     "34e118af648545bd8c20fb1f66847560": {
      "model_module": "@jupyter-widgets/controls",
      "model_module_version": "1.5.0",
      "model_name": "ButtonModel",
      "state": {
       "button_style": "success",
       "description": "run",
       "layout": "IPY_MODEL_4c30a7c9681d4a7ba7e48385c266a2b4",
       "style": "IPY_MODEL_49705dfafae447488df17370cd60bd5d",
       "tooltip": "execute the script based on the user inputs"
      }
     },
     "35081c3dd31d482293be6262886aaca3": {
      "model_module": "@jupyter-widgets/base",
      "model_module_version": "1.2.0",
      "model_name": "LayoutModel",
      "state": {}
     },
     "3509666af3a14d56b9496e4b70cd21df": {
      "model_module": "@jupyter-widgets/controls",
      "model_module_version": "1.5.0",
      "model_name": "ButtonStyleModel",
      "state": {}
     },
     "354f6481417e438e8b70dc30ba245876": {
      "model_module": "@jupyter-widgets/controls",
      "model_module_version": "1.5.0",
      "model_name": "TextModel",
      "state": {
       "description": "inputs",
       "disabled": true,
       "layout": "IPY_MODEL_1b04d15bceec43f2881409a9eb716e98",
       "style": "IPY_MODEL_d46024b45c8e448f9fb68a003db2c739",
       "value": "C:\\engDev\\git_mf\\ipyrun\\ipyrun\\notebooks\\appdata\\inputs\\inputs-eplus_pipework_params.csv"
      }
     },
     "358cbe9ebabe430e86b1e702cdd48ad2": {
      "model_module": "@jupyter-widgets/controls",
      "model_module_version": "1.5.0",
      "model_name": "DescriptionStyleModel",
      "state": {
       "description_width": ""
      }
     },
     "359c15f27b874444ae9976d07f56f1e0": {
      "model_module": "@jupyter-widgets/base",
      "model_module_version": "1.2.0",
      "model_name": "LayoutModel",
      "state": {}
     },
     "35a94af4b0ee4555be0b8e01340deac0": {
      "model_module": "@jupyter-widgets/base",
      "model_module_version": "1.2.0",
      "model_name": "LayoutModel",
      "state": {}
     },
     "35b0a1b69baa4191a235b54b2f8eb03c": {
      "model_module": "@jupyter-widgets/controls",
      "model_module_version": "1.5.0",
      "model_name": "ButtonModel",
      "state": {
       "button_style": "info",
       "description": "preview outputs",
       "layout": "IPY_MODEL_ac1e814aa9c043ee956abcc94cfc5347",
       "style": "IPY_MODEL_442e9ce7cad64ba589ec330b675047e0",
       "tooltip": "show a preview of the output files generated when the script runs"
      }
     },
     "35b47afd72c44ed1ae3bccda7656a309": {
      "model_module": "@jupyter-widgets/controls",
      "model_module_version": "1.5.0",
      "model_name": "ButtonStyleModel",
      "state": {
       "font_weight": "bold"
      }
     },
     "35c3e152fb1f491e82e89a1f5b048207": {
      "model_module": "@jupyter-widgets/controls",
      "model_module_version": "1.5.0",
      "model_name": "ButtonModel",
      "state": {
       "button_style": "warning",
       "description": "edit inputs",
       "layout": "IPY_MODEL_00a8119235d24e2a9a9c05efce61df4e",
       "style": "IPY_MODEL_a2f5c54cf666452ab8b67b5d16b3bc3c",
       "tooltip": "edit the user input information that is used when the script is executed"
      }
     },
     "35ce315336e5473e9af4896d095d00de": {
      "model_module": "@jupyter-widgets/controls",
      "model_module_version": "1.5.0",
      "model_name": "VBoxModel",
      "state": {
       "children": [
        "IPY_MODEL_0a9d9ed060104471b0050b3a17f84d46",
        "IPY_MODEL_9e1290cc34b04d0c88d958b896d538c8",
        "IPY_MODEL_a873f35507244698b643046305622068"
       ],
       "layout": "IPY_MODEL_d52aaf894b7746ef9f3641bba85fcaa6"
      }
     },
     "35d024d33dfe4c9ba3e400de08d0c9de": {
      "model_module": "@jupyter-widgets/base",
      "model_module_version": "1.2.0",
      "model_name": "LayoutModel",
      "state": {
       "height": "30px",
       "width": "auto"
      }
     },
     "35e940dd1ef44f63aef5ba1a8ffd38c9": {
      "model_module": "@jupyter-widgets/controls",
      "model_module_version": "1.5.0",
      "model_name": "ButtonStyleModel",
      "state": {}
     },
     "35eab5a3c99f4098ac238e29832b780a": {
      "model_module": "@jupyter-widgets/controls",
      "model_module_version": "1.5.0",
      "model_name": "ButtonStyleModel",
      "state": {
       "font_weight": "bold"
      }
     },
     "35fadf94788542d6a8812e74a0a57dfc": {
      "model_module": "@jupyter-widgets/base",
      "model_module_version": "1.2.0",
      "model_name": "LayoutModel",
      "state": {
       "width": "5%"
      }
     },
     "361646f52f084dc6b02dc8f2d7259e41": {
      "model_module": "@jupyter-widgets/base",
      "model_module_version": "1.2.0",
      "model_name": "LayoutModel",
      "state": {}
     },
     "361ad305c0e747b497508a9b63af4116": {
      "model_module": "@jupyter-widgets/controls",
      "model_module_version": "1.5.0",
      "model_name": "ButtonModel",
      "state": {
       "button_style": "info",
       "description": "show guide",
       "layout": "IPY_MODEL_3a9d98baa04d4871b876bc2d1eb15fd5",
       "style": "IPY_MODEL_23c88a881ef045b0ac02768f70d33bee",
       "tooltip": "read the \"docstring\", ie. the documentation that was written to accompany the script"
      }
     },
     "3659b6ea8a2643fca9302337f5b7279a": {
      "model_module": "@jupyter-widgets/controls",
      "model_module_version": "1.5.0",
      "model_name": "ButtonModel",
      "state": {
       "icon": "eye-slash",
       "layout": "IPY_MODEL_b77467a48a1f49a38244b1a635585ad5",
       "style": "IPY_MODEL_9fc2caba4b9645919c685fc914cafe23",
       "tooltip": "removes temporary output view"
      }
     },
     "36619f47848f488eaec7d676eab12c74": {
      "model_module": "@jupyter-widgets/base",
      "model_module_version": "1.2.0",
      "model_name": "LayoutModel",
      "state": {
       "width": "5%"
      }
     },
     "366ed6712e4844d2853bf0b8b9a33493": {
      "model_module": "@jupyter-widgets/base",
      "model_module_version": "1.2.0",
      "model_name": "LayoutModel",
      "state": {
       "height": "30px",
       "width": "auto"
      }
     },
     "36721b99b5564c4995c9c8c7b8d9ec76": {
      "model_module": "@jupyter-widgets/controls",
      "model_module_version": "1.5.0",
      "model_name": "ButtonModel",
      "state": {
       "button_style": "warning",
       "description": "add run",
       "layout": "IPY_MODEL_ff61b47c120046eb93e6681466b22d2a",
       "style": "IPY_MODEL_9caf3fe8d21b443db1446df8da811f8b",
       "tooltip": "add new run, based on another run"
      }
     },
     "36785610da7140449063a428cbec148d": {
      "model_module": "@jupyter-widgets/base",
      "model_module_version": "1.2.0",
      "model_name": "LayoutModel",
      "state": {}
     },
     "367a638067894a7aaecb9142ccb3d75f": {
      "model_module": "@jupyter-widgets/output",
      "model_module_version": "1.0.0",
      "model_name": "OutputModel",
      "state": {
       "layout": "IPY_MODEL_55893c7e31914efa8e674b9d08365f63"
      }
     },
     "3683c81ab4234b8e867d21ca126d7a04": {
      "model_module": "@jupyter-widgets/controls",
      "model_module_version": "1.5.0",
      "model_name": "ButtonStyleModel",
      "state": {
       "font_weight": "bold"
      }
     },
     "368e3645ed7f464191ab2c05627e0e0a": {
      "model_module": "@jupyter-widgets/base",
      "model_module_version": "1.2.0",
      "model_name": "LayoutModel",
      "state": {
       "border": "0px",
       "margin": "0px",
       "padding": "0px"
      }
     },
     "36939c60394041ce835fa0e564616ff1": {
      "model_module": "@jupyter-widgets/controls",
      "model_module_version": "1.5.0",
      "model_name": "ButtonStyleModel",
      "state": {}
     },
     "36a7179328fb4c169c24a4b5fc749abf": {
      "model_module": "@jupyter-widgets/base",
      "model_module_version": "1.2.0",
      "model_name": "LayoutModel",
      "state": {
       "align_items": "stretch",
       "width": "100%"
      }
     },
     "36a73db401db44978a7f61c32d1d4956": {
      "model_module": "@jupyter-widgets/base",
      "model_module_version": "1.2.0",
      "model_name": "LayoutModel",
      "state": {}
     },
     "36af419234e74e9389cb54aa645da358": {
      "model_module": "@jupyter-widgets/controls",
      "model_module_version": "1.5.0",
      "model_name": "ButtonModel",
      "state": {
       "button_style": "info",
       "description": "show log",
       "layout": "IPY_MODEL_182a864f268144fbbf9bd2e6510272eb",
       "style": "IPY_MODEL_02d83021a2974be9b4a4b1b43af264b5",
       "tooltip": "show a log of when the script was executed to generate the outputs, and by who"
      }
     },
     "36f5d10e8e354083a55802385013f4d5": {
      "model_module": "@jupyter-widgets/base",
      "model_module_version": "1.2.0",
      "model_name": "LayoutModel",
      "state": {}
     },
     "3726c7060fe54b00ac0cf19cf5a8d198": {
      "model_module": "@jupyter-widgets/controls",
      "model_module_version": "1.5.0",
      "model_name": "DescriptionStyleModel",
      "state": {
       "description_width": ""
      }
     },
     "373ead7e6fee48829329d55d36ac1892": {
      "model_module": "@jupyter-widgets/base",
      "model_module_version": "1.2.0",
      "model_name": "LayoutModel",
      "state": {}
     },
     "376e4ddc7d344633a18271b8fd71c290": {
      "model_module": "@jupyter-widgets/base",
      "model_module_version": "1.2.0",
      "model_name": "LayoutModel",
      "state": {
       "width": "100%"
      }
     },
     "377a1ed34d4c487aa7a8691e127465e5": {
      "model_module": "@jupyter-widgets/controls",
      "model_module_version": "1.5.0",
      "model_name": "ButtonStyleModel",
      "state": {
       "font_weight": "bold"
      }
     },
     "37d9a75268be443786d7705646f7ed62": {
      "model_module": "@jupyter-widgets/controls",
      "model_module_version": "1.5.0",
      "model_name": "VBoxModel",
      "state": {
       "children": [
        "IPY_MODEL_5dc38d7e8ad2418dbdbd1ca5508ed7f7",
        "IPY_MODEL_e0b1a58c2bcb46eb9c5df57fa3824b69"
       ],
       "layout": "IPY_MODEL_02fa8cf6a8fd44418549b301178a45b5"
      }
     },
     "37dc388cbd21480b9d60b3908f840c6e": {
      "model_module": "@jupyter-widgets/base",
      "model_module_version": "1.2.0",
      "model_name": "LayoutModel",
      "state": {}
     },
     "37deb7304ae746edb029646c11dba388": {
      "model_module": "@jupyter-widgets/controls",
      "model_module_version": "1.5.0",
      "model_name": "ButtonModel",
      "state": {
       "button_style": "info",
       "description": "show log",
       "layout": "IPY_MODEL_fe515b05a8c6411fb14b088e20780939",
       "style": "IPY_MODEL_330d65a33041483cab9a397a045c7803",
       "tooltip": "show a log of when the script was executed to generate the outputs, and by who"
      }
     },
     "37e25879cc7b4e82807fd6c4c5442b95": {
      "model_module": "@jupyter-widgets/base",
      "model_module_version": "1.2.0",
      "model_name": "LayoutModel",
      "state": {
       "align_items": "stretch",
       "width": "100%"
      }
     },
     "37f072df93b543e8b26344ab414d4f50": {
      "model_module": "@jupyter-widgets/controls",
      "model_module_version": "1.5.0",
      "model_name": "ButtonModel",
      "state": {
       "button_style": "info",
       "description": "show log",
       "layout": "IPY_MODEL_03b4517c980c4398a077763d2f22309e",
       "style": "IPY_MODEL_e1074276d9364558b48e631c95f18d03",
       "tooltip": "show a log of when the script was executed to generate the outputs, and by who"
      }
     },
     "37f0e485914344658c05b4ef773284fe": {
      "model_module": "@jupyter-widgets/controls",
      "model_module_version": "1.5.0",
      "model_name": "DescriptionStyleModel",
      "state": {
       "description_width": ""
      }
     },
     "37f60791f29246e99bc614093e50e5aa": {
      "model_module": "@jupyter-widgets/base",
      "model_module_version": "1.2.0",
      "model_name": "LayoutModel",
      "state": {
       "height": "30px",
       "width": "auto"
      }
     },
     "37fbe7aaec3e449b9a3c599eafdf0e8a": {
      "model_module": "@jupyter-widgets/controls",
      "model_module_version": "1.5.0",
      "model_name": "ButtonModel",
      "state": {
       "button_style": "warning",
       "description": "edit inputs",
       "layout": "IPY_MODEL_39233b053abc4598bad2788b8111bc5e",
       "style": "IPY_MODEL_bc2cb41c39024c74ae6fa3eb0b2a9194",
       "tooltip": "edit the user input information that is used when the script is executed"
      }
     },
     "3803ba7946ad4f1780bbc1fd258bdcf5": {
      "model_module": "@jupyter-widgets/base",
      "model_module_version": "1.2.0",
      "model_name": "LayoutModel",
      "state": {}
     },
     "380ee61b0fe04658b17abc5514e899fc": {
      "model_module": "@jupyter-widgets/controls",
      "model_module_version": "1.5.0",
      "model_name": "ButtonModel",
      "state": {
       "button_style": "warning",
       "description": "edit inputs",
       "layout": "IPY_MODEL_99ca7dc647ea45cca60e0f49de136fda",
       "style": "IPY_MODEL_a01e0fa4a951462c8455c0cd9aa1d35e",
       "tooltip": "edit the user input information that is used when the script is executed"
      }
     },
     "381f709ba9ab4f4fbd9a81063d45083e": {
      "model_module": "@jupyter-widgets/base",
      "model_module_version": "1.2.0",
      "model_name": "LayoutModel",
      "state": {}
     },
     "3861cef043824aae8323e7056c67299b": {
      "model_module": "@jupyter-widgets/controls",
      "model_module_version": "1.5.0",
      "model_name": "ButtonStyleModel",
      "state": {
       "font_weight": "bold"
      }
     },
     "3874072632e3434e90f4160564b27786": {
      "model_module": "@jupyter-widgets/controls",
      "model_module_version": "1.5.0",
      "model_name": "ButtonModel",
      "state": {
       "button_style": "info",
       "description": "preview outputs",
       "layout": "IPY_MODEL_6bf1722a12074104a046bd07b06f7495",
       "style": "IPY_MODEL_d69f424ccaeb4b4a9cf8accb1c353967",
       "tooltip": "show a preview of the output files generated when the script runs"
      }
     },
     "3874439dd06d4a2bb13a530016079144": {
      "model_module": "@jupyter-widgets/controls",
      "model_module_version": "1.5.0",
      "model_name": "TextModel",
      "state": {
       "description": "script",
       "disabled": true,
       "layout": "IPY_MODEL_85b490d126b243cf841afbca3c213581",
       "style": "IPY_MODEL_3f771ea97e5c4a8ba57f38d73b37461f",
       "value": "C:\\engDev\\git_mf\\MF_Toolbox\\dev\\mf_scripts\\docx_to_pdf.py"
      }
     },
     "3899368ec36b440fa1d3564e36697693": {
      "model_module": "@jupyter-widgets/base",
      "model_module_version": "1.2.0",
      "model_name": "LayoutModel",
      "state": {}
     },
     "38c37512b37c48a2ad020a172116e5b7": {
      "model_module": "@jupyter-widgets/base",
      "model_module_version": "1.2.0",
      "model_name": "LayoutModel",
      "state": {
       "width": "5%"
      }
     },
     "38e1781e5ea74d278131bdf214eae46d": {
      "model_module": "@jupyter-widgets/controls",
      "model_module_version": "1.5.0",
      "model_name": "ButtonModel",
      "state": {
       "button_style": "warning",
       "description": "edit inputs",
       "layout": "IPY_MODEL_ffdc93dc6e3a4674b9b675cdd261edbb",
       "style": "IPY_MODEL_163a6ec38c1e4d73b777732256a26714",
       "tooltip": "edit the user input information that is used when the script is executed"
      }
     },
     "38e8002358d644c994ce73a0f1b17e11": {
      "model_module": "@jupyter-widgets/controls",
      "model_module_version": "1.5.0",
      "model_name": "ButtonStyleModel",
      "state": {
       "font_weight": "bold"
      }
     },
     "38fba74e38b64dff99ff43ed7f94b16c": {
      "model_module": "@jupyter-widgets/base",
      "model_module_version": "1.2.0",
      "model_name": "LayoutModel",
      "state": {
       "align_items": "stretch",
       "width": "100%"
      }
     },
     "39233b053abc4598bad2788b8111bc5e": {
      "model_module": "@jupyter-widgets/base",
      "model_module_version": "1.2.0",
      "model_name": "LayoutModel",
      "state": {}
     },
     "392a62ca93454cf3a84ec6bd5011b51f": {
      "model_module": "@jupyter-widgets/controls",
      "model_module_version": "1.5.0",
      "model_name": "BoxModel",
      "state": {
       "children": [
        "IPY_MODEL_5f14e9c634de440dbac1a45af7dc99ce"
       ],
       "layout": "IPY_MODEL_886581a4a0f94187a1d0481acfc98aa6"
      }
     },
     "3932482dfd0f4a589ec58f6ad9006abc": {
      "model_module": "@jupyter-widgets/base",
      "model_module_version": "1.2.0",
      "model_name": "LayoutModel",
      "state": {}
     },
     "39496efe057e424497b3576e76ae96e2": {
      "model_module": "@jupyter-widgets/controls",
      "model_module_version": "1.5.0",
      "model_name": "VBoxModel",
      "state": {
       "children": [
        "IPY_MODEL_9a69d81a78cd4c06b6739a169a3103e5",
        "IPY_MODEL_29d8c14626e74fc8b9aecfd3b7c6c304"
       ],
       "layout": "IPY_MODEL_7e8a74f1d72943a19def7a85d59215cd"
      }
     },
     "394c22d4059c43739f7bf05319cb0760": {
      "model_module": "@jupyter-widgets/base",
      "model_module_version": "1.2.0",
      "model_name": "LayoutModel",
      "state": {
       "height": "30px",
       "width": "auto"
      }
     },
     "395ace6ab7d940c6a3078974be1bd564": {
      "model_module": "@jupyter-widgets/base",
      "model_module_version": "1.2.0",
      "model_name": "LayoutModel",
      "state": {}
     },
     "395cefdbf4684c69bc30ecbe80289eeb": {
      "model_module": "@jupyter-widgets/base",
      "model_module_version": "1.2.0",
      "model_name": "LayoutModel",
      "state": {}
     },
     "399294e174364c3e89184f603cf1264a": {
      "model_module": "@jupyter-widgets/controls",
      "model_module_version": "1.5.0",
      "model_name": "ButtonStyleModel",
      "state": {
       "font_weight": "bold"
      }
     },
     "39bafd421e534ea18841ebfbbd54ae26": {
      "model_module": "@jupyter-widgets/controls",
      "model_module_version": "1.5.0",
      "model_name": "ButtonStyleModel",
      "state": {}
     },
     "39eb4ebfa54444678e74b70109190456": {
      "model_module": "@jupyter-widgets/controls",
      "model_module_version": "1.5.0",
      "model_name": "VBoxModel",
      "state": {
       "children": [
        "IPY_MODEL_0dab65b0e84d4506aaea2b9c684fd5b1",
        "IPY_MODEL_d6668544d3c442f7bb2da0e477a4f09b",
        "IPY_MODEL_cddc26aaa5044b84b7e7dfd2547e9651"
       ],
       "layout": "IPY_MODEL_09859787c97c4bc0af362fad25c159a8"
      }
     },
     "39fa3ef91d2e42ac9e06b1c8e8c78b76": {
      "model_module": "@jupyter-widgets/controls",
      "model_module_version": "1.5.0",
      "model_name": "HBoxModel",
      "state": {
       "children": [
        "IPY_MODEL_53eca5ac69f24114a1b746e71bc188cd",
        "IPY_MODEL_4e10ec0370ee41c1b21de952e2dcdda8"
       ],
       "layout": "IPY_MODEL_4df4bcc1d2ee4d2897f163f961251dd0"
      }
     },
     "3a07570ba31645f9aa18a148dbd19ecf": {
      "model_module": "@jupyter-widgets/base",
      "model_module_version": "1.2.0",
      "model_name": "LayoutModel",
      "state": {}
     },
     "3a12d43d068b40a8968678ad1a074feb": {
      "model_module": "@jupyter-widgets/base",
      "model_module_version": "1.2.0",
      "model_name": "LayoutModel",
      "state": {}
     },
     "3a27926dbe0f4c6c89eacd5525d09ddc": {
      "model_module": "@jupyter-widgets/base",
      "model_module_version": "1.2.0",
      "model_name": "LayoutModel",
      "state": {}
     },
     "3a4272a3f8eb42dba00e90022156217f": {
      "model_module": "@jupyter-widgets/base",
      "model_module_version": "1.2.0",
      "model_name": "LayoutModel",
      "state": {
       "align_items": "stretch",
       "width": "100%"
      }
     },
     "3a4da684e1eb434d8d73a6021c3a098e": {
      "model_module": "@jupyter-widgets/base",
      "model_module_version": "1.2.0",
      "model_name": "LayoutModel",
      "state": {
       "align_items": "stretch",
       "width": "100%"
      }
     },
     "3a6f933391c34ac6b2a18f7da2b56184": {
      "model_module": "@jupyter-widgets/controls",
      "model_module_version": "1.5.0",
      "model_name": "ButtonStyleModel",
      "state": {
       "font_weight": "bold"
      }
     },
     "3a85d9c5df414a42a91925fce484798e": {
      "model_module": "@jupyter-widgets/controls",
      "model_module_version": "1.5.0",
      "model_name": "ButtonModel",
      "state": {
       "button_style": "info",
       "description": "show guide",
       "layout": "IPY_MODEL_c40865e0369f4ab99a78f7cc728f7cd4",
       "style": "IPY_MODEL_57012bb77cb04b5a91d838379301d064",
       "tooltip": "read the \"docstring\", ie. the documentation that was written to accompany the script"
      }
     },
     "3a9085389d4a44c7b93429ca9e2e27a6": {
      "model_module": "@jupyter-widgets/base",
      "model_module_version": "1.2.0",
      "model_name": "LayoutModel",
      "state": {}
     },
     "3a9976a5df6f475fab691a7388cc4525": {
      "model_module": "@jupyter-widgets/base",
      "model_module_version": "1.2.0",
      "model_name": "LayoutModel",
      "state": {}
     },
     "3a9d98baa04d4871b876bc2d1eb15fd5": {
      "model_module": "@jupyter-widgets/base",
      "model_module_version": "1.2.0",
      "model_name": "LayoutModel",
      "state": {}
     },
     "3ad177a2460244409b089ebb20a4f98a": {
      "model_module": "@jupyter-widgets/base",
      "model_module_version": "1.2.0",
      "model_name": "LayoutModel",
      "state": {}
     },
     "3ad64c10092c42dba9982f3f0ac02aa8": {
      "model_module": "@jupyter-widgets/controls",
      "model_module_version": "1.5.0",
      "model_name": "ButtonModel",
      "state": {
       "button_style": "info",
       "description": "show log",
       "layout": "IPY_MODEL_a48c64b2baef4e688b39a75827981856",
       "style": "IPY_MODEL_9db0c923e3d74e27a99361afe48951ed",
       "tooltip": "show a log of when the script was executed to generate the outputs, and by who"
      }
     },
     "3add3fe15e1a4bfdbeed1e40e9af9cd2": {
      "model_module": "@jupyter-widgets/base",
      "model_module_version": "1.2.0",
      "model_name": "LayoutModel",
      "state": {
       "width": "5%"
      }
     },
     "3afc904d85b74d34bad1c61282c59add": {
      "model_module": "@jupyter-widgets/controls",
      "model_module_version": "1.5.0",
      "model_name": "ButtonModel",
      "state": {
       "icon": "question-circle",
       "layout": "IPY_MODEL_2a6ab91f993145e7be94bebec23fc7bc",
       "style": "IPY_MODEL_1d40febc3257480caff3b439e3704713",
       "tooltip": "describes the functionality of elements in the RunApp interface"
      }
     },
     "3b02c659563842128a2647e4057ea05b": {
      "model_module": "@jupyter-widgets/controls",
      "model_module_version": "1.5.0",
      "model_name": "ButtonStyleModel",
      "state": {
       "font_weight": "bold"
      }
     },
     "3b06a7f8a81c4d79a632d325610a37a2": {
      "model_module": "@jupyter-widgets/controls",
      "model_module_version": "1.5.0",
      "model_name": "HBoxModel",
      "state": {
       "children": [
        "IPY_MODEL_7d7ea5f7c87b4db690bdc0e3400ffa45",
        "IPY_MODEL_8a9269bb209045a1bd2ae77fd0538aa5"
       ],
       "layout": "IPY_MODEL_26b3b0a360304ff59bfd23ab449f536b"
      }
     },
     "3b32d6cbe11040e986c4db5023c5565d": {
      "model_module": "@jupyter-widgets/controls",
      "model_module_version": "1.5.0",
      "model_name": "ButtonStyleModel",
      "state": {}
     },
     "3b36f000eb2a4ff2a61a1a29e5408ae8": {
      "model_module": "@jupyter-widgets/controls",
      "model_module_version": "1.5.0",
      "model_name": "ButtonModel",
      "state": {
       "button_style": "info",
       "description": "show source code",
       "layout": "IPY_MODEL_7cfe0cbe3ac54fc7bfe8bd420d52e31e",
       "style": "IPY_MODEL_6a30730804094461a52ab8f36f176505",
       "tooltip": "shows the raw python code in the preview window below"
      }
     },
     "3b4643b337e84f2ca86168d49cd9a0d2": {
      "model_module": "@jupyter-widgets/base",
      "model_module_version": "1.2.0",
      "model_name": "LayoutModel",
      "state": {}
     },
     "3b4bfa57079c4bc1b69c22bbee6980d1": {
      "model_module": "@jupyter-widgets/base",
      "model_module_version": "1.2.0",
      "model_name": "LayoutModel",
      "state": {}
     },
     "3b53f56ce33b481a8ca58042839309ca": {
      "model_module": "@jupyter-widgets/base",
      "model_module_version": "1.2.0",
      "model_name": "LayoutModel",
      "state": {}
     },
     "3b76b0760c074b0e98d04b33225c1334": {
      "model_module": "@jupyter-widgets/controls",
      "model_module_version": "1.5.0",
      "model_name": "ButtonStyleModel",
      "state": {
       "font_weight": "bold"
      }
     },
     "3b7dfb53250b483e95faf27b34939e86": {
      "model_module": "@jupyter-widgets/controls",
      "model_module_version": "1.5.0",
      "model_name": "ButtonStyleModel",
      "state": {
       "font_weight": "bold"
      }
     },
     "3b883c14dd634924a56daa442996b90c": {
      "model_module": "@jupyter-widgets/controls",
      "model_module_version": "1.5.0",
      "model_name": "ButtonStyleModel",
      "state": {
       "font_weight": "bold"
      }
     },
     "3bb80398d67e4f2487cb238a64c47c43": {
      "model_module": "@jupyter-widgets/controls",
      "model_module_version": "1.5.0",
      "model_name": "ButtonStyleModel",
      "state": {
       "font_weight": "bold"
      }
     },
     "3beed2d2ae624b62a212e2a38386f02a": {
      "model_module": "@jupyter-widgets/base",
      "model_module_version": "1.2.0",
      "model_name": "LayoutModel",
      "state": {}
     },
     "3bf2bf78fc6346bbac6f0866b197b671": {
      "model_module": "@jupyter-widgets/controls",
      "model_module_version": "1.5.0",
      "model_name": "TextModel",
      "state": {
       "description": "script",
       "disabled": true,
       "layout": "IPY_MODEL_169b44200f9747659232187c4ca1e0d4",
       "style": "IPY_MODEL_7326058cd40d42e1b31cca26d194214e",
       "value": "C:\\engDev\\git_mf\\MF_Toolbox\\dev\\mf_scripts\\eplus_pipework_params.py"
      }
     },
     "3bf9e2426fce4a3aa4244f6d544dbdcd": {
      "model_module": "@jupyter-widgets/controls",
      "model_module_version": "1.5.0",
      "model_name": "ButtonStyleModel",
      "state": {
       "font_weight": "bold"
      }
     },
     "3c0abe09ad8b46ef8f4ea2e5e4cbb061": {
      "model_module": "@jupyter-widgets/base",
      "model_module_version": "1.2.0",
      "model_name": "LayoutModel",
      "state": {}
     },
     "3c32f26c68f8400c83284baaf3cf73fa": {
      "model_module": "@jupyter-widgets/output",
      "model_module_version": "1.0.0",
      "model_name": "OutputModel",
      "state": {
       "layout": "IPY_MODEL_a2b5ab305f9b406cbf20f074912f5641"
      }
     },
     "3c3c0d783ac042c2acc3ab7bb22a6235": {
      "model_module": "@jupyter-widgets/base",
      "model_module_version": "1.2.0",
      "model_name": "LayoutModel",
      "state": {}
     },
     "3c5d6fe74cd74e3e91c4e7f9bba56e79": {
      "model_module": "@jupyter-widgets/controls",
      "model_module_version": "1.5.0",
      "model_name": "VBoxModel",
      "state": {
       "children": [
        "IPY_MODEL_9bc79d072f9d47319c019b14b1ef647b",
        "IPY_MODEL_6081628973c34cce9ff9c74b625fcced",
        "IPY_MODEL_dd124ae0e7544d59b926ab64303576a2"
       ],
       "layout": "IPY_MODEL_d120ef4d29554e27a8af61b336858e82"
      }
     },
     "3c6f7c5c8dae48dea7852c37dc43b981": {
      "model_module": "@jupyter-widgets/controls",
      "model_module_version": "1.5.0",
      "model_name": "VBoxModel",
      "state": {
       "children": [
        "IPY_MODEL_264aa13939c9461799c81c843d6b7473",
        "IPY_MODEL_0e7826b58c84449c99e05617d5dbf4dd"
       ],
       "layout": "IPY_MODEL_fb79b553b35446d89210413ef5b485f6"
      }
     },
     "3c7b5eb5e24b4005a5095825f53c510e": {
      "model_module": "@jupyter-widgets/controls",
      "model_module_version": "1.5.0",
      "model_name": "SelectMultipleModel",
      "state": {
       "_options_labels": [
        "C:\\engDev\\git_mf\\ipyrun\\reports\\JupyterReportDemo.pdf"
       ],
       "description": "outputs",
       "index": [],
       "layout": "IPY_MODEL_82022159072a4e34b162fd3623d11dc5",
       "rows": 4,
       "style": "IPY_MODEL_b82450fda282495d960e72d0c10bab65"
      }
     },
     "3c85ea7c7fd04068939567a9a445d2be": {
      "model_module": "@jupyter-widgets/base",
      "model_module_version": "1.2.0",
      "model_name": "LayoutModel",
      "state": {
       "border": "0px",
       "margin": "0px",
       "padding": "0px"
      }
     },
     "3c9a1e3d64d84dffa7bd33d941beba62": {
      "model_module": "@jupyter-widgets/controls",
      "model_module_version": "1.5.0",
      "model_name": "ButtonModel",
      "state": {
       "icon": "eye-slash",
       "layout": "IPY_MODEL_8156b086344046e5b5683bf871ee5a04",
       "style": "IPY_MODEL_457a3b72e90b4409aa7438b017ae3187",
       "tooltip": "removes temporary output view"
      }
     },
     "3c9b1ba9b81a45a1aef06e801d6af6e6": {
      "model_module": "@jupyter-widgets/controls",
      "model_module_version": "1.5.0",
      "model_name": "ButtonStyleModel",
      "state": {
       "font_weight": "bold"
      }
     },
     "3cf8c9e0a8304ecdb18859e0876cb17f": {
      "model_module": "@jupyter-widgets/controls",
      "model_module_version": "1.5.0",
      "model_name": "ButtonModel",
      "state": {
       "button_style": "success",
       "description": "run",
       "layout": "IPY_MODEL_92a51aab90384e1ba8916eac8c633faa",
       "style": "IPY_MODEL_cc7f076d5bec41929c90a3ff9a387480",
       "tooltip": "execute the script based on the user inputs"
      }
     },
     "3cfb82726e5746c3acedc82412876d60": {
      "model_module": "@jupyter-widgets/controls",
      "model_module_version": "1.5.0",
      "model_name": "ButtonStyleModel",
      "state": {
       "font_weight": "bold"
      }
     },
     "3d0b5a2060eb4874b38411b192989a68": {
      "model_module": "@jupyter-widgets/base",
      "model_module_version": "1.2.0",
      "model_name": "LayoutModel",
      "state": {}
     },
     "3d1050788e7c4bde8b1deadfec78430d": {
      "model_module": "@jupyter-widgets/controls",
      "model_module_version": "1.5.0",
      "model_name": "VBoxModel",
      "state": {
       "children": [
        "IPY_MODEL_d48204018d2e4d31b6282bd2fa035632",
        "IPY_MODEL_cc1e492b62a44d0083e0d481711a4294"
       ],
       "layout": "IPY_MODEL_6f34ce1d848d4fa0b2ca583e593e797c"
      }
     },
     "3d26d509ec8148f0b7cc2f56fd6b5ba5": {
      "model_module": "@jupyter-widgets/controls",
      "model_module_version": "1.5.0",
      "model_name": "DescriptionStyleModel",
      "state": {
       "description_width": ""
      }
     },
     "3d3e156b0a1b4666a819c960b61ba37d": {
      "model_module": "@jupyter-widgets/controls",
      "model_module_version": "1.5.0",
      "model_name": "ButtonStyleModel",
      "state": {
       "font_weight": "bold"
      }
     },
     "3d467b3cb8aa44a5b864f92fe68c35c5": {
      "model_module": "@jupyter-widgets/base",
      "model_module_version": "1.2.0",
      "model_name": "LayoutModel",
      "state": {}
     },
     "3d8994a4baed4d358106b975d830f145": {
      "model_module": "@jupyter-widgets/base",
      "model_module_version": "1.2.0",
      "model_name": "LayoutModel",
      "state": {}
     },
     "3d8a53ab9f2f4dea8c2f6facdda260bc": {
      "model_module": "@jupyter-widgets/controls",
      "model_module_version": "1.5.0",
      "model_name": "HBoxModel",
      "state": {
       "children": [
        "IPY_MODEL_5a303dc7102c42aea95114be5c252fcd",
        "IPY_MODEL_408cbd2b45e243ceb1cf458e2ca01ee5",
        "IPY_MODEL_09769a05d9ab4bd88e0c06d5707e8e26",
        "IPY_MODEL_85d739ae3e7742e8a7ddcd023725da02",
        "IPY_MODEL_3de897c1d95d4e5994fe2613c4182b93",
        "IPY_MODEL_57b21fe0cdce4c53a6d04d0296c68a6a",
        "IPY_MODEL_70763ef28a4f44a987c0cfc6ce020554"
       ],
       "layout": "IPY_MODEL_698d8c6717b94fc49c839ca5d4546c86"
      }
     },
     "3d8c22725c3c4741a94048a544c45f40": {
      "model_module": "@jupyter-widgets/base",
      "model_module_version": "1.2.0",
      "model_name": "LayoutModel",
      "state": {}
     },
     "3d910dffa8ac484eb5606814c3fd87c3": {
      "model_module": "@jupyter-widgets/base",
      "model_module_version": "1.2.0",
      "model_name": "LayoutModel",
      "state": {
       "width": "100%"
      }
     },
     "3daaebcf0ee74bc8b04871ee4e315eab": {
      "model_module": "@jupyter-widgets/base",
      "model_module_version": "1.2.0",
      "model_name": "LayoutModel",
      "state": {
       "width": "5%"
      }
     },
     "3db793372ef04573b59809a038a1c35f": {
      "model_module": "@jupyter-widgets/base",
      "model_module_version": "1.2.0",
      "model_name": "LayoutModel",
      "state": {}
     },
     "3dbba3e0357246eea021be9fab829020": {
      "model_module": "@jupyter-widgets/controls",
      "model_module_version": "1.5.0",
      "model_name": "SelectMultipleModel",
      "state": {
       "_options_labels": [
        "C:\\engDev\\git_mf\\ipyrun\\data\\external\\eplus_pipework_params.csv"
       ],
       "description": "outputs",
       "index": [],
       "layout": "IPY_MODEL_c338aa1b91f64260b75cd7c7d5d2284e",
       "rows": 4,
       "style": "IPY_MODEL_799b31478d5c4cd8990dec831abe6215"
      }
     },
     "3dbe283c3e184fd6886a346b7ef58fdc": {
      "model_module": "@jupyter-widgets/controls",
      "model_module_version": "1.5.0",
      "model_name": "ButtonModel",
      "state": {
       "icon": "eye-slash",
       "layout": "IPY_MODEL_4e8ca2a99e774839b7aa11596e375d61",
       "style": "IPY_MODEL_f8330f72156047bca70ab9c3824f09d8",
       "tooltip": "removes temporary output view"
      }
     },
     "3ddf72971b5742889bc05d314c1a935e": {
      "model_module": "@jupyter-widgets/controls",
      "model_module_version": "1.5.0",
      "model_name": "CheckboxModel",
      "state": {
       "disabled": false,
       "indent": false,
       "layout": "IPY_MODEL_41cdf5c623494e4ebcea9b7071c316d1",
       "style": "IPY_MODEL_56c31d572ee342dc8482872a4f2db9df",
       "value": false
      }
     },
     "3de897c1d95d4e5994fe2613c4182b93": {
      "model_module": "@jupyter-widgets/controls",
      "model_module_version": "1.5.0",
      "model_name": "ButtonModel",
      "state": {
       "button_style": "success",
       "description": "run",
       "layout": "IPY_MODEL_92af809a266c436c989ba41a8083d5ce",
       "style": "IPY_MODEL_4c07a46cfb5a46b89ff680f662415aba",
       "tooltip": "execute the script based on the user inputs"
      }
     },
     "3e1077629c4b4fb58c5972d23a17e5cd": {
      "model_module": "@jupyter-widgets/controls",
      "model_module_version": "1.5.0",
      "model_name": "ButtonModel",
      "state": {
       "button_style": "info",
       "description": "show log",
       "layout": "IPY_MODEL_6f20e90fa82c450ea687f094cfb0eefa",
       "style": "IPY_MODEL_1ac985cbbc2140a6ba7b15158aa85174",
       "tooltip": "show a log of when the script was executed to generate the outputs, and by who"
      }
     },
     "3e192d052b4e44b78c98fc364cddc772": {
      "model_module": "@jupyter-widgets/controls",
      "model_module_version": "1.5.0",
      "model_name": "TextModel",
      "state": {
       "description": "inputs",
       "disabled": true,
       "layout": "IPY_MODEL_a056f39eeda345fa9d3c28fa66da4339",
       "style": "IPY_MODEL_a0443f3152e2411d9bc9249aad9af0bd",
       "value": "C:\\engDev\\git_mf\\ipyrun\\ipyrun\\appdata\\inputs\\inputs-docx_to_pdf.json"
      }
     },
     "3e2b137bc67c4504b02509befb368545": {
      "model_module": "@jupyter-widgets/controls",
      "model_module_version": "1.5.0",
      "model_name": "HBoxModel",
      "state": {
       "children": [
        "IPY_MODEL_e9f74f089ecf430aa64b8b0bcd695fba",
        "IPY_MODEL_c455de4626da42509645c4ba669a5e04"
       ],
       "layout": "IPY_MODEL_e4d7b5cf1e574809b2927394c985cfe1"
      }
     },
     "3e2f7574a722489e90b2722a1cb2c935": {
      "model_module": "@jupyter-widgets/base",
      "model_module_version": "1.2.0",
      "model_name": "LayoutModel",
      "state": {
       "height": "30px",
       "width": "auto"
      }
     },
     "3e388bb168604c92b2b7be5add8d19e0": {
      "model_module": "@jupyter-widgets/controls",
      "model_module_version": "1.5.0",
      "model_name": "ButtonModel",
      "state": {
       "icon": "question-circle",
       "layout": "IPY_MODEL_a014206abd7e4e95be8c9e4d312d4ff0",
       "style": "IPY_MODEL_f9ac9aefd851448eb6c9b2499390d953",
       "tooltip": "describes the functionality of elements in the RunApp interface"
      }
     },
     "3e46ec5397e8487c838035e49f9ed97d": {
      "model_module": "@jupyter-widgets/controls",
      "model_module_version": "1.5.0",
      "model_name": "ButtonModel",
      "state": {
       "button_style": "info",
       "description": "show guide",
       "layout": "IPY_MODEL_92f5452def0947989131b22aeb55b726",
       "style": "IPY_MODEL_0e0819d7556643beb26ddabcb643e7e7",
       "tooltip": "read the \"docstring\", ie. the documentation that was written to accompany the script"
      }
     },
     "3e4fcac255f542278eb3bee7a74ad6eb": {
      "model_module": "@jupyter-widgets/controls",
      "model_module_version": "1.5.0",
      "model_name": "ButtonStyleModel",
      "state": {}
     },
     "3e53066c52ca4d29abdbe6923fa876e2": {
      "model_module": "@jupyter-widgets/base",
      "model_module_version": "1.2.0",
      "model_name": "LayoutModel",
      "state": {
       "height": "30px",
       "max_width": "30px",
       "padding": "3px"
      }
     },
     "3e5e71d326e54df9a6a8f0d3571602ed": {
      "model_module": "@jupyter-widgets/base",
      "model_module_version": "1.2.0",
      "model_name": "LayoutModel",
      "state": {
       "width": "5%"
      }
     },
     "3e7c8ba3723349718cd5317eb5d12605": {
      "model_module": "@jupyter-widgets/output",
      "model_module_version": "1.0.0",
      "model_name": "OutputModel",
      "state": {
       "layout": "IPY_MODEL_62be4ec4bed84de78f1e2359522d0d1e"
      }
     },
     "3e889ec4be714dcf99e605576f484128": {
      "model_module": "@jupyter-widgets/controls",
      "model_module_version": "1.5.0",
      "model_name": "ButtonStyleModel",
      "state": {
       "font_weight": "bold"
      }
     },
     "3ea0c592c5a24d3da134a4fd73fd0729": {
      "model_module": "@jupyter-widgets/controls",
      "model_module_version": "1.5.0",
      "model_name": "HBoxModel",
      "state": {
       "children": [
        "IPY_MODEL_b9c52266078d4e8ca266553820040fc3",
        "IPY_MODEL_e20013054a624850bdc454c609eafdc2",
        "IPY_MODEL_de8636c659654d38a11eb377c0c67f2e",
        "IPY_MODEL_5eca3f1aa91b424ba428fc63e7922312"
       ],
       "layout": "IPY_MODEL_c1003ee739274b41a86fd2d6b46d732b"
      }
     },
     "3eadd1ef6be3435faca8c70a566cf967": {
      "model_module": "@jupyter-widgets/controls",
      "model_module_version": "1.5.0",
      "model_name": "ButtonModel",
      "state": {
       "icon": "question-circle",
       "layout": "IPY_MODEL_239d262a0c9643519b27130d4e8fa1a5",
       "style": "IPY_MODEL_fcaf8bc537d7443887f11321aab0ee1b",
       "tooltip": "describes the functionality of elements in the RunApp interface"
      }
     },
     "3ee6cbbe77374152911c28cfbc4b300e": {
      "model_module": "@jupyter-widgets/base",
      "model_module_version": "1.2.0",
      "model_name": "LayoutModel",
      "state": {}
     },
     "3efd339e7e2147f895f19055db5a5c9e": {
      "model_module": "@jupyter-widgets/base",
      "model_module_version": "1.2.0",
      "model_name": "LayoutModel",
      "state": {}
     },
     "3efed7371bba4a28ae44b11eff724550": {
      "model_module": "@jupyter-widgets/base",
      "model_module_version": "1.2.0",
      "model_name": "LayoutModel",
      "state": {
       "align_items": "stretch",
       "width": "100%"
      }
     },
     "3f1c37299a5e48d481236cb56731d608": {
      "model_module": "@jupyter-widgets/controls",
      "model_module_version": "1.5.0",
      "model_name": "VBoxModel",
      "state": {
       "children": [
        "IPY_MODEL_d53eaa6063d54ef8940c15bbbb6d901c",
        "IPY_MODEL_acd6927b222d4f8bb03d4e839d317293"
       ],
       "layout": "IPY_MODEL_d76f796047414ff5a7fb6bbe6bd7af51"
      }
     },
     "3f3373c4ebd04948a358a1f3202f80ba": {
      "model_module": "@jupyter-widgets/controls",
      "model_module_version": "1.5.0",
      "model_name": "ButtonStyleModel",
      "state": {
       "font_weight": "bold"
      }
     },
     "3f3ba421a04e4f80b97d431cf28a7d36": {
      "model_module": "@jupyter-widgets/controls",
      "model_module_version": "1.5.0",
      "model_name": "ButtonModel",
      "state": {
       "button_style": "success",
       "description": "run",
       "layout": "IPY_MODEL_beadd9bff43f418b928b4c4091028b33",
       "style": "IPY_MODEL_cfbc0e4322ae477bb0ce3f562579edab",
       "tooltip": "execute the script based on the user inputs"
      }
     },
     "3f57dd04c97e4a23889c643cbd5497fc": {
      "model_module": "@jupyter-widgets/base",
      "model_module_version": "1.2.0",
      "model_name": "LayoutModel",
      "state": {
       "height": "30px",
       "width": "auto"
      }
     },
     "3f625f74890947e08434ead3e5e2b6be": {
      "model_module": "@jupyter-widgets/base",
      "model_module_version": "1.2.0",
      "model_name": "LayoutModel",
      "state": {}
     },
     "3f63bb3515ac4ece87637e60b1672e2c": {
      "model_module": "@jupyter-widgets/base",
      "model_module_version": "1.2.0",
      "model_name": "LayoutModel",
      "state": {}
     },
     "3f771ea97e5c4a8ba57f38d73b37461f": {
      "model_module": "@jupyter-widgets/controls",
      "model_module_version": "1.5.0",
      "model_name": "DescriptionStyleModel",
      "state": {
       "description_width": ""
      }
     },
     "3f8decd3b74e455588eab8ec92aa9660": {
      "model_module": "@jupyter-widgets/controls",
      "model_module_version": "1.5.0",
      "model_name": "ButtonModel",
      "state": {
       "icon": "eye-slash",
       "layout": "IPY_MODEL_80256435e24a4b8084a38c95ab371510",
       "style": "IPY_MODEL_c82d0aad57ac49dca0e4e09610f0cd36",
       "tooltip": "removes temporary output view"
      }
     },
     "3f914a30f2ec421f8a0d54809a78ec71": {
      "model_module": "@jupyter-widgets/base",
      "model_module_version": "1.2.0",
      "model_name": "LayoutModel",
      "state": {}
     },
     "3f931657ceda48a0a92aaed2fcd209d8": {
      "model_module": "@jupyter-widgets/base",
      "model_module_version": "1.2.0",
      "model_name": "LayoutModel",
      "state": {
       "height": "30px",
       "width": "auto"
      }
     },
     "3f9c510f32944574a213fa126ea41352": {
      "model_module": "@jupyter-widgets/controls",
      "model_module_version": "1.5.0",
      "model_name": "ButtonStyleModel",
      "state": {
       "font_weight": "bold"
      }
     },
     "3fa1b2d88d474f0ba4de5fe595e52401": {
      "model_module": "@jupyter-widgets/controls",
      "model_module_version": "1.5.0",
      "model_name": "DescriptionStyleModel",
      "state": {
       "description_width": ""
      }
     },
     "3fa21b431e394e73b7b42915c1fbb42f": {
      "model_module": "@jupyter-widgets/controls",
      "model_module_version": "1.5.0",
      "model_name": "VBoxModel",
      "state": {
       "children": [
        "IPY_MODEL_4fde79d6cccc43ad83229472aa6858e5",
        "IPY_MODEL_da7519796b894a058eaf1269c461ba19"
       ],
       "layout": "IPY_MODEL_178bea7140b44721af435e7e8f1aa937"
      }
     },
     "3faada7a411b4e939c02042ce3cd5a65": {
      "model_module": "@jupyter-widgets/base",
      "model_module_version": "1.2.0",
      "model_name": "LayoutModel",
      "state": {}
     },
     "3fe6b7bc78ff4c8eb894100bf359915c": {
      "model_module": "@jupyter-widgets/base",
      "model_module_version": "1.2.0",
      "model_name": "LayoutModel",
      "state": {
       "align_items": "stretch",
       "width": "100%"
      }
     },
     "3fef7242b5f546bbbb2799c85b2671d1": {
      "model_module": "@jupyter-widgets/base",
      "model_module_version": "1.2.0",
      "model_name": "LayoutModel",
      "state": {
       "height": "30px",
       "width": "auto"
      }
     },
     "40012905e1c6441baefee7db1b188a58": {
      "model_module": "@jupyter-widgets/controls",
      "model_module_version": "1.5.0",
      "model_name": "ButtonStyleModel",
      "state": {
       "font_weight": "bold"
      }
     },
     "401282ae90a949f9912975c8e2e73033": {
      "model_module": "@jupyter-widgets/base",
      "model_module_version": "1.2.0",
      "model_name": "LayoutModel",
      "state": {}
     },
     "4013612629c04b628ca357416bde1cf8": {
      "model_module": "@jupyter-widgets/base",
      "model_module_version": "1.2.0",
      "model_name": "LayoutModel",
      "state": {}
     },
     "40325d4281494fbb94f2e19e83ed08cf": {
      "model_module": "@jupyter-widgets/base",
      "model_module_version": "1.2.0",
      "model_name": "LayoutModel",
      "state": {}
     },
     "40394ab279124159baed6875c2eb0c90": {
      "model_module": "@jupyter-widgets/controls",
      "model_module_version": "1.5.0",
      "model_name": "DescriptionStyleModel",
      "state": {
       "description_width": ""
      }
     },
     "404991eda5944d8b811960c0162301fb": {
      "model_module": "@jupyter-widgets/base",
      "model_module_version": "1.2.0",
      "model_name": "LayoutModel",
      "state": {
       "align_items": "stretch",
       "width": "100%"
      }
     },
     "4053974692f34de59b4ef9842a64beb6": {
      "model_module": "@jupyter-widgets/controls",
      "model_module_version": "1.5.0",
      "model_name": "TextModel",
      "state": {
       "description": "script",
       "disabled": true,
       "layout": "IPY_MODEL_323f18ad497440f595dea1ced490acfc",
       "style": "IPY_MODEL_f68bbffe697941fab6340e4e4fb324ee",
       "value": "C:\\engDev\\git_mf\\MF_Toolbox\\dev\\mf_scripts\\docx_to_pdf.py"
      }
     },
     "406417e87efe4502a9226034c526ac46": {
      "model_module": "@jupyter-widgets/controls",
      "model_module_version": "1.5.0",
      "model_name": "TextModel",
      "state": {
       "description": "inputs",
       "disabled": true,
       "layout": "IPY_MODEL_fe54404406a545f1b1e5feff2e9c3a6d",
       "style": "IPY_MODEL_ea5226aaa5084519a65b249a4e51261d",
       "value": "C:\\engDev\\git_mf\\ipyrun\\ipyrun\\notebooks\\appdata\\inputs\\inputs-eplus_pipework_params.csv"
      }
     },
     "406c466bd808403c89ff6bbe06c64b14": {
      "model_module": "@jupyter-widgets/controls",
      "model_module_version": "1.5.0",
      "model_name": "ButtonStyleModel",
      "state": {
       "font_weight": "bold"
      }
     },
     "40805bf4f92f4572983b8473468e7c26": {
      "model_module": "@jupyter-widgets/base",
      "model_module_version": "1.2.0",
      "model_name": "LayoutModel",
      "state": {
       "width": "100%"
      }
     },
     "408cbd2b45e243ceb1cf458e2ca01ee5": {
      "model_module": "@jupyter-widgets/controls",
      "model_module_version": "1.5.0",
      "model_name": "ButtonModel",
      "state": {
       "icon": "question-circle",
       "layout": "IPY_MODEL_91001b04db30424486a34deb09f897c0",
       "style": "IPY_MODEL_0994d4ecddc34d929bea2ae863997a9b",
       "tooltip": "describes the functionality of elements in the RunApp interface"
      }
     },
     "40b394b74bff4b2c9f578eaaed25a2c9": {
      "model_module": "@jupyter-widgets/controls",
      "model_module_version": "1.5.0",
      "model_name": "ButtonModel",
      "state": {
       "button_style": "info",
       "description": "show source code",
       "layout": "IPY_MODEL_bb2f66f433c141c2bbd5c2ba1c582e75",
       "style": "IPY_MODEL_c3e434358f9040bdbf150022ad29b39c",
       "tooltip": "shows the raw python code in the preview window below"
      }
     },
     "40c65d29a95f41ca961c4b102c5659b5": {
      "model_module": "@jupyter-widgets/controls",
      "model_module_version": "1.5.0",
      "model_name": "ButtonStyleModel",
      "state": {
       "font_weight": "bold"
      }
     },
     "40f5a70222ed4a278c2a098c8d83b4ea": {
      "model_module": "@jupyter-widgets/base",
      "model_module_version": "1.2.0",
      "model_name": "LayoutModel",
      "state": {}
     },
     "411f3a67c2214f0f9bdd966b8c17c37f": {
      "model_module": "@jupyter-widgets/base",
      "model_module_version": "1.2.0",
      "model_name": "LayoutModel",
      "state": {}
     },
     "41586803f9844e13b2ac7fbd60b79b53": {
      "model_module": "@jupyter-widgets/base",
      "model_module_version": "1.2.0",
      "model_name": "LayoutModel",
      "state": {
       "border": "0px",
       "margin": "0px",
       "padding": "0px"
      }
     },
     "419839afe24742d283892e099510c1b6": {
      "model_module": "@jupyter-widgets/controls",
      "model_module_version": "1.5.0",
      "model_name": "ButtonModel",
      "state": {
       "button_style": "info",
       "description": "show guide",
       "layout": "IPY_MODEL_14da9f59eb1146e6bbac2ed470dffd83",
       "style": "IPY_MODEL_47cc748029fc42aa887f58e88e1ff7b2",
       "tooltip": "read the \"docstring\", ie. the documentation that was written to accompany the script"
      }
     },
     "41c27387459d4c9aa77aa1625f873a20": {
      "model_module": "@jupyter-widgets/base",
      "model_module_version": "1.2.0",
      "model_name": "LayoutModel",
      "state": {
       "height": "30px",
       "max_width": "30px",
       "padding": "3px"
      }
     },
     "41cdf5c623494e4ebcea9b7071c316d1": {
      "model_module": "@jupyter-widgets/base",
      "model_module_version": "1.2.0",
      "model_name": "LayoutModel",
      "state": {
       "height": "30px",
       "max_width": "30px",
       "padding": "3px"
      }
     },
     "41fb3f1dedd8411da0fa66640224e17a": {
      "model_module": "@jupyter-widgets/base",
      "model_module_version": "1.2.0",
      "model_name": "LayoutModel",
      "state": {
       "width": "5%"
      }
     },
     "420c7a299648492d8953e9f597264c4d": {
      "model_module": "@jupyter-widgets/base",
      "model_module_version": "1.2.0",
      "model_name": "LayoutModel",
      "state": {}
     },
     "421f9ccf8a4444d8864773aea0e53b6d": {
      "model_module": "@jupyter-widgets/controls",
      "model_module_version": "1.5.0",
      "model_name": "HBoxModel",
      "state": {
       "children": [
        "IPY_MODEL_690dcb33bed046b289aa7fee1d076783",
        "IPY_MODEL_55d533c52aa649948fe006614cf536c8"
       ],
       "layout": "IPY_MODEL_060b67d05f2e4522a7176f96922bfda1"
      }
     },
     "4221441617f84a6c8cb55603c54ff1b0": {
      "model_module": "@jupyter-widgets/base",
      "model_module_version": "1.2.0",
      "model_name": "LayoutModel",
      "state": {}
     },
     "42228b57cbfe49078840367b983eb0ac": {
      "model_module": "@jupyter-widgets/controls",
      "model_module_version": "1.5.0",
      "model_name": "VBoxModel",
      "state": {
       "children": [
        "IPY_MODEL_f5be9b848bb8422588f325389288ecbc",
        "IPY_MODEL_326988a1df634c90b2e761bbd53afa21",
        "IPY_MODEL_9c032536356a4f179b60c4f92d351ddc"
       ],
       "layout": "IPY_MODEL_5ea6a1af8bf54b3bbd442dc7b0d148cc"
      }
     },
     "4227710021ed40569054b369b8e718c9": {
      "model_module": "@jupyter-widgets/controls",
      "model_module_version": "1.5.0",
      "model_name": "AccordionModel",
      "state": {
       "_titles": {
        "0": "gbxml"
       },
       "children": [
        "IPY_MODEL_244d54ab5a364c3685ea16d5529c93da"
       ],
       "layout": "IPY_MODEL_fccd7bf033604e3aa3274c9638d5f49f",
       "selected_index": null
      }
     },
     "423b8ddab26d4a598b1cb57dfe07e4a2": {
      "model_module": "@jupyter-widgets/controls",
      "model_module_version": "1.5.0",
      "model_name": "CheckboxModel",
      "state": {
       "disabled": false,
       "indent": false,
       "layout": "IPY_MODEL_f2fcaa7e09be4b909cabf560ec0f9aeb",
       "style": "IPY_MODEL_f336a811b3534d9da7f01e98257b0d5a",
       "value": false
      }
     },
     "42416fcc03c34d17b6d1b434b7cac6a2": {
      "model_module": "@jupyter-widgets/controls",
      "model_module_version": "1.5.0",
      "model_name": "DescriptionStyleModel",
      "state": {
       "description_width": ""
      }
     },
     "4278d62d8e714b72a0031be6261d5bc7": {
      "model_module": "@jupyter-widgets/controls",
      "model_module_version": "1.5.0",
      "model_name": "ButtonStyleModel",
      "state": {
       "font_weight": "bold"
      }
     },
     "427e13a3d3cd4094934744a01ca6661b": {
      "model_module": "@jupyter-widgets/base",
      "model_module_version": "1.2.0",
      "model_name": "LayoutModel",
      "state": {}
     },
     "4294caaca8cf4dc1ade4634a71a7920a": {
      "model_module": "@jupyter-widgets/base",
      "model_module_version": "1.2.0",
      "model_name": "LayoutModel",
      "state": {}
     },
     "429a366d2560444db6c6caf38f4b4b2e": {
      "model_module": "@jupyter-widgets/controls",
      "model_module_version": "1.5.0",
      "model_name": "DescriptionStyleModel",
      "state": {
       "description_width": ""
      }
     },
     "42b1d499735945c79ca23b4826de44a5": {
      "model_module": "@jupyter-widgets/controls",
      "model_module_version": "1.5.0",
      "model_name": "VBoxModel",
      "state": {
       "children": [
        "IPY_MODEL_d6a94a2ceebb4547866776c8a47ce2cf",
        "IPY_MODEL_25f660a12ca5428ead2f84737440182f",
        "IPY_MODEL_7371b0286dc64a4a8f140f55393fc43f"
       ],
       "layout": "IPY_MODEL_e795cc2a6fbb4f21accc7818e3aad07d"
      }
     },
     "42b9910465dc4e15a704c43c1705f732": {
      "model_module": "@jupyter-widgets/base",
      "model_module_version": "1.2.0",
      "model_name": "LayoutModel",
      "state": {}
     },
     "42c9292b675943dca825ff8fad538398": {
      "model_module": "@jupyter-widgets/controls",
      "model_module_version": "1.5.0",
      "model_name": "ButtonStyleModel",
      "state": {
       "font_weight": "bold"
      }
     },
     "42d1e7b5c5d646cebd6e74cace5a0663": {
      "model_module": "@jupyter-widgets/controls",
      "model_module_version": "1.5.0",
      "model_name": "ButtonModel",
      "state": {
       "icon": "eye-slash",
       "layout": "IPY_MODEL_c2642a2ebc7d42bcae4885a9465286ae",
       "style": "IPY_MODEL_a7839d5ce2644694a5e321aa7a6c3012",
       "tooltip": "removes temporary output view"
      }
     },
     "42e6c8e4c8114431a32e1a96f1f4ff3b": {
      "model_module": "@jupyter-widgets/base",
      "model_module_version": "1.2.0",
      "model_name": "LayoutModel",
      "state": {}
     },
     "4304124eb7954d18af632186b1687dce": {
      "model_module": "@jupyter-widgets/controls",
      "model_module_version": "1.5.0",
      "model_name": "DescriptionStyleModel",
      "state": {
       "description_width": ""
      }
     },
     "431bb69a26254281b709be6ca1a59ff6": {
      "model_module": "@jupyter-widgets/base",
      "model_module_version": "1.2.0",
      "model_name": "LayoutModel",
      "state": {
       "align_items": "stretch",
       "width": "100%"
      }
     },
     "4334e0730d704129a05143905ff187fc": {
      "model_module": "@jupyter-widgets/controls",
      "model_module_version": "1.5.0",
      "model_name": "ButtonStyleModel",
      "state": {}
     },
     "4379bfa33dac48ee8d32c82d040a1c6c": {
      "model_module": "@jupyter-widgets/controls",
      "model_module_version": "1.5.0",
      "model_name": "SelectMultipleModel",
      "state": {
       "_options_labels": [
        "C:\\engDev\\git_mf\\ipyrun\\data\\external\\eplus_pipework_params.csv"
       ],
       "description": "outputs",
       "index": [],
       "layout": "IPY_MODEL_457532e4a16a40c9a61747b211d8a472",
       "rows": 4,
       "style": "IPY_MODEL_1393bd3392dc40e383cef7904a59be1c"
      }
     },
     "43d0b3eb99324890a43c951b92334fb8": {
      "model_module": "@jupyter-widgets/base",
      "model_module_version": "1.2.0",
      "model_name": "LayoutModel",
      "state": {}
     },
     "43d6cf94a43d4972bfa25154ea8fabf0": {
      "model_module": "@jupyter-widgets/base",
      "model_module_version": "1.2.0",
      "model_name": "LayoutModel",
      "state": {
       "height": "30px",
       "width": "auto"
      }
     },
     "43dc829535854b7dac84d1d202324420": {
      "model_module": "@jupyter-widgets/base",
      "model_module_version": "1.2.0",
      "model_name": "LayoutModel",
      "state": {}
     },
     "43f47c6c86a44a768a4857a5be20bdb4": {
      "model_module": "@jupyter-widgets/base",
      "model_module_version": "1.2.0",
      "model_name": "LayoutModel",
      "state": {
       "width": "100%"
      }
     },
     "44076b16563c4f6e859d2d0e267c500e": {
      "model_module": "@jupyter-widgets/controls",
      "model_module_version": "1.5.0",
      "model_name": "TextModel",
      "state": {
       "description": "inputs",
       "disabled": true,
       "layout": "IPY_MODEL_ebb8a026677542d580e024f688602066",
       "style": "IPY_MODEL_4acc1013445a404a8a454b173c29775d",
       "value": "C:\\engDev\\git_mf\\ipyrun\\ipyrun\\appdata\\inputs\\inputs-eplus_pipework_params.csv"
      }
     },
     "441fbb263dde4d0eac42c270b3aead36": {
      "model_module": "@jupyter-widgets/base",
      "model_module_version": "1.2.0",
      "model_name": "LayoutModel",
      "state": {}
     },
     "442e9ce7cad64ba589ec330b675047e0": {
      "model_module": "@jupyter-widgets/controls",
      "model_module_version": "1.5.0",
      "model_name": "ButtonStyleModel",
      "state": {
       "font_weight": "bold"
      }
     },
     "4439ce1566614ee7b19b5c48e1542f5d": {
      "model_module": "@jupyter-widgets/base",
      "model_module_version": "1.2.0",
      "model_name": "LayoutModel",
      "state": {}
     },
     "446a1d2de2bb4dbb8a85732f76e4a6e4": {
      "model_module": "@jupyter-widgets/controls",
      "model_module_version": "1.5.0",
      "model_name": "BoxModel",
      "state": {
       "children": [
        "IPY_MODEL_868bf6149906480ba4172dd15168a9f7"
       ],
       "layout": "IPY_MODEL_776677dca009435cbe06b4509e8898d8"
      }
     },
     "446f70462c3741f09bc7ba83b619582f": {
      "model_module": "@jupyter-widgets/base",
      "model_module_version": "1.2.0",
      "model_name": "LayoutModel",
      "state": {}
     },
     "4485e621e2da4020a5f664037821f30a": {
      "model_module": "@jupyter-widgets/controls",
      "model_module_version": "1.5.0",
      "model_name": "TextModel",
      "state": {
       "description": "inputs",
       "disabled": true,
       "layout": "IPY_MODEL_dd396884d4d54378b1f8c0457fb6c2b2",
       "style": "IPY_MODEL_5c74e9f056704318bdb663f64af438d3",
       "value": "C:\\engDev\\git_mf\\ipyrun\\ipyrun\\notebooks\\appdata\\inputs\\inputs-eplus_pipework_params.csv"
      }
     },
     "44965f021036428ca738103afe90d03c": {
      "model_module": "@jupyter-widgets/controls",
      "model_module_version": "1.5.0",
      "model_name": "HBoxModel",
      "state": {
       "children": [
        "IPY_MODEL_a1cd6b94f7b847af94621074492654aa",
        "IPY_MODEL_de9b8e53386c4355bc1abdd337287af6"
       ],
       "layout": "IPY_MODEL_94f152a404094db7a3d1f9095737985f"
      }
     },
     "449c76fe99424c8fb5516b4099add6f3": {
      "model_module": "@jupyter-widgets/controls",
      "model_module_version": "1.5.0",
      "model_name": "ButtonStyleModel",
      "state": {
       "font_weight": "bold"
      }
     },
     "44a404d85f584f5f8180693ac5771631": {
      "model_module": "@jupyter-widgets/base",
      "model_module_version": "1.2.0",
      "model_name": "LayoutModel",
      "state": {
       "align_items": "stretch",
       "width": "100%"
      }
     },
     "44c91809a4274d99b0f5471debfbfdac": {
      "model_module": "@jupyter-widgets/controls",
      "model_module_version": "1.5.0",
      "model_name": "TextModel",
      "state": {
       "description": "inputs",
       "disabled": true,
       "layout": "IPY_MODEL_475301ed28a14d67b516173fde668c19",
       "style": "IPY_MODEL_2da240a9b5384055bed6f3921e2a1b9e",
       "value": "C:\\engDev\\git_mf\\ipyrun\\ipyrun\\appdata\\inputs\\inputs-eplus_pipework_params.csv"
      }
     },
     "44e283fb8eb64539a84fc60345ca105d": {
      "model_module": "@jupyter-widgets/base",
      "model_module_version": "1.2.0",
      "model_name": "LayoutModel",
      "state": {}
     },
     "44ef9d48491f47b9b0c81747de700e1f": {
      "model_module": "@jupyter-widgets/controls",
      "model_module_version": "1.5.0",
      "model_name": "ButtonModel",
      "state": {
       "icon": "question-circle",
       "layout": "IPY_MODEL_57fbe37d141e4c21b0f3b7b2347f8ca8",
       "style": "IPY_MODEL_2f8d49752ac6447691458931677d8e6f",
       "tooltip": "describes the functionality of elements in the RunApp interface"
      }
     },
     "450409b014fc4f34abf3ba5a51f493ee": {
      "model_module": "@jupyter-widgets/base",
      "model_module_version": "1.2.0",
      "model_name": "LayoutModel",
      "state": {
       "align_items": "stretch",
       "width": "100%"
      }
     },
     "45093dc5418e4c0faed87367ebd21171": {
      "model_module": "@jupyter-widgets/base",
      "model_module_version": "1.2.0",
      "model_name": "LayoutModel",
      "state": {
       "height": "30px",
       "max_width": "30px",
       "padding": "3px"
      }
     },
     "45112567195f4d719a470cc4effe9c22": {
      "model_module": "@jupyter-widgets/controls",
      "model_module_version": "1.5.0",
      "model_name": "VBoxModel",
      "state": {
       "children": [
        "IPY_MODEL_55ea65a87adc4115b28fd1117dad1b65",
        "IPY_MODEL_16df707371264d3484ce0e52eeb122b9"
       ],
       "layout": "IPY_MODEL_88582f52c0fc4bc9a66709dd750821bb"
      }
     },
     "45256a907dbc43d5a1b58545d3d025f4": {
      "model_module": "@jupyter-widgets/controls",
      "model_module_version": "1.5.0",
      "model_name": "ButtonStyleModel",
      "state": {
       "font_weight": "bold"
      }
     },
     "452f8492ecbe497dada5ffd16aa28d8b": {
      "model_module": "@jupyter-widgets/controls",
      "model_module_version": "1.5.0",
      "model_name": "VBoxModel",
      "state": {
       "children": [
        "IPY_MODEL_2cc0696fa0ee43ada1a7c5b8729d3612",
        "IPY_MODEL_69882ed94dc44ccab42570739292cbe8"
       ],
       "layout": "IPY_MODEL_f9a506ba0121455da60e60e99af0f654"
      }
     },
     "45576e8cf21e44f7916b370f63687045": {
      "model_module": "@jupyter-widgets/output",
      "model_module_version": "1.0.0",
      "model_name": "OutputModel",
      "state": {
       "layout": "IPY_MODEL_3f625f74890947e08434ead3e5e2b6be"
      }
     },
     "455e108238e34eafb107e081bd64d86a": {
      "model_module": "@jupyter-widgets/controls",
      "model_module_version": "1.5.0",
      "model_name": "ButtonModel",
      "state": {
       "button_style": "info",
       "description": "show source code",
       "layout": "IPY_MODEL_178e57fe641246bfbed5531fe4d5f981",
       "style": "IPY_MODEL_61d71b4a71dd4d749101d485c67aac74",
       "tooltip": "shows the raw python code in the preview window below"
      }
     },
     "45741c81e035492791aa5b8d6e884ce5": {
      "model_module": "@jupyter-widgets/base",
      "model_module_version": "1.2.0",
      "model_name": "LayoutModel",
      "state": {}
     },
     "457532e4a16a40c9a61747b211d8a472": {
      "model_module": "@jupyter-widgets/base",
      "model_module_version": "1.2.0",
      "model_name": "LayoutModel",
      "state": {
       "height": "30px",
       "width": "auto"
      }
     },
     "4578a0dd2b1f440ba7407dcbec646cd7": {
      "model_module": "@jupyter-widgets/controls",
      "model_module_version": "1.5.0",
      "model_name": "HBoxModel",
      "state": {
       "children": [
        "IPY_MODEL_fd62adadd36646ddac92138bb04a5170",
        "IPY_MODEL_2883522d60d448f89ca13b2222bd5359"
       ],
       "layout": "IPY_MODEL_046afa55fea44587b594e655f73b0dfa"
      }
     },
     "457a3b72e90b4409aa7438b017ae3187": {
      "model_module": "@jupyter-widgets/controls",
      "model_module_version": "1.5.0",
      "model_name": "ButtonStyleModel",
      "state": {
       "font_weight": "bold"
      }
     },
     "45b6ae0bc7a540d4b8f7dd813e3145ed": {
      "model_module": "@jupyter-widgets/base",
      "model_module_version": "1.2.0",
      "model_name": "LayoutModel",
      "state": {}
     },
     "45c475caf7ab4f9089846d2020f8ca79": {
      "model_module": "@jupyter-widgets/controls",
      "model_module_version": "1.5.0",
      "model_name": "ButtonStyleModel",
      "state": {}
     },
     "45c878480d8a4fed9a988a87ee065c86": {
      "model_module": "@jupyter-widgets/base",
      "model_module_version": "1.2.0",
      "model_name": "LayoutModel",
      "state": {}
     },
     "45d9631befc3473da1aa720d5d512ee7": {
      "model_module": "@jupyter-widgets/base",
      "model_module_version": "1.2.0",
      "model_name": "LayoutModel",
      "state": {
       "height": "30px",
       "width": "auto"
      }
     },
     "45dc1a098fb54c7395ef3c87a159cc90": {
      "model_module": "@jupyter-widgets/controls",
      "model_module_version": "1.5.0",
      "model_name": "AccordionModel",
      "state": {
       "_titles": {
        "0": "eplus_pipework_params"
       },
       "children": [
        "IPY_MODEL_e78f539ba5be4c9ca24a5fc333d9afcf"
       ],
       "layout": "IPY_MODEL_6cef302f99674479a62f3fa23e159eb1",
       "selected_index": null
      }
     },
     "45e2587c8b6e4a958f6a4b3b80a3f63d": {
      "model_module": "@jupyter-widgets/base",
      "model_module_version": "1.2.0",
      "model_name": "LayoutModel",
      "state": {
       "height": "30px",
       "max_width": "30px",
       "padding": "3px"
      }
     },
     "45e8c5f1aa0b46fe80e9b3ba032f5634": {
      "model_module": "@jupyter-widgets/controls",
      "model_module_version": "1.5.0",
      "model_name": "ButtonStyleModel",
      "state": {
       "font_weight": "bold"
      }
     },
     "45ec768dc04c4b2284352b52d99d0084": {
      "model_module": "@jupyter-widgets/base",
      "model_module_version": "1.2.0",
      "model_name": "LayoutModel",
      "state": {
       "height": "30px",
       "width": "auto"
      }
     },
     "4614df4be2fd492ea25d033786f53d32": {
      "model_module": "@jupyter-widgets/base",
      "model_module_version": "1.2.0",
      "model_name": "LayoutModel",
      "state": {
       "width": "5%"
      }
     },
     "461c1beb4fe749978429b90137255909": {
      "model_module": "@jupyter-widgets/base",
      "model_module_version": "1.2.0",
      "model_name": "LayoutModel",
      "state": {}
     },
     "461d2a31c3dc4734b455a02b6cf2c762": {
      "model_module": "@jupyter-widgets/controls",
      "model_module_version": "1.5.0",
      "model_name": "VBoxModel",
      "state": {
       "children": [
        "IPY_MODEL_5e96cabb76174717bd07a3bf5ab39715",
        "IPY_MODEL_a4fbb6fe7b644a46b41d9092c91a48f0",
        "IPY_MODEL_18b040671ad04f429d03d551db9d6d76"
       ],
       "layout": "IPY_MODEL_38fba74e38b64dff99ff43ed7f94b16c"
      }
     },
     "46211b5bd2a64df88dcf0218aa4d7661": {
      "model_module": "@jupyter-widgets/controls",
      "model_module_version": "1.5.0",
      "model_name": "CheckboxModel",
      "state": {
       "disabled": false,
       "indent": false,
       "layout": "IPY_MODEL_e6f37dbec365437681ffb0851bb62618",
       "style": "IPY_MODEL_51fc17a237aa46a1abfc80499f158bf6",
       "value": false
      }
     },
     "462dbc50feff4b628b969f40d138ca29": {
      "model_module": "@jupyter-widgets/controls",
      "model_module_version": "1.5.0",
      "model_name": "DescriptionStyleModel",
      "state": {
       "description_width": ""
      }
     },
     "46467755c3bd4290a0151e6be5306123": {
      "model_module": "@jupyter-widgets/base",
      "model_module_version": "1.2.0",
      "model_name": "LayoutModel",
      "state": {}
     },
     "464d8cf8c3b9412da0a242f66da46eab": {
      "model_module": "@jupyter-widgets/controls",
      "model_module_version": "1.5.0",
      "model_name": "ButtonStyleModel",
      "state": {
       "font_weight": "bold"
      }
     },
     "46727aff0430429c875fb267acab058e": {
      "model_module": "@jupyter-widgets/controls",
      "model_module_version": "1.5.0",
      "model_name": "ButtonModel",
      "state": {
       "button_style": "info",
       "description": "show guide",
       "layout": "IPY_MODEL_86eab9366580417fafd7d4df1ecb051a",
       "style": "IPY_MODEL_b80795c08ea347d6b39aab59aa5adb99",
       "tooltip": "read the \"docstring\", ie. the documentation that was written to accompany the script"
      }
     },
     "46741701053b4ce29b6c9d43847b7b03": {
      "model_module": "@jupyter-widgets/base",
      "model_module_version": "1.2.0",
      "model_name": "LayoutModel",
      "state": {
       "width": "5%"
      }
     },
     "4678253c3fa24332928651a33b5c39ed": {
      "model_module": "@jupyter-widgets/controls",
      "model_module_version": "1.5.0",
      "model_name": "TextModel",
      "state": {
       "description": "inputs",
       "disabled": true,
       "layout": "IPY_MODEL_8350274ec9304ef2ac49778eec7bca95",
       "style": "IPY_MODEL_ef5ca9f535a04d6b9c39bd84537741af",
       "value": "C:\\engDev\\git_mf\\ipyrun\\ipyrun\\notebooks\\appdata\\inputs\\inputs-eplus_pipework_params.csv"
      }
     },
     "4684e2edb2174ec8b50f43d0513bfc62": {
      "model_module": "@jupyter-widgets/controls",
      "model_module_version": "1.5.0",
      "model_name": "ButtonModel",
      "state": {
       "icon": "question-circle",
       "layout": "IPY_MODEL_ceb076f6d625499ea9510c0022481f3b",
       "style": "IPY_MODEL_c7c59fa0a9da476b87bf77e5d1579002",
       "tooltip": "describes the functionality of elements in the RunApp interface"
      }
     },
     "468be5379bcf47b7bf8f589022c9f4d6": {
      "model_module": "@jupyter-widgets/base",
      "model_module_version": "1.2.0",
      "model_name": "LayoutModel",
      "state": {}
     },
     "469346b401d84a7f82db768ed6e53e75": {
      "model_module": "@jupyter-widgets/base",
      "model_module_version": "1.2.0",
      "model_name": "LayoutModel",
      "state": {
       "width": "5%"
      }
     },
     "469e0b5443c74a53ad0357e91369f2e8": {
      "model_module": "@jupyter-widgets/controls",
      "model_module_version": "1.5.0",
      "model_name": "DescriptionStyleModel",
      "state": {
       "description_width": ""
      }
     },
     "46b37619cda04847991fa9b2a71b3bbf": {
      "model_module": "@jupyter-widgets/base",
      "model_module_version": "1.2.0",
      "model_name": "LayoutModel",
      "state": {}
     },
     "46bcf297f27440e4bc2746c95e89be36": {
      "model_module": "@jupyter-widgets/base",
      "model_module_version": "1.2.0",
      "model_name": "LayoutModel",
      "state": {}
     },
     "46d8b2a07952403eb69b3bcb5d750b0f": {
      "model_module": "@jupyter-widgets/base",
      "model_module_version": "1.2.0",
      "model_name": "LayoutModel",
      "state": {
       "width": "5%"
      }
     },
     "46e1d003246c4862997025ad34ff4022": {
      "model_module": "@jupyter-widgets/controls",
      "model_module_version": "1.5.0",
      "model_name": "DescriptionStyleModel",
      "state": {
       "description_width": ""
      }
     },
     "4713ba1e1a9647f4b8bf6bee4436acbc": {
      "model_module": "@jupyter-widgets/controls",
      "model_module_version": "1.5.0",
      "model_name": "CheckboxModel",
      "state": {
       "disabled": false,
       "indent": false,
       "layout": "IPY_MODEL_081fdfe840914ccb9911b275d9f12eb4",
       "style": "IPY_MODEL_030ab31c2b5e4fca92e38b73a88019ad",
       "value": false
      }
     },
     "471b9e727a64447a9e3d397b4c6d3552": {
      "model_module": "@jupyter-widgets/controls",
      "model_module_version": "1.5.0",
      "model_name": "ButtonModel",
      "state": {
       "button_style": "warning",
       "description": "edit inputs",
       "layout": "IPY_MODEL_af043e3ace384e9ab57dd98a8ad035cd",
       "style": "IPY_MODEL_e713ea5d313f4677b5d237531d24a1f6",
       "tooltip": "edit the user input information that is used when the script is executed"
      }
     },
     "471f9da260a74f0880b535218cfaa295": {
      "model_module": "@jupyter-widgets/controls",
      "model_module_version": "1.5.0",
      "model_name": "DescriptionStyleModel",
      "state": {
       "description_width": ""
      }
     },
     "472242720b604f4da106557212a4cf82": {
      "model_module": "@jupyter-widgets/controls",
      "model_module_version": "1.5.0",
      "model_name": "HBoxModel",
      "state": {
       "children": [
        "IPY_MODEL_88d7f1f6e15a4529a37d96ae1d15388f",
        "IPY_MODEL_930a41eb9be942a3a92967402ec841c0",
        "IPY_MODEL_040b2c149c2440dfa8eedd8f4783a5e2",
        "IPY_MODEL_d2dc5e120c9c4f63bcbd80200da5b599",
        "IPY_MODEL_8b8279b4b4c64845b9280b56898dccc5",
        "IPY_MODEL_daeaff3aea53446f976cab516e2c7615",
        "IPY_MODEL_bcd6b33174db40eea598cb39d7094fa5"
       ],
       "layout": "IPY_MODEL_311a7b705c91484ca9eda36d9efc5b7f"
      }
     },
     "472a6fe1e888487aa56ca227adda6e04": {
      "model_module": "@jupyter-widgets/base",
      "model_module_version": "1.2.0",
      "model_name": "LayoutModel",
      "state": {
       "align_items": "stretch",
       "width": "100%"
      }
     },
     "47430cdcdcce42d2b847ba176aefe34d": {
      "model_module": "@jupyter-widgets/controls",
      "model_module_version": "1.5.0",
      "model_name": "ButtonModel",
      "state": {
       "button_style": "info",
       "description": "show log",
       "layout": "IPY_MODEL_a8db09f6f318448b98b4485657121a98",
       "style": "IPY_MODEL_e6c658c243d74663a1c76b9261fd330a",
       "tooltip": "show a log of when the script was executed to generate the outputs, and by who"
      }
     },
     "475301ed28a14d67b516173fde668c19": {
      "model_module": "@jupyter-widgets/base",
      "model_module_version": "1.2.0",
      "model_name": "LayoutModel",
      "state": {
       "height": "30px",
       "width": "auto"
      }
     },
     "475798c8e2f041af96c305f5b695b263": {
      "model_module": "@jupyter-widgets/base",
      "model_module_version": "1.2.0",
      "model_name": "LayoutModel",
      "state": {
       "height": "30px",
       "width": "auto"
      }
     },
     "47701a40c4ea4c2e97974f4f5a46d40a": {
      "model_module": "@jupyter-widgets/base",
      "model_module_version": "1.2.0",
      "model_name": "LayoutModel",
      "state": {}
     },
     "47814bd39ad14ecdb5233f8d229da183": {
      "model_module": "@jupyter-widgets/base",
      "model_module_version": "1.2.0",
      "model_name": "LayoutModel",
      "state": {}
     },
     "478cae0d013c4d0abb65fd3c2b2838ca": {
      "model_module": "@jupyter-widgets/controls",
      "model_module_version": "1.5.0",
      "model_name": "CheckboxModel",
      "state": {
       "disabled": false,
       "indent": false,
       "layout": "IPY_MODEL_1c1fc4a1696d4d8e8816fda0b5c21050",
       "style": "IPY_MODEL_4c0f739e4fe94678b2dbb249665b10b6",
       "value": false
      }
     },
     "47b044107a0d42cea2ebd9660926f809": {
      "model_module": "@jupyter-widgets/controls",
      "model_module_version": "1.5.0",
      "model_name": "TextModel",
      "state": {
       "description": "script",
       "disabled": true,
       "layout": "IPY_MODEL_6ad07be6035649b9922535e0b2dacde2",
       "style": "IPY_MODEL_8707742883f14e89830de42eeb0dd6e3",
       "value": "C:\\engDev\\git_mf\\MF_Toolbox\\dev\\mf_scripts\\eplus_pipework_params.py"
      }
     },
     "47ba540d1d6c4c5095116b68b9fcb93f": {
      "model_module": "@jupyter-widgets/base",
      "model_module_version": "1.2.0",
      "model_name": "LayoutModel",
      "state": {}
     },
     "47cc748029fc42aa887f58e88e1ff7b2": {
      "model_module": "@jupyter-widgets/controls",
      "model_module_version": "1.5.0",
      "model_name": "ButtonStyleModel",
      "state": {
       "font_weight": "bold"
      }
     },
     "47d3aed45f17434b8ee3a9c1f1cae95a": {
      "model_module": "@jupyter-widgets/controls",
      "model_module_version": "1.5.0",
      "model_name": "ButtonStyleModel",
      "state": {
       "font_weight": "bold"
      }
     },
     "47dba7fd6f0547f2a368f5c990b35076": {
      "model_module": "@jupyter-widgets/base",
      "model_module_version": "1.2.0",
      "model_name": "LayoutModel",
      "state": {}
     },
     "481573fba49a4e949d25f069db6c02b0": {
      "model_module": "@jupyter-widgets/controls",
      "model_module_version": "1.5.0",
      "model_name": "SelectMultipleModel",
      "state": {
       "_options_labels": [
        "C:\\engDev\\git_mf\\ipyrun\\reports\\JupyterReportDemo.pdf"
       ],
       "description": "outputs",
       "index": [],
       "layout": "IPY_MODEL_27f55d94ffac4f28b4dbb1c226ed4a84",
       "rows": 4,
       "style": "IPY_MODEL_244cef56b82c4bcb80ebacce8693d0fe"
      }
     },
     "484bcb39cf8d4b32b6daf04d8ee54f2d": {
      "model_module": "@jupyter-widgets/controls",
      "model_module_version": "1.5.0",
      "model_name": "SelectMultipleModel",
      "state": {
       "_options_labels": [
        "C:\\engDev\\git_mf\\ipyrun\\data\\external\\eplus_pipework_params.csv"
       ],
       "description": "outputs",
       "index": [],
       "layout": "IPY_MODEL_aa4136432b4c4c83a0f2ecfae470a0dc",
       "rows": 4,
       "style": "IPY_MODEL_f5f8236ecdd74cdb9e7f24d2476e6661"
      }
     },
     "48733c2d9d084824af0b0d466494caf7": {
      "model_module": "@jupyter-widgets/controls",
      "model_module_version": "1.5.0",
      "model_name": "HBoxModel",
      "state": {
       "children": [
        "IPY_MODEL_749fd61080dd4876bbf7c5978068e98c",
        "IPY_MODEL_e54bf7584b374a1a8dae7ee5a815c96d"
       ],
       "layout": "IPY_MODEL_944552e98c4f4e3392e256877fef5e84"
      }
     },
     "48787c4cfd114836b3258e990fb07978": {
      "model_module": "@jupyter-widgets/controls",
      "model_module_version": "1.5.0",
      "model_name": "DescriptionStyleModel",
      "state": {
       "description_width": ""
      }
     },
     "48ce314e885c4151a9fada7530737a96": {
      "model_module": "@jupyter-widgets/output",
      "model_module_version": "1.0.0",
      "model_name": "OutputModel",
      "state": {
       "layout": "IPY_MODEL_3d467b3cb8aa44a5b864f92fe68c35c5"
      }
     },
     "48f989c55fc445ac8beff6e8187f79fb": {
      "model_module": "@jupyter-widgets/controls",
      "model_module_version": "1.5.0",
      "model_name": "CheckboxModel",
      "state": {
       "disabled": false,
       "indent": false,
       "layout": "IPY_MODEL_1b4825be4c524e8db1cc1a4f446f2b24",
       "style": "IPY_MODEL_f1ada225feb34c14b008e7d2d04c235a",
       "value": false
      }
     },
     "48fe4d4f64714066890326c11fb52c05": {
      "model_module": "@jupyter-widgets/controls",
      "model_module_version": "1.5.0",
      "model_name": "ButtonStyleModel",
      "state": {
       "font_weight": "bold"
      }
     },
     "49006a700a1a46669f7bf333cdf7ebb5": {
      "model_module": "@jupyter-widgets/controls",
      "model_module_version": "1.5.0",
      "model_name": "VBoxModel",
      "state": {
       "children": [
        "IPY_MODEL_446a1d2de2bb4dbb8a85732f76e4a6e4",
        "IPY_MODEL_624924d5808345e18e16c596372fb0e8"
       ],
       "layout": "IPY_MODEL_23ce0e05a3ef4e3a97c75dedc046de35"
      }
     },
     "4919086f320d46df9370fc3ec87aca72": {
      "model_module": "@jupyter-widgets/controls",
      "model_module_version": "1.5.0",
      "model_name": "SelectMultipleModel",
      "state": {
       "_options_labels": [
        "C:\\engDev\\git_mf\\ipyrun\\reports\\JupyterReportDemo.pdf"
       ],
       "description": "outputs",
       "index": [],
       "layout": "IPY_MODEL_4e5999e3253b44c283b5ba1e75b1af63",
       "rows": 4,
       "style": "IPY_MODEL_2b4299b90ad64831b59ea4a2e14ae0d5"
      }
     },
     "49201142cbae4ef481cb063269d75dc0": {
      "model_module": "@jupyter-widgets/base",
      "model_module_version": "1.2.0",
      "model_name": "LayoutModel",
      "state": {
       "align_items": "stretch",
       "width": "100%"
      }
     },
     "49248e5757ae4537a8119ea130ff83ae": {
      "model_module": "@jupyter-widgets/controls",
      "model_module_version": "1.5.0",
      "model_name": "ButtonStyleModel",
      "state": {
       "font_weight": "bold"
      }
     },
     "492c92934b804f4d9038c2c77596d9b7": {
      "model_module": "@jupyter-widgets/controls",
      "model_module_version": "1.5.0",
      "model_name": "DescriptionStyleModel",
      "state": {
       "description_width": ""
      }
     },
     "492da95ba065443fb9fc25fd86debc9d": {
      "model_module": "@jupyter-widgets/controls",
      "model_module_version": "1.5.0",
      "model_name": "ButtonStyleModel",
      "state": {
       "font_weight": "bold"
      }
     },
     "49447299d16b4faa9e380a94b4169d53": {
      "model_module": "@jupyter-widgets/controls",
      "model_module_version": "1.5.0",
      "model_name": "ButtonModel",
      "state": {
       "icon": "eye-slash",
       "layout": "IPY_MODEL_76f5e7c12eba4349bf94b34de09e18ca",
       "style": "IPY_MODEL_e9a9c435bcd64b10940bc53a35b96195",
       "tooltip": "removes temporary output view"
      }
     },
     "494e29a9e22044ac8321c7d66684f2a5": {
      "model_module": "@jupyter-widgets/base",
      "model_module_version": "1.2.0",
      "model_name": "LayoutModel",
      "state": {
       "align_items": "stretch",
       "width": "100%"
      }
     },
     "49603218c5c040b4bb13ca1a413f6d82": {
      "model_module": "@jupyter-widgets/base",
      "model_module_version": "1.2.0",
      "model_name": "LayoutModel",
      "state": {}
     },
     "4964ea4b9f44473cb7713ff5c474f9e6": {
      "model_module": "@jupyter-widgets/base",
      "model_module_version": "1.2.0",
      "model_name": "LayoutModel",
      "state": {}
     },
     "49705dfafae447488df17370cd60bd5d": {
      "model_module": "@jupyter-widgets/controls",
      "model_module_version": "1.5.0",
      "model_name": "ButtonStyleModel",
      "state": {
       "font_weight": "bold"
      }
     },
     "49d36fe9baf94dea97d696ff4d7afbee": {
      "model_module": "@jupyter-widgets/controls",
      "model_module_version": "1.5.0",
      "model_name": "ButtonStyleModel",
      "state": {
       "font_weight": "bold"
      }
     },
     "49d461e8b19b47d18f0560ca2bef1910": {
      "model_module": "@jupyter-widgets/controls",
      "model_module_version": "1.5.0",
      "model_name": "ButtonStyleModel",
      "state": {
       "font_weight": "bold"
      }
     },
     "49d4a1f418c541839bc1c431a177bb18": {
      "model_module": "@jupyter-widgets/controls",
      "model_module_version": "1.5.0",
      "model_name": "VBoxModel",
      "state": {
       "children": [
        "IPY_MODEL_ad9f5f098cae48959b36a98312fc299c",
        "IPY_MODEL_19a119780a2d47a8970810b883430437",
        "IPY_MODEL_26da621b91d949da801563275c0338ab"
       ],
       "layout": "IPY_MODEL_d868bd8b503b464b87754cabd92ce07e"
      }
     },
     "49d60b78234b4c4a98aed55df4eadaa9": {
      "model_module": "@jupyter-widgets/base",
      "model_module_version": "1.2.0",
      "model_name": "LayoutModel",
      "state": {}
     },
     "49f542161086423f97081aeb68ecf4e6": {
      "model_module": "@jupyter-widgets/base",
      "model_module_version": "1.2.0",
      "model_name": "LayoutModel",
      "state": {
       "align_items": "stretch",
       "width": "100%"
      }
     },
     "4a19d921714d449ca8d88ef460fd1444": {
      "model_module": "@jupyter-widgets/controls",
      "model_module_version": "1.5.0",
      "model_name": "ButtonModel",
      "state": {
       "icon": "eye-slash",
       "layout": "IPY_MODEL_b794ecd5f37b4cc48872f051b09771cf",
       "style": "IPY_MODEL_83829d9afd0347df9608d4e48ccd1ec5",
       "tooltip": "removes temporary output view"
      }
     },
     "4a3e1c04df0143088ee514a2ac297836": {
      "model_module": "@jupyter-widgets/base",
      "model_module_version": "1.2.0",
      "model_name": "LayoutModel",
      "state": {}
     },
     "4a43e5fead3f432686b6abedf4436032": {
      "model_module": "@jupyter-widgets/controls",
      "model_module_version": "1.5.0",
      "model_name": "BoxModel",
      "state": {
       "children": [
        "IPY_MODEL_27eeb70e14264faba85cb411bada9c1b"
       ],
       "layout": "IPY_MODEL_0472889f5e4841ed8a48db8c62e1df57"
      }
     },
     "4a5119f434a04f95a0d9cd47132a29b3": {
      "model_module": "@jupyter-widgets/controls",
      "model_module_version": "1.5.0",
      "model_name": "ButtonStyleModel",
      "state": {}
     },
     "4a88ab3907244b28a315410a465049a8": {
      "model_module": "@jupyter-widgets/base",
      "model_module_version": "1.2.0",
      "model_name": "LayoutModel",
      "state": {
       "height": "30px",
       "width": "auto"
      }
     },
     "4a8a0f360c7442c1aa38f74889ab540f": {
      "model_module": "@jupyter-widgets/base",
      "model_module_version": "1.2.0",
      "model_name": "LayoutModel",
      "state": {
       "align_items": "stretch",
       "width": "100%"
      }
     },
     "4a93e602d13f40749f11bc63a5bc9269": {
      "model_module": "@jupyter-widgets/controls",
      "model_module_version": "1.5.0",
      "model_name": "ButtonModel",
      "state": {
       "button_style": "warning",
       "description": "edit inputs",
       "layout": "IPY_MODEL_2109cd066e6248a093ec33717c022663",
       "style": "IPY_MODEL_22dbe25b4c4a4a9397e413368d3f7bcf",
       "tooltip": "edit the user input information that is used when the script is executed"
      }
     },
     "4a9e8bb6dc4043518bcef283e6e99fe8": {
      "model_module": "@jupyter-widgets/base",
      "model_module_version": "1.2.0",
      "model_name": "LayoutModel",
      "state": {}
     },
     "4acc1013445a404a8a454b173c29775d": {
      "model_module": "@jupyter-widgets/controls",
      "model_module_version": "1.5.0",
      "model_name": "DescriptionStyleModel",
      "state": {
       "description_width": ""
      }
     },
     "4ae902273ba94736b5a964e6766f9d0d": {
      "model_module": "@jupyter-widgets/base",
      "model_module_version": "1.2.0",
      "model_name": "LayoutModel",
      "state": {}
     },
     "4af673025e1f4f62905692204c18b2f8": {
      "model_module": "@jupyter-widgets/controls",
      "model_module_version": "1.5.0",
      "model_name": "DescriptionStyleModel",
      "state": {
       "description_width": ""
      }
     },
     "4b08ff6187e14a03ac0514b918b2a576": {
      "model_module": "@jupyter-widgets/controls",
      "model_module_version": "1.5.0",
      "model_name": "VBoxModel",
      "state": {
       "children": [
        "IPY_MODEL_8e21e6bd7b2248d9b8fed16a808a3fdb",
        "IPY_MODEL_fad549aa81ce49448b2e4cb4a4b24002",
        "IPY_MODEL_67d141a9dc594c739b3eb723852aff18"
       ],
       "layout": "IPY_MODEL_a6da52b6507845c18b23c280a6a59e9d"
      }
     },
     "4b0ddb71f677455081d77f1836491523": {
      "model_module": "@jupyter-widgets/base",
      "model_module_version": "1.2.0",
      "model_name": "LayoutModel",
      "state": {}
     },
     "4b12cfe6c5e647dabc318c2edbb3b1cd": {
      "model_module": "@jupyter-widgets/controls",
      "model_module_version": "1.5.0",
      "model_name": "ButtonModel",
      "state": {
       "button_style": "info",
       "description": "preview outputs",
       "layout": "IPY_MODEL_9729b7edf3fe4d32a351c44169bf67cb",
       "style": "IPY_MODEL_0802fdd54e72436f8192046f2bbc8d1e",
       "tooltip": "show a preview of the output files generated when the script runs"
      }
     },
     "4b43ce63ccd54650a189eac824961c6c": {
      "model_module": "@jupyter-widgets/base",
      "model_module_version": "1.2.0",
      "model_name": "LayoutModel",
      "state": {
       "height": "30px",
       "max_width": "30px",
       "padding": "3px"
      }
     },
     "4b5b1c015445481c994f672c8b4d1278": {
      "model_module": "@jupyter-widgets/controls",
      "model_module_version": "1.5.0",
      "model_name": "ButtonStyleModel",
      "state": {
       "font_weight": "bold"
      }
     },
     "4b7134bd3a804107b29fe8ed235d0811": {
      "model_module": "@jupyter-widgets/base",
      "model_module_version": "1.2.0",
      "model_name": "LayoutModel",
      "state": {}
     },
     "4b7bfa9680804f6cbd4bc3165c36c5bf": {
      "model_module": "@jupyter-widgets/base",
      "model_module_version": "1.2.0",
      "model_name": "LayoutModel",
      "state": {
       "border": "0px",
       "margin": "0px",
       "padding": "0px"
      }
     },
     "4b89ca5cafcc48c69fcb69da81041826": {
      "model_module": "@jupyter-widgets/base",
      "model_module_version": "1.2.0",
      "model_name": "LayoutModel",
      "state": {
       "width": "100%"
      }
     },
     "4bb16e41131a40419c21bdcc277e073e": {
      "model_module": "@jupyter-widgets/controls",
      "model_module_version": "1.5.0",
      "model_name": "ButtonStyleModel",
      "state": {
       "font_weight": "bold"
      }
     },
     "4bcf1b25590f46728ded2f8d9d373e3e": {
      "model_module": "@jupyter-widgets/controls",
      "model_module_version": "1.5.0",
      "model_name": "ButtonModel",
      "state": {
       "icon": "eye-slash",
       "layout": "IPY_MODEL_d4dad27ddc3f4bb18f62df55ee18eabc",
       "style": "IPY_MODEL_87f9479f6ee448969b2a07eac5806484",
       "tooltip": "removes temporary output view"
      }
     },
     "4bed498383d0488882bbed62cae17dc5": {
      "model_module": "@jupyter-widgets/base",
      "model_module_version": "1.2.0",
      "model_name": "LayoutModel",
      "state": {}
     },
     "4bf3b1b8f6374ad4a932b15d41703746": {
      "model_module": "@jupyter-widgets/controls",
      "model_module_version": "1.5.0",
      "model_name": "ButtonModel",
      "state": {
       "icon": "question-circle",
       "layout": "IPY_MODEL_3325061ccbfc4581b18c4646525767c5",
       "style": "IPY_MODEL_222e5615cd0f4a6b89fc12fb6b18fd36",
       "tooltip": "describes the functionality of elements in the RunApp interface"
      }
     },
     "4bf7760523514ec3b1e2ef616c5a13de": {
      "model_module": "@jupyter-widgets/controls",
      "model_module_version": "1.5.0",
      "model_name": "SelectMultipleModel",
      "state": {
       "_options_labels": [
        "C:\\engDev\\git_mf\\ipyrun\\data\\raw\\gbxml.xml",
        "C:\\engDev\\git_mf\\ipyrun\\data\\interim\\gbjson.json",
        "C:\\engDev\\git_mf\\ipyrun\\data\\processed\\gbxml_datagrab.xlsx",
        "C:\\engDev\\git_mf\\ipyrun\\data\\processed\\gbxml_spcs-treemap.png"
       ],
       "description": "outputs",
       "index": [],
       "layout": "IPY_MODEL_f2b24f91cd874e2f9a1152802094f1f0",
       "rows": 4,
       "style": "IPY_MODEL_94af966ea691416b8bf359a916bdfa52"
      }
     },
     "4bf8634c4a224510877beca58057f587": {
      "model_module": "@jupyter-widgets/base",
      "model_module_version": "1.2.0",
      "model_name": "LayoutModel",
      "state": {}
     },
     "4c07a46cfb5a46b89ff680f662415aba": {
      "model_module": "@jupyter-widgets/controls",
      "model_module_version": "1.5.0",
      "model_name": "ButtonStyleModel",
      "state": {
       "font_weight": "bold"
      }
     },
     "4c0f739e4fe94678b2dbb249665b10b6": {
      "model_module": "@jupyter-widgets/controls",
      "model_module_version": "1.5.0",
      "model_name": "DescriptionStyleModel",
      "state": {
       "description_width": ""
      }
     },
     "4c30a7c9681d4a7ba7e48385c266a2b4": {
      "model_module": "@jupyter-widgets/base",
      "model_module_version": "1.2.0",
      "model_name": "LayoutModel",
      "state": {}
     },
     "4c52ead46d0642b985dc546c7f4a6c86": {
      "model_module": "@jupyter-widgets/controls",
      "model_module_version": "1.5.0",
      "model_name": "ButtonStyleModel",
      "state": {
       "font_weight": "bold"
      }
     },
     "4c5711d838f644f690ed98c0048bf162": {
      "model_module": "@jupyter-widgets/controls",
      "model_module_version": "1.5.0",
      "model_name": "ButtonStyleModel",
      "state": {
       "font_weight": "bold"
      }
     },
     "4cb052ec5fda47e480b6761efa9b29f8": {
      "model_module": "@jupyter-widgets/controls",
      "model_module_version": "1.5.0",
      "model_name": "ButtonStyleModel",
      "state": {
       "font_weight": "bold"
      }
     },
     "4cb23473891a4f28be2f3fa276103abe": {
      "model_module": "@jupyter-widgets/base",
      "model_module_version": "1.2.0",
      "model_name": "LayoutModel",
      "state": {
       "width": "5%"
      }
     },
     "4cc256b3de9d4e06a5cb4f7284f61b7c": {
      "model_module": "@jupyter-widgets/base",
      "model_module_version": "1.2.0",
      "model_name": "LayoutModel",
      "state": {
       "width": "5%"
      }
     },
     "4cccc50c9be2429694bb83aa383824c7": {
      "model_module": "@jupyter-widgets/base",
      "model_module_version": "1.2.0",
      "model_name": "LayoutModel",
      "state": {
       "border": "0px",
       "margin": "0px",
       "padding": "0px"
      }
     },
     "4ce06caf7145493589d19d1493a8b501": {
      "model_module": "@jupyter-widgets/controls",
      "model_module_version": "1.5.0",
      "model_name": "ButtonModel",
      "state": {
       "button_style": "success",
       "description": "run",
       "layout": "IPY_MODEL_8074ac1f5d654b52a930993f495b786b",
       "style": "IPY_MODEL_7d96a48f00f24c3c96ff5ef3ab6c1dcb",
       "tooltip": "execute the script based on the user inputs"
      }
     },
     "4d01231d451046d9be60172854e062a2": {
      "model_module": "@jupyter-widgets/controls",
      "model_module_version": "1.5.0",
      "model_name": "DescriptionStyleModel",
      "state": {
       "description_width": ""
      }
     },
     "4d171dcdde944038b9f31531192763e7": {
      "model_module": "@jupyter-widgets/base",
      "model_module_version": "1.2.0",
      "model_name": "LayoutModel",
      "state": {}
     },
     "4d2682abc0654822a7c7c9eee18e17a5": {
      "model_module": "@jupyter-widgets/controls",
      "model_module_version": "1.5.0",
      "model_name": "ButtonStyleModel",
      "state": {
       "font_weight": "bold"
      }
     },
     "4d2a3ed12562434c998621034800fa92": {
      "model_module": "@jupyter-widgets/base",
      "model_module_version": "1.2.0",
      "model_name": "LayoutModel",
      "state": {
       "height": "30px",
       "max_width": "30px",
       "padding": "3px"
      }
     },
     "4d2adc85b48b4d408a4f83ede0d50239": {
      "model_module": "@jupyter-widgets/base",
      "model_module_version": "1.2.0",
      "model_name": "LayoutModel",
      "state": {
       "align_items": "stretch",
       "width": "100%"
      }
     },
     "4d4eb93b80de432ba2f6772dd903b5be": {
      "model_module": "@jupyter-widgets/controls",
      "model_module_version": "1.5.0",
      "model_name": "ButtonStyleModel",
      "state": {
       "font_weight": "bold"
      }
     },
     "4d6bef5804524f77a4914ae6f7df2410": {
      "model_module": "@jupyter-widgets/base",
      "model_module_version": "1.2.0",
      "model_name": "LayoutModel",
      "state": {
       "align_items": "stretch",
       "width": "100%"
      }
     },
     "4d95cc7722e540de990bc8ffa220777c": {
      "model_module": "@jupyter-widgets/controls",
      "model_module_version": "1.5.0",
      "model_name": "ButtonModel",
      "state": {
       "icon": "eye-slash",
       "layout": "IPY_MODEL_81cdb0a41b554cd3b457d7ab5499185d",
       "style": "IPY_MODEL_2e4fad9e093a444f8c206b6bf3453f81",
       "tooltip": "removes temporary output view"
      }
     },
     "4db6af23edb5419ea680fa999dc109d1": {
      "model_module": "@jupyter-widgets/controls",
      "model_module_version": "1.5.0",
      "model_name": "DescriptionStyleModel",
      "state": {
       "description_width": ""
      }
     },
     "4de6b8616c304bf6bf7de719b6504aca": {
      "model_module": "@jupyter-widgets/controls",
      "model_module_version": "1.5.0",
      "model_name": "DescriptionStyleModel",
      "state": {
       "description_width": ""
      }
     },
     "4df4bcc1d2ee4d2897f163f961251dd0": {
      "model_module": "@jupyter-widgets/base",
      "model_module_version": "1.2.0",
      "model_name": "LayoutModel",
      "state": {
       "border": "0px",
       "margin": "0px",
       "padding": "0px"
      }
     },
     "4e0155555d9c4ee4b67fb63f72aeac8b": {
      "model_module": "@jupyter-widgets/controls",
      "model_module_version": "1.5.0",
      "model_name": "ButtonModel",
      "state": {
       "button_style": "warning",
       "description": "edit inputs",
       "layout": "IPY_MODEL_4a9e8bb6dc4043518bcef283e6e99fe8",
       "style": "IPY_MODEL_a13cb95e84c4492687bd4b6b479f3e84",
       "tooltip": "edit the user input information that is used when the script is executed"
      }
     },
     "4e10ec0370ee41c1b21de952e2dcdda8": {
      "model_module": "@jupyter-widgets/controls",
      "model_module_version": "1.5.0",
      "model_name": "AccordionModel",
      "state": {
       "_titles": {
        "0": "docx_to_pdf"
       },
       "children": [
        "IPY_MODEL_508cdac42b2540e198328a00be2a3572"
       ],
       "layout": "IPY_MODEL_311eb6e996a74fb9893b520d84521e2c",
       "selected_index": null
      }
     },
     "4e2aececcba64653a0b0aa13b85350e3": {
      "model_module": "@jupyter-widgets/controls",
      "model_module_version": "1.5.0",
      "model_name": "HBoxModel",
      "state": {
       "children": [
        "IPY_MODEL_c559ef8994154fac84d8d4a0b1f69f63",
        "IPY_MODEL_0f8e6d40da664d13b932a59de2ba9374"
       ],
       "layout": "IPY_MODEL_b440fc7e96d64750b1e3db17e5bb73e0"
      }
     },
     "4e3a19b992ca4088a8346a39b92a31bc": {
      "model_module": "@jupyter-widgets/base",
      "model_module_version": "1.2.0",
      "model_name": "LayoutModel",
      "state": {}
     },
     "4e5999e3253b44c283b5ba1e75b1af63": {
      "model_module": "@jupyter-widgets/base",
      "model_module_version": "1.2.0",
      "model_name": "LayoutModel",
      "state": {
       "height": "30px",
       "width": "auto"
      }
     },
     "4e600636d7714c009701dd02cdf8ed1b": {
      "model_module": "@jupyter-widgets/controls",
      "model_module_version": "1.5.0",
      "model_name": "DescriptionStyleModel",
      "state": {
       "description_width": ""
      }
     },
     "4e62c643a02a4728ad91660f64a973ea": {
      "model_module": "@jupyter-widgets/base",
      "model_module_version": "1.2.0",
      "model_name": "LayoutModel",
      "state": {
       "height": "30px",
       "width": "auto"
      }
     },
     "4e7e0d7441374ecf8d648d95cdbd0269": {
      "model_module": "@jupyter-widgets/controls",
      "model_module_version": "1.5.0",
      "model_name": "VBoxModel",
      "state": {
       "children": [
        "IPY_MODEL_e000470964474689bcdbc29c943b0ff8",
        "IPY_MODEL_74d48f888b154943b551c96255955095"
       ],
       "layout": "IPY_MODEL_e4da384d401d44a1ab120c532f78b798"
      }
     },
     "4e8457db10f0480ab8fb77b328699a14": {
      "model_module": "@jupyter-widgets/base",
      "model_module_version": "1.2.0",
      "model_name": "LayoutModel",
      "state": {}
     },
     "4e8abfb403a14c15b4fc48acd478cc60": {
      "model_module": "@jupyter-widgets/controls",
      "model_module_version": "1.5.0",
      "model_name": "TextModel",
      "state": {
       "description": "inputs",
       "disabled": true,
       "layout": "IPY_MODEL_0c351227689f4639b12cfbeabc0b0a33",
       "style": "IPY_MODEL_e43702cef03f445699c614c8cc4299ca",
       "value": "C:\\engDev\\git_mf\\ipyrun\\ipyrun\\appdata\\inputs\\inputs-docx_to_pdf.json"
      }
     },
     "4e8ca2a99e774839b7aa11596e375d61": {
      "model_module": "@jupyter-widgets/base",
      "model_module_version": "1.2.0",
      "model_name": "LayoutModel",
      "state": {
       "width": "5%"
      }
     },
     "4ed0b13257194db89d881ee662847d97": {
      "model_module": "@jupyter-widgets/controls",
      "model_module_version": "1.5.0",
      "model_name": "BoxModel",
      "state": {
       "children": [
        "IPY_MODEL_a262de6ddf9c4e2da72c1352abc52122"
       ],
       "layout": "IPY_MODEL_28f957d2829d4c739da6089ba1b31cd4"
      }
     },
     "4ed2972d90224214829ae4b44af491cd": {
      "model_module": "@jupyter-widgets/base",
      "model_module_version": "1.2.0",
      "model_name": "LayoutModel",
      "state": {
       "width": "5%"
      }
     },
     "4ee08a591c2841c48ab630b022a55872": {
      "model_module": "@jupyter-widgets/controls",
      "model_module_version": "1.5.0",
      "model_name": "ButtonStyleModel",
      "state": {}
     },
     "4ee7ac3ba16341faa0a2c0acafb7e07f": {
      "model_module": "@jupyter-widgets/base",
      "model_module_version": "1.2.0",
      "model_name": "LayoutModel",
      "state": {}
     },
     "4ee87063745b48e9a78c620ebeb21ff9": {
      "model_module": "@jupyter-widgets/base",
      "model_module_version": "1.2.0",
      "model_name": "LayoutModel",
      "state": {
       "width": "5%"
      }
     },
     "4f070804278b405080b9d166fa3da6e3": {
      "model_module": "@jupyter-widgets/controls",
      "model_module_version": "1.5.0",
      "model_name": "ButtonModel",
      "state": {
       "button_style": "info",
       "description": "preview outputs",
       "layout": "IPY_MODEL_8ae8240bf66c4d4cb9f86feac0dfefeb",
       "style": "IPY_MODEL_c8c4e58c05614e13bbf2be203ec72311",
       "tooltip": "show a preview of the output files generated when the script runs"
      }
     },
     "4f5b9b6fcb984746aa0a46d89b07a179": {
      "model_module": "@jupyter-widgets/base",
      "model_module_version": "1.2.0",
      "model_name": "LayoutModel",
      "state": {}
     },
     "4f89ed58c68f44809706ee8679cf7860": {
      "model_module": "@jupyter-widgets/controls",
      "model_module_version": "1.5.0",
      "model_name": "ButtonStyleModel",
      "state": {
       "font_weight": "bold"
      }
     },
     "4fa5ad0c204048ca81811b8457163bf7": {
      "model_module": "@jupyter-widgets/base",
      "model_module_version": "1.2.0",
      "model_name": "LayoutModel",
      "state": {}
     },
     "4fde79d6cccc43ad83229472aa6858e5": {
      "model_module": "@jupyter-widgets/controls",
      "model_module_version": "1.5.0",
      "model_name": "HBoxModel",
      "state": {
       "children": [
        "IPY_MODEL_48f989c55fc445ac8beff6e8187f79fb",
        "IPY_MODEL_9a39a7477b29423880f247813212a800"
       ],
       "layout": "IPY_MODEL_b4e81b800d5547faa4f9663182a4aaa2"
      }
     },
     "500516924e6e462c8cef27c1ed02c572": {
      "model_module": "@jupyter-widgets/base",
      "model_module_version": "1.2.0",
      "model_name": "LayoutModel",
      "state": {}
     },
     "5051ad085af642b78b47fab70c0d97d3": {
      "model_module": "@jupyter-widgets/output",
      "model_module_version": "1.0.0",
      "model_name": "OutputModel",
      "state": {
       "layout": "IPY_MODEL_d1da535495bc41b69584c301f302e480"
      }
     },
     "50695946e82a4375a85e35b49142d94c": {
      "model_module": "@jupyter-widgets/controls",
      "model_module_version": "1.5.0",
      "model_name": "ButtonStyleModel",
      "state": {
       "font_weight": "bold"
      }
     },
     "5072260fcddb43ab81fc97642dc2013a": {
      "model_module": "@jupyter-widgets/controls",
      "model_module_version": "1.5.0",
      "model_name": "ButtonModel",
      "state": {
       "button_style": "info",
       "description": "show log",
       "layout": "IPY_MODEL_36f5d10e8e354083a55802385013f4d5",
       "style": "IPY_MODEL_cf004487c98548e1a722e1962499ad64",
       "tooltip": "show a log of when the script was executed to generate the outputs, and by who"
      }
     },
     "50769b06d07c4ce6a7b3a6661fe8d6e9": {
      "model_module": "@jupyter-widgets/controls",
      "model_module_version": "1.5.0",
      "model_name": "AccordionModel",
      "state": {
       "_titles": {
        "0": "docx_to_pdf"
       },
       "children": [
        "IPY_MODEL_9df7349a652a4d38a995576ce608832a"
       ],
       "layout": "IPY_MODEL_4b89ca5cafcc48c69fcb69da81041826",
       "selected_index": null
      }
     },
     "508cdac42b2540e198328a00be2a3572": {
      "model_module": "@jupyter-widgets/controls",
      "model_module_version": "1.5.0",
      "model_name": "VBoxModel",
      "state": {
       "children": [
        "IPY_MODEL_8fbc78ddd20e40ab9820efc45dd95389",
        "IPY_MODEL_17f2e620280f4af0bedcb6a3f54e9775"
       ],
       "layout": "IPY_MODEL_61f23df76cc94c73b9869c6b5ae0b155"
      }
     },
     "5090816b52054d039ada285034239f4e": {
      "model_module": "@jupyter-widgets/controls",
      "model_module_version": "1.5.0",
      "model_name": "ButtonModel",
      "state": {
       "button_style": "info",
       "description": "preview outputs",
       "layout": "IPY_MODEL_bd30dbf1eaaa4cdba052bd92ccf046dd",
       "style": "IPY_MODEL_0e7b6fc3afc24e9c85eea1d59bfdb236",
       "tooltip": "show a preview of the output files generated when the script runs"
      }
     },
     "509cffcf648849b390b33c6304938b66": {
      "model_module": "@jupyter-widgets/output",
      "model_module_version": "1.0.0",
      "model_name": "OutputModel",
      "state": {
       "layout": "IPY_MODEL_2394166b81e2420d97e627412c32f37e"
      }
     },
     "50a8e45059da457488192b0af4c46514": {
      "model_module": "@jupyter-widgets/base",
      "model_module_version": "1.2.0",
      "model_name": "LayoutModel",
      "state": {}
     },
     "50bb41a6e9e44ff885489e7b47ddb305": {
      "model_module": "@jupyter-widgets/controls",
      "model_module_version": "1.5.0",
      "model_name": "DescriptionStyleModel",
      "state": {
       "description_width": ""
      }
     },
     "50c6650003284cb4badfadd0720e671d": {
      "model_module": "@jupyter-widgets/controls",
      "model_module_version": "1.5.0",
      "model_name": "ButtonStyleModel",
      "state": {
       "font_weight": "bold"
      }
     },
     "50d59359b8f248728ef911ffc47786c8": {
      "model_module": "@jupyter-widgets/base",
      "model_module_version": "1.2.0",
      "model_name": "LayoutModel",
      "state": {
       "width": "100%"
      }
     },
     "50d972b7b5af4753bdb86934b8fda0bf": {
      "model_module": "@jupyter-widgets/base",
      "model_module_version": "1.2.0",
      "model_name": "LayoutModel",
      "state": {}
     },
     "510fddff2a9949e68a4c830af4a13c25": {
      "model_module": "@jupyter-widgets/base",
      "model_module_version": "1.2.0",
      "model_name": "LayoutModel",
      "state": {}
     },
     "5160dd36d76c4634a3531e6073d6e816": {
      "model_module": "@jupyter-widgets/base",
      "model_module_version": "1.2.0",
      "model_name": "LayoutModel",
      "state": {
       "height": "30px",
       "max_width": "30px",
       "padding": "3px"
      }
     },
     "5187d816c70b48d0a9e9ea198e2ea9c6": {
      "model_module": "@jupyter-widgets/controls",
      "model_module_version": "1.5.0",
      "model_name": "ButtonStyleModel",
      "state": {
       "font_weight": "bold"
      }
     },
     "518cd24fa4d246dabb1865ddec64aaf1": {
      "model_module": "@jupyter-widgets/controls",
      "model_module_version": "1.5.0",
      "model_name": "VBoxModel",
      "state": {
       "children": [
        "IPY_MODEL_6d910c66efde492b858177cb22efa9c2",
        "IPY_MODEL_3874439dd06d4a2bb13a530016079144",
        "IPY_MODEL_70ed46d56d2d423ea0b21c5713b62192"
       ],
       "layout": "IPY_MODEL_00294f971b9a4e2e8dc93f287c690228"
      }
     },
     "51b9e8fe3d814dddb6b60cb857687466": {
      "model_module": "@jupyter-widgets/base",
      "model_module_version": "1.2.0",
      "model_name": "LayoutModel",
      "state": {
       "height": "30px",
       "width": "auto"
      }
     },
     "51bfb01ad87445b291333ee402388a44": {
      "model_module": "@jupyter-widgets/controls",
      "model_module_version": "1.5.0",
      "model_name": "DescriptionStyleModel",
      "state": {
       "description_width": ""
      }
     },
     "51e0a5c60da84e139d2bea65702a7a21": {
      "model_module": "@jupyter-widgets/base",
      "model_module_version": "1.2.0",
      "model_name": "LayoutModel",
      "state": {}
     },
     "51e5810b87394f249bf8c9c54cca77e6": {
      "model_module": "@jupyter-widgets/controls",
      "model_module_version": "1.5.0",
      "model_name": "ButtonStyleModel",
      "state": {
       "font_weight": "bold"
      }
     },
     "51edb48b7b73418ca38710b8ac9a49aa": {
      "model_module": "@jupyter-widgets/controls",
      "model_module_version": "1.5.0",
      "model_name": "ButtonModel",
      "state": {
       "button_style": "info",
       "description": "preview outputs",
       "layout": "IPY_MODEL_3b53f56ce33b481a8ca58042839309ca",
       "style": "IPY_MODEL_ec5275e03c7b4c06ac5b54946c9fdd16",
       "tooltip": "show a preview of the output files generated when the script runs"
      }
     },
     "51fc17a237aa46a1abfc80499f158bf6": {
      "model_module": "@jupyter-widgets/controls",
      "model_module_version": "1.5.0",
      "model_name": "DescriptionStyleModel",
      "state": {
       "description_width": ""
      }
     },
     "524eadfe004740d3adda362517f156e9": {
      "model_module": "@jupyter-widgets/controls",
      "model_module_version": "1.5.0",
      "model_name": "ButtonStyleModel",
      "state": {}
     },
     "525056a904314f6ab90696f48c03d46b": {
      "model_module": "@jupyter-widgets/controls",
      "model_module_version": "1.5.0",
      "model_name": "DescriptionStyleModel",
      "state": {
       "description_width": ""
      }
     },
     "5280556f304e44878adb88204b72104f": {
      "model_module": "@jupyter-widgets/controls",
      "model_module_version": "1.5.0",
      "model_name": "VBoxModel",
      "state": {
       "children": [
        "IPY_MODEL_8ba973abef32418ca90d4d4dd46ea6c8",
        "IPY_MODEL_c36f49b3eec44b03921b4dabf925a315",
        "IPY_MODEL_5b28200ea26642fd8c1776578de994dd"
       ],
       "layout": "IPY_MODEL_929e79e080b1413bab108b2d2b603eb0"
      }
     },
     "52878c5cd3b248ed8b3e0680b5a5fce6": {
      "model_module": "@jupyter-widgets/controls",
      "model_module_version": "1.5.0",
      "model_name": "ButtonStyleModel",
      "state": {
       "font_weight": "bold"
      }
     },
     "52a6b93f09c341c2838892a4024b4051": {
      "model_module": "@jupyter-widgets/base",
      "model_module_version": "1.2.0",
      "model_name": "LayoutModel",
      "state": {
       "height": "30px",
       "width": "auto"
      }
     },
     "52d7560ace4c4a57b8e61444e59d674d": {
      "model_module": "@jupyter-widgets/controls",
      "model_module_version": "1.5.0",
      "model_name": "TextModel",
      "state": {
       "description": "script",
       "disabled": true,
       "layout": "IPY_MODEL_d2f81c0fd8b740ca8f0d3c694ee2f655",
       "style": "IPY_MODEL_f33c05c9b296438daad8368e67757cc7",
       "value": "C:\\engDev\\git_mf\\MF_Toolbox\\dev\\mf_scripts\\gbxml.py"
      }
     },
     "52dbb53f24154693a5cd1cde6a9319bf": {
      "model_module": "@jupyter-widgets/controls",
      "model_module_version": "1.5.0",
      "model_name": "BoxModel",
      "state": {
       "children": [
        "IPY_MODEL_5c6e07dcb5274178ba618412b653dae1"
       ],
       "layout": "IPY_MODEL_a44e4b1e2e6340398f7b5eea3ea99568"
      }
     },
     "52e252ef092b42c888e9798d1e417f23": {
      "model_module": "@jupyter-widgets/base",
      "model_module_version": "1.2.0",
      "model_name": "LayoutModel",
      "state": {
       "height": "30px",
       "width": "auto"
      }
     },
     "52fe0e42b24749c68f19ec59a5cb1436": {
      "model_module": "@jupyter-widgets/controls",
      "model_module_version": "1.5.0",
      "model_name": "HBoxModel",
      "state": {
       "children": [
        "IPY_MODEL_3659b6ea8a2643fca9302337f5b7279a",
        "IPY_MODEL_90ce8afa2dee4cdcbd468d413aaf130a",
        "IPY_MODEL_3a85d9c5df414a42a91925fce484798e",
        "IPY_MODEL_bb4e32d2d728477aa48685d2a4fda910",
        "IPY_MODEL_34e118af648545bd8c20fb1f66847560",
        "IPY_MODEL_5fb6b64bc5204906bd229915ca63d949",
        "IPY_MODEL_071eeb39e6014e20b7d06dbe99eebd3f"
       ],
       "layout": "IPY_MODEL_229b56c4688d4491b44f005285aadd79"
      }
     },
     "5322388a72a2401f951e2a57c8a7e605": {
      "model_module": "@jupyter-widgets/controls",
      "model_module_version": "1.5.0",
      "model_name": "ButtonModel",
      "state": {
       "icon": "question-circle",
       "layout": "IPY_MODEL_fd2a4cb589ca46dd84bd438e45554207",
       "style": "IPY_MODEL_c9cf4254a04744e4a37af1b82f321d33",
       "tooltip": "describes the functionality of elements in the RunApp interface"
      }
     },
     "5323546fecd84c559a550e21552e11bf": {
      "model_module": "@jupyter-widgets/base",
      "model_module_version": "1.2.0",
      "model_name": "LayoutModel",
      "state": {
       "border": "0px",
       "margin": "0px",
       "padding": "0px"
      }
     },
     "5328c9edeb0546178bb70825704d1b83": {
      "model_module": "@jupyter-widgets/controls",
      "model_module_version": "1.5.0",
      "model_name": "ButtonModel",
      "state": {
       "button_style": "info",
       "description": "preview outputs",
       "layout": "IPY_MODEL_e1e6c9ca4db349eda4aa4c0bec6d2bd1",
       "style": "IPY_MODEL_3e889ec4be714dcf99e605576f484128",
       "tooltip": "show a preview of the output files generated when the script runs"
      }
     },
     "532d5367522b463facacba3bd11f4c44": {
      "model_module": "@jupyter-widgets/controls",
      "model_module_version": "1.5.0",
      "model_name": "ButtonStyleModel",
      "state": {
       "font_weight": "bold"
      }
     },
     "5343a26b8dac4c738c7197312f4ce7c3": {
      "model_module": "@jupyter-widgets/base",
      "model_module_version": "1.2.0",
      "model_name": "LayoutModel",
      "state": {}
     },
     "5348bcb281674c9db7c37ce12a4113f8": {
      "model_module": "@jupyter-widgets/base",
      "model_module_version": "1.2.0",
      "model_name": "LayoutModel",
      "state": {}
     },
     "5374c2bfee394667a67dd539bb17999b": {
      "model_module": "@jupyter-widgets/controls",
      "model_module_version": "1.5.0",
      "model_name": "ButtonStyleModel",
      "state": {
       "font_weight": "bold"
      }
     },
     "53773ef0cd8e4a8aae6f62a99c561ede": {
      "model_module": "@jupyter-widgets/controls",
      "model_module_version": "1.5.0",
      "model_name": "VBoxModel",
      "state": {
       "children": [
        "IPY_MODEL_ca211d82544b480dbaa68577604a78b1",
        "IPY_MODEL_a5846aa66d26422bab40aaadbee1c69e",
        "IPY_MODEL_4379bfa33dac48ee8d32c82d040a1c6c"
       ],
       "layout": "IPY_MODEL_acfe410e6646449489c01628c8c4ea9f"
      }
     },
     "537ca0f12f2e4e3cb9c8e05fa17c80ee": {
      "model_module": "@jupyter-widgets/controls",
      "model_module_version": "1.5.0",
      "model_name": "HBoxModel",
      "state": {
       "children": [
        "IPY_MODEL_2a95bbac9adc4967b47e8b2fc2ff156a",
        "IPY_MODEL_fa54771a324b4a5ab9c88c5bcff7d55c"
       ],
       "layout": "IPY_MODEL_6cf148920d204cf99d3c733fc623b918"
      }
     },
     "537dc6dffe8243db9df872f04f0722cd": {
      "model_module": "@jupyter-widgets/base",
      "model_module_version": "1.2.0",
      "model_name": "LayoutModel",
      "state": {
       "align_items": "stretch",
       "width": "100%"
      }
     },
     "538d7f6785f94136b5ce352ff4588d44": {
      "model_module": "@jupyter-widgets/controls",
      "model_module_version": "1.5.0",
      "model_name": "DescriptionStyleModel",
      "state": {
       "description_width": ""
      }
     },
     "5398feda3b464bd1b8cb21630246721b": {
      "model_module": "@jupyter-widgets/base",
      "model_module_version": "1.2.0",
      "model_name": "LayoutModel",
      "state": {}
     },
     "539b3409cf6047079d8400f528c86ba3": {
      "model_module": "@jupyter-widgets/base",
      "model_module_version": "1.2.0",
      "model_name": "LayoutModel",
      "state": {}
     },
     "539d5837a0f84158a84914e19e77622b": {
      "model_module": "@jupyter-widgets/controls",
      "model_module_version": "1.5.0",
      "model_name": "ButtonStyleModel",
      "state": {
       "font_weight": "bold"
      }
     },
     "53a8829c549944b7a2b679575a785fcd": {
      "model_module": "@jupyter-widgets/controls",
      "model_module_version": "1.5.0",
      "model_name": "ButtonStyleModel",
      "state": {
       "font_weight": "bold"
      }
     },
     "53b28ddc40a64258aee7417e3533ff1d": {
      "model_module": "@jupyter-widgets/base",
      "model_module_version": "1.2.0",
      "model_name": "LayoutModel",
      "state": {
       "width": "100%"
      }
     },
     "53e7a492aae04997b7344d8e97512986": {
      "model_module": "@jupyter-widgets/base",
      "model_module_version": "1.2.0",
      "model_name": "LayoutModel",
      "state": {}
     },
     "53eca5ac69f24114a1b746e71bc188cd": {
      "model_module": "@jupyter-widgets/controls",
      "model_module_version": "1.5.0",
      "model_name": "CheckboxModel",
      "state": {
       "disabled": false,
       "indent": false,
       "layout": "IPY_MODEL_df82b47506e945228cba0b28e216c785",
       "style": "IPY_MODEL_95e236b3fe26473ea35f447171fb38d2",
       "value": false
      }
     },
     "540dc93fc6ba4e7191e20f1786e931ec": {
      "model_module": "@jupyter-widgets/base",
      "model_module_version": "1.2.0",
      "model_name": "LayoutModel",
      "state": {}
     },
     "541d6f613f3044089f07f5bffc28554f": {
      "model_module": "@jupyter-widgets/controls",
      "model_module_version": "1.5.0",
      "model_name": "ButtonStyleModel",
      "state": {
       "font_weight": "bold"
      }
     },
     "544aaf81df27413bb4d646074b4e122f": {
      "model_module": "@jupyter-widgets/controls",
      "model_module_version": "1.5.0",
      "model_name": "ButtonStyleModel",
      "state": {
       "font_weight": "bold"
      }
     },
     "54648890a5b940be9017006d15d64b07": {
      "model_module": "@jupyter-widgets/base",
      "model_module_version": "1.2.0",
      "model_name": "LayoutModel",
      "state": {
       "align_items": "stretch",
       "width": "100%"
      }
     },
     "547456203761428f9cd31c3dbe2dc835": {
      "model_module": "@jupyter-widgets/controls",
      "model_module_version": "1.5.0",
      "model_name": "DescriptionStyleModel",
      "state": {
       "description_width": ""
      }
     },
     "548fe71231aa4982a4e678a5e88351ef": {
      "model_module": "@jupyter-widgets/controls",
      "model_module_version": "1.5.0",
      "model_name": "ButtonModel",
      "state": {
       "button_style": "info",
       "description": "show source code",
       "layout": "IPY_MODEL_e41ecbf12a834f1cbf65855379a0fe45",
       "style": "IPY_MODEL_3b32d6cbe11040e986c4db5023c5565d",
       "tooltip": "shows the raw python code in the preview window below"
      }
     },
     "549fe35e18414258b725e69cd7e51480": {
      "model_module": "@jupyter-widgets/base",
      "model_module_version": "1.2.0",
      "model_name": "LayoutModel",
      "state": {}
     },
     "54a536e5a025489986cb3e0fe5464807": {
      "model_module": "@jupyter-widgets/controls",
      "model_module_version": "1.5.0",
      "model_name": "CheckboxModel",
      "state": {
       "disabled": false,
       "indent": false,
       "layout": "IPY_MODEL_9cb1265388e840a2834ffc9c8e2530b3",
       "style": "IPY_MODEL_8bc2d8a782534a609377eaa7b579e21b",
       "value": false
      }
     },
     "54e100413217494f942cdfb5b9f5037d": {
      "model_module": "@jupyter-widgets/controls",
      "model_module_version": "1.5.0",
      "model_name": "TextModel",
      "state": {
       "description": "inputs",
       "disabled": true,
       "layout": "IPY_MODEL_58fac828cbe2443a8352c731175ce4fb",
       "style": "IPY_MODEL_08957187802045deab67e4a74adc2b81",
       "value": "C:\\engDev\\git_mf\\ipyrun\\ipyrun\\notebooks\\appdata\\inputs\\inputs-eplus_pipework_params.csv"
      }
     },
     "54e917f801d14326aa9272d0eb6e56d1": {
      "model_module": "@jupyter-widgets/base",
      "model_module_version": "1.2.0",
      "model_name": "LayoutModel",
      "state": {}
     },
     "54eb139686764083bcd2135bbd76acb0": {
      "model_module": "@jupyter-widgets/controls",
      "model_module_version": "1.5.0",
      "model_name": "ButtonModel",
      "state": {
       "button_style": "info",
       "description": "show log",
       "layout": "IPY_MODEL_69d6f466501143ffbf75686d1b656ff2",
       "style": "IPY_MODEL_3c9b1ba9b81a45a1aef06e801d6af6e6",
       "tooltip": "show a log of when the script was executed to generate the outputs, and by who"
      }
     },
     "550a1a657b1d47e7b52bb98db05dde67": {
      "model_module": "@jupyter-widgets/controls",
      "model_module_version": "1.5.0",
      "model_name": "ButtonStyleModel",
      "state": {
       "font_weight": "bold"
      }
     },
     "5576434051ce42a2a96ed995fcc6ca87": {
      "model_module": "@jupyter-widgets/base",
      "model_module_version": "1.2.0",
      "model_name": "LayoutModel",
      "state": {
       "height": "30px",
       "max_width": "30px",
       "padding": "3px"
      }
     },
     "55893c7e31914efa8e674b9d08365f63": {
      "model_module": "@jupyter-widgets/base",
      "model_module_version": "1.2.0",
      "model_name": "LayoutModel",
      "state": {}
     },
     "558d6ab71f514e168feb208baee1c0c2": {
      "model_module": "@jupyter-widgets/controls",
      "model_module_version": "1.5.0",
      "model_name": "TextModel",
      "state": {
       "description": "script",
       "disabled": true,
       "layout": "IPY_MODEL_69c01799abe546c288c437183e728712",
       "style": "IPY_MODEL_fe0c7402dd0d431a851e72440160d128",
       "value": "C:\\engDev\\git_mf\\MF_Toolbox\\dev\\mf_scripts\\eplus_pipework_params.py"
      }
     },
     "559a9da75c554d1fa8332c9a1e4e0d13": {
      "model_module": "@jupyter-widgets/controls",
      "model_module_version": "1.5.0",
      "model_name": "HBoxModel",
      "state": {
       "children": [
        "IPY_MODEL_72d8d17808ba4b1d95a43c035715966c",
        "IPY_MODEL_1636bc49f0c24959bcea9ef7f0a1d12b",
        "IPY_MODEL_cf0cdf136145452c91426da1a4a6e39d",
        "IPY_MODEL_28e352e1474b495195fc248100275863",
        "IPY_MODEL_04d5092589744e44a4c9d2bfe3da0990",
        "IPY_MODEL_d3cf5239c92f4832a4f29b085faaed8f",
        "IPY_MODEL_fcf680cec8834b9997605ae924696826"
       ],
       "layout": "IPY_MODEL_54648890a5b940be9017006d15d64b07"
      }
     },
     "559c72682983432e815831f522a994d0": {
      "model_module": "@jupyter-widgets/controls",
      "model_module_version": "1.5.0",
      "model_name": "ButtonModel",
      "state": {
       "button_style": "info",
       "description": "show source code",
       "layout": "IPY_MODEL_eee82c511ad94fac823dd6ce33bb350d",
       "style": "IPY_MODEL_b7c01f024ca84684b32690994ead7a5f",
       "tooltip": "shows the raw python code in the preview window below"
      }
     },
     "55b8961dda3943c7bd3c9fad08a59a17": {
      "model_module": "@jupyter-widgets/base",
      "model_module_version": "1.2.0",
      "model_name": "LayoutModel",
      "state": {
       "align_items": "stretch",
       "width": "100%"
      }
     },
     "55bcf7b41228443f90ad64b7a986ada6": {
      "model_module": "@jupyter-widgets/controls",
      "model_module_version": "1.5.0",
      "model_name": "ButtonModel",
      "state": {
       "button_style": "success",
       "description": "run",
       "layout": "IPY_MODEL_7f4cd41e5f3f4f3a836abe6cbeec2101",
       "style": "IPY_MODEL_dec23255b528446e961dbf1ed9a2fd65",
       "tooltip": "execute the script based on the user inputs"
      }
     },
     "55be6acbaeab455fa022ccbd10d50be7": {
      "model_module": "@jupyter-widgets/base",
      "model_module_version": "1.2.0",
      "model_name": "LayoutModel",
      "state": {
       "height": "30px",
       "width": "auto"
      }
     },
     "55d533c52aa649948fe006614cf536c8": {
      "model_module": "@jupyter-widgets/controls",
      "model_module_version": "1.5.0",
      "model_name": "AccordionModel",
      "state": {
       "_titles": {
        "0": "eplus_pipework_params"
       },
       "children": [
        "IPY_MODEL_4e7e0d7441374ecf8d648d95cdbd0269"
       ],
       "layout": "IPY_MODEL_03a2be77dbed4b3483749b0dc2d759ee",
       "selected_index": null
      }
     },
     "55ea65a87adc4115b28fd1117dad1b65": {
      "model_module": "@jupyter-widgets/controls",
      "model_module_version": "1.5.0",
      "model_name": "HBoxModel",
      "state": {
       "children": [
        "IPY_MODEL_60eb379d3d9f4b918ba967b1a3b6f5cf",
        "IPY_MODEL_105b7faa1bdf45ec81f4d8baf07393c1"
       ],
       "layout": "IPY_MODEL_bfa9d6172e994d9086b598b907dff782"
      }
     },
     "5604fb8775ee4be4b9405f39e9767ba4": {
      "model_module": "@jupyter-widgets/controls",
      "model_module_version": "1.5.0",
      "model_name": "ButtonStyleModel",
      "state": {
       "font_weight": "bold"
      }
     },
     "5626d43144b44e3485e0f3b3b363c563": {
      "model_module": "@jupyter-widgets/base",
      "model_module_version": "1.2.0",
      "model_name": "LayoutModel",
      "state": {}
     },
     "56302b6196ca4eabaf4dfff0ec40d15f": {
      "model_module": "@jupyter-widgets/controls",
      "model_module_version": "1.5.0",
      "model_name": "ButtonStyleModel",
      "state": {
       "font_weight": "bold"
      }
     },
     "566cb1a38784484b84b06ad54e052515": {
      "model_module": "@jupyter-widgets/controls",
      "model_module_version": "1.5.0",
      "model_name": "ButtonModel",
      "state": {
       "button_style": "info",
       "description": "preview outputs",
       "layout": "IPY_MODEL_768a45cc12084b9f81aa575eff49b21f",
       "style": "IPY_MODEL_8650895e257e43e18ccecaf57d3af03b",
       "tooltip": "show a preview of the output files generated when the script runs"
      }
     },
     "569f9e5b23ef47e7b93777ef72bcf4d6": {
      "model_module": "@jupyter-widgets/base",
      "model_module_version": "1.2.0",
      "model_name": "LayoutModel",
      "state": {}
     },
     "56c31d572ee342dc8482872a4f2db9df": {
      "model_module": "@jupyter-widgets/controls",
      "model_module_version": "1.5.0",
      "model_name": "DescriptionStyleModel",
      "state": {
       "description_width": ""
      }
     },
     "56d589dd334f4cc7b2d9e4399bd76326": {
      "model_module": "@jupyter-widgets/controls",
      "model_module_version": "1.5.0",
      "model_name": "DescriptionStyleModel",
      "state": {
       "description_width": ""
      }
     },
     "56ed7b4acb334129b5c4d450e921b93d": {
      "model_module": "@jupyter-widgets/controls",
      "model_module_version": "1.5.0",
      "model_name": "ButtonStyleModel",
      "state": {
       "font_weight": "bold"
      }
     },
     "56f1ff0da04c41238a27e25eae8678b1": {
      "model_module": "@jupyter-widgets/controls",
      "model_module_version": "1.5.0",
      "model_name": "ButtonModel",
      "state": {
       "button_style": "info",
       "description": "show source code",
       "layout": "IPY_MODEL_5f4359ce7f3c4f69b4642fc34a460d42",
       "style": "IPY_MODEL_6d680e144d92416394ac7bfa714908b8",
       "tooltip": "shows the raw python code in the preview window below"
      }
     },
     "57012bb77cb04b5a91d838379301d064": {
      "model_module": "@jupyter-widgets/controls",
      "model_module_version": "1.5.0",
      "model_name": "ButtonStyleModel",
      "state": {
       "font_weight": "bold"
      }
     },
     "57028053235d4e23a6b8161d52046caf": {
      "model_module": "@jupyter-widgets/base",
      "model_module_version": "1.2.0",
      "model_name": "LayoutModel",
      "state": {}
     },
     "570c27819f22421eaf7926e62117066d": {
      "model_module": "@jupyter-widgets/controls",
      "model_module_version": "1.5.0",
      "model_name": "ButtonStyleModel",
      "state": {
       "font_weight": "add"
      }
     },
     "5710a343473646daa9e8993cbb3e78bf": {
      "model_module": "@jupyter-widgets/base",
      "model_module_version": "1.2.0",
      "model_name": "LayoutModel",
      "state": {}
     },
     "572149f56e1946a89c7903d6a121bd4d": {
      "model_module": "@jupyter-widgets/controls",
      "model_module_version": "1.5.0",
      "model_name": "SelectMultipleModel",
      "state": {
       "_options_labels": [
        "C:\\engDev\\git_mf\\ipyrun\\data\\external\\eplus_pipework_params.csv"
       ],
       "description": "outputs",
       "index": [],
       "layout": "IPY_MODEL_be7a3f3e3e114241ad302d3177c109ca",
       "rows": 4,
       "style": "IPY_MODEL_bd492aaac5e4440ab2611cefd464321d"
      }
     },
     "57301004402b444db11ad61ae48af209": {
      "model_module": "@jupyter-widgets/controls",
      "model_module_version": "1.5.0",
      "model_name": "ButtonModel",
      "state": {
       "button_style": "warning",
       "description": "edit inputs",
       "layout": "IPY_MODEL_e278307cb80640208f5d35ab9991bd45",
       "style": "IPY_MODEL_0c493ae1d653442c9a952ba18350a9d9",
       "tooltip": "edit the user input information that is used when the script is executed"
      }
     },
     "5770854708d54b498813d40c327f31ec": {
      "model_module": "@jupyter-widgets/base",
      "model_module_version": "1.2.0",
      "model_name": "LayoutModel",
      "state": {
       "align_items": "stretch",
       "width": "100%"
      }
     },
     "578ce79718ed4a82a199018e76487f49": {
      "model_module": "@jupyter-widgets/controls",
      "model_module_version": "1.5.0",
      "model_name": "ButtonStyleModel",
      "state": {
       "font_weight": "bold"
      }
     },
     "57b21fe0cdce4c53a6d04d0296c68a6a": {
      "model_module": "@jupyter-widgets/controls",
      "model_module_version": "1.5.0",
      "model_name": "ButtonModel",
      "state": {
       "button_style": "info",
       "description": "preview outputs",
       "layout": "IPY_MODEL_c5347927b12f4463aa3906642042d6ab",
       "style": "IPY_MODEL_f4efb4c31f004287894173d0e077a680",
       "tooltip": "show a preview of the output files generated when the script runs"
      }
     },
     "57bfd3bf58a74bd68200821012cfa8e3": {
      "model_module": "@jupyter-widgets/controls",
      "model_module_version": "1.5.0",
      "model_name": "DescriptionStyleModel",
      "state": {
       "description_width": ""
      }
     },
     "57fbe37d141e4c21b0f3b7b2347f8ca8": {
      "model_module": "@jupyter-widgets/base",
      "model_module_version": "1.2.0",
      "model_name": "LayoutModel",
      "state": {
       "width": "5%"
      }
     },
     "5818d6e0bbbf444a973cf5fb024c070c": {
      "model_module": "@jupyter-widgets/base",
      "model_module_version": "1.2.0",
      "model_name": "LayoutModel",
      "state": {}
     },
     "5827caf4c006436aadda00ebcfb4b686": {
      "model_module": "@jupyter-widgets/controls",
      "model_module_version": "1.5.0",
      "model_name": "ButtonStyleModel",
      "state": {
       "font_weight": "bold"
      }
     },
     "58296d17b5a64a4db732f91b46b6b4ff": {
      "model_module": "@jupyter-widgets/controls",
      "model_module_version": "1.5.0",
      "model_name": "DescriptionStyleModel",
      "state": {
       "description_width": ""
      }
     },
     "585fa6533564435a813d357f2cc98e3a": {
      "model_module": "@jupyter-widgets/base",
      "model_module_version": "1.2.0",
      "model_name": "LayoutModel",
      "state": {}
     },
     "5862bcf753124874b58bcc49dc6a8039": {
      "model_module": "@jupyter-widgets/base",
      "model_module_version": "1.2.0",
      "model_name": "LayoutModel",
      "state": {
       "align_items": "stretch",
       "width": "100%"
      }
     },
     "58f81fe592c649828774a9916e7d543f": {
      "model_module": "@jupyter-widgets/base",
      "model_module_version": "1.2.0",
      "model_name": "LayoutModel",
      "state": {
       "width": "5%"
      }
     },
     "58fac828cbe2443a8352c731175ce4fb": {
      "model_module": "@jupyter-widgets/base",
      "model_module_version": "1.2.0",
      "model_name": "LayoutModel",
      "state": {
       "height": "30px",
       "width": "auto"
      }
     },
     "58ff058cd7194fc0acbacb3720082777": {
      "model_module": "@jupyter-widgets/controls",
      "model_module_version": "1.5.0",
      "model_name": "BoxModel",
      "state": {
       "children": [
        "IPY_MODEL_76a7aba3b254437fac34e500d6b84851"
       ],
       "layout": "IPY_MODEL_844a902581ba4d8ea997f32e8a780869"
      }
     },
     "5908e28f1e534eac9737f87327c9b028": {
      "model_module": "@jupyter-widgets/base",
      "model_module_version": "1.2.0",
      "model_name": "LayoutModel",
      "state": {
       "width": "5%"
      }
     },
     "595008068363488a93aaff9f1af00b3b": {
      "model_module": "@jupyter-widgets/controls",
      "model_module_version": "1.5.0",
      "model_name": "ButtonModel",
      "state": {
       "button_style": "info",
       "description": "show source code",
       "layout": "IPY_MODEL_690f64f29bfc498bb9460dfc9cb2a75a",
       "style": "IPY_MODEL_1aa3030a09644f53a3b62be509807179",
       "tooltip": "shows the raw python code in the preview window below"
      }
     },
     "59e9ce42e550446d9c6663b5c5039d1e": {
      "model_module": "@jupyter-widgets/base",
      "model_module_version": "1.2.0",
      "model_name": "LayoutModel",
      "state": {}
     },
     "59ea6e98857b4936874e65bbce1f8fbe": {
      "model_module": "@jupyter-widgets/output",
      "model_module_version": "1.0.0",
      "model_name": "OutputModel",
      "state": {
       "layout": "IPY_MODEL_45c878480d8a4fed9a988a87ee065c86"
      }
     },
     "5a198c7fa41548059867827445778f7f": {
      "model_module": "@jupyter-widgets/base",
      "model_module_version": "1.2.0",
      "model_name": "LayoutModel",
      "state": {
       "width": "5%"
      }
     },
     "5a2da352bcb4459ba615d270c6bc5de5": {
      "model_module": "@jupyter-widgets/base",
      "model_module_version": "1.2.0",
      "model_name": "LayoutModel",
      "state": {
       "width": "100%"
      }
     },
     "5a303dc7102c42aea95114be5c252fcd": {
      "model_module": "@jupyter-widgets/controls",
      "model_module_version": "1.5.0",
      "model_name": "ButtonModel",
      "state": {
       "icon": "eye-slash",
       "layout": "IPY_MODEL_c548b3bc6ba846c69eb8fdfe7a71c501",
       "style": "IPY_MODEL_1ee10296be3d4f2dbce72240b8c141a3",
       "tooltip": "removes temporary output view"
      }
     },
     "5a9711987ff64f938fab67569beaba2b": {
      "model_module": "@jupyter-widgets/controls",
      "model_module_version": "1.5.0",
      "model_name": "ButtonModel",
      "state": {
       "icon": "question-circle",
       "layout": "IPY_MODEL_6ca18273ca134a0d9f8371040721082b",
       "style": "IPY_MODEL_799ec528b04448869ad48e45455252aa",
       "tooltip": "describes the functionality of elements in the RunApp interface"
      }
     },
     "5aab59760e214a6681b88968b1f2040f": {
      "model_module": "@jupyter-widgets/controls",
      "model_module_version": "1.5.0",
      "model_name": "AccordionModel",
      "state": {
       "_titles": {
        "0": "eplus_pipework_params"
       },
       "children": [
        "IPY_MODEL_6708c1f69556441e8289ab30c95a14b3"
       ],
       "layout": "IPY_MODEL_1959119f86f54fcfb600a756c7740c3a",
       "selected_index": null
      }
     },
     "5ada4305c6e643ef8a1c5ba6f7a737ba": {
      "model_module": "@jupyter-widgets/controls",
      "model_module_version": "1.5.0",
      "model_name": "DescriptionStyleModel",
      "state": {
       "description_width": ""
      }
     },
     "5ae1bd0c554e4a829d4280599a3c8fb4": {
      "model_module": "@jupyter-widgets/base",
      "model_module_version": "1.2.0",
      "model_name": "LayoutModel",
      "state": {
       "width": "5%"
      }
     },
     "5ae4c811fe2c4319bdd01bdc60b4c4ad": {
      "model_module": "@jupyter-widgets/controls",
      "model_module_version": "1.5.0",
      "model_name": "TextModel",
      "state": {
       "description": "script",
       "disabled": true,
       "layout": "IPY_MODEL_1599697265044c5bac9d22f120778b4e",
       "style": "IPY_MODEL_42416fcc03c34d17b6d1b434b7cac6a2",
       "value": "C:\\engDev\\git_mf\\MF_Toolbox\\dev\\mf_scripts\\gbxml.py"
      }
     },
     "5aedae5fb8e54957b9a82f157a20b86c": {
      "model_module": "@jupyter-widgets/controls",
      "model_module_version": "1.5.0",
      "model_name": "CheckboxModel",
      "state": {
       "disabled": false,
       "indent": false,
       "layout": "IPY_MODEL_4b43ce63ccd54650a189eac824961c6c",
       "style": "IPY_MODEL_ac3909b8334c43abaab9119ac9a2ee5b",
       "value": false
      }
     },
     "5b194a40e6fa4995ab10979238a511e7": {
      "model_module": "@jupyter-widgets/controls",
      "model_module_version": "1.5.0",
      "model_name": "ButtonModel",
      "state": {
       "icon": "question-circle",
       "layout": "IPY_MODEL_41fb3f1dedd8411da0fa66640224e17a",
       "style": "IPY_MODEL_80243a0c1c2c42c5828fade39228603b",
       "tooltip": "describes the functionality of elements in the RunApp interface"
      }
     },
     "5b28200ea26642fd8c1776578de994dd": {
      "model_module": "@jupyter-widgets/controls",
      "model_module_version": "1.5.0",
      "model_name": "SelectMultipleModel",
      "state": {
       "_options_labels": [
        "C:\\engDev\\git_mf\\ipyrun\\data\\external\\eplus_pipework_params.csv"
       ],
       "description": "outputs",
       "index": [],
       "layout": "IPY_MODEL_c86bd7988abb4d29a7f9992b365a38f6",
       "rows": 4,
       "style": "IPY_MODEL_5ada4305c6e643ef8a1c5ba6f7a737ba"
      }
     },
     "5b3b2b5fbe6d4df28c0ccf2f41674860": {
      "model_module": "@jupyter-widgets/controls",
      "model_module_version": "1.5.0",
      "model_name": "DescriptionStyleModel",
      "state": {
       "description_width": ""
      }
     },
     "5b4966fdc9bb48378e88bcd143102e7c": {
      "model_module": "@jupyter-widgets/controls",
      "model_module_version": "1.5.0",
      "model_name": "ButtonStyleModel",
      "state": {
       "font_weight": "bold"
      }
     },
     "5b4af3427847450d8122c25d7fa35939": {
      "model_module": "@jupyter-widgets/controls",
      "model_module_version": "1.5.0",
      "model_name": "DescriptionStyleModel",
      "state": {
       "description_width": ""
      }
     },
     "5b527b0131be440383c9a88452292218": {
      "model_module": "@jupyter-widgets/controls",
      "model_module_version": "1.5.0",
      "model_name": "CheckboxModel",
      "state": {
       "disabled": false,
       "indent": false,
       "layout": "IPY_MODEL_29fabd07aa0f478cb4894cba91be2038",
       "style": "IPY_MODEL_e1ea3f6519c64ae1892e5ef83e576fbd",
       "value": false
      }
     },
     "5b53a258cca342bd97f2b324d3e6d584": {
      "model_module": "@jupyter-widgets/controls",
      "model_module_version": "1.5.0",
      "model_name": "ButtonStyleModel",
      "state": {
       "font_weight": "bold"
      }
     },
     "5b5633f17d0c406c86d1545d2a5382c8": {
      "model_module": "@jupyter-widgets/base",
      "model_module_version": "1.2.0",
      "model_name": "LayoutModel",
      "state": {
       "align_items": "stretch",
       "width": "100%"
      }
     },
     "5b70ca3a06194147ab0d98b568ba4f19": {
      "model_module": "@jupyter-widgets/base",
      "model_module_version": "1.2.0",
      "model_name": "LayoutModel",
      "state": {
       "height": "30px",
       "width": "auto"
      }
     },
     "5b72b618edb44bdfa47bd0187da44a54": {
      "model_module": "@jupyter-widgets/controls",
      "model_module_version": "1.5.0",
      "model_name": "ButtonModel",
      "state": {
       "button_style": "info",
       "description": "preview outputs",
       "layout": "IPY_MODEL_303f85f1a8b54fb4ae20290f06874c4e",
       "style": "IPY_MODEL_c330ca052e954dfc95b320419497ba0b",
       "tooltip": "show a preview of the output files generated when the script runs"
      }
     },
     "5b7bccee388a4d01bca4639b4ab2d825": {
      "model_module": "@jupyter-widgets/base",
      "model_module_version": "1.2.0",
      "model_name": "LayoutModel",
      "state": {
       "height": "30px",
       "width": "auto"
      }
     },
     "5b872b146fb54e0a89fb629e80aa2d54": {
      "model_module": "@jupyter-widgets/controls",
      "model_module_version": "1.5.0",
      "model_name": "ButtonStyleModel",
      "state": {
       "font_weight": "bold"
      }
     },
     "5b909f32875d475d8c40f3b8185a8d27": {
      "model_module": "@jupyter-widgets/base",
      "model_module_version": "1.2.0",
      "model_name": "LayoutModel",
      "state": {
       "height": "30px",
       "width": "auto"
      }
     },
     "5b9a84521ab048b080bbe1acef1683c3": {
      "model_module": "@jupyter-widgets/controls",
      "model_module_version": "1.5.0",
      "model_name": "TextModel",
      "state": {
       "description": "inputs",
       "disabled": true,
       "layout": "IPY_MODEL_07cb3f3eb804468da56952dfc68b8ae7",
       "style": "IPY_MODEL_8c3e5b379cca4b8b965b306e8de46ff4",
       "value": "C:\\engDev\\git_mf\\ipyrun\\ipyrun\\appdata\\inputs\\inputs-eplus_pipework_params.csv"
      }
     },
     "5bba1c7c6c9b4af591007e4672d6c55f": {
      "model_module": "@jupyter-widgets/base",
      "model_module_version": "1.2.0",
      "model_name": "LayoutModel",
      "state": {}
     },
     "5bd8c7a73ee34c01be0b2a933d5e7b03": {
      "model_module": "@jupyter-widgets/controls",
      "model_module_version": "1.5.0",
      "model_name": "DescriptionStyleModel",
      "state": {
       "description_width": ""
      }
     },
     "5bdbd347a8df4169a7e58db081439d1f": {
      "model_module": "@jupyter-widgets/controls",
      "model_module_version": "1.5.0",
      "model_name": "ButtonModel",
      "state": {
       "button_style": "info",
       "description": "show guide",
       "layout": "IPY_MODEL_57028053235d4e23a6b8161d52046caf",
       "style": "IPY_MODEL_159942cf83bd4c15b044a4eed7690e69",
       "tooltip": "read the \"docstring\", ie. the documentation that was written to accompany the script"
      }
     },
     "5bf8f7ad30af4c92b3c1323bfb64c7df": {
      "model_module": "@jupyter-widgets/base",
      "model_module_version": "1.2.0",
      "model_name": "LayoutModel",
      "state": {}
     },
     "5c00b779592d4c518ba6cbec8f14cc80": {
      "model_module": "@jupyter-widgets/controls",
      "model_module_version": "1.5.0",
      "model_name": "DescriptionStyleModel",
      "state": {
       "description_width": ""
      }
     },
     "5c018950aa954364a64716f698149ede": {
      "model_module": "@jupyter-widgets/controls",
      "model_module_version": "1.5.0",
      "model_name": "VBoxModel",
      "state": {
       "children": [
        "IPY_MODEL_0ae34c2e2a1f4fc7997435d5bd4b756f",
        "IPY_MODEL_df738c4932cb4e39a1420b5e13a863c8"
       ],
       "layout": "IPY_MODEL_401282ae90a949f9912975c8e2e73033"
      }
     },
     "5c04125072f845bb9562d70b0fcfbf48": {
      "model_module": "@jupyter-widgets/controls",
      "model_module_version": "1.5.0",
      "model_name": "ButtonModel",
      "state": {
       "button_style": "success",
       "description": "run",
       "layout": "IPY_MODEL_e8815b7f2c694332a2acfd993257fa37",
       "style": "IPY_MODEL_3126e8a348f84215b9eedc61ef713ef7",
       "tooltip": "execute the script based on the user inputs"
      }
     },
     "5c0caff8e6f44f96bfaba887a783a0d2": {
      "model_module": "@jupyter-widgets/base",
      "model_module_version": "1.2.0",
      "model_name": "LayoutModel",
      "state": {}
     },
     "5c1b009cd1bf4748aff514ba1367b3d5": {
      "model_module": "@jupyter-widgets/controls",
      "model_module_version": "1.5.0",
      "model_name": "VBoxModel",
      "state": {
       "children": [
        "IPY_MODEL_2d713356453841e792a45a94f60a4fb1",
        "IPY_MODEL_4053974692f34de59b4ef9842a64beb6",
        "IPY_MODEL_7502538b675042bba63f34293dfd05bb"
       ],
       "layout": "IPY_MODEL_8356d1ef31434d3dbf4bad54179675b9"
      }
     },
     "5c3b47ad171d4972bf78d82f01c3b598": {
      "model_module": "@jupyter-widgets/base",
      "model_module_version": "1.2.0",
      "model_name": "LayoutModel",
      "state": {
       "width": "100%"
      }
     },
     "5c4d2dd81ae648cfbb104fc0aa4a82ba": {
      "model_module": "@jupyter-widgets/base",
      "model_module_version": "1.2.0",
      "model_name": "LayoutModel",
      "state": {
       "width": "5%"
      }
     },
     "5c6e07dcb5274178ba618412b653dae1": {
      "model_module": "@jupyter-widgets/controls",
      "model_module_version": "1.5.0",
      "model_name": "HBoxModel",
      "state": {
       "children": [
        "IPY_MODEL_62ed45f0eb314169b823e653f7df133f",
        "IPY_MODEL_110a3d39674a4d07a4c5f5b635ebea18",
        "IPY_MODEL_ffe5361bc68841c4b36393ff8eac37bd",
        "IPY_MODEL_b103ae2fea504d899c3e53873e2410f5",
        "IPY_MODEL_13779f2e458e466da0918e36b5a32324",
        "IPY_MODEL_51edb48b7b73418ca38710b8ac9a49aa",
        "IPY_MODEL_79021d3b08954ab3b08011f84869cdfb"
       ],
       "layout": "IPY_MODEL_0eb53743c53d4ccc9ae7ed2fbb5adf25"
      }
     },
     "5c74e9f056704318bdb663f64af438d3": {
      "model_module": "@jupyter-widgets/controls",
      "model_module_version": "1.5.0",
      "model_name": "DescriptionStyleModel",
      "state": {
       "description_width": ""
      }
     },
     "5c99865e764741078a02326bad3882f4": {
      "model_module": "@jupyter-widgets/controls",
      "model_module_version": "1.5.0",
      "model_name": "CheckboxModel",
      "state": {
       "disabled": false,
       "indent": false,
       "layout": "IPY_MODEL_1704c99e70ce44d8b5be134c504c52b9",
       "style": "IPY_MODEL_2845939c7a7a4a419d08fbb33a674440",
       "value": false
      }
     },
     "5ccaffc26d284245bc90addca9913788": {
      "model_module": "@jupyter-widgets/controls",
      "model_module_version": "1.5.0",
      "model_name": "HBoxModel",
      "state": {
       "children": [
        "IPY_MODEL_c37f9946261e4f6fa60a07b0fa5aead2",
        "IPY_MODEL_45dc1a098fb54c7395ef3c87a159cc90"
       ],
       "layout": "IPY_MODEL_2fa445aa7c0e4aeeb56d0e9e63beb5af"
      }
     },
     "5cdb9dddbc254115ae777f6547033af8": {
      "model_module": "@jupyter-widgets/base",
      "model_module_version": "1.2.0",
      "model_name": "LayoutModel",
      "state": {}
     },
     "5cdf4511f75a4562b3be7807a5c464bf": {
      "model_module": "@jupyter-widgets/base",
      "model_module_version": "1.2.0",
      "model_name": "LayoutModel",
      "state": {}
     },
     "5ce11a224e0f4785840d9108f26962df": {
      "model_module": "@jupyter-widgets/base",
      "model_module_version": "1.2.0",
      "model_name": "LayoutModel",
      "state": {
       "height": "30px",
       "width": "auto"
      }
     },
     "5cea6d4fe75d451fb2a7878381a1cd7f": {
      "model_module": "@jupyter-widgets/controls",
      "model_module_version": "1.5.0",
      "model_name": "TextModel",
      "state": {
       "description": "script",
       "disabled": true,
       "layout": "IPY_MODEL_161305cef9244b4497ab3a926f928f82",
       "style": "IPY_MODEL_7393986bce9d44f0bea17c3f5ea92543",
       "value": "C:\\engDev\\git_mf\\MF_Toolbox\\dev\\mf_scripts\\eplus_pipework_params.py"
      }
     },
     "5d10ae1433034c75ae35bfb37b617ac0": {
      "model_module": "@jupyter-widgets/controls",
      "model_module_version": "1.5.0",
      "model_name": "HBoxModel",
      "state": {
       "children": [
        "IPY_MODEL_98c918951c56496eb5152fd4b0aaa951",
        "IPY_MODEL_692cb9ea55af428b8c1a5bd4bd8858be",
        "IPY_MODEL_2c58e98d4ec5487f9159341d80576c03"
       ],
       "layout": "IPY_MODEL_3a4da684e1eb434d8d73a6021c3a098e"
      }
     },
     "5d33ddb38e2a49a78fa7ff0568870505": {
      "model_module": "@jupyter-widgets/controls",
      "model_module_version": "1.5.0",
      "model_name": "VBoxModel",
      "state": {
       "children": [
        "IPY_MODEL_45112567195f4d719a470cc4effe9c22",
        "IPY_MODEL_fb720c044ee643918134b91970718a6c",
        "IPY_MODEL_fa247a00a9c646ad9aa9ea2010b5d291"
       ],
       "layout": "IPY_MODEL_f272b8d8edfc4de2bd16e0c5eb7a0362"
      }
     },
     "5d399ccf3fb946328fd20e64aae20bb3": {
      "model_module": "@jupyter-widgets/controls",
      "model_module_version": "1.5.0",
      "model_name": "ButtonModel",
      "state": {
       "button_style": "info",
       "description": "preview outputs",
       "layout": "IPY_MODEL_996f23c0e221442aa84848bb44ab703b",
       "style": "IPY_MODEL_79d828f0a7e24454b1673d7006369827",
       "tooltip": "show a preview of the output files generated when the script runs"
      }
     },
     "5d3ae2b97b6c461a9b123d13ece51939": {
      "model_module": "@jupyter-widgets/controls",
      "model_module_version": "1.5.0",
      "model_name": "ButtonModel",
      "state": {
       "icon": "eye-slash",
       "layout": "IPY_MODEL_9fc2682fd7b24ed696bfad412f674dff",
       "style": "IPY_MODEL_8607e4cad7cf4f16892e3c68549a4729",
       "tooltip": "removes temporary output view"
      }
     },
     "5d648eefaf02457a8b52865fe47a55be": {
      "model_module": "@jupyter-widgets/base",
      "model_module_version": "1.2.0",
      "model_name": "LayoutModel",
      "state": {
       "height": "30px",
       "width": "auto"
      }
     },
     "5d79c147a0bd40299f8caec668322ea8": {
      "model_module": "@jupyter-widgets/controls",
      "model_module_version": "1.5.0",
      "model_name": "ButtonModel",
      "state": {
       "button_style": "info",
       "description": "show guide",
       "layout": "IPY_MODEL_3a9085389d4a44c7b93429ca9e2e27a6",
       "style": "IPY_MODEL_b407384ecb174cd89047366c0c582a8d",
       "tooltip": "read the \"docstring\", ie. the documentation that was written to accompany the script"
      }
     },
     "5da4836c882b4e2181e9a2ee0c644c26": {
      "model_module": "@jupyter-widgets/controls",
      "model_module_version": "1.5.0",
      "model_name": "ButtonModel",
      "state": {
       "button_style": "info",
       "description": "show guide",
       "layout": "IPY_MODEL_1b35b16fc7354edfb647ddb045f37e50",
       "style": "IPY_MODEL_578ce79718ed4a82a199018e76487f49",
       "tooltip": "read the \"docstring\", ie. the documentation that was written to accompany the script"
      }
     },
     "5daec17abdfb46c89acc15b958957aa0": {
      "model_module": "@jupyter-widgets/controls",
      "model_module_version": "1.5.0",
      "model_name": "VBoxModel",
      "state": {
       "children": [
        "IPY_MODEL_5b9a84521ab048b080bbe1acef1683c3",
        "IPY_MODEL_3bf2bf78fc6346bbac6f0866b197b671",
        "IPY_MODEL_484bcb39cf8d4b32b6daf04d8ee54f2d"
       ],
       "layout": "IPY_MODEL_ee9ee71873254c199714636facb261b0"
      }
     },
     "5dbc381e01984e579cf8e755ba9f7a6d": {
      "model_module": "@jupyter-widgets/base",
      "model_module_version": "1.2.0",
      "model_name": "LayoutModel",
      "state": {}
     },
     "5dc38d7e8ad2418dbdbd1ca5508ed7f7": {
      "model_module": "@jupyter-widgets/controls",
      "model_module_version": "1.5.0",
      "model_name": "BoxModel",
      "state": {
       "children": [
        "IPY_MODEL_641a96ed0c204d61a5d4f1914e9960c7"
       ],
       "layout": "IPY_MODEL_0be9474c738f4a308551d8ef4b6ccc02"
      }
     },
     "5dd0a27de06047c3b54793037f93bc53": {
      "model_module": "@jupyter-widgets/output",
      "model_module_version": "1.0.0",
      "model_name": "OutputModel",
      "state": {
       "layout": "IPY_MODEL_3db793372ef04573b59809a038a1c35f"
      }
     },
     "5de182edadd14d30b6a0bb985aa4409e": {
      "model_module": "@jupyter-widgets/base",
      "model_module_version": "1.2.0",
      "model_name": "LayoutModel",
      "state": {}
     },
     "5e14e56c6ae24da688e775944f7966e1": {
      "model_module": "@jupyter-widgets/base",
      "model_module_version": "1.2.0",
      "model_name": "LayoutModel",
      "state": {}
     },
     "5e3c2ad36fff49ec9695d7d1228a8b69": {
      "model_module": "@jupyter-widgets/base",
      "model_module_version": "1.2.0",
      "model_name": "LayoutModel",
      "state": {
       "align_items": "stretch",
       "width": "100%"
      }
     },
     "5e582dfe36344e8ebc0e389e99e7059e": {
      "model_module": "@jupyter-widgets/controls",
      "model_module_version": "1.5.0",
      "model_name": "ButtonModel",
      "state": {
       "button_style": "success",
       "description": "run",
       "layout": "IPY_MODEL_9bbdc2fc14d54b74924a35e45a4cf32e",
       "style": "IPY_MODEL_2dda6d5c97034b0a9f5529abb2e8ccdb",
       "tooltip": "execute the script based on the user inputs"
      }
     },
     "5e5c7cbe6e094af58fa9c91604c013c7": {
      "model_module": "@jupyter-widgets/controls",
      "model_module_version": "1.5.0",
      "model_name": "VBoxModel",
      "state": {
       "children": [
        "IPY_MODEL_5f4a0aa2dd02465ea50dd3f1a48baba5",
        "IPY_MODEL_65cdfee1e5fc4750bbea18d8033a3b7f"
       ],
       "layout": "IPY_MODEL_46bcf297f27440e4bc2746c95e89be36"
      }
     },
     "5e865be1951c4c83aa41df12c89baeb2": {
      "model_module": "@jupyter-widgets/controls",
      "model_module_version": "1.5.0",
      "model_name": "ButtonModel",
      "state": {
       "button_style": "info",
       "description": "preview outputs",
       "layout": "IPY_MODEL_e8a30e78c08b4d3c86539bae685d40c9",
       "style": "IPY_MODEL_93fe2458e9f945d8a5201d262ee97a07",
       "tooltip": "show a preview of the output files generated when the script runs"
      }
     },
     "5e96cabb76174717bd07a3bf5ab39715": {
      "model_module": "@jupyter-widgets/controls",
      "model_module_version": "1.5.0",
      "model_name": "TextModel",
      "state": {
       "description": "inputs",
       "disabled": true,
       "layout": "IPY_MODEL_17e3132fa6054cb3a80880f9c6732ec6",
       "style": "IPY_MODEL_bb8a8a29a6c64572bc0daa0fed1b7346",
       "value": "C:\\engDev\\git_mf\\ipyrun\\ipyrun\\appdata\\inputs\\inputs-gbxml.json"
      }
     },
     "5ea6a1af8bf54b3bbd442dc7b0d148cc": {
      "model_module": "@jupyter-widgets/base",
      "model_module_version": "1.2.0",
      "model_name": "LayoutModel",
      "state": {
       "align_items": "stretch",
       "width": "100%"
      }
     },
     "5eaea7a165284a8da01e1e5e693710a6": {
      "model_module": "@jupyter-widgets/controls",
      "model_module_version": "1.5.0",
      "model_name": "ButtonModel",
      "state": {
       "button_style": "info",
       "description": "preview outputs",
       "layout": "IPY_MODEL_7f23898f4493480b81fc9a6f7bd66ab9",
       "style": "IPY_MODEL_78bc3a037da3451b8938e15718ba54e1",
       "tooltip": "show a preview of the output files generated when the script runs"
      }
     },
     "5eb8ac57912d4cf8b863be616d2e31c5": {
      "model_module": "@jupyter-widgets/controls",
      "model_module_version": "1.5.0",
      "model_name": "HBoxModel",
      "state": {
       "children": [
        "IPY_MODEL_5fac2192784847e1a5969d738e1e86a7",
        "IPY_MODEL_652a001ecdcd445aaa28ac79ab83200f",
        "IPY_MODEL_ea5a4b4be284461e8996b62e0a857ab2",
        "IPY_MODEL_e04705153e0642c7a7e9aac66def9c43",
        "IPY_MODEL_1150591c5a4a4646881ea0b2e219de59",
        "IPY_MODEL_a310d0971fa84785ba94e94bd4fe08c2",
        "IPY_MODEL_837df890e5144bc692997db291eb2cda"
       ],
       "layout": "IPY_MODEL_0b910d479b6741c0aaf8be1bc6c6be91"
      }
     },
     "5ebf95e1caf641dfb0a0e699ff9d2c81": {
      "model_module": "@jupyter-widgets/base",
      "model_module_version": "1.2.0",
      "model_name": "LayoutModel",
      "state": {
       "height": "30px",
       "width": "auto"
      }
     },
     "5eca3f1aa91b424ba428fc63e7922312": {
      "model_module": "@jupyter-widgets/controls",
      "model_module_version": "1.5.0",
      "model_name": "ButtonModel",
      "state": {
       "button_style": "warning",
       "description": "add run",
       "layout": "IPY_MODEL_3a9976a5df6f475fab691a7388cc4525",
       "style": "IPY_MODEL_edf286bd8ec64e7b9a6b013fa55bf522",
       "tooltip": "add new run, based on another run"
      }
     },
     "5ed89f7d058e46e3a7b0a93222e4962a": {
      "model_module": "@jupyter-widgets/controls",
      "model_module_version": "1.5.0",
      "model_name": "ButtonStyleModel",
      "state": {
       "font_weight": "bold"
      }
     },
     "5ee84875b8c84af5a0a29505d8522661": {
      "model_module": "@jupyter-widgets/base",
      "model_module_version": "1.2.0",
      "model_name": "LayoutModel",
      "state": {
       "height": "30px",
       "width": "auto"
      }
     },
     "5f14e9c634de440dbac1a45af7dc99ce": {
      "model_module": "@jupyter-widgets/controls",
      "model_module_version": "1.5.0",
      "model_name": "HBoxModel",
      "state": {
       "children": [
        "IPY_MODEL_d2ef8d7745244f6c8c05ef1e19c22d51",
        "IPY_MODEL_bacfc22f42054ff689ccee5bd692563b",
        "IPY_MODEL_c76d79d885e047ff94e82c769587fd69",
        "IPY_MODEL_c8b7cecf4d68453bacaaa52bee58d2fb",
        "IPY_MODEL_d7accb45c1dc40fd89fe8e187f976779",
        "IPY_MODEL_edeee22e19b74f82a2cf9e05a13c3667",
        "IPY_MODEL_cf889cb82a4c4d098f0483462f5d2b48"
       ],
       "layout": "IPY_MODEL_949d891c59d746d4877c15c42a3e0e80"
      }
     },
     "5f32ab3c72d941148014f7a774c1409c": {
      "model_module": "@jupyter-widgets/base",
      "model_module_version": "1.2.0",
      "model_name": "LayoutModel",
      "state": {
       "width": "100%"
      }
     },
     "5f4359ce7f3c4f69b4642fc34a460d42": {
      "model_module": "@jupyter-widgets/base",
      "model_module_version": "1.2.0",
      "model_name": "LayoutModel",
      "state": {}
     },
     "5f4a0aa2dd02465ea50dd3f1a48baba5": {
      "model_module": "@jupyter-widgets/controls",
      "model_module_version": "1.5.0",
      "model_name": "BoxModel",
      "state": {
       "children": [
        "IPY_MODEL_559a9da75c554d1fa8332c9a1e4e0d13"
       ],
       "layout": "IPY_MODEL_59e9ce42e550446d9c6663b5c5039d1e"
      }
     },
     "5f5922b9309d4aaf8a325765829aa741": {
      "model_module": "@jupyter-widgets/base",
      "model_module_version": "1.2.0",
      "model_name": "LayoutModel",
      "state": {}
     },
     "5f86f10c5e3f4485a874846c53cb172c": {
      "model_module": "@jupyter-widgets/controls",
      "model_module_version": "1.5.0",
      "model_name": "DescriptionStyleModel",
      "state": {
       "description_width": ""
      }
     },
     "5f9fec17a7cf450ba4d62946f7d6c8b5": {
      "model_module": "@jupyter-widgets/base",
      "model_module_version": "1.2.0",
      "model_name": "LayoutModel",
      "state": {}
     },
     "5f9ff85760bf4521a4f954ee5341e90e": {
      "model_module": "@jupyter-widgets/controls",
      "model_module_version": "1.5.0",
      "model_name": "DescriptionStyleModel",
      "state": {
       "description_width": ""
      }
     },
     "5fa21248f98e47a68bdd18d788415a16": {
      "model_module": "@jupyter-widgets/controls",
      "model_module_version": "1.5.0",
      "model_name": "ButtonModel",
      "state": {
       "button_style": "info",
       "description": "show guide",
       "layout": "IPY_MODEL_d21c708e4f764858ae88ba4563c07eb8",
       "style": "IPY_MODEL_afd9773810a34c2a8c40d65d015b5c6b",
       "tooltip": "read the \"docstring\", ie. the documentation that was written to accompany the script"
      }
     },
     "5fac2192784847e1a5969d738e1e86a7": {
      "model_module": "@jupyter-widgets/controls",
      "model_module_version": "1.5.0",
      "model_name": "ButtonModel",
      "state": {
       "icon": "eye-slash",
       "layout": "IPY_MODEL_646a083cafc3474f816414bbd7d3ee38",
       "style": "IPY_MODEL_d42161326bb94027a93dd534d225466e",
       "tooltip": "removes temporary output view"
      }
     },
     "5fb6b64bc5204906bd229915ca63d949": {
      "model_module": "@jupyter-widgets/controls",
      "model_module_version": "1.5.0",
      "model_name": "ButtonModel",
      "state": {
       "button_style": "info",
       "description": "preview outputs",
       "layout": "IPY_MODEL_87eac59e92094170996a289d0a9cac3d",
       "style": "IPY_MODEL_b6945cc4614848078b3d8e5bfc1d6f48",
       "tooltip": "show a preview of the output files generated when the script runs"
      }
     },
     "5fd74d9bb5734d98b73e4e7372d7ed74": {
      "model_module": "@jupyter-widgets/base",
      "model_module_version": "1.2.0",
      "model_name": "LayoutModel",
      "state": {}
     },
     "5fda3db9d4ae4ba4a7eab42da3c1b9ee": {
      "model_module": "@jupyter-widgets/controls",
      "model_module_version": "1.5.0",
      "model_name": "DescriptionStyleModel",
      "state": {
       "description_width": ""
      }
     },
     "5ffae43295b84aba858737c8bc27bbe1": {
      "model_module": "@jupyter-widgets/controls",
      "model_module_version": "1.5.0",
      "model_name": "ButtonModel",
      "state": {
       "button_style": "info",
       "description": "show log",
       "layout": "IPY_MODEL_d65d5b167b374737a65b96729fe34e1d",
       "style": "IPY_MODEL_5b4966fdc9bb48378e88bcd143102e7c",
       "tooltip": "show a log of when the script was executed to generate the outputs, and by who"
      }
     },
     "6004dd2b1fd64e39a3e6b51707005fdc": {
      "model_module": "@jupyter-widgets/output",
      "model_module_version": "1.0.0",
      "model_name": "OutputModel",
      "state": {
       "layout": "IPY_MODEL_26f4952cc86040069d591b8e346cbe75"
      }
     },
     "60237cda29ad4456968b363ad33712c0": {
      "model_module": "@jupyter-widgets/base",
      "model_module_version": "1.2.0",
      "model_name": "LayoutModel",
      "state": {
       "height": "30px",
       "width": "auto"
      }
     },
     "60282e89a3cf4619ac472408a46960dc": {
      "model_module": "@jupyter-widgets/base",
      "model_module_version": "1.2.0",
      "model_name": "LayoutModel",
      "state": {
       "border": "0px",
       "margin": "0px",
       "padding": "0px"
      }
     },
     "6045a8e4fa384d80a4977fb2c92b7fe4": {
      "model_module": "@jupyter-widgets/base",
      "model_module_version": "1.2.0",
      "model_name": "LayoutModel",
      "state": {}
     },
     "607b8c8fc03b40759e3478b1c98d1b07": {
      "model_module": "@jupyter-widgets/controls",
      "model_module_version": "1.5.0",
      "model_name": "BoxModel",
      "state": {
       "children": [
        "IPY_MODEL_dd12c501803548b9b3b1c4d1d3227746"
       ],
       "layout": "IPY_MODEL_ed9814a75fb84fc6ad09f0606884da2a"
      }
     },
     "6081628973c34cce9ff9c74b625fcced": {
      "model_module": "@jupyter-widgets/controls",
      "model_module_version": "1.5.0",
      "model_name": "TextModel",
      "state": {
       "description": "script",
       "disabled": true,
       "layout": "IPY_MODEL_b711d526c9204920836d0121b9049fe6",
       "style": "IPY_MODEL_7112c6b74810460e95c58194c7936423",
       "value": "C:\\engDev\\git_mf\\MF_Toolbox\\dev\\mf_scripts\\eplus_pipework_params.py"
      }
     },
     "608eb6756bc0425dbb46669f4b03ac5b": {
      "model_module": "@jupyter-widgets/controls",
      "model_module_version": "1.5.0",
      "model_name": "VBoxModel",
      "state": {
       "children": [
        "IPY_MODEL_c37707f2b56e4f98b1b9d12ae90aa5c8",
        "IPY_MODEL_b542dc8da2c540be93b5957d2bf20f98",
        "IPY_MODEL_1716a56b743248a581a9abcd5610c435"
       ],
       "layout": "IPY_MODEL_0237f57aaf5a4beebcdf204bae70b4ac"
      }
     },
     "60941db6ad444ac3a20e74c4a0322f1e": {
      "model_module": "@jupyter-widgets/controls",
      "model_module_version": "1.5.0",
      "model_name": "ButtonModel",
      "state": {
       "button_style": "info",
       "description": "show source code",
       "layout": "IPY_MODEL_0fba331dcb1e4ae681f02510588c1ce4",
       "style": "IPY_MODEL_c8896abc76484909b9b72f8e51e1aacc",
       "tooltip": "shows the raw python code in the preview window below"
      }
     },
     "60b15c50a0d248eab33b373afd8e1490": {
      "model_module": "@jupyter-widgets/controls",
      "model_module_version": "1.5.0",
      "model_name": "ButtonStyleModel",
      "state": {
       "font_weight": "bold"
      }
     },
     "60b2f46ba2f042108207b6209b0a980d": {
      "model_module": "@jupyter-widgets/controls",
      "model_module_version": "1.5.0",
      "model_name": "BoxModel",
      "state": {
       "children": [
        "IPY_MODEL_9f6f8a70832e4ec3966bcd66e3b1c8d5"
       ],
       "layout": "IPY_MODEL_00a09ae8447f45358024a7c893d9856d"
      }
     },
     "60eace387868485ca903a81fe8caf76b": {
      "model_module": "@jupyter-widgets/controls",
      "model_module_version": "1.5.0",
      "model_name": "ButtonStyleModel",
      "state": {
       "font_weight": "bold"
      }
     },
     "60eb379d3d9f4b918ba967b1a3b6f5cf": {
      "model_module": "@jupyter-widgets/controls",
      "model_module_version": "1.5.0",
      "model_name": "CheckboxModel",
      "state": {
       "disabled": false,
       "indent": false,
       "layout": "IPY_MODEL_6b7f3a585ea44de0a7cc37fd88682f76",
       "style": "IPY_MODEL_345cabd8641f4c5bafcb4645bfe4219a",
       "value": false
      }
     },
     "60efa68ee3664d9aa510852509c482a9": {
      "model_module": "@jupyter-widgets/base",
      "model_module_version": "1.2.0",
      "model_name": "LayoutModel",
      "state": {}
     },
     "6123f521c76c4505a7119e5bd54a95c7": {
      "model_module": "@jupyter-widgets/controls",
      "model_module_version": "1.5.0",
      "model_name": "BoxModel",
      "state": {
       "children": [
        "IPY_MODEL_6190a8b6a76e40eabebd95dcd1d23da7"
       ],
       "layout": "IPY_MODEL_0e0fbf3e39c849f19fdeff7ad413a849"
      }
     },
     "6129a2bd03bb43df8d98fa7f9df4af99": {
      "model_module": "@jupyter-widgets/base",
      "model_module_version": "1.2.0",
      "model_name": "LayoutModel",
      "state": {}
     },
     "6133e7aef9864cc6962bde4e856869d5": {
      "model_module": "@jupyter-widgets/controls",
      "model_module_version": "1.5.0",
      "model_name": "BoxModel",
      "state": {
       "children": [
        "IPY_MODEL_f4ec6eaed59b4f4693e8b11dca7f279c"
       ],
       "layout": "IPY_MODEL_04b5da16b6e348cbafaf73a1422888a2"
      }
     },
     "6146515f352847cb94d2e2d957eaffe5": {
      "model_module": "@jupyter-widgets/controls",
      "model_module_version": "1.5.0",
      "model_name": "VBoxModel",
      "state": {
       "children": [
        "IPY_MODEL_f4e31839fe824090961139b65db6f705",
        "IPY_MODEL_16c0ce18d2ad44f5a0fa9d1c12783eff",
        "IPY_MODEL_0e515828a98f419d8d4e7eb0b70041d3"
       ],
       "layout": "IPY_MODEL_1089565d0e55467a956e10ba8a97d7ed"
      }
     },
     "6146deda2c6e4b8a8936b45116e9f185": {
      "model_module": "@jupyter-widgets/controls",
      "model_module_version": "1.5.0",
      "model_name": "ButtonStyleModel",
      "state": {
       "font_weight": "bold"
      }
     },
     "615d2bb0ff6541c1b1a6dd42993cc572": {
      "model_module": "@jupyter-widgets/controls",
      "model_module_version": "1.5.0",
      "model_name": "TextModel",
      "state": {
       "description": "inputs",
       "disabled": true,
       "layout": "IPY_MODEL_a40843f5be6f4839940bba06c1142218",
       "style": "IPY_MODEL_85efedb50a664f87ba5625dbe8855b7f",
       "value": "C:\\engDev\\git_mf\\ipyrun\\ipyrun\\notebooks\\appdata\\inputs\\inputs-eplus_pipework_params.csv"
      }
     },
     "6162ea9bc35a4a26b473c684de55d3df": {
      "model_module": "@jupyter-widgets/controls",
      "model_module_version": "1.5.0",
      "model_name": "VBoxModel",
      "state": {
       "children": [
        "IPY_MODEL_fc9e9dff00cf4300aa8ab7a64454a9bc",
        "IPY_MODEL_5280556f304e44878adb88204b72104f"
       ],
       "layout": "IPY_MODEL_40325d4281494fbb94f2e19e83ed08cf"
      }
     },
     "618e651a21b34c6f853237ec55cfbc8a": {
      "model_module": "@jupyter-widgets/base",
      "model_module_version": "1.2.0",
      "model_name": "LayoutModel",
      "state": {
       "width": "100%"
      }
     },
     "6190a8b6a76e40eabebd95dcd1d23da7": {
      "model_module": "@jupyter-widgets/controls",
      "model_module_version": "1.5.0",
      "model_name": "HBoxModel",
      "state": {
       "children": [
        "IPY_MODEL_c2f483700c774aee8b1b4042f3fbb770",
        "IPY_MODEL_8842783dfc8b4e58aa666e7456ae1ec9",
        "IPY_MODEL_3e46ec5397e8487c838035e49f9ed97d",
        "IPY_MODEL_d95ec375101a4cc9a0af92582bd3e63b",
        "IPY_MODEL_4ce06caf7145493589d19d1493a8b501",
        "IPY_MODEL_5328c9edeb0546178bb70825704d1b83",
        "IPY_MODEL_47430cdcdcce42d2b847ba176aefe34d"
       ],
       "layout": "IPY_MODEL_83a34621c45c43b38af902b14baf4acc"
      }
     },
     "6190e522f7734b99803d70161ebafe11": {
      "model_module": "@jupyter-widgets/base",
      "model_module_version": "1.2.0",
      "model_name": "LayoutModel",
      "state": {}
     },
     "61d71b4a71dd4d749101d485c67aac74": {
      "model_module": "@jupyter-widgets/controls",
      "model_module_version": "1.5.0",
      "model_name": "ButtonStyleModel",
      "state": {}
     },
     "61f23df76cc94c73b9869c6b5ae0b155": {
      "model_module": "@jupyter-widgets/base",
      "model_module_version": "1.2.0",
      "model_name": "LayoutModel",
      "state": {}
     },
     "6226b871bfe64b4bacbc206ed33dbd30": {
      "model_module": "@jupyter-widgets/base",
      "model_module_version": "1.2.0",
      "model_name": "LayoutModel",
      "state": {}
     },
     "6230213b3a6f4fc59069d9e1f72ebdbf": {
      "model_module": "@jupyter-widgets/controls",
      "model_module_version": "1.5.0",
      "model_name": "TextModel",
      "state": {
       "description": "script",
       "disabled": true,
       "layout": "IPY_MODEL_28aa65d8e354434b9ec87e886debbe0e",
       "style": "IPY_MODEL_f148135da2594886af72b4912fa185c4",
       "value": "C:\\engDev\\git_mf\\MF_Toolbox\\dev\\mf_scripts\\docx_to_pdf.py"
      }
     },
     "624924d5808345e18e16c596372fb0e8": {
      "model_module": "@jupyter-widgets/controls",
      "model_module_version": "1.5.0",
      "model_name": "VBoxModel",
      "state": {
       "children": [
        "IPY_MODEL_54e100413217494f942cdfb5b9f5037d",
        "IPY_MODEL_343b6476295b461ba9940eadeed8705c",
        "IPY_MODEL_6d61a2ed865b4c269630bcc69ce8137c"
       ],
       "layout": "IPY_MODEL_644d1f31bf9a451b802a6f51fcb1be22"
      }
     },
     "625a373af94140cd92d736d4a5d85725": {
      "model_module": "@jupyter-widgets/output",
      "model_module_version": "1.0.0",
      "model_name": "OutputModel",
      "state": {
       "layout": "IPY_MODEL_5c0caff8e6f44f96bfaba887a783a0d2"
      }
     },
     "6261e8fbbf21487e95bba6c9d3954b5a": {
      "model_module": "@jupyter-widgets/base",
      "model_module_version": "1.2.0",
      "model_name": "LayoutModel",
      "state": {
       "height": "30px",
       "width": "auto"
      }
     },
     "627500c8fd8147d5850d51709904fc5a": {
      "model_module": "@jupyter-widgets/controls",
      "model_module_version": "1.5.0",
      "model_name": "ButtonModel",
      "state": {
       "icon": "question-circle",
       "layout": "IPY_MODEL_2507b3dfaacd4530a52a0bde3c795315",
       "style": "IPY_MODEL_c493941c96b14a7095a2dd0579eb9f43",
       "tooltip": "describes the functionality of elements in the RunApp interface"
      }
     },
     "62b14e28ed494a10a55e58e5056c0c0f": {
      "model_module": "@jupyter-widgets/controls",
      "model_module_version": "1.5.0",
      "model_name": "DescriptionStyleModel",
      "state": {
       "description_width": ""
      }
     },
     "62be4ec4bed84de78f1e2359522d0d1e": {
      "model_module": "@jupyter-widgets/base",
      "model_module_version": "1.2.0",
      "model_name": "LayoutModel",
      "state": {}
     },
     "62dca419527b40af80904c5ebfbd0033": {
      "model_module": "@jupyter-widgets/controls",
      "model_module_version": "1.5.0",
      "model_name": "ButtonModel",
      "state": {
       "button_style": "info",
       "description": "show guide",
       "layout": "IPY_MODEL_9d76d449da68436e94ad86622d972f46",
       "style": "IPY_MODEL_644dde7d1c2d4d92811763b45177a39e",
       "tooltip": "read the \"docstring\", ie. the documentation that was written to accompany the script"
      }
     },
     "62ed45f0eb314169b823e653f7df133f": {
      "model_module": "@jupyter-widgets/controls",
      "model_module_version": "1.5.0",
      "model_name": "ButtonModel",
      "state": {
       "icon": "eye-slash",
       "layout": "IPY_MODEL_8b644dbba96e4f51951f3e0436881bbb",
       "style": "IPY_MODEL_be5702aac79243029f8c3b8dbd78c5a3",
       "tooltip": "removes temporary output view"
      }
     },
     "62f12c2f29864f8188c098f900292978": {
      "model_module": "@jupyter-widgets/base",
      "model_module_version": "1.2.0",
      "model_name": "LayoutModel",
      "state": {
       "height": "30px",
       "width": "auto"
      }
     },
     "62f27510b8c048beba9ff28ef674cf4b": {
      "model_module": "@jupyter-widgets/controls",
      "model_module_version": "1.5.0",
      "model_name": "TextModel",
      "state": {
       "description": "inputs",
       "disabled": true,
       "layout": "IPY_MODEL_ab75ab136c674f1bbe383faacbb0ad47",
       "style": "IPY_MODEL_4d01231d451046d9be60172854e062a2",
       "value": "C:\\engDev\\git_mf\\ipyrun\\ipyrun\\appdata\\inputs\\inputs-eplus_pipework_params.csv"
      }
     },
     "6302dafae2c345f7b4c764c8efc84bad": {
      "model_module": "@jupyter-widgets/base",
      "model_module_version": "1.2.0",
      "model_name": "LayoutModel",
      "state": {}
     },
     "63321adf7a8d4709ad035fdb15fc9f46": {
      "model_module": "@jupyter-widgets/base",
      "model_module_version": "1.2.0",
      "model_name": "LayoutModel",
      "state": {}
     },
     "6341bb561dd24834a9d0b6172a13662b": {
      "model_module": "@jupyter-widgets/base",
      "model_module_version": "1.2.0",
      "model_name": "LayoutModel",
      "state": {
       "height": "30px",
       "width": "auto"
      }
     },
     "6353746dff9e4f1491fc721b8892d969": {
      "model_module": "@jupyter-widgets/controls",
      "model_module_version": "1.5.0",
      "model_name": "ButtonStyleModel",
      "state": {
       "font_weight": "bold"
      }
     },
     "6369669c5d244995b80da468be5a6e49": {
      "model_module": "@jupyter-widgets/base",
      "model_module_version": "1.2.0",
      "model_name": "LayoutModel",
      "state": {}
     },
     "638fd4e96e41458d95c054471c3ba7d5": {
      "model_module": "@jupyter-widgets/controls",
      "model_module_version": "1.5.0",
      "model_name": "CheckboxModel",
      "state": {
       "disabled": false,
       "indent": false,
       "layout": "IPY_MODEL_e56ab42b4b2e4b76a748377189a7f275",
       "style": "IPY_MODEL_af80f6f5e28c4dac813b83d37b0a1704",
       "value": false
      }
     },
     "63a87f2a140947349a9d552e42649e11": {
      "model_module": "@jupyter-widgets/controls",
      "model_module_version": "1.5.0",
      "model_name": "VBoxModel",
      "state": {
       "children": [
        "IPY_MODEL_6c0789fcc8ee4b58ade40e4abc993976",
        "IPY_MODEL_72195d21d8bf4f1d9c529908e7558c59",
        "IPY_MODEL_64fc1f56e48a4e138f5b96f73b6fe00c"
       ],
       "layout": "IPY_MODEL_9c705894862649e1a8222389419cbb9e"
      }
     },
     "63bead32d86b44a6a1f79beb202d0cef": {
      "model_module": "@jupyter-widgets/base",
      "model_module_version": "1.2.0",
      "model_name": "LayoutModel",
      "state": {
       "align_items": "stretch",
       "width": "100%"
      }
     },
     "63e7a11fac0746cd8b3ffa942b9b5f75": {
      "model_module": "@jupyter-widgets/controls",
      "model_module_version": "1.5.0",
      "model_name": "ButtonModel",
      "state": {
       "button_style": "info",
       "description": "preview outputs",
       "layout": "IPY_MODEL_3803ba7946ad4f1780bbc1fd258bdcf5",
       "style": "IPY_MODEL_399294e174364c3e89184f603cf1264a",
       "tooltip": "show a preview of the output files generated when the script runs"
      }
     },
     "63f24d1f446a445c99d048e7fc6de0fc": {
      "model_module": "@jupyter-widgets/base",
      "model_module_version": "1.2.0",
      "model_name": "LayoutModel",
      "state": {
       "align_items": "stretch",
       "width": "100%"
      }
     },
     "641a96ed0c204d61a5d4f1914e9960c7": {
      "model_module": "@jupyter-widgets/controls",
      "model_module_version": "1.5.0",
      "model_name": "HBoxModel",
      "state": {
       "children": [
        "IPY_MODEL_973e38f9b4604539a4c05fb5c462e102",
        "IPY_MODEL_cd3103751be843b99d1aab7e27ba728e",
        "IPY_MODEL_226f6b37d0bd43c7882ea67c083ee67b",
        "IPY_MODEL_27458cfbe2b64b3196a8f7f26552aaf5",
        "IPY_MODEL_bfa2aca9c6384dabb5d6214b146eadf7",
        "IPY_MODEL_7ddf98296e4d451a8598d77ad053c8df",
        "IPY_MODEL_5072260fcddb43ab81fc97642dc2013a"
       ],
       "layout": "IPY_MODEL_aada493998d4472cb963e960d5e824b1"
      }
     },
     "6434498338ad413eba92dd0509737fdf": {
      "model_module": "@jupyter-widgets/base",
      "model_module_version": "1.2.0",
      "model_name": "LayoutModel",
      "state": {}
     },
     "643942310fa64609aaeebc0ba77b3c50": {
      "model_module": "@jupyter-widgets/controls",
      "model_module_version": "1.5.0",
      "model_name": "ButtonModel",
      "state": {
       "button_style": "success",
       "description": "run",
       "layout": "IPY_MODEL_7b4e940a2d3b4744b8bd45461eea0764",
       "style": "IPY_MODEL_e16e80ffa1624b5a9816938e86062fcb",
       "tooltip": "execute the script based on the user inputs"
      }
     },
     "644d1f31bf9a451b802a6f51fcb1be22": {
      "model_module": "@jupyter-widgets/base",
      "model_module_version": "1.2.0",
      "model_name": "LayoutModel",
      "state": {
       "align_items": "stretch",
       "width": "100%"
      }
     },
     "644dde7d1c2d4d92811763b45177a39e": {
      "model_module": "@jupyter-widgets/controls",
      "model_module_version": "1.5.0",
      "model_name": "ButtonStyleModel",
      "state": {
       "font_weight": "bold"
      }
     },
     "646a083cafc3474f816414bbd7d3ee38": {
      "model_module": "@jupyter-widgets/base",
      "model_module_version": "1.2.0",
      "model_name": "LayoutModel",
      "state": {
       "width": "5%"
      }
     },
     "646a3e49932842b29ced8e94bde742e0": {
      "model_module": "@jupyter-widgets/controls",
      "model_module_version": "1.5.0",
      "model_name": "ButtonModel",
      "state": {
       "button_style": "info",
       "description": "preview outputs",
       "layout": "IPY_MODEL_9d5852f7be41416f82de90b5367423e1",
       "style": "IPY_MODEL_8d1339a75f4343708771d2abe5aa7f41",
       "tooltip": "show a preview of the output files generated when the script runs"
      }
     },
     "647077af6395479b8d2612e04b1ba5d8": {
      "model_module": "@jupyter-widgets/controls",
      "model_module_version": "1.5.0",
      "model_name": "AccordionModel",
      "state": {
       "_titles": {
        "0": "eplus_pipework_params"
       },
       "children": [
        "IPY_MODEL_75545b52a8c543fdb67310cbe5a4b535"
       ],
       "layout": "IPY_MODEL_07e6a7cc4dd3418d8cb10cce6b626894",
       "selected_index": null
      }
     },
     "64808af8eec544ba9e39530b71ce97bd": {
      "model_module": "@jupyter-widgets/base",
      "model_module_version": "1.2.0",
      "model_name": "LayoutModel",
      "state": {
       "align_items": "stretch",
       "width": "100%"
      }
     },
     "6482e64d9d0a49e788215c7f439c3869": {
      "model_module": "@jupyter-widgets/controls",
      "model_module_version": "1.5.0",
      "model_name": "ButtonStyleModel",
      "state": {
       "font_weight": "bold"
      }
     },
     "64851ad6d05742c587532b298f0c2aa1": {
      "model_module": "@jupyter-widgets/controls",
      "model_module_version": "1.5.0",
      "model_name": "ButtonStyleModel",
      "state": {}
     },
     "648f41d7d91c44d9a161f70d39f410fa": {
      "model_module": "@jupyter-widgets/base",
      "model_module_version": "1.2.0",
      "model_name": "LayoutModel",
      "state": {
       "align_items": "stretch",
       "width": "100%"
      }
     },
     "64a882928d9b437392d63829fc6b26f9": {
      "model_module": "@jupyter-widgets/base",
      "model_module_version": "1.2.0",
      "model_name": "LayoutModel",
      "state": {}
     },
     "64fa25c5fd3a4eaca81c990426f278f5": {
      "model_module": "@jupyter-widgets/base",
      "model_module_version": "1.2.0",
      "model_name": "LayoutModel",
      "state": {}
     },
     "64fc1f56e48a4e138f5b96f73b6fe00c": {
      "model_module": "@jupyter-widgets/controls",
      "model_module_version": "1.5.0",
      "model_name": "SelectMultipleModel",
      "state": {
       "_options_labels": [
        "C:\\engDev\\git_mf\\ipyrun\\data\\external\\eplus_pipework_params.csv"
       ],
       "description": "outputs",
       "index": [],
       "layout": "IPY_MODEL_adb659df586645388cb18045c49c6aac",
       "rows": 4,
       "style": "IPY_MODEL_1863015e8b2b4b0da6eb0415e9f4fc6f"
      }
     },
     "6501e29b8e78429b85a2fcc58da0e9ee": {
      "model_module": "@jupyter-widgets/controls",
      "model_module_version": "1.5.0",
      "model_name": "TextModel",
      "state": {
       "description": "script",
       "disabled": true,
       "layout": "IPY_MODEL_e5e42575373a4cba9ca0742bfa0b0d6a",
       "style": "IPY_MODEL_f301424b9d8e45f4bc594962694306b7",
       "value": "C:\\engDev\\git_mf\\MF_Toolbox\\dev\\mf_scripts\\gbxml.py"
      }
     },
     "652a001ecdcd445aaa28ac79ab83200f": {
      "model_module": "@jupyter-widgets/controls",
      "model_module_version": "1.5.0",
      "model_name": "ButtonModel",
      "state": {
       "icon": "question-circle",
       "layout": "IPY_MODEL_6d4164b3d22a47b491e7be7cf1597142",
       "style": "IPY_MODEL_5187d816c70b48d0a9e9ea198e2ea9c6",
       "tooltip": "describes the functionality of elements in the RunApp interface"
      }
     },
     "6556fb11a4384588a210572fae228ba8": {
      "model_module": "@jupyter-widgets/controls",
      "model_module_version": "1.5.0",
      "model_name": "ButtonModel",
      "state": {
       "icon": "eye-slash",
       "layout": "IPY_MODEL_665ca5301d5b46489241557b54590371",
       "style": "IPY_MODEL_26c222cd7ab743478f49ae2e96e1979b",
       "tooltip": "removes temporary output view"
      }
     },
     "6571b51a3cac45dc827f4bba946aa375": {
      "model_module": "@jupyter-widgets/controls",
      "model_module_version": "1.5.0",
      "model_name": "ButtonModel",
      "state": {
       "icon": "question-circle",
       "layout": "IPY_MODEL_19d9e5da183a49ddbc3dfb39c0187e45",
       "style": "IPY_MODEL_f11f0caeca1047eba5e5ae250e032d42",
       "tooltip": "describes the functionality of elements in the RunApp interface"
      }
     },
     "657a52d85e1c48e48c35c566707fa3da": {
      "model_module": "@jupyter-widgets/controls",
      "model_module_version": "1.5.0",
      "model_name": "ButtonStyleModel",
      "state": {
       "font_weight": "bold"
      }
     },
     "65836b497c8a40d49b92cf041389e625": {
      "model_module": "@jupyter-widgets/base",
      "model_module_version": "1.2.0",
      "model_name": "LayoutModel",
      "state": {}
     },
     "65b179386bb6468792f6227b8915b2ca": {
      "model_module": "@jupyter-widgets/controls",
      "model_module_version": "1.5.0",
      "model_name": "ButtonStyleModel",
      "state": {}
     },
     "65bccd12dbde46069f0212233c701ed2": {
      "model_module": "@jupyter-widgets/base",
      "model_module_version": "1.2.0",
      "model_name": "LayoutModel",
      "state": {}
     },
     "65cdfee1e5fc4750bbea18d8033a3b7f": {
      "model_module": "@jupyter-widgets/controls",
      "model_module_version": "1.5.0",
      "model_name": "VBoxModel",
      "state": {
       "children": [
        "IPY_MODEL_9c72efe140f9467b97d2b7391e4803dd",
        "IPY_MODEL_21ef036f50db4fa1818728fdcc72617a",
        "IPY_MODEL_d777cb40240e4121bb547c3bd97fe392"
       ],
       "layout": "IPY_MODEL_e2956b59aa8c4f1b8670bd447a7629a1"
      }
     },
     "65dd4eed3853428fabaaff1bd213cb8c": {
      "model_module": "@jupyter-widgets/controls",
      "model_module_version": "1.5.0",
      "model_name": "ButtonStyleModel",
      "state": {
       "font_weight": "bold"
      }
     },
     "664833f26e9e43fa917cdfb5041bca46": {
      "model_module": "@jupyter-widgets/controls",
      "model_module_version": "1.5.0",
      "model_name": "ButtonModel",
      "state": {
       "button_style": "info",
       "description": "show log",
       "layout": "IPY_MODEL_a1f8209cf09c4ce184125c7118fa75c8",
       "style": "IPY_MODEL_bd2881bd0cbb43ff90c3c0ee86dcd29e",
       "tooltip": "show a log of when the script was executed to generate the outputs, and by who"
      }
     },
     "665ca5301d5b46489241557b54590371": {
      "model_module": "@jupyter-widgets/base",
      "model_module_version": "1.2.0",
      "model_name": "LayoutModel",
      "state": {
       "width": "5%"
      }
     },
     "6708c1f69556441e8289ab30c95a14b3": {
      "model_module": "@jupyter-widgets/controls",
      "model_module_version": "1.5.0",
      "model_name": "VBoxModel",
      "state": {
       "children": [
        "IPY_MODEL_d184ec282859496b8858c77fa21352ab",
        "IPY_MODEL_9f19963fadd84a74846d838e31d6e2e9"
       ],
       "layout": "IPY_MODEL_1d32b2b913f3415eba6ed1b5fb1cd129"
      }
     },
     "673f2f9b2a524016b396d82cf9288714": {
      "model_module": "@jupyter-widgets/base",
      "model_module_version": "1.2.0",
      "model_name": "LayoutModel",
      "state": {}
     },
     "6755f29d88e446a79f315e6834d067cd": {
      "model_module": "@jupyter-widgets/controls",
      "model_module_version": "1.5.0",
      "model_name": "ButtonModel",
      "state": {
       "button_style": "info",
       "description": "show source code",
       "layout": "IPY_MODEL_6434498338ad413eba92dd0509737fdf",
       "style": "IPY_MODEL_39bafd421e534ea18841ebfbbd54ae26",
       "tooltip": "shows the raw python code in the preview window below"
      }
     },
     "6772c1414d7b402887ff9eda9c8ea3ed": {
      "model_module": "@jupyter-widgets/base",
      "model_module_version": "1.2.0",
      "model_name": "LayoutModel",
      "state": {}
     },
     "6790037faf724cbfa8e8b74551ca58a0": {
      "model_module": "@jupyter-widgets/base",
      "model_module_version": "1.2.0",
      "model_name": "LayoutModel",
      "state": {}
     },
     "6792806e4d88457e96849fde54cd9693": {
      "model_module": "@jupyter-widgets/base",
      "model_module_version": "1.2.0",
      "model_name": "LayoutModel",
      "state": {
       "height": "30px",
       "width": "auto"
      }
     },
     "67cfe18811b44fda95b3e342645ff6e9": {
      "model_module": "@jupyter-widgets/base",
      "model_module_version": "1.2.0",
      "model_name": "LayoutModel",
      "state": {}
     },
     "67d141a9dc594c739b3eb723852aff18": {
      "model_module": "@jupyter-widgets/controls",
      "model_module_version": "1.5.0",
      "model_name": "SelectMultipleModel",
      "state": {
       "_options_labels": [
        "C:\\engDev\\git_mf\\ipyrun\\reports\\JupyterReportDemo.pdf"
       ],
       "description": "outputs",
       "index": [],
       "layout": "IPY_MODEL_c87c7ca0e3a84e6385e72aa6c6de56d4",
       "rows": 4,
       "style": "IPY_MODEL_ab9d38bb7da348dba56074365d94de7c"
      }
     },
     "681698d966804277b7b1fb7c64faf1a3": {
      "model_module": "@jupyter-widgets/base",
      "model_module_version": "1.2.0",
      "model_name": "LayoutModel",
      "state": {
       "height": "30px",
       "width": "auto"
      }
     },
     "681832fa97db4220ae02288a42b87286": {
      "model_module": "@jupyter-widgets/controls",
      "model_module_version": "1.5.0",
      "model_name": "TextModel",
      "state": {
       "description": "script",
       "disabled": true,
       "layout": "IPY_MODEL_6bdbcf90e8ce4b8989c07a505208ea54",
       "style": "IPY_MODEL_0516423ea22841fb8ab657d19c3e9317",
       "value": "C:\\engDev\\git_mf\\MF_Toolbox\\dev\\mf_scripts\\docx_to_pdf.py"
      }
     },
     "682e6597502f4e85a29b4b324b0fc223": {
      "model_module": "@jupyter-widgets/controls",
      "model_module_version": "1.5.0",
      "model_name": "HBoxModel",
      "state": {
       "children": [
        "IPY_MODEL_c931a4feab7d48b9a00b7bcd2ad05cec",
        "IPY_MODEL_5aab59760e214a6681b88968b1f2040f"
       ],
       "layout": "IPY_MODEL_687aa2251c7e421aaff3ad0fa6950930"
      }
     },
     "6833959d90f74b5894d360fc4dc5dfe7": {
      "model_module": "@jupyter-widgets/base",
      "model_module_version": "1.2.0",
      "model_name": "LayoutModel",
      "state": {
       "border": "0px",
       "margin": "0px",
       "padding": "0px"
      }
     },
     "685fa11a2a524b36a9a03c13cc2be557": {
      "model_module": "@jupyter-widgets/controls",
      "model_module_version": "1.5.0",
      "model_name": "ButtonModel",
      "state": {
       "button_style": "info",
       "description": "show source code",
       "layout": "IPY_MODEL_a5a0ccb694e148f89f18cc696d89e687",
       "style": "IPY_MODEL_4ee08a591c2841c48ab630b022a55872",
       "tooltip": "shows the raw python code in the preview window below"
      }
     },
     "687a5aa70a4c40948490e57faf0ee535": {
      "model_module": "@jupyter-widgets/controls",
      "model_module_version": "1.5.0",
      "model_name": "DescriptionStyleModel",
      "state": {
       "description_width": ""
      }
     },
     "687aa2251c7e421aaff3ad0fa6950930": {
      "model_module": "@jupyter-widgets/base",
      "model_module_version": "1.2.0",
      "model_name": "LayoutModel",
      "state": {
       "border": "0px",
       "margin": "0px",
       "padding": "0px"
      }
     },
     "6885be5e3d014e08ac563a8a0a5792db": {
      "model_module": "@jupyter-widgets/controls",
      "model_module_version": "1.5.0",
      "model_name": "ButtonStyleModel",
      "state": {
       "font_weight": "bold"
      }
     },
     "68a01aaeb2d540b79d0133accd1d80c2": {
      "model_module": "@jupyter-widgets/controls",
      "model_module_version": "1.5.0",
      "model_name": "ButtonModel",
      "state": {
       "button_style": "warning",
       "description": "edit inputs",
       "layout": "IPY_MODEL_395ace6ab7d940c6a3078974be1bd564",
       "style": "IPY_MODEL_ddb02f4fe27f4557a628b97f9938f9a0",
       "tooltip": "edit the user input information that is used when the script is executed"
      }
     },
     "68ab268fc52e471e849d8eee52612a05": {
      "model_module": "@jupyter-widgets/controls",
      "model_module_version": "1.5.0",
      "model_name": "ButtonStyleModel",
      "state": {
       "font_weight": "bold"
      }
     },
     "68ccbede38014a169b42e70256478b49": {
      "model_module": "@jupyter-widgets/controls",
      "model_module_version": "1.5.0",
      "model_name": "ButtonStyleModel",
      "state": {
       "font_weight": "bold"
      }
     },
     "68fa769b47ba4cf5bc276b8fdc9b9a55": {
      "model_module": "@jupyter-widgets/base",
      "model_module_version": "1.2.0",
      "model_name": "LayoutModel",
      "state": {}
     },
     "690dcb33bed046b289aa7fee1d076783": {
      "model_module": "@jupyter-widgets/controls",
      "model_module_version": "1.5.0",
      "model_name": "CheckboxModel",
      "state": {
       "disabled": false,
       "indent": false,
       "layout": "IPY_MODEL_71e829abfbcf4a24aa6e3a4bb8a0a6c3",
       "style": "IPY_MODEL_a78b27fb85364356a7f00fe90f2476e7",
       "value": false
      }
     },
     "690ee27469fb4d569448e603767b1077": {
      "model_module": "@jupyter-widgets/controls",
      "model_module_version": "1.5.0",
      "model_name": "TextModel",
      "state": {
       "description": "script",
       "disabled": true,
       "layout": "IPY_MODEL_d9d108bc7c464809b10abcbcd74fbba2",
       "style": "IPY_MODEL_2dfd2d2f63824ad0af707afeab829e07",
       "value": "C:\\engDev\\git_mf\\MF_Toolbox\\dev\\mf_scripts\\eplus_pipework_params.py"
      }
     },
     "690f64f29bfc498bb9460dfc9cb2a75a": {
      "model_module": "@jupyter-widgets/base",
      "model_module_version": "1.2.0",
      "model_name": "LayoutModel",
      "state": {}
     },
     "6919ea3e07bb4313aa2a7faedbe2e0c2": {
      "model_module": "@jupyter-widgets/base",
      "model_module_version": "1.2.0",
      "model_name": "LayoutModel",
      "state": {}
     },
     "692cac469dea4fa4a09350b362f7e5eb": {
      "model_module": "@jupyter-widgets/base",
      "model_module_version": "1.2.0",
      "model_name": "LayoutModel",
      "state": {}
     },
     "692cb9ea55af428b8c1a5bd4bd8858be": {
      "model_module": "@jupyter-widgets/controls",
      "model_module_version": "1.5.0",
      "model_name": "ButtonModel",
      "state": {
       "icon": "question-circle",
       "layout": "IPY_MODEL_761f99a97cb2495e9e794d8bb9f3e1c6",
       "style": "IPY_MODEL_9f5fc9a1772c44f681a2dcbb7938e020",
       "tooltip": "describes the functionality of elements in the RunApp interface"
      }
     },
     "693273afa3384acf8439189c36a73440": {
      "model_module": "@jupyter-widgets/controls",
      "model_module_version": "1.5.0",
      "model_name": "AccordionModel",
      "state": {
       "_titles": {
        "0": "docx_to_pdf"
       },
       "children": [
        "IPY_MODEL_9d25125177c749f6955cb77533a00c73"
       ],
       "layout": "IPY_MODEL_ec2f8354a34b4e26bb7641151fe790f0",
       "selected_index": null
      }
     },
     "693f809e58b145df9739441003baf2fe": {
      "model_module": "@jupyter-widgets/base",
      "model_module_version": "1.2.0",
      "model_name": "LayoutModel",
      "state": {}
     },
     "6968683505f74a4f8774bc5b6867f973": {
      "model_module": "@jupyter-widgets/base",
      "model_module_version": "1.2.0",
      "model_name": "LayoutModel",
      "state": {}
     },
     "696a7e8af1dd4269bd2ea5f057e0e5d9": {
      "model_module": "@jupyter-widgets/base",
      "model_module_version": "1.2.0",
      "model_name": "LayoutModel",
      "state": {
       "height": "30px",
       "width": "auto"
      }
     },
     "697a02a8c41d46ed903a42420c3505c6": {
      "model_module": "@jupyter-widgets/controls",
      "model_module_version": "1.5.0",
      "model_name": "VBoxModel",
      "state": {
       "children": [
        "IPY_MODEL_b7b53f0ab1694db69535c9f9a86f6cef",
        "IPY_MODEL_a0d1398407f74c4f9b725c9ed949bbb0",
        "IPY_MODEL_7065cd670a474c4997efc198ece72170"
       ],
       "layout": "IPY_MODEL_1db7a486c54a41ecba5e475c73e86037"
      }
     },
     "69822aa0f7524444838a19193e0d39c5": {
      "model_module": "@jupyter-widgets/controls",
      "model_module_version": "1.5.0",
      "model_name": "ButtonStyleModel",
      "state": {
       "font_weight": "bold"
      }
     },
     "69882ed94dc44ccab42570739292cbe8": {
      "model_module": "@jupyter-widgets/controls",
      "model_module_version": "1.5.0",
      "model_name": "VBoxModel",
      "state": {
       "children": [
        "IPY_MODEL_354f6481417e438e8b70dc30ba245876",
        "IPY_MODEL_2fcd5fc8768c45e4a408ca9884e0431e",
        "IPY_MODEL_77dd8ee974604d4eb06a71d38ab7d2ce"
       ],
       "layout": "IPY_MODEL_32b92d9e01374aee9947157b0c946a64"
      }
     },
     "698b4a1884df4dbea72f96ef89db70ad": {
      "model_module": "@jupyter-widgets/controls",
      "model_module_version": "1.5.0",
      "model_name": "ButtonStyleModel",
      "state": {
       "font_weight": "bold"
      }
     },
     "698d8c6717b94fc49c839ca5d4546c86": {
      "model_module": "@jupyter-widgets/base",
      "model_module_version": "1.2.0",
      "model_name": "LayoutModel",
      "state": {
       "align_items": "stretch",
       "width": "100%"
      }
     },
     "6995bb2e0b4046039254a028769a1971": {
      "model_module": "@jupyter-widgets/controls",
      "model_module_version": "1.5.0",
      "model_name": "HBoxModel",
      "state": {
       "children": [
        "IPY_MODEL_127b3ed6005a4bec984590d7ef245c64",
        "IPY_MODEL_00f65f5e57cb460d8374caa4f049599e"
       ],
       "layout": "IPY_MODEL_4b7bfa9680804f6cbd4bc3165c36c5bf"
      }
     },
     "69a2fd92cdb042158ba9e7a3f8daaeb9": {
      "model_module": "@jupyter-widgets/controls",
      "model_module_version": "1.5.0",
      "model_name": "DescriptionStyleModel",
      "state": {
       "description_width": ""
      }
     },
     "69a393d9bba149249786167409b916c1": {
      "model_module": "@jupyter-widgets/controls",
      "model_module_version": "1.5.0",
      "model_name": "HBoxModel",
      "state": {
       "children": [
        "IPY_MODEL_4a19d921714d449ca8d88ef460fd1444",
        "IPY_MODEL_9b90c88bf78043fbb499563daed5938c",
        "IPY_MODEL_f44a562c5933495baaf8d837eff733db",
        "IPY_MODEL_f266251dad674df8b93d796ff2b10013",
        "IPY_MODEL_fe8b4a6bebb543b38d107701163f73fc",
        "IPY_MODEL_566cb1a38784484b84b06ad54e052515",
        "IPY_MODEL_2069761b1e7e4fa8a4bda9fb92aad1ae"
       ],
       "layout": "IPY_MODEL_2e687c8c77f34e6fb329d27febe225ab"
      }
     },
     "69c01799abe546c288c437183e728712": {
      "model_module": "@jupyter-widgets/base",
      "model_module_version": "1.2.0",
      "model_name": "LayoutModel",
      "state": {
       "height": "30px",
       "width": "auto"
      }
     },
     "69d6f466501143ffbf75686d1b656ff2": {
      "model_module": "@jupyter-widgets/base",
      "model_module_version": "1.2.0",
      "model_name": "LayoutModel",
      "state": {}
     },
     "69d79710a7dc42939ec71ac746a34697": {
      "model_module": "@jupyter-widgets/base",
      "model_module_version": "1.2.0",
      "model_name": "LayoutModel",
      "state": {}
     },
     "69daaa9c86ad4abf9d830985fe0fc67e": {
      "model_module": "@jupyter-widgets/controls",
      "model_module_version": "1.5.0",
      "model_name": "ButtonStyleModel",
      "state": {
       "font_weight": "bold"
      }
     },
     "69ee9ac99e264dc8ba226ddc6ee2915b": {
      "model_module": "@jupyter-widgets/controls",
      "model_module_version": "1.5.0",
      "model_name": "ButtonModel",
      "state": {
       "button_style": "success",
       "description": "run",
       "layout": "IPY_MODEL_163feca0e8ab457d9077fec884c7d829",
       "style": "IPY_MODEL_8726fc6866f0446786584b1d72160ac7",
       "tooltip": "execute the script based on the user inputs"
      }
     },
     "69f6f1e0ee3d47e1a10d2db985985409": {
      "model_module": "@jupyter-widgets/controls",
      "model_module_version": "1.5.0",
      "model_name": "ButtonModel",
      "state": {
       "button_style": "info",
       "description": "preview outputs",
       "layout": "IPY_MODEL_3317d3df1da84603aeedce0b7076d21a",
       "style": "IPY_MODEL_8667fb4f63eb4e1fa5390d024d7129f5",
       "tooltip": "show a preview of the output files generated when the script runs"
      }
     },
     "6a0caaff9c914e1098844cc7ff87b7c8": {
      "model_module": "@jupyter-widgets/base",
      "model_module_version": "1.2.0",
      "model_name": "LayoutModel",
      "state": {
       "height": "30px",
       "width": "auto"
      }
     },
     "6a30730804094461a52ab8f36f176505": {
      "model_module": "@jupyter-widgets/controls",
      "model_module_version": "1.5.0",
      "model_name": "ButtonStyleModel",
      "state": {}
     },
     "6a364fe3a2f74229b6dd87b2eb8fa461": {
      "model_module": "@jupyter-widgets/base",
      "model_module_version": "1.2.0",
      "model_name": "LayoutModel",
      "state": {
       "width": "5%"
      }
     },
     "6a74784e5fd742568869d1f79dba59aa": {
      "model_module": "@jupyter-widgets/output",
      "model_module_version": "1.0.0",
      "model_name": "OutputModel",
      "state": {
       "layout": "IPY_MODEL_0755b270b5db46c2a975c269a05100f6"
      }
     },
     "6ab6b4b213394a108b8471deddfb1013": {
      "model_module": "@jupyter-widgets/base",
      "model_module_version": "1.2.0",
      "model_name": "LayoutModel",
      "state": {
       "align_items": "stretch",
       "width": "100%"
      }
     },
     "6ac83f6990b04c419d5c038afe907287": {
      "model_module": "@jupyter-widgets/controls",
      "model_module_version": "1.5.0",
      "model_name": "ButtonModel",
      "state": {
       "button_style": "success",
       "description": "run batch",
       "layout": "IPY_MODEL_911e26f52041474fa0aaee58bf457d27",
       "style": "IPY_MODEL_a60ee40b65584a18923e20ba1c90fcdb",
       "tooltip": "execute checked processes below"
      }
     },
     "6ad07be6035649b9922535e0b2dacde2": {
      "model_module": "@jupyter-widgets/base",
      "model_module_version": "1.2.0",
      "model_name": "LayoutModel",
      "state": {
       "height": "30px",
       "width": "auto"
      }
     },
     "6ad35a9938684a7da61f2f7b784063d3": {
      "model_module": "@jupyter-widgets/controls",
      "model_module_version": "1.5.0",
      "model_name": "ButtonModel",
      "state": {
       "button_style": "info",
       "description": "show log",
       "layout": "IPY_MODEL_ae3a79fa45834458a4f2d55cee2cf426",
       "style": "IPY_MODEL_8991c91b4e9e49cfb4699e5ff23042ff",
       "tooltip": "show a log of when the script was executed to generate the outputs, and by who"
      }
     },
     "6ae6f76b8b894bcf8ae6ea6670864b1c": {
      "model_module": "@jupyter-widgets/controls",
      "model_module_version": "1.5.0",
      "model_name": "ButtonStyleModel",
      "state": {}
     },
     "6b1205f9b4d849bd9870dad9ae3f11c3": {
      "model_module": "@jupyter-widgets/controls",
      "model_module_version": "1.5.0",
      "model_name": "ButtonModel",
      "state": {
       "button_style": "warning",
       "description": "edit inputs",
       "layout": "IPY_MODEL_a3f076542f0348499050bb98a9521432",
       "style": "IPY_MODEL_4f89ed58c68f44809706ee8679cf7860",
       "tooltip": "edit the user input information that is used when the script is executed"
      }
     },
     "6b34d61ccff44400aa548fccdcbae912": {
      "model_module": "@jupyter-widgets/controls",
      "model_module_version": "1.5.0",
      "model_name": "ButtonStyleModel",
      "state": {
       "font_weight": "bold"
      }
     },
     "6b3825ab0db3461ea948b50560d8b277": {
      "model_module": "@jupyter-widgets/base",
      "model_module_version": "1.2.0",
      "model_name": "LayoutModel",
      "state": {}
     },
     "6b424dfd94014f64aeb29afa15095992": {
      "model_module": "@jupyter-widgets/base",
      "model_module_version": "1.2.0",
      "model_name": "LayoutModel",
      "state": {}
     },
     "6b7f3a585ea44de0a7cc37fd88682f76": {
      "model_module": "@jupyter-widgets/base",
      "model_module_version": "1.2.0",
      "model_name": "LayoutModel",
      "state": {
       "height": "30px",
       "max_width": "30px",
       "padding": "3px"
      }
     },
     "6b823b138e3e44cfb3f93259124ba6c9": {
      "model_module": "@jupyter-widgets/base",
      "model_module_version": "1.2.0",
      "model_name": "LayoutModel",
      "state": {}
     },
     "6ba4ecc504d74d5f90bb77330d64362b": {
      "model_module": "@jupyter-widgets/controls",
      "model_module_version": "1.5.0",
      "model_name": "TextModel",
      "state": {
       "description": "inputs",
       "disabled": true,
       "layout": "IPY_MODEL_4e62c643a02a4728ad91660f64a973ea",
       "style": "IPY_MODEL_0153406294e846a1adce8791df5559f1",
       "value": "C:\\engDev\\git_mf\\ipyrun\\ipyrun\\notebooks\\appdata\\inputs\\inputs-eplus_pipework_params.csv"
      }
     },
     "6baaf5a08a8a4d5a9b98a166a69a62dd": {
      "model_module": "@jupyter-widgets/base",
      "model_module_version": "1.2.0",
      "model_name": "LayoutModel",
      "state": {
       "border": "0px",
       "margin": "0px",
       "padding": "0px"
      }
     },
     "6bbd5a0e04fa48ba905d0e1bfe983c09": {
      "model_module": "@jupyter-widgets/controls",
      "model_module_version": "1.5.0",
      "model_name": "ButtonStyleModel",
      "state": {
       "font_weight": "bold"
      }
     },
     "6bdbcf90e8ce4b8989c07a505208ea54": {
      "model_module": "@jupyter-widgets/base",
      "model_module_version": "1.2.0",
      "model_name": "LayoutModel",
      "state": {
       "height": "30px",
       "width": "auto"
      }
     },
     "6bf1722a12074104a046bd07b06f7495": {
      "model_module": "@jupyter-widgets/base",
      "model_module_version": "1.2.0",
      "model_name": "LayoutModel",
      "state": {}
     },
     "6c0510b5bc6f43e0917f84b4be6ccd1f": {
      "model_module": "@jupyter-widgets/base",
      "model_module_version": "1.2.0",
      "model_name": "LayoutModel",
      "state": {}
     },
     "6c0789fcc8ee4b58ade40e4abc993976": {
      "model_module": "@jupyter-widgets/controls",
      "model_module_version": "1.5.0",
      "model_name": "TextModel",
      "state": {
       "description": "inputs",
       "disabled": true,
       "layout": "IPY_MODEL_f8522b10f6ad428ebf4dbade7260ec72",
       "style": "IPY_MODEL_1fc25e8b9c2f46fe9e59a13af93d652b",
       "value": "C:\\engDev\\git_mf\\ipyrun\\ipyrun\\notebooks\\appdata\\inputs\\inputs-eplus_pipework_params.csv"
      }
     },
     "6c31293a7fef41d18b944271aa6f091b": {
      "model_module": "@jupyter-widgets/controls",
      "model_module_version": "1.5.0",
      "model_name": "ButtonStyleModel",
      "state": {
       "font_weight": "bold"
      }
     },
     "6c37239fd4a5411c81f06b61e1ee747d": {
      "model_module": "@jupyter-widgets/controls",
      "model_module_version": "1.5.0",
      "model_name": "ButtonModel",
      "state": {
       "button_style": "info",
       "description": "show source code",
       "layout": "IPY_MODEL_45741c81e035492791aa5b8d6e884ce5",
       "style": "IPY_MODEL_c52f5ec4699c4e439f545bd79bc99ef4",
       "tooltip": "shows the raw python code in the preview window below"
      }
     },
     "6c44c75e4e164a1abb45c314612084c3": {
      "model_module": "@jupyter-widgets/controls",
      "model_module_version": "1.5.0",
      "model_name": "ButtonModel",
      "state": {
       "button_style": "success",
       "description": "run",
       "layout": "IPY_MODEL_35a94af4b0ee4555be0b8e01340deac0",
       "style": "IPY_MODEL_48fe4d4f64714066890326c11fb52c05",
       "tooltip": "execute the script based on the user inputs"
      }
     },
     "6c5a95f8edc04a5f8e95fff62a5ff90d": {
      "model_module": "@jupyter-widgets/controls",
      "model_module_version": "1.5.0",
      "model_name": "CheckboxModel",
      "state": {
       "disabled": false,
       "indent": false,
       "layout": "IPY_MODEL_8b71a80c15214ba3a46c5d6528e5e8ee",
       "style": "IPY_MODEL_e88f825d688b4f24964b11edad00ac71",
       "value": false
      }
     },
     "6c910f3b2e5743348c24374c969e69c7": {
      "model_module": "@jupyter-widgets/controls",
      "model_module_version": "1.5.0",
      "model_name": "AccordionModel",
      "state": {
       "_titles": {
        "0": "docx_to_pdf"
       },
       "children": [
        "IPY_MODEL_ad3d32f9479c4aaf938a219596ff726e"
       ],
       "layout": "IPY_MODEL_adf4e57ea1db4dea90a7bbd0b3b4e43a",
       "selected_index": null
      }
     },
     "6ca18273ca134a0d9f8371040721082b": {
      "model_module": "@jupyter-widgets/base",
      "model_module_version": "1.2.0",
      "model_name": "LayoutModel",
      "state": {
       "width": "5%"
      }
     },
     "6cb3fb5901064d31b3c26aac08428176": {
      "model_module": "@jupyter-widgets/controls",
      "model_module_version": "1.5.0",
      "model_name": "ButtonModel",
      "state": {
       "icon": "question-circle",
       "layout": "IPY_MODEL_fb583a943e294746ac4e79f69994a938",
       "style": "IPY_MODEL_8b7988439cb54f1e8f2f453fc6e05af5",
       "tooltip": "describes the functionality of elements in the RunApp interface"
      }
     },
     "6cbd173263ff4028954248ec3e5b08c8": {
      "model_module": "@jupyter-widgets/base",
      "model_module_version": "1.2.0",
      "model_name": "LayoutModel",
      "state": {}
     },
     "6ce05227a9df4916b22c2b47bac02602": {
      "model_module": "@jupyter-widgets/base",
      "model_module_version": "1.2.0",
      "model_name": "LayoutModel",
      "state": {
       "height": "30px",
       "width": "auto"
      }
     },
     "6cef302f99674479a62f3fa23e159eb1": {
      "model_module": "@jupyter-widgets/base",
      "model_module_version": "1.2.0",
      "model_name": "LayoutModel",
      "state": {
       "width": "100%"
      }
     },
     "6cf148920d204cf99d3c733fc623b918": {
      "model_module": "@jupyter-widgets/base",
      "model_module_version": "1.2.0",
      "model_name": "LayoutModel",
      "state": {
       "border": "0px",
       "margin": "0px",
       "padding": "0px"
      }
     },
     "6cffa83b33114c9fbc2ff8855f9b5add": {
      "model_module": "@jupyter-widgets/base",
      "model_module_version": "1.2.0",
      "model_name": "LayoutModel",
      "state": {}
     },
     "6d021eea6d804879be10b05f81ab406d": {
      "model_module": "@jupyter-widgets/base",
      "model_module_version": "1.2.0",
      "model_name": "LayoutModel",
      "state": {
       "width": "5%"
      }
     },
     "6d061e6c0d9a4b31a48e1b76b5e0153a": {
      "model_module": "@jupyter-widgets/controls",
      "model_module_version": "1.5.0",
      "model_name": "AccordionModel",
      "state": {
       "_titles": {
        "0": "eplus_pipework_params"
       },
       "children": [
        "IPY_MODEL_8eab5b28d8d14b60bbb6e293d36e8be1"
       ],
       "layout": "IPY_MODEL_94232897c26949d6a8c7f2686e422092",
       "selected_index": null
      }
     },
     "6d0b6ce1a4874856b4f2a564e47ca46f": {
      "model_module": "@jupyter-widgets/controls",
      "model_module_version": "1.5.0",
      "model_name": "ButtonModel",
      "state": {
       "button_style": "info",
       "description": "preview outputs",
       "layout": "IPY_MODEL_aa78cbc0086e47f9bd76cc62a92492cc",
       "style": "IPY_MODEL_a2f901ef396e452c8bae4d4dbcceedb6",
       "tooltip": "show a preview of the output files generated when the script runs"
      }
     },
     "6d1e1e15a482467aacce852f6832a6f3": {
      "model_module": "@jupyter-widgets/controls",
      "model_module_version": "1.5.0",
      "model_name": "ButtonStyleModel",
      "state": {
       "font_weight": "bold"
      }
     },
     "6d341c2be71c47a3b79f637da7fb9680": {
      "model_module": "@jupyter-widgets/controls",
      "model_module_version": "1.5.0",
      "model_name": "ButtonStyleModel",
      "state": {
       "font_weight": "bold"
      }
     },
     "6d4164b3d22a47b491e7be7cf1597142": {
      "model_module": "@jupyter-widgets/base",
      "model_module_version": "1.2.0",
      "model_name": "LayoutModel",
      "state": {
       "width": "5%"
      }
     },
     "6d61a2ed865b4c269630bcc69ce8137c": {
      "model_module": "@jupyter-widgets/controls",
      "model_module_version": "1.5.0",
      "model_name": "SelectMultipleModel",
      "state": {
       "_options_labels": [
        "C:\\engDev\\git_mf\\ipyrun\\data\\external\\eplus_pipework_params.csv"
       ],
       "description": "outputs",
       "index": [],
       "layout": "IPY_MODEL_83b21d1fe3c54f7abe18bf9c0289f656",
       "rows": 4,
       "style": "IPY_MODEL_eb883acfd9a44dd780101bf9611575c1"
      }
     },
     "6d680e144d92416394ac7bfa714908b8": {
      "model_module": "@jupyter-widgets/controls",
      "model_module_version": "1.5.0",
      "model_name": "ButtonStyleModel",
      "state": {}
     },
     "6d6af8d153eb48ab9044b60db600bae2": {
      "model_module": "@jupyter-widgets/base",
      "model_module_version": "1.2.0",
      "model_name": "LayoutModel",
      "state": {
       "width": "100%"
      }
     },
     "6d88204a8a234a4a8bceb3c1a1ca2ca8": {
      "model_module": "@jupyter-widgets/controls",
      "model_module_version": "1.5.0",
      "model_name": "ButtonModel",
      "state": {
       "button_style": "info",
       "description": "show guide",
       "layout": "IPY_MODEL_4ee7ac3ba16341faa0a2c0acafb7e07f",
       "style": "IPY_MODEL_15b3bc164e05483cac7d5a4d18f3d7f6",
       "tooltip": "read the \"docstring\", ie. the documentation that was written to accompany the script"
      }
     },
     "6d90a10947414c9f8e6719a640f4040c": {
      "model_module": "@jupyter-widgets/controls",
      "model_module_version": "1.5.0",
      "model_name": "ButtonModel",
      "state": {
       "icon": "eye-slash",
       "layout": "IPY_MODEL_4ed2972d90224214829ae4b44af491cd",
       "style": "IPY_MODEL_35eab5a3c99f4098ac238e29832b780a",
       "tooltip": "removes temporary output view"
      }
     },
     "6d910c66efde492b858177cb22efa9c2": {
      "model_module": "@jupyter-widgets/controls",
      "model_module_version": "1.5.0",
      "model_name": "TextModel",
      "state": {
       "description": "inputs",
       "disabled": true,
       "layout": "IPY_MODEL_aeec5c7d62914facbe01f28523bb303a",
       "style": "IPY_MODEL_d720fddae470428daab546b90ce1b38c",
       "value": "C:\\engDev\\git_mf\\ipyrun\\ipyrun\\appdata\\inputs\\inputs-docx_to_pdf.json"
      }
     },
     "6d95a9b5db4848119df46cca50fa73bd": {
      "model_module": "@jupyter-widgets/controls",
      "model_module_version": "1.5.0",
      "model_name": "ButtonStyleModel",
      "state": {
       "font_weight": "bold"
      }
     },
     "6d9bc2ec55f24647a4e96f8f453253c3": {
      "model_module": "@jupyter-widgets/base",
      "model_module_version": "1.2.0",
      "model_name": "LayoutModel",
      "state": {}
     },
     "6dd0d3cbc8e9463abc9222b57bf9fc47": {
      "model_module": "@jupyter-widgets/controls",
      "model_module_version": "1.5.0",
      "model_name": "DescriptionStyleModel",
      "state": {
       "description_width": ""
      }
     },
     "6e1febd79d95410a803a9a648939c30e": {
      "model_module": "@jupyter-widgets/controls",
      "model_module_version": "1.5.0",
      "model_name": "ButtonModel",
      "state": {
       "button_style": "info",
       "description": "show guide",
       "layout": "IPY_MODEL_692cac469dea4fa4a09350b362f7e5eb",
       "style": "IPY_MODEL_dbd355741a0e427c83b189ad068279c7",
       "tooltip": "read the \"docstring\", ie. the documentation that was written to accompany the script"
      }
     },
     "6e34ffa859494839bcec30fe8c5f3c4e": {
      "model_module": "@jupyter-widgets/controls",
      "model_module_version": "1.5.0",
      "model_name": "ButtonModel",
      "state": {
       "button_style": "info",
       "description": "show log",
       "layout": "IPY_MODEL_7f688ee733654e818d365834dcd8d107",
       "style": "IPY_MODEL_8d95a03cc2ee48f78f1242f01dbd1e17",
       "tooltip": "show a log of when the script was executed to generate the outputs, and by who"
      }
     },
     "6e44a78b9d7945059064c03c37492f96": {
      "model_module": "@jupyter-widgets/base",
      "model_module_version": "1.2.0",
      "model_name": "LayoutModel",
      "state": {
       "height": "30px",
       "max_width": "30px",
       "padding": "3px"
      }
     },
     "6e59140a3449473fa3ed18f2851bfd38": {
      "model_module": "@jupyter-widgets/controls",
      "model_module_version": "1.5.0",
      "model_name": "ButtonModel",
      "state": {
       "button_style": "warning",
       "description": "edit inputs",
       "layout": "IPY_MODEL_98c9617d7153470db730793225943975",
       "style": "IPY_MODEL_ed3aa246299e4023a526ca48d1d1c138",
       "tooltip": "edit the user input information that is used when the script is executed"
      }
     },
     "6e716db7d67d430c9cfe13dc62499060": {
      "model_module": "@jupyter-widgets/base",
      "model_module_version": "1.2.0",
      "model_name": "LayoutModel",
      "state": {}
     },
     "6eacf53dfee843beb86bb95f175c75ba": {
      "model_module": "@jupyter-widgets/controls",
      "model_module_version": "1.5.0",
      "model_name": "ButtonModel",
      "state": {
       "button_style": "success",
       "description": "run",
       "layout": "IPY_MODEL_d915d675081a4cbb8020480b9cbbc7bd",
       "style": "IPY_MODEL_0301fa10a314486cb12add5686965292",
       "tooltip": "execute the script based on the user inputs"
      }
     },
     "6eb12a2c56a14801b87d103b43da7093": {
      "model_module": "@jupyter-widgets/base",
      "model_module_version": "1.2.0",
      "model_name": "LayoutModel",
      "state": {}
     },
     "6ebd746f2ac647d79732c998a8b48978": {
      "model_module": "@jupyter-widgets/base",
      "model_module_version": "1.2.0",
      "model_name": "LayoutModel",
      "state": {}
     },
     "6ebf2e9f67b04360a8a005ceeb5a23fd": {
      "model_module": "@jupyter-widgets/base",
      "model_module_version": "1.2.0",
      "model_name": "LayoutModel",
      "state": {}
     },
     "6edae22548524e78948b4644f71acadb": {
      "model_module": "@jupyter-widgets/controls",
      "model_module_version": "1.5.0",
      "model_name": "DescriptionStyleModel",
      "state": {
       "description_width": ""
      }
     },
     "6f10ca0e37274b25a77b6f4d03897fcd": {
      "model_module": "@jupyter-widgets/base",
      "model_module_version": "1.2.0",
      "model_name": "LayoutModel",
      "state": {}
     },
     "6f20e90fa82c450ea687f094cfb0eefa": {
      "model_module": "@jupyter-widgets/base",
      "model_module_version": "1.2.0",
      "model_name": "LayoutModel",
      "state": {}
     },
     "6f34ce1d848d4fa0b2ca583e593e797c": {
      "model_module": "@jupyter-widgets/base",
      "model_module_version": "1.2.0",
      "model_name": "LayoutModel",
      "state": {}
     },
     "6f36aef0ab504b2aa571d6779a7dd668": {
      "model_module": "@jupyter-widgets/controls",
      "model_module_version": "1.5.0",
      "model_name": "TextModel",
      "state": {
       "description": "inputs",
       "disabled": true,
       "layout": "IPY_MODEL_efb82893af3f4408a2e3f625066b4544",
       "style": "IPY_MODEL_0f104fe8a6d549898bd0b7f0bf94f2b4",
       "value": "C:\\engDev\\git_mf\\ipyrun\\ipyrun\\appdata\\inputs\\inputs-gbxml.json"
      }
     },
     "6f684025279e4241b3fa457f3ac48ff2": {
      "model_module": "@jupyter-widgets/base",
      "model_module_version": "1.2.0",
      "model_name": "LayoutModel",
      "state": {
       "width": "5%"
      }
     },
     "6f6c706381704b1aae4e55268ac3e6be": {
      "model_module": "@jupyter-widgets/base",
      "model_module_version": "1.2.0",
      "model_name": "LayoutModel",
      "state": {
       "height": "30px",
       "width": "auto"
      }
     },
     "6faaed3b819e4c56a870fdb84af9d872": {
      "model_module": "@jupyter-widgets/controls",
      "model_module_version": "1.5.0",
      "model_name": "ButtonStyleModel",
      "state": {
       "font_weight": "bold"
      }
     },
     "6fd04da6b083497c86daeab6fb470a9e": {
      "model_module": "@jupyter-widgets/base",
      "model_module_version": "1.2.0",
      "model_name": "LayoutModel",
      "state": {}
     },
     "700ce6a54a4745a5a79d4dac07d3cedf": {
      "model_module": "@jupyter-widgets/base",
      "model_module_version": "1.2.0",
      "model_name": "LayoutModel",
      "state": {
       "border": "0px",
       "margin": "0px",
       "padding": "0px"
      }
     },
     "7018ffb80aac4e35887828185f578f19": {
      "model_module": "@jupyter-widgets/controls",
      "model_module_version": "1.5.0",
      "model_name": "CheckboxModel",
      "state": {
       "disabled": false,
       "indent": false,
       "layout": "IPY_MODEL_9897462946fe4d22ad4b9d9b4919c8d7",
       "style": "IPY_MODEL_7bd7c7bc165849ca8f8407a2d9004b22",
       "value": false
      }
     },
     "7036a2020a32475d8b1d16533615c07e": {
      "model_module": "@jupyter-widgets/controls",
      "model_module_version": "1.5.0",
      "model_name": "ButtonModel",
      "state": {
       "button_style": "info",
       "description": "show source code",
       "layout": "IPY_MODEL_045452f559bb48a9b3607975fb8abed1",
       "style": "IPY_MODEL_ca657aec312d46629f56934d01b4c613",
       "tooltip": "shows the raw python code in the preview window below"
      }
     },
     "704f3b335f88400fb4364b2f7c851072": {
      "model_module": "@jupyter-widgets/controls",
      "model_module_version": "1.5.0",
      "model_name": "ButtonModel",
      "state": {
       "button_style": "info",
       "description": "preview outputs",
       "layout": "IPY_MODEL_6790037faf724cbfa8e8b74551ca58a0",
       "style": "IPY_MODEL_d400e479fd1346b8ab04fb3da378d089",
       "tooltip": "show a preview of the output files generated when the script runs"
      }
     },
     "7065cd670a474c4997efc198ece72170": {
      "model_module": "@jupyter-widgets/controls",
      "model_module_version": "1.5.0",
      "model_name": "SelectMultipleModel",
      "state": {
       "_options_labels": [
        "C:\\engDev\\git_mf\\ipyrun\\reports\\JupyterReportDemo.pdf"
       ],
       "description": "outputs",
       "index": [],
       "layout": "IPY_MODEL_aa194bc76090431f819bcd559855aca8",
       "rows": 4,
       "style": "IPY_MODEL_5b4af3427847450d8122c25d7fa35939"
      }
     },
     "70763dcbb84b474297d1bee4287ba8a0": {
      "model_module": "@jupyter-widgets/base",
      "model_module_version": "1.2.0",
      "model_name": "LayoutModel",
      "state": {}
     },
     "70763ef28a4f44a987c0cfc6ce020554": {
      "model_module": "@jupyter-widgets/controls",
      "model_module_version": "1.5.0",
      "model_name": "ButtonModel",
      "state": {
       "button_style": "info",
       "description": "show log",
       "layout": "IPY_MODEL_0f06be104b724d63a24384ca8d65e58e",
       "style": "IPY_MODEL_d35cd8c69c4c41f9869805ff9f139da4",
       "tooltip": "show a log of when the script was executed to generate the outputs, and by who"
      }
     },
     "7091e896bc4c4ed08bec8a8fa69831d8": {
      "model_module": "@jupyter-widgets/controls",
      "model_module_version": "1.5.0",
      "model_name": "ButtonModel",
      "state": {
       "button_style": "warning",
       "description": "edit inputs",
       "layout": "IPY_MODEL_5cdb9dddbc254115ae777f6547033af8",
       "style": "IPY_MODEL_c736f437416e4f64a16b5aa65d1d7e1c",
       "tooltip": "edit the user input information that is used when the script is executed"
      }
     },
     "70c6007ea452491e8b8c43565638a95f": {
      "model_module": "@jupyter-widgets/controls",
      "model_module_version": "1.5.0",
      "model_name": "DescriptionStyleModel",
      "state": {
       "description_width": ""
      }
     },
     "70c83f02e6114d9dab58ea71981a4504": {
      "model_module": "@jupyter-widgets/controls",
      "model_module_version": "1.5.0",
      "model_name": "ButtonModel",
      "state": {
       "button_style": "info",
       "description": "show source code",
       "layout": "IPY_MODEL_b88785f892824d14b1ddb9b26bd594e5",
       "style": "IPY_MODEL_d095ef55a376476a8373373f73890c7b",
       "tooltip": "shows the raw python code in the preview window below"
      }
     },
     "70ed46d56d2d423ea0b21c5713b62192": {
      "model_module": "@jupyter-widgets/controls",
      "model_module_version": "1.5.0",
      "model_name": "SelectMultipleModel",
      "state": {
       "_options_labels": [
        "C:\\engDev\\git_mf\\ipyrun\\reports\\JupyterReportDemo.pdf"
       ],
       "description": "outputs",
       "index": [],
       "layout": "IPY_MODEL_72ab5918c80d4f939089de2e7391f21b",
       "rows": 4,
       "style": "IPY_MODEL_d552b958b0b746d295c8b8ae58459982"
      }
     },
     "7112c6b74810460e95c58194c7936423": {
      "model_module": "@jupyter-widgets/controls",
      "model_module_version": "1.5.0",
      "model_name": "DescriptionStyleModel",
      "state": {
       "description_width": ""
      }
     },
     "712766d633674d519ad97e63d1a7614f": {
      "model_module": "@jupyter-widgets/base",
      "model_module_version": "1.2.0",
      "model_name": "LayoutModel",
      "state": {
       "border": "0px",
       "margin": "0px",
       "padding": "0px"
      }
     },
     "714ec1b3db5c4e069934e2813fb11664": {
      "model_module": "@jupyter-widgets/controls",
      "model_module_version": "1.5.0",
      "model_name": "ButtonStyleModel",
      "state": {
       "font_weight": "bold"
      }
     },
     "715bfe502afa4ea7ade7a7d00d895bfe": {
      "model_module": "@jupyter-widgets/controls",
      "model_module_version": "1.5.0",
      "model_name": "HBoxModel",
      "state": {
       "children": [
        "IPY_MODEL_638fd4e96e41458d95c054471c3ba7d5",
        "IPY_MODEL_0fd5bf338da9442da524870275dd7e59"
       ],
       "layout": "IPY_MODEL_fbceffb6099b4b1db986013c99e9ec15"
      }
     },
     "7183e4b3ecb746bf9a932b5908936fdf": {
      "model_module": "@jupyter-widgets/controls",
      "model_module_version": "1.5.0",
      "model_name": "ButtonStyleModel",
      "state": {
       "font_weight": "bold"
      }
     },
     "718a55106352412db7d7090b20cdc283": {
      "model_module": "@jupyter-widgets/controls",
      "model_module_version": "1.5.0",
      "model_name": "ButtonStyleModel",
      "state": {
       "font_weight": "bold"
      }
     },
     "71ab4be65ebf46769b855191fb080dde": {
      "model_module": "@jupyter-widgets/controls",
      "model_module_version": "1.5.0",
      "model_name": "ButtonModel",
      "state": {
       "button_style": "info",
       "description": "preview outputs",
       "layout": "IPY_MODEL_6ebd746f2ac647d79732c998a8b48978",
       "style": "IPY_MODEL_0db0d915307847c1a05e90979296f2db",
       "tooltip": "show a preview of the output files generated when the script runs"
      }
     },
     "71b207c61fbe444cb9e68811eee54c4b": {
      "model_module": "@jupyter-widgets/base",
      "model_module_version": "1.2.0",
      "model_name": "LayoutModel",
      "state": {}
     },
     "71b8c8decd554031925279b55419b9e5": {
      "model_module": "@jupyter-widgets/base",
      "model_module_version": "1.2.0",
      "model_name": "LayoutModel",
      "state": {
       "height": "30px",
       "width": "auto"
      }
     },
     "71d399dab0fb4c699f5ea9f0d7b5696b": {
      "model_module": "@jupyter-widgets/base",
      "model_module_version": "1.2.0",
      "model_name": "LayoutModel",
      "state": {}
     },
     "71e829abfbcf4a24aa6e3a4bb8a0a6c3": {
      "model_module": "@jupyter-widgets/base",
      "model_module_version": "1.2.0",
      "model_name": "LayoutModel",
      "state": {
       "height": "30px",
       "max_width": "30px",
       "padding": "3px"
      }
     },
     "72195d21d8bf4f1d9c529908e7558c59": {
      "model_module": "@jupyter-widgets/controls",
      "model_module_version": "1.5.0",
      "model_name": "TextModel",
      "state": {
       "description": "script",
       "disabled": true,
       "layout": "IPY_MODEL_2abd6c8bda7d4c3782d931a9d18ae827",
       "style": "IPY_MODEL_0b2b52839b434f02b9ce5589b775cdb3",
       "value": "C:\\engDev\\git_mf\\MF_Toolbox\\dev\\mf_scripts\\eplus_pipework_params.py"
      }
     },
     "7239ee3487c543a7a7a1fd2c39cd3bff": {
      "model_module": "@jupyter-widgets/output",
      "model_module_version": "1.0.0",
      "model_name": "OutputModel",
      "state": {
       "layout": "IPY_MODEL_4b7134bd3a804107b29fe8ed235d0811"
      }
     },
     "72ab5918c80d4f939089de2e7391f21b": {
      "model_module": "@jupyter-widgets/base",
      "model_module_version": "1.2.0",
      "model_name": "LayoutModel",
      "state": {
       "height": "30px",
       "width": "auto"
      }
     },
     "72c62e887579449ea35e21f64519805f": {
      "model_module": "@jupyter-widgets/base",
      "model_module_version": "1.2.0",
      "model_name": "LayoutModel",
      "state": {
       "align_items": "stretch",
       "width": "100%"
      }
     },
     "72d8d17808ba4b1d95a43c035715966c": {
      "model_module": "@jupyter-widgets/controls",
      "model_module_version": "1.5.0",
      "model_name": "ButtonModel",
      "state": {
       "icon": "eye-slash",
       "layout": "IPY_MODEL_2a4f1ef454d243bcb9ec368a9befffaa",
       "style": "IPY_MODEL_d7f7661456064e159c4ab0e510d3b733",
       "tooltip": "removes temporary output view"
      }
     },
     "7326058cd40d42e1b31cca26d194214e": {
      "model_module": "@jupyter-widgets/controls",
      "model_module_version": "1.5.0",
      "model_name": "DescriptionStyleModel",
      "state": {
       "description_width": ""
      }
     },
     "7332b7456e0d452f940c63f8f2dba7fb": {
      "model_module": "@jupyter-widgets/controls",
      "model_module_version": "1.5.0",
      "model_name": "VBoxModel",
      "state": {
       "children": [
        "IPY_MODEL_406417e87efe4502a9226034c526ac46",
        "IPY_MODEL_2fbba48d33fa40c282016f7098b5a7f1",
        "IPY_MODEL_572149f56e1946a89c7903d6a121bd4d"
       ],
       "layout": "IPY_MODEL_0cdac7f484844288882f2184154317a6"
      }
     },
     "7342b6a221054369b6859bbea1a562d8": {
      "model_module": "@jupyter-widgets/controls",
      "model_module_version": "1.5.0",
      "model_name": "ButtonModel",
      "state": {
       "button_style": "success",
       "description": "run",
       "layout": "IPY_MODEL_3efd339e7e2147f895f19055db5a5c9e",
       "style": "IPY_MODEL_c8dfbc49fbaa47518d0eec064175dcbf",
       "tooltip": "execute the script based on the user inputs"
      }
     },
     "7351cd7e4c304b87bb845e21f41edd5e": {
      "model_module": "@jupyter-widgets/controls",
      "model_module_version": "1.5.0",
      "model_name": "ButtonModel",
      "state": {
       "button_style": "info",
       "description": "show guide",
       "layout": "IPY_MODEL_ed3149c67c4f4e49beb3cf2385cd34c9",
       "style": "IPY_MODEL_ff14ae0e92cc4f1e93fd697c5bd1f615",
       "tooltip": "read the \"docstring\", ie. the documentation that was written to accompany the script"
      }
     },
     "736cbad673884907a82e212c13c41b53": {
      "model_module": "@jupyter-widgets/controls",
      "model_module_version": "1.5.0",
      "model_name": "DescriptionStyleModel",
      "state": {
       "description_width": ""
      }
     },
     "7371b0286dc64a4a8f140f55393fc43f": {
      "model_module": "@jupyter-widgets/controls",
      "model_module_version": "1.5.0",
      "model_name": "VBoxModel",
      "state": {
       "children": [
        "IPY_MODEL_93933c2d03644465af34cab0dc845b43",
        "IPY_MODEL_d8610fa8545745bfae7233628511775e"
       ],
       "layout": "IPY_MODEL_a811c7f29b424aa1a4db19f9cd149fb2"
      }
     },
     "7393986bce9d44f0bea17c3f5ea92543": {
      "model_module": "@jupyter-widgets/controls",
      "model_module_version": "1.5.0",
      "model_name": "DescriptionStyleModel",
      "state": {
       "description_width": ""
      }
     },
     "73b26432b37746e8a04ec88749cedae0": {
      "model_module": "@jupyter-widgets/base",
      "model_module_version": "1.2.0",
      "model_name": "LayoutModel",
      "state": {}
     },
     "73c61a7554dd4996afbed1377f0a961b": {
      "model_module": "@jupyter-widgets/controls",
      "model_module_version": "1.5.0",
      "model_name": "ButtonStyleModel",
      "state": {}
     },
     "73c8ee87d7474c64bfa2a10c9c836de4": {
      "model_module": "@jupyter-widgets/controls",
      "model_module_version": "1.5.0",
      "model_name": "DescriptionStyleModel",
      "state": {
       "description_width": ""
      }
     },
     "73c929a9fd6b4aecbee0e022675f3dc3": {
      "model_module": "@jupyter-widgets/controls",
      "model_module_version": "1.5.0",
      "model_name": "ButtonModel",
      "state": {
       "button_style": "info",
       "description": "show source code",
       "layout": "IPY_MODEL_32b110094f9b49469e99a0f0bf0ce23c",
       "style": "IPY_MODEL_c46ebfdd880f43d6b41cc288feab36ea",
       "tooltip": "shows the raw python code in the preview window below"
      }
     },
     "73edbb9a902840f0aafb136edb29b17b": {
      "model_module": "@jupyter-widgets/controls",
      "model_module_version": "1.5.0",
      "model_name": "SelectMultipleModel",
      "state": {
       "_options_labels": [
        "C:\\engDev\\git_mf\\ipyrun\\data\\raw\\gbxml.xml",
        "C:\\engDev\\git_mf\\ipyrun\\data\\interim\\gbjson.json",
        "C:\\engDev\\git_mf\\ipyrun\\data\\processed\\gbxml_datagrab.xlsx",
        "C:\\engDev\\git_mf\\ipyrun\\data\\processed\\gbxml_spcs-treemap.png"
       ],
       "description": "outputs",
       "index": [],
       "layout": "IPY_MODEL_6a0caaff9c914e1098844cc7ff87b7c8",
       "rows": 4,
       "style": "IPY_MODEL_9ab6f7845c2f453e839c1d11a329e6ec"
      }
     },
     "745938f33ead410d99a158df4c12f93b": {
      "model_module": "@jupyter-widgets/base",
      "model_module_version": "1.2.0",
      "model_name": "LayoutModel",
      "state": {
       "align_items": "stretch",
       "width": "100%"
      }
     },
     "7459ef073b8e4a73a53d2749ee1059ef": {
      "model_module": "@jupyter-widgets/controls",
      "model_module_version": "1.5.0",
      "model_name": "DescriptionStyleModel",
      "state": {
       "description_width": ""
      }
     },
     "7462b29f39a246a889f1f23c82617d63": {
      "model_module": "@jupyter-widgets/base",
      "model_module_version": "1.2.0",
      "model_name": "LayoutModel",
      "state": {
       "width": "5%"
      }
     },
     "7463953dfb91442babac64f1b8e95bb8": {
      "model_module": "@jupyter-widgets/controls",
      "model_module_version": "1.5.0",
      "model_name": "HBoxModel",
      "state": {
       "children": [
        "IPY_MODEL_284a4aab554842c5b1c5e4a17ba39066",
        "IPY_MODEL_d9a4a04515dd441d916022fd180de69d",
        "IPY_MODEL_ecab9d2fbeca4ee595195e0689b7335d",
        "IPY_MODEL_f12db859364c4feabcb7417310ce8f2b"
       ],
       "layout": "IPY_MODEL_032218dfadbe42fcb2e9fd7dc06d9f1d"
      }
     },
     "7473141d85324e0cb74ef403b4b58404": {
      "model_module": "@jupyter-widgets/base",
      "model_module_version": "1.2.0",
      "model_name": "LayoutModel",
      "state": {
       "width": "5%"
      }
     },
     "747bef2dc5a04c6fb9f082fb1e558cdf": {
      "model_module": "@jupyter-widgets/base",
      "model_module_version": "1.2.0",
      "model_name": "LayoutModel",
      "state": {
       "width": "100%"
      }
     },
     "747e00d0f9ee42bb95f615d227499909": {
      "model_module": "@jupyter-widgets/controls",
      "model_module_version": "1.5.0",
      "model_name": "DescriptionStyleModel",
      "state": {
       "description_width": ""
      }
     },
     "749fd61080dd4876bbf7c5978068e98c": {
      "model_module": "@jupyter-widgets/controls",
      "model_module_version": "1.5.0",
      "model_name": "CheckboxModel",
      "state": {
       "disabled": false,
       "indent": false,
       "layout": "IPY_MODEL_5576434051ce42a2a96ed995fcc6ca87",
       "style": "IPY_MODEL_30002f76a219405fbf1b7eb08f2dd6e3",
       "value": false
      }
     },
     "74a893a2c1ff49bca53df936acc8e775": {
      "model_module": "@jupyter-widgets/base",
      "model_module_version": "1.2.0",
      "model_name": "LayoutModel",
      "state": {
       "width": "100%"
      }
     },
     "74d48f888b154943b551c96255955095": {
      "model_module": "@jupyter-widgets/controls",
      "model_module_version": "1.5.0",
      "model_name": "VBoxModel",
      "state": {
       "children": [
        "IPY_MODEL_85ceca17245644f6b7dd9fa205b90ce7",
        "IPY_MODEL_fc7a8df6ac8b4984b26e5a90e15f12de",
        "IPY_MODEL_c67f7b66fcde4b939d885637ac97a5e7"
       ],
       "layout": "IPY_MODEL_472a6fe1e888487aa56ca227adda6e04"
      }
     },
     "74d4d51dd14548dea0776a6708bdd336": {
      "model_module": "@jupyter-widgets/base",
      "model_module_version": "1.2.0",
      "model_name": "LayoutModel",
      "state": {}
     },
     "74fdde9942c14471815c88fa558bf61f": {
      "model_module": "@jupyter-widgets/controls",
      "model_module_version": "1.5.0",
      "model_name": "ButtonModel",
      "state": {
       "button_style": "info",
       "description": "show log",
       "layout": "IPY_MODEL_ebfb39643fba4d629be15303bc13bd56",
       "style": "IPY_MODEL_2485743f50b841cc84276a6f31794f0f",
       "tooltip": "show a log of when the script was executed to generate the outputs, and by who"
      }
     },
     "7502538b675042bba63f34293dfd05bb": {
      "model_module": "@jupyter-widgets/controls",
      "model_module_version": "1.5.0",
      "model_name": "SelectMultipleModel",
      "state": {
       "_options_labels": [
        "C:\\engDev\\git_mf\\ipyrun\\reports\\JupyterReportDemo.pdf"
       ],
       "description": "outputs",
       "index": [],
       "layout": "IPY_MODEL_af6d0bbdee814050b1ed7b70e8e7bdc3",
       "rows": 4,
       "style": "IPY_MODEL_76d5ea665d0d457e9548830315a41472"
      }
     },
     "7505f3973ba9473a8d171731188ff404": {
      "model_module": "@jupyter-widgets/base",
      "model_module_version": "1.2.0",
      "model_name": "LayoutModel",
      "state": {}
     },
     "7509f95670ba48a285433c2df7303350": {
      "model_module": "@jupyter-widgets/base",
      "model_module_version": "1.2.0",
      "model_name": "LayoutModel",
      "state": {}
     },
     "750d8454df504ea2b1202af0f0d29237": {
      "model_module": "@jupyter-widgets/controls",
      "model_module_version": "1.5.0",
      "model_name": "ButtonStyleModel",
      "state": {
       "font_weight": "bold"
      }
     },
     "75545b52a8c543fdb67310cbe5a4b535": {
      "model_module": "@jupyter-widgets/controls",
      "model_module_version": "1.5.0",
      "model_name": "VBoxModel",
      "state": {
       "children": [
        "IPY_MODEL_1215448ac9ca4df998e800434ad79222",
        "IPY_MODEL_fe8ba4b2a7cd4beebbc3ae7e3e9d5cc7"
       ],
       "layout": "IPY_MODEL_d50e338272dc4b0485aac242efb44430"
      }
     },
     "7563a8e3e6974fd8bb2caf7f370b85aa": {
      "model_module": "@jupyter-widgets/base",
      "model_module_version": "1.2.0",
      "model_name": "LayoutModel",
      "state": {
       "border": "0px",
       "margin": "0px",
       "padding": "0px"
      }
     },
     "756ce53b774a4f2c884f78594e224f5c": {
      "model_module": "@jupyter-widgets/controls",
      "model_module_version": "1.5.0",
      "model_name": "ButtonStyleModel",
      "state": {
       "font_weight": "bold"
      }
     },
     "7573a09017784140b06bbe7ffca5ec2f": {
      "model_module": "@jupyter-widgets/base",
      "model_module_version": "1.2.0",
      "model_name": "LayoutModel",
      "state": {
       "align_items": "stretch",
       "width": "100%"
      }
     },
     "7581a5113ed84584ae21b0e7d9f50ddb": {
      "model_module": "@jupyter-widgets/controls",
      "model_module_version": "1.5.0",
      "model_name": "ButtonStyleModel",
      "state": {
       "font_weight": "bold"
      }
     },
     "75c29c54c8f545cfa05ef77296bab021": {
      "model_module": "@jupyter-widgets/controls",
      "model_module_version": "1.5.0",
      "model_name": "ButtonModel",
      "state": {
       "icon": "eye-slash",
       "layout": "IPY_MODEL_158d177a79cf44ff812039419f45cbe7",
       "style": "IPY_MODEL_0b5184398f8f4e79bfb0d414300978a1",
       "tooltip": "removes temporary output view"
      }
     },
     "76027197063f48a19a88ec9e5185022d": {
      "model_module": "@jupyter-widgets/base",
      "model_module_version": "1.2.0",
      "model_name": "LayoutModel",
      "state": {
       "border": "0px",
       "margin": "0px",
       "padding": "0px"
      }
     },
     "7616221162c04ac3b72a617dd4b32e29": {
      "model_module": "@jupyter-widgets/output",
      "model_module_version": "1.0.0",
      "model_name": "OutputModel",
      "state": {
       "layout": "IPY_MODEL_ef4a3e6b503544e1aac6661e4073e1b0"
      }
     },
     "761f99a97cb2495e9e794d8bb9f3e1c6": {
      "model_module": "@jupyter-widgets/base",
      "model_module_version": "1.2.0",
      "model_name": "LayoutModel",
      "state": {
       "width": "5%"
      }
     },
     "762564bf56384d89806b6b096f14eceb": {
      "model_module": "@jupyter-widgets/base",
      "model_module_version": "1.2.0",
      "model_name": "LayoutModel",
      "state": {}
     },
     "763ee95bfd8548cd99d80afee8dc9e77": {
      "model_module": "@jupyter-widgets/base",
      "model_module_version": "1.2.0",
      "model_name": "LayoutModel",
      "state": {}
     },
     "765bf2666f8a42da9611d3f3f388da35": {
      "model_module": "@jupyter-widgets/controls",
      "model_module_version": "1.5.0",
      "model_name": "ButtonModel",
      "state": {
       "button_style": "warning",
       "description": "add run",
       "layout": "IPY_MODEL_d387f9665578448ba83bd3a67a7b9f22",
       "style": "IPY_MODEL_be87188b0e774c3cb42b197afb8959af",
       "tooltip": "add new run, based on another run"
      }
     },
     "766c40b9f4a04428acbf269efac91594": {
      "model_module": "@jupyter-widgets/base",
      "model_module_version": "1.2.0",
      "model_name": "LayoutModel",
      "state": {
       "border": "0px",
       "margin": "0px",
       "padding": "0px"
      }
     },
     "7680060004324cd78df7aee7b5ede894": {
      "model_module": "@jupyter-widgets/controls",
      "model_module_version": "1.5.0",
      "model_name": "VBoxModel",
      "state": {
       "children": [
        "IPY_MODEL_b0cac2a7b42b44bf93c8cfb55da31d27",
        "IPY_MODEL_94baa7f8be954745a19cdb326bb25c85"
       ],
       "layout": "IPY_MODEL_ca32477139e34ba1b483ed772e46b41c"
      }
     },
     "768a45cc12084b9f81aa575eff49b21f": {
      "model_module": "@jupyter-widgets/base",
      "model_module_version": "1.2.0",
      "model_name": "LayoutModel",
      "state": {}
     },
     "769e9af3e81c4234bbf8e60c2a5a8083": {
      "model_module": "@jupyter-widgets/controls",
      "model_module_version": "1.5.0",
      "model_name": "ButtonModel",
      "state": {
       "button_style": "success",
       "description": "run",
       "layout": "IPY_MODEL_118c283691ee41fdb328db8245e579e1",
       "style": "IPY_MODEL_c458a052a8de44b19fbcbfbee2786ba3",
       "tooltip": "execute the script based on the user inputs"
      }
     },
     "76a7aba3b254437fac34e500d6b84851": {
      "model_module": "@jupyter-widgets/controls",
      "model_module_version": "1.5.0",
      "model_name": "HBoxModel",
      "state": {
       "children": [
        "IPY_MODEL_b0943112f46642d9a95cee9a432c88e8",
        "IPY_MODEL_b175a5107bdf4b449184964715ed4ad3",
        "IPY_MODEL_939c3d3e572e41698fe0ba06aa032996",
        "IPY_MODEL_0bc4bc88380e4ac5beab64f32ed2f683",
        "IPY_MODEL_7342b6a221054369b6859bbea1a562d8",
        "IPY_MODEL_19376df607d04e6dafa6388988a6cf6c",
        "IPY_MODEL_804c93529b254b7fa6c6db7efbebc215"
       ],
       "layout": "IPY_MODEL_cc521813ca1e47db85282db69273362b"
      }
     },
     "76bdacf4162747e3a52d71e67c9f725f": {
      "model_module": "@jupyter-widgets/controls",
      "model_module_version": "1.5.0",
      "model_name": "TextModel",
      "state": {
       "description": "inputs",
       "disabled": true,
       "layout": "IPY_MODEL_52e252ef092b42c888e9798d1e417f23",
       "style": "IPY_MODEL_bfad90cf3e564bfca0b3d4c3c66fc8b6",
       "value": "C:\\engDev\\git_mf\\ipyrun\\ipyrun\\notebooks\\appdata\\inputs\\inputs-eplus_pipework_params.csv"
      }
     },
     "76d5ea665d0d457e9548830315a41472": {
      "model_module": "@jupyter-widgets/controls",
      "model_module_version": "1.5.0",
      "model_name": "DescriptionStyleModel",
      "state": {
       "description_width": ""
      }
     },
     "76e22f30c5a84f4f9a3ce278dad7916e": {
      "model_module": "@jupyter-widgets/controls",
      "model_module_version": "1.5.0",
      "model_name": "ButtonStyleModel",
      "state": {
       "font_weight": "bold"
      }
     },
     "76e5e098b5d4452a979ba7561e1850dd": {
      "model_module": "@jupyter-widgets/base",
      "model_module_version": "1.2.0",
      "model_name": "LayoutModel",
      "state": {
       "height": "30px",
       "max_width": "30px",
       "padding": "3px"
      }
     },
     "76f5e7c12eba4349bf94b34de09e18ca": {
      "model_module": "@jupyter-widgets/base",
      "model_module_version": "1.2.0",
      "model_name": "LayoutModel",
      "state": {
       "width": "5%"
      }
     },
     "77108cf349cf4d60b860aebdd7adb777": {
      "model_module": "@jupyter-widgets/base",
      "model_module_version": "1.2.0",
      "model_name": "LayoutModel",
      "state": {
       "width": "5%"
      }
     },
     "771fa5a586ac4bec947f03dfafe514a4": {
      "model_module": "@jupyter-widgets/controls",
      "model_module_version": "1.5.0",
      "model_name": "HBoxModel",
      "state": {
       "children": [
        "IPY_MODEL_fa1d8c1f8f5b4e9b85f9f878a925d218",
        "IPY_MODEL_4227710021ed40569054b369b8e718c9"
       ],
       "layout": "IPY_MODEL_ef09d19d392d4403b82c70150a611b55"
      }
     },
     "772938db34114725aceb189204281393": {
      "model_module": "@jupyter-widgets/base",
      "model_module_version": "1.2.0",
      "model_name": "LayoutModel",
      "state": {}
     },
     "773b70451ad34cd2b340391eb7946f40": {
      "model_module": "@jupyter-widgets/controls",
      "model_module_version": "1.5.0",
      "model_name": "ButtonStyleModel",
      "state": {
       "font_weight": "bold"
      }
     },
     "775377a89973444aac7874799b02301e": {
      "model_module": "@jupyter-widgets/controls",
      "model_module_version": "1.5.0",
      "model_name": "ButtonStyleModel",
      "state": {
       "font_weight": "bold"
      }
     },
     "77539c5ead2f40d094ababc6c9815c9e": {
      "model_module": "@jupyter-widgets/controls",
      "model_module_version": "1.5.0",
      "model_name": "HBoxModel",
      "state": {
       "children": [
        "IPY_MODEL_c7aea1b4c67745ba9878a3bef690719a",
        "IPY_MODEL_95e5aa03aad1415c8e42d164b72e8b32"
       ],
       "layout": "IPY_MODEL_1ccce22d3238443cb0f56cd885b1e6a4"
      }
     },
     "776677dca009435cbe06b4509e8898d8": {
      "model_module": "@jupyter-widgets/base",
      "model_module_version": "1.2.0",
      "model_name": "LayoutModel",
      "state": {}
     },
     "777d0a49e0b6453ba1fccc9b999dcef5": {
      "model_module": "@jupyter-widgets/controls",
      "model_module_version": "1.5.0",
      "model_name": "ButtonModel",
      "state": {
       "icon": "question-circle",
       "layout": "IPY_MODEL_d58089fc8fc94a8c9aa7b5e76e844223",
       "style": "IPY_MODEL_b9baf30674b9426b9ce044b9b76b5dca",
       "tooltip": "describes the functionality of elements in the RunApp interface"
      }
     },
     "7782dbf050f24a1990c858fb4ff72811": {
      "model_module": "@jupyter-widgets/base",
      "model_module_version": "1.2.0",
      "model_name": "LayoutModel",
      "state": {
       "width": "100%"
      }
     },
     "77841d0ba29342af9c18375c840bf6ec": {
      "model_module": "@jupyter-widgets/controls",
      "model_module_version": "1.5.0",
      "model_name": "ButtonStyleModel",
      "state": {
       "font_weight": "bold"
      }
     },
     "7789310f57b64709b64cfe78c8a4d33b": {
      "model_module": "@jupyter-widgets/controls",
      "model_module_version": "1.5.0",
      "model_name": "ButtonModel",
      "state": {
       "button_style": "info",
       "description": "show source code",
       "layout": "IPY_MODEL_3d8994a4baed4d358106b975d830f145",
       "style": "IPY_MODEL_0636f5634049478b9808afa20cfc93f4",
       "tooltip": "shows the raw python code in the preview window below"
      }
     },
     "778a4f80d1304c588d91638ab9a94411": {
      "model_module": "@jupyter-widgets/controls",
      "model_module_version": "1.5.0",
      "model_name": "ButtonModel",
      "state": {
       "button_style": "info",
       "description": "show source code",
       "layout": "IPY_MODEL_3f914a30f2ec421f8a0d54809a78ec71",
       "style": "IPY_MODEL_d8f930913dce41278d7da908e3e6810a",
       "tooltip": "shows the raw python code in the preview window below"
      }
     },
     "77918880b3b94320bb7e4d40f5a0c0ae": {
      "model_module": "@jupyter-widgets/controls",
      "model_module_version": "1.5.0",
      "model_name": "SelectMultipleModel",
      "state": {
       "_options_labels": [
        "C:\\engDev\\git_mf\\ipyrun\\data\\external\\eplus_pipework_params.csv"
       ],
       "description": "outputs",
       "index": [],
       "layout": "IPY_MODEL_cfb7d76329d743e9bcdda048f054e9df",
       "rows": 4,
       "style": "IPY_MODEL_37f0e485914344658c05b4ef773284fe"
      }
     },
     "77b79e19ecb64ae2bca9683de00fb7f7": {
      "model_module": "@jupyter-widgets/base",
      "model_module_version": "1.2.0",
      "model_name": "LayoutModel",
      "state": {}
     },
     "77dd8ee974604d4eb06a71d38ab7d2ce": {
      "model_module": "@jupyter-widgets/controls",
      "model_module_version": "1.5.0",
      "model_name": "SelectMultipleModel",
      "state": {
       "_options_labels": [
        "C:\\engDev\\git_mf\\ipyrun\\data\\external\\eplus_pipework_params.csv"
       ],
       "description": "outputs",
       "index": [],
       "layout": "IPY_MODEL_6261e8fbbf21487e95bba6c9d3954b5a",
       "rows": 4,
       "style": "IPY_MODEL_c2127379bc9545929cd17191e39925ba"
      }
     },
     "77e3c5abe37c404d9ffa920cb27edddb": {
      "model_module": "@jupyter-widgets/controls",
      "model_module_version": "1.5.0",
      "model_name": "VBoxModel",
      "state": {
       "children": [
        "IPY_MODEL_dd2ba0f523ba4a53aa3115e1dddb4c68",
        "IPY_MODEL_7332b7456e0d452f940c63f8f2dba7fb"
       ],
       "layout": "IPY_MODEL_30f4d238f1ec4c5aa0556fc20d08f5ef"
      }
     },
     "77fde41e61ca4fcda4244f1f56540683": {
      "model_module": "@jupyter-widgets/controls",
      "model_module_version": "1.5.0",
      "model_name": "ButtonModel",
      "state": {
       "button_style": "info",
       "description": "show log",
       "layout": "IPY_MODEL_c9a7ca87413a455b9cf4d2bc9bc42cd8",
       "style": "IPY_MODEL_3683c81ab4234b8e867d21ca126d7a04",
       "tooltip": "show a log of when the script was executed to generate the outputs, and by who"
      }
     },
     "783425dfc31748c9bbcc0fe99ce250ae": {
      "model_module": "@jupyter-widgets/controls",
      "model_module_version": "1.5.0",
      "model_name": "ButtonModel",
      "state": {
       "button_style": "info",
       "description": "show source code",
       "layout": "IPY_MODEL_873e8edf1aa64024ad9aadf362b473c6",
       "style": "IPY_MODEL_23b16888a3274c48bf5887bd7ee88655",
       "tooltip": "shows the raw python code in the preview window below"
      }
     },
     "789ede39833246a69c830e7c128fccb9": {
      "model_module": "@jupyter-widgets/controls",
      "model_module_version": "1.5.0",
      "model_name": "DescriptionStyleModel",
      "state": {
       "description_width": ""
      }
     },
     "78ab2823a7a34734a0b4114dbffea45c": {
      "model_module": "@jupyter-widgets/base",
      "model_module_version": "1.2.0",
      "model_name": "LayoutModel",
      "state": {
       "align_items": "stretch",
       "width": "100%"
      }
     },
     "78bc3a037da3451b8938e15718ba54e1": {
      "model_module": "@jupyter-widgets/controls",
      "model_module_version": "1.5.0",
      "model_name": "ButtonStyleModel",
      "state": {
       "font_weight": "bold"
      }
     },
     "78d311e2a6b84e32b0f30ff912d94eab": {
      "model_module": "@jupyter-widgets/output",
      "model_module_version": "1.0.0",
      "model_name": "OutputModel",
      "state": {
       "layout": "IPY_MODEL_223e11d23f314473bb1181d5bbfbcccd"
      }
     },
     "78ef4e3f7f7e43ef8118234503c522ab": {
      "model_module": "@jupyter-widgets/controls",
      "model_module_version": "1.5.0",
      "model_name": "ButtonModel",
      "state": {
       "icon": "question-circle",
       "layout": "IPY_MODEL_f09123d7b6164e9ba4c8e0dc3c37c378",
       "style": "IPY_MODEL_28cbe0db6a1f4be9b30ccc5e7a56a057",
       "tooltip": "describes the functionality of elements in the RunApp interface"
      }
     },
     "78f1c650481940d293b63c313e264ac3": {
      "model_module": "@jupyter-widgets/base",
      "model_module_version": "1.2.0",
      "model_name": "LayoutModel",
      "state": {
       "height": "30px",
       "width": "auto"
      }
     },
     "79021d3b08954ab3b08011f84869cdfb": {
      "model_module": "@jupyter-widgets/controls",
      "model_module_version": "1.5.0",
      "model_name": "ButtonModel",
      "state": {
       "button_style": "info",
       "description": "show log",
       "layout": "IPY_MODEL_fd338c10949346138f43bba550e7d2e1",
       "style": "IPY_MODEL_c0df930786fd48368e3402640260ea84",
       "tooltip": "show a log of when the script was executed to generate the outputs, and by who"
      }
     },
     "7905ab1c47d14353951fe1ff33eeec85": {
      "model_module": "@jupyter-widgets/controls",
      "model_module_version": "1.5.0",
      "model_name": "ButtonStyleModel",
      "state": {
       "font_weight": "bold"
      }
     },
     "797890e8e5894b4f9026512db87914de": {
      "model_module": "@jupyter-widgets/controls",
      "model_module_version": "1.5.0",
      "model_name": "HBoxModel",
      "state": {
       "children": [
        "IPY_MODEL_062e87872fa04c1db15c0b1b39c6e45b",
        "IPY_MODEL_ebb98c0036bb48fb8d3133ce9125d8af",
        "IPY_MODEL_0515f4282fe145bcbccdd3f6dac2f345",
        "IPY_MODEL_05b29a823f2c4836b4e98e8d3ffed019",
        "IPY_MODEL_6eacf53dfee843beb86bb95f175c75ba",
        "IPY_MODEL_704f3b335f88400fb4364b2f7c851072",
        "IPY_MODEL_7e6ce09754614f99874c9ef4f1231ded"
       ],
       "layout": "IPY_MODEL_e1259e0c3517400b90341ae333fe953b"
      }
     },
     "79935ecc0c294efa8c8f95ae62eb09f3": {
      "model_module": "@jupyter-widgets/controls",
      "model_module_version": "1.5.0",
      "model_name": "TextModel",
      "state": {
       "description": "inputs",
       "disabled": true,
       "layout": "IPY_MODEL_95da962134ea450e9d0c04def8b1446d",
       "style": "IPY_MODEL_6edae22548524e78948b4644f71acadb",
       "value": "C:\\engDev\\git_mf\\ipyrun\\ipyrun\\appdata\\inputs\\inputs-docx_to_pdf.json"
      }
     },
     "799728600919421aab4b7019e9b36c61": {
      "model_module": "@jupyter-widgets/base",
      "model_module_version": "1.2.0",
      "model_name": "LayoutModel",
      "state": {
       "width": "5%"
      }
     },
     "799b31478d5c4cd8990dec831abe6215": {
      "model_module": "@jupyter-widgets/controls",
      "model_module_version": "1.5.0",
      "model_name": "DescriptionStyleModel",
      "state": {
       "description_width": ""
      }
     },
     "799ec528b04448869ad48e45455252aa": {
      "model_module": "@jupyter-widgets/controls",
      "model_module_version": "1.5.0",
      "model_name": "ButtonStyleModel",
      "state": {
       "font_weight": "bold"
      }
     },
     "79d828f0a7e24454b1673d7006369827": {
      "model_module": "@jupyter-widgets/controls",
      "model_module_version": "1.5.0",
      "model_name": "ButtonStyleModel",
      "state": {
       "font_weight": "bold"
      }
     },
     "7a1a3fd0c1a34a3590962c1804da5fa3": {
      "model_module": "@jupyter-widgets/controls",
      "model_module_version": "1.5.0",
      "model_name": "VBoxModel",
      "state": {
       "children": [
        "IPY_MODEL_fdb166e33968442fa59e7af3c97dddd7",
        "IPY_MODEL_a84fdd39b8734b8fb2601738e2f65e56"
       ],
       "layout": "IPY_MODEL_65836b497c8a40d49b92cf041389e625"
      }
     },
     "7a563d5bf5064dcb8b2c88c9ee4c3f4a": {
      "model_module": "@jupyter-widgets/base",
      "model_module_version": "1.2.0",
      "model_name": "LayoutModel",
      "state": {
       "height": "30px",
       "width": "auto"
      }
     },
     "7a741137bb99456885ae8caf12377046": {
      "model_module": "@jupyter-widgets/controls",
      "model_module_version": "1.5.0",
      "model_name": "HBoxModel",
      "state": {
       "children": [
        "IPY_MODEL_201376f9d4494debbe54855aebd3ccc9",
        "IPY_MODEL_ddb376aa214c4285a02c514af47e304a"
       ],
       "layout": "IPY_MODEL_8d0f00581585426d812b9ca861d88fcb"
      }
     },
     "7a868ca327c5456389c011fb527038fc": {
      "model_module": "@jupyter-widgets/base",
      "model_module_version": "1.2.0",
      "model_name": "LayoutModel",
      "state": {
       "width": "5%"
      }
     },
     "7b043821778f4020acadd38ac19136e6": {
      "model_module": "@jupyter-widgets/controls",
      "model_module_version": "1.5.0",
      "model_name": "VBoxModel",
      "state": {
       "children": [
        "IPY_MODEL_615d2bb0ff6541c1b1a6dd42993cc572",
        "IPY_MODEL_00d98e2f3a7d4b5bb9cfe9439c0e5601",
        "IPY_MODEL_834df835890046bd9772c61bd64eb958"
       ],
       "layout": "IPY_MODEL_9799c4dab07341a6a155f9fb70b696f5"
      }
     },
     "7b3ee2f7c28b459c91fa3ba8544ebb89": {
      "model_module": "@jupyter-widgets/controls",
      "model_module_version": "1.5.0",
      "model_name": "HBoxModel",
      "state": {
       "children": [
        "IPY_MODEL_301219064a9f42c19f3104c6633d9778",
        "IPY_MODEL_b13b646062874585885bb9b8e8bcfe39"
       ],
       "layout": "IPY_MODEL_26304523a582457a99ae86cacc7ae60e"
      }
     },
     "7b481f996e454f848ef8b1a30db6930d": {
      "model_module": "@jupyter-widgets/controls",
      "model_module_version": "1.5.0",
      "model_name": "ButtonModel",
      "state": {
       "icon": "eye-slash",
       "layout": "IPY_MODEL_8d131e3a61524f098ba8310dd6a47664",
       "style": "IPY_MODEL_b7b7181699e54ff58de7c677c4d40871",
       "tooltip": "removes temporary output view"
      }
     },
     "7b4b3264201945b4b22b3c892743d27d": {
      "model_module": "@jupyter-widgets/output",
      "model_module_version": "1.0.0",
      "model_name": "OutputModel",
      "state": {
       "layout": "IPY_MODEL_c492914031a449cfa43bcc74d42db959"
      }
     },
     "7b4e940a2d3b4744b8bd45461eea0764": {
      "model_module": "@jupyter-widgets/base",
      "model_module_version": "1.2.0",
      "model_name": "LayoutModel",
      "state": {}
     },
     "7b4ef4b950384d7e919421498faa436c": {
      "model_module": "@jupyter-widgets/base",
      "model_module_version": "1.2.0",
      "model_name": "LayoutModel",
      "state": {}
     },
     "7ba582ecf35547d08191da368193e7f6": {
      "model_module": "@jupyter-widgets/base",
      "model_module_version": "1.2.0",
      "model_name": "LayoutModel",
      "state": {
       "width": "5%"
      }
     },
     "7ba6b9faac2f4af4b543aaadb8344a00": {
      "model_module": "@jupyter-widgets/controls",
      "model_module_version": "1.5.0",
      "model_name": "DescriptionStyleModel",
      "state": {
       "description_width": ""
      }
     },
     "7ba7785b2c2248a497c0fff7638f7919": {
      "model_module": "@jupyter-widgets/controls",
      "model_module_version": "1.5.0",
      "model_name": "ButtonStyleModel",
      "state": {
       "font_weight": "bold"
      }
     },
     "7bbcf973d7e243a98f10a18e178a0de6": {
      "model_module": "@jupyter-widgets/controls",
      "model_module_version": "1.5.0",
      "model_name": "ButtonModel",
      "state": {
       "button_style": "info",
       "description": "show log",
       "layout": "IPY_MODEL_cdcb23ca1dd242afb900205a0060442d",
       "style": "IPY_MODEL_078eddd2f9494223a53f854452abc46d",
       "tooltip": "show a log of when the script was executed to generate the outputs, and by who"
      }
     },
     "7bd7c7bc165849ca8f8407a2d9004b22": {
      "model_module": "@jupyter-widgets/controls",
      "model_module_version": "1.5.0",
      "model_name": "DescriptionStyleModel",
      "state": {
       "description_width": ""
      }
     },
     "7c04a11e65b34ec5bd583d6befa50842": {
      "model_module": "@jupyter-widgets/controls",
      "model_module_version": "1.5.0",
      "model_name": "VBoxModel",
      "state": {
       "children": [
        "IPY_MODEL_dea54ce8feee4c48afb0fb6163a0501a",
        "IPY_MODEL_52d7560ace4c4a57b8e61444e59d674d",
        "IPY_MODEL_9358e54bdf5348c9a032825e8d4254df"
       ],
       "layout": "IPY_MODEL_450409b014fc4f34abf3ba5a51f493ee"
      }
     },
     "7c0be0ffe33f48a3985cdc1f41b81712": {
      "model_module": "@jupyter-widgets/controls",
      "model_module_version": "1.5.0",
      "model_name": "ButtonStyleModel",
      "state": {
       "font_weight": "bold"
      }
     },
     "7c4b5b85ab974f3aac320377575b598f": {
      "model_module": "@jupyter-widgets/controls",
      "model_module_version": "1.5.0",
      "model_name": "ButtonStyleModel",
      "state": {
       "font_weight": "bold"
      }
     },
     "7c7e3f2217d64abf8bce0c02f47aaf6d": {
      "model_module": "@jupyter-widgets/base",
      "model_module_version": "1.2.0",
      "model_name": "LayoutModel",
      "state": {}
     },
     "7c829d6aa5184de9b7158e35106b72e3": {
      "model_module": "@jupyter-widgets/base",
      "model_module_version": "1.2.0",
      "model_name": "LayoutModel",
      "state": {
       "width": "100%"
      }
     },
     "7c9e2dbdb9884e158ad46977440ba3cf": {
      "model_module": "@jupyter-widgets/controls",
      "model_module_version": "1.5.0",
      "model_name": "ButtonStyleModel",
      "state": {
       "font_weight": "bold"
      }
     },
     "7ced0bfbe8e74f5d95a4d51ac2c6158c": {
      "model_module": "@jupyter-widgets/controls",
      "model_module_version": "1.5.0",
      "model_name": "ButtonModel",
      "state": {
       "button_style": "warning",
       "description": "edit inputs",
       "layout": "IPY_MODEL_0021006a2a3f4fcda54374f8213d7065",
       "style": "IPY_MODEL_8bced3204e4744ec98cb418c1fb4a3d7",
       "tooltip": "edit the user input information that is used when the script is executed"
      }
     },
     "7cfe0cbe3ac54fc7bfe8bd420d52e31e": {
      "model_module": "@jupyter-widgets/base",
      "model_module_version": "1.2.0",
      "model_name": "LayoutModel",
      "state": {}
     },
     "7d013e56dd734044a459345d92bce804": {
      "model_module": "@jupyter-widgets/controls",
      "model_module_version": "1.5.0",
      "model_name": "VBoxModel",
      "state": {
       "children": [
        "IPY_MODEL_6ba4ecc504d74d5f90bb77330d64362b",
        "IPY_MODEL_47b044107a0d42cea2ebd9660926f809",
        "IPY_MODEL_c8821455d44b426ca95615dbd88899ae"
       ],
       "layout": "IPY_MODEL_f802a506814349339277ca2e583b9eee"
      }
     },
     "7d061ac2bdc14b3f9551dc8984bbfee2": {
      "model_module": "@jupyter-widgets/base",
      "model_module_version": "1.2.0",
      "model_name": "LayoutModel",
      "state": {}
     },
     "7d46598cde604651bf14c092f7cedd83": {
      "model_module": "@jupyter-widgets/controls",
      "model_module_version": "1.5.0",
      "model_name": "VBoxModel",
      "state": {
       "children": [
        "IPY_MODEL_117b1c77308346e4bd549f041655f5a3",
        "IPY_MODEL_681832fa97db4220ae02288a42b87286",
        "IPY_MODEL_ae40f1ba003c449783b83ad0e25e32a5"
       ],
       "layout": "IPY_MODEL_3efed7371bba4a28ae44b11eff724550"
      }
     },
     "7d4b10a1121e43d2b27a7ca5976b45ef": {
      "model_module": "@jupyter-widgets/controls",
      "model_module_version": "1.5.0",
      "model_name": "ButtonStyleModel",
      "state": {
       "font_weight": "bold"
      }
     },
     "7d6e9019f453468b87275ff1065ecf5e": {
      "model_module": "@jupyter-widgets/base",
      "model_module_version": "1.2.0",
      "model_name": "LayoutModel",
      "state": {}
     },
     "7d7bd4a5cc1e4685936d273e44c7e4af": {
      "model_module": "@jupyter-widgets/base",
      "model_module_version": "1.2.0",
      "model_name": "LayoutModel",
      "state": {
       "align_items": "stretch",
       "width": "100%"
      }
     },
     "7d7ea5f7c87b4db690bdc0e3400ffa45": {
      "model_module": "@jupyter-widgets/controls",
      "model_module_version": "1.5.0",
      "model_name": "CheckboxModel",
      "state": {
       "disabled": false,
       "indent": false,
       "layout": "IPY_MODEL_df88ec4f291c410ea539bb2abcbb6eb9",
       "style": "IPY_MODEL_687a5aa70a4c40948490e57faf0ee535",
       "value": false
      }
     },
     "7d93b236551b438eb5368ad5101f64d8": {
      "model_module": "@jupyter-widgets/output",
      "model_module_version": "1.0.0",
      "model_name": "OutputModel",
      "state": {
       "layout": "IPY_MODEL_aa6f26a3adc746d09431a2b59bcc4144"
      }
     },
     "7d96a48f00f24c3c96ff5ef3ab6c1dcb": {
      "model_module": "@jupyter-widgets/controls",
      "model_module_version": "1.5.0",
      "model_name": "ButtonStyleModel",
      "state": {
       "font_weight": "bold"
      }
     },
     "7da858771c9f4085be0ea83f4af56b1d": {
      "model_module": "@jupyter-widgets/controls",
      "model_module_version": "1.5.0",
      "model_name": "ButtonStyleModel",
      "state": {
       "font_weight": "add"
      }
     },
     "7ddaf724317c4188a56b17f4f6c321f8": {
      "model_module": "@jupyter-widgets/base",
      "model_module_version": "1.2.0",
      "model_name": "LayoutModel",
      "state": {
       "align_items": "stretch",
       "width": "100%"
      }
     },
     "7ddf98296e4d451a8598d77ad053c8df": {
      "model_module": "@jupyter-widgets/controls",
      "model_module_version": "1.5.0",
      "model_name": "ButtonModel",
      "state": {
       "button_style": "info",
       "description": "preview outputs",
       "layout": "IPY_MODEL_c976e921ef564a0383a553396d61252f",
       "style": "IPY_MODEL_d95b106815194a7d9dc12950bae92bdc",
       "tooltip": "show a preview of the output files generated when the script runs"
      }
     },
     "7deca216364f4e58ba1f203c668e78a1": {
      "model_module": "@jupyter-widgets/controls",
      "model_module_version": "1.5.0",
      "model_name": "ButtonModel",
      "state": {
       "button_style": "info",
       "description": "preview outputs",
       "layout": "IPY_MODEL_7f1c885641024d7397f851bda664b052",
       "style": "IPY_MODEL_6353746dff9e4f1491fc721b8892d969",
       "tooltip": "show a preview of the output files generated when the script runs"
      }
     },
     "7dfb5f7abbcd4034a3ed5ab3abae4116": {
      "model_module": "@jupyter-widgets/base",
      "model_module_version": "1.2.0",
      "model_name": "LayoutModel",
      "state": {}
     },
     "7dfe3ecccf354823b835f11698dddadf": {
      "model_module": "@jupyter-widgets/controls",
      "model_module_version": "1.5.0",
      "model_name": "ButtonModel",
      "state": {
       "button_style": "success",
       "description": "run",
       "layout": "IPY_MODEL_7e70b4c73708494790460e6d121bd4b8",
       "style": "IPY_MODEL_b51e887781054100b189685c314fe517",
       "tooltip": "execute the script based on the user inputs"
      }
     },
     "7e1cd08fcdba4791ae28cbe43f7cd114": {
      "model_module": "@jupyter-widgets/controls",
      "model_module_version": "1.5.0",
      "model_name": "HBoxModel",
      "state": {
       "children": [
        "IPY_MODEL_7018ffb80aac4e35887828185f578f19",
        "IPY_MODEL_8c20b4a2d79c440caa63f6db086cda22"
       ],
       "layout": "IPY_MODEL_30c805eaa3f94e96adbc917d89c8cd85"
      }
     },
     "7e6ce09754614f99874c9ef4f1231ded": {
      "model_module": "@jupyter-widgets/controls",
      "model_module_version": "1.5.0",
      "model_name": "ButtonModel",
      "state": {
       "button_style": "info",
       "description": "show log",
       "layout": "IPY_MODEL_73b26432b37746e8a04ec88749cedae0",
       "style": "IPY_MODEL_3bb80398d67e4f2487cb238a64c47c43",
       "tooltip": "show a log of when the script was executed to generate the outputs, and by who"
      }
     },
     "7e70b4c73708494790460e6d121bd4b8": {
      "model_module": "@jupyter-widgets/base",
      "model_module_version": "1.2.0",
      "model_name": "LayoutModel",
      "state": {}
     },
     "7e71fc96f82d45048ff3f40cab79b52b": {
      "model_module": "@jupyter-widgets/controls",
      "model_module_version": "1.5.0",
      "model_name": "TextModel",
      "state": {
       "description": "script",
       "disabled": true,
       "layout": "IPY_MODEL_6ce05227a9df4916b22c2b47bac02602",
       "style": "IPY_MODEL_aa4c44c31a1b4afc8673de85311dcdf7",
       "value": "C:\\engDev\\git_mf\\MF_Toolbox\\dev\\mf_scripts\\docx_to_pdf.py"
      }
     },
     "7e8a74f1d72943a19def7a85d59215cd": {
      "model_module": "@jupyter-widgets/base",
      "model_module_version": "1.2.0",
      "model_name": "LayoutModel",
      "state": {}
     },
     "7ebd039fa9f541eab3cfa7ad35842984": {
      "model_module": "@jupyter-widgets/base",
      "model_module_version": "1.2.0",
      "model_name": "LayoutModel",
      "state": {
       "align_items": "stretch",
       "width": "100%"
      }
     },
     "7ebd933667414345be2b10620c37f6cd": {
      "model_module": "@jupyter-widgets/base",
      "model_module_version": "1.2.0",
      "model_name": "LayoutModel",
      "state": {
       "height": "30px",
       "width": "auto"
      }
     },
     "7f02953b2f8f489483aa6d92aa4abfe8": {
      "model_module": "@jupyter-widgets/controls",
      "model_module_version": "1.5.0",
      "model_name": "ButtonModel",
      "state": {
       "icon": "question-circle",
       "layout": "IPY_MODEL_25894d58c87843b5bda9ae0502df4645",
       "style": "IPY_MODEL_a1b20fcef6d2453fb0d8c7d9dd9d2974",
       "tooltip": "describes the functionality of elements in the RunApp interface"
      }
     },
     "7f19908abbcb4e4ab57f0cb1fb70c71c": {
      "model_module": "@jupyter-widgets/base",
      "model_module_version": "1.2.0",
      "model_name": "LayoutModel",
      "state": {
       "width": "5%"
      }
     },
     "7f1c885641024d7397f851bda664b052": {
      "model_module": "@jupyter-widgets/base",
      "model_module_version": "1.2.0",
      "model_name": "LayoutModel",
      "state": {}
     },
     "7f2320480c9a45e898f4405f7bc431b1": {
      "model_module": "@jupyter-widgets/controls",
      "model_module_version": "1.5.0",
      "model_name": "ButtonStyleModel",
      "state": {}
     },
     "7f23898f4493480b81fc9a6f7bd66ab9": {
      "model_module": "@jupyter-widgets/base",
      "model_module_version": "1.2.0",
      "model_name": "LayoutModel",
      "state": {}
     },
     "7f2e632d2a304f75b9b7e7bd5c141490": {
      "model_module": "@jupyter-widgets/controls",
      "model_module_version": "1.5.0",
      "model_name": "ButtonModel",
      "state": {
       "button_style": "success",
       "description": "run",
       "layout": "IPY_MODEL_b816a9226cd0427ea4a1c13a81d1d11c",
       "style": "IPY_MODEL_facc58a3e5574ac98ba14a8162bd0637",
       "tooltip": "execute the script based on the user inputs"
      }
     },
     "7f4cd41e5f3f4f3a836abe6cbeec2101": {
      "model_module": "@jupyter-widgets/base",
      "model_module_version": "1.2.0",
      "model_name": "LayoutModel",
      "state": {}
     },
     "7f688ee733654e818d365834dcd8d107": {
      "model_module": "@jupyter-widgets/base",
      "model_module_version": "1.2.0",
      "model_name": "LayoutModel",
      "state": {}
     },
     "7f8f31f0bec8470d89c2f1078c3d0824": {
      "model_module": "@jupyter-widgets/controls",
      "model_module_version": "1.5.0",
      "model_name": "DescriptionStyleModel",
      "state": {
       "description_width": ""
      }
     },
     "7fcb91098fc3465facd6a5fa749ae361": {
      "model_module": "@jupyter-widgets/controls",
      "model_module_version": "1.5.0",
      "model_name": "DescriptionStyleModel",
      "state": {
       "description_width": ""
      }
     },
     "7fd11c7e747443998c93f429823eb7b1": {
      "model_module": "@jupyter-widgets/base",
      "model_module_version": "1.2.0",
      "model_name": "LayoutModel",
      "state": {
       "align_items": "stretch",
       "width": "100%"
      }
     },
     "7ff2595b7b67418a9fe9fe305aaaab17": {
      "model_module": "@jupyter-widgets/base",
      "model_module_version": "1.2.0",
      "model_name": "LayoutModel",
      "state": {}
     },
     "8015d96abfd14cdfb0b0c2d865d6f62f": {
      "model_module": "@jupyter-widgets/controls",
      "model_module_version": "1.5.0",
      "model_name": "ButtonModel",
      "state": {
       "icon": "eye-slash",
       "layout": "IPY_MODEL_3452285866ea408cbe100cc976f5f159",
       "style": "IPY_MODEL_b35dd3c505a148658edf4e49314ae3a9",
       "tooltip": "removes temporary output view"
      }
     },
     "80243a0c1c2c42c5828fade39228603b": {
      "model_module": "@jupyter-widgets/controls",
      "model_module_version": "1.5.0",
      "model_name": "ButtonStyleModel",
      "state": {
       "font_weight": "bold"
      }
     },
     "80256435e24a4b8084a38c95ab371510": {
      "model_module": "@jupyter-widgets/base",
      "model_module_version": "1.2.0",
      "model_name": "LayoutModel",
      "state": {
       "width": "5%"
      }
     },
     "803cd26aca1d4720a4a602a4471cc13d": {
      "model_module": "@jupyter-widgets/controls",
      "model_module_version": "1.5.0",
      "model_name": "ButtonStyleModel",
      "state": {}
     },
     "804c93529b254b7fa6c6db7efbebc215": {
      "model_module": "@jupyter-widgets/controls",
      "model_module_version": "1.5.0",
      "model_name": "ButtonModel",
      "state": {
       "button_style": "info",
       "description": "show log",
       "layout": "IPY_MODEL_a2b873e0da8146189fb65193afd5aaa6",
       "style": "IPY_MODEL_de9baf37221449b7ba12351b32aa411e",
       "tooltip": "show a log of when the script was executed to generate the outputs, and by who"
      }
     },
     "8072ea4e7f1a466dbd7ea13b07dd502d": {
      "model_module": "@jupyter-widgets/base",
      "model_module_version": "1.2.0",
      "model_name": "LayoutModel",
      "state": {}
     },
     "8074ac1f5d654b52a930993f495b786b": {
      "model_module": "@jupyter-widgets/base",
      "model_module_version": "1.2.0",
      "model_name": "LayoutModel",
      "state": {}
     },
     "8076e79826824ab8b3abeb8385bf8750": {
      "model_module": "@jupyter-widgets/output",
      "model_module_version": "1.0.0",
      "model_name": "OutputModel",
      "state": {
       "layout": "IPY_MODEL_60efa68ee3664d9aa510852509c482a9"
      }
     },
     "8098e2c65c1a4acabb19e5618c0732ae": {
      "model_module": "@jupyter-widgets/base",
      "model_module_version": "1.2.0",
      "model_name": "LayoutModel",
      "state": {}
     },
     "809d3896eece4ac2a9a14ce478a5b0b6": {
      "model_module": "@jupyter-widgets/controls",
      "model_module_version": "1.5.0",
      "model_name": "ButtonModel",
      "state": {
       "button_style": "info",
       "description": "show guide",
       "layout": "IPY_MODEL_71d399dab0fb4c699f5ea9f0d7b5696b",
       "style": "IPY_MODEL_26f341a415d24540ab5dd5de7befc3ea",
       "tooltip": "read the \"docstring\", ie. the documentation that was written to accompany the script"
      }
     },
     "80a96a39e3484be8855ad748e48b430b": {
      "model_module": "@jupyter-widgets/controls",
      "model_module_version": "1.5.0",
      "model_name": "ButtonStyleModel",
      "state": {
       "font_weight": "bold"
      }
     },
     "80b41f3fee6c49a4998477ecfeebdd93": {
      "model_module": "@jupyter-widgets/controls",
      "model_module_version": "1.5.0",
      "model_name": "DescriptionStyleModel",
      "state": {
       "description_width": ""
      }
     },
     "810c58de0c3043209a4e889f10129f20": {
      "model_module": "@jupyter-widgets/base",
      "model_module_version": "1.2.0",
      "model_name": "LayoutModel",
      "state": {}
     },
     "8156b086344046e5b5683bf871ee5a04": {
      "model_module": "@jupyter-widgets/base",
      "model_module_version": "1.2.0",
      "model_name": "LayoutModel",
      "state": {
       "width": "5%"
      }
     },
     "8157435e28dd4115a5731bafb074c516": {
      "model_module": "@jupyter-widgets/output",
      "model_module_version": "1.0.0",
      "model_name": "OutputModel",
      "state": {
       "layout": "IPY_MODEL_3a27926dbe0f4c6c89eacd5525d09ddc"
      }
     },
     "8161ecd9d8ab4cc18de623cdc3d1006a": {
      "model_module": "@jupyter-widgets/controls",
      "model_module_version": "1.5.0",
      "model_name": "ButtonModel",
      "state": {
       "button_style": "info",
       "description": "show source code",
       "layout": "IPY_MODEL_990b5454a0324095bf3eec50378166ab",
       "style": "IPY_MODEL_65b179386bb6468792f6227b8915b2ca",
       "tooltip": "shows the raw python code in the preview window below"
      }
     },
     "816333559d934d40869828f2fcf50756": {
      "model_module": "@jupyter-widgets/base",
      "model_module_version": "1.2.0",
      "model_name": "LayoutModel",
      "state": {
       "width": "100%"
      }
     },
     "816e380a37054694acbdb3a0014a8727": {
      "model_module": "@jupyter-widgets/controls",
      "model_module_version": "1.5.0",
      "model_name": "DescriptionStyleModel",
      "state": {
       "description_width": ""
      }
     },
     "8182492cecfa4458ae11ec4c7ac58905": {
      "model_module": "@jupyter-widgets/controls",
      "model_module_version": "1.5.0",
      "model_name": "ButtonModel",
      "state": {
       "button_style": "warning",
       "description": "edit inputs",
       "layout": "IPY_MODEL_19d15a4d91d94ee98c03590cd543020d",
       "style": "IPY_MODEL_994c69f6349844ed8e8d81ed726819a8",
       "tooltip": "edit the user input information that is used when the script is executed"
      }
     },
     "818618563924404789b3a37bcd65058b": {
      "model_module": "@jupyter-widgets/controls",
      "model_module_version": "1.5.0",
      "model_name": "ButtonStyleModel",
      "state": {
       "font_weight": "bold"
      }
     },
     "81cdb0a41b554cd3b457d7ab5499185d": {
      "model_module": "@jupyter-widgets/base",
      "model_module_version": "1.2.0",
      "model_name": "LayoutModel",
      "state": {
       "width": "5%"
      }
     },
     "81db38b1e028491da417704954e37c09": {
      "model_module": "@jupyter-widgets/base",
      "model_module_version": "1.2.0",
      "model_name": "LayoutModel",
      "state": {
       "width": "100%"
      }
     },
     "81e71eca866f406ba7a5d5d7383ee223": {
      "model_module": "@jupyter-widgets/base",
      "model_module_version": "1.2.0",
      "model_name": "LayoutModel",
      "state": {
       "border": "0px",
       "margin": "0px",
       "padding": "0px"
      }
     },
     "82022159072a4e34b162fd3623d11dc5": {
      "model_module": "@jupyter-widgets/base",
      "model_module_version": "1.2.0",
      "model_name": "LayoutModel",
      "state": {
       "height": "30px",
       "width": "auto"
      }
     },
     "82a4bfe230544d85a69d04b740832efe": {
      "model_module": "@jupyter-widgets/base",
      "model_module_version": "1.2.0",
      "model_name": "LayoutModel",
      "state": {}
     },
     "82c6fca506244ea5bbef47cb2d8e4f47": {
      "model_module": "@jupyter-widgets/controls",
      "model_module_version": "1.5.0",
      "model_name": "ButtonStyleModel",
      "state": {
       "font_weight": "bold"
      }
     },
     "82dbad8e65bb4388bb2c8314ed19f2e1": {
      "model_module": "@jupyter-widgets/controls",
      "model_module_version": "1.5.0",
      "model_name": "ButtonModel",
      "state": {
       "icon": "eye-slash",
       "layout": "IPY_MODEL_8ac6c85fabf241f6823cc9e7447390dd",
       "style": "IPY_MODEL_f0721d91aa2b41bd8900c31aca282b12",
       "tooltip": "removes temporary output view"
      }
     },
     "83234a1ce6254973a06aa8ff3dc38b40": {
      "model_module": "@jupyter-widgets/controls",
      "model_module_version": "1.5.0",
      "model_name": "BoxModel",
      "state": {
       "children": [
        "IPY_MODEL_1f8656dd727442a8b26d1a3bdd48456c"
       ],
       "layout": "IPY_MODEL_3d0b5a2060eb4874b38411b192989a68"
      }
     },
     "83398ecc967e4b7fa92503176622e1de": {
      "model_module": "@jupyter-widgets/controls",
      "model_module_version": "1.5.0",
      "model_name": "ButtonModel",
      "state": {
       "icon": "eye-slash",
       "layout": "IPY_MODEL_9053219bc3d94af6aaecaabcee9b0503",
       "style": "IPY_MODEL_a3b7899b555e49738aca6750c59c0f29",
       "tooltip": "removes temporary output view"
      }
     },
     "834df835890046bd9772c61bd64eb958": {
      "model_module": "@jupyter-widgets/controls",
      "model_module_version": "1.5.0",
      "model_name": "SelectMultipleModel",
      "state": {
       "_options_labels": [
        "C:\\engDev\\git_mf\\ipyrun\\data\\external\\eplus_pipework_params.csv"
       ],
       "description": "outputs",
       "index": [],
       "layout": "IPY_MODEL_00032d78ed3e4462b46a62bee69e923f",
       "rows": 4,
       "style": "IPY_MODEL_b1779b53e3ed49c288ebfadc1a3228db"
      }
     },
     "8350274ec9304ef2ac49778eec7bca95": {
      "model_module": "@jupyter-widgets/base",
      "model_module_version": "1.2.0",
      "model_name": "LayoutModel",
      "state": {
       "height": "30px",
       "width": "auto"
      }
     },
     "8356d1ef31434d3dbf4bad54179675b9": {
      "model_module": "@jupyter-widgets/base",
      "model_module_version": "1.2.0",
      "model_name": "LayoutModel",
      "state": {
       "align_items": "stretch",
       "width": "100%"
      }
     },
     "835a060e5144409881b3f9af727d48d5": {
      "model_module": "@jupyter-widgets/base",
      "model_module_version": "1.2.0",
      "model_name": "LayoutModel",
      "state": {}
     },
     "836cd9e18e484b059c47b61054e958e9": {
      "model_module": "@jupyter-widgets/controls",
      "model_module_version": "1.5.0",
      "model_name": "DescriptionStyleModel",
      "state": {
       "description_width": ""
      }
     },
     "837df890e5144bc692997db291eb2cda": {
      "model_module": "@jupyter-widgets/controls",
      "model_module_version": "1.5.0",
      "model_name": "ButtonModel",
      "state": {
       "button_style": "info",
       "description": "show log",
       "layout": "IPY_MODEL_47701a40c4ea4c2e97974f4f5a46d40a",
       "style": "IPY_MODEL_2f4708fb7df44bfcb2414160a68bbf21",
       "tooltip": "show a log of when the script was executed to generate the outputs, and by who"
      }
     },
     "838179a6667a46fbaead7a68aedadf29": {
      "model_module": "@jupyter-widgets/controls",
      "model_module_version": "1.5.0",
      "model_name": "CheckboxModel",
      "state": {
       "disabled": false,
       "indent": false,
       "layout": "IPY_MODEL_f6250535fc004d20a9ded95518bff44b",
       "style": "IPY_MODEL_fff4ac84008142f4b7b5ad10f8ffa256",
       "value": false
      }
     },
     "83829d9afd0347df9608d4e48ccd1ec5": {
      "model_module": "@jupyter-widgets/controls",
      "model_module_version": "1.5.0",
      "model_name": "ButtonStyleModel",
      "state": {
       "font_weight": "bold"
      }
     },
     "83858a1eb3404a9cb43a9dd8f558621c": {
      "model_module": "@jupyter-widgets/base",
      "model_module_version": "1.2.0",
      "model_name": "LayoutModel",
      "state": {
       "width": "5%"
      }
     },
     "839a4a437af649f5ae0a274d99de6e7b": {
      "model_module": "@jupyter-widgets/controls",
      "model_module_version": "1.5.0",
      "model_name": "HBoxModel",
      "state": {
       "children": [
        "IPY_MODEL_9af4032cf9624b79808af01167a25cd5",
        "IPY_MODEL_3afc904d85b74d34bad1c61282c59add",
        "IPY_MODEL_921be6525a2a4e02ab4aa4d1b3b09dea",
        "IPY_MODEL_471b9e727a64447a9e3d397b4c6d3552",
        "IPY_MODEL_905034d4b7194c2d98a69ec9e26efca6",
        "IPY_MODEL_89d1055fca3e47b08dbecf9e58ff8ffe",
        "IPY_MODEL_84bfd49b3f5a4fd889d81802ec600df9"
       ],
       "layout": "IPY_MODEL_f4f9baeea1ad4fddb327400dce798c61"
      }
     },
     "839b536673df4c1899327740a0777098": {
      "model_module": "@jupyter-widgets/base",
      "model_module_version": "1.2.0",
      "model_name": "LayoutModel",
      "state": {
       "height": "30px",
       "width": "auto"
      }
     },
     "83a34621c45c43b38af902b14baf4acc": {
      "model_module": "@jupyter-widgets/base",
      "model_module_version": "1.2.0",
      "model_name": "LayoutModel",
      "state": {
       "align_items": "stretch",
       "width": "100%"
      }
     },
     "83b21d1fe3c54f7abe18bf9c0289f656": {
      "model_module": "@jupyter-widgets/base",
      "model_module_version": "1.2.0",
      "model_name": "LayoutModel",
      "state": {
       "height": "30px",
       "width": "auto"
      }
     },
     "83c22ffc90a04155b0d5f9f072c39947": {
      "model_module": "@jupyter-widgets/controls",
      "model_module_version": "1.5.0",
      "model_name": "ButtonStyleModel",
      "state": {}
     },
     "83c947b675f047659679033a71435d61": {
      "model_module": "@jupyter-widgets/controls",
      "model_module_version": "1.5.0",
      "model_name": "ButtonModel",
      "state": {
       "button_style": "info",
       "description": "show log",
       "layout": "IPY_MODEL_99d825bd32354b2bbe5d58b4bda1b8b0",
       "style": "IPY_MODEL_7c9e2dbdb9884e158ad46977440ba3cf",
       "tooltip": "show a log of when the script was executed to generate the outputs, and by who"
      }
     },
     "83cc82c24c474cab8887ee9709a023dd": {
      "model_module": "@jupyter-widgets/base",
      "model_module_version": "1.2.0",
      "model_name": "LayoutModel",
      "state": {
       "height": "30px",
       "width": "auto"
      }
     },
     "844a902581ba4d8ea997f32e8a780869": {
      "model_module": "@jupyter-widgets/base",
      "model_module_version": "1.2.0",
      "model_name": "LayoutModel",
      "state": {}
     },
     "849e14d3cabb4d9da1f71f3dfb2a2876": {
      "model_module": "@jupyter-widgets/base",
      "model_module_version": "1.2.0",
      "model_name": "LayoutModel",
      "state": {
       "width": "100%"
      }
     },
     "84bac27477fa4904b028ac8dfe426174": {
      "model_module": "@jupyter-widgets/controls",
      "model_module_version": "1.5.0",
      "model_name": "HBoxModel",
      "state": {
       "children": [
        "IPY_MODEL_1ed5825e8cdb4542a58b193c792b8b76",
        "IPY_MODEL_88e90a4e29834e0fb54a81226954f58c",
        "IPY_MODEL_d35ddb7300b04f268341e80fb9df1701",
        "IPY_MODEL_cfb69c61d5c145f4a2d40b6efdb5d8c2",
        "IPY_MODEL_33e4a1020b4b41ecbd8c0bec371e6fed",
        "IPY_MODEL_5e865be1951c4c83aa41df12c89baeb2",
        "IPY_MODEL_983f160cbe234d598418268c3e82249d"
       ],
       "layout": "IPY_MODEL_4d2adc85b48b4d408a4f83ede0d50239"
      }
     },
     "84bfd49b3f5a4fd889d81802ec600df9": {
      "model_module": "@jupyter-widgets/controls",
      "model_module_version": "1.5.0",
      "model_name": "ButtonModel",
      "state": {
       "button_style": "info",
       "description": "show log",
       "layout": "IPY_MODEL_bd10bf7bbb294f648153f188ec987a95",
       "style": "IPY_MODEL_68ccbede38014a169b42e70256478b49",
       "tooltip": "show a log of when the script was executed to generate the outputs, and by who"
      }
     },
     "8580f5acffcb446fae757bc3099a6ef9": {
      "model_module": "@jupyter-widgets/base",
      "model_module_version": "1.2.0",
      "model_name": "LayoutModel",
      "state": {
       "height": "30px",
       "max_width": "30px",
       "padding": "3px"
      }
     },
     "85822f3c20b148ec9936e0e419c94a71": {
      "model_module": "@jupyter-widgets/controls",
      "model_module_version": "1.5.0",
      "model_name": "ButtonStyleModel",
      "state": {
       "font_weight": "bold"
      }
     },
     "85af174a00484c68b41f4b48589f3a88": {
      "model_module": "@jupyter-widgets/base",
      "model_module_version": "1.2.0",
      "model_name": "LayoutModel",
      "state": {
       "align_items": "stretch",
       "width": "100%"
      }
     },
     "85b490d126b243cf841afbca3c213581": {
      "model_module": "@jupyter-widgets/base",
      "model_module_version": "1.2.0",
      "model_name": "LayoutModel",
      "state": {
       "height": "30px",
       "width": "auto"
      }
     },
     "85b7fc1e55e7460c9c4833c44d4021e8": {
      "model_module": "@jupyter-widgets/base",
      "model_module_version": "1.2.0",
      "model_name": "LayoutModel",
      "state": {}
     },
     "85cd5e06032648e49f175009f90351b3": {
      "model_module": "@jupyter-widgets/controls",
      "model_module_version": "1.5.0",
      "model_name": "ButtonStyleModel",
      "state": {
       "font_weight": "bold"
      }
     },
     "85ceca17245644f6b7dd9fa205b90ce7": {
      "model_module": "@jupyter-widgets/controls",
      "model_module_version": "1.5.0",
      "model_name": "TextModel",
      "state": {
       "description": "inputs",
       "disabled": true,
       "layout": "IPY_MODEL_5d648eefaf02457a8b52865fe47a55be",
       "style": "IPY_MODEL_816e380a37054694acbdb3a0014a8727",
       "value": "C:\\engDev\\git_mf\\ipyrun\\ipyrun\\notebooks\\appdata\\inputs\\inputs-eplus_pipework_params.csv"
      }
     },
     "85d739ae3e7742e8a7ddcd023725da02": {
      "model_module": "@jupyter-widgets/controls",
      "model_module_version": "1.5.0",
      "model_name": "ButtonModel",
      "state": {
       "button_style": "warning",
       "description": "edit inputs",
       "layout": "IPY_MODEL_299529a3084541a8afbe86e5138ca430",
       "style": "IPY_MODEL_fdda490e2f4641d2a01c792a19b6addc",
       "tooltip": "edit the user input information that is used when the script is executed"
      }
     },
     "85d973a6f6504034933d6b007050ead1": {
      "model_module": "@jupyter-widgets/controls",
      "model_module_version": "1.5.0",
      "model_name": "ButtonModel",
      "state": {
       "icon": "eye-slash",
       "layout": "IPY_MODEL_799728600919421aab4b7019e9b36c61",
       "style": "IPY_MODEL_8a53c7de91ae40c388bd4777a514f696",
       "tooltip": "removes temporary output view"
      }
     },
     "85dedb44676840569c293db37297abeb": {
      "model_module": "@jupyter-widgets/base",
      "model_module_version": "1.2.0",
      "model_name": "LayoutModel",
      "state": {}
     },
     "85efedb50a664f87ba5625dbe8855b7f": {
      "model_module": "@jupyter-widgets/controls",
      "model_module_version": "1.5.0",
      "model_name": "DescriptionStyleModel",
      "state": {
       "description_width": ""
      }
     },
     "8607e4cad7cf4f16892e3c68549a4729": {
      "model_module": "@jupyter-widgets/controls",
      "model_module_version": "1.5.0",
      "model_name": "ButtonStyleModel",
      "state": {
       "font_weight": "bold"
      }
     },
     "863f4cadf432494cae61f973d292ed36": {
      "model_module": "@jupyter-widgets/controls",
      "model_module_version": "1.5.0",
      "model_name": "ButtonModel",
      "state": {
       "button_style": "success",
       "description": "run",
       "layout": "IPY_MODEL_7b4ef4b950384d7e919421498faa436c",
       "style": "IPY_MODEL_35b47afd72c44ed1ae3bccda7656a309",
       "tooltip": "execute the script based on the user inputs"
      }
     },
     "8645d047c0e24b3faaa6b40aec23a118": {
      "model_module": "@jupyter-widgets/controls",
      "model_module_version": "1.5.0",
      "model_name": "ButtonStyleModel",
      "state": {
       "font_weight": "bold"
      }
     },
     "864c43a5a08e4a03a450932ca1a41674": {
      "model_module": "@jupyter-widgets/controls",
      "model_module_version": "1.5.0",
      "model_name": "VBoxModel",
      "state": {
       "children": [
        "IPY_MODEL_0f8488a371d34949aaba8d9dfc1b0de7",
        "IPY_MODEL_6230213b3a6f4fc59069d9e1f72ebdbf",
        "IPY_MODEL_481573fba49a4e949d25f069db6c02b0"
       ],
       "layout": "IPY_MODEL_fe5b31a13943402ba985174679553f55"
      }
     },
     "8650895e257e43e18ccecaf57d3af03b": {
      "model_module": "@jupyter-widgets/controls",
      "model_module_version": "1.5.0",
      "model_name": "ButtonStyleModel",
      "state": {
       "font_weight": "bold"
      }
     },
     "8667fb4f63eb4e1fa5390d024d7129f5": {
      "model_module": "@jupyter-widgets/controls",
      "model_module_version": "1.5.0",
      "model_name": "ButtonStyleModel",
      "state": {
       "font_weight": "bold"
      }
     },
     "867d30056e6f4d5c99e0c1f2814e436e": {
      "model_module": "@jupyter-widgets/base",
      "model_module_version": "1.2.0",
      "model_name": "LayoutModel",
      "state": {}
     },
     "868bab877e9b4d7186418416dd04515a": {
      "model_module": "@jupyter-widgets/controls",
      "model_module_version": "1.5.0",
      "model_name": "DescriptionStyleModel",
      "state": {
       "description_width": ""
      }
     },
     "868bf6149906480ba4172dd15168a9f7": {
      "model_module": "@jupyter-widgets/controls",
      "model_module_version": "1.5.0",
      "model_name": "HBoxModel",
      "state": {
       "children": [
        "IPY_MODEL_83398ecc967e4b7fa92503176622e1de",
        "IPY_MODEL_b09ab7009706470ca7b801fefebe5cba",
        "IPY_MODEL_c4efca93958d48448917c57159a74c8c",
        "IPY_MODEL_c4cff68c189e4a3b8b7790d29d934d99",
        "IPY_MODEL_b00d5c660ba0419098525e6c6a95d53b",
        "IPY_MODEL_3874072632e3434e90f4160564b27786",
        "IPY_MODEL_20d8fe342ae54d31ac7f8575093a5922"
       ],
       "layout": "IPY_MODEL_a3194b48dd784df09e69a324ee87357c"
      }
     },
     "86923f5a15254aef8c6912f57b293a9d": {
      "model_module": "@jupyter-widgets/controls",
      "model_module_version": "1.5.0",
      "model_name": "VBoxModel",
      "state": {
       "children": [
        "IPY_MODEL_0f4e1cd6f95d4a6ebb618c0c60e709f4",
        "IPY_MODEL_a7bfa447a39b45d3a22fc25f21d95629"
       ],
       "layout": "IPY_MODEL_5343a26b8dac4c738c7197312f4ce7c3"
      }
     },
     "8699a129d86743ba9752f4f7d9343c7b": {
      "model_module": "@jupyter-widgets/controls",
      "model_module_version": "1.5.0",
      "model_name": "HBoxModel",
      "state": {
       "children": [
        "IPY_MODEL_75c29c54c8f545cfa05ef77296bab021",
        "IPY_MODEL_f020876741e54b318d31e7ea79cbfe90",
        "IPY_MODEL_18c4f7c3231943b8a24ccb5e2c4d92a0",
        "IPY_MODEL_765bf2666f8a42da9611d3f3f388da35"
       ],
       "layout": "IPY_MODEL_ece77b31f1c04b8a9c2116a39f0f2dba"
      }
     },
     "86a10088693a4e51b4c80002bd0d4a64": {
      "model_module": "@jupyter-widgets/base",
      "model_module_version": "1.2.0",
      "model_name": "LayoutModel",
      "state": {}
     },
     "86a408dc5906448c92e5cd499d1022ce": {
      "model_module": "@jupyter-widgets/base",
      "model_module_version": "1.2.0",
      "model_name": "LayoutModel",
      "state": {}
     },
     "86a613ae4aa1439a9555eecaa09a7fd6": {
      "model_module": "@jupyter-widgets/base",
      "model_module_version": "1.2.0",
      "model_name": "LayoutModel",
      "state": {}
     },
     "86ade4dea9f64d6098b078cd7cfbd2de": {
      "model_module": "@jupyter-widgets/controls",
      "model_module_version": "1.5.0",
      "model_name": "ButtonStyleModel",
      "state": {
       "font_weight": "add"
      }
     },
     "86d84af0f42a40c98e3670cb2ebad892": {
      "model_module": "@jupyter-widgets/controls",
      "model_module_version": "1.5.0",
      "model_name": "ButtonModel",
      "state": {
       "button_style": "warning",
       "description": "edit inputs",
       "layout": "IPY_MODEL_f936e1c1c80d40c18a979ba377c422cd",
       "style": "IPY_MODEL_a1d7fecdb0864df59a35ae739441a920",
       "tooltip": "edit the user input information that is used when the script is executed"
      }
     },
     "86eab9366580417fafd7d4df1ecb051a": {
      "model_module": "@jupyter-widgets/base",
      "model_module_version": "1.2.0",
      "model_name": "LayoutModel",
      "state": {}
     },
     "86edbb89001b4ec8a53e41fec05626e8": {
      "model_module": "@jupyter-widgets/base",
      "model_module_version": "1.2.0",
      "model_name": "LayoutModel",
      "state": {}
     },
     "86eea7107e6e4e28afc73703f32fa8ca": {
      "model_module": "@jupyter-widgets/base",
      "model_module_version": "1.2.0",
      "model_name": "LayoutModel",
      "state": {}
     },
     "8707742883f14e89830de42eeb0dd6e3": {
      "model_module": "@jupyter-widgets/controls",
      "model_module_version": "1.5.0",
      "model_name": "DescriptionStyleModel",
      "state": {
       "description_width": ""
      }
     },
     "8711d2ddf1dc421db7752d394bae1783": {
      "model_module": "@jupyter-widgets/base",
      "model_module_version": "1.2.0",
      "model_name": "LayoutModel",
      "state": {}
     },
     "8726fc6866f0446786584b1d72160ac7": {
      "model_module": "@jupyter-widgets/controls",
      "model_module_version": "1.5.0",
      "model_name": "ButtonStyleModel",
      "state": {
       "font_weight": "bold"
      }
     },
     "873e8edf1aa64024ad9aadf362b473c6": {
      "model_module": "@jupyter-widgets/base",
      "model_module_version": "1.2.0",
      "model_name": "LayoutModel",
      "state": {}
     },
     "876a02b894c44b1f9808786f57b904c0": {
      "model_module": "@jupyter-widgets/base",
      "model_module_version": "1.2.0",
      "model_name": "LayoutModel",
      "state": {
       "align_items": "stretch",
       "width": "100%"
      }
     },
     "876a978834164885953677020eab7340": {
      "model_module": "@jupyter-widgets/base",
      "model_module_version": "1.2.0",
      "model_name": "LayoutModel",
      "state": {}
     },
     "87718c65439d40bf9143e57dd61ad0e5": {
      "model_module": "@jupyter-widgets/controls",
      "model_module_version": "1.5.0",
      "model_name": "AccordionModel",
      "state": {
       "_titles": {
        "0": "eplus_pipework_params"
       },
       "children": [
        "IPY_MODEL_b31d473c38574f18a213c4a209f0b52c"
       ],
       "layout": "IPY_MODEL_6d6af8d153eb48ab9044b60db600bae2",
       "selected_index": null
      }
     },
     "877703f223f647bc83d5252c7b0b43cc": {
      "model_module": "@jupyter-widgets/controls",
      "model_module_version": "1.5.0",
      "model_name": "DescriptionStyleModel",
      "state": {
       "description_width": ""
      }
     },
     "87df10f7f8ff4d56a61e11ebab05c05c": {
      "model_module": "@jupyter-widgets/base",
      "model_module_version": "1.2.0",
      "model_name": "LayoutModel",
      "state": {}
     },
     "87eac59e92094170996a289d0a9cac3d": {
      "model_module": "@jupyter-widgets/base",
      "model_module_version": "1.2.0",
      "model_name": "LayoutModel",
      "state": {}
     },
     "87f9479f6ee448969b2a07eac5806484": {
      "model_module": "@jupyter-widgets/controls",
      "model_module_version": "1.5.0",
      "model_name": "ButtonStyleModel",
      "state": {
       "font_weight": "bold"
      }
     },
     "8840c03b6d1a4285bbd591e98106bcf5": {
      "model_module": "@jupyter-widgets/controls",
      "model_module_version": "1.5.0",
      "model_name": "ButtonModel",
      "state": {
       "button_style": "success",
       "description": "run",
       "layout": "IPY_MODEL_f943479a3a834c3a9da57af32092e8a2",
       "style": "IPY_MODEL_80a96a39e3484be8855ad748e48b430b",
       "tooltip": "execute the script based on the user inputs"
      }
     },
     "8842783dfc8b4e58aa666e7456ae1ec9": {
      "model_module": "@jupyter-widgets/controls",
      "model_module_version": "1.5.0",
      "model_name": "ButtonModel",
      "state": {
       "icon": "question-circle",
       "layout": "IPY_MODEL_83858a1eb3404a9cb43a9dd8f558621c",
       "style": "IPY_MODEL_492da95ba065443fb9fc25fd86debc9d",
       "tooltip": "describes the functionality of elements in the RunApp interface"
      }
     },
     "88582f52c0fc4bc9a66709dd750821bb": {
      "model_module": "@jupyter-widgets/base",
      "model_module_version": "1.2.0",
      "model_name": "LayoutModel",
      "state": {}
     },
     "886581a4a0f94187a1d0481acfc98aa6": {
      "model_module": "@jupyter-widgets/base",
      "model_module_version": "1.2.0",
      "model_name": "LayoutModel",
      "state": {}
     },
     "886a57f008ef42b29948b4608ebce2c7": {
      "model_module": "@jupyter-widgets/controls",
      "model_module_version": "1.5.0",
      "model_name": "DescriptionStyleModel",
      "state": {
       "description_width": ""
      }
     },
     "886ef0a1f30f406584da9fa13333fe68": {
      "model_module": "@jupyter-widgets/controls",
      "model_module_version": "1.5.0",
      "model_name": "ButtonModel",
      "state": {
       "button_style": "warning",
       "description": "edit inputs",
       "layout": "IPY_MODEL_9b1e52d9fbda46198ea56aed1eece236",
       "style": "IPY_MODEL_fcd72b1f98e24c10af88a3c93847f146",
       "tooltip": "edit the user input information that is used when the script is executed"
      }
     },
     "888154d611584cca9d155acd3dbb7ff1": {
      "model_module": "@jupyter-widgets/controls",
      "model_module_version": "1.5.0",
      "model_name": "ButtonStyleModel",
      "state": {
       "font_weight": "bold"
      }
     },
     "8892b598ef034b44a3c69103a687cfa3": {
      "model_module": "@jupyter-widgets/controls",
      "model_module_version": "1.5.0",
      "model_name": "ButtonStyleModel",
      "state": {
       "font_weight": "bold"
      }
     },
     "88bb49cf87c947c09cefb449b2398866": {
      "model_module": "@jupyter-widgets/controls",
      "model_module_version": "1.5.0",
      "model_name": "ButtonStyleModel",
      "state": {
       "font_weight": "bold"
      }
     },
     "88d7f1f6e15a4529a37d96ae1d15388f": {
      "model_module": "@jupyter-widgets/controls",
      "model_module_version": "1.5.0",
      "model_name": "ButtonModel",
      "state": {
       "icon": "eye-slash",
       "layout": "IPY_MODEL_7473141d85324e0cb74ef403b4b58404",
       "style": "IPY_MODEL_c125091520504983b457cbaca8a854f6",
       "tooltip": "removes temporary output view"
      }
     },
     "88e18e2d659944e8a6d553bc45217ba3": {
      "model_module": "@jupyter-widgets/base",
      "model_module_version": "1.2.0",
      "model_name": "LayoutModel",
      "state": {}
     },
     "88e90a4e29834e0fb54a81226954f58c": {
      "model_module": "@jupyter-widgets/controls",
      "model_module_version": "1.5.0",
      "model_name": "ButtonModel",
      "state": {
       "icon": "question-circle",
       "layout": "IPY_MODEL_32ec6730d372412cbca4b7c1f09feeb1",
       "style": "IPY_MODEL_c4c0cfd70f944a7ab1d4f32503d73359",
       "tooltip": "describes the functionality of elements in the RunApp interface"
      }
     },
     "8919c52103ea4b92af36a2c8707bdefd": {
      "model_module": "@jupyter-widgets/base",
      "model_module_version": "1.2.0",
      "model_name": "LayoutModel",
      "state": {
       "width": "5%"
      }
     },
     "8936ce12f4be4878969c1af54da0df15": {
      "model_module": "@jupyter-widgets/controls",
      "model_module_version": "1.5.0",
      "model_name": "ButtonStyleModel",
      "state": {
       "font_weight": "bold"
      }
     },
     "895f125e830642049c1185ee15fc3022": {
      "model_module": "@jupyter-widgets/base",
      "model_module_version": "1.2.0",
      "model_name": "LayoutModel",
      "state": {}
     },
     "8991c91b4e9e49cfb4699e5ff23042ff": {
      "model_module": "@jupyter-widgets/controls",
      "model_module_version": "1.5.0",
      "model_name": "ButtonStyleModel",
      "state": {
       "font_weight": "bold"
      }
     },
     "89d1055fca3e47b08dbecf9e58ff8ffe": {
      "model_module": "@jupyter-widgets/controls",
      "model_module_version": "1.5.0",
      "model_name": "ButtonModel",
      "state": {
       "button_style": "info",
       "description": "preview outputs",
       "layout": "IPY_MODEL_b5db8fa31b5643e9ab05599435d1d40e",
       "style": "IPY_MODEL_6d95a9b5db4848119df46cca50fa73bd",
       "tooltip": "show a preview of the output files generated when the script runs"
      }
     },
     "8a054d992ed847f2ad0f33b82c399708": {
      "model_module": "@jupyter-widgets/controls",
      "model_module_version": "1.5.0",
      "model_name": "ButtonStyleModel",
      "state": {
       "font_weight": "bold"
      }
     },
     "8a41ed38fce6479cac6c16f321dc2a06": {
      "model_module": "@jupyter-widgets/controls",
      "model_module_version": "1.5.0",
      "model_name": "VBoxModel",
      "state": {
       "children": [
        "IPY_MODEL_8ab8b803819a44cab95fc61bbf9ea076",
        "IPY_MODEL_27796ea511944ade9774a81652a1ce5f"
       ],
       "layout": "IPY_MODEL_6ebf2e9f67b04360a8a005ceeb5a23fd"
      }
     },
     "8a4b7d1fbbd84936b9a9ed901d183391": {
      "model_module": "@jupyter-widgets/controls",
      "model_module_version": "1.5.0",
      "model_name": "VBoxModel",
      "state": {
       "children": [
        "IPY_MODEL_62f27510b8c048beba9ff28ef674cf4b",
        "IPY_MODEL_9a9d83e9bbe64bb9ab284795ceb4507f",
        "IPY_MODEL_115952d6cf4f4eeaacd5bebb4b73a394"
       ],
       "layout": "IPY_MODEL_c409f339c3ba49db9674c4d68eb0ae76"
      }
     },
     "8a53c7de91ae40c388bd4777a514f696": {
      "model_module": "@jupyter-widgets/controls",
      "model_module_version": "1.5.0",
      "model_name": "ButtonStyleModel",
      "state": {
       "font_weight": "bold"
      }
     },
     "8a67dcb6eec4450383f5e388996c1d34": {
      "model_module": "@jupyter-widgets/controls",
      "model_module_version": "1.5.0",
      "model_name": "DescriptionStyleModel",
      "state": {
       "description_width": ""
      }
     },
     "8a72ab98a6b84c04af0f88fbd3a2a114": {
      "model_module": "@jupyter-widgets/controls",
      "model_module_version": "1.5.0",
      "model_name": "CheckboxModel",
      "state": {
       "disabled": false,
       "indent": false,
       "layout": "IPY_MODEL_ffa7f634f9094529ba82970decb56a1b",
       "style": "IPY_MODEL_ba84a9e6ed524cd48cdca0399c769a27",
       "value": false
      }
     },
     "8a9269bb209045a1bd2ae77fd0538aa5": {
      "model_module": "@jupyter-widgets/controls",
      "model_module_version": "1.5.0",
      "model_name": "AccordionModel",
      "state": {
       "_titles": {
        "0": "docx_to_pdf"
       },
       "children": [
        "IPY_MODEL_fb16932bac2342c8b96c2465f3ba316d"
       ],
       "layout": "IPY_MODEL_40805bf4f92f4572983b8473468e7c26",
       "selected_index": null
      }
     },
     "8ab8b803819a44cab95fc61bbf9ea076": {
      "model_module": "@jupyter-widgets/controls",
      "model_module_version": "1.5.0",
      "model_name": "HBoxModel",
      "state": {
       "children": [
        "IPY_MODEL_09f05ac2127c47da8ee911fbb62c5a5f",
        "IPY_MODEL_87718c65439d40bf9143e57dd61ad0e5"
       ],
       "layout": "IPY_MODEL_ab97f3e309bb49ae83a8a0e9e8dd8438"
      }
     },
     "8ac6c85fabf241f6823cc9e7447390dd": {
      "model_module": "@jupyter-widgets/base",
      "model_module_version": "1.2.0",
      "model_name": "LayoutModel",
      "state": {
       "width": "5%"
      }
     },
     "8ae8240bf66c4d4cb9f86feac0dfefeb": {
      "model_module": "@jupyter-widgets/base",
      "model_module_version": "1.2.0",
      "model_name": "LayoutModel",
      "state": {}
     },
     "8b58289227924059bf3474decb2a4084": {
      "model_module": "@jupyter-widgets/controls",
      "model_module_version": "1.5.0",
      "model_name": "HBoxModel",
      "state": {
       "children": [
        "IPY_MODEL_46211b5bd2a64df88dcf0218aa4d7661",
        "IPY_MODEL_04f351fb60174db09c039a9954683acc"
       ],
       "layout": "IPY_MODEL_31f16931c617491b9fba8cb5a0b74358"
      }
     },
     "8b5e79e575f443a5b9432fe84d6bc570": {
      "model_module": "@jupyter-widgets/base",
      "model_module_version": "1.2.0",
      "model_name": "LayoutModel",
      "state": {
       "align_items": "stretch",
       "width": "100%"
      }
     },
     "8b644dbba96e4f51951f3e0436881bbb": {
      "model_module": "@jupyter-widgets/base",
      "model_module_version": "1.2.0",
      "model_name": "LayoutModel",
      "state": {
       "width": "5%"
      }
     },
     "8b71a80c15214ba3a46c5d6528e5e8ee": {
      "model_module": "@jupyter-widgets/base",
      "model_module_version": "1.2.0",
      "model_name": "LayoutModel",
      "state": {
       "height": "30px",
       "max_width": "30px",
       "padding": "3px"
      }
     },
     "8b7988439cb54f1e8f2f453fc6e05af5": {
      "model_module": "@jupyter-widgets/controls",
      "model_module_version": "1.5.0",
      "model_name": "ButtonStyleModel",
      "state": {
       "font_weight": "bold"
      }
     },
     "8b8279b4b4c64845b9280b56898dccc5": {
      "model_module": "@jupyter-widgets/controls",
      "model_module_version": "1.5.0",
      "model_name": "ButtonModel",
      "state": {
       "button_style": "success",
       "description": "run",
       "layout": "IPY_MODEL_928f809ae135430dbcd6a0718d1f6e75",
       "style": "IPY_MODEL_29bf6e2315c043f2a9f3a5bdba25cfc0",
       "tooltip": "execute the script based on the user inputs"
      }
     },
     "8ba973abef32418ca90d4d4dd46ea6c8": {
      "model_module": "@jupyter-widgets/controls",
      "model_module_version": "1.5.0",
      "model_name": "TextModel",
      "state": {
       "description": "inputs",
       "disabled": true,
       "layout": "IPY_MODEL_5ee84875b8c84af5a0a29505d8522661",
       "style": "IPY_MODEL_836cd9e18e484b059c47b61054e958e9",
       "value": "C:\\engDev\\git_mf\\ipyrun\\ipyrun\\notebooks\\appdata\\inputs\\inputs-eplus_pipework_params.csv"
      }
     },
     "8bc2d8a782534a609377eaa7b579e21b": {
      "model_module": "@jupyter-widgets/controls",
      "model_module_version": "1.5.0",
      "model_name": "DescriptionStyleModel",
      "state": {
       "description_width": ""
      }
     },
     "8bc5149c7f3044d68cc6da558f108193": {
      "model_module": "@jupyter-widgets/controls",
      "model_module_version": "1.5.0",
      "model_name": "ButtonStyleModel",
      "state": {
       "font_weight": "bold"
      }
     },
     "8bced3204e4744ec98cb418c1fb4a3d7": {
      "model_module": "@jupyter-widgets/controls",
      "model_module_version": "1.5.0",
      "model_name": "ButtonStyleModel",
      "state": {
       "font_weight": "bold"
      }
     },
     "8bd02f5114a14919a0ed8305a3624571": {
      "model_module": "@jupyter-widgets/controls",
      "model_module_version": "1.5.0",
      "model_name": "VBoxModel",
      "state": {
       "children": [
        "IPY_MODEL_22460e9806144550b6a355169d1d43bb",
        "IPY_MODEL_518cd24fa4d246dabb1865ddec64aaf1"
       ],
       "layout": "IPY_MODEL_0d4aefd4379a45d6a6a519d0d26ed319"
      }
     },
     "8bd9d27ba3854ae9b98c374545db3aa1": {
      "model_module": "@jupyter-widgets/controls",
      "model_module_version": "1.5.0",
      "model_name": "AccordionModel",
      "state": {
       "_titles": {
        "0": "docx_to_pdf"
       },
       "children": [
        "IPY_MODEL_adc84ca32f4e4fc6991a1c817afc574e"
       ],
       "layout": "IPY_MODEL_81db38b1e028491da417704954e37c09",
       "selected_index": null
      }
     },
     "8bfe412a3f1f40778b0faddd42ec3e99": {
      "model_module": "@jupyter-widgets/base",
      "model_module_version": "1.2.0",
      "model_name": "LayoutModel",
      "state": {
       "width": "100%"
      }
     },
     "8c207d18e02f4443bcf0621c287acada": {
      "model_module": "@jupyter-widgets/controls",
      "model_module_version": "1.5.0",
      "model_name": "AccordionModel",
      "state": {
       "_titles": {
        "0": "docx_to_pdf"
       },
       "children": [
        "IPY_MODEL_aff35fff85484ddc93aa2ac2218030c7"
       ],
       "layout": "IPY_MODEL_7782dbf050f24a1990c858fb4ff72811",
       "selected_index": null
      }
     },
     "8c20b4a2d79c440caa63f6db086cda22": {
      "model_module": "@jupyter-widgets/controls",
      "model_module_version": "1.5.0",
      "model_name": "AccordionModel",
      "state": {
       "_titles": {
        "0": "docx_to_pdf"
       },
       "children": [
        "IPY_MODEL_8bd02f5114a14919a0ed8305a3624571"
       ],
       "layout": "IPY_MODEL_dbf3fcedc4154159addf8185cdffeebb",
       "selected_index": null
      }
     },
     "8c268f0e3daf459e8d6e482d2769f88b": {
      "model_module": "@jupyter-widgets/controls",
      "model_module_version": "1.5.0",
      "model_name": "ButtonModel",
      "state": {
       "icon": "eye-slash",
       "layout": "IPY_MODEL_ad58636b43144081b8436356f0c4e14b",
       "style": "IPY_MODEL_f2f163c3004f4e51a42126d8eac5890f",
       "tooltip": "removes temporary output view"
      }
     },
     "8c3d5b231eab4da8b4d67e8810d1dff4": {
      "model_module": "@jupyter-widgets/controls",
      "model_module_version": "1.5.0",
      "model_name": "ButtonStyleModel",
      "state": {}
     },
     "8c3e5b379cca4b8b965b306e8de46ff4": {
      "model_module": "@jupyter-widgets/controls",
      "model_module_version": "1.5.0",
      "model_name": "DescriptionStyleModel",
      "state": {
       "description_width": ""
      }
     },
     "8c41cd2839984c96bc09b20ae23efff6": {
      "model_module": "@jupyter-widgets/controls",
      "model_module_version": "1.5.0",
      "model_name": "ButtonStyleModel",
      "state": {
       "font_weight": "bold"
      }
     },
     "8c6333f726264d26bbe31f3cd7cd6d6c": {
      "model_module": "@jupyter-widgets/controls",
      "model_module_version": "1.5.0",
      "model_name": "VBoxModel",
      "state": {
       "children": [
        "IPY_MODEL_9a6cdf0ea10641eca4a4f697f192b6e4",
        "IPY_MODEL_63a87f2a140947349a9d552e42649e11"
       ],
       "layout": "IPY_MODEL_c28938d41e984e72832a459b30c2264f"
      }
     },
     "8c9317ea5cc14c6c9abf55b8efc5ac37": {
      "model_module": "@jupyter-widgets/base",
      "model_module_version": "1.2.0",
      "model_name": "LayoutModel",
      "state": {
       "height": "30px",
       "max_width": "30px",
       "padding": "3px"
      }
     },
     "8ca31cba3d0b458ebe1aa317f78543f0": {
      "model_module": "@jupyter-widgets/controls",
      "model_module_version": "1.5.0",
      "model_name": "ButtonModel",
      "state": {
       "button_style": "info",
       "description": "show source code",
       "layout": "IPY_MODEL_ff5fd564b3a94b7aaa847a794a880b5a",
       "style": "IPY_MODEL_dcffb2aa52de43e69768d68da797331d",
       "tooltip": "shows the raw python code in the preview window below"
      }
     },
     "8ccf8b86b1c24804957114234d255a72": {
      "model_module": "@jupyter-widgets/output",
      "model_module_version": "1.0.0",
      "model_name": "OutputModel",
      "state": {
       "layout": "IPY_MODEL_fda50bd1c1f7451bb02c51d906ac43e3"
      }
     },
     "8ce3ae28fe494f389c442fbcaf81de59": {
      "model_module": "@jupyter-widgets/controls",
      "model_module_version": "1.5.0",
      "model_name": "TextModel",
      "state": {
       "description": "inputs",
       "disabled": true,
       "layout": "IPY_MODEL_60237cda29ad4456968b363ad33712c0",
       "style": "IPY_MODEL_333dc2ac716e4a408a6920717891ea56",
       "value": "C:\\engDev\\git_mf\\ipyrun\\ipyrun\\notebooks\\appdata\\inputs\\inputs-eplus_pipework_params.csv"
      }
     },
     "8d0f00581585426d812b9ca861d88fcb": {
      "model_module": "@jupyter-widgets/base",
      "model_module_version": "1.2.0",
      "model_name": "LayoutModel",
      "state": {
       "border": "0px",
       "margin": "0px",
       "padding": "0px"
      }
     },
     "8d131e3a61524f098ba8310dd6a47664": {
      "model_module": "@jupyter-widgets/base",
      "model_module_version": "1.2.0",
      "model_name": "LayoutModel",
      "state": {
       "width": "5%"
      }
     },
     "8d1339a75f4343708771d2abe5aa7f41": {
      "model_module": "@jupyter-widgets/controls",
      "model_module_version": "1.5.0",
      "model_name": "ButtonStyleModel",
      "state": {
       "font_weight": "bold"
      }
     },
     "8d16c66b1f7a478f9638277a1b74bcea": {
      "model_module": "@jupyter-widgets/controls",
      "model_module_version": "1.5.0",
      "model_name": "ButtonModel",
      "state": {
       "button_style": "info",
       "description": "show guide",
       "layout": "IPY_MODEL_70763dcbb84b474297d1bee4287ba8a0",
       "style": "IPY_MODEL_bd2d7d4a6c284ce6851cbde97ae81b76",
       "tooltip": "read the \"docstring\", ie. the documentation that was written to accompany the script"
      }
     },
     "8d19305beceb4b7699077416eed954b9": {
      "model_module": "@jupyter-widgets/base",
      "model_module_version": "1.2.0",
      "model_name": "LayoutModel",
      "state": {}
     },
     "8d21aae77b924d3ea52ae27f2fc2fe45": {
      "model_module": "@jupyter-widgets/base",
      "model_module_version": "1.2.0",
      "model_name": "LayoutModel",
      "state": {
       "height": "30px",
       "max_width": "30px",
       "padding": "3px"
      }
     },
     "8d275922fc7140f4a10ba67917bcbfc7": {
      "model_module": "@jupyter-widgets/base",
      "model_module_version": "1.2.0",
      "model_name": "LayoutModel",
      "state": {
       "align_items": "stretch",
       "width": "100%"
      }
     },
     "8d3a5efa96564df7a3818e4f3d1cb095": {
      "model_module": "@jupyter-widgets/base",
      "model_module_version": "1.2.0",
      "model_name": "LayoutModel",
      "state": {
       "height": "30px",
       "width": "auto"
      }
     },
     "8d3cbd1436b94a0aa0cbf0545ee79154": {
      "model_module": "@jupyter-widgets/base",
      "model_module_version": "1.2.0",
      "model_name": "LayoutModel",
      "state": {
       "width": "100%"
      }
     },
     "8d45f2d92f5e432e8ba4c3e03739870a": {
      "model_module": "@jupyter-widgets/base",
      "model_module_version": "1.2.0",
      "model_name": "LayoutModel",
      "state": {}
     },
     "8d4e724301ec41f0bff00554f639355d": {
      "model_module": "@jupyter-widgets/controls",
      "model_module_version": "1.5.0",
      "model_name": "ButtonModel",
      "state": {
       "button_style": "info",
       "description": "show source code",
       "layout": "IPY_MODEL_0c1fbb3f49df442f8181e8312ab16913",
       "style": "IPY_MODEL_35e940dd1ef44f63aef5ba1a8ffd38c9",
       "tooltip": "shows the raw python code in the preview window below"
      }
     },
     "8d95a03cc2ee48f78f1242f01dbd1e17": {
      "model_module": "@jupyter-widgets/controls",
      "model_module_version": "1.5.0",
      "model_name": "ButtonStyleModel",
      "state": {
       "font_weight": "bold"
      }
     },
     "8d960bc9c5ab496fad6f838356d385a6": {
      "model_module": "@jupyter-widgets/base",
      "model_module_version": "1.2.0",
      "model_name": "LayoutModel",
      "state": {
       "height": "30px",
       "width": "auto"
      }
     },
     "8d993470d8cd4baa9ddafeb321465b47": {
      "model_module": "@jupyter-widgets/controls",
      "model_module_version": "1.5.0",
      "model_name": "ButtonStyleModel",
      "state": {
       "font_weight": "bold"
      }
     },
     "8dacb514a1294d7cb252b863503b8cdf": {
      "model_module": "@jupyter-widgets/controls",
      "model_module_version": "1.5.0",
      "model_name": "ButtonModel",
      "state": {
       "button_style": "info",
       "description": "show log",
       "layout": "IPY_MODEL_102073100d814d1bb9004f363f865007",
       "style": "IPY_MODEL_21bc33dd9def4dc68f90333a4e077898",
       "tooltip": "show a log of when the script was executed to generate the outputs, and by who"
      }
     },
     "8dafacde522e4d06aa1e604ca5510fab": {
      "model_module": "@jupyter-widgets/controls",
      "model_module_version": "1.5.0",
      "model_name": "ButtonStyleModel",
      "state": {
       "font_weight": "bold"
      }
     },
     "8e1cee1715e349e1b125d5ffe35edc7c": {
      "model_module": "@jupyter-widgets/controls",
      "model_module_version": "1.5.0",
      "model_name": "HBoxModel",
      "state": {
       "children": [
        "IPY_MODEL_5d3ae2b97b6c461a9b123d13ece51939",
        "IPY_MODEL_1fa94d5a71f94b5db1066e68addf4fc5",
        "IPY_MODEL_e3ad91f9654549a1a5311e82cbadd8c5",
        "IPY_MODEL_14e60539817240ae9f41f1a5554386a2",
        "IPY_MODEL_b6a18a501dbb4d7d8003f0c3732b9c9a",
        "IPY_MODEL_0d3b8d71cd564a2ab3add3f970045b29",
        "IPY_MODEL_6ad35a9938684a7da61f2f7b784063d3"
       ],
       "layout": "IPY_MODEL_431bb69a26254281b709be6ca1a59ff6"
      }
     },
     "8e21e6bd7b2248d9b8fed16a808a3fdb": {
      "model_module": "@jupyter-widgets/controls",
      "model_module_version": "1.5.0",
      "model_name": "TextModel",
      "state": {
       "description": "inputs",
       "disabled": true,
       "layout": "IPY_MODEL_199a6855d1954d8688a5cd3c849f0326",
       "style": "IPY_MODEL_044d76bd420345ef94dd8a928896d40f",
       "value": "C:\\engDev\\git_mf\\ipyrun\\ipyrun\\appdata\\inputs\\inputs-docx_to_pdf.json"
      }
     },
     "8e2bba433dd5493d9e0eba5c46bc9b82": {
      "model_module": "@jupyter-widgets/output",
      "model_module_version": "1.0.0",
      "model_name": "OutputModel",
      "state": {
       "layout": "IPY_MODEL_22153c2123be4250aa06a69107a9e567"
      }
     },
     "8e40d7df155f47239ec6b3e341acd904": {
      "model_module": "@jupyter-widgets/controls",
      "model_module_version": "1.5.0",
      "model_name": "ButtonModel",
      "state": {
       "button_style": "success",
       "description": "run",
       "layout": "IPY_MODEL_6f10ca0e37274b25a77b6f4d03897fcd",
       "style": "IPY_MODEL_4c52ead46d0642b985dc546c7f4a6c86",
       "tooltip": "execute the script based on the user inputs"
      }
     },
     "8e416d6b29b14d5d8fcb59cf7005a67e": {
      "model_module": "@jupyter-widgets/base",
      "model_module_version": "1.2.0",
      "model_name": "LayoutModel",
      "state": {}
     },
     "8e548fd69afa4e218448464a7ed61715": {
      "model_module": "@jupyter-widgets/controls",
      "model_module_version": "1.5.0",
      "model_name": "ButtonStyleModel",
      "state": {
       "font_weight": "bold"
      }
     },
     "8e7f9aee8fe84a33b905075b2bfdc657": {
      "model_module": "@jupyter-widgets/base",
      "model_module_version": "1.2.0",
      "model_name": "LayoutModel",
      "state": {
       "height": "30px",
       "width": "auto"
      }
     },
     "8eab5b28d8d14b60bbb6e293d36e8be1": {
      "model_module": "@jupyter-widgets/controls",
      "model_module_version": "1.5.0",
      "model_name": "VBoxModel",
      "state": {
       "children": [
        "IPY_MODEL_4ed0b13257194db89d881ee662847d97",
        "IPY_MODEL_8a4b7d1fbbd84936b9a9ed901d183391"
       ],
       "layout": "IPY_MODEL_9c0449220da6493d80ac734f7907a5ad"
      }
     },
     "8f7cab067d7c46f882e0a50cc19efb6e": {
      "model_module": "@jupyter-widgets/controls",
      "model_module_version": "1.5.0",
      "model_name": "ButtonModel",
      "state": {
       "button_style": "info",
       "description": "show source code",
       "layout": "IPY_MODEL_86a10088693a4e51b4c80002bd0d4a64",
       "style": "IPY_MODEL_277c8def0e6a4681bf9e86d1be162d16",
       "tooltip": "shows the raw python code in the preview window below"
      }
     },
     "8f804e3c152c4da1a1298e961611f620": {
      "model_module": "@jupyter-widgets/controls",
      "model_module_version": "1.5.0",
      "model_name": "ButtonModel",
      "state": {
       "button_style": "info",
       "description": "show log",
       "layout": "IPY_MODEL_5dbc381e01984e579cf8e755ba9f7a6d",
       "style": "IPY_MODEL_ed9bba75aeaa4736b06710277a5e7765",
       "tooltip": "show a log of when the script was executed to generate the outputs, and by who"
      }
     },
     "8f83d82ae05148eebb1c5bea07a032cc": {
      "model_module": "@jupyter-widgets/controls",
      "model_module_version": "1.5.0",
      "model_name": "ButtonStyleModel",
      "state": {
       "font_weight": "bold"
      }
     },
     "8f90052cf91b473e8468412236ce92d1": {
      "model_module": "@jupyter-widgets/controls",
      "model_module_version": "1.5.0",
      "model_name": "CheckboxModel",
      "state": {
       "disabled": false,
       "indent": false,
       "layout": "IPY_MODEL_8c9317ea5cc14c6c9abf55b8efc5ac37",
       "style": "IPY_MODEL_15b922a4c6504b999c279007dd070c62",
       "value": false
      }
     },
     "8fa9132586c0401ca440af97d7bb8c0d": {
      "model_module": "@jupyter-widgets/base",
      "model_module_version": "1.2.0",
      "model_name": "LayoutModel",
      "state": {
       "align_items": "stretch",
       "width": "100%"
      }
     },
     "8fbc10c64a5e4cfe8cfe83ee3a8a9131": {
      "model_module": "@jupyter-widgets/base",
      "model_module_version": "1.2.0",
      "model_name": "LayoutModel",
      "state": {
       "width": "5%"
      }
     },
     "8fbc78ddd20e40ab9820efc45dd95389": {
      "model_module": "@jupyter-widgets/controls",
      "model_module_version": "1.5.0",
      "model_name": "BoxModel",
      "state": {
       "children": [
        "IPY_MODEL_cf6963cbb0bb48a2a5e9ad237f896b12"
       ],
       "layout": "IPY_MODEL_d627d356680844beabb562189fa386b1"
      }
     },
     "8fe03b31762546d2b0c814a9edc59e6f": {
      "model_module": "@jupyter-widgets/controls",
      "model_module_version": "1.5.0",
      "model_name": "ButtonModel",
      "state": {
       "icon": "question-circle",
       "layout": "IPY_MODEL_d4ad96ad6b944d3aabef60ad94da477b",
       "style": "IPY_MODEL_56302b6196ca4eabaf4dfff0ec40d15f",
       "tooltip": "describes the functionality of elements in the RunApp interface"
      }
     },
     "9026bcb09d2a4ff789b2f5bc5c6cdc26": {
      "model_module": "@jupyter-widgets/output",
      "model_module_version": "1.0.0",
      "model_name": "OutputModel",
      "state": {
       "layout": "IPY_MODEL_510fddff2a9949e68a4c830af4a13c25"
      }
     },
     "903755986465409a888868d62fd158f9": {
      "model_module": "@jupyter-widgets/base",
      "model_module_version": "1.2.0",
      "model_name": "LayoutModel",
      "state": {
       "align_items": "stretch",
       "width": "100%"
      }
     },
     "903ccac8d806449688fa5286c2cbcd6c": {
      "model_module": "@jupyter-widgets/controls",
      "model_module_version": "1.5.0",
      "model_name": "TextModel",
      "state": {
       "description": "script",
       "disabled": true,
       "layout": "IPY_MODEL_366ed6712e4844d2853bf0b8b9a33493",
       "style": "IPY_MODEL_5bd8c7a73ee34c01be0b2a933d5e7b03",
       "value": "C:\\engDev\\git_mf\\MF_Toolbox\\dev\\mf_scripts\\docx_to_pdf.py"
      }
     },
     "905034d4b7194c2d98a69ec9e26efca6": {
      "model_module": "@jupyter-widgets/controls",
      "model_module_version": "1.5.0",
      "model_name": "ButtonModel",
      "state": {
       "button_style": "success",
       "description": "run",
       "layout": "IPY_MODEL_c912acd104794a73931be4d6c59961e2",
       "style": "IPY_MODEL_0be1af79b6a04ef7b383e01b99f92ff0",
       "tooltip": "execute the script based on the user inputs"
      }
     },
     "9053219bc3d94af6aaecaabcee9b0503": {
      "model_module": "@jupyter-widgets/base",
      "model_module_version": "1.2.0",
      "model_name": "LayoutModel",
      "state": {
       "width": "5%"
      }
     },
     "905fd4864c3943e8b6c63d71c0f3b66b": {
      "model_module": "@jupyter-widgets/controls",
      "model_module_version": "1.5.0",
      "model_name": "VBoxModel",
      "state": {
       "children": [
        "IPY_MODEL_ace5efa13cfa402193c2a78f43fbf5c0",
        "IPY_MODEL_ae5e8cf5472b49fab42569742fc8c2b7",
        "IPY_MODEL_8a41ed38fce6479cac6c16f321dc2a06"
       ],
       "layout": "IPY_MODEL_762564bf56384d89806b6b096f14eceb"
      }
     },
     "90753e8d2f534dbfb2c808caf0c3e509": {
      "model_module": "@jupyter-widgets/controls",
      "model_module_version": "1.5.0",
      "model_name": "VBoxModel",
      "state": {
       "children": [
        "IPY_MODEL_21843d15e2b6462790dcd85aaffd9e93",
        "IPY_MODEL_b285bb9ef3d7492b9d5e688587070275",
        "IPY_MODEL_eb02f742f24f4b32964e69ba4bf9ce21"
       ],
       "layout": "IPY_MODEL_da2c5ad1e5df459a82a072148ec2bc19"
      }
     },
     "908e7ffab8ff4b4f841d81f13fb5491b": {
      "model_module": "@jupyter-widgets/base",
      "model_module_version": "1.2.0",
      "model_name": "LayoutModel",
      "state": {
       "width": "5%"
      }
     },
     "90b3b112e4df4796afe267bdb2754a95": {
      "model_module": "@jupyter-widgets/controls",
      "model_module_version": "1.5.0",
      "model_name": "VBoxModel",
      "state": {
       "children": [
        "IPY_MODEL_2225604a77674b19be75e44c5a125662",
        "IPY_MODEL_fc493665174d4fca98a3aadb8d64af10"
       ],
       "layout": "IPY_MODEL_68fa769b47ba4cf5bc276b8fdc9b9a55"
      }
     },
     "90bf3672690645efab4f31657add9bad": {
      "model_module": "@jupyter-widgets/controls",
      "model_module_version": "1.5.0",
      "model_name": "ButtonModel",
      "state": {
       "button_style": "warning",
       "description": "edit inputs",
       "layout": "IPY_MODEL_91dcf4fd0a4946c2bf7123c6ab8bb9a4",
       "style": "IPY_MODEL_dfd4d3f0d48b46a69ede6f919e5a0d81",
       "tooltip": "edit the user input information that is used when the script is executed"
      }
     },
     "90ce8afa2dee4cdcbd468d413aaf130a": {
      "model_module": "@jupyter-widgets/controls",
      "model_module_version": "1.5.0",
      "model_name": "ButtonModel",
      "state": {
       "icon": "question-circle",
       "layout": "IPY_MODEL_6d021eea6d804879be10b05f81ab406d",
       "style": "IPY_MODEL_773b70451ad34cd2b340391eb7946f40",
       "tooltip": "describes the functionality of elements in the RunApp interface"
      }
     },
     "91001b04db30424486a34deb09f897c0": {
      "model_module": "@jupyter-widgets/base",
      "model_module_version": "1.2.0",
      "model_name": "LayoutModel",
      "state": {
       "width": "5%"
      }
     },
     "9112f68cd3514051bed722693f8e3a43": {
      "model_module": "@jupyter-widgets/controls",
      "model_module_version": "1.5.0",
      "model_name": "DescriptionStyleModel",
      "state": {
       "description_width": ""
      }
     },
     "91190ec188e14892908b8184af0ea9ce": {
      "model_module": "@jupyter-widgets/controls",
      "model_module_version": "1.5.0",
      "model_name": "ButtonStyleModel",
      "state": {
       "font_weight": "bold"
      }
     },
     "911e26f52041474fa0aaee58bf457d27": {
      "model_module": "@jupyter-widgets/base",
      "model_module_version": "1.2.0",
      "model_name": "LayoutModel",
      "state": {}
     },
     "914e771491ba4dbfabdbec8ec931a3d3": {
      "model_module": "@jupyter-widgets/controls",
      "model_module_version": "1.5.0",
      "model_name": "ButtonModel",
      "state": {
       "icon": "eye-slash",
       "layout": "IPY_MODEL_0eb6fe729c614cdeafcf19d3228f4654",
       "style": "IPY_MODEL_9885dad3cd2142fca5e2af739ce4016d",
       "tooltip": "removes temporary output view"
      }
     },
     "9195932400034187baff3debf4278136": {
      "model_module": "@jupyter-widgets/controls",
      "model_module_version": "1.5.0",
      "model_name": "ButtonModel",
      "state": {
       "icon": "eye-slash",
       "layout": "IPY_MODEL_23b633d8ea994b2aa4eec373853a3ef4",
       "style": "IPY_MODEL_92b767533e354e1c897baf500e1422e6",
       "tooltip": "removes temporary output view"
      }
     },
     "919b5ea2d9dc492ea6d09210719450d0": {
      "model_module": "@jupyter-widgets/controls",
      "model_module_version": "1.5.0",
      "model_name": "HBoxModel",
      "state": {
       "children": [
        "IPY_MODEL_ef6c7b1e33684fc48d5ad1a024d0523f",
        "IPY_MODEL_f6aad952d5764465b5a61fdc53ee7639",
        "IPY_MODEL_361ad305c0e747b497508a9b63af4116",
        "IPY_MODEL_eca5ffdc5f9f49eebb631eb6f774c595",
        "IPY_MODEL_7dfe3ecccf354823b835f11698dddadf",
        "IPY_MODEL_71ab4be65ebf46769b855191fb080dde",
        "IPY_MODEL_a4c0b21c99d34eb1b54fe5c53c96eecb"
       ],
       "layout": "IPY_MODEL_5770854708d54b498813d40c327f31ec"
      }
     },
     "91aba0d78c374837b46e144c858270af": {
      "model_module": "@jupyter-widgets/controls",
      "model_module_version": "1.5.0",
      "model_name": "ButtonStyleModel",
      "state": {
       "font_weight": "bold"
      }
     },
     "91c28a1d111245f099a9647448fc7008": {
      "model_module": "@jupyter-widgets/controls",
      "model_module_version": "1.5.0",
      "model_name": "DescriptionStyleModel",
      "state": {
       "description_width": ""
      }
     },
     "91dcf4fd0a4946c2bf7123c6ab8bb9a4": {
      "model_module": "@jupyter-widgets/base",
      "model_module_version": "1.2.0",
      "model_name": "LayoutModel",
      "state": {}
     },
     "91e55bca4a6843cebfe0fc6ab00e2c73": {
      "model_module": "@jupyter-widgets/controls",
      "model_module_version": "1.5.0",
      "model_name": "VBoxModel",
      "state": {
       "children": [
        "IPY_MODEL_32e83c5e26cb439ca837fe3b4133ab6e",
        "IPY_MODEL_d932d5b9e0d44e8fa296202b7b177e86"
       ],
       "layout": "IPY_MODEL_4ae902273ba94736b5a964e6766f9d0d"
      }
     },
     "921be6525a2a4e02ab4aa4d1b3b09dea": {
      "model_module": "@jupyter-widgets/controls",
      "model_module_version": "1.5.0",
      "model_name": "ButtonModel",
      "state": {
       "button_style": "info",
       "description": "show guide",
       "layout": "IPY_MODEL_45b6ae0bc7a540d4b8f7dd813e3145ed",
       "style": "IPY_MODEL_c2a7cf4bed1d4cfe96d65932256c0fe5",
       "tooltip": "read the \"docstring\", ie. the documentation that was written to accompany the script"
      }
     },
     "9220ab0e870c494c9955aa67579d0461": {
      "model_module": "@jupyter-widgets/base",
      "model_module_version": "1.2.0",
      "model_name": "LayoutModel",
      "state": {
       "width": "5%"
      }
     },
     "9232ceb677ee4f3ebd95aca570611668": {
      "model_module": "@jupyter-widgets/base",
      "model_module_version": "1.2.0",
      "model_name": "LayoutModel",
      "state": {}
     },
     "923604734202407e9907f04596915e92": {
      "model_module": "@jupyter-widgets/base",
      "model_module_version": "1.2.0",
      "model_name": "LayoutModel",
      "state": {
       "height": "30px",
       "width": "auto"
      }
     },
     "92682256e8da479cac419fbfb9ff69ad": {
      "model_module": "@jupyter-widgets/base",
      "model_module_version": "1.2.0",
      "model_name": "LayoutModel",
      "state": {}
     },
     "928f809ae135430dbcd6a0718d1f6e75": {
      "model_module": "@jupyter-widgets/base",
      "model_module_version": "1.2.0",
      "model_name": "LayoutModel",
      "state": {}
     },
     "92948dba7cc949bab6a7b4bc0bf7d539": {
      "model_module": "@jupyter-widgets/output",
      "model_module_version": "1.0.0",
      "model_name": "OutputModel",
      "state": {
       "layout": "IPY_MODEL_6cbd173263ff4028954248ec3e5b08c8"
      }
     },
     "929e79e080b1413bab108b2d2b603eb0": {
      "model_module": "@jupyter-widgets/base",
      "model_module_version": "1.2.0",
      "model_name": "LayoutModel",
      "state": {
       "align_items": "stretch",
       "width": "100%"
      }
     },
     "92a51aab90384e1ba8916eac8c633faa": {
      "model_module": "@jupyter-widgets/base",
      "model_module_version": "1.2.0",
      "model_name": "LayoutModel",
      "state": {}
     },
     "92af809a266c436c989ba41a8083d5ce": {
      "model_module": "@jupyter-widgets/base",
      "model_module_version": "1.2.0",
      "model_name": "LayoutModel",
      "state": {}
     },
     "92b767533e354e1c897baf500e1422e6": {
      "model_module": "@jupyter-widgets/controls",
      "model_module_version": "1.5.0",
      "model_name": "ButtonStyleModel",
      "state": {
       "font_weight": "bold"
      }
     },
     "92f5452def0947989131b22aeb55b726": {
      "model_module": "@jupyter-widgets/base",
      "model_module_version": "1.2.0",
      "model_name": "LayoutModel",
      "state": {}
     },
     "930a41eb9be942a3a92967402ec841c0": {
      "model_module": "@jupyter-widgets/controls",
      "model_module_version": "1.5.0",
      "model_name": "ButtonModel",
      "state": {
       "icon": "question-circle",
       "layout": "IPY_MODEL_46741701053b4ce29b6c9d43847b7b03",
       "style": "IPY_MODEL_fbbbe5d3e2b543af89e0d7756d60621a",
       "tooltip": "describes the functionality of elements in the RunApp interface"
      }
     },
     "930ef22ddc4a49f9b31b1f33ef776073": {
      "model_module": "@jupyter-widgets/controls",
      "model_module_version": "1.5.0",
      "model_name": "ButtonModel",
      "state": {
       "button_style": "info",
       "description": "show source code",
       "layout": "IPY_MODEL_aa837b59f635409688db2995bd9ccdd5",
       "style": "IPY_MODEL_1807ec13759743afbadb2e0db368c906",
       "tooltip": "shows the raw python code in the preview window below"
      }
     },
     "9318e25f7cbf43ec854f83ddbba4120d": {
      "model_module": "@jupyter-widgets/base",
      "model_module_version": "1.2.0",
      "model_name": "LayoutModel",
      "state": {}
     },
     "93432e6841c74e64b2b82c585428154b": {
      "model_module": "@jupyter-widgets/controls",
      "model_module_version": "1.5.0",
      "model_name": "CheckboxModel",
      "state": {
       "disabled": false,
       "indent": false,
       "layout": "IPY_MODEL_76e5e098b5d4452a979ba7561e1850dd",
       "style": "IPY_MODEL_0e62239885684dac909965830a13d776",
       "value": false
      }
     },
     "9358e54bdf5348c9a032825e8d4254df": {
      "model_module": "@jupyter-widgets/controls",
      "model_module_version": "1.5.0",
      "model_name": "SelectMultipleModel",
      "state": {
       "_options_labels": [
        "C:\\engDev\\git_mf\\ipyrun\\data\\raw\\gbxml.xml",
        "C:\\engDev\\git_mf\\ipyrun\\data\\interim\\gbjson.json",
        "C:\\engDev\\git_mf\\ipyrun\\data\\processed\\gbxml_datagrab.xlsx",
        "C:\\engDev\\git_mf\\ipyrun\\data\\processed\\gbxml_spcs-treemap.png"
       ],
       "description": "outputs",
       "index": [],
       "layout": "IPY_MODEL_048ecf4365274f3e87c7909718feff1f",
       "rows": 4,
       "style": "IPY_MODEL_09a2db6d68634e58924e29323e978fef"
      }
     },
     "935f6337507d461f9e3d9fd220f00b4f": {
      "model_module": "@jupyter-widgets/base",
      "model_module_version": "1.2.0",
      "model_name": "LayoutModel",
      "state": {}
     },
     "93631e57bfab4b26a4d65bd3cb24555d": {
      "model_module": "@jupyter-widgets/controls",
      "model_module_version": "1.5.0",
      "model_name": "HBoxModel",
      "state": {
       "children": [
        "IPY_MODEL_31a3eb4eeffd488393a9b3b91f004906",
        "IPY_MODEL_627500c8fd8147d5850d51709904fc5a",
        "IPY_MODEL_419839afe24742d283892e099510c1b6",
        "IPY_MODEL_eb3babe04b35437a9ad8cd97cbd910f6",
        "IPY_MODEL_3018ea8394404954a99919eefa5c566f",
        "IPY_MODEL_d440645ff9f9414facdaa3e4edef163d",
        "IPY_MODEL_83c947b675f047659679033a71435d61"
       ],
       "layout": "IPY_MODEL_64808af8eec544ba9e39530b71ce97bd"
      }
     },
     "938f87042639400cbc178c9da80af69c": {
      "model_module": "@jupyter-widgets/controls",
      "model_module_version": "1.5.0",
      "model_name": "ButtonModel",
      "state": {
       "button_style": "info",
       "description": "show log",
       "layout": "IPY_MODEL_4a3e1c04df0143088ee514a2ac297836",
       "style": "IPY_MODEL_fcb5fcd3c65a463881707e2bff7adca5",
       "tooltip": "show a log of when the script was executed to generate the outputs, and by who"
      }
     },
     "938ff09bb04646b894c9f965145b5989": {
      "model_module": "@jupyter-widgets/base",
      "model_module_version": "1.2.0",
      "model_name": "LayoutModel",
      "state": {
       "height": "30px",
       "width": "auto"
      }
     },
     "93933c2d03644465af34cab0dc845b43": {
      "model_module": "@jupyter-widgets/controls",
      "model_module_version": "1.5.0",
      "model_name": "HBoxModel",
      "state": {
       "children": [
        "IPY_MODEL_df4c684c1a8840048ef5328692fc723f",
        "IPY_MODEL_ca5bd3a074924434bc829e38d44b5266"
       ],
       "layout": "IPY_MODEL_81e71eca866f406ba7a5d5d7383ee223"
      }
     },
     "939c3d3e572e41698fe0ba06aa032996": {
      "model_module": "@jupyter-widgets/controls",
      "model_module_version": "1.5.0",
      "model_name": "ButtonModel",
      "state": {
       "button_style": "info",
       "description": "show guide",
       "layout": "IPY_MODEL_e4e81b2ff7de4f5b9692a0f4ddd92bc2",
       "style": "IPY_MODEL_c8f11134077a4d9f86fe98be7ad61b78",
       "tooltip": "read the \"docstring\", ie. the documentation that was written to accompany the script"
      }
     },
     "93a2c724b3a2409685fc4e7f8b38f720": {
      "model_module": "@jupyter-widgets/controls",
      "model_module_version": "1.5.0",
      "model_name": "ButtonModel",
      "state": {
       "icon": "eye-slash",
       "layout": "IPY_MODEL_bda5549df5684cf19ab52a050c7f7110",
       "style": "IPY_MODEL_6bbd5a0e04fa48ba905d0e1bfe983c09",
       "tooltip": "removes temporary output view"
      }
     },
     "93b58e82014b4d9da2a73f44e45f195e": {
      "model_module": "@jupyter-widgets/base",
      "model_module_version": "1.2.0",
      "model_name": "LayoutModel",
      "state": {
       "height": "30px",
       "width": "auto"
      }
     },
     "93b62dd4b8614eb88cdda5b96d0c85a7": {
      "model_module": "@jupyter-widgets/controls",
      "model_module_version": "1.5.0",
      "model_name": "ButtonStyleModel",
      "state": {
       "font_weight": "bold"
      }
     },
     "93e7a9a639a547d99f150ee6846b71e0": {
      "model_module": "@jupyter-widgets/output",
      "model_module_version": "1.0.0",
      "model_name": "OutputModel",
      "state": {
       "layout": "IPY_MODEL_e2e7a8e778f245178a2af1c604efb2e6"
      }
     },
     "93f271799fd44cf6b485c4860b266cff": {
      "model_module": "@jupyter-widgets/controls",
      "model_module_version": "1.5.0",
      "model_name": "ButtonStyleModel",
      "state": {
       "font_weight": "bold"
      }
     },
     "93fe2458e9f945d8a5201d262ee97a07": {
      "model_module": "@jupyter-widgets/controls",
      "model_module_version": "1.5.0",
      "model_name": "ButtonStyleModel",
      "state": {
       "font_weight": "bold"
      }
     },
     "940ec53a28d64dedb9b3e8be93767b01": {
      "model_module": "@jupyter-widgets/output",
      "model_module_version": "1.0.0",
      "model_name": "OutputModel",
      "state": {
       "layout": "IPY_MODEL_c5ffcf69edcc4818bf3064cf706e7b25"
      }
     },
     "9411663f46ef417eb4ea1f5ea1c44efc": {
      "model_module": "@jupyter-widgets/controls",
      "model_module_version": "1.5.0",
      "model_name": "DescriptionStyleModel",
      "state": {
       "description_width": ""
      }
     },
     "94232897c26949d6a8c7f2686e422092": {
      "model_module": "@jupyter-widgets/base",
      "model_module_version": "1.2.0",
      "model_name": "LayoutModel",
      "state": {
       "width": "100%"
      }
     },
     "94279c164dc941ab94aa1655bc8c4224": {
      "model_module": "@jupyter-widgets/controls",
      "model_module_version": "1.5.0",
      "model_name": "ButtonStyleModel",
      "state": {
       "font_weight": "bold"
      }
     },
     "943419341df241a19c5e9af2fb9b1d15": {
      "model_module": "@jupyter-widgets/controls",
      "model_module_version": "1.5.0",
      "model_name": "ButtonStyleModel",
      "state": {
       "font_weight": "bold"
      }
     },
     "94365702fda2406a91b21109ab632dc1": {
      "model_module": "@jupyter-widgets/controls",
      "model_module_version": "1.5.0",
      "model_name": "ButtonModel",
      "state": {
       "icon": "question-circle",
       "layout": "IPY_MODEL_9220ab0e870c494c9955aa67579d0461",
       "style": "IPY_MODEL_f5ea8a8eb9254c7fbb806c7b68995058",
       "tooltip": "describes the functionality of elements in the RunApp interface"
      }
     },
     "94375e41a37d45efb9467b74d489fd72": {
      "model_module": "@jupyter-widgets/controls",
      "model_module_version": "1.5.0",
      "model_name": "TextModel",
      "state": {
       "description": "script",
       "disabled": true,
       "layout": "IPY_MODEL_f638f2eb4d4e45ddb11ae58cfa419d67",
       "style": "IPY_MODEL_9cb3c132f28d4513a9ee74113142bb41",
       "value": "C:\\engDev\\git_mf\\MF_Toolbox\\dev\\mf_scripts\\eplus_pipework_params.py"
      }
     },
     "943f19ccdef84ed59790391853b0867a": {
      "model_module": "@jupyter-widgets/controls",
      "model_module_version": "1.5.0",
      "model_name": "ButtonModel",
      "state": {
       "button_style": "info",
       "description": "preview outputs",
       "layout": "IPY_MODEL_fcc710d0d30f4ead80ae009c6f25df7b",
       "style": "IPY_MODEL_4bb16e41131a40419c21bdcc277e073e",
       "tooltip": "show a preview of the output files generated when the script runs"
      }
     },
     "944552e98c4f4e3392e256877fef5e84": {
      "model_module": "@jupyter-widgets/base",
      "model_module_version": "1.2.0",
      "model_name": "LayoutModel",
      "state": {
       "border": "0px",
       "margin": "0px",
       "padding": "0px"
      }
     },
     "94620f95f738497398153087f8378abb": {
      "model_module": "@jupyter-widgets/controls",
      "model_module_version": "1.5.0",
      "model_name": "HBoxModel",
      "state": {
       "children": [
        "IPY_MODEL_82dbad8e65bb4388bb2c8314ed19f2e1",
        "IPY_MODEL_e92ac6e74620409588d242f9a67a3263",
        "IPY_MODEL_dd8feed2005d41c2a0dfe5768160c6ff",
        "IPY_MODEL_86d84af0f42a40c98e3670cb2ebad892",
        "IPY_MODEL_c136cd10e9c94f418ce523dd9ed1512f",
        "IPY_MODEL_646a3e49932842b29ced8e94bde742e0",
        "IPY_MODEL_d614ec4285a84288a90d6fc2c8271ca6"
       ],
       "layout": "IPY_MODEL_012092a2e5c94f03918939902cea6541"
      }
     },
     "9489dfe6fabe426889de63999318b085": {
      "model_module": "@jupyter-widgets/controls",
      "model_module_version": "1.5.0",
      "model_name": "HBoxModel",
      "state": {
       "children": [
        "IPY_MODEL_478cae0d013c4d0abb65fd3c2b2838ca",
        "IPY_MODEL_d4e8146895af408daac27134dfa3cf02"
       ],
       "layout": "IPY_MODEL_d8b033c7fdb4446b84f43da837ef2948"
      }
     },
     "949d891c59d746d4877c15c42a3e0e80": {
      "model_module": "@jupyter-widgets/base",
      "model_module_version": "1.2.0",
      "model_name": "LayoutModel",
      "state": {
       "align_items": "stretch",
       "width": "100%"
      }
     },
     "94a721e591484821a0ae363f9c4bc187": {
      "model_module": "@jupyter-widgets/base",
      "model_module_version": "1.2.0",
      "model_name": "LayoutModel",
      "state": {}
     },
     "94ac0f1af72344c68e978915488b03b3": {
      "model_module": "@jupyter-widgets/controls",
      "model_module_version": "1.5.0",
      "model_name": "ButtonStyleModel",
      "state": {
       "font_weight": "bold"
      }
     },
     "94af966ea691416b8bf359a916bdfa52": {
      "model_module": "@jupyter-widgets/controls",
      "model_module_version": "1.5.0",
      "model_name": "DescriptionStyleModel",
      "state": {
       "description_width": ""
      }
     },
     "94baa7f8be954745a19cdb326bb25c85": {
      "model_module": "@jupyter-widgets/controls",
      "model_module_version": "1.5.0",
      "model_name": "VBoxModel",
      "state": {
       "children": [
        "IPY_MODEL_76bdacf4162747e3a52d71e67c9f725f",
        "IPY_MODEL_b6ac70255e774a62b111328d01f28da8",
        "IPY_MODEL_e93dd5d321fc491ebd406df27f7af1ab"
       ],
       "layout": "IPY_MODEL_b9cc108d27f6449e9e2e10743b0211d6"
      }
     },
     "94f152a404094db7a3d1f9095737985f": {
      "model_module": "@jupyter-widgets/base",
      "model_module_version": "1.2.0",
      "model_name": "LayoutModel",
      "state": {
       "border": "0px",
       "margin": "0px",
       "padding": "0px"
      }
     },
     "954225fa5cdd4c208eed48f0d041ceb1": {
      "model_module": "@jupyter-widgets/controls",
      "model_module_version": "1.5.0",
      "model_name": "ButtonModel",
      "state": {
       "button_style": "warning",
       "description": "edit inputs",
       "layout": "IPY_MODEL_585fa6533564435a813d357f2cc98e3a",
       "style": "IPY_MODEL_4cb052ec5fda47e480b6761efa9b29f8",
       "tooltip": "edit the user input information that is used when the script is executed"
      }
     },
     "9557252b26344bbe9dd1fe9439755504": {
      "model_module": "@jupyter-widgets/controls",
      "model_module_version": "1.5.0",
      "model_name": "ButtonStyleModel",
      "state": {
       "font_weight": "bold"
      }
     },
     "95a110ac26ae4622bc5e64737100d74e": {
      "model_module": "@jupyter-widgets/base",
      "model_module_version": "1.2.0",
      "model_name": "LayoutModel",
      "state": {
       "align_items": "stretch",
       "width": "100%"
      }
     },
     "95a84ab18e254a10962d6e65257b1d22": {
      "model_module": "@jupyter-widgets/controls",
      "model_module_version": "1.5.0",
      "model_name": "HBoxModel",
      "state": {
       "children": [
        "IPY_MODEL_42d1e7b5c5d646cebd6e74cace5a0663",
        "IPY_MODEL_6571b51a3cac45dc827f4bba946aa375",
        "IPY_MODEL_25ac320508374067b65d723c9fd9b310"
       ],
       "layout": "IPY_MODEL_72c62e887579449ea35e21f64519805f"
      }
     },
     "95c466055188475a8c87b63f0c81e034": {
      "model_module": "@jupyter-widgets/controls",
      "model_module_version": "1.5.0",
      "model_name": "ButtonModel",
      "state": {
       "button_style": "info",
       "description": "show log",
       "layout": "IPY_MODEL_67cfe18811b44fda95b3e342645ff6e9",
       "style": "IPY_MODEL_8dafacde522e4d06aa1e604ca5510fab",
       "tooltip": "show a log of when the script was executed to generate the outputs, and by who"
      }
     },
     "95da962134ea450e9d0c04def8b1446d": {
      "model_module": "@jupyter-widgets/base",
      "model_module_version": "1.2.0",
      "model_name": "LayoutModel",
      "state": {
       "height": "30px",
       "width": "auto"
      }
     },
     "95e236b3fe26473ea35f447171fb38d2": {
      "model_module": "@jupyter-widgets/controls",
      "model_module_version": "1.5.0",
      "model_name": "DescriptionStyleModel",
      "state": {
       "description_width": ""
      }
     },
     "95e5aa03aad1415c8e42d164b72e8b32": {
      "model_module": "@jupyter-widgets/controls",
      "model_module_version": "1.5.0",
      "model_name": "AccordionModel",
      "state": {
       "_titles": {
        "0": "docx_to_pdf"
       },
       "children": [
        "IPY_MODEL_f36014fc216c468f833fce63689323c7"
       ],
       "layout": "IPY_MODEL_e7c00c2a8bcc4f7cac169fd738ed6569",
       "selected_index": null
      }
     },
     "95ef4f07120c4e979bee658fa8b64880": {
      "model_module": "@jupyter-widgets/controls",
      "model_module_version": "1.5.0",
      "model_name": "ButtonStyleModel",
      "state": {
       "font_weight": "bold"
      }
     },
     "95f9ca84dfb34ef4b7884539efe86bf7": {
      "model_module": "@jupyter-widgets/controls",
      "model_module_version": "1.5.0",
      "model_name": "ButtonStyleModel",
      "state": {
       "font_weight": "bold"
      }
     },
     "96280ec3e4b743038d8ddcb7afda37f8": {
      "model_module": "@jupyter-widgets/base",
      "model_module_version": "1.2.0",
      "model_name": "LayoutModel",
      "state": {}
     },
     "963eedd9c5eb4cbd93d8c25817f596d6": {
      "model_module": "@jupyter-widgets/controls",
      "model_module_version": "1.5.0",
      "model_name": "ButtonModel",
      "state": {
       "button_style": "info",
       "description": "show source code",
       "layout": "IPY_MODEL_f8c68ebda04d4c9a87f1d8683423dc55",
       "style": "IPY_MODEL_9f307e2fb90e47838e6cdfb3de0ade04",
       "tooltip": "shows the raw python code in the preview window below"
      }
     },
     "968cc3e8895c4e3da2d7678e866c8730": {
      "model_module": "@jupyter-widgets/controls",
      "model_module_version": "1.5.0",
      "model_name": "HBoxModel",
      "state": {
       "children": [
        "IPY_MODEL_abff9b576e7642a2a9e9078bc6949357",
        "IPY_MODEL_6c910f3b2e5743348c24374c969e69c7"
       ],
       "layout": "IPY_MODEL_f76ebf893f3347aab63a4d0b88fd3808"
      }
     },
     "969b4569e9d94c27a6514e3f164db250": {
      "model_module": "@jupyter-widgets/base",
      "model_module_version": "1.2.0",
      "model_name": "LayoutModel",
      "state": {}
     },
     "96b5a89e714041b995268606ea0c25bf": {
      "model_module": "@jupyter-widgets/controls",
      "model_module_version": "1.5.0",
      "model_name": "ButtonModel",
      "state": {
       "button_style": "info",
       "description": "show log",
       "layout": "IPY_MODEL_e05b195854bf435ca741259dfb7faf83",
       "style": "IPY_MODEL_e0fc2df1236c4c29bce5586083136007",
       "tooltip": "show a log of when the script was executed to generate the outputs, and by who"
      }
     },
     "96c3495dd25d4ad6880b681ef3c2542a": {
      "model_module": "@jupyter-widgets/controls",
      "model_module_version": "1.5.0",
      "model_name": "ButtonStyleModel",
      "state": {
       "font_weight": "bold"
      }
     },
     "96e3bb0c3fb94a02889fac1339051ba0": {
      "model_module": "@jupyter-widgets/controls",
      "model_module_version": "1.5.0",
      "model_name": "TextModel",
      "state": {
       "description": "inputs",
       "disabled": true,
       "layout": "IPY_MODEL_191c474b60ef4a5c8c7ce83d702b75b3",
       "style": "IPY_MODEL_358cbe9ebabe430e86b1e702cdd48ad2",
       "value": "C:\\engDev\\git_mf\\ipyrun\\ipyrun\\appdata\\inputs\\inputs-eplus_pipework_params.csv"
      }
     },
     "97109657589749868d2cb11c6da11db1": {
      "model_module": "@jupyter-widgets/controls",
      "model_module_version": "1.5.0",
      "model_name": "DescriptionStyleModel",
      "state": {
       "description_width": ""
      }
     },
     "97123e69b25f4dc68329d45504c56fa5": {
      "model_module": "@jupyter-widgets/controls",
      "model_module_version": "1.5.0",
      "model_name": "DescriptionStyleModel",
      "state": {
       "description_width": ""
      }
     },
     "9729b7edf3fe4d32a351c44169bf67cb": {
      "model_module": "@jupyter-widgets/base",
      "model_module_version": "1.2.0",
      "model_name": "LayoutModel",
      "state": {}
     },
     "973e38f9b4604539a4c05fb5c462e102": {
      "model_module": "@jupyter-widgets/controls",
      "model_module_version": "1.5.0",
      "model_name": "ButtonModel",
      "state": {
       "icon": "eye-slash",
       "layout": "IPY_MODEL_908e7ffab8ff4b4f841d81f13fb5491b",
       "style": "IPY_MODEL_2110e4d15e924815b6191f59fd4a154d",
       "tooltip": "removes temporary output view"
      }
     },
     "9741d2fbef3c4c9790be4cf6bbf7265d": {
      "model_module": "@jupyter-widgets/controls",
      "model_module_version": "1.5.0",
      "model_name": "HBoxModel",
      "state": {
       "children": [
        "IPY_MODEL_b399fdaa1f2f4f959cb7b51aad743269",
        "IPY_MODEL_007fe7441b0249b58a5e72cad7ccdc4f"
       ],
       "layout": "IPY_MODEL_5323546fecd84c559a550e21552e11bf"
      }
     },
     "9799c4dab07341a6a155f9fb70b696f5": {
      "model_module": "@jupyter-widgets/base",
      "model_module_version": "1.2.0",
      "model_name": "LayoutModel",
      "state": {
       "align_items": "stretch",
       "width": "100%"
      }
     },
     "97b8f5f197214350b8c3ace100e5a91c": {
      "model_module": "@jupyter-widgets/controls",
      "model_module_version": "1.5.0",
      "model_name": "ButtonStyleModel",
      "state": {
       "font_weight": "bold"
      }
     },
     "97f3d11d189f464da6e8b666dc3ca4a2": {
      "model_module": "@jupyter-widgets/controls",
      "model_module_version": "1.5.0",
      "model_name": "ButtonStyleModel",
      "state": {
       "font_weight": "bold"
      }
     },
     "9817e4b6772b4e9fa0c3ff31ea444071": {
      "model_module": "@jupyter-widgets/controls",
      "model_module_version": "1.5.0",
      "model_name": "ButtonStyleModel",
      "state": {
       "font_weight": "add"
      }
     },
     "9825835bf8f7483599f6b543eb8975c4": {
      "model_module": "@jupyter-widgets/base",
      "model_module_version": "1.2.0",
      "model_name": "LayoutModel",
      "state": {
       "height": "30px",
       "width": "auto"
      }
     },
     "9826bddc536b4151a68d4c8849fc58d8": {
      "model_module": "@jupyter-widgets/controls",
      "model_module_version": "1.5.0",
      "model_name": "ButtonModel",
      "state": {
       "icon": "eye-slash",
       "layout": "IPY_MODEL_d897072b8bca490d948f46807cda3126",
       "style": "IPY_MODEL_4278d62d8e714b72a0031be6261d5bc7",
       "tooltip": "removes temporary output view"
      }
     },
     "9827a7ff87b34c798b196e40fc51278d": {
      "model_module": "@jupyter-widgets/controls",
      "model_module_version": "1.5.0",
      "model_name": "ButtonModel",
      "state": {
       "icon": "eye-slash",
       "layout": "IPY_MODEL_8919c52103ea4b92af36a2c8707bdefd",
       "style": "IPY_MODEL_3b76b0760c074b0e98d04b33225c1334",
       "tooltip": "removes temporary output view"
      }
     },
     "983552d15aa54445844522bcdf7a96fa": {
      "model_module": "@jupyter-widgets/base",
      "model_module_version": "1.2.0",
      "model_name": "LayoutModel",
      "state": {
       "height": "30px",
       "width": "auto"
      }
     },
     "983f160cbe234d598418268c3e82249d": {
      "model_module": "@jupyter-widgets/controls",
      "model_module_version": "1.5.0",
      "model_name": "ButtonModel",
      "state": {
       "button_style": "info",
       "description": "show log",
       "layout": "IPY_MODEL_35081c3dd31d482293be6262886aaca3",
       "style": "IPY_MODEL_6482e64d9d0a49e788215c7f439c3869",
       "tooltip": "show a log of when the script was executed to generate the outputs, and by who"
      }
     },
     "9885dad3cd2142fca5e2af739ce4016d": {
      "model_module": "@jupyter-widgets/controls",
      "model_module_version": "1.5.0",
      "model_name": "ButtonStyleModel",
      "state": {
       "font_weight": "bold"
      }
     },
     "9897462946fe4d22ad4b9d9b4919c8d7": {
      "model_module": "@jupyter-widgets/base",
      "model_module_version": "1.2.0",
      "model_name": "LayoutModel",
      "state": {
       "height": "30px",
       "max_width": "30px",
       "padding": "3px"
      }
     },
     "989c400fcef945b0aef561ac3c6622db": {
      "model_module": "@jupyter-widgets/controls",
      "model_module_version": "1.5.0",
      "model_name": "ButtonStyleModel",
      "state": {
       "font_weight": "bold"
      }
     },
     "98c918951c56496eb5152fd4b0aaa951": {
      "model_module": "@jupyter-widgets/controls",
      "model_module_version": "1.5.0",
      "model_name": "ButtonModel",
      "state": {
       "icon": "eye-slash",
       "layout": "IPY_MODEL_46d8b2a07952403eb69b3bcb5d750b0f",
       "style": "IPY_MODEL_172be12063df421d9f401b6719fb35b0",
       "tooltip": "removes temporary output view"
      }
     },
     "98c9617d7153470db730793225943975": {
      "model_module": "@jupyter-widgets/base",
      "model_module_version": "1.2.0",
      "model_name": "LayoutModel",
      "state": {}
     },
     "98cc297ff2874831a3136c0cfa107ed0": {
      "model_module": "@jupyter-widgets/controls",
      "model_module_version": "1.5.0",
      "model_name": "ButtonStyleModel",
      "state": {
       "font_weight": "bold"
      }
     },
     "98e8362b282f41f9b3bbcde4dc19eb53": {
      "model_module": "@jupyter-widgets/base",
      "model_module_version": "1.2.0",
      "model_name": "LayoutModel",
      "state": {}
     },
     "98effa4f428344d28f0396257c63ca21": {
      "model_module": "@jupyter-widgets/base",
      "model_module_version": "1.2.0",
      "model_name": "LayoutModel",
      "state": {}
     },
     "990b5454a0324095bf3eec50378166ab": {
      "model_module": "@jupyter-widgets/base",
      "model_module_version": "1.2.0",
      "model_name": "LayoutModel",
      "state": {}
     },
     "994c69f6349844ed8e8d81ed726819a8": {
      "model_module": "@jupyter-widgets/controls",
      "model_module_version": "1.5.0",
      "model_name": "ButtonStyleModel",
      "state": {
       "font_weight": "bold"
      }
     },
     "99604dbae1514330a99a1adc7d7694e9": {
      "model_module": "@jupyter-widgets/controls",
      "model_module_version": "1.5.0",
      "model_name": "ButtonModel",
      "state": {
       "icon": "eye-slash",
       "layout": "IPY_MODEL_b355971ede044b799eec9bf29a4f612a",
       "style": "IPY_MODEL_c5fcabfe4a3d4fe4be0026571b4ec481",
       "tooltip": "removes temporary output view"
      }
     },
     "996f23c0e221442aa84848bb44ab703b": {
      "model_module": "@jupyter-widgets/base",
      "model_module_version": "1.2.0",
      "model_name": "LayoutModel",
      "state": {}
     },
     "9991c6a2a6fe4c5e825f5bb3a4d47049": {
      "model_module": "@jupyter-widgets/controls",
      "model_module_version": "1.5.0",
      "model_name": "DescriptionStyleModel",
      "state": {
       "description_width": ""
      }
     },
     "999e6bb3ffd447358f53e4cf21a7066d": {
      "model_module": "@jupyter-widgets/controls",
      "model_module_version": "1.5.0",
      "model_name": "ButtonModel",
      "state": {
       "icon": "eye-slash",
       "layout": "IPY_MODEL_3add3fe15e1a4bfdbeed1e40e9af9cd2",
       "style": "IPY_MODEL_50695946e82a4375a85e35b49142d94c",
       "tooltip": "removes temporary output view"
      }
     },
     "99a41f544f70475593c7d108e1c66c2e": {
      "model_module": "@jupyter-widgets/controls",
      "model_module_version": "1.5.0",
      "model_name": "ButtonModel",
      "state": {
       "icon": "question-circle",
       "layout": "IPY_MODEL_7ba582ecf35547d08191da368193e7f6",
       "style": "IPY_MODEL_7d4b10a1121e43d2b27a7ca5976b45ef",
       "tooltip": "describes the functionality of elements in the RunApp interface"
      }
     },
     "99bcf340ff624a57874965e1361c5e0b": {
      "model_module": "@jupyter-widgets/base",
      "model_module_version": "1.2.0",
      "model_name": "LayoutModel",
      "state": {}
     },
     "99ca7dc647ea45cca60e0f49de136fda": {
      "model_module": "@jupyter-widgets/base",
      "model_module_version": "1.2.0",
      "model_name": "LayoutModel",
      "state": {}
     },
     "99ccc456604c4f1b8a0d8dd3232dc17a": {
      "model_module": "@jupyter-widgets/base",
      "model_module_version": "1.2.0",
      "model_name": "LayoutModel",
      "state": {
       "align_items": "stretch",
       "width": "100%"
      }
     },
     "99d825bd32354b2bbe5d58b4bda1b8b0": {
      "model_module": "@jupyter-widgets/base",
      "model_module_version": "1.2.0",
      "model_name": "LayoutModel",
      "state": {}
     },
     "99ed3b43ff5841a3bd7ca7c3fd3c40c1": {
      "model_module": "@jupyter-widgets/base",
      "model_module_version": "1.2.0",
      "model_name": "LayoutModel",
      "state": {}
     },
     "99faee01b29d4e73a9551f8500083ac9": {
      "model_module": "@jupyter-widgets/base",
      "model_module_version": "1.2.0",
      "model_name": "LayoutModel",
      "state": {
       "width": "5%"
      }
     },
     "9a39a7477b29423880f247813212a800": {
      "model_module": "@jupyter-widgets/controls",
      "model_module_version": "1.5.0",
      "model_name": "AccordionModel",
      "state": {
       "_titles": {
        "0": "eplus_pipework_params"
       },
       "children": [
        "IPY_MODEL_cc9dd60dada341578367f31e1739798f"
       ],
       "layout": "IPY_MODEL_f7dbebbd2ccc46c9b292c21a73ce63d9",
       "selected_index": null
      }
     },
     "9a69d81a78cd4c06b6739a169a3103e5": {
      "model_module": "@jupyter-widgets/controls",
      "model_module_version": "1.5.0",
      "model_name": "BoxModel",
      "state": {
       "children": [
        "IPY_MODEL_d2d7d634b338456a933c845d21e559ad"
       ],
       "layout": "IPY_MODEL_8098e2c65c1a4acabb19e5618c0732ae"
      }
     },
     "9a6cdf0ea10641eca4a4f697f192b6e4": {
      "model_module": "@jupyter-widgets/controls",
      "model_module_version": "1.5.0",
      "model_name": "BoxModel",
      "state": {
       "children": [
        "IPY_MODEL_0b1cdff14f184c1882ec3976d7be853c"
       ],
       "layout": "IPY_MODEL_f6a04368f2934f24b9274c1fa02abc23"
      }
     },
     "9a7e53a31e814423bc9144b3579ce8dc": {
      "model_module": "@jupyter-widgets/controls",
      "model_module_version": "1.5.0",
      "model_name": "HBoxModel",
      "state": {
       "children": [
        "IPY_MODEL_e49ccc4647ca49e795107e1249793ff6",
        "IPY_MODEL_5b194a40e6fa4995ab10979238a511e7",
        "IPY_MODEL_ca39ef2a0f004d37bc860dfc19aada9e",
        "IPY_MODEL_7091e896bc4c4ed08bec8a8fa69831d8",
        "IPY_MODEL_8e40d7df155f47239ec6b3e341acd904",
        "IPY_MODEL_edda11e860364544a0a79eee701b1c13",
        "IPY_MODEL_37f072df93b543e8b26344ab414d4f50"
       ],
       "layout": "IPY_MODEL_e8f178afbe9d4681a849db0aec052f78"
      }
     },
     "9a9cc9e340b84f0da7cd7c8d69898adc": {
      "model_module": "@jupyter-widgets/output",
      "model_module_version": "1.0.0",
      "model_name": "OutputModel",
      "state": {
       "layout": "IPY_MODEL_d57f9bac46a24cdaa5c806804d3b842e"
      }
     },
     "9a9d83e9bbe64bb9ab284795ceb4507f": {
      "model_module": "@jupyter-widgets/controls",
      "model_module_version": "1.5.0",
      "model_name": "TextModel",
      "state": {
       "description": "script",
       "disabled": true,
       "layout": "IPY_MODEL_b0bf1a287d93461c819f9ddde82f2e2a",
       "style": "IPY_MODEL_7f8f31f0bec8470d89c2f1078c3d0824",
       "value": "C:\\engDev\\git_mf\\MF_Toolbox\\dev\\mf_scripts\\eplus_pipework_params.py"
      }
     },
     "9ab6f7845c2f453e839c1d11a329e6ec": {
      "model_module": "@jupyter-widgets/controls",
      "model_module_version": "1.5.0",
      "model_name": "DescriptionStyleModel",
      "state": {
       "description_width": ""
      }
     },
     "9af4032cf9624b79808af01167a25cd5": {
      "model_module": "@jupyter-widgets/controls",
      "model_module_version": "1.5.0",
      "model_name": "ButtonModel",
      "state": {
       "icon": "eye-slash",
       "layout": "IPY_MODEL_a8425681a49d4a88b6bafa76e13ef2c1",
       "style": "IPY_MODEL_85822f3c20b148ec9936e0e419c94a71",
       "tooltip": "removes temporary output view"
      }
     },
     "9af41a92c681469c9b6a2a1aeabc86fd": {
      "model_module": "@jupyter-widgets/base",
      "model_module_version": "1.2.0",
      "model_name": "LayoutModel",
      "state": {}
     },
     "9b1b7c9f04624005b0c1693c9edd23f6": {
      "model_module": "@jupyter-widgets/controls",
      "model_module_version": "1.5.0",
      "model_name": "BoxModel",
      "state": {
       "children": [
        "IPY_MODEL_839a4a437af649f5ae0a274d99de6e7b"
       ],
       "layout": "IPY_MODEL_cb0540882e9f4343bcbf5355c0092319"
      }
     },
     "9b1e52d9fbda46198ea56aed1eece236": {
      "model_module": "@jupyter-widgets/base",
      "model_module_version": "1.2.0",
      "model_name": "LayoutModel",
      "state": {}
     },
     "9b5e2dc0f9d4457997cee6ca724ed2bb": {
      "model_module": "@jupyter-widgets/controls",
      "model_module_version": "1.5.0",
      "model_name": "ButtonModel",
      "state": {
       "icon": "eye-slash",
       "layout": "IPY_MODEL_09d9e186c2a64f8f97d2e1db2cfcd562",
       "style": "IPY_MODEL_9f82dc79be4b47eaa5b2c840cc187c84",
       "tooltip": "removes temporary output view"
      }
     },
     "9b7a88a2279045789db7aabbd74c521d": {
      "model_module": "@jupyter-widgets/controls",
      "model_module_version": "1.5.0",
      "model_name": "ButtonModel",
      "state": {
       "button_style": "info",
       "description": "show source code",
       "layout": "IPY_MODEL_2202169591a24cadbe8806358b80be91",
       "style": "IPY_MODEL_d6cab98627334e7189fdf040f7561b59",
       "tooltip": "shows the raw python code in the preview window below"
      }
     },
     "9b90c88bf78043fbb499563daed5938c": {
      "model_module": "@jupyter-widgets/controls",
      "model_module_version": "1.5.0",
      "model_name": "ButtonModel",
      "state": {
       "icon": "question-circle",
       "layout": "IPY_MODEL_0a931d26dc3947dd98616b2e7494e76d",
       "style": "IPY_MODEL_38e8002358d644c994ce73a0f1b17e11",
       "tooltip": "describes the functionality of elements in the RunApp interface"
      }
     },
     "9ba3945775a64ca9be5685b23f10977a": {
      "model_module": "@jupyter-widgets/base",
      "model_module_version": "1.2.0",
      "model_name": "LayoutModel",
      "state": {}
     },
     "9bb0d5dc09fd46f8ae215feb2a7f45ca": {
      "model_module": "@jupyter-widgets/output",
      "model_module_version": "1.0.0",
      "model_name": "OutputModel",
      "state": {
       "layout": "IPY_MODEL_50d972b7b5af4753bdb86934b8fda0bf"
      }
     },
     "9bbdc2fc14d54b74924a35e45a4cf32e": {
      "model_module": "@jupyter-widgets/base",
      "model_module_version": "1.2.0",
      "model_name": "LayoutModel",
      "state": {}
     },
     "9bc79d072f9d47319c019b14b1ef647b": {
      "model_module": "@jupyter-widgets/controls",
      "model_module_version": "1.5.0",
      "model_name": "TextModel",
      "state": {
       "description": "inputs",
       "disabled": true,
       "layout": "IPY_MODEL_6f6c706381704b1aae4e55268ac3e6be",
       "style": "IPY_MODEL_1770e5b0db4c45d18f1e4a88ea57f052",
       "value": "C:\\engDev\\git_mf\\ipyrun\\ipyrun\\notebooks\\appdata\\inputs\\inputs-eplus_pipework_params.csv"
      }
     },
     "9be802f2ad8b43f18fadc79138b39874": {
      "model_module": "@jupyter-widgets/base",
      "model_module_version": "1.2.0",
      "model_name": "LayoutModel",
      "state": {
       "height": "30px",
       "width": "auto"
      }
     },
     "9c032536356a4f179b60c4f92d351ddc": {
      "model_module": "@jupyter-widgets/controls",
      "model_module_version": "1.5.0",
      "model_name": "SelectMultipleModel",
      "state": {
       "_options_labels": [
        "C:\\engDev\\git_mf\\ipyrun\\reports\\JupyterReportDemo.pdf"
       ],
       "description": "outputs",
       "index": [],
       "layout": "IPY_MODEL_1e5233bc33064f858cf6dcfedd9f0e92",
       "rows": 4,
       "style": "IPY_MODEL_0353fe127ea04461a8dab8e346833e87"
      }
     },
     "9c032553cc264fcd830d74119a82d1fd": {
      "model_module": "@jupyter-widgets/controls",
      "model_module_version": "1.5.0",
      "model_name": "VBoxModel",
      "state": {
       "children": [
        "IPY_MODEL_91e55bca4a6843cebfe0fc6ab00e2c73",
        "IPY_MODEL_c692607e73e641eaaca5f15dae43f349",
        "IPY_MODEL_90b3b112e4df4796afe267bdb2754a95"
       ],
       "layout": "IPY_MODEL_c8fbd1d8a5dd4cb0804111ea55f22384"
      }
     },
     "9c0449220da6493d80ac734f7907a5ad": {
      "model_module": "@jupyter-widgets/base",
      "model_module_version": "1.2.0",
      "model_name": "LayoutModel",
      "state": {}
     },
     "9c14f9eeb81b452f81743f966b7175b0": {
      "model_module": "@jupyter-widgets/controls",
      "model_module_version": "1.5.0",
      "model_name": "ButtonModel",
      "state": {
       "button_style": "info",
       "description": "show log",
       "layout": "IPY_MODEL_5626d43144b44e3485e0f3b3b363c563",
       "style": "IPY_MODEL_5b872b146fb54e0a89fb629e80aa2d54",
       "tooltip": "show a log of when the script was executed to generate the outputs, and by who"
      }
     },
     "9c1bc2e73b594060919dd9c5f46b657e": {
      "model_module": "@jupyter-widgets/controls",
      "model_module_version": "1.5.0",
      "model_name": "CheckboxModel",
      "state": {
       "disabled": false,
       "indent": false,
       "layout": "IPY_MODEL_45093dc5418e4c0faed87367ebd21171",
       "style": "IPY_MODEL_9991c6a2a6fe4c5e825f5bb3a4d47049",
       "value": false
      }
     },
     "9c33b28e96fe4e2c842c674527cbe7b0": {
      "model_module": "@jupyter-widgets/base",
      "model_module_version": "1.2.0",
      "model_name": "LayoutModel",
      "state": {
       "height": "30px",
       "max_width": "30px",
       "padding": "3px"
      }
     },
     "9c3ccbb7dec342048fdd9b4d6ca9219c": {
      "model_module": "@jupyter-widgets/base",
      "model_module_version": "1.2.0",
      "model_name": "LayoutModel",
      "state": {
       "height": "30px",
       "width": "auto"
      }
     },
     "9c4ced80f38f4a8d9e92de409526849b": {
      "model_module": "@jupyter-widgets/base",
      "model_module_version": "1.2.0",
      "model_name": "LayoutModel",
      "state": {
       "height": "30px",
       "width": "auto"
      }
     },
     "9c705894862649e1a8222389419cbb9e": {
      "model_module": "@jupyter-widgets/base",
      "model_module_version": "1.2.0",
      "model_name": "LayoutModel",
      "state": {
       "align_items": "stretch",
       "width": "100%"
      }
     },
     "9c72efe140f9467b97d2b7391e4803dd": {
      "model_module": "@jupyter-widgets/controls",
      "model_module_version": "1.5.0",
      "model_name": "TextModel",
      "state": {
       "description": "inputs",
       "disabled": true,
       "layout": "IPY_MODEL_0706bbf208e849be98be9b376d2aeab4",
       "style": "IPY_MODEL_c42d614dd16f43e98bba4f2a5e889f52",
       "value": "C:\\engDev\\git_mf\\ipyrun\\ipyrun\\appdata\\inputs\\inputs-docx_to_pdf.json"
      }
     },
     "9c8c683003574f75a860be6e0c5c7d69": {
      "model_module": "@jupyter-widgets/base",
      "model_module_version": "1.2.0",
      "model_name": "LayoutModel",
      "state": {}
     },
     "9c9facc25a3241f9a8905e98d55cc50a": {
      "model_module": "@jupyter-widgets/base",
      "model_module_version": "1.2.0",
      "model_name": "LayoutModel",
      "state": {
       "height": "30px",
       "width": "auto"
      }
     },
     "9caf3fe8d21b443db1446df8da811f8b": {
      "model_module": "@jupyter-widgets/controls",
      "model_module_version": "1.5.0",
      "model_name": "ButtonStyleModel",
      "state": {
       "font_weight": "bold"
      }
     },
     "9cb1265388e840a2834ffc9c8e2530b3": {
      "model_module": "@jupyter-widgets/base",
      "model_module_version": "1.2.0",
      "model_name": "LayoutModel",
      "state": {
       "height": "30px",
       "max_width": "30px",
       "padding": "3px"
      }
     },
     "9cb3c132f28d4513a9ee74113142bb41": {
      "model_module": "@jupyter-widgets/controls",
      "model_module_version": "1.5.0",
      "model_name": "DescriptionStyleModel",
      "state": {
       "description_width": ""
      }
     },
     "9cbe4ea0ef3b45b181cf4c5b5d07227a": {
      "model_module": "@jupyter-widgets/controls",
      "model_module_version": "1.5.0",
      "model_name": "ButtonModel",
      "state": {
       "button_style": "warning",
       "description": "edit inputs",
       "layout": "IPY_MODEL_74d4d51dd14548dea0776a6708bdd336",
       "style": "IPY_MODEL_348ae564cadb45ea943033a247bf6e5c",
       "tooltip": "edit the user input information that is used when the script is executed"
      }
     },
     "9ccbb1f6554349a0a677995f9f1d47f2": {
      "model_module": "@jupyter-widgets/base",
      "model_module_version": "1.2.0",
      "model_name": "LayoutModel",
      "state": {}
     },
     "9d25125177c749f6955cb77533a00c73": {
      "model_module": "@jupyter-widgets/controls",
      "model_module_version": "1.5.0",
      "model_name": "VBoxModel",
      "state": {
       "children": [
        "IPY_MODEL_58ff058cd7194fc0acbacb3720082777",
        "IPY_MODEL_42228b57cbfe49078840367b983eb0ac"
       ],
       "layout": "IPY_MODEL_f8b51df3f2b749f395c7ed94d38586b5"
      }
     },
     "9d4928ed26b047c59064b4b44f523a8f": {
      "model_module": "@jupyter-widgets/controls",
      "model_module_version": "1.5.0",
      "model_name": "CheckboxModel",
      "state": {
       "disabled": false,
       "indent": false,
       "layout": "IPY_MODEL_1d07dd3c5b624072a7bce048f3f42291",
       "style": "IPY_MODEL_58296d17b5a64a4db732f91b46b6b4ff",
       "value": false
      }
     },
     "9d5852f7be41416f82de90b5367423e1": {
      "model_module": "@jupyter-widgets/base",
      "model_module_version": "1.2.0",
      "model_name": "LayoutModel",
      "state": {}
     },
     "9d670c8b1e064ffbb7f9d40829d119e0": {
      "model_module": "@jupyter-widgets/controls",
      "model_module_version": "1.5.0",
      "model_name": "ButtonModel",
      "state": {
       "button_style": "info",
       "description": "preview outputs",
       "layout": "IPY_MODEL_361646f52f084dc6b02dc8f2d7259e41",
       "style": "IPY_MODEL_52878c5cd3b248ed8b3e0680b5a5fce6",
       "tooltip": "show a preview of the output files generated when the script runs"
      }
     },
     "9d675d59d39346c681460beb0c004b98": {
      "model_module": "@jupyter-widgets/base",
      "model_module_version": "1.2.0",
      "model_name": "LayoutModel",
      "state": {}
     },
     "9d76d449da68436e94ad86622d972f46": {
      "model_module": "@jupyter-widgets/base",
      "model_module_version": "1.2.0",
      "model_name": "LayoutModel",
      "state": {}
     },
     "9da96233917c4902850f1386ecc5a5ea": {
      "model_module": "@jupyter-widgets/controls",
      "model_module_version": "1.5.0",
      "model_name": "ButtonStyleModel",
      "state": {
       "font_weight": "bold"
      }
     },
     "9db0c923e3d74e27a99361afe48951ed": {
      "model_module": "@jupyter-widgets/controls",
      "model_module_version": "1.5.0",
      "model_name": "ButtonStyleModel",
      "state": {
       "font_weight": "bold"
      }
     },
     "9df692371f6046e8abf4db75d0298dcb": {
      "model_module": "@jupyter-widgets/base",
      "model_module_version": "1.2.0",
      "model_name": "LayoutModel",
      "state": {
       "width": "5%"
      }
     },
     "9df7349a652a4d38a995576ce608832a": {
      "model_module": "@jupyter-widgets/controls",
      "model_module_version": "1.5.0",
      "model_name": "VBoxModel",
      "state": {
       "children": [
        "IPY_MODEL_ffbaf22ea1754d688eb274c46b6713da",
        "IPY_MODEL_864c43a5a08e4a03a450932ca1a41674"
       ],
       "layout": "IPY_MODEL_ef6e7696a0e54ed8b59a453e2537a0a5"
      }
     },
     "9df78734df5c4511a12f93659cc50a56": {
      "model_module": "@jupyter-widgets/controls",
      "model_module_version": "1.5.0",
      "model_name": "DescriptionStyleModel",
      "state": {
       "description_width": ""
      }
     },
     "9dfc36b4fcce4ed1a37392c297055528": {
      "model_module": "@jupyter-widgets/controls",
      "model_module_version": "1.5.0",
      "model_name": "VBoxModel",
      "state": {
       "children": [
        "IPY_MODEL_6995bb2e0b4046039254a028769a1971",
        "IPY_MODEL_5051ad085af642b78b47fab70c0d97d3"
       ],
       "layout": "IPY_MODEL_4f5b9b6fcb984746aa0a46d89b07a179"
      }
     },
     "9e1290cc34b04d0c88d958b896d538c8": {
      "model_module": "@jupyter-widgets/controls",
      "model_module_version": "1.5.0",
      "model_name": "TextModel",
      "state": {
       "description": "script",
       "disabled": true,
       "layout": "IPY_MODEL_e20295163904418ab27ea91214f0afa6",
       "style": "IPY_MODEL_5fda3db9d4ae4ba4a7eab42da3c1b9ee",
       "value": "C:\\engDev\\git_mf\\MF_Toolbox\\dev\\mf_scripts\\gbxml.py"
      }
     },
     "9e4f161692d54a5bb1db92e7c7c03c26": {
      "model_module": "@jupyter-widgets/controls",
      "model_module_version": "1.5.0",
      "model_name": "ButtonModel",
      "state": {
       "button_style": "warning",
       "description": "add run",
       "layout": "IPY_MODEL_b99d6980b2874b33b39222dd4290c1fa",
       "style": "IPY_MODEL_df8afc339236445699cb781463facac3",
       "tooltip": "add new run, based on another run"
      }
     },
     "9e6369b8ef8248619bb21ca8e50ea37d": {
      "model_module": "@jupyter-widgets/controls",
      "model_module_version": "1.5.0",
      "model_name": "VBoxModel",
      "state": {
       "children": [
        "IPY_MODEL_d3e20ab5436b42b6bddf6f76a54d3ecc",
        "IPY_MODEL_cbe685ea4c6f4359af5eea53755512d9"
       ],
       "layout": "IPY_MODEL_2b077383a7874d35ad2119ee89f0c4ae"
      }
     },
     "9e7ec832bf8b4059940c74a7dca37150": {
      "model_module": "@jupyter-widgets/output",
      "model_module_version": "1.0.0",
      "model_name": "OutputModel",
      "state": {
       "layout": "IPY_MODEL_0a7642ddf0ad40c1acab24e68f5dc762"
      }
     },
     "9eae3935b9e2460098f259203b3dd60a": {
      "model_module": "@jupyter-widgets/base",
      "model_module_version": "1.2.0",
      "model_name": "LayoutModel",
      "state": {
       "height": "30px",
       "width": "auto"
      }
     },
     "9f07c18555214168924a683403035fb2": {
      "model_module": "@jupyter-widgets/base",
      "model_module_version": "1.2.0",
      "model_name": "LayoutModel",
      "state": {
       "align_items": "stretch",
       "width": "100%"
      }
     },
     "9f19963fadd84a74846d838e31d6e2e9": {
      "model_module": "@jupyter-widgets/controls",
      "model_module_version": "1.5.0",
      "model_name": "VBoxModel",
      "state": {
       "children": [
        "IPY_MODEL_ad813262f9aa4585b1e5df56bd3551eb",
        "IPY_MODEL_ea68baf3a9984010b96092e5a38ad96c",
        "IPY_MODEL_cd5885594f464882a0d1f753dc59b8aa"
       ],
       "layout": "IPY_MODEL_5e3c2ad36fff49ec9695d7d1228a8b69"
      }
     },
     "9f1e7bb3854040f3871166a336e20795": {
      "model_module": "@jupyter-widgets/controls",
      "model_module_version": "1.5.0",
      "model_name": "ButtonModel",
      "state": {
       "icon": "eye-slash",
       "layout": "IPY_MODEL_7a868ca327c5456389c011fb527038fc",
       "style": "IPY_MODEL_8f83d82ae05148eebb1c5bea07a032cc",
       "tooltip": "removes temporary output view"
      }
     },
     "9f25d5cfe50148738c1e61526aebd329": {
      "model_module": "@jupyter-widgets/controls",
      "model_module_version": "1.5.0",
      "model_name": "HBoxModel",
      "state": {
       "children": [
        "IPY_MODEL_f3c63af5083845c2a87c8614c9c0d442",
        "IPY_MODEL_b8db144100fb447dae64105eea238b59"
       ],
       "layout": "IPY_MODEL_6baaf5a08a8a4d5a9b98a166a69a62dd"
      }
     },
     "9f30329ef9fc4d379f1592ffaa09821f": {
      "model_module": "@jupyter-widgets/controls",
      "model_module_version": "1.5.0",
      "model_name": "ButtonModel",
      "state": {
       "button_style": "success",
       "description": "run",
       "layout": "IPY_MODEL_30f1c9bbc01d4e19a954787e2a48961f",
       "style": "IPY_MODEL_d0012aa2c8014d368be3219c93214d1a",
       "tooltip": "execute the script based on the user inputs"
      }
     },
     "9f307e2fb90e47838e6cdfb3de0ade04": {
      "model_module": "@jupyter-widgets/controls",
      "model_module_version": "1.5.0",
      "model_name": "ButtonStyleModel",
      "state": {}
     },
     "9f3ed1e3c3e24b828868a5bb3250f727": {
      "model_module": "@jupyter-widgets/base",
      "model_module_version": "1.2.0",
      "model_name": "LayoutModel",
      "state": {
       "width": "100%"
      }
     },
     "9f4ff0fc78a54665b7d1df5999b4b981": {
      "model_module": "@jupyter-widgets/controls",
      "model_module_version": "1.5.0",
      "model_name": "ButtonModel",
      "state": {
       "button_style": "info",
       "description": "show log",
       "layout": "IPY_MODEL_1ceec74da65b43c4a698acfaedc4aad2",
       "style": "IPY_MODEL_2964dbc5d3094f119f8acea418aa6848",
       "tooltip": "show a log of when the script was executed to generate the outputs, and by who"
      }
     },
     "9f5fc9a1772c44f681a2dcbb7938e020": {
      "model_module": "@jupyter-widgets/controls",
      "model_module_version": "1.5.0",
      "model_name": "ButtonStyleModel",
      "state": {
       "font_weight": "bold"
      }
     },
     "9f647c554aa84190a1db66c7ddbe7e39": {
      "model_module": "@jupyter-widgets/controls",
      "model_module_version": "1.5.0",
      "model_name": "ButtonModel",
      "state": {
       "button_style": "info",
       "description": "show log",
       "layout": "IPY_MODEL_e204d738299b446aa124f032675a9105",
       "style": "IPY_MODEL_7183e4b3ecb746bf9a932b5908936fdf",
       "tooltip": "show a log of when the script was executed to generate the outputs, and by who"
      }
     },
     "9f6f8a70832e4ec3966bcd66e3b1c8d5": {
      "model_module": "@jupyter-widgets/controls",
      "model_module_version": "1.5.0",
      "model_name": "HBoxModel",
      "state": {
       "children": [
        "IPY_MODEL_6556fb11a4384588a210572fae228ba8",
        "IPY_MODEL_c2adbb64868245b6a95fb5aa356c8e8f",
        "IPY_MODEL_2f4b6e6f63ed42b48d825203934eeb81",
        "IPY_MODEL_e71391fe9ca84e7099d14fe016f06658",
        "IPY_MODEL_30bfdd8742b0449d8343e776521598c6",
        "IPY_MODEL_0ffe90a644a040eeae05600a5424c421",
        "IPY_MODEL_77fde41e61ca4fcda4244f1f56540683"
       ],
       "layout": "IPY_MODEL_187f5cc2c216455491395ca17f5c9229"
      }
     },
     "9f7d175f3140473f8cef85a2e18fdcd6": {
      "model_module": "@jupyter-widgets/controls",
      "model_module_version": "1.5.0",
      "model_name": "ButtonStyleModel",
      "state": {
       "font_weight": "bold"
      }
     },
     "9f82dc79be4b47eaa5b2c840cc187c84": {
      "model_module": "@jupyter-widgets/controls",
      "model_module_version": "1.5.0",
      "model_name": "ButtonStyleModel",
      "state": {
       "font_weight": "bold"
      }
     },
     "9f8925e99aa24e329a38aa6fcde18d13": {
      "model_module": "@jupyter-widgets/controls",
      "model_module_version": "1.5.0",
      "model_name": "TextModel",
      "state": {
       "description": "inputs",
       "disabled": true,
       "layout": "IPY_MODEL_ff77e263b7204a58a065b54f8514bde7",
       "style": "IPY_MODEL_538d7f6785f94136b5ce352ff4588d44",
       "value": "C:\\engDev\\git_mf\\ipyrun\\ipyrun\\appdata\\inputs\\inputs-docx_to_pdf.json"
      }
     },
     "9f930be447aa4d2fa896d30a3a84a41f": {
      "model_module": "@jupyter-widgets/base",
      "model_module_version": "1.2.0",
      "model_name": "LayoutModel",
      "state": {
       "align_items": "stretch",
       "width": "100%"
      }
     },
     "9fc2682fd7b24ed696bfad412f674dff": {
      "model_module": "@jupyter-widgets/base",
      "model_module_version": "1.2.0",
      "model_name": "LayoutModel",
      "state": {
       "width": "5%"
      }
     },
     "9fc2caba4b9645919c685fc914cafe23": {
      "model_module": "@jupyter-widgets/controls",
      "model_module_version": "1.5.0",
      "model_name": "ButtonStyleModel",
      "state": {
       "font_weight": "bold"
      }
     },
     "9ffb84ab9d134974bd29f2bcfa4410f8": {
      "model_module": "@jupyter-widgets/controls",
      "model_module_version": "1.5.0",
      "model_name": "ButtonModel",
      "state": {
       "button_style": "info",
       "description": "preview outputs",
       "layout": "IPY_MODEL_9ccbb1f6554349a0a677995f9f1d47f2",
       "style": "IPY_MODEL_303f09a569344e7f94b4c6a6d3405d99",
       "tooltip": "show a preview of the output files generated when the script runs"
      }
     },
     "a014206abd7e4e95be8c9e4d312d4ff0": {
      "model_module": "@jupyter-widgets/base",
      "model_module_version": "1.2.0",
      "model_name": "LayoutModel",
      "state": {
       "width": "5%"
      }
     },
     "a01e0fa4a951462c8455c0cd9aa1d35e": {
      "model_module": "@jupyter-widgets/controls",
      "model_module_version": "1.5.0",
      "model_name": "ButtonStyleModel",
      "state": {
       "font_weight": "bold"
      }
     },
     "a0443f3152e2411d9bc9249aad9af0bd": {
      "model_module": "@jupyter-widgets/controls",
      "model_module_version": "1.5.0",
      "model_name": "DescriptionStyleModel",
      "state": {
       "description_width": ""
      }
     },
     "a0494f194dca4a9c9df36b55fed55657": {
      "model_module": "@jupyter-widgets/controls",
      "model_module_version": "1.5.0",
      "model_name": "VBoxModel",
      "state": {
       "children": [
        "IPY_MODEL_968cc3e8895c4e3da2d7678e866c8730",
        "IPY_MODEL_6a74784e5fd742568869d1f79dba59aa"
       ],
       "layout": "IPY_MODEL_f5d8655723804997af2632e2ebbabf51"
      }
     },
     "a056f39eeda345fa9d3c28fa66da4339": {
      "model_module": "@jupyter-widgets/base",
      "model_module_version": "1.2.0",
      "model_name": "LayoutModel",
      "state": {
       "height": "30px",
       "width": "auto"
      }
     },
     "a0c56eb1d7334cc29b99283a1e04de51": {
      "model_module": "@jupyter-widgets/base",
      "model_module_version": "1.2.0",
      "model_name": "LayoutModel",
      "state": {}
     },
     "a0c92cf517064cc7aed0ca42b480cf01": {
      "model_module": "@jupyter-widgets/base",
      "model_module_version": "1.2.0",
      "model_name": "LayoutModel",
      "state": {
       "width": "5%"
      }
     },
     "a0ce6d87c7714ae3ab20034de2311f93": {
      "model_module": "@jupyter-widgets/controls",
      "model_module_version": "1.5.0",
      "model_name": "BoxModel",
      "state": {
       "children": [
        "IPY_MODEL_dd897aa53f26432ebb743a23d7a1dd3a"
       ],
       "layout": "IPY_MODEL_1764b6ff636448bc9c0433060b85bd93"
      }
     },
     "a0d1398407f74c4f9b725c9ed949bbb0": {
      "model_module": "@jupyter-widgets/controls",
      "model_module_version": "1.5.0",
      "model_name": "TextModel",
      "state": {
       "description": "script",
       "disabled": true,
       "layout": "IPY_MODEL_93b58e82014b4d9da2a73f44e45f195e",
       "style": "IPY_MODEL_62b14e28ed494a10a55e58e5056c0c0f",
       "value": "C:\\engDev\\git_mf\\MF_Toolbox\\dev\\mf_scripts\\docx_to_pdf.py"
      }
     },
     "a13cb95e84c4492687bd4b6b479f3e84": {
      "model_module": "@jupyter-widgets/controls",
      "model_module_version": "1.5.0",
      "model_name": "ButtonStyleModel",
      "state": {
       "font_weight": "bold"
      }
     },
     "a1b20fcef6d2453fb0d8c7d9dd9d2974": {
      "model_module": "@jupyter-widgets/controls",
      "model_module_version": "1.5.0",
      "model_name": "ButtonStyleModel",
      "state": {
       "font_weight": "bold"
      }
     },
     "a1cd6b94f7b847af94621074492654aa": {
      "model_module": "@jupyter-widgets/controls",
      "model_module_version": "1.5.0",
      "model_name": "CheckboxModel",
      "state": {
       "disabled": false,
       "indent": false,
       "layout": "IPY_MODEL_1a6242d61458483b818fc35f310b0328",
       "style": "IPY_MODEL_c17563411b624b8b943fa09308562abb",
       "value": false
      }
     },
     "a1d7fecdb0864df59a35ae739441a920": {
      "model_module": "@jupyter-widgets/controls",
      "model_module_version": "1.5.0",
      "model_name": "ButtonStyleModel",
      "state": {
       "font_weight": "bold"
      }
     },
     "a1f8209cf09c4ce184125c7118fa75c8": {
      "model_module": "@jupyter-widgets/base",
      "model_module_version": "1.2.0",
      "model_name": "LayoutModel",
      "state": {}
     },
     "a262de6ddf9c4e2da72c1352abc52122": {
      "model_module": "@jupyter-widgets/controls",
      "model_module_version": "1.5.0",
      "model_name": "HBoxModel",
      "state": {
       "children": [
        "IPY_MODEL_9826bddc536b4151a68d4c8849fc58d8",
        "IPY_MODEL_3eadd1ef6be3435faca8c70a566cf967",
        "IPY_MODEL_2c1ef20396694fabb247c519f90b263c",
        "IPY_MODEL_0a5286c7d3cb452e8715c87c638f3099",
        "IPY_MODEL_25299b730a5f4bf99b6dafcff7da8a02",
        "IPY_MODEL_11d699a641d741eeb92150a8883d368a",
        "IPY_MODEL_95c466055188475a8c87b63f0c81e034"
       ],
       "layout": "IPY_MODEL_648f41d7d91c44d9a161f70d39f410fa"
      }
     },
     "a2874012960943458a2d187d5466744d": {
      "model_module": "@jupyter-widgets/controls",
      "model_module_version": "1.5.0",
      "model_name": "ButtonStyleModel",
      "state": {
       "font_weight": "bold"
      }
     },
     "a2ad3773594b4f48843bc6c6c16e3540": {
      "model_module": "@jupyter-widgets/base",
      "model_module_version": "1.2.0",
      "model_name": "LayoutModel",
      "state": {
       "height": "30px",
       "width": "auto"
      }
     },
     "a2b5ab305f9b406cbf20f074912f5641": {
      "model_module": "@jupyter-widgets/base",
      "model_module_version": "1.2.0",
      "model_name": "LayoutModel",
      "state": {}
     },
     "a2b873e0da8146189fb65193afd5aaa6": {
      "model_module": "@jupyter-widgets/base",
      "model_module_version": "1.2.0",
      "model_name": "LayoutModel",
      "state": {}
     },
     "a2e4677b7d774317ac70dc22baeda601": {
      "model_module": "@jupyter-widgets/base",
      "model_module_version": "1.2.0",
      "model_name": "LayoutModel",
      "state": {}
     },
     "a2f5c54cf666452ab8b67b5d16b3bc3c": {
      "model_module": "@jupyter-widgets/controls",
      "model_module_version": "1.5.0",
      "model_name": "ButtonStyleModel",
      "state": {
       "font_weight": "bold"
      }
     },
     "a2f901ef396e452c8bae4d4dbcceedb6": {
      "model_module": "@jupyter-widgets/controls",
      "model_module_version": "1.5.0",
      "model_name": "ButtonStyleModel",
      "state": {
       "font_weight": "bold"
      }
     },
     "a30147a0f42d474f9c3b972a5722af99": {
      "model_module": "@jupyter-widgets/base",
      "model_module_version": "1.2.0",
      "model_name": "LayoutModel",
      "state": {
       "align_items": "stretch",
       "width": "100%"
      }
     },
     "a310d0971fa84785ba94e94bd4fe08c2": {
      "model_module": "@jupyter-widgets/controls",
      "model_module_version": "1.5.0",
      "model_name": "ButtonModel",
      "state": {
       "button_style": "info",
       "description": "preview outputs",
       "layout": "IPY_MODEL_e0a1b17c615b430588ce560967abe84e",
       "style": "IPY_MODEL_d36e94fc46cc45a08b730fa418605dd9",
       "tooltip": "show a preview of the output files generated when the script runs"
      }
     },
     "a3194b48dd784df09e69a324ee87357c": {
      "model_module": "@jupyter-widgets/base",
      "model_module_version": "1.2.0",
      "model_name": "LayoutModel",
      "state": {
       "align_items": "stretch",
       "width": "100%"
      }
     },
     "a31c08aa31a444cdb8b549f2b34bc07f": {
      "model_module": "@jupyter-widgets/base",
      "model_module_version": "1.2.0",
      "model_name": "LayoutModel",
      "state": {}
     },
     "a336be64824a4a40a5a9df956861bbea": {
      "model_module": "@jupyter-widgets/controls",
      "model_module_version": "1.5.0",
      "model_name": "ButtonStyleModel",
      "state": {}
     },
     "a3b7899b555e49738aca6750c59c0f29": {
      "model_module": "@jupyter-widgets/controls",
      "model_module_version": "1.5.0",
      "model_name": "ButtonStyleModel",
      "state": {
       "font_weight": "bold"
      }
     },
     "a3d70868a2b64fd3a08b870ed5905d4e": {
      "model_module": "@jupyter-widgets/base",
      "model_module_version": "1.2.0",
      "model_name": "LayoutModel",
      "state": {
       "align_items": "stretch",
       "width": "100%"
      }
     },
     "a3e8732cb6074208aa470549e90bfe87": {
      "model_module": "@jupyter-widgets/base",
      "model_module_version": "1.2.0",
      "model_name": "LayoutModel",
      "state": {
       "width": "5%"
      }
     },
     "a3f076542f0348499050bb98a9521432": {
      "model_module": "@jupyter-widgets/base",
      "model_module_version": "1.2.0",
      "model_name": "LayoutModel",
      "state": {}
     },
     "a40843f5be6f4839940bba06c1142218": {
      "model_module": "@jupyter-widgets/base",
      "model_module_version": "1.2.0",
      "model_name": "LayoutModel",
      "state": {
       "height": "30px",
       "width": "auto"
      }
     },
     "a428377c1e1d43fdb96e6fade71fa092": {
      "model_module": "@jupyter-widgets/controls",
      "model_module_version": "1.5.0",
      "model_name": "AccordionModel",
      "state": {
       "_titles": {
        "0": "gbxml"
       },
       "children": [
        "IPY_MODEL_f7a3762462f24f479c2f221988df3483"
       ],
       "layout": "IPY_MODEL_b85f7eb95c71409481e14a3dbf0e5533",
       "selected_index": null
      }
     },
     "a440cc24cd1d4a9ea3e8ce67d84366c6": {
      "model_module": "@jupyter-widgets/controls",
      "model_module_version": "1.5.0",
      "model_name": "CheckboxModel",
      "state": {
       "disabled": false,
       "indent": false,
       "layout": "IPY_MODEL_14291799381b47848ce808a3ab1778df",
       "style": "IPY_MODEL_886a57f008ef42b29948b4608ebce2c7",
       "value": false
      }
     },
     "a44e4b1e2e6340398f7b5eea3ea99568": {
      "model_module": "@jupyter-widgets/base",
      "model_module_version": "1.2.0",
      "model_name": "LayoutModel",
      "state": {}
     },
     "a46498da331c47f88c4f1a9a2f8d0f5b": {
      "model_module": "@jupyter-widgets/controls",
      "model_module_version": "1.5.0",
      "model_name": "ButtonModel",
      "state": {
       "button_style": "warning",
       "description": "edit inputs",
       "layout": "IPY_MODEL_693f809e58b145df9739441003baf2fe",
       "style": "IPY_MODEL_6c31293a7fef41d18b944271aa6f091b",
       "tooltip": "edit the user input information that is used when the script is executed"
      }
     },
     "a477d6d5514f4c5b86a3cb4a1b13fc01": {
      "model_module": "@jupyter-widgets/controls",
      "model_module_version": "1.5.0",
      "model_name": "ButtonModel",
      "state": {
       "icon": "eye-slash",
       "layout": "IPY_MODEL_a6e73072e7684158b85e22d9df027567",
       "style": "IPY_MODEL_1847e4b6ced04a00be87c15c494c30db",
       "tooltip": "removes temporary output view"
      }
     },
     "a48c64b2baef4e688b39a75827981856": {
      "model_module": "@jupyter-widgets/base",
      "model_module_version": "1.2.0",
      "model_name": "LayoutModel",
      "state": {}
     },
     "a4c0b21c99d34eb1b54fe5c53c96eecb": {
      "model_module": "@jupyter-widgets/controls",
      "model_module_version": "1.5.0",
      "model_name": "ButtonModel",
      "state": {
       "button_style": "info",
       "description": "show log",
       "layout": "IPY_MODEL_1eb708dde1cd4ce09407fe0f9c6d5279",
       "style": "IPY_MODEL_406c466bd808403c89ff6bbe06c64b14",
       "tooltip": "show a log of when the script was executed to generate the outputs, and by who"
      }
     },
     "a4d29fe2aa894e56a762bdeed63c3de9": {
      "model_module": "@jupyter-widgets/base",
      "model_module_version": "1.2.0",
      "model_name": "LayoutModel",
      "state": {
       "align_items": "stretch",
       "width": "100%"
      }
     },
     "a4de04b9cc4c4ab0b584d240ed14cf3c": {
      "model_module": "@jupyter-widgets/base",
      "model_module_version": "1.2.0",
      "model_name": "LayoutModel",
      "state": {}
     },
     "a4fbb6fe7b644a46b41d9092c91a48f0": {
      "model_module": "@jupyter-widgets/controls",
      "model_module_version": "1.5.0",
      "model_name": "TextModel",
      "state": {
       "description": "script",
       "disabled": true,
       "layout": "IPY_MODEL_8e7f9aee8fe84a33b905075b2bfdc657",
       "style": "IPY_MODEL_edd623d31e204df6931a14bc3aedb28c",
       "value": "C:\\engDev\\git_mf\\MF_Toolbox\\dev\\mf_scripts\\gbxml.py"
      }
     },
     "a52c3a598f8e467b9ef9b2adf25960a2": {
      "model_module": "@jupyter-widgets/base",
      "model_module_version": "1.2.0",
      "model_name": "LayoutModel",
      "state": {
       "width": "100%"
      }
     },
     "a5429a9edde2451d8319bdd9ec3255ff": {
      "model_module": "@jupyter-widgets/base",
      "model_module_version": "1.2.0",
      "model_name": "LayoutModel",
      "state": {}
     },
     "a549b7ae999645bb9fcf4691ea2dfdec": {
      "model_module": "@jupyter-widgets/controls",
      "model_module_version": "1.5.0",
      "model_name": "ButtonStyleModel",
      "state": {
       "font_weight": "bold"
      }
     },
     "a565c3b46d184e04805fc4a5716a5f8a": {
      "model_module": "@jupyter-widgets/output",
      "model_module_version": "1.0.0",
      "model_name": "OutputModel",
      "state": {
       "layout": "IPY_MODEL_8711d2ddf1dc421db7752d394bae1783"
      }
     },
     "a5846aa66d26422bab40aaadbee1c69e": {
      "model_module": "@jupyter-widgets/controls",
      "model_module_version": "1.5.0",
      "model_name": "TextModel",
      "state": {
       "description": "script",
       "disabled": true,
       "layout": "IPY_MODEL_2d3fab9cb3a34d948b98d55819a4d47f",
       "style": "IPY_MODEL_57bfd3bf58a74bd68200821012cfa8e3",
       "value": "C:\\engDev\\git_mf\\MF_Toolbox\\dev\\mf_scripts\\eplus_pipework_params.py"
      }
     },
     "a58c7c1df5e545a2b825d81d824f20c2": {
      "model_module": "@jupyter-widgets/controls",
      "model_module_version": "1.5.0",
      "model_name": "ButtonStyleModel",
      "state": {}
     },
     "a5a0ccb694e148f89f18cc696d89e687": {
      "model_module": "@jupyter-widgets/base",
      "model_module_version": "1.2.0",
      "model_name": "LayoutModel",
      "state": {}
     },
     "a5be09434e1b469287b7a348518886ff": {
      "model_module": "@jupyter-widgets/controls",
      "model_module_version": "1.5.0",
      "model_name": "ButtonStyleModel",
      "state": {
       "font_weight": "bold"
      }
     },
     "a60ee40b65584a18923e20ba1c90fcdb": {
      "model_module": "@jupyter-widgets/controls",
      "model_module_version": "1.5.0",
      "model_name": "ButtonStyleModel",
      "state": {
       "font_weight": "bold"
      }
     },
     "a625f25dcfa84f4ab6a4d979d9d21f28": {
      "model_module": "@jupyter-widgets/base",
      "model_module_version": "1.2.0",
      "model_name": "LayoutModel",
      "state": {}
     },
     "a62fc42a0e0447bebd1d7ad3c7cd79ea": {
      "model_module": "@jupyter-widgets/base",
      "model_module_version": "1.2.0",
      "model_name": "LayoutModel",
      "state": {
       "width": "100%"
      }
     },
     "a63385f938db47739dcecad53248d510": {
      "model_module": "@jupyter-widgets/controls",
      "model_module_version": "1.5.0",
      "model_name": "TextModel",
      "state": {
       "description": "inputs",
       "disabled": true,
       "layout": "IPY_MODEL_e2c0136b78a447c08efb3bb51a25818b",
       "style": "IPY_MODEL_e5b53d85bdac4876a74e522091eb4f32",
       "value": "C:\\engDev\\git_mf\\ipyrun\\ipyrun\\appdata\\inputs\\inputs-docx_to_pdf.json"
      }
     },
     "a643edd0b242482f86f0a0bf3f10bceb": {
      "model_module": "@jupyter-widgets/controls",
      "model_module_version": "1.5.0",
      "model_name": "ButtonModel",
      "state": {
       "button_style": "info",
       "description": "preview outputs",
       "layout": "IPY_MODEL_0ca8f05320234fcc99afcf0a8dbd1d04",
       "style": "IPY_MODEL_fb84ccaea57140c09b1ead15bf2b96e2",
       "tooltip": "show a preview of the output files generated when the script runs"
      }
     },
     "a67849c49f314180b34bdf01cd9d9001": {
      "model_module": "@jupyter-widgets/controls",
      "model_module_version": "1.5.0",
      "model_name": "ButtonModel",
      "state": {
       "button_style": "info",
       "description": "preview outputs",
       "layout": "IPY_MODEL_5f9fec17a7cf450ba4d62946f7d6c8b5",
       "style": "IPY_MODEL_7c4b5b85ab974f3aac320377575b598f",
       "tooltip": "show a preview of the output files generated when the script runs"
      }
     },
     "a6a4989d038342f882c2ca61a9d1f1a0": {
      "model_module": "@jupyter-widgets/controls",
      "model_module_version": "1.5.0",
      "model_name": "ButtonModel",
      "state": {
       "button_style": "info",
       "description": "preview outputs",
       "layout": "IPY_MODEL_c2bf7c19273b4450b105734413d04b51",
       "style": "IPY_MODEL_49d36fe9baf94dea97d696ff4d7afbee",
       "tooltip": "show a preview of the output files generated when the script runs"
      }
     },
     "a6cac4d7f1ce4f0fbaafceec34f70118": {
      "model_module": "@jupyter-widgets/controls",
      "model_module_version": "1.5.0",
      "model_name": "HBoxModel",
      "state": {
       "children": [
        "IPY_MODEL_274ec5633d2d40c085341433b2d63068",
        "IPY_MODEL_315dc9a3610741c0979e39ac82d73184",
        "IPY_MODEL_11bb638afc43495e95d58824bff0b513",
        "IPY_MODEL_57301004402b444db11ad61ae48af209",
        "IPY_MODEL_643942310fa64609aaeebc0ba77b3c50",
        "IPY_MODEL_1ac6eeb78bd24875b91f50f355f399eb",
        "IPY_MODEL_af7fca0fbcc24b03a486763648bc39ec"
       ],
       "layout": "IPY_MODEL_1150d0ffc67849db91d6ddaaee52912f"
      }
     },
     "a6cbaf85e0b6464daa0d3b1dbb3bc33d": {
      "model_module": "@jupyter-widgets/controls",
      "model_module_version": "1.5.0",
      "model_name": "BoxModel",
      "state": {
       "children": [
        "IPY_MODEL_84bac27477fa4904b028ac8dfe426174"
       ],
       "layout": "IPY_MODEL_9232ceb677ee4f3ebd95aca570611668"
      }
     },
     "a6d2410e4add4a389c4fdc3dc2aa4edd": {
      "model_module": "@jupyter-widgets/base",
      "model_module_version": "1.2.0",
      "model_name": "LayoutModel",
      "state": {
       "height": "30px",
       "width": "auto"
      }
     },
     "a6d93b0e537c4d70b8b99e4355c7fd74": {
      "model_module": "@jupyter-widgets/controls",
      "model_module_version": "1.5.0",
      "model_name": "DescriptionStyleModel",
      "state": {
       "description_width": ""
      }
     },
     "a6da52b6507845c18b23c280a6a59e9d": {
      "model_module": "@jupyter-widgets/base",
      "model_module_version": "1.2.0",
      "model_name": "LayoutModel",
      "state": {
       "align_items": "stretch",
       "width": "100%"
      }
     },
     "a6e73072e7684158b85e22d9df027567": {
      "model_module": "@jupyter-widgets/base",
      "model_module_version": "1.2.0",
      "model_name": "LayoutModel",
      "state": {
       "width": "5%"
      }
     },
     "a6ea620c93e9445eb12c20d16b2c9781": {
      "model_module": "@jupyter-widgets/base",
      "model_module_version": "1.2.0",
      "model_name": "LayoutModel",
      "state": {}
     },
     "a7709999a0574e49a77f2afd8281d821": {
      "model_module": "@jupyter-widgets/controls",
      "model_module_version": "1.5.0",
      "model_name": "DescriptionStyleModel",
      "state": {
       "description_width": ""
      }
     },
     "a7735dcf26e742579840f250668d924d": {
      "model_module": "@jupyter-widgets/base",
      "model_module_version": "1.2.0",
      "model_name": "LayoutModel",
      "state": {
       "align_items": "stretch",
       "width": "100%"
      }
     },
     "a7839d5ce2644694a5e321aa7a6c3012": {
      "model_module": "@jupyter-widgets/controls",
      "model_module_version": "1.5.0",
      "model_name": "ButtonStyleModel",
      "state": {
       "font_weight": "bold"
      }
     },
     "a78b27fb85364356a7f00fe90f2476e7": {
      "model_module": "@jupyter-widgets/controls",
      "model_module_version": "1.5.0",
      "model_name": "DescriptionStyleModel",
      "state": {
       "description_width": ""
      }
     },
     "a7977d28c2bb4ddaaf95053687b92f2f": {
      "model_module": "@jupyter-widgets/controls",
      "model_module_version": "1.5.0",
      "model_name": "DescriptionStyleModel",
      "state": {
       "description_width": ""
      }
     },
     "a7a731608095468bb33db3eb11ef2936": {
      "model_module": "@jupyter-widgets/base",
      "model_module_version": "1.2.0",
      "model_name": "LayoutModel",
      "state": {}
     },
     "a7bfa447a39b45d3a22fc25f21d95629": {
      "model_module": "@jupyter-widgets/controls",
      "model_module_version": "1.5.0",
      "model_name": "VBoxModel",
      "state": {
       "children": [
        "IPY_MODEL_44076b16563c4f6e859d2d0e267c500e",
        "IPY_MODEL_2646147efe7e45ce8b6984f65cd65519",
        "IPY_MODEL_eb19925f2e964713b10d1061a985c2b6"
       ],
       "layout": "IPY_MODEL_c76266a399a74c8593155b319f63da35"
      }
     },
     "a7f87532dc6d4072a427812c56e49d95": {
      "model_module": "@jupyter-widgets/base",
      "model_module_version": "1.2.0",
      "model_name": "LayoutModel",
      "state": {}
     },
     "a811c7f29b424aa1a4db19f9cd149fb2": {
      "model_module": "@jupyter-widgets/base",
      "model_module_version": "1.2.0",
      "model_name": "LayoutModel",
      "state": {}
     },
     "a8201e6de92145c49ca0135da8b94871": {
      "model_module": "@jupyter-widgets/base",
      "model_module_version": "1.2.0",
      "model_name": "LayoutModel",
      "state": {
       "height": "30px",
       "max_width": "30px",
       "padding": "3px"
      }
     },
     "a832aa54a7034afcaa616d59cc29489e": {
      "model_module": "@jupyter-widgets/base",
      "model_module_version": "1.2.0",
      "model_name": "LayoutModel",
      "state": {}
     },
     "a8425681a49d4a88b6bafa76e13ef2c1": {
      "model_module": "@jupyter-widgets/base",
      "model_module_version": "1.2.0",
      "model_name": "LayoutModel",
      "state": {
       "width": "5%"
      }
     },
     "a84fdd39b8734b8fb2601738e2f65e56": {
      "model_module": "@jupyter-widgets/controls",
      "model_module_version": "1.5.0",
      "model_name": "VBoxModel",
      "state": {
       "children": [
        "IPY_MODEL_f7ffe9b135e04c58b75807f17171f3d7",
        "IPY_MODEL_2ebc523999ab4ed6a80290e80466b021",
        "IPY_MODEL_fd85d9d9563446bb8e93d44cd5dfa437"
       ],
       "layout": "IPY_MODEL_63bead32d86b44a6a1f79beb202d0cef"
      }
     },
     "a862453a587140a49aae25f2137e4244": {
      "model_module": "@jupyter-widgets/controls",
      "model_module_version": "1.5.0",
      "model_name": "VBoxModel",
      "state": {
       "children": [
        "IPY_MODEL_79935ecc0c294efa8c8f95ae62eb09f3",
        "IPY_MODEL_da8baefb9ac04e7cb1e0ea60c8e17e4a",
        "IPY_MODEL_f59797ac4dd047239fbb7bf825acdf75"
       ],
       "layout": "IPY_MODEL_fa19dda9674447edbfa84847b5ce5f04"
      }
     },
     "a873f35507244698b643046305622068": {
      "model_module": "@jupyter-widgets/controls",
      "model_module_version": "1.5.0",
      "model_name": "SelectMultipleModel",
      "state": {
       "_options_labels": [
        "C:\\engDev\\git_mf\\ipyrun\\data\\raw\\gbxml.xml",
        "C:\\engDev\\git_mf\\ipyrun\\data\\interim\\gbjson.json",
        "C:\\engDev\\git_mf\\ipyrun\\data\\processed\\gbxml_datagrab.xlsx",
        "C:\\engDev\\git_mf\\ipyrun\\data\\processed\\gbxml_spcs-treemap.png"
       ],
       "description": "outputs",
       "index": [],
       "layout": "IPY_MODEL_d94065fcae35407f8f81210fbafea728",
       "rows": 4,
       "style": "IPY_MODEL_3443555062c74bfa9cf39d81093ee017"
      }
     },
     "a893685f89ef4221a4a4568654fd010c": {
      "model_module": "@jupyter-widgets/controls",
      "model_module_version": "1.5.0",
      "model_name": "DescriptionStyleModel",
      "state": {
       "description_width": ""
      }
     },
     "a898c9b17c89427488b44e3204c92897": {
      "model_module": "@jupyter-widgets/base",
      "model_module_version": "1.2.0",
      "model_name": "LayoutModel",
      "state": {}
     },
     "a8b4900c96b64d55926c2876f3c7174d": {
      "model_module": "@jupyter-widgets/base",
      "model_module_version": "1.2.0",
      "model_name": "LayoutModel",
      "state": {}
     },
     "a8db09f6f318448b98b4485657121a98": {
      "model_module": "@jupyter-widgets/base",
      "model_module_version": "1.2.0",
      "model_name": "LayoutModel",
      "state": {}
     },
     "a8f7f892310c420eafb49e0039463c0b": {
      "model_module": "@jupyter-widgets/controls",
      "model_module_version": "1.5.0",
      "model_name": "DescriptionStyleModel",
      "state": {
       "description_width": ""
      }
     },
     "a8faa4e4ddc046e19c2108c7288e9fa4": {
      "model_module": "@jupyter-widgets/controls",
      "model_module_version": "1.5.0",
      "model_name": "ButtonModel",
      "state": {
       "button_style": "info",
       "description": "show source code",
       "layout": "IPY_MODEL_47814bd39ad14ecdb5233f8d229da183",
       "style": "IPY_MODEL_73c61a7554dd4996afbed1377f0a961b",
       "tooltip": "shows the raw python code in the preview window below"
      }
     },
     "a913afb1076b494a9732c92d9eb05540": {
      "model_module": "@jupyter-widgets/controls",
      "model_module_version": "1.5.0",
      "model_name": "DescriptionStyleModel",
      "state": {
       "description_width": ""
      }
     },
     "a97e9ba0029c43ccb97c341cbb5cf0a7": {
      "model_module": "@jupyter-widgets/controls",
      "model_module_version": "1.5.0",
      "model_name": "ButtonStyleModel",
      "state": {
       "font_weight": "bold"
      }
     },
     "a9ef1db473fc49a295a30e8417868811": {
      "model_module": "@jupyter-widgets/controls",
      "model_module_version": "1.5.0",
      "model_name": "ButtonStyleModel",
      "state": {
       "font_weight": "bold"
      }
     },
     "aa194bc76090431f819bcd559855aca8": {
      "model_module": "@jupyter-widgets/base",
      "model_module_version": "1.2.0",
      "model_name": "LayoutModel",
      "state": {
       "height": "30px",
       "width": "auto"
      }
     },
     "aa39dbae596a4125b8dd65a017d5f6c9": {
      "model_module": "@jupyter-widgets/controls",
      "model_module_version": "1.5.0",
      "model_name": "ButtonStyleModel",
      "state": {
       "font_weight": "bold"
      }
     },
     "aa4136432b4c4c83a0f2ecfae470a0dc": {
      "model_module": "@jupyter-widgets/base",
      "model_module_version": "1.2.0",
      "model_name": "LayoutModel",
      "state": {
       "height": "30px",
       "width": "auto"
      }
     },
     "aa4c44c31a1b4afc8673de85311dcdf7": {
      "model_module": "@jupyter-widgets/controls",
      "model_module_version": "1.5.0",
      "model_name": "DescriptionStyleModel",
      "state": {
       "description_width": ""
      }
     },
     "aa655dfa2bc244188531374421c58cd1": {
      "model_module": "@jupyter-widgets/controls",
      "model_module_version": "1.5.0",
      "model_name": "DescriptionStyleModel",
      "state": {
       "description_width": ""
      }
     },
     "aa6f26a3adc746d09431a2b59bcc4144": {
      "model_module": "@jupyter-widgets/base",
      "model_module_version": "1.2.0",
      "model_name": "LayoutModel",
      "state": {}
     },
     "aa78cbc0086e47f9bd76cc62a92492cc": {
      "model_module": "@jupyter-widgets/base",
      "model_module_version": "1.2.0",
      "model_name": "LayoutModel",
      "state": {}
     },
     "aa837b59f635409688db2995bd9ccdd5": {
      "model_module": "@jupyter-widgets/base",
      "model_module_version": "1.2.0",
      "model_name": "LayoutModel",
      "state": {}
     },
     "aa8a9d3685a84845956aeb325e140b0a": {
      "model_module": "@jupyter-widgets/controls",
      "model_module_version": "1.5.0",
      "model_name": "AccordionModel",
      "state": {
       "_titles": {
        "0": "docx_to_pdf"
       },
       "children": [
        "IPY_MODEL_f127a1083cd34a81b3406ab76a2f89c0"
       ],
       "layout": "IPY_MODEL_be53f11966ea4a79b4bdb3093d47ed6f",
       "selected_index": null
      }
     },
     "aab330d72af845c0b8f13df2924dacd7": {
      "model_module": "@jupyter-widgets/output",
      "model_module_version": "1.0.0",
      "model_name": "OutputModel",
      "state": {
       "layout": "IPY_MODEL_373ead7e6fee48829329d55d36ac1892"
      }
     },
     "aada493998d4472cb963e960d5e824b1": {
      "model_module": "@jupyter-widgets/base",
      "model_module_version": "1.2.0",
      "model_name": "LayoutModel",
      "state": {
       "align_items": "stretch",
       "width": "100%"
      }
     },
     "ab75ab136c674f1bbe383faacbb0ad47": {
      "model_module": "@jupyter-widgets/base",
      "model_module_version": "1.2.0",
      "model_name": "LayoutModel",
      "state": {
       "height": "30px",
       "width": "auto"
      }
     },
     "ab97f3e309bb49ae83a8a0e9e8dd8438": {
      "model_module": "@jupyter-widgets/base",
      "model_module_version": "1.2.0",
      "model_name": "LayoutModel",
      "state": {
       "border": "0px",
       "margin": "0px",
       "padding": "0px"
      }
     },
     "ab9d38bb7da348dba56074365d94de7c": {
      "model_module": "@jupyter-widgets/controls",
      "model_module_version": "1.5.0",
      "model_name": "DescriptionStyleModel",
      "state": {
       "description_width": ""
      }
     },
     "abc6bdc12dcc4fb7b3f560d949c94835": {
      "model_module": "@jupyter-widgets/controls",
      "model_module_version": "1.5.0",
      "model_name": "ButtonStyleModel",
      "state": {
       "font_weight": "bold"
      }
     },
     "abf8d65f11e84c07b9ea461966c75510": {
      "model_module": "@jupyter-widgets/controls",
      "model_module_version": "1.5.0",
      "model_name": "SelectMultipleModel",
      "state": {
       "_options_labels": [
        "C:\\engDev\\git_mf\\ipyrun\\data\\external\\eplus_pipework_params.csv"
       ],
       "description": "outputs",
       "index": [],
       "layout": "IPY_MODEL_9c3ccbb7dec342048fdd9b4d6ca9219c",
       "rows": 4,
       "style": "IPY_MODEL_ec22b05c822a4dc4b788d4a882f6c36d"
      }
     },
     "abff9b576e7642a2a9e9078bc6949357": {
      "model_module": "@jupyter-widgets/controls",
      "model_module_version": "1.5.0",
      "model_name": "CheckboxModel",
      "state": {
       "disabled": false,
       "indent": false,
       "layout": "IPY_MODEL_d09d17b585064269abf66fc822e671a3",
       "style": "IPY_MODEL_c9ebd6f9e9054464a4f1ee1a488b6388",
       "value": false
      }
     },
     "ac1e814aa9c043ee956abcc94cfc5347": {
      "model_module": "@jupyter-widgets/base",
      "model_module_version": "1.2.0",
      "model_name": "LayoutModel",
      "state": {}
     },
     "ac3909b8334c43abaab9119ac9a2ee5b": {
      "model_module": "@jupyter-widgets/controls",
      "model_module_version": "1.5.0",
      "model_name": "DescriptionStyleModel",
      "state": {
       "description_width": ""
      }
     },
     "ac85817970294780ae2f6de0e06bd277": {
      "model_module": "@jupyter-widgets/base",
      "model_module_version": "1.2.0",
      "model_name": "LayoutModel",
      "state": {
       "width": "100%"
      }
     },
     "acbfbc4f277248af9b4465566248bacc": {
      "model_module": "@jupyter-widgets/controls",
      "model_module_version": "1.5.0",
      "model_name": "ButtonModel",
      "state": {
       "button_style": "info",
       "description": "show guide",
       "layout": "IPY_MODEL_e5a1436d56884a60ab10800824c98cb9",
       "style": "IPY_MODEL_00e4d347224f489886ecb62ad05b1396",
       "tooltip": "read the \"docstring\", ie. the documentation that was written to accompany the script"
      }
     },
     "acc47016f0504204967f5229c9a42151": {
      "model_module": "@jupyter-widgets/base",
      "model_module_version": "1.2.0",
      "model_name": "LayoutModel",
      "state": {}
     },
     "acd6927b222d4f8bb03d4e839d317293": {
      "model_module": "@jupyter-widgets/controls",
      "model_module_version": "1.5.0",
      "model_name": "VBoxModel",
      "state": {
       "children": [
        "IPY_MODEL_d246f72f353a4efea1086e9a24e1cd9c",
        "IPY_MODEL_0a4b25d3f7b341e8a84f2111f21fb83e",
        "IPY_MODEL_f2f2d6f0fc95465ea4fb49ed86b26aa0"
       ],
       "layout": "IPY_MODEL_cbf705dc5ba84d61a7df352ce7d181d0"
      }
     },
     "ace5efa13cfa402193c2a78f43fbf5c0": {
      "model_module": "@jupyter-widgets/controls",
      "model_module_version": "1.5.0",
      "model_name": "VBoxModel",
      "state": {
       "children": [
        "IPY_MODEL_7b3ee2f7c28b459c91fa3ba8544ebb89",
        "IPY_MODEL_0e2a1dfbd7a44c54ae92bc2396029806"
       ],
       "layout": "IPY_MODEL_54e917f801d14326aa9272d0eb6e56d1"
      }
     },
     "acf6d5511954400cbaacdbeb169f9be4": {
      "model_module": "@jupyter-widgets/controls",
      "model_module_version": "1.5.0",
      "model_name": "ButtonStyleModel",
      "state": {
       "font_weight": "bold"
      }
     },
     "acfe410e6646449489c01628c8c4ea9f": {
      "model_module": "@jupyter-widgets/base",
      "model_module_version": "1.2.0",
      "model_name": "LayoutModel",
      "state": {
       "align_items": "stretch",
       "width": "100%"
      }
     },
     "ad066e16de8c457ea86605ee53be819c": {
      "model_module": "@jupyter-widgets/controls",
      "model_module_version": "1.5.0",
      "model_name": "ButtonModel",
      "state": {
       "button_style": "success",
       "description": "run",
       "layout": "IPY_MODEL_32d81729a0bf45efa6109c795f96317f",
       "style": "IPY_MODEL_94ac0f1af72344c68e978915488b03b3",
       "tooltip": "execute the script based on the user inputs"
      }
     },
     "ad08f6faec01404b907fb78d17d023ea": {
      "model_module": "@jupyter-widgets/base",
      "model_module_version": "1.2.0",
      "model_name": "LayoutModel",
      "state": {
       "width": "5%"
      }
     },
     "ad2581fd08cd4f4c822f4c08b02a38a8": {
      "model_module": "@jupyter-widgets/controls",
      "model_module_version": "1.5.0",
      "model_name": "ButtonModel",
      "state": {
       "button_style": "info",
       "description": "show source code",
       "layout": "IPY_MODEL_86edbb89001b4ec8a53e41fec05626e8",
       "style": "IPY_MODEL_4334e0730d704129a05143905ff187fc",
       "tooltip": "shows the raw python code in the preview window below"
      }
     },
     "ad303d73b1cb4514bc91c2735ba7c2d3": {
      "model_module": "@jupyter-widgets/controls",
      "model_module_version": "1.5.0",
      "model_name": "DescriptionStyleModel",
      "state": {
       "description_width": ""
      }
     },
     "ad3d32f9479c4aaf938a219596ff726e": {
      "model_module": "@jupyter-widgets/controls",
      "model_module_version": "1.5.0",
      "model_name": "VBoxModel",
      "state": {
       "children": [
        "IPY_MODEL_6133e7aef9864cc6962bde4e856869d5",
        "IPY_MODEL_0c17fe5a91f7457da33ef4a98feaf3cb"
       ],
       "layout": "IPY_MODEL_b978754a4d76435199e2ffe631b5d3f6"
      }
     },
     "ad58636b43144081b8436356f0c4e14b": {
      "model_module": "@jupyter-widgets/base",
      "model_module_version": "1.2.0",
      "model_name": "LayoutModel",
      "state": {
       "width": "5%"
      }
     },
     "ad6e67137a6249669245db1325affb10": {
      "model_module": "@jupyter-widgets/controls",
      "model_module_version": "1.5.0",
      "model_name": "TextModel",
      "state": {
       "description": "script",
       "disabled": true,
       "layout": "IPY_MODEL_45d9631befc3473da1aa720d5d512ee7",
       "style": "IPY_MODEL_bfc5e1329f134d6e9e3ed6e109b996c9",
       "value": "C:\\engDev\\git_mf\\MF_Toolbox\\dev\\mf_scripts\\eplus_pipework_params.py"
      }
     },
     "ad813262f9aa4585b1e5df56bd3551eb": {
      "model_module": "@jupyter-widgets/controls",
      "model_module_version": "1.5.0",
      "model_name": "TextModel",
      "state": {
       "description": "inputs",
       "disabled": true,
       "layout": "IPY_MODEL_cd8d29edc1c946438e1d54de30fdd798",
       "style": "IPY_MODEL_f4943a710166487498c10a19978c24f1",
       "value": "C:\\engDev\\git_mf\\ipyrun\\ipyrun\\notebooks\\appdata\\inputs\\inputs-eplus_pipework_params.csv"
      }
     },
     "ad8eefdc1ec344af91673bcd881cfb3c": {
      "model_module": "@jupyter-widgets/controls",
      "model_module_version": "1.5.0",
      "model_name": "DescriptionStyleModel",
      "state": {
       "description_width": ""
      }
     },
     "ad9f5f098cae48959b36a98312fc299c": {
      "model_module": "@jupyter-widgets/controls",
      "model_module_version": "1.5.0",
      "model_name": "TextModel",
      "state": {
       "description": "inputs",
       "disabled": true,
       "layout": "IPY_MODEL_ec22ae06ebec44ea8bf7f3a05a8ed016",
       "style": "IPY_MODEL_02d17c15ae184e1aba65e1d645e82223",
       "value": "C:\\engDev\\git_mf\\ipyrun\\ipyrun\\appdata\\inputs\\inputs-eplus_pipework_params.csv"
      }
     },
     "adaac80b40414bafa59659ec15519bad": {
      "model_module": "@jupyter-widgets/controls",
      "model_module_version": "1.5.0",
      "model_name": "ButtonModel",
      "state": {
       "icon": "eye-slash",
       "layout": "IPY_MODEL_0e7b097d0d114d86a9aadfa3ef4095ed",
       "style": "IPY_MODEL_2af128b245284c118a215e592a9d80d5",
       "tooltip": "removes temporary output view"
      }
     },
     "adb659df586645388cb18045c49c6aac": {
      "model_module": "@jupyter-widgets/base",
      "model_module_version": "1.2.0",
      "model_name": "LayoutModel",
      "state": {
       "height": "30px",
       "width": "auto"
      }
     },
     "adc84ca32f4e4fc6991a1c817afc574e": {
      "model_module": "@jupyter-widgets/controls",
      "model_module_version": "1.5.0",
      "model_name": "VBoxModel",
      "state": {
       "children": [
        "IPY_MODEL_4a43e5fead3f432686b6abedf4436032",
        "IPY_MODEL_39eb4ebfa54444678e74b70109190456"
       ],
       "layout": "IPY_MODEL_e189d350a85b410e9bcf292a59fa7236"
      }
     },
     "adf4e57ea1db4dea90a7bbd0b3b4e43a": {
      "model_module": "@jupyter-widgets/base",
      "model_module_version": "1.2.0",
      "model_name": "LayoutModel",
      "state": {
       "width": "100%"
      }
     },
     "ae07867a51fa43638f96463b2f4ac22d": {
      "model_module": "@jupyter-widgets/base",
      "model_module_version": "1.2.0",
      "model_name": "LayoutModel",
      "state": {
       "width": "5%"
      }
     },
     "ae1608da41f64b85b5c8557b5b4480b1": {
      "model_module": "@jupyter-widgets/controls",
      "model_module_version": "1.5.0",
      "model_name": "HBoxModel",
      "state": {
       "children": [
        "IPY_MODEL_bd692a05e674441e90d594332aa18cc4",
        "IPY_MODEL_b301a0b66ba6495e8087bf56fac3df96",
        "IPY_MODEL_20a4faf952eb47a7afd8c37fa21a8f9e",
        "IPY_MODEL_f29faab03a394d1f91bb94b9e6420400",
        "IPY_MODEL_ff8f2b90556f49e6aadbf8521068a1fd",
        "IPY_MODEL_d6492d1c03b14c3799de6ad243260aa8",
        "IPY_MODEL_664833f26e9e43fa917cdfb5041bca46"
       ],
       "layout": "IPY_MODEL_dd33f7d138834a89933a301e22aa0e20"
      }
     },
     "ae1a4aae28a949248ca766f7dbcaa789": {
      "model_module": "@jupyter-widgets/base",
      "model_module_version": "1.2.0",
      "model_name": "LayoutModel",
      "state": {
       "height": "30px",
       "max_width": "30px",
       "padding": "3px"
      }
     },
     "ae2eaffe1e124198a850ab541d400d42": {
      "model_module": "@jupyter-widgets/controls",
      "model_module_version": "1.5.0",
      "model_name": "ButtonStyleModel",
      "state": {
       "font_weight": "bold"
      }
     },
     "ae3a652ec6264f1ab4fde37b3d4a6b4b": {
      "model_module": "@jupyter-widgets/controls",
      "model_module_version": "1.5.0",
      "model_name": "VBoxModel",
      "state": {
       "children": [
        "IPY_MODEL_3fa21b431e394e73b7b42915c1fbb42f",
        "IPY_MODEL_9dfc36b4fcce4ed1a37392c297055528",
        "IPY_MODEL_bbc4a1f27c2f4986ad10f8f3d945dbec"
       ],
       "layout": "IPY_MODEL_180fc9bc60f24a839c38aea36ce8add8"
      }
     },
     "ae3a79fa45834458a4f2d55cee2cf426": {
      "model_module": "@jupyter-widgets/base",
      "model_module_version": "1.2.0",
      "model_name": "LayoutModel",
      "state": {}
     },
     "ae3fb7d6beaf41f483f590fe8c036812": {
      "model_module": "@jupyter-widgets/controls",
      "model_module_version": "1.5.0",
      "model_name": "ButtonModel",
      "state": {
       "button_style": "info",
       "description": "show source code",
       "layout": "IPY_MODEL_0158c32468d1487f8522fd304a31732e",
       "style": "IPY_MODEL_3e4fcac255f542278eb3bee7a74ad6eb",
       "tooltip": "shows the raw python code in the preview window below"
      }
     },
     "ae40f1ba003c449783b83ad0e25e32a5": {
      "model_module": "@jupyter-widgets/controls",
      "model_module_version": "1.5.0",
      "model_name": "SelectMultipleModel",
      "state": {
       "_options_labels": [
        "C:\\engDev\\git_mf\\ipyrun\\reports\\JupyterReportDemo.pdf"
       ],
       "description": "outputs",
       "index": [],
       "layout": "IPY_MODEL_9be802f2ad8b43f18fadc79138b39874",
       "rows": 4,
       "style": "IPY_MODEL_cab605b807db4df88dbfb8a548a035d6"
      }
     },
     "ae5d599cae0947bda4ee50c2e3daf204": {
      "model_module": "@jupyter-widgets/base",
      "model_module_version": "1.2.0",
      "model_name": "LayoutModel",
      "state": {
       "align_items": "stretch",
       "width": "100%"
      }
     },
     "ae5e8cf5472b49fab42569742fc8c2b7": {
      "model_module": "@jupyter-widgets/controls",
      "model_module_version": "1.5.0",
      "model_name": "VBoxModel",
      "state": {
       "children": [
        "IPY_MODEL_7e1cd08fcdba4791ae28cbe43f7cd114",
        "IPY_MODEL_c0d6260fad8e441d9b16aae38d825fbd"
       ],
       "layout": "IPY_MODEL_06290cc399594ab5bb31c571ebe82dcf"
      }
     },
     "ae5f1625a8c94c3eb70220c34d593d47": {
      "model_module": "@jupyter-widgets/controls",
      "model_module_version": "1.5.0",
      "model_name": "DescriptionStyleModel",
      "state": {
       "description_width": ""
      }
     },
     "ae68c44ee378485284ad342dbe8f4fa3": {
      "model_module": "@jupyter-widgets/controls",
      "model_module_version": "1.5.0",
      "model_name": "DescriptionStyleModel",
      "state": {
       "description_width": ""
      }
     },
     "ae6bfcaeebcb4c60988f44d18136dbb8": {
      "model_module": "@jupyter-widgets/base",
      "model_module_version": "1.2.0",
      "model_name": "LayoutModel",
      "state": {}
     },
     "ae89e0ce5db345ef9bdfeb2b0c5f971f": {
      "model_module": "@jupyter-widgets/base",
      "model_module_version": "1.2.0",
      "model_name": "LayoutModel",
      "state": {
       "width": "5%"
      }
     },
     "aeec5c7d62914facbe01f28523bb303a": {
      "model_module": "@jupyter-widgets/base",
      "model_module_version": "1.2.0",
      "model_name": "LayoutModel",
      "state": {
       "height": "30px",
       "width": "auto"
      }
     },
     "af031eaf20074b409ab2d39e83a56463": {
      "model_module": "@jupyter-widgets/controls",
      "model_module_version": "1.5.0",
      "model_name": "HBoxModel",
      "state": {
       "children": [
        "IPY_MODEL_838179a6667a46fbaead7a68aedadf29",
        "IPY_MODEL_ba47579316da4ad3a494a258fd1ca4cd"
       ],
       "layout": "IPY_MODEL_306e81d7cf3641d385b337ce141ea6c0"
      }
     },
     "af043e3ace384e9ab57dd98a8ad035cd": {
      "model_module": "@jupyter-widgets/base",
      "model_module_version": "1.2.0",
      "model_name": "LayoutModel",
      "state": {}
     },
     "af0afbe851434b5683dd72ad5620fcaf": {
      "model_module": "@jupyter-widgets/base",
      "model_module_version": "1.2.0",
      "model_name": "LayoutModel",
      "state": {}
     },
     "af23504d29c44cd0a84d564549f064dd": {
      "model_module": "@jupyter-widgets/controls",
      "model_module_version": "1.5.0",
      "model_name": "ButtonStyleModel",
      "state": {
       "font_weight": "bold"
      }
     },
     "af31b02d0051455580c6d3dbc0c18805": {
      "model_module": "@jupyter-widgets/base",
      "model_module_version": "1.2.0",
      "model_name": "LayoutModel",
      "state": {}
     },
     "af6d0bbdee814050b1ed7b70e8e7bdc3": {
      "model_module": "@jupyter-widgets/base",
      "model_module_version": "1.2.0",
      "model_name": "LayoutModel",
      "state": {
       "height": "30px",
       "width": "auto"
      }
     },
     "af7fca0fbcc24b03a486763648bc39ec": {
      "model_module": "@jupyter-widgets/controls",
      "model_module_version": "1.5.0",
      "model_name": "ButtonModel",
      "state": {
       "button_style": "info",
       "description": "show log",
       "layout": "IPY_MODEL_9c8c683003574f75a860be6e0c5c7d69",
       "style": "IPY_MODEL_82c6fca506244ea5bbef47cb2d8e4f47",
       "tooltip": "show a log of when the script was executed to generate the outputs, and by who"
      }
     },
     "af80f6f5e28c4dac813b83d37b0a1704": {
      "model_module": "@jupyter-widgets/controls",
      "model_module_version": "1.5.0",
      "model_name": "DescriptionStyleModel",
      "state": {
       "description_width": ""
      }
     },
     "afa9658da2bf4d55a168ccf6bf2c9bd8": {
      "model_module": "@jupyter-widgets/controls",
      "model_module_version": "1.5.0",
      "model_name": "ButtonStyleModel",
      "state": {
       "font_weight": "bold"
      }
     },
     "afca92eaae7e43a18951429faebdba47": {
      "model_module": "@jupyter-widgets/controls",
      "model_module_version": "1.5.0",
      "model_name": "ButtonStyleModel",
      "state": {}
     },
     "afd00afb18214a24be2dceda1a45eeec": {
      "model_module": "@jupyter-widgets/controls",
      "model_module_version": "1.5.0",
      "model_name": "ButtonStyleModel",
      "state": {
       "font_weight": "bold"
      }
     },
     "afd9773810a34c2a8c40d65d015b5c6b": {
      "model_module": "@jupyter-widgets/controls",
      "model_module_version": "1.5.0",
      "model_name": "ButtonStyleModel",
      "state": {
       "font_weight": "bold"
      }
     },
     "aff28768ecc64214ad0d6f443db36a36": {
      "model_module": "@jupyter-widgets/controls",
      "model_module_version": "1.5.0",
      "model_name": "ButtonModel",
      "state": {
       "button_style": "success",
       "description": "run batch",
       "layout": "IPY_MODEL_af31b02d0051455580c6d3dbc0c18805",
       "style": "IPY_MODEL_afa9658da2bf4d55a168ccf6bf2c9bd8",
       "tooltip": "execute checked processes below"
      }
     },
     "aff35fff85484ddc93aa2ac2218030c7": {
      "model_module": "@jupyter-widgets/controls",
      "model_module_version": "1.5.0",
      "model_name": "VBoxModel",
      "state": {
       "children": [
        "IPY_MODEL_e6dd7b07d6d14c82ba607921601c25a5",
        "IPY_MODEL_125b7909b59e4960a1b2d1214f929205"
       ],
       "layout": "IPY_MODEL_6968683505f74a4f8774bc5b6867f973"
      }
     },
     "b00d5c660ba0419098525e6c6a95d53b": {
      "model_module": "@jupyter-widgets/controls",
      "model_module_version": "1.5.0",
      "model_name": "ButtonModel",
      "state": {
       "button_style": "success",
       "description": "run",
       "layout": "IPY_MODEL_ae6bfcaeebcb4c60988f44d18136dbb8",
       "style": "IPY_MODEL_eba070c4fbfc42009b5d74a2918d3b4d",
       "tooltip": "execute the script based on the user inputs"
      }
     },
     "b046945e75684bbfa4f076ba7d9bcbba": {
      "model_module": "@jupyter-widgets/controls",
      "model_module_version": "1.5.0",
      "model_name": "ButtonModel",
      "state": {
       "button_style": "warning",
       "description": "edit inputs",
       "layout": "IPY_MODEL_6b823b138e3e44cfb3f93259124ba6c9",
       "style": "IPY_MODEL_e9d46242d5ec4b0aad5d9e825b6b3378",
       "tooltip": "edit the user input information that is used when the script is executed"
      }
     },
     "b05611575fae4f2b97a450f6ff6d80bd": {
      "model_module": "@jupyter-widgets/controls",
      "model_module_version": "1.5.0",
      "model_name": "HBoxModel",
      "state": {
       "children": [
        "IPY_MODEL_6d90a10947414c9f8e6719a640f4040c",
        "IPY_MODEL_cddbf495f4054c6693c3df6c6339fcfa",
        "IPY_MODEL_e7bc89c206b647a8a28502f24e60d9d8",
        "IPY_MODEL_0c34ea83697a4e899c7ab03dc89baf10",
        "IPY_MODEL_3cf8c9e0a8304ecdb18859e0876cb17f",
        "IPY_MODEL_de4e890673af498d93c7e0fbb65bf023",
        "IPY_MODEL_5ffae43295b84aba858737c8bc27bbe1"
       ],
       "layout": "IPY_MODEL_4a8a0f360c7442c1aa38f74889ab540f"
      }
     },
     "b0943112f46642d9a95cee9a432c88e8": {
      "model_module": "@jupyter-widgets/controls",
      "model_module_version": "1.5.0",
      "model_name": "ButtonModel",
      "state": {
       "icon": "eye-slash",
       "layout": "IPY_MODEL_2586ff5fb97b45fe9335f4b34371b03a",
       "style": "IPY_MODEL_0286e66cae5c4467813625bb4f233f5c",
       "tooltip": "removes temporary output view"
      }
     },
     "b09ab7009706470ca7b801fefebe5cba": {
      "model_module": "@jupyter-widgets/controls",
      "model_module_version": "1.5.0",
      "model_name": "ButtonModel",
      "state": {
       "icon": "question-circle",
       "layout": "IPY_MODEL_b41efda7350c4ecaa09a0ebfa9354715",
       "style": "IPY_MODEL_449c76fe99424c8fb5516b4099add6f3",
       "tooltip": "describes the functionality of elements in the RunApp interface"
      }
     },
     "b0bf1a287d93461c819f9ddde82f2e2a": {
      "model_module": "@jupyter-widgets/base",
      "model_module_version": "1.2.0",
      "model_name": "LayoutModel",
      "state": {
       "height": "30px",
       "width": "auto"
      }
     },
     "b0cac2a7b42b44bf93c8cfb55da31d27": {
      "model_module": "@jupyter-widgets/controls",
      "model_module_version": "1.5.0",
      "model_name": "BoxModel",
      "state": {
       "children": [
        "IPY_MODEL_2bf4ec6120f849088ab022dff2822804"
       ],
       "layout": "IPY_MODEL_3932482dfd0f4a589ec58f6ad9006abc"
      }
     },
     "b0cc94747afd4d86b1c5189d121de1d1": {
      "model_module": "@jupyter-widgets/controls",
      "model_module_version": "1.5.0",
      "model_name": "TextModel",
      "state": {
       "description": "inputs",
       "disabled": true,
       "layout": "IPY_MODEL_5b909f32875d475d8c40f3b8185a8d27",
       "style": "IPY_MODEL_429a366d2560444db6c6caf38f4b4b2e",
       "value": "C:\\engDev\\git_mf\\ipyrun\\ipyrun\\notebooks\\appdata\\inputs\\inputs-eplus_pipework_params.csv"
      }
     },
     "b103ae2fea504d899c3e53873e2410f5": {
      "model_module": "@jupyter-widgets/controls",
      "model_module_version": "1.5.0",
      "model_name": "ButtonModel",
      "state": {
       "button_style": "warning",
       "description": "edit inputs",
       "layout": "IPY_MODEL_5bf8f7ad30af4c92b3c1323bfb64c7df",
       "style": "IPY_MODEL_f9c949a1ead04bd383a72caa3b501e31",
       "tooltip": "edit the user input information that is used when the script is executed"
      }
     },
     "b13b646062874585885bb9b8e8bcfe39": {
      "model_module": "@jupyter-widgets/controls",
      "model_module_version": "1.5.0",
      "model_name": "AccordionModel",
      "state": {
       "_titles": {
        "0": "eplus_pipework_params"
       },
       "children": [
        "IPY_MODEL_ffc8a52a7d9b4ed9930f3009a9d8c4d6"
       ],
       "layout": "IPY_MODEL_50d59359b8f248728ef911ffc47786c8",
       "selected_index": null
      }
     },
     "b16f0446c2e642dc8c4658d6c6e4990f": {
      "model_module": "@jupyter-widgets/controls",
      "model_module_version": "1.5.0",
      "model_name": "TextModel",
      "state": {
       "description": "inputs",
       "disabled": true,
       "layout": "IPY_MODEL_2a15d57a17094a3bb12fbad0d3a51f7e",
       "style": "IPY_MODEL_ae68c44ee378485284ad342dbe8f4fa3",
       "value": "C:\\engDev\\git_mf\\ipyrun\\ipyrun\\notebooks\\appdata\\inputs\\inputs-eplus_pipework_params.csv"
      }
     },
     "b175a5107bdf4b449184964715ed4ad3": {
      "model_module": "@jupyter-widgets/controls",
      "model_module_version": "1.5.0",
      "model_name": "ButtonModel",
      "state": {
       "icon": "question-circle",
       "layout": "IPY_MODEL_f79100a0b5e14e5f80a34e3cc33c212f",
       "style": "IPY_MODEL_3b883c14dd634924a56daa442996b90c",
       "tooltip": "describes the functionality of elements in the RunApp interface"
      }
     },
     "b1779b53e3ed49c288ebfadc1a3228db": {
      "model_module": "@jupyter-widgets/controls",
      "model_module_version": "1.5.0",
      "model_name": "DescriptionStyleModel",
      "state": {
       "description_width": ""
      }
     },
     "b189524b0f23423fae7846e403b2f489": {
      "model_module": "@jupyter-widgets/base",
      "model_module_version": "1.2.0",
      "model_name": "LayoutModel",
      "state": {
       "border": "0px",
       "margin": "0px",
       "padding": "0px"
      }
     },
     "b18de4da5f954d7eb305691953cae474": {
      "model_module": "@jupyter-widgets/controls",
      "model_module_version": "1.5.0",
      "model_name": "BoxModel",
      "state": {
       "children": [
        "IPY_MODEL_94620f95f738497398153087f8378abb"
       ],
       "layout": "IPY_MODEL_50a8e45059da457488192b0af4c46514"
      }
     },
     "b1ac16baeeb94049aed7d6e0f3c7c1b4": {
      "model_module": "@jupyter-widgets/base",
      "model_module_version": "1.2.0",
      "model_name": "LayoutModel",
      "state": {
       "align_items": "stretch",
       "width": "100%"
      }
     },
     "b1efd0289a2c4d27964653c13a15bf1c": {
      "model_module": "@jupyter-widgets/controls",
      "model_module_version": "1.5.0",
      "model_name": "ButtonStyleModel",
      "state": {
       "font_weight": "bold"
      }
     },
     "b2057f5e9d244f04883229636805bc30": {
      "model_module": "@jupyter-widgets/controls",
      "model_module_version": "1.5.0",
      "model_name": "ButtonModel",
      "state": {
       "icon": "question-circle",
       "layout": "IPY_MODEL_6f684025279e4241b3fa457f3ac48ff2",
       "style": "IPY_MODEL_dc40297b20d84fa7b0a7817581bb132f",
       "tooltip": "describes the functionality of elements in the RunApp interface"
      }
     },
     "b2289c776e7341528f6d4f783dc7f896": {
      "model_module": "@jupyter-widgets/controls",
      "model_module_version": "1.5.0",
      "model_name": "ButtonStyleModel",
      "state": {
       "font_weight": "bold"
      }
     },
     "b235e10377634d27ae6b07dad48269ed": {
      "model_module": "@jupyter-widgets/controls",
      "model_module_version": "1.5.0",
      "model_name": "DescriptionStyleModel",
      "state": {
       "description_width": ""
      }
     },
     "b251d7744603497690bfd756af1edc71": {
      "model_module": "@jupyter-widgets/controls",
      "model_module_version": "1.5.0",
      "model_name": "ButtonModel",
      "state": {
       "button_style": "info",
       "description": "show log",
       "layout": "IPY_MODEL_1b42c01bad5c459dbbc167f2af8a7157",
       "style": "IPY_MODEL_a5be09434e1b469287b7a348518886ff",
       "tooltip": "show a log of when the script was executed to generate the outputs, and by who"
      }
     },
     "b2536a1fd903410f84e00c5adf1d81b2": {
      "model_module": "@jupyter-widgets/controls",
      "model_module_version": "1.5.0",
      "model_name": "ButtonModel",
      "state": {
       "icon": "question-circle",
       "layout": "IPY_MODEL_058f5d24d57e4c4585644406f5a28f85",
       "style": "IPY_MODEL_76e22f30c5a84f4f9a3ce278dad7916e",
       "tooltip": "describes the functionality of elements in the RunApp interface"
      }
     },
     "b267e3fc8fff46faad429f7d6731fc4f": {
      "model_module": "@jupyter-widgets/controls",
      "model_module_version": "1.5.0",
      "model_name": "ButtonModel",
      "state": {
       "button_style": "info",
       "description": "show log",
       "layout": "IPY_MODEL_e51ce384974149a69f24b69471e1ff9c",
       "style": "IPY_MODEL_1db4f47270f14c8389aa78cce6eaaba0",
       "tooltip": "show a log of when the script was executed to generate the outputs, and by who"
      }
     },
     "b285bb9ef3d7492b9d5e688587070275": {
      "model_module": "@jupyter-widgets/controls",
      "model_module_version": "1.5.0",
      "model_name": "TextModel",
      "state": {
       "description": "script",
       "disabled": true,
       "layout": "IPY_MODEL_35d024d33dfe4c9ba3e400de08d0c9de",
       "style": "IPY_MODEL_d020988016104a7ab39bce94aa941396",
       "value": "C:\\engDev\\git_mf\\MF_Toolbox\\dev\\mf_scripts\\gbxml.py"
      }
     },
     "b2edcbeb1b4442c28533ac7102032338": {
      "model_module": "@jupyter-widgets/base",
      "model_module_version": "1.2.0",
      "model_name": "LayoutModel",
      "state": {}
     },
     "b301a0b66ba6495e8087bf56fac3df96": {
      "model_module": "@jupyter-widgets/controls",
      "model_module_version": "1.5.0",
      "model_name": "ButtonModel",
      "state": {
       "icon": "question-circle",
       "layout": "IPY_MODEL_066ddbd2fd0f4dec89f8c703dd93db2f",
       "style": "IPY_MODEL_750d8454df504ea2b1202af0f0d29237",
       "tooltip": "describes the functionality of elements in the RunApp interface"
      }
     },
     "b30cc995743e4a8c84002769cd490ae7": {
      "model_module": "@jupyter-widgets/controls",
      "model_module_version": "1.5.0",
      "model_name": "ButtonModel",
      "state": {
       "icon": "question-circle",
       "layout": "IPY_MODEL_2bc14936d4e843fc894fc6c90b627935",
       "style": "IPY_MODEL_6d341c2be71c47a3b79f637da7fb9680",
       "tooltip": "describes the functionality of elements in the RunApp interface"
      }
     },
     "b3107e6f242c4366835ec17923cc54ca": {
      "model_module": "@jupyter-widgets/controls",
      "model_module_version": "1.5.0",
      "model_name": "ButtonModel",
      "state": {
       "button_style": "success",
       "description": "run",
       "layout": "IPY_MODEL_c8b364dbcf804461aaf2d4430ce25b10",
       "style": "IPY_MODEL_c2e93282e6a24c1f88155ccec2adc6b7",
       "tooltip": "execute the script based on the user inputs"
      }
     },
     "b31d473c38574f18a213c4a209f0b52c": {
      "model_module": "@jupyter-widgets/controls",
      "model_module_version": "1.5.0",
      "model_name": "VBoxModel",
      "state": {
       "children": [
        "IPY_MODEL_cfd4a3227a22498fbf7b807b159a72e4",
        "IPY_MODEL_7d013e56dd734044a459345d92bce804"
       ],
       "layout": "IPY_MODEL_7509f95670ba48a285433c2df7303350"
      }
     },
     "b353f5af4cb540ea95c84bd2a0ad9e76": {
      "model_module": "@jupyter-widgets/base",
      "model_module_version": "1.2.0",
      "model_name": "LayoutModel",
      "state": {
       "align_items": "stretch",
       "width": "100%"
      }
     },
     "b355971ede044b799eec9bf29a4f612a": {
      "model_module": "@jupyter-widgets/base",
      "model_module_version": "1.2.0",
      "model_name": "LayoutModel",
      "state": {
       "width": "5%"
      }
     },
     "b35dd3c505a148658edf4e49314ae3a9": {
      "model_module": "@jupyter-widgets/controls",
      "model_module_version": "1.5.0",
      "model_name": "ButtonStyleModel",
      "state": {
       "font_weight": "bold"
      }
     },
     "b3780a396cc64b9691aeec2eb9ffc5cf": {
      "model_module": "@jupyter-widgets/base",
      "model_module_version": "1.2.0",
      "model_name": "LayoutModel",
      "state": {
       "width": "5%"
      }
     },
     "b37e7998eb87477189450103477b919c": {
      "model_module": "@jupyter-widgets/controls",
      "model_module_version": "1.5.0",
      "model_name": "ButtonModel",
      "state": {
       "button_style": "info",
       "description": "show guide",
       "layout": "IPY_MODEL_935f6337507d461f9e3d9fd220f00b4f",
       "style": "IPY_MODEL_3b02c659563842128a2647e4057ea05b",
       "tooltip": "read the \"docstring\", ie. the documentation that was written to accompany the script"
      }
     },
     "b399fdaa1f2f4f959cb7b51aad743269": {
      "model_module": "@jupyter-widgets/controls",
      "model_module_version": "1.5.0",
      "model_name": "CheckboxModel",
      "state": {
       "disabled": false,
       "indent": false,
       "layout": "IPY_MODEL_41c27387459d4c9aa77aa1625f873a20",
       "style": "IPY_MODEL_340b36e84c634aa3bc91c5f56617859f",
       "value": false
      }
     },
     "b39ef619b39f4cf49e64e6e0c4be9cf2": {
      "model_module": "@jupyter-widgets/controls",
      "model_module_version": "1.5.0",
      "model_name": "AccordionModel",
      "state": {
       "_titles": {
        "0": "eplus_pipework_params"
       },
       "children": [
        "IPY_MODEL_39496efe057e424497b3576e76ae96e2"
       ],
       "layout": "IPY_MODEL_74a893a2c1ff49bca53df936acc8e775",
       "selected_index": null
      }
     },
     "b3b95320ce6340d4bcb760f0e99c8406": {
      "model_module": "@jupyter-widgets/controls",
      "model_module_version": "1.5.0",
      "model_name": "DescriptionStyleModel",
      "state": {
       "description_width": ""
      }
     },
     "b407384ecb174cd89047366c0c582a8d": {
      "model_module": "@jupyter-widgets/controls",
      "model_module_version": "1.5.0",
      "model_name": "ButtonStyleModel",
      "state": {
       "font_weight": "bold"
      }
     },
     "b409d41e6ac4406aa77c2cb98cedb0cc": {
      "model_module": "@jupyter-widgets/controls",
      "model_module_version": "1.5.0",
      "model_name": "VBoxModel",
      "state": {
       "children": [
        "IPY_MODEL_db1a2ad3fd1c411ca4e10d290a388280",
        "IPY_MODEL_3c5d6fe74cd74e3e91c4e7f9bba56e79"
       ],
       "layout": "IPY_MODEL_23c4abea72f648ee82be338caf130a0b"
      }
     },
     "b41efda7350c4ecaa09a0ebfa9354715": {
      "model_module": "@jupyter-widgets/base",
      "model_module_version": "1.2.0",
      "model_name": "LayoutModel",
      "state": {
       "width": "5%"
      }
     },
     "b427bd4d2b8c481c800cbd6c1bfcccf3": {
      "model_module": "@jupyter-widgets/controls",
      "model_module_version": "1.5.0",
      "model_name": "ButtonModel",
      "state": {
       "button_style": "info",
       "description": "show source code",
       "layout": "IPY_MODEL_254f137fd03445aeb1d7e40387e9a5bf",
       "style": "IPY_MODEL_2d2e1fa75a714fbaaaca9cc894aa0904",
       "tooltip": "shows the raw python code in the preview window below"
      }
     },
     "b439894f91b74dd5b9dd9f4f7f443bce": {
      "model_module": "@jupyter-widgets/controls",
      "model_module_version": "1.5.0",
      "model_name": "DescriptionStyleModel",
      "state": {
       "description_width": ""
      }
     },
     "b440fc7e96d64750b1e3db17e5bb73e0": {
      "model_module": "@jupyter-widgets/base",
      "model_module_version": "1.2.0",
      "model_name": "LayoutModel",
      "state": {
       "border": "0px",
       "margin": "0px",
       "padding": "0px"
      }
     },
     "b46993e2df074bf2bc97b5e435525b65": {
      "model_module": "@jupyter-widgets/controls",
      "model_module_version": "1.5.0",
      "model_name": "HBoxModel",
      "state": {
       "children": [
        "IPY_MODEL_9f1e7bb3854040f3871166a336e20795",
        "IPY_MODEL_156c6eb841434153be810cf1f8bc3d01",
        "IPY_MODEL_b5e3caeb3a2344e0ad554f59c785f29c",
        "IPY_MODEL_4a93e602d13f40749f11bc63a5bc9269",
        "IPY_MODEL_df13f6a04957462faae43444a058a913",
        "IPY_MODEL_5eaea7a165284a8da01e1e5e693710a6",
        "IPY_MODEL_0ccb55e6d90d452489389cff75912d5d"
       ],
       "layout": "IPY_MODEL_4d6bef5804524f77a4914ae6f7df2410"
      }
     },
     "b473107bcb634c308f0a922e13e525c5": {
      "model_module": "@jupyter-widgets/controls",
      "model_module_version": "1.5.0",
      "model_name": "AccordionModel",
      "state": {
       "_titles": {
        "0": "docx_to_pdf"
       },
       "children": [
        "IPY_MODEL_fc65bab87ef84b2e868c04b5b6345d46"
       ],
       "layout": "IPY_MODEL_5f32ab3c72d941148014f7a774c1409c",
       "selected_index": null
      }
     },
     "b4acde6ff2e54118a9e61d59ff46e634": {
      "model_module": "@jupyter-widgets/base",
      "model_module_version": "1.2.0",
      "model_name": "LayoutModel",
      "state": {}
     },
     "b4c3104c3410488cb4fa635d8e34ab4d": {
      "model_module": "@jupyter-widgets/controls",
      "model_module_version": "1.5.0",
      "model_name": "ButtonStyleModel",
      "state": {
       "font_weight": "bold"
      }
     },
     "b4e81b800d5547faa4f9663182a4aaa2": {
      "model_module": "@jupyter-widgets/base",
      "model_module_version": "1.2.0",
      "model_name": "LayoutModel",
      "state": {
       "border": "0px",
       "margin": "0px",
       "padding": "0px"
      }
     },
     "b506458a3c4644b1a4269f927c17c862": {
      "model_module": "@jupyter-widgets/base",
      "model_module_version": "1.2.0",
      "model_name": "LayoutModel",
      "state": {
       "height": "30px",
       "width": "auto"
      }
     },
     "b51e887781054100b189685c314fe517": {
      "model_module": "@jupyter-widgets/controls",
      "model_module_version": "1.5.0",
      "model_name": "ButtonStyleModel",
      "state": {
       "font_weight": "bold"
      }
     },
     "b53a940baec24d98b9c93bc2f7a6659f": {
      "model_module": "@jupyter-widgets/output",
      "model_module_version": "1.0.0",
      "model_name": "OutputModel",
      "state": {
       "layout": "IPY_MODEL_4013612629c04b628ca357416bde1cf8"
      }
     },
     "b53f01f732194364a657e4de953358e5": {
      "model_module": "@jupyter-widgets/controls",
      "model_module_version": "1.5.0",
      "model_name": "ButtonStyleModel",
      "state": {
       "font_weight": "bold"
      }
     },
     "b542dc8da2c540be93b5957d2bf20f98": {
      "model_module": "@jupyter-widgets/controls",
      "model_module_version": "1.5.0",
      "model_name": "TextModel",
      "state": {
       "description": "script",
       "disabled": true,
       "layout": "IPY_MODEL_2b33cca5c3ec4e8abcd129e7522275dc",
       "style": "IPY_MODEL_547456203761428f9cd31c3dbe2dc835",
       "value": "C:\\engDev\\git_mf\\MF_Toolbox\\dev\\mf_scripts\\docx_to_pdf.py"
      }
     },
     "b559c4a76e2940229e42cc38ea5f6884": {
      "model_module": "@jupyter-widgets/controls",
      "model_module_version": "1.5.0",
      "model_name": "TextModel",
      "state": {
       "description": "inputs",
       "disabled": true,
       "layout": "IPY_MODEL_ee58b0f30fc74eaa9416e8a42c9f81d0",
       "style": "IPY_MODEL_4304124eb7954d18af632186b1687dce",
       "value": "C:\\engDev\\git_mf\\ipyrun\\ipyrun\\notebooks\\appdata\\inputs\\inputs-eplus_pipework_params.csv"
      }
     },
     "b56f8139435a44b88faba557161c59af": {
      "model_module": "@jupyter-widgets/base",
      "model_module_version": "1.2.0",
      "model_name": "LayoutModel",
      "state": {
       "align_items": "stretch",
       "width": "100%"
      }
     },
     "b58a622e8a554314ae025a7d5cbb370e": {
      "model_module": "@jupyter-widgets/controls",
      "model_module_version": "1.5.0",
      "model_name": "ButtonModel",
      "state": {
       "icon": "eye-slash",
       "layout": "IPY_MODEL_0364ebba0f4643f295d2c4004a3cf9ed",
       "style": "IPY_MODEL_2fe88ac4c3de4236b8b1b728f23f284a",
       "tooltip": "removes temporary output view"
      }
     },
     "b5915dea5171432782f695d92e6851cc": {
      "model_module": "@jupyter-widgets/base",
      "model_module_version": "1.2.0",
      "model_name": "LayoutModel",
      "state": {}
     },
     "b599a8ba3c4e4ba0ad315bd1924834d0": {
      "model_module": "@jupyter-widgets/controls",
      "model_module_version": "1.5.0",
      "model_name": "DescriptionStyleModel",
      "state": {
       "description_width": ""
      }
     },
     "b5db8fa31b5643e9ab05599435d1d40e": {
      "model_module": "@jupyter-widgets/base",
      "model_module_version": "1.2.0",
      "model_name": "LayoutModel",
      "state": {}
     },
     "b5e3caeb3a2344e0ad554f59c785f29c": {
      "model_module": "@jupyter-widgets/controls",
      "model_module_version": "1.5.0",
      "model_name": "ButtonModel",
      "state": {
       "button_style": "info",
       "description": "show guide",
       "layout": "IPY_MODEL_e496462278a04d158f628c1f69ce39ce",
       "style": "IPY_MODEL_c4404fada4464d2aabd63c120427ea3b",
       "tooltip": "read the \"docstring\", ie. the documentation that was written to accompany the script"
      }
     },
     "b61b86c97c4f484a99d193090bc23ed5": {
      "model_module": "@jupyter-widgets/controls",
      "model_module_version": "1.5.0",
      "model_name": "HBoxModel",
      "state": {
       "children": [
        "IPY_MODEL_21dbe2ba1ef14ea5b50b310162d446e1",
        "IPY_MODEL_a428377c1e1d43fdb96e6fade71fa092"
       ],
       "layout": "IPY_MODEL_7563a8e3e6974fd8bb2caf7f370b85aa"
      }
     },
     "b6580cb1517f41b4a1918a9356ede521": {
      "model_module": "@jupyter-widgets/base",
      "model_module_version": "1.2.0",
      "model_name": "LayoutModel",
      "state": {
       "width": "100%"
      }
     },
     "b6945cc4614848078b3d8e5bfc1d6f48": {
      "model_module": "@jupyter-widgets/controls",
      "model_module_version": "1.5.0",
      "model_name": "ButtonStyleModel",
      "state": {
       "font_weight": "bold"
      }
     },
     "b6a18a501dbb4d7d8003f0c3732b9c9a": {
      "model_module": "@jupyter-widgets/controls",
      "model_module_version": "1.5.0",
      "model_name": "ButtonModel",
      "state": {
       "button_style": "success",
       "description": "run",
       "layout": "IPY_MODEL_a0c56eb1d7334cc29b99283a1e04de51",
       "style": "IPY_MODEL_68ab268fc52e471e849d8eee52612a05",
       "tooltip": "execute the script based on the user inputs"
      }
     },
     "b6ac70255e774a62b111328d01f28da8": {
      "model_module": "@jupyter-widgets/controls",
      "model_module_version": "1.5.0",
      "model_name": "TextModel",
      "state": {
       "description": "script",
       "disabled": true,
       "layout": "IPY_MODEL_51b9e8fe3d814dddb6b60cb857687466",
       "style": "IPY_MODEL_cf413d709b014848b814a136da16d883",
       "value": "C:\\engDev\\git_mf\\MF_Toolbox\\dev\\mf_scripts\\eplus_pipework_params.py"
      }
     },
     "b6d2a9f340d34fd5b363f8b62644e6c2": {
      "model_module": "@jupyter-widgets/base",
      "model_module_version": "1.2.0",
      "model_name": "LayoutModel",
      "state": {}
     },
     "b6db2afe241d4e05a8464b4603f6542e": {
      "model_module": "@jupyter-widgets/controls",
      "model_module_version": "1.5.0",
      "model_name": "ButtonModel",
      "state": {
       "button_style": "info",
       "description": "preview outputs",
       "layout": "IPY_MODEL_9af41a92c681469c9b6a2a1aeabc86fd",
       "style": "IPY_MODEL_e536c2fe649e4e46aaf48637cae3f429",
       "tooltip": "show a preview of the output files generated when the script runs"
      }
     },
     "b6dee82113f245d087e2eba2515fecfe": {
      "model_module": "@jupyter-widgets/controls",
      "model_module_version": "1.5.0",
      "model_name": "ButtonStyleModel",
      "state": {}
     },
     "b70fd9ab7adc487e840b2bf721066dc3": {
      "model_module": "@jupyter-widgets/controls",
      "model_module_version": "1.5.0",
      "model_name": "ButtonStyleModel",
      "state": {
       "font_weight": "bold"
      }
     },
     "b711d526c9204920836d0121b9049fe6": {
      "model_module": "@jupyter-widgets/base",
      "model_module_version": "1.2.0",
      "model_name": "LayoutModel",
      "state": {
       "height": "30px",
       "width": "auto"
      }
     },
     "b75a6687c537426f9cfdd22117b30651": {
      "model_module": "@jupyter-widgets/base",
      "model_module_version": "1.2.0",
      "model_name": "LayoutModel",
      "state": {
       "height": "30px",
       "max_width": "30px",
       "padding": "3px"
      }
     },
     "b76b8144bef645d4ab5f902d3e833643": {
      "model_module": "@jupyter-widgets/controls",
      "model_module_version": "1.5.0",
      "model_name": "TextModel",
      "state": {
       "description": "script",
       "disabled": true,
       "layout": "IPY_MODEL_fc7a6eeb41d64de5af2ebc67ae56708c",
       "style": "IPY_MODEL_d72e4ced1fb840c6a656a636295671c6",
       "value": "C:\\engDev\\git_mf\\MF_Toolbox\\dev\\mf_scripts\\docx_to_pdf.py"
      }
     },
     "b77467a48a1f49a38244b1a635585ad5": {
      "model_module": "@jupyter-widgets/base",
      "model_module_version": "1.2.0",
      "model_name": "LayoutModel",
      "state": {
       "width": "5%"
      }
     },
     "b792667405554e678adabeb300f9d8ba": {
      "model_module": "@jupyter-widgets/base",
      "model_module_version": "1.2.0",
      "model_name": "LayoutModel",
      "state": {}
     },
     "b794ecd5f37b4cc48872f051b09771cf": {
      "model_module": "@jupyter-widgets/base",
      "model_module_version": "1.2.0",
      "model_name": "LayoutModel",
      "state": {
       "width": "5%"
      }
     },
     "b7b3a7af416e42fabf21a3d427c748ad": {
      "model_module": "@jupyter-widgets/controls",
      "model_module_version": "1.5.0",
      "model_name": "TextModel",
      "state": {
       "description": "script",
       "disabled": true,
       "layout": "IPY_MODEL_bc5048b9e6094207b88d3c0c8554428a",
       "style": "IPY_MODEL_e245b20e76bb46ce9dadd18269c0355f",
       "value": "C:\\engDev\\git_mf\\MF_Toolbox\\dev\\mf_scripts\\docx_to_pdf.py"
      }
     },
     "b7b53f0ab1694db69535c9f9a86f6cef": {
      "model_module": "@jupyter-widgets/controls",
      "model_module_version": "1.5.0",
      "model_name": "TextModel",
      "state": {
       "description": "inputs",
       "disabled": true,
       "layout": "IPY_MODEL_9c4ced80f38f4a8d9e92de409526849b",
       "style": "IPY_MODEL_9112f68cd3514051bed722693f8e3a43",
       "value": "C:\\engDev\\git_mf\\ipyrun\\ipyrun\\appdata\\inputs\\inputs-docx_to_pdf.json"
      }
     },
     "b7b7181699e54ff58de7c677c4d40871": {
      "model_module": "@jupyter-widgets/controls",
      "model_module_version": "1.5.0",
      "model_name": "ButtonStyleModel",
      "state": {
       "font_weight": "bold"
      }
     },
     "b7c01f024ca84684b32690994ead7a5f": {
      "model_module": "@jupyter-widgets/controls",
      "model_module_version": "1.5.0",
      "model_name": "ButtonStyleModel",
      "state": {}
     },
     "b7d39976557f4a1abed0b63c98d5bc8b": {
      "model_module": "@jupyter-widgets/controls",
      "model_module_version": "1.5.0",
      "model_name": "HBoxModel",
      "state": {
       "children": [
        "IPY_MODEL_5aedae5fb8e54957b9a82f157a20b86c",
        "IPY_MODEL_10cae5dfad39474ea39583aa65e0c4ec"
       ],
       "layout": "IPY_MODEL_158392d0c6af43b68483cb7ab9d5a459"
      }
     },
     "b806495b495043b8b59ad80752c3335e": {
      "model_module": "@jupyter-widgets/controls",
      "model_module_version": "1.5.0",
      "model_name": "ButtonStyleModel",
      "state": {
       "font_weight": "bold"
      }
     },
     "b80795c08ea347d6b39aab59aa5adb99": {
      "model_module": "@jupyter-widgets/controls",
      "model_module_version": "1.5.0",
      "model_name": "ButtonStyleModel",
      "state": {
       "font_weight": "bold"
      }
     },
     "b816a9226cd0427ea4a1c13a81d1d11c": {
      "model_module": "@jupyter-widgets/base",
      "model_module_version": "1.2.0",
      "model_name": "LayoutModel",
      "state": {}
     },
     "b82450fda282495d960e72d0c10bab65": {
      "model_module": "@jupyter-widgets/controls",
      "model_module_version": "1.5.0",
      "model_name": "DescriptionStyleModel",
      "state": {
       "description_width": ""
      }
     },
     "b85f7eb95c71409481e14a3dbf0e5533": {
      "model_module": "@jupyter-widgets/base",
      "model_module_version": "1.2.0",
      "model_name": "LayoutModel",
      "state": {
       "width": "100%"
      }
     },
     "b88021ea4cc64e1f9c84248f44f9ff92": {
      "model_module": "@jupyter-widgets/controls",
      "model_module_version": "1.5.0",
      "model_name": "ButtonStyleModel",
      "state": {
       "font_weight": "bold"
      }
     },
     "b88785f892824d14b1ddb9b26bd594e5": {
      "model_module": "@jupyter-widgets/base",
      "model_module_version": "1.2.0",
      "model_name": "LayoutModel",
      "state": {}
     },
     "b8db144100fb447dae64105eea238b59": {
      "model_module": "@jupyter-widgets/controls",
      "model_module_version": "1.5.0",
      "model_name": "AccordionModel",
      "state": {
       "_titles": {
        "0": "eplus_pipework_params"
       },
       "children": [
        "IPY_MODEL_77e3c5abe37c404d9ffa920cb27edddb"
       ],
       "layout": "IPY_MODEL_d479ef4eca1846b6a57e50bcc9170d85",
       "selected_index": null
      }
     },
     "b9147b60c3a74fe0bfa71716d879a0b1": {
      "model_module": "@jupyter-widgets/controls",
      "model_module_version": "1.5.0",
      "model_name": "ButtonStyleModel",
      "state": {
       "font_weight": "bold"
      }
     },
     "b928637f1b0548d295b0dadb49e6078d": {
      "model_module": "@jupyter-widgets/controls",
      "model_module_version": "1.5.0",
      "model_name": "ButtonStyleModel",
      "state": {
       "font_weight": "bold"
      }
     },
     "b931abf6823e42eeafa0309435d5ac85": {
      "model_module": "@jupyter-widgets/controls",
      "model_module_version": "1.5.0",
      "model_name": "HBoxModel",
      "state": {
       "children": [
        "IPY_MODEL_28fdc98615d94d1a8253cb25d0cd41ba",
        "IPY_MODEL_0cf654b93e074b108853f274418519b1",
        "IPY_MODEL_aff28768ecc64214ad0d6f443db36a36"
       ],
       "layout": "IPY_MODEL_a30147a0f42d474f9c3b972a5722af99"
      }
     },
     "b9539e71ec8e4937affb9a1a74de35f6": {
      "model_module": "@jupyter-widgets/base",
      "model_module_version": "1.2.0",
      "model_name": "LayoutModel",
      "state": {
       "align_items": "stretch",
       "width": "100%"
      }
     },
     "b978754a4d76435199e2ffe631b5d3f6": {
      "model_module": "@jupyter-widgets/base",
      "model_module_version": "1.2.0",
      "model_name": "LayoutModel",
      "state": {}
     },
     "b98645b5623a499b9f15803c816eb272": {
      "model_module": "@jupyter-widgets/controls",
      "model_module_version": "1.5.0",
      "model_name": "ButtonModel",
      "state": {
       "icon": "question-circle",
       "layout": "IPY_MODEL_f47ccac19dc848ff88472e9a9a934831",
       "style": "IPY_MODEL_b928637f1b0548d295b0dadb49e6078d",
       "tooltip": "describes the functionality of elements in the RunApp interface"
      }
     },
     "b99d6980b2874b33b39222dd4290c1fa": {
      "model_module": "@jupyter-widgets/base",
      "model_module_version": "1.2.0",
      "model_name": "LayoutModel",
      "state": {}
     },
     "b9baf30674b9426b9ce044b9b76b5dca": {
      "model_module": "@jupyter-widgets/controls",
      "model_module_version": "1.5.0",
      "model_name": "ButtonStyleModel",
      "state": {
       "font_weight": "bold"
      }
     },
     "b9c52266078d4e8ca266553820040fc3": {
      "model_module": "@jupyter-widgets/controls",
      "model_module_version": "1.5.0",
      "model_name": "ButtonModel",
      "state": {
       "icon": "eye-slash",
       "layout": "IPY_MODEL_09ed8e3417394c95a5c89255a3d3e7ae",
       "style": "IPY_MODEL_fb9943e7db584518b85dade45a8ecf2c",
       "tooltip": "removes temporary output view"
      }
     },
     "b9cc108d27f6449e9e2e10743b0211d6": {
      "model_module": "@jupyter-widgets/base",
      "model_module_version": "1.2.0",
      "model_name": "LayoutModel",
      "state": {
       "align_items": "stretch",
       "width": "100%"
      }
     },
     "ba034c1fea144d489cbe74701dd10734": {
      "model_module": "@jupyter-widgets/controls",
      "model_module_version": "1.5.0",
      "model_name": "ButtonStyleModel",
      "state": {
       "font_weight": "bold"
      }
     },
     "ba47579316da4ad3a494a258fd1ca4cd": {
      "model_module": "@jupyter-widgets/controls",
      "model_module_version": "1.5.0",
      "model_name": "AccordionModel",
      "state": {
       "_titles": {
        "0": "gbxml"
       },
       "children": [
        "IPY_MODEL_12ff3e9f976f41278215a4a1dcd2349a"
       ],
       "layout": "IPY_MODEL_f0e4210f4e4c48b6bbec22551846324e",
       "selected_index": null
      }
     },
     "ba78940153ec49d8897695159e947242": {
      "model_module": "@jupyter-widgets/controls",
      "model_module_version": "1.5.0",
      "model_name": "VBoxModel",
      "state": {
       "children": [
        "IPY_MODEL_96e3bb0c3fb94a02889fac1339051ba0",
        "IPY_MODEL_c05e068ea6e54bffae838a1a0f8e78b4",
        "IPY_MODEL_d1662b361cf049629ce7da69dba4cec7"
       ],
       "layout": "IPY_MODEL_ebd1b9aa208f40568892f699f319e732"
      }
     },
     "ba84a9e6ed524cd48cdca0399c769a27": {
      "model_module": "@jupyter-widgets/controls",
      "model_module_version": "1.5.0",
      "model_name": "DescriptionStyleModel",
      "state": {
       "description_width": ""
      }
     },
     "baa94ea8e0c24bc7bbd54b281fea9bc8": {
      "model_module": "@jupyter-widgets/output",
      "model_module_version": "1.0.0",
      "model_name": "OutputModel",
      "state": {
       "layout": "IPY_MODEL_969b4569e9d94c27a6514e3f164db250"
      }
     },
     "bacfc22f42054ff689ccee5bd692563b": {
      "model_module": "@jupyter-widgets/controls",
      "model_module_version": "1.5.0",
      "model_name": "ButtonModel",
      "state": {
       "icon": "question-circle",
       "layout": "IPY_MODEL_eaa673e929f84cfeaa2d6d5de7f5688a",
       "style": "IPY_MODEL_291212d912a644b0b0443bcbd3b31889",
       "tooltip": "describes the functionality of elements in the RunApp interface"
      }
     },
     "bb139e5ecf5e4b8ca3e252f055413df0": {
      "model_module": "@jupyter-widgets/output",
      "model_module_version": "1.0.0",
      "model_name": "OutputModel",
      "state": {
       "layout": "IPY_MODEL_9318e25f7cbf43ec854f83ddbba4120d"
      }
     },
     "bb2f66f433c141c2bbd5c2ba1c582e75": {
      "model_module": "@jupyter-widgets/base",
      "model_module_version": "1.2.0",
      "model_name": "LayoutModel",
      "state": {}
     },
     "bb4e32d2d728477aa48685d2a4fda910": {
      "model_module": "@jupyter-widgets/controls",
      "model_module_version": "1.5.0",
      "model_name": "ButtonModel",
      "state": {
       "button_style": "warning",
       "description": "edit inputs",
       "layout": "IPY_MODEL_86a613ae4aa1439a9555eecaa09a7fd6",
       "style": "IPY_MODEL_de393ce94a80441c8f5e14d74e161f0f",
       "tooltip": "edit the user input information that is used when the script is executed"
      }
     },
     "bb588cbba6644bb8aa1b7168878e54b4": {
      "model_module": "@jupyter-widgets/controls",
      "model_module_version": "1.5.0",
      "model_name": "VBoxModel",
      "state": {
       "children": [
        "IPY_MODEL_174a2a6eec2b412484f53bd61fecd35a",
        "IPY_MODEL_d5d9e26b3b8c4253a444244c8f994765"
       ],
       "layout": "IPY_MODEL_3899368ec36b440fa1d3564e36697693"
      }
     },
     "bb61ebd10fb444a2b62b838b757b5e69": {
      "model_module": "@jupyter-widgets/controls",
      "model_module_version": "1.5.0",
      "model_name": "ButtonModel",
      "state": {
       "button_style": "info",
       "description": "preview outputs",
       "layout": "IPY_MODEL_d31d057b6b524bc4bfcd6fa9c5f9be3e",
       "style": "IPY_MODEL_40012905e1c6441baefee7db1b188a58",
       "tooltip": "show a preview of the output files generated when the script runs"
      }
     },
     "bb8a8a29a6c64572bc0daa0fed1b7346": {
      "model_module": "@jupyter-widgets/controls",
      "model_module_version": "1.5.0",
      "model_name": "DescriptionStyleModel",
      "state": {
       "description_width": ""
      }
     },
     "bb90abafb5d249fcb8f73967f66b5b46": {
      "model_module": "@jupyter-widgets/controls",
      "model_module_version": "1.5.0",
      "model_name": "ButtonModel",
      "state": {
       "button_style": "info",
       "description": "show source code",
       "layout": "IPY_MODEL_5818d6e0bbbf444a973cf5fb024c070c",
       "style": "IPY_MODEL_afca92eaae7e43a18951429faebdba47",
       "tooltip": "shows the raw python code in the preview window below"
      }
     },
     "bbc4a1f27c2f4986ad10f8f3d945dbec": {
      "model_module": "@jupyter-widgets/controls",
      "model_module_version": "1.5.0",
      "model_name": "VBoxModel",
      "state": {
       "children": [
        "IPY_MODEL_421f9ccf8a4444d8864773aea0e53b6d",
        "IPY_MODEL_78d311e2a6b84e32b0f30ff912d94eab"
       ],
       "layout": "IPY_MODEL_24dba731937840f8a2ce3a1500956f55"
      }
     },
     "bbd82b6903c64656a318523bdd055659": {
      "model_module": "@jupyter-widgets/controls",
      "model_module_version": "1.5.0",
      "model_name": "ButtonStyleModel",
      "state": {
       "font_weight": "bold"
      }
     },
     "bbe343270c0b4753bf517c38d90294bc": {
      "model_module": "@jupyter-widgets/controls",
      "model_module_version": "1.5.0",
      "model_name": "HBoxModel",
      "state": {
       "children": [
        "IPY_MODEL_ebdf6ed4eb3e4f13bd257eb0c7fc5df3",
        "IPY_MODEL_ea9774489807458780d35123b591a1b3",
        "IPY_MODEL_28f7451ad9324b6ca5709d0ef9b40957",
        "IPY_MODEL_36721b99b5564c4995c9c8c7b8d9ec76"
       ],
       "layout": "IPY_MODEL_876a02b894c44b1f9808786f57b904c0"
      }
     },
     "bc0e87762fea4dc7946f9c917acac7d7": {
      "model_module": "@jupyter-widgets/controls",
      "model_module_version": "1.5.0",
      "model_name": "ButtonModel",
      "state": {
       "icon": "eye-slash",
       "layout": "IPY_MODEL_58f81fe592c649828774a9916e7d543f",
       "style": "IPY_MODEL_11dfd4082d1445e79b450b4a59a77098",
       "tooltip": "removes temporary output view"
      }
     },
     "bc10561a0581486a89b9adf841e1dc92": {
      "model_module": "@jupyter-widgets/base",
      "model_module_version": "1.2.0",
      "model_name": "LayoutModel",
      "state": {
       "height": "30px",
       "width": "auto"
      }
     },
     "bc2cb41c39024c74ae6fa3eb0b2a9194": {
      "model_module": "@jupyter-widgets/controls",
      "model_module_version": "1.5.0",
      "model_name": "ButtonStyleModel",
      "state": {
       "font_weight": "bold"
      }
     },
     "bc5048b9e6094207b88d3c0c8554428a": {
      "model_module": "@jupyter-widgets/base",
      "model_module_version": "1.2.0",
      "model_name": "LayoutModel",
      "state": {
       "height": "30px",
       "width": "auto"
      }
     },
     "bc7414af7c4446f88e571056682791c3": {
      "model_module": "@jupyter-widgets/base",
      "model_module_version": "1.2.0",
      "model_name": "LayoutModel",
      "state": {
       "border": "0px",
       "margin": "0px",
       "padding": "0px"
      }
     },
     "bca7eedae1734499b7cb7f8f95af3b9d": {
      "model_module": "@jupyter-widgets/controls",
      "model_module_version": "1.5.0",
      "model_name": "ButtonStyleModel",
      "state": {
       "font_weight": "bold"
      }
     },
     "bcce97aea16e422782ad4b186d0208b4": {
      "model_module": "@jupyter-widgets/controls",
      "model_module_version": "1.5.0",
      "model_name": "ButtonStyleModel",
      "state": {
       "font_weight": "bold"
      }
     },
     "bcd6b33174db40eea598cb39d7094fa5": {
      "model_module": "@jupyter-widgets/controls",
      "model_module_version": "1.5.0",
      "model_name": "ButtonModel",
      "state": {
       "button_style": "info",
       "description": "show log",
       "layout": "IPY_MODEL_673f2f9b2a524016b396d82cf9288714",
       "style": "IPY_MODEL_756ce53b774a4f2c884f78594e224f5c",
       "tooltip": "show a log of when the script was executed to generate the outputs, and by who"
      }
     },
     "bce6fd3367e743c58daeb3cd95aadd48": {
      "model_module": "@jupyter-widgets/controls",
      "model_module_version": "1.5.0",
      "model_name": "DescriptionStyleModel",
      "state": {
       "description_width": ""
      }
     },
     "bd10bf7bbb294f648153f188ec987a95": {
      "model_module": "@jupyter-widgets/base",
      "model_module_version": "1.2.0",
      "model_name": "LayoutModel",
      "state": {}
     },
     "bd151c1e961642ca9fbbe532d1b087fb": {
      "model_module": "@jupyter-widgets/controls",
      "model_module_version": "1.5.0",
      "model_name": "ButtonStyleModel",
      "state": {
       "font_weight": "bold"
      }
     },
     "bd21650963aa4ee59dd1899ef64063f9": {
      "model_module": "@jupyter-widgets/base",
      "model_module_version": "1.2.0",
      "model_name": "LayoutModel",
      "state": {
       "align_items": "stretch",
       "width": "100%"
      }
     },
     "bd28224de3d34454910fce7ac92e4125": {
      "model_module": "@jupyter-widgets/base",
      "model_module_version": "1.2.0",
      "model_name": "LayoutModel",
      "state": {
       "width": "100%"
      }
     },
     "bd2881bd0cbb43ff90c3c0ee86dcd29e": {
      "model_module": "@jupyter-widgets/controls",
      "model_module_version": "1.5.0",
      "model_name": "ButtonStyleModel",
      "state": {
       "font_weight": "bold"
      }
     },
     "bd2d7d4a6c284ce6851cbde97ae81b76": {
      "model_module": "@jupyter-widgets/controls",
      "model_module_version": "1.5.0",
      "model_name": "ButtonStyleModel",
      "state": {
       "font_weight": "bold"
      }
     },
     "bd30dbf1eaaa4cdba052bd92ccf046dd": {
      "model_module": "@jupyter-widgets/base",
      "model_module_version": "1.2.0",
      "model_name": "LayoutModel",
      "state": {}
     },
     "bd465beee28046ff8519f8cafab13446": {
      "model_module": "@jupyter-widgets/controls",
      "model_module_version": "1.5.0",
      "model_name": "ButtonStyleModel",
      "state": {
       "font_weight": "bold"
      }
     },
     "bd492aaac5e4440ab2611cefd464321d": {
      "model_module": "@jupyter-widgets/controls",
      "model_module_version": "1.5.0",
      "model_name": "DescriptionStyleModel",
      "state": {
       "description_width": ""
      }
     },
     "bd4fbe8138244c7b97fe72720ffd7307": {
      "model_module": "@jupyter-widgets/controls",
      "model_module_version": "1.5.0",
      "model_name": "ButtonModel",
      "state": {
       "button_style": "info",
       "description": "show source code",
       "layout": "IPY_MODEL_6190e522f7734b99803d70161ebafe11",
       "style": "IPY_MODEL_7f2320480c9a45e898f4405f7bc431b1",
       "tooltip": "shows the raw python code in the preview window below"
      }
     },
     "bd5a3711330341ef988dae87069da041": {
      "model_module": "@jupyter-widgets/controls",
      "model_module_version": "1.5.0",
      "model_name": "DescriptionStyleModel",
      "state": {
       "description_width": ""
      }
     },
     "bd692a05e674441e90d594332aa18cc4": {
      "model_module": "@jupyter-widgets/controls",
      "model_module_version": "1.5.0",
      "model_name": "ButtonModel",
      "state": {
       "icon": "eye-slash",
       "layout": "IPY_MODEL_1fdc08fc943e48b69ee732c92531300b",
       "style": "IPY_MODEL_541d6f613f3044089f07f5bffc28554f",
       "tooltip": "removes temporary output view"
      }
     },
     "bd848df662094daa87251d53226c7e1f": {
      "model_module": "@jupyter-widgets/controls",
      "model_module_version": "1.5.0",
      "model_name": "ButtonStyleModel",
      "state": {
       "font_weight": "bold"
      }
     },
     "bd8a475c4c9b4959a2d31914bc8a6032": {
      "model_module": "@jupyter-widgets/controls",
      "model_module_version": "1.5.0",
      "model_name": "ButtonModel",
      "state": {
       "button_style": "info",
       "description": "show source code",
       "layout": "IPY_MODEL_3b4bfa57079c4bc1b69c22bbee6980d1",
       "style": "IPY_MODEL_6ae6f76b8b894bcf8ae6ea6670864b1c",
       "tooltip": "shows the raw python code in the preview window below"
      }
     },
     "bda5549df5684cf19ab52a050c7f7110": {
      "model_module": "@jupyter-widgets/base",
      "model_module_version": "1.2.0",
      "model_name": "LayoutModel",
      "state": {
       "width": "5%"
      }
     },
     "bdca5411542a43928c13fd8690222890": {
      "model_module": "@jupyter-widgets/output",
      "model_module_version": "1.0.0",
      "model_name": "OutputModel",
      "state": {
       "layout": "IPY_MODEL_43dc829535854b7dac84d1d202324420"
      }
     },
     "bdddefaf9a024626965eba7520e449d4": {
      "model_module": "@jupyter-widgets/controls",
      "model_module_version": "1.5.0",
      "model_name": "ButtonModel",
      "state": {
       "button_style": "info",
       "description": "show guide",
       "layout": "IPY_MODEL_5348bcb281674c9db7c37ce12a4113f8",
       "style": "IPY_MODEL_f5d2e461bcab422eb988f59d5a1d88a2",
       "tooltip": "read the \"docstring\", ie. the documentation that was written to accompany the script"
      }
     },
     "bde9110b42a04eeaa51ddaba41c3c354": {
      "model_module": "@jupyter-widgets/controls",
      "model_module_version": "1.5.0",
      "model_name": "DescriptionStyleModel",
      "state": {
       "description_width": ""
      }
     },
     "bdf0ae22ef1348c0ae939c68643c44d0": {
      "model_module": "@jupyter-widgets/controls",
      "model_module_version": "1.5.0",
      "model_name": "HBoxModel",
      "state": {
       "children": [
        "IPY_MODEL_3ddf72971b5742889bc05d314c1a935e",
        "IPY_MODEL_244a19eda6a34b9184147b315d831f50"
       ],
       "layout": "IPY_MODEL_3c85ea7c7fd04068939567a9a445d2be"
      }
     },
     "bdf15c2d897b4b4b92fa7655fdd66953": {
      "model_module": "@jupyter-widgets/base",
      "model_module_version": "1.2.0",
      "model_name": "LayoutModel",
      "state": {}
     },
     "be53f11966ea4a79b4bdb3093d47ed6f": {
      "model_module": "@jupyter-widgets/base",
      "model_module_version": "1.2.0",
      "model_name": "LayoutModel",
      "state": {
       "width": "100%"
      }
     },
     "be5702aac79243029f8c3b8dbd78c5a3": {
      "model_module": "@jupyter-widgets/controls",
      "model_module_version": "1.5.0",
      "model_name": "ButtonStyleModel",
      "state": {
       "font_weight": "bold"
      }
     },
     "be7a3f3e3e114241ad302d3177c109ca": {
      "model_module": "@jupyter-widgets/base",
      "model_module_version": "1.2.0",
      "model_name": "LayoutModel",
      "state": {
       "height": "30px",
       "width": "auto"
      }
     },
     "be86f3e684984b84a04771d3cb26211d": {
      "model_module": "@jupyter-widgets/controls",
      "model_module_version": "1.5.0",
      "model_name": "SelectMultipleModel",
      "state": {
       "_options_labels": [
        "C:\\engDev\\git_mf\\ipyrun\\data\\raw\\gbxml.xml",
        "C:\\engDev\\git_mf\\ipyrun\\data\\interim\\gbjson.json",
        "C:\\engDev\\git_mf\\ipyrun\\data\\processed\\gbxml_datagrab.xlsx",
        "C:\\engDev\\git_mf\\ipyrun\\data\\processed\\gbxml_spcs-treemap.png"
       ],
       "description": "outputs",
       "index": [],
       "layout": "IPY_MODEL_3e2f7574a722489e90b2722a1cb2c935",
       "rows": 4,
       "style": "IPY_MODEL_23c7f5271e4c415f9cdfcdc0795f52e4"
      }
     },
     "be87188b0e774c3cb42b197afb8959af": {
      "model_module": "@jupyter-widgets/controls",
      "model_module_version": "1.5.0",
      "model_name": "ButtonStyleModel",
      "state": {
       "font_weight": "bold"
      }
     },
     "beaadc2b13fb42d0899a5cf495329ecd": {
      "model_module": "@jupyter-widgets/base",
      "model_module_version": "1.2.0",
      "model_name": "LayoutModel",
      "state": {}
     },
     "beadd9bff43f418b928b4c4091028b33": {
      "model_module": "@jupyter-widgets/base",
      "model_module_version": "1.2.0",
      "model_name": "LayoutModel",
      "state": {}
     },
     "bed83de6ddd542169fb5b35a834ad83a": {
      "model_module": "@jupyter-widgets/base",
      "model_module_version": "1.2.0",
      "model_name": "LayoutModel",
      "state": {}
     },
     "bf2d64c0535e46198c57ab751ca098e7": {
      "model_module": "@jupyter-widgets/controls",
      "model_module_version": "1.5.0",
      "model_name": "AccordionModel",
      "state": {
       "_titles": {
        "0": "docx_to_pdf"
       },
       "children": [
        "IPY_MODEL_15a145ce81534a0eb21b439e9574d097"
       ],
       "layout": "IPY_MODEL_b6580cb1517f41b4a1918a9356ede521",
       "selected_index": null
      }
     },
     "bf3b7d6e486f4620b4e6ddb5d8acb82a": {
      "model_module": "@jupyter-widgets/base",
      "model_module_version": "1.2.0",
      "model_name": "LayoutModel",
      "state": {
       "height": "30px",
       "width": "auto"
      }
     },
     "bf4b6dad872a49e8ad6815d9df2f030f": {
      "model_module": "@jupyter-widgets/base",
      "model_module_version": "1.2.0",
      "model_name": "LayoutModel",
      "state": {
       "width": "5%"
      }
     },
     "bf55e93d3cbb408ebd46439314a28574": {
      "model_module": "@jupyter-widgets/base",
      "model_module_version": "1.2.0",
      "model_name": "LayoutModel",
      "state": {}
     },
     "bfa2aca9c6384dabb5d6214b146eadf7": {
      "model_module": "@jupyter-widgets/controls",
      "model_module_version": "1.5.0",
      "model_name": "ButtonModel",
      "state": {
       "button_style": "success",
       "description": "run",
       "layout": "IPY_MODEL_86eea7107e6e4e28afc73703f32fa8ca",
       "style": "IPY_MODEL_8e548fd69afa4e218448464a7ed61715",
       "tooltip": "execute the script based on the user inputs"
      }
     },
     "bfa9d6172e994d9086b598b907dff782": {
      "model_module": "@jupyter-widgets/base",
      "model_module_version": "1.2.0",
      "model_name": "LayoutModel",
      "state": {
       "border": "0px",
       "margin": "0px",
       "padding": "0px"
      }
     },
     "bfad90cf3e564bfca0b3d4c3c66fc8b6": {
      "model_module": "@jupyter-widgets/controls",
      "model_module_version": "1.5.0",
      "model_name": "DescriptionStyleModel",
      "state": {
       "description_width": ""
      }
     },
     "bfc5e1329f134d6e9e3ed6e109b996c9": {
      "model_module": "@jupyter-widgets/controls",
      "model_module_version": "1.5.0",
      "model_name": "DescriptionStyleModel",
      "state": {
       "description_width": ""
      }
     },
     "bffdad806ca040968b8c3de2090e3bdc": {
      "model_module": "@jupyter-widgets/controls",
      "model_module_version": "1.5.0",
      "model_name": "ButtonStyleModel",
      "state": {
       "font_weight": "bold"
      }
     },
     "c00dd582065b4bd684a87b74115b4f68": {
      "model_module": "@jupyter-widgets/controls",
      "model_module_version": "1.5.0",
      "model_name": "HBoxModel",
      "state": {
       "children": [
        "IPY_MODEL_85d973a6f6504034933d6b007050ead1",
        "IPY_MODEL_cee158e0664e4e119fad7e5436774dd8",
        "IPY_MODEL_fa9e8ae7e0ef4c2391572fcd760b7341",
        "IPY_MODEL_9e4f161692d54a5bb1db92e7c7c03c26"
       ],
       "layout": "IPY_MODEL_7d7bd4a5cc1e4685936d273e44c7e4af"
      }
     },
     "c029f4645d2c4c7086fc3ce148901671": {
      "model_module": "@jupyter-widgets/controls",
      "model_module_version": "1.5.0",
      "model_name": "ButtonStyleModel",
      "state": {
       "font_weight": "bold"
      }
     },
     "c0509696111e4223af3d717cfbb6626d": {
      "model_module": "@jupyter-widgets/base",
      "model_module_version": "1.2.0",
      "model_name": "LayoutModel",
      "state": {
       "height": "30px",
       "width": "auto"
      }
     },
     "c051e741356f4d548e3495e4681af148": {
      "model_module": "@jupyter-widgets/controls",
      "model_module_version": "1.5.0",
      "model_name": "ButtonModel",
      "state": {
       "button_style": "success",
       "description": "run",
       "layout": "IPY_MODEL_03048e1cc7ed4c9fa11417f2cdededd2",
       "style": "IPY_MODEL_14ecd038d731433693e4f86032fc75c0",
       "tooltip": "execute the script based on the user inputs"
      }
     },
     "c052b219709d44198fead9682a2b3bc0": {
      "model_module": "@jupyter-widgets/controls",
      "model_module_version": "1.5.0",
      "model_name": "ButtonModel",
      "state": {
       "button_style": "info",
       "description": "show source code",
       "layout": "IPY_MODEL_2dae878379964c9eb34dac8d76b256c1",
       "style": "IPY_MODEL_a336be64824a4a40a5a9df956861bbea",
       "tooltip": "shows the raw python code in the preview window below"
      }
     },
     "c05e068ea6e54bffae838a1a0f8e78b4": {
      "model_module": "@jupyter-widgets/controls",
      "model_module_version": "1.5.0",
      "model_name": "TextModel",
      "state": {
       "description": "script",
       "disabled": true,
       "layout": "IPY_MODEL_394c22d4059c43739f7bf05319cb0760",
       "style": "IPY_MODEL_c9059bab99d341be95858a49984e9c10",
       "value": "C:\\engDev\\git_mf\\MF_Toolbox\\dev\\mf_scripts\\eplus_pipework_params.py"
      }
     },
     "c099b1ca65e04dea932c14a0c7975396": {
      "model_module": "@jupyter-widgets/base",
      "model_module_version": "1.2.0",
      "model_name": "LayoutModel",
      "state": {
       "width": "5%"
      }
     },
     "c0b0b70da917493f800ce96293712860": {
      "model_module": "@jupyter-widgets/base",
      "model_module_version": "1.2.0",
      "model_name": "LayoutModel",
      "state": {}
     },
     "c0d6260fad8e441d9b16aae38d825fbd": {
      "model_module": "@jupyter-widgets/output",
      "model_module_version": "1.0.0",
      "model_name": "OutputModel",
      "state": {
       "layout": "IPY_MODEL_208ad46c453a4e9195b07566bc5b22d2"
      }
     },
     "c0df930786fd48368e3402640260ea84": {
      "model_module": "@jupyter-widgets/controls",
      "model_module_version": "1.5.0",
      "model_name": "ButtonStyleModel",
      "state": {
       "font_weight": "bold"
      }
     },
     "c1003ee739274b41a86fd2d6b46d732b": {
      "model_module": "@jupyter-widgets/base",
      "model_module_version": "1.2.0",
      "model_name": "LayoutModel",
      "state": {
       "align_items": "stretch",
       "width": "100%"
      }
     },
     "c1104251f11e48788651b18711ddd31e": {
      "model_module": "@jupyter-widgets/base",
      "model_module_version": "1.2.0",
      "model_name": "LayoutModel",
      "state": {}
     },
     "c11fe807070d479ca1487d924da93430": {
      "model_module": "@jupyter-widgets/controls",
      "model_module_version": "1.5.0",
      "model_name": "ButtonModel",
      "state": {
       "icon": "eye-slash",
       "layout": "IPY_MODEL_f4ee7e49432a40219517cbdd18608460",
       "style": "IPY_MODEL_8892b598ef034b44a3c69103a687cfa3",
       "tooltip": "removes temporary output view"
      }
     },
     "c125091520504983b457cbaca8a854f6": {
      "model_module": "@jupyter-widgets/controls",
      "model_module_version": "1.5.0",
      "model_name": "ButtonStyleModel",
      "state": {
       "font_weight": "bold"
      }
     },
     "c136cd10e9c94f418ce523dd9ed1512f": {
      "model_module": "@jupyter-widgets/controls",
      "model_module_version": "1.5.0",
      "model_name": "ButtonModel",
      "state": {
       "button_style": "success",
       "description": "run",
       "layout": "IPY_MODEL_33c3ddfcf1874cbcbb963a3b993e9a9d",
       "style": "IPY_MODEL_97f3d11d189f464da6e8b666dc3ca4a2",
       "tooltip": "execute the script based on the user inputs"
      }
     },
     "c14f44aff85948b4987fdb02a94ccc50": {
      "model_module": "@jupyter-widgets/controls",
      "model_module_version": "1.5.0",
      "model_name": "ButtonModel",
      "state": {
       "button_style": "info",
       "description": "show source code",
       "layout": "IPY_MODEL_defe243c26c444ccbc9c7a54e8bfb56e",
       "style": "IPY_MODEL_ed2d7502f9224af0bf95de10c92a007d",
       "tooltip": "shows the raw python code in the preview window below"
      }
     },
     "c16b9c60379d4abda23108c482179d8a": {
      "model_module": "@jupyter-widgets/controls",
      "model_module_version": "1.5.0",
      "model_name": "HBoxModel",
      "state": {
       "children": [
        "IPY_MODEL_f4b0e32d6c9e4ab0888b69e5d0b80fb6",
        "IPY_MODEL_647077af6395479b8d2612e04b1ba5d8"
       ],
       "layout": "IPY_MODEL_1251b400890c4ce4942a96bc6252da2c"
      }
     },
     "c17563411b624b8b943fa09308562abb": {
      "model_module": "@jupyter-widgets/controls",
      "model_module_version": "1.5.0",
      "model_name": "DescriptionStyleModel",
      "state": {
       "description_width": ""
      }
     },
     "c1aa05dd7b894003a13293b860883a91": {
      "model_module": "@jupyter-widgets/controls",
      "model_module_version": "1.5.0",
      "model_name": "ButtonStyleModel",
      "state": {
       "font_weight": "bold"
      }
     },
     "c1d2558dc13d46ee88058638a3747a3b": {
      "model_module": "@jupyter-widgets/base",
      "model_module_version": "1.2.0",
      "model_name": "LayoutModel",
      "state": {
       "width": "5%"
      }
     },
     "c1f387cd78ed494bb282c57eaae6bd2c": {
      "model_module": "@jupyter-widgets/controls",
      "model_module_version": "1.5.0",
      "model_name": "HBoxModel",
      "state": {
       "children": [
        "IPY_MODEL_156249079d2a40b89668012ce13e8c0e",
        "IPY_MODEL_f8e0c2dae6df46609c59e652e162a523"
       ],
       "layout": "IPY_MODEL_41586803f9844e13b2ac7fbd60b79b53"
      }
     },
     "c1f917acddde481f9cb5e250be93e3d3": {
      "model_module": "@jupyter-widgets/controls",
      "model_module_version": "1.5.0",
      "model_name": "ButtonModel",
      "state": {
       "icon": "question-circle",
       "layout": "IPY_MODEL_e75a90670d904794b71ee7fedae2b55a",
       "style": "IPY_MODEL_afd00afb18214a24be2dceda1a45eeec",
       "tooltip": "describes the functionality of elements in the RunApp interface"
      }
     },
     "c1fe6b529a034cd1bd4b77531ce6423a": {
      "model_module": "@jupyter-widgets/controls",
      "model_module_version": "1.5.0",
      "model_name": "ButtonStyleModel",
      "state": {
       "font_weight": "bold"
      }
     },
     "c2127379bc9545929cd17191e39925ba": {
      "model_module": "@jupyter-widgets/controls",
      "model_module_version": "1.5.0",
      "model_name": "DescriptionStyleModel",
      "state": {
       "description_width": ""
      }
     },
     "c2138fe73b6f4470aa6affcba969a5b9": {
      "model_module": "@jupyter-widgets/controls",
      "model_module_version": "1.5.0",
      "model_name": "ButtonStyleModel",
      "state": {
       "font_weight": "bold"
      }
     },
     "c2354fff23144a37bdb9508473e6aff1": {
      "model_module": "@jupyter-widgets/controls",
      "model_module_version": "1.5.0",
      "model_name": "AccordionModel",
      "state": {
       "_titles": {
        "0": "gbxml"
       },
       "children": [
        "IPY_MODEL_d68f20a850f24edeb1f97282c4b52936"
       ],
       "layout": "IPY_MODEL_849e14d3cabb4d9da1f71f3dfb2a2876",
       "selected_index": null
      }
     },
     "c249bf1097254b36b67c48554a5df473": {
      "model_module": "@jupyter-widgets/controls",
      "model_module_version": "1.5.0",
      "model_name": "DescriptionStyleModel",
      "state": {
       "description_width": ""
      }
     },
     "c249effe83e54b989bc8f48761bf83a8": {
      "model_module": "@jupyter-widgets/controls",
      "model_module_version": "1.5.0",
      "model_name": "HBoxModel",
      "state": {
       "children": [
        "IPY_MODEL_3c9a1e3d64d84dffa7bd33d941beba62",
        "IPY_MODEL_1ce896914bd84cb389973542728f4148",
        "IPY_MODEL_bdddefaf9a024626965eba7520e449d4",
        "IPY_MODEL_b046945e75684bbfa4f076ba7d9bcbba",
        "IPY_MODEL_ad066e16de8c457ea86605ee53be819c",
        "IPY_MODEL_943f19ccdef84ed59790391853b0867a",
        "IPY_MODEL_e0f04a45a5d541e5ba7ec328c57a2409"
       ],
       "layout": "IPY_MODEL_7573a09017784140b06bbe7ffca5ec2f"
      }
     },
     "c2642a2ebc7d42bcae4885a9465286ae": {
      "model_module": "@jupyter-widgets/base",
      "model_module_version": "1.2.0",
      "model_name": "LayoutModel",
      "state": {
       "width": "5%"
      }
     },
     "c276770f3d2f4a08b047888712a9666e": {
      "model_module": "@jupyter-widgets/base",
      "model_module_version": "1.2.0",
      "model_name": "LayoutModel",
      "state": {
       "width": "100%"
      }
     },
     "c28938d41e984e72832a459b30c2264f": {
      "model_module": "@jupyter-widgets/base",
      "model_module_version": "1.2.0",
      "model_name": "LayoutModel",
      "state": {}
     },
     "c28d159148a64ec5ae3169e3b954de21": {
      "model_module": "@jupyter-widgets/base",
      "model_module_version": "1.2.0",
      "model_name": "LayoutModel",
      "state": {}
     },
     "c2a36b7363574906a1f98c43d278e3d7": {
      "model_module": "@jupyter-widgets/base",
      "model_module_version": "1.2.0",
      "model_name": "LayoutModel",
      "state": {
       "height": "30px",
       "width": "auto"
      }
     },
     "c2a7cf4bed1d4cfe96d65932256c0fe5": {
      "model_module": "@jupyter-widgets/controls",
      "model_module_version": "1.5.0",
      "model_name": "ButtonStyleModel",
      "state": {
       "font_weight": "bold"
      }
     },
     "c2adbb64868245b6a95fb5aa356c8e8f": {
      "model_module": "@jupyter-widgets/controls",
      "model_module_version": "1.5.0",
      "model_name": "ButtonModel",
      "state": {
       "icon": "question-circle",
       "layout": "IPY_MODEL_a0c92cf517064cc7aed0ca42b480cf01",
       "style": "IPY_MODEL_9da96233917c4902850f1386ecc5a5ea",
       "tooltip": "describes the functionality of elements in the RunApp interface"
      }
     },
     "c2bf7c19273b4450b105734413d04b51": {
      "model_module": "@jupyter-widgets/base",
      "model_module_version": "1.2.0",
      "model_name": "LayoutModel",
      "state": {}
     },
     "c2e93282e6a24c1f88155ccec2adc6b7": {
      "model_module": "@jupyter-widgets/controls",
      "model_module_version": "1.5.0",
      "model_name": "ButtonStyleModel",
      "state": {
       "font_weight": "bold"
      }
     },
     "c2f483700c774aee8b1b4042f3fbb770": {
      "model_module": "@jupyter-widgets/controls",
      "model_module_version": "1.5.0",
      "model_name": "ButtonModel",
      "state": {
       "icon": "eye-slash",
       "layout": "IPY_MODEL_ae07867a51fa43638f96463b2f4ac22d",
       "style": "IPY_MODEL_cfae3a8583a549baae29ef52079072d5",
       "tooltip": "removes temporary output view"
      }
     },
     "c2f91b3b929d430791af120e1758fb3d": {
      "model_module": "@jupyter-widgets/base",
      "model_module_version": "1.2.0",
      "model_name": "LayoutModel",
      "state": {
       "height": "30px",
       "max_width": "30px",
       "padding": "3px"
      }
     },
     "c30183cb3fc04ccb9ef3ba8e6b2bd838": {
      "model_module": "@jupyter-widgets/controls",
      "model_module_version": "1.5.0",
      "model_name": "DescriptionStyleModel",
      "state": {
       "description_width": ""
      }
     },
     "c30855d5d2d04c97b57fa21e18ec90f3": {
      "model_module": "@jupyter-widgets/controls",
      "model_module_version": "1.5.0",
      "model_name": "DescriptionStyleModel",
      "state": {
       "description_width": ""
      }
     },
     "c330ca052e954dfc95b320419497ba0b": {
      "model_module": "@jupyter-widgets/controls",
      "model_module_version": "1.5.0",
      "model_name": "ButtonStyleModel",
      "state": {
       "font_weight": "bold"
      }
     },
     "c338aa1b91f64260b75cd7c7d5d2284e": {
      "model_module": "@jupyter-widgets/base",
      "model_module_version": "1.2.0",
      "model_name": "LayoutModel",
      "state": {
       "height": "30px",
       "width": "auto"
      }
     },
     "c35e1b4358ad4e77a4f6df99d110d70b": {
      "model_module": "@jupyter-widgets/base",
      "model_module_version": "1.2.0",
      "model_name": "LayoutModel",
      "state": {
       "height": "30px",
       "width": "auto"
      }
     },
     "c36f49b3eec44b03921b4dabf925a315": {
      "model_module": "@jupyter-widgets/controls",
      "model_module_version": "1.5.0",
      "model_name": "TextModel",
      "state": {
       "description": "script",
       "disabled": true,
       "layout": "IPY_MODEL_034f727cd56142449db48acbeb2a0360",
       "style": "IPY_MODEL_079e28efede14721bcf4f2a9d25e2d01",
       "value": "C:\\engDev\\git_mf\\MF_Toolbox\\dev\\mf_scripts\\eplus_pipework_params.py"
      }
     },
     "c37707f2b56e4f98b1b9d12ae90aa5c8": {
      "model_module": "@jupyter-widgets/controls",
      "model_module_version": "1.5.0",
      "model_name": "TextModel",
      "state": {
       "description": "inputs",
       "disabled": true,
       "layout": "IPY_MODEL_78f1c650481940d293b63c313e264ac3",
       "style": "IPY_MODEL_73c8ee87d7474c64bfa2a10c9c836de4",
       "value": "C:\\engDev\\git_mf\\ipyrun\\ipyrun\\appdata\\inputs\\inputs-docx_to_pdf.json"
      }
     },
     "c37f9946261e4f6fa60a07b0fa5aead2": {
      "model_module": "@jupyter-widgets/controls",
      "model_module_version": "1.5.0",
      "model_name": "CheckboxModel",
      "state": {
       "disabled": false,
       "indent": false,
       "layout": "IPY_MODEL_a8201e6de92145c49ca0135da8b94871",
       "style": "IPY_MODEL_aa655dfa2bc244188531374421c58cd1",
       "value": false
      }
     },
     "c38755f5cd7d4e5d8a98c95c644669c7": {
      "model_module": "@jupyter-widgets/controls",
      "model_module_version": "1.5.0",
      "model_name": "ButtonStyleModel",
      "state": {
       "font_weight": "bold"
      }
     },
     "c3b10b10d5cd433c9e6ab159c9fa838e": {
      "model_module": "@jupyter-widgets/controls",
      "model_module_version": "1.5.0",
      "model_name": "VBoxModel",
      "state": {
       "children": [
        "IPY_MODEL_2a081a315ab64800be119e43a0d5f877",
        "IPY_MODEL_558d6ab71f514e168feb208baee1c0c2",
        "IPY_MODEL_f789d139a58e4f32823ee6d2c6a37c30"
       ],
       "layout": "IPY_MODEL_36a7179328fb4c169c24a4b5fc749abf"
      }
     },
     "c3b6d989d6ce45b6b5dd7a6d50a091b9": {
      "model_module": "@jupyter-widgets/controls",
      "model_module_version": "1.5.0",
      "model_name": "ButtonStyleModel",
      "state": {
       "font_weight": "bold"
      }
     },
     "c3d11795c13545df9042572fe76bd533": {
      "model_module": "@jupyter-widgets/controls",
      "model_module_version": "1.5.0",
      "model_name": "DescriptionStyleModel",
      "state": {
       "description_width": ""
      }
     },
     "c3e434358f9040bdbf150022ad29b39c": {
      "model_module": "@jupyter-widgets/controls",
      "model_module_version": "1.5.0",
      "model_name": "ButtonStyleModel",
      "state": {}
     },
     "c3e883da0ca44e58afcbe83ddaddf94c": {
      "model_module": "@jupyter-widgets/controls",
      "model_module_version": "1.5.0",
      "model_name": "ButtonModel",
      "state": {
       "button_style": "info",
       "description": "preview outputs",
       "layout": "IPY_MODEL_8072ea4e7f1a466dbd7ea13b07dd502d",
       "style": "IPY_MODEL_91aba0d78c374837b46e144c858270af",
       "tooltip": "show a preview of the output files generated when the script runs"
      }
     },
     "c3e9ccbd5342480aa5d9e2ad26fdc77d": {
      "model_module": "@jupyter-widgets/controls",
      "model_module_version": "1.5.0",
      "model_name": "DescriptionStyleModel",
      "state": {
       "description_width": ""
      }
     },
     "c40865e0369f4ab99a78f7cc728f7cd4": {
      "model_module": "@jupyter-widgets/base",
      "model_module_version": "1.2.0",
      "model_name": "LayoutModel",
      "state": {}
     },
     "c409f339c3ba49db9674c4d68eb0ae76": {
      "model_module": "@jupyter-widgets/base",
      "model_module_version": "1.2.0",
      "model_name": "LayoutModel",
      "state": {
       "align_items": "stretch",
       "width": "100%"
      }
     },
     "c4119c0fe7de4ed293219b612b09ba51": {
      "model_module": "@jupyter-widgets/base",
      "model_module_version": "1.2.0",
      "model_name": "LayoutModel",
      "state": {}
     },
     "c42d614dd16f43e98bba4f2a5e889f52": {
      "model_module": "@jupyter-widgets/controls",
      "model_module_version": "1.5.0",
      "model_name": "DescriptionStyleModel",
      "state": {
       "description_width": ""
      }
     },
     "c4404fada4464d2aabd63c120427ea3b": {
      "model_module": "@jupyter-widgets/controls",
      "model_module_version": "1.5.0",
      "model_name": "ButtonStyleModel",
      "state": {
       "font_weight": "bold"
      }
     },
     "c455de4626da42509645c4ba669a5e04": {
      "model_module": "@jupyter-widgets/controls",
      "model_module_version": "1.5.0",
      "model_name": "AccordionModel",
      "state": {
       "_titles": {
        "0": "docx_to_pdf"
       },
       "children": [
        "IPY_MODEL_5e5c7cbe6e094af58fa9c91604c013c7"
       ],
       "layout": "IPY_MODEL_c276770f3d2f4a08b047888712a9666e",
       "selected_index": null
      }
     },
     "c458a052a8de44b19fbcbfbee2786ba3": {
      "model_module": "@jupyter-widgets/controls",
      "model_module_version": "1.5.0",
      "model_name": "ButtonStyleModel",
      "state": {
       "font_weight": "bold"
      }
     },
     "c46ebfdd880f43d6b41cc288feab36ea": {
      "model_module": "@jupyter-widgets/controls",
      "model_module_version": "1.5.0",
      "model_name": "ButtonStyleModel",
      "state": {}
     },
     "c492914031a449cfa43bcc74d42db959": {
      "model_module": "@jupyter-widgets/base",
      "model_module_version": "1.2.0",
      "model_name": "LayoutModel",
      "state": {}
     },
     "c493941c96b14a7095a2dd0579eb9f43": {
      "model_module": "@jupyter-widgets/controls",
      "model_module_version": "1.5.0",
      "model_name": "ButtonStyleModel",
      "state": {
       "font_weight": "bold"
      }
     },
     "c4a7879b3cf14e3b84a4ceadc939b62c": {
      "model_module": "@jupyter-widgets/controls",
      "model_module_version": "1.5.0",
      "model_name": "BoxModel",
      "state": {
       "children": [
        "IPY_MODEL_b46993e2df074bf2bc97b5e435525b65"
       ],
       "layout": "IPY_MODEL_10cd9e40e4b842519090c3974b623434"
      }
     },
     "c4c0cfd70f944a7ab1d4f32503d73359": {
      "model_module": "@jupyter-widgets/controls",
      "model_module_version": "1.5.0",
      "model_name": "ButtonStyleModel",
      "state": {
       "font_weight": "bold"
      }
     },
     "c4cff68c189e4a3b8b7790d29d934d99": {
      "model_module": "@jupyter-widgets/controls",
      "model_module_version": "1.5.0",
      "model_name": "ButtonModel",
      "state": {
       "button_style": "warning",
       "description": "edit inputs",
       "layout": "IPY_MODEL_1e3ac695eaef418e998ce2949f5b526f",
       "style": "IPY_MODEL_3bf9e2426fce4a3aa4244f6d544dbdcd",
       "tooltip": "edit the user input information that is used when the script is executed"
      }
     },
     "c4e45071bb964265968bb191762404f1": {
      "model_module": "@jupyter-widgets/base",
      "model_module_version": "1.2.0",
      "model_name": "LayoutModel",
      "state": {}
     },
     "c4e993b873ce4c76ad180bf2838c0934": {
      "model_module": "@jupyter-widgets/controls",
      "model_module_version": "1.5.0",
      "model_name": "ButtonModel",
      "state": {
       "button_style": "success",
       "description": "run",
       "layout": "IPY_MODEL_876a978834164885953677020eab7340",
       "style": "IPY_MODEL_3d3e156b0a1b4666a819c960b61ba37d",
       "tooltip": "execute the script based on the user inputs"
      }
     },
     "c4efca93958d48448917c57159a74c8c": {
      "model_module": "@jupyter-widgets/controls",
      "model_module_version": "1.5.0",
      "model_name": "ButtonModel",
      "state": {
       "button_style": "info",
       "description": "show guide",
       "layout": "IPY_MODEL_96280ec3e4b743038d8ddcb7afda37f8",
       "style": "IPY_MODEL_e550e54ea0c34f0ca73332165bc01fe3",
       "tooltip": "read the \"docstring\", ie. the documentation that was written to accompany the script"
      }
     },
     "c5015cc52c67414384f75f12603fc2a2": {
      "model_module": "@jupyter-widgets/controls",
      "model_module_version": "1.5.0",
      "model_name": "DescriptionStyleModel",
      "state": {
       "description_width": ""
      }
     },
     "c520a7ae884d413cad1a529572390645": {
      "model_module": "@jupyter-widgets/controls",
      "model_module_version": "1.5.0",
      "model_name": "VBoxModel",
      "state": {
       "children": [
        "IPY_MODEL_23d183412e85427fa9e702389dd91fcd",
        "IPY_MODEL_5daec17abdfb46c89acc15b958957aa0"
       ],
       "layout": "IPY_MODEL_6919ea3e07bb4313aa2a7faedbe2e0c2"
      }
     },
     "c52f5ec4699c4e439f545bd79bc99ef4": {
      "model_module": "@jupyter-widgets/controls",
      "model_module_version": "1.5.0",
      "model_name": "ButtonStyleModel",
      "state": {}
     },
     "c5347927b12f4463aa3906642042d6ab": {
      "model_module": "@jupyter-widgets/base",
      "model_module_version": "1.2.0",
      "model_name": "LayoutModel",
      "state": {}
     },
     "c548b3bc6ba846c69eb8fdfe7a71c501": {
      "model_module": "@jupyter-widgets/base",
      "model_module_version": "1.2.0",
      "model_name": "LayoutModel",
      "state": {
       "width": "5%"
      }
     },
     "c559ef8994154fac84d8d4a0b1f69f63": {
      "model_module": "@jupyter-widgets/controls",
      "model_module_version": "1.5.0",
      "model_name": "CheckboxModel",
      "state": {
       "disabled": false,
       "indent": false,
       "layout": "IPY_MODEL_fd611039c19048e4b870157775a144a1",
       "style": "IPY_MODEL_b599a8ba3c4e4ba0ad315bd1924834d0",
       "value": false
      }
     },
     "c58f0bb856124b6e80aead03c5c7a48e": {
      "model_module": "@jupyter-widgets/controls",
      "model_module_version": "1.5.0",
      "model_name": "DescriptionStyleModel",
      "state": {
       "description_width": ""
      }
     },
     "c5d1ed96b7ac4b3fb38fee1075802b57": {
      "model_module": "@jupyter-widgets/controls",
      "model_module_version": "1.5.0",
      "model_name": "ButtonModel",
      "state": {
       "button_style": "warning",
       "description": "edit inputs",
       "layout": "IPY_MODEL_c4119c0fe7de4ed293219b612b09ba51",
       "style": "IPY_MODEL_d017368d595c4ec2aeeccfc94dcc235d",
       "tooltip": "edit the user input information that is used when the script is executed"
      }
     },
     "c5fcabfe4a3d4fe4be0026571b4ec481": {
      "model_module": "@jupyter-widgets/controls",
      "model_module_version": "1.5.0",
      "model_name": "ButtonStyleModel",
      "state": {
       "font_weight": "bold"
      }
     },
     "c5ffcf69edcc4818bf3064cf706e7b25": {
      "model_module": "@jupyter-widgets/base",
      "model_module_version": "1.2.0",
      "model_name": "LayoutModel",
      "state": {}
     },
     "c67f7b66fcde4b939d885637ac97a5e7": {
      "model_module": "@jupyter-widgets/controls",
      "model_module_version": "1.5.0",
      "model_name": "SelectMultipleModel",
      "state": {
       "_options_labels": [
        "C:\\engDev\\git_mf\\ipyrun\\data\\external\\eplus_pipework_params.csv"
       ],
       "description": "outputs",
       "index": [],
       "layout": "IPY_MODEL_6341bb561dd24834a9d0b6172a13662b",
       "rows": 4,
       "style": "IPY_MODEL_d69eb18b840c4f95aeb34754c7fb81a3"
      }
     },
     "c692607e73e641eaaca5f15dae43f349": {
      "model_module": "@jupyter-widgets/controls",
      "model_module_version": "1.5.0",
      "model_name": "VBoxModel",
      "state": {
       "children": [
        "IPY_MODEL_77539c5ead2f40d094ababc6c9815c9e",
        "IPY_MODEL_e08f4f31b9e0495e945ce97ddb573a37"
       ],
       "layout": "IPY_MODEL_d570137e78054b448bfd4b038b371b15"
      }
     },
     "c69ef3d9709740e9a591aab7035f96e1": {
      "model_module": "@jupyter-widgets/controls",
      "model_module_version": "1.5.0",
      "model_name": "DescriptionStyleModel",
      "state": {
       "description_width": ""
      }
     },
     "c6aa649f4d8f4005881878541470ec5c": {
      "model_module": "@jupyter-widgets/base",
      "model_module_version": "1.2.0",
      "model_name": "LayoutModel",
      "state": {}
     },
     "c6d9f90a20264df3bdce0e9ef9ccc0fc": {
      "model_module": "@jupyter-widgets/controls",
      "model_module_version": "1.5.0",
      "model_name": "ButtonModel",
      "state": {
       "icon": "eye-slash",
       "layout": "IPY_MODEL_8fbc10c64a5e4cfe8cfe83ee3a8a9131",
       "style": "IPY_MODEL_af23504d29c44cd0a84d564549f064dd",
       "tooltip": "removes temporary output view"
      }
     },
     "c6ef66afc9ca4cc3bc8fadea0a2b3d84": {
      "model_module": "@jupyter-widgets/controls",
      "model_module_version": "1.5.0",
      "model_name": "BoxModel",
      "state": {
       "children": [
        "IPY_MODEL_f2e5d9c00de64a4284a90f4c1f4e782b"
       ],
       "layout": "IPY_MODEL_d2eb46ec9fa54d57b7c8148b4f03e90b"
      }
     },
     "c6f01f4bdc924e3bab7fbb9e7e54ccbe": {
      "model_module": "@jupyter-widgets/base",
      "model_module_version": "1.2.0",
      "model_name": "LayoutModel",
      "state": {}
     },
     "c736f437416e4f64a16b5aa65d1d7e1c": {
      "model_module": "@jupyter-widgets/controls",
      "model_module_version": "1.5.0",
      "model_name": "ButtonStyleModel",
      "state": {
       "font_weight": "bold"
      }
     },
     "c76266a399a74c8593155b319f63da35": {
      "model_module": "@jupyter-widgets/base",
      "model_module_version": "1.2.0",
      "model_name": "LayoutModel",
      "state": {
       "align_items": "stretch",
       "width": "100%"
      }
     },
     "c76d79d885e047ff94e82c769587fd69": {
      "model_module": "@jupyter-widgets/controls",
      "model_module_version": "1.5.0",
      "model_name": "ButtonModel",
      "state": {
       "button_style": "info",
       "description": "show guide",
       "layout": "IPY_MODEL_e9f8951301e74fecb88338bd289b1ec9",
       "style": "IPY_MODEL_2ad8e86ffe414ac685d6666ba182cacb",
       "tooltip": "read the \"docstring\", ie. the documentation that was written to accompany the script"
      }
     },
     "c7aea1b4c67745ba9878a3bef690719a": {
      "model_module": "@jupyter-widgets/controls",
      "model_module_version": "1.5.0",
      "model_name": "CheckboxModel",
      "state": {
       "disabled": false,
       "indent": false,
       "layout": "IPY_MODEL_b75a6687c537426f9cfdd22117b30651",
       "style": "IPY_MODEL_a7977d28c2bb4ddaaf95053687b92f2f",
       "value": false
      }
     },
     "c7b2c5580f564aeda71f2a02507eefd2": {
      "model_module": "@jupyter-widgets/base",
      "model_module_version": "1.2.0",
      "model_name": "LayoutModel",
      "state": {}
     },
     "c7c59fa0a9da476b87bf77e5d1579002": {
      "model_module": "@jupyter-widgets/controls",
      "model_module_version": "1.5.0",
      "model_name": "ButtonStyleModel",
      "state": {
       "font_weight": "bold"
      }
     },
     "c7dda15ea65a483b8b6642c944800d92": {
      "model_module": "@jupyter-widgets/controls",
      "model_module_version": "1.5.0",
      "model_name": "ButtonModel",
      "state": {
       "icon": "eye-slash",
       "layout": "IPY_MODEL_ffb71446e4cf4b5e9518090454f70a87",
       "style": "IPY_MODEL_6146deda2c6e4b8a8936b45116e9f185",
       "tooltip": "removes temporary output view"
      }
     },
     "c80779bd20ec441e972116ac5c465b71": {
      "model_module": "@jupyter-widgets/base",
      "model_module_version": "1.2.0",
      "model_name": "LayoutModel",
      "state": {}
     },
     "c82d0aad57ac49dca0e4e09610f0cd36": {
      "model_module": "@jupyter-widgets/controls",
      "model_module_version": "1.5.0",
      "model_name": "ButtonStyleModel",
      "state": {
       "font_weight": "bold"
      }
     },
     "c842c7e7867a4002ac07a68c80cbaf2f": {
      "model_module": "@jupyter-widgets/controls",
      "model_module_version": "1.5.0",
      "model_name": "ButtonStyleModel",
      "state": {
       "font_weight": "bold"
      }
     },
     "c845f64f05df446e8a399737bf0d7377": {
      "model_module": "@jupyter-widgets/controls",
      "model_module_version": "1.5.0",
      "model_name": "DescriptionStyleModel",
      "state": {
       "description_width": ""
      }
     },
     "c862a743f24f4256b838b85dc82544b8": {
      "model_module": "@jupyter-widgets/base",
      "model_module_version": "1.2.0",
      "model_name": "LayoutModel",
      "state": {}
     },
     "c867c8ae0fab42a8a500912eee62bc30": {
      "model_module": "@jupyter-widgets/controls",
      "model_module_version": "1.5.0",
      "model_name": "ButtonModel",
      "state": {
       "button_style": "success",
       "description": "run",
       "layout": "IPY_MODEL_e58fc5d293124b4fa0ec943b37f60814",
       "style": "IPY_MODEL_d9d498cfa1214c86b8d0869bb685795b",
       "tooltip": "execute the script based on the user inputs"
      }
     },
     "c86bd7988abb4d29a7f9992b365a38f6": {
      "model_module": "@jupyter-widgets/base",
      "model_module_version": "1.2.0",
      "model_name": "LayoutModel",
      "state": {
       "height": "30px",
       "width": "auto"
      }
     },
     "c87c7ca0e3a84e6385e72aa6c6de56d4": {
      "model_module": "@jupyter-widgets/base",
      "model_module_version": "1.2.0",
      "model_name": "LayoutModel",
      "state": {
       "height": "30px",
       "width": "auto"
      }
     },
     "c8821455d44b426ca95615dbd88899ae": {
      "model_module": "@jupyter-widgets/controls",
      "model_module_version": "1.5.0",
      "model_name": "SelectMultipleModel",
      "state": {
       "_options_labels": [
        "C:\\engDev\\git_mf\\ipyrun\\data\\external\\eplus_pipework_params.csv"
       ],
       "description": "outputs",
       "index": [],
       "layout": "IPY_MODEL_c35e1b4358ad4e77a4f6df99d110d70b",
       "rows": 4,
       "style": "IPY_MODEL_877703f223f647bc83d5252c7b0b43cc"
      }
     },
     "c8896abc76484909b9b72f8e51e1aacc": {
      "model_module": "@jupyter-widgets/controls",
      "model_module_version": "1.5.0",
      "model_name": "ButtonStyleModel",
      "state": {}
     },
     "c8b364dbcf804461aaf2d4430ce25b10": {
      "model_module": "@jupyter-widgets/base",
      "model_module_version": "1.2.0",
      "model_name": "LayoutModel",
      "state": {}
     },
     "c8b415b689414423959333e1c540dd34": {
      "model_module": "@jupyter-widgets/controls",
      "model_module_version": "1.5.0",
      "model_name": "ButtonModel",
      "state": {
       "icon": "question-circle",
       "layout": "IPY_MODEL_f3eff1e5d64f4376bdcd568a39aaf073",
       "style": "IPY_MODEL_96c3495dd25d4ad6880b681ef3c2542a",
       "tooltip": "describes the functionality of elements in the RunApp interface"
      }
     },
     "c8b7cecf4d68453bacaaa52bee58d2fb": {
      "model_module": "@jupyter-widgets/controls",
      "model_module_version": "1.5.0",
      "model_name": "ButtonModel",
      "state": {
       "button_style": "warning",
       "description": "edit inputs",
       "layout": "IPY_MODEL_0ca6b1fe222b40769090ffe408130e10",
       "style": "IPY_MODEL_0628afa094e14ca2bd509bc5966863b2",
       "tooltip": "edit the user input information that is used when the script is executed"
      }
     },
     "c8c4e58c05614e13bbf2be203ec72311": {
      "model_module": "@jupyter-widgets/controls",
      "model_module_version": "1.5.0",
      "model_name": "ButtonStyleModel",
      "state": {
       "font_weight": "bold"
      }
     },
     "c8d9b961225441ad974f24ae1aec7791": {
      "model_module": "@jupyter-widgets/base",
      "model_module_version": "1.2.0",
      "model_name": "LayoutModel",
      "state": {
       "height": "30px",
       "max_width": "30px",
       "padding": "3px"
      }
     },
     "c8dfbc49fbaa47518d0eec064175dcbf": {
      "model_module": "@jupyter-widgets/controls",
      "model_module_version": "1.5.0",
      "model_name": "ButtonStyleModel",
      "state": {
       "font_weight": "bold"
      }
     },
     "c8f11134077a4d9f86fe98be7ad61b78": {
      "model_module": "@jupyter-widgets/controls",
      "model_module_version": "1.5.0",
      "model_name": "ButtonStyleModel",
      "state": {
       "font_weight": "bold"
      }
     },
     "c8fbd1d8a5dd4cb0804111ea55f22384": {
      "model_module": "@jupyter-widgets/base",
      "model_module_version": "1.2.0",
      "model_name": "LayoutModel",
      "state": {}
     },
     "c9059bab99d341be95858a49984e9c10": {
      "model_module": "@jupyter-widgets/controls",
      "model_module_version": "1.5.0",
      "model_name": "DescriptionStyleModel",
      "state": {
       "description_width": ""
      }
     },
     "c90b46b8c24945a3ac39b49db5bf6372": {
      "model_module": "@jupyter-widgets/controls",
      "model_module_version": "1.5.0",
      "model_name": "ButtonStyleModel",
      "state": {
       "font_weight": "bold"
      }
     },
     "c90ecbf20ec14bcbbd01165370f13794": {
      "model_module": "@jupyter-widgets/controls",
      "model_module_version": "1.5.0",
      "model_name": "ButtonModel",
      "state": {
       "button_style": "info",
       "description": "show source code",
       "layout": "IPY_MODEL_2e0a9da053544ccaaf129dba5cf34961",
       "style": "IPY_MODEL_213a53af98f24b68b1f97745b4ead0bd",
       "tooltip": "shows the raw python code in the preview window below"
      }
     },
     "c912acd104794a73931be4d6c59961e2": {
      "model_module": "@jupyter-widgets/base",
      "model_module_version": "1.2.0",
      "model_name": "LayoutModel",
      "state": {}
     },
     "c931a4feab7d48b9a00b7bcd2ad05cec": {
      "model_module": "@jupyter-widgets/controls",
      "model_module_version": "1.5.0",
      "model_name": "CheckboxModel",
      "state": {
       "disabled": false,
       "indent": false,
       "layout": "IPY_MODEL_d79acdcd414f4a8b92e3229dda6b48b5",
       "style": "IPY_MODEL_5f86f10c5e3f4485a874846c53cb172c",
       "value": false
      }
     },
     "c932d0e33fb2412ba97a4a998c2d4f9e": {
      "model_module": "@jupyter-widgets/controls",
      "model_module_version": "1.5.0",
      "model_name": "HBoxModel",
      "state": {
       "children": [
        "IPY_MODEL_914e771491ba4dbfabdbec8ec931a3d3",
        "IPY_MODEL_26c8e21ae505436fab304efb33349a91",
        "IPY_MODEL_dace86f83a5443f08917b83f6009012e",
        "IPY_MODEL_35c3e152fb1f491e82e89a1f5b048207",
        "IPY_MODEL_21bca2508a4e4b17a026ae81a7502477",
        "IPY_MODEL_a67849c49f314180b34bdf01cd9d9001",
        "IPY_MODEL_6e34ffa859494839bcec30fe8c5f3c4e"
       ],
       "layout": "IPY_MODEL_44a404d85f584f5f8180693ac5771631"
      }
     },
     "c933c682fea14090aad854ce8865664a": {
      "model_module": "@jupyter-widgets/controls",
      "model_module_version": "1.5.0",
      "model_name": "CheckboxModel",
      "state": {
       "disabled": false,
       "indent": false,
       "layout": "IPY_MODEL_8d21aae77b924d3ea52ae27f2fc2fe45",
       "style": "IPY_MODEL_8a67dcb6eec4450383f5e388996c1d34",
       "value": false
      }
     },
     "c9650f04a0804bceb4d74749074a6cb5": {
      "model_module": "@jupyter-widgets/controls",
      "model_module_version": "1.5.0",
      "model_name": "CheckboxModel",
      "state": {
       "disabled": false,
       "indent": false,
       "layout": "IPY_MODEL_9c33b28e96fe4e2c842c674527cbe7b0",
       "style": "IPY_MODEL_b439894f91b74dd5b9dd9f4f7f443bce",
       "value": false
      }
     },
     "c97667620737445d9d7b3fc0fabaf949": {
      "model_module": "@jupyter-widgets/controls",
      "model_module_version": "1.5.0",
      "model_name": "HBoxModel",
      "state": {
       "children": [
        "IPY_MODEL_99604dbae1514330a99a1adc7d7694e9",
        "IPY_MODEL_94365702fda2406a91b21109ab632dc1",
        "IPY_MODEL_e54933adea6a43f5a52ba9ec88dec3f7"
       ],
       "layout": "IPY_MODEL_ead4a3db797c423c909837ff63e124ca"
      }
     },
     "c976e921ef564a0383a553396d61252f": {
      "model_module": "@jupyter-widgets/base",
      "model_module_version": "1.2.0",
      "model_name": "LayoutModel",
      "state": {}
     },
     "c99dac3f44c94662bf4939c76befcb0f": {
      "model_module": "@jupyter-widgets/controls",
      "model_module_version": "1.5.0",
      "model_name": "ButtonStyleModel",
      "state": {
       "font_weight": "bold"
      }
     },
     "c9a7ca87413a455b9cf4d2bc9bc42cd8": {
      "model_module": "@jupyter-widgets/base",
      "model_module_version": "1.2.0",
      "model_name": "LayoutModel",
      "state": {}
     },
     "c9c4c784244c44db8e928d7e9f6adf45": {
      "model_module": "@jupyter-widgets/base",
      "model_module_version": "1.2.0",
      "model_name": "LayoutModel",
      "state": {}
     },
     "c9cf4254a04744e4a37af1b82f321d33": {
      "model_module": "@jupyter-widgets/controls",
      "model_module_version": "1.5.0",
      "model_name": "ButtonStyleModel",
      "state": {
       "font_weight": "bold"
      }
     },
     "c9e77b82fc1d46b2a7c92183cacfb610": {
      "model_module": "@jupyter-widgets/controls",
      "model_module_version": "1.5.0",
      "model_name": "HBoxModel",
      "state": {
       "children": [
        "IPY_MODEL_5c99865e764741078a02326bad3882f4",
        "IPY_MODEL_dc33c04c1a794035a6fa4d62cd378ca8"
       ],
       "layout": "IPY_MODEL_4cccc50c9be2429694bb83aa383824c7"
      }
     },
     "c9ebd6f9e9054464a4f1ee1a488b6388": {
      "model_module": "@jupyter-widgets/controls",
      "model_module_version": "1.5.0",
      "model_name": "DescriptionStyleModel",
      "state": {
       "description_width": ""
      }
     },
     "c9eefd58a16a47969fc206e555e552fb": {
      "model_module": "@jupyter-widgets/controls",
      "model_module_version": "1.5.0",
      "model_name": "DescriptionStyleModel",
      "state": {
       "description_width": ""
      }
     },
     "c9f20b5129014b93ae40c89817fad9c3": {
      "model_module": "@jupyter-widgets/base",
      "model_module_version": "1.2.0",
      "model_name": "LayoutModel",
      "state": {
       "border": "0px",
       "margin": "0px",
       "padding": "0px"
      }
     },
     "ca211d82544b480dbaa68577604a78b1": {
      "model_module": "@jupyter-widgets/controls",
      "model_module_version": "1.5.0",
      "model_name": "TextModel",
      "state": {
       "description": "inputs",
       "disabled": true,
       "layout": "IPY_MODEL_5b70ca3a06194147ab0d98b568ba4f19",
       "style": "IPY_MODEL_ad8eefdc1ec344af91673bcd881cfb3c",
       "value": "C:\\engDev\\git_mf\\ipyrun\\ipyrun\\notebooks\\appdata\\inputs\\inputs-eplus_pipework_params.csv"
      }
     },
     "ca32477139e34ba1b483ed772e46b41c": {
      "model_module": "@jupyter-widgets/base",
      "model_module_version": "1.2.0",
      "model_name": "LayoutModel",
      "state": {}
     },
     "ca39ef2a0f004d37bc860dfc19aada9e": {
      "model_module": "@jupyter-widgets/controls",
      "model_module_version": "1.5.0",
      "model_name": "ButtonModel",
      "state": {
       "button_style": "info",
       "description": "show guide",
       "layout": "IPY_MODEL_64a882928d9b437392d63829fc6b26f9",
       "style": "IPY_MODEL_bcce97aea16e422782ad4b186d0208b4",
       "tooltip": "read the \"docstring\", ie. the documentation that was written to accompany the script"
      }
     },
     "ca3a95c6d5da4e0c9949963ff7d5b6e3": {
      "model_module": "@jupyter-widgets/controls",
      "model_module_version": "1.5.0",
      "model_name": "ButtonStyleModel",
      "state": {
       "font_weight": "bold"
      }
     },
     "ca4813b24bc14475bdfda0dfd5dbf23a": {
      "model_module": "@jupyter-widgets/controls",
      "model_module_version": "1.5.0",
      "model_name": "DescriptionStyleModel",
      "state": {
       "description_width": ""
      }
     },
     "ca4a08bbbfe2452bb38a17c93c48a632": {
      "model_module": "@jupyter-widgets/base",
      "model_module_version": "1.2.0",
      "model_name": "LayoutModel",
      "state": {}
     },
     "ca5bd3a074924434bc829e38d44b5266": {
      "model_module": "@jupyter-widgets/controls",
      "model_module_version": "1.5.0",
      "model_name": "AccordionModel",
      "state": {
       "_titles": {
        "0": "eplus_pipework_params"
       },
       "children": [
        "IPY_MODEL_bb588cbba6644bb8aa1b7168878e54b4"
       ],
       "layout": "IPY_MODEL_5c3b47ad171d4972bf78d82f01c3b598",
       "selected_index": null
      }
     },
     "ca657aec312d46629f56934d01b4c613": {
      "model_module": "@jupyter-widgets/controls",
      "model_module_version": "1.5.0",
      "model_name": "ButtonStyleModel",
      "state": {}
     },
     "ca6acf2deb7c45228f2b47202c9ad8cf": {
      "model_module": "@jupyter-widgets/base",
      "model_module_version": "1.2.0",
      "model_name": "LayoutModel",
      "state": {}
     },
     "ca7e161ee023498fa654b36b6e3e46ca": {
      "model_module": "@jupyter-widgets/controls",
      "model_module_version": "1.5.0",
      "model_name": "ButtonStyleModel",
      "state": {
       "font_weight": "bold"
      }
     },
     "ca9440790c6d4ef782bd1c829b37adc8": {
      "model_module": "@jupyter-widgets/controls",
      "model_module_version": "1.5.0",
      "model_name": "HBoxModel",
      "state": {
       "children": [
        "IPY_MODEL_49447299d16b4faa9e380a94b4169d53",
        "IPY_MODEL_5a9711987ff64f938fab67569beaba2b",
        "IPY_MODEL_7351cd7e4c304b87bb845e21f41edd5e",
        "IPY_MODEL_e57235de963f46789dca3a5b12e822df",
        "IPY_MODEL_d0560c190f3c4d21b3565996893702b3",
        "IPY_MODEL_1c461528155f4bb6a8271f9a1e51b754",
        "IPY_MODEL_3068b0ba06f04987be43e5d582a599bb"
       ],
       "layout": "IPY_MODEL_7fd11c7e747443998c93f429823eb7b1"
      }
     },
     "caa5ce22ae2445cab0e4f87b8ac5f9fd": {
      "model_module": "@jupyter-widgets/controls",
      "model_module_version": "1.5.0",
      "model_name": "DescriptionStyleModel",
      "state": {
       "description_width": ""
      }
     },
     "cab605b807db4df88dbfb8a548a035d6": {
      "model_module": "@jupyter-widgets/controls",
      "model_module_version": "1.5.0",
      "model_name": "DescriptionStyleModel",
      "state": {
       "description_width": ""
      }
     },
     "cb0540882e9f4343bcbf5355c0092319": {
      "model_module": "@jupyter-widgets/base",
      "model_module_version": "1.2.0",
      "model_name": "LayoutModel",
      "state": {}
     },
     "cb378cefb68f42449f9e82d33fe4d01f": {
      "model_module": "@jupyter-widgets/base",
      "model_module_version": "1.2.0",
      "model_name": "LayoutModel",
      "state": {}
     },
     "cb4bc36e66f749c4a3a8901dd5e15bc8": {
      "model_module": "@jupyter-widgets/output",
      "model_module_version": "1.0.0",
      "model_name": "OutputModel",
      "state": {
       "layout": "IPY_MODEL_40f5a70222ed4a278c2a098c8d83b4ea"
      }
     },
     "cbe3d58fd32f4b8ca76f0cbc8c3c76cc": {
      "model_module": "@jupyter-widgets/base",
      "model_module_version": "1.2.0",
      "model_name": "LayoutModel",
      "state": {
       "width": "100%"
      }
     },
     "cbe685ea4c6f4359af5eea53755512d9": {
      "model_module": "@jupyter-widgets/controls",
      "model_module_version": "1.5.0",
      "model_name": "VBoxModel",
      "state": {
       "children": [
        "IPY_MODEL_073cce6f09a24f3babe1bbcf7da3b90a",
        "IPY_MODEL_6501e29b8e78429b85a2fcc58da0e9ee",
        "IPY_MODEL_73edbb9a902840f0aafb136edb29b17b"
       ],
       "layout": "IPY_MODEL_b1ac16baeeb94049aed7d6e0f3c7c1b4"
      }
     },
     "cbf705dc5ba84d61a7df352ce7d181d0": {
      "model_module": "@jupyter-widgets/base",
      "model_module_version": "1.2.0",
      "model_name": "LayoutModel",
      "state": {
       "align_items": "stretch",
       "width": "100%"
      }
     },
     "cc119f06397f4f7682154c965308e8e4": {
      "model_module": "@jupyter-widgets/controls",
      "model_module_version": "1.5.0",
      "model_name": "DescriptionStyleModel",
      "state": {
       "description_width": ""
      }
     },
     "cc146ba151914aefb3fb9f1cbd0f69a4": {
      "model_module": "@jupyter-widgets/controls",
      "model_module_version": "1.5.0",
      "model_name": "ButtonModel",
      "state": {
       "button_style": "info",
       "description": "show guide",
       "layout": "IPY_MODEL_4439ce1566614ee7b19b5c48e1542f5d",
       "style": "IPY_MODEL_04b2c7527c8f42a096532e7f66bed750",
       "tooltip": "read the \"docstring\", ie. the documentation that was written to accompany the script"
      }
     },
     "cc1e492b62a44d0083e0d481711a4294": {
      "model_module": "@jupyter-widgets/controls",
      "model_module_version": "1.5.0",
      "model_name": "VBoxModel",
      "state": {
       "children": [
        "IPY_MODEL_b0cc94747afd4d86b1c5189d121de1d1",
        "IPY_MODEL_e24a75ad44bb4276b55a4a2477906930",
        "IPY_MODEL_d91355c65deb4566bdb31a3bf7d7f5db"
       ],
       "layout": "IPY_MODEL_8fa9132586c0401ca440af97d7bb8c0d"
      }
     },
     "cc521813ca1e47db85282db69273362b": {
      "model_module": "@jupyter-widgets/base",
      "model_module_version": "1.2.0",
      "model_name": "LayoutModel",
      "state": {
       "align_items": "stretch",
       "width": "100%"
      }
     },
     "cc7f076d5bec41929c90a3ff9a387480": {
      "model_module": "@jupyter-widgets/controls",
      "model_module_version": "1.5.0",
      "model_name": "ButtonStyleModel",
      "state": {
       "font_weight": "bold"
      }
     },
     "cc9dd60dada341578367f31e1739798f": {
      "model_module": "@jupyter-widgets/controls",
      "model_module_version": "1.5.0",
      "model_name": "VBoxModel",
      "state": {
       "children": [
        "IPY_MODEL_c6ef66afc9ca4cc3bc8fadea0a2b3d84",
        "IPY_MODEL_7b043821778f4020acadd38ac19136e6"
       ],
       "layout": "IPY_MODEL_d7554ce239f14c138c82e285bb23c540"
      }
     },
     "cd3103751be843b99d1aab7e27ba728e": {
      "model_module": "@jupyter-widgets/controls",
      "model_module_version": "1.5.0",
      "model_name": "ButtonModel",
      "state": {
       "icon": "question-circle",
       "layout": "IPY_MODEL_7f19908abbcb4e4ab57f0cb1fb70c71c",
       "style": "IPY_MODEL_ca3a95c6d5da4e0c9949963ff7d5b6e3",
       "tooltip": "describes the functionality of elements in the RunApp interface"
      }
     },
     "cd57b0fa22ab4e3a86a87becd9743771": {
      "model_module": "@jupyter-widgets/controls",
      "model_module_version": "1.5.0",
      "model_name": "ButtonModel",
      "state": {
       "button_style": "info",
       "description": "show source code",
       "layout": "IPY_MODEL_395cefdbf4684c69bc30ecbe80289eeb",
       "style": "IPY_MODEL_fe67c96ef5904059ab66f5c59d8f09ed",
       "tooltip": "shows the raw python code in the preview window below"
      }
     },
     "cd5885594f464882a0d1f753dc59b8aa": {
      "model_module": "@jupyter-widgets/controls",
      "model_module_version": "1.5.0",
      "model_name": "SelectMultipleModel",
      "state": {
       "_options_labels": [
        "C:\\engDev\\git_mf\\ipyrun\\data\\external\\eplus_pipework_params.csv"
       ],
       "description": "outputs",
       "index": [],
       "layout": "IPY_MODEL_097219c000624ba3932a58700646f319",
       "rows": 4,
       "style": "IPY_MODEL_bce6fd3367e743c58daeb3cd95aadd48"
      }
     },
     "cd8bd25229f6446dba4918083842bc71": {
      "model_module": "@jupyter-widgets/base",
      "model_module_version": "1.2.0",
      "model_name": "LayoutModel",
      "state": {}
     },
     "cd8d29edc1c946438e1d54de30fdd798": {
      "model_module": "@jupyter-widgets/base",
      "model_module_version": "1.2.0",
      "model_name": "LayoutModel",
      "state": {
       "height": "30px",
       "width": "auto"
      }
     },
     "cdcb23ca1dd242afb900205a0060442d": {
      "model_module": "@jupyter-widgets/base",
      "model_module_version": "1.2.0",
      "model_name": "LayoutModel",
      "state": {}
     },
     "cddbf495f4054c6693c3df6c6339fcfa": {
      "model_module": "@jupyter-widgets/controls",
      "model_module_version": "1.5.0",
      "model_name": "ButtonModel",
      "state": {
       "icon": "question-circle",
       "layout": "IPY_MODEL_36619f47848f488eaec7d676eab12c74",
       "style": "IPY_MODEL_bffdad806ca040968b8c3de2090e3bdc",
       "tooltip": "describes the functionality of elements in the RunApp interface"
      }
     },
     "cddc26aaa5044b84b7e7dfd2547e9651": {
      "model_module": "@jupyter-widgets/controls",
      "model_module_version": "1.5.0",
      "model_name": "SelectMultipleModel",
      "state": {
       "_options_labels": [
        "C:\\engDev\\git_mf\\ipyrun\\reports\\JupyterReportDemo.pdf"
       ],
       "description": "outputs",
       "index": [],
       "layout": "IPY_MODEL_6792806e4d88457e96849fde54cd9693",
       "rows": 4,
       "style": "IPY_MODEL_a6d93b0e537c4d70b8b99e4355c7fd74"
      }
     },
     "ce911c5630f3436896c2f0b9fd5855ab": {
      "model_module": "@jupyter-widgets/controls",
      "model_module_version": "1.5.0",
      "model_name": "DescriptionStyleModel",
      "state": {
       "description_width": ""
      }
     },
     "ce9968f20018495588588ef0bd1cca43": {
      "model_module": "@jupyter-widgets/base",
      "model_module_version": "1.2.0",
      "model_name": "LayoutModel",
      "state": {
       "width": "100%"
      }
     },
     "ceb076f6d625499ea9510c0022481f3b": {
      "model_module": "@jupyter-widgets/base",
      "model_module_version": "1.2.0",
      "model_name": "LayoutModel",
      "state": {
       "width": "5%"
      }
     },
     "cee158e0664e4e119fad7e5436774dd8": {
      "model_module": "@jupyter-widgets/controls",
      "model_module_version": "1.5.0",
      "model_name": "ButtonModel",
      "state": {
       "icon": "question-circle",
       "layout": "IPY_MODEL_4cc256b3de9d4e06a5cb4f7284f61b7c",
       "style": "IPY_MODEL_69daaa9c86ad4abf9d830985fe0fc67e",
       "tooltip": "describes the functionality of elements in the RunApp interface"
      }
     },
     "cf004487c98548e1a722e1962499ad64": {
      "model_module": "@jupyter-widgets/controls",
      "model_module_version": "1.5.0",
      "model_name": "ButtonStyleModel",
      "state": {
       "font_weight": "bold"
      }
     },
     "cf0cdf136145452c91426da1a4a6e39d": {
      "model_module": "@jupyter-widgets/controls",
      "model_module_version": "1.5.0",
      "model_name": "ButtonModel",
      "state": {
       "button_style": "info",
       "description": "show guide",
       "layout": "IPY_MODEL_1ed831a4a168468c95419af2072ace63",
       "style": "IPY_MODEL_775377a89973444aac7874799b02301e",
       "tooltip": "read the \"docstring\", ie. the documentation that was written to accompany the script"
      }
     },
     "cf413d709b014848b814a136da16d883": {
      "model_module": "@jupyter-widgets/controls",
      "model_module_version": "1.5.0",
      "model_name": "DescriptionStyleModel",
      "state": {
       "description_width": ""
      }
     },
     "cf41e562726d4016a60a0d841c7a9d63": {
      "model_module": "@jupyter-widgets/controls",
      "model_module_version": "1.5.0",
      "model_name": "BoxModel",
      "state": {
       "children": [
        "IPY_MODEL_e84fd584b422410e97b0139282f6d61e"
       ],
       "layout": "IPY_MODEL_359c15f27b874444ae9976d07f56f1e0"
      }
     },
     "cf6963cbb0bb48a2a5e9ad237f896b12": {
      "model_module": "@jupyter-widgets/controls",
      "model_module_version": "1.5.0",
      "model_name": "HBoxModel",
      "state": {
       "children": [
        "IPY_MODEL_8c268f0e3daf459e8d6e482d2769f88b",
        "IPY_MODEL_b2536a1fd903410f84e00c5adf1d81b2",
        "IPY_MODEL_5bdbd347a8df4169a7e58db081439d1f",
        "IPY_MODEL_31861efa08a9458eada49c42d806e0e5",
        "IPY_MODEL_b3107e6f242c4366835ec17923cc54ca",
        "IPY_MODEL_bb61ebd10fb444a2b62b838b757b5e69",
        "IPY_MODEL_8f804e3c152c4da1a1298e961611f620"
       ],
       "layout": "IPY_MODEL_d1a42222526a4dbea890660a7dadd783"
      }
     },
     "cf889cb82a4c4d098f0483462f5d2b48": {
      "model_module": "@jupyter-widgets/controls",
      "model_module_version": "1.5.0",
      "model_name": "ButtonModel",
      "state": {
       "button_style": "info",
       "description": "show log",
       "layout": "IPY_MODEL_ef34bcf3ce8a47cb9b624056d0177781",
       "style": "IPY_MODEL_bbd82b6903c64656a318523bdd055659",
       "tooltip": "show a log of when the script was executed to generate the outputs, and by who"
      }
     },
     "cf949ac631c94e758de59f8f24658d69": {
      "model_module": "@jupyter-widgets/controls",
      "model_module_version": "1.5.0",
      "model_name": "ButtonStyleModel",
      "state": {
       "font_weight": "bold"
      }
     },
     "cf9e5029c24b43d49d15d4f4e4796603": {
      "model_module": "@jupyter-widgets/base",
      "model_module_version": "1.2.0",
      "model_name": "LayoutModel",
      "state": {
       "border": "0px",
       "margin": "0px",
       "padding": "0px"
      }
     },
     "cfa947c573624c9cb07c2025f9a4ff2a": {
      "model_module": "@jupyter-widgets/controls",
      "model_module_version": "1.5.0",
      "model_name": "ButtonModel",
      "state": {
       "button_style": "info",
       "description": "show log",
       "layout": "IPY_MODEL_226f777f38074aa7a04412cc17063261",
       "style": "IPY_MODEL_9f7d175f3140473f8cef85a2e18fdcd6",
       "tooltip": "show a log of when the script was executed to generate the outputs, and by who"
      }
     },
     "cfae3a8583a549baae29ef52079072d5": {
      "model_module": "@jupyter-widgets/controls",
      "model_module_version": "1.5.0",
      "model_name": "ButtonStyleModel",
      "state": {
       "font_weight": "bold"
      }
     },
     "cfb69c61d5c145f4a2d40b6efdb5d8c2": {
      "model_module": "@jupyter-widgets/controls",
      "model_module_version": "1.5.0",
      "model_name": "ButtonModel",
      "state": {
       "button_style": "warning",
       "description": "edit inputs",
       "layout": "IPY_MODEL_ca6acf2deb7c45228f2b47202c9ad8cf",
       "style": "IPY_MODEL_5827caf4c006436aadda00ebcfb4b686",
       "tooltip": "edit the user input information that is used when the script is executed"
      }
     },
     "cfb7d76329d743e9bcdda048f054e9df": {
      "model_module": "@jupyter-widgets/base",
      "model_module_version": "1.2.0",
      "model_name": "LayoutModel",
      "state": {
       "height": "30px",
       "width": "auto"
      }
     },
     "cfbc0e4322ae477bb0ce3f562579edab": {
      "model_module": "@jupyter-widgets/controls",
      "model_module_version": "1.5.0",
      "model_name": "ButtonStyleModel",
      "state": {
       "font_weight": "bold"
      }
     },
     "cfd370a4d54540f0b52ff232a5b938d0": {
      "model_module": "@jupyter-widgets/controls",
      "model_module_version": "1.5.0",
      "model_name": "ButtonModel",
      "state": {
       "button_style": "warning",
       "description": "edit inputs",
       "layout": "IPY_MODEL_1cd7536ce58a44e1a7681f79ba55dcd8",
       "style": "IPY_MODEL_3cfb82726e5746c3acedc82412876d60",
       "tooltip": "edit the user input information that is used when the script is executed"
      }
     },
     "cfd4a3227a22498fbf7b807b159a72e4": {
      "model_module": "@jupyter-widgets/controls",
      "model_module_version": "1.5.0",
      "model_name": "BoxModel",
      "state": {
       "children": [
        "IPY_MODEL_c932d0e33fb2412ba97a4a998c2d4f9e"
       ],
       "layout": "IPY_MODEL_69d79710a7dc42939ec71ac746a34697"
      }
     },
     "d0012aa2c8014d368be3219c93214d1a": {
      "model_module": "@jupyter-widgets/controls",
      "model_module_version": "1.5.0",
      "model_name": "ButtonStyleModel",
      "state": {
       "font_weight": "bold"
      }
     },
     "d017368d595c4ec2aeeccfc94dcc235d": {
      "model_module": "@jupyter-widgets/controls",
      "model_module_version": "1.5.0",
      "model_name": "ButtonStyleModel",
      "state": {
       "font_weight": "bold"
      }
     },
     "d020988016104a7ab39bce94aa941396": {
      "model_module": "@jupyter-widgets/controls",
      "model_module_version": "1.5.0",
      "model_name": "DescriptionStyleModel",
      "state": {
       "description_width": ""
      }
     },
     "d0235081d34342d29e47ca508c2472de": {
      "model_module": "@jupyter-widgets/controls",
      "model_module_version": "1.5.0",
      "model_name": "BoxModel",
      "state": {
       "children": [
        "IPY_MODEL_3149cf5bbe17447389ea563dd4fea30e"
       ],
       "layout": "IPY_MODEL_47dba7fd6f0547f2a368f5c990b35076"
      }
     },
     "d0512b810fb64825b3d072a3b0ef6f85": {
      "model_module": "@jupyter-widgets/controls",
      "model_module_version": "1.5.0",
      "model_name": "ButtonStyleModel",
      "state": {
       "font_weight": "bold"
      }
     },
     "d0560c190f3c4d21b3565996893702b3": {
      "model_module": "@jupyter-widgets/controls",
      "model_module_version": "1.5.0",
      "model_name": "ButtonModel",
      "state": {
       "button_style": "success",
       "description": "run",
       "layout": "IPY_MODEL_b6d2a9f340d34fd5b363f8b62644e6c2",
       "style": "IPY_MODEL_cf949ac631c94e758de59f8f24658d69",
       "tooltip": "execute the script based on the user inputs"
      }
     },
     "d095ef55a376476a8373373f73890c7b": {
      "model_module": "@jupyter-widgets/controls",
      "model_module_version": "1.5.0",
      "model_name": "ButtonStyleModel",
      "state": {}
     },
     "d09b36d8590b403c9000954cb818b2b7": {
      "model_module": "@jupyter-widgets/controls",
      "model_module_version": "1.5.0",
      "model_name": "TextModel",
      "state": {
       "description": "script",
       "disabled": true,
       "layout": "IPY_MODEL_938ff09bb04646b894c9f965145b5989",
       "style": "IPY_MODEL_471f9da260a74f0880b535218cfaa295",
       "value": "C:\\engDev\\git_mf\\MF_Toolbox\\dev\\mf_scripts\\eplus_pipework_params.py"
      }
     },
     "d09d17b585064269abf66fc822e671a3": {
      "model_module": "@jupyter-widgets/base",
      "model_module_version": "1.2.0",
      "model_name": "LayoutModel",
      "state": {
       "height": "30px",
       "max_width": "30px",
       "padding": "3px"
      }
     },
     "d09e054d437f480284236bad0e20df0a": {
      "model_module": "@jupyter-widgets/output",
      "model_module_version": "1.0.0",
      "model_name": "OutputModel",
      "state": {
       "layout": "IPY_MODEL_3beed2d2ae624b62a212e2a38386f02a"
      }
     },
     "d0c75e265c264f63bd87f1ef9b71726d": {
      "model_module": "@jupyter-widgets/base",
      "model_module_version": "1.2.0",
      "model_name": "LayoutModel",
      "state": {
       "height": "30px",
       "max_width": "30px",
       "padding": "3px"
      }
     },
     "d0f550a1be2244fa9d7b9ae0ca55482b": {
      "model_module": "@jupyter-widgets/base",
      "model_module_version": "1.2.0",
      "model_name": "LayoutModel",
      "state": {}
     },
     "d11325d5aec346cdad4edf41bef5a8d3": {
      "model_module": "@jupyter-widgets/controls",
      "model_module_version": "1.5.0",
      "model_name": "ButtonStyleModel",
      "state": {
       "font_weight": "bold"
      }
     },
     "d120ef4d29554e27a8af61b336858e82": {
      "model_module": "@jupyter-widgets/base",
      "model_module_version": "1.2.0",
      "model_name": "LayoutModel",
      "state": {
       "align_items": "stretch",
       "width": "100%"
      }
     },
     "d12426a452234d82ab51a54d1cda4bf4": {
      "model_module": "@jupyter-widgets/base",
      "model_module_version": "1.2.0",
      "model_name": "LayoutModel",
      "state": {
       "height": "30px",
       "max_width": "30px",
       "padding": "3px"
      }
     },
     "d12c808a2d514af48e02ca0014c8f3e2": {
      "model_module": "@jupyter-widgets/controls",
      "model_module_version": "1.5.0",
      "model_name": "AccordionModel",
      "state": {
       "_titles": {
        "0": "eplus_pipework_params"
       },
       "children": [
        "IPY_MODEL_8c6333f726264d26bbe31f3cd7cd6d6c"
       ],
       "layout": "IPY_MODEL_ac85817970294780ae2f6de0e06bd277",
       "selected_index": null
      }
     },
     "d1662b361cf049629ce7da69dba4cec7": {
      "model_module": "@jupyter-widgets/controls",
      "model_module_version": "1.5.0",
      "model_name": "SelectMultipleModel",
      "state": {
       "_options_labels": [
        "C:\\engDev\\git_mf\\ipyrun\\data\\external\\eplus_pipework_params.csv"
       ],
       "description": "outputs",
       "index": [],
       "layout": "IPY_MODEL_c2a36b7363574906a1f98c43d278e3d7",
       "rows": 4,
       "style": "IPY_MODEL_1c56b683767f40ed8d3e23faae2b26b9"
      }
     },
     "d17551ce662b41e394d5ff05194816c9": {
      "model_module": "@jupyter-widgets/controls",
      "model_module_version": "1.5.0",
      "model_name": "ButtonModel",
      "state": {
       "button_style": "success",
       "description": "run",
       "layout": "IPY_MODEL_af0afbe851434b5683dd72ad5620fcaf",
       "style": "IPY_MODEL_a2874012960943458a2d187d5466744d",
       "tooltip": "execute the script based on the user inputs"
      }
     },
     "d184ec282859496b8858c77fa21352ab": {
      "model_module": "@jupyter-widgets/controls",
      "model_module_version": "1.5.0",
      "model_name": "BoxModel",
      "state": {
       "children": [
        "IPY_MODEL_048a558969064230bec9902495975ec8"
       ],
       "layout": "IPY_MODEL_06a80a340e784322946e6b95d894b5e7"
      }
     },
     "d19d1fd01ea64f3b9b68745abee623f7": {
      "model_module": "@jupyter-widgets/base",
      "model_module_version": "1.2.0",
      "model_name": "LayoutModel",
      "state": {
       "height": "30px",
       "width": "auto"
      }
     },
     "d19d8daf5cbe46b4a1f07ddd43e97d22": {
      "model_module": "@jupyter-widgets/base",
      "model_module_version": "1.2.0",
      "model_name": "LayoutModel",
      "state": {}
     },
     "d1a42222526a4dbea890660a7dadd783": {
      "model_module": "@jupyter-widgets/base",
      "model_module_version": "1.2.0",
      "model_name": "LayoutModel",
      "state": {
       "align_items": "stretch",
       "width": "100%"
      }
     },
     "d1da535495bc41b69584c301f302e480": {
      "model_module": "@jupyter-widgets/base",
      "model_module_version": "1.2.0",
      "model_name": "LayoutModel",
      "state": {}
     },
     "d1e928151d9b4c5eb89ceac59a9a1d23": {
      "model_module": "@jupyter-widgets/base",
      "model_module_version": "1.2.0",
      "model_name": "LayoutModel",
      "state": {}
     },
     "d21c708e4f764858ae88ba4563c07eb8": {
      "model_module": "@jupyter-widgets/base",
      "model_module_version": "1.2.0",
      "model_name": "LayoutModel",
      "state": {}
     },
     "d246f72f353a4efea1086e9a24e1cd9c": {
      "model_module": "@jupyter-widgets/controls",
      "model_module_version": "1.5.0",
      "model_name": "TextModel",
      "state": {
       "description": "inputs",
       "disabled": true,
       "layout": "IPY_MODEL_2cb07be0d73f404c9ccbefb918919afb",
       "style": "IPY_MODEL_9df78734df5c4511a12f93659cc50a56",
       "value": "C:\\engDev\\git_mf\\ipyrun\\ipyrun\\appdata\\inputs\\inputs-docx_to_pdf.json"
      }
     },
     "d29fe00f6c2d4591aa9959052b245590": {
      "model_module": "@jupyter-widgets/controls",
      "model_module_version": "1.5.0",
      "model_name": "SelectMultipleModel",
      "state": {
       "_options_labels": [
        "C:\\engDev\\git_mf\\ipyrun\\reports\\JupyterReportDemo.pdf"
       ],
       "description": "outputs",
       "index": [],
       "layout": "IPY_MODEL_5ebf95e1caf641dfb0a0e699ff9d2c81",
       "rows": 4,
       "style": "IPY_MODEL_08e643402d114784bb0ecdbd31681610"
      }
     },
     "d2bab63559624db7b461e3688c435aee": {
      "model_module": "@jupyter-widgets/controls",
      "model_module_version": "1.5.0",
      "model_name": "CheckboxModel",
      "state": {
       "disabled": false,
       "indent": false,
       "layout": "IPY_MODEL_eb2e4bd755e3492e8cb2229e74ea6549",
       "style": "IPY_MODEL_c58f0bb856124b6e80aead03c5c7a48e",
       "value": false
      }
     },
     "d2c82f902f5f460d953145a92ee8fce4": {
      "model_module": "@jupyter-widgets/controls",
      "model_module_version": "1.5.0",
      "model_name": "HBoxModel",
      "state": {
       "children": [
        "IPY_MODEL_6c5a95f8edc04a5f8e95fff62a5ff90d",
        "IPY_MODEL_b473107bcb634c308f0a922e13e525c5"
       ],
       "layout": "IPY_MODEL_cf9e5029c24b43d49d15d4f4e4796603"
      }
     },
     "d2d7d634b338456a933c845d21e559ad": {
      "model_module": "@jupyter-widgets/controls",
      "model_module_version": "1.5.0",
      "model_name": "HBoxModel",
      "state": {
       "children": [
        "IPY_MODEL_c7dda15ea65a483b8b6642c944800d92",
        "IPY_MODEL_f70238158d1f4e5b83989afdc129c78f",
        "IPY_MODEL_e3f47b1879ab4fb9883e059159085765",
        "IPY_MODEL_68a01aaeb2d540b79d0133accd1d80c2",
        "IPY_MODEL_16c82ff755024607a7c5e5db7285e0c3",
        "IPY_MODEL_4f070804278b405080b9d166fa3da6e3",
        "IPY_MODEL_cfa947c573624c9cb07c2025f9a4ff2a"
       ],
       "layout": "IPY_MODEL_bd21650963aa4ee59dd1899ef64063f9"
      }
     },
     "d2dc5e120c9c4f63bcbd80200da5b599": {
      "model_module": "@jupyter-widgets/controls",
      "model_module_version": "1.5.0",
      "model_name": "ButtonModel",
      "state": {
       "button_style": "warning",
       "description": "edit inputs",
       "layout": "IPY_MODEL_3a07570ba31645f9aa18a148dbd19ecf",
       "style": "IPY_MODEL_69822aa0f7524444838a19193e0d39c5",
       "tooltip": "edit the user input information that is used when the script is executed"
      }
     },
     "d2dca15d551d4a038d0c4c030f4d1c79": {
      "model_module": "@jupyter-widgets/base",
      "model_module_version": "1.2.0",
      "model_name": "LayoutModel",
      "state": {
       "height": "30px",
       "width": "auto"
      }
     },
     "d2eb46ec9fa54d57b7c8148b4f03e90b": {
      "model_module": "@jupyter-widgets/base",
      "model_module_version": "1.2.0",
      "model_name": "LayoutModel",
      "state": {}
     },
     "d2ef8d7745244f6c8c05ef1e19c22d51": {
      "model_module": "@jupyter-widgets/controls",
      "model_module_version": "1.5.0",
      "model_name": "ButtonModel",
      "state": {
       "icon": "eye-slash",
       "layout": "IPY_MODEL_7462b29f39a246a889f1f23c82617d63",
       "style": "IPY_MODEL_d85528d824b14cb6af4131bad8d2447b",
       "tooltip": "removes temporary output view"
      }
     },
     "d2f81c0fd8b740ca8f0d3c694ee2f655": {
      "model_module": "@jupyter-widgets/base",
      "model_module_version": "1.2.0",
      "model_name": "LayoutModel",
      "state": {
       "height": "30px",
       "width": "auto"
      }
     },
     "d30d390a00714d2db2b613fb42e55633": {
      "model_module": "@jupyter-widgets/controls",
      "model_module_version": "1.5.0",
      "model_name": "CheckboxModel",
      "state": {
       "disabled": false,
       "indent": false,
       "layout": "IPY_MODEL_1599c0bfc1e742608882a58b523f031d",
       "style": "IPY_MODEL_50bb41a6e9e44ff885489e7b47ddb305",
       "value": false
      }
     },
     "d31d057b6b524bc4bfcd6fa9c5f9be3e": {
      "model_module": "@jupyter-widgets/base",
      "model_module_version": "1.2.0",
      "model_name": "LayoutModel",
      "state": {}
     },
     "d350351328b846da8d0d92b096b3f94a": {
      "model_module": "@jupyter-widgets/controls",
      "model_module_version": "1.5.0",
      "model_name": "ButtonModel",
      "state": {
       "icon": "question-circle",
       "layout": "IPY_MODEL_9df692371f6046e8abf4db75d0298dcb",
       "style": "IPY_MODEL_657a52d85e1c48e48c35c566707fa3da",
       "tooltip": "describes the functionality of elements in the RunApp interface"
      }
     },
     "d35cd8c69c4c41f9869805ff9f139da4": {
      "model_module": "@jupyter-widgets/controls",
      "model_module_version": "1.5.0",
      "model_name": "ButtonStyleModel",
      "state": {
       "font_weight": "bold"
      }
     },
     "d35ddb7300b04f268341e80fb9df1701": {
      "model_module": "@jupyter-widgets/controls",
      "model_module_version": "1.5.0",
      "model_name": "ButtonModel",
      "state": {
       "button_style": "info",
       "description": "show guide",
       "layout": "IPY_MODEL_0ee346a1a8b04f8e95ff0a1f1bb71e7f",
       "style": "IPY_MODEL_8a054d992ed847f2ad0f33b82c399708",
       "tooltip": "read the \"docstring\", ie. the documentation that was written to accompany the script"
      }
     },
     "d36e94fc46cc45a08b730fa418605dd9": {
      "model_module": "@jupyter-widgets/controls",
      "model_module_version": "1.5.0",
      "model_name": "ButtonStyleModel",
      "state": {
       "font_weight": "bold"
      }
     },
     "d387f9665578448ba83bd3a67a7b9f22": {
      "model_module": "@jupyter-widgets/base",
      "model_module_version": "1.2.0",
      "model_name": "LayoutModel",
      "state": {}
     },
     "d3a7683ae5e845d3aa7cefd858833f11": {
      "model_module": "@jupyter-widgets/base",
      "model_module_version": "1.2.0",
      "model_name": "LayoutModel",
      "state": {}
     },
     "d3cf5239c92f4832a4f29b085faaed8f": {
      "model_module": "@jupyter-widgets/controls",
      "model_module_version": "1.5.0",
      "model_name": "ButtonModel",
      "state": {
       "button_style": "info",
       "description": "preview outputs",
       "layout": "IPY_MODEL_7d6e9019f453468b87275ff1065ecf5e",
       "style": "IPY_MODEL_c029f4645d2c4c7086fc3ce148901671",
       "tooltip": "show a preview of the output files generated when the script runs"
      }
     },
     "d3e20ab5436b42b6bddf6f76a54d3ecc": {
      "model_module": "@jupyter-widgets/controls",
      "model_module_version": "1.5.0",
      "model_name": "BoxModel",
      "state": {
       "children": [
        "IPY_MODEL_5eb8ac57912d4cf8b863be616d2e31c5"
       ],
       "layout": "IPY_MODEL_6369669c5d244995b80da468be5a6e49"
      }
     },
     "d400e479fd1346b8ab04fb3da378d089": {
      "model_module": "@jupyter-widgets/controls",
      "model_module_version": "1.5.0",
      "model_name": "ButtonStyleModel",
      "state": {
       "font_weight": "bold"
      }
     },
     "d42161326bb94027a93dd534d225466e": {
      "model_module": "@jupyter-widgets/controls",
      "model_module_version": "1.5.0",
      "model_name": "ButtonStyleModel",
      "state": {
       "font_weight": "bold"
      }
     },
     "d440645ff9f9414facdaa3e4edef163d": {
      "model_module": "@jupyter-widgets/controls",
      "model_module_version": "1.5.0",
      "model_name": "ButtonModel",
      "state": {
       "button_style": "info",
       "description": "preview outputs",
       "layout": "IPY_MODEL_867d30056e6f4d5c99e0c1f2814e436e",
       "style": "IPY_MODEL_1c556c6a1c044c9db669d30843ad4413",
       "tooltip": "show a preview of the output files generated when the script runs"
      }
     },
     "d46024b45c8e448f9fb68a003db2c739": {
      "model_module": "@jupyter-widgets/controls",
      "model_module_version": "1.5.0",
      "model_name": "DescriptionStyleModel",
      "state": {
       "description_width": ""
      }
     },
     "d479ef4eca1846b6a57e50bcc9170d85": {
      "model_module": "@jupyter-widgets/base",
      "model_module_version": "1.2.0",
      "model_name": "LayoutModel",
      "state": {
       "width": "100%"
      }
     },
     "d48204018d2e4d31b6282bd2fa035632": {
      "model_module": "@jupyter-widgets/controls",
      "model_module_version": "1.5.0",
      "model_name": "BoxModel",
      "state": {
       "children": [
        "IPY_MODEL_8e1cee1715e349e1b125d5ffe35edc7c"
       ],
       "layout": "IPY_MODEL_37dc388cbd21480b9d60b3908f840c6e"
      }
     },
     "d4848aac7883451dbdc33cfd17820efa": {
      "model_module": "@jupyter-widgets/controls",
      "model_module_version": "1.5.0",
      "model_name": "HBoxModel",
      "state": {
       "children": [
        "IPY_MODEL_d95dd2b43ad64953a935e02f4ebfe760",
        "IPY_MODEL_693273afa3384acf8439189c36a73440"
       ],
       "layout": "IPY_MODEL_e29b38e8ba0642d3b201e3c19f27bd8b"
      }
     },
     "d48eddbb067741c5b298ee77a6a7add9": {
      "model_module": "@jupyter-widgets/output",
      "model_module_version": "1.0.0",
      "model_name": "OutputModel",
      "state": {
       "layout": "IPY_MODEL_f84268dd0d4342e3861e755bc83153e6"
      }
     },
     "d4ad96ad6b944d3aabef60ad94da477b": {
      "model_module": "@jupyter-widgets/base",
      "model_module_version": "1.2.0",
      "model_name": "LayoutModel",
      "state": {
       "width": "5%"
      }
     },
     "d4dad27ddc3f4bb18f62df55ee18eabc": {
      "model_module": "@jupyter-widgets/base",
      "model_module_version": "1.2.0",
      "model_name": "LayoutModel",
      "state": {
       "width": "5%"
      }
     },
     "d4e8146895af408daac27134dfa3cf02": {
      "model_module": "@jupyter-widgets/controls",
      "model_module_version": "1.5.0",
      "model_name": "AccordionModel",
      "state": {
       "_titles": {
        "0": "gbxml"
       },
       "children": [
        "IPY_MODEL_1902a142acb84c09ae7bf731fc56a26b"
       ],
       "layout": "IPY_MODEL_816333559d934d40869828f2fcf50756",
       "selected_index": null
      }
     },
     "d4fb13441e5544ccbef6d0a1729f23d5": {
      "model_module": "@jupyter-widgets/base",
      "model_module_version": "1.2.0",
      "model_name": "LayoutModel",
      "state": {
       "height": "30px",
       "max_width": "30px",
       "padding": "3px"
      }
     },
     "d50e338272dc4b0485aac242efb44430": {
      "model_module": "@jupyter-widgets/base",
      "model_module_version": "1.2.0",
      "model_name": "LayoutModel",
      "state": {}
     },
     "d52aaf894b7746ef9f3641bba85fcaa6": {
      "model_module": "@jupyter-widgets/base",
      "model_module_version": "1.2.0",
      "model_name": "LayoutModel",
      "state": {
       "align_items": "stretch",
       "width": "100%"
      }
     },
     "d53eaa6063d54ef8940c15bbbb6d901c": {
      "model_module": "@jupyter-widgets/controls",
      "model_module_version": "1.5.0",
      "model_name": "BoxModel",
      "state": {
       "children": [
        "IPY_MODEL_071fd860804c47358e05ffbe0db3c5d8"
       ],
       "layout": "IPY_MODEL_ecffc10f1a6645ab9ef217859220c8c8"
      }
     },
     "d552b958b0b746d295c8b8ae58459982": {
      "model_module": "@jupyter-widgets/controls",
      "model_module_version": "1.5.0",
      "model_name": "DescriptionStyleModel",
      "state": {
       "description_width": ""
      }
     },
     "d568cbc1c5144a5c96373f204d14c8fb": {
      "model_module": "@jupyter-widgets/base",
      "model_module_version": "1.2.0",
      "model_name": "LayoutModel",
      "state": {}
     },
     "d570137e78054b448bfd4b038b371b15": {
      "model_module": "@jupyter-widgets/base",
      "model_module_version": "1.2.0",
      "model_name": "LayoutModel",
      "state": {}
     },
     "d570bde8a30246db966de91fe1db82c9": {
      "model_module": "@jupyter-widgets/controls",
      "model_module_version": "1.5.0",
      "model_name": "TextModel",
      "state": {
       "description": "script",
       "disabled": true,
       "layout": "IPY_MODEL_2e44547b021540799b5ab46de37c22f9",
       "style": "IPY_MODEL_c69ef3d9709740e9a591aab7035f96e1",
       "value": "C:\\engDev\\git_mf\\MF_Toolbox\\dev\\mf_scripts\\docx_to_pdf.py"
      }
     },
     "d57f9bac46a24cdaa5c806804d3b842e": {
      "model_module": "@jupyter-widgets/base",
      "model_module_version": "1.2.0",
      "model_name": "LayoutModel",
      "state": {}
     },
     "d58089fc8fc94a8c9aa7b5e76e844223": {
      "model_module": "@jupyter-widgets/base",
      "model_module_version": "1.2.0",
      "model_name": "LayoutModel",
      "state": {
       "width": "5%"
      }
     },
     "d5911d936bcc413d976177dbfc1345d8": {
      "model_module": "@jupyter-widgets/controls",
      "model_module_version": "1.5.0",
      "model_name": "VBoxModel",
      "state": {
       "children": [
        "IPY_MODEL_8ce3ae28fe494f389c442fbcaf81de59",
        "IPY_MODEL_24d34319a0b449399440feb81232a990",
        "IPY_MODEL_77918880b3b94320bb7e4d40f5a0c0ae"
       ],
       "layout": "IPY_MODEL_1194392e31a24265a24483cccdbd4ee8"
      }
     },
     "d5bd45e25c7c497eacc9b5ff4a4740d7": {
      "model_module": "@jupyter-widgets/base",
      "model_module_version": "1.2.0",
      "model_name": "LayoutModel",
      "state": {
       "height": "30px",
       "max_width": "30px",
       "padding": "3px"
      }
     },
     "d5cb74e0e1594200bf1aad17ce8c8b62": {
      "model_module": "@jupyter-widgets/base",
      "model_module_version": "1.2.0",
      "model_name": "LayoutModel",
      "state": {}
     },
     "d5d9e26b3b8c4253a444244c8f994765": {
      "model_module": "@jupyter-widgets/controls",
      "model_module_version": "1.5.0",
      "model_name": "VBoxModel",
      "state": {
       "children": [
        "IPY_MODEL_4678253c3fa24332928651a33b5c39ed",
        "IPY_MODEL_5cea6d4fe75d451fb2a7878381a1cd7f",
        "IPY_MODEL_ef77d40c3b1f4b219ea09cba24055cce"
       ],
       "layout": "IPY_MODEL_6ab6b4b213394a108b8471deddfb1013"
      }
     },
     "d614ec4285a84288a90d6fc2c8271ca6": {
      "model_module": "@jupyter-widgets/controls",
      "model_module_version": "1.5.0",
      "model_name": "ButtonModel",
      "state": {
       "button_style": "info",
       "description": "show log",
       "layout": "IPY_MODEL_6eb12a2c56a14801b87d103b43da7093",
       "style": "IPY_MODEL_aa39dbae596a4125b8dd65a017d5f6c9",
       "tooltip": "show a log of when the script was executed to generate the outputs, and by who"
      }
     },
     "d6197c1d99a741acad75113436f21453": {
      "model_module": "@jupyter-widgets/controls",
      "model_module_version": "1.5.0",
      "model_name": "HBoxModel",
      "state": {
       "children": [
        "IPY_MODEL_4d95cc7722e540de990bc8ffa220777c",
        "IPY_MODEL_777d0a49e0b6453ba1fccc9b999dcef5",
        "IPY_MODEL_e41257ee7aa64770b122d77bd47db597",
        "IPY_MODEL_6e59140a3449473fa3ed18f2851bfd38",
        "IPY_MODEL_0f85b23cba61497182feaabcbcb4b27f",
        "IPY_MODEL_1107067cb3a7405b9eb4035244825393",
        "IPY_MODEL_f0973c18f9fd401f8aa2c87b7752c0da"
       ],
       "layout": "IPY_MODEL_537dc6dffe8243db9df872f04f0722cd"
      }
     },
     "d627d356680844beabb562189fa386b1": {
      "model_module": "@jupyter-widgets/base",
      "model_module_version": "1.2.0",
      "model_name": "LayoutModel",
      "state": {}
     },
     "d6492d1c03b14c3799de6ad243260aa8": {
      "model_module": "@jupyter-widgets/controls",
      "model_module_version": "1.5.0",
      "model_name": "ButtonModel",
      "state": {
       "button_style": "info",
       "description": "preview outputs",
       "layout": "IPY_MODEL_44e283fb8eb64539a84fc60345ca105d",
       "style": "IPY_MODEL_0446abc86e1c491c87f7d3d65c79f949",
       "tooltip": "show a preview of the output files generated when the script runs"
      }
     },
     "d65d5b167b374737a65b96729fe34e1d": {
      "model_module": "@jupyter-widgets/base",
      "model_module_version": "1.2.0",
      "model_name": "LayoutModel",
      "state": {}
     },
     "d6668544d3c442f7bb2da0e477a4f09b": {
      "model_module": "@jupyter-widgets/controls",
      "model_module_version": "1.5.0",
      "model_name": "TextModel",
      "state": {
       "description": "script",
       "disabled": true,
       "layout": "IPY_MODEL_de4a17867cf149ed93b6d7f8a6b5720b",
       "style": "IPY_MODEL_c3d11795c13545df9042572fe76bd533",
       "value": "C:\\engDev\\git_mf\\MF_Toolbox\\dev\\mf_scripts\\docx_to_pdf.py"
      }
     },
     "d68f20a850f24edeb1f97282c4b52936": {
      "model_module": "@jupyter-widgets/controls",
      "model_module_version": "1.5.0",
      "model_name": "VBoxModel",
      "state": {
       "children": [
        "IPY_MODEL_cf41e562726d4016a60a0d841c7a9d63",
        "IPY_MODEL_e38aa724748b4ad5ab0a9ddd3a4ec44f"
       ],
       "layout": "IPY_MODEL_153244eccf8e44889da87e6d74d898cc"
      }
     },
     "d69eb18b840c4f95aeb34754c7fb81a3": {
      "model_module": "@jupyter-widgets/controls",
      "model_module_version": "1.5.0",
      "model_name": "DescriptionStyleModel",
      "state": {
       "description_width": ""
      }
     },
     "d69f424ccaeb4b4a9cf8accb1c353967": {
      "model_module": "@jupyter-widgets/controls",
      "model_module_version": "1.5.0",
      "model_name": "ButtonStyleModel",
      "state": {
       "font_weight": "bold"
      }
     },
     "d6a94a2ceebb4547866776c8a47ce2cf": {
      "model_module": "@jupyter-widgets/controls",
      "model_module_version": "1.5.0",
      "model_name": "VBoxModel",
      "state": {
       "children": [
        "IPY_MODEL_682e6597502f4e85a29b4b324b0fc223",
        "IPY_MODEL_042cf03d76ce401d8a511ebf85a50440"
       ],
       "layout": "IPY_MODEL_6226b871bfe64b4bacbc206ed33dbd30"
      }
     },
     "d6cab98627334e7189fdf040f7561b59": {
      "model_module": "@jupyter-widgets/controls",
      "model_module_version": "1.5.0",
      "model_name": "ButtonStyleModel",
      "state": {}
     },
     "d720fddae470428daab546b90ce1b38c": {
      "model_module": "@jupyter-widgets/controls",
      "model_module_version": "1.5.0",
      "model_name": "DescriptionStyleModel",
      "state": {
       "description_width": ""
      }
     },
     "d72e4ced1fb840c6a656a636295671c6": {
      "model_module": "@jupyter-widgets/controls",
      "model_module_version": "1.5.0",
      "model_name": "DescriptionStyleModel",
      "state": {
       "description_width": ""
      }
     },
     "d74ff2b8325c493bab423229b63ff18b": {
      "model_module": "@jupyter-widgets/base",
      "model_module_version": "1.2.0",
      "model_name": "LayoutModel",
      "state": {}
     },
     "d7554ce239f14c138c82e285bb23c540": {
      "model_module": "@jupyter-widgets/base",
      "model_module_version": "1.2.0",
      "model_name": "LayoutModel",
      "state": {}
     },
     "d76f141c9e3f4c409399d9f91c9e7391": {
      "model_module": "@jupyter-widgets/base",
      "model_module_version": "1.2.0",
      "model_name": "LayoutModel",
      "state": {
       "align_items": "stretch",
       "width": "100%"
      }
     },
     "d76f796047414ff5a7fb6bbe6bd7af51": {
      "model_module": "@jupyter-widgets/base",
      "model_module_version": "1.2.0",
      "model_name": "LayoutModel",
      "state": {}
     },
     "d777cb40240e4121bb547c3bd97fe392": {
      "model_module": "@jupyter-widgets/controls",
      "model_module_version": "1.5.0",
      "model_name": "SelectMultipleModel",
      "state": {
       "_options_labels": [
        "C:\\engDev\\git_mf\\ipyrun\\reports\\JupyterReportDemo.pdf"
       ],
       "description": "outputs",
       "index": [],
       "layout": "IPY_MODEL_05a8dc8078184dfdb85184a4ec6b870c",
       "rows": 4,
       "style": "IPY_MODEL_1330e9be65184602a57deab16098b12a"
      }
     },
     "d78e818ac903444397bdcfcc16125567": {
      "model_module": "@jupyter-widgets/controls",
      "model_module_version": "1.5.0",
      "model_name": "ButtonModel",
      "state": {
       "button_style": "info",
       "description": "show log",
       "layout": "IPY_MODEL_273728f3ef0948e183fc66c3ec0f4a0d",
       "style": "IPY_MODEL_85cd5e06032648e49f175009f90351b3",
       "tooltip": "show a log of when the script was executed to generate the outputs, and by who"
      }
     },
     "d79acdcd414f4a8b92e3229dda6b48b5": {
      "model_module": "@jupyter-widgets/base",
      "model_module_version": "1.2.0",
      "model_name": "LayoutModel",
      "state": {
       "height": "30px",
       "max_width": "30px",
       "padding": "3px"
      }
     },
     "d79d3032e8444cc886544bc8214e1d2e": {
      "model_module": "@jupyter-widgets/controls",
      "model_module_version": "1.5.0",
      "model_name": "VBoxModel",
      "state": {
       "children": [
        "IPY_MODEL_0a2e28e6aefa44a2abdc7412d4349397",
        "IPY_MODEL_2e4f73430f3f40fc9796acb8f6406e07"
       ],
       "layout": "IPY_MODEL_763ee95bfd8548cd99d80afee8dc9e77"
      }
     },
     "d7accb45c1dc40fd89fe8e187f976779": {
      "model_module": "@jupyter-widgets/controls",
      "model_module_version": "1.5.0",
      "model_name": "ButtonModel",
      "state": {
       "button_style": "success",
       "description": "run",
       "layout": "IPY_MODEL_b4acde6ff2e54118a9e61d59ff46e634",
       "style": "IPY_MODEL_12591245cbdf4e6a8370bccebdc685b9",
       "tooltip": "execute the script based on the user inputs"
      }
     },
     "d7b390ddba6b4e5682d401939381f940": {
      "model_module": "@jupyter-widgets/controls",
      "model_module_version": "1.5.0",
      "model_name": "ButtonModel",
      "state": {
       "button_style": "info",
       "description": "show source code",
       "layout": "IPY_MODEL_e62508b21dca409fa6a0320f22d0699a",
       "style": "IPY_MODEL_1ff01216dbf04ff48f9a5889f9b631e7",
       "tooltip": "shows the raw python code in the preview window below"
      }
     },
     "d7b5528b38c646bfa9e36dc40806d110": {
      "model_module": "@jupyter-widgets/base",
      "model_module_version": "1.2.0",
      "model_name": "LayoutModel",
      "state": {}
     },
     "d7f7661456064e159c4ab0e510d3b733": {
      "model_module": "@jupyter-widgets/controls",
      "model_module_version": "1.5.0",
      "model_name": "ButtonStyleModel",
      "state": {
       "font_weight": "bold"
      }
     },
     "d809a7619bb641c4b6122fe47895a665": {
      "model_module": "@jupyter-widgets/controls",
      "model_module_version": "1.5.0",
      "model_name": "ButtonStyleModel",
      "state": {
       "font_weight": "bold"
      }
     },
     "d80daaf6fb8643f7b31059279992a9d4": {
      "model_module": "@jupyter-widgets/controls",
      "model_module_version": "1.5.0",
      "model_name": "ButtonModel",
      "state": {
       "button_style": "info",
       "description": "show guide",
       "layout": "IPY_MODEL_f80fc496a6934b9fae295c65615a7298",
       "style": "IPY_MODEL_d8c0d2a58bdc4aff80c1d63179d58871",
       "tooltip": "read the \"docstring\", ie. the documentation that was written to accompany the script"
      }
     },
     "d835b728d29942fc9e924f8b9aa4fc3c": {
      "model_module": "@jupyter-widgets/controls",
      "model_module_version": "1.5.0",
      "model_name": "ButtonStyleModel",
      "state": {
       "font_weight": "bold"
      }
     },
     "d85528d824b14cb6af4131bad8d2447b": {
      "model_module": "@jupyter-widgets/controls",
      "model_module_version": "1.5.0",
      "model_name": "ButtonStyleModel",
      "state": {
       "font_weight": "bold"
      }
     },
     "d8610fa8545745bfae7233628511775e": {
      "model_module": "@jupyter-widgets/output",
      "model_module_version": "1.0.0",
      "model_name": "OutputModel",
      "state": {
       "layout": "IPY_MODEL_9ba3945775a64ca9be5685b23f10977a"
      }
     },
     "d86256553fb3422399e57a5751d33658": {
      "model_module": "@jupyter-widgets/controls",
      "model_module_version": "1.5.0",
      "model_name": "HBoxModel",
      "state": {
       "children": [
        "IPY_MODEL_c933c682fea14090aad854ce8865664a",
        "IPY_MODEL_6d061e6c0d9a4b31a48e1b76b5e0153a"
       ],
       "layout": "IPY_MODEL_fb36f4d1a548476588b3a2f879aca2fa"
      }
     },
     "d868bd8b503b464b87754cabd92ce07e": {
      "model_module": "@jupyter-widgets/base",
      "model_module_version": "1.2.0",
      "model_name": "LayoutModel",
      "state": {
       "align_items": "stretch",
       "width": "100%"
      }
     },
     "d86e66855f834a2da4415dcbc52fcd68": {
      "model_module": "@jupyter-widgets/controls",
      "model_module_version": "1.5.0",
      "model_name": "ButtonModel",
      "state": {
       "button_style": "info",
       "description": "show source code",
       "layout": "IPY_MODEL_468be5379bcf47b7bf8f589022c9f4d6",
       "style": "IPY_MODEL_3509666af3a14d56b9496e4b70cd21df",
       "tooltip": "shows the raw python code in the preview window below"
      }
     },
     "d86f2b77c35b452c870e0dfc81ea1d62": {
      "model_module": "@jupyter-widgets/controls",
      "model_module_version": "1.5.0",
      "model_name": "ButtonModel",
      "state": {
       "button_style": "warning",
       "description": "edit inputs",
       "layout": "IPY_MODEL_c80779bd20ec441e972116ac5c465b71",
       "style": "IPY_MODEL_e5d56b60567d4d3ba5bec919ee4762f6",
       "tooltip": "edit the user input information that is used when the script is executed"
      }
     },
     "d87b188c77b34997a4a4f3989241ae17": {
      "model_module": "@jupyter-widgets/controls",
      "model_module_version": "1.5.0",
      "model_name": "HBoxModel",
      "state": {
       "children": [
        "IPY_MODEL_3f8decd3b74e455588eab8ec92aa9660",
        "IPY_MODEL_4bf3b1b8f6374ad4a932b15d41703746",
        "IPY_MODEL_6d88204a8a234a4a8bceb3c1a1ca2ca8",
        "IPY_MODEL_a46498da331c47f88c4f1a9a2f8d0f5b",
        "IPY_MODEL_d17551ce662b41e394d5ff05194816c9",
        "IPY_MODEL_9d670c8b1e064ffbb7f9d40829d119e0",
        "IPY_MODEL_8dacb514a1294d7cb252b863503b8cdf"
       ],
       "layout": "IPY_MODEL_a4d29fe2aa894e56a762bdeed63c3de9"
      }
     },
     "d87f3a75c2ab460abb1a512c70e4ca10": {
      "model_module": "@jupyter-widgets/base",
      "model_module_version": "1.2.0",
      "model_name": "LayoutModel",
      "state": {}
     },
     "d897072b8bca490d948f46807cda3126": {
      "model_module": "@jupyter-widgets/base",
      "model_module_version": "1.2.0",
      "model_name": "LayoutModel",
      "state": {
       "width": "5%"
      }
     },
     "d8a132636e8d492b8b995027f99ea292": {
      "model_module": "@jupyter-widgets/base",
      "model_module_version": "1.2.0",
      "model_name": "LayoutModel",
      "state": {
       "align_items": "stretch",
       "width": "100%"
      }
     },
     "d8b033c7fdb4446b84f43da837ef2948": {
      "model_module": "@jupyter-widgets/base",
      "model_module_version": "1.2.0",
      "model_name": "LayoutModel",
      "state": {
       "border": "0px",
       "margin": "0px",
       "padding": "0px"
      }
     },
     "d8c0d2a58bdc4aff80c1d63179d58871": {
      "model_module": "@jupyter-widgets/controls",
      "model_module_version": "1.5.0",
      "model_name": "ButtonStyleModel",
      "state": {
       "font_weight": "bold"
      }
     },
     "d8c3d73a91c143b3b56647be4fd5d8e3": {
      "model_module": "@jupyter-widgets/controls",
      "model_module_version": "1.5.0",
      "model_name": "ButtonStyleModel",
      "state": {
       "font_weight": "bold"
      }
     },
     "d8ce5031cecc4a409de805a3cae97bc9": {
      "model_module": "@jupyter-widgets/controls",
      "model_module_version": "1.5.0",
      "model_name": "ButtonStyleModel",
      "state": {}
     },
     "d8d2c6fd73d1440580c23eac48432ef9": {
      "model_module": "@jupyter-widgets/controls",
      "model_module_version": "1.5.0",
      "model_name": "HBoxModel",
      "state": {
       "children": [
        "IPY_MODEL_0425832106874a8092b5a7784ac4bd3a",
        "IPY_MODEL_aa8a9d3685a84845956aeb325e140b0a"
       ],
       "layout": "IPY_MODEL_125e8a474d7d4b1584029ee6381dab41"
      }
     },
     "d8ec6e6375ab40a29fe63806d70294f6": {
      "model_module": "@jupyter-widgets/controls",
      "model_module_version": "1.5.0",
      "model_name": "HBoxModel",
      "state": {
       "children": [
        "IPY_MODEL_c9650f04a0804bceb4d74749074a6cb5",
        "IPY_MODEL_2195a39928424f1196ecfba0123d3b40"
       ],
       "layout": "IPY_MODEL_700ce6a54a4745a5a79d4dac07d3cedf"
      }
     },
     "d8f930913dce41278d7da908e3e6810a": {
      "model_module": "@jupyter-widgets/controls",
      "model_module_version": "1.5.0",
      "model_name": "ButtonStyleModel",
      "state": {}
     },
     "d912c4e5791d405db3fb38598f927395": {
      "model_module": "@jupyter-widgets/base",
      "model_module_version": "1.2.0",
      "model_name": "LayoutModel",
      "state": {
       "width": "100%"
      }
     },
     "d91355c65deb4566bdb31a3bf7d7f5db": {
      "model_module": "@jupyter-widgets/controls",
      "model_module_version": "1.5.0",
      "model_name": "SelectMultipleModel",
      "state": {
       "_options_labels": [
        "C:\\engDev\\git_mf\\ipyrun\\data\\external\\eplus_pipework_params.csv"
       ],
       "description": "outputs",
       "index": [],
       "layout": "IPY_MODEL_00365e897a274fd789adee4530f78315",
       "rows": 4,
       "style": "IPY_MODEL_1e29a1bd2aa34944acaafc9a3b3e67f1"
      }
     },
     "d915d675081a4cbb8020480b9cbbc7bd": {
      "model_module": "@jupyter-widgets/base",
      "model_module_version": "1.2.0",
      "model_name": "LayoutModel",
      "state": {}
     },
     "d92e98734df3435cb1aff0b240c56464": {
      "model_module": "@jupyter-widgets/base",
      "model_module_version": "1.2.0",
      "model_name": "LayoutModel",
      "state": {}
     },
     "d932d5b9e0d44e8fa296202b7b177e86": {
      "model_module": "@jupyter-widgets/output",
      "model_module_version": "1.0.0",
      "model_name": "OutputModel",
      "state": {
       "layout": "IPY_MODEL_420c7a299648492d8953e9f597264c4d"
      }
     },
     "d93fa55c99344f988f299968dbe9b6bb": {
      "model_module": "@jupyter-widgets/controls",
      "model_module_version": "1.5.0",
      "model_name": "HBoxModel",
      "state": {
       "children": [
        "IPY_MODEL_8015d96abfd14cdfb0b0c2d865d6f62f",
        "IPY_MODEL_c1f917acddde481f9cb5e250be93e3d3",
        "IPY_MODEL_dd5691a99b0b47d084f14ff069879577",
        "IPY_MODEL_e4846e21edf341c8b09cec48f4c10095"
       ],
       "layout": "IPY_MODEL_febf61feed5740ba851da066fe3e8a1d"
      }
     },
     "d94065fcae35407f8f81210fbafea728": {
      "model_module": "@jupyter-widgets/base",
      "model_module_version": "1.2.0",
      "model_name": "LayoutModel",
      "state": {
       "height": "30px",
       "width": "auto"
      }
     },
     "d95b106815194a7d9dc12950bae92bdc": {
      "model_module": "@jupyter-widgets/controls",
      "model_module_version": "1.5.0",
      "model_name": "ButtonStyleModel",
      "state": {
       "font_weight": "bold"
      }
     },
     "d95dd2b43ad64953a935e02f4ebfe760": {
      "model_module": "@jupyter-widgets/controls",
      "model_module_version": "1.5.0",
      "model_name": "CheckboxModel",
      "state": {
       "disabled": false,
       "indent": false,
       "layout": "IPY_MODEL_1c5acf32403c45398d9f98c23287d6e0",
       "style": "IPY_MODEL_51bfb01ad87445b291333ee402388a44",
       "value": false
      }
     },
     "d95ec375101a4cc9a0af92582bd3e63b": {
      "model_module": "@jupyter-widgets/controls",
      "model_module_version": "1.5.0",
      "model_name": "ButtonModel",
      "state": {
       "button_style": "warning",
       "description": "edit inputs",
       "layout": "IPY_MODEL_4bed498383d0488882bbed62cae17dc5",
       "style": "IPY_MODEL_23e334628779479fb6baded02a79f275",
       "tooltip": "edit the user input information that is used when the script is executed"
      }
     },
     "d9a4a04515dd441d916022fd180de69d": {
      "model_module": "@jupyter-widgets/controls",
      "model_module_version": "1.5.0",
      "model_name": "ButtonModel",
      "state": {
       "icon": "question-circle",
       "layout": "IPY_MODEL_178a402298ae49679e979cefae93c093",
       "style": "IPY_MODEL_3a6f933391c34ac6b2a18f7da2b56184",
       "tooltip": "describes the functionality of elements in the RunApp interface"
      }
     },
     "d9d108bc7c464809b10abcbcd74fbba2": {
      "model_module": "@jupyter-widgets/base",
      "model_module_version": "1.2.0",
      "model_name": "LayoutModel",
      "state": {
       "height": "30px",
       "width": "auto"
      }
     },
     "d9d498cfa1214c86b8d0869bb685795b": {
      "model_module": "@jupyter-widgets/controls",
      "model_module_version": "1.5.0",
      "model_name": "ButtonStyleModel",
      "state": {
       "font_weight": "bold"
      }
     },
     "da06f7ec9c5749d3ba728a52900a0b0c": {
      "model_module": "@jupyter-widgets/controls",
      "model_module_version": "1.5.0",
      "model_name": "ButtonStyleModel",
      "state": {
       "font_weight": "bold"
      }
     },
     "da2c5ad1e5df459a82a072148ec2bc19": {
      "model_module": "@jupyter-widgets/base",
      "model_module_version": "1.2.0",
      "model_name": "LayoutModel",
      "state": {
       "align_items": "stretch",
       "width": "100%"
      }
     },
     "da31558c14934b3d85b2ccebf7d6eff1": {
      "model_module": "@jupyter-widgets/controls",
      "model_module_version": "1.5.0",
      "model_name": "VBoxModel",
      "state": {
       "children": [
        "IPY_MODEL_fdf7fff6826e47c183e36ef088bbac44",
        "IPY_MODEL_ba78940153ec49d8897695159e947242"
       ],
       "layout": "IPY_MODEL_ed644d5b9e3242c8a1a20a2763939535"
      }
     },
     "da3981c5a2994cc3b4aed03c82bb54dc": {
      "model_module": "@jupyter-widgets/controls",
      "model_module_version": "1.5.0",
      "model_name": "ButtonStyleModel",
      "state": {
       "font_weight": "bold"
      }
     },
     "da4cf28dddc84eb6bb3f33d302ba3b0a": {
      "model_module": "@jupyter-widgets/base",
      "model_module_version": "1.2.0",
      "model_name": "LayoutModel",
      "state": {
       "border": "0px",
       "margin": "0px",
       "padding": "0px"
      }
     },
     "da62fd34b69141bebe71c0de66c8b884": {
      "model_module": "@jupyter-widgets/base",
      "model_module_version": "1.2.0",
      "model_name": "LayoutModel",
      "state": {}
     },
     "da7519796b894a058eaf1269c461ba19": {
      "model_module": "@jupyter-widgets/output",
      "model_module_version": "1.0.0",
      "model_name": "OutputModel",
      "state": {
       "layout": "IPY_MODEL_5de182edadd14d30b6a0bb985aa4409e"
      }
     },
     "da8baefb9ac04e7cb1e0ea60c8e17e4a": {
      "model_module": "@jupyter-widgets/controls",
      "model_module_version": "1.5.0",
      "model_name": "TextModel",
      "state": {
       "description": "script",
       "disabled": true,
       "layout": "IPY_MODEL_8d3a5efa96564df7a3818e4f3d1cb095",
       "style": "IPY_MODEL_c3e9ccbd5342480aa5d9e2ad26fdc77d",
       "value": "C:\\engDev\\git_mf\\MF_Toolbox\\dev\\mf_scripts\\docx_to_pdf.py"
      }
     },
     "dabba811053e44968967e08137e99cf2": {
      "model_module": "@jupyter-widgets/controls",
      "model_module_version": "1.5.0",
      "model_name": "BoxModel",
      "state": {
       "children": [
        "IPY_MODEL_ae1608da41f64b85b5c8557b5b4480b1"
       ],
       "layout": "IPY_MODEL_02999691bd894b568567878fe0761ea3"
      }
     },
     "dace86f83a5443f08917b83f6009012e": {
      "model_module": "@jupyter-widgets/controls",
      "model_module_version": "1.5.0",
      "model_name": "ButtonModel",
      "state": {
       "button_style": "info",
       "description": "show guide",
       "layout": "IPY_MODEL_7c7e3f2217d64abf8bce0c02f47aaf6d",
       "style": "IPY_MODEL_4d4eb93b80de432ba2f6772dd903b5be",
       "tooltip": "read the \"docstring\", ie. the documentation that was written to accompany the script"
      }
     },
     "daeaff3aea53446f976cab516e2c7615": {
      "model_module": "@jupyter-widgets/controls",
      "model_module_version": "1.5.0",
      "model_name": "ButtonModel",
      "state": {
       "button_style": "info",
       "description": "preview outputs",
       "layout": "IPY_MODEL_1c6af35e5dfd41b28ad6c498ea44bfec",
       "style": "IPY_MODEL_b70fd9ab7adc487e840b2bf721066dc3",
       "tooltip": "show a preview of the output files generated when the script runs"
      }
     },
     "db1a2ad3fd1c411ca4e10d290a388280": {
      "model_module": "@jupyter-widgets/controls",
      "model_module_version": "1.5.0",
      "model_name": "BoxModel",
      "state": {
       "children": [
        "IPY_MODEL_24f848ffb73c4f85bd2b8fd1e21c5000"
       ],
       "layout": "IPY_MODEL_c4e45071bb964265968bb191762404f1"
      }
     },
     "db3106a1d43c471eaaa137bc2ef7e28a": {
      "model_module": "@jupyter-widgets/controls",
      "model_module_version": "1.5.0",
      "model_name": "CheckboxModel",
      "state": {
       "disabled": false,
       "indent": false,
       "layout": "IPY_MODEL_5160dd36d76c4634a3531e6073d6e816",
       "style": "IPY_MODEL_00695587e5704ffe81285526c908ff87",
       "value": false
      }
     },
     "dbd355741a0e427c83b189ad068279c7": {
      "model_module": "@jupyter-widgets/controls",
      "model_module_version": "1.5.0",
      "model_name": "ButtonStyleModel",
      "state": {
       "font_weight": "bold"
      }
     },
     "dbdc05e07286497abea6196b71cb9bb0": {
      "model_module": "@jupyter-widgets/base",
      "model_module_version": "1.2.0",
      "model_name": "LayoutModel",
      "state": {}
     },
     "dbe5b1049824478fbcc280cdb3c0c2c0": {
      "model_module": "@jupyter-widgets/controls",
      "model_module_version": "1.5.0",
      "model_name": "ButtonModel",
      "state": {
       "button_style": "info",
       "description": "show source code",
       "layout": "IPY_MODEL_99bcf340ff624a57874965e1361c5e0b",
       "style": "IPY_MODEL_13af1a7c343f47198ca0bf0835efcb2b",
       "tooltip": "shows the raw python code in the preview window below"
      }
     },
     "dbf3fcedc4154159addf8185cdffeebb": {
      "model_module": "@jupyter-widgets/base",
      "model_module_version": "1.2.0",
      "model_name": "LayoutModel",
      "state": {
       "width": "100%"
      }
     },
     "dc33c04c1a794035a6fa4d62cd378ca8": {
      "model_module": "@jupyter-widgets/controls",
      "model_module_version": "1.5.0",
      "model_name": "AccordionModel",
      "state": {
       "_titles": {
        "0": "eplus_pipework_params"
       },
       "children": [
        "IPY_MODEL_7a1a3fd0c1a34a3590962c1804da5fa3"
       ],
       "layout": "IPY_MODEL_cbe3d58fd32f4b8ca76f0cbc8c3c76cc",
       "selected_index": null
      }
     },
     "dc3a46aa5ef64ff28583fe06e2d460da": {
      "model_module": "@jupyter-widgets/base",
      "model_module_version": "1.2.0",
      "model_name": "LayoutModel",
      "state": {}
     },
     "dc40297b20d84fa7b0a7817581bb132f": {
      "model_module": "@jupyter-widgets/controls",
      "model_module_version": "1.5.0",
      "model_name": "ButtonStyleModel",
      "state": {
       "font_weight": "bold"
      }
     },
     "dc5dd23e6aa240bf817c0aaa9bcc872e": {
      "model_module": "@jupyter-widgets/base",
      "model_module_version": "1.2.0",
      "model_name": "LayoutModel",
      "state": {
       "width": "5%"
      }
     },
     "dc7508c1463445bcbbee83316ab29d3a": {
      "model_module": "@jupyter-widgets/base",
      "model_module_version": "1.2.0",
      "model_name": "LayoutModel",
      "state": {}
     },
     "dc8e694809da487b94b686a581075af1": {
      "model_module": "@jupyter-widgets/controls",
      "model_module_version": "1.5.0",
      "model_name": "HBoxModel",
      "state": {
       "children": [
        "IPY_MODEL_9c1bc2e73b594060919dd9c5f46b657e",
        "IPY_MODEL_231c8f222d074b4d8225263da8070fa1"
       ],
       "layout": "IPY_MODEL_b189524b0f23423fae7846e403b2f489"
      }
     },
     "dcc3179ac9344ded9a148c882459f7e1": {
      "model_module": "@jupyter-widgets/controls",
      "model_module_version": "1.5.0",
      "model_name": "ButtonStyleModel",
      "state": {
       "font_weight": "add"
      }
     },
     "dcffb2aa52de43e69768d68da797331d": {
      "model_module": "@jupyter-widgets/controls",
      "model_module_version": "1.5.0",
      "model_name": "ButtonStyleModel",
      "state": {}
     },
     "dd01b9e5a58444b08397d6392105585a": {
      "model_module": "@jupyter-widgets/base",
      "model_module_version": "1.2.0",
      "model_name": "LayoutModel",
      "state": {}
     },
     "dd124ae0e7544d59b926ab64303576a2": {
      "model_module": "@jupyter-widgets/controls",
      "model_module_version": "1.5.0",
      "model_name": "SelectMultipleModel",
      "state": {
       "_options_labels": [
        "C:\\engDev\\git_mf\\ipyrun\\data\\external\\eplus_pipework_params.csv"
       ],
       "description": "outputs",
       "index": [],
       "layout": "IPY_MODEL_5b7bccee388a4d01bca4639b4ab2d825",
       "rows": 4,
       "style": "IPY_MODEL_a7709999a0574e49a77f2afd8281d821"
      }
     },
     "dd12c501803548b9b3b1c4d1d3227746": {
      "model_module": "@jupyter-widgets/controls",
      "model_module_version": "1.5.0",
      "model_name": "HBoxModel",
      "state": {
       "children": [
        "IPY_MODEL_93a2c724b3a2409685fc4e7f8b38f720",
        "IPY_MODEL_1ab1c808b29d4b7c8f565d614720422a",
        "IPY_MODEL_305ab5f850c64d64aa85323e427acd3a",
        "IPY_MODEL_1009ee462e684e6287f01d51642ad722",
        "IPY_MODEL_3f3ba421a04e4f80b97d431cf28a7d36",
        "IPY_MODEL_69f6f1e0ee3d47e1a10d2db985985409",
        "IPY_MODEL_ed8860446a2247bf915c930ad3c2b9c3"
       ],
       "layout": "IPY_MODEL_37e25879cc7b4e82807fd6c4c5442b95"
      }
     },
     "dd2ba0f523ba4a53aa3115e1dddb4c68": {
      "model_module": "@jupyter-widgets/controls",
      "model_module_version": "1.5.0",
      "model_name": "BoxModel",
      "state": {
       "children": [
        "IPY_MODEL_52fe0e42b24749c68f19ec59a5cb1436"
       ],
       "layout": "IPY_MODEL_99ed3b43ff5841a3bd7ca7c3fd3c40c1"
      }
     },
     "dd33f7d138834a89933a301e22aa0e20": {
      "model_module": "@jupyter-widgets/base",
      "model_module_version": "1.2.0",
      "model_name": "LayoutModel",
      "state": {
       "align_items": "stretch",
       "width": "100%"
      }
     },
     "dd396884d4d54378b1f8c0457fb6c2b2": {
      "model_module": "@jupyter-widgets/base",
      "model_module_version": "1.2.0",
      "model_name": "LayoutModel",
      "state": {
       "height": "30px",
       "width": "auto"
      }
     },
     "dd5691a99b0b47d084f14ff069879577": {
      "model_module": "@jupyter-widgets/controls",
      "model_module_version": "1.5.0",
      "model_name": "ButtonModel",
      "state": {
       "button_style": "success",
       "description": "run batch",
       "layout": "IPY_MODEL_6b3825ab0db3461ea948b50560d8b277",
       "style": "IPY_MODEL_dcc3179ac9344ded9a148c882459f7e1",
       "tooltip": "execute checked processes below"
      }
     },
     "dd897aa53f26432ebb743a23d7a1dd3a": {
      "model_module": "@jupyter-widgets/controls",
      "model_module_version": "1.5.0",
      "model_name": "HBoxModel",
      "state": {
       "children": [
        "IPY_MODEL_32acc2cad9e64bb482bc3c82ac3d4e6a",
        "IPY_MODEL_3e388bb168604c92b2b7be5add8d19e0",
        "IPY_MODEL_6e1febd79d95410a803a9a648939c30e",
        "IPY_MODEL_90bf3672690645efab4f31657add9bad",
        "IPY_MODEL_863f4cadf432494cae61f973d292ed36",
        "IPY_MODEL_35b0a1b69baa4191a235b54b2f8eb03c",
        "IPY_MODEL_96b5a89e714041b995268606ea0c25bf"
       ],
       "layout": "IPY_MODEL_49f542161086423f97081aeb68ecf4e6"
      }
     },
     "dd8feed2005d41c2a0dfe5768160c6ff": {
      "model_module": "@jupyter-widgets/controls",
      "model_module_version": "1.5.0",
      "model_name": "ButtonModel",
      "state": {
       "button_style": "info",
       "description": "show guide",
       "layout": "IPY_MODEL_65bccd12dbde46069f0212233c701ed2",
       "style": "IPY_MODEL_d0512b810fb64825b3d072a3b0ef6f85",
       "tooltip": "read the \"docstring\", ie. the documentation that was written to accompany the script"
      }
     },
     "ddb02f4fe27f4557a628b97f9938f9a0": {
      "model_module": "@jupyter-widgets/controls",
      "model_module_version": "1.5.0",
      "model_name": "ButtonStyleModel",
      "state": {
       "font_weight": "bold"
      }
     },
     "ddb376aa214c4285a02c514af47e304a": {
      "model_module": "@jupyter-widgets/controls",
      "model_module_version": "1.5.0",
      "model_name": "AccordionModel",
      "state": {
       "_titles": {
        "0": "docx_to_pdf"
       },
       "children": [
        "IPY_MODEL_ec5546e4ccd5476da2eb8fa111553a73"
       ],
       "layout": "IPY_MODEL_53b28ddc40a64258aee7417e3533ff1d",
       "selected_index": null
      }
     },
     "ddbe24ec3da741698e8ff61e1e1dd231": {
      "model_module": "@jupyter-widgets/controls",
      "model_module_version": "1.5.0",
      "model_name": "ButtonStyleModel",
      "state": {
       "font_weight": "bold"
      }
     },
     "de2055c4f9484855bb0cea255c83239a": {
      "model_module": "@jupyter-widgets/base",
      "model_module_version": "1.2.0",
      "model_name": "LayoutModel",
      "state": {}
     },
     "de393ce94a80441c8f5e14d74e161f0f": {
      "model_module": "@jupyter-widgets/controls",
      "model_module_version": "1.5.0",
      "model_name": "ButtonStyleModel",
      "state": {
       "font_weight": "bold"
      }
     },
     "de4a17867cf149ed93b6d7f8a6b5720b": {
      "model_module": "@jupyter-widgets/base",
      "model_module_version": "1.2.0",
      "model_name": "LayoutModel",
      "state": {
       "height": "30px",
       "width": "auto"
      }
     },
     "de4e890673af498d93c7e0fbb65bf023": {
      "model_module": "@jupyter-widgets/controls",
      "model_module_version": "1.5.0",
      "model_name": "ButtonModel",
      "state": {
       "button_style": "info",
       "description": "preview outputs",
       "layout": "IPY_MODEL_273d45b371b444af8412fb4c52f17b91",
       "style": "IPY_MODEL_fd8181d129fd412ca7476fa1b0a5879b",
       "tooltip": "show a preview of the output files generated when the script runs"
      }
     },
     "de5196eb50d64c63b6f2c8267da6344f": {
      "model_module": "@jupyter-widgets/controls",
      "model_module_version": "1.5.0",
      "model_name": "HBoxModel",
      "state": {
       "children": [
        "IPY_MODEL_adaac80b40414bafa59659ec15519bad",
        "IPY_MODEL_f0d67bb1632743ad9edbe0a22b37ddba",
        "IPY_MODEL_5da4836c882b4e2181e9a2ee0c644c26",
        "IPY_MODEL_f02e0cd2f3ba496f9526281057f6aa48",
        "IPY_MODEL_f28c94e6b4b5467bac55dd1b1e502e36",
        "IPY_MODEL_7deca216364f4e58ba1f203c668e78a1",
        "IPY_MODEL_b251d7744603497690bfd756af1edc71"
       ],
       "layout": "IPY_MODEL_043c5f62d11244d1873fb3c216e907cd"
      }
     },
     "de8636c659654d38a11eb377c0c67f2e": {
      "model_module": "@jupyter-widgets/controls",
      "model_module_version": "1.5.0",
      "model_name": "ButtonModel",
      "state": {
       "button_style": "success",
       "description": "run batch",
       "layout": "IPY_MODEL_29b96b2067a44b25b74ae8eeeaa678e1",
       "style": "IPY_MODEL_7da858771c9f4085be0ea83f4af56b1d",
       "tooltip": "execute checked processes below"
      }
     },
     "de8e8ec6cc90435a97202debe85de75f": {
      "model_module": "@jupyter-widgets/controls",
      "model_module_version": "1.5.0",
      "model_name": "ButtonStyleModel",
      "state": {
       "font_weight": "bold"
      }
     },
     "de9b8e53386c4355bc1abdd337287af6": {
      "model_module": "@jupyter-widgets/controls",
      "model_module_version": "1.5.0",
      "model_name": "AccordionModel",
      "state": {
       "_titles": {
        "0": "eplus_pipework_params"
       },
       "children": [
        "IPY_MODEL_3d1050788e7c4bde8b1deadfec78430d"
       ],
       "layout": "IPY_MODEL_bd28224de3d34454910fce7ac92e4125",
       "selected_index": null
      }
     },
     "de9baf37221449b7ba12351b32aa411e": {
      "model_module": "@jupyter-widgets/controls",
      "model_module_version": "1.5.0",
      "model_name": "ButtonStyleModel",
      "state": {
       "font_weight": "bold"
      }
     },
     "dea54ce8feee4c48afb0fb6163a0501a": {
      "model_module": "@jupyter-widgets/controls",
      "model_module_version": "1.5.0",
      "model_name": "TextModel",
      "state": {
       "description": "inputs",
       "disabled": true,
       "layout": "IPY_MODEL_a6d2410e4add4a389c4fdc3dc2aa4edd",
       "style": "IPY_MODEL_9411663f46ef417eb4ea1f5ea1c44efc",
       "value": "C:\\engDev\\git_mf\\ipyrun\\ipyrun\\appdata\\inputs\\inputs-gbxml.json"
      }
     },
     "dec23255b528446e961dbf1ed9a2fd65": {
      "model_module": "@jupyter-widgets/controls",
      "model_module_version": "1.5.0",
      "model_name": "ButtonStyleModel",
      "state": {
       "font_weight": "bold"
      }
     },
     "defe243c26c444ccbc9c7a54e8bfb56e": {
      "model_module": "@jupyter-widgets/base",
      "model_module_version": "1.2.0",
      "model_name": "LayoutModel",
      "state": {}
     },
     "df13f6a04957462faae43444a058a913": {
      "model_module": "@jupyter-widgets/controls",
      "model_module_version": "1.5.0",
      "model_name": "ButtonModel",
      "state": {
       "button_style": "success",
       "description": "run",
       "layout": "IPY_MODEL_e40c85ed4f5c4a538a3e4afebc6aa42b",
       "style": "IPY_MODEL_ca7e161ee023498fa654b36b6e3e46ca",
       "tooltip": "execute the script based on the user inputs"
      }
     },
     "df4c684c1a8840048ef5328692fc723f": {
      "model_module": "@jupyter-widgets/controls",
      "model_module_version": "1.5.0",
      "model_name": "CheckboxModel",
      "state": {
       "disabled": false,
       "indent": false,
       "layout": "IPY_MODEL_d4fb13441e5544ccbef6d0a1729f23d5",
       "style": "IPY_MODEL_ee887d3e18684ae7a0bd72c64530e203",
       "value": false
      }
     },
     "df738c4932cb4e39a1420b5e13a863c8": {
      "model_module": "@jupyter-widgets/controls",
      "model_module_version": "1.5.0",
      "model_name": "VBoxModel",
      "state": {
       "children": [
        "IPY_MODEL_f6aefc316ee84e1398bf1a9c08d94ae1",
        "IPY_MODEL_e971af64e88d461cace14f51636d6b18",
        "IPY_MODEL_3c7b5eb5e24b4005a5095825f53c510e"
       ],
       "layout": "IPY_MODEL_9f930be447aa4d2fa896d30a3a84a41f"
      }
     },
     "df82b47506e945228cba0b28e216c785": {
      "model_module": "@jupyter-widgets/base",
      "model_module_version": "1.2.0",
      "model_name": "LayoutModel",
      "state": {
       "height": "30px",
       "max_width": "30px",
       "padding": "3px"
      }
     },
     "df88ec4f291c410ea539bb2abcbb6eb9": {
      "model_module": "@jupyter-widgets/base",
      "model_module_version": "1.2.0",
      "model_name": "LayoutModel",
      "state": {
       "height": "30px",
       "max_width": "30px",
       "padding": "3px"
      }
     },
     "df8afc339236445699cb781463facac3": {
      "model_module": "@jupyter-widgets/controls",
      "model_module_version": "1.5.0",
      "model_name": "ButtonStyleModel",
      "state": {
       "font_weight": "bold"
      }
     },
     "dfa51b51902c4b048214692f66f348b4": {
      "model_module": "@jupyter-widgets/controls",
      "model_module_version": "1.5.0",
      "model_name": "HBoxModel",
      "state": {
       "children": [
        "IPY_MODEL_8f90052cf91b473e8468412236ce92d1",
        "IPY_MODEL_bf2d64c0535e46198c57ab751ca098e7"
       ],
       "layout": "IPY_MODEL_76027197063f48a19a88ec9e5185022d"
      }
     },
     "dfd4d3f0d48b46a69ede6f919e5a0d81": {
      "model_module": "@jupyter-widgets/controls",
      "model_module_version": "1.5.0",
      "model_name": "ButtonStyleModel",
      "state": {
       "font_weight": "bold"
      }
     },
     "e000470964474689bcdbc29c943b0ff8": {
      "model_module": "@jupyter-widgets/controls",
      "model_module_version": "1.5.0",
      "model_name": "BoxModel",
      "state": {
       "children": [
        "IPY_MODEL_69a393d9bba149249786167409b916c1"
       ],
       "layout": "IPY_MODEL_f1e6421d154e4a5da0a993fd8b1f6bfd"
      }
     },
     "e04705153e0642c7a7e9aac66def9c43": {
      "model_module": "@jupyter-widgets/controls",
      "model_module_version": "1.5.0",
      "model_name": "ButtonModel",
      "state": {
       "button_style": "warning",
       "description": "edit inputs",
       "layout": "IPY_MODEL_5e14e56c6ae24da688e775944f7966e1",
       "style": "IPY_MODEL_e15bcf11814245d3bbb596809ced598d",
       "tooltip": "edit the user input information that is used when the script is executed"
      }
     },
     "e05b195854bf435ca741259dfb7faf83": {
      "model_module": "@jupyter-widgets/base",
      "model_module_version": "1.2.0",
      "model_name": "LayoutModel",
      "state": {}
     },
     "e0713940bb3848a5adbba283dd1b09af": {
      "model_module": "@jupyter-widgets/controls",
      "model_module_version": "1.5.0",
      "model_name": "ButtonStyleModel",
      "state": {
       "font_weight": "bold"
      }
     },
     "e0850f0ad8a04c1bb68efee7dfdacc3f": {
      "model_module": "@jupyter-widgets/base",
      "model_module_version": "1.2.0",
      "model_name": "LayoutModel",
      "state": {}
     },
     "e08f4f31b9e0495e945ce97ddb573a37": {
      "model_module": "@jupyter-widgets/output",
      "model_module_version": "1.0.0",
      "model_name": "OutputModel",
      "state": {
       "layout": "IPY_MODEL_eba83013668c4b68bf09f1306003bb0b"
      }
     },
     "e0a1b17c615b430588ce560967abe84e": {
      "model_module": "@jupyter-widgets/base",
      "model_module_version": "1.2.0",
      "model_name": "LayoutModel",
      "state": {}
     },
     "e0b1a58c2bcb46eb9c5df57fa3824b69": {
      "model_module": "@jupyter-widgets/controls",
      "model_module_version": "1.5.0",
      "model_name": "VBoxModel",
      "state": {
       "children": [
        "IPY_MODEL_6f36aef0ab504b2aa571d6779a7dd668",
        "IPY_MODEL_5ae4c811fe2c4319bdd01bdc60b4c4ad",
        "IPY_MODEL_be86f3e684984b84a04771d3cb26211d"
       ],
       "layout": "IPY_MODEL_9f07c18555214168924a683403035fb2"
      }
     },
     "e0d0723861e74bd98b84f35f324f7587": {
      "model_module": "@jupyter-widgets/controls",
      "model_module_version": "1.5.0",
      "model_name": "ButtonModel",
      "state": {
       "button_style": "info",
       "description": "show guide",
       "layout": "IPY_MODEL_30b621691bb14593bf65e7d061821379",
       "style": "IPY_MODEL_ebc5e9f127454ddfa7ec2c2e7b47b5e2",
       "tooltip": "read the \"docstring\", ie. the documentation that was written to accompany the script"
      }
     },
     "e0f04a45a5d541e5ba7ec328c57a2409": {
      "model_module": "@jupyter-widgets/controls",
      "model_module_version": "1.5.0",
      "model_name": "ButtonModel",
      "state": {
       "button_style": "info",
       "description": "show log",
       "layout": "IPY_MODEL_64fa25c5fd3a4eaca81c990426f278f5",
       "style": "IPY_MODEL_8c41cd2839984c96bc09b20ae23efff6",
       "tooltip": "show a log of when the script was executed to generate the outputs, and by who"
      }
     },
     "e0fc2df1236c4c29bce5586083136007": {
      "model_module": "@jupyter-widgets/controls",
      "model_module_version": "1.5.0",
      "model_name": "ButtonStyleModel",
      "state": {
       "font_weight": "bold"
      }
     },
     "e1074276d9364558b48e631c95f18d03": {
      "model_module": "@jupyter-widgets/controls",
      "model_module_version": "1.5.0",
      "model_name": "ButtonStyleModel",
      "state": {
       "font_weight": "bold"
      }
     },
     "e1259e0c3517400b90341ae333fe953b": {
      "model_module": "@jupyter-widgets/base",
      "model_module_version": "1.2.0",
      "model_name": "LayoutModel",
      "state": {
       "align_items": "stretch",
       "width": "100%"
      }
     },
     "e14b0832081b425d9d13484bc65c313d": {
      "model_module": "@jupyter-widgets/base",
      "model_module_version": "1.2.0",
      "model_name": "LayoutModel",
      "state": {}
     },
     "e15bcf11814245d3bbb596809ced598d": {
      "model_module": "@jupyter-widgets/controls",
      "model_module_version": "1.5.0",
      "model_name": "ButtonStyleModel",
      "state": {
       "font_weight": "bold"
      }
     },
     "e16759c414014a6bb4dab21a2143f5a9": {
      "model_module": "@jupyter-widgets/controls",
      "model_module_version": "1.5.0",
      "model_name": "DescriptionStyleModel",
      "state": {
       "description_width": ""
      }
     },
     "e16e80ffa1624b5a9816938e86062fcb": {
      "model_module": "@jupyter-widgets/controls",
      "model_module_version": "1.5.0",
      "model_name": "ButtonStyleModel",
      "state": {
       "font_weight": "bold"
      }
     },
     "e189d350a85b410e9bcf292a59fa7236": {
      "model_module": "@jupyter-widgets/base",
      "model_module_version": "1.2.0",
      "model_name": "LayoutModel",
      "state": {}
     },
     "e1cc42ab573b4761a879a6b127eeab51": {
      "model_module": "@jupyter-widgets/controls",
      "model_module_version": "1.5.0",
      "model_name": "DescriptionStyleModel",
      "state": {
       "description_width": ""
      }
     },
     "e1e6c9ca4db349eda4aa4c0bec6d2bd1": {
      "model_module": "@jupyter-widgets/base",
      "model_module_version": "1.2.0",
      "model_name": "LayoutModel",
      "state": {}
     },
     "e1ea3f6519c64ae1892e5ef83e576fbd": {
      "model_module": "@jupyter-widgets/controls",
      "model_module_version": "1.5.0",
      "model_name": "DescriptionStyleModel",
      "state": {
       "description_width": ""
      }
     },
     "e1effa9fc6bd48d89b5b8b4cdefe2e45": {
      "model_module": "@jupyter-widgets/base",
      "model_module_version": "1.2.0",
      "model_name": "LayoutModel",
      "state": {}
     },
     "e20013054a624850bdc454c609eafdc2": {
      "model_module": "@jupyter-widgets/controls",
      "model_module_version": "1.5.0",
      "model_name": "ButtonModel",
      "state": {
       "icon": "question-circle",
       "layout": "IPY_MODEL_3e5e71d326e54df9a6a8f0d3571602ed",
       "style": "IPY_MODEL_5ed89f7d058e46e3a7b0a93222e4962a",
       "tooltip": "describes the functionality of elements in the RunApp interface"
      }
     },
     "e20295163904418ab27ea91214f0afa6": {
      "model_module": "@jupyter-widgets/base",
      "model_module_version": "1.2.0",
      "model_name": "LayoutModel",
      "state": {
       "height": "30px",
       "width": "auto"
      }
     },
     "e204d738299b446aa124f032675a9105": {
      "model_module": "@jupyter-widgets/base",
      "model_module_version": "1.2.0",
      "model_name": "LayoutModel",
      "state": {}
     },
     "e2284817bb2e46cbb68eb435aca4e1ac": {
      "model_module": "@jupyter-widgets/controls",
      "model_module_version": "1.5.0",
      "model_name": "SelectMultipleModel",
      "state": {
       "_options_labels": [
        "C:\\engDev\\git_mf\\ipyrun\\reports\\JupyterReportDemo.pdf"
       ],
       "description": "outputs",
       "index": [],
       "layout": "IPY_MODEL_55be6acbaeab455fa022ccbd10d50be7",
       "rows": 4,
       "style": "IPY_MODEL_5f9ff85760bf4521a4f954ee5341e90e"
      }
     },
     "e245b20e76bb46ce9dadd18269c0355f": {
      "model_module": "@jupyter-widgets/controls",
      "model_module_version": "1.5.0",
      "model_name": "DescriptionStyleModel",
      "state": {
       "description_width": ""
      }
     },
     "e24a75ad44bb4276b55a4a2477906930": {
      "model_module": "@jupyter-widgets/controls",
      "model_module_version": "1.5.0",
      "model_name": "TextModel",
      "state": {
       "description": "script",
       "disabled": true,
       "layout": "IPY_MODEL_37f60791f29246e99bc614093e50e5aa",
       "style": "IPY_MODEL_c249bf1097254b36b67c48554a5df473",
       "value": "C:\\engDev\\git_mf\\MF_Toolbox\\dev\\mf_scripts\\eplus_pipework_params.py"
      }
     },
     "e26a1121708d4a1aaf41610cbf1d4eba": {
      "model_module": "@jupyter-widgets/controls",
      "model_module_version": "1.5.0",
      "model_name": "ButtonModel",
      "state": {
       "button_style": "info",
       "description": "show source code",
       "layout": "IPY_MODEL_53e7a492aae04997b7344d8e97512986",
       "style": "IPY_MODEL_524eadfe004740d3adda362517f156e9",
       "tooltip": "shows the raw python code in the preview window below"
      }
     },
     "e278307cb80640208f5d35ab9991bd45": {
      "model_module": "@jupyter-widgets/base",
      "model_module_version": "1.2.0",
      "model_name": "LayoutModel",
      "state": {}
     },
     "e2863aed8ad94aca8e33cbf22684a76a": {
      "model_module": "@jupyter-widgets/controls",
      "model_module_version": "1.5.0",
      "model_name": "TextModel",
      "state": {
       "description": "inputs",
       "disabled": true,
       "layout": "IPY_MODEL_52a6b93f09c341c2838892a4024b4051",
       "style": "IPY_MODEL_2ada040209a7464ea8121168f5ef4da9",
       "value": "C:\\engDev\\git_mf\\ipyrun\\ipyrun\\appdata\\inputs\\inputs-docx_to_pdf.json"
      }
     },
     "e2956b59aa8c4f1b8670bd447a7629a1": {
      "model_module": "@jupyter-widgets/base",
      "model_module_version": "1.2.0",
      "model_name": "LayoutModel",
      "state": {
       "align_items": "stretch",
       "width": "100%"
      }
     },
     "e29b38e8ba0642d3b201e3c19f27bd8b": {
      "model_module": "@jupyter-widgets/base",
      "model_module_version": "1.2.0",
      "model_name": "LayoutModel",
      "state": {
       "border": "0px",
       "margin": "0px",
       "padding": "0px"
      }
     },
     "e2c0136b78a447c08efb3bb51a25818b": {
      "model_module": "@jupyter-widgets/base",
      "model_module_version": "1.2.0",
      "model_name": "LayoutModel",
      "state": {
       "height": "30px",
       "width": "auto"
      }
     },
     "e2e7a8e778f245178a2af1c604efb2e6": {
      "model_module": "@jupyter-widgets/base",
      "model_module_version": "1.2.0",
      "model_name": "LayoutModel",
      "state": {}
     },
     "e2f2856e69e54f9e923a7880298915b1": {
      "model_module": "@jupyter-widgets/base",
      "model_module_version": "1.2.0",
      "model_name": "LayoutModel",
      "state": {
       "border": "0px",
       "margin": "0px",
       "padding": "0px"
      }
     },
     "e366ef8db6c847c1818387d519f25e53": {
      "model_module": "@jupyter-widgets/controls",
      "model_module_version": "1.5.0",
      "model_name": "HBoxModel",
      "state": {
       "children": [
        "IPY_MODEL_f01f6eb617d647f18284c747409ad472",
        "IPY_MODEL_8bd9d27ba3854ae9b98c374545db3aa1"
       ],
       "layout": "IPY_MODEL_bc7414af7c4446f88e571056682791c3"
      }
     },
     "e38aa724748b4ad5ab0a9ddd3a4ec44f": {
      "model_module": "@jupyter-widgets/controls",
      "model_module_version": "1.5.0",
      "model_name": "VBoxModel",
      "state": {
       "children": [
        "IPY_MODEL_04e1559b45114c048543f97500e808f4",
        "IPY_MODEL_282337e439ec4bf6940737c40ff14263",
        "IPY_MODEL_4bf7760523514ec3b1e2ef616c5a13de"
       ],
       "layout": "IPY_MODEL_95a110ac26ae4622bc5e64737100d74e"
      }
     },
     "e3ad91f9654549a1a5311e82cbadd8c5": {
      "model_module": "@jupyter-widgets/controls",
      "model_module_version": "1.5.0",
      "model_name": "ButtonModel",
      "state": {
       "button_style": "info",
       "description": "show guide",
       "layout": "IPY_MODEL_bed83de6ddd542169fb5b35a834ad83a",
       "style": "IPY_MODEL_3f3373c4ebd04948a358a1f3202f80ba",
       "tooltip": "read the \"docstring\", ie. the documentation that was written to accompany the script"
      }
     },
     "e3ce5a83c4c74b6d84c94875b0ea445f": {
      "model_module": "@jupyter-widgets/base",
      "model_module_version": "1.2.0",
      "model_name": "LayoutModel",
      "state": {
       "width": "100%"
      }
     },
     "e3f183eaedbf4a3aa9453380b5f0e407": {
      "model_module": "@jupyter-widgets/controls",
      "model_module_version": "1.5.0",
      "model_name": "ButtonModel",
      "state": {
       "icon": "eye-slash",
       "layout": "IPY_MODEL_5a198c7fa41548059867827445778f7f",
       "style": "IPY_MODEL_47d3aed45f17434b8ee3a9c1f1cae95a",
       "tooltip": "removes temporary output view"
      }
     },
     "e3f47b1879ab4fb9883e059159085765": {
      "model_module": "@jupyter-widgets/controls",
      "model_module_version": "1.5.0",
      "model_name": "ButtonModel",
      "state": {
       "button_style": "info",
       "description": "show guide",
       "layout": "IPY_MODEL_04cbc3d876f7490083b153d59f114dc6",
       "style": "IPY_MODEL_ddbe24ec3da741698e8ff61e1e1dd231",
       "tooltip": "read the \"docstring\", ie. the documentation that was written to accompany the script"
      }
     },
     "e40c85ed4f5c4a538a3e4afebc6aa42b": {
      "model_module": "@jupyter-widgets/base",
      "model_module_version": "1.2.0",
      "model_name": "LayoutModel",
      "state": {}
     },
     "e41257ee7aa64770b122d77bd47db597": {
      "model_module": "@jupyter-widgets/controls",
      "model_module_version": "1.5.0",
      "model_name": "ButtonModel",
      "state": {
       "button_style": "info",
       "description": "show guide",
       "layout": "IPY_MODEL_19bfc4d9612748888119771249d05acd",
       "style": "IPY_MODEL_45256a907dbc43d5a1b58545d3d025f4",
       "tooltip": "read the \"docstring\", ie. the documentation that was written to accompany the script"
      }
     },
     "e41ecbf12a834f1cbf65855379a0fe45": {
      "model_module": "@jupyter-widgets/base",
      "model_module_version": "1.2.0",
      "model_name": "LayoutModel",
      "state": {}
     },
     "e43702cef03f445699c614c8cc4299ca": {
      "model_module": "@jupyter-widgets/controls",
      "model_module_version": "1.5.0",
      "model_name": "DescriptionStyleModel",
      "state": {
       "description_width": ""
      }
     },
     "e446ec1172144c858d34ee9316e07ca1": {
      "model_module": "@jupyter-widgets/controls",
      "model_module_version": "1.5.0",
      "model_name": "ButtonStyleModel",
      "state": {
       "font_weight": "bold"
      }
     },
     "e4846e21edf341c8b09cec48f4c10095": {
      "model_module": "@jupyter-widgets/controls",
      "model_module_version": "1.5.0",
      "model_name": "ButtonModel",
      "state": {
       "button_style": "warning",
       "description": "add run",
       "layout": "IPY_MODEL_d19d8daf5cbe46b4a1f07ddd43e97d22",
       "style": "IPY_MODEL_d809a7619bb641c4b6122fe47895a665",
       "tooltip": "add new run, based on another run"
      }
     },
     "e495a00a3a9c4fd7946b408118daf05e": {
      "model_module": "@jupyter-widgets/output",
      "model_module_version": "1.0.0",
      "model_name": "OutputModel",
      "state": {
       "layout": "IPY_MODEL_3ad177a2460244409b089ebb20a4f98a"
      }
     },
     "e496462278a04d158f628c1f69ce39ce": {
      "model_module": "@jupyter-widgets/base",
      "model_module_version": "1.2.0",
      "model_name": "LayoutModel",
      "state": {}
     },
     "e49819abbe2c40e69ee7efcaa69e5c77": {
      "model_module": "@jupyter-widgets/controls",
      "model_module_version": "1.5.0",
      "model_name": "ButtonStyleModel",
      "state": {
       "font_weight": "bold"
      }
     },
     "e49ccc4647ca49e795107e1249793ff6": {
      "model_module": "@jupyter-widgets/controls",
      "model_module_version": "1.5.0",
      "model_name": "ButtonModel",
      "state": {
       "icon": "eye-slash",
       "layout": "IPY_MODEL_009106f690804d52a9346ed94d758cbb",
       "style": "IPY_MODEL_29c099fc07c84d428ae2babffb5195a3",
       "tooltip": "removes temporary output view"
      }
     },
     "e4a2149520474150a1e87e671804f430": {
      "model_module": "@jupyter-widgets/output",
      "model_module_version": "1.0.0",
      "model_name": "OutputModel",
      "state": {
       "layout": "IPY_MODEL_1eae6193c0334feabc2e89f4359fcdc8"
      }
     },
     "e4c2b43bb6b143a78e8a2649e380335a": {
      "model_module": "@jupyter-widgets/controls",
      "model_module_version": "1.5.0",
      "model_name": "DescriptionStyleModel",
      "state": {
       "description_width": ""
      }
     },
     "e4d0840849824f63907bfa3bba784338": {
      "model_module": "@jupyter-widgets/controls",
      "model_module_version": "1.5.0",
      "model_name": "VBoxModel",
      "state": {
       "children": [
        "IPY_MODEL_045b2d54500544c998b2ae4254841091",
        "IPY_MODEL_a0494f194dca4a9c9df36b55fed55657",
        "IPY_MODEL_eb0aab194b8a4b238a52bafd94b270f6"
       ],
       "layout": "IPY_MODEL_c9c4c784244c44db8e928d7e9f6adf45"
      }
     },
     "e4d7b5cf1e574809b2927394c985cfe1": {
      "model_module": "@jupyter-widgets/base",
      "model_module_version": "1.2.0",
      "model_name": "LayoutModel",
      "state": {
       "border": "0px",
       "margin": "0px",
       "padding": "0px"
      }
     },
     "e4da384d401d44a1ab120c532f78b798": {
      "model_module": "@jupyter-widgets/base",
      "model_module_version": "1.2.0",
      "model_name": "LayoutModel",
      "state": {}
     },
     "e4e81b2ff7de4f5b9692a0f4ddd92bc2": {
      "model_module": "@jupyter-widgets/base",
      "model_module_version": "1.2.0",
      "model_name": "LayoutModel",
      "state": {}
     },
     "e4f2da2709354c87a47d52697c0425ba": {
      "model_module": "@jupyter-widgets/base",
      "model_module_version": "1.2.0",
      "model_name": "LayoutModel",
      "state": {
       "align_items": "stretch",
       "width": "100%"
      }
     },
     "e51ce384974149a69f24b69471e1ff9c": {
      "model_module": "@jupyter-widgets/base",
      "model_module_version": "1.2.0",
      "model_name": "LayoutModel",
      "state": {}
     },
     "e536c2fe649e4e46aaf48637cae3f429": {
      "model_module": "@jupyter-widgets/controls",
      "model_module_version": "1.5.0",
      "model_name": "ButtonStyleModel",
      "state": {
       "font_weight": "bold"
      }
     },
     "e54933adea6a43f5a52ba9ec88dec3f7": {
      "model_module": "@jupyter-widgets/controls",
      "model_module_version": "1.5.0",
      "model_name": "ButtonModel",
      "state": {
       "button_style": "success",
       "description": "run batch",
       "layout": "IPY_MODEL_d5cb74e0e1594200bf1aad17ce8c8b62",
       "style": "IPY_MODEL_53a8829c549944b7a2b679575a785fcd",
       "tooltip": "execute checked processes below"
      }
     },
     "e54bf7584b374a1a8dae7ee5a815c96d": {
      "model_module": "@jupyter-widgets/controls",
      "model_module_version": "1.5.0",
      "model_name": "AccordionModel",
      "state": {
       "_titles": {
        "0": "eplus_pipework_params"
       },
       "children": [
        "IPY_MODEL_30b1a0ac28d84817ba513c13ff0ae824"
       ],
       "layout": "IPY_MODEL_7c829d6aa5184de9b7158e35106b72e3",
       "selected_index": null
      }
     },
     "e550e54ea0c34f0ca73332165bc01fe3": {
      "model_module": "@jupyter-widgets/controls",
      "model_module_version": "1.5.0",
      "model_name": "ButtonStyleModel",
      "state": {
       "font_weight": "bold"
      }
     },
     "e56ab42b4b2e4b76a748377189a7f275": {
      "model_module": "@jupyter-widgets/base",
      "model_module_version": "1.2.0",
      "model_name": "LayoutModel",
      "state": {
       "height": "30px",
       "max_width": "30px",
       "padding": "3px"
      }
     },
     "e5708ca59b554773ad1040f742dbe2e4": {
      "model_module": "@jupyter-widgets/base",
      "model_module_version": "1.2.0",
      "model_name": "LayoutModel",
      "state": {
       "height": "30px",
       "width": "auto"
      }
     },
     "e57235de963f46789dca3a5b12e822df": {
      "model_module": "@jupyter-widgets/controls",
      "model_module_version": "1.5.0",
      "model_name": "ButtonModel",
      "state": {
       "button_style": "warning",
       "description": "edit inputs",
       "layout": "IPY_MODEL_111693f838d0463387acc9ea61d46094",
       "style": "IPY_MODEL_b88021ea4cc64e1f9c84248f44f9ff92",
       "tooltip": "edit the user input information that is used when the script is executed"
      }
     },
     "e58fc5d293124b4fa0ec943b37f60814": {
      "model_module": "@jupyter-widgets/base",
      "model_module_version": "1.2.0",
      "model_name": "LayoutModel",
      "state": {}
     },
     "e5958b1083b0404195bdb8f73b189d66": {
      "model_module": "@jupyter-widgets/controls",
      "model_module_version": "1.5.0",
      "model_name": "ButtonModel",
      "state": {
       "button_style": "warning",
       "description": "edit inputs",
       "layout": "IPY_MODEL_acc47016f0504204967f5229c9a42151",
       "style": "IPY_MODEL_bd848df662094daa87251d53226c7e1f",
       "tooltip": "edit the user input information that is used when the script is executed"
      }
     },
     "e5a1436d56884a60ab10800824c98cb9": {
      "model_module": "@jupyter-widgets/base",
      "model_module_version": "1.2.0",
      "model_name": "LayoutModel",
      "state": {}
     },
     "e5aeba9806e746318da1db886b50a5da": {
      "model_module": "@jupyter-widgets/base",
      "model_module_version": "1.2.0",
      "model_name": "LayoutModel",
      "state": {
       "height": "30px",
       "width": "auto"
      }
     },
     "e5b53d85bdac4876a74e522091eb4f32": {
      "model_module": "@jupyter-widgets/controls",
      "model_module_version": "1.5.0",
      "model_name": "DescriptionStyleModel",
      "state": {
       "description_width": ""
      }
     },
     "e5d56b60567d4d3ba5bec919ee4762f6": {
      "model_module": "@jupyter-widgets/controls",
      "model_module_version": "1.5.0",
      "model_name": "ButtonStyleModel",
      "state": {
       "font_weight": "bold"
      }
     },
     "e5e42575373a4cba9ca0742bfa0b0d6a": {
      "model_module": "@jupyter-widgets/base",
      "model_module_version": "1.2.0",
      "model_name": "LayoutModel",
      "state": {
       "height": "30px",
       "width": "auto"
      }
     },
     "e62508b21dca409fa6a0320f22d0699a": {
      "model_module": "@jupyter-widgets/base",
      "model_module_version": "1.2.0",
      "model_name": "LayoutModel",
      "state": {}
     },
     "e65044de1237437b86871a8cca6a519b": {
      "model_module": "@jupyter-widgets/base",
      "model_module_version": "1.2.0",
      "model_name": "LayoutModel",
      "state": {}
     },
     "e687cf64397c4ffe99f26e0aaf3d04d2": {
      "model_module": "@jupyter-widgets/controls",
      "model_module_version": "1.5.0",
      "model_name": "VBoxModel",
      "state": {
       "children": [
        "IPY_MODEL_6123f521c76c4505a7119e5bd54a95c7",
        "IPY_MODEL_49d4a1f418c541839bc1c431a177bb18"
       ],
       "layout": "IPY_MODEL_94a721e591484821a0ae363f9c4bc187"
      }
     },
     "e6c658c243d74663a1c76b9261fd330a": {
      "model_module": "@jupyter-widgets/controls",
      "model_module_version": "1.5.0",
      "model_name": "ButtonStyleModel",
      "state": {
       "font_weight": "bold"
      }
     },
     "e6dcc0f3b71f48edacf352c91cfc7010": {
      "model_module": "@jupyter-widgets/base",
      "model_module_version": "1.2.0",
      "model_name": "LayoutModel",
      "state": {
       "border": "0px",
       "margin": "0px",
       "padding": "0px"
      }
     },
     "e6dd7b07d6d14c82ba607921601c25a5": {
      "model_module": "@jupyter-widgets/controls",
      "model_module_version": "1.5.0",
      "model_name": "BoxModel",
      "state": {
       "children": [
        "IPY_MODEL_472242720b604f4da106557212a4cf82"
       ],
       "layout": "IPY_MODEL_4e8457db10f0480ab8fb77b328699a14"
      }
     },
     "e6f37dbec365437681ffb0851bb62618": {
      "model_module": "@jupyter-widgets/base",
      "model_module_version": "1.2.0",
      "model_name": "LayoutModel",
      "state": {
       "height": "30px",
       "max_width": "30px",
       "padding": "3px"
      }
     },
     "e71391fe9ca84e7099d14fe016f06658": {
      "model_module": "@jupyter-widgets/controls",
      "model_module_version": "1.5.0",
      "model_name": "ButtonModel",
      "state": {
       "button_style": "warning",
       "description": "edit inputs",
       "layout": "IPY_MODEL_e87899956a374ed2bb3c0ab5b6b7129f",
       "style": "IPY_MODEL_60b15c50a0d248eab33b373afd8e1490",
       "tooltip": "edit the user input information that is used when the script is executed"
      }
     },
     "e713ea5d313f4677b5d237531d24a1f6": {
      "model_module": "@jupyter-widgets/controls",
      "model_module_version": "1.5.0",
      "model_name": "ButtonStyleModel",
      "state": {
       "font_weight": "bold"
      }
     },
     "e75a90670d904794b71ee7fedae2b55a": {
      "model_module": "@jupyter-widgets/base",
      "model_module_version": "1.2.0",
      "model_name": "LayoutModel",
      "state": {
       "width": "5%"
      }
     },
     "e78f539ba5be4c9ca24a5fc333d9afcf": {
      "model_module": "@jupyter-widgets/controls",
      "model_module_version": "1.5.0",
      "model_name": "VBoxModel",
      "state": {
       "children": [
        "IPY_MODEL_0d601fba4c0d4dcabd2570d47a4d6c28",
        "IPY_MODEL_f11035a7a9264816adacb343bff6c8d2"
       ],
       "layout": "IPY_MODEL_1bd3b6de08a64d36bb587b095fdbddfa"
      }
     },
     "e795cc2a6fbb4f21accc7818e3aad07d": {
      "model_module": "@jupyter-widgets/base",
      "model_module_version": "1.2.0",
      "model_name": "LayoutModel",
      "state": {}
     },
     "e7bc89c206b647a8a28502f24e60d9d8": {
      "model_module": "@jupyter-widgets/controls",
      "model_module_version": "1.5.0",
      "model_name": "ButtonModel",
      "state": {
       "button_style": "info",
       "description": "show guide",
       "layout": "IPY_MODEL_162e2203cd7d47f6ad531ae62717000e",
       "style": "IPY_MODEL_e446ec1172144c858d34ee9316e07ca1",
       "tooltip": "read the \"docstring\", ie. the documentation that was written to accompany the script"
      }
     },
     "e7c00c2a8bcc4f7cac169fd738ed6569": {
      "model_module": "@jupyter-widgets/base",
      "model_module_version": "1.2.0",
      "model_name": "LayoutModel",
      "state": {
       "width": "100%"
      }
     },
     "e7ccb101937a4af0993125399e4bf9cd": {
      "model_module": "@jupyter-widgets/controls",
      "model_module_version": "1.5.0",
      "model_name": "HBoxModel",
      "state": {
       "children": [
        "IPY_MODEL_423b8ddab26d4a598b1cb57dfe07e4a2",
        "IPY_MODEL_230560072b1c4054b6d548e1d33a7f21"
       ],
       "layout": "IPY_MODEL_60282e89a3cf4619ac472408a46960dc"
      }
     },
     "e7d0f58767a3430e9c90c773878f802d": {
      "model_module": "@jupyter-widgets/base",
      "model_module_version": "1.2.0",
      "model_name": "LayoutModel",
      "state": {
       "height": "30px",
       "width": "auto"
      }
     },
     "e7d6d2221b954dd6a90dc57bdd0ad47b": {
      "model_module": "@jupyter-widgets/controls",
      "model_module_version": "1.5.0",
      "model_name": "HBoxModel",
      "state": {
       "children": [
        "IPY_MODEL_db3106a1d43c471eaaa137bc2ef7e28a",
        "IPY_MODEL_28d1acf2b62442b8a7632e83b52dc941"
       ],
       "layout": "IPY_MODEL_fb7090675386438e82658ed37324a83e"
      }
     },
     "e84fd584b422410e97b0139282f6d61e": {
      "model_module": "@jupyter-widgets/controls",
      "model_module_version": "1.5.0",
      "model_name": "HBoxModel",
      "state": {
       "children": [
        "IPY_MODEL_7b481f996e454f848ef8b1a30db6930d",
        "IPY_MODEL_78ef4e3f7f7e43ef8118234503c522ab",
        "IPY_MODEL_d80daaf6fb8643f7b31059279992a9d4",
        "IPY_MODEL_cfd370a4d54540f0b52ff232a5b938d0",
        "IPY_MODEL_5c04125072f845bb9562d70b0fcfbf48",
        "IPY_MODEL_1903899a26324641b1cc1177c089fbb6",
        "IPY_MODEL_b267e3fc8fff46faad429f7d6731fc4f"
       ],
       "layout": "IPY_MODEL_7ddaf724317c4188a56b17f4f6c321f8"
      }
     },
     "e85b3fba8aeb49df836fff130a044b55": {
      "model_module": "@jupyter-widgets/controls",
      "model_module_version": "1.5.0",
      "model_name": "ButtonModel",
      "state": {
       "button_style": "info",
       "description": "show source code",
       "layout": "IPY_MODEL_c28d159148a64ec5ae3169e3b954de21",
       "style": "IPY_MODEL_64851ad6d05742c587532b298f0c2aa1",
       "tooltip": "shows the raw python code in the preview window below"
      }
     },
     "e87899956a374ed2bb3c0ab5b6b7129f": {
      "model_module": "@jupyter-widgets/base",
      "model_module_version": "1.2.0",
      "model_name": "LayoutModel",
      "state": {}
     },
     "e8815b7f2c694332a2acfd993257fa37": {
      "model_module": "@jupyter-widgets/base",
      "model_module_version": "1.2.0",
      "model_name": "LayoutModel",
      "state": {}
     },
     "e889bf8a39804a0983817196e39d3f75": {
      "model_module": "@jupyter-widgets/base",
      "model_module_version": "1.2.0",
      "model_name": "LayoutModel",
      "state": {}
     },
     "e88f825d688b4f24964b11edad00ac71": {
      "model_module": "@jupyter-widgets/controls",
      "model_module_version": "1.5.0",
      "model_name": "DescriptionStyleModel",
      "state": {
       "description_width": ""
      }
     },
     "e8a30e78c08b4d3c86539bae685d40c9": {
      "model_module": "@jupyter-widgets/base",
      "model_module_version": "1.2.0",
      "model_name": "LayoutModel",
      "state": {}
     },
     "e8f178afbe9d4681a849db0aec052f78": {
      "model_module": "@jupyter-widgets/base",
      "model_module_version": "1.2.0",
      "model_name": "LayoutModel",
      "state": {
       "align_items": "stretch",
       "width": "100%"
      }
     },
     "e8fa6288fd9941028d0a95b0a42dcef7": {
      "model_module": "@jupyter-widgets/base",
      "model_module_version": "1.2.0",
      "model_name": "LayoutModel",
      "state": {
       "height": "30px",
       "width": "auto"
      }
     },
     "e90406cfcf9840f9bf9a744744b432c3": {
      "model_module": "@jupyter-widgets/controls",
      "model_module_version": "1.5.0",
      "model_name": "ButtonStyleModel",
      "state": {
       "font_weight": "bold"
      }
     },
     "e92ac6e74620409588d242f9a67a3263": {
      "model_module": "@jupyter-widgets/controls",
      "model_module_version": "1.5.0",
      "model_name": "ButtonModel",
      "state": {
       "icon": "question-circle",
       "layout": "IPY_MODEL_4614df4be2fd492ea25d033786f53d32",
       "style": "IPY_MODEL_40c65d29a95f41ca961c4b102c5659b5",
       "tooltip": "describes the functionality of elements in the RunApp interface"
      }
     },
     "e93dd5d321fc491ebd406df27f7af1ab": {
      "model_module": "@jupyter-widgets/controls",
      "model_module_version": "1.5.0",
      "model_name": "SelectMultipleModel",
      "state": {
       "_options_labels": [
        "C:\\engDev\\git_mf\\ipyrun\\data\\external\\eplus_pipework_params.csv"
       ],
       "description": "outputs",
       "index": [],
       "layout": "IPY_MODEL_45ec768dc04c4b2284352b52d99d0084",
       "rows": 4,
       "style": "IPY_MODEL_ca4813b24bc14475bdfda0dfd5dbf23a"
      }
     },
     "e971af64e88d461cace14f51636d6b18": {
      "model_module": "@jupyter-widgets/controls",
      "model_module_version": "1.5.0",
      "model_name": "TextModel",
      "state": {
       "description": "script",
       "disabled": true,
       "layout": "IPY_MODEL_3fef7242b5f546bbbb2799c85b2671d1",
       "style": "IPY_MODEL_ae5f1625a8c94c3eb70220c34d593d47",
       "value": "C:\\engDev\\git_mf\\MF_Toolbox\\dev\\mf_scripts\\docx_to_pdf.py"
      }
     },
     "e99d3e7668c44af38d496b0e026a4acc": {
      "model_module": "@jupyter-widgets/base",
      "model_module_version": "1.2.0",
      "model_name": "LayoutModel",
      "state": {
       "height": "30px",
       "max_width": "30px",
       "padding": "3px"
      }
     },
     "e9a9c435bcd64b10940bc53a35b96195": {
      "model_module": "@jupyter-widgets/controls",
      "model_module_version": "1.5.0",
      "model_name": "ButtonStyleModel",
      "state": {
       "font_weight": "bold"
      }
     },
     "e9d46242d5ec4b0aad5d9e825b6b3378": {
      "model_module": "@jupyter-widgets/controls",
      "model_module_version": "1.5.0",
      "model_name": "ButtonStyleModel",
      "state": {
       "font_weight": "bold"
      }
     },
     "e9f74f089ecf430aa64b8b0bcd695fba": {
      "model_module": "@jupyter-widgets/controls",
      "model_module_version": "1.5.0",
      "model_name": "CheckboxModel",
      "state": {
       "disabled": false,
       "indent": false,
       "layout": "IPY_MODEL_27150e0063704ff1814366980c1787ca",
       "style": "IPY_MODEL_ef226bf6b2e24e7a927d207d992ec9de",
       "value": false
      }
     },
     "e9f8951301e74fecb88338bd289b1ec9": {
      "model_module": "@jupyter-widgets/base",
      "model_module_version": "1.2.0",
      "model_name": "LayoutModel",
      "state": {}
     },
     "ea5226aaa5084519a65b249a4e51261d": {
      "model_module": "@jupyter-widgets/controls",
      "model_module_version": "1.5.0",
      "model_name": "DescriptionStyleModel",
      "state": {
       "description_width": ""
      }
     },
     "ea5a4b4be284461e8996b62e0a857ab2": {
      "model_module": "@jupyter-widgets/controls",
      "model_module_version": "1.5.0",
      "model_name": "ButtonModel",
      "state": {
       "button_style": "info",
       "description": "show guide",
       "layout": "IPY_MODEL_3ee6cbbe77374152911c28cfbc4b300e",
       "style": "IPY_MODEL_7ba7785b2c2248a497c0fff7638f7919",
       "tooltip": "read the \"docstring\", ie. the documentation that was written to accompany the script"
      }
     },
     "ea68baf3a9984010b96092e5a38ad96c": {
      "model_module": "@jupyter-widgets/controls",
      "model_module_version": "1.5.0",
      "model_name": "TextModel",
      "state": {
       "description": "script",
       "disabled": true,
       "layout": "IPY_MODEL_9c9facc25a3241f9a8905e98d55cc50a",
       "style": "IPY_MODEL_e1cc42ab573b4761a879a6b127eeab51",
       "value": "C:\\engDev\\git_mf\\MF_Toolbox\\dev\\mf_scripts\\eplus_pipework_params.py"
      }
     },
     "ea9774489807458780d35123b591a1b3": {
      "model_module": "@jupyter-widgets/controls",
      "model_module_version": "1.5.0",
      "model_name": "ButtonModel",
      "state": {
       "icon": "question-circle",
       "layout": "IPY_MODEL_07dd06f2df03422cb419a7f21129907d",
       "style": "IPY_MODEL_a97e9ba0029c43ccb97c341cbb5cf0a7",
       "tooltip": "describes the functionality of elements in the RunApp interface"
      }
     },
     "ea994b122dfa4cd3b48313e308c09870": {
      "model_module": "@jupyter-widgets/controls",
      "model_module_version": "1.5.0",
      "model_name": "ButtonStyleModel",
      "state": {
       "font_weight": "bold"
      }
     },
     "eaa673e929f84cfeaa2d6d5de7f5688a": {
      "model_module": "@jupyter-widgets/base",
      "model_module_version": "1.2.0",
      "model_name": "LayoutModel",
      "state": {
       "width": "5%"
      }
     },
     "eacb307fac494bae80d0406c060df05e": {
      "model_module": "@jupyter-widgets/controls",
      "model_module_version": "1.5.0",
      "model_name": "ButtonStyleModel",
      "state": {
       "font_weight": "bold"
      }
     },
     "ead4a3db797c423c909837ff63e124ca": {
      "model_module": "@jupyter-widgets/base",
      "model_module_version": "1.2.0",
      "model_name": "LayoutModel",
      "state": {
       "align_items": "stretch",
       "width": "100%"
      }
     },
     "eade0ff46faf4300948d2130b5770c5c": {
      "model_module": "@jupyter-widgets/base",
      "model_module_version": "1.2.0",
      "model_name": "LayoutModel",
      "state": {
       "height": "30px",
       "width": "auto"
      }
     },
     "eb02f742f24f4b32964e69ba4bf9ce21": {
      "model_module": "@jupyter-widgets/controls",
      "model_module_version": "1.5.0",
      "model_name": "SelectMultipleModel",
      "state": {
       "_options_labels": [
        "C:\\engDev\\git_mf\\ipyrun\\data\\raw\\gbxml.xml",
        "C:\\engDev\\git_mf\\ipyrun\\data\\interim\\gbjson.json",
        "C:\\engDev\\git_mf\\ipyrun\\data\\processed\\gbxml_datagrab.xlsx",
        "C:\\engDev\\git_mf\\ipyrun\\data\\processed\\gbxml_spcs-treemap.png"
       ],
       "description": "outputs",
       "index": [],
       "layout": "IPY_MODEL_0a48bca97e7946e5a749d1f579edfb2e",
       "rows": 4,
       "style": "IPY_MODEL_4af673025e1f4f62905692204c18b2f8"
      }
     },
     "eb0aab194b8a4b238a52bafd94b270f6": {
      "model_module": "@jupyter-widgets/controls",
      "model_module_version": "1.5.0",
      "model_name": "VBoxModel",
      "state": {
       "children": [
        "IPY_MODEL_48733c2d9d084824af0b0d466494caf7",
        "IPY_MODEL_eeb5c3a5248f4465af2a15f9d1552c12"
       ],
       "layout": "IPY_MODEL_3c3c0d783ac042c2acc3ab7bb22a6235"
      }
     },
     "eb19925f2e964713b10d1061a985c2b6": {
      "model_module": "@jupyter-widgets/controls",
      "model_module_version": "1.5.0",
      "model_name": "SelectMultipleModel",
      "state": {
       "_options_labels": [
        "C:\\engDev\\git_mf\\ipyrun\\data\\external\\eplus_pipework_params.csv"
       ],
       "description": "outputs",
       "index": [],
       "layout": "IPY_MODEL_3f931657ceda48a0a92aaed2fcd209d8",
       "rows": 4,
       "style": "IPY_MODEL_462dbc50feff4b628b969f40d138ca29"
      }
     },
     "eb2e4bd755e3492e8cb2229e74ea6549": {
      "model_module": "@jupyter-widgets/base",
      "model_module_version": "1.2.0",
      "model_name": "LayoutModel",
      "state": {
       "height": "30px",
       "max_width": "30px",
       "padding": "3px"
      }
     },
     "eb3babe04b35437a9ad8cd97cbd910f6": {
      "model_module": "@jupyter-widgets/controls",
      "model_module_version": "1.5.0",
      "model_name": "ButtonModel",
      "state": {
       "button_style": "warning",
       "description": "edit inputs",
       "layout": "IPY_MODEL_63321adf7a8d4709ad035fdb15fc9f46",
       "style": "IPY_MODEL_888154d611584cca9d155acd3dbb7ff1",
       "tooltip": "edit the user input information that is used when the script is executed"
      }
     },
     "eb60292fa375424f921c4636b4cee2cb": {
      "model_module": "@jupyter-widgets/controls",
      "model_module_version": "1.5.0",
      "model_name": "ButtonStyleModel",
      "state": {
       "font_weight": "bold"
      }
     },
     "eb883acfd9a44dd780101bf9611575c1": {
      "model_module": "@jupyter-widgets/controls",
      "model_module_version": "1.5.0",
      "model_name": "DescriptionStyleModel",
      "state": {
       "description_width": ""
      }
     },
     "eb95f68c9a58443bb2b4ce0b5446217b": {
      "model_module": "@jupyter-widgets/base",
      "model_module_version": "1.2.0",
      "model_name": "LayoutModel",
      "state": {}
     },
     "eba070c4fbfc42009b5d74a2918d3b4d": {
      "model_module": "@jupyter-widgets/controls",
      "model_module_version": "1.5.0",
      "model_name": "ButtonStyleModel",
      "state": {
       "font_weight": "bold"
      }
     },
     "eba83013668c4b68bf09f1306003bb0b": {
      "model_module": "@jupyter-widgets/base",
      "model_module_version": "1.2.0",
      "model_name": "LayoutModel",
      "state": {}
     },
     "ebb8a026677542d580e024f688602066": {
      "model_module": "@jupyter-widgets/base",
      "model_module_version": "1.2.0",
      "model_name": "LayoutModel",
      "state": {
       "height": "30px",
       "width": "auto"
      }
     },
     "ebb98c0036bb48fb8d3133ce9125d8af": {
      "model_module": "@jupyter-widgets/controls",
      "model_module_version": "1.5.0",
      "model_name": "ButtonModel",
      "state": {
       "icon": "question-circle",
       "layout": "IPY_MODEL_5c4d2dd81ae648cfbb104fc0aa4a82ba",
       "style": "IPY_MODEL_c1aa05dd7b894003a13293b860883a91",
       "tooltip": "describes the functionality of elements in the RunApp interface"
      }
     },
     "ebc33bb732eb4f68847327bd2c96e475": {
      "model_module": "@jupyter-widgets/controls",
      "model_module_version": "1.5.0",
      "model_name": "ButtonModel",
      "state": {
       "icon": "question-circle",
       "layout": "IPY_MODEL_ad08f6faec01404b907fb78d17d023ea",
       "style": "IPY_MODEL_2a4980180bb643119d24c73865998b06",
       "tooltip": "describes the functionality of elements in the RunApp interface"
      }
     },
     "ebc5e9f127454ddfa7ec2c2e7b47b5e2": {
      "model_module": "@jupyter-widgets/controls",
      "model_module_version": "1.5.0",
      "model_name": "ButtonStyleModel",
      "state": {
       "font_weight": "bold"
      }
     },
     "ebd1b9aa208f40568892f699f319e732": {
      "model_module": "@jupyter-widgets/base",
      "model_module_version": "1.2.0",
      "model_name": "LayoutModel",
      "state": {
       "align_items": "stretch",
       "width": "100%"
      }
     },
     "ebdf6ed4eb3e4f13bd257eb0c7fc5df3": {
      "model_module": "@jupyter-widgets/controls",
      "model_module_version": "1.5.0",
      "model_name": "ButtonModel",
      "state": {
       "icon": "eye-slash",
       "layout": "IPY_MODEL_38c37512b37c48a2ad020a172116e5b7",
       "style": "IPY_MODEL_93b62dd4b8614eb88cdda5b96d0c85a7",
       "tooltip": "removes temporary output view"
      }
     },
     "ebed44788f6b411a9f216bc2a203ac55": {
      "model_module": "@jupyter-widgets/controls",
      "model_module_version": "1.5.0",
      "model_name": "DescriptionStyleModel",
      "state": {
       "description_width": ""
      }
     },
     "ebf2bd83cd2048648a38f2eb4667b87c": {
      "model_module": "@jupyter-widgets/controls",
      "model_module_version": "1.5.0",
      "model_name": "ButtonStyleModel",
      "state": {
       "font_weight": "bold"
      }
     },
     "ebfb39643fba4d629be15303bc13bd56": {
      "model_module": "@jupyter-widgets/base",
      "model_module_version": "1.2.0",
      "model_name": "LayoutModel",
      "state": {}
     },
     "ebff6c6459c74cf58d71f63c0c810fd6": {
      "model_module": "@jupyter-widgets/base",
      "model_module_version": "1.2.0",
      "model_name": "LayoutModel",
      "state": {}
     },
     "ec22ae06ebec44ea8bf7f3a05a8ed016": {
      "model_module": "@jupyter-widgets/base",
      "model_module_version": "1.2.0",
      "model_name": "LayoutModel",
      "state": {
       "height": "30px",
       "width": "auto"
      }
     },
     "ec22b05c822a4dc4b788d4a882f6c36d": {
      "model_module": "@jupyter-widgets/controls",
      "model_module_version": "1.5.0",
      "model_name": "DescriptionStyleModel",
      "state": {
       "description_width": ""
      }
     },
     "ec2f8354a34b4e26bb7641151fe790f0": {
      "model_module": "@jupyter-widgets/base",
      "model_module_version": "1.2.0",
      "model_name": "LayoutModel",
      "state": {
       "width": "100%"
      }
     },
     "ec5275e03c7b4c06ac5b54946c9fdd16": {
      "model_module": "@jupyter-widgets/controls",
      "model_module_version": "1.5.0",
      "model_name": "ButtonStyleModel",
      "state": {
       "font_weight": "bold"
      }
     },
     "ec5546e4ccd5476da2eb8fa111553a73": {
      "model_module": "@jupyter-widgets/controls",
      "model_module_version": "1.5.0",
      "model_name": "VBoxModel",
      "state": {
       "children": [
        "IPY_MODEL_392a62ca93454cf3a84ec6bd5011b51f",
        "IPY_MODEL_fa70e92ebe3a4285b2406497e51cb11d"
       ],
       "layout": "IPY_MODEL_6d9bc2ec55f24647a4e96f8f453253c3"
      }
     },
     "ec6119ec9964406c858973ae37f43f20": {
      "model_module": "@jupyter-widgets/controls",
      "model_module_version": "1.5.0",
      "model_name": "ButtonModel",
      "state": {
       "button_style": "info",
       "description": "show source code",
       "layout": "IPY_MODEL_e1effa9fc6bd48d89b5b8b4cdefe2e45",
       "style": "IPY_MODEL_1b2f8a10ae5845b290062282570d5e3b",
       "tooltip": "shows the raw python code in the preview window below"
      }
     },
     "ec7d155b5550447eb0dfb261bb552a85": {
      "model_module": "@jupyter-widgets/controls",
      "model_module_version": "1.5.0",
      "model_name": "ButtonStyleModel",
      "state": {
       "font_weight": "bold"
      }
     },
     "ec8293eb81784a3ba24e17141829d3e8": {
      "model_module": "@jupyter-widgets/base",
      "model_module_version": "1.2.0",
      "model_name": "LayoutModel",
      "state": {
       "width": "5%"
      }
     },
     "ec983b99bb5548859d0c70088f2f6ad7": {
      "model_module": "@jupyter-widgets/controls",
      "model_module_version": "1.5.0",
      "model_name": "SelectMultipleModel",
      "state": {
       "_options_labels": [
        "C:\\engDev\\git_mf\\ipyrun\\reports\\JupyterReportDemo.pdf"
       ],
       "description": "outputs",
       "index": [],
       "layout": "IPY_MODEL_c0509696111e4223af3d717cfbb6626d",
       "rows": 4,
       "style": "IPY_MODEL_a893685f89ef4221a4a4568654fd010c"
      }
     },
     "eca5ffdc5f9f49eebb631eb6f774c595": {
      "model_module": "@jupyter-widgets/controls",
      "model_module_version": "1.5.0",
      "model_name": "ButtonModel",
      "state": {
       "button_style": "warning",
       "description": "edit inputs",
       "layout": "IPY_MODEL_446f70462c3741f09bc7ba83b619582f",
       "style": "IPY_MODEL_49248e5757ae4537a8119ea130ff83ae",
       "tooltip": "edit the user input information that is used when the script is executed"
      }
     },
     "eca9a8c2f69b46f899406f3543a0be7f": {
      "model_module": "@jupyter-widgets/output",
      "model_module_version": "1.0.0",
      "model_name": "OutputModel",
      "state": {
       "layout": "IPY_MODEL_ecd19cc659c94d99ab13226089cbc151"
      }
     },
     "ecab9d2fbeca4ee595195e0689b7335d": {
      "model_module": "@jupyter-widgets/controls",
      "model_module_version": "1.5.0",
      "model_name": "ButtonModel",
      "state": {
       "button_style": "success",
       "description": "run batch",
       "layout": "IPY_MODEL_dc7508c1463445bcbbee83316ab29d3a",
       "style": "IPY_MODEL_9817e4b6772b4e9fa0c3ff31ea444071",
       "tooltip": "execute checked processes below"
      }
     },
     "ecc929ac1985457cada2ce62cc014819": {
      "model_module": "@jupyter-widgets/output",
      "model_module_version": "1.0.0",
      "model_name": "OutputModel",
      "state": {
       "layout": "IPY_MODEL_6129a2bd03bb43df8d98fa7f9df4af99"
      }
     },
     "ecca7feee348459b97163dbfed544847": {
      "model_module": "@jupyter-widgets/controls",
      "model_module_version": "1.5.0",
      "model_name": "ButtonModel",
      "state": {
       "button_style": "info",
       "description": "show guide",
       "layout": "IPY_MODEL_98effa4f428344d28f0396257c63ca21",
       "style": "IPY_MODEL_abc6bdc12dcc4fb7b3f560d949c94835",
       "tooltip": "read the \"docstring\", ie. the documentation that was written to accompany the script"
      }
     },
     "ecd19cc659c94d99ab13226089cbc151": {
      "model_module": "@jupyter-widgets/base",
      "model_module_version": "1.2.0",
      "model_name": "LayoutModel",
      "state": {}
     },
     "ece77b31f1c04b8a9c2116a39f0f2dba": {
      "model_module": "@jupyter-widgets/base",
      "model_module_version": "1.2.0",
      "model_name": "LayoutModel",
      "state": {
       "align_items": "stretch",
       "width": "100%"
      }
     },
     "ecffc10f1a6645ab9ef217859220c8c8": {
      "model_module": "@jupyter-widgets/base",
      "model_module_version": "1.2.0",
      "model_name": "LayoutModel",
      "state": {}
     },
     "ed2d7502f9224af0bf95de10c92a007d": {
      "model_module": "@jupyter-widgets/controls",
      "model_module_version": "1.5.0",
      "model_name": "ButtonStyleModel",
      "state": {}
     },
     "ed3149c67c4f4e49beb3cf2385cd34c9": {
      "model_module": "@jupyter-widgets/base",
      "model_module_version": "1.2.0",
      "model_name": "LayoutModel",
      "state": {}
     },
     "ed3aa246299e4023a526ca48d1d1c138": {
      "model_module": "@jupyter-widgets/controls",
      "model_module_version": "1.5.0",
      "model_name": "ButtonStyleModel",
      "state": {
       "font_weight": "bold"
      }
     },
     "ed624c72b8c946e59fb6978b7deacc03": {
      "model_module": "@jupyter-widgets/controls",
      "model_module_version": "1.5.0",
      "model_name": "VBoxModel",
      "state": {
       "children": [
        "IPY_MODEL_0560eafa9a664be6bbf65e5dac562660",
        "IPY_MODEL_1c2a1d5819aa450797b7a925eb00daf5",
        "IPY_MODEL_29a7d7286c464be4864c3fe8e14da42e"
       ],
       "layout": "IPY_MODEL_e4f2da2709354c87a47d52697c0425ba"
      }
     },
     "ed644d5b9e3242c8a1a20a2763939535": {
      "model_module": "@jupyter-widgets/base",
      "model_module_version": "1.2.0",
      "model_name": "LayoutModel",
      "state": {}
     },
     "ed8860446a2247bf915c930ad3c2b9c3": {
      "model_module": "@jupyter-widgets/controls",
      "model_module_version": "1.5.0",
      "model_name": "ButtonModel",
      "state": {
       "button_style": "info",
       "description": "show log",
       "layout": "IPY_MODEL_4bf8634c4a224510877beca58057f587",
       "style": "IPY_MODEL_ec7d155b5550447eb0dfb261bb552a85",
       "tooltip": "show a log of when the script was executed to generate the outputs, and by who"
      }
     },
     "ed9814a75fb84fc6ad09f0606884da2a": {
      "model_module": "@jupyter-widgets/base",
      "model_module_version": "1.2.0",
      "model_name": "LayoutModel",
      "state": {}
     },
     "ed9bba75aeaa4736b06710277a5e7765": {
      "model_module": "@jupyter-widgets/controls",
      "model_module_version": "1.5.0",
      "model_name": "ButtonStyleModel",
      "state": {
       "font_weight": "bold"
      }
     },
     "edd623d31e204df6931a14bc3aedb28c": {
      "model_module": "@jupyter-widgets/controls",
      "model_module_version": "1.5.0",
      "model_name": "DescriptionStyleModel",
      "state": {
       "description_width": ""
      }
     },
     "edda11e860364544a0a79eee701b1c13": {
      "model_module": "@jupyter-widgets/controls",
      "model_module_version": "1.5.0",
      "model_name": "ButtonModel",
      "state": {
       "button_style": "info",
       "description": "preview outputs",
       "layout": "IPY_MODEL_fb3d07b3f5a84487b6c989580e674683",
       "style": "IPY_MODEL_56ed7b4acb334129b5c4d450e921b93d",
       "tooltip": "show a preview of the output files generated when the script runs"
      }
     },
     "edeee22e19b74f82a2cf9e05a13c3667": {
      "model_module": "@jupyter-widgets/controls",
      "model_module_version": "1.5.0",
      "model_name": "ButtonModel",
      "state": {
       "button_style": "info",
       "description": "preview outputs",
       "layout": "IPY_MODEL_461c1beb4fe749978429b90137255909",
       "style": "IPY_MODEL_f48cf26b915e4dd580eca78ad48ba297",
       "tooltip": "show a preview of the output files generated when the script runs"
      }
     },
     "edf286bd8ec64e7b9a6b013fa55bf522": {
      "model_module": "@jupyter-widgets/controls",
      "model_module_version": "1.5.0",
      "model_name": "ButtonStyleModel",
      "state": {
       "font_weight": "bold"
      }
     },
     "edfc340c312c486d8519317dc3c74d3a": {
      "model_module": "@jupyter-widgets/controls",
      "model_module_version": "1.5.0",
      "model_name": "DescriptionStyleModel",
      "state": {
       "description_width": ""
      }
     },
     "ee1aba07193a4857bc3f4355b7334eab": {
      "model_module": "@jupyter-widgets/controls",
      "model_module_version": "1.5.0",
      "model_name": "SelectMultipleModel",
      "state": {
       "_options_labels": [
        "C:\\engDev\\git_mf\\ipyrun\\data\\external\\eplus_pipework_params.csv"
       ],
       "description": "outputs",
       "index": [],
       "layout": "IPY_MODEL_02c3e5a2e043417aa99c6941fa5a3939",
       "rows": 4,
       "style": "IPY_MODEL_91c28a1d111245f099a9647448fc7008"
      }
     },
     "ee3d7bfe3acd4de3a4c6c799c9b94207": {
      "model_module": "@jupyter-widgets/controls",
      "model_module_version": "1.5.0",
      "model_name": "ButtonStyleModel",
      "state": {
       "font_weight": "bold"
      }
     },
     "ee58b0f30fc74eaa9416e8a42c9f81d0": {
      "model_module": "@jupyter-widgets/base",
      "model_module_version": "1.2.0",
      "model_name": "LayoutModel",
      "state": {
       "height": "30px",
       "width": "auto"
      }
     },
     "ee887d3e18684ae7a0bd72c64530e203": {
      "model_module": "@jupyter-widgets/controls",
      "model_module_version": "1.5.0",
      "model_name": "DescriptionStyleModel",
      "state": {
       "description_width": ""
      }
     },
     "ee903636386f4e1ebf01d3e57c5a1363": {
      "model_module": "@jupyter-widgets/controls",
      "model_module_version": "1.5.0",
      "model_name": "BoxModel",
      "state": {
       "children": [
        "IPY_MODEL_c249effe83e54b989bc8f48761bf83a8"
       ],
       "layout": "IPY_MODEL_7d061ac2bdc14b3f9551dc8984bbfee2"
      }
     },
     "ee9ee71873254c199714636facb261b0": {
      "model_module": "@jupyter-widgets/base",
      "model_module_version": "1.2.0",
      "model_name": "LayoutModel",
      "state": {
       "align_items": "stretch",
       "width": "100%"
      }
     },
     "eeb5c3a5248f4465af2a15f9d1552c12": {
      "model_module": "@jupyter-widgets/output",
      "model_module_version": "1.0.0",
      "model_name": "OutputModel",
      "state": {
       "layout": "IPY_MODEL_8d45f2d92f5e432e8ba4c3e03739870a"
      }
     },
     "eee82c511ad94fac823dd6ce33bb350d": {
      "model_module": "@jupyter-widgets/base",
      "model_module_version": "1.2.0",
      "model_name": "LayoutModel",
      "state": {}
     },
     "ef09d19d392d4403b82c70150a611b55": {
      "model_module": "@jupyter-widgets/base",
      "model_module_version": "1.2.0",
      "model_name": "LayoutModel",
      "state": {
       "border": "0px",
       "margin": "0px",
       "padding": "0px"
      }
     },
     "ef1e4a40cdb64d508ddcabf197e97182": {
      "model_module": "@jupyter-widgets/controls",
      "model_module_version": "1.5.0",
      "model_name": "DescriptionStyleModel",
      "state": {
       "description_width": ""
      }
     },
     "ef226bf6b2e24e7a927d207d992ec9de": {
      "model_module": "@jupyter-widgets/controls",
      "model_module_version": "1.5.0",
      "model_name": "DescriptionStyleModel",
      "state": {
       "description_width": ""
      }
     },
     "ef34bcf3ce8a47cb9b624056d0177781": {
      "model_module": "@jupyter-widgets/base",
      "model_module_version": "1.2.0",
      "model_name": "LayoutModel",
      "state": {}
     },
     "ef4a3e6b503544e1aac6661e4073e1b0": {
      "model_module": "@jupyter-widgets/base",
      "model_module_version": "1.2.0",
      "model_name": "LayoutModel",
      "state": {}
     },
     "ef5ca9f535a04d6b9c39bd84537741af": {
      "model_module": "@jupyter-widgets/controls",
      "model_module_version": "1.5.0",
      "model_name": "DescriptionStyleModel",
      "state": {
       "description_width": ""
      }
     },
     "ef6c7b1e33684fc48d5ad1a024d0523f": {
      "model_module": "@jupyter-widgets/controls",
      "model_module_version": "1.5.0",
      "model_name": "ButtonModel",
      "state": {
       "icon": "eye-slash",
       "layout": "IPY_MODEL_2ee24a33122b442d933bf8892eacb835",
       "style": "IPY_MODEL_65dd4eed3853428fabaaff1bd213cb8c",
       "tooltip": "removes temporary output view"
      }
     },
     "ef6e7696a0e54ed8b59a453e2537a0a5": {
      "model_module": "@jupyter-widgets/base",
      "model_module_version": "1.2.0",
      "model_name": "LayoutModel",
      "state": {}
     },
     "ef77d40c3b1f4b219ea09cba24055cce": {
      "model_module": "@jupyter-widgets/controls",
      "model_module_version": "1.5.0",
      "model_name": "SelectMultipleModel",
      "state": {
       "_options_labels": [
        "C:\\engDev\\git_mf\\ipyrun\\data\\external\\eplus_pipework_params.csv"
       ],
       "description": "outputs",
       "index": [],
       "layout": "IPY_MODEL_475798c8e2f041af96c305f5b695b263",
       "rows": 4,
       "style": "IPY_MODEL_c9eefd58a16a47969fc206e555e552fb"
      }
     },
     "efb82893af3f4408a2e3f625066b4544": {
      "model_module": "@jupyter-widgets/base",
      "model_module_version": "1.2.0",
      "model_name": "LayoutModel",
      "state": {
       "height": "30px",
       "width": "auto"
      }
     },
     "f01f6eb617d647f18284c747409ad472": {
      "model_module": "@jupyter-widgets/controls",
      "model_module_version": "1.5.0",
      "model_name": "CheckboxModel",
      "state": {
       "disabled": false,
       "indent": false,
       "layout": "IPY_MODEL_4d2a3ed12562434c998621034800fa92",
       "style": "IPY_MODEL_469e0b5443c74a53ad0357e91369f2e8",
       "value": false
      }
     },
     "f020876741e54b318d31e7ea79cbfe90": {
      "model_module": "@jupyter-widgets/controls",
      "model_module_version": "1.5.0",
      "model_name": "ButtonModel",
      "state": {
       "icon": "question-circle",
       "layout": "IPY_MODEL_35fadf94788542d6a8812e74a0a57dfc",
       "style": "IPY_MODEL_50c6650003284cb4badfadd0720e671d",
       "tooltip": "describes the functionality of elements in the RunApp interface"
      }
     },
     "f0212ff3263c433aae8a8530ac419220": {
      "model_module": "@jupyter-widgets/controls",
      "model_module_version": "1.5.0",
      "model_name": "ButtonModel",
      "state": {
       "icon": "eye-slash",
       "layout": "IPY_MODEL_0d941eca2ff540829204dd622f30cfc1",
       "style": "IPY_MODEL_6b34d61ccff44400aa548fccdcbae912",
       "tooltip": "removes temporary output view"
      }
     },
     "f02e0cd2f3ba496f9526281057f6aa48": {
      "model_module": "@jupyter-widgets/controls",
      "model_module_version": "1.5.0",
      "model_name": "ButtonModel",
      "state": {
       "button_style": "warning",
       "description": "edit inputs",
       "layout": "IPY_MODEL_eb95f68c9a58443bb2b4ce0b5446217b",
       "style": "IPY_MODEL_b9147b60c3a74fe0bfa71716d879a0b1",
       "tooltip": "edit the user input information that is used when the script is executed"
      }
     },
     "f0721d91aa2b41bd8900c31aca282b12": {
      "model_module": "@jupyter-widgets/controls",
      "model_module_version": "1.5.0",
      "model_name": "ButtonStyleModel",
      "state": {
       "font_weight": "bold"
      }
     },
     "f09123d7b6164e9ba4c8e0dc3c37c378": {
      "model_module": "@jupyter-widgets/base",
      "model_module_version": "1.2.0",
      "model_name": "LayoutModel",
      "state": {
       "width": "5%"
      }
     },
     "f0973c18f9fd401f8aa2c87b7752c0da": {
      "model_module": "@jupyter-widgets/controls",
      "model_module_version": "1.5.0",
      "model_name": "ButtonModel",
      "state": {
       "button_style": "info",
       "description": "show log",
       "layout": "IPY_MODEL_062e3437ae8340d6af5725d3b9556863",
       "style": "IPY_MODEL_165567b53de8497383e73e10e303688d",
       "tooltip": "show a log of when the script was executed to generate the outputs, and by who"
      }
     },
     "f0d67bb1632743ad9edbe0a22b37ddba": {
      "model_module": "@jupyter-widgets/controls",
      "model_module_version": "1.5.0",
      "model_name": "ButtonModel",
      "state": {
       "icon": "question-circle",
       "layout": "IPY_MODEL_ec8293eb81784a3ba24e17141829d3e8",
       "style": "IPY_MODEL_7905ab1c47d14353951fe1ff33eeec85",
       "tooltip": "describes the functionality of elements in the RunApp interface"
      }
     },
     "f0e4210f4e4c48b6bbec22551846324e": {
      "model_module": "@jupyter-widgets/base",
      "model_module_version": "1.2.0",
      "model_name": "LayoutModel",
      "state": {
       "width": "100%"
      }
     },
     "f11035a7a9264816adacb343bff6c8d2": {
      "model_module": "@jupyter-widgets/controls",
      "model_module_version": "1.5.0",
      "model_name": "VBoxModel",
      "state": {
       "children": [
        "IPY_MODEL_b559c4a76e2940229e42cc38ea5f6884",
        "IPY_MODEL_d09b36d8590b403c9000954cb818b2b7",
        "IPY_MODEL_abf8d65f11e84c07b9ea461966c75510"
       ],
       "layout": "IPY_MODEL_85af174a00484c68b41f4b48589f3a88"
      }
     },
     "f114b4c1dbda448b8d009f1e3fe55a1c": {
      "model_module": "@jupyter-widgets/output",
      "model_module_version": "1.0.0",
      "model_name": "OutputModel",
      "state": {
       "layout": "IPY_MODEL_125209a0b1a24da99d8b22e87d1a6425"
      }
     },
     "f11f0caeca1047eba5e5ae250e032d42": {
      "model_module": "@jupyter-widgets/controls",
      "model_module_version": "1.5.0",
      "model_name": "ButtonStyleModel",
      "state": {
       "font_weight": "bold"
      }
     },
     "f11f40d44f9f4391bec1ef3603a3ab91": {
      "model_module": "@jupyter-widgets/base",
      "model_module_version": "1.2.0",
      "model_name": "LayoutModel",
      "state": {}
     },
     "f127a1083cd34a81b3406ab76a2f89c0": {
      "model_module": "@jupyter-widgets/controls",
      "model_module_version": "1.5.0",
      "model_name": "VBoxModel",
      "state": {
       "children": [
        "IPY_MODEL_60b2f46ba2f042108207b6209b0a980d",
        "IPY_MODEL_5c1b009cd1bf4748aff514ba1367b3d5"
       ],
       "layout": "IPY_MODEL_d74ff2b8325c493bab423229b63ff18b"
      }
     },
     "f12db859364c4feabcb7417310ce8f2b": {
      "model_module": "@jupyter-widgets/controls",
      "model_module_version": "1.5.0",
      "model_name": "ButtonModel",
      "state": {
       "button_style": "warning",
       "description": "add run",
       "layout": "IPY_MODEL_a31c08aa31a444cdb8b549f2b34bc07f",
       "style": "IPY_MODEL_c1fe6b529a034cd1bd4b77531ce6423a",
       "tooltip": "add new run, based on another run"
      }
     },
     "f14477124bcc4d83970fce432a32b71f": {
      "model_module": "@jupyter-widgets/base",
      "model_module_version": "1.2.0",
      "model_name": "LayoutModel",
      "state": {
       "width": "5%"
      }
     },
     "f148135da2594886af72b4912fa185c4": {
      "model_module": "@jupyter-widgets/controls",
      "model_module_version": "1.5.0",
      "model_name": "DescriptionStyleModel",
      "state": {
       "description_width": ""
      }
     },
     "f14ae84f0d4f40bb88b24d755c7c5327": {
      "model_module": "@jupyter-widgets/controls",
      "model_module_version": "1.5.0",
      "model_name": "ButtonModel",
      "state": {
       "button_style": "info",
       "description": "preview outputs",
       "layout": "IPY_MODEL_6772c1414d7b402887ff9eda9c8ea3ed",
       "style": "IPY_MODEL_ee3d7bfe3acd4de3a4c6c799c9b94207",
       "tooltip": "show a preview of the output files generated when the script runs"
      }
     },
     "f16930fa50b64f86a83ce3158335fb57": {
      "model_module": "@jupyter-widgets/controls",
      "model_module_version": "1.5.0",
      "model_name": "ButtonStyleModel",
      "state": {
       "font_weight": "bold"
      }
     },
     "f1a2d5dff5944f9e8133d42e8a392bed": {
      "model_module": "@jupyter-widgets/controls",
      "model_module_version": "1.5.0",
      "model_name": "ButtonStyleModel",
      "state": {
       "font_weight": "bold"
      }
     },
     "f1ada225feb34c14b008e7d2d04c235a": {
      "model_module": "@jupyter-widgets/controls",
      "model_module_version": "1.5.0",
      "model_name": "DescriptionStyleModel",
      "state": {
       "description_width": ""
      }
     },
     "f1d69ecfa77d4c298bf89955f08739b5": {
      "model_module": "@jupyter-widgets/base",
      "model_module_version": "1.2.0",
      "model_name": "LayoutModel",
      "state": {
       "border": "0px",
       "margin": "0px",
       "padding": "0px"
      }
     },
     "f1e6421d154e4a5da0a993fd8b1f6bfd": {
      "model_module": "@jupyter-widgets/base",
      "model_module_version": "1.2.0",
      "model_name": "LayoutModel",
      "state": {}
     },
     "f232a3777c1c476e8ddc3138196573c0": {
      "model_module": "@jupyter-widgets/controls",
      "model_module_version": "1.5.0",
      "model_name": "ButtonModel",
      "state": {
       "button_style": "success",
       "description": "run",
       "layout": "IPY_MODEL_8e416d6b29b14d5d8fcb59cf7005a67e",
       "style": "IPY_MODEL_c38755f5cd7d4e5d8a98c95c644669c7",
       "tooltip": "execute the script based on the user inputs"
      }
     },
     "f241997d45bd4ada9ecfc1da956c0e26": {
      "model_module": "@jupyter-widgets/controls",
      "model_module_version": "1.5.0",
      "model_name": "ButtonModel",
      "state": {
       "button_style": "info",
       "description": "show log",
       "layout": "IPY_MODEL_b2edcbeb1b4442c28533ac7102032338",
       "style": "IPY_MODEL_213efc9eadf641f7b8a9954cfe60250f",
       "tooltip": "show a log of when the script was executed to generate the outputs, and by who"
      }
     },
     "f247bce9568a4817b817859fed6a23d9": {
      "model_module": "@jupyter-widgets/base",
      "model_module_version": "1.2.0",
      "model_name": "LayoutModel",
      "state": {}
     },
     "f266251dad674df8b93d796ff2b10013": {
      "model_module": "@jupyter-widgets/controls",
      "model_module_version": "1.5.0",
      "model_name": "ButtonModel",
      "state": {
       "button_style": "warning",
       "description": "edit inputs",
       "layout": "IPY_MODEL_0f9fb21159814794a8179aa0064c07b9",
       "style": "IPY_MODEL_eb60292fa375424f921c4636b4cee2cb",
       "tooltip": "edit the user input information that is used when the script is executed"
      }
     },
     "f272b8d8edfc4de2bd16e0c5eb7a0362": {
      "model_module": "@jupyter-widgets/base",
      "model_module_version": "1.2.0",
      "model_name": "LayoutModel",
      "state": {}
     },
     "f28c94e6b4b5467bac55dd1b1e502e36": {
      "model_module": "@jupyter-widgets/controls",
      "model_module_version": "1.5.0",
      "model_name": "ButtonModel",
      "state": {
       "button_style": "success",
       "description": "run",
       "layout": "IPY_MODEL_85dedb44676840569c293db37297abeb",
       "style": "IPY_MODEL_5b53a258cca342bd97f2b324d3e6d584",
       "tooltip": "execute the script based on the user inputs"
      }
     },
     "f29faab03a394d1f91bb94b9e6420400": {
      "model_module": "@jupyter-widgets/controls",
      "model_module_version": "1.5.0",
      "model_name": "ButtonModel",
      "state": {
       "button_style": "warning",
       "description": "edit inputs",
       "layout": "IPY_MODEL_51e0a5c60da84e139d2bea65702a7a21",
       "style": "IPY_MODEL_377a1ed34d4c487aa7a8691e127465e5",
       "tooltip": "edit the user input information that is used when the script is executed"
      }
     },
     "f2a0c42d45c3414a98d559c4823116b4": {
      "model_module": "@jupyter-widgets/controls",
      "model_module_version": "1.5.0",
      "model_name": "ButtonStyleModel",
      "state": {
       "font_weight": "bold"
      }
     },
     "f2b24f91cd874e2f9a1152802094f1f0": {
      "model_module": "@jupyter-widgets/base",
      "model_module_version": "1.2.0",
      "model_name": "LayoutModel",
      "state": {
       "height": "30px",
       "width": "auto"
      }
     },
     "f2bf5e06a77a42b1a097fe6fb089a639": {
      "model_module": "@jupyter-widgets/controls",
      "model_module_version": "1.5.0",
      "model_name": "ButtonStyleModel",
      "state": {}
     },
     "f2e5d9c00de64a4284a90f4c1f4e782b": {
      "model_module": "@jupyter-widgets/controls",
      "model_module_version": "1.5.0",
      "model_name": "HBoxModel",
      "state": {
       "children": [
        "IPY_MODEL_2de47095359d42fa8924209e590fdaab",
        "IPY_MODEL_6cb3fb5901064d31b3c26aac08428176",
        "IPY_MODEL_62dca419527b40af80904c5ebfbd0033",
        "IPY_MODEL_38e1781e5ea74d278131bdf214eae46d",
        "IPY_MODEL_f67f1773738542c7b4ee3f7b2c8d305b",
        "IPY_MODEL_f36b34807cf44ecb8a349e36fe59ee1d",
        "IPY_MODEL_fec9669e55444cd9bba7461b2ebac1c0"
       ],
       "layout": "IPY_MODEL_49201142cbae4ef481cb063269d75dc0"
      }
     },
     "f2f163c3004f4e51a42126d8eac5890f": {
      "model_module": "@jupyter-widgets/controls",
      "model_module_version": "1.5.0",
      "model_name": "ButtonStyleModel",
      "state": {
       "font_weight": "bold"
      }
     },
     "f2f2d6f0fc95465ea4fb49ed86b26aa0": {
      "model_module": "@jupyter-widgets/controls",
      "model_module_version": "1.5.0",
      "model_name": "SelectMultipleModel",
      "state": {
       "_options_labels": [
        "C:\\engDev\\git_mf\\ipyrun\\reports\\JupyterReportDemo.pdf"
       ],
       "description": "outputs",
       "index": [],
       "layout": "IPY_MODEL_2bb92a14925f42928174e7867b6badfe",
       "rows": 4,
       "style": "IPY_MODEL_18ff1b18c4b94af8bb2797911b04710e"
      }
     },
     "f2fcaa7e09be4b909cabf560ec0f9aeb": {
      "model_module": "@jupyter-widgets/base",
      "model_module_version": "1.2.0",
      "model_name": "LayoutModel",
      "state": {
       "height": "30px",
       "max_width": "30px",
       "padding": "3px"
      }
     },
     "f301424b9d8e45f4bc594962694306b7": {
      "model_module": "@jupyter-widgets/controls",
      "model_module_version": "1.5.0",
      "model_name": "DescriptionStyleModel",
      "state": {
       "description_width": ""
      }
     },
     "f31a6e6e413342d0a21eaa03b4d7fb5d": {
      "model_module": "@jupyter-widgets/base",
      "model_module_version": "1.2.0",
      "model_name": "LayoutModel",
      "state": {}
     },
     "f336a811b3534d9da7f01e98257b0d5a": {
      "model_module": "@jupyter-widgets/controls",
      "model_module_version": "1.5.0",
      "model_name": "DescriptionStyleModel",
      "state": {
       "description_width": ""
      }
     },
     "f33c05c9b296438daad8368e67757cc7": {
      "model_module": "@jupyter-widgets/controls",
      "model_module_version": "1.5.0",
      "model_name": "DescriptionStyleModel",
      "state": {
       "description_width": ""
      }
     },
     "f34b2121c215444bb9fb0956de05e8c6": {
      "model_module": "@jupyter-widgets/base",
      "model_module_version": "1.2.0",
      "model_name": "LayoutModel",
      "state": {}
     },
     "f36014fc216c468f833fce63689323c7": {
      "model_module": "@jupyter-widgets/controls",
      "model_module_version": "1.5.0",
      "model_name": "VBoxModel",
      "state": {
       "children": [
        "IPY_MODEL_dabba811053e44968967e08137e99cf2",
        "IPY_MODEL_fe7105869ce64f1b9c26337053aa68e0"
       ],
       "layout": "IPY_MODEL_43d0b3eb99324890a43c951b92334fb8"
      }
     },
     "f36b34807cf44ecb8a349e36fe59ee1d": {
      "model_module": "@jupyter-widgets/controls",
      "model_module_version": "1.5.0",
      "model_name": "ButtonModel",
      "state": {
       "button_style": "info",
       "description": "preview outputs",
       "layout": "IPY_MODEL_13b816525d2245929622922e2ea71d6e",
       "style": "IPY_MODEL_698b4a1884df4dbea72f96ef89db70ad",
       "tooltip": "show a preview of the output files generated when the script runs"
      }
     },
     "f372ba983fc24a819de9a40efe1446be": {
      "model_module": "@jupyter-widgets/output",
      "model_module_version": "1.0.0",
      "model_name": "OutputModel",
      "state": {
       "layout": "IPY_MODEL_835a060e5144409881b3f9af727d48d5"
      }
     },
     "f3c325b38a4246d3bc93baf1d0ee05f7": {
      "model_module": "@jupyter-widgets/controls",
      "model_module_version": "1.5.0",
      "model_name": "ButtonModel",
      "state": {
       "icon": "eye-slash",
       "layout": "IPY_MODEL_c1d2558dc13d46ee88058638a3747a3b",
       "style": "IPY_MODEL_11aeb85814894e98a1bf3bf0a087fb9d",
       "tooltip": "removes temporary output view"
      }
     },
     "f3c63af5083845c2a87c8614c9c0d442": {
      "model_module": "@jupyter-widgets/controls",
      "model_module_version": "1.5.0",
      "model_name": "CheckboxModel",
      "state": {
       "disabled": false,
       "indent": false,
       "layout": "IPY_MODEL_c8d9b961225441ad974f24ae1aec7791",
       "style": "IPY_MODEL_3d26d509ec8148f0b7cc2f56fd6b5ba5",
       "value": false
      }
     },
     "f3ca1cfece1847bf93659fb40706eb4c": {
      "model_module": "@jupyter-widgets/controls",
      "model_module_version": "1.5.0",
      "model_name": "ButtonModel",
      "state": {
       "button_style": "warning",
       "description": "edit inputs",
       "layout": "IPY_MODEL_5710a343473646daa9e8993cbb3e78bf",
       "style": "IPY_MODEL_ae2eaffe1e124198a850ab541d400d42",
       "tooltip": "edit the user input information that is used when the script is executed"
      }
     },
     "f3db76575ace44d39b9a396f65633da0": {
      "model_module": "@jupyter-widgets/controls",
      "model_module_version": "1.5.0",
      "model_name": "BoxModel",
      "state": {
       "children": [
        "IPY_MODEL_d87b188c77b34997a4a4f3989241ae17"
       ],
       "layout": "IPY_MODEL_539b3409cf6047079d8400f528c86ba3"
      }
     },
     "f3ed08ecc4be44bc9322f64b7e4365bc": {
      "model_module": "@jupyter-widgets/base",
      "model_module_version": "1.2.0",
      "model_name": "LayoutModel",
      "state": {}
     },
     "f3eff1e5d64f4376bdcd568a39aaf073": {
      "model_module": "@jupyter-widgets/base",
      "model_module_version": "1.2.0",
      "model_name": "LayoutModel",
      "state": {
       "width": "5%"
      }
     },
     "f44a562c5933495baaf8d837eff733db": {
      "model_module": "@jupyter-widgets/controls",
      "model_module_version": "1.5.0",
      "model_name": "ButtonModel",
      "state": {
       "button_style": "info",
       "description": "show guide",
       "layout": "IPY_MODEL_074efce9799d42829f9c3248f5db3518",
       "style": "IPY_MODEL_93f271799fd44cf6b485c4860b266cff",
       "tooltip": "read the \"docstring\", ie. the documentation that was written to accompany the script"
      }
     },
     "f45b1cd29de34ae5b1feb36eca7f9cef": {
      "model_module": "@jupyter-widgets/base",
      "model_module_version": "1.2.0",
      "model_name": "LayoutModel",
      "state": {
       "height": "30px",
       "max_width": "30px",
       "padding": "3px"
      }
     },
     "f47ccac19dc848ff88472e9a9a934831": {
      "model_module": "@jupyter-widgets/base",
      "model_module_version": "1.2.0",
      "model_name": "LayoutModel",
      "state": {
       "width": "5%"
      }
     },
     "f48cf26b915e4dd580eca78ad48ba297": {
      "model_module": "@jupyter-widgets/controls",
      "model_module_version": "1.5.0",
      "model_name": "ButtonStyleModel",
      "state": {
       "font_weight": "bold"
      }
     },
     "f4943a710166487498c10a19978c24f1": {
      "model_module": "@jupyter-widgets/controls",
      "model_module_version": "1.5.0",
      "model_name": "DescriptionStyleModel",
      "state": {
       "description_width": ""
      }
     },
     "f4b0e32d6c9e4ab0888b69e5d0b80fb6": {
      "model_module": "@jupyter-widgets/controls",
      "model_module_version": "1.5.0",
      "model_name": "CheckboxModel",
      "state": {
       "disabled": false,
       "indent": false,
       "layout": "IPY_MODEL_6e44a78b9d7945059064c03c37492f96",
       "style": "IPY_MODEL_7ba6b9faac2f4af4b543aaadb8344a00",
       "value": false
      }
     },
     "f4e31839fe824090961139b65db6f705": {
      "model_module": "@jupyter-widgets/controls",
      "model_module_version": "1.5.0",
      "model_name": "TextModel",
      "state": {
       "description": "inputs",
       "disabled": true,
       "layout": "IPY_MODEL_d19d1fd01ea64f3b9b68745abee623f7",
       "style": "IPY_MODEL_ef1e4a40cdb64d508ddcabf197e97182",
       "value": "C:\\engDev\\git_mf\\ipyrun\\ipyrun\\notebooks\\appdata\\inputs\\inputs-eplus_pipework_params.csv"
      }
     },
     "f4e33da986ba45e99d561e21a919991b": {
      "model_module": "@jupyter-widgets/controls",
      "model_module_version": "1.5.0",
      "model_name": "ButtonModel",
      "state": {
       "icon": "eye-slash",
       "layout": "IPY_MODEL_5ae1bd0c554e4a829d4280599a3c8fb4",
       "style": "IPY_MODEL_9557252b26344bbe9dd1fe9439755504",
       "tooltip": "removes temporary output view"
      }
     },
     "f4ec6eaed59b4f4693e8b11dca7f279c": {
      "model_module": "@jupyter-widgets/controls",
      "model_module_version": "1.5.0",
      "model_name": "HBoxModel",
      "state": {
       "children": [
        "IPY_MODEL_9827a7ff87b34c798b196e40fc51278d",
        "IPY_MODEL_b98645b5623a499b9f15803c816eb272",
        "IPY_MODEL_acbfbc4f277248af9b4465566248bacc",
        "IPY_MODEL_380ee61b0fe04658b17abc5514e899fc",
        "IPY_MODEL_69ee9ac99e264dc8ba226ddc6ee2915b",
        "IPY_MODEL_5b72b618edb44bdfa47bd0187da44a54",
        "IPY_MODEL_9f4ff0fc78a54665b7d1df5999b4b981"
       ],
       "layout": "IPY_MODEL_b9539e71ec8e4937affb9a1a74de35f6"
      }
     },
     "f4ee7e49432a40219517cbdd18608460": {
      "model_module": "@jupyter-widgets/base",
      "model_module_version": "1.2.0",
      "model_name": "LayoutModel",
      "state": {
       "width": "5%"
      }
     },
     "f4efb4c31f004287894173d0e077a680": {
      "model_module": "@jupyter-widgets/controls",
      "model_module_version": "1.5.0",
      "model_name": "ButtonStyleModel",
      "state": {
       "font_weight": "bold"
      }
     },
     "f4f9baeea1ad4fddb327400dce798c61": {
      "model_module": "@jupyter-widgets/base",
      "model_module_version": "1.2.0",
      "model_name": "LayoutModel",
      "state": {
       "align_items": "stretch",
       "width": "100%"
      }
     },
     "f53abe2143624f04a0a74f2924f4912e": {
      "model_module": "@jupyter-widgets/controls",
      "model_module_version": "1.5.0",
      "model_name": "AccordionModel",
      "state": {
       "_titles": {
        "0": "eplus_pipework_params"
       },
       "children": [
        "IPY_MODEL_b409d41e6ac4406aa77c2cb98cedb0cc"
       ],
       "layout": "IPY_MODEL_3d910dffa8ac484eb5606814c3fd87c3",
       "selected_index": null
      }
     },
     "f5593bb7e2ca40569426cad46bbea690": {
      "model_module": "@jupyter-widgets/controls",
      "model_module_version": "1.5.0",
      "model_name": "AccordionModel",
      "state": {
       "_titles": {
        "0": "eplus_pipework_params"
       },
       "children": [
        "IPY_MODEL_e687cf64397c4ffe99f26e0aaf3d04d2"
       ],
       "layout": "IPY_MODEL_2afcd0eca0c8433f90bfdd9db2f7e56b",
       "selected_index": null
      }
     },
     "f594d7e5df494e448864755732ee0cfd": {
      "model_module": "@jupyter-widgets/base",
      "model_module_version": "1.2.0",
      "model_name": "LayoutModel",
      "state": {
       "align_items": "stretch",
       "width": "100%"
      }
     },
     "f59797ac4dd047239fbb7bf825acdf75": {
      "model_module": "@jupyter-widgets/controls",
      "model_module_version": "1.5.0",
      "model_name": "SelectMultipleModel",
      "state": {
       "_options_labels": [
        "C:\\engDev\\git_mf\\ipyrun\\reports\\JupyterReportDemo.pdf"
       ],
       "description": "outputs",
       "index": [],
       "layout": "IPY_MODEL_bc10561a0581486a89b9adf841e1dc92",
       "rows": 4,
       "style": "IPY_MODEL_22df23a5bf6544a0a8847a68221bb1ef"
      }
     },
     "f5be9b848bb8422588f325389288ecbc": {
      "model_module": "@jupyter-widgets/controls",
      "model_module_version": "1.5.0",
      "model_name": "TextModel",
      "state": {
       "description": "inputs",
       "disabled": true,
       "layout": "IPY_MODEL_bf3b7d6e486f4620b4e6ddb5d8acb82a",
       "style": "IPY_MODEL_492c92934b804f4d9038c2c77596d9b7",
       "value": "C:\\engDev\\git_mf\\ipyrun\\ipyrun\\appdata\\inputs\\inputs-docx_to_pdf.json"
      }
     },
     "f5d2e461bcab422eb988f59d5a1d88a2": {
      "model_module": "@jupyter-widgets/controls",
      "model_module_version": "1.5.0",
      "model_name": "ButtonStyleModel",
      "state": {
       "font_weight": "bold"
      }
     },
     "f5d8655723804997af2632e2ebbabf51": {
      "model_module": "@jupyter-widgets/base",
      "model_module_version": "1.2.0",
      "model_name": "LayoutModel",
      "state": {}
     },
     "f5e24639b6f241ef809afb3e78b138a5": {
      "model_module": "@jupyter-widgets/controls",
      "model_module_version": "1.5.0",
      "model_name": "AccordionModel",
      "state": {
       "_titles": {
        "0": "eplus_pipework_params"
       },
       "children": [
        "IPY_MODEL_49006a700a1a46669f7bf333cdf7ebb5"
       ],
       "layout": "IPY_MODEL_747bef2dc5a04c6fb9f082fb1e558cdf",
       "selected_index": null
      }
     },
     "f5e2782d17f444c38ddd5ef0e8987e45": {
      "model_module": "@jupyter-widgets/controls",
      "model_module_version": "1.5.0",
      "model_name": "VBoxModel",
      "state": {
       "children": [
        "IPY_MODEL_f64d170e24214b26bb4d848a6dfb9bf4",
        "IPY_MODEL_53773ef0cd8e4a8aae6f62a99c561ede"
       ],
       "layout": "IPY_MODEL_a5429a9edde2451d8319bdd9ec3255ff"
      }
     },
     "f5ea8a8eb9254c7fbb806c7b68995058": {
      "model_module": "@jupyter-widgets/controls",
      "model_module_version": "1.5.0",
      "model_name": "ButtonStyleModel",
      "state": {
       "font_weight": "bold"
      }
     },
     "f5f8236ecdd74cdb9e7f24d2476e6661": {
      "model_module": "@jupyter-widgets/controls",
      "model_module_version": "1.5.0",
      "model_name": "DescriptionStyleModel",
      "state": {
       "description_width": ""
      }
     },
     "f600063be4d54ca6b7933c896a71f921": {
      "model_module": "@jupyter-widgets/controls",
      "model_module_version": "1.5.0",
      "model_name": "ButtonModel",
      "state": {
       "icon": "question-circle",
       "layout": "IPY_MODEL_3daaebcf0ee74bc8b04871ee4e315eab",
       "style": "IPY_MODEL_2b2e217877224e08aaa82d5176cefe99",
       "tooltip": "describes the functionality of elements in the RunApp interface"
      }
     },
     "f61ea9227ded4d8cbfeee2ddef70e6c5": {
      "model_module": "@jupyter-widgets/controls",
      "model_module_version": "1.5.0",
      "model_name": "ButtonStyleModel",
      "state": {
       "font_weight": "bold"
      }
     },
     "f6250535fc004d20a9ded95518bff44b": {
      "model_module": "@jupyter-widgets/base",
      "model_module_version": "1.2.0",
      "model_name": "LayoutModel",
      "state": {
       "height": "30px",
       "max_width": "30px",
       "padding": "3px"
      }
     },
     "f638f2eb4d4e45ddb11ae58cfa419d67": {
      "model_module": "@jupyter-widgets/base",
      "model_module_version": "1.2.0",
      "model_name": "LayoutModel",
      "state": {
       "height": "30px",
       "width": "auto"
      }
     },
     "f646d721ebc64e06b23560847c961791": {
      "model_module": "@jupyter-widgets/controls",
      "model_module_version": "1.5.0",
      "model_name": "ButtonStyleModel",
      "state": {
       "font_weight": "bold"
      }
     },
     "f64d170e24214b26bb4d848a6dfb9bf4": {
      "model_module": "@jupyter-widgets/controls",
      "model_module_version": "1.5.0",
      "model_name": "BoxModel",
      "state": {
       "children": [
        "IPY_MODEL_3d8a53ab9f2f4dea8c2f6facdda260bc"
       ],
       "layout": "IPY_MODEL_1ba215db58f54d3b9a06fcf78dd28518"
      }
     },
     "f67f1773738542c7b4ee3f7b2c8d305b": {
      "model_module": "@jupyter-widgets/controls",
      "model_module_version": "1.5.0",
      "model_name": "ButtonModel",
      "state": {
       "button_style": "success",
       "description": "run",
       "layout": "IPY_MODEL_6c0510b5bc6f43e0917f84b4be6ccd1f",
       "style": "IPY_MODEL_544aaf81df27413bb4d646074b4e122f",
       "tooltip": "execute the script based on the user inputs"
      }
     },
     "f68bbffe697941fab6340e4e4fb324ee": {
      "model_module": "@jupyter-widgets/controls",
      "model_module_version": "1.5.0",
      "model_name": "DescriptionStyleModel",
      "state": {
       "description_width": ""
      }
     },
     "f6a04368f2934f24b9274c1fa02abc23": {
      "model_module": "@jupyter-widgets/base",
      "model_module_version": "1.2.0",
      "model_name": "LayoutModel",
      "state": {}
     },
     "f6aad952d5764465b5a61fdc53ee7639": {
      "model_module": "@jupyter-widgets/controls",
      "model_module_version": "1.5.0",
      "model_name": "ButtonModel",
      "state": {
       "icon": "question-circle",
       "layout": "IPY_MODEL_469346b401d84a7f82db768ed6e53e75",
       "style": "IPY_MODEL_8bc5149c7f3044d68cc6da558f108193",
       "tooltip": "describes the functionality of elements in the RunApp interface"
      }
     },
     "f6aefc316ee84e1398bf1a9c08d94ae1": {
      "model_module": "@jupyter-widgets/controls",
      "model_module_version": "1.5.0",
      "model_name": "TextModel",
      "state": {
       "description": "inputs",
       "disabled": true,
       "layout": "IPY_MODEL_16ae96fa61264f7ba9b2d7b615196a17",
       "style": "IPY_MODEL_ebed44788f6b411a9f216bc2a203ac55",
       "value": "C:\\engDev\\git_mf\\ipyrun\\ipyrun\\appdata\\inputs\\inputs-docx_to_pdf.json"
      }
     },
     "f70238158d1f4e5b83989afdc129c78f": {
      "model_module": "@jupyter-widgets/controls",
      "model_module_version": "1.5.0",
      "model_name": "ButtonModel",
      "state": {
       "icon": "question-circle",
       "layout": "IPY_MODEL_4cb23473891a4f28be2f3fa276103abe",
       "style": "IPY_MODEL_8645d047c0e24b3faaa6b40aec23a118",
       "tooltip": "describes the functionality of elements in the RunApp interface"
      }
     },
     "f70a02ff4b3746a189af61a96926ad1c": {
      "model_module": "@jupyter-widgets/controls",
      "model_module_version": "1.5.0",
      "model_name": "HBoxModel",
      "state": {
       "children": [
        "IPY_MODEL_4713ba1e1a9647f4b8bf6bee4436acbc",
        "IPY_MODEL_8c207d18e02f4443bcf0621c287acada"
       ],
       "layout": "IPY_MODEL_2e2e6773bdb2425e87553b3c3bb50cdd"
      }
     },
     "f75d05d7e65746a8b127c876ed98c8b8": {
      "model_module": "@jupyter-widgets/controls",
      "model_module_version": "1.5.0",
      "model_name": "SelectMultipleModel",
      "state": {
       "_options_labels": [
        "C:\\engDev\\git_mf\\ipyrun\\data\\external\\eplus_pipework_params.csv"
       ],
       "description": "outputs",
       "index": [],
       "layout": "IPY_MODEL_2e5524092a0443ff8e2bbc6951a58a95",
       "rows": 4,
       "style": "IPY_MODEL_c30855d5d2d04c97b57fa21e18ec90f3"
      }
     },
     "f76ebf893f3347aab63a4d0b88fd3808": {
      "model_module": "@jupyter-widgets/base",
      "model_module_version": "1.2.0",
      "model_name": "LayoutModel",
      "state": {
       "border": "0px",
       "margin": "0px",
       "padding": "0px"
      }
     },
     "f789d139a58e4f32823ee6d2c6a37c30": {
      "model_module": "@jupyter-widgets/controls",
      "model_module_version": "1.5.0",
      "model_name": "SelectMultipleModel",
      "state": {
       "_options_labels": [
        "C:\\engDev\\git_mf\\ipyrun\\data\\external\\eplus_pipework_params.csv"
       ],
       "description": "outputs",
       "index": [],
       "layout": "IPY_MODEL_fe772bd7c6e74485af4aa1f85c9a190c",
       "rows": 4,
       "style": "IPY_MODEL_69a2fd92cdb042158ba9e7a3f8daaeb9"
      }
     },
     "f79100a0b5e14e5f80a34e3cc33c212f": {
      "model_module": "@jupyter-widgets/base",
      "model_module_version": "1.2.0",
      "model_name": "LayoutModel",
      "state": {
       "width": "5%"
      }
     },
     "f79cded74a1d49bb85cb729fa9b0a01b": {
      "model_module": "@jupyter-widgets/controls",
      "model_module_version": "1.5.0",
      "model_name": "ButtonModel",
      "state": {
       "button_style": "info",
       "description": "show guide",
       "layout": "IPY_MODEL_540dc93fc6ba4e7191e20f1786e931ec",
       "style": "IPY_MODEL_248595b19a5a4cc19560ebe1469b51d2",
       "tooltip": "read the \"docstring\", ie. the documentation that was written to accompany the script"
      }
     },
     "f7a3762462f24f479c2f221988df3483": {
      "model_module": "@jupyter-widgets/controls",
      "model_module_version": "1.5.0",
      "model_name": "VBoxModel",
      "state": {
       "children": [
        "IPY_MODEL_607b8c8fc03b40759e3478b1c98d1b07",
        "IPY_MODEL_7c04a11e65b34ec5bd583d6befa50842"
       ],
       "layout": "IPY_MODEL_ca4a08bbbfe2452bb38a17c93c48a632"
      }
     },
     "f7d7e0e6c2d340fe9c15b0cee36281db": {
      "model_module": "@jupyter-widgets/base",
      "model_module_version": "1.2.0",
      "model_name": "LayoutModel",
      "state": {
       "height": "30px",
       "width": "auto"
      }
     },
     "f7dbebbd2ccc46c9b292c21a73ce63d9": {
      "model_module": "@jupyter-widgets/base",
      "model_module_version": "1.2.0",
      "model_name": "LayoutModel",
      "state": {
       "width": "100%"
      }
     },
     "f7f4f8287a8d41fc98a57cf20f56f08a": {
      "model_module": "@jupyter-widgets/base",
      "model_module_version": "1.2.0",
      "model_name": "LayoutModel",
      "state": {
       "width": "5%"
      }
     },
     "f7ffe9b135e04c58b75807f17171f3d7": {
      "model_module": "@jupyter-widgets/controls",
      "model_module_version": "1.5.0",
      "model_name": "TextModel",
      "state": {
       "description": "inputs",
       "disabled": true,
       "layout": "IPY_MODEL_7ebd933667414345be2b10620c37f6cd",
       "style": "IPY_MODEL_97123e69b25f4dc68329d45504c56fa5",
       "value": "C:\\engDev\\git_mf\\ipyrun\\ipyrun\\appdata\\inputs\\inputs-eplus_pipework_params.csv"
      }
     },
     "f802a506814349339277ca2e583b9eee": {
      "model_module": "@jupyter-widgets/base",
      "model_module_version": "1.2.0",
      "model_name": "LayoutModel",
      "state": {
       "align_items": "stretch",
       "width": "100%"
      }
     },
     "f80fc496a6934b9fae295c65615a7298": {
      "model_module": "@jupyter-widgets/base",
      "model_module_version": "1.2.0",
      "model_name": "LayoutModel",
      "state": {}
     },
     "f82e8ccd68004fe0a2095908204e69f9": {
      "model_module": "@jupyter-widgets/controls",
      "model_module_version": "1.5.0",
      "model_name": "ButtonStyleModel",
      "state": {
       "font_weight": "bold"
      }
     },
     "f8330f72156047bca70ab9c3824f09d8": {
      "model_module": "@jupyter-widgets/controls",
      "model_module_version": "1.5.0",
      "model_name": "ButtonStyleModel",
      "state": {
       "font_weight": "bold"
      }
     },
     "f84268dd0d4342e3861e755bc83153e6": {
      "model_module": "@jupyter-widgets/base",
      "model_module_version": "1.2.0",
      "model_name": "LayoutModel",
      "state": {}
     },
     "f8522b10f6ad428ebf4dbade7260ec72": {
      "model_module": "@jupyter-widgets/base",
      "model_module_version": "1.2.0",
      "model_name": "LayoutModel",
      "state": {
       "height": "30px",
       "width": "auto"
      }
     },
     "f8b51df3f2b749f395c7ed94d38586b5": {
      "model_module": "@jupyter-widgets/base",
      "model_module_version": "1.2.0",
      "model_name": "LayoutModel",
      "state": {}
     },
     "f8c68ebda04d4c9a87f1d8683423dc55": {
      "model_module": "@jupyter-widgets/base",
      "model_module_version": "1.2.0",
      "model_name": "LayoutModel",
      "state": {}
     },
     "f8e0c2dae6df46609c59e652e162a523": {
      "model_module": "@jupyter-widgets/controls",
      "model_module_version": "1.5.0",
      "model_name": "AccordionModel",
      "state": {
       "_titles": {
        "0": "eplus_pipework_params"
       },
       "children": [
        "IPY_MODEL_f5e2782d17f444c38ddd5ef0e8987e45"
       ],
       "layout": "IPY_MODEL_ce9968f20018495588588ef0bd1cca43",
       "selected_index": null
      }
     },
     "f90a4100416f4b12835ad69bd28938ad": {
      "model_module": "@jupyter-widgets/base",
      "model_module_version": "1.2.0",
      "model_name": "LayoutModel",
      "state": {
       "height": "30px",
       "width": "auto"
      }
     },
     "f936e1c1c80d40c18a979ba377c422cd": {
      "model_module": "@jupyter-widgets/base",
      "model_module_version": "1.2.0",
      "model_name": "LayoutModel",
      "state": {}
     },
     "f93cc60574dc43bba88d4e9c82f9beb7": {
      "model_module": "@jupyter-widgets/controls",
      "model_module_version": "1.5.0",
      "model_name": "ButtonStyleModel",
      "state": {
       "font_weight": "bold"
      }
     },
     "f9428712b53e499a982066108c131c0c": {
      "model_module": "@jupyter-widgets/controls",
      "model_module_version": "1.5.0",
      "model_name": "ButtonStyleModel",
      "state": {}
     },
     "f943479a3a834c3a9da57af32092e8a2": {
      "model_module": "@jupyter-widgets/base",
      "model_module_version": "1.2.0",
      "model_name": "LayoutModel",
      "state": {}
     },
     "f9a506ba0121455da60e60e99af0f654": {
      "model_module": "@jupyter-widgets/base",
      "model_module_version": "1.2.0",
      "model_name": "LayoutModel",
      "state": {}
     },
     "f9ac9aefd851448eb6c9b2499390d953": {
      "model_module": "@jupyter-widgets/controls",
      "model_module_version": "1.5.0",
      "model_name": "ButtonStyleModel",
      "state": {
       "font_weight": "bold"
      }
     },
     "f9c949a1ead04bd383a72caa3b501e31": {
      "model_module": "@jupyter-widgets/controls",
      "model_module_version": "1.5.0",
      "model_name": "ButtonStyleModel",
      "state": {
       "font_weight": "bold"
      }
     },
     "f9d45263b90f4af5a4aa5a660abc7ee9": {
      "model_module": "@jupyter-widgets/controls",
      "model_module_version": "1.5.0",
      "model_name": "ButtonStyleModel",
      "state": {
       "font_weight": "bold"
      }
     },
     "fa09a607ef03472fb330e971720abd42": {
      "model_module": "@jupyter-widgets/controls",
      "model_module_version": "1.5.0",
      "model_name": "DescriptionStyleModel",
      "state": {
       "description_width": ""
      }
     },
     "fa1526623bfb4152a6ae3ae5d8ad471a": {
      "model_module": "@jupyter-widgets/base",
      "model_module_version": "1.2.0",
      "model_name": "LayoutModel",
      "state": {}
     },
     "fa19dda9674447edbfa84847b5ce5f04": {
      "model_module": "@jupyter-widgets/base",
      "model_module_version": "1.2.0",
      "model_name": "LayoutModel",
      "state": {
       "align_items": "stretch",
       "width": "100%"
      }
     },
     "fa1d8c1f8f5b4e9b85f9f878a925d218": {
      "model_module": "@jupyter-widgets/controls",
      "model_module_version": "1.5.0",
      "model_name": "CheckboxModel",
      "state": {
       "disabled": false,
       "indent": false,
       "layout": "IPY_MODEL_d12426a452234d82ab51a54d1cda4bf4",
       "style": "IPY_MODEL_e4c2b43bb6b143a78e8a2649e380335a",
       "value": false
      }
     },
     "fa247a00a9c646ad9aa9ea2010b5d291": {
      "model_module": "@jupyter-widgets/controls",
      "model_module_version": "1.5.0",
      "model_name": "VBoxModel",
      "state": {
       "children": [
        "IPY_MODEL_b7d39976557f4a1abed0b63c98d5bc8b",
        "IPY_MODEL_baa94ea8e0c24bc7bbd54b281fea9bc8"
       ],
       "layout": "IPY_MODEL_f11f40d44f9f4391bec1ef3603a3ab91"
      }
     },
     "fa54771a324b4a5ab9c88c5bcff7d55c": {
      "model_module": "@jupyter-widgets/controls",
      "model_module_version": "1.5.0",
      "model_name": "AccordionModel",
      "state": {
       "_titles": {
        "0": "docx_to_pdf"
       },
       "children": [
        "IPY_MODEL_3f1c37299a5e48d481236cb56731d608"
       ],
       "layout": "IPY_MODEL_43f47c6c86a44a768a4857a5be20bdb4",
       "selected_index": null
      }
     },
     "fa70e92ebe3a4285b2406497e51cb11d": {
      "model_module": "@jupyter-widgets/controls",
      "model_module_version": "1.5.0",
      "model_name": "VBoxModel",
      "state": {
       "children": [
        "IPY_MODEL_9f8925e99aa24e329a38aa6fcde18d13",
        "IPY_MODEL_903ccac8d806449688fa5286c2cbcd6c",
        "IPY_MODEL_1b50542165954665bd935543ce638c06"
       ],
       "layout": "IPY_MODEL_494e29a9e22044ac8321c7d66684f2a5"
      }
     },
     "fa9e63d57dba4cd083a489190ad44c16": {
      "model_module": "@jupyter-widgets/controls",
      "model_module_version": "1.5.0",
      "model_name": "ButtonModel",
      "state": {
       "button_style": "success",
       "description": "run",
       "layout": "IPY_MODEL_4b0ddb71f677455081d77f1836491523",
       "style": "IPY_MODEL_4c5711d838f644f690ed98c0048bf162",
       "tooltip": "execute the script based on the user inputs"
      }
     },
     "fa9e8ae7e0ef4c2391572fcd760b7341": {
      "model_module": "@jupyter-widgets/controls",
      "model_module_version": "1.5.0",
      "model_name": "ButtonModel",
      "state": {
       "button_style": "success",
       "description": "run batch",
       "layout": "IPY_MODEL_3faada7a411b4e939c02042ce3cd5a65",
       "style": "IPY_MODEL_86ade4dea9f64d6098b078cd7cfbd2de",
       "tooltip": "execute checked processes below"
      }
     },
     "faab060dc7eb4f1792b8dc8b43effe95": {
      "model_module": "@jupyter-widgets/controls",
      "model_module_version": "1.5.0",
      "model_name": "HBoxModel",
      "state": {
       "children": [
        "IPY_MODEL_08e386c7723649c6bf37b3e09a2a0703",
        "IPY_MODEL_c2354fff23144a37bdb9508473e6aff1"
       ],
       "layout": "IPY_MODEL_da4cf28dddc84eb6bb3f33d302ba3b0a"
      }
     },
     "faacc51bfa3b45d7989046096ee41f9b": {
      "model_module": "@jupyter-widgets/base",
      "model_module_version": "1.2.0",
      "model_name": "LayoutModel",
      "state": {}
     },
     "facc58a3e5574ac98ba14a8162bd0637": {
      "model_module": "@jupyter-widgets/controls",
      "model_module_version": "1.5.0",
      "model_name": "ButtonStyleModel",
      "state": {
       "font_weight": "bold"
      }
     },
     "fad549aa81ce49448b2e4cb4a4b24002": {
      "model_module": "@jupyter-widgets/controls",
      "model_module_version": "1.5.0",
      "model_name": "TextModel",
      "state": {
       "description": "script",
       "disabled": true,
       "layout": "IPY_MODEL_923604734202407e9907f04596915e92",
       "style": "IPY_MODEL_6dd0d3cbc8e9463abc9222b57bf9fc47",
       "value": "C:\\engDev\\git_mf\\MF_Toolbox\\dev\\mf_scripts\\docx_to_pdf.py"
      }
     },
     "fad91923489b4827bc267750b98a059b": {
      "model_module": "@jupyter-widgets/controls",
      "model_module_version": "1.5.0",
      "model_name": "ButtonStyleModel",
      "state": {
       "font_weight": "bold"
      }
     },
     "fb16932bac2342c8b96c2465f3ba316d": {
      "model_module": "@jupyter-widgets/controls",
      "model_module_version": "1.5.0",
      "model_name": "VBoxModel",
      "state": {
       "children": [
        "IPY_MODEL_9b1b7c9f04624005b0c1693c9edd23f6",
        "IPY_MODEL_697a02a8c41d46ed903a42420c3505c6"
       ],
       "layout": "IPY_MODEL_7dfb5f7abbcd4034a3ed5ab3abae4116"
      }
     },
     "fb36f4d1a548476588b3a2f879aca2fa": {
      "model_module": "@jupyter-widgets/base",
      "model_module_version": "1.2.0",
      "model_name": "LayoutModel",
      "state": {
       "border": "0px",
       "margin": "0px",
       "padding": "0px"
      }
     },
     "fb3c1c3ac0c942d483652452b6a6667e": {
      "model_module": "@jupyter-widgets/controls",
      "model_module_version": "1.5.0",
      "model_name": "ButtonModel",
      "state": {
       "icon": "question-circle",
       "layout": "IPY_MODEL_c099b1ca65e04dea932c14a0c7975396",
       "style": "IPY_MODEL_c842c7e7867a4002ac07a68c80cbaf2f",
       "tooltip": "describes the functionality of elements in the RunApp interface"
      }
     },
     "fb3d07b3f5a84487b6c989580e674683": {
      "model_module": "@jupyter-widgets/base",
      "model_module_version": "1.2.0",
      "model_name": "LayoutModel",
      "state": {}
     },
     "fb583a943e294746ac4e79f69994a938": {
      "model_module": "@jupyter-widgets/base",
      "model_module_version": "1.2.0",
      "model_name": "LayoutModel",
      "state": {
       "width": "5%"
      }
     },
     "fb6517efc5844a2d8e8bfa0474eb688a": {
      "model_module": "@jupyter-widgets/controls",
      "model_module_version": "1.5.0",
      "model_name": "DescriptionStyleModel",
      "state": {
       "description_width": ""
      }
     },
     "fb7090675386438e82658ed37324a83e": {
      "model_module": "@jupyter-widgets/base",
      "model_module_version": "1.2.0",
      "model_name": "LayoutModel",
      "state": {
       "border": "0px",
       "margin": "0px",
       "padding": "0px"
      }
     },
     "fb720c044ee643918134b91970718a6c": {
      "model_module": "@jupyter-widgets/controls",
      "model_module_version": "1.5.0",
      "model_name": "VBoxModel",
      "state": {
       "children": [
        "IPY_MODEL_d4848aac7883451dbdc33cfd17820efa",
        "IPY_MODEL_8076e79826824ab8b3abeb8385bf8750"
       ],
       "layout": "IPY_MODEL_09270c8d676b42e6bfb588948dcc88c0"
      }
     },
     "fb79b553b35446d89210413ef5b485f6": {
      "model_module": "@jupyter-widgets/base",
      "model_module_version": "1.2.0",
      "model_name": "LayoutModel",
      "state": {}
     },
     "fb79fc1012064f9a9042feaeeb8160d7": {
      "model_module": "@jupyter-widgets/base",
      "model_module_version": "1.2.0",
      "model_name": "LayoutModel",
      "state": {}
     },
     "fb84ccaea57140c09b1ead15bf2b96e2": {
      "model_module": "@jupyter-widgets/controls",
      "model_module_version": "1.5.0",
      "model_name": "ButtonStyleModel",
      "state": {
       "font_weight": "bold"
      }
     },
     "fb9943e7db584518b85dade45a8ecf2c": {
      "model_module": "@jupyter-widgets/controls",
      "model_module_version": "1.5.0",
      "model_name": "ButtonStyleModel",
      "state": {
       "font_weight": "bold"
      }
     },
     "fbbbe5d3e2b543af89e0d7756d60621a": {
      "model_module": "@jupyter-widgets/controls",
      "model_module_version": "1.5.0",
      "model_name": "ButtonStyleModel",
      "state": {
       "font_weight": "bold"
      }
     },
     "fbceffb6099b4b1db986013c99e9ec15": {
      "model_module": "@jupyter-widgets/base",
      "model_module_version": "1.2.0",
      "model_name": "LayoutModel",
      "state": {
       "border": "0px",
       "margin": "0px",
       "padding": "0px"
      }
     },
     "fc10475254ba46229387cdd4618195ca": {
      "model_module": "@jupyter-widgets/controls",
      "model_module_version": "1.5.0",
      "model_name": "ButtonStyleModel",
      "state": {
       "font_weight": "bold"
      }
     },
     "fc1ca2ada31b4b55a147d0b5a37a5322": {
      "model_module": "@jupyter-widgets/controls",
      "model_module_version": "1.5.0",
      "model_name": "ButtonModel",
      "state": {
       "button_style": "info",
       "description": "show guide",
       "layout": "IPY_MODEL_d7b5528b38c646bfa9e36dc40806d110",
       "style": "IPY_MODEL_989c400fcef945b0aef561ac3c6622db",
       "tooltip": "read the \"docstring\", ie. the documentation that was written to accompany the script"
      }
     },
     "fc493665174d4fca98a3aadb8d64af10": {
      "model_module": "@jupyter-widgets/output",
      "model_module_version": "1.0.0",
      "model_name": "OutputModel",
      "state": {
       "layout": "IPY_MODEL_46467755c3bd4290a0151e6be5306123"
      }
     },
     "fc65bab87ef84b2e868c04b5b6345d46": {
      "model_module": "@jupyter-widgets/controls",
      "model_module_version": "1.5.0",
      "model_name": "VBoxModel",
      "state": {
       "children": [
        "IPY_MODEL_83234a1ce6254973a06aa8ff3dc38b40",
        "IPY_MODEL_7d46598cde604651bf14c092f7cedd83"
       ],
       "layout": "IPY_MODEL_b792667405554e678adabeb300f9d8ba"
      }
     },
     "fc7a6eeb41d64de5af2ebc67ae56708c": {
      "model_module": "@jupyter-widgets/base",
      "model_module_version": "1.2.0",
      "model_name": "LayoutModel",
      "state": {
       "height": "30px",
       "width": "auto"
      }
     },
     "fc7a8df6ac8b4984b26e5a90e15f12de": {
      "model_module": "@jupyter-widgets/controls",
      "model_module_version": "1.5.0",
      "model_name": "TextModel",
      "state": {
       "description": "script",
       "disabled": true,
       "layout": "IPY_MODEL_2a09d41a5bbd4801a3de46c153eff8e7",
       "style": "IPY_MODEL_fb6517efc5844a2d8e8bfa0474eb688a",
       "value": "C:\\engDev\\git_mf\\MF_Toolbox\\dev\\mf_scripts\\eplus_pipework_params.py"
      }
     },
     "fc9e9dff00cf4300aa8ab7a64454a9bc": {
      "model_module": "@jupyter-widgets/controls",
      "model_module_version": "1.5.0",
      "model_name": "BoxModel",
      "state": {
       "children": [
        "IPY_MODEL_1417ae0a9b3e4597b50f241f304b2c78"
       ],
       "layout": "IPY_MODEL_b5915dea5171432782f695d92e6851cc"
      }
     },
     "fcaf8bc537d7443887f11321aab0ee1b": {
      "model_module": "@jupyter-widgets/controls",
      "model_module_version": "1.5.0",
      "model_name": "ButtonStyleModel",
      "state": {
       "font_weight": "bold"
      }
     },
     "fcb5fcd3c65a463881707e2bff7adca5": {
      "model_module": "@jupyter-widgets/controls",
      "model_module_version": "1.5.0",
      "model_name": "ButtonStyleModel",
      "state": {
       "font_weight": "bold"
      }
     },
     "fcc710d0d30f4ead80ae009c6f25df7b": {
      "model_module": "@jupyter-widgets/base",
      "model_module_version": "1.2.0",
      "model_name": "LayoutModel",
      "state": {}
     },
     "fccd7bf033604e3aa3274c9638d5f49f": {
      "model_module": "@jupyter-widgets/base",
      "model_module_version": "1.2.0",
      "model_name": "LayoutModel",
      "state": {
       "width": "100%"
      }
     },
     "fcd72b1f98e24c10af88a3c93847f146": {
      "model_module": "@jupyter-widgets/controls",
      "model_module_version": "1.5.0",
      "model_name": "ButtonStyleModel",
      "state": {
       "font_weight": "bold"
      }
     },
     "fcf680cec8834b9997605ae924696826": {
      "model_module": "@jupyter-widgets/controls",
      "model_module_version": "1.5.0",
      "model_name": "ButtonModel",
      "state": {
       "button_style": "info",
       "description": "show log",
       "layout": "IPY_MODEL_1aa35d0c93434c6c8e653411b3202e13",
       "style": "IPY_MODEL_f1a2d5dff5944f9e8133d42e8a392bed",
       "tooltip": "show a log of when the script was executed to generate the outputs, and by who"
      }
     },
     "fcfa99c3eb4e4f1080df12953412d1d2": {
      "model_module": "@jupyter-widgets/controls",
      "model_module_version": "1.5.0",
      "model_name": "BoxModel",
      "state": {
       "children": [
        "IPY_MODEL_198606342dc34749b2b35ddc270deedd"
       ],
       "layout": "IPY_MODEL_2988a0747b6d4b08869895329550016c"
      }
     },
     "fd2a4cb589ca46dd84bd438e45554207": {
      "model_module": "@jupyter-widgets/base",
      "model_module_version": "1.2.0",
      "model_name": "LayoutModel",
      "state": {
       "width": "5%"
      }
     },
     "fd338c10949346138f43bba550e7d2e1": {
      "model_module": "@jupyter-widgets/base",
      "model_module_version": "1.2.0",
      "model_name": "LayoutModel",
      "state": {}
     },
     "fd611039c19048e4b870157775a144a1": {
      "model_module": "@jupyter-widgets/base",
      "model_module_version": "1.2.0",
      "model_name": "LayoutModel",
      "state": {
       "height": "30px",
       "max_width": "30px",
       "padding": "3px"
      }
     },
     "fd62adadd36646ddac92138bb04a5170": {
      "model_module": "@jupyter-widgets/controls",
      "model_module_version": "1.5.0",
      "model_name": "CheckboxModel",
      "state": {
       "disabled": false,
       "indent": false,
       "layout": "IPY_MODEL_d5bd45e25c7c497eacc9b5ff4a4740d7",
       "style": "IPY_MODEL_70c6007ea452491e8b8c43565638a95f",
       "value": false
      }
     },
     "fd8181d129fd412ca7476fa1b0a5879b": {
      "model_module": "@jupyter-widgets/controls",
      "model_module_version": "1.5.0",
      "model_name": "ButtonStyleModel",
      "state": {
       "font_weight": "bold"
      }
     },
     "fd85d9d9563446bb8e93d44cd5dfa437": {
      "model_module": "@jupyter-widgets/controls",
      "model_module_version": "1.5.0",
      "model_name": "SelectMultipleModel",
      "state": {
       "_options_labels": [
        "C:\\engDev\\git_mf\\ipyrun\\data\\external\\eplus_pipework_params.csv"
       ],
       "description": "outputs",
       "index": [],
       "layout": "IPY_MODEL_839b536673df4c1899327740a0777098",
       "rows": 4,
       "style": "IPY_MODEL_ce911c5630f3436896c2f0b9fd5855ab"
      }
     },
     "fda50bd1c1f7451bb02c51d906ac43e3": {
      "model_module": "@jupyter-widgets/base",
      "model_module_version": "1.2.0",
      "model_name": "LayoutModel",
      "state": {}
     },
     "fdb166e33968442fa59e7af3c97dddd7": {
      "model_module": "@jupyter-widgets/controls",
      "model_module_version": "1.5.0",
      "model_name": "BoxModel",
      "state": {
       "children": [
        "IPY_MODEL_9a7e53a31e814423bc9144b3579ce8dc"
       ],
       "layout": "IPY_MODEL_71b207c61fbe444cb9e68811eee54c4b"
      }
     },
     "fdda490e2f4641d2a01c792a19b6addc": {
      "model_module": "@jupyter-widgets/controls",
      "model_module_version": "1.5.0",
      "model_name": "ButtonStyleModel",
      "state": {
       "font_weight": "bold"
      }
     },
     "fdf7fff6826e47c183e36ef088bbac44": {
      "model_module": "@jupyter-widgets/controls",
      "model_module_version": "1.5.0",
      "model_name": "BoxModel",
      "state": {
       "children": [
        "IPY_MODEL_ca9440790c6d4ef782bd1c829b37adc8"
       ],
       "layout": "IPY_MODEL_fe2043fa26ab4bb4a2cc4dd447f7af9f"
      }
     },
     "fdfd167a0edc4add9adb3097ed88b060": {
      "model_module": "@jupyter-widgets/output",
      "model_module_version": "1.0.0",
      "model_name": "OutputModel",
      "state": {
       "layout": "IPY_MODEL_cb378cefb68f42449f9e82d33fe4d01f"
      }
     },
     "fe0c7402dd0d431a851e72440160d128": {
      "model_module": "@jupyter-widgets/controls",
      "model_module_version": "1.5.0",
      "model_name": "DescriptionStyleModel",
      "state": {
       "description_width": ""
      }
     },
     "fe2043fa26ab4bb4a2cc4dd447f7af9f": {
      "model_module": "@jupyter-widgets/base",
      "model_module_version": "1.2.0",
      "model_name": "LayoutModel",
      "state": {}
     },
     "fe515b05a8c6411fb14b088e20780939": {
      "model_module": "@jupyter-widgets/base",
      "model_module_version": "1.2.0",
      "model_name": "LayoutModel",
      "state": {}
     },
     "fe54404406a545f1b1e5feff2e9c3a6d": {
      "model_module": "@jupyter-widgets/base",
      "model_module_version": "1.2.0",
      "model_name": "LayoutModel",
      "state": {
       "height": "30px",
       "width": "auto"
      }
     },
     "fe5b31a13943402ba985174679553f55": {
      "model_module": "@jupyter-widgets/base",
      "model_module_version": "1.2.0",
      "model_name": "LayoutModel",
      "state": {
       "align_items": "stretch",
       "width": "100%"
      }
     },
     "fe67c96ef5904059ab66f5c59d8f09ed": {
      "model_module": "@jupyter-widgets/controls",
      "model_module_version": "1.5.0",
      "model_name": "ButtonStyleModel",
      "state": {}
     },
     "fe7105869ce64f1b9c26337053aa68e0": {
      "model_module": "@jupyter-widgets/controls",
      "model_module_version": "1.5.0",
      "model_name": "VBoxModel",
      "state": {
       "children": [
        "IPY_MODEL_3e192d052b4e44b78c98fc364cddc772",
        "IPY_MODEL_b76b8144bef645d4ab5f902d3e833643",
        "IPY_MODEL_e2284817bb2e46cbb68eb435aca4e1ac"
       ],
       "layout": "IPY_MODEL_903755986465409a888868d62fd158f9"
      }
     },
     "fe772bd7c6e74485af4aa1f85c9a190c": {
      "model_module": "@jupyter-widgets/base",
      "model_module_version": "1.2.0",
      "model_name": "LayoutModel",
      "state": {
       "height": "30px",
       "width": "auto"
      }
     },
     "fe8b4a6bebb543b38d107701163f73fc": {
      "model_module": "@jupyter-widgets/controls",
      "model_module_version": "1.5.0",
      "model_name": "ButtonModel",
      "state": {
       "button_style": "success",
       "description": "run",
       "layout": "IPY_MODEL_0ba6828d73e84f54801b2344efcbef28",
       "style": "IPY_MODEL_f16930fa50b64f86a83ce3158335fb57",
       "tooltip": "execute the script based on the user inputs"
      }
     },
     "fe8ba4b2a7cd4beebbc3ae7e3e9d5cc7": {
      "model_module": "@jupyter-widgets/controls",
      "model_module_version": "1.5.0",
      "model_name": "VBoxModel",
      "state": {
       "children": [
        "IPY_MODEL_4485e621e2da4020a5f664037821f30a",
        "IPY_MODEL_94375e41a37d45efb9467b74d489fd72",
        "IPY_MODEL_ee1aba07193a4857bc3f4355b7334eab"
       ],
       "layout": "IPY_MODEL_78ab2823a7a34734a0b4114dbffea45c"
      }
     },
     "fea77f284f60431f899375f09dfb7fb7": {
      "model_module": "@jupyter-widgets/controls",
      "model_module_version": "1.5.0",
      "model_name": "VBoxModel",
      "state": {
       "children": [
        "IPY_MODEL_ee903636386f4e1ebf01d3e57c5a1363",
        "IPY_MODEL_35ce315336e5473e9af4896d095d00de"
       ],
       "layout": "IPY_MODEL_8d19305beceb4b7699077416eed954b9"
      }
     },
     "febf61feed5740ba851da066fe3e8a1d": {
      "model_module": "@jupyter-widgets/base",
      "model_module_version": "1.2.0",
      "model_name": "LayoutModel",
      "state": {
       "align_items": "stretch",
       "width": "100%"
      }
     },
     "fec9669e55444cd9bba7461b2ebac1c0": {
      "model_module": "@jupyter-widgets/controls",
      "model_module_version": "1.5.0",
      "model_name": "ButtonModel",
      "state": {
       "button_style": "info",
       "description": "show log",
       "layout": "IPY_MODEL_fb79fc1012064f9a9042feaeeb8160d7",
       "style": "IPY_MODEL_eacb307fac494bae80d0406c060df05e",
       "tooltip": "show a log of when the script was executed to generate the outputs, and by who"
      }
     },
     "ff14ae0e92cc4f1e93fd697c5bd1f615": {
      "model_module": "@jupyter-widgets/controls",
      "model_module_version": "1.5.0",
      "model_name": "ButtonStyleModel",
      "state": {
       "font_weight": "bold"
      }
     },
     "ff3cbfe8cb404d1cad37926b47ccfe2e": {
      "model_module": "@jupyter-widgets/controls",
      "model_module_version": "1.5.0",
      "model_name": "ButtonModel",
      "state": {
       "button_style": "info",
       "description": "show source code",
       "layout": "IPY_MODEL_9d675d59d39346c681460beb0c004b98",
       "style": "IPY_MODEL_f9428712b53e499a982066108c131c0c",
       "tooltip": "shows the raw python code in the preview window below"
      }
     },
     "ff5fd564b3a94b7aaa847a794a880b5a": {
      "model_module": "@jupyter-widgets/base",
      "model_module_version": "1.2.0",
      "model_name": "LayoutModel",
      "state": {}
     },
     "ff61b47c120046eb93e6681466b22d2a": {
      "model_module": "@jupyter-widgets/base",
      "model_module_version": "1.2.0",
      "model_name": "LayoutModel",
      "state": {}
     },
     "ff741bf2c0184748b6360e272c1d7fee": {
      "model_module": "@jupyter-widgets/output",
      "model_module_version": "1.0.0",
      "model_name": "OutputModel",
      "state": {
       "layout": "IPY_MODEL_d1e928151d9b4c5eb89ceac59a9a1d23"
      }
     },
     "ff77e263b7204a58a065b54f8514bde7": {
      "model_module": "@jupyter-widgets/base",
      "model_module_version": "1.2.0",
      "model_name": "LayoutModel",
      "state": {
       "height": "30px",
       "width": "auto"
      }
     },
     "ff8f2b90556f49e6aadbf8521068a1fd": {
      "model_module": "@jupyter-widgets/controls",
      "model_module_version": "1.5.0",
      "model_name": "ButtonModel",
      "state": {
       "button_style": "success",
       "description": "run",
       "layout": "IPY_MODEL_49603218c5c040b4bb13ca1a413f6d82",
       "style": "IPY_MODEL_943419341df241a19c5e9af2fb9b1d15",
       "tooltip": "execute the script based on the user inputs"
      }
     },
     "ffa7f634f9094529ba82970decb56a1b": {
      "model_module": "@jupyter-widgets/base",
      "model_module_version": "1.2.0",
      "model_name": "LayoutModel",
      "state": {
       "height": "30px",
       "max_width": "30px",
       "padding": "3px"
      }
     },
     "ffb71446e4cf4b5e9518090454f70a87": {
      "model_module": "@jupyter-widgets/base",
      "model_module_version": "1.2.0",
      "model_name": "LayoutModel",
      "state": {
       "width": "5%"
      }
     },
     "ffbaf22ea1754d688eb274c46b6713da": {
      "model_module": "@jupyter-widgets/controls",
      "model_module_version": "1.5.0",
      "model_name": "BoxModel",
      "state": {
       "children": [
        "IPY_MODEL_1a1ca9eecf26432d8d884837ed3366f9"
       ],
       "layout": "IPY_MODEL_c7b2c5580f564aeda71f2a02507eefd2"
      }
     },
     "ffc8a52a7d9b4ed9930f3009a9d8c4d6": {
      "model_module": "@jupyter-widgets/controls",
      "model_module_version": "1.5.0",
      "model_name": "VBoxModel",
      "state": {
       "children": [
        "IPY_MODEL_52dbb53f24154693a5cd1cde6a9319bf",
        "IPY_MODEL_d5911d936bcc413d976177dbfc1345d8"
       ],
       "layout": "IPY_MODEL_569f9e5b23ef47e7b93777ef72bcf4d6"
      }
     },
     "ffdc93dc6e3a4674b9b675cdd261edbb": {
      "model_module": "@jupyter-widgets/base",
      "model_module_version": "1.2.0",
      "model_name": "LayoutModel",
      "state": {}
     },
     "ffe5361bc68841c4b36393ff8eac37bd": {
      "model_module": "@jupyter-widgets/controls",
      "model_module_version": "1.5.0",
      "model_name": "ButtonModel",
      "state": {
       "button_style": "info",
       "description": "show guide",
       "layout": "IPY_MODEL_c6f01f4bdc924e3bab7fbb9e7e54ccbe",
       "style": "IPY_MODEL_ebf2bd83cd2048648a38f2eb4667b87c",
       "tooltip": "read the \"docstring\", ie. the documentation that was written to accompany the script"
      }
     },
     "fff4ac84008142f4b7b5ad10f8ffa256": {
      "model_module": "@jupyter-widgets/controls",
      "model_module_version": "1.5.0",
      "model_name": "DescriptionStyleModel",
      "state": {
       "description_width": ""
      }
     }
    },
    "version_major": 2,
    "version_minor": 0
   }
  }
 },
 "nbformat": 4,
 "nbformat_minor": 4
}
