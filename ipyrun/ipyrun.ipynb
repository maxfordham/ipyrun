{
 "cells": [
  {
   "cell_type": "code",
   "execution_count": 19,
   "metadata": {},
   "outputs": [],
   "source": [
    "import os\n",
    "FDIR = os.path.dirname(os.path.realpath('__file__'))\n",
    "\n",
    "import pandas as pd\n",
    "from IPython.display import display, Image, JSON, Markdown, HTML, clear_output\n",
    "import ipywidgets as widgets\n",
    "import subprocess\n",
    "from ipysheet import from_dataframe, to_dataframe\n",
    "import ipysheet\n",
    "from shutil import copyfile\n",
    "import getpass\n",
    "import importlib.util\n",
    "\n",
    "from _ipydisplayfile import DisplayFile, DisplayFiles\n",
    "\n",
    "from mf_modules.file_operations import make_dir\n",
    "from mf_modules.pandas_operations import del_matching\n",
    "from mf_modules.display_module_docstring import display_module_docstring\n",
    "from mf_modules.jupyter_formatting import display_python_file\n",
    "\n",
    "import getpass\n"
   ]
  },
  {
   "cell_type": "code",
   "execution_count": 18,
   "metadata": {},
   "outputs": [],
   "source": [
    "def get_mfuser_initials():\n",
    "    user = getpass.getuser()\n",
    "    return user[0]+user[2]"
   ]
  },
  {
   "cell_type": "code",
   "execution_count": 2,
   "metadata": {},
   "outputs": [
    {
     "data": {
      "text/plain": [
       "['fpth_script', 'fdir']"
      ]
     },
     "execution_count": 2,
     "metadata": {},
     "output_type": "execute_result"
    }
   ],
   "source": [
    "di={\n",
    "    'fpth_script':os.path.join(os.environ['mf_root'],r'MF_Toolbox\\dev\\mf_scripts\\eplus_pipework_params.py'),\n",
    "    #'process_name':os.path.basename(os.path.join(os.environ['mf_root'],r'MF_Toolbox\\dev\\mf_scripts\\eplus_pipework_params.py')),\n",
    "    #'fpth_inputs':os.path.join(os.environ['mf_root'],r'MF_Toolbox\\dev\\mf_scripts\\configs\\eplus_pipework_params.csv'),\n",
    "    'fdir':FDIR, #os.path.join(FDIR,'notebooks'),\n",
    "    #'fpth_log':os.path.join(FDIR,'notebooks',config),\n",
    "    #'fdir_outputs':os.path.join(FDIR,'notebooks')\n",
    "    #'RunApp_help':RunApp_help\n",
    "    }\n",
    "list(di.keys())"
   ]
  },
  {
   "cell_type": "code",
   "execution_count": 3,
   "metadata": {
    "lines_to_next_cell": 0
   },
   "outputs": [
    {
     "data": {
      "application/vnd.jupyter.widget-view+json": {
       "model_id": "3b265b0224af400ab8657205f9b68628",
       "version_major": 2,
       "version_minor": 0
      },
      "text/plain": [
       "HBox(children=(Checkbox(value=False, indent=False, layout=Layout(height='30px', max_width='30px', padding='3px…"
      ]
     },
     "metadata": {},
     "output_type": "display_data"
    },
    {
     "data": {
      "text/plain": [
       "<__main__.RunForm at 0x1a3eca8c888>"
      ]
     },
     "execution_count": 3,
     "metadata": {},
     "output_type": "execute_result"
    }
   ],
   "source": [
    "class RunForm():\n",
    "    \"\"\"\n",
    "    simple user input form for running scripts. \n",
    "    the buttons are not connected to actions in this class. \n",
    "    \"\"\"\n",
    "    \n",
    "    def __init__(self):\n",
    "        self.config = {'fpth_script':'script fpth','fpth_inputs':'script config','process_name':'process_name'}\n",
    "        self.form()\n",
    "        display(self.layout)\n",
    "        \n",
    "    def form(self):\n",
    "        self.reset = widgets.Button(icon='fa-eye-slash',#'fa-repeat'\n",
    "                                tooltip='removes temporary output view',\n",
    "                                style={'font_weight':'bold'},\n",
    "                                layout=widgets.Layout(width='5%'))\n",
    "        self.help = widgets.Button(icon='fa-question-circle',\n",
    "                                tooltip='describes the functionality of elements in the RunApp interface',\n",
    "                                style={'font_weight':'bold'},\n",
    "                                layout=widgets.Layout(width='5%'))\n",
    "        self.edit_config = widgets.Button(description='edit inputs',\n",
    "                                tooltip='edit the user input information that is used when the script is executed',\n",
    "                                button_style='warning',\n",
    "                                style={'font_weight':'bold'})\n",
    "        self.show_docstring = widgets.Button(description='show guide',\n",
    "                                tooltip='read the \"docstring\", ie. the documentation that was written to accompany the script',\n",
    "                                button_style='info',\n",
    "                                style={'font_weight':'bold'})\n",
    "        self.run_script = widgets.Button(description='run',\n",
    "                                tooltip='execute the script based on the user inputs',\n",
    "                                button_style='success',\n",
    "                                style={'font_weight':'bold'})\n",
    "        self.preview_outputs = widgets.Button(description='preview outputs',\n",
    "                                tooltip='show a preview of the output files generated when the script runs',\n",
    "                                button_style='info',\n",
    "                                style={'font_weight':'bold'})\n",
    "        self.show_log = widgets.Button(description='show log',\n",
    "                                tooltip='show a log of when the script was executed to generate the outputs, and by who',\n",
    "                                button_style='info',\n",
    "                                style={'font_weight':'bold'})\n",
    "        self.scriptfpth = widgets.Text(value=self.config['fpth_script'],\n",
    "                                description='script',\n",
    "                                layout=widgets.Layout(indent=False,\n",
    "                                                      width='auto',\n",
    "                                                      height='30px'), disabled=True)\n",
    "        self.configfpth = widgets.Text(value=self.config['fpth_inputs'],\n",
    "                                description='inputs',\n",
    "                                layout=widgets.Layout(indent=False,\n",
    "                                                      width='auto',\n",
    "                                                      height='30px'), disabled=True)\n",
    "        self.outputsfpth = widgets.SelectMultiple(description='outputs',\n",
    "                                           options=[],\n",
    "                                           rows=4,\n",
    "                                           layout=widgets.Layout(indent=False,\n",
    "                                                      width='auto',\n",
    "                                                      height='30px'))\n",
    "        self.check = widgets.Checkbox(\n",
    "                        value=False,\n",
    "                        disabled=False,\n",
    "                        indent=False,\n",
    "                        layout=widgets.Layout(max_width='30px',height='30px', padding='3px')\n",
    "                        )\n",
    "        self.form = widgets.HBox([self.reset, self.help, self.show_docstring, self.edit_config, self.run_script, self.preview_outputs, self.show_log],\n",
    "                    layout=widgets.Layout(width='100%',align_items='stretch'))\n",
    "        self.paths = widgets.VBox([self.configfpth,self.scriptfpth,self.outputsfpth],\n",
    "                    layout=widgets.Layout(width='100%',align_items='stretch')) \n",
    "        self.acc = widgets.Accordion(children=[widgets.VBox([widgets.Box([self.form]),self.paths])],selected_index=None,layout=widgets.Layout(width='100%'))\n",
    "        self.acc.set_title(0,self.config['process_name'])\n",
    "        self.layout = widgets.HBox([self.check,self.acc],layout=widgets.Layout(margin='0px',padding='0px',border='0px'))\n",
    "    \n",
    "RunForm()"
   ]
  },
  {
   "cell_type": "code",
   "execution_count": 4,
   "metadata": {},
   "outputs": [],
   "source": [
    "from _runconfig import RunConfig\n",
    "from _ipyeditcsv import EditCsv"
   ]
  },
  {
   "cell_type": "code",
   "execution_count": 21,
   "metadata": {},
   "outputs": [
    {
     "data": {
      "application/vnd.jupyter.widget-view+json": {
       "model_id": "2393be453ce44bc68c68f799f5df53ec",
       "version_major": 2,
       "version_minor": 0
      },
      "text/plain": [
       "HBox(children=(Checkbox(value=False, indent=False, layout=Layout(height='30px', max_width='30px', padding='3px…"
      ]
     },
     "metadata": {},
     "output_type": "display_data"
    },
    {
     "data": {
      "application/vnd.jupyter.widget-view+json": {
       "model_id": "9d2cfe6036f549faa2b0fa3437024dd4",
       "version_major": 2,
       "version_minor": 0
      },
      "text/plain": [
       "Output()"
      ]
     },
     "metadata": {},
     "output_type": "display_data"
    }
   ],
   "source": [
    "\n",
    "\n",
    "class EditUserInputs():\n",
    "    \n",
    "    def __init__(self, fpth_csv, fdir='.', local_fol='.mfengdev'):\n",
    "        self.fpth_csv = fpth_csv\n",
    "        self.fdir = fdir\n",
    "        self.local_fol = local_fol\n",
    "        self.fpth_out = self._fpth_out()\n",
    "        self.sheet = self._sheet()\n",
    "        self.save_changes = widgets.Button(description='save changes',button_style='success')\n",
    "        self._init_controls()\n",
    "        self.layout = widgets.VBox([self.save_changes,self.sheet])\n",
    "        self.out = widgets.Output()\n",
    "        \n",
    "    def _fpth_out(self):\n",
    "        fol = os.path.join(self.fdir, self.local_fol)\n",
    "        make_dir(fol)\n",
    "        return os.path.join(fol,os.path.basename(self.fpth_csv))\n",
    "        \n",
    "    def _init_controls(self):\n",
    "        self.save_changes.on_click(self._save_changes)\n",
    "        \n",
    "    def _sheet(self):\n",
    "        df=pd.read_csv(self.fpth_csv)\n",
    "        sheet = ipysheet.sheet(ipysheet.from_dataframe(df)) # initiate sheet\n",
    "        return sheet\n",
    "    \n",
    "    def _save_changes(self, sender):\n",
    "        tmp = to_dataframe(self.sheet)\n",
    "        tmp.to_csv(self.fpth_out)\n",
    "        \n",
    "    def display(self):\n",
    "        display(self.layout, self.out)\n",
    "        \n",
    "    def _ipython_display_(self):\n",
    "        self.display() \n",
    "        \n",
    "\n",
    "class RunApp(RunForm, RunConfig):\n",
    "    \"\"\"\n",
    "    app for managing the execution of python scripts using an ipywidgets user interface\n",
    "    \"\"\"\n",
    "    def __init__(self,config):\n",
    "        \n",
    "        self.out = widgets.Output()\n",
    "        self.config = config\n",
    "        self.user_keys = list(config.keys())\n",
    "        self.errors = []\n",
    "        self._update_config()\n",
    "        self.form()\n",
    "        self.outputsfpth.options = self.fpths_outputs\n",
    "        self.show_me_the_code = widgets.Button(description='show source code',\n",
    "                      tooltip='shows the raw python code in the preview window below',\n",
    "                      button_style='info')\n",
    "        self._init_controls()\n",
    "        \n",
    "    def _init_controls(self):\n",
    "        self.help.on_click(self._help)\n",
    "        self.reset.on_click(self._reset)\n",
    "        self.edit_config.on_click(self._edit_config)\n",
    "        self.show_docstring.on_click(self._show_docstring)\n",
    "        self.run_script.on_click(self._run_script)\n",
    "        self.show_me_the_code.on_click(self._show_me_the_code)\n",
    "        self.preview_outputs.on_click(self._preview_outputs)\n",
    "        self.show_log.on_click(self._show_log)\n",
    "        self.acc.observe(self._close_acc, names='selected_index')\n",
    "        \n",
    "    def _close_acc(self, change):\n",
    "        if self.acc.selected_index!=0:\n",
    "            self._reset(None)\n",
    "        \n",
    "    def _show_me_the_code(self, sender):\n",
    "        with self.out:\n",
    "            clear_output()\n",
    "            display(display_python_file(self.config['fpth_script']))\n",
    "            \n",
    "    def _help(self, sender):\n",
    "        with self.out:\n",
    "            clear_output()\n",
    "            fpth = os.path.join(os.environ['mf_root'],r'MF_Toolbox\\dev\\user_guides\\RunApp.png')\n",
    "            display(Image(fpth))\n",
    "            \n",
    "    def _reset(self, sender):\n",
    "        with self.out:\n",
    "            clear_output()\n",
    "    \n",
    "    def _edit_config(self, sender):\n",
    "        with self.out:\n",
    "            clear_output()\n",
    "            #display(EditUserInputs(self.config['fpth_inputs'], self.config['fdir']))\n",
    "            display(EditCsv(self.config['fpth_inputs'], self.config['fdir']))\n",
    "\n",
    "    def _show_docstring(self, sender):\n",
    "        with self.out:\n",
    "            clear_output()\n",
    "            display(self.show_me_the_code)\n",
    "            display_module_docstring(self.config['fpth_script'])\n",
    "            \n",
    "    def archive_inputs(self):\n",
    "        timestamp = str(pd.to_datetime('today'))[:-9].replace(':','').replace('-','').replace(' ','_')\n",
    "        initals = get_mfuser_initials()\n",
    "        ext = os.path.splitext(self.fpth_inputs)[1]\n",
    "        fnm = timestamp + '-' + initals + '-' + os.path.splitext(os.path.basename(self.fpth_inputs))[0] + ext\n",
    "        self.fpth_inputs_archive = os.path.join(self.fdir_inputs_archive,fnm)\n",
    "        copyfile(self.fpth_inputs,self.fpth_inputs_archive)\n",
    "        \n",
    "    def _run_script(self, sender):\n",
    "        self.config_to_json()\n",
    "        self.archive_inputs()\n",
    "        self._log()\n",
    "        with self.out:\n",
    "            clear_output()\n",
    "            if os.path.isfile(self.config['fpth_inputs']):\n",
    "                display(self.config['pretty_name'])\n",
    "                display(subprocess.check_output(['python','-O', self.config['fpth_script'], self.config['fpth_config'], self.config['fpth_inputs']]))\n",
    "            else:\n",
    "                display(Markdown(\"## inputs have not been saved\"))\n",
    "                display(Markdown('click on the \"edit inputs\" button to edit inputs and hit save when done'))\n",
    "                display(Markdown('this will save a datafile that is passed to the script when you press run'))\n",
    "                display(Markdown('the input datafile should be saved here:'))\n",
    "                display(Markdown('`{0}`'.format(self.config['fpth_inputs'])))\n",
    "\n",
    "    def _log(self):\n",
    "        if os.path.isfile(self.fpth_log):\n",
    "            self.df_log = del_matching(pd.read_csv(self.fpth_log),'Unnamed')\n",
    "        else:\n",
    "            di = {\n",
    "                'processName':[],\n",
    "                'user':[],\n",
    "                'datetime':[],\n",
    "                'formalIssue':[],\n",
    "                'tags':[],\n",
    "                'fpthInputs':[]\n",
    "            }\n",
    "            self.df_log = pd.DataFrame(di).rename_axis(\"index\")\n",
    "        \n",
    "        user = getpass.getuser()\n",
    "        timestamp = str(pd.to_datetime('today'))\n",
    "        timestamp = timestamp[:-7]\n",
    "        \n",
    "        tmp = pd.DataFrame({\n",
    "            'processName':[self.process_name],\n",
    "            'user':[user],\n",
    "            'datetime':[timestamp],\n",
    "            'formalIssue':[''],\n",
    "            'tags':[''],\n",
    "            'fpthInputs':[self.fpth_inputs_archive]\n",
    "        })\n",
    "        self.df_log = self.df_log.append(tmp).reset_index(drop=True)\n",
    "        make_dir(self.fdir_log)\n",
    "        self.df_log.to_csv(self.fpth_log)\n",
    "        \n",
    "    def _preview_outputs(self, sender):\n",
    "        with self.out:\n",
    "            clear_output()\n",
    "            #fpths = self.outputsfpth.options\n",
    "            fpths = self.outputsfpth.value\n",
    "            for fpth in fpths:\n",
    "                display(Markdown('#### {0}'.format(os.path.splitext(os.path.basename(fpth))[0])))\n",
    "                display(Markdown('`{0}`'.format(fpth)))\n",
    "                d = DisplayFile(fpth)\n",
    "                d.preview_fpth()\n",
    "            if len(fpths)==0:\n",
    "                display(Markdown('select the file(s) that you would like to display from the \"outputs\" list above '))\n",
    "                \n",
    "    def _show_log(self, sender):\n",
    "        with self.out:\n",
    "            clear_output()\n",
    "            if os.path.isfile(self.fpth_log):\n",
    "                d = DisplayFile(self.fpth_log)\n",
    "                d.preview_fpth()\n",
    "            else:  \n",
    "                display(Markdown('### A log file does not yet exist.'))\n",
    "                display(Markdown('### This indicates that the script has not yet been run.'))\n",
    "             \n",
    "    def display(self):\n",
    "        display(self.layout, self.out)\n",
    "        \n",
    "    def _ipython_display_(self):\n",
    "        self.display()     \n",
    "        \n",
    "def run_py_script(fpth,arg):\n",
    "    \"\"\"\n",
    "    run a script using python magic\n",
    "    \"\"\"\n",
    "    if os.path.isfile(fpth):\n",
    "        print('run {0}'.format(fpth))\n",
    "        %run -i $fpth $arg #-i\n",
    "    elif fpth == 'READ PROCESSED DATA ONLY':\n",
    "        pass\n",
    "    else:\n",
    "        print(\"{0} doesn't exist\".format(fpth))\n",
    "        \n",
    "di={\n",
    "    'fpth_script':os.path.join(os.environ['mf_root'],r'MF_Toolbox\\dev\\mf_scripts\\eplus_pipework_params.py'),\n",
    "    #'process_name':os.path.basename(os.path.join(os.environ['mf_root'],r'MF_Toolbox\\dev\\mf_scripts\\eplus_pipework_params.py')),\n",
    "    #'fpth_inputs':os.path.join(os.environ['mf_root'],r'MF_Toolbox\\dev\\mf_scripts\\configs\\eplus_pipework_params.csv'),\n",
    "    'fdir':FDIR,\n",
    "    #'fpth_log':os.path.join(FDIR,'notebooks',config),\n",
    "    #'fdir_outputs':os.path.join(FDIR,'notebooks')\n",
    "    #'RunApp_help':RunApp_help\n",
    "    }  \n",
    "\n",
    "# dumb form\n",
    "#form = RunForm()\n",
    "#form\n",
    "\n",
    "r = RunApp(di)  \n",
    "r"
   ]
  },
  {
   "cell_type": "code",
   "execution_count": 12,
   "metadata": {},
   "outputs": [
    {
     "data": {
      "text/plain": [
       "{'fpth_script': 'C:\\\\engDev\\\\git_mf\\\\MF_Toolbox\\\\dev\\\\mf_scripts\\\\eplus_pipework_params.py',\n",
       " 'fdir': 'C:\\\\engDev\\\\git_mf\\\\ipyrun\\\\ipyrun',\n",
       " 'process_name': 'eplus_pipework_params',\n",
       " 'pretty_name': 'eplus_pipework_params',\n",
       " 'fdir_inputs': 'C:\\\\engDev\\\\git_mf\\\\ipyrun\\\\ipyrun\\\\appdata\\\\inputs',\n",
       " 'fdir_inputs_archive': 'C:\\\\engDev\\\\git_mf\\\\ipyrun\\\\ipyrun\\\\appdata\\\\inputs\\\\archive',\n",
       " 'fpth_inputs': 'C:\\\\engDev\\\\git_mf\\\\ipyrun\\\\ipyrun\\\\appdata\\\\inputs\\\\inputs-eplus_pipework_params.csv',\n",
       " 'fpth_inputs_options': {'template': {'fdir': 'C:\\\\engDev\\\\git_mf\\\\MF_Toolbox\\\\dev\\\\mf_scripts\\\\template_inputs',\n",
       "   'fpths': ['C:\\\\engDev\\\\git_mf\\\\MF_Toolbox\\\\dev\\\\mf_scripts\\\\template_inputs\\\\inputs-eplus_pipework_params.csv']},\n",
       "  'project': {'fdir': 'C:\\\\engDev\\\\git_mf\\\\ipyrun\\\\ipyrun\\\\appdata\\\\inputs',\n",
       "   'fpths': ['C:\\\\engDev\\\\git_mf\\\\ipyrun\\\\ipyrun\\\\appdata\\\\inputs\\\\inputs-eplus_pipework_params-1.csv',\n",
       "    'C:\\\\engDev\\\\git_mf\\\\ipyrun\\\\ipyrun\\\\appdata\\\\inputs\\\\inputs-eplus_pipework_params.csv',\n",
       "    'C:\\\\engDev\\\\git_mf\\\\ipyrun\\\\ipyrun\\\\appdata\\\\inputs\\\\archive\\\\20200605-1625-inputs-eplus_pipework_params.csv',\n",
       "    'C:\\\\engDev\\\\git_mf\\\\ipyrun\\\\ipyrun\\\\appdata\\\\inputs\\\\archive\\\\20200605-1625inputs-eplus_pipework_params.csv']}},\n",
       " 'script_outputs': {'0': {'fdir': '..\\\\data\\\\external',\n",
       "   'fnm': 'eplus_pipework_params.csv',\n",
       "   'description': 'a csv lookup table with the backend nomenclature of how pipework characteristics are named within energyPlus.'}},\n",
       " 'fpths_outputs': ['..\\\\data\\\\external\\\\eplus_pipework_params.csv'],\n",
       " 'fdir_log': 'C:\\\\engDev\\\\git_mf\\\\ipyrun\\\\ipyrun\\\\appdata\\\\log',\n",
       " 'fnm_log': 'log-eplus_pipework_params.csv',\n",
       " 'fpth_log': 'C:\\\\engDev\\\\git_mf\\\\ipyrun\\\\ipyrun\\\\appdata\\\\log\\\\log-eplus_pipework_params.csv',\n",
       " 'fdir_config': 'C:\\\\engDev\\\\git_mf\\\\ipyrun\\\\ipyrun\\\\appdata\\\\config',\n",
       " 'fnm_config': 'config-eplus_pipework_params.json',\n",
       " 'fpth_config': 'C:\\\\engDev\\\\git_mf\\\\ipyrun\\\\ipyrun\\\\appdata\\\\config\\\\config-eplus_pipework_params.json'}"
      ]
     },
     "execution_count": 12,
     "metadata": {},
     "output_type": "execute_result"
    }
   ],
   "source": [
    "r.config"
   ]
  },
  {
   "cell_type": "code",
   "execution_count": 13,
   "metadata": {
    "lines_to_next_cell": 0
   },
   "outputs": [
    {
     "data": {
      "application/vnd.jupyter.widget-view+json": {
       "model_id": "0424d6c6d7f242498a38c746f0324dec",
       "version_major": 2,
       "version_minor": 0
      },
      "text/plain": [
       "HBox(children=(Checkbox(value=False, indent=False, layout=Layout(height='30px', max_width='30px', padding='3px…"
      ]
     },
     "metadata": {},
     "output_type": "display_data"
    },
    {
     "data": {
      "application/vnd.jupyter.widget-view+json": {
       "model_id": "8e90f8cf3bdb4751b954c5d7bc82850f",
       "version_major": 2,
       "version_minor": 0
      },
      "text/plain": [
       "Output()"
      ]
     },
     "metadata": {},
     "output_type": "display_data"
    }
   ],
   "source": [
    "\n",
    "\n",
    "class EditUserInputs():\n",
    "    \n",
    "    def __init__(self, fpth_csv, fdir='.', local_fol='.mfengdev'):\n",
    "        self.fpth_csv = fpth_csv\n",
    "        self.fdir = fdir\n",
    "        self.local_fol = local_fol\n",
    "        self.fpth_out = self._fpth_out()\n",
    "        self.sheet = self._sheet()\n",
    "        self.save_changes = widgets.Button(description='save changes',button_style='success')\n",
    "        self._init_controls()\n",
    "        self.layout = widgets.VBox([self.save_changes,self.sheet])\n",
    "        self.out = widgets.Output()\n",
    "        \n",
    "    def _fpth_out(self):\n",
    "        fol = os.path.join(self.fdir, self.local_fol)\n",
    "        make_dir(fol)\n",
    "        return os.path.join(fol,os.path.basename(self.fpth_csv))\n",
    "        \n",
    "    def _init_controls(self):\n",
    "        self.save_changes.on_click(self._save_changes)\n",
    "        \n",
    "    def _sheet(self):\n",
    "        df=pd.read_csv(self.fpth_csv)\n",
    "        sheet = ipysheet.sheet(ipysheet.from_dataframe(df)) # initiate sheet\n",
    "        return sheet\n",
    "    \n",
    "    def _save_changes(self, sender):\n",
    "        tmp = to_dataframe(self.sheet)\n",
    "        tmp.to_csv(self.fpth_out)\n",
    "        \n",
    "    def display(self):\n",
    "        display(self.layout, self.out)\n",
    "        \n",
    "    def _ipython_display_(self):\n",
    "        self.display() \n",
    "        \n",
    "\n",
    "class RunApp(RunForm):\n",
    "    \"\"\"\n",
    "    app for managing the execution of python scripts using an ipywidgets user interface\n",
    "    \"\"\"\n",
    "    def __init__(self,config):\n",
    "        \n",
    "        self.out = widgets.Output()\n",
    "        self.config = config\n",
    "        self.fdir = config['fdir']\n",
    "        self.config = self._update_config()\n",
    "        self.fpths_out = self.config['fpths_outputs']\n",
    "        self.fpth_log = self.config['fpth_log']\n",
    "        self.select_li = [self.config['process_name']]\n",
    "        self.value = self.config['process_name']\n",
    "        self.form()\n",
    "        self.outputsfpth.options = self.fpths_out      \n",
    "        #self.outputsfpth.value = (fpths_out[0],)\n",
    "        self.show_me_the_code = widgets.Button(description='show source code',\n",
    "                      tooltip='shows the raw python code in the preview window below',\n",
    "                      button_style='info')\n",
    "        self._init_controls()\n",
    "        \n",
    "    def _init_controls(self):\n",
    "        self.help.on_click(self._help)\n",
    "        self.reset.on_click(self._reset)\n",
    "        self.edit_config.on_click(self._edit_config)\n",
    "        self.show_docstring.on_click(self._show_docstring)\n",
    "        self.run_script.on_click(self._run_script)\n",
    "        self.run_script.on_click(self._log)\n",
    "        self.show_me_the_code.on_click(self._show_me_the_code)\n",
    "        self.preview_outputs.on_click(self._preview_outputs)\n",
    "        self.show_log.on_click(self._show_log)\n",
    "        self.acc.observe(self._close_acc, names='selected_index')\n",
    "        \n",
    "    def _close_acc(self, change):\n",
    "        if self.acc.selected_index!=0:\n",
    "            self._reset(None)\n",
    "            \n",
    "    def _find_template_configs(self):\n",
    "        self.template_configs = {}\n",
    "        if self.local_template:\n",
    "            # local (i.e. next to the notebook)\n",
    "            rootdir = os.path.join(self.fdir,r'configs')\n",
    "        else:\n",
    "            # remote (i.e. next to the script)\n",
    "            rootdir = os.path.join(os.path.dirname(self.config['fpth_script']),r'configs')\n",
    "        pattern = '*' + os.path.splitext(os.path.basename(self.config['fpth_script']))[0] + '*'\n",
    "        files = recursive_glob(rootdir=rootdir,pattern=pattern,recursive=False)\n",
    "        \n",
    "        # catch error\n",
    "        if len(files) > 1:\n",
    "            file = 'ERROR: too many template config files found'\n",
    "        elif len(files) == 0:\n",
    "            file = 'ERROR: no template config files found'\n",
    "            self.local_template = False\n",
    "        else:\n",
    "            file = files[0] \n",
    "        return file\n",
    "\n",
    "    def _update_config(self):\n",
    "        \"\"\"\n",
    "        a configuration dict is passed to the app that defines the configuration variables \n",
    "        of the app. e.g filepaths for the script path, user inputs template file etc. \n",
    "        where explicit inputs are not given this function updates the config dict with \n",
    "        default values, flagging any errors that are spotted on the way.\n",
    "        \"\"\"\n",
    "        di = self.config\n",
    "        li = di.keys()\n",
    "        process_name = os.path.splitext(os.path.split(di['fpth_script'])[1])[0]\n",
    "        fdir_local = os.path.join(self.fdir,'_configs')\n",
    "        make_dir(fdir_local)\n",
    "        \n",
    "        # find config file next to app\n",
    "        self.local_template = True\n",
    "        #file = _find_template_configs(self)\n",
    "        \n",
    "        config_local = os.path.join(fdir_local,process_name+'.csv')\n",
    "        config_remote = os.path.join(os.path.split(di['fpth_script'])[0],'configs',process_name+'.csv')\n",
    "        \n",
    "        # add process name\n",
    "        if 'process_name' in li:\n",
    "            pass\n",
    "        else:\n",
    "            di['process_name'] = process_name\n",
    "            \n",
    "        # pretty name\n",
    "        if 'pretty_name' in li:\n",
    "            pass\n",
    "        else:\n",
    "            di['pretty_name'] = process_name\n",
    "        \n",
    "        # config dict passed explicitly to the script\n",
    "        if 'fpth_inputs' in li:\n",
    "            pass\n",
    "        elif os.path.isfile(config_local):\n",
    "            di['fpth_inputs'] = config_local\n",
    "        elif os.path.isfile(config_remote):\n",
    "            copyfile(config_remote,config_local)\n",
    "            di['fpth_inputs'] = config_local #  look for template config file relative to script file\n",
    "        else:\n",
    "            di['fpth_inputs'] = 'ERROR: CANNOT FIND A TEMPLATE CONFIG FILE'\n",
    "            with self.out:\n",
    "                clear_output()\n",
    "                display(Markdown('### ERROR: CANNOT FIND A TEMPLATE CONFIG FILE'))\n",
    "        \n",
    "        # folder to put the outputs\n",
    "        if 'fdir_outputs' not in li:\n",
    "            di['fdir_outputs'] = di['fdir']\n",
    "        \n",
    "        # folder to put the outputs\n",
    "        if 'fdir_log' not in li:\n",
    "            di['fdir_log'] = di['fdir']\n",
    "       \n",
    "        # get a list of fpth outputs\n",
    "        di['fpths_outputs'] = self._fpths_out()\n",
    "        \n",
    "        # fpth log\n",
    "        di['fpth_log'] = os.path.join(self.config['fdir_log'],'log.csv')\n",
    "                       \n",
    "        return di\n",
    "        \n",
    "    #remove?    \n",
    "    def _fpths_out(self):\n",
    "        spec = importlib.util.spec_from_file_location(self.config['process_name'], self.config['fpth_script'])\n",
    "        foo = importlib.util.module_from_spec(spec)\n",
    "        spec.loader.exec_module(foo)\n",
    "        try:\n",
    "            li_out = foo.PROCESS_OUTPUTS\n",
    "            fpths_out = [os.path.join(self.config['fdir_outputs'],l['fnm']) for l in li_out];\n",
    "        except:\n",
    "            fpths_out = ['no output files found']\n",
    "        return fpths_out\n",
    "        \n",
    "    def _show_me_the_code(self, sender):\n",
    "        with self.out:\n",
    "            clear_output()\n",
    "            display(display_python_file(self.config['fpth_script']))\n",
    "            \n",
    "    def _help(self, sender):\n",
    "        with self.out:\n",
    "            clear_output()\n",
    "            fpth = os.path.join(os.environ['mf_root'],r'MF_Toolbox\\dev\\user_guides\\RunApp.png')\n",
    "            display(Image(fpth))\n",
    "            \n",
    "    def _reset(self, sender):\n",
    "        with self.out:\n",
    "            clear_output()\n",
    "    \n",
    "    def _edit_config(self, sender):\n",
    "        with self.out:\n",
    "            clear_output()\n",
    "            display(EditUserInputs(self.config['fpth_inputs'], self.config['fdir']))\n",
    "\n",
    "    def _show_docstring(self, sender):\n",
    "        with self.out:\n",
    "            clear_output()\n",
    "            display(self.show_me_the_code)\n",
    "            display_module_docstring(self.config['fpth_script'])\n",
    "            #%load C:\\engDev\\git_mf\\MF_Toolbox\\dev\\mf_modules\\mydocstring_example.py\n",
    "        \n",
    "    def _run_script(self, sender):\n",
    "        with self.out:\n",
    "            clear_output()\n",
    "            display(self.config['pretty_name'])\n",
    "            display(subprocess.check_output(['python','-O',self.config['fpth_script'], self.config['fdir_outputs'], self.config['fpth_inputs']]))\n",
    "            #run_py_script(self.config['fpth_script'],self.config['fpth_inputs'])\n",
    "            \n",
    "    def _log(self,sender):\n",
    "        \n",
    "        if os.path.isfile(self.fpth_log):\n",
    "            self.df_log = del_matching(pd.read_csv(self.fpth_log),'Unnamed')\n",
    "        else:\n",
    "            di = {\n",
    "                'user':[],\n",
    "                'datetime':[],\n",
    "                'formalIssue':[],\n",
    "                'tags':[],\n",
    "                'inputsConfig':['']\n",
    "            }\n",
    "            self.df_log = pd.DataFrame(di).rename_axis(\"index\")\n",
    "        \n",
    "        user = getpass.getuser()\n",
    "        timestamp = str(pd.to_datetime('today'))\n",
    "        timestamp = timestamp[:-7]\n",
    "        \n",
    "        tmp = pd.DataFrame({\n",
    "            'user':[user],\n",
    "            'datetime':[timestamp],\n",
    "            'formalIssue':[''],\n",
    "            'tags':[''],\n",
    "            'inputsConfig':['']\n",
    "        })\n",
    "        self.df_log = self.df_log.append(tmp).reset_index(drop=True)\n",
    "        self.df_log.to_csv(self.fpth_log)\n",
    "        \n",
    "    def _archive_config(self):\n",
    "        # JUST NEED TO COPY AND PASTE FOMR THE fpth_inputs FOLDER!\n",
    "        fdir = os.path.join(os.path.dirname(self.config['process_name']),'archive')\n",
    "        make_dir(fdir)\n",
    "        _time = str(pd.to_datetime('today'))[:-9].replace(':','').replace('-','').replace(' ','-')\n",
    "        _ext = os.path.splitext(self.config['process_name'])[1]\n",
    "        fnm = _time + self.config['process_name'] + _ext\n",
    "        fpth = os.path.join(fdir,fnm)\n",
    "        li = [\n",
    "            {\n",
    "                'old_fpth': 'adf'\n",
    "            }\n",
    "        ]\n",
    "        copy_rename(li, pr=False)\n",
    "        \n",
    "\n",
    "    def _preview_outputs(self, sender):\n",
    "        with self.out:\n",
    "            clear_output()\n",
    "            #fpths = self.outputsfpth.options\n",
    "            fpths = self.outputsfpth.value\n",
    "            for fpth in fpths:\n",
    "                display(Markdown('#### {0}'.format(os.path.splitext(os.path.basename(fpth))[0])))\n",
    "                display(Markdown('`{0}`'.format(fpth)))\n",
    "                d = DisplayFile(fpth)\n",
    "                d.preview_fpth()\n",
    "            if len(fpths)==0:\n",
    "                display(Markdown('select the file(s) that you would like to display from the \"outputs\" list above '))\n",
    "            \n",
    "            \n",
    "    def _show_log(self, sender):\n",
    "        with self.out:\n",
    "            clear_output()\n",
    "            if os.path.isfile(self.fpth_log):\n",
    "                d = DisplayFile(self.fpth_log)\n",
    "                d.preview_fpth()\n",
    "            else:  \n",
    "                display(Markdown('### A log file does not yet exist.'))\n",
    "                display(Markdown('### This indicates that the script has not yet been run.'))\n",
    "             \n",
    "    def display(self):\n",
    "        display(self.layout, self.out)\n",
    "        \n",
    "    def _ipython_display_(self):\n",
    "        self.display()     \n",
    "        \n",
    "def run_py_script(fpth,arg):\n",
    "    \"\"\"\n",
    "    run a script using python magic\n",
    "    \"\"\"\n",
    "    if os.path.isfile(fpth):\n",
    "        print('run {0}'.format(fpth))\n",
    "        %run -i $fpth $arg #-i\n",
    "    elif fpth == 'READ PROCESSED DATA ONLY':\n",
    "        pass\n",
    "    else:\n",
    "        print(\"{0} doesn't exist\".format(fpth))\n",
    "        \n",
    "di={\n",
    "    'fpth_script':os.path.join(os.environ['mf_root'],r'MF_Toolbox\\dev\\mf_scripts\\eplus_pipework_params.py'),\n",
    "    #'process_name':os.path.basename(os.path.join(os.environ['mf_root'],r'MF_Toolbox\\dev\\mf_scripts\\eplus_pipework_params.py')),\n",
    "    #'fpth_inputs':os.path.join(os.environ['mf_root'],r'MF_Toolbox\\dev\\mf_scripts\\configs\\eplus_pipework_params.csv'),\n",
    "    'fdir':os.path.join(FDIR,'notebooks'),\n",
    "    #'fpth_log':os.path.join(FDIR,'notebooks',config),\n",
    "    #'fdir_outputs':os.path.join(FDIR,'notebooks')\n",
    "    #'RunApp_help':RunApp_help\n",
    "    }  \n",
    "\n",
    "# dumb form\n",
    "#form = RunForm()\n",
    "#form\n",
    "\n",
    "r = RunApp(di)  \n",
    "r"
   ]
  },
  {
   "cell_type": "code",
   "execution_count": 10,
   "metadata": {},
   "outputs": [
    {
     "name": "stdout",
     "output_type": "stream",
     "text": [
      "Help on function copy_rename in module mf_modules.file_operations:\n",
      "\n",
      "copy_rename(li, pr=False)\n",
      "    copy renames files from a list of dicts\n",
      "    \n",
      "    Args: \n",
      "        li (list of dicts): list of old_fpths and new_fpths to rename\n",
      "            keys:\n",
      "                'old_fpth':\n",
      "                'new_fpth':\n",
      "        pr (bool): prints number of renamed files or not\n",
      "    Returns:\n",
      "        nothing. renamed files.\n",
      "    Example:\n",
      "        li = [{'old_fpth': 'Pdts\\raw\\ExportFolder\\BIMToolkit-ObjectDefinition_Ac_05_50_91.xlsx',\n",
      "                'new_fpth': 'Pdts\\AllPdts\\Ac_05_50_91-TimberSourcing.xlsx'}]\n",
      "        copy_rename(li,pr=True)\n",
      "\n"
     ]
    }
   ],
   "source": [
    "from mf_modules.file_operations import copy_rename\n",
    "help(copy_rename)"
   ]
  },
  {
   "cell_type": "code",
   "execution_count": null,
   "metadata": {},
   "outputs": [],
   "source": [
    "def _find_template_configs(self):\n",
    "    self.template_configs = {}\n",
    "    if self.local_template:\n",
    "        # local (i.e. next to the notebook)\n",
    "        rootdir = os.path.join(self.fdir,r'configs')\n",
    "    else:\n",
    "        # remote (i.e. next to the script)\n",
    "        rootdir = os.path.join(os.path.dirname(self.config['fpth_script']),r'configs')\n",
    "    pattern = '*' + os.path.splitext(os.path.basename(self.config['fpth_script']))[0] + '*'\n",
    "    files = recursive_glob(rootdir=rootdir,pattern=pattern,recursive=False)\n",
    "\n",
    "    # catch error\n",
    "    if len(files) > 1:\n",
    "        file = 'ERROR: too many template config files found'\n",
    "    elif len(files) == 0:\n",
    "        file = 'ERROR: no template config files found'\n",
    "        self.local_template = False\n",
    "    else:\n",
    "        file = files[0] \n",
    "    return file\n",
    "\n",
    "\n",
    "\n",
    "    def display(self):\n",
    "        display(self.save_changes)\n",
    "        out = [l.layout for l in self.widgets]\n",
    "        self.applayout = widgets.VBox(out)\n",
    "        display(self.applayout)\n",
    "        for l in self.widgets:\n",
    "            display(l.out)\n",
    "        display(self.out)\n",
    "\n",
    "    def _update_config(self):\n",
    "        \"\"\"\n",
    "        a configuration dict is passed to the app that defines the configuration variables \n",
    "        of the app. e.g filepaths for the script path, user inputs template file etc. \n",
    "        where explicit inputs are not given this function updates the config dict with \n",
    "        default values, flagging any errors that are spotted on the way.\n",
    "        \"\"\"\n",
    "        di = self.config\n",
    "        li = di.keys()\n",
    "        process_name = os.path.splitext(os.path.split(di['fpth_script'])[1])[0]\n",
    "        fdir_local = os.path.join(self.fdir,'_configs')\n",
    "        make_dir(fdir_local)\n",
    "        \n",
    "        # find config file next to app\n",
    "        self.local_template = True\n",
    "        #file = _find_template_configs(self)\n",
    "        \n",
    "        config_local = os.path.join(fdir_local,process_name+'.csv')\n",
    "        config_remote = os.path.join(os.path.split(di['fpth_script'])[0],'configs',process_name+'.csv')\n",
    "        \n",
    "        # add process name\n",
    "        if 'process_name' in li:\n",
    "            pass\n",
    "        else:\n",
    "            di['process_name'] = process_name\n",
    "            \n",
    "        # pretty name\n",
    "        if 'pretty_name' in li:\n",
    "            pass\n",
    "        else:\n",
    "            di['pretty_name'] = process_name\n",
    "        \n",
    "        # config dict passed explicitly to the script\n",
    "        if 'fpth_inputs' in li:\n",
    "            pass\n",
    "        elif os.path.isfile(config_local):\n",
    "            di['fpth_inputs'] = config_local\n",
    "        elif os.path.isfile(config_remote):\n",
    "            copyfile(config_remote,config_local)\n",
    "            di['fpth_inputs'] = config_local #  look for template config file relative to script file\n",
    "        else:\n",
    "            di['fpth_inputs'] = 'ERROR: CANNOT FIND A TEMPLATE CONFIG FILE'\n",
    "            with self.out:\n",
    "                clear_output()\n",
    "                display(Markdown('### ERROR: CANNOT FIND A TEMPLATE CONFIG FILE'))\n",
    "        \n",
    "        # folder to put the outputs\n",
    "        if 'fdir_outputs' not in li:\n",
    "            di['fdir_outputs'] = di['fdir']\n",
    "        \n",
    "        # folder to put the outputs\n",
    "        if 'fdir_log' not in li:\n",
    "            di['fdir_log'] = di['fdir']\n",
    "       \n",
    "        # get a list of fpth outputs\n",
    "        di['fpths_outputs'] = self._fpths_out()\n",
    "        \n",
    "        # fpth log\n",
    "        di['fpth_log'] = os.path.join(self.config['fdir_log'],'log.csv')\n",
    "                       \n",
    "        return di"
   ]
  },
  {
   "cell_type": "code",
   "execution_count": null,
   "metadata": {},
   "outputs": [],
   "source": []
  },
  {
   "cell_type": "code",
   "execution_count": null,
   "metadata": {},
   "outputs": [],
   "source": []
  },
  {
   "cell_type": "code",
   "execution_count": 63,
   "metadata": {},
   "outputs": [],
   "source": [
    "from mf_modules.datamine_functions import recursive_glob\n",
    "\n",
    "class ManageInputConfig():\n",
    "    \n",
    "    def __init__(self,config):\n",
    "        self.config = config\n",
    "        self.user_keys = list(config.keys())\n",
    "        self.errors = []\n",
    "        self.fpths_out_template = self._fpths_out_template()\n",
    "        self._update_config()\n",
    "        \n",
    "    def _update_config(self):\n",
    "        \"\"\"\n",
    "        a configuration dict is passed to the app that defines the configuration variables \n",
    "        of the app. e.g filepaths for the script path, user inputs template file etc. \n",
    "        where explicit inputs are not given this function updates the config dict with \n",
    "        default values, flagging any errors that are spotted on the way.\n",
    "        \"\"\"\n",
    "        di = self.config       \n",
    "        di['fdir'] = self.fdir\n",
    "        di['process_name'] = self.process_name\n",
    "        di['pretty_name'] = self.pretty_name\n",
    "        di['fdir_inputs'] = self.fdir_inputs\n",
    "        di['fpth_input'] = self.fpth_input\n",
    "        di['fpth_input_options'] = self.fpth_input_options() #dict\n",
    "        di['fpths_out'] = self._update_fpths_out() #dict\n",
    "        di['fdir_log'] = self.fdir_log \n",
    "        di['fnm_log'] = self.fnm_log\n",
    "        di['fpth_log'] = os.path.join(self.fdir_log, self.fnm_log)\n",
    "                       \n",
    "        return di\n",
    "             \n",
    "    def fpth_input_options(self):  \n",
    "        patterns = ['*' + self.process_name + '*', '*' + self.script_name + '*']\n",
    "        patterns = list(set(patterns))\n",
    "        \n",
    "        di = {\n",
    "            'template':{\n",
    "                'fdir': self.fdir_template_inputs,\n",
    "                'fpths':[]\n",
    "            },\n",
    "            'project':{\n",
    "                'fdir': self.fdir_inputs,\n",
    "                'fpths':[]\n",
    "            },\n",
    "        }\n",
    "        cnt = 0\n",
    "        valid_exts = ['.csv','.json']\n",
    "        for k,v in di.items():\n",
    "            for pattern in patterns:\n",
    "                fpths = recursive_glob(rootdir=v['fdir'],pattern=pattern,recursive=False)\n",
    "                di[k]['fpths'] = fpths\n",
    "                cnt += len(fpths)\n",
    "                self.errors.append(['{0} not csv or json'.format(fpth) for fpth in fpths if os.path.splitext(fpth)[1] not in valid_exts])\n",
    "        if cnt == 0:\n",
    "            self.errors.append('couldnt find and input files within the templates folder or in the project folder')\n",
    "        return di\n",
    "    \n",
    "    @property\n",
    "    def fdir(self):\n",
    "        '''check if fdir given, otherwise put it local to app'''\n",
    "        if 'fdir' in self.user_keys:\n",
    "            return self.config['fdir']\n",
    "        else:\n",
    "            return '.'\n",
    "    \n",
    "    @property\n",
    "    def script_name(self):\n",
    "        '''name of the script. used for checking if its different to the process name'''\n",
    "        return os.path.splitext(os.path.split(self.config['fpth_script'])[1])[0]\n",
    "    \n",
    "    @property\n",
    "    def process_name(self):\n",
    "        '''add process name. defaults to name of the script with optional overide.\n",
    "        the names of the inputs files and log file always match the process_name'''\n",
    "        process_name = self.script_name\n",
    "        if 'process_name' in self.user_keys:\n",
    "            return self.config['process_name']\n",
    "        else:\n",
    "            return process_name\n",
    "            \n",
    "    @property\n",
    "    def pretty_name(self):\n",
    "        '''pretty name. opportunity to add user-friendly name.'''\n",
    "        if 'pretty_name' in self.user_keys:\n",
    "            return self.config['pretty_name']\n",
    "        else:\n",
    "            return self.process_name\n",
    "    \n",
    "    @property\n",
    "    def fdir_inputs(self):\n",
    "        # add inputs folder name\n",
    "        if 'fdir_inputs' in self.user_keys:\n",
    "            make_dir(self.config['fdir_inputs'])\n",
    "            return self.config['fdir_inputs']\n",
    "        else:\n",
    "            make_dir(os.path.join(self.fdir,'inputs'))\n",
    "            return os.path.join(self.fdir,'inputs')\n",
    "        \n",
    "    @property\n",
    "    def fdir_template_inputs(self):\n",
    "        return os.path.join(os.path.dirname(self.config['fpth_script']),r'template_inputs')\n",
    "    \n",
    "    @property\n",
    "    def fpth_template_input(self):\n",
    "        fpth = recursive_glob(rootdir=self.fdir_template_inputs,\n",
    "                              pattern='*'+self.script_name+'.*',\n",
    "                              recursive=False)\n",
    "        if len(fpth)==0:\n",
    "            self.errors.append('could not find template input: {0}'.format(os.path.join(self.fdir_inputs, self.process_name)))\n",
    "        return fpth[0]\n",
    "        \n",
    "    @property\n",
    "    def fpth_input(self):\n",
    "        fpth = os.path.join(self.fdir_inputs, self.process_name)\n",
    "        if not os.path.isfile(fpth):\n",
    "            copyfile(self.fpth_template_input,fpth)\n",
    "        return fpth\n",
    "\n",
    "    @property\n",
    "    def fdir_log(self):\n",
    "        if 'fdir_log' in self.user_keys:\n",
    "            return self.config['fdir_log']\n",
    "        else:\n",
    "            return os.path.join(self.fdir,'log')\n",
    "        \n",
    "    @property\n",
    "    def fnm_log(self):\n",
    "        if 'fnm_log' in self.user_keys:\n",
    "            return self.config['fnm_log']\n",
    "        else:\n",
    "            return self.fnm_log+self.process_name+'.csv'\n",
    "    \n",
    "    def _fpths_out_template(self):\n",
    "        spec = importlib.util.spec_from_file_location(self.script_name, self.config['fpth_script'])\n",
    "        foo = importlib.util.module_from_spec(spec)\n",
    "        spec.loader.exec_module(foo)\n",
    "        return foo.FPTHS_OUT\n",
    "        \n",
    "    def _update_fpths_out(self):\n",
    "        \"\"\"overwrites the template fpth outputs with the user defined ones\"\"\"\n",
    "        if 'fpths_out' not in self.user_keys:\n",
    "            return self.fpths_out_template\n",
    "        else:\n",
    "            di = {}\n",
    "            for k, v in self.fpths_out_template.items():\n",
    "                di[k] = v\n",
    "                for _k,_v in v.items():\n",
    "                    di[k][_k] = self.config['fpths_out'][k][_k]\n",
    "            return di\n",
    "                \n",
    "\n"
   ]
  },
  {
   "cell_type": "code",
   "execution_count": 64,
   "metadata": {},
   "outputs": [
    {
     "name": "stdout",
     "output_type": "stream",
     "text": [
      "C:\\engDev\\git_mf\\MF_Toolbox\\dev\\mf_scripts\\template_inputs\n"
     ]
    }
   ],
   "source": [
    "fdir= os.path.join(os.path.dirname(di['fpth_script']),r'template_inputs')\n",
    "script_name = os.path.splitext(os.path.basename(di['fpth_script']))[0]\n",
    "fpth = recursive_glob(rootdir=fdir,\n",
    "                      pattern='.',\n",
    "                      recursive=False)\n",
    "print(fdir)"
   ]
  },
  {
   "cell_type": "code",
   "execution_count": null,
   "metadata": {},
   "outputs": [],
   "source": [
    "di={\n",
    "    'fpth_script':os.path.join(os.environ['mf_root'],r'MF_Toolbox\\dev\\mf_scripts\\eplus_pipework_params.py'),\n",
    "    #'process_name':os.path.basename(os.path.join(os.environ['mf_root'],r'MF_Toolbox\\dev\\mf_scripts\\eplus_pipework_params.py')),\n",
    "    #'fpth_inputs':os.path.join(os.environ['mf_root'],r'MF_Toolbox\\dev\\mf_scripts\\configs\\eplus_pipework_params.csv'),\n",
    "    'fdir':os.path.join(FDIR,'notebooks'),\n",
    "    #'fpth_log':os.path.join(FDIR,'notebooks',config),\n",
    "    #'fdir_outputs':os.path.join(FDIR,'notebooks')\n",
    "    #'RunApp_help':RunApp_help\n",
    "    } \n",
    "\n",
    "ManageInputConfig(di)"
   ]
  },
  {
   "cell_type": "code",
   "execution_count": 45,
   "metadata": {},
   "outputs": [
    {
     "name": "stdout",
     "output_type": "stream",
     "text": [
      "C:\\engDev\\git_mf\\ipyrun\\ipyrun\\data\n"
     ]
    }
   ],
   "source": [
    "print(os.path.join(FDIR,r'data'))"
   ]
  },
  {
   "cell_type": "code",
   "execution_count": 44,
   "metadata": {},
   "outputs": [
    {
     "name": "stdout",
     "output_type": "stream",
     "text": [
      "C:\\engDev\\git_mf\\ipyrun\\ipyrun\\data\n"
     ]
    }
   ],
   "source": [
    "print(os.path.join(FDIR,r'data'))"
   ]
  },
  {
   "cell_type": "code",
   "execution_count": 17,
   "metadata": {},
   "outputs": [],
   "source": [
    "c = ManageInputConfigs(di)"
   ]
  },
  {
   "cell_type": "code",
   "execution_count": 33,
   "metadata": {
    "lines_to_next_cell": 0
   },
   "outputs": [
    {
     "data": {
      "text/markdown": [
       "#### fdir"
      ],
      "text/plain": [
       "<IPython.core.display.Markdown object>"
      ]
     },
     "metadata": {},
     "output_type": "display_data"
    },
    {
     "data": {
      "text/markdown": [
       "value: None"
      ],
      "text/plain": [
       "<IPython.core.display.Markdown object>"
      ]
     },
     "metadata": {},
     "output_type": "display_data"
    },
    {
     "data": {
      "text/markdown": [
       "description: the working directory within the project. \n",
       "this is typically the directory of the Jupyter Notebook.\n"
      ],
      "text/plain": [
       "<IPython.core.display.Markdown object>"
      ]
     },
     "metadata": {},
     "output_type": "display_data"
    },
    {
     "data": {
      "text/markdown": [
       "default: ."
      ],
      "text/plain": [
       "<IPython.core.display.Markdown object>"
      ]
     },
     "metadata": {},
     "output_type": "display_data"
    },
    {
     "data": {
      "text/markdown": [
       "#### fpth_script"
      ],
      "text/plain": [
       "<IPython.core.display.Markdown object>"
      ]
     },
     "metadata": {},
     "output_type": "display_data"
    },
    {
     "data": {
      "text/markdown": [
       "value: fpth_script"
      ],
      "text/plain": [
       "<IPython.core.display.Markdown object>"
      ]
     },
     "metadata": {},
     "output_type": "display_data"
    },
    {
     "data": {
      "text/markdown": [
       "description: the filepath of the script to be executed\n"
      ],
      "text/plain": [
       "<IPython.core.display.Markdown object>"
      ]
     },
     "metadata": {},
     "output_type": "display_data"
    },
    {
     "data": {
      "text/markdown": [
       "default: ."
      ],
      "text/plain": [
       "<IPython.core.display.Markdown object>"
      ]
     },
     "metadata": {},
     "output_type": "display_data"
    },
    {
     "data": {
      "text/markdown": [
       "#### process_name"
      ],
      "text/plain": [
       "<IPython.core.display.Markdown object>"
      ]
     },
     "metadata": {},
     "output_type": "display_data"
    },
    {
     "data": {
      "text/markdown": [
       "value: process_name"
      ],
      "text/plain": [
       "<IPython.core.display.Markdown object>"
      ]
     },
     "metadata": {},
     "output_type": "display_data"
    },
    {
     "data": {
      "text/markdown": [
       "description: the name of the process - this name is used for renaming the fpth_inputs file. \n",
       "in that way it can be modified to allow for multiple different \"runs\" with \n",
       "different inputs but running from the same script. (e.g. model_runs analysis). \n"
      ],
      "text/plain": [
       "<IPython.core.display.Markdown object>"
      ]
     },
     "metadata": {},
     "output_type": "display_data"
    },
    {
     "data": {
      "text/markdown": [
       "default: defaults to the name of the script\n"
      ],
      "text/plain": [
       "<IPython.core.display.Markdown object>"
      ]
     },
     "metadata": {},
     "output_type": "display_data"
    },
    {
     "data": {
      "text/markdown": [
       "#### fpth_inputs"
      ],
      "text/plain": [
       "<IPython.core.display.Markdown object>"
      ]
     },
     "metadata": {},
     "output_type": "display_data"
    },
    {
     "data": {
      "text/markdown": [
       "value: fpth_inputs"
      ],
      "text/plain": [
       "<IPython.core.display.Markdown object>"
      ]
     },
     "metadata": {},
     "output_type": "display_data"
    },
    {
     "data": {
      "text/markdown": [
       "description: the filepath of the script to be executed\n"
      ],
      "text/plain": [
       "<IPython.core.display.Markdown object>"
      ]
     },
     "metadata": {},
     "output_type": "display_data"
    },
    {
     "data": {
      "text/markdown": [
       "default: searches the following locations ordered by preference: \n",
       "  - a folder called _inputs (#config) in the project next to the notebook/app.\n",
       "  - a folder called _inputs (#config) located next to the script. \n",
       "  - a folder called _inputs\\archive (#config) in the project next to the notebook/app.\n",
       "if multiple matches are found it gives the option to load from previous. \n",
       "  \n"
      ],
      "text/plain": [
       "<IPython.core.display.Markdown object>"
      ]
     },
     "metadata": {},
     "output_type": "display_data"
    },
    {
     "data": {
      "text/markdown": [
       "#### pretty_name"
      ],
      "text/plain": [
       "<IPython.core.display.Markdown object>"
      ]
     },
     "metadata": {},
     "output_type": "display_data"
    },
    {
     "data": {
      "text/markdown": [
       "value: pretty_name"
      ],
      "text/plain": [
       "<IPython.core.display.Markdown object>"
      ]
     },
     "metadata": {},
     "output_type": "display_data"
    },
    {
     "data": {
      "text/markdown": [
       "description: the user output name -  \n",
       "creates the future opportunity to give more user friendly names. \n"
      ],
      "text/plain": [
       "<IPython.core.display.Markdown object>"
      ]
     },
     "metadata": {},
     "output_type": "display_data"
    },
    {
     "data": {
      "text/markdown": [
       "default: defaults to the name of the process_name.\n"
      ],
      "text/plain": [
       "<IPython.core.display.Markdown object>"
      ]
     },
     "metadata": {},
     "output_type": "display_data"
    },
    {
     "data": {
      "text/markdown": [
       "#### fdir_log"
      ],
      "text/plain": [
       "<IPython.core.display.Markdown object>"
      ]
     },
     "metadata": {},
     "output_type": "display_data"
    },
    {
     "data": {
      "text/markdown": [
       "value: fdir\\_log\\process_name-log.csv"
      ],
      "text/plain": [
       "<IPython.core.display.Markdown object>"
      ]
     },
     "metadata": {},
     "output_type": "display_data"
    },
    {
     "data": {
      "text/markdown": [
       "description: file directory of the log file that keeps a record of when the script has been run\n"
      ],
      "text/plain": [
       "<IPython.core.display.Markdown object>"
      ]
     },
     "metadata": {},
     "output_type": "display_data"
    },
    {
     "data": {
      "text/markdown": [
       "default: fdir\\_log"
      ],
      "text/plain": [
       "<IPython.core.display.Markdown object>"
      ]
     },
     "metadata": {},
     "output_type": "display_data"
    },
    {
     "data": {
      "text/markdown": [
       "#### fpth_outputs"
      ],
      "text/plain": [
       "<IPython.core.display.Markdown object>"
      ]
     },
     "metadata": {},
     "output_type": "display_data"
    },
    {
     "data": {
      "text/markdown": [
       "fdir: fdir_output"
      ],
      "text/plain": [
       "<IPython.core.display.Markdown object>"
      ]
     },
     "metadata": {},
     "output_type": "display_data"
    },
    {
     "data": {
      "text/markdown": [
       "fnm: fnm_output"
      ],
      "text/plain": [
       "<IPython.core.display.Markdown object>"
      ]
     },
     "metadata": {},
     "output_type": "display_data"
    },
    {
     "data": {
      "text/markdown": [
       "description: a description of the output file\n"
      ],
      "text/plain": [
       "<IPython.core.display.Markdown object>"
      ]
     },
     "metadata": {},
     "output_type": "display_data"
    }
   ],
   "source": [
    "from mf_modules.pydtype_operations import read_yaml\n",
    "#help(read_yaml)\n",
    "di = read_yaml(r'default_config.yaml')\n",
    "for k,v in di.items():\n",
    "    display(Markdown('#### {0}'.format(k)))\n",
    "    if type(v) == dict:\n",
    "        for _k,_v in v.items():\n",
    "            display(Markdown('{0}: {1}'.format(_k,_v)))\n",
    "    if type(v)==list:\n",
    "        for l in v:\n",
    "            for _k,_v in l.items():\n",
    "                display(Markdown('{0}: {1}'.format(_k,_v)))\n",
    "        \n",
    "#JSON(read_yaml(r'default_config.yaml'))"
   ]
  },
  {
   "cell_type": "code",
   "execution_count": null,
   "metadata": {},
   "outputs": [],
   "source": []
  },
  {
   "cell_type": "code",
   "execution_count": null,
   "metadata": {},
   "outputs": [],
   "source": []
  },
  {
   "cell_type": "code",
   "execution_count": null,
   "metadata": {
    "lines_to_next_cell": 2
   },
   "outputs": [],
   "source": []
  },
  {
   "cell_type": "code",
   "execution_count": 21,
   "metadata": {},
   "outputs": [
    {
     "data": {
      "text/plain": [
       "{'script_fpth': 'C:\\\\engDev\\\\git_mf\\\\MF_Toolbox\\\\dev\\\\mf_scripts\\\\eplus_pipework_params.py',\n",
       " 'fdir': 'C:\\\\engDev\\\\git_mf\\\\ipyrun\\\\ipyrun\\\\notebooks',\n",
       " 'process_name': 'eplus_pipework_params',\n",
       " 'pretty_name': 'eplus_pipework_params',\n",
       " 'script_config': 'C:\\\\engDev\\\\git_mf\\\\ipyrun\\\\ipyrun\\\\notebooks\\\\_configs\\\\eplus_pipework_params.csv',\n",
       " 'fdir_outputs': 'C:\\\\engDev\\\\git_mf\\\\ipyrun\\\\ipyrun\\\\notebooks',\n",
       " 'fdir_log': 'C:\\\\engDev\\\\git_mf\\\\ipyrun\\\\ipyrun\\\\notebooks',\n",
       " 'fpths_outputs': ['C:\\\\engDev\\\\git_mf\\\\ipyrun\\\\ipyrun\\\\notebooks\\\\eplus_pipework_params.csv'],\n",
       " 'fpth_log': 'C:\\\\engDev\\\\git_mf\\\\ipyrun\\\\ipyrun\\\\notebooks\\\\log.csv'}"
      ]
     },
     "execution_count": 21,
     "metadata": {},
     "output_type": "execute_result"
    }
   ],
   "source": [
    "c.config"
   ]
  },
  {
   "cell_type": "code",
   "execution_count": null,
   "metadata": {},
   "outputs": [],
   "source": []
  },
  {
   "cell_type": "code",
   "execution_count": null,
   "metadata": {},
   "outputs": [],
   "source": []
  },
  {
   "cell_type": "code",
   "execution_count": null,
   "metadata": {},
   "outputs": [],
   "source": []
  },
  {
   "cell_type": "code",
   "execution_count": 5,
   "metadata": {},
   "outputs": [
    {
     "name": "stdout",
     "output_type": "stream",
     "text": [
      "Help on function make_dirs_from_dict in module mf_modules.file_operations:\n",
      "\n",
      "make_dirs_from_dict(d, current_dir='./')\n",
      "    pass a dict and create folders with the \n",
      "    **current_dir directory\n",
      "\n"
     ]
    }
   ],
   "source": [
    "from mf_modules.file_operations import make_dirs_from_dict\n",
    "help(make_dirs_from_dict)"
   ]
  },
  {
   "cell_type": "code",
   "execution_count": 8,
   "metadata": {},
   "outputs": [],
   "source": [
    "import mf_modules.file_operations as file_operations\n",
    "from _ipydisplayfile import PreviewPy\n",
    "#PreviewPy(file_operations)"
   ]
  },
  {
   "cell_type": "code",
   "execution_count": null,
   "metadata": {},
   "outputs": [],
   "source": [
    "di = \n",
    "make_dirs_from_dict"
   ]
  },
  {
   "cell_type": "code",
   "execution_count": 11,
   "metadata": {},
   "outputs": [
    {
     "ename": "FileExistsError",
     "evalue": "[WinError 183] Cannot create a file when that file already exists: 'C:\\\\engDev\\\\git_mf\\\\datadriven\\\\notebooks'",
     "output_type": "error",
     "traceback": [
      "\u001b[1;31m---------------------------------------------------------------------------\u001b[0m",
      "\u001b[1;31mFileExistsError\u001b[0m                           Traceback (most recent call last)",
      "\u001b[1;32m<ipython-input-11-3ec70f026081>\u001b[0m in \u001b[0;36m<module>\u001b[1;34m\u001b[0m\n\u001b[0;32m      4\u001b[0m     \u001b[1;34m'reports'\u001b[0m\u001b[1;33m:\u001b[0m\u001b[1;34m'figures'\u001b[0m\u001b[1;33m\u001b[0m\u001b[1;33m\u001b[0m\u001b[0m\n\u001b[0;32m      5\u001b[0m }\n\u001b[1;32m----> 6\u001b[1;33m \u001b[0mmake_dirs_from_dict\u001b[0m\u001b[1;33m(\u001b[0m\u001b[0mdi\u001b[0m\u001b[1;33m,\u001b[0m\u001b[0mcurrent_dir\u001b[0m\u001b[1;33m=\u001b[0m\u001b[0mfdir_test\u001b[0m\u001b[1;33m)\u001b[0m\u001b[1;33m\u001b[0m\u001b[1;33m\u001b[0m\u001b[0m\n\u001b[0m",
      "\u001b[1;32mC:\\engDev\\git_mf\\MF_Toolbox\\dev\\mf_modules\\file_operations.py\u001b[0m in \u001b[0;36mmake_dirs_from_dict\u001b[1;34m(d, current_dir)\u001b[0m\n\u001b[0;32m    201\u001b[0m \u001b[1;33m\u001b[0m\u001b[0m\n\u001b[0;32m    202\u001b[0m     \u001b[1;32mfor\u001b[0m \u001b[0mkey\u001b[0m\u001b[1;33m,\u001b[0m \u001b[0mval\u001b[0m \u001b[1;32min\u001b[0m \u001b[0md\u001b[0m\u001b[1;33m.\u001b[0m\u001b[0mitems\u001b[0m\u001b[1;33m(\u001b[0m\u001b[1;33m)\u001b[0m\u001b[1;33m:\u001b[0m\u001b[1;33m\u001b[0m\u001b[1;33m\u001b[0m\u001b[0m\n\u001b[1;32m--> 203\u001b[1;33m         \u001b[0mos\u001b[0m\u001b[1;33m.\u001b[0m\u001b[0mmkdir\u001b[0m\u001b[1;33m(\u001b[0m\u001b[0mos\u001b[0m\u001b[1;33m.\u001b[0m\u001b[0mpath\u001b[0m\u001b[1;33m.\u001b[0m\u001b[0mjoin\u001b[0m\u001b[1;33m(\u001b[0m\u001b[0mcurrent_dir\u001b[0m\u001b[1;33m,\u001b[0m \u001b[0mkey\u001b[0m\u001b[1;33m)\u001b[0m\u001b[1;33m)\u001b[0m\u001b[1;33m\u001b[0m\u001b[1;33m\u001b[0m\u001b[0m\n\u001b[0m\u001b[0;32m    204\u001b[0m         \u001b[1;32mif\u001b[0m \u001b[0mtype\u001b[0m\u001b[1;33m(\u001b[0m\u001b[0mval\u001b[0m\u001b[1;33m)\u001b[0m \u001b[1;33m==\u001b[0m \u001b[0mdict\u001b[0m\u001b[1;33m:\u001b[0m\u001b[1;33m\u001b[0m\u001b[1;33m\u001b[0m\u001b[0m\n\u001b[0;32m    205\u001b[0m             \u001b[0mmake_dirs_from_dict\u001b[0m\u001b[1;33m(\u001b[0m\u001b[0mval\u001b[0m\u001b[1;33m,\u001b[0m \u001b[0mos\u001b[0m\u001b[1;33m.\u001b[0m\u001b[0mpath\u001b[0m\u001b[1;33m.\u001b[0m\u001b[0mjoin\u001b[0m\u001b[1;33m(\u001b[0m\u001b[0mcurrent_dir\u001b[0m\u001b[1;33m,\u001b[0m \u001b[0mkey\u001b[0m\u001b[1;33m)\u001b[0m\u001b[1;33m)\u001b[0m\u001b[1;33m\u001b[0m\u001b[1;33m\u001b[0m\u001b[0m\n",
      "\u001b[1;31mFileExistsError\u001b[0m: [WinError 183] Cannot create a file when that file already exists: 'C:\\\\engDev\\\\git_mf\\\\datadriven\\\\notebooks'"
     ]
    }
   ],
   "source": [
    "fdir_test = r'C:\\engDev\\git_mf\\datadriven'\n",
    "di = {\n",
    "    'notebooks':{'_config':'_archive'},\n",
    "    'reports':'figures'\n",
    "}\n",
    "make_dirs_from_dict(di,current_dir=fdir_test)"
   ]
  },
  {
   "cell_type": "code",
   "execution_count": null,
   "metadata": {},
   "outputs": [],
   "source": [
    "from shutil import copyfile"
   ]
  },
  {
   "cell_type": "code",
   "execution_count": 46,
   "metadata": {},
   "outputs": [
    {
     "name": "stdout",
     "output_type": "stream",
     "text": [
      "Help on function copyfile in module shutil:\n",
      "\n",
      "copyfile(src, dst, *, follow_symlinks=True)\n",
      "    Copy data from src to dst.\n",
      "    \n",
      "    If follow_symlinks is not set and src is a symbolic link, a new\n",
      "    symlink will be created instead of copying the file it points to.\n",
      "\n"
     ]
    }
   ],
   "source": [
    "help(copyfile)"
   ]
  },
  {
   "cell_type": "code",
   "execution_count": 4,
   "metadata": {},
   "outputs": [
    {
     "ename": "SyntaxError",
     "evalue": "invalid syntax (<ipython-input-4-53cb2cc76aef>, line 2)",
     "output_type": "error",
     "traceback": [
      "\u001b[1;36m  File \u001b[1;32m\"<ipython-input-4-53cb2cc76aef>\"\u001b[1;36m, line \u001b[1;32m2\u001b[0m\n\u001b[1;33m    help(    def _update_config(self):\u001b[0m\n\u001b[1;37m               ^\u001b[0m\n\u001b[1;31mSyntaxError\u001b[0m\u001b[1;31m:\u001b[0m invalid syntax\n"
     ]
    }
   ],
   "source": [
    "def _update_config(self):\n",
    "        \"\"\"\n",
    "        a configuration dict is passed to the app that defines the configuration variables \n",
    "        of the app. e.g filepaths for the script path, user inputs template file etc. \n",
    "        where explicit inputs are not given this function updates the config dict with \n",
    "        default values, flagging any errors that are spotted on the way.\n",
    "        \"\"\"\n",
    "        di = self.config\n",
    "        li = di.keys()\n",
    "        process_name = os.path.splitext(os.path.split(di['fpth_script'])[1])[0]\n",
    "        fdir_local = os.path.join(self.fdir,'_configs')\n",
    "        make_dir(fdir_local)\n",
    "        \n",
    "        # find config file next to app\n",
    "        self.local_template = True\n",
    "        #file = _find_template_configs(self)\n",
    "        \n",
    "        config_local = os.path.join(fdir_local,process_name+'.csv')\n",
    "        config_remote = os.path.join(os.path.split(di['fpth_script'])[0],'configs',process_name+'.csv')\n",
    "        \n",
    "        # add process name\n",
    "        if 'process_name' in li:\n",
    "            pass\n",
    "        else:\n",
    "            di['process_name'] = process_name\n",
    "            \n",
    "        # pretty name\n",
    "        if 'pretty_name' in li:\n",
    "            pass\n",
    "        else:\n",
    "            di['pretty_name'] = process_name\n",
    "        \n",
    "        # config dict passed explicitly to the script\n",
    "        if 'fpth_inputs' in li:\n",
    "            pass\n",
    "        elif os.path.isfile(config_local):\n",
    "            di['fpth_inputs'] = config_local\n",
    "        elif os.path.isfile(config_remote):\n",
    "            copyfile(config_remote,config_local)\n",
    "            di['fpth_inputs'] = config_local #  look for template config file relative to script file\n",
    "        else:\n",
    "            di['fpth_inputs'] = 'ERROR: CANNOT FIND A TEMPLATE CONFIG FILE'\n",
    "            with self.out:\n",
    "                clear_output()\n",
    "                display(Markdown('### ERROR: CANNOT FIND A TEMPLATE CONFIG FILE'))\n",
    "        \n",
    "        # folder to put the outputs\n",
    "        if 'fdir_outputs' not in li:\n",
    "            di['fdir_outputs'] = di['fdir']\n",
    "        \n",
    "        # folder to put the outputs\n",
    "        if 'fdir_log' not in li:\n",
    "            di['fdir_log'] = di['fdir']\n",
    "       \n",
    "        # get a list of fpth outputs\n",
    "        di['fpths_outputs'] = self._fpths_out()\n",
    "        \n",
    "        # fpth log\n",
    "        di['fpth_log'] = os.path.join(self.config['fdir_log'],'log.csv')\n",
    "                       \n",
    "        return di"
   ]
  },
  {
   "cell_type": "code",
   "execution_count": 8,
   "metadata": {},
   "outputs": [
    {
     "data": {
      "text/plain": [
       "'.csv'"
      ]
     },
     "execution_count": 8,
     "metadata": {},
     "output_type": "execute_result"
    }
   ],
   "source": [
    "c = ManageInputConfigs(r.config)\n",
    "c.config_ext"
   ]
  },
  {
   "cell_type": "code",
   "execution_count": 56,
   "metadata": {
    "lines_to_end_of_cell_marker": 2,
    "lines_to_next_cell": 0
   },
   "outputs": [],
   "source": [
    "from mf_modules.datamine_functions import recursive_glob\n",
    "\n",
    "def find_configs(self)\n",
    "    pattern = '*' + r.config['process_name'] + '*'\n",
    "    files = recursive_glob(rootdir=rootdir,pattern=pattern,recursive=False)\n",
    "    if len(files) == 0:\n",
    "        file = 'could not find a template config file'\n",
    "    elif len(files) > 0:\n",
    "        file = [file for file in files if os.path.splitext(os.path.basename(r.config['fpth_script']))[0] == r.config['process_name']][0]\n",
    "    else:\n",
    "        file = files[0]"
   ]
  },
  {
   "cell_type": "code",
   "execution_count": 87,
   "metadata": {
    "lines_to_next_cell": 2
   },
   "outputs": [
    {
     "data": {
      "text/plain": [
       "'C:\\\\engDev\\\\git_mf\\\\ipyrun\\\\ipyrun\\\\notebooks\\\\_configs\\\\archive'"
      ]
     },
     "execution_count": 87,
     "metadata": {},
     "output_type": "execute_result"
    }
   ],
   "source": []
  },
  {
   "cell_type": "code",
   "execution_count": 57,
   "metadata": {},
   "outputs": [
    {
     "data": {
      "text/plain": [
       "'C:\\\\engDev\\\\git_mf\\\\MF_Toolbox\\\\dev\\\\mf_scripts\\\\configs\\\\eplus_pipework_params.csv'"
      ]
     },
     "execution_count": 57,
     "metadata": {},
     "output_type": "execute_result"
    }
   ],
   "source": [
    "file"
   ]
  },
  {
   "cell_type": "code",
   "execution_count": 83,
   "metadata": {},
   "outputs": [
    {
     "data": {
      "text/plain": [
       "'.csv'"
      ]
     },
     "execution_count": 83,
     "metadata": {},
     "output_type": "execute_result"
    }
   ],
   "source": []
  },
  {
   "cell_type": "code",
   "execution_count": null,
   "metadata": {},
   "outputs": [],
   "source": []
  },
  {
   "cell_type": "code",
   "execution_count": null,
   "metadata": {},
   "outputs": [],
   "source": []
  },
  {
   "cell_type": "code",
   "execution_count": 26,
   "metadata": {
    "lines_to_next_cell": 0
   },
   "outputs": [
    {
     "ename": "SyntaxError",
     "evalue": "invalid syntax (<ipython-input-26-a7293ad172fd>, line 88)",
     "output_type": "error",
     "traceback": [
      "\u001b[1;36m  File \u001b[1;32m\"<ipython-input-26-a7293ad172fd>\"\u001b[1;36m, line \u001b[1;32m88\u001b[0m\n\u001b[1;33m    elif len(files) == 0\u001b[0m\n\u001b[1;37m                        ^\u001b[0m\n\u001b[1;31mSyntaxError\u001b[0m\u001b[1;31m:\u001b[0m invalid syntax\n"
     ]
    }
   ],
   "source": [
    "\n",
    "\n",
    "class EditUserInputs():\n",
    "    \n",
    "    def __init__(self, fpth_csv, fdir='.', local_fol='.mfengdev'):\n",
    "        self.fpth_csv = fpth_csv\n",
    "        self.fdir = fdir\n",
    "        self.local_fol = local_fol\n",
    "        self.fpth_out = self._fpth_out()\n",
    "        self.sheet = self._sheet()\n",
    "        self.save_changes = widgets.Button(description='save changes',button_style='success')\n",
    "        self._init_controls()\n",
    "        self.layout = widgets.VBox([self.save_changes,self.sheet])\n",
    "        self.out = widgets.Output()\n",
    "        \n",
    "    def _fpth_out(self):\n",
    "        fol = os.path.join(self.fdir, self.local_fol)\n",
    "        make_dir(fol)\n",
    "        return os.path.join(fol,os.path.basename(self.fpth_csv))\n",
    "        \n",
    "    def _init_controls(self):\n",
    "        self.save_changes.on_click(self._save_changes)\n",
    "        \n",
    "    def _sheet(self):\n",
    "        df=pd.read_csv(self.fpth_csv)\n",
    "        sheet = ipysheet.sheet(ipysheet.from_dataframe(df)) # initiate sheet\n",
    "        return sheet\n",
    "    \n",
    "    def _save_changes(self, sender):\n",
    "        tmp = to_dataframe(self.sheet)\n",
    "        tmp.to_csv(self.fpth_out)\n",
    "        \n",
    "    def display(self):\n",
    "        display(self.layout, self.out)\n",
    "        \n",
    "    def _ipython_display_(self):\n",
    "        self.display() \n",
    "        \n",
    "\n",
    "class RunApp(RunForm):\n",
    "    \"\"\"\n",
    "    app for managing the execution of python scripts using an ipywidgets user interface\n",
    "    \"\"\"\n",
    "    def __init__(self,config):\n",
    "        \n",
    "        self.out = widgets.Output()\n",
    "        self.config = config\n",
    "        self.fdir = config['fdir']\n",
    "        self._update_config()\n",
    "        self.select_li = [self.config['process_name']]\n",
    "        self.value = self.config['process_name']\n",
    "        self.form()\n",
    "        self.fpths_out = self._fpths_out()\n",
    "        self.fpth_log = os.path.join(self.config['fdir_log'],'log.csv')\n",
    "        self.show_me_the_code = widgets.Button(description='show source code',\n",
    "                      tooltip='shows the raw python code in the preview window below',\n",
    "                      button_style='info')\n",
    "        self._init_controls()\n",
    "        \n",
    "    def _init_controls(self):\n",
    "        self.help.on_click(self._help)\n",
    "        self.reset.on_click(self._reset)\n",
    "        self.edit_config.on_click(self._edit_config)\n",
    "        self.show_docstring.on_click(self._show_docstring)\n",
    "        self.run_script.on_click(self._run_script)\n",
    "        self.run_script.on_click(self._log)\n",
    "        self.show_me_the_code.on_click(self._show_me_the_code)\n",
    "        self.preview_outputs.on_click(self._preview_outputs)\n",
    "        self.show_log.on_click(self._show_log)\n",
    "        self.acc.observe(self._close_acc, names='selected_index')\n",
    "        \n",
    "    def _close_acc(self, change):\n",
    "        if self.acc.selected_index!=0:\n",
    "            self._reset(None)\n",
    "            \n",
    "    def _find_template_configs(self):\n",
    "        self.template_configs = {}\n",
    "        if self.local_template:\n",
    "            # local (i.e. next to the notebook)\n",
    "            rootdir = os.path.join(self.fdir,r'configs')\n",
    "        else:\n",
    "            # remote (i.e. next to the script)\n",
    "            rootdir = os.path.join(os.path.dirname(self.config['fpth_script']),r'configs')\n",
    "        pattern = '*' + os.path.splitext(os.path.basename(self.config['fpth_script']))[0] + '*'\n",
    "        files = recursive_glob(rootdir=rootdir,pattern=pattern,recursive=False)\n",
    "        \n",
    "        # catch error\n",
    "        if len(files) > 1:\n",
    "            file = 'ERROR: too many template config files found'\n",
    "        elif len(files) == 0\n",
    "            file = 'ERROR: no template config files found'\n",
    "            self.local_template = False\n",
    "        else:\n",
    "            file = files[0] \n",
    "        return file\n",
    "\n",
    "    def _update_config(self):\n",
    "        \"\"\"\n",
    "        a configuration dict is passed to the app that defines the configuration variables \n",
    "        of the app. e.g filepaths for the script path, user inputs template file etc. \n",
    "        where explicit inputs are not given this function updates the config dict with \n",
    "        default values, flagging any errors that are spotted on the way.\n",
    "        \"\"\"\n",
    "        di = self.config\n",
    "        li = di.keys()\n",
    "        process_name = os.path.splitext(os.path.split(di['fpth_script'])[1])[0]\n",
    "        fdir_local = os.path.join(self.fdir,'_configs')\n",
    "        make_dir(fdir_local)\n",
    "        \n",
    "        # find config file next to app\n",
    "        self.local_template = True\n",
    "        file = _find_template_configs(self)\n",
    "        \n",
    "        #config_local = os.path.join(fdir_local,process_name+'.csv')\n",
    "        #config_remote = os.path.join(os.path.split(di['fpth_script'])[0],'configs',process_name+'.csv')\n",
    "        \n",
    "        # add process name\n",
    "        if 'process_name' in li:\n",
    "            pass\n",
    "        else:\n",
    "            di['process_name'] = process_name\n",
    "        \n",
    "        # config dict passed explicitly to the script\n",
    "        if 'fpth_inputs' in li:\n",
    "            pass\n",
    "        elif os.path.isfile(file):\n",
    "            di['fpth_inputs'] = file\n",
    "        elif os.path.isfile(config_remote):\n",
    "            copyfile(config_remote,config_local)\n",
    "            di['fpth_inputs'] = config_local #  look for template config file relative to script file\n",
    "        else:\n",
    "            di['fpth_inputs'] = 'ERROR: CANNOT FIND A TEMPLATE CONFIG FILE'\n",
    "            with self.out:\n",
    "                clear_output()\n",
    "                display(Markdown('### ERROR: CANNOT FIND A TEMPLATE CONFIG FILE'))\n",
    "        \n",
    "        # folder to put the outputs\n",
    "        if 'fdir_outputs' not in li:\n",
    "            di['fdir_outputs'] = di['fdir']\n",
    "        \n",
    "        # folder to put the outputs\n",
    "        if 'fdir_log' not in li:\n",
    "            di['fdir_log'] = di['fdir']\n",
    "                       \n",
    "        self.config = di\n",
    "          \n",
    "    def _fpths_out(self):\n",
    "\n",
    "        spec = importlib.util.spec_from_file_location(self.config['process_name'], self.config['fpth_script'])\n",
    "        foo = importlib.util.module_from_spec(spec)\n",
    "        spec.loader.exec_module(foo)\n",
    "        try:\n",
    "            li_out = foo.PROCESS_OUTPUTS\n",
    "            fpths_out = [os.path.join(self.config['fdir_outputs'],l['fnm']) for l in li_out];\n",
    "        except:\n",
    "            fpths_out = ['no output files found']\n",
    "        self.outputsfpth.options = fpths_out      \n",
    "        #self.outputsfpth.value = (fpths_out[0],)\n",
    "        return fpths_out\n",
    "        \n",
    "    def _show_me_the_code(self, sender):\n",
    "        with self.out:\n",
    "            clear_output()\n",
    "            display(display_python_file(self.config['fpth_script']))\n",
    "            \n",
    "    def _help(self, sender):\n",
    "        with self.out:\n",
    "            clear_output()\n",
    "            fpth = os.path.join(os.environ['mf_root'],r'MF_Toolbox\\dev\\user_guides\\RunApp.png')\n",
    "            display(Image(fpth))\n",
    "            \n",
    "    def _reset(self, sender):\n",
    "        with self.out:\n",
    "            clear_output()\n",
    "    \n",
    "    def _edit_config(self, sender):\n",
    "        with self.out:\n",
    "            clear_output()\n",
    "            display(EditUserInputs(self.config['fpth_inputs'], self.config['fdir']))\n",
    "\n",
    "    def _show_docstring(self, sender):\n",
    "        with self.out:\n",
    "            clear_output()\n",
    "            display(self.show_me_the_code)\n",
    "            display_module_docstring(self.config['fpth_script'])\n",
    "            #%load C:\\engDev\\git_mf\\MF_Toolbox\\dev\\mf_modules\\mydocstring_example.py\n",
    "        \n",
    "    def _run_script(self, sender):\n",
    "        with self.out:\n",
    "            clear_output()\n",
    "            display(self.config['process_name'])\n",
    "            display(subprocess.check_output(['python','-O',self.config['fpth_script'], self.config['fdir_outputs'], self.config['fpth_inputs']]))\n",
    "            #run_py_script(self.config['fpth_script'],self.config['fpth_inputs'])\n",
    "            \n",
    "    def _log(self,sender):\n",
    "        \n",
    "        if os.path.isfile(self.fpth_log):\n",
    "            self.df_log = del_matching(pd.read_csv(self.fpth_log),'Unnamed')\n",
    "        else:\n",
    "            di = {\n",
    "                'user':[],\n",
    "                'datetime':[],\n",
    "                'formalIssue':[],\n",
    "                'tags':[]\n",
    "            }\n",
    "            self.df_log = pd.DataFrame(di).rename_axis(\"index\")\n",
    "        \n",
    "        user = getpass.getuser()\n",
    "        timestamp = str(pd.to_datetime('today'))\n",
    "        timestamp = timestamp[:-7]\n",
    "        \n",
    "        tmp = pd.DataFrame({\n",
    "            'user':[user],\n",
    "            'datetime':[timestamp],\n",
    "            'formalIssue':[''],\n",
    "            'tags':['']\n",
    "        })\n",
    "        self.df_log = self.df_log.append(tmp).reset_index(drop=True)\n",
    "        self.df_log.to_csv(self.fpth_log)\n",
    "            \n",
    "    def _preview_outputs(self, sender):\n",
    "        with self.out:\n",
    "            clear_output()\n",
    "            #fpths = self.outputsfpth.options\n",
    "            fpths = self.outputsfpth.value\n",
    "            for fpth in fpths:\n",
    "                display(Markdown('#### {0}'.format(os.path.splitext(os.path.basename(fpth))[0])))\n",
    "                display(Markdown('`{0}`'.format(fpth)))\n",
    "                d = DisplayFile(fpth)\n",
    "                d.preview_fpth()\n",
    "            if len(fpths)==0:\n",
    "                display(Markdown('select the file(s) that you would like to display from the \"outputs\" list above '))\n",
    "            \n",
    "            \n",
    "    def _show_log(self, sender):\n",
    "        with self.out:\n",
    "            clear_output()\n",
    "            if os.path.isfile(self.fpth_log):\n",
    "                d = DisplayFile(self.fpth_log)\n",
    "                d.preview_fpth()\n",
    "            else:  \n",
    "                display(Markdown('### A log file does not yet exist.'))\n",
    "                display(Markdown('### This indicates that the script has not yet been run. '))\n",
    "             \n",
    "    def display(self):\n",
    "        display(self.layout, self.out)\n",
    "        \n",
    "    def _ipython_display_(self):\n",
    "        self.display()     \n",
    "        \n",
    "def run_py_script(fpth,arg):\n",
    "    \"\"\"\n",
    "    run a script using python magic\n",
    "    \"\"\"\n",
    "    if os.path.isfile(fpth):\n",
    "        print('run {0}'.format(fpth))\n",
    "        %run -i $fpth $arg #-i\n",
    "    elif fpth == 'READ PROCESSED DATA ONLY':\n",
    "        pass\n",
    "    else:\n",
    "        print(\"{0} doesn't exist\".format(fpth))\n",
    "        \n",
    "di={\n",
    "    'fpth_script':os.path.join(os.environ['mf_root'],r'MF_Toolbox\\dev\\mf_scripts\\eplus_pipework_params.py'),\n",
    "    #'process_name':os.path.basename(os.path.join(os.environ['mf_root'],r'MF_Toolbox\\dev\\mf_scripts\\eplus_pipework_params.py')),\n",
    "    #'fpth_inputs':os.path.join(os.environ['mf_root'],r'MF_Toolbox\\dev\\mf_scripts\\configs\\eplus_pipework_params.csv'),\n",
    "    'fdir':os.path.join(FDIR,'notebooks'),\n",
    "    #'fpth_log':os.path.join(FDIR,'notebooks',config),\n",
    "    #'fdir_outputs':os.path.join(FDIR,'notebooks')\n",
    "    #'RunApp_help':RunApp_help\n",
    "    }  \n",
    "\n",
    "# dumb form\n",
    "#form = RunForm()\n",
    "#form\n",
    "\n",
    "r = RunApp(di)  \n",
    "r"
   ]
  },
  {
   "cell_type": "code",
   "execution_count": null,
   "metadata": {
    "lines_to_next_cell": 2
   },
   "outputs": [],
   "source": []
  },
  {
   "cell_type": "code",
   "execution_count": null,
   "metadata": {
    "lines_to_next_cell": 0
   },
   "outputs": [],
   "source": [
    "def _find_template_configs(self):\n",
    "    self.template_configs = {}\n",
    "    if self.local_template:\n",
    "        # local (i.e. next to the notebook)\n",
    "        rootdir = os.path.join(self.fdir,r'configs')\n",
    "    else:\n",
    "        # remote (i.e. next to the script)\n",
    "        rootdir = os.path.join(os.path.dirname(self.config['fpth_script']),r'configs')\n",
    "    pattern = '*' + os.path.splitext(os.path.basename(self.config['fpth_script']))[0] + '*'\n",
    "    files = recursive_glob(rootdir=rootdir,pattern=pattern,recursive=False)\n",
    "\n",
    "    # catch error\n",
    "    if len(files) > 1:\n",
    "        file = 'ERROR: too many template config files found'\n",
    "    elif len(files) == 0\n",
    "        file = 'ERROR: no template config files found'\n",
    "        self.local_template = False\n",
    "    else:\n",
    "        file = files[0] \n",
    "    return file\n",
    "\n",
    "def _update_config(self):\n",
    "    \"\"\"\n",
    "    a configuration dict is passed to the app that defines the configuration variables \n",
    "    of the app. e.g filepaths for the script path, user inputs template file etc. \n",
    "    where explicit inputs are not given this function updates the config dict with \n",
    "    default values, flagging any errors that are spotted on the way.\n",
    "    \"\"\"\n",
    "    di = self.config\n",
    "    li = di.keys()\n",
    "    process_name = os.path.splitext(os.path.split(di['fpth_script'])[1])[0]\n",
    "    fdir_local = os.path.join(self.fdir,'_configs')\n",
    "    make_dir(fdir_local)\n",
    "\n",
    "    # find config file next to app\n",
    "    self.local_template = True\n",
    "    file = _find_template_configs(self)\n",
    "\n",
    "    #config_local = os.path.join(fdir_local,process_name+'.csv')\n",
    "    #config_remote = os.path.join(os.path.split(di['fpth_script'])[0],'configs',process_name+'.csv')\n",
    "\n",
    "    # add process name\n",
    "    if 'process_name' in li:\n",
    "        pass\n",
    "    else:\n",
    "        di['process_name'] = process_name\n",
    "\n",
    "    # config dict passed explicitly to the script\n",
    "    if 'fpth_inputs' in li:\n",
    "        pass\n",
    "    elif os.path.isfile(file):\n",
    "        di['fpth_inputs'] = file\n",
    "    elif os.path.isfile(config_remote):\n",
    "        copyfile(config_remote,config_local)\n",
    "        di['fpth_inputs'] = config_local #  look for template config file relative to script file\n",
    "    else:\n",
    "        di['fpth_inputs'] = 'ERROR: CANNOT FIND A TEMPLATE CONFIG FILE'\n",
    "        with self.out:\n",
    "            clear_output()\n",
    "            display(Markdown('### ERROR: CANNOT FIND A TEMPLATE CONFIG FILE'))\n",
    "\n",
    "    # folder to put the outputs\n",
    "    if 'fdir_outputs' not in li:\n",
    "        di['fdir_outputs'] = di['fdir']\n",
    "\n",
    "    # folder to put the outputs\n",
    "    if 'fdir_log' not in li:\n",
    "        di['fdir_log'] = di['fdir']\n",
    "\n",
    "    self.config = di"
   ]
  },
  {
   "cell_type": "code",
   "execution_count": null,
   "metadata": {},
   "outputs": [],
   "source": []
  },
  {
   "cell_type": "code",
   "execution_count": null,
   "metadata": {},
   "outputs": [],
   "source": []
  },
  {
   "cell_type": "code",
   "execution_count": null,
   "metadata": {},
   "outputs": [],
   "source": []
  },
  {
   "cell_type": "code",
   "execution_count": null,
   "metadata": {},
   "outputs": [],
   "source": []
  },
  {
   "cell_type": "code",
   "execution_count": null,
   "metadata": {},
   "outputs": [],
   "source": []
  },
  {
   "cell_type": "code",
   "execution_count": null,
   "metadata": {
    "lines_to_next_cell": 2
   },
   "outputs": [],
   "source": []
  },
  {
   "cell_type": "code",
   "execution_count": 31,
   "metadata": {},
   "outputs": [
    {
     "data": {
      "text/plain": [
       "{'script_fpth': 'C:\\\\engDev\\\\git_mf\\\\MF_Toolbox\\\\dev\\\\mf_scripts\\\\eplus_pipework_params.py',\n",
       " 'fdir': 'C:\\\\engDev\\\\git_mf\\\\ipyrun\\\\ipyrun\\\\notebooks',\n",
       " 'process_name': 'eplus_pipework_params',\n",
       " 'script_config': 'C:\\\\engDev\\\\git_mf\\\\ipyrun\\\\ipyrun\\\\notebooks\\\\_configs\\\\eplus_pipework_params.csv',\n",
       " 'fdir_outputs': 'C:\\\\engDev\\\\git_mf\\\\ipyrun\\\\ipyrun\\\\notebooks',\n",
       " 'fdir_log': 'C:\\\\engDev\\\\git_mf\\\\ipyrun\\\\ipyrun\\\\notebooks'}"
      ]
     },
     "execution_count": 31,
     "metadata": {},
     "output_type": "execute_result"
    }
   ],
   "source": [
    "r.config"
   ]
  },
  {
   "cell_type": "code",
   "execution_count": 42,
   "metadata": {},
   "outputs": [
    {
     "data": {
      "text/plain": [
       "['C:\\\\engDev\\\\git_mf\\\\MF_Toolbox\\\\dev\\\\mf_scripts\\\\configs\\\\eplus_pipework_params.csv']"
      ]
     },
     "execution_count": 42,
     "metadata": {},
     "output_type": "execute_result"
    }
   ],
   "source": [
    "from mf_modules.datamine_functions import recursive_glob\n",
    "#help(recursive_glob)\n",
    "rootdir = os.path.join(os.path.dirname(r.config['fpth_script']),r'configs')\n",
    "pattern = '*' + os.path.splitext(os.path.basename(r.config['fpth_script']))[0] + '*' \n",
    "files = recursive_glob(rootdir=rootdir,pattern=pattern,recursive=False)\n",
    "files"
   ]
  },
  {
   "cell_type": "code",
   "execution_count": 37,
   "metadata": {
    "lines_to_next_cell": 2
   },
   "outputs": [
    {
     "data": {
      "text/plain": [
       "'eplus_pipework_params'"
      ]
     },
     "execution_count": 37,
     "metadata": {},
     "output_type": "execute_result"
    }
   ],
   "source": []
  },
  {
   "cell_type": "code",
   "execution_count": 19,
   "metadata": {
    "lines_to_next_cell": 0
   },
   "outputs": [
    {
     "data": {
      "application/vnd.jupyter.widget-view+json": {
       "model_id": "1592223705e4452bb06c84a831f1d2b1",
       "version_major": 2,
       "version_minor": 0
      },
      "text/plain": [
       "HBox(children=(Checkbox(value=False, indent=False, layout=Layout(height='30px', max_width='30px', padding='3px…"
      ]
     },
     "metadata": {},
     "output_type": "display_data"
    },
    {
     "data": {
      "application/vnd.jupyter.widget-view+json": {
       "model_id": "ff295b23faea4b9387aaa286c2f9c8f2",
       "version_major": 2,
       "version_minor": 0
      },
      "text/plain": [
       "Output()"
      ]
     },
     "metadata": {},
     "output_type": "display_data"
    }
   ],
   "source": [
    "class RunApp_edit(RunApp):\n",
    "    \n",
    "    def __init__(self,config):\n",
    "        super().__init__(config)\n",
    "        \n",
    "    def _help(self, sender):\n",
    "        with self.out:\n",
    "            clear_output()\n",
    "            #fpth = os.path.join(os.environ['mf_root'],r'MF_Toolbox\\dev\\user_guides\\RunApp.png')\n",
    "            #display(Image(fpth))\n",
    "            #di['RunApp_help']()\n",
    "            print('it is easy to extend the class by inheriting it and then changing on the buttons youd like to change')\n",
    "            \n",
    "di={\n",
    "    'fpth_script':os.path.join(os.environ['mf_root'],r'MF_Toolbox\\dev\\mf_scripts\\eplus_pipework_params.py'),\n",
    "    #'process_name':os.path.basename(os.path.join(os.environ['mf_root'],r'MF_Toolbox\\dev\\mf_scripts\\eplus_pipework_params.py')),\n",
    "    #'fpth_inputs':os.path.join(os.environ['mf_root'],r'MF_Toolbox\\dev\\mf_scripts\\configs\\eplus_pipework_params.csv'),\n",
    "    'fdir':os.path.join(FDIR,'notebooks'),\n",
    "    #'fpth_log':os.path.join(FDIR,'notebooks',config),\n",
    "    #'fdir_outputs':os.path.join(FDIR,'notebooks')\n",
    "    #'RunApp_help':RunApp_help\n",
    "    }  \n",
    "\n",
    "r = RunApp_edit(di)  \n",
    "r"
   ]
  },
  {
   "cell_type": "code",
   "execution_count": 8,
   "metadata": {},
   "outputs": [],
   "source": [
    "# RunApp_help\n",
    "# RunApp_show_guide\n",
    "# RunApp_edit_inputs\n",
    "# RunApp_run\n",
    "# RunApp_preview_outputs"
   ]
  },
  {
   "cell_type": "code",
   "execution_count": 20,
   "metadata": {
    "lines_to_next_cell": 0
   },
   "outputs": [
    {
     "data": {
      "application/vnd.jupyter.widget-view+json": {
       "model_id": "0060564b4e764c779a8619b49416e9c0",
       "version_major": 2,
       "version_minor": 0
      },
      "text/plain": [
       "HBox(children=(Button(icon='eye-slash', layout=Layout(width='5%'), style=ButtonStyle(font_weight='bold'), tool…"
      ]
     },
     "metadata": {},
     "output_type": "display_data"
    },
    {
     "data": {
      "application/vnd.jupyter.widget-view+json": {
       "model_id": "0d2dfbf58ddd4223a0da430cd946fb95",
       "version_major": 2,
       "version_minor": 0
      },
      "text/plain": [
       "Output()"
      ]
     },
     "metadata": {},
     "output_type": "display_data"
    },
    {
     "data": {
      "application/vnd.jupyter.widget-view+json": {
       "model_id": "3a160ba798a24616990fd462fdc6327c",
       "version_major": 2,
       "version_minor": 0
      },
      "text/plain": [
       "HBox(children=(Checkbox(value=False, indent=False, layout=Layout(height='30px', max_width='30px', padding='3px…"
      ]
     },
     "metadata": {},
     "output_type": "display_data"
    },
    {
     "data": {
      "application/vnd.jupyter.widget-view+json": {
       "model_id": "e51784aeb322484ca5b8c886b05d45bc",
       "version_major": 2,
       "version_minor": 0
      },
      "text/plain": [
       "Output()"
      ]
     },
     "metadata": {},
     "output_type": "display_data"
    },
    {
     "data": {
      "application/vnd.jupyter.widget-view+json": {
       "model_id": "a7bd671a089a402d98ab3ac6ed5c939d",
       "version_major": 2,
       "version_minor": 0
      },
      "text/plain": [
       "HBox(children=(Checkbox(value=False, indent=False, layout=Layout(height='30px', max_width='30px', padding='3px…"
      ]
     },
     "metadata": {},
     "output_type": "display_data"
    },
    {
     "data": {
      "application/vnd.jupyter.widget-view+json": {
       "model_id": "d97a85dfa3f149108dd3ae23c4f66f22",
       "version_major": 2,
       "version_minor": 0
      },
      "text/plain": [
       "Output()"
      ]
     },
     "metadata": {},
     "output_type": "display_data"
    },
    {
     "data": {
      "application/vnd.jupyter.widget-view+json": {
       "model_id": "f83691d199a54c488a0e9c74f304d9d7",
       "version_major": 2,
       "version_minor": 0
      },
      "text/plain": [
       "HBox(children=(Checkbox(value=False, indent=False, layout=Layout(height='30px', max_width='30px', padding='3px…"
      ]
     },
     "metadata": {},
     "output_type": "display_data"
    },
    {
     "data": {
      "application/vnd.jupyter.widget-view+json": {
       "model_id": "77f08798fbb949ed9a99d67263463147",
       "version_major": 2,
       "version_minor": 0
      },
      "text/plain": [
       "Output()"
      ]
     },
     "metadata": {},
     "output_type": "display_data"
    }
   ],
   "source": [
    "# option 1: preferred, but an annoying amount of space between tabs...\n",
    "class RunApps():\n",
    "    \n",
    "    def __init__(self,configs):\n",
    "        self.configs = configs\n",
    "        \n",
    "        self.li = []\n",
    "        self._form()\n",
    "        self._init_controls()\n",
    "        for config in configs:\n",
    "            self.li.append(RunApp(config))   \n",
    "        self.out = widgets.Output()\n",
    "        \n",
    "        \n",
    "    def _form(self):\n",
    "        \n",
    "        self.reset = widgets.Button(icon='fa-eye-slash',#'fa-repeat'\n",
    "                                tooltip='removes temporary output view',\n",
    "                                style={'font_weight':'bold'},\n",
    "                                layout=widgets.Layout(width='5%'))\n",
    "        self.help = widgets.Button(icon='fa-question-circle',\n",
    "                                tooltip='describes the functionality of elements in the RunApp interface',\n",
    "                                style={'font_weight':'bold'},\n",
    "                                layout=widgets.Layout(width='5%'))\n",
    "        self.run_batch = widgets.Button(description='run batch',\n",
    "                                tooltip='execute checked processes below',\n",
    "                                button_style='success',\n",
    "                                style={'font_weight':'bold'})\n",
    "        self.form = widgets.HBox([self.reset, self.help, self.run_batch],\n",
    "                        layout=widgets.Layout(width='100%',align_items='stretch'))   \n",
    "    \n",
    "    def _init_controls(self):\n",
    "        self.help.on_click(self._help)\n",
    "        self.reset.on_click(self._reset)\n",
    "        self.run_batch.on_click(self._run_batch)\n",
    "        \n",
    "    def _help(self, sender):\n",
    "        \n",
    "        with self.out:\n",
    "            display('sadf')\n",
    "            clear_output()\n",
    "            fpth = os.path.join(os.environ['mf_root'],r'MF_Toolbox\\dev\\user_guides\\RunBatch.png')\n",
    "            display(Image(fpth))\n",
    "            \n",
    "    def _reset(self, sender):\n",
    "        with self.out:\n",
    "            clear_output()\n",
    "        for l in self.li:\n",
    "            l._reset(sender)\n",
    "    \n",
    "    def _run_batch(self, sender):\n",
    "        cnt = 0\n",
    "        ttl = 0\n",
    "        for l in self.li:\n",
    "            ttl = ttl + 1\n",
    "            if l.check.value:\n",
    "                cnt = cnt + 1\n",
    "        \n",
    "        with self.out:\n",
    "            clear_output()\n",
    "            display(Markdown('{0} out of {1} scripts selected to be run'.format(cnt,ttl)))\n",
    "            for l in self.li:\n",
    "                if l.check.value:\n",
    "                    display(Markdown('running: {0}'.format(l.config['process_name'])))\n",
    "                    l._run_script('sender')\n",
    "                    l._log('sender')\n",
    "\n",
    "    def display(self):\n",
    "        display(self.form)\n",
    "        display(self.out)\n",
    "        [display(l) for l in self.li]; \n",
    "        \n",
    "    def _ipython_display_(self):\n",
    "        self.display()   \n",
    "        \n",
    "di={\n",
    "    'fpth_script':os.path.join(os.environ['mf_root'],r'MF_Toolbox\\dev\\mf_scripts\\eplus_pipework_params.py'),\n",
    "    #'process_name':os.path.basename(os.path.join(os.environ['mf_root'],r'MF_Toolbox\\dev\\mf_scripts\\eplus_pipework_params.py')),\n",
    "    #'fpth_inputs':os.path.join(os.environ['mf_root'],r'MF_Toolbox\\dev\\mf_scripts\\configs\\eplus_pipework_params.csv'),\n",
    "    'fdir':os.path.join(FDIR,'notebooks'),\n",
    "    'fdir_outputs':os.path.join(FDIR,'notebooks')\n",
    "    }  \n",
    "\n",
    "# IT WOULD BE GOOD TO ADD A PROGRESS BAR\n",
    "# i think this would require us to time how long it takes for the scripts to execute and use that \n",
    "# as a first estimate. this could be within the runapp itself rather than individual scripts.\n",
    "\n",
    "# E.G. \n",
    "# fpth = r'C:\\engDev\\git_mf\\MF_Toolbox\\dev\\mf_modules\\progress_bar.py'\n",
    "# %run $fpth\n",
    "\n",
    "configs = [di,di,di]\n",
    "r = RunApps(configs)  \n",
    "r"
   ]
  },
  {
   "cell_type": "code",
   "execution_count": null,
   "metadata": {},
   "outputs": [],
   "source": []
  },
  {
   "cell_type": "code",
   "execution_count": null,
   "metadata": {},
   "outputs": [],
   "source": []
  },
  {
   "cell_type": "code",
   "execution_count": null,
   "metadata": {},
   "outputs": [],
   "source": []
  },
  {
   "cell_type": "code",
   "execution_count": null,
   "metadata": {},
   "outputs": [],
   "source": []
  },
  {
   "cell_type": "code",
   "execution_count": null,
   "metadata": {},
   "outputs": [],
   "source": []
  },
  {
   "cell_type": "code",
   "execution_count": null,
   "metadata": {},
   "outputs": [],
   "source": []
  },
  {
   "cell_type": "code",
   "execution_count": null,
   "metadata": {},
   "outputs": [],
   "source": []
  },
  {
   "cell_type": "code",
   "execution_count": 26,
   "metadata": {
    "lines_to_next_cell": 0
   },
   "outputs": [],
   "source": [
    "# option 2: looks better but the outputs appear at the bottom instead of in-line\n",
    "class RunApps_SS():\n",
    "    \n",
    "    def __init__(self,configs):\n",
    "        self.out = widgets.Output()\n",
    "        self.configs = configs\n",
    "        self.li = []\n",
    "        for config in configs:\n",
    "            self.li.append(RunApp(config))\n",
    "        self.display()\n",
    "            \n",
    "    def display(self):\n",
    "        \n",
    "        out = [l.layout for l in self.li]\n",
    "        self.applayout = widgets.VBox(out)\n",
    "        display(self.applayout)\n",
    "        for l in self.li:\n",
    "            display(l.out)\n",
    "\n",
    "di={\n",
    "    'fpth_script':os.path.join(os.environ['mf_root'],r'MF_Toolbox\\dev\\mf_scripts\\eplus_pipework_params.py'),\n",
    "    #'process_name':os.path.basename(os.path.join(os.environ['mf_root'],r'MF_Toolbox\\dev\\mf_scripts\\eplus_pipework_params.py')),\n",
    "    #'fpth_inputs':os.path.join(os.environ['mf_root'],r'MF_Toolbox\\dev\\mf_scripts\\configs\\eplus_pipework_params.csv'),\n",
    "    'fdir':os.path.join(FDIR,'notebooks'),\n",
    "    'fdir_outputs':os.path.join(FDIR,'notebooks')\n",
    "    }  \n",
    "\n",
    "#configs = [di,di,di]\n",
    "#r = RunApps_SS(configs)\n",
    "#r;"
   ]
  },
  {
   "cell_type": "code",
   "execution_count": null,
   "metadata": {
    "lines_to_next_cell": 2
   },
   "outputs": [],
   "source": []
  }
 ],
 "metadata": {
  "jupytext": {
   "formats": "ipynb,py:light"
  },
  "kernelspec": {
   "display_name": "Python [conda env:mf_main] *",
   "language": "python",
   "name": "conda-env-mf_main-py"
  },
  "language_info": {
   "codemirror_mode": {
    "name": "ipython",
    "version": 3
   },
   "file_extension": ".py",
   "mimetype": "text/x-python",
   "name": "python",
   "nbconvert_exporter": "python",
   "pygments_lexer": "ipython3",
   "version": "3.7.7"
  },
  "widgets": {
   "application/vnd.jupyter.widget-state+json": {
    "state": {
     "001ebe8884c64106857870435d058559": {
      "model_module": "@jupyter-widgets/base",
      "model_module_version": "1.2.0",
      "model_name": "LayoutModel",
      "state": {}
     },
     "003aa591127f4417b04eb882c009c3d6": {
      "model_module": "@jupyter-widgets/controls",
      "model_module_version": "1.5.0",
      "model_name": "ButtonStyleModel",
      "state": {
       "font_weight": "bold"
      }
     },
     "009d534d3cf34082acfa141911b6d262": {
      "model_module": "@jupyter-widgets/base",
      "model_module_version": "1.2.0",
      "model_name": "LayoutModel",
      "state": {}
     },
     "01103e6911694eb4811ed764e3c38baf": {
      "model_module": "@jupyter-widgets/controls",
      "model_module_version": "1.5.0",
      "model_name": "ButtonModel",
      "state": {
       "button_style": "info",
       "description": "show guide",
       "layout": "IPY_MODEL_c0048fde27aa4d7da84fcebfd65bb3ad",
       "style": "IPY_MODEL_0edb86484f614da6a2242642f2d5d71e",
       "tooltip": "read the \"docstring\", ie. the documentation that was written to accompany the script"
      }
     },
     "0268b711509646ac8dc8ede6d0e7d7ca": {
      "model_module": "@jupyter-widgets/base",
      "model_module_version": "1.2.0",
      "model_name": "LayoutModel",
      "state": {
       "height": "30px",
       "width": "auto"
      }
     },
     "0283e68458ff4018a57e49c9a3c9aa62": {
      "model_module": "@jupyter-widgets/controls",
      "model_module_version": "1.5.0",
      "model_name": "ButtonModel",
      "state": {
       "button_style": "info",
       "description": "show log",
       "layout": "IPY_MODEL_e093112f998b4af395d5ab55271dcc5b",
       "style": "IPY_MODEL_bd51037f3c034250b0b4d764e6ca4f18",
       "tooltip": "show a log of when the script was executed to generate the outputs, and by who"
      }
     },
     "030641e19bab424a8e4fb24f09f785b8": {
      "model_module": "@jupyter-widgets/base",
      "model_module_version": "1.2.0",
      "model_name": "LayoutModel",
      "state": {
       "align_items": "stretch",
       "width": "100%"
      }
     },
     "0381930e00774ab8948bd8ed098e8cad": {
      "model_module": "@jupyter-widgets/controls",
      "model_module_version": "1.5.0",
      "model_name": "CheckboxModel",
      "state": {
       "disabled": false,
       "indent": false,
       "layout": "IPY_MODEL_dd7cf0081e46485086b9c3c0191dc61e",
       "style": "IPY_MODEL_ae3bde905c0d48de82738c510f49b0ba",
       "value": false
      }
     },
     "03bc4c352dd24185a568aede712271e4": {
      "model_module": "@jupyter-widgets/controls",
      "model_module_version": "1.5.0",
      "model_name": "DescriptionStyleModel",
      "state": {
       "description_width": ""
      }
     },
     "03eb111b161c44c8acdafe2670d4a63d": {
      "model_module": "@jupyter-widgets/base",
      "model_module_version": "1.2.0",
      "model_name": "LayoutModel",
      "state": {}
     },
     "04c8e76a40904f9cb5f9c55c1ab5020f": {
      "model_module": "@jupyter-widgets/base",
      "model_module_version": "1.2.0",
      "model_name": "LayoutModel",
      "state": {
       "width": "5%"
      }
     },
     "05534f54dee043c7a0e6e10525d4c8f0": {
      "model_module": "@jupyter-widgets/base",
      "model_module_version": "1.2.0",
      "model_name": "LayoutModel",
      "state": {}
     },
     "0577ac71cc5341a29f8b3c3fa2e297ee": {
      "model_module": "@jupyter-widgets/base",
      "model_module_version": "1.2.0",
      "model_name": "LayoutModel",
      "state": {
       "height": "30px",
       "width": "auto"
      }
     },
     "06c711ef73654bf88992c4cb846fa0e0": {
      "model_module": "@jupyter-widgets/controls",
      "model_module_version": "1.5.0",
      "model_name": "ButtonModel",
      "state": {
       "button_style": "info",
       "description": "preview outputs",
       "layout": "IPY_MODEL_009d534d3cf34082acfa141911b6d262",
       "style": "IPY_MODEL_636dd777821f422a843e14a5e91d8299",
       "tooltip": "show a preview of the output files generated when the script runs"
      }
     },
     "07544935593d4498b2fe4dbfab6131d2": {
      "model_module": "@jupyter-widgets/controls",
      "model_module_version": "1.5.0",
      "model_name": "ButtonStyleModel",
      "state": {}
     },
     "076e568c376648259625b66cf60e85be": {
      "model_module": "@jupyter-widgets/base",
      "model_module_version": "1.2.0",
      "model_name": "LayoutModel",
      "state": {
       "height": "30px",
       "max_width": "30px",
       "padding": "3px"
      }
     },
     "079c29ea42334be38bd35e3b5a978f87": {
      "model_module": "@jupyter-widgets/base",
      "model_module_version": "1.2.0",
      "model_name": "LayoutModel",
      "state": {
       "height": "30px",
       "width": "auto"
      }
     },
     "07ffa9f1b1bd4144b592307723aeac86": {
      "model_module": "@jupyter-widgets/base",
      "model_module_version": "1.2.0",
      "model_name": "LayoutModel",
      "state": {
       "width": "100%"
      }
     },
     "0887e058732d4db2970242a2964c8efe": {
      "model_module": "@jupyter-widgets/controls",
      "model_module_version": "1.5.0",
      "model_name": "TextModel",
      "state": {
       "description": "script",
       "disabled": true,
       "layout": "IPY_MODEL_f7d75d96e885451085799e94dc559375",
       "style": "IPY_MODEL_433d52af96324eb5b9f1cba5fc2bcb59",
       "value": "C:\\engDev\\git_mf\\MF_Toolbox\\dev\\mf_scripts\\eplus_pipework_params.py"
      }
     },
     "08996825c32b4e37a799c5165105e4ca": {
      "model_module": "@jupyter-widgets/controls",
      "model_module_version": "1.5.0",
      "model_name": "ButtonStyleModel",
      "state": {}
     },
     "08a9735105f44e1397ba6b4f21203671": {
      "model_module": "@jupyter-widgets/controls",
      "model_module_version": "1.5.0",
      "model_name": "CheckboxModel",
      "state": {
       "disabled": false,
       "indent": false,
       "layout": "IPY_MODEL_7655fe85782a4a91940dea1daae60706",
       "style": "IPY_MODEL_11d2b2ef1ae24df4955cda935351ab9c",
       "value": false
      }
     },
     "0925c48e41484994b686f1dd18a3a1f0": {
      "model_module": "@jupyter-widgets/controls",
      "model_module_version": "1.5.0",
      "model_name": "ButtonStyleModel",
      "state": {
       "font_weight": "bold"
      }
     },
     "094ce201657c4724af9da1d8d6a1f4d5": {
      "model_module": "@jupyter-widgets/controls",
      "model_module_version": "1.5.0",
      "model_name": "ButtonModel",
      "state": {
       "button_style": "success",
       "description": "run",
       "layout": "IPY_MODEL_950c29d1182b46a090058d3d98e495dc",
       "style": "IPY_MODEL_3681f4baa2f54d7eb6f12ae6b7e5dd47",
       "tooltip": "execute the script based on the user inputs"
      }
     },
     "0a5683b142064bffb5b632a03dae4c77": {
      "model_module": "@jupyter-widgets/controls",
      "model_module_version": "1.5.0",
      "model_name": "ButtonModel",
      "state": {
       "icon": "eye-slash",
       "layout": "IPY_MODEL_13b4e53cbc6c464fbd675aa093a8a5ec",
       "style": "IPY_MODEL_0ff71f96c25f45d79fac5ed67926fa66",
       "tooltip": "removes temporary output view"
      }
     },
     "0a901df5c0714cacbf541f95a63eacd8": {
      "model_module": "@jupyter-widgets/base",
      "model_module_version": "1.2.0",
      "model_name": "LayoutModel",
      "state": {}
     },
     "0ae330537bc74491be219ce3641eaa77": {
      "model_module": "@jupyter-widgets/controls",
      "model_module_version": "1.5.0",
      "model_name": "VBoxModel",
      "state": {
       "children": [
        "IPY_MODEL_87330f27d9844809be9add9ead78f896",
        "IPY_MODEL_3e2b7c755804440380d4c5578adbcb7c",
        "IPY_MODEL_d976570a49a04d559d9e9f832e4019f9"
       ],
       "layout": "IPY_MODEL_4ca2a692dab741a68732c5aeab5c5680"
      }
     },
     "0b77adc9e7f0459a847e8278c32a899b": {
      "model_module": "@jupyter-widgets/base",
      "model_module_version": "1.2.0",
      "model_name": "LayoutModel",
      "state": {}
     },
     "0bc632171f8445afb05a1fc138ae9696": {
      "model_module": "@jupyter-widgets/controls",
      "model_module_version": "1.5.0",
      "model_name": "ButtonStyleModel",
      "state": {}
     },
     "0c0fba908ba3481186e4dee574a1eb20": {
      "model_module": "@jupyter-widgets/controls",
      "model_module_version": "1.5.0",
      "model_name": "VBoxModel",
      "state": {
       "children": [
        "IPY_MODEL_52fb5498328a45e288f42e721609b5de",
        "IPY_MODEL_4afee0c73b884f3d88c48d2685c9d70f",
        "IPY_MODEL_a4be6b4aace44ebeb60b794e4b1e1408"
       ],
       "layout": "IPY_MODEL_8f38c5173d6b4f559e1e0a54c100cf57"
      }
     },
     "0c38172b1cda4bb495d208d6073f6708": {
      "model_module": "@jupyter-widgets/controls",
      "model_module_version": "1.5.0",
      "model_name": "ButtonModel",
      "state": {
       "button_style": "info",
       "description": "show source code",
       "layout": "IPY_MODEL_46e92bf221cf47a1b5470bc37b98a5a1",
       "style": "IPY_MODEL_0bc632171f8445afb05a1fc138ae9696",
       "tooltip": "shows the raw python code in the preview window below"
      }
     },
     "0c3a93f7a58d49838de5aa5b7b5c0924": {
      "model_module": "@jupyter-widgets/controls",
      "model_module_version": "1.5.0",
      "model_name": "ButtonModel",
      "state": {
       "button_style": "info",
       "description": "preview outputs",
       "layout": "IPY_MODEL_b80f1140240549289aa80c85fc9237ee",
       "style": "IPY_MODEL_b96bd6a9b9244032b80f187a6637d030",
       "tooltip": "show a preview of the output files generated when the script runs"
      }
     },
     "0d354d79ab1e485aa90d1f5a0952ea32": {
      "model_module": "@jupyter-widgets/controls",
      "model_module_version": "1.5.0",
      "model_name": "ButtonStyleModel",
      "state": {}
     },
     "0edb86484f614da6a2242642f2d5d71e": {
      "model_module": "@jupyter-widgets/controls",
      "model_module_version": "1.5.0",
      "model_name": "ButtonStyleModel",
      "state": {
       "font_weight": "bold"
      }
     },
     "0f13f85d3add48c7aad5bef0244c4c46": {
      "model_module": "@jupyter-widgets/controls",
      "model_module_version": "1.5.0",
      "model_name": "ButtonModel",
      "state": {
       "icon": "question-circle",
       "layout": "IPY_MODEL_b931a5237aa444d48a3514f3edaef8a1",
       "style": "IPY_MODEL_fafddce69dcc464886394b1958092e74",
       "tooltip": "describes the functionality of elements in the RunApp interface"
      }
     },
     "0f2b35b845c5422bb47420545eb2bd13": {
      "model_module": "@jupyter-widgets/controls",
      "model_module_version": "1.5.0",
      "model_name": "DescriptionStyleModel",
      "state": {
       "description_width": ""
      }
     },
     "0ff71f96c25f45d79fac5ed67926fa66": {
      "model_module": "@jupyter-widgets/controls",
      "model_module_version": "1.5.0",
      "model_name": "ButtonStyleModel",
      "state": {
       "font_weight": "bold"
      }
     },
     "106f08bbbcf0409186d86afe22c3e0fd": {
      "model_module": "@jupyter-widgets/controls",
      "model_module_version": "1.5.0",
      "model_name": "ButtonModel",
      "state": {
       "button_style": "success",
       "description": "run",
       "layout": "IPY_MODEL_0b77adc9e7f0459a847e8278c32a899b",
       "style": "IPY_MODEL_7624aefefb6347bc9b274f94cfe8e454",
       "tooltip": "execute the script based on the user inputs"
      }
     },
     "11d2b2ef1ae24df4955cda935351ab9c": {
      "model_module": "@jupyter-widgets/controls",
      "model_module_version": "1.5.0",
      "model_name": "DescriptionStyleModel",
      "state": {
       "description_width": ""
      }
     },
     "1225281e6f9b41b0ac411adba59ead56": {
      "model_module": "@jupyter-widgets/controls",
      "model_module_version": "1.5.0",
      "model_name": "DescriptionStyleModel",
      "state": {
       "description_width": ""
      }
     },
     "138e942be9624588893ce39fe5967293": {
      "model_module": "@jupyter-widgets/base",
      "model_module_version": "1.2.0",
      "model_name": "LayoutModel",
      "state": {}
     },
     "13b4e53cbc6c464fbd675aa093a8a5ec": {
      "model_module": "@jupyter-widgets/base",
      "model_module_version": "1.2.0",
      "model_name": "LayoutModel",
      "state": {
       "width": "5%"
      }
     },
     "14e8deff890049348c85f48350d17667": {
      "model_module": "@jupyter-widgets/base",
      "model_module_version": "1.2.0",
      "model_name": "LayoutModel",
      "state": {
       "width": "100%"
      }
     },
     "165cc15a19f8422c9a4d724d548099d2": {
      "model_module": "@jupyter-widgets/controls",
      "model_module_version": "1.5.0",
      "model_name": "ButtonModel",
      "state": {
       "button_style": "info",
       "description": "show source code",
       "layout": "IPY_MODEL_dbdaf33ad04d4c62918e2d4076127f40",
       "style": "IPY_MODEL_2dae90f0ff3b4ae98cef700306e3c6f4",
       "tooltip": "shows the raw python code in the preview window below"
      }
     },
     "166ea4b416ac4c058161d7946cd0f583": {
      "model_module": "@jupyter-widgets/base",
      "model_module_version": "1.2.0",
      "model_name": "LayoutModel",
      "state": {
       "width": "5%"
      }
     },
     "171f33c952654e7a85019baf7df8b65e": {
      "model_module": "@jupyter-widgets/base",
      "model_module_version": "1.2.0",
      "model_name": "LayoutModel",
      "state": {
       "height": "30px",
       "width": "auto"
      }
     },
     "17372d44efa4479197a650a59a6cc998": {
      "model_module": "@jupyter-widgets/base",
      "model_module_version": "1.2.0",
      "model_name": "LayoutModel",
      "state": {}
     },
     "17cda547260e4d7599005f0f2bc6e085": {
      "model_module": "@jupyter-widgets/base",
      "model_module_version": "1.2.0",
      "model_name": "LayoutModel",
      "state": {
       "align_items": "stretch",
       "width": "100%"
      }
     },
     "17fe42d2f5ba4e27b668e40495e77bda": {
      "model_module": "@jupyter-widgets/base",
      "model_module_version": "1.2.0",
      "model_name": "LayoutModel",
      "state": {}
     },
     "184445fcb9054d4d9ccff815c7324ac1": {
      "model_module": "@jupyter-widgets/base",
      "model_module_version": "1.2.0",
      "model_name": "LayoutModel",
      "state": {
       "height": "30px",
       "width": "auto"
      }
     },
     "18ec9bd1791c4b54a75fd3a5e059918d": {
      "model_module": "@jupyter-widgets/controls",
      "model_module_version": "1.5.0",
      "model_name": "ButtonModel",
      "state": {
       "button_style": "info",
       "description": "preview outputs",
       "layout": "IPY_MODEL_d491f01ed90947acbc25d7d4db73651a",
       "style": "IPY_MODEL_90d43414fcfe4b2088b18a8f3fc0c0f2",
       "tooltip": "show a preview of the output files generated when the script runs"
      }
     },
     "19bd5024b7bf42a6bc109f6ca8a30b3a": {
      "model_module": "@jupyter-widgets/controls",
      "model_module_version": "1.5.0",
      "model_name": "DescriptionStyleModel",
      "state": {
       "description_width": ""
      }
     },
     "1aa8b8ea1cc0482fb7676fc3e970d6b4": {
      "model_module": "@jupyter-widgets/controls",
      "model_module_version": "1.5.0",
      "model_name": "ButtonModel",
      "state": {
       "icon": "eye-slash",
       "layout": "IPY_MODEL_d596a57941f4410f95e8229ce1807904",
       "style": "IPY_MODEL_8c51c9073a9f443aba899d2e1020b64f",
       "tooltip": "removes temporary output view"
      }
     },
     "1ac0083079fd43b6b2041ae857ee5109": {
      "model_module": "@jupyter-widgets/controls",
      "model_module_version": "1.5.0",
      "model_name": "TextModel",
      "state": {
       "description": "inputs",
       "disabled": true,
       "layout": "IPY_MODEL_f297ec493ae84f25b76c117680de6d69",
       "style": "IPY_MODEL_febb085de7e64bcca0a3ea1387f3a2c1",
       "value": "C:\\engDev\\git_mf\\ipyrun\\ipyrun\\appdata\\inputs\\inputs-eplus_pipework_params.csv"
      }
     },
     "1ad96f35996c449eae0d9d64cb711358": {
      "model_module": "@jupyter-widgets/base",
      "model_module_version": "1.2.0",
      "model_name": "LayoutModel",
      "state": {
       "height": "30px",
       "width": "auto"
      }
     },
     "1b565c46b8204222b223891331936029": {
      "model_module": "@jupyter-widgets/base",
      "model_module_version": "1.2.0",
      "model_name": "LayoutModel",
      "state": {
       "align_items": "stretch",
       "width": "100%"
      }
     },
     "1b937e17243d4904b20fc8d01b29aaf6": {
      "model_module": "@jupyter-widgets/base",
      "model_module_version": "1.2.0",
      "model_name": "LayoutModel",
      "state": {
       "height": "30px",
       "width": "auto"
      }
     },
     "1d3c72a097024f2f96f161704358d14b": {
      "model_module": "@jupyter-widgets/controls",
      "model_module_version": "1.5.0",
      "model_name": "ButtonModel",
      "state": {
       "button_style": "info",
       "description": "show source code",
       "layout": "IPY_MODEL_eb8e113c69a543e591a55d8a0cb437f0",
       "style": "IPY_MODEL_63ed40e4309e4b7dbe09afde4e19f61c",
       "tooltip": "shows the raw python code in the preview window below"
      }
     },
     "1e1b440e814e4698a8d757968757fd37": {
      "model_module": "@jupyter-widgets/controls",
      "model_module_version": "1.5.0",
      "model_name": "ButtonStyleModel",
      "state": {
       "font_weight": "bold"
      }
     },
     "1f8c861c41784ec0aa80e5f59cb73006": {
      "model_module": "@jupyter-widgets/controls",
      "model_module_version": "1.5.0",
      "model_name": "ButtonStyleModel",
      "state": {
       "font_weight": "bold"
      }
     },
     "1f90ca50ce0f4f89bffff2867f2c7219": {
      "model_module": "@jupyter-widgets/base",
      "model_module_version": "1.2.0",
      "model_name": "LayoutModel",
      "state": {
       "height": "30px",
       "width": "auto"
      }
     },
     "211a7db2374b4d99bb8cfb15276a62c7": {
      "model_module": "@jupyter-widgets/base",
      "model_module_version": "1.2.0",
      "model_name": "LayoutModel",
      "state": {
       "align_items": "stretch",
       "width": "100%"
      }
     },
     "22173e74ded747a691efa0252059b0eb": {
      "model_module": "@jupyter-widgets/controls",
      "model_module_version": "1.5.0",
      "model_name": "ButtonModel",
      "state": {
       "button_style": "warning",
       "description": "edit inputs",
       "layout": "IPY_MODEL_bc2cc31da1a944a4a1b11af38c3c4aa2",
       "style": "IPY_MODEL_52619d37af514f608efe2f859e3eb03c",
       "tooltip": "edit the user input information that is used when the script is executed"
      }
     },
     "2382055f7fa943d7bb9c36d1eafda454": {
      "model_module": "@jupyter-widgets/base",
      "model_module_version": "1.2.0",
      "model_name": "LayoutModel",
      "state": {
       "height": "30px",
       "width": "auto"
      }
     },
     "2393be453ce44bc68c68f799f5df53ec": {
      "model_module": "@jupyter-widgets/controls",
      "model_module_version": "1.5.0",
      "model_name": "HBoxModel",
      "state": {
       "children": [
        "IPY_MODEL_464777d7f1774f27b30dc3353c843afa",
        "IPY_MODEL_ce357d1b8d554350b8128f2178a6829f"
       ],
       "layout": "IPY_MODEL_65cfd475eab849db85f9b424fc816938"
      }
     },
     "2427e37628434c8e8b0241fa6ddd6f9c": {
      "model_module": "@jupyter-widgets/controls",
      "model_module_version": "1.5.0",
      "model_name": "CheckboxModel",
      "state": {
       "disabled": false,
       "indent": false,
       "layout": "IPY_MODEL_7bfba100ec054f65870522f2177ce6f0",
       "style": "IPY_MODEL_fc51710e56114582ad556e34502282c4",
       "value": false
      }
     },
     "2455a0ac6395453eb37a9dd21b6c4b0d": {
      "model_module": "@jupyter-widgets/controls",
      "model_module_version": "1.5.0",
      "model_name": "ButtonStyleModel",
      "state": {
       "font_weight": "bold"
      }
     },
     "24767cf716e24584b257dac2689e6149": {
      "model_module": "@jupyter-widgets/base",
      "model_module_version": "1.2.0",
      "model_name": "LayoutModel",
      "state": {
       "height": "30px",
       "width": "auto"
      }
     },
     "250627fec74840f385d11550221f090f": {
      "model_module": "@jupyter-widgets/controls",
      "model_module_version": "1.5.0",
      "model_name": "DescriptionStyleModel",
      "state": {
       "description_width": ""
      }
     },
     "259c10e82d0a4dfb804b6dab3ea51061": {
      "model_module": "@jupyter-widgets/controls",
      "model_module_version": "1.5.0",
      "model_name": "DescriptionStyleModel",
      "state": {
       "description_width": ""
      }
     },
     "26d5a0689e694903b87da81dff4b6c70": {
      "model_module": "@jupyter-widgets/base",
      "model_module_version": "1.2.0",
      "model_name": "LayoutModel",
      "state": {
       "align_items": "stretch",
       "width": "100%"
      }
     },
     "274cf1fff03c4e82b69cc5d528346731": {
      "model_module": "@jupyter-widgets/controls",
      "model_module_version": "1.5.0",
      "model_name": "ButtonStyleModel",
      "state": {
       "font_weight": "bold"
      }
     },
     "27543fb7783646caa33f4dc54ab65d73": {
      "model_module": "@jupyter-widgets/base",
      "model_module_version": "1.2.0",
      "model_name": "LayoutModel",
      "state": {
       "align_items": "stretch",
       "width": "100%"
      }
     },
     "27de6dfe9b564538acfacf1cc04f27eb": {
      "model_module": "@jupyter-widgets/base",
      "model_module_version": "1.2.0",
      "model_name": "LayoutModel",
      "state": {
       "align_items": "stretch",
       "width": "100%"
      }
     },
     "2870de267d3e4e6a84e87ab10f1c6372": {
      "model_module": "@jupyter-widgets/controls",
      "model_module_version": "1.5.0",
      "model_name": "TextModel",
      "state": {
       "description": "inputs",
       "disabled": true,
       "layout": "IPY_MODEL_3a091a9479e3492cb5b43dd38d1c09d9",
       "style": "IPY_MODEL_3f6ee0b34dd546608be056e2c422524e",
       "value": "C:\\engDev\\git_mf\\ipyrun\\ipyrun\\appdata\\inputs\\inputs-eplus_pipework_params.csv"
      }
     },
     "287179c52a764f10b926216337d4ba0f": {
      "model_module": "@jupyter-widgets/controls",
      "model_module_version": "1.5.0",
      "model_name": "ButtonModel",
      "state": {
       "button_style": "warning",
       "description": "edit inputs",
       "layout": "IPY_MODEL_621c8693760e4e1d9bf5e5dc32e46fe9",
       "style": "IPY_MODEL_627811c23ced4668a135c674908432e0",
       "tooltip": "edit the user input information that is used when the script is executed"
      }
     },
     "28ed8a7f8d904c3389036531730dd5e3": {
      "model_module": "@jupyter-widgets/controls",
      "model_module_version": "1.5.0",
      "model_name": "VBoxModel",
      "state": {
       "children": [
        "IPY_MODEL_f352fc7116084f41940621f3e67a0145",
        "IPY_MODEL_c7925cb8c55d4df19c214d4dbc428434",
        "IPY_MODEL_dba84213206f4eb2878903702ce907a5"
       ],
       "layout": "IPY_MODEL_e78481d395474dfdb2659a65eef2357f"
      }
     },
     "29c5d42d7c0844fbb9dccaf270a5ce3c": {
      "model_module": "@jupyter-widgets/controls",
      "model_module_version": "1.5.0",
      "model_name": "HBoxModel",
      "state": {
       "children": [
        "IPY_MODEL_5193c6dad8954457ac6b607ae298c0d9",
        "IPY_MODEL_844b64f7fcd54e4cac6f9b08bbefd063",
        "IPY_MODEL_df6de06c75474a8987234329648f8ae1",
        "IPY_MODEL_22173e74ded747a691efa0252059b0eb",
        "IPY_MODEL_7121a30066f6426385fc65cda2d01a7f",
        "IPY_MODEL_7fde3430a46245b3871fec7e8016c1ed",
        "IPY_MODEL_5e4040446a47482fa2d87f8e5f3cbb29"
       ],
       "layout": "IPY_MODEL_4b04f0c3416c4a08bdb9c4365ae27f5a"
      }
     },
     "29fec02247e44012af6e62e15dc99180": {
      "model_module": "@jupyter-widgets/controls",
      "model_module_version": "1.5.0",
      "model_name": "ButtonModel",
      "state": {
       "icon": "question-circle",
       "layout": "IPY_MODEL_af0d1d59904a485abd0fe5b7b1372e0c",
       "style": "IPY_MODEL_c92ccca8c6dc441392beaa07180a06de",
       "tooltip": "describes the functionality of elements in the RunApp interface"
      }
     },
     "2a46488e9ba44797b953f00b43f4e29f": {
      "model_module": "@jupyter-widgets/controls",
      "model_module_version": "1.5.0",
      "model_name": "VBoxModel",
      "state": {
       "children": [
        "IPY_MODEL_a314bb721c1b4dd8a7a511a8f6b039bb",
        "IPY_MODEL_8b8c72d140894cfeb48ff27b49517612"
       ],
       "layout": "IPY_MODEL_f6b47c0459e94d93a95239e8e4d9b1ce"
      }
     },
     "2ad81457c5344a1bbe1b64658325f5b1": {
      "model_module": "@jupyter-widgets/base",
      "model_module_version": "1.2.0",
      "model_name": "LayoutModel",
      "state": {
       "width": "5%"
      }
     },
     "2c709baf24374590839c8b997dbeb189": {
      "model_module": "@jupyter-widgets/base",
      "model_module_version": "1.2.0",
      "model_name": "LayoutModel",
      "state": {
       "border": "0px",
       "margin": "0px",
       "padding": "0px"
      }
     },
     "2cabb805d65f48cca7a54569a3e46f2c": {
      "model_module": "@jupyter-widgets/base",
      "model_module_version": "1.2.0",
      "model_name": "LayoutModel",
      "state": {}
     },
     "2ccd09092a594aef9f2f574e0563d753": {
      "model_module": "@jupyter-widgets/base",
      "model_module_version": "1.2.0",
      "model_name": "LayoutModel",
      "state": {}
     },
     "2ccffcb25e2046d18634a9f088f27a94": {
      "model_module": "@jupyter-widgets/controls",
      "model_module_version": "1.5.0",
      "model_name": "ButtonStyleModel",
      "state": {
       "font_weight": "bold"
      }
     },
     "2dae90f0ff3b4ae98cef700306e3c6f4": {
      "model_module": "@jupyter-widgets/controls",
      "model_module_version": "1.5.0",
      "model_name": "ButtonStyleModel",
      "state": {}
     },
     "2e0454eca6cf4835a1c0b6fa410d3e2f": {
      "model_module": "@jupyter-widgets/controls",
      "model_module_version": "1.5.0",
      "model_name": "ButtonModel",
      "state": {
       "button_style": "warning",
       "description": "edit inputs",
       "layout": "IPY_MODEL_8ebbf5c6aded42c1945478e1254893ac",
       "style": "IPY_MODEL_b21d5e68f6924e2aab8128e9738a03b5",
       "tooltip": "edit the user input information that is used when the script is executed"
      }
     },
     "2f3384d1c5994760b606987065bca4a0": {
      "model_module": "@jupyter-widgets/controls",
      "model_module_version": "1.5.0",
      "model_name": "ButtonStyleModel",
      "state": {
       "font_weight": "bold"
      }
     },
     "304242b137094b1c91fd280e76f47e3a": {
      "model_module": "@jupyter-widgets/output",
      "model_module_version": "1.0.0",
      "model_name": "OutputModel",
      "state": {
       "layout": "IPY_MODEL_138e942be9624588893ce39fe5967293"
      }
     },
     "30c3d247cd7542ccb3acdc772cb4b9d5": {
      "model_module": "@jupyter-widgets/controls",
      "model_module_version": "1.5.0",
      "model_name": "ButtonStyleModel",
      "state": {
       "font_weight": "bold"
      }
     },
     "31b636514fb64855b8cf43b08efa9ef5": {
      "model_module": "@jupyter-widgets/base",
      "model_module_version": "1.2.0",
      "model_name": "LayoutModel",
      "state": {}
     },
     "322c3f8fb7b849318a5f6927e9d4fba2": {
      "model_module": "@jupyter-widgets/controls",
      "model_module_version": "1.5.0",
      "model_name": "ButtonModel",
      "state": {
       "icon": "eye-slash",
       "layout": "IPY_MODEL_93531a48835b451ebf90d2c1bfb7d87d",
       "style": "IPY_MODEL_651c2f8228fb46b5931cec11f013e6e3",
       "tooltip": "removes temporary output view"
      }
     },
     "328dba72f3ca42858d1673bb40ef0397": {
      "model_module": "@jupyter-widgets/controls",
      "model_module_version": "1.5.0",
      "model_name": "DescriptionStyleModel",
      "state": {
       "description_width": ""
      }
     },
     "329c044a05904d1ebc0786fc496e502f": {
      "model_module": "@jupyter-widgets/controls",
      "model_module_version": "1.5.0",
      "model_name": "HBoxModel",
      "state": {
       "children": [
        "IPY_MODEL_ed315d54138441db9f3e77a0fc42b6e1",
        "IPY_MODEL_397e1057e60d42ac879e01a72b69f6b8",
        "IPY_MODEL_01103e6911694eb4811ed764e3c38baf",
        "IPY_MODEL_e5b455682f0f4e668aded689dd9e9fa2",
        "IPY_MODEL_76645a8a7af242be8fd0d232a2acb995",
        "IPY_MODEL_9bb25c82f7f54b939c4f02430cfe6ba5",
        "IPY_MODEL_b8de7ae952874081bacd7371e5bd85e6"
       ],
       "layout": "IPY_MODEL_ba5baeadeff94a1e9625e99e479805f9"
      }
     },
     "32b35548605a46cf82d540359185e7fa": {
      "model_module": "@jupyter-widgets/controls",
      "model_module_version": "1.5.0",
      "model_name": "CheckboxModel",
      "state": {
       "disabled": false,
       "indent": false,
       "layout": "IPY_MODEL_fc61a2bae68d45f6a8a8ee56bebb8ee4",
       "style": "IPY_MODEL_b155839070c1451abbfec917a97982b5",
       "value": false
      }
     },
     "33e0cf02717a4c36be714c5412731542": {
      "model_module": "@jupyter-widgets/base",
      "model_module_version": "1.2.0",
      "model_name": "LayoutModel",
      "state": {}
     },
     "34487328e09f4526aac8f295339caa15": {
      "model_module": "@jupyter-widgets/controls",
      "model_module_version": "1.5.0",
      "model_name": "VBoxModel",
      "state": {
       "children": [
        "IPY_MODEL_41e3b4f0989a4a109b019f91b6f4050c",
        "IPY_MODEL_0ae330537bc74491be219ce3641eaa77"
       ],
       "layout": "IPY_MODEL_440af715d72b468bb6b211d2f3b8abaf"
      }
     },
     "353fb0b3ba914503be94a7ea2dbf87f8": {
      "model_module": "@jupyter-widgets/controls",
      "model_module_version": "1.5.0",
      "model_name": "DescriptionStyleModel",
      "state": {
       "description_width": ""
      }
     },
     "3582dd34f0644aa0b5aa069c309b801b": {
      "model_module": "@jupyter-widgets/base",
      "model_module_version": "1.2.0",
      "model_name": "LayoutModel",
      "state": {}
     },
     "36079f808dd044aa9d42942d7308296b": {
      "model_module": "@jupyter-widgets/controls",
      "model_module_version": "1.5.0",
      "model_name": "AccordionModel",
      "state": {
       "_titles": {
        "0": "eplus_pipework_params"
       },
       "children": [
        "IPY_MODEL_34487328e09f4526aac8f295339caa15"
       ],
       "layout": "IPY_MODEL_8cf2056b8fd6464e913efd00b7ac9f50"
      }
     },
     "3681f4baa2f54d7eb6f12ae6b7e5dd47": {
      "model_module": "@jupyter-widgets/controls",
      "model_module_version": "1.5.0",
      "model_name": "ButtonStyleModel",
      "state": {
       "font_weight": "bold"
      }
     },
     "375a6120ad5540788f95b7aa2b4c17e7": {
      "model_module": "@jupyter-widgets/base",
      "model_module_version": "1.2.0",
      "model_name": "LayoutModel",
      "state": {}
     },
     "3781f8d701fd40eeab011dc7b5846361": {
      "model_module": "@jupyter-widgets/controls",
      "model_module_version": "1.5.0",
      "model_name": "ButtonModel",
      "state": {
       "button_style": "info",
       "description": "show log",
       "layout": "IPY_MODEL_6eb9ec6f0dac4c03af588ce5cd10517f",
       "style": "IPY_MODEL_71e228c4847d4d3280668649e817a566",
       "tooltip": "show a log of when the script was executed to generate the outputs, and by who"
      }
     },
     "37dcb9efec6c448d9c922c565f7b454f": {
      "model_module": "@jupyter-widgets/base",
      "model_module_version": "1.2.0",
      "model_name": "LayoutModel",
      "state": {
       "height": "30px",
       "width": "auto"
      }
     },
     "37ee61aec4114982a3622dfc02a3fc70": {
      "model_module": "@jupyter-widgets/controls",
      "model_module_version": "1.5.0",
      "model_name": "AccordionModel",
      "state": {
       "_titles": {
        "0": "eplus_pipework_params"
       },
       "children": [
        "IPY_MODEL_82e6d4030dc849f3af9b7da95654d897"
       ],
       "layout": "IPY_MODEL_07ffa9f1b1bd4144b592307723aeac86"
      }
     },
     "38079e7078454696b40e8e526ae7ddb9": {
      "model_module": "@jupyter-widgets/base",
      "model_module_version": "1.2.0",
      "model_name": "LayoutModel",
      "state": {}
     },
     "38e5f72b0a6444b982aeaca016a01f4d": {
      "model_module": "@jupyter-widgets/controls",
      "model_module_version": "1.5.0",
      "model_name": "DescriptionStyleModel",
      "state": {
       "description_width": ""
      }
     },
     "397e1057e60d42ac879e01a72b69f6b8": {
      "model_module": "@jupyter-widgets/controls",
      "model_module_version": "1.5.0",
      "model_name": "ButtonModel",
      "state": {
       "icon": "question-circle",
       "layout": "IPY_MODEL_4ec780b5503a47118cfe16a7d07cd982",
       "style": "IPY_MODEL_dc4c0d1a615f415aa60d2f5c6554a83f",
       "tooltip": "describes the functionality of elements in the RunApp interface"
      }
     },
     "398b24234b7a4a0896956822093bae0a": {
      "model_module": "@jupyter-widgets/base",
      "model_module_version": "1.2.0",
      "model_name": "LayoutModel",
      "state": {
       "height": "30px",
       "max_width": "30px",
       "padding": "3px"
      }
     },
     "39a3eedda2614d159ded4be6dac00148": {
      "model_module": "@jupyter-widgets/base",
      "model_module_version": "1.2.0",
      "model_name": "LayoutModel",
      "state": {
       "width": "5%"
      }
     },
     "39a6e1905978432088e58ec02bc718b8": {
      "model_module": "@jupyter-widgets/controls",
      "model_module_version": "1.5.0",
      "model_name": "DescriptionStyleModel",
      "state": {
       "description_width": ""
      }
     },
     "3a091a9479e3492cb5b43dd38d1c09d9": {
      "model_module": "@jupyter-widgets/base",
      "model_module_version": "1.2.0",
      "model_name": "LayoutModel",
      "state": {
       "height": "30px",
       "width": "auto"
      }
     },
     "3a80deb31a424bf2939d82de139d5939": {
      "model_module": "@jupyter-widgets/controls",
      "model_module_version": "1.5.0",
      "model_name": "ButtonStyleModel",
      "state": {
       "font_weight": "bold"
      }
     },
     "3b265b0224af400ab8657205f9b68628": {
      "model_module": "@jupyter-widgets/controls",
      "model_module_version": "1.5.0",
      "model_name": "HBoxModel",
      "state": {
       "children": [
        "IPY_MODEL_66ffb15c737f480cbf71577a435ac760",
        "IPY_MODEL_aa71414b7de3484d8ff2d1c7b2f4a6e1"
       ],
       "layout": "IPY_MODEL_7764a572a5b14db9af1aef4dc2652aea"
      }
     },
     "3c10ed8c1dcd4b90934dbd1443395ec7": {
      "model_module": "@jupyter-widgets/controls",
      "model_module_version": "1.5.0",
      "model_name": "TextModel",
      "state": {
       "description": "inputs",
       "disabled": true,
       "layout": "IPY_MODEL_8f42fd779367469a96b16f520f3813ec",
       "style": "IPY_MODEL_8a8ee1f10ccf4d138b8f9d496fdc0f95",
       "value": "C:\\engDev\\git_mf\\ipyrun\\ipyrun\\appdata\\inputs\\inputs-eplus_pipework_params.csv"
      }
     },
     "3c7b2f861e2b4131a184ea9fe659264a": {
      "model_module": "@jupyter-widgets/base",
      "model_module_version": "1.2.0",
      "model_name": "LayoutModel",
      "state": {}
     },
     "3c8b522349c848f684852428d2ab3f02": {
      "model_module": "@jupyter-widgets/controls",
      "model_module_version": "1.5.0",
      "model_name": "ButtonModel",
      "state": {
       "button_style": "info",
       "description": "show guide",
       "layout": "IPY_MODEL_f0f6f023e6be4af1b8bfb6cd9cb6981d",
       "style": "IPY_MODEL_6c1093f9643c4d429a5375c5c34cfec9",
       "tooltip": "read the \"docstring\", ie. the documentation that was written to accompany the script"
      }
     },
     "3d99b9c89c5648ec8349eacd8207af84": {
      "model_module": "@jupyter-widgets/base",
      "model_module_version": "1.2.0",
      "model_name": "LayoutModel",
      "state": {}
     },
     "3e234766bcdc40009291492b9fde6801": {
      "model_module": "@jupyter-widgets/base",
      "model_module_version": "1.2.0",
      "model_name": "LayoutModel",
      "state": {
       "align_items": "stretch",
       "width": "100%"
      }
     },
     "3e2b7c755804440380d4c5578adbcb7c": {
      "model_module": "@jupyter-widgets/controls",
      "model_module_version": "1.5.0",
      "model_name": "TextModel",
      "state": {
       "description": "script",
       "disabled": true,
       "layout": "IPY_MODEL_f6d3af5f605047eab34b3440a8b6fa1d",
       "style": "IPY_MODEL_e6ee3797aa684f4b892c68b91fc151d4",
       "value": "C:\\engDev\\git_mf\\MF_Toolbox\\dev\\mf_scripts\\eplus_pipework_params.py"
      }
     },
     "3ebd8d48ea0149c9b45af393b8e3690c": {
      "model_module": "@jupyter-widgets/controls",
      "model_module_version": "1.5.0",
      "model_name": "TextModel",
      "state": {
       "description": "script",
       "disabled": true,
       "layout": "IPY_MODEL_37dcb9efec6c448d9c922c565f7b454f",
       "style": "IPY_MODEL_4c07c3e4632847629c70c649813476b8",
       "value": "C:\\engDev\\git_mf\\MF_Toolbox\\dev\\mf_scripts\\eplus_pipework_params.py"
      }
     },
     "3f57743708a345db935eb1861834d1cb": {
      "model_module": "@jupyter-widgets/controls",
      "model_module_version": "1.5.0",
      "model_name": "ButtonModel",
      "state": {
       "button_style": "success",
       "description": "run",
       "layout": "IPY_MODEL_6ebabd51fb0848f7884c58c933b8ce43",
       "style": "IPY_MODEL_da2627b186564668bb57cc53f93bfebc",
       "tooltip": "execute the script based on the user inputs"
      }
     },
     "3f6ee0b34dd546608be056e2c422524e": {
      "model_module": "@jupyter-widgets/controls",
      "model_module_version": "1.5.0",
      "model_name": "DescriptionStyleModel",
      "state": {
       "description_width": ""
      }
     },
     "40116d53e72946c2946b25cb7f12c71e": {
      "model_module": "@jupyter-widgets/base",
      "model_module_version": "1.2.0",
      "model_name": "LayoutModel",
      "state": {
       "height": "30px",
       "width": "auto"
      }
     },
     "4116704f55924f63adbcd65219e0dff4": {
      "model_module": "@jupyter-widgets/controls",
      "model_module_version": "1.5.0",
      "model_name": "VBoxModel",
      "state": {
       "children": [
        "IPY_MODEL_e4c5c60191dc48219e07d1cd476a23d3",
        "IPY_MODEL_0887e058732d4db2970242a2964c8efe",
        "IPY_MODEL_9ca62f008e14456e94e32204335883d8"
       ],
       "layout": "IPY_MODEL_211a7db2374b4d99bb8cfb15276a62c7"
      }
     },
     "41234046bc0d4e6ba6c055155d99713b": {
      "model_module": "@jupyter-widgets/controls",
      "model_module_version": "1.5.0",
      "model_name": "ButtonStyleModel",
      "state": {
       "font_weight": "bold"
      }
     },
     "415108b08a924980b5e4295d34d50ebc": {
      "model_module": "@jupyter-widgets/base",
      "model_module_version": "1.2.0",
      "model_name": "LayoutModel",
      "state": {
       "width": "5%"
      }
     },
     "41b57553efa847bb842523ed770935b4": {
      "model_module": "@jupyter-widgets/controls",
      "model_module_version": "1.5.0",
      "model_name": "ButtonStyleModel",
      "state": {
       "font_weight": "bold"
      }
     },
     "41d6eba36bfd49a1b24566ee575b91a5": {
      "model_module": "@jupyter-widgets/controls",
      "model_module_version": "1.5.0",
      "model_name": "TextModel",
      "state": {
       "description": "inputs",
       "disabled": true,
       "layout": "IPY_MODEL_5fb0b6b36deb487eafa9cb0580a697ff",
       "style": "IPY_MODEL_a930e62f0df4405ebc7bf65c1f3830a8",
       "value": "C:\\engDev\\git_mf\\ipyrun\\ipyrun\\appdata\\inputs\\inputs-eplus_pipework_params.csv"
      }
     },
     "41e3b4f0989a4a109b019f91b6f4050c": {
      "model_module": "@jupyter-widgets/controls",
      "model_module_version": "1.5.0",
      "model_name": "BoxModel",
      "state": {
       "children": [
        "IPY_MODEL_329c044a05904d1ebc0786fc496e502f"
       ],
       "layout": "IPY_MODEL_5fbb15b3a751482490b7f087a6ce81b8"
      }
     },
     "4241205778a34f7db87cdf01162ff6a9": {
      "model_module": "@jupyter-widgets/controls",
      "model_module_version": "1.5.0",
      "model_name": "ButtonStyleModel",
      "state": {
       "font_weight": "bold"
      }
     },
     "4243fee20da640d0ab56a0af01308cfe": {
      "model_module": "@jupyter-widgets/controls",
      "model_module_version": "1.5.0",
      "model_name": "ButtonStyleModel",
      "state": {
       "font_weight": "bold"
      }
     },
     "433762b152a044c0a31d38d113ebbed0": {
      "model_module": "@jupyter-widgets/controls",
      "model_module_version": "1.5.0",
      "model_name": "ButtonStyleModel",
      "state": {
       "font_weight": "bold"
      }
     },
     "433d52af96324eb5b9f1cba5fc2bcb59": {
      "model_module": "@jupyter-widgets/controls",
      "model_module_version": "1.5.0",
      "model_name": "DescriptionStyleModel",
      "state": {
       "description_width": ""
      }
     },
     "4350a09169774e0ea979b4cb728db2b0": {
      "model_module": "@jupyter-widgets/base",
      "model_module_version": "1.2.0",
      "model_name": "LayoutModel",
      "state": {
       "width": "5%"
      }
     },
     "43e857c1ec7047e6bc571fa232af1072": {
      "model_module": "@jupyter-widgets/controls",
      "model_module_version": "1.5.0",
      "model_name": "ButtonModel",
      "state": {
       "icon": "question-circle",
       "layout": "IPY_MODEL_a5737c3f179c49c2b135a054860d6c19",
       "style": "IPY_MODEL_30c3d247cd7542ccb3acdc772cb4b9d5",
       "tooltip": "describes the functionality of elements in the RunApp interface"
      }
     },
     "440af715d72b468bb6b211d2f3b8abaf": {
      "model_module": "@jupyter-widgets/base",
      "model_module_version": "1.2.0",
      "model_name": "LayoutModel",
      "state": {}
     },
     "44b7a891472247d0ae610cd4d74d07df": {
      "model_module": "@jupyter-widgets/base",
      "model_module_version": "1.2.0",
      "model_name": "LayoutModel",
      "state": {
       "align_items": "stretch",
       "width": "100%"
      }
     },
     "4517abfa75e74e0ba40dbecc663ac7f9": {
      "model_module": "@jupyter-widgets/base",
      "model_module_version": "1.2.0",
      "model_name": "LayoutModel",
      "state": {}
     },
     "45a0fe53020f49ac870b0cbff8788d81": {
      "model_module": "@jupyter-widgets/controls",
      "model_module_version": "1.5.0",
      "model_name": "VBoxModel",
      "state": {
       "children": [
        "IPY_MODEL_a1ba7e5d8e4945ec90f2fcad5911fcb4",
        "IPY_MODEL_6489c9e17c2a4851b3dfe3e807dbe2ee"
       ],
       "layout": "IPY_MODEL_da199075bd904dbf83ecbb717eb43914"
      }
     },
     "4630dc17bcea4a2f91076a556c82aa04": {
      "model_module": "@jupyter-widgets/base",
      "model_module_version": "1.2.0",
      "model_name": "LayoutModel",
      "state": {}
     },
     "4645107bda2940ef9270af557c300559": {
      "model_module": "@jupyter-widgets/controls",
      "model_module_version": "1.5.0",
      "model_name": "ButtonStyleModel",
      "state": {
       "font_weight": "bold"
      }
     },
     "464777d7f1774f27b30dc3353c843afa": {
      "model_module": "@jupyter-widgets/controls",
      "model_module_version": "1.5.0",
      "model_name": "CheckboxModel",
      "state": {
       "disabled": false,
       "indent": false,
       "layout": "IPY_MODEL_b9af3d10c13241c7b9b5746c32d8942c",
       "style": "IPY_MODEL_9c8044e53bc04677bdef4cdb901a1535",
       "value": false
      }
     },
     "46e92bf221cf47a1b5470bc37b98a5a1": {
      "model_module": "@jupyter-widgets/base",
      "model_module_version": "1.2.0",
      "model_name": "LayoutModel",
      "state": {}
     },
     "49353a879e1b4c92919404f736bd72a7": {
      "model_module": "@jupyter-widgets/controls",
      "model_module_version": "1.5.0",
      "model_name": "HBoxModel",
      "state": {
       "children": [
        "IPY_MODEL_1aa8b8ea1cc0482fb7676fc3e970d6b4",
        "IPY_MODEL_0f13f85d3add48c7aad5bef0244c4c46",
        "IPY_MODEL_75d062ab60324101b13e03e64a5e2a87",
        "IPY_MODEL_2e0454eca6cf4835a1c0b6fa410d3e2f",
        "IPY_MODEL_094ce201657c4724af9da1d8d6a1f4d5",
        "IPY_MODEL_06c711ef73654bf88992c4cb846fa0e0",
        "IPY_MODEL_c70c0bf2355a47b39b351c2cd091f9ac"
       ],
       "layout": "IPY_MODEL_030641e19bab424a8e4fb24f09f785b8"
      }
     },
     "49b8655ac88e4722aa715f03c2b2e0c5": {
      "model_module": "@jupyter-widgets/base",
      "model_module_version": "1.2.0",
      "model_name": "LayoutModel",
      "state": {}
     },
     "4afee0c73b884f3d88c48d2685c9d70f": {
      "model_module": "@jupyter-widgets/controls",
      "model_module_version": "1.5.0",
      "model_name": "TextModel",
      "state": {
       "description": "script",
       "disabled": true,
       "layout": "IPY_MODEL_cc382b04dc7a43069c340d7901d443d4",
       "style": "IPY_MODEL_f76fb38721ba4733ba9ff9a60e70ee26",
       "value": "script fpth"
      }
     },
     "4b04f0c3416c4a08bdb9c4365ae27f5a": {
      "model_module": "@jupyter-widgets/base",
      "model_module_version": "1.2.0",
      "model_name": "LayoutModel",
      "state": {
       "align_items": "stretch",
       "width": "100%"
      }
     },
     "4be172800b0c4bdaaba87a590e598298": {
      "model_module": "@jupyter-widgets/controls",
      "model_module_version": "1.5.0",
      "model_name": "DescriptionStyleModel",
      "state": {
       "description_width": ""
      }
     },
     "4c07c3e4632847629c70c649813476b8": {
      "model_module": "@jupyter-widgets/controls",
      "model_module_version": "1.5.0",
      "model_name": "DescriptionStyleModel",
      "state": {
       "description_width": ""
      }
     },
     "4ca2a692dab741a68732c5aeab5c5680": {
      "model_module": "@jupyter-widgets/base",
      "model_module_version": "1.2.0",
      "model_name": "LayoutModel",
      "state": {
       "align_items": "stretch",
       "width": "100%"
      }
     },
     "4d730abcd71d4c1ab5eafe146b17025d": {
      "model_module": "@jupyter-widgets/base",
      "model_module_version": "1.2.0",
      "model_name": "LayoutModel",
      "state": {}
     },
     "4d7d30a3a4984a6483105d8d651b52f6": {
      "model_module": "@jupyter-widgets/controls",
      "model_module_version": "1.5.0",
      "model_name": "ButtonStyleModel",
      "state": {
       "font_weight": "bold"
      }
     },
     "4d86aa0059874f0cad85f14b004aaf1e": {
      "model_module": "@jupyter-widgets/controls",
      "model_module_version": "1.5.0",
      "model_name": "HBoxModel",
      "state": {
       "children": [
        "IPY_MODEL_e7c75703f74a46e1b82f545e9ca1fb3c",
        "IPY_MODEL_beb59f061fd94e729bd3a9b1f68463d6"
       ],
       "layout": "IPY_MODEL_f2d6b0f1b9be4da38bea874070ee2d4e"
      }
     },
     "4ebe6a990c5444fb851ecb40e4970785": {
      "model_module": "@jupyter-widgets/base",
      "model_module_version": "1.2.0",
      "model_name": "LayoutModel",
      "state": {}
     },
     "4ec780b5503a47118cfe16a7d07cd982": {
      "model_module": "@jupyter-widgets/base",
      "model_module_version": "1.2.0",
      "model_name": "LayoutModel",
      "state": {
       "width": "5%"
      }
     },
     "4ed9be39041540c38f8836a628f0760c": {
      "model_module": "@jupyter-widgets/controls",
      "model_module_version": "1.5.0",
      "model_name": "ButtonStyleModel",
      "state": {
       "font_weight": "bold"
      }
     },
     "4ef71da2e08b4ce1b2ded00e0987af8e": {
      "model_module": "@jupyter-widgets/controls",
      "model_module_version": "1.5.0",
      "model_name": "HBoxModel",
      "state": {
       "children": [
        "IPY_MODEL_322c3f8fb7b849318a5f6927e9d4fba2",
        "IPY_MODEL_d1c79270663346599e9c4ef51a5da89f",
        "IPY_MODEL_b35b1bb3564e46daa3d4adb4224cc879",
        "IPY_MODEL_f4f38767217a4a4eac35cae1d4f77f72",
        "IPY_MODEL_c88a661df8e946128d07f3b124b580c2",
        "IPY_MODEL_0c3a93f7a58d49838de5aa5b7b5c0924",
        "IPY_MODEL_3781f8d701fd40eeab011dc7b5846361"
       ],
       "layout": "IPY_MODEL_6379791d9ffc471894cd2f5add43f123"
      }
     },
     "4f582bcf769d4bed8678f3eff7f7f965": {
      "model_module": "@jupyter-widgets/controls",
      "model_module_version": "1.5.0",
      "model_name": "DescriptionStyleModel",
      "state": {
       "description_width": ""
      }
     },
     "4f7411fa5bf0424f8e8e536ed13c986c": {
      "model_module": "@jupyter-widgets/controls",
      "model_module_version": "1.5.0",
      "model_name": "DescriptionStyleModel",
      "state": {
       "description_width": ""
      }
     },
     "50431e68b38d489e91c6b701e4dde508": {
      "model_module": "@jupyter-widgets/base",
      "model_module_version": "1.2.0",
      "model_name": "LayoutModel",
      "state": {
       "align_items": "stretch",
       "width": "100%"
      }
     },
     "5139e9f16b6844489fed4faf5c59beb6": {
      "model_module": "@jupyter-widgets/base",
      "model_module_version": "1.2.0",
      "model_name": "LayoutModel",
      "state": {}
     },
     "5184edf3385c47fa96e1dd6196e51454": {
      "model_module": "@jupyter-widgets/controls",
      "model_module_version": "1.5.0",
      "model_name": "VBoxModel",
      "state": {
       "children": [
        "IPY_MODEL_d5b8ba9eb22e46e68f875959a941939d",
        "IPY_MODEL_b462cea952ae40d99153517f9d3ed063",
        "IPY_MODEL_cc1264b0058a4c83b37e3a87bf848257"
       ],
       "layout": "IPY_MODEL_3e234766bcdc40009291492b9fde6801"
      }
     },
     "5193c6dad8954457ac6b607ae298c0d9": {
      "model_module": "@jupyter-widgets/controls",
      "model_module_version": "1.5.0",
      "model_name": "ButtonModel",
      "state": {
       "icon": "eye-slash",
       "layout": "IPY_MODEL_2ad81457c5344a1bbe1b64658325f5b1",
       "style": "IPY_MODEL_d2e42fe961414553b05d2353c3852b10",
       "tooltip": "removes temporary output view"
      }
     },
     "51fa1cc8bb78485785c31560bfc8a858": {
      "model_module": "@jupyter-widgets/controls",
      "model_module_version": "1.5.0",
      "model_name": "ButtonModel",
      "state": {
       "icon": "eye-slash",
       "layout": "IPY_MODEL_a3148718873c419fa8fee9c2e8a3585b",
       "style": "IPY_MODEL_4d7d30a3a4984a6483105d8d651b52f6",
       "tooltip": "removes temporary output view"
      }
     },
     "52292bdd09cc429ebe1eb1a42c20e118": {
      "model_module": "@jupyter-widgets/controls",
      "model_module_version": "1.5.0",
      "model_name": "ButtonStyleModel",
      "state": {
       "font_weight": "bold"
      }
     },
     "52619d37af514f608efe2f859e3eb03c": {
      "model_module": "@jupyter-widgets/controls",
      "model_module_version": "1.5.0",
      "model_name": "ButtonStyleModel",
      "state": {
       "font_weight": "bold"
      }
     },
     "52fb5498328a45e288f42e721609b5de": {
      "model_module": "@jupyter-widgets/controls",
      "model_module_version": "1.5.0",
      "model_name": "TextModel",
      "state": {
       "description": "inputs",
       "disabled": true,
       "layout": "IPY_MODEL_5c5fe50ef20044be80d3b59a07b8ea96",
       "style": "IPY_MODEL_4be172800b0c4bdaaba87a590e598298",
       "value": "script config"
      }
     },
     "533384b93b0e4134852ed51b728d1d87": {
      "model_module": "@jupyter-widgets/controls",
      "model_module_version": "1.5.0",
      "model_name": "TextModel",
      "state": {
       "description": "script",
       "disabled": true,
       "layout": "IPY_MODEL_ee3a7d71d8e84f748132456da0abedff",
       "style": "IPY_MODEL_19bd5024b7bf42a6bc109f6ca8a30b3a",
       "value": "C:\\engDev\\git_mf\\MF_Toolbox\\dev\\mf_scripts\\eplus_pipework_params.py"
      }
     },
     "5336c720e9ef45d5a356a5edb15c08ca": {
      "model_module": "@jupyter-widgets/output",
      "model_module_version": "1.0.0",
      "model_name": "OutputModel",
      "state": {
       "layout": "IPY_MODEL_78c5b97b7c9d4921bc15aa0d786dcc79",
       "outputs": [
        {
         "data": {
          "application/vnd.jupyter.widget-view+json": {
           "model_id": "",
           "version_major": 2,
           "version_minor": 0
          },
          "text/plain": "Grid(columns_fit='size_to_fit', compress_data=True, export_mode='disabled', height='350px', menu={'buttons': […"
         },
         "metadata": {},
         "output_type": "display_data"
        }
       ]
      }
     },
     "534391f7ccb84e3085ff4ca40c4ff138": {
      "model_module": "@jupyter-widgets/base",
      "model_module_version": "1.2.0",
      "model_name": "LayoutModel",
      "state": {}
     },
     "53a7eace7e19417985296d56b33a4041": {
      "model_module": "@jupyter-widgets/base",
      "model_module_version": "1.2.0",
      "model_name": "LayoutModel",
      "state": {
       "border": "0px",
       "margin": "0px",
       "padding": "0px"
      }
     },
     "54e5d9e3ef5f4c848a08a870b3f28787": {
      "model_module": "@jupyter-widgets/controls",
      "model_module_version": "1.5.0",
      "model_name": "CheckboxModel",
      "state": {
       "disabled": false,
       "indent": false,
       "layout": "IPY_MODEL_5c26f0fc97ca45c28a320fd95b81b463",
       "style": "IPY_MODEL_e17dbad01e7345f1b060e230cbc27d6b",
       "value": false
      }
     },
     "55279f59a5a8485187baaba94cdbbdb1": {
      "model_module": "@jupyter-widgets/controls",
      "model_module_version": "1.5.0",
      "model_name": "BoxModel",
      "state": {
       "children": [
        "IPY_MODEL_8254c360d27f460fa04e2c530f6db83c"
       ],
       "layout": "IPY_MODEL_c12a05b3af6047e4b4bb1253c78b9f8e"
      }
     },
     "557ec18eeada475493bec118c221f3f8": {
      "model_module": "@jupyter-widgets/controls",
      "model_module_version": "1.5.0",
      "model_name": "ButtonStyleModel",
      "state": {
       "font_weight": "bold"
      }
     },
     "55f318c17d754a5297250bfb378324bf": {
      "model_module": "@jupyter-widgets/controls",
      "model_module_version": "1.5.0",
      "model_name": "ButtonModel",
      "state": {
       "button_style": "info",
       "description": "show source code",
       "layout": "IPY_MODEL_0a901df5c0714cacbf541f95a63eacd8",
       "style": "IPY_MODEL_07544935593d4498b2fe4dbfab6131d2",
       "tooltip": "shows the raw python code in the preview window below"
      }
     },
     "561ea146050a4d1eae466777bb0e8068": {
      "model_module": "@jupyter-widgets/controls",
      "model_module_version": "1.5.0",
      "model_name": "ButtonStyleModel",
      "state": {
       "font_weight": "bold"
      }
     },
     "567f4ac4b8dc470b90cc236190f6e9ee": {
      "model_module": "@jupyter-widgets/base",
      "model_module_version": "1.2.0",
      "model_name": "LayoutModel",
      "state": {}
     },
     "59bc22ad4abf46d2ba1029b34d2acba5": {
      "model_module": "@jupyter-widgets/controls",
      "model_module_version": "1.5.0",
      "model_name": "ButtonModel",
      "state": {
       "button_style": "info",
       "description": "show guide",
       "layout": "IPY_MODEL_59e833f7f41d41279851ebfd41ef0776",
       "style": "IPY_MODEL_d273df20930c49a1a56afb5f47e21f66",
       "tooltip": "read the \"docstring\", ie. the documentation that was written to accompany the script"
      }
     },
     "59e833f7f41d41279851ebfd41ef0776": {
      "model_module": "@jupyter-widgets/base",
      "model_module_version": "1.2.0",
      "model_name": "LayoutModel",
      "state": {}
     },
     "5a21bc07e0b9488b8bbab96292fa9d06": {
      "model_module": "@jupyter-widgets/base",
      "model_module_version": "1.2.0",
      "model_name": "LayoutModel",
      "state": {}
     },
     "5a8fd679a3554511ad7a50fad72be0d9": {
      "model_module": "@jupyter-widgets/controls",
      "model_module_version": "1.5.0",
      "model_name": "ButtonModel",
      "state": {
       "button_style": "warning",
       "description": "edit inputs",
       "layout": "IPY_MODEL_ca366b9d47e34f4b93d37f14392bc711",
       "style": "IPY_MODEL_274cf1fff03c4e82b69cc5d528346731",
       "tooltip": "edit the user input information that is used when the script is executed"
      }
     },
     "5a979c9e63f34805a5f1b78159c6d64f": {
      "model_module": "@jupyter-widgets/base",
      "model_module_version": "1.2.0",
      "model_name": "LayoutModel",
      "state": {
       "width": "5%"
      }
     },
     "5a9f0e8ff3b8473dbc589e8f90f135c0": {
      "model_module": "@jupyter-widgets/base",
      "model_module_version": "1.2.0",
      "model_name": "LayoutModel",
      "state": {
       "width": "5%"
      }
     },
     "5ac1c9c8c56f4a5c945c1647942aab9a": {
      "model_module": "@jupyter-widgets/base",
      "model_module_version": "1.2.0",
      "model_name": "LayoutModel",
      "state": {
       "height": "30px",
       "width": "auto"
      }
     },
     "5b8bbc9597ff4b328b23638aa4f04725": {
      "model_module": "@jupyter-widgets/controls",
      "model_module_version": "1.5.0",
      "model_name": "DescriptionStyleModel",
      "state": {
       "description_width": ""
      }
     },
     "5c0d46f286434d7491af8f4368c3386e": {
      "model_module": "@jupyter-widgets/base",
      "model_module_version": "1.2.0",
      "model_name": "LayoutModel",
      "state": {}
     },
     "5c26f0fc97ca45c28a320fd95b81b463": {
      "model_module": "@jupyter-widgets/base",
      "model_module_version": "1.2.0",
      "model_name": "LayoutModel",
      "state": {
       "height": "30px",
       "max_width": "30px",
       "padding": "3px"
      }
     },
     "5c5fe50ef20044be80d3b59a07b8ea96": {
      "model_module": "@jupyter-widgets/base",
      "model_module_version": "1.2.0",
      "model_name": "LayoutModel",
      "state": {
       "height": "30px",
       "width": "auto"
      }
     },
     "5c8f3298826048f589faead6a8847bc6": {
      "model_module": "@jupyter-widgets/controls",
      "model_module_version": "1.5.0",
      "model_name": "ButtonStyleModel",
      "state": {
       "font_weight": "bold"
      }
     },
     "5cc2a302587343c88eea5acdffc97dc1": {
      "model_module": "@jupyter-widgets/controls",
      "model_module_version": "1.5.0",
      "model_name": "DescriptionStyleModel",
      "state": {
       "description_width": ""
      }
     },
     "5d2673b5f89649e5a1e36cef81dbadb7": {
      "model_module": "@jupyter-widgets/base",
      "model_module_version": "1.2.0",
      "model_name": "LayoutModel",
      "state": {
       "border": "0px",
       "margin": "0px",
       "padding": "0px"
      }
     },
     "5d9c968fb4bf4476b94b744cbdb3ffc4": {
      "model_module": "@jupyter-widgets/controls",
      "model_module_version": "1.5.0",
      "model_name": "ButtonModel",
      "state": {
       "button_style": "warning",
       "description": "edit inputs",
       "layout": "IPY_MODEL_38079e7078454696b40e8e526ae7ddb9",
       "style": "IPY_MODEL_7024d54f13874b39a771a2dd9ef68e5e",
       "tooltip": "edit the user input information that is used when the script is executed"
      }
     },
     "5e4040446a47482fa2d87f8e5f3cbb29": {
      "model_module": "@jupyter-widgets/controls",
      "model_module_version": "1.5.0",
      "model_name": "ButtonModel",
      "state": {
       "button_style": "info",
       "description": "show log",
       "layout": "IPY_MODEL_e67e1aa4a9d2489c9cc0786f78c26a37",
       "style": "IPY_MODEL_52292bdd09cc429ebe1eb1a42c20e118",
       "tooltip": "show a log of when the script was executed to generate the outputs, and by who"
      }
     },
     "5f085ac3d14745aa83e68a6766b7536f": {
      "model_module": "@jupyter-widgets/controls",
      "model_module_version": "1.5.0",
      "model_name": "HBoxModel",
      "state": {
       "children": [
        "IPY_MODEL_08a9735105f44e1397ba6b4f21203671",
        "IPY_MODEL_36079f808dd044aa9d42942d7308296b"
       ],
       "layout": "IPY_MODEL_fc8daff041a14b719e780d7f84205646"
      }
     },
     "5fb0b6b36deb487eafa9cb0580a697ff": {
      "model_module": "@jupyter-widgets/base",
      "model_module_version": "1.2.0",
      "model_name": "LayoutModel",
      "state": {
       "height": "30px",
       "width": "auto"
      }
     },
     "5fbb15b3a751482490b7f087a6ce81b8": {
      "model_module": "@jupyter-widgets/base",
      "model_module_version": "1.2.0",
      "model_name": "LayoutModel",
      "state": {}
     },
     "5ff1c131bc614323863fda12e0453e6f": {
      "model_module": "@jupyter-widgets/controls",
      "model_module_version": "1.5.0",
      "model_name": "ButtonModel",
      "state": {
       "button_style": "info",
       "description": "preview outputs",
       "layout": "IPY_MODEL_ce33936d9b1f495387215438573e39c3",
       "style": "IPY_MODEL_f749a0ff82894c8aa94d0cc20bc701de",
       "tooltip": "show a preview of the output files generated when the script runs"
      }
     },
     "614d8fa67db444999818010d98083ba9": {
      "model_module": "@jupyter-widgets/base",
      "model_module_version": "1.2.0",
      "model_name": "LayoutModel",
      "state": {}
     },
     "621c8693760e4e1d9bf5e5dc32e46fe9": {
      "model_module": "@jupyter-widgets/base",
      "model_module_version": "1.2.0",
      "model_name": "LayoutModel",
      "state": {}
     },
     "627811c23ced4668a135c674908432e0": {
      "model_module": "@jupyter-widgets/controls",
      "model_module_version": "1.5.0",
      "model_name": "ButtonStyleModel",
      "state": {
       "font_weight": "bold"
      }
     },
     "6278b88151184c04a66c485437b21c15": {
      "model_module": "@jupyter-widgets/base",
      "model_module_version": "1.2.0",
      "model_name": "LayoutModel",
      "state": {
       "height": "30px",
       "width": "auto"
      }
     },
     "62885ea4d82e4fde8b938f101c8f3085": {
      "model_module": "@jupyter-widgets/base",
      "model_module_version": "1.2.0",
      "model_name": "LayoutModel",
      "state": {}
     },
     "636dd777821f422a843e14a5e91d8299": {
      "model_module": "@jupyter-widgets/controls",
      "model_module_version": "1.5.0",
      "model_name": "ButtonStyleModel",
      "state": {
       "font_weight": "bold"
      }
     },
     "6379791d9ffc471894cd2f5add43f123": {
      "model_module": "@jupyter-widgets/base",
      "model_module_version": "1.2.0",
      "model_name": "LayoutModel",
      "state": {
       "align_items": "stretch",
       "width": "100%"
      }
     },
     "63965a27a2eb49e7a1805bef0f35880f": {
      "model_module": "@jupyter-widgets/base",
      "model_module_version": "1.2.0",
      "model_name": "LayoutModel",
      "state": {}
     },
     "639c4dfcb9cf4ede9d846eb5e4958f9f": {
      "model_module": "@jupyter-widgets/base",
      "model_module_version": "1.2.0",
      "model_name": "LayoutModel",
      "state": {}
     },
     "63ed40e4309e4b7dbe09afde4e19f61c": {
      "model_module": "@jupyter-widgets/controls",
      "model_module_version": "1.5.0",
      "model_name": "ButtonStyleModel",
      "state": {}
     },
     "63fb9191d25e4bc5afdb7a27801fd618": {
      "model_module": "@jupyter-widgets/controls",
      "model_module_version": "1.5.0",
      "model_name": "VBoxModel",
      "state": {
       "children": [
        "IPY_MODEL_41d6eba36bfd49a1b24566ee575b91a5",
        "IPY_MODEL_e921808462f44531ade6e7b872586887",
        "IPY_MODEL_85e9c8ee86584aa59c4f7f74ebe19412"
       ],
       "layout": "IPY_MODEL_e8179b1cc5e04412bb8e31f628a5f27f"
      }
     },
     "641021c25a05466eb274686845b32c84": {
      "model_module": "@jupyter-widgets/controls",
      "model_module_version": "1.5.0",
      "model_name": "DescriptionStyleModel",
      "state": {
       "description_width": ""
      }
     },
     "64539647a2064cc7a17b88dead16fb0b": {
      "model_module": "@jupyter-widgets/output",
      "model_module_version": "1.0.0",
      "model_name": "OutputModel",
      "state": {
       "layout": "IPY_MODEL_cea50d92b1d545e6bdd09a6e16791f0c"
      }
     },
     "6489c9e17c2a4851b3dfe3e807dbe2ee": {
      "model_module": "@jupyter-widgets/controls",
      "model_module_version": "1.5.0",
      "model_name": "VBoxModel",
      "state": {
       "children": [
        "IPY_MODEL_b1c2e01be1c040e9bef1d0a95286dd65",
        "IPY_MODEL_bdd739c6f9d141f89ffb3b5c8dcfb591",
        "IPY_MODEL_e85d89f937a54e6dba924fbd14d75cd1"
       ],
       "layout": "IPY_MODEL_26d5a0689e694903b87da81dff4b6c70"
      }
     },
     "64ef297562314d6d8d7393a5bd61599e": {
      "model_module": "@jupyter-widgets/controls",
      "model_module_version": "1.5.0",
      "model_name": "ButtonStyleModel",
      "state": {
       "font_weight": "bold"
      }
     },
     "651c2f8228fb46b5931cec11f013e6e3": {
      "model_module": "@jupyter-widgets/controls",
      "model_module_version": "1.5.0",
      "model_name": "ButtonStyleModel",
      "state": {
       "font_weight": "bold"
      }
     },
     "65cfd475eab849db85f9b424fc816938": {
      "model_module": "@jupyter-widgets/base",
      "model_module_version": "1.2.0",
      "model_name": "LayoutModel",
      "state": {
       "border": "0px",
       "margin": "0px",
       "padding": "0px"
      }
     },
     "6699c90442e148b2b416e2cf79f7dbc2": {
      "model_module": "@jupyter-widgets/controls",
      "model_module_version": "1.5.0",
      "model_name": "SelectMultipleModel",
      "state": {
       "_options_labels": [
        "..\\data\\external\\eplus_pipework_params.csv"
       ],
       "description": "outputs",
       "index": [],
       "layout": "IPY_MODEL_8c21010f86f4493d91bb71f3dfdd2895",
       "rows": 4,
       "style": "IPY_MODEL_641021c25a05466eb274686845b32c84"
      }
     },
     "66b57d0d89db46b682a9792926440141": {
      "model_module": "@jupyter-widgets/controls",
      "model_module_version": "1.5.0",
      "model_name": "BoxModel",
      "state": {
       "children": [
        "IPY_MODEL_93e1a3b6eaa340a5a3bb52779d468afa"
       ],
       "layout": "IPY_MODEL_af4b6b2b9416471880415fee235bd0b1"
      }
     },
     "66f2a6fce2a449de88189ccb5f85ccc1": {
      "model_module": "@jupyter-widgets/base",
      "model_module_version": "1.2.0",
      "model_name": "LayoutModel",
      "state": {
       "align_items": "stretch",
       "width": "100%"
      }
     },
     "66ffb15c737f480cbf71577a435ac760": {
      "model_module": "@jupyter-widgets/controls",
      "model_module_version": "1.5.0",
      "model_name": "CheckboxModel",
      "state": {
       "disabled": false,
       "indent": false,
       "layout": "IPY_MODEL_398b24234b7a4a0896956822093bae0a",
       "style": "IPY_MODEL_5cc2a302587343c88eea5acdffc97dc1",
       "value": false
      }
     },
     "6702e9034f2b40f88f7ba12d6913c995": {
      "buffers": [
       {
        "data": "H4sIAAAAAAACA62Rz26EIBDGX2UzZ92A1TXl2l689AXEGKIsyxaB8Mdts/Hdi9qmlx7apBeY+b7MzG/gDsLJEcgdRhYYkLYFblX0vZWW34x77S1zbPKQwfUoovbBaJ6SAhUoR6ccVQdck7IgDxVkOiq1H/BEKOVaPPOZUiFDP50plfbdRf19M2vXoUnQNgafBDdc5MwpXbujE6pyXJdFvtv5j1zHwc/QZX+lrg+4JAUi+PH/qesel2nMVfwCvMtA6pG/9c7c/PoLmk08BS00q5w2g5mpuEktSnvirlu+agaj4qQ3C6wzA/f+JZVvzxE9d1uQWHmQn+rZuImpxvu454EJvxs2XJqNNjEtyweK1CSaFgIAAA==",
        "encoding": "base64",
        "path": [
         "_grid_data_up"
        ]
       }
      ],
      "model_module": "ipyaggrid",
      "model_module_version": "~0.2.1",
      "model_name": "AgGridModel",
      "state": {
       "_grid_data_down": [
        {
         "datetime": "2020-06-05 17:42:35",
         "formalIssue": null,
         "fpthInputs": "C:\\engDev\\git_mf\\ipyrun\\ipyrun\\appdata\\inputs\\archive\\20200605-1742-inputs-eplus_pipework_params.csv",
         "processName": "eplus_pipework_params",
         "tags": null,
         "user": "j.gunstone"
        },
        {
         "datetime": "2020-06-07 14:20:19",
         "formalIssue": null,
         "fpthInputs": "C:\\engDev\\git_mf\\ipyrun\\ipyrun\\appdata\\inputs\\archive\\20200607_1420-jg-inputs-eplus_pipework_params.csv",
         "processName": "eplus_pipework_params",
         "tags": null,
         "user": "j.gunstone"
        }
       ],
       "_grid_options_mono_down": "{\"enableSorting\": true, \"enableFilter\": true, \"enableColResize\": true, \"enableRangeSelection\": true, \"columnDefs\": [{\"field\": \"processName\", \"type\": \"textColumn\", \"headerName\": \"Processname\"}, {\"field\": \"user\", \"type\": \"textColumn\", \"headerName\": \"User\"}, {\"field\": \"datetime\", \"type\": \"textColumn\", \"headerName\": \"Datetime\"}, {\"field\": \"formalIssue\", \"type\": \"numberColumn\", \"headerName\": \"Formalissue\"}, {\"field\": \"tags\", \"type\": \"numberColumn\", \"headerName\": \"Tags\"}, {\"field\": \"fpthInputs\", \"type\": \"textColumn\", \"headerName\": \"Fpthinputs\"}], \"columnTypes\": {\"numberColumn\": {\"filter\": \"agNumberColumnFilter\"}, \"textColumn\": {\"filter\": \"agTextColumnFilter\"}, \"dateColumn\": {\"valueFormatter\": \"helpers.dateFormatter\", \"filter\": \"agDateColumnFilter\", \"filterParams\": {\"comparator\": \"helpers.compareDates\"}}}}",
       "_id": 467509987,
       "_js_helpers_builtin": "helpersBuiltin = {\n    dateFormatter: function(node) {\n        // make sure date is not undefined\n        if (node && node.value) {\n            let d = new Date(node.value);\n            let h = d.getHours();\n            let m = d.getMinutes();\n            let s = d.getSeconds();\n            const offset = d.getTimezoneOffset() * 60000;\n            d = new Date(d.getTime() - offset);\n            const ymd = d.toISOString().substring(0, 10);\n            if (h === 0 && m === 0 && s === 0) {\n                return ymd;\n            }\n            if (h === 0) h = '00';\n            if (m === 0) m = '00';\n            if (s === 0) s = '00';\n            return `${ymd} ${h}:${m}:${s}`;\n        }\n        return null;\n    },\n\n    formatInt: d3.format(',.0f'),\n    formatFloat: d3.format(',.2f'),\n\n    intFormatter: function(node) {\n        return formatInt(node.value);\n    },\n\n    floatFormatter: function(node) {\n        return formatFloat(node.value);\n    },\n\n    compareDates: function(filterLocalDate, cellValue) {\n        // Assume dates are stored as iso\n        const cellDate = new Date(cellValue);\n\n        if (cellDate < filterLocalDate) {\n            return -1;\n        } else if (cellDate > filterLocalDate) {\n            return 1;\n        }\n        return 0;\n    },\n\n    sizeToFit: function(gridOptions) {\n        gridOptions.api.sizeColumnsToFit();\n    },\n\n    autoSizeAll: function(gridOptions) {\n        const allColumnIds = [];\n        gridOptions.columnApi.getAllColumns().forEach(column => {\n            allColumnIds.push(column.colId);\n        });\n        gridOptions.columnApi.autoSizeColumns(allColumnIds);\n    },\n\n    /**\n     * Exporting data to CSV using ag-Grid api.\n     * @param {Object} gridOptions\n     */\n    exportToCsv: function(gridOptions) {\n        const params = {\n            skipHeader: false,\n            columnGroups: true,\n            skipFooters: false,\n            skipGroups: false,\n            skipPinnedTop: false,\n            skipPinnedBottom: false,\n            allColumns: true,\n            onlySelected: false,\n            suppressQuotes: true,\n            fileName: 'my_file.csv',\n            sheetName: 'my_sheet',\n            shouldRowBeSkipped: () => false,\n            processCellCallback: param => param.value,\n            processHeaderCallback: null,\n        };\n        gridOptions.api.exportDataAsCsv(params);\n    },\n\n    /**\n     * Exporting data to Excel using ag-Grid api.\n     * @param {Object} gridOptions\n     */\n    exportToExcel: function(gridOptions) {\n        const params = {\n            skipHeader: false,\n            columnGroups: true,\n            skipFooters: false,\n            skipGroups: false,\n            skipPinnedTop: false,\n            skipPinnedBottom: false,\n            allColumns: true,\n            onlySelected: false,\n            suppressQuotes: true,\n            fileName: 'my_file.xls',\n            sheetName: 'my_sheet',\n            shouldRowBeSkipped: () => false, // TODO : check\n            processCellCallback: param => param.value,\n            processHeaderCallback: null,\n        };\n        gridOptions.api.exportDataAsExcel(params);\n    },\n};\n",
       "columns_fit": "size_to_fit",
       "compress_data": true,
       "export_mode": "disabled",
       "height": "350px",
       "js_helpers": "{\"dateFormatter\":\"function(node) {\\n        // make sure date is not undefined\\n        if (node && node.value) {\\n            let d = new Date(node.value);\\n            let h = d.getHours();\\n            let m = d.getMinutes();\\n            let s = d.getSeconds();\\n            const offset = d.getTimezoneOffset() * 60000;\\n            d = new Date(d.getTime() - offset);\\n            const ymd = d.toISOString().substring(0, 10);\\n            if (h === 0 && m === 0 && s === 0) {\\n                return ymd;\\n            }\\n            if (h === 0) h = '00';\\n            if (m === 0) m = '00';\\n            if (s === 0) s = '00';\\n            return `${ymd} ${h}:${m}:${s}`;\\n        }\\n        return null;\\n    }\",\"formatInt\":\" >-,.0f\",\"formatFloat\":\" >-,.2f\",\"intFormatter\":\"function(node) {\\n        return formatInt(node.value);\\n    }\",\"floatFormatter\":\"function(node) {\\n        return formatFloat(node.value);\\n    }\",\"compareDates\":\"function(filterLocalDate, cellValue) {\\n        // Assume dates are stored as iso\\n        const cellDate = new Date(cellValue);\\n\\n        if (cellDate < filterLocalDate) {\\n            return -1;\\n        } else if (cellDate > filterLocalDate) {\\n            return 1;\\n        }\\n        return 0;\\n    }\",\"sizeToFit\":\"function(gridOptions) {\\n        gridOptions.api.sizeColumnsToFit();\\n    }\",\"autoSizeAll\":\"function(gridOptions) {\\n        const allColumnIds = [];\\n        gridOptions.columnApi.getAllColumns().forEach(column => {\\n            allColumnIds.push(column.colId);\\n        });\\n        gridOptions.columnApi.autoSizeColumns(allColumnIds);\\n    }\",\"exportToCsv\":\"function(gridOptions) {\\n        const params = {\\n            skipHeader: false,\\n            columnGroups: true,\\n            skipFooters: false,\\n            skipGroups: false,\\n            skipPinnedTop: false,\\n            skipPinnedBottom: false,\\n            allColumns: true,\\n            onlySelected: false,\\n            suppressQuotes: true,\\n            fileName: 'my_file.csv',\\n            sheetName: 'my_sheet',\\n            shouldRowBeSkipped: () => false,\\n            processCellCallback: param => param.value,\\n            processHeaderCallback: null,\\n        };\\n        gridOptions.api.exportDataAsCsv(params);\\n    }\",\"exportToExcel\":\"function(gridOptions) {\\n        const params = {\\n            skipHeader: false,\\n            columnGroups: true,\\n            skipFooters: false,\\n            skipGroups: false,\\n            skipPinnedTop: false,\\n            skipPinnedBottom: false,\\n            allColumns: true,\\n            onlySelected: false,\\n            suppressQuotes: true,\\n            fileName: 'my_file.xls',\\n            sheetName: 'my_sheet',\\n            shouldRowBeSkipped: () => false, // TODO : check\\n            processCellCallback: param => param.value,\\n            processHeaderCallback: null,\\n        };\\n        gridOptions.api.exportDataAsExcel(params);\\n    }\"}",
       "layout": "IPY_MODEL_80ec4027f44b4fbf926174cf64a4e23a",
       "menu": {
        "button_div_css": ".flex-button-div-467509987 {\ndisplay: flex;\njustify-content: flex-start;\nalign-items: flex-start;\nalign-content: flex-start;\nflex-flow: row wrap;\n}\n",
        "buttons": [],
        "input_div_css": ".flex-input-div-467509987 {\ndisplay: flex;\njustify-content: flex-start;\nalign-items: baseline;\nalign-content: flex-start;\nflex-flow: row wrap;\n}\n",
        "inputs": [
         {
          "css": ".flex-child-quick-filter-467509987 {\norder: 0;\nalign-self: auto;\nmargin: 5px;\nflex: 0.00 1.00 auto;\nwidth: 150px;\n}\n",
          "name": "Quick Filter"
         }
        ],
        "menu_div_css": ".flex-menu-div-467509987 {\ndisplay: flex;\njustify-content: flex-start;\nalign-items: flex-start;\nalign-content: flex-start;\nflex-flow: row wrap;\n}\n"
       },
       "theme": "ag-theme-balham",
       "width": "100%"
      }
     },
     "69540b5f667d48c0bb3569911b8826d3": {
      "buffers": [
       {
        "data": "H4sIAAAAAAACA7VUXWvDIBT9K+U+J0XN1+Jrx6Av+wMxBGlt6pYY0ZhulP73mZSxwspW0u3hqPdcz/VcEY9QG7kFeoQt7znQooCXZe2U7TslIACCCApRGqJ4QRDFiKIUAuWa5tpQBj+rMSV4jjpZ4IQmCUXxPeo4m6/OKElnqlPf9J3qBM9XE4rvONvfeTZbHWGK80s1rChjQtWPYmCsln3V7hiT+t049TVzrcen6AmlXW89YTZ7OQjGxuooRUmI0wiH53QodONspaUWh868Vpob3trlxg5wu09Co+8v6w/NkhvN/uIzzmkc/aPPOL/BJ1zNQVkGINVWvFWmO9jxP1G8FX5RwHqkwecH3riJKpDvFHsQj8gj9kg8Uo/M48EjH/dMG3FZnj6rb7rGtWoqAs4KA+Od+dZEL1sxBbvOtLxZW+vOcc9rOy3Ova06tZP1BfGk+/0UatNthLXPfCxUnk4fNoPo0hsFAAA=",
        "encoding": "base64",
        "path": [
         "_grid_data_up"
        ]
       }
      ],
      "model_module": "ipyaggrid",
      "model_module_version": "~0.2.1",
      "model_name": "AgGridModel",
      "state": {
       "_grid_data_down": [
        {
         "datetime": "2020-06-04 20:10:06",
         "formalIssue": null,
         "inputsConfig": null,
         "inputsFpth": null,
         "processName": null,
         "tags": null,
         "user": "j.gunstone"
        },
        {
         "datetime": "2020-06-04 20:11:21",
         "formalIssue": null,
         "inputsConfig": null,
         "inputsFpth": null,
         "processName": null,
         "tags": null,
         "user": "j.gunstone"
        },
        {
         "datetime": "2020-06-05 15:55:04",
         "formalIssue": null,
         "inputsConfig": null,
         "inputsFpth": null,
         "processName": null,
         "tags": null,
         "user": "j.gunstone"
        },
        {
         "datetime": "2020-06-05 15:55:47",
         "formalIssue": null,
         "inputsConfig": null,
         "inputsFpth": null,
         "processName": null,
         "tags": null,
         "user": "j.gunstone"
        },
        {
         "datetime": "2020-06-05 15:57:26",
         "formalIssue": null,
         "inputsConfig": null,
         "inputsFpth": null,
         "processName": null,
         "tags": null,
         "user": "j.gunstone"
        },
        {
         "datetime": "2020-06-05 16:21:26",
         "formalIssue": null,
         "inputsConfig": null,
         "inputsFpth": null,
         "processName": null,
         "tags": null,
         "user": "j.gunstone"
        },
        {
         "datetime": "2020-06-05 16:21:51",
         "formalIssue": null,
         "inputsConfig": null,
         "inputsFpth": null,
         "processName": null,
         "tags": null,
         "user": "j.gunstone"
        },
        {
         "datetime": "2020-06-05 16:22:16",
         "formalIssue": null,
         "inputsConfig": null,
         "inputsFpth": null,
         "processName": null,
         "tags": null,
         "user": "j.gunstone"
        },
        {
         "datetime": "2020-06-05 16:25:07",
         "formalIssue": null,
         "inputsConfig": null,
         "inputsFpth": null,
         "processName": null,
         "tags": null,
         "user": "j.gunstone"
        },
        {
         "datetime": "2020-06-05 16:31:19",
         "formalIssue": null,
         "inputsConfig": "C:\\engDev\\git_mf\\ipyrun\\ipyrun\\appdata\\inputs\\archive\\20200605-1631-inputs-eplus_pipework_params.csv",
         "inputsFpth": null,
         "processName": null,
         "tags": null,
         "user": "j.gunstone"
        },
        {
         "datetime": "2020-06-05 16:32:34",
         "formalIssue": null,
         "inputsConfig": null,
         "inputsFpth": "C:\\engDev\\git_mf\\ipyrun\\ipyrun\\appdata\\inputs\\archive\\20200605-1632-inputs-eplus_pipework_params.csv",
         "processName": null,
         "tags": null,
         "user": "j.gunstone"
        },
        {
         "datetime": "2020-06-05 16:49:43",
         "formalIssue": null,
         "inputsConfig": null,
         "inputsFpth": "C:\\engDev\\git_mf\\ipyrun\\ipyrun\\appdata\\inputs\\archive\\20200605-1649-inputs-eplus_pipework_params.csv",
         "processName": "eplus_pipework_params",
         "tags": null,
         "user": "j.gunstone"
        }
       ],
       "_grid_options_mono_down": "{\"enableSorting\": true, \"enableFilter\": true, \"enableColResize\": true, \"enableRangeSelection\": true, \"columnDefs\": [{\"field\": \"user\", \"type\": \"textColumn\", \"headerName\": \"User\"}, {\"field\": \"datetime\", \"type\": \"textColumn\", \"headerName\": \"Datetime\"}, {\"field\": \"formalIssue\", \"type\": \"numberColumn\", \"headerName\": \"Formalissue\"}, {\"field\": \"tags\", \"type\": \"numberColumn\", \"headerName\": \"Tags\"}, {\"field\": \"inputsConfig\", \"type\": \"textColumn\", \"headerName\": \"Inputsconfig\"}, {\"field\": \"inputsFpth\", \"type\": \"textColumn\", \"headerName\": \"Inputsfpth\"}, {\"field\": \"processName\", \"type\": \"textColumn\", \"headerName\": \"Processname\"}], \"columnTypes\": {\"numberColumn\": {\"filter\": \"agNumberColumnFilter\"}, \"textColumn\": {\"filter\": \"agTextColumnFilter\"}, \"dateColumn\": {\"valueFormatter\": \"helpers.dateFormatter\", \"filter\": \"agDateColumnFilter\", \"filterParams\": {\"comparator\": \"helpers.compareDates\"}}}}",
       "_id": 706364345,
       "_js_helpers_builtin": "helpersBuiltin = {\n    dateFormatter: function(node) {\n        // make sure date is not undefined\n        if (node && node.value) {\n            let d = new Date(node.value);\n            let h = d.getHours();\n            let m = d.getMinutes();\n            let s = d.getSeconds();\n            const offset = d.getTimezoneOffset() * 60000;\n            d = new Date(d.getTime() - offset);\n            const ymd = d.toISOString().substring(0, 10);\n            if (h === 0 && m === 0 && s === 0) {\n                return ymd;\n            }\n            if (h === 0) h = '00';\n            if (m === 0) m = '00';\n            if (s === 0) s = '00';\n            return `${ymd} ${h}:${m}:${s}`;\n        }\n        return null;\n    },\n\n    formatInt: d3.format(',.0f'),\n    formatFloat: d3.format(',.2f'),\n\n    intFormatter: function(node) {\n        return formatInt(node.value);\n    },\n\n    floatFormatter: function(node) {\n        return formatFloat(node.value);\n    },\n\n    compareDates: function(filterLocalDate, cellValue) {\n        // Assume dates are stored as iso\n        const cellDate = new Date(cellValue);\n\n        if (cellDate < filterLocalDate) {\n            return -1;\n        } else if (cellDate > filterLocalDate) {\n            return 1;\n        }\n        return 0;\n    },\n\n    sizeToFit: function(gridOptions) {\n        gridOptions.api.sizeColumnsToFit();\n    },\n\n    autoSizeAll: function(gridOptions) {\n        const allColumnIds = [];\n        gridOptions.columnApi.getAllColumns().forEach(column => {\n            allColumnIds.push(column.colId);\n        });\n        gridOptions.columnApi.autoSizeColumns(allColumnIds);\n    },\n\n    /**\n     * Exporting data to CSV using ag-Grid api.\n     * @param {Object} gridOptions\n     */\n    exportToCsv: function(gridOptions) {\n        const params = {\n            skipHeader: false,\n            columnGroups: true,\n            skipFooters: false,\n            skipGroups: false,\n            skipPinnedTop: false,\n            skipPinnedBottom: false,\n            allColumns: true,\n            onlySelected: false,\n            suppressQuotes: true,\n            fileName: 'my_file.csv',\n            sheetName: 'my_sheet',\n            shouldRowBeSkipped: () => false,\n            processCellCallback: param => param.value,\n            processHeaderCallback: null,\n        };\n        gridOptions.api.exportDataAsCsv(params);\n    },\n\n    /**\n     * Exporting data to Excel using ag-Grid api.\n     * @param {Object} gridOptions\n     */\n    exportToExcel: function(gridOptions) {\n        const params = {\n            skipHeader: false,\n            columnGroups: true,\n            skipFooters: false,\n            skipGroups: false,\n            skipPinnedTop: false,\n            skipPinnedBottom: false,\n            allColumns: true,\n            onlySelected: false,\n            suppressQuotes: true,\n            fileName: 'my_file.xls',\n            sheetName: 'my_sheet',\n            shouldRowBeSkipped: () => false, // TODO : check\n            processCellCallback: param => param.value,\n            processHeaderCallback: null,\n        };\n        gridOptions.api.exportDataAsExcel(params);\n    },\n};\n",
       "columns_fit": "size_to_fit",
       "compress_data": true,
       "export_mode": "disabled",
       "height": "350px",
       "js_helpers": "{\"dateFormatter\":\"function(node) {\\n        // make sure date is not undefined\\n        if (node && node.value) {\\n            let d = new Date(node.value);\\n            let h = d.getHours();\\n            let m = d.getMinutes();\\n            let s = d.getSeconds();\\n            const offset = d.getTimezoneOffset() * 60000;\\n            d = new Date(d.getTime() - offset);\\n            const ymd = d.toISOString().substring(0, 10);\\n            if (h === 0 && m === 0 && s === 0) {\\n                return ymd;\\n            }\\n            if (h === 0) h = '00';\\n            if (m === 0) m = '00';\\n            if (s === 0) s = '00';\\n            return `${ymd} ${h}:${m}:${s}`;\\n        }\\n        return null;\\n    }\",\"formatInt\":\" >-,.0f\",\"formatFloat\":\" >-,.2f\",\"intFormatter\":\"function(node) {\\n        return formatInt(node.value);\\n    }\",\"floatFormatter\":\"function(node) {\\n        return formatFloat(node.value);\\n    }\",\"compareDates\":\"function(filterLocalDate, cellValue) {\\n        // Assume dates are stored as iso\\n        const cellDate = new Date(cellValue);\\n\\n        if (cellDate < filterLocalDate) {\\n            return -1;\\n        } else if (cellDate > filterLocalDate) {\\n            return 1;\\n        }\\n        return 0;\\n    }\",\"sizeToFit\":\"function(gridOptions) {\\n        gridOptions.api.sizeColumnsToFit();\\n    }\",\"autoSizeAll\":\"function(gridOptions) {\\n        const allColumnIds = [];\\n        gridOptions.columnApi.getAllColumns().forEach(column => {\\n            allColumnIds.push(column.colId);\\n        });\\n        gridOptions.columnApi.autoSizeColumns(allColumnIds);\\n    }\",\"exportToCsv\":\"function(gridOptions) {\\n        const params = {\\n            skipHeader: false,\\n            columnGroups: true,\\n            skipFooters: false,\\n            skipGroups: false,\\n            skipPinnedTop: false,\\n            skipPinnedBottom: false,\\n            allColumns: true,\\n            onlySelected: false,\\n            suppressQuotes: true,\\n            fileName: 'my_file.csv',\\n            sheetName: 'my_sheet',\\n            shouldRowBeSkipped: () => false,\\n            processCellCallback: param => param.value,\\n            processHeaderCallback: null,\\n        };\\n        gridOptions.api.exportDataAsCsv(params);\\n    }\",\"exportToExcel\":\"function(gridOptions) {\\n        const params = {\\n            skipHeader: false,\\n            columnGroups: true,\\n            skipFooters: false,\\n            skipGroups: false,\\n            skipPinnedTop: false,\\n            skipPinnedBottom: false,\\n            allColumns: true,\\n            onlySelected: false,\\n            suppressQuotes: true,\\n            fileName: 'my_file.xls',\\n            sheetName: 'my_sheet',\\n            shouldRowBeSkipped: () => false, // TODO : check\\n            processCellCallback: param => param.value,\\n            processHeaderCallback: null,\\n        };\\n        gridOptions.api.exportDataAsExcel(params);\\n    }\"}",
       "layout": "IPY_MODEL_f84f98628afc4eed9cd944669b590101",
       "menu": {
        "button_div_css": ".flex-button-div-706364345 {\ndisplay: flex;\njustify-content: flex-start;\nalign-items: flex-start;\nalign-content: flex-start;\nflex-flow: row wrap;\n}\n",
        "buttons": [],
        "input_div_css": ".flex-input-div-706364345 {\ndisplay: flex;\njustify-content: flex-start;\nalign-items: baseline;\nalign-content: flex-start;\nflex-flow: row wrap;\n}\n",
        "inputs": [
         {
          "css": ".flex-child-quick-filter-706364345 {\norder: 0;\nalign-self: auto;\nmargin: 5px;\nflex: 0.00 1.00 auto;\nwidth: 150px;\n}\n",
          "name": "Quick Filter"
         }
        ],
        "menu_div_css": ".flex-menu-div-706364345 {\ndisplay: flex;\njustify-content: flex-start;\nalign-items: flex-start;\nalign-content: flex-start;\nflex-flow: row wrap;\n}\n"
       },
       "theme": "ag-theme-balham",
       "width": "100%"
      }
     },
     "69acd9f6338748bc9b719fed551c02f6": {
      "model_module": "@jupyter-widgets/controls",
      "model_module_version": "1.5.0",
      "model_name": "ButtonStyleModel",
      "state": {
       "font_weight": "bold"
      }
     },
     "69c7ee188ef14a1291bb3b0d9130893a": {
      "model_module": "@jupyter-widgets/controls",
      "model_module_version": "1.5.0",
      "model_name": "AccordionModel",
      "state": {
       "_titles": {
        "0": "eplus_pipework_params"
       },
       "children": [
        "IPY_MODEL_2a46488e9ba44797b953f00b43f4e29f"
       ],
       "layout": "IPY_MODEL_df455b6990fe4b2bb540511dea4a38ee"
      }
     },
     "6a052361f7b4457b8136f24e05537e67": {
      "model_module": "@jupyter-widgets/controls",
      "model_module_version": "1.5.0",
      "model_name": "ButtonStyleModel",
      "state": {
       "font_weight": "bold"
      }
     },
     "6a26027f48ed4677bd02356f890e2a31": {
      "model_module": "@jupyter-widgets/controls",
      "model_module_version": "1.5.0",
      "model_name": "ButtonModel",
      "state": {
       "button_style": "info",
       "description": "show source code",
       "layout": "IPY_MODEL_3582dd34f0644aa0b5aa069c309b801b",
       "style": "IPY_MODEL_b8731112f33e4952898bfa8d90a85652",
       "tooltip": "shows the raw python code in the preview window below"
      }
     },
     "6a43bc0a04474eff8dc3d9f7e7dcf8c0": {
      "model_module": "@jupyter-widgets/controls",
      "model_module_version": "1.5.0",
      "model_name": "BoxModel",
      "state": {
       "children": [
        "IPY_MODEL_29c5d42d7c0844fbb9dccaf270a5ce3c"
       ],
       "layout": "IPY_MODEL_5a21bc07e0b9488b8bbab96292fa9d06"
      }
     },
     "6a6ffe791a6542d9bcb55ef3feb08812": {
      "model_module": "@jupyter-widgets/base",
      "model_module_version": "1.2.0",
      "model_name": "LayoutModel",
      "state": {
       "width": "100%"
      }
     },
     "6ab7e9d73e8c400ba1500b781d8038da": {
      "model_module": "@jupyter-widgets/controls",
      "model_module_version": "1.5.0",
      "model_name": "ButtonModel",
      "state": {
       "button_style": "info",
       "description": "preview outputs",
       "layout": "IPY_MODEL_b384dc3558d1429d84ad5681f6c5dc8a",
       "style": "IPY_MODEL_e17d48661f9141f89637cfb9cdcac2a9",
       "tooltip": "show a preview of the output files generated when the script runs"
      }
     },
     "6c1093f9643c4d429a5375c5c34cfec9": {
      "model_module": "@jupyter-widgets/controls",
      "model_module_version": "1.5.0",
      "model_name": "ButtonStyleModel",
      "state": {
       "font_weight": "bold"
      }
     },
     "6cbe94a2b6974cbc85b348285e4e04a6": {
      "model_module": "@jupyter-widgets/base",
      "model_module_version": "1.2.0",
      "model_name": "LayoutModel",
      "state": {}
     },
     "6ce0fe51d35449bea44dc0277914bfe4": {
      "model_module": "@jupyter-widgets/controls",
      "model_module_version": "1.5.0",
      "model_name": "HBoxModel",
      "state": {
       "children": [
        "IPY_MODEL_bcaf4b568090408799c7733fc697cd0d",
        "IPY_MODEL_ba51826210994b93bc8d4ac363568600",
        "IPY_MODEL_814a006b7973487882524d03e5615311",
        "IPY_MODEL_d8b74efb3ae14fbf9e232bec3243d9fa",
        "IPY_MODEL_9e0b9d3d9d2141178ec69e7f31f41986",
        "IPY_MODEL_5ff1c131bc614323863fda12e0453e6f",
        "IPY_MODEL_79c4601c4b294a18b222f745b50e15d3"
       ],
       "layout": "IPY_MODEL_27de6dfe9b564538acfacf1cc04f27eb"
      }
     },
     "6d1a21ae69bb4facaf15e753e50ec7c8": {
      "model_module": "@jupyter-widgets/controls",
      "model_module_version": "1.5.0",
      "model_name": "HBoxModel",
      "state": {
       "children": [
        "IPY_MODEL_a741353a5d8d4bf8a5d74b14488314ef",
        "IPY_MODEL_d584f4259007401293faf57ae743071d"
       ],
       "layout": "IPY_MODEL_d8b20fafc5a942bc8299f192fc12ef06"
      }
     },
     "6e44649ab75d47c88b0b5bd89892d9a2": {
      "model_module": "@jupyter-widgets/controls",
      "model_module_version": "1.5.0",
      "model_name": "ButtonStyleModel",
      "state": {
       "font_weight": "bold"
      }
     },
     "6eb9ec6f0dac4c03af588ce5cd10517f": {
      "model_module": "@jupyter-widgets/base",
      "model_module_version": "1.2.0",
      "model_name": "LayoutModel",
      "state": {}
     },
     "6ebabd51fb0848f7884c58c933b8ce43": {
      "model_module": "@jupyter-widgets/base",
      "model_module_version": "1.2.0",
      "model_name": "LayoutModel",
      "state": {}
     },
     "6fac57caf1dd4d03966998bc40bce49c": {
      "model_module": "@jupyter-widgets/base",
      "model_module_version": "1.2.0",
      "model_name": "LayoutModel",
      "state": {
       "width": "100%"
      }
     },
     "7024d54f13874b39a771a2dd9ef68e5e": {
      "model_module": "@jupyter-widgets/controls",
      "model_module_version": "1.5.0",
      "model_name": "ButtonStyleModel",
      "state": {
       "font_weight": "bold"
      }
     },
     "703b13f5435a45038ec380a9d9dc0366": {
      "model_module": "@jupyter-widgets/base",
      "model_module_version": "1.2.0",
      "model_name": "LayoutModel",
      "state": {
       "border": "0px",
       "margin": "0px",
       "padding": "0px"
      }
     },
     "703fd75c53374c47b8a76a4ad5eef0ac": {
      "model_module": "@jupyter-widgets/controls",
      "model_module_version": "1.5.0",
      "model_name": "BoxModel",
      "state": {
       "children": [
        "IPY_MODEL_7e4246a08eff4ae6ada640072fe627c8"
       ],
       "layout": "IPY_MODEL_959499ec9814476f981f81806cf36f28"
      }
     },
     "7121a30066f6426385fc65cda2d01a7f": {
      "model_module": "@jupyter-widgets/controls",
      "model_module_version": "1.5.0",
      "model_name": "ButtonModel",
      "state": {
       "button_style": "success",
       "description": "run",
       "layout": "IPY_MODEL_17372d44efa4479197a650a59a6cc998",
       "style": "IPY_MODEL_aae4c54668454f6d9870e19dcb0ca0c5",
       "tooltip": "execute the script based on the user inputs"
      }
     },
     "7156f47296664568a9a8d079074192a9": {
      "model_module": "@jupyter-widgets/controls",
      "model_module_version": "1.5.0",
      "model_name": "VBoxModel",
      "state": {
       "children": [
        "IPY_MODEL_78b0b7ad27a44e9a9b9f58ad713fb7ef",
        "IPY_MODEL_28ed8a7f8d904c3389036531730dd5e3"
       ],
       "layout": "IPY_MODEL_d2846d3c80f54c1f8a1e72e45269ad4c"
      }
     },
     "71e228c4847d4d3280668649e817a566": {
      "model_module": "@jupyter-widgets/controls",
      "model_module_version": "1.5.0",
      "model_name": "ButtonStyleModel",
      "state": {
       "font_weight": "bold"
      }
     },
     "72316fc082e14979ac98d46ba5828f2a": {
      "model_module": "@jupyter-widgets/controls",
      "model_module_version": "1.5.0",
      "model_name": "HBoxModel",
      "state": {
       "children": [
        "IPY_MODEL_94b3206cfb0a484985970dadf7fb91c7",
        "IPY_MODEL_8a8430eeb72c4f5e83d109f7e2b053b2",
        "IPY_MODEL_a5a53ddc2f064d13aed4ffc06895ae6d",
        "IPY_MODEL_991273142c524a2898636129d9aec4c5",
        "IPY_MODEL_106f08bbbcf0409186d86afe22c3e0fd",
        "IPY_MODEL_acb3965528854d6cb8fa370252bda40b",
        "IPY_MODEL_8a7519a8d1df4f928809b70fa209b3ab"
       ],
       "layout": "IPY_MODEL_27543fb7783646caa33f4dc54ab65d73"
      }
     },
     "73fa6d2194434f6badee4b8a01398129": {
      "model_module": "@jupyter-widgets/controls",
      "model_module_version": "1.5.0",
      "model_name": "HBoxModel",
      "state": {
       "children": [
        "IPY_MODEL_32b35548605a46cf82d540359185e7fa",
        "IPY_MODEL_69c7ee188ef14a1291bb3b0d9130893a"
       ],
       "layout": "IPY_MODEL_5d2673b5f89649e5a1e36cef81dbadb7"
      }
     },
     "75a252f6c7b24586b62a2b4ee26aa1dd": {
      "model_module": "@jupyter-widgets/base",
      "model_module_version": "1.2.0",
      "model_name": "LayoutModel",
      "state": {
       "width": "100%"
      }
     },
     "75d062ab60324101b13e03e64a5e2a87": {
      "model_module": "@jupyter-widgets/controls",
      "model_module_version": "1.5.0",
      "model_name": "ButtonModel",
      "state": {
       "button_style": "info",
       "description": "show guide",
       "layout": "IPY_MODEL_5139e9f16b6844489fed4faf5c59beb6",
       "style": "IPY_MODEL_c2e669dc640643ceb46d5c85c5f16951",
       "tooltip": "read the \"docstring\", ie. the documentation that was written to accompany the script"
      }
     },
     "7624aefefb6347bc9b274f94cfe8e454": {
      "model_module": "@jupyter-widgets/controls",
      "model_module_version": "1.5.0",
      "model_name": "ButtonStyleModel",
      "state": {
       "font_weight": "bold"
      }
     },
     "7632e731c00d4985b17d6572e62c51e5": {
      "model_module": "@jupyter-widgets/base",
      "model_module_version": "1.2.0",
      "model_name": "LayoutModel",
      "state": {}
     },
     "7655fe85782a4a91940dea1daae60706": {
      "model_module": "@jupyter-widgets/base",
      "model_module_version": "1.2.0",
      "model_name": "LayoutModel",
      "state": {
       "height": "30px",
       "max_width": "30px",
       "padding": "3px"
      }
     },
     "76645a8a7af242be8fd0d232a2acb995": {
      "model_module": "@jupyter-widgets/controls",
      "model_module_version": "1.5.0",
      "model_name": "ButtonModel",
      "state": {
       "button_style": "success",
       "description": "run",
       "layout": "IPY_MODEL_92689d688674442fb171a444e1a369e8",
       "style": "IPY_MODEL_cad008a5fafd427d9394e3ea8b4906be",
       "tooltip": "execute the script based on the user inputs"
      }
     },
     "767dc9462226491bbe6dde40e3164997": {
      "model_module": "@jupyter-widgets/controls",
      "model_module_version": "1.5.0",
      "model_name": "VBoxModel",
      "state": {
       "children": [
        "IPY_MODEL_db5b5f76a4334baf9f4f0fcacb2c3892",
        "IPY_MODEL_4116704f55924f63adbcd65219e0dff4"
       ],
       "layout": "IPY_MODEL_fa19942909a24592b769822dea5c4547"
      }
     },
     "7749d5dfee05452bba4791453d00bcfe": {
      "model_module": "@jupyter-widgets/controls",
      "model_module_version": "1.5.0",
      "model_name": "ButtonModel",
      "state": {
       "icon": "question-circle",
       "layout": "IPY_MODEL_e7c8203a47864e5bb0916164ca9de480",
       "style": "IPY_MODEL_2455a0ac6395453eb37a9dd21b6c4b0d",
       "tooltip": "describes the functionality of elements in the RunApp interface"
      }
     },
     "7764a572a5b14db9af1aef4dc2652aea": {
      "model_module": "@jupyter-widgets/base",
      "model_module_version": "1.2.0",
      "model_name": "LayoutModel",
      "state": {
       "border": "0px",
       "margin": "0px",
       "padding": "0px"
      }
     },
     "77b3e9ac107e40968edfe05c2c5bface": {
      "model_module": "@jupyter-widgets/controls",
      "model_module_version": "1.5.0",
      "model_name": "ButtonStyleModel",
      "state": {
       "font_weight": "bold"
      }
     },
     "77d12c1aa56f4caaadcdf6cf2006e08d": {
      "model_module": "@jupyter-widgets/base",
      "model_module_version": "1.2.0",
      "model_name": "LayoutModel",
      "state": {}
     },
     "78105f05ad994d3cb7f1bc0fc2e250e5": {
      "model_module": "@jupyter-widgets/base",
      "model_module_version": "1.2.0",
      "model_name": "LayoutModel",
      "state": {}
     },
     "784044cdd6334366b39f6c98a844756b": {
      "model_module": "@jupyter-widgets/controls",
      "model_module_version": "1.5.0",
      "model_name": "DescriptionStyleModel",
      "state": {
       "description_width": ""
      }
     },
     "78449ad7a600477c8c279d2806ea31ba": {
      "model_module": "@jupyter-widgets/controls",
      "model_module_version": "1.5.0",
      "model_name": "DescriptionStyleModel",
      "state": {
       "description_width": ""
      }
     },
     "78a2a1a0ad434d6dbdad98f5f73253de": {
      "model_module": "@jupyter-widgets/controls",
      "model_module_version": "1.5.0",
      "model_name": "ButtonStyleModel",
      "state": {
       "font_weight": "bold"
      }
     },
     "78b0b7ad27a44e9a9b9f58ad713fb7ef": {
      "model_module": "@jupyter-widgets/controls",
      "model_module_version": "1.5.0",
      "model_name": "BoxModel",
      "state": {
       "children": [
        "IPY_MODEL_6ce0fe51d35449bea44dc0277914bfe4"
       ],
       "layout": "IPY_MODEL_614d8fa67db444999818010d98083ba9"
      }
     },
     "78ba1df9fb2d40dbbc772225e3e5769d": {
      "model_module": "@jupyter-widgets/controls",
      "model_module_version": "1.5.0",
      "model_name": "VBoxModel",
      "state": {
       "children": [
        "IPY_MODEL_6a43bc0a04474eff8dc3d9f7e7dcf8c0",
        "IPY_MODEL_5184edf3385c47fa96e1dd6196e51454"
       ],
       "layout": "IPY_MODEL_4ebe6a990c5444fb851ecb40e4970785"
      }
     },
     "78c5b97b7c9d4921bc15aa0d786dcc79": {
      "model_module": "@jupyter-widgets/base",
      "model_module_version": "1.2.0",
      "model_name": "LayoutModel",
      "state": {}
     },
     "78e0ae36686644cb9b3527c788c8405a": {
      "model_module": "@jupyter-widgets/output",
      "model_module_version": "1.0.0",
      "model_name": "OutputModel",
      "state": {
       "layout": "IPY_MODEL_bcf07d99694b47098992a0536290b32e"
      }
     },
     "7946841394e14dff970a8b6a58cb2402": {
      "model_module": "@jupyter-widgets/controls",
      "model_module_version": "1.5.0",
      "model_name": "CheckboxModel",
      "state": {
       "disabled": false,
       "indent": false,
       "layout": "IPY_MODEL_b56b833d90ee49f7a15218f62ec640fb",
       "style": "IPY_MODEL_353fb0b3ba914503be94a7ea2dbf87f8",
       "value": false
      }
     },
     "795e8064d19e4294aa32a36cc4f1a117": {
      "model_module": "@jupyter-widgets/controls",
      "model_module_version": "1.5.0",
      "model_name": "DescriptionStyleModel",
      "state": {
       "description_width": ""
      }
     },
     "79c4601c4b294a18b222f745b50e15d3": {
      "model_module": "@jupyter-widgets/controls",
      "model_module_version": "1.5.0",
      "model_name": "ButtonModel",
      "state": {
       "button_style": "info",
       "description": "show log",
       "layout": "IPY_MODEL_cffae13d00f84a118fee708aa6a970da",
       "style": "IPY_MODEL_1f8c861c41784ec0aa80e5f59cb73006",
       "tooltip": "show a log of when the script was executed to generate the outputs, and by who"
      }
     },
     "7a9852551d3e4e96ac5317fc30f0db2a": {
      "model_module": "@jupyter-widgets/controls",
      "model_module_version": "1.5.0",
      "model_name": "AccordionModel",
      "state": {
       "_titles": {
        "0": "eplus_pipework_params"
       },
       "children": [
        "IPY_MODEL_767dc9462226491bbe6dde40e3164997"
       ],
       "layout": "IPY_MODEL_14e8deff890049348c85f48350d17667",
       "selected_index": null
      }
     },
     "7ad6342e40844153809a850af15732ac": {
      "model_module": "@jupyter-widgets/controls",
      "model_module_version": "1.5.0",
      "model_name": "ButtonStyleModel",
      "state": {
       "font_weight": "bold"
      }
     },
     "7b020d7080cc440baed7d6ef0f7517af": {
      "model_module": "@jupyter-widgets/output",
      "model_module_version": "1.0.0",
      "model_name": "OutputModel",
      "state": {
       "layout": "IPY_MODEL_8de31d3f143244fdb9e3e46c45730b30",
       "outputs": [
        {
         "data": {
          "application/vnd.jupyter.widget-view+json": {
           "model_id": "",
           "version_major": 2,
           "version_minor": 0
          },
          "text/plain": "Grid(columns_fit='size_to_fit', compress_data=True, export_mode='disabled', height='350px', menu={'buttons': […"
         },
         "metadata": {},
         "output_type": "display_data"
        }
       ]
      }
     },
     "7b38d53f9e934e968b69d8de37e8bfa2": {
      "model_module": "@jupyter-widgets/controls",
      "model_module_version": "1.5.0",
      "model_name": "AccordionModel",
      "state": {
       "_titles": {
        "0": "eplus_pipework_params"
       },
       "children": [
        "IPY_MODEL_78ba1df9fb2d40dbbc772225e3e5769d"
       ],
       "layout": "IPY_MODEL_75a252f6c7b24586b62a2b4ee26aa1dd"
      }
     },
     "7b74cb1a7b704cff9831b3e536b07057": {
      "model_module": "@jupyter-widgets/controls",
      "model_module_version": "1.5.0",
      "model_name": "ButtonModel",
      "state": {
       "button_style": "warning",
       "description": "edit inputs",
       "layout": "IPY_MODEL_b6cfe303ef104944938f63be2b9b35fb",
       "style": "IPY_MODEL_bdd3242a64ff41828568405f000d6793",
       "tooltip": "edit the user input information that is used when the script is executed"
      }
     },
     "7bc53c0eee26404f8f4444cc6e02fdd1": {
      "model_module": "@jupyter-widgets/controls",
      "model_module_version": "1.5.0",
      "model_name": "TextModel",
      "state": {
       "description": "script",
       "disabled": true,
       "layout": "IPY_MODEL_24767cf716e24584b257dac2689e6149",
       "style": "IPY_MODEL_f7646eec7f1141f198bf362d8ecb3b45",
       "value": "C:\\engDev\\git_mf\\MF_Toolbox\\dev\\mf_scripts\\eplus_pipework_params.py"
      }
     },
     "7bfba100ec054f65870522f2177ce6f0": {
      "model_module": "@jupyter-widgets/base",
      "model_module_version": "1.2.0",
      "model_name": "LayoutModel",
      "state": {
       "height": "30px",
       "max_width": "30px",
       "padding": "3px"
      }
     },
     "7c600b35da1844a186bd3a9c0fc37c85": {
      "model_module": "@jupyter-widgets/base",
      "model_module_version": "1.2.0",
      "model_name": "LayoutModel",
      "state": {
       "height": "30px",
       "width": "auto"
      }
     },
     "7c66777626974a33aeb04b4898eafea8": {
      "model_module": "@jupyter-widgets/base",
      "model_module_version": "1.2.0",
      "model_name": "LayoutModel",
      "state": {}
     },
     "7e4246a08eff4ae6ada640072fe627c8": {
      "model_module": "@jupyter-widgets/controls",
      "model_module_version": "1.5.0",
      "model_name": "HBoxModel",
      "state": {
       "children": [
        "IPY_MODEL_f5a2272a02684411b6e98b992abe0c35",
        "IPY_MODEL_7749d5dfee05452bba4791453d00bcfe",
        "IPY_MODEL_c6c88e6e4ac54f95bce54cd95fbf6c70",
        "IPY_MODEL_7b74cb1a7b704cff9831b3e536b07057",
        "IPY_MODEL_cfbc0121c43b4f478f1a8bd4b3e7a2b5",
        "IPY_MODEL_6ab7e9d73e8c400ba1500b781d8038da",
        "IPY_MODEL_ed6ff23bd4c3412bb4cd8fb5174173d4"
       ],
       "layout": "IPY_MODEL_cd605729bbed40deb2a71f0411cebe3a"
      }
     },
     "7fde3430a46245b3871fec7e8016c1ed": {
      "model_module": "@jupyter-widgets/controls",
      "model_module_version": "1.5.0",
      "model_name": "ButtonModel",
      "state": {
       "button_style": "info",
       "description": "preview outputs",
       "layout": "IPY_MODEL_efc6479dcdcf4eb9a76f0e3df27a8a53",
       "style": "IPY_MODEL_003aa591127f4417b04eb882c009c3d6",
       "tooltip": "show a preview of the output files generated when the script runs"
      }
     },
     "7ffc8ff991bb416cb846dc8b5f9b1673": {
      "model_module": "@jupyter-widgets/controls",
      "model_module_version": "1.5.0",
      "model_name": "DescriptionStyleModel",
      "state": {
       "description_width": ""
      }
     },
     "80ec4027f44b4fbf926174cf64a4e23a": {
      "model_module": "@jupyter-widgets/base",
      "model_module_version": "1.2.0",
      "model_name": "LayoutModel",
      "state": {}
     },
     "814434cd213748cc8ebbffbbc74ed5e9": {
      "model_module": "@jupyter-widgets/controls",
      "model_module_version": "1.5.0",
      "model_name": "HBoxModel",
      "state": {
       "children": [
        "IPY_MODEL_0381930e00774ab8948bd8ed098e8cad",
        "IPY_MODEL_37ee61aec4114982a3622dfc02a3fc70"
       ],
       "layout": "IPY_MODEL_fc2adb68c88d4949addaba59fd589daa"
      }
     },
     "814a006b7973487882524d03e5615311": {
      "model_module": "@jupyter-widgets/controls",
      "model_module_version": "1.5.0",
      "model_name": "ButtonModel",
      "state": {
       "button_style": "info",
       "description": "show guide",
       "layout": "IPY_MODEL_c97e201da7134501abd27f6bb1b515e5",
       "style": "IPY_MODEL_8bbdccc62529435f84a6e3bc3c71523d",
       "tooltip": "read the \"docstring\", ie. the documentation that was written to accompany the script"
      }
     },
     "81a3eb92fecb44958bdd32409f2722ba": {
      "model_module": "@jupyter-widgets/controls",
      "model_module_version": "1.5.0",
      "model_name": "AccordionModel",
      "state": {
       "_titles": {
        "0": "eplus_pipework_params"
       },
       "children": [
        "IPY_MODEL_45a0fe53020f49ac870b0cbff8788d81"
       ],
       "layout": "IPY_MODEL_e636172e06ec4051b79c1e52912ec629"
      }
     },
     "8254c360d27f460fa04e2c530f6db83c": {
      "model_module": "@jupyter-widgets/controls",
      "model_module_version": "1.5.0",
      "model_name": "HBoxModel",
      "state": {
       "children": [
        "IPY_MODEL_aaa0b9ac356f479c83a5d2e53397b8ed",
        "IPY_MODEL_b539ca35d6194e8d8bf6a5e767d531f9",
        "IPY_MODEL_59bc22ad4abf46d2ba1029b34d2acba5",
        "IPY_MODEL_5d9c968fb4bf4476b94b744cbdb3ffc4",
        "IPY_MODEL_96ed993750464509a79cb7c0b8bd8b99",
        "IPY_MODEL_eb1bce88c689422ba0c3472519f8481c",
        "IPY_MODEL_0283e68458ff4018a57e49c9a3c9aa62"
       ],
       "layout": "IPY_MODEL_50431e68b38d489e91c6b701e4dde508"
      }
     },
     "82c39a9e38d643109a432b3963d3ddef": {
      "model_module": "@jupyter-widgets/output",
      "model_module_version": "1.0.0",
      "model_name": "OutputModel",
      "state": {
       "layout": "IPY_MODEL_49b8655ac88e4722aa715f03c2b2e0c5",
       "outputs": [
        {
         "data": {
          "text/plain": "'eplus_pipework_params'"
         },
         "metadata": {},
         "output_type": "display_data"
        },
        {
         "data": {
          "text/plain": "b'fpth_script: C:\\\\engDev\\\\git_mf\\\\MF_Toolbox\\\\dev\\\\mf_scripts\\\\eplus_pipework_params.py\\r\\nfpth_config: C:\\\\engDev\\\\git_mf\\\\ipyrun\\\\ipyrun\\\\appdata\\\\config\\\\config-eplus_pipework_params.json\\r\\nfpth_inputs: C:\\\\engDev\\\\git_mf\\\\ipyrun\\\\ipyrun\\\\appdata\\\\inputs\\\\inputs-eplus_pipework_params.csv\\r\\nfile outputted to here: ..\\\\data\\\\external\\\\eplus_pipework_params.csv\\r\\npipework params extracted from ePlus code file\\r\\n'"
         },
         "metadata": {},
         "output_type": "display_data"
        }
       ]
      }
     },
     "82e6d4030dc849f3af9b7da95654d897": {
      "model_module": "@jupyter-widgets/controls",
      "model_module_version": "1.5.0",
      "model_name": "VBoxModel",
      "state": {
       "children": [
        "IPY_MODEL_55279f59a5a8485187baaba94cdbbdb1",
        "IPY_MODEL_a831d79af4014501afdfd374e8cc86af"
       ],
       "layout": "IPY_MODEL_567f4ac4b8dc470b90cc236190f6e9ee"
      }
     },
     "83d032abb80e4643ae138c0715b7e6b0": {
      "model_module": "@jupyter-widgets/base",
      "model_module_version": "1.2.0",
      "model_name": "LayoutModel",
      "state": {}
     },
     "844b64f7fcd54e4cac6f9b08bbefd063": {
      "model_module": "@jupyter-widgets/controls",
      "model_module_version": "1.5.0",
      "model_name": "ButtonModel",
      "state": {
       "icon": "question-circle",
       "layout": "IPY_MODEL_39a3eedda2614d159ded4be6dac00148",
       "style": "IPY_MODEL_1e1b440e814e4698a8d757968757fd37",
       "tooltip": "describes the functionality of elements in the RunApp interface"
      }
     },
     "85929fa340fe475aa40e6fbd0ffc8841": {
      "model_module": "@jupyter-widgets/base",
      "model_module_version": "1.2.0",
      "model_name": "LayoutModel",
      "state": {}
     },
     "85af7f52de934143bbf33a070757767a": {
      "model_module": "@jupyter-widgets/controls",
      "model_module_version": "1.5.0",
      "model_name": "VBoxModel",
      "state": {
       "children": [
        "IPY_MODEL_703fd75c53374c47b8a76a4ad5eef0ac",
        "IPY_MODEL_f3c872565ede4d1a822bc6d87faa8b26"
       ],
       "layout": "IPY_MODEL_62885ea4d82e4fde8b938f101c8f3085"
      }
     },
     "85e9c8ee86584aa59c4f7f74ebe19412": {
      "model_module": "@jupyter-widgets/controls",
      "model_module_version": "1.5.0",
      "model_name": "SelectMultipleModel",
      "state": {
       "_options_labels": [
        "..\\data\\external\\eplus_pipework_params.csv"
       ],
       "description": "outputs",
       "index": [],
       "layout": "IPY_MODEL_0268b711509646ac8dc8ede6d0e7d7ca",
       "rows": 4,
       "style": "IPY_MODEL_1225281e6f9b41b0ac411adba59ead56"
      }
     },
     "87330f27d9844809be9add9ead78f896": {
      "model_module": "@jupyter-widgets/controls",
      "model_module_version": "1.5.0",
      "model_name": "TextModel",
      "state": {
       "description": "inputs",
       "disabled": true,
       "layout": "IPY_MODEL_171f33c952654e7a85019baf7df8b65e",
       "style": "IPY_MODEL_795e8064d19e4294aa32a36cc4f1a117",
       "value": "C:\\engDev\\git_mf\\ipyrun\\ipyrun\\appdata\\inputs\\inputs-eplus_pipework_params.csv"
      }
     },
     "87a66a178f47480db74613982b6f4634": {
      "model_module": "@jupyter-widgets/controls",
      "model_module_version": "1.5.0",
      "model_name": "ButtonModel",
      "state": {
       "button_style": "info",
       "description": "show guide",
       "layout": "IPY_MODEL_9a292624224547be8b3267ee540693f9",
       "style": "IPY_MODEL_f82c52614b8c4dab9d74a015481d92e1",
       "tooltip": "read the \"docstring\", ie. the documentation that was written to accompany the script"
      }
     },
     "89a1f825c8c04513a7d17039f2f5e737": {
      "model_module": "@jupyter-widgets/base",
      "model_module_version": "1.2.0",
      "model_name": "LayoutModel",
      "state": {}
     },
     "8a7519a8d1df4f928809b70fa209b3ab": {
      "model_module": "@jupyter-widgets/controls",
      "model_module_version": "1.5.0",
      "model_name": "ButtonModel",
      "state": {
       "button_style": "info",
       "description": "show log",
       "layout": "IPY_MODEL_33e0cf02717a4c36be714c5412731542",
       "style": "IPY_MODEL_41234046bc0d4e6ba6c055155d99713b",
       "tooltip": "show a log of when the script was executed to generate the outputs, and by who"
      }
     },
     "8a8430eeb72c4f5e83d109f7e2b053b2": {
      "model_module": "@jupyter-widgets/controls",
      "model_module_version": "1.5.0",
      "model_name": "ButtonModel",
      "state": {
       "icon": "question-circle",
       "layout": "IPY_MODEL_fc4c4dcc824a4394a16a7bdaf148e661",
       "style": "IPY_MODEL_78a2a1a0ad434d6dbdad98f5f73253de",
       "tooltip": "describes the functionality of elements in the RunApp interface"
      }
     },
     "8a8ee1f10ccf4d138b8f9d496fdc0f95": {
      "model_module": "@jupyter-widgets/controls",
      "model_module_version": "1.5.0",
      "model_name": "DescriptionStyleModel",
      "state": {
       "description_width": ""
      }
     },
     "8b67c9e7d28a45a19806f37dc1108dbd": {
      "model_module": "@jupyter-widgets/base",
      "model_module_version": "1.2.0",
      "model_name": "LayoutModel",
      "state": {}
     },
     "8b8c72d140894cfeb48ff27b49517612": {
      "model_module": "@jupyter-widgets/controls",
      "model_module_version": "1.5.0",
      "model_name": "VBoxModel",
      "state": {
       "children": [
        "IPY_MODEL_a80015dd75fb4baaa4d900ab90cc8b78",
        "IPY_MODEL_3ebd8d48ea0149c9b45af393b8e3690c",
        "IPY_MODEL_aa3a09f0c6c94b20b2dbd2b84a7d39de"
       ],
       "layout": "IPY_MODEL_44b7a891472247d0ae610cd4d74d07df"
      }
     },
     "8bbdccc62529435f84a6e3bc3c71523d": {
      "model_module": "@jupyter-widgets/controls",
      "model_module_version": "1.5.0",
      "model_name": "ButtonStyleModel",
      "state": {
       "font_weight": "bold"
      }
     },
     "8c21010f86f4493d91bb71f3dfdd2895": {
      "model_module": "@jupyter-widgets/base",
      "model_module_version": "1.2.0",
      "model_name": "LayoutModel",
      "state": {
       "height": "30px",
       "width": "auto"
      }
     },
     "8c51c9073a9f443aba899d2e1020b64f": {
      "model_module": "@jupyter-widgets/controls",
      "model_module_version": "1.5.0",
      "model_name": "ButtonStyleModel",
      "state": {
       "font_weight": "bold"
      }
     },
     "8cf2056b8fd6464e913efd00b7ac9f50": {
      "model_module": "@jupyter-widgets/base",
      "model_module_version": "1.2.0",
      "model_name": "LayoutModel",
      "state": {
       "width": "100%"
      }
     },
     "8de31d3f143244fdb9e3e46c45730b30": {
      "model_module": "@jupyter-widgets/base",
      "model_module_version": "1.2.0",
      "model_name": "LayoutModel",
      "state": {}
     },
     "8e6840a4a55d407a9fe1a260bb632160": {
      "model_module": "@jupyter-widgets/controls",
      "model_module_version": "1.5.0",
      "model_name": "ButtonStyleModel",
      "state": {
       "font_weight": "bold"
      }
     },
     "8ebbf5c6aded42c1945478e1254893ac": {
      "model_module": "@jupyter-widgets/base",
      "model_module_version": "1.2.0",
      "model_name": "LayoutModel",
      "state": {}
     },
     "8f38c5173d6b4f559e1e0a54c100cf57": {
      "model_module": "@jupyter-widgets/base",
      "model_module_version": "1.2.0",
      "model_name": "LayoutModel",
      "state": {
       "align_items": "stretch",
       "width": "100%"
      }
     },
     "8f42fd779367469a96b16f520f3813ec": {
      "model_module": "@jupyter-widgets/base",
      "model_module_version": "1.2.0",
      "model_name": "LayoutModel",
      "state": {
       "height": "30px",
       "width": "auto"
      }
     },
     "90d43414fcfe4b2088b18a8f3fc0c0f2": {
      "model_module": "@jupyter-widgets/controls",
      "model_module_version": "1.5.0",
      "model_name": "ButtonStyleModel",
      "state": {
       "font_weight": "bold"
      }
     },
     "92689d688674442fb171a444e1a369e8": {
      "model_module": "@jupyter-widgets/base",
      "model_module_version": "1.2.0",
      "model_name": "LayoutModel",
      "state": {}
     },
     "93531a48835b451ebf90d2c1bfb7d87d": {
      "model_module": "@jupyter-widgets/base",
      "model_module_version": "1.2.0",
      "model_name": "LayoutModel",
      "state": {
       "width": "5%"
      }
     },
     "93e1a3b6eaa340a5a3bb52779d468afa": {
      "model_module": "@jupyter-widgets/controls",
      "model_module_version": "1.5.0",
      "model_name": "HBoxModel",
      "state": {
       "children": [
        "IPY_MODEL_51fa1cc8bb78485785c31560bfc8a858",
        "IPY_MODEL_43e857c1ec7047e6bc571fa232af1072",
        "IPY_MODEL_87a66a178f47480db74613982b6f4634",
        "IPY_MODEL_a461ae268e814586987b4b618d987e40",
        "IPY_MODEL_f3b5174bae4d4d99bca2a75a91e16d3d",
        "IPY_MODEL_d75b67daa64a4de799b33d4010c2eab8",
        "IPY_MODEL_d85aab71c51a4e97af129bc6a650665c"
       ],
       "layout": "IPY_MODEL_1b565c46b8204222b223891331936029"
      }
     },
     "94b3206cfb0a484985970dadf7fb91c7": {
      "model_module": "@jupyter-widgets/controls",
      "model_module_version": "1.5.0",
      "model_name": "ButtonModel",
      "state": {
       "icon": "eye-slash",
       "layout": "IPY_MODEL_5a9f0e8ff3b8473dbc589e8f90f135c0",
       "style": "IPY_MODEL_77b3e9ac107e40968edfe05c2c5bface",
       "tooltip": "removes temporary output view"
      }
     },
     "94c6e07a93ec49f699062547a79a3d5f": {
      "model_module": "@jupyter-widgets/output",
      "model_module_version": "1.0.0",
      "model_name": "OutputModel",
      "state": {
       "layout": "IPY_MODEL_85929fa340fe475aa40e6fbd0ffc8841",
       "outputs": [
        {
         "data": {
          "application/vnd.jupyter.widget-view+json": {
           "model_id": "",
           "version_major": 2,
           "version_minor": 0
          },
          "text/plain": "Grid(columns_fit='size_to_fit', compress_data=True, export_mode='disabled', height='350px', menu={'buttons': […"
         },
         "metadata": {},
         "output_type": "display_data"
        }
       ]
      }
     },
     "950c29d1182b46a090058d3d98e495dc": {
      "model_module": "@jupyter-widgets/base",
      "model_module_version": "1.2.0",
      "model_name": "LayoutModel",
      "state": {}
     },
     "957cdbf3ac1f47aba47d56e82a80356d": {
      "model_module": "@jupyter-widgets/controls",
      "model_module_version": "1.5.0",
      "model_name": "SelectMultipleModel",
      "state": {
       "_options_labels": [
        "..\\data\\external\\eplus_pipework_params.csv"
       ],
       "description": "outputs",
       "index": [],
       "layout": "IPY_MODEL_1ad96f35996c449eae0d9d64cb711358",
       "rows": 4,
       "style": "IPY_MODEL_984e263fceca4cfda17f85c6ad00c2b3"
      }
     },
     "959499ec9814476f981f81806cf36f28": {
      "model_module": "@jupyter-widgets/base",
      "model_module_version": "1.2.0",
      "model_name": "LayoutModel",
      "state": {}
     },
     "95b70340394b47d097bc6225b2e30293": {
      "model_module": "@jupyter-widgets/controls",
      "model_module_version": "1.5.0",
      "model_name": "ButtonStyleModel",
      "state": {
       "font_weight": "bold"
      }
     },
     "966c4cc33d7c44bf9a536865e2ef190a": {
      "model_module": "@jupyter-widgets/controls",
      "model_module_version": "1.5.0",
      "model_name": "ButtonStyleModel",
      "state": {
       "font_weight": "bold"
      }
     },
     "96ed993750464509a79cb7c0b8bd8b99": {
      "model_module": "@jupyter-widgets/controls",
      "model_module_version": "1.5.0",
      "model_name": "ButtonModel",
      "state": {
       "button_style": "success",
       "description": "run",
       "layout": "IPY_MODEL_b500659d57214db68488e806fd4c54b4",
       "style": "IPY_MODEL_64ef297562314d6d8d7393a5bd61599e",
       "tooltip": "execute the script based on the user inputs"
      }
     },
     "974cd1abce494782955aa95a38f498e5": {
      "model_module": "@jupyter-widgets/base",
      "model_module_version": "1.2.0",
      "model_name": "LayoutModel",
      "state": {
       "width": "5%"
      }
     },
     "976341c741ed4d8595d3f50266d5807c": {
      "model_module": "@jupyter-widgets/base",
      "model_module_version": "1.2.0",
      "model_name": "LayoutModel",
      "state": {}
     },
     "97b1048e8abc4c95828e0f26a0761931": {
      "model_module": "@jupyter-widgets/base",
      "model_module_version": "1.2.0",
      "model_name": "LayoutModel",
      "state": {}
     },
     "984e263fceca4cfda17f85c6ad00c2b3": {
      "model_module": "@jupyter-widgets/controls",
      "model_module_version": "1.5.0",
      "model_name": "DescriptionStyleModel",
      "state": {
       "description_width": ""
      }
     },
     "988d7e953bbf41ed93b1edb5eed76fdf": {
      "model_module": "@jupyter-widgets/controls",
      "model_module_version": "1.5.0",
      "model_name": "ButtonStyleModel",
      "state": {
       "font_weight": "bold"
      }
     },
     "9901ec3c758e4709b896f1aa4b0494b0": {
      "model_module": "@jupyter-widgets/base",
      "model_module_version": "1.2.0",
      "model_name": "LayoutModel",
      "state": {
       "height": "30px",
       "width": "auto"
      }
     },
     "991273142c524a2898636129d9aec4c5": {
      "model_module": "@jupyter-widgets/controls",
      "model_module_version": "1.5.0",
      "model_name": "ButtonModel",
      "state": {
       "button_style": "warning",
       "description": "edit inputs",
       "layout": "IPY_MODEL_8b67c9e7d28a45a19806f37dc1108dbd",
       "style": "IPY_MODEL_d06d316000a0438babad6d0196a2ca60",
       "tooltip": "edit the user input information that is used when the script is executed"
      }
     },
     "99bf0ae070644ccbba1336a21fc9a467": {
      "model_module": "@jupyter-widgets/base",
      "model_module_version": "1.2.0",
      "model_name": "LayoutModel",
      "state": {
       "width": "100%"
      }
     },
     "9a2341ff5315499493a687c1327a4d64": {
      "model_module": "@jupyter-widgets/controls",
      "model_module_version": "1.5.0",
      "model_name": "DescriptionStyleModel",
      "state": {
       "description_width": ""
      }
     },
     "9a292624224547be8b3267ee540693f9": {
      "model_module": "@jupyter-widgets/base",
      "model_module_version": "1.2.0",
      "model_name": "LayoutModel",
      "state": {}
     },
     "9b8c0c1541a3489eb4f0dde8b364d2bb": {
      "model_module": "@jupyter-widgets/base",
      "model_module_version": "1.2.0",
      "model_name": "LayoutModel",
      "state": {}
     },
     "9bb1f290ad3844499b97b408fe47ab4f": {
      "model_module": "@jupyter-widgets/controls",
      "model_module_version": "1.5.0",
      "model_name": "ButtonStyleModel",
      "state": {
       "font_weight": "bold"
      }
     },
     "9bb25c82f7f54b939c4f02430cfe6ba5": {
      "model_module": "@jupyter-widgets/controls",
      "model_module_version": "1.5.0",
      "model_name": "ButtonModel",
      "state": {
       "button_style": "info",
       "description": "preview outputs",
       "layout": "IPY_MODEL_ff29b6af174f45ab9fe4038766a503e0",
       "style": "IPY_MODEL_c057e4e0342942fe8c0577b323ad4287",
       "tooltip": "show a preview of the output files generated when the script runs"
      }
     },
     "9c7205270383481fab674a798e6bdc14": {
      "model_module": "@jupyter-widgets/controls",
      "model_module_version": "1.5.0",
      "model_name": "ButtonModel",
      "state": {
       "button_style": "info",
       "description": "show source code",
       "layout": "IPY_MODEL_f8c2c3959d8046aa9656978fefb2984f",
       "style": "IPY_MODEL_0d354d79ab1e485aa90d1f5a0952ea32",
       "tooltip": "shows the raw python code in the preview window below"
      }
     },
     "9c8044e53bc04677bdef4cdb901a1535": {
      "model_module": "@jupyter-widgets/controls",
      "model_module_version": "1.5.0",
      "model_name": "DescriptionStyleModel",
      "state": {
       "description_width": ""
      }
     },
     "9c818972f1804adc96b9ce896724c166": {
      "model_module": "@jupyter-widgets/base",
      "model_module_version": "1.2.0",
      "model_name": "LayoutModel",
      "state": {
       "height": "30px",
       "width": "auto"
      }
     },
     "9ca62f008e14456e94e32204335883d8": {
      "model_module": "@jupyter-widgets/controls",
      "model_module_version": "1.5.0",
      "model_name": "SelectMultipleModel",
      "state": {
       "_options_labels": [
        "..\\data\\external\\eplus_pipework_params.csv"
       ],
       "description": "outputs",
       "index": [],
       "layout": "IPY_MODEL_dab159b3ab3b4ba5bd2875f8043c0305",
       "rows": 4,
       "style": "IPY_MODEL_0f2b35b845c5422bb47420545eb2bd13"
      }
     },
     "9d2cfe6036f549faa2b0fa3437024dd4": {
      "model_module": "@jupyter-widgets/output",
      "model_module_version": "1.0.0",
      "model_name": "OutputModel",
      "state": {
       "layout": "IPY_MODEL_3d99b9c89c5648ec8349eacd8207af84"
      }
     },
     "9d83d540e753458788e544b3dc4a415e": {
      "model_module": "@jupyter-widgets/controls",
      "model_module_version": "1.5.0",
      "model_name": "ButtonModel",
      "state": {
       "button_style": "success",
       "description": "run",
       "layout": "IPY_MODEL_2cabb805d65f48cca7a54569a3e46f2c",
       "style": "IPY_MODEL_6e44649ab75d47c88b0b5bd89892d9a2",
       "tooltip": "execute the script based on the user inputs"
      }
     },
     "9dac17b32cb34efe922fc70de73e8c62": {
      "model_module": "@jupyter-widgets/controls",
      "model_module_version": "1.5.0",
      "model_name": "ButtonStyleModel",
      "state": {
       "font_weight": "bold"
      }
     },
     "9e0b9d3d9d2141178ec69e7f31f41986": {
      "model_module": "@jupyter-widgets/controls",
      "model_module_version": "1.5.0",
      "model_name": "ButtonModel",
      "state": {
       "button_style": "success",
       "description": "run",
       "layout": "IPY_MODEL_f2a1f6168985487e9d03f84182eec0d0",
       "style": "IPY_MODEL_de0be4b08e3640bd906aaf65b8679c3d",
       "tooltip": "execute the script based on the user inputs"
      }
     },
     "a093c338af834ee8b15b9dfed61a08fe": {
      "model_module": "@jupyter-widgets/base",
      "model_module_version": "1.2.0",
      "model_name": "LayoutModel",
      "state": {}
     },
     "a1ba7e5d8e4945ec90f2fcad5911fcb4": {
      "model_module": "@jupyter-widgets/controls",
      "model_module_version": "1.5.0",
      "model_name": "BoxModel",
      "state": {
       "children": [
        "IPY_MODEL_72316fc082e14979ac98d46ba5828f2a"
       ],
       "layout": "IPY_MODEL_17fe42d2f5ba4e27b668e40495e77bda"
      }
     },
     "a1e867b1d5bf45738b0baf8206611800": {
      "model_module": "@jupyter-widgets/controls",
      "model_module_version": "1.5.0",
      "model_name": "DescriptionStyleModel",
      "state": {
       "description_width": ""
      }
     },
     "a2fceaa3dc6d45e69fe4377abe2f1e7f": {
      "model_module": "@jupyter-widgets/base",
      "model_module_version": "1.2.0",
      "model_name": "LayoutModel",
      "state": {}
     },
     "a3148718873c419fa8fee9c2e8a3585b": {
      "model_module": "@jupyter-widgets/base",
      "model_module_version": "1.2.0",
      "model_name": "LayoutModel",
      "state": {
       "width": "5%"
      }
     },
     "a314bb721c1b4dd8a7a511a8f6b039bb": {
      "model_module": "@jupyter-widgets/controls",
      "model_module_version": "1.5.0",
      "model_name": "BoxModel",
      "state": {
       "children": [
        "IPY_MODEL_49353a879e1b4c92919404f736bd72a7"
       ],
       "layout": "IPY_MODEL_faa4cff7fe594ba6ae5b002b48908e2f"
      }
     },
     "a33c89a0c00843a797d619065068bdf1": {
      "model_module": "@jupyter-widgets/controls",
      "model_module_version": "1.5.0",
      "model_name": "ButtonStyleModel",
      "state": {
       "font_weight": "bold"
      }
     },
     "a36ead66340f453e9712581ef0ad8165": {
      "model_module": "@jupyter-widgets/controls",
      "model_module_version": "1.5.0",
      "model_name": "ButtonModel",
      "state": {
       "icon": "question-circle",
       "layout": "IPY_MODEL_415108b08a924980b5e4295d34d50ebc",
       "style": "IPY_MODEL_433762b152a044c0a31d38d113ebbed0",
       "tooltip": "describes the functionality of elements in the RunApp interface"
      }
     },
     "a461ae268e814586987b4b618d987e40": {
      "model_module": "@jupyter-widgets/controls",
      "model_module_version": "1.5.0",
      "model_name": "ButtonModel",
      "state": {
       "button_style": "warning",
       "description": "edit inputs",
       "layout": "IPY_MODEL_89a1f825c8c04513a7d17039f2f5e737",
       "style": "IPY_MODEL_41b57553efa847bb842523ed770935b4",
       "tooltip": "edit the user input information that is used when the script is executed"
      }
     },
     "a4be6b4aace44ebeb60b794e4b1e1408": {
      "model_module": "@jupyter-widgets/controls",
      "model_module_version": "1.5.0",
      "model_name": "SelectMultipleModel",
      "state": {
       "description": "outputs",
       "index": [],
       "layout": "IPY_MODEL_0577ac71cc5341a29f8b3c3fa2e297ee",
       "rows": 4,
       "style": "IPY_MODEL_259c10e82d0a4dfb804b6dab3ea51061"
      }
     },
     "a5737c3f179c49c2b135a054860d6c19": {
      "model_module": "@jupyter-widgets/base",
      "model_module_version": "1.2.0",
      "model_name": "LayoutModel",
      "state": {
       "width": "5%"
      }
     },
     "a5a53ddc2f064d13aed4ffc06895ae6d": {
      "model_module": "@jupyter-widgets/controls",
      "model_module_version": "1.5.0",
      "model_name": "ButtonModel",
      "state": {
       "button_style": "info",
       "description": "show guide",
       "layout": "IPY_MODEL_7c66777626974a33aeb04b4898eafea8",
       "style": "IPY_MODEL_557ec18eeada475493bec118c221f3f8",
       "tooltip": "read the \"docstring\", ie. the documentation that was written to accompany the script"
      }
     },
     "a5f6a635b4024954981b175a7aca6f0b": {
      "model_module": "@jupyter-widgets/base",
      "model_module_version": "1.2.0",
      "model_name": "LayoutModel",
      "state": {
       "height": "30px",
       "width": "auto"
      }
     },
     "a6a2fae79e1047fda776a5e29e399220": {
      "model_module": "@jupyter-widgets/controls",
      "model_module_version": "1.5.0",
      "model_name": "BoxModel",
      "state": {
       "children": [
        "IPY_MODEL_f93e7a34b36e44e3a3ff625f965346fc"
       ],
       "layout": "IPY_MODEL_639c4dfcb9cf4ede9d846eb5e4958f9f"
      }
     },
     "a6bf311314b64aadbf4599ab98bb8e7c": {
      "model_module": "@jupyter-widgets/base",
      "model_module_version": "1.2.0",
      "model_name": "LayoutModel",
      "state": {}
     },
     "a741353a5d8d4bf8a5d74b14488314ef": {
      "model_module": "@jupyter-widgets/controls",
      "model_module_version": "1.5.0",
      "model_name": "CheckboxModel",
      "state": {
       "disabled": false,
       "indent": false,
       "layout": "IPY_MODEL_a796858502d949e09fb27270b5ee8f23",
       "style": "IPY_MODEL_38e5f72b0a6444b982aeaca016a01f4d",
       "value": false
      }
     },
     "a78d3b8fa2124819ac3c084b311d8453": {
      "model_module": "@jupyter-widgets/base",
      "model_module_version": "1.2.0",
      "model_name": "LayoutModel",
      "state": {
       "width": "100%"
      }
     },
     "a796858502d949e09fb27270b5ee8f23": {
      "model_module": "@jupyter-widgets/base",
      "model_module_version": "1.2.0",
      "model_name": "LayoutModel",
      "state": {
       "height": "30px",
       "max_width": "30px",
       "padding": "3px"
      }
     },
     "a79c936c62e74800bc2a323ff6c7e84d": {
      "model_module": "@jupyter-widgets/controls",
      "model_module_version": "1.5.0",
      "model_name": "DescriptionStyleModel",
      "state": {
       "description_width": ""
      }
     },
     "a80015dd75fb4baaa4d900ab90cc8b78": {
      "model_module": "@jupyter-widgets/controls",
      "model_module_version": "1.5.0",
      "model_name": "TextModel",
      "state": {
       "description": "inputs",
       "disabled": true,
       "layout": "IPY_MODEL_dacb283c02044de1a962d01023f3c127",
       "style": "IPY_MODEL_fb7fad4e771a4c78b1be7a4edd9625b5",
       "value": "C:\\engDev\\git_mf\\ipyrun\\ipyrun\\appdata\\inputs\\inputs-eplus_pipework_params.csv"
      }
     },
     "a831d79af4014501afdfd374e8cc86af": {
      "model_module": "@jupyter-widgets/controls",
      "model_module_version": "1.5.0",
      "model_name": "VBoxModel",
      "state": {
       "children": [
        "IPY_MODEL_2870de267d3e4e6a84e87ab10f1c6372",
        "IPY_MODEL_dd315fb6d31940779bde2ce7f29334c4",
        "IPY_MODEL_e69b79e7f620491cb8afb611a716303f"
       ],
       "layout": "IPY_MODEL_e4e63f244fa648ea91b070353a167f89"
      }
     },
     "a930e62f0df4405ebc7bf65c1f3830a8": {
      "model_module": "@jupyter-widgets/controls",
      "model_module_version": "1.5.0",
      "model_name": "DescriptionStyleModel",
      "state": {
       "description_width": ""
      }
     },
     "aa0cdcc881cf418ea31f162e6e8415f4": {
      "model_module": "@jupyter-widgets/controls",
      "model_module_version": "1.5.0",
      "model_name": "ButtonModel",
      "state": {
       "button_style": "info",
       "description": "show guide",
       "layout": "IPY_MODEL_31b636514fb64855b8cf43b08efa9ef5",
       "style": "IPY_MODEL_a33c89a0c00843a797d619065068bdf1",
       "tooltip": "read the \"docstring\", ie. the documentation that was written to accompany the script"
      }
     },
     "aa3a09f0c6c94b20b2dbd2b84a7d39de": {
      "model_module": "@jupyter-widgets/controls",
      "model_module_version": "1.5.0",
      "model_name": "SelectMultipleModel",
      "state": {
       "_options_labels": [
        "..\\data\\external\\eplus_pipework_params.csv"
       ],
       "description": "outputs",
       "index": [],
       "layout": "IPY_MODEL_184445fcb9054d4d9ccff815c7324ac1",
       "rows": 4,
       "style": "IPY_MODEL_a1e867b1d5bf45738b0baf8206611800"
      }
     },
     "aa71414b7de3484d8ff2d1c7b2f4a6e1": {
      "model_module": "@jupyter-widgets/controls",
      "model_module_version": "1.5.0",
      "model_name": "AccordionModel",
      "state": {
       "_titles": {
        "0": "process_name"
       },
       "children": [
        "IPY_MODEL_c2753e94d99740968ee5471a43fdeae5"
       ],
       "layout": "IPY_MODEL_a78d3b8fa2124819ac3c084b311d8453",
       "selected_index": null
      }
     },
     "aaa0b9ac356f479c83a5d2e53397b8ed": {
      "model_module": "@jupyter-widgets/controls",
      "model_module_version": "1.5.0",
      "model_name": "ButtonModel",
      "state": {
       "icon": "eye-slash",
       "layout": "IPY_MODEL_f4b7f84467224609a69a73eb041dbc1f",
       "style": "IPY_MODEL_de73582884604dacae4759f02f588642",
       "tooltip": "removes temporary output view"
      }
     },
     "aae4c54668454f6d9870e19dcb0ca0c5": {
      "model_module": "@jupyter-widgets/controls",
      "model_module_version": "1.5.0",
      "model_name": "ButtonStyleModel",
      "state": {
       "font_weight": "bold"
      }
     },
     "acb3965528854d6cb8fa370252bda40b": {
      "model_module": "@jupyter-widgets/controls",
      "model_module_version": "1.5.0",
      "model_name": "ButtonModel",
      "state": {
       "button_style": "info",
       "description": "preview outputs",
       "layout": "IPY_MODEL_534391f7ccb84e3085ff4ca40c4ff138",
       "style": "IPY_MODEL_3a80deb31a424bf2939d82de139d5939",
       "tooltip": "show a preview of the output files generated when the script runs"
      }
     },
     "ad4a162322ad4ff4af8aa52d6b260314": {
      "model_module": "@jupyter-widgets/base",
      "model_module_version": "1.2.0",
      "model_name": "LayoutModel",
      "state": {}
     },
     "ae3bde905c0d48de82738c510f49b0ba": {
      "model_module": "@jupyter-widgets/controls",
      "model_module_version": "1.5.0",
      "model_name": "DescriptionStyleModel",
      "state": {
       "description_width": ""
      }
     },
     "af0d1d59904a485abd0fe5b7b1372e0c": {
      "model_module": "@jupyter-widgets/base",
      "model_module_version": "1.2.0",
      "model_name": "LayoutModel",
      "state": {
       "width": "5%"
      }
     },
     "af4b6b2b9416471880415fee235bd0b1": {
      "model_module": "@jupyter-widgets/base",
      "model_module_version": "1.2.0",
      "model_name": "LayoutModel",
      "state": {}
     },
     "b155839070c1451abbfec917a97982b5": {
      "model_module": "@jupyter-widgets/controls",
      "model_module_version": "1.5.0",
      "model_name": "DescriptionStyleModel",
      "state": {
       "description_width": ""
      }
     },
     "b1c2e01be1c040e9bef1d0a95286dd65": {
      "model_module": "@jupyter-widgets/controls",
      "model_module_version": "1.5.0",
      "model_name": "TextModel",
      "state": {
       "description": "inputs",
       "disabled": true,
       "layout": "IPY_MODEL_1b937e17243d4904b20fc8d01b29aaf6",
       "style": "IPY_MODEL_fa69440fe8ca4ecc8c216cf2365b20f2",
       "value": "C:\\engDev\\git_mf\\ipyrun\\ipyrun\\appdata\\inputs\\inputs-eplus_pipework_params.csv"
      }
     },
     "b21d5e68f6924e2aab8128e9738a03b5": {
      "model_module": "@jupyter-widgets/controls",
      "model_module_version": "1.5.0",
      "model_name": "ButtonStyleModel",
      "state": {
       "font_weight": "bold"
      }
     },
     "b35b1bb3564e46daa3d4adb4224cc879": {
      "model_module": "@jupyter-widgets/controls",
      "model_module_version": "1.5.0",
      "model_name": "ButtonModel",
      "state": {
       "button_style": "info",
       "description": "show guide",
       "layout": "IPY_MODEL_e20e4bbc19c24c1888a81015300d9c2b",
       "style": "IPY_MODEL_69acd9f6338748bc9b719fed551c02f6",
       "tooltip": "read the \"docstring\", ie. the documentation that was written to accompany the script"
      }
     },
     "b384c4e33e3c44689dc151cc4a619d2a": {
      "model_module": "@jupyter-widgets/controls",
      "model_module_version": "1.5.0",
      "model_name": "ButtonModel",
      "state": {
       "button_style": "info",
       "description": "show source code",
       "layout": "IPY_MODEL_4630dc17bcea4a2f91076a556c82aa04",
       "style": "IPY_MODEL_bab1958dab1049e58f524e200aa0ab28",
       "tooltip": "shows the raw python code in the preview window below"
      }
     },
     "b384dc3558d1429d84ad5681f6c5dc8a": {
      "model_module": "@jupyter-widgets/base",
      "model_module_version": "1.2.0",
      "model_name": "LayoutModel",
      "state": {}
     },
     "b3b4689fd1364d0f9e9d62c132e0eca2": {
      "model_module": "@jupyter-widgets/base",
      "model_module_version": "1.2.0",
      "model_name": "LayoutModel",
      "state": {}
     },
     "b3f8521c26dc4d84a89522e69e68afdf": {
      "model_module": "@jupyter-widgets/controls",
      "model_module_version": "1.5.0",
      "model_name": "ButtonStyleModel",
      "state": {
       "font_weight": "bold"
      }
     },
     "b462cea952ae40d99153517f9d3ed063": {
      "model_module": "@jupyter-widgets/controls",
      "model_module_version": "1.5.0",
      "model_name": "TextModel",
      "state": {
       "description": "script",
       "disabled": true,
       "layout": "IPY_MODEL_40116d53e72946c2946b25cb7f12c71e",
       "style": "IPY_MODEL_dac44fedbebf443aa18952cb55263f04",
       "value": "C:\\engDev\\git_mf\\MF_Toolbox\\dev\\mf_scripts\\eplus_pipework_params.py"
      }
     },
     "b500659d57214db68488e806fd4c54b4": {
      "model_module": "@jupyter-widgets/base",
      "model_module_version": "1.2.0",
      "model_name": "LayoutModel",
      "state": {}
     },
     "b539ca35d6194e8d8bf6a5e767d531f9": {
      "model_module": "@jupyter-widgets/controls",
      "model_module_version": "1.5.0",
      "model_name": "ButtonModel",
      "state": {
       "icon": "question-circle",
       "layout": "IPY_MODEL_5a979c9e63f34805a5f1b78159c6d64f",
       "style": "IPY_MODEL_8e6840a4a55d407a9fe1a260bb632160",
       "tooltip": "describes the functionality of elements in the RunApp interface"
      }
     },
     "b56b833d90ee49f7a15218f62ec640fb": {
      "model_module": "@jupyter-widgets/base",
      "model_module_version": "1.2.0",
      "model_name": "LayoutModel",
      "state": {
       "height": "30px",
       "max_width": "30px",
       "padding": "3px"
      }
     },
     "b6cfe303ef104944938f63be2b9b35fb": {
      "model_module": "@jupyter-widgets/base",
      "model_module_version": "1.2.0",
      "model_name": "LayoutModel",
      "state": {}
     },
     "b80f1140240549289aa80c85fc9237ee": {
      "model_module": "@jupyter-widgets/base",
      "model_module_version": "1.2.0",
      "model_name": "LayoutModel",
      "state": {}
     },
     "b8731112f33e4952898bfa8d90a85652": {
      "model_module": "@jupyter-widgets/controls",
      "model_module_version": "1.5.0",
      "model_name": "ButtonStyleModel",
      "state": {}
     },
     "b8c98354761b44c98e55e2ea2deb2af3": {
      "model_module": "@jupyter-widgets/controls",
      "model_module_version": "1.5.0",
      "model_name": "ButtonStyleModel",
      "state": {
       "font_weight": "bold"
      }
     },
     "b8de7ae952874081bacd7371e5bd85e6": {
      "model_module": "@jupyter-widgets/controls",
      "model_module_version": "1.5.0",
      "model_name": "ButtonModel",
      "state": {
       "button_style": "info",
       "description": "show log",
       "layout": "IPY_MODEL_78105f05ad994d3cb7f1bc0fc2e250e5",
       "style": "IPY_MODEL_0925c48e41484994b686f1dd18a3a1f0",
       "tooltip": "show a log of when the script was executed to generate the outputs, and by who"
      }
     },
     "b931a5237aa444d48a3514f3edaef8a1": {
      "model_module": "@jupyter-widgets/base",
      "model_module_version": "1.2.0",
      "model_name": "LayoutModel",
      "state": {
       "width": "5%"
      }
     },
     "b9434817eee54bc680dc9204f4dd080c": {
      "model_module": "@jupyter-widgets/base",
      "model_module_version": "1.2.0",
      "model_name": "LayoutModel",
      "state": {}
     },
     "b96bd6a9b9244032b80f187a6637d030": {
      "model_module": "@jupyter-widgets/controls",
      "model_module_version": "1.5.0",
      "model_name": "ButtonStyleModel",
      "state": {
       "font_weight": "bold"
      }
     },
     "b98785681ffe48e5816c1b4a1b58b4c5": {
      "model_module": "@jupyter-widgets/base",
      "model_module_version": "1.2.0",
      "model_name": "LayoutModel",
      "state": {}
     },
     "b9964194971c4636ba0c338ec56764e4": {
      "model_module": "@jupyter-widgets/controls",
      "model_module_version": "1.5.0",
      "model_name": "VBoxModel",
      "state": {
       "children": [
        "IPY_MODEL_be5865338f9b4324b5b2b96c6e5d78ae",
        "IPY_MODEL_e93e0dbc465647108ae5aea127b11a01"
       ],
       "layout": "IPY_MODEL_976341c741ed4d8595d3f50266d5807c"
      }
     },
     "b9af3d10c13241c7b9b5746c32d8942c": {
      "model_module": "@jupyter-widgets/base",
      "model_module_version": "1.2.0",
      "model_name": "LayoutModel",
      "state": {
       "height": "30px",
       "max_width": "30px",
       "padding": "3px"
      }
     },
     "ba51826210994b93bc8d4ac363568600": {
      "model_module": "@jupyter-widgets/controls",
      "model_module_version": "1.5.0",
      "model_name": "ButtonModel",
      "state": {
       "icon": "question-circle",
       "layout": "IPY_MODEL_cb34a75d2a724779a65fb9c3f4a40fff",
       "style": "IPY_MODEL_5c8f3298826048f589faead6a8847bc6",
       "tooltip": "describes the functionality of elements in the RunApp interface"
      }
     },
     "ba5baeadeff94a1e9625e99e479805f9": {
      "model_module": "@jupyter-widgets/base",
      "model_module_version": "1.2.0",
      "model_name": "LayoutModel",
      "state": {
       "align_items": "stretch",
       "width": "100%"
      }
     },
     "bab1958dab1049e58f524e200aa0ab28": {
      "model_module": "@jupyter-widgets/controls",
      "model_module_version": "1.5.0",
      "model_name": "ButtonStyleModel",
      "state": {}
     },
     "bab27a361c394e21b8a32e60cccb2ae4": {
      "model_module": "@jupyter-widgets/controls",
      "model_module_version": "1.5.0",
      "model_name": "ButtonModel",
      "state": {
       "button_style": "info",
       "description": "show log",
       "layout": "IPY_MODEL_05534f54dee043c7a0e6e10525d4c8f0",
       "style": "IPY_MODEL_966c4cc33d7c44bf9a536865e2ef190a",
       "tooltip": "show a log of when the script was executed to generate the outputs, and by who"
      }
     },
     "bacb4307266b40b4a03fa7f00dfb6bdf": {
      "model_module": "@jupyter-widgets/controls",
      "model_module_version": "1.5.0",
      "model_name": "ButtonStyleModel",
      "state": {}
     },
     "baec55d33f544a09bc3215b6b0ab6b57": {
      "model_module": "@jupyter-widgets/base",
      "model_module_version": "1.2.0",
      "model_name": "LayoutModel",
      "state": {
       "width": "5%"
      }
     },
     "bb1bdb907d884c2a93dac675e6a7e244": {
      "model_module": "@jupyter-widgets/controls",
      "model_module_version": "1.5.0",
      "model_name": "HBoxModel",
      "state": {
       "children": [
        "IPY_MODEL_d7cbdc6bdaf64a9ebed1363d52578adb",
        "IPY_MODEL_7a9852551d3e4e96ac5317fc30f0db2a"
       ],
       "layout": "IPY_MODEL_de155efa42d94309b1241479b002df05"
      }
     },
     "bbcfcf9339554439b78be008549b970c": {
      "buffers": [
       {
        "data": "H4sIAAAAAAACA52SwW7DIAyGX6XyOamABrJx7S59hhBFqKUZW0IQhHRT1Xefk2rqTtOyww+20Wdsy1dogz2BvMJJjxpkVcHbtk0ujoMzkAEjjORE5KTYMCIpkURA5lLXPY46+52hktG/M3xDueRckmI9U5RrmVIysYoR2My/GE7XMkzS1f/g3MqVzI5K+vyTgb1Uyrj2xUxKtXZs+rNS1n+G5B639n5eGAw4n8aIgXB8tZNRas5OBOE5FTua359z47sUG2+9uQzhvfE66D5uj3GCus7AupP5aMJwifMiOt0bNCo4zGHA90l3aQlVBJuhKIbaoQoURwlUiXpCPdf17TvncehS7xYUUjQB5mFg4Wa0vVmc8xB63R1iTHd/1G1cjHvl+8GdbYtV3m5fNNZZWysDAAA=",
        "encoding": "base64",
        "path": [
         "_grid_data_up"
        ]
       }
      ],
      "model_module": "ipyaggrid",
      "model_module_version": "~0.2.1",
      "model_name": "AgGridModel",
      "state": {
       "_grid_data_down": [
        {
         "datetime": "2020-06-04 20:10:06",
         "formalIssue": null,
         "inputsConfig": null,
         "tags": null,
         "user": "j.gunstone"
        },
        {
         "datetime": "2020-06-04 20:11:21",
         "formalIssue": null,
         "inputsConfig": null,
         "tags": null,
         "user": "j.gunstone"
        },
        {
         "datetime": "2020-06-05 15:55:04",
         "formalIssue": null,
         "inputsConfig": null,
         "tags": null,
         "user": "j.gunstone"
        },
        {
         "datetime": "2020-06-05 15:55:47",
         "formalIssue": null,
         "inputsConfig": null,
         "tags": null,
         "user": "j.gunstone"
        },
        {
         "datetime": "2020-06-05 15:57:26",
         "formalIssue": null,
         "inputsConfig": null,
         "tags": null,
         "user": "j.gunstone"
        },
        {
         "datetime": "2020-06-05 16:21:26",
         "formalIssue": null,
         "inputsConfig": null,
         "tags": null,
         "user": "j.gunstone"
        },
        {
         "datetime": "2020-06-05 16:21:51",
         "formalIssue": null,
         "inputsConfig": null,
         "tags": null,
         "user": "j.gunstone"
        },
        {
         "datetime": "2020-06-05 16:22:16",
         "formalIssue": null,
         "inputsConfig": null,
         "tags": null,
         "user": "j.gunstone"
        },
        {
         "datetime": "2020-06-05 16:25:07",
         "formalIssue": null,
         "inputsConfig": null,
         "tags": null,
         "user": "j.gunstone"
        },
        {
         "datetime": "2020-06-05 16:31:19",
         "formalIssue": null,
         "inputsConfig": "C:\\engDev\\git_mf\\ipyrun\\ipyrun\\appdata\\inputs\\archive\\20200605-1631-inputs-eplus_pipework_params.csv",
         "tags": null,
         "user": "j.gunstone"
        }
       ],
       "_grid_options_mono_down": "{\"enableSorting\": true, \"enableFilter\": true, \"enableColResize\": true, \"enableRangeSelection\": true, \"columnDefs\": [{\"field\": \"user\", \"type\": \"textColumn\", \"headerName\": \"User\"}, {\"field\": \"datetime\", \"type\": \"textColumn\", \"headerName\": \"Datetime\"}, {\"field\": \"formalIssue\", \"type\": \"numberColumn\", \"headerName\": \"Formalissue\"}, {\"field\": \"tags\", \"type\": \"numberColumn\", \"headerName\": \"Tags\"}, {\"field\": \"inputsConfig\", \"type\": \"textColumn\", \"headerName\": \"Inputsconfig\"}], \"columnTypes\": {\"numberColumn\": {\"filter\": \"agNumberColumnFilter\"}, \"textColumn\": {\"filter\": \"agTextColumnFilter\"}, \"dateColumn\": {\"valueFormatter\": \"helpers.dateFormatter\", \"filter\": \"agDateColumnFilter\", \"filterParams\": {\"comparator\": \"helpers.compareDates\"}}}}",
       "_id": 465573563,
       "_js_helpers_builtin": "helpersBuiltin = {\n    dateFormatter: function(node) {\n        // make sure date is not undefined\n        if (node && node.value) {\n            let d = new Date(node.value);\n            let h = d.getHours();\n            let m = d.getMinutes();\n            let s = d.getSeconds();\n            const offset = d.getTimezoneOffset() * 60000;\n            d = new Date(d.getTime() - offset);\n            const ymd = d.toISOString().substring(0, 10);\n            if (h === 0 && m === 0 && s === 0) {\n                return ymd;\n            }\n            if (h === 0) h = '00';\n            if (m === 0) m = '00';\n            if (s === 0) s = '00';\n            return `${ymd} ${h}:${m}:${s}`;\n        }\n        return null;\n    },\n\n    formatInt: d3.format(',.0f'),\n    formatFloat: d3.format(',.2f'),\n\n    intFormatter: function(node) {\n        return formatInt(node.value);\n    },\n\n    floatFormatter: function(node) {\n        return formatFloat(node.value);\n    },\n\n    compareDates: function(filterLocalDate, cellValue) {\n        // Assume dates are stored as iso\n        const cellDate = new Date(cellValue);\n\n        if (cellDate < filterLocalDate) {\n            return -1;\n        } else if (cellDate > filterLocalDate) {\n            return 1;\n        }\n        return 0;\n    },\n\n    sizeToFit: function(gridOptions) {\n        gridOptions.api.sizeColumnsToFit();\n    },\n\n    autoSizeAll: function(gridOptions) {\n        const allColumnIds = [];\n        gridOptions.columnApi.getAllColumns().forEach(column => {\n            allColumnIds.push(column.colId);\n        });\n        gridOptions.columnApi.autoSizeColumns(allColumnIds);\n    },\n\n    /**\n     * Exporting data to CSV using ag-Grid api.\n     * @param {Object} gridOptions\n     */\n    exportToCsv: function(gridOptions) {\n        const params = {\n            skipHeader: false,\n            columnGroups: true,\n            skipFooters: false,\n            skipGroups: false,\n            skipPinnedTop: false,\n            skipPinnedBottom: false,\n            allColumns: true,\n            onlySelected: false,\n            suppressQuotes: true,\n            fileName: 'my_file.csv',\n            sheetName: 'my_sheet',\n            shouldRowBeSkipped: () => false,\n            processCellCallback: param => param.value,\n            processHeaderCallback: null,\n        };\n        gridOptions.api.exportDataAsCsv(params);\n    },\n\n    /**\n     * Exporting data to Excel using ag-Grid api.\n     * @param {Object} gridOptions\n     */\n    exportToExcel: function(gridOptions) {\n        const params = {\n            skipHeader: false,\n            columnGroups: true,\n            skipFooters: false,\n            skipGroups: false,\n            skipPinnedTop: false,\n            skipPinnedBottom: false,\n            allColumns: true,\n            onlySelected: false,\n            suppressQuotes: true,\n            fileName: 'my_file.xls',\n            sheetName: 'my_sheet',\n            shouldRowBeSkipped: () => false, // TODO : check\n            processCellCallback: param => param.value,\n            processHeaderCallback: null,\n        };\n        gridOptions.api.exportDataAsExcel(params);\n    },\n};\n",
       "columns_fit": "size_to_fit",
       "compress_data": true,
       "export_mode": "disabled",
       "height": "350px",
       "js_helpers": "{\"dateFormatter\":\"function(node) {\\n        // make sure date is not undefined\\n        if (node && node.value) {\\n            let d = new Date(node.value);\\n            let h = d.getHours();\\n            let m = d.getMinutes();\\n            let s = d.getSeconds();\\n            const offset = d.getTimezoneOffset() * 60000;\\n            d = new Date(d.getTime() - offset);\\n            const ymd = d.toISOString().substring(0, 10);\\n            if (h === 0 && m === 0 && s === 0) {\\n                return ymd;\\n            }\\n            if (h === 0) h = '00';\\n            if (m === 0) m = '00';\\n            if (s === 0) s = '00';\\n            return `${ymd} ${h}:${m}:${s}`;\\n        }\\n        return null;\\n    }\",\"formatInt\":\" >-,.0f\",\"formatFloat\":\" >-,.2f\",\"intFormatter\":\"function(node) {\\n        return formatInt(node.value);\\n    }\",\"floatFormatter\":\"function(node) {\\n        return formatFloat(node.value);\\n    }\",\"compareDates\":\"function(filterLocalDate, cellValue) {\\n        // Assume dates are stored as iso\\n        const cellDate = new Date(cellValue);\\n\\n        if (cellDate < filterLocalDate) {\\n            return -1;\\n        } else if (cellDate > filterLocalDate) {\\n            return 1;\\n        }\\n        return 0;\\n    }\",\"sizeToFit\":\"function(gridOptions) {\\n        gridOptions.api.sizeColumnsToFit();\\n    }\",\"autoSizeAll\":\"function(gridOptions) {\\n        const allColumnIds = [];\\n        gridOptions.columnApi.getAllColumns().forEach(column => {\\n            allColumnIds.push(column.colId);\\n        });\\n        gridOptions.columnApi.autoSizeColumns(allColumnIds);\\n    }\",\"exportToCsv\":\"function(gridOptions) {\\n        const params = {\\n            skipHeader: false,\\n            columnGroups: true,\\n            skipFooters: false,\\n            skipGroups: false,\\n            skipPinnedTop: false,\\n            skipPinnedBottom: false,\\n            allColumns: true,\\n            onlySelected: false,\\n            suppressQuotes: true,\\n            fileName: 'my_file.csv',\\n            sheetName: 'my_sheet',\\n            shouldRowBeSkipped: () => false,\\n            processCellCallback: param => param.value,\\n            processHeaderCallback: null,\\n        };\\n        gridOptions.api.exportDataAsCsv(params);\\n    }\",\"exportToExcel\":\"function(gridOptions) {\\n        const params = {\\n            skipHeader: false,\\n            columnGroups: true,\\n            skipFooters: false,\\n            skipGroups: false,\\n            skipPinnedTop: false,\\n            skipPinnedBottom: false,\\n            allColumns: true,\\n            onlySelected: false,\\n            suppressQuotes: true,\\n            fileName: 'my_file.xls',\\n            sheetName: 'my_sheet',\\n            shouldRowBeSkipped: () => false, // TODO : check\\n            processCellCallback: param => param.value,\\n            processHeaderCallback: null,\\n        };\\n        gridOptions.api.exportDataAsExcel(params);\\n    }\"}",
       "layout": "IPY_MODEL_d1e7a41016a940debd99289568ad9b3e",
       "menu": {
        "button_div_css": ".flex-button-div-465573563 {\ndisplay: flex;\njustify-content: flex-start;\nalign-items: flex-start;\nalign-content: flex-start;\nflex-flow: row wrap;\n}\n",
        "buttons": [],
        "input_div_css": ".flex-input-div-465573563 {\ndisplay: flex;\njustify-content: flex-start;\nalign-items: baseline;\nalign-content: flex-start;\nflex-flow: row wrap;\n}\n",
        "inputs": [
         {
          "css": ".flex-child-quick-filter-465573563 {\norder: 0;\nalign-self: auto;\nmargin: 5px;\nflex: 0.00 1.00 auto;\nwidth: 150px;\n}\n",
          "name": "Quick Filter"
         }
        ],
        "menu_div_css": ".flex-menu-div-465573563 {\ndisplay: flex;\njustify-content: flex-start;\nalign-items: flex-start;\nalign-content: flex-start;\nflex-flow: row wrap;\n}\n"
       },
       "theme": "ag-theme-balham",
       "width": "100%"
      }
     },
     "bc2cc31da1a944a4a1b11af38c3c4aa2": {
      "model_module": "@jupyter-widgets/base",
      "model_module_version": "1.2.0",
      "model_name": "LayoutModel",
      "state": {}
     },
     "bc477db2a75e4a53adc37fffc60b4f5e": {
      "model_module": "@jupyter-widgets/base",
      "model_module_version": "1.2.0",
      "model_name": "LayoutModel",
      "state": {}
     },
     "bcaf4b568090408799c7733fc697cd0d": {
      "model_module": "@jupyter-widgets/controls",
      "model_module_version": "1.5.0",
      "model_name": "ButtonModel",
      "state": {
       "icon": "eye-slash",
       "layout": "IPY_MODEL_166ea4b416ac4c058161d7946cd0f583",
       "style": "IPY_MODEL_9bb1f290ad3844499b97b408fe47ab4f",
       "tooltip": "removes temporary output view"
      }
     },
     "bcf07d99694b47098992a0536290b32e": {
      "model_module": "@jupyter-widgets/base",
      "model_module_version": "1.2.0",
      "model_name": "LayoutModel",
      "state": {}
     },
     "bd51037f3c034250b0b4d764e6ca4f18": {
      "model_module": "@jupyter-widgets/controls",
      "model_module_version": "1.5.0",
      "model_name": "ButtonStyleModel",
      "state": {
       "font_weight": "bold"
      }
     },
     "bdd3242a64ff41828568405f000d6793": {
      "model_module": "@jupyter-widgets/controls",
      "model_module_version": "1.5.0",
      "model_name": "ButtonStyleModel",
      "state": {
       "font_weight": "bold"
      }
     },
     "bdd739c6f9d141f89ffb3b5c8dcfb591": {
      "model_module": "@jupyter-widgets/controls",
      "model_module_version": "1.5.0",
      "model_name": "TextModel",
      "state": {
       "description": "script",
       "disabled": true,
       "layout": "IPY_MODEL_ef13975eb96c46c9abeadc38e47d02e9",
       "style": "IPY_MODEL_250627fec74840f385d11550221f090f",
       "value": "C:\\engDev\\git_mf\\MF_Toolbox\\dev\\mf_scripts\\eplus_pipework_params.py"
      }
     },
     "be5865338f9b4324b5b2b96c6e5d78ae": {
      "model_module": "@jupyter-widgets/controls",
      "model_module_version": "1.5.0",
      "model_name": "BoxModel",
      "state": {
       "children": [
        "IPY_MODEL_f69a12ade8264964b0109d9952ba9b7e"
       ],
       "layout": "IPY_MODEL_6cbe94a2b6974cbc85b348285e4e04a6"
      }
     },
     "beb59f061fd94e729bd3a9b1f68463d6": {
      "model_module": "@jupyter-widgets/controls",
      "model_module_version": "1.5.0",
      "model_name": "AccordionModel",
      "state": {
       "_titles": {
        "0": "eplus_pipework_params"
       },
       "children": [
        "IPY_MODEL_b9964194971c4636ba0c338ec56764e4"
       ],
       "layout": "IPY_MODEL_99bf0ae070644ccbba1336a21fc9a467",
       "selected_index": null
      }
     },
     "bed6ff10c2ac4ec396f6c976781db62d": {
      "model_module": "@jupyter-widgets/controls",
      "model_module_version": "1.5.0",
      "model_name": "ButtonModel",
      "state": {
       "button_style": "info",
       "description": "show source code",
       "layout": "IPY_MODEL_5c0d46f286434d7491af8f4368c3386e",
       "style": "IPY_MODEL_bacb4307266b40b4a03fa7f00dfb6bdf",
       "tooltip": "shows the raw python code in the preview window below"
      }
     },
     "bf0238826308462faa45a683c150b124": {
      "model_module": "@jupyter-widgets/controls",
      "model_module_version": "1.5.0",
      "model_name": "ButtonStyleModel",
      "state": {
       "font_weight": "bold"
      }
     },
     "bf24c9efc8354427a18c8b172d29ce49": {
      "model_module": "@jupyter-widgets/controls",
      "model_module_version": "1.5.0",
      "model_name": "ButtonModel",
      "state": {
       "button_style": "info",
       "description": "show source code",
       "layout": "IPY_MODEL_ad4a162322ad4ff4af8aa52d6b260314",
       "style": "IPY_MODEL_08996825c32b4e37a799c5165105e4ca",
       "tooltip": "shows the raw python code in the preview window below"
      }
     },
     "bf67b437c58c456a8d4067c1097a5c84": {
      "model_module": "@jupyter-widgets/controls",
      "model_module_version": "1.5.0",
      "model_name": "ButtonModel",
      "state": {
       "button_style": "info",
       "description": "show log",
       "layout": "IPY_MODEL_2ccd09092a594aef9f2f574e0563d753",
       "style": "IPY_MODEL_4243fee20da640d0ab56a0af01308cfe",
       "tooltip": "show a log of when the script was executed to generate the outputs, and by who"
      }
     },
     "c0048fde27aa4d7da84fcebfd65bb3ad": {
      "model_module": "@jupyter-widgets/base",
      "model_module_version": "1.2.0",
      "model_name": "LayoutModel",
      "state": {}
     },
     "c0301f67b5d94e69a97592abf884d1a7": {
      "model_module": "@jupyter-widgets/output",
      "model_module_version": "1.0.0",
      "model_name": "OutputModel",
      "state": {
       "layout": "IPY_MODEL_d97e7e6479724f45bdb78504f660f791"
      }
     },
     "c057e4e0342942fe8c0577b323ad4287": {
      "model_module": "@jupyter-widgets/controls",
      "model_module_version": "1.5.0",
      "model_name": "ButtonStyleModel",
      "state": {
       "font_weight": "bold"
      }
     },
     "c098691ded974532bf2be0d343672898": {
      "model_module": "@jupyter-widgets/controls",
      "model_module_version": "1.5.0",
      "model_name": "HBoxModel",
      "state": {
       "children": [
        "IPY_MODEL_7946841394e14dff970a8b6a58cb2402",
        "IPY_MODEL_7b38d53f9e934e968b69d8de37e8bfa2"
       ],
       "layout": "IPY_MODEL_2c709baf24374590839c8b997dbeb189"
      }
     },
     "c12a05b3af6047e4b4bb1253c78b9f8e": {
      "model_module": "@jupyter-widgets/base",
      "model_module_version": "1.2.0",
      "model_name": "LayoutModel",
      "state": {}
     },
     "c2753e94d99740968ee5471a43fdeae5": {
      "model_module": "@jupyter-widgets/controls",
      "model_module_version": "1.5.0",
      "model_name": "VBoxModel",
      "state": {
       "children": [
        "IPY_MODEL_66b57d0d89db46b682a9792926440141",
        "IPY_MODEL_0c0fba908ba3481186e4dee574a1eb20"
       ],
       "layout": "IPY_MODEL_77d12c1aa56f4caaadcdf6cf2006e08d"
      }
     },
     "c29971943ad04489afd6bf559cf40681": {
      "model_module": "@jupyter-widgets/controls",
      "model_module_version": "1.5.0",
      "model_name": "AccordionModel",
      "state": {
       "_titles": {
        "0": "eplus_pipework_params"
       },
       "children": [
        "IPY_MODEL_85af7f52de934143bbf33a070757767a"
       ],
       "layout": "IPY_MODEL_6fac57caf1dd4d03966998bc40bce49c"
      }
     },
     "c2e669dc640643ceb46d5c85c5f16951": {
      "model_module": "@jupyter-widgets/controls",
      "model_module_version": "1.5.0",
      "model_name": "ButtonStyleModel",
      "state": {
       "font_weight": "bold"
      }
     },
     "c300869d86514f7a98aacb9dd654bcba": {
      "buffers": [
       {
        "data": "H4sIAAAAAAACA22PQW7DIBBFr1LN2o6IGycS23bjTS8AloXsiUOLATHgtIp892K7VTfdwMz7/JnPA8agB+APGFRUwIUA9CZR57XHuwsfnVdBTQQFvB/GZCk6i7mpWMVKdi5Z/XS88FPFn2sobDJmP+CFS4l2fMVZylHHbrpKqf1XSPbvVt6vSzOwPkXKIPQ3PaOU63R2ZnV5vJyqcpfLf3MdepqhbQvQdsDPLrg7rZ+xasJcCGhWDFmflUkbEqxtl9/3vTNpshsGH1yPRG/Zmg0CEmHYihwSo/6hVxcmZRqitPdRjbQLPt6aLWnOsyzfDMw+nVkBAAA=",
        "encoding": "base64",
        "path": [
         "_grid_data_up"
        ]
       }
      ],
      "model_module": "ipyaggrid",
      "model_module_version": "~0.2.1",
      "model_name": "AgGridModel",
      "state": {
       "_grid_data_down": [
        {
         "datetime": "2020-06-05 17:42:35",
         "formalIssue": null,
         "fpthInputs": "C:\\engDev\\git_mf\\ipyrun\\ipyrun\\appdata\\inputs\\archive\\20200605-1742-inputs-eplus_pipework_params.csv",
         "processName": "eplus_pipework_params",
         "tags": null,
         "user": "j.gunstone"
        }
       ],
       "_grid_options_mono_down": "{\"enableSorting\": true, \"enableFilter\": true, \"enableColResize\": true, \"enableRangeSelection\": true, \"columnDefs\": [{\"field\": \"processName\", \"type\": \"textColumn\", \"headerName\": \"Processname\"}, {\"field\": \"user\", \"type\": \"textColumn\", \"headerName\": \"User\"}, {\"field\": \"datetime\", \"type\": \"textColumn\", \"headerName\": \"Datetime\"}, {\"field\": \"formalIssue\", \"type\": \"numberColumn\", \"headerName\": \"Formalissue\"}, {\"field\": \"tags\", \"type\": \"numberColumn\", \"headerName\": \"Tags\"}, {\"field\": \"fpthInputs\", \"type\": \"textColumn\", \"headerName\": \"Fpthinputs\"}], \"columnTypes\": {\"numberColumn\": {\"filter\": \"agNumberColumnFilter\"}, \"textColumn\": {\"filter\": \"agTextColumnFilter\"}, \"dateColumn\": {\"valueFormatter\": \"helpers.dateFormatter\", \"filter\": \"agDateColumnFilter\", \"filterParams\": {\"comparator\": \"helpers.compareDates\"}}}}",
       "_id": 729362939,
       "_js_helpers_builtin": "helpersBuiltin = {\n    dateFormatter: function(node) {\n        // make sure date is not undefined\n        if (node && node.value) {\n            let d = new Date(node.value);\n            let h = d.getHours();\n            let m = d.getMinutes();\n            let s = d.getSeconds();\n            const offset = d.getTimezoneOffset() * 60000;\n            d = new Date(d.getTime() - offset);\n            const ymd = d.toISOString().substring(0, 10);\n            if (h === 0 && m === 0 && s === 0) {\n                return ymd;\n            }\n            if (h === 0) h = '00';\n            if (m === 0) m = '00';\n            if (s === 0) s = '00';\n            return `${ymd} ${h}:${m}:${s}`;\n        }\n        return null;\n    },\n\n    formatInt: d3.format(',.0f'),\n    formatFloat: d3.format(',.2f'),\n\n    intFormatter: function(node) {\n        return formatInt(node.value);\n    },\n\n    floatFormatter: function(node) {\n        return formatFloat(node.value);\n    },\n\n    compareDates: function(filterLocalDate, cellValue) {\n        // Assume dates are stored as iso\n        const cellDate = new Date(cellValue);\n\n        if (cellDate < filterLocalDate) {\n            return -1;\n        } else if (cellDate > filterLocalDate) {\n            return 1;\n        }\n        return 0;\n    },\n\n    sizeToFit: function(gridOptions) {\n        gridOptions.api.sizeColumnsToFit();\n    },\n\n    autoSizeAll: function(gridOptions) {\n        const allColumnIds = [];\n        gridOptions.columnApi.getAllColumns().forEach(column => {\n            allColumnIds.push(column.colId);\n        });\n        gridOptions.columnApi.autoSizeColumns(allColumnIds);\n    },\n\n    /**\n     * Exporting data to CSV using ag-Grid api.\n     * @param {Object} gridOptions\n     */\n    exportToCsv: function(gridOptions) {\n        const params = {\n            skipHeader: false,\n            columnGroups: true,\n            skipFooters: false,\n            skipGroups: false,\n            skipPinnedTop: false,\n            skipPinnedBottom: false,\n            allColumns: true,\n            onlySelected: false,\n            suppressQuotes: true,\n            fileName: 'my_file.csv',\n            sheetName: 'my_sheet',\n            shouldRowBeSkipped: () => false,\n            processCellCallback: param => param.value,\n            processHeaderCallback: null,\n        };\n        gridOptions.api.exportDataAsCsv(params);\n    },\n\n    /**\n     * Exporting data to Excel using ag-Grid api.\n     * @param {Object} gridOptions\n     */\n    exportToExcel: function(gridOptions) {\n        const params = {\n            skipHeader: false,\n            columnGroups: true,\n            skipFooters: false,\n            skipGroups: false,\n            skipPinnedTop: false,\n            skipPinnedBottom: false,\n            allColumns: true,\n            onlySelected: false,\n            suppressQuotes: true,\n            fileName: 'my_file.xls',\n            sheetName: 'my_sheet',\n            shouldRowBeSkipped: () => false, // TODO : check\n            processCellCallback: param => param.value,\n            processHeaderCallback: null,\n        };\n        gridOptions.api.exportDataAsExcel(params);\n    },\n};\n",
       "columns_fit": "size_to_fit",
       "compress_data": true,
       "export_mode": "disabled",
       "height": "350px",
       "js_helpers": "{\"dateFormatter\":\"function(node) {\\n        // make sure date is not undefined\\n        if (node && node.value) {\\n            let d = new Date(node.value);\\n            let h = d.getHours();\\n            let m = d.getMinutes();\\n            let s = d.getSeconds();\\n            const offset = d.getTimezoneOffset() * 60000;\\n            d = new Date(d.getTime() - offset);\\n            const ymd = d.toISOString().substring(0, 10);\\n            if (h === 0 && m === 0 && s === 0) {\\n                return ymd;\\n            }\\n            if (h === 0) h = '00';\\n            if (m === 0) m = '00';\\n            if (s === 0) s = '00';\\n            return `${ymd} ${h}:${m}:${s}`;\\n        }\\n        return null;\\n    }\",\"formatInt\":\" >-,.0f\",\"formatFloat\":\" >-,.2f\",\"intFormatter\":\"function(node) {\\n        return formatInt(node.value);\\n    }\",\"floatFormatter\":\"function(node) {\\n        return formatFloat(node.value);\\n    }\",\"compareDates\":\"function(filterLocalDate, cellValue) {\\n        // Assume dates are stored as iso\\n        const cellDate = new Date(cellValue);\\n\\n        if (cellDate < filterLocalDate) {\\n            return -1;\\n        } else if (cellDate > filterLocalDate) {\\n            return 1;\\n        }\\n        return 0;\\n    }\",\"sizeToFit\":\"function(gridOptions) {\\n        gridOptions.api.sizeColumnsToFit();\\n    }\",\"autoSizeAll\":\"function(gridOptions) {\\n        const allColumnIds = [];\\n        gridOptions.columnApi.getAllColumns().forEach(column => {\\n            allColumnIds.push(column.colId);\\n        });\\n        gridOptions.columnApi.autoSizeColumns(allColumnIds);\\n    }\",\"exportToCsv\":\"function(gridOptions) {\\n        const params = {\\n            skipHeader: false,\\n            columnGroups: true,\\n            skipFooters: false,\\n            skipGroups: false,\\n            skipPinnedTop: false,\\n            skipPinnedBottom: false,\\n            allColumns: true,\\n            onlySelected: false,\\n            suppressQuotes: true,\\n            fileName: 'my_file.csv',\\n            sheetName: 'my_sheet',\\n            shouldRowBeSkipped: () => false,\\n            processCellCallback: param => param.value,\\n            processHeaderCallback: null,\\n        };\\n        gridOptions.api.exportDataAsCsv(params);\\n    }\",\"exportToExcel\":\"function(gridOptions) {\\n        const params = {\\n            skipHeader: false,\\n            columnGroups: true,\\n            skipFooters: false,\\n            skipGroups: false,\\n            skipPinnedTop: false,\\n            skipPinnedBottom: false,\\n            allColumns: true,\\n            onlySelected: false,\\n            suppressQuotes: true,\\n            fileName: 'my_file.xls',\\n            sheetName: 'my_sheet',\\n            shouldRowBeSkipped: () => false, // TODO : check\\n            processCellCallback: param => param.value,\\n            processHeaderCallback: null,\\n        };\\n        gridOptions.api.exportDataAsExcel(params);\\n    }\"}",
       "layout": "IPY_MODEL_83d032abb80e4643ae138c0715b7e6b0",
       "menu": {
        "button_div_css": ".flex-button-div-729362939 {\ndisplay: flex;\njustify-content: flex-start;\nalign-items: flex-start;\nalign-content: flex-start;\nflex-flow: row wrap;\n}\n",
        "buttons": [],
        "input_div_css": ".flex-input-div-729362939 {\ndisplay: flex;\njustify-content: flex-start;\nalign-items: baseline;\nalign-content: flex-start;\nflex-flow: row wrap;\n}\n",
        "inputs": [
         {
          "css": ".flex-child-quick-filter-729362939 {\norder: 0;\nalign-self: auto;\nmargin: 5px;\nflex: 0.00 1.00 auto;\nwidth: 150px;\n}\n",
          "name": "Quick Filter"
         }
        ],
        "menu_div_css": ".flex-menu-div-729362939 {\ndisplay: flex;\njustify-content: flex-start;\nalign-items: flex-start;\nalign-content: flex-start;\nflex-flow: row wrap;\n}\n"
       },
       "theme": "ag-theme-balham",
       "width": "100%"
      }
     },
     "c617b27d8e33401ba5107218cd06622c": {
      "model_module": "@jupyter-widgets/base",
      "model_module_version": "1.2.0",
      "model_name": "LayoutModel",
      "state": {
       "height": "30px",
       "max_width": "30px",
       "padding": "3px"
      }
     },
     "c626ca4512114fb4a5c4185119bebbca": {
      "model_module": "@jupyter-widgets/output",
      "model_module_version": "1.0.0",
      "model_name": "OutputModel",
      "state": {
       "layout": "IPY_MODEL_375a6120ad5540788f95b7aa2b4c17e7"
      }
     },
     "c644ccd6f0d14a4d83f3b6d621af4a5e": {
      "model_module": "@jupyter-widgets/base",
      "model_module_version": "1.2.0",
      "model_name": "LayoutModel",
      "state": {}
     },
     "c64624b4dff04a3d912cd14f25d73a4c": {
      "buffers": [
       {
        "data": "H4sIAAAAAAACA62T3WrDIBiGb6V8x0lR89PV045BryGGIK1N3RIjGtON0nvfl5SxssG2hh28/rz66KvoGWqn98DPsJe9BF4U8Lysg/F9ZxREwAgjMcljki4Y4ZRwkkNkQtN8KcroZ5ByRu8EswXNeJZxks4E09UscMVZfj+Y4wHngxmdBTJO5+2It7qaAyaU0/UtCBsuhDL1oxqEqHVftQchtH1zwXzW0trxdaFhbOg9Gm531IMSYlyd5CSLaZ7Q+DocK9sEX1lt1alzL5WVTrZ+ufMD/Cki48n3F/OPOdnvOcsyAm326rVy3cmPv8vIVmGjgO1oA44PsgmTVRA8EUUxVIJKURkqR61QD6j1OIeU5eVj4V3XhNZMPASvHIzXgulVr1s1dQ6da2Wz9T5c+72s/dS4xt905qDrG+PJ9kdMfrm8AzERki4UBAAA",
        "encoding": "base64",
        "path": [
         "_grid_data_up"
        ]
       }
      ],
      "model_module": "ipyaggrid",
      "model_module_version": "~0.2.1",
      "model_name": "AgGridModel",
      "state": {
       "_grid_data_down": [
        {
         "datetime": "2020-06-04 20:10:06",
         "formalIssue": null,
         "inputsConfig": null,
         "inputsFpth": null,
         "tags": null,
         "user": "j.gunstone"
        },
        {
         "datetime": "2020-06-04 20:11:21",
         "formalIssue": null,
         "inputsConfig": null,
         "inputsFpth": null,
         "tags": null,
         "user": "j.gunstone"
        },
        {
         "datetime": "2020-06-05 15:55:04",
         "formalIssue": null,
         "inputsConfig": null,
         "inputsFpth": null,
         "tags": null,
         "user": "j.gunstone"
        },
        {
         "datetime": "2020-06-05 15:55:47",
         "formalIssue": null,
         "inputsConfig": null,
         "inputsFpth": null,
         "tags": null,
         "user": "j.gunstone"
        },
        {
         "datetime": "2020-06-05 15:57:26",
         "formalIssue": null,
         "inputsConfig": null,
         "inputsFpth": null,
         "tags": null,
         "user": "j.gunstone"
        },
        {
         "datetime": "2020-06-05 16:21:26",
         "formalIssue": null,
         "inputsConfig": null,
         "inputsFpth": null,
         "tags": null,
         "user": "j.gunstone"
        },
        {
         "datetime": "2020-06-05 16:21:51",
         "formalIssue": null,
         "inputsConfig": null,
         "inputsFpth": null,
         "tags": null,
         "user": "j.gunstone"
        },
        {
         "datetime": "2020-06-05 16:22:16",
         "formalIssue": null,
         "inputsConfig": null,
         "inputsFpth": null,
         "tags": null,
         "user": "j.gunstone"
        },
        {
         "datetime": "2020-06-05 16:25:07",
         "formalIssue": null,
         "inputsConfig": null,
         "inputsFpth": null,
         "tags": null,
         "user": "j.gunstone"
        },
        {
         "datetime": "2020-06-05 16:31:19",
         "formalIssue": null,
         "inputsConfig": "C:\\engDev\\git_mf\\ipyrun\\ipyrun\\appdata\\inputs\\archive\\20200605-1631-inputs-eplus_pipework_params.csv",
         "inputsFpth": null,
         "tags": null,
         "user": "j.gunstone"
        },
        {
         "datetime": "2020-06-05 16:32:34",
         "formalIssue": null,
         "inputsConfig": null,
         "inputsFpth": "C:\\engDev\\git_mf\\ipyrun\\ipyrun\\appdata\\inputs\\archive\\20200605-1632-inputs-eplus_pipework_params.csv",
         "tags": null,
         "user": "j.gunstone"
        }
       ],
       "_grid_options_mono_down": "{\"enableSorting\": true, \"enableFilter\": true, \"enableColResize\": true, \"enableRangeSelection\": true, \"columnDefs\": [{\"field\": \"user\", \"type\": \"textColumn\", \"headerName\": \"User\"}, {\"field\": \"datetime\", \"type\": \"textColumn\", \"headerName\": \"Datetime\"}, {\"field\": \"formalIssue\", \"type\": \"numberColumn\", \"headerName\": \"Formalissue\"}, {\"field\": \"tags\", \"type\": \"numberColumn\", \"headerName\": \"Tags\"}, {\"field\": \"inputsConfig\", \"type\": \"textColumn\", \"headerName\": \"Inputsconfig\"}, {\"field\": \"inputsFpth\", \"type\": \"textColumn\", \"headerName\": \"Inputsfpth\"}], \"columnTypes\": {\"numberColumn\": {\"filter\": \"agNumberColumnFilter\"}, \"textColumn\": {\"filter\": \"agTextColumnFilter\"}, \"dateColumn\": {\"valueFormatter\": \"helpers.dateFormatter\", \"filter\": \"agDateColumnFilter\", \"filterParams\": {\"comparator\": \"helpers.compareDates\"}}}}",
       "_id": 265635652,
       "_js_helpers_builtin": "helpersBuiltin = {\n    dateFormatter: function(node) {\n        // make sure date is not undefined\n        if (node && node.value) {\n            let d = new Date(node.value);\n            let h = d.getHours();\n            let m = d.getMinutes();\n            let s = d.getSeconds();\n            const offset = d.getTimezoneOffset() * 60000;\n            d = new Date(d.getTime() - offset);\n            const ymd = d.toISOString().substring(0, 10);\n            if (h === 0 && m === 0 && s === 0) {\n                return ymd;\n            }\n            if (h === 0) h = '00';\n            if (m === 0) m = '00';\n            if (s === 0) s = '00';\n            return `${ymd} ${h}:${m}:${s}`;\n        }\n        return null;\n    },\n\n    formatInt: d3.format(',.0f'),\n    formatFloat: d3.format(',.2f'),\n\n    intFormatter: function(node) {\n        return formatInt(node.value);\n    },\n\n    floatFormatter: function(node) {\n        return formatFloat(node.value);\n    },\n\n    compareDates: function(filterLocalDate, cellValue) {\n        // Assume dates are stored as iso\n        const cellDate = new Date(cellValue);\n\n        if (cellDate < filterLocalDate) {\n            return -1;\n        } else if (cellDate > filterLocalDate) {\n            return 1;\n        }\n        return 0;\n    },\n\n    sizeToFit: function(gridOptions) {\n        gridOptions.api.sizeColumnsToFit();\n    },\n\n    autoSizeAll: function(gridOptions) {\n        const allColumnIds = [];\n        gridOptions.columnApi.getAllColumns().forEach(column => {\n            allColumnIds.push(column.colId);\n        });\n        gridOptions.columnApi.autoSizeColumns(allColumnIds);\n    },\n\n    /**\n     * Exporting data to CSV using ag-Grid api.\n     * @param {Object} gridOptions\n     */\n    exportToCsv: function(gridOptions) {\n        const params = {\n            skipHeader: false,\n            columnGroups: true,\n            skipFooters: false,\n            skipGroups: false,\n            skipPinnedTop: false,\n            skipPinnedBottom: false,\n            allColumns: true,\n            onlySelected: false,\n            suppressQuotes: true,\n            fileName: 'my_file.csv',\n            sheetName: 'my_sheet',\n            shouldRowBeSkipped: () => false,\n            processCellCallback: param => param.value,\n            processHeaderCallback: null,\n        };\n        gridOptions.api.exportDataAsCsv(params);\n    },\n\n    /**\n     * Exporting data to Excel using ag-Grid api.\n     * @param {Object} gridOptions\n     */\n    exportToExcel: function(gridOptions) {\n        const params = {\n            skipHeader: false,\n            columnGroups: true,\n            skipFooters: false,\n            skipGroups: false,\n            skipPinnedTop: false,\n            skipPinnedBottom: false,\n            allColumns: true,\n            onlySelected: false,\n            suppressQuotes: true,\n            fileName: 'my_file.xls',\n            sheetName: 'my_sheet',\n            shouldRowBeSkipped: () => false, // TODO : check\n            processCellCallback: param => param.value,\n            processHeaderCallback: null,\n        };\n        gridOptions.api.exportDataAsExcel(params);\n    },\n};\n",
       "columns_fit": "size_to_fit",
       "compress_data": true,
       "export_mode": "disabled",
       "height": "350px",
       "js_helpers": "{\"dateFormatter\":\"function(node) {\\n        // make sure date is not undefined\\n        if (node && node.value) {\\n            let d = new Date(node.value);\\n            let h = d.getHours();\\n            let m = d.getMinutes();\\n            let s = d.getSeconds();\\n            const offset = d.getTimezoneOffset() * 60000;\\n            d = new Date(d.getTime() - offset);\\n            const ymd = d.toISOString().substring(0, 10);\\n            if (h === 0 && m === 0 && s === 0) {\\n                return ymd;\\n            }\\n            if (h === 0) h = '00';\\n            if (m === 0) m = '00';\\n            if (s === 0) s = '00';\\n            return `${ymd} ${h}:${m}:${s}`;\\n        }\\n        return null;\\n    }\",\"formatInt\":\" >-,.0f\",\"formatFloat\":\" >-,.2f\",\"intFormatter\":\"function(node) {\\n        return formatInt(node.value);\\n    }\",\"floatFormatter\":\"function(node) {\\n        return formatFloat(node.value);\\n    }\",\"compareDates\":\"function(filterLocalDate, cellValue) {\\n        // Assume dates are stored as iso\\n        const cellDate = new Date(cellValue);\\n\\n        if (cellDate < filterLocalDate) {\\n            return -1;\\n        } else if (cellDate > filterLocalDate) {\\n            return 1;\\n        }\\n        return 0;\\n    }\",\"sizeToFit\":\"function(gridOptions) {\\n        gridOptions.api.sizeColumnsToFit();\\n    }\",\"autoSizeAll\":\"function(gridOptions) {\\n        const allColumnIds = [];\\n        gridOptions.columnApi.getAllColumns().forEach(column => {\\n            allColumnIds.push(column.colId);\\n        });\\n        gridOptions.columnApi.autoSizeColumns(allColumnIds);\\n    }\",\"exportToCsv\":\"function(gridOptions) {\\n        const params = {\\n            skipHeader: false,\\n            columnGroups: true,\\n            skipFooters: false,\\n            skipGroups: false,\\n            skipPinnedTop: false,\\n            skipPinnedBottom: false,\\n            allColumns: true,\\n            onlySelected: false,\\n            suppressQuotes: true,\\n            fileName: 'my_file.csv',\\n            sheetName: 'my_sheet',\\n            shouldRowBeSkipped: () => false,\\n            processCellCallback: param => param.value,\\n            processHeaderCallback: null,\\n        };\\n        gridOptions.api.exportDataAsCsv(params);\\n    }\",\"exportToExcel\":\"function(gridOptions) {\\n        const params = {\\n            skipHeader: false,\\n            columnGroups: true,\\n            skipFooters: false,\\n            skipGroups: false,\\n            skipPinnedTop: false,\\n            skipPinnedBottom: false,\\n            allColumns: true,\\n            onlySelected: false,\\n            suppressQuotes: true,\\n            fileName: 'my_file.xls',\\n            sheetName: 'my_sheet',\\n            shouldRowBeSkipped: () => false, // TODO : check\\n            processCellCallback: param => param.value,\\n            processHeaderCallback: null,\\n        };\\n        gridOptions.api.exportDataAsExcel(params);\\n    }\"}",
       "layout": "IPY_MODEL_e84ede888a904c5e81b36ce41c76fa59",
       "menu": {
        "button_div_css": ".flex-button-div-265635652 {\ndisplay: flex;\njustify-content: flex-start;\nalign-items: flex-start;\nalign-content: flex-start;\nflex-flow: row wrap;\n}\n",
        "buttons": [],
        "input_div_css": ".flex-input-div-265635652 {\ndisplay: flex;\njustify-content: flex-start;\nalign-items: baseline;\nalign-content: flex-start;\nflex-flow: row wrap;\n}\n",
        "inputs": [
         {
          "css": ".flex-child-quick-filter-265635652 {\norder: 0;\nalign-self: auto;\nmargin: 5px;\nflex: 0.00 1.00 auto;\nwidth: 150px;\n}\n",
          "name": "Quick Filter"
         }
        ],
        "menu_div_css": ".flex-menu-div-265635652 {\ndisplay: flex;\njustify-content: flex-start;\nalign-items: flex-start;\nalign-content: flex-start;\nflex-flow: row wrap;\n}\n"
       },
       "theme": "ag-theme-balham",
       "width": "100%"
      }
     },
     "c6c88e6e4ac54f95bce54cd95fbf6c70": {
      "model_module": "@jupyter-widgets/controls",
      "model_module_version": "1.5.0",
      "model_name": "ButtonModel",
      "state": {
       "button_style": "info",
       "description": "show guide",
       "layout": "IPY_MODEL_001ebe8884c64106857870435d058559",
       "style": "IPY_MODEL_db4894661b9444c189384212ada963f1",
       "tooltip": "read the \"docstring\", ie. the documentation that was written to accompany the script"
      }
     },
     "c70c0bf2355a47b39b351c2cd091f9ac": {
      "model_module": "@jupyter-widgets/controls",
      "model_module_version": "1.5.0",
      "model_name": "ButtonModel",
      "state": {
       "button_style": "info",
       "description": "show log",
       "layout": "IPY_MODEL_4d730abcd71d4c1ab5eafe146b17025d",
       "style": "IPY_MODEL_95b70340394b47d097bc6225b2e30293",
       "tooltip": "show a log of when the script was executed to generate the outputs, and by who"
      }
     },
     "c7925cb8c55d4df19c214d4dbc428434": {
      "model_module": "@jupyter-widgets/controls",
      "model_module_version": "1.5.0",
      "model_name": "TextModel",
      "state": {
       "description": "script",
       "disabled": true,
       "layout": "IPY_MODEL_9c818972f1804adc96b9ce896724c166",
       "style": "IPY_MODEL_39a6e1905978432088e58ec02bc718b8",
       "value": "C:\\engDev\\git_mf\\MF_Toolbox\\dev\\mf_scripts\\eplus_pipework_params.py"
      }
     },
     "c88a661df8e946128d07f3b124b580c2": {
      "model_module": "@jupyter-widgets/controls",
      "model_module_version": "1.5.0",
      "model_name": "ButtonModel",
      "state": {
       "button_style": "success",
       "description": "run",
       "layout": "IPY_MODEL_b98785681ffe48e5816c1b4a1b58b4c5",
       "style": "IPY_MODEL_2ccffcb25e2046d18634a9f088f27a94",
       "tooltip": "execute the script based on the user inputs"
      }
     },
     "c92ccca8c6dc441392beaa07180a06de": {
      "model_module": "@jupyter-widgets/controls",
      "model_module_version": "1.5.0",
      "model_name": "ButtonStyleModel",
      "state": {
       "font_weight": "bold"
      }
     },
     "c97e201da7134501abd27f6bb1b515e5": {
      "model_module": "@jupyter-widgets/base",
      "model_module_version": "1.2.0",
      "model_name": "LayoutModel",
      "state": {}
     },
     "ca366b9d47e34f4b93d37f14392bc711": {
      "model_module": "@jupyter-widgets/base",
      "model_module_version": "1.2.0",
      "model_name": "LayoutModel",
      "state": {}
     },
     "cad008a5fafd427d9394e3ea8b4906be": {
      "model_module": "@jupyter-widgets/controls",
      "model_module_version": "1.5.0",
      "model_name": "ButtonStyleModel",
      "state": {
       "font_weight": "bold"
      }
     },
     "cb34a75d2a724779a65fb9c3f4a40fff": {
      "model_module": "@jupyter-widgets/base",
      "model_module_version": "1.2.0",
      "model_name": "LayoutModel",
      "state": {
       "width": "5%"
      }
     },
     "cc1264b0058a4c83b37e3a87bf848257": {
      "model_module": "@jupyter-widgets/controls",
      "model_module_version": "1.5.0",
      "model_name": "SelectMultipleModel",
      "state": {
       "_options_labels": [
        "..\\data\\external\\eplus_pipework_params.csv"
       ],
       "description": "outputs",
       "index": [],
       "layout": "IPY_MODEL_a5f6a635b4024954981b175a7aca6f0b",
       "rows": 4,
       "style": "IPY_MODEL_4f7411fa5bf0424f8e8e536ed13c986c"
      }
     },
     "cc382b04dc7a43069c340d7901d443d4": {
      "model_module": "@jupyter-widgets/base",
      "model_module_version": "1.2.0",
      "model_name": "LayoutModel",
      "state": {
       "height": "30px",
       "width": "auto"
      }
     },
     "cc5a50cd962c4fbf8fc08a98a2cc2348": {
      "model_module": "@jupyter-widgets/controls",
      "model_module_version": "1.5.0",
      "model_name": "ButtonModel",
      "state": {
       "button_style": "info",
       "description": "preview outputs",
       "layout": "IPY_MODEL_63965a27a2eb49e7a1805bef0f35880f",
       "style": "IPY_MODEL_4ed9be39041540c38f8836a628f0760c",
       "tooltip": "show a preview of the output files generated when the script runs"
      }
     },
     "cc8db6d94b9d42159853e03fb95a43e5": {
      "model_module": "@jupyter-widgets/base",
      "model_module_version": "1.2.0",
      "model_name": "LayoutModel",
      "state": {
       "align_items": "stretch",
       "width": "100%"
      }
     },
     "cd605729bbed40deb2a71f0411cebe3a": {
      "model_module": "@jupyter-widgets/base",
      "model_module_version": "1.2.0",
      "model_name": "LayoutModel",
      "state": {
       "align_items": "stretch",
       "width": "100%"
      }
     },
     "ce33936d9b1f495387215438573e39c3": {
      "model_module": "@jupyter-widgets/base",
      "model_module_version": "1.2.0",
      "model_name": "LayoutModel",
      "state": {}
     },
     "ce357d1b8d554350b8128f2178a6829f": {
      "model_module": "@jupyter-widgets/controls",
      "model_module_version": "1.5.0",
      "model_name": "AccordionModel",
      "state": {
       "_titles": {
        "0": "eplus_pipework_params"
       },
       "children": [
        "IPY_MODEL_f5dd191654d043e9a9f2da0d8be06c27"
       ],
       "layout": "IPY_MODEL_6a6ffe791a6542d9bcb55ef3feb08812",
       "selected_index": null
      }
     },
     "cea50d92b1d545e6bdd09a6e16791f0c": {
      "model_module": "@jupyter-widgets/base",
      "model_module_version": "1.2.0",
      "model_name": "LayoutModel",
      "state": {}
     },
     "cfb4c1d7dbdc484db9e9a22554d4fee2": {
      "model_module": "@jupyter-widgets/controls",
      "model_module_version": "1.5.0",
      "model_name": "HBoxModel",
      "state": {
       "children": [
        "IPY_MODEL_2427e37628434c8e8b0241fa6ddd6f9c",
        "IPY_MODEL_81a3eb92fecb44958bdd32409f2722ba"
       ],
       "layout": "IPY_MODEL_703b13f5435a45038ec380a9d9dc0366"
      }
     },
     "cfbc0121c43b4f478f1a8bd4b3e7a2b5": {
      "model_module": "@jupyter-widgets/controls",
      "model_module_version": "1.5.0",
      "model_name": "ButtonModel",
      "state": {
       "button_style": "success",
       "description": "run",
       "layout": "IPY_MODEL_4517abfa75e74e0ba40dbecc663ac7f9",
       "style": "IPY_MODEL_ddd2a934f7d04db191c6e39199df6f7c",
       "tooltip": "execute the script based on the user inputs"
      }
     },
     "cffae13d00f84a118fee708aa6a970da": {
      "model_module": "@jupyter-widgets/base",
      "model_module_version": "1.2.0",
      "model_name": "LayoutModel",
      "state": {}
     },
     "d00b6c6b19314f03863cc2d77f1e91f5": {
      "model_module": "@jupyter-widgets/base",
      "model_module_version": "1.2.0",
      "model_name": "LayoutModel",
      "state": {
       "height": "30px",
       "width": "auto"
      }
     },
     "d06d316000a0438babad6d0196a2ca60": {
      "model_module": "@jupyter-widgets/controls",
      "model_module_version": "1.5.0",
      "model_name": "ButtonStyleModel",
      "state": {
       "font_weight": "bold"
      }
     },
     "d0ea93007c014667a0f5fec7e378585f": {
      "model_module": "@jupyter-widgets/controls",
      "model_module_version": "1.5.0",
      "model_name": "DescriptionStyleModel",
      "state": {
       "description_width": ""
      }
     },
     "d1c79270663346599e9c4ef51a5da89f": {
      "model_module": "@jupyter-widgets/controls",
      "model_module_version": "1.5.0",
      "model_name": "ButtonModel",
      "state": {
       "icon": "question-circle",
       "layout": "IPY_MODEL_04c8e76a40904f9cb5f9c55c1ab5020f",
       "style": "IPY_MODEL_988d7e953bbf41ed93b1edb5eed76fdf",
       "tooltip": "describes the functionality of elements in the RunApp interface"
      }
     },
     "d1e7a41016a940debd99289568ad9b3e": {
      "model_module": "@jupyter-widgets/base",
      "model_module_version": "1.2.0",
      "model_name": "LayoutModel",
      "state": {}
     },
     "d273df20930c49a1a56afb5f47e21f66": {
      "model_module": "@jupyter-widgets/controls",
      "model_module_version": "1.5.0",
      "model_name": "ButtonStyleModel",
      "state": {
       "font_weight": "bold"
      }
     },
     "d2846d3c80f54c1f8a1e72e45269ad4c": {
      "model_module": "@jupyter-widgets/base",
      "model_module_version": "1.2.0",
      "model_name": "LayoutModel",
      "state": {}
     },
     "d2e42fe961414553b05d2353c3852b10": {
      "model_module": "@jupyter-widgets/controls",
      "model_module_version": "1.5.0",
      "model_name": "ButtonStyleModel",
      "state": {
       "font_weight": "bold"
      }
     },
     "d322336ea9554a4283f4fb62f6a9e77e": {
      "model_module": "@jupyter-widgets/controls",
      "model_module_version": "1.5.0",
      "model_name": "ButtonStyleModel",
      "state": {
       "font_weight": "bold"
      }
     },
     "d33b10f3100c47f8b588af6bf4586fa8": {
      "model_module": "@jupyter-widgets/controls",
      "model_module_version": "1.5.0",
      "model_name": "ButtonModel",
      "state": {
       "button_style": "info",
       "description": "show source code",
       "layout": "IPY_MODEL_a6bf311314b64aadbf4599ab98bb8e7c",
       "style": "IPY_MODEL_e2667ef0b6db4ad7b1594833145c3d56",
       "tooltip": "shows the raw python code in the preview window below"
      }
     },
     "d491f01ed90947acbc25d7d4db73651a": {
      "model_module": "@jupyter-widgets/base",
      "model_module_version": "1.2.0",
      "model_name": "LayoutModel",
      "state": {}
     },
     "d500b31d89db424c972bf386db02848c": {
      "model_module": "@jupyter-widgets/controls",
      "model_module_version": "1.5.0",
      "model_name": "HBoxModel",
      "state": {
       "children": [
        "IPY_MODEL_54e5d9e3ef5f4c848a08a870b3f28787",
        "IPY_MODEL_c29971943ad04489afd6bf559cf40681"
       ],
       "layout": "IPY_MODEL_53a7eace7e19417985296d56b33a4041"
      }
     },
     "d584f4259007401293faf57ae743071d": {
      "model_module": "@jupyter-widgets/controls",
      "model_module_version": "1.5.0",
      "model_name": "AccordionModel",
      "state": {
       "_titles": {
        "0": "eplus_pipework_params"
       },
       "children": [
        "IPY_MODEL_7156f47296664568a9a8d079074192a9"
       ],
       "layout": "IPY_MODEL_e8854e3966ed41c29d445df112b3d51f"
      }
     },
     "d596a57941f4410f95e8229ce1807904": {
      "model_module": "@jupyter-widgets/base",
      "model_module_version": "1.2.0",
      "model_name": "LayoutModel",
      "state": {
       "width": "5%"
      }
     },
     "d5b8ba9eb22e46e68f875959a941939d": {
      "model_module": "@jupyter-widgets/controls",
      "model_module_version": "1.5.0",
      "model_name": "TextModel",
      "state": {
       "description": "inputs",
       "disabled": true,
       "layout": "IPY_MODEL_5ac1c9c8c56f4a5c945c1647942aab9a",
       "style": "IPY_MODEL_d0ea93007c014667a0f5fec7e378585f",
       "value": "C:\\engDev\\git_mf\\ipyrun\\ipyrun\\appdata\\inputs\\inputs-eplus_pipework_params.csv"
      }
     },
     "d75b67daa64a4de799b33d4010c2eab8": {
      "model_module": "@jupyter-widgets/controls",
      "model_module_version": "1.5.0",
      "model_name": "ButtonModel",
      "state": {
       "button_style": "info",
       "description": "preview outputs",
       "layout": "IPY_MODEL_7632e731c00d4985b17d6572e62c51e5",
       "style": "IPY_MODEL_9dac17b32cb34efe922fc70de73e8c62",
       "tooltip": "show a preview of the output files generated when the script runs"
      }
     },
     "d7cbdc6bdaf64a9ebed1363d52578adb": {
      "model_module": "@jupyter-widgets/controls",
      "model_module_version": "1.5.0",
      "model_name": "CheckboxModel",
      "state": {
       "disabled": false,
       "indent": false,
       "layout": "IPY_MODEL_076e568c376648259625b66cf60e85be",
       "style": "IPY_MODEL_784044cdd6334366b39f6c98a844756b",
       "value": false
      }
     },
     "d85aab71c51a4e97af129bc6a650665c": {
      "model_module": "@jupyter-widgets/controls",
      "model_module_version": "1.5.0",
      "model_name": "ButtonModel",
      "state": {
       "button_style": "info",
       "description": "show log",
       "layout": "IPY_MODEL_a2fceaa3dc6d45e69fe4377abe2f1e7f",
       "style": "IPY_MODEL_2f3384d1c5994760b606987065bca4a0",
       "tooltip": "show a log of when the script was executed to generate the outputs, and by who"
      }
     },
     "d8b20fafc5a942bc8299f192fc12ef06": {
      "model_module": "@jupyter-widgets/base",
      "model_module_version": "1.2.0",
      "model_name": "LayoutModel",
      "state": {
       "border": "0px",
       "margin": "0px",
       "padding": "0px"
      }
     },
     "d8b74efb3ae14fbf9e232bec3243d9fa": {
      "model_module": "@jupyter-widgets/controls",
      "model_module_version": "1.5.0",
      "model_name": "ButtonModel",
      "state": {
       "button_style": "warning",
       "description": "edit inputs",
       "layout": "IPY_MODEL_bc477db2a75e4a53adc37fffc60b4f5e",
       "style": "IPY_MODEL_d322336ea9554a4283f4fb62f6a9e77e",
       "tooltip": "edit the user input information that is used when the script is executed"
      }
     },
     "d976570a49a04d559d9e9f832e4019f9": {
      "model_module": "@jupyter-widgets/controls",
      "model_module_version": "1.5.0",
      "model_name": "SelectMultipleModel",
      "state": {
       "_options_labels": [
        "..\\data\\external\\eplus_pipework_params.csv"
       ],
       "description": "outputs",
       "index": [],
       "layout": "IPY_MODEL_e0eb39843871491eb56a396d0add74dc",
       "rows": 4,
       "style": "IPY_MODEL_03bc4c352dd24185a568aede712271e4"
      }
     },
     "d97e7e6479724f45bdb78504f660f791": {
      "model_module": "@jupyter-widgets/base",
      "model_module_version": "1.2.0",
      "model_name": "LayoutModel",
      "state": {}
     },
     "da199075bd904dbf83ecbb717eb43914": {
      "model_module": "@jupyter-widgets/base",
      "model_module_version": "1.2.0",
      "model_name": "LayoutModel",
      "state": {}
     },
     "da2627b186564668bb57cc53f93bfebc": {
      "model_module": "@jupyter-widgets/controls",
      "model_module_version": "1.5.0",
      "model_name": "ButtonStyleModel",
      "state": {
       "font_weight": "bold"
      }
     },
     "dab159b3ab3b4ba5bd2875f8043c0305": {
      "model_module": "@jupyter-widgets/base",
      "model_module_version": "1.2.0",
      "model_name": "LayoutModel",
      "state": {
       "height": "30px",
       "width": "auto"
      }
     },
     "dac44fedbebf443aa18952cb55263f04": {
      "model_module": "@jupyter-widgets/controls",
      "model_module_version": "1.5.0",
      "model_name": "DescriptionStyleModel",
      "state": {
       "description_width": ""
      }
     },
     "dacb283c02044de1a962d01023f3c127": {
      "model_module": "@jupyter-widgets/base",
      "model_module_version": "1.2.0",
      "model_name": "LayoutModel",
      "state": {
       "height": "30px",
       "width": "auto"
      }
     },
     "db4894661b9444c189384212ada963f1": {
      "model_module": "@jupyter-widgets/controls",
      "model_module_version": "1.5.0",
      "model_name": "ButtonStyleModel",
      "state": {
       "font_weight": "bold"
      }
     },
     "db5b5f76a4334baf9f4f0fcacb2c3892": {
      "model_module": "@jupyter-widgets/controls",
      "model_module_version": "1.5.0",
      "model_name": "BoxModel",
      "state": {
       "children": [
        "IPY_MODEL_4ef71da2e08b4ce1b2ded00e0987af8e"
       ],
       "layout": "IPY_MODEL_b3b4689fd1364d0f9e9d62c132e0eca2"
      }
     },
     "dba84213206f4eb2878903702ce907a5": {
      "model_module": "@jupyter-widgets/controls",
      "model_module_version": "1.5.0",
      "model_name": "SelectMultipleModel",
      "state": {
       "_options_labels": [
        "..\\data\\external\\eplus_pipework_params.csv"
       ],
       "description": "outputs",
       "index": [],
       "layout": "IPY_MODEL_6278b88151184c04a66c485437b21c15",
       "rows": 4,
       "style": "IPY_MODEL_9a2341ff5315499493a687c1327a4d64"
      }
     },
     "dbdaf33ad04d4c62918e2d4076127f40": {
      "model_module": "@jupyter-widgets/base",
      "model_module_version": "1.2.0",
      "model_name": "LayoutModel",
      "state": {}
     },
     "dc4c0d1a615f415aa60d2f5c6554a83f": {
      "model_module": "@jupyter-widgets/controls",
      "model_module_version": "1.5.0",
      "model_name": "ButtonStyleModel",
      "state": {
       "font_weight": "bold"
      }
     },
     "dd315fb6d31940779bde2ce7f29334c4": {
      "model_module": "@jupyter-widgets/controls",
      "model_module_version": "1.5.0",
      "model_name": "TextModel",
      "state": {
       "description": "script",
       "disabled": true,
       "layout": "IPY_MODEL_2382055f7fa943d7bb9c36d1eafda454",
       "style": "IPY_MODEL_4f582bcf769d4bed8678f3eff7f7f965",
       "value": "C:\\engDev\\git_mf\\MF_Toolbox\\dev\\mf_scripts\\eplus_pipework_params.py"
      }
     },
     "dd7cf0081e46485086b9c3c0191dc61e": {
      "model_module": "@jupyter-widgets/base",
      "model_module_version": "1.2.0",
      "model_name": "LayoutModel",
      "state": {
       "height": "30px",
       "max_width": "30px",
       "padding": "3px"
      }
     },
     "ddd2a934f7d04db191c6e39199df6f7c": {
      "model_module": "@jupyter-widgets/controls",
      "model_module_version": "1.5.0",
      "model_name": "ButtonStyleModel",
      "state": {
       "font_weight": "bold"
      }
     },
     "de0be4b08e3640bd906aaf65b8679c3d": {
      "model_module": "@jupyter-widgets/controls",
      "model_module_version": "1.5.0",
      "model_name": "ButtonStyleModel",
      "state": {
       "font_weight": "bold"
      }
     },
     "de155efa42d94309b1241479b002df05": {
      "model_module": "@jupyter-widgets/base",
      "model_module_version": "1.2.0",
      "model_name": "LayoutModel",
      "state": {
       "border": "0px",
       "margin": "0px",
       "padding": "0px"
      }
     },
     "de73582884604dacae4759f02f588642": {
      "model_module": "@jupyter-widgets/controls",
      "model_module_version": "1.5.0",
      "model_name": "ButtonStyleModel",
      "state": {
       "font_weight": "bold"
      }
     },
     "de9a0dfd4bd94d169c95aca9a34f6b22": {
      "model_module": "@jupyter-widgets/controls",
      "model_module_version": "1.5.0",
      "model_name": "ButtonStyleModel",
      "state": {
       "font_weight": "bold"
      }
     },
     "df455b6990fe4b2bb540511dea4a38ee": {
      "model_module": "@jupyter-widgets/base",
      "model_module_version": "1.2.0",
      "model_name": "LayoutModel",
      "state": {
       "width": "100%"
      }
     },
     "df6de06c75474a8987234329648f8ae1": {
      "model_module": "@jupyter-widgets/controls",
      "model_module_version": "1.5.0",
      "model_name": "ButtonModel",
      "state": {
       "button_style": "info",
       "description": "show guide",
       "layout": "IPY_MODEL_9b8c0c1541a3489eb4f0dde8b364d2bb",
       "style": "IPY_MODEL_de9a0dfd4bd94d169c95aca9a34f6b22",
       "tooltip": "read the \"docstring\", ie. the documentation that was written to accompany the script"
      }
     },
     "e093112f998b4af395d5ab55271dcc5b": {
      "model_module": "@jupyter-widgets/base",
      "model_module_version": "1.2.0",
      "model_name": "LayoutModel",
      "state": {}
     },
     "e0eb39843871491eb56a396d0add74dc": {
      "model_module": "@jupyter-widgets/base",
      "model_module_version": "1.2.0",
      "model_name": "LayoutModel",
      "state": {
       "height": "30px",
       "width": "auto"
      }
     },
     "e17d48661f9141f89637cfb9cdcac2a9": {
      "model_module": "@jupyter-widgets/controls",
      "model_module_version": "1.5.0",
      "model_name": "ButtonStyleModel",
      "state": {
       "font_weight": "bold"
      }
     },
     "e17dbad01e7345f1b060e230cbc27d6b": {
      "model_module": "@jupyter-widgets/controls",
      "model_module_version": "1.5.0",
      "model_name": "DescriptionStyleModel",
      "state": {
       "description_width": ""
      }
     },
     "e20e4bbc19c24c1888a81015300d9c2b": {
      "model_module": "@jupyter-widgets/base",
      "model_module_version": "1.2.0",
      "model_name": "LayoutModel",
      "state": {}
     },
     "e2667ef0b6db4ad7b1594833145c3d56": {
      "model_module": "@jupyter-widgets/controls",
      "model_module_version": "1.5.0",
      "model_name": "ButtonStyleModel",
      "state": {}
     },
     "e2e2126522fb4c2ea29e33a3ec80d30c": {
      "buffers": [
       {
        "data": "H4sIAAAAAAACA22PTW6DMBCFr1LNGiITCSKxbVUpm1wAI2TBxHHrP3ls0iri7jHQqptu7Dff+M08P0AGNUH7gElEAW3XAXqdaPDK492Fz8GLIAxBAR8HmSxFZzEXR3ZkJWtKVr9UTVtXbX2Cwiat9wNeW87RyjecOZcqDubKufLfIdm/W3i/Ls3A+hQpgzDe1Iycr9NZw+qyauqq3Nvlv7kOI83Q9wUoO+HXENyd1s9YYTCLDs4rhtyfhU4b6ljfL7/vR6eTsRsGH9yIRJdszYYOEmHYRA6JUf3QqwtG6DNR2usoJG1iT/nu4y3nWZYnqTbMEFkBAAA=",
        "encoding": "base64",
        "path": [
         "_grid_data_up"
        ]
       }
      ],
      "model_module": "ipyaggrid",
      "model_module_version": "~0.2.1",
      "model_name": "AgGridModel",
      "state": {
       "_grid_data_down": [
        {
         "datetime": "2020-06-05 16:51:57",
         "formalIssue": null,
         "inputsFpth": "C:\\engDev\\git_mf\\ipyrun\\ipyrun\\appdata\\inputs\\archive\\20200605-1651-inputs-eplus_pipework_params.csv",
         "processName": "eplus_pipework_params",
         "tags": null,
         "user": "j.gunstone"
        }
       ],
       "_grid_options_mono_down": "{\"enableSorting\": true, \"enableFilter\": true, \"enableColResize\": true, \"enableRangeSelection\": true, \"columnDefs\": [{\"field\": \"processName\", \"type\": \"textColumn\", \"headerName\": \"Processname\"}, {\"field\": \"user\", \"type\": \"textColumn\", \"headerName\": \"User\"}, {\"field\": \"datetime\", \"type\": \"textColumn\", \"headerName\": \"Datetime\"}, {\"field\": \"formalIssue\", \"type\": \"numberColumn\", \"headerName\": \"Formalissue\"}, {\"field\": \"tags\", \"type\": \"numberColumn\", \"headerName\": \"Tags\"}, {\"field\": \"inputsFpth\", \"type\": \"textColumn\", \"headerName\": \"Inputsfpth\"}], \"columnTypes\": {\"numberColumn\": {\"filter\": \"agNumberColumnFilter\"}, \"textColumn\": {\"filter\": \"agTextColumnFilter\"}, \"dateColumn\": {\"valueFormatter\": \"helpers.dateFormatter\", \"filter\": \"agDateColumnFilter\", \"filterParams\": {\"comparator\": \"helpers.compareDates\"}}}}",
       "_id": 278553539,
       "_js_helpers_builtin": "helpersBuiltin = {\n    dateFormatter: function(node) {\n        // make sure date is not undefined\n        if (node && node.value) {\n            let d = new Date(node.value);\n            let h = d.getHours();\n            let m = d.getMinutes();\n            let s = d.getSeconds();\n            const offset = d.getTimezoneOffset() * 60000;\n            d = new Date(d.getTime() - offset);\n            const ymd = d.toISOString().substring(0, 10);\n            if (h === 0 && m === 0 && s === 0) {\n                return ymd;\n            }\n            if (h === 0) h = '00';\n            if (m === 0) m = '00';\n            if (s === 0) s = '00';\n            return `${ymd} ${h}:${m}:${s}`;\n        }\n        return null;\n    },\n\n    formatInt: d3.format(',.0f'),\n    formatFloat: d3.format(',.2f'),\n\n    intFormatter: function(node) {\n        return formatInt(node.value);\n    },\n\n    floatFormatter: function(node) {\n        return formatFloat(node.value);\n    },\n\n    compareDates: function(filterLocalDate, cellValue) {\n        // Assume dates are stored as iso\n        const cellDate = new Date(cellValue);\n\n        if (cellDate < filterLocalDate) {\n            return -1;\n        } else if (cellDate > filterLocalDate) {\n            return 1;\n        }\n        return 0;\n    },\n\n    sizeToFit: function(gridOptions) {\n        gridOptions.api.sizeColumnsToFit();\n    },\n\n    autoSizeAll: function(gridOptions) {\n        const allColumnIds = [];\n        gridOptions.columnApi.getAllColumns().forEach(column => {\n            allColumnIds.push(column.colId);\n        });\n        gridOptions.columnApi.autoSizeColumns(allColumnIds);\n    },\n\n    /**\n     * Exporting data to CSV using ag-Grid api.\n     * @param {Object} gridOptions\n     */\n    exportToCsv: function(gridOptions) {\n        const params = {\n            skipHeader: false,\n            columnGroups: true,\n            skipFooters: false,\n            skipGroups: false,\n            skipPinnedTop: false,\n            skipPinnedBottom: false,\n            allColumns: true,\n            onlySelected: false,\n            suppressQuotes: true,\n            fileName: 'my_file.csv',\n            sheetName: 'my_sheet',\n            shouldRowBeSkipped: () => false,\n            processCellCallback: param => param.value,\n            processHeaderCallback: null,\n        };\n        gridOptions.api.exportDataAsCsv(params);\n    },\n\n    /**\n     * Exporting data to Excel using ag-Grid api.\n     * @param {Object} gridOptions\n     */\n    exportToExcel: function(gridOptions) {\n        const params = {\n            skipHeader: false,\n            columnGroups: true,\n            skipFooters: false,\n            skipGroups: false,\n            skipPinnedTop: false,\n            skipPinnedBottom: false,\n            allColumns: true,\n            onlySelected: false,\n            suppressQuotes: true,\n            fileName: 'my_file.xls',\n            sheetName: 'my_sheet',\n            shouldRowBeSkipped: () => false, // TODO : check\n            processCellCallback: param => param.value,\n            processHeaderCallback: null,\n        };\n        gridOptions.api.exportDataAsExcel(params);\n    },\n};\n",
       "columns_fit": "size_to_fit",
       "compress_data": true,
       "export_mode": "disabled",
       "height": "350px",
       "js_helpers": "{\"dateFormatter\":\"function(node) {\\n        // make sure date is not undefined\\n        if (node && node.value) {\\n            let d = new Date(node.value);\\n            let h = d.getHours();\\n            let m = d.getMinutes();\\n            let s = d.getSeconds();\\n            const offset = d.getTimezoneOffset() * 60000;\\n            d = new Date(d.getTime() - offset);\\n            const ymd = d.toISOString().substring(0, 10);\\n            if (h === 0 && m === 0 && s === 0) {\\n                return ymd;\\n            }\\n            if (h === 0) h = '00';\\n            if (m === 0) m = '00';\\n            if (s === 0) s = '00';\\n            return `${ymd} ${h}:${m}:${s}`;\\n        }\\n        return null;\\n    }\",\"formatInt\":\" >-,.0f\",\"formatFloat\":\" >-,.2f\",\"intFormatter\":\"function(node) {\\n        return formatInt(node.value);\\n    }\",\"floatFormatter\":\"function(node) {\\n        return formatFloat(node.value);\\n    }\",\"compareDates\":\"function(filterLocalDate, cellValue) {\\n        // Assume dates are stored as iso\\n        const cellDate = new Date(cellValue);\\n\\n        if (cellDate < filterLocalDate) {\\n            return -1;\\n        } else if (cellDate > filterLocalDate) {\\n            return 1;\\n        }\\n        return 0;\\n    }\",\"sizeToFit\":\"function(gridOptions) {\\n        gridOptions.api.sizeColumnsToFit();\\n    }\",\"autoSizeAll\":\"function(gridOptions) {\\n        const allColumnIds = [];\\n        gridOptions.columnApi.getAllColumns().forEach(column => {\\n            allColumnIds.push(column.colId);\\n        });\\n        gridOptions.columnApi.autoSizeColumns(allColumnIds);\\n    }\",\"exportToCsv\":\"function(gridOptions) {\\n        const params = {\\n            skipHeader: false,\\n            columnGroups: true,\\n            skipFooters: false,\\n            skipGroups: false,\\n            skipPinnedTop: false,\\n            skipPinnedBottom: false,\\n            allColumns: true,\\n            onlySelected: false,\\n            suppressQuotes: true,\\n            fileName: 'my_file.csv',\\n            sheetName: 'my_sheet',\\n            shouldRowBeSkipped: () => false,\\n            processCellCallback: param => param.value,\\n            processHeaderCallback: null,\\n        };\\n        gridOptions.api.exportDataAsCsv(params);\\n    }\",\"exportToExcel\":\"function(gridOptions) {\\n        const params = {\\n            skipHeader: false,\\n            columnGroups: true,\\n            skipFooters: false,\\n            skipGroups: false,\\n            skipPinnedTop: false,\\n            skipPinnedBottom: false,\\n            allColumns: true,\\n            onlySelected: false,\\n            suppressQuotes: true,\\n            fileName: 'my_file.xls',\\n            sheetName: 'my_sheet',\\n            shouldRowBeSkipped: () => false, // TODO : check\\n            processCellCallback: param => param.value,\\n            processHeaderCallback: null,\\n        };\\n        gridOptions.api.exportDataAsExcel(params);\\n    }\"}",
       "layout": "IPY_MODEL_3c7b2f861e2b4131a184ea9fe659264a",
       "menu": {
        "button_div_css": ".flex-button-div-278553539 {\ndisplay: flex;\njustify-content: flex-start;\nalign-items: flex-start;\nalign-content: flex-start;\nflex-flow: row wrap;\n}\n",
        "buttons": [],
        "input_div_css": ".flex-input-div-278553539 {\ndisplay: flex;\njustify-content: flex-start;\nalign-items: baseline;\nalign-content: flex-start;\nflex-flow: row wrap;\n}\n",
        "inputs": [
         {
          "css": ".flex-child-quick-filter-278553539 {\norder: 0;\nalign-self: auto;\nmargin: 5px;\nflex: 0.00 1.00 auto;\nwidth: 150px;\n}\n",
          "name": "Quick Filter"
         }
        ],
        "menu_div_css": ".flex-menu-div-278553539 {\ndisplay: flex;\njustify-content: flex-start;\nalign-items: flex-start;\nalign-content: flex-start;\nflex-flow: row wrap;\n}\n"
       },
       "theme": "ag-theme-balham",
       "width": "100%"
      }
     },
     "e382ddd06af0401b87213d7488c6f87d": {
      "model_module": "@jupyter-widgets/base",
      "model_module_version": "1.2.0",
      "model_name": "LayoutModel",
      "state": {}
     },
     "e4c5c60191dc48219e07d1cd476a23d3": {
      "model_module": "@jupyter-widgets/controls",
      "model_module_version": "1.5.0",
      "model_name": "TextModel",
      "state": {
       "description": "inputs",
       "disabled": true,
       "layout": "IPY_MODEL_1f90ca50ce0f4f89bffff2867f2c7219",
       "style": "IPY_MODEL_e6633163b72a4352854a65adc662858b",
       "value": "C:\\engDev\\git_mf\\ipyrun\\ipyrun\\appdata\\inputs\\inputs-eplus_pipework_params.csv"
      }
     },
     "e4e63f244fa648ea91b070353a167f89": {
      "model_module": "@jupyter-widgets/base",
      "model_module_version": "1.2.0",
      "model_name": "LayoutModel",
      "state": {
       "align_items": "stretch",
       "width": "100%"
      }
     },
     "e5b455682f0f4e668aded689dd9e9fa2": {
      "model_module": "@jupyter-widgets/controls",
      "model_module_version": "1.5.0",
      "model_name": "ButtonModel",
      "state": {
       "button_style": "warning",
       "description": "edit inputs",
       "layout": "IPY_MODEL_b9434817eee54bc680dc9204f4dd080c",
       "style": "IPY_MODEL_b8c98354761b44c98e55e2ea2deb2af3",
       "tooltip": "edit the user input information that is used when the script is executed"
      }
     },
     "e5d6b13246414bbe92c6521ea2cc3414": {
      "model_module": "@jupyter-widgets/base",
      "model_module_version": "1.2.0",
      "model_name": "LayoutModel",
      "state": {
       "align_items": "stretch",
       "width": "100%"
      }
     },
     "e636172e06ec4051b79c1e52912ec629": {
      "model_module": "@jupyter-widgets/base",
      "model_module_version": "1.2.0",
      "model_name": "LayoutModel",
      "state": {
       "width": "100%"
      }
     },
     "e6633163b72a4352854a65adc662858b": {
      "model_module": "@jupyter-widgets/controls",
      "model_module_version": "1.5.0",
      "model_name": "DescriptionStyleModel",
      "state": {
       "description_width": ""
      }
     },
     "e67e1aa4a9d2489c9cc0786f78c26a37": {
      "model_module": "@jupyter-widgets/base",
      "model_module_version": "1.2.0",
      "model_name": "LayoutModel",
      "state": {}
     },
     "e69b79e7f620491cb8afb611a716303f": {
      "model_module": "@jupyter-widgets/controls",
      "model_module_version": "1.5.0",
      "model_name": "SelectMultipleModel",
      "state": {
       "_options_labels": [
        "..\\data\\external\\eplus_pipework_params.csv"
       ],
       "description": "outputs",
       "index": [],
       "layout": "IPY_MODEL_079c29ea42334be38bd35e3b5a978f87",
       "rows": 4,
       "style": "IPY_MODEL_a79c936c62e74800bc2a323ff6c7e84d"
      }
     },
     "e6ee3797aa684f4b892c68b91fc151d4": {
      "model_module": "@jupyter-widgets/controls",
      "model_module_version": "1.5.0",
      "model_name": "DescriptionStyleModel",
      "state": {
       "description_width": ""
      }
     },
     "e78481d395474dfdb2659a65eef2357f": {
      "model_module": "@jupyter-widgets/base",
      "model_module_version": "1.2.0",
      "model_name": "LayoutModel",
      "state": {
       "align_items": "stretch",
       "width": "100%"
      }
     },
     "e7c75703f74a46e1b82f545e9ca1fb3c": {
      "model_module": "@jupyter-widgets/controls",
      "model_module_version": "1.5.0",
      "model_name": "CheckboxModel",
      "state": {
       "disabled": false,
       "indent": false,
       "layout": "IPY_MODEL_c617b27d8e33401ba5107218cd06622c",
       "style": "IPY_MODEL_78449ad7a600477c8c279d2806ea31ba",
       "value": false
      }
     },
     "e7c8203a47864e5bb0916164ca9de480": {
      "model_module": "@jupyter-widgets/base",
      "model_module_version": "1.2.0",
      "model_name": "LayoutModel",
      "state": {
       "width": "5%"
      }
     },
     "e8179b1cc5e04412bb8e31f628a5f27f": {
      "model_module": "@jupyter-widgets/base",
      "model_module_version": "1.2.0",
      "model_name": "LayoutModel",
      "state": {
       "align_items": "stretch",
       "width": "100%"
      }
     },
     "e84ede888a904c5e81b36ce41c76fa59": {
      "model_module": "@jupyter-widgets/base",
      "model_module_version": "1.2.0",
      "model_name": "LayoutModel",
      "state": {}
     },
     "e85d89f937a54e6dba924fbd14d75cd1": {
      "model_module": "@jupyter-widgets/controls",
      "model_module_version": "1.5.0",
      "model_name": "SelectMultipleModel",
      "state": {
       "_options_labels": [
        "..\\data\\external\\eplus_pipework_params.csv"
       ],
       "description": "outputs",
       "index": [],
       "layout": "IPY_MODEL_7c600b35da1844a186bd3a9c0fc37c85",
       "rows": 4,
       "style": "IPY_MODEL_5b8bbc9597ff4b328b23638aa4f04725"
      }
     },
     "e8854e3966ed41c29d445df112b3d51f": {
      "model_module": "@jupyter-widgets/base",
      "model_module_version": "1.2.0",
      "model_name": "LayoutModel",
      "state": {
       "width": "100%"
      }
     },
     "e921808462f44531ade6e7b872586887": {
      "model_module": "@jupyter-widgets/controls",
      "model_module_version": "1.5.0",
      "model_name": "TextModel",
      "state": {
       "description": "script",
       "disabled": true,
       "layout": "IPY_MODEL_9901ec3c758e4709b896f1aa4b0494b0",
       "style": "IPY_MODEL_328dba72f3ca42858d1673bb40ef0397",
       "value": "C:\\engDev\\git_mf\\MF_Toolbox\\dev\\mf_scripts\\eplus_pipework_params.py"
      }
     },
     "e93e0dbc465647108ae5aea127b11a01": {
      "model_module": "@jupyter-widgets/controls",
      "model_module_version": "1.5.0",
      "model_name": "VBoxModel",
      "state": {
       "children": [
        "IPY_MODEL_1ac0083079fd43b6b2041ae857ee5109",
        "IPY_MODEL_7bc53c0eee26404f8f4444cc6e02fdd1",
        "IPY_MODEL_957cdbf3ac1f47aba47d56e82a80356d"
       ],
       "layout": "IPY_MODEL_17cda547260e4d7599005f0f2bc6e085"
      }
     },
     "eb1bce88c689422ba0c3472519f8481c": {
      "model_module": "@jupyter-widgets/controls",
      "model_module_version": "1.5.0",
      "model_name": "ButtonModel",
      "state": {
       "button_style": "info",
       "description": "preview outputs",
       "layout": "IPY_MODEL_03eb111b161c44c8acdafe2670d4a63d",
       "style": "IPY_MODEL_6a052361f7b4457b8136f24e05537e67",
       "tooltip": "show a preview of the output files generated when the script runs"
      }
     },
     "eb8e113c69a543e591a55d8a0cb437f0": {
      "model_module": "@jupyter-widgets/base",
      "model_module_version": "1.2.0",
      "model_name": "LayoutModel",
      "state": {}
     },
     "ed315d54138441db9f3e77a0fc42b6e1": {
      "model_module": "@jupyter-widgets/controls",
      "model_module_version": "1.5.0",
      "model_name": "ButtonModel",
      "state": {
       "icon": "eye-slash",
       "layout": "IPY_MODEL_4350a09169774e0ea979b4cb728db2b0",
       "style": "IPY_MODEL_4241205778a34f7db87cdf01162ff6a9",
       "tooltip": "removes temporary output view"
      }
     },
     "ed6ff23bd4c3412bb4cd8fb5174173d4": {
      "model_module": "@jupyter-widgets/controls",
      "model_module_version": "1.5.0",
      "model_name": "ButtonModel",
      "state": {
       "button_style": "info",
       "description": "show log",
       "layout": "IPY_MODEL_c644ccd6f0d14a4d83f3b6d621af4a5e",
       "style": "IPY_MODEL_561ea146050a4d1eae466777bb0e8068",
       "tooltip": "show a log of when the script was executed to generate the outputs, and by who"
      }
     },
     "ee3a7d71d8e84f748132456da0abedff": {
      "model_module": "@jupyter-widgets/base",
      "model_module_version": "1.2.0",
      "model_name": "LayoutModel",
      "state": {
       "height": "30px",
       "width": "auto"
      }
     },
     "ef13975eb96c46c9abeadc38e47d02e9": {
      "model_module": "@jupyter-widgets/base",
      "model_module_version": "1.2.0",
      "model_name": "LayoutModel",
      "state": {
       "height": "30px",
       "width": "auto"
      }
     },
     "efc6479dcdcf4eb9a76f0e3df27a8a53": {
      "model_module": "@jupyter-widgets/base",
      "model_module_version": "1.2.0",
      "model_name": "LayoutModel",
      "state": {}
     },
     "f0f6f023e6be4af1b8bfb6cd9cb6981d": {
      "model_module": "@jupyter-widgets/base",
      "model_module_version": "1.2.0",
      "model_name": "LayoutModel",
      "state": {}
     },
     "f297ec493ae84f25b76c117680de6d69": {
      "model_module": "@jupyter-widgets/base",
      "model_module_version": "1.2.0",
      "model_name": "LayoutModel",
      "state": {
       "height": "30px",
       "width": "auto"
      }
     },
     "f2a1f6168985487e9d03f84182eec0d0": {
      "model_module": "@jupyter-widgets/base",
      "model_module_version": "1.2.0",
      "model_name": "LayoutModel",
      "state": {}
     },
     "f2d6b0f1b9be4da38bea874070ee2d4e": {
      "model_module": "@jupyter-widgets/base",
      "model_module_version": "1.2.0",
      "model_name": "LayoutModel",
      "state": {
       "border": "0px",
       "margin": "0px",
       "padding": "0px"
      }
     },
     "f352fc7116084f41940621f3e67a0145": {
      "model_module": "@jupyter-widgets/controls",
      "model_module_version": "1.5.0",
      "model_name": "TextModel",
      "state": {
       "description": "inputs",
       "disabled": true,
       "layout": "IPY_MODEL_d00b6c6b19314f03863cc2d77f1e91f5",
       "style": "IPY_MODEL_7ffc8ff991bb416cb846dc8b5f9b1673",
       "value": "C:\\engDev\\git_mf\\ipyrun\\ipyrun\\appdata\\inputs\\inputs-eplus_pipework_params.csv"
      }
     },
     "f3b5174bae4d4d99bca2a75a91e16d3d": {
      "model_module": "@jupyter-widgets/controls",
      "model_module_version": "1.5.0",
      "model_name": "ButtonModel",
      "state": {
       "button_style": "success",
       "description": "run",
       "layout": "IPY_MODEL_a093c338af834ee8b15b9dfed61a08fe",
       "style": "IPY_MODEL_b3f8521c26dc4d84a89522e69e68afdf",
       "tooltip": "execute the script based on the user inputs"
      }
     },
     "f3c872565ede4d1a822bc6d87faa8b26": {
      "model_module": "@jupyter-widgets/controls",
      "model_module_version": "1.5.0",
      "model_name": "VBoxModel",
      "state": {
       "children": [
        "IPY_MODEL_3c10ed8c1dcd4b90934dbd1443395ec7",
        "IPY_MODEL_533384b93b0e4134852ed51b728d1d87",
        "IPY_MODEL_6699c90442e148b2b416e2cf79f7dbc2"
       ],
       "layout": "IPY_MODEL_cc8db6d94b9d42159853e03fb95a43e5"
      }
     },
     "f4b7f84467224609a69a73eb041dbc1f": {
      "model_module": "@jupyter-widgets/base",
      "model_module_version": "1.2.0",
      "model_name": "LayoutModel",
      "state": {
       "width": "5%"
      }
     },
     "f4f38767217a4a4eac35cae1d4f77f72": {
      "model_module": "@jupyter-widgets/controls",
      "model_module_version": "1.5.0",
      "model_name": "ButtonModel",
      "state": {
       "button_style": "warning",
       "description": "edit inputs",
       "layout": "IPY_MODEL_97b1048e8abc4c95828e0f26a0761931",
       "style": "IPY_MODEL_7ad6342e40844153809a850af15732ac",
       "tooltip": "edit the user input information that is used when the script is executed"
      }
     },
     "f5a2272a02684411b6e98b992abe0c35": {
      "model_module": "@jupyter-widgets/controls",
      "model_module_version": "1.5.0",
      "model_name": "ButtonModel",
      "state": {
       "icon": "eye-slash",
       "layout": "IPY_MODEL_974cd1abce494782955aa95a38f498e5",
       "style": "IPY_MODEL_bf0238826308462faa45a683c150b124",
       "tooltip": "removes temporary output view"
      }
     },
     "f5dd191654d043e9a9f2da0d8be06c27": {
      "model_module": "@jupyter-widgets/controls",
      "model_module_version": "1.5.0",
      "model_name": "VBoxModel",
      "state": {
       "children": [
        "IPY_MODEL_a6a2fae79e1047fda776a5e29e399220",
        "IPY_MODEL_63fb9191d25e4bc5afdb7a27801fd618"
       ],
       "layout": "IPY_MODEL_e382ddd06af0401b87213d7488c6f87d"
      }
     },
     "f69a12ade8264964b0109d9952ba9b7e": {
      "model_module": "@jupyter-widgets/controls",
      "model_module_version": "1.5.0",
      "model_name": "HBoxModel",
      "state": {
       "children": [
        "IPY_MODEL_0a5683b142064bffb5b632a03dae4c77",
        "IPY_MODEL_a36ead66340f453e9712581ef0ad8165",
        "IPY_MODEL_aa0cdcc881cf418ea31f162e6e8415f4",
        "IPY_MODEL_287179c52a764f10b926216337d4ba0f",
        "IPY_MODEL_3f57743708a345db935eb1861834d1cb",
        "IPY_MODEL_18ec9bd1791c4b54a75fd3a5e059918d",
        "IPY_MODEL_bab27a361c394e21b8a32e60cccb2ae4"
       ],
       "layout": "IPY_MODEL_e5d6b13246414bbe92c6521ea2cc3414"
      }
     },
     "f6b47c0459e94d93a95239e8e4d9b1ce": {
      "model_module": "@jupyter-widgets/base",
      "model_module_version": "1.2.0",
      "model_name": "LayoutModel",
      "state": {}
     },
     "f6bcc5b84ba44862b7a332bf0755f49b": {
      "model_module": "@jupyter-widgets/controls",
      "model_module_version": "1.5.0",
      "model_name": "ButtonModel",
      "state": {
       "icon": "eye-slash",
       "layout": "IPY_MODEL_baec55d33f544a09bc3215b6b0ab6b57",
       "style": "IPY_MODEL_4645107bda2940ef9270af557c300559",
       "tooltip": "removes temporary output view"
      }
     },
     "f6d3af5f605047eab34b3440a8b6fa1d": {
      "model_module": "@jupyter-widgets/base",
      "model_module_version": "1.2.0",
      "model_name": "LayoutModel",
      "state": {
       "height": "30px",
       "width": "auto"
      }
     },
     "f749a0ff82894c8aa94d0cc20bc701de": {
      "model_module": "@jupyter-widgets/controls",
      "model_module_version": "1.5.0",
      "model_name": "ButtonStyleModel",
      "state": {
       "font_weight": "bold"
      }
     },
     "f7646eec7f1141f198bf362d8ecb3b45": {
      "model_module": "@jupyter-widgets/controls",
      "model_module_version": "1.5.0",
      "model_name": "DescriptionStyleModel",
      "state": {
       "description_width": ""
      }
     },
     "f76fb38721ba4733ba9ff9a60e70ee26": {
      "model_module": "@jupyter-widgets/controls",
      "model_module_version": "1.5.0",
      "model_name": "DescriptionStyleModel",
      "state": {
       "description_width": ""
      }
     },
     "f7d75d96e885451085799e94dc559375": {
      "model_module": "@jupyter-widgets/base",
      "model_module_version": "1.2.0",
      "model_name": "LayoutModel",
      "state": {
       "height": "30px",
       "width": "auto"
      }
     },
     "f82c52614b8c4dab9d74a015481d92e1": {
      "model_module": "@jupyter-widgets/controls",
      "model_module_version": "1.5.0",
      "model_name": "ButtonStyleModel",
      "state": {
       "font_weight": "bold"
      }
     },
     "f84f98628afc4eed9cd944669b590101": {
      "model_module": "@jupyter-widgets/base",
      "model_module_version": "1.2.0",
      "model_name": "LayoutModel",
      "state": {}
     },
     "f8c2c3959d8046aa9656978fefb2984f": {
      "model_module": "@jupyter-widgets/base",
      "model_module_version": "1.2.0",
      "model_name": "LayoutModel",
      "state": {}
     },
     "f93e7a34b36e44e3a3ff625f965346fc": {
      "model_module": "@jupyter-widgets/controls",
      "model_module_version": "1.5.0",
      "model_name": "HBoxModel",
      "state": {
       "children": [
        "IPY_MODEL_f6bcc5b84ba44862b7a332bf0755f49b",
        "IPY_MODEL_29fec02247e44012af6e62e15dc99180",
        "IPY_MODEL_3c8b522349c848f684852428d2ab3f02",
        "IPY_MODEL_5a8fd679a3554511ad7a50fad72be0d9",
        "IPY_MODEL_9d83d540e753458788e544b3dc4a415e",
        "IPY_MODEL_cc5a50cd962c4fbf8fc08a98a2cc2348",
        "IPY_MODEL_bf67b437c58c456a8d4067c1097a5c84"
       ],
       "layout": "IPY_MODEL_66f2a6fce2a449de88189ccb5f85ccc1"
      }
     },
     "fa19942909a24592b769822dea5c4547": {
      "model_module": "@jupyter-widgets/base",
      "model_module_version": "1.2.0",
      "model_name": "LayoutModel",
      "state": {}
     },
     "fa69440fe8ca4ecc8c216cf2365b20f2": {
      "model_module": "@jupyter-widgets/controls",
      "model_module_version": "1.5.0",
      "model_name": "DescriptionStyleModel",
      "state": {
       "description_width": ""
      }
     },
     "faa4cff7fe594ba6ae5b002b48908e2f": {
      "model_module": "@jupyter-widgets/base",
      "model_module_version": "1.2.0",
      "model_name": "LayoutModel",
      "state": {}
     },
     "fafddce69dcc464886394b1958092e74": {
      "model_module": "@jupyter-widgets/controls",
      "model_module_version": "1.5.0",
      "model_name": "ButtonStyleModel",
      "state": {
       "font_weight": "bold"
      }
     },
     "fb7fad4e771a4c78b1be7a4edd9625b5": {
      "model_module": "@jupyter-widgets/controls",
      "model_module_version": "1.5.0",
      "model_name": "DescriptionStyleModel",
      "state": {
       "description_width": ""
      }
     },
     "fc2adb68c88d4949addaba59fd589daa": {
      "model_module": "@jupyter-widgets/base",
      "model_module_version": "1.2.0",
      "model_name": "LayoutModel",
      "state": {
       "border": "0px",
       "margin": "0px",
       "padding": "0px"
      }
     },
     "fc4c4dcc824a4394a16a7bdaf148e661": {
      "model_module": "@jupyter-widgets/base",
      "model_module_version": "1.2.0",
      "model_name": "LayoutModel",
      "state": {
       "width": "5%"
      }
     },
     "fc51710e56114582ad556e34502282c4": {
      "model_module": "@jupyter-widgets/controls",
      "model_module_version": "1.5.0",
      "model_name": "DescriptionStyleModel",
      "state": {
       "description_width": ""
      }
     },
     "fc61a2bae68d45f6a8a8ee56bebb8ee4": {
      "model_module": "@jupyter-widgets/base",
      "model_module_version": "1.2.0",
      "model_name": "LayoutModel",
      "state": {
       "height": "30px",
       "max_width": "30px",
       "padding": "3px"
      }
     },
     "fc8daff041a14b719e780d7f84205646": {
      "model_module": "@jupyter-widgets/base",
      "model_module_version": "1.2.0",
      "model_name": "LayoutModel",
      "state": {
       "border": "0px",
       "margin": "0px",
       "padding": "0px"
      }
     },
     "febb085de7e64bcca0a3ea1387f3a2c1": {
      "model_module": "@jupyter-widgets/controls",
      "model_module_version": "1.5.0",
      "model_name": "DescriptionStyleModel",
      "state": {
       "description_width": ""
      }
     },
     "ff29b6af174f45ab9fe4038766a503e0": {
      "model_module": "@jupyter-widgets/base",
      "model_module_version": "1.2.0",
      "model_name": "LayoutModel",
      "state": {}
     }
    },
    "version_major": 2,
    "version_minor": 0
   }
  }
 },
 "nbformat": 4,
 "nbformat_minor": 4
}
