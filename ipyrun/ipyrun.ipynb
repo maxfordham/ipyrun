{
 "cells": [
  {
   "cell_type": "code",
   "execution_count": 2,
   "metadata": {},
   "outputs": [],
   "source": [
    "import os\n",
    "NBFDIR = os.path.dirname(os.path.realpath('__file__'))\n",
    "import pandas as pd\n",
    "from IPython.display import update_display, display, Image, JSON, Markdown, HTML, clear_output\n",
    "import subprocess\n",
    "from shutil import copyfile\n",
    "import getpass\n",
    "import importlib.util\n",
    "import copy \n",
    "\n",
    "# widget stuff\n",
    "import ipywidgets as widgets\n",
    "from ipysheet import from_dataframe, to_dataframe\n",
    "import ipysheet\n",
    "\n",
    "# core mf_modules\n",
    "from mf_modules.file_operations import make_dir\n",
    "from mf_modules.pandas_operations import del_matching\n",
    "from mf_modules.mydocstring_display import display_module_docstring\n",
    "from mf_modules.jupyter_formatting import display_python_file\n",
    "\n",
    "# from this repo\n",
    "# this is an unpleasant hack. should aim to find a better solution\n",
    "try:\n",
    "    from ipyrun._runconfig import RunConfig\n",
    "    from ipyrun._ipyeditcsv import EditCsv\n",
    "    from ipyrun._ipyeditjson import EditJson, EditJsonModelRun\n",
    "    from ipyrun._ipydisplayfile import DisplayFile, DisplayFiles\n",
    "except:\n",
    "    from _runconfig import RunConfig\n",
    "    from _ipyeditcsv import EditCsv\n",
    "    from _ipyeditjson import EditJson, EditJsonModelRun\n",
    "    from _ipydisplayfile import DisplayFile, DisplayFiles\n",
    "\n",
    "def get_mfuser_initials():\n",
    "    user = getpass.getuser()\n",
    "    return user[0]+user[2]\n"
   ]
  },
  {
   "cell_type": "code",
   "execution_count": 3,
   "metadata": {
    "lines_to_next_cell": 0
   },
   "outputs": [],
   "source": [
    "class RunForm():\n",
    "    \"\"\"\n",
    "    simple user input form for running scripts. \n",
    "    the buttons are not connected to actions in this class. \n",
    "    \"\"\"\n",
    "    def __init__(self):\n",
    "        \"\"\"\n",
    "        to inputs required. this class is intended to be inherited by RunApp\n",
    "        \"\"\"\n",
    "        self.config = {'fpth_script':'script fpth','fpth_inputs':'script config','process_name':'process_name'}\n",
    "        self.form()\n",
    "        display(self.layout)\n",
    "        \n",
    "    def form(self):\n",
    "        self.reset = widgets.Button(icon='fa-eye-slash',#'fa-repeat'\n",
    "                                tooltip='removes temporary output view',\n",
    "                                style={'font_weight':'bold'},\n",
    "                                layout=widgets.Layout(width='5%'))\n",
    "        self.help = widgets.Button(icon='fa-question-circle',\n",
    "                                tooltip='describes the functionality of elements in the RunApp interface',\n",
    "                                style={'font_weight':'bold'},\n",
    "                                layout=widgets.Layout(width='5%'))\n",
    "        self.edit_inputs = widgets.Button(description='edit inputs',\n",
    "                                tooltip='edit the user input information that is used when the script is executed',\n",
    "                                button_style='warning',\n",
    "                                style={'font_weight':'bold'})\n",
    "        self.show_docstring = widgets.Button(description='show guide',\n",
    "                                tooltip='read the \"docstring\", ie. the documentation that was written to accompany the script',\n",
    "                                button_style='info',\n",
    "                                style={'font_weight':'bold'})\n",
    "        self.run_script = widgets.Button(description='run',\n",
    "                                tooltip='execute the script based on the user inputs',\n",
    "                                button_style='success',\n",
    "                                style={'font_weight':'bold'})\n",
    "        self.preview_outputs = widgets.Button(description='preview outputs',\n",
    "                                tooltip='show a preview of the output files generated when the script runs',\n",
    "                                button_style='info',\n",
    "                                style={'font_weight':'bold'})\n",
    "        self.show_log = widgets.Button(description='show log',\n",
    "                                tooltip='show a log of when the script was executed to generate the outputs, and by who',\n",
    "                                button_style='info',\n",
    "                                style={'font_weight':'bold'})\n",
    "        self.scriptfpth = widgets.Text(value=self.config['fpth_script'],\n",
    "                                description='script',\n",
    "                                layout=widgets.Layout(indent=False,\n",
    "                                                      width='auto',\n",
    "                                                      height='30px'), disabled=True)\n",
    "        self.configfpth = widgets.Text(value=self.config['fpth_inputs'],\n",
    "                                description='inputs',\n",
    "                                layout=widgets.Layout(indent=False,\n",
    "                                                      width='auto',\n",
    "                                                      height='30px'), disabled=True)\n",
    "        self.outputsfpth = widgets.SelectMultiple(description='outputs',\n",
    "                                           options=[],\n",
    "                                           rows=4,\n",
    "                                           layout=widgets.Layout(indent=False,\n",
    "                                                      width='auto',\n",
    "                                                      height='30px'))\n",
    "        self.check = widgets.Checkbox(\n",
    "                        value=False,\n",
    "                        disabled=False,\n",
    "                        indent=False,\n",
    "                        layout=widgets.Layout(max_width='30px',height='30px', padding='3px')\n",
    "                        )\n",
    "        self.form = widgets.HBox([self.reset, self.help, self.show_docstring, self.edit_inputs, self.run_script, self.preview_outputs, self.show_log],\n",
    "                    layout=widgets.Layout(width='100%',align_items='stretch'))\n",
    "        self.paths = widgets.VBox([self.configfpth,self.scriptfpth,self.outputsfpth],\n",
    "                    layout=widgets.Layout(width='100%',align_items='stretch')) \n",
    "        self.acc = widgets.Accordion(children=[widgets.VBox([widgets.Box([self.form]),self.paths])],selected_index=None,layout=widgets.Layout(width='100%'))\n",
    "        self.acc.set_title(0,self.config['process_name'])\n",
    "        self.layout = widgets.HBox([self.check,self.acc],layout=widgets.Layout(margin='0px',padding='0px',border='0px'))\n",
    "    \n",
    "#RunForm()"
   ]
  },
  {
   "cell_type": "code",
   "execution_count": 65,
   "metadata": {
    "lines_to_next_cell": 0
   },
   "outputs": [],
   "source": [
    "class RunApp(RunForm, RunConfig):\n",
    "    \"\"\"\n",
    "    app for managing the execution of python scripts using an ipywidgets user interface\n",
    "    \"\"\"\n",
    "    def __init__(self,config):\n",
    "        \"\"\"\n",
    "        class that builds a user interface for:\n",
    "        - editing inputs, \n",
    "        - running a script, \n",
    "        - reviewing the files output by the script\n",
    "        - maintaining a log of when the script was last run, by who, and what the inputs were\n",
    "        - allows users to reload previous input runs. \n",
    "        \n",
    "        Args:\n",
    "            config (dict): a dict that defines the script path, inputs path, archive inputs path, \n",
    "                log file path, output paths etc. this class inherits the RunConfig class which \n",
    "                has a default configuration for all of these things allowing the user to pass minimal \n",
    "                amounts of information to setup. \n",
    "                \n",
    "        Example:\n",
    "            ```\n",
    "            config={\n",
    "                'fpth_script':os.path.join(os.environ['mf_root'],r'MF_Toolbox\\dev\\mf_scripts\\docx_to_pdf.py'),\n",
    "                'fdir':NBFDIR,\n",
    "                }    \n",
    "\n",
    "            r = RunApp(config) \n",
    "            from ipyrun._ipyeditjson import \n",
    "            \n",
    "            ui = EditListOfDicts(li)\n",
    "            ui\n",
    "            ```\n",
    "        \"\"\"\n",
    "        self.out = widgets.Output()\n",
    "        self.config = config\n",
    "        self.user_keys = list(config.keys())\n",
    "        self.errors = []\n",
    "        self._update_config()\n",
    "        self.form()\n",
    "        self.outputsfpth.options = list(self.fpths_outputs.values())\n",
    "        self.show_me_the_code = widgets.Button(description='show source code',\n",
    "                      tooltip='shows the raw python code in the preview window below',\n",
    "                      button_style='info')\n",
    "        self._init_controls()\n",
    "\n",
    "    def _init_controls(self):\n",
    "        self.help.on_click(self._help)\n",
    "        self.reset.on_click(self._reset)\n",
    "        self.edit_inputs.on_click(self._edit_inputs)\n",
    "        self.show_docstring.on_click(self._show_docstring)\n",
    "        self.run_script.on_click(self._run_script)\n",
    "        self.show_me_the_code.on_click(self._show_me_the_code)\n",
    "        self.preview_outputs.on_click(self._preview_outputs)\n",
    "        self.show_log.on_click(self._show_log)\n",
    "        self.acc.observe(self._close_acc, names='selected_index')\n",
    "        \n",
    "    def _close_acc(self, change):\n",
    "        if self.acc.selected_index!=0:\n",
    "            self._reset(None)\n",
    "        \n",
    "    def _show_me_the_code(self, sender):\n",
    "        with self.out:\n",
    "            clear_output()\n",
    "            display(display_python_file(self.config['fpth_script']))\n",
    "            \n",
    "    def _help(self, sender):\n",
    "        with self.out:\n",
    "            clear_output()\n",
    "            fpth = os.path.join(os.environ['mf_root'],r'ipyrun\\docs\\images\\RunApp.png')\n",
    "            display(Image(fpth))\n",
    "            \n",
    "    def _reset(self, sender):\n",
    "        with self.out:\n",
    "            clear_output()\n",
    "    \n",
    "    def _edit_inputs(self, sender):\n",
    "        with self.out:\n",
    "            clear_output()\n",
    "            #display(EditCsv(self.config))\n",
    "            display(EditJson(self.config))\n",
    "\n",
    "    def _show_docstring(self, sender):\n",
    "        with self.out:\n",
    "            clear_output()\n",
    "            display(self.show_me_the_code)\n",
    "            display_module_docstring(self.config['fpth_script'])\n",
    "            \n",
    "    def archive_inputs(self):\n",
    "        timestamp = str(pd.to_datetime('today'))[:-9].replace(':','').replace('-','').replace(' ','_')\n",
    "        initals = get_mfuser_initials()\n",
    "        ext = os.path.splitext(self.fpth_inputs)[1]\n",
    "        fnm = timestamp + '-' + initals + '-' + os.path.splitext(os.path.basename(self.fpth_inputs))[0] + ext\n",
    "        self.fpth_inputs_archive = os.path.join(self.fdir_inputs_archive,fnm)\n",
    "        copyfile(self.fpth_inputs,self.fpth_inputs_archive)\n",
    "        \n",
    "    def _run_script(self, sender):\n",
    "        self.config_to_json()\n",
    "        self.archive_inputs()\n",
    "        self._log()\n",
    "        with self.out:\n",
    "            clear_output()\n",
    "            if os.path.isfile(self.config['fpth_inputs']):\n",
    "                display(self.config['pretty_name'])\n",
    "                display(subprocess.check_output(['python','-O', self.config['fpth_script'], self.config['fpth_config'], self.config['fpth_inputs']]))\n",
    "                #display(subprocess.check_output(['conda', 'run', '-n', 'mf_main', 'python','-O', self.config['fpth_script'], self.config['fpth_config'], self.config['fpth_inputs']]))\n",
    "            else:\n",
    "                display(Markdown(\"## inputs have not been saved\"))\n",
    "                display(Markdown('click on the \"edit inputs\" button to edit inputs and hit save when done'))\n",
    "                display(Markdown('this will save a datafile that is passed to the script when you press run'))\n",
    "                display(Markdown('the input datafile should be saved here:'))\n",
    "                display(Markdown('`{0}`'.format(self.config['fpth_inputs'])))\n",
    "\n",
    "    def _log(self):\n",
    "        if os.path.isfile(self.fpth_log):\n",
    "            self.df_log = del_matching(pd.read_csv(self.fpth_log),'Unnamed')\n",
    "        else:\n",
    "            di = {\n",
    "                'processName':[],\n",
    "                'user':[],\n",
    "                'datetime':[],\n",
    "                'formalIssue':[],\n",
    "                'tags':[],\n",
    "                'fpthInputs':[]\n",
    "            }\n",
    "            self.df_log = pd.DataFrame(di).rename_axis(\"index\")\n",
    "        \n",
    "        user = getpass.getuser()\n",
    "        timestamp = str(pd.to_datetime('today'))\n",
    "        timestamp = timestamp[:-7]\n",
    "        \n",
    "        tmp = pd.DataFrame({\n",
    "            'processName':[self.process_name],\n",
    "            'user':[user],\n",
    "            'datetime':[timestamp],\n",
    "            'formalIssue':[''],\n",
    "            'tags':[''],\n",
    "            'fpthInputs':[self.fpth_inputs_archive]\n",
    "        })\n",
    "        self.df_log = self.df_log.append(tmp).reset_index(drop=True)\n",
    "        make_dir(self.fdir_log)\n",
    "        self.df_log.to_csv(self.fpth_log)\n",
    "        \n",
    "    def _preview_outputs(self, sender):\n",
    "        with self.out:\n",
    "            clear_output()\n",
    "            \n",
    "            #fpths = self.outputsfpth.options\n",
    "            #for fpth in fpths:\n",
    "             #   display(Markdown('#### {0}'.format(os.path.splitext(os.path.basename(fpth))[0])))\n",
    "            #    display(Markdown('`{0}`'.format(fpth)))\n",
    "            #    d = DisplayFile(fpth)\n",
    "            #    d.preview_fpth()\n",
    "                \n",
    "            fpths = [v for k,v in self.fpths_outputs.items()]\n",
    "            if len(fpths)==0:\n",
    "                display(Markdown('select the file(s) that you would like to display from the \"outputs\" list above '))\n",
    "            else:\n",
    "\n",
    "                display(DisplayFiles(fpths))\n",
    "                \n",
    "    def _show_log(self, sender):\n",
    "        with self.out:\n",
    "            clear_output()\n",
    "            if os.path.isfile(self.fpth_log):\n",
    "                d = DisplayFile(self.fpth_log)\n",
    "                d.preview_fpth()\n",
    "            else:  \n",
    "                display(Markdown('### A log file does not yet exist.'))\n",
    "                display(Markdown('### This indicates that the script has not yet been run.'))\n",
    "             \n",
    "    def display(self):\n",
    "        display(self.layout, self.out)\n",
    "            \n",
    "    def _ipython_display_(self):\n",
    "        self.display()\n",
    "\n",
    "class RunAppModelRun(RunApp):\n",
    "    \"\"\"\n",
    "    Modified version of EditJson, for Model Run spreadsheet\n",
    "    Functionality for DerivedText has been added\n",
    "    \"\"\"\n",
    "    def _edit_inputs(self, sender):\n",
    "        with self.out:\n",
    "            clear_output()\n",
    "            display(EditJsonModelRun(self.config))\n",
    "    \n",
    "# IT WOULD BE GOOD TO ADD A PROGRESS BAR\n",
    "# i think this would require us to time how long it takes for a script to execute and use that \n",
    "# as a first estimate. we could also then keep an ongoing record of time-taken to run a script within\n",
    "# the log file which could be used to keep the assumed time up-to-date / more accurate.\n",
    "# E.G. owen's example:\n",
    "# (but there is a fancy looking ipywidget we could use...)\n",
    "# fpth = r'C:\\engDev\\git_mf\\MF_Toolbox\\dev\\mf_modules\\progress_bar.py'\n",
    "# %run $fpth\n",
    "\n",
    "class RunApps():\n",
    "    \n",
    "    def __init__(self,configs):\n",
    "        \"\"\"\n",
    "        Args:\n",
    "            configs (list): list of RunApp input configs. \n",
    "                can explicitly specify a different RunApp to be used when passing \n",
    "                the list \n",
    "        \"\"\"\n",
    "        self.inputconfigs = configs\n",
    "        self.processes = self._update_configs()\n",
    "        self.li = []\n",
    "        self._form()\n",
    "        self._init_controls()\n",
    "         \n",
    "        for process in self.processes:\n",
    "            self.li.append(process['app'](process['config']))   \n",
    "        self.out = widgets.Output()\n",
    "    \n",
    "    def _update_configs(self):\n",
    "        newconfigs = []\n",
    "        for config in self.inputconfigs:\n",
    "            newconfigs.append(self._create_config(config))\n",
    "        return newconfigs\n",
    "\n",
    "    def _create_config(self, config):\n",
    "        if list(config.keys()) == ['app','config']:\n",
    "            # app to use already explicitly specified\n",
    "            return config  \n",
    "        else:\n",
    "            # assume the config got passed without the associated app\n",
    "            return{'app': RunApp, 'config': config}\n",
    "\n",
    "        \n",
    "    def _form(self):\n",
    "        self.reset = widgets.Button(icon='fa-eye-slash',#'fa-repeat'\n",
    "                                tooltip='removes temporary output view',\n",
    "                                style={'font_weight':'bold'},\n",
    "                                layout=widgets.Layout(width='5%'))\n",
    "        self.help = widgets.Button(icon='fa-question-circle',\n",
    "                                tooltip='describes the functionality of elements in the RunApp interface',\n",
    "                                style={'font_weight':'bold'},\n",
    "                                layout=widgets.Layout(width='5%'))\n",
    "        self.run_batch = widgets.Button(description='run batch',\n",
    "                                tooltip='execute checked processes below',\n",
    "                                button_style='success',\n",
    "                                style={'font_weight':'add'})\n",
    "        self.add_run = widgets.Button(description='add run',\n",
    "                                tooltip='add new run, based on another run',\n",
    "                                button_style='warning',\n",
    "                                style={'font_weight':'bold'})\n",
    "        self.form = widgets.HBox([self.reset, self.help, self.run_batch, self.add_run],\n",
    "                        layout=widgets.Layout(width='100%',align_items='stretch'))   \n",
    "    \n",
    "    def _init_controls(self):\n",
    "        self.help.on_click(self._help)\n",
    "        self.reset.on_click(self._reset)\n",
    "        self.run_batch.on_click(self._run_batch)\n",
    "        self.add_run.on_click(self._add_run)\n",
    "        \n",
    "    def _help(self, sender):\n",
    "        with self.out:\n",
    "            clear_output()\n",
    "            fpth = os.path.join(os.environ['mf_root'],r'ipyrun\\docs\\images\\RunBatch.png')\n",
    "            display(Image(fpth))\n",
    "            \n",
    "    def _reset(self, sender):\n",
    "        with self.out:\n",
    "            clear_output()\n",
    "        for l in self.li:\n",
    "            l._reset(sender)\n",
    "\n",
    "    def _get_process_names(self):\n",
    "        return [process['config']['process_name'] for process in self.processes]\n",
    "    \n",
    "    def _get_apps_layout(self):\n",
    "        return [widgets.VBox([l.layout, l.out]) for l in self.li]\n",
    "        \n",
    "    def _add_run(self, sender):\n",
    "        \n",
    "        # Create Dropdown & Run Button\n",
    "        self.add_run_dd = widgets.Dropdown(\n",
    "                options=self._get_process_names(),\n",
    "                description='Run to Copy:',\n",
    "                disabled=False)\n",
    "        self.add_run_btn = widgets.Button(description='add chosen run',\n",
    "                    tooltip='add chosen run',\n",
    "                    button_style='primary',\n",
    "                    style={'font_weight':'bold'})\n",
    "        \n",
    "        self.add_run_btn.on_click(self._run_add_run) # OnClick method\n",
    "        with self.out:\n",
    "            clear_output()\n",
    "            display(self.add_run_dd)\n",
    "            display(self.add_run_btn)\n",
    "    \n",
    "    def _run_add_run(self,sender):\n",
    "        \n",
    "        # Pull selected process from dropdown\n",
    "        dd_val = self.add_run_dd.value\n",
    "        dd_split = str(self.add_run_dd.value).split('_')\n",
    "        \n",
    "        # Get basename of selected process\n",
    "        if(dd_split[-1].isdigit()):\n",
    "            dd_process_name_base = \"_\".join(dd_split[:-1])\n",
    "        else:\n",
    "            dd_process_name_base = dd_val\n",
    "            \n",
    "        # Create new process name, by\n",
    "        # appending the next number to the basename\n",
    "        current_num = 0\n",
    "        num_exists = True\n",
    "        new_process_name = \"\"\n",
    "        while (num_exists):\n",
    "            new_process_name = '{0}_{1}'.format(dd_process_name_base,current_num)\n",
    "            if new_process_name in self._get_process_names():\n",
    "                current_num = current_num + 1   \n",
    "            else:\n",
    "                num_exists = False\n",
    "\n",
    "        # Copy the selected process to the new process\n",
    "        new_process = None\n",
    "        for process in self.processes:\n",
    "            if(process['config']['process_name'] == dd_val):\n",
    "                new_process = copy.deepcopy(process)\n",
    "        \n",
    "        # Copy old inputs file, to create new inputs file\n",
    "        src = new_process['config']['fpth_inputs']\n",
    "        fdir_inputs = new_process['config']['fdir_inputs']\n",
    "        dst = os.path.join(fdir_inputs , '{0}{1}'.format(new_process_name,os.path.splitext(src)[1]))\n",
    "        copyfile(src,dst)\n",
    "        \n",
    "        # Update config of new process\n",
    "        new_process['config']['fpth_inputs'] = dst\n",
    "        new_process['config']['process_name'] = new_process_name\n",
    "        new_process = self._create_config(new_process)\n",
    "        \n",
    "        # Add new process to data within RunApps \n",
    "        self.inputconfigs.append(new_process)\n",
    "        self.processes.append(new_process)\n",
    "        self.li.append(new_process['app'](new_process['config']))\n",
    "        self.add_run_dd.options=self._get_process_names() # Update Dropdown\n",
    "        \n",
    "        # Display new process\n",
    "        self.apps_layout.children = self._get_apps_layout()\n",
    "        '''with self.out:\n",
    "            display(self.li[-1])'''\n",
    "\n",
    "    def _run_batch(self, sender):\n",
    "        cnt = 0\n",
    "        ttl = 0\n",
    "        for l in self.li:\n",
    "            ttl = ttl + 1\n",
    "            if l.check.value:\n",
    "                cnt = cnt + 1\n",
    "        \n",
    "        with self.out:\n",
    "            clear_output()\n",
    "            display(Markdown('{0} out of {1} scripts selected to be run'.format(cnt,ttl)))\n",
    "            for l in self.li:\n",
    "                if l.check.value:\n",
    "                    display(Markdown('running: {0}'.format(l.config['process_name'])))\n",
    "                    l._run_script('sender')\n",
    "                    l._log() # 'sender'\n",
    "                    \n",
    "    def display(self):\n",
    "        display(self.form)\n",
    "        display(self.out)\n",
    "        self.apps_layout = widgets.VBox(self._get_apps_layout())\n",
    "        display(self.apps_layout)\n",
    "        \n",
    "    def _ipython_display_(self):\n",
    "        self.display() \n",
    "        \n",
    "\n",
    "# SUPERCEDED\n",
    "\n",
    "#def run_py_script(fpth,arg):\n",
    "#    \"\"\"\n",
    "#    NOT IN USE\n",
    "#    run a script using python magic\n",
    "#    (% means it can't be imported as a script)\n",
    "#    \"\"\"\n",
    "#    if os.path.isfile(fpth):\n",
    "#        print('run {0}'.format(fpth))\n",
    "#        %run -i $fpth $arg #-i\n",
    "#    elif fpth == 'READ PROCESSED DATA ONLY':\n",
    "#        pass\n",
    "#    else:\n",
    "#        print(\"{0} doesn't exist\".format(fpth))\n",
    "\n",
    "# option 2: looks better but the outputs appear at the bottom instead of in-line\n",
    "class RunApps_SS():\n",
    "    \n",
    "    def __init__(self,configs):\n",
    "        self.out = widgets.Output()\n",
    "        self.configs = configs\n",
    "        self.li = []\n",
    "        for config in configs:\n",
    "            self.li.append(RunApp(config))\n",
    "        self.display()\n",
    "            \n",
    "    def display(self):\n",
    "        \n",
    "        out = [l.layout for l in self.li]\n",
    "        self.applayout = widgets.VBox(out)\n",
    "        display(self.applayout)\n",
    "        for l in self.li:\n",
    "            display(l.out)\n",
    "\n",
    "\n"
   ]
  },
  {
   "cell_type": "code",
   "execution_count": 93,
   "metadata": {
    "lines_to_end_of_cell_marker": 2,
    "lines_to_next_cell": 0
   },
   "outputs": [
    {
     "data": {
      "text/markdown": [
       "### Example1"
      ],
      "text/plain": [
       "<IPython.core.display.Markdown object>"
      ]
     },
     "metadata": {},
     "output_type": "display_data"
    },
    {
     "data": {
      "text/markdown": [
       "default RunApp."
      ],
      "text/plain": [
       "<IPython.core.display.Markdown object>"
      ]
     },
     "metadata": {},
     "output_type": "display_data"
    },
    {
     "data": {
      "application/vnd.jupyter.widget-view+json": {
       "model_id": "753dd860b4ee4f5980d7e40f86775eb7",
       "version_major": 2,
       "version_minor": 0
      },
      "text/plain": [
       "HBox(children=(Checkbox(value=False, indent=False, layout=Layout(height='30px', max_width='30px', padding='3px…"
      ]
     },
     "metadata": {},
     "output_type": "display_data"
    },
    {
     "data": {
      "application/vnd.jupyter.widget-view+json": {
       "model_id": "f10594382f064435abcbd46b0624bcef",
       "version_major": 2,
       "version_minor": 0
      },
      "text/plain": [
       "Output()"
      ]
     },
     "metadata": {},
     "output_type": "display_data"
    },
    {
     "data": {
      "text/markdown": [
       "---"
      ],
      "text/plain": [
       "<IPython.core.display.Markdown object>"
      ]
     },
     "metadata": {},
     "output_type": "display_data"
    },
    {
     "data": {
      "text/markdown": [],
      "text/plain": [
       "<IPython.core.display.Markdown object>"
      ]
     },
     "metadata": {},
     "output_type": "display_data"
    },
    {
     "data": {
      "text/markdown": [
       "### Example2"
      ],
      "text/plain": [
       "<IPython.core.display.Markdown object>"
      ]
     },
     "metadata": {},
     "output_type": "display_data"
    },
    {
     "data": {
      "text/markdown": [
       "example where the RunApp class has been extended by inheriting the \n",
       "    RunApp and overwriting the _edit_inputs\n",
       "    take a simple csv file as an input instead of a JSON file...\n",
       "    the main funtions that can be overwritten to extend the class in this way are:\n",
       "\n",
       "    - _help\n",
       "    - _show_guide\n",
       "    - _edit_inputs\n",
       "    - _run\n",
       "    - _preview_outputs"
      ],
      "text/plain": [
       "<IPython.core.display.Markdown object>"
      ]
     },
     "metadata": {},
     "output_type": "display_data"
    },
    {
     "data": {
      "application/vnd.jupyter.widget-view+json": {
       "model_id": "773f679347ec4374a93816cbbcc5ee80",
       "version_major": 2,
       "version_minor": 0
      },
      "text/plain": [
       "HBox(children=(Checkbox(value=False, indent=False, layout=Layout(height='30px', max_width='30px', padding='3px…"
      ]
     },
     "metadata": {},
     "output_type": "display_data"
    },
    {
     "data": {
      "application/vnd.jupyter.widget-view+json": {
       "model_id": "7fa96f4cb66b404087114a73d94dc034",
       "version_major": 2,
       "version_minor": 0
      },
      "text/plain": [
       "Output()"
      ]
     },
     "metadata": {},
     "output_type": "display_data"
    },
    {
     "data": {
      "text/markdown": [
       "---"
      ],
      "text/plain": [
       "<IPython.core.display.Markdown object>"
      ]
     },
     "metadata": {},
     "output_type": "display_data"
    },
    {
     "data": {
      "text/markdown": [],
      "text/plain": [
       "<IPython.core.display.Markdown object>"
      ]
     },
     "metadata": {},
     "output_type": "display_data"
    },
    {
     "data": {
      "text/markdown": [
       "### Example3"
      ],
      "text/plain": [
       "<IPython.core.display.Markdown object>"
      ]
     },
     "metadata": {},
     "output_type": "display_data"
    },
    {
     "data": {
      "text/markdown": [
       "\n",
       "    demonstrates how multiple RunApp's can be ran as a batch. if not explicitly defined, the app assumes the default\n",
       "    RunApp is used.<br> it is also possible to explictly pass a RunApp variant, and it will still be executed within the batch:  \n",
       "\n",
       "    ```\n",
       "        di={\n",
       "            'fpth_script':os.path.join(os.environ['mf_root'],r'MF_Toolbox\\dev\\mf_scripts\\eplus_pipework_params.py'),\n",
       "            #'process_name':os.path.basename(os.path.join(os.environ['mf_root'],r'MF_Toolbox\\dev\\mf_scripts\\eplus_pipework_params.py')),\n",
       "            #'fpth_inputs':os.path.join(os.environ['mf_root'],r'MF_Toolbox\\dev\\mf_scripts\\configs\\eplus_pipework_params.csv'),\n",
       "            'fdir':os.path.join(NBFDIR,'notebooks'),\n",
       "            'fdir_outputs':os.path.join(NBFDIR,'notebooks')\n",
       "            }  \n",
       "\n",
       "        defaultrunapp={\n",
       "            'fpth_script':os.path.join(os.environ['mf_root'],r'MF_Toolbox\\dev\\mf_scripts\\docx_to_pdf.py'),\n",
       "            'fdir':NBFDIR,\n",
       "            'script_outputs': {'0': {\n",
       "                'fdir':r'..\r",
       "eports',\n",
       "                'fnm': r'JupyterReportDemo.pdf',\n",
       "                'description': \"a pdf report from word\"\n",
       "                    }\n",
       "                }\n",
       "            }\n",
       "\n",
       "        runappcsv = {'app':RunAppEditCsv,'config':di}\n",
       "        configs = [runappcsv,defaultrunapp,runappcsv]\n",
       "        runapps = RunApps(configs)  \n",
       "        display(runapps)\n",
       "    ```\n",
       "    "
      ],
      "text/plain": [
       "<IPython.core.display.Markdown object>"
      ]
     },
     "metadata": {},
     "output_type": "display_data"
    },
    {
     "data": {
      "application/vnd.jupyter.widget-view+json": {
       "model_id": "1fee1fe964b44d5c8e70d8a147f9c33e",
       "version_major": 2,
       "version_minor": 0
      },
      "text/plain": [
       "HBox(children=(Button(icon='eye-slash', layout=Layout(width='5%'), style=ButtonStyle(font_weight='bold'), tool…"
      ]
     },
     "metadata": {},
     "output_type": "display_data"
    },
    {
     "data": {
      "application/vnd.jupyter.widget-view+json": {
       "model_id": "50103b5e758d4e989e3a1c7e4622a48a",
       "version_major": 2,
       "version_minor": 0
      },
      "text/plain": [
       "Output()"
      ]
     },
     "metadata": {},
     "output_type": "display_data"
    },
    {
     "data": {
      "application/vnd.jupyter.widget-view+json": {
       "model_id": "ef4afdf812d3470c9ecac60e9f90f2b7",
       "version_major": 2,
       "version_minor": 0
      },
      "text/plain": [
       "VBox(children=(VBox(children=(HBox(children=(Checkbox(value=False, indent=False, layout=Layout(height='30px', …"
      ]
     },
     "metadata": {},
     "output_type": "display_data"
    },
    {
     "data": {
      "text/markdown": [
       "---"
      ],
      "text/plain": [
       "<IPython.core.display.Markdown object>"
      ]
     },
     "metadata": {},
     "output_type": "display_data"
    },
    {
     "data": {
      "text/markdown": [],
      "text/plain": [
       "<IPython.core.display.Markdown object>"
      ]
     },
     "metadata": {},
     "output_type": "display_data"
    },
    {
     "data": {
      "text/markdown": [
       "### Example4"
      ],
      "text/plain": [
       "<IPython.core.display.Markdown object>"
      ]
     },
     "metadata": {},
     "output_type": "display_data"
    },
    {
     "data": {
      "text/markdown": [
       "Batch Run of RunApps, for ModelRun"
      ],
      "text/plain": [
       "<IPython.core.display.Markdown object>"
      ]
     },
     "metadata": {},
     "output_type": "display_data"
    },
    {
     "data": {
      "application/vnd.jupyter.widget-view+json": {
       "model_id": "352c0152800c4b2d989a51847edebb21",
       "version_major": 2,
       "version_minor": 0
      },
      "text/plain": [
       "HBox(children=(Button(icon='eye-slash', layout=Layout(width='5%'), style=ButtonStyle(font_weight='bold'), tool…"
      ]
     },
     "metadata": {},
     "output_type": "display_data"
    },
    {
     "data": {
      "application/vnd.jupyter.widget-view+json": {
       "model_id": "9566e055e26e41748606c7aff6e7fd13",
       "version_major": 2,
       "version_minor": 0
      },
      "text/plain": [
       "Output()"
      ]
     },
     "metadata": {},
     "output_type": "display_data"
    },
    {
     "data": {
      "application/vnd.jupyter.widget-view+json": {
       "model_id": "008a6360269e4abaa08d93473cb9ac74",
       "version_major": 2,
       "version_minor": 0
      },
      "text/plain": [
       "VBox(children=(VBox(children=(HBox(children=(Checkbox(value=False, indent=False, layout=Layout(height='30px', …"
      ]
     },
     "metadata": {},
     "output_type": "display_data"
    }
   ],
   "source": [
    "if __name__ =='__main__':\n",
    "\n",
    "    \n",
    "    \n",
    "    # dumb form\n",
    "    #form = RunForm()\n",
    "    #form\n",
    "\n",
    "\n",
    "    # Example1 --------------------------\n",
    "    # RunApp example, using a default JSON file\n",
    "    # EDIT JSON FILE with custom config and file management\n",
    "\n",
    "    config={\n",
    "        'fpth_script':os.path.join(os.environ['mf_root'],r'MF_Toolbox\\dev\\mf_scripts\\docx_to_pdf.py'),\n",
    "        'fdir':NBFDIR,\n",
    "        'script_outputs': {'0': {\n",
    "            'fdir':r'..\\reports',\n",
    "            'fnm': r'JupyterReportDemo.pdf',\n",
    "            'description': \"a pdf report from word\"\n",
    "                }\n",
    "            }\n",
    "        }    \n",
    "\n",
    "    rjson = RunAppModelRun(config)  \n",
    "    display(Markdown('### Example1'))\n",
    "    display(Markdown('''default RunApp.'''))\n",
    "    display(rjson)\n",
    "\n",
    "    display(Markdown('---'))  \n",
    "    display(Markdown(''))  \n",
    "\n",
    "    # Example2 --------------------------\n",
    "    class RunAppEditCsv(RunApp):\n",
    "\n",
    "        def __init__(self, config):\n",
    "            super().__init__(config)\n",
    "\n",
    "        def _edit_inputs(self, sender):\n",
    "            with self.out:\n",
    "                clear_output()\n",
    "                display(EditCsv(self.config))\n",
    "\n",
    "    di={\n",
    "        'fpth_script':os.path.join(os.environ['mf_root'],r'MF_Toolbox\\dev\\mf_scripts\\eplus_pipework_params.py'),\n",
    "        #'process_name':os.path.basename(os.path.join(os.environ['mf_root'],r'MF_Toolbox\\dev\\mf_scripts\\eplus_pipework_params.py')),\n",
    "        #'fpth_inputs':os.path.join(os.environ['mf_root'],r'MF_Toolbox\\dev\\mf_scripts\\configs\\eplus_pipework_params.csv'),\n",
    "        'fdir':NBFDIR,\n",
    "        #'fpth_log':os.path.join(NBFDIR,'notebooks',config),\n",
    "        #'fdir_outputs':os.path.join(NBFDIR,'notebooks')\n",
    "        #'RunApp_help':RunApp_help\n",
    "        }  \n",
    "    rcsv = RunAppEditCsv(di)  \n",
    "    display(Markdown('### Example2'))\n",
    "    display(Markdown('''example where the RunApp class has been extended by inheriting the \n",
    "    RunApp and overwriting the _edit_inputs\n",
    "    take a simple csv file as an input instead of a JSON file...\n",
    "    the main funtions that can be overwritten to extend the class in this way are:\n",
    "\n",
    "    - _help\n",
    "    - _show_guide\n",
    "    - _edit_inputs\n",
    "    - _run\n",
    "    - _preview_outputs'''))\n",
    "    display(rcsv)\n",
    "    display(Markdown('---'))  \n",
    "    display(Markdown(''))  \n",
    "\n",
    "\n",
    "\n",
    "    # Example3 --------------------------\n",
    "    di={\n",
    "        'fpth_script':os.path.join(os.environ['mf_root'],r'MF_Toolbox\\dev\\mf_scripts\\eplus_pipework_params.py'),\n",
    "        #'process_name':os.path.basename(os.path.join(os.environ['mf_root'],r'MF_Toolbox\\dev\\mf_scripts\\eplus_pipework_params.py')),\n",
    "        #'fpth_inputs':os.path.join(os.environ['mf_root'],r'MF_Toolbox\\dev\\mf_scripts\\configs\\eplus_pipework_params.csv'),\n",
    "        'fdir':os.path.join(NBFDIR,'notebooks'),\n",
    "        'fdir_outputs':os.path.join(NBFDIR,'notebooks')\n",
    "        }  \n",
    "\n",
    "    defaultrunapp={\n",
    "        'fpth_script':os.path.join(os.environ['mf_root'],r'MF_Toolbox\\dev\\mf_scripts\\docx_to_pdf.py'),\n",
    "        'fdir':NBFDIR,\n",
    "        'script_outputs': {'0': {\n",
    "            'fdir':r'..\\reports',\n",
    "            'fnm': r'JupyterReportDemo.pdf',\n",
    "            'description': \"a pdf report from word\"\n",
    "                }\n",
    "            }\n",
    "        }\n",
    "\n",
    "    runappcsv = {'app':RunAppEditCsv,'config':di}\n",
    "    configs = [runappcsv,defaultrunapp,runappcsv]\n",
    "    runapps = RunApps(configs)  \n",
    "\n",
    "    display(Markdown('### Example3'))\n",
    "    display(Markdown('''\n",
    "    demonstrates how multiple RunApp's can be ran as a batch. if not explicitly defined, the app assumes the default\n",
    "    RunApp is used.<br> it is also possible to explictly pass a RunApp variant, and it will still be executed within the batch:  \n",
    "\n",
    "    ```\n",
    "        di={\n",
    "            'fpth_script':os.path.join(os.environ['mf_root'],r'MF_Toolbox\\dev\\mf_scripts\\eplus_pipework_params.py'),\n",
    "            #'process_name':os.path.basename(os.path.join(os.environ['mf_root'],r'MF_Toolbox\\dev\\mf_scripts\\eplus_pipework_params.py')),\n",
    "            #'fpth_inputs':os.path.join(os.environ['mf_root'],r'MF_Toolbox\\dev\\mf_scripts\\configs\\eplus_pipework_params.csv'),\n",
    "            'fdir':os.path.join(NBFDIR,'notebooks'),\n",
    "            'fdir_outputs':os.path.join(NBFDIR,'notebooks')\n",
    "            }  \n",
    "\n",
    "        defaultrunapp={\n",
    "            'fpth_script':os.path.join(os.environ['mf_root'],r'MF_Toolbox\\dev\\mf_scripts\\docx_to_pdf.py'),\n",
    "            'fdir':NBFDIR,\n",
    "            'script_outputs': {'0': {\n",
    "                'fdir':r'..\\reports',\n",
    "                'fnm': r'JupyterReportDemo.pdf',\n",
    "                'description': \"a pdf report from word\"\n",
    "                    }\n",
    "                }\n",
    "            }\n",
    "\n",
    "        runappcsv = {'app':RunAppEditCsv,'config':di}\n",
    "        configs = [runappcsv,defaultrunapp,runappcsv]\n",
    "        runapps = RunApps(configs)  \n",
    "        display(runapps)\n",
    "    ```\n",
    "    '''))\n",
    "    display(runapps)\n",
    "    display(Markdown('---'))  \n",
    "    display(Markdown('')) \n",
    "    fpth_script = os.path.join(os.environ['mf_root'],r'MF_Toolbox\\dev\\mf_scripts\\gbxml.py')\n",
    "    config={\n",
    "        'fpth_script':os.path.realpath(fpth_script),\n",
    "        'fdir':NBFDIR\n",
    "        }  \n",
    "    r = RunApp(config)\n",
    "    r\n",
    "\n",
    "   # Example4 --------------------------\n",
    "    fpth_script = r'..\\examples\\scripts\\create_model_run_file.py'\n",
    "    di={\n",
    "        'fpth_script':os.path.realpath(fpth_script),\n",
    "        'fdir':os.path.join(NBFDIR),\n",
    "    } \n",
    "    batch = []\n",
    "    fdir_modelruninput = os.path.join(di_config['fdir_inputs'], r'modelruninputs')\n",
    "    \n",
    "    def add_to_batch(process_name, fdir_modelruninput, di, batch):\n",
    "        tmp = di.copy()\n",
    "        fpth_modelruninput = os.path.join(fdir_modelruninput, '{0}{1}'.format(process_name,'.json'))\n",
    "        tmp['fpth_inputs'] = fpth_modelruninput\n",
    "        tmp['fdir_inputs'] = fdir_modelruninput\n",
    "        tmp.update({'process_name':process_name})\n",
    "        batch.append({'app':RunAppModelRun,'config':tmp})\n",
    "        return batch\n",
    "    \n",
    "    for filename in os.listdir(fdir_modelruninput):\n",
    "        if filename.endswith(\".json\"):\n",
    "            batch = add_to_batch(os.path.splitext(filename)[0], fdir_modelruninput, di, batch)\n",
    "\n",
    "    filename = os.path.basename(fpth_script)\n",
    "    process_name = '{0}_{1}'.format(os.path.splitext(filename)[0],'0')\n",
    "    if not batch:\n",
    "        batch = add_to_batch(process_name, fdir_modelruninput, di, batch)\n",
    "        \n",
    "    runapps = RunApps(batch)  \n",
    "    display(Markdown('### Example4'))\n",
    "    display(Markdown('''Batch Run of RunApps, for ModelRun'''))\n",
    "    display(runapps, display_id=True)\n",
    "    \n"
   ]
  },
  {
   "cell_type": "code",
   "execution_count": null,
   "metadata": {},
   "outputs": [],
   "source": []
  },
  {
   "cell_type": "code",
   "execution_count": null,
   "metadata": {},
   "outputs": [],
   "source": []
  }
 ],
 "metadata": {
  "jupytext": {
   "formats": "ipynb,py:light"
  },
  "kernelspec": {
   "display_name": "Python [conda env:mf_main] *",
   "language": "python",
   "name": "conda-env-mf_main-py"
  },
  "language_info": {
   "codemirror_mode": {
    "name": "ipython",
    "version": 3
   },
   "file_extension": ".py",
   "mimetype": "text/x-python",
   "name": "python",
   "nbconvert_exporter": "python",
   "pygments_lexer": "ipython3",
   "version": "3.7.7"
  },
  "widgets": {
   "application/vnd.jupyter.widget-state+json": {
    "state": {
     "000bc71ca4064b42950f315c6067e37b": {
      "model_module": "@jupyter-widgets/output",
      "model_module_version": "1.0.0",
      "model_name": "OutputModel",
      "state": {
       "layout": "IPY_MODEL_5443103b3ee545258399e0f598951d42"
      }
     },
     "00c99824a06a459e9b37197f4c6e4431": {
      "model_module": "@jupyter-widgets/base",
      "model_module_version": "1.2.0",
      "model_name": "LayoutModel",
      "state": {}
     },
     "0189f8cec31e4f4e80037fc98bcc4984": {
      "model_module": "@jupyter-widgets/base",
      "model_module_version": "1.2.0",
      "model_name": "LayoutModel",
      "state": {
       "align_items": "stretch",
       "display": "flex",
       "flex_flow": "row",
       "grid_auto_columns": "True",
       "justify_content": "flex-end",
       "width": "90%"
      }
     },
     "0192dd503a824c9f97baf63d05566716": {
      "model_module": "@jupyter-widgets/controls",
      "model_module_version": "1.5.0",
      "model_name": "ButtonModel",
      "state": {
       "button_style": "info",
       "description": "preview outputs",
       "layout": "IPY_MODEL_4900854421bf40e2af19d62941d8bc47",
       "style": "IPY_MODEL_2894474e3fca41fa8f1ba210deb69df3",
       "tooltip": "show a preview of the output files generated when the script runs"
      }
     },
     "022abee0660949df9d08c6a1a5666eb3": {
      "model_module": "@jupyter-widgets/controls",
      "model_module_version": "1.5.0",
      "model_name": "BoxModel",
      "state": {
       "children": [
        "IPY_MODEL_da9745870a6049459e78a9da17b29370"
       ],
       "layout": "IPY_MODEL_e9a103f25b2f4425ade21fb3319d1fc1"
      }
     },
     "025bd99ad7f24a549dd94ed323063617": {
      "model_module": "@jupyter-widgets/controls",
      "model_module_version": "1.5.0",
      "model_name": "TextModel",
      "state": {
       "layout": "IPY_MODEL_e4b653b535474eec81d3f8a2f477ff9f",
       "style": "IPY_MODEL_0ef8de1634d14d0c99ea046900c40c5d"
      }
     },
     "028b651ae9084732a2744f55316b2aa1": {
      "model_module": "@jupyter-widgets/base",
      "model_module_version": "1.2.0",
      "model_name": "LayoutModel",
      "state": {}
     },
     "02ce396663b64e1990d83013d5a80354": {
      "model_module": "@jupyter-widgets/base",
      "model_module_version": "1.2.0",
      "model_name": "LayoutModel",
      "state": {}
     },
     "02d100dcb77d4b43945f97c26725a113": {
      "model_module": "@jupyter-widgets/controls",
      "model_module_version": "1.5.0",
      "model_name": "DescriptionStyleModel",
      "state": {
       "description_width": ""
      }
     },
     "0312b8a8aed240d48bc5fc59387f81cc": {
      "model_module": "@jupyter-widgets/controls",
      "model_module_version": "1.5.0",
      "model_name": "BoxModel",
      "state": {
       "children": [
        "IPY_MODEL_f7996b1c53c143dd8050d6ad4de7f250"
       ],
       "layout": "IPY_MODEL_b07dad4eb2e947d1af154ed6f869b3ee"
      }
     },
     "033b980eb9ab42629a2c515f77554e57": {
      "model_module": "@jupyter-widgets/base",
      "model_module_version": "1.2.0",
      "model_name": "LayoutModel",
      "state": {}
     },
     "038b913296254b5788629448418e77a1": {
      "model_module": "@jupyter-widgets/controls",
      "model_module_version": "1.5.0",
      "model_name": "AccordionModel",
      "state": {
       "_titles": {
        "0": "docx_to_pdf"
       },
       "children": [
        "IPY_MODEL_a451a844dc7c4d03b13556d32a21bdf0"
       ],
       "layout": "IPY_MODEL_a4bfb1ab959b4396ae2650625ac5b9a0",
       "selected_index": null
      }
     },
     "038c44aad2ce441c94d535b783bef8fd": {
      "model_module": "@jupyter-widgets/controls",
      "model_module_version": "1.5.0",
      "model_name": "HBoxModel",
      "state": {
       "children": [
        "IPY_MODEL_18682c01dbea4ea8bb15816b74bbf36a",
        "IPY_MODEL_b15b24a8532f4ae588ee5fb509ab4445"
       ],
       "layout": "IPY_MODEL_4919b7622fa9419e9df1a8682a8d4df1"
      }
     },
     "03bdcf25b6944a6db6a86eac327bccb3": {
      "model_module": "@jupyter-widgets/controls",
      "model_module_version": "1.5.0",
      "model_name": "DescriptionStyleModel",
      "state": {
       "description_width": ""
      }
     },
     "03ef1753ecd34c488e83ac0bf6cecc88": {
      "model_module": "@jupyter-widgets/base",
      "model_module_version": "1.2.0",
      "model_name": "LayoutModel",
      "state": {}
     },
     "0428e42347e24251b5f7f74f5b6852a0": {
      "model_module": "@jupyter-widgets/controls",
      "model_module_version": "1.5.0",
      "model_name": "VBoxModel",
      "state": {
       "children": [
        "IPY_MODEL_75840e40a1854c4ba8706cfda8cc2b10",
        "IPY_MODEL_0f66b8fffc8040f58381387135e9f240",
        "IPY_MODEL_21a90cfbedb6415c8007688ae86acb3d"
       ],
       "layout": "IPY_MODEL_7fde0bd830004bd898788b9613ef7bc7"
      }
     },
     "0443010bf44043b9b53d778988da17f3": {
      "model_module": "@jupyter-widgets/controls",
      "model_module_version": "1.5.0",
      "model_name": "HTMLModel",
      "state": {
       "layout": "IPY_MODEL_f230274cdedf4707a2f5f970d76b2c92",
       "style": "IPY_MODEL_02d100dcb77d4b43945f97c26725a113",
       "value": "<p>4th section of space name code (enter None if 4th section doesn't exist)</p>"
      }
     },
     "04fa575280db4dd5831d57653dcaf120": {
      "model_module": "@jupyter-widgets/base",
      "model_module_version": "1.2.0",
      "model_name": "LayoutModel",
      "state": {}
     },
     "0519dd4db6b34443bd75b47fa2568139": {
      "model_module": "@jupyter-widgets/output",
      "model_module_version": "1.0.0",
      "model_name": "OutputModel",
      "state": {
       "layout": "IPY_MODEL_1508ddc922184ea8af54551f72479d6a"
      }
     },
     "0526ba5a1b1a46f79a81a48043f0c42f": {
      "model_module": "@jupyter-widgets/controls",
      "model_module_version": "1.5.0",
      "model_name": "ButtonStyleModel",
      "state": {
       "font_weight": "bold"
      }
     },
     "052c4918d1544a14ad41d201cd7c0ee1": {
      "model_module": "@jupyter-widgets/controls",
      "model_module_version": "1.5.0",
      "model_name": "ButtonModel",
      "state": {
       "button_style": "success",
       "description": "save changes",
       "layout": "IPY_MODEL_13b30c7c2e9f4a61a6200ea75bb04660",
       "style": "IPY_MODEL_f9a64dc75bfc48faa994f70ae00da3fc"
      }
     },
     "05480a7780fe40948ecd4ef0a61e2e45": {
      "model_module": "@jupyter-widgets/base",
      "model_module_version": "1.2.0",
      "model_name": "LayoutModel",
      "state": {}
     },
     "055ce1c59dc64f98be9f09c0ed6a0666": {
      "model_module": "@jupyter-widgets/controls",
      "model_module_version": "1.5.0",
      "model_name": "ButtonStyleModel",
      "state": {
       "font_weight": "bold"
      }
     },
     "057c7935c93e43aeb4018b7b2ea10351": {
      "model_module": "@jupyter-widgets/controls",
      "model_module_version": "1.5.0",
      "model_name": "DescriptionStyleModel",
      "state": {
       "description_width": ""
      }
     },
     "05e31d1411f14572a2efbbe3466f99ae": {
      "model_module": "@jupyter-widgets/controls",
      "model_module_version": "1.5.0",
      "model_name": "ButtonStyleModel",
      "state": {
       "font_weight": "bold"
      }
     },
     "067a22602ec040629fc4ecf39c0b6b37": {
      "model_module": "@jupyter-widgets/controls",
      "model_module_version": "1.5.0",
      "model_name": "HBoxModel",
      "state": {
       "children": [
        "IPY_MODEL_1c593cbae66a4302855cfbbb556deb72",
        "IPY_MODEL_8ea46250142d4affa4441438caad744c"
       ],
       "layout": "IPY_MODEL_ac61775717804fd78fb6047b8f0703f1"
      }
     },
     "067b1f6304b941ef96d8e3ce685bb5f5": {
      "model_module": "@jupyter-widgets/controls",
      "model_module_version": "1.5.0",
      "model_name": "ButtonModel",
      "state": {
       "button_style": "info",
       "description": "show guide",
       "layout": "IPY_MODEL_de919c19e32241bd953cbc109ddbe108",
       "style": "IPY_MODEL_70e85cf423164e22814f8c34852b71e8",
       "tooltip": "read the \"docstring\", ie. the documentation that was written to accompany the script"
      }
     },
     "069358cfe2c04b09a60f47f77ff4f159": {
      "model_module": "@jupyter-widgets/controls",
      "model_module_version": "1.5.0",
      "model_name": "ButtonStyleModel",
      "state": {
       "font_weight": "bold"
      }
     },
     "0708c353b34c4d4b9f5e10d8e1434e44": {
      "model_module": "@jupyter-widgets/base",
      "model_module_version": "1.2.0",
      "model_name": "LayoutModel",
      "state": {}
     },
     "07fee480f49a43bd9b32e2eb6b6bcde1": {
      "model_module": "@jupyter-widgets/base",
      "model_module_version": "1.2.0",
      "model_name": "LayoutModel",
      "state": {}
     },
     "083b7d46a04f47b896d91a607d025477": {
      "model_module": "@jupyter-widgets/controls",
      "model_module_version": "1.5.0",
      "model_name": "DescriptionStyleModel",
      "state": {
       "description_width": ""
      }
     },
     "085a48a190eb43b5b355d1c9f8c17451": {
      "model_module": "@jupyter-widgets/base",
      "model_module_version": "1.2.0",
      "model_name": "LayoutModel",
      "state": {}
     },
     "089f94ae4afd42aebb1ace6eeaa4c469": {
      "model_module": "@jupyter-widgets/controls",
      "model_module_version": "1.5.0",
      "model_name": "DescriptionStyleModel",
      "state": {
       "description_width": ""
      }
     },
     "08b0dd63240143b3a29d4a8c44a0cd73": {
      "model_module": "@jupyter-widgets/controls",
      "model_module_version": "1.5.0",
      "model_name": "HBoxModel",
      "state": {
       "children": [
        "IPY_MODEL_332eb9f9efd9407fb0913e78d1cdd57c"
       ],
       "layout": "IPY_MODEL_c3c0d3a4005d450b9fd949fcdba47e55"
      }
     },
     "08f51b0188fa406d9c08e821af982dc0": {
      "model_module": "@jupyter-widgets/controls",
      "model_module_version": "1.5.0",
      "model_name": "DescriptionStyleModel",
      "state": {
       "description_width": ""
      }
     },
     "093fab81237344adbfcb4cf802263594": {
      "model_module": "@jupyter-widgets/controls",
      "model_module_version": "1.5.0",
      "model_name": "ButtonModel",
      "state": {
       "button_style": "success",
       "description": "save changes",
       "layout": "IPY_MODEL_ec9b56717f144671b1062b0049c25f85",
       "style": "IPY_MODEL_7cf899801eba439a83373e4428c476d7"
      }
     },
     "096d8e6ce1c44411a456df936d059b36": {
      "model_module": "@jupyter-widgets/base",
      "model_module_version": "1.2.0",
      "model_name": "LayoutModel",
      "state": {}
     },
     "0972f824b85e4dbda7d31162dedbaf47": {
      "model_module": "@jupyter-widgets/output",
      "model_module_version": "1.0.0",
      "model_name": "OutputModel",
      "state": {
       "layout": "IPY_MODEL_ca869337b3444157a8de85e8b44ed494"
      }
     },
     "097739379e2844478109070110b679fd": {
      "model_module": "@jupyter-widgets/controls",
      "model_module_version": "1.5.0",
      "model_name": "ButtonStyleModel",
      "state": {
       "font_weight": "bold"
      }
     },
     "098fd35e29ab46b8bfb0f02a71183f7a": {
      "model_module": "@jupyter-widgets/base",
      "model_module_version": "1.2.0",
      "model_name": "LayoutModel",
      "state": {}
     },
     "09d6fdc76b124c2f8aa9bae19b2504f0": {
      "model_module": "@jupyter-widgets/controls",
      "model_module_version": "1.5.0",
      "model_name": "ButtonModel",
      "state": {
       "button_style": "info",
       "description": "show log",
       "layout": "IPY_MODEL_94e4db9ddbbb4befafe3a3e7f85a39dd",
       "style": "IPY_MODEL_6296f0b3fe1f41d68abcbc159a4a4eac",
       "tooltip": "show a log of when the script was executed to generate the outputs, and by who"
      }
     },
     "09e1fd8b796d4d61b63577a4b4e252f8": {
      "model_module": "@jupyter-widgets/controls",
      "model_module_version": "1.5.0",
      "model_name": "HBoxModel",
      "state": {
       "children": [
        "IPY_MODEL_1420efb093414a7ab1831f304eef9791",
        "IPY_MODEL_7b27daa297f643e5bdf95bb1fe2a7d96"
       ],
       "layout": "IPY_MODEL_152b50c6e7c347289c1f8ea4340e0943"
      }
     },
     "0a0982505bed45dc9898d491786468e8": {
      "model_module": "@jupyter-widgets/base",
      "model_module_version": "1.2.0",
      "model_name": "LayoutModel",
      "state": {
       "align_items": "stretch",
       "border": "dashed 0.2px green",
       "display": "flex",
       "flex_flow": "row",
       "grid_auto_columns": "True",
       "justify_content": "flex-start",
       "width": "100%"
      }
     },
     "0a8223a9ce384aa6af730590a281fa5a": {
      "model_module": "@jupyter-widgets/controls",
      "model_module_version": "1.5.0",
      "model_name": "VBoxModel",
      "state": {
       "children": [
        "IPY_MODEL_465ee7ee421047ddb7b204a742d4ffce",
        "IPY_MODEL_8d72a5ffac3e4816883e2b3ded2a2fb7",
        "IPY_MODEL_9c3c8e6d9be3416d8cc932b259d9c306",
        "IPY_MODEL_0afe16b1ce3c48ab9b8f6c6fc272311e",
        "IPY_MODEL_5defcb394e8d4512841f6310b234f9be"
       ],
       "layout": "IPY_MODEL_31a3f9814ae94eb1b00de5be862d4d0f"
      }
     },
     "0ada85016572404e91e430bc6eb01656": {
      "model_module": "@jupyter-widgets/base",
      "model_module_version": "1.2.0",
      "model_name": "LayoutModel",
      "state": {
       "align_items": "stretch",
       "display": "flex",
       "flex_flow": "row",
       "grid_auto_columns": "True",
       "justify_content": "flex-start",
       "width": "80%"
      }
     },
     "0adf7cf2459b46c6a509a3621bb9c938": {
      "model_module": "@jupyter-widgets/base",
      "model_module_version": "1.2.0",
      "model_name": "LayoutModel",
      "state": {}
     },
     "0ae326c057ca4ec3af04dbd5ae65896b": {
      "model_module": "@jupyter-widgets/controls",
      "model_module_version": "1.5.0",
      "model_name": "DescriptionStyleModel",
      "state": {
       "description_width": ""
      }
     },
     "0afe16b1ce3c48ab9b8f6c6fc272311e": {
      "model_module": "@jupyter-widgets/controls",
      "model_module_version": "1.5.0",
      "model_name": "HBoxModel",
      "state": {
       "children": [
        "IPY_MODEL_7e56b25b0a6042f0b9e60341cb4cfc1f"
       ],
       "layout": "IPY_MODEL_aee2910e8fe94bdfb741a0884c08616b"
      }
     },
     "0b097eb8038f4ef3a128fe8f99798e37": {
      "model_module": "@jupyter-widgets/base",
      "model_module_version": "1.2.0",
      "model_name": "LayoutModel",
      "state": {
       "align_items": "stretch",
       "border": "dashed 0.2px green",
       "display": "flex",
       "flex_flow": "row",
       "grid_auto_columns": "True",
       "justify_content": "flex-start",
       "width": "100%"
      }
     },
     "0b1eb6f2142a4c1d9f55090f59cfff7c": {
      "model_module": "@jupyter-widgets/base",
      "model_module_version": "1.2.0",
      "model_name": "LayoutModel",
      "state": {}
     },
     "0b221e3c072640158613d2e1ccbebd3b": {
      "model_module": "@jupyter-widgets/controls",
      "model_module_version": "1.5.0",
      "model_name": "DescriptionStyleModel",
      "state": {
       "description_width": ""
      }
     },
     "0b6ce2956d334908b8d0f5cda2443623": {
      "model_module": "@jupyter-widgets/base",
      "model_module_version": "1.2.0",
      "model_name": "LayoutModel",
      "state": {
       "width": "5%"
      }
     },
     "0b6ff9203d9744dbbc545d8ab98a5e6e": {
      "model_module": "@jupyter-widgets/controls",
      "model_module_version": "1.5.0",
      "model_name": "DescriptionStyleModel",
      "state": {
       "description_width": ""
      }
     },
     "0b90db8ccef146b2a4052ca663feb685": {
      "model_module": "@jupyter-widgets/controls",
      "model_module_version": "1.5.0",
      "model_name": "HBoxModel",
      "state": {
       "children": [
        "IPY_MODEL_b4fb398120b84ef4bc8d5289e429aab6",
        "IPY_MODEL_1f5a7bc1993a46f8bc6388f033e3677e",
        "IPY_MODEL_4b7ccb41410646f8871aac12b0d6f463",
        "IPY_MODEL_31d0f0b66da3407b906db59ecbed4d57",
        "IPY_MODEL_4a149e5265a34555806467e2e142d850",
        "IPY_MODEL_6967e61590004b20a635a1278db4fb78",
        "IPY_MODEL_79f820aab8a845728d27cd65868d8e1e"
       ],
       "layout": "IPY_MODEL_eee8730ca7c4483d87c1a399d20ccc07"
      }
     },
     "0b914663e9434d66a7721d1d30ef43e6": {
      "model_module": "@jupyter-widgets/controls",
      "model_module_version": "1.5.0",
      "model_name": "HTMLModel",
      "state": {
       "layout": "IPY_MODEL_b15f35a41e8f4504934afc6836785b9e",
       "style": "IPY_MODEL_f3e969b2d59847b48eccdc3fb80ec7f7",
       "value": "<p>3rd section of space name code (enter None if 3rd section doesn't exist)</p>"
      }
     },
     "0c004b04209c4fb58fee975a43dad1e5": {
      "model_module": "@jupyter-widgets/controls",
      "model_module_version": "1.5.0",
      "model_name": "ButtonStyleModel",
      "state": {
       "font_weight": "bold"
      }
     },
     "0c433a1cbcfc47309ccc73039830f410": {
      "model_module": "@jupyter-widgets/base",
      "model_module_version": "1.2.0",
      "model_name": "LayoutModel",
      "state": {}
     },
     "0c56f6c997714d2f852978855611795e": {
      "model_module": "@jupyter-widgets/base",
      "model_module_version": "1.2.0",
      "model_name": "LayoutModel",
      "state": {}
     },
     "0d3a1e27fcd243c090031aa2ff4f0318": {
      "model_module": "@jupyter-widgets/controls",
      "model_module_version": "1.5.0",
      "model_name": "VBoxModel",
      "state": {
       "children": [
        "IPY_MODEL_bd161327a0f64847beb986f6960b84d4",
        "IPY_MODEL_239c13b602424a4b94b8882c6b913bdb",
        "IPY_MODEL_d30a8bcfaf0148f1bff56e1ef4710191"
       ],
       "layout": "IPY_MODEL_1abca7b2c0ab4592a5418c71524c4906"
      }
     },
     "0d451558491f4c768844049cb8238ede": {
      "model_module": "@jupyter-widgets/base",
      "model_module_version": "1.2.0",
      "model_name": "LayoutModel",
      "state": {
       "align_items": "stretch",
       "border": "dashed 0.2px green",
       "display": "flex",
       "flex_flow": "row",
       "grid_auto_columns": "True",
       "justify_content": "flex-start",
       "width": "100%"
      }
     },
     "0d806745c3ea487f826c010888ad1c7d": {
      "model_module": "@jupyter-widgets/controls",
      "model_module_version": "1.5.0",
      "model_name": "VBoxModel",
      "state": {
       "children": [
        "IPY_MODEL_dfd503ac1a7040c4b8bb51ff354d8b41",
        "IPY_MODEL_6f25014545e54e6fa7c28b93f5ee82c9"
       ],
       "layout": "IPY_MODEL_7cedc814fcec460fa2eea5d1de11df51"
      }
     },
     "0ddb9f2d33484c7c89f97cf5c323330a": {
      "model_module": "@jupyter-widgets/controls",
      "model_module_version": "1.5.0",
      "model_name": "HBoxModel",
      "state": {
       "children": [
        "IPY_MODEL_d7d004f5d3b0427a9b3c9a961c9585a6",
        "IPY_MODEL_e8faa5820107476f88b01368921d178a"
       ],
       "layout": "IPY_MODEL_c55654fab43a4507b2a94d00c4745623"
      }
     },
     "0de399c9f29e4a4c813ffe5421a0735c": {
      "model_module": "@jupyter-widgets/base",
      "model_module_version": "1.2.0",
      "model_name": "LayoutModel",
      "state": {}
     },
     "0ed74b1bd5344aeb93f08a90c5e4a5f2": {
      "model_module": "@jupyter-widgets/controls",
      "model_module_version": "1.5.0",
      "model_name": "HBoxModel",
      "state": {
       "children": [
        "IPY_MODEL_f06ed6e6a7c4424abe2f6bbd36c9c675"
       ],
       "layout": "IPY_MODEL_d76f1647a4f74998ba96c649a5916fdc"
      }
     },
     "0ede9a7af5d245f1b57362279f751097": {
      "model_module": "@jupyter-widgets/controls",
      "model_module_version": "1.5.0",
      "model_name": "ButtonStyleModel",
      "state": {
       "font_weight": "bold"
      }
     },
     "0eeb472a149c47e2a05b63b4a7322b38": {
      "model_module": "@jupyter-widgets/base",
      "model_module_version": "1.2.0",
      "model_name": "LayoutModel",
      "state": {
       "align_items": "stretch",
       "display": "flex",
       "flex_flow": "row",
       "grid_auto_columns": "True",
       "justify_content": "flex-end",
       "width": "90%"
      }
     },
     "0ef8de1634d14d0c99ea046900c40c5d": {
      "model_module": "@jupyter-widgets/controls",
      "model_module_version": "1.5.0",
      "model_name": "DescriptionStyleModel",
      "state": {
       "description_width": ""
      }
     },
     "0f448bd743214a0da91ba90a0f21f5a3": {
      "model_module": "@jupyter-widgets/controls",
      "model_module_version": "1.5.0",
      "model_name": "SelectMultipleModel",
      "state": {
       "_options_labels": [
        "C:\\engDev\\git_mf\\ipyrun\\data\\external\\eplus_pipework_params.csv"
       ],
       "description": "outputs",
       "index": [],
       "layout": "IPY_MODEL_36b545a35798429989f829ed83cce9ae",
       "rows": 4,
       "style": "IPY_MODEL_285d5f2505534c82a536e3b02f27e832"
      }
     },
     "0f4aef9c813d4dd1a2652c2057f6dd26": {
      "model_module": "@jupyter-widgets/controls",
      "model_module_version": "1.5.0",
      "model_name": "TextModel",
      "state": {
       "layout": "IPY_MODEL_096d8e6ce1c44411a456df936d059b36",
       "style": "IPY_MODEL_5027e266c23c4ae6b5f205f7f4b28786",
       "value": "Level"
      }
     },
     "0f66b8fffc8040f58381387135e9f240": {
      "model_module": "@jupyter-widgets/controls",
      "model_module_version": "1.5.0",
      "model_name": "HTMLModel",
      "state": {
       "layout": "IPY_MODEL_6125f497e66f48d99a5b0f3be23b3adf",
       "style": "IPY_MODEL_febf590c082e471188997fc95d9ab29d",
       "value": "<p>update the user input form with data from file</p>"
      }
     },
     "0f7430ed13344213a52e9d858ce3bc13": {
      "model_module": "@jupyter-widgets/controls",
      "model_module_version": "1.5.0",
      "model_name": "ButtonModel",
      "state": {
       "button_style": "success",
       "description": "run",
       "layout": "IPY_MODEL_51ce4133dbca447da2eca968de3af587",
       "style": "IPY_MODEL_676b5650268842f6a7bafc63fdf5c0ac",
       "tooltip": "execute the script based on the user inputs"
      }
     },
     "0f76848d541b49588d387ef96104cd94": {
      "model_module": "@jupyter-widgets/base",
      "model_module_version": "1.2.0",
      "model_name": "LayoutModel",
      "state": {
       "border": "0px",
       "margin": "0px",
       "padding": "0px"
      }
     },
     "0f76b44812c945109da70aa2d0eabcee": {
      "model_module": "@jupyter-widgets/controls",
      "model_module_version": "1.5.0",
      "model_name": "ButtonModel",
      "state": {
       "button_style": "info",
       "description": "show log",
       "layout": "IPY_MODEL_54263af4c9c741518d774273d80ae9a6",
       "style": "IPY_MODEL_b802eae238744f23b58af1584f8b1386",
       "tooltip": "show a log of when the script was executed to generate the outputs, and by who"
      }
     },
     "0fbbf085292d4076b5b46eaef5af89cd": {
      "model_module": "@jupyter-widgets/controls",
      "model_module_version": "1.5.0",
      "model_name": "HBoxModel",
      "state": {
       "children": [
        "IPY_MODEL_418ca0888ac240efbe73a54c0df172bd",
        "IPY_MODEL_93a36c03399845e0b409b8afbe94cf33"
       ],
       "layout": "IPY_MODEL_548c8d8839064c3caf0a50f3d3090fd8"
      }
     },
     "106136b322d94184bcea49783d85d813": {
      "model_module": "@jupyter-widgets/base",
      "model_module_version": "1.2.0",
      "model_name": "LayoutModel",
      "state": {}
     },
     "10647ca2386c4dd597361c6979065362": {
      "model_module": "@jupyter-widgets/base",
      "model_module_version": "1.2.0",
      "model_name": "LayoutModel",
      "state": {}
     },
     "10890b46851c4ce0b2ba4463d48a2a67": {
      "model_module": "@jupyter-widgets/controls",
      "model_module_version": "1.5.0",
      "model_name": "HBoxModel",
      "state": {
       "children": [
        "IPY_MODEL_8a9a1a307b0c4d2499ec0975ed269599"
       ],
       "layout": "IPY_MODEL_77d7d079e3fa4f85b448511555a3af1e"
      }
     },
     "1234217b07aa43cf9f70ae5e02117d85": {
      "model_module": "@jupyter-widgets/controls",
      "model_module_version": "1.5.0",
      "model_name": "HBoxModel",
      "state": {
       "children": [
        "IPY_MODEL_8fe7ee36d4364bcbbf4be9a989542bb3",
        "IPY_MODEL_038c44aad2ce441c94d535b783bef8fd"
       ],
       "layout": "IPY_MODEL_443ba1c04e064af98a744962c77199d4"
      }
     },
     "12542a29cc934595acb6ea5f7691db44": {
      "model_module": "@jupyter-widgets/base",
      "model_module_version": "1.2.0",
      "model_name": "LayoutModel",
      "state": {}
     },
     "125c140f93aa4f9883d4b10ec01cae8e": {
      "model_module": "@jupyter-widgets/controls",
      "model_module_version": "1.5.0",
      "model_name": "HBoxModel",
      "state": {
       "children": [
        "IPY_MODEL_6ffd714630a940d1a446ce21dfc3299a"
       ],
       "layout": "IPY_MODEL_2427242d4c384e238acebb5907df321a"
      }
     },
     "129ce7c1718245e6bd49812798d55485": {
      "model_module": "@jupyter-widgets/controls",
      "model_module_version": "1.5.0",
      "model_name": "HBoxModel",
      "state": {
       "children": [
        "IPY_MODEL_d9916ba500874b64aced84dbda6a98ea"
       ],
       "layout": "IPY_MODEL_4e2b2a59bdec4efc983243173bd5ebb0"
      }
     },
     "12e4396edf9f419eae49b1599314928f": {
      "model_module": "@jupyter-widgets/base",
      "model_module_version": "1.2.0",
      "model_name": "LayoutModel",
      "state": {}
     },
     "131162c08c2c4ca2b275d0e68d110edc": {
      "model_module": "@jupyter-widgets/base",
      "model_module_version": "1.2.0",
      "model_name": "LayoutModel",
      "state": {}
     },
     "13640ba94ffa4724bbbef366edc25dbe": {
      "model_module": "@jupyter-widgets/controls",
      "model_module_version": "1.5.0",
      "model_name": "AccordionModel",
      "state": {
       "_titles": {
        "0": "docx_to_pdf"
       },
       "children": [
        "IPY_MODEL_b191be22dcfb49da88f153bb2ee6c948"
       ],
       "layout": "IPY_MODEL_4826e53ed069419c862f3a08c9eb8b80",
       "selected_index": null
      }
     },
     "136703bae0ae459cbaa34fb6a4dbab49": {
      "model_module": "@jupyter-widgets/base",
      "model_module_version": "1.2.0",
      "model_name": "LayoutModel",
      "state": {}
     },
     "13a7db9fdd184932a631970ce7896428": {
      "model_module": "@jupyter-widgets/controls",
      "model_module_version": "1.5.0",
      "model_name": "ButtonModel",
      "state": {
       "button_style": "warning",
       "description": "edit inputs",
       "layout": "IPY_MODEL_eb902bea4bee4be9a206e2b2ad044453",
       "style": "IPY_MODEL_c1b3d7a3c7fd4b10829a96a225d37ea0",
       "tooltip": "edit the user input information that is used when the script is executed"
      }
     },
     "13b30c7c2e9f4a61a6200ea75bb04660": {
      "model_module": "@jupyter-widgets/base",
      "model_module_version": "1.2.0",
      "model_name": "LayoutModel",
      "state": {}
     },
     "13c29c3fe95a43819837e7d3ddd44730": {
      "model_module": "@jupyter-widgets/controls",
      "model_module_version": "1.5.0",
      "model_name": "VBoxModel",
      "state": {
       "children": [
        "IPY_MODEL_0312b8a8aed240d48bc5fc59387f81cc",
        "IPY_MODEL_5d3350194fa648a7a5ed8bff32428b05"
       ],
       "layout": "IPY_MODEL_32848c78afaf4a94b7b0c11b9f7df1d2"
      }
     },
     "14207e881dbc4f6dabe60be6b5bcdcbb": {
      "model_module": "@jupyter-widgets/controls",
      "model_module_version": "1.5.0",
      "model_name": "ButtonModel",
      "state": {
       "button_style": "info",
       "description": "show source code",
       "layout": "IPY_MODEL_05480a7780fe40948ecd4ef0a61e2e45",
       "style": "IPY_MODEL_bec599b6e63a435aa2b8349934711dd6",
       "tooltip": "shows the raw python code in the preview window below"
      }
     },
     "1420efb093414a7ab1831f304eef9791": {
      "model_module": "@jupyter-widgets/controls",
      "model_module_version": "1.5.0",
      "model_name": "HTMLModel",
      "state": {
       "layout": "IPY_MODEL_cc6d0bb0d3f0422a9433c8323c851ae5",
       "style": "IPY_MODEL_3a4da324b92e44d2bae259ddb485e003",
       "value": "<p>fpth_in</p>"
      }
     },
     "1430cba94b1f4025a0cae55cb6dcca68": {
      "model_module": "@jupyter-widgets/controls",
      "model_module_version": "1.5.0",
      "model_name": "VBoxModel",
      "state": {
       "children": [
        "IPY_MODEL_c8a7ba68b1d24127b2f1962916ac6000",
        "IPY_MODEL_613ada6219e2467f9920058e82895851",
        "IPY_MODEL_f2dc1aef319a44d7ac5b67070e776b8f"
       ],
       "layout": "IPY_MODEL_6d36fa3a3fd54c048a3b656a705fe130"
      }
     },
     "1508ddc922184ea8af54551f72479d6a": {
      "model_module": "@jupyter-widgets/base",
      "model_module_version": "1.2.0",
      "model_name": "LayoutModel",
      "state": {}
     },
     "152b50c6e7c347289c1f8ea4340e0943": {
      "model_module": "@jupyter-widgets/base",
      "model_module_version": "1.2.0",
      "model_name": "LayoutModel",
      "state": {
       "align_items": "stretch",
       "display": "flex",
       "flex_flow": "row",
       "grid_auto_columns": "True",
       "justify_content": "flex-end",
       "width": "90%"
      }
     },
     "154ebe92bfc44f4a8d5b054c7c586d9d": {
      "model_module": "@jupyter-widgets/base",
      "model_module_version": "1.2.0",
      "model_name": "LayoutModel",
      "state": {}
     },
     "158e17e891dd424784780de4a59d93b0": {
      "model_module": "@jupyter-widgets/base",
      "model_module_version": "1.2.0",
      "model_name": "LayoutModel",
      "state": {
       "align_items": "stretch",
       "display": "flex",
       "flex_flow": "row",
       "grid_auto_columns": "True",
       "justify_content": "flex-start",
       "width": "80%"
      }
     },
     "15bbc4760dcb4a568a56de9b18857aae": {
      "model_module": "@jupyter-widgets/controls",
      "model_module_version": "1.5.0",
      "model_name": "TextModel",
      "state": {
       "description": "inputs",
       "disabled": true,
       "layout": "IPY_MODEL_5354107ab60044a591c88dc3a7904a01",
       "style": "IPY_MODEL_d8e72ac9e342453896ec25ad287f2104",
       "value": "C:\\engDev\\git_mf\\ipyrun\\ipyrun\\notebooks\\appdata\\inputs\\inputs-eplus_pipework_params.csv"
      }
     },
     "15ec91bf8037488f8d63833234af8f13": {
      "model_module": "@jupyter-widgets/controls",
      "model_module_version": "1.5.0",
      "model_name": "HTMLModel",
      "state": {
       "layout": "IPY_MODEL_c4c7853f6c2041e3b82998c7c47204e0",
       "style": "IPY_MODEL_0b221e3c072640158613d2e1ccbebd3b",
       "value": "<p>2nd section of space name code</p>"
      }
     },
     "15fdde1f0af14f2cb432c280c827570f": {
      "model_module": "@jupyter-widgets/base",
      "model_module_version": "1.2.0",
      "model_name": "LayoutModel",
      "state": {
       "align_items": "stretch",
       "width": "100%"
      }
     },
     "16058d9f0e8e46b7a68e4463ef57b2a1": {
      "model_module": "@jupyter-widgets/base",
      "model_module_version": "1.2.0",
      "model_name": "LayoutModel",
      "state": {}
     },
     "162b14293b0b4d9a9542d8082b8c1c1a": {
      "model_module": "@jupyter-widgets/base",
      "model_module_version": "1.2.0",
      "model_name": "LayoutModel",
      "state": {}
     },
     "169d10df919645c0bcec9fc951e82472": {
      "model_module": "@jupyter-widgets/base",
      "model_module_version": "1.2.0",
      "model_name": "LayoutModel",
      "state": {}
     },
     "16cd579a30984c4f9cd820a3f78f4a34": {
      "model_module": "@jupyter-widgets/controls",
      "model_module_version": "1.5.0",
      "model_name": "DescriptionStyleModel",
      "state": {
       "description_width": ""
      }
     },
     "16f078f1dee241abba37c9a00c49a89f": {
      "model_module": "@jupyter-widgets/base",
      "model_module_version": "1.2.0",
      "model_name": "LayoutModel",
      "state": {}
     },
     "17330f7c65a94547a0f5eb958ecdd7ab": {
      "model_module": "@jupyter-widgets/output",
      "model_module_version": "1.0.0",
      "model_name": "OutputModel",
      "state": {
       "layout": "IPY_MODEL_e78840eeeda44c85a12dd863e0dd70ee"
      }
     },
     "1744f9b7d699421aaf80cf410882b601": {
      "model_module": "@jupyter-widgets/base",
      "model_module_version": "1.2.0",
      "model_name": "LayoutModel",
      "state": {}
     },
     "177d50523a7944eca6f5d0d2060dbbcc": {
      "model_module": "@jupyter-widgets/base",
      "model_module_version": "1.2.0",
      "model_name": "LayoutModel",
      "state": {}
     },
     "17c3146881bd45bbb5873b61fde29bf4": {
      "model_module": "@jupyter-widgets/controls",
      "model_module_version": "1.5.0",
      "model_name": "HBoxModel",
      "state": {
       "children": [
        "IPY_MODEL_9f2c78466a6140eca1816398470b33f7",
        "IPY_MODEL_ba90dd64b942403ca2dd428de4acc487"
       ],
       "layout": "IPY_MODEL_20fb09b8151f48b0ae5ff28c2bd09f58"
      }
     },
     "17fdbf258c414c77aee1213a37fcf933": {
      "model_module": "@jupyter-widgets/base",
      "model_module_version": "1.2.0",
      "model_name": "LayoutModel",
      "state": {}
     },
     "182d02e48106495397fa76e14b812ab6": {
      "model_module": "@jupyter-widgets/controls",
      "model_module_version": "1.5.0",
      "model_name": "ButtonStyleModel",
      "state": {
       "font_weight": "bold"
      }
     },
     "18300360fc12485c880d97bd5f3c8539": {
      "model_module": "@jupyter-widgets/controls",
      "model_module_version": "1.5.0",
      "model_name": "DescriptionStyleModel",
      "state": {
       "description_width": ""
      }
     },
     "18595acdbc58465eb8700ca52155aa9a": {
      "model_module": "@jupyter-widgets/base",
      "model_module_version": "1.2.0",
      "model_name": "LayoutModel",
      "state": {}
     },
     "18682c01dbea4ea8bb15816b74bbf36a": {
      "model_module": "@jupyter-widgets/controls",
      "model_module_version": "1.5.0",
      "model_name": "TextModel",
      "state": {
       "layout": "IPY_MODEL_1744f9b7d699421aaf80cf410882b601",
       "style": "IPY_MODEL_5832463ad25e45f0bfd6263255f7cebc",
       "value": "TM46Category"
      }
     },
     "186f0312cb4a49018c08a489f05dbabb": {
      "model_module": "@jupyter-widgets/base",
      "model_module_version": "1.2.0",
      "model_name": "LayoutModel",
      "state": {}
     },
     "18740fd363b84b3c82cfd32e696aa67d": {
      "model_module": "@jupyter-widgets/base",
      "model_module_version": "1.2.0",
      "model_name": "LayoutModel",
      "state": {
       "height": "30px",
       "width": "auto"
      }
     },
     "18dfaf607db14355af3369aefb7bbcfa": {
      "model_module": "@jupyter-widgets/controls",
      "model_module_version": "1.5.0",
      "model_name": "ButtonModel",
      "state": {
       "button_style": "success",
       "description": "run",
       "layout": "IPY_MODEL_ec4a1caf193c49ec87989ef3dbd4593f",
       "style": "IPY_MODEL_1c8175408fbc4f7bb14948f749914c6b",
       "tooltip": "execute the script based on the user inputs"
      }
     },
     "195a3d08c7134917ad589a57752eed93": {
      "model_module": "@jupyter-widgets/controls",
      "model_module_version": "1.5.0",
      "model_name": "HBoxModel",
      "state": {
       "children": [
        "IPY_MODEL_b94ca35352774157bcb9f6856de0a0f3",
        "IPY_MODEL_e69c285d3b3d4b33b71cd5e989c38dc8"
       ],
       "layout": "IPY_MODEL_95dfa7eef08f4531b70760334a5868e7"
      }
     },
     "195f24d2c7bb4087b92692aa159276ec": {
      "model_module": "@jupyter-widgets/base",
      "model_module_version": "1.2.0",
      "model_name": "LayoutModel",
      "state": {}
     },
     "1979372dbaa04798adcd6b75ff412426": {
      "model_module": "@jupyter-widgets/controls",
      "model_module_version": "1.5.0",
      "model_name": "VBoxModel",
      "state": {
       "layout": "IPY_MODEL_257e4fba535043138997b278b66fcc43"
      }
     },
     "19b98373968d4a8bb35ba85f10a79822": {
      "model_module": "@jupyter-widgets/controls",
      "model_module_version": "1.5.0",
      "model_name": "DescriptionStyleModel",
      "state": {
       "description_width": ""
      }
     },
     "19c0a920a7d34a5bbd7ad3fd13c654be": {
      "model_module": "@jupyter-widgets/controls",
      "model_module_version": "1.5.0",
      "model_name": "HTMLModel",
      "state": {
       "layout": "IPY_MODEL_0b1eb6f2142a4c1d9f55090f59cfff7c",
       "style": "IPY_MODEL_ad9cd268cb2e4d04902cea482be15da1",
       "value": "<p>5th section of space name code (enter None if 5th section doesn't exist)</p>"
      }
     },
     "19c1b4a2f13a49149bfb7e7e479ad40d": {
      "model_module": "@jupyter-widgets/controls",
      "model_module_version": "1.5.0",
      "model_name": "HBoxModel",
      "state": {
       "children": [
        "IPY_MODEL_6d5e8d3d4a984b9891d944a6c0cb1e84"
       ],
       "layout": "IPY_MODEL_b40edada04244c0fb4e703dd7790553f"
      }
     },
     "19cc07ef55b6461e85d8aa52d19709db": {
      "model_module": "@jupyter-widgets/output",
      "model_module_version": "1.0.0",
      "model_name": "OutputModel",
      "state": {
       "layout": "IPY_MODEL_1db72c76b6f54bbcbb1d8970f93508ce"
      }
     },
     "19ef1cd8ff2d47bf9f6003704bb76975": {
      "model_module": "@jupyter-widgets/base",
      "model_module_version": "1.2.0",
      "model_name": "LayoutModel",
      "state": {}
     },
     "1a1ab6e8d7c14e3e8b56bcdeae9a7d5a": {
      "model_module": "@jupyter-widgets/controls",
      "model_module_version": "1.5.0",
      "model_name": "TextModel",
      "state": {
       "layout": "IPY_MODEL_46d9f1f4840b41428a4dcf241b669d3c",
       "style": "IPY_MODEL_562509c963594810a1eba54462ac6dca",
       "value": "C:\\engDev\\git_mf\\MF_Toolbox\\dev\\examples\\gbxml\\105_LiveseyExchange_heatpump-normal-fabric.xml"
      }
     },
     "1a21562fcb6a4531abc6bdc09235f1d9": {
      "model_module": "@jupyter-widgets/controls",
      "model_module_version": "1.5.0",
      "model_name": "HBoxModel",
      "state": {
       "children": [
        "IPY_MODEL_51bfb01263a3497686f5aecae18639d7",
        "IPY_MODEL_1fe03f29e9e24fb7b9ac554eb131c8d1"
       ],
       "layout": "IPY_MODEL_acec808bfe494b859b042b809ee354aa"
      }
     },
     "1a89d6d7cc6b4edda7ba507db61e0ab0": {
      "model_module": "@jupyter-widgets/controls",
      "model_module_version": "1.5.0",
      "model_name": "ButtonStyleModel",
      "state": {
       "font_weight": "bold"
      }
     },
     "1a9c0ad2cbdf4015818d08f160268047": {
      "model_module": "@jupyter-widgets/controls",
      "model_module_version": "1.5.0",
      "model_name": "HBoxModel",
      "state": {
       "children": [
        "IPY_MODEL_94ad0b7c813e4ad689b74e584fef0861"
       ],
       "layout": "IPY_MODEL_b9046d39ba704e0db09a0f760b152775"
      }
     },
     "1abca7b2c0ab4592a5418c71524c4906": {
      "model_module": "@jupyter-widgets/base",
      "model_module_version": "1.2.0",
      "model_name": "LayoutModel",
      "state": {
       "align_items": "stretch",
       "width": "100%"
      }
     },
     "1ad09669d97c45349f5952aa519218ca": {
      "model_module": "@jupyter-widgets/controls",
      "model_module_version": "1.5.0",
      "model_name": "DescriptionStyleModel",
      "state": {
       "description_width": ""
      }
     },
     "1ade2d54aee04739ace1e307c927080e": {
      "model_module": "@jupyter-widgets/controls",
      "model_module_version": "1.5.0",
      "model_name": "TextModel",
      "state": {
       "layout": "IPY_MODEL_8cf320097a0f4204acd9797a887edb37",
       "style": "IPY_MODEL_9cf5077c2e7a4be082ff5f0c6c0dcd28",
       "value": "C:\\engDev\\git_mf\\MF_Toolbox\\dev\\examples\\gbxml\\105_LiveseyExchange_heatpump-normal-fabric.xml"
      }
     },
     "1af790673a244938838d3064cb7ae8ab": {
      "model_module": "@jupyter-widgets/controls",
      "model_module_version": "1.5.0",
      "model_name": "TextModel",
      "state": {
       "layout": "IPY_MODEL_20c816540ec94e899e401ef9269eea95",
       "style": "IPY_MODEL_94c5d8992b6e490391095b87dcfb7007"
      }
     },
     "1b9534a39cc34ec2a6f90ac7c8405525": {
      "model_module": "@jupyter-widgets/controls",
      "model_module_version": "1.5.0",
      "model_name": "HBoxModel",
      "state": {
       "children": [
        "IPY_MODEL_fc07ec6b120d4cd19763bbb35daf4974",
        "IPY_MODEL_c5da08146af84f1ca40e23806623d058"
       ],
       "layout": "IPY_MODEL_0189f8cec31e4f4e80037fc98bcc4984"
      }
     },
     "1bee4b51af334ec8aefe236bb1ff90c2": {
      "model_module": "@jupyter-widgets/output",
      "model_module_version": "1.0.0",
      "model_name": "OutputModel",
      "state": {
       "layout": "IPY_MODEL_3892d83e113a49d0b7cbe375e4cc12db"
      }
     },
     "1c017a048049473eba99110633d2ac15": {
      "model_module": "@jupyter-widgets/controls",
      "model_module_version": "1.5.0",
      "model_name": "ButtonStyleModel",
      "state": {
       "font_weight": "bold"
      }
     },
     "1c42c26079e1405293739f2004af56c9": {
      "model_module": "@jupyter-widgets/base",
      "model_module_version": "1.2.0",
      "model_name": "LayoutModel",
      "state": {}
     },
     "1c522e96cdfc4924a02372826c2ae4a1": {
      "model_module": "@jupyter-widgets/controls",
      "model_module_version": "1.5.0",
      "model_name": "ButtonModel",
      "state": {
       "button_style": "success",
       "description": "run",
       "layout": "IPY_MODEL_f9e07316be13424eae48ec523f258da4",
       "style": "IPY_MODEL_744617370b8f4201a90d107569c9c2f8",
       "tooltip": "execute the script based on the user inputs"
      }
     },
     "1c593cbae66a4302855cfbbb556deb72": {
      "model_module": "@jupyter-widgets/controls",
      "model_module_version": "1.5.0",
      "model_name": "CheckboxModel",
      "state": {
       "disabled": false,
       "indent": false,
       "layout": "IPY_MODEL_8665b312badf439a8fb84e675baf78dd",
       "style": "IPY_MODEL_d6a2834acf1140e5af4ddd38befbe2c6",
       "value": false
      }
     },
     "1c7d853e15614ce2bef6f82d869c50fb": {
      "model_module": "@jupyter-widgets/base",
      "model_module_version": "1.2.0",
      "model_name": "LayoutModel",
      "state": {}
     },
     "1c8175408fbc4f7bb14948f749914c6b": {
      "model_module": "@jupyter-widgets/controls",
      "model_module_version": "1.5.0",
      "model_name": "ButtonStyleModel",
      "state": {
       "font_weight": "bold"
      }
     },
     "1d52473567a540eca7dd7e84df367c1e": {
      "model_module": "@jupyter-widgets/base",
      "model_module_version": "1.2.0",
      "model_name": "LayoutModel",
      "state": {}
     },
     "1d592a16a9cb48a19e8d66ffef6473af": {
      "model_module": "@jupyter-widgets/controls",
      "model_module_version": "1.5.0",
      "model_name": "ButtonModel",
      "state": {
       "button_style": "warning",
       "description": "revert to last save",
       "layout": "IPY_MODEL_dc5b2c6013c543dbac2863cd609e98fc",
       "style": "IPY_MODEL_46080b2bd82245a48dc472598e09efd8"
      }
     },
     "1d9c6b8f08b84d04ad786e8fa5e08232": {
      "model_module": "@jupyter-widgets/base",
      "model_module_version": "1.2.0",
      "model_name": "LayoutModel",
      "state": {
       "align_items": "stretch",
       "display": "flex",
       "flex_flow": "row",
       "grid_auto_columns": "True",
       "justify_content": "flex-end",
       "width": "90%"
      }
     },
     "1db72c76b6f54bbcbb1d8970f93508ce": {
      "model_module": "@jupyter-widgets/base",
      "model_module_version": "1.2.0",
      "model_name": "LayoutModel",
      "state": {}
     },
     "1deeda7b16ba4aab803d1a1429f7d152": {
      "model_module": "@jupyter-widgets/controls",
      "model_module_version": "1.5.0",
      "model_name": "HBoxModel",
      "state": {
       "children": [
        "IPY_MODEL_1af790673a244938838d3064cb7ae8ab",
        "IPY_MODEL_c3bf4448e1694cc4a1d0ab03eb4af8ac"
       ],
       "layout": "IPY_MODEL_6ef87981077b4aa3bda412e1630543b9"
      }
     },
     "1e050ad2cd05449787b88d0f909887ab": {
      "model_module": "@jupyter-widgets/controls",
      "model_module_version": "1.5.0",
      "model_name": "TextModel",
      "state": {
       "layout": "IPY_MODEL_f327106141024674add07d15c09c31f9",
       "style": "IPY_MODEL_0ae326c057ca4ec3af04dbd5ae65896b",
       "value": "SpaceType"
      }
     },
     "1e10b6bd1e484a66b9c62bee4db892ce": {
      "model_module": "@jupyter-widgets/base",
      "model_module_version": "1.2.0",
      "model_name": "LayoutModel",
      "state": {
       "width": "100%"
      }
     },
     "1e1fe55c65464dc3b513e982696c0114": {
      "model_module": "@jupyter-widgets/base",
      "model_module_version": "1.2.0",
      "model_name": "LayoutModel",
      "state": {}
     },
     "1e2490817d404617aa14185fcf7f9bf1": {
      "model_module": "@jupyter-widgets/controls",
      "model_module_version": "1.5.0",
      "model_name": "VBoxModel",
      "state": {
       "children": [
        "IPY_MODEL_e7d87e3adbef449d8c148f379d21e35f",
        "IPY_MODEL_e184f5cb55864818bd94428c588c40d4"
       ],
       "layout": "IPY_MODEL_9c580d5c92ed4eaf9847a7e340cfa068"
      }
     },
     "1e39b3b26bb0490c96dcc7f29cd0fc53": {
      "model_module": "@jupyter-widgets/controls",
      "model_module_version": "1.5.0",
      "model_name": "HBoxModel",
      "state": {
       "children": [
        "IPY_MODEL_5f71e8f742c8456db4ba1b6406b8cf29",
        "IPY_MODEL_73f168e181914e22a0306e6325955014"
       ],
       "layout": "IPY_MODEL_e53d67d2ab56440cb5e4c69ac88dbed6"
      }
     },
     "1e88b6c2b83843a0be4440c9d9acd96b": {
      "model_module": "@jupyter-widgets/base",
      "model_module_version": "1.2.0",
      "model_name": "LayoutModel",
      "state": {}
     },
     "1ec5bbce26b14573a2410ef068f81f37": {
      "model_module": "@jupyter-widgets/controls",
      "model_module_version": "1.5.0",
      "model_name": "DescriptionStyleModel",
      "state": {
       "description_width": ""
      }
     },
     "1ef7ea147c3f4900b33a365a17925d1f": {
      "model_module": "@jupyter-widgets/base",
      "model_module_version": "1.2.0",
      "model_name": "LayoutModel",
      "state": {}
     },
     "1f124ee73a174ce5849e1f70700f48bd": {
      "model_module": "@jupyter-widgets/base",
      "model_module_version": "1.2.0",
      "model_name": "LayoutModel",
      "state": {
       "height": "30px",
       "width": "auto"
      }
     },
     "1f5a7bc1993a46f8bc6388f033e3677e": {
      "model_module": "@jupyter-widgets/controls",
      "model_module_version": "1.5.0",
      "model_name": "ButtonModel",
      "state": {
       "icon": "question-circle",
       "layout": "IPY_MODEL_bab67269da7141b9bb9a564cbfd3b37f",
       "style": "IPY_MODEL_27d11310017f463cb30398d6a8d010f4",
       "tooltip": "describes the functionality of elements in the RunApp interface"
      }
     },
     "1fc5713e0381425dac162f2928723b20": {
      "model_module": "@jupyter-widgets/base",
      "model_module_version": "1.2.0",
      "model_name": "LayoutModel",
      "state": {}
     },
     "1fc733a15b4d4718952ca96fd69fb350": {
      "model_module": "@jupyter-widgets/controls",
      "model_module_version": "1.5.0",
      "model_name": "HTMLModel",
      "state": {
       "layout": "IPY_MODEL_17fdbf258c414c77aee1213a37fcf933",
       "style": "IPY_MODEL_390310e383e3495bbf0f5352e7505198",
       "value": "<p>fpth_in</p>"
      }
     },
     "1fdd54cb850549e898317adcbf1c2789": {
      "model_module": "@jupyter-widgets/controls",
      "model_module_version": "1.5.0",
      "model_name": "HTMLModel",
      "state": {
       "layout": "IPY_MODEL_e067a05345cf44929d42bf73e98a0f23",
       "style": "IPY_MODEL_c34dde153b0c4305853878f3f33c5eb3",
       "value": "<p>5th section of space name code (enter None if 5th section doesn't exist)</p>"
      }
     },
     "1fe03f29e9e24fb7b9ac554eb131c8d1": {
      "model_module": "@jupyter-widgets/controls",
      "model_module_version": "1.5.0",
      "model_name": "HBoxModel",
      "state": {
       "children": [
        "IPY_MODEL_cf7b0ffbd2a24d8c8cbef09955142ba3",
        "IPY_MODEL_233b63e07b7b4321bc919bc22b058fa5"
       ],
       "layout": "IPY_MODEL_5ff65e3075eb4db0a18bff926eb44ec8"
      }
     },
     "202d5db949364fbf8efbab51ed704e6c": {
      "model_module": "@jupyter-widgets/controls",
      "model_module_version": "1.5.0",
      "model_name": "DescriptionStyleModel",
      "state": {
       "description_width": ""
      }
     },
     "203e0c2d4d0f44f9b3592d6a69fffb1b": {
      "model_module": "@jupyter-widgets/controls",
      "model_module_version": "1.5.0",
      "model_name": "TextModel",
      "state": {
       "layout": "IPY_MODEL_3a6144e586d14f0e92ced187e4b52f52",
       "style": "IPY_MODEL_4c9898ab63034228b5eae0e9f4563d81",
       "value": "TM46Category"
      }
     },
     "207c40418f014884a87b20e4517a264e": {
      "model_module": "@jupyter-widgets/base",
      "model_module_version": "1.2.0",
      "model_name": "LayoutModel",
      "state": {}
     },
     "20c816540ec94e899e401ef9269eea95": {
      "model_module": "@jupyter-widgets/base",
      "model_module_version": "1.2.0",
      "model_name": "LayoutModel",
      "state": {}
     },
     "20cf6151f11e434ea5eb7acc2850198a": {
      "model_module": "@jupyter-widgets/base",
      "model_module_version": "1.2.0",
      "model_name": "LayoutModel",
      "state": {
       "align_items": "stretch",
       "display": "flex",
       "flex_flow": "row",
       "grid_auto_columns": "True",
       "justify_content": "flex-end",
       "width": "90%"
      }
     },
     "20fb09b8151f48b0ae5ff28c2bd09f58": {
      "model_module": "@jupyter-widgets/base",
      "model_module_version": "1.2.0",
      "model_name": "LayoutModel",
      "state": {
       "align_items": "stretch",
       "display": "flex",
       "flex_flow": "row",
       "grid_auto_columns": "True",
       "justify_content": "flex-end",
       "width": "90%"
      }
     },
     "2133ed517dcb48dda3642fa0de0dbd10": {
      "model_module": "@jupyter-widgets/controls",
      "model_module_version": "1.5.0",
      "model_name": "HTMLModel",
      "state": {
       "layout": "IPY_MODEL_747f2367d951494eae98a0ae1f897b7e",
       "style": "IPY_MODEL_d6958fa990924cf1a01c4e6a6f8f9d97",
       "value": "<p>input gbxml filepath</p>"
      }
     },
     "2142454882b44f48af616f6fc6adf166": {
      "model_module": "@jupyter-widgets/controls",
      "model_module_version": "1.5.0",
      "model_name": "ButtonStyleModel",
      "state": {
       "font_weight": "bold"
      }
     },
     "2142b0e9375741f3b016db26945e1ef2": {
      "model_module": "@jupyter-widgets/base",
      "model_module_version": "1.2.0",
      "model_name": "LayoutModel",
      "state": {
       "border": "0px",
       "margin": "0px",
       "padding": "0px"
      }
     },
     "2148a6ecc4fc4a6aace566d209f78e5f": {
      "model_module": "@jupyter-widgets/controls",
      "model_module_version": "1.5.0",
      "model_name": "TextModel",
      "state": {
       "description": "script",
       "disabled": true,
       "layout": "IPY_MODEL_60b971f1919b40c9a4ad88bc97c13eb1",
       "style": "IPY_MODEL_53b4a82d6a9d4c7dbb6510fcd51e6f33",
       "value": "C:\\engDev\\git_mf\\MF_Toolbox\\dev\\mf_scripts\\eplus_pipework_params.py"
      }
     },
     "2186fdfa88604477b69d1505c3f9dccc": {
      "model_module": "@jupyter-widgets/base",
      "model_module_version": "1.2.0",
      "model_name": "LayoutModel",
      "state": {
       "height": "30px",
       "width": "auto"
      }
     },
     "21a90cfbedb6415c8007688ae86acb3d": {
      "model_module": "@jupyter-widgets/controls",
      "model_module_version": "1.5.0",
      "model_name": "VBoxModel",
      "state": {
       "children": [
        "IPY_MODEL_ed22fabd10a143b38c820672acf2981b",
        "IPY_MODEL_e99fa86efa364726863d04e361ad4c55"
       ],
       "layout": "IPY_MODEL_2c0b3331d0a3459eb3000a6fbe228b9b"
      }
     },
     "21acf700384d447aa078ab1872abf7e8": {
      "model_module": "@jupyter-widgets/controls",
      "model_module_version": "1.5.0",
      "model_name": "DescriptionStyleModel",
      "state": {
       "description_width": ""
      }
     },
     "22367be3b93548b7ae193e339182af60": {
      "model_module": "@jupyter-widgets/controls",
      "model_module_version": "1.5.0",
      "model_name": "ButtonModel",
      "state": {
       "icon": "question-circle",
       "layout": "IPY_MODEL_96ff38f37c7246539ad80a9c2457a628",
       "style": "IPY_MODEL_0c004b04209c4fb58fee975a43dad1e5",
       "tooltip": "describes the functionality of elements in the RunApp interface"
      }
     },
     "22b813a91fa74d2096201a0f3d265c36": {
      "model_module": "@jupyter-widgets/base",
      "model_module_version": "1.2.0",
      "model_name": "LayoutModel",
      "state": {}
     },
     "22cf8d00220d4462ab41f59d65cae8aa": {
      "model_module": "@jupyter-widgets/controls",
      "model_module_version": "1.5.0",
      "model_name": "CheckboxModel",
      "state": {
       "disabled": false,
       "indent": false,
       "layout": "IPY_MODEL_9bff31ffdc4240fdad0198fcd9971077",
       "style": "IPY_MODEL_d7f07160c76e4515b8d688af508fff89",
       "value": false
      }
     },
     "22ebcde96e7d40aaa2bf182568ec9306": {
      "model_module": "@jupyter-widgets/controls",
      "model_module_version": "1.5.0",
      "model_name": "ButtonModel",
      "state": {
       "description": "load",
       "icon": "upload",
       "layout": "IPY_MODEL_4d0f36f9f4034a13a9babe5aeed2698b",
       "style": "IPY_MODEL_d50fe59d81274533972545570131f5ee"
      }
     },
     "22f954b94b0448b0b3c9ba3435566a4b": {
      "model_module": "@jupyter-widgets/base",
      "model_module_version": "1.2.0",
      "model_name": "LayoutModel",
      "state": {}
     },
     "230fbb0ed9b4483fa1ba2d4ccff0a7dd": {
      "model_module": "@jupyter-widgets/controls",
      "model_module_version": "1.5.0",
      "model_name": "ButtonStyleModel",
      "state": {
       "font_weight": "bold"
      }
     },
     "23140676b4164ce1b10ed75d8c15a0c5": {
      "model_module": "@jupyter-widgets/controls",
      "model_module_version": "1.5.0",
      "model_name": "ButtonModel",
      "state": {
       "icon": "eye-slash",
       "layout": "IPY_MODEL_c4d6d0c0b7254f05a882477addebdaa8",
       "style": "IPY_MODEL_d0fa5e5367054e1e8b71772e77aa9573",
       "tooltip": "removes temporary output view"
      }
     },
     "233b63e07b7b4321bc919bc22b058fa5": {
      "model_module": "@jupyter-widgets/controls",
      "model_module_version": "1.5.0",
      "model_name": "HTMLModel",
      "state": {
       "layout": "IPY_MODEL_ca820f88407d4f82b2025191e0ec9a00",
       "style": "IPY_MODEL_8772edecfe07431f9390d785d6601980",
       "value": "<p>input gbxml filepath</p>"
      }
     },
     "237137d34ba849169fb5e6c94e65938e": {
      "model_module": "@jupyter-widgets/base",
      "model_module_version": "1.2.0",
      "model_name": "LayoutModel",
      "state": {
       "align_items": "stretch",
       "border": "dashed 0.2px green",
       "display": "flex",
       "flex_flow": "row",
       "grid_auto_columns": "True",
       "justify_content": "flex-start",
       "width": "100%"
      }
     },
     "2392d9142aba4b37a28aa8b8deb05d88": {
      "model_module": "@jupyter-widgets/controls",
      "model_module_version": "1.5.0",
      "model_name": "DescriptionStyleModel",
      "state": {
       "description_width": ""
      }
     },
     "239c13b602424a4b94b8882c6b913bdb": {
      "model_module": "@jupyter-widgets/controls",
      "model_module_version": "1.5.0",
      "model_name": "TextModel",
      "state": {
       "description": "script",
       "disabled": true,
       "layout": "IPY_MODEL_e60e52f3b9f34d87a5af69134a1a39e2",
       "style": "IPY_MODEL_b3c7cf50ac064a35b0b7e11b6f8acf73",
       "value": "C:\\engDev\\git_mf\\MF_Toolbox\\dev\\mf_scripts\\eplus_pipework_params.py"
      }
     },
     "2415c06c1ca04a92b9921635cad06318": {
      "model_module": "@jupyter-widgets/controls",
      "model_module_version": "1.5.0",
      "model_name": "HBoxModel",
      "state": {
       "children": [
        "IPY_MODEL_1a21562fcb6a4531abc6bdc09235f1d9"
       ],
       "layout": "IPY_MODEL_0b097eb8038f4ef3a128fe8f99798e37"
      }
     },
     "2427242d4c384e238acebb5907df321a": {
      "model_module": "@jupyter-widgets/base",
      "model_module_version": "1.2.0",
      "model_name": "LayoutModel",
      "state": {
       "align_items": "stretch",
       "border": "dashed 0.2px green",
       "display": "flex",
       "flex_flow": "row",
       "grid_auto_columns": "True",
       "justify_content": "flex-start",
       "width": "100%"
      }
     },
     "244e07dbbd834fb4ab13de3e5d7612b8": {
      "model_module": "@jupyter-widgets/controls",
      "model_module_version": "1.5.0",
      "model_name": "DescriptionStyleModel",
      "state": {
       "description_width": ""
      }
     },
     "245c800d5bef4aceb3cb34fa4751209f": {
      "model_module": "@jupyter-widgets/base",
      "model_module_version": "1.2.0",
      "model_name": "LayoutModel",
      "state": {
       "height": "30px",
       "max_width": "30px",
       "padding": "3px"
      }
     },
     "257e4fba535043138997b278b66fcc43": {
      "model_module": "@jupyter-widgets/base",
      "model_module_version": "1.2.0",
      "model_name": "LayoutModel",
      "state": {
       "display": "flex",
       "flex_flow": "row",
       "grid_auto_columns": "False",
       "justify_content": "flex-start",
       "width": "100%"
      }
     },
     "25844d8ceee34aeb83b07acba4c8806c": {
      "model_module": "@jupyter-widgets/controls",
      "model_module_version": "1.5.0",
      "model_name": "ButtonModel",
      "state": {
       "button_style": "info",
       "description": "show guide",
       "layout": "IPY_MODEL_7dfd3eca08b74946bda61cfde35e6f9d",
       "style": "IPY_MODEL_d69b430727be42f2afae8e43c8f333d4",
       "tooltip": "read the \"docstring\", ie. the documentation that was written to accompany the script"
      }
     },
     "25d2b0096fa74d9a91805a653896c536": {
      "model_module": "@jupyter-widgets/controls",
      "model_module_version": "1.5.0",
      "model_name": "ButtonModel",
      "state": {
       "icon": "question-circle",
       "layout": "IPY_MODEL_bda0d210e2de4cfdac21ff4d0f49d06c",
       "style": "IPY_MODEL_182d02e48106495397fa76e14b812ab6",
       "tooltip": "describes the functionality of elements in the RunApp interface"
      }
     },
     "25d4e43e6a85482080e503238e4e8193": {
      "model_module": "@jupyter-widgets/controls",
      "model_module_version": "1.5.0",
      "model_name": "HBoxModel",
      "state": {
       "children": [
        "IPY_MODEL_22cf8d00220d4462ab41f59d65cae8aa",
        "IPY_MODEL_d54810595f144f83a65de5bba375a534"
       ],
       "layout": "IPY_MODEL_ad1a2ce0439d40a0b6a19158d3aadd5e"
      }
     },
     "25ebd9e8dfd54d9b84ae008fbb544430": {
      "model_module": "@jupyter-widgets/base",
      "model_module_version": "1.2.0",
      "model_name": "LayoutModel",
      "state": {}
     },
     "25eed6b8801645b3bf8a1f43d1df2c7b": {
      "model_module": "@jupyter-widgets/controls",
      "model_module_version": "1.5.0",
      "model_name": "ButtonStyleModel",
      "state": {
       "font_weight": "bold"
      }
     },
     "25f20c1b617a4397b4c1c12a162df9c3": {
      "model_module": "@jupyter-widgets/base",
      "model_module_version": "1.2.0",
      "model_name": "LayoutModel",
      "state": {}
     },
     "261f9f23b11a474ab593ff74fd765494": {
      "model_module": "@jupyter-widgets/base",
      "model_module_version": "1.2.0",
      "model_name": "LayoutModel",
      "state": {}
     },
     "267f13e5ed4348babf06e3b523bd5e05": {
      "model_module": "@jupyter-widgets/controls",
      "model_module_version": "1.5.0",
      "model_name": "HTMLModel",
      "state": {
       "layout": "IPY_MODEL_760c1d74ec2a4f06b1bae32cee622baf",
       "style": "IPY_MODEL_244e07dbbd834fb4ab13de3e5d7612b8",
       "value": "<p>3</p>"
      }
     },
     "26859a8cf104400890415111b6c757f9": {
      "model_module": "@jupyter-widgets/base",
      "model_module_version": "1.2.0",
      "model_name": "LayoutModel",
      "state": {
       "width": "5%"
      }
     },
     "26ddff07e73e43dab55e6b4af899d7d0": {
      "model_module": "@jupyter-widgets/controls",
      "model_module_version": "1.5.0",
      "model_name": "ToggleButtonModel",
      "state": {
       "button_style": "info",
       "description": "inputs from file",
       "layout": "IPY_MODEL_00c99824a06a459e9b37197f4c6e4431",
       "style": "IPY_MODEL_2b7c56a3344d4433966efca359a7c9a3",
       "value": true
      }
     },
     "26ef79d59ab6457aaa62ed7c74a5dbc6": {
      "model_module": "@jupyter-widgets/controls",
      "model_module_version": "1.5.0",
      "model_name": "DescriptionStyleModel",
      "state": {
       "description_width": ""
      }
     },
     "27321a8df711454ea32e022fabf70a97": {
      "model_module": "@jupyter-widgets/output",
      "model_module_version": "1.0.0",
      "model_name": "OutputModel",
      "state": {
       "layout": "IPY_MODEL_0c56f6c997714d2f852978855611795e"
      }
     },
     "2743f2da86dd41ea9d521a81a3ba59a3": {
      "model_module": "@jupyter-widgets/controls",
      "model_module_version": "1.5.0",
      "model_name": "HTMLModel",
      "state": {
       "layout": "IPY_MODEL_f536177b1f634c5ab5c2176d9e1ba9b8",
       "style": "IPY_MODEL_340a8405ab3a496984401ea19d93ca43",
       "value": "<p>1st section of space name code</p>"
      }
     },
     "278a1c9fb4164bafb2d7130b9f479b60": {
      "model_module": "@jupyter-widgets/controls",
      "model_module_version": "1.5.0",
      "model_name": "ButtonModel",
      "state": {
       "button_style": "warning",
       "description": "revert to last save",
       "layout": "IPY_MODEL_dee162bffb354d5ba88ffaab8f7e4c2f",
       "style": "IPY_MODEL_5bd3e7c366584385b05488428046743b"
      }
     },
     "27bb48b8a55744d49f3a931a0ba02a56": {
      "model_module": "@jupyter-widgets/base",
      "model_module_version": "1.2.0",
      "model_name": "LayoutModel",
      "state": {}
     },
     "27d11310017f463cb30398d6a8d010f4": {
      "model_module": "@jupyter-widgets/controls",
      "model_module_version": "1.5.0",
      "model_name": "ButtonStyleModel",
      "state": {
       "font_weight": "bold"
      }
     },
     "27f09deae6cf477fb99a24bdeadeda59": {
      "model_module": "@jupyter-widgets/controls",
      "model_module_version": "1.5.0",
      "model_name": "HBoxModel",
      "state": {
       "children": [
        "IPY_MODEL_1234217b07aa43cf9f70ae5e02117d85"
       ],
       "layout": "IPY_MODEL_ca18c4725373439a82c99c969b8d79dc"
      }
     },
     "28400014308b4913a1f69b4cbf1c80fb": {
      "model_module": "@jupyter-widgets/controls",
      "model_module_version": "1.5.0",
      "model_name": "HTMLModel",
      "state": {
       "layout": "IPY_MODEL_d4c1205f29eb4ada922ca9b03b3f67ff",
       "style": "IPY_MODEL_6062b4cd33544fc9aa55ee30b8775888",
       "value": "<p>1st section of space name code</p>"
      }
     },
     "28476acb611d4f57810bd0bccb85bf6a": {
      "model_module": "@jupyter-widgets/controls",
      "model_module_version": "1.5.0",
      "model_name": "ButtonModel",
      "state": {
       "button_style": "warning",
       "description": "revert to last save",
       "layout": "IPY_MODEL_92cae2b526b6445e95485adf49650393",
       "style": "IPY_MODEL_51bb92e0c76a4bdaaac3c18fc6068387"
      }
     },
     "285d5f2505534c82a536e3b02f27e832": {
      "model_module": "@jupyter-widgets/controls",
      "model_module_version": "1.5.0",
      "model_name": "DescriptionStyleModel",
      "state": {
       "description_width": ""
      }
     },
     "2894474e3fca41fa8f1ba210deb69df3": {
      "model_module": "@jupyter-widgets/controls",
      "model_module_version": "1.5.0",
      "model_name": "ButtonStyleModel",
      "state": {
       "font_weight": "bold"
      }
     },
     "28d823e3149e4cfcb0fa44ea7bbba7c7": {
      "model_module": "@jupyter-widgets/controls",
      "model_module_version": "1.5.0",
      "model_name": "DescriptionStyleModel",
      "state": {
       "description_width": ""
      }
     },
     "29713541215440409e50d1f207775d73": {
      "model_module": "@jupyter-widgets/base",
      "model_module_version": "1.2.0",
      "model_name": "LayoutModel",
      "state": {}
     },
     "29e3db9578bd4377aeee2e981c8652b7": {
      "model_module": "@jupyter-widgets/base",
      "model_module_version": "1.2.0",
      "model_name": "LayoutModel",
      "state": {
       "height": "30px",
       "width": "auto"
      }
     },
     "29e4da79aa71462e8845bc318e64e761": {
      "model_module": "@jupyter-widgets/base",
      "model_module_version": "1.2.0",
      "model_name": "LayoutModel",
      "state": {}
     },
     "2ac951abd4334a1c8e7146469a76b4cc": {
      "model_module": "@jupyter-widgets/base",
      "model_module_version": "1.2.0",
      "model_name": "LayoutModel",
      "state": {}
     },
     "2acf1c6f3c524718b2db4a34441da579": {
      "model_module": "@jupyter-widgets/base",
      "model_module_version": "1.2.0",
      "model_name": "LayoutModel",
      "state": {}
     },
     "2b385f2c9ca240759bdb282c3c973359": {
      "model_module": "@jupyter-widgets/output",
      "model_module_version": "1.0.0",
      "model_name": "OutputModel",
      "state": {
       "layout": "IPY_MODEL_49866c58b38f450dadbe5625ce5bdafa"
      }
     },
     "2b7c56a3344d4433966efca359a7c9a3": {
      "model_module": "@jupyter-widgets/controls",
      "model_module_version": "1.5.0",
      "model_name": "DescriptionStyleModel",
      "state": {
       "description_width": ""
      }
     },
     "2c0b3331d0a3459eb3000a6fbe228b9b": {
      "model_module": "@jupyter-widgets/base",
      "model_module_version": "1.2.0",
      "model_name": "LayoutModel",
      "state": {
       "display": "flex",
       "flex_flow": "row",
       "grid_auto_columns": "False",
       "justify_content": "flex-start",
       "width": "100%"
      }
     },
     "2c13096e4adb40a7975edfc385f6ed89": {
      "model_module": "@jupyter-widgets/base",
      "model_module_version": "1.2.0",
      "model_name": "LayoutModel",
      "state": {
       "align_items": "stretch",
       "display": "flex",
       "flex_flow": "row",
       "grid_auto_columns": "True",
       "justify_content": "flex-start",
       "width": "80%"
      }
     },
     "2c1d8a724d4047ecab6b18bdf3aa8f08": {
      "model_module": "@jupyter-widgets/controls",
      "model_module_version": "1.5.0",
      "model_name": "TextModel",
      "state": {
       "layout": "IPY_MODEL_48f80cb87ac04094a0bb663df6646262",
       "style": "IPY_MODEL_36687328834e4804afa8f10e9659a237",
       "value": "SpaceType"
      }
     },
     "2cf40c97262e4c15aabb3248554db5f5": {
      "model_module": "@jupyter-widgets/controls",
      "model_module_version": "1.5.0",
      "model_name": "DescriptionStyleModel",
      "state": {
       "description_width": ""
      }
     },
     "2d07e520b204442882f3fc0633905f99": {
      "model_module": "@jupyter-widgets/controls",
      "model_module_version": "1.5.0",
      "model_name": "HTMLModel",
      "state": {
       "layout": "IPY_MODEL_2e0a4aed38574745b95ee57b3b95c382",
       "style": "IPY_MODEL_55a0acdd41dc4f9582c1e035915a530b",
       "value": "<p>3rd section of space name code (enter None if 3rd section doesn't exist)</p>"
      }
     },
     "2d1d0764b6734fafae814f99785db1cd": {
      "model_module": "@jupyter-widgets/controls",
      "model_module_version": "1.5.0",
      "model_name": "DescriptionStyleModel",
      "state": {
       "description_width": ""
      }
     },
     "2d3f76334a53466988f94e7b9af90114": {
      "model_module": "@jupyter-widgets/output",
      "model_module_version": "1.0.0",
      "model_name": "OutputModel",
      "state": {
       "layout": "IPY_MODEL_de8425d0cdd44e28970a99fa0d58f686",
       "outputs": [
        {
         "data": {
          "application/vnd.jupyter.widget-view+json": {
           "model_id": "3daee3f4151e48e6ac5ae8e64c8c6c26",
           "version_major": 2,
           "version_minor": 0
          },
          "text/plain": "VBox(children=(HBox(children=(ToggleButton(value=False, button_style='info', description='inputs from file'), …"
         },
         "metadata": {},
         "output_type": "display_data"
        },
        {
         "data": {
          "application/vnd.jupyter.widget-view+json": {
           "model_id": "53011e854f974e309c73d6745f20c4bc",
           "version_major": 2,
           "version_minor": 0
          },
          "text/plain": "VBox(children=(HBox(children=(HBox(children=(HTML(value='<p>fpth_in</p>'), HBox(children=(Text(value='C:\\\\engD…"
         },
         "metadata": {},
         "output_type": "display_data"
        },
        {
         "data": {
          "application/vnd.jupyter.widget-view+json": {
           "model_id": "53e9cdba630c40e2840088988f2e027d",
           "version_major": 2,
           "version_minor": 0
          },
          "text/plain": "Output()"
         },
         "metadata": {},
         "output_type": "display_data"
        }
       ]
      }
     },
     "2d94f0561b09456aaae7adda11d8622a": {
      "model_module": "@jupyter-widgets/controls",
      "model_module_version": "1.5.0",
      "model_name": "DescriptionStyleModel",
      "state": {
       "description_width": ""
      }
     },
     "2da90d07674b4a30af9d2a39cf5ae12a": {
      "model_module": "@jupyter-widgets/base",
      "model_module_version": "1.2.0",
      "model_name": "LayoutModel",
      "state": {}
     },
     "2df1fe1121bb43a4936d2c0e678fc239": {
      "model_module": "@jupyter-widgets/base",
      "model_module_version": "1.2.0",
      "model_name": "LayoutModel",
      "state": {
       "height": "30px",
       "width": "auto"
      }
     },
     "2dfe8af581864f09ad5f5843adddb91e": {
      "model_module": "@jupyter-widgets/base",
      "model_module_version": "1.2.0",
      "model_name": "LayoutModel",
      "state": {
       "width": "5%"
      }
     },
     "2e0a4aed38574745b95ee57b3b95c382": {
      "model_module": "@jupyter-widgets/base",
      "model_module_version": "1.2.0",
      "model_name": "LayoutModel",
      "state": {}
     },
     "2e31af3d20084c128f4dd5b9fdbda0bc": {
      "model_module": "@jupyter-widgets/controls",
      "model_module_version": "1.5.0",
      "model_name": "ButtonModel",
      "state": {
       "icon": "eye-slash",
       "layout": "IPY_MODEL_8b6869c6c79c47b2aece6849ea1af8f0",
       "style": "IPY_MODEL_4a5d807620c9411a8d6d90328caded9c",
       "tooltip": "removes temporary output view"
      }
     },
     "2e3ab2ac79bb4ad1bb61ff0a6cc686c0": {
      "model_module": "@jupyter-widgets/controls",
      "model_module_version": "1.5.0",
      "model_name": "DescriptionStyleModel",
      "state": {
       "description_width": ""
      }
     },
     "2eb5f7482a7d4f2084781b65a1a08097": {
      "model_module": "@jupyter-widgets/controls",
      "model_module_version": "1.5.0",
      "model_name": "VBoxModel",
      "state": {
       "children": [
        "IPY_MODEL_22ebcde96e7d40aaa2bf182568ec9306",
        "IPY_MODEL_a8f5ab8701dd400e9f8a04a7e9d9a60a"
       ],
       "layout": "IPY_MODEL_c00b5a49bbec4ea68665432b2b6c6d76"
      }
     },
     "2f935521cb8e4587a8522c4720b35a06": {
      "model_module": "@jupyter-widgets/base",
      "model_module_version": "1.2.0",
      "model_name": "LayoutModel",
      "state": {
       "height": "30px",
       "width": "auto"
      }
     },
     "2ffbbe6342f9468c93a6db4ca0b34367": {
      "model_module": "@jupyter-widgets/controls",
      "model_module_version": "1.5.0",
      "model_name": "VBoxModel",
      "state": {
       "children": [
        "IPY_MODEL_75840e40a1854c4ba8706cfda8cc2b10",
        "IPY_MODEL_0f66b8fffc8040f58381387135e9f240",
        "IPY_MODEL_21a90cfbedb6415c8007688ae86acb3d"
       ],
       "layout": "IPY_MODEL_1d52473567a540eca7dd7e84df367c1e"
      }
     },
     "301f8a6ddf5a4707a5329d02e0d7b72f": {
      "model_module": "@jupyter-widgets/controls",
      "model_module_version": "1.5.0",
      "model_name": "HBoxModel",
      "state": {
       "children": [
        "IPY_MODEL_ee67d954b44e40ef9f51b4c4878dbc0c",
        "IPY_MODEL_7a7cb84b9a444573a5bfd76546edad3c"
       ],
       "layout": "IPY_MODEL_a82578a52da24776bb49fa57eb5841ee"
      }
     },
     "3049b1399c4a41f3ad6db2e7890b0045": {
      "model_module": "@jupyter-widgets/base",
      "model_module_version": "1.2.0",
      "model_name": "LayoutModel",
      "state": {}
     },
     "30861b31c2164750ad5fb716a6a54132": {
      "model_module": "@jupyter-widgets/base",
      "model_module_version": "1.2.0",
      "model_name": "LayoutModel",
      "state": {}
     },
     "3094ab49d1574a12bed48f6407238336": {
      "model_module": "@jupyter-widgets/controls",
      "model_module_version": "1.5.0",
      "model_name": "HBoxModel",
      "state": {
       "children": [
        "IPY_MODEL_8bf94de50fe3497a9dc226c42acbcd3a",
        "IPY_MODEL_67c747d824f04181a44f69594ef068fe"
       ],
       "layout": "IPY_MODEL_309ba93916d744fdbb0ca59de5f46953"
      }
     },
     "309ba93916d744fdbb0ca59de5f46953": {
      "model_module": "@jupyter-widgets/base",
      "model_module_version": "1.2.0",
      "model_name": "LayoutModel",
      "state": {
       "align_items": "stretch",
       "display": "flex",
       "flex_flow": "row",
       "grid_auto_columns": "True",
       "justify_content": "flex-end",
       "width": "90%"
      }
     },
     "30cd9e985920439fab2ffe8ba62b2453": {
      "model_module": "@jupyter-widgets/controls",
      "model_module_version": "1.5.0",
      "model_name": "HTMLModel",
      "state": {
       "layout": "IPY_MODEL_75941d3cac774513b45abf385e8f2905",
       "style": "IPY_MODEL_e2dde56f20f84a11a7405aeaea1f3240",
       "value": "<p>1st section of space name code</p>"
      }
     },
     "30d377fb859b404abf6371245e3756be": {
      "model_module": "@jupyter-widgets/output",
      "model_module_version": "1.0.0",
      "model_name": "OutputModel",
      "state": {
       "layout": "IPY_MODEL_f9b80268b0f74399a2d29500a7ea4f56"
      }
     },
     "3150849d43cb4813b1e746aaf623e1ed": {
      "model_module": "@jupyter-widgets/base",
      "model_module_version": "1.2.0",
      "model_name": "LayoutModel",
      "state": {}
     },
     "3161a0cd9fe2471ca080deeeffdc34ea": {
      "model_module": "@jupyter-widgets/controls",
      "model_module_version": "1.5.0",
      "model_name": "DescriptionStyleModel",
      "state": {
       "description_width": ""
      }
     },
     "31a3f9814ae94eb1b00de5be862d4d0f": {
      "model_module": "@jupyter-widgets/base",
      "model_module_version": "1.2.0",
      "model_name": "LayoutModel",
      "state": {}
     },
     "31b6b88a0c50422f82e589fc06c03bcd": {
      "model_module": "@jupyter-widgets/base",
      "model_module_version": "1.2.0",
      "model_name": "LayoutModel",
      "state": {}
     },
     "31d0f0b66da3407b906db59ecbed4d57": {
      "model_module": "@jupyter-widgets/controls",
      "model_module_version": "1.5.0",
      "model_name": "ButtonModel",
      "state": {
       "button_style": "warning",
       "description": "edit inputs",
       "layout": "IPY_MODEL_48f032d4db36401199c99830aac50306",
       "style": "IPY_MODEL_dcc685aa8a7b4664bd563b66c28f8b84",
       "tooltip": "edit the user input information that is used when the script is executed"
      }
     },
     "32059e1e70e34421a536d710cc19f02b": {
      "model_module": "@jupyter-widgets/controls",
      "model_module_version": "1.5.0",
      "model_name": "DescriptionStyleModel",
      "state": {
       "description_width": ""
      }
     },
     "3281ccd6bb69453097ef63aa0f953b85": {
      "model_module": "@jupyter-widgets/base",
      "model_module_version": "1.2.0",
      "model_name": "LayoutModel",
      "state": {}
     },
     "32848c78afaf4a94b7b0c11b9f7df1d2": {
      "model_module": "@jupyter-widgets/base",
      "model_module_version": "1.2.0",
      "model_name": "LayoutModel",
      "state": {}
     },
     "32c81130c7644d82a4729fd109322e43": {
      "model_module": "@jupyter-widgets/base",
      "model_module_version": "1.2.0",
      "model_name": "LayoutModel",
      "state": {}
     },
     "330fe92627864fc4a0f387a09ea10cc5": {
      "model_module": "@jupyter-widgets/base",
      "model_module_version": "1.2.0",
      "model_name": "LayoutModel",
      "state": {}
     },
     "3321dbb2a1a4400685421b7ddd6863cb": {
      "model_module": "@jupyter-widgets/base",
      "model_module_version": "1.2.0",
      "model_name": "LayoutModel",
      "state": {
       "align_items": "stretch",
       "display": "flex",
       "flex_flow": "row",
       "grid_auto_columns": "True",
       "justify_content": "flex-start",
       "width": "80%"
      }
     },
     "332eb9f9efd9407fb0913e78d1cdd57c": {
      "model_module": "@jupyter-widgets/controls",
      "model_module_version": "1.5.0",
      "model_name": "HBoxModel",
      "state": {
       "children": [
        "IPY_MODEL_5ba5ffb02756423598e2cdd846def946",
        "IPY_MODEL_c2545259926547f48891bdd37652946c"
       ],
       "layout": "IPY_MODEL_ed2ee0198c50479ba4e527a1c987e5cb"
      }
     },
     "33544bd3fdb049fd95e8be84deccaf88": {
      "model_module": "@jupyter-widgets/controls",
      "model_module_version": "1.5.0",
      "model_name": "HTMLModel",
      "state": {
       "layout": "IPY_MODEL_0adf7cf2459b46c6a509a3621bb9c938",
       "style": "IPY_MODEL_ac3dff6f398046918704983943fd0f05",
       "value": "<p>3</p>"
      }
     },
     "33a325e08e024e5e90a908302f87a2d0": {
      "model_module": "@jupyter-widgets/controls",
      "model_module_version": "1.5.0",
      "model_name": "DescriptionStyleModel",
      "state": {
       "description_width": ""
      }
     },
     "33c483049c2e4682a9b9dc3286851315": {
      "model_module": "@jupyter-widgets/controls",
      "model_module_version": "1.5.0",
      "model_name": "HBoxModel",
      "state": {
       "children": [
        "IPY_MODEL_1a1ab6e8d7c14e3e8b56bcdeae9a7d5a",
        "IPY_MODEL_62f6d8667b1e4ba1beeca0f1aca6ba15"
       ],
       "layout": "IPY_MODEL_158e17e891dd424784780de4a59d93b0"
      }
     },
     "340a8405ab3a496984401ea19d93ca43": {
      "model_module": "@jupyter-widgets/controls",
      "model_module_version": "1.5.0",
      "model_name": "DescriptionStyleModel",
      "state": {
       "description_width": ""
      }
     },
     "3418ad8ed5d8410c833c4c51198bf411": {
      "model_module": "@jupyter-widgets/base",
      "model_module_version": "1.2.0",
      "model_name": "LayoutModel",
      "state": {
       "width": "5%"
      }
     },
     "343d1717bf394abfa561a1aaff687c94": {
      "model_module": "@jupyter-widgets/base",
      "model_module_version": "1.2.0",
      "model_name": "LayoutModel",
      "state": {
       "align_items": "stretch",
       "display": "flex",
       "flex_flow": "row",
       "grid_auto_columns": "True",
       "justify_content": "flex-start",
       "width": "80%"
      }
     },
     "34705450c7ab466e8894f5d9a72d6912": {
      "model_module": "@jupyter-widgets/controls",
      "model_module_version": "1.5.0",
      "model_name": "ButtonStyleModel",
      "state": {
       "font_weight": "bold"
      }
     },
     "34ef69ff73cb4978af0ab636abfe86c6": {
      "model_module": "@jupyter-widgets/controls",
      "model_module_version": "1.5.0",
      "model_name": "HTMLModel",
      "state": {
       "layout": "IPY_MODEL_58d4c6ad70cf4f2da552987e7a102a90",
       "style": "IPY_MODEL_82c48c5928034fe89b27055fd6d5aba9",
       "value": "<p>0</p>"
      }
     },
     "34f65e5ec5a04d95962cc8bd7b107f6a": {
      "model_module": "@jupyter-widgets/base",
      "model_module_version": "1.2.0",
      "model_name": "LayoutModel",
      "state": {
       "align_items": "stretch",
       "width": "100%"
      }
     },
     "350303178c6542458f042127f77c483a": {
      "model_module": "@jupyter-widgets/base",
      "model_module_version": "1.2.0",
      "model_name": "LayoutModel",
      "state": {
       "align_items": "stretch",
       "border": "dashed 0.2px green",
       "display": "flex",
       "flex_flow": "row",
       "grid_auto_columns": "True",
       "justify_content": "flex-start",
       "width": "100%"
      }
     },
     "350bb8e77c094793bef1b294e9660ee7": {
      "model_module": "@jupyter-widgets/base",
      "model_module_version": "1.2.0",
      "model_name": "LayoutModel",
      "state": {
       "align_items": "stretch",
       "display": "flex",
       "flex_flow": "row",
       "grid_auto_columns": "True",
       "justify_content": "flex-end",
       "width": "90%"
      }
     },
     "356bbbcff276479bb1c22d314838f7d7": {
      "model_module": "@jupyter-widgets/base",
      "model_module_version": "1.2.0",
      "model_name": "LayoutModel",
      "state": {
       "align_items": "stretch",
       "border": "dashed 0.2px green",
       "display": "flex",
       "flex_flow": "row",
       "grid_auto_columns": "True",
       "justify_content": "flex-start",
       "width": "100%"
      }
     },
     "3592a7581a9448b5a656b71a694bfb41": {
      "model_module": "@jupyter-widgets/controls",
      "model_module_version": "1.5.0",
      "model_name": "HBoxModel",
      "state": {
       "children": [
        "IPY_MODEL_17c3146881bd45bbb5873b61fde29bf4"
       ],
       "layout": "IPY_MODEL_bc95095aaaa542788f01ce75f2518223"
      }
     },
     "35da4988a4024e06968523bab5f4a5a9": {
      "model_module": "@jupyter-widgets/controls",
      "model_module_version": "1.5.0",
      "model_name": "BoxModel",
      "state": {
       "children": [
        "IPY_MODEL_d56a8f14dc9d4ff58292b42be24671a0"
       ],
       "layout": "IPY_MODEL_4b5f5617c4e34f7ba865ad492f19c9be"
      }
     },
     "3611575a358940f496cdc5b37b411b7d": {
      "model_module": "@jupyter-widgets/controls",
      "model_module_version": "1.5.0",
      "model_name": "DescriptionStyleModel",
      "state": {
       "description_width": ""
      }
     },
     "36687328834e4804afa8f10e9659a237": {
      "model_module": "@jupyter-widgets/controls",
      "model_module_version": "1.5.0",
      "model_name": "DescriptionStyleModel",
      "state": {
       "description_width": ""
      }
     },
     "366cae10b7f443ccbbf18fb9dc408276": {
      "model_module": "@jupyter-widgets/controls",
      "model_module_version": "1.5.0",
      "model_name": "DescriptionStyleModel",
      "state": {
       "description_width": ""
      }
     },
     "36b545a35798429989f829ed83cce9ae": {
      "model_module": "@jupyter-widgets/base",
      "model_module_version": "1.2.0",
      "model_name": "LayoutModel",
      "state": {
       "height": "30px",
       "width": "auto"
      }
     },
     "36d3667016164e8aa4e9db2204a90ed5": {
      "model_module": "@jupyter-widgets/controls",
      "model_module_version": "1.5.0",
      "model_name": "DescriptionStyleModel",
      "state": {
       "description_width": ""
      }
     },
     "37083662d98e4e339632c0dff2437f55": {
      "model_module": "@jupyter-widgets/controls",
      "model_module_version": "1.5.0",
      "model_name": "DescriptionStyleModel",
      "state": {
       "description_width": ""
      }
     },
     "37326a865826453bae5a148b640a40fe": {
      "model_module": "@jupyter-widgets/controls",
      "model_module_version": "1.5.0",
      "model_name": "ButtonModel",
      "state": {
       "icon": "question-circle",
       "layout": "IPY_MODEL_71eea345eaf148fcab369c0cca41959f",
       "style": "IPY_MODEL_ebd99898f3924b27af9a08abc55d1efe",
       "tooltip": "describes the functionality of elements in the RunApp interface"
      }
     },
     "375c53ea616044d7b24dfa5e1f93555a": {
      "model_module": "@jupyter-widgets/controls",
      "model_module_version": "1.5.0",
      "model_name": "HBoxModel",
      "state": {
       "children": [
        "IPY_MODEL_c9675f7852814ce6b8d4044d769c8e45"
       ],
       "layout": "IPY_MODEL_356bbbcff276479bb1c22d314838f7d7"
      }
     },
     "37dc5284c7b94d5686b6f73cc3094587": {
      "model_module": "@jupyter-widgets/base",
      "model_module_version": "1.2.0",
      "model_name": "LayoutModel",
      "state": {
       "height": "30px",
       "width": "auto"
      }
     },
     "37f52065dd1549d49d90fc83897f2a3d": {
      "model_module": "@jupyter-widgets/controls",
      "model_module_version": "1.5.0",
      "model_name": "TextModel",
      "state": {
       "layout": "IPY_MODEL_f184e3dea92141dfa083868106c71798",
       "style": "IPY_MODEL_564e6b9355c14a4e8b58d75cdf7b4964",
       "value": "BlockCode"
      }
     },
     "382ce3d39d294484a4c767bbbec685ce": {
      "model_module": "@jupyter-widgets/controls",
      "model_module_version": "1.5.0",
      "model_name": "ButtonModel",
      "state": {
       "button_style": "info",
       "description": "show log",
       "layout": "IPY_MODEL_4e9e60013e314e34a6f7dc9daadcf6ec",
       "style": "IPY_MODEL_418b6faf93ec44baa894ec00cb187828",
       "tooltip": "show a log of when the script was executed to generate the outputs, and by who"
      }
     },
     "389091e18b904c63815fd57b8fcc116d": {
      "model_module": "@jupyter-widgets/base",
      "model_module_version": "1.2.0",
      "model_name": "LayoutModel",
      "state": {
       "height": "30px",
       "max_width": "30px",
       "padding": "3px"
      }
     },
     "3892d83e113a49d0b7cbe375e4cc12db": {
      "model_module": "@jupyter-widgets/base",
      "model_module_version": "1.2.0",
      "model_name": "LayoutModel",
      "state": {}
     },
     "38c0aa8541cf4006a6bb3a85d9b5e7cd": {
      "model_module": "@jupyter-widgets/base",
      "model_module_version": "1.2.0",
      "model_name": "LayoutModel",
      "state": {}
     },
     "38c4f1cd837040a9abb0d710961ec463": {
      "model_module": "@jupyter-widgets/controls",
      "model_module_version": "1.5.0",
      "model_name": "ButtonModel",
      "state": {
       "icon": "eye-slash",
       "layout": "IPY_MODEL_78cf882751c84f14b5b6d67e382a19cf",
       "style": "IPY_MODEL_54808deaa3214583b2562bbff88c00d9",
       "tooltip": "removes temporary output view"
      }
     },
     "38ef4d76ccf84d1ca00ee2b8161d995d": {
      "model_module": "@jupyter-widgets/controls",
      "model_module_version": "1.5.0",
      "model_name": "VBoxModel",
      "state": {
       "layout": "IPY_MODEL_d822322026014d819d2ff34067ea400f"
      }
     },
     "390310e383e3495bbf0f5352e7505198": {
      "model_module": "@jupyter-widgets/controls",
      "model_module_version": "1.5.0",
      "model_name": "DescriptionStyleModel",
      "state": {
       "description_width": ""
      }
     },
     "391775ed8ac64e61b4b2e1b0bd6586d8": {
      "model_module": "@jupyter-widgets/controls",
      "model_module_version": "1.5.0",
      "model_name": "HBoxModel",
      "state": {
       "children": [
        "IPY_MODEL_ade1866470a54dbf876f8fb9b6f2f910",
        "IPY_MODEL_8365cf19afb14decb04c67dbeef74cc5",
        "IPY_MODEL_8ebc20b124064b6f9d053fb81de45e3f",
        "IPY_MODEL_89610258478d448fb2fbafaa4ba29807",
        "IPY_MODEL_a7a1887ce9634de3bc63083b8f54591a",
        "IPY_MODEL_52b50e50ce184044ada80a2bc3214273",
        "IPY_MODEL_6b4e3dfb1ae3450c9af48ac00f0423eb"
       ],
       "layout": "IPY_MODEL_88d2f77e4ee94c5db82e1966fd99db72"
      }
     },
     "393480e13f5e4c079ef33bd64c14c187": {
      "model_module": "@jupyter-widgets/output",
      "model_module_version": "1.0.0",
      "model_name": "OutputModel",
      "state": {
       "layout": "IPY_MODEL_832da8399df148bfa9cb40c5dbaed14e"
      }
     },
     "39fe72f8f4bf43628beb55676a2782ae": {
      "model_module": "@jupyter-widgets/base",
      "model_module_version": "1.2.0",
      "model_name": "LayoutModel",
      "state": {}
     },
     "3a1e0f66b1b1490b9e4c347e480f0681": {
      "model_module": "@jupyter-widgets/base",
      "model_module_version": "1.2.0",
      "model_name": "LayoutModel",
      "state": {
       "align_items": "stretch",
       "width": "100%"
      }
     },
     "3a2e79c2aeb049368de3d64c901cd579": {
      "model_module": "@jupyter-widgets/controls",
      "model_module_version": "1.5.0",
      "model_name": "VBoxModel",
      "state": {
       "children": [
        "IPY_MODEL_afe66071c4b645e0adbc3459836706df",
        "IPY_MODEL_638813eadc394c8aaad1db79735d4d25"
       ],
       "layout": "IPY_MODEL_ae2ed98e9cd04459b40c0d7bf5a5d2e0"
      }
     },
     "3a4da324b92e44d2bae259ddb485e003": {
      "model_module": "@jupyter-widgets/controls",
      "model_module_version": "1.5.0",
      "model_name": "DescriptionStyleModel",
      "state": {
       "description_width": ""
      }
     },
     "3a4eb35eb7d24ffa873863b4b34681ec": {
      "model_module": "@jupyter-widgets/controls",
      "model_module_version": "1.5.0",
      "model_name": "ButtonModel",
      "state": {
       "button_style": "info",
       "description": "preview outputs",
       "layout": "IPY_MODEL_72bfb3ad4f024e269a00093337223c16",
       "style": "IPY_MODEL_4c136729298947b0b40d1c2288c63bca",
       "tooltip": "show a preview of the output files generated when the script runs"
      }
     },
     "3a6144e586d14f0e92ced187e4b52f52": {
      "model_module": "@jupyter-widgets/base",
      "model_module_version": "1.2.0",
      "model_name": "LayoutModel",
      "state": {}
     },
     "3a6ccf878f994df99907a1383f5d89d1": {
      "model_module": "@jupyter-widgets/base",
      "model_module_version": "1.2.0",
      "model_name": "LayoutModel",
      "state": {
       "align_items": "stretch",
       "display": "flex",
       "flex_flow": "row",
       "grid_auto_columns": "True",
       "justify_content": "flex-start",
       "width": "80%"
      }
     },
     "3b77707cf365429cae32abbe8cd554a0": {
      "model_module": "@jupyter-widgets/base",
      "model_module_version": "1.2.0",
      "model_name": "LayoutModel",
      "state": {
       "align_items": "stretch",
       "width": "100%"
      }
     },
     "3c0f67f7f97e44a8a080d6617beece69": {
      "model_module": "@jupyter-widgets/output",
      "model_module_version": "1.0.0",
      "model_name": "OutputModel",
      "state": {
       "layout": "IPY_MODEL_d90e5581f5b948aebbb92e10c587a5f1"
      }
     },
     "3c2cc0fc48034f61ac91cf2367988694": {
      "model_module": "@jupyter-widgets/base",
      "model_module_version": "1.2.0",
      "model_name": "LayoutModel",
      "state": {
       "align_items": "stretch",
       "display": "flex",
       "flex_flow": "row",
       "grid_auto_columns": "True",
       "justify_content": "flex-start",
       "width": "80%"
      }
     },
     "3c9da68e571e4538bd27adcca909a691": {
      "model_module": "@jupyter-widgets/base",
      "model_module_version": "1.2.0",
      "model_name": "LayoutModel",
      "state": {}
     },
     "3d806cbdd2db47d1ab24b56b12cc9a79": {
      "model_module": "@jupyter-widgets/controls",
      "model_module_version": "1.5.0",
      "model_name": "TextModel",
      "state": {
       "layout": "IPY_MODEL_2ac951abd4334a1c8e7146469a76b4cc",
       "style": "IPY_MODEL_78bdd6c13b984fdd94ec88e1bb14a809",
       "value": "BlockCode"
      }
     },
     "3d91707b3df9489ca4bbd0348837da73": {
      "model_module": "@jupyter-widgets/base",
      "model_module_version": "1.2.0",
      "model_name": "LayoutModel",
      "state": {
       "align_items": "stretch",
       "display": "flex",
       "flex_flow": "row",
       "grid_auto_columns": "True",
       "justify_content": "flex-end",
       "width": "90%"
      }
     },
     "3d920bf8c945442c8d6c6125f2d6f934": {
      "model_module": "@jupyter-widgets/base",
      "model_module_version": "1.2.0",
      "model_name": "LayoutModel",
      "state": {
       "display": "flex",
       "flex_flow": "row",
       "grid_auto_columns": "False",
       "justify_content": "flex-start",
       "width": "100%"
      }
     },
     "3daee3f4151e48e6ac5ae8e64c8c6c26": {
      "model_module": "@jupyter-widgets/controls",
      "model_module_version": "1.5.0",
      "model_name": "VBoxModel",
      "state": {
       "children": [
        "IPY_MODEL_4f4468b1239f47fbb78ea9dd6b394478",
        "IPY_MODEL_f23134564d744b399d2be00e2c3783e1",
        "IPY_MODEL_cc1337d4e49342a899f38790d0709f29"
       ],
       "layout": "IPY_MODEL_874ed98153e3408ebdb9402df748f697"
      }
     },
     "3ec288e083b8439b8e84a84a40d997e1": {
      "model_module": "@jupyter-widgets/controls",
      "model_module_version": "1.5.0",
      "model_name": "DescriptionStyleModel",
      "state": {
       "description_width": ""
      }
     },
     "3eedcb8915794b629a966ad52e5fbab3": {
      "model_module": "@jupyter-widgets/controls",
      "model_module_version": "1.5.0",
      "model_name": "DescriptionStyleModel",
      "state": {
       "description_width": ""
      }
     },
     "3f7bd07baf7e40c1908d3f2d7b1ad242": {
      "model_module": "@jupyter-widgets/output",
      "model_module_version": "1.0.0",
      "model_name": "OutputModel",
      "state": {
       "layout": "IPY_MODEL_6bee356173ef43058c577c05c9d09d8c"
      }
     },
     "4006797831b847b899f90f4a2b4e0342": {
      "model_module": "@jupyter-widgets/controls",
      "model_module_version": "1.5.0",
      "model_name": "HBoxModel",
      "state": {
       "children": [
        "IPY_MODEL_e019989258f44c47994311cae6016f57",
        "IPY_MODEL_15ec91bf8037488f8d63833234af8f13"
       ],
       "layout": "IPY_MODEL_62971dcd65d349a8b8a192f807c1c2a8"
      }
     },
     "40633151f6d74859bd4a4f05387d1712": {
      "model_module": "@jupyter-widgets/controls",
      "model_module_version": "1.5.0",
      "model_name": "DescriptionStyleModel",
      "state": {
       "description_width": ""
      }
     },
     "40ae5fa2954e4778b3ff6e472020cbca": {
      "model_module": "@jupyter-widgets/controls",
      "model_module_version": "1.5.0",
      "model_name": "VBoxModel",
      "state": {
       "children": [
        "IPY_MODEL_5bd9b35f5bb3440ba97b1eda70515c62",
        "IPY_MODEL_d43bfca3898e471fa538e2782ee8f5a4",
        "IPY_MODEL_cf2e4ee50ff54d2ba8def0b84e86a9d1"
       ],
       "layout": "IPY_MODEL_e32a2377ca664e25874fced1895bdcf8"
      }
     },
     "40c49f41378d4bc9a0872d604226bf17": {
      "model_module": "@jupyter-widgets/controls",
      "model_module_version": "1.5.0",
      "model_name": "TextModel",
      "state": {
       "description": "inputs",
       "disabled": true,
       "layout": "IPY_MODEL_2186fdfa88604477b69d1505c3f9dccc",
       "style": "IPY_MODEL_7c119ba3318149fdb77d8d98ed2434e4",
       "value": "C:\\engDev\\git_mf\\ipyrun\\ipyrun\\appdata\\inputs\\inputs-gbxml.json"
      }
     },
     "40e7a3a9d9f14f5fab13d8a5dbbeb483": {
      "model_module": "@jupyter-widgets/controls",
      "model_module_version": "1.5.0",
      "model_name": "ButtonStyleModel",
      "state": {
       "font_weight": "bold"
      }
     },
     "41178811a3bf4372bf5e76bfcdb8ac0e": {
      "model_module": "@jupyter-widgets/controls",
      "model_module_version": "1.5.0",
      "model_name": "HBoxModel",
      "state": {
       "children": [
        "IPY_MODEL_b52c1e61349e40e4968942ae995b5714",
        "IPY_MODEL_ad9073bba8484c3c97394cc29e384052"
       ],
       "layout": "IPY_MODEL_3321dbb2a1a4400685421b7ddd6863cb"
      }
     },
     "418528a088254571a10e03904c4cc7e3": {
      "model_module": "@jupyter-widgets/controls",
      "model_module_version": "1.5.0",
      "model_name": "TextModel",
      "state": {
       "description": "inputs",
       "disabled": true,
       "layout": "IPY_MODEL_612a17732a7841608f3434bc001fb305",
       "style": "IPY_MODEL_f7f4c93050334681b4e033072a9f9efc",
       "value": "C:\\engDev\\git_mf\\ipyrun\\ipyrun\\appdata\\inputs\\inputs-gbxml.json"
      }
     },
     "418b6faf93ec44baa894ec00cb187828": {
      "model_module": "@jupyter-widgets/controls",
      "model_module_version": "1.5.0",
      "model_name": "ButtonStyleModel",
      "state": {
       "font_weight": "bold"
      }
     },
     "418ca0888ac240efbe73a54c0df172bd": {
      "model_module": "@jupyter-widgets/controls",
      "model_module_version": "1.5.0",
      "model_name": "TextModel",
      "state": {
       "layout": "IPY_MODEL_a034b13560954710b27c54d4c7ff18f9",
       "style": "IPY_MODEL_5879d73200a64b8e90a029bafd15f2d0"
      }
     },
     "419ff3a3f1544760b08e39e9da233d80": {
      "model_module": "@jupyter-widgets/controls",
      "model_module_version": "1.5.0",
      "model_name": "ButtonStyleModel",
      "state": {}
     },
     "41f5d4d28ffd4de683984aed5f549fea": {
      "model_module": "@jupyter-widgets/controls",
      "model_module_version": "1.5.0",
      "model_name": "HBoxModel",
      "state": {
       "children": [
        "IPY_MODEL_81e5eda8c1374a72a16f65de03af96ab",
        "IPY_MODEL_cd3417538f474e8889e28c21a55b7bef"
       ],
       "layout": "IPY_MODEL_3d91707b3df9489ca4bbd0348837da73"
      }
     },
     "41f6004b0e3f40229e8c4bac6a7fcf4a": {
      "model_module": "@jupyter-widgets/output",
      "model_module_version": "1.0.0",
      "model_name": "OutputModel",
      "state": {
       "layout": "IPY_MODEL_a4ae9d8c0c334b5a9a8b1b006db35197"
      }
     },
     "426275388b45470c99f4bb3da51c9e06": {
      "model_module": "@jupyter-widgets/controls",
      "model_module_version": "1.5.0",
      "model_name": "DescriptionStyleModel",
      "state": {
       "description_width": ""
      }
     },
     "428cef80ab1340d3ba95d79f95e26a3d": {
      "model_module": "@jupyter-widgets/controls",
      "model_module_version": "1.5.0",
      "model_name": "HBoxModel",
      "state": {
       "children": [
        "IPY_MODEL_aaef4f117d324b9e9ac4c4e81f96b453",
        "IPY_MODEL_605b5f8abcc04e4fa44e4c2faea8939e"
       ],
       "layout": "IPY_MODEL_c1b34ae8af4e409491b18da0123e7931"
      }
     },
     "42b895a5afb84ead96f6bef2a5e9d4c7": {
      "model_module": "@jupyter-widgets/base",
      "model_module_version": "1.2.0",
      "model_name": "LayoutModel",
      "state": {}
     },
     "42e10dafd2a04756aa8ca2b4bd164df8": {
      "model_module": "@jupyter-widgets/controls",
      "model_module_version": "1.5.0",
      "model_name": "VBoxModel",
      "state": {
       "children": [
        "IPY_MODEL_75840e40a1854c4ba8706cfda8cc2b10",
        "IPY_MODEL_0f66b8fffc8040f58381387135e9f240",
        "IPY_MODEL_21a90cfbedb6415c8007688ae86acb3d"
       ],
       "layout": "IPY_MODEL_f1598eae56ab4298820d553b03e0e653"
      }
     },
     "42e874c939c846498039b25d1e438475": {
      "model_module": "@jupyter-widgets/base",
      "model_module_version": "1.2.0",
      "model_name": "LayoutModel",
      "state": {}
     },
     "439c1ab98af44d5998030bd1e8bdef70": {
      "model_module": "@jupyter-widgets/base",
      "model_module_version": "1.2.0",
      "model_name": "LayoutModel",
      "state": {
       "align_items": "stretch",
       "width": "100%"
      }
     },
     "43df6785d3164a70adc85cb818426773": {
      "model_module": "@jupyter-widgets/base",
      "model_module_version": "1.2.0",
      "model_name": "LayoutModel",
      "state": {}
     },
     "4402144a2c3b4b9e85733669c9441a5b": {
      "model_module": "@jupyter-widgets/controls",
      "model_module_version": "1.5.0",
      "model_name": "DescriptionStyleModel",
      "state": {
       "description_width": ""
      }
     },
     "4430c61fe11745948372576b9bdb0b21": {
      "model_module": "@jupyter-widgets/controls",
      "model_module_version": "1.5.0",
      "model_name": "HTMLModel",
      "state": {
       "layout": "IPY_MODEL_1ef7ea147c3f4900b33a365a17925d1f",
       "style": "IPY_MODEL_3611575a358940f496cdc5b37b411b7d",
       "value": "<p>2nd section of space name code</p>"
      }
     },
     "443ba1c04e064af98a744962c77199d4": {
      "model_module": "@jupyter-widgets/base",
      "model_module_version": "1.2.0",
      "model_name": "LayoutModel",
      "state": {
       "align_items": "stretch",
       "display": "flex",
       "flex_flow": "row",
       "grid_auto_columns": "True",
       "justify_content": "flex-end",
       "width": "90%"
      }
     },
     "44704d24822945e29721aded6ef72786": {
      "model_module": "@jupyter-widgets/controls",
      "model_module_version": "1.5.0",
      "model_name": "HBoxModel",
      "state": {
       "children": [
        "IPY_MODEL_09e1fd8b796d4d61b63577a4b4e252f8"
       ],
       "layout": "IPY_MODEL_350303178c6542458f042127f77c483a"
      }
     },
     "449aa7c287d44f14be3278ab087c1a1a": {
      "model_module": "@jupyter-widgets/controls",
      "model_module_version": "1.5.0",
      "model_name": "VBoxModel",
      "state": {
       "children": [
        "IPY_MODEL_3592a7581a9448b5a656b71a694bfb41",
        "IPY_MODEL_fefc986c10d34fdeb3f6fca01735261f",
        "IPY_MODEL_87c1c937f9f5474f8364e0903ef83077",
        "IPY_MODEL_59f134f49d88446890330abd597f8638",
        "IPY_MODEL_b84531840f27416697a6e3bf8bef2685"
       ],
       "layout": "IPY_MODEL_02ce396663b64e1990d83013d5a80354"
      }
     },
     "44c1f7a4d54b418da74135fe240c67ad": {
      "model_module": "@jupyter-widgets/base",
      "model_module_version": "1.2.0",
      "model_name": "LayoutModel",
      "state": {
       "height": "30px",
       "width": "auto"
      }
     },
     "44d2bc27d1b74d768e38f4aa17c25ead": {
      "model_module": "@jupyter-widgets/controls",
      "model_module_version": "1.5.0",
      "model_name": "DescriptionStyleModel",
      "state": {
       "description_width": ""
      }
     },
     "44dbec9ec6a14cbd89160eaecbf1f2fe": {
      "model_module": "@jupyter-widgets/base",
      "model_module_version": "1.2.0",
      "model_name": "LayoutModel",
      "state": {
       "align_items": "stretch",
       "display": "flex",
       "flex_flow": "row",
       "grid_auto_columns": "True",
       "justify_content": "flex-end",
       "width": "90%"
      }
     },
     "44e2141777fb41efbefaeb15ce0a3383": {
      "model_module": "@jupyter-widgets/controls",
      "model_module_version": "1.5.0",
      "model_name": "HTMLModel",
      "state": {
       "layout": "IPY_MODEL_642a58eab39d4305a818f4dfff4445db",
       "style": "IPY_MODEL_1ad09669d97c45349f5952aa519218ca",
       "value": "<p>defines the logic of the space naming. use default value where practical.</p>"
      }
     },
     "450fcf3c5bb8496f84ae1c80434b96e1": {
      "model_module": "@jupyter-widgets/base",
      "model_module_version": "1.2.0",
      "model_name": "LayoutModel",
      "state": {
       "align_items": "stretch",
       "border": "dashed 0.2px green",
       "display": "flex",
       "flex_flow": "row",
       "grid_auto_columns": "True",
       "justify_content": "flex-start",
       "width": "100%"
      }
     },
     "4536917106cf439394a83896e827a5b8": {
      "model_module": "@jupyter-widgets/controls",
      "model_module_version": "1.5.0",
      "model_name": "HBoxModel",
      "state": {
       "children": [
        "IPY_MODEL_b081ad9b0b5a4153b6ad5dc8d865c480"
       ],
       "layout": "IPY_MODEL_61b317057d044943b939fa27f3c00feb"
      }
     },
     "46080b2bd82245a48dc472598e09efd8": {
      "model_module": "@jupyter-widgets/controls",
      "model_module_version": "1.5.0",
      "model_name": "ButtonStyleModel",
      "state": {
       "font_weight": "bold"
      }
     },
     "464a97cf2cba429b90d844e5a0d94469": {
      "model_module": "@jupyter-widgets/controls",
      "model_module_version": "1.5.0",
      "model_name": "HTMLModel",
      "state": {
       "layout": "IPY_MODEL_84c05ab144444a35aebe37160768c42b",
       "style": "IPY_MODEL_4402144a2c3b4b9e85733669c9441a5b",
       "value": "<p>2</p>"
      }
     },
     "465ee7ee421047ddb7b204a742d4ffce": {
      "model_module": "@jupyter-widgets/controls",
      "model_module_version": "1.5.0",
      "model_name": "HBoxModel",
      "state": {
       "children": [
        "IPY_MODEL_a95e3aaad58645a59d0513ef53a3362b"
       ],
       "layout": "IPY_MODEL_70e56694c5f9452ebbb385e4370b8e30"
      }
     },
     "46631a242f814d0c80a1d7bd579362d0": {
      "model_module": "@jupyter-widgets/base",
      "model_module_version": "1.2.0",
      "model_name": "LayoutModel",
      "state": {
       "align_items": "stretch",
       "width": "100%"
      }
     },
     "46648dd0b50444f98a4fdd96db54a468": {
      "model_module": "@jupyter-widgets/base",
      "model_module_version": "1.2.0",
      "model_name": "LayoutModel",
      "state": {}
     },
     "46a4f3825bc64c1ba36fcc4bdd56ac56": {
      "model_module": "@jupyter-widgets/controls",
      "model_module_version": "1.5.0",
      "model_name": "HBoxModel",
      "state": {
       "children": [
        "IPY_MODEL_eb2b98912e1e4abba576f4892a127813",
        "IPY_MODEL_531a41a6bf4b49f195a604f2bf0803c0",
        "IPY_MODEL_787e26d02780480da6793f09cd7d343c",
        "IPY_MODEL_504c5cb5c8304115bf3cf276302d08a3",
        "IPY_MODEL_877fda33e0274f28b997a3cd91ec94b0",
        "IPY_MODEL_77c2b3e1b96a47c3be374b73a383e529",
        "IPY_MODEL_b58adf1fd66347f5ad92600782b9708a"
       ],
       "layout": "IPY_MODEL_34f65e5ec5a04d95962cc8bd7b107f6a"
      }
     },
     "46cc247c90124c5aa90639c1a7662873": {
      "model_module": "@jupyter-widgets/base",
      "model_module_version": "1.2.0",
      "model_name": "LayoutModel",
      "state": {
       "width": "5%"
      }
     },
     "46d9f1f4840b41428a4dcf241b669d3c": {
      "model_module": "@jupyter-widgets/base",
      "model_module_version": "1.2.0",
      "model_name": "LayoutModel",
      "state": {}
     },
     "475f132ffe7e4a62ad9839fd22de02d3": {
      "model_module": "@jupyter-widgets/base",
      "model_module_version": "1.2.0",
      "model_name": "LayoutModel",
      "state": {}
     },
     "47a29026ecb2422fa284d29e3b4c5f5a": {
      "model_module": "@jupyter-widgets/controls",
      "model_module_version": "1.5.0",
      "model_name": "ButtonModel",
      "state": {
       "button_style": "info",
       "description": "preview outputs",
       "layout": "IPY_MODEL_186f0312cb4a49018c08a489f05dbabb",
       "style": "IPY_MODEL_f22a8656f54347d69dc13c3b21241fc6",
       "tooltip": "show a preview of the output files generated when the script runs"
      }
     },
     "47b905030c2847cd9159c8f32eb3520c": {
      "model_module": "@jupyter-widgets/controls",
      "model_module_version": "1.5.0",
      "model_name": "ButtonStyleModel",
      "state": {
       "font_weight": "bold"
      }
     },
     "47bf7d7ba77e44298a62850e5cc075e4": {
      "model_module": "@jupyter-widgets/base",
      "model_module_version": "1.2.0",
      "model_name": "LayoutModel",
      "state": {}
     },
     "4826e53ed069419c862f3a08c9eb8b80": {
      "model_module": "@jupyter-widgets/base",
      "model_module_version": "1.2.0",
      "model_name": "LayoutModel",
      "state": {
       "width": "100%"
      }
     },
     "484bb48e088c4b4e90b2cc585df61193": {
      "model_module": "@jupyter-widgets/base",
      "model_module_version": "1.2.0",
      "model_name": "LayoutModel",
      "state": {}
     },
     "48605dfd6b7c4c9ebbfc67c3b604c4e9": {
      "model_module": "@jupyter-widgets/controls",
      "model_module_version": "1.5.0",
      "model_name": "HBoxModel",
      "state": {
       "children": [
        "IPY_MODEL_33544bd3fdb049fd95e8be84deccaf88",
        "IPY_MODEL_b384d523c1454fd8bff72f88a5580c85"
       ],
       "layout": "IPY_MODEL_efe5a73aa8ff4dd8a0d386f2ee818a9b"
      }
     },
     "48612ca269df4cd689ba0e4c791c933e": {
      "model_module": "@jupyter-widgets/base",
      "model_module_version": "1.2.0",
      "model_name": "LayoutModel",
      "state": {}
     },
     "487e5fa3c77041789df56822e490c1ce": {
      "model_module": "@jupyter-widgets/controls",
      "model_module_version": "1.5.0",
      "model_name": "ButtonStyleModel",
      "state": {
       "font_weight": "bold"
      }
     },
     "48831d5676f2469abeafd7002bcd1022": {
      "model_module": "@jupyter-widgets/controls",
      "model_module_version": "1.5.0",
      "model_name": "ToggleButtonModel",
      "state": {
       "button_style": "info",
       "description": "inputs from file",
       "layout": "IPY_MODEL_b360795acf9148d183f7c2e68630c288",
       "style": "IPY_MODEL_426275388b45470c99f4bb3da51c9e06"
      }
     },
     "48888f13a1fb456bad78d0a40a622e8f": {
      "model_module": "@jupyter-widgets/controls",
      "model_module_version": "1.5.0",
      "model_name": "DescriptionStyleModel",
      "state": {
       "description_width": ""
      }
     },
     "4888a7e553e045a294cc950037ae47ec": {
      "model_module": "@jupyter-widgets/base",
      "model_module_version": "1.2.0",
      "model_name": "LayoutModel",
      "state": {}
     },
     "48b9973d29e846d58fcc558c08b2caf9": {
      "model_module": "@jupyter-widgets/controls",
      "model_module_version": "1.5.0",
      "model_name": "AccordionModel",
      "state": {
       "_titles": {
        "0": "eplus_pipework_params"
       },
       "children": [
        "IPY_MODEL_a14b0b16a0984e9e80907a55e57c4441"
       ],
       "layout": "IPY_MODEL_b6c9fdbaca2d4929bca66edea953a618",
       "selected_index": null
      }
     },
     "48bdc63fdb7b447095e38442aa562fd2": {
      "model_module": "@jupyter-widgets/controls",
      "model_module_version": "1.5.0",
      "model_name": "HTMLModel",
      "state": {
       "layout": "IPY_MODEL_136703bae0ae459cbaa34fb6a4dbab49",
       "style": "IPY_MODEL_f376c5fecb3342f9b4c9cec02bb198a4",
       "value": "<p>3</p>"
      }
     },
     "48e4fb2e0f304731ae4f34556a57c1d9": {
      "model_module": "@jupyter-widgets/base",
      "model_module_version": "1.2.0",
      "model_name": "LayoutModel",
      "state": {
       "height": "30px",
       "max_width": "30px",
       "padding": "3px"
      }
     },
     "48f032d4db36401199c99830aac50306": {
      "model_module": "@jupyter-widgets/base",
      "model_module_version": "1.2.0",
      "model_name": "LayoutModel",
      "state": {}
     },
     "48f80cb87ac04094a0bb663df6646262": {
      "model_module": "@jupyter-widgets/base",
      "model_module_version": "1.2.0",
      "model_name": "LayoutModel",
      "state": {}
     },
     "4900854421bf40e2af19d62941d8bc47": {
      "model_module": "@jupyter-widgets/base",
      "model_module_version": "1.2.0",
      "model_name": "LayoutModel",
      "state": {}
     },
     "4916165b67d14e289033edfa868dcd5d": {
      "model_module": "@jupyter-widgets/controls",
      "model_module_version": "1.5.0",
      "model_name": "ButtonStyleModel",
      "state": {
       "font_weight": "bold"
      }
     },
     "4919b7622fa9419e9df1a8682a8d4df1": {
      "model_module": "@jupyter-widgets/base",
      "model_module_version": "1.2.0",
      "model_name": "LayoutModel",
      "state": {
       "align_items": "stretch",
       "display": "flex",
       "flex_flow": "row",
       "grid_auto_columns": "True",
       "justify_content": "flex-start",
       "width": "80%"
      }
     },
     "493bb8ffe29a405bbd1d4413fcff469f": {
      "model_module": "@jupyter-widgets/controls",
      "model_module_version": "1.5.0",
      "model_name": "ButtonModel",
      "state": {
       "button_style": "info",
       "description": "show guide",
       "layout": "IPY_MODEL_5d1a2cb5d775448f82ae3b69c9062577",
       "style": "IPY_MODEL_a5ff499bb61542969a64653de4bbc5b4",
       "tooltip": "read the \"docstring\", ie. the documentation that was written to accompany the script"
      }
     },
     "49646dedfcc04725bb364daf15714995": {
      "model_module": "@jupyter-widgets/controls",
      "model_module_version": "1.5.0",
      "model_name": "VBoxModel",
      "state": {
       "children": [
        "IPY_MODEL_71b6297bb729481d984971c022f2a4ff",
        "IPY_MODEL_70545519efbb4241873f12284f4c2d1b"
       ],
       "layout": "IPY_MODEL_7079567e83754bdbadc747ffe45a6b0b"
      }
     },
     "4966244550aa47efafbf20b6a3f3963a": {
      "model_module": "@jupyter-widgets/controls",
      "model_module_version": "1.5.0",
      "model_name": "HTMLModel",
      "state": {
       "layout": "IPY_MODEL_db41c740a6684a9f8813117316c25928",
       "style": "IPY_MODEL_33a325e08e024e5e90a908302f87a2d0",
       "value": "<p>5th section of space name code (enter None if 5th section doesn't exist)</p>"
      }
     },
     "49866c58b38f450dadbe5625ce5bdafa": {
      "model_module": "@jupyter-widgets/base",
      "model_module_version": "1.2.0",
      "model_name": "LayoutModel",
      "state": {}
     },
     "49a6585968484183959e897cd7f02609": {
      "model_module": "@jupyter-widgets/output",
      "model_module_version": "1.0.0",
      "model_name": "OutputModel",
      "state": {
       "layout": "IPY_MODEL_3c9da68e571e4538bd27adcca909a691"
      }
     },
     "4a01b14abd14400ea43fbcb3e313d55e": {
      "model_module": "@jupyter-widgets/output",
      "model_module_version": "1.0.0",
      "model_name": "OutputModel",
      "state": {
       "layout": "IPY_MODEL_54d805dd878b44c3838fd14ce5efb61f"
      }
     },
     "4a149e5265a34555806467e2e142d850": {
      "model_module": "@jupyter-widgets/controls",
      "model_module_version": "1.5.0",
      "model_name": "ButtonModel",
      "state": {
       "button_style": "success",
       "description": "run",
       "layout": "IPY_MODEL_cdc6f32c40844d7a8bbeed041208c64c",
       "style": "IPY_MODEL_612659eecbe242bab5b969aa19f12520",
       "tooltip": "execute the script based on the user inputs"
      }
     },
     "4a32064e80c741d89808b986a7dafee2": {
      "model_module": "@jupyter-widgets/base",
      "model_module_version": "1.2.0",
      "model_name": "LayoutModel",
      "state": {}
     },
     "4a4545b01ec14ca3a5c2f34751fd742c": {
      "model_module": "@jupyter-widgets/controls",
      "model_module_version": "1.5.0",
      "model_name": "ButtonStyleModel",
      "state": {
       "font_weight": "bold"
      }
     },
     "4a5d807620c9411a8d6d90328caded9c": {
      "model_module": "@jupyter-widgets/controls",
      "model_module_version": "1.5.0",
      "model_name": "ButtonStyleModel",
      "state": {
       "font_weight": "bold"
      }
     },
     "4a7379021afc476d88b9ef5da2b89e4d": {
      "model_module": "@jupyter-widgets/output",
      "model_module_version": "1.0.0",
      "model_name": "OutputModel",
      "state": {
       "layout": "IPY_MODEL_154ebe92bfc44f4a8d5b054c7c586d9d"
      }
     },
     "4a78aae94db74535b0d6800e4b00005e": {
      "model_module": "@jupyter-widgets/base",
      "model_module_version": "1.2.0",
      "model_name": "LayoutModel",
      "state": {}
     },
     "4b59a39110fe4603a15239ef93f7a337": {
      "model_module": "@jupyter-widgets/controls",
      "model_module_version": "1.5.0",
      "model_name": "ButtonModel",
      "state": {
       "icon": "eye-slash",
       "layout": "IPY_MODEL_ea2fddeb65e345549c7d4123672a4415",
       "style": "IPY_MODEL_97c9d32b9fa5448c87ebfc804d6aa64b",
       "tooltip": "removes temporary output view"
      }
     },
     "4b5f5617c4e34f7ba865ad492f19c9be": {
      "model_module": "@jupyter-widgets/base",
      "model_module_version": "1.2.0",
      "model_name": "LayoutModel",
      "state": {}
     },
     "4b7ccb41410646f8871aac12b0d6f463": {
      "model_module": "@jupyter-widgets/controls",
      "model_module_version": "1.5.0",
      "model_name": "ButtonModel",
      "state": {
       "button_style": "info",
       "description": "show guide",
       "layout": "IPY_MODEL_fcffae1604a24cd2b50e56b0732f2729",
       "style": "IPY_MODEL_ba7470559c1f4f7887735df7a9f422c6",
       "tooltip": "read the \"docstring\", ie. the documentation that was written to accompany the script"
      }
     },
     "4ba8a07be18e4c8cbf177e4ebb30deb8": {
      "model_module": "@jupyter-widgets/controls",
      "model_module_version": "1.5.0",
      "model_name": "HBoxModel",
      "state": {
       "children": [
        "IPY_MODEL_1fc733a15b4d4718952ca96fd69fb350",
        "IPY_MODEL_d3dbfa9eb4b244c4b58c5988a4c67a64"
       ],
       "layout": "IPY_MODEL_6e6c4c3ac67e44c899dcf05ad9fba09d"
      }
     },
     "4bdaa9fb969548cab7de513c5c9ba0f2": {
      "model_module": "@jupyter-widgets/controls",
      "model_module_version": "1.5.0",
      "model_name": "CheckboxModel",
      "state": {
       "disabled": false,
       "indent": false,
       "layout": "IPY_MODEL_edf0d377e8164067a3976a1cdee238a7",
       "style": "IPY_MODEL_652dc67a012540db9fe40d2ca9b8bd3f",
       "value": false
      }
     },
     "4c136729298947b0b40d1c2288c63bca": {
      "model_module": "@jupyter-widgets/controls",
      "model_module_version": "1.5.0",
      "model_name": "ButtonStyleModel",
      "state": {
       "font_weight": "bold"
      }
     },
     "4c579aa13e8c41b1b1b6c0242f9069d6": {
      "model_module": "@jupyter-widgets/controls",
      "model_module_version": "1.5.0",
      "model_name": "DescriptionStyleModel",
      "state": {
       "description_width": ""
      }
     },
     "4c9898ab63034228b5eae0e9f4563d81": {
      "model_module": "@jupyter-widgets/controls",
      "model_module_version": "1.5.0",
      "model_name": "DescriptionStyleModel",
      "state": {
       "description_width": ""
      }
     },
     "4d0f36f9f4034a13a9babe5aeed2698b": {
      "model_module": "@jupyter-widgets/base",
      "model_module_version": "1.2.0",
      "model_name": "LayoutModel",
      "state": {}
     },
     "4d1836f0996f4197951f969b595f077b": {
      "model_module": "@jupyter-widgets/base",
      "model_module_version": "1.2.0",
      "model_name": "LayoutModel",
      "state": {}
     },
     "4dab7329672749bb877c7241ce538284": {
      "model_module": "@jupyter-widgets/base",
      "model_module_version": "1.2.0",
      "model_name": "LayoutModel",
      "state": {
       "align_items": "stretch",
       "display": "flex",
       "flex_flow": "row",
       "grid_auto_columns": "True",
       "justify_content": "flex-end",
       "width": "90%"
      }
     },
     "4e007f6a90934286bf41b521f29555a1": {
      "model_module": "@jupyter-widgets/base",
      "model_module_version": "1.2.0",
      "model_name": "LayoutModel",
      "state": {}
     },
     "4e2b2a59bdec4efc983243173bd5ebb0": {
      "model_module": "@jupyter-widgets/base",
      "model_module_version": "1.2.0",
      "model_name": "LayoutModel",
      "state": {
       "align_items": "stretch",
       "border": "dashed 0.2px green",
       "display": "flex",
       "flex_flow": "row",
       "grid_auto_columns": "True",
       "justify_content": "flex-start",
       "width": "100%"
      }
     },
     "4e9e60013e314e34a6f7dc9daadcf6ec": {
      "model_module": "@jupyter-widgets/base",
      "model_module_version": "1.2.0",
      "model_name": "LayoutModel",
      "state": {}
     },
     "4eb250dfac554f92996157ba3486fe1e": {
      "model_module": "@jupyter-widgets/controls",
      "model_module_version": "1.5.0",
      "model_name": "BoxModel",
      "state": {
       "children": [
        "IPY_MODEL_0b90db8ccef146b2a4052ca663feb685"
       ],
       "layout": "IPY_MODEL_b5859a5573c340cfa2c931bf84bf7bfd"
      }
     },
     "4edd8e79fb6a4e5da9d625fc0f1e2222": {
      "model_module": "@jupyter-widgets/output",
      "model_module_version": "1.0.0",
      "model_name": "OutputModel",
      "state": {
       "layout": "IPY_MODEL_a7cba96177f74b7283d4e253f40f636a"
      }
     },
     "4f2fc7ad55234ec8ac5d928d9a957b5d": {
      "model_module": "@jupyter-widgets/base",
      "model_module_version": "1.2.0",
      "model_name": "LayoutModel",
      "state": {}
     },
     "4f3bb713250a4b9dbbcc16d4ed2eb908": {
      "model_module": "@jupyter-widgets/base",
      "model_module_version": "1.2.0",
      "model_name": "LayoutModel",
      "state": {
       "display": "flex",
       "flex_flow": "row",
       "grid_auto_columns": "False",
       "justify_content": "flex-start",
       "width": "100%"
      }
     },
     "4f4468b1239f47fbb78ea9dd6b394478": {
      "model_module": "@jupyter-widgets/controls",
      "model_module_version": "1.5.0",
      "model_name": "HBoxModel",
      "state": {
       "children": [
        "IPY_MODEL_48831d5676f2469abeafd7002bcd1022",
        "IPY_MODEL_1d592a16a9cb48a19e8d66ffef6473af",
        "IPY_MODEL_d0e239bb32a542d2b09836407bc85f12"
       ],
       "layout": "IPY_MODEL_a1a7868ebb1f4cf285491988d11d6fda"
      }
     },
     "4f61edba0a5a4a5ca389f1067fcfc782": {
      "model_module": "@jupyter-widgets/base",
      "model_module_version": "1.2.0",
      "model_name": "LayoutModel",
      "state": {}
     },
     "4f72097dc195480587ba909492254b9f": {
      "model_module": "@jupyter-widgets/controls",
      "model_module_version": "1.5.0",
      "model_name": "HTMLModel",
      "state": {
       "layout": "IPY_MODEL_39fe72f8f4bf43628beb55676a2782ae",
       "style": "IPY_MODEL_ae4d872bb5ae45aba7d763371193de8e",
       "value": "<p>edit user input form below</p>"
      }
     },
     "4fa4457f49a84421b2a6964a25e2d544": {
      "model_module": "@jupyter-widgets/controls",
      "model_module_version": "1.5.0",
      "model_name": "DescriptionStyleModel",
      "state": {
       "description_width": ""
      }
     },
     "4fbff083817545c0a38f0d5aed2c70d0": {
      "model_module": "@jupyter-widgets/base",
      "model_module_version": "1.2.0",
      "model_name": "LayoutModel",
      "state": {}
     },
     "4fdf6b83f0af47e3983ae6bcca0227f2": {
      "model_module": "@jupyter-widgets/controls",
      "model_module_version": "1.5.0",
      "model_name": "HBoxModel",
      "state": {
       "children": [
        "IPY_MODEL_464a97cf2cba429b90d844e5a0d94469",
        "IPY_MODEL_a3abcc01c6724860a2a83b446673c71b"
       ],
       "layout": "IPY_MODEL_cf908dcac3564da7a3cc18ff2a1baa03"
      }
     },
     "50167a28e0f646c2808c09fbe018e9ef": {
      "model_module": "@jupyter-widgets/controls",
      "model_module_version": "1.5.0",
      "model_name": "ButtonModel",
      "state": {
       "button_style": "info",
       "description": "show source code",
       "layout": "IPY_MODEL_7747750d68994d70938a70981d51be29",
       "style": "IPY_MODEL_61745ae1e95b4c1094b5ffd8f1d78465",
       "tooltip": "shows the raw python code in the preview window below"
      }
     },
     "501bf67cb6f14140a487c5ad44f7716f": {
      "model_module": "@jupyter-widgets/base",
      "model_module_version": "1.2.0",
      "model_name": "LayoutModel",
      "state": {
       "height": "30px",
       "width": "auto"
      }
     },
     "5027e266c23c4ae6b5f205f7f4b28786": {
      "model_module": "@jupyter-widgets/controls",
      "model_module_version": "1.5.0",
      "model_name": "DescriptionStyleModel",
      "state": {
       "description_width": ""
      }
     },
     "50290ee33e724ebf91b0b047e979dc1f": {
      "model_module": "@jupyter-widgets/base",
      "model_module_version": "1.2.0",
      "model_name": "LayoutModel",
      "state": {}
     },
     "504c5cb5c8304115bf3cf276302d08a3": {
      "model_module": "@jupyter-widgets/controls",
      "model_module_version": "1.5.0",
      "model_name": "ButtonModel",
      "state": {
       "button_style": "warning",
       "description": "edit inputs",
       "layout": "IPY_MODEL_b9bb3d28807149bf99b2bfc5c109a210",
       "style": "IPY_MODEL_a378acef61c5461ab90111e7ecea8006",
       "tooltip": "edit the user input information that is used when the script is executed"
      }
     },
     "50922f67f4b444d783abc25f32ed7f1d": {
      "model_module": "@jupyter-widgets/controls",
      "model_module_version": "1.5.0",
      "model_name": "DescriptionStyleModel",
      "state": {
       "description_width": ""
      }
     },
     "50d19e381fba4dbdac18309bf867f56b": {
      "model_module": "@jupyter-widgets/controls",
      "model_module_version": "1.5.0",
      "model_name": "ButtonModel",
      "state": {
       "button_style": "info",
       "description": "show log",
       "layout": "IPY_MODEL_53503d813ffa4611a6bf69e73697b5df",
       "style": "IPY_MODEL_777f9b5292454dac9a377e4765a9bf67",
       "tooltip": "show a log of when the script was executed to generate the outputs, and by who"
      }
     },
     "5181a2227c8b4344b1da5b33af408aa0": {
      "model_module": "@jupyter-widgets/base",
      "model_module_version": "1.2.0",
      "model_name": "LayoutModel",
      "state": {
       "align_items": "stretch",
       "display": "flex",
       "flex_flow": "row",
       "grid_auto_columns": "True",
       "justify_content": "flex-start",
       "width": "80%"
      }
     },
     "51bb92e0c76a4bdaaac3c18fc6068387": {
      "model_module": "@jupyter-widgets/controls",
      "model_module_version": "1.5.0",
      "model_name": "ButtonStyleModel",
      "state": {
       "font_weight": "bold"
      }
     },
     "51bfb01263a3497686f5aecae18639d7": {
      "model_module": "@jupyter-widgets/controls",
      "model_module_version": "1.5.0",
      "model_name": "HTMLModel",
      "state": {
       "layout": "IPY_MODEL_fe74ebe7d9744aea8febe8458b296494",
       "style": "IPY_MODEL_202d5db949364fbf8efbab51ed704e6c",
       "value": "<p>fpth_in</p>"
      }
     },
     "51ce4133dbca447da2eca968de3af587": {
      "model_module": "@jupyter-widgets/base",
      "model_module_version": "1.2.0",
      "model_name": "LayoutModel",
      "state": {}
     },
     "5204b39efb95477fa8c4e6cce11b5521": {
      "model_module": "@jupyter-widgets/base",
      "model_module_version": "1.2.0",
      "model_name": "LayoutModel",
      "state": {
       "align_items": "stretch",
       "display": "flex",
       "flex_flow": "row",
       "grid_auto_columns": "True",
       "justify_content": "flex-end",
       "width": "90%"
      }
     },
     "52b50e50ce184044ada80a2bc3214273": {
      "model_module": "@jupyter-widgets/controls",
      "model_module_version": "1.5.0",
      "model_name": "ButtonModel",
      "state": {
       "button_style": "info",
       "description": "preview outputs",
       "layout": "IPY_MODEL_bf7f4c14e2e74ec99a344ff8f4ae40c6",
       "style": "IPY_MODEL_a9809f1419474630b1f138e00f553e2b",
       "tooltip": "show a preview of the output files generated when the script runs"
      }
     },
     "5300378e35314da0b04c30d66ee66c04": {
      "model_module": "@jupyter-widgets/base",
      "model_module_version": "1.2.0",
      "model_name": "LayoutModel",
      "state": {
       "align_items": "stretch",
       "border": "dashed 0.2px green",
       "display": "flex",
       "flex_flow": "row",
       "grid_auto_columns": "True",
       "justify_content": "flex-start",
       "width": "100%"
      }
     },
     "53011e854f974e309c73d6745f20c4bc": {
      "model_module": "@jupyter-widgets/controls",
      "model_module_version": "1.5.0",
      "model_name": "VBoxModel",
      "state": {
       "children": [
        "IPY_MODEL_2415c06c1ca04a92b9921635cad06318",
        "IPY_MODEL_125c140f93aa4f9883d4b10ec01cae8e"
       ],
       "layout": "IPY_MODEL_330fe92627864fc4a0f387a09ea10cc5"
      }
     },
     "5301ac17ffd44982af16fde6bf3708f2": {
      "model_module": "@jupyter-widgets/controls",
      "model_module_version": "1.5.0",
      "model_name": "HBoxModel",
      "state": {
       "children": [
        "IPY_MODEL_1ade2d54aee04739ace1e307c927080e",
        "IPY_MODEL_8916d9ca89184a939ca1e0fb28948cad"
       ],
       "layout": "IPY_MODEL_80a344ccf59f4036a402fb507aca0e0d"
      }
     },
     "531a41a6bf4b49f195a604f2bf0803c0": {
      "model_module": "@jupyter-widgets/controls",
      "model_module_version": "1.5.0",
      "model_name": "ButtonModel",
      "state": {
       "icon": "question-circle",
       "layout": "IPY_MODEL_56041d6b87154ba0b181f26698209a06",
       "style": "IPY_MODEL_c4c6c4c017594a469f3d1146ccfcf0a5",
       "tooltip": "describes the functionality of elements in the RunApp interface"
      }
     },
     "53503d813ffa4611a6bf69e73697b5df": {
      "model_module": "@jupyter-widgets/base",
      "model_module_version": "1.2.0",
      "model_name": "LayoutModel",
      "state": {}
     },
     "5354107ab60044a591c88dc3a7904a01": {
      "model_module": "@jupyter-widgets/base",
      "model_module_version": "1.2.0",
      "model_name": "LayoutModel",
      "state": {
       "height": "30px",
       "width": "auto"
      }
     },
     "539966937a0c4cc18b9933be4d79186c": {
      "model_module": "@jupyter-widgets/base",
      "model_module_version": "1.2.0",
      "model_name": "LayoutModel",
      "state": {}
     },
     "53b4a82d6a9d4c7dbb6510fcd51e6f33": {
      "model_module": "@jupyter-widgets/controls",
      "model_module_version": "1.5.0",
      "model_name": "DescriptionStyleModel",
      "state": {
       "description_width": ""
      }
     },
     "53e9cdba630c40e2840088988f2e027d": {
      "model_module": "@jupyter-widgets/output",
      "model_module_version": "1.0.0",
      "model_name": "OutputModel",
      "state": {
       "layout": "IPY_MODEL_e44b9f83a2204e79b67c8a30df611543"
      }
     },
     "54263af4c9c741518d774273d80ae9a6": {
      "model_module": "@jupyter-widgets/base",
      "model_module_version": "1.2.0",
      "model_name": "LayoutModel",
      "state": {}
     },
     "543d1a51e5274006adef20b23349630d": {
      "model_module": "@jupyter-widgets/controls",
      "model_module_version": "1.5.0",
      "model_name": "HBoxModel",
      "state": {
       "children": [
        "IPY_MODEL_870cba37b2c249c8a015bb09bb35fcf4"
       ],
       "layout": "IPY_MODEL_faee74ccec2c4723b42686048d52b318"
      }
     },
     "5443103b3ee545258399e0f598951d42": {
      "model_module": "@jupyter-widgets/base",
      "model_module_version": "1.2.0",
      "model_name": "LayoutModel",
      "state": {}
     },
     "5479223cbb0e41c492bead5461a9c774": {
      "model_module": "@jupyter-widgets/base",
      "model_module_version": "1.2.0",
      "model_name": "LayoutModel",
      "state": {}
     },
     "54808deaa3214583b2562bbff88c00d9": {
      "model_module": "@jupyter-widgets/controls",
      "model_module_version": "1.5.0",
      "model_name": "ButtonStyleModel",
      "state": {
       "font_weight": "bold"
      }
     },
     "548c8d8839064c3caf0a50f3d3090fd8": {
      "model_module": "@jupyter-widgets/base",
      "model_module_version": "1.2.0",
      "model_name": "LayoutModel",
      "state": {
       "align_items": "stretch",
       "display": "flex",
       "flex_flow": "row",
       "grid_auto_columns": "True",
       "justify_content": "flex-start",
       "width": "80%"
      }
     },
     "54d805dd878b44c3838fd14ce5efb61f": {
      "model_module": "@jupyter-widgets/base",
      "model_module_version": "1.2.0",
      "model_name": "LayoutModel",
      "state": {}
     },
     "55a0acdd41dc4f9582c1e035915a530b": {
      "model_module": "@jupyter-widgets/controls",
      "model_module_version": "1.5.0",
      "model_name": "DescriptionStyleModel",
      "state": {
       "description_width": ""
      }
     },
     "55b77230eeb24541922c957e0b1b5ce7": {
      "model_module": "@jupyter-widgets/base",
      "model_module_version": "1.2.0",
      "model_name": "LayoutModel",
      "state": {}
     },
     "56041d6b87154ba0b181f26698209a06": {
      "model_module": "@jupyter-widgets/base",
      "model_module_version": "1.2.0",
      "model_name": "LayoutModel",
      "state": {
       "width": "5%"
      }
     },
     "562509c963594810a1eba54462ac6dca": {
      "model_module": "@jupyter-widgets/controls",
      "model_module_version": "1.5.0",
      "model_name": "DescriptionStyleModel",
      "state": {
       "description_width": ""
      }
     },
     "564e6b9355c14a4e8b58d75cdf7b4964": {
      "model_module": "@jupyter-widgets/controls",
      "model_module_version": "1.5.0",
      "model_name": "DescriptionStyleModel",
      "state": {
       "description_width": ""
      }
     },
     "5656638d13c246d982e214291a37cc07": {
      "model_module": "@jupyter-widgets/controls",
      "model_module_version": "1.5.0",
      "model_name": "ButtonStyleModel",
      "state": {
       "font_weight": "bold"
      }
     },
     "5663be1ee7714d4cb1937fd64820fec6": {
      "model_module": "@jupyter-widgets/base",
      "model_module_version": "1.2.0",
      "model_name": "LayoutModel",
      "state": {}
     },
     "56aa6e3d8da14bccbc50a6bc8f189d5c": {
      "model_module": "@jupyter-widgets/base",
      "model_module_version": "1.2.0",
      "model_name": "LayoutModel",
      "state": {}
     },
     "56dab378b13a4b8887c4f425a25a08d0": {
      "model_module": "@jupyter-widgets/controls",
      "model_module_version": "1.5.0",
      "model_name": "ButtonModel",
      "state": {
       "button_style": "info",
       "description": "preview outputs",
       "layout": "IPY_MODEL_f90c71a9394e46d7b99e88d84b0ea2b1",
       "style": "IPY_MODEL_6be290eef759462a9f03dfbb269691a1",
       "tooltip": "show a preview of the output files generated when the script runs"
      }
     },
     "579e4734f8344b0cbcb0885f388af4e5": {
      "model_module": "@jupyter-widgets/output",
      "model_module_version": "1.0.0",
      "model_name": "OutputModel",
      "state": {
       "layout": "IPY_MODEL_b8790890e2664f508c6728dc1de3bdc8",
       "outputs": [
        {
         "data": {
          "application/vnd.jupyter.widget-view+json": {
           "model_id": "",
           "version_major": 2,
           "version_minor": 0
          },
          "text/plain": "VBox(children=(HBox(children=(ToggleButton(value=False, button_style='info', description='inputs from file'), …"
         },
         "metadata": {},
         "output_type": "display_data"
        },
        {
         "data": {
          "application/vnd.jupyter.widget-view+json": {
           "model_id": "",
           "version_major": 2,
           "version_minor": 0
          },
          "text/plain": "VBox(children=(HBox(children=(HBox(children=(HTML(value='<p>fpth_in</p>'), HBox(children=(Text(value='C:\\\\engD…"
         },
         "metadata": {},
         "output_type": "display_data"
        },
        {
         "data": {
          "application/vnd.jupyter.widget-view+json": {
           "model_id": "",
           "version_major": 2,
           "version_minor": 0
          },
          "text/plain": "Output()"
         },
         "metadata": {},
         "output_type": "display_data"
        }
       ]
      }
     },
     "57cd3bb4850e4d308c9f9790c90509e3": {
      "model_module": "@jupyter-widgets/base",
      "model_module_version": "1.2.0",
      "model_name": "LayoutModel",
      "state": {
       "align_items": "stretch",
       "display": "flex",
       "flex_flow": "row",
       "grid_auto_columns": "True",
       "justify_content": "flex-start",
       "width": "80%"
      }
     },
     "57fd9038a65e4b5a849ee4fb5e40d68b": {
      "model_module": "@jupyter-widgets/controls",
      "model_module_version": "1.5.0",
      "model_name": "HTMLModel",
      "state": {
       "layout": "IPY_MODEL_cdc6e98d68984b9ebe9ce87ef4670c18",
       "style": "IPY_MODEL_50922f67f4b444d783abc25f32ed7f1d",
       "value": "<p>0</p>"
      }
     },
     "5832463ad25e45f0bfd6263255f7cebc": {
      "model_module": "@jupyter-widgets/controls",
      "model_module_version": "1.5.0",
      "model_name": "DescriptionStyleModel",
      "state": {
       "description_width": ""
      }
     },
     "5879d73200a64b8e90a029bafd15f2d0": {
      "model_module": "@jupyter-widgets/controls",
      "model_module_version": "1.5.0",
      "model_name": "DescriptionStyleModel",
      "state": {
       "description_width": ""
      }
     },
     "58d4c6ad70cf4f2da552987e7a102a90": {
      "model_module": "@jupyter-widgets/base",
      "model_module_version": "1.2.0",
      "model_name": "LayoutModel",
      "state": {}
     },
     "590da44be5ee4a4bab6e088f816c4978": {
      "model_module": "@jupyter-widgets/base",
      "model_module_version": "1.2.0",
      "model_name": "LayoutModel",
      "state": {}
     },
     "5986414872374196bd3d9ffcd5345356": {
      "model_module": "@jupyter-widgets/controls",
      "model_module_version": "1.5.0",
      "model_name": "VBoxModel",
      "state": {
       "children": [
        "IPY_MODEL_75840e40a1854c4ba8706cfda8cc2b10",
        "IPY_MODEL_0f66b8fffc8040f58381387135e9f240",
        "IPY_MODEL_21a90cfbedb6415c8007688ae86acb3d"
       ],
       "layout": "IPY_MODEL_fafa97d5f77a4efa8fccbc66b7b1bfd1"
      }
     },
     "59930f4d480941c6829e0fed7af3377b": {
      "model_module": "@jupyter-widgets/base",
      "model_module_version": "1.2.0",
      "model_name": "LayoutModel",
      "state": {
       "border": "0px",
       "margin": "0px",
       "padding": "0px"
      }
     },
     "59f134f49d88446890330abd597f8638": {
      "model_module": "@jupyter-widgets/controls",
      "model_module_version": "1.5.0",
      "model_name": "HBoxModel",
      "state": {
       "children": [
        "IPY_MODEL_c550aec99dde47b391e8e685523c787a"
       ],
       "layout": "IPY_MODEL_a722a9f809c44879bc578cc43a46b03c"
      }
     },
     "5ab32db4b6c74640be6657023087f307": {
      "model_module": "@jupyter-widgets/base",
      "model_module_version": "1.2.0",
      "model_name": "LayoutModel",
      "state": {}
     },
     "5ab586c78e364aa7a080e4702087b537": {
      "model_module": "@jupyter-widgets/base",
      "model_module_version": "1.2.0",
      "model_name": "LayoutModel",
      "state": {}
     },
     "5add3b3976044565a58654a2e7f986b8": {
      "model_module": "@jupyter-widgets/base",
      "model_module_version": "1.2.0",
      "model_name": "LayoutModel",
      "state": {}
     },
     "5b369da6cef444028d484966f379d46d": {
      "model_module": "@jupyter-widgets/base",
      "model_module_version": "1.2.0",
      "model_name": "LayoutModel",
      "state": {}
     },
     "5b36cc0e63cc4b4d95e6fc4dd6e6dae0": {
      "model_module": "@jupyter-widgets/base",
      "model_module_version": "1.2.0",
      "model_name": "LayoutModel",
      "state": {}
     },
     "5b913c5e306e4a3eb42ab4d70062792d": {
      "model_module": "@jupyter-widgets/controls",
      "model_module_version": "1.5.0",
      "model_name": "ButtonModel",
      "state": {
       "button_style": "warning",
       "description": "edit inputs",
       "layout": "IPY_MODEL_47bf7d7ba77e44298a62850e5cc075e4",
       "style": "IPY_MODEL_fecf3da42fd94950a94b451915530720",
       "tooltip": "edit the user input information that is used when the script is executed"
      }
     },
     "5ba5ffb02756423598e2cdd846def946": {
      "model_module": "@jupyter-widgets/controls",
      "model_module_version": "1.5.0",
      "model_name": "HTMLModel",
      "state": {
       "layout": "IPY_MODEL_30861b31c2164750ad5fb716a6a54132",
       "style": "IPY_MODEL_85594009408442fba1322d2b9a390fdf",
       "value": "<p>4</p>"
      }
     },
     "5bd3e7c366584385b05488428046743b": {
      "model_module": "@jupyter-widgets/controls",
      "model_module_version": "1.5.0",
      "model_name": "ButtonStyleModel",
      "state": {
       "font_weight": "bold"
      }
     },
     "5bd9b35f5bb3440ba97b1eda70515c62": {
      "model_module": "@jupyter-widgets/controls",
      "model_module_version": "1.5.0",
      "model_name": "TextModel",
      "state": {
       "description": "inputs",
       "disabled": true,
       "layout": "IPY_MODEL_771541a3308c443da06b5aa39e7e1d93",
       "style": "IPY_MODEL_8108bc260d28462481d509437648528f",
       "value": "C:\\engDev\\git_mf\\ipyrun\\ipyrun\\appdata\\inputs\\inputs-docx_to_pdf.json"
      }
     },
     "5bdebc94c604499299ab79af7ca489a2": {
      "model_module": "@jupyter-widgets/base",
      "model_module_version": "1.2.0",
      "model_name": "LayoutModel",
      "state": {}
     },
     "5c1d82dfed274340abc59782dd3fa977": {
      "model_module": "@jupyter-widgets/base",
      "model_module_version": "1.2.0",
      "model_name": "LayoutModel",
      "state": {}
     },
     "5c8a015730e24f0ca7b91fdef63d00e3": {
      "model_module": "@jupyter-widgets/base",
      "model_module_version": "1.2.0",
      "model_name": "LayoutModel",
      "state": {
       "align_items": "stretch",
       "border": "dashed 0.2px green",
       "display": "flex",
       "flex_flow": "row",
       "grid_auto_columns": "True",
       "justify_content": "flex-start",
       "width": "100%"
      }
     },
     "5c8b7638a4a7420c9e026fa668c11ef9": {
      "model_module": "@jupyter-widgets/controls",
      "model_module_version": "1.5.0",
      "model_name": "ToggleButtonModel",
      "state": {
       "button_style": "info",
       "description": "inputs from file",
       "layout": "IPY_MODEL_8505b8a2e5554b1e947baf53f73f37be",
       "style": "IPY_MODEL_8dc63910ac6848f28d8fca79d40b38b7",
       "value": true
      }
     },
     "5cb66532097b4b45a0646d050ca22359": {
      "model_module": "@jupyter-widgets/base",
      "model_module_version": "1.2.0",
      "model_name": "LayoutModel",
      "state": {}
     },
     "5cc77bbfb1e84080b12200f4913d4e9a": {
      "model_module": "@jupyter-widgets/base",
      "model_module_version": "1.2.0",
      "model_name": "LayoutModel",
      "state": {
       "align_items": "stretch",
       "display": "flex",
       "flex_flow": "row",
       "grid_auto_columns": "True",
       "justify_content": "flex-end",
       "width": "90%"
      }
     },
     "5d1a2cb5d775448f82ae3b69c9062577": {
      "model_module": "@jupyter-widgets/base",
      "model_module_version": "1.2.0",
      "model_name": "LayoutModel",
      "state": {}
     },
     "5d3350194fa648a7a5ed8bff32428b05": {
      "model_module": "@jupyter-widgets/controls",
      "model_module_version": "1.5.0",
      "model_name": "VBoxModel",
      "state": {
       "children": [
        "IPY_MODEL_6f889b2dd50c4a019dca990577160932",
        "IPY_MODEL_cd7f3e72a5e5493b9efc06dc029e8ef4",
        "IPY_MODEL_d2fdcba848754e1abd13b69f4c61b9fc"
       ],
       "layout": "IPY_MODEL_f91b1fdb4f5d475aa6aa5c2cd31fa45a"
      }
     },
     "5d9898404f09402b96c9f5767399940d": {
      "model_module": "@jupyter-widgets/base",
      "model_module_version": "1.2.0",
      "model_name": "LayoutModel",
      "state": {}
     },
     "5defcb394e8d4512841f6310b234f9be": {
      "model_module": "@jupyter-widgets/controls",
      "model_module_version": "1.5.0",
      "model_name": "HBoxModel",
      "state": {
       "children": [
        "IPY_MODEL_c27c60b69a6045d1b9e63286a02a3910"
       ],
       "layout": "IPY_MODEL_7139e895b9014507bfb15389bccc39f4"
      }
     },
     "5e59eafd02604dc596fbcb2a4e182603": {
      "model_module": "@jupyter-widgets/base",
      "model_module_version": "1.2.0",
      "model_name": "LayoutModel",
      "state": {}
     },
     "5ea9109b69d64fc5bbdf1177325b7cf6": {
      "model_module": "@jupyter-widgets/controls",
      "model_module_version": "1.5.0",
      "model_name": "ButtonStyleModel",
      "state": {
       "font_weight": "bold"
      }
     },
     "5eac5eae3e5a4b86bc1b8c8e5ddcebff": {
      "model_module": "@jupyter-widgets/base",
      "model_module_version": "1.2.0",
      "model_name": "LayoutModel",
      "state": {}
     },
     "5eaf48d6c59e467795984d9d95955d1f": {
      "model_module": "@jupyter-widgets/controls",
      "model_module_version": "1.5.0",
      "model_name": "ButtonModel",
      "state": {
       "button_style": "success",
       "description": "save changes",
       "layout": "IPY_MODEL_f8ec8068e6c74df6950112fdb0c5324b",
       "style": "IPY_MODEL_4a4545b01ec14ca3a5c2f34751fd742c"
      }
     },
     "5f2cc61f376a46e195ffb6bf3fb151fd": {
      "model_module": "@jupyter-widgets/controls",
      "model_module_version": "1.5.0",
      "model_name": "ButtonStyleModel",
      "state": {
       "font_weight": "bold"
      }
     },
     "5f71e8f742c8456db4ba1b6406b8cf29": {
      "model_module": "@jupyter-widgets/controls",
      "model_module_version": "1.5.0",
      "model_name": "CheckboxModel",
      "state": {
       "disabled": false,
       "indent": false,
       "layout": "IPY_MODEL_78fb27c9326244818dcd47609fe4f0de",
       "style": "IPY_MODEL_3eedcb8915794b629a966ad52e5fbab3",
       "value": false
      }
     },
     "5fd9240ed7be4ce2ae219f84ba15a1a5": {
      "model_module": "@jupyter-widgets/controls",
      "model_module_version": "1.5.0",
      "model_name": "HTMLModel",
      "state": {
       "layout": "IPY_MODEL_169d10df919645c0bcec9fc951e82472",
       "style": "IPY_MODEL_2cf40c97262e4c15aabb3248554db5f5",
       "value": "<p>3</p>"
      }
     },
     "5feaaaa67fec4720beb65a8b96f14bdf": {
      "model_module": "@jupyter-widgets/base",
      "model_module_version": "1.2.0",
      "model_name": "LayoutModel",
      "state": {
       "align_items": "stretch",
       "display": "flex",
       "flex_flow": "row",
       "grid_auto_columns": "True",
       "justify_content": "flex-start",
       "width": "80%"
      }
     },
     "5ff65e3075eb4db0a18bff926eb44ec8": {
      "model_module": "@jupyter-widgets/base",
      "model_module_version": "1.2.0",
      "model_name": "LayoutModel",
      "state": {
       "align_items": "stretch",
       "display": "flex",
       "flex_flow": "row",
       "grid_auto_columns": "True",
       "justify_content": "flex-start",
       "width": "80%"
      }
     },
     "600f104ee6a443eca0d0a1285284f7ae": {
      "model_module": "@jupyter-widgets/base",
      "model_module_version": "1.2.0",
      "model_name": "LayoutModel",
      "state": {
       "align_items": "stretch",
       "display": "flex",
       "flex_flow": "row",
       "grid_auto_columns": "True",
       "justify_content": "flex-start",
       "width": "80%"
      }
     },
     "605b5f8abcc04e4fa44e4c2faea8939e": {
      "model_module": "@jupyter-widgets/controls",
      "model_module_version": "1.5.0",
      "model_name": "AccordionModel",
      "state": {
       "_titles": {
        "0": "gbxml"
       },
       "children": [
        "IPY_MODEL_0d806745c3ea487f826c010888ad1c7d"
       ],
       "layout": "IPY_MODEL_9ebe8a8cf3c246d39a0765a2d367f5ec"
      }
     },
     "6062b4cd33544fc9aa55ee30b8775888": {
      "model_module": "@jupyter-widgets/controls",
      "model_module_version": "1.5.0",
      "model_name": "DescriptionStyleModel",
      "state": {
       "description_width": ""
      }
     },
     "60b971f1919b40c9a4ad88bc97c13eb1": {
      "model_module": "@jupyter-widgets/base",
      "model_module_version": "1.2.0",
      "model_name": "LayoutModel",
      "state": {
       "height": "30px",
       "width": "auto"
      }
     },
     "60f5d6b395eb42848dab4fdbbfa2499c": {
      "model_module": "@jupyter-widgets/controls",
      "model_module_version": "1.5.0",
      "model_name": "DescriptionStyleModel",
      "state": {
       "description_width": ""
      }
     },
     "6125f497e66f48d99a5b0f3be23b3adf": {
      "model_module": "@jupyter-widgets/base",
      "model_module_version": "1.2.0",
      "model_name": "LayoutModel",
      "state": {}
     },
     "612659eecbe242bab5b969aa19f12520": {
      "model_module": "@jupyter-widgets/controls",
      "model_module_version": "1.5.0",
      "model_name": "ButtonStyleModel",
      "state": {
       "font_weight": "bold"
      }
     },
     "612a17732a7841608f3434bc001fb305": {
      "model_module": "@jupyter-widgets/base",
      "model_module_version": "1.2.0",
      "model_name": "LayoutModel",
      "state": {
       "height": "30px",
       "width": "auto"
      }
     },
     "613ada6219e2467f9920058e82895851": {
      "model_module": "@jupyter-widgets/controls",
      "model_module_version": "1.5.0",
      "model_name": "TextModel",
      "state": {
       "description": "script",
       "disabled": true,
       "layout": "IPY_MODEL_f2b5aa0698a8496ebd04fa00e08b8e4a",
       "style": "IPY_MODEL_74dc63f408094a7d8f4c5bb370ae268d",
       "value": "C:\\engDev\\git_mf\\MF_Toolbox\\dev\\mf_scripts\\docx_to_pdf.py"
      }
     },
     "61745ae1e95b4c1094b5ffd8f1d78465": {
      "model_module": "@jupyter-widgets/controls",
      "model_module_version": "1.5.0",
      "model_name": "ButtonStyleModel",
      "state": {}
     },
     "6174e8e65dd84253b0809f3105411396": {
      "model_module": "@jupyter-widgets/controls",
      "model_module_version": "1.5.0",
      "model_name": "HBoxModel",
      "state": {
       "children": [
        "IPY_MODEL_c517e3cc73554622be07270a26e49e91",
        "IPY_MODEL_28476acb611d4f57810bd0bccb85bf6a",
        "IPY_MODEL_9de82b5f1e444c4cb1a91c1abbceb894"
       ],
       "layout": "IPY_MODEL_50290ee33e724ebf91b0b047e979dc1f"
      }
     },
     "61b317057d044943b939fa27f3c00feb": {
      "model_module": "@jupyter-widgets/base",
      "model_module_version": "1.2.0",
      "model_name": "LayoutModel",
      "state": {
       "align_items": "stretch",
       "border": "dashed 0.2px green",
       "display": "flex",
       "flex_flow": "row",
       "grid_auto_columns": "True",
       "justify_content": "flex-start",
       "width": "100%"
      }
     },
     "61bf2b6a3d774182918bf6e90326f45c": {
      "model_module": "@jupyter-widgets/controls",
      "model_module_version": "1.5.0",
      "model_name": "DescriptionStyleModel",
      "state": {
       "description_width": ""
      }
     },
     "61d8bb9dd8904b378ba7875d7a89cf57": {
      "model_module": "@jupyter-widgets/controls",
      "model_module_version": "1.5.0",
      "model_name": "SelectMultipleModel",
      "state": {
       "_options_labels": [
        "C:\\engDev\\git_mf\\ipyrun\\data\\raw\\gbxml.xml",
        "C:\\engDev\\git_mf\\ipyrun\\data\\interim\\gbjson.json",
        "C:\\engDev\\git_mf\\ipyrun\\data\\processed\\gbxml_datagrab.xlsx",
        "C:\\engDev\\git_mf\\ipyrun\\data\\processed\\gbxml_spcs-treemap.png"
       ],
       "description": "outputs",
       "index": [],
       "layout": "IPY_MODEL_e200fb6aac114b78ae82739566d2ea97",
       "rows": 4,
       "style": "IPY_MODEL_62342a6fcaf2439a84649c58454df920"
      }
     },
     "61e80c13c1734cee81e3ae4562224ac2": {
      "model_module": "@jupyter-widgets/controls",
      "model_module_version": "1.5.0",
      "model_name": "DescriptionStyleModel",
      "state": {
       "description_width": ""
      }
     },
     "62342a6fcaf2439a84649c58454df920": {
      "model_module": "@jupyter-widgets/controls",
      "model_module_version": "1.5.0",
      "model_name": "DescriptionStyleModel",
      "state": {
       "description_width": ""
      }
     },
     "6258cc600cc74c268b438f108c77de9e": {
      "model_module": "@jupyter-widgets/base",
      "model_module_version": "1.2.0",
      "model_name": "LayoutModel",
      "state": {
       "width": "5%"
      }
     },
     "6296f0b3fe1f41d68abcbc159a4a4eac": {
      "model_module": "@jupyter-widgets/controls",
      "model_module_version": "1.5.0",
      "model_name": "ButtonStyleModel",
      "state": {
       "font_weight": "bold"
      }
     },
     "62971dcd65d349a8b8a192f807c1c2a8": {
      "model_module": "@jupyter-widgets/base",
      "model_module_version": "1.2.0",
      "model_name": "LayoutModel",
      "state": {
       "align_items": "stretch",
       "display": "flex",
       "flex_flow": "row",
       "grid_auto_columns": "True",
       "justify_content": "flex-start",
       "width": "80%"
      }
     },
     "62c3f81ae42b4f56857b592d6383e6a4": {
      "model_module": "@jupyter-widgets/controls",
      "model_module_version": "1.5.0",
      "model_name": "ButtonStyleModel",
      "state": {
       "font_weight": "bold"
      }
     },
     "62f6d8667b1e4ba1beeca0f1aca6ba15": {
      "model_module": "@jupyter-widgets/controls",
      "model_module_version": "1.5.0",
      "model_name": "HTMLModel",
      "state": {
       "layout": "IPY_MODEL_29e4da79aa71462e8845bc318e64e761",
       "style": "IPY_MODEL_7ff7ddb699704e279c6a3a7b4fa0d406",
       "value": "<p>input gbxml filepath</p>"
      }
     },
     "62f6efef7aa14908a84a31744091d732": {
      "model_module": "@jupyter-widgets/controls",
      "model_module_version": "1.5.0",
      "model_name": "ButtonModel",
      "state": {
       "button_style": "info",
       "description": "preview outputs",
       "layout": "IPY_MODEL_16f078f1dee241abba37c9a00c49a89f",
       "style": "IPY_MODEL_d6d9e71aeee34259b8e1f866d37e0a9d",
       "tooltip": "show a preview of the output files generated when the script runs"
      }
     },
     "6334f6089f62405594bf001789a9e547": {
      "model_module": "@jupyter-widgets/controls",
      "model_module_version": "1.5.0",
      "model_name": "ButtonModel",
      "state": {
       "button_style": "warning",
       "description": "edit inputs",
       "layout": "IPY_MODEL_590da44be5ee4a4bab6e088f816c4978",
       "style": "IPY_MODEL_8221685e9f9b41798e9c2a82dca37aee",
       "tooltip": "edit the user input information that is used when the script is executed"
      }
     },
     "6353ea623e444529b3f74edd2fde6618": {
      "model_module": "@jupyter-widgets/controls",
      "model_module_version": "1.5.0",
      "model_name": "ButtonModel",
      "state": {
       "button_style": "info",
       "description": "show guide",
       "layout": "IPY_MODEL_a93dfbd7aefd4f5a8c01f5a0e536167c",
       "style": "IPY_MODEL_9572ba4005364a3281dd3e29d0c463aa",
       "tooltip": "read the \"docstring\", ie. the documentation that was written to accompany the script"
      }
     },
     "6360fd914e8f46ffa85fc3e4917a7a68": {
      "model_module": "@jupyter-widgets/base",
      "model_module_version": "1.2.0",
      "model_name": "LayoutModel",
      "state": {}
     },
     "638813eadc394c8aaad1db79735d4d25": {
      "model_module": "@jupyter-widgets/controls",
      "model_module_version": "1.5.0",
      "model_name": "RadioButtonsModel",
      "state": {
       "_options_labels": [
        "TEMPLATE: C:\\engDev\\git_mf\\MF_Toolbox\\dev\\mf_scripts\\template_inputs\\inputs-gbxml.json",
        "PROJECT: C:\\engDev\\git_mf\\ipyrun\\ipyrun\\appdata\\inputs\\inputs-gbxml.json"
       ],
       "index": 0,
       "layout": "IPY_MODEL_4f3bb713250a4b9dbbcc16d4ed2eb908",
       "style": "IPY_MODEL_36d3667016164e8aa4e9db2204a90ed5"
      }
     },
     "6409dc9999e94f4c8ca9a07c0b683268": {
      "model_module": "@jupyter-widgets/base",
      "model_module_version": "1.2.0",
      "model_name": "LayoutModel",
      "state": {}
     },
     "642a58eab39d4305a818f4dfff4445db": {
      "model_module": "@jupyter-widgets/base",
      "model_module_version": "1.2.0",
      "model_name": "LayoutModel",
      "state": {}
     },
     "6437783cd2a24720a67bf7bf252800d0": {
      "model_module": "@jupyter-widgets/controls",
      "model_module_version": "1.5.0",
      "model_name": "VBoxModel",
      "state": {
       "children": [
        "IPY_MODEL_465ee7ee421047ddb7b204a742d4ffce",
        "IPY_MODEL_8d72a5ffac3e4816883e2b3ded2a2fb7",
        "IPY_MODEL_9c3c8e6d9be3416d8cc932b259d9c306",
        "IPY_MODEL_0afe16b1ce3c48ab9b8f6c6fc272311e",
        "IPY_MODEL_5defcb394e8d4512841f6310b234f9be"
       ],
       "layout": "IPY_MODEL_ceb004a320074e3b9092b966d6f52294"
      }
     },
     "652dc67a012540db9fe40d2ca9b8bd3f": {
      "model_module": "@jupyter-widgets/controls",
      "model_module_version": "1.5.0",
      "model_name": "DescriptionStyleModel",
      "state": {
       "description_width": ""
      }
     },
     "659708c829694a6cb5930c397b39f4c8": {
      "model_module": "@jupyter-widgets/controls",
      "model_module_version": "1.5.0",
      "model_name": "HBoxModel",
      "state": {
       "children": [
        "IPY_MODEL_9f965f31e6b94e32a5a34c5d389769dd"
       ],
       "layout": "IPY_MODEL_5300378e35314da0b04c30d66ee66c04"
      }
     },
     "65a441233c95454daed754ccb33ac552": {
      "model_module": "@jupyter-widgets/controls",
      "model_module_version": "1.5.0",
      "model_name": "TextModel",
      "state": {
       "layout": "IPY_MODEL_781da034136a4497a6e20d2c06d0dd6a",
       "style": "IPY_MODEL_eaa5da23712d45bfbc5e52576e1dcd04",
       "value": "SpaceId"
      }
     },
     "662762ec386d45d883ca95456f4d8461": {
      "model_module": "@jupyter-widgets/controls",
      "model_module_version": "1.5.0",
      "model_name": "DescriptionStyleModel",
      "state": {
       "description_width": ""
      }
     },
     "6693ecaec0f446bbac51b120005c7810": {
      "model_module": "@jupyter-widgets/controls",
      "model_module_version": "1.5.0",
      "model_name": "HBoxModel",
      "state": {
       "children": [
        "IPY_MODEL_98c535a29adc4384a8e1e2dcdab1d410",
        "IPY_MODEL_4006797831b847b899f90f4a2b4e0342"
       ],
       "layout": "IPY_MODEL_44dbec9ec6a14cbd89160eaecbf1f2fe"
      }
     },
     "669e110025a14a5aae8f23eac2cc5a2d": {
      "model_module": "@jupyter-widgets/base",
      "model_module_version": "1.2.0",
      "model_name": "LayoutModel",
      "state": {}
     },
     "66b6050123444eab8c15c7bf4ec8384e": {
      "model_module": "@jupyter-widgets/controls",
      "model_module_version": "1.5.0",
      "model_name": "VBoxModel",
      "state": {
       "children": [
        "IPY_MODEL_75840e40a1854c4ba8706cfda8cc2b10",
        "IPY_MODEL_0f66b8fffc8040f58381387135e9f240",
        "IPY_MODEL_21a90cfbedb6415c8007688ae86acb3d"
       ],
       "layout": "IPY_MODEL_fecd2dc4a25d4b9f8dc27d1e24a34b71"
      }
     },
     "66d420112c264e86935272219a400215": {
      "model_module": "@jupyter-widgets/controls",
      "model_module_version": "1.5.0",
      "model_name": "TextModel",
      "state": {
       "description": "inputs",
       "disabled": true,
       "layout": "IPY_MODEL_d331ef3a0f454afa86509183223ca921",
       "style": "IPY_MODEL_96cd1e50b59f4d8da7f8d9510c2e442c",
       "value": "C:\\engDev\\git_mf\\ipyrun\\ipyrun\\appdata\\inputs\\inputs-gbxml.json"
      }
     },
     "6705ab7c85e74fb3a56a11d107ce854b": {
      "model_module": "@jupyter-widgets/base",
      "model_module_version": "1.2.0",
      "model_name": "LayoutModel",
      "state": {}
     },
     "6759d0252d7c450ba979ea70c64e7777": {
      "model_module": "@jupyter-widgets/base",
      "model_module_version": "1.2.0",
      "model_name": "LayoutModel",
      "state": {
       "align_items": "stretch",
       "border": "dashed 0.2px green",
       "display": "flex",
       "flex_flow": "row",
       "grid_auto_columns": "True",
       "justify_content": "flex-start",
       "width": "100%"
      }
     },
     "676b5650268842f6a7bafc63fdf5c0ac": {
      "model_module": "@jupyter-widgets/controls",
      "model_module_version": "1.5.0",
      "model_name": "ButtonStyleModel",
      "state": {
       "font_weight": "bold"
      }
     },
     "678b80f6805c475a85506a09a6f615a5": {
      "model_module": "@jupyter-widgets/base",
      "model_module_version": "1.2.0",
      "model_name": "LayoutModel",
      "state": {}
     },
     "67af0c2104224fa583997e5c4577cb82": {
      "model_module": "@jupyter-widgets/controls",
      "model_module_version": "1.5.0",
      "model_name": "TextModel",
      "state": {
       "layout": "IPY_MODEL_484bb48e088c4b4e90b2cc585df61193",
       "style": "IPY_MODEL_366cae10b7f443ccbbf18fb9dc408276",
       "value": "C:\\engDev\\git_mf\\MF_Toolbox\\dev\\examples\\gbxml\\105_LiveseyExchange_heatpump-normal-fabric.xml"
      }
     },
     "67b50106a4ab4c059e30f18ca17d9927": {
      "model_module": "@jupyter-widgets/output",
      "model_module_version": "1.0.0",
      "model_name": "OutputModel",
      "state": {
       "layout": "IPY_MODEL_0c433a1cbcfc47309ccc73039830f410"
      }
     },
     "67c747d824f04181a44f69594ef068fe": {
      "model_module": "@jupyter-widgets/controls",
      "model_module_version": "1.5.0",
      "model_name": "HBoxModel",
      "state": {
       "children": [
        "IPY_MODEL_c66ffe990e57431e881cb885aef2a996",
        "IPY_MODEL_a8d88a7d167847c8af1fce0684bca67b"
       ],
       "layout": "IPY_MODEL_3c2cc0fc48034f61ac91cf2367988694"
      }
     },
     "67f0977bb6e440f0b1ee7969f18b28c3": {
      "model_module": "@jupyter-widgets/controls",
      "model_module_version": "1.5.0",
      "model_name": "TextModel",
      "state": {
       "layout": "IPY_MODEL_5bdebc94c604499299ab79af7ca489a2",
       "style": "IPY_MODEL_2392d9142aba4b37a28aa8b8deb05d88",
       "value": "TM46Category"
      }
     },
     "68157f888ac24425bf6dc7aa3bcab415": {
      "model_module": "@jupyter-widgets/base",
      "model_module_version": "1.2.0",
      "model_name": "LayoutModel",
      "state": {}
     },
     "68b16a11b8da4dcfb8ced0e8226e6b2b": {
      "model_module": "@jupyter-widgets/base",
      "model_module_version": "1.2.0",
      "model_name": "LayoutModel",
      "state": {
       "align_items": "stretch",
       "width": "100%"
      }
     },
     "68c99a7ac33c464f948085036d503566": {
      "model_module": "@jupyter-widgets/controls",
      "model_module_version": "1.5.0",
      "model_name": "ButtonModel",
      "state": {
       "icon": "eye-slash",
       "layout": "IPY_MODEL_a70af20fa7d64ed6a1248496dcdd6e83",
       "style": "IPY_MODEL_40e7a3a9d9f14f5fab13d8a5dbbeb483",
       "tooltip": "removes temporary output view"
      }
     },
     "68d53d4189bf473795fd8d991e03f678": {
      "model_module": "@jupyter-widgets/controls",
      "model_module_version": "1.5.0",
      "model_name": "HBoxModel",
      "state": {
       "children": [
        "IPY_MODEL_025bd99ad7f24a549dd94ed323063617",
        "IPY_MODEL_44e2141777fb41efbefaeb15ce0a3383"
       ],
       "layout": "IPY_MODEL_600f104ee6a443eca0d0a1285284f7ae"
      }
     },
     "6901af50596147378b39872ce97ec729": {
      "model_module": "@jupyter-widgets/controls",
      "model_module_version": "1.5.0",
      "model_name": "VBoxModel",
      "state": {
       "children": [
        "IPY_MODEL_a06af01e2e9b46ce8fc0a7881f3b7346",
        "IPY_MODEL_fb92fc814ee94fb2a9c486b0d1b15dda",
        "IPY_MODEL_2eb5f7482a7d4f2084781b65a1a08097"
       ],
       "layout": "IPY_MODEL_a431d0a5c8074e0989e96144e2f47745"
      }
     },
     "692fc837124041fdaa964141e7a09424": {
      "model_module": "@jupyter-widgets/base",
      "model_module_version": "1.2.0",
      "model_name": "LayoutModel",
      "state": {
       "align_items": "stretch",
       "width": "100%"
      }
     },
     "6967e61590004b20a635a1278db4fb78": {
      "model_module": "@jupyter-widgets/controls",
      "model_module_version": "1.5.0",
      "model_name": "ButtonModel",
      "state": {
       "button_style": "info",
       "description": "preview outputs",
       "layout": "IPY_MODEL_b39d7f0b6a524beca1ef6e7077384a14",
       "style": "IPY_MODEL_ca553299bc40487d90b580fd1f147eb8",
       "tooltip": "show a preview of the output files generated when the script runs"
      }
     },
     "697875233b004a43991a1730578ad1e2": {
      "model_module": "@jupyter-widgets/controls",
      "model_module_version": "1.5.0",
      "model_name": "ButtonModel",
      "state": {
       "icon": "question-circle",
       "layout": "IPY_MODEL_ffdb90d6d6bc42f7aa2c82ccd732e6a8",
       "style": "IPY_MODEL_0526ba5a1b1a46f79a81a48043f0c42f",
       "tooltip": "describes the functionality of elements in the RunApp interface"
      }
     },
     "69c45a1dd4af43168d60411eeec718a7": {
      "model_module": "@jupyter-widgets/controls",
      "model_module_version": "1.5.0",
      "model_name": "SelectMultipleModel",
      "state": {
       "_options_labels": [
        "C:\\engDev\\git_mf\\ipyrun\\data\\raw\\gbxml.xml",
        "C:\\engDev\\git_mf\\ipyrun\\data\\interim\\gbjson.json",
        "C:\\engDev\\git_mf\\ipyrun\\data\\processed\\gbxml_datagrab.xlsx",
        "C:\\engDev\\git_mf\\ipyrun\\data\\processed\\gbxml_spcs-treemap.png"
       ],
       "description": "outputs",
       "index": [],
       "layout": "IPY_MODEL_d49a5aa0863447b7b1eac90bf32c5922",
       "rows": 4,
       "style": "IPY_MODEL_61bf2b6a3d774182918bf6e90326f45c"
      }
     },
     "6a04a0ed54ba469f9772b157daf26584": {
      "model_module": "@jupyter-widgets/base",
      "model_module_version": "1.2.0",
      "model_name": "LayoutModel",
      "state": {}
     },
     "6a75b43907bd45f4b0ba8d3db05bf3c8": {
      "model_module": "@jupyter-widgets/controls",
      "model_module_version": "1.5.0",
      "model_name": "DescriptionStyleModel",
      "state": {
       "description_width": ""
      }
     },
     "6a82ec8764784cf7a0e3c52eade70f9e": {
      "model_module": "@jupyter-widgets/base",
      "model_module_version": "1.2.0",
      "model_name": "LayoutModel",
      "state": {
       "align_items": "stretch",
       "border": "dashed 0.2px green",
       "display": "flex",
       "flex_flow": "row",
       "grid_auto_columns": "True",
       "justify_content": "flex-start",
       "width": "100%"
      }
     },
     "6a850f1e6b6a41b688d83bcfc090942f": {
      "model_module": "@jupyter-widgets/controls",
      "model_module_version": "1.5.0",
      "model_name": "ButtonModel",
      "state": {
       "button_style": "info",
       "description": "show guide",
       "layout": "IPY_MODEL_881efe3bf5734c7b878920b7bf848877",
       "style": "IPY_MODEL_47b905030c2847cd9159c8f32eb3520c",
       "tooltip": "read the \"docstring\", ie. the documentation that was written to accompany the script"
      }
     },
     "6b1b892ca9084581afe3130b77b1d760": {
      "model_module": "@jupyter-widgets/controls",
      "model_module_version": "1.5.0",
      "model_name": "DescriptionStyleModel",
      "state": {
       "description_width": ""
      }
     },
     "6b4e3dfb1ae3450c9af48ac00f0423eb": {
      "model_module": "@jupyter-widgets/controls",
      "model_module_version": "1.5.0",
      "model_name": "ButtonModel",
      "state": {
       "button_style": "info",
       "description": "show log",
       "layout": "IPY_MODEL_1c7d853e15614ce2bef6f82d869c50fb",
       "style": "IPY_MODEL_b99a036947e64952b2646c9fc9caa43b",
       "tooltip": "show a log of when the script was executed to generate the outputs, and by who"
      }
     },
     "6b6780a9d71d4df28f6087bf031e239a": {
      "model_module": "@jupyter-widgets/controls",
      "model_module_version": "1.5.0",
      "model_name": "CheckboxModel",
      "state": {
       "disabled": false,
       "indent": false,
       "layout": "IPY_MODEL_48e4fb2e0f304731ae4f34556a57c1d9",
       "style": "IPY_MODEL_6be5c9f7366645ea9f0c8e80448236fb",
       "value": false
      }
     },
     "6be290eef759462a9f03dfbb269691a1": {
      "model_module": "@jupyter-widgets/controls",
      "model_module_version": "1.5.0",
      "model_name": "ButtonStyleModel",
      "state": {
       "font_weight": "bold"
      }
     },
     "6be5c9f7366645ea9f0c8e80448236fb": {
      "model_module": "@jupyter-widgets/controls",
      "model_module_version": "1.5.0",
      "model_name": "DescriptionStyleModel",
      "state": {
       "description_width": ""
      }
     },
     "6bee356173ef43058c577c05c9d09d8c": {
      "model_module": "@jupyter-widgets/base",
      "model_module_version": "1.2.0",
      "model_name": "LayoutModel",
      "state": {}
     },
     "6c490fb9edf54bcf8932de04860f1e58": {
      "model_module": "@jupyter-widgets/controls",
      "model_module_version": "1.5.0",
      "model_name": "ToggleButtonModel",
      "state": {
       "button_style": "info",
       "description": "inputs from file",
       "layout": "IPY_MODEL_5ab586c78e364aa7a080e4702087b537",
       "style": "IPY_MODEL_94962d05af88460c81db9ccf3bbe2e88"
      }
     },
     "6c63e810a84947bf809bdbb4a6172eae": {
      "model_module": "@jupyter-widgets/base",
      "model_module_version": "1.2.0",
      "model_name": "LayoutModel",
      "state": {
       "width": "5%"
      }
     },
     "6c882d7e53a14fff9cbfbc3fdf196579": {
      "model_module": "@jupyter-widgets/output",
      "model_module_version": "1.0.0",
      "model_name": "OutputModel",
      "state": {
       "layout": "IPY_MODEL_ed883d23ef884acda69569ca80cb196c"
      }
     },
     "6cbc80a30a3a497ba36c3b54b01f4188": {
      "model_module": "@jupyter-widgets/controls",
      "model_module_version": "1.5.0",
      "model_name": "HTMLModel",
      "state": {
       "layout": "IPY_MODEL_539966937a0c4cc18b9933be4d79186c",
       "style": "IPY_MODEL_91c34f2aa4244adeb789387ee2500170",
       "value": "<p>2nd section of space name code</p>"
      }
     },
     "6d0b5334bd3d4879b99e560a5a6e18a5": {
      "model_module": "@jupyter-widgets/controls",
      "model_module_version": "1.5.0",
      "model_name": "VBoxModel",
      "state": {
       "children": [
        "IPY_MODEL_d79012d410984fe895c6bddc762dcfb8",
        "IPY_MODEL_b20cca81f63f4bf1bb1be4e73e2dd2b7",
        "IPY_MODEL_a8a8ad4d5ab74b76b9ff88b99599fea1"
       ],
       "layout": "IPY_MODEL_692fc837124041fdaa964141e7a09424"
      }
     },
     "6d36fa3a3fd54c048a3b656a705fe130": {
      "model_module": "@jupyter-widgets/base",
      "model_module_version": "1.2.0",
      "model_name": "LayoutModel",
      "state": {
       "align_items": "stretch",
       "width": "100%"
      }
     },
     "6d43809a4d4a41db929e181f9f057ebe": {
      "model_module": "@jupyter-widgets/controls",
      "model_module_version": "1.5.0",
      "model_name": "ButtonStyleModel",
      "state": {
       "font_weight": "bold"
      }
     },
     "6d5e8d3d4a984b9891d944a6c0cb1e84": {
      "model_module": "@jupyter-widgets/controls",
      "model_module_version": "1.5.0",
      "model_name": "HBoxModel",
      "state": {
       "children": [
        "IPY_MODEL_750e44ced6574f80be4d6bb5fe31562d",
        "IPY_MODEL_1deeda7b16ba4aab803d1a1429f7d152"
       ],
       "layout": "IPY_MODEL_a6f7517e9a5d4d65a91bd25eb6a18b18"
      }
     },
     "6db5fcba221c480d9cdccf90668683d9": {
      "model_module": "@jupyter-widgets/controls",
      "model_module_version": "1.5.0",
      "model_name": "ButtonStyleModel",
      "state": {
       "font_weight": "bold"
      }
     },
     "6dc110c74b664196873bc61cc2de6240": {
      "model_module": "@jupyter-widgets/controls",
      "model_module_version": "1.5.0",
      "model_name": "HTMLModel",
      "state": {
       "layout": "IPY_MODEL_678b80f6805c475a85506a09a6f615a5",
       "style": "IPY_MODEL_18300360fc12485c880d97bd5f3c8539",
       "value": "<p>spc_name_index</p>"
      }
     },
     "6e62191a14644dc1b8c89c1ff2d64e48": {
      "model_module": "@jupyter-widgets/base",
      "model_module_version": "1.2.0",
      "model_name": "LayoutModel",
      "state": {
       "width": "100%"
      }
     },
     "6e6c4c3ac67e44c899dcf05ad9fba09d": {
      "model_module": "@jupyter-widgets/base",
      "model_module_version": "1.2.0",
      "model_name": "LayoutModel",
      "state": {
       "align_items": "stretch",
       "display": "flex",
       "flex_flow": "row",
       "grid_auto_columns": "True",
       "justify_content": "flex-end",
       "width": "90%"
      }
     },
     "6ef87981077b4aa3bda412e1630543b9": {
      "model_module": "@jupyter-widgets/base",
      "model_module_version": "1.2.0",
      "model_name": "LayoutModel",
      "state": {
       "align_items": "stretch",
       "display": "flex",
       "flex_flow": "row",
       "grid_auto_columns": "True",
       "justify_content": "flex-start",
       "width": "80%"
      }
     },
     "6f25014545e54e6fa7c28b93f5ee82c9": {
      "model_module": "@jupyter-widgets/controls",
      "model_module_version": "1.5.0",
      "model_name": "VBoxModel",
      "state": {
       "children": [
        "IPY_MODEL_40c49f41378d4bc9a0872d604226bf17",
        "IPY_MODEL_d412a62f53164865affa54d0754dbc87",
        "IPY_MODEL_b67482ece07f45398a8c9379567079b2"
       ],
       "layout": "IPY_MODEL_3b77707cf365429cae32abbe8cd554a0"
      }
     },
     "6f3d199388c5447f8635d954624f6b9e": {
      "model_module": "@jupyter-widgets/controls",
      "model_module_version": "1.5.0",
      "model_name": "ButtonModel",
      "state": {
       "button_style": "info",
       "description": "show source code",
       "layout": "IPY_MODEL_83ea3d8a2b634dec86ee57014e794713",
       "style": "IPY_MODEL_c718f1deab454dcfa1b0139aa305342f",
       "tooltip": "shows the raw python code in the preview window below"
      }
     },
     "6f889b2dd50c4a019dca990577160932": {
      "model_module": "@jupyter-widgets/controls",
      "model_module_version": "1.5.0",
      "model_name": "TextModel",
      "state": {
       "description": "inputs",
       "disabled": true,
       "layout": "IPY_MODEL_e0507420668a49d6855c9e61e3648fd0",
       "style": "IPY_MODEL_089f94ae4afd42aebb1ace6eeaa4c469",
       "value": "C:\\engDev\\git_mf\\ipyrun\\ipyrun\\notebooks\\appdata\\inputs\\inputs-eplus_pipework_params.csv"
      }
     },
     "6fd84ba0d8c844f08941439d7d53a799": {
      "model_module": "@jupyter-widgets/output",
      "model_module_version": "1.0.0",
      "model_name": "OutputModel",
      "state": {
       "layout": "IPY_MODEL_c75224e5dabd47369bec7a7f79c8dd7d"
      }
     },
     "6ffd714630a940d1a446ce21dfc3299a": {
      "model_module": "@jupyter-widgets/controls",
      "model_module_version": "1.5.0",
      "model_name": "HBoxModel",
      "state": {
       "children": [
        "IPY_MODEL_7256d760c96c499480bd57314457e677",
        "IPY_MODEL_b1c782c5d5dd4411853e6bf669e9e9eb"
       ],
       "layout": "IPY_MODEL_1d9c6b8f08b84d04ad786e8fa5e08232"
      }
     },
     "70545519efbb4241873f12284f4c2d1b": {
      "model_module": "@jupyter-widgets/controls",
      "model_module_version": "1.5.0",
      "model_name": "VBoxModel",
      "state": {
       "children": [
        "IPY_MODEL_66d420112c264e86935272219a400215",
        "IPY_MODEL_c66323596c934f9890728ee92dffc5ea",
        "IPY_MODEL_a7e171e914f04d649afa1dd06db1287f"
       ],
       "layout": "IPY_MODEL_de8d52033e4d4aa68edb4cdcb6bdb6ac"
      }
     },
     "7079567e83754bdbadc747ffe45a6b0b": {
      "model_module": "@jupyter-widgets/base",
      "model_module_version": "1.2.0",
      "model_name": "LayoutModel",
      "state": {}
     },
     "7098d4cbde8447c1b14744df9a4051f7": {
      "model_module": "@jupyter-widgets/controls",
      "model_module_version": "1.5.0",
      "model_name": "HBoxModel",
      "state": {
       "children": [
        "IPY_MODEL_e5062e3fb5fc4a19b315e6064eaa4107",
        "IPY_MODEL_19c0a920a7d34a5bbd7ad3fd13c654be"
       ],
       "layout": "IPY_MODEL_d94d0de400694be29139e22666d58184"
      }
     },
     "70e56694c5f9452ebbb385e4370b8e30": {
      "model_module": "@jupyter-widgets/base",
      "model_module_version": "1.2.0",
      "model_name": "LayoutModel",
      "state": {
       "align_items": "stretch",
       "border": "dashed 0.2px green",
       "display": "flex",
       "flex_flow": "row",
       "grid_auto_columns": "True",
       "justify_content": "flex-start",
       "width": "100%"
      }
     },
     "70e85cf423164e22814f8c34852b71e8": {
      "model_module": "@jupyter-widgets/controls",
      "model_module_version": "1.5.0",
      "model_name": "ButtonStyleModel",
      "state": {
       "font_weight": "bold"
      }
     },
     "7139e895b9014507bfb15389bccc39f4": {
      "model_module": "@jupyter-widgets/base",
      "model_module_version": "1.2.0",
      "model_name": "LayoutModel",
      "state": {
       "align_items": "stretch",
       "border": "dashed 0.2px green",
       "display": "flex",
       "flex_flow": "row",
       "grid_auto_columns": "True",
       "justify_content": "flex-start",
       "width": "100%"
      }
     },
     "71b6297bb729481d984971c022f2a4ff": {
      "model_module": "@jupyter-widgets/controls",
      "model_module_version": "1.5.0",
      "model_name": "BoxModel",
      "state": {
       "children": [
        "IPY_MODEL_abd9964be58544979af70172920b99fc"
       ],
       "layout": "IPY_MODEL_eacc03b384ce48e996b42f0d4e3f5b78"
      }
     },
     "71eea345eaf148fcab369c0cca41959f": {
      "model_module": "@jupyter-widgets/base",
      "model_module_version": "1.2.0",
      "model_name": "LayoutModel",
      "state": {
       "width": "5%"
      }
     },
     "71fa605d76fb485facff6965637d1c35": {
      "model_module": "@jupyter-widgets/base",
      "model_module_version": "1.2.0",
      "model_name": "LayoutModel",
      "state": {
       "display": "flex",
       "flex_flow": "row",
       "grid_auto_columns": "False",
       "justify_content": "flex-start",
       "width": "100%"
      }
     },
     "7256d760c96c499480bd57314457e677": {
      "model_module": "@jupyter-widgets/controls",
      "model_module_version": "1.5.0",
      "model_name": "HTMLModel",
      "state": {
       "layout": "IPY_MODEL_958540287f7e48c792f162e4683fcc96",
       "style": "IPY_MODEL_ccd718ec315140bb88effb977cdcede6",
       "value": "<p>spc_name_index</p>"
      }
     },
     "72a082d357fe45afb04dd90c86d966ae": {
      "model_module": "@jupyter-widgets/controls",
      "model_module_version": "1.5.0",
      "model_name": "DescriptionStyleModel",
      "state": {
       "description_width": ""
      }
     },
     "72bfb3ad4f024e269a00093337223c16": {
      "model_module": "@jupyter-widgets/base",
      "model_module_version": "1.2.0",
      "model_name": "LayoutModel",
      "state": {}
     },
     "72f40e9ef5374c8788f2ffa9dab6272b": {
      "model_module": "@jupyter-widgets/controls",
      "model_module_version": "1.5.0",
      "model_name": "HTMLModel",
      "state": {
       "layout": "IPY_MODEL_876860927877468dac9ce32b8a77d9ee",
       "style": "IPY_MODEL_f10db965ada54f4a9737497e6cff6868",
       "value": "<p>4th section of space name code (enter None if 4th section doesn't exist)</p>"
      }
     },
     "7302fd973879441db733c8ce8a5c2383": {
      "model_module": "@jupyter-widgets/base",
      "model_module_version": "1.2.0",
      "model_name": "LayoutModel",
      "state": {}
     },
     "73162fc0abd04939ab6dc8a7bc116df4": {
      "model_module": "@jupyter-widgets/controls",
      "model_module_version": "1.5.0",
      "model_name": "HTMLModel",
      "state": {
       "layout": "IPY_MODEL_22f954b94b0448b0b3c9ba3435566a4b",
       "style": "IPY_MODEL_a50f4a32a50a495da5bcf69d81531638",
       "value": "<p>0</p>"
      }
     },
     "736579fc5d3e42e0812df032479a1f44": {
      "model_module": "@jupyter-widgets/base",
      "model_module_version": "1.2.0",
      "model_name": "LayoutModel",
      "state": {}
     },
     "73f168e181914e22a0306e6325955014": {
      "model_module": "@jupyter-widgets/controls",
      "model_module_version": "1.5.0",
      "model_name": "AccordionModel",
      "state": {
       "_titles": {
        "0": "eplus_pipework_params"
       },
       "children": [
        "IPY_MODEL_8a6e8ecf1a93428783b194c9065c05f6"
       ],
       "layout": "IPY_MODEL_75bd454db4a348868d1982fa6da35909",
       "selected_index": null
      }
     },
     "742662d2923e45c2b97e210fe91f7917": {
      "model_module": "@jupyter-widgets/controls",
      "model_module_version": "1.5.0",
      "model_name": "ButtonStyleModel",
      "state": {
       "font_weight": "bold"
      }
     },
     "744617370b8f4201a90d107569c9c2f8": {
      "model_module": "@jupyter-widgets/controls",
      "model_module_version": "1.5.0",
      "model_name": "ButtonStyleModel",
      "state": {
       "font_weight": "bold"
      }
     },
     "747f2367d951494eae98a0ae1f897b7e": {
      "model_module": "@jupyter-widgets/base",
      "model_module_version": "1.2.0",
      "model_name": "LayoutModel",
      "state": {}
     },
     "74af77a4a945440eb5275243612623ab": {
      "model_module": "@jupyter-widgets/base",
      "model_module_version": "1.2.0",
      "model_name": "LayoutModel",
      "state": {}
     },
     "74dc63f408094a7d8f4c5bb370ae268d": {
      "model_module": "@jupyter-widgets/controls",
      "model_module_version": "1.5.0",
      "model_name": "DescriptionStyleModel",
      "state": {
       "description_width": ""
      }
     },
     "74f1161371bd4498a306b93579e662d4": {
      "model_module": "@jupyter-widgets/controls",
      "model_module_version": "1.5.0",
      "model_name": "ButtonModel",
      "state": {
       "icon": "question-circle",
       "layout": "IPY_MODEL_0b6ce2956d334908b8d0f5cda2443623",
       "style": "IPY_MODEL_5656638d13c246d982e214291a37cc07",
       "tooltip": "describes the functionality of elements in the RunApp interface"
      }
     },
     "750e44ced6574f80be4d6bb5fe31562d": {
      "model_module": "@jupyter-widgets/controls",
      "model_module_version": "1.5.0",
      "model_name": "HTMLModel",
      "state": {
       "layout": "IPY_MODEL_106136b322d94184bcea49783d85d813",
       "style": "IPY_MODEL_ecf3d0b066a54e25b892b80c8b8570d7",
       "value": "<p>spc_name_index</p>"
      }
     },
     "75840e40a1854c4ba8706cfda8cc2b10": {
      "model_module": "@jupyter-widgets/controls",
      "model_module_version": "1.5.0",
      "model_name": "HBoxModel",
      "state": {
       "children": [
        "IPY_MODEL_26ddff07e73e43dab55e6b4af899d7d0",
        "IPY_MODEL_ab35b29cf95a43598791091a56f6865a",
        "IPY_MODEL_5eaf48d6c59e467795984d9d95955d1f"
       ],
       "layout": "IPY_MODEL_ec1b093f447b4ef886388c2751032ac0"
      }
     },
     "75941d3cac774513b45abf385e8f2905": {
      "model_module": "@jupyter-widgets/base",
      "model_module_version": "1.2.0",
      "model_name": "LayoutModel",
      "state": {}
     },
     "75bd454db4a348868d1982fa6da35909": {
      "model_module": "@jupyter-widgets/base",
      "model_module_version": "1.2.0",
      "model_name": "LayoutModel",
      "state": {
       "width": "100%"
      }
     },
     "760c1d74ec2a4f06b1bae32cee622baf": {
      "model_module": "@jupyter-widgets/base",
      "model_module_version": "1.2.0",
      "model_name": "LayoutModel",
      "state": {}
     },
     "765c846bb70e4037bb26b4d6f4081a86": {
      "model_module": "@jupyter-widgets/controls",
      "model_module_version": "1.5.0",
      "model_name": "DescriptionStyleModel",
      "state": {
       "description_width": ""
      }
     },
     "76684942a13c434182650f397d607a70": {
      "model_module": "@jupyter-widgets/controls",
      "model_module_version": "1.5.0",
      "model_name": "ButtonModel",
      "state": {
       "icon": "question-circle",
       "layout": "IPY_MODEL_6258cc600cc74c268b438f108c77de9e",
       "style": "IPY_MODEL_05e31d1411f14572a2efbbe3466f99ae",
       "tooltip": "describes the functionality of elements in the RunApp interface"
      }
     },
     "76a3882714ef49a8ac8a6776447841b9": {
      "model_module": "@jupyter-widgets/base",
      "model_module_version": "1.2.0",
      "model_name": "LayoutModel",
      "state": {}
     },
     "771541a3308c443da06b5aa39e7e1d93": {
      "model_module": "@jupyter-widgets/base",
      "model_module_version": "1.2.0",
      "model_name": "LayoutModel",
      "state": {
       "height": "30px",
       "width": "auto"
      }
     },
     "773c1f9f8c124e56a456284a4824588b": {
      "model_module": "@jupyter-widgets/base",
      "model_module_version": "1.2.0",
      "model_name": "LayoutModel",
      "state": {}
     },
     "7747750d68994d70938a70981d51be29": {
      "model_module": "@jupyter-widgets/base",
      "model_module_version": "1.2.0",
      "model_name": "LayoutModel",
      "state": {}
     },
     "777f9b5292454dac9a377e4765a9bf67": {
      "model_module": "@jupyter-widgets/controls",
      "model_module_version": "1.5.0",
      "model_name": "ButtonStyleModel",
      "state": {
       "font_weight": "bold"
      }
     },
     "77c2b3e1b96a47c3be374b73a383e529": {
      "model_module": "@jupyter-widgets/controls",
      "model_module_version": "1.5.0",
      "model_name": "ButtonModel",
      "state": {
       "button_style": "info",
       "description": "preview outputs",
       "layout": "IPY_MODEL_81eb8173acd144bd90ee5f8f32ced24b",
       "style": "IPY_MODEL_1c017a048049473eba99110633d2ac15",
       "tooltip": "show a preview of the output files generated when the script runs"
      }
     },
     "77d7d079e3fa4f85b448511555a3af1e": {
      "model_module": "@jupyter-widgets/base",
      "model_module_version": "1.2.0",
      "model_name": "LayoutModel",
      "state": {
       "align_items": "stretch",
       "border": "dashed 0.2px green",
       "display": "flex",
       "flex_flow": "row",
       "grid_auto_columns": "True",
       "justify_content": "flex-start",
       "width": "100%"
      }
     },
     "781da034136a4497a6e20d2c06d0dd6a": {
      "model_module": "@jupyter-widgets/base",
      "model_module_version": "1.2.0",
      "model_name": "LayoutModel",
      "state": {}
     },
     "7843abd539b246d5b0ae13fd077d1fca": {
      "model_module": "@jupyter-widgets/controls",
      "model_module_version": "1.5.0",
      "model_name": "VBoxModel",
      "state": {
       "children": [
        "IPY_MODEL_4536917106cf439394a83896e827a5b8",
        "IPY_MODEL_c99792bbd017473bb0e97229ea72873c"
       ],
       "layout": "IPY_MODEL_9f03dbb8ef77494f894e9a6349794541"
      }
     },
     "78676fd65c0e4930866f6693e0a24ed3": {
      "model_module": "@jupyter-widgets/base",
      "model_module_version": "1.2.0",
      "model_name": "LayoutModel",
      "state": {}
     },
     "787e26d02780480da6793f09cd7d343c": {
      "model_module": "@jupyter-widgets/controls",
      "model_module_version": "1.5.0",
      "model_name": "ButtonModel",
      "state": {
       "button_style": "info",
       "description": "show guide",
       "layout": "IPY_MODEL_7f69d3f80799431fb512e21075313f0c",
       "style": "IPY_MODEL_c4bb45fcc03e439cac93f8daaa44dbfc",
       "tooltip": "read the \"docstring\", ie. the documentation that was written to accompany the script"
      }
     },
     "78adee9cad5c47e5933fc4d95ae10d09": {
      "model_module": "@jupyter-widgets/controls",
      "model_module_version": "1.5.0",
      "model_name": "ButtonStyleModel",
      "state": {}
     },
     "78bc4854af934951b05a123e4f090827": {
      "model_module": "@jupyter-widgets/base",
      "model_module_version": "1.2.0",
      "model_name": "LayoutModel",
      "state": {
       "align_items": "stretch",
       "width": "100%"
      }
     },
     "78bdd6c13b984fdd94ec88e1bb14a809": {
      "model_module": "@jupyter-widgets/controls",
      "model_module_version": "1.5.0",
      "model_name": "DescriptionStyleModel",
      "state": {
       "description_width": ""
      }
     },
     "78cf882751c84f14b5b6d67e382a19cf": {
      "model_module": "@jupyter-widgets/base",
      "model_module_version": "1.2.0",
      "model_name": "LayoutModel",
      "state": {
       "width": "5%"
      }
     },
     "78f2019ca7cd4aa286cae071ee0dd8b5": {
      "model_module": "@jupyter-widgets/base",
      "model_module_version": "1.2.0",
      "model_name": "LayoutModel",
      "state": {
       "align_items": "stretch",
       "border": "dashed 0.2px green",
       "display": "flex",
       "flex_flow": "row",
       "grid_auto_columns": "True",
       "justify_content": "flex-start",
       "width": "100%"
      }
     },
     "78fb27c9326244818dcd47609fe4f0de": {
      "model_module": "@jupyter-widgets/base",
      "model_module_version": "1.2.0",
      "model_name": "LayoutModel",
      "state": {
       "height": "30px",
       "max_width": "30px",
       "padding": "3px"
      }
     },
     "7941ef5750bb42c1aedb3bc4f0effec8": {
      "model_module": "@jupyter-widgets/controls",
      "model_module_version": "1.5.0",
      "model_name": "DescriptionStyleModel",
      "state": {
       "description_width": ""
      }
     },
     "79426ae2206b47e881bfb4ff85ad5dbf": {
      "model_module": "@jupyter-widgets/base",
      "model_module_version": "1.2.0",
      "model_name": "LayoutModel",
      "state": {}
     },
     "79f820aab8a845728d27cd65868d8e1e": {
      "model_module": "@jupyter-widgets/controls",
      "model_module_version": "1.5.0",
      "model_name": "ButtonModel",
      "state": {
       "button_style": "info",
       "description": "show log",
       "layout": "IPY_MODEL_1e88b6c2b83843a0be4440c9d9acd96b",
       "style": "IPY_MODEL_bdc15ef33b2945ad89c1b550103a1b79",
       "tooltip": "show a log of when the script was executed to generate the outputs, and by who"
      }
     },
     "7a419bc470b54af28285345f47638517": {
      "model_module": "@jupyter-widgets/base",
      "model_module_version": "1.2.0",
      "model_name": "LayoutModel",
      "state": {
       "border": "0px",
       "margin": "0px",
       "padding": "0px"
      }
     },
     "7a7cb84b9a444573a5bfd76546edad3c": {
      "model_module": "@jupyter-widgets/controls",
      "model_module_version": "1.5.0",
      "model_name": "HTMLModel",
      "state": {
       "layout": "IPY_MODEL_c1ad7dacb6fc417e8927c6cb48beb22a",
       "style": "IPY_MODEL_96d996a67c4542a6af9a8db984501c2c",
       "value": "<p>4th section of space name code (enter None if 4th section doesn't exist)</p>"
      }
     },
     "7b1140bc24ee408e98aec6abbffea487": {
      "model_module": "@jupyter-widgets/output",
      "model_module_version": "1.0.0",
      "model_name": "OutputModel",
      "state": {
       "layout": "IPY_MODEL_19ef1cd8ff2d47bf9f6003704bb76975"
      }
     },
     "7b27daa297f643e5bdf95bb1fe2a7d96": {
      "model_module": "@jupyter-widgets/controls",
      "model_module_version": "1.5.0",
      "model_name": "HBoxModel",
      "state": {
       "children": [
        "IPY_MODEL_67af0c2104224fa583997e5c4577cb82",
        "IPY_MODEL_2133ed517dcb48dda3642fa0de0dbd10"
       ],
       "layout": "IPY_MODEL_cc7367ad578141028b7721468fdcb20e"
      }
     },
     "7b5155af87c6497aa83246e975b13118": {
      "model_module": "@jupyter-widgets/controls",
      "model_module_version": "1.5.0",
      "model_name": "DescriptionStyleModel",
      "state": {
       "description_width": ""
      }
     },
     "7b57280ebca34bb2b7aac5ef95a1adc2": {
      "model_module": "@jupyter-widgets/output",
      "model_module_version": "1.0.0",
      "model_name": "OutputModel",
      "state": {
       "layout": "IPY_MODEL_475f132ffe7e4a62ad9839fd22de02d3"
      }
     },
     "7bc041ba26504e92a311e877ed9d7e19": {
      "model_module": "@jupyter-widgets/controls",
      "model_module_version": "1.5.0",
      "model_name": "HBoxModel",
      "state": {
       "children": [
        "IPY_MODEL_0f4aef9c813d4dd1a2652c2057f6dd26",
        "IPY_MODEL_98b05ee650d24224a46df62f1c1c2598"
       ],
       "layout": "IPY_MODEL_3a6ccf878f994df99907a1383f5d89d1"
      }
     },
     "7c119ba3318149fdb77d8d98ed2434e4": {
      "model_module": "@jupyter-widgets/controls",
      "model_module_version": "1.5.0",
      "model_name": "DescriptionStyleModel",
      "state": {
       "description_width": ""
      }
     },
     "7c3c2931e9c141bc9de0714b28123efd": {
      "model_module": "@jupyter-widgets/controls",
      "model_module_version": "1.5.0",
      "model_name": "HTMLModel",
      "state": {
       "layout": "IPY_MODEL_42e874c939c846498039b25d1e438475",
       "style": "IPY_MODEL_6b1b892ca9084581afe3130b77b1d760",
       "value": "<p>fpth_in</p>"
      }
     },
     "7c7afcd041a64bdcb57a3f3be56806fd": {
      "model_module": "@jupyter-widgets/controls",
      "model_module_version": "1.5.0",
      "model_name": "HBoxModel",
      "state": {
       "children": [
        "IPY_MODEL_4ba8a07be18e4c8cbf177e4ebb30deb8"
       ],
       "layout": "IPY_MODEL_78f2019ca7cd4aa286cae071ee0dd8b5"
      }
     },
     "7cedc814fcec460fa2eea5d1de11df51": {
      "model_module": "@jupyter-widgets/base",
      "model_module_version": "1.2.0",
      "model_name": "LayoutModel",
      "state": {}
     },
     "7cf899801eba439a83373e4428c476d7": {
      "model_module": "@jupyter-widgets/controls",
      "model_module_version": "1.5.0",
      "model_name": "ButtonStyleModel",
      "state": {
       "font_weight": "bold"
      }
     },
     "7d07c703c6e041cdb74a70c00bee6165": {
      "model_module": "@jupyter-widgets/controls",
      "model_module_version": "1.5.0",
      "model_name": "VBoxModel",
      "state": {
       "children": [
        "IPY_MODEL_a06af01e2e9b46ce8fc0a7881f3b7346",
        "IPY_MODEL_fb92fc814ee94fb2a9c486b0d1b15dda",
        "IPY_MODEL_2eb5f7482a7d4f2084781b65a1a08097"
       ],
       "layout": "IPY_MODEL_6a04a0ed54ba469f9772b157daf26584"
      }
     },
     "7d4626a70b054f0a8b95b131ca9234fe": {
      "model_module": "@jupyter-widgets/output",
      "model_module_version": "1.0.0",
      "model_name": "OutputModel",
      "state": {
       "layout": "IPY_MODEL_5b36cc0e63cc4b4d95e6fc4dd6e6dae0"
      }
     },
     "7dfd3eca08b74946bda61cfde35e6f9d": {
      "model_module": "@jupyter-widgets/base",
      "model_module_version": "1.2.0",
      "model_name": "LayoutModel",
      "state": {}
     },
     "7e56b25b0a6042f0b9e60341cb4cfc1f": {
      "model_module": "@jupyter-widgets/controls",
      "model_module_version": "1.5.0",
      "model_name": "HBoxModel",
      "state": {
       "children": [
        "IPY_MODEL_5fd9240ed7be4ce2ae219f84ba15a1a5",
        "IPY_MODEL_301f8a6ddf5a4707a5329d02e0d7b72f"
       ],
       "layout": "IPY_MODEL_4dab7329672749bb877c7241ce538284"
      }
     },
     "7e750d3da8e34e6dbb85c6f794dc5c1c": {
      "model_module": "@jupyter-widgets/base",
      "model_module_version": "1.2.0",
      "model_name": "LayoutModel",
      "state": {
       "align_items": "stretch",
       "display": "flex",
       "flex_flow": "row",
       "grid_auto_columns": "True",
       "justify_content": "flex-end",
       "width": "90%"
      }
     },
     "7eb267cc2a7543de9286bfb412361135": {
      "model_module": "@jupyter-widgets/controls",
      "model_module_version": "1.5.0",
      "model_name": "ButtonStyleModel",
      "state": {
       "font_weight": "bold"
      }
     },
     "7ede76c00b5846238577657de33c5409": {
      "model_module": "@jupyter-widgets/base",
      "model_module_version": "1.2.0",
      "model_name": "LayoutModel",
      "state": {}
     },
     "7eeb87bf711749279f44652283af1870": {
      "model_module": "@jupyter-widgets/controls",
      "model_module_version": "1.5.0",
      "model_name": "HBoxModel",
      "state": {
       "children": [
        "IPY_MODEL_b076ddc2b77b4e91bf1c6b65af7d0bb5",
        "IPY_MODEL_0443010bf44043b9b53d778988da17f3"
       ],
       "layout": "IPY_MODEL_dd0d65f42c5245588bc19e4e5ef3e9fe"
      }
     },
     "7f3a6f2d2d4e4a748dd3d40d2ddb6c96": {
      "model_module": "@jupyter-widgets/base",
      "model_module_version": "1.2.0",
      "model_name": "LayoutModel",
      "state": {
       "align_items": "stretch",
       "width": "100%"
      }
     },
     "7f69d3f80799431fb512e21075313f0c": {
      "model_module": "@jupyter-widgets/base",
      "model_module_version": "1.2.0",
      "model_name": "LayoutModel",
      "state": {}
     },
     "7f6b2a0eb5f940c282ef9e551f1e8cfc": {
      "model_module": "@jupyter-widgets/controls",
      "model_module_version": "1.5.0",
      "model_name": "HTMLModel",
      "state": {
       "layout": "IPY_MODEL_b7ca826615f04c3a9a8f920d936050ff",
       "style": "IPY_MODEL_2d94f0561b09456aaae7adda11d8622a",
       "value": "<p>input gbxml filepath</p>"
      }
     },
     "7fde0bd830004bd898788b9613ef7bc7": {
      "model_module": "@jupyter-widgets/base",
      "model_module_version": "1.2.0",
      "model_name": "LayoutModel",
      "state": {}
     },
     "7ff7ddb699704e279c6a3a7b4fa0d406": {
      "model_module": "@jupyter-widgets/controls",
      "model_module_version": "1.5.0",
      "model_name": "DescriptionStyleModel",
      "state": {
       "description_width": ""
      }
     },
     "8022f6a06d564fd99ebde1875097ccef": {
      "model_module": "@jupyter-widgets/output",
      "model_module_version": "1.0.0",
      "model_name": "OutputModel",
      "state": {
       "layout": "IPY_MODEL_9dccff22f0774b7d8e8074d93f0dbd5c"
      }
     },
     "80a344ccf59f4036a402fb507aca0e0d": {
      "model_module": "@jupyter-widgets/base",
      "model_module_version": "1.2.0",
      "model_name": "LayoutModel",
      "state": {
       "align_items": "stretch",
       "display": "flex",
       "flex_flow": "row",
       "grid_auto_columns": "True",
       "justify_content": "flex-start",
       "width": "80%"
      }
     },
     "8100677ef25347d2ac34265f2f0f1ab9": {
      "model_module": "@jupyter-widgets/controls",
      "model_module_version": "1.5.0",
      "model_name": "VBoxModel",
      "state": {
       "children": [
        "IPY_MODEL_a06af01e2e9b46ce8fc0a7881f3b7346",
        "IPY_MODEL_fb92fc814ee94fb2a9c486b0d1b15dda",
        "IPY_MODEL_2eb5f7482a7d4f2084781b65a1a08097"
       ],
       "layout": "IPY_MODEL_e230a943215d46139a4e2a0eecbdda33"
      }
     },
     "810373ec30174731a37ac9243bbdb1aa": {
      "model_module": "@jupyter-widgets/base",
      "model_module_version": "1.2.0",
      "model_name": "LayoutModel",
      "state": {
       "align_items": "stretch",
       "display": "flex",
       "flex_flow": "row",
       "grid_auto_columns": "True",
       "justify_content": "flex-start",
       "width": "80%"
      }
     },
     "8108bc260d28462481d509437648528f": {
      "model_module": "@jupyter-widgets/controls",
      "model_module_version": "1.5.0",
      "model_name": "DescriptionStyleModel",
      "state": {
       "description_width": ""
      }
     },
     "817b88bebe8a4bbdafd7f5aad47cbbfd": {
      "model_module": "@jupyter-widgets/base",
      "model_module_version": "1.2.0",
      "model_name": "LayoutModel",
      "state": {
       "align_items": "stretch",
       "display": "flex",
       "flex_flow": "row",
       "grid_auto_columns": "True",
       "justify_content": "flex-start",
       "width": "80%"
      }
     },
     "81a3ca003d4b496483a87cd3b9b1b9b2": {
      "model_module": "@jupyter-widgets/controls",
      "model_module_version": "1.5.0",
      "model_name": "HTMLModel",
      "state": {
       "layout": "IPY_MODEL_ec427467638847fb92b38c5085875587",
       "style": "IPY_MODEL_03bdcf25b6944a6db6a86eac327bccb3",
       "value": "<p>2</p>"
      }
     },
     "81a486238bd94d8b979f86a1d74fb977": {
      "model_module": "@jupyter-widgets/base",
      "model_module_version": "1.2.0",
      "model_name": "LayoutModel",
      "state": {}
     },
     "81bbe666f9b541afaf38a281b5493ba3": {
      "model_module": "@jupyter-widgets/controls",
      "model_module_version": "1.5.0",
      "model_name": "DescriptionStyleModel",
      "state": {
       "description_width": ""
      }
     },
     "81e5eda8c1374a72a16f65de03af96ab": {
      "model_module": "@jupyter-widgets/controls",
      "model_module_version": "1.5.0",
      "model_name": "HTMLModel",
      "state": {
       "layout": "IPY_MODEL_ee8aba5838574d4497a6e78d3ae94118",
       "style": "IPY_MODEL_cf4d42d917fb4d32b552cd28bf651f16",
       "value": "<p>4</p>"
      }
     },
     "81eb8173acd144bd90ee5f8f32ced24b": {
      "model_module": "@jupyter-widgets/base",
      "model_module_version": "1.2.0",
      "model_name": "LayoutModel",
      "state": {}
     },
     "820fe9d97c2b44a1b6c6f5a7894b874c": {
      "model_module": "@jupyter-widgets/output",
      "model_module_version": "1.0.0",
      "model_name": "OutputModel",
      "state": {
       "layout": "IPY_MODEL_a7b0d983d05e4f579349664369ac2248"
      }
     },
     "8221685e9f9b41798e9c2a82dca37aee": {
      "model_module": "@jupyter-widgets/controls",
      "model_module_version": "1.5.0",
      "model_name": "ButtonStyleModel",
      "state": {
       "font_weight": "bold"
      }
     },
     "822e4c04f4f149d1931621c2e0705f43": {
      "model_module": "@jupyter-widgets/base",
      "model_module_version": "1.2.0",
      "model_name": "LayoutModel",
      "state": {
       "display": "flex",
       "flex_flow": "row",
       "grid_auto_columns": "False",
       "justify_content": "flex-start",
       "width": "100%"
      }
     },
     "82c48c5928034fe89b27055fd6d5aba9": {
      "model_module": "@jupyter-widgets/controls",
      "model_module_version": "1.5.0",
      "model_name": "DescriptionStyleModel",
      "state": {
       "description_width": ""
      }
     },
     "830a5164c72541029cf61e3993513c5d": {
      "model_module": "@jupyter-widgets/base",
      "model_module_version": "1.2.0",
      "model_name": "LayoutModel",
      "state": {
       "height": "30px",
       "max_width": "30px",
       "padding": "3px"
      }
     },
     "830e9bb5c6794b18bc1577c16e1306a8": {
      "model_module": "@jupyter-widgets/base",
      "model_module_version": "1.2.0",
      "model_name": "LayoutModel",
      "state": {
       "width": "5%"
      }
     },
     "832da8399df148bfa9cb40c5dbaed14e": {
      "model_module": "@jupyter-widgets/base",
      "model_module_version": "1.2.0",
      "model_name": "LayoutModel",
      "state": {}
     },
     "8365cf19afb14decb04c67dbeef74cc5": {
      "model_module": "@jupyter-widgets/controls",
      "model_module_version": "1.5.0",
      "model_name": "ButtonModel",
      "state": {
       "icon": "question-circle",
       "layout": "IPY_MODEL_6c63e810a84947bf809bdbb4a6172eae",
       "style": "IPY_MODEL_90f145d8bf1b45a1b3cf1c46fd215e1a",
       "tooltip": "describes the functionality of elements in the RunApp interface"
      }
     },
     "836e2cd00dbf42398323e8eae4d280ef": {
      "model_module": "@jupyter-widgets/controls",
      "model_module_version": "1.5.0",
      "model_name": "ButtonStyleModel",
      "state": {}
     },
     "83731d56bcd04f7cbdf8d7796e53fb93": {
      "model_module": "@jupyter-widgets/base",
      "model_module_version": "1.2.0",
      "model_name": "LayoutModel",
      "state": {}
     },
     "83ea3d8a2b634dec86ee57014e794713": {
      "model_module": "@jupyter-widgets/base",
      "model_module_version": "1.2.0",
      "model_name": "LayoutModel",
      "state": {}
     },
     "83f4c603d8f14ed79767dfe0d3a1c0d5": {
      "model_module": "@jupyter-widgets/controls",
      "model_module_version": "1.5.0",
      "model_name": "ButtonModel",
      "state": {
       "button_style": "success",
       "description": "run",
       "layout": "IPY_MODEL_3049b1399c4a41f3ad6db2e7890b0045",
       "style": "IPY_MODEL_4916165b67d14e289033edfa868dcd5d",
       "tooltip": "execute the script based on the user inputs"
      }
     },
     "845f06f2d4c24ca997735775a109588a": {
      "model_module": "@jupyter-widgets/controls",
      "model_module_version": "1.5.0",
      "model_name": "ButtonStyleModel",
      "state": {
       "font_weight": "bold"
      }
     },
     "84c05ab144444a35aebe37160768c42b": {
      "model_module": "@jupyter-widgets/base",
      "model_module_version": "1.2.0",
      "model_name": "LayoutModel",
      "state": {}
     },
     "8505b8a2e5554b1e947baf53f73f37be": {
      "model_module": "@jupyter-widgets/base",
      "model_module_version": "1.2.0",
      "model_name": "LayoutModel",
      "state": {}
     },
     "85594009408442fba1322d2b9a390fdf": {
      "model_module": "@jupyter-widgets/controls",
      "model_module_version": "1.5.0",
      "model_name": "DescriptionStyleModel",
      "state": {
       "description_width": ""
      }
     },
     "8571f0ea7f5c45bdb3fbad3adca68024": {
      "model_module": "@jupyter-widgets/output",
      "model_module_version": "1.0.0",
      "model_name": "OutputModel",
      "state": {
       "layout": "IPY_MODEL_83731d56bcd04f7cbdf8d7796e53fb93"
      }
     },
     "85aa99aed81b41faae5c359ed3208b8b": {
      "model_module": "@jupyter-widgets/controls",
      "model_module_version": "1.5.0",
      "model_name": "DescriptionStyleModel",
      "state": {
       "description_width": ""
      }
     },
     "8665b312badf439a8fb84e675baf78dd": {
      "model_module": "@jupyter-widgets/base",
      "model_module_version": "1.2.0",
      "model_name": "LayoutModel",
      "state": {
       "height": "30px",
       "max_width": "30px",
       "padding": "3px"
      }
     },
     "870cba37b2c249c8a015bb09bb35fcf4": {
      "model_module": "@jupyter-widgets/controls",
      "model_module_version": "1.5.0",
      "model_name": "HBoxModel",
      "state": {
       "children": [
        "IPY_MODEL_267f13e5ed4348babf06e3b523bd5e05",
        "IPY_MODEL_8f5c7198efe042c1b7a7b2b89bf7f325"
       ],
       "layout": "IPY_MODEL_8859078391d6413181dcb069896e52a7"
      }
     },
     "874ed98153e3408ebdb9402df748f697": {
      "model_module": "@jupyter-widgets/base",
      "model_module_version": "1.2.0",
      "model_name": "LayoutModel",
      "state": {}
     },
     "876860927877468dac9ce32b8a77d9ee": {
      "model_module": "@jupyter-widgets/base",
      "model_module_version": "1.2.0",
      "model_name": "LayoutModel",
      "state": {}
     },
     "8772edecfe07431f9390d785d6601980": {
      "model_module": "@jupyter-widgets/controls",
      "model_module_version": "1.5.0",
      "model_name": "DescriptionStyleModel",
      "state": {
       "description_width": ""
      }
     },
     "877fda33e0274f28b997a3cd91ec94b0": {
      "model_module": "@jupyter-widgets/controls",
      "model_module_version": "1.5.0",
      "model_name": "ButtonModel",
      "state": {
       "button_style": "success",
       "description": "run",
       "layout": "IPY_MODEL_ab49a4c2c31849f0a00d52231e1ddf18",
       "style": "IPY_MODEL_230fbb0ed9b4483fa1ba2d4ccff0a7dd",
       "tooltip": "execute the script based on the user inputs"
      }
     },
     "87c1c937f9f5474f8364e0903ef83077": {
      "model_module": "@jupyter-widgets/controls",
      "model_module_version": "1.5.0",
      "model_name": "HBoxModel",
      "state": {
       "children": [
        "IPY_MODEL_4fdf6b83f0af47e3983ae6bcca0227f2"
       ],
       "layout": "IPY_MODEL_5c8a015730e24f0ca7b91fdef63d00e3"
      }
     },
     "881efe3bf5734c7b878920b7bf848877": {
      "model_module": "@jupyter-widgets/base",
      "model_module_version": "1.2.0",
      "model_name": "LayoutModel",
      "state": {}
     },
     "88313d4e63584626a2bc8c7c9cc8df8a": {
      "model_module": "@jupyter-widgets/controls",
      "model_module_version": "1.5.0",
      "model_name": "ButtonModel",
      "state": {
       "button_style": "success",
       "description": "run",
       "layout": "IPY_MODEL_18595acdbc58465eb8700ca52155aa9a",
       "style": "IPY_MODEL_8e1c3963548d47088f71005bc95e9e24",
       "tooltip": "execute the script based on the user inputs"
      }
     },
     "8859078391d6413181dcb069896e52a7": {
      "model_module": "@jupyter-widgets/base",
      "model_module_version": "1.2.0",
      "model_name": "LayoutModel",
      "state": {
       "align_items": "stretch",
       "display": "flex",
       "flex_flow": "row",
       "grid_auto_columns": "True",
       "justify_content": "flex-end",
       "width": "90%"
      }
     },
     "885f53d293b548068e7f3543658fb76c": {
      "model_module": "@jupyter-widgets/base",
      "model_module_version": "1.2.0",
      "model_name": "LayoutModel",
      "state": {}
     },
     "889274817c3444399422c391b43fa615": {
      "model_module": "@jupyter-widgets/controls",
      "model_module_version": "1.5.0",
      "model_name": "HBoxModel",
      "state": {
       "children": [
        "IPY_MODEL_73162fc0abd04939ab6dc8a7bc116df4",
        "IPY_MODEL_8ef4ce1a50bd43a5a826fe4d2e8c741c"
       ],
       "layout": "IPY_MODEL_8ad1bc35646642f9bf225baec834856a"
      }
     },
     "88d2f77e4ee94c5db82e1966fd99db72": {
      "model_module": "@jupyter-widgets/base",
      "model_module_version": "1.2.0",
      "model_name": "LayoutModel",
      "state": {
       "align_items": "stretch",
       "width": "100%"
      }
     },
     "8916d9ca89184a939ca1e0fb28948cad": {
      "model_module": "@jupyter-widgets/controls",
      "model_module_version": "1.5.0",
      "model_name": "HTMLModel",
      "state": {
       "layout": "IPY_MODEL_b09dfa0ecf8b4fcebdeb4b4f01ee0185",
       "style": "IPY_MODEL_d5610568475f44f996ab8c4d66f8f594",
       "value": "<p>input gbxml filepath</p>"
      }
     },
     "8953c10af2a74bc4b342703ce50a97df": {
      "model_module": "@jupyter-widgets/base",
      "model_module_version": "1.2.0",
      "model_name": "LayoutModel",
      "state": {
       "align_items": "stretch",
       "display": "flex",
       "flex_flow": "row",
       "grid_auto_columns": "True",
       "justify_content": "flex-start",
       "width": "80%"
      }
     },
     "89610258478d448fb2fbafaa4ba29807": {
      "model_module": "@jupyter-widgets/controls",
      "model_module_version": "1.5.0",
      "model_name": "ButtonModel",
      "state": {
       "button_style": "warning",
       "description": "edit inputs",
       "layout": "IPY_MODEL_25ebd9e8dfd54d9b84ae008fbb544430",
       "style": "IPY_MODEL_069358cfe2c04b09a60f47f77ff4f159",
       "tooltip": "edit the user input information that is used when the script is executed"
      }
     },
     "89d0be23c9b448ff80be33b7430ed7ab": {
      "model_module": "@jupyter-widgets/controls",
      "model_module_version": "1.5.0",
      "model_name": "ButtonModel",
      "state": {
       "description": "load",
       "icon": "upload",
       "layout": "IPY_MODEL_098fd35e29ab46b8bfb0f02a71183f7a",
       "style": "IPY_MODEL_f5db0969ebaf40438e9d63b5b221154d"
      }
     },
     "8a28a7f5c6d2469a8d53884a15f07c77": {
      "model_module": "@jupyter-widgets/controls",
      "model_module_version": "1.5.0",
      "model_name": "BoxModel",
      "state": {
       "children": [
        "IPY_MODEL_46a4f3825bc64c1ba36fcc4bdd56ac56"
       ],
       "layout": "IPY_MODEL_1e1fe55c65464dc3b513e982696c0114"
      }
     },
     "8a3238e47c6744f69e55361d21f7a446": {
      "model_module": "@jupyter-widgets/base",
      "model_module_version": "1.2.0",
      "model_name": "LayoutModel",
      "state": {}
     },
     "8a6e8ecf1a93428783b194c9065c05f6": {
      "model_module": "@jupyter-widgets/controls",
      "model_module_version": "1.5.0",
      "model_name": "VBoxModel",
      "state": {
       "children": [
        "IPY_MODEL_8a28a7f5c6d2469a8d53884a15f07c77",
        "IPY_MODEL_a32c642d1b4549dfb3416c6a1b8e4331"
       ],
       "layout": "IPY_MODEL_7ede76c00b5846238577657de33c5409"
      }
     },
     "8a9a1a307b0c4d2499ec0975ed269599": {
      "model_module": "@jupyter-widgets/controls",
      "model_module_version": "1.5.0",
      "model_name": "HBoxModel",
      "state": {
       "children": [
        "IPY_MODEL_9e4cf028463c4c61a6b3270e0bd7970c",
        "IPY_MODEL_68d53d4189bf473795fd8d991e03f678"
       ],
       "layout": "IPY_MODEL_ef4c45cb5b084ee2ab8a66b58ab53a54"
      }
     },
     "8acb1b7bd7544056af45025174f43b3c": {
      "model_module": "@jupyter-widgets/controls",
      "model_module_version": "1.5.0",
      "model_name": "ButtonModel",
      "state": {
       "icon": "question-circle",
       "layout": "IPY_MODEL_903bb08308b349eea1d75cbdfbe4e1b2",
       "style": "IPY_MODEL_1a89d6d7cc6b4edda7ba507db61e0ab0",
       "tooltip": "describes the functionality of elements in the RunApp interface"
      }
     },
     "8ad1bc35646642f9bf225baec834856a": {
      "model_module": "@jupyter-widgets/base",
      "model_module_version": "1.2.0",
      "model_name": "LayoutModel",
      "state": {
       "align_items": "stretch",
       "display": "flex",
       "flex_flow": "row",
       "grid_auto_columns": "True",
       "justify_content": "flex-end",
       "width": "90%"
      }
     },
     "8b648ced00b143b1887de80f8a8cf070": {
      "model_module": "@jupyter-widgets/controls",
      "model_module_version": "1.5.0",
      "model_name": "VBoxModel",
      "state": {
       "children": [
        "IPY_MODEL_9d4da11860a14559a426b69d918c7fbd",
        "IPY_MODEL_659708c829694a6cb5930c397b39f4c8",
        "IPY_MODEL_129ce7c1718245e6bd49812798d55485",
        "IPY_MODEL_543d1a51e5274006adef20b23349630d",
        "IPY_MODEL_08b0dd63240143b3a29d4a8c44a0cd73"
       ],
       "layout": "IPY_MODEL_91b4638489754cb18f7b61198965a871"
      }
     },
     "8b6869c6c79c47b2aece6849ea1af8f0": {
      "model_module": "@jupyter-widgets/base",
      "model_module_version": "1.2.0",
      "model_name": "LayoutModel",
      "state": {
       "width": "5%"
      }
     },
     "8bf8896ea8064dfc8857443cd9bb0d81": {
      "model_module": "@jupyter-widgets/base",
      "model_module_version": "1.2.0",
      "model_name": "LayoutModel",
      "state": {
       "height": "30px",
       "width": "auto"
      }
     },
     "8bf94de50fe3497a9dc226c42acbcd3a": {
      "model_module": "@jupyter-widgets/controls",
      "model_module_version": "1.5.0",
      "model_name": "HTMLModel",
      "state": {
       "layout": "IPY_MODEL_773c1f9f8c124e56a456284a4824588b",
       "style": "IPY_MODEL_b165b41e90794392a3cfc12cf03671aa",
       "value": "<p>spc_name_index</p>"
      }
     },
     "8bfc4d4206104c9686edcab98ec297e7": {
      "model_module": "@jupyter-widgets/controls",
      "model_module_version": "1.5.0",
      "model_name": "DescriptionStyleModel",
      "state": {
       "description_width": ""
      }
     },
     "8c09ce27de754ba2aa9b3d262ca62c5f": {
      "model_module": "@jupyter-widgets/controls",
      "model_module_version": "1.5.0",
      "model_name": "VBoxModel",
      "state": {
       "children": [
        "IPY_MODEL_a06af01e2e9b46ce8fc0a7881f3b7346",
        "IPY_MODEL_fb92fc814ee94fb2a9c486b0d1b15dda",
        "IPY_MODEL_2eb5f7482a7d4f2084781b65a1a08097"
       ],
       "layout": "IPY_MODEL_5eac5eae3e5a4b86bc1b8c8e5ddcebff"
      }
     },
     "8c287b04224c4139a4564c9618fe7a09": {
      "model_module": "@jupyter-widgets/base",
      "model_module_version": "1.2.0",
      "model_name": "LayoutModel",
      "state": {
       "align_items": "stretch",
       "display": "flex",
       "flex_flow": "row",
       "grid_auto_columns": "True",
       "justify_content": "flex-end",
       "width": "90%"
      }
     },
     "8c5f5b278ed043fcbac12964b4b05988": {
      "model_module": "@jupyter-widgets/controls",
      "model_module_version": "1.5.0",
      "model_name": "HBoxModel",
      "state": {
       "children": [
        "IPY_MODEL_2e31af3d20084c128f4dd5b9fdbda0bc",
        "IPY_MODEL_22367be3b93548b7ae193e339182af60",
        "IPY_MODEL_6353ea623e444529b3f74edd2fde6618",
        "IPY_MODEL_a5d81142e15f468a84024a6cfe0c3eb8",
        "IPY_MODEL_de4648b17e274af3869f7010afb09f95",
        "IPY_MODEL_62f6efef7aa14908a84a31744091d732",
        "IPY_MODEL_09d6fdc76b124c2f8aa9bae19b2504f0"
       ],
       "layout": "IPY_MODEL_439c1ab98af44d5998030bd1e8bdef70"
      }
     },
     "8cede1a47f18468cb3036e8ed9d2edca": {
      "model_module": "@jupyter-widgets/controls",
      "model_module_version": "1.5.0",
      "model_name": "CheckboxModel",
      "state": {
       "disabled": false,
       "indent": false,
       "layout": "IPY_MODEL_245c800d5bef4aceb3cb34fa4751209f",
       "style": "IPY_MODEL_21acf700384d447aa078ab1872abf7e8",
       "value": false
      }
     },
     "8cf320097a0f4204acd9797a887edb37": {
      "model_module": "@jupyter-widgets/base",
      "model_module_version": "1.2.0",
      "model_name": "LayoutModel",
      "state": {}
     },
     "8d72a5ffac3e4816883e2b3ded2a2fb7": {
      "model_module": "@jupyter-widgets/controls",
      "model_module_version": "1.5.0",
      "model_name": "HBoxModel",
      "state": {
       "children": [
        "IPY_MODEL_1b9534a39cc34ec2a6f90ac7c8405525"
       ],
       "layout": "IPY_MODEL_450fcf3c5bb8496f84ae1c80434b96e1"
      }
     },
     "8d98eef6db94408293cdd6ed85634285": {
      "model_module": "@jupyter-widgets/base",
      "model_module_version": "1.2.0",
      "model_name": "LayoutModel",
      "state": {
       "height": "30px",
       "width": "auto"
      }
     },
     "8dc63910ac6848f28d8fca79d40b38b7": {
      "model_module": "@jupyter-widgets/controls",
      "model_module_version": "1.5.0",
      "model_name": "DescriptionStyleModel",
      "state": {
       "description_width": ""
      }
     },
     "8e1c3963548d47088f71005bc95e9e24": {
      "model_module": "@jupyter-widgets/controls",
      "model_module_version": "1.5.0",
      "model_name": "ButtonStyleModel",
      "state": {
       "font_weight": "bold"
      }
     },
     "8e7297a1ebaf4addb23d52d7acd2578c": {
      "model_module": "@jupyter-widgets/base",
      "model_module_version": "1.2.0",
      "model_name": "LayoutModel",
      "state": {}
     },
     "8ea46250142d4affa4441438caad744c": {
      "model_module": "@jupyter-widgets/controls",
      "model_module_version": "1.5.0",
      "model_name": "AccordionModel",
      "state": {
       "_titles": {
        "0": "eplus_pipework_params"
       },
       "children": [
        "IPY_MODEL_13c29c3fe95a43819837e7d3ddd44730"
       ],
       "layout": "IPY_MODEL_b42bbf8c098d4157a887c8265a42731d",
       "selected_index": null
      }
     },
     "8ebc20b124064b6f9d053fb81de45e3f": {
      "model_module": "@jupyter-widgets/controls",
      "model_module_version": "1.5.0",
      "model_name": "ButtonModel",
      "state": {
       "button_style": "info",
       "description": "show guide",
       "layout": "IPY_MODEL_ac63525b47d14a1790344014ad6faae9",
       "style": "IPY_MODEL_a2612d69f8e14d26b979f2e5fd165443",
       "tooltip": "read the \"docstring\", ie. the documentation that was written to accompany the script"
      }
     },
     "8ee45a4c05d74c1abfbec30efc942388": {
      "model_module": "@jupyter-widgets/controls",
      "model_module_version": "1.5.0",
      "model_name": "DescriptionStyleModel",
      "state": {
       "description_width": ""
      }
     },
     "8ef4ce1a50bd43a5a826fe4d2e8c741c": {
      "model_module": "@jupyter-widgets/controls",
      "model_module_version": "1.5.0",
      "model_name": "HBoxModel",
      "state": {
       "children": [
        "IPY_MODEL_3d806cbdd2db47d1ab24b56b12cc9a79",
        "IPY_MODEL_30cd9e985920439fab2ffe8ba62b2453"
       ],
       "layout": "IPY_MODEL_a22bbfcfbacc4055a2b78bb4dc3e2215"
      }
     },
     "8f5c7198efe042c1b7a7b2b89bf7f325": {
      "model_module": "@jupyter-widgets/controls",
      "model_module_version": "1.5.0",
      "model_name": "HBoxModel",
      "state": {
       "children": [
        "IPY_MODEL_a43925e0316d4d75803f5c2947401582",
        "IPY_MODEL_72f40e9ef5374c8788f2ffa9dab6272b"
       ],
       "layout": "IPY_MODEL_5181a2227c8b4344b1da5b33af408aa0"
      }
     },
     "8fe7ee36d4364bcbbf4be9a989542bb3": {
      "model_module": "@jupyter-widgets/controls",
      "model_module_version": "1.5.0",
      "model_name": "HTMLModel",
      "state": {
       "layout": "IPY_MODEL_3281ccd6bb69453097ef63aa0f953b85",
       "style": "IPY_MODEL_19b98373968d4a8bb35ba85f10a79822",
       "value": "<p>2</p>"
      }
     },
     "903bb08308b349eea1d75cbdfbe4e1b2": {
      "model_module": "@jupyter-widgets/base",
      "model_module_version": "1.2.0",
      "model_name": "LayoutModel",
      "state": {
       "width": "5%"
      }
     },
     "9052bf22e6c946ceb8e42b4999e89172": {
      "model_module": "@jupyter-widgets/output",
      "model_module_version": "1.0.0",
      "model_name": "OutputModel",
      "state": {
       "layout": "IPY_MODEL_29713541215440409e50d1f207775d73"
      }
     },
     "90b154b40126445286daa526f98ce905": {
      "model_module": "@jupyter-widgets/base",
      "model_module_version": "1.2.0",
      "model_name": "LayoutModel",
      "state": {}
     },
     "90e7665712214e8db8acd80e289208c8": {
      "model_module": "@jupyter-widgets/base",
      "model_module_version": "1.2.0",
      "model_name": "LayoutModel",
      "state": {}
     },
     "90f145d8bf1b45a1b3cf1c46fd215e1a": {
      "model_module": "@jupyter-widgets/controls",
      "model_module_version": "1.5.0",
      "model_name": "ButtonStyleModel",
      "state": {
       "font_weight": "bold"
      }
     },
     "919b55a466b94c9698635557740aea3e": {
      "model_module": "@jupyter-widgets/base",
      "model_module_version": "1.2.0",
      "model_name": "LayoutModel",
      "state": {}
     },
     "91a1f57ff7ad427684926233ced8f7bd": {
      "model_module": "@jupyter-widgets/controls",
      "model_module_version": "1.5.0",
      "model_name": "HBoxModel",
      "state": {
       "children": [
        "IPY_MODEL_9202905609124f23b4ce8954dee97544",
        "IPY_MODEL_13640ba94ffa4724bbbef366edc25dbe"
       ],
       "layout": "IPY_MODEL_59930f4d480941c6829e0fed7af3377b"
      }
     },
     "91b4638489754cb18f7b61198965a871": {
      "model_module": "@jupyter-widgets/base",
      "model_module_version": "1.2.0",
      "model_name": "LayoutModel",
      "state": {}
     },
     "91c0220cf31b4179b33b80e86e6e14e3": {
      "model_module": "@jupyter-widgets/controls",
      "model_module_version": "1.5.0",
      "model_name": "DescriptionStyleModel",
      "state": {
       "description_width": ""
      }
     },
     "91c34f2aa4244adeb789387ee2500170": {
      "model_module": "@jupyter-widgets/controls",
      "model_module_version": "1.5.0",
      "model_name": "DescriptionStyleModel",
      "state": {
       "description_width": ""
      }
     },
     "9202905609124f23b4ce8954dee97544": {
      "model_module": "@jupyter-widgets/controls",
      "model_module_version": "1.5.0",
      "model_name": "CheckboxModel",
      "state": {
       "disabled": false,
       "indent": false,
       "layout": "IPY_MODEL_d4389a9593b9447abe348154a9ff4699",
       "style": "IPY_MODEL_057c7935c93e43aeb4018b7b2ea10351",
       "value": false
      }
     },
     "924f4023a2a3455897e20f791347c412": {
      "model_module": "@jupyter-widgets/controls",
      "model_module_version": "1.5.0",
      "model_name": "ButtonModel",
      "state": {
       "button_style": "info",
       "description": "show source code",
       "layout": "IPY_MODEL_68157f888ac24425bf6dc7aa3bcab415",
       "style": "IPY_MODEL_419ff3a3f1544760b08e39e9da233d80",
       "tooltip": "shows the raw python code in the preview window below"
      }
     },
     "92cae2b526b6445e95485adf49650393": {
      "model_module": "@jupyter-widgets/base",
      "model_module_version": "1.2.0",
      "model_name": "LayoutModel",
      "state": {}
     },
     "939ea0a3ef1d42f6a83a60b3cdf4de25": {
      "model_module": "@jupyter-widgets/base",
      "model_module_version": "1.2.0",
      "model_name": "LayoutModel",
      "state": {}
     },
     "93a05fba46e141d18a5e62a63a16bff0": {
      "model_module": "@jupyter-widgets/controls",
      "model_module_version": "1.5.0",
      "model_name": "HBoxModel",
      "state": {
       "children": [
        "IPY_MODEL_f51b5ed99c49481abc6a62ad0be41543",
        "IPY_MODEL_37326a865826453bae5a148b640a40fe",
        "IPY_MODEL_067b1f6304b941ef96d8e3ce685bb5f5",
        "IPY_MODEL_f4dd948a6aba4d7c85daba16aaa1e803",
        "IPY_MODEL_0f7430ed13344213a52e9d858ce3bc13",
        "IPY_MODEL_0192dd503a824c9f97baf63d05566716",
        "IPY_MODEL_382ce3d39d294484a4c767bbbec685ce"
       ],
       "layout": "IPY_MODEL_ad16a057387540238dd06e196f2d4fd4"
      }
     },
     "93a36c03399845e0b409b8afbe94cf33": {
      "model_module": "@jupyter-widgets/controls",
      "model_module_version": "1.5.0",
      "model_name": "HTMLModel",
      "state": {
       "layout": "IPY_MODEL_a2e5459b8df647ebad47f5bcd06c91c7",
       "style": "IPY_MODEL_37083662d98e4e339632c0dff2437f55",
       "value": "<p>defines the logic of the space naming. use default value where practical.</p>"
      }
     },
     "93e1130a80834ce6976d3f13f5656dd3": {
      "model_module": "@jupyter-widgets/controls",
      "model_module_version": "1.5.0",
      "model_name": "CheckboxModel",
      "state": {
       "disabled": false,
       "indent": false,
       "layout": "IPY_MODEL_830a5164c72541029cf61e3993513c5d",
       "style": "IPY_MODEL_0b6ff9203d9744dbbc545d8ab98a5e6e",
       "value": false
      }
     },
     "94612859f11c4a16b21c55817187025e": {
      "model_module": "@jupyter-widgets/controls",
      "model_module_version": "1.5.0",
      "model_name": "TextModel",
      "state": {
       "layout": "IPY_MODEL_261f9f23b11a474ab593ff74fd765494",
       "style": "IPY_MODEL_b3603b96493445409ccead07fc0a0b50",
       "value": "C:\\engDev\\git_mf\\MF_Toolbox\\dev\\examples\\gbxml\\105_LiveseyExchange_heatpump-normal-fabric.xml"
      }
     },
     "948520e788d640a382eeb544647216b6": {
      "model_module": "@jupyter-widgets/controls",
      "model_module_version": "1.5.0",
      "model_name": "VBoxModel",
      "state": {
       "children": [
        "IPY_MODEL_7c7afcd041a64bdcb57a3f3be56806fd",
        "IPY_MODEL_375c53ea616044d7b24dfa5e1f93555a"
       ],
       "layout": "IPY_MODEL_1c42c26079e1405293739f2004af56c9"
      }
     },
     "94962d05af88460c81db9ccf3bbe2e88": {
      "model_module": "@jupyter-widgets/controls",
      "model_module_version": "1.5.0",
      "model_name": "DescriptionStyleModel",
      "state": {
       "description_width": ""
      }
     },
     "9497b28714b64ef18049e0bb48e2d30b": {
      "model_module": "@jupyter-widgets/controls",
      "model_module_version": "1.5.0",
      "model_name": "ButtonStyleModel",
      "state": {
       "font_weight": "bold"
      }
     },
     "94ad0b7c813e4ad689b74e584fef0861": {
      "model_module": "@jupyter-widgets/controls",
      "model_module_version": "1.5.0",
      "model_name": "HBoxModel",
      "state": {
       "children": [
        "IPY_MODEL_d725ea04326545a8b27bff9b5d342ab6",
        "IPY_MODEL_ba702203bebf4108a289d1348c601c53"
       ],
       "layout": "IPY_MODEL_350bb8e77c094793bef1b294e9660ee7"
      }
     },
     "94c5d8992b6e490391095b87dcfb7007": {
      "model_module": "@jupyter-widgets/controls",
      "model_module_version": "1.5.0",
      "model_name": "DescriptionStyleModel",
      "state": {
       "description_width": ""
      }
     },
     "94dbe7258b3f455b94778c8f7df14729": {
      "model_module": "@jupyter-widgets/controls",
      "model_module_version": "1.5.0",
      "model_name": "VBoxModel",
      "state": {
       "children": [
        "IPY_MODEL_a06af01e2e9b46ce8fc0a7881f3b7346",
        "IPY_MODEL_fb92fc814ee94fb2a9c486b0d1b15dda",
        "IPY_MODEL_2eb5f7482a7d4f2084781b65a1a08097"
       ],
       "layout": "IPY_MODEL_5663be1ee7714d4cb1937fd64820fec6"
      }
     },
     "94e4db9ddbbb4befafe3a3e7f85a39dd": {
      "model_module": "@jupyter-widgets/base",
      "model_module_version": "1.2.0",
      "model_name": "LayoutModel",
      "state": {}
     },
     "9572ba4005364a3281dd3e29d0c463aa": {
      "model_module": "@jupyter-widgets/controls",
      "model_module_version": "1.5.0",
      "model_name": "ButtonStyleModel",
      "state": {
       "font_weight": "bold"
      }
     },
     "958540287f7e48c792f162e4683fcc96": {
      "model_module": "@jupyter-widgets/base",
      "model_module_version": "1.2.0",
      "model_name": "LayoutModel",
      "state": {}
     },
     "95bf8d26258c453a831547f67fd79612": {
      "model_module": "@jupyter-widgets/output",
      "model_module_version": "1.0.0",
      "model_name": "OutputModel",
      "state": {
       "layout": "IPY_MODEL_16058d9f0e8e46b7a68e4463ef57b2a1",
       "outputs": [
        {
         "data": {
          "application/vnd.jupyter.widget-view+json": {
           "model_id": "",
           "version_major": 2,
           "version_minor": 0
          },
          "text/plain": "VBox(children=(HBox(children=(ToggleButton(value=False, button_style='info', description='inputs from file'), …"
         },
         "metadata": {},
         "output_type": "display_data"
        },
        {
         "data": {
          "application/vnd.jupyter.widget-view+json": {
           "model_id": "",
           "version_major": 2,
           "version_minor": 0
          },
          "text/plain": "VBox(children=(HBox(children=(HBox(children=(HTML(value='<p>fpth_in</p>'), HBox(children=(Text(value='C:\\\\engD…"
         },
         "metadata": {},
         "output_type": "display_data"
        },
        {
         "data": {
          "application/vnd.jupyter.widget-view+json": {
           "model_id": "",
           "version_major": 2,
           "version_minor": 0
          },
          "text/plain": "Output()"
         },
         "metadata": {},
         "output_type": "display_data"
        }
       ]
      }
     },
     "95d58bd9452348629812aad4a6b0b0fd": {
      "model_module": "@jupyter-widgets/controls",
      "model_module_version": "1.5.0",
      "model_name": "HBoxModel",
      "state": {
       "children": [
        "IPY_MODEL_6c490fb9edf54bcf8932de04860f1e58",
        "IPY_MODEL_abeed610d2bc4badb9e9c38988e885ff",
        "IPY_MODEL_093fab81237344adbfcb4cf802263594"
       ],
       "layout": "IPY_MODEL_a4b861056aad4cbd976e2c3b716bfb40"
      }
     },
     "95dfa7eef08f4531b70760334a5868e7": {
      "model_module": "@jupyter-widgets/base",
      "model_module_version": "1.2.0",
      "model_name": "LayoutModel",
      "state": {
       "align_items": "stretch",
       "display": "flex",
       "flex_flow": "row",
       "grid_auto_columns": "True",
       "justify_content": "flex-start",
       "width": "80%"
      }
     },
     "96a66865f42343c7a0449ce52c89e0a0": {
      "model_module": "@jupyter-widgets/controls",
      "model_module_version": "1.5.0",
      "model_name": "HTMLModel",
      "state": {
       "layout": "IPY_MODEL_c57a429edd0049198520e6229d2cde9c",
       "style": "IPY_MODEL_72a082d357fe45afb04dd90c86d966ae",
       "value": "<p>4</p>"
      }
     },
     "96cd1e50b59f4d8da7f8d9510c2e442c": {
      "model_module": "@jupyter-widgets/controls",
      "model_module_version": "1.5.0",
      "model_name": "DescriptionStyleModel",
      "state": {
       "description_width": ""
      }
     },
     "96d762a0b2f54c33bd2dbecfb61e7a84": {
      "model_module": "@jupyter-widgets/controls",
      "model_module_version": "1.5.0",
      "model_name": "HBoxModel",
      "state": {
       "children": [
        "IPY_MODEL_37f52065dd1549d49d90fc83897f2a3d",
        "IPY_MODEL_2743f2da86dd41ea9d521a81a3ba59a3"
       ],
       "layout": "IPY_MODEL_8953c10af2a74bc4b342703ce50a97df"
      }
     },
     "96d996a67c4542a6af9a8db984501c2c": {
      "model_module": "@jupyter-widgets/controls",
      "model_module_version": "1.5.0",
      "model_name": "DescriptionStyleModel",
      "state": {
       "description_width": ""
      }
     },
     "96ff38f37c7246539ad80a9c2457a628": {
      "model_module": "@jupyter-widgets/base",
      "model_module_version": "1.2.0",
      "model_name": "LayoutModel",
      "state": {
       "width": "5%"
      }
     },
     "971cf56a70e84b66909783b97f4f4ab2": {
      "model_module": "@jupyter-widgets/controls",
      "model_module_version": "1.5.0",
      "model_name": "ButtonStyleModel",
      "state": {}
     },
     "97c9d32b9fa5448c87ebfc804d6aa64b": {
      "model_module": "@jupyter-widgets/controls",
      "model_module_version": "1.5.0",
      "model_name": "ButtonStyleModel",
      "state": {
       "font_weight": "bold"
      }
     },
     "97e006c0fd3740dc90cca686455ed849": {
      "model_module": "@jupyter-widgets/output",
      "model_module_version": "1.0.0",
      "model_name": "OutputModel",
      "state": {
       "layout": "IPY_MODEL_90b154b40126445286daa526f98ce905",
       "outputs": [
        {
         "data": {
          "application/vnd.jupyter.widget-view+json": {
           "model_id": "",
           "version_major": 2,
           "version_minor": 0
          },
          "text/plain": "VBox(children=(HBox(children=(ToggleButton(value=False, button_style='info', description='inputs from file'), …"
         },
         "metadata": {},
         "output_type": "display_data"
        },
        {
         "data": {
          "application/vnd.jupyter.widget-view+json": {
           "model_id": "",
           "version_major": 2,
           "version_minor": 0
          },
          "text/plain": "VBox(children=(HBox(children=(HBox(children=(HTML(value='<p>fpth_in</p>'), HBox(children=(Text(value='C:\\\\engD…"
         },
         "metadata": {},
         "output_type": "display_data"
        },
        {
         "data": {
          "application/vnd.jupyter.widget-view+json": {
           "model_id": "",
           "version_major": 2,
           "version_minor": 0
          },
          "text/plain": "Output()"
         },
         "metadata": {},
         "output_type": "display_data"
        }
       ]
      }
     },
     "980cd16dab864d4eaae6d6fdf3c28783": {
      "model_module": "@jupyter-widgets/controls",
      "model_module_version": "1.5.0",
      "model_name": "HBoxModel",
      "state": {
       "children": [
        "IPY_MODEL_57fd9038a65e4b5a849ee4fb5e40d68b",
        "IPY_MODEL_41178811a3bf4372bf5e76bfcdb8ac0e"
       ],
       "layout": "IPY_MODEL_feae03d6b5644c59b094a61521af46cc"
      }
     },
     "9874ac9ceacc478abcb4a2ab16d5e8c5": {
      "model_module": "@jupyter-widgets/controls",
      "model_module_version": "1.5.0",
      "model_name": "DescriptionStyleModel",
      "state": {
       "description_width": ""
      }
     },
     "98b05ee650d24224a46df62f1c1c2598": {
      "model_module": "@jupyter-widgets/controls",
      "model_module_version": "1.5.0",
      "model_name": "HTMLModel",
      "state": {
       "layout": "IPY_MODEL_b15f7de2a0264772afb53b233c7d2e45",
       "style": "IPY_MODEL_6a75b43907bd45f4b0ba8d3db05bf3c8",
       "value": "<p>2nd section of space name code</p>"
      }
     },
     "98c535a29adc4384a8e1e2dcdab1d410": {
      "model_module": "@jupyter-widgets/controls",
      "model_module_version": "1.5.0",
      "model_name": "HTMLModel",
      "state": {
       "layout": "IPY_MODEL_4a32064e80c741d89808b986a7dafee2",
       "style": "IPY_MODEL_e79cd051c7884db7a66096c4262f8160",
       "value": "<p>1</p>"
      }
     },
     "9947821476794f74ac53b16fc561293b": {
      "model_module": "@jupyter-widgets/controls",
      "model_module_version": "1.5.0",
      "model_name": "VBoxModel",
      "state": {
       "children": [
        "IPY_MODEL_e5efad3120414477a78aea23ae90ac30",
        "IPY_MODEL_bcf464bfd520419dbafd29572e142782"
       ],
       "layout": "IPY_MODEL_b757be0bdfb94bfbad8fd51beec438bb"
      }
     },
     "9aa5685cb13242fc9319817060e37a06": {
      "model_module": "@jupyter-widgets/base",
      "model_module_version": "1.2.0",
      "model_name": "LayoutModel",
      "state": {}
     },
     "9abe97e6d04d447bbd608a2009608cfe": {
      "model_module": "@jupyter-widgets/controls",
      "model_module_version": "1.5.0",
      "model_name": "TextModel",
      "state": {
       "description": "inputs",
       "disabled": true,
       "layout": "IPY_MODEL_fad9fd688c8f425ca3d93aabfcae309d",
       "style": "IPY_MODEL_bc374c6fc6994dc087ed29b09a78892f",
       "value": "C:\\engDev\\git_mf\\ipyrun\\ipyrun\\appdata\\inputs\\inputs-gbxml.json"
      }
     },
     "9b5ab6b296bd4d89a1f78c2e6e3f7b5c": {
      "model_module": "@jupyter-widgets/base",
      "model_module_version": "1.2.0",
      "model_name": "LayoutModel",
      "state": {}
     },
     "9bc3869ca8654fa7aab92f9d4ac5618b": {
      "model_module": "@jupyter-widgets/controls",
      "model_module_version": "1.5.0",
      "model_name": "DescriptionStyleModel",
      "state": {
       "description_width": ""
      }
     },
     "9be6e1937a874807ac297c6edb2f25ea": {
      "model_module": "@jupyter-widgets/controls",
      "model_module_version": "1.5.0",
      "model_name": "ButtonModel",
      "state": {
       "button_style": "info",
       "description": "show source code",
       "layout": "IPY_MODEL_6360fd914e8f46ffa85fc3e4917a7a68",
       "style": "IPY_MODEL_78adee9cad5c47e5933fc4d95ae10d09",
       "tooltip": "shows the raw python code in the preview window below"
      }
     },
     "9bfe4cc8e5db44afab35a33be5b0b7b5": {
      "model_module": "@jupyter-widgets/controls",
      "model_module_version": "1.5.0",
      "model_name": "ButtonStyleModel",
      "state": {
       "font_weight": "bold"
      }
     },
     "9bff31ffdc4240fdad0198fcd9971077": {
      "model_module": "@jupyter-widgets/base",
      "model_module_version": "1.2.0",
      "model_name": "LayoutModel",
      "state": {
       "height": "30px",
       "max_width": "30px",
       "padding": "3px"
      }
     },
     "9c3c8e6d9be3416d8cc932b259d9c306": {
      "model_module": "@jupyter-widgets/controls",
      "model_module_version": "1.5.0",
      "model_name": "HBoxModel",
      "state": {
       "children": [
        "IPY_MODEL_0ddb9f2d33484c7c89f97cf5c323330a"
       ],
       "layout": "IPY_MODEL_6a82ec8764784cf7a0e3c52eade70f9e"
      }
     },
     "9c580d5c92ed4eaf9847a7e340cfa068": {
      "model_module": "@jupyter-widgets/base",
      "model_module_version": "1.2.0",
      "model_name": "LayoutModel",
      "state": {}
     },
     "9ccc59f356754deca5135b97f81b4bb3": {
      "model_module": "@jupyter-widgets/base",
      "model_module_version": "1.2.0",
      "model_name": "LayoutModel",
      "state": {}
     },
     "9cf5077c2e7a4be082ff5f0c6c0dcd28": {
      "model_module": "@jupyter-widgets/controls",
      "model_module_version": "1.5.0",
      "model_name": "DescriptionStyleModel",
      "state": {
       "description_width": ""
      }
     },
     "9cff5c41a1784db68f1d7ceb47aba84f": {
      "model_module": "@jupyter-widgets/controls",
      "model_module_version": "1.5.0",
      "model_name": "DescriptionStyleModel",
      "state": {
       "description_width": ""
      }
     },
     "9d4da11860a14559a426b69d918c7fbd": {
      "model_module": "@jupyter-widgets/controls",
      "model_module_version": "1.5.0",
      "model_name": "HBoxModel",
      "state": {
       "children": [
        "IPY_MODEL_889274817c3444399422c391b43fa615"
       ],
       "layout": "IPY_MODEL_0d451558491f4c768844049cb8238ede"
      }
     },
     "9db8df11e58e4dfeb43bf3a9cc4782fe": {
      "model_module": "@jupyter-widgets/controls",
      "model_module_version": "1.5.0",
      "model_name": "TextModel",
      "state": {
       "layout": "IPY_MODEL_2da90d07674b4a30af9d2a39cf5ae12a",
       "style": "IPY_MODEL_7b5155af87c6497aa83246e975b13118",
       "value": "Level"
      }
     },
     "9dccff22f0774b7d8e8074d93f0dbd5c": {
      "model_module": "@jupyter-widgets/base",
      "model_module_version": "1.2.0",
      "model_name": "LayoutModel",
      "state": {}
     },
     "9de82b5f1e444c4cb1a91c1abbceb894": {
      "model_module": "@jupyter-widgets/controls",
      "model_module_version": "1.5.0",
      "model_name": "ButtonModel",
      "state": {
       "button_style": "success",
       "description": "save changes",
       "layout": "IPY_MODEL_cded0f1aa648494ebac36407c715309f",
       "style": "IPY_MODEL_055ce1c59dc64f98be9f09c0ed6a0666"
      }
     },
     "9e4cf028463c4c61a6b3270e0bd7970c": {
      "model_module": "@jupyter-widgets/controls",
      "model_module_version": "1.5.0",
      "model_name": "HTMLModel",
      "state": {
       "layout": "IPY_MODEL_e2017bd62bbf4f069a71037fdf8f5e66",
       "style": "IPY_MODEL_2d1d0764b6734fafae814f99785db1cd",
       "value": "<p>spc_name_index</p>"
      }
     },
     "9eb46056b0ef485fb39e65fc84e61a11": {
      "model_module": "@jupyter-widgets/base",
      "model_module_version": "1.2.0",
      "model_name": "LayoutModel",
      "state": {
       "align_items": "stretch",
       "border": "dashed 0.2px green",
       "display": "flex",
       "flex_flow": "row",
       "grid_auto_columns": "True",
       "justify_content": "flex-start",
       "width": "100%"
      }
     },
     "9ebe8a8cf3c246d39a0765a2d367f5ec": {
      "model_module": "@jupyter-widgets/base",
      "model_module_version": "1.2.0",
      "model_name": "LayoutModel",
      "state": {
       "width": "100%"
      }
     },
     "9eeafc5dcc394afab5e74f8fbb9aeea6": {
      "model_module": "@jupyter-widgets/output",
      "model_module_version": "1.0.0",
      "model_name": "OutputModel",
      "state": {
       "layout": "IPY_MODEL_1fc5713e0381425dac162f2928723b20"
      }
     },
     "9f03dbb8ef77494f894e9a6349794541": {
      "model_module": "@jupyter-widgets/base",
      "model_module_version": "1.2.0",
      "model_name": "LayoutModel",
      "state": {}
     },
     "9f2c78466a6140eca1816398470b33f7": {
      "model_module": "@jupyter-widgets/controls",
      "model_module_version": "1.5.0",
      "model_name": "HTMLModel",
      "state": {
       "layout": "IPY_MODEL_e94b6de896e04f409df0fd910f0bf02f",
       "style": "IPY_MODEL_dfd9f2e7ad8349409b47d0214f62a0b1",
       "value": "<p>0</p>"
      }
     },
     "9f2d590ee3e442a79448e252896eb55a": {
      "model_module": "@jupyter-widgets/controls",
      "model_module_version": "1.5.0",
      "model_name": "VBoxModel",
      "state": {
       "children": [
        "IPY_MODEL_418528a088254571a10e03904c4cc7e3",
        "IPY_MODEL_d06b9ace746344daa9d135633e7e3636",
        "IPY_MODEL_69c45a1dd4af43168d60411eeec718a7"
       ],
       "layout": "IPY_MODEL_3a1e0f66b1b1490b9e4c347e480f0681"
      }
     },
     "9f7346e18b9e4f0f84a0c45157afe5bd": {
      "model_module": "@jupyter-widgets/controls",
      "model_module_version": "1.5.0",
      "model_name": "ButtonModel",
      "state": {
       "button_style": "success",
       "description": "run batch",
       "layout": "IPY_MODEL_028b651ae9084732a2744f55316b2aa1",
       "style": "IPY_MODEL_c12debbe08bd4fa096e9c59836b0a367",
       "tooltip": "execute checked processes below"
      }
     },
     "9f7ad48f06834d6e99631c733566ec02": {
      "model_module": "@jupyter-widgets/base",
      "model_module_version": "1.2.0",
      "model_name": "LayoutModel",
      "state": {}
     },
     "9f965f31e6b94e32a5a34c5d389769dd": {
      "model_module": "@jupyter-widgets/controls",
      "model_module_version": "1.5.0",
      "model_name": "HBoxModel",
      "state": {
       "children": [
        "IPY_MODEL_dd44be86900342929309043329dc2047",
        "IPY_MODEL_7bc041ba26504e92a311e877ed9d7e19"
       ],
       "layout": "IPY_MODEL_c694fdc4b5b546babc8f4457079c5a6b"
      }
     },
     "9fd590be00ab432586566e424a3ecf71": {
      "model_module": "@jupyter-widgets/base",
      "model_module_version": "1.2.0",
      "model_name": "LayoutModel",
      "state": {}
     },
     "9fe038047f53474fbfc39b9f0be0c87b": {
      "model_module": "@jupyter-widgets/controls",
      "model_module_version": "1.5.0",
      "model_name": "ButtonModel",
      "state": {
       "button_style": "warning",
       "description": "edit inputs",
       "layout": "IPY_MODEL_da69db16e6e04ed0a06c607c3ebfce4b",
       "style": "IPY_MODEL_bd9d443553d14c78bbf5977f9368ad15",
       "tooltip": "edit the user input information that is used when the script is executed"
      }
     },
     "a034b13560954710b27c54d4c7ff18f9": {
      "model_module": "@jupyter-widgets/base",
      "model_module_version": "1.2.0",
      "model_name": "LayoutModel",
      "state": {}
     },
     "a06af01e2e9b46ce8fc0a7881f3b7346": {
      "model_module": "@jupyter-widgets/controls",
      "model_module_version": "1.5.0",
      "model_name": "HBoxModel",
      "state": {
       "children": [
        "IPY_MODEL_5c8b7638a4a7420c9e026fa668c11ef9",
        "IPY_MODEL_278a1c9fb4164bafb2d7130b9f479b60",
        "IPY_MODEL_052c4918d1544a14ad41d201cd7c0ee1"
       ],
       "layout": "IPY_MODEL_669e110025a14a5aae8f23eac2cc5a2d"
      }
     },
     "a0f3df9a075a4a289d869d80108041f6": {
      "model_module": "@jupyter-widgets/base",
      "model_module_version": "1.2.0",
      "model_name": "LayoutModel",
      "state": {}
     },
     "a14b0b16a0984e9e80907a55e57c4441": {
      "model_module": "@jupyter-widgets/controls",
      "model_module_version": "1.5.0",
      "model_name": "VBoxModel",
      "state": {
       "children": [
        "IPY_MODEL_4eb250dfac554f92996157ba3486fe1e",
        "IPY_MODEL_0d3a1e27fcd243c090031aa2ff4f0318"
       ],
       "layout": "IPY_MODEL_43df6785d3164a70adc85cb818426773"
      }
     },
     "a14c6c97c6c642dbbd1b3bb1f7957c23": {
      "model_module": "@jupyter-widgets/controls",
      "model_module_version": "1.5.0",
      "model_name": "DescriptionStyleModel",
      "state": {
       "description_width": ""
      }
     },
     "a1a7868ebb1f4cf285491988d11d6fda": {
      "model_module": "@jupyter-widgets/base",
      "model_module_version": "1.2.0",
      "model_name": "LayoutModel",
      "state": {}
     },
     "a22bbfcfbacc4055a2b78bb4dc3e2215": {
      "model_module": "@jupyter-widgets/base",
      "model_module_version": "1.2.0",
      "model_name": "LayoutModel",
      "state": {
       "align_items": "stretch",
       "display": "flex",
       "flex_flow": "row",
       "grid_auto_columns": "True",
       "justify_content": "flex-start",
       "width": "80%"
      }
     },
     "a22f0b4a3cb0433b8aadb36b3ee93ee3": {
      "model_module": "@jupyter-widgets/controls",
      "model_module_version": "1.5.0",
      "model_name": "ButtonModel",
      "state": {
       "button_style": "info",
       "description": "show source code",
       "layout": "IPY_MODEL_162b14293b0b4d9a9542d8082b8c1c1a",
       "style": "IPY_MODEL_dfb103e269764ad79588213fac6088c4",
       "tooltip": "shows the raw python code in the preview window below"
      }
     },
     "a2612d69f8e14d26b979f2e5fd165443": {
      "model_module": "@jupyter-widgets/controls",
      "model_module_version": "1.5.0",
      "model_name": "ButtonStyleModel",
      "state": {
       "font_weight": "bold"
      }
     },
     "a2e5459b8df647ebad47f5bcd06c91c7": {
      "model_module": "@jupyter-widgets/base",
      "model_module_version": "1.2.0",
      "model_name": "LayoutModel",
      "state": {}
     },
     "a321f87e2d1340518b78252ea4dba4ca": {
      "model_module": "@jupyter-widgets/controls",
      "model_module_version": "1.5.0",
      "model_name": "HBoxModel",
      "state": {
       "children": [
        "IPY_MODEL_48605dfd6b7c4c9ebbfc67c3b604c4e9"
       ],
       "layout": "IPY_MODEL_d05b50cbef2044ff9701d2f963597447"
      }
     },
     "a32c642d1b4549dfb3416c6a1b8e4331": {
      "model_module": "@jupyter-widgets/controls",
      "model_module_version": "1.5.0",
      "model_name": "VBoxModel",
      "state": {
       "children": [
        "IPY_MODEL_15bbc4760dcb4a568a56de9b18857aae",
        "IPY_MODEL_2148a6ecc4fc4a6aace566d209f78e5f",
        "IPY_MODEL_0f448bd743214a0da91ba90a0f21f5a3"
       ],
       "layout": "IPY_MODEL_15fdde1f0af14f2cb432c280c827570f"
      }
     },
     "a378acef61c5461ab90111e7ecea8006": {
      "model_module": "@jupyter-widgets/controls",
      "model_module_version": "1.5.0",
      "model_name": "ButtonStyleModel",
      "state": {
       "font_weight": "bold"
      }
     },
     "a3abcc01c6724860a2a83b446673c71b": {
      "model_module": "@jupyter-widgets/controls",
      "model_module_version": "1.5.0",
      "model_name": "HBoxModel",
      "state": {
       "children": [
        "IPY_MODEL_67f0977bb6e440f0b1ee7969f18b28c3",
        "IPY_MODEL_0b914663e9434d66a7721d1d30ef43e6"
       ],
       "layout": "IPY_MODEL_0ada85016572404e91e430bc6eb01656"
      }
     },
     "a431d0a5c8074e0989e96144e2f47745": {
      "model_module": "@jupyter-widgets/base",
      "model_module_version": "1.2.0",
      "model_name": "LayoutModel",
      "state": {}
     },
     "a43925e0316d4d75803f5c2947401582": {
      "model_module": "@jupyter-widgets/controls",
      "model_module_version": "1.5.0",
      "model_name": "TextModel",
      "state": {
       "layout": "IPY_MODEL_e4a94c8b5bf1466d8ba2f87ec24547dd",
       "style": "IPY_MODEL_08f51b0188fa406d9c08e821af982dc0",
       "value": "SpaceId"
      }
     },
     "a451a844dc7c4d03b13556d32a21bdf0": {
      "model_module": "@jupyter-widgets/controls",
      "model_module_version": "1.5.0",
      "model_name": "VBoxModel",
      "state": {
       "children": [
        "IPY_MODEL_022abee0660949df9d08c6a1a5666eb3",
        "IPY_MODEL_40ae5fa2954e4778b3ff6e472020cbca"
       ],
       "layout": "IPY_MODEL_919b55a466b94c9698635557740aea3e"
      }
     },
     "a4ae9d8c0c334b5a9a8b1b006db35197": {
      "model_module": "@jupyter-widgets/base",
      "model_module_version": "1.2.0",
      "model_name": "LayoutModel",
      "state": {}
     },
     "a4b861056aad4cbd976e2c3b716bfb40": {
      "model_module": "@jupyter-widgets/base",
      "model_module_version": "1.2.0",
      "model_name": "LayoutModel",
      "state": {}
     },
     "a4bfb1ab959b4396ae2650625ac5b9a0": {
      "model_module": "@jupyter-widgets/base",
      "model_module_version": "1.2.0",
      "model_name": "LayoutModel",
      "state": {
       "width": "100%"
      }
     },
     "a50f4a32a50a495da5bcf69d81531638": {
      "model_module": "@jupyter-widgets/controls",
      "model_module_version": "1.5.0",
      "model_name": "DescriptionStyleModel",
      "state": {
       "description_width": ""
      }
     },
     "a54a6c42767c4ed6b278d3c2df18fd28": {
      "model_module": "@jupyter-widgets/base",
      "model_module_version": "1.2.0",
      "model_name": "LayoutModel",
      "state": {
       "align_items": "stretch",
       "display": "flex",
       "flex_flow": "row",
       "grid_auto_columns": "True",
       "justify_content": "flex-end",
       "width": "90%"
      }
     },
     "a5792c6db9c3496f85f87c6fb80a4c24": {
      "model_module": "@jupyter-widgets/controls",
      "model_module_version": "1.5.0",
      "model_name": "ButtonModel",
      "state": {
       "button_style": "info",
       "description": "show source code",
       "layout": "IPY_MODEL_9fd590be00ab432586566e424a3ecf71",
       "style": "IPY_MODEL_971cf56a70e84b66909783b97f4f4ab2",
       "tooltip": "shows the raw python code in the preview window below"
      }
     },
     "a5d81142e15f468a84024a6cfe0c3eb8": {
      "model_module": "@jupyter-widgets/controls",
      "model_module_version": "1.5.0",
      "model_name": "ButtonModel",
      "state": {
       "button_style": "warning",
       "description": "edit inputs",
       "layout": "IPY_MODEL_bea86250e049478390f9f346fc7dff74",
       "style": "IPY_MODEL_b0ce3b35055b492393b17d9993c4a592",
       "tooltip": "edit the user input information that is used when the script is executed"
      }
     },
     "a5e11496ed444c8f84100c7c12a22d11": {
      "model_module": "@jupyter-widgets/controls",
      "model_module_version": "1.5.0",
      "model_name": "VBoxModel",
      "state": {
       "children": [
        "IPY_MODEL_a06af01e2e9b46ce8fc0a7881f3b7346",
        "IPY_MODEL_fb92fc814ee94fb2a9c486b0d1b15dda",
        "IPY_MODEL_2eb5f7482a7d4f2084781b65a1a08097"
       ],
       "layout": "IPY_MODEL_48612ca269df4cd689ba0e4c791c933e"
      }
     },
     "a5ff499bb61542969a64653de4bbc5b4": {
      "model_module": "@jupyter-widgets/controls",
      "model_module_version": "1.5.0",
      "model_name": "ButtonStyleModel",
      "state": {
       "font_weight": "bold"
      }
     },
     "a6484e25b067435681d4403aca2568a2": {
      "model_module": "@jupyter-widgets/base",
      "model_module_version": "1.2.0",
      "model_name": "LayoutModel",
      "state": {}
     },
     "a65d8583069d40138ca5a8009f4add73": {
      "model_module": "@jupyter-widgets/controls",
      "model_module_version": "1.5.0",
      "model_name": "AccordionModel",
      "state": {
       "_titles": {
        "0": "gbxml"
       },
       "children": [
        "IPY_MODEL_49646dedfcc04725bb364daf15714995"
       ],
       "layout": "IPY_MODEL_c7847a48f0cf4a55a7466ffcbfb26168"
      }
     },
     "a6a03bc6092349cebdb9c5f51cd37011": {
      "model_module": "@jupyter-widgets/controls",
      "model_module_version": "1.5.0",
      "model_name": "DescriptionStyleModel",
      "state": {
       "description_width": ""
      }
     },
     "a6ca5bd4195d4ec899e7c66ed66f87d4": {
      "model_module": "@jupyter-widgets/controls",
      "model_module_version": "1.5.0",
      "model_name": "VBoxModel",
      "state": {
       "children": [
        "IPY_MODEL_6174e8e65dd84253b0809f3105411396",
        "IPY_MODEL_4f72097dc195480587ba909492254b9f",
        "IPY_MODEL_38ef4d76ccf84d1ca00ee2b8161d995d"
       ],
       "layout": "IPY_MODEL_25f20c1b617a4397b4c1c12a162df9c3"
      }
     },
     "a6d06151551b4ea4841e10f8982b1351": {
      "model_module": "@jupyter-widgets/controls",
      "model_module_version": "1.5.0",
      "model_name": "ButtonModel",
      "state": {
       "button_style": "info",
       "description": "show guide",
       "layout": "IPY_MODEL_e144fd278d1a4581aa60399695cdeeec",
       "style": "IPY_MODEL_6d43809a4d4a41db929e181f9f057ebe",
       "tooltip": "read the \"docstring\", ie. the documentation that was written to accompany the script"
      }
     },
     "a6f7517e9a5d4d65a91bd25eb6a18b18": {
      "model_module": "@jupyter-widgets/base",
      "model_module_version": "1.2.0",
      "model_name": "LayoutModel",
      "state": {
       "align_items": "stretch",
       "display": "flex",
       "flex_flow": "row",
       "grid_auto_columns": "True",
       "justify_content": "flex-end",
       "width": "90%"
      }
     },
     "a70af20fa7d64ed6a1248496dcdd6e83": {
      "model_module": "@jupyter-widgets/base",
      "model_module_version": "1.2.0",
      "model_name": "LayoutModel",
      "state": {
       "width": "5%"
      }
     },
     "a722a9f809c44879bc578cc43a46b03c": {
      "model_module": "@jupyter-widgets/base",
      "model_module_version": "1.2.0",
      "model_name": "LayoutModel",
      "state": {
       "align_items": "stretch",
       "border": "dashed 0.2px green",
       "display": "flex",
       "flex_flow": "row",
       "grid_auto_columns": "True",
       "justify_content": "flex-start",
       "width": "100%"
      }
     },
     "a784968645b741a288cd681e51750283": {
      "model_module": "@jupyter-widgets/controls",
      "model_module_version": "1.5.0",
      "model_name": "HBoxModel",
      "state": {
       "children": [
        "IPY_MODEL_23140676b4164ce1b10ed75d8c15a0c5",
        "IPY_MODEL_8acb1b7bd7544056af45025174f43b3c",
        "IPY_MODEL_9f7346e18b9e4f0f84a0c45157afe5bd"
       ],
       "layout": "IPY_MODEL_46631a242f814d0c80a1d7bd579362d0"
      }
     },
     "a7a1887ce9634de3bc63083b8f54591a": {
      "model_module": "@jupyter-widgets/controls",
      "model_module_version": "1.5.0",
      "model_name": "ButtonModel",
      "state": {
       "button_style": "success",
       "description": "run",
       "layout": "IPY_MODEL_e2d5cdc601a849ee822a6fe6038c0a20",
       "style": "IPY_MODEL_0ede9a7af5d245f1b57362279f751097",
       "tooltip": "execute the script based on the user inputs"
      }
     },
     "a7b0d983d05e4f579349664369ac2248": {
      "model_module": "@jupyter-widgets/base",
      "model_module_version": "1.2.0",
      "model_name": "LayoutModel",
      "state": {}
     },
     "a7cba96177f74b7283d4e253f40f636a": {
      "model_module": "@jupyter-widgets/base",
      "model_module_version": "1.2.0",
      "model_name": "LayoutModel",
      "state": {}
     },
     "a7e171e914f04d649afa1dd06db1287f": {
      "model_module": "@jupyter-widgets/controls",
      "model_module_version": "1.5.0",
      "model_name": "SelectMultipleModel",
      "state": {
       "_options_labels": [
        "C:\\engDev\\git_mf\\ipyrun\\data\\raw\\gbxml.xml",
        "C:\\engDev\\git_mf\\ipyrun\\data\\interim\\gbjson.json",
        "C:\\engDev\\git_mf\\ipyrun\\data\\processed\\gbxml_datagrab.xlsx",
        "C:\\engDev\\git_mf\\ipyrun\\data\\processed\\gbxml_spcs-treemap.png"
       ],
       "description": "outputs",
       "index": [],
       "layout": "IPY_MODEL_2df1fe1121bb43a4936d2c0e678fc239",
       "rows": 4,
       "style": "IPY_MODEL_3161a0cd9fe2471ca080deeeffdc34ea"
      }
     },
     "a82578a52da24776bb49fa57eb5841ee": {
      "model_module": "@jupyter-widgets/base",
      "model_module_version": "1.2.0",
      "model_name": "LayoutModel",
      "state": {
       "align_items": "stretch",
       "display": "flex",
       "flex_flow": "row",
       "grid_auto_columns": "True",
       "justify_content": "flex-start",
       "width": "80%"
      }
     },
     "a8a8ad4d5ab74b76b9ff88b99599fea1": {
      "model_module": "@jupyter-widgets/controls",
      "model_module_version": "1.5.0",
      "model_name": "SelectMultipleModel",
      "state": {
       "_options_labels": [
        "C:\\engDev\\git_mf\\ipyrun\\data\\raw\\gbxml.xml",
        "C:\\engDev\\git_mf\\ipyrun\\data\\interim\\gbjson.json",
        "C:\\engDev\\git_mf\\ipyrun\\data\\processed\\gbxml_datagrab.xlsx",
        "C:\\engDev\\git_mf\\ipyrun\\data\\processed\\gbxml_spcs-treemap.png"
       ],
       "description": "outputs",
       "index": [],
       "layout": "IPY_MODEL_2f935521cb8e4587a8522c4720b35a06",
       "rows": 4,
       "style": "IPY_MODEL_eb868cf52e21449fb736f0e54ef25638"
      }
     },
     "a8d88a7d167847c8af1fce0684bca67b": {
      "model_module": "@jupyter-widgets/controls",
      "model_module_version": "1.5.0",
      "model_name": "HTMLModel",
      "state": {
       "layout": "IPY_MODEL_5479223cbb0e41c492bead5461a9c774",
       "style": "IPY_MODEL_44d2bc27d1b74d768e38f4aa17c25ead",
       "value": "<p>defines the logic of the space naming. use default value where practical.</p>"
      }
     },
     "a8f5ab8701dd400e9f8a04a7e9d9a60a": {
      "model_module": "@jupyter-widgets/controls",
      "model_module_version": "1.5.0",
      "model_name": "RadioButtonsModel",
      "state": {
       "_options_labels": [
        "TEMPLATE: C:\\engDev\\git_mf\\MF_Toolbox\\dev\\mf_scripts\\template_inputs\\inputs-gbxml.json",
        "PROJECT: C:\\engDev\\git_mf\\ipyrun\\ipyrun\\appdata\\inputs\\inputs-gbxml.json"
       ],
       "index": 0,
       "layout": "IPY_MODEL_71fa605d76fb485facff6965637d1c35",
       "style": "IPY_MODEL_662762ec386d45d883ca95456f4d8461"
      }
     },
     "a9284ab4a275494abd3092c9b2d37db0": {
      "model_module": "@jupyter-widgets/controls",
      "model_module_version": "1.5.0",
      "model_name": "HBoxModel",
      "state": {
       "children": [
        "IPY_MODEL_6b6780a9d71d4df28f6087bf031e239a",
        "IPY_MODEL_a65d8583069d40138ca5a8009f4add73"
       ],
       "layout": "IPY_MODEL_7a419bc470b54af28285345f47638517"
      }
     },
     "a93dfbd7aefd4f5a8c01f5a0e536167c": {
      "model_module": "@jupyter-widgets/base",
      "model_module_version": "1.2.0",
      "model_name": "LayoutModel",
      "state": {}
     },
     "a958358d4060424299c0266ff34a9975": {
      "model_module": "@jupyter-widgets/controls",
      "model_module_version": "1.5.0",
      "model_name": "VBoxModel",
      "state": {
       "children": [
        "IPY_MODEL_ed22fabd10a143b38c820672acf2981b",
        "IPY_MODEL_e99fa86efa364726863d04e361ad4c55"
       ],
       "layout": "IPY_MODEL_5cb66532097b4b45a0646d050ca22359"
      }
     },
     "a95e3aaad58645a59d0513ef53a3362b": {
      "model_module": "@jupyter-widgets/controls",
      "model_module_version": "1.5.0",
      "model_name": "HBoxModel",
      "state": {
       "children": [
        "IPY_MODEL_34ef69ff73cb4978af0ab636abfe86c6",
        "IPY_MODEL_96d762a0b2f54c33bd2dbecfb61e7a84"
       ],
       "layout": "IPY_MODEL_7e750d3da8e34e6dbb85c6f794dc5c1c"
      }
     },
     "a9809f1419474630b1f138e00f553e2b": {
      "model_module": "@jupyter-widgets/controls",
      "model_module_version": "1.5.0",
      "model_name": "ButtonStyleModel",
      "state": {
       "font_weight": "bold"
      }
     },
     "aa23b723cc5f4b52bd0e5f0900d04b0c": {
      "model_module": "@jupyter-widgets/controls",
      "model_module_version": "1.5.0",
      "model_name": "ButtonModel",
      "state": {
       "icon": "eye-slash",
       "layout": "IPY_MODEL_26859a8cf104400890415111b6c757f9",
       "style": "IPY_MODEL_34705450c7ab466e8894f5d9a72d6912",
       "tooltip": "removes temporary output view"
      }
     },
     "aab43100f0fa4ea9a5cf132673f99ab5": {
      "model_module": "@jupyter-widgets/controls",
      "model_module_version": "1.5.0",
      "model_name": "HBoxModel",
      "state": {
       "children": [
        "IPY_MODEL_f42889840f6840dea0affdf3ac7dfd88",
        "IPY_MODEL_e92f6785a6904e19b64fd88521073ecb"
       ],
       "layout": "IPY_MODEL_c5b3e175ccdf4395854338ae3d2ce7eb"
      }
     },
     "aad545018cec4e85bc47ae5578ef1d0a": {
      "model_module": "@jupyter-widgets/controls",
      "model_module_version": "1.5.0",
      "model_name": "DescriptionStyleModel",
      "state": {
       "description_width": ""
      }
     },
     "aaef4f117d324b9e9ac4c4e81f96b453": {
      "model_module": "@jupyter-widgets/controls",
      "model_module_version": "1.5.0",
      "model_name": "CheckboxModel",
      "state": {
       "disabled": false,
       "indent": false,
       "layout": "IPY_MODEL_db42b8fe92414bac8fc4e27d3e14a414",
       "style": "IPY_MODEL_083b7d46a04f47b896d91a607d025477",
       "value": false
      }
     },
     "aaf3f772a985425d88d51eb44919d5fd": {
      "model_module": "@jupyter-widgets/controls",
      "model_module_version": "1.5.0",
      "model_name": "HBoxModel",
      "state": {
       "children": [
        "IPY_MODEL_980cd16dab864d4eaae6d6fdf3c28783"
       ],
       "layout": "IPY_MODEL_9eb46056b0ef485fb39e65fc84e61a11"
      }
     },
     "ab35b29cf95a43598791091a56f6865a": {
      "model_module": "@jupyter-widgets/controls",
      "model_module_version": "1.5.0",
      "model_name": "ButtonModel",
      "state": {
       "button_style": "warning",
       "description": "revert to last save",
       "layout": "IPY_MODEL_79426ae2206b47e881bfb4ff85ad5dbf",
       "style": "IPY_MODEL_742662d2923e45c2b97e210fe91f7917"
      }
     },
     "ab49a4c2c31849f0a00d52231e1ddf18": {
      "model_module": "@jupyter-widgets/base",
      "model_module_version": "1.2.0",
      "model_name": "LayoutModel",
      "state": {}
     },
     "ab617b02d764478fba20f1d849dec5ba": {
      "model_module": "@jupyter-widgets/base",
      "model_module_version": "1.2.0",
      "model_name": "LayoutModel",
      "state": {}
     },
     "ab624fad04374ef9b8c385c9bf751909": {
      "model_module": "@jupyter-widgets/base",
      "model_module_version": "1.2.0",
      "model_name": "LayoutModel",
      "state": {}
     },
     "ab932e414e6c4237b9c24bc263d050d5": {
      "model_module": "@jupyter-widgets/base",
      "model_module_version": "1.2.0",
      "model_name": "LayoutModel",
      "state": {}
     },
     "abd40f4f6f64466d8d964d8a0b1e4bfa": {
      "model_module": "@jupyter-widgets/output",
      "model_module_version": "1.0.0",
      "model_name": "OutputModel",
      "state": {
       "layout": "IPY_MODEL_736579fc5d3e42e0812df032479a1f44"
      }
     },
     "abd90d5c64e94c818bdc8abf766b9a5b": {
      "model_module": "@jupyter-widgets/base",
      "model_module_version": "1.2.0",
      "model_name": "LayoutModel",
      "state": {}
     },
     "abd9964be58544979af70172920b99fc": {
      "model_module": "@jupyter-widgets/controls",
      "model_module_version": "1.5.0",
      "model_name": "HBoxModel",
      "state": {
       "children": [
        "IPY_MODEL_ad0915ab4b384207923c0d8a956f93c0",
        "IPY_MODEL_c791c6424741458eaf14138b74ee7984",
        "IPY_MODEL_493bb8ffe29a405bbd1d4413fcff469f",
        "IPY_MODEL_9fe038047f53474fbfc39b9f0be0c87b",
        "IPY_MODEL_18dfaf607db14355af3369aefb7bbcfa",
        "IPY_MODEL_b693187b4a004e039caf4d95d22e7dc2",
        "IPY_MODEL_0f76b44812c945109da70aa2d0eabcee"
       ],
       "layout": "IPY_MODEL_c6125fc36bbe46bc90435af2b32906c0"
      }
     },
     "abeed610d2bc4badb9e9c38988e885ff": {
      "model_module": "@jupyter-widgets/controls",
      "model_module_version": "1.5.0",
      "model_name": "ButtonModel",
      "state": {
       "button_style": "warning",
       "description": "revert to last save",
       "layout": "IPY_MODEL_42b895a5afb84ead96f6bef2a5e9d4c7",
       "style": "IPY_MODEL_097739379e2844478109070110b679fd"
      }
     },
     "ac3dff6f398046918704983943fd0f05": {
      "model_module": "@jupyter-widgets/controls",
      "model_module_version": "1.5.0",
      "model_name": "DescriptionStyleModel",
      "state": {
       "description_width": ""
      }
     },
     "ac61775717804fd78fb6047b8f0703f1": {
      "model_module": "@jupyter-widgets/base",
      "model_module_version": "1.2.0",
      "model_name": "LayoutModel",
      "state": {
       "border": "0px",
       "margin": "0px",
       "padding": "0px"
      }
     },
     "ac63525b47d14a1790344014ad6faae9": {
      "model_module": "@jupyter-widgets/base",
      "model_module_version": "1.2.0",
      "model_name": "LayoutModel",
      "state": {}
     },
     "acec808bfe494b859b042b809ee354aa": {
      "model_module": "@jupyter-widgets/base",
      "model_module_version": "1.2.0",
      "model_name": "LayoutModel",
      "state": {
       "align_items": "stretch",
       "display": "flex",
       "flex_flow": "row",
       "grid_auto_columns": "True",
       "justify_content": "flex-end",
       "width": "90%"
      }
     },
     "ad0915ab4b384207923c0d8a956f93c0": {
      "model_module": "@jupyter-widgets/controls",
      "model_module_version": "1.5.0",
      "model_name": "ButtonModel",
      "state": {
       "icon": "eye-slash",
       "layout": "IPY_MODEL_c1780a1d8fd048358a3389124a8cd0a3",
       "style": "IPY_MODEL_5ea9109b69d64fc5bbdf1177325b7cf6",
       "tooltip": "removes temporary output view"
      }
     },
     "ad16a057387540238dd06e196f2d4fd4": {
      "model_module": "@jupyter-widgets/base",
      "model_module_version": "1.2.0",
      "model_name": "LayoutModel",
      "state": {
       "align_items": "stretch",
       "width": "100%"
      }
     },
     "ad1a2ce0439d40a0b6a19158d3aadd5e": {
      "model_module": "@jupyter-widgets/base",
      "model_module_version": "1.2.0",
      "model_name": "LayoutModel",
      "state": {
       "border": "0px",
       "margin": "0px",
       "padding": "0px"
      }
     },
     "ad4db4ff07484e71807d8771d19b54b9": {
      "model_module": "@jupyter-widgets/controls",
      "model_module_version": "1.5.0",
      "model_name": "VBoxModel",
      "state": {
       "children": [
        "IPY_MODEL_75840e40a1854c4ba8706cfda8cc2b10",
        "IPY_MODEL_0f66b8fffc8040f58381387135e9f240",
        "IPY_MODEL_21a90cfbedb6415c8007688ae86acb3d"
       ],
       "layout": "IPY_MODEL_4e007f6a90934286bf41b521f29555a1"
      }
     },
     "ad838ceb016d431d83fac9968c491623": {
      "model_module": "@jupyter-widgets/controls",
      "model_module_version": "1.5.0",
      "model_name": "DescriptionStyleModel",
      "state": {
       "description_width": ""
      }
     },
     "ad9073bba8484c3c97394cc29e384052": {
      "model_module": "@jupyter-widgets/controls",
      "model_module_version": "1.5.0",
      "model_name": "HTMLModel",
      "state": {
       "layout": "IPY_MODEL_d59d182a76494107acf6f2bb4ccc8d48",
       "style": "IPY_MODEL_85aa99aed81b41faae5c359ed3208b8b",
       "value": "<p>1st section of space name code</p>"
      }
     },
     "ad9cd268cb2e4d04902cea482be15da1": {
      "model_module": "@jupyter-widgets/controls",
      "model_module_version": "1.5.0",
      "model_name": "DescriptionStyleModel",
      "state": {
       "description_width": ""
      }
     },
     "ade1866470a54dbf876f8fb9b6f2f910": {
      "model_module": "@jupyter-widgets/controls",
      "model_module_version": "1.5.0",
      "model_name": "ButtonModel",
      "state": {
       "icon": "eye-slash",
       "layout": "IPY_MODEL_3418ad8ed5d8410c833c4c51198bf411",
       "style": "IPY_MODEL_d0a142ba3b1d491b9f6bc56da0e54ced",
       "tooltip": "removes temporary output view"
      }
     },
     "ae157461486040779b77962025ab154a": {
      "model_module": "@jupyter-widgets/controls",
      "model_module_version": "1.5.0",
      "model_name": "DescriptionStyleModel",
      "state": {
       "description_width": ""
      }
     },
     "ae2ed98e9cd04459b40c0d7bf5a5d2e0": {
      "model_module": "@jupyter-widgets/base",
      "model_module_version": "1.2.0",
      "model_name": "LayoutModel",
      "state": {}
     },
     "ae2f647cd8d747d3ad8501d7d140b33e": {
      "model_module": "@jupyter-widgets/base",
      "model_module_version": "1.2.0",
      "model_name": "LayoutModel",
      "state": {}
     },
     "ae4d872bb5ae45aba7d763371193de8e": {
      "model_module": "@jupyter-widgets/controls",
      "model_module_version": "1.5.0",
      "model_name": "DescriptionStyleModel",
      "state": {
       "description_width": ""
      }
     },
     "aee2910e8fe94bdfb741a0884c08616b": {
      "model_module": "@jupyter-widgets/base",
      "model_module_version": "1.2.0",
      "model_name": "LayoutModel",
      "state": {
       "align_items": "stretch",
       "border": "dashed 0.2px green",
       "display": "flex",
       "flex_flow": "row",
       "grid_auto_columns": "True",
       "justify_content": "flex-start",
       "width": "100%"
      }
     },
     "af4087db71724aba9c63cadc4fbc778e": {
      "model_module": "@jupyter-widgets/base",
      "model_module_version": "1.2.0",
      "model_name": "LayoutModel",
      "state": {
       "align_items": "stretch",
       "display": "flex",
       "flex_flow": "row",
       "grid_auto_columns": "True",
       "justify_content": "flex-end",
       "width": "90%"
      }
     },
     "afe66071c4b645e0adbc3459836706df": {
      "model_module": "@jupyter-widgets/controls",
      "model_module_version": "1.5.0",
      "model_name": "ButtonModel",
      "state": {
       "description": "load",
       "icon": "upload",
       "layout": "IPY_MODEL_195f24d2c7bb4087b92692aa159276ec",
       "style": "IPY_MODEL_eba351d2af4846efae0ea4cace75d1dd"
      }
     },
     "b0633876fca942fe994f1ce1e3a0443b": {
      "model_module": "@jupyter-widgets/controls",
      "model_module_version": "1.5.0",
      "model_name": "VBoxModel",
      "state": {
       "children": [
        "IPY_MODEL_35da4988a4024e06968523bab5f4a5a9",
        "IPY_MODEL_6d0b5334bd3d4879b99e560a5a6e18a5"
       ],
       "layout": "IPY_MODEL_4888a7e553e045a294cc950037ae47ec"
      }
     },
     "b076ddc2b77b4e91bf1c6b65af7d0bb5": {
      "model_module": "@jupyter-widgets/controls",
      "model_module_version": "1.5.0",
      "model_name": "TextModel",
      "state": {
       "layout": "IPY_MODEL_a0f3df9a075a4a289d869d80108041f6",
       "style": "IPY_MODEL_f9dd5686e086428fa4cb7e9411390a9a",
       "value": "SpaceId"
      }
     },
     "b07dad4eb2e947d1af154ed6f869b3ee": {
      "model_module": "@jupyter-widgets/base",
      "model_module_version": "1.2.0",
      "model_name": "LayoutModel",
      "state": {}
     },
     "b081ad9b0b5a4153b6ad5dc8d865c480": {
      "model_module": "@jupyter-widgets/controls",
      "model_module_version": "1.5.0",
      "model_name": "HBoxModel",
      "state": {
       "children": [
        "IPY_MODEL_7c3c2931e9c141bc9de0714b28123efd",
        "IPY_MODEL_5301ac17ffd44982af16fde6bf3708f2"
       ],
       "layout": "IPY_MODEL_20cf6151f11e434ea5eb7acc2850198a"
      }
     },
     "b09dfa0ecf8b4fcebdeb4b4f01ee0185": {
      "model_module": "@jupyter-widgets/base",
      "model_module_version": "1.2.0",
      "model_name": "LayoutModel",
      "state": {}
     },
     "b0ce3b35055b492393b17d9993c4a592": {
      "model_module": "@jupyter-widgets/controls",
      "model_module_version": "1.5.0",
      "model_name": "ButtonStyleModel",
      "state": {
       "font_weight": "bold"
      }
     },
     "b12315000dea45ba9f7669cb28b4fe8d": {
      "model_module": "@jupyter-widgets/controls",
      "model_module_version": "1.5.0",
      "model_name": "TextModel",
      "state": {
       "layout": "IPY_MODEL_9b5ab6b296bd4d89a1f78c2e6e3f7b5c",
       "style": "IPY_MODEL_f52c25e8918140eeb633f235b16edd31",
       "value": "Level"
      }
     },
     "b15b24a8532f4ae588ee5fb509ab4445": {
      "model_module": "@jupyter-widgets/controls",
      "model_module_version": "1.5.0",
      "model_name": "HTMLModel",
      "state": {
       "layout": "IPY_MODEL_12542a29cc934595acb6ea5f7691db44",
       "style": "IPY_MODEL_d60e0ad315544273bf44362385cbebce",
       "value": "<p>3rd section of space name code (enter None if 3rd section doesn't exist)</p>"
      }
     },
     "b15f35a41e8f4504934afc6836785b9e": {
      "model_module": "@jupyter-widgets/base",
      "model_module_version": "1.2.0",
      "model_name": "LayoutModel",
      "state": {}
     },
     "b15f7de2a0264772afb53b233c7d2e45": {
      "model_module": "@jupyter-widgets/base",
      "model_module_version": "1.2.0",
      "model_name": "LayoutModel",
      "state": {}
     },
     "b165b41e90794392a3cfc12cf03671aa": {
      "model_module": "@jupyter-widgets/controls",
      "model_module_version": "1.5.0",
      "model_name": "DescriptionStyleModel",
      "state": {
       "description_width": ""
      }
     },
     "b17c73abc5b9486aa5288755a4c20e89": {
      "model_module": "@jupyter-widgets/controls",
      "model_module_version": "1.5.0",
      "model_name": "VBoxModel",
      "state": {
       "children": [
        "IPY_MODEL_75840e40a1854c4ba8706cfda8cc2b10",
        "IPY_MODEL_0f66b8fffc8040f58381387135e9f240",
        "IPY_MODEL_21a90cfbedb6415c8007688ae86acb3d"
       ],
       "layout": "IPY_MODEL_7302fd973879441db733c8ce8a5c2383"
      }
     },
     "b191be22dcfb49da88f153bb2ee6c948": {
      "model_module": "@jupyter-widgets/controls",
      "model_module_version": "1.5.0",
      "model_name": "VBoxModel",
      "state": {
       "children": [
        "IPY_MODEL_c1794a2239474769a7aaaf9db47e56cf",
        "IPY_MODEL_1430cba94b1f4025a0cae55cb6dcca68"
       ],
       "layout": "IPY_MODEL_dcb39cf8b20643b58760302921558419"
      }
     },
     "b1c782c5d5dd4411853e6bf669e9e9eb": {
      "model_module": "@jupyter-widgets/controls",
      "model_module_version": "1.5.0",
      "model_name": "HBoxModel",
      "state": {
       "children": [
        "IPY_MODEL_d17976d9976a469bb67dad891c357c36",
        "IPY_MODEL_f817a18fda784b5086ce69d357bce955"
       ],
       "layout": "IPY_MODEL_817b88bebe8a4bbdafd7f5aad47cbbfd"
      }
     },
     "b20cca81f63f4bf1bb1be4e73e2dd2b7": {
      "model_module": "@jupyter-widgets/controls",
      "model_module_version": "1.5.0",
      "model_name": "TextModel",
      "state": {
       "description": "script",
       "disabled": true,
       "layout": "IPY_MODEL_501bf67cb6f14140a487c5ad44f7716f",
       "style": "IPY_MODEL_40633151f6d74859bd4a4f05387d1712",
       "value": "C:\\engDev\\git_mf\\MF_Toolbox\\dev\\mf_scripts\\gbxml.py"
      }
     },
     "b2405edbda2746c6997a706501356fb0": {
      "model_module": "@jupyter-widgets/controls",
      "model_module_version": "1.5.0",
      "model_name": "VBoxModel",
      "state": {
       "children": [
        "IPY_MODEL_44704d24822945e29721aded6ef72786",
        "IPY_MODEL_19c1b4a2f13a49149bfb7e7e479ad40d"
       ],
       "layout": "IPY_MODEL_90e7665712214e8db8acd80e289208c8"
      }
     },
     "b29c71145f02402182c1311e5176a7f7": {
      "model_module": "@jupyter-widgets/base",
      "model_module_version": "1.2.0",
      "model_name": "LayoutModel",
      "state": {
       "align_items": "stretch",
       "width": "100%"
      }
     },
     "b347c24cc45f4b4d8f9806080be39881": {
      "model_module": "@jupyter-widgets/base",
      "model_module_version": "1.2.0",
      "model_name": "LayoutModel",
      "state": {
       "height": "30px",
       "width": "auto"
      }
     },
     "b3603b96493445409ccead07fc0a0b50": {
      "model_module": "@jupyter-widgets/controls",
      "model_module_version": "1.5.0",
      "model_name": "DescriptionStyleModel",
      "state": {
       "description_width": ""
      }
     },
     "b360795acf9148d183f7c2e68630c288": {
      "model_module": "@jupyter-widgets/base",
      "model_module_version": "1.2.0",
      "model_name": "LayoutModel",
      "state": {}
     },
     "b384d523c1454fd8bff72f88a5580c85": {
      "model_module": "@jupyter-widgets/controls",
      "model_module_version": "1.5.0",
      "model_name": "HBoxModel",
      "state": {
       "children": [
        "IPY_MODEL_65a441233c95454daed754ccb33ac552",
        "IPY_MODEL_fd7ef63b212346129fbbdeef273bd99d"
       ],
       "layout": "IPY_MODEL_2c13096e4adb40a7975edfc385f6ed89"
      }
     },
     "b38661c0f390453a94cc6eda41347fbe": {
      "model_module": "@jupyter-widgets/controls",
      "model_module_version": "1.5.0",
      "model_name": "ButtonStyleModel",
      "state": {
       "font_weight": "bold"
      }
     },
     "b39d7f0b6a524beca1ef6e7077384a14": {
      "model_module": "@jupyter-widgets/base",
      "model_module_version": "1.2.0",
      "model_name": "LayoutModel",
      "state": {}
     },
     "b3c7cf50ac064a35b0b7e11b6f8acf73": {
      "model_module": "@jupyter-widgets/controls",
      "model_module_version": "1.5.0",
      "model_name": "DescriptionStyleModel",
      "state": {
       "description_width": ""
      }
     },
     "b40edada04244c0fb4e703dd7790553f": {
      "model_module": "@jupyter-widgets/base",
      "model_module_version": "1.2.0",
      "model_name": "LayoutModel",
      "state": {
       "align_items": "stretch",
       "border": "dashed 0.2px green",
       "display": "flex",
       "flex_flow": "row",
       "grid_auto_columns": "True",
       "justify_content": "flex-start",
       "width": "100%"
      }
     },
     "b42bbf8c098d4157a887c8265a42731d": {
      "model_module": "@jupyter-widgets/base",
      "model_module_version": "1.2.0",
      "model_name": "LayoutModel",
      "state": {
       "width": "100%"
      }
     },
     "b46edc049da04ac6a20edcf136dca9f0": {
      "model_module": "@jupyter-widgets/output",
      "model_module_version": "1.0.0",
      "model_name": "OutputModel",
      "state": {
       "layout": "IPY_MODEL_b4f44d794fec4f37baf187077aad59f5"
      }
     },
     "b4b9530bd5114912906b1cfa33b7e925": {
      "model_module": "@jupyter-widgets/controls",
      "model_module_version": "1.5.0",
      "model_name": "ButtonStyleModel",
      "state": {
       "font_weight": "bold"
      }
     },
     "b4f44d794fec4f37baf187077aad59f5": {
      "model_module": "@jupyter-widgets/base",
      "model_module_version": "1.2.0",
      "model_name": "LayoutModel",
      "state": {}
     },
     "b4fb398120b84ef4bc8d5289e429aab6": {
      "model_module": "@jupyter-widgets/controls",
      "model_module_version": "1.5.0",
      "model_name": "ButtonModel",
      "state": {
       "icon": "eye-slash",
       "layout": "IPY_MODEL_830e9bb5c6794b18bc1577c16e1306a8",
       "style": "IPY_MODEL_487e5fa3c77041789df56822e490c1ce",
       "tooltip": "removes temporary output view"
      }
     },
     "b52c1e61349e40e4968942ae995b5714": {
      "model_module": "@jupyter-widgets/controls",
      "model_module_version": "1.5.0",
      "model_name": "TextModel",
      "state": {
       "layout": "IPY_MODEL_3150849d43cb4813b1e746aaf623e1ed",
       "style": "IPY_MODEL_61e80c13c1734cee81e3ae4562224ac2",
       "value": "BlockCode"
      }
     },
     "b5859a5573c340cfa2c931bf84bf7bfd": {
      "model_module": "@jupyter-widgets/base",
      "model_module_version": "1.2.0",
      "model_name": "LayoutModel",
      "state": {}
     },
     "b58adf1fd66347f5ad92600782b9708a": {
      "model_module": "@jupyter-widgets/controls",
      "model_module_version": "1.5.0",
      "model_name": "ButtonModel",
      "state": {
       "button_style": "info",
       "description": "show log",
       "layout": "IPY_MODEL_fb115d0ceae64996a46348796f14c257",
       "style": "IPY_MODEL_6db5fcba221c480d9cdccf90668683d9",
       "tooltip": "show a log of when the script was executed to generate the outputs, and by who"
      }
     },
     "b59f923356664a01836a79e5c102eb7f": {
      "model_module": "@jupyter-widgets/controls",
      "model_module_version": "1.5.0",
      "model_name": "ButtonModel",
      "state": {
       "button_style": "info",
       "description": "show source code",
       "layout": "IPY_MODEL_177d50523a7944eca6f5d0d2060dbbcc",
       "style": "IPY_MODEL_836e2cd00dbf42398323e8eae4d280ef",
       "tooltip": "shows the raw python code in the preview window below"
      }
     },
     "b608174ddf9f4d70b2bdc058ac868085": {
      "model_module": "@jupyter-widgets/controls",
      "model_module_version": "1.5.0",
      "model_name": "HBoxModel",
      "state": {
       "children": [
        "IPY_MODEL_4bdaa9fb969548cab7de513c5c9ba0f2",
        "IPY_MODEL_48b9973d29e846d58fcc558c08b2caf9"
       ],
       "layout": "IPY_MODEL_2142b0e9375741f3b016db26945e1ef2"
      }
     },
     "b67482ece07f45398a8c9379567079b2": {
      "model_module": "@jupyter-widgets/controls",
      "model_module_version": "1.5.0",
      "model_name": "SelectMultipleModel",
      "state": {
       "_options_labels": [
        "C:\\engDev\\git_mf\\ipyrun\\data\\raw\\gbxml.xml",
        "C:\\engDev\\git_mf\\ipyrun\\data\\interim\\gbjson.json",
        "C:\\engDev\\git_mf\\ipyrun\\data\\processed\\gbxml_datagrab.xlsx",
        "C:\\engDev\\git_mf\\ipyrun\\data\\processed\\gbxml_spcs-treemap.png"
       ],
       "description": "outputs",
       "index": [],
       "layout": "IPY_MODEL_fed9eb49944b4aac8b47a18a5f2d4753",
       "rows": 4,
       "style": "IPY_MODEL_d1742b65f4ee48a3bb5de07376ccc173"
      }
     },
     "b6776d540f9642a7a367136876d251eb": {
      "model_module": "@jupyter-widgets/controls",
      "model_module_version": "1.5.0",
      "model_name": "VBoxModel",
      "state": {
       "children": [
        "IPY_MODEL_d2563245b8164e21a7181ed583a2d33f",
        "IPY_MODEL_10890b46851c4ce0b2ba4463d48a2a67"
       ],
       "layout": "IPY_MODEL_ab624fad04374ef9b8c385c9bf751909"
      }
     },
     "b693187b4a004e039caf4d95d22e7dc2": {
      "model_module": "@jupyter-widgets/controls",
      "model_module_version": "1.5.0",
      "model_name": "ButtonModel",
      "state": {
       "button_style": "info",
       "description": "preview outputs",
       "layout": "IPY_MODEL_07fee480f49a43bd9b32e2eb6b6bcde1",
       "style": "IPY_MODEL_d0ab21df5f15461b96ff8e2b6102d26b",
       "tooltip": "show a preview of the output files generated when the script runs"
      }
     },
     "b6c9fdbaca2d4929bca66edea953a618": {
      "model_module": "@jupyter-widgets/base",
      "model_module_version": "1.2.0",
      "model_name": "LayoutModel",
      "state": {
       "width": "100%"
      }
     },
     "b6d52e4b0e0a4418a4a389cc569282c3": {
      "model_module": "@jupyter-widgets/controls",
      "model_module_version": "1.5.0",
      "model_name": "AccordionModel",
      "state": {
       "_titles": {
        "0": "gbxml"
       },
       "children": [
        "IPY_MODEL_b0633876fca942fe994f1ce1e3a0443b"
       ],
       "layout": "IPY_MODEL_1e10b6bd1e484a66b9c62bee4db892ce"
      }
     },
     "b6f0014611cd415987cbcb2cfe75bd1b": {
      "model_module": "@jupyter-widgets/controls",
      "model_module_version": "1.5.0",
      "model_name": "ButtonStyleModel",
      "state": {
       "font_weight": "bold"
      }
     },
     "b757be0bdfb94bfbad8fd51beec438bb": {
      "model_module": "@jupyter-widgets/base",
      "model_module_version": "1.2.0",
      "model_name": "LayoutModel",
      "state": {}
     },
     "b7ca826615f04c3a9a8f920d936050ff": {
      "model_module": "@jupyter-widgets/base",
      "model_module_version": "1.2.0",
      "model_name": "LayoutModel",
      "state": {}
     },
     "b7e4f69e29804786a7773e4b7d95f9b6": {
      "model_module": "@jupyter-widgets/controls",
      "model_module_version": "1.5.0",
      "model_name": "ButtonModel",
      "state": {
       "button_style": "info",
       "description": "show log",
       "layout": "IPY_MODEL_ab617b02d764478fba20f1d849dec5ba",
       "style": "IPY_MODEL_b4b9530bd5114912906b1cfa33b7e925",
       "tooltip": "show a log of when the script was executed to generate the outputs, and by who"
      }
     },
     "b802eae238744f23b58af1584f8b1386": {
      "model_module": "@jupyter-widgets/controls",
      "model_module_version": "1.5.0",
      "model_name": "ButtonStyleModel",
      "state": {
       "font_weight": "bold"
      }
     },
     "b8446383a2bf4471b5402a9884d00cc0": {
      "model_module": "@jupyter-widgets/controls",
      "model_module_version": "1.5.0",
      "model_name": "ButtonStyleModel",
      "state": {
       "font_weight": "bold"
      }
     },
     "b84531840f27416697a6e3bf8bef2685": {
      "model_module": "@jupyter-widgets/controls",
      "model_module_version": "1.5.0",
      "model_name": "HBoxModel",
      "state": {
       "children": [
        "IPY_MODEL_41f5d4d28ffd4de683984aed5f549fea"
       ],
       "layout": "IPY_MODEL_237137d34ba849169fb5e6c94e65938e"
      }
     },
     "b8790890e2664f508c6728dc1de3bdc8": {
      "model_module": "@jupyter-widgets/base",
      "model_module_version": "1.2.0",
      "model_name": "LayoutModel",
      "state": {}
     },
     "b8cd95e37c304e3fafe8830b5db81dc1": {
      "model_module": "@jupyter-widgets/output",
      "model_module_version": "1.0.0",
      "model_name": "OutputModel",
      "state": {
       "layout": "IPY_MODEL_56aa6e3d8da14bccbc50a6bc8f189d5c"
      }
     },
     "b9046d39ba704e0db09a0f760b152775": {
      "model_module": "@jupyter-widgets/base",
      "model_module_version": "1.2.0",
      "model_name": "LayoutModel",
      "state": {
       "align_items": "stretch",
       "border": "dashed 0.2px green",
       "display": "flex",
       "flex_flow": "row",
       "grid_auto_columns": "True",
       "justify_content": "flex-start",
       "width": "100%"
      }
     },
     "b9207b4155404cebbfc1d9bc48cd1067": {
      "model_module": "@jupyter-widgets/base",
      "model_module_version": "1.2.0",
      "model_name": "LayoutModel",
      "state": {}
     },
     "b94ca35352774157bcb9f6856de0a0f3": {
      "model_module": "@jupyter-widgets/controls",
      "model_module_version": "1.5.0",
      "model_name": "TextModel",
      "state": {
       "layout": "IPY_MODEL_8a3238e47c6744f69e55361d21f7a446",
       "style": "IPY_MODEL_a6a03bc6092349cebdb9c5f51cd37011",
       "value": "TM46Category"
      }
     },
     "b996df7ee7364a43ab740c037ea83db1": {
      "model_module": "@jupyter-widgets/controls",
      "model_module_version": "1.5.0",
      "model_name": "DescriptionStyleModel",
      "state": {
       "description_width": ""
      }
     },
     "b99a036947e64952b2646c9fc9caa43b": {
      "model_module": "@jupyter-widgets/controls",
      "model_module_version": "1.5.0",
      "model_name": "ButtonStyleModel",
      "state": {
       "font_weight": "bold"
      }
     },
     "b9bb3d28807149bf99b2bfc5c109a210": {
      "model_module": "@jupyter-widgets/base",
      "model_module_version": "1.2.0",
      "model_name": "LayoutModel",
      "state": {}
     },
     "ba702203bebf4108a289d1348c601c53": {
      "model_module": "@jupyter-widgets/controls",
      "model_module_version": "1.5.0",
      "model_name": "HBoxModel",
      "state": {
       "children": [
        "IPY_MODEL_b12315000dea45ba9f7669cb28b4fe8d",
        "IPY_MODEL_6cbc80a30a3a497ba36c3b54b01f4188"
       ],
       "layout": "IPY_MODEL_57cd3bb4850e4d308c9f9790c90509e3"
      }
     },
     "ba7470559c1f4f7887735df7a9f422c6": {
      "model_module": "@jupyter-widgets/controls",
      "model_module_version": "1.5.0",
      "model_name": "ButtonStyleModel",
      "state": {
       "font_weight": "bold"
      }
     },
     "ba90dd64b942403ca2dd428de4acc487": {
      "model_module": "@jupyter-widgets/controls",
      "model_module_version": "1.5.0",
      "model_name": "HBoxModel",
      "state": {
       "children": [
        "IPY_MODEL_fd2cbbdde14b4c7d9fdc42204aeec1af",
        "IPY_MODEL_28400014308b4913a1f69b4cbf1c80fb"
       ],
       "layout": "IPY_MODEL_5feaaaa67fec4720beb65a8b96f14bdf"
      }
     },
     "bab2dd70d0824f169d0214d8860b62a3": {
      "model_module": "@jupyter-widgets/controls",
      "model_module_version": "1.5.0",
      "model_name": "DescriptionStyleModel",
      "state": {
       "description_width": ""
      }
     },
     "bab67269da7141b9bb9a564cbfd3b37f": {
      "model_module": "@jupyter-widgets/base",
      "model_module_version": "1.2.0",
      "model_name": "LayoutModel",
      "state": {
       "width": "5%"
      }
     },
     "bb52b88b84544696aef83ec7c4b17039": {
      "model_module": "@jupyter-widgets/base",
      "model_module_version": "1.2.0",
      "model_name": "LayoutModel",
      "state": {
       "height": "30px",
       "width": "auto"
      }
     },
     "bc247d4dc4a142649bef40d0e175cc25": {
      "model_module": "@jupyter-widgets/controls",
      "model_module_version": "1.5.0",
      "model_name": "ButtonModel",
      "state": {
       "button_style": "info",
       "description": "preview outputs",
       "layout": "IPY_MODEL_db07916a763840f594dfdc742c87eb43",
       "style": "IPY_MODEL_5f2cc61f376a46e195ffb6bf3fb151fd",
       "tooltip": "show a preview of the output files generated when the script runs"
      }
     },
     "bc374c6fc6994dc087ed29b09a78892f": {
      "model_module": "@jupyter-widgets/controls",
      "model_module_version": "1.5.0",
      "model_name": "DescriptionStyleModel",
      "state": {
       "description_width": ""
      }
     },
     "bc95095aaaa542788f01ce75f2518223": {
      "model_module": "@jupyter-widgets/base",
      "model_module_version": "1.2.0",
      "model_name": "LayoutModel",
      "state": {
       "align_items": "stretch",
       "border": "dashed 0.2px green",
       "display": "flex",
       "flex_flow": "row",
       "grid_auto_columns": "True",
       "justify_content": "flex-start",
       "width": "100%"
      }
     },
     "bcec300e4e7e410db1fb65eeff3397b1": {
      "model_module": "@jupyter-widgets/controls",
      "model_module_version": "1.5.0",
      "model_name": "DescriptionStyleModel",
      "state": {
       "description_width": ""
      }
     },
     "bcf464bfd520419dbafd29572e142782": {
      "model_module": "@jupyter-widgets/controls",
      "model_module_version": "1.5.0",
      "model_name": "RadioButtonsModel",
      "state": {
       "_options_labels": [
        "TEMPLATE: C:\\engDev\\git_mf\\MF_Toolbox\\dev\\mf_scripts\\template_inputs\\inputs-gbxml.json",
        "PROJECT: C:\\engDev\\git_mf\\ipyrun\\ipyrun\\appdata\\inputs\\inputs-gbxml.json"
       ],
       "index": 0,
       "layout": "IPY_MODEL_822e4c04f4f149d1931621c2e0705f43",
       "style": "IPY_MODEL_f19a7413466a4f88bea609b46e556280"
      }
     },
     "bd161327a0f64847beb986f6960b84d4": {
      "model_module": "@jupyter-widgets/controls",
      "model_module_version": "1.5.0",
      "model_name": "TextModel",
      "state": {
       "description": "inputs",
       "disabled": true,
       "layout": "IPY_MODEL_f6e87b58b99d4bad898611222bf26470",
       "style": "IPY_MODEL_ec80e593bb0d472bb9878bb4efb4be30",
       "value": "C:\\engDev\\git_mf\\ipyrun\\ipyrun\\appdata\\inputs\\inputs-eplus_pipework_params.csv"
      }
     },
     "bd4e0b82bb534b83b97d250646425fc8": {
      "model_module": "@jupyter-widgets/controls",
      "model_module_version": "1.5.0",
      "model_name": "HBoxModel",
      "state": {
       "children": [
        "IPY_MODEL_c1bd954df5744ce6b94feb0a64f8d31c",
        "IPY_MODEL_33c483049c2e4682a9b9dc3286851315"
       ],
       "layout": "IPY_MODEL_0eeb472a149c47e2a05b63b4a7322b38"
      }
     },
     "bd9d443553d14c78bbf5977f9368ad15": {
      "model_module": "@jupyter-widgets/controls",
      "model_module_version": "1.5.0",
      "model_name": "ButtonStyleModel",
      "state": {
       "font_weight": "bold"
      }
     },
     "bda0d210e2de4cfdac21ff4d0f49d06c": {
      "model_module": "@jupyter-widgets/base",
      "model_module_version": "1.2.0",
      "model_name": "LayoutModel",
      "state": {
       "width": "5%"
      }
     },
     "bdc15ef33b2945ad89c1b550103a1b79": {
      "model_module": "@jupyter-widgets/controls",
      "model_module_version": "1.5.0",
      "model_name": "ButtonStyleModel",
      "state": {
       "font_weight": "bold"
      }
     },
     "be4d39a42d904676ac0a66e6aa5a7a04": {
      "model_module": "@jupyter-widgets/base",
      "model_module_version": "1.2.0",
      "model_name": "LayoutModel",
      "state": {}
     },
     "bea6742b9932409aa95789dd496cff9d": {
      "model_module": "@jupyter-widgets/base",
      "model_module_version": "1.2.0",
      "model_name": "LayoutModel",
      "state": {}
     },
     "bea86250e049478390f9f346fc7dff74": {
      "model_module": "@jupyter-widgets/base",
      "model_module_version": "1.2.0",
      "model_name": "LayoutModel",
      "state": {}
     },
     "bec599b6e63a435aa2b8349934711dd6": {
      "model_module": "@jupyter-widgets/controls",
      "model_module_version": "1.5.0",
      "model_name": "ButtonStyleModel",
      "state": {}
     },
     "bee04e27d285467296354c1aba12a780": {
      "model_module": "@jupyter-widgets/controls",
      "model_module_version": "1.5.0",
      "model_name": "TextModel",
      "state": {
       "description": "script",
       "disabled": true,
       "layout": "IPY_MODEL_ea5c538d74424cbea1266d97a73675c4",
       "style": "IPY_MODEL_cb2f54e31ae1482f8b7aef3299c64356",
       "value": "C:\\engDev\\git_mf\\MF_Toolbox\\dev\\mf_scripts\\gbxml.py"
      }
     },
     "bf690755222d4587a0779289459b0aa0": {
      "model_module": "@jupyter-widgets/base",
      "model_module_version": "1.2.0",
      "model_name": "LayoutModel",
      "state": {}
     },
     "bf7f4c14e2e74ec99a344ff8f4ae40c6": {
      "model_module": "@jupyter-widgets/base",
      "model_module_version": "1.2.0",
      "model_name": "LayoutModel",
      "state": {}
     },
     "c00b5a49bbec4ea68665432b2b6c6d76": {
      "model_module": "@jupyter-widgets/base",
      "model_module_version": "1.2.0",
      "model_name": "LayoutModel",
      "state": {
       "display": "flex",
       "flex_flow": "row",
       "grid_auto_columns": "False",
       "justify_content": "flex-start",
       "width": "100%"
      }
     },
     "c0484024e855436b81c4e6ba418bd17c": {
      "model_module": "@jupyter-widgets/base",
      "model_module_version": "1.2.0",
      "model_name": "LayoutModel",
      "state": {
       "align_items": "stretch",
       "border": "dashed 0.2px green",
       "display": "flex",
       "flex_flow": "row",
       "grid_auto_columns": "True",
       "justify_content": "flex-start",
       "width": "100%"
      }
     },
     "c0838f961795426587a607e147cea7b2": {
      "model_module": "@jupyter-widgets/controls",
      "model_module_version": "1.5.0",
      "model_name": "ButtonModel",
      "state": {
       "button_style": "info",
       "description": "show log",
       "layout": "IPY_MODEL_085a48a190eb43b5b355d1c9f8c17451",
       "style": "IPY_MODEL_7eb267cc2a7543de9286bfb412361135",
       "tooltip": "show a log of when the script was executed to generate the outputs, and by who"
      }
     },
     "c0a42fae1c6e40d5af3fb2cf40fb1254": {
      "model_module": "@jupyter-widgets/controls",
      "model_module_version": "1.5.0",
      "model_name": "ButtonModel",
      "state": {
       "button_style": "success",
       "description": "run",
       "layout": "IPY_MODEL_faa52e6de09e48f7a8eb2d643798f31c",
       "style": "IPY_MODEL_845f06f2d4c24ca997735775a109588a",
       "tooltip": "execute the script based on the user inputs"
      }
     },
     "c0f0ab63684e4936950cf9debb9647bf": {
      "model_module": "@jupyter-widgets/controls",
      "model_module_version": "1.5.0",
      "model_name": "ButtonStyleModel",
      "state": {}
     },
     "c12debbe08bd4fa096e9c59836b0a367": {
      "model_module": "@jupyter-widgets/controls",
      "model_module_version": "1.5.0",
      "model_name": "ButtonStyleModel",
      "state": {
       "font_weight": "bold"
      }
     },
     "c1505d8a4e8c47e99a37e14b18d422f9": {
      "model_module": "@jupyter-widgets/output",
      "model_module_version": "1.0.0",
      "model_name": "OutputModel",
      "state": {
       "layout": "IPY_MODEL_8e7297a1ebaf4addb23d52d7acd2578c"
      }
     },
     "c1780a1d8fd048358a3389124a8cd0a3": {
      "model_module": "@jupyter-widgets/base",
      "model_module_version": "1.2.0",
      "model_name": "LayoutModel",
      "state": {
       "width": "5%"
      }
     },
     "c1794a2239474769a7aaaf9db47e56cf": {
      "model_module": "@jupyter-widgets/controls",
      "model_module_version": "1.5.0",
      "model_name": "BoxModel",
      "state": {
       "children": [
        "IPY_MODEL_391775ed8ac64e61b4b2e1b0bd6586d8"
       ],
       "layout": "IPY_MODEL_5c1d82dfed274340abc59782dd3fa977"
      }
     },
     "c17cab475831422687b4ea853132e6a9": {
      "model_module": "@jupyter-widgets/controls",
      "model_module_version": "1.5.0",
      "model_name": "DescriptionStyleModel",
      "state": {
       "description_width": ""
      }
     },
     "c1ad7dacb6fc417e8927c6cb48beb22a": {
      "model_module": "@jupyter-widgets/base",
      "model_module_version": "1.2.0",
      "model_name": "LayoutModel",
      "state": {}
     },
     "c1b34ae8af4e409491b18da0123e7931": {
      "model_module": "@jupyter-widgets/base",
      "model_module_version": "1.2.0",
      "model_name": "LayoutModel",
      "state": {
       "border": "0px",
       "margin": "0px",
       "padding": "0px"
      }
     },
     "c1b3d7a3c7fd4b10829a96a225d37ea0": {
      "model_module": "@jupyter-widgets/controls",
      "model_module_version": "1.5.0",
      "model_name": "ButtonStyleModel",
      "state": {
       "font_weight": "bold"
      }
     },
     "c1bd954df5744ce6b94feb0a64f8d31c": {
      "model_module": "@jupyter-widgets/controls",
      "model_module_version": "1.5.0",
      "model_name": "HTMLModel",
      "state": {
       "layout": "IPY_MODEL_cc757ed19e664220a71caad3fe0d8124",
       "style": "IPY_MODEL_4fa4457f49a84421b2a6964a25e2d544",
       "value": "<p>fpth_in</p>"
      }
     },
     "c1cbd03d555e4f8a968799959b254801": {
      "model_module": "@jupyter-widgets/controls",
      "model_module_version": "1.5.0",
      "model_name": "VBoxModel",
      "state": {
       "children": [
        "IPY_MODEL_22ebcde96e7d40aaa2bf182568ec9306",
        "IPY_MODEL_a8f5ab8701dd400e9f8a04a7e9d9a60a"
       ],
       "layout": "IPY_MODEL_0708c353b34c4d4b9f5e10d8e1434e44"
      }
     },
     "c2545259926547f48891bdd37652946c": {
      "model_module": "@jupyter-widgets/controls",
      "model_module_version": "1.5.0",
      "model_name": "HBoxModel",
      "state": {
       "children": [
        "IPY_MODEL_f0e2bb64344d4249814c37b7c6bcf8a2",
        "IPY_MODEL_e0e8eb5895ab4c45b4af3fbd7698cf2a"
       ],
       "layout": "IPY_MODEL_343d1717bf394abfa561a1aaff687c94"
      }
     },
     "c27c60b69a6045d1b9e63286a02a3910": {
      "model_module": "@jupyter-widgets/controls",
      "model_module_version": "1.5.0",
      "model_name": "HBoxModel",
      "state": {
       "children": [
        "IPY_MODEL_96a66865f42343c7a0449ce52c89e0a0",
        "IPY_MODEL_7098d4cbde8447c1b14744df9a4051f7"
       ],
       "layout": "IPY_MODEL_af4087db71724aba9c63cadc4fbc778e"
      }
     },
     "c34dde153b0c4305853878f3f33c5eb3": {
      "model_module": "@jupyter-widgets/controls",
      "model_module_version": "1.5.0",
      "model_name": "DescriptionStyleModel",
      "state": {
       "description_width": ""
      }
     },
     "c3bf4448e1694cc4a1d0ab03eb4af8ac": {
      "model_module": "@jupyter-widgets/controls",
      "model_module_version": "1.5.0",
      "model_name": "HTMLModel",
      "state": {
       "layout": "IPY_MODEL_dc4d47a2cfb54f82a202c7ba984b172e",
       "style": "IPY_MODEL_1ec5bbce26b14573a2410ef068f81f37",
       "value": "<p>defines the logic of the space naming. use default value where practical.</p>"
      }
     },
     "c3c0d3a4005d450b9fd949fcdba47e55": {
      "model_module": "@jupyter-widgets/base",
      "model_module_version": "1.2.0",
      "model_name": "LayoutModel",
      "state": {
       "align_items": "stretch",
       "border": "dashed 0.2px green",
       "display": "flex",
       "flex_flow": "row",
       "grid_auto_columns": "True",
       "justify_content": "flex-start",
       "width": "100%"
      }
     },
     "c4bb45fcc03e439cac93f8daaa44dbfc": {
      "model_module": "@jupyter-widgets/controls",
      "model_module_version": "1.5.0",
      "model_name": "ButtonStyleModel",
      "state": {
       "font_weight": "bold"
      }
     },
     "c4c6c4c017594a469f3d1146ccfcf0a5": {
      "model_module": "@jupyter-widgets/controls",
      "model_module_version": "1.5.0",
      "model_name": "ButtonStyleModel",
      "state": {
       "font_weight": "bold"
      }
     },
     "c4c7853f6c2041e3b82998c7c47204e0": {
      "model_module": "@jupyter-widgets/base",
      "model_module_version": "1.2.0",
      "model_name": "LayoutModel",
      "state": {}
     },
     "c4d6d0c0b7254f05a882477addebdaa8": {
      "model_module": "@jupyter-widgets/base",
      "model_module_version": "1.2.0",
      "model_name": "LayoutModel",
      "state": {
       "width": "5%"
      }
     },
     "c517e3cc73554622be07270a26e49e91": {
      "model_module": "@jupyter-widgets/controls",
      "model_module_version": "1.5.0",
      "model_name": "ToggleButtonModel",
      "state": {
       "button_style": "info",
       "description": "inputs from file",
       "layout": "IPY_MODEL_10647ca2386c4dd597361c6979065362",
       "style": "IPY_MODEL_26ef79d59ab6457aaa62ed7c74a5dbc6"
      }
     },
     "c550aec99dde47b391e8e685523c787a": {
      "model_module": "@jupyter-widgets/controls",
      "model_module_version": "1.5.0",
      "model_name": "HBoxModel",
      "state": {
       "children": [
        "IPY_MODEL_48bdc63fdb7b447095e38442aa562fd2",
        "IPY_MODEL_7eeb87bf711749279f44652283af1870"
       ],
       "layout": "IPY_MODEL_5cc77bbfb1e84080b12200f4913d4e9a"
      }
     },
     "c55654fab43a4507b2a94d00c4745623": {
      "model_module": "@jupyter-widgets/base",
      "model_module_version": "1.2.0",
      "model_name": "LayoutModel",
      "state": {
       "align_items": "stretch",
       "display": "flex",
       "flex_flow": "row",
       "grid_auto_columns": "True",
       "justify_content": "flex-end",
       "width": "90%"
      }
     },
     "c5755e41c33c40b299f21d783669f259": {
      "model_module": "@jupyter-widgets/controls",
      "model_module_version": "1.5.0",
      "model_name": "DescriptionStyleModel",
      "state": {
       "description_width": ""
      }
     },
     "c57a429edd0049198520e6229d2cde9c": {
      "model_module": "@jupyter-widgets/base",
      "model_module_version": "1.2.0",
      "model_name": "LayoutModel",
      "state": {}
     },
     "c5b3e175ccdf4395854338ae3d2ce7eb": {
      "model_module": "@jupyter-widgets/base",
      "model_module_version": "1.2.0",
      "model_name": "LayoutModel",
      "state": {
       "border": "0px",
       "margin": "0px",
       "padding": "0px"
      }
     },
     "c5da08146af84f1ca40e23806623d058": {
      "model_module": "@jupyter-widgets/controls",
      "model_module_version": "1.5.0",
      "model_name": "HBoxModel",
      "state": {
       "children": [
        "IPY_MODEL_9db8df11e58e4dfeb43bf3a9cc4782fe",
        "IPY_MODEL_4430c61fe11745948372576b9bdb0b21"
       ],
       "layout": "IPY_MODEL_d0993cc5e6424edfa3015d782d4aa963"
      }
     },
     "c6125fc36bbe46bc90435af2b32906c0": {
      "model_module": "@jupyter-widgets/base",
      "model_module_version": "1.2.0",
      "model_name": "LayoutModel",
      "state": {
       "align_items": "stretch",
       "width": "100%"
      }
     },
     "c66323596c934f9890728ee92dffc5ea": {
      "model_module": "@jupyter-widgets/controls",
      "model_module_version": "1.5.0",
      "model_name": "TextModel",
      "state": {
       "description": "script",
       "disabled": true,
       "layout": "IPY_MODEL_8d98eef6db94408293cdd6ed85634285",
       "style": "IPY_MODEL_8bfc4d4206104c9686edcab98ec297e7",
       "value": "C:\\engDev\\git_mf\\MF_Toolbox\\dev\\mf_scripts\\gbxml.py"
      }
     },
     "c66ffe990e57431e881cb885aef2a996": {
      "model_module": "@jupyter-widgets/controls",
      "model_module_version": "1.5.0",
      "model_name": "ToggleButtonModel",
      "state": {
       "icon": "arrow-down",
       "layout": "IPY_MODEL_fe8ec6f4cd8e4893b66321ba032583af",
       "style": "IPY_MODEL_c17cab475831422687b4ea853132e6a9"
      }
     },
     "c694fdc4b5b546babc8f4457079c5a6b": {
      "model_module": "@jupyter-widgets/base",
      "model_module_version": "1.2.0",
      "model_name": "LayoutModel",
      "state": {
       "align_items": "stretch",
       "display": "flex",
       "flex_flow": "row",
       "grid_auto_columns": "True",
       "justify_content": "flex-end",
       "width": "90%"
      }
     },
     "c718f1deab454dcfa1b0139aa305342f": {
      "model_module": "@jupyter-widgets/controls",
      "model_module_version": "1.5.0",
      "model_name": "ButtonStyleModel",
      "state": {}
     },
     "c75224e5dabd47369bec7a7f79c8dd7d": {
      "model_module": "@jupyter-widgets/base",
      "model_module_version": "1.2.0",
      "model_name": "LayoutModel",
      "state": {}
     },
     "c75cd0a439f54a2cb113caf495c1d5dc": {
      "model_module": "@jupyter-widgets/base",
      "model_module_version": "1.2.0",
      "model_name": "LayoutModel",
      "state": {}
     },
     "c7847a48f0cf4a55a7466ffcbfb26168": {
      "model_module": "@jupyter-widgets/base",
      "model_module_version": "1.2.0",
      "model_name": "LayoutModel",
      "state": {
       "width": "100%"
      }
     },
     "c791c6424741458eaf14138b74ee7984": {
      "model_module": "@jupyter-widgets/controls",
      "model_module_version": "1.5.0",
      "model_name": "ButtonModel",
      "state": {
       "icon": "question-circle",
       "layout": "IPY_MODEL_ed9d4f66bbb142b5b8f51742a72d34fb",
       "style": "IPY_MODEL_fd60a5f8b9664b1e9e6e9866cb95fa22",
       "tooltip": "describes the functionality of elements in the RunApp interface"
      }
     },
     "c863b9b80a8447e7bea5fb07c36feeec": {
      "model_module": "@jupyter-widgets/base",
      "model_module_version": "1.2.0",
      "model_name": "LayoutModel",
      "state": {}
     },
     "c8a7ba68b1d24127b2f1962916ac6000": {
      "model_module": "@jupyter-widgets/controls",
      "model_module_version": "1.5.0",
      "model_name": "TextModel",
      "state": {
       "description": "inputs",
       "disabled": true,
       "layout": "IPY_MODEL_44c1f7a4d54b418da74135fe240c67ad",
       "style": "IPY_MODEL_bab2dd70d0824f169d0214d8860b62a3",
       "value": "C:\\engDev\\git_mf\\ipyrun\\ipyrun\\appdata\\inputs\\inputs-docx_to_pdf.json"
      }
     },
     "c8d64f18c1fd4639a1b31291342bab92": {
      "model_module": "@jupyter-widgets/controls",
      "model_module_version": "1.5.0",
      "model_name": "ButtonStyleModel",
      "state": {}
     },
     "c93ffd83fd18403d8cf34154c2c569ce": {
      "model_module": "@jupyter-widgets/controls",
      "model_module_version": "1.5.0",
      "model_name": "ButtonModel",
      "state": {
       "button_style": "info",
       "description": "show source code",
       "layout": "IPY_MODEL_5add3b3976044565a58654a2e7f986b8",
       "style": "IPY_MODEL_c0f0ab63684e4936950cf9debb9647bf",
       "tooltip": "shows the raw python code in the preview window below"
      }
     },
     "c9675f7852814ce6b8d4044d769c8e45": {
      "model_module": "@jupyter-widgets/controls",
      "model_module_version": "1.5.0",
      "model_name": "HBoxModel",
      "state": {
       "children": [
        "IPY_MODEL_6dc110c74b664196873bc61cc2de6240",
        "IPY_MODEL_0fbbf085292d4076b5b46eaef5af89cd"
       ],
       "layout": "IPY_MODEL_8c287b04224c4139a4564c9618fe7a09"
      }
     },
     "c99792bbd017473bb0e97229ea72873c": {
      "model_module": "@jupyter-widgets/controls",
      "model_module_version": "1.5.0",
      "model_name": "HBoxModel",
      "state": {
       "children": [
        "IPY_MODEL_3094ab49d1574a12bed48f6407238336"
       ],
       "layout": "IPY_MODEL_6759d0252d7c450ba979ea70c64e7777"
      }
     },
     "ca18c4725373439a82c99c969b8d79dc": {
      "model_module": "@jupyter-widgets/base",
      "model_module_version": "1.2.0",
      "model_name": "LayoutModel",
      "state": {
       "align_items": "stretch",
       "border": "dashed 0.2px green",
       "display": "flex",
       "flex_flow": "row",
       "grid_auto_columns": "True",
       "justify_content": "flex-start",
       "width": "100%"
      }
     },
     "ca553299bc40487d90b580fd1f147eb8": {
      "model_module": "@jupyter-widgets/controls",
      "model_module_version": "1.5.0",
      "model_name": "ButtonStyleModel",
      "state": {
       "font_weight": "bold"
      }
     },
     "ca820f88407d4f82b2025191e0ec9a00": {
      "model_module": "@jupyter-widgets/base",
      "model_module_version": "1.2.0",
      "model_name": "LayoutModel",
      "state": {}
     },
     "ca869337b3444157a8de85e8b44ed494": {
      "model_module": "@jupyter-widgets/base",
      "model_module_version": "1.2.0",
      "model_name": "LayoutModel",
      "state": {}
     },
     "cb2588684de240acb96294defdca4f0c": {
      "model_module": "@jupyter-widgets/base",
      "model_module_version": "1.2.0",
      "model_name": "LayoutModel",
      "state": {
       "align_items": "stretch",
       "width": "100%"
      }
     },
     "cb2f54e31ae1482f8b7aef3299c64356": {
      "model_module": "@jupyter-widgets/controls",
      "model_module_version": "1.5.0",
      "model_name": "DescriptionStyleModel",
      "state": {
       "description_width": ""
      }
     },
     "cb62f0bb01664d07a9f1ac652c9f9d95": {
      "model_module": "@jupyter-widgets/controls",
      "model_module_version": "1.5.0",
      "model_name": "VBoxModel",
      "state": {
       "children": [
        "IPY_MODEL_a06af01e2e9b46ce8fc0a7881f3b7346",
        "IPY_MODEL_fb92fc814ee94fb2a9c486b0d1b15dda",
        "IPY_MODEL_2eb5f7482a7d4f2084781b65a1a08097"
       ],
       "layout": "IPY_MODEL_ea713d9d72724cfea4f4670937c0654c"
      }
     },
     "cc1337d4e49342a899f38790d0709f29": {
      "model_module": "@jupyter-widgets/controls",
      "model_module_version": "1.5.0",
      "model_name": "VBoxModel",
      "state": {
       "layout": "IPY_MODEL_3d920bf8c945442c8d6c6125f2d6f934"
      }
     },
     "cc524ca1df6a42c7a2541ee20c68b6a5": {
      "model_module": "@jupyter-widgets/controls",
      "model_module_version": "1.5.0",
      "model_name": "HTMLModel",
      "state": {
       "layout": "IPY_MODEL_6705ab7c85e74fb3a56a11d107ce854b",
       "style": "IPY_MODEL_3ec288e083b8439b8e84a84a40d997e1",
       "value": "<p>4</p>"
      }
     },
     "cc6d0bb0d3f0422a9433c8323c851ae5": {
      "model_module": "@jupyter-widgets/base",
      "model_module_version": "1.2.0",
      "model_name": "LayoutModel",
      "state": {}
     },
     "cc7367ad578141028b7721468fdcb20e": {
      "model_module": "@jupyter-widgets/base",
      "model_module_version": "1.2.0",
      "model_name": "LayoutModel",
      "state": {
       "align_items": "stretch",
       "display": "flex",
       "flex_flow": "row",
       "grid_auto_columns": "True",
       "justify_content": "flex-start",
       "width": "80%"
      }
     },
     "cc757ed19e664220a71caad3fe0d8124": {
      "model_module": "@jupyter-widgets/base",
      "model_module_version": "1.2.0",
      "model_name": "LayoutModel",
      "state": {}
     },
     "cca52f654b3b4253831cfb88a20c227b": {
      "model_module": "@jupyter-widgets/controls",
      "model_module_version": "1.5.0",
      "model_name": "HTMLModel",
      "state": {
       "layout": "IPY_MODEL_fc9fea3167f949ffa412a64f85fae0d3",
       "style": "IPY_MODEL_32059e1e70e34421a536d710cc19f02b",
       "value": "<p>edit user input form below</p>"
      }
     },
     "ccc4c53afc0b4c9689ccbebe5f12a767": {
      "model_module": "@jupyter-widgets/base",
      "model_module_version": "1.2.0",
      "model_name": "LayoutModel",
      "state": {
       "display": "flex",
       "flex_flow": "row",
       "grid_auto_columns": "False",
       "justify_content": "flex-start",
       "width": "100%"
      }
     },
     "ccd718ec315140bb88effb977cdcede6": {
      "model_module": "@jupyter-widgets/controls",
      "model_module_version": "1.5.0",
      "model_name": "DescriptionStyleModel",
      "state": {
       "description_width": ""
      }
     },
     "cd0b8ae9e80a48fe99effdab63251f0b": {
      "model_module": "@jupyter-widgets/controls",
      "model_module_version": "1.5.0",
      "model_name": "DescriptionStyleModel",
      "state": {
       "description_width": ""
      }
     },
     "cd3417538f474e8889e28c21a55b7bef": {
      "model_module": "@jupyter-widgets/controls",
      "model_module_version": "1.5.0",
      "model_name": "HBoxModel",
      "state": {
       "children": [
        "IPY_MODEL_2c1d8a724d4047ecab6b18bdf3aa8f08",
        "IPY_MODEL_1fdd54cb850549e898317adcbf1c2789"
       ],
       "layout": "IPY_MODEL_810373ec30174731a37ac9243bbdb1aa"
      }
     },
     "cd40bb7183ed4965b26a45ebabbe5afb": {
      "model_module": "@jupyter-widgets/output",
      "model_module_version": "1.0.0",
      "model_name": "OutputModel",
      "state": {
       "layout": "IPY_MODEL_2acf1c6f3c524718b2db4a34441da579"
      }
     },
     "cd7f3e72a5e5493b9efc06dc029e8ef4": {
      "model_module": "@jupyter-widgets/controls",
      "model_module_version": "1.5.0",
      "model_name": "TextModel",
      "state": {
       "description": "script",
       "disabled": true,
       "layout": "IPY_MODEL_b347c24cc45f4b4d8f9806080be39881",
       "style": "IPY_MODEL_aad545018cec4e85bc47ae5578ef1d0a",
       "value": "C:\\engDev\\git_mf\\MF_Toolbox\\dev\\mf_scripts\\eplus_pipework_params.py"
      }
     },
     "cdc6e98d68984b9ebe9ce87ef4670c18": {
      "model_module": "@jupyter-widgets/base",
      "model_module_version": "1.2.0",
      "model_name": "LayoutModel",
      "state": {}
     },
     "cdc6f32c40844d7a8bbeed041208c64c": {
      "model_module": "@jupyter-widgets/base",
      "model_module_version": "1.2.0",
      "model_name": "LayoutModel",
      "state": {}
     },
     "cded0f1aa648494ebac36407c715309f": {
      "model_module": "@jupyter-widgets/base",
      "model_module_version": "1.2.0",
      "model_name": "LayoutModel",
      "state": {}
     },
     "ceb004a320074e3b9092b966d6f52294": {
      "model_module": "@jupyter-widgets/base",
      "model_module_version": "1.2.0",
      "model_name": "LayoutModel",
      "state": {}
     },
     "cf2e4ee50ff54d2ba8def0b84e86a9d1": {
      "model_module": "@jupyter-widgets/controls",
      "model_module_version": "1.5.0",
      "model_name": "SelectMultipleModel",
      "state": {
       "_options_labels": [
        "C:\\engDev\\git_mf\\ipyrun\\reports\\JupyterReportDemo.pdf"
       ],
       "description": "outputs",
       "index": [],
       "layout": "IPY_MODEL_bb52b88b84544696aef83ec7c4b17039",
       "rows": 4,
       "style": "IPY_MODEL_7941ef5750bb42c1aedb3bc4f0effec8"
      }
     },
     "cf4d42d917fb4d32b552cd28bf651f16": {
      "model_module": "@jupyter-widgets/controls",
      "model_module_version": "1.5.0",
      "model_name": "DescriptionStyleModel",
      "state": {
       "description_width": ""
      }
     },
     "cf7b0ffbd2a24d8c8cbef09955142ba3": {
      "model_module": "@jupyter-widgets/controls",
      "model_module_version": "1.5.0",
      "model_name": "TextModel",
      "state": {
       "layout": "IPY_MODEL_207c40418f014884a87b20e4517a264e",
       "style": "IPY_MODEL_48888f13a1fb456bad78d0a40a622e8f",
       "value": "C:\\engDev\\git_mf\\MF_Toolbox\\dev\\examples\\gbxml\\105_LiveseyExchange_heatpump-normal-fabric.xml"
      }
     },
     "cf908dcac3564da7a3cc18ff2a1baa03": {
      "model_module": "@jupyter-widgets/base",
      "model_module_version": "1.2.0",
      "model_name": "LayoutModel",
      "state": {
       "align_items": "stretch",
       "display": "flex",
       "flex_flow": "row",
       "grid_auto_columns": "True",
       "justify_content": "flex-end",
       "width": "90%"
      }
     },
     "d05b50cbef2044ff9701d2f963597447": {
      "model_module": "@jupyter-widgets/base",
      "model_module_version": "1.2.0",
      "model_name": "LayoutModel",
      "state": {
       "align_items": "stretch",
       "border": "dashed 0.2px green",
       "display": "flex",
       "flex_flow": "row",
       "grid_auto_columns": "True",
       "justify_content": "flex-start",
       "width": "100%"
      }
     },
     "d06b9ace746344daa9d135633e7e3636": {
      "model_module": "@jupyter-widgets/controls",
      "model_module_version": "1.5.0",
      "model_name": "TextModel",
      "state": {
       "description": "script",
       "disabled": true,
       "layout": "IPY_MODEL_db6c2aed1b04466181dccb1bdad2005f",
       "style": "IPY_MODEL_9874ac9ceacc478abcb4a2ab16d5e8c5",
       "value": "C:\\engDev\\git_mf\\MF_Toolbox\\dev\\mf_scripts\\gbxml.py"
      }
     },
     "d0993cc5e6424edfa3015d782d4aa963": {
      "model_module": "@jupyter-widgets/base",
      "model_module_version": "1.2.0",
      "model_name": "LayoutModel",
      "state": {
       "align_items": "stretch",
       "display": "flex",
       "flex_flow": "row",
       "grid_auto_columns": "True",
       "justify_content": "flex-start",
       "width": "80%"
      }
     },
     "d0a142ba3b1d491b9f6bc56da0e54ced": {
      "model_module": "@jupyter-widgets/controls",
      "model_module_version": "1.5.0",
      "model_name": "ButtonStyleModel",
      "state": {
       "font_weight": "bold"
      }
     },
     "d0ab21df5f15461b96ff8e2b6102d26b": {
      "model_module": "@jupyter-widgets/controls",
      "model_module_version": "1.5.0",
      "model_name": "ButtonStyleModel",
      "state": {
       "font_weight": "bold"
      }
     },
     "d0e239bb32a542d2b09836407bc85f12": {
      "model_module": "@jupyter-widgets/controls",
      "model_module_version": "1.5.0",
      "model_name": "ButtonModel",
      "state": {
       "button_style": "success",
       "description": "save changes",
       "layout": "IPY_MODEL_ab932e414e6c4237b9c24bc263d050d5",
       "style": "IPY_MODEL_b8446383a2bf4471b5402a9884d00cc0"
      }
     },
     "d0fa5e5367054e1e8b71772e77aa9573": {
      "model_module": "@jupyter-widgets/controls",
      "model_module_version": "1.5.0",
      "model_name": "ButtonStyleModel",
      "state": {
       "font_weight": "bold"
      }
     },
     "d143f91b143a473994b93a4a17e0d92e": {
      "model_module": "@jupyter-widgets/base",
      "model_module_version": "1.2.0",
      "model_name": "LayoutModel",
      "state": {}
     },
     "d1742b65f4ee48a3bb5de07376ccc173": {
      "model_module": "@jupyter-widgets/controls",
      "model_module_version": "1.5.0",
      "model_name": "DescriptionStyleModel",
      "state": {
       "description_width": ""
      }
     },
     "d17976d9976a469bb67dad891c357c36": {
      "model_module": "@jupyter-widgets/controls",
      "model_module_version": "1.5.0",
      "model_name": "ToggleButtonModel",
      "state": {
       "icon": "arrow-down",
       "layout": "IPY_MODEL_4d1836f0996f4197951f969b595f077b",
       "style": "IPY_MODEL_cd0b8ae9e80a48fe99effdab63251f0b"
      }
     },
     "d17f3de9b4494ee3bddad027da609f10": {
      "model_module": "@jupyter-widgets/controls",
      "model_module_version": "1.5.0",
      "model_name": "DescriptionStyleModel",
      "state": {
       "description_width": ""
      }
     },
     "d2563245b8164e21a7181ed583a2d33f": {
      "model_module": "@jupyter-widgets/controls",
      "model_module_version": "1.5.0",
      "model_name": "HBoxModel",
      "state": {
       "children": [
        "IPY_MODEL_bd4e0b82bb534b83b97d250646425fc8"
       ],
       "layout": "IPY_MODEL_c0484024e855436b81c4e6ba418bd17c"
      }
     },
     "d2fdcba848754e1abd13b69f4c61b9fc": {
      "model_module": "@jupyter-widgets/controls",
      "model_module_version": "1.5.0",
      "model_name": "SelectMultipleModel",
      "state": {
       "_options_labels": [
        "C:\\engDev\\git_mf\\ipyrun\\data\\external\\eplus_pipework_params.csv"
       ],
       "description": "outputs",
       "index": [],
       "layout": "IPY_MODEL_29e3db9578bd4377aeee2e981c8652b7",
       "rows": 4,
       "style": "IPY_MODEL_d17f3de9b4494ee3bddad027da609f10"
      }
     },
     "d30a8bcfaf0148f1bff56e1ef4710191": {
      "model_module": "@jupyter-widgets/controls",
      "model_module_version": "1.5.0",
      "model_name": "SelectMultipleModel",
      "state": {
       "_options_labels": [
        "C:\\engDev\\git_mf\\ipyrun\\data\\external\\eplus_pipework_params.csv"
       ],
       "description": "outputs",
       "index": [],
       "layout": "IPY_MODEL_37dc5284c7b94d5686b6f73cc3094587",
       "rows": 4,
       "style": "IPY_MODEL_b996df7ee7364a43ab740c037ea83db1"
      }
     },
     "d331ef3a0f454afa86509183223ca921": {
      "model_module": "@jupyter-widgets/base",
      "model_module_version": "1.2.0",
      "model_name": "LayoutModel",
      "state": {
       "height": "30px",
       "width": "auto"
      }
     },
     "d3dbfa9eb4b244c4b58c5988a4c67a64": {
      "model_module": "@jupyter-widgets/controls",
      "model_module_version": "1.5.0",
      "model_name": "HBoxModel",
      "state": {
       "children": [
        "IPY_MODEL_94612859f11c4a16b21c55817187025e",
        "IPY_MODEL_7f6b2a0eb5f940c282ef9e551f1e8cfc"
       ],
       "layout": "IPY_MODEL_fe78f288619d41a08d7b71bf875dfce3"
      }
     },
     "d412a62f53164865affa54d0754dbc87": {
      "model_module": "@jupyter-widgets/controls",
      "model_module_version": "1.5.0",
      "model_name": "TextModel",
      "state": {
       "description": "script",
       "disabled": true,
       "layout": "IPY_MODEL_8bf8896ea8064dfc8857443cd9bb0d81",
       "style": "IPY_MODEL_ad838ceb016d431d83fac9968c491623",
       "value": "C:\\engDev\\git_mf\\MF_Toolbox\\dev\\mf_scripts\\gbxml.py"
      }
     },
     "d4389a9593b9447abe348154a9ff4699": {
      "model_module": "@jupyter-widgets/base",
      "model_module_version": "1.2.0",
      "model_name": "LayoutModel",
      "state": {
       "height": "30px",
       "max_width": "30px",
       "padding": "3px"
      }
     },
     "d43bfca3898e471fa538e2782ee8f5a4": {
      "model_module": "@jupyter-widgets/controls",
      "model_module_version": "1.5.0",
      "model_name": "TextModel",
      "state": {
       "description": "script",
       "disabled": true,
       "layout": "IPY_MODEL_18740fd363b84b3c82cfd32e696aa67d",
       "style": "IPY_MODEL_e5a3ba62db2749cc816cf74f72b64d1f",
       "value": "C:\\engDev\\git_mf\\MF_Toolbox\\dev\\mf_scripts\\docx_to_pdf.py"
      }
     },
     "d49a5aa0863447b7b1eac90bf32c5922": {
      "model_module": "@jupyter-widgets/base",
      "model_module_version": "1.2.0",
      "model_name": "LayoutModel",
      "state": {
       "height": "30px",
       "width": "auto"
      }
     },
     "d49b686dbe7649fd884a0b8cdcdd75f5": {
      "model_module": "@jupyter-widgets/output",
      "model_module_version": "1.0.0",
      "model_name": "OutputModel",
      "state": {
       "layout": "IPY_MODEL_c863b9b80a8447e7bea5fb07c36feeec"
      }
     },
     "d4c1205f29eb4ada922ca9b03b3f67ff": {
      "model_module": "@jupyter-widgets/base",
      "model_module_version": "1.2.0",
      "model_name": "LayoutModel",
      "state": {}
     },
     "d50fe59d81274533972545570131f5ee": {
      "model_module": "@jupyter-widgets/controls",
      "model_module_version": "1.5.0",
      "model_name": "ButtonStyleModel",
      "state": {
       "font_weight": "bold"
      }
     },
     "d54810595f144f83a65de5bba375a534": {
      "model_module": "@jupyter-widgets/controls",
      "model_module_version": "1.5.0",
      "model_name": "AccordionModel",
      "state": {
       "_titles": {
        "0": "gbxml"
       },
       "children": [
        "IPY_MODEL_f74543ae1641428d91115eb8c23402fd"
       ],
       "layout": "IPY_MODEL_6e62191a14644dc1b8c89c1ff2d64e48"
      }
     },
     "d5610568475f44f996ab8c4d66f8f594": {
      "model_module": "@jupyter-widgets/controls",
      "model_module_version": "1.5.0",
      "model_name": "DescriptionStyleModel",
      "state": {
       "description_width": ""
      }
     },
     "d56a8f14dc9d4ff58292b42be24671a0": {
      "model_module": "@jupyter-widgets/controls",
      "model_module_version": "1.5.0",
      "model_name": "HBoxModel",
      "state": {
       "children": [
        "IPY_MODEL_aa23b723cc5f4b52bd0e5f0900d04b0c",
        "IPY_MODEL_74f1161371bd4498a306b93579e662d4",
        "IPY_MODEL_eae67bf6642d46b582795daf18e2eb37",
        "IPY_MODEL_ea3145b3001f45d9ac3a8b46e376a3b4",
        "IPY_MODEL_88313d4e63584626a2bc8c7c9cc8df8a",
        "IPY_MODEL_3a4eb35eb7d24ffa873863b4b34681ec",
        "IPY_MODEL_50d19e381fba4dbdac18309bf867f56b"
       ],
       "layout": "IPY_MODEL_68b16a11b8da4dcfb8ced0e8226e6b2b"
      }
     },
     "d59d182a76494107acf6f2bb4ccc8d48": {
      "model_module": "@jupyter-widgets/base",
      "model_module_version": "1.2.0",
      "model_name": "LayoutModel",
      "state": {}
     },
     "d5be526ae1904db1b3c8aa01b5bd5f16": {
      "model_module": "@jupyter-widgets/output",
      "model_module_version": "1.0.0",
      "model_name": "OutputModel",
      "state": {
       "layout": "IPY_MODEL_b9207b4155404cebbfc1d9bc48cd1067"
      }
     },
     "d5dc077d20814606bde017078af78788": {
      "model_module": "@jupyter-widgets/controls",
      "model_module_version": "1.5.0",
      "model_name": "DescriptionStyleModel",
      "state": {
       "description_width": ""
      }
     },
     "d60e0ad315544273bf44362385cbebce": {
      "model_module": "@jupyter-widgets/controls",
      "model_module_version": "1.5.0",
      "model_name": "DescriptionStyleModel",
      "state": {
       "description_width": ""
      }
     },
     "d636e98140824d5883bc9c27ff43907e": {
      "model_module": "@jupyter-widgets/base",
      "model_module_version": "1.2.0",
      "model_name": "LayoutModel",
      "state": {
       "align_items": "stretch",
       "display": "flex",
       "flex_flow": "row",
       "grid_auto_columns": "True",
       "justify_content": "flex-start",
       "width": "80%"
      }
     },
     "d6958fa990924cf1a01c4e6a6f8f9d97": {
      "model_module": "@jupyter-widgets/controls",
      "model_module_version": "1.5.0",
      "model_name": "DescriptionStyleModel",
      "state": {
       "description_width": ""
      }
     },
     "d69b430727be42f2afae8e43c8f333d4": {
      "model_module": "@jupyter-widgets/controls",
      "model_module_version": "1.5.0",
      "model_name": "ButtonStyleModel",
      "state": {
       "font_weight": "bold"
      }
     },
     "d6a2834acf1140e5af4ddd38befbe2c6": {
      "model_module": "@jupyter-widgets/controls",
      "model_module_version": "1.5.0",
      "model_name": "DescriptionStyleModel",
      "state": {
       "description_width": ""
      }
     },
     "d6d8331a89614b6da3fede46c4ae6675": {
      "model_module": "@jupyter-widgets/output",
      "model_module_version": "1.0.0",
      "model_name": "OutputModel",
      "state": {
       "layout": "IPY_MODEL_c75cd0a439f54a2cb113caf495c1d5dc"
      }
     },
     "d6d9e71aeee34259b8e1f866d37e0a9d": {
      "model_module": "@jupyter-widgets/controls",
      "model_module_version": "1.5.0",
      "model_name": "ButtonStyleModel",
      "state": {
       "font_weight": "bold"
      }
     },
     "d725ea04326545a8b27bff9b5d342ab6": {
      "model_module": "@jupyter-widgets/controls",
      "model_module_version": "1.5.0",
      "model_name": "HTMLModel",
      "state": {
       "layout": "IPY_MODEL_9ccc59f356754deca5135b97f81b4bb3",
       "style": "IPY_MODEL_dae3b03348c6453c961a22836e77a63c",
       "value": "<p>1</p>"
      }
     },
     "d7608070e1b34184b2977052d6d24b08": {
      "model_module": "@jupyter-widgets/base",
      "model_module_version": "1.2.0",
      "model_name": "LayoutModel",
      "state": {
       "width": "100%"
      }
     },
     "d76f1647a4f74998ba96c649a5916fdc": {
      "model_module": "@jupyter-widgets/base",
      "model_module_version": "1.2.0",
      "model_name": "LayoutModel",
      "state": {
       "align_items": "stretch",
       "border": "dashed 0.2px green",
       "display": "flex",
       "flex_flow": "row",
       "grid_auto_columns": "True",
       "justify_content": "flex-start",
       "width": "100%"
      }
     },
     "d79012d410984fe895c6bddc762dcfb8": {
      "model_module": "@jupyter-widgets/controls",
      "model_module_version": "1.5.0",
      "model_name": "TextModel",
      "state": {
       "description": "inputs",
       "disabled": true,
       "layout": "IPY_MODEL_df485e7c75924b0da1ebab67c6cf89ab",
       "style": "IPY_MODEL_8ee45a4c05d74c1abfbec30efc942388",
       "value": "C:\\engDev\\git_mf\\ipyrun\\ipyrun\\appdata\\inputs\\inputs-gbxml.json"
      }
     },
     "d7d004f5d3b0427a9b3c9a961c9585a6": {
      "model_module": "@jupyter-widgets/controls",
      "model_module_version": "1.5.0",
      "model_name": "HTMLModel",
      "state": {
       "layout": "IPY_MODEL_bf690755222d4587a0779289459b0aa0",
       "style": "IPY_MODEL_91c0220cf31b4179b33b80e86e6e14e3",
       "value": "<p>2</p>"
      }
     },
     "d7e3690fca7345bc891cbd1e76c62963": {
      "model_module": "@jupyter-widgets/controls",
      "model_module_version": "1.5.0",
      "model_name": "DescriptionStyleModel",
      "state": {
       "description_width": ""
      }
     },
     "d7f07160c76e4515b8d688af508fff89": {
      "model_module": "@jupyter-widgets/controls",
      "model_module_version": "1.5.0",
      "model_name": "DescriptionStyleModel",
      "state": {
       "description_width": ""
      }
     },
     "d822322026014d819d2ff34067ea400f": {
      "model_module": "@jupyter-widgets/base",
      "model_module_version": "1.2.0",
      "model_name": "LayoutModel",
      "state": {
       "display": "flex",
       "flex_flow": "row",
       "grid_auto_columns": "False",
       "justify_content": "flex-start",
       "width": "100%"
      }
     },
     "d834820fbbfd45a8913ef670203c0dd0": {
      "model_module": "@jupyter-widgets/controls",
      "model_module_version": "1.5.0",
      "model_name": "HBoxModel",
      "state": {
       "children": [
        "IPY_MODEL_93e1130a80834ce6976d3f13f5656dd3",
        "IPY_MODEL_b6d52e4b0e0a4418a4a389cc569282c3"
       ],
       "layout": "IPY_MODEL_0f76848d541b49588d387ef96104cd94"
      }
     },
     "d8e72ac9e342453896ec25ad287f2104": {
      "model_module": "@jupyter-widgets/controls",
      "model_module_version": "1.5.0",
      "model_name": "DescriptionStyleModel",
      "state": {
       "description_width": ""
      }
     },
     "d90e5581f5b948aebbb92e10c587a5f1": {
      "model_module": "@jupyter-widgets/base",
      "model_module_version": "1.2.0",
      "model_name": "LayoutModel",
      "state": {}
     },
     "d91a77246e2344e28a733916e009928b": {
      "model_module": "@jupyter-widgets/base",
      "model_module_version": "1.2.0",
      "model_name": "LayoutModel",
      "state": {
       "align_items": "stretch",
       "display": "flex",
       "flex_flow": "row",
       "grid_auto_columns": "True",
       "justify_content": "flex-start",
       "width": "80%"
      }
     },
     "d94d0de400694be29139e22666d58184": {
      "model_module": "@jupyter-widgets/base",
      "model_module_version": "1.2.0",
      "model_name": "LayoutModel",
      "state": {
       "align_items": "stretch",
       "display": "flex",
       "flex_flow": "row",
       "grid_auto_columns": "True",
       "justify_content": "flex-start",
       "width": "80%"
      }
     },
     "d963650f63ff44c1a8fb637e726f1156": {
      "model_module": "@jupyter-widgets/controls",
      "model_module_version": "1.5.0",
      "model_name": "DescriptionStyleModel",
      "state": {
       "description_width": ""
      }
     },
     "d9916ba500874b64aced84dbda6a98ea": {
      "model_module": "@jupyter-widgets/controls",
      "model_module_version": "1.5.0",
      "model_name": "HBoxModel",
      "state": {
       "children": [
        "IPY_MODEL_81a3ca003d4b496483a87cd3b9b1b9b2",
        "IPY_MODEL_195a3d08c7134917ad589a57752eed93"
       ],
       "layout": "IPY_MODEL_a54a6c42767c4ed6b278d3c2df18fd28"
      }
     },
     "da69db16e6e04ed0a06c607c3ebfce4b": {
      "model_module": "@jupyter-widgets/base",
      "model_module_version": "1.2.0",
      "model_name": "LayoutModel",
      "state": {}
     },
     "da9745870a6049459e78a9da17b29370": {
      "model_module": "@jupyter-widgets/controls",
      "model_module_version": "1.5.0",
      "model_name": "HBoxModel",
      "state": {
       "children": [
        "IPY_MODEL_68c99a7ac33c464f948085036d503566",
        "IPY_MODEL_76684942a13c434182650f397d607a70",
        "IPY_MODEL_25844d8ceee34aeb83b07acba4c8806c",
        "IPY_MODEL_6334f6089f62405594bf001789a9e547",
        "IPY_MODEL_83f4c603d8f14ed79767dfe0d3a1c0d5",
        "IPY_MODEL_bc247d4dc4a142649bef40d0e175cc25",
        "IPY_MODEL_f3a821e3c7d2451d91ae9b8bdf72b3ec"
       ],
       "layout": "IPY_MODEL_7f3a6f2d2d4e4a748dd3d40d2ddb6c96"
      }
     },
     "da9bebb7aeb14115b8447e422675b4ab": {
      "model_module": "@jupyter-widgets/controls",
      "model_module_version": "1.5.0",
      "model_name": "RadioButtonsModel",
      "state": {
       "_options_labels": [
        "TEMPLATE: C:\\engDev\\git_mf\\MF_Toolbox\\dev\\mf_scripts\\template_inputs\\inputs-gbxml.json",
        "PROJECT: C:\\engDev\\git_mf\\ipyrun\\ipyrun\\appdata\\inputs\\inputs-gbxml.json"
       ],
       "index": 0,
       "layout": "IPY_MODEL_ccc4c53afc0b4c9689ccbebe5f12a767",
       "style": "IPY_MODEL_d7e3690fca7345bc891cbd1e76c62963"
      }
     },
     "dae3b03348c6453c961a22836e77a63c": {
      "model_module": "@jupyter-widgets/controls",
      "model_module_version": "1.5.0",
      "model_name": "DescriptionStyleModel",
      "state": {
       "description_width": ""
      }
     },
     "db07916a763840f594dfdc742c87eb43": {
      "model_module": "@jupyter-widgets/base",
      "model_module_version": "1.2.0",
      "model_name": "LayoutModel",
      "state": {}
     },
     "db41c740a6684a9f8813117316c25928": {
      "model_module": "@jupyter-widgets/base",
      "model_module_version": "1.2.0",
      "model_name": "LayoutModel",
      "state": {}
     },
     "db42b8fe92414bac8fc4e27d3e14a414": {
      "model_module": "@jupyter-widgets/base",
      "model_module_version": "1.2.0",
      "model_name": "LayoutModel",
      "state": {
       "height": "30px",
       "max_width": "30px",
       "padding": "3px"
      }
     },
     "db6c2aed1b04466181dccb1bdad2005f": {
      "model_module": "@jupyter-widgets/base",
      "model_module_version": "1.2.0",
      "model_name": "LayoutModel",
      "state": {
       "height": "30px",
       "width": "auto"
      }
     },
     "dbf40a0735ab4dd88cb54dbf5fa8e592": {
      "model_module": "@jupyter-widgets/output",
      "model_module_version": "1.0.0",
      "model_name": "OutputModel",
      "state": {
       "layout": "IPY_MODEL_74af77a4a945440eb5275243612623ab"
      }
     },
     "dc4c3ddca0bc48adbcda825cbdfdec20": {
      "model_module": "@jupyter-widgets/controls",
      "model_module_version": "1.5.0",
      "model_name": "VBoxModel",
      "state": {
       "children": [
        "IPY_MODEL_a06af01e2e9b46ce8fc0a7881f3b7346",
        "IPY_MODEL_fb92fc814ee94fb2a9c486b0d1b15dda",
        "IPY_MODEL_2eb5f7482a7d4f2084781b65a1a08097"
       ],
       "layout": "IPY_MODEL_5ab32db4b6c74640be6657023087f307"
      }
     },
     "dc4d47a2cfb54f82a202c7ba984b172e": {
      "model_module": "@jupyter-widgets/base",
      "model_module_version": "1.2.0",
      "model_name": "LayoutModel",
      "state": {}
     },
     "dc50b0adde3442e6b9804ae709a0d8da": {
      "model_module": "@jupyter-widgets/controls",
      "model_module_version": "1.5.0",
      "model_name": "ButtonModel",
      "state": {
       "button_style": "info",
       "description": "show source code",
       "layout": "IPY_MODEL_55b77230eeb24541922c957e0b1b5ce7",
       "style": "IPY_MODEL_c8d64f18c1fd4639a1b31291342bab92",
       "tooltip": "shows the raw python code in the preview window below"
      }
     },
     "dc5b2c6013c543dbac2863cd609e98fc": {
      "model_module": "@jupyter-widgets/base",
      "model_module_version": "1.2.0",
      "model_name": "LayoutModel",
      "state": {}
     },
     "dcb39cf8b20643b58760302921558419": {
      "model_module": "@jupyter-widgets/base",
      "model_module_version": "1.2.0",
      "model_name": "LayoutModel",
      "state": {}
     },
     "dcc685aa8a7b4664bd563b66c28f8b84": {
      "model_module": "@jupyter-widgets/controls",
      "model_module_version": "1.5.0",
      "model_name": "ButtonStyleModel",
      "state": {
       "font_weight": "bold"
      }
     },
     "dce2907d078f4a3d8a654fe1b078f581": {
      "model_module": "@jupyter-widgets/output",
      "model_module_version": "1.0.0",
      "model_name": "OutputModel",
      "state": {
       "layout": "IPY_MODEL_6409dc9999e94f4c8ca9a07c0b683268"
      }
     },
     "dd0d65f42c5245588bc19e4e5ef3e9fe": {
      "model_module": "@jupyter-widgets/base",
      "model_module_version": "1.2.0",
      "model_name": "LayoutModel",
      "state": {
       "align_items": "stretch",
       "display": "flex",
       "flex_flow": "row",
       "grid_auto_columns": "True",
       "justify_content": "flex-start",
       "width": "80%"
      }
     },
     "dd44be86900342929309043329dc2047": {
      "model_module": "@jupyter-widgets/controls",
      "model_module_version": "1.5.0",
      "model_name": "HTMLModel",
      "state": {
       "layout": "IPY_MODEL_04fa575280db4dd5831d57653dcaf120",
       "style": "IPY_MODEL_def41cd031c04c69ba657af4221efaa0",
       "value": "<p>1</p>"
      }
     },
     "dde9d7150dd640cb934cc644c370ba85": {
      "model_module": "@jupyter-widgets/output",
      "model_module_version": "1.0.0",
      "model_name": "OutputModel",
      "state": {
       "layout": "IPY_MODEL_46648dd0b50444f98a4fdd96db54a468"
      }
     },
     "de4648b17e274af3869f7010afb09f95": {
      "model_module": "@jupyter-widgets/controls",
      "model_module_version": "1.5.0",
      "model_name": "ButtonModel",
      "state": {
       "button_style": "success",
       "description": "run",
       "layout": "IPY_MODEL_ec6de6a1da574622978bb1d140e6fe2a",
       "style": "IPY_MODEL_e3322fad293347048b9a8de244771a3a",
       "tooltip": "execute the script based on the user inputs"
      }
     },
     "de8425d0cdd44e28970a99fa0d58f686": {
      "model_module": "@jupyter-widgets/base",
      "model_module_version": "1.2.0",
      "model_name": "LayoutModel",
      "state": {}
     },
     "de8d52033e4d4aa68edb4cdcb6bdb6ac": {
      "model_module": "@jupyter-widgets/base",
      "model_module_version": "1.2.0",
      "model_name": "LayoutModel",
      "state": {
       "align_items": "stretch",
       "width": "100%"
      }
     },
     "de919c19e32241bd953cbc109ddbe108": {
      "model_module": "@jupyter-widgets/base",
      "model_module_version": "1.2.0",
      "model_name": "LayoutModel",
      "state": {}
     },
     "dee162bffb354d5ba88ffaab8f7e4c2f": {
      "model_module": "@jupyter-widgets/base",
      "model_module_version": "1.2.0",
      "model_name": "LayoutModel",
      "state": {}
     },
     "def41cd031c04c69ba657af4221efaa0": {
      "model_module": "@jupyter-widgets/controls",
      "model_module_version": "1.5.0",
      "model_name": "DescriptionStyleModel",
      "state": {
       "description_width": ""
      }
     },
     "defca0021a9f40af99e525a4edf8f1a0": {
      "model_module": "@jupyter-widgets/base",
      "model_module_version": "1.2.0",
      "model_name": "LayoutModel",
      "state": {}
     },
     "df485e7c75924b0da1ebab67c6cf89ab": {
      "model_module": "@jupyter-widgets/base",
      "model_module_version": "1.2.0",
      "model_name": "LayoutModel",
      "state": {
       "height": "30px",
       "width": "auto"
      }
     },
     "df9333d8a23d44388262b69e09128a2c": {
      "model_module": "@jupyter-widgets/base",
      "model_module_version": "1.2.0",
      "model_name": "LayoutModel",
      "state": {}
     },
     "dfb103e269764ad79588213fac6088c4": {
      "model_module": "@jupyter-widgets/controls",
      "model_module_version": "1.5.0",
      "model_name": "ButtonStyleModel",
      "state": {}
     },
     "dfd503ac1a7040c4b8bb51ff354d8b41": {
      "model_module": "@jupyter-widgets/controls",
      "model_module_version": "1.5.0",
      "model_name": "BoxModel",
      "state": {
       "children": [
        "IPY_MODEL_93a05fba46e141d18a5e62a63a16bff0"
       ],
       "layout": "IPY_MODEL_df9333d8a23d44388262b69e09128a2c"
      }
     },
     "dfd9f2e7ad8349409b47d0214f62a0b1": {
      "model_module": "@jupyter-widgets/controls",
      "model_module_version": "1.5.0",
      "model_name": "DescriptionStyleModel",
      "state": {
       "description_width": ""
      }
     },
     "e00aefa20bcb42b1b92ba8e66b96da6c": {
      "model_module": "@jupyter-widgets/controls",
      "model_module_version": "1.5.0",
      "model_name": "VBoxModel",
      "state": {
       "children": [
        "IPY_MODEL_95d58bd9452348629812aad4a6b0b0fd",
        "IPY_MODEL_cca52f654b3b4253831cfb88a20c227b",
        "IPY_MODEL_1979372dbaa04798adcd6b75ff412426"
       ],
       "layout": "IPY_MODEL_885f53d293b548068e7f3543658fb76c"
      }
     },
     "e019989258f44c47994311cae6016f57": {
      "model_module": "@jupyter-widgets/controls",
      "model_module_version": "1.5.0",
      "model_name": "TextModel",
      "state": {
       "layout": "IPY_MODEL_939ea0a3ef1d42f6a83a60b3cdf4de25",
       "style": "IPY_MODEL_d963650f63ff44c1a8fb637e726f1156",
       "value": "Level"
      }
     },
     "e0507420668a49d6855c9e61e3648fd0": {
      "model_module": "@jupyter-widgets/base",
      "model_module_version": "1.2.0",
      "model_name": "LayoutModel",
      "state": {
       "height": "30px",
       "width": "auto"
      }
     },
     "e067a05345cf44929d42bf73e98a0f23": {
      "model_module": "@jupyter-widgets/base",
      "model_module_version": "1.2.0",
      "model_name": "LayoutModel",
      "state": {}
     },
     "e0a98f5f36444e8995e1951d3025e9da": {
      "model_module": "@jupyter-widgets/controls",
      "model_module_version": "1.5.0",
      "model_name": "VBoxModel",
      "state": {
       "children": [
        "IPY_MODEL_89d0be23c9b448ff80be33b7430ed7ab",
        "IPY_MODEL_da9bebb7aeb14115b8447e422675b4ab"
       ],
       "layout": "IPY_MODEL_0de399c9f29e4a4c813ffe5421a0735c"
      }
     },
     "e0e8eb5895ab4c45b4af3fbd7698cf2a": {
      "model_module": "@jupyter-widgets/controls",
      "model_module_version": "1.5.0",
      "model_name": "HTMLModel",
      "state": {
       "layout": "IPY_MODEL_abd90d5c64e94c818bdc8abf766b9a5b",
       "style": "IPY_MODEL_16cd579a30984c4f9cd820a3f78f4a34",
       "value": "<p>5th section of space name code (enter None if 5th section doesn't exist)</p>"
      }
     },
     "e144fd278d1a4581aa60399695cdeeec": {
      "model_module": "@jupyter-widgets/base",
      "model_module_version": "1.2.0",
      "model_name": "LayoutModel",
      "state": {}
     },
     "e162ff1ea3134dec8f0a99f846d25e78": {
      "model_module": "@jupyter-widgets/controls",
      "model_module_version": "1.5.0",
      "model_name": "VBoxModel",
      "state": {
       "children": [
        "IPY_MODEL_aaf3f772a985425d88d51eb44919d5fd",
        "IPY_MODEL_1a9c0ad2cbdf4015818d08f160268047",
        "IPY_MODEL_27f09deae6cf477fb99a24bdeadeda59",
        "IPY_MODEL_a321f87e2d1340518b78252ea4dba4ca",
        "IPY_MODEL_0ed74b1bd5344aeb93f08a90c5e4a5f2"
       ],
       "layout": "IPY_MODEL_81a486238bd94d8b979f86a1d74fb977"
      }
     },
     "e184f5cb55864818bd94428c588c40d4": {
      "model_module": "@jupyter-widgets/controls",
      "model_module_version": "1.5.0",
      "model_name": "VBoxModel",
      "state": {
       "children": [
        "IPY_MODEL_9abe97e6d04d447bbd608a2009608cfe",
        "IPY_MODEL_bee04e27d285467296354c1aba12a780",
        "IPY_MODEL_61d8bb9dd8904b378ba7875d7a89cf57"
       ],
       "layout": "IPY_MODEL_78bc4854af934951b05a123e4f090827"
      }
     },
     "e200fb6aac114b78ae82739566d2ea97": {
      "model_module": "@jupyter-widgets/base",
      "model_module_version": "1.2.0",
      "model_name": "LayoutModel",
      "state": {
       "height": "30px",
       "width": "auto"
      }
     },
     "e2017bd62bbf4f069a71037fdf8f5e66": {
      "model_module": "@jupyter-widgets/base",
      "model_module_version": "1.2.0",
      "model_name": "LayoutModel",
      "state": {}
     },
     "e230a943215d46139a4e2a0eecbdda33": {
      "model_module": "@jupyter-widgets/base",
      "model_module_version": "1.2.0",
      "model_name": "LayoutModel",
      "state": {}
     },
     "e2a19592a5f04bb4a7a4f610bfdc0e3e": {
      "model_module": "@jupyter-widgets/controls",
      "model_module_version": "1.5.0",
      "model_name": "VBoxModel",
      "state": {
       "children": [
        "IPY_MODEL_3592a7581a9448b5a656b71a694bfb41",
        "IPY_MODEL_fefc986c10d34fdeb3f6fca01735261f",
        "IPY_MODEL_87c1c937f9f5474f8364e0903ef83077",
        "IPY_MODEL_59f134f49d88446890330abd597f8638",
        "IPY_MODEL_b84531840f27416697a6e3bf8bef2685"
       ],
       "layout": "IPY_MODEL_5e59eafd02604dc596fbcb2a4e182603"
      }
     },
     "e2d5cdc601a849ee822a6fe6038c0a20": {
      "model_module": "@jupyter-widgets/base",
      "model_module_version": "1.2.0",
      "model_name": "LayoutModel",
      "state": {}
     },
     "e2dde56f20f84a11a7405aeaea1f3240": {
      "model_module": "@jupyter-widgets/controls",
      "model_module_version": "1.5.0",
      "model_name": "DescriptionStyleModel",
      "state": {
       "description_width": ""
      }
     },
     "e32a2377ca664e25874fced1895bdcf8": {
      "model_module": "@jupyter-widgets/base",
      "model_module_version": "1.2.0",
      "model_name": "LayoutModel",
      "state": {
       "align_items": "stretch",
       "width": "100%"
      }
     },
     "e3322fad293347048b9a8de244771a3a": {
      "model_module": "@jupyter-widgets/controls",
      "model_module_version": "1.5.0",
      "model_name": "ButtonStyleModel",
      "state": {
       "font_weight": "bold"
      }
     },
     "e44b9f83a2204e79b67c8a30df611543": {
      "model_module": "@jupyter-widgets/base",
      "model_module_version": "1.2.0",
      "model_name": "LayoutModel",
      "state": {}
     },
     "e4985c6b722b4715a5294266ebb6e99b": {
      "model_module": "@jupyter-widgets/controls",
      "model_module_version": "1.5.0",
      "model_name": "ButtonStyleModel",
      "state": {
       "font_weight": "bold"
      }
     },
     "e4a94c8b5bf1466d8ba2f87ec24547dd": {
      "model_module": "@jupyter-widgets/base",
      "model_module_version": "1.2.0",
      "model_name": "LayoutModel",
      "state": {}
     },
     "e4b653b535474eec81d3f8a2f477ff9f": {
      "model_module": "@jupyter-widgets/base",
      "model_module_version": "1.2.0",
      "model_name": "LayoutModel",
      "state": {}
     },
     "e5062e3fb5fc4a19b315e6064eaa4107": {
      "model_module": "@jupyter-widgets/controls",
      "model_module_version": "1.5.0",
      "model_name": "TextModel",
      "state": {
       "layout": "IPY_MODEL_bea6742b9932409aa95789dd496cff9d",
       "style": "IPY_MODEL_9bc3869ca8654fa7aab92f9d4ac5618b",
       "value": "SpaceType"
      }
     },
     "e53d67d2ab56440cb5e4c69ac88dbed6": {
      "model_module": "@jupyter-widgets/base",
      "model_module_version": "1.2.0",
      "model_name": "LayoutModel",
      "state": {
       "border": "0px",
       "margin": "0px",
       "padding": "0px"
      }
     },
     "e5a3ba62db2749cc816cf74f72b64d1f": {
      "model_module": "@jupyter-widgets/controls",
      "model_module_version": "1.5.0",
      "model_name": "DescriptionStyleModel",
      "state": {
       "description_width": ""
      }
     },
     "e5efad3120414477a78aea23ae90ac30": {
      "model_module": "@jupyter-widgets/controls",
      "model_module_version": "1.5.0",
      "model_name": "ButtonModel",
      "state": {
       "description": "load",
       "icon": "upload",
       "layout": "IPY_MODEL_76a3882714ef49a8ac8a6776447841b9",
       "style": "IPY_MODEL_b6f0014611cd415987cbcb2cfe75bd1b"
      }
     },
     "e60e52f3b9f34d87a5af69134a1a39e2": {
      "model_module": "@jupyter-widgets/base",
      "model_module_version": "1.2.0",
      "model_name": "LayoutModel",
      "state": {
       "height": "30px",
       "width": "auto"
      }
     },
     "e69c285d3b3d4b33b71cd5e989c38dc8": {
      "model_module": "@jupyter-widgets/controls",
      "model_module_version": "1.5.0",
      "model_name": "HTMLModel",
      "state": {
       "layout": "IPY_MODEL_be4d39a42d904676ac0a66e6aa5a7a04",
       "style": "IPY_MODEL_28d823e3149e4cfcb0fa44ea7bbba7c7",
       "value": "<p>3rd section of space name code (enter None if 3rd section doesn't exist)</p>"
      }
     },
     "e78840eeeda44c85a12dd863e0dd70ee": {
      "model_module": "@jupyter-widgets/base",
      "model_module_version": "1.2.0",
      "model_name": "LayoutModel",
      "state": {}
     },
     "e79cd051c7884db7a66096c4262f8160": {
      "model_module": "@jupyter-widgets/controls",
      "model_module_version": "1.5.0",
      "model_name": "DescriptionStyleModel",
      "state": {
       "description_width": ""
      }
     },
     "e7d87e3adbef449d8c148f379d21e35f": {
      "model_module": "@jupyter-widgets/controls",
      "model_module_version": "1.5.0",
      "model_name": "BoxModel",
      "state": {
       "children": [
        "IPY_MODEL_8c5f5b278ed043fcbac12964b4b05988"
       ],
       "layout": "IPY_MODEL_22b813a91fa74d2096201a0f3d265c36"
      }
     },
     "e8faa5820107476f88b01368921d178a": {
      "model_module": "@jupyter-widgets/controls",
      "model_module_version": "1.5.0",
      "model_name": "HBoxModel",
      "state": {
       "children": [
        "IPY_MODEL_203e0c2d4d0f44f9b3592d6a69fffb1b",
        "IPY_MODEL_2d07e520b204442882f3fc0633905f99"
       ],
       "layout": "IPY_MODEL_d91a77246e2344e28a733916e009928b"
      }
     },
     "e92f6785a6904e19b64fd88521073ecb": {
      "model_module": "@jupyter-widgets/controls",
      "model_module_version": "1.5.0",
      "model_name": "AccordionModel",
      "state": {
       "_titles": {
        "0": "gbxml"
       },
       "children": [
        "IPY_MODEL_1e2490817d404617aa14185fcf7f9bf1"
       ],
       "layout": "IPY_MODEL_d7608070e1b34184b2977052d6d24b08"
      }
     },
     "e94b6de896e04f409df0fd910f0bf02f": {
      "model_module": "@jupyter-widgets/base",
      "model_module_version": "1.2.0",
      "model_name": "LayoutModel",
      "state": {}
     },
     "e99fa86efa364726863d04e361ad4c55": {
      "model_module": "@jupyter-widgets/controls",
      "model_module_version": "1.5.0",
      "model_name": "RadioButtonsModel",
      "state": {
       "_options_labels": [
        "TEMPLATE: C:\\engDev\\git_mf\\MF_Toolbox\\dev\\mf_scripts\\template_inputs\\inputs-gbxml.json",
        "PROJECT: C:\\engDev\\git_mf\\ipyrun\\ipyrun\\appdata\\inputs\\inputs-gbxml.json"
       ],
       "index": 0,
       "layout": "IPY_MODEL_f438c4f3033e4f0db7041d5a9d9cf68d",
       "style": "IPY_MODEL_2e3ab2ac79bb4ad1bb61ff0a6cc686c0"
      }
     },
     "e9a103f25b2f4425ade21fb3319d1fc1": {
      "model_module": "@jupyter-widgets/base",
      "model_module_version": "1.2.0",
      "model_name": "LayoutModel",
      "state": {}
     },
     "ea2fddeb65e345549c7d4123672a4415": {
      "model_module": "@jupyter-widgets/base",
      "model_module_version": "1.2.0",
      "model_name": "LayoutModel",
      "state": {
       "width": "5%"
      }
     },
     "ea3145b3001f45d9ac3a8b46e376a3b4": {
      "model_module": "@jupyter-widgets/controls",
      "model_module_version": "1.5.0",
      "model_name": "ButtonModel",
      "state": {
       "button_style": "warning",
       "description": "edit inputs",
       "layout": "IPY_MODEL_ae2f647cd8d747d3ad8501d7d140b33e",
       "style": "IPY_MODEL_2142454882b44f48af616f6fc6adf166",
       "tooltip": "edit the user input information that is used when the script is executed"
      }
     },
     "ea5c538d74424cbea1266d97a73675c4": {
      "model_module": "@jupyter-widgets/base",
      "model_module_version": "1.2.0",
      "model_name": "LayoutModel",
      "state": {
       "height": "30px",
       "width": "auto"
      }
     },
     "ea713d9d72724cfea4f4670937c0654c": {
      "model_module": "@jupyter-widgets/base",
      "model_module_version": "1.2.0",
      "model_name": "LayoutModel",
      "state": {}
     },
     "eaa5da23712d45bfbc5e52576e1dcd04": {
      "model_module": "@jupyter-widgets/controls",
      "model_module_version": "1.5.0",
      "model_name": "DescriptionStyleModel",
      "state": {
       "description_width": ""
      }
     },
     "eacc03b384ce48e996b42f0d4e3f5b78": {
      "model_module": "@jupyter-widgets/base",
      "model_module_version": "1.2.0",
      "model_name": "LayoutModel",
      "state": {}
     },
     "eae67bf6642d46b582795daf18e2eb37": {
      "model_module": "@jupyter-widgets/controls",
      "model_module_version": "1.5.0",
      "model_name": "ButtonModel",
      "state": {
       "button_style": "info",
       "description": "show guide",
       "layout": "IPY_MODEL_4f2fc7ad55234ec8ac5d928d9a957b5d",
       "style": "IPY_MODEL_e4985c6b722b4715a5294266ebb6e99b",
       "tooltip": "read the \"docstring\", ie. the documentation that was written to accompany the script"
      }
     },
     "eb2b98912e1e4abba576f4892a127813": {
      "model_module": "@jupyter-widgets/controls",
      "model_module_version": "1.5.0",
      "model_name": "ButtonModel",
      "state": {
       "icon": "eye-slash",
       "layout": "IPY_MODEL_46cc247c90124c5aa90639c1a7662873",
       "style": "IPY_MODEL_62c3f81ae42b4f56857b592d6383e6a4",
       "tooltip": "removes temporary output view"
      }
     },
     "eb66fd8fc6a748eca773a3509b0e51ca": {
      "model_module": "@jupyter-widgets/output",
      "model_module_version": "1.0.0",
      "model_name": "OutputModel",
      "state": {
       "layout": "IPY_MODEL_033b980eb9ab42629a2c515f77554e57"
      }
     },
     "eb868cf52e21449fb736f0e54ef25638": {
      "model_module": "@jupyter-widgets/controls",
      "model_module_version": "1.5.0",
      "model_name": "DescriptionStyleModel",
      "state": {
       "description_width": ""
      }
     },
     "eb87730fea6241149f42f71829f71f56": {
      "model_module": "@jupyter-widgets/controls",
      "model_module_version": "1.5.0",
      "model_name": "HBoxModel",
      "state": {
       "children": [
        "IPY_MODEL_1e050ad2cd05449787b88d0f909887ab",
        "IPY_MODEL_4966244550aa47efafbf20b6a3f3963a"
       ],
       "layout": "IPY_MODEL_d636e98140824d5883bc9c27ff43907e"
      }
     },
     "eb902bea4bee4be9a206e2b2ad044453": {
      "model_module": "@jupyter-widgets/base",
      "model_module_version": "1.2.0",
      "model_name": "LayoutModel",
      "state": {}
     },
     "eba351d2af4846efae0ea4cace75d1dd": {
      "model_module": "@jupyter-widgets/controls",
      "model_module_version": "1.5.0",
      "model_name": "ButtonStyleModel",
      "state": {
       "font_weight": "bold"
      }
     },
     "ebd99898f3924b27af9a08abc55d1efe": {
      "model_module": "@jupyter-widgets/controls",
      "model_module_version": "1.5.0",
      "model_name": "ButtonStyleModel",
      "state": {
       "font_weight": "bold"
      }
     },
     "ec1b093f447b4ef886388c2751032ac0": {
      "model_module": "@jupyter-widgets/base",
      "model_module_version": "1.2.0",
      "model_name": "LayoutModel",
      "state": {}
     },
     "ec427467638847fb92b38c5085875587": {
      "model_module": "@jupyter-widgets/base",
      "model_module_version": "1.2.0",
      "model_name": "LayoutModel",
      "state": {}
     },
     "ec4a1caf193c49ec87989ef3dbd4593f": {
      "model_module": "@jupyter-widgets/base",
      "model_module_version": "1.2.0",
      "model_name": "LayoutModel",
      "state": {}
     },
     "ec6de6a1da574622978bb1d140e6fe2a": {
      "model_module": "@jupyter-widgets/base",
      "model_module_version": "1.2.0",
      "model_name": "LayoutModel",
      "state": {}
     },
     "ec80e593bb0d472bb9878bb4efb4be30": {
      "model_module": "@jupyter-widgets/controls",
      "model_module_version": "1.5.0",
      "model_name": "DescriptionStyleModel",
      "state": {
       "description_width": ""
      }
     },
     "ec9b56717f144671b1062b0049c25f85": {
      "model_module": "@jupyter-widgets/base",
      "model_module_version": "1.2.0",
      "model_name": "LayoutModel",
      "state": {}
     },
     "eced0650db90405b85f6c31bbaa143cc": {
      "model_module": "@jupyter-widgets/output",
      "model_module_version": "1.0.0",
      "model_name": "OutputModel",
      "state": {
       "layout": "IPY_MODEL_4f61edba0a5a4a5ca389f1067fcfc782"
      }
     },
     "ecf3d0b066a54e25b892b80c8b8570d7": {
      "model_module": "@jupyter-widgets/controls",
      "model_module_version": "1.5.0",
      "model_name": "DescriptionStyleModel",
      "state": {
       "description_width": ""
      }
     },
     "ed22fabd10a143b38c820672acf2981b": {
      "model_module": "@jupyter-widgets/controls",
      "model_module_version": "1.5.0",
      "model_name": "ButtonModel",
      "state": {
       "description": "load",
       "icon": "upload",
       "layout": "IPY_MODEL_78676fd65c0e4930866f6693e0a24ed3",
       "style": "IPY_MODEL_9bfe4cc8e5db44afab35a33be5b0b7b5"
      }
     },
     "ed2ee0198c50479ba4e527a1c987e5cb": {
      "model_module": "@jupyter-widgets/base",
      "model_module_version": "1.2.0",
      "model_name": "LayoutModel",
      "state": {
       "align_items": "stretch",
       "display": "flex",
       "flex_flow": "row",
       "grid_auto_columns": "True",
       "justify_content": "flex-end",
       "width": "90%"
      }
     },
     "ed38003308784ea294a130bbcd2e4b36": {
      "model_module": "@jupyter-widgets/output",
      "model_module_version": "1.0.0",
      "model_name": "OutputModel",
      "state": {
       "layout": "IPY_MODEL_fe6177d4235a4d84be2e801326b14971"
      }
     },
     "ed883d23ef884acda69569ca80cb196c": {
      "model_module": "@jupyter-widgets/base",
      "model_module_version": "1.2.0",
      "model_name": "LayoutModel",
      "state": {}
     },
     "ed9d4f66bbb142b5b8f51742a72d34fb": {
      "model_module": "@jupyter-widgets/base",
      "model_module_version": "1.2.0",
      "model_name": "LayoutModel",
      "state": {
       "width": "5%"
      }
     },
     "edf0d377e8164067a3976a1cdee238a7": {
      "model_module": "@jupyter-widgets/base",
      "model_module_version": "1.2.0",
      "model_name": "LayoutModel",
      "state": {
       "height": "30px",
       "max_width": "30px",
       "padding": "3px"
      }
     },
     "ee67d954b44e40ef9f51b4c4878dbc0c": {
      "model_module": "@jupyter-widgets/controls",
      "model_module_version": "1.5.0",
      "model_name": "TextModel",
      "state": {
       "layout": "IPY_MODEL_4a78aae94db74535b0d6800e4b00005e",
       "style": "IPY_MODEL_9cff5c41a1784db68f1d7ceb47aba84f",
       "value": "SpaceId"
      }
     },
     "ee8aba5838574d4497a6e78d3ae94118": {
      "model_module": "@jupyter-widgets/base",
      "model_module_version": "1.2.0",
      "model_name": "LayoutModel",
      "state": {}
     },
     "eee8730ca7c4483d87c1a399d20ccc07": {
      "model_module": "@jupyter-widgets/base",
      "model_module_version": "1.2.0",
      "model_name": "LayoutModel",
      "state": {
       "align_items": "stretch",
       "width": "100%"
      }
     },
     "ef4c45cb5b084ee2ab8a66b58ab53a54": {
      "model_module": "@jupyter-widgets/base",
      "model_module_version": "1.2.0",
      "model_name": "LayoutModel",
      "state": {
       "align_items": "stretch",
       "display": "flex",
       "flex_flow": "row",
       "grid_auto_columns": "True",
       "justify_content": "flex-end",
       "width": "90%"
      }
     },
     "efe5a73aa8ff4dd8a0d386f2ee818a9b": {
      "model_module": "@jupyter-widgets/base",
      "model_module_version": "1.2.0",
      "model_name": "LayoutModel",
      "state": {
       "align_items": "stretch",
       "display": "flex",
       "flex_flow": "row",
       "grid_auto_columns": "True",
       "justify_content": "flex-end",
       "width": "90%"
      }
     },
     "f06ed6e6a7c4424abe2f6bbd36c9c675": {
      "model_module": "@jupyter-widgets/controls",
      "model_module_version": "1.5.0",
      "model_name": "HBoxModel",
      "state": {
       "children": [
        "IPY_MODEL_cc524ca1df6a42c7a2541ee20c68b6a5",
        "IPY_MODEL_eb87730fea6241149f42f71829f71f56"
       ],
       "layout": "IPY_MODEL_5204b39efb95477fa8c4e6cce11b5521"
      }
     },
     "f0e2bb64344d4249814c37b7c6bcf8a2": {
      "model_module": "@jupyter-widgets/controls",
      "model_module_version": "1.5.0",
      "model_name": "TextModel",
      "state": {
       "layout": "IPY_MODEL_4fbff083817545c0a38f0d5aed2c70d0",
       "style": "IPY_MODEL_a14c6c97c6c642dbbd1b3bb1f7957c23",
       "value": "SpaceType"
      }
     },
     "f10db965ada54f4a9737497e6cff6868": {
      "model_module": "@jupyter-widgets/controls",
      "model_module_version": "1.5.0",
      "model_name": "DescriptionStyleModel",
      "state": {
       "description_width": ""
      }
     },
     "f1598eae56ab4298820d553b03e0e653": {
      "model_module": "@jupyter-widgets/base",
      "model_module_version": "1.2.0",
      "model_name": "LayoutModel",
      "state": {}
     },
     "f184e3dea92141dfa083868106c71798": {
      "model_module": "@jupyter-widgets/base",
      "model_module_version": "1.2.0",
      "model_name": "LayoutModel",
      "state": {}
     },
     "f19a7413466a4f88bea609b46e556280": {
      "model_module": "@jupyter-widgets/controls",
      "model_module_version": "1.5.0",
      "model_name": "DescriptionStyleModel",
      "state": {
       "description_width": ""
      }
     },
     "f22a8656f54347d69dc13c3b21241fc6": {
      "model_module": "@jupyter-widgets/controls",
      "model_module_version": "1.5.0",
      "model_name": "ButtonStyleModel",
      "state": {
       "font_weight": "bold"
      }
     },
     "f230274cdedf4707a2f5f970d76b2c92": {
      "model_module": "@jupyter-widgets/base",
      "model_module_version": "1.2.0",
      "model_name": "LayoutModel",
      "state": {}
     },
     "f23134564d744b399d2be00e2c3783e1": {
      "model_module": "@jupyter-widgets/controls",
      "model_module_version": "1.5.0",
      "model_name": "HTMLModel",
      "state": {
       "layout": "IPY_MODEL_5b369da6cef444028d484966f379d46d",
       "style": "IPY_MODEL_81bbe666f9b541afaf38a281b5493ba3",
       "value": "<p>edit user input form below</p>"
      }
     },
     "f2b5aa0698a8496ebd04fa00e08b8e4a": {
      "model_module": "@jupyter-widgets/base",
      "model_module_version": "1.2.0",
      "model_name": "LayoutModel",
      "state": {
       "height": "30px",
       "width": "auto"
      }
     },
     "f2dc1aef319a44d7ac5b67070e776b8f": {
      "model_module": "@jupyter-widgets/controls",
      "model_module_version": "1.5.0",
      "model_name": "SelectMultipleModel",
      "state": {
       "_options_labels": [
        "C:\\engDev\\git_mf\\ipyrun\\reports\\JupyterReportDemo.pdf"
       ],
       "description": "outputs",
       "index": [],
       "layout": "IPY_MODEL_1f124ee73a174ce5849e1f70700f48bd",
       "rows": 4,
       "style": "IPY_MODEL_ae157461486040779b77962025ab154a"
      }
     },
     "f2f812c468854da58e51b9d72bf05f74": {
      "model_module": "@jupyter-widgets/controls",
      "model_module_version": "1.5.0",
      "model_name": "BoxModel",
      "state": {
       "children": [
        "IPY_MODEL_fdfcf9d9b2ca435e9b5254b9eec9a290"
       ],
       "layout": "IPY_MODEL_32c81130c7644d82a4729fd109322e43"
      }
     },
     "f327106141024674add07d15c09c31f9": {
      "model_module": "@jupyter-widgets/base",
      "model_module_version": "1.2.0",
      "model_name": "LayoutModel",
      "state": {}
     },
     "f376c5fecb3342f9b4c9cec02bb198a4": {
      "model_module": "@jupyter-widgets/controls",
      "model_module_version": "1.5.0",
      "model_name": "DescriptionStyleModel",
      "state": {
       "description_width": ""
      }
     },
     "f38f68f3cc5244eab8138d3af7583b10": {
      "model_module": "@jupyter-widgets/controls",
      "model_module_version": "1.5.0",
      "model_name": "HBoxModel",
      "state": {
       "children": [
        "IPY_MODEL_8cede1a47f18468cb3036e8ed9d2edca",
        "IPY_MODEL_038b913296254b5788629448418e77a1"
       ],
       "layout": "IPY_MODEL_fce7be517e684065a913bb449a52c3eb"
      }
     },
     "f3a821e3c7d2451d91ae9b8bdf72b3ec": {
      "model_module": "@jupyter-widgets/controls",
      "model_module_version": "1.5.0",
      "model_name": "ButtonModel",
      "state": {
       "button_style": "info",
       "description": "show log",
       "layout": "IPY_MODEL_a6484e25b067435681d4403aca2568a2",
       "style": "IPY_MODEL_b38661c0f390453a94cc6eda41347fbe",
       "tooltip": "show a log of when the script was executed to generate the outputs, and by who"
      }
     },
     "f3e969b2d59847b48eccdc3fb80ec7f7": {
      "model_module": "@jupyter-widgets/controls",
      "model_module_version": "1.5.0",
      "model_name": "DescriptionStyleModel",
      "state": {
       "description_width": ""
      }
     },
     "f42889840f6840dea0affdf3ac7dfd88": {
      "model_module": "@jupyter-widgets/controls",
      "model_module_version": "1.5.0",
      "model_name": "CheckboxModel",
      "state": {
       "disabled": false,
       "indent": false,
       "layout": "IPY_MODEL_389091e18b904c63815fd57b8fcc116d",
       "style": "IPY_MODEL_d5dc077d20814606bde017078af78788",
       "value": false
      }
     },
     "f438c4f3033e4f0db7041d5a9d9cf68d": {
      "model_module": "@jupyter-widgets/base",
      "model_module_version": "1.2.0",
      "model_name": "LayoutModel",
      "state": {
       "display": "flex",
       "flex_flow": "row",
       "grid_auto_columns": "False",
       "justify_content": "flex-start",
       "width": "100%"
      }
     },
     "f4dd948a6aba4d7c85daba16aaa1e803": {
      "model_module": "@jupyter-widgets/controls",
      "model_module_version": "1.5.0",
      "model_name": "ButtonModel",
      "state": {
       "button_style": "warning",
       "description": "edit inputs",
       "layout": "IPY_MODEL_131162c08c2c4ca2b275d0e68d110edc",
       "style": "IPY_MODEL_25eed6b8801645b3bf8a1f43d1df2c7b",
       "tooltip": "edit the user input information that is used when the script is executed"
      }
     },
     "f51b5ed99c49481abc6a62ad0be41543": {
      "model_module": "@jupyter-widgets/controls",
      "model_module_version": "1.5.0",
      "model_name": "ButtonModel",
      "state": {
       "icon": "eye-slash",
       "layout": "IPY_MODEL_2dfe8af581864f09ad5f5843adddb91e",
       "style": "IPY_MODEL_9497b28714b64ef18049e0bb48e2d30b",
       "tooltip": "removes temporary output view"
      }
     },
     "f52c25e8918140eeb633f235b16edd31": {
      "model_module": "@jupyter-widgets/controls",
      "model_module_version": "1.5.0",
      "model_name": "DescriptionStyleModel",
      "state": {
       "description_width": ""
      }
     },
     "f536177b1f634c5ab5c2176d9e1ba9b8": {
      "model_module": "@jupyter-widgets/base",
      "model_module_version": "1.2.0",
      "model_name": "LayoutModel",
      "state": {}
     },
     "f57ed284eae84e458fca9869039fb336": {
      "model_module": "@jupyter-widgets/output",
      "model_module_version": "1.0.0",
      "model_name": "OutputModel",
      "state": {
       "layout": "IPY_MODEL_d143f91b143a473994b93a4a17e0d92e"
      }
     },
     "f5db0969ebaf40438e9d63b5b221154d": {
      "model_module": "@jupyter-widgets/controls",
      "model_module_version": "1.5.0",
      "model_name": "ButtonStyleModel",
      "state": {
       "font_weight": "bold"
      }
     },
     "f6e87b58b99d4bad898611222bf26470": {
      "model_module": "@jupyter-widgets/base",
      "model_module_version": "1.2.0",
      "model_name": "LayoutModel",
      "state": {
       "height": "30px",
       "width": "auto"
      }
     },
     "f74543ae1641428d91115eb8c23402fd": {
      "model_module": "@jupyter-widgets/controls",
      "model_module_version": "1.5.0",
      "model_name": "VBoxModel",
      "state": {
       "children": [
        "IPY_MODEL_f2f812c468854da58e51b9d72bf05f74",
        "IPY_MODEL_9f2d590ee3e442a79448e252896eb55a"
       ],
       "layout": "IPY_MODEL_5d9898404f09402b96c9f5767399940d"
      }
     },
     "f7996b1c53c143dd8050d6ad4de7f250": {
      "model_module": "@jupyter-widgets/controls",
      "model_module_version": "1.5.0",
      "model_name": "HBoxModel",
      "state": {
       "children": [
        "IPY_MODEL_38c4f1cd837040a9abb0d710961ec463",
        "IPY_MODEL_25d2b0096fa74d9a91805a653896c536",
        "IPY_MODEL_a6d06151551b4ea4841e10f8982b1351",
        "IPY_MODEL_5b913c5e306e4a3eb42ab4d70062792d",
        "IPY_MODEL_1c522e96cdfc4924a02372826c2ae4a1",
        "IPY_MODEL_56dab378b13a4b8887c4f425a25a08d0",
        "IPY_MODEL_b7e4f69e29804786a7773e4b7d95f9b6"
       ],
       "layout": "IPY_MODEL_b29c71145f02402182c1311e5176a7f7"
      }
     },
     "f7f4c93050334681b4e033072a9f9efc": {
      "model_module": "@jupyter-widgets/controls",
      "model_module_version": "1.5.0",
      "model_name": "DescriptionStyleModel",
      "state": {
       "description_width": ""
      }
     },
     "f817a18fda784b5086ce69d357bce955": {
      "model_module": "@jupyter-widgets/controls",
      "model_module_version": "1.5.0",
      "model_name": "HTMLModel",
      "state": {
       "layout": "IPY_MODEL_9f7ad48f06834d6e99631c733566ec02",
       "style": "IPY_MODEL_765c846bb70e4037bb26b4d6f4081a86",
       "value": "<p>defines the logic of the space naming. use default value where practical.</p>"
      }
     },
     "f88b9b60de3a4f23b9835e5ed9bd9fee": {
      "model_module": "@jupyter-widgets/output",
      "model_module_version": "1.0.0",
      "model_name": "OutputModel",
      "state": {
       "layout": "IPY_MODEL_9aa5685cb13242fc9319817060e37a06"
      }
     },
     "f8ec8068e6c74df6950112fdb0c5324b": {
      "model_module": "@jupyter-widgets/base",
      "model_module_version": "1.2.0",
      "model_name": "LayoutModel",
      "state": {}
     },
     "f90c71a9394e46d7b99e88d84b0ea2b1": {
      "model_module": "@jupyter-widgets/base",
      "model_module_version": "1.2.0",
      "model_name": "LayoutModel",
      "state": {}
     },
     "f91b1fdb4f5d475aa6aa5c2cd31fa45a": {
      "model_module": "@jupyter-widgets/base",
      "model_module_version": "1.2.0",
      "model_name": "LayoutModel",
      "state": {
       "align_items": "stretch",
       "width": "100%"
      }
     },
     "f9a64dc75bfc48faa994f70ae00da3fc": {
      "model_module": "@jupyter-widgets/controls",
      "model_module_version": "1.5.0",
      "model_name": "ButtonStyleModel",
      "state": {
       "font_weight": "bold"
      }
     },
     "f9b80268b0f74399a2d29500a7ea4f56": {
      "model_module": "@jupyter-widgets/base",
      "model_module_version": "1.2.0",
      "model_name": "LayoutModel",
      "state": {}
     },
     "f9dd5686e086428fa4cb7e9411390a9a": {
      "model_module": "@jupyter-widgets/controls",
      "model_module_version": "1.5.0",
      "model_name": "DescriptionStyleModel",
      "state": {
       "description_width": ""
      }
     },
     "f9e07316be13424eae48ec523f258da4": {
      "model_module": "@jupyter-widgets/base",
      "model_module_version": "1.2.0",
      "model_name": "LayoutModel",
      "state": {}
     },
     "faa52e6de09e48f7a8eb2d643798f31c": {
      "model_module": "@jupyter-widgets/base",
      "model_module_version": "1.2.0",
      "model_name": "LayoutModel",
      "state": {}
     },
     "fad9fd688c8f425ca3d93aabfcae309d": {
      "model_module": "@jupyter-widgets/base",
      "model_module_version": "1.2.0",
      "model_name": "LayoutModel",
      "state": {
       "height": "30px",
       "width": "auto"
      }
     },
     "faee74ccec2c4723b42686048d52b318": {
      "model_module": "@jupyter-widgets/base",
      "model_module_version": "1.2.0",
      "model_name": "LayoutModel",
      "state": {
       "align_items": "stretch",
       "border": "dashed 0.2px green",
       "display": "flex",
       "flex_flow": "row",
       "grid_auto_columns": "True",
       "justify_content": "flex-start",
       "width": "100%"
      }
     },
     "faf7a4d333a14d839b0a373116d82b6e": {
      "model_module": "@jupyter-widgets/output",
      "model_module_version": "1.0.0",
      "model_name": "OutputModel",
      "state": {
       "layout": "IPY_MODEL_38c0aa8541cf4006a6bb3a85d9b5e7cd"
      }
     },
     "fafa97d5f77a4efa8fccbc66b7b1bfd1": {
      "model_module": "@jupyter-widgets/base",
      "model_module_version": "1.2.0",
      "model_name": "LayoutModel",
      "state": {}
     },
     "fb115d0ceae64996a46348796f14c257": {
      "model_module": "@jupyter-widgets/base",
      "model_module_version": "1.2.0",
      "model_name": "LayoutModel",
      "state": {}
     },
     "fb92fc814ee94fb2a9c486b0d1b15dda": {
      "model_module": "@jupyter-widgets/controls",
      "model_module_version": "1.5.0",
      "model_name": "HTMLModel",
      "state": {
       "layout": "IPY_MODEL_12e4396edf9f419eae49b1599314928f",
       "style": "IPY_MODEL_c5755e41c33c40b299f21d783669f259",
       "value": "<p>update the user input form with data from file</p>"
      }
     },
     "fc07ec6b120d4cd19763bbb35daf4974": {
      "model_module": "@jupyter-widgets/controls",
      "model_module_version": "1.5.0",
      "model_name": "HTMLModel",
      "state": {
       "layout": "IPY_MODEL_27bb48b8a55744d49f3a931a0ba02a56",
       "style": "IPY_MODEL_bcec300e4e7e410db1fb65eeff3397b1",
       "value": "<p>1</p>"
      }
     },
     "fc9fea3167f949ffa412a64f85fae0d3": {
      "model_module": "@jupyter-widgets/base",
      "model_module_version": "1.2.0",
      "model_name": "LayoutModel",
      "state": {}
     },
     "fce7be517e684065a913bb449a52c3eb": {
      "model_module": "@jupyter-widgets/base",
      "model_module_version": "1.2.0",
      "model_name": "LayoutModel",
      "state": {
       "border": "0px",
       "margin": "0px",
       "padding": "0px"
      }
     },
     "fcffae1604a24cd2b50e56b0732f2729": {
      "model_module": "@jupyter-widgets/base",
      "model_module_version": "1.2.0",
      "model_name": "LayoutModel",
      "state": {}
     },
     "fd2cbbdde14b4c7d9fdc42204aeec1af": {
      "model_module": "@jupyter-widgets/controls",
      "model_module_version": "1.5.0",
      "model_name": "TextModel",
      "state": {
       "layout": "IPY_MODEL_defca0021a9f40af99e525a4edf8f1a0",
       "style": "IPY_MODEL_60f5d6b395eb42848dab4fdbbfa2499c",
       "value": "BlockCode"
      }
     },
     "fd406c3f30cd4765ae1c05fcdc38406a": {
      "model_module": "@jupyter-widgets/controls",
      "model_module_version": "1.5.0",
      "model_name": "VBoxModel",
      "state": {
       "children": [
        "IPY_MODEL_a06af01e2e9b46ce8fc0a7881f3b7346",
        "IPY_MODEL_fb92fc814ee94fb2a9c486b0d1b15dda",
        "IPY_MODEL_2eb5f7482a7d4f2084781b65a1a08097"
       ],
       "layout": "IPY_MODEL_03ef1753ecd34c488e83ac0bf6cecc88"
      }
     },
     "fd60a5f8b9664b1e9e6e9866cb95fa22": {
      "model_module": "@jupyter-widgets/controls",
      "model_module_version": "1.5.0",
      "model_name": "ButtonStyleModel",
      "state": {
       "font_weight": "bold"
      }
     },
     "fd7ef63b212346129fbbdeef273bd99d": {
      "model_module": "@jupyter-widgets/controls",
      "model_module_version": "1.5.0",
      "model_name": "HTMLModel",
      "state": {
       "layout": "IPY_MODEL_31b6b88a0c50422f82e589fc06c03bcd",
       "style": "IPY_MODEL_4c579aa13e8c41b1b1b6c0242f9069d6",
       "value": "<p>4th section of space name code (enter None if 4th section doesn't exist)</p>"
      }
     },
     "fdfcf9d9b2ca435e9b5254b9eec9a290": {
      "model_module": "@jupyter-widgets/controls",
      "model_module_version": "1.5.0",
      "model_name": "HBoxModel",
      "state": {
       "children": [
        "IPY_MODEL_4b59a39110fe4603a15239ef93f7a337",
        "IPY_MODEL_697875233b004a43991a1730578ad1e2",
        "IPY_MODEL_6a850f1e6b6a41b688d83bcfc090942f",
        "IPY_MODEL_13a7db9fdd184932a631970ce7896428",
        "IPY_MODEL_c0a42fae1c6e40d5af3fb2cf40fb1254",
        "IPY_MODEL_47a29026ecb2422fa284d29e3b4c5f5a",
        "IPY_MODEL_c0838f961795426587a607e147cea7b2"
       ],
       "layout": "IPY_MODEL_cb2588684de240acb96294defdca4f0c"
      }
     },
     "fe6177d4235a4d84be2e801326b14971": {
      "model_module": "@jupyter-widgets/base",
      "model_module_version": "1.2.0",
      "model_name": "LayoutModel",
      "state": {}
     },
     "fe74ebe7d9744aea8febe8458b296494": {
      "model_module": "@jupyter-widgets/base",
      "model_module_version": "1.2.0",
      "model_name": "LayoutModel",
      "state": {}
     },
     "fe78f288619d41a08d7b71bf875dfce3": {
      "model_module": "@jupyter-widgets/base",
      "model_module_version": "1.2.0",
      "model_name": "LayoutModel",
      "state": {
       "align_items": "stretch",
       "display": "flex",
       "flex_flow": "row",
       "grid_auto_columns": "True",
       "justify_content": "flex-start",
       "width": "80%"
      }
     },
     "fe8ec6f4cd8e4893b66321ba032583af": {
      "model_module": "@jupyter-widgets/base",
      "model_module_version": "1.2.0",
      "model_name": "LayoutModel",
      "state": {}
     },
     "feae03d6b5644c59b094a61521af46cc": {
      "model_module": "@jupyter-widgets/base",
      "model_module_version": "1.2.0",
      "model_name": "LayoutModel",
      "state": {
       "align_items": "stretch",
       "display": "flex",
       "flex_flow": "row",
       "grid_auto_columns": "True",
       "justify_content": "flex-end",
       "width": "90%"
      }
     },
     "febf590c082e471188997fc95d9ab29d": {
      "model_module": "@jupyter-widgets/controls",
      "model_module_version": "1.5.0",
      "model_name": "DescriptionStyleModel",
      "state": {
       "description_width": ""
      }
     },
     "fecd2dc4a25d4b9f8dc27d1e24a34b71": {
      "model_module": "@jupyter-widgets/base",
      "model_module_version": "1.2.0",
      "model_name": "LayoutModel",
      "state": {}
     },
     "fecf3da42fd94950a94b451915530720": {
      "model_module": "@jupyter-widgets/controls",
      "model_module_version": "1.5.0",
      "model_name": "ButtonStyleModel",
      "state": {
       "font_weight": "bold"
      }
     },
     "fed9eb49944b4aac8b47a18a5f2d4753": {
      "model_module": "@jupyter-widgets/base",
      "model_module_version": "1.2.0",
      "model_name": "LayoutModel",
      "state": {
       "height": "30px",
       "width": "auto"
      }
     },
     "fefc986c10d34fdeb3f6fca01735261f": {
      "model_module": "@jupyter-widgets/controls",
      "model_module_version": "1.5.0",
      "model_name": "HBoxModel",
      "state": {
       "children": [
        "IPY_MODEL_6693ecaec0f446bbac51b120005c7810"
       ],
       "layout": "IPY_MODEL_0a0982505bed45dc9898d491786468e8"
      }
     },
     "ffdb90d6d6bc42f7aa2c82ccd732e6a8": {
      "model_module": "@jupyter-widgets/base",
      "model_module_version": "1.2.0",
      "model_name": "LayoutModel",
      "state": {
       "width": "5%"
      }
     }
    },
    "version_major": 2,
    "version_minor": 0
   }
  }
 },
 "nbformat": 4,
 "nbformat_minor": 4
}
