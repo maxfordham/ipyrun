{
 "cells": [
  {
   "cell_type": "code",
   "execution_count": 1,
   "metadata": {},
   "outputs": [],
   "source": [
    "import os\n",
    "FDIR = os.path.dirname(os.path.realpath('__file__'))\n",
    "import pandas as pd\n",
    "from IPython.display import display, Image, JSON, Markdown, HTML, clear_output\n",
    "import subprocess\n",
    "from shutil import copyfile\n",
    "import getpass\n",
    "import importlib.util\n",
    "\n",
    "# widget stuff\n",
    "import ipywidgets as widgets\n",
    "from ipysheet import from_dataframe, to_dataframe\n",
    "import ipysheet\n",
    "\n",
    "# core mf_modules\n",
    "from mf_modules.file_operations import make_dir\n",
    "from mf_modules.pandas_operations import del_matching\n",
    "from mf_modules.mydocstring_display import display_module_docstring\n",
    "from mf_modules.jupyter_formatting import display_python_file\n",
    "\n",
    "# from this repo\n",
    "# this is an unpleasant hack. should aim to find a better solution\n",
    "try:\n",
    "    from ipyrun._runconfig import RunConfig\n",
    "    from ipyrun._ipyeditcsv import EditCsv\n",
    "    from ipyrun._ipyeditjson import EditJson\n",
    "    from ipyrun._ipydisplayfile import DisplayFile, DisplayFiles\n",
    "except:\n",
    "    from _runconfig import RunConfig\n",
    "    from _ipyeditcsv import EditCsv\n",
    "    from _ipyeditjson import EditJson\n",
    "    from _ipydisplayfile import DisplayFile, DisplayFiles\n",
    "\n",
    "def get_mfuser_initials():\n",
    "    user = getpass.getuser()\n",
    "    return user[0]+user[2]"
   ]
  },
  {
   "cell_type": "code",
   "execution_count": 2,
   "metadata": {
    "lines_to_next_cell": 0
   },
   "outputs": [],
   "source": [
    "class RunForm():\n",
    "    \"\"\"\n",
    "    simple user input form for running scripts. \n",
    "    the buttons are not connected to actions in this class. \n",
    "    \"\"\"\n",
    "    def __init__(self):\n",
    "        \"\"\"\n",
    "        to inputs required. this class is intended to be inherited by RunApp\n",
    "        \"\"\"\n",
    "        self.config = {'fpth_script':'script fpth','fpth_inputs':'script config','process_name':'process_name'}\n",
    "        self.form()\n",
    "        display(self.layout)\n",
    "        \n",
    "    def form(self):\n",
    "        self.reset = widgets.Button(icon='fa-eye-slash',#'fa-repeat'\n",
    "                                tooltip='removes temporary output view',\n",
    "                                style={'font_weight':'bold'},\n",
    "                                layout=widgets.Layout(width='5%'))\n",
    "        self.help = widgets.Button(icon='fa-question-circle',\n",
    "                                tooltip='describes the functionality of elements in the RunApp interface',\n",
    "                                style={'font_weight':'bold'},\n",
    "                                layout=widgets.Layout(width='5%'))\n",
    "        self.edit_inputs = widgets.Button(description='edit inputs',\n",
    "                                tooltip='edit the user input information that is used when the script is executed',\n",
    "                                button_style='warning',\n",
    "                                style={'font_weight':'bold'})\n",
    "        self.show_docstring = widgets.Button(description='show guide',\n",
    "                                tooltip='read the \"docstring\", ie. the documentation that was written to accompany the script',\n",
    "                                button_style='info',\n",
    "                                style={'font_weight':'bold'})\n",
    "        self.run_script = widgets.Button(description='run',\n",
    "                                tooltip='execute the script based on the user inputs',\n",
    "                                button_style='success',\n",
    "                                style={'font_weight':'bold'})\n",
    "        self.preview_outputs = widgets.Button(description='preview outputs',\n",
    "                                tooltip='show a preview of the output files generated when the script runs',\n",
    "                                button_style='info',\n",
    "                                style={'font_weight':'bold'})\n",
    "        self.show_log = widgets.Button(description='show log',\n",
    "                                tooltip='show a log of when the script was executed to generate the outputs, and by who',\n",
    "                                button_style='info',\n",
    "                                style={'font_weight':'bold'})\n",
    "        self.scriptfpth = widgets.Text(value=self.config['fpth_script'],\n",
    "                                description='script',\n",
    "                                layout=widgets.Layout(indent=False,\n",
    "                                                      width='auto',\n",
    "                                                      height='30px'), disabled=True)\n",
    "        self.configfpth = widgets.Text(value=self.config['fpth_inputs'],\n",
    "                                description='inputs',\n",
    "                                layout=widgets.Layout(indent=False,\n",
    "                                                      width='auto',\n",
    "                                                      height='30px'), disabled=True)\n",
    "        self.outputsfpth = widgets.SelectMultiple(description='outputs',\n",
    "                                           options=[],\n",
    "                                           rows=4,\n",
    "                                           layout=widgets.Layout(indent=False,\n",
    "                                                      width='auto',\n",
    "                                                      height='30px'))\n",
    "        self.check = widgets.Checkbox(\n",
    "                        value=False,\n",
    "                        disabled=False,\n",
    "                        indent=False,\n",
    "                        layout=widgets.Layout(max_width='30px',height='30px', padding='3px')\n",
    "                        )\n",
    "        self.form = widgets.HBox([self.reset, self.help, self.show_docstring, self.edit_inputs, self.run_script, self.preview_outputs, self.show_log],\n",
    "                    layout=widgets.Layout(width='100%',align_items='stretch'))\n",
    "        self.paths = widgets.VBox([self.configfpth,self.scriptfpth,self.outputsfpth],\n",
    "                    layout=widgets.Layout(width='100%',align_items='stretch')) \n",
    "        self.acc = widgets.Accordion(children=[widgets.VBox([widgets.Box([self.form]),self.paths])],selected_index=None,layout=widgets.Layout(width='100%'))\n",
    "        self.acc.set_title(0,self.config['process_name'])\n",
    "        self.layout = widgets.HBox([self.check,self.acc],layout=widgets.Layout(margin='0px',padding='0px',border='0px'))\n",
    "    \n",
    "#RunForm()"
   ]
  },
  {
   "cell_type": "code",
   "execution_count": 3,
   "metadata": {
    "lines_to_next_cell": 0
   },
   "outputs": [],
   "source": [
    "class RunApp(RunForm, RunConfig):\n",
    "    \"\"\"\n",
    "    app for managing the execution of python scripts using an ipywidgets user interface\n",
    "    \"\"\"\n",
    "    def __init__(self,config):\n",
    "        \"\"\"\n",
    "        class that builds a user interface for:\n",
    "        - editing inputs, \n",
    "        - running a script, \n",
    "        - reviewing the files output by the script\n",
    "        - maintaining a log of when the script was last run, by who, and what the inputs were\n",
    "        - allows users to reload previous input runs. \n",
    "        \n",
    "        Args:\n",
    "            config (dict): a dict that defines the script path, inputs path, archive inputs path, \n",
    "                log file path, output paths etc. this class inherits the RunConfig class which \n",
    "                has a default configuration for all of these things allowing the user to pass minimal \n",
    "                amounts of information to setup. \n",
    "                \n",
    "        Example:\n",
    "            ```\n",
    "            config={\n",
    "                'fpth_script':os.path.join(os.environ['mf_root'],r'MF_Toolbox\\dev\\mf_scripts\\docx_to_pdf.py'),\n",
    "                'fdir':FDIR,\n",
    "                }    \n",
    "\n",
    "            r = RunApp(config) \n",
    "            from ipyrun._ipyeditjson import EditListOfDicts\n",
    "            ui = EditListOfDicts(li)\n",
    "            ui\n",
    "            ```\n",
    "        \"\"\"\n",
    "        self.out = widgets.Output()\n",
    "        self.config = config\n",
    "        self.user_keys = list(config.keys())\n",
    "        self.errors = []\n",
    "        self._update_config()\n",
    "        self.form()\n",
    "        self.outputsfpth.options = list(self.fpths_outputs.values())\n",
    "        self.show_me_the_code = widgets.Button(description='show source code',\n",
    "                      tooltip='shows the raw python code in the preview window below',\n",
    "                      button_style='info')\n",
    "        self._init_controls()\n",
    "        \n",
    "    def _init_controls(self):\n",
    "        self.help.on_click(self._help)\n",
    "        self.reset.on_click(self._reset)\n",
    "        self.edit_inputs.on_click(self._edit_inputs)\n",
    "        self.show_docstring.on_click(self._show_docstring)\n",
    "        self.run_script.on_click(self._run_script)\n",
    "        self.show_me_the_code.on_click(self._show_me_the_code)\n",
    "        self.preview_outputs.on_click(self._preview_outputs)\n",
    "        self.show_log.on_click(self._show_log)\n",
    "        self.acc.observe(self._close_acc, names='selected_index')\n",
    "        \n",
    "    def _close_acc(self, change):\n",
    "        if self.acc.selected_index!=0:\n",
    "            self._reset(None)\n",
    "        \n",
    "    def _show_me_the_code(self, sender):\n",
    "        with self.out:\n",
    "            clear_output()\n",
    "            display(display_python_file(self.config['fpth_script']))\n",
    "            \n",
    "    def _help(self, sender):\n",
    "        with self.out:\n",
    "            clear_output()\n",
    "            fpth = os.path.join(os.environ['mf_root'],r'ipyrun\\docs\\images\\RunApp.png')\n",
    "            display(Image(fpth))\n",
    "            \n",
    "    def _reset(self, sender):\n",
    "        with self.out:\n",
    "            clear_output()\n",
    "    \n",
    "    def _edit_inputs(self, sender):\n",
    "        with self.out:\n",
    "            clear_output()\n",
    "            #display(EditCsv(self.config))\n",
    "            display(EditJson(self.config))\n",
    "\n",
    "    def _show_docstring(self, sender):\n",
    "        with self.out:\n",
    "            clear_output()\n",
    "            display(self.show_me_the_code)\n",
    "            display_module_docstring(self.config['fpth_script'])\n",
    "            \n",
    "    def archive_inputs(self):\n",
    "        timestamp = str(pd.to_datetime('today'))[:-9].replace(':','').replace('-','').replace(' ','_')\n",
    "        initals = get_mfuser_initials()\n",
    "        ext = os.path.splitext(self.fpth_inputs)[1]\n",
    "        fnm = timestamp + '-' + initals + '-' + os.path.splitext(os.path.basename(self.fpth_inputs))[0] + ext\n",
    "        self.fpth_inputs_archive = os.path.join(self.fdir_inputs_archive,fnm)\n",
    "        copyfile(self.fpth_inputs,self.fpth_inputs_archive)\n",
    "        \n",
    "    def _run_script(self, sender):\n",
    "        self.config_to_json()\n",
    "        self.archive_inputs()\n",
    "        self._log()\n",
    "        with self.out:\n",
    "            clear_output()\n",
    "            if os.path.isfile(self.config['fpth_inputs']):\n",
    "                display(self.config['pretty_name'])\n",
    "                display(subprocess.check_output(['python','-O', self.config['fpth_script'], self.config['fpth_config'], self.config['fpth_inputs']]))\n",
    "                #display(subprocess.check_output(['conda', 'run', '-n', 'mf_main', 'python','-O', self.config['fpth_script'], self.config['fpth_config'], self.config['fpth_inputs']]))\n",
    "            else:\n",
    "                display(Markdown(\"## inputs have not been saved\"))\n",
    "                display(Markdown('click on the \"edit inputs\" button to edit inputs and hit save when done'))\n",
    "                display(Markdown('this will save a datafile that is passed to the script when you press run'))\n",
    "                display(Markdown('the input datafile should be saved here:'))\n",
    "                display(Markdown('`{0}`'.format(self.config['fpth_inputs'])))\n",
    "\n",
    "    def _log(self):\n",
    "        if os.path.isfile(self.fpth_log):\n",
    "            self.df_log = del_matching(pd.read_csv(self.fpth_log),'Unnamed')\n",
    "        else:\n",
    "            di = {\n",
    "                'processName':[],\n",
    "                'user':[],\n",
    "                'datetime':[],\n",
    "                'formalIssue':[],\n",
    "                'tags':[],\n",
    "                'fpthInputs':[]\n",
    "            }\n",
    "            self.df_log = pd.DataFrame(di).rename_axis(\"index\")\n",
    "        \n",
    "        user = getpass.getuser()\n",
    "        timestamp = str(pd.to_datetime('today'))\n",
    "        timestamp = timestamp[:-7]\n",
    "        \n",
    "        tmp = pd.DataFrame({\n",
    "            'processName':[self.process_name],\n",
    "            'user':[user],\n",
    "            'datetime':[timestamp],\n",
    "            'formalIssue':[''],\n",
    "            'tags':[''],\n",
    "            'fpthInputs':[self.fpth_inputs_archive]\n",
    "        })\n",
    "        self.df_log = self.df_log.append(tmp).reset_index(drop=True)\n",
    "        make_dir(self.fdir_log)\n",
    "        self.df_log.to_csv(self.fpth_log)\n",
    "        \n",
    "    def _preview_outputs(self, sender):\n",
    "        with self.out:\n",
    "            clear_output()\n",
    "            \n",
    "            #fpths = self.outputsfpth.options\n",
    "            #for fpth in fpths:\n",
    "             #   display(Markdown('#### {0}'.format(os.path.splitext(os.path.basename(fpth))[0])))\n",
    "            #    display(Markdown('`{0}`'.format(fpth)))\n",
    "            #    d = DisplayFile(fpth)\n",
    "            #    d.preview_fpth()\n",
    "                \n",
    "            fpths = [v for k,v in self.fpths_outputs.items()]\n",
    "            if len(fpths)==0:\n",
    "                display(Markdown('select the file(s) that you would like to display from the \"outputs\" list above '))\n",
    "            else:\n",
    "\n",
    "                display(DisplayFiles(fpths))\n",
    "                \n",
    "    def _show_log(self, sender):\n",
    "        with self.out:\n",
    "            clear_output()\n",
    "            if os.path.isfile(self.fpth_log):\n",
    "                d = DisplayFile(self.fpth_log)\n",
    "                d.preview_fpth()\n",
    "            else:  \n",
    "                display(Markdown('### A log file does not yet exist.'))\n",
    "                display(Markdown('### This indicates that the script has not yet been run.'))\n",
    "             \n",
    "    def display(self):\n",
    "        display(self.layout, self.out)\n",
    "        \n",
    "    def _ipython_display_(self):\n",
    "        self.display()    \n",
    "        \n",
    "# IT WOULD BE GOOD TO ADD A PROGRESS BAR\n",
    "# i think this would require us to time how long it takes for a script to execute and use that \n",
    "# as a first estimate. we could also then keep an ongoing record of time-taken to run a script within\n",
    "# the log file which could be used to keep the assumed time up-to-date / more accurate.\n",
    "# E.G. owen's example:\n",
    "# (but there is a fancy looking ipywidget we could use...)\n",
    "# fpth = r'C:\\engDev\\git_mf\\MF_Toolbox\\dev\\mf_modules\\progress_bar.py'\n",
    "# %run $fpth\n",
    "\n",
    "class RunApps():\n",
    "    \n",
    "    def __init__(self,configs):\n",
    "        \"\"\"\n",
    "        Args:\n",
    "            configs (list): list of RunApp input configs. \n",
    "                can explicitly specify a different RunApp to be used when passing \n",
    "                the list \n",
    "        \"\"\"\n",
    "        self.inputconfigs = configs\n",
    "        self.processes = self._update_configs()\n",
    "        self.li = []\n",
    "        self._form()\n",
    "        self._init_controls()\n",
    "        for process in self.processes:\n",
    "            self.li.append(process['app'](process['config']))   \n",
    "        self.out = widgets.Output()\n",
    "    \n",
    "    def _update_configs(self):\n",
    "        newconfigs = []\n",
    "        for config in self.inputconfigs:\n",
    "            if list(config.keys()) == ['app','config']:\n",
    "                # app to use already explicitly specified\n",
    "                newconfigs.append(config)     \n",
    "            else:\n",
    "                # assume the config got passed without the associated app\n",
    "                newconfigs.append({'app': RunApp, 'config': config})     \n",
    "        return newconfigs\n",
    "        \n",
    "    def _form(self):\n",
    "        \n",
    "        self.reset = widgets.Button(icon='fa-eye-slash',#'fa-repeat'\n",
    "                                tooltip='removes temporary output view',\n",
    "                                style={'font_weight':'bold'},\n",
    "                                layout=widgets.Layout(width='5%'))\n",
    "        self.help = widgets.Button(icon='fa-question-circle',\n",
    "                                tooltip='describes the functionality of elements in the RunApp interface',\n",
    "                                style={'font_weight':'bold'},\n",
    "                                layout=widgets.Layout(width='5%'))\n",
    "        self.run_batch = widgets.Button(description='run batch',\n",
    "                                tooltip='execute checked processes below',\n",
    "                                button_style='success',\n",
    "                                style={'font_weight':'bold'})\n",
    "        self.form = widgets.HBox([self.reset, self.help, self.run_batch],\n",
    "                        layout=widgets.Layout(width='100%',align_items='stretch'))   \n",
    "    \n",
    "    def _init_controls(self):\n",
    "        self.help.on_click(self._help)\n",
    "        self.reset.on_click(self._reset)\n",
    "        self.run_batch.on_click(self._run_batch)\n",
    "        \n",
    "    def _help(self, sender):\n",
    "        \n",
    "        with self.out:\n",
    "            clear_output()\n",
    "            fpth = os.path.join(os.environ['mf_root'],r'ipyrun\\docs\\images\\RunBatch.png')\n",
    "            display(Image(fpth))\n",
    "            \n",
    "    def _reset(self, sender):\n",
    "        with self.out:\n",
    "            clear_output()\n",
    "        for l in self.li:\n",
    "            l._reset(sender)\n",
    "    \n",
    "    def _run_batch(self, sender):\n",
    "        cnt = 0\n",
    "        ttl = 0\n",
    "        for l in self.li:\n",
    "            ttl = ttl + 1\n",
    "            if l.check.value:\n",
    "                cnt = cnt + 1\n",
    "        \n",
    "        with self.out:\n",
    "            clear_output()\n",
    "            display(Markdown('{0} out of {1} scripts selected to be run'.format(cnt,ttl)))\n",
    "            for l in self.li:\n",
    "                if l.check.value:\n",
    "                    display(Markdown('running: {0}'.format(l.config['process_name'])))\n",
    "                    l._run_script('sender')\n",
    "                    l._log() # 'sender'\n",
    "\n",
    "    def display(self):\n",
    "        display(self.form)\n",
    "        display(self.out)\n",
    "        [display(l) for l in self.li]; \n",
    "        \n",
    "    def _ipython_display_(self):\n",
    "        self.display() \n",
    "        \n",
    "\n",
    "# SUPERCEDED\n",
    "\n",
    "#def run_py_script(fpth,arg):\n",
    "#    \"\"\"\n",
    "#    NOT IN USE\n",
    "#    run a script using python magic\n",
    "#    (% means it can't be imported as a script)\n",
    "#    \"\"\"\n",
    "#    if os.path.isfile(fpth):\n",
    "#        print('run {0}'.format(fpth))\n",
    "#        %run -i $fpth $arg #-i\n",
    "#    elif fpth == 'READ PROCESSED DATA ONLY':\n",
    "#        pass\n",
    "#    else:\n",
    "#        print(\"{0} doesn't exist\".format(fpth))\n",
    "\n",
    "# option 2: looks better but the outputs appear at the bottom instead of in-line\n",
    "class RunApps_SS():\n",
    "    \n",
    "    def __init__(self,configs):\n",
    "        self.out = widgets.Output()\n",
    "        self.configs = configs\n",
    "        self.li = []\n",
    "        for config in configs:\n",
    "            self.li.append(RunApp(config))\n",
    "        self.display()\n",
    "            \n",
    "    def display(self):\n",
    "        \n",
    "        out = [l.layout for l in self.li]\n",
    "        self.applayout = widgets.VBox(out)\n",
    "        display(self.applayout)\n",
    "        for l in self.li:\n",
    "            display(l.out)\n",
    "\n",
    "     \n"
   ]
  },
  {
   "cell_type": "code",
   "execution_count": null,
   "metadata": {
    "lines_to_next_cell": 2
   },
   "outputs": [],
   "source": []
  },
  {
   "cell_type": "code",
   "execution_count": 4,
   "metadata": {
    "lines_to_next_cell": 0
   },
   "outputs": [
    {
     "data": {
      "text/markdown": [
       "### Example1"
      ],
      "text/plain": [
       "<IPython.core.display.Markdown object>"
      ]
     },
     "metadata": {},
     "output_type": "display_data"
    },
    {
     "data": {
      "text/markdown": [
       "default RunApp."
      ],
      "text/plain": [
       "<IPython.core.display.Markdown object>"
      ]
     },
     "metadata": {},
     "output_type": "display_data"
    },
    {
     "data": {
      "application/vnd.jupyter.widget-view+json": {
       "model_id": "6795f95ac75a436a9f1bc04a02766119",
       "version_major": 2,
       "version_minor": 0
      },
      "text/plain": [
       "HBox(children=(Checkbox(value=False, indent=False, layout=Layout(height='30px', max_width='30px', padding='3px…"
      ]
     },
     "metadata": {},
     "output_type": "display_data"
    },
    {
     "data": {
      "application/vnd.jupyter.widget-view+json": {
       "model_id": "1e0e20d16f10462c80240c6f9b0aa09c",
       "version_major": 2,
       "version_minor": 0
      },
      "text/plain": [
       "Output()"
      ]
     },
     "metadata": {},
     "output_type": "display_data"
    },
    {
     "data": {
      "text/markdown": [
       "---"
      ],
      "text/plain": [
       "<IPython.core.display.Markdown object>"
      ]
     },
     "metadata": {},
     "output_type": "display_data"
    },
    {
     "data": {
      "text/markdown": [],
      "text/plain": [
       "<IPython.core.display.Markdown object>"
      ]
     },
     "metadata": {},
     "output_type": "display_data"
    },
    {
     "data": {
      "text/markdown": [
       "### Example2"
      ],
      "text/plain": [
       "<IPython.core.display.Markdown object>"
      ]
     },
     "metadata": {},
     "output_type": "display_data"
    },
    {
     "data": {
      "text/markdown": [
       "example where the RunApp class has been extended by inheriting the \n",
       "    RunApp and overwriting the _edit_inputs\n",
       "    take a simple csv file as an input instead of a JSON file...\n",
       "    the main funtions that can be overwritten to extend the class in this way are:\n",
       "    \n",
       "    - _help\n",
       "    - _show_guide\n",
       "    - _edit_inputs\n",
       "    - _run\n",
       "    - _preview_outputs"
      ],
      "text/plain": [
       "<IPython.core.display.Markdown object>"
      ]
     },
     "metadata": {},
     "output_type": "display_data"
    },
    {
     "data": {
      "application/vnd.jupyter.widget-view+json": {
       "model_id": "04a4a56b2b91493188d602d97f2a6073",
       "version_major": 2,
       "version_minor": 0
      },
      "text/plain": [
       "HBox(children=(Checkbox(value=False, indent=False, layout=Layout(height='30px', max_width='30px', padding='3px…"
      ]
     },
     "metadata": {},
     "output_type": "display_data"
    },
    {
     "data": {
      "application/vnd.jupyter.widget-view+json": {
       "model_id": "b7a9dfbb190146e3b9894eb5632fc7a7",
       "version_major": 2,
       "version_minor": 0
      },
      "text/plain": [
       "Output()"
      ]
     },
     "metadata": {},
     "output_type": "display_data"
    },
    {
     "data": {
      "text/markdown": [
       "---"
      ],
      "text/plain": [
       "<IPython.core.display.Markdown object>"
      ]
     },
     "metadata": {},
     "output_type": "display_data"
    },
    {
     "data": {
      "text/markdown": [],
      "text/plain": [
       "<IPython.core.display.Markdown object>"
      ]
     },
     "metadata": {},
     "output_type": "display_data"
    },
    {
     "data": {
      "text/markdown": [
       "### Example3"
      ],
      "text/plain": [
       "<IPython.core.display.Markdown object>"
      ]
     },
     "metadata": {},
     "output_type": "display_data"
    },
    {
     "data": {
      "text/markdown": [
       "\n",
       "demonstrates how multiple RunApp's can be ran as a batch. if not explicitly defined, the app assumes the default\n",
       "RunApp is used.<br> it is also possible to explictly pass a RunApp variant, and it will still be executed within the batch:  \n",
       "\n",
       "```\n",
       "    di={\n",
       "        'fpth_script':os.path.join(os.environ['mf_root'],r'MF_Toolbox\\dev\\mf_scripts\\eplus_pipework_params.py'),\n",
       "        #'process_name':os.path.basename(os.path.join(os.environ['mf_root'],r'MF_Toolbox\\dev\\mf_scripts\\eplus_pipework_params.py')),\n",
       "        #'fpth_inputs':os.path.join(os.environ['mf_root'],r'MF_Toolbox\\dev\\mf_scripts\\configs\\eplus_pipework_params.csv'),\n",
       "        'fdir':os.path.join(FDIR,'notebooks'),\n",
       "        'fdir_outputs':os.path.join(FDIR,'notebooks')\n",
       "        }  \n",
       "\n",
       "    defaultrunapp={\n",
       "        'fpth_script':os.path.join(os.environ['mf_root'],r'MF_Toolbox\\dev\\mf_scripts\\docx_to_pdf.py'),\n",
       "        'fdir':FDIR,\n",
       "        'script_outputs': {'0': {\n",
       "            'fdir':r'..\r",
       "eports',\n",
       "            'fnm': r'JupyterReportDemo.pdf',\n",
       "            'description': \"a pdf report from word\"\n",
       "                }\n",
       "            }\n",
       "        }\n",
       "\n",
       "    runappcsv = {'app':RunAppEditCsv,'config':di}\n",
       "    configs = [runappcsv,defaultrunapp,runappcsv]\n",
       "    runapps = RunApps(configs)  \n",
       "    display(runapps)\n",
       "```\n",
       "    "
      ],
      "text/plain": [
       "<IPython.core.display.Markdown object>"
      ]
     },
     "metadata": {},
     "output_type": "display_data"
    },
    {
     "data": {
      "application/vnd.jupyter.widget-view+json": {
       "model_id": "21f21988d6b04107842886a2bc4d14e0",
       "version_major": 2,
       "version_minor": 0
      },
      "text/plain": [
       "HBox(children=(Button(icon='eye-slash', layout=Layout(width='5%'), style=ButtonStyle(font_weight='bold'), tool…"
      ]
     },
     "metadata": {},
     "output_type": "display_data"
    },
    {
     "data": {
      "application/vnd.jupyter.widget-view+json": {
       "model_id": "6ea41c7a964c49969bb01e950a460c82",
       "version_major": 2,
       "version_minor": 0
      },
      "text/plain": [
       "Output()"
      ]
     },
     "metadata": {},
     "output_type": "display_data"
    },
    {
     "data": {
      "application/vnd.jupyter.widget-view+json": {
       "model_id": "5380e4120867450da301a5fcd9002cd1",
       "version_major": 2,
       "version_minor": 0
      },
      "text/plain": [
       "HBox(children=(Checkbox(value=False, indent=False, layout=Layout(height='30px', max_width='30px', padding='3px…"
      ]
     },
     "metadata": {},
     "output_type": "display_data"
    },
    {
     "data": {
      "application/vnd.jupyter.widget-view+json": {
       "model_id": "7ce935ec9c934caf9f9e9cbcba47b4de",
       "version_major": 2,
       "version_minor": 0
      },
      "text/plain": [
       "Output()"
      ]
     },
     "metadata": {},
     "output_type": "display_data"
    },
    {
     "data": {
      "application/vnd.jupyter.widget-view+json": {
       "model_id": "9a35a61236c04ce091a03f517d4a0c8a",
       "version_major": 2,
       "version_minor": 0
      },
      "text/plain": [
       "HBox(children=(Checkbox(value=False, indent=False, layout=Layout(height='30px', max_width='30px', padding='3px…"
      ]
     },
     "metadata": {},
     "output_type": "display_data"
    },
    {
     "data": {
      "application/vnd.jupyter.widget-view+json": {
       "model_id": "23788e5c90bb4262a767574a15625548",
       "version_major": 2,
       "version_minor": 0
      },
      "text/plain": [
       "Output()"
      ]
     },
     "metadata": {},
     "output_type": "display_data"
    },
    {
     "data": {
      "application/vnd.jupyter.widget-view+json": {
       "model_id": "f977989425b549fb8f4dc0ab316a4061",
       "version_major": 2,
       "version_minor": 0
      },
      "text/plain": [
       "HBox(children=(Checkbox(value=False, indent=False, layout=Layout(height='30px', max_width='30px', padding='3px…"
      ]
     },
     "metadata": {},
     "output_type": "display_data"
    },
    {
     "data": {
      "application/vnd.jupyter.widget-view+json": {
       "model_id": "19e779b681434e19bf0813195205c518",
       "version_major": 2,
       "version_minor": 0
      },
      "text/plain": [
       "Output()"
      ]
     },
     "metadata": {},
     "output_type": "display_data"
    },
    {
     "data": {
      "text/markdown": [
       "---"
      ],
      "text/plain": [
       "<IPython.core.display.Markdown object>"
      ]
     },
     "metadata": {},
     "output_type": "display_data"
    },
    {
     "data": {
      "text/markdown": [],
      "text/plain": [
       "<IPython.core.display.Markdown object>"
      ]
     },
     "metadata": {},
     "output_type": "display_data"
    }
   ],
   "source": [
    "if __name__ =='__main__':\n",
    "    \n",
    "    # dumb form\n",
    "    #form = RunForm()\n",
    "    #form\n",
    "\n",
    "\n",
    "    # Example1 --------------------------\n",
    "    # RunApp example, using a default JSON file\n",
    "    # EDIT JSON FILE with custom config and file management\n",
    "    config={\n",
    "        'fpth_script':os.path.join(os.environ['mf_root'],r'MF_Toolbox\\dev\\mf_scripts\\docx_to_pdf.py'),\n",
    "        'fdir':FDIR,\n",
    "        'script_outputs': {'0': {\n",
    "            'fdir':r'..\\reports',\n",
    "            'fnm': r'JupyterReportDemo.pdf',\n",
    "            'description': \"a pdf report from word\"\n",
    "                }\n",
    "            }\n",
    "        }    \n",
    "\n",
    "    rjson = RunApp(config)  \n",
    "    display(Markdown('### Example1'))\n",
    "    display(Markdown('''default RunApp.'''))\n",
    "    display(rjson)\n",
    "\n",
    "    display(Markdown('---'))  \n",
    "    display(Markdown(''))  \n",
    "\n",
    "    # Example2 --------------------------\n",
    "    class RunAppEditCsv(RunApp):\n",
    "\n",
    "        def __init__(self, config):\n",
    "            super().__init__(config)\n",
    "\n",
    "        def _edit_inputs(self, sender):\n",
    "            with self.out:\n",
    "                clear_output()\n",
    "                display(EditCsv(self.config))\n",
    "\n",
    "    di={\n",
    "        'fpth_script':os.path.join(os.environ['mf_root'],r'MF_Toolbox\\dev\\mf_scripts\\eplus_pipework_params.py'),\n",
    "        #'process_name':os.path.basename(os.path.join(os.environ['mf_root'],r'MF_Toolbox\\dev\\mf_scripts\\eplus_pipework_params.py')),\n",
    "        #'fpth_inputs':os.path.join(os.environ['mf_root'],r'MF_Toolbox\\dev\\mf_scripts\\configs\\eplus_pipework_params.csv'),\n",
    "        'fdir':FDIR,\n",
    "        #'fpth_log':os.path.join(FDIR,'notebooks',config),\n",
    "        #'fdir_outputs':os.path.join(FDIR,'notebooks')\n",
    "        #'RunApp_help':RunApp_help\n",
    "        }  \n",
    "    rcsv = RunAppEditCsv(di)  \n",
    "    display(Markdown('### Example2'))\n",
    "    display(Markdown('''example where the RunApp class has been extended by inheriting the \n",
    "    RunApp and overwriting the _edit_inputs\n",
    "    take a simple csv file as an input instead of a JSON file...\n",
    "    the main funtions that can be overwritten to extend the class in this way are:\n",
    "    \n",
    "    - _help\n",
    "    - _show_guide\n",
    "    - _edit_inputs\n",
    "    - _run\n",
    "    - _preview_outputs'''))\n",
    "    display(rcsv)\n",
    "    display(Markdown('---'))  \n",
    "    display(Markdown(''))  \n",
    "\n",
    "\n",
    "\n",
    "    # Example3 --------------------------\n",
    "    di={\n",
    "        'fpth_script':os.path.join(os.environ['mf_root'],r'MF_Toolbox\\dev\\mf_scripts\\eplus_pipework_params.py'),\n",
    "        #'process_name':os.path.basename(os.path.join(os.environ['mf_root'],r'MF_Toolbox\\dev\\mf_scripts\\eplus_pipework_params.py')),\n",
    "        #'fpth_inputs':os.path.join(os.environ['mf_root'],r'MF_Toolbox\\dev\\mf_scripts\\configs\\eplus_pipework_params.csv'),\n",
    "        'fdir':os.path.join(FDIR,'notebooks'),\n",
    "        'fdir_outputs':os.path.join(FDIR,'notebooks')\n",
    "        }  \n",
    "\n",
    "    defaultrunapp={\n",
    "        'fpth_script':os.path.join(os.environ['mf_root'],r'MF_Toolbox\\dev\\mf_scripts\\docx_to_pdf.py'),\n",
    "        'fdir':FDIR,\n",
    "        'script_outputs': {'0': {\n",
    "            'fdir':r'..\\reports',\n",
    "            'fnm': r'JupyterReportDemo.pdf',\n",
    "            'description': \"a pdf report from word\"\n",
    "                }\n",
    "            }\n",
    "        }\n",
    "\n",
    "    runappcsv = {'app':RunAppEditCsv,'config':di}\n",
    "    configs = [runappcsv,defaultrunapp,runappcsv]\n",
    "    runapps = RunApps(configs)  \n",
    "\n",
    "    display(Markdown('### Example3'))\n",
    "    display(Markdown('''\n",
    "demonstrates how multiple RunApp's can be ran as a batch. if not explicitly defined, the app assumes the default\n",
    "RunApp is used.<br> it is also possible to explictly pass a RunApp variant, and it will still be executed within the batch:  \n",
    "\n",
    "```\n",
    "    di={\n",
    "        'fpth_script':os.path.join(os.environ['mf_root'],r'MF_Toolbox\\dev\\mf_scripts\\eplus_pipework_params.py'),\n",
    "        #'process_name':os.path.basename(os.path.join(os.environ['mf_root'],r'MF_Toolbox\\dev\\mf_scripts\\eplus_pipework_params.py')),\n",
    "        #'fpth_inputs':os.path.join(os.environ['mf_root'],r'MF_Toolbox\\dev\\mf_scripts\\configs\\eplus_pipework_params.csv'),\n",
    "        'fdir':os.path.join(FDIR,'notebooks'),\n",
    "        'fdir_outputs':os.path.join(FDIR,'notebooks')\n",
    "        }  \n",
    "\n",
    "    defaultrunapp={\n",
    "        'fpth_script':os.path.join(os.environ['mf_root'],r'MF_Toolbox\\dev\\mf_scripts\\docx_to_pdf.py'),\n",
    "        'fdir':FDIR,\n",
    "        'script_outputs': {'0': {\n",
    "            'fdir':r'..\\reports',\n",
    "            'fnm': r'JupyterReportDemo.pdf',\n",
    "            'description': \"a pdf report from word\"\n",
    "                }\n",
    "            }\n",
    "        }\n",
    "\n",
    "    runappcsv = {'app':RunAppEditCsv,'config':di}\n",
    "    configs = [runappcsv,defaultrunapp,runappcsv]\n",
    "    runapps = RunApps(configs)  \n",
    "    display(runapps)\n",
    "```\n",
    "    '''))\n",
    "    display(runapps)\n",
    "    display(Markdown('---'))  \n",
    "    display(Markdown('')) "
   ]
  }
 ],
 "metadata": {
  "jupytext": {
   "formats": "ipynb,py:light"
  },
  "kernelspec": {
   "display_name": "Python [conda env:mf_main] *",
   "language": "python",
   "name": "conda-env-mf_main-py"
  },
  "language_info": {
   "codemirror_mode": {
    "name": "ipython",
    "version": 3
   },
   "file_extension": ".py",
   "mimetype": "text/x-python",
   "name": "python",
   "nbconvert_exporter": "python",
   "pygments_lexer": "ipython3",
   "version": "3.7.7"
  },
  "widgets": {
   "application/vnd.jupyter.widget-state+json": {
    "state": {},
    "version_major": 2,
    "version_minor": 0
   }
  }
 },
 "nbformat": 4,
 "nbformat_minor": 4
}
