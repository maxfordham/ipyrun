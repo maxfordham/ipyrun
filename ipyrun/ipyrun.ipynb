{
 "cells": [
  {
   "cell_type": "code",
   "execution_count": 1,
   "metadata": {},
   "outputs": [],
   "source": [
    "import os\n",
    "FDIR = os.path.dirname(os.path.realpath('__file__'))\n",
    "import pandas as pd\n",
    "from IPython.display import display, Image, JSON, Markdown, HTML, clear_output\n",
    "import subprocess\n",
    "from shutil import copyfile\n",
    "import getpass\n",
    "import importlib.util\n",
    "\n",
    "# widget stuff\n",
    "import ipywidgets as widgets\n",
    "from ipysheet import from_dataframe, to_dataframe\n",
    "import ipysheet\n",
    "\n",
    "# core mf_modules\n",
    "from mf_modules.file_operations import make_dir\n",
    "from mf_modules.pandas_operations import del_matching\n",
    "from mf_modules.mydocstring_display import display_module_docstring\n",
    "from mf_modules.jupyter_formatting import display_python_file\n",
    "\n",
    "# from this repo\n",
    "# this is an unpleasant hack. should aim to find a better solution\n",
    "try:\n",
    "    from ipyrun._runconfig import RunConfig\n",
    "    from ipyrun._ipyeditcsv import EditCsv\n",
    "    from ipyrun._ipyeditjson import EditJson\n",
    "    from ipyrun._ipydisplayfile import DisplayFile, DisplayFiles\n",
    "except:\n",
    "    from _runconfig import RunConfig\n",
    "    from _ipyeditcsv import EditCsv\n",
    "    from _ipyeditjson import EditJson\n",
    "    from _ipydisplayfile import DisplayFile, DisplayFiles\n",
    "\n",
    "def get_mfuser_initials():\n",
    "    user = getpass.getuser()\n",
    "    return user[0]+user[2]"
   ]
  },
  {
   "cell_type": "code",
   "execution_count": 5,
   "metadata": {
    "lines_to_next_cell": 0
   },
   "outputs": [],
   "source": [
    "class RunForm():\n",
    "    \"\"\"\n",
    "    simple user input form for running scripts. \n",
    "    the buttons are not connected to actions in this class. \n",
    "    \"\"\"\n",
    "    def __init__(self):\n",
    "        \"\"\"\n",
    "        to inputs required. this class is intended to be inherited by RunApp\n",
    "        \"\"\"\n",
    "        self.config = {'fpth_script':'script fpth','fpth_inputs':'script config','process_name':'process_name'}\n",
    "        self.form()\n",
    "        display(self.layout)\n",
    "        \n",
    "    def form(self):\n",
    "        self.reset = widgets.Button(icon='fa-eye-slash',#'fa-repeat'\n",
    "                                tooltip='removes temporary output view',\n",
    "                                style={'font_weight':'bold'},\n",
    "                                layout=widgets.Layout(width='5%'))\n",
    "        self.help = widgets.Button(icon='fa-question-circle',\n",
    "                                tooltip='describes the functionality of elements in the RunApp interface',\n",
    "                                style={'font_weight':'bold'},\n",
    "                                layout=widgets.Layout(width='5%'))\n",
    "        self.edit_inputs = widgets.Button(description='edit inputs',\n",
    "                                tooltip='edit the user input information that is used when the script is executed',\n",
    "                                button_style='warning',\n",
    "                                style={'font_weight':'bold'})\n",
    "        self.show_docstring = widgets.Button(description='show guide',\n",
    "                                tooltip='read the \"docstring\", ie. the documentation that was written to accompany the script',\n",
    "                                button_style='info',\n",
    "                                style={'font_weight':'bold'})\n",
    "        self.run_script = widgets.Button(description='run',\n",
    "                                tooltip='execute the script based on the user inputs',\n",
    "                                button_style='success',\n",
    "                                style={'font_weight':'bold'})\n",
    "        self.preview_outputs = widgets.Button(description='preview outputs',\n",
    "                                tooltip='show a preview of the output files generated when the script runs',\n",
    "                                button_style='info',\n",
    "                                style={'font_weight':'bold'})\n",
    "        self.show_log = widgets.Button(description='show log',\n",
    "                                tooltip='show a log of when the script was executed to generate the outputs, and by who',\n",
    "                                button_style='info',\n",
    "                                style={'font_weight':'bold'})\n",
    "        self.scriptfpth = widgets.Text(value=self.config['fpth_script'],\n",
    "                                description='script',\n",
    "                                layout=widgets.Layout(indent=False,\n",
    "                                                      width='auto',\n",
    "                                                      height='30px'), disabled=True)\n",
    "        self.configfpth = widgets.Text(value=self.config['fpth_inputs'],\n",
    "                                description='inputs',\n",
    "                                layout=widgets.Layout(indent=False,\n",
    "                                                      width='auto',\n",
    "                                                      height='30px'), disabled=True)\n",
    "        self.outputsfpth = widgets.SelectMultiple(description='outputs',\n",
    "                                           options=[],\n",
    "                                           rows=4,\n",
    "                                           layout=widgets.Layout(indent=False,\n",
    "                                                      width='auto',\n",
    "                                                      height='30px'))\n",
    "        self.check = widgets.Checkbox(\n",
    "                        value=False,\n",
    "                        disabled=False,\n",
    "                        indent=False,\n",
    "                        layout=widgets.Layout(max_width='30px',height='30px', padding='3px')\n",
    "                        )\n",
    "        self.form = widgets.HBox([self.reset, self.help, self.show_docstring, self.edit_inputs, self.run_script, self.preview_outputs, self.show_log],\n",
    "                    layout=widgets.Layout(width='100%',align_items='stretch'))\n",
    "        self.paths = widgets.VBox([self.configfpth,self.scriptfpth,self.outputsfpth],\n",
    "                    layout=widgets.Layout(width='100%',align_items='stretch')) \n",
    "        self.acc = widgets.Accordion(children=[widgets.VBox([widgets.Box([self.form]),self.paths])],selected_index=None,layout=widgets.Layout(width='100%'))\n",
    "        self.acc.set_title(0,self.config['process_name'])\n",
    "        self.layout = widgets.HBox([self.check,self.acc],layout=widgets.Layout(margin='0px',padding='0px',border='0px'))\n",
    "    \n",
    "#RunForm()"
   ]
  },
  {
   "cell_type": "code",
   "execution_count": 8,
   "metadata": {},
   "outputs": [],
   "source": [
    "class RunApp(RunForm, RunConfig):\n",
    "    \"\"\"\n",
    "    app for managing the execution of python scripts using an ipywidgets user interface\n",
    "    \"\"\"\n",
    "    def __init__(self,config):\n",
    "        \"\"\"\n",
    "        class that builds a user interface for:\n",
    "        - editing inputs, \n",
    "        - running a script, \n",
    "        - reviewing the files output by the script\n",
    "        - maintaining a log of when the script was last run, by who, and what the inputs were\n",
    "        - allows users to reload previous input runs. \n",
    "        \n",
    "        Args:\n",
    "            config (dict): a dict that defines the script path, inputs path, archive inputs path, \n",
    "                log file path, output paths etc. this class inherits the RunConfig class which \n",
    "                has a default configuration for all of these things allowing the user to pass minimal \n",
    "                amounts of information to setup. \n",
    "                \n",
    "        Example:\n",
    "            ```\n",
    "            config={\n",
    "                'fpth_script':os.path.join(os.environ['mf_root'],r'MF_Toolbox\\dev\\mf_scripts\\docx_to_pdf.py'),\n",
    "                'fdir':FDIR,\n",
    "                }    \n",
    "\n",
    "            r = RunApp(config) \n",
    "            from ipyrun._ipyeditjson import EditListOfDicts\n",
    "            ui = EditListOfDicts(li)\n",
    "            ui\n",
    "            ```\n",
    "        \"\"\"\n",
    "        self.out = widgets.Output()\n",
    "        self.config = config\n",
    "        self.user_keys = list(config.keys())\n",
    "        self.errors = []\n",
    "        self._update_config()\n",
    "        self.form()\n",
    "        self.outputsfpth.options = list(self.fpths_outputs.values())\n",
    "        self.show_me_the_code = widgets.Button(description='show source code',\n",
    "                      tooltip='shows the raw python code in the preview window below',\n",
    "                      button_style='info')\n",
    "        self._init_controls()\n",
    "        \n",
    "    def _init_controls(self):\n",
    "        self.help.on_click(self._help)\n",
    "        self.reset.on_click(self._reset)\n",
    "        self.edit_inputs.on_click(self._edit_inputs)\n",
    "        self.show_docstring.on_click(self._show_docstring)\n",
    "        self.run_script.on_click(self._run_script)\n",
    "        self.show_me_the_code.on_click(self._show_me_the_code)\n",
    "        self.preview_outputs.on_click(self._preview_outputs)\n",
    "        self.show_log.on_click(self._show_log)\n",
    "        self.acc.observe(self._close_acc, names='selected_index')\n",
    "        \n",
    "    def _close_acc(self, change):\n",
    "        if self.acc.selected_index!=0:\n",
    "            self._reset(None)\n",
    "        \n",
    "    def _show_me_the_code(self, sender):\n",
    "        with self.out:\n",
    "            clear_output()\n",
    "            display(display_python_file(self.config['fpth_script']))\n",
    "            \n",
    "    def _help(self, sender):\n",
    "        with self.out:\n",
    "            clear_output()\n",
    "            fpth = os.path.join(os.environ['mf_root'],r'ipyrun\\docs\\images\\RunApp.png')\n",
    "            display(Image(fpth))\n",
    "            \n",
    "    def _reset(self, sender):\n",
    "        with self.out:\n",
    "            clear_output()\n",
    "    \n",
    "    def _edit_inputs(self, sender):\n",
    "        with self.out:\n",
    "            clear_output()\n",
    "            #display(EditCsv(self.config))\n",
    "            display(EditJson(self.config))\n",
    "\n",
    "    def _show_docstring(self, sender):\n",
    "        with self.out:\n",
    "            clear_output()\n",
    "            display(self.show_me_the_code)\n",
    "            display_module_docstring(self.config['fpth_script'])\n",
    "            \n",
    "    def archive_inputs(self):\n",
    "        timestamp = str(pd.to_datetime('today'))[:-9].replace(':','').replace('-','').replace(' ','_')\n",
    "        initals = get_mfuser_initials()\n",
    "        ext = os.path.splitext(self.fpth_inputs)[1]\n",
    "        fnm = timestamp + '-' + initals + '-' + os.path.splitext(os.path.basename(self.fpth_inputs))[0] + ext\n",
    "        self.fpth_inputs_archive = os.path.join(self.fdir_inputs_archive,fnm)\n",
    "        copyfile(self.fpth_inputs,self.fpth_inputs_archive)\n",
    "        \n",
    "    def _run_script(self, sender):\n",
    "        self.config_to_json()\n",
    "        self.archive_inputs()\n",
    "        self._log()\n",
    "        with self.out:\n",
    "            clear_output()\n",
    "            if os.path.isfile(self.config['fpth_inputs']):\n",
    "                display(self.config['pretty_name'])\n",
    "                display(subprocess.check_output(['python','-O', self.config['fpth_script'], self.config['fpth_config'], self.config['fpth_inputs']]))\n",
    "                #display(subprocess.check_output(['conda', 'run', '-n', 'mf_main', 'python','-O', self.config['fpth_script'], self.config['fpth_config'], self.config['fpth_inputs']]))\n",
    "            else:\n",
    "                display(Markdown(\"## inputs have not been saved\"))\n",
    "                display(Markdown('click on the \"edit inputs\" button to edit inputs and hit save when done'))\n",
    "                display(Markdown('this will save a datafile that is passed to the script when you press run'))\n",
    "                display(Markdown('the input datafile should be saved here:'))\n",
    "                display(Markdown('`{0}`'.format(self.config['fpth_inputs'])))\n",
    "\n",
    "    def _log(self):\n",
    "        if os.path.isfile(self.fpth_log):\n",
    "            self.df_log = del_matching(pd.read_csv(self.fpth_log),'Unnamed')\n",
    "        else:\n",
    "            di = {\n",
    "                'processName':[],\n",
    "                'user':[],\n",
    "                'datetime':[],\n",
    "                'formalIssue':[],\n",
    "                'tags':[],\n",
    "                'fpthInputs':[]\n",
    "            }\n",
    "            self.df_log = pd.DataFrame(di).rename_axis(\"index\")\n",
    "        \n",
    "        user = getpass.getuser()\n",
    "        timestamp = str(pd.to_datetime('today'))\n",
    "        timestamp = timestamp[:-7]\n",
    "        \n",
    "        tmp = pd.DataFrame({\n",
    "            'processName':[self.process_name],\n",
    "            'user':[user],\n",
    "            'datetime':[timestamp],\n",
    "            'formalIssue':[''],\n",
    "            'tags':[''],\n",
    "            'fpthInputs':[self.fpth_inputs_archive]\n",
    "        })\n",
    "        self.df_log = self.df_log.append(tmp).reset_index(drop=True)\n",
    "        make_dir(self.fdir_log)\n",
    "        self.df_log.to_csv(self.fpth_log)\n",
    "        \n",
    "    def _preview_outputs(self, sender):\n",
    "        with self.out:\n",
    "            clear_output()\n",
    "            fpths = self.outputsfpth.options\n",
    "            for fpth in fpths:\n",
    "                display(Markdown('#### {0}'.format(os.path.splitext(os.path.basename(fpth))[0])))\n",
    "                display(Markdown('`{0}`'.format(fpth)))\n",
    "                d = DisplayFile(fpth)\n",
    "                d.preview_fpth()\n",
    "            if len(fpths)==0:\n",
    "                display(Markdown('select the file(s) that you would like to display from the \"outputs\" list above '))\n",
    "                \n",
    "    def _show_log(self, sender):\n",
    "        with self.out:\n",
    "            clear_output()\n",
    "            if os.path.isfile(self.fpth_log):\n",
    "                d = DisplayFile(self.fpth_log)\n",
    "                d.preview_fpth()\n",
    "            else:  \n",
    "                display(Markdown('### A log file does not yet exist.'))\n",
    "                display(Markdown('### This indicates that the script has not yet been run.'))\n",
    "             \n",
    "    def display(self):\n",
    "        display(self.layout, self.out)\n",
    "        \n",
    "    def _ipython_display_(self):\n",
    "        self.display()    \n",
    "        \n",
    "# IT WOULD BE GOOD TO ADD A PROGRESS BAR\n",
    "# i think this would require us to time how long it takes for a script to execute and use that \n",
    "# as a first estimate. we could also then keep an ongoing record of time-taken to run a script within\n",
    "# the log file which could be used to keep the assumed time up-to-date / more accurate.\n",
    "# E.G. owen's example:\n",
    "# (but there is a fancy looking ipywidget we could use...)\n",
    "# fpth = r'C:\\engDev\\git_mf\\MF_Toolbox\\dev\\mf_modules\\progress_bar.py'\n",
    "# %run $fpth\n",
    "\n",
    "class RunApps():\n",
    "    \n",
    "    def __init__(self,configs):\n",
    "        \"\"\"\n",
    "        Args:\n",
    "            configs (list): list of RunApp input configs. \n",
    "                can explicitly specify a different RunApp to be used when passing \n",
    "                the list \n",
    "        \"\"\"\n",
    "        self.inputconfigs = configs\n",
    "        self.processes = self._update_configs()\n",
    "        self.li = []\n",
    "        self._form()\n",
    "        self._init_controls()\n",
    "        for process in self.processes:\n",
    "            self.li.append(process['app'](process['config']))   \n",
    "        self.out = widgets.Output()\n",
    "    \n",
    "    def _update_configs(self):\n",
    "        newconfigs = []\n",
    "        for config in self.inputconfigs:\n",
    "            if list(config.keys()) == ['app','config']:\n",
    "                # app to use already explicitly specified\n",
    "                newconfigs.append(config)     \n",
    "            else:\n",
    "                # assume the config got passed without the associated app\n",
    "                newconfigs.append({'app': RunApp, 'config': config})     \n",
    "        return newconfigs\n",
    "        \n",
    "    def _form(self):\n",
    "        \n",
    "        self.reset = widgets.Button(icon='fa-eye-slash',#'fa-repeat'\n",
    "                                tooltip='removes temporary output view',\n",
    "                                style={'font_weight':'bold'},\n",
    "                                layout=widgets.Layout(width='5%'))\n",
    "        self.help = widgets.Button(icon='fa-question-circle',\n",
    "                                tooltip='describes the functionality of elements in the RunApp interface',\n",
    "                                style={'font_weight':'bold'},\n",
    "                                layout=widgets.Layout(width='5%'))\n",
    "        self.run_batch = widgets.Button(description='run batch',\n",
    "                                tooltip='execute checked processes below',\n",
    "                                button_style='success',\n",
    "                                style={'font_weight':'bold'})\n",
    "        self.form = widgets.HBox([self.reset, self.help, self.run_batch],\n",
    "                        layout=widgets.Layout(width='100%',align_items='stretch'))   \n",
    "    \n",
    "    def _init_controls(self):\n",
    "        self.help.on_click(self._help)\n",
    "        self.reset.on_click(self._reset)\n",
    "        self.run_batch.on_click(self._run_batch)\n",
    "        \n",
    "    def _help(self, sender):\n",
    "        \n",
    "        with self.out:\n",
    "            clear_output()\n",
    "            fpth = os.path.join(os.environ['mf_root'],r'ipyrun\\docs\\images\\RunBatch.png')\n",
    "            display(Image(fpth))\n",
    "            \n",
    "    def _reset(self, sender):\n",
    "        with self.out:\n",
    "            clear_output()\n",
    "        for l in self.li:\n",
    "            l._reset(sender)\n",
    "    \n",
    "    def _run_batch(self, sender):\n",
    "        cnt = 0\n",
    "        ttl = 0\n",
    "        for l in self.li:\n",
    "            ttl = ttl + 1\n",
    "            if l.check.value:\n",
    "                cnt = cnt + 1\n",
    "        \n",
    "        with self.out:\n",
    "            clear_output()\n",
    "            display(Markdown('{0} out of {1} scripts selected to be run'.format(cnt,ttl)))\n",
    "            for l in self.li:\n",
    "                if l.check.value:\n",
    "                    display(Markdown('running: {0}'.format(l.config['process_name'])))\n",
    "                    l._run_script('sender')\n",
    "                    l._log() # 'sender'\n",
    "\n",
    "    def display(self):\n",
    "        display(self.form)\n",
    "        display(self.out)\n",
    "        [display(l) for l in self.li]; \n",
    "        \n",
    "    def _ipython_display_(self):\n",
    "        self.display() \n",
    "        \n",
    "\n",
    "# SUPERCEDED\n",
    "\n",
    "#def run_py_script(fpth,arg):\n",
    "#    \"\"\"\n",
    "#    NOT IN USE\n",
    "#    run a script using python magic\n",
    "#    (% means it can't be imported as a script)\n",
    "#    \"\"\"\n",
    "#    if os.path.isfile(fpth):\n",
    "#        print('run {0}'.format(fpth))\n",
    "#        %run -i $fpth $arg #-i\n",
    "#    elif fpth == 'READ PROCESSED DATA ONLY':\n",
    "#        pass\n",
    "#    else:\n",
    "#        print(\"{0} doesn't exist\".format(fpth))\n",
    "\n",
    "# option 2: looks better but the outputs appear at the bottom instead of in-line\n",
    "class RunApps_SS():\n",
    "    \n",
    "    def __init__(self,configs):\n",
    "        self.out = widgets.Output()\n",
    "        self.configs = configs\n",
    "        self.li = []\n",
    "        for config in configs:\n",
    "            self.li.append(RunApp(config))\n",
    "        self.display()\n",
    "            \n",
    "    def display(self):\n",
    "        \n",
    "        out = [l.layout for l in self.li]\n",
    "        self.applayout = widgets.VBox(out)\n",
    "        display(self.applayout)\n",
    "        for l in self.li:\n",
    "            display(l.out)\n",
    "\n",
    "     \n"
   ]
  },
  {
   "cell_type": "code",
   "execution_count": 9,
   "metadata": {
    "lines_to_next_cell": 0
   },
   "outputs": [
    {
     "data": {
      "text/markdown": [
       "### Example1"
      ],
      "text/plain": [
       "<IPython.core.display.Markdown object>"
      ]
     },
     "metadata": {},
     "output_type": "display_data"
    },
    {
     "data": {
      "text/markdown": [
       "default RunApp."
      ],
      "text/plain": [
       "<IPython.core.display.Markdown object>"
      ]
     },
     "metadata": {},
     "output_type": "display_data"
    },
    {
     "data": {
      "application/vnd.jupyter.widget-view+json": {
       "model_id": "4061fd10991d4f9d9c300fd14b25288d",
       "version_major": 2,
       "version_minor": 0
      },
      "text/plain": [
       "HBox(children=(Checkbox(value=False, indent=False, layout=Layout(height='30px', max_width='30px', padding='3px…"
      ]
     },
     "metadata": {},
     "output_type": "display_data"
    },
    {
     "data": {
      "application/vnd.jupyter.widget-view+json": {
       "model_id": "7e444b0362984a4e88b317b4340680bc",
       "version_major": 2,
       "version_minor": 0
      },
      "text/plain": [
       "Output()"
      ]
     },
     "metadata": {},
     "output_type": "display_data"
    },
    {
     "data": {
      "text/markdown": [
       "---"
      ],
      "text/plain": [
       "<IPython.core.display.Markdown object>"
      ]
     },
     "metadata": {},
     "output_type": "display_data"
    },
    {
     "data": {
      "text/markdown": [],
      "text/plain": [
       "<IPython.core.display.Markdown object>"
      ]
     },
     "metadata": {},
     "output_type": "display_data"
    },
    {
     "data": {
      "text/markdown": [
       "### Example2"
      ],
      "text/plain": [
       "<IPython.core.display.Markdown object>"
      ]
     },
     "metadata": {},
     "output_type": "display_data"
    },
    {
     "data": {
      "text/markdown": [
       "example where the RunApp class has been extended by inheriting the \n",
       "    RunApp and overwriting the _edit_inputs\n",
       "    take a simple csv file as an input instead of a JSON file...\n",
       "    the main funtions that can be overwritten to extend the class in this way are:\n",
       "    \n",
       "    - _help\n",
       "    - _show_guide\n",
       "    - _edit_inputs\n",
       "    - _run\n",
       "    - _preview_outputs"
      ],
      "text/plain": [
       "<IPython.core.display.Markdown object>"
      ]
     },
     "metadata": {},
     "output_type": "display_data"
    },
    {
     "data": {
      "application/vnd.jupyter.widget-view+json": {
       "model_id": "7a7dbbcaa7d64880bda2425bba75720a",
       "version_major": 2,
       "version_minor": 0
      },
      "text/plain": [
       "HBox(children=(Checkbox(value=False, indent=False, layout=Layout(height='30px', max_width='30px', padding='3px…"
      ]
     },
     "metadata": {},
     "output_type": "display_data"
    },
    {
     "data": {
      "application/vnd.jupyter.widget-view+json": {
       "model_id": "eb5a148786c341dd99e573e8d9d76003",
       "version_major": 2,
       "version_minor": 0
      },
      "text/plain": [
       "Output()"
      ]
     },
     "metadata": {},
     "output_type": "display_data"
    },
    {
     "data": {
      "text/markdown": [
       "---"
      ],
      "text/plain": [
       "<IPython.core.display.Markdown object>"
      ]
     },
     "metadata": {},
     "output_type": "display_data"
    },
    {
     "data": {
      "text/markdown": [],
      "text/plain": [
       "<IPython.core.display.Markdown object>"
      ]
     },
     "metadata": {},
     "output_type": "display_data"
    },
    {
     "data": {
      "text/markdown": [
       "### Example3"
      ],
      "text/plain": [
       "<IPython.core.display.Markdown object>"
      ]
     },
     "metadata": {},
     "output_type": "display_data"
    },
    {
     "data": {
      "text/markdown": [
       "\n",
       "demonstrates how multiple RunApp's can be ran as a batch. if not explicitly defined, the app assumes the default\n",
       "RunApp is used.<br> it is also possible to explictly pass a RunApp variant, and it will still be executed within the batch:  \n",
       "\n",
       "```\n",
       "    di={\n",
       "        'fpth_script':os.path.join(os.environ['mf_root'],r'MF_Toolbox\\dev\\mf_scripts\\eplus_pipework_params.py'),\n",
       "        #'process_name':os.path.basename(os.path.join(os.environ['mf_root'],r'MF_Toolbox\\dev\\mf_scripts\\eplus_pipework_params.py')),\n",
       "        #'fpth_inputs':os.path.join(os.environ['mf_root'],r'MF_Toolbox\\dev\\mf_scripts\\configs\\eplus_pipework_params.csv'),\n",
       "        'fdir':os.path.join(FDIR,'notebooks'),\n",
       "        'fdir_outputs':os.path.join(FDIR,'notebooks')\n",
       "        }  \n",
       "\n",
       "    defaultrunapp={\n",
       "        'fpth_script':os.path.join(os.environ['mf_root'],r'MF_Toolbox\\dev\\mf_scripts\\docx_to_pdf.py'),\n",
       "        'fdir':FDIR,\n",
       "        'script_outputs': {'0': {\n",
       "            'fdir':r'..\r",
       "eports',\n",
       "            'fnm': r'JupyterReportDemo.pdf',\n",
       "            'description': \"a pdf report from word\"\n",
       "                }\n",
       "            }\n",
       "        }\n",
       "\n",
       "    runappcsv = {'app':RunAppEditCsv,'config':di}\n",
       "    configs = [runappcsv,defaultrunapp,runappcsv]\n",
       "    runapps = RunApps(configs)  \n",
       "    display(runapps)\n",
       "```\n",
       "    "
      ],
      "text/plain": [
       "<IPython.core.display.Markdown object>"
      ]
     },
     "metadata": {},
     "output_type": "display_data"
    },
    {
     "data": {
      "application/vnd.jupyter.widget-view+json": {
       "model_id": "b2b546e879434fdfa28bf790743a6990",
       "version_major": 2,
       "version_minor": 0
      },
      "text/plain": [
       "HBox(children=(Button(icon='eye-slash', layout=Layout(width='5%'), style=ButtonStyle(font_weight='bold'), tool…"
      ]
     },
     "metadata": {},
     "output_type": "display_data"
    },
    {
     "data": {
      "application/vnd.jupyter.widget-view+json": {
       "model_id": "46e147707b5d436bbf96c0f2adcc0886",
       "version_major": 2,
       "version_minor": 0
      },
      "text/plain": [
       "Output()"
      ]
     },
     "metadata": {},
     "output_type": "display_data"
    },
    {
     "data": {
      "application/vnd.jupyter.widget-view+json": {
       "model_id": "4d81f6a00581458a92ed033fe8190463",
       "version_major": 2,
       "version_minor": 0
      },
      "text/plain": [
       "HBox(children=(Checkbox(value=False, indent=False, layout=Layout(height='30px', max_width='30px', padding='3px…"
      ]
     },
     "metadata": {},
     "output_type": "display_data"
    },
    {
     "data": {
      "application/vnd.jupyter.widget-view+json": {
       "model_id": "ec28af57a83644a4a06d8d64efc990c6",
       "version_major": 2,
       "version_minor": 0
      },
      "text/plain": [
       "Output()"
      ]
     },
     "metadata": {},
     "output_type": "display_data"
    },
    {
     "data": {
      "application/vnd.jupyter.widget-view+json": {
       "model_id": "e34131ea507542ad8747244ad64a5b20",
       "version_major": 2,
       "version_minor": 0
      },
      "text/plain": [
       "HBox(children=(Checkbox(value=False, indent=False, layout=Layout(height='30px', max_width='30px', padding='3px…"
      ]
     },
     "metadata": {},
     "output_type": "display_data"
    },
    {
     "data": {
      "application/vnd.jupyter.widget-view+json": {
       "model_id": "f7058db351d74d848055ecf35ab84a5a",
       "version_major": 2,
       "version_minor": 0
      },
      "text/plain": [
       "Output()"
      ]
     },
     "metadata": {},
     "output_type": "display_data"
    },
    {
     "data": {
      "application/vnd.jupyter.widget-view+json": {
       "model_id": "588a93d75be34b2ca3ea8e45b9f6b9f5",
       "version_major": 2,
       "version_minor": 0
      },
      "text/plain": [
       "HBox(children=(Checkbox(value=False, indent=False, layout=Layout(height='30px', max_width='30px', padding='3px…"
      ]
     },
     "metadata": {},
     "output_type": "display_data"
    },
    {
     "data": {
      "application/vnd.jupyter.widget-view+json": {
       "model_id": "83dd4f6107584f319e3fa6751f1cfaaf",
       "version_major": 2,
       "version_minor": 0
      },
      "text/plain": [
       "Output()"
      ]
     },
     "metadata": {},
     "output_type": "display_data"
    },
    {
     "data": {
      "text/markdown": [
       "---"
      ],
      "text/plain": [
       "<IPython.core.display.Markdown object>"
      ]
     },
     "metadata": {},
     "output_type": "display_data"
    },
    {
     "data": {
      "text/markdown": [],
      "text/plain": [
       "<IPython.core.display.Markdown object>"
      ]
     },
     "metadata": {},
     "output_type": "display_data"
    }
   ],
   "source": [
    "if __name__ =='__main__':\n",
    "    \n",
    "    # dumb form\n",
    "    #form = RunForm()\n",
    "    #form\n",
    "\n",
    "\n",
    "    # Example1 --------------------------\n",
    "    # RunApp example, using a default JSON file\n",
    "    # EDIT JSON FILE with custom config and file management\n",
    "    config={\n",
    "        'fpth_script':os.path.join(os.environ['mf_root'],r'MF_Toolbox\\dev\\mf_scripts\\docx_to_pdf.py'),\n",
    "        'fdir':FDIR,\n",
    "        'script_outputs': {'0': {\n",
    "            'fdir':r'..\\reports',\n",
    "            'fnm': r'JupyterReportDemo.pdf',\n",
    "            'description': \"a pdf report from word\"\n",
    "                }\n",
    "            }\n",
    "        }    \n",
    "\n",
    "    rjson = RunApp(config)  \n",
    "    display(Markdown('### Example1'))\n",
    "    display(Markdown('''default RunApp.'''))\n",
    "    display(rjson)\n",
    "\n",
    "    display(Markdown('---'))  \n",
    "    display(Markdown(''))  \n",
    "\n",
    "    # Example2 --------------------------\n",
    "    class RunAppEditCsv(RunApp):\n",
    "\n",
    "        def __init__(self, config):\n",
    "            super().__init__(config)\n",
    "\n",
    "        def _edit_inputs(self, sender):\n",
    "            with self.out:\n",
    "                clear_output()\n",
    "                display(EditCsv(self.config))\n",
    "\n",
    "    di={\n",
    "        'fpth_script':os.path.join(os.environ['mf_root'],r'MF_Toolbox\\dev\\mf_scripts\\eplus_pipework_params.py'),\n",
    "        #'process_name':os.path.basename(os.path.join(os.environ['mf_root'],r'MF_Toolbox\\dev\\mf_scripts\\eplus_pipework_params.py')),\n",
    "        #'fpth_inputs':os.path.join(os.environ['mf_root'],r'MF_Toolbox\\dev\\mf_scripts\\configs\\eplus_pipework_params.csv'),\n",
    "        'fdir':FDIR,\n",
    "        #'fpth_log':os.path.join(FDIR,'notebooks',config),\n",
    "        #'fdir_outputs':os.path.join(FDIR,'notebooks')\n",
    "        #'RunApp_help':RunApp_help\n",
    "        }  \n",
    "    rcsv = RunAppEditCsv(di)  \n",
    "    display(Markdown('### Example2'))\n",
    "    display(Markdown('''example where the RunApp class has been extended by inheriting the \n",
    "    RunApp and overwriting the _edit_inputs\n",
    "    take a simple csv file as an input instead of a JSON file...\n",
    "    the main funtions that can be overwritten to extend the class in this way are:\n",
    "    \n",
    "    - _help\n",
    "    - _show_guide\n",
    "    - _edit_inputs\n",
    "    - _run\n",
    "    - _preview_outputs'''))\n",
    "    display(rcsv)\n",
    "    display(Markdown('---'))  \n",
    "    display(Markdown(''))  \n",
    "\n",
    "\n",
    "\n",
    "    # Example3 --------------------------\n",
    "    di={\n",
    "        'fpth_script':os.path.join(os.environ['mf_root'],r'MF_Toolbox\\dev\\mf_scripts\\eplus_pipework_params.py'),\n",
    "        #'process_name':os.path.basename(os.path.join(os.environ['mf_root'],r'MF_Toolbox\\dev\\mf_scripts\\eplus_pipework_params.py')),\n",
    "        #'fpth_inputs':os.path.join(os.environ['mf_root'],r'MF_Toolbox\\dev\\mf_scripts\\configs\\eplus_pipework_params.csv'),\n",
    "        'fdir':os.path.join(FDIR,'notebooks'),\n",
    "        'fdir_outputs':os.path.join(FDIR,'notebooks')\n",
    "        }  \n",
    "\n",
    "    defaultrunapp={\n",
    "        'fpth_script':os.path.join(os.environ['mf_root'],r'MF_Toolbox\\dev\\mf_scripts\\docx_to_pdf.py'),\n",
    "        'fdir':FDIR,\n",
    "        'script_outputs': {'0': {\n",
    "            'fdir':r'..\\reports',\n",
    "            'fnm': r'JupyterReportDemo.pdf',\n",
    "            'description': \"a pdf report from word\"\n",
    "                }\n",
    "            }\n",
    "        }\n",
    "\n",
    "    runappcsv = {'app':RunAppEditCsv,'config':di}\n",
    "    configs = [runappcsv,defaultrunapp,runappcsv]\n",
    "    runapps = RunApps(configs)  \n",
    "\n",
    "    display(Markdown('### Example3'))\n",
    "    display(Markdown('''\n",
    "demonstrates how multiple RunApp's can be ran as a batch. if not explicitly defined, the app assumes the default\n",
    "RunApp is used.<br> it is also possible to explictly pass a RunApp variant, and it will still be executed within the batch:  \n",
    "\n",
    "```\n",
    "    di={\n",
    "        'fpth_script':os.path.join(os.environ['mf_root'],r'MF_Toolbox\\dev\\mf_scripts\\eplus_pipework_params.py'),\n",
    "        #'process_name':os.path.basename(os.path.join(os.environ['mf_root'],r'MF_Toolbox\\dev\\mf_scripts\\eplus_pipework_params.py')),\n",
    "        #'fpth_inputs':os.path.join(os.environ['mf_root'],r'MF_Toolbox\\dev\\mf_scripts\\configs\\eplus_pipework_params.csv'),\n",
    "        'fdir':os.path.join(FDIR,'notebooks'),\n",
    "        'fdir_outputs':os.path.join(FDIR,'notebooks')\n",
    "        }  \n",
    "\n",
    "    defaultrunapp={\n",
    "        'fpth_script':os.path.join(os.environ['mf_root'],r'MF_Toolbox\\dev\\mf_scripts\\docx_to_pdf.py'),\n",
    "        'fdir':FDIR,\n",
    "        'script_outputs': {'0': {\n",
    "            'fdir':r'..\\reports',\n",
    "            'fnm': r'JupyterReportDemo.pdf',\n",
    "            'description': \"a pdf report from word\"\n",
    "                }\n",
    "            }\n",
    "        }\n",
    "\n",
    "    runappcsv = {'app':RunAppEditCsv,'config':di}\n",
    "    configs = [runappcsv,defaultrunapp,runappcsv]\n",
    "    runapps = RunApps(configs)  \n",
    "    display(runapps)\n",
    "```\n",
    "    '''))\n",
    "    display(runapps)\n",
    "    display(Markdown('---'))  \n",
    "    display(Markdown('')) "
   ]
  },
  {
   "cell_type": "code",
   "execution_count": null,
   "metadata": {},
   "outputs": [],
   "source": []
  }
 ],
 "metadata": {
  "jupytext": {
   "formats": "ipynb,py:light"
  },
  "kernelspec": {
   "display_name": "Python [conda env:mf_main] *",
   "language": "python",
   "name": "conda-env-mf_main-py"
  },
  "language_info": {
   "codemirror_mode": {
    "name": "ipython",
    "version": 3
   },
   "file_extension": ".py",
   "mimetype": "text/x-python",
   "name": "python",
   "nbconvert_exporter": "python",
   "pygments_lexer": "ipython3",
   "version": "3.7.7"
  },
  "widgets": {
   "application/vnd.jupyter.widget-state+json": {
    "state": {
     "0014db48ac1242748d7d26b65ca0e774": {
      "model_module": "@jupyter-widgets/base",
      "model_module_version": "1.2.0",
      "model_name": "LayoutModel",
      "state": {}
     },
     "004abf4dd11448d0914e3e804d4188ba": {
      "model_module": "@jupyter-widgets/controls",
      "model_module_version": "1.5.0",
      "model_name": "ButtonModel",
      "state": {
       "icon": "question-circle",
       "layout": "IPY_MODEL_8215ce320d6b45c4a15d53b870af2c0e",
       "style": "IPY_MODEL_1f80166537714fb8a87b5339ec2842ae",
       "tooltip": "describes the functionality of elements in the RunApp interface"
      }
     },
     "00ea9ed96f984cee86e16c2db3193ec6": {
      "model_module": "@jupyter-widgets/controls",
      "model_module_version": "1.5.0",
      "model_name": "ButtonModel",
      "state": {
       "icon": "eye-slash",
       "layout": "IPY_MODEL_1aca33d61f44420cb73a7b5b02e804ec",
       "style": "IPY_MODEL_aeda677ef23f41aa909b8ed518a56731",
       "tooltip": "removes temporary output view"
      }
     },
     "0118b4164fea4122999d30a9e6796d9b": {
      "model_module": "@jupyter-widgets/controls",
      "model_module_version": "1.5.0",
      "model_name": "ButtonModel",
      "state": {
       "button_style": "info",
       "description": "preview outputs",
       "layout": "IPY_MODEL_808c181f8fb24b8898f64884482dd77b",
       "style": "IPY_MODEL_2a6b4f3e613842c7b8089a86662f226a",
       "tooltip": "show a preview of the output files generated when the script runs"
      }
     },
     "015e2ce64b5948a686b55e9729665cb4": {
      "model_module": "@jupyter-widgets/controls",
      "model_module_version": "1.5.0",
      "model_name": "ButtonStyleModel",
      "state": {
       "font_weight": "bold"
      }
     },
     "022acdd5ed58455182553aef2019ca8b": {
      "model_module": "@jupyter-widgets/base",
      "model_module_version": "1.2.0",
      "model_name": "LayoutModel",
      "state": {}
     },
     "0247675245ae4a96bc8c276922b94fba": {
      "model_module": "@jupyter-widgets/controls",
      "model_module_version": "1.5.0",
      "model_name": "HBoxModel",
      "state": {
       "children": [
        "IPY_MODEL_460a85c930064e91a30cb67cfa54a4d6",
        "IPY_MODEL_5cdaaea8e6654a68908f6eca494092ae"
       ],
       "layout": "IPY_MODEL_ec1488f951384c99bb66a193cfc3c2b5"
      }
     },
     "026e651f437d43ba861414d08964624c": {
      "model_module": "@jupyter-widgets/base",
      "model_module_version": "1.2.0",
      "model_name": "LayoutModel",
      "state": {
       "align_items": "stretch",
       "width": "100%"
      }
     },
     "02c40c355ca54ff3bab77c71df34117c": {
      "model_module": "@jupyter-widgets/controls",
      "model_module_version": "1.5.0",
      "model_name": "ButtonStyleModel",
      "state": {}
     },
     "03005f91f49748a2bd0bf84ab2cf6098": {
      "model_module": "@jupyter-widgets/controls",
      "model_module_version": "1.5.0",
      "model_name": "HBoxModel",
      "state": {
       "children": [
        "IPY_MODEL_22625a7eb0b74f088dca19eea7ddbeee",
        "IPY_MODEL_3ba17d2acf274c6fa377bbbebf8ca57c"
       ],
       "layout": "IPY_MODEL_d9caf483a7804ce9a3126954f0c89f24"
      }
     },
     "032bed7d195145eba5522ef0a596f0e7": {
      "model_module": "@jupyter-widgets/controls",
      "model_module_version": "1.5.0",
      "model_name": "ButtonStyleModel",
      "state": {
       "font_weight": "bold"
      }
     },
     "033c5749d6d24f10ba5aedb5a0a77030": {
      "model_module": "@jupyter-widgets/controls",
      "model_module_version": "1.5.0",
      "model_name": "ButtonStyleModel",
      "state": {
       "font_weight": "bold"
      }
     },
     "03b61f301d17433aac3f1087f734de44": {
      "model_module": "@jupyter-widgets/controls",
      "model_module_version": "1.5.0",
      "model_name": "ButtonStyleModel",
      "state": {
       "font_weight": "bold"
      }
     },
     "040c93dfc94e46a082ff20e4bf25a2a3": {
      "model_module": "@jupyter-widgets/controls",
      "model_module_version": "1.5.0",
      "model_name": "VBoxModel",
      "state": {
       "children": [
        "IPY_MODEL_f6c614cb2c494aea8ffca47872ad810c",
        "IPY_MODEL_4c36ed9e40a94a49956ecfcc2b2ba1b7"
       ],
       "layout": "IPY_MODEL_66bd832f6153423eb5202482d94834bd"
      }
     },
     "04b3c98838674f0aacda938819c4606d": {
      "model_module": "@jupyter-widgets/base",
      "model_module_version": "1.2.0",
      "model_name": "LayoutModel",
      "state": {
       "width": "5%"
      }
     },
     "04defadc7e684e36a4283347ce28a9f7": {
      "model_module": "@jupyter-widgets/controls",
      "model_module_version": "1.5.0",
      "model_name": "ButtonModel",
      "state": {
       "icon": "question-circle",
       "layout": "IPY_MODEL_d4b2100543e2449faaf2f3afb3e40118",
       "style": "IPY_MODEL_82fd230a504846199518e5e6fcb7dfda",
       "tooltip": "describes the functionality of elements in the RunApp interface"
      }
     },
     "04f4dc4a35604a21a0af2c43a10c6db2": {
      "model_module": "@jupyter-widgets/base",
      "model_module_version": "1.2.0",
      "model_name": "LayoutModel",
      "state": {}
     },
     "05077cd4374f4561b4fbb52f29c3d268": {
      "model_module": "@jupyter-widgets/base",
      "model_module_version": "1.2.0",
      "model_name": "LayoutModel",
      "state": {
       "height": "30px",
       "max_width": "30px",
       "padding": "3px"
      }
     },
     "056029ca69bf454dbf53dd76dcc89160": {
      "model_module": "@jupyter-widgets/controls",
      "model_module_version": "1.5.0",
      "model_name": "DescriptionStyleModel",
      "state": {
       "description_width": ""
      }
     },
     "06d7229122e9401bb581a29f1143559a": {
      "model_module": "@jupyter-widgets/controls",
      "model_module_version": "1.5.0",
      "model_name": "ButtonStyleModel",
      "state": {}
     },
     "074533311add42219767983ea35b2d48": {
      "model_module": "@jupyter-widgets/base",
      "model_module_version": "1.2.0",
      "model_name": "LayoutModel",
      "state": {
       "align_items": "stretch",
       "width": "100%"
      }
     },
     "08dfcd56fde74e6e84bcc15a9b2edd04": {
      "model_module": "@jupyter-widgets/base",
      "model_module_version": "1.2.0",
      "model_name": "LayoutModel",
      "state": {
       "align_items": "stretch",
       "border": "dashed 0.2px green",
       "display": "flex",
       "flex_flow": "row",
       "grid_auto_columns": "True",
       "justify_content": "flex-start",
       "width": "100%"
      }
     },
     "0940643803724be2b3bbd90438373bc9": {
      "model_module": "@jupyter-widgets/controls",
      "model_module_version": "1.5.0",
      "model_name": "ButtonModel",
      "state": {
       "button_style": "success",
       "description": "run",
       "layout": "IPY_MODEL_f4a1c924719d48e38965c0adfa37f809",
       "style": "IPY_MODEL_e3e5b9a04e4848e58136b123deac2707",
       "tooltip": "execute the script based on the user inputs"
      }
     },
     "09490b68400b452f85b80efc5c3bf2ec": {
      "model_module": "@jupyter-widgets/controls",
      "model_module_version": "1.5.0",
      "model_name": "ButtonModel",
      "state": {
       "button_style": "info",
       "description": "preview outputs",
       "layout": "IPY_MODEL_eedf47ebb4784200b80fe37070b346b6",
       "style": "IPY_MODEL_0fdf0cc5c9ae466a94c99cb860f6ce46",
       "tooltip": "show a preview of the output files generated when the script runs"
      }
     },
     "0a71c7ef42174e499cbe95227eb46f59": {
      "model_module": "@jupyter-widgets/base",
      "model_module_version": "1.2.0",
      "model_name": "LayoutModel",
      "state": {
       "align_items": "stretch",
       "width": "100%"
      }
     },
     "0a873676efa04bbeb619699d26d7eb4e": {
      "model_module": "@jupyter-widgets/controls",
      "model_module_version": "1.5.0",
      "model_name": "ButtonModel",
      "state": {
       "button_style": "info",
       "description": "show log",
       "layout": "IPY_MODEL_4753c1cc3d3f4faa9ca4765d3e8b76b9",
       "style": "IPY_MODEL_48c9e8ee124e4c3292bab0f35f5e6130",
       "tooltip": "show a log of when the script was executed to generate the outputs, and by who"
      }
     },
     "0b74100b243b419a83b4b2bea4feed0f": {
      "model_module": "@jupyter-widgets/controls",
      "model_module_version": "1.5.0",
      "model_name": "DescriptionStyleModel",
      "state": {
       "description_width": ""
      }
     },
     "0b91920e72bc48f08b8e0fe75982334f": {
      "model_module": "@jupyter-widgets/controls",
      "model_module_version": "1.5.0",
      "model_name": "VBoxModel",
      "state": {
       "children": [
        "IPY_MODEL_9839cd9d02994bd89b55f8da0c7ec883",
        "IPY_MODEL_77fbc57fab014df78192db1a4b446cda",
        "IPY_MODEL_508adc3a0e3f4061a679ab3f2e52a826"
       ],
       "layout": "IPY_MODEL_e204f538d16f4123a363dd75ba7a2791"
      }
     },
     "0bad4160af2a4989995eb2527f818b47": {
      "model_module": "@jupyter-widgets/base",
      "model_module_version": "1.2.0",
      "model_name": "LayoutModel",
      "state": {}
     },
     "0bbedd861e014184b54bb15c4853b200": {
      "model_module": "@jupyter-widgets/controls",
      "model_module_version": "1.5.0",
      "model_name": "AccordionModel",
      "state": {
       "_titles": {
        "0": "eplus_pipework_params"
       },
       "children": [
        "IPY_MODEL_beef88b35dc24a7bacdc254a9528aa47"
       ],
       "layout": "IPY_MODEL_45e6aae54b504d06a93538ae5b289a7c",
       "selected_index": null
      }
     },
     "0bfd51d3eff145d3a3da2420afee62c7": {
      "model_module": "@jupyter-widgets/controls",
      "model_module_version": "1.5.0",
      "model_name": "ButtonModel",
      "state": {
       "button_style": "info",
       "description": "show log",
       "layout": "IPY_MODEL_022acdd5ed58455182553aef2019ca8b",
       "style": "IPY_MODEL_9199706c3adf4af3840b7bf0e06fa44c",
       "tooltip": "show a log of when the script was executed to generate the outputs, and by who"
      }
     },
     "0ce0287db3c944f1ac572580f2a823c9": {
      "model_module": "@jupyter-widgets/controls",
      "model_module_version": "1.5.0",
      "model_name": "ButtonModel",
      "state": {
       "button_style": "info",
       "description": "preview outputs",
       "layout": "IPY_MODEL_7af82943d5d24002aab8cf0d6321965f",
       "style": "IPY_MODEL_dfddf51d2c1f49119767261592eef0fe",
       "tooltip": "show a preview of the output files generated when the script runs"
      }
     },
     "0d1b10496b5b4a0fb803b19d0e6406d2": {
      "model_module": "@jupyter-widgets/base",
      "model_module_version": "1.2.0",
      "model_name": "LayoutModel",
      "state": {}
     },
     "0d20611980fd422c8e8f2fb9d2a515c9": {
      "model_module": "@jupyter-widgets/base",
      "model_module_version": "1.2.0",
      "model_name": "LayoutModel",
      "state": {}
     },
     "0db0feff8ab84e0ba5b010e6bd093626": {
      "model_module": "@jupyter-widgets/base",
      "model_module_version": "1.2.0",
      "model_name": "LayoutModel",
      "state": {}
     },
     "0dca9221b573403cacb3fe213ec2c7e7": {
      "model_module": "@jupyter-widgets/controls",
      "model_module_version": "1.5.0",
      "model_name": "HBoxModel",
      "state": {
       "children": [
        "IPY_MODEL_1293eebd7f7a4ceca20a9369758ff55f"
       ],
       "layout": "IPY_MODEL_08dfcd56fde74e6e84bcc15a9b2edd04"
      }
     },
     "0e6b7191c3f942a59cc5bfbb34e210cf": {
      "model_module": "@jupyter-widgets/controls",
      "model_module_version": "1.5.0",
      "model_name": "CheckboxModel",
      "state": {
       "disabled": false,
       "indent": false,
       "layout": "IPY_MODEL_6abf0d191c254bd79b5c239dd27fc27b",
       "style": "IPY_MODEL_6ced570344e9491e8a27a0fa8bf81cab",
       "value": true
      }
     },
     "0f01af9254cc4ea080280776b3b74cba": {
      "model_module": "@jupyter-widgets/controls",
      "model_module_version": "1.5.0",
      "model_name": "DescriptionStyleModel",
      "state": {
       "description_width": ""
      }
     },
     "0fdf0cc5c9ae466a94c99cb860f6ce46": {
      "model_module": "@jupyter-widgets/controls",
      "model_module_version": "1.5.0",
      "model_name": "ButtonStyleModel",
      "state": {
       "font_weight": "bold"
      }
     },
     "0ffe1e7fd24e4df498658f6362153541": {
      "model_module": "@jupyter-widgets/base",
      "model_module_version": "1.2.0",
      "model_name": "LayoutModel",
      "state": {}
     },
     "10088bf032df4fa9819b948250bea717": {
      "model_module": "@jupyter-widgets/base",
      "model_module_version": "1.2.0",
      "model_name": "LayoutModel",
      "state": {
       "align_items": "stretch",
       "width": "100%"
      }
     },
     "10a52ccb198149c8b0196d3c5a3ecc7b": {
      "model_module": "@jupyter-widgets/base",
      "model_module_version": "1.2.0",
      "model_name": "LayoutModel",
      "state": {
       "height": "30px",
       "width": "auto"
      }
     },
     "10ecf972fd024c088b97f3e022ba1cf6": {
      "model_module": "@jupyter-widgets/base",
      "model_module_version": "1.2.0",
      "model_name": "LayoutModel",
      "state": {}
     },
     "11456179eb82405083533c9daac90bb6": {
      "model_module": "@jupyter-widgets/base",
      "model_module_version": "1.2.0",
      "model_name": "LayoutModel",
      "state": {}
     },
     "11864918adcd4c8d9746fac4e60d1413": {
      "model_module": "@jupyter-widgets/base",
      "model_module_version": "1.2.0",
      "model_name": "LayoutModel",
      "state": {
       "height": "30px",
       "width": "auto"
      }
     },
     "118ded3decc240e0b8bc1459e711b12d": {
      "model_module": "@jupyter-widgets/base",
      "model_module_version": "1.2.0",
      "model_name": "LayoutModel",
      "state": {
       "width": "100%"
      }
     },
     "11b82af41c474d46aed37e232d49bdcb": {
      "model_module": "@jupyter-widgets/base",
      "model_module_version": "1.2.0",
      "model_name": "LayoutModel",
      "state": {}
     },
     "11cbd603ce1c4a068a4b985ef6cab666": {
      "model_module": "@jupyter-widgets/controls",
      "model_module_version": "1.5.0",
      "model_name": "ButtonStyleModel",
      "state": {
       "font_weight": "bold"
      }
     },
     "11f0b6b3fa2742b78586ea71a80d3dc8": {
      "model_module": "@jupyter-widgets/base",
      "model_module_version": "1.2.0",
      "model_name": "LayoutModel",
      "state": {}
     },
     "121e278a4e6c441db931d13f59e061eb": {
      "model_module": "@jupyter-widgets/base",
      "model_module_version": "1.2.0",
      "model_name": "LayoutModel",
      "state": {}
     },
     "121f3bba4be94325a2ac339ba33f8380": {
      "model_module": "@jupyter-widgets/controls",
      "model_module_version": "1.5.0",
      "model_name": "ButtonModel",
      "state": {
       "button_style": "info",
       "description": "show guide",
       "layout": "IPY_MODEL_48365fa061b0499bacad3ccfd5269988",
       "style": "IPY_MODEL_6b34ea8d24f8408bb7350c5cdf510104",
       "tooltip": "read the \"docstring\", ie. the documentation that was written to accompany the script"
      }
     },
     "125642aa30c74eb59b24bd938c955603": {
      "model_module": "@jupyter-widgets/base",
      "model_module_version": "1.2.0",
      "model_name": "LayoutModel",
      "state": {
       "height": "30px",
       "width": "auto"
      }
     },
     "1293eebd7f7a4ceca20a9369758ff55f": {
      "model_module": "@jupyter-widgets/controls",
      "model_module_version": "1.5.0",
      "model_name": "HBoxModel",
      "state": {
       "children": [
        "IPY_MODEL_b2d8daac7dd54ed5abe772ab344e1ff3",
        "IPY_MODEL_03005f91f49748a2bd0bf84ab2cf6098"
       ],
       "layout": "IPY_MODEL_cdd2b595fe794508a723fd88998b5d2d"
      }
     },
     "12ac85bb7daf454785fe3ef82493113d": {
      "model_module": "@jupyter-widgets/controls",
      "model_module_version": "1.5.0",
      "model_name": "TextModel",
      "state": {
       "description": "inputs",
       "disabled": true,
       "layout": "IPY_MODEL_4d79db2414d54a758cf24753ba7fa415",
       "style": "IPY_MODEL_ae4db7fffcb54674a417acb83552aded",
       "value": "C:\\engDev\\git_mf\\ipyrun\\ipyrun\\appdata\\inputs\\inputs-eplus_pipework_params.csv"
      }
     },
     "12e6d182f31f4a7b82920837f19432a9": {
      "model_module": "@jupyter-widgets/base",
      "model_module_version": "1.2.0",
      "model_name": "LayoutModel",
      "state": {}
     },
     "131ea6e2c0b6405e8f3fef17aaa94fef": {
      "model_module": "@jupyter-widgets/controls",
      "model_module_version": "1.5.0",
      "model_name": "ButtonStyleModel",
      "state": {
       "font_weight": "bold"
      }
     },
     "135e8043b623415898eab49bc7cb7dd1": {
      "model_module": "@jupyter-widgets/controls",
      "model_module_version": "1.5.0",
      "model_name": "HBoxModel",
      "state": {
       "children": [
        "IPY_MODEL_590b27001e834f25b0bc783c9cb32d91",
        "IPY_MODEL_5723ece140574f00bf963402fbcb05b2",
        "IPY_MODEL_5099b0aacf204b5d80ee356e2b2dbd1b",
        "IPY_MODEL_c9013eb3eb4f4d969585bf17a0bee85b",
        "IPY_MODEL_5d9ca357117c400797916403040d0410",
        "IPY_MODEL_4e1e7982a69f4087866b8e29810c0f73",
        "IPY_MODEL_427b65949d4d4a79b23832e3cc892fcb"
       ],
       "layout": "IPY_MODEL_3756c63829cd41f2a3f2e47ffba69389"
      }
     },
     "13c298587b144fb38cb75b3fe87828b2": {
      "model_module": "@jupyter-widgets/output",
      "model_module_version": "1.0.0",
      "model_name": "OutputModel",
      "state": {
       "layout": "IPY_MODEL_9a445cff6b0f47baa2decaab2f64cb9c"
      }
     },
     "14d4c2dcf6e54a7cbdbfd09e5df9857f": {
      "model_module": "@jupyter-widgets/controls",
      "model_module_version": "1.5.0",
      "model_name": "DescriptionStyleModel",
      "state": {
       "description_width": ""
      }
     },
     "14f7614181bb413f9c52333633a10926": {
      "model_module": "@jupyter-widgets/base",
      "model_module_version": "1.2.0",
      "model_name": "LayoutModel",
      "state": {}
     },
     "1507c53ec1924bedb79627ab01c41589": {
      "model_module": "@jupyter-widgets/base",
      "model_module_version": "1.2.0",
      "model_name": "LayoutModel",
      "state": {}
     },
     "151d7e8f6acf4af5be274126a0116fa1": {
      "model_module": "@jupyter-widgets/controls",
      "model_module_version": "1.5.0",
      "model_name": "DescriptionStyleModel",
      "state": {
       "description_width": ""
      }
     },
     "154af8893d1944f1923cb4a2b3959b11": {
      "model_module": "@jupyter-widgets/controls",
      "model_module_version": "1.5.0",
      "model_name": "ButtonModel",
      "state": {
       "icon": "question-circle",
       "layout": "IPY_MODEL_c0830acf12054064bfca5374caaf3bb5",
       "style": "IPY_MODEL_87746f28e86b42fbb796f331a03d7a8a",
       "tooltip": "describes the functionality of elements in the RunApp interface"
      }
     },
     "15609a3c61a94adf94a339b19735bd7b": {
      "model_module": "@jupyter-widgets/controls",
      "model_module_version": "1.5.0",
      "model_name": "ButtonStyleModel",
      "state": {
       "font_weight": "bold"
      }
     },
     "15b08d90cc65478596b8ef6d50fb3810": {
      "model_module": "@jupyter-widgets/base",
      "model_module_version": "1.2.0",
      "model_name": "LayoutModel",
      "state": {
       "height": "30px",
       "max_width": "30px",
       "padding": "3px"
      }
     },
     "15d8a8b54b2043fdb9f3c86dec642647": {
      "model_module": "@jupyter-widgets/controls",
      "model_module_version": "1.5.0",
      "model_name": "AccordionModel",
      "state": {
       "_titles": {
        "0": "eplus_pipework_params"
       },
       "children": [
        "IPY_MODEL_d3f5c6c276f14289bcbd6ae134102b13"
       ],
       "layout": "IPY_MODEL_fa17135b38b14525946e29de110e523c",
       "selected_index": null
      }
     },
     "15e526cd979841dd8eb1b14016a192cf": {
      "model_module": "@jupyter-widgets/controls",
      "model_module_version": "1.5.0",
      "model_name": "ButtonStyleModel",
      "state": {
       "font_weight": "bold"
      }
     },
     "1645cbf3c6904bdaa851bb1f3b4b89c4": {
      "model_module": "@jupyter-widgets/controls",
      "model_module_version": "1.5.0",
      "model_name": "ButtonModel",
      "state": {
       "button_style": "info",
       "description": "show source code",
       "layout": "IPY_MODEL_c8bd9a039ea94c4cbf9e9fa9ca0bd615",
       "style": "IPY_MODEL_837d47ac5b8e4a8aaf266a95d240ad54",
       "tooltip": "shows the raw python code in the preview window below"
      }
     },
     "169015a9433749c49b366f833a3aa656": {
      "model_module": "@jupyter-widgets/controls",
      "model_module_version": "1.5.0",
      "model_name": "ButtonStyleModel",
      "state": {
       "font_weight": "bold"
      }
     },
     "17099540e7e843a692ccee4d66dd7ea5": {
      "model_module": "@jupyter-widgets/controls",
      "model_module_version": "1.5.0",
      "model_name": "CheckboxModel",
      "state": {
       "disabled": false,
       "indent": false,
       "layout": "IPY_MODEL_e458f971a1694453bb28b22a71b8e227",
       "style": "IPY_MODEL_7d2413fdbb704bbf8909b028efb8a172",
       "value": true
      }
     },
     "17363f98ff3a45ce85b29c4337f7b5b9": {
      "model_module": "@jupyter-widgets/controls",
      "model_module_version": "1.5.0",
      "model_name": "DescriptionStyleModel",
      "state": {
       "description_width": ""
      }
     },
     "1744dbf6b8b64073bdb9b9d8d5b6bdf4": {
      "model_module": "@jupyter-widgets/base",
      "model_module_version": "1.2.0",
      "model_name": "LayoutModel",
      "state": {
       "border": "0px",
       "margin": "0px",
       "padding": "0px"
      }
     },
     "17613e21216b44e895251e89c3433374": {
      "model_module": "@jupyter-widgets/controls",
      "model_module_version": "1.5.0",
      "model_name": "ButtonModel",
      "state": {
       "button_style": "info",
       "description": "show log",
       "layout": "IPY_MODEL_3d0c5a54a0e644948fa17aa413fd3ecf",
       "style": "IPY_MODEL_902843ef7f36478c911bd0a9dfe12530",
       "tooltip": "show a log of when the script was executed to generate the outputs, and by who"
      }
     },
     "17bf7ef6d1be46a7a5d6202765e1c069": {
      "model_module": "@jupyter-widgets/base",
      "model_module_version": "1.2.0",
      "model_name": "LayoutModel",
      "state": {
       "height": "30px",
       "width": "auto"
      }
     },
     "17f9b9aebdf64eeead0d620db035460d": {
      "model_module": "@jupyter-widgets/base",
      "model_module_version": "1.2.0",
      "model_name": "LayoutModel",
      "state": {
       "align_items": "stretch",
       "width": "100%"
      }
     },
     "18198827792b4a2d9173cb65a4f13a20": {
      "model_module": "@jupyter-widgets/controls",
      "model_module_version": "1.5.0",
      "model_name": "ButtonModel",
      "state": {
       "button_style": "success",
       "description": "run batch",
       "layout": "IPY_MODEL_81c94bc90a714743a6570e6b30fc8b4b",
       "style": "IPY_MODEL_76246a2d78334faa8f4e43ba65887e15",
       "tooltip": "execute checked processes below"
      }
     },
     "181f18fcfb7a4bdfa066bf26bfce3139": {
      "model_module": "@jupyter-widgets/base",
      "model_module_version": "1.2.0",
      "model_name": "LayoutModel",
      "state": {
       "height": "30px",
       "max_width": "30px",
       "padding": "3px"
      }
     },
     "18312eeeb20c458696b6545963293951": {
      "model_module": "@jupyter-widgets/base",
      "model_module_version": "1.2.0",
      "model_name": "LayoutModel",
      "state": {}
     },
     "18706403f36842c9b6d39340d0cdaae3": {
      "model_module": "ipysheet",
      "model_module_version": "~0.4.4",
      "model_name": "SheetModel",
      "state": {
       "cells": [
        "IPY_MODEL_e998538e8fa54943a71304e37cc68e84",
        "IPY_MODEL_44e3d673492a42cc9e6d27ccd0ad990a",
        "IPY_MODEL_285e9b929eaa4cf0a27f8570fd61346c",
        "IPY_MODEL_e33279ee630849e4adce4f26bc2b64a7"
       ],
       "column_headers": [
        "index",
        "input/output?",
        "value",
        "description"
       ],
       "layout": "IPY_MODEL_9432c355cbad4921a06cfb73160a19dd",
       "row_headers": [
        "0",
        "1"
       ],
       "rows": 2
      }
     },
     "1947432c45824b34814cf5a89b00f19b": {
      "model_module": "@jupyter-widgets/controls",
      "model_module_version": "1.5.0",
      "model_name": "DescriptionStyleModel",
      "state": {
       "description_width": ""
      }
     },
     "1980b21226f848349d29d6afa27ae905": {
      "model_module": "@jupyter-widgets/base",
      "model_module_version": "1.2.0",
      "model_name": "LayoutModel",
      "state": {
       "border": "0px",
       "margin": "0px",
       "padding": "0px"
      }
     },
     "19aae00b5ee842a194e1980d1b0b9633": {
      "model_module": "@jupyter-widgets/controls",
      "model_module_version": "1.5.0",
      "model_name": "ButtonModel",
      "state": {
       "button_style": "info",
       "description": "preview outputs",
       "layout": "IPY_MODEL_613c09fc6b9241c6a4fe358781984475",
       "style": "IPY_MODEL_bfcee5d58c22429eb25079300e0220fe",
       "tooltip": "show a preview of the output files generated when the script runs"
      }
     },
     "19c0cf32794a4629a7a95c7834454cc6": {
      "model_module": "@jupyter-widgets/controls",
      "model_module_version": "1.5.0",
      "model_name": "ButtonModel",
      "state": {
       "icon": "eye-slash",
       "layout": "IPY_MODEL_04b3c98838674f0aacda938819c4606d",
       "style": "IPY_MODEL_bfeb48371f82488b88e33eb1b7adb69a",
       "tooltip": "removes temporary output view"
      }
     },
     "19c2f5537efb42dfa38a4db8a5e4960d": {
      "model_module": "@jupyter-widgets/controls",
      "model_module_version": "1.5.0",
      "model_name": "ButtonModel",
      "state": {
       "button_style": "info",
       "description": "preview outputs",
       "layout": "IPY_MODEL_dffe03a35786417e81c21d41550db641",
       "style": "IPY_MODEL_3ad068427bf24b0197ff1de2b561e028",
       "tooltip": "show a preview of the output files generated when the script runs"
      }
     },
     "1a6a169c51234e739ffe67146a3b3e5c": {
      "model_module": "@jupyter-widgets/controls",
      "model_module_version": "1.5.0",
      "model_name": "DescriptionStyleModel",
      "state": {
       "description_width": ""
      }
     },
     "1aca33d61f44420cb73a7b5b02e804ec": {
      "model_module": "@jupyter-widgets/base",
      "model_module_version": "1.2.0",
      "model_name": "LayoutModel",
      "state": {
       "width": "5%"
      }
     },
     "1af73bee45f147f78930fbbe976d21e5": {
      "model_module": "@jupyter-widgets/controls",
      "model_module_version": "1.5.0",
      "model_name": "CheckboxModel",
      "state": {
       "disabled": false,
       "indent": false,
       "layout": "IPY_MODEL_15b08d90cc65478596b8ef6d50fb3810",
       "style": "IPY_MODEL_fa29dedfca5047398b24763e1004cbd1",
       "value": false
      }
     },
     "1b009f2fcc434f37ae4fde8ab9b928ff": {
      "model_module": "@jupyter-widgets/controls",
      "model_module_version": "1.5.0",
      "model_name": "DescriptionStyleModel",
      "state": {
       "description_width": ""
      }
     },
     "1b0815eb5075459a84f371a8569754c2": {
      "model_module": "@jupyter-widgets/base",
      "model_module_version": "1.2.0",
      "model_name": "LayoutModel",
      "state": {}
     },
     "1b5abf8e89a74dafbc8d119d6efd315b": {
      "model_module": "@jupyter-widgets/base",
      "model_module_version": "1.2.0",
      "model_name": "LayoutModel",
      "state": {
       "align_items": "stretch",
       "width": "100%"
      }
     },
     "1b7a89d39e16499f805f59f43a23bc52": {
      "model_module": "@jupyter-widgets/controls",
      "model_module_version": "1.5.0",
      "model_name": "ButtonStyleModel",
      "state": {
       "font_weight": "bold"
      }
     },
     "1b7c8965d54b43289689b21ea8a46262": {
      "model_module": "@jupyter-widgets/base",
      "model_module_version": "1.2.0",
      "model_name": "LayoutModel",
      "state": {
       "border": "0px",
       "margin": "0px",
       "padding": "0px"
      }
     },
     "1bb9d497403e43948a90853af0950064": {
      "model_module": "@jupyter-widgets/controls",
      "model_module_version": "1.5.0",
      "model_name": "ButtonStyleModel",
      "state": {
       "font_weight": "bold"
      }
     },
     "1bc5a9cdd2ba408c9aec83e575b10226": {
      "model_module": "@jupyter-widgets/controls",
      "model_module_version": "1.5.0",
      "model_name": "TextModel",
      "state": {
       "description": "script",
       "disabled": true,
       "layout": "IPY_MODEL_6e46c2d01c6d43c791bb1051b6b436f3",
       "style": "IPY_MODEL_1a6a169c51234e739ffe67146a3b3e5c",
       "value": "C:\\engDev\\git_mf\\MF_Toolbox\\dev\\mf_scripts\\eplus_pipework_params.py"
      }
     },
     "1d1ce57cdeb9419196fdaf1fd6e759fe": {
      "model_module": "@jupyter-widgets/controls",
      "model_module_version": "1.5.0",
      "model_name": "ButtonStyleModel",
      "state": {
       "font_weight": "bold"
      }
     },
     "1d379d580f6f4e04af3b7adb13eb8a10": {
      "model_module": "@jupyter-widgets/controls",
      "model_module_version": "1.5.0",
      "model_name": "ButtonStyleModel",
      "state": {
       "font_weight": "bold"
      }
     },
     "1e1d7e91c58e45059132e66c49f0f4ca": {
      "model_module": "@jupyter-widgets/controls",
      "model_module_version": "1.5.0",
      "model_name": "ButtonModel",
      "state": {
       "button_style": "info",
       "description": "show source code",
       "layout": "IPY_MODEL_b23c14319e964405a70581258e0f9a20",
       "style": "IPY_MODEL_5a4b964062564e669265182b82aaa47f",
       "tooltip": "shows the raw python code in the preview window below"
      }
     },
     "1e7e957e520e4dd4ba21dd9324265f6c": {
      "model_module": "@jupyter-widgets/controls",
      "model_module_version": "1.5.0",
      "model_name": "ButtonModel",
      "state": {
       "icon": "question-circle",
       "layout": "IPY_MODEL_dfa48470d27741dba09e4d49aeb11a09",
       "style": "IPY_MODEL_8372614af01545df8448de615db0d8ee",
       "tooltip": "describes the functionality of elements in the RunApp interface"
      }
     },
     "1ef521d3139440e9b880947b594a17f1": {
      "model_module": "@jupyter-widgets/base",
      "model_module_version": "1.2.0",
      "model_name": "LayoutModel",
      "state": {
       "height": "30px",
       "width": "auto"
      }
     },
     "1f34effc16cc431ba25b8c9960d68fae": {
      "model_module": "@jupyter-widgets/base",
      "model_module_version": "1.2.0",
      "model_name": "LayoutModel",
      "state": {
       "align_items": "stretch",
       "width": "100%"
      }
     },
     "1f4065e783ac4a4db999d261891fdccf": {
      "model_module": "@jupyter-widgets/controls",
      "model_module_version": "1.5.0",
      "model_name": "BoxModel",
      "state": {
       "children": [
        "IPY_MODEL_135e8043b623415898eab49bc7cb7dd1"
       ],
       "layout": "IPY_MODEL_c4baf3d041684c239b61feaafaf027f1"
      }
     },
     "1f80166537714fb8a87b5339ec2842ae": {
      "model_module": "@jupyter-widgets/controls",
      "model_module_version": "1.5.0",
      "model_name": "ButtonStyleModel",
      "state": {
       "font_weight": "bold"
      }
     },
     "1ff6f822aa374fb3b44c94f50f48fa28": {
      "model_module": "@jupyter-widgets/base",
      "model_module_version": "1.2.0",
      "model_name": "LayoutModel",
      "state": {
       "align_items": "stretch",
       "width": "100%"
      }
     },
     "2096fc4b1c3f444fbe8265ad5f91ee05": {
      "model_module": "@jupyter-widgets/controls",
      "model_module_version": "1.5.0",
      "model_name": "ButtonModel",
      "state": {
       "icon": "question-circle",
       "layout": "IPY_MODEL_c7bae7ad313f4aa9b2f8942e7abebf54",
       "style": "IPY_MODEL_d28d5ce323a04ee382b6480790eeff0c",
       "tooltip": "describes the functionality of elements in the RunApp interface"
      }
     },
     "20a5b2701ee34c899edb4b49e7fec578": {
      "model_module": "@jupyter-widgets/controls",
      "model_module_version": "1.5.0",
      "model_name": "ButtonStyleModel",
      "state": {
       "font_weight": "bold"
      }
     },
     "20e24a5349a54da3b5ea8f46e186fb63": {
      "model_module": "@jupyter-widgets/controls",
      "model_module_version": "1.5.0",
      "model_name": "ButtonStyleModel",
      "state": {
       "font_weight": "bold"
      }
     },
     "21d714c8a1224bbeae887314ef862c0d": {
      "model_module": "@jupyter-widgets/controls",
      "model_module_version": "1.5.0",
      "model_name": "DescriptionStyleModel",
      "state": {
       "description_width": ""
      }
     },
     "22625a7eb0b74f088dca19eea7ddbeee": {
      "model_module": "@jupyter-widgets/controls",
      "model_module_version": "1.5.0",
      "model_name": "TextModel",
      "state": {
       "layout": "IPY_MODEL_f2818b250f8c491e8d089d90d48ff68f",
       "style": "IPY_MODEL_056029ca69bf454dbf53dd76dcc89160",
       "value": "2"
      }
     },
     "22d8e6e1fa394cfcbf9394d3a087ab12": {
      "model_module": "@jupyter-widgets/base",
      "model_module_version": "1.2.0",
      "model_name": "LayoutModel",
      "state": {
       "width": "5%"
      }
     },
     "22f8b34fed6b4027ad27cb46be70ccbf": {
      "model_module": "@jupyter-widgets/base",
      "model_module_version": "1.2.0",
      "model_name": "LayoutModel",
      "state": {
       "width": "5%"
      }
     },
     "23354bf2bf1e4982b7813d352afbc9e3": {
      "model_module": "@jupyter-widgets/controls",
      "model_module_version": "1.5.0",
      "model_name": "ButtonModel",
      "state": {
       "button_style": "success",
       "description": "run",
       "layout": "IPY_MODEL_b60349d9567d4eb8bfc8f7cb8eaee5e9",
       "style": "IPY_MODEL_29a9ebc2da7740d0b306adef60558ca7",
       "tooltip": "execute the script based on the user inputs"
      }
     },
     "235fdc903c6a41018c3a8043e7c3e4d4": {
      "model_module": "@jupyter-widgets/base",
      "model_module_version": "1.2.0",
      "model_name": "LayoutModel",
      "state": {}
     },
     "239f24c58ef94c218095975ee5898ee0": {
      "model_module": "@jupyter-widgets/controls",
      "model_module_version": "1.5.0",
      "model_name": "ButtonStyleModel",
      "state": {
       "font_weight": "bold"
      }
     },
     "24882589fd4042639d09a65996dd325a": {
      "model_module": "@jupyter-widgets/base",
      "model_module_version": "1.2.0",
      "model_name": "LayoutModel",
      "state": {
       "border": "0px",
       "margin": "0px",
       "padding": "0px"
      }
     },
     "24b31eac540e466d8ebf0016e11d9e10": {
      "model_module": "@jupyter-widgets/controls",
      "model_module_version": "1.5.0",
      "model_name": "ButtonStyleModel",
      "state": {}
     },
     "25042ad30daa454aa6331268460dd9db": {
      "model_module": "@jupyter-widgets/base",
      "model_module_version": "1.2.0",
      "model_name": "LayoutModel",
      "state": {
       "width": "5%"
      }
     },
     "252b10691ff4470382683deb46c63c30": {
      "model_module": "@jupyter-widgets/controls",
      "model_module_version": "1.5.0",
      "model_name": "ButtonStyleModel",
      "state": {
       "font_weight": "bold"
      }
     },
     "2543e62ce1364ad1a3c3605e15ad44cb": {
      "model_module": "@jupyter-widgets/controls",
      "model_module_version": "1.5.0",
      "model_name": "VBoxModel",
      "state": {
       "children": [
        "IPY_MODEL_0dca9221b573403cacb3fe213ec2c7e7"
       ],
       "layout": "IPY_MODEL_be1e54824bf94262be0d29022a04cbb7"
      }
     },
     "255a72ae61b442d8beb87b24310f5355": {
      "model_module": "@jupyter-widgets/controls",
      "model_module_version": "1.5.0",
      "model_name": "DescriptionStyleModel",
      "state": {
       "description_width": ""
      }
     },
     "261f8c6a28da4827885450a454f5b06a": {
      "model_module": "@jupyter-widgets/controls",
      "model_module_version": "1.5.0",
      "model_name": "CheckboxModel",
      "state": {
       "disabled": false,
       "indent": false,
       "layout": "IPY_MODEL_05077cd4374f4561b4fbb52f29c3d268",
       "style": "IPY_MODEL_acc99f5841b34b8aadcd9280b8f21021",
       "value": false
      }
     },
     "26ace0b64b254abd9fdd60dd84042292": {
      "model_module": "@jupyter-widgets/controls",
      "model_module_version": "1.5.0",
      "model_name": "ButtonModel",
      "state": {
       "icon": "eye-slash",
       "layout": "IPY_MODEL_44771ae959a54adb929af444f1c5fe40",
       "style": "IPY_MODEL_732bc26e56c44a338b4d4744db566692",
       "tooltip": "removes temporary output view"
      }
     },
     "27a2a228e0e543a48048a8bac9a54f01": {
      "model_module": "@jupyter-widgets/controls",
      "model_module_version": "1.5.0",
      "model_name": "VBoxModel",
      "state": {
       "children": [
        "IPY_MODEL_e4f6215cf87649edb8ca42b5694057fe",
        "IPY_MODEL_93a1f15164f64f1eaada6bdd39aa1181"
       ],
       "layout": "IPY_MODEL_98853b1639eb4a54a7a25c679e1d3cec"
      }
     },
     "27ed1ea9f5994553bd119444b566f8fc": {
      "model_module": "@jupyter-widgets/controls",
      "model_module_version": "1.5.0",
      "model_name": "ButtonStyleModel",
      "state": {
       "font_weight": "bold"
      }
     },
     "285e9b929eaa4cf0a27f8570fd61346c": {
      "model_module": "ipysheet",
      "model_module_version": "~0.4.4",
      "model_name": "CellRangeModel",
      "state": {
       "_view_module": null,
       "_view_module_version": "",
       "choice": [],
       "column_end": 2,
       "column_start": 2,
       "numeric_format": null,
       "row_start": 0,
       "squeeze_row": false,
       "type": "text",
       "value": [
        "nan",
        "C:\\\\engDev\\\\git_extrnl\\\\EnergyPlus-develop\\\\EnergyPlus-develop\\\\src\\\\EnergyPlus\\\\PipeHeatTransfer.hh"
       ]
      }
     },
     "286e47df35ad482e9ad6fe28423ec251": {
      "model_module": "@jupyter-widgets/base",
      "model_module_version": "1.2.0",
      "model_name": "LayoutModel",
      "state": {
       "align_items": "stretch",
       "width": "100%"
      }
     },
     "288d3f86e9a2498fbe51085a346ca34a": {
      "model_module": "@jupyter-widgets/controls",
      "model_module_version": "1.5.0",
      "model_name": "ButtonModel",
      "state": {
       "button_style": "success",
       "description": "run",
       "layout": "IPY_MODEL_db8ee621018b4c06af817c969cfbb5d6",
       "style": "IPY_MODEL_3b9be724c5a94851a94f5aea3e5e74fb",
       "tooltip": "execute the script based on the user inputs"
      }
     },
     "28ac7988ce144d71b16bc0c7cbdd0b9a": {
      "model_module": "@jupyter-widgets/controls",
      "model_module_version": "1.5.0",
      "model_name": "ButtonModel",
      "state": {
       "button_style": "info",
       "description": "show guide",
       "layout": "IPY_MODEL_fc7b40d536384a4e892af96a76906d49",
       "style": "IPY_MODEL_9115f829952a4f2e8a83c33b5b94a642",
       "tooltip": "read the \"docstring\", ie. the documentation that was written to accompany the script"
      }
     },
     "28dd036f46bf4943ac2edb3feb21e8d1": {
      "model_module": "@jupyter-widgets/base",
      "model_module_version": "1.2.0",
      "model_name": "LayoutModel",
      "state": {
       "width": "100%"
      }
     },
     "2924dabd84ad428d813f35aa5bf4061a": {
      "model_module": "@jupyter-widgets/controls",
      "model_module_version": "1.5.0",
      "model_name": "ButtonStyleModel",
      "state": {
       "font_weight": "bold"
      }
     },
     "292f91909de44efa963d634213a51396": {
      "model_module": "@jupyter-widgets/base",
      "model_module_version": "1.2.0",
      "model_name": "LayoutModel",
      "state": {}
     },
     "2933e2926f454f118f9ee26df324a9d2": {
      "model_module": "@jupyter-widgets/output",
      "model_module_version": "1.0.0",
      "model_name": "OutputModel",
      "state": {
       "layout": "IPY_MODEL_f8a7bebf6f9e4f659f599b9a544b835c"
      }
     },
     "29a9ebc2da7740d0b306adef60558ca7": {
      "model_module": "@jupyter-widgets/controls",
      "model_module_version": "1.5.0",
      "model_name": "ButtonStyleModel",
      "state": {
       "font_weight": "bold"
      }
     },
     "2a39bbd2dff041a6817f4f244beb0ca0": {
      "model_module": "@jupyter-widgets/base",
      "model_module_version": "1.2.0",
      "model_name": "LayoutModel",
      "state": {
       "width": "5%"
      }
     },
     "2a620f3e86284705b1577f36611d5869": {
      "model_module": "@jupyter-widgets/controls",
      "model_module_version": "1.5.0",
      "model_name": "ButtonModel",
      "state": {
       "button_style": "info",
       "description": "show log",
       "layout": "IPY_MODEL_c3677230019b4d8ca1dd11d3ee0370bf",
       "style": "IPY_MODEL_be033379e89b4d79aa6d01cd123de14e",
       "tooltip": "show a log of when the script was executed to generate the outputs, and by who"
      }
     },
     "2a6b4f3e613842c7b8089a86662f226a": {
      "model_module": "@jupyter-widgets/controls",
      "model_module_version": "1.5.0",
      "model_name": "ButtonStyleModel",
      "state": {
       "font_weight": "bold"
      }
     },
     "2ab5c716bfb34ada8722efbf1e90497f": {
      "model_module": "@jupyter-widgets/base",
      "model_module_version": "1.2.0",
      "model_name": "LayoutModel",
      "state": {
       "height": "30px",
       "width": "auto"
      }
     },
     "2ac9dbb6b36c4937a7e60a9c90574d39": {
      "model_module": "@jupyter-widgets/controls",
      "model_module_version": "1.5.0",
      "model_name": "TextModel",
      "state": {
       "description": "script",
       "disabled": true,
       "layout": "IPY_MODEL_17bf7ef6d1be46a7a5d6202765e1c069",
       "style": "IPY_MODEL_7928a977a11d45188c8960f5624ad115",
       "value": "C:\\engDev\\git_mf\\MF_Toolbox\\dev\\mf_scripts\\eplus_pipework_params.py"
      }
     },
     "2acdde422613468fab8c29e5712bc394": {
      "model_module": "@jupyter-widgets/base",
      "model_module_version": "1.2.0",
      "model_name": "LayoutModel",
      "state": {}
     },
     "2b05474f4e9b4d9bbed1d687929a6829": {
      "model_module": "@jupyter-widgets/base",
      "model_module_version": "1.2.0",
      "model_name": "LayoutModel",
      "state": {
       "align_items": "stretch",
       "width": "100%"
      }
     },
     "2b16cc75dc08438da0200adf86c8de05": {
      "model_module": "@jupyter-widgets/controls",
      "model_module_version": "1.5.0",
      "model_name": "ButtonStyleModel",
      "state": {}
     },
     "2b4b18c7637d4dfdbdeec6b24796a317": {
      "model_module": "@jupyter-widgets/base",
      "model_module_version": "1.2.0",
      "model_name": "LayoutModel",
      "state": {}
     },
     "2b4f1b7593174dacb45f1d8ffb223db4": {
      "model_module": "@jupyter-widgets/controls",
      "model_module_version": "1.5.0",
      "model_name": "ButtonModel",
      "state": {
       "button_style": "warning",
       "description": "revert to last save",
       "layout": "IPY_MODEL_88b1ef6eafd04154b353930efc4927c1",
       "style": "IPY_MODEL_ee7f4650b7ba4bd8b8dcd3a288158ddb"
      }
     },
     "2b9b4887ec0d474c9dbd2930a74fc94b": {
      "model_module": "@jupyter-widgets/controls",
      "model_module_version": "1.5.0",
      "model_name": "TextModel",
      "state": {
       "description": "script",
       "disabled": true,
       "layout": "IPY_MODEL_bfaa7f52f5a248f6bb671f4cd6c42a51",
       "style": "IPY_MODEL_efbedb05582c4fdab504394b32c7fb78",
       "value": "C:\\engDev\\git_mf\\MF_Toolbox\\dev\\mf_scripts\\eplus_pipework_params.py"
      }
     },
     "2c081a71d9e64d3db4faca97c64e690d": {
      "model_module": "@jupyter-widgets/base",
      "model_module_version": "1.2.0",
      "model_name": "LayoutModel",
      "state": {
       "height": "30px",
       "width": "auto"
      }
     },
     "2c18ecdcec81437a8240f4ad0b0c00ca": {
      "model_module": "@jupyter-widgets/controls",
      "model_module_version": "1.5.0",
      "model_name": "SelectMultipleModel",
      "state": {
       "_options_labels": [
        "C:\\engDev\\git_mf\\ipyrun\\reports\\JupyterReportDemo.pdf"
       ],
       "description": "outputs",
       "index": [],
       "layout": "IPY_MODEL_5ed82caa51d94b308e6c53f554456be9",
       "rows": 4,
       "style": "IPY_MODEL_3e514b28c1794c00b2694d282d8c6f68"
      }
     },
     "2c4354e255b74ba381bd2c87d5e93bea": {
      "model_module": "@jupyter-widgets/controls",
      "model_module_version": "1.5.0",
      "model_name": "ButtonModel",
      "state": {
       "button_style": "success",
       "description": "run",
       "layout": "IPY_MODEL_88d061753d6c473baa4e73697ce86a9f",
       "style": "IPY_MODEL_e8c9554f51a6459bad74cf6eaf903137",
       "tooltip": "execute the script based on the user inputs"
      }
     },
     "2cbee40c63174f8297fc8f4c85fff42f": {
      "model_module": "@jupyter-widgets/base",
      "model_module_version": "1.2.0",
      "model_name": "LayoutModel",
      "state": {}
     },
     "2cccc5f095b346eeb4f9568970fed241": {
      "model_module": "@jupyter-widgets/controls",
      "model_module_version": "1.5.0",
      "model_name": "DescriptionStyleModel",
      "state": {
       "description_width": ""
      }
     },
     "2ce5063a724e45359e5673f570c8d47d": {
      "model_module": "@jupyter-widgets/base",
      "model_module_version": "1.2.0",
      "model_name": "LayoutModel",
      "state": {
       "width": "100%"
      }
     },
     "2cfa486a884d4b5497276f312505e016": {
      "model_module": "@jupyter-widgets/base",
      "model_module_version": "1.2.0",
      "model_name": "LayoutModel",
      "state": {
       "align_items": "stretch",
       "width": "100%"
      }
     },
     "2d6416c09b99403692ceb145d676c860": {
      "model_module": "@jupyter-widgets/base",
      "model_module_version": "1.2.0",
      "model_name": "LayoutModel",
      "state": {
       "height": "30px",
       "width": "auto"
      }
     },
     "2d65aa427a8e4185894496e77a63460e": {
      "model_module": "@jupyter-widgets/controls",
      "model_module_version": "1.5.0",
      "model_name": "ButtonStyleModel",
      "state": {
       "font_weight": "bold"
      }
     },
     "2dd5f6fad4ff4cabb84b492649f89f1b": {
      "model_module": "@jupyter-widgets/base",
      "model_module_version": "1.2.0",
      "model_name": "LayoutModel",
      "state": {}
     },
     "2df96909126644639b2a4b1fff87679e": {
      "model_module": "@jupyter-widgets/controls",
      "model_module_version": "1.5.0",
      "model_name": "ButtonModel",
      "state": {
       "icon": "eye-slash",
       "layout": "IPY_MODEL_3ebf6619442447c5a00f7d405cd78b16",
       "style": "IPY_MODEL_38c8e49b4085413a9da2cd6739533cd0",
       "tooltip": "removes temporary output view"
      }
     },
     "2ee8859e2ca040d1910b31b2af4a2afb": {
      "model_module": "@jupyter-widgets/controls",
      "model_module_version": "1.5.0",
      "model_name": "ButtonModel",
      "state": {
       "button_style": "info",
       "description": "show source code",
       "layout": "IPY_MODEL_10ecf972fd024c088b97f3e022ba1cf6",
       "style": "IPY_MODEL_06d7229122e9401bb581a29f1143559a",
       "tooltip": "shows the raw python code in the preview window below"
      }
     },
     "2f060c7314d64c38a36bfbebce5179af": {
      "model_module": "@jupyter-widgets/controls",
      "model_module_version": "1.5.0",
      "model_name": "TextModel",
      "state": {
       "description": "script",
       "disabled": true,
       "layout": "IPY_MODEL_dd615348355944a2b8a2f4a2c47bffc9",
       "style": "IPY_MODEL_e247d1a1d1034d64bca64753a28028da",
       "value": "C:\\engDev\\git_mf\\MF_Toolbox\\dev\\mf_scripts\\eplus_pipework_params.py"
      }
     },
     "2f99c059007c48688347061f50533616": {
      "model_module": "@jupyter-widgets/controls",
      "model_module_version": "1.5.0",
      "model_name": "DescriptionStyleModel",
      "state": {
       "description_width": ""
      }
     },
     "30c69b157d464b5f9b9dda4cb70f32b1": {
      "model_module": "@jupyter-widgets/base",
      "model_module_version": "1.2.0",
      "model_name": "LayoutModel",
      "state": {}
     },
     "3100b2c9b18945698e741f6a5428fb8d": {
      "model_module": "@jupyter-widgets/controls",
      "model_module_version": "1.5.0",
      "model_name": "DescriptionStyleModel",
      "state": {
       "description_width": ""
      }
     },
     "312d33ad964e450d8bb23df0854fae41": {
      "model_module": "@jupyter-widgets/base",
      "model_module_version": "1.2.0",
      "model_name": "LayoutModel",
      "state": {
       "align_items": "stretch",
       "width": "100%"
      }
     },
     "31674acb86c64aea91552dba938dfe46": {
      "model_module": "@jupyter-widgets/controls",
      "model_module_version": "1.5.0",
      "model_name": "ButtonModel",
      "state": {
       "button_style": "success",
       "description": "run",
       "layout": "IPY_MODEL_53b024276b4b4660a20cf80d00303507",
       "style": "IPY_MODEL_667963117a7145779183e829441a7dd4",
       "tooltip": "execute the script based on the user inputs"
      }
     },
     "3171e7cdbbc746129c45bd06c82fafb6": {
      "model_module": "@jupyter-widgets/base",
      "model_module_version": "1.2.0",
      "model_name": "LayoutModel",
      "state": {
       "border": "0px",
       "margin": "0px",
       "padding": "0px"
      }
     },
     "31b87f13e1fb489cbc1c2bf1c6b768b3": {
      "model_module": "@jupyter-widgets/controls",
      "model_module_version": "1.5.0",
      "model_name": "CheckboxModel",
      "state": {
       "disabled": false,
       "indent": false,
       "layout": "IPY_MODEL_539abde73f4845ccb5ca2b0a21c96be2",
       "style": "IPY_MODEL_21d714c8a1224bbeae887314ef862c0d",
       "value": false
      }
     },
     "31f5635b3c134fbd9e96b49dac971d34": {
      "model_module": "@jupyter-widgets/base",
      "model_module_version": "1.2.0",
      "model_name": "LayoutModel",
      "state": {
       "width": "5%"
      }
     },
     "328b2937a2c34ed6a8f8936e479ad950": {
      "model_module": "@jupyter-widgets/base",
      "model_module_version": "1.2.0",
      "model_name": "LayoutModel",
      "state": {}
     },
     "32f0173c41304c5689261bc0f6e351a6": {
      "model_module": "@jupyter-widgets/controls",
      "model_module_version": "1.5.0",
      "model_name": "HBoxModel",
      "state": {
       "children": [
        "IPY_MODEL_26ace0b64b254abd9fdd60dd84042292",
        "IPY_MODEL_8e9e65a879b947e196623dcea4c3b412",
        "IPY_MODEL_7245b21042b2409f8f1de2e5132a7049",
        "IPY_MODEL_7ad02ede5bf24e979ed721039bbdb98e",
        "IPY_MODEL_31674acb86c64aea91552dba938dfe46",
        "IPY_MODEL_4036ad28eca946b9a8fe9f8d80e77f41",
        "IPY_MODEL_0a873676efa04bbeb619699d26d7eb4e"
       ],
       "layout": "IPY_MODEL_074533311add42219767983ea35b2d48"
      }
     },
     "33652d528e6d46b0b758a389c9194e67": {
      "model_module": "@jupyter-widgets/base",
      "model_module_version": "1.2.0",
      "model_name": "LayoutModel",
      "state": {
       "width": "5%"
      }
     },
     "33b1485bb1f9404eb0af78c5b6798e4a": {
      "model_module": "@jupyter-widgets/controls",
      "model_module_version": "1.5.0",
      "model_name": "ButtonStyleModel",
      "state": {
       "font_weight": "bold"
      }
     },
     "33b5c0af8e854e3aad1ed8e7d396b87a": {
      "model_module": "@jupyter-widgets/controls",
      "model_module_version": "1.5.0",
      "model_name": "HBoxModel",
      "state": {
       "children": [
        "IPY_MODEL_19c0cf32794a4629a7a95c7834454cc6",
        "IPY_MODEL_879d963fbc47434892feda931cef599e",
        "IPY_MODEL_585264a2330a481f91004d6dc57efbda",
        "IPY_MODEL_c1e430f131f846cbbe09ef41a06da14b",
        "IPY_MODEL_af1104a9e9a8492da0fb01c15442c9ff",
        "IPY_MODEL_19aae00b5ee842a194e1980d1b0b9633",
        "IPY_MODEL_0bfd51d3eff145d3a3da2420afee62c7"
       ],
       "layout": "IPY_MODEL_50fcf94b11cc4e8184dee49498de2309"
      }
     },
     "34945b24423f409dbd7ad3d22bfee14f": {
      "model_module": "@jupyter-widgets/controls",
      "model_module_version": "1.5.0",
      "model_name": "ButtonModel",
      "state": {
       "icon": "question-circle",
       "layout": "IPY_MODEL_48a523a8a498459791381eb1c70ab7d2",
       "style": "IPY_MODEL_15609a3c61a94adf94a339b19735bd7b",
       "tooltip": "describes the functionality of elements in the RunApp interface"
      }
     },
     "34a1a1d3ad9648b589ce4500105c961f": {
      "model_module": "@jupyter-widgets/controls",
      "model_module_version": "1.5.0",
      "model_name": "VBoxModel",
      "state": {
       "children": [
        "IPY_MODEL_971cd03a100a47c6b24d135be8c0ce7b",
        "IPY_MODEL_450df647638e40b4b3bd7acc66de0010",
        "IPY_MODEL_4d8b66b1d1594143b4996c32eb6cdebe"
       ],
       "layout": "IPY_MODEL_a30ce6ff133a46dfa8dbc8110be85d30"
      }
     },
     "35425c2f164b44a083dbd37d693aab13": {
      "model_module": "@jupyter-widgets/base",
      "model_module_version": "1.2.0",
      "model_name": "LayoutModel",
      "state": {}
     },
     "3544c90a64104a8f8c2f31e3e43b4a8d": {
      "model_module": "@jupyter-widgets/controls",
      "model_module_version": "1.5.0",
      "model_name": "BoxModel",
      "state": {
       "children": [
        "IPY_MODEL_b92f5b8bd0ea4e438d9694748920a3c3"
       ],
       "layout": "IPY_MODEL_8f0ff5ff3d094b5d95868a6afe2cf927"
      }
     },
     "3605e1a7a6cb448897c942eaa916d2b2": {
      "model_module": "@jupyter-widgets/controls",
      "model_module_version": "1.5.0",
      "model_name": "CheckboxModel",
      "state": {
       "disabled": false,
       "indent": false,
       "layout": "IPY_MODEL_f3827833120b4cc39a21cd7b2296bfad",
       "style": "IPY_MODEL_d147fb9a28b74031b77589deed19f07d",
       "value": true
      }
     },
     "36c9a00d4eea43d88904d2571217987d": {
      "model_module": "@jupyter-widgets/controls",
      "model_module_version": "1.5.0",
      "model_name": "ButtonModel",
      "state": {
       "button_style": "success",
       "description": "run",
       "layout": "IPY_MODEL_b98e34c5ac1a47c4b7cdffd9d5e39f7c",
       "style": "IPY_MODEL_015e2ce64b5948a686b55e9729665cb4",
       "tooltip": "execute the script based on the user inputs"
      }
     },
     "36eacf113b7d4290831201150f651efd": {
      "model_module": "@jupyter-widgets/controls",
      "model_module_version": "1.5.0",
      "model_name": "ButtonStyleModel",
      "state": {
       "font_weight": "bold"
      }
     },
     "3724d6c5656f4083837249fc2c42e144": {
      "model_module": "@jupyter-widgets/base",
      "model_module_version": "1.2.0",
      "model_name": "LayoutModel",
      "state": {
       "width": "100%"
      }
     },
     "3756c63829cd41f2a3f2e47ffba69389": {
      "model_module": "@jupyter-widgets/base",
      "model_module_version": "1.2.0",
      "model_name": "LayoutModel",
      "state": {
       "align_items": "stretch",
       "width": "100%"
      }
     },
     "375f5a6509c64f5bae4de508e68b57ae": {
      "model_module": "@jupyter-widgets/base",
      "model_module_version": "1.2.0",
      "model_name": "LayoutModel",
      "state": {
       "align_items": "stretch",
       "width": "100%"
      }
     },
     "37e6e2a3c7204158b3bc0a9b42df556a": {
      "model_module": "@jupyter-widgets/controls",
      "model_module_version": "1.5.0",
      "model_name": "DescriptionStyleModel",
      "state": {
       "description_width": ""
      }
     },
     "38047ed4bbc047eb85ba8c10823c1216": {
      "model_module": "@jupyter-widgets/base",
      "model_module_version": "1.2.0",
      "model_name": "LayoutModel",
      "state": {
       "height": "30px",
       "width": "auto"
      }
     },
     "3826aef66f0645bf9170f4e98df19821": {
      "model_module": "@jupyter-widgets/controls",
      "model_module_version": "1.5.0",
      "model_name": "ButtonModel",
      "state": {
       "icon": "eye-slash",
       "layout": "IPY_MODEL_25042ad30daa454aa6331268460dd9db",
       "style": "IPY_MODEL_f5a2d8155cd74373bc2f1b6ba2c553c6",
       "tooltip": "removes temporary output view"
      }
     },
     "38347313ebd74c4d8881428fbb26d76f": {
      "model_module": "@jupyter-widgets/controls",
      "model_module_version": "1.5.0",
      "model_name": "DescriptionStyleModel",
      "state": {
       "description_width": ""
      }
     },
     "38c8e49b4085413a9da2cd6739533cd0": {
      "model_module": "@jupyter-widgets/controls",
      "model_module_version": "1.5.0",
      "model_name": "ButtonStyleModel",
      "state": {
       "font_weight": "bold"
      }
     },
     "39af23d0182c48319f9214e33487fc65": {
      "model_module": "@jupyter-widgets/base",
      "model_module_version": "1.2.0",
      "model_name": "LayoutModel",
      "state": {}
     },
     "39b83e94ffa7410c873e6e620f0669ee": {
      "model_module": "@jupyter-widgets/controls",
      "model_module_version": "1.5.0",
      "model_name": "TextModel",
      "state": {
       "description": "inputs",
       "disabled": true,
       "layout": "IPY_MODEL_2ab5c716bfb34ada8722efbf1e90497f",
       "style": "IPY_MODEL_e06a4caf4cc84cf68407f92d2a3789a5",
       "value": "C:\\engDev\\git_mf\\ipyrun\\ipyrun\\appdata\\inputs\\inputs-docx_to_pdf.json"
      }
     },
     "39f4e79c8fdb4467817e8fa96b2d8afe": {
      "model_module": "@jupyter-widgets/base",
      "model_module_version": "1.2.0",
      "model_name": "LayoutModel",
      "state": {
       "width": "100%"
      }
     },
     "3a5b628c104c4961a59c86c190b0878f": {
      "model_module": "@jupyter-widgets/controls",
      "model_module_version": "1.5.0",
      "model_name": "ButtonStyleModel",
      "state": {
       "font_weight": "bold"
      }
     },
     "3a8fedcf3dd64fd5a3719618d85721fe": {
      "model_module": "@jupyter-widgets/controls",
      "model_module_version": "1.5.0",
      "model_name": "BoxModel",
      "state": {
       "children": [
        "IPY_MODEL_5d47eecfdf7e48739f8c673da068e2d2"
       ],
       "layout": "IPY_MODEL_757e21b2cb3e4dff8b1fba974cb044dc"
      }
     },
     "3ad068427bf24b0197ff1de2b561e028": {
      "model_module": "@jupyter-widgets/controls",
      "model_module_version": "1.5.0",
      "model_name": "ButtonStyleModel",
      "state": {
       "font_weight": "bold"
      }
     },
     "3ae7eae16e01476b823ba993072d7d0d": {
      "model_module": "@jupyter-widgets/controls",
      "model_module_version": "1.5.0",
      "model_name": "TextModel",
      "state": {
       "description": "inputs",
       "disabled": true,
       "layout": "IPY_MODEL_2d6416c09b99403692ceb145d676c860",
       "style": "IPY_MODEL_2cccc5f095b346eeb4f9568970fed241",
       "value": "C:\\engDev\\git_mf\\ipyrun\\ipyrun\\appdata\\inputs\\inputs-docx_to_pdf.json"
      }
     },
     "3b2266c9e92146e1a6be795486217ad4": {
      "model_module": "@jupyter-widgets/base",
      "model_module_version": "1.2.0",
      "model_name": "LayoutModel",
      "state": {
       "width": "100%"
      }
     },
     "3b3ce550e2b04684ac1e1cb1b12cf21a": {
      "model_module": "@jupyter-widgets/controls",
      "model_module_version": "1.5.0",
      "model_name": "ButtonModel",
      "state": {
       "icon": "question-circle",
       "layout": "IPY_MODEL_67bb743526634763a85fbe84335a17b6",
       "style": "IPY_MODEL_509ac73c07644dc2bc725c69a5a0d79c",
       "tooltip": "describes the functionality of elements in the RunApp interface"
      }
     },
     "3b806a00a01642898b742601345506e2": {
      "model_module": "@jupyter-widgets/base",
      "model_module_version": "1.2.0",
      "model_name": "LayoutModel",
      "state": {
       "display": "flex",
       "flex_flow": "row",
       "grid_auto_columns": "False",
       "justify_content": "flex-start",
       "width": "100%"
      }
     },
     "3b9be724c5a94851a94f5aea3e5e74fb": {
      "model_module": "@jupyter-widgets/controls",
      "model_module_version": "1.5.0",
      "model_name": "ButtonStyleModel",
      "state": {
       "font_weight": "bold"
      }
     },
     "3ba17d2acf274c6fa377bbbebf8ca57c": {
      "model_module": "@jupyter-widgets/controls",
      "model_module_version": "1.5.0",
      "model_name": "HTMLModel",
      "state": {
       "layout": "IPY_MODEL_1b0815eb5075459a84f371a8569754c2",
       "style": "IPY_MODEL_755d9bf07e164530a65bfa3b65737459",
       "value": "<p>input docx filepath</p>"
      }
     },
     "3bd3a4fd84ce4b7c85754fc09d3c0050": {
      "model_module": "@jupyter-widgets/base",
      "model_module_version": "1.2.0",
      "model_name": "LayoutModel",
      "state": {
       "height": "30px",
       "width": "auto"
      }
     },
     "3c3207d61cc94511ab00c241517ff691": {
      "model_module": "@jupyter-widgets/controls",
      "model_module_version": "1.5.0",
      "model_name": "ButtonModel",
      "state": {
       "button_style": "warning",
       "description": "edit inputs",
       "layout": "IPY_MODEL_f812ac11024c4bd08a267aefc15df3a2",
       "style": "IPY_MODEL_27ed1ea9f5994553bd119444b566f8fc",
       "tooltip": "edit the user input information that is used when the script is executed"
      }
     },
     "3cd27218dcac488a9030797d4633dd1c": {
      "model_module": "@jupyter-widgets/base",
      "model_module_version": "1.2.0",
      "model_name": "LayoutModel",
      "state": {}
     },
     "3d0bdf143c344233a6468e2943df209f": {
      "model_module": "@jupyter-widgets/controls",
      "model_module_version": "1.5.0",
      "model_name": "AccordionModel",
      "state": {
       "_titles": {
        "0": "eplus_pipework_params"
       },
       "children": [
        "IPY_MODEL_ec2d057ca9b04056a39083f94de54a64"
       ],
       "layout": "IPY_MODEL_28dd036f46bf4943ac2edb3feb21e8d1",
       "selected_index": null
      }
     },
     "3d0c5a54a0e644948fa17aa413fd3ecf": {
      "model_module": "@jupyter-widgets/base",
      "model_module_version": "1.2.0",
      "model_name": "LayoutModel",
      "state": {}
     },
     "3daaa538d4864008bff53dac3b266b8d": {
      "model_module": "@jupyter-widgets/controls",
      "model_module_version": "1.5.0",
      "model_name": "TextModel",
      "state": {
       "description": "script",
       "disabled": true,
       "layout": "IPY_MODEL_3bd3a4fd84ce4b7c85754fc09d3c0050",
       "style": "IPY_MODEL_74fc265cbd634ba5959bfe5555d310c5",
       "value": "C:\\engDev\\git_mf\\MF_Toolbox\\dev\\mf_scripts\\docx_to_pdf.py"
      }
     },
     "3dbc7feebb104c57b5c4467fac99f02c": {
      "model_module": "@jupyter-widgets/controls",
      "model_module_version": "1.5.0",
      "model_name": "VBoxModel",
      "state": {
       "children": [
        "IPY_MODEL_fa56d7c3dd9e482482eec804a8e50489",
        "IPY_MODEL_2f060c7314d64c38a36bfbebce5179af",
        "IPY_MODEL_4cfb303ae2ab4c0c9643b42577323ac9"
       ],
       "layout": "IPY_MODEL_ed03fc52a766463087cdc1422b8bbee1"
      }
     },
     "3e514b28c1794c00b2694d282d8c6f68": {
      "model_module": "@jupyter-widgets/controls",
      "model_module_version": "1.5.0",
      "model_name": "DescriptionStyleModel",
      "state": {
       "description_width": ""
      }
     },
     "3ebf6619442447c5a00f7d405cd78b16": {
      "model_module": "@jupyter-widgets/base",
      "model_module_version": "1.2.0",
      "model_name": "LayoutModel",
      "state": {
       "width": "5%"
      }
     },
     "3ed9eb773d3343d0b77821130cee8f5e": {
      "model_module": "@jupyter-widgets/controls",
      "model_module_version": "1.5.0",
      "model_name": "TextModel",
      "state": {
       "description": "script",
       "disabled": true,
       "layout": "IPY_MODEL_758dce8d31f249d18355a52de563073c",
       "style": "IPY_MODEL_4715cfe79c9f40d2865187bfd3d354da",
       "value": "C:\\engDev\\git_mf\\MF_Toolbox\\dev\\mf_scripts\\eplus_pipework_params.py"
      }
     },
     "3ee7cdc93ada4c838db1fcfaf8c9fd16": {
      "model_module": "@jupyter-widgets/base",
      "model_module_version": "1.2.0",
      "model_name": "LayoutModel",
      "state": {}
     },
     "40106978eb8c4695952f64235366feb5": {
      "model_module": "@jupyter-widgets/controls",
      "model_module_version": "1.5.0",
      "model_name": "ButtonStyleModel",
      "state": {
       "font_weight": "bold"
      }
     },
     "401826ffa00b4038bf58a78e871dbe34": {
      "model_module": "@jupyter-widgets/base",
      "model_module_version": "1.2.0",
      "model_name": "LayoutModel",
      "state": {}
     },
     "402565e108aa40a580248fdb2faef0b9": {
      "model_module": "@jupyter-widgets/controls",
      "model_module_version": "1.5.0",
      "model_name": "SelectMultipleModel",
      "state": {
       "_options_labels": [
        "C:\\engDev\\git_mf\\ipyrun\\data\\external\\eplus_pipework_params.csv"
       ],
       "description": "outputs",
       "index": [],
       "layout": "IPY_MODEL_1ef521d3139440e9b880947b594a17f1",
       "rows": 4,
       "style": "IPY_MODEL_f2eccb383f7a4fa4a121f461225d4e2e"
      }
     },
     "4036ad28eca946b9a8fe9f8d80e77f41": {
      "model_module": "@jupyter-widgets/controls",
      "model_module_version": "1.5.0",
      "model_name": "ButtonModel",
      "state": {
       "button_style": "info",
       "description": "preview outputs",
       "layout": "IPY_MODEL_2b4b18c7637d4dfdbdeec6b24796a317",
       "style": "IPY_MODEL_1d379d580f6f4e04af3b7adb13eb8a10",
       "tooltip": "show a preview of the output files generated when the script runs"
      }
     },
     "4061fd10991d4f9d9c300fd14b25288d": {
      "model_module": "@jupyter-widgets/controls",
      "model_module_version": "1.5.0",
      "model_name": "HBoxModel",
      "state": {
       "children": [
        "IPY_MODEL_31b87f13e1fb489cbc1c2bf1c6b768b3",
        "IPY_MODEL_6bf962af5e45481c82705fce543bd4ea"
       ],
       "layout": "IPY_MODEL_1744dbf6b8b64073bdb9b9d8d5b6bdf4"
      }
     },
     "407fed5d93d4481782ceba3414250de3": {
      "model_module": "@jupyter-widgets/controls",
      "model_module_version": "1.5.0",
      "model_name": "ButtonStyleModel",
      "state": {
       "font_weight": "bold"
      }
     },
     "40d495a137994f038acb9e4b68099afd": {
      "model_module": "@jupyter-widgets/base",
      "model_module_version": "1.2.0",
      "model_name": "LayoutModel",
      "state": {
       "width": "5%"
      }
     },
     "40e7e27549a84b2e9ce58b5ff7ee2cc1": {
      "model_module": "@jupyter-widgets/base",
      "model_module_version": "1.2.0",
      "model_name": "LayoutModel",
      "state": {
       "border": "0px",
       "margin": "0px",
       "padding": "0px"
      }
     },
     "40eeaee5b07744c6814b94c1f1c667e7": {
      "model_module": "@jupyter-widgets/controls",
      "model_module_version": "1.5.0",
      "model_name": "BoxModel",
      "state": {
       "children": [
        "IPY_MODEL_55183c6062a6422a9a08089204c187d0"
       ],
       "layout": "IPY_MODEL_ef54ab21e9534636b1b8661bd84d1a6f"
      }
     },
     "40f87add26724d0e94f934cd318583cc": {
      "model_module": "@jupyter-widgets/controls",
      "model_module_version": "1.5.0",
      "model_name": "ButtonStyleModel",
      "state": {
       "font_weight": "bold"
      }
     },
     "41ba3eefab3d4f188bccc2e1385d5222": {
      "model_module": "@jupyter-widgets/controls",
      "model_module_version": "1.5.0",
      "model_name": "ButtonStyleModel",
      "state": {}
     },
     "41eda6ac45784084ab83f23c28d1afc4": {
      "model_module": "@jupyter-widgets/base",
      "model_module_version": "1.2.0",
      "model_name": "LayoutModel",
      "state": {}
     },
     "4271bf9166aa468e8394135713e9295b": {
      "model_module": "@jupyter-widgets/base",
      "model_module_version": "1.2.0",
      "model_name": "LayoutModel",
      "state": {
       "width": "100%"
      }
     },
     "427b65949d4d4a79b23832e3cc892fcb": {
      "model_module": "@jupyter-widgets/controls",
      "model_module_version": "1.5.0",
      "model_name": "ButtonModel",
      "state": {
       "button_style": "info",
       "description": "show log",
       "layout": "IPY_MODEL_bb36cc62931f4a3e972c539e6d8f4be3",
       "style": "IPY_MODEL_bd845789b761442eb3fa50af2e8c9d8a",
       "tooltip": "show a log of when the script was executed to generate the outputs, and by who"
      }
     },
     "4377d4aa659e427f85822f17e4ffbc82": {
      "model_module": "@jupyter-widgets/base",
      "model_module_version": "1.2.0",
      "model_name": "LayoutModel",
      "state": {}
     },
     "43ec1b40b916482c8049eada436eaf7c": {
      "model_module": "@jupyter-widgets/controls",
      "model_module_version": "1.5.0",
      "model_name": "VBoxModel",
      "state": {
       "children": [
        "IPY_MODEL_6c4b971669ea4b5c8d056a4ebdd43528",
        "IPY_MODEL_b7ece2c687714fe7830f173962421a41"
       ],
       "layout": "IPY_MODEL_11456179eb82405083533c9daac90bb6"
      }
     },
     "444e3c40b696476ba01f558d9c71b71b": {
      "model_module": "@jupyter-widgets/controls",
      "model_module_version": "1.5.0",
      "model_name": "SelectMultipleModel",
      "state": {
       "_options_labels": [
        "C:\\engDev\\git_mf\\ipyrun\\reports\\JupyterReportDemo.pdf"
       ],
       "description": "outputs",
       "index": [],
       "layout": "IPY_MODEL_7dd48ab49e06485cadf64ff926f2913b",
       "rows": 4,
       "style": "IPY_MODEL_38347313ebd74c4d8881428fbb26d76f"
      }
     },
     "4474863eab8a442599b63bf45196cb3c": {
      "model_module": "@jupyter-widgets/output",
      "model_module_version": "1.0.0",
      "model_name": "OutputModel",
      "state": {
       "layout": "IPY_MODEL_0bad4160af2a4989995eb2527f818b47"
      }
     },
     "44771ae959a54adb929af444f1c5fe40": {
      "model_module": "@jupyter-widgets/base",
      "model_module_version": "1.2.0",
      "model_name": "LayoutModel",
      "state": {
       "width": "5%"
      }
     },
     "44e3d673492a42cc9e6d27ccd0ad990a": {
      "model_module": "ipysheet",
      "model_module_version": "~0.4.4",
      "model_name": "CellRangeModel",
      "state": {
       "_view_module": null,
       "_view_module_version": "",
       "choice": [],
       "numeric_format": null,
       "row_start": 0,
       "squeeze_row": false,
       "type": "text",
       "value": [
        "input",
        "input"
       ]
      }
     },
     "450df647638e40b4b3bd7acc66de0010": {
      "model_module": "@jupyter-widgets/controls",
      "model_module_version": "1.5.0",
      "model_name": "HTMLModel",
      "state": {
       "layout": "IPY_MODEL_9be5f22dda6c457a918146d8d85e3cc6",
       "style": "IPY_MODEL_6a2310b6a3c540b3a1d85085e5d78a8d",
       "value": "<p>edit user input form below</p>"
      }
     },
     "45a4632ee534454f90a318b04ddd18fd": {
      "model_module": "@jupyter-widgets/controls",
      "model_module_version": "1.5.0",
      "model_name": "ButtonStyleModel",
      "state": {
       "font_weight": "bold"
      }
     },
     "45e6aae54b504d06a93538ae5b289a7c": {
      "model_module": "@jupyter-widgets/base",
      "model_module_version": "1.2.0",
      "model_name": "LayoutModel",
      "state": {
       "width": "100%"
      }
     },
     "460a85c930064e91a30cb67cfa54a4d6": {
      "model_module": "@jupyter-widgets/controls",
      "model_module_version": "1.5.0",
      "model_name": "CheckboxModel",
      "state": {
       "disabled": false,
       "indent": false,
       "layout": "IPY_MODEL_9f5575163ce746379b02a25487f26c60",
       "style": "IPY_MODEL_255a72ae61b442d8beb87b24310f5355",
       "value": false
      }
     },
     "46756831d1e244ac9656293fe4f28b98": {
      "model_module": "@jupyter-widgets/controls",
      "model_module_version": "1.5.0",
      "model_name": "ButtonModel",
      "state": {
       "button_style": "info",
       "description": "show source code",
       "layout": "IPY_MODEL_8a0cbf8fa4c04da08f20dcf1c238af33",
       "style": "IPY_MODEL_f53b1d19e63d4eb7bca9c49a1133a10b",
       "tooltip": "shows the raw python code in the preview window below"
      }
     },
     "467ce2ad66024cffb12a297b47756d9d": {
      "model_module": "@jupyter-widgets/base",
      "model_module_version": "1.2.0",
      "model_name": "LayoutModel",
      "state": {
       "border": "0px",
       "margin": "0px",
       "padding": "0px"
      }
     },
     "46c2f6733cf74cf7bf6b9cb8b77c9e61": {
      "model_module": "@jupyter-widgets/controls",
      "model_module_version": "1.5.0",
      "model_name": "DescriptionStyleModel",
      "state": {
       "description_width": ""
      }
     },
     "46e147707b5d436bbf96c0f2adcc0886": {
      "model_module": "@jupyter-widgets/output",
      "model_module_version": "1.0.0",
      "model_name": "OutputModel",
      "state": {
       "layout": "IPY_MODEL_3cd27218dcac488a9030797d4633dd1c"
      }
     },
     "4715cfe79c9f40d2865187bfd3d354da": {
      "model_module": "@jupyter-widgets/controls",
      "model_module_version": "1.5.0",
      "model_name": "DescriptionStyleModel",
      "state": {
       "description_width": ""
      }
     },
     "4753c1cc3d3f4faa9ca4765d3e8b76b9": {
      "model_module": "@jupyter-widgets/base",
      "model_module_version": "1.2.0",
      "model_name": "LayoutModel",
      "state": {}
     },
     "479f01b8f0ab472c9a8605eade9037d6": {
      "model_module": "@jupyter-widgets/controls",
      "model_module_version": "1.5.0",
      "model_name": "VBoxModel",
      "state": {
       "children": [
        "IPY_MODEL_39b83e94ffa7410c873e6e620f0669ee",
        "IPY_MODEL_3daaa538d4864008bff53dac3b266b8d",
        "IPY_MODEL_444e3c40b696476ba01f558d9c71b71b"
       ],
       "layout": "IPY_MODEL_56d89bc32a354e34a5bd0ab4d6b4e0e8"
      }
     },
     "47d7a09cdce54b13a1307aae87e4d9ac": {
      "model_module": "@jupyter-widgets/controls",
      "model_module_version": "1.5.0",
      "model_name": "ButtonModel",
      "state": {
       "button_style": "info",
       "description": "show guide",
       "layout": "IPY_MODEL_6aec8d974faa4bc1ae0d1d80c20e3115",
       "style": "IPY_MODEL_9eee231634a84c889c3095b6fbde595a",
       "tooltip": "read the \"docstring\", ie. the documentation that was written to accompany the script"
      }
     },
     "48365fa061b0499bacad3ccfd5269988": {
      "model_module": "@jupyter-widgets/base",
      "model_module_version": "1.2.0",
      "model_name": "LayoutModel",
      "state": {}
     },
     "48413e4265c745b7a0edc86bdd2dedbf": {
      "model_module": "@jupyter-widgets/output",
      "model_module_version": "1.0.0",
      "model_name": "OutputModel",
      "state": {
       "layout": "IPY_MODEL_35425c2f164b44a083dbd37d693aab13"
      }
     },
     "487a28aa60a049ee9b173e38bea7ced3": {
      "model_module": "@jupyter-widgets/controls",
      "model_module_version": "1.5.0",
      "model_name": "ButtonModel",
      "state": {
       "button_style": "info",
       "description": "preview outputs",
       "layout": "IPY_MODEL_0d1b10496b5b4a0fb803b19d0e6406d2",
       "style": "IPY_MODEL_df95fbf2e0ec4afe8923e778a649c669",
       "tooltip": "show a preview of the output files generated when the script runs"
      }
     },
     "48a523a8a498459791381eb1c70ab7d2": {
      "model_module": "@jupyter-widgets/base",
      "model_module_version": "1.2.0",
      "model_name": "LayoutModel",
      "state": {
       "width": "5%"
      }
     },
     "48b7056612dd40c58af0cba50068293f": {
      "model_module": "@jupyter-widgets/base",
      "model_module_version": "1.2.0",
      "model_name": "LayoutModel",
      "state": {
       "height": "30px",
       "width": "auto"
      }
     },
     "48c9e8ee124e4c3292bab0f35f5e6130": {
      "model_module": "@jupyter-widgets/controls",
      "model_module_version": "1.5.0",
      "model_name": "ButtonStyleModel",
      "state": {
       "font_weight": "bold"
      }
     },
     "490da82f08bc443792ed46105015640d": {
      "model_module": "@jupyter-widgets/controls",
      "model_module_version": "1.5.0",
      "model_name": "VBoxModel",
      "state": {
       "children": [
        "IPY_MODEL_c6973fdff1b64ed9a42f5cbb1f480e02",
        "IPY_MODEL_caec1518202049988dde65c5d90f1082",
        "IPY_MODEL_ddd539da636c4ae8b43739836a1def4a"
       ],
       "layout": "IPY_MODEL_1b5abf8e89a74dafbc8d119d6efd315b"
      }
     },
     "493153e328ce42fea96e87faab8e353e": {
      "model_module": "@jupyter-widgets/base",
      "model_module_version": "1.2.0",
      "model_name": "LayoutModel",
      "state": {}
     },
     "49e19f9546c54f8281ccf2fdb0bb756d": {
      "model_module": "@jupyter-widgets/base",
      "model_module_version": "1.2.0",
      "model_name": "LayoutModel",
      "state": {}
     },
     "4a47bbe2ecf94763b5ffdf8a34462a27": {
      "model_module": "@jupyter-widgets/base",
      "model_module_version": "1.2.0",
      "model_name": "LayoutModel",
      "state": {}
     },
     "4aa2331e1c9c496fa3b7f53b2692d4d2": {
      "model_module": "@jupyter-widgets/controls",
      "model_module_version": "1.5.0",
      "model_name": "ButtonModel",
      "state": {
       "button_style": "info",
       "description": "show guide",
       "layout": "IPY_MODEL_14f7614181bb413f9c52333633a10926",
       "style": "IPY_MODEL_f0179c0cb9c443ffb01f2086519493f9",
       "tooltip": "read the \"docstring\", ie. the documentation that was written to accompany the script"
      }
     },
     "4b17d8fe5a9a47cfa1d69b5afddf9942": {
      "model_module": "@jupyter-widgets/controls",
      "model_module_version": "1.5.0",
      "model_name": "ButtonStyleModel",
      "state": {}
     },
     "4baea7b15501493aa97297c8799d8021": {
      "model_module": "@jupyter-widgets/controls",
      "model_module_version": "1.5.0",
      "model_name": "ButtonModel",
      "state": {
       "icon": "question-circle",
       "layout": "IPY_MODEL_40d495a137994f038acb9e4b68099afd",
       "style": "IPY_MODEL_d4b0b84f51d44908a86d8f362934cb9d",
       "tooltip": "describes the functionality of elements in the RunApp interface"
      }
     },
     "4c36ed9e40a94a49956ecfcc2b2ba1b7": {
      "model_module": "@jupyter-widgets/controls",
      "model_module_version": "1.5.0",
      "model_name": "RadioButtonsModel",
      "state": {
       "_options_labels": [
        "TEMPLATE: C:\\engDev\\git_mf\\MF_Toolbox\\dev\\mf_scripts\\template_inputs\\inputs-docx_to_pdf.json",
        "PROJECT: C:\\engDev\\git_mf\\ipyrun\\ipyrun\\appdata\\inputs\\inputs-docx_to_pdf.json",
        "PROJECT: C:\\engDev\\git_mf\\ipyrun\\ipyrun\\appdata\\inputs\\archive\\20200610_1134-jg-inputs-docx_to_pdf.json",
        "PROJECT: C:\\engDev\\git_mf\\ipyrun\\ipyrun\\appdata\\inputs\\archive\\20200610_1139-jg-inputs-docx_to_pdf.json",
        "PROJECT: C:\\engDev\\git_mf\\ipyrun\\ipyrun\\appdata\\inputs\\archive\\20200610_1218-jg-inputs-docx_to_pdf.json",
        "PROJECT: C:\\engDev\\git_mf\\ipyrun\\ipyrun\\appdata\\inputs\\archive\\20200610_1220-jg-inputs-docx_to_pdf.json",
        "PROJECT: C:\\engDev\\git_mf\\ipyrun\\ipyrun\\appdata\\inputs\\archive\\20200610_1221-jg-inputs-docx_to_pdf.json",
        "PROJECT: C:\\engDev\\git_mf\\ipyrun\\ipyrun\\appdata\\inputs\\archive\\20200610_1224-jg-inputs-docx_to_pdf.json",
        "PROJECT: C:\\engDev\\git_mf\\ipyrun\\ipyrun\\appdata\\inputs\\archive\\20200610_1225-jg-inputs-docx_to_pdf.json",
        "PROJECT: C:\\engDev\\git_mf\\ipyrun\\ipyrun\\appdata\\inputs\\archive\\20200610_1244-jg-inputs-docx_to_pdf.json",
        "PROJECT: C:\\engDev\\git_mf\\ipyrun\\ipyrun\\appdata\\inputs\\archive\\20200610_1246-jg-inputs-docx_to_pdf.json",
        "PROJECT: C:\\engDev\\git_mf\\ipyrun\\ipyrun\\appdata\\inputs\\archive\\20200610_1419-jg-inputs-docx_to_pdf.json",
        "PROJECT: C:\\engDev\\git_mf\\ipyrun\\ipyrun\\appdata\\inputs\\archive\\20200610_1420-jg-inputs-docx_to_pdf.json",
        "PROJECT: C:\\engDev\\git_mf\\ipyrun\\ipyrun\\appdata\\inputs\\archive\\20200610_1422-jg-inputs-docx_to_pdf.json",
        "PROJECT: C:\\engDev\\git_mf\\ipyrun\\ipyrun\\appdata\\inputs\\archive\\20200610_1425-jg-inputs-docx_to_pdf.json",
        "PROJECT: C:\\engDev\\git_mf\\ipyrun\\ipyrun\\appdata\\inputs\\archive\\20200610_1853-jg-inputs-docx_to_pdf.json",
        "PROJECT: C:\\engDev\\git_mf\\ipyrun\\ipyrun\\appdata\\inputs\\archive\\20200610_1855-jg-inputs-docx_to_pdf.json",
        "PROJECT: C:\\engDev\\git_mf\\ipyrun\\ipyrun\\appdata\\inputs\\archive\\20200611_0748-jg-inputs-docx_to_pdf.json",
        "PROJECT: C:\\engDev\\git_mf\\ipyrun\\ipyrun\\appdata\\inputs\\archive\\20200611_0754-jg-inputs-docx_to_pdf.json",
        "PROJECT: C:\\engDev\\git_mf\\ipyrun\\ipyrun\\appdata\\inputs\\archive\\20200611_0757-jg-inputs-docx_to_pdf.json",
        "PROJECT: C:\\engDev\\git_mf\\ipyrun\\ipyrun\\appdata\\inputs\\archive\\20200616_1026-jg-inputs-docx_to_pdf.json"
       ],
       "index": 0,
       "layout": "IPY_MODEL_3b806a00a01642898b742601345506e2",
       "style": "IPY_MODEL_803856057eef4452938b1c09729a7841"
      }
     },
     "4cfb303ae2ab4c0c9643b42577323ac9": {
      "model_module": "@jupyter-widgets/controls",
      "model_module_version": "1.5.0",
      "model_name": "SelectMultipleModel",
      "state": {
       "_options_labels": [
        "C:\\engDev\\git_mf\\ipyrun\\data\\external\\eplus_pipework_params.csv"
       ],
       "description": "outputs",
       "index": [],
       "layout": "IPY_MODEL_38047ed4bbc047eb85ba8c10823c1216",
       "rows": 4,
       "style": "IPY_MODEL_37e6e2a3c7204158b3bc0a9b42df556a"
      }
     },
     "4d2226881d3844ef9e16e47dbe4cf0e5": {
      "model_module": "@jupyter-widgets/controls",
      "model_module_version": "1.5.0",
      "model_name": "ButtonModel",
      "state": {
       "button_style": "success",
       "description": "save changes",
       "layout": "IPY_MODEL_97e6bdc4d6d94620a8e78475a2d322b6",
       "style": "IPY_MODEL_6a341d5dbf404cd2b1f6d8995cebc520"
      }
     },
     "4d79db2414d54a758cf24753ba7fa415": {
      "model_module": "@jupyter-widgets/base",
      "model_module_version": "1.2.0",
      "model_name": "LayoutModel",
      "state": {
       "height": "30px",
       "width": "auto"
      }
     },
     "4d81f6a00581458a92ed033fe8190463": {
      "model_module": "@jupyter-widgets/controls",
      "model_module_version": "1.5.0",
      "model_name": "HBoxModel",
      "state": {
       "children": [
        "IPY_MODEL_0e6b7191c3f942a59cc5bfbb34e210cf",
        "IPY_MODEL_0bbedd861e014184b54bb15c4853b200"
       ],
       "layout": "IPY_MODEL_7bae2adc3d2149ff8cd4c659445d7bfe"
      }
     },
     "4d8b66b1d1594143b4996c32eb6cdebe": {
      "model_module": "@jupyter-widgets/controls",
      "model_module_version": "1.5.0",
      "model_name": "VBoxModel",
      "state": {
       "layout": "IPY_MODEL_9e5b82c07e184fc68ff501af513cef42"
      }
     },
     "4d8b703679524d0fafbc48d06c08c43f": {
      "model_module": "@jupyter-widgets/base",
      "model_module_version": "1.2.0",
      "model_name": "LayoutModel",
      "state": {
       "height": "30px",
       "width": "auto"
      }
     },
     "4d93f7ff16644f9a84c4152953a11821": {
      "model_module": "@jupyter-widgets/base",
      "model_module_version": "1.2.0",
      "model_name": "LayoutModel",
      "state": {
       "width": "5%"
      }
     },
     "4e1e7982a69f4087866b8e29810c0f73": {
      "model_module": "@jupyter-widgets/controls",
      "model_module_version": "1.5.0",
      "model_name": "ButtonModel",
      "state": {
       "button_style": "info",
       "description": "preview outputs",
       "layout": "IPY_MODEL_292f91909de44efa963d634213a51396",
       "style": "IPY_MODEL_1b7a89d39e16499f805f59f43a23bc52",
       "tooltip": "show a preview of the output files generated when the script runs"
      }
     },
     "4ede2fb88a0344fd923743c65e7cc29a": {
      "model_module": "@jupyter-widgets/base",
      "model_module_version": "1.2.0",
      "model_name": "LayoutModel",
      "state": {}
     },
     "4f44cac51fba4bc7ac1c9ccfc8b841f8": {
      "model_module": "@jupyter-widgets/controls",
      "model_module_version": "1.5.0",
      "model_name": "DescriptionStyleModel",
      "state": {
       "description_width": ""
      }
     },
     "4fd36ba195b846ca9c1e2442db0f8fa1": {
      "model_module": "@jupyter-widgets/controls",
      "model_module_version": "1.5.0",
      "model_name": "BoxModel",
      "state": {
       "children": [
        "IPY_MODEL_84b19d343f2c443daf1c2259d7e49cec"
       ],
       "layout": "IPY_MODEL_d0c016ce04df4f3f8996aff1a9bbbaf4"
      }
     },
     "5072ff986407486b93d94be260a25d8f": {
      "model_module": "@jupyter-widgets/controls",
      "model_module_version": "1.5.0",
      "model_name": "ButtonStyleModel",
      "state": {
       "font_weight": "bold"
      }
     },
     "508312324b4346e59913de5a664062f8": {
      "model_module": "@jupyter-widgets/controls",
      "model_module_version": "1.5.0",
      "model_name": "ButtonModel",
      "state": {
       "icon": "eye-slash",
       "layout": "IPY_MODEL_ac627d056e23479b84be25f6c94bfb4a",
       "style": "IPY_MODEL_20e24a5349a54da3b5ea8f46e186fb63",
       "tooltip": "removes temporary output view"
      }
     },
     "508adc3a0e3f4061a679ab3f2e52a826": {
      "model_module": "@jupyter-widgets/controls",
      "model_module_version": "1.5.0",
      "model_name": "SelectMultipleModel",
      "state": {
       "_options_labels": [
        "C:\\engDev\\git_mf\\ipyrun\\reports\\JupyterReportDemo.pdf"
       ],
       "description": "outputs",
       "index": [],
       "layout": "IPY_MODEL_48b7056612dd40c58af0cba50068293f",
       "rows": 4,
       "style": "IPY_MODEL_6e73e63dfc824114a59b0a180198e01f"
      }
     },
     "5099b0aacf204b5d80ee356e2b2dbd1b": {
      "model_module": "@jupyter-widgets/controls",
      "model_module_version": "1.5.0",
      "model_name": "ButtonModel",
      "state": {
       "button_style": "info",
       "description": "show guide",
       "layout": "IPY_MODEL_4a47bbe2ecf94763b5ffdf8a34462a27",
       "style": "IPY_MODEL_8c54828d3d9f47d1a9a541d86c9cd805",
       "tooltip": "read the \"docstring\", ie. the documentation that was written to accompany the script"
      }
     },
     "509ac73c07644dc2bc725c69a5a0d79c": {
      "model_module": "@jupyter-widgets/controls",
      "model_module_version": "1.5.0",
      "model_name": "ButtonStyleModel",
      "state": {
       "font_weight": "bold"
      }
     },
     "50fcf94b11cc4e8184dee49498de2309": {
      "model_module": "@jupyter-widgets/base",
      "model_module_version": "1.2.0",
      "model_name": "LayoutModel",
      "state": {
       "align_items": "stretch",
       "width": "100%"
      }
     },
     "515fc586680648418d4b899a69004108": {
      "model_module": "@jupyter-widgets/base",
      "model_module_version": "1.2.0",
      "model_name": "LayoutModel",
      "state": {}
     },
     "523cf9caa98f432fb24db15afa81a1c3": {
      "model_module": "@jupyter-widgets/base",
      "model_module_version": "1.2.0",
      "model_name": "LayoutModel",
      "state": {
       "border": "0px",
       "margin": "0px",
       "padding": "0px"
      }
     },
     "5262d304b7e44d4bb0b055419ee9f2f2": {
      "model_module": "@jupyter-widgets/controls",
      "model_module_version": "1.5.0",
      "model_name": "ButtonModel",
      "state": {
       "button_style": "info",
       "description": "show guide",
       "layout": "IPY_MODEL_804d25ade2094b2f8d1e3648454dbc86",
       "style": "IPY_MODEL_d7c20ff4aa6249028425d0fe968aa0f5",
       "tooltip": "read the \"docstring\", ie. the documentation that was written to accompany the script"
      }
     },
     "52adda8347aa49aca851d7fb7f4460fc": {
      "model_module": "@jupyter-widgets/base",
      "model_module_version": "1.2.0",
      "model_name": "LayoutModel",
      "state": {
       "align_items": "stretch",
       "width": "100%"
      }
     },
     "52e13a4dde3c4718a01846d33f4c3678": {
      "model_module": "@jupyter-widgets/base",
      "model_module_version": "1.2.0",
      "model_name": "LayoutModel",
      "state": {}
     },
     "52fdafa249db478894907b253cf0cd1a": {
      "model_module": "@jupyter-widgets/controls",
      "model_module_version": "1.5.0",
      "model_name": "HBoxModel",
      "state": {
       "children": [
        "IPY_MODEL_c2679be2528b43639987516cf1dd9a6c",
        "IPY_MODEL_3d0bdf143c344233a6468e2943df209f"
       ],
       "layout": "IPY_MODEL_523cf9caa98f432fb24db15afa81a1c3"
      }
     },
     "5320b7d5ca0f4a96ac9b48af317e2d4d": {
      "model_module": "@jupyter-widgets/controls",
      "model_module_version": "1.5.0",
      "model_name": "ButtonModel",
      "state": {
       "button_style": "warning",
       "description": "edit inputs",
       "layout": "IPY_MODEL_8c8688e4bcf544e28b3e460f04837358",
       "style": "IPY_MODEL_58aae449d6834379b139276644d371aa",
       "tooltip": "edit the user input information that is used when the script is executed"
      }
     },
     "5336eb1133c64e849e371a1a34c10d7c": {
      "model_module": "@jupyter-widgets/base",
      "model_module_version": "1.2.0",
      "model_name": "LayoutModel",
      "state": {
       "display": "flex",
       "flex_flow": "row",
       "grid_auto_columns": "False",
       "justify_content": "flex-start",
       "width": "100%"
      }
     },
     "539abde73f4845ccb5ca2b0a21c96be2": {
      "model_module": "@jupyter-widgets/base",
      "model_module_version": "1.2.0",
      "model_name": "LayoutModel",
      "state": {
       "height": "30px",
       "max_width": "30px",
       "padding": "3px"
      }
     },
     "53b024276b4b4660a20cf80d00303507": {
      "model_module": "@jupyter-widgets/base",
      "model_module_version": "1.2.0",
      "model_name": "LayoutModel",
      "state": {}
     },
     "53cdf064e7c24617b8d2818d43bbd21d": {
      "model_module": "@jupyter-widgets/base",
      "model_module_version": "1.2.0",
      "model_name": "LayoutModel",
      "state": {
       "height": "30px",
       "width": "auto"
      }
     },
     "54c752e5d22940978d2c8a2bb4197fec": {
      "model_module": "@jupyter-widgets/base",
      "model_module_version": "1.2.0",
      "model_name": "LayoutModel",
      "state": {
       "height": "30px",
       "width": "auto"
      }
     },
     "55183c6062a6422a9a08089204c187d0": {
      "model_module": "@jupyter-widgets/controls",
      "model_module_version": "1.5.0",
      "model_name": "HBoxModel",
      "state": {
       "children": [
        "IPY_MODEL_b809300e095648e19a7e03573d7df9c0",
        "IPY_MODEL_717c5cb4635644f2aec429e5f2544a65",
        "IPY_MODEL_121f3bba4be94325a2ac339ba33f8380",
        "IPY_MODEL_72129d13df4f47c19b071c6dfe20f46a",
        "IPY_MODEL_56b8d917a6b04337949469310321f393",
        "IPY_MODEL_0ce0287db3c944f1ac572580f2a823c9",
        "IPY_MODEL_e456a8c02bfd4add8b4184b598410829"
       ],
       "layout": "IPY_MODEL_61a9da74f1664a20a6f64be06a682ca5"
      }
     },
     "5565cba7ecc2463882f2ea222ae705cd": {
      "model_module": "@jupyter-widgets/base",
      "model_module_version": "1.2.0",
      "model_name": "LayoutModel",
      "state": {}
     },
     "55c8cd39520f49f9a20030d303f960fa": {
      "model_module": "@jupyter-widgets/base",
      "model_module_version": "1.2.0",
      "model_name": "LayoutModel",
      "state": {}
     },
     "560cff7468414b8e9b6099b54091f725": {
      "model_module": "@jupyter-widgets/controls",
      "model_module_version": "1.5.0",
      "model_name": "DescriptionStyleModel",
      "state": {
       "description_width": ""
      }
     },
     "5627192bb6d64c94b1e4cda66927b772": {
      "model_module": "@jupyter-widgets/controls",
      "model_module_version": "1.5.0",
      "model_name": "ButtonModel",
      "state": {
       "button_style": "success",
       "description": "run",
       "layout": "IPY_MODEL_9bd8be5d70e94390bacc3326925e38b0",
       "style": "IPY_MODEL_a47ee26a7f9346fa80d5bc8aaecd058c",
       "tooltip": "execute the script based on the user inputs"
      }
     },
     "56361797a8f4404fa22a1169d1946287": {
      "model_module": "@jupyter-widgets/controls",
      "model_module_version": "1.5.0",
      "model_name": "ButtonStyleModel",
      "state": {
       "font_weight": "bold"
      }
     },
     "566b6dae949d400da8f180e61474b212": {
      "model_module": "@jupyter-widgets/base",
      "model_module_version": "1.2.0",
      "model_name": "LayoutModel",
      "state": {}
     },
     "5683c948211a4a60922a61c6b8815fb6": {
      "model_module": "@jupyter-widgets/controls",
      "model_module_version": "1.5.0",
      "model_name": "ButtonStyleModel",
      "state": {
       "font_weight": "bold"
      }
     },
     "56a8c4fdcdf740fd9f5ad0477ceb3ad0": {
      "model_module": "@jupyter-widgets/output",
      "model_module_version": "1.0.0",
      "model_name": "OutputModel",
      "state": {
       "layout": "IPY_MODEL_f7baf24032f142798389dff2cfcab95c"
      }
     },
     "56b37f7203f34809b51edfafe6c8939e": {
      "model_module": "@jupyter-widgets/base",
      "model_module_version": "1.2.0",
      "model_name": "LayoutModel",
      "state": {
       "align_items": "stretch",
       "width": "100%"
      }
     },
     "56b8d917a6b04337949469310321f393": {
      "model_module": "@jupyter-widgets/controls",
      "model_module_version": "1.5.0",
      "model_name": "ButtonModel",
      "state": {
       "button_style": "success",
       "description": "run",
       "layout": "IPY_MODEL_235fdc903c6a41018c3a8043e7c3e4d4",
       "style": "IPY_MODEL_d85725265c9746d896c2f8762ff23f43",
       "tooltip": "execute the script based on the user inputs"
      }
     },
     "56d89bc32a354e34a5bd0ab4d6b4e0e8": {
      "model_module": "@jupyter-widgets/base",
      "model_module_version": "1.2.0",
      "model_name": "LayoutModel",
      "state": {
       "align_items": "stretch",
       "width": "100%"
      }
     },
     "5723ece140574f00bf963402fbcb05b2": {
      "model_module": "@jupyter-widgets/controls",
      "model_module_version": "1.5.0",
      "model_name": "ButtonModel",
      "state": {
       "icon": "question-circle",
       "layout": "IPY_MODEL_22d8e6e1fa394cfcbf9394d3a087ab12",
       "style": "IPY_MODEL_ffc868bb617b445eae09fae228779ee2",
       "tooltip": "describes the functionality of elements in the RunApp interface"
      }
     },
     "5740eafbae09457b93279793f56fceff": {
      "model_module": "@jupyter-widgets/base",
      "model_module_version": "1.2.0",
      "model_name": "LayoutModel",
      "state": {}
     },
     "57d19f4baace4bfb8344a2034401a49f": {
      "model_module": "@jupyter-widgets/controls",
      "model_module_version": "1.5.0",
      "model_name": "CheckboxModel",
      "state": {
       "disabled": false,
       "indent": false,
       "layout": "IPY_MODEL_e65c2d673cd64fe9bf357112c082cd41",
       "style": "IPY_MODEL_0b74100b243b419a83b4b2bea4feed0f",
       "value": true
      }
     },
     "585264a2330a481f91004d6dc57efbda": {
      "model_module": "@jupyter-widgets/controls",
      "model_module_version": "1.5.0",
      "model_name": "ButtonModel",
      "state": {
       "button_style": "info",
       "description": "show guide",
       "layout": "IPY_MODEL_6d78cc1fa3d64e82835a2c0f9581855d",
       "style": "IPY_MODEL_d7a7e73c56df4960843504e757295637",
       "tooltip": "read the \"docstring\", ie. the documentation that was written to accompany the script"
      }
     },
     "5862a07c9cea488796ae64540c7f05fb": {
      "model_module": "@jupyter-widgets/controls",
      "model_module_version": "1.5.0",
      "model_name": "HBoxModel",
      "state": {
       "children": [
        "IPY_MODEL_3605e1a7a6cb448897c942eaa916d2b2",
        "IPY_MODEL_d376fb8788d042d9aaeca750ea8ef4eb"
       ],
       "layout": "IPY_MODEL_40e7e27549a84b2e9ce58b5ff7ee2cc1"
      }
     },
     "58675a6a6fa24312bcb845deebc81d7f": {
      "model_module": "@jupyter-widgets/controls",
      "model_module_version": "1.5.0",
      "model_name": "VBoxModel",
      "state": {
       "children": [
        "IPY_MODEL_6761d62fbf0d457aa7bb1f8a19a2331d",
        "IPY_MODEL_479f01b8f0ab472c9a8605eade9037d6"
       ],
       "layout": "IPY_MODEL_0db0feff8ab84e0ba5b010e6bd093626"
      }
     },
     "588a93d75be34b2ca3ea8e45b9f6b9f5": {
      "model_module": "@jupyter-widgets/controls",
      "model_module_version": "1.5.0",
      "model_name": "HBoxModel",
      "state": {
       "children": [
        "IPY_MODEL_17099540e7e843a692ccee4d66dd7ea5",
        "IPY_MODEL_a28e7345781c41c9a3ef9a77efdc1e87"
       ],
       "layout": "IPY_MODEL_63478c9c1b20423b8e1397d60f87f80b"
      }
     },
     "58aae449d6834379b139276644d371aa": {
      "model_module": "@jupyter-widgets/controls",
      "model_module_version": "1.5.0",
      "model_name": "ButtonStyleModel",
      "state": {
       "font_weight": "bold"
      }
     },
     "58de489e1a2d4aa0ae2781730faa3be2": {
      "model_module": "@jupyter-widgets/controls",
      "model_module_version": "1.5.0",
      "model_name": "CheckboxModel",
      "state": {
       "disabled": false,
       "indent": false,
       "layout": "IPY_MODEL_181f18fcfb7a4bdfa066bf26bfce3139",
       "style": "IPY_MODEL_e24063452c794c378a5b760885bb8296",
       "value": true
      }
     },
     "58ec5a78b564439ab8e8cb92535fa62f": {
      "model_module": "@jupyter-widgets/controls",
      "model_module_version": "1.5.0",
      "model_name": "VBoxModel",
      "state": {
       "children": [
        "IPY_MODEL_9c7e98e7437543bfa14b3627c732dfcb",
        "IPY_MODEL_0b91920e72bc48f08b8e0fe75982334f"
       ],
       "layout": "IPY_MODEL_f3ef05b24f6e4268b9705282b5b4625f"
      }
     },
     "58edf6b9252c4a049856ecb105c23c10": {
      "model_module": "@jupyter-widgets/controls",
      "model_module_version": "1.5.0",
      "model_name": "HTMLModel",
      "state": {
       "layout": "IPY_MODEL_f1370b770a404011a336a9543978a4c0",
       "style": "IPY_MODEL_7b727a63b14841dba0a5ecc89fcea459",
       "value": "<p>edit user input form below</p>"
      }
     },
     "590b27001e834f25b0bc783c9cb32d91": {
      "model_module": "@jupyter-widgets/controls",
      "model_module_version": "1.5.0",
      "model_name": "ButtonModel",
      "state": {
       "icon": "eye-slash",
       "layout": "IPY_MODEL_2a39bbd2dff041a6817f4f244beb0ca0",
       "style": "IPY_MODEL_131ea6e2c0b6405e8f3fef17aaa94fef",
       "tooltip": "removes temporary output view"
      }
     },
     "595a35d527f14cb09775f847e7568a60": {
      "model_module": "@jupyter-widgets/controls",
      "model_module_version": "1.5.0",
      "model_name": "ButtonStyleModel",
      "state": {
       "font_weight": "bold"
      }
     },
     "5996cf4ac364451694105dc4f59b98c0": {
      "model_module": "@jupyter-widgets/controls",
      "model_module_version": "1.5.0",
      "model_name": "AccordionModel",
      "state": {
       "_titles": {
        "0": "docx_to_pdf"
       },
       "children": [
        "IPY_MODEL_58ec5a78b564439ab8e8cb92535fa62f"
       ],
       "layout": "IPY_MODEL_9ead11a35d664febb83093801e594ca4",
       "selected_index": null
      }
     },
     "5a0b99be6c894b408a80d2d647a0e507": {
      "model_module": "@jupyter-widgets/base",
      "model_module_version": "1.2.0",
      "model_name": "LayoutModel",
      "state": {}
     },
     "5a183dc42b344eeaac58a026029b9481": {
      "model_module": "@jupyter-widgets/controls",
      "model_module_version": "1.5.0",
      "model_name": "ButtonStyleModel",
      "state": {
       "font_weight": "bold"
      }
     },
     "5a4b964062564e669265182b82aaa47f": {
      "model_module": "@jupyter-widgets/controls",
      "model_module_version": "1.5.0",
      "model_name": "ButtonStyleModel",
      "state": {}
     },
     "5a93310dcfd847ec989b4b098be2ab48": {
      "model_module": "@jupyter-widgets/controls",
      "model_module_version": "1.5.0",
      "model_name": "TextModel",
      "state": {
       "description": "script",
       "disabled": true,
       "layout": "IPY_MODEL_8b969939d7ff4d82845ce2cba08dc010",
       "style": "IPY_MODEL_560cff7468414b8e9b6099b54091f725",
       "value": "C:\\engDev\\git_mf\\MF_Toolbox\\dev\\mf_scripts\\eplus_pipework_params.py"
      }
     },
     "5a9d3fc8c4b44bd4b4e22d6e0c1c8b84": {
      "model_module": "@jupyter-widgets/controls",
      "model_module_version": "1.5.0",
      "model_name": "VBoxModel",
      "state": {
       "children": [
        "IPY_MODEL_4fd36ba195b846ca9c1e2442db0f8fa1",
        "IPY_MODEL_3dbc7feebb104c57b5c4467fac99f02c"
       ],
       "layout": "IPY_MODEL_515fc586680648418d4b899a69004108"
      }
     },
     "5b0f9a4a187b4244860fb1a16fa1d0bd": {
      "model_module": "@jupyter-widgets/controls",
      "model_module_version": "1.5.0",
      "model_name": "ButtonModel",
      "state": {
       "button_style": "info",
       "description": "show source code",
       "layout": "IPY_MODEL_dd31677aa53a4a10a15dce7e90aea545",
       "style": "IPY_MODEL_e122bf5100e1490881bb0b656bb73a0b",
       "tooltip": "shows the raw python code in the preview window below"
      }
     },
     "5b38868b3014400b8543ecc67117bd8f": {
      "model_module": "@jupyter-widgets/base",
      "model_module_version": "1.2.0",
      "model_name": "LayoutModel",
      "state": {
       "align_items": "stretch",
       "width": "100%"
      }
     },
     "5bb428bd21064230a984b5aba2962d49": {
      "model_module": "@jupyter-widgets/controls",
      "model_module_version": "1.5.0",
      "model_name": "VBoxModel",
      "state": {
       "children": [
        "IPY_MODEL_b96089b82b2a4ce1babb7225eaaa5683",
        "IPY_MODEL_89cd8bd0ff9440c6bd6494d374b56dbe",
        "IPY_MODEL_c5f19c2216d14f108bd60deaa6d61b05"
       ],
       "layout": "IPY_MODEL_b144e1f5e5d4421a92f9a4cad6796bec"
      }
     },
     "5bb80d83bb9c4d138f2e9a820e659a20": {
      "model_module": "@jupyter-widgets/controls",
      "model_module_version": "1.5.0",
      "model_name": "HBoxModel",
      "state": {
       "children": [
        "IPY_MODEL_6ad51a4ce94e494cac73110808fe1adf",
        "IPY_MODEL_7af9206bf3c9415c925ff54bc6562d4c"
       ],
       "layout": "IPY_MODEL_3171e7cdbbc746129c45bd06c82fafb6"
      }
     },
     "5c031fe0dbbe42e6b5bea65b094ee9af": {
      "model_module": "@jupyter-widgets/base",
      "model_module_version": "1.2.0",
      "model_name": "LayoutModel",
      "state": {
       "align_items": "stretch",
       "width": "100%"
      }
     },
     "5ca7fc0af8ed42908395c17ea26750d5": {
      "model_module": "@jupyter-widgets/controls",
      "model_module_version": "1.5.0",
      "model_name": "ButtonModel",
      "state": {
       "button_style": "info",
       "description": "show log",
       "layout": "IPY_MODEL_9786251491ea46b0bebf5ed952262a8a",
       "style": "IPY_MODEL_56361797a8f4404fa22a1169d1946287",
       "tooltip": "show a log of when the script was executed to generate the outputs, and by who"
      }
     },
     "5ccd1bb2a0314257951cf1b44cb717ef": {
      "model_module": "@jupyter-widgets/controls",
      "model_module_version": "1.5.0",
      "model_name": "ButtonModel",
      "state": {
       "button_style": "info",
       "description": "show log",
       "layout": "IPY_MODEL_d4c27c7a51aa4eb580bab1ed761733c5",
       "style": "IPY_MODEL_169015a9433749c49b366f833a3aa656",
       "tooltip": "show a log of when the script was executed to generate the outputs, and by who"
      }
     },
     "5cdaaea8e6654a68908f6eca494092ae": {
      "model_module": "@jupyter-widgets/controls",
      "model_module_version": "1.5.0",
      "model_name": "AccordionModel",
      "state": {
       "_titles": {
        "0": "docx_to_pdf"
       },
       "children": [
        "IPY_MODEL_da0503b90d984a1f9694264b37da51b7"
       ],
       "layout": "IPY_MODEL_118ded3decc240e0b8bc1459e711b12d",
       "selected_index": null
      }
     },
     "5d47eecfdf7e48739f8c673da068e2d2": {
      "model_module": "@jupyter-widgets/controls",
      "model_module_version": "1.5.0",
      "model_name": "HBoxModel",
      "state": {
       "children": [
        "IPY_MODEL_3826aef66f0645bf9170f4e98df19821",
        "IPY_MODEL_3b3ce550e2b04684ac1e1cb1b12cf21a",
        "IPY_MODEL_4aa2331e1c9c496fa3b7f53b2692d4d2",
        "IPY_MODEL_be8d0dbe4e3942638783cf2523de2f03",
        "IPY_MODEL_288d3f86e9a2498fbe51085a346ca34a",
        "IPY_MODEL_7d2984743dbb45498785cecfda0eddbf",
        "IPY_MODEL_7eb01eae378f4556bd1ff244b0c7443d"
       ],
       "layout": "IPY_MODEL_375f5a6509c64f5bae4de508e68b57ae"
      }
     },
     "5d9ca357117c400797916403040d0410": {
      "model_module": "@jupyter-widgets/controls",
      "model_module_version": "1.5.0",
      "model_name": "ButtonModel",
      "state": {
       "button_style": "success",
       "description": "run",
       "layout": "IPY_MODEL_e05a854895674c95b892117ec853e920",
       "style": "IPY_MODEL_afaee53823a04fcc9ee1274b877c2797",
       "tooltip": "execute the script based on the user inputs"
      }
     },
     "5e40ec02681745bdace73a723a11ddce": {
      "model_module": "@jupyter-widgets/controls",
      "model_module_version": "1.5.0",
      "model_name": "SelectMultipleModel",
      "state": {
       "_options_labels": [
        "C:\\engDev\\git_mf\\ipyrun\\data\\external\\eplus_pipework_params.csv"
       ],
       "description": "outputs",
       "index": [],
       "layout": "IPY_MODEL_c526f86df5ff4bd28d5340715be9ff83",
       "rows": 4,
       "style": "IPY_MODEL_73be34f36ee7401d8f91ca7a00fca350"
      }
     },
     "5eb023b10db44e3c8ea9505bc1ea283f": {
      "model_module": "@jupyter-widgets/controls",
      "model_module_version": "1.5.0",
      "model_name": "DescriptionStyleModel",
      "state": {
       "description_width": ""
      }
     },
     "5ed82caa51d94b308e6c53f554456be9": {
      "model_module": "@jupyter-widgets/base",
      "model_module_version": "1.2.0",
      "model_name": "LayoutModel",
      "state": {
       "height": "30px",
       "width": "auto"
      }
     },
     "5ed8f4812f6344858d20c7e002965949": {
      "model_module": "@jupyter-widgets/controls",
      "model_module_version": "1.5.0",
      "model_name": "SelectMultipleModel",
      "state": {
       "_options_labels": [
        "C:\\engDev\\git_mf\\ipyrun\\data\\external\\eplus_pipework_params.csv"
       ],
       "description": "outputs",
       "index": [],
       "layout": "IPY_MODEL_54c752e5d22940978d2c8a2bb4197fec",
       "rows": 4,
       "style": "IPY_MODEL_9454a37f8a3a4d6f8a00873651dfbb06"
      }
     },
     "5eea4363a9b248d0b2de48ecb40220c3": {
      "model_module": "@jupyter-widgets/controls",
      "model_module_version": "1.5.0",
      "model_name": "ButtonStyleModel",
      "state": {
       "font_weight": "bold"
      }
     },
     "5f9bc09b1e78485397991c37f6da7922": {
      "model_module": "@jupyter-widgets/controls",
      "model_module_version": "1.5.0",
      "model_name": "TextModel",
      "state": {
       "description": "inputs",
       "disabled": true,
       "layout": "IPY_MODEL_9403b6c5979148cdad10a716e012dea7",
       "style": "IPY_MODEL_a6d7e8e4d742453b91743b1e63980cd5",
       "value": "C:\\engDev\\git_mf\\ipyrun\\ipyrun\\notebooks\\appdata\\inputs\\inputs-eplus_pipework_params.csv"
      }
     },
     "5fc8cbe577644624b95a7ffa081575f7": {
      "model_module": "@jupyter-widgets/base",
      "model_module_version": "1.2.0",
      "model_name": "LayoutModel",
      "state": {
       "align_items": "stretch",
       "width": "100%"
      }
     },
     "5fd7569b31b547079fc80d17c6ff4cfd": {
      "model_module": "@jupyter-widgets/base",
      "model_module_version": "1.2.0",
      "model_name": "LayoutModel",
      "state": {
       "width": "5%"
      }
     },
     "6073b73042904e43a806b28d71204582": {
      "model_module": "@jupyter-widgets/base",
      "model_module_version": "1.2.0",
      "model_name": "LayoutModel",
      "state": {}
     },
     "6083da7fdf9049bcb67f9b17069a6900": {
      "model_module": "@jupyter-widgets/base",
      "model_module_version": "1.2.0",
      "model_name": "LayoutModel",
      "state": {}
     },
     "612efa544f44475382baaa92693a5356": {
      "model_module": "@jupyter-widgets/controls",
      "model_module_version": "1.5.0",
      "model_name": "ButtonModel",
      "state": {
       "button_style": "info",
       "description": "show guide",
       "layout": "IPY_MODEL_4377d4aa659e427f85822f17e4ffbc82",
       "style": "IPY_MODEL_9206451c0fe74e32915fe624fc5f5169",
       "tooltip": "read the \"docstring\", ie. the documentation that was written to accompany the script"
      }
     },
     "613c09fc6b9241c6a4fe358781984475": {
      "model_module": "@jupyter-widgets/base",
      "model_module_version": "1.2.0",
      "model_name": "LayoutModel",
      "state": {}
     },
     "615675a565f447b086968ac19ddd57a6": {
      "model_module": "@jupyter-widgets/controls",
      "model_module_version": "1.5.0",
      "model_name": "AccordionModel",
      "state": {
       "_titles": {
        "0": "eplus_pipework_params"
       },
       "children": [
        "IPY_MODEL_5a9d3fc8c4b44bd4b4e22d6e0c1c8b84"
       ],
       "layout": "IPY_MODEL_777a3e98e19e49d7b23ff82c5851007e",
       "selected_index": null
      }
     },
     "61a9da74f1664a20a6f64be06a682ca5": {
      "model_module": "@jupyter-widgets/base",
      "model_module_version": "1.2.0",
      "model_name": "LayoutModel",
      "state": {
       "align_items": "stretch",
       "width": "100%"
      }
     },
     "61e5e9e5727544ea88d8b99dbe3147b8": {
      "model_module": "@jupyter-widgets/controls",
      "model_module_version": "1.5.0",
      "model_name": "ButtonStyleModel",
      "state": {
       "font_weight": "bold"
      }
     },
     "622d97cd086047abba335f2325196236": {
      "model_module": "@jupyter-widgets/controls",
      "model_module_version": "1.5.0",
      "model_name": "ButtonModel",
      "state": {
       "icon": "eye-slash",
       "layout": "IPY_MODEL_912e63fade554fc1ab019e2acfc2113b",
       "style": "IPY_MODEL_61e5e9e5727544ea88d8b99dbe3147b8",
       "tooltip": "removes temporary output view"
      }
     },
     "6237deace1b74eed8a5f84ef7d5c8248": {
      "model_module": "@jupyter-widgets/controls",
      "model_module_version": "1.5.0",
      "model_name": "ButtonModel",
      "state": {
       "button_style": "info",
       "description": "show log",
       "layout": "IPY_MODEL_ab415c5960d94908bce4a3201d20bf97",
       "style": "IPY_MODEL_33b1485bb1f9404eb0af78c5b6798e4a",
       "tooltip": "show a log of when the script was executed to generate the outputs, and by who"
      }
     },
     "624cf16b92514b1d97eb57592e81a8fc": {
      "model_module": "@jupyter-widgets/base",
      "model_module_version": "1.2.0",
      "model_name": "LayoutModel",
      "state": {
       "height": "30px",
       "width": "auto"
      }
     },
     "63155d4ea52f417ebe3069ad834e2762": {
      "model_module": "@jupyter-widgets/base",
      "model_module_version": "1.2.0",
      "model_name": "LayoutModel",
      "state": {
       "align_items": "stretch",
       "width": "100%"
      }
     },
     "63478c9c1b20423b8e1397d60f87f80b": {
      "model_module": "@jupyter-widgets/base",
      "model_module_version": "1.2.0",
      "model_name": "LayoutModel",
      "state": {
       "border": "0px",
       "margin": "0px",
       "padding": "0px"
      }
     },
     "635e2238f8924f3cb851b7e333fac271": {
      "model_module": "@jupyter-widgets/controls",
      "model_module_version": "1.5.0",
      "model_name": "ButtonModel",
      "state": {
       "button_style": "info",
       "description": "show source code",
       "layout": "IPY_MODEL_2dd5f6fad4ff4cabb84b492649f89f1b",
       "style": "IPY_MODEL_2b16cc75dc08438da0200adf86c8de05",
       "tooltip": "shows the raw python code in the preview window below"
      }
     },
     "63a312da01f34d628308c00cc4315721": {
      "model_module": "@jupyter-widgets/base",
      "model_module_version": "1.2.0",
      "model_name": "LayoutModel",
      "state": {
       "width": "5%"
      }
     },
     "63d7bd1150ac403aaf9bd955eac52bbd": {
      "model_module": "@jupyter-widgets/controls",
      "model_module_version": "1.5.0",
      "model_name": "ButtonStyleModel",
      "state": {
       "font_weight": "bold"
      }
     },
     "6404b1d5dd7c43aa96baa7630a208db1": {
      "model_module": "@jupyter-widgets/controls",
      "model_module_version": "1.5.0",
      "model_name": "DescriptionStyleModel",
      "state": {
       "description_width": ""
      }
     },
     "64901c5ffabd45a0b3e4d58d75ea06bc": {
      "model_module": "@jupyter-widgets/base",
      "model_module_version": "1.2.0",
      "model_name": "LayoutModel",
      "state": {}
     },
     "649fc2fa1bab4893b59c1c7bc5a131e8": {
      "model_module": "@jupyter-widgets/controls",
      "model_module_version": "1.5.0",
      "model_name": "HBoxModel",
      "state": {
       "children": [
        "IPY_MODEL_6ec3ac62dfe342fb83f936185dd6309e",
        "IPY_MODEL_154af8893d1944f1923cb4a2b3959b11",
        "IPY_MODEL_7e6130acd0044935bf4549ccfe305c51",
        "IPY_MODEL_8c4d1da560c04b72988d8cc7468e4b99",
        "IPY_MODEL_0940643803724be2b3bbd90438373bc9",
        "IPY_MODEL_09490b68400b452f85b80efc5c3bf2ec",
        "IPY_MODEL_da1b53ab44944a0598fe9cfb30cc983d"
       ],
       "layout": "IPY_MODEL_5c031fe0dbbe42e6b5bea65b094ee9af"
      }
     },
     "64c2085de2874790bffcae13992c55bf": {
      "model_module": "@jupyter-widgets/base",
      "model_module_version": "1.2.0",
      "model_name": "LayoutModel",
      "state": {
       "height": "30px",
       "max_width": "30px",
       "padding": "3px"
      }
     },
     "657e9be366a84a758e944fca5f086b2c": {
      "model_module": "@jupyter-widgets/base",
      "model_module_version": "1.2.0",
      "model_name": "LayoutModel",
      "state": {}
     },
     "659357a0a9034343ae652c7c944b59b7": {
      "model_module": "@jupyter-widgets/controls",
      "model_module_version": "1.5.0",
      "model_name": "ButtonStyleModel",
      "state": {
       "font_weight": "bold"
      }
     },
     "664a1c30d0c24353acaf3674c4c08134": {
      "model_module": "@jupyter-widgets/controls",
      "model_module_version": "1.5.0",
      "model_name": "VBoxModel",
      "state": {
       "children": [
        "IPY_MODEL_3ae7eae16e01476b823ba993072d7d0d",
        "IPY_MODEL_7caada5d4b714504a6f99df14b0bd4b8",
        "IPY_MODEL_2c18ecdcec81437a8240f4ad0b0c00ca"
       ],
       "layout": "IPY_MODEL_1f34effc16cc431ba25b8c9960d68fae"
      }
     },
     "667963117a7145779183e829441a7dd4": {
      "model_module": "@jupyter-widgets/controls",
      "model_module_version": "1.5.0",
      "model_name": "ButtonStyleModel",
      "state": {
       "font_weight": "bold"
      }
     },
     "66bd832f6153423eb5202482d94834bd": {
      "model_module": "@jupyter-widgets/base",
      "model_module_version": "1.2.0",
      "model_name": "LayoutModel",
      "state": {}
     },
     "672ad73ea51f4a2b8ffc546b5918aa14": {
      "model_module": "@jupyter-widgets/base",
      "model_module_version": "1.2.0",
      "model_name": "LayoutModel",
      "state": {}
     },
     "6761d62fbf0d457aa7bb1f8a19a2331d": {
      "model_module": "@jupyter-widgets/controls",
      "model_module_version": "1.5.0",
      "model_name": "BoxModel",
      "state": {
       "children": [
        "IPY_MODEL_33b5c0af8e854e3aad1ed8e7d396b87a"
       ],
       "layout": "IPY_MODEL_5740eafbae09457b93279793f56fceff"
      }
     },
     "6764aed57d8a47d4b42c6c1680c183ca": {
      "model_module": "@jupyter-widgets/base",
      "model_module_version": "1.2.0",
      "model_name": "LayoutModel",
      "state": {}
     },
     "67bb743526634763a85fbe84335a17b6": {
      "model_module": "@jupyter-widgets/base",
      "model_module_version": "1.2.0",
      "model_name": "LayoutModel",
      "state": {
       "width": "5%"
      }
     },
     "682ffa3e4e6a46fda493aa682bdf0281": {
      "model_module": "@jupyter-widgets/output",
      "model_module_version": "1.0.0",
      "model_name": "OutputModel",
      "state": {
       "layout": "IPY_MODEL_11b82af41c474d46aed37e232d49bdcb"
      }
     },
     "68627afc22b34db59b31b0f9edfd5b01": {
      "model_module": "@jupyter-widgets/controls",
      "model_module_version": "1.5.0",
      "model_name": "ButtonStyleModel",
      "state": {
       "font_weight": "bold"
      }
     },
     "68cac950715441708f2cfc61c4598390": {
      "model_module": "@jupyter-widgets/controls",
      "model_module_version": "1.5.0",
      "model_name": "BoxModel",
      "state": {
       "children": [
        "IPY_MODEL_32f0173c41304c5689261bc0f6e351a6"
       ],
       "layout": "IPY_MODEL_ab6dfcc39e184c38843830b068c1e65f"
      }
     },
     "6940b5c686d84efb8124460635fd90bd": {
      "model_module": "@jupyter-widgets/controls",
      "model_module_version": "1.5.0",
      "model_name": "ButtonStyleModel",
      "state": {
       "font_weight": "bold"
      }
     },
     "6944b1556dc44087bd481c9a546dbd2c": {
      "model_module": "@jupyter-widgets/base",
      "model_module_version": "1.2.0",
      "model_name": "LayoutModel",
      "state": {}
     },
     "699a2cac8ac94ad1817caecb83ce256c": {
      "model_module": "@jupyter-widgets/base",
      "model_module_version": "1.2.0",
      "model_name": "LayoutModel",
      "state": {
       "align_items": "stretch",
       "width": "100%"
      }
     },
     "69de3ec87d6f426a9fff6ead9db65a1d": {
      "model_module": "@jupyter-widgets/controls",
      "model_module_version": "1.5.0",
      "model_name": "ButtonStyleModel",
      "state": {
       "font_weight": "bold"
      }
     },
     "6a2310b6a3c540b3a1d85085e5d78a8d": {
      "model_module": "@jupyter-widgets/controls",
      "model_module_version": "1.5.0",
      "model_name": "DescriptionStyleModel",
      "state": {
       "description_width": ""
      }
     },
     "6a341d5dbf404cd2b1f6d8995cebc520": {
      "model_module": "@jupyter-widgets/controls",
      "model_module_version": "1.5.0",
      "model_name": "ButtonStyleModel",
      "state": {
       "font_weight": "bold"
      }
     },
     "6abf0d191c254bd79b5c239dd27fc27b": {
      "model_module": "@jupyter-widgets/base",
      "model_module_version": "1.2.0",
      "model_name": "LayoutModel",
      "state": {
       "height": "30px",
       "max_width": "30px",
       "padding": "3px"
      }
     },
     "6ad51a4ce94e494cac73110808fe1adf": {
      "model_module": "@jupyter-widgets/controls",
      "model_module_version": "1.5.0",
      "model_name": "CheckboxModel",
      "state": {
       "disabled": false,
       "indent": false,
       "layout": "IPY_MODEL_9b580a81b88e498290827fe2092a2dea",
       "style": "IPY_MODEL_151d7e8f6acf4af5be274126a0116fa1",
       "value": false
      }
     },
     "6aec8d974faa4bc1ae0d1d80c20e3115": {
      "model_module": "@jupyter-widgets/base",
      "model_module_version": "1.2.0",
      "model_name": "LayoutModel",
      "state": {}
     },
     "6b28a2cd9c4a484197dbda2d7aa8be04": {
      "model_module": "@jupyter-widgets/base",
      "model_module_version": "1.2.0",
      "model_name": "LayoutModel",
      "state": {
       "height": "30px",
       "width": "auto"
      }
     },
     "6b34ea8d24f8408bb7350c5cdf510104": {
      "model_module": "@jupyter-widgets/controls",
      "model_module_version": "1.5.0",
      "model_name": "ButtonStyleModel",
      "state": {
       "font_weight": "bold"
      }
     },
     "6b964e68e0624546b5cd196069205967": {
      "model_module": "@jupyter-widgets/controls",
      "model_module_version": "1.5.0",
      "model_name": "ButtonModel",
      "state": {
       "button_style": "info",
       "description": "show source code",
       "layout": "IPY_MODEL_d2b11893ba6c4e08b17ed884b935b763",
       "style": "IPY_MODEL_900abd0ea3114ef48e56a237b38a8a57",
       "tooltip": "shows the raw python code in the preview window below"
      }
     },
     "6bf962af5e45481c82705fce543bd4ea": {
      "model_module": "@jupyter-widgets/controls",
      "model_module_version": "1.5.0",
      "model_name": "AccordionModel",
      "state": {
       "_titles": {
        "0": "docx_to_pdf"
       },
       "children": [
        "IPY_MODEL_c15baa0ddb054f22af139fc27055951e"
       ],
       "layout": "IPY_MODEL_3724d6c5656f4083837249fc2c42e144",
       "selected_index": null
      }
     },
     "6c364251782840499c48f078e6cb6dd6": {
      "model_module": "@jupyter-widgets/controls",
      "model_module_version": "1.5.0",
      "model_name": "VBoxModel",
      "state": {
       "children": [
        "IPY_MODEL_b95042fbb77e4725acd371a04f007182",
        "IPY_MODEL_b02980685cef469fa3209c32d4799a3e",
        "IPY_MODEL_7b07648bbed94989a59b8aa1d20f7e28"
       ],
       "layout": "IPY_MODEL_0a71c7ef42174e499cbe95227eb46f59"
      }
     },
     "6c4b971669ea4b5c8d056a4ebdd43528": {
      "model_module": "@jupyter-widgets/controls",
      "model_module_version": "1.5.0",
      "model_name": "BoxModel",
      "state": {
       "children": [
        "IPY_MODEL_cbc3eb8ce99e46e986a0a1aa82c4b9a3"
       ],
       "layout": "IPY_MODEL_b25b7a6ed93441cdb43ac40172709467"
      }
     },
     "6c57b439dd5546b7aa0a50a7eb1ed151": {
      "model_module": "@jupyter-widgets/base",
      "model_module_version": "1.2.0",
      "model_name": "LayoutModel",
      "state": {
       "width": "100%"
      }
     },
     "6ced570344e9491e8a27a0fa8bf81cab": {
      "model_module": "@jupyter-widgets/controls",
      "model_module_version": "1.5.0",
      "model_name": "DescriptionStyleModel",
      "state": {
       "description_width": ""
      }
     },
     "6d706f998d494e628cfb4bda664819b7": {
      "model_module": "@jupyter-widgets/base",
      "model_module_version": "1.2.0",
      "model_name": "LayoutModel",
      "state": {}
     },
     "6d78cc1fa3d64e82835a2c0f9581855d": {
      "model_module": "@jupyter-widgets/base",
      "model_module_version": "1.2.0",
      "model_name": "LayoutModel",
      "state": {}
     },
     "6daaf1440b614967b3fdbf1907f7b18f": {
      "model_module": "@jupyter-widgets/controls",
      "model_module_version": "1.5.0",
      "model_name": "VBoxModel",
      "state": {
       "children": [
        "IPY_MODEL_5f9bc09b1e78485397991c37f6da7922",
        "IPY_MODEL_1bc5a9cdd2ba408c9aec83e575b10226",
        "IPY_MODEL_5e40ec02681745bdace73a723a11ddce"
       ],
       "layout": "IPY_MODEL_99ae34a9f3f84a7983af7569840d23c6"
      }
     },
     "6dbf906f1a3e47abad57745e64fb0ec2": {
      "model_module": "@jupyter-widgets/controls",
      "model_module_version": "1.5.0",
      "model_name": "ButtonModel",
      "state": {
       "button_style": "info",
       "description": "show source code",
       "layout": "IPY_MODEL_98ac2935cc2546dd9b1cdd691a28e372",
       "style": "IPY_MODEL_02c40c355ca54ff3bab77c71df34117c",
       "tooltip": "shows the raw python code in the preview window below"
      }
     },
     "6dc0a80106c74297bde8d45d99228332": {
      "model_module": "@jupyter-widgets/controls",
      "model_module_version": "1.5.0",
      "model_name": "CheckboxModel",
      "state": {
       "disabled": false,
       "indent": false,
       "layout": "IPY_MODEL_c8a382ff9b3b4e37bd27228c3777cffd",
       "style": "IPY_MODEL_2f99c059007c48688347061f50533616",
       "value": false
      }
     },
     "6dfd33843b034277a482b2093ea1d08b": {
      "model_module": "@jupyter-widgets/controls",
      "model_module_version": "1.5.0",
      "model_name": "ButtonModel",
      "state": {
       "button_style": "success",
       "description": "run batch",
       "layout": "IPY_MODEL_99613e9eea0844bca6e4ee0e404e73d5",
       "style": "IPY_MODEL_407fed5d93d4481782ceba3414250de3",
       "tooltip": "execute checked processes below"
      }
     },
     "6e46c2d01c6d43c791bb1051b6b436f3": {
      "model_module": "@jupyter-widgets/base",
      "model_module_version": "1.2.0",
      "model_name": "LayoutModel",
      "state": {
       "height": "30px",
       "width": "auto"
      }
     },
     "6e48bc1140e447c7bd6097349855b394": {
      "model_module": "@jupyter-widgets/controls",
      "model_module_version": "1.5.0",
      "model_name": "ButtonModel",
      "state": {
       "button_style": "info",
       "description": "show guide",
       "layout": "IPY_MODEL_6073b73042904e43a806b28d71204582",
       "style": "IPY_MODEL_daa1937e1c5247ac9a5d7b81ce573f5b",
       "tooltip": "read the \"docstring\", ie. the documentation that was written to accompany the script"
      }
     },
     "6e5fea40d34b4979a8f8f2311f5d8423": {
      "model_module": "@jupyter-widgets/output",
      "model_module_version": "1.0.0",
      "model_name": "OutputModel",
      "state": {
       "layout": "IPY_MODEL_401826ffa00b4038bf58a78e871dbe34"
      }
     },
     "6e72ee0a2a804f35ac37e1c8096cef66": {
      "model_module": "@jupyter-widgets/base",
      "model_module_version": "1.2.0",
      "model_name": "LayoutModel",
      "state": {
       "width": "5%"
      }
     },
     "6e73e63dfc824114a59b0a180198e01f": {
      "model_module": "@jupyter-widgets/controls",
      "model_module_version": "1.5.0",
      "model_name": "DescriptionStyleModel",
      "state": {
       "description_width": ""
      }
     },
     "6ea813ca233543c1a831d2b20fc35121": {
      "model_module": "@jupyter-widgets/base",
      "model_module_version": "1.2.0",
      "model_name": "LayoutModel",
      "state": {
       "border": "0px",
       "margin": "0px",
       "padding": "0px"
      }
     },
     "6eb0210982e94cf8909c4ccb426d85c6": {
      "model_module": "@jupyter-widgets/base",
      "model_module_version": "1.2.0",
      "model_name": "LayoutModel",
      "state": {}
     },
     "6ec3ac62dfe342fb83f936185dd6309e": {
      "model_module": "@jupyter-widgets/controls",
      "model_module_version": "1.5.0",
      "model_name": "ButtonModel",
      "state": {
       "icon": "eye-slash",
       "layout": "IPY_MODEL_786cb65e06d1412a880fdfadb8ab492a",
       "style": "IPY_MODEL_af1d583d5b104dd1aee5e24669cf70da",
       "tooltip": "removes temporary output view"
      }
     },
     "6f8cb1941fe94406805947d8d35386d6": {
      "model_module": "@jupyter-widgets/base",
      "model_module_version": "1.2.0",
      "model_name": "LayoutModel",
      "state": {}
     },
     "701a650ae645490d950eb4fbc664a548": {
      "model_module": "@jupyter-widgets/controls",
      "model_module_version": "1.5.0",
      "model_name": "DescriptionStyleModel",
      "state": {
       "description_width": ""
      }
     },
     "7046487d0de9422f9c37aa206e5fa11d": {
      "model_module": "@jupyter-widgets/controls",
      "model_module_version": "1.5.0",
      "model_name": "ToggleButtonModel",
      "state": {
       "button_style": "info",
       "description": "inputs from file",
       "layout": "IPY_MODEL_0ffe1e7fd24e4df498658f6362153541",
       "style": "IPY_MODEL_ad21510736a24b8cabf84b30e7521187"
      }
     },
     "7085707e66384c72a7f6c55700a1ef34": {
      "model_module": "@jupyter-widgets/base",
      "model_module_version": "1.2.0",
      "model_name": "LayoutModel",
      "state": {
       "height": "30px",
       "max_width": "30px",
       "padding": "3px"
      }
     },
     "715c3c5493b04b78b11e8730c8ae3729": {
      "model_module": "@jupyter-widgets/base",
      "model_module_version": "1.2.0",
      "model_name": "LayoutModel",
      "state": {}
     },
     "717c5cb4635644f2aec429e5f2544a65": {
      "model_module": "@jupyter-widgets/controls",
      "model_module_version": "1.5.0",
      "model_name": "ButtonModel",
      "state": {
       "icon": "question-circle",
       "layout": "IPY_MODEL_6e72ee0a2a804f35ac37e1c8096cef66",
       "style": "IPY_MODEL_8a12eb61fdfb404eae814cf75e82b8ed",
       "tooltip": "describes the functionality of elements in the RunApp interface"
      }
     },
     "72129d13df4f47c19b071c6dfe20f46a": {
      "model_module": "@jupyter-widgets/controls",
      "model_module_version": "1.5.0",
      "model_name": "ButtonModel",
      "state": {
       "button_style": "warning",
       "description": "edit inputs",
       "layout": "IPY_MODEL_ec9dcfd0b0e94c83b2690fb15457b7bc",
       "style": "IPY_MODEL_98f4a2794ada4929a769a309391b80ea",
       "tooltip": "edit the user input information that is used when the script is executed"
      }
     },
     "721a6db20b454b3da1629c85c3a24c34": {
      "model_module": "@jupyter-widgets/base",
      "model_module_version": "1.2.0",
      "model_name": "LayoutModel",
      "state": {}
     },
     "7229e7da230748ef93affc53863d57b8": {
      "model_module": "@jupyter-widgets/base",
      "model_module_version": "1.2.0",
      "model_name": "LayoutModel",
      "state": {}
     },
     "7245b21042b2409f8f1de2e5132a7049": {
      "model_module": "@jupyter-widgets/controls",
      "model_module_version": "1.5.0",
      "model_name": "ButtonModel",
      "state": {
       "button_style": "info",
       "description": "show guide",
       "layout": "IPY_MODEL_39af23d0182c48319f9214e33487fc65",
       "style": "IPY_MODEL_96aa9330a0ac415790f3013fa48109f3",
       "tooltip": "read the \"docstring\", ie. the documentation that was written to accompany the script"
      }
     },
     "732bc26e56c44a338b4d4744db566692": {
      "model_module": "@jupyter-widgets/controls",
      "model_module_version": "1.5.0",
      "model_name": "ButtonStyleModel",
      "state": {
       "font_weight": "bold"
      }
     },
     "73320ebcbc2a41eb88c3b6287da6f882": {
      "model_module": "@jupyter-widgets/base",
      "model_module_version": "1.2.0",
      "model_name": "LayoutModel",
      "state": {}
     },
     "739c77a977504e36aa6c6ac2aea263fb": {
      "model_module": "@jupyter-widgets/controls",
      "model_module_version": "1.5.0",
      "model_name": "ButtonStyleModel",
      "state": {
       "font_weight": "bold"
      }
     },
     "73be34f36ee7401d8f91ca7a00fca350": {
      "model_module": "@jupyter-widgets/controls",
      "model_module_version": "1.5.0",
      "model_name": "DescriptionStyleModel",
      "state": {
       "description_width": ""
      }
     },
     "73ca8678f75b41e08d78e666ec99f774": {
      "model_module": "@jupyter-widgets/base",
      "model_module_version": "1.2.0",
      "model_name": "LayoutModel",
      "state": {
       "width": "100%"
      }
     },
     "74d744658b004a16a18c63319a8e81c4": {
      "model_module": "@jupyter-widgets/base",
      "model_module_version": "1.2.0",
      "model_name": "LayoutModel",
      "state": {
       "height": "30px",
       "width": "auto"
      }
     },
     "74fc265cbd634ba5959bfe5555d310c5": {
      "model_module": "@jupyter-widgets/controls",
      "model_module_version": "1.5.0",
      "model_name": "DescriptionStyleModel",
      "state": {
       "description_width": ""
      }
     },
     "75181996e5c64336866c19a7e148708d": {
      "model_module": "@jupyter-widgets/controls",
      "model_module_version": "1.5.0",
      "model_name": "TextModel",
      "state": {
       "description": "inputs",
       "disabled": true,
       "layout": "IPY_MODEL_53cdf064e7c24617b8d2818d43bbd21d",
       "style": "IPY_MODEL_ced439315e0847519e48cd52d617b9d5",
       "value": "C:\\engDev\\git_mf\\ipyrun\\ipyrun\\notebooks\\appdata\\inputs\\inputs-eplus_pipework_params.csv"
      }
     },
     "753ac1923dc34822854ab65e132ea7ad": {
      "model_module": "@jupyter-widgets/controls",
      "model_module_version": "1.5.0",
      "model_name": "ButtonModel",
      "state": {
       "button_style": "success",
       "description": "run",
       "layout": "IPY_MODEL_18312eeeb20c458696b6545963293951",
       "style": "IPY_MODEL_bf2e5b24560d455591507242ae7078b0",
       "tooltip": "execute the script based on the user inputs"
      }
     },
     "755d9bf07e164530a65bfa3b65737459": {
      "model_module": "@jupyter-widgets/controls",
      "model_module_version": "1.5.0",
      "model_name": "DescriptionStyleModel",
      "state": {
       "description_width": ""
      }
     },
     "757e21b2cb3e4dff8b1fba974cb044dc": {
      "model_module": "@jupyter-widgets/base",
      "model_module_version": "1.2.0",
      "model_name": "LayoutModel",
      "state": {}
     },
     "7586f3c20aa44a6d9249f6860bea3ccb": {
      "model_module": "@jupyter-widgets/controls",
      "model_module_version": "1.5.0",
      "model_name": "ButtonModel",
      "state": {
       "button_style": "warning",
       "description": "edit inputs",
       "layout": "IPY_MODEL_30c69b157d464b5f9b9dda4cb70f32b1",
       "style": "IPY_MODEL_a256b81552404a729c1b3579dbf9d273",
       "tooltip": "edit the user input information that is used when the script is executed"
      }
     },
     "758dce8d31f249d18355a52de563073c": {
      "model_module": "@jupyter-widgets/base",
      "model_module_version": "1.2.0",
      "model_name": "LayoutModel",
      "state": {
       "height": "30px",
       "width": "auto"
      }
     },
     "76246a2d78334faa8f4e43ba65887e15": {
      "model_module": "@jupyter-widgets/controls",
      "model_module_version": "1.5.0",
      "model_name": "ButtonStyleModel",
      "state": {
       "font_weight": "bold"
      }
     },
     "764f141707eb47239868c130ae8ae6d8": {
      "model_module": "@jupyter-widgets/controls",
      "model_module_version": "1.5.0",
      "model_name": "ButtonModel",
      "state": {
       "button_style": "info",
       "description": "preview outputs",
       "layout": "IPY_MODEL_e3fc44af605348a88d87f61e996ef1e6",
       "style": "IPY_MODEL_f443476609244079ab678593e4e5ec40",
       "tooltip": "show a preview of the output files generated when the script runs"
      }
     },
     "765f71599d5d4de9a915864a54411285": {
      "model_module": "@jupyter-widgets/controls",
      "model_module_version": "1.5.0",
      "model_name": "DescriptionStyleModel",
      "state": {
       "description_width": ""
      }
     },
     "76eb29b0cd5b4733aca7ab4c5c6f80d6": {
      "model_module": "@jupyter-widgets/controls",
      "model_module_version": "1.5.0",
      "model_name": "ButtonStyleModel",
      "state": {
       "font_weight": "bold"
      }
     },
     "7701455de45845559e877a534d266bad": {
      "model_module": "@jupyter-widgets/controls",
      "model_module_version": "1.5.0",
      "model_name": "ButtonStyleModel",
      "state": {
       "font_weight": "bold"
      }
     },
     "770ce90af4ef4867bdf882aa8723c105": {
      "model_module": "@jupyter-widgets/controls",
      "model_module_version": "1.5.0",
      "model_name": "BoxModel",
      "state": {
       "children": [
        "IPY_MODEL_d0f3c38bac9f43749aac1f3a5f06d3c5"
       ],
       "layout": "IPY_MODEL_dcf4ef716f6748dfa5856cb25b4e712c"
      }
     },
     "777a3e98e19e49d7b23ff82c5851007e": {
      "model_module": "@jupyter-widgets/base",
      "model_module_version": "1.2.0",
      "model_name": "LayoutModel",
      "state": {
       "width": "100%"
      }
     },
     "77fbc57fab014df78192db1a4b446cda": {
      "model_module": "@jupyter-widgets/controls",
      "model_module_version": "1.5.0",
      "model_name": "TextModel",
      "state": {
       "description": "script",
       "disabled": true,
       "layout": "IPY_MODEL_ac6219888e314c02b1b779fa8aca8b6c",
       "style": "IPY_MODEL_d2ac2b9cef514cee9bb4854a259f5cd2",
       "value": "C:\\engDev\\git_mf\\MF_Toolbox\\dev\\mf_scripts\\docx_to_pdf.py"
      }
     },
     "783d68836e2c419da4638a34ebdf6325": {
      "model_module": "@jupyter-widgets/controls",
      "model_module_version": "1.5.0",
      "model_name": "ButtonStyleModel",
      "state": {
       "font_weight": "bold"
      }
     },
     "786cb65e06d1412a880fdfadb8ab492a": {
      "model_module": "@jupyter-widgets/base",
      "model_module_version": "1.2.0",
      "model_name": "LayoutModel",
      "state": {
       "width": "5%"
      }
     },
     "7928a977a11d45188c8960f5624ad115": {
      "model_module": "@jupyter-widgets/controls",
      "model_module_version": "1.5.0",
      "model_name": "DescriptionStyleModel",
      "state": {
       "description_width": ""
      }
     },
     "79290fd6e0bb4a5ea98eeecf002772fd": {
      "model_module": "@jupyter-widgets/base",
      "model_module_version": "1.2.0",
      "model_name": "LayoutModel",
      "state": {
       "height": "30px",
       "width": "auto"
      }
     },
     "794460bf0abe484ab91f597d7905d4fe": {
      "model_module": "@jupyter-widgets/controls",
      "model_module_version": "1.5.0",
      "model_name": "ButtonModel",
      "state": {
       "button_style": "info",
       "description": "preview outputs",
       "layout": "IPY_MODEL_721a6db20b454b3da1629c85c3a24c34",
       "style": "IPY_MODEL_1d1ce57cdeb9419196fdaf1fd6e759fe",
       "tooltip": "show a preview of the output files generated when the script runs"
      }
     },
     "79a2c0eccdb446f88f16542da7347b32": {
      "model_module": "@jupyter-widgets/base",
      "model_module_version": "1.2.0",
      "model_name": "LayoutModel",
      "state": {
       "border": "0px",
       "margin": "0px",
       "padding": "0px"
      }
     },
     "79dbc95a7d474d839f6a848f4616221a": {
      "model_module": "@jupyter-widgets/controls",
      "model_module_version": "1.5.0",
      "model_name": "ButtonStyleModel",
      "state": {
       "font_weight": "bold"
      }
     },
     "79f7612050bc432e94740eb2f8411d83": {
      "model_module": "@jupyter-widgets/base",
      "model_module_version": "1.2.0",
      "model_name": "LayoutModel",
      "state": {}
     },
     "7a7dbbcaa7d64880bda2425bba75720a": {
      "model_module": "@jupyter-widgets/controls",
      "model_module_version": "1.5.0",
      "model_name": "HBoxModel",
      "state": {
       "children": [
        "IPY_MODEL_ab67a9f2c50749bf8cb3c1d6e47082a5",
        "IPY_MODEL_9af0c552fd2442ec8cb97632dbf1e6fe"
       ],
       "layout": "IPY_MODEL_9be6ce29565d4c009c601cb37346dfd9"
      }
     },
     "7a9f64b3dea94e429254cc3ddaa03147": {
      "model_module": "@jupyter-widgets/controls",
      "model_module_version": "1.5.0",
      "model_name": "ButtonStyleModel",
      "state": {}
     },
     "7ab18a3905d3424bad8f838c45415660": {
      "model_module": "@jupyter-widgets/controls",
      "model_module_version": "1.5.0",
      "model_name": "HBoxModel",
      "state": {
       "children": [
        "IPY_MODEL_d2c767e3a4564054a041c467fa0fbf4d",
        "IPY_MODEL_e3db94282fef442a9871500f842d8d71",
        "IPY_MODEL_6dfd33843b034277a482b2093ea1d08b"
       ],
       "layout": "IPY_MODEL_cbb8a288e982472f8117db9e79c4c869"
      }
     },
     "7ad02ede5bf24e979ed721039bbdb98e": {
      "model_module": "@jupyter-widgets/controls",
      "model_module_version": "1.5.0",
      "model_name": "ButtonModel",
      "state": {
       "button_style": "warning",
       "description": "edit inputs",
       "layout": "IPY_MODEL_f879292de09e41c4905d070c4eb93030",
       "style": "IPY_MODEL_45a4632ee534454f90a318b04ddd18fd",
       "tooltip": "edit the user input information that is used when the script is executed"
      }
     },
     "7af82943d5d24002aab8cf0d6321965f": {
      "model_module": "@jupyter-widgets/base",
      "model_module_version": "1.2.0",
      "model_name": "LayoutModel",
      "state": {}
     },
     "7af9206bf3c9415c925ff54bc6562d4c": {
      "model_module": "@jupyter-widgets/controls",
      "model_module_version": "1.5.0",
      "model_name": "AccordionModel",
      "state": {
       "_titles": {
        "0": "docx_to_pdf"
       },
       "children": [
        "IPY_MODEL_e47cb1fd16a546179aaef4b1fae86ee0"
       ],
       "layout": "IPY_MODEL_6c57b439dd5546b7aa0a50a7eb1ed151",
       "selected_index": null
      }
     },
     "7b07648bbed94989a59b8aa1d20f7e28": {
      "model_module": "@jupyter-widgets/controls",
      "model_module_version": "1.5.0",
      "model_name": "SelectMultipleModel",
      "state": {
       "_options_labels": [
        "C:\\engDev\\git_mf\\ipyrun\\data\\external\\eplus_pipework_params.csv"
       ],
       "description": "outputs",
       "index": [],
       "layout": "IPY_MODEL_6b28a2cd9c4a484197dbda2d7aa8be04",
       "rows": 4,
       "style": "IPY_MODEL_765f71599d5d4de9a915864a54411285"
      }
     },
     "7b4af29f09514b8ea2cea6753340d8b3": {
      "model_module": "@jupyter-widgets/controls",
      "model_module_version": "1.5.0",
      "model_name": "DescriptionStyleModel",
      "state": {
       "description_width": ""
      }
     },
     "7b727a63b14841dba0a5ecc89fcea459": {
      "model_module": "@jupyter-widgets/controls",
      "model_module_version": "1.5.0",
      "model_name": "DescriptionStyleModel",
      "state": {
       "description_width": ""
      }
     },
     "7bae2adc3d2149ff8cd4c659445d7bfe": {
      "model_module": "@jupyter-widgets/base",
      "model_module_version": "1.2.0",
      "model_name": "LayoutModel",
      "state": {
       "border": "0px",
       "margin": "0px",
       "padding": "0px"
      }
     },
     "7ca280d3e3124a7fbaf490d5afe24bb7": {
      "model_module": "@jupyter-widgets/controls",
      "model_module_version": "1.5.0",
      "model_name": "ButtonModel",
      "state": {
       "icon": "eye-slash",
       "layout": "IPY_MODEL_8de10b36497043bea929279b6727284b",
       "style": "IPY_MODEL_595a35d527f14cb09775f847e7568a60",
       "tooltip": "removes temporary output view"
      }
     },
     "7caada5d4b714504a6f99df14b0bd4b8": {
      "model_module": "@jupyter-widgets/controls",
      "model_module_version": "1.5.0",
      "model_name": "TextModel",
      "state": {
       "description": "script",
       "disabled": true,
       "layout": "IPY_MODEL_973dc882dd954756a08d6811c70097f8",
       "style": "IPY_MODEL_c0acb799859a4439b43063698511300f",
       "value": "C:\\engDev\\git_mf\\MF_Toolbox\\dev\\mf_scripts\\docx_to_pdf.py"
      }
     },
     "7d12c485ba7c46ef82196f26c64dcf70": {
      "model_module": "@jupyter-widgets/base",
      "model_module_version": "1.2.0",
      "model_name": "LayoutModel",
      "state": {
       "height": "30px",
       "width": "auto"
      }
     },
     "7d2413fdbb704bbf8909b028efb8a172": {
      "model_module": "@jupyter-widgets/controls",
      "model_module_version": "1.5.0",
      "model_name": "DescriptionStyleModel",
      "state": {
       "description_width": ""
      }
     },
     "7d2984743dbb45498785cecfda0eddbf": {
      "model_module": "@jupyter-widgets/controls",
      "model_module_version": "1.5.0",
      "model_name": "ButtonModel",
      "state": {
       "button_style": "info",
       "description": "preview outputs",
       "layout": "IPY_MODEL_974c4f0b192f427392950e86268ba017",
       "style": "IPY_MODEL_7701455de45845559e877a534d266bad",
       "tooltip": "show a preview of the output files generated when the script runs"
      }
     },
     "7dd48ab49e06485cadf64ff926f2913b": {
      "model_module": "@jupyter-widgets/base",
      "model_module_version": "1.2.0",
      "model_name": "LayoutModel",
      "state": {
       "height": "30px",
       "width": "auto"
      }
     },
     "7e2fbc8f80db4083b5128f41daf0aa88": {
      "model_module": "@jupyter-widgets/base",
      "model_module_version": "1.2.0",
      "model_name": "LayoutModel",
      "state": {}
     },
     "7e444b0362984a4e88b317b4340680bc": {
      "model_module": "@jupyter-widgets/output",
      "model_module_version": "1.0.0",
      "model_name": "OutputModel",
      "state": {
       "layout": "IPY_MODEL_b1308cd562b44a2eadc2d8d640171b01"
      }
     },
     "7e6130acd0044935bf4549ccfe305c51": {
      "model_module": "@jupyter-widgets/controls",
      "model_module_version": "1.5.0",
      "model_name": "ButtonModel",
      "state": {
       "button_style": "info",
       "description": "show guide",
       "layout": "IPY_MODEL_0014db48ac1242748d7d26b65ca0e774",
       "style": "IPY_MODEL_40f87add26724d0e94f934cd318583cc",
       "tooltip": "read the \"docstring\", ie. the documentation that was written to accompany the script"
      }
     },
     "7eb01eae378f4556bd1ff244b0c7443d": {
      "model_module": "@jupyter-widgets/controls",
      "model_module_version": "1.5.0",
      "model_name": "ButtonModel",
      "state": {
       "button_style": "info",
       "description": "show log",
       "layout": "IPY_MODEL_eb7c40eb1bdc47faa43717c08a931d74",
       "style": "IPY_MODEL_f12e393b28494a3e8832ec9834987512",
       "tooltip": "show a log of when the script was executed to generate the outputs, and by who"
      }
     },
     "7eb5923c10d44531a8d9aa051469c818": {
      "model_module": "@jupyter-widgets/base",
      "model_module_version": "1.2.0",
      "model_name": "LayoutModel",
      "state": {}
     },
     "7ee44f70c8a54831a1f7324855d3587a": {
      "model_module": "@jupyter-widgets/controls",
      "model_module_version": "1.5.0",
      "model_name": "HBoxModel",
      "state": {
       "children": [
        "IPY_MODEL_fc7e175f65fd4291a6e2b43cd55adf7f",
        "IPY_MODEL_1e7e957e520e4dd4ba21dd9324265f6c",
        "IPY_MODEL_9894e891155941678c263b37dd6e86d2",
        "IPY_MODEL_985ed7c191694828aa0c2ab276ae4933",
        "IPY_MODEL_81ba1057376d4ee28a182bed54083054",
        "IPY_MODEL_487a28aa60a049ee9b173e38bea7ced3",
        "IPY_MODEL_93519e9a2d9a4072958448785c2aa60a"
       ],
       "layout": "IPY_MODEL_2b05474f4e9b4d9bbed1d687929a6829"
      }
     },
     "7f7f2bb17db04c1186958723a0517829": {
      "model_module": "@jupyter-widgets/controls",
      "model_module_version": "1.5.0",
      "model_name": "ButtonStyleModel",
      "state": {
       "font_weight": "bold"
      }
     },
     "803856057eef4452938b1c09729a7841": {
      "model_module": "@jupyter-widgets/controls",
      "model_module_version": "1.5.0",
      "model_name": "DescriptionStyleModel",
      "state": {
       "description_width": ""
      }
     },
     "804d25ade2094b2f8d1e3648454dbc86": {
      "model_module": "@jupyter-widgets/base",
      "model_module_version": "1.2.0",
      "model_name": "LayoutModel",
      "state": {}
     },
     "808c181f8fb24b8898f64884482dd77b": {
      "model_module": "@jupyter-widgets/base",
      "model_module_version": "1.2.0",
      "model_name": "LayoutModel",
      "state": {}
     },
     "80e4899e90a44e21863ac653c51baf0a": {
      "model_module": "@jupyter-widgets/controls",
      "model_module_version": "1.5.0",
      "model_name": "ButtonModel",
      "state": {
       "button_style": "warning",
       "description": "edit inputs",
       "layout": "IPY_MODEL_52e13a4dde3c4718a01846d33f4c3678",
       "style": "IPY_MODEL_d2af3f617d3e479fbf22d851d71f89ec",
       "tooltip": "edit the user input information that is used when the script is executed"
      }
     },
     "8186c47bf71f45b280d8e409ed62a0fa": {
      "model_module": "@jupyter-widgets/base",
      "model_module_version": "1.2.0",
      "model_name": "LayoutModel",
      "state": {}
     },
     "8199a878e1ce4470b115960072d656f5": {
      "model_module": "@jupyter-widgets/controls",
      "model_module_version": "1.5.0",
      "model_name": "ButtonModel",
      "state": {
       "button_style": "info",
       "description": "show guide",
       "layout": "IPY_MODEL_0d20611980fd422c8e8f2fb9d2a515c9",
       "style": "IPY_MODEL_032bed7d195145eba5522ef0a596f0e7",
       "tooltip": "read the \"docstring\", ie. the documentation that was written to accompany the script"
      }
     },
     "81ba1057376d4ee28a182bed54083054": {
      "model_module": "@jupyter-widgets/controls",
      "model_module_version": "1.5.0",
      "model_name": "ButtonModel",
      "state": {
       "button_style": "success",
       "description": "run",
       "layout": "IPY_MODEL_2cbee40c63174f8297fc8f4c85fff42f",
       "style": "IPY_MODEL_c3ed63d88b7f428581c37f9104c857bb",
       "tooltip": "execute the script based on the user inputs"
      }
     },
     "81c94bc90a714743a6570e6b30fc8b4b": {
      "model_module": "@jupyter-widgets/base",
      "model_module_version": "1.2.0",
      "model_name": "LayoutModel",
      "state": {}
     },
     "81e927ffde31487eae6d8a214d93822b": {
      "model_module": "@jupyter-widgets/controls",
      "model_module_version": "1.5.0",
      "model_name": "VBoxModel",
      "state": {
       "children": [
        "IPY_MODEL_dc1cbab9430645caa08cc53ea4381687",
        "IPY_MODEL_58edf6b9252c4a049856ecb105c23c10",
        "IPY_MODEL_9f0ca8ddbfc4484d81a97ee4438d3f1b"
       ],
       "layout": "IPY_MODEL_885436e4900e4b7f9243124b9ee43aee"
      }
     },
     "8215ce320d6b45c4a15d53b870af2c0e": {
      "model_module": "@jupyter-widgets/base",
      "model_module_version": "1.2.0",
      "model_name": "LayoutModel",
      "state": {
       "width": "5%"
      }
     },
     "82fd230a504846199518e5e6fcb7dfda": {
      "model_module": "@jupyter-widgets/controls",
      "model_module_version": "1.5.0",
      "model_name": "ButtonStyleModel",
      "state": {
       "font_weight": "bold"
      }
     },
     "833d564aae7e4d0e9f5bdaad41c031aa": {
      "model_module": "@jupyter-widgets/controls",
      "model_module_version": "1.5.0",
      "model_name": "AccordionModel",
      "state": {
       "_titles": {
        "0": "docx_to_pdf"
       },
       "children": [
        "IPY_MODEL_58675a6a6fa24312bcb845deebc81d7f"
       ],
       "layout": "IPY_MODEL_fb17cff4e9df45969d632e65ac55a737",
       "selected_index": null
      }
     },
     "8372614af01545df8448de615db0d8ee": {
      "model_module": "@jupyter-widgets/controls",
      "model_module_version": "1.5.0",
      "model_name": "ButtonStyleModel",
      "state": {
       "font_weight": "bold"
      }
     },
     "837d47ac5b8e4a8aaf266a95d240ad54": {
      "model_module": "@jupyter-widgets/controls",
      "model_module_version": "1.5.0",
      "model_name": "ButtonStyleModel",
      "state": {}
     },
     "8380b01008274b3ab578dd993b7d1acf": {
      "model_module": "@jupyter-widgets/controls",
      "model_module_version": "1.5.0",
      "model_name": "ButtonModel",
      "state": {
       "button_style": "warning",
       "description": "edit inputs",
       "layout": "IPY_MODEL_6944b1556dc44087bd481c9a546dbd2c",
       "style": "IPY_MODEL_ad1d776b86904aef889c2544b0a6202f",
       "tooltip": "edit the user input information that is used when the script is executed"
      }
     },
     "83d1afbd6e3e45c898641cd033bd1d44": {
      "model_module": "@jupyter-widgets/controls",
      "model_module_version": "1.5.0",
      "model_name": "DescriptionStyleModel",
      "state": {
       "description_width": ""
      }
     },
     "83dd4f6107584f319e3fa6751f1cfaaf": {
      "model_module": "@jupyter-widgets/output",
      "model_module_version": "1.0.0",
      "model_name": "OutputModel",
      "state": {
       "layout": "IPY_MODEL_6eb0210982e94cf8909c4ccb426d85c6"
      }
     },
     "83f5ef8d33d14f388bbf0aeb0a0b4499": {
      "model_module": "@jupyter-widgets/base",
      "model_module_version": "1.2.0",
      "model_name": "LayoutModel",
      "state": {}
     },
     "84b19d343f2c443daf1c2259d7e49cec": {
      "model_module": "@jupyter-widgets/controls",
      "model_module_version": "1.5.0",
      "model_name": "HBoxModel",
      "state": {
       "children": [
        "IPY_MODEL_508312324b4346e59913de5a664062f8",
        "IPY_MODEL_004abf4dd11448d0914e3e804d4188ba",
        "IPY_MODEL_d78f45a6a0384f44805ab2bde8c0e51f",
        "IPY_MODEL_d4f8f5ff57c04a48a94a4b656d1d6f62",
        "IPY_MODEL_5627192bb6d64c94b1e4cda66927b772",
        "IPY_MODEL_f699058f71924276b0f2379b0c3e24fc",
        "IPY_MODEL_17613e21216b44e895251e89c3433374"
       ],
       "layout": "IPY_MODEL_52adda8347aa49aca851d7fb7f4460fc"
      }
     },
     "852e3d38cb60462e847a75b5332f5f19": {
      "model_module": "@jupyter-widgets/controls",
      "model_module_version": "1.5.0",
      "model_name": "ButtonModel",
      "state": {
       "button_style": "success",
       "description": "run",
       "layout": "IPY_MODEL_bc9ed88613f9410c95e97fad4332fe65",
       "style": "IPY_MODEL_db32456a3e464d889c4c53d46f1e8e71",
       "tooltip": "execute the script based on the user inputs"
      }
     },
     "8542d2bc9ae147bb9e57ce6f623f4d5b": {
      "model_module": "@jupyter-widgets/controls",
      "model_module_version": "1.5.0",
      "model_name": "ButtonModel",
      "state": {
       "icon": "eye-slash",
       "layout": "IPY_MODEL_4d93f7ff16644f9a84c4152953a11821",
       "style": "IPY_MODEL_03b61f301d17433aac3f1087f734de44",
       "tooltip": "removes temporary output view"
      }
     },
     "86ffb1c69c1e40f4a3b6a088f173d82d": {
      "model_module": "@jupyter-widgets/base",
      "model_module_version": "1.2.0",
      "model_name": "LayoutModel",
      "state": {}
     },
     "87746f28e86b42fbb796f331a03d7a8a": {
      "model_module": "@jupyter-widgets/controls",
      "model_module_version": "1.5.0",
      "model_name": "ButtonStyleModel",
      "state": {
       "font_weight": "bold"
      }
     },
     "8775f19b31294b37a073c103fb9f4b5c": {
      "model_module": "@jupyter-widgets/controls",
      "model_module_version": "1.5.0",
      "model_name": "ButtonStyleModel",
      "state": {
       "font_weight": "bold"
      }
     },
     "879d963fbc47434892feda931cef599e": {
      "model_module": "@jupyter-widgets/controls",
      "model_module_version": "1.5.0",
      "model_name": "ButtonModel",
      "state": {
       "icon": "question-circle",
       "layout": "IPY_MODEL_63a312da01f34d628308c00cc4315721",
       "style": "IPY_MODEL_eef4c75fdab647e98675b609b8c08e8e",
       "tooltip": "describes the functionality of elements in the RunApp interface"
      }
     },
     "87e3492c68194aebbf4335a4bddeb3d9": {
      "model_module": "@jupyter-widgets/base",
      "model_module_version": "1.2.0",
      "model_name": "LayoutModel",
      "state": {
       "height": "30px",
       "width": "auto"
      }
     },
     "885436e4900e4b7f9243124b9ee43aee": {
      "model_module": "@jupyter-widgets/base",
      "model_module_version": "1.2.0",
      "model_name": "LayoutModel",
      "state": {}
     },
     "88b1ef6eafd04154b353930efc4927c1": {
      "model_module": "@jupyter-widgets/base",
      "model_module_version": "1.2.0",
      "model_name": "LayoutModel",
      "state": {}
     },
     "88d061753d6c473baa4e73697ce86a9f": {
      "model_module": "@jupyter-widgets/base",
      "model_module_version": "1.2.0",
      "model_name": "LayoutModel",
      "state": {}
     },
     "89886fdef74a4e4b93a64a57f1d1e74d": {
      "model_module": "@jupyter-widgets/output",
      "model_module_version": "1.0.0",
      "model_name": "OutputModel",
      "state": {
       "layout": "IPY_MODEL_c103d632db074cb986cd321b5e140d32"
      }
     },
     "89cd8bd0ff9440c6bd6494d374b56dbe": {
      "model_module": "@jupyter-widgets/controls",
      "model_module_version": "1.5.0",
      "model_name": "TextModel",
      "state": {
       "description": "script",
       "disabled": true,
       "layout": "IPY_MODEL_d509e6a9964c4744aca0ee8ffd5fb01c",
       "style": "IPY_MODEL_6404b1d5dd7c43aa96baa7630a208db1",
       "value": "C:\\engDev\\git_mf\\MF_Toolbox\\dev\\mf_scripts\\docx_to_pdf.py"
      }
     },
     "8a0cbf8fa4c04da08f20dcf1c238af33": {
      "model_module": "@jupyter-widgets/base",
      "model_module_version": "1.2.0",
      "model_name": "LayoutModel",
      "state": {}
     },
     "8a12eb61fdfb404eae814cf75e82b8ed": {
      "model_module": "@jupyter-widgets/controls",
      "model_module_version": "1.5.0",
      "model_name": "ButtonStyleModel",
      "state": {
       "font_weight": "bold"
      }
     },
     "8a55fd9fda764136881f983a110d8af2": {
      "model_module": "@jupyter-widgets/controls",
      "model_module_version": "1.5.0",
      "model_name": "VBoxModel",
      "state": {
       "children": [
        "IPY_MODEL_3544c90a64104a8f8c2f31e3e43b4a8d",
        "IPY_MODEL_bf1b011676c34b21af95f78f512ef338"
       ],
       "layout": "IPY_MODEL_f1dae7e749da4511948ccd5aeee94ff5"
      }
     },
     "8ac626a272c740dea0d85582cdcb8ce2": {
      "model_module": "@jupyter-widgets/controls",
      "model_module_version": "1.5.0",
      "model_name": "VBoxModel",
      "state": {
       "children": [
        "IPY_MODEL_9cbd23656c2c4d7c8dce67113719ad76",
        "IPY_MODEL_6daaf1440b614967b3fdbf1907f7b18f"
       ],
       "layout": "IPY_MODEL_6764aed57d8a47d4b42c6c1680c183ca"
      }
     },
     "8b969939d7ff4d82845ce2cba08dc010": {
      "model_module": "@jupyter-widgets/base",
      "model_module_version": "1.2.0",
      "model_name": "LayoutModel",
      "state": {
       "height": "30px",
       "width": "auto"
      }
     },
     "8bcff40b4a044580985c9af6b01cde38": {
      "model_module": "@jupyter-widgets/base",
      "model_module_version": "1.2.0",
      "model_name": "LayoutModel",
      "state": {
       "height": "30px",
       "max_width": "30px",
       "padding": "3px"
      }
     },
     "8c44575e2b814c5eb4c5d33a8ac08f8e": {
      "model_module": "@jupyter-widgets/controls",
      "model_module_version": "1.5.0",
      "model_name": "SelectMultipleModel",
      "state": {
       "_options_labels": [
        "C:\\engDev\\git_mf\\ipyrun\\data\\external\\eplus_pipework_params.csv"
       ],
       "description": "outputs",
       "index": [],
       "layout": "IPY_MODEL_fcbdd6a836094531a64b286325f1b67c",
       "rows": 4,
       "style": "IPY_MODEL_dbae81aff5d2446c888a2b529b3ed946"
      }
     },
     "8c4d1da560c04b72988d8cc7468e4b99": {
      "model_module": "@jupyter-widgets/controls",
      "model_module_version": "1.5.0",
      "model_name": "ButtonModel",
      "state": {
       "button_style": "warning",
       "description": "edit inputs",
       "layout": "IPY_MODEL_aa688ec934554f969eb4b6804b22c2f6",
       "style": "IPY_MODEL_76eb29b0cd5b4733aca7ab4c5c6f80d6",
       "tooltip": "edit the user input information that is used when the script is executed"
      }
     },
     "8c54828d3d9f47d1a9a541d86c9cd805": {
      "model_module": "@jupyter-widgets/controls",
      "model_module_version": "1.5.0",
      "model_name": "ButtonStyleModel",
      "state": {
       "font_weight": "bold"
      }
     },
     "8c6b5fd7e3a047a7a31b527bbdc4d83d": {
      "model_module": "@jupyter-widgets/controls",
      "model_module_version": "1.5.0",
      "model_name": "ButtonModel",
      "state": {
       "button_style": "info",
       "description": "show log",
       "layout": "IPY_MODEL_a4d68fc06ab041a1bb09ec8b20923eab",
       "style": "IPY_MODEL_69de3ec87d6f426a9fff6ead9db65a1d",
       "tooltip": "show a log of when the script was executed to generate the outputs, and by who"
      }
     },
     "8c8688e4bcf544e28b3e460f04837358": {
      "model_module": "@jupyter-widgets/base",
      "model_module_version": "1.2.0",
      "model_name": "LayoutModel",
      "state": {}
     },
     "8dd93492248a4b1dabb6ad9b46b5a528": {
      "model_module": "@jupyter-widgets/base",
      "model_module_version": "1.2.0",
      "model_name": "LayoutModel",
      "state": {
       "align_items": "stretch",
       "width": "100%"
      }
     },
     "8de10b36497043bea929279b6727284b": {
      "model_module": "@jupyter-widgets/base",
      "model_module_version": "1.2.0",
      "model_name": "LayoutModel",
      "state": {
       "width": "5%"
      }
     },
     "8df7beeb6f8a42a1a93653139b9f3197": {
      "model_module": "@jupyter-widgets/base",
      "model_module_version": "1.2.0",
      "model_name": "LayoutModel",
      "state": {}
     },
     "8e9e65a879b947e196623dcea4c3b412": {
      "model_module": "@jupyter-widgets/controls",
      "model_module_version": "1.5.0",
      "model_name": "ButtonModel",
      "state": {
       "icon": "question-circle",
       "layout": "IPY_MODEL_22f8b34fed6b4027ad27cb46be70ccbf",
       "style": "IPY_MODEL_659357a0a9034343ae652c7c944b59b7",
       "tooltip": "describes the functionality of elements in the RunApp interface"
      }
     },
     "8f0ff5ff3d094b5d95868a6afe2cf927": {
      "model_module": "@jupyter-widgets/base",
      "model_module_version": "1.2.0",
      "model_name": "LayoutModel",
      "state": {}
     },
     "8f71a400abc94c27ad1fcab1a471141a": {
      "model_module": "@jupyter-widgets/controls",
      "model_module_version": "1.5.0",
      "model_name": "TextModel",
      "state": {
       "description": "inputs",
       "disabled": true,
       "layout": "IPY_MODEL_cf80dc0f59c44afc83ce41acaa64518b",
       "style": "IPY_MODEL_919db5b7c51c43098865dc8c27eda1a2",
       "value": "C:\\engDev\\git_mf\\ipyrun\\ipyrun\\appdata\\inputs\\inputs-eplus_pipework_params.csv"
      }
     },
     "8f7d7a426cce48218a5f3b05c450965a": {
      "model_module": "@jupyter-widgets/controls",
      "model_module_version": "1.5.0",
      "model_name": "ButtonStyleModel",
      "state": {}
     },
     "8fac9307a066452da5fb580bea527a0b": {
      "model_module": "@jupyter-widgets/controls",
      "model_module_version": "1.5.0",
      "model_name": "TextModel",
      "state": {
       "description": "inputs",
       "disabled": true,
       "layout": "IPY_MODEL_125642aa30c74eb59b24bd938c955603",
       "style": "IPY_MODEL_17363f98ff3a45ce85b29c4337f7b5b9",
       "value": "C:\\engDev\\git_mf\\ipyrun\\ipyrun\\notebooks\\appdata\\inputs\\inputs-eplus_pipework_params.csv"
      }
     },
     "8faeec4c416f4756aced76125df82f67": {
      "model_module": "@jupyter-widgets/controls",
      "model_module_version": "1.5.0",
      "model_name": "HBoxModel",
      "state": {
       "children": [
        "IPY_MODEL_9ab0e49122e148999cdf5f9d4b177b28",
        "IPY_MODEL_833d564aae7e4d0e9f5bdaad41c031aa"
       ],
       "layout": "IPY_MODEL_467ce2ad66024cffb12a297b47756d9d"
      }
     },
     "900abd0ea3114ef48e56a237b38a8a57": {
      "model_module": "@jupyter-widgets/controls",
      "model_module_version": "1.5.0",
      "model_name": "ButtonStyleModel",
      "state": {}
     },
     "902843ef7f36478c911bd0a9dfe12530": {
      "model_module": "@jupyter-widgets/controls",
      "model_module_version": "1.5.0",
      "model_name": "ButtonStyleModel",
      "state": {
       "font_weight": "bold"
      }
     },
     "9064abe6a4674ee6bd3446c975d90f37": {
      "model_module": "@jupyter-widgets/controls",
      "model_module_version": "1.5.0",
      "model_name": "SelectMultipleModel",
      "state": {
       "_options_labels": [
        "C:\\engDev\\git_mf\\ipyrun\\data\\external\\eplus_pipework_params.csv"
       ],
       "description": "outputs",
       "index": [],
       "layout": "IPY_MODEL_b29ab1074a3b4b57bdc167ae257588f1",
       "rows": 4,
       "style": "IPY_MODEL_b3918c403ca54c4e84da3bb147439c86"
      }
     },
     "9115f829952a4f2e8a83c33b5b94a642": {
      "model_module": "@jupyter-widgets/controls",
      "model_module_version": "1.5.0",
      "model_name": "ButtonStyleModel",
      "state": {
       "font_weight": "bold"
      }
     },
     "912e63fade554fc1ab019e2acfc2113b": {
      "model_module": "@jupyter-widgets/base",
      "model_module_version": "1.2.0",
      "model_name": "LayoutModel",
      "state": {
       "width": "5%"
      }
     },
     "9199706c3adf4af3840b7bf0e06fa44c": {
      "model_module": "@jupyter-widgets/controls",
      "model_module_version": "1.5.0",
      "model_name": "ButtonStyleModel",
      "state": {
       "font_weight": "bold"
      }
     },
     "919db5b7c51c43098865dc8c27eda1a2": {
      "model_module": "@jupyter-widgets/controls",
      "model_module_version": "1.5.0",
      "model_name": "DescriptionStyleModel",
      "state": {
       "description_width": ""
      }
     },
     "91e0cff48d9d4ce292b5a188393919a2": {
      "model_module": "@jupyter-widgets/controls",
      "model_module_version": "1.5.0",
      "model_name": "ButtonStyleModel",
      "state": {}
     },
     "9206451c0fe74e32915fe624fc5f5169": {
      "model_module": "@jupyter-widgets/controls",
      "model_module_version": "1.5.0",
      "model_name": "ButtonStyleModel",
      "state": {
       "font_weight": "bold"
      }
     },
     "93114e08da0a40e38222f41c07120130": {
      "model_module": "@jupyter-widgets/base",
      "model_module_version": "1.2.0",
      "model_name": "LayoutModel",
      "state": {
       "display": "flex",
       "flex_flow": "row",
       "grid_auto_columns": "False",
       "justify_content": "flex-start",
       "width": "100%"
      }
     },
     "93519e9a2d9a4072958448785c2aa60a": {
      "model_module": "@jupyter-widgets/controls",
      "model_module_version": "1.5.0",
      "model_name": "ButtonModel",
      "state": {
       "button_style": "info",
       "description": "show log",
       "layout": "IPY_MODEL_328b2937a2c34ed6a8f8936e479ad950",
       "style": "IPY_MODEL_5072ff986407486b93d94be260a25d8f",
       "tooltip": "show a log of when the script was executed to generate the outputs, and by who"
      }
     },
     "937e9bb2b6d44eaeb84a49d0e388a895": {
      "model_module": "@jupyter-widgets/controls",
      "model_module_version": "1.5.0",
      "model_name": "HBoxModel",
      "state": {
       "children": [
        "IPY_MODEL_00ea9ed96f984cee86e16c2db3193ec6",
        "IPY_MODEL_bdfac08a689a4dc1bc95bbbed57e4042",
        "IPY_MODEL_28ac7988ce144d71b16bc0c7cbdd0b9a",
        "IPY_MODEL_7586f3c20aa44a6d9249f6860bea3ccb",
        "IPY_MODEL_852e3d38cb60462e847a75b5332f5f19",
        "IPY_MODEL_764f141707eb47239868c130ae8ae6d8",
        "IPY_MODEL_5ca7fc0af8ed42908395c17ea26750d5"
       ],
       "layout": "IPY_MODEL_63155d4ea52f417ebe3069ad834e2762"
      }
     },
     "93a1f15164f64f1eaada6bdd39aa1181": {
      "model_module": "@jupyter-widgets/controls",
      "model_module_version": "1.5.0",
      "model_name": "VBoxModel",
      "state": {
       "children": [
        "IPY_MODEL_8fac9307a066452da5fb580bea527a0b",
        "IPY_MODEL_cb2652d9002c4444aa011589895a3a40",
        "IPY_MODEL_d1f1f85327eb4d63afffd5acefc091b3"
       ],
       "layout": "IPY_MODEL_ff9ecf10caa343d8bd7f929cb9a47252"
      }
     },
     "9403b6c5979148cdad10a716e012dea7": {
      "model_module": "@jupyter-widgets/base",
      "model_module_version": "1.2.0",
      "model_name": "LayoutModel",
      "state": {
       "height": "30px",
       "width": "auto"
      }
     },
     "9432c355cbad4921a06cfb73160a19dd": {
      "model_module": "@jupyter-widgets/base",
      "model_module_version": "1.2.0",
      "model_name": "LayoutModel",
      "state": {
       "height": "auto",
       "width": "auto"
      }
     },
     "9454a37f8a3a4d6f8a00873651dfbb06": {
      "model_module": "@jupyter-widgets/controls",
      "model_module_version": "1.5.0",
      "model_name": "DescriptionStyleModel",
      "state": {
       "description_width": ""
      }
     },
     "9638035057c1461d8e884e086e41fc42": {
      "model_module": "@jupyter-widgets/base",
      "model_module_version": "1.2.0",
      "model_name": "LayoutModel",
      "state": {}
     },
     "96aa9330a0ac415790f3013fa48109f3": {
      "model_module": "@jupyter-widgets/controls",
      "model_module_version": "1.5.0",
      "model_name": "ButtonStyleModel",
      "state": {
       "font_weight": "bold"
      }
     },
     "971cd03a100a47c6b24d135be8c0ce7b": {
      "model_module": "@jupyter-widgets/controls",
      "model_module_version": "1.5.0",
      "model_name": "HBoxModel",
      "state": {
       "children": [
        "IPY_MODEL_c687fd82b47c4c0c9550fcef194ead8d",
        "IPY_MODEL_e1ff084a03b046a4b15e46fe840c4b40",
        "IPY_MODEL_d9ec478bfe2b42ba975e084e035884e0"
       ],
       "layout": "IPY_MODEL_ce79687e964442ab880257706ea3567b"
      }
     },
     "973dc882dd954756a08d6811c70097f8": {
      "model_module": "@jupyter-widgets/base",
      "model_module_version": "1.2.0",
      "model_name": "LayoutModel",
      "state": {
       "height": "30px",
       "width": "auto"
      }
     },
     "974c4f0b192f427392950e86268ba017": {
      "model_module": "@jupyter-widgets/base",
      "model_module_version": "1.2.0",
      "model_name": "LayoutModel",
      "state": {}
     },
     "974ee325214b4b2099db0703269298d5": {
      "model_module": "@jupyter-widgets/controls",
      "model_module_version": "1.5.0",
      "model_name": "AccordionModel",
      "state": {
       "_titles": {
        "0": "eplus_pipework_params"
       },
       "children": [
        "IPY_MODEL_8a55fd9fda764136881f983a110d8af2"
       ],
       "layout": "IPY_MODEL_73ca8678f75b41e08d78e666ec99f774",
       "selected_index": null
      }
     },
     "9752e88431d4490a8b815b01c2dbf6b1": {
      "model_module": "@jupyter-widgets/controls",
      "model_module_version": "1.5.0",
      "model_name": "ButtonModel",
      "state": {
       "icon": "eye-slash",
       "layout": "IPY_MODEL_9df27b361df44c1d8d411d3956d3a014",
       "style": "IPY_MODEL_68627afc22b34db59b31b0f9edfd5b01",
       "tooltip": "removes temporary output view"
      }
     },
     "9786251491ea46b0bebf5ed952262a8a": {
      "model_module": "@jupyter-widgets/base",
      "model_module_version": "1.2.0",
      "model_name": "LayoutModel",
      "state": {}
     },
     "97e6bdc4d6d94620a8e78475a2d322b6": {
      "model_module": "@jupyter-widgets/base",
      "model_module_version": "1.2.0",
      "model_name": "LayoutModel",
      "state": {}
     },
     "9839cd9d02994bd89b55f8da0c7ec883": {
      "model_module": "@jupyter-widgets/controls",
      "model_module_version": "1.5.0",
      "model_name": "TextModel",
      "state": {
       "description": "inputs",
       "disabled": true,
       "layout": "IPY_MODEL_cf15576b8b5347378020baf83c7daa6d",
       "style": "IPY_MODEL_46c2f6733cf74cf7bf6b9cb8b77c9e61",
       "value": "C:\\engDev\\git_mf\\ipyrun\\ipyrun\\appdata\\inputs\\inputs-docx_to_pdf.json"
      }
     },
     "985ed7c191694828aa0c2ab276ae4933": {
      "model_module": "@jupyter-widgets/controls",
      "model_module_version": "1.5.0",
      "model_name": "ButtonModel",
      "state": {
       "button_style": "warning",
       "description": "edit inputs",
       "layout": "IPY_MODEL_6083da7fdf9049bcb67f9b17069a6900",
       "style": "IPY_MODEL_fe1a74b90cdc43e2ae5845fd968d422b",
       "tooltip": "edit the user input information that is used when the script is executed"
      }
     },
     "98842ad2e29e4d79b73eb62637340139": {
      "model_module": "@jupyter-widgets/controls",
      "model_module_version": "1.5.0",
      "model_name": "ButtonModel",
      "state": {
       "button_style": "info",
       "description": "preview outputs",
       "layout": "IPY_MODEL_5565cba7ecc2463882f2ea222ae705cd",
       "style": "IPY_MODEL_5683c948211a4a60922a61c6b8815fb6",
       "tooltip": "show a preview of the output files generated when the script runs"
      }
     },
     "98853b1639eb4a54a7a25c679e1d3cec": {
      "model_module": "@jupyter-widgets/base",
      "model_module_version": "1.2.0",
      "model_name": "LayoutModel",
      "state": {}
     },
     "9894e891155941678c263b37dd6e86d2": {
      "model_module": "@jupyter-widgets/controls",
      "model_module_version": "1.5.0",
      "model_name": "ButtonModel",
      "state": {
       "button_style": "info",
       "description": "show guide",
       "layout": "IPY_MODEL_a94745af557f4db39f0bb6f06a73561e",
       "style": "IPY_MODEL_033c5749d6d24f10ba5aedb5a0a77030",
       "tooltip": "read the \"docstring\", ie. the documentation that was written to accompany the script"
      }
     },
     "98ac2935cc2546dd9b1cdd691a28e372": {
      "model_module": "@jupyter-widgets/base",
      "model_module_version": "1.2.0",
      "model_name": "LayoutModel",
      "state": {}
     },
     "98b5069f2be9480cbc26f2fe87800abb": {
      "model_module": "@jupyter-widgets/controls",
      "model_module_version": "1.5.0",
      "model_name": "ButtonModel",
      "state": {
       "button_style": "info",
       "description": "show source code",
       "layout": "IPY_MODEL_ebb49d1f870e49f884b6fe08529533d7",
       "style": "IPY_MODEL_4b17d8fe5a9a47cfa1d69b5afddf9942",
       "tooltip": "shows the raw python code in the preview window below"
      }
     },
     "98f4a2794ada4929a769a309391b80ea": {
      "model_module": "@jupyter-widgets/controls",
      "model_module_version": "1.5.0",
      "model_name": "ButtonStyleModel",
      "state": {
       "font_weight": "bold"
      }
     },
     "99613e9eea0844bca6e4ee0e404e73d5": {
      "model_module": "@jupyter-widgets/base",
      "model_module_version": "1.2.0",
      "model_name": "LayoutModel",
      "state": {}
     },
     "99ae34a9f3f84a7983af7569840d23c6": {
      "model_module": "@jupyter-widgets/base",
      "model_module_version": "1.2.0",
      "model_name": "LayoutModel",
      "state": {
       "align_items": "stretch",
       "width": "100%"
      }
     },
     "9a445cff6b0f47baa2decaab2f64cb9c": {
      "model_module": "@jupyter-widgets/base",
      "model_module_version": "1.2.0",
      "model_name": "LayoutModel",
      "state": {}
     },
     "9ab0e49122e148999cdf5f9d4b177b28": {
      "model_module": "@jupyter-widgets/controls",
      "model_module_version": "1.5.0",
      "model_name": "CheckboxModel",
      "state": {
       "disabled": false,
       "indent": false,
       "layout": "IPY_MODEL_8bcff40b4a044580985c9af6b01cde38",
       "style": "IPY_MODEL_7b4af29f09514b8ea2cea6753340d8b3",
       "value": false
      }
     },
     "9ac0258a6c644af79783edaf0a7edf71": {
      "model_module": "@jupyter-widgets/controls",
      "model_module_version": "1.5.0",
      "model_name": "HBoxModel",
      "state": {
       "children": [
        "IPY_MODEL_622d97cd086047abba335f2325196236",
        "IPY_MODEL_2096fc4b1c3f444fbe8265ad5f91ee05",
        "IPY_MODEL_e237131176b54286a74085a7b3952abd"
       ],
       "layout": "IPY_MODEL_2cfa486a884d4b5497276f312505e016"
      }
     },
     "9af0c552fd2442ec8cb97632dbf1e6fe": {
      "model_module": "@jupyter-widgets/controls",
      "model_module_version": "1.5.0",
      "model_name": "AccordionModel",
      "state": {
       "_titles": {
        "0": "eplus_pipework_params"
       },
       "children": [
        "IPY_MODEL_43ec1b40b916482c8049eada436eaf7c"
       ],
       "layout": "IPY_MODEL_39f4e79c8fdb4467817e8fa96b2d8afe",
       "selected_index": null
      }
     },
     "9b580a81b88e498290827fe2092a2dea": {
      "model_module": "@jupyter-widgets/base",
      "model_module_version": "1.2.0",
      "model_name": "LayoutModel",
      "state": {
       "height": "30px",
       "max_width": "30px",
       "padding": "3px"
      }
     },
     "9bd8be5d70e94390bacc3326925e38b0": {
      "model_module": "@jupyter-widgets/base",
      "model_module_version": "1.2.0",
      "model_name": "LayoutModel",
      "state": {}
     },
     "9bdebb35513145d9a8a7f11892d5d4ea": {
      "model_module": "@jupyter-widgets/base",
      "model_module_version": "1.2.0",
      "model_name": "LayoutModel",
      "state": {
       "height": "30px",
       "width": "auto"
      }
     },
     "9be5f22dda6c457a918146d8d85e3cc6": {
      "model_module": "@jupyter-widgets/base",
      "model_module_version": "1.2.0",
      "model_name": "LayoutModel",
      "state": {}
     },
     "9be6ce29565d4c009c601cb37346dfd9": {
      "model_module": "@jupyter-widgets/base",
      "model_module_version": "1.2.0",
      "model_name": "LayoutModel",
      "state": {
       "border": "0px",
       "margin": "0px",
       "padding": "0px"
      }
     },
     "9c6b9f00cb82460fbc4eaffce4be0b7f": {
      "model_module": "@jupyter-widgets/controls",
      "model_module_version": "1.5.0",
      "model_name": "ButtonModel",
      "state": {
       "button_style": "info",
       "description": "show source code",
       "layout": "IPY_MODEL_f630c17757ef44378ea204293f87258f",
       "style": "IPY_MODEL_8f7d7a426cce48218a5f3b05c450965a",
       "tooltip": "shows the raw python code in the preview window below"
      }
     },
     "9c7e98e7437543bfa14b3627c732dfcb": {
      "model_module": "@jupyter-widgets/controls",
      "model_module_version": "1.5.0",
      "model_name": "BoxModel",
      "state": {
       "children": [
        "IPY_MODEL_d72d01abfbaa44c598ca4362c2b66b46"
       ],
       "layout": "IPY_MODEL_b6e50133974f49648a9f245bf7061f1a"
      }
     },
     "9c96e8910fa64f388c62a3cafae5e409": {
      "model_module": "@jupyter-widgets/base",
      "model_module_version": "1.2.0",
      "model_name": "LayoutModel",
      "state": {
       "align_items": "stretch",
       "width": "100%"
      }
     },
     "9cbc6e1a64434cc08cf2168457e1224b": {
      "model_module": "@jupyter-widgets/controls",
      "model_module_version": "1.5.0",
      "model_name": "ButtonStyleModel",
      "state": {
       "font_weight": "bold"
      }
     },
     "9cbd23656c2c4d7c8dce67113719ad76": {
      "model_module": "@jupyter-widgets/controls",
      "model_module_version": "1.5.0",
      "model_name": "BoxModel",
      "state": {
       "children": [
        "IPY_MODEL_649fc2fa1bab4893b59c1c7bc5a131e8"
       ],
       "layout": "IPY_MODEL_83f5ef8d33d14f388bbf0aeb0a0b4499"
      }
     },
     "9df27b361df44c1d8d411d3956d3a014": {
      "model_module": "@jupyter-widgets/base",
      "model_module_version": "1.2.0",
      "model_name": "LayoutModel",
      "state": {
       "width": "5%"
      }
     },
     "9e5b82c07e184fc68ff501af513cef42": {
      "model_module": "@jupyter-widgets/base",
      "model_module_version": "1.2.0",
      "model_name": "LayoutModel",
      "state": {
       "display": "flex",
       "flex_flow": "row",
       "grid_auto_columns": "False",
       "justify_content": "flex-start",
       "width": "100%"
      }
     },
     "9e642e09ae8a40d5a9154dfa2ce591ef": {
      "model_module": "@jupyter-widgets/controls",
      "model_module_version": "1.5.0",
      "model_name": "HBoxModel",
      "state": {
       "children": [
        "IPY_MODEL_ee473feef0f54728b44ee001580892c4",
        "IPY_MODEL_15d8a8b54b2043fdb9f3c86dec642647"
       ],
       "layout": "IPY_MODEL_79a2c0eccdb446f88f16542da7347b32"
      }
     },
     "9e70837fb6604dc78a3c569815c21bea": {
      "model_module": "@jupyter-widgets/controls",
      "model_module_version": "1.5.0",
      "model_name": "HBoxModel",
      "state": {
       "children": [
        "IPY_MODEL_6dc0a80106c74297bde8d45d99228332",
        "IPY_MODEL_974ee325214b4b2099db0703269298d5"
       ],
       "layout": "IPY_MODEL_24882589fd4042639d09a65996dd325a"
      }
     },
     "9ead11a35d664febb83093801e594ca4": {
      "model_module": "@jupyter-widgets/base",
      "model_module_version": "1.2.0",
      "model_name": "LayoutModel",
      "state": {
       "width": "100%"
      }
     },
     "9eee231634a84c889c3095b6fbde595a": {
      "model_module": "@jupyter-widgets/controls",
      "model_module_version": "1.5.0",
      "model_name": "ButtonStyleModel",
      "state": {
       "font_weight": "bold"
      }
     },
     "9f0ca8ddbfc4484d81a97ee4438d3f1b": {
      "model_module": "@jupyter-widgets/controls",
      "model_module_version": "1.5.0",
      "model_name": "VBoxModel",
      "state": {
       "layout": "IPY_MODEL_5336eb1133c64e849e371a1a34c10d7c"
      }
     },
     "9f5575163ce746379b02a25487f26c60": {
      "model_module": "@jupyter-widgets/base",
      "model_module_version": "1.2.0",
      "model_name": "LayoutModel",
      "state": {
       "height": "30px",
       "max_width": "30px",
       "padding": "3px"
      }
     },
     "9f598989389e41b6940630edf89caab1": {
      "model_module": "@jupyter-widgets/controls",
      "model_module_version": "1.5.0",
      "model_name": "ButtonModel",
      "state": {
       "icon": "eye-slash",
       "layout": "IPY_MODEL_b4f0c782a6774f0fbf9437f0e8899279",
       "style": "IPY_MODEL_20a5b2701ee34c899edb4b49e7fec578",
       "tooltip": "removes temporary output view"
      }
     },
     "a158a5f59917456f9759f3b38e11679f": {
      "model_module": "@jupyter-widgets/base",
      "model_module_version": "1.2.0",
      "model_name": "LayoutModel",
      "state": {
       "height": "30px",
       "width": "auto"
      }
     },
     "a1a96c4f65f6436d85bb04ab2aa4d642": {
      "model_module": "@jupyter-widgets/controls",
      "model_module_version": "1.5.0",
      "model_name": "HBoxModel",
      "state": {
       "children": [
        "IPY_MODEL_9752e88431d4490a8b815b01c2dbf6b1",
        "IPY_MODEL_04defadc7e684e36a4283347ce28a9f7",
        "IPY_MODEL_47d7a09cdce54b13a1307aae87e4d9ac",
        "IPY_MODEL_b75b94f8ea3f48e29e267543f2f68e68",
        "IPY_MODEL_36c9a00d4eea43d88904d2571217987d",
        "IPY_MODEL_a78e5fbb581841508ce11534f3652f26",
        "IPY_MODEL_2a620f3e86284705b1577f36611d5869"
       ],
       "layout": "IPY_MODEL_c36a8185db7a4fcbafdcfd131687690b"
      }
     },
     "a256b81552404a729c1b3579dbf9d273": {
      "model_module": "@jupyter-widgets/controls",
      "model_module_version": "1.5.0",
      "model_name": "ButtonStyleModel",
      "state": {
       "font_weight": "bold"
      }
     },
     "a28e7345781c41c9a3ef9a77efdc1e87": {
      "model_module": "@jupyter-widgets/controls",
      "model_module_version": "1.5.0",
      "model_name": "AccordionModel",
      "state": {
       "_titles": {
        "0": "eplus_pipework_params"
       },
       "children": [
        "IPY_MODEL_8ac626a272c740dea0d85582cdcb8ce2"
       ],
       "layout": "IPY_MODEL_4271bf9166aa468e8394135713e9295b",
       "selected_index": null
      }
     },
     "a30ce6ff133a46dfa8dbc8110be85d30": {
      "model_module": "@jupyter-widgets/base",
      "model_module_version": "1.2.0",
      "model_name": "LayoutModel",
      "state": {}
     },
     "a30eae396dc443f5aec1c46603692a33": {
      "model_module": "@jupyter-widgets/controls",
      "model_module_version": "1.5.0",
      "model_name": "ButtonModel",
      "state": {
       "icon": "eye-slash",
       "layout": "IPY_MODEL_a68cb90f27314499b947ded4dad65709",
       "style": "IPY_MODEL_f34b45da5bb1432bbefed2ae33a471b1",
       "tooltip": "removes temporary output view"
      }
     },
     "a341a0f57084491db317c04edcacd701": {
      "model_module": "@jupyter-widgets/controls",
      "model_module_version": "1.5.0",
      "model_name": "VBoxModel",
      "state": {
       "children": [
        "IPY_MODEL_40eeaee5b07744c6814b94c1f1c667e7",
        "IPY_MODEL_b1e781fa3bca4871a219b25c47b939a6"
       ],
       "layout": "IPY_MODEL_86ffb1c69c1e40f4a3b6a088f173d82d"
      }
     },
     "a38c9b950388460aba16928d6f1f4e64": {
      "model_module": "@jupyter-widgets/base",
      "model_module_version": "1.2.0",
      "model_name": "LayoutModel",
      "state": {
       "border": "0px",
       "margin": "0px",
       "padding": "0px"
      }
     },
     "a3a5fea767b940718c2747b7304685fa": {
      "model_module": "@jupyter-widgets/controls",
      "model_module_version": "1.5.0",
      "model_name": "ButtonStyleModel",
      "state": {
       "font_weight": "bold"
      }
     },
     "a42b07782bd94eb0a9f0db9a979f07cd": {
      "model_module": "@jupyter-widgets/controls",
      "model_module_version": "1.5.0",
      "model_name": "SelectMultipleModel",
      "state": {
       "_options_labels": [
        "C:\\engDev\\git_mf\\ipyrun\\reports\\JupyterReportDemo.pdf"
       ],
       "description": "outputs",
       "index": [],
       "layout": "IPY_MODEL_11864918adcd4c8d9746fac4e60d1413",
       "rows": 4,
       "style": "IPY_MODEL_b2dfe818bc4b4fec85908cca24b15c10"
      }
     },
     "a46120fbe6d34fbf88e13d89566b26f5": {
      "model_module": "@jupyter-widgets/base",
      "model_module_version": "1.2.0",
      "model_name": "LayoutModel",
      "state": {}
     },
     "a47ee26a7f9346fa80d5bc8aaecd058c": {
      "model_module": "@jupyter-widgets/controls",
      "model_module_version": "1.5.0",
      "model_name": "ButtonStyleModel",
      "state": {
       "font_weight": "bold"
      }
     },
     "a4d68fc06ab041a1bb09ec8b20923eab": {
      "model_module": "@jupyter-widgets/base",
      "model_module_version": "1.2.0",
      "model_name": "LayoutModel",
      "state": {}
     },
     "a570de5ece3e43fa8e8e7430898bdc29": {
      "model_module": "@jupyter-widgets/controls",
      "model_module_version": "1.5.0",
      "model_name": "VBoxModel",
      "state": {
       "children": [
        "IPY_MODEL_3a8fedcf3dd64fd5a3719618d85721fe",
        "IPY_MODEL_f059d7eaaabc457faccdd5ae0214e031"
       ],
       "layout": "IPY_MODEL_672ad73ea51f4a2b8ffc546b5918aa14"
      }
     },
     "a68cb90f27314499b947ded4dad65709": {
      "model_module": "@jupyter-widgets/base",
      "model_module_version": "1.2.0",
      "model_name": "LayoutModel",
      "state": {
       "width": "5%"
      }
     },
     "a6d40a5fa6674e0a91bb7850f580a9f8": {
      "model_module": "@jupyter-widgets/base",
      "model_module_version": "1.2.0",
      "model_name": "LayoutModel",
      "state": {
       "height": "30px",
       "width": "auto"
      }
     },
     "a6d7e8e4d742453b91743b1e63980cd5": {
      "model_module": "@jupyter-widgets/controls",
      "model_module_version": "1.5.0",
      "model_name": "DescriptionStyleModel",
      "state": {
       "description_width": ""
      }
     },
     "a6ffe2824a5d4a7691e304eaf7b1cd29": {
      "model_module": "@jupyter-widgets/controls",
      "model_module_version": "1.5.0",
      "model_name": "ButtonModel",
      "state": {
       "button_style": "info",
       "description": "show log",
       "layout": "IPY_MODEL_fed31412b0b1415ba636988fc41089af",
       "style": "IPY_MODEL_d6fc18202ac24242bbb5858d2d85b9da",
       "tooltip": "show a log of when the script was executed to generate the outputs, and by who"
      }
     },
     "a78e5fbb581841508ce11534f3652f26": {
      "model_module": "@jupyter-widgets/controls",
      "model_module_version": "1.5.0",
      "model_name": "ButtonModel",
      "state": {
       "button_style": "info",
       "description": "preview outputs",
       "layout": "IPY_MODEL_b674a71b406b41bcb53323ca65c69963",
       "style": "IPY_MODEL_c960baf2be6549b7b1911e8b9b21f2dc",
       "tooltip": "show a preview of the output files generated when the script runs"
      }
     },
     "a92f427f1bd543b9ae100dbe3d23a056": {
      "model_module": "@jupyter-widgets/controls",
      "model_module_version": "1.5.0",
      "model_name": "SelectMultipleModel",
      "state": {
       "_options_labels": [
        "C:\\engDev\\git_mf\\ipyrun\\reports\\JupyterReportDemo.pdf"
       ],
       "description": "outputs",
       "index": [],
       "layout": "IPY_MODEL_a6d40a5fa6674e0a91bb7850f580a9f8",
       "rows": 4,
       "style": "IPY_MODEL_ba9e9d2707ee4be1ab9227d087233364"
      }
     },
     "a94745af557f4db39f0bb6f06a73561e": {
      "model_module": "@jupyter-widgets/base",
      "model_module_version": "1.2.0",
      "model_name": "LayoutModel",
      "state": {}
     },
     "a9edc507764f4e359944e6f3ac642996": {
      "model_module": "@jupyter-widgets/controls",
      "model_module_version": "1.5.0",
      "model_name": "VBoxModel",
      "state": {
       "children": [
        "IPY_MODEL_ea6b94a441ab442cbeaec53260a90fc6",
        "IPY_MODEL_d5156e313d77405abce94dc81dfacbfb"
       ],
       "layout": "IPY_MODEL_fe8fc8422ef74046a3e683a34d072749"
      }
     },
     "aa15e27835fc4e44ad21c04dd534b85d": {
      "model_module": "@jupyter-widgets/base",
      "model_module_version": "1.2.0",
      "model_name": "LayoutModel",
      "state": {}
     },
     "aa688ec934554f969eb4b6804b22c2f6": {
      "model_module": "@jupyter-widgets/base",
      "model_module_version": "1.2.0",
      "model_name": "LayoutModel",
      "state": {}
     },
     "aac46f3264204c63ae1900fc6a1e3796": {
      "model_module": "@jupyter-widgets/base",
      "model_module_version": "1.2.0",
      "model_name": "LayoutModel",
      "state": {
       "height": "30px",
       "width": "auto"
      }
     },
     "ab20ece17e254f109b13975964b3c344": {
      "model_module": "@jupyter-widgets/controls",
      "model_module_version": "1.5.0",
      "model_name": "DescriptionStyleModel",
      "state": {
       "description_width": ""
      }
     },
     "ab415c5960d94908bce4a3201d20bf97": {
      "model_module": "@jupyter-widgets/base",
      "model_module_version": "1.2.0",
      "model_name": "LayoutModel",
      "state": {}
     },
     "ab67a9f2c50749bf8cb3c1d6e47082a5": {
      "model_module": "@jupyter-widgets/controls",
      "model_module_version": "1.5.0",
      "model_name": "CheckboxModel",
      "state": {
       "disabled": false,
       "indent": false,
       "layout": "IPY_MODEL_7085707e66384c72a7f6c55700a1ef34",
       "style": "IPY_MODEL_701a650ae645490d950eb4fbc664a548",
       "value": false
      }
     },
     "ab6dfcc39e184c38843830b068c1e65f": {
      "model_module": "@jupyter-widgets/base",
      "model_module_version": "1.2.0",
      "model_name": "LayoutModel",
      "state": {}
     },
     "abff8509c9754fe48eeb22c675c7fda0": {
      "model_module": "@jupyter-widgets/controls",
      "model_module_version": "1.5.0",
      "model_name": "ButtonModel",
      "state": {
       "button_style": "info",
       "description": "show source code",
       "layout": "IPY_MODEL_73320ebcbc2a41eb88c3b6287da6f882",
       "style": "IPY_MODEL_91e0cff48d9d4ce292b5a188393919a2",
       "tooltip": "shows the raw python code in the preview window below"
      }
     },
     "ac6219888e314c02b1b779fa8aca8b6c": {
      "model_module": "@jupyter-widgets/base",
      "model_module_version": "1.2.0",
      "model_name": "LayoutModel",
      "state": {
       "height": "30px",
       "width": "auto"
      }
     },
     "ac627d056e23479b84be25f6c94bfb4a": {
      "model_module": "@jupyter-widgets/base",
      "model_module_version": "1.2.0",
      "model_name": "LayoutModel",
      "state": {
       "width": "5%"
      }
     },
     "acc99f5841b34b8aadcd9280b8f21021": {
      "model_module": "@jupyter-widgets/controls",
      "model_module_version": "1.5.0",
      "model_name": "DescriptionStyleModel",
      "state": {
       "description_width": ""
      }
     },
     "ad1d776b86904aef889c2544b0a6202f": {
      "model_module": "@jupyter-widgets/controls",
      "model_module_version": "1.5.0",
      "model_name": "ButtonStyleModel",
      "state": {
       "font_weight": "bold"
      }
     },
     "ad21510736a24b8cabf84b30e7521187": {
      "model_module": "@jupyter-widgets/controls",
      "model_module_version": "1.5.0",
      "model_name": "DescriptionStyleModel",
      "state": {
       "description_width": ""
      }
     },
     "adbe7560f13c4d1f8d2d7077cfdf6bce": {
      "model_module": "@jupyter-widgets/base",
      "model_module_version": "1.2.0",
      "model_name": "LayoutModel",
      "state": {}
     },
     "adf0aa5681d54a00b8a6b0baa33c4e5d": {
      "model_module": "@jupyter-widgets/controls",
      "model_module_version": "1.5.0",
      "model_name": "AccordionModel",
      "state": {
       "_titles": {
        "0": "eplus_pipework_params"
       },
       "children": [
        "IPY_MODEL_27a2a228e0e543a48048a8bac9a54f01"
       ],
       "layout": "IPY_MODEL_3b2266c9e92146e1a6be795486217ad4",
       "selected_index": null
      }
     },
     "ae4db7fffcb54674a417acb83552aded": {
      "model_module": "@jupyter-widgets/controls",
      "model_module_version": "1.5.0",
      "model_name": "DescriptionStyleModel",
      "state": {
       "description_width": ""
      }
     },
     "aeda677ef23f41aa909b8ed518a56731": {
      "model_module": "@jupyter-widgets/controls",
      "model_module_version": "1.5.0",
      "model_name": "ButtonStyleModel",
      "state": {
       "font_weight": "bold"
      }
     },
     "af1104a9e9a8492da0fb01c15442c9ff": {
      "model_module": "@jupyter-widgets/controls",
      "model_module_version": "1.5.0",
      "model_name": "ButtonModel",
      "state": {
       "button_style": "success",
       "description": "run",
       "layout": "IPY_MODEL_9638035057c1461d8e884e086e41fc42",
       "style": "IPY_MODEL_252b10691ff4470382683deb46c63c30",
       "tooltip": "execute the script based on the user inputs"
      }
     },
     "af1d583d5b104dd1aee5e24669cf70da": {
      "model_module": "@jupyter-widgets/controls",
      "model_module_version": "1.5.0",
      "model_name": "ButtonStyleModel",
      "state": {
       "font_weight": "bold"
      }
     },
     "af44df8b405145ac9a7f8758351f3cf0": {
      "model_module": "@jupyter-widgets/controls",
      "model_module_version": "1.5.0",
      "model_name": "ButtonModel",
      "state": {
       "button_style": "info",
       "description": "show log",
       "layout": "IPY_MODEL_ba08349ba22d4098bc49a8735cc2fe24",
       "style": "IPY_MODEL_fc11065061fb4fecb0d45e1f71fb8aa8",
       "tooltip": "show a log of when the script was executed to generate the outputs, and by who"
      }
     },
     "afaee53823a04fcc9ee1274b877c2797": {
      "model_module": "@jupyter-widgets/controls",
      "model_module_version": "1.5.0",
      "model_name": "ButtonStyleModel",
      "state": {
       "font_weight": "bold"
      }
     },
     "b02980685cef469fa3209c32d4799a3e": {
      "model_module": "@jupyter-widgets/controls",
      "model_module_version": "1.5.0",
      "model_name": "TextModel",
      "state": {
       "description": "script",
       "disabled": true,
       "layout": "IPY_MODEL_a158a5f59917456f9759f3b38e11679f",
       "style": "IPY_MODEL_4f44cac51fba4bc7ac1c9ccfc8b841f8",
       "value": "C:\\engDev\\git_mf\\MF_Toolbox\\dev\\mf_scripts\\eplus_pipework_params.py"
      }
     },
     "b1308cd562b44a2eadc2d8d640171b01": {
      "model_module": "@jupyter-widgets/base",
      "model_module_version": "1.2.0",
      "model_name": "LayoutModel",
      "state": {}
     },
     "b144e1f5e5d4421a92f9a4cad6796bec": {
      "model_module": "@jupyter-widgets/base",
      "model_module_version": "1.2.0",
      "model_name": "LayoutModel",
      "state": {
       "align_items": "stretch",
       "width": "100%"
      }
     },
     "b1e781fa3bca4871a219b25c47b939a6": {
      "model_module": "@jupyter-widgets/controls",
      "model_module_version": "1.5.0",
      "model_name": "VBoxModel",
      "state": {
       "children": [
        "IPY_MODEL_8f71a400abc94c27ad1fcab1a471141a",
        "IPY_MODEL_3ed9eb773d3343d0b77821130cee8f5e",
        "IPY_MODEL_5ed8f4812f6344858d20c7e002965949"
       ],
       "layout": "IPY_MODEL_5fc8cbe577644624b95a7ffa081575f7"
      }
     },
     "b21c964763ac487b9c41f2fab60e1d27": {
      "model_module": "@jupyter-widgets/base",
      "model_module_version": "1.2.0",
      "model_name": "LayoutModel",
      "state": {}
     },
     "b23c14319e964405a70581258e0f9a20": {
      "model_module": "@jupyter-widgets/base",
      "model_module_version": "1.2.0",
      "model_name": "LayoutModel",
      "state": {}
     },
     "b25b7a6ed93441cdb43ac40172709467": {
      "model_module": "@jupyter-widgets/base",
      "model_module_version": "1.2.0",
      "model_name": "LayoutModel",
      "state": {}
     },
     "b29ab1074a3b4b57bdc167ae257588f1": {
      "model_module": "@jupyter-widgets/base",
      "model_module_version": "1.2.0",
      "model_name": "LayoutModel",
      "state": {
       "height": "30px",
       "width": "auto"
      }
     },
     "b2b546e879434fdfa28bf790743a6990": {
      "model_module": "@jupyter-widgets/controls",
      "model_module_version": "1.5.0",
      "model_name": "HBoxModel",
      "state": {
       "children": [
        "IPY_MODEL_9f598989389e41b6940630edf89caab1",
        "IPY_MODEL_34945b24423f409dbd7ad3d22bfee14f",
        "IPY_MODEL_18198827792b4a2d9173cb65a4f13a20"
       ],
       "layout": "IPY_MODEL_286e47df35ad482e9ad6fe28423ec251"
      }
     },
     "b2d8daac7dd54ed5abe772ab344e1ff3": {
      "model_module": "@jupyter-widgets/controls",
      "model_module_version": "1.5.0",
      "model_name": "HTMLModel",
      "state": {
       "layout": "IPY_MODEL_adbe7560f13c4d1f8d2d7077cfdf6bce",
       "style": "IPY_MODEL_de1892122fb243b1862c34c5343d25ee",
       "value": "<p>fpth_in</p>"
      }
     },
     "b2dfe818bc4b4fec85908cca24b15c10": {
      "model_module": "@jupyter-widgets/controls",
      "model_module_version": "1.5.0",
      "model_name": "DescriptionStyleModel",
      "state": {
       "description_width": ""
      }
     },
     "b3918c403ca54c4e84da3bb147439c86": {
      "model_module": "@jupyter-widgets/controls",
      "model_module_version": "1.5.0",
      "model_name": "DescriptionStyleModel",
      "state": {
       "description_width": ""
      }
     },
     "b4f0c782a6774f0fbf9437f0e8899279": {
      "model_module": "@jupyter-widgets/base",
      "model_module_version": "1.2.0",
      "model_name": "LayoutModel",
      "state": {
       "width": "5%"
      }
     },
     "b60349d9567d4eb8bfc8f7cb8eaee5e9": {
      "model_module": "@jupyter-widgets/base",
      "model_module_version": "1.2.0",
      "model_name": "LayoutModel",
      "state": {}
     },
     "b674a71b406b41bcb53323ca65c69963": {
      "model_module": "@jupyter-widgets/base",
      "model_module_version": "1.2.0",
      "model_name": "LayoutModel",
      "state": {}
     },
     "b6e50133974f49648a9f245bf7061f1a": {
      "model_module": "@jupyter-widgets/base",
      "model_module_version": "1.2.0",
      "model_name": "LayoutModel",
      "state": {}
     },
     "b75b94f8ea3f48e29e267543f2f68e68": {
      "model_module": "@jupyter-widgets/controls",
      "model_module_version": "1.5.0",
      "model_name": "ButtonModel",
      "state": {
       "button_style": "warning",
       "description": "edit inputs",
       "layout": "IPY_MODEL_1507c53ec1924bedb79627ab01c41589",
       "style": "IPY_MODEL_ee028a1053fc4572a5aee51b6a53cc10",
       "tooltip": "edit the user input information that is used when the script is executed"
      }
     },
     "b7a5dacaeac546d581f7d49cecd44098": {
      "model_module": "@jupyter-widgets/controls",
      "model_module_version": "1.5.0",
      "model_name": "ButtonModel",
      "state": {
       "button_style": "info",
       "description": "show source code",
       "layout": "IPY_MODEL_2acdde422613468fab8c29e5712bc394",
       "style": "IPY_MODEL_24b31eac540e466d8ebf0016e11d9e10",
       "tooltip": "shows the raw python code in the preview window below"
      }
     },
     "b7ece2c687714fe7830f173962421a41": {
      "model_module": "@jupyter-widgets/controls",
      "model_module_version": "1.5.0",
      "model_name": "VBoxModel",
      "state": {
       "children": [
        "IPY_MODEL_d071dd42ef6d40cb842fc595665f44b9",
        "IPY_MODEL_2b9b4887ec0d474c9dbd2930a74fc94b",
        "IPY_MODEL_8c44575e2b814c5eb4c5d33a8ac08f8e"
       ],
       "layout": "IPY_MODEL_10088bf032df4fa9819b948250bea717"
      }
     },
     "b809300e095648e19a7e03573d7df9c0": {
      "model_module": "@jupyter-widgets/controls",
      "model_module_version": "1.5.0",
      "model_name": "ButtonModel",
      "state": {
       "icon": "eye-slash",
       "layout": "IPY_MODEL_5fd7569b31b547079fc80d17c6ff4cfd",
       "style": "IPY_MODEL_1bb9d497403e43948a90853af0950064",
       "tooltip": "removes temporary output view"
      }
     },
     "b820554c4d8f43bda2b2f5abab54c886": {
      "model_module": "@jupyter-widgets/output",
      "model_module_version": "1.0.0",
      "model_name": "OutputModel",
      "state": {
       "layout": "IPY_MODEL_7e2fbc8f80db4083b5128f41daf0aa88",
       "outputs": [
        {
         "data": {
          "text/plain": "'eplus_pipework_params'"
         },
         "metadata": {},
         "output_type": "display_data"
        },
        {
         "data": {
          "text/plain": "b'fpth_script: C:\\\\engDev\\\\git_mf\\\\MF_Toolbox\\\\dev\\\\mf_scripts\\\\eplus_pipework_params.py\\r\\nfpth_config: C:\\\\engDev\\\\git_mf\\\\ipyrun\\\\ipyrun\\\\notebooks\\\\appdata\\\\config\\\\config-eplus_pipework_params.json\\r\\nfpth_inputs: C:\\\\engDev\\\\git_mf\\\\ipyrun\\\\ipyrun\\\\notebooks\\\\appdata\\\\inputs\\\\inputs-eplus_pipework_params.csv\\r\\nfile outputted to here: ..\\\\data\\\\external\\\\eplus_pipework_params.csv\\r\\npipework params extracted from ePlus code file\\r\\n'"
         },
         "metadata": {},
         "output_type": "display_data"
        }
       ]
      }
     },
     "b8217a1d2ed34f10a810f1d2546da3a8": {
      "model_module": "@jupyter-widgets/base",
      "model_module_version": "1.2.0",
      "model_name": "LayoutModel",
      "state": {}
     },
     "b925f9e4361a4c2fbb403176a356ac02": {
      "model_module": "@jupyter-widgets/output",
      "model_module_version": "1.0.0",
      "model_name": "OutputModel",
      "state": {
       "layout": "IPY_MODEL_04f4dc4a35604a21a0af2c43a10c6db2"
      }
     },
     "b92c3b66078641d794f5c2bac98bc895": {
      "model_module": "@jupyter-widgets/controls",
      "model_module_version": "1.5.0",
      "model_name": "ButtonStyleModel",
      "state": {
       "font_weight": "bold"
      }
     },
     "b92f5b8bd0ea4e438d9694748920a3c3": {
      "model_module": "@jupyter-widgets/controls",
      "model_module_version": "1.5.0",
      "model_name": "HBoxModel",
      "state": {
       "children": [
        "IPY_MODEL_a30eae396dc443f5aec1c46603692a33",
        "IPY_MODEL_4baea7b15501493aa97297c8799d8021",
        "IPY_MODEL_5262d304b7e44d4bb0b055419ee9f2f2",
        "IPY_MODEL_80e4899e90a44e21863ac653c51baf0a",
        "IPY_MODEL_2c4354e255b74ba381bd2c87d5e93bea",
        "IPY_MODEL_19c2f5537efb42dfa38a4db8a5e4960d",
        "IPY_MODEL_8c6b5fd7e3a047a7a31b527bbdc4d83d"
       ],
       "layout": "IPY_MODEL_56b37f7203f34809b51edfafe6c8939e"
      }
     },
     "b95042fbb77e4725acd371a04f007182": {
      "model_module": "@jupyter-widgets/controls",
      "model_module_version": "1.5.0",
      "model_name": "TextModel",
      "state": {
       "description": "inputs",
       "disabled": true,
       "layout": "IPY_MODEL_624cf16b92514b1d97eb57592e81a8fc",
       "style": "IPY_MODEL_83d1afbd6e3e45c898641cd033bd1d44",
       "value": "C:\\engDev\\git_mf\\ipyrun\\ipyrun\\notebooks\\appdata\\inputs\\inputs-eplus_pipework_params.csv"
      }
     },
     "b96089b82b2a4ce1babb7225eaaa5683": {
      "model_module": "@jupyter-widgets/controls",
      "model_module_version": "1.5.0",
      "model_name": "TextModel",
      "state": {
       "description": "inputs",
       "disabled": true,
       "layout": "IPY_MODEL_fc3014c744da4a398552e89bf8d71979",
       "style": "IPY_MODEL_c60b76e0a6b44370880c459fc4a85b4f",
       "value": "C:\\engDev\\git_mf\\ipyrun\\ipyrun\\appdata\\inputs\\inputs-docx_to_pdf.json"
      }
     },
     "b98e34c5ac1a47c4b7cdffd9d5e39f7c": {
      "model_module": "@jupyter-widgets/base",
      "model_module_version": "1.2.0",
      "model_name": "LayoutModel",
      "state": {}
     },
     "ba08349ba22d4098bc49a8735cc2fe24": {
      "model_module": "@jupyter-widgets/base",
      "model_module_version": "1.2.0",
      "model_name": "LayoutModel",
      "state": {}
     },
     "ba87331cf29b40e1b75e6ace357d473b": {
      "model_module": "@jupyter-widgets/controls",
      "model_module_version": "1.5.0",
      "model_name": "DescriptionStyleModel",
      "state": {
       "description_width": ""
      }
     },
     "ba9e9d2707ee4be1ab9227d087233364": {
      "model_module": "@jupyter-widgets/controls",
      "model_module_version": "1.5.0",
      "model_name": "DescriptionStyleModel",
      "state": {
       "description_width": ""
      }
     },
     "bac7a4b895cf4d848cf16a72cf57dabd": {
      "model_module": "@jupyter-widgets/base",
      "model_module_version": "1.2.0",
      "model_name": "LayoutModel",
      "state": {}
     },
     "bb36cc62931f4a3e972c539e6d8f4be3": {
      "model_module": "@jupyter-widgets/base",
      "model_module_version": "1.2.0",
      "model_name": "LayoutModel",
      "state": {}
     },
     "bc9ed88613f9410c95e97fad4332fe65": {
      "model_module": "@jupyter-widgets/base",
      "model_module_version": "1.2.0",
      "model_name": "LayoutModel",
      "state": {}
     },
     "bce280653d1140e1a98e2849dfeac248": {
      "model_module": "@jupyter-widgets/controls",
      "model_module_version": "1.5.0",
      "model_name": "DescriptionStyleModel",
      "state": {
       "description_width": ""
      }
     },
     "bce6b3fd85244c1fbeb3a79ff014be2e": {
      "model_module": "@jupyter-widgets/output",
      "model_module_version": "1.0.0",
      "model_name": "OutputModel",
      "state": {
       "layout": "IPY_MODEL_79f7612050bc432e94740eb2f8411d83",
       "outputs": [
        {
         "data": {
          "application/vnd.jupyter.widget-view+json": {
           "model_id": "",
           "version_major": 2,
           "version_minor": 0
          },
          "text/plain": "Sheet(cells=(Cell(choice=[], column_end=0, column_start=0, numeric_format=None, row_end=1, row_start=0, squeez…"
         },
         "metadata": {},
         "output_type": "display_data"
        }
       ]
      }
     },
     "bcffe377ac804fdd85cc970f9ed4ebb3": {
      "model_module": "@jupyter-widgets/controls",
      "model_module_version": "1.5.0",
      "model_name": "VBoxModel",
      "state": {
       "children": [
        "IPY_MODEL_75181996e5c64336866c19a7e148708d",
        "IPY_MODEL_5a93310dcfd847ec989b4b098be2ab48",
        "IPY_MODEL_9064abe6a4674ee6bd3446c975d90f37"
       ],
       "layout": "IPY_MODEL_9c96e8910fa64f388c62a3cafae5e409"
      }
     },
     "bd63c5523177400a88500e5dc25ea1c5": {
      "model_module": "@jupyter-widgets/controls",
      "model_module_version": "1.5.0",
      "model_name": "TextModel",
      "state": {
       "description": "inputs",
       "disabled": true,
       "layout": "IPY_MODEL_4d8b703679524d0fafbc48d06c08c43f",
       "style": "IPY_MODEL_e43acc80778f4a56ae48e71980a4a8f3",
       "value": "C:\\engDev\\git_mf\\ipyrun\\ipyrun\\appdata\\inputs\\inputs-docx_to_pdf.json"
      }
     },
     "bd845789b761442eb3fa50af2e8c9d8a": {
      "model_module": "@jupyter-widgets/controls",
      "model_module_version": "1.5.0",
      "model_name": "ButtonStyleModel",
      "state": {
       "font_weight": "bold"
      }
     },
     "bdfac08a689a4dc1bc95bbbed57e4042": {
      "model_module": "@jupyter-widgets/controls",
      "model_module_version": "1.5.0",
      "model_name": "ButtonModel",
      "state": {
       "icon": "question-circle",
       "layout": "IPY_MODEL_c976f0b4d02e4607877bb096a1f1843e",
       "style": "IPY_MODEL_2d65aa427a8e4185894496e77a63460e",
       "tooltip": "describes the functionality of elements in the RunApp interface"
      }
     },
     "be033379e89b4d79aa6d01cd123de14e": {
      "model_module": "@jupyter-widgets/controls",
      "model_module_version": "1.5.0",
      "model_name": "ButtonStyleModel",
      "state": {
       "font_weight": "bold"
      }
     },
     "be1e54824bf94262be0d29022a04cbb7": {
      "model_module": "@jupyter-widgets/base",
      "model_module_version": "1.2.0",
      "model_name": "LayoutModel",
      "state": {}
     },
     "be8d0dbe4e3942638783cf2523de2f03": {
      "model_module": "@jupyter-widgets/controls",
      "model_module_version": "1.5.0",
      "model_name": "ButtonModel",
      "state": {
       "button_style": "warning",
       "description": "edit inputs",
       "layout": "IPY_MODEL_c46dfeda33c64b32a0e98aba39903c40",
       "style": "IPY_MODEL_739c77a977504e36aa6c6ac2aea263fb",
       "tooltip": "edit the user input information that is used when the script is executed"
      }
     },
     "beef88b35dc24a7bacdc254a9528aa47": {
      "model_module": "@jupyter-widgets/controls",
      "model_module_version": "1.5.0",
      "model_name": "VBoxModel",
      "state": {
       "children": [
        "IPY_MODEL_c89c9ee1372b4b40aa31531e6472eba5",
        "IPY_MODEL_6c364251782840499c48f078e6cb6dd6"
       ],
       "layout": "IPY_MODEL_55c8cd39520f49f9a20030d303f960fa"
      }
     },
     "bf1b011676c34b21af95f78f512ef338": {
      "model_module": "@jupyter-widgets/controls",
      "model_module_version": "1.5.0",
      "model_name": "VBoxModel",
      "state": {
       "children": [
        "IPY_MODEL_12ac85bb7daf454785fe3ef82493113d",
        "IPY_MODEL_2ac9dbb6b36c4937a7e60a9c90574d39",
        "IPY_MODEL_402565e108aa40a580248fdb2faef0b9"
       ],
       "layout": "IPY_MODEL_1ff6f822aa374fb3b44c94f50f48fa28"
      }
     },
     "bf2e5b24560d455591507242ae7078b0": {
      "model_module": "@jupyter-widgets/controls",
      "model_module_version": "1.5.0",
      "model_name": "ButtonStyleModel",
      "state": {
       "font_weight": "bold"
      }
     },
     "bfaa7f52f5a248f6bb671f4cd6c42a51": {
      "model_module": "@jupyter-widgets/base",
      "model_module_version": "1.2.0",
      "model_name": "LayoutModel",
      "state": {
       "height": "30px",
       "width": "auto"
      }
     },
     "bfcee5d58c22429eb25079300e0220fe": {
      "model_module": "@jupyter-widgets/controls",
      "model_module_version": "1.5.0",
      "model_name": "ButtonStyleModel",
      "state": {
       "font_weight": "bold"
      }
     },
     "bfeb48371f82488b88e33eb1b7adb69a": {
      "model_module": "@jupyter-widgets/controls",
      "model_module_version": "1.5.0",
      "model_name": "ButtonStyleModel",
      "state": {
       "font_weight": "bold"
      }
     },
     "c02bffeb0185471aa1baeaa125a7ba7d": {
      "model_module": "@jupyter-widgets/controls",
      "model_module_version": "1.5.0",
      "model_name": "ButtonModel",
      "state": {
       "icon": "question-circle",
       "layout": "IPY_MODEL_dcb1c09e75354f05be096ebf343e14a4",
       "style": "IPY_MODEL_11cbd603ce1c4a068a4b985ef6cab666",
       "tooltip": "describes the functionality of elements in the RunApp interface"
      }
     },
     "c0830acf12054064bfca5374caaf3bb5": {
      "model_module": "@jupyter-widgets/base",
      "model_module_version": "1.2.0",
      "model_name": "LayoutModel",
      "state": {
       "width": "5%"
      }
     },
     "c0acb799859a4439b43063698511300f": {
      "model_module": "@jupyter-widgets/controls",
      "model_module_version": "1.5.0",
      "model_name": "DescriptionStyleModel",
      "state": {
       "description_width": ""
      }
     },
     "c103d632db074cb986cd321b5e140d32": {
      "model_module": "@jupyter-widgets/base",
      "model_module_version": "1.2.0",
      "model_name": "LayoutModel",
      "state": {}
     },
     "c15baa0ddb054f22af139fc27055951e": {
      "model_module": "@jupyter-widgets/controls",
      "model_module_version": "1.5.0",
      "model_name": "VBoxModel",
      "state": {
       "children": [
        "IPY_MODEL_770ce90af4ef4867bdf882aa8723c105",
        "IPY_MODEL_e7f575b46ec44bb0aa55723be70dba8e"
       ],
       "layout": "IPY_MODEL_dd2871c0677546b69b13bd133fdd3a43"
      }
     },
     "c1e430f131f846cbbe09ef41a06da14b": {
      "model_module": "@jupyter-widgets/controls",
      "model_module_version": "1.5.0",
      "model_name": "ButtonModel",
      "state": {
       "button_style": "warning",
       "description": "edit inputs",
       "layout": "IPY_MODEL_8df7beeb6f8a42a1a93653139b9f3197",
       "style": "IPY_MODEL_d7b2bd1f621c4de5b68a22edbe7f114a",
       "tooltip": "edit the user input information that is used when the script is executed"
      }
     },
     "c2679be2528b43639987516cf1dd9a6c": {
      "model_module": "@jupyter-widgets/controls",
      "model_module_version": "1.5.0",
      "model_name": "CheckboxModel",
      "state": {
       "disabled": false,
       "indent": false,
       "layout": "IPY_MODEL_64c2085de2874790bffcae13992c55bf",
       "style": "IPY_MODEL_5eb023b10db44e3c8ea9505bc1ea283f",
       "value": true
      }
     },
     "c3677230019b4d8ca1dd11d3ee0370bf": {
      "model_module": "@jupyter-widgets/base",
      "model_module_version": "1.2.0",
      "model_name": "LayoutModel",
      "state": {}
     },
     "c36a8185db7a4fcbafdcfd131687690b": {
      "model_module": "@jupyter-widgets/base",
      "model_module_version": "1.2.0",
      "model_name": "LayoutModel",
      "state": {
       "align_items": "stretch",
       "width": "100%"
      }
     },
     "c3ed63d88b7f428581c37f9104c857bb": {
      "model_module": "@jupyter-widgets/controls",
      "model_module_version": "1.5.0",
      "model_name": "ButtonStyleModel",
      "state": {
       "font_weight": "bold"
      }
     },
     "c44970fdc9ad4da2a2f02cb34a83b95d": {
      "model_module": "@jupyter-widgets/controls",
      "model_module_version": "1.5.0",
      "model_name": "DescriptionStyleModel",
      "state": {
       "description_width": ""
      }
     },
     "c46dfeda33c64b32a0e98aba39903c40": {
      "model_module": "@jupyter-widgets/base",
      "model_module_version": "1.2.0",
      "model_name": "LayoutModel",
      "state": {}
     },
     "c48507635aa14f9e997004eea8e75907": {
      "model_module": "@jupyter-widgets/controls",
      "model_module_version": "1.5.0",
      "model_name": "ButtonModel",
      "state": {
       "button_style": "info",
       "description": "show source code",
       "layout": "IPY_MODEL_7229e7da230748ef93affc53863d57b8",
       "style": "IPY_MODEL_41ba3eefab3d4f188bccc2e1385d5222",
       "tooltip": "shows the raw python code in the preview window below"
      }
     },
     "c4baf3d041684c239b61feaafaf027f1": {
      "model_module": "@jupyter-widgets/base",
      "model_module_version": "1.2.0",
      "model_name": "LayoutModel",
      "state": {}
     },
     "c4eb6fea4b9c444cab9f69206ab7e0d2": {
      "model_module": "@jupyter-widgets/controls",
      "model_module_version": "1.5.0",
      "model_name": "BoxModel",
      "state": {
       "children": [
        "IPY_MODEL_fb57abe1d28b4ad1bb4f9560ea002f2a"
       ],
       "layout": "IPY_MODEL_dba644c6d8bf47fdb7800b243489efc2"
      }
     },
     "c526f86df5ff4bd28d5340715be9ff83": {
      "model_module": "@jupyter-widgets/base",
      "model_module_version": "1.2.0",
      "model_name": "LayoutModel",
      "state": {
       "height": "30px",
       "width": "auto"
      }
     },
     "c5f19c2216d14f108bd60deaa6d61b05": {
      "model_module": "@jupyter-widgets/controls",
      "model_module_version": "1.5.0",
      "model_name": "SelectMultipleModel",
      "state": {
       "_options_labels": [
        "C:\\engDev\\git_mf\\ipyrun\\reports\\JupyterReportDemo.pdf"
       ],
       "description": "outputs",
       "index": [],
       "layout": "IPY_MODEL_10a52ccb198149c8b0196d3c5a3ecc7b",
       "rows": 4,
       "style": "IPY_MODEL_dab241177dd048f0a33135eb84bb8ac7"
      }
     },
     "c60b76e0a6b44370880c459fc4a85b4f": {
      "model_module": "@jupyter-widgets/controls",
      "model_module_version": "1.5.0",
      "model_name": "DescriptionStyleModel",
      "state": {
       "description_width": ""
      }
     },
     "c687fd82b47c4c0c9550fcef194ead8d": {
      "model_module": "@jupyter-widgets/controls",
      "model_module_version": "1.5.0",
      "model_name": "ToggleButtonModel",
      "state": {
       "button_style": "info",
       "description": "inputs from file",
       "layout": "IPY_MODEL_f138c1ebc9ee4e28a408cf58ea76a848",
       "style": "IPY_MODEL_f281494c507f4d85bbe231f965000c87"
      }
     },
     "c6973fdff1b64ed9a42f5cbb1f480e02": {
      "model_module": "@jupyter-widgets/controls",
      "model_module_version": "1.5.0",
      "model_name": "TextModel",
      "state": {
       "description": "inputs",
       "disabled": true,
       "layout": "IPY_MODEL_79290fd6e0bb4a5ea98eeecf002772fd",
       "style": "IPY_MODEL_0f01af9254cc4ea080280776b3b74cba",
       "value": "C:\\engDev\\git_mf\\ipyrun\\ipyrun\\notebooks\\appdata\\inputs\\inputs-eplus_pipework_params.csv"
      }
     },
     "c7bae7ad313f4aa9b2f8942e7abebf54": {
      "model_module": "@jupyter-widgets/base",
      "model_module_version": "1.2.0",
      "model_name": "LayoutModel",
      "state": {
       "width": "5%"
      }
     },
     "c80cdc68038c4551a5063159c02b7696": {
      "model_module": "@jupyter-widgets/controls",
      "model_module_version": "1.5.0",
      "model_name": "BoxModel",
      "state": {
       "children": [
        "IPY_MODEL_a1a96c4f65f6436d85bb04ab2aa4d642"
       ],
       "layout": "IPY_MODEL_6d706f998d494e628cfb4bda664819b7"
      }
     },
     "c89c9ee1372b4b40aa31531e6472eba5": {
      "model_module": "@jupyter-widgets/controls",
      "model_module_version": "1.5.0",
      "model_name": "BoxModel",
      "state": {
       "children": [
        "IPY_MODEL_937e9bb2b6d44eaeb84a49d0e388a895"
       ],
       "layout": "IPY_MODEL_c8a6596022db4f8aa84c2ceb68101571"
      }
     },
     "c8a382ff9b3b4e37bd27228c3777cffd": {
      "model_module": "@jupyter-widgets/base",
      "model_module_version": "1.2.0",
      "model_name": "LayoutModel",
      "state": {
       "height": "30px",
       "max_width": "30px",
       "padding": "3px"
      }
     },
     "c8a6596022db4f8aa84c2ceb68101571": {
      "model_module": "@jupyter-widgets/base",
      "model_module_version": "1.2.0",
      "model_name": "LayoutModel",
      "state": {}
     },
     "c8b0ba3eae1e4161a22bc37b4d955e68": {
      "model_module": "@jupyter-widgets/controls",
      "model_module_version": "1.5.0",
      "model_name": "DescriptionStyleModel",
      "state": {
       "description_width": ""
      }
     },
     "c8bd9a039ea94c4cbf9e9fa9ca0bd615": {
      "model_module": "@jupyter-widgets/base",
      "model_module_version": "1.2.0",
      "model_name": "LayoutModel",
      "state": {}
     },
     "c9013eb3eb4f4d969585bf17a0bee85b": {
      "model_module": "@jupyter-widgets/controls",
      "model_module_version": "1.5.0",
      "model_name": "ButtonModel",
      "state": {
       "button_style": "warning",
       "description": "edit inputs",
       "layout": "IPY_MODEL_e82e50f16d3244e8b6fd736f7c45958b",
       "style": "IPY_MODEL_ed2dc238ba3a419d8b201c8a03479042",
       "tooltip": "edit the user input information that is used when the script is executed"
      }
     },
     "c960baf2be6549b7b1911e8b9b21f2dc": {
      "model_module": "@jupyter-widgets/controls",
      "model_module_version": "1.5.0",
      "model_name": "ButtonStyleModel",
      "state": {
       "font_weight": "bold"
      }
     },
     "c976f0b4d02e4607877bb096a1f1843e": {
      "model_module": "@jupyter-widgets/base",
      "model_module_version": "1.2.0",
      "model_name": "LayoutModel",
      "state": {
       "width": "5%"
      }
     },
     "ca79f3d1ad644b98a7322c34189d668c": {
      "model_module": "@jupyter-widgets/base",
      "model_module_version": "1.2.0",
      "model_name": "LayoutModel",
      "state": {
       "width": "100%"
      }
     },
     "cabcf1b2908f450abb23f78818d09be5": {
      "model_module": "@jupyter-widgets/controls",
      "model_module_version": "1.5.0",
      "model_name": "ButtonModel",
      "state": {
       "button_style": "info",
       "description": "show source code",
       "layout": "IPY_MODEL_493153e328ce42fea96e87faab8e353e",
       "style": "IPY_MODEL_7a9f64b3dea94e429254cc3ddaa03147",
       "tooltip": "shows the raw python code in the preview window below"
      }
     },
     "caec1518202049988dde65c5d90f1082": {
      "model_module": "@jupyter-widgets/controls",
      "model_module_version": "1.5.0",
      "model_name": "TextModel",
      "state": {
       "description": "script",
       "disabled": true,
       "layout": "IPY_MODEL_74d744658b004a16a18c63319a8e81c4",
       "style": "IPY_MODEL_1b009f2fcc434f37ae4fde8ab9b928ff",
       "value": "C:\\engDev\\git_mf\\MF_Toolbox\\dev\\mf_scripts\\eplus_pipework_params.py"
      }
     },
     "cb2652d9002c4444aa011589895a3a40": {
      "model_module": "@jupyter-widgets/controls",
      "model_module_version": "1.5.0",
      "model_name": "TextModel",
      "state": {
       "description": "script",
       "disabled": true,
       "layout": "IPY_MODEL_9bdebb35513145d9a8a7f11892d5d4ea",
       "style": "IPY_MODEL_c44970fdc9ad4da2a2f02cb34a83b95d",
       "value": "C:\\engDev\\git_mf\\MF_Toolbox\\dev\\mf_scripts\\eplus_pipework_params.py"
      }
     },
     "cbb8a288e982472f8117db9e79c4c869": {
      "model_module": "@jupyter-widgets/base",
      "model_module_version": "1.2.0",
      "model_name": "LayoutModel",
      "state": {
       "align_items": "stretch",
       "width": "100%"
      }
     },
     "cbc3eb8ce99e46e986a0a1aa82c4b9a3": {
      "model_module": "@jupyter-widgets/controls",
      "model_module_version": "1.5.0",
      "model_name": "HBoxModel",
      "state": {
       "children": [
        "IPY_MODEL_2df96909126644639b2a4b1fff87679e",
        "IPY_MODEL_c02bffeb0185471aa1baeaa125a7ba7d",
        "IPY_MODEL_ffbbc1f1b1924ee3951f89592467d738",
        "IPY_MODEL_5320b7d5ca0f4a96ac9b48af317e2d4d",
        "IPY_MODEL_d1b0a3229c484666b014d6d605193ac0",
        "IPY_MODEL_98842ad2e29e4d79b73eb62637340139",
        "IPY_MODEL_5ccd1bb2a0314257951cf1b44cb717ef"
       ],
       "layout": "IPY_MODEL_026e651f437d43ba861414d08964624c"
      }
     },
     "cdd2b595fe794508a723fd88998b5d2d": {
      "model_module": "@jupyter-widgets/base",
      "model_module_version": "1.2.0",
      "model_name": "LayoutModel",
      "state": {
       "align_items": "stretch",
       "display": "flex",
       "flex_flow": "row",
       "grid_auto_columns": "True",
       "justify_content": "flex-end",
       "width": "90%"
      }
     },
     "cdedff441cb948f39260a19feab7d047": {
      "model_module": "@jupyter-widgets/controls",
      "model_module_version": "1.5.0",
      "model_name": "ButtonModel",
      "state": {
       "icon": "question-circle",
       "layout": "IPY_MODEL_31f5635b3c134fbd9e96b49dac971d34",
       "style": "IPY_MODEL_36eacf113b7d4290831201150f651efd",
       "tooltip": "describes the functionality of elements in the RunApp interface"
      }
     },
     "ce79687e964442ab880257706ea3567b": {
      "model_module": "@jupyter-widgets/base",
      "model_module_version": "1.2.0",
      "model_name": "LayoutModel",
      "state": {}
     },
     "cea9ac65f7204212bbc1d6cffe70d8bf": {
      "model_module": "@jupyter-widgets/controls",
      "model_module_version": "1.5.0",
      "model_name": "ButtonModel",
      "state": {
       "button_style": "info",
       "description": "preview outputs",
       "layout": "IPY_MODEL_e5961ec1d4e64d9ebfe551b46720c5c5",
       "style": "IPY_MODEL_b92c3b66078641d794f5c2bac98bc895",
       "tooltip": "show a preview of the output files generated when the script runs"
      }
     },
     "ced439315e0847519e48cd52d617b9d5": {
      "model_module": "@jupyter-widgets/controls",
      "model_module_version": "1.5.0",
      "model_name": "DescriptionStyleModel",
      "state": {
       "description_width": ""
      }
     },
     "cf15576b8b5347378020baf83c7daa6d": {
      "model_module": "@jupyter-widgets/base",
      "model_module_version": "1.2.0",
      "model_name": "LayoutModel",
      "state": {
       "height": "30px",
       "width": "auto"
      }
     },
     "cf80dc0f59c44afc83ce41acaa64518b": {
      "model_module": "@jupyter-widgets/base",
      "model_module_version": "1.2.0",
      "model_name": "LayoutModel",
      "state": {
       "height": "30px",
       "width": "auto"
      }
     },
     "d071dd42ef6d40cb842fc595665f44b9": {
      "model_module": "@jupyter-widgets/controls",
      "model_module_version": "1.5.0",
      "model_name": "TextModel",
      "state": {
       "description": "inputs",
       "disabled": true,
       "layout": "IPY_MODEL_87e3492c68194aebbf4335a4bddeb3d9",
       "style": "IPY_MODEL_bce280653d1140e1a98e2849dfeac248",
       "value": "C:\\engDev\\git_mf\\ipyrun\\ipyrun\\appdata\\inputs\\inputs-eplus_pipework_params.csv"
      }
     },
     "d0c016ce04df4f3f8996aff1a9bbbaf4": {
      "model_module": "@jupyter-widgets/base",
      "model_module_version": "1.2.0",
      "model_name": "LayoutModel",
      "state": {}
     },
     "d0f3c38bac9f43749aac1f3a5f06d3c5": {
      "model_module": "@jupyter-widgets/controls",
      "model_module_version": "1.5.0",
      "model_name": "HBoxModel",
      "state": {
       "children": [
        "IPY_MODEL_7ca280d3e3124a7fbaf490d5afe24bb7",
        "IPY_MODEL_eb8ff82d8b514fdb9090eef6173bf160",
        "IPY_MODEL_6e48bc1140e447c7bd6097349855b394",
        "IPY_MODEL_eb8af2ba685f4f97a0b88953b8cb8535",
        "IPY_MODEL_23354bf2bf1e4982b7813d352afbc9e3",
        "IPY_MODEL_cea9ac65f7204212bbc1d6cffe70d8bf",
        "IPY_MODEL_af44df8b405145ac9a7f8758351f3cf0"
       ],
       "layout": "IPY_MODEL_17f9b9aebdf64eeead0d620db035460d"
      }
     },
     "d147fb9a28b74031b77589deed19f07d": {
      "model_module": "@jupyter-widgets/controls",
      "model_module_version": "1.5.0",
      "model_name": "DescriptionStyleModel",
      "state": {
       "description_width": ""
      }
     },
     "d1b0a3229c484666b014d6d605193ac0": {
      "model_module": "@jupyter-widgets/controls",
      "model_module_version": "1.5.0",
      "model_name": "ButtonModel",
      "state": {
       "button_style": "success",
       "description": "run",
       "layout": "IPY_MODEL_49e19f9546c54f8281ccf2fdb0bb756d",
       "style": "IPY_MODEL_8775f19b31294b37a073c103fb9f4b5c",
       "tooltip": "execute the script based on the user inputs"
      }
     },
     "d1f1f85327eb4d63afffd5acefc091b3": {
      "model_module": "@jupyter-widgets/controls",
      "model_module_version": "1.5.0",
      "model_name": "SelectMultipleModel",
      "state": {
       "_options_labels": [
        "C:\\engDev\\git_mf\\ipyrun\\data\\external\\eplus_pipework_params.csv"
       ],
       "description": "outputs",
       "index": [],
       "layout": "IPY_MODEL_2c081a71d9e64d3db4faca97c64e690d",
       "rows": 4,
       "style": "IPY_MODEL_3100b2c9b18945698e741f6a5428fb8d"
      }
     },
     "d21c7a369b004f3aba125c7561f7a4ef": {
      "model_module": "@jupyter-widgets/base",
      "model_module_version": "1.2.0",
      "model_name": "LayoutModel",
      "state": {
       "width": "5%"
      }
     },
     "d28d5ce323a04ee382b6480790eeff0c": {
      "model_module": "@jupyter-widgets/controls",
      "model_module_version": "1.5.0",
      "model_name": "ButtonStyleModel",
      "state": {
       "font_weight": "bold"
      }
     },
     "d2ac2b9cef514cee9bb4854a259f5cd2": {
      "model_module": "@jupyter-widgets/controls",
      "model_module_version": "1.5.0",
      "model_name": "DescriptionStyleModel",
      "state": {
       "description_width": ""
      }
     },
     "d2af3f617d3e479fbf22d851d71f89ec": {
      "model_module": "@jupyter-widgets/controls",
      "model_module_version": "1.5.0",
      "model_name": "ButtonStyleModel",
      "state": {
       "font_weight": "bold"
      }
     },
     "d2b11893ba6c4e08b17ed884b935b763": {
      "model_module": "@jupyter-widgets/base",
      "model_module_version": "1.2.0",
      "model_name": "LayoutModel",
      "state": {}
     },
     "d2c767e3a4564054a041c467fa0fbf4d": {
      "model_module": "@jupyter-widgets/controls",
      "model_module_version": "1.5.0",
      "model_name": "ButtonModel",
      "state": {
       "icon": "eye-slash",
       "layout": "IPY_MODEL_ff19fa5a6c3d40718ac5338c26408fc7",
       "style": "IPY_MODEL_2924dabd84ad428d813f35aa5bf4061a",
       "tooltip": "removes temporary output view"
      }
     },
     "d376fb8788d042d9aaeca750ea8ef4eb": {
      "model_module": "@jupyter-widgets/controls",
      "model_module_version": "1.5.0",
      "model_name": "AccordionModel",
      "state": {
       "_titles": {
        "0": "docx_to_pdf"
       },
       "children": [
        "IPY_MODEL_a570de5ece3e43fa8e8e7430898bdc29"
       ],
       "layout": "IPY_MODEL_2ce5063a724e45359e5673f570c8d47d",
       "selected_index": null
      }
     },
     "d3f5c6c276f14289bcbd6ae134102b13": {
      "model_module": "@jupyter-widgets/controls",
      "model_module_version": "1.5.0",
      "model_name": "VBoxModel",
      "state": {
       "children": [
        "IPY_MODEL_c80cdc68038c4551a5063159c02b7696",
        "IPY_MODEL_490da82f08bc443792ed46105015640d"
       ],
       "layout": "IPY_MODEL_a46120fbe6d34fbf88e13d89566b26f5"
      }
     },
     "d4b0b84f51d44908a86d8f362934cb9d": {
      "model_module": "@jupyter-widgets/controls",
      "model_module_version": "1.5.0",
      "model_name": "ButtonStyleModel",
      "state": {
       "font_weight": "bold"
      }
     },
     "d4b2100543e2449faaf2f3afb3e40118": {
      "model_module": "@jupyter-widgets/base",
      "model_module_version": "1.2.0",
      "model_name": "LayoutModel",
      "state": {
       "width": "5%"
      }
     },
     "d4c27c7a51aa4eb580bab1ed761733c5": {
      "model_module": "@jupyter-widgets/base",
      "model_module_version": "1.2.0",
      "model_name": "LayoutModel",
      "state": {}
     },
     "d4c65c0546f846d79aa614d1a56089e9": {
      "model_module": "@jupyter-widgets/controls",
      "model_module_version": "1.5.0",
      "model_name": "ButtonModel",
      "state": {
       "icon": "question-circle",
       "layout": "IPY_MODEL_e73f11f70b86438bb683aa55d59a87a9",
       "style": "IPY_MODEL_63d7bd1150ac403aaf9bd955eac52bbd",
       "tooltip": "describes the functionality of elements in the RunApp interface"
      }
     },
     "d4f8f5ff57c04a48a94a4b656d1d6f62": {
      "model_module": "@jupyter-widgets/controls",
      "model_module_version": "1.5.0",
      "model_name": "ButtonModel",
      "state": {
       "button_style": "warning",
       "description": "edit inputs",
       "layout": "IPY_MODEL_5a0b99be6c894b408a80d2d647a0e507",
       "style": "IPY_MODEL_e1ed990ead954fbdb20c0834a8f832a2",
       "tooltip": "edit the user input information that is used when the script is executed"
      }
     },
     "d509e6a9964c4744aca0ee8ffd5fb01c": {
      "model_module": "@jupyter-widgets/base",
      "model_module_version": "1.2.0",
      "model_name": "LayoutModel",
      "state": {
       "height": "30px",
       "width": "auto"
      }
     },
     "d5156e313d77405abce94dc81dfacbfb": {
      "model_module": "@jupyter-widgets/controls",
      "model_module_version": "1.5.0",
      "model_name": "RadioButtonsModel",
      "state": {
       "_options_labels": [
        "TEMPLATE: C:\\engDev\\git_mf\\MF_Toolbox\\dev\\mf_scripts\\template_inputs\\inputs-eplus_pipework_params.csv",
        "PROJECT: C:\\engDev\\git_mf\\ipyrun\\ipyrun\\appdata\\inputs\\inputs-eplus_pipework_params-1.csv",
        "PROJECT: C:\\engDev\\git_mf\\ipyrun\\ipyrun\\appdata\\inputs\\inputs-eplus_pipework_params.csv",
        "PROJECT: C:\\engDev\\git_mf\\ipyrun\\ipyrun\\appdata\\inputs\\archive\\20200605-1625-inputs-eplus_pipework_params.csv",
        "PROJECT: C:\\engDev\\git_mf\\ipyrun\\ipyrun\\appdata\\inputs\\archive\\20200605-1625inputs-eplus_pipework_params.csv",
        "PROJECT: C:\\engDev\\git_mf\\ipyrun\\ipyrun\\appdata\\inputs\\archive\\20200607_1420-jg-inputs-eplus_pipework_params.csv",
        "PROJECT: C:\\engDev\\git_mf\\ipyrun\\ipyrun\\appdata\\inputs\\archive\\20200611_1021-jg-inputs-eplus_pipework_params.csv"
       ],
       "index": 0,
       "layout": "IPY_MODEL_93114e08da0a40e38222f41c07120130",
       "style": "IPY_MODEL_e03cae369c6848b7a114b9dbdb63f490"
      }
     },
     "d65d2358b9b14ac592ea37cad52331f7": {
      "model_module": "@jupyter-widgets/controls",
      "model_module_version": "1.5.0",
      "model_name": "AccordionModel",
      "state": {
       "_titles": {
        "0": "eplus_pipework_params"
       },
       "children": [
        "IPY_MODEL_a341a0f57084491db317c04edcacd701"
       ],
       "layout": "IPY_MODEL_ca79f3d1ad644b98a7322c34189d668c",
       "selected_index": null
      }
     },
     "d6627ee6b32749cd96e2af2351b197f0": {
      "model_module": "@jupyter-widgets/controls",
      "model_module_version": "1.5.0",
      "model_name": "ButtonStyleModel",
      "state": {
       "font_weight": "bold"
      }
     },
     "d6c6a7d3872c4d64bae2877dc94913a7": {
      "model_module": "@jupyter-widgets/controls",
      "model_module_version": "1.5.0",
      "model_name": "ButtonModel",
      "state": {
       "button_style": "info",
       "description": "show source code",
       "layout": "IPY_MODEL_715c3c5493b04b78b11e8730c8ae3729",
       "style": "IPY_MODEL_d977725106654f80965498242fa1b7b3",
       "tooltip": "shows the raw python code in the preview window below"
      }
     },
     "d6fc18202ac24242bbb5858d2d85b9da": {
      "model_module": "@jupyter-widgets/controls",
      "model_module_version": "1.5.0",
      "model_name": "ButtonStyleModel",
      "state": {
       "font_weight": "bold"
      }
     },
     "d72d01abfbaa44c598ca4362c2b66b46": {
      "model_module": "@jupyter-widgets/controls",
      "model_module_version": "1.5.0",
      "model_name": "HBoxModel",
      "state": {
       "children": [
        "IPY_MODEL_8542d2bc9ae147bb9e57ce6f623f4d5b",
        "IPY_MODEL_cdedff441cb948f39260a19feab7d047",
        "IPY_MODEL_612efa544f44475382baaa92693a5356",
        "IPY_MODEL_3c3207d61cc94511ab00c241517ff691",
        "IPY_MODEL_e8b69216e06c4ce2aed928b49e489442",
        "IPY_MODEL_0118b4164fea4122999d30a9e6796d9b",
        "IPY_MODEL_a6ffe2824a5d4a7691e304eaf7b1cd29"
       ],
       "layout": "IPY_MODEL_8dd93492248a4b1dabb6ad9b46b5a528"
      }
     },
     "d7510c6b77784393a33cd9a64e095738": {
      "model_module": "@jupyter-widgets/controls",
      "model_module_version": "1.5.0",
      "model_name": "ButtonStyleModel",
      "state": {
       "font_weight": "bold"
      }
     },
     "d78f45a6a0384f44805ab2bde8c0e51f": {
      "model_module": "@jupyter-widgets/controls",
      "model_module_version": "1.5.0",
      "model_name": "ButtonModel",
      "state": {
       "button_style": "info",
       "description": "show guide",
       "layout": "IPY_MODEL_41eda6ac45784084ab83f23c28d1afc4",
       "style": "IPY_MODEL_d7510c6b77784393a33cd9a64e095738",
       "tooltip": "read the \"docstring\", ie. the documentation that was written to accompany the script"
      }
     },
     "d7a7e73c56df4960843504e757295637": {
      "model_module": "@jupyter-widgets/controls",
      "model_module_version": "1.5.0",
      "model_name": "ButtonStyleModel",
      "state": {
       "font_weight": "bold"
      }
     },
     "d7b2bd1f621c4de5b68a22edbe7f114a": {
      "model_module": "@jupyter-widgets/controls",
      "model_module_version": "1.5.0",
      "model_name": "ButtonStyleModel",
      "state": {
       "font_weight": "bold"
      }
     },
     "d7c20ff4aa6249028425d0fe968aa0f5": {
      "model_module": "@jupyter-widgets/controls",
      "model_module_version": "1.5.0",
      "model_name": "ButtonStyleModel",
      "state": {
       "font_weight": "bold"
      }
     },
     "d82c92d0e63c40449e1d40fb7d6fe5ff": {
      "buffers": [
       {
        "data": "H4sIAAAAAAACA91TwW7DIAz9lcnnpCI04pDrdullPxCiiCU0pSWAMKSbqvz7SLJpl50mVdp2MNjPBr+HxQ0Gr3qobtCLIKCqa5BOR2ydcvJq/aV1wosRIYPzbogGgzUyBZRQkhOWF+yhIBUtq4JCZqLW2wKPFefSDE9y4nxQoR2PnCv35qP52o0N8sXaC3IunFv6p5xxMSyA705qkpwvjQgrWFsQWubnId8q8m9Z7jqcoMl+poFV+/L+Gti9NbC/r6H8B3Mof88cmgyU6eVr6+0Vl69uxCiTU8NhgZNImISOK1STJLlIRpPtk5VNM3+e76yOo1nLwHnbScTndNX6ShGlX53EWwb1gR6tH4U+IMYtDmLALeHC6bAyT/zm+R2J1FLahwQAAA==",
        "encoding": "base64",
        "path": [
         "_grid_data_up"
        ]
       }
      ],
      "model_module": "ipyaggrid",
      "model_module_version": "~0.2.1",
      "model_name": "AgGridModel",
      "state": {
       "_grid_data_down": [
        {
         "datetime": "2020-06-16 10:24:12",
         "formalIssue": null,
         "fpthInputs": "C:\\engDev\\git_mf\\ipyrun\\ipyrun\\notebooks\\appdata\\inputs\\archive\\20200616_1024-jg-inputs-eplus_pipework_params.csv",
         "processName": "eplus_pipework_params",
         "tags": null,
         "user": "j.gunstone"
        },
        {
         "datetime": "2020-06-16 10:26:34",
         "formalIssue": null,
         "fpthInputs": "C:\\engDev\\git_mf\\ipyrun\\ipyrun\\notebooks\\appdata\\inputs\\archive\\20200616_1026-jg-inputs-eplus_pipework_params.csv",
         "processName": "eplus_pipework_params",
         "tags": null,
         "user": "j.gunstone"
        },
        {
         "datetime": "2020-06-16 10:26:36",
         "formalIssue": null,
         "fpthInputs": "C:\\engDev\\git_mf\\ipyrun\\ipyrun\\notebooks\\appdata\\inputs\\archive\\20200616_1026-jg-inputs-eplus_pipework_params.csv",
         "processName": "eplus_pipework_params",
         "tags": null,
         "user": "j.gunstone"
        },
        {
         "datetime": "2020-06-16 10:26:44",
         "formalIssue": null,
         "fpthInputs": "C:\\engDev\\git_mf\\ipyrun\\ipyrun\\notebooks\\appdata\\inputs\\archive\\20200616_1026-jg-inputs-eplus_pipework_params.csv",
         "processName": "eplus_pipework_params",
         "tags": null,
         "user": "j.gunstone"
        },
        {
         "datetime": "2020-06-16 10:26:46",
         "formalIssue": null,
         "fpthInputs": "C:\\engDev\\git_mf\\ipyrun\\ipyrun\\notebooks\\appdata\\inputs\\archive\\20200616_1026-jg-inputs-eplus_pipework_params.csv",
         "processName": "eplus_pipework_params",
         "tags": null,
         "user": "j.gunstone"
        }
       ],
       "_grid_options_mono_down": "{\"enableSorting\": true, \"enableFilter\": true, \"enableColResize\": true, \"enableRangeSelection\": true, \"columnDefs\": [{\"field\": \"processName\", \"type\": \"textColumn\", \"headerName\": \"Processname\"}, {\"field\": \"user\", \"type\": \"textColumn\", \"headerName\": \"User\"}, {\"field\": \"datetime\", \"type\": \"textColumn\", \"headerName\": \"Datetime\"}, {\"field\": \"formalIssue\", \"type\": \"numberColumn\", \"headerName\": \"Formalissue\"}, {\"field\": \"tags\", \"type\": \"numberColumn\", \"headerName\": \"Tags\"}, {\"field\": \"fpthInputs\", \"type\": \"textColumn\", \"headerName\": \"Fpthinputs\"}], \"columnTypes\": {\"numberColumn\": {\"filter\": \"agNumberColumnFilter\"}, \"textColumn\": {\"filter\": \"agTextColumnFilter\"}, \"dateColumn\": {\"valueFormatter\": \"helpers.dateFormatter\", \"filter\": \"agDateColumnFilter\", \"filterParams\": {\"comparator\": \"helpers.compareDates\"}}}}",
       "_id": 129465717,
       "_js_helpers_builtin": "helpersBuiltin = {\n    dateFormatter: function(node) {\n        // make sure date is not undefined\n        if (node && node.value) {\n            let d = new Date(node.value);\n            let h = d.getHours();\n            let m = d.getMinutes();\n            let s = d.getSeconds();\n            const offset = d.getTimezoneOffset() * 60000;\n            d = new Date(d.getTime() - offset);\n            const ymd = d.toISOString().substring(0, 10);\n            if (h === 0 && m === 0 && s === 0) {\n                return ymd;\n            }\n            if (h === 0) h = '00';\n            if (m === 0) m = '00';\n            if (s === 0) s = '00';\n            return `${ymd} ${h}:${m}:${s}`;\n        }\n        return null;\n    },\n\n    formatInt: d3.format(',.0f'),\n    formatFloat: d3.format(',.2f'),\n\n    intFormatter: function(node) {\n        return formatInt(node.value);\n    },\n\n    floatFormatter: function(node) {\n        return formatFloat(node.value);\n    },\n\n    compareDates: function(filterLocalDate, cellValue) {\n        // Assume dates are stored as iso\n        const cellDate = new Date(cellValue);\n\n        if (cellDate < filterLocalDate) {\n            return -1;\n        } else if (cellDate > filterLocalDate) {\n            return 1;\n        }\n        return 0;\n    },\n\n    sizeToFit: function(gridOptions) {\n        gridOptions.api.sizeColumnsToFit();\n    },\n\n    autoSizeAll: function(gridOptions) {\n        const allColumnIds = [];\n        gridOptions.columnApi.getAllColumns().forEach(column => {\n            allColumnIds.push(column.colId);\n        });\n        gridOptions.columnApi.autoSizeColumns(allColumnIds);\n    },\n\n    /**\n     * Exporting data to CSV using ag-Grid api.\n     * @param {Object} gridOptions\n     */\n    exportToCsv: function(gridOptions) {\n        const params = {\n            skipHeader: false,\n            columnGroups: true,\n            skipFooters: false,\n            skipGroups: false,\n            skipPinnedTop: false,\n            skipPinnedBottom: false,\n            allColumns: true,\n            onlySelected: false,\n            suppressQuotes: true,\n            fileName: 'my_file.csv',\n            sheetName: 'my_sheet',\n            shouldRowBeSkipped: () => false,\n            processCellCallback: param => param.value,\n            processHeaderCallback: null,\n        };\n        gridOptions.api.exportDataAsCsv(params);\n    },\n\n    /**\n     * Exporting data to Excel using ag-Grid api.\n     * @param {Object} gridOptions\n     */\n    exportToExcel: function(gridOptions) {\n        const params = {\n            skipHeader: false,\n            columnGroups: true,\n            skipFooters: false,\n            skipGroups: false,\n            skipPinnedTop: false,\n            skipPinnedBottom: false,\n            allColumns: true,\n            onlySelected: false,\n            suppressQuotes: true,\n            fileName: 'my_file.xls',\n            sheetName: 'my_sheet',\n            shouldRowBeSkipped: () => false, // TODO : check\n            processCellCallback: param => param.value,\n            processHeaderCallback: null,\n        };\n        gridOptions.api.exportDataAsExcel(params);\n    },\n};\n",
       "columns_fit": "size_to_fit",
       "compress_data": true,
       "export_mode": "disabled",
       "height": "350px",
       "js_helpers": "{\"dateFormatter\":\"function(node) {\\n        // make sure date is not undefined\\n        if (node && node.value) {\\n            let d = new Date(node.value);\\n            let h = d.getHours();\\n            let m = d.getMinutes();\\n            let s = d.getSeconds();\\n            const offset = d.getTimezoneOffset() * 60000;\\n            d = new Date(d.getTime() - offset);\\n            const ymd = d.toISOString().substring(0, 10);\\n            if (h === 0 && m === 0 && s === 0) {\\n                return ymd;\\n            }\\n            if (h === 0) h = '00';\\n            if (m === 0) m = '00';\\n            if (s === 0) s = '00';\\n            return `${ymd} ${h}:${m}:${s}`;\\n        }\\n        return null;\\n    }\",\"formatInt\":\" >-,.0f\",\"formatFloat\":\" >-,.2f\",\"intFormatter\":\"function(node) {\\n        return formatInt(node.value);\\n    }\",\"floatFormatter\":\"function(node) {\\n        return formatFloat(node.value);\\n    }\",\"compareDates\":\"function(filterLocalDate, cellValue) {\\n        // Assume dates are stored as iso\\n        const cellDate = new Date(cellValue);\\n\\n        if (cellDate < filterLocalDate) {\\n            return -1;\\n        } else if (cellDate > filterLocalDate) {\\n            return 1;\\n        }\\n        return 0;\\n    }\",\"sizeToFit\":\"function(gridOptions) {\\n        gridOptions.api.sizeColumnsToFit();\\n    }\",\"autoSizeAll\":\"function(gridOptions) {\\n        const allColumnIds = [];\\n        gridOptions.columnApi.getAllColumns().forEach(column => {\\n            allColumnIds.push(column.colId);\\n        });\\n        gridOptions.columnApi.autoSizeColumns(allColumnIds);\\n    }\",\"exportToCsv\":\"function(gridOptions) {\\n        const params = {\\n            skipHeader: false,\\n            columnGroups: true,\\n            skipFooters: false,\\n            skipGroups: false,\\n            skipPinnedTop: false,\\n            skipPinnedBottom: false,\\n            allColumns: true,\\n            onlySelected: false,\\n            suppressQuotes: true,\\n            fileName: 'my_file.csv',\\n            sheetName: 'my_sheet',\\n            shouldRowBeSkipped: () => false,\\n            processCellCallback: param => param.value,\\n            processHeaderCallback: null,\\n        };\\n        gridOptions.api.exportDataAsCsv(params);\\n    }\",\"exportToExcel\":\"function(gridOptions) {\\n        const params = {\\n            skipHeader: false,\\n            columnGroups: true,\\n            skipFooters: false,\\n            skipGroups: false,\\n            skipPinnedTop: false,\\n            skipPinnedBottom: false,\\n            allColumns: true,\\n            onlySelected: false,\\n            suppressQuotes: true,\\n            fileName: 'my_file.xls',\\n            sheetName: 'my_sheet',\\n            shouldRowBeSkipped: () => false, // TODO : check\\n            processCellCallback: param => param.value,\\n            processHeaderCallback: null,\\n        };\\n        gridOptions.api.exportDataAsExcel(params);\\n    }\"}",
       "layout": "IPY_MODEL_ee39989652dc41fd955fe15b772d3b5e",
       "menu": {
        "button_div_css": ".flex-button-div-129465717 {\ndisplay: flex;\njustify-content: flex-start;\nalign-items: flex-start;\nalign-content: flex-start;\nflex-flow: row wrap;\n}\n",
        "buttons": [],
        "input_div_css": ".flex-input-div-129465717 {\ndisplay: flex;\njustify-content: flex-start;\nalign-items: baseline;\nalign-content: flex-start;\nflex-flow: row wrap;\n}\n",
        "inputs": [
         {
          "css": ".flex-child-quick-filter-129465717 {\norder: 0;\nalign-self: auto;\nmargin: 5px;\nflex: 0.00 1.00 auto;\nwidth: 150px;\n}\n",
          "name": "Quick Filter"
         }
        ],
        "menu_div_css": ".flex-menu-div-129465717 {\ndisplay: flex;\njustify-content: flex-start;\nalign-items: flex-start;\nalign-content: flex-start;\nflex-flow: row wrap;\n}\n"
       },
       "theme": "ag-theme-balham",
       "width": "100%"
      }
     },
     "d85725265c9746d896c2f8762ff23f43": {
      "model_module": "@jupyter-widgets/controls",
      "model_module_version": "1.5.0",
      "model_name": "ButtonStyleModel",
      "state": {
       "font_weight": "bold"
      }
     },
     "d977725106654f80965498242fa1b7b3": {
      "model_module": "@jupyter-widgets/controls",
      "model_module_version": "1.5.0",
      "model_name": "ButtonStyleModel",
      "state": {}
     },
     "d9caf483a7804ce9a3126954f0c89f24": {
      "model_module": "@jupyter-widgets/base",
      "model_module_version": "1.2.0",
      "model_name": "LayoutModel",
      "state": {
       "align_items": "stretch",
       "display": "flex",
       "flex_flow": "row",
       "grid_auto_columns": "True",
       "justify_content": "flex-start",
       "width": "80%"
      }
     },
     "d9ec478bfe2b42ba975e084e035884e0": {
      "model_module": "@jupyter-widgets/controls",
      "model_module_version": "1.5.0",
      "model_name": "ButtonModel",
      "state": {
       "button_style": "success",
       "description": "save changes",
       "layout": "IPY_MODEL_121e278a4e6c441db931d13f59e061eb",
       "style": "IPY_MODEL_783d68836e2c419da4638a34ebdf6325"
      }
     },
     "da0503b90d984a1f9694264b37da51b7": {
      "model_module": "@jupyter-widgets/controls",
      "model_module_version": "1.5.0",
      "model_name": "VBoxModel",
      "state": {
       "children": [
        "IPY_MODEL_68cac950715441708f2cfc61c4598390",
        "IPY_MODEL_664a1c30d0c24353acaf3674c4c08134"
       ],
       "layout": "IPY_MODEL_12e6d182f31f4a7b82920837f19432a9"
      }
     },
     "da1b53ab44944a0598fe9cfb30cc983d": {
      "model_module": "@jupyter-widgets/controls",
      "model_module_version": "1.5.0",
      "model_name": "ButtonModel",
      "state": {
       "button_style": "info",
       "description": "show log",
       "layout": "IPY_MODEL_6f8cb1941fe94406805947d8d35386d6",
       "style": "IPY_MODEL_db6773d4a45b4e78bd77561bceda63d5",
       "tooltip": "show a log of when the script was executed to generate the outputs, and by who"
      }
     },
     "da89cc4efaf047558de2ba66a649c6ec": {
      "model_module": "@jupyter-widgets/controls",
      "model_module_version": "1.5.0",
      "model_name": "TextModel",
      "state": {
       "description": "script",
       "disabled": true,
       "layout": "IPY_MODEL_e8ea60f302a04f498346731827336eb1",
       "style": "IPY_MODEL_1947432c45824b34814cf5a89b00f19b",
       "value": "C:\\engDev\\git_mf\\MF_Toolbox\\dev\\mf_scripts\\docx_to_pdf.py"
      }
     },
     "daa1937e1c5247ac9a5d7b81ce573f5b": {
      "model_module": "@jupyter-widgets/controls",
      "model_module_version": "1.5.0",
      "model_name": "ButtonStyleModel",
      "state": {
       "font_weight": "bold"
      }
     },
     "dab241177dd048f0a33135eb84bb8ac7": {
      "model_module": "@jupyter-widgets/controls",
      "model_module_version": "1.5.0",
      "model_name": "DescriptionStyleModel",
      "state": {
       "description_width": ""
      }
     },
     "db32456a3e464d889c4c53d46f1e8e71": {
      "model_module": "@jupyter-widgets/controls",
      "model_module_version": "1.5.0",
      "model_name": "ButtonStyleModel",
      "state": {
       "font_weight": "bold"
      }
     },
     "db6773d4a45b4e78bd77561bceda63d5": {
      "model_module": "@jupyter-widgets/controls",
      "model_module_version": "1.5.0",
      "model_name": "ButtonStyleModel",
      "state": {
       "font_weight": "bold"
      }
     },
     "db8ee621018b4c06af817c969cfbb5d6": {
      "model_module": "@jupyter-widgets/base",
      "model_module_version": "1.2.0",
      "model_name": "LayoutModel",
      "state": {}
     },
     "dba644c6d8bf47fdb7800b243489efc2": {
      "model_module": "@jupyter-widgets/base",
      "model_module_version": "1.2.0",
      "model_name": "LayoutModel",
      "state": {}
     },
     "dbae81aff5d2446c888a2b529b3ed946": {
      "model_module": "@jupyter-widgets/controls",
      "model_module_version": "1.5.0",
      "model_name": "DescriptionStyleModel",
      "state": {
       "description_width": ""
      }
     },
     "dc1cbab9430645caa08cc53ea4381687": {
      "model_module": "@jupyter-widgets/controls",
      "model_module_version": "1.5.0",
      "model_name": "HBoxModel",
      "state": {
       "children": [
        "IPY_MODEL_7046487d0de9422f9c37aa206e5fa11d",
        "IPY_MODEL_2b4f1b7593174dacb45f1d8ffb223db4",
        "IPY_MODEL_4d2226881d3844ef9e16e47dbe4cf0e5"
       ],
       "layout": "IPY_MODEL_11f0b6b3fa2742b78586ea71a80d3dc8"
      }
     },
     "dc44cad9c9c64b31a724910414a81445": {
      "model_module": "@jupyter-widgets/base",
      "model_module_version": "1.2.0",
      "model_name": "LayoutModel",
      "state": {}
     },
     "dc911d7bbe2f481faabdab662c6bc021": {
      "model_module": "@jupyter-widgets/base",
      "model_module_version": "1.2.0",
      "model_name": "LayoutModel",
      "state": {}
     },
     "dcb1c09e75354f05be096ebf343e14a4": {
      "model_module": "@jupyter-widgets/base",
      "model_module_version": "1.2.0",
      "model_name": "LayoutModel",
      "state": {
       "width": "5%"
      }
     },
     "dcf4ef716f6748dfa5856cb25b4e712c": {
      "model_module": "@jupyter-widgets/base",
      "model_module_version": "1.2.0",
      "model_name": "LayoutModel",
      "state": {}
     },
     "dd2871c0677546b69b13bd133fdd3a43": {
      "model_module": "@jupyter-widgets/base",
      "model_module_version": "1.2.0",
      "model_name": "LayoutModel",
      "state": {}
     },
     "dd31677aa53a4a10a15dce7e90aea545": {
      "model_module": "@jupyter-widgets/base",
      "model_module_version": "1.2.0",
      "model_name": "LayoutModel",
      "state": {}
     },
     "dd615348355944a2b8a2f4a2c47bffc9": {
      "model_module": "@jupyter-widgets/base",
      "model_module_version": "1.2.0",
      "model_name": "LayoutModel",
      "state": {
       "height": "30px",
       "width": "auto"
      }
     },
     "dd695086c9584f05b1fc286a9da794fd": {
      "model_module": "@jupyter-widgets/controls",
      "model_module_version": "1.5.0",
      "model_name": "TextModel",
      "state": {
       "description": "script",
       "disabled": true,
       "layout": "IPY_MODEL_f4db1b5eb8794ba880bbb2f20edfbaa0",
       "style": "IPY_MODEL_ba87331cf29b40e1b75e6ace357d473b",
       "value": "C:\\engDev\\git_mf\\MF_Toolbox\\dev\\mf_scripts\\docx_to_pdf.py"
      }
     },
     "ddd539da636c4ae8b43739836a1def4a": {
      "model_module": "@jupyter-widgets/controls",
      "model_module_version": "1.5.0",
      "model_name": "SelectMultipleModel",
      "state": {
       "_options_labels": [
        "C:\\engDev\\git_mf\\ipyrun\\data\\external\\eplus_pipework_params.csv"
       ],
       "description": "outputs",
       "index": [],
       "layout": "IPY_MODEL_ee993fdf153c4f6c89254a334e96ab9e",
       "rows": 4,
       "style": "IPY_MODEL_e9982ef02bf84723a3c82ebdde0f1741"
      }
     },
     "de1892122fb243b1862c34c5343d25ee": {
      "model_module": "@jupyter-widgets/controls",
      "model_module_version": "1.5.0",
      "model_name": "DescriptionStyleModel",
      "state": {
       "description_width": ""
      }
     },
     "df95fbf2e0ec4afe8923e778a649c669": {
      "model_module": "@jupyter-widgets/controls",
      "model_module_version": "1.5.0",
      "model_name": "ButtonStyleModel",
      "state": {
       "font_weight": "bold"
      }
     },
     "dfa48470d27741dba09e4d49aeb11a09": {
      "model_module": "@jupyter-widgets/base",
      "model_module_version": "1.2.0",
      "model_name": "LayoutModel",
      "state": {
       "width": "5%"
      }
     },
     "dfddf51d2c1f49119767261592eef0fe": {
      "model_module": "@jupyter-widgets/controls",
      "model_module_version": "1.5.0",
      "model_name": "ButtonStyleModel",
      "state": {
       "font_weight": "bold"
      }
     },
     "dffe03a35786417e81c21d41550db641": {
      "model_module": "@jupyter-widgets/base",
      "model_module_version": "1.2.0",
      "model_name": "LayoutModel",
      "state": {}
     },
     "e00a855d34b5449ca075fc339de67893": {
      "model_module": "@jupyter-widgets/controls",
      "model_module_version": "1.5.0",
      "model_name": "ButtonStyleModel",
      "state": {
       "font_weight": "bold"
      }
     },
     "e03cae369c6848b7a114b9dbdb63f490": {
      "model_module": "@jupyter-widgets/controls",
      "model_module_version": "1.5.0",
      "model_name": "DescriptionStyleModel",
      "state": {
       "description_width": ""
      }
     },
     "e046637e66ea4e7f9996cbfde20610f9": {
      "model_module": "@jupyter-widgets/base",
      "model_module_version": "1.2.0",
      "model_name": "LayoutModel",
      "state": {}
     },
     "e05a854895674c95b892117ec853e920": {
      "model_module": "@jupyter-widgets/base",
      "model_module_version": "1.2.0",
      "model_name": "LayoutModel",
      "state": {}
     },
     "e06a4caf4cc84cf68407f92d2a3789a5": {
      "model_module": "@jupyter-widgets/controls",
      "model_module_version": "1.5.0",
      "model_name": "DescriptionStyleModel",
      "state": {
       "description_width": ""
      }
     },
     "e122bf5100e1490881bb0b656bb73a0b": {
      "model_module": "@jupyter-widgets/controls",
      "model_module_version": "1.5.0",
      "model_name": "ButtonStyleModel",
      "state": {}
     },
     "e1ed990ead954fbdb20c0834a8f832a2": {
      "model_module": "@jupyter-widgets/controls",
      "model_module_version": "1.5.0",
      "model_name": "ButtonStyleModel",
      "state": {
       "font_weight": "bold"
      }
     },
     "e1ff084a03b046a4b15e46fe840c4b40": {
      "model_module": "@jupyter-widgets/controls",
      "model_module_version": "1.5.0",
      "model_name": "ButtonModel",
      "state": {
       "button_style": "warning",
       "description": "revert to last save",
       "layout": "IPY_MODEL_fb02ec173b9f41ed86a1678f96923247",
       "style": "IPY_MODEL_9cbc6e1a64434cc08cf2168457e1224b"
      }
     },
     "e204f538d16f4123a363dd75ba7a2791": {
      "model_module": "@jupyter-widgets/base",
      "model_module_version": "1.2.0",
      "model_name": "LayoutModel",
      "state": {
       "align_items": "stretch",
       "width": "100%"
      }
     },
     "e237131176b54286a74085a7b3952abd": {
      "model_module": "@jupyter-widgets/controls",
      "model_module_version": "1.5.0",
      "model_name": "ButtonModel",
      "state": {
       "button_style": "success",
       "description": "run batch",
       "layout": "IPY_MODEL_aa15e27835fc4e44ad21c04dd534b85d",
       "style": "IPY_MODEL_d6627ee6b32749cd96e2af2351b197f0",
       "tooltip": "execute checked processes below"
      }
     },
     "e24063452c794c378a5b760885bb8296": {
      "model_module": "@jupyter-widgets/controls",
      "model_module_version": "1.5.0",
      "model_name": "DescriptionStyleModel",
      "state": {
       "description_width": ""
      }
     },
     "e247d1a1d1034d64bca64753a28028da": {
      "model_module": "@jupyter-widgets/controls",
      "model_module_version": "1.5.0",
      "model_name": "DescriptionStyleModel",
      "state": {
       "description_width": ""
      }
     },
     "e33279ee630849e4adce4f26bc2b64a7": {
      "model_module": "ipysheet",
      "model_module_version": "~0.4.4",
      "model_name": "CellRangeModel",
      "state": {
       "_view_module": null,
       "_view_module_version": "",
       "choice": [],
       "column_end": 3,
       "column_start": 3,
       "numeric_format": null,
       "row_start": 0,
       "squeeze_row": false,
       "type": "text",
       "value": [
        "generally the working directory of (same folder as) the app/notebook. outputs will be relative to this location",
        "filepath to an energyPlus software C++ script file that will be extract for parameter fields"
       ]
      }
     },
     "e34131ea507542ad8747244ad64a5b20": {
      "model_module": "@jupyter-widgets/controls",
      "model_module_version": "1.5.0",
      "model_name": "HBoxModel",
      "state": {
       "children": [
        "IPY_MODEL_58de489e1a2d4aa0ae2781730faa3be2",
        "IPY_MODEL_5996cf4ac364451694105dc4f59b98c0"
       ],
       "layout": "IPY_MODEL_1b7c8965d54b43289689b21ea8a46262"
      }
     },
     "e3db94282fef442a9871500f842d8d71": {
      "model_module": "@jupyter-widgets/controls",
      "model_module_version": "1.5.0",
      "model_name": "ButtonModel",
      "state": {
       "icon": "question-circle",
       "layout": "IPY_MODEL_e8b0cc9779c0490e99ac1f9a6bf7bead",
       "style": "IPY_MODEL_e00a855d34b5449ca075fc339de67893",
       "tooltip": "describes the functionality of elements in the RunApp interface"
      }
     },
     "e3e5b9a04e4848e58136b123deac2707": {
      "model_module": "@jupyter-widgets/controls",
      "model_module_version": "1.5.0",
      "model_name": "ButtonStyleModel",
      "state": {
       "font_weight": "bold"
      }
     },
     "e3fc44af605348a88d87f61e996ef1e6": {
      "model_module": "@jupyter-widgets/base",
      "model_module_version": "1.2.0",
      "model_name": "LayoutModel",
      "state": {}
     },
     "e43acc80778f4a56ae48e71980a4a8f3": {
      "model_module": "@jupyter-widgets/controls",
      "model_module_version": "1.5.0",
      "model_name": "DescriptionStyleModel",
      "state": {
       "description_width": ""
      }
     },
     "e456a8c02bfd4add8b4184b598410829": {
      "model_module": "@jupyter-widgets/controls",
      "model_module_version": "1.5.0",
      "model_name": "ButtonModel",
      "state": {
       "button_style": "info",
       "description": "show log",
       "layout": "IPY_MODEL_b21c964763ac487b9c41f2fab60e1d27",
       "style": "IPY_MODEL_40106978eb8c4695952f64235366feb5",
       "tooltip": "show a log of when the script was executed to generate the outputs, and by who"
      }
     },
     "e458f971a1694453bb28b22a71b8e227": {
      "model_module": "@jupyter-widgets/base",
      "model_module_version": "1.2.0",
      "model_name": "LayoutModel",
      "state": {
       "height": "30px",
       "max_width": "30px",
       "padding": "3px"
      }
     },
     "e47cb1fd16a546179aaef4b1fae86ee0": {
      "model_module": "@jupyter-widgets/controls",
      "model_module_version": "1.5.0",
      "model_name": "VBoxModel",
      "state": {
       "children": [
        "IPY_MODEL_c4eb6fea4b9c444cab9f69206ab7e0d2",
        "IPY_MODEL_5bb428bd21064230a984b5aba2962d49"
       ],
       "layout": "IPY_MODEL_64901c5ffabd45a0b3e4d58d75ea06bc"
      }
     },
     "e4f6215cf87649edb8ca42b5694057fe": {
      "model_module": "@jupyter-widgets/controls",
      "model_module_version": "1.5.0",
      "model_name": "BoxModel",
      "state": {
       "children": [
        "IPY_MODEL_7ee44f70c8a54831a1f7324855d3587a"
       ],
       "layout": "IPY_MODEL_dc44cad9c9c64b31a724910414a81445"
      }
     },
     "e5961ec1d4e64d9ebfe551b46720c5c5": {
      "model_module": "@jupyter-widgets/base",
      "model_module_version": "1.2.0",
      "model_name": "LayoutModel",
      "state": {}
     },
     "e65c2d673cd64fe9bf357112c082cd41": {
      "model_module": "@jupyter-widgets/base",
      "model_module_version": "1.2.0",
      "model_name": "LayoutModel",
      "state": {
       "height": "30px",
       "max_width": "30px",
       "padding": "3px"
      }
     },
     "e6f8ef1cdd8b410ea2650a0c4bc15598": {
      "model_module": "@jupyter-widgets/controls",
      "model_module_version": "1.5.0",
      "model_name": "HBoxModel",
      "state": {
       "children": [
        "IPY_MODEL_261f8c6a28da4827885450a454f5b06a",
        "IPY_MODEL_adf0aa5681d54a00b8a6b0baa33c4e5d"
       ],
       "layout": "IPY_MODEL_a38c9b950388460aba16928d6f1f4e64"
      }
     },
     "e73f11f70b86438bb683aa55d59a87a9": {
      "model_module": "@jupyter-widgets/base",
      "model_module_version": "1.2.0",
      "model_name": "LayoutModel",
      "state": {
       "width": "5%"
      }
     },
     "e7f575b46ec44bb0aa55723be70dba8e": {
      "model_module": "@jupyter-widgets/controls",
      "model_module_version": "1.5.0",
      "model_name": "VBoxModel",
      "state": {
       "children": [
        "IPY_MODEL_ed946ad1ae0346e2812253d771396aab",
        "IPY_MODEL_dd695086c9584f05b1fc286a9da794fd",
        "IPY_MODEL_a42b07782bd94eb0a9f0db9a979f07cd"
       ],
       "layout": "IPY_MODEL_312d33ad964e450d8bb23df0854fae41"
      }
     },
     "e82e50f16d3244e8b6fd736f7c45958b": {
      "model_module": "@jupyter-widgets/base",
      "model_module_version": "1.2.0",
      "model_name": "LayoutModel",
      "state": {}
     },
     "e89a91e4408e48f7b688fc792c659c5b": {
      "model_module": "@jupyter-widgets/controls",
      "model_module_version": "1.5.0",
      "model_name": "ButtonModel",
      "state": {
       "icon": "eye-slash",
       "layout": "IPY_MODEL_33652d528e6d46b0b758a389c9194e67",
       "style": "IPY_MODEL_5eea4363a9b248d0b2de48ecb40220c3",
       "tooltip": "removes temporary output view"
      }
     },
     "e8b0cc9779c0490e99ac1f9a6bf7bead": {
      "model_module": "@jupyter-widgets/base",
      "model_module_version": "1.2.0",
      "model_name": "LayoutModel",
      "state": {
       "width": "5%"
      }
     },
     "e8b69216e06c4ce2aed928b49e489442": {
      "model_module": "@jupyter-widgets/controls",
      "model_module_version": "1.5.0",
      "model_name": "ButtonModel",
      "state": {
       "button_style": "success",
       "description": "run",
       "layout": "IPY_MODEL_f63fba4b846241868967edf2f6bc608d",
       "style": "IPY_MODEL_7f7f2bb17db04c1186958723a0517829",
       "tooltip": "execute the script based on the user inputs"
      }
     },
     "e8c9554f51a6459bad74cf6eaf903137": {
      "model_module": "@jupyter-widgets/controls",
      "model_module_version": "1.5.0",
      "model_name": "ButtonStyleModel",
      "state": {
       "font_weight": "bold"
      }
     },
     "e8ea60f302a04f498346731827336eb1": {
      "model_module": "@jupyter-widgets/base",
      "model_module_version": "1.2.0",
      "model_name": "LayoutModel",
      "state": {
       "height": "30px",
       "width": "auto"
      }
     },
     "e8ed52570555428fbacaa9449edfdfc0": {
      "model_module": "@jupyter-widgets/base",
      "model_module_version": "1.2.0",
      "model_name": "LayoutModel",
      "state": {
       "width": "5%"
      }
     },
     "e9982ef02bf84723a3c82ebdde0f1741": {
      "model_module": "@jupyter-widgets/controls",
      "model_module_version": "1.5.0",
      "model_name": "DescriptionStyleModel",
      "state": {
       "description_width": ""
      }
     },
     "e998538e8fa54943a71304e37cc68e84": {
      "model_module": "ipysheet",
      "model_module_version": "~0.4.4",
      "model_name": "CellRangeModel",
      "state": {
       "_view_module": null,
       "_view_module_version": "",
       "choice": [],
       "column_end": 0,
       "column_start": 0,
       "numeric_format": null,
       "row_start": 0,
       "squeeze_row": false,
       "type": "text",
       "value": [
        "FDIR",
        "fpth_eplus"
       ]
      }
     },
     "ea6b94a441ab442cbeaec53260a90fc6": {
      "model_module": "@jupyter-widgets/controls",
      "model_module_version": "1.5.0",
      "model_name": "ButtonModel",
      "state": {
       "description": "load",
       "icon": "upload",
       "layout": "IPY_MODEL_b8217a1d2ed34f10a810f1d2546da3a8",
       "style": "IPY_MODEL_79dbc95a7d474d839f6a848f4616221a"
      }
     },
     "eb5a148786c341dd99e573e8d9d76003": {
      "model_module": "@jupyter-widgets/output",
      "model_module_version": "1.0.0",
      "model_name": "OutputModel",
      "state": {
       "layout": "IPY_MODEL_e046637e66ea4e7f9996cbfde20610f9"
      }
     },
     "eb7c40eb1bdc47faa43717c08a931d74": {
      "model_module": "@jupyter-widgets/base",
      "model_module_version": "1.2.0",
      "model_name": "LayoutModel",
      "state": {}
     },
     "eb890d599d5b4498912777dd63658a15": {
      "model_module": "@jupyter-widgets/output",
      "model_module_version": "1.0.0",
      "model_name": "OutputModel",
      "state": {
       "layout": "IPY_MODEL_4ede2fb88a0344fd923743c65e7cc29a"
      }
     },
     "eb8af2ba685f4f97a0b88953b8cb8535": {
      "model_module": "@jupyter-widgets/controls",
      "model_module_version": "1.5.0",
      "model_name": "ButtonModel",
      "state": {
       "button_style": "warning",
       "description": "edit inputs",
       "layout": "IPY_MODEL_7eb5923c10d44531a8d9aa051469c818",
       "style": "IPY_MODEL_239f24c58ef94c218095975ee5898ee0",
       "tooltip": "edit the user input information that is used when the script is executed"
      }
     },
     "eb8ff82d8b514fdb9090eef6173bf160": {
      "model_module": "@jupyter-widgets/controls",
      "model_module_version": "1.5.0",
      "model_name": "ButtonModel",
      "state": {
       "icon": "question-circle",
       "layout": "IPY_MODEL_d21c7a369b004f3aba125c7561f7a4ef",
       "style": "IPY_MODEL_3a5b628c104c4961a59c86c190b0878f",
       "tooltip": "describes the functionality of elements in the RunApp interface"
      }
     },
     "ebb49d1f870e49f884b6fe08529533d7": {
      "model_module": "@jupyter-widgets/base",
      "model_module_version": "1.2.0",
      "model_name": "LayoutModel",
      "state": {}
     },
     "ec1488f951384c99bb66a193cfc3c2b5": {
      "model_module": "@jupyter-widgets/base",
      "model_module_version": "1.2.0",
      "model_name": "LayoutModel",
      "state": {
       "border": "0px",
       "margin": "0px",
       "padding": "0px"
      }
     },
     "ec28af57a83644a4a06d8d64efc990c6": {
      "model_module": "@jupyter-widgets/output",
      "model_module_version": "1.0.0",
      "model_name": "OutputModel",
      "state": {
       "layout": "IPY_MODEL_8186c47bf71f45b280d8e409ed62a0fa"
      }
     },
     "ec2d057ca9b04056a39083f94de54a64": {
      "model_module": "@jupyter-widgets/controls",
      "model_module_version": "1.5.0",
      "model_name": "VBoxModel",
      "state": {
       "children": [
        "IPY_MODEL_1f4065e783ac4a4db999d261891fdccf",
        "IPY_MODEL_bcffe377ac804fdd85cc970f9ed4ebb3"
       ],
       "layout": "IPY_MODEL_657e9be366a84a758e944fca5f086b2c"
      }
     },
     "ec9dcfd0b0e94c83b2690fb15457b7bc": {
      "model_module": "@jupyter-widgets/base",
      "model_module_version": "1.2.0",
      "model_name": "LayoutModel",
      "state": {}
     },
     "ed03fc52a766463087cdc1422b8bbee1": {
      "model_module": "@jupyter-widgets/base",
      "model_module_version": "1.2.0",
      "model_name": "LayoutModel",
      "state": {
       "align_items": "stretch",
       "width": "100%"
      }
     },
     "ed2dc238ba3a419d8b201c8a03479042": {
      "model_module": "@jupyter-widgets/controls",
      "model_module_version": "1.5.0",
      "model_name": "ButtonStyleModel",
      "state": {
       "font_weight": "bold"
      }
     },
     "ed946ad1ae0346e2812253d771396aab": {
      "model_module": "@jupyter-widgets/controls",
      "model_module_version": "1.5.0",
      "model_name": "TextModel",
      "state": {
       "description": "inputs",
       "disabled": true,
       "layout": "IPY_MODEL_7d12c485ba7c46ef82196f26c64dcf70",
       "style": "IPY_MODEL_14d4c2dcf6e54a7cbdbfd09e5df9857f",
       "value": "C:\\engDev\\git_mf\\ipyrun\\ipyrun\\appdata\\inputs\\inputs-docx_to_pdf.json"
      }
     },
     "edb636b93e13407fba6216d463b017b5": {
      "model_module": "@jupyter-widgets/output",
      "model_module_version": "1.0.0",
      "model_name": "OutputModel",
      "state": {
       "layout": "IPY_MODEL_3ee7cdc93ada4c838db1fcfaf8c9fd16",
       "outputs": [
        {
         "data": {
          "text/markdown": "3 out of 3 scripts selected to be run",
          "text/plain": "<IPython.core.display.Markdown object>"
         },
         "metadata": {},
         "output_type": "display_data"
        },
        {
         "data": {
          "text/markdown": "running: eplus_pipework_params",
          "text/plain": "<IPython.core.display.Markdown object>"
         },
         "metadata": {},
         "output_type": "display_data"
        },
        {
         "ename": "TypeError",
         "evalue": "_log() takes 1 positional argument but 2 were given",
         "output_type": "error",
         "traceback": [
          "\u001b[1;31m---------------------------------------------------------------------------\u001b[0m",
          "\u001b[1;31mTypeError\u001b[0m                                 Traceback (most recent call last)",
          "\u001b[1;32m<ipython-input-6-ffbe6408655c>\u001b[0m in \u001b[0;36m_run_batch\u001b[1;34m(self, sender)\u001b[0m\n\u001b[0;32m    256\u001b[0m                     \u001b[0mdisplay\u001b[0m\u001b[1;33m(\u001b[0m\u001b[0mMarkdown\u001b[0m\u001b[1;33m(\u001b[0m\u001b[1;34m'running: {0}'\u001b[0m\u001b[1;33m.\u001b[0m\u001b[0mformat\u001b[0m\u001b[1;33m(\u001b[0m\u001b[0ml\u001b[0m\u001b[1;33m.\u001b[0m\u001b[0mconfig\u001b[0m\u001b[1;33m[\u001b[0m\u001b[1;34m'process_name'\u001b[0m\u001b[1;33m]\u001b[0m\u001b[1;33m)\u001b[0m\u001b[1;33m)\u001b[0m\u001b[1;33m)\u001b[0m\u001b[1;33m\u001b[0m\u001b[1;33m\u001b[0m\u001b[0m\n\u001b[0;32m    257\u001b[0m                     \u001b[0ml\u001b[0m\u001b[1;33m.\u001b[0m\u001b[0m_run_script\u001b[0m\u001b[1;33m(\u001b[0m\u001b[1;34m'sender'\u001b[0m\u001b[1;33m)\u001b[0m\u001b[1;33m\u001b[0m\u001b[1;33m\u001b[0m\u001b[0m\n\u001b[1;32m--> 258\u001b[1;33m                     \u001b[0ml\u001b[0m\u001b[1;33m.\u001b[0m\u001b[0m_log\u001b[0m\u001b[1;33m(\u001b[0m\u001b[1;34m'sender'\u001b[0m\u001b[1;33m)\u001b[0m\u001b[1;33m\u001b[0m\u001b[1;33m\u001b[0m\u001b[0m\n\u001b[0m\u001b[0;32m    259\u001b[0m \u001b[1;33m\u001b[0m\u001b[0m\n\u001b[0;32m    260\u001b[0m     \u001b[1;32mdef\u001b[0m \u001b[0mdisplay\u001b[0m\u001b[1;33m(\u001b[0m\u001b[0mself\u001b[0m\u001b[1;33m)\u001b[0m\u001b[1;33m:\u001b[0m\u001b[1;33m\u001b[0m\u001b[1;33m\u001b[0m\u001b[0m\n",
          "\u001b[1;31mTypeError\u001b[0m: _log() takes 1 positional argument but 2 were given"
         ]
        }
       ]
      }
     },
     "ee028a1053fc4572a5aee51b6a53cc10": {
      "model_module": "@jupyter-widgets/controls",
      "model_module_version": "1.5.0",
      "model_name": "ButtonStyleModel",
      "state": {
       "font_weight": "bold"
      }
     },
     "ee39989652dc41fd955fe15b772d3b5e": {
      "model_module": "@jupyter-widgets/base",
      "model_module_version": "1.2.0",
      "model_name": "LayoutModel",
      "state": {}
     },
     "ee473feef0f54728b44ee001580892c4": {
      "model_module": "@jupyter-widgets/controls",
      "model_module_version": "1.5.0",
      "model_name": "CheckboxModel",
      "state": {
       "disabled": false,
       "indent": false,
       "layout": "IPY_MODEL_fef20c971acd4cc28b2494728812ae1b",
       "style": "IPY_MODEL_c8b0ba3eae1e4161a22bc37b4d955e68",
       "value": false
      }
     },
     "ee7f4650b7ba4bd8b8dcd3a288158ddb": {
      "model_module": "@jupyter-widgets/controls",
      "model_module_version": "1.5.0",
      "model_name": "ButtonStyleModel",
      "state": {
       "font_weight": "bold"
      }
     },
     "ee993fdf153c4f6c89254a334e96ab9e": {
      "model_module": "@jupyter-widgets/base",
      "model_module_version": "1.2.0",
      "model_name": "LayoutModel",
      "state": {
       "height": "30px",
       "width": "auto"
      }
     },
     "eedf47ebb4784200b80fe37070b346b6": {
      "model_module": "@jupyter-widgets/base",
      "model_module_version": "1.2.0",
      "model_name": "LayoutModel",
      "state": {}
     },
     "eef4c75fdab647e98675b609b8c08e8e": {
      "model_module": "@jupyter-widgets/controls",
      "model_module_version": "1.5.0",
      "model_name": "ButtonStyleModel",
      "state": {
       "font_weight": "bold"
      }
     },
     "ef54ab21e9534636b1b8661bd84d1a6f": {
      "model_module": "@jupyter-widgets/base",
      "model_module_version": "1.2.0",
      "model_name": "LayoutModel",
      "state": {}
     },
     "ef94be2d7ad04ff3bcbfb98d591a1f8e": {
      "model_module": "@jupyter-widgets/controls",
      "model_module_version": "1.5.0",
      "model_name": "HBoxModel",
      "state": {
       "children": [
        "IPY_MODEL_57d19f4baace4bfb8344a2034401a49f",
        "IPY_MODEL_615675a565f447b086968ac19ddd57a6"
       ],
       "layout": "IPY_MODEL_6ea813ca233543c1a831d2b20fc35121"
      }
     },
     "efbedb05582c4fdab504394b32c7fb78": {
      "model_module": "@jupyter-widgets/controls",
      "model_module_version": "1.5.0",
      "model_name": "DescriptionStyleModel",
      "state": {
       "description_width": ""
      }
     },
     "effcfbfaf3704ec4880cd60a5f1bb07c": {
      "model_module": "@jupyter-widgets/controls",
      "model_module_version": "1.5.0",
      "model_name": "HBoxModel",
      "state": {
       "children": [
        "IPY_MODEL_1af73bee45f147f78930fbbe976d21e5",
        "IPY_MODEL_d65d2358b9b14ac592ea37cad52331f7"
       ],
       "layout": "IPY_MODEL_1980b21226f848349d29d6afa27ae905"
      }
     },
     "f0179c0cb9c443ffb01f2086519493f9": {
      "model_module": "@jupyter-widgets/controls",
      "model_module_version": "1.5.0",
      "model_name": "ButtonStyleModel",
      "state": {
       "font_weight": "bold"
      }
     },
     "f059d7eaaabc457faccdd5ae0214e031": {
      "model_module": "@jupyter-widgets/controls",
      "model_module_version": "1.5.0",
      "model_name": "VBoxModel",
      "state": {
       "children": [
        "IPY_MODEL_bd63c5523177400a88500e5dc25ea1c5",
        "IPY_MODEL_da89cc4efaf047558de2ba66a649c6ec",
        "IPY_MODEL_a92f427f1bd543b9ae100dbe3d23a056"
       ],
       "layout": "IPY_MODEL_5b38868b3014400b8543ecc67117bd8f"
      }
     },
     "f12e393b28494a3e8832ec9834987512": {
      "model_module": "@jupyter-widgets/controls",
      "model_module_version": "1.5.0",
      "model_name": "ButtonStyleModel",
      "state": {
       "font_weight": "bold"
      }
     },
     "f1370b770a404011a336a9543978a4c0": {
      "model_module": "@jupyter-widgets/base",
      "model_module_version": "1.2.0",
      "model_name": "LayoutModel",
      "state": {}
     },
     "f138c1ebc9ee4e28a408cf58ea76a848": {
      "model_module": "@jupyter-widgets/base",
      "model_module_version": "1.2.0",
      "model_name": "LayoutModel",
      "state": {}
     },
     "f171eff40b4b4bf48e340dca469b0c02": {
      "model_module": "@jupyter-widgets/base",
      "model_module_version": "1.2.0",
      "model_name": "LayoutModel",
      "state": {}
     },
     "f1dae7e749da4511948ccd5aeee94ff5": {
      "model_module": "@jupyter-widgets/base",
      "model_module_version": "1.2.0",
      "model_name": "LayoutModel",
      "state": {}
     },
     "f281494c507f4d85bbe231f965000c87": {
      "model_module": "@jupyter-widgets/controls",
      "model_module_version": "1.5.0",
      "model_name": "DescriptionStyleModel",
      "state": {
       "description_width": ""
      }
     },
     "f2818b250f8c491e8d089d90d48ff68f": {
      "model_module": "@jupyter-widgets/base",
      "model_module_version": "1.2.0",
      "model_name": "LayoutModel",
      "state": {}
     },
     "f2eccb383f7a4fa4a121f461225d4e2e": {
      "model_module": "@jupyter-widgets/controls",
      "model_module_version": "1.5.0",
      "model_name": "DescriptionStyleModel",
      "state": {
       "description_width": ""
      }
     },
     "f347f886c7264070a2489336abfd0c56": {
      "model_module": "@jupyter-widgets/base",
      "model_module_version": "1.2.0",
      "model_name": "LayoutModel",
      "state": {}
     },
     "f34b45da5bb1432bbefed2ae33a471b1": {
      "model_module": "@jupyter-widgets/controls",
      "model_module_version": "1.5.0",
      "model_name": "ButtonStyleModel",
      "state": {
       "font_weight": "bold"
      }
     },
     "f3827833120b4cc39a21cd7b2296bfad": {
      "model_module": "@jupyter-widgets/base",
      "model_module_version": "1.2.0",
      "model_name": "LayoutModel",
      "state": {
       "height": "30px",
       "max_width": "30px",
       "padding": "3px"
      }
     },
     "f3ef05b24f6e4268b9705282b5b4625f": {
      "model_module": "@jupyter-widgets/base",
      "model_module_version": "1.2.0",
      "model_name": "LayoutModel",
      "state": {}
     },
     "f443476609244079ab678593e4e5ec40": {
      "model_module": "@jupyter-widgets/controls",
      "model_module_version": "1.5.0",
      "model_name": "ButtonStyleModel",
      "state": {
       "font_weight": "bold"
      }
     },
     "f4a1c924719d48e38965c0adfa37f809": {
      "model_module": "@jupyter-widgets/base",
      "model_module_version": "1.2.0",
      "model_name": "LayoutModel",
      "state": {}
     },
     "f4db1b5eb8794ba880bbb2f20edfbaa0": {
      "model_module": "@jupyter-widgets/base",
      "model_module_version": "1.2.0",
      "model_name": "LayoutModel",
      "state": {
       "height": "30px",
       "width": "auto"
      }
     },
     "f53b1d19e63d4eb7bca9c49a1133a10b": {
      "model_module": "@jupyter-widgets/controls",
      "model_module_version": "1.5.0",
      "model_name": "ButtonStyleModel",
      "state": {}
     },
     "f5a2d8155cd74373bc2f1b6ba2c553c6": {
      "model_module": "@jupyter-widgets/controls",
      "model_module_version": "1.5.0",
      "model_name": "ButtonStyleModel",
      "state": {
       "font_weight": "bold"
      }
     },
     "f630c17757ef44378ea204293f87258f": {
      "model_module": "@jupyter-widgets/base",
      "model_module_version": "1.2.0",
      "model_name": "LayoutModel",
      "state": {}
     },
     "f63fba4b846241868967edf2f6bc608d": {
      "model_module": "@jupyter-widgets/base",
      "model_module_version": "1.2.0",
      "model_name": "LayoutModel",
      "state": {}
     },
     "f699058f71924276b0f2379b0c3e24fc": {
      "model_module": "@jupyter-widgets/controls",
      "model_module_version": "1.5.0",
      "model_name": "ButtonModel",
      "state": {
       "button_style": "info",
       "description": "preview outputs",
       "layout": "IPY_MODEL_f171eff40b4b4bf48e340dca469b0c02",
       "style": "IPY_MODEL_5a183dc42b344eeaac58a026029b9481",
       "tooltip": "show a preview of the output files generated when the script runs"
      }
     },
     "f6a03edc44ad41349ad4e353c021f35a": {
      "model_module": "@jupyter-widgets/output",
      "model_module_version": "1.0.0",
      "model_name": "OutputModel",
      "state": {
       "layout": "IPY_MODEL_dc911d7bbe2f481faabdab662c6bc021"
      }
     },
     "f6c614cb2c494aea8ffca47872ad810c": {
      "model_module": "@jupyter-widgets/controls",
      "model_module_version": "1.5.0",
      "model_name": "ButtonModel",
      "state": {
       "description": "load",
       "icon": "upload",
       "layout": "IPY_MODEL_f94add1bf9bd4fdeb88610397cf94903",
       "style": "IPY_MODEL_15e526cd979841dd8eb1b14016a192cf"
      }
     },
     "f7058db351d74d848055ecf35ab84a5a": {
      "model_module": "@jupyter-widgets/output",
      "model_module_version": "1.0.0",
      "model_name": "OutputModel",
      "state": {
       "layout": "IPY_MODEL_566b6dae949d400da8f180e61474b212"
      }
     },
     "f7baf24032f142798389dff2cfcab95c": {
      "model_module": "@jupyter-widgets/base",
      "model_module_version": "1.2.0",
      "model_name": "LayoutModel",
      "state": {}
     },
     "f812ac11024c4bd08a267aefc15df3a2": {
      "model_module": "@jupyter-widgets/base",
      "model_module_version": "1.2.0",
      "model_name": "LayoutModel",
      "state": {}
     },
     "f879292de09e41c4905d070c4eb93030": {
      "model_module": "@jupyter-widgets/base",
      "model_module_version": "1.2.0",
      "model_name": "LayoutModel",
      "state": {}
     },
     "f8a7bebf6f9e4f659f599b9a544b835c": {
      "model_module": "@jupyter-widgets/base",
      "model_module_version": "1.2.0",
      "model_name": "LayoutModel",
      "state": {}
     },
     "f94add1bf9bd4fdeb88610397cf94903": {
      "model_module": "@jupyter-widgets/base",
      "model_module_version": "1.2.0",
      "model_name": "LayoutModel",
      "state": {}
     },
     "fa17135b38b14525946e29de110e523c": {
      "model_module": "@jupyter-widgets/base",
      "model_module_version": "1.2.0",
      "model_name": "LayoutModel",
      "state": {
       "width": "100%"
      }
     },
     "fa29dedfca5047398b24763e1004cbd1": {
      "model_module": "@jupyter-widgets/controls",
      "model_module_version": "1.5.0",
      "model_name": "DescriptionStyleModel",
      "state": {
       "description_width": ""
      }
     },
     "fa56d7c3dd9e482482eec804a8e50489": {
      "model_module": "@jupyter-widgets/controls",
      "model_module_version": "1.5.0",
      "model_name": "TextModel",
      "state": {
       "description": "inputs",
       "disabled": true,
       "layout": "IPY_MODEL_aac46f3264204c63ae1900fc6a1e3796",
       "style": "IPY_MODEL_ab20ece17e254f109b13975964b3c344",
       "value": "C:\\engDev\\git_mf\\ipyrun\\ipyrun\\notebooks\\appdata\\inputs\\inputs-eplus_pipework_params.csv"
      }
     },
     "fb02ec173b9f41ed86a1678f96923247": {
      "model_module": "@jupyter-widgets/base",
      "model_module_version": "1.2.0",
      "model_name": "LayoutModel",
      "state": {}
     },
     "fb17cff4e9df45969d632e65ac55a737": {
      "model_module": "@jupyter-widgets/base",
      "model_module_version": "1.2.0",
      "model_name": "LayoutModel",
      "state": {
       "width": "100%"
      }
     },
     "fb57abe1d28b4ad1bb4f9560ea002f2a": {
      "model_module": "@jupyter-widgets/controls",
      "model_module_version": "1.5.0",
      "model_name": "HBoxModel",
      "state": {
       "children": [
        "IPY_MODEL_e89a91e4408e48f7b688fc792c659c5b",
        "IPY_MODEL_d4c65c0546f846d79aa614d1a56089e9",
        "IPY_MODEL_8199a878e1ce4470b115960072d656f5",
        "IPY_MODEL_8380b01008274b3ab578dd993b7d1acf",
        "IPY_MODEL_753ac1923dc34822854ab65e132ea7ad",
        "IPY_MODEL_794460bf0abe484ab91f597d7905d4fe",
        "IPY_MODEL_6237deace1b74eed8a5f84ef7d5c8248"
       ],
       "layout": "IPY_MODEL_699a2cac8ac94ad1817caecb83ce256c"
      }
     },
     "fbb7b93164784e728a2f7d0ac4b44401": {
      "model_module": "@jupyter-widgets/output",
      "model_module_version": "1.0.0",
      "model_name": "OutputModel",
      "state": {
       "layout": "IPY_MODEL_bac7a4b895cf4d848cf16a72cf57dabd"
      }
     },
     "fc11065061fb4fecb0d45e1f71fb8aa8": {
      "model_module": "@jupyter-widgets/controls",
      "model_module_version": "1.5.0",
      "model_name": "ButtonStyleModel",
      "state": {
       "font_weight": "bold"
      }
     },
     "fc3014c744da4a398552e89bf8d71979": {
      "model_module": "@jupyter-widgets/base",
      "model_module_version": "1.2.0",
      "model_name": "LayoutModel",
      "state": {
       "height": "30px",
       "width": "auto"
      }
     },
     "fc7b40d536384a4e892af96a76906d49": {
      "model_module": "@jupyter-widgets/base",
      "model_module_version": "1.2.0",
      "model_name": "LayoutModel",
      "state": {}
     },
     "fc7e175f65fd4291a6e2b43cd55adf7f": {
      "model_module": "@jupyter-widgets/controls",
      "model_module_version": "1.5.0",
      "model_name": "ButtonModel",
      "state": {
       "icon": "eye-slash",
       "layout": "IPY_MODEL_e8ed52570555428fbacaa9449edfdfc0",
       "style": "IPY_MODEL_a3a5fea767b940718c2747b7304685fa",
       "tooltip": "removes temporary output view"
      }
     },
     "fcbdd6a836094531a64b286325f1b67c": {
      "model_module": "@jupyter-widgets/base",
      "model_module_version": "1.2.0",
      "model_name": "LayoutModel",
      "state": {
       "height": "30px",
       "width": "auto"
      }
     },
     "fe1a74b90cdc43e2ae5845fd968d422b": {
      "model_module": "@jupyter-widgets/controls",
      "model_module_version": "1.5.0",
      "model_name": "ButtonStyleModel",
      "state": {
       "font_weight": "bold"
      }
     },
     "fe8fc8422ef74046a3e683a34d072749": {
      "model_module": "@jupyter-widgets/base",
      "model_module_version": "1.2.0",
      "model_name": "LayoutModel",
      "state": {}
     },
     "fed31412b0b1415ba636988fc41089af": {
      "model_module": "@jupyter-widgets/base",
      "model_module_version": "1.2.0",
      "model_name": "LayoutModel",
      "state": {}
     },
     "fef20c971acd4cc28b2494728812ae1b": {
      "model_module": "@jupyter-widgets/base",
      "model_module_version": "1.2.0",
      "model_name": "LayoutModel",
      "state": {
       "height": "30px",
       "max_width": "30px",
       "padding": "3px"
      }
     },
     "ff19fa5a6c3d40718ac5338c26408fc7": {
      "model_module": "@jupyter-widgets/base",
      "model_module_version": "1.2.0",
      "model_name": "LayoutModel",
      "state": {
       "width": "5%"
      }
     },
     "ff9ecf10caa343d8bd7f929cb9a47252": {
      "model_module": "@jupyter-widgets/base",
      "model_module_version": "1.2.0",
      "model_name": "LayoutModel",
      "state": {
       "align_items": "stretch",
       "width": "100%"
      }
     },
     "ffbbc1f1b1924ee3951f89592467d738": {
      "model_module": "@jupyter-widgets/controls",
      "model_module_version": "1.5.0",
      "model_name": "ButtonModel",
      "state": {
       "button_style": "info",
       "description": "show guide",
       "layout": "IPY_MODEL_f347f886c7264070a2489336abfd0c56",
       "style": "IPY_MODEL_6940b5c686d84efb8124460635fd90bd",
       "tooltip": "read the \"docstring\", ie. the documentation that was written to accompany the script"
      }
     },
     "ffc868bb617b445eae09fae228779ee2": {
      "model_module": "@jupyter-widgets/controls",
      "model_module_version": "1.5.0",
      "model_name": "ButtonStyleModel",
      "state": {
       "font_weight": "bold"
      }
     }
    },
    "version_major": 2,
    "version_minor": 0
   }
  }
 },
 "nbformat": 4,
 "nbformat_minor": 4
}
