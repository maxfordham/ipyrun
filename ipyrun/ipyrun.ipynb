{
 "cells": [
  {
   "cell_type": "code",
   "execution_count": 1,
   "metadata": {},
   "outputs": [],
   "source": [
    "import os\n",
    "NBFDIR = os.path.dirname(os.path.realpath('__file__'))\n",
    "import pandas as pd\n",
    "from IPython.display import update_display, display, Image, JSON, Markdown, HTML, clear_output\n",
    "import subprocess\n",
    "from shutil import copyfile\n",
    "import getpass\n",
    "import importlib.util\n",
    "import copy \n",
    "\n",
    "# widget stuff\n",
    "import ipywidgets as widgets\n",
    "from ipysheet import from_dataframe, to_dataframe\n",
    "import ipysheet\n",
    "\n",
    "# core mf_modules\n",
    "from mf_modules.file_operations import make_dir\n",
    "from mf_modules.pandas_operations import del_matching\n",
    "from mf_modules.mydocstring_display import display_module_docstring\n",
    "from mf_modules.jupyter_formatting import display_python_file\n",
    "\n",
    "# from this repo\n",
    "# this is an unpleasant hack. should aim to find a better solution\n",
    "try:\n",
    "    from ipyrun._runconfig import RunConfig\n",
    "    from ipyrun._ipyeditcsv import EditCsv\n",
    "    from ipyrun._ipyeditjson import EditJson, EditJsonModelRun\n",
    "    from ipyrun._ipydisplayfile import DisplayFile, DisplayFiles\n",
    "except:\n",
    "    from _runconfig import RunConfig\n",
    "    from _ipyeditcsv import EditCsv\n",
    "    from _ipyeditjson import EditJson, EditJsonModelRun\n",
    "    from _ipydisplayfile import DisplayFile, DisplayFiles\n",
    "\n",
    "def get_mfuser_initials():\n",
    "    user = getpass.getuser()\n",
    "    return user[0]+user[2]\n"
   ]
  },
  {
   "cell_type": "code",
   "execution_count": 2,
   "metadata": {
    "lines_to_next_cell": 0
   },
   "outputs": [],
   "source": [
    "class RunForm():\n",
    "    \"\"\"\n",
    "    simple user input form for running scripts. \n",
    "    the buttons are not connected to actions in this class. \n",
    "    \"\"\"\n",
    "    def __init__(self):\n",
    "        \"\"\"\n",
    "        to inputs required. this class is intended to be inherited by RunApp\n",
    "        \"\"\"\n",
    "        self.config = {'fpth_script':'script fpth','fpth_inputs':'script config','process_name':'process_name'}\n",
    "        self.form()\n",
    "        display(self.layout)\n",
    "        \n",
    "    def form(self):\n",
    "        self.reset = widgets.Button(icon='fa-eye-slash',#'fa-repeat'\n",
    "                                tooltip='removes temporary output view',\n",
    "                                style={'font_weight':'bold'},\n",
    "                                layout=widgets.Layout(width='5%'))\n",
    "        self.help = widgets.Button(icon='fa-question-circle',\n",
    "                                tooltip='describes the functionality of elements in the RunApp interface',\n",
    "                                style={'font_weight':'bold'},\n",
    "                                layout=widgets.Layout(width='5%'))\n",
    "        self.edit_inputs = widgets.Button(description='edit inputs',\n",
    "                                tooltip='edit the user input information that is used when the script is executed',\n",
    "                                button_style='warning',\n",
    "                                style={'font_weight':'bold'})\n",
    "        self.show_docstring = widgets.Button(description='show guide',\n",
    "                                tooltip='read the \"docstring\", ie. the documentation that was written to accompany the script',\n",
    "                                button_style='info',\n",
    "                                style={'font_weight':'bold'})\n",
    "        self.run_script = widgets.Button(description='run',\n",
    "                                tooltip='execute the script based on the user inputs',\n",
    "                                button_style='success',\n",
    "                                style={'font_weight':'bold'})\n",
    "        self.preview_outputs = widgets.Button(description='preview outputs',\n",
    "                                tooltip='show a preview of the output files generated when the script runs',\n",
    "                                button_style='info',\n",
    "                                style={'font_weight':'bold'})\n",
    "        self.show_log = widgets.Button(description='show log',\n",
    "                                tooltip='show a log of when the script was executed to generate the outputs, and by who',\n",
    "                                button_style='info',\n",
    "                                style={'font_weight':'bold'})\n",
    "        self.scriptfpth = widgets.Text(value=self.config['fpth_script'],\n",
    "                                description='script',\n",
    "                                layout=widgets.Layout(indent=False,\n",
    "                                                      width='auto',\n",
    "                                                      height='30px'), disabled=True)\n",
    "        self.configfpth = widgets.Text(value=self.config['fpth_inputs'],\n",
    "                                description='inputs',\n",
    "                                layout=widgets.Layout(indent=False,\n",
    "                                                      width='auto',\n",
    "                                                      height='30px'), disabled=True)\n",
    "        self.outputsfpth = widgets.SelectMultiple(description='outputs',\n",
    "                                           options=[],\n",
    "                                           rows=4,\n",
    "                                           layout=widgets.Layout(indent=False,\n",
    "                                                      width='auto',\n",
    "                                                      height='30px'))\n",
    "        self.check = widgets.Checkbox(\n",
    "                        value=False,\n",
    "                        disabled=False,\n",
    "                        indent=False,\n",
    "                        layout=widgets.Layout(max_width='30px',height='30px', padding='3px')\n",
    "                        )\n",
    "        self.form = widgets.HBox([self.reset, self.help, self.show_docstring, self.edit_inputs, self.run_script, self.preview_outputs, self.show_log],\n",
    "                    layout=widgets.Layout(width='100%',align_items='stretch'))\n",
    "        self.paths = widgets.VBox([self.configfpth,self.scriptfpth,self.outputsfpth],\n",
    "                    layout=widgets.Layout(width='100%',align_items='stretch')) \n",
    "        self.acc = widgets.Accordion(children=[widgets.VBox([widgets.Box([self.form]),self.paths])],selected_index=None,layout=widgets.Layout(width='100%'))\n",
    "        self.acc.set_title(0,self.config['process_name'])\n",
    "        self.layout = widgets.HBox([self.check,self.acc],layout=widgets.Layout(margin='0px',padding='0px',border='0px'))\n",
    "    \n",
    "#RunForm()"
   ]
  },
  {
   "cell_type": "code",
   "execution_count": 3,
   "metadata": {
    "lines_to_next_cell": 0
   },
   "outputs": [],
   "source": [
    "class RunApp(RunForm, RunConfig):\n",
    "    \"\"\"\n",
    "    app for managing the execution of python scripts using an ipywidgets user interface\n",
    "    \"\"\"\n",
    "    def __init__(self,config):\n",
    "        \"\"\"\n",
    "        class that builds a user interface for:\n",
    "        - editing inputs, \n",
    "        - running a script, \n",
    "        - reviewing the files output by the script\n",
    "        - maintaining a log of when the script was last run, by who, and what the inputs were\n",
    "        - allows users to reload previous input runs. \n",
    "        \n",
    "        Args:\n",
    "            config (dict): a dict that defines the script path, inputs path, archive inputs path, \n",
    "                log file path, output paths etc. this class inherits the RunConfig class which \n",
    "                has a default configuration for all of these things allowing the user to pass minimal \n",
    "                amounts of information to setup. \n",
    "                \n",
    "        Example:\n",
    "            ```\n",
    "            config={\n",
    "                'fpth_script':os.path.join(os.environ['mf_root'],r'MF_Toolbox\\dev\\mf_scripts\\docx_to_pdf.py'),\n",
    "                'fdir':NBFDIR,\n",
    "                }    \n",
    "\n",
    "            r = RunApp(config) \n",
    "            from ipyrun._ipyeditjson import \n",
    "            \n",
    "            ui = EditListOfDicts(li)\n",
    "            ui\n",
    "            ```\n",
    "        \"\"\"\n",
    "        self.out = widgets.Output()\n",
    "        self.config = config\n",
    "        self.user_keys = list(config.keys())\n",
    "        self.errors = []\n",
    "        self._update_config()\n",
    "        self.form()\n",
    "        self.outputsfpth.options = list(self.fpths_outputs.values())\n",
    "        self.show_me_the_code = widgets.Button(description='show source code',\n",
    "                      tooltip='shows the raw python code in the preview window below',\n",
    "                      button_style='info')\n",
    "        self._init_controls()\n",
    "\n",
    "    def _init_controls(self):\n",
    "        self.help.on_click(self._help)\n",
    "        self.reset.on_click(self._reset)\n",
    "        self.edit_inputs.on_click(self._edit_inputs)\n",
    "        self.show_docstring.on_click(self._show_docstring)\n",
    "        self.run_script.on_click(self._run_script)\n",
    "        self.show_me_the_code.on_click(self._show_me_the_code)\n",
    "        self.preview_outputs.on_click(self._preview_outputs)\n",
    "        self.show_log.on_click(self._show_log)\n",
    "        self.acc.observe(self._close_acc, names='selected_index')\n",
    "        \n",
    "    def _close_acc(self, change):\n",
    "        if self.acc.selected_index!=0:\n",
    "            self._reset(None)\n",
    "        \n",
    "    def _show_me_the_code(self, sender):\n",
    "        with self.out:\n",
    "            clear_output()\n",
    "            display(display_python_file(self.config['fpth_script']))\n",
    "            \n",
    "    def _help(self, sender):\n",
    "        with self.out:\n",
    "            clear_output()\n",
    "            fpth = os.path.join(os.environ['mf_root'],r'ipyrun\\docs\\images\\RunApp.png')\n",
    "            display(Image(fpth))\n",
    "            \n",
    "    def _reset(self, sender):\n",
    "        with self.out:\n",
    "            clear_output()\n",
    "    \n",
    "    def _edit_inputs(self, sender):\n",
    "        with self.out:\n",
    "            clear_output()\n",
    "            #display(EditCsv(self.config))\n",
    "            display(EditJson(self.config))\n",
    "\n",
    "    def _show_docstring(self, sender):\n",
    "        with self.out:\n",
    "            clear_output()\n",
    "            display(self.show_me_the_code)\n",
    "            display_module_docstring(self.config['fpth_script'])\n",
    "            \n",
    "    def archive_inputs(self):\n",
    "        timestamp = str(pd.to_datetime('today'))[:-9].replace(':','').replace('-','').replace(' ','_')\n",
    "        initals = get_mfuser_initials()\n",
    "        ext = os.path.splitext(self.fpth_inputs)[1]\n",
    "        fnm = timestamp + '-' + initals + '-' + os.path.splitext(os.path.basename(self.fpth_inputs))[0] + ext\n",
    "        self.fpth_inputs_archive = os.path.join(self.fdir_inputs_archive,fnm)\n",
    "        copyfile(self.fpth_inputs,self.fpth_inputs_archive)\n",
    "        \n",
    "    def _run_script(self, sender):\n",
    "        self.config_to_json()\n",
    "        self.archive_inputs()\n",
    "        self._log()\n",
    "        with self.out:\n",
    "            clear_output()\n",
    "            if os.path.isfile(self.config['fpth_inputs']):\n",
    "                display(self.config['pretty_name'])\n",
    "                display(subprocess.check_output(['python','-O', self.config['fpth_script'], self.config['fpth_config'], self.config['fpth_inputs']]))\n",
    "                #display(subprocess.check_output(['conda', 'run', '-n', 'mf_main', 'python','-O', self.config['fpth_script'], self.config['fpth_config'], self.config['fpth_inputs']]))\n",
    "            else:\n",
    "                display(Markdown(\"## inputs have not been saved\"))\n",
    "                display(Markdown('click on the \"edit inputs\" button to edit inputs and hit save when done'))\n",
    "                display(Markdown('this will save a datafile that is passed to the script when you press run'))\n",
    "                display(Markdown('the input datafile should be saved here:'))\n",
    "                display(Markdown('`{0}`'.format(self.config['fpth_inputs'])))\n",
    "\n",
    "    def _log(self):\n",
    "        if os.path.isfile(self.fpth_log):\n",
    "            self.df_log = del_matching(pd.read_csv(self.fpth_log),'Unnamed')\n",
    "        else:\n",
    "            di = {\n",
    "                'processName':[],\n",
    "                'user':[],\n",
    "                'datetime':[],\n",
    "                'formalIssue':[],\n",
    "                'tags':[],\n",
    "                'fpthInputs':[]\n",
    "            }\n",
    "            self.df_log = pd.DataFrame(di).rename_axis(\"index\")\n",
    "        \n",
    "        user = getpass.getuser()\n",
    "        timestamp = str(pd.to_datetime('today'))\n",
    "        timestamp = timestamp[:-7]\n",
    "        \n",
    "        tmp = pd.DataFrame({\n",
    "            'processName':[self.process_name],\n",
    "            'user':[user],\n",
    "            'datetime':[timestamp],\n",
    "            'formalIssue':[''],\n",
    "            'tags':[''],\n",
    "            'fpthInputs':[self.fpth_inputs_archive]\n",
    "        })\n",
    "        self.df_log = self.df_log.append(tmp).reset_index(drop=True)\n",
    "        make_dir(self.fdir_log)\n",
    "        self.df_log.to_csv(self.fpth_log)\n",
    "        \n",
    "    def _preview_outputs(self, sender):\n",
    "        with self.out:\n",
    "            clear_output()\n",
    "            \n",
    "            #fpths = self.outputsfpth.options\n",
    "            #for fpth in fpths:\n",
    "             #   display(Markdown('#### {0}'.format(os.path.splitext(os.path.basename(fpth))[0])))\n",
    "            #    display(Markdown('`{0}`'.format(fpth)))\n",
    "            #    d = DisplayFile(fpth)\n",
    "            #    d.preview_fpth()\n",
    "                \n",
    "            fpths = [v for k,v in self.fpths_outputs.items()]\n",
    "            if len(fpths)==0:\n",
    "                display(Markdown('select the file(s) that you would like to display from the \"outputs\" list above '))\n",
    "            else:\n",
    "\n",
    "                display(DisplayFiles(fpths))\n",
    "                \n",
    "    def _show_log(self, sender):\n",
    "        with self.out:\n",
    "            clear_output()\n",
    "            if os.path.isfile(self.fpth_log):\n",
    "                d = DisplayFile(self.fpth_log)\n",
    "                d.preview_fpth()\n",
    "            else:  \n",
    "                display(Markdown('### A log file does not yet exist.'))\n",
    "                display(Markdown('### This indicates that the script has not yet been run.'))\n",
    "             \n",
    "    def display(self):\n",
    "        display(self.layout, self.out)\n",
    "            \n",
    "    def _ipython_display_(self):\n",
    "        self.display()\n",
    "\n",
    "class RunAppModelRun(RunApp):\n",
    "    \"\"\"\n",
    "    Modified version of EditJson, for Model Run spreadsheet\n",
    "    Functionality for DerivedText has been added\n",
    "    \"\"\"\n",
    "    def _edit_inputs(self, sender):\n",
    "        with self.out:\n",
    "            clear_output()\n",
    "            display(EditJsonModelRun(self.config))\n",
    "    \n",
    "# IT WOULD BE GOOD TO ADD A PROGRESS BAR\n",
    "# i think this would require us to time how long it takes for a script to execute and use that \n",
    "# as a first estimate. we could also then keep an ongoing record of time-taken to run a script within\n",
    "# the log file which could be used to keep the assumed time up-to-date / more accurate.\n",
    "# E.G. owen's example:\n",
    "# (but there is a fancy looking ipywidget we could use...)\n",
    "# fpth = r'C:\\engDev\\git_mf\\MF_Toolbox\\dev\\mf_modules\\progress_bar.py'\n",
    "# %run $fpth\n",
    "\n",
    "class RunApps():\n",
    "    \n",
    "    def __init__(self,configs):\n",
    "        \"\"\"\n",
    "        Args:\n",
    "            configs (list): list of RunApp input configs. \n",
    "                can explicitly specify a different RunApp to be used when passing \n",
    "                the list \n",
    "        \"\"\"\n",
    "        self.inputconfigs = configs\n",
    "        self.processes = self._update_configs()\n",
    "        self.li = []\n",
    "        self._form()\n",
    "        self._init_controls()\n",
    "        for process in self.processes:\n",
    "            self.li.append(process['app'](process['config']))   \n",
    "        self.out = widgets.Output()\n",
    "    \n",
    "    def _update_configs(self):\n",
    "        newconfigs = []\n",
    "        for config in self.inputconfigs:\n",
    "            if list(config.keys()) == ['app','config']:\n",
    "                # app to use already explicitly specified\n",
    "                newconfigs.append(config)     \n",
    "            else:\n",
    "                # assume the config got passed without the associated app\n",
    "                newconfigs.append({'app': RunApp, 'config': config})     \n",
    "        return newconfigs\n",
    "        \n",
    "    def _form(self):\n",
    "        \n",
    "        self.reset = widgets.Button(icon='fa-eye-slash',#'fa-repeat'\n",
    "                                tooltip='removes temporary output view',\n",
    "                                style={'font_weight':'bold'},\n",
    "                                layout=widgets.Layout(width='5%'))\n",
    "        self.help = widgets.Button(icon='fa-question-circle',\n",
    "                                tooltip='describes the functionality of elements in the RunApp interface',\n",
    "                                style={'font_weight':'bold'},\n",
    "                                layout=widgets.Layout(width='5%'))\n",
    "        self.run_batch = widgets.Button(description='run batch',\n",
    "                                tooltip='execute checked processes below',\n",
    "                                button_style='success',\n",
    "                                style={'font_weight':'bold'})\n",
    "        self.form = widgets.HBox([self.reset, self.help, self.run_batch],\n",
    "                        layout=widgets.Layout(width='100%',align_items='stretch'))   \n",
    "    \n",
    "    def _init_controls(self):\n",
    "        self.help.on_click(self._help)\n",
    "        self.reset.on_click(self._reset)\n",
    "        self.run_batch.on_click(self._run_batch)\n",
    "        \n",
    "    def _help(self, sender):\n",
    "        \n",
    "        with self.out:\n",
    "            clear_output()\n",
    "            fpth = os.path.join(os.environ['mf_root'],r'ipyrun\\docs\\images\\RunBatch.png')\n",
    "            display(Image(fpth))\n",
    "            \n",
    "    def _reset(self, sender):\n",
    "        with self.out:\n",
    "            clear_output()\n",
    "        for l in self.li:\n",
    "            l._reset(sender)\n",
    "    \n",
    "    def _run_batch(self, sender):\n",
    "        cnt = 0\n",
    "        ttl = 0\n",
    "        for l in self.li:\n",
    "            ttl = ttl + 1\n",
    "            if l.check.value:\n",
    "                cnt = cnt + 1\n",
    "        \n",
    "        with self.out:\n",
    "            clear_output()\n",
    "            display(Markdown('{0} out of {1} scripts selected to be run'.format(cnt,ttl)))\n",
    "            for l in self.li:\n",
    "                if l.check.value:\n",
    "                    display(Markdown('running: {0}'.format(l.config['process_name'])))\n",
    "                    l._run_script('sender')\n",
    "                    l._log() # 'sender'\n",
    "\n",
    "    def display(self):\n",
    "        display(self.form)\n",
    "        display(self.out)\n",
    "        [display(l) for l in self.li]; \n",
    "        \n",
    "    def _ipython_display_(self):\n",
    "        self.display() \n",
    "\n",
    "class RunAppsMruns():\n",
    "    \n",
    "    def __init__(self,configs):\n",
    "        \"\"\"\n",
    "        Args:\n",
    "            configs (list): list of RunApp input configs. \n",
    "                can explicitly specify a different RunApp to be used when passing \n",
    "                the list \n",
    "        \"\"\"\n",
    "        self.inputconfigs = configs\n",
    "        self.processes = self._update_configs()\n",
    "        self.li = []\n",
    "        self._form()\n",
    "        self._init_controls()\n",
    "         \n",
    "        for process in self.processes:\n",
    "            self.li.append(process['app'](process['config']))   \n",
    "        self.out = widgets.Output()\n",
    "    \n",
    "    def _update_configs(self):\n",
    "        newconfigs = []\n",
    "        for config in self.inputconfigs:\n",
    "            newconfigs.append(self._create_config(config))\n",
    "        return newconfigs\n",
    "\n",
    "    def _create_config(self, config):\n",
    "        if list(config.keys()) == ['app','config']:\n",
    "            # app to use already explicitly specified\n",
    "            return config  \n",
    "        else:\n",
    "            # assume the config got passed without the associated app\n",
    "            return{'app': RunApp, 'config': config}\n",
    "\n",
    "        \n",
    "    def _form(self):\n",
    "        self.reset = widgets.Button(icon='fa-eye-slash',#'fa-repeat'\n",
    "                                tooltip='removes temporary output view',\n",
    "                                style={'font_weight':'bold'},\n",
    "                                layout=widgets.Layout(width='5%'))\n",
    "        self.help = widgets.Button(icon='fa-question-circle',\n",
    "                                tooltip='describes the functionality of elements in the RunApp interface',\n",
    "                                style={'font_weight':'bold'},\n",
    "                                layout=widgets.Layout(width='5%'))\n",
    "        self.run_batch = widgets.Button(description='run batch',\n",
    "                                tooltip='execute checked processes below',\n",
    "                                button_style='success',\n",
    "                                style={'font_weight':'add'})\n",
    "        self.add_run = widgets.Button(description='add run',\n",
    "                                tooltip='add new run, based on another run',\n",
    "                                button_style='warning',\n",
    "                                style={'font_weight':'bold'})\n",
    "        self.form = widgets.HBox([self.reset, self.help, self.run_batch, self.add_run],\n",
    "                        layout=widgets.Layout(width='100%',align_items='stretch'))   \n",
    "    \n",
    "    def _init_controls(self):\n",
    "        self.help.on_click(self._help)\n",
    "        self.reset.on_click(self._reset)\n",
    "        self.run_batch.on_click(self._run_batch)\n",
    "        self.add_run.on_click(self._add_run)\n",
    "        \n",
    "    def _help(self, sender):\n",
    "        with self.out:\n",
    "            clear_output()\n",
    "            fpth = os.path.join(os.environ['mf_root'],r'ipyrun\\docs\\images\\RunBatch.png')\n",
    "            display(Image(fpth))\n",
    "            \n",
    "    def _reset(self, sender):\n",
    "        with self.out:\n",
    "            clear_output()\n",
    "        for l in self.li:\n",
    "            l._reset(sender)\n",
    "\n",
    "    def _get_process_names(self):\n",
    "        return [process['config']['process_name'] for process in self.processes]\n",
    "    \n",
    "    def _get_apps_layout(self):\n",
    "        return [widgets.VBox([l.layout, l.out]) for l in self.li]\n",
    "        \n",
    "    def _add_run(self, sender):\n",
    "        \n",
    "        # Create Dropdown & Run Button\n",
    "        self.add_run_dd = widgets.Dropdown(\n",
    "                options=self._get_process_names(),\n",
    "                description='Run to Copy:',\n",
    "                disabled=False)\n",
    "        self.add_run_btn = widgets.Button(description='add chosen run',\n",
    "                    tooltip='add chosen run',\n",
    "                    button_style='primary',\n",
    "                    style={'font_weight':'bold'})\n",
    "        \n",
    "        self.add_run_btn.on_click(self._run_add_run) # OnClick method\n",
    "        with self.out:\n",
    "            clear_output()\n",
    "            display(self.add_run_dd)\n",
    "            display(self.add_run_btn)\n",
    "    \n",
    "    def _run_add_run(self,sender):\n",
    "        \n",
    "        # Pull selected process from dropdown\n",
    "        dd_val = self.add_run_dd.value\n",
    "        dd_split = str(self.add_run_dd.value).split('_')\n",
    "        \n",
    "        # Get basename of selected process\n",
    "        if(dd_split[-1].isdigit()):\n",
    "            dd_process_name_base = \"_\".join(dd_split[:-1])\n",
    "        else:\n",
    "            dd_process_name_base = dd_val\n",
    "            \n",
    "        # Create new process name, by\n",
    "        # appending the next number to the basename\n",
    "        current_num = 0\n",
    "        num_exists = True\n",
    "        new_process_name = \"\"\n",
    "        while (num_exists):\n",
    "            new_process_name = '{0}_{1}'.format(dd_process_name_base,current_num)\n",
    "            if new_process_name in self._get_process_names():\n",
    "                current_num = current_num + 1   \n",
    "            else:\n",
    "                num_exists = False\n",
    "\n",
    "        # Copy the selected process to the new process\n",
    "        new_process = None\n",
    "        for process in self.processes:\n",
    "            if(process['config']['process_name'] == dd_val):\n",
    "                new_process = copy.deepcopy(process)\n",
    "        \n",
    "        # Copy old inputs file, to create new inputs file\n",
    "        src = new_process['config']['fpth_inputs']\n",
    "        fdir_inputs = new_process['config']['fdir_inputs']\n",
    "        dst = os.path.join(fdir_inputs , '{0}{1}'.format(new_process_name,os.path.splitext(src)[1]))\n",
    "        copyfile(src,dst)\n",
    "        \n",
    "        # Update config of new process\n",
    "        new_process['config']['fpth_inputs'] = dst\n",
    "        new_process['config']['process_name'] = new_process_name\n",
    "        new_process = self._create_config(new_process)\n",
    "        \n",
    "        # Add new process to data within RunApps \n",
    "        self.inputconfigs.append(new_process)\n",
    "        self.processes.append(new_process)\n",
    "        self.li.append(new_process['app'](new_process['config']))\n",
    "        self.add_run_dd.options=self._get_process_names() # Update Dropdown\n",
    "        \n",
    "        # Display new process\n",
    "        self.apps_layout.children = self._get_apps_layout()\n",
    "        '''with self.out:\n",
    "            display(self.li[-1])'''\n",
    "\n",
    "    def _run_batch(self, sender):\n",
    "        cnt = 0\n",
    "        ttl = 0\n",
    "        for l in self.li:\n",
    "            ttl = ttl + 1\n",
    "            if l.check.value:\n",
    "                cnt = cnt + 1\n",
    "        \n",
    "        with self.out:\n",
    "            clear_output()\n",
    "            display(Markdown('{0} out of {1} scripts selected to be run'.format(cnt,ttl)))\n",
    "            for l in self.li:\n",
    "                if l.check.value:\n",
    "                    display(Markdown('running: {0}'.format(l.config['process_name'])))\n",
    "                    l._run_script('sender')\n",
    "                    l._log() # 'sender'\n",
    "                    \n",
    "    def display(self):\n",
    "        display(self.form)\n",
    "        display(self.out)\n",
    "        self.apps_layout = widgets.VBox(self._get_apps_layout())\n",
    "        display(self.apps_layout)\n",
    "        \n",
    "    def _ipython_display_(self):\n",
    "        self.display() \n",
    "        \n",
    "\n",
    "# SUPERCEDED\n",
    "\n",
    "#def run_py_script(fpth,arg):\n",
    "#    \"\"\"\n",
    "#    NOT IN USE\n",
    "#    run a script using python magic\n",
    "#    (% means it can't be imported as a script)\n",
    "#    \"\"\"\n",
    "#    if os.path.isfile(fpth):\n",
    "#        print('run {0}'.format(fpth))\n",
    "#        %run -i $fpth $arg #-i\n",
    "#    elif fpth == 'READ PROCESSED DATA ONLY':\n",
    "#        pass\n",
    "#    else:\n",
    "#        print(\"{0} doesn't exist\".format(fpth))\n",
    "\n",
    "# option 2: looks better but the outputs appear at the bottom instead of in-line\n",
    "class RunApps_SS():\n",
    "    \n",
    "    def __init__(self,configs):\n",
    "        self.out = widgets.Output()\n",
    "        self.configs = configs\n",
    "        self.li = []\n",
    "        for config in configs:\n",
    "            self.li.append(RunApp(config))\n",
    "        self.display()\n",
    "            \n",
    "    def display(self):\n",
    "        \n",
    "        out = [l.layout for l in self.li]\n",
    "        self.applayout = widgets.VBox(out)\n",
    "        display(self.applayout)\n",
    "        for l in self.li:\n",
    "            display(l.out)\n"
   ]
  },
  {
   "cell_type": "code",
   "execution_count": 4,
   "metadata": {
    "lines_to_end_of_cell_marker": 2,
    "lines_to_next_cell": 0
   },
   "outputs": [
    {
     "data": {
      "text/markdown": [
       "### Example1"
      ],
      "text/plain": [
       "<IPython.core.display.Markdown object>"
      ]
     },
     "metadata": {},
     "output_type": "display_data"
    },
    {
     "data": {
      "text/markdown": [
       "default RunApp."
      ],
      "text/plain": [
       "<IPython.core.display.Markdown object>"
      ]
     },
     "metadata": {},
     "output_type": "display_data"
    },
    {
     "data": {
      "application/vnd.jupyter.widget-view+json": {
       "model_id": "c58eac571f16437d8e5b3b60e87d91d1",
       "version_major": 2,
       "version_minor": 0
      },
      "text/plain": [
       "HBox(children=(Checkbox(value=False, indent=False, layout=Layout(height='30px', max_width='30px', padding='3px…"
      ]
     },
     "metadata": {},
     "output_type": "display_data"
    },
    {
     "data": {
      "application/vnd.jupyter.widget-view+json": {
       "model_id": "552199efca95414e8d0a0e3e489949a1",
       "version_major": 2,
       "version_minor": 0
      },
      "text/plain": [
       "Output()"
      ]
     },
     "metadata": {},
     "output_type": "display_data"
    },
    {
     "data": {
      "text/markdown": [
       "---"
      ],
      "text/plain": [
       "<IPython.core.display.Markdown object>"
      ]
     },
     "metadata": {},
     "output_type": "display_data"
    },
    {
     "data": {
      "text/markdown": [],
      "text/plain": [
       "<IPython.core.display.Markdown object>"
      ]
     },
     "metadata": {},
     "output_type": "display_data"
    },
    {
     "data": {
      "text/markdown": [
       "### Example2"
      ],
      "text/plain": [
       "<IPython.core.display.Markdown object>"
      ]
     },
     "metadata": {},
     "output_type": "display_data"
    },
    {
     "data": {
      "text/markdown": [
       "example where the RunApp class has been extended by inheriting the \n",
       "    RunApp and overwriting the _edit_inputs\n",
       "    take a simple csv file as an input instead of a JSON file...\n",
       "    the main funtions that can be overwritten to extend the class in this way are:\n",
       "\n",
       "    - _help\n",
       "    - _show_guide\n",
       "    - _edit_inputs\n",
       "    - _run\n",
       "    - _preview_outputs"
      ],
      "text/plain": [
       "<IPython.core.display.Markdown object>"
      ]
     },
     "metadata": {},
     "output_type": "display_data"
    },
    {
     "data": {
      "application/vnd.jupyter.widget-view+json": {
       "model_id": "6eb6956a4f4c46619e2804a784de5c0c",
       "version_major": 2,
       "version_minor": 0
      },
      "text/plain": [
       "HBox(children=(Checkbox(value=False, indent=False, layout=Layout(height='30px', max_width='30px', padding='3px…"
      ]
     },
     "metadata": {},
     "output_type": "display_data"
    },
    {
     "data": {
      "application/vnd.jupyter.widget-view+json": {
       "model_id": "fd6ec96dc24242119141f342f0852635",
       "version_major": 2,
       "version_minor": 0
      },
      "text/plain": [
       "Output()"
      ]
     },
     "metadata": {},
     "output_type": "display_data"
    },
    {
     "data": {
      "text/markdown": [
       "---"
      ],
      "text/plain": [
       "<IPython.core.display.Markdown object>"
      ]
     },
     "metadata": {},
     "output_type": "display_data"
    },
    {
     "data": {
      "text/markdown": [],
      "text/plain": [
       "<IPython.core.display.Markdown object>"
      ]
     },
     "metadata": {},
     "output_type": "display_data"
    },
    {
     "data": {
      "text/markdown": [
       "### Example3"
      ],
      "text/plain": [
       "<IPython.core.display.Markdown object>"
      ]
     },
     "metadata": {},
     "output_type": "display_data"
    },
    {
     "data": {
      "text/markdown": [
       "\n",
       "    demonstrates how multiple RunApp's can be ran as a batch. if not explicitly defined, the app assumes the default\n",
       "    RunApp is used.<br> it is also possible to explictly pass a RunApp variant, and it will still be executed within the batch:  \n",
       "\n",
       "    ```\n",
       "        di={\n",
       "            'fpth_script':os.path.join(os.environ['mf_root'],r'MF_Toolbox\\dev\\mf_scripts\\eplus_pipework_params.py'),\n",
       "            #'process_name':os.path.basename(os.path.join(os.environ['mf_root'],r'MF_Toolbox\\dev\\mf_scripts\\eplus_pipework_params.py')),\n",
       "            #'fpth_inputs':os.path.join(os.environ['mf_root'],r'MF_Toolbox\\dev\\mf_scripts\\configs\\eplus_pipework_params.csv'),\n",
       "            'fdir':os.path.join(NBFDIR,'notebooks'),\n",
       "            'fdir_outputs':os.path.join(NBFDIR,'notebooks')\n",
       "            }  \n",
       "\n",
       "        defaultrunapp={\n",
       "            'fpth_script':os.path.join(os.environ['mf_root'],r'MF_Toolbox\\dev\\mf_scripts\\docx_to_pdf.py'),\n",
       "            'fdir':NBFDIR,\n",
       "            'script_outputs': {'0': {\n",
       "                'fdir':r'..\r",
       "eports',\n",
       "                'fnm': r'JupyterReportDemo.pdf',\n",
       "                'description': \"a pdf report from word\"\n",
       "                    }\n",
       "                }\n",
       "            }\n",
       "\n",
       "        runappcsv = {'app':RunAppEditCsv,'config':di}\n",
       "        configs = [runappcsv,defaultrunapp,runappcsv]\n",
       "        runapps = RunApps(configs)  \n",
       "        display(runapps)\n",
       "    ```\n",
       "    "
      ],
      "text/plain": [
       "<IPython.core.display.Markdown object>"
      ]
     },
     "metadata": {},
     "output_type": "display_data"
    },
    {
     "data": {
      "application/vnd.jupyter.widget-view+json": {
       "model_id": "c956ecbff78e4905be18982dcc40d391",
       "version_major": 2,
       "version_minor": 0
      },
      "text/plain": [
       "HBox(children=(Button(icon='eye-slash', layout=Layout(width='5%'), style=ButtonStyle(font_weight='bold'), tool…"
      ]
     },
     "metadata": {},
     "output_type": "display_data"
    },
    {
     "data": {
      "application/vnd.jupyter.widget-view+json": {
       "model_id": "35152d9fdb9a4494a13500979b835fd2",
       "version_major": 2,
       "version_minor": 0
      },
      "text/plain": [
       "Output()"
      ]
     },
     "metadata": {},
     "output_type": "display_data"
    },
    {
     "data": {
      "application/vnd.jupyter.widget-view+json": {
       "model_id": "9636edfe819c47fd84afee2ad2a0b28a",
       "version_major": 2,
       "version_minor": 0
      },
      "text/plain": [
       "HBox(children=(Checkbox(value=False, indent=False, layout=Layout(height='30px', max_width='30px', padding='3px…"
      ]
     },
     "metadata": {},
     "output_type": "display_data"
    },
    {
     "data": {
      "application/vnd.jupyter.widget-view+json": {
       "model_id": "25dc0ac86b9443b8a880bc32031071a0",
       "version_major": 2,
       "version_minor": 0
      },
      "text/plain": [
       "Output()"
      ]
     },
     "metadata": {},
     "output_type": "display_data"
    },
    {
     "data": {
      "application/vnd.jupyter.widget-view+json": {
       "model_id": "a63a8754a1f14ad0bb5c8dd973e6edd7",
       "version_major": 2,
       "version_minor": 0
      },
      "text/plain": [
       "HBox(children=(Checkbox(value=False, indent=False, layout=Layout(height='30px', max_width='30px', padding='3px…"
      ]
     },
     "metadata": {},
     "output_type": "display_data"
    },
    {
     "data": {
      "application/vnd.jupyter.widget-view+json": {
       "model_id": "a33c8c3b26d2412899b60935217ce9b4",
       "version_major": 2,
       "version_minor": 0
      },
      "text/plain": [
       "Output()"
      ]
     },
     "metadata": {},
     "output_type": "display_data"
    },
    {
     "data": {
      "application/vnd.jupyter.widget-view+json": {
       "model_id": "094c68a2cb0c4ef88c3ac163ef1772b8",
       "version_major": 2,
       "version_minor": 0
      },
      "text/plain": [
       "HBox(children=(Checkbox(value=False, indent=False, layout=Layout(height='30px', max_width='30px', padding='3px…"
      ]
     },
     "metadata": {},
     "output_type": "display_data"
    },
    {
     "data": {
      "application/vnd.jupyter.widget-view+json": {
       "model_id": "9e59e5db076c42be91a61209e9eaa3b3",
       "version_major": 2,
       "version_minor": 0
      },
      "text/plain": [
       "Output()"
      ]
     },
     "metadata": {},
     "output_type": "display_data"
    },
    {
     "data": {
      "text/markdown": [
       "---"
      ],
      "text/plain": [
       "<IPython.core.display.Markdown object>"
      ]
     },
     "metadata": {},
     "output_type": "display_data"
    },
    {
     "data": {
      "text/markdown": [],
      "text/plain": [
       "<IPython.core.display.Markdown object>"
      ]
     },
     "metadata": {},
     "output_type": "display_data"
    },
    {
     "data": {
      "text/markdown": [
       "### Example4"
      ],
      "text/plain": [
       "<IPython.core.display.Markdown object>"
      ]
     },
     "metadata": {},
     "output_type": "display_data"
    },
    {
     "data": {
      "text/markdown": [
       "\n",
       "    as above but with an add run feature added. \n",
       "\n",
       "    ```\n",
       "        di={\n",
       "            'fpth_script':os.path.join(os.environ['mf_root'],r'MF_Toolbox\\dev\\mf_scripts\\eplus_pipework_params.py'),\n",
       "            #'process_name':os.path.basename(os.path.join(os.environ['mf_root'],r'MF_Toolbox\\dev\\mf_scripts\\eplus_pipework_params.py')),\n",
       "            #'fpth_inputs':os.path.join(os.environ['mf_root'],r'MF_Toolbox\\dev\\mf_scripts\\configs\\eplus_pipework_params.csv'),\n",
       "            'fdir':os.path.join(NBFDIR,'notebooks'),\n",
       "            'fdir_outputs':os.path.join(NBFDIR,'notebooks')\n",
       "            }  \n",
       "\n",
       "        defaultrunapp={\n",
       "            'fpth_script':os.path.join(os.environ['mf_root'],r'MF_Toolbox\\dev\\mf_scripts\\docx_to_pdf.py'),\n",
       "            'fdir':NBFDIR,\n",
       "            'script_outputs': {'0': {\n",
       "                'fdir':r'..\r",
       "eports',\n",
       "                'fnm': r'JupyterReportDemo.pdf',\n",
       "                'description': \"a pdf report from word\"\n",
       "                    }\n",
       "                }\n",
       "            }\n",
       "\n",
       "        runappcsv = {'app':RunAppEditCsv,'config':di}\n",
       "        configs = [runappcsv,defaultrunapp,runappcsv]\n",
       "        runapps = RunApps(configs)  \n",
       "        display(runapps)\n",
       "    ```\n",
       "    "
      ],
      "text/plain": [
       "<IPython.core.display.Markdown object>"
      ]
     },
     "metadata": {},
     "output_type": "display_data"
    },
    {
     "data": {
      "application/vnd.jupyter.widget-view+json": {
       "model_id": "cd9c1acf429f4897b9b5f388304c0bab",
       "version_major": 2,
       "version_minor": 0
      },
      "text/plain": [
       "HBox(children=(Button(icon='eye-slash', layout=Layout(width='5%'), style=ButtonStyle(font_weight='bold'), tool…"
      ]
     },
     "metadata": {},
     "output_type": "display_data"
    },
    {
     "data": {
      "application/vnd.jupyter.widget-view+json": {
       "model_id": "4551992f204940a3b9c1819dd565a973",
       "version_major": 2,
       "version_minor": 0
      },
      "text/plain": [
       "Output()"
      ]
     },
     "metadata": {},
     "output_type": "display_data"
    },
    {
     "data": {
      "application/vnd.jupyter.widget-view+json": {
       "model_id": "3cab450ed3d147a8a4c2188d0f13f961",
       "version_major": 2,
       "version_minor": 0
      },
      "text/plain": [
       "VBox(children=(VBox(children=(HBox(children=(Checkbox(value=False, indent=False, layout=Layout(height='30px', …"
      ]
     },
     "metadata": {},
     "output_type": "display_data"
    },
    {
     "data": {
      "text/markdown": [
       "---"
      ],
      "text/plain": [
       "<IPython.core.display.Markdown object>"
      ]
     },
     "metadata": {},
     "output_type": "display_data"
    },
    {
     "data": {
      "text/markdown": [],
      "text/plain": [
       "<IPython.core.display.Markdown object>"
      ]
     },
     "metadata": {},
     "output_type": "display_data"
    },
    {
     "ename": "FileNotFoundError",
     "evalue": "[WinError 3] The system cannot find the path specified: 'C:\\\\engDev\\\\git_mf\\\\ipyrun\\\\ipyrun\\\\appdata\\\\inputs\\\\modelruninputs'",
     "output_type": "error",
     "traceback": [
      "\u001b[1;31m---------------------------------------------------------------------------\u001b[0m",
      "\u001b[1;31mFileNotFoundError\u001b[0m                         Traceback (most recent call last)",
      "\u001b[1;32m<ipython-input-4-c9b5bd5a8e36>\u001b[0m in \u001b[0;36m<module>\u001b[1;34m\u001b[0m\n\u001b[0;32m    214\u001b[0m         \u001b[1;32mreturn\u001b[0m \u001b[0mbatch\u001b[0m\u001b[1;33m\u001b[0m\u001b[1;33m\u001b[0m\u001b[0m\n\u001b[0;32m    215\u001b[0m \u001b[1;33m\u001b[0m\u001b[0m\n\u001b[1;32m--> 216\u001b[1;33m     \u001b[1;32mfor\u001b[0m \u001b[0mfilename\u001b[0m \u001b[1;32min\u001b[0m \u001b[0mos\u001b[0m\u001b[1;33m.\u001b[0m\u001b[0mlistdir\u001b[0m\u001b[1;33m(\u001b[0m\u001b[0mfdir_modelruninput\u001b[0m\u001b[1;33m)\u001b[0m\u001b[1;33m:\u001b[0m\u001b[1;33m\u001b[0m\u001b[1;33m\u001b[0m\u001b[0m\n\u001b[0m\u001b[0;32m    217\u001b[0m         \u001b[1;32mif\u001b[0m \u001b[0mfilename\u001b[0m\u001b[1;33m.\u001b[0m\u001b[0mendswith\u001b[0m\u001b[1;33m(\u001b[0m\u001b[1;34m\".json\"\u001b[0m\u001b[1;33m)\u001b[0m\u001b[1;33m:\u001b[0m\u001b[1;33m\u001b[0m\u001b[1;33m\u001b[0m\u001b[0m\n\u001b[0;32m    218\u001b[0m             \u001b[0mbatch\u001b[0m \u001b[1;33m=\u001b[0m \u001b[0madd_to_batch\u001b[0m\u001b[1;33m(\u001b[0m\u001b[0mos\u001b[0m\u001b[1;33m.\u001b[0m\u001b[0mpath\u001b[0m\u001b[1;33m.\u001b[0m\u001b[0msplitext\u001b[0m\u001b[1;33m(\u001b[0m\u001b[0mfilename\u001b[0m\u001b[1;33m)\u001b[0m\u001b[1;33m[\u001b[0m\u001b[1;36m0\u001b[0m\u001b[1;33m]\u001b[0m\u001b[1;33m,\u001b[0m \u001b[0mfdir_modelruninput\u001b[0m\u001b[1;33m,\u001b[0m \u001b[0mdi\u001b[0m\u001b[1;33m,\u001b[0m \u001b[0mbatch\u001b[0m\u001b[1;33m)\u001b[0m\u001b[1;33m\u001b[0m\u001b[1;33m\u001b[0m\u001b[0m\n",
      "\u001b[1;31mFileNotFoundError\u001b[0m: [WinError 3] The system cannot find the path specified: 'C:\\\\engDev\\\\git_mf\\\\ipyrun\\\\ipyrun\\\\appdata\\\\inputs\\\\modelruninputs'"
     ]
    }
   ],
   "source": [
    "if __name__ =='__main__':\n",
    "\n",
    "    \n",
    "    \n",
    "    # dumb form\n",
    "    #form = RunForm()\n",
    "    #form\n",
    "\n",
    "\n",
    "    # Example1 --------------------------\n",
    "    # RunApp example, using a default JSON file\n",
    "    # EDIT JSON FILE with custom config and file management\n",
    "\n",
    "    config={\n",
    "        'fpth_script':os.path.join(os.environ['mf_root'],r'MF_Toolbox\\dev\\mf_scripts\\docx_to_pdf.py'),\n",
    "        'fdir':NBFDIR,\n",
    "        'script_outputs': {'0': {\n",
    "            'fdir':r'..\\reports',\n",
    "            'fnm': r'JupyterReportDemo.pdf',\n",
    "            'description': \"a pdf report from word\"\n",
    "                }\n",
    "            }\n",
    "        }    \n",
    "\n",
    "    rjson = RunAppModelRun(config)  \n",
    "    display(Markdown('### Example1'))\n",
    "    display(Markdown('''default RunApp.'''))\n",
    "    display(rjson)\n",
    "\n",
    "    display(Markdown('---'))  \n",
    "    display(Markdown(''))  \n",
    "\n",
    "    # Example2 --------------------------\n",
    "    class RunAppEditCsv(RunApp):\n",
    "\n",
    "        def __init__(self, config):\n",
    "            super().__init__(config)\n",
    "\n",
    "        def _edit_inputs(self, sender):\n",
    "            with self.out:\n",
    "                clear_output()\n",
    "                display(EditCsv(self.config))\n",
    "\n",
    "    di={\n",
    "        'fpth_script':os.path.join(os.environ['mf_root'],r'MF_Toolbox\\dev\\mf_scripts\\eplus_pipework_params.py'),\n",
    "        #'process_name':os.path.basename(os.path.join(os.environ['mf_root'],r'MF_Toolbox\\dev\\mf_scripts\\eplus_pipework_params.py')),\n",
    "        #'fpth_inputs':os.path.join(os.environ['mf_root'],r'MF_Toolbox\\dev\\mf_scripts\\configs\\eplus_pipework_params.csv'),\n",
    "        'fdir':NBFDIR,\n",
    "        #'fpth_log':os.path.join(NBFDIR,'notebooks',config),\n",
    "        #'fdir_outputs':os.path.join(NBFDIR,'notebooks')\n",
    "        #'RunApp_help':RunApp_help\n",
    "        }  \n",
    "    rcsv = RunAppEditCsv(di)  \n",
    "    display(Markdown('### Example2'))\n",
    "    display(Markdown('''example where the RunApp class has been extended by inheriting the \n",
    "    RunApp and overwriting the _edit_inputs\n",
    "    take a simple csv file as an input instead of a JSON file...\n",
    "    the main funtions that can be overwritten to extend the class in this way are:\n",
    "\n",
    "    - _help\n",
    "    - _show_guide\n",
    "    - _edit_inputs\n",
    "    - _run\n",
    "    - _preview_outputs'''))\n",
    "    display(rcsv)\n",
    "    display(Markdown('---'))  \n",
    "    display(Markdown(''))  \n",
    "\n",
    "    # Example3 --------------------------\n",
    "    di={\n",
    "        'fpth_script':os.path.join(os.environ['mf_root'],r'MF_Toolbox\\dev\\mf_scripts\\eplus_pipework_params.py'),\n",
    "        #'process_name':os.path.basename(os.path.join(os.environ['mf_root'],r'MF_Toolbox\\dev\\mf_scripts\\eplus_pipework_params.py')),\n",
    "        #'fpth_inputs':os.path.join(os.environ['mf_root'],r'MF_Toolbox\\dev\\mf_scripts\\configs\\eplus_pipework_params.csv'),\n",
    "        'fdir':os.path.join(NBFDIR,'notebooks'),\n",
    "        'fdir_outputs':os.path.join(NBFDIR,'notebooks')\n",
    "        }  \n",
    "\n",
    "    defaultrunapp={\n",
    "        'fpth_script':os.path.join(os.environ['mf_root'],r'MF_Toolbox\\dev\\mf_scripts\\docx_to_pdf.py'),\n",
    "        'fdir':NBFDIR,\n",
    "        'script_outputs': {'0': {\n",
    "            'fdir':r'..\\reports',\n",
    "            'fnm': r'JupyterReportDemo.pdf',\n",
    "            'description': \"a pdf report from word\"\n",
    "                }\n",
    "            }\n",
    "        }\n",
    "\n",
    "    runappcsv = {'app':RunAppEditCsv,'config':di}\n",
    "    configs = [runappcsv,defaultrunapp,runappcsv]\n",
    "    runapps = RunApps(configs)  \n",
    "\n",
    "    display(Markdown('### Example3'))\n",
    "    display(Markdown('''\n",
    "    demonstrates how multiple RunApp's can be ran as a batch. if not explicitly defined, the app assumes the default\n",
    "    RunApp is used.<br> it is also possible to explictly pass a RunApp variant, and it will still be executed within the batch:  \n",
    "\n",
    "    ```\n",
    "        di={\n",
    "            'fpth_script':os.path.join(os.environ['mf_root'],r'MF_Toolbox\\dev\\mf_scripts\\eplus_pipework_params.py'),\n",
    "            #'process_name':os.path.basename(os.path.join(os.environ['mf_root'],r'MF_Toolbox\\dev\\mf_scripts\\eplus_pipework_params.py')),\n",
    "            #'fpth_inputs':os.path.join(os.environ['mf_root'],r'MF_Toolbox\\dev\\mf_scripts\\configs\\eplus_pipework_params.csv'),\n",
    "            'fdir':os.path.join(NBFDIR,'notebooks'),\n",
    "            'fdir_outputs':os.path.join(NBFDIR,'notebooks')\n",
    "            }  \n",
    "\n",
    "        defaultrunapp={\n",
    "            'fpth_script':os.path.join(os.environ['mf_root'],r'MF_Toolbox\\dev\\mf_scripts\\docx_to_pdf.py'),\n",
    "            'fdir':NBFDIR,\n",
    "            'script_outputs': {'0': {\n",
    "                'fdir':r'..\\reports',\n",
    "                'fnm': r'JupyterReportDemo.pdf',\n",
    "                'description': \"a pdf report from word\"\n",
    "                    }\n",
    "                }\n",
    "            }\n",
    "\n",
    "        runappcsv = {'app':RunAppEditCsv,'config':di}\n",
    "        configs = [runappcsv,defaultrunapp,runappcsv]\n",
    "        runapps = RunApps(configs)  \n",
    "        display(runapps)\n",
    "    ```\n",
    "    '''))\n",
    "    display(runapps)\n",
    "    display(Markdown('---'))  \n",
    "    display(Markdown('')) \n",
    "\n",
    "    # Example4 --------------------------\n",
    "    di={\n",
    "        'fpth_script':os.path.join(os.environ['mf_root'],r'MF_Toolbox\\dev\\mf_scripts\\eplus_pipework_params.py'),\n",
    "        #'process_name':os.path.basename(os.path.join(os.environ['mf_root'],r'MF_Toolbox\\dev\\mf_scripts\\eplus_pipework_params.py')),\n",
    "        #'fpth_inputs':os.path.join(os.environ['mf_root'],r'MF_Toolbox\\dev\\mf_scripts\\configs\\eplus_pipework_params.csv'),\n",
    "        'fdir':os.path.join(NBFDIR,'notebooks'),\n",
    "        'fdir_outputs':os.path.join(NBFDIR,'notebooks')\n",
    "        }  \n",
    "\n",
    "    defaultrunapp={\n",
    "        'fpth_script':os.path.join(os.environ['mf_root'],r'MF_Toolbox\\dev\\mf_scripts\\docx_to_pdf.py'),\n",
    "        'fdir':NBFDIR,\n",
    "        'script_outputs': {'0': {\n",
    "            'fdir':r'..\\reports',\n",
    "            'fnm': r'JupyterReportDemo.pdf',\n",
    "            'description': \"a pdf report from word\"\n",
    "                }\n",
    "            }\n",
    "        }\n",
    "\n",
    "    runappcsv = {'app':RunAppEditCsv,'config':di}\n",
    "    configs = [runappcsv,defaultrunapp,runappcsv]\n",
    "    runapps = RunAppsMruns(configs)  \n",
    "\n",
    "    display(Markdown('### Example4'))\n",
    "    display(Markdown('''\n",
    "    as above but with an add run feature added. \n",
    "\n",
    "    ```\n",
    "        di={\n",
    "            'fpth_script':os.path.join(os.environ['mf_root'],r'MF_Toolbox\\dev\\mf_scripts\\eplus_pipework_params.py'),\n",
    "            #'process_name':os.path.basename(os.path.join(os.environ['mf_root'],r'MF_Toolbox\\dev\\mf_scripts\\eplus_pipework_params.py')),\n",
    "            #'fpth_inputs':os.path.join(os.environ['mf_root'],r'MF_Toolbox\\dev\\mf_scripts\\configs\\eplus_pipework_params.csv'),\n",
    "            'fdir':os.path.join(NBFDIR,'notebooks'),\n",
    "            'fdir_outputs':os.path.join(NBFDIR,'notebooks')\n",
    "            }  \n",
    "\n",
    "        defaultrunapp={\n",
    "            'fpth_script':os.path.join(os.environ['mf_root'],r'MF_Toolbox\\dev\\mf_scripts\\docx_to_pdf.py'),\n",
    "            'fdir':NBFDIR,\n",
    "            'script_outputs': {'0': {\n",
    "                'fdir':r'..\\reports',\n",
    "                'fnm': r'JupyterReportDemo.pdf',\n",
    "                'description': \"a pdf report from word\"\n",
    "                    }\n",
    "                }\n",
    "            }\n",
    "\n",
    "        runappcsv = {'app':RunAppEditCsv,'config':di}\n",
    "        configs = [runappcsv,defaultrunapp,runappcsv]\n",
    "        runapps = RunApps(configs)  \n",
    "        display(runapps)\n",
    "    ```\n",
    "    '''))\n",
    "    display(runapps)\n",
    "    display(Markdown('---'))  \n",
    "    display(Markdown('')) \n",
    "    \n",
    "    \n",
    "    \n",
    "    \n",
    "    fpth_script = os.path.join(os.environ['mf_root'],r'MF_Toolbox\\dev\\mf_scripts\\gbxml.py')\n",
    "    config={\n",
    "        'fpth_script':os.path.realpath(fpth_script),\n",
    "        'fdir':NBFDIR\n",
    "        }  \n",
    "    r = RunApp(config)\n",
    "    r\n",
    "\n",
    "   # Example5 --------------------------\n",
    "    fpth_script = r'..\\examples\\scripts\\create_model_run_file.py'\n",
    "    di={\n",
    "        'fpth_script':os.path.realpath(fpth_script),\n",
    "        'fdir':os.path.join(NBFDIR),\n",
    "    } \n",
    "    di_config = RunConfig(di).config\n",
    "    batch = []\n",
    "    fdir_modelruninput = os.path.join(di_config['fdir_inputs'], r'modelruninputs')\n",
    "    \n",
    "    def add_to_batch(process_name, fdir_modelruninput, di, batch):\n",
    "        tmp = di.copy()\n",
    "        fpth_modelruninput = os.path.join(fdir_modelruninput, '{0}{1}'.format(process_name,'.json'))\n",
    "        tmp['fpth_inputs'] = fpth_modelruninput\n",
    "        tmp['fdir_inputs'] = fdir_modelruninput\n",
    "        tmp.update({'process_name':process_name})\n",
    "        batch.append({'app':RunAppModelRun,'config':tmp})\n",
    "        return batch\n",
    "    \n",
    "    for filename in os.listdir(fdir_modelruninput):\n",
    "        if filename.endswith(\".json\"):\n",
    "            batch = add_to_batch(os.path.splitext(filename)[0], fdir_modelruninput, di, batch)\n",
    "\n",
    "    filename = os.path.basename(fpth_script)\n",
    "    process_name = '{0}_{1}'.format(os.path.splitext(filename)[0],'0')\n",
    "    if not batch:\n",
    "        batch = add_to_batch(process_name, fdir_modelruninput, di, batch)\n",
    "        \n",
    "    runapps = RunAppsMruns(batch)  \n",
    "    display(Markdown('### Example5'))\n",
    "    display(Markdown('''Batch Run of RunApps, for ModelRun'''))\n",
    "    display(runapps, display_id=True)\n",
    "    \n",
    "\n",
    "\n",
    "\n",
    "\n",
    "\n",
    "\n"
   ]
  }
 ],
 "metadata": {
  "jupytext": {
   "formats": "ipynb,py:light"
  },
  "kernelspec": {
   "display_name": "Python [conda env:mf_main] *",
   "language": "python",
   "name": "conda-env-mf_main-py"
  },
  "language_info": {
   "codemirror_mode": {
    "name": "ipython",
    "version": 3
   },
   "file_extension": ".py",
   "mimetype": "text/x-python",
   "name": "python",
   "nbconvert_exporter": "python",
   "pygments_lexer": "ipython3",
   "version": "3.7.7"
  },
  "widgets": {
   "application/vnd.jupyter.widget-state+json": {
    "state": {
     "0011892d56ab4192afe4fa43346990c6": {
      "model_module": "@jupyter-widgets/controls",
      "model_module_version": "1.5.0",
      "model_name": "ButtonModel",
      "state": {
       "button_style": "success",
       "description": "run",
       "layout": "IPY_MODEL_d2fdcb7be9b0479a9caa71d562281568",
       "style": "IPY_MODEL_e216bdf95fb94a9d984250c2f3476ed6",
       "tooltip": "execute the script based on the user inputs"
      }
     },
     "001c153eab6f4cd5afdb923964ac42a3": {
      "model_module": "@jupyter-widgets/base",
      "model_module_version": "1.2.0",
      "model_name": "LayoutModel",
      "state": {}
     },
     "006fc0a84dd5482e8f56160c965035fe": {
      "model_module": "@jupyter-widgets/controls",
      "model_module_version": "1.5.0",
      "model_name": "BoxModel",
      "state": {
       "children": [
        "IPY_MODEL_660664d24f5e40c7b483b6f2f21459df"
       ],
       "layout": "IPY_MODEL_56753c17738243b4889b1960eb253f13"
      }
     },
     "01bbb472bb4f44abaaf268fb768eae56": {
      "model_module": "@jupyter-widgets/base",
      "model_module_version": "1.2.0",
      "model_name": "LayoutModel",
      "state": {
       "border": "0px",
       "margin": "0px",
       "padding": "0px"
      }
     },
     "01ebc9b483f5426eb98c52d242a1ca78": {
      "model_module": "@jupyter-widgets/base",
      "model_module_version": "1.2.0",
      "model_name": "LayoutModel",
      "state": {
       "align_items": "stretch",
       "width": "100%"
      }
     },
     "02af235ec2e245e9921b5f0d5293c559": {
      "model_module": "@jupyter-widgets/base",
      "model_module_version": "1.2.0",
      "model_name": "LayoutModel",
      "state": {
       "width": "5%"
      }
     },
     "043f2698e595490198fd609a6aad8537": {
      "model_module": "@jupyter-widgets/base",
      "model_module_version": "1.2.0",
      "model_name": "LayoutModel",
      "state": {}
     },
     "0457c729911944e5aee006c43e1423bf": {
      "model_module": "@jupyter-widgets/controls",
      "model_module_version": "1.5.0",
      "model_name": "ButtonStyleModel",
      "state": {
       "font_weight": "bold"
      }
     },
     "05da9835bde145648e5abe02784aa7b7": {
      "model_module": "@jupyter-widgets/base",
      "model_module_version": "1.2.0",
      "model_name": "LayoutModel",
      "state": {}
     },
     "06042339343f43c893ede04c7c9e2546": {
      "model_module": "@jupyter-widgets/controls",
      "model_module_version": "1.5.0",
      "model_name": "ButtonStyleModel",
      "state": {
       "font_weight": "bold"
      }
     },
     "0682b47216df48f2b0142536a96779f9": {
      "model_module": "@jupyter-widgets/base",
      "model_module_version": "1.2.0",
      "model_name": "LayoutModel",
      "state": {
       "width": "100%"
      }
     },
     "06ad6e4b40354a3988527dc279d01242": {
      "model_module": "@jupyter-widgets/base",
      "model_module_version": "1.2.0",
      "model_name": "LayoutModel",
      "state": {}
     },
     "06cfec9f65dc4c56a2272542e32ad0be": {
      "model_module": "@jupyter-widgets/base",
      "model_module_version": "1.2.0",
      "model_name": "LayoutModel",
      "state": {}
     },
     "077f8da7fc4f43a6915ee95659ade85a": {
      "model_module": "@jupyter-widgets/controls",
      "model_module_version": "1.5.0",
      "model_name": "ButtonModel",
      "state": {
       "button_style": "info",
       "description": "show source code",
       "layout": "IPY_MODEL_fb8e681f0b1248ce8a98454c0d6b1274",
       "style": "IPY_MODEL_3b2d315dfa4e43f2b5e8b1b8687edf13",
       "tooltip": "shows the raw python code in the preview window below"
      }
     },
     "078b32edf79d45ec8c8ff6762aa49112": {
      "model_module": "@jupyter-widgets/controls",
      "model_module_version": "1.5.0",
      "model_name": "ButtonStyleModel",
      "state": {
       "font_weight": "bold"
      }
     },
     "07cc2e4f30634bb28640b7cedf3b5914": {
      "model_module": "@jupyter-widgets/controls",
      "model_module_version": "1.5.0",
      "model_name": "ButtonModel",
      "state": {
       "button_style": "info",
       "description": "show source code",
       "layout": "IPY_MODEL_a0b9ea7171f34f07a80a96a55ea1c51d",
       "style": "IPY_MODEL_8649d389af734c9a8b9b9eab328b44fe",
       "tooltip": "shows the raw python code in the preview window below"
      }
     },
     "07d32f0c0ce347e6a8edbf6c375ab8ab": {
      "model_module": "@jupyter-widgets/controls",
      "model_module_version": "1.5.0",
      "model_name": "DescriptionStyleModel",
      "state": {
       "description_width": ""
      }
     },
     "07def5c086b24eb281453bf1a4368869": {
      "model_module": "@jupyter-widgets/controls",
      "model_module_version": "1.5.0",
      "model_name": "TextModel",
      "state": {
       "description": "script",
       "disabled": true,
       "layout": "IPY_MODEL_7a8f08c6a66e450ebe2209a054c3870b",
       "style": "IPY_MODEL_f4c847ce601c416daf439a45cd31926e",
       "value": "C:\\engDev\\git_mf\\MF_Toolbox\\dev\\mf_scripts\\eplus_pipework_params.py"
      }
     },
     "08095ea0950b4e78a79b8a55d095e1cc": {
      "model_module": "@jupyter-widgets/controls",
      "model_module_version": "1.5.0",
      "model_name": "HBoxModel",
      "state": {
       "children": [
        "IPY_MODEL_d5c278185557434e9ee2a053c0733f6e",
        "IPY_MODEL_13e91365af6842f4a1f8b76c2709e048"
       ],
       "layout": "IPY_MODEL_3a97afe692f84b9f9b70c72630156065"
      }
     },
     "08c38183e73f4823b74f0fc940e7155c": {
      "model_module": "@jupyter-widgets/controls",
      "model_module_version": "1.5.0",
      "model_name": "DescriptionStyleModel",
      "state": {
       "description_width": ""
      }
     },
     "092876a8248b415792b5a86312525cc2": {
      "model_module": "@jupyter-widgets/controls",
      "model_module_version": "1.5.0",
      "model_name": "ButtonStyleModel",
      "state": {
       "font_weight": "bold"
      }
     },
     "09396726f8a840ccb7d5b161af9a7108": {
      "model_module": "@jupyter-widgets/controls",
      "model_module_version": "1.5.0",
      "model_name": "AccordionModel",
      "state": {
       "_titles": {
        "0": "eplus_pipework_params"
       },
       "children": [
        "IPY_MODEL_9c9957ac8b5140a28786f8e863c2a497"
       ],
       "layout": "IPY_MODEL_471d9d0d196247818bb58941178b9ecf",
       "selected_index": null
      }
     },
     "094c68a2cb0c4ef88c3ac163ef1772b8": {
      "model_module": "@jupyter-widgets/controls",
      "model_module_version": "1.5.0",
      "model_name": "HBoxModel",
      "state": {
       "children": [
        "IPY_MODEL_f27edfb48f6d4361b1e927af8d943788",
        "IPY_MODEL_09396726f8a840ccb7d5b161af9a7108"
       ],
       "layout": "IPY_MODEL_61e7bc2d641a4611b50d6d15ca819491"
      }
     },
     "098598e947544acf930140e1a6cafc2b": {
      "model_module": "@jupyter-widgets/controls",
      "model_module_version": "1.5.0",
      "model_name": "ButtonModel",
      "state": {
       "button_style": "info",
       "description": "show log",
       "layout": "IPY_MODEL_861b8c9362cb4c9293dfe1b62a9881ed",
       "style": "IPY_MODEL_41bf7485ff4e4fd4953d7c2b6115c72c",
       "tooltip": "show a log of when the script was executed to generate the outputs, and by who"
      }
     },
     "0a8593de83814f93a11f4a3c7b2ef1f3": {
      "model_module": "@jupyter-widgets/controls",
      "model_module_version": "1.5.0",
      "model_name": "VBoxModel",
      "state": {
       "children": [
        "IPY_MODEL_73c7db8f163d4052906051a8667c0083",
        "IPY_MODEL_bdb372da73b043b38f88cb5349129a89",
        "IPY_MODEL_fafd702f8c894380a01c67336e1ae6b9"
       ],
       "layout": "IPY_MODEL_8edee107f7264e50bee9b55f1d837ad0"
      }
     },
     "0cc7c2e4fa7f4ff8abd4ce3695f9a11c": {
      "model_module": "@jupyter-widgets/base",
      "model_module_version": "1.2.0",
      "model_name": "LayoutModel",
      "state": {}
     },
     "0d0bfd5e1441428791f5d1a82baa27a2": {
      "model_module": "@jupyter-widgets/controls",
      "model_module_version": "1.5.0",
      "model_name": "ButtonStyleModel",
      "state": {
       "font_weight": "bold"
      }
     },
     "0f6513beaeff4c968f0b7fe117d454c9": {
      "model_module": "@jupyter-widgets/controls",
      "model_module_version": "1.5.0",
      "model_name": "ButtonModel",
      "state": {
       "button_style": "success",
       "description": "run batch",
       "layout": "IPY_MODEL_4d4667c7383841b0885beae1de20cd36",
       "style": "IPY_MODEL_14041571bec64d329fc94f833bc2053e",
       "tooltip": "execute checked processes below"
      }
     },
     "0fafa1ca5df24c4d8e0d8433f4884db9": {
      "model_module": "@jupyter-widgets/controls",
      "model_module_version": "1.5.0",
      "model_name": "ButtonStyleModel",
      "state": {
       "font_weight": "bold"
      }
     },
     "104cb28dfaf64ba1a474613615ec6361": {
      "model_module": "@jupyter-widgets/controls",
      "model_module_version": "1.5.0",
      "model_name": "ButtonModel",
      "state": {
       "icon": "question-circle",
       "layout": "IPY_MODEL_ccfa371baddf4e999ac99d76c1733c9f",
       "style": "IPY_MODEL_9921f26e08664572a1a5c11524773af7",
       "tooltip": "describes the functionality of elements in the RunApp interface"
      }
     },
     "107cdf80243b47a28e2ae9c675494e40": {
      "model_module": "@jupyter-widgets/base",
      "model_module_version": "1.2.0",
      "model_name": "LayoutModel",
      "state": {}
     },
     "1124907ef4584302892f37fd3a6a6490": {
      "model_module": "@jupyter-widgets/controls",
      "model_module_version": "1.5.0",
      "model_name": "ButtonModel",
      "state": {
       "button_style": "info",
       "description": "show log",
       "layout": "IPY_MODEL_cbf0ddb801424610bd974e29b39f6f07",
       "style": "IPY_MODEL_5b42ef24c0584e29b8d52ffeed1629e7",
       "tooltip": "show a log of when the script was executed to generate the outputs, and by who"
      }
     },
     "1164716f8b6b4e7fa23e623799e13471": {
      "model_module": "@jupyter-widgets/base",
      "model_module_version": "1.2.0",
      "model_name": "LayoutModel",
      "state": {}
     },
     "11a3e83109834b3bb6e1012ab86c0213": {
      "model_module": "@jupyter-widgets/base",
      "model_module_version": "1.2.0",
      "model_name": "LayoutModel",
      "state": {
       "width": "100%"
      }
     },
     "1217078ce26147c7a396117868dc9a74": {
      "model_module": "@jupyter-widgets/base",
      "model_module_version": "1.2.0",
      "model_name": "LayoutModel",
      "state": {
       "width": "100%"
      }
     },
     "123d14664fa54d82b9ef460c37d6ac0d": {
      "model_module": "@jupyter-widgets/controls",
      "model_module_version": "1.5.0",
      "model_name": "AccordionModel",
      "state": {
       "_titles": {
        "0": "docx_to_pdf"
       },
       "children": [
        "IPY_MODEL_64bb22b96f1a4f87b30db0ea04abdfc2"
       ],
       "layout": "IPY_MODEL_7811799fcd4b4d2a89608fd5c00934e3",
       "selected_index": null
      }
     },
     "126c50709db0455c825ab35c5217f08a": {
      "model_module": "@jupyter-widgets/base",
      "model_module_version": "1.2.0",
      "model_name": "LayoutModel",
      "state": {
       "align_items": "stretch",
       "width": "100%"
      }
     },
     "12c75de9b5d041bba536a27d8da67560": {
      "model_module": "@jupyter-widgets/base",
      "model_module_version": "1.2.0",
      "model_name": "LayoutModel",
      "state": {}
     },
     "12d8066b197e408a815f4a5428497e9c": {
      "model_module": "@jupyter-widgets/controls",
      "model_module_version": "1.5.0",
      "model_name": "AccordionModel",
      "state": {
       "_titles": {
        "0": "gbxml"
       },
       "children": [
        "IPY_MODEL_72ff8a54ec0c40eeab7e6355cb32c851"
       ],
       "layout": "IPY_MODEL_0682b47216df48f2b0142536a96779f9",
       "selected_index": null
      }
     },
     "138040b40f6845fdbf32330552d6bb16": {
      "model_module": "@jupyter-widgets/base",
      "model_module_version": "1.2.0",
      "model_name": "LayoutModel",
      "state": {}
     },
     "13e91365af6842f4a1f8b76c2709e048": {
      "model_module": "@jupyter-widgets/controls",
      "model_module_version": "1.5.0",
      "model_name": "AccordionModel",
      "state": {
       "_titles": {
        "0": "eplus_pipework_params"
       },
       "children": [
        "IPY_MODEL_97ae699af0324b11b2bb04a712e2e1ca"
       ],
       "layout": "IPY_MODEL_9d904b07ccda4b21ad448938814275af",
       "selected_index": null
      }
     },
     "14041571bec64d329fc94f833bc2053e": {
      "model_module": "@jupyter-widgets/controls",
      "model_module_version": "1.5.0",
      "model_name": "ButtonStyleModel",
      "state": {
       "font_weight": "add"
      }
     },
     "146681e99fbd4384987938d09b59ad9f": {
      "model_module": "@jupyter-widgets/base",
      "model_module_version": "1.2.0",
      "model_name": "LayoutModel",
      "state": {
       "height": "30px",
       "width": "auto"
      }
     },
     "14a5b249840c4c17abe6084442984380": {
      "model_module": "@jupyter-widgets/base",
      "model_module_version": "1.2.0",
      "model_name": "LayoutModel",
      "state": {
       "align_items": "stretch",
       "width": "100%"
      }
     },
     "14d3b3c7c6444b3cacc1a5e7b312715e": {
      "model_module": "@jupyter-widgets/controls",
      "model_module_version": "1.5.0",
      "model_name": "ButtonStyleModel",
      "state": {
       "font_weight": "bold"
      }
     },
     "164c726bc6414b09b9feef80dd8e4c1d": {
      "model_module": "@jupyter-widgets/controls",
      "model_module_version": "1.5.0",
      "model_name": "ButtonModel",
      "state": {
       "button_style": "success",
       "description": "run",
       "layout": "IPY_MODEL_1164716f8b6b4e7fa23e623799e13471",
       "style": "IPY_MODEL_c54a82ddc574412980ebc3984e7308f7",
       "tooltip": "execute the script based on the user inputs"
      }
     },
     "171145732c0e41fe8de11a048e41cf7c": {
      "model_module": "@jupyter-widgets/controls",
      "model_module_version": "1.5.0",
      "model_name": "AccordionModel",
      "state": {
       "_titles": {
        "0": "eplus_pipework_params"
       },
       "children": [
        "IPY_MODEL_6875640ca091405191e963a42d517555"
       ],
       "layout": "IPY_MODEL_1217078ce26147c7a396117868dc9a74",
       "selected_index": null
      }
     },
     "174db557a2714c6c8bd1ea58be96a01f": {
      "model_module": "@jupyter-widgets/base",
      "model_module_version": "1.2.0",
      "model_name": "LayoutModel",
      "state": {
       "width": "5%"
      }
     },
     "1a2f2b24aa9b458d93f42582d42ebd5d": {
      "model_module": "@jupyter-widgets/base",
      "model_module_version": "1.2.0",
      "model_name": "LayoutModel",
      "state": {
       "align_items": "stretch",
       "width": "100%"
      }
     },
     "1a3e337d039d44ae927c02be33ef6a2f": {
      "model_module": "@jupyter-widgets/base",
      "model_module_version": "1.2.0",
      "model_name": "LayoutModel",
      "state": {
       "width": "5%"
      }
     },
     "1a851b211c1f460794ff0ba403d12bb4": {
      "model_module": "@jupyter-widgets/controls",
      "model_module_version": "1.5.0",
      "model_name": "TextModel",
      "state": {
       "description": "inputs",
       "disabled": true,
       "layout": "IPY_MODEL_78ebcfabe6d442bc8a71cf1235959900",
       "style": "IPY_MODEL_db1d54d9ccd44c4b9beb0816d2e800f2",
       "value": "C:\\engDev\\git_mf\\ipyrun\\ipyrun\\notebooks\\appdata\\inputs\\inputs-eplus_pipework_params.csv"
      }
     },
     "1ac521ab7e8a412f96767d76391b0f6f": {
      "model_module": "@jupyter-widgets/controls",
      "model_module_version": "1.5.0",
      "model_name": "ButtonModel",
      "state": {
       "button_style": "warning",
       "description": "add run",
       "layout": "IPY_MODEL_6ef3f81f313748f7886eb3043e532538",
       "style": "IPY_MODEL_cbd86ee8a4a04212be3f0f57cb89f63b",
       "tooltip": "add new run, based on another run"
      }
     },
     "1ad12b31c26c4f4a834bfa52cc39285a": {
      "model_module": "@jupyter-widgets/controls",
      "model_module_version": "1.5.0",
      "model_name": "ButtonModel",
      "state": {
       "button_style": "info",
       "description": "show guide",
       "layout": "IPY_MODEL_67d8838a6f814b42960ebc36edfb0876",
       "style": "IPY_MODEL_454700422793412ea0b975a28f88910d",
       "tooltip": "read the \"docstring\", ie. the documentation that was written to accompany the script"
      }
     },
     "1b00cecf50af47e6a6a3958a3de200ab": {
      "model_module": "@jupyter-widgets/base",
      "model_module_version": "1.2.0",
      "model_name": "LayoutModel",
      "state": {
       "border": "0px",
       "margin": "0px",
       "padding": "0px"
      }
     },
     "1b03627e65624ed4bc69e6d6f07fe764": {
      "model_module": "@jupyter-widgets/base",
      "model_module_version": "1.2.0",
      "model_name": "LayoutModel",
      "state": {
       "align_items": "stretch",
       "width": "100%"
      }
     },
     "1bc8853008a8434d90c272e89d84a0ac": {
      "model_module": "@jupyter-widgets/controls",
      "model_module_version": "1.5.0",
      "model_name": "BoxModel",
      "state": {
       "children": [
        "IPY_MODEL_4fe4ea7849134b43ac42f79dd642f110"
       ],
       "layout": "IPY_MODEL_043f2698e595490198fd609a6aad8537"
      }
     },
     "1c43e40a964b4ce0a36d179fc4312f2c": {
      "model_module": "@jupyter-widgets/controls",
      "model_module_version": "1.5.0",
      "model_name": "TextModel",
      "state": {
       "description": "inputs",
       "disabled": true,
       "layout": "IPY_MODEL_cd9456e3033d43f2bdd2dd1786602f72",
       "style": "IPY_MODEL_2dfad114c9354dfb81968c171e3529ae",
       "value": "C:\\engDev\\git_mf\\ipyrun\\ipyrun\\appdata\\inputs\\inputs-docx_to_pdf.json"
      }
     },
     "1d8d22db99294ce89e217335af699b65": {
      "model_module": "@jupyter-widgets/controls",
      "model_module_version": "1.5.0",
      "model_name": "ButtonStyleModel",
      "state": {
       "font_weight": "bold"
      }
     },
     "1dad34db697f4c498fdbedf8ee1ba0d9": {
      "model_module": "@jupyter-widgets/base",
      "model_module_version": "1.2.0",
      "model_name": "LayoutModel",
      "state": {}
     },
     "1deeaffad490474e8ad5fad8f61a710e": {
      "model_module": "@jupyter-widgets/base",
      "model_module_version": "1.2.0",
      "model_name": "LayoutModel",
      "state": {
       "height": "30px",
       "width": "auto"
      }
     },
     "1e8740623bcf4a22a6da083e1fa15917": {
      "model_module": "@jupyter-widgets/controls",
      "model_module_version": "1.5.0",
      "model_name": "DescriptionStyleModel",
      "state": {
       "description_width": ""
      }
     },
     "1e9d53fcdf484c468e6bcceb2b5c8550": {
      "model_module": "@jupyter-widgets/base",
      "model_module_version": "1.2.0",
      "model_name": "LayoutModel",
      "state": {}
     },
     "1f75b0564cab41d3a971d2ff1bc07e81": {
      "model_module": "@jupyter-widgets/controls",
      "model_module_version": "1.5.0",
      "model_name": "ButtonStyleModel",
      "state": {
       "font_weight": "bold"
      }
     },
     "1fb94d87e24e4e0aa5a767669779064f": {
      "model_module": "@jupyter-widgets/controls",
      "model_module_version": "1.5.0",
      "model_name": "VBoxModel",
      "state": {
       "children": [
        "IPY_MODEL_6901bacb4460434bac4bf4473fa646cd",
        "IPY_MODEL_653d807e83574b7ea8caf7b1f2c9efb8",
        "IPY_MODEL_31ae2d7cc5f8499da4681123a8fd3819"
       ],
       "layout": "IPY_MODEL_14a5b249840c4c17abe6084442984380"
      }
     },
     "203f9f38a1964d2786edcf3ed986e458": {
      "model_module": "@jupyter-widgets/controls",
      "model_module_version": "1.5.0",
      "model_name": "ButtonStyleModel",
      "state": {
       "font_weight": "bold"
      }
     },
     "20a3767d07a041a5a6f1351bd6020faf": {
      "model_module": "@jupyter-widgets/controls",
      "model_module_version": "1.5.0",
      "model_name": "ButtonStyleModel",
      "state": {
       "font_weight": "bold"
      }
     },
     "20b8cd3c6d764a79a84063ba37af42e8": {
      "model_module": "@jupyter-widgets/controls",
      "model_module_version": "1.5.0",
      "model_name": "BoxModel",
      "state": {
       "children": [
        "IPY_MODEL_8739e90198cc4147a5563723cfab54cc"
       ],
       "layout": "IPY_MODEL_80b58dd86c104f7c87f928a5617db020"
      }
     },
     "20dc238dba0b444fada57c4acdf40bf9": {
      "model_module": "@jupyter-widgets/base",
      "model_module_version": "1.2.0",
      "model_name": "LayoutModel",
      "state": {
       "align_items": "stretch",
       "width": "100%"
      }
     },
     "21246951dc114eee865b0cf8be6c987e": {
      "model_module": "@jupyter-widgets/base",
      "model_module_version": "1.2.0",
      "model_name": "LayoutModel",
      "state": {
       "height": "30px",
       "width": "auto"
      }
     },
     "227a434b04b741d5a217fde0d5750043": {
      "model_module": "@jupyter-widgets/base",
      "model_module_version": "1.2.0",
      "model_name": "LayoutModel",
      "state": {
       "height": "30px",
       "width": "auto"
      }
     },
     "234c2aa7c6754bab925a5e1459c29479": {
      "model_module": "@jupyter-widgets/controls",
      "model_module_version": "1.5.0",
      "model_name": "ButtonModel",
      "state": {
       "button_style": "info",
       "description": "show source code",
       "layout": "IPY_MODEL_4901913aba1d4583bcc1db5b4040a8be",
       "style": "IPY_MODEL_7c90f444c514452492069c5f97031d53",
       "tooltip": "shows the raw python code in the preview window below"
      }
     },
     "24935e8058c348c891ccfd571a1753b8": {
      "model_module": "@jupyter-widgets/controls",
      "model_module_version": "1.5.0",
      "model_name": "ButtonStyleModel",
      "state": {
       "font_weight": "bold"
      }
     },
     "251b038db845400ca7937bbfff3345f0": {
      "model_module": "@jupyter-widgets/controls",
      "model_module_version": "1.5.0",
      "model_name": "ButtonStyleModel",
      "state": {}
     },
     "2530b2fd3b4d41e48932c2d816668747": {
      "model_module": "@jupyter-widgets/controls",
      "model_module_version": "1.5.0",
      "model_name": "ButtonModel",
      "state": {
       "icon": "question-circle",
       "layout": "IPY_MODEL_ffcb07df5fa54021a84a4f5d01ba49a6",
       "style": "IPY_MODEL_8fc251f4aed341ae9d6d6e587bf6a7a7",
       "tooltip": "describes the functionality of elements in the RunApp interface"
      }
     },
     "25dc0ac86b9443b8a880bc32031071a0": {
      "model_module": "@jupyter-widgets/output",
      "model_module_version": "1.0.0",
      "model_name": "OutputModel",
      "state": {
       "layout": "IPY_MODEL_7d119670ed604e9aba45683a21d9779d"
      }
     },
     "2624f56bf253449d91d215b5ddb545d9": {
      "model_module": "@jupyter-widgets/controls",
      "model_module_version": "1.5.0",
      "model_name": "ButtonModel",
      "state": {
       "icon": "eye-slash",
       "layout": "IPY_MODEL_a41f8ec5e19e45f4b3f7d71d82b091ab",
       "style": "IPY_MODEL_a055bc62d0d34aa2b36e31f4acf818dd",
       "tooltip": "removes temporary output view"
      }
     },
     "273ad9d4284e4322aabff23eba9fd020": {
      "model_module": "@jupyter-widgets/base",
      "model_module_version": "1.2.0",
      "model_name": "LayoutModel",
      "state": {}
     },
     "28132350771d443cb068f0ac4223ec10": {
      "model_module": "@jupyter-widgets/controls",
      "model_module_version": "1.5.0",
      "model_name": "BoxModel",
      "state": {
       "children": [
        "IPY_MODEL_5c3686bbd8774c3ca5c2c8f3f48e8015"
       ],
       "layout": "IPY_MODEL_107cdf80243b47a28e2ae9c675494e40"
      }
     },
     "291a0ca834034733a6a909872b7f6f82": {
      "model_module": "@jupyter-widgets/controls",
      "model_module_version": "1.5.0",
      "model_name": "ButtonModel",
      "state": {
       "button_style": "success",
       "description": "run",
       "layout": "IPY_MODEL_eab3bdf374dc405a91023448502f8d44",
       "style": "IPY_MODEL_728a94b3f4024fdf847647fc23fd7255",
       "tooltip": "execute the script based on the user inputs"
      }
     },
     "291ac62bc2354d2a9b4e3d7b46ffc70a": {
      "model_module": "@jupyter-widgets/controls",
      "model_module_version": "1.5.0",
      "model_name": "DescriptionStyleModel",
      "state": {
       "description_width": ""
      }
     },
     "2a2656500eed4ba8bce3ed176ddf7fbe": {
      "model_module": "@jupyter-widgets/controls",
      "model_module_version": "1.5.0",
      "model_name": "BoxModel",
      "state": {
       "children": [
        "IPY_MODEL_323add388afe4e5496b1523e89d4e0dd"
       ],
       "layout": "IPY_MODEL_2c4b461822fa4a4ea219995600d31046"
      }
     },
     "2a6d8587d2394508bfdffa8c1d94a4c1": {
      "model_module": "@jupyter-widgets/controls",
      "model_module_version": "1.5.0",
      "model_name": "ButtonModel",
      "state": {
       "button_style": "info",
       "description": "preview outputs",
       "layout": "IPY_MODEL_f854efc84f134f0e8697708f5f9572f8",
       "style": "IPY_MODEL_c4bc561e7bba401dbe9262bfea240d6a",
       "tooltip": "show a preview of the output files generated when the script runs"
      }
     },
     "2b22f98576e84c73b7a88aba982b75a3": {
      "model_module": "@jupyter-widgets/controls",
      "model_module_version": "1.5.0",
      "model_name": "AccordionModel",
      "state": {
       "_titles": {
        "0": "docx_to_pdf"
       },
       "children": [
        "IPY_MODEL_b7916a6956b84c0780cd321e8f53f840"
       ],
       "layout": "IPY_MODEL_4021ec24424e4e3599bce098956b218f",
       "selected_index": null
      }
     },
     "2c4b461822fa4a4ea219995600d31046": {
      "model_module": "@jupyter-widgets/base",
      "model_module_version": "1.2.0",
      "model_name": "LayoutModel",
      "state": {}
     },
     "2c9f0dcf6708443095dfe418f03e47c7": {
      "model_module": "@jupyter-widgets/base",
      "model_module_version": "1.2.0",
      "model_name": "LayoutModel",
      "state": {
       "height": "30px",
       "width": "auto"
      }
     },
     "2cd99f6891ae4a84958cdc7511a45fb8": {
      "model_module": "@jupyter-widgets/base",
      "model_module_version": "1.2.0",
      "model_name": "LayoutModel",
      "state": {
       "align_items": "stretch",
       "width": "100%"
      }
     },
     "2d99a49abafd45f98bf1c5c444f4fd6b": {
      "model_module": "@jupyter-widgets/base",
      "model_module_version": "1.2.0",
      "model_name": "LayoutModel",
      "state": {}
     },
     "2dfad114c9354dfb81968c171e3529ae": {
      "model_module": "@jupyter-widgets/controls",
      "model_module_version": "1.5.0",
      "model_name": "DescriptionStyleModel",
      "state": {
       "description_width": ""
      }
     },
     "2e39b42a0a014867baec96a86d4c196f": {
      "model_module": "@jupyter-widgets/controls",
      "model_module_version": "1.5.0",
      "model_name": "ButtonModel",
      "state": {
       "button_style": "info",
       "description": "show log",
       "layout": "IPY_MODEL_56faa35e5f9b4a37b6392fd34f7e7bc7",
       "style": "IPY_MODEL_9a623a13ae324242a4f8fc90cb536adf",
       "tooltip": "show a log of when the script was executed to generate the outputs, and by who"
      }
     },
     "2ec3843717134ef085dc3951b7acb0e3": {
      "model_module": "@jupyter-widgets/controls",
      "model_module_version": "1.5.0",
      "model_name": "DescriptionStyleModel",
      "state": {
       "description_width": ""
      }
     },
     "2ee6d9abfa834b3997c1b5cd010cb787": {
      "model_module": "@jupyter-widgets/controls",
      "model_module_version": "1.5.0",
      "model_name": "ButtonStyleModel",
      "state": {
       "font_weight": "bold"
      }
     },
     "2f2a778c85094a0f8722ae606a93a89d": {
      "model_module": "@jupyter-widgets/base",
      "model_module_version": "1.2.0",
      "model_name": "LayoutModel",
      "state": {}
     },
     "31ae2d7cc5f8499da4681123a8fd3819": {
      "model_module": "@jupyter-widgets/controls",
      "model_module_version": "1.5.0",
      "model_name": "SelectMultipleModel",
      "state": {
       "_options_labels": [
        "C:\\engDev\\git_mf\\ipyrun\\data\\raw\\gbxml.xml",
        "C:\\engDev\\git_mf\\ipyrun\\data\\interim\\gbjson.json",
        "C:\\engDev\\git_mf\\ipyrun\\data\\processed\\gbxml_datagrab.xlsx",
        "C:\\engDev\\git_mf\\ipyrun\\data\\processed\\gbxml_spcs-treemap.png"
       ],
       "description": "outputs",
       "index": [],
       "layout": "IPY_MODEL_a11150db097b410791772e340ac9ed90",
       "rows": 4,
       "style": "IPY_MODEL_3ed2b77af0e4428d92c6da6e672919fc"
      }
     },
     "323add388afe4e5496b1523e89d4e0dd": {
      "model_module": "@jupyter-widgets/controls",
      "model_module_version": "1.5.0",
      "model_name": "HBoxModel",
      "state": {
       "children": [
        "IPY_MODEL_889fcadd9bdd4cf0885f35212f6a651a",
        "IPY_MODEL_adc1bb2a9f2745c2b45485d76f828706",
        "IPY_MODEL_b45c40a314864cac823571e719c359f0",
        "IPY_MODEL_fa962b66a72a44f389c04613c3b8aa3b",
        "IPY_MODEL_56777f6e9e1144c58a0df5d649632016",
        "IPY_MODEL_2a6d8587d2394508bfdffa8c1d94a4c1",
        "IPY_MODEL_1124907ef4584302892f37fd3a6a6490"
       ],
       "layout": "IPY_MODEL_b3a5e8439f824b0683fb6f458e39bfdf"
      }
     },
     "32c52422f67e4e329ca2116e62ccab84": {
      "model_module": "@jupyter-widgets/controls",
      "model_module_version": "1.5.0",
      "model_name": "ButtonModel",
      "state": {
       "button_style": "info",
       "description": "show source code",
       "layout": "IPY_MODEL_85d7f626346d4c219f858b1d450efd01",
       "style": "IPY_MODEL_251b038db845400ca7937bbfff3345f0",
       "tooltip": "shows the raw python code in the preview window below"
      }
     },
     "32ea7c7babca4d57a4c6392964871047": {
      "model_module": "@jupyter-widgets/base",
      "model_module_version": "1.2.0",
      "model_name": "LayoutModel",
      "state": {
       "height": "30px",
       "width": "auto"
      }
     },
     "3359dcbae47141039f8a9b3d6e6215df": {
      "model_module": "@jupyter-widgets/base",
      "model_module_version": "1.2.0",
      "model_name": "LayoutModel",
      "state": {}
     },
     "33f228319cfe42738c450695a59d9e5f": {
      "model_module": "@jupyter-widgets/base",
      "model_module_version": "1.2.0",
      "model_name": "LayoutModel",
      "state": {}
     },
     "34647e3d33b74bbcad5f8119760bb746": {
      "model_module": "@jupyter-widgets/controls",
      "model_module_version": "1.5.0",
      "model_name": "ButtonStyleModel",
      "state": {
       "font_weight": "bold"
      }
     },
     "35152d9fdb9a4494a13500979b835fd2": {
      "model_module": "@jupyter-widgets/output",
      "model_module_version": "1.0.0",
      "model_name": "OutputModel",
      "state": {
       "layout": "IPY_MODEL_c5a0fa9842d3430191a5ab547b6782e4"
      }
     },
     "360a7f21f9094ccb84c6c20587211c2a": {
      "model_module": "@jupyter-widgets/controls",
      "model_module_version": "1.5.0",
      "model_name": "DescriptionStyleModel",
      "state": {
       "description_width": ""
      }
     },
     "378acebfce564d78b441a3c7cd1bc7f5": {
      "model_module": "@jupyter-widgets/controls",
      "model_module_version": "1.5.0",
      "model_name": "ButtonModel",
      "state": {
       "button_style": "info",
       "description": "preview outputs",
       "layout": "IPY_MODEL_2d99a49abafd45f98bf1c5c444f4fd6b",
       "style": "IPY_MODEL_b63bcdf784f741c49e1e25acfeb9aa6c",
       "tooltip": "show a preview of the output files generated when the script runs"
      }
     },
     "37a6c1d1189749199c928a1e3e7b8856": {
      "model_module": "@jupyter-widgets/controls",
      "model_module_version": "1.5.0",
      "model_name": "ButtonModel",
      "state": {
       "icon": "eye-slash",
       "layout": "IPY_MODEL_430624cb0f974c12ac634667ac345ff3",
       "style": "IPY_MODEL_60ffbf7eb337477ba606d3d91764136a",
       "tooltip": "removes temporary output view"
      }
     },
     "3a97afe692f84b9f9b70c72630156065": {
      "model_module": "@jupyter-widgets/base",
      "model_module_version": "1.2.0",
      "model_name": "LayoutModel",
      "state": {
       "border": "0px",
       "margin": "0px",
       "padding": "0px"
      }
     },
     "3acf54fc6df6409d8c7c800f80f89f6a": {
      "model_module": "@jupyter-widgets/controls",
      "model_module_version": "1.5.0",
      "model_name": "ButtonStyleModel",
      "state": {
       "font_weight": "bold"
      }
     },
     "3ad00206ba2746de9502c61cca293c4f": {
      "model_module": "@jupyter-widgets/controls",
      "model_module_version": "1.5.0",
      "model_name": "ButtonStyleModel",
      "state": {
       "font_weight": "bold"
      }
     },
     "3b2d315dfa4e43f2b5e8b1b8687edf13": {
      "model_module": "@jupyter-widgets/controls",
      "model_module_version": "1.5.0",
      "model_name": "ButtonStyleModel",
      "state": {}
     },
     "3b3aac5ae5c24f30b6184e0ec0a61fc7": {
      "model_module": "@jupyter-widgets/controls",
      "model_module_version": "1.5.0",
      "model_name": "ButtonStyleModel",
      "state": {
       "font_weight": "bold"
      }
     },
     "3b6e0c68785444a2b8a0b382dbdd7a0d": {
      "model_module": "@jupyter-widgets/controls",
      "model_module_version": "1.5.0",
      "model_name": "ButtonStyleModel",
      "state": {
       "font_weight": "bold"
      }
     },
     "3c32cebde9994fec8d60e6e2fda7bebf": {
      "model_module": "@jupyter-widgets/controls",
      "model_module_version": "1.5.0",
      "model_name": "ButtonModel",
      "state": {
       "button_style": "warning",
       "description": "edit inputs",
       "layout": "IPY_MODEL_d05bc2f515f04d6d80cabbdd5b164fcc",
       "style": "IPY_MODEL_d30efc39ea4f4b67ae1f4a92c20d7a86",
       "tooltip": "edit the user input information that is used when the script is executed"
      }
     },
     "3cab450ed3d147a8a4c2188d0f13f961": {
      "model_module": "@jupyter-widgets/controls",
      "model_module_version": "1.5.0",
      "model_name": "VBoxModel",
      "state": {
       "children": [
        "IPY_MODEL_ed65fb0178864c20ad6909e9e9842103",
        "IPY_MODEL_6a74bc1ca50f4225b1c3f1e6e8316427",
        "IPY_MODEL_ccec6ed41a114dd589b16cd170633f7c"
       ],
       "layout": "IPY_MODEL_6c8dbf1de0e241e98c6a0f8300aac397"
      }
     },
     "3ed2b77af0e4428d92c6da6e672919fc": {
      "model_module": "@jupyter-widgets/controls",
      "model_module_version": "1.5.0",
      "model_name": "DescriptionStyleModel",
      "state": {
       "description_width": ""
      }
     },
     "3f80c32dccde4eb88e95ede2f905584d": {
      "model_module": "@jupyter-widgets/controls",
      "model_module_version": "1.5.0",
      "model_name": "CheckboxModel",
      "state": {
       "disabled": false,
       "indent": false,
       "layout": "IPY_MODEL_6e4baa646d8144d9aa7e0d0050f0c28a",
       "style": "IPY_MODEL_db4f473af3cf4bf8994ee02bfcc8ce2a",
       "value": false
      }
     },
     "3fd9b0a5ab9b4021ba03d61f3c3063d2": {
      "model_module": "@jupyter-widgets/controls",
      "model_module_version": "1.5.0",
      "model_name": "SelectMultipleModel",
      "state": {
       "_options_labels": [
        "C:\\engDev\\git_mf\\ipyrun\\data\\external\\eplus_pipework_params.csv"
       ],
       "description": "outputs",
       "index": [],
       "layout": "IPY_MODEL_146681e99fbd4384987938d09b59ad9f",
       "rows": 4,
       "style": "IPY_MODEL_c704c83a4fa6447bbf43c0c63efca4c9"
      }
     },
     "4021ec24424e4e3599bce098956b218f": {
      "model_module": "@jupyter-widgets/base",
      "model_module_version": "1.2.0",
      "model_name": "LayoutModel",
      "state": {
       "width": "100%"
      }
     },
     "40b504d4f60d480f95636d346dead609": {
      "model_module": "@jupyter-widgets/base",
      "model_module_version": "1.2.0",
      "model_name": "LayoutModel",
      "state": {
       "align_items": "stretch",
       "width": "100%"
      }
     },
     "41bf7485ff4e4fd4953d7c2b6115c72c": {
      "model_module": "@jupyter-widgets/controls",
      "model_module_version": "1.5.0",
      "model_name": "ButtonStyleModel",
      "state": {
       "font_weight": "bold"
      }
     },
     "425b98927d4a4ce58486c6224b705e01": {
      "model_module": "@jupyter-widgets/base",
      "model_module_version": "1.2.0",
      "model_name": "LayoutModel",
      "state": {}
     },
     "4301d5843bea4194a3aaa82d814808ae": {
      "model_module": "@jupyter-widgets/base",
      "model_module_version": "1.2.0",
      "model_name": "LayoutModel",
      "state": {
       "width": "5%"
      }
     },
     "430624cb0f974c12ac634667ac345ff3": {
      "model_module": "@jupyter-widgets/base",
      "model_module_version": "1.2.0",
      "model_name": "LayoutModel",
      "state": {
       "width": "5%"
      }
     },
     "44b2cad16146481faeea35ac96d89cf1": {
      "model_module": "@jupyter-widgets/base",
      "model_module_version": "1.2.0",
      "model_name": "LayoutModel",
      "state": {
       "height": "30px",
       "width": "auto"
      }
     },
     "454700422793412ea0b975a28f88910d": {
      "model_module": "@jupyter-widgets/controls",
      "model_module_version": "1.5.0",
      "model_name": "ButtonStyleModel",
      "state": {
       "font_weight": "bold"
      }
     },
     "4551992f204940a3b9c1819dd565a973": {
      "model_module": "@jupyter-widgets/output",
      "model_module_version": "1.0.0",
      "model_name": "OutputModel",
      "state": {
       "layout": "IPY_MODEL_9612d7b3b8344adbaff81bb448cb13c7"
      }
     },
     "456e3860c65b41b7a6075d09a6f7e6f1": {
      "model_module": "@jupyter-widgets/controls",
      "model_module_version": "1.5.0",
      "model_name": "VBoxModel",
      "state": {
       "children": [
        "IPY_MODEL_1a851b211c1f460794ff0ba403d12bb4",
        "IPY_MODEL_d79c95c922d04b4d86b085c7eb476f20",
        "IPY_MODEL_d2ba975855164e68b52dd0da8af267ff"
       ],
       "layout": "IPY_MODEL_83bf83f0c045454c80c9631bf121f707"
      }
     },
     "4630557266324a7f96424355c07787a1": {
      "model_module": "@jupyter-widgets/base",
      "model_module_version": "1.2.0",
      "model_name": "LayoutModel",
      "state": {}
     },
     "46644c33b2f3406289862d48d04114c6": {
      "model_module": "@jupyter-widgets/output",
      "model_module_version": "1.0.0",
      "model_name": "OutputModel",
      "state": {
       "layout": "IPY_MODEL_138040b40f6845fdbf32330552d6bb16"
      }
     },
     "46dfbac429c049cebd28e65ca7c6077c": {
      "model_module": "@jupyter-widgets/base",
      "model_module_version": "1.2.0",
      "model_name": "LayoutModel",
      "state": {
       "width": "5%"
      }
     },
     "471d9d0d196247818bb58941178b9ecf": {
      "model_module": "@jupyter-widgets/base",
      "model_module_version": "1.2.0",
      "model_name": "LayoutModel",
      "state": {
       "width": "100%"
      }
     },
     "4736ae067b304a9ca9e999107ec885bc": {
      "model_module": "@jupyter-widgets/controls",
      "model_module_version": "1.5.0",
      "model_name": "ButtonModel",
      "state": {
       "button_style": "warning",
       "description": "edit inputs",
       "layout": "IPY_MODEL_d2057585360f4e66a370ab31f9f3f4ff",
       "style": "IPY_MODEL_1f75b0564cab41d3a971d2ff1bc07e81",
       "tooltip": "edit the user input information that is used when the script is executed"
      }
     },
     "473b357cbd5844ed92c48d75bfb0381f": {
      "model_module": "@jupyter-widgets/controls",
      "model_module_version": "1.5.0",
      "model_name": "ButtonModel",
      "state": {
       "icon": "eye-slash",
       "layout": "IPY_MODEL_8780ecd8d64c42118ea5a4d650862ee3",
       "style": "IPY_MODEL_3b6e0c68785444a2b8a0b382dbdd7a0d",
       "tooltip": "removes temporary output view"
      }
     },
     "48164d8389d943b5bdcd992d19383444": {
      "model_module": "@jupyter-widgets/base",
      "model_module_version": "1.2.0",
      "model_name": "LayoutModel",
      "state": {
       "height": "30px",
       "width": "auto"
      }
     },
     "485ed031266642759bffd76c2108b353": {
      "model_module": "@jupyter-widgets/controls",
      "model_module_version": "1.5.0",
      "model_name": "ButtonModel",
      "state": {
       "button_style": "success",
       "description": "run",
       "layout": "IPY_MODEL_06ad6e4b40354a3988527dc279d01242",
       "style": "IPY_MODEL_ed9c876e64ba4621914f47013a3e5b23",
       "tooltip": "execute the script based on the user inputs"
      }
     },
     "4899ef498b424bd1beaa67e537bced69": {
      "model_module": "@jupyter-widgets/base",
      "model_module_version": "1.2.0",
      "model_name": "LayoutModel",
      "state": {
       "align_items": "stretch",
       "width": "100%"
      }
     },
     "48b6e71cb4694e2686b8d6789a821991": {
      "model_module": "@jupyter-widgets/controls",
      "model_module_version": "1.5.0",
      "model_name": "DescriptionStyleModel",
      "state": {
       "description_width": ""
      }
     },
     "4901913aba1d4583bcc1db5b4040a8be": {
      "model_module": "@jupyter-widgets/base",
      "model_module_version": "1.2.0",
      "model_name": "LayoutModel",
      "state": {}
     },
     "4a4137a4c5274f1ebca402890fb9fd33": {
      "model_module": "@jupyter-widgets/output",
      "model_module_version": "1.0.0",
      "model_name": "OutputModel",
      "state": {
       "layout": "IPY_MODEL_9fb50ce2bb9c41bfb35dba2b3cdf393f"
      }
     },
     "4a4a9ed3939a4659bb11d1a8344826fc": {
      "model_module": "@jupyter-widgets/controls",
      "model_module_version": "1.5.0",
      "model_name": "TextModel",
      "state": {
       "description": "inputs",
       "disabled": true,
       "layout": "IPY_MODEL_2c9f0dcf6708443095dfe418f03e47c7",
       "style": "IPY_MODEL_360a7f21f9094ccb84c6c20587211c2a",
       "value": "C:\\engDev\\git_mf\\ipyrun\\ipyrun\\notebooks\\appdata\\inputs\\inputs-eplus_pipework_params.csv"
      }
     },
     "4ace32638cb3410e98a0cad34180c7bb": {
      "model_module": "@jupyter-widgets/controls",
      "model_module_version": "1.5.0",
      "model_name": "ButtonStyleModel",
      "state": {
       "font_weight": "bold"
      }
     },
     "4b129dbfdadb4e04bdd44e2636305750": {
      "model_module": "@jupyter-widgets/base",
      "model_module_version": "1.2.0",
      "model_name": "LayoutModel",
      "state": {
       "border": "0px",
       "margin": "0px",
       "padding": "0px"
      }
     },
     "4b506af91e9741fca697e84c53ba6dee": {
      "model_module": "@jupyter-widgets/controls",
      "model_module_version": "1.5.0",
      "model_name": "ButtonStyleModel",
      "state": {
       "font_weight": "bold"
      }
     },
     "4b9ed1f373f44c348a2fc1f9c0a9faa9": {
      "model_module": "@jupyter-widgets/base",
      "model_module_version": "1.2.0",
      "model_name": "LayoutModel",
      "state": {
       "width": "5%"
      }
     },
     "4c09cedf1a3b49869dc5dc510ef05099": {
      "model_module": "@jupyter-widgets/controls",
      "model_module_version": "1.5.0",
      "model_name": "CheckboxModel",
      "state": {
       "disabled": false,
       "indent": false,
       "layout": "IPY_MODEL_645772bab4b04a5ba29a956e33ac64a4",
       "style": "IPY_MODEL_a3a9b24c475c4af69624a5ef8a824aae",
       "value": false
      }
     },
     "4c2fe36f650b4ad68f0875eb602b4692": {
      "model_module": "@jupyter-widgets/controls",
      "model_module_version": "1.5.0",
      "model_name": "HBoxModel",
      "state": {
       "children": [
        "IPY_MODEL_a1c5492d30b240bf8ebe03624502360b",
        "IPY_MODEL_12d8066b197e408a815f4a5428497e9c"
       ],
       "layout": "IPY_MODEL_8cd780ac40934ae185b041acdc868483"
      }
     },
     "4d4667c7383841b0885beae1de20cd36": {
      "model_module": "@jupyter-widgets/base",
      "model_module_version": "1.2.0",
      "model_name": "LayoutModel",
      "state": {}
     },
     "4dc55cae68cd44c696613a537029d6f8": {
      "model_module": "@jupyter-widgets/controls",
      "model_module_version": "1.5.0",
      "model_name": "ButtonModel",
      "state": {
       "button_style": "warning",
       "description": "edit inputs",
       "layout": "IPY_MODEL_6ae06907eafd403b8b7937b957abae46",
       "style": "IPY_MODEL_5ada03627395440d811af15ad47a2e2c",
       "tooltip": "edit the user input information that is used when the script is executed"
      }
     },
     "4e857f551fd04bf4a4a80c5dfaaa8b26": {
      "model_module": "@jupyter-widgets/base",
      "model_module_version": "1.2.0",
      "model_name": "LayoutModel",
      "state": {
       "width": "5%"
      }
     },
     "4f5a7993e3584dc4834f41bf45fe2318": {
      "model_module": "@jupyter-widgets/controls",
      "model_module_version": "1.5.0",
      "model_name": "ButtonModel",
      "state": {
       "button_style": "info",
       "description": "preview outputs",
       "layout": "IPY_MODEL_78d06113e4f548eda9943bc94005980a",
       "style": "IPY_MODEL_0fafa1ca5df24c4d8e0d8433f4884db9",
       "tooltip": "show a preview of the output files generated when the script runs"
      }
     },
     "4f97ab4e5fd7414c92561efee21dca3e": {
      "model_module": "@jupyter-widgets/controls",
      "model_module_version": "1.5.0",
      "model_name": "ButtonModel",
      "state": {
       "button_style": "info",
       "description": "preview outputs",
       "layout": "IPY_MODEL_7524c84cc2b44a08bf1d71deba08eb98",
       "style": "IPY_MODEL_24935e8058c348c891ccfd571a1753b8",
       "tooltip": "show a preview of the output files generated when the script runs"
      }
     },
     "4fb5bb622e5248a38eb7506eee6cd948": {
      "model_module": "@jupyter-widgets/controls",
      "model_module_version": "1.5.0",
      "model_name": "ButtonModel",
      "state": {
       "button_style": "info",
       "description": "show guide",
       "layout": "IPY_MODEL_2f2a778c85094a0f8722ae606a93a89d",
       "style": "IPY_MODEL_34647e3d33b74bbcad5f8119760bb746",
       "tooltip": "read the \"docstring\", ie. the documentation that was written to accompany the script"
      }
     },
     "4fe4ea7849134b43ac42f79dd642f110": {
      "model_module": "@jupyter-widgets/controls",
      "model_module_version": "1.5.0",
      "model_name": "HBoxModel",
      "state": {
       "children": [
        "IPY_MODEL_7c285530e0784a78a56ceea6d488656a",
        "IPY_MODEL_ee0e0e81e89c4f438e53fc4b1a11772b",
        "IPY_MODEL_b5590022e4a847d6af03c7beac9a97d3",
        "IPY_MODEL_4736ae067b304a9ca9e999107ec885bc",
        "IPY_MODEL_7b875909389645eebe915fd6b5ecb229",
        "IPY_MODEL_669fb4074e8b40deb5bac5160082b4a5",
        "IPY_MODEL_68f9ce6764b64a45acc68adadb81df32"
       ],
       "layout": "IPY_MODEL_6965a635118c454b9c7d4d53448199ef"
      }
     },
     "509a0e56730d45dd832271d0a9b4d27b": {
      "model_module": "@jupyter-widgets/controls",
      "model_module_version": "1.5.0",
      "model_name": "BoxModel",
      "state": {
       "children": [
        "IPY_MODEL_886f362b36b643edb46eed4781e1e65f"
       ],
       "layout": "IPY_MODEL_e2af2af8805d44bc91aaca31b3bc2006"
      }
     },
     "50a16d8fe3a74534ad74a45ec21254de": {
      "model_module": "@jupyter-widgets/controls",
      "model_module_version": "1.5.0",
      "model_name": "AccordionModel",
      "state": {
       "_titles": {
        "0": "eplus_pipework_params"
       },
       "children": [
        "IPY_MODEL_79bf397e77ce40faa3baf96512ca3486"
       ],
       "layout": "IPY_MODEL_5bb837e83d6b4426b43e8b3acce4d1d7",
       "selected_index": null
      }
     },
     "5114cfd3192d47f1b46bc0fff4ac1059": {
      "model_module": "@jupyter-widgets/controls",
      "model_module_version": "1.5.0",
      "model_name": "DescriptionStyleModel",
      "state": {
       "description_width": ""
      }
     },
     "52090292dab04a959991e5833bd178e4": {
      "model_module": "@jupyter-widgets/controls",
      "model_module_version": "1.5.0",
      "model_name": "ButtonModel",
      "state": {
       "button_style": "info",
       "description": "show source code",
       "layout": "IPY_MODEL_dcc75493f91e4bd9900e17db253310a6",
       "style": "IPY_MODEL_6bd04dfe61914c0593c8b625fee2e803",
       "tooltip": "shows the raw python code in the preview window below"
      }
     },
     "5293eb18a1004fc2b03ce36901f9c318": {
      "model_module": "@jupyter-widgets/controls",
      "model_module_version": "1.5.0",
      "model_name": "TextModel",
      "state": {
       "description": "script",
       "disabled": true,
       "layout": "IPY_MODEL_95cd78564d0c45bd8238eb05296d6ea5",
       "style": "IPY_MODEL_893f79207b2f4d228e1b63b50523023d",
       "value": "C:\\engDev\\git_mf\\MF_Toolbox\\dev\\mf_scripts\\eplus_pipework_params.py"
      }
     },
     "5357ef95bd67419a90c01545ed031f16": {
      "model_module": "@jupyter-widgets/controls",
      "model_module_version": "1.5.0",
      "model_name": "ButtonModel",
      "state": {
       "button_style": "info",
       "description": "show source code",
       "layout": "IPY_MODEL_b9613ec67db442a597df557d65d60506",
       "style": "IPY_MODEL_6fedbf701e5641599193965e0bbeb6ff",
       "tooltip": "shows the raw python code in the preview window below"
      }
     },
     "547ed7ce2d9e4968a581fcd57f250575": {
      "model_module": "@jupyter-widgets/base",
      "model_module_version": "1.2.0",
      "model_name": "LayoutModel",
      "state": {
       "width": "5%"
      }
     },
     "549963c8a5ef4d09ab2953c80f79af62": {
      "model_module": "@jupyter-widgets/base",
      "model_module_version": "1.2.0",
      "model_name": "LayoutModel",
      "state": {}
     },
     "54f0ce185431423cb8df5cea984b068e": {
      "model_module": "@jupyter-widgets/base",
      "model_module_version": "1.2.0",
      "model_name": "LayoutModel",
      "state": {}
     },
     "5507cbee2f2144bba4dad62d416e701e": {
      "model_module": "@jupyter-widgets/controls",
      "model_module_version": "1.5.0",
      "model_name": "ButtonModel",
      "state": {
       "icon": "eye-slash",
       "layout": "IPY_MODEL_a046b228966447d6abdace2302011a5a",
       "style": "IPY_MODEL_85d3008e6d47473e898c471ea16c2c7f",
       "tooltip": "removes temporary output view"
      }
     },
     "552199efca95414e8d0a0e3e489949a1": {
      "model_module": "@jupyter-widgets/output",
      "model_module_version": "1.0.0",
      "model_name": "OutputModel",
      "state": {
       "layout": "IPY_MODEL_e95e4c917d2d4809b73a47bde7f92865"
      }
     },
     "55caabe1ec3141b3b7462a248e549c12": {
      "model_module": "@jupyter-widgets/base",
      "model_module_version": "1.2.0",
      "model_name": "LayoutModel",
      "state": {}
     },
     "55efc907df6e45f48b957dc2b83fa2fc": {
      "model_module": "@jupyter-widgets/controls",
      "model_module_version": "1.5.0",
      "model_name": "ButtonStyleModel",
      "state": {
       "font_weight": "bold"
      }
     },
     "565970cd6a5e46acad6cee8de56d2e65": {
      "model_module": "@jupyter-widgets/controls",
      "model_module_version": "1.5.0",
      "model_name": "SelectMultipleModel",
      "state": {
       "_options_labels": [
        "C:\\engDev\\git_mf\\ipyrun\\data\\external\\eplus_pipework_params.csv"
       ],
       "description": "outputs",
       "index": [],
       "layout": "IPY_MODEL_e5bc0d797a63453085a25c915fef2774",
       "rows": 4,
       "style": "IPY_MODEL_5114cfd3192d47f1b46bc0fff4ac1059"
      }
     },
     "56753c17738243b4889b1960eb253f13": {
      "model_module": "@jupyter-widgets/base",
      "model_module_version": "1.2.0",
      "model_name": "LayoutModel",
      "state": {}
     },
     "56777f6e9e1144c58a0df5d649632016": {
      "model_module": "@jupyter-widgets/controls",
      "model_module_version": "1.5.0",
      "model_name": "ButtonModel",
      "state": {
       "button_style": "success",
       "description": "run",
       "layout": "IPY_MODEL_3359dcbae47141039f8a9b3d6e6215df",
       "style": "IPY_MODEL_c347f94b8a0b4c0d8cb1682e9705be2d",
       "tooltip": "execute the script based on the user inputs"
      }
     },
     "56faa35e5f9b4a37b6392fd34f7e7bc7": {
      "model_module": "@jupyter-widgets/base",
      "model_module_version": "1.2.0",
      "model_name": "LayoutModel",
      "state": {}
     },
     "577f84715ea2480695bbc16cca19953e": {
      "model_module": "@jupyter-widgets/controls",
      "model_module_version": "1.5.0",
      "model_name": "ButtonModel",
      "state": {
       "icon": "eye-slash",
       "layout": "IPY_MODEL_c530a3dc9b6042779b6b29340d3e667a",
       "style": "IPY_MODEL_cb7f0d39455e4464b4de8b3dffd53eeb",
       "tooltip": "removes temporary output view"
      }
     },
     "578c4d35cacc44deafaa9cdb42e515fe": {
      "model_module": "@jupyter-widgets/controls",
      "model_module_version": "1.5.0",
      "model_name": "HBoxModel",
      "state": {
       "children": [
        "IPY_MODEL_473b357cbd5844ed92c48d75bfb0381f",
        "IPY_MODEL_675addea81de4dec94cf4ee8284a5d0c",
        "IPY_MODEL_df4c1a61fb554b2cbe61bbf031ddb33f",
        "IPY_MODEL_3c32cebde9994fec8d60e6e2fda7bebf",
        "IPY_MODEL_a2bd3015b6804628800878b9c67282be",
        "IPY_MODEL_a912e07b0ca040e9ab7196a544e40783",
        "IPY_MODEL_d1104c37d6ea4a208ae6e59c4fdbd3ae"
       ],
       "layout": "IPY_MODEL_1a2f2b24aa9b458d93f42582d42ebd5d"
      }
     },
     "584afa6037dd4ee489e3d59e4d8051d2": {
      "model_module": "@jupyter-widgets/controls",
      "model_module_version": "1.5.0",
      "model_name": "ButtonModel",
      "state": {
       "icon": "eye-slash",
       "layout": "IPY_MODEL_174db557a2714c6c8bd1ea58be96a01f",
       "style": "IPY_MODEL_922b0f78846646a09fc097dfc01e454b",
       "tooltip": "removes temporary output view"
      }
     },
     "58b0661cf3004630968df769d996e254": {
      "model_module": "@jupyter-widgets/controls",
      "model_module_version": "1.5.0",
      "model_name": "ButtonModel",
      "state": {
       "icon": "eye-slash",
       "layout": "IPY_MODEL_f4bd70ea50f24269a71e5d6dc9dd4f31",
       "style": "IPY_MODEL_4ace32638cb3410e98a0cad34180c7bb",
       "tooltip": "removes temporary output view"
      }
     },
     "58db21b04bc44f759afa923e4c0c560f": {
      "model_module": "@jupyter-widgets/controls",
      "model_module_version": "1.5.0",
      "model_name": "ButtonStyleModel",
      "state": {
       "font_weight": "bold"
      }
     },
     "5a0845b20d574e2db939e49e33747ca0": {
      "model_module": "@jupyter-widgets/base",
      "model_module_version": "1.2.0",
      "model_name": "LayoutModel",
      "state": {}
     },
     "5a486dc5e87349b4831c9e94bf8a9bbb": {
      "model_module": "@jupyter-widgets/controls",
      "model_module_version": "1.5.0",
      "model_name": "DescriptionStyleModel",
      "state": {
       "description_width": ""
      }
     },
     "5abc33dbc83f476d8d227fad2dd50368": {
      "model_module": "@jupyter-widgets/controls",
      "model_module_version": "1.5.0",
      "model_name": "DescriptionStyleModel",
      "state": {
       "description_width": ""
      }
     },
     "5ada03627395440d811af15ad47a2e2c": {
      "model_module": "@jupyter-widgets/controls",
      "model_module_version": "1.5.0",
      "model_name": "ButtonStyleModel",
      "state": {
       "font_weight": "bold"
      }
     },
     "5b27a34adae64ad78cb0014afc974f95": {
      "model_module": "@jupyter-widgets/base",
      "model_module_version": "1.2.0",
      "model_name": "LayoutModel",
      "state": {
       "width": "5%"
      }
     },
     "5b2aa154cc7e47339636174f98fca15e": {
      "model_module": "@jupyter-widgets/controls",
      "model_module_version": "1.5.0",
      "model_name": "ButtonStyleModel",
      "state": {
       "font_weight": "bold"
      }
     },
     "5b42ef24c0584e29b8d52ffeed1629e7": {
      "model_module": "@jupyter-widgets/controls",
      "model_module_version": "1.5.0",
      "model_name": "ButtonStyleModel",
      "state": {
       "font_weight": "bold"
      }
     },
     "5bb837e83d6b4426b43e8b3acce4d1d7": {
      "model_module": "@jupyter-widgets/base",
      "model_module_version": "1.2.0",
      "model_name": "LayoutModel",
      "state": {
       "width": "100%"
      }
     },
     "5c3686bbd8774c3ca5c2c8f3f48e8015": {
      "model_module": "@jupyter-widgets/controls",
      "model_module_version": "1.5.0",
      "model_name": "HBoxModel",
      "state": {
       "children": [
        "IPY_MODEL_577f84715ea2480695bbc16cca19953e",
        "IPY_MODEL_74c0260f67b04c45bea598c3b1c709da",
        "IPY_MODEL_74e31ed5e140400c8fb41a9377e9e247",
        "IPY_MODEL_8c1a8779053148018d49c8d701aa8e95",
        "IPY_MODEL_164c726bc6414b09b9feef80dd8e4c1d",
        "IPY_MODEL_4f97ab4e5fd7414c92561efee21dca3e",
        "IPY_MODEL_fd003f53ff7d442e8104b2e45e565215"
       ],
       "layout": "IPY_MODEL_2cd99f6891ae4a84958cdc7511a45fb8"
      }
     },
     "5c8b90f020844a0ea9702bb88225c8c5": {
      "model_module": "@jupyter-widgets/base",
      "model_module_version": "1.2.0",
      "model_name": "LayoutModel",
      "state": {}
     },
     "5ca36455b43b4c93b7fd9beb0bedb2c3": {
      "model_module": "@jupyter-widgets/base",
      "model_module_version": "1.2.0",
      "model_name": "LayoutModel",
      "state": {}
     },
     "5dd326f58a624ae08f43a08992fc1456": {
      "model_module": "@jupyter-widgets/base",
      "model_module_version": "1.2.0",
      "model_name": "LayoutModel",
      "state": {
       "border": "0px",
       "margin": "0px",
       "padding": "0px"
      }
     },
     "5e225427e0884eb9bdd08c080aaaaca0": {
      "model_module": "@jupyter-widgets/controls",
      "model_module_version": "1.5.0",
      "model_name": "ButtonModel",
      "state": {
       "button_style": "info",
       "description": "show guide",
       "layout": "IPY_MODEL_85dd6c97ca644335bbe4327d5f65a2bf",
       "style": "IPY_MODEL_66791d9fe15149b1a21915d7b6ea9477",
       "tooltip": "read the \"docstring\", ie. the documentation that was written to accompany the script"
      }
     },
     "5e854065e99d432fa0268ec45bb5c8ab": {
      "model_module": "@jupyter-widgets/controls",
      "model_module_version": "1.5.0",
      "model_name": "ButtonStyleModel",
      "state": {
       "font_weight": "bold"
      }
     },
     "5f55f4b14c074322b7cff05f736dcfa0": {
      "model_module": "@jupyter-widgets/controls",
      "model_module_version": "1.5.0",
      "model_name": "ButtonStyleModel",
      "state": {
       "font_weight": "bold"
      }
     },
     "5fabe8d4b75d4309a3bf03522fe161f5": {
      "model_module": "@jupyter-widgets/controls",
      "model_module_version": "1.5.0",
      "model_name": "TextModel",
      "state": {
       "description": "script",
       "disabled": true,
       "layout": "IPY_MODEL_74cf353a5257402499fbefdebb087d85",
       "style": "IPY_MODEL_bf02d0662a0b4760858e92d7ac519c71",
       "value": "C:\\engDev\\git_mf\\MF_Toolbox\\dev\\mf_scripts\\docx_to_pdf.py"
      }
     },
     "5fdd2cdae4c742338f31e1966b72b386": {
      "model_module": "@jupyter-widgets/controls",
      "model_module_version": "1.5.0",
      "model_name": "ButtonModel",
      "state": {
       "button_style": "success",
       "description": "run",
       "layout": "IPY_MODEL_5c8b90f020844a0ea9702bb88225c8c5",
       "style": "IPY_MODEL_fbc0f68f630c4bb9978bdcb952123135",
       "tooltip": "execute the script based on the user inputs"
      }
     },
     "60638102e37a4f2790d419bdb1755294": {
      "model_module": "@jupyter-widgets/controls",
      "model_module_version": "1.5.0",
      "model_name": "CheckboxModel",
      "state": {
       "disabled": false,
       "indent": false,
       "layout": "IPY_MODEL_df222ce9bef54f08b8d770e645daedfd",
       "style": "IPY_MODEL_48b6e71cb4694e2686b8d6789a821991",
       "value": false
      }
     },
     "6090c4438c3941a9897ae361a19212ab": {
      "model_module": "@jupyter-widgets/base",
      "model_module_version": "1.2.0",
      "model_name": "LayoutModel",
      "state": {
       "height": "30px",
       "width": "auto"
      }
     },
     "60b74c58911044f59a84dac009f5b5b4": {
      "model_module": "@jupyter-widgets/base",
      "model_module_version": "1.2.0",
      "model_name": "LayoutModel",
      "state": {}
     },
     "60ffbf7eb337477ba606d3d91764136a": {
      "model_module": "@jupyter-widgets/controls",
      "model_module_version": "1.5.0",
      "model_name": "ButtonStyleModel",
      "state": {
       "font_weight": "bold"
      }
     },
     "61087bca141f4f788a8ee01d52652e45": {
      "model_module": "@jupyter-widgets/controls",
      "model_module_version": "1.5.0",
      "model_name": "ButtonStyleModel",
      "state": {
       "font_weight": "bold"
      }
     },
     "61726911a4624f9199dafcf5ec4c11d4": {
      "model_module": "@jupyter-widgets/base",
      "model_module_version": "1.2.0",
      "model_name": "LayoutModel",
      "state": {}
     },
     "61e7bc2d641a4611b50d6d15ca819491": {
      "model_module": "@jupyter-widgets/base",
      "model_module_version": "1.2.0",
      "model_name": "LayoutModel",
      "state": {
       "border": "0px",
       "margin": "0px",
       "padding": "0px"
      }
     },
     "62342073eaa24b3080c18ea8933251a5": {
      "model_module": "@jupyter-widgets/controls",
      "model_module_version": "1.5.0",
      "model_name": "HBoxModel",
      "state": {
       "children": [
        "IPY_MODEL_5507cbee2f2144bba4dad62d416e701e",
        "IPY_MODEL_ef428ebcc8ef459da4ee722d40aba647",
        "IPY_MODEL_1ad12b31c26c4f4a834bfa52cc39285a",
        "IPY_MODEL_4dc55cae68cd44c696613a537029d6f8",
        "IPY_MODEL_bd1794529ef849e4ba2a95b99fc8059b",
        "IPY_MODEL_d89862481f924b95979e5ef3125f280b",
        "IPY_MODEL_7cff2f8ab1d841dc8b315acc282bcb63"
       ],
       "layout": "IPY_MODEL_75fd4e356d10421fb14941a2a6248012"
      }
     },
     "631f5ddd19c24f1785e2e3774111af76": {
      "model_module": "@jupyter-widgets/base",
      "model_module_version": "1.2.0",
      "model_name": "LayoutModel",
      "state": {}
     },
     "6422a44b03ed4fe990880128294d79ab": {
      "model_module": "@jupyter-widgets/controls",
      "model_module_version": "1.5.0",
      "model_name": "ButtonStyleModel",
      "state": {
       "font_weight": "bold"
      }
     },
     "645772bab4b04a5ba29a956e33ac64a4": {
      "model_module": "@jupyter-widgets/base",
      "model_module_version": "1.2.0",
      "model_name": "LayoutModel",
      "state": {
       "height": "30px",
       "max_width": "30px",
       "padding": "3px"
      }
     },
     "64bb22b96f1a4f87b30db0ea04abdfc2": {
      "model_module": "@jupyter-widgets/controls",
      "model_module_version": "1.5.0",
      "model_name": "VBoxModel",
      "state": {
       "children": [
        "IPY_MODEL_2a2656500eed4ba8bce3ed176ddf7fbe",
        "IPY_MODEL_8de68384d0bc40898c4697cffe9d884c"
       ],
       "layout": "IPY_MODEL_425b98927d4a4ce58486c6224b705e01"
      }
     },
     "6521e20c2a614d2589297b8b48322da4": {
      "model_module": "@jupyter-widgets/base",
      "model_module_version": "1.2.0",
      "model_name": "LayoutModel",
      "state": {
       "height": "30px",
       "width": "auto"
      }
     },
     "653d807e83574b7ea8caf7b1f2c9efb8": {
      "model_module": "@jupyter-widgets/controls",
      "model_module_version": "1.5.0",
      "model_name": "TextModel",
      "state": {
       "description": "script",
       "disabled": true,
       "layout": "IPY_MODEL_b0f180452af24d56bc6d80def878f0ff",
       "style": "IPY_MODEL_670c6fc982bb4619ac4e6cd6bb6b5e88",
       "value": "C:\\engDev\\git_mf\\MF_Toolbox\\dev\\mf_scripts\\gbxml.py"
      }
     },
     "6589e586aa7540068a242b1b972d9bb4": {
      "model_module": "@jupyter-widgets/controls",
      "model_module_version": "1.5.0",
      "model_name": "CheckboxModel",
      "state": {
       "disabled": false,
       "indent": false,
       "layout": "IPY_MODEL_8db4af135fd2428da6e7848dab9116dc",
       "style": "IPY_MODEL_7e54e1da229a45da87d7633a1959cc55",
       "value": false
      }
     },
     "65f9074aabbd42e39060b018764f36d3": {
      "model_module": "@jupyter-widgets/controls",
      "model_module_version": "1.5.0",
      "model_name": "TextModel",
      "state": {
       "description": "inputs",
       "disabled": true,
       "layout": "IPY_MODEL_c5b058e8af6141ccaf8c10535e75a38c",
       "style": "IPY_MODEL_f00220d5890343dcbcf9e57376416f69",
       "value": "C:\\engDev\\git_mf\\ipyrun\\ipyrun\\appdata\\inputs\\inputs-eplus_pipework_params.csv"
      }
     },
     "660664d24f5e40c7b483b6f2f21459df": {
      "model_module": "@jupyter-widgets/controls",
      "model_module_version": "1.5.0",
      "model_name": "HBoxModel",
      "state": {
       "children": [
        "IPY_MODEL_58b0661cf3004630968df769d996e254",
        "IPY_MODEL_2530b2fd3b4d41e48932c2d816668747",
        "IPY_MODEL_4fb5bb622e5248a38eb7506eee6cd948",
        "IPY_MODEL_d22a58bcee504c2c8bd69d38d6e41e79",
        "IPY_MODEL_485ed031266642759bffd76c2108b353",
        "IPY_MODEL_92edc471f5f1491bab0803711b10a82c",
        "IPY_MODEL_098598e947544acf930140e1a6cafc2b"
       ],
       "layout": "IPY_MODEL_1b03627e65624ed4bc69e6d6f07fe764"
      }
     },
     "66791d9fe15149b1a21915d7b6ea9477": {
      "model_module": "@jupyter-widgets/controls",
      "model_module_version": "1.5.0",
      "model_name": "ButtonStyleModel",
      "state": {
       "font_weight": "bold"
      }
     },
     "669fb4074e8b40deb5bac5160082b4a5": {
      "model_module": "@jupyter-widgets/controls",
      "model_module_version": "1.5.0",
      "model_name": "ButtonModel",
      "state": {
       "button_style": "info",
       "description": "preview outputs",
       "layout": "IPY_MODEL_be72a4c52ac14285a738235b1d3a5faf",
       "style": "IPY_MODEL_20a3767d07a041a5a6f1351bd6020faf",
       "tooltip": "show a preview of the output files generated when the script runs"
      }
     },
     "670c6fc982bb4619ac4e6cd6bb6b5e88": {
      "model_module": "@jupyter-widgets/controls",
      "model_module_version": "1.5.0",
      "model_name": "DescriptionStyleModel",
      "state": {
       "description_width": ""
      }
     },
     "6747fe5727f041e4818e7120bccdfc6d": {
      "model_module": "@jupyter-widgets/controls",
      "model_module_version": "1.5.0",
      "model_name": "ButtonStyleModel",
      "state": {
       "font_weight": "bold"
      }
     },
     "675addea81de4dec94cf4ee8284a5d0c": {
      "model_module": "@jupyter-widgets/controls",
      "model_module_version": "1.5.0",
      "model_name": "ButtonModel",
      "state": {
       "icon": "question-circle",
       "layout": "IPY_MODEL_4301d5843bea4194a3aaa82d814808ae",
       "style": "IPY_MODEL_5e854065e99d432fa0268ec45bb5c8ab",
       "tooltip": "describes the functionality of elements in the RunApp interface"
      }
     },
     "677083db47744a9a95282ac93b4573f7": {
      "model_module": "@jupyter-widgets/base",
      "model_module_version": "1.2.0",
      "model_name": "LayoutModel",
      "state": {
       "align_items": "stretch",
       "width": "100%"
      }
     },
     "67834d02d89f4dbf905375e55f8528c6": {
      "model_module": "@jupyter-widgets/controls",
      "model_module_version": "1.5.0",
      "model_name": "ButtonStyleModel",
      "state": {
       "font_weight": "bold"
      }
     },
     "67d8838a6f814b42960ebc36edfb0876": {
      "model_module": "@jupyter-widgets/base",
      "model_module_version": "1.2.0",
      "model_name": "LayoutModel",
      "state": {}
     },
     "6875640ca091405191e963a42d517555": {
      "model_module": "@jupyter-widgets/controls",
      "model_module_version": "1.5.0",
      "model_name": "VBoxModel",
      "state": {
       "children": [
        "IPY_MODEL_76ce908a497c4bf79b52c798c81fb1cc",
        "IPY_MODEL_b0fd4a17b13f4eaaa5f991d4019baebf"
       ],
       "layout": "IPY_MODEL_5ca36455b43b4c93b7fd9beb0bedb2c3"
      }
     },
     "68f9ce6764b64a45acc68adadb81df32": {
      "model_module": "@jupyter-widgets/controls",
      "model_module_version": "1.5.0",
      "model_name": "ButtonModel",
      "state": {
       "button_style": "info",
       "description": "show log",
       "layout": "IPY_MODEL_d5b2c1d36419488dbed41f673ddb3619",
       "style": "IPY_MODEL_b9245ca7d6014a9c9aa19f5dd3e29f36",
       "tooltip": "show a log of when the script was executed to generate the outputs, and by who"
      }
     },
     "6901bacb4460434bac4bf4473fa646cd": {
      "model_module": "@jupyter-widgets/controls",
      "model_module_version": "1.5.0",
      "model_name": "TextModel",
      "state": {
       "description": "inputs",
       "disabled": true,
       "layout": "IPY_MODEL_1deeaffad490474e8ad5fad8f61a710e",
       "style": "IPY_MODEL_1e8740623bcf4a22a6da083e1fa15917",
       "value": "C:\\engDev\\git_mf\\ipyrun\\ipyrun\\appdata\\inputs\\inputs-gbxml.json"
      }
     },
     "692e85d2a6854ba680e990c8b84cd697": {
      "model_module": "@jupyter-widgets/base",
      "model_module_version": "1.2.0",
      "model_name": "LayoutModel",
      "state": {
       "align_items": "stretch",
       "width": "100%"
      }
     },
     "6965a635118c454b9c7d4d53448199ef": {
      "model_module": "@jupyter-widgets/base",
      "model_module_version": "1.2.0",
      "model_name": "LayoutModel",
      "state": {
       "align_items": "stretch",
       "width": "100%"
      }
     },
     "6a74bc1ca50f4225b1c3f1e6e8316427": {
      "model_module": "@jupyter-widgets/controls",
      "model_module_version": "1.5.0",
      "model_name": "VBoxModel",
      "state": {
       "children": [
        "IPY_MODEL_99756bf4b6d741cfa92089772f8509b8",
        "IPY_MODEL_46644c33b2f3406289862d48d04114c6"
       ],
       "layout": "IPY_MODEL_4630557266324a7f96424355c07787a1"
      }
     },
     "6ae06907eafd403b8b7937b957abae46": {
      "model_module": "@jupyter-widgets/base",
      "model_module_version": "1.2.0",
      "model_name": "LayoutModel",
      "state": {}
     },
     "6bd04dfe61914c0593c8b625fee2e803": {
      "model_module": "@jupyter-widgets/controls",
      "model_module_version": "1.5.0",
      "model_name": "ButtonStyleModel",
      "state": {}
     },
     "6c8dbf1de0e241e98c6a0f8300aac397": {
      "model_module": "@jupyter-widgets/base",
      "model_module_version": "1.2.0",
      "model_name": "LayoutModel",
      "state": {}
     },
     "6da709455ea048cab659bb085dae94df": {
      "model_module": "@jupyter-widgets/base",
      "model_module_version": "1.2.0",
      "model_name": "LayoutModel",
      "state": {}
     },
     "6e4baa646d8144d9aa7e0d0050f0c28a": {
      "model_module": "@jupyter-widgets/base",
      "model_module_version": "1.2.0",
      "model_name": "LayoutModel",
      "state": {
       "height": "30px",
       "max_width": "30px",
       "padding": "3px"
      }
     },
     "6eb6956a4f4c46619e2804a784de5c0c": {
      "model_module": "@jupyter-widgets/controls",
      "model_module_version": "1.5.0",
      "model_name": "HBoxModel",
      "state": {
       "children": [
        "IPY_MODEL_3f80c32dccde4eb88e95ede2f905584d",
        "IPY_MODEL_50a16d8fe3a74534ad74a45ec21254de"
       ],
       "layout": "IPY_MODEL_01bbb472bb4f44abaaf268fb768eae56"
      }
     },
     "6ef3f81f313748f7886eb3043e532538": {
      "model_module": "@jupyter-widgets/base",
      "model_module_version": "1.2.0",
      "model_name": "LayoutModel",
      "state": {}
     },
     "6f3d4a70833b45bba9eba24ef1a7fac5": {
      "model_module": "@jupyter-widgets/controls",
      "model_module_version": "1.5.0",
      "model_name": "ButtonStyleModel",
      "state": {
       "font_weight": "bold"
      }
     },
     "6f463c0d44f445c7853c5197a97ade70": {
      "model_module": "@jupyter-widgets/base",
      "model_module_version": "1.2.0",
      "model_name": "LayoutModel",
      "state": {}
     },
     "6fedbf701e5641599193965e0bbeb6ff": {
      "model_module": "@jupyter-widgets/controls",
      "model_module_version": "1.5.0",
      "model_name": "ButtonStyleModel",
      "state": {}
     },
     "70ad553b6a0f46e8958f33c62a5fa0e2": {
      "model_module": "@jupyter-widgets/base",
      "model_module_version": "1.2.0",
      "model_name": "LayoutModel",
      "state": {}
     },
     "728a94b3f4024fdf847647fc23fd7255": {
      "model_module": "@jupyter-widgets/controls",
      "model_module_version": "1.5.0",
      "model_name": "ButtonStyleModel",
      "state": {
       "font_weight": "bold"
      }
     },
     "72914b6c99bd41c4962543150def6d1c": {
      "model_module": "@jupyter-widgets/controls",
      "model_module_version": "1.5.0",
      "model_name": "ButtonModel",
      "state": {
       "button_style": "success",
       "description": "run batch",
       "layout": "IPY_MODEL_ec123e623ab24590a9af8633e2187371",
       "style": "IPY_MODEL_8e51e6f979fc4cceac292f141edd75ff",
       "tooltip": "execute checked processes below"
      }
     },
     "72ff8a54ec0c40eeab7e6355cb32c851": {
      "model_module": "@jupyter-widgets/controls",
      "model_module_version": "1.5.0",
      "model_name": "VBoxModel",
      "state": {
       "children": [
        "IPY_MODEL_509a0e56730d45dd832271d0a9b4d27b",
        "IPY_MODEL_1fb94d87e24e4e0aa5a767669779064f"
       ],
       "layout": "IPY_MODEL_54f0ce185431423cb8df5cea984b068e"
      }
     },
     "73c7db8f163d4052906051a8667c0083": {
      "model_module": "@jupyter-widgets/controls",
      "model_module_version": "1.5.0",
      "model_name": "TextModel",
      "state": {
       "description": "inputs",
       "disabled": true,
       "layout": "IPY_MODEL_ca2492b983ab4f5f8d42d53950f6ddda",
       "style": "IPY_MODEL_c60681ddeb4f41ba88985115a7aac9e7",
       "value": "C:\\engDev\\git_mf\\ipyrun\\ipyrun\\notebooks\\appdata\\inputs\\inputs-eplus_pipework_params.csv"
      }
     },
     "73da3408329d468ea1912c035cc27dda": {
      "model_module": "@jupyter-widgets/base",
      "model_module_version": "1.2.0",
      "model_name": "LayoutModel",
      "state": {}
     },
     "740cdadce8634e70857265e432dfb859": {
      "model_module": "@jupyter-widgets/controls",
      "model_module_version": "1.5.0",
      "model_name": "TextModel",
      "state": {
       "description": "script",
       "disabled": true,
       "layout": "IPY_MODEL_6090c4438c3941a9897ae361a19212ab",
       "style": "IPY_MODEL_07d32f0c0ce347e6a8edbf6c375ab8ab",
       "value": "C:\\engDev\\git_mf\\MF_Toolbox\\dev\\mf_scripts\\docx_to_pdf.py"
      }
     },
     "74c0260f67b04c45bea598c3b1c709da": {
      "model_module": "@jupyter-widgets/controls",
      "model_module_version": "1.5.0",
      "model_name": "ButtonModel",
      "state": {
       "icon": "question-circle",
       "layout": "IPY_MODEL_5b27a34adae64ad78cb0014afc974f95",
       "style": "IPY_MODEL_4b506af91e9741fca697e84c53ba6dee",
       "tooltip": "describes the functionality of elements in the RunApp interface"
      }
     },
     "74cf353a5257402499fbefdebb087d85": {
      "model_module": "@jupyter-widgets/base",
      "model_module_version": "1.2.0",
      "model_name": "LayoutModel",
      "state": {
       "height": "30px",
       "width": "auto"
      }
     },
     "74e31ed5e140400c8fb41a9377e9e247": {
      "model_module": "@jupyter-widgets/controls",
      "model_module_version": "1.5.0",
      "model_name": "ButtonModel",
      "state": {
       "button_style": "info",
       "description": "show guide",
       "layout": "IPY_MODEL_8783192735594563837fb4d57b8164de",
       "style": "IPY_MODEL_6f3d4a70833b45bba9eba24ef1a7fac5",
       "tooltip": "read the \"docstring\", ie. the documentation that was written to accompany the script"
      }
     },
     "7524c84cc2b44a08bf1d71deba08eb98": {
      "model_module": "@jupyter-widgets/base",
      "model_module_version": "1.2.0",
      "model_name": "LayoutModel",
      "state": {}
     },
     "75cc7709ee2f4e3ca10239525894e482": {
      "model_module": "@jupyter-widgets/controls",
      "model_module_version": "1.5.0",
      "model_name": "ButtonModel",
      "state": {
       "icon": "question-circle",
       "layout": "IPY_MODEL_de5ca38caaae45fa933e52ba49370a58",
       "style": "IPY_MODEL_773ab9bdb9cf45b6836968cc689cd96c",
       "tooltip": "describes the functionality of elements in the RunApp interface"
      }
     },
     "75fd4e356d10421fb14941a2a6248012": {
      "model_module": "@jupyter-widgets/base",
      "model_module_version": "1.2.0",
      "model_name": "LayoutModel",
      "state": {
       "align_items": "stretch",
       "width": "100%"
      }
     },
     "76ce908a497c4bf79b52c798c81fb1cc": {
      "model_module": "@jupyter-widgets/controls",
      "model_module_version": "1.5.0",
      "model_name": "BoxModel",
      "state": {
       "children": [
        "IPY_MODEL_578c4d35cacc44deafaa9cdb42e515fe"
       ],
       "layout": "IPY_MODEL_273ad9d4284e4322aabff23eba9fd020"
      }
     },
     "76d7d7b1f98d4e84b7d5643b674ccf54": {
      "model_module": "@jupyter-widgets/controls",
      "model_module_version": "1.5.0",
      "model_name": "VBoxModel",
      "state": {
       "children": [
        "IPY_MODEL_1c43e40a964b4ce0a36d179fc4312f2c",
        "IPY_MODEL_5fabe8d4b75d4309a3bf03522fe161f5",
        "IPY_MODEL_8e891af916654f0babecb0a990cde10a"
       ],
       "layout": "IPY_MODEL_ecf4c034d66e4a13a86f6a9604a766ed"
      }
     },
     "773ab9bdb9cf45b6836968cc689cd96c": {
      "model_module": "@jupyter-widgets/controls",
      "model_module_version": "1.5.0",
      "model_name": "ButtonStyleModel",
      "state": {
       "font_weight": "bold"
      }
     },
     "779896a5442a42e1b4cdd7e7ff4d3c13": {
      "model_module": "@jupyter-widgets/base",
      "model_module_version": "1.2.0",
      "model_name": "LayoutModel",
      "state": {}
     },
     "7798bb2440ad4597a31eab9fffcf9fda": {
      "model_module": "@jupyter-widgets/controls",
      "model_module_version": "1.5.0",
      "model_name": "ButtonModel",
      "state": {
       "button_style": "warning",
       "description": "edit inputs",
       "layout": "IPY_MODEL_549963c8a5ef4d09ab2953c80f79af62",
       "style": "IPY_MODEL_1d8d22db99294ce89e217335af699b65",
       "tooltip": "edit the user input information that is used when the script is executed"
      }
     },
     "7811799fcd4b4d2a89608fd5c00934e3": {
      "model_module": "@jupyter-widgets/base",
      "model_module_version": "1.2.0",
      "model_name": "LayoutModel",
      "state": {
       "width": "100%"
      }
     },
     "784dbc2c9a5242678723db54bd586117": {
      "model_module": "@jupyter-widgets/controls",
      "model_module_version": "1.5.0",
      "model_name": "VBoxModel",
      "state": {
       "children": [
        "IPY_MODEL_28132350771d443cb068f0ac4223ec10",
        "IPY_MODEL_456e3860c65b41b7a6075d09a6f7e6f1"
       ],
       "layout": "IPY_MODEL_6da709455ea048cab659bb085dae94df"
      }
     },
     "788b567649c04ee1b30ca61529af8f02": {
      "model_module": "@jupyter-widgets/base",
      "model_module_version": "1.2.0",
      "model_name": "LayoutModel",
      "state": {
       "width": "100%"
      }
     },
     "78985b74d810422492eb6535b681eb1b": {
      "model_module": "@jupyter-widgets/controls",
      "model_module_version": "1.5.0",
      "model_name": "ButtonModel",
      "state": {
       "button_style": "info",
       "description": "show guide",
       "layout": "IPY_MODEL_c22701228686428291d8700c69eedaf5",
       "style": "IPY_MODEL_06042339343f43c893ede04c7c9e2546",
       "tooltip": "read the \"docstring\", ie. the documentation that was written to accompany the script"
      }
     },
     "78d06113e4f548eda9943bc94005980a": {
      "model_module": "@jupyter-widgets/base",
      "model_module_version": "1.2.0",
      "model_name": "LayoutModel",
      "state": {}
     },
     "78ebcfabe6d442bc8a71cf1235959900": {
      "model_module": "@jupyter-widgets/base",
      "model_module_version": "1.2.0",
      "model_name": "LayoutModel",
      "state": {
       "height": "30px",
       "width": "auto"
      }
     },
     "79bf397e77ce40faa3baf96512ca3486": {
      "model_module": "@jupyter-widgets/controls",
      "model_module_version": "1.5.0",
      "model_name": "VBoxModel",
      "state": {
       "children": [
        "IPY_MODEL_1bc8853008a8434d90c272e89d84a0ac",
        "IPY_MODEL_be08697a4792447fa31e00f641b07169"
       ],
       "layout": "IPY_MODEL_60b74c58911044f59a84dac009f5b5b4"
      }
     },
     "79c29060856148439f2d5392bb5e1a16": {
      "model_module": "@jupyter-widgets/controls",
      "model_module_version": "1.5.0",
      "model_name": "CheckboxModel",
      "state": {
       "disabled": false,
       "indent": false,
       "layout": "IPY_MODEL_7ec5aa05e118431aa74c3f0fbfd08575",
       "style": "IPY_MODEL_291ac62bc2354d2a9b4e3d7b46ffc70a",
       "value": false
      }
     },
     "7a8f08c6a66e450ebe2209a054c3870b": {
      "model_module": "@jupyter-widgets/base",
      "model_module_version": "1.2.0",
      "model_name": "LayoutModel",
      "state": {
       "height": "30px",
       "width": "auto"
      }
     },
     "7b875909389645eebe915fd6b5ecb229": {
      "model_module": "@jupyter-widgets/controls",
      "model_module_version": "1.5.0",
      "model_name": "ButtonModel",
      "state": {
       "button_style": "success",
       "description": "run",
       "layout": "IPY_MODEL_33f228319cfe42738c450695a59d9e5f",
       "style": "IPY_MODEL_5b2aa154cc7e47339636174f98fca15e",
       "tooltip": "execute the script based on the user inputs"
      }
     },
     "7ba2ba10f1fb4c8bb979b0d3ec5747f7": {
      "model_module": "@jupyter-widgets/base",
      "model_module_version": "1.2.0",
      "model_name": "LayoutModel",
      "state": {}
     },
     "7c285530e0784a78a56ceea6d488656a": {
      "model_module": "@jupyter-widgets/controls",
      "model_module_version": "1.5.0",
      "model_name": "ButtonModel",
      "state": {
       "icon": "eye-slash",
       "layout": "IPY_MODEL_1a3e337d039d44ae927c02be33ef6a2f",
       "style": "IPY_MODEL_2ee6d9abfa834b3997c1b5cd010cb787",
       "tooltip": "removes temporary output view"
      }
     },
     "7c90f444c514452492069c5f97031d53": {
      "model_module": "@jupyter-widgets/controls",
      "model_module_version": "1.5.0",
      "model_name": "ButtonStyleModel",
      "state": {}
     },
     "7cff2f8ab1d841dc8b315acc282bcb63": {
      "model_module": "@jupyter-widgets/controls",
      "model_module_version": "1.5.0",
      "model_name": "ButtonModel",
      "state": {
       "button_style": "info",
       "description": "show log",
       "layout": "IPY_MODEL_d477c1545e4449e08971682f858c4486",
       "style": "IPY_MODEL_f3b86a227ffa4316a72d4b85a28b204c",
       "tooltip": "show a log of when the script was executed to generate the outputs, and by who"
      }
     },
     "7d119670ed604e9aba45683a21d9779d": {
      "model_module": "@jupyter-widgets/base",
      "model_module_version": "1.2.0",
      "model_name": "LayoutModel",
      "state": {}
     },
     "7e54e1da229a45da87d7633a1959cc55": {
      "model_module": "@jupyter-widgets/controls",
      "model_module_version": "1.5.0",
      "model_name": "DescriptionStyleModel",
      "state": {
       "description_width": ""
      }
     },
     "7e75376bec8341fc8394f9ae0453ad6a": {
      "model_module": "@jupyter-widgets/controls",
      "model_module_version": "1.5.0",
      "model_name": "DescriptionStyleModel",
      "state": {
       "description_width": ""
      }
     },
     "7e959e0b41d34a698bb7b250f775780c": {
      "model_module": "@jupyter-widgets/output",
      "model_module_version": "1.0.0",
      "model_name": "OutputModel",
      "state": {
       "layout": "IPY_MODEL_d048c3d3d31946258c079738c5723dc0"
      }
     },
     "7ec5aa05e118431aa74c3f0fbfd08575": {
      "model_module": "@jupyter-widgets/base",
      "model_module_version": "1.2.0",
      "model_name": "LayoutModel",
      "state": {
       "height": "30px",
       "max_width": "30px",
       "padding": "3px"
      }
     },
     "7ed04fc19e854408b4364b613c530b84": {
      "model_module": "@jupyter-widgets/base",
      "model_module_version": "1.2.0",
      "model_name": "LayoutModel",
      "state": {}
     },
     "80b58dd86c104f7c87f928a5617db020": {
      "model_module": "@jupyter-widgets/base",
      "model_module_version": "1.2.0",
      "model_name": "LayoutModel",
      "state": {}
     },
     "83bf83f0c045454c80c9631bf121f707": {
      "model_module": "@jupyter-widgets/base",
      "model_module_version": "1.2.0",
      "model_name": "LayoutModel",
      "state": {
       "align_items": "stretch",
       "width": "100%"
      }
     },
     "84ab00f81ae744d9b7c736fe55e03151": {
      "model_module": "@jupyter-widgets/controls",
      "model_module_version": "1.5.0",
      "model_name": "ButtonStyleModel",
      "state": {}
     },
     "84f8a4a3fa3f4900ac51cbaae607343c": {
      "model_module": "@jupyter-widgets/controls",
      "model_module_version": "1.5.0",
      "model_name": "SelectMultipleModel",
      "state": {
       "_options_labels": [
        "C:\\engDev\\git_mf\\ipyrun\\data\\external\\eplus_pipework_params.csv"
       ],
       "description": "outputs",
       "index": [],
       "layout": "IPY_MODEL_fc0eca5183af4666b88659214edd1f42",
       "rows": 4,
       "style": "IPY_MODEL_a431005ac7c54b75a214916068f5e153"
      }
     },
     "853d23115ea046889f9d1d477ceb6571": {
      "model_module": "@jupyter-widgets/base",
      "model_module_version": "1.2.0",
      "model_name": "LayoutModel",
      "state": {
       "width": "5%"
      }
     },
     "85d3008e6d47473e898c471ea16c2c7f": {
      "model_module": "@jupyter-widgets/controls",
      "model_module_version": "1.5.0",
      "model_name": "ButtonStyleModel",
      "state": {
       "font_weight": "bold"
      }
     },
     "85d5617e5766445da801a06a060589cc": {
      "model_module": "@jupyter-widgets/base",
      "model_module_version": "1.2.0",
      "model_name": "LayoutModel",
      "state": {
       "height": "30px",
       "max_width": "30px",
       "padding": "3px"
      }
     },
     "85d7f626346d4c219f858b1d450efd01": {
      "model_module": "@jupyter-widgets/base",
      "model_module_version": "1.2.0",
      "model_name": "LayoutModel",
      "state": {}
     },
     "85dd6c97ca644335bbe4327d5f65a2bf": {
      "model_module": "@jupyter-widgets/base",
      "model_module_version": "1.2.0",
      "model_name": "LayoutModel",
      "state": {}
     },
     "861b8c9362cb4c9293dfe1b62a9881ed": {
      "model_module": "@jupyter-widgets/base",
      "model_module_version": "1.2.0",
      "model_name": "LayoutModel",
      "state": {}
     },
     "8649d389af734c9a8b9b9eab328b44fe": {
      "model_module": "@jupyter-widgets/controls",
      "model_module_version": "1.5.0",
      "model_name": "ButtonStyleModel",
      "state": {}
     },
     "86f2443f6bec407aabbf6a3bd977c917": {
      "model_module": "@jupyter-widgets/controls",
      "model_module_version": "1.5.0",
      "model_name": "ButtonStyleModel",
      "state": {}
     },
     "8739e90198cc4147a5563723cfab54cc": {
      "model_module": "@jupyter-widgets/controls",
      "model_module_version": "1.5.0",
      "model_name": "HBoxModel",
      "state": {
       "children": [
        "IPY_MODEL_2624f56bf253449d91d215b5ddb545d9",
        "IPY_MODEL_104cb28dfaf64ba1a474613615ec6361",
        "IPY_MODEL_954f9b4c684845d4838def5a6fba69dd",
        "IPY_MODEL_a77e6f6fce7c4deda9f2e956b3f63d93",
        "IPY_MODEL_0011892d56ab4192afe4fa43346990c6",
        "IPY_MODEL_378acebfce564d78b441a3c7cd1bc7f5",
        "IPY_MODEL_c6d5cdba58f94f4c809a7f8b48a8e4a1"
       ],
       "layout": "IPY_MODEL_cab04f971e914bd0aaeabba72775f623"
      }
     },
     "8780ecd8d64c42118ea5a4d650862ee3": {
      "model_module": "@jupyter-widgets/base",
      "model_module_version": "1.2.0",
      "model_name": "LayoutModel",
      "state": {
       "width": "5%"
      }
     },
     "8783192735594563837fb4d57b8164de": {
      "model_module": "@jupyter-widgets/base",
      "model_module_version": "1.2.0",
      "model_name": "LayoutModel",
      "state": {}
     },
     "87eea016170d48e6bc2ea79cdc9ef838": {
      "model_module": "@jupyter-widgets/base",
      "model_module_version": "1.2.0",
      "model_name": "LayoutModel",
      "state": {}
     },
     "8865b9b1be274349ba9f69ada34e9f75": {
      "model_module": "@jupyter-widgets/base",
      "model_module_version": "1.2.0",
      "model_name": "LayoutModel",
      "state": {
       "height": "30px",
       "width": "auto"
      }
     },
     "886f362b36b643edb46eed4781e1e65f": {
      "model_module": "@jupyter-widgets/controls",
      "model_module_version": "1.5.0",
      "model_name": "HBoxModel",
      "state": {
       "children": [
        "IPY_MODEL_8a202c2941824e2ab29185334f2b27df",
        "IPY_MODEL_c624a977c48c40b581c5ea0651072e08",
        "IPY_MODEL_5e225427e0884eb9bdd08c080aaaaca0",
        "IPY_MODEL_ae6a0d5153844299998a6f57b6b39373",
        "IPY_MODEL_291a0ca834034733a6a909872b7f6f82",
        "IPY_MODEL_4f5a7993e3584dc4834f41bf45fe2318",
        "IPY_MODEL_8b28efa0e9924bc6ae5da7aff3e85bd9"
       ],
       "layout": "IPY_MODEL_126c50709db0455c825ab35c5217f08a"
      }
     },
     "889fcadd9bdd4cf0885f35212f6a651a": {
      "model_module": "@jupyter-widgets/controls",
      "model_module_version": "1.5.0",
      "model_name": "ButtonModel",
      "state": {
       "icon": "eye-slash",
       "layout": "IPY_MODEL_a06ff6a45298473b967884546d252d4e",
       "style": "IPY_MODEL_3ad00206ba2746de9502c61cca293c4f",
       "tooltip": "removes temporary output view"
      }
     },
     "893f79207b2f4d228e1b63b50523023d": {
      "model_module": "@jupyter-widgets/controls",
      "model_module_version": "1.5.0",
      "model_name": "DescriptionStyleModel",
      "state": {
       "description_width": ""
      }
     },
     "89614d0478e74caaa64bfe8c578e9dfd": {
      "model_module": "@jupyter-widgets/base",
      "model_module_version": "1.2.0",
      "model_name": "LayoutModel",
      "state": {
       "border": "0px",
       "margin": "0px",
       "padding": "0px"
      }
     },
     "89778759c981499a966fab60268a67ea": {
      "model_module": "@jupyter-widgets/controls",
      "model_module_version": "1.5.0",
      "model_name": "ButtonStyleModel",
      "state": {
       "font_weight": "bold"
      }
     },
     "89b9a0bc48af46f98edc4753f17a5dfd": {
      "model_module": "@jupyter-widgets/base",
      "model_module_version": "1.2.0",
      "model_name": "LayoutModel",
      "state": {}
     },
     "8a202c2941824e2ab29185334f2b27df": {
      "model_module": "@jupyter-widgets/controls",
      "model_module_version": "1.5.0",
      "model_name": "ButtonModel",
      "state": {
       "icon": "eye-slash",
       "layout": "IPY_MODEL_ed3c9360bd664f37a38820aff17db060",
       "style": "IPY_MODEL_f4e5f7d46d1741ddb6910434b8731826",
       "tooltip": "removes temporary output view"
      }
     },
     "8a253da4f6a04dd8a77235ce4e09e6a3": {
      "model_module": "@jupyter-widgets/controls",
      "model_module_version": "1.5.0",
      "model_name": "ButtonStyleModel",
      "state": {
       "font_weight": "bold"
      }
     },
     "8b28efa0e9924bc6ae5da7aff3e85bd9": {
      "model_module": "@jupyter-widgets/controls",
      "model_module_version": "1.5.0",
      "model_name": "ButtonModel",
      "state": {
       "button_style": "info",
       "description": "show log",
       "layout": "IPY_MODEL_73da3408329d468ea1912c035cc27dda",
       "style": "IPY_MODEL_f61ede0764af4b8ea460b8fea5248ab5",
       "tooltip": "show a log of when the script was executed to generate the outputs, and by who"
      }
     },
     "8c1a8779053148018d49c8d701aa8e95": {
      "model_module": "@jupyter-widgets/controls",
      "model_module_version": "1.5.0",
      "model_name": "ButtonModel",
      "state": {
       "button_style": "warning",
       "description": "edit inputs",
       "layout": "IPY_MODEL_06cfec9f65dc4c56a2272542e32ad0be",
       "style": "IPY_MODEL_6747fe5727f041e4818e7120bccdfc6d",
       "tooltip": "edit the user input information that is used when the script is executed"
      }
     },
     "8c21f47dcd22403ca38a816362186836": {
      "model_module": "@jupyter-widgets/controls",
      "model_module_version": "1.5.0",
      "model_name": "ButtonStyleModel",
      "state": {
       "font_weight": "bold"
      }
     },
     "8cd780ac40934ae185b041acdc868483": {
      "model_module": "@jupyter-widgets/base",
      "model_module_version": "1.2.0",
      "model_name": "LayoutModel",
      "state": {
       "border": "0px",
       "margin": "0px",
       "padding": "0px"
      }
     },
     "8d1a842803b84335b8866f4f51aa20a1": {
      "model_module": "@jupyter-widgets/controls",
      "model_module_version": "1.5.0",
      "model_name": "ButtonModel",
      "state": {
       "button_style": "info",
       "description": "preview outputs",
       "layout": "IPY_MODEL_d2ebb145db5042079479c8ba13e2be28",
       "style": "IPY_MODEL_3acf54fc6df6409d8c7c800f80f89f6a",
       "tooltip": "show a preview of the output files generated when the script runs"
      }
     },
     "8d2276a4e36849538f028be0f3a63f24": {
      "model_module": "@jupyter-widgets/base",
      "model_module_version": "1.2.0",
      "model_name": "LayoutModel",
      "state": {
       "align_items": "stretch",
       "width": "100%"
      }
     },
     "8da26e983e624e058d324c29294357c9": {
      "model_module": "@jupyter-widgets/controls",
      "model_module_version": "1.5.0",
      "model_name": "SelectMultipleModel",
      "state": {
       "_options_labels": [
        "C:\\engDev\\git_mf\\ipyrun\\reports\\JupyterReportDemo.pdf"
       ],
       "description": "outputs",
       "index": [],
       "layout": "IPY_MODEL_227a434b04b741d5a217fde0d5750043",
       "rows": 4,
       "style": "IPY_MODEL_5a486dc5e87349b4831c9e94bf8a9bbb"
      }
     },
     "8db4af135fd2428da6e7848dab9116dc": {
      "model_module": "@jupyter-widgets/base",
      "model_module_version": "1.2.0",
      "model_name": "LayoutModel",
      "state": {
       "height": "30px",
       "max_width": "30px",
       "padding": "3px"
      }
     },
     "8de68384d0bc40898c4697cffe9d884c": {
      "model_module": "@jupyter-widgets/controls",
      "model_module_version": "1.5.0",
      "model_name": "VBoxModel",
      "state": {
       "children": [
        "IPY_MODEL_cee523f743044b729fe5f60bd93e50de",
        "IPY_MODEL_b77e713fcafc4070ba5e6b3cc79ee348",
        "IPY_MODEL_8da26e983e624e058d324c29294357c9"
       ],
       "layout": "IPY_MODEL_677083db47744a9a95282ac93b4573f7"
      }
     },
     "8e51e6f979fc4cceac292f141edd75ff": {
      "model_module": "@jupyter-widgets/controls",
      "model_module_version": "1.5.0",
      "model_name": "ButtonStyleModel",
      "state": {
       "font_weight": "bold"
      }
     },
     "8e891af916654f0babecb0a990cde10a": {
      "model_module": "@jupyter-widgets/controls",
      "model_module_version": "1.5.0",
      "model_name": "SelectMultipleModel",
      "state": {
       "_options_labels": [
        "C:\\engDev\\git_mf\\ipyrun\\reports\\JupyterReportDemo.pdf"
       ],
       "description": "outputs",
       "index": [],
       "layout": "IPY_MODEL_44b2cad16146481faeea35ac96d89cf1",
       "rows": 4,
       "style": "IPY_MODEL_2ec3843717134ef085dc3951b7acb0e3"
      }
     },
     "8edee107f7264e50bee9b55f1d837ad0": {
      "model_module": "@jupyter-widgets/base",
      "model_module_version": "1.2.0",
      "model_name": "LayoutModel",
      "state": {
       "align_items": "stretch",
       "width": "100%"
      }
     },
     "8fc251f4aed341ae9d6d6e587bf6a7a7": {
      "model_module": "@jupyter-widgets/controls",
      "model_module_version": "1.5.0",
      "model_name": "ButtonStyleModel",
      "state": {
       "font_weight": "bold"
      }
     },
     "8fd888fcf6a3405f8162c334097d0bed": {
      "model_module": "@jupyter-widgets/controls",
      "model_module_version": "1.5.0",
      "model_name": "HBoxModel",
      "state": {
       "children": [
        "IPY_MODEL_584afa6037dd4ee489e3d59e4d8051d2",
        "IPY_MODEL_a4b8901412cf4f5cbd75139567043df8",
        "IPY_MODEL_78985b74d810422492eb6535b681eb1b",
        "IPY_MODEL_7798bb2440ad4597a31eab9fffcf9fda",
        "IPY_MODEL_5fdd2cdae4c742338f31e1966b72b386",
        "IPY_MODEL_8d1a842803b84335b8866f4f51aa20a1",
        "IPY_MODEL_2e39b42a0a014867baec96a86d4c196f"
       ],
       "layout": "IPY_MODEL_bbe505e4b62f4b8b9c62e1c747fdf257"
      }
     },
     "8fec307dba7146f3a8a4466b130a9581": {
      "model_module": "@jupyter-widgets/base",
      "model_module_version": "1.2.0",
      "model_name": "LayoutModel",
      "state": {}
     },
     "90d85e8b3f33484186ae4507d642f4a1": {
      "model_module": "@jupyter-widgets/controls",
      "model_module_version": "1.5.0",
      "model_name": "ButtonModel",
      "state": {
       "icon": "question-circle",
       "layout": "IPY_MODEL_4b9ed1f373f44c348a2fc1f9c0a9faa9",
       "style": "IPY_MODEL_203f9f38a1964d2786edcf3ed986e458",
       "tooltip": "describes the functionality of elements in the RunApp interface"
      }
     },
     "922b0f78846646a09fc097dfc01e454b": {
      "model_module": "@jupyter-widgets/controls",
      "model_module_version": "1.5.0",
      "model_name": "ButtonStyleModel",
      "state": {
       "font_weight": "bold"
      }
     },
     "92edc471f5f1491bab0803711b10a82c": {
      "model_module": "@jupyter-widgets/controls",
      "model_module_version": "1.5.0",
      "model_name": "ButtonModel",
      "state": {
       "button_style": "info",
       "description": "preview outputs",
       "layout": "IPY_MODEL_e2501000b1984571bb62b981a24f0db7",
       "style": "IPY_MODEL_61087bca141f4f788a8ee01d52652e45",
       "tooltip": "show a preview of the output files generated when the script runs"
      }
     },
     "937bac0ee39e40f098f5067de203c903": {
      "model_module": "@jupyter-widgets/controls",
      "model_module_version": "1.5.0",
      "model_name": "DescriptionStyleModel",
      "state": {
       "description_width": ""
      }
     },
     "954f9b4c684845d4838def5a6fba69dd": {
      "model_module": "@jupyter-widgets/controls",
      "model_module_version": "1.5.0",
      "model_name": "ButtonModel",
      "state": {
       "button_style": "info",
       "description": "show guide",
       "layout": "IPY_MODEL_7ed04fc19e854408b4364b613c530b84",
       "style": "IPY_MODEL_e55b5720000a4c7c8396c3b58843fa0d",
       "tooltip": "read the \"docstring\", ie. the documentation that was written to accompany the script"
      }
     },
     "9584d41f138f416f8637dcb059bd10f8": {
      "model_module": "@jupyter-widgets/controls",
      "model_module_version": "1.5.0",
      "model_name": "DescriptionStyleModel",
      "state": {
       "description_width": ""
      }
     },
     "95cd78564d0c45bd8238eb05296d6ea5": {
      "model_module": "@jupyter-widgets/base",
      "model_module_version": "1.2.0",
      "model_name": "LayoutModel",
      "state": {
       "height": "30px",
       "width": "auto"
      }
     },
     "95d9f8f37c0a46009c914c7439b00c7f": {
      "model_module": "@jupyter-widgets/controls",
      "model_module_version": "1.5.0",
      "model_name": "ButtonStyleModel",
      "state": {
       "font_weight": "bold"
      }
     },
     "9612d7b3b8344adbaff81bb448cb13c7": {
      "model_module": "@jupyter-widgets/base",
      "model_module_version": "1.2.0",
      "model_name": "LayoutModel",
      "state": {}
     },
     "9636edfe819c47fd84afee2ad2a0b28a": {
      "model_module": "@jupyter-widgets/controls",
      "model_module_version": "1.5.0",
      "model_name": "HBoxModel",
      "state": {
       "children": [
        "IPY_MODEL_60638102e37a4f2790d419bdb1755294",
        "IPY_MODEL_171145732c0e41fe8de11a048e41cf7c"
       ],
       "layout": "IPY_MODEL_5dd326f58a624ae08f43a08992fc1456"
      }
     },
     "975a15c210e14e1aa2b44ce2432d2f14": {
      "model_module": "@jupyter-widgets/controls",
      "model_module_version": "1.5.0",
      "model_name": "BoxModel",
      "state": {
       "children": [
        "IPY_MODEL_62342073eaa24b3080c18ea8933251a5"
       ],
       "layout": "IPY_MODEL_1e9d53fcdf484c468e6bcceb2b5c8550"
      }
     },
     "97ae699af0324b11b2bb04a712e2e1ca": {
      "model_module": "@jupyter-widgets/controls",
      "model_module_version": "1.5.0",
      "model_name": "VBoxModel",
      "state": {
       "children": [
        "IPY_MODEL_975a15c210e14e1aa2b44ce2432d2f14",
        "IPY_MODEL_ba52dc8cc3854027baec1a9731e2e0f1"
       ],
       "layout": "IPY_MODEL_ad5cabafce964a649107da5d1ce8627a"
      }
     },
     "981121b139df4dbcb4ad6d526c2d79ae": {
      "model_module": "@jupyter-widgets/controls",
      "model_module_version": "1.5.0",
      "model_name": "AccordionModel",
      "state": {
       "_titles": {
        "0": "eplus_pipework_params"
       },
       "children": [
        "IPY_MODEL_784dbc2c9a5242678723db54bd586117"
       ],
       "layout": "IPY_MODEL_11a3e83109834b3bb6e1012ab86c0213",
       "selected_index": null
      }
     },
     "9921f26e08664572a1a5c11524773af7": {
      "model_module": "@jupyter-widgets/controls",
      "model_module_version": "1.5.0",
      "model_name": "ButtonStyleModel",
      "state": {
       "font_weight": "bold"
      }
     },
     "99756bf4b6d741cfa92089772f8509b8": {
      "model_module": "@jupyter-widgets/controls",
      "model_module_version": "1.5.0",
      "model_name": "HBoxModel",
      "state": {
       "children": [
        "IPY_MODEL_79c29060856148439f2d5392bb5e1a16",
        "IPY_MODEL_eddb922c84f44eb4b2ba534a54caa060"
       ],
       "layout": "IPY_MODEL_1b00cecf50af47e6a6a3958a3de200ab"
      }
     },
     "999919e58bd84e71ad9b320465e24e3b": {
      "model_module": "@jupyter-widgets/controls",
      "model_module_version": "1.5.0",
      "model_name": "ButtonStyleModel",
      "state": {
       "font_weight": "bold"
      }
     },
     "9a525a243e6c4a47a0d8f957fe19ca55": {
      "model_module": "@jupyter-widgets/base",
      "model_module_version": "1.2.0",
      "model_name": "LayoutModel",
      "state": {
       "height": "30px",
       "width": "auto"
      }
     },
     "9a623a13ae324242a4f8fc90cb536adf": {
      "model_module": "@jupyter-widgets/controls",
      "model_module_version": "1.5.0",
      "model_name": "ButtonStyleModel",
      "state": {
       "font_weight": "bold"
      }
     },
     "9c85f60215e444eaa5938c5014c94d3b": {
      "model_module": "@jupyter-widgets/base",
      "model_module_version": "1.2.0",
      "model_name": "LayoutModel",
      "state": {}
     },
     "9c9957ac8b5140a28786f8e863c2a497": {
      "model_module": "@jupyter-widgets/controls",
      "model_module_version": "1.5.0",
      "model_name": "VBoxModel",
      "state": {
       "children": [
        "IPY_MODEL_20b8cd3c6d764a79a84063ba37af42e8",
        "IPY_MODEL_0a8593de83814f93a11f4a3c7b2ef1f3"
       ],
       "layout": "IPY_MODEL_a0b9afff12c94ae68d0b5a0eb2e79b12"
      }
     },
     "9d904b07ccda4b21ad448938814275af": {
      "model_module": "@jupyter-widgets/base",
      "model_module_version": "1.2.0",
      "model_name": "LayoutModel",
      "state": {
       "width": "100%"
      }
     },
     "9e59e5db076c42be91a61209e9eaa3b3": {
      "model_module": "@jupyter-widgets/output",
      "model_module_version": "1.0.0",
      "model_name": "OutputModel",
      "state": {
       "layout": "IPY_MODEL_05da9835bde145648e5abe02784aa7b7"
      }
     },
     "9f43418358b0480a9d1c64532ffa6e01": {
      "model_module": "@jupyter-widgets/controls",
      "model_module_version": "1.5.0",
      "model_name": "VBoxModel",
      "state": {
       "children": [
        "IPY_MODEL_006fc0a84dd5482e8f56160c965035fe",
        "IPY_MODEL_76d7d7b1f98d4e84b7d5643b674ccf54"
       ],
       "layout": "IPY_MODEL_6f463c0d44f445c7853c5197a97ade70"
      }
     },
     "9fb50ce2bb9c41bfb35dba2b3cdf393f": {
      "model_module": "@jupyter-widgets/base",
      "model_module_version": "1.2.0",
      "model_name": "LayoutModel",
      "state": {}
     },
     "a046b228966447d6abdace2302011a5a": {
      "model_module": "@jupyter-widgets/base",
      "model_module_version": "1.2.0",
      "model_name": "LayoutModel",
      "state": {
       "width": "5%"
      }
     },
     "a055bc62d0d34aa2b36e31f4acf818dd": {
      "model_module": "@jupyter-widgets/controls",
      "model_module_version": "1.5.0",
      "model_name": "ButtonStyleModel",
      "state": {
       "font_weight": "bold"
      }
     },
     "a06ff6a45298473b967884546d252d4e": {
      "model_module": "@jupyter-widgets/base",
      "model_module_version": "1.2.0",
      "model_name": "LayoutModel",
      "state": {
       "width": "5%"
      }
     },
     "a0a9b1166f4d41a9a5a0a20c76cbbb4b": {
      "model_module": "@jupyter-widgets/controls",
      "model_module_version": "1.5.0",
      "model_name": "TextModel",
      "state": {
       "description": "inputs",
       "disabled": true,
       "layout": "IPY_MODEL_32ea7c7babca4d57a4c6392964871047",
       "style": "IPY_MODEL_dec34cf960d549c89ba378d57ea18278",
       "value": "C:\\engDev\\git_mf\\ipyrun\\ipyrun\\appdata\\inputs\\inputs-docx_to_pdf.json"
      }
     },
     "a0b9afff12c94ae68d0b5a0eb2e79b12": {
      "model_module": "@jupyter-widgets/base",
      "model_module_version": "1.2.0",
      "model_name": "LayoutModel",
      "state": {}
     },
     "a0b9ea7171f34f07a80a96a55ea1c51d": {
      "model_module": "@jupyter-widgets/base",
      "model_module_version": "1.2.0",
      "model_name": "LayoutModel",
      "state": {}
     },
     "a11150db097b410791772e340ac9ed90": {
      "model_module": "@jupyter-widgets/base",
      "model_module_version": "1.2.0",
      "model_name": "LayoutModel",
      "state": {
       "height": "30px",
       "width": "auto"
      }
     },
     "a1c5492d30b240bf8ebe03624502360b": {
      "model_module": "@jupyter-widgets/controls",
      "model_module_version": "1.5.0",
      "model_name": "CheckboxModel",
      "state": {
       "disabled": false,
       "indent": false,
       "layout": "IPY_MODEL_85d5617e5766445da801a06a060589cc",
       "style": "IPY_MODEL_5abc33dbc83f476d8d227fad2dd50368",
       "value": false
      }
     },
     "a215119d33e24d5b93f82641d59d7cae": {
      "model_module": "@jupyter-widgets/base",
      "model_module_version": "1.2.0",
      "model_name": "LayoutModel",
      "state": {
       "height": "30px",
       "width": "auto"
      }
     },
     "a29f671f13af4ca2b21b5470b9b1d249": {
      "model_module": "@jupyter-widgets/controls",
      "model_module_version": "1.5.0",
      "model_name": "ButtonModel",
      "state": {
       "button_style": "info",
       "description": "show source code",
       "layout": "IPY_MODEL_0cc7c2e4fa7f4ff8abd4ce3695f9a11c",
       "style": "IPY_MODEL_ee3c931a88ac4f12945f809f57101be0",
       "tooltip": "shows the raw python code in the preview window below"
      }
     },
     "a2bd3015b6804628800878b9c67282be": {
      "model_module": "@jupyter-widgets/controls",
      "model_module_version": "1.5.0",
      "model_name": "ButtonModel",
      "state": {
       "button_style": "success",
       "description": "run",
       "layout": "IPY_MODEL_e0a07c344f574a82802c9b697486ef11",
       "style": "IPY_MODEL_cdd0dbf8d4f9454e99fb79cdd8b0dd1f",
       "tooltip": "execute the script based on the user inputs"
      }
     },
     "a33c8c3b26d2412899b60935217ce9b4": {
      "model_module": "@jupyter-widgets/output",
      "model_module_version": "1.0.0",
      "model_name": "OutputModel",
      "state": {
       "layout": "IPY_MODEL_c57c560ce7da443d886118b969f7a44b"
      }
     },
     "a3a9b24c475c4af69624a5ef8a824aae": {
      "model_module": "@jupyter-widgets/controls",
      "model_module_version": "1.5.0",
      "model_name": "DescriptionStyleModel",
      "state": {
       "description_width": ""
      }
     },
     "a41f8ec5e19e45f4b3f7d71d82b091ab": {
      "model_module": "@jupyter-widgets/base",
      "model_module_version": "1.2.0",
      "model_name": "LayoutModel",
      "state": {
       "width": "5%"
      }
     },
     "a431005ac7c54b75a214916068f5e153": {
      "model_module": "@jupyter-widgets/controls",
      "model_module_version": "1.5.0",
      "model_name": "DescriptionStyleModel",
      "state": {
       "description_width": ""
      }
     },
     "a4b8901412cf4f5cbd75139567043df8": {
      "model_module": "@jupyter-widgets/controls",
      "model_module_version": "1.5.0",
      "model_name": "ButtonModel",
      "state": {
       "icon": "question-circle",
       "layout": "IPY_MODEL_4e857f551fd04bf4a4a80c5dfaaa8b26",
       "style": "IPY_MODEL_d036c97415e0422f83b1d39c8182ad19",
       "tooltip": "describes the functionality of elements in the RunApp interface"
      }
     },
     "a5b27e1dfa4142db85b4f1abd1f29782": {
      "model_module": "@jupyter-widgets/controls",
      "model_module_version": "1.5.0",
      "model_name": "DescriptionStyleModel",
      "state": {
       "description_width": ""
      }
     },
     "a63a8754a1f14ad0bb5c8dd973e6edd7": {
      "model_module": "@jupyter-widgets/controls",
      "model_module_version": "1.5.0",
      "model_name": "HBoxModel",
      "state": {
       "children": [
        "IPY_MODEL_6589e586aa7540068a242b1b972d9bb4",
        "IPY_MODEL_123d14664fa54d82b9ef460c37d6ac0d"
       ],
       "layout": "IPY_MODEL_89614d0478e74caaa64bfe8c578e9dfd"
      }
     },
     "a699c0ee88d04886b112f7db7e898802": {
      "model_module": "@jupyter-widgets/controls",
      "model_module_version": "1.5.0",
      "model_name": "ButtonModel",
      "state": {
       "icon": "eye-slash",
       "layout": "IPY_MODEL_e07e89e8988640c9b4a82544349668a5",
       "style": "IPY_MODEL_95d9f8f37c0a46009c914c7439b00c7f",
       "tooltip": "removes temporary output view"
      }
     },
     "a77e6f6fce7c4deda9f2e956b3f63d93": {
      "model_module": "@jupyter-widgets/controls",
      "model_module_version": "1.5.0",
      "model_name": "ButtonModel",
      "state": {
       "button_style": "warning",
       "description": "edit inputs",
       "layout": "IPY_MODEL_631f5ddd19c24f1785e2e3774111af76",
       "style": "IPY_MODEL_14d3b3c7c6444b3cacc1a5e7b312715e",
       "tooltip": "edit the user input information that is used when the script is executed"
      }
     },
     "a912e07b0ca040e9ab7196a544e40783": {
      "model_module": "@jupyter-widgets/controls",
      "model_module_version": "1.5.0",
      "model_name": "ButtonModel",
      "state": {
       "button_style": "info",
       "description": "preview outputs",
       "layout": "IPY_MODEL_1dad34db697f4c498fdbedf8ee1ba0d9",
       "style": "IPY_MODEL_092876a8248b415792b5a86312525cc2",
       "tooltip": "show a preview of the output files generated when the script runs"
      }
     },
     "ab65672cab034bbf9f15f310a4f282dd": {
      "model_module": "@jupyter-widgets/controls",
      "model_module_version": "1.5.0",
      "model_name": "ButtonStyleModel",
      "state": {
       "font_weight": "bold"
      }
     },
     "ac04fd9169fa47359368bfda53e70bbc": {
      "model_module": "@jupyter-widgets/base",
      "model_module_version": "1.2.0",
      "model_name": "LayoutModel",
      "state": {}
     },
     "acba70768c49435ea4f4d9d1b87ec359": {
      "model_module": "@jupyter-widgets/controls",
      "model_module_version": "1.5.0",
      "model_name": "HBoxModel",
      "state": {
       "children": [
        "IPY_MODEL_f342ad0d887e4927a29b86aa003ff11e",
        "IPY_MODEL_981121b139df4dbcb4ad6d526c2d79ae"
       ],
       "layout": "IPY_MODEL_4b129dbfdadb4e04bdd44e2636305750"
      }
     },
     "ad5cabafce964a649107da5d1ce8627a": {
      "model_module": "@jupyter-widgets/base",
      "model_module_version": "1.2.0",
      "model_name": "LayoutModel",
      "state": {}
     },
     "adc1bb2a9f2745c2b45485d76f828706": {
      "model_module": "@jupyter-widgets/controls",
      "model_module_version": "1.5.0",
      "model_name": "ButtonModel",
      "state": {
       "icon": "question-circle",
       "layout": "IPY_MODEL_46dfbac429c049cebd28e65ca7c6077c",
       "style": "IPY_MODEL_6422a44b03ed4fe990880128294d79ab",
       "tooltip": "describes the functionality of elements in the RunApp interface"
      }
     },
     "ae6a0d5153844299998a6f57b6b39373": {
      "model_module": "@jupyter-widgets/controls",
      "model_module_version": "1.5.0",
      "model_name": "ButtonModel",
      "state": {
       "button_style": "warning",
       "description": "edit inputs",
       "layout": "IPY_MODEL_89b9a0bc48af46f98edc4753f17a5dfd",
       "style": "IPY_MODEL_0d0bfd5e1441428791f5d1a82baa27a2",
       "tooltip": "edit the user input information that is used when the script is executed"
      }
     },
     "aedf8a345f9448cdb5145479d0543561": {
      "model_module": "@jupyter-widgets/base",
      "model_module_version": "1.2.0",
      "model_name": "LayoutModel",
      "state": {}
     },
     "b0f180452af24d56bc6d80def878f0ff": {
      "model_module": "@jupyter-widgets/base",
      "model_module_version": "1.2.0",
      "model_name": "LayoutModel",
      "state": {
       "height": "30px",
       "width": "auto"
      }
     },
     "b0fd4a17b13f4eaaa5f991d4019baebf": {
      "model_module": "@jupyter-widgets/controls",
      "model_module_version": "1.5.0",
      "model_name": "VBoxModel",
      "state": {
       "children": [
        "IPY_MODEL_4a4a9ed3939a4659bb11d1a8344826fc",
        "IPY_MODEL_5293eb18a1004fc2b03ce36901f9c318",
        "IPY_MODEL_565970cd6a5e46acad6cee8de56d2e65"
       ],
       "layout": "IPY_MODEL_01ebc9b483f5426eb98c52d242a1ca78"
      }
     },
     "b2481893b91c48c4a42c6c39eaa06926": {
      "model_module": "@jupyter-widgets/base",
      "model_module_version": "1.2.0",
      "model_name": "LayoutModel",
      "state": {}
     },
     "b3a5e8439f824b0683fb6f458e39bfdf": {
      "model_module": "@jupyter-widgets/base",
      "model_module_version": "1.2.0",
      "model_name": "LayoutModel",
      "state": {
       "align_items": "stretch",
       "width": "100%"
      }
     },
     "b45c40a314864cac823571e719c359f0": {
      "model_module": "@jupyter-widgets/controls",
      "model_module_version": "1.5.0",
      "model_name": "ButtonModel",
      "state": {
       "button_style": "info",
       "description": "show guide",
       "layout": "IPY_MODEL_8fec307dba7146f3a8a4466b130a9581",
       "style": "IPY_MODEL_5f55f4b14c074322b7cff05f736dcfa0",
       "tooltip": "read the \"docstring\", ie. the documentation that was written to accompany the script"
      }
     },
     "b5590022e4a847d6af03c7beac9a97d3": {
      "model_module": "@jupyter-widgets/controls",
      "model_module_version": "1.5.0",
      "model_name": "ButtonModel",
      "state": {
       "button_style": "info",
       "description": "show guide",
       "layout": "IPY_MODEL_61726911a4624f9199dafcf5ec4c11d4",
       "style": "IPY_MODEL_55efc907df6e45f48b957dc2b83fa2fc",
       "tooltip": "read the \"docstring\", ie. the documentation that was written to accompany the script"
      }
     },
     "b63bcdf784f741c49e1e25acfeb9aa6c": {
      "model_module": "@jupyter-widgets/controls",
      "model_module_version": "1.5.0",
      "model_name": "ButtonStyleModel",
      "state": {
       "font_weight": "bold"
      }
     },
     "b77e713fcafc4070ba5e6b3cc79ee348": {
      "model_module": "@jupyter-widgets/controls",
      "model_module_version": "1.5.0",
      "model_name": "TextModel",
      "state": {
       "description": "script",
       "disabled": true,
       "layout": "IPY_MODEL_ef0ffd8963be4e739178e9130856c8ba",
       "style": "IPY_MODEL_f18e0a386a5c4c81bc344f1125f53c59",
       "value": "C:\\engDev\\git_mf\\MF_Toolbox\\dev\\mf_scripts\\docx_to_pdf.py"
      }
     },
     "b7916a6956b84c0780cd321e8f53f840": {
      "model_module": "@jupyter-widgets/controls",
      "model_module_version": "1.5.0",
      "model_name": "VBoxModel",
      "state": {
       "children": [
        "IPY_MODEL_e76257f2396d471da7e414b774e9dbcd",
        "IPY_MODEL_c824c3f8b8e549ee9209932b8db1d931"
       ],
       "layout": "IPY_MODEL_5a0845b20d574e2db939e49e33747ca0"
      }
     },
     "b7c7024ac19e42dd901470f8abf2323e": {
      "model_module": "@jupyter-widgets/base",
      "model_module_version": "1.2.0",
      "model_name": "LayoutModel",
      "state": {
       "height": "30px",
       "max_width": "30px",
       "padding": "3px"
      }
     },
     "b9245ca7d6014a9c9aa19f5dd3e29f36": {
      "model_module": "@jupyter-widgets/controls",
      "model_module_version": "1.5.0",
      "model_name": "ButtonStyleModel",
      "state": {
       "font_weight": "bold"
      }
     },
     "b9613ec67db442a597df557d65d60506": {
      "model_module": "@jupyter-widgets/base",
      "model_module_version": "1.2.0",
      "model_name": "LayoutModel",
      "state": {}
     },
     "ba52dc8cc3854027baec1a9731e2e0f1": {
      "model_module": "@jupyter-widgets/controls",
      "model_module_version": "1.5.0",
      "model_name": "VBoxModel",
      "state": {
       "children": [
        "IPY_MODEL_deb497f03a274a04891a754199cec79f",
        "IPY_MODEL_e179f6a8c23a4dc686df997bbeca784e",
        "IPY_MODEL_3fd9b0a5ab9b4021ba03d61f3c3063d2"
       ],
       "layout": "IPY_MODEL_40b504d4f60d480f95636d346dead609"
      }
     },
     "bbe505e4b62f4b8b9c62e1c747fdf257": {
      "model_module": "@jupyter-widgets/base",
      "model_module_version": "1.2.0",
      "model_name": "LayoutModel",
      "state": {
       "align_items": "stretch",
       "width": "100%"
      }
     },
     "bd1794529ef849e4ba2a95b99fc8059b": {
      "model_module": "@jupyter-widgets/controls",
      "model_module_version": "1.5.0",
      "model_name": "ButtonModel",
      "state": {
       "button_style": "success",
       "description": "run",
       "layout": "IPY_MODEL_779896a5442a42e1b4cdd7e7ff4d3c13",
       "style": "IPY_MODEL_0457c729911944e5aee006c43e1423bf",
       "tooltip": "execute the script based on the user inputs"
      }
     },
     "bdb372da73b043b38f88cb5349129a89": {
      "model_module": "@jupyter-widgets/controls",
      "model_module_version": "1.5.0",
      "model_name": "TextModel",
      "state": {
       "description": "script",
       "disabled": true,
       "layout": "IPY_MODEL_e7cd9b8890894c088b167ac3ef489921",
       "style": "IPY_MODEL_08c38183e73f4823b74f0fc940e7155c",
       "value": "C:\\engDev\\git_mf\\MF_Toolbox\\dev\\mf_scripts\\eplus_pipework_params.py"
      }
     },
     "be08697a4792447fa31e00f641b07169": {
      "model_module": "@jupyter-widgets/controls",
      "model_module_version": "1.5.0",
      "model_name": "VBoxModel",
      "state": {
       "children": [
        "IPY_MODEL_65f9074aabbd42e39060b018764f36d3",
        "IPY_MODEL_07def5c086b24eb281453bf1a4368869",
        "IPY_MODEL_84f8a4a3fa3f4900ac51cbaae607343c"
       ],
       "layout": "IPY_MODEL_20dc238dba0b444fada57c4acdf40bf9"
      }
     },
     "be72a4c52ac14285a738235b1d3a5faf": {
      "model_module": "@jupyter-widgets/base",
      "model_module_version": "1.2.0",
      "model_name": "LayoutModel",
      "state": {}
     },
     "bf02d0662a0b4760858e92d7ac519c71": {
      "model_module": "@jupyter-widgets/controls",
      "model_module_version": "1.5.0",
      "model_name": "DescriptionStyleModel",
      "state": {
       "description_width": ""
      }
     },
     "c22701228686428291d8700c69eedaf5": {
      "model_module": "@jupyter-widgets/base",
      "model_module_version": "1.2.0",
      "model_name": "LayoutModel",
      "state": {}
     },
     "c347f94b8a0b4c0d8cb1682e9705be2d": {
      "model_module": "@jupyter-widgets/controls",
      "model_module_version": "1.5.0",
      "model_name": "ButtonStyleModel",
      "state": {
       "font_weight": "bold"
      }
     },
     "c486c6fcafda49558365992377290a81": {
      "model_module": "@jupyter-widgets/controls",
      "model_module_version": "1.5.0",
      "model_name": "DescriptionStyleModel",
      "state": {
       "description_width": ""
      }
     },
     "c4bc561e7bba401dbe9262bfea240d6a": {
      "model_module": "@jupyter-widgets/controls",
      "model_module_version": "1.5.0",
      "model_name": "ButtonStyleModel",
      "state": {
       "font_weight": "bold"
      }
     },
     "c530a3dc9b6042779b6b29340d3e667a": {
      "model_module": "@jupyter-widgets/base",
      "model_module_version": "1.2.0",
      "model_name": "LayoutModel",
      "state": {
       "width": "5%"
      }
     },
     "c54a82ddc574412980ebc3984e7308f7": {
      "model_module": "@jupyter-widgets/controls",
      "model_module_version": "1.5.0",
      "model_name": "ButtonStyleModel",
      "state": {
       "font_weight": "bold"
      }
     },
     "c57c560ce7da443d886118b969f7a44b": {
      "model_module": "@jupyter-widgets/base",
      "model_module_version": "1.2.0",
      "model_name": "LayoutModel",
      "state": {}
     },
     "c58eac571f16437d8e5b3b60e87d91d1": {
      "model_module": "@jupyter-widgets/controls",
      "model_module_version": "1.5.0",
      "model_name": "HBoxModel",
      "state": {
       "children": [
        "IPY_MODEL_4c09cedf1a3b49869dc5dc510ef05099",
        "IPY_MODEL_2b22f98576e84c73b7a88aba982b75a3"
       ],
       "layout": "IPY_MODEL_cb5c1930d248480798d5db151d2719fb"
      }
     },
     "c5a0fa9842d3430191a5ab547b6782e4": {
      "model_module": "@jupyter-widgets/base",
      "model_module_version": "1.2.0",
      "model_name": "LayoutModel",
      "state": {}
     },
     "c5b058e8af6141ccaf8c10535e75a38c": {
      "model_module": "@jupyter-widgets/base",
      "model_module_version": "1.2.0",
      "model_name": "LayoutModel",
      "state": {
       "height": "30px",
       "width": "auto"
      }
     },
     "c60681ddeb4f41ba88985115a7aac9e7": {
      "model_module": "@jupyter-widgets/controls",
      "model_module_version": "1.5.0",
      "model_name": "DescriptionStyleModel",
      "state": {
       "description_width": ""
      }
     },
     "c624a977c48c40b581c5ea0651072e08": {
      "model_module": "@jupyter-widgets/controls",
      "model_module_version": "1.5.0",
      "model_name": "ButtonModel",
      "state": {
       "icon": "question-circle",
       "layout": "IPY_MODEL_853d23115ea046889f9d1d477ceb6571",
       "style": "IPY_MODEL_078b32edf79d45ec8c8ff6762aa49112",
       "tooltip": "describes the functionality of elements in the RunApp interface"
      }
     },
     "c6d5cdba58f94f4c809a7f8b48a8e4a1": {
      "model_module": "@jupyter-widgets/controls",
      "model_module_version": "1.5.0",
      "model_name": "ButtonModel",
      "state": {
       "button_style": "info",
       "description": "show log",
       "layout": "IPY_MODEL_70ad553b6a0f46e8958f33c62a5fa0e2",
       "style": "IPY_MODEL_58db21b04bc44f759afa923e4c0c560f",
       "tooltip": "show a log of when the script was executed to generate the outputs, and by who"
      }
     },
     "c704c83a4fa6447bbf43c0c63efca4c9": {
      "model_module": "@jupyter-widgets/controls",
      "model_module_version": "1.5.0",
      "model_name": "DescriptionStyleModel",
      "state": {
       "description_width": ""
      }
     },
     "c7b7e812f7e9448aa1b9b607732103ef": {
      "model_module": "@jupyter-widgets/controls",
      "model_module_version": "1.5.0",
      "model_name": "ButtonStyleModel",
      "state": {
       "font_weight": "bold"
      }
     },
     "c824c3f8b8e549ee9209932b8db1d931": {
      "model_module": "@jupyter-widgets/controls",
      "model_module_version": "1.5.0",
      "model_name": "VBoxModel",
      "state": {
       "children": [
        "IPY_MODEL_a0a9b1166f4d41a9a5a0a20c76cbbb4b",
        "IPY_MODEL_740cdadce8634e70857265e432dfb859",
        "IPY_MODEL_ed16da2eee2d49198420155f6e00e443"
       ],
       "layout": "IPY_MODEL_4899ef498b424bd1beaa67e537bced69"
      }
     },
     "c956ecbff78e4905be18982dcc40d391": {
      "model_module": "@jupyter-widgets/controls",
      "model_module_version": "1.5.0",
      "model_name": "HBoxModel",
      "state": {
       "children": [
        "IPY_MODEL_37a6c1d1189749199c928a1e3e7b8856",
        "IPY_MODEL_75cc7709ee2f4e3ca10239525894e482",
        "IPY_MODEL_72914b6c99bd41c4962543150def6d1c"
       ],
       "layout": "IPY_MODEL_8d2276a4e36849538f028be0f3a63f24"
      }
     },
     "ca2492b983ab4f5f8d42d53950f6ddda": {
      "model_module": "@jupyter-widgets/base",
      "model_module_version": "1.2.0",
      "model_name": "LayoutModel",
      "state": {
       "height": "30px",
       "width": "auto"
      }
     },
     "cab04f971e914bd0aaeabba72775f623": {
      "model_module": "@jupyter-widgets/base",
      "model_module_version": "1.2.0",
      "model_name": "LayoutModel",
      "state": {
       "align_items": "stretch",
       "width": "100%"
      }
     },
     "cb5c1930d248480798d5db151d2719fb": {
      "model_module": "@jupyter-widgets/base",
      "model_module_version": "1.2.0",
      "model_name": "LayoutModel",
      "state": {
       "border": "0px",
       "margin": "0px",
       "padding": "0px"
      }
     },
     "cb7f0d39455e4464b4de8b3dffd53eeb": {
      "model_module": "@jupyter-widgets/controls",
      "model_module_version": "1.5.0",
      "model_name": "ButtonStyleModel",
      "state": {
       "font_weight": "bold"
      }
     },
     "cb9651ae935d48788bf273ba1bd5d6d8": {
      "model_module": "@jupyter-widgets/base",
      "model_module_version": "1.2.0",
      "model_name": "LayoutModel",
      "state": {}
     },
     "cbd86ee8a4a04212be3f0f57cb89f63b": {
      "model_module": "@jupyter-widgets/controls",
      "model_module_version": "1.5.0",
      "model_name": "ButtonStyleModel",
      "state": {
       "font_weight": "bold"
      }
     },
     "cbd939fa871e430893ee630cd5750f79": {
      "model_module": "@jupyter-widgets/controls",
      "model_module_version": "1.5.0",
      "model_name": "DescriptionStyleModel",
      "state": {
       "description_width": ""
      }
     },
     "cbf0ddb801424610bd974e29b39f6f07": {
      "model_module": "@jupyter-widgets/base",
      "model_module_version": "1.2.0",
      "model_name": "LayoutModel",
      "state": {}
     },
     "cc47bc8f987940baa9839178c8edcca8": {
      "model_module": "@jupyter-widgets/base",
      "model_module_version": "1.2.0",
      "model_name": "LayoutModel",
      "state": {}
     },
     "ccb45814f94e4aefb2906b445247fd8b": {
      "model_module": "@jupyter-widgets/base",
      "model_module_version": "1.2.0",
      "model_name": "LayoutModel",
      "state": {}
     },
     "ccec6ed41a114dd589b16cd170633f7c": {
      "model_module": "@jupyter-widgets/controls",
      "model_module_version": "1.5.0",
      "model_name": "VBoxModel",
      "state": {
       "children": [
        "IPY_MODEL_08095ea0950b4e78a79b8a55d095e1cc",
        "IPY_MODEL_e88efceff51441c392fdd7ba1d37041c"
       ],
       "layout": "IPY_MODEL_ccb45814f94e4aefb2906b445247fd8b"
      }
     },
     "ccfa371baddf4e999ac99d76c1733c9f": {
      "model_module": "@jupyter-widgets/base",
      "model_module_version": "1.2.0",
      "model_name": "LayoutModel",
      "state": {
       "width": "5%"
      }
     },
     "cd9456e3033d43f2bdd2dd1786602f72": {
      "model_module": "@jupyter-widgets/base",
      "model_module_version": "1.2.0",
      "model_name": "LayoutModel",
      "state": {
       "height": "30px",
       "width": "auto"
      }
     },
     "cd9c1acf429f4897b9b5f388304c0bab": {
      "model_module": "@jupyter-widgets/controls",
      "model_module_version": "1.5.0",
      "model_name": "HBoxModel",
      "state": {
       "children": [
        "IPY_MODEL_a699c0ee88d04886b112f7db7e898802",
        "IPY_MODEL_90d85e8b3f33484186ae4507d642f4a1",
        "IPY_MODEL_0f6513beaeff4c968f0b7fe117d454c9",
        "IPY_MODEL_1ac521ab7e8a412f96767d76391b0f6f"
       ],
       "layout": "IPY_MODEL_692e85d2a6854ba680e990c8b84cd697"
      }
     },
     "cdc897d09554468e9cca65635aa6d400": {
      "model_module": "@jupyter-widgets/base",
      "model_module_version": "1.2.0",
      "model_name": "LayoutModel",
      "state": {
       "height": "30px",
       "width": "auto"
      }
     },
     "cdd0dbf8d4f9454e99fb79cdd8b0dd1f": {
      "model_module": "@jupyter-widgets/controls",
      "model_module_version": "1.5.0",
      "model_name": "ButtonStyleModel",
      "state": {
       "font_weight": "bold"
      }
     },
     "cee523f743044b729fe5f60bd93e50de": {
      "model_module": "@jupyter-widgets/controls",
      "model_module_version": "1.5.0",
      "model_name": "TextModel",
      "state": {
       "description": "inputs",
       "disabled": true,
       "layout": "IPY_MODEL_21246951dc114eee865b0cf8be6c987e",
       "style": "IPY_MODEL_cbd939fa871e430893ee630cd5750f79",
       "value": "C:\\engDev\\git_mf\\ipyrun\\ipyrun\\appdata\\inputs\\inputs-docx_to_pdf.json"
      }
     },
     "cee8c3b998ab48f9844420e5bac4451c": {
      "model_module": "@jupyter-widgets/base",
      "model_module_version": "1.2.0",
      "model_name": "LayoutModel",
      "state": {}
     },
     "d036c97415e0422f83b1d39c8182ad19": {
      "model_module": "@jupyter-widgets/controls",
      "model_module_version": "1.5.0",
      "model_name": "ButtonStyleModel",
      "state": {
       "font_weight": "bold"
      }
     },
     "d048c3d3d31946258c079738c5723dc0": {
      "model_module": "@jupyter-widgets/base",
      "model_module_version": "1.2.0",
      "model_name": "LayoutModel",
      "state": {}
     },
     "d05bc2f515f04d6d80cabbdd5b164fcc": {
      "model_module": "@jupyter-widgets/base",
      "model_module_version": "1.2.0",
      "model_name": "LayoutModel",
      "state": {}
     },
     "d1104c37d6ea4a208ae6e59c4fdbd3ae": {
      "model_module": "@jupyter-widgets/controls",
      "model_module_version": "1.5.0",
      "model_name": "ButtonModel",
      "state": {
       "button_style": "info",
       "description": "show log",
       "layout": "IPY_MODEL_12c75de9b5d041bba536a27d8da67560",
       "style": "IPY_MODEL_8a253da4f6a04dd8a77235ce4e09e6a3",
       "tooltip": "show a log of when the script was executed to generate the outputs, and by who"
      }
     },
     "d1390299feab48d1939962fd733f40ec": {
      "model_module": "@jupyter-widgets/base",
      "model_module_version": "1.2.0",
      "model_name": "LayoutModel",
      "state": {
       "height": "30px",
       "max_width": "30px",
       "padding": "3px"
      }
     },
     "d2057585360f4e66a370ab31f9f3f4ff": {
      "model_module": "@jupyter-widgets/base",
      "model_module_version": "1.2.0",
      "model_name": "LayoutModel",
      "state": {}
     },
     "d22a58bcee504c2c8bd69d38d6e41e79": {
      "model_module": "@jupyter-widgets/controls",
      "model_module_version": "1.5.0",
      "model_name": "ButtonModel",
      "state": {
       "button_style": "warning",
       "description": "edit inputs",
       "layout": "IPY_MODEL_ac04fd9169fa47359368bfda53e70bbc",
       "style": "IPY_MODEL_999919e58bd84e71ad9b320465e24e3b",
       "tooltip": "edit the user input information that is used when the script is executed"
      }
     },
     "d2ba975855164e68b52dd0da8af267ff": {
      "model_module": "@jupyter-widgets/controls",
      "model_module_version": "1.5.0",
      "model_name": "SelectMultipleModel",
      "state": {
       "_options_labels": [
        "C:\\engDev\\git_mf\\ipyrun\\data\\external\\eplus_pipework_params.csv"
       ],
       "description": "outputs",
       "index": [],
       "layout": "IPY_MODEL_cdc897d09554468e9cca65635aa6d400",
       "rows": 4,
       "style": "IPY_MODEL_fc6799aeaa1147cb85a92a9620560acd"
      }
     },
     "d2ebb145db5042079479c8ba13e2be28": {
      "model_module": "@jupyter-widgets/base",
      "model_module_version": "1.2.0",
      "model_name": "LayoutModel",
      "state": {}
     },
     "d2fdcb7be9b0479a9caa71d562281568": {
      "model_module": "@jupyter-widgets/base",
      "model_module_version": "1.2.0",
      "model_name": "LayoutModel",
      "state": {}
     },
     "d30efc39ea4f4b67ae1f4a92c20d7a86": {
      "model_module": "@jupyter-widgets/controls",
      "model_module_version": "1.5.0",
      "model_name": "ButtonStyleModel",
      "state": {
       "font_weight": "bold"
      }
     },
     "d477c1545e4449e08971682f858c4486": {
      "model_module": "@jupyter-widgets/base",
      "model_module_version": "1.2.0",
      "model_name": "LayoutModel",
      "state": {}
     },
     "d5b2c1d36419488dbed41f673ddb3619": {
      "model_module": "@jupyter-widgets/base",
      "model_module_version": "1.2.0",
      "model_name": "LayoutModel",
      "state": {}
     },
     "d5c278185557434e9ee2a053c0733f6e": {
      "model_module": "@jupyter-widgets/controls",
      "model_module_version": "1.5.0",
      "model_name": "CheckboxModel",
      "state": {
       "disabled": false,
       "indent": false,
       "layout": "IPY_MODEL_ee567e04cdf04f1da1f4b12f4fae4526",
       "style": "IPY_MODEL_a5b27e1dfa4142db85b4f1abd1f29782",
       "value": false
      }
     },
     "d79c95c922d04b4d86b085c7eb476f20": {
      "model_module": "@jupyter-widgets/controls",
      "model_module_version": "1.5.0",
      "model_name": "TextModel",
      "state": {
       "description": "script",
       "disabled": true,
       "layout": "IPY_MODEL_a215119d33e24d5b93f82641d59d7cae",
       "style": "IPY_MODEL_937bac0ee39e40f098f5067de203c903",
       "value": "C:\\engDev\\git_mf\\MF_Toolbox\\dev\\mf_scripts\\eplus_pipework_params.py"
      }
     },
     "d89862481f924b95979e5ef3125f280b": {
      "model_module": "@jupyter-widgets/controls",
      "model_module_version": "1.5.0",
      "model_name": "ButtonModel",
      "state": {
       "button_style": "info",
       "description": "preview outputs",
       "layout": "IPY_MODEL_7ba2ba10f1fb4c8bb979b0d3ec5747f7",
       "style": "IPY_MODEL_89778759c981499a966fab60268a67ea",
       "tooltip": "show a preview of the output files generated when the script runs"
      }
     },
     "d89a3c6cb3884a498a3bfd9e950e35df": {
      "model_module": "@jupyter-widgets/controls",
      "model_module_version": "1.5.0",
      "model_name": "DescriptionStyleModel",
      "state": {
       "description_width": ""
      }
     },
     "db1d54d9ccd44c4b9beb0816d2e800f2": {
      "model_module": "@jupyter-widgets/controls",
      "model_module_version": "1.5.0",
      "model_name": "DescriptionStyleModel",
      "state": {
       "description_width": ""
      }
     },
     "db4f473af3cf4bf8994ee02bfcc8ce2a": {
      "model_module": "@jupyter-widgets/controls",
      "model_module_version": "1.5.0",
      "model_name": "DescriptionStyleModel",
      "state": {
       "description_width": ""
      }
     },
     "dcc75493f91e4bd9900e17db253310a6": {
      "model_module": "@jupyter-widgets/base",
      "model_module_version": "1.2.0",
      "model_name": "LayoutModel",
      "state": {}
     },
     "de5ca38caaae45fa933e52ba49370a58": {
      "model_module": "@jupyter-widgets/base",
      "model_module_version": "1.2.0",
      "model_name": "LayoutModel",
      "state": {
       "width": "5%"
      }
     },
     "deb497f03a274a04891a754199cec79f": {
      "model_module": "@jupyter-widgets/controls",
      "model_module_version": "1.5.0",
      "model_name": "TextModel",
      "state": {
       "description": "inputs",
       "disabled": true,
       "layout": "IPY_MODEL_6521e20c2a614d2589297b8b48322da4",
       "style": "IPY_MODEL_d89a3c6cb3884a498a3bfd9e950e35df",
       "value": "C:\\engDev\\git_mf\\ipyrun\\ipyrun\\notebooks\\appdata\\inputs\\inputs-eplus_pipework_params.csv"
      }
     },
     "dec34cf960d549c89ba378d57ea18278": {
      "model_module": "@jupyter-widgets/controls",
      "model_module_version": "1.5.0",
      "model_name": "DescriptionStyleModel",
      "state": {
       "description_width": ""
      }
     },
     "df222ce9bef54f08b8d770e645daedfd": {
      "model_module": "@jupyter-widgets/base",
      "model_module_version": "1.2.0",
      "model_name": "LayoutModel",
      "state": {
       "height": "30px",
       "max_width": "30px",
       "padding": "3px"
      }
     },
     "df4c1a61fb554b2cbe61bbf031ddb33f": {
      "model_module": "@jupyter-widgets/controls",
      "model_module_version": "1.5.0",
      "model_name": "ButtonModel",
      "state": {
       "button_style": "info",
       "description": "show guide",
       "layout": "IPY_MODEL_55caabe1ec3141b3b7462a248e549c12",
       "style": "IPY_MODEL_c7b7e812f7e9448aa1b9b607732103ef",
       "tooltip": "read the \"docstring\", ie. the documentation that was written to accompany the script"
      }
     },
     "e07e89e8988640c9b4a82544349668a5": {
      "model_module": "@jupyter-widgets/base",
      "model_module_version": "1.2.0",
      "model_name": "LayoutModel",
      "state": {
       "width": "5%"
      }
     },
     "e0a07c344f574a82802c9b697486ef11": {
      "model_module": "@jupyter-widgets/base",
      "model_module_version": "1.2.0",
      "model_name": "LayoutModel",
      "state": {}
     },
     "e179f6a8c23a4dc686df997bbeca784e": {
      "model_module": "@jupyter-widgets/controls",
      "model_module_version": "1.5.0",
      "model_name": "TextModel",
      "state": {
       "description": "script",
       "disabled": true,
       "layout": "IPY_MODEL_9a525a243e6c4a47a0d8f957fe19ca55",
       "style": "IPY_MODEL_7e75376bec8341fc8394f9ae0453ad6a",
       "value": "C:\\engDev\\git_mf\\MF_Toolbox\\dev\\mf_scripts\\eplus_pipework_params.py"
      }
     },
     "e216bdf95fb94a9d984250c2f3476ed6": {
      "model_module": "@jupyter-widgets/controls",
      "model_module_version": "1.5.0",
      "model_name": "ButtonStyleModel",
      "state": {
       "font_weight": "bold"
      }
     },
     "e2501000b1984571bb62b981a24f0db7": {
      "model_module": "@jupyter-widgets/base",
      "model_module_version": "1.2.0",
      "model_name": "LayoutModel",
      "state": {}
     },
     "e2af2af8805d44bc91aaca31b3bc2006": {
      "model_module": "@jupyter-widgets/base",
      "model_module_version": "1.2.0",
      "model_name": "LayoutModel",
      "state": {}
     },
     "e3cc001c684c4fe68dc57e69ea0b8197": {
      "model_module": "@jupyter-widgets/controls",
      "model_module_version": "1.5.0",
      "model_name": "DescriptionStyleModel",
      "state": {
       "description_width": ""
      }
     },
     "e55b5720000a4c7c8396c3b58843fa0d": {
      "model_module": "@jupyter-widgets/controls",
      "model_module_version": "1.5.0",
      "model_name": "ButtonStyleModel",
      "state": {
       "font_weight": "bold"
      }
     },
     "e5bc0d797a63453085a25c915fef2774": {
      "model_module": "@jupyter-widgets/base",
      "model_module_version": "1.2.0",
      "model_name": "LayoutModel",
      "state": {
       "height": "30px",
       "width": "auto"
      }
     },
     "e76257f2396d471da7e414b774e9dbcd": {
      "model_module": "@jupyter-widgets/controls",
      "model_module_version": "1.5.0",
      "model_name": "BoxModel",
      "state": {
       "children": [
        "IPY_MODEL_8fd888fcf6a3405f8162c334097d0bed"
       ],
       "layout": "IPY_MODEL_aedf8a345f9448cdb5145479d0543561"
      }
     },
     "e7cd9b8890894c088b167ac3ef489921": {
      "model_module": "@jupyter-widgets/base",
      "model_module_version": "1.2.0",
      "model_name": "LayoutModel",
      "state": {
       "height": "30px",
       "width": "auto"
      }
     },
     "e88efceff51441c392fdd7ba1d37041c": {
      "model_module": "@jupyter-widgets/output",
      "model_module_version": "1.0.0",
      "model_name": "OutputModel",
      "state": {
       "layout": "IPY_MODEL_cee8c3b998ab48f9844420e5bac4451c"
      }
     },
     "e95e4c917d2d4809b73a47bde7f92865": {
      "model_module": "@jupyter-widgets/base",
      "model_module_version": "1.2.0",
      "model_name": "LayoutModel",
      "state": {}
     },
     "ea1590c2cf53458e9adabff3fd10a6cc": {
      "model_module": "@jupyter-widgets/controls",
      "model_module_version": "1.5.0",
      "model_name": "DescriptionStyleModel",
      "state": {
       "description_width": ""
      }
     },
     "eab3bdf374dc405a91023448502f8d44": {
      "model_module": "@jupyter-widgets/base",
      "model_module_version": "1.2.0",
      "model_name": "LayoutModel",
      "state": {}
     },
     "ec123e623ab24590a9af8633e2187371": {
      "model_module": "@jupyter-widgets/base",
      "model_module_version": "1.2.0",
      "model_name": "LayoutModel",
      "state": {}
     },
     "ecf4c034d66e4a13a86f6a9604a766ed": {
      "model_module": "@jupyter-widgets/base",
      "model_module_version": "1.2.0",
      "model_name": "LayoutModel",
      "state": {
       "align_items": "stretch",
       "width": "100%"
      }
     },
     "ed16da2eee2d49198420155f6e00e443": {
      "model_module": "@jupyter-widgets/controls",
      "model_module_version": "1.5.0",
      "model_name": "SelectMultipleModel",
      "state": {
       "_options_labels": [
        "C:\\engDev\\git_mf\\ipyrun\\reports\\JupyterReportDemo.pdf"
       ],
       "description": "outputs",
       "index": [],
       "layout": "IPY_MODEL_48164d8389d943b5bdcd992d19383444",
       "rows": 4,
       "style": "IPY_MODEL_e3cc001c684c4fe68dc57e69ea0b8197"
      }
     },
     "ed3c9360bd664f37a38820aff17db060": {
      "model_module": "@jupyter-widgets/base",
      "model_module_version": "1.2.0",
      "model_name": "LayoutModel",
      "state": {
       "width": "5%"
      }
     },
     "ed65fb0178864c20ad6909e9e9842103": {
      "model_module": "@jupyter-widgets/controls",
      "model_module_version": "1.5.0",
      "model_name": "VBoxModel",
      "state": {
       "children": [
        "IPY_MODEL_acba70768c49435ea4f4d9d1b87ec359",
        "IPY_MODEL_7e959e0b41d34a698bb7b250f775780c"
       ],
       "layout": "IPY_MODEL_cb9651ae935d48788bf273ba1bd5d6d8"
      }
     },
     "ed9c876e64ba4621914f47013a3e5b23": {
      "model_module": "@jupyter-widgets/controls",
      "model_module_version": "1.5.0",
      "model_name": "ButtonStyleModel",
      "state": {
       "font_weight": "bold"
      }
     },
     "eddb922c84f44eb4b2ba534a54caa060": {
      "model_module": "@jupyter-widgets/controls",
      "model_module_version": "1.5.0",
      "model_name": "AccordionModel",
      "state": {
       "_titles": {
        "0": "docx_to_pdf"
       },
       "children": [
        "IPY_MODEL_9f43418358b0480a9d1c64532ffa6e01"
       ],
       "layout": "IPY_MODEL_788b567649c04ee1b30ca61529af8f02",
       "selected_index": null
      }
     },
     "ee0e0e81e89c4f438e53fc4b1a11772b": {
      "model_module": "@jupyter-widgets/controls",
      "model_module_version": "1.5.0",
      "model_name": "ButtonModel",
      "state": {
       "icon": "question-circle",
       "layout": "IPY_MODEL_02af235ec2e245e9921b5f0d5293c559",
       "style": "IPY_MODEL_67834d02d89f4dbf905375e55f8528c6",
       "tooltip": "describes the functionality of elements in the RunApp interface"
      }
     },
     "ee3c931a88ac4f12945f809f57101be0": {
      "model_module": "@jupyter-widgets/controls",
      "model_module_version": "1.5.0",
      "model_name": "ButtonStyleModel",
      "state": {}
     },
     "ee567e04cdf04f1da1f4b12f4fae4526": {
      "model_module": "@jupyter-widgets/base",
      "model_module_version": "1.2.0",
      "model_name": "LayoutModel",
      "state": {
       "height": "30px",
       "max_width": "30px",
       "padding": "3px"
      }
     },
     "ef0ffd8963be4e739178e9130856c8ba": {
      "model_module": "@jupyter-widgets/base",
      "model_module_version": "1.2.0",
      "model_name": "LayoutModel",
      "state": {
       "height": "30px",
       "width": "auto"
      }
     },
     "ef428ebcc8ef459da4ee722d40aba647": {
      "model_module": "@jupyter-widgets/controls",
      "model_module_version": "1.5.0",
      "model_name": "ButtonModel",
      "state": {
       "icon": "question-circle",
       "layout": "IPY_MODEL_547ed7ce2d9e4968a581fcd57f250575",
       "style": "IPY_MODEL_8c21f47dcd22403ca38a816362186836",
       "tooltip": "describes the functionality of elements in the RunApp interface"
      }
     },
     "f00220d5890343dcbcf9e57376416f69": {
      "model_module": "@jupyter-widgets/controls",
      "model_module_version": "1.5.0",
      "model_name": "DescriptionStyleModel",
      "state": {
       "description_width": ""
      }
     },
     "f11ce511c1294ad5bbcee5909db32945": {
      "model_module": "@jupyter-widgets/controls",
      "model_module_version": "1.5.0",
      "model_name": "ButtonModel",
      "state": {
       "button_style": "info",
       "description": "show source code",
       "layout": "IPY_MODEL_cc47bc8f987940baa9839178c8edcca8",
       "style": "IPY_MODEL_86f2443f6bec407aabbf6a3bd977c917",
       "tooltip": "shows the raw python code in the preview window below"
      }
     },
     "f18e0a386a5c4c81bc344f1125f53c59": {
      "model_module": "@jupyter-widgets/controls",
      "model_module_version": "1.5.0",
      "model_name": "DescriptionStyleModel",
      "state": {
       "description_width": ""
      }
     },
     "f27edfb48f6d4361b1e927af8d943788": {
      "model_module": "@jupyter-widgets/controls",
      "model_module_version": "1.5.0",
      "model_name": "CheckboxModel",
      "state": {
       "disabled": false,
       "indent": false,
       "layout": "IPY_MODEL_d1390299feab48d1939962fd733f40ec",
       "style": "IPY_MODEL_ea1590c2cf53458e9adabff3fd10a6cc",
       "value": false
      }
     },
     "f342ad0d887e4927a29b86aa003ff11e": {
      "model_module": "@jupyter-widgets/controls",
      "model_module_version": "1.5.0",
      "model_name": "CheckboxModel",
      "state": {
       "disabled": false,
       "indent": false,
       "layout": "IPY_MODEL_b7c7024ac19e42dd901470f8abf2323e",
       "style": "IPY_MODEL_c486c6fcafda49558365992377290a81",
       "value": false
      }
     },
     "f3b86a227ffa4316a72d4b85a28b204c": {
      "model_module": "@jupyter-widgets/controls",
      "model_module_version": "1.5.0",
      "model_name": "ButtonStyleModel",
      "state": {
       "font_weight": "bold"
      }
     },
     "f4bd70ea50f24269a71e5d6dc9dd4f31": {
      "model_module": "@jupyter-widgets/base",
      "model_module_version": "1.2.0",
      "model_name": "LayoutModel",
      "state": {
       "width": "5%"
      }
     },
     "f4c847ce601c416daf439a45cd31926e": {
      "model_module": "@jupyter-widgets/controls",
      "model_module_version": "1.5.0",
      "model_name": "DescriptionStyleModel",
      "state": {
       "description_width": ""
      }
     },
     "f4e5f7d46d1741ddb6910434b8731826": {
      "model_module": "@jupyter-widgets/controls",
      "model_module_version": "1.5.0",
      "model_name": "ButtonStyleModel",
      "state": {
       "font_weight": "bold"
      }
     },
     "f61ede0764af4b8ea460b8fea5248ab5": {
      "model_module": "@jupyter-widgets/controls",
      "model_module_version": "1.5.0",
      "model_name": "ButtonStyleModel",
      "state": {
       "font_weight": "bold"
      }
     },
     "f854efc84f134f0e8697708f5f9572f8": {
      "model_module": "@jupyter-widgets/base",
      "model_module_version": "1.2.0",
      "model_name": "LayoutModel",
      "state": {}
     },
     "fa962b66a72a44f389c04613c3b8aa3b": {
      "model_module": "@jupyter-widgets/controls",
      "model_module_version": "1.5.0",
      "model_name": "ButtonModel",
      "state": {
       "button_style": "warning",
       "description": "edit inputs",
       "layout": "IPY_MODEL_001c153eab6f4cd5afdb923964ac42a3",
       "style": "IPY_MODEL_3b3aac5ae5c24f30b6184e0ec0a61fc7",
       "tooltip": "edit the user input information that is used when the script is executed"
      }
     },
     "fafd702f8c894380a01c67336e1ae6b9": {
      "model_module": "@jupyter-widgets/controls",
      "model_module_version": "1.5.0",
      "model_name": "SelectMultipleModel",
      "state": {
       "_options_labels": [
        "C:\\engDev\\git_mf\\ipyrun\\data\\external\\eplus_pipework_params.csv"
       ],
       "description": "outputs",
       "index": [],
       "layout": "IPY_MODEL_8865b9b1be274349ba9f69ada34e9f75",
       "rows": 4,
       "style": "IPY_MODEL_9584d41f138f416f8637dcb059bd10f8"
      }
     },
     "fb8e681f0b1248ce8a98454c0d6b1274": {
      "model_module": "@jupyter-widgets/base",
      "model_module_version": "1.2.0",
      "model_name": "LayoutModel",
      "state": {}
     },
     "fbc0f68f630c4bb9978bdcb952123135": {
      "model_module": "@jupyter-widgets/controls",
      "model_module_version": "1.5.0",
      "model_name": "ButtonStyleModel",
      "state": {
       "font_weight": "bold"
      }
     },
     "fc0eca5183af4666b88659214edd1f42": {
      "model_module": "@jupyter-widgets/base",
      "model_module_version": "1.2.0",
      "model_name": "LayoutModel",
      "state": {
       "height": "30px",
       "width": "auto"
      }
     },
     "fc6799aeaa1147cb85a92a9620560acd": {
      "model_module": "@jupyter-widgets/controls",
      "model_module_version": "1.5.0",
      "model_name": "DescriptionStyleModel",
      "state": {
       "description_width": ""
      }
     },
     "fd003f53ff7d442e8104b2e45e565215": {
      "model_module": "@jupyter-widgets/controls",
      "model_module_version": "1.5.0",
      "model_name": "ButtonModel",
      "state": {
       "button_style": "info",
       "description": "show log",
       "layout": "IPY_MODEL_9c85f60215e444eaa5938c5014c94d3b",
       "style": "IPY_MODEL_ab65672cab034bbf9f15f310a4f282dd",
       "tooltip": "show a log of when the script was executed to generate the outputs, and by who"
      }
     },
     "fd458238d8b64ce9aa9bd13db90a5121": {
      "model_module": "@jupyter-widgets/controls",
      "model_module_version": "1.5.0",
      "model_name": "ButtonModel",
      "state": {
       "button_style": "info",
       "description": "show source code",
       "layout": "IPY_MODEL_87eea016170d48e6bc2ea79cdc9ef838",
       "style": "IPY_MODEL_84ab00f81ae744d9b7c736fe55e03151",
       "tooltip": "shows the raw python code in the preview window below"
      }
     },
     "fd6ec96dc24242119141f342f0852635": {
      "model_module": "@jupyter-widgets/output",
      "model_module_version": "1.0.0",
      "model_name": "OutputModel",
      "state": {
       "layout": "IPY_MODEL_b2481893b91c48c4a42c6c39eaa06926"
      }
     },
     "ffcb07df5fa54021a84a4f5d01ba49a6": {
      "model_module": "@jupyter-widgets/base",
      "model_module_version": "1.2.0",
      "model_name": "LayoutModel",
      "state": {
       "width": "5%"
      }
     }
    },
    "version_major": 2,
    "version_minor": 0
   }
  }
 },
 "nbformat": 4,
 "nbformat_minor": 4
}
