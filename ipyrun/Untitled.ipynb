{
 "cells": [
  {
   "cell_type": "code",
   "execution_count": 19,
   "metadata": {},
   "outputs": [],
   "source": [
    "%reload_ext autoreload\n",
    "%autoreload 2\n",
    "from mf_modules import vis\n",
    "import plotly.graph_objects as go\n",
    "animals=['giraffes', 'orangutans', 'monkeys']\n",
    "\n",
    "data = [go.Bar(x=animals, y=[20, 14, 23])]\n",
    "settings = {\n",
    "    \"yaxis_title\": 'yaxis',\n",
    "    \"xaxis_title\": 'xaxis', \n",
    "    \"yaxis_tickformat\":'%', \n",
    "    \"xaxis_type\":'category'\n",
    "}\n",
    "vis.full_width_graph(data=data, settings=settings, filename='test.jpg')"
   ]
  },
  {
   "cell_type": "code",
   "execution_count": null,
   "metadata": {},
   "outputs": [],
   "source": []
  }
 ],
 "metadata": {
  "kernelspec": {
   "display_name": "Python [conda env:mf_main_orig]",
   "language": "python",
   "name": "conda-env-mf_main_orig-py"
  },
  "language_info": {
   "codemirror_mode": {
    "name": "ipython",
    "version": 3
   },
   "file_extension": ".py",
   "mimetype": "text/x-python",
   "name": "python",
   "nbconvert_exporter": "python",
   "pygments_lexer": "ipython3",
   "version": "3.7.7"
  }
 },
 "nbformat": 4,
 "nbformat_minor": 4
}
