{
 "cells": [
  {
   "cell_type": "code",
   "execution_count": 1,
   "metadata": {},
   "outputs": [
    {
     "data": {
      "application/vnd.jupyter.widget-view+json": {
       "model_id": "60a34b8dbadd4e238a431755a39f289d",
       "version_major": 2,
       "version_minor": 0
      },
      "text/plain": [
       "Button(icon='question-circle', layout=Layout(width='5%'), style=ButtonStyle(font_weight='bold'), tooltip='give…"
      ]
     },
     "metadata": {},
     "output_type": "display_data"
    }
   ],
   "source": [
    "# NOT IN USE\n",
    "\n",
    "# super simple template wrapper functions for ipywidgets. \n",
    "# in reality they are superfluous, but this notebook is left\n",
    "# here as it is a good reference that describes the required\n",
    "# input fields for common ipywidgets. \n",
    "# ------------------------------------------------------\n",
    "# ref: https://ipywidgets.readthedocs.io/en/latest/examples/Widget%20List.html\n",
    "# ------------------------------------------------------\n",
    "# _text\n",
    "# _markdown\n",
    "# _floattext\n",
    "# _checkbox\n",
    "# _dropdown\n",
    "# _selectmultiple\n",
    "# _button\n",
    "from markdown import markdown\n",
    "import ipywidgets as widgets\n",
    "\n",
    "# widget for layout constants\n",
    "MF_FORM_ITEM_LAYOUT = widgets.Layout(\n",
    "    display='flex',\n",
    "    flex_flow='row',\n",
    "    justify_content='space-between',\n",
    "    width='100%',\n",
    "    align_items='stretch',\n",
    ")\n",
    "\n",
    "MF_FORM_LAYOUT = widgets.Layout(\n",
    "    display='flex',\n",
    "    flex_flow='column',\n",
    "    border='solid 3px green',\n",
    "    align_items='stretch',\n",
    "    width='60%'\n",
    ")\n",
    "\n",
    "MF_CHECKBOX = {\n",
    "    'layout': widgets.Layout(height='30px', border='dashed 1px'),\n",
    "    'indent': True,\n",
    "}\n",
    "\n",
    "MF_BUTTON = {\n",
    "    'layout': widgets.Layout(height='30px'),\n",
    "}\n",
    "\n",
    "def _text(value=None,\n",
    "          placeholder='Type something',\n",
    "          description=None,\n",
    "          **kwargs):\n",
    "    \"\"\"\n",
    "    a simple template for text input that templates required input\n",
    "    fields. additional user defined fields can be added as kwargs\n",
    "    \"\"\"\n",
    "    _kwargs={}\n",
    "    _kwargs['value'] = value  # required field\n",
    "    _kwargs['placeholder'] = placeholder  # required field\n",
    "    _kwargs['description'] = description\n",
    "    _kwargs = {k: v for k, v in _kwargs.items() if v is not None}\n",
    "    return widgets.Text(**_kwargs)\n",
    "\n",
    "def _markdown(value='_Markdown_',\n",
    "              **kwargs):\n",
    "    \"\"\"\n",
    "    a simple template for markdown text input that templates required input\n",
    "    fields. additional user defined fields can be added as kwargs\n",
    "    \"\"\"\n",
    "    _kwargs = {}\n",
    "    _kwargs['value'] = markdown(value)  # required field\n",
    "    _kwargs.update(kwargs)  # user overides\n",
    "    return widgets.HTML(**_kwargs)\n",
    "\n",
    "def _floattext(value=1,\n",
    "               description=None,\n",
    "               **kwargs):\n",
    "    \"\"\"\n",
    "    a simple template for selectmultiple input that templates required input\n",
    "    fields. additional user defined fields can be added as kwargs\n",
    "    \"\"\"\n",
    "    _kwargs = {}\n",
    "    _kwargs['value'] = value  # required field\n",
    "    _kwargs['description'] = description # required field\n",
    "    _kwargs.update(kwargs)  # user overides\n",
    "    _kwargs = {k: v for k, v in _kwargs.items() if v is not None}\n",
    "    return widgets.FloatText(**_kwargs)\n",
    "\n",
    "def _checkbox(description=None,\n",
    "              **kwargs):\n",
    "    \"\"\"\n",
    "    a simple template for checkbox input that templates required input\n",
    "    fields. additional user defined fields can be added as kwargs\n",
    "    \"\"\"\n",
    "    _kwargs = {}\n",
    "    _kwargs['description']=description # required field\n",
    "    _kwargs.update(kwargs) # user overides\n",
    "    _kwargs = {k: v for k, v in _kwargs.items() if v is not None}\n",
    "    return widgets.Checkbox(**_kwargs)\n",
    "\n",
    "def _dropdown(options=[1, 2, 3],\n",
    "              value=1,\n",
    "              label='label',\n",
    "              tooltip='add tooltip',\n",
    "              **kwargs):\n",
    "    \"\"\"\n",
    "    a simple template for checkbox input that templates required input\n",
    "    fields. additional user defined fields can be added as kwargs\n",
    "    \n",
    "    \"\"\"\n",
    "    _kwargs = {}\n",
    "    _kwargs['options'] = options  # required field\n",
    "    _kwargs['value'] = value  # required field\n",
    "    _kwargs['tooltip'] = tooltip  # required field\n",
    "    _kwargs.update(kwargs)  # user overides\n",
    "    _kwargs = {k: v for k, v in _kwargs.items() if v is not None}\n",
    "    return widgets.Dropdown(**_kwargs)\n",
    "\n",
    "def _selectmultiple(description=None,\n",
    "                    options=[1, 2, 3],\n",
    "                    rows=6,\n",
    "                    **kwargs):\n",
    "    \n",
    "    \"\"\"\n",
    "    a simple template for selectmultiple input that templates required input\n",
    "    fields. additional user defined fields can be added as kwargs\n",
    "    \"\"\"\n",
    "    _kwargs = {}\n",
    "    _kwargs['description'] = description # required field\n",
    "    _kwargs['options'] = options  # required field\n",
    "    _kwargs['rows'] = rows  # required field\n",
    "    _kwargs.update(kwargs)  # user overides\n",
    "    _kwargs = {k: v for k, v in _kwargs.items() if v is not None}\n",
    "    selectmultiple = widgets.SelectMultiple(**_kwargs)\n",
    "    return selectmultiple\n",
    "\n",
    "def _button(label=None,\n",
    "            description='description',\n",
    "            tooltip='add tooltip',\n",
    "            button_style=None,\n",
    "            **kwargs):\n",
    "    \"\"\"\n",
    "    a simple template for button input that templates required input\n",
    "    fields. additional user defined fields can be added as kwargs\n",
    "    \"\"\"\n",
    "    _kwargs = {}\n",
    "    _kwargs['description'] = description  # required field\n",
    "    _kwargs['tooltip'] = tooltip  # required field\n",
    "    _kwargs['button_style'] = button_style  # required field\n",
    "    _kwargs.update(kwargs)  # user overides\n",
    "    _kwargs = {k: v for k, v in _kwargs.items() if v is not None}\n",
    "    return widgets.Button(**_kwargs)\n",
    "\n",
    "def _floatslider(label=None,\n",
    "            description='description',\n",
    "            tooltip='add tooltip',\n",
    "            button_style=None,\n",
    "            **kwargs):\n",
    "    \"\"\"\n",
    "    a simple template for button input that templates required input\n",
    "    fields. additional user defined fields can be added as kwargs\n",
    "    \"\"\"\n",
    "    _kwargs = {}\n",
    "    _kwargs['description'] = description  # required field\n",
    "    _kwargs['tooltip'] = tooltip  # required field\n",
    "    _kwargs['button_style'] = button_style  # required field\n",
    "    _kwargs.update(kwargs)  # user overides\n",
    "    _kwargs = {k: v for k, v in _kwargs.items() if v is not None}\n",
    "    return widgets.Button(**_kwargs)\n",
    "\n",
    "if __name__ =='__main__':\n",
    "    _help = _button(label=None,\n",
    "                    description=None,\n",
    "                    icon='fa-question-circle',\n",
    "                    tooltip='gives guidance',\n",
    "                    style={'font_weight':'bold'},\n",
    "                    layout=widgets.Layout(width='5%'))\n",
    "    display(_help)"
   ]
  }
 ],
 "metadata": {
  "kernelspec": {
   "display_name": "Python [conda env:mf_main] *",
   "language": "python",
   "name": "conda-env-mf_main-py"
  },
  "language_info": {
   "codemirror_mode": {
    "name": "ipython",
    "version": 3
   },
   "file_extension": ".py",
   "mimetype": "text/x-python",
   "name": "python",
   "nbconvert_exporter": "python",
   "pygments_lexer": "ipython3",
   "version": "3.7.7"
  },
  "widgets": {
   "application/vnd.jupyter.widget-state+json": {
    "state": {
     "02730f42e93c406693476f754acb273f": {
      "model_module": "@jupyter-widgets/controls",
      "model_module_version": "1.5.0",
      "model_name": "ButtonModel",
      "state": {
       "icon": "question-circle",
       "layout": "IPY_MODEL_6814596076e641ecba51963ea02b5473",
       "style": "IPY_MODEL_282584502c1e4b2da0470dd840ee906b",
       "tooltip": "gives guidance"
      }
     },
     "282584502c1e4b2da0470dd840ee906b": {
      "model_module": "@jupyter-widgets/controls",
      "model_module_version": "1.5.0",
      "model_name": "ButtonStyleModel",
      "state": {
       "font_weight": "bold"
      }
     },
     "51a0fcd842864000873f5dc09691f550": {
      "model_module": "@jupyter-widgets/base",
      "model_module_version": "1.2.0",
      "model_name": "LayoutModel",
      "state": {
       "height": "30px"
      }
     },
     "6814596076e641ecba51963ea02b5473": {
      "model_module": "@jupyter-widgets/base",
      "model_module_version": "1.2.0",
      "model_name": "LayoutModel",
      "state": {
       "width": "5%"
      }
     },
     "f209461641684a71bd2350db3974601c": {
      "model_module": "@jupyter-widgets/base",
      "model_module_version": "1.2.0",
      "model_name": "LayoutModel",
      "state": {
       "align_items": "stretch",
       "display": "flex",
       "flex_flow": "row",
       "justify_content": "space-between",
       "width": "100%"
      }
     },
     "f3d9a70b92ef4f38a3f5f97613644fba": {
      "model_module": "@jupyter-widgets/base",
      "model_module_version": "1.2.0",
      "model_name": "LayoutModel",
      "state": {
       "align_items": "stretch",
       "border": "solid 3px green",
       "display": "flex",
       "flex_flow": "column",
       "width": "60%"
      }
     },
     "f5c6a53f59cb4954ab5df3f66c904dcc": {
      "model_module": "@jupyter-widgets/base",
      "model_module_version": "1.2.0",
      "model_name": "LayoutModel",
      "state": {
       "border": "dashed 1px",
       "height": "30px"
      }
     }
    },
    "version_major": 2,
    "version_minor": 0
   }
  }
 },
 "nbformat": 4,
 "nbformat_minor": 4
}
